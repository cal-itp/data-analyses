{
 "cells": [
  {
   "cell_type": "markdown",
   "id": "3055b228-034e-4812-a3fc-3b847afb3dec",
   "metadata": {},
   "source": [
    "## Update `trips`\n",
    "* cd rt_segment_speeds && pip install -r requirements.txt && cd ../_shared_utils && make setup_env\n",
    "* https://github.com/cal-itp/data-analyses/pull/1016\n",
    "    * Keep source data + metrics tightly defined with GCS bucket organization.\n",
    "    * vp_usable is source data for rt_vs_sched metrics, do not merge in schedule data until gtfs_digest report. Only bring in schedule_gtfs_dataset_key column in    \n",
    "    * vp_usable + route_id-direction_id for trips also present in schedule. If not in schedule, fill it with route_id = Unknown and direction_id as Int64\n",
    "    * Add function to concatenate trip file, enable us to put in 1 day or 7 days for aggregation\n",
    "    * A single function for normalized metrics (percent, per min, etc)\n",
    "    * A single function for aggregation (summing up numerator / denominator)\n",
    "    \n",
    "* https://github.com/cal-itp/data-analyses/issues/989\n",
    "\n",
    "* Notes 2/6\n",
    "    * GTFS digest creates four datasets: schedule, average speeds, segment speeds, and rt vs schedule\n",
    "    * Currently, merging is challenging.\n",
    "    * Time categories are not necessarily the same (peak/offpeak/all-day)\n",
    "    * Want all datasets to merge on the same set of columns (schedule gtfs key, route id, dir id, service date, and time categories) because `shapes` are unstable.\n",
    "    * `Route ID` has been stabilized by Tiffany \n",
    "    * Update work from `rt_v_scheduled.py` (steps already outlined in `scripts/route_aggregation.ipynb`)\n",
    "        * Do steps up until row 339 when the % are calculated. \n",
    "        * Take away `speeds`.\n",
    "        * Save this \"pre-metric\" data somewhere since it takes so long to run?\n",
    "        * Bring in schedule gtfs key, trip instance key, route id, direction id either at the beginning or the end using `helpers.import_scheduled_trips`\n",
    "        * Coerce DIR ID to Int64, don't fill it in with 0. It's not 0, it's Nan\n",
    "        * Save files with the analysis date at the end instead of the beginning.\n",
    "        * Split off the workstream -> one for trip level and one for route level\n",
    "            * Use the config.yml to save the trips and routes stuff into their own folder.\n",
    "            * Routes:\n",
    "                * For routes, the minutes/pings should be totalled up. Currently, just taking the average of an average isn't really accurate.\n",
    "                * The route level should be able to take multiple days of data and concatenate so we can get metrics for a week/2 weeks/etc instead of for a single day. [Done here](https://github.com/cal-itp/data-analyses/blob/main/rt_segment_speeds/scripts/average_speeds.py)\n",
    "                * Add the route frequency as well?\n",
    "           * Trips:\n",
    "               * Do up to step 339 in `rt_v_scheduled.py`\n",
    "               * Write a new generalized function to create all the % \n",
    "            \n",
    "* Notes 2/12\n",
    "    * Figure out how to set up Config file"
   ]
  },
  {
   "cell_type": "code",
   "execution_count": 73,
   "id": "37ccf2b0-8eb5-426e-8f67-fd461f32fde7",
   "metadata": {},
   "outputs": [],
   "source": [
    "import dask.dataframe as dd\n",
    "import pandas as pd\n",
    "import yaml\n",
    "from segment_speed_utils import gtfs_schedule_wrangling, helpers\n",
    "from segment_speed_utils.project_vars import RT_SCHED_GCS, SEGMENT_GCS\n",
    "from shared_utils import rt_dates"
   ]
  },
  {
   "cell_type": "code",
   "execution_count": 74,
   "id": "31ad188f-c785-40a6-b42d-55510e719835",
   "metadata": {},
   "outputs": [],
   "source": [
    "pd.options.display.max_columns = 100\n",
    "pd.options.display.float_format = \"{:.2f}\".format\n",
    "pd.set_option(\"display.max_rows\", None)\n",
    "pd.set_option(\"display.max_colwidth\", None)"
   ]
  },
  {
   "cell_type": "code",
   "execution_count": 75,
   "id": "b3a071ad-53d9-4753-8592-04a6cc6afdf9",
   "metadata": {},
   "outputs": [],
   "source": [
    "# analysis_date = rt_dates.DATES[\"dec2023\"]"
   ]
  },
  {
   "cell_type": "markdown",
   "id": "4ae34fb7-d952-49aa-94d5-98e5591c61c8",
   "metadata": {},
   "source": [
    "### Load in `rt_v_scheduled_trip` functions"
   ]
  },
  {
   "cell_type": "code",
   "execution_count": 76,
   "id": "ba37b6e9-bec7-493b-a025-8d5d6a93dbb2",
   "metadata": {},
   "outputs": [],
   "source": [
    "dec_df = pd.read_parquet(\"./ah_testing_2023-12-01.parquet\")"
   ]
  },
  {
   "cell_type": "code",
   "execution_count": 77,
   "id": "4584585f-468d-4218-8caf-de04f9de6f57",
   "metadata": {},
   "outputs": [
    {
     "data": {
      "text/html": [
       "<div>\n",
       "<style scoped>\n",
       "    .dataframe tbody tr th:only-of-type {\n",
       "        vertical-align: middle;\n",
       "    }\n",
       "\n",
       "    .dataframe tbody tr th {\n",
       "        vertical-align: top;\n",
       "    }\n",
       "\n",
       "    .dataframe thead th {\n",
       "        text-align: right;\n",
       "    }\n",
       "</style>\n",
       "<table border=\"1\" class=\"dataframe\">\n",
       "  <thead>\n",
       "    <tr style=\"text-align: right;\">\n",
       "      <th></th>\n",
       "      <th>schedule_gtfs_dataset_key</th>\n",
       "      <th>trip_instance_key</th>\n",
       "      <th>rt_service_min</th>\n",
       "      <th>min_w_atleast2_trip_updates</th>\n",
       "      <th>total_pings_for_trip</th>\n",
       "      <th>total_min_w_gtfs</th>\n",
       "      <th>total_vp</th>\n",
       "      <th>vp_in_shape</th>\n",
       "    </tr>\n",
       "  </thead>\n",
       "  <tbody>\n",
       "    <tr>\n",
       "      <th>53008</th>\n",
       "      <td>baeeb157e85a901e47b828ef9fe75091</td>\n",
       "      <td>d64ae007985922e56621dbbd9cee440d</td>\n",
       "      <td>25.68</td>\n",
       "      <td>24</td>\n",
       "      <td>55</td>\n",
       "      <td>25</td>\n",
       "      <td>55.00</td>\n",
       "      <td>55.00</td>\n",
       "    </tr>\n",
       "  </tbody>\n",
       "</table>\n",
       "</div>"
      ],
      "text/plain": [
       "              schedule_gtfs_dataset_key                 trip_instance_key  \\\n",
       "53008  baeeb157e85a901e47b828ef9fe75091  d64ae007985922e56621dbbd9cee440d   \n",
       "\n",
       "       rt_service_min  min_w_atleast2_trip_updates  total_pings_for_trip  \\\n",
       "53008           25.68                           24                    55   \n",
       "\n",
       "       total_min_w_gtfs  total_vp  vp_in_shape  \n",
       "53008                25     55.00        55.00  "
      ]
     },
     "execution_count": 77,
     "metadata": {},
     "output_type": "execute_result"
    }
   ],
   "source": [
    "dec_df.sample()"
   ]
  },
  {
   "cell_type": "code",
   "execution_count": 78,
   "id": "3cdce191-842c-42d0-953a-8e61af19f767",
   "metadata": {},
   "outputs": [],
   "source": [
    "nov_df = pd.read_parquet(\"./ah_testing_2023-11-15.parquet\")"
   ]
  },
  {
   "cell_type": "code",
   "execution_count": 79,
   "id": "204d6953-77b9-4062-b227-4a5bb18ef1ff",
   "metadata": {},
   "outputs": [
    {
     "data": {
      "text/html": [
       "<div>\n",
       "<style scoped>\n",
       "    .dataframe tbody tr th:only-of-type {\n",
       "        vertical-align: middle;\n",
       "    }\n",
       "\n",
       "    .dataframe tbody tr th {\n",
       "        vertical-align: top;\n",
       "    }\n",
       "\n",
       "    .dataframe thead th {\n",
       "        text-align: right;\n",
       "    }\n",
       "</style>\n",
       "<table border=\"1\" class=\"dataframe\">\n",
       "  <thead>\n",
       "    <tr style=\"text-align: right;\">\n",
       "      <th></th>\n",
       "      <th>schedule_gtfs_dataset_key</th>\n",
       "      <th>trip_instance_key</th>\n",
       "      <th>rt_service_min</th>\n",
       "      <th>min_w_atleast2_trip_updates</th>\n",
       "      <th>total_pings_for_trip</th>\n",
       "      <th>total_min_w_gtfs</th>\n",
       "      <th>total_vp</th>\n",
       "      <th>vp_in_shape</th>\n",
       "    </tr>\n",
       "  </thead>\n",
       "  <tbody>\n",
       "    <tr>\n",
       "      <th>64508</th>\n",
       "      <td>cf0f7df88da36cd9ca4248eb1d6a0f39</td>\n",
       "      <td>8f50ebbbf74960f56852f0bca654644a</td>\n",
       "      <td>43.37</td>\n",
       "      <td>43</td>\n",
       "      <td>128</td>\n",
       "      <td>43</td>\n",
       "      <td>128.00</td>\n",
       "      <td>124.00</td>\n",
       "    </tr>\n",
       "  </tbody>\n",
       "</table>\n",
       "</div>"
      ],
      "text/plain": [
       "              schedule_gtfs_dataset_key                 trip_instance_key  \\\n",
       "64508  cf0f7df88da36cd9ca4248eb1d6a0f39  8f50ebbbf74960f56852f0bca654644a   \n",
       "\n",
       "       rt_service_min  min_w_atleast2_trip_updates  total_pings_for_trip  \\\n",
       "64508           43.37                           43                   128   \n",
       "\n",
       "       total_min_w_gtfs  total_vp  vp_in_shape  \n",
       "64508                43    128.00       124.00  "
      ]
     },
     "execution_count": 79,
     "metadata": {},
     "output_type": "execute_result"
    }
   ],
   "source": [
    "nov_df.sample()"
   ]
  },
  {
   "cell_type": "markdown",
   "id": "ade46b33-4939-4709-ae10-b9b31ef3a915",
   "metadata": {},
   "source": [
    "### Add back routes-schedule-trip instance\n",
    "* This will go into rt_v_scheduled.trip"
   ]
  },
  {
   "cell_type": "code",
   "execution_count": 80,
   "id": "9e2fda72-be3d-4617-9dba-0cfff03d061f",
   "metadata": {},
   "outputs": [],
   "source": [
    "GCS_FILE_PATH = \"gs://calitp-analytics-data/data-analyses/\"\n",
    "COMPILED_CACHED_VIEWS = f\"{GCS_FILE_PATH}rt_delay/compiled_cached_views/\""
   ]
  },
  {
   "cell_type": "code",
   "execution_count": 81,
   "id": "429ec983-104e-436d-bfb7-7add668a6bf1",
   "metadata": {},
   "outputs": [],
   "source": [
    "# FILE = f\"{COMPILED_CACHED_VIEWS}trips_{analysis_date}.parquet\"\n",
    "# RENAME_DICT = {\"gtfs_dataset_key\": \"schedule_gtfs_dataset_key\"}"
   ]
  },
  {
   "cell_type": "code",
   "execution_count": 82,
   "id": "72bf86a6-2084-4842-9d40-37693ce1847b",
   "metadata": {},
   "outputs": [],
   "source": [
    "# routes_df_og = pd.read_parquet(FILE)"
   ]
  },
  {
   "cell_type": "code",
   "execution_count": 83,
   "id": "5209737a-a0bd-4e9d-a209-8625d458d9db",
   "metadata": {},
   "outputs": [],
   "source": [
    "# routes_df_og.sample()"
   ]
  },
  {
   "cell_type": "markdown",
   "id": "a2e136ed-5a83-4215-9989-695bf376b855",
   "metadata": {},
   "source": [
    "#### Notes/Questions\n",
    "* How come we want to do the inner join?\n",
    "    `df3 = pd.merge(df2, time_buckets, on=[\"trip_instance_key\"], how=\"inner\")`\n",
    "* Am I supposed to add back speeds?"
   ]
  },
  {
   "cell_type": "code",
   "execution_count": 84,
   "id": "37554094-9b18-4089-a5be-df26175545ac",
   "metadata": {},
   "outputs": [],
   "source": [
    "def temp_function(df, analysis_date:str):\n",
    "    routes_df = helpers.import_scheduled_trips(\n",
    "    analysis_date,\n",
    "    columns=[\n",
    "        \"gtfs_dataset_key\",\n",
    "        \"route_id\",\n",
    "        \"direction_id\",\n",
    "        \"trip_instance_key\",\n",
    "    ],\n",
    "    get_pandas=True\n",
    "    )\n",
    "    \n",
    "    df2 = pd.merge(\n",
    "    df,\n",
    "    routes_df,\n",
    "    on=[\"schedule_gtfs_dataset_key\", \"trip_instance_key\"],\n",
    "    how=\"left\",\n",
    "    indicator=\"sched_rt_category\")\n",
    "    \n",
    "    \n",
    "    df2 = df2.assign(\n",
    "    route_id=df2.route_id.fillna(\"Unknown\"),\n",
    "    direction_id=df2.direction_id.astype(\"Int64\"),\n",
    "    sched_rt_category=df2.apply(\n",
    "        lambda x: \"vp_only\" if x.sched_rt_category == \"left_only\" else \"vp_sched\",\n",
    "        axis=1,\n",
    "    ))\n",
    "    \n",
    "    display(df2.sched_rt_category.value_counts())\n",
    "    \n",
    "    time_buckets = (gtfs_schedule_wrangling\n",
    "                    .get_trip_time_buckets(analysis_date)[\n",
    "    [\"trip_instance_key\", \"time_of_day\", \"service_minutes\"]]\n",
    "                    .pipe(gtfs_schedule_wrangling.add_peak_offpeak_column)\n",
    "                    [['trip_instance_key', 'service_minutes', 'peak_offpeak']])\n",
    "    #### How come we want to do the inner join?\n",
    "    df3 = pd.merge(df2, time_buckets, on=[\"trip_instance_key\"], how=\"inner\")\n",
    "    return df3"
   ]
  },
  {
   "cell_type": "code",
   "execution_count": 85,
   "id": "409083db-4be5-4d08-b472-7ae3e436354d",
   "metadata": {},
   "outputs": [
    {
     "data": {
      "text/plain": [
       "'2023-11-15'"
      ]
     },
     "execution_count": 85,
     "metadata": {},
     "output_type": "execute_result"
    }
   ],
   "source": [
    "rt_dates.DATES[\"nov2023\"]"
   ]
  },
  {
   "cell_type": "code",
   "execution_count": 86,
   "id": "549a0dbb-0e77-4dfa-bece-db72763bb81f",
   "metadata": {},
   "outputs": [
    {
     "data": {
      "text/plain": [
       "vp_sched    78190\n",
       "vp_only      8642\n",
       "Name: sched_rt_category, dtype: int64"
      ]
     },
     "metadata": {},
     "output_type": "display_data"
    }
   ],
   "source": [
    "nov_df2 = temp_function(nov_df, rt_dates.DATES[\"nov2023\"])"
   ]
  },
  {
   "cell_type": "code",
   "execution_count": 87,
   "id": "04478dc2-7278-462c-bc0e-6ec4d4efdff7",
   "metadata": {},
   "outputs": [
    {
     "data": {
      "text/html": [
       "<div>\n",
       "<style scoped>\n",
       "    .dataframe tbody tr th:only-of-type {\n",
       "        vertical-align: middle;\n",
       "    }\n",
       "\n",
       "    .dataframe tbody tr th {\n",
       "        vertical-align: top;\n",
       "    }\n",
       "\n",
       "    .dataframe thead th {\n",
       "        text-align: right;\n",
       "    }\n",
       "</style>\n",
       "<table border=\"1\" class=\"dataframe\">\n",
       "  <thead>\n",
       "    <tr style=\"text-align: right;\">\n",
       "      <th></th>\n",
       "      <th>schedule_gtfs_dataset_key</th>\n",
       "      <th>trip_instance_key</th>\n",
       "      <th>rt_service_min</th>\n",
       "      <th>min_w_atleast2_trip_updates</th>\n",
       "      <th>total_pings_for_trip</th>\n",
       "      <th>total_min_w_gtfs</th>\n",
       "      <th>total_vp</th>\n",
       "      <th>vp_in_shape</th>\n",
       "      <th>route_id</th>\n",
       "      <th>direction_id</th>\n",
       "      <th>sched_rt_category</th>\n",
       "      <th>service_minutes</th>\n",
       "      <th>peak_offpeak</th>\n",
       "    </tr>\n",
       "  </thead>\n",
       "  <tbody>\n",
       "    <tr>\n",
       "      <th>11360</th>\n",
       "      <td>9809d3f8121513057bc5cb8de7b54ce2</td>\n",
       "      <td>9c6e52563021b64280d19f1eb6724561</td>\n",
       "      <td>33.68</td>\n",
       "      <td>9</td>\n",
       "      <td>26</td>\n",
       "      <td>16</td>\n",
       "      <td>26.00</td>\n",
       "      <td>25.00</td>\n",
       "      <td>034-131</td>\n",
       "      <td>0</td>\n",
       "      <td>vp_sched</td>\n",
       "      <td>24.00</td>\n",
       "      <td>offpeak</td>\n",
       "    </tr>\n",
       "  </tbody>\n",
       "</table>\n",
       "</div>"
      ],
      "text/plain": [
       "              schedule_gtfs_dataset_key                 trip_instance_key  \\\n",
       "11360  9809d3f8121513057bc5cb8de7b54ce2  9c6e52563021b64280d19f1eb6724561   \n",
       "\n",
       "       rt_service_min  min_w_atleast2_trip_updates  total_pings_for_trip  \\\n",
       "11360           33.68                            9                    26   \n",
       "\n",
       "       total_min_w_gtfs  total_vp  vp_in_shape route_id  direction_id  \\\n",
       "11360                16     26.00        25.00  034-131             0   \n",
       "\n",
       "      sched_rt_category  service_minutes peak_offpeak  \n",
       "11360          vp_sched            24.00      offpeak  "
      ]
     },
     "execution_count": 87,
     "metadata": {},
     "output_type": "execute_result"
    }
   ],
   "source": [
    "nov_df2.sample()"
   ]
  },
  {
   "cell_type": "code",
   "execution_count": 88,
   "id": "1dee46f1-8a47-4128-84f1-2b3399fa43c9",
   "metadata": {},
   "outputs": [
    {
     "data": {
      "text/plain": [
       "vp_sched    78190\n",
       "Name: sched_rt_category, dtype: int64"
      ]
     },
     "execution_count": 88,
     "metadata": {},
     "output_type": "execute_result"
    }
   ],
   "source": [
    "nov_df2.sched_rt_category.value_counts()"
   ]
  },
  {
   "cell_type": "code",
   "execution_count": 89,
   "id": "c72ca5a5-4692-4df2-8e16-7686f09d0371",
   "metadata": {},
   "outputs": [
    {
     "data": {
      "text/plain": [
       "vp_sched    77977\n",
       "vp_only      8151\n",
       "Name: sched_rt_category, dtype: int64"
      ]
     },
     "metadata": {},
     "output_type": "display_data"
    }
   ],
   "source": [
    "dec_df2 = temp_function(dec_df, rt_dates.DATES[\"dec2023\"])"
   ]
  },
  {
   "cell_type": "code",
   "execution_count": 90,
   "id": "14bb7b73-3089-4f5d-b95f-14f5741a3ed8",
   "metadata": {},
   "outputs": [
    {
     "data": {
      "text/plain": [
       "vp_sched    77977\n",
       "Name: sched_rt_category, dtype: int64"
      ]
     },
     "execution_count": 90,
     "metadata": {},
     "output_type": "execute_result"
    }
   ],
   "source": [
    "dec_df2.sched_rt_category.value_counts()"
   ]
  },
  {
   "cell_type": "code",
   "execution_count": 91,
   "id": "7549036c-7c3d-4c28-9b4b-84cd3457ea79",
   "metadata": {},
   "outputs": [],
   "source": [
    "dec_df2.to_parquet(\"./concat_test_2023-12-01.parquet\")"
   ]
  },
  {
   "cell_type": "code",
   "execution_count": 92,
   "id": "342dd5b3-2f4a-4e62-9997-0f2a5da91a47",
   "metadata": {},
   "outputs": [],
   "source": [
    "nov_df2.to_parquet(\"./concat_test_2023-11-15.parquet\")"
   ]
  },
  {
   "cell_type": "code",
   "execution_count": 93,
   "id": "a3b4d5f4-40b4-48c2-bbbc-52f1324abc50",
   "metadata": {},
   "outputs": [
    {
     "data": {
      "text/html": [
       "<div>\n",
       "<style scoped>\n",
       "    .dataframe tbody tr th:only-of-type {\n",
       "        vertical-align: middle;\n",
       "    }\n",
       "\n",
       "    .dataframe tbody tr th {\n",
       "        vertical-align: top;\n",
       "    }\n",
       "\n",
       "    .dataframe thead th {\n",
       "        text-align: right;\n",
       "    }\n",
       "</style>\n",
       "<table border=\"1\" class=\"dataframe\">\n",
       "  <thead>\n",
       "    <tr style=\"text-align: right;\">\n",
       "      <th></th>\n",
       "      <th>schedule_gtfs_dataset_key</th>\n",
       "      <th>trip_instance_key</th>\n",
       "      <th>rt_service_min</th>\n",
       "      <th>min_w_atleast2_trip_updates</th>\n",
       "      <th>total_pings_for_trip</th>\n",
       "      <th>total_min_w_gtfs</th>\n",
       "      <th>total_vp</th>\n",
       "      <th>vp_in_shape</th>\n",
       "      <th>route_id</th>\n",
       "      <th>direction_id</th>\n",
       "      <th>sched_rt_category</th>\n",
       "      <th>service_minutes</th>\n",
       "      <th>peak_offpeak</th>\n",
       "    </tr>\n",
       "  </thead>\n",
       "  <tbody>\n",
       "    <tr>\n",
       "      <th>13180</th>\n",
       "      <td>1c7027faabfeec976ea388973100bcf3</td>\n",
       "      <td>eead101b073c18844020a706b249f6dd</td>\n",
       "      <td>39.50</td>\n",
       "      <td>25</td>\n",
       "      <td>57</td>\n",
       "      <td>32</td>\n",
       "      <td>57.00</td>\n",
       "      <td>57.00</td>\n",
       "      <td>40</td>\n",
       "      <td>1</td>\n",
       "      <td>vp_sched</td>\n",
       "      <td>28.00</td>\n",
       "      <td>offpeak</td>\n",
       "    </tr>\n",
       "  </tbody>\n",
       "</table>\n",
       "</div>"
      ],
      "text/plain": [
       "              schedule_gtfs_dataset_key                 trip_instance_key  \\\n",
       "13180  1c7027faabfeec976ea388973100bcf3  eead101b073c18844020a706b249f6dd   \n",
       "\n",
       "       rt_service_min  min_w_atleast2_trip_updates  total_pings_for_trip  \\\n",
       "13180           39.50                           25                    57   \n",
       "\n",
       "       total_min_w_gtfs  total_vp  vp_in_shape route_id  direction_id  \\\n",
       "13180                32     57.00        57.00       40             1   \n",
       "\n",
       "      sched_rt_category  service_minutes peak_offpeak  \n",
       "13180          vp_sched            28.00      offpeak  "
      ]
     },
     "execution_count": 93,
     "metadata": {},
     "output_type": "execute_result"
    }
   ],
   "source": [
    "dec_df2.sample()"
   ]
  },
  {
   "cell_type": "markdown",
   "id": "39cd76fc-4e0b-4adf-9e41-ee1c19f42da3",
   "metadata": {},
   "source": [
    "### Trips: add back metrics"
   ]
  },
  {
   "cell_type": "code",
   "execution_count": 94,
   "id": "1b1208f5-71c6-4652-ae5e-75c94446465d",
   "metadata": {},
   "outputs": [],
   "source": [
    "def add_metrics(df: pd.DataFrame) -> pd.DataFrame:\n",
    "\n",
    "    df[\"pings_per_min\"] = df.total_pings_for_trip / df.rt_service_min\n",
    "    df[\"spatial_accuracy_pct\"] = (df.vp_in_shape / df.total_vp) * 100\n",
    "    df[\"rt_triptime_w_gtfs_pct\"] = (df.total_min_w_gtfs / df.rt_service_min) * 100\n",
    "    df[\"rt_v_scheduled_trip_time_pct\"] = (\n",
    "        df.rt_service_min / df.service_minutes - 1\n",
    "    ) * 100\n",
    "\n",
    "    # Mask rt_triptime_w_gtfs_pct for any values above 100%\n",
    "    df.rt_triptime_w_gtfs_pct = df.rt_triptime_w_gtfs_pct.mask(\n",
    "        df.rt_triptime_w_gtfs_pct > 100\n",
    "    ).fillna(100)\n",
    "    \n",
    "    drop_cols = ['total_pings_for_trip',\n",
    "                'vp_in_shape',\n",
    "                'total_vp',\n",
    "                'total_min_w_gtfs']\n",
    "    df = df.drop(columns = drop_cols)\n",
    "    return df"
   ]
  },
  {
   "cell_type": "code",
   "execution_count": 95,
   "id": "5d6aa90e-75e8-4b9a-bafe-55d1ce4f46a8",
   "metadata": {},
   "outputs": [],
   "source": [
    "dec_trip = add_metrics(dec_df2)"
   ]
  },
  {
   "cell_type": "code",
   "execution_count": 96,
   "id": "25f2673e-9f16-4151-8188-2e81a5d4ac54",
   "metadata": {},
   "outputs": [],
   "source": [
    "nov_trip = add_metrics(nov_df2)"
   ]
  },
  {
   "cell_type": "code",
   "execution_count": 97,
   "id": "99708cee-6784-4bbb-bccb-3a4e835b2604",
   "metadata": {},
   "outputs": [
    {
     "data": {
      "text/html": [
       "<div>\n",
       "<style scoped>\n",
       "    .dataframe tbody tr th:only-of-type {\n",
       "        vertical-align: middle;\n",
       "    }\n",
       "\n",
       "    .dataframe tbody tr th {\n",
       "        vertical-align: top;\n",
       "    }\n",
       "\n",
       "    .dataframe thead th {\n",
       "        text-align: right;\n",
       "    }\n",
       "</style>\n",
       "<table border=\"1\" class=\"dataframe\">\n",
       "  <thead>\n",
       "    <tr style=\"text-align: right;\">\n",
       "      <th></th>\n",
       "      <th>schedule_gtfs_dataset_key</th>\n",
       "      <th>trip_instance_key</th>\n",
       "      <th>rt_service_min</th>\n",
       "      <th>min_w_atleast2_trip_updates</th>\n",
       "      <th>route_id</th>\n",
       "      <th>direction_id</th>\n",
       "      <th>sched_rt_category</th>\n",
       "      <th>service_minutes</th>\n",
       "      <th>peak_offpeak</th>\n",
       "      <th>pings_per_min</th>\n",
       "      <th>spatial_accuracy_pct</th>\n",
       "      <th>rt_triptime_w_gtfs_pct</th>\n",
       "      <th>rt_v_scheduled_trip_time_pct</th>\n",
       "    </tr>\n",
       "  </thead>\n",
       "  <tbody>\n",
       "    <tr>\n",
       "      <th>39499</th>\n",
       "      <td>d9272b05e39a35ce5f7e774170e94ff1</td>\n",
       "      <td>0a9687e156cf0f219ce259d3a0490b99</td>\n",
       "      <td>52.97</td>\n",
       "      <td>52</td>\n",
       "      <td>47</td>\n",
       "      <td>0</td>\n",
       "      <td>vp_sched</td>\n",
       "      <td>46.00</td>\n",
       "      <td>peak</td>\n",
       "      <td>2.96</td>\n",
       "      <td>91.72</td>\n",
       "      <td>100.00</td>\n",
       "      <td>15.14</td>\n",
       "    </tr>\n",
       "  </tbody>\n",
       "</table>\n",
       "</div>"
      ],
      "text/plain": [
       "              schedule_gtfs_dataset_key                 trip_instance_key  \\\n",
       "39499  d9272b05e39a35ce5f7e774170e94ff1  0a9687e156cf0f219ce259d3a0490b99   \n",
       "\n",
       "       rt_service_min  min_w_atleast2_trip_updates route_id  direction_id  \\\n",
       "39499           52.97                           52       47             0   \n",
       "\n",
       "      sched_rt_category  service_minutes peak_offpeak  pings_per_min  \\\n",
       "39499          vp_sched            46.00         peak           2.96   \n",
       "\n",
       "       spatial_accuracy_pct  rt_triptime_w_gtfs_pct  \\\n",
       "39499                 91.72                  100.00   \n",
       "\n",
       "       rt_v_scheduled_trip_time_pct  \n",
       "39499                         15.14  "
      ]
     },
     "execution_count": 97,
     "metadata": {},
     "output_type": "execute_result"
    }
   ],
   "source": [
    "nov_trip.sample()"
   ]
  },
  {
   "cell_type": "markdown",
   "id": "cef97b80-f606-4d4e-b9da-cc3b1742093f",
   "metadata": {
    "tags": []
   },
   "source": [
    "### Routes add multiple days"
   ]
  },
  {
   "cell_type": "code",
   "execution_count": 98,
   "id": "0b198336-cd79-4167-ae59-f1e568977bcb",
   "metadata": {},
   "outputs": [],
   "source": [
    "def concatenate_trip_segment_speeds(\n",
    "    analysis_date_list: list\n",
    ") -> pd.DataFrame:\n",
    "    \"\"\"\n",
    "    Concatenate the speed-trip parquets together, \n",
    "    whether it's for single day or multi-day averages.\n",
    "    Add columns for peak_offpeak, weekday_weekend based \n",
    "    on day of week and time-of-day.\n",
    "    \"\"\"\n",
    "    \"\"\"\n",
    "    SPEED_FILE = dict_inputs[\"stage4\"]\n",
    "  \n",
    "    df = pd.concat([\n",
    "        pd.read_parquet(\n",
    "            f\"{SEGMENT_GCS}{SPEED_FILE}_{analysis_date}.parquet\").assign(\n",
    "            service_date = pd.to_datetime(analysis_date)\n",
    "        ) for analysis_date in analysis_date_list], \n",
    "        axis=0, ignore_index = True\n",
    "    )\n",
    "    \"\"\"\n",
    "    df = pd.concat([\n",
    "        pd.read_parquet(\n",
    "            f\"./concat_test_{analysis_date}.parquet\").assign(\n",
    "            service_date = pd.to_datetime(analysis_date)\n",
    "        ) for analysis_date in analysis_date_list], \n",
    "        axis=0, ignore_index = True\n",
    "    )\n",
    "    return df"
   ]
  },
  {
   "cell_type": "code",
   "execution_count": 99,
   "id": "2922c525-e4d0-4408-b489-0361d48051de",
   "metadata": {},
   "outputs": [],
   "source": [
    "all_routes = concatenate_trip_segment_speeds(['2023-11-15', '2023-12-01'])"
   ]
  },
  {
   "cell_type": "code",
   "execution_count": 100,
   "id": "dfccda73-48a8-4ac7-9536-0c9a11891422",
   "metadata": {},
   "outputs": [
    {
     "data": {
      "text/plain": [
       "vp_sched    156167\n",
       "Name: sched_rt_category, dtype: int64"
      ]
     },
     "execution_count": 100,
     "metadata": {},
     "output_type": "execute_result"
    }
   ],
   "source": [
    "all_routes.sched_rt_category.value_counts()"
   ]
  },
  {
   "cell_type": "code",
   "execution_count": 101,
   "id": "3668ce57-f084-424a-80c2-44fa87522323",
   "metadata": {},
   "outputs": [
    {
     "data": {
      "text/html": [
       "<div>\n",
       "<style scoped>\n",
       "    .dataframe tbody tr th:only-of-type {\n",
       "        vertical-align: middle;\n",
       "    }\n",
       "\n",
       "    .dataframe tbody tr th {\n",
       "        vertical-align: top;\n",
       "    }\n",
       "\n",
       "    .dataframe thead th {\n",
       "        text-align: right;\n",
       "    }\n",
       "</style>\n",
       "<table border=\"1\" class=\"dataframe\">\n",
       "  <thead>\n",
       "    <tr style=\"text-align: right;\">\n",
       "      <th></th>\n",
       "      <th>schedule_gtfs_dataset_key</th>\n",
       "      <th>trip_instance_key</th>\n",
       "      <th>rt_service_min</th>\n",
       "      <th>min_w_atleast2_trip_updates</th>\n",
       "      <th>total_pings_for_trip</th>\n",
       "      <th>total_min_w_gtfs</th>\n",
       "      <th>total_vp</th>\n",
       "      <th>vp_in_shape</th>\n",
       "      <th>route_id</th>\n",
       "      <th>direction_id</th>\n",
       "      <th>sched_rt_category</th>\n",
       "      <th>service_minutes</th>\n",
       "      <th>peak_offpeak</th>\n",
       "      <th>service_date</th>\n",
       "    </tr>\n",
       "  </thead>\n",
       "  <tbody>\n",
       "    <tr>\n",
       "      <th>0</th>\n",
       "      <td>63029a23cb0e73f2a5d98a345c5e2e40</td>\n",
       "      <td>56f15f118776aaafbf3a1c69c5821c14</td>\n",
       "      <td>62.38</td>\n",
       "      <td>62</td>\n",
       "      <td>185</td>\n",
       "      <td>63</td>\n",
       "      <td>185.00</td>\n",
       "      <td>144.00</td>\n",
       "      <td>3428</td>\n",
       "      <td>1</td>\n",
       "      <td>vp_sched</td>\n",
       "      <td>58.00</td>\n",
       "      <td>offpeak</td>\n",
       "      <td>2023-11-15</td>\n",
       "    </tr>\n",
       "    <tr>\n",
       "      <th>1</th>\n",
       "      <td>63029a23cb0e73f2a5d98a345c5e2e40</td>\n",
       "      <td>4244cbaa19bdbc3f6e4cc95cb792ccb0</td>\n",
       "      <td>67.70</td>\n",
       "      <td>67</td>\n",
       "      <td>201</td>\n",
       "      <td>68</td>\n",
       "      <td>201.00</td>\n",
       "      <td>147.00</td>\n",
       "      <td>3428</td>\n",
       "      <td>1</td>\n",
       "      <td>vp_sched</td>\n",
       "      <td>58.00</td>\n",
       "      <td>offpeak</td>\n",
       "      <td>2023-11-15</td>\n",
       "    </tr>\n",
       "    <tr>\n",
       "      <th>2</th>\n",
       "      <td>63029a23cb0e73f2a5d98a345c5e2e40</td>\n",
       "      <td>ce51c00d412991d09ad1de4ea2715f6e</td>\n",
       "      <td>127.38</td>\n",
       "      <td>127</td>\n",
       "      <td>377</td>\n",
       "      <td>127</td>\n",
       "      <td>377.00</td>\n",
       "      <td>207.00</td>\n",
       "      <td>3428</td>\n",
       "      <td>0</td>\n",
       "      <td>vp_sched</td>\n",
       "      <td>58.00</td>\n",
       "      <td>peak</td>\n",
       "      <td>2023-11-15</td>\n",
       "    </tr>\n",
       "    <tr>\n",
       "      <th>3</th>\n",
       "      <td>63029a23cb0e73f2a5d98a345c5e2e40</td>\n",
       "      <td>d01f03119c56bdda01210558a6f25ec2</td>\n",
       "      <td>152.02</td>\n",
       "      <td>151</td>\n",
       "      <td>449</td>\n",
       "      <td>151</td>\n",
       "      <td>449.00</td>\n",
       "      <td>186.00</td>\n",
       "      <td>3428</td>\n",
       "      <td>0</td>\n",
       "      <td>vp_sched</td>\n",
       "      <td>58.00</td>\n",
       "      <td>peak</td>\n",
       "      <td>2023-11-15</td>\n",
       "    </tr>\n",
       "    <tr>\n",
       "      <th>4</th>\n",
       "      <td>63029a23cb0e73f2a5d98a345c5e2e40</td>\n",
       "      <td>90e793547709584c8921f0786f9d310f</td>\n",
       "      <td>76.30</td>\n",
       "      <td>75</td>\n",
       "      <td>227</td>\n",
       "      <td>76</td>\n",
       "      <td>227.00</td>\n",
       "      <td>124.00</td>\n",
       "      <td>3429</td>\n",
       "      <td>1</td>\n",
       "      <td>vp_sched</td>\n",
       "      <td>55.00</td>\n",
       "      <td>offpeak</td>\n",
       "      <td>2023-11-15</td>\n",
       "    </tr>\n",
       "  </tbody>\n",
       "</table>\n",
       "</div>"
      ],
      "text/plain": [
       "          schedule_gtfs_dataset_key                 trip_instance_key  \\\n",
       "0  63029a23cb0e73f2a5d98a345c5e2e40  56f15f118776aaafbf3a1c69c5821c14   \n",
       "1  63029a23cb0e73f2a5d98a345c5e2e40  4244cbaa19bdbc3f6e4cc95cb792ccb0   \n",
       "2  63029a23cb0e73f2a5d98a345c5e2e40  ce51c00d412991d09ad1de4ea2715f6e   \n",
       "3  63029a23cb0e73f2a5d98a345c5e2e40  d01f03119c56bdda01210558a6f25ec2   \n",
       "4  63029a23cb0e73f2a5d98a345c5e2e40  90e793547709584c8921f0786f9d310f   \n",
       "\n",
       "   rt_service_min  min_w_atleast2_trip_updates  total_pings_for_trip  \\\n",
       "0           62.38                           62                   185   \n",
       "1           67.70                           67                   201   \n",
       "2          127.38                          127                   377   \n",
       "3          152.02                          151                   449   \n",
       "4           76.30                           75                   227   \n",
       "\n",
       "   total_min_w_gtfs  total_vp  vp_in_shape route_id  direction_id  \\\n",
       "0                63    185.00       144.00     3428             1   \n",
       "1                68    201.00       147.00     3428             1   \n",
       "2               127    377.00       207.00     3428             0   \n",
       "3               151    449.00       186.00     3428             0   \n",
       "4                76    227.00       124.00     3429             1   \n",
       "\n",
       "  sched_rt_category  service_minutes peak_offpeak service_date  \n",
       "0          vp_sched            58.00      offpeak   2023-11-15  \n",
       "1          vp_sched            58.00      offpeak   2023-11-15  \n",
       "2          vp_sched            58.00         peak   2023-11-15  \n",
       "3          vp_sched            58.00         peak   2023-11-15  \n",
       "4          vp_sched            55.00      offpeak   2023-11-15  "
      ]
     },
     "execution_count": 101,
     "metadata": {},
     "output_type": "execute_result"
    }
   ],
   "source": [
    "all_routes.head()"
   ]
  },
  {
   "cell_type": "code",
   "execution_count": 102,
   "id": "e8ccea1f-7ce5-42f6-80f5-e59c67a94cd8",
   "metadata": {},
   "outputs": [
    {
     "name": "stdout",
     "output_type": "stream",
     "text": [
      "<class 'pandas.core.frame.DataFrame'>\n",
      "RangeIndex: 156167 entries, 0 to 156166\n",
      "Data columns (total 14 columns):\n",
      " #   Column                       Non-Null Count   Dtype         \n",
      "---  ------                       --------------   -----         \n",
      " 0   schedule_gtfs_dataset_key    156167 non-null  object        \n",
      " 1   trip_instance_key            156167 non-null  object        \n",
      " 2   rt_service_min               156167 non-null  float64       \n",
      " 3   min_w_atleast2_trip_updates  156167 non-null  int64         \n",
      " 4   total_pings_for_trip         156167 non-null  int64         \n",
      " 5   total_min_w_gtfs             156167 non-null  int64         \n",
      " 6   total_vp                     149500 non-null  float64       \n",
      " 7   vp_in_shape                  149500 non-null  float64       \n",
      " 8   route_id                     156167 non-null  object        \n",
      " 9   direction_id                 153098 non-null  Int64         \n",
      " 10  sched_rt_category            156167 non-null  object        \n",
      " 11  service_minutes              156167 non-null  float64       \n",
      " 12  peak_offpeak                 156167 non-null  object        \n",
      " 13  service_date                 156167 non-null  datetime64[ns]\n",
      "dtypes: Int64(1), datetime64[ns](1), float64(4), int64(3), object(5)\n",
      "memory usage: 16.8+ MB\n"
     ]
    }
   ],
   "source": [
    "all_routes.info()"
   ]
  },
  {
   "cell_type": "markdown",
   "id": "ff027fe6-477d-4bd9-988d-95c85c4cc9b0",
   "metadata": {},
   "source": [
    "#### Add back metrics"
   ]
  },
  {
   "cell_type": "code",
   "execution_count": 103,
   "id": "5e5a406b-4034-4a94-9a92-1e2eccde606c",
   "metadata": {},
   "outputs": [],
   "source": [
    "def weighted_average_function(df: pd.DataFrame, group_cols: list):\n",
    "    sum_cols = [\n",
    "        \"total_min_w_gtfs\",\n",
    "        \"rt_service_min\",\n",
    "        \"total_pings_for_trip\",\n",
    "        \"service_minutes\",\n",
    "        \"total_vp\",\n",
    "        \"vp_in_shape\",\n",
    "    ]\n",
    "\n",
    "    count_cols = [\"trip_instance_key\"]\n",
    "    df2 = (\n",
    "        df.groupby(group_cols + [\"peak_offpeak\"])\n",
    "        .agg({**{e: \"sum\" for e in sum_cols}, **{e: \"count\" for e in count_cols}})\n",
    "        .reset_index()\n",
    "    )\n",
    "    \n",
    "    df2 = df2.rename(columns = {'trip_instance_key':'n_trips'})\n",
    "    \n",
    "    df2 = add_metrics(df2)\n",
    "    \n",
    "    return df2"
   ]
  },
  {
   "cell_type": "code",
   "execution_count": 104,
   "id": "b9c418d1-0c38-4c9b-b8cf-e0a1a8b1abd6",
   "metadata": {},
   "outputs": [],
   "source": [
    "all_routes2 = weighted_average_function(\n",
    "    all_routes,\n",
    "    [\"schedule_gtfs_dataset_key\", \"route_id\", \"direction_id\", \"sched_rt_category\"],\n",
    ")"
   ]
  },
  {
   "cell_type": "code",
   "execution_count": 105,
   "id": "74d9a76b-0974-487f-98e7-99bc23f016bc",
   "metadata": {},
   "outputs": [
    {
     "data": {
      "text/plain": [
       "Index(['schedule_gtfs_dataset_key', 'route_id', 'direction_id',\n",
       "       'sched_rt_category', 'peak_offpeak', 'rt_service_min',\n",
       "       'service_minutes', 'n_trips', 'pings_per_min', 'spatial_accuracy_pct',\n",
       "       'rt_triptime_w_gtfs_pct', 'rt_v_scheduled_trip_time_pct'],\n",
       "      dtype='object')"
      ]
     },
     "execution_count": 105,
     "metadata": {},
     "output_type": "execute_result"
    }
   ],
   "source": [
    "all_routes2.columns"
   ]
  },
  {
   "cell_type": "markdown",
   "id": "c360ae3a-634a-4888-8ce5-becffa562d20",
   "metadata": {},
   "source": [
    "#### rt_v_scheduled_trip_time_pct -> just delete entirely?\n",
    "* This is to determine trip timeliness, how much longer (or shorter) a trip took based on RT data compared to its scheduled length."
   ]
  },
  {
   "cell_type": "code",
   "execution_count": 110,
   "id": "239379e7-0726-44e1-8201-b25bf0331036",
   "metadata": {},
   "outputs": [
    {
     "data": {
      "text/html": [
       "<div>\n",
       "<style scoped>\n",
       "    .dataframe tbody tr th:only-of-type {\n",
       "        vertical-align: middle;\n",
       "    }\n",
       "\n",
       "    .dataframe tbody tr th {\n",
       "        vertical-align: top;\n",
       "    }\n",
       "\n",
       "    .dataframe thead th {\n",
       "        text-align: right;\n",
       "    }\n",
       "</style>\n",
       "<table border=\"1\" class=\"dataframe\">\n",
       "  <thead>\n",
       "    <tr style=\"text-align: right;\">\n",
       "      <th></th>\n",
       "      <th>schedule_gtfs_dataset_key</th>\n",
       "      <th>route_id</th>\n",
       "      <th>direction_id</th>\n",
       "      <th>sched_rt_category</th>\n",
       "      <th>peak_offpeak</th>\n",
       "      <th>rt_service_min</th>\n",
       "      <th>service_minutes</th>\n",
       "      <th>n_trips</th>\n",
       "      <th>pings_per_min</th>\n",
       "      <th>spatial_accuracy_pct</th>\n",
       "      <th>rt_triptime_w_gtfs_pct</th>\n",
       "      <th>rt_v_scheduled_trip_time_pct</th>\n",
       "    </tr>\n",
       "  </thead>\n",
       "  <tbody>\n",
       "    <tr>\n",
       "      <th>0</th>\n",
       "      <td>015d67d5b75b5cf2b710bbadadfb75f5</td>\n",
       "      <td>17</td>\n",
       "      <td>0</td>\n",
       "      <td>vp_sched</td>\n",
       "      <td>offpeak</td>\n",
       "      <td>1539.42</td>\n",
       "      <td>1134.00</td>\n",
       "      <td>20</td>\n",
       "      <td>2.91</td>\n",
       "      <td>75.62</td>\n",
       "      <td>98.28</td>\n",
       "      <td>35.75</td>\n",
       "    </tr>\n",
       "    <tr>\n",
       "      <th>1</th>\n",
       "      <td>015d67d5b75b5cf2b710bbadadfb75f5</td>\n",
       "      <td>17</td>\n",
       "      <td>0</td>\n",
       "      <td>vp_sched</td>\n",
       "      <td>peak</td>\n",
       "      <td>1723.65</td>\n",
       "      <td>1380.00</td>\n",
       "      <td>24</td>\n",
       "      <td>2.84</td>\n",
       "      <td>90.06</td>\n",
       "      <td>96.02</td>\n",
       "      <td>24.90</td>\n",
       "    </tr>\n",
       "    <tr>\n",
       "      <th>2</th>\n",
       "      <td>015d67d5b75b5cf2b710bbadadfb75f5</td>\n",
       "      <td>17</td>\n",
       "      <td>1</td>\n",
       "      <td>vp_sched</td>\n",
       "      <td>offpeak</td>\n",
       "      <td>1433.97</td>\n",
       "      <td>1138.00</td>\n",
       "      <td>22</td>\n",
       "      <td>2.79</td>\n",
       "      <td>86.59</td>\n",
       "      <td>94.42</td>\n",
       "      <td>26.01</td>\n",
       "    </tr>\n",
       "    <tr>\n",
       "      <th>3</th>\n",
       "      <td>015d67d5b75b5cf2b710bbadadfb75f5</td>\n",
       "      <td>17</td>\n",
       "      <td>1</td>\n",
       "      <td>vp_sched</td>\n",
       "      <td>peak</td>\n",
       "      <td>1309.88</td>\n",
       "      <td>1190.00</td>\n",
       "      <td>22</td>\n",
       "      <td>2.80</td>\n",
       "      <td>95.43</td>\n",
       "      <td>95.12</td>\n",
       "      <td>10.07</td>\n",
       "    </tr>\n",
       "    <tr>\n",
       "      <th>445</th>\n",
       "      <td>1ebafaca8716652559b2017b6eedc4ef</td>\n",
       "      <td>17</td>\n",
       "      <td>0</td>\n",
       "      <td>vp_sched</td>\n",
       "      <td>peak</td>\n",
       "      <td>212.50</td>\n",
       "      <td>224.00</td>\n",
       "      <td>6</td>\n",
       "      <td>1.97</td>\n",
       "      <td>100.00</td>\n",
       "      <td>99.76</td>\n",
       "      <td>-5.13</td>\n",
       "    </tr>\n",
       "    <tr>\n",
       "      <th>521</th>\n",
       "      <td>239f3baf3dd3b9e9464f66a777f9897d</td>\n",
       "      <td>17</td>\n",
       "      <td>0</td>\n",
       "      <td>vp_sched</td>\n",
       "      <td>offpeak</td>\n",
       "      <td>190.10</td>\n",
       "      <td>122.00</td>\n",
       "      <td>11</td>\n",
       "      <td>1.11</td>\n",
       "      <td>80.09</td>\n",
       "      <td>86.27</td>\n",
       "      <td>55.82</td>\n",
       "    </tr>\n",
       "    <tr>\n",
       "      <th>522</th>\n",
       "      <td>239f3baf3dd3b9e9464f66a777f9897d</td>\n",
       "      <td>17</td>\n",
       "      <td>0</td>\n",
       "      <td>vp_sched</td>\n",
       "      <td>peak</td>\n",
       "      <td>230.85</td>\n",
       "      <td>134.00</td>\n",
       "      <td>12</td>\n",
       "      <td>1.07</td>\n",
       "      <td>74.19</td>\n",
       "      <td>84.04</td>\n",
       "      <td>72.28</td>\n",
       "    </tr>\n",
       "    <tr>\n",
       "      <th>523</th>\n",
       "      <td>239f3baf3dd3b9e9464f66a777f9897d</td>\n",
       "      <td>17</td>\n",
       "      <td>1</td>\n",
       "      <td>vp_sched</td>\n",
       "      <td>offpeak</td>\n",
       "      <td>147.85</td>\n",
       "      <td>171.00</td>\n",
       "      <td>9</td>\n",
       "      <td>1.23</td>\n",
       "      <td>73.63</td>\n",
       "      <td>92.66</td>\n",
       "      <td>-13.54</td>\n",
       "    </tr>\n",
       "    <tr>\n",
       "      <th>524</th>\n",
       "      <td>239f3baf3dd3b9e9464f66a777f9897d</td>\n",
       "      <td>17</td>\n",
       "      <td>1</td>\n",
       "      <td>vp_sched</td>\n",
       "      <td>peak</td>\n",
       "      <td>145.65</td>\n",
       "      <td>171.00</td>\n",
       "      <td>9</td>\n",
       "      <td>1.24</td>\n",
       "      <td>80.00</td>\n",
       "      <td>94.75</td>\n",
       "      <td>-14.82</td>\n",
       "    </tr>\n",
       "    <tr>\n",
       "      <th>1721</th>\n",
       "      <td>43d8d305ee692724a532f30ea63a1cbe</td>\n",
       "      <td>17</td>\n",
       "      <td>1</td>\n",
       "      <td>vp_sched</td>\n",
       "      <td>offpeak</td>\n",
       "      <td>2787.37</td>\n",
       "      <td>1944.00</td>\n",
       "      <td>36</td>\n",
       "      <td>1.91</td>\n",
       "      <td>96.60</td>\n",
       "      <td>96.97</td>\n",
       "      <td>43.38</td>\n",
       "    </tr>\n",
       "    <tr>\n",
       "      <th>1722</th>\n",
       "      <td>43d8d305ee692724a532f30ea63a1cbe</td>\n",
       "      <td>17</td>\n",
       "      <td>1</td>\n",
       "      <td>vp_sched</td>\n",
       "      <td>peak</td>\n",
       "      <td>3369.65</td>\n",
       "      <td>2406.00</td>\n",
       "      <td>40</td>\n",
       "      <td>1.95</td>\n",
       "      <td>97.98</td>\n",
       "      <td>99.27</td>\n",
       "      <td>40.05</td>\n",
       "    </tr>\n",
       "    <tr>\n",
       "      <th>1780</th>\n",
       "      <td>4b59b468244e0d5139d91fc698acc9d6</td>\n",
       "      <td>17</td>\n",
       "      <td>0</td>\n",
       "      <td>vp_sched</td>\n",
       "      <td>offpeak</td>\n",
       "      <td>271.00</td>\n",
       "      <td>240.00</td>\n",
       "      <td>2</td>\n",
       "      <td>1.85</td>\n",
       "      <td>100.00</td>\n",
       "      <td>97.05</td>\n",
       "      <td>12.92</td>\n",
       "    </tr>\n",
       "    <tr>\n",
       "      <th>1781</th>\n",
       "      <td>4b59b468244e0d5139d91fc698acc9d6</td>\n",
       "      <td>17</td>\n",
       "      <td>0</td>\n",
       "      <td>vp_sched</td>\n",
       "      <td>peak</td>\n",
       "      <td>305.77</td>\n",
       "      <td>240.00</td>\n",
       "      <td>2</td>\n",
       "      <td>1.55</td>\n",
       "      <td>99.58</td>\n",
       "      <td>86.34</td>\n",
       "      <td>27.40</td>\n",
       "    </tr>\n",
       "    <tr>\n",
       "      <th>2215</th>\n",
       "      <td>587e730fac4db21d54037e0f12b0dd5d</td>\n",
       "      <td>17</td>\n",
       "      <td>0</td>\n",
       "      <td>vp_sched</td>\n",
       "      <td>offpeak</td>\n",
       "      <td>313.52</td>\n",
       "      <td>220.00</td>\n",
       "      <td>10</td>\n",
       "      <td>1.94</td>\n",
       "      <td>92.94</td>\n",
       "      <td>100.00</td>\n",
       "      <td>42.51</td>\n",
       "    </tr>\n",
       "    <tr>\n",
       "      <th>2216</th>\n",
       "      <td>587e730fac4db21d54037e0f12b0dd5d</td>\n",
       "      <td>17</td>\n",
       "      <td>0</td>\n",
       "      <td>vp_sched</td>\n",
       "      <td>peak</td>\n",
       "      <td>438.15</td>\n",
       "      <td>308.00</td>\n",
       "      <td>14</td>\n",
       "      <td>1.94</td>\n",
       "      <td>95.42</td>\n",
       "      <td>99.97</td>\n",
       "      <td>42.26</td>\n",
       "    </tr>\n",
       "    <tr>\n",
       "      <th>2217</th>\n",
       "      <td>587e730fac4db21d54037e0f12b0dd5d</td>\n",
       "      <td>17</td>\n",
       "      <td>1</td>\n",
       "      <td>vp_sched</td>\n",
       "      <td>offpeak</td>\n",
       "      <td>235.00</td>\n",
       "      <td>180.00</td>\n",
       "      <td>9</td>\n",
       "      <td>1.94</td>\n",
       "      <td>98.90</td>\n",
       "      <td>100.00</td>\n",
       "      <td>30.56</td>\n",
       "    </tr>\n",
       "    <tr>\n",
       "      <th>2218</th>\n",
       "      <td>587e730fac4db21d54037e0f12b0dd5d</td>\n",
       "      <td>17</td>\n",
       "      <td>1</td>\n",
       "      <td>vp_sched</td>\n",
       "      <td>peak</td>\n",
       "      <td>451.28</td>\n",
       "      <td>320.00</td>\n",
       "      <td>16</td>\n",
       "      <td>1.94</td>\n",
       "      <td>100.00</td>\n",
       "      <td>99.94</td>\n",
       "      <td>41.03</td>\n",
       "    </tr>\n",
       "  </tbody>\n",
       "</table>\n",
       "</div>"
      ],
      "text/plain": [
       "             schedule_gtfs_dataset_key route_id  direction_id  \\\n",
       "0     015d67d5b75b5cf2b710bbadadfb75f5       17             0   \n",
       "1     015d67d5b75b5cf2b710bbadadfb75f5       17             0   \n",
       "2     015d67d5b75b5cf2b710bbadadfb75f5       17             1   \n",
       "3     015d67d5b75b5cf2b710bbadadfb75f5       17             1   \n",
       "445   1ebafaca8716652559b2017b6eedc4ef       17             0   \n",
       "521   239f3baf3dd3b9e9464f66a777f9897d       17             0   \n",
       "522   239f3baf3dd3b9e9464f66a777f9897d       17             0   \n",
       "523   239f3baf3dd3b9e9464f66a777f9897d       17             1   \n",
       "524   239f3baf3dd3b9e9464f66a777f9897d       17             1   \n",
       "1721  43d8d305ee692724a532f30ea63a1cbe       17             1   \n",
       "1722  43d8d305ee692724a532f30ea63a1cbe       17             1   \n",
       "1780  4b59b468244e0d5139d91fc698acc9d6       17             0   \n",
       "1781  4b59b468244e0d5139d91fc698acc9d6       17             0   \n",
       "2215  587e730fac4db21d54037e0f12b0dd5d       17             0   \n",
       "2216  587e730fac4db21d54037e0f12b0dd5d       17             0   \n",
       "2217  587e730fac4db21d54037e0f12b0dd5d       17             1   \n",
       "2218  587e730fac4db21d54037e0f12b0dd5d       17             1   \n",
       "\n",
       "     sched_rt_category peak_offpeak  rt_service_min  service_minutes  n_trips  \\\n",
       "0             vp_sched      offpeak         1539.42          1134.00       20   \n",
       "1             vp_sched         peak         1723.65          1380.00       24   \n",
       "2             vp_sched      offpeak         1433.97          1138.00       22   \n",
       "3             vp_sched         peak         1309.88          1190.00       22   \n",
       "445           vp_sched         peak          212.50           224.00        6   \n",
       "521           vp_sched      offpeak          190.10           122.00       11   \n",
       "522           vp_sched         peak          230.85           134.00       12   \n",
       "523           vp_sched      offpeak          147.85           171.00        9   \n",
       "524           vp_sched         peak          145.65           171.00        9   \n",
       "1721          vp_sched      offpeak         2787.37          1944.00       36   \n",
       "1722          vp_sched         peak         3369.65          2406.00       40   \n",
       "1780          vp_sched      offpeak          271.00           240.00        2   \n",
       "1781          vp_sched         peak          305.77           240.00        2   \n",
       "2215          vp_sched      offpeak          313.52           220.00       10   \n",
       "2216          vp_sched         peak          438.15           308.00       14   \n",
       "2217          vp_sched      offpeak          235.00           180.00        9   \n",
       "2218          vp_sched         peak          451.28           320.00       16   \n",
       "\n",
       "      pings_per_min  spatial_accuracy_pct  rt_triptime_w_gtfs_pct  \\\n",
       "0              2.91                 75.62                   98.28   \n",
       "1              2.84                 90.06                   96.02   \n",
       "2              2.79                 86.59                   94.42   \n",
       "3              2.80                 95.43                   95.12   \n",
       "445            1.97                100.00                   99.76   \n",
       "521            1.11                 80.09                   86.27   \n",
       "522            1.07                 74.19                   84.04   \n",
       "523            1.23                 73.63                   92.66   \n",
       "524            1.24                 80.00                   94.75   \n",
       "1721           1.91                 96.60                   96.97   \n",
       "1722           1.95                 97.98                   99.27   \n",
       "1780           1.85                100.00                   97.05   \n",
       "1781           1.55                 99.58                   86.34   \n",
       "2215           1.94                 92.94                  100.00   \n",
       "2216           1.94                 95.42                   99.97   \n",
       "2217           1.94                 98.90                  100.00   \n",
       "2218           1.94                100.00                   99.94   \n",
       "\n",
       "      rt_v_scheduled_trip_time_pct  \n",
       "0                            35.75  \n",
       "1                            24.90  \n",
       "2                            26.01  \n",
       "3                            10.07  \n",
       "445                          -5.13  \n",
       "521                          55.82  \n",
       "522                          72.28  \n",
       "523                         -13.54  \n",
       "524                         -14.82  \n",
       "1721                         43.38  \n",
       "1722                         40.05  \n",
       "1780                         12.92  \n",
       "1781                         27.40  \n",
       "2215                         42.51  \n",
       "2216                         42.26  \n",
       "2217                         30.56  \n",
       "2218                         41.03  "
      ]
     },
     "execution_count": 110,
     "metadata": {},
     "output_type": "execute_result"
    }
   ],
   "source": [
    "all_routes2.loc[all_routes2.route_id == '17']"
   ]
  },
  {
   "cell_type": "code",
   "execution_count": 107,
   "id": "7facabae-38d4-4625-a586-681b470e5d9b",
   "metadata": {},
   "outputs": [
    {
     "data": {
      "text/plain": [
       "count   6276.00\n",
       "mean      39.02\n",
       "std       72.62\n",
       "min      -76.17\n",
       "25%       14.84\n",
       "50%       27.27\n",
       "75%       44.34\n",
       "max     2320.67\n",
       "Name: rt_v_scheduled_trip_time_pct, dtype: float64"
      ]
     },
     "execution_count": 107,
     "metadata": {},
     "output_type": "execute_result"
    }
   ],
   "source": [
    "all_routes2.rt_v_scheduled_trip_time_pct.describe()"
   ]
  },
  {
   "cell_type": "code",
   "execution_count": 108,
   "id": "c571c1ce-e63c-4463-bc34-9b5152dca1aa",
   "metadata": {},
   "outputs": [
    {
     "data": {
      "text/plain": [
       "6276"
      ]
     },
     "execution_count": 108,
     "metadata": {},
     "output_type": "execute_result"
    }
   ],
   "source": [
    "len(all_routes2)"
   ]
  }
 ],
 "metadata": {
  "kernelspec": {
   "display_name": "Python 3 (ipykernel)",
   "language": "python",
   "name": "python3"
  },
  "language_info": {
   "codemirror_mode": {
    "name": "ipython",
    "version": 3
   },
   "file_extension": ".py",
   "mimetype": "text/x-python",
   "name": "python",
   "nbconvert_exporter": "python",
   "pygments_lexer": "ipython3",
   "version": "3.9.13"
  }
 },
 "nbformat": 4,
 "nbformat_minor": 5
}
