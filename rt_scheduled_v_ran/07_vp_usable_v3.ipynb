{
 "cells": [
  {
   "cell_type": "markdown",
   "id": "3055b228-034e-4812-a3fc-3b847afb3dec",
   "metadata": {
    "tags": []
   },
   "source": [
    "## Update `trips`\n",
    "* cd rt_segment_speeds && pip install -r requirements.txt && cd ../_shared_utils && make setup_env\n",
    "* https://github.com/cal-itp/data-analyses/pull/1016\n",
    "    * Keep source data + metrics tightly defined with GCS bucket organization.\n",
    "    * vp_usable is source data for rt_vs_sched metrics, do not merge in schedule data until gtfs_digest report. Only bring in schedule_gtfs_dataset_key column in    \n",
    "    * vp_usable + route_id-direction_id for trips also present in schedule. If not in schedule, fill it with route_id = Unknown and direction_id as Int64\n",
    "    * Add function to concatenate trip file, enable us to put in 1 day or 7 days for aggregation\n",
    "    * A single function for normalized metrics (percent, per min, etc)\n",
    "    * A single function for aggregation (summing up numerator / denominator)\n",
    "    \n",
    "* https://github.com/cal-itp/data-analyses/issues/989\n",
    "\n",
    "* Notes 2/6\n",
    "    * GTFS digest creates four datasets: schedule, average speeds, segment speeds, and rt vs schedule\n",
    "    * Currently, merging is challenging.\n",
    "    * Time categories are not necessarily the same (peak/offpeak/all-day)\n",
    "    * Want all datasets to merge on the same set of columns (schedule gtfs key, route id, dir id, service date, and time categories) because `shapes` are unstable.\n",
    "    * `Route ID` has been stabilized by Tiffany \n",
    "    * Update work from `rt_v_scheduled.py` (steps already outlined in `scripts/route_aggregation.ipynb`)\n",
    "        * Do steps up until row 339 when the % are calculated. \n",
    "        * Take away `speeds`.\n",
    "        * Bring in schedule gtfs key, trip instance key, route id, direction id either at the beginning or the end using `helpers.import_scheduled_trips`\n",
    "        * Coerce DIR ID to Int64, don't fill it in with 0. It's not 0, it's Nan\n",
    "        * Save files with the analysis date at the end instead of the beginning.\n",
    "        * Split off the workstream -> one for trip level and one for route level\n",
    "            * Use the config.yml to save the trips and routes stuff into their own folder.\n",
    "            * Routes:\n",
    "                * For routes, the minutes/pings should be totalled up. Currently, just taking the average of an average isn't really accurate.\n",
    "                * The route level should be able to take multiple days of data and concatenate so we can get metrics for a week/2 weeks/etc instead of for a single day. [Done here](https://github.com/cal-itp/data-analyses/blob/main/rt_segment_speeds/scripts/average_speeds.py)\n",
    "                * Add the route frequency as well?\n",
    "           * Trips:\n",
    "               * Do up to step 339 in `rt_v_scheduled.py`\n",
    "               * Write a new generalized function to create all the % \n",
    "            \n",
    "* Notes 2/13\n",
    "    * Figure out how to set up Config file\n",
    "    * Tiffany:\n",
    "        * add_metrics looks good, just remove the coercing of percents to 0-100 to a separate function. I want everything from 0-1, and then before charting, scaled up to 0-100 all at once. Can you write a general         * function for this....all the chart display / cleaning functions should live in 1 script in segment_speed_utils.\n",
    "        * Another tweak for a step somewhere before add_metrics. Certain columns can be coerced to be integers, like total_vp and vp_in_shape, just like how total_min_w_gtfs is an integer. Coerce all the ones that can be integers to be integers for your trip table, and this will save on the rounding step later.\n",
    "        * Column naming: think about how you want to change the column names. total_pings_for_trip is not going to make sense once you aggregate, so maybe go with something more generic. Otherwise, you're going to be aggregating and renaming columns constantly. I would just rely on the other columns in the row to tell us whether it's per trip or per route , and the metrics all use generic names that are suitable for passing through aggregation functions. (edited) "
   ]
  },
  {
   "cell_type": "code",
   "execution_count": 25,
   "id": "37ccf2b0-8eb5-426e-8f67-fd461f32fde7",
   "metadata": {},
   "outputs": [],
   "source": [
    "import dask.dataframe as dd\n",
    "import pandas as pd\n",
    "import yaml\n",
    "from segment_speed_utils import gtfs_schedule_wrangling, helpers\n",
    "from segment_speed_utils.project_vars import RT_SCHED_GCS, SEGMENT_GCS\n",
    "from shared_utils import portfolio_utils, rt_dates, rt_utils"
   ]
  },
  {
   "cell_type": "code",
   "execution_count": 2,
   "id": "f31cd5d6-1640-4c32-a24b-0e8037056bfe",
   "metadata": {},
   "outputs": [],
   "source": [
    "# Times\n",
    "import datetime\n",
    "\n",
    "from loguru import logger"
   ]
  },
  {
   "cell_type": "code",
   "execution_count": 3,
   "id": "31ad188f-c785-40a6-b42d-55510e719835",
   "metadata": {},
   "outputs": [],
   "source": [
    "pd.options.display.max_columns = 100\n",
    "pd.options.display.float_format = \"{:.2f}\".format\n",
    "pd.set_option(\"display.max_rows\", None)\n",
    "pd.set_option(\"display.max_colwidth\", None)"
   ]
  },
  {
   "cell_type": "code",
   "execution_count": 4,
   "id": "b3a071ad-53d9-4753-8592-04a6cc6afdf9",
   "metadata": {},
   "outputs": [],
   "source": [
    "# analysis_date = rt_dates.DATES[\"dec2023\"]"
   ]
  },
  {
   "cell_type": "code",
   "execution_count": 5,
   "id": "4cb18151-8b38-4bc5-828b-642ed7d49925",
   "metadata": {},
   "outputs": [
    {
     "data": {
      "text/plain": [
       "'gs://calitp-analytics-data/data-analyses/rt_vs_schedule/'"
      ]
     },
     "execution_count": 5,
     "metadata": {},
     "output_type": "execute_result"
    }
   ],
   "source": [
    "RT_SCHED_GCS"
   ]
  },
  {
   "cell_type": "code",
   "execution_count": 6,
   "id": "cf9cad9e-06b4-462b-ba59-53fb06f62e39",
   "metadata": {},
   "outputs": [
    {
     "data": {
      "text/plain": [
       "{'feb2022': '2022-02-08',\n",
       " 'mar2022': '2022-03-30',\n",
       " 'may2022': '2022-05-04',\n",
       " 'jun2022': '2022-06-15',\n",
       " 'jul2022': '2022-07-13',\n",
       " 'aug2022': '2022-08-17',\n",
       " 'sep2022': '2022-09-14',\n",
       " 'sep2022a': '2022-09-21',\n",
       " 'oct2022': '2022-10-12',\n",
       " 'nov2022a': '2022-11-07',\n",
       " 'nov2022b': '2022-11-08',\n",
       " 'nov2022c': '2022-11-09',\n",
       " 'nov2022d': '2022-11-10',\n",
       " 'nov2022': '2022-11-16',\n",
       " 'dec2022': '2022-12-14',\n",
       " 'jan2023': '2023-01-18',\n",
       " 'feb2023': '2023-02-15',\n",
       " 'mar2023': '2023-03-15',\n",
       " 'apr2023a': '2023-04-10',\n",
       " 'apr2023b': '2023-04-11',\n",
       " 'apr2023': '2023-04-12',\n",
       " 'apr2023c': '2023-04-13',\n",
       " 'apr2023d': '2023-04-14',\n",
       " 'apr2023e': '2023-04-15',\n",
       " 'apr2023f': '2023-04-16',\n",
       " 'may2023': '2023-05-17',\n",
       " 'jun2023': '2023-06-14',\n",
       " 'jul2023': '2023-07-12',\n",
       " 'aug2023': '2023-08-15',\n",
       " 'aug2023a': '2023-08-23',\n",
       " 'sep2023': '2023-09-13',\n",
       " 'oct2023a': '2023-10-09',\n",
       " 'oct2023b': '2023-10-10',\n",
       " 'oct2023': '2023-10-11',\n",
       " 'oct2023c': '2023-10-12',\n",
       " 'oct2023d': '2023-10-13',\n",
       " 'oct2023e': '2023-10-14',\n",
       " 'oct2023f': '2023-10-15',\n",
       " 'nov2023': '2023-11-15',\n",
       " 'dec2023': '2023-12-13',\n",
       " 'jan2024': '2024-01-17'}"
      ]
     },
     "execution_count": 6,
     "metadata": {},
     "output_type": "execute_result"
    }
   ],
   "source": [
    "rt_dates.DATES"
   ]
  },
  {
   "cell_type": "markdown",
   "id": "cef97b80-f606-4d4e-b9da-cc3b1742093f",
   "metadata": {
    "tags": []
   },
   "source": [
    "### Routes add multiple days"
   ]
  },
  {
   "cell_type": "code",
   "execution_count": 7,
   "id": "16080e29-c327-4dc2-a19a-7474b542761b",
   "metadata": {},
   "outputs": [],
   "source": [
    "months = [\"sep\", \"oct\"]\n",
    "\n",
    "analysis_date_list = [rt_dates.DATES[f\"{m}2023\"] for m in months]"
   ]
  },
  {
   "cell_type": "code",
   "execution_count": 8,
   "id": "da859f9a-5283-4ba4-8004-e981605b040c",
   "metadata": {},
   "outputs": [
    {
     "data": {
      "text/plain": [
       "['2023-09-13', '2023-10-11']"
      ]
     },
     "execution_count": 8,
     "metadata": {},
     "output_type": "execute_result"
    }
   ],
   "source": [
    "analysis_date_list"
   ]
  },
  {
   "cell_type": "code",
   "execution_count": 9,
   "id": "0b198336-cd79-4167-ae59-f1e568977bcb",
   "metadata": {},
   "outputs": [],
   "source": [
    "def concatenate_trip_segment_speeds(analysis_date_list: list) -> pd.DataFrame:\n",
    "    \"\"\"\n",
    "    Concatenate the trip parquets together,\n",
    "    whether it's for single day or multi-day averages.\n",
    "    \"\"\"\n",
    "    # TRIP_EXPORT = CONFIG_DICT[\"trip_metrics\"]\n",
    "    TRIP_EXPORT = \"vp_trip/trip_metrics\"\n",
    "    df = pd.concat(\n",
    "        [\n",
    "            pd.read_parquet(\n",
    "                f\"{RT_SCHED_GCS}{TRIP_EXPORT}/trip_{analysis_date}.parquet\"\n",
    "            ).assign(service_date=pd.to_datetime(analysis_date))\n",
    "            for analysis_date in analysis_date_list\n",
    "        ],\n",
    "        axis=0,\n",
    "        ignore_index=True,\n",
    "    )\n",
    "    return df"
   ]
  },
  {
   "cell_type": "code",
   "execution_count": 10,
   "id": "2922c525-e4d0-4408-b489-0361d48051de",
   "metadata": {},
   "outputs": [],
   "source": [
    "all_routes = concatenate_trip_segment_speeds(analysis_date_list)"
   ]
  },
  {
   "cell_type": "code",
   "execution_count": 11,
   "id": "dfccda73-48a8-4ac7-9536-0c9a11891422",
   "metadata": {},
   "outputs": [
    {
     "data": {
      "text/plain": [
       "vp_sched    144989\n",
       "vp_only      27632\n",
       "Name: sched_rt_category, dtype: int64"
      ]
     },
     "execution_count": 11,
     "metadata": {},
     "output_type": "execute_result"
    }
   ],
   "source": [
    "all_routes.sched_rt_category.value_counts()"
   ]
  },
  {
   "cell_type": "code",
   "execution_count": 12,
   "id": "3668ce57-f084-424a-80c2-44fa87522323",
   "metadata": {},
   "outputs": [
    {
     "data": {
      "text/plain": [
       "2023-10-11    86486\n",
       "2023-09-13    86135\n",
       "Name: service_date, dtype: int64"
      ]
     },
     "execution_count": 12,
     "metadata": {},
     "output_type": "execute_result"
    }
   ],
   "source": [
    "all_routes.service_date.value_counts()"
   ]
  },
  {
   "cell_type": "code",
   "execution_count": 13,
   "id": "aeb683b5-9ab0-4fcd-8c56-8ea0b685fc17",
   "metadata": {},
   "outputs": [
    {
     "data": {
      "text/plain": [
       "'2023-10-11'"
      ]
     },
     "execution_count": 13,
     "metadata": {},
     "output_type": "execute_result"
    }
   ],
   "source": [
    "analysis_date_list[1]"
   ]
  },
  {
   "cell_type": "code",
   "execution_count": 14,
   "id": "e0c3a2ce-6063-4536-a346-7ac4aab41076",
   "metadata": {},
   "outputs": [],
   "source": [
    "routes_just_one = concatenate_trip_segment_speeds([\"2023-10-11\"])"
   ]
  },
  {
   "cell_type": "code",
   "execution_count": 15,
   "id": "b26feb7f-9fcb-4801-ba55-b5e41d77687a",
   "metadata": {},
   "outputs": [
    {
     "data": {
      "text/plain": [
       "2023-10-11    86486\n",
       "Name: service_date, dtype: int64"
      ]
     },
     "execution_count": 15,
     "metadata": {},
     "output_type": "execute_result"
    }
   ],
   "source": [
    "routes_just_one.service_date.value_counts()"
   ]
  },
  {
   "cell_type": "code",
   "execution_count": 16,
   "id": "00e1d751-a4c2-468a-8c54-b23ed37022cf",
   "metadata": {},
   "outputs": [
    {
     "data": {
      "text/html": [
       "<div>\n",
       "<style scoped>\n",
       "    .dataframe tbody tr th:only-of-type {\n",
       "        vertical-align: middle;\n",
       "    }\n",
       "\n",
       "    .dataframe tbody tr th {\n",
       "        vertical-align: top;\n",
       "    }\n",
       "\n",
       "    .dataframe thead th {\n",
       "        text-align: right;\n",
       "    }\n",
       "</style>\n",
       "<table border=\"1\" class=\"dataframe\">\n",
       "  <thead>\n",
       "    <tr style=\"text-align: right;\">\n",
       "      <th></th>\n",
       "      <th>schedule_gtfs_dataset_key</th>\n",
       "      <th>trip_instance_key</th>\n",
       "      <th>rt_service_min</th>\n",
       "      <th>min_w_atleast2_trip_updates</th>\n",
       "      <th>total_pings</th>\n",
       "      <th>total_min_w_gtfs</th>\n",
       "      <th>total_vp</th>\n",
       "      <th>vp_in_shape</th>\n",
       "      <th>route_id</th>\n",
       "      <th>direction_id</th>\n",
       "      <th>sched_rt_category</th>\n",
       "      <th>service_minutes</th>\n",
       "      <th>time_of_day</th>\n",
       "      <th>peak_offpeak</th>\n",
       "      <th>pings_per_min</th>\n",
       "      <th>spatial_accuracy_pct</th>\n",
       "      <th>rt_w_gtfs_pct</th>\n",
       "      <th>rt_v_scheduled_time_pct</th>\n",
       "      <th>service_date</th>\n",
       "    </tr>\n",
       "  </thead>\n",
       "  <tbody>\n",
       "    <tr>\n",
       "      <th>153683</th>\n",
       "      <td>7cc0cb1871dfd558f11a2885c145d144</td>\n",
       "      <td>6d55479f1eb5f89f63ea0541ce86a34a</td>\n",
       "      <td>64</td>\n",
       "      <td>63</td>\n",
       "      <td>190</td>\n",
       "      <td>64</td>\n",
       "      <td>190</td>\n",
       "      <td>190</td>\n",
       "      <td>5R</td>\n",
       "      <td>0</td>\n",
       "      <td>vp_sched</td>\n",
       "      <td>50.00</td>\n",
       "      <td>PM Peak</td>\n",
       "      <td>peak</td>\n",
       "      <td>2.97</td>\n",
       "      <td>1.00</td>\n",
       "      <td>1.00</td>\n",
       "      <td>0.28</td>\n",
       "      <td>2023-10-11</td>\n",
       "    </tr>\n",
       "    <tr>\n",
       "      <th>109452</th>\n",
       "      <td>3f3f36b4c41cc6b5df3eb7f5d8ea6e3c</td>\n",
       "      <td>22b0fb02683a3b1250be9943033c3953</td>\n",
       "      <td>135</td>\n",
       "      <td>135</td>\n",
       "      <td>403</td>\n",
       "      <td>135</td>\n",
       "      <td>403</td>\n",
       "      <td>400</td>\n",
       "      <td>210-13168</td>\n",
       "      <td>0</td>\n",
       "      <td>vp_sched</td>\n",
       "      <td>116.00</td>\n",
       "      <td>Midday</td>\n",
       "      <td>offpeak</td>\n",
       "      <td>2.99</td>\n",
       "      <td>0.99</td>\n",
       "      <td>1.00</td>\n",
       "      <td>0.16</td>\n",
       "      <td>2023-10-11</td>\n",
       "    </tr>\n",
       "    <tr>\n",
       "      <th>92198</th>\n",
       "      <td>efbbd5293be71f7a5de0cf82b59febe1</td>\n",
       "      <td>f9671ba41ffde9fecc0cb7ecefe991df</td>\n",
       "      <td>30</td>\n",
       "      <td>4</td>\n",
       "      <td>28</td>\n",
       "      <td>24</td>\n",
       "      <td>28</td>\n",
       "      <td>28</td>\n",
       "      <td>3639</td>\n",
       "      <td>1</td>\n",
       "      <td>vp_sched</td>\n",
       "      <td>24.00</td>\n",
       "      <td>AM Peak</td>\n",
       "      <td>peak</td>\n",
       "      <td>0.93</td>\n",
       "      <td>1.00</td>\n",
       "      <td>0.80</td>\n",
       "      <td>0.25</td>\n",
       "      <td>2023-10-11</td>\n",
       "    </tr>\n",
       "  </tbody>\n",
       "</table>\n",
       "</div>"
      ],
      "text/plain": [
       "               schedule_gtfs_dataset_key                 trip_instance_key  \\\n",
       "153683  7cc0cb1871dfd558f11a2885c145d144  6d55479f1eb5f89f63ea0541ce86a34a   \n",
       "109452  3f3f36b4c41cc6b5df3eb7f5d8ea6e3c  22b0fb02683a3b1250be9943033c3953   \n",
       "92198   efbbd5293be71f7a5de0cf82b59febe1  f9671ba41ffde9fecc0cb7ecefe991df   \n",
       "\n",
       "        rt_service_min  min_w_atleast2_trip_updates  total_pings  \\\n",
       "153683              64                           63          190   \n",
       "109452             135                          135          403   \n",
       "92198               30                            4           28   \n",
       "\n",
       "        total_min_w_gtfs  total_vp  vp_in_shape   route_id  direction_id  \\\n",
       "153683                64       190          190         5R             0   \n",
       "109452               135       403          400  210-13168             0   \n",
       "92198                 24        28           28       3639             1   \n",
       "\n",
       "       sched_rt_category  service_minutes time_of_day peak_offpeak  \\\n",
       "153683          vp_sched            50.00     PM Peak         peak   \n",
       "109452          vp_sched           116.00      Midday      offpeak   \n",
       "92198           vp_sched            24.00     AM Peak         peak   \n",
       "\n",
       "        pings_per_min  spatial_accuracy_pct  rt_w_gtfs_pct  \\\n",
       "153683           2.97                  1.00           1.00   \n",
       "109452           2.99                  0.99           1.00   \n",
       "92198            0.93                  1.00           0.80   \n",
       "\n",
       "        rt_v_scheduled_time_pct service_date  \n",
       "153683                     0.28   2023-10-11  \n",
       "109452                     0.16   2023-10-11  \n",
       "92198                      0.25   2023-10-11  "
      ]
     },
     "execution_count": 16,
     "metadata": {},
     "output_type": "execute_result"
    }
   ],
   "source": [
    "all_routes.sample(3)"
   ]
  },
  {
   "cell_type": "markdown",
   "id": "ff027fe6-477d-4bd9-988d-95c85c4cc9b0",
   "metadata": {},
   "source": [
    "#### Add back metrics"
   ]
  },
  {
   "cell_type": "code",
   "execution_count": 27,
   "id": "183a45be-14f7-4a90-8752-ded10c76ba70",
   "metadata": {},
   "outputs": [],
   "source": [
    "def add_metrics(df: pd.DataFrame) -> pd.DataFrame:\n",
    "\n",
    "    df[\"pings_per_min\"] = df.total_pings / df.rt_service_min\n",
    "    df[\"spatial_accuracy_pct\"] = df.vp_in_shape / df.total_vp\n",
    "    df[\"rt_w_gtfs_pct\"] = df.total_min_w_gtfs / df.rt_service_min\n",
    "    df[\"rt_v_scheduled_time_pct\"] = df.rt_service_min / df.service_minutes - 1\n",
    "\n",
    "    # Mask rt_triptime_w_gtfs_pct for any values above 100%\n",
    "    df.rt_w_gtfs_pct = df.rt_w_gtfs_pct.mask(df.rt_w_gtfs_pct > 1, 1)\n",
    "\n",
    "    return df"
   ]
  },
  {
   "cell_type": "code",
   "execution_count": 28,
   "id": "5e5a406b-4034-4a94-9a92-1e2eccde606c",
   "metadata": {},
   "outputs": [],
   "source": [
    "def route_metrics(analysis_date_list:list)->pd.DataFrame:\n",
    "    \n",
    "    df = concatenate_trip_segment_speeds(analysis_date_list)\n",
    "    # Delete out trip generated metrics\n",
    "    del_cols = [\n",
    "        \"pings_per_min\",\n",
    "        \"spatial_accuracy_pct\",\n",
    "        \"rt_w_gtfs_pct\",\n",
    "        \"rt_v_scheduled_time_pct\",\n",
    "    ]\n",
    "\n",
    "    df = df.drop(columns=del_cols)\n",
    "    \n",
    "    # Add weighted metrics\n",
    "    sum_cols = [\n",
    "        \"total_min_w_gtfs\",\n",
    "        \"rt_service_min\",\n",
    "        \"total_pings\",\n",
    "        \"service_minutes\",\n",
    "        \"total_vp\",\n",
    "        \"vp_in_shape\",\n",
    "    ]\n",
    "\n",
    "    count_cols = [\"trip_instance_key\"]\n",
    "    \n",
    "    group_cols = [\"schedule_gtfs_dataset_key\", \"route_id\", \"direction_id\", \"sched_rt_category\",  \"peak_offpeak\", \"time_of_day\"]\n",
    "    df2 = (\n",
    "        df.groupby(group_cols)\n",
    "        .agg({**{e: \"sum\" for e in sum_cols}, **{e: \"count\" for e in count_cols}})\n",
    "        .reset_index()\n",
    "    )\n",
    "\n",
    "    df2 = df2.rename(columns={\"trip_instance_key\": \"n_trips\"})\n",
    "\n",
    "    df2 = add_metrics(df2)\n",
    "\n",
    "    return df2"
   ]
  },
  {
   "cell_type": "code",
   "execution_count": 29,
   "id": "b9c418d1-0c38-4c9b-b8cf-e0a1a8b1abd6",
   "metadata": {},
   "outputs": [],
   "source": [
    "all_routes2 = route_metrics(\n",
    "    analysis_date_list,\n",
    "    \n",
    ")"
   ]
  },
  {
   "cell_type": "code",
   "execution_count": 30,
   "id": "0f97fa5e-f736-4fac-90f0-4a1d6ee8d429",
   "metadata": {},
   "outputs": [
    {
     "data": {
      "text/html": [
       "<div>\n",
       "<style scoped>\n",
       "    .dataframe tbody tr th:only-of-type {\n",
       "        vertical-align: middle;\n",
       "    }\n",
       "\n",
       "    .dataframe tbody tr th {\n",
       "        vertical-align: top;\n",
       "    }\n",
       "\n",
       "    .dataframe thead th {\n",
       "        text-align: right;\n",
       "    }\n",
       "</style>\n",
       "<table border=\"1\" class=\"dataframe\">\n",
       "  <thead>\n",
       "    <tr style=\"text-align: right;\">\n",
       "      <th></th>\n",
       "      <th>schedule_gtfs_dataset_key</th>\n",
       "      <th>route_id</th>\n",
       "      <th>direction_id</th>\n",
       "      <th>sched_rt_category</th>\n",
       "      <th>peak_offpeak</th>\n",
       "      <th>time_of_day</th>\n",
       "      <th>total_min_w_gtfs</th>\n",
       "      <th>rt_service_min</th>\n",
       "      <th>total_pings</th>\n",
       "      <th>service_minutes</th>\n",
       "      <th>total_vp</th>\n",
       "      <th>vp_in_shape</th>\n",
       "      <th>n_trips</th>\n",
       "      <th>pings_per_min</th>\n",
       "      <th>spatial_accuracy_pct</th>\n",
       "      <th>rt_w_gtfs_pct</th>\n",
       "      <th>rt_v_scheduled_time_pct</th>\n",
       "    </tr>\n",
       "  </thead>\n",
       "  <tbody>\n",
       "    <tr>\n",
       "      <th>1314</th>\n",
       "      <td>2f4b452801393f177e9dbca20cac1a07</td>\n",
       "      <td>50</td>\n",
       "      <td>1</td>\n",
       "      <td>vp_sched</td>\n",
       "      <td>peak</td>\n",
       "      <td>PM Peak</td>\n",
       "      <td>233</td>\n",
       "      <td>235</td>\n",
       "      <td>729</td>\n",
       "      <td>220.00</td>\n",
       "      <td>729</td>\n",
       "      <td>595</td>\n",
       "      <td>5</td>\n",
       "      <td>3.10</td>\n",
       "      <td>0.82</td>\n",
       "      <td>0.99</td>\n",
       "      <td>0.07</td>\n",
       "    </tr>\n",
       "  </tbody>\n",
       "</table>\n",
       "</div>"
      ],
      "text/plain": [
       "             schedule_gtfs_dataset_key route_id  direction_id  \\\n",
       "1314  2f4b452801393f177e9dbca20cac1a07       50             1   \n",
       "\n",
       "     sched_rt_category peak_offpeak time_of_day  total_min_w_gtfs  \\\n",
       "1314          vp_sched         peak     PM Peak               233   \n",
       "\n",
       "      rt_service_min  total_pings  service_minutes  total_vp  vp_in_shape  \\\n",
       "1314             235          729           220.00       729          595   \n",
       "\n",
       "      n_trips  pings_per_min  spatial_accuracy_pct  rt_w_gtfs_pct  \\\n",
       "1314        5           3.10                  0.82           0.99   \n",
       "\n",
       "      rt_v_scheduled_time_pct  \n",
       "1314                     0.07  "
      ]
     },
     "execution_count": 30,
     "metadata": {},
     "output_type": "execute_result"
    }
   ],
   "source": [
    "all_routes2.sample()"
   ]
  },
  {
   "cell_type": "code",
   "execution_count": 32,
   "id": "b82987a1-b3c1-4639-a152-37261db9f286",
   "metadata": {},
   "outputs": [],
   "source": [
    "all_routes_test = route_metrics(\n",
    "    ['2023-10-11'],\n",
    "    \n",
    ")"
   ]
  },
  {
   "cell_type": "markdown",
   "id": "1ac927c1-c52e-4a62-9bc9-db569051b28c",
   "metadata": {
    "tags": []
   },
   "source": [
    "#### How come there are missing rt with GTFS Pct even if  it's vp_sched?"
   ]
  },
  {
   "cell_type": "code",
   "execution_count": 33,
   "id": "65187cca-d7a2-47ca-a6fa-42d8108880cc",
   "metadata": {},
   "outputs": [
    {
     "data": {
      "text/html": [
       "<div>\n",
       "<style scoped>\n",
       "    .dataframe tbody tr th:only-of-type {\n",
       "        vertical-align: middle;\n",
       "    }\n",
       "\n",
       "    .dataframe tbody tr th {\n",
       "        vertical-align: top;\n",
       "    }\n",
       "\n",
       "    .dataframe thead th {\n",
       "        text-align: right;\n",
       "    }\n",
       "</style>\n",
       "<table border=\"1\" class=\"dataframe\">\n",
       "  <thead>\n",
       "    <tr style=\"text-align: right;\">\n",
       "      <th></th>\n",
       "      <th>schedule_gtfs_dataset_key</th>\n",
       "      <th>route_id</th>\n",
       "      <th>direction_id</th>\n",
       "      <th>sched_rt_category</th>\n",
       "      <th>peak_offpeak</th>\n",
       "      <th>time_of_day</th>\n",
       "      <th>total_min_w_gtfs</th>\n",
       "      <th>rt_service_min</th>\n",
       "      <th>total_pings</th>\n",
       "      <th>service_minutes</th>\n",
       "      <th>total_vp</th>\n",
       "      <th>vp_in_shape</th>\n",
       "      <th>n_trips</th>\n",
       "      <th>pings_per_min</th>\n",
       "      <th>spatial_accuracy_pct</th>\n",
       "      <th>rt_w_gtfs_pct</th>\n",
       "      <th>rt_v_scheduled_time_pct</th>\n",
       "    </tr>\n",
       "  </thead>\n",
       "  <tbody>\n",
       "    <tr>\n",
       "      <th>85</th>\n",
       "      <td>015d67d5b75b5cf2b710bbadadfb75f5</td>\n",
       "      <td>49</td>\n",
       "      <td>0</td>\n",
       "      <td>vp_sched</td>\n",
       "      <td>offpeak</td>\n",
       "      <td>Early AM</td>\n",
       "      <td>208</td>\n",
       "      <td>208</td>\n",
       "      <td>620</td>\n",
       "      <td>122.00</td>\n",
       "      <td>620</td>\n",
       "      <td>497</td>\n",
       "      <td>2</td>\n",
       "      <td>2.98</td>\n",
       "      <td>0.80</td>\n",
       "      <td>1.00</td>\n",
       "      <td>0.70</td>\n",
       "    </tr>\n",
       "    <tr>\n",
       "      <th>86</th>\n",
       "      <td>015d67d5b75b5cf2b710bbadadfb75f5</td>\n",
       "      <td>49</td>\n",
       "      <td>0</td>\n",
       "      <td>vp_sched</td>\n",
       "      <td>offpeak</td>\n",
       "      <td>Evening</td>\n",
       "      <td>143</td>\n",
       "      <td>142</td>\n",
       "      <td>425</td>\n",
       "      <td>120.00</td>\n",
       "      <td>425</td>\n",
       "      <td>425</td>\n",
       "      <td>2</td>\n",
       "      <td>2.99</td>\n",
       "      <td>1.00</td>\n",
       "      <td>1.00</td>\n",
       "      <td>0.18</td>\n",
       "    </tr>\n",
       "    <tr>\n",
       "      <th>87</th>\n",
       "      <td>015d67d5b75b5cf2b710bbadadfb75f5</td>\n",
       "      <td>49</td>\n",
       "      <td>0</td>\n",
       "      <td>vp_sched</td>\n",
       "      <td>offpeak</td>\n",
       "      <td>Midday</td>\n",
       "      <td>1295</td>\n",
       "      <td>1292</td>\n",
       "      <td>3845</td>\n",
       "      <td>1080.00</td>\n",
       "      <td>3845</td>\n",
       "      <td>3827</td>\n",
       "      <td>18</td>\n",
       "      <td>2.98</td>\n",
       "      <td>1.00</td>\n",
       "      <td>1.00</td>\n",
       "      <td>0.20</td>\n",
       "    </tr>\n",
       "    <tr>\n",
       "      <th>88</th>\n",
       "      <td>015d67d5b75b5cf2b710bbadadfb75f5</td>\n",
       "      <td>49</td>\n",
       "      <td>0</td>\n",
       "      <td>vp_sched</td>\n",
       "      <td>peak</td>\n",
       "      <td>AM Peak</td>\n",
       "      <td>718</td>\n",
       "      <td>719</td>\n",
       "      <td>2134</td>\n",
       "      <td>625.00</td>\n",
       "      <td>2134</td>\n",
       "      <td>2127</td>\n",
       "      <td>10</td>\n",
       "      <td>2.97</td>\n",
       "      <td>1.00</td>\n",
       "      <td>1.00</td>\n",
       "      <td>0.15</td>\n",
       "    </tr>\n",
       "    <tr>\n",
       "      <th>89</th>\n",
       "      <td>015d67d5b75b5cf2b710bbadadfb75f5</td>\n",
       "      <td>49</td>\n",
       "      <td>0</td>\n",
       "      <td>vp_sched</td>\n",
       "      <td>peak</td>\n",
       "      <td>PM Peak</td>\n",
       "      <td>1192</td>\n",
       "      <td>1195</td>\n",
       "      <td>3537</td>\n",
       "      <td>1016.00</td>\n",
       "      <td>3537</td>\n",
       "      <td>3451</td>\n",
       "      <td>16</td>\n",
       "      <td>2.96</td>\n",
       "      <td>0.98</td>\n",
       "      <td>1.00</td>\n",
       "      <td>0.18</td>\n",
       "    </tr>\n",
       "    <tr>\n",
       "      <th>90</th>\n",
       "      <td>015d67d5b75b5cf2b710bbadadfb75f5</td>\n",
       "      <td>49</td>\n",
       "      <td>1</td>\n",
       "      <td>vp_sched</td>\n",
       "      <td>offpeak</td>\n",
       "      <td>Early AM</td>\n",
       "      <td>503</td>\n",
       "      <td>502</td>\n",
       "      <td>1496</td>\n",
       "      <td>356.00</td>\n",
       "      <td>1496</td>\n",
       "      <td>1088</td>\n",
       "      <td>5</td>\n",
       "      <td>2.98</td>\n",
       "      <td>0.73</td>\n",
       "      <td>1.00</td>\n",
       "      <td>0.41</td>\n",
       "    </tr>\n",
       "    <tr>\n",
       "      <th>91</th>\n",
       "      <td>015d67d5b75b5cf2b710bbadadfb75f5</td>\n",
       "      <td>49</td>\n",
       "      <td>1</td>\n",
       "      <td>vp_sched</td>\n",
       "      <td>offpeak</td>\n",
       "      <td>Evening</td>\n",
       "      <td>196</td>\n",
       "      <td>229</td>\n",
       "      <td>582</td>\n",
       "      <td>138.00</td>\n",
       "      <td>582</td>\n",
       "      <td>435</td>\n",
       "      <td>2</td>\n",
       "      <td>2.54</td>\n",
       "      <td>0.75</td>\n",
       "      <td>0.86</td>\n",
       "      <td>0.66</td>\n",
       "    </tr>\n",
       "    <tr>\n",
       "      <th>92</th>\n",
       "      <td>015d67d5b75b5cf2b710bbadadfb75f5</td>\n",
       "      <td>49</td>\n",
       "      <td>1</td>\n",
       "      <td>vp_sched</td>\n",
       "      <td>offpeak</td>\n",
       "      <td>Midday</td>\n",
       "      <td>1257</td>\n",
       "      <td>1258</td>\n",
       "      <td>3738</td>\n",
       "      <td>1242.00</td>\n",
       "      <td>3738</td>\n",
       "      <td>3700</td>\n",
       "      <td>18</td>\n",
       "      <td>2.97</td>\n",
       "      <td>0.99</td>\n",
       "      <td>1.00</td>\n",
       "      <td>0.01</td>\n",
       "    </tr>\n",
       "    <tr>\n",
       "      <th>93</th>\n",
       "      <td>015d67d5b75b5cf2b710bbadadfb75f5</td>\n",
       "      <td>49</td>\n",
       "      <td>1</td>\n",
       "      <td>vp_sched</td>\n",
       "      <td>peak</td>\n",
       "      <td>AM Peak</td>\n",
       "      <td>795</td>\n",
       "      <td>796</td>\n",
       "      <td>2364</td>\n",
       "      <td>722.00</td>\n",
       "      <td>2364</td>\n",
       "      <td>2294</td>\n",
       "      <td>10</td>\n",
       "      <td>2.97</td>\n",
       "      <td>0.97</td>\n",
       "      <td>1.00</td>\n",
       "      <td>0.10</td>\n",
       "    </tr>\n",
       "    <tr>\n",
       "      <th>94</th>\n",
       "      <td>015d67d5b75b5cf2b710bbadadfb75f5</td>\n",
       "      <td>49</td>\n",
       "      <td>1</td>\n",
       "      <td>vp_sched</td>\n",
       "      <td>peak</td>\n",
       "      <td>PM Peak</td>\n",
       "      <td>1288</td>\n",
       "      <td>1286</td>\n",
       "      <td>3828</td>\n",
       "      <td>1063.00</td>\n",
       "      <td>3828</td>\n",
       "      <td>3463</td>\n",
       "      <td>15</td>\n",
       "      <td>2.98</td>\n",
       "      <td>0.90</td>\n",
       "      <td>1.00</td>\n",
       "      <td>0.21</td>\n",
       "    </tr>\n",
       "  </tbody>\n",
       "</table>\n",
       "</div>"
      ],
      "text/plain": [
       "           schedule_gtfs_dataset_key route_id  direction_id sched_rt_category  \\\n",
       "85  015d67d5b75b5cf2b710bbadadfb75f5       49             0          vp_sched   \n",
       "86  015d67d5b75b5cf2b710bbadadfb75f5       49             0          vp_sched   \n",
       "87  015d67d5b75b5cf2b710bbadadfb75f5       49             0          vp_sched   \n",
       "88  015d67d5b75b5cf2b710bbadadfb75f5       49             0          vp_sched   \n",
       "89  015d67d5b75b5cf2b710bbadadfb75f5       49             0          vp_sched   \n",
       "90  015d67d5b75b5cf2b710bbadadfb75f5       49             1          vp_sched   \n",
       "91  015d67d5b75b5cf2b710bbadadfb75f5       49             1          vp_sched   \n",
       "92  015d67d5b75b5cf2b710bbadadfb75f5       49             1          vp_sched   \n",
       "93  015d67d5b75b5cf2b710bbadadfb75f5       49             1          vp_sched   \n",
       "94  015d67d5b75b5cf2b710bbadadfb75f5       49             1          vp_sched   \n",
       "\n",
       "   peak_offpeak time_of_day  total_min_w_gtfs  rt_service_min  total_pings  \\\n",
       "85      offpeak    Early AM               208             208          620   \n",
       "86      offpeak     Evening               143             142          425   \n",
       "87      offpeak      Midday              1295            1292         3845   \n",
       "88         peak     AM Peak               718             719         2134   \n",
       "89         peak     PM Peak              1192            1195         3537   \n",
       "90      offpeak    Early AM               503             502         1496   \n",
       "91      offpeak     Evening               196             229          582   \n",
       "92      offpeak      Midday              1257            1258         3738   \n",
       "93         peak     AM Peak               795             796         2364   \n",
       "94         peak     PM Peak              1288            1286         3828   \n",
       "\n",
       "    service_minutes  total_vp  vp_in_shape  n_trips  pings_per_min  \\\n",
       "85           122.00       620          497        2           2.98   \n",
       "86           120.00       425          425        2           2.99   \n",
       "87          1080.00      3845         3827       18           2.98   \n",
       "88           625.00      2134         2127       10           2.97   \n",
       "89          1016.00      3537         3451       16           2.96   \n",
       "90           356.00      1496         1088        5           2.98   \n",
       "91           138.00       582          435        2           2.54   \n",
       "92          1242.00      3738         3700       18           2.97   \n",
       "93           722.00      2364         2294       10           2.97   \n",
       "94          1063.00      3828         3463       15           2.98   \n",
       "\n",
       "    spatial_accuracy_pct  rt_w_gtfs_pct  rt_v_scheduled_time_pct  \n",
       "85                  0.80           1.00                     0.70  \n",
       "86                  1.00           1.00                     0.18  \n",
       "87                  1.00           1.00                     0.20  \n",
       "88                  1.00           1.00                     0.15  \n",
       "89                  0.98           1.00                     0.18  \n",
       "90                  0.73           1.00                     0.41  \n",
       "91                  0.75           0.86                     0.66  \n",
       "92                  0.99           1.00                     0.01  \n",
       "93                  0.97           1.00                     0.10  \n",
       "94                  0.90           1.00                     0.21  "
      ]
     },
     "execution_count": 33,
     "metadata": {},
     "output_type": "execute_result"
    }
   ],
   "source": [
    "all_routes2.loc[\n",
    "    (all_routes2[\"route_id\"] == \"49\")\n",
    "    & (all_routes2[\"schedule_gtfs_dataset_key\"] == \"015d67d5b75b5cf2b710bbadadfb75f5\")\n",
    "]"
   ]
  },
  {
   "cell_type": "code",
   "execution_count": 34,
   "id": "72236704-5625-47e5-8cb3-03d391c34ec4",
   "metadata": {},
   "outputs": [
    {
     "data": {
      "text/html": [
       "<div>\n",
       "<style scoped>\n",
       "    .dataframe tbody tr th:only-of-type {\n",
       "        vertical-align: middle;\n",
       "    }\n",
       "\n",
       "    .dataframe tbody tr th {\n",
       "        vertical-align: top;\n",
       "    }\n",
       "\n",
       "    .dataframe thead th {\n",
       "        text-align: right;\n",
       "    }\n",
       "</style>\n",
       "<table border=\"1\" class=\"dataframe\">\n",
       "  <thead>\n",
       "    <tr style=\"text-align: right;\">\n",
       "      <th></th>\n",
       "      <th>service_date</th>\n",
       "    </tr>\n",
       "  </thead>\n",
       "  <tbody>\n",
       "    <tr>\n",
       "      <th>85724</th>\n",
       "      <td>2023-09-13</td>\n",
       "    </tr>\n",
       "    <tr>\n",
       "      <th>172356</th>\n",
       "      <td>2023-10-11</td>\n",
       "    </tr>\n",
       "  </tbody>\n",
       "</table>\n",
       "</div>"
      ],
      "text/plain": [
       "       service_date\n",
       "85724    2023-09-13\n",
       "172356   2023-10-11"
      ]
     },
     "execution_count": 34,
     "metadata": {},
     "output_type": "execute_result"
    }
   ],
   "source": [
    "all_routes.loc[\n",
    "    (all_routes.route_id == \"49\")\n",
    "    & (all_routes.schedule_gtfs_dataset_key == \"015d67d5b75b5cf2b710bbadadfb75f5\")\n",
    "][[\"service_date\"]].drop_duplicates()"
   ]
  },
  {
   "cell_type": "markdown",
   "id": "320956f4-bc2b-4127-a17e-9f965641c63f",
   "metadata": {},
   "source": [
    "#### Cleaning Function"
   ]
  },
  {
   "cell_type": "code",
   "execution_count": null,
   "id": "0b40b193-0272-404a-bc8a-0601d879f684",
   "metadata": {},
   "outputs": [],
   "source": [
    "pct_cols = [\n",
    "    \"rt_w_gtfs_pct\",\n",
    "    \"rt_v_scheduled_time_pct\",\n",
    "    \"spatial_accuracy_pct\",\n",
    "]"
   ]
  },
  {
   "cell_type": "code",
   "execution_count": null,
   "id": "f94f943b-60d4-4ccd-8330-8846d38168b9",
   "metadata": {},
   "outputs": [],
   "source": [
    "int_cols = [\n",
    "    \"rt_service_min\",\n",
    "    \"service_minutes\",\n",
    "]"
   ]
  },
  {
   "cell_type": "code",
   "execution_count": null,
   "id": "1b4c6471-97e5-427f-882b-72dc65da2b1b",
   "metadata": {},
   "outputs": [],
   "source": [
    "def clean_df(df: pd.DataFrame, pct_cols: list, int_cols: list) -> pd.DataFrame:\n",
    "    for i in pct_cols:\n",
    "        df[i] = df[i] * 100\n",
    "    for i in int_cols:\n",
    "        df[i] = df[i].fillna(0).round()\n",
    "\n",
    "    df.columns = df.columns.str.replace(\"_\", \" \").str.strip().str.title()\n",
    "    return df"
   ]
  },
  {
   "cell_type": "code",
   "execution_count": null,
   "id": "aaef7fd0-888f-425b-bb59-56aa51002f75",
   "metadata": {},
   "outputs": [],
   "source": [
    "all_routes3 = clean_df(all_routes2, pct_cols, int_cols)"
   ]
  },
  {
   "cell_type": "code",
   "execution_count": null,
   "id": "a5c52d8b-dec6-4e01-9e66-66aa87eef4f7",
   "metadata": {},
   "outputs": [],
   "source": [
    "all_routes3.sample(3)"
   ]
  }
 ],
 "metadata": {
  "kernelspec": {
   "display_name": "Python 3 (ipykernel)",
   "language": "python",
   "name": "python3"
  },
  "language_info": {
   "codemirror_mode": {
    "name": "ipython",
    "version": 3
   },
   "file_extension": ".py",
   "mimetype": "text/x-python",
   "name": "python",
   "nbconvert_exporter": "python",
   "pygments_lexer": "ipython3",
   "version": "3.9.13"
  }
 },
 "nbformat": 4,
 "nbformat_minor": 5
}
