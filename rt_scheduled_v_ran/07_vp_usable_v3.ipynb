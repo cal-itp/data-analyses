{
 "cells": [
  {
   "cell_type": "markdown",
   "id": "3055b228-034e-4812-a3fc-3b847afb3dec",
   "metadata": {},
   "source": [
    "## Update `trips`\n",
    "* cd rt_segment_speeds && pip install -r requirements.txt && cd ../_shared_utils && make setup_env\n",
    "* https://github.com/cal-itp/data-analyses/pull/1016\n",
    "    * Keep source data + metrics tightly defined with GCS bucket organization.\n",
    "    * vp_usable is source data for rt_vs_sched metrics, do not merge in schedule data until gtfs_digest report. Only bring in schedule_gtfs_dataset_key column in * * vp_usable + route_id-direction_id for trips also present in schedule. If not in schedule, fill it with route_id = Unknown and direction_id as Int64\n",
    "    * Add function to concatenate trip file, enable us to put in 1 day or 7 days for aggregation\n",
    "    * A single function for normalized metrics (percent, per min, etc)\n",
    "    * A single function for aggregation (summing up numerator / denominator)\n",
    "    \n",
    "* https://github.com/cal-itp/data-analyses/issues/989\n",
    "\n",
    "* Notes 2/6\n",
    "    * GTFS digest creates four datasets: schedule, average speeds, segment speeds, and rt vs schedule\n",
    "    * Currently, merging is challenging.\n",
    "    * Time categories are not necessarily the same (peak/offpeak/all-day)\n",
    "    * Want all datasets to merge on the same set of columns (schedule gtfs key, route id, dir id, service date, and time categories) because `shapes` are unstable.\n",
    "    * `Route ID` has been stabilized by Tiffany \n",
    "    * Update work from `rt_v_scheduled.py` (steps already outlined in `scripts/route_aggregation.ipynb`)\n",
    "        * Do steps up until row 339 when the % are calculated. \n",
    "        * Take away `speeds`.\n",
    "        * Save this \"pre-metric\" data somewhere since it takes so long to run?\n",
    "        * Bring in schedule gtfs key, trip instance key, route id, direction id either at the beginning or the end using `helpers.import_scheduled_trips`\n",
    "        * Coerce DIR ID to Int64, don't fill it in with 0. It's not 0, it's Nan\n",
    "        * Save files with the analysis date at the end instead of the beginning.\n",
    "        * Split off the workstream -> one for trip level and one for route level\n",
    "            * Use the config.yml to save the trips and routes stuff into their own folder.\n",
    "            * Routes:\n",
    "                * For routes, the minutes/pings should be totalled up. Currently, just taking the average of an average isn't really accurate.\n",
    "                * The route level should be able to take multiple days of data and concatenate so we can get metrics for a week/2 weeks/etc instead of for a single day. [Done here](https://github.com/cal-itp/data-analyses/blob/main/rt_segment_speeds/scripts/average_speeds.py)\n",
    "                * Add the route frequency as well?\n",
    "           * Trips:\n",
    "               * Do up to step 339 in `rt_v_scheduled.py`\n",
    "               * Write a new generalized function to create all the % \n",
    "            \n",
    "            "
   ]
  },
  {
   "cell_type": "code",
   "execution_count": 1,
   "id": "37ccf2b0-8eb5-426e-8f67-fd461f32fde7",
   "metadata": {},
   "outputs": [],
   "source": [
    "import dask.dataframe as dd\n",
    "import pandas as pd\n",
    "import yaml\n",
    "from segment_speed_utils import gtfs_schedule_wrangling, helpers\n",
    "from segment_speed_utils.project_vars import RT_SCHED_GCS, SEGMENT_GCS\n",
    "from shared_utils import rt_dates"
   ]
  },
  {
   "cell_type": "code",
   "execution_count": 2,
   "id": "31ad188f-c785-40a6-b42d-55510e719835",
   "metadata": {},
   "outputs": [],
   "source": [
    "pd.options.display.max_columns = 100\n",
    "pd.options.display.float_format = \"{:.2f}\".format\n",
    "pd.set_option(\"display.max_rows\", None)\n",
    "pd.set_option(\"display.max_colwidth\", None)"
   ]
  },
  {
   "cell_type": "code",
   "execution_count": 3,
   "id": "b3a071ad-53d9-4753-8592-04a6cc6afdf9",
   "metadata": {},
   "outputs": [],
   "source": [
    "analysis_date = rt_dates.DATES[\"dec2023\"]"
   ]
  },
  {
   "cell_type": "markdown",
   "id": "4ae34fb7-d952-49aa-94d5-98e5591c61c8",
   "metadata": {},
   "source": [
    "### Load in `rt_v_scheduled_trip` functions"
   ]
  },
  {
   "cell_type": "code",
   "execution_count": 4,
   "id": "ba37b6e9-bec7-493b-a025-8d5d6a93dbb2",
   "metadata": {},
   "outputs": [],
   "source": [
    "dec_df = pd.read_parquet(\"./ah_testing_dec_2023.parquet\")"
   ]
  },
  {
   "cell_type": "code",
   "execution_count": 5,
   "id": "4584585f-468d-4218-8caf-de04f9de6f57",
   "metadata": {},
   "outputs": [
    {
     "data": {
      "text/html": [
       "<div>\n",
       "<style scoped>\n",
       "    .dataframe tbody tr th:only-of-type {\n",
       "        vertical-align: middle;\n",
       "    }\n",
       "\n",
       "    .dataframe tbody tr th {\n",
       "        vertical-align: top;\n",
       "    }\n",
       "\n",
       "    .dataframe thead th {\n",
       "        text-align: right;\n",
       "    }\n",
       "</style>\n",
       "<table border=\"1\" class=\"dataframe\">\n",
       "  <thead>\n",
       "    <tr style=\"text-align: right;\">\n",
       "      <th></th>\n",
       "      <th>schedule_gtfs_dataset_key</th>\n",
       "      <th>trip_instance_key</th>\n",
       "      <th>rt_service_min</th>\n",
       "      <th>min_w_atleast2_trip_updates</th>\n",
       "      <th>total_pings_for_trip</th>\n",
       "      <th>total_min_w_gtfs</th>\n",
       "      <th>total_vp</th>\n",
       "      <th>vp_in_shape</th>\n",
       "    </tr>\n",
       "  </thead>\n",
       "  <tbody>\n",
       "    <tr>\n",
       "      <th>69534</th>\n",
       "      <td>7cc0cb1871dfd558f11a2885c145d144</td>\n",
       "      <td>6326acd03cbd1e868a3adb64e0e66aed</td>\n",
       "      <td>39.75</td>\n",
       "      <td>39</td>\n",
       "      <td>117</td>\n",
       "      <td>40</td>\n",
       "      <td>117.00</td>\n",
       "      <td>87.00</td>\n",
       "    </tr>\n",
       "  </tbody>\n",
       "</table>\n",
       "</div>"
      ],
      "text/plain": [
       "              schedule_gtfs_dataset_key                 trip_instance_key  \\\n",
       "69534  7cc0cb1871dfd558f11a2885c145d144  6326acd03cbd1e868a3adb64e0e66aed   \n",
       "\n",
       "       rt_service_min  min_w_atleast2_trip_updates  total_pings_for_trip  \\\n",
       "69534           39.75                           39                   117   \n",
       "\n",
       "       total_min_w_gtfs  total_vp  vp_in_shape  \n",
       "69534                40    117.00        87.00  "
      ]
     },
     "execution_count": 5,
     "metadata": {},
     "output_type": "execute_result"
    }
   ],
   "source": [
    "dec_df.sample()"
   ]
  },
  {
   "cell_type": "markdown",
   "id": "ade46b33-4939-4709-ae10-b9b31ef3a915",
   "metadata": {},
   "source": [
    "### Add back routes-schedule-trip instance"
   ]
  },
  {
   "cell_type": "code",
   "execution_count": 6,
   "id": "9e2fda72-be3d-4617-9dba-0cfff03d061f",
   "metadata": {},
   "outputs": [],
   "source": [
    "GCS_FILE_PATH = \"gs://calitp-analytics-data/data-analyses/\"\n",
    "COMPILED_CACHED_VIEWS = f\"{GCS_FILE_PATH}rt_delay/compiled_cached_views/\""
   ]
  },
  {
   "cell_type": "code",
   "execution_count": 7,
   "id": "429ec983-104e-436d-bfb7-7add668a6bf1",
   "metadata": {},
   "outputs": [],
   "source": [
    "FILE = f\"{COMPILED_CACHED_VIEWS}trips_{analysis_date}.parquet\"\n",
    "RENAME_DICT = {\"gtfs_dataset_key\": \"schedule_gtfs_dataset_key\"}"
   ]
  },
  {
   "cell_type": "code",
   "execution_count": 8,
   "id": "72bf86a6-2084-4842-9d40-37693ce1847b",
   "metadata": {},
   "outputs": [],
   "source": [
    "routes_df_og = pd.read_parquet(FILE)"
   ]
  },
  {
   "cell_type": "code",
   "execution_count": 9,
   "id": "5209737a-a0bd-4e9d-a209-8625d458d9db",
   "metadata": {},
   "outputs": [
    {
     "data": {
      "text/html": [
       "<div>\n",
       "<style scoped>\n",
       "    .dataframe tbody tr th:only-of-type {\n",
       "        vertical-align: middle;\n",
       "    }\n",
       "\n",
       "    .dataframe tbody tr th {\n",
       "        vertical-align: top;\n",
       "    }\n",
       "\n",
       "    .dataframe thead th {\n",
       "        text-align: right;\n",
       "    }\n",
       "</style>\n",
       "<table border=\"1\" class=\"dataframe\">\n",
       "  <thead>\n",
       "    <tr style=\"text-align: right;\">\n",
       "      <th></th>\n",
       "      <th>feed_key</th>\n",
       "      <th>gtfs_dataset_key</th>\n",
       "      <th>name</th>\n",
       "      <th>regional_feed_type</th>\n",
       "      <th>service_date</th>\n",
       "      <th>trip_start_date_pacific</th>\n",
       "      <th>trip_id</th>\n",
       "      <th>trip_instance_key</th>\n",
       "      <th>route_key</th>\n",
       "      <th>route_id</th>\n",
       "      <th>route_type</th>\n",
       "      <th>route_short_name</th>\n",
       "      <th>route_long_name</th>\n",
       "      <th>route_desc</th>\n",
       "      <th>direction_id</th>\n",
       "      <th>shape_array_key</th>\n",
       "      <th>shape_id</th>\n",
       "      <th>trip_first_departure_datetime_pacific</th>\n",
       "      <th>trip_last_arrival_datetime_pacific</th>\n",
       "      <th>service_hours</th>\n",
       "      <th>trip_start_date_local_tz</th>\n",
       "      <th>trip_first_departure_datetime_local_tz</th>\n",
       "      <th>trip_last_arrival_datetime_local_tz</th>\n",
       "    </tr>\n",
       "  </thead>\n",
       "  <tbody>\n",
       "    <tr>\n",
       "      <th>84810</th>\n",
       "      <td>82dd924efb837dcc0cd2c9ad2fb0f418</td>\n",
       "      <td>3f3f36b4c41cc6b5df3eb7f5d8ea6e3c</td>\n",
       "      <td>LA Metro Bus Schedule</td>\n",
       "      <td>None</td>\n",
       "      <td>2023-12-13</td>\n",
       "      <td>2023-12-13</td>\n",
       "      <td>10460002001513-DEC23</td>\n",
       "      <td>580e5c5af3a8083d8f9df591fdc71017</td>\n",
       "      <td>886cd5ec3b256eb3743e11083948e5de</td>\n",
       "      <td>460-13172</td>\n",
       "      <td>3</td>\n",
       "      <td>460</td>\n",
       "      <td>Metro Express Line</td>\n",
       "      <td>DOWNTOWN LA - DISNEYLAND VIA HARBOR TWAY-105 FWY</td>\n",
       "      <td>0.00</td>\n",
       "      <td>939223c5ca048d378cfd8c039ff46f5b</td>\n",
       "      <td>4600200_DEC23</td>\n",
       "      <td>2023-12-13 15:13:00</td>\n",
       "      <td>2023-12-13 17:34:00</td>\n",
       "      <td>2.35</td>\n",
       "      <td>2023-12-13</td>\n",
       "      <td>2023-12-13 15:13:00</td>\n",
       "      <td>2023-12-13 17:34:00</td>\n",
       "    </tr>\n",
       "  </tbody>\n",
       "</table>\n",
       "</div>"
      ],
      "text/plain": [
       "                               feed_key                  gtfs_dataset_key  \\\n",
       "84810  82dd924efb837dcc0cd2c9ad2fb0f418  3f3f36b4c41cc6b5df3eb7f5d8ea6e3c   \n",
       "\n",
       "                        name regional_feed_type service_date  \\\n",
       "84810  LA Metro Bus Schedule               None   2023-12-13   \n",
       "\n",
       "      trip_start_date_pacific               trip_id  \\\n",
       "84810              2023-12-13  10460002001513-DEC23   \n",
       "\n",
       "                      trip_instance_key                         route_key  \\\n",
       "84810  580e5c5af3a8083d8f9df591fdc71017  886cd5ec3b256eb3743e11083948e5de   \n",
       "\n",
       "        route_id route_type route_short_name     route_long_name  \\\n",
       "84810  460-13172          3              460  Metro Express Line   \n",
       "\n",
       "                                             route_desc  direction_id  \\\n",
       "84810  DOWNTOWN LA - DISNEYLAND VIA HARBOR TWAY-105 FWY          0.00   \n",
       "\n",
       "                        shape_array_key       shape_id  \\\n",
       "84810  939223c5ca048d378cfd8c039ff46f5b  4600200_DEC23   \n",
       "\n",
       "      trip_first_departure_datetime_pacific  \\\n",
       "84810                   2023-12-13 15:13:00   \n",
       "\n",
       "      trip_last_arrival_datetime_pacific  service_hours  \\\n",
       "84810                2023-12-13 17:34:00           2.35   \n",
       "\n",
       "      trip_start_date_local_tz trip_first_departure_datetime_local_tz  \\\n",
       "84810               2023-12-13                    2023-12-13 15:13:00   \n",
       "\n",
       "      trip_last_arrival_datetime_local_tz  \n",
       "84810                 2023-12-13 17:34:00  "
      ]
     },
     "execution_count": 9,
     "metadata": {},
     "output_type": "execute_result"
    }
   ],
   "source": [
    "routes_df_og.sample()"
   ]
  },
  {
   "cell_type": "code",
   "execution_count": 10,
   "id": "05643f8b-3b4b-4f35-9bc7-8536b9bb2ba0",
   "metadata": {},
   "outputs": [],
   "source": [
    "routes_df = helpers.import_scheduled_trips(\n",
    "    analysis_date,\n",
    "    columns=[\n",
    "        \"gtfs_dataset_key\",\n",
    "        \"route_id\",\n",
    "        \"direction_id\",\n",
    "        \"trip_instance_key\",\n",
    "    ],\n",
    "    get_pandas=True,\n",
    ")"
   ]
  },
  {
   "cell_type": "code",
   "execution_count": 11,
   "id": "05662ed0-442d-40c5-82f8-5be398e11b90",
   "metadata": {},
   "outputs": [
    {
     "data": {
      "text/plain": [
       "sched_rt_category\n",
       "both                 77977\n",
       "right_only           24342\n",
       "left_only             8151\n",
       "dtype: int64"
      ]
     },
     "execution_count": 11,
     "metadata": {},
     "output_type": "execute_result"
    }
   ],
   "source": [
    "pd.merge(\n",
    "    dec_df,\n",
    "    routes_df,\n",
    "    on=[\"trip_instance_key\"],\n",
    "    how=\"outer\",\n",
    "    indicator=\"sched_rt_category\",\n",
    ")[[\"sched_rt_category\"]].value_counts()"
   ]
  },
  {
   "cell_type": "code",
   "execution_count": 12,
   "id": "6693be50-a0f0-480a-9c86-85a82be46cf2",
   "metadata": {},
   "outputs": [],
   "source": [
    "dec_df2 = pd.merge(\n",
    "    dec_df,\n",
    "    routes_df,\n",
    "    on=[\"schedule_gtfs_dataset_key\", \"trip_instance_key\"],\n",
    "    how=\"left\",\n",
    "    indicator=\"sched_rt_category\",\n",
    ")"
   ]
  },
  {
   "cell_type": "code",
   "execution_count": 13,
   "id": "b500d6ec-22b6-46c6-9157-7af47925bbbb",
   "metadata": {},
   "outputs": [],
   "source": [
    "dec_df2 = dec_df2.assign(\n",
    "    route_id=dec_df2.route_id.fillna(\"Unknown\"),\n",
    "    direction_id=dec_df2.direction_id.astype(\"Int64\"),\n",
    "    sched_rt_category=dec_df2.apply(\n",
    "        lambda x: \"vp_only\" if x.sched_rt_category == \"left_only\" else \"vp_sched\",\n",
    "        axis=1,\n",
    "    ),\n",
    ")"
   ]
  },
  {
   "cell_type": "code",
   "execution_count": 14,
   "id": "b9ae59a1-3c0a-4df4-bf16-3d8844ea5baf",
   "metadata": {},
   "outputs": [
    {
     "data": {
      "text/plain": [
       "86128"
      ]
     },
     "execution_count": 14,
     "metadata": {},
     "output_type": "execute_result"
    }
   ],
   "source": [
    "len(dec_df2)"
   ]
  },
  {
   "cell_type": "code",
   "execution_count": 15,
   "id": "0ee64299-d615-4e05-90fc-3aade83d4f63",
   "metadata": {},
   "outputs": [],
   "source": [
    "time_buckets = gtfs_schedule_wrangling.get_trip_time_buckets(analysis_date)[\n",
    "    [\"trip_instance_key\", \"time_of_day\", \"service_minutes\"]\n",
    "].pipe(gtfs_schedule_wrangling.add_peak_offpeak_column)[['trip_instance_key', 'service_minutes', 'peak_offpeak']]"
   ]
  },
  {
   "cell_type": "code",
   "execution_count": 16,
   "id": "00285184-234e-4fce-8d6c-05931bf85cea",
   "metadata": {},
   "outputs": [
    {
     "data": {
      "text/html": [
       "<div>\n",
       "<style scoped>\n",
       "    .dataframe tbody tr th:only-of-type {\n",
       "        vertical-align: middle;\n",
       "    }\n",
       "\n",
       "    .dataframe tbody tr th {\n",
       "        vertical-align: top;\n",
       "    }\n",
       "\n",
       "    .dataframe thead th {\n",
       "        text-align: right;\n",
       "    }\n",
       "</style>\n",
       "<table border=\"1\" class=\"dataframe\">\n",
       "  <thead>\n",
       "    <tr style=\"text-align: right;\">\n",
       "      <th></th>\n",
       "      <th>trip_instance_key</th>\n",
       "      <th>service_minutes</th>\n",
       "      <th>peak_offpeak</th>\n",
       "    </tr>\n",
       "  </thead>\n",
       "  <tbody>\n",
       "    <tr>\n",
       "      <th>70088</th>\n",
       "      <td>6b6ad088430e0a2d309a2c52b4e0825c</td>\n",
       "      <td>47.00</td>\n",
       "      <td>offpeak</td>\n",
       "    </tr>\n",
       "  </tbody>\n",
       "</table>\n",
       "</div>"
      ],
      "text/plain": [
       "                      trip_instance_key  service_minutes peak_offpeak\n",
       "70088  6b6ad088430e0a2d309a2c52b4e0825c            47.00      offpeak"
      ]
     },
     "execution_count": 16,
     "metadata": {},
     "output_type": "execute_result"
    }
   ],
   "source": [
    "time_buckets.sample()"
   ]
  },
  {
   "cell_type": "code",
   "execution_count": 17,
   "id": "70e43221-360f-4c94-9af3-e6561d12e7ef",
   "metadata": {},
   "outputs": [
    {
     "data": {
      "text/plain": [
       "_merge    \n",
       "both          77977\n",
       "right_only    24342\n",
       "left_only      8151\n",
       "dtype: int64"
      ]
     },
     "execution_count": 17,
     "metadata": {},
     "output_type": "execute_result"
    }
   ],
   "source": [
    "pd.merge(dec_df2, time_buckets, on=[\"trip_instance_key\"], how=\"outer\", indicator=True)[\n",
    "    [\"_merge\"]\n",
    "].value_counts()"
   ]
  },
  {
   "cell_type": "markdown",
   "id": "2d499baa-e99f-4396-b188-9dfa2609ca6b",
   "metadata": {},
   "source": [
    "#### How come we want to do the inner join?"
   ]
  },
  {
   "cell_type": "code",
   "execution_count": 18,
   "id": "49d4a06c-bf20-447e-90f0-2c8ebd36b938",
   "metadata": {},
   "outputs": [],
   "source": [
    "dec_df3 = pd.merge(dec_df2, time_buckets, on=[\"trip_instance_key\"], how=\"inner\")"
   ]
  },
  {
   "cell_type": "code",
   "execution_count": 19,
   "id": "88ef223d-096a-425c-a857-359dd641472c",
   "metadata": {},
   "outputs": [
    {
     "data": {
      "text/html": [
       "<div>\n",
       "<style scoped>\n",
       "    .dataframe tbody tr th:only-of-type {\n",
       "        vertical-align: middle;\n",
       "    }\n",
       "\n",
       "    .dataframe tbody tr th {\n",
       "        vertical-align: top;\n",
       "    }\n",
       "\n",
       "    .dataframe thead th {\n",
       "        text-align: right;\n",
       "    }\n",
       "</style>\n",
       "<table border=\"1\" class=\"dataframe\">\n",
       "  <thead>\n",
       "    <tr style=\"text-align: right;\">\n",
       "      <th></th>\n",
       "      <th>schedule_gtfs_dataset_key</th>\n",
       "      <th>trip_instance_key</th>\n",
       "      <th>rt_service_min</th>\n",
       "      <th>min_w_atleast2_trip_updates</th>\n",
       "      <th>total_pings_for_trip</th>\n",
       "      <th>total_min_w_gtfs</th>\n",
       "      <th>total_vp</th>\n",
       "      <th>vp_in_shape</th>\n",
       "      <th>route_id</th>\n",
       "      <th>direction_id</th>\n",
       "      <th>sched_rt_category</th>\n",
       "      <th>service_minutes</th>\n",
       "      <th>peak_offpeak</th>\n",
       "    </tr>\n",
       "  </thead>\n",
       "  <tbody>\n",
       "    <tr>\n",
       "      <th>14659</th>\n",
       "      <td>3f3f36b4c41cc6b5df3eb7f5d8ea6e3c</td>\n",
       "      <td>03a7307eb3dd2f4a9e559ef2b048155c</td>\n",
       "      <td>123.00</td>\n",
       "      <td>99</td>\n",
       "      <td>312</td>\n",
       "      <td>123</td>\n",
       "      <td>312.00</td>\n",
       "      <td>312.00</td>\n",
       "      <td>4-13172</td>\n",
       "      <td>0</td>\n",
       "      <td>vp_sched</td>\n",
       "      <td>114.00</td>\n",
       "      <td>peak</td>\n",
       "    </tr>\n",
       "  </tbody>\n",
       "</table>\n",
       "</div>"
      ],
      "text/plain": [
       "              schedule_gtfs_dataset_key                 trip_instance_key  \\\n",
       "14659  3f3f36b4c41cc6b5df3eb7f5d8ea6e3c  03a7307eb3dd2f4a9e559ef2b048155c   \n",
       "\n",
       "       rt_service_min  min_w_atleast2_trip_updates  total_pings_for_trip  \\\n",
       "14659          123.00                           99                   312   \n",
       "\n",
       "       total_min_w_gtfs  total_vp  vp_in_shape route_id  direction_id  \\\n",
       "14659               123    312.00       312.00  4-13172             0   \n",
       "\n",
       "      sched_rt_category  service_minutes peak_offpeak  \n",
       "14659          vp_sched           114.00         peak  "
      ]
     },
     "execution_count": 19,
     "metadata": {},
     "output_type": "execute_result"
    }
   ],
   "source": [
    "dec_df3.sample()"
   ]
  },
  {
   "cell_type": "code",
   "execution_count": 20,
   "id": "8f5cf358-d3a4-4e35-ad6b-fcd54864ba8b",
   "metadata": {},
   "outputs": [
    {
     "data": {
      "text/plain": [
       "vp_sched    77977\n",
       "Name: sched_rt_category, dtype: int64"
      ]
     },
     "execution_count": 20,
     "metadata": {},
     "output_type": "execute_result"
    }
   ],
   "source": [
    "dec_df3.sched_rt_category.value_counts()"
   ]
  },
  {
   "cell_type": "markdown",
   "id": "39cd76fc-4e0b-4adf-9e41-ee1c19f42da3",
   "metadata": {},
   "source": [
    "### Trips: add back metrics"
   ]
  },
  {
   "cell_type": "code",
   "execution_count": 21,
   "id": "1b1208f5-71c6-4652-ae5e-75c94446465d",
   "metadata": {},
   "outputs": [],
   "source": [
    "def add_metrics(df: pd.DataFrame) -> pd.DataFrame:\n",
    "\n",
    "    df[\"pings_per_min\"] = df.total_pings_for_trip / df.rt_service_min\n",
    "    df[\"spatial_accuracy_pct\"] = (df.vp_in_shape / df.total_vp) * 100\n",
    "    df[\"rt_triptime_w_gtfs_pct\"] = (df.total_min_w_gtfs / df.rt_service_min) * 100\n",
    "    df[\"rt_v_scheduled_trip_time_pct\"] = (\n",
    "        df.rt_service_min / df.service_minutes - 1\n",
    "    ) * 100\n",
    "\n",
    "    # Mask rt_triptime_w_gtfs_pct for any values above 100%\n",
    "    df.rt_triptime_w_gtfs_pct = df.rt_triptime_w_gtfs_pct.mask(\n",
    "        df.rt_triptime_w_gtfs_pct > 100\n",
    "    ).fillna(100)\n",
    "    \n",
    "    drop_cols = ['total_pings_for_trip',\n",
    "                'vp_in_shape',\n",
    "                'total_vp',\n",
    "                'total_min_w_gtfs']\n",
    "    df = df.drop(columns = drop_cols)\n",
    "    return df"
   ]
  },
  {
   "cell_type": "code",
   "execution_count": 22,
   "id": "5d6aa90e-75e8-4b9a-bafe-55d1ce4f46a8",
   "metadata": {},
   "outputs": [],
   "source": [
    "trips = add_metrics(dec_df3)"
   ]
  },
  {
   "cell_type": "code",
   "execution_count": 23,
   "id": "3b940d25-d4da-472a-aca6-3acd05119c1a",
   "metadata": {},
   "outputs": [
    {
     "data": {
      "text/html": [
       "<div>\n",
       "<style scoped>\n",
       "    .dataframe tbody tr th:only-of-type {\n",
       "        vertical-align: middle;\n",
       "    }\n",
       "\n",
       "    .dataframe tbody tr th {\n",
       "        vertical-align: top;\n",
       "    }\n",
       "\n",
       "    .dataframe thead th {\n",
       "        text-align: right;\n",
       "    }\n",
       "</style>\n",
       "<table border=\"1\" class=\"dataframe\">\n",
       "  <thead>\n",
       "    <tr style=\"text-align: right;\">\n",
       "      <th></th>\n",
       "      <th>schedule_gtfs_dataset_key</th>\n",
       "      <th>trip_instance_key</th>\n",
       "      <th>rt_service_min</th>\n",
       "      <th>min_w_atleast2_trip_updates</th>\n",
       "      <th>route_id</th>\n",
       "      <th>direction_id</th>\n",
       "      <th>sched_rt_category</th>\n",
       "      <th>service_minutes</th>\n",
       "      <th>peak_offpeak</th>\n",
       "      <th>pings_per_min</th>\n",
       "      <th>spatial_accuracy_pct</th>\n",
       "      <th>rt_triptime_w_gtfs_pct</th>\n",
       "      <th>rt_v_scheduled_trip_time_pct</th>\n",
       "    </tr>\n",
       "  </thead>\n",
       "  <tbody>\n",
       "    <tr>\n",
       "      <th>23007</th>\n",
       "      <td>3f3f36b4c41cc6b5df3eb7f5d8ea6e3c</td>\n",
       "      <td>b15dcf960e625d742d49413fea5095cf</td>\n",
       "      <td>78.18</td>\n",
       "      <td>67</td>\n",
       "      <td>212-13172</td>\n",
       "      <td>1</td>\n",
       "      <td>vp_sched</td>\n",
       "      <td>69.00</td>\n",
       "      <td>peak</td>\n",
       "      <td>2.56</td>\n",
       "      <td>99.50</td>\n",
       "      <td>99.77</td>\n",
       "      <td>13.31</td>\n",
       "    </tr>\n",
       "  </tbody>\n",
       "</table>\n",
       "</div>"
      ],
      "text/plain": [
       "              schedule_gtfs_dataset_key                 trip_instance_key  \\\n",
       "23007  3f3f36b4c41cc6b5df3eb7f5d8ea6e3c  b15dcf960e625d742d49413fea5095cf   \n",
       "\n",
       "       rt_service_min  min_w_atleast2_trip_updates   route_id  direction_id  \\\n",
       "23007           78.18                           67  212-13172             1   \n",
       "\n",
       "      sched_rt_category  service_minutes peak_offpeak  pings_per_min  \\\n",
       "23007          vp_sched            69.00         peak           2.56   \n",
       "\n",
       "       spatial_accuracy_pct  rt_triptime_w_gtfs_pct  \\\n",
       "23007                 99.50                   99.77   \n",
       "\n",
       "       rt_v_scheduled_trip_time_pct  \n",
       "23007                         13.31  "
      ]
     },
     "execution_count": 23,
     "metadata": {},
     "output_type": "execute_result"
    }
   ],
   "source": [
    "trips.sample()"
   ]
  },
  {
   "cell_type": "markdown",
   "id": "ff027fe6-477d-4bd9-988d-95c85c4cc9b0",
   "metadata": {},
   "source": [
    "### Routes: add back metrics"
   ]
  },
  {
   "cell_type": "code",
   "execution_count": 24,
   "id": "5e5a406b-4034-4a94-9a92-1e2eccde606c",
   "metadata": {},
   "outputs": [],
   "source": [
    "def weighted_average_function(df: pd.DataFrame, group_cols: list):\n",
    "    sum_cols = [\n",
    "        \"total_min_w_gtfs\",\n",
    "        \"rt_service_min\",\n",
    "        \"total_pings_for_trip\",\n",
    "        \"service_minutes\",\n",
    "        \"total_vp\",\n",
    "        \"vp_in_shape\",\n",
    "    ]\n",
    "\n",
    "    count_cols = [\"trip_instance_key\"]\n",
    "    df2 = (\n",
    "        df.groupby(group_cols + [\"peak_offpeak\"])\n",
    "        .agg({**{e: \"sum\" for e in sum_cols}, **{e: \"count\" for e in count_cols}})\n",
    "        .reset_index()\n",
    "    )\n",
    "    \n",
    "    df2 = df2.rename(columns = {'trip_instance_key':'n_trips'})\n",
    "    \n",
    "    df2 = add_metrics(df2)\n",
    "    \n",
    "    \n",
    "    return df2"
   ]
  },
  {
   "cell_type": "code",
   "execution_count": 25,
   "id": "b9c418d1-0c38-4c9b-b8cf-e0a1a8b1abd6",
   "metadata": {},
   "outputs": [],
   "source": [
    "routes = weighted_average_function(\n",
    "    dec_df3,\n",
    "    [\"schedule_gtfs_dataset_key\", \"route_id\", \"direction_id\", \"sched_rt_category\"],\n",
    ")"
   ]
  },
  {
   "cell_type": "code",
   "execution_count": 26,
   "id": "74d9a76b-0974-487f-98e7-99bc23f016bc",
   "metadata": {},
   "outputs": [
    {
     "data": {
      "text/plain": [
       "Index(['schedule_gtfs_dataset_key', 'route_id', 'direction_id',\n",
       "       'sched_rt_category', 'peak_offpeak', 'rt_service_min',\n",
       "       'service_minutes', 'n_trips', 'pings_per_min', 'spatial_accuracy_pct',\n",
       "       'rt_triptime_w_gtfs_pct', 'rt_v_scheduled_trip_time_pct'],\n",
       "      dtype='object')"
      ]
     },
     "execution_count": 26,
     "metadata": {},
     "output_type": "execute_result"
    }
   ],
   "source": [
    "routes.columns"
   ]
  },
  {
   "cell_type": "code",
   "execution_count": 27,
   "id": "239379e7-0726-44e1-8201-b25bf0331036",
   "metadata": {},
   "outputs": [
    {
     "data": {
      "text/html": [
       "<div>\n",
       "<style scoped>\n",
       "    .dataframe tbody tr th:only-of-type {\n",
       "        vertical-align: middle;\n",
       "    }\n",
       "\n",
       "    .dataframe tbody tr th {\n",
       "        vertical-align: top;\n",
       "    }\n",
       "\n",
       "    .dataframe thead th {\n",
       "        text-align: right;\n",
       "    }\n",
       "</style>\n",
       "<table border=\"1\" class=\"dataframe\">\n",
       "  <thead>\n",
       "    <tr style=\"text-align: right;\">\n",
       "      <th></th>\n",
       "      <th>schedule_gtfs_dataset_key</th>\n",
       "      <th>route_id</th>\n",
       "      <th>direction_id</th>\n",
       "      <th>sched_rt_category</th>\n",
       "      <th>peak_offpeak</th>\n",
       "      <th>rt_service_min</th>\n",
       "      <th>service_minutes</th>\n",
       "      <th>n_trips</th>\n",
       "      <th>pings_per_min</th>\n",
       "      <th>spatial_accuracy_pct</th>\n",
       "      <th>rt_triptime_w_gtfs_pct</th>\n",
       "      <th>rt_v_scheduled_trip_time_pct</th>\n",
       "    </tr>\n",
       "  </thead>\n",
       "  <tbody>\n",
       "    <tr>\n",
       "      <th>0</th>\n",
       "      <td>015d67d5b75b5cf2b710bbadadfb75f5</td>\n",
       "      <td>17</td>\n",
       "      <td>0</td>\n",
       "      <td>vp_sched</td>\n",
       "      <td>offpeak</td>\n",
       "      <td>732.98</td>\n",
       "      <td>567.00</td>\n",
       "      <td>10</td>\n",
       "      <td>2.94</td>\n",
       "      <td>79.33</td>\n",
       "      <td>99.46</td>\n",
       "      <td>29.27</td>\n",
       "    </tr>\n",
       "    <tr>\n",
       "      <th>1</th>\n",
       "      <td>015d67d5b75b5cf2b710bbadadfb75f5</td>\n",
       "      <td>17</td>\n",
       "      <td>0</td>\n",
       "      <td>vp_sched</td>\n",
       "      <td>peak</td>\n",
       "      <td>839.93</td>\n",
       "      <td>690.00</td>\n",
       "      <td>12</td>\n",
       "      <td>2.84</td>\n",
       "      <td>91.92</td>\n",
       "      <td>96.20</td>\n",
       "      <td>21.73</td>\n",
       "    </tr>\n",
       "    <tr>\n",
       "      <th>2</th>\n",
       "      <td>015d67d5b75b5cf2b710bbadadfb75f5</td>\n",
       "      <td>17</td>\n",
       "      <td>1</td>\n",
       "      <td>vp_sched</td>\n",
       "      <td>offpeak</td>\n",
       "      <td>697.97</td>\n",
       "      <td>569.00</td>\n",
       "      <td>11</td>\n",
       "      <td>2.85</td>\n",
       "      <td>85.59</td>\n",
       "      <td>96.71</td>\n",
       "      <td>22.67</td>\n",
       "    </tr>\n",
       "    <tr>\n",
       "      <th>3</th>\n",
       "      <td>015d67d5b75b5cf2b710bbadadfb75f5</td>\n",
       "      <td>17</td>\n",
       "      <td>1</td>\n",
       "      <td>vp_sched</td>\n",
       "      <td>peak</td>\n",
       "      <td>618.78</td>\n",
       "      <td>595.00</td>\n",
       "      <td>11</td>\n",
       "      <td>2.84</td>\n",
       "      <td>96.36</td>\n",
       "      <td>96.32</td>\n",
       "      <td>4.00</td>\n",
       "    </tr>\n",
       "    <tr>\n",
       "      <th>4</th>\n",
       "      <td>015d67d5b75b5cf2b710bbadadfb75f5</td>\n",
       "      <td>219</td>\n",
       "      <td>0</td>\n",
       "      <td>vp_sched</td>\n",
       "      <td>offpeak</td>\n",
       "      <td>242.50</td>\n",
       "      <td>152.00</td>\n",
       "      <td>9</td>\n",
       "      <td>2.20</td>\n",
       "      <td>80.30</td>\n",
       "      <td>75.46</td>\n",
       "      <td>59.54</td>\n",
       "    </tr>\n",
       "  </tbody>\n",
       "</table>\n",
       "</div>"
      ],
      "text/plain": [
       "          schedule_gtfs_dataset_key route_id  direction_id sched_rt_category  \\\n",
       "0  015d67d5b75b5cf2b710bbadadfb75f5       17             0          vp_sched   \n",
       "1  015d67d5b75b5cf2b710bbadadfb75f5       17             0          vp_sched   \n",
       "2  015d67d5b75b5cf2b710bbadadfb75f5       17             1          vp_sched   \n",
       "3  015d67d5b75b5cf2b710bbadadfb75f5       17             1          vp_sched   \n",
       "4  015d67d5b75b5cf2b710bbadadfb75f5      219             0          vp_sched   \n",
       "\n",
       "  peak_offpeak  rt_service_min  service_minutes  n_trips  pings_per_min  \\\n",
       "0      offpeak          732.98           567.00       10           2.94   \n",
       "1         peak          839.93           690.00       12           2.84   \n",
       "2      offpeak          697.97           569.00       11           2.85   \n",
       "3         peak          618.78           595.00       11           2.84   \n",
       "4      offpeak          242.50           152.00        9           2.20   \n",
       "\n",
       "   spatial_accuracy_pct  rt_triptime_w_gtfs_pct  rt_v_scheduled_trip_time_pct  \n",
       "0                 79.33                   99.46                         29.27  \n",
       "1                 91.92                   96.20                         21.73  \n",
       "2                 85.59                   96.71                         22.67  \n",
       "3                 96.36                   96.32                          4.00  \n",
       "4                 80.30                   75.46                         59.54  "
      ]
     },
     "execution_count": 27,
     "metadata": {},
     "output_type": "execute_result"
    }
   ],
   "source": [
    "routes.head()"
   ]
  },
  {
   "cell_type": "code",
   "execution_count": 28,
   "id": "c571c1ce-e63c-4463-bc34-9b5152dca1aa",
   "metadata": {},
   "outputs": [
    {
     "data": {
      "text/plain": [
       "5625"
      ]
     },
     "execution_count": 28,
     "metadata": {},
     "output_type": "execute_result"
    }
   ],
   "source": [
    "len(routes)"
   ]
  }
 ],
 "metadata": {
  "kernelspec": {
   "display_name": "Python 3 (ipykernel)",
   "language": "python",
   "name": "python3"
  },
  "language_info": {
   "codemirror_mode": {
    "name": "ipython",
    "version": 3
   },
   "file_extension": ".py",
   "mimetype": "text/x-python",
   "name": "python",
   "nbconvert_exporter": "python",
   "pygments_lexer": "ipython3",
   "version": "3.9.13"
  }
 },
 "nbformat": 4,
 "nbformat_minor": 5
}
