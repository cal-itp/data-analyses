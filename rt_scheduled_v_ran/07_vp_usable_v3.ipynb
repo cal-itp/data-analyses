{
 "cells": [
  {
   "cell_type": "markdown",
   "id": "3055b228-034e-4812-a3fc-3b847afb3dec",
   "metadata": {
    "tags": []
   },
   "source": [
    "## Update `trips`\n",
    "* cd rt_segment_speeds && pip install -r requirements.txt && cd ../_shared_utils && make setup_env\n",
    "* https://github.com/cal-itp/data-analyses/pull/1016\n",
    "    * Keep source data + metrics tightly defined with GCS bucket organization.\n",
    "    * vp_usable is source data for rt_vs_sched metrics, do not merge in schedule data until gtfs_digest report. Only bring in schedule_gtfs_dataset_key column in    \n",
    "    * vp_usable + route_id-direction_id for trips also present in schedule. If not in schedule, fill it with route_id = Unknown and direction_id as Int64\n",
    "    * Add function to concatenate trip file, enable us to put in 1 day or 7 days for aggregation\n",
    "    * A single function for normalized metrics (percent, per min, etc)\n",
    "    * A single function for aggregation (summing up numerator / denominator)\n",
    "    \n",
    "* https://github.com/cal-itp/data-analyses/issues/989\n",
    "\n",
    "* Notes 2/6\n",
    "    * GTFS digest creates four datasets: schedule, average speeds, segment speeds, and rt vs schedule\n",
    "    * Currently, merging is challenging.\n",
    "    * Time categories are not necessarily the same (peak/offpeak/all-day)\n",
    "    * Want all datasets to merge on the same set of columns (schedule gtfs key, route id, dir id, service date, and time categories) because `shapes` are unstable.\n",
    "    * `Route ID` has been stabilized by Tiffany \n",
    "    * Update work from `rt_v_scheduled.py` (steps already outlined in `scripts/route_aggregation.ipynb`)\n",
    "        * Do steps up until row 339 when the % are calculated. \n",
    "        * Take away `speeds`.\n",
    "        * Bring in schedule gtfs key, trip instance key, route id, direction id either at the beginning or the end using `helpers.import_scheduled_trips`\n",
    "        * Coerce DIR ID to Int64, don't fill it in with 0. It's not 0, it's Nan\n",
    "        * Save files with the analysis date at the end instead of the beginning.\n",
    "        * Split off the workstream -> one for trip level and one for route level\n",
    "            * Use the config.yml to save the trips and routes stuff into their own folder.\n",
    "            * Routes:\n",
    "                * For routes, the minutes/pings should be totalled up. Currently, just taking the average of an average isn't really accurate.\n",
    "                * The route level should be able to take multiple days of data and concatenate so we can get metrics for a week/2 weeks/etc instead of for a single day. [Done here](https://github.com/cal-itp/data-analyses/blob/main/rt_segment_speeds/scripts/average_speeds.py)\n",
    "                * Add the route frequency as well?\n",
    "           * Trips:\n",
    "               * Do up to step 339 in `rt_v_scheduled.py`\n",
    "               * Write a new generalized function to create all the % \n",
    "            \n",
    "* Notes 2/13\n",
    "    * Figure out how to set up Config file\n",
    "    * Tiffany:\n",
    "        * add_metrics looks good, just remove the coercing of percents to 0-100 to a separate function. I want everything from 0-1, and then before charting, scaled up to 0-100 all at once. Can you write a general         * function for this....all the chart display / cleaning functions should live in 1 script in segment_speed_utils.\n",
    "        * Another tweak for a step somewhere before add_metrics. Certain columns can be coerced to be integers, like total_vp and vp_in_shape, just like how total_min_w_gtfs is an integer. Coerce all the ones that can be integers to be integers for your trip table, and this will save on the rounding step later.\n",
    "        * Column naming: think about how you want to change the column names. total_pings_for_trip is not going to make sense once you aggregate, so maybe go with something more generic. Otherwise, you're going to be aggregating and renaming columns constantly. I would just rely on the other columns in the row to tell us whether it's per trip or per route , and the metrics all use generic names that are suitable for passing through aggregation functions. (edited) "
   ]
  },
  {
   "cell_type": "code",
   "execution_count": 1,
   "id": "37ccf2b0-8eb5-426e-8f67-fd461f32fde7",
   "metadata": {},
   "outputs": [],
   "source": [
    "import dask.dataframe as dd\n",
    "import pandas as pd\n",
    "import yaml\n",
    "from segment_speed_utils import gtfs_schedule_wrangling, helpers\n",
    "from segment_speed_utils.project_vars import RT_SCHED_GCS, SEGMENT_GCS\n",
    "from shared_utils import portfolio_utils, rt_dates, rt_utils"
   ]
  },
  {
   "cell_type": "code",
   "execution_count": 2,
   "id": "f31cd5d6-1640-4c32-a24b-0e8037056bfe",
   "metadata": {},
   "outputs": [],
   "source": [
    "# Times\n",
    "import datetime\n",
    "\n",
    "from loguru import logger"
   ]
  },
  {
   "cell_type": "code",
   "execution_count": 3,
   "id": "31ad188f-c785-40a6-b42d-55510e719835",
   "metadata": {},
   "outputs": [],
   "source": [
    "pd.options.display.max_columns = 100\n",
    "pd.options.display.float_format = \"{:.2f}\".format\n",
    "pd.set_option(\"display.max_rows\", None)\n",
    "pd.set_option(\"display.max_colwidth\", None)"
   ]
  },
  {
   "cell_type": "code",
   "execution_count": 4,
   "id": "b3a071ad-53d9-4753-8592-04a6cc6afdf9",
   "metadata": {},
   "outputs": [],
   "source": [
    "# analysis_date = rt_dates.DATES[\"dec2023\"]"
   ]
  },
  {
   "cell_type": "code",
   "execution_count": 5,
   "id": "4cb18151-8b38-4bc5-828b-642ed7d49925",
   "metadata": {},
   "outputs": [
    {
     "data": {
      "text/plain": [
       "'gs://calitp-analytics-data/data-analyses/rt_vs_schedule/'"
      ]
     },
     "execution_count": 5,
     "metadata": {},
     "output_type": "execute_result"
    }
   ],
   "source": [
    "RT_SCHED_GCS"
   ]
  },
  {
   "cell_type": "code",
   "execution_count": 17,
   "id": "cf9cad9e-06b4-462b-ba59-53fb06f62e39",
   "metadata": {},
   "outputs": [],
   "source": [
    "# rt_dates.DATES"
   ]
  },
  {
   "cell_type": "markdown",
   "id": "cef97b80-f606-4d4e-b9da-cc3b1742093f",
   "metadata": {
    "tags": []
   },
   "source": [
    "### Routes - New Work"
   ]
  },
  {
   "cell_type": "code",
   "execution_count": 7,
   "id": "6d407963-ee5e-48d3-9e01-4339aeb76cb4",
   "metadata": {},
   "outputs": [],
   "source": [
    "routes_df = pd.read_parquet(\"gs://calitp-analytics-data/data-analyses/rt_vs_schedule/vp_route_dir/route_direction_metrics/trip_2023_09_13_to_2023_10_11.parquet\")"
   ]
  },
  {
   "cell_type": "code",
   "execution_count": 15,
   "id": "98247ad1-2ea4-424d-b772-9a80ff579950",
   "metadata": {},
   "outputs": [
    {
     "data": {
      "text/html": [
       "<div>\n",
       "<style scoped>\n",
       "    .dataframe tbody tr th:only-of-type {\n",
       "        vertical-align: middle;\n",
       "    }\n",
       "\n",
       "    .dataframe tbody tr th {\n",
       "        vertical-align: top;\n",
       "    }\n",
       "\n",
       "    .dataframe thead th {\n",
       "        text-align: right;\n",
       "    }\n",
       "</style>\n",
       "<table border=\"1\" class=\"dataframe\">\n",
       "  <thead>\n",
       "    <tr style=\"text-align: right;\">\n",
       "      <th></th>\n",
       "      <th>Time Period</th>\n",
       "      <th>Schedule Gtfs Dataset Key</th>\n",
       "      <th>Route Id</th>\n",
       "      <th>Direction Id</th>\n",
       "      <th>Total Min W Gtfs</th>\n",
       "      <th>Rt Service Min</th>\n",
       "      <th>Total Pings</th>\n",
       "      <th>Service Minutes</th>\n",
       "      <th>Total Vp</th>\n",
       "      <th>Vp In Shape</th>\n",
       "      <th>N Trips</th>\n",
       "      <th>Pings Per Min</th>\n",
       "      <th>Spatial Accuracy Pct</th>\n",
       "      <th>Rt W Gtfs Pct</th>\n",
       "      <th>Rt V Scheduled Time Pct</th>\n",
       "    </tr>\n",
       "  </thead>\n",
       "  <tbody>\n",
       "    <tr>\n",
       "      <th>3433</th>\n",
       "      <td>peak</td>\n",
       "      <td>43d8d305ee692724a532f30ea63a1cbe</td>\n",
       "      <td>17</td>\n",
       "      <td>1</td>\n",
       "      <td>2212</td>\n",
       "      <td>2226</td>\n",
       "      <td>4354</td>\n",
       "      <td>1560.00</td>\n",
       "      <td>4354</td>\n",
       "      <td>3515</td>\n",
       "      <td>26</td>\n",
       "      <td>1.96</td>\n",
       "      <td>80.73</td>\n",
       "      <td>99.37</td>\n",
       "      <td>42.69</td>\n",
       "    </tr>\n",
       "  </tbody>\n",
       "</table>\n",
       "</div>"
      ],
      "text/plain": [
       "     Time Period         Schedule Gtfs Dataset Key Route Id  Direction Id  \\\n",
       "3433        peak  43d8d305ee692724a532f30ea63a1cbe       17             1   \n",
       "\n",
       "      Total Min W Gtfs  Rt Service Min  Total Pings  Service Minutes  \\\n",
       "3433              2212            2226         4354          1560.00   \n",
       "\n",
       "      Total Vp  Vp In Shape  N Trips  Pings Per Min  Spatial Accuracy Pct  \\\n",
       "3433      4354         3515       26           1.96                 80.73   \n",
       "\n",
       "      Rt W Gtfs Pct  Rt V Scheduled Time Pct  \n",
       "3433          99.37                    42.69  "
      ]
     },
     "execution_count": 15,
     "metadata": {},
     "output_type": "execute_result"
    }
   ],
   "source": [
    "routes_df.sample()"
   ]
  },
  {
   "cell_type": "markdown",
   "id": "07fc49c1-a043-41d9-9e35-1839fed2210d",
   "metadata": {},
   "source": [
    "### Trips - New Work"
   ]
  },
  {
   "cell_type": "code",
   "execution_count": 18,
   "id": "7c6791b5-9482-4622-9b29-b5b43c63be0c",
   "metadata": {},
   "outputs": [],
   "source": [
    "trips_df = pd.read_parquet(\"gs://calitp-analytics-data/data-analyses/rt_vs_schedule/vp_trip/trip_metrics/trip_2023-09-13.parquet\")"
   ]
  },
  {
   "cell_type": "code",
   "execution_count": 19,
   "id": "787b8ef7-979a-4742-b6e9-640f9d1451ba",
   "metadata": {},
   "outputs": [
    {
     "data": {
      "text/html": [
       "<div>\n",
       "<style scoped>\n",
       "    .dataframe tbody tr th:only-of-type {\n",
       "        vertical-align: middle;\n",
       "    }\n",
       "\n",
       "    .dataframe tbody tr th {\n",
       "        vertical-align: top;\n",
       "    }\n",
       "\n",
       "    .dataframe thead th {\n",
       "        text-align: right;\n",
       "    }\n",
       "</style>\n",
       "<table border=\"1\" class=\"dataframe\">\n",
       "  <thead>\n",
       "    <tr style=\"text-align: right;\">\n",
       "      <th></th>\n",
       "      <th>schedule_gtfs_dataset_key</th>\n",
       "      <th>trip_instance_key</th>\n",
       "      <th>rt_service_min</th>\n",
       "      <th>min_w_atleast2_trip_updates</th>\n",
       "      <th>total_pings</th>\n",
       "      <th>total_min_w_gtfs</th>\n",
       "      <th>total_vp</th>\n",
       "      <th>vp_in_shape</th>\n",
       "      <th>route_id</th>\n",
       "      <th>direction_id</th>\n",
       "      <th>sched_rt_category</th>\n",
       "      <th>service_minutes</th>\n",
       "      <th>time_of_day</th>\n",
       "      <th>peak_offpeak</th>\n",
       "      <th>pings_per_min</th>\n",
       "      <th>spatial_accuracy_pct</th>\n",
       "      <th>rt_w_gtfs_pct</th>\n",
       "      <th>rt_v_scheduled_time_pct</th>\n",
       "    </tr>\n",
       "  </thead>\n",
       "  <tbody>\n",
       "    <tr>\n",
       "      <th>33383</th>\n",
       "      <td>a068c9b5e54692d4f729dde66c36cdb8</td>\n",
       "      <td>dadb6ad81cea881a731c1be5978a481a</td>\n",
       "      <td>71</td>\n",
       "      <td>69</td>\n",
       "      <td>208</td>\n",
       "      <td>70</td>\n",
       "      <td>0</td>\n",
       "      <td>0</td>\n",
       "      <td>Unknown</td>\n",
       "      <td>&lt;NA&gt;</td>\n",
       "      <td>vp_only</td>\n",
       "      <td>NaN</td>\n",
       "      <td>Midday</td>\n",
       "      <td>offpeak</td>\n",
       "      <td>2.93</td>\n",
       "      <td>NaN</td>\n",
       "      <td>0.99</td>\n",
       "      <td>NaN</td>\n",
       "    </tr>\n",
       "  </tbody>\n",
       "</table>\n",
       "</div>"
      ],
      "text/plain": [
       "              schedule_gtfs_dataset_key                 trip_instance_key  \\\n",
       "33383  a068c9b5e54692d4f729dde66c36cdb8  dadb6ad81cea881a731c1be5978a481a   \n",
       "\n",
       "       rt_service_min  min_w_atleast2_trip_updates  total_pings  \\\n",
       "33383              71                           69          208   \n",
       "\n",
       "       total_min_w_gtfs  total_vp  vp_in_shape route_id  direction_id  \\\n",
       "33383                70         0            0  Unknown          <NA>   \n",
       "\n",
       "      sched_rt_category  service_minutes time_of_day peak_offpeak  \\\n",
       "33383           vp_only              NaN      Midday      offpeak   \n",
       "\n",
       "       pings_per_min  spatial_accuracy_pct  rt_w_gtfs_pct  \\\n",
       "33383           2.93                   NaN           0.99   \n",
       "\n",
       "       rt_v_scheduled_time_pct  \n",
       "33383                      NaN  "
      ]
     },
     "execution_count": 19,
     "metadata": {},
     "output_type": "execute_result"
    }
   ],
   "source": [
    "trips_df.sample()"
   ]
  },
  {
   "cell_type": "markdown",
   "id": "320956f4-bc2b-4127-a17e-9f965641c63f",
   "metadata": {},
   "source": [
    "### Cleaning Function"
   ]
  },
  {
   "cell_type": "code",
   "execution_count": 10,
   "id": "0b40b193-0272-404a-bc8a-0601d879f684",
   "metadata": {},
   "outputs": [],
   "source": [
    "pct_cols = [\n",
    "    \"rt_w_gtfs_pct\",\n",
    "    \"rt_v_scheduled_time_pct\",\n",
    "    \"spatial_accuracy_pct\",\n",
    "]"
   ]
  },
  {
   "cell_type": "code",
   "execution_count": 11,
   "id": "f94f943b-60d4-4ccd-8330-8846d38168b9",
   "metadata": {},
   "outputs": [],
   "source": [
    "int_cols = [\n",
    "    \"rt_service_min\",\n",
    "    \"service_minutes\",\n",
    "]"
   ]
  },
  {
   "cell_type": "code",
   "execution_count": 12,
   "id": "1b4c6471-97e5-427f-882b-72dc65da2b1b",
   "metadata": {},
   "outputs": [],
   "source": [
    "def clean_df(df: pd.DataFrame, pct_cols: list, int_cols: list) -> pd.DataFrame:\n",
    "    for i in pct_cols:\n",
    "        df[i] = df[i] * 100\n",
    "    for i in int_cols:\n",
    "        df[i] = df[i].fillna(0).round()\n",
    "\n",
    "    df.columns = df.columns.str.replace(\"_\", \" \").str.strip().str.title()\n",
    "    return df"
   ]
  },
  {
   "cell_type": "code",
   "execution_count": 13,
   "id": "aaef7fd0-888f-425b-bb59-56aa51002f75",
   "metadata": {},
   "outputs": [],
   "source": [
    "routes_df2 = clean_df(routes_df, pct_cols, int_cols)"
   ]
  },
  {
   "cell_type": "code",
   "execution_count": 16,
   "id": "a5c52d8b-dec6-4e01-9e66-66aa87eef4f7",
   "metadata": {},
   "outputs": [
    {
     "data": {
      "text/plain": [
       "all_day    3174\n",
       "peak       2981\n",
       "offpeak    2729\n",
       "Name: Time Period, dtype: int64"
      ]
     },
     "execution_count": 16,
     "metadata": {},
     "output_type": "execute_result"
    }
   ],
   "source": [
    "routes_df2['Time Period'].value_counts()"
   ]
  },
  {
   "cell_type": "markdown",
   "id": "e18e2d2f-2423-43c3-bc54-359f1b38ff8c",
   "metadata": {},
   "source": [
    "### Check time of day \n",
    "* https://github.com/cal-itp/data-analyses/blob/main/rt_segment_speeds/segment_speed_utils/segment_calcs.py#L135-L163"
   ]
  },
  {
   "cell_type": "code",
   "execution_count": null,
   "id": "cb598bc4-4821-4aa0-a338-f880bcb13edd",
   "metadata": {},
   "outputs": [],
   "source": [
    "analysis_date = \"2023-10-11\""
   ]
  },
  {
   "cell_type": "code",
   "execution_count": null,
   "id": "6d921241-fc08-4ebe-8b3f-1456f46b8c34",
   "metadata": {},
   "outputs": [],
   "source": [
    "trips = pd.read_parquet(\"gs://calitp-analytics-data/data-analyses/rt_vs_schedule/vp_trip/trip_metrics/trip_2023-10-11.parquet\")"
   ]
  },
  {
   "cell_type": "code",
   "execution_count": null,
   "id": "f8930a3d-ccf7-46c8-9c63-39fe5ad60c97",
   "metadata": {},
   "outputs": [],
   "source": [
    "trips.head()"
   ]
  },
  {
   "cell_type": "code",
   "execution_count": null,
   "id": "3cffd370-bc23-4d75-9807-efa1997e6a6c",
   "metadata": {},
   "outputs": [],
   "source": [
    "trips.peak_offpeak.unique()"
   ]
  },
  {
   "cell_type": "code",
   "execution_count": null,
   "id": "3871d4b7-86fc-4d4c-a3f6-1f7f4f9b86bc",
   "metadata": {},
   "outputs": [],
   "source": [
    "trips.time_of_day.value_counts()"
   ]
  },
  {
   "cell_type": "code",
   "execution_count": null,
   "id": "ddfbb0ce-d6b4-47fd-8960-9edf43136a6c",
   "metadata": {},
   "outputs": [],
   "source": [
    "trips.peak_offpeak.value_counts()"
   ]
  },
  {
   "cell_type": "code",
   "execution_count": null,
   "id": "06bb2c6c-877b-4068-a264-85696f94282a",
   "metadata": {},
   "outputs": [],
   "source": [
    "roll_singleday_route_dir_df = pd.read_parquet(\"gs://calitp-analytics-data/data-analyses/rt_segment_speeds/rollup_singleday/speeds_route_dir_2023-10-15.parquet\")"
   ]
  },
  {
   "cell_type": "code",
   "execution_count": null,
   "id": "2b21d3ea-b76c-40aa-8a2e-c46f45b0aa3c",
   "metadata": {},
   "outputs": [],
   "source": [
    "roll_singleday_route_dir_df.time_period.value_counts()"
   ]
  },
  {
   "cell_type": "code",
   "execution_count": null,
   "id": "eb0c9f36-6b49-4332-8e52-d574b2ebf59f",
   "metadata": {},
   "outputs": [],
   "source": [
    "roll_singleday_route_dir_df.sample()"
   ]
  },
  {
   "cell_type": "code",
   "execution_count": null,
   "id": "f6533abd-f4b7-4c29-88da-0e7305d74185",
   "metadata": {},
   "outputs": [],
   "source": [
    "roll_singleday_speeds_df = pd.read_parquet(\"gs://calitp-analytics-data/data-analyses/rt_segment_speeds/rollup_singleday/speeds_trip_2023-10-15.parquet\")"
   ]
  },
  {
   "cell_type": "code",
   "execution_count": null,
   "id": "20c2450d-78a3-4739-89ac-4ea8c17472fd",
   "metadata": {},
   "outputs": [],
   "source": [
    "roll_singleday_speeds_df.time_period.value_counts()"
   ]
  },
  {
   "cell_type": "code",
   "execution_count": null,
   "id": "ba248c2a-65eb-40b1-a356-cad8222f570e",
   "metadata": {},
   "outputs": [],
   "source": [
    "len(roll_singleday_speeds_df), roll_singleday_speeds_df.trip_instance_key.nunique()"
   ]
  },
  {
   "cell_type": "code",
   "execution_count": null,
   "id": "e75900b0-df98-4112-a73a-5520113f8ddf",
   "metadata": {},
   "outputs": [],
   "source": [
    "roll_singleday_speeds_df.trip_instance_key.value_counts().head()"
   ]
  },
  {
   "cell_type": "code",
   "execution_count": null,
   "id": "cd6a29db-4337-41b0-a0e6-0b83aad15906",
   "metadata": {},
   "outputs": [],
   "source": [
    "roll_singleday_speeds_df.trip_instance_key.value_counts().describe()"
   ]
  },
  {
   "cell_type": "code",
   "execution_count": null,
   "id": "5fd1cb68-19e2-4dff-9c97-fab2cf16f63a",
   "metadata": {},
   "outputs": [],
   "source": [
    "roll_singleday_speeds_df.sample()"
   ]
  },
  {
   "cell_type": "code",
   "execution_count": null,
   "id": "6abc05c1-36f3-4183-b881-2e09a2914e44",
   "metadata": {},
   "outputs": [],
   "source": [
    "roll_singleday_speeds_df.time_period.value_counts()"
   ]
  },
  {
   "cell_type": "code",
   "execution_count": null,
   "id": "cd855cdd-e4ed-4cb4-ab47-71d030eb59ad",
   "metadata": {},
   "outputs": [],
   "source": [
    "roll_singleday_speeds_df.loc[roll_singleday_speeds_df.trip_instance_key == \"26a9df7b39cbcc34c8ea60d5f022cce1\"]"
   ]
  },
  {
   "cell_type": "code",
   "execution_count": null,
   "id": "93ee9792-7a66-4be2-b8a0-51af09ca9526",
   "metadata": {},
   "outputs": [],
   "source": [
    "roll_singleday_speeds_df.loc[roll_singleday_speeds_df.trip_instance_key == \"f552fb9336d5462a88bfa4a0f9e6f2ac\"]"
   ]
  },
  {
   "cell_type": "code",
   "execution_count": null,
   "id": "7588f2f6-1226-4bc3-845a-115e6fd2933b",
   "metadata": {},
   "outputs": [],
   "source": [
    "roll_singleday_speeds_df.loc[roll_singleday_speeds_df.trip_instance_key == \"04e042e8e5db03bf6d31b60455c895b6\"]"
   ]
  },
  {
   "cell_type": "markdown",
   "id": "1e0ab181-1c59-4e93-83df-8dfca9b7ab52",
   "metadata": {},
   "source": [
    " #### Fix Time of Day #1"
   ]
  },
  {
   "cell_type": "code",
   "execution_count": null,
   "id": "147d9027-45f0-4b23-b18b-b34b0efe19d0",
   "metadata": {},
   "outputs": [],
   "source": [
    "trips.columns"
   ]
  },
  {
   "cell_type": "code",
   "execution_count": null,
   "id": "62804601-5488-4ea0-bafa-bc879a43a9a8",
   "metadata": {},
   "outputs": [],
   "source": [
    "trips2 = trips.drop(columns = [ 'peak_offpeak',\n",
    "       'pings_per_min', 'spatial_accuracy_pct', 'rt_w_gtfs_pct',\n",
    "       'rt_v_scheduled_time_pct'])"
   ]
  },
  {
   "cell_type": "code",
   "execution_count": null,
   "id": "153dde6b-cfc9-4f0f-b991-8db123334a66",
   "metadata": {},
   "outputs": [],
   "source": [
    "trips2.head()"
   ]
  },
  {
   "cell_type": "markdown",
   "id": "3f6135f2-21e1-44d5-b616-e0b191517261",
   "metadata": {},
   "source": [
    " #### Fix Time of Day #2"
   ]
  },
  {
   "cell_type": "code",
   "execution_count": null,
   "id": "19f53f1d-0496-4190-937f-f0feb82d011d",
   "metadata": {},
   "outputs": [],
   "source": [
    "def add_metrics(df: pd.DataFrame) -> pd.DataFrame:\n",
    "\n",
    "    df[\"pings_per_min\"] = df.total_pings / df.rt_service_min\n",
    "    df[\"spatial_accuracy_pct\"] = df.vp_in_shape / df.total_vp\n",
    "    df[\"rt_w_gtfs_pct\"] = df.total_min_w_gtfs / df.rt_service_min\n",
    "    df[\"rt_v_scheduled_time_pct\"] = df.rt_service_min / df.service_minutes - 1\n",
    "\n",
    "    # Mask rt_triptime_w_gtfs_pct for any values above 100%\n",
    "    df.rt_w_gtfs_pct = df.rt_w_gtfs_pct.mask(df.rt_w_gtfs_pct > 1, 1)\n",
    "\n",
    "    return df"
   ]
  },
  {
   "cell_type": "markdown",
   "id": "f56a6121-e342-4029-9450-96faff8306c6",
   "metadata": {},
   "source": [
    "* yeah, so actually, i use the column peak_offpeak and i do not filter, but pass peak_offpeak in the grouping cols (route-direction-peak_offpeak). then i do it again without peak_offpeak in the group cols and rename peak_offpeak = all_day. then i concatenate."
   ]
  },
  {
   "cell_type": "code",
   "execution_count": null,
   "id": "97280621-3dde-4017-99f0-707340b30a01",
   "metadata": {},
   "outputs": [],
   "source": [
    "route_months = [\"sep\", \"oct\"]         \n",
    "\n",
    "route_analysis_date_list = [\n",
    "    rt_dates.DATES[f\"{m}2023\"] for m in route_months\n",
    "]"
   ]
  },
  {
   "cell_type": "code",
   "execution_count": null,
   "id": "db16d5f4-3e86-4922-8616-6bfd8bbdf52f",
   "metadata": {},
   "outputs": [],
   "source": [
    "def concatenate_trip_segment_speeds(analysis_date_list: list) -> pd.DataFrame:\n",
    "    \"\"\"\n",
    "    Concatenate the trip parquets together,\n",
    "    whether it's for single day or multi-day averages.\n",
    "    \"\"\"\n",
    "    TRIP_EXPORT = \"vp_trip/trip_metrics\"\n",
    "    df = pd.concat(\n",
    "        [\n",
    "            pd.read_parquet(\n",
    "                f\"{RT_SCHED_GCS}{TRIP_EXPORT}/trip_{analysis_date}.parquet\"\n",
    "            ).assign(service_date=pd.to_datetime(analysis_date))\n",
    "            for analysis_date in analysis_date_list\n",
    "        ],\n",
    "        axis=0,\n",
    "        ignore_index=True,\n",
    "    )\n",
    "    return df\n"
   ]
  },
  {
   "cell_type": "code",
   "execution_count": null,
   "id": "0eca0028-e5f6-4c10-90ec-9a42dcb769cb",
   "metadata": {},
   "outputs": [],
   "source": [
    "def route_metrics(analysis_date_list: list) -> pd.DataFrame:\n",
    "  \n",
    "    df = concatenate_trip_segment_speeds(analysis_date_list)\n",
    "    \n",
    "    # Delete out trip generated metrics\n",
    "    del_cols = [\n",
    "        \"pings_per_min\",\n",
    "        \"spatial_accuracy_pct\",\n",
    "        \"rt_w_gtfs_pct\",\n",
    "        \"rt_v_scheduled_time_pct\",\n",
    "    ]\n",
    "\n",
    "    df = df.drop(columns=del_cols)\n",
    "\n",
    "    # Add weighted metrics\n",
    "    sum_cols = [\n",
    "        \"total_min_w_gtfs\",\n",
    "        \"rt_service_min\",\n",
    "        \"total_pings\",\n",
    "        \"service_minutes\",\n",
    "        \"total_vp\",\n",
    "        \"vp_in_shape\",\n",
    "    ]\n",
    "\n",
    "    count_cols = [\"trip_instance_key\"]\n",
    "\n",
    "    all_day_groups = [\"schedule_gtfs_dataset_key\",\n",
    "                  \"route_id\",\n",
    "                  \"direction_id\",\n",
    "                  ]\n",
    "    \n",
    "    all_day_df = (\n",
    "        df.groupby(all_day_groups)\n",
    "        .agg({**{e: \"sum\" for e in sum_cols}, **{e: \"count\" for e in count_cols}})\n",
    "        .reset_index()\n",
    "    )\n",
    "\n",
    "    all_day_df = all_day_df.rename(columns={\"trip_instance_key\": \"n_trips\"})\n",
    "    all_day_df =  add_metrics(all_day_df)\n",
    "    all_day_df['time_period'] = \"all_day\"\n",
    "    \n",
    "    peak_groups = [\"peak_offpeak\"] + all_day_groups\n",
    "    peak_df = (\n",
    "        df.groupby(peak_groups)\n",
    "        .agg({**{e: \"sum\" for e in sum_cols}, **{e: \"count\" for e in count_cols}})\n",
    "        .reset_index()\n",
    "    )\n",
    "\n",
    "    peak_df = peak_df.rename(columns={\"trip_instance_key\": \"n_trips\",'peak_offpeak':'time_period'})\n",
    "    peak_df =  add_metrics(peak_df)\n",
    "    \n",
    "    final_df = pd.concat([peak_df, all_day_df])\n",
    "    \n",
    "    # Save\n",
    "    #analysis_date_file = generate_date(analysis_date_list)\n",
    "    #ROUTE_EXPORT = CONFIG_DICT[\"route_direction_metrics\"]\n",
    "    #df2.to_parquet(f\"{RT_SCHED_GCS}{ROUTE_EXPORT}/trip_{analysis_date_file}.parquet\")\n",
    "    \n",
    "    return final_df"
   ]
  },
  {
   "cell_type": "code",
   "execution_count": null,
   "id": "4378bb1f-3202-45fb-ad71-603a22b0cfbc",
   "metadata": {},
   "outputs": [],
   "source": [
    "all_routes2 = route_metrics(route_analysis_date_list)"
   ]
  },
  {
   "cell_type": "code",
   "execution_count": null,
   "id": "b0f1f9d0-b7fc-4b72-b341-1de1b5967485",
   "metadata": {},
   "outputs": [],
   "source": [
    "all_routes2.head()"
   ]
  },
  {
   "cell_type": "code",
   "execution_count": null,
   "id": "47e99953-f127-4c5c-8811-8eb8afdfa2e0",
   "metadata": {},
   "outputs": [],
   "source": [
    "all_routes2.time_period.value_counts()"
   ]
  }
 ],
 "metadata": {
  "kernelspec": {
   "display_name": "Python 3 (ipykernel)",
   "language": "python",
   "name": "python3"
  },
  "language_info": {
   "codemirror_mode": {
    "name": "ipython",
    "version": 3
   },
   "file_extension": ".py",
   "mimetype": "text/x-python",
   "name": "python",
   "nbconvert_exporter": "python",
   "pygments_lexer": "ipython3",
   "version": "3.9.13"
  }
 },
 "nbformat": 4,
 "nbformat_minor": 5
}
