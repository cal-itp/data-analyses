{
 "cells": [
  {
   "cell_type": "code",
   "execution_count": 1,
   "id": "042682ec-daa9-4447-9e3c-61fbe501b975",
   "metadata": {},
   "outputs": [
    {
     "name": "stderr",
     "output_type": "stream",
     "text": [
      "/opt/conda/lib/python3.10/site-packages/geopandas/_compat.py:112: UserWarning: The Shapely GEOS version (3.10.3-CAPI-1.16.1) is incompatible with the GEOS version PyGEOS was compiled with (3.10.1-CAPI-1.16.0). Conversions between both will be slow.\n",
      "  warnings.warn(\n"
     ]
    }
   ],
   "source": [
    "import os\n",
    "os.environ[\"CALITP_BQ_MAX_BYTES\"] = str(800_000_000_000) ## 800GB?\n",
    "\n",
    "from calitp.tables import tbl\n",
    "from calitp import query_sql, magics\n",
    "import calitp.magics\n",
    "import branca\n",
    "\n",
    "import shared_utils\n",
    "from dla_utils import _dla_utils as dla_utils\n",
    "\n",
    "from siuba import *\n",
    "import pandas as pd\n",
    "\n",
    "import datetime as dt\n",
    "import time\n",
    "from zoneinfo import ZoneInfo\n",
    "\n",
    "import importlib\n",
    "\n",
    "import gcsfs\n",
    "fs = gcsfs.GCSFileSystem()\n",
    "\n",
    "from tqdm import tqdm_notebook\n",
    "from tqdm.notebook import trange, tqdm\n",
    "\n",
    "from IPython.display import display, Markdown\n"
   ]
  },
  {
   "cell_type": "code",
   "execution_count": 2,
   "id": "6ecab81c-8d62-488a-9b61-47a496879d0b",
   "metadata": {},
   "outputs": [],
   "source": [
    "import utils"
   ]
  },
  {
   "cell_type": "code",
   "execution_count": 3,
   "id": "497cf8a6-3bed-4aba-a0f8-d78a8a669a7d",
   "metadata": {},
   "outputs": [],
   "source": [
    "#adding cal-itp id \n",
    "bbb = 300\n",
    "st = 290"
   ]
  },
  {
   "cell_type": "code",
   "execution_count": 4,
   "id": "14d08b96-f8d8-4926-bdb9-217c0bdbb0ab",
   "metadata": {},
   "outputs": [],
   "source": [
    "pd.set_option(\"display.max_columns\", 100)\n"
   ]
  },
  {
   "cell_type": "code",
   "execution_count": 5,
   "id": "e03ca8eb-6429-4c4d-b0ff-52b81391014f",
   "metadata": {},
   "outputs": [],
   "source": [
    "rt_sched = utils.read_data()"
   ]
  },
  {
   "cell_type": "code",
   "execution_count": 6,
   "id": "ade1bc04-f794-4c74-8e8f-58db0d94bb99",
   "metadata": {},
   "outputs": [],
   "source": [
    "# changing calitp_deleted_at to datetime so we can filter on that \n",
    "rt_sched['calitp_deleted_at'] = pd.to_datetime(rt_sched['calitp_deleted_at'])"
   ]
  },
  {
   "cell_type": "code",
   "execution_count": 7,
   "id": "836389d7-75df-47d3-b10e-5ccbbf4ae49b",
   "metadata": {},
   "outputs": [],
   "source": [
    "#filtering down to deleted_at to filter out the SamTrans entries from old feed\n",
    "rt_sched = (rt_sched>>filter(_.calitp_deleted_at > '2022-07-01'))"
   ]
  },
  {
   "cell_type": "code",
   "execution_count": 8,
   "id": "407d8e09-c090-4fdd-b9e6-f749137bf289",
   "metadata": {},
   "outputs": [
    {
     "data": {
      "text/html": [
       "<div>\n",
       "<style scoped>\n",
       "    .dataframe tbody tr th:only-of-type {\n",
       "        vertical-align: middle;\n",
       "    }\n",
       "\n",
       "    .dataframe tbody tr th {\n",
       "        vertical-align: top;\n",
       "    }\n",
       "\n",
       "    .dataframe thead th {\n",
       "        text-align: right;\n",
       "    }\n",
       "</style>\n",
       "<table border=\"1\" class=\"dataframe\">\n",
       "  <thead>\n",
       "    <tr style=\"text-align: right;\">\n",
       "      <th></th>\n",
       "      <th>calitp_itp_id</th>\n",
       "      <th>agency_name</th>\n",
       "      <th>calitp_url_number</th>\n",
       "      <th>route_id</th>\n",
       "      <th>route_short_name</th>\n",
       "      <th>service_date</th>\n",
       "      <th>calitp_extracted_at</th>\n",
       "      <th>calitp_deleted_at</th>\n",
       "      <th>num_sched</th>\n",
       "      <th>num_vp</th>\n",
       "      <th>pct_w_vp</th>\n",
       "      <th>weekday</th>\n",
       "      <th>month</th>\n",
       "    </tr>\n",
       "  </thead>\n",
       "  <tbody>\n",
       "    <tr>\n",
       "      <th>0</th>\n",
       "      <td>290</td>\n",
       "      <td>SamTrans</td>\n",
       "      <td>1</td>\n",
       "      <td>110</td>\n",
       "      <td>110</td>\n",
       "      <td>2022-06-28</td>\n",
       "      <td>2021-04-16</td>\n",
       "      <td>2099-01-01</td>\n",
       "      <td>48</td>\n",
       "      <td>48</td>\n",
       "      <td>1.00</td>\n",
       "      <td>Tuesday</td>\n",
       "      <td>June</td>\n",
       "    </tr>\n",
       "    <tr>\n",
       "      <th>1</th>\n",
       "      <td>290</td>\n",
       "      <td>SamTrans</td>\n",
       "      <td>1</td>\n",
       "      <td>110</td>\n",
       "      <td>110</td>\n",
       "      <td>2022-06-20</td>\n",
       "      <td>2021-04-16</td>\n",
       "      <td>2099-01-01</td>\n",
       "      <td>48</td>\n",
       "      <td>19</td>\n",
       "      <td>0.40</td>\n",
       "      <td>Monday</td>\n",
       "      <td>June</td>\n",
       "    </tr>\n",
       "    <tr>\n",
       "      <th>2</th>\n",
       "      <td>290</td>\n",
       "      <td>SamTrans</td>\n",
       "      <td>1</td>\n",
       "      <td>110</td>\n",
       "      <td>110</td>\n",
       "      <td>2022-06-29</td>\n",
       "      <td>2021-04-16</td>\n",
       "      <td>2099-01-01</td>\n",
       "      <td>48</td>\n",
       "      <td>48</td>\n",
       "      <td>1.00</td>\n",
       "      <td>Wednesday</td>\n",
       "      <td>June</td>\n",
       "    </tr>\n",
       "    <tr>\n",
       "      <th>3</th>\n",
       "      <td>290</td>\n",
       "      <td>SamTrans</td>\n",
       "      <td>1</td>\n",
       "      <td>110</td>\n",
       "      <td>110</td>\n",
       "      <td>2022-06-24</td>\n",
       "      <td>2021-04-16</td>\n",
       "      <td>2099-01-01</td>\n",
       "      <td>48</td>\n",
       "      <td>28</td>\n",
       "      <td>0.58</td>\n",
       "      <td>Friday</td>\n",
       "      <td>June</td>\n",
       "    </tr>\n",
       "    <tr>\n",
       "      <th>4</th>\n",
       "      <td>290</td>\n",
       "      <td>SamTrans</td>\n",
       "      <td>1</td>\n",
       "      <td>110</td>\n",
       "      <td>110</td>\n",
       "      <td>2022-06-22</td>\n",
       "      <td>2021-04-16</td>\n",
       "      <td>2099-01-01</td>\n",
       "      <td>48</td>\n",
       "      <td>27</td>\n",
       "      <td>0.56</td>\n",
       "      <td>Wednesday</td>\n",
       "      <td>June</td>\n",
       "    </tr>\n",
       "  </tbody>\n",
       "</table>\n",
       "</div>"
      ],
      "text/plain": [
       "   calitp_itp_id agency_name  calitp_url_number route_id route_short_name  \\\n",
       "0            290    SamTrans                  1      110              110   \n",
       "1            290    SamTrans                  1      110              110   \n",
       "2            290    SamTrans                  1      110              110   \n",
       "3            290    SamTrans                  1      110              110   \n",
       "4            290    SamTrans                  1      110              110   \n",
       "\n",
       "  service_date calitp_extracted_at calitp_deleted_at  num_sched  num_vp  \\\n",
       "0   2022-06-28          2021-04-16        2099-01-01         48      48   \n",
       "1   2022-06-20          2021-04-16        2099-01-01         48      19   \n",
       "2   2022-06-29          2021-04-16        2099-01-01         48      48   \n",
       "3   2022-06-24          2021-04-16        2099-01-01         48      28   \n",
       "4   2022-06-22          2021-04-16        2099-01-01         48      27   \n",
       "\n",
       "   pct_w_vp    weekday month  \n",
       "0      1.00    Tuesday  June  \n",
       "1      0.40     Monday  June  \n",
       "2      1.00  Wednesday  June  \n",
       "3      0.58     Friday  June  \n",
       "4      0.56  Wednesday  June  "
      ]
     },
     "execution_count": 8,
     "metadata": {},
     "output_type": "execute_result"
    }
   ],
   "source": [
    "rt_sched.head()"
   ]
  },
  {
   "cell_type": "code",
   "execution_count": 9,
   "id": "8d1d1447-ea23-483b-80c3-292dac3126ff",
   "metadata": {},
   "outputs": [
    {
     "data": {
      "text/html": [
       "<div>\n",
       "<style scoped>\n",
       "    .dataframe tbody tr th:only-of-type {\n",
       "        vertical-align: middle;\n",
       "    }\n",
       "\n",
       "    .dataframe tbody tr th {\n",
       "        vertical-align: top;\n",
       "    }\n",
       "\n",
       "    .dataframe thead th {\n",
       "        text-align: right;\n",
       "    }\n",
       "</style>\n",
       "<table border=\"1\" class=\"dataframe\">\n",
       "  <thead>\n",
       "    <tr style=\"text-align: right;\">\n",
       "      <th></th>\n",
       "      <th>calitp_itp_id</th>\n",
       "      <th>agency_name</th>\n",
       "      <th>calitp_url_number</th>\n",
       "      <th>route_id</th>\n",
       "      <th>route_short_name</th>\n",
       "      <th>service_date</th>\n",
       "      <th>calitp_extracted_at</th>\n",
       "      <th>calitp_deleted_at</th>\n",
       "      <th>num_sched</th>\n",
       "      <th>num_vp</th>\n",
       "      <th>pct_w_vp</th>\n",
       "      <th>weekday</th>\n",
       "      <th>month</th>\n",
       "    </tr>\n",
       "  </thead>\n",
       "  <tbody>\n",
       "    <tr>\n",
       "      <th>6893</th>\n",
       "      <td>300</td>\n",
       "      <td>Big Blue Bus</td>\n",
       "      <td>0</td>\n",
       "      <td>3479</td>\n",
       "      <td>1</td>\n",
       "      <td>2022-05-27</td>\n",
       "      <td>2022-03-08</td>\n",
       "      <td>2022-09-01</td>\n",
       "      <td>180</td>\n",
       "      <td>177</td>\n",
       "      <td>0.98</td>\n",
       "      <td>Friday</td>\n",
       "      <td>May</td>\n",
       "    </tr>\n",
       "    <tr>\n",
       "      <th>6894</th>\n",
       "      <td>300</td>\n",
       "      <td>Big Blue Bus</td>\n",
       "      <td>0</td>\n",
       "      <td>3479</td>\n",
       "      <td>1</td>\n",
       "      <td>2022-06-10</td>\n",
       "      <td>2022-03-08</td>\n",
       "      <td>2022-09-01</td>\n",
       "      <td>180</td>\n",
       "      <td>161</td>\n",
       "      <td>0.89</td>\n",
       "      <td>Friday</td>\n",
       "      <td>June</td>\n",
       "    </tr>\n",
       "    <tr>\n",
       "      <th>6895</th>\n",
       "      <td>300</td>\n",
       "      <td>Big Blue Bus</td>\n",
       "      <td>0</td>\n",
       "      <td>3479</td>\n",
       "      <td>1</td>\n",
       "      <td>2022-06-30</td>\n",
       "      <td>2022-03-08</td>\n",
       "      <td>2022-09-01</td>\n",
       "      <td>180</td>\n",
       "      <td>177</td>\n",
       "      <td>0.98</td>\n",
       "      <td>Thursday</td>\n",
       "      <td>June</td>\n",
       "    </tr>\n",
       "    <tr>\n",
       "      <th>6896</th>\n",
       "      <td>300</td>\n",
       "      <td>Big Blue Bus</td>\n",
       "      <td>0</td>\n",
       "      <td>3479</td>\n",
       "      <td>1</td>\n",
       "      <td>2022-05-11</td>\n",
       "      <td>2022-03-08</td>\n",
       "      <td>2022-09-01</td>\n",
       "      <td>180</td>\n",
       "      <td>179</td>\n",
       "      <td>0.99</td>\n",
       "      <td>Wednesday</td>\n",
       "      <td>May</td>\n",
       "    </tr>\n",
       "    <tr>\n",
       "      <th>6897</th>\n",
       "      <td>300</td>\n",
       "      <td>Big Blue Bus</td>\n",
       "      <td>0</td>\n",
       "      <td>3479</td>\n",
       "      <td>1</td>\n",
       "      <td>2022-05-17</td>\n",
       "      <td>2022-03-08</td>\n",
       "      <td>2022-09-01</td>\n",
       "      <td>180</td>\n",
       "      <td>180</td>\n",
       "      <td>1.00</td>\n",
       "      <td>Tuesday</td>\n",
       "      <td>May</td>\n",
       "    </tr>\n",
       "  </tbody>\n",
       "</table>\n",
       "</div>"
      ],
      "text/plain": [
       "      calitp_itp_id   agency_name  calitp_url_number route_id  \\\n",
       "6893            300  Big Blue Bus                  0     3479   \n",
       "6894            300  Big Blue Bus                  0     3479   \n",
       "6895            300  Big Blue Bus                  0     3479   \n",
       "6896            300  Big Blue Bus                  0     3479   \n",
       "6897            300  Big Blue Bus                  0     3479   \n",
       "\n",
       "     route_short_name service_date calitp_extracted_at calitp_deleted_at  \\\n",
       "6893                1   2022-05-27          2022-03-08        2022-09-01   \n",
       "6894                1   2022-06-10          2022-03-08        2022-09-01   \n",
       "6895                1   2022-06-30          2022-03-08        2022-09-01   \n",
       "6896                1   2022-05-11          2022-03-08        2022-09-01   \n",
       "6897                1   2022-05-17          2022-03-08        2022-09-01   \n",
       "\n",
       "      num_sched  num_vp  pct_w_vp    weekday month  \n",
       "6893        180     177      0.98     Friday   May  \n",
       "6894        180     161      0.89     Friday  June  \n",
       "6895        180     177      0.98   Thursday  June  \n",
       "6896        180     179      0.99  Wednesday   May  \n",
       "6897        180     180      1.00    Tuesday   May  "
      ]
     },
     "execution_count": 9,
     "metadata": {},
     "output_type": "execute_result"
    }
   ],
   "source": [
    "rt_sched.tail()"
   ]
  },
  {
   "cell_type": "code",
   "execution_count": 10,
   "id": "8ad0ad6e-37b2-4f2d-a5fb-4c491ad785f3",
   "metadata": {},
   "outputs": [
    {
     "name": "stdout",
     "output_type": "stream",
     "text": [
      "<class 'pandas.core.frame.DataFrame'>\n",
      "Int64Index: 3027 entries, 0 to 6897\n",
      "Data columns (total 13 columns):\n",
      " #   Column               Non-Null Count  Dtype         \n",
      "---  ------               --------------  -----         \n",
      " 0   calitp_itp_id        3027 non-null   int64         \n",
      " 1   agency_name          2692 non-null   object        \n",
      " 2   calitp_url_number    3027 non-null   int64         \n",
      " 3   route_id             3027 non-null   object        \n",
      " 4   route_short_name     3027 non-null   object        \n",
      " 5   service_date         3027 non-null   datetime64[ns]\n",
      " 6   calitp_extracted_at  3027 non-null   object        \n",
      " 7   calitp_deleted_at    3027 non-null   datetime64[ns]\n",
      " 8   num_sched            3027 non-null   int64         \n",
      " 9   num_vp               3027 non-null   int64         \n",
      " 10  pct_w_vp             3027 non-null   float64       \n",
      " 11  weekday              3027 non-null   object        \n",
      " 12  month                3027 non-null   object        \n",
      "dtypes: datetime64[ns](2), float64(1), int64(4), object(6)\n",
      "memory usage: 331.1+ KB\n"
     ]
    }
   ],
   "source": [
    "rt_sched.info()"
   ]
  },
  {
   "cell_type": "code",
   "execution_count": 11,
   "id": "5115c2c2-37e1-40eb-85b3-a554cf2f5e28",
   "metadata": {},
   "outputs": [
    {
     "data": {
      "text/plain": [
       "SamTrans        1690\n",
       "Big Blue Bus    1002\n",
       "Name: agency_name, dtype: int64"
      ]
     },
     "execution_count": 11,
     "metadata": {},
     "output_type": "execute_result"
    }
   ],
   "source": [
    "rt_sched.agency_name.value_counts()"
   ]
  },
  {
   "cell_type": "code",
   "execution_count": 12,
   "id": "9907912a-f71f-47e5-a6c2-b99a845cc052",
   "metadata": {},
   "outputs": [
    {
     "data": {
      "text/plain": [
       "290    2025\n",
       "300    1002\n",
       "Name: calitp_itp_id, dtype: int64"
      ]
     },
     "execution_count": 12,
     "metadata": {},
     "output_type": "execute_result"
    }
   ],
   "source": [
    "rt_sched.calitp_itp_id.value_counts()"
   ]
  },
  {
   "cell_type": "code",
   "execution_count": null,
   "id": "26d6defb-d256-4e3f-b2a3-3ea9917383d0",
   "metadata": {},
   "outputs": [],
   "source": []
  },
  {
   "cell_type": "markdown",
   "id": "e34ab75b-5101-44e4-a21f-853e832bc6f9",
   "metadata": {
    "tags": []
   },
   "source": [
    "## Charting"
   ]
  },
  {
   "cell_type": "code",
   "execution_count": 13,
   "id": "ad8461ca-ccf1-4895-b13e-4f675a5792bd",
   "metadata": {},
   "outputs": [],
   "source": [
    "import altair as alt\n",
    "\n",
    "from shared_utils import altair_utils\n",
    "from shared_utils import geography_utils\n",
    "from shared_utils import calitp_color_palette as cp\n",
    "from shared_utils import styleguide\n",
    "\n",
    "#import seaborn as sns"
   ]
  },
  {
   "cell_type": "code",
   "execution_count": 14,
   "id": "e1b903f9-eb88-4657-8794-54ce593912dd",
   "metadata": {},
   "outputs": [
    {
     "data": {
      "text/html": [
       "<div>\n",
       "<style scoped>\n",
       "    .dataframe tbody tr th:only-of-type {\n",
       "        vertical-align: middle;\n",
       "    }\n",
       "\n",
       "    .dataframe tbody tr th {\n",
       "        vertical-align: top;\n",
       "    }\n",
       "\n",
       "    .dataframe thead th {\n",
       "        text-align: right;\n",
       "    }\n",
       "</style>\n",
       "<table border=\"1\" class=\"dataframe\">\n",
       "  <thead>\n",
       "    <tr style=\"text-align: right;\">\n",
       "      <th></th>\n",
       "      <th>calitp_itp_id</th>\n",
       "      <th>agency_name</th>\n",
       "      <th>calitp_url_number</th>\n",
       "      <th>route_id</th>\n",
       "      <th>route_short_name</th>\n",
       "      <th>service_date</th>\n",
       "      <th>calitp_extracted_at</th>\n",
       "      <th>calitp_deleted_at</th>\n",
       "      <th>num_sched</th>\n",
       "      <th>num_vp</th>\n",
       "      <th>pct_w_vp</th>\n",
       "      <th>weekday</th>\n",
       "      <th>month</th>\n",
       "    </tr>\n",
       "  </thead>\n",
       "  <tbody>\n",
       "    <tr>\n",
       "      <th>4706</th>\n",
       "      <td>290</td>\n",
       "      <td>None</td>\n",
       "      <td>0</td>\n",
       "      <td>294-199</td>\n",
       "      <td>294</td>\n",
       "      <td>2022-06-25</td>\n",
       "      <td>2022-06-19</td>\n",
       "      <td>2022-07-26</td>\n",
       "      <td>30</td>\n",
       "      <td>0</td>\n",
       "      <td>0.00</td>\n",
       "      <td>Saturday</td>\n",
       "      <td>June</td>\n",
       "    </tr>\n",
       "  </tbody>\n",
       "</table>\n",
       "</div>"
      ],
      "text/plain": [
       "      calitp_itp_id agency_name  calitp_url_number route_id route_short_name  \\\n",
       "4706            290        None                  0  294-199              294   \n",
       "\n",
       "     service_date calitp_extracted_at calitp_deleted_at  num_sched  num_vp  \\\n",
       "4706   2022-06-25          2022-06-19        2022-07-26         30       0   \n",
       "\n",
       "      pct_w_vp   weekday month  \n",
       "4706      0.00  Saturday  June  "
      ]
     },
     "execution_count": 14,
     "metadata": {},
     "output_type": "execute_result"
    }
   ],
   "source": [
    "rt_sched.sample()"
   ]
  },
  {
   "cell_type": "code",
   "execution_count": 15,
   "id": "0d21666f-44ad-4464-97a7-c31a46a430e7",
   "metadata": {},
   "outputs": [
    {
     "data": {
      "text/html": [
       "<div>\n",
       "<style scoped>\n",
       "    .dataframe tbody tr th:only-of-type {\n",
       "        vertical-align: middle;\n",
       "    }\n",
       "\n",
       "    .dataframe tbody tr th {\n",
       "        vertical-align: top;\n",
       "    }\n",
       "\n",
       "    .dataframe thead th {\n",
       "        text-align: right;\n",
       "    }\n",
       "</style>\n",
       "<table border=\"1\" class=\"dataframe\">\n",
       "  <thead>\n",
       "    <tr style=\"text-align: right;\">\n",
       "      <th></th>\n",
       "      <th>month</th>\n",
       "      <th>n</th>\n",
       "    </tr>\n",
       "  </thead>\n",
       "  <tbody>\n",
       "    <tr>\n",
       "      <th>0</th>\n",
       "      <td>June</td>\n",
       "      <td>1674</td>\n",
       "    </tr>\n",
       "    <tr>\n",
       "      <th>1</th>\n",
       "      <td>May</td>\n",
       "      <td>1353</td>\n",
       "    </tr>\n",
       "  </tbody>\n",
       "</table>\n",
       "</div>"
      ],
      "text/plain": [
       "  month     n\n",
       "0  June  1674\n",
       "1   May  1353"
      ]
     },
     "execution_count": 15,
     "metadata": {},
     "output_type": "execute_result"
    }
   ],
   "source": [
    "rt_sched>>count(_.month)"
   ]
  },
  {
   "cell_type": "code",
   "execution_count": 16,
   "id": "0c0c12f5-1fdb-420a-9cf5-eb996edc5910",
   "metadata": {},
   "outputs": [
    {
     "data": {
      "text/html": [
       "<div>\n",
       "<style scoped>\n",
       "    .dataframe tbody tr th:only-of-type {\n",
       "        vertical-align: middle;\n",
       "    }\n",
       "\n",
       "    .dataframe tbody tr th {\n",
       "        vertical-align: top;\n",
       "    }\n",
       "\n",
       "    .dataframe thead th {\n",
       "        text-align: right;\n",
       "    }\n",
       "</style>\n",
       "<table border=\"1\" class=\"dataframe\">\n",
       "  <thead>\n",
       "    <tr style=\"text-align: right;\">\n",
       "      <th></th>\n",
       "      <th>calitp_itp_id</th>\n",
       "      <th>month</th>\n",
       "      <th>avg</th>\n",
       "    </tr>\n",
       "  </thead>\n",
       "  <tbody>\n",
       "    <tr>\n",
       "      <th>0</th>\n",
       "      <td>290</td>\n",
       "      <td>June</td>\n",
       "      <td>0.45</td>\n",
       "    </tr>\n",
       "    <tr>\n",
       "      <th>1</th>\n",
       "      <td>290</td>\n",
       "      <td>May</td>\n",
       "      <td>0.79</td>\n",
       "    </tr>\n",
       "    <tr>\n",
       "      <th>2</th>\n",
       "      <td>300</td>\n",
       "      <td>June</td>\n",
       "      <td>0.86</td>\n",
       "    </tr>\n",
       "    <tr>\n",
       "      <th>3</th>\n",
       "      <td>300</td>\n",
       "      <td>May</td>\n",
       "      <td>0.84</td>\n",
       "    </tr>\n",
       "  </tbody>\n",
       "</table>\n",
       "</div>"
      ],
      "text/plain": [
       "   calitp_itp_id month  avg\n",
       "0            290  June 0.45\n",
       "1            290   May 0.79\n",
       "2            300  June 0.86\n",
       "3            300   May 0.84"
      ]
     },
     "execution_count": 16,
     "metadata": {},
     "output_type": "execute_result"
    }
   ],
   "source": [
    "rt_sched>>group_by(_.calitp_itp_id, _.month)>>summarize(avg = _.pct_w_vp.mean())"
   ]
  },
  {
   "cell_type": "code",
   "execution_count": 17,
   "id": "8bb8d0f7-0be4-48f2-961b-dfdf09e68840",
   "metadata": {},
   "outputs": [
    {
     "data": {
      "text/html": [
       "<div>\n",
       "<style scoped>\n",
       "    .dataframe tbody tr th:only-of-type {\n",
       "        vertical-align: middle;\n",
       "    }\n",
       "\n",
       "    .dataframe tbody tr th {\n",
       "        vertical-align: top;\n",
       "    }\n",
       "\n",
       "    .dataframe thead th {\n",
       "        text-align: right;\n",
       "    }\n",
       "</style>\n",
       "<table border=\"1\" class=\"dataframe\">\n",
       "  <thead>\n",
       "    <tr style=\"text-align: right;\">\n",
       "      <th></th>\n",
       "      <th>agency_name</th>\n",
       "      <th>calitp_itp_id</th>\n",
       "      <th>month</th>\n",
       "      <th>avg</th>\n",
       "    </tr>\n",
       "  </thead>\n",
       "  <tbody>\n",
       "    <tr>\n",
       "      <th>0</th>\n",
       "      <td>Big Blue Bus</td>\n",
       "      <td>300</td>\n",
       "      <td>June</td>\n",
       "      <td>0.86</td>\n",
       "    </tr>\n",
       "    <tr>\n",
       "      <th>1</th>\n",
       "      <td>Big Blue Bus</td>\n",
       "      <td>300</td>\n",
       "      <td>May</td>\n",
       "      <td>0.84</td>\n",
       "    </tr>\n",
       "    <tr>\n",
       "      <th>2</th>\n",
       "      <td>SamTrans</td>\n",
       "      <td>290</td>\n",
       "      <td>June</td>\n",
       "      <td>0.62</td>\n",
       "    </tr>\n",
       "    <tr>\n",
       "      <th>3</th>\n",
       "      <td>SamTrans</td>\n",
       "      <td>290</td>\n",
       "      <td>May</td>\n",
       "      <td>0.79</td>\n",
       "    </tr>\n",
       "  </tbody>\n",
       "</table>\n",
       "</div>"
      ],
      "text/plain": [
       "    agency_name  calitp_itp_id month  avg\n",
       "0  Big Blue Bus            300  June 0.86\n",
       "1  Big Blue Bus            300   May 0.84\n",
       "2      SamTrans            290  June 0.62\n",
       "3      SamTrans            290   May 0.79"
      ]
     },
     "execution_count": 17,
     "metadata": {},
     "output_type": "execute_result"
    }
   ],
   "source": [
    "rt_sched>>group_by(_.agency_name, _.calitp_itp_id, _.month)>>summarize(avg = _.pct_w_vp.mean())"
   ]
  },
  {
   "cell_type": "code",
   "execution_count": 18,
   "id": "ed918fa3-e4c2-4945-9c87-44fefd5aa5dc",
   "metadata": {},
   "outputs": [],
   "source": [
    "#june is funky"
   ]
  },
  {
   "cell_type": "code",
   "execution_count": null,
   "id": "5ceebe37-ff87-466d-82a7-e97ca7ca29af",
   "metadata": {},
   "outputs": [],
   "source": []
  },
  {
   "cell_type": "code",
   "execution_count": 19,
   "id": "f91edf4d-32d6-4fa5-994d-0cc5cb2116c5",
   "metadata": {},
   "outputs": [],
   "source": [
    "#aggregating by date\n",
    "day_pct = utils.agg_by_date(rt_sched, 'num_sched', 'num_vp')"
   ]
  },
  {
   "cell_type": "code",
   "execution_count": 20,
   "id": "f9f5db21-f901-4f9e-ac20-6a57a0f077fd",
   "metadata": {},
   "outputs": [
    {
     "data": {
      "text/html": [
       "<div>\n",
       "<style scoped>\n",
       "    .dataframe tbody tr th:only-of-type {\n",
       "        vertical-align: middle;\n",
       "    }\n",
       "\n",
       "    .dataframe tbody tr th {\n",
       "        vertical-align: top;\n",
       "    }\n",
       "\n",
       "    .dataframe thead th {\n",
       "        text-align: right;\n",
       "    }\n",
       "</style>\n",
       "<table border=\"1\" class=\"dataframe\">\n",
       "  <thead>\n",
       "    <tr style=\"text-align: right;\">\n",
       "      <th></th>\n",
       "      <th>calitp_itp_id</th>\n",
       "      <th>agency_name</th>\n",
       "      <th>calitp_url_number</th>\n",
       "      <th>service_date</th>\n",
       "      <th>weekday</th>\n",
       "      <th>month</th>\n",
       "      <th>total_num_sched</th>\n",
       "      <th>total_num_vp</th>\n",
       "      <th>pct_w_vp</th>\n",
       "    </tr>\n",
       "  </thead>\n",
       "  <tbody>\n",
       "    <tr>\n",
       "      <th>0</th>\n",
       "      <td>290</td>\n",
       "      <td>SamTrans</td>\n",
       "      <td>1</td>\n",
       "      <td>2022-05-01</td>\n",
       "      <td>Sunday</td>\n",
       "      <td>May</td>\n",
       "      <td>765</td>\n",
       "      <td>534</td>\n",
       "      <td>0.70</td>\n",
       "    </tr>\n",
       "    <tr>\n",
       "      <th>1</th>\n",
       "      <td>290</td>\n",
       "      <td>SamTrans</td>\n",
       "      <td>1</td>\n",
       "      <td>2022-05-02</td>\n",
       "      <td>Monday</td>\n",
       "      <td>May</td>\n",
       "      <td>1339</td>\n",
       "      <td>938</td>\n",
       "      <td>0.70</td>\n",
       "    </tr>\n",
       "    <tr>\n",
       "      <th>2</th>\n",
       "      <td>290</td>\n",
       "      <td>SamTrans</td>\n",
       "      <td>1</td>\n",
       "      <td>2022-05-03</td>\n",
       "      <td>Tuesday</td>\n",
       "      <td>May</td>\n",
       "      <td>1339</td>\n",
       "      <td>1284</td>\n",
       "      <td>0.96</td>\n",
       "    </tr>\n",
       "    <tr>\n",
       "      <th>3</th>\n",
       "      <td>290</td>\n",
       "      <td>SamTrans</td>\n",
       "      <td>1</td>\n",
       "      <td>2022-05-04</td>\n",
       "      <td>Wednesday</td>\n",
       "      <td>May</td>\n",
       "      <td>1343</td>\n",
       "      <td>3</td>\n",
       "      <td>0.00</td>\n",
       "    </tr>\n",
       "    <tr>\n",
       "      <th>4</th>\n",
       "      <td>290</td>\n",
       "      <td>SamTrans</td>\n",
       "      <td>1</td>\n",
       "      <td>2022-05-05</td>\n",
       "      <td>Thursday</td>\n",
       "      <td>May</td>\n",
       "      <td>1338</td>\n",
       "      <td>948</td>\n",
       "      <td>0.71</td>\n",
       "    </tr>\n",
       "    <tr>\n",
       "      <th>...</th>\n",
       "      <td>...</td>\n",
       "      <td>...</td>\n",
       "      <td>...</td>\n",
       "      <td>...</td>\n",
       "      <td>...</td>\n",
       "      <td>...</td>\n",
       "      <td>...</td>\n",
       "      <td>...</td>\n",
       "      <td>...</td>\n",
       "    </tr>\n",
       "    <tr>\n",
       "      <th>117</th>\n",
       "      <td>300</td>\n",
       "      <td>Big Blue Bus</td>\n",
       "      <td>0</td>\n",
       "      <td>2022-06-26</td>\n",
       "      <td>Sunday</td>\n",
       "      <td>June</td>\n",
       "      <td>770</td>\n",
       "      <td>498</td>\n",
       "      <td>0.65</td>\n",
       "    </tr>\n",
       "    <tr>\n",
       "      <th>118</th>\n",
       "      <td>300</td>\n",
       "      <td>Big Blue Bus</td>\n",
       "      <td>0</td>\n",
       "      <td>2022-06-27</td>\n",
       "      <td>Monday</td>\n",
       "      <td>June</td>\n",
       "      <td>1461</td>\n",
       "      <td>1013</td>\n",
       "      <td>0.69</td>\n",
       "    </tr>\n",
       "    <tr>\n",
       "      <th>119</th>\n",
       "      <td>300</td>\n",
       "      <td>Big Blue Bus</td>\n",
       "      <td>0</td>\n",
       "      <td>2022-06-28</td>\n",
       "      <td>Tuesday</td>\n",
       "      <td>June</td>\n",
       "      <td>1461</td>\n",
       "      <td>1359</td>\n",
       "      <td>0.93</td>\n",
       "    </tr>\n",
       "    <tr>\n",
       "      <th>120</th>\n",
       "      <td>300</td>\n",
       "      <td>Big Blue Bus</td>\n",
       "      <td>0</td>\n",
       "      <td>2022-06-29</td>\n",
       "      <td>Wednesday</td>\n",
       "      <td>June</td>\n",
       "      <td>1461</td>\n",
       "      <td>1367</td>\n",
       "      <td>0.94</td>\n",
       "    </tr>\n",
       "    <tr>\n",
       "      <th>121</th>\n",
       "      <td>300</td>\n",
       "      <td>Big Blue Bus</td>\n",
       "      <td>0</td>\n",
       "      <td>2022-06-30</td>\n",
       "      <td>Thursday</td>\n",
       "      <td>June</td>\n",
       "      <td>1461</td>\n",
       "      <td>1374</td>\n",
       "      <td>0.94</td>\n",
       "    </tr>\n",
       "  </tbody>\n",
       "</table>\n",
       "<p>122 rows × 9 columns</p>\n",
       "</div>"
      ],
      "text/plain": [
       "     calitp_itp_id   agency_name  calitp_url_number service_date    weekday  \\\n",
       "0              290      SamTrans                  1   2022-05-01     Sunday   \n",
       "1              290      SamTrans                  1   2022-05-02     Monday   \n",
       "2              290      SamTrans                  1   2022-05-03    Tuesday   \n",
       "3              290      SamTrans                  1   2022-05-04  Wednesday   \n",
       "4              290      SamTrans                  1   2022-05-05   Thursday   \n",
       "..             ...           ...                ...          ...        ...   \n",
       "117            300  Big Blue Bus                  0   2022-06-26     Sunday   \n",
       "118            300  Big Blue Bus                  0   2022-06-27     Monday   \n",
       "119            300  Big Blue Bus                  0   2022-06-28    Tuesday   \n",
       "120            300  Big Blue Bus                  0   2022-06-29  Wednesday   \n",
       "121            300  Big Blue Bus                  0   2022-06-30   Thursday   \n",
       "\n",
       "    month  total_num_sched  total_num_vp  pct_w_vp  \n",
       "0     May              765           534      0.70  \n",
       "1     May             1339           938      0.70  \n",
       "2     May             1339          1284      0.96  \n",
       "3     May             1343             3      0.00  \n",
       "4     May             1338           948      0.71  \n",
       "..    ...              ...           ...       ...  \n",
       "117  June              770           498      0.65  \n",
       "118  June             1461          1013      0.69  \n",
       "119  June             1461          1359      0.93  \n",
       "120  June             1461          1367      0.94  \n",
       "121  June             1461          1374      0.94  \n",
       "\n",
       "[122 rows x 9 columns]"
      ]
     },
     "execution_count": 20,
     "metadata": {},
     "output_type": "execute_result"
    }
   ],
   "source": [
    "day_pct"
   ]
  },
  {
   "cell_type": "code",
   "execution_count": null,
   "id": "364a788b-d286-4711-8c55-2be99e8fab9a",
   "metadata": {},
   "outputs": [],
   "source": []
  },
  {
   "cell_type": "code",
   "execution_count": 21,
   "id": "0eb3dd8a-d39f-447b-8b2c-c85a5e1f5cdb",
   "metadata": {},
   "outputs": [
    {
     "data": {
      "text/html": [
       "<div>\n",
       "<style scoped>\n",
       "    .dataframe tbody tr th:only-of-type {\n",
       "        vertical-align: middle;\n",
       "    }\n",
       "\n",
       "    .dataframe tbody tr th {\n",
       "        vertical-align: top;\n",
       "    }\n",
       "\n",
       "    .dataframe thead th {\n",
       "        text-align: right;\n",
       "    }\n",
       "</style>\n",
       "<table border=\"1\" class=\"dataframe\">\n",
       "  <thead>\n",
       "    <tr style=\"text-align: right;\">\n",
       "      <th></th>\n",
       "      <th>service_date</th>\n",
       "      <th>n</th>\n",
       "    </tr>\n",
       "  </thead>\n",
       "  <tbody>\n",
       "    <tr>\n",
       "      <th>0</th>\n",
       "      <td>2022-05-01</td>\n",
       "      <td>2</td>\n",
       "    </tr>\n",
       "    <tr>\n",
       "      <th>1</th>\n",
       "      <td>2022-05-02</td>\n",
       "      <td>2</td>\n",
       "    </tr>\n",
       "    <tr>\n",
       "      <th>2</th>\n",
       "      <td>2022-05-03</td>\n",
       "      <td>2</td>\n",
       "    </tr>\n",
       "    <tr>\n",
       "      <th>3</th>\n",
       "      <td>2022-05-04</td>\n",
       "      <td>2</td>\n",
       "    </tr>\n",
       "    <tr>\n",
       "      <th>4</th>\n",
       "      <td>2022-05-05</td>\n",
       "      <td>2</td>\n",
       "    </tr>\n",
       "    <tr>\n",
       "      <th>...</th>\n",
       "      <td>...</td>\n",
       "      <td>...</td>\n",
       "    </tr>\n",
       "    <tr>\n",
       "      <th>56</th>\n",
       "      <td>2022-06-26</td>\n",
       "      <td>2</td>\n",
       "    </tr>\n",
       "    <tr>\n",
       "      <th>57</th>\n",
       "      <td>2022-06-27</td>\n",
       "      <td>2</td>\n",
       "    </tr>\n",
       "    <tr>\n",
       "      <th>58</th>\n",
       "      <td>2022-06-28</td>\n",
       "      <td>2</td>\n",
       "    </tr>\n",
       "    <tr>\n",
       "      <th>59</th>\n",
       "      <td>2022-06-29</td>\n",
       "      <td>2</td>\n",
       "    </tr>\n",
       "    <tr>\n",
       "      <th>60</th>\n",
       "      <td>2022-06-30</td>\n",
       "      <td>2</td>\n",
       "    </tr>\n",
       "  </tbody>\n",
       "</table>\n",
       "<p>61 rows × 2 columns</p>\n",
       "</div>"
      ],
      "text/plain": [
       "   service_date  n\n",
       "0    2022-05-01  2\n",
       "1    2022-05-02  2\n",
       "2    2022-05-03  2\n",
       "3    2022-05-04  2\n",
       "4    2022-05-05  2\n",
       "..          ... ..\n",
       "56   2022-06-26  2\n",
       "57   2022-06-27  2\n",
       "58   2022-06-28  2\n",
       "59   2022-06-29  2\n",
       "60   2022-06-30  2\n",
       "\n",
       "[61 rows x 2 columns]"
      ]
     },
     "execution_count": 21,
     "metadata": {},
     "output_type": "execute_result"
    }
   ],
   "source": [
    "#see if we have multiple date entries\n",
    "day_pct>>count(_.service_date)>>arrange(-_.n)"
   ]
  },
  {
   "cell_type": "code",
   "execution_count": null,
   "id": "e03e2495-7a57-4981-829b-b3b792c05db7",
   "metadata": {},
   "outputs": [],
   "source": []
  },
  {
   "cell_type": "markdown",
   "id": "d09ccf75-353c-4071-83b1-a8b7faaaeb05",
   "metadata": {},
   "source": [
    "## Percent by Day version 1"
   ]
  },
  {
   "cell_type": "code",
   "execution_count": 22,
   "id": "cbd2b4a2-7a7b-4f49-aa64-a5da1122b6ec",
   "metadata": {},
   "outputs": [
    {
     "data": {
      "text/html": [
       "\n",
       "<div id=\"altair-viz-3f43bcdb514b4ff19ed34d6d0ab810d5\"></div>\n",
       "<script type=\"text/javascript\">\n",
       "  var VEGA_DEBUG = (typeof VEGA_DEBUG == \"undefined\") ? {} : VEGA_DEBUG;\n",
       "  (function(spec, embedOpt){\n",
       "    let outputDiv = document.currentScript.previousElementSibling;\n",
       "    if (outputDiv.id !== \"altair-viz-3f43bcdb514b4ff19ed34d6d0ab810d5\") {\n",
       "      outputDiv = document.getElementById(\"altair-viz-3f43bcdb514b4ff19ed34d6d0ab810d5\");\n",
       "    }\n",
       "    const paths = {\n",
       "      \"vega\": \"https://cdn.jsdelivr.net/npm//vega@5?noext\",\n",
       "      \"vega-lib\": \"https://cdn.jsdelivr.net/npm//vega-lib?noext\",\n",
       "      \"vega-lite\": \"https://cdn.jsdelivr.net/npm//vega-lite@4.17.0?noext\",\n",
       "      \"vega-embed\": \"https://cdn.jsdelivr.net/npm//vega-embed@6?noext\",\n",
       "    };\n",
       "\n",
       "    function maybeLoadScript(lib, version) {\n",
       "      var key = `${lib.replace(\"-\", \"\")}_version`;\n",
       "      return (VEGA_DEBUG[key] == version) ?\n",
       "        Promise.resolve(paths[lib]) :\n",
       "        new Promise(function(resolve, reject) {\n",
       "          var s = document.createElement('script');\n",
       "          document.getElementsByTagName(\"head\")[0].appendChild(s);\n",
       "          s.async = true;\n",
       "          s.onload = () => {\n",
       "            VEGA_DEBUG[key] = version;\n",
       "            return resolve(paths[lib]);\n",
       "          };\n",
       "          s.onerror = () => reject(`Error loading script: ${paths[lib]}`);\n",
       "          s.src = paths[lib];\n",
       "        });\n",
       "    }\n",
       "\n",
       "    function showError(err) {\n",
       "      outputDiv.innerHTML = `<div class=\"error\" style=\"color:red;\">${err}</div>`;\n",
       "      throw err;\n",
       "    }\n",
       "\n",
       "    function displayChart(vegaEmbed) {\n",
       "      vegaEmbed(outputDiv, spec, embedOpt)\n",
       "        .catch(err => showError(`Javascript Error: ${err.message}<br>This usually means there's a typo in your chart specification. See the javascript console for the full traceback.`));\n",
       "    }\n",
       "\n",
       "    if(typeof define === \"function\" && define.amd) {\n",
       "      requirejs.config({paths});\n",
       "      require([\"vega-embed\"], displayChart, err => showError(`Error loading script: ${err.message}`));\n",
       "    } else {\n",
       "      maybeLoadScript(\"vega\", \"5\")\n",
       "        .then(() => maybeLoadScript(\"vega-lite\", \"4.17.0\"))\n",
       "        .then(() => maybeLoadScript(\"vega-embed\", \"6\"))\n",
       "        .catch(showError)\n",
       "        .then(() => displayChart(vegaEmbed));\n",
       "    }\n",
       "  })({\"config\": {\"view\": {\"continuousWidth\": 400, \"continuousHeight\": 300}, \"axis\": {\"domainColor\": \"#cbcbcb\", \"grid\": true, \"gridColor\": \"#cbcbcb\", \"gridWidth\": 1, \"labelColor\": \"#474747\", \"labelFont\": \"Nunito Sans\", \"labelFontSize\": 10, \"labelPadding\": 4, \"tickColor\": \"#cbcbcb\", \"tickSize\": 10, \"titleColor\": \"#333\", \"titleFont\": \"Raleway\", \"titleFontSize\": 12, \"titlePadding\": 10}, \"axisBand\": {\"grid\": false}, \"background\": \"white\", \"font\": \"Raleway\", \"header\": {\"labelFont\": \"Nunito Sans\", \"titleFont\": \"Raleway\"}, \"legend\": {\"labelColor\": \"#333\", \"labelFont\": \"Nunito Sans\", \"labelFontSize\": 11, \"labelLimit\": 0, \"padding\": 1, \"symbolSize\": 30, \"symbolType\": \"square\", \"titleColor\": \"#333\", \"titleFont\": \"Raleway\", \"titleFontSize\": 14, \"titlePadding\": 10}, \"title\": {\"anchor\": \"middle\", \"font\": \"Raleway\", \"fontSize\": 18, \"fontWeight\": 300, \"offset\": 20}}, \"data\": {\"name\": \"data-22af8eef9a09301db1e093e0d1c5e673\"}, \"mark\": {\"type\": \"bar\", \"size\": 8}, \"encoding\": {\"color\": {\"field\": \"pct_w_vp\", \"type\": \"quantitative\"}, \"tooltip\": [{\"field\": \"service_date\", \"title\": \"Service Date\", \"type\": \"temporal\"}, {\"field\": \"pct_w_vp\", \"title\": \"Pct W Vp\", \"type\": \"quantitative\"}], \"x\": {\"field\": \"service_date\", \"sort\": \"x\", \"title\": \"Service Date\", \"type\": \"temporal\"}, \"y\": {\"axis\": {\"format\": \"%\"}, \"field\": \"pct_w_vp\", \"stack\": null, \"title\": \"Percent of Scheduled Trips with Vehicle Postions\", \"type\": \"quantitative\"}}, \"height\": 250, \"title\": \"Big Blue Bus Percent of Scheduled Trips with RT Vehicle Position Data\", \"width\": 800, \"$schema\": \"https://vega.github.io/schema/vega-lite/v4.17.0.json\", \"datasets\": {\"data-22af8eef9a09301db1e093e0d1c5e673\": [{\"calitp_itp_id\": 300, \"agency_name\": \"Big Blue Bus\", \"calitp_url_number\": 0, \"service_date\": \"2022-05-01T00:00:00\", \"weekday\": \"Sunday\", \"month\": \"May\", \"total_num_sched\": 770, \"total_num_vp\": 526, \"pct_w_vp\": 0.6831168831168831}, {\"calitp_itp_id\": 300, \"agency_name\": \"Big Blue Bus\", \"calitp_url_number\": 0, \"service_date\": \"2022-05-02T00:00:00\", \"weekday\": \"Monday\", \"month\": \"May\", \"total_num_sched\": 1516, \"total_num_vp\": 1066, \"pct_w_vp\": 0.7031662269129287}, {\"calitp_itp_id\": 300, \"agency_name\": \"Big Blue Bus\", \"calitp_url_number\": 0, \"service_date\": \"2022-05-03T00:00:00\", \"weekday\": \"Tuesday\", \"month\": \"May\", \"total_num_sched\": 1516, \"total_num_vp\": 1365, \"pct_w_vp\": 0.9003957783641161}, {\"calitp_itp_id\": 300, \"agency_name\": \"Big Blue Bus\", \"calitp_url_number\": 0, \"service_date\": \"2022-05-04T00:00:00\", \"weekday\": \"Wednesday\", \"month\": \"May\", \"total_num_sched\": 1516, \"total_num_vp\": 1381, \"pct_w_vp\": 0.9109498680738787}, {\"calitp_itp_id\": 300, \"agency_name\": \"Big Blue Bus\", \"calitp_url_number\": 0, \"service_date\": \"2022-05-05T00:00:00\", \"weekday\": \"Thursday\", \"month\": \"May\", \"total_num_sched\": 1516, \"total_num_vp\": 1343, \"pct_w_vp\": 0.8858839050131926}, {\"calitp_itp_id\": 300, \"agency_name\": \"Big Blue Bus\", \"calitp_url_number\": 0, \"service_date\": \"2022-05-06T00:00:00\", \"weekday\": \"Friday\", \"month\": \"May\", \"total_num_sched\": 1464, \"total_num_vp\": 1295, \"pct_w_vp\": 0.8845628415300546}, {\"calitp_itp_id\": 300, \"agency_name\": \"Big Blue Bus\", \"calitp_url_number\": 0, \"service_date\": \"2022-05-07T00:00:00\", \"weekday\": \"Saturday\", \"month\": \"May\", \"total_num_sched\": 870, \"total_num_vp\": 604, \"pct_w_vp\": 0.6942528735632184}, {\"calitp_itp_id\": 300, \"agency_name\": \"Big Blue Bus\", \"calitp_url_number\": 0, \"service_date\": \"2022-05-08T00:00:00\", \"weekday\": \"Sunday\", \"month\": \"May\", \"total_num_sched\": 770, \"total_num_vp\": 501, \"pct_w_vp\": 0.6506493506493507}, {\"calitp_itp_id\": 300, \"agency_name\": \"Big Blue Bus\", \"calitp_url_number\": 0, \"service_date\": \"2022-05-09T00:00:00\", \"weekday\": \"Monday\", \"month\": \"May\", \"total_num_sched\": 1516, \"total_num_vp\": 1053, \"pct_w_vp\": 0.6945910290237467}, {\"calitp_itp_id\": 300, \"agency_name\": \"Big Blue Bus\", \"calitp_url_number\": 0, \"service_date\": \"2022-05-10T00:00:00\", \"weekday\": \"Tuesday\", \"month\": \"May\", \"total_num_sched\": 1516, \"total_num_vp\": 1380, \"pct_w_vp\": 0.9102902374670184}, {\"calitp_itp_id\": 300, \"agency_name\": \"Big Blue Bus\", \"calitp_url_number\": 0, \"service_date\": \"2022-05-11T00:00:00\", \"weekday\": \"Wednesday\", \"month\": \"May\", \"total_num_sched\": 1516, \"total_num_vp\": 1381, \"pct_w_vp\": 0.9109498680738787}, {\"calitp_itp_id\": 300, \"agency_name\": \"Big Blue Bus\", \"calitp_url_number\": 0, \"service_date\": \"2022-05-12T00:00:00\", \"weekday\": \"Thursday\", \"month\": \"May\", \"total_num_sched\": 1516, \"total_num_vp\": 1380, \"pct_w_vp\": 0.9102902374670184}, {\"calitp_itp_id\": 300, \"agency_name\": \"Big Blue Bus\", \"calitp_url_number\": 0, \"service_date\": \"2022-05-13T00:00:00\", \"weekday\": \"Friday\", \"month\": \"May\", \"total_num_sched\": 1464, \"total_num_vp\": 1343, \"pct_w_vp\": 0.9173497267759563}, {\"calitp_itp_id\": 300, \"agency_name\": \"Big Blue Bus\", \"calitp_url_number\": 0, \"service_date\": \"2022-05-14T00:00:00\", \"weekday\": \"Saturday\", \"month\": \"May\", \"total_num_sched\": 870, \"total_num_vp\": 600, \"pct_w_vp\": 0.6896551724137931}, {\"calitp_itp_id\": 300, \"agency_name\": \"Big Blue Bus\", \"calitp_url_number\": 0, \"service_date\": \"2022-05-15T00:00:00\", \"weekday\": \"Sunday\", \"month\": \"May\", \"total_num_sched\": 770, \"total_num_vp\": 526, \"pct_w_vp\": 0.6831168831168831}, {\"calitp_itp_id\": 300, \"agency_name\": \"Big Blue Bus\", \"calitp_url_number\": 0, \"service_date\": \"2022-05-16T00:00:00\", \"weekday\": \"Monday\", \"month\": \"May\", \"total_num_sched\": 1516, \"total_num_vp\": 1028, \"pct_w_vp\": 0.6781002638522428}, {\"calitp_itp_id\": 300, \"agency_name\": \"Big Blue Bus\", \"calitp_url_number\": 0, \"service_date\": \"2022-05-17T00:00:00\", \"weekday\": \"Tuesday\", \"month\": \"May\", \"total_num_sched\": 1516, \"total_num_vp\": 1373, \"pct_w_vp\": 0.9056728232189973}, {\"calitp_itp_id\": 300, \"agency_name\": \"Big Blue Bus\", \"calitp_url_number\": 0, \"service_date\": \"2022-05-18T00:00:00\", \"weekday\": \"Wednesday\", \"month\": \"May\", \"total_num_sched\": 1516, \"total_num_vp\": 1377, \"pct_w_vp\": 0.908311345646438}, {\"calitp_itp_id\": 300, \"agency_name\": \"Big Blue Bus\", \"calitp_url_number\": 0, \"service_date\": \"2022-05-19T00:00:00\", \"weekday\": \"Thursday\", \"month\": \"May\", \"total_num_sched\": 1516, \"total_num_vp\": 1367, \"pct_w_vp\": 0.9017150395778364}, {\"calitp_itp_id\": 300, \"agency_name\": \"Big Blue Bus\", \"calitp_url_number\": 0, \"service_date\": \"2022-05-20T00:00:00\", \"weekday\": \"Friday\", \"month\": \"May\", \"total_num_sched\": 1464, \"total_num_vp\": 1366, \"pct_w_vp\": 0.9330601092896175}, {\"calitp_itp_id\": 300, \"agency_name\": \"Big Blue Bus\", \"calitp_url_number\": 0, \"service_date\": \"2022-05-21T00:00:00\", \"weekday\": \"Saturday\", \"month\": \"May\", \"total_num_sched\": 870, \"total_num_vp\": 635, \"pct_w_vp\": 0.7298850574712644}, {\"calitp_itp_id\": 300, \"agency_name\": \"Big Blue Bus\", \"calitp_url_number\": 0, \"service_date\": \"2022-05-22T00:00:00\", \"weekday\": \"Sunday\", \"month\": \"May\", \"total_num_sched\": 770, \"total_num_vp\": 543, \"pct_w_vp\": 0.7051948051948052}, {\"calitp_itp_id\": 300, \"agency_name\": \"Big Blue Bus\", \"calitp_url_number\": 0, \"service_date\": \"2022-05-23T00:00:00\", \"weekday\": \"Monday\", \"month\": \"May\", \"total_num_sched\": 1516, \"total_num_vp\": 1086, \"pct_w_vp\": 0.716358839050132}, {\"calitp_itp_id\": 300, \"agency_name\": \"Big Blue Bus\", \"calitp_url_number\": 0, \"service_date\": \"2022-05-24T00:00:00\", \"weekday\": \"Tuesday\", \"month\": \"May\", \"total_num_sched\": 1516, \"total_num_vp\": 1370, \"pct_w_vp\": 0.9036939313984169}, {\"calitp_itp_id\": 300, \"agency_name\": \"Big Blue Bus\", \"calitp_url_number\": 0, \"service_date\": \"2022-05-25T00:00:00\", \"weekday\": \"Wednesday\", \"month\": \"May\", \"total_num_sched\": 1516, \"total_num_vp\": 1348, \"pct_w_vp\": 0.8891820580474934}, {\"calitp_itp_id\": 300, \"agency_name\": \"Big Blue Bus\", \"calitp_url_number\": 0, \"service_date\": \"2022-05-26T00:00:00\", \"weekday\": \"Thursday\", \"month\": \"May\", \"total_num_sched\": 1516, \"total_num_vp\": 1394, \"pct_w_vp\": 0.9195250659630607}, {\"calitp_itp_id\": 300, \"agency_name\": \"Big Blue Bus\", \"calitp_url_number\": 0, \"service_date\": \"2022-05-27T00:00:00\", \"weekday\": \"Friday\", \"month\": \"May\", \"total_num_sched\": 1466, \"total_num_vp\": 1320, \"pct_w_vp\": 0.9004092769440655}, {\"calitp_itp_id\": 300, \"agency_name\": \"Big Blue Bus\", \"calitp_url_number\": 0, \"service_date\": \"2022-05-28T00:00:00\", \"weekday\": \"Saturday\", \"month\": \"May\", \"total_num_sched\": 870, \"total_num_vp\": 612, \"pct_w_vp\": 0.7034482758620689}, {\"calitp_itp_id\": 300, \"agency_name\": \"Big Blue Bus\", \"calitp_url_number\": 0, \"service_date\": \"2022-05-29T00:00:00\", \"weekday\": \"Sunday\", \"month\": \"May\", \"total_num_sched\": 770, \"total_num_vp\": 556, \"pct_w_vp\": 0.7220779220779221}, {\"calitp_itp_id\": 300, \"agency_name\": \"Big Blue Bus\", \"calitp_url_number\": 0, \"service_date\": \"2022-05-30T00:00:00\", \"weekday\": \"Monday\", \"month\": \"May\", \"total_num_sched\": 770, \"total_num_vp\": 741, \"pct_w_vp\": 0.9623376623376624}, {\"calitp_itp_id\": 300, \"agency_name\": \"Big Blue Bus\", \"calitp_url_number\": 0, \"service_date\": \"2022-05-31T00:00:00\", \"weekday\": \"Tuesday\", \"month\": \"May\", \"total_num_sched\": 1516, \"total_num_vp\": 1067, \"pct_w_vp\": 0.7038258575197889}, {\"calitp_itp_id\": 300, \"agency_name\": \"Big Blue Bus\", \"calitp_url_number\": 0, \"service_date\": \"2022-06-01T00:00:00\", \"weekday\": \"Wednesday\", \"month\": \"June\", \"total_num_sched\": 1516, \"total_num_vp\": 1366, \"pct_w_vp\": 0.9010554089709762}, {\"calitp_itp_id\": 300, \"agency_name\": \"Big Blue Bus\", \"calitp_url_number\": 0, \"service_date\": \"2022-06-02T00:00:00\", \"weekday\": \"Thursday\", \"month\": \"June\", \"total_num_sched\": 1516, \"total_num_vp\": 1360, \"pct_w_vp\": 0.8970976253298153}, {\"calitp_itp_id\": 300, \"agency_name\": \"Big Blue Bus\", \"calitp_url_number\": 0, \"service_date\": \"2022-06-03T00:00:00\", \"weekday\": \"Friday\", \"month\": \"June\", \"total_num_sched\": 1516, \"total_num_vp\": 1294, \"pct_w_vp\": 0.8535620052770448}, {\"calitp_itp_id\": 300, \"agency_name\": \"Big Blue Bus\", \"calitp_url_number\": 0, \"service_date\": \"2022-06-04T00:00:00\", \"weekday\": \"Saturday\", \"month\": \"June\", \"total_num_sched\": 870, \"total_num_vp\": 610, \"pct_w_vp\": 0.7011494252873564}, {\"calitp_itp_id\": 300, \"agency_name\": \"Big Blue Bus\", \"calitp_url_number\": 0, \"service_date\": \"2022-06-05T00:00:00\", \"weekday\": \"Sunday\", \"month\": \"June\", \"total_num_sched\": 770, \"total_num_vp\": 554, \"pct_w_vp\": 0.7194805194805195}, {\"calitp_itp_id\": 300, \"agency_name\": \"Big Blue Bus\", \"calitp_url_number\": 0, \"service_date\": \"2022-06-06T00:00:00\", \"weekday\": \"Monday\", \"month\": \"June\", \"total_num_sched\": 1516, \"total_num_vp\": 1044, \"pct_w_vp\": 0.6886543535620053}, {\"calitp_itp_id\": 300, \"agency_name\": \"Big Blue Bus\", \"calitp_url_number\": 0, \"service_date\": \"2022-06-07T00:00:00\", \"weekday\": \"Tuesday\", \"month\": \"June\", \"total_num_sched\": 1516, \"total_num_vp\": 1338, \"pct_w_vp\": 0.8825857519788918}, {\"calitp_itp_id\": 300, \"agency_name\": \"Big Blue Bus\", \"calitp_url_number\": 0, \"service_date\": \"2022-06-08T00:00:00\", \"weekday\": \"Wednesday\", \"month\": \"June\", \"total_num_sched\": 1516, \"total_num_vp\": 1322, \"pct_w_vp\": 0.8720316622691293}, {\"calitp_itp_id\": 300, \"agency_name\": \"Big Blue Bus\", \"calitp_url_number\": 0, \"service_date\": \"2022-06-09T00:00:00\", \"weekday\": \"Thursday\", \"month\": \"June\", \"total_num_sched\": 1514, \"total_num_vp\": 1337, \"pct_w_vp\": 0.8830911492734478}, {\"calitp_itp_id\": 300, \"agency_name\": \"Big Blue Bus\", \"calitp_url_number\": 0, \"service_date\": \"2022-06-10T00:00:00\", \"weekday\": \"Friday\", \"month\": \"June\", \"total_num_sched\": 1463, \"total_num_vp\": 1293, \"pct_w_vp\": 0.8838004101161996}, {\"calitp_itp_id\": 300, \"agency_name\": \"Big Blue Bus\", \"calitp_url_number\": 0, \"service_date\": \"2022-06-11T00:00:00\", \"weekday\": \"Saturday\", \"month\": \"June\", \"total_num_sched\": 870, \"total_num_vp\": 584, \"pct_w_vp\": 0.671264367816092}, {\"calitp_itp_id\": 300, \"agency_name\": \"Big Blue Bus\", \"calitp_url_number\": 0, \"service_date\": \"2022-06-12T00:00:00\", \"weekday\": \"Sunday\", \"month\": \"June\", \"total_num_sched\": 770, \"total_num_vp\": 533, \"pct_w_vp\": 0.6922077922077922}, {\"calitp_itp_id\": 300, \"agency_name\": \"Big Blue Bus\", \"calitp_url_number\": 0, \"service_date\": \"2022-06-13T00:00:00\", \"weekday\": \"Monday\", \"month\": \"June\", \"total_num_sched\": 1513, \"total_num_vp\": 1060, \"pct_w_vp\": 0.7005948446794448}, {\"calitp_itp_id\": 300, \"agency_name\": \"Big Blue Bus\", \"calitp_url_number\": 0, \"service_date\": \"2022-06-14T00:00:00\", \"weekday\": \"Tuesday\", \"month\": \"June\", \"total_num_sched\": 1513, \"total_num_vp\": 1336, \"pct_w_vp\": 0.8830138797091871}, {\"calitp_itp_id\": 300, \"agency_name\": \"Big Blue Bus\", \"calitp_url_number\": 0, \"service_date\": \"2022-06-15T00:00:00\", \"weekday\": \"Wednesday\", \"month\": \"June\", \"total_num_sched\": 1409, \"total_num_vp\": 1341, \"pct_w_vp\": 0.9517388218594748}, {\"calitp_itp_id\": 300, \"agency_name\": \"Big Blue Bus\", \"calitp_url_number\": 0, \"service_date\": \"2022-06-16T00:00:00\", \"weekday\": \"Thursday\", \"month\": \"June\", \"total_num_sched\": 1409, \"total_num_vp\": 1382, \"pct_w_vp\": 0.9808374733853797}, {\"calitp_itp_id\": 300, \"agency_name\": \"Big Blue Bus\", \"calitp_url_number\": 0, \"service_date\": \"2022-06-17T00:00:00\", \"weekday\": \"Friday\", \"month\": \"June\", \"total_num_sched\": 1409, \"total_num_vp\": 1400, \"pct_w_vp\": 0.99361249112846}, {\"calitp_itp_id\": 300, \"agency_name\": \"Big Blue Bus\", \"calitp_url_number\": 0, \"service_date\": \"2022-06-18T00:00:00\", \"weekday\": \"Saturday\", \"month\": \"June\", \"total_num_sched\": 870, \"total_num_vp\": 633, \"pct_w_vp\": 0.7275862068965517}, {\"calitp_itp_id\": 300, \"agency_name\": \"Big Blue Bus\", \"calitp_url_number\": 0, \"service_date\": \"2022-06-19T00:00:00\", \"weekday\": \"Sunday\", \"month\": \"June\", \"total_num_sched\": 770, \"total_num_vp\": 524, \"pct_w_vp\": 0.6805194805194805}, {\"calitp_itp_id\": 300, \"agency_name\": \"Big Blue Bus\", \"calitp_url_number\": 0, \"service_date\": \"2022-06-20T00:00:00\", \"weekday\": \"Monday\", \"month\": \"June\", \"total_num_sched\": 1461, \"total_num_vp\": 1077, \"pct_w_vp\": 0.7371663244353183}, {\"calitp_itp_id\": 300, \"agency_name\": \"Big Blue Bus\", \"calitp_url_number\": 0, \"service_date\": \"2022-06-21T00:00:00\", \"weekday\": \"Tuesday\", \"month\": \"June\", \"total_num_sched\": 1461, \"total_num_vp\": 1381, \"pct_w_vp\": 0.945242984257358}, {\"calitp_itp_id\": 300, \"agency_name\": \"Big Blue Bus\", \"calitp_url_number\": 0, \"service_date\": \"2022-06-22T00:00:00\", \"weekday\": \"Wednesday\", \"month\": \"June\", \"total_num_sched\": 1461, \"total_num_vp\": 1376, \"pct_w_vp\": 0.9418206707734429}, {\"calitp_itp_id\": 300, \"agency_name\": \"Big Blue Bus\", \"calitp_url_number\": 0, \"service_date\": \"2022-06-23T00:00:00\", \"weekday\": \"Thursday\", \"month\": \"June\", \"total_num_sched\": 1461, \"total_num_vp\": 1384, \"pct_w_vp\": 0.947296372347707}, {\"calitp_itp_id\": 300, \"agency_name\": \"Big Blue Bus\", \"calitp_url_number\": 0, \"service_date\": \"2022-06-24T00:00:00\", \"weekday\": \"Friday\", \"month\": \"June\", \"total_num_sched\": 1461, \"total_num_vp\": 1320, \"pct_w_vp\": 0.9034907597535934}, {\"calitp_itp_id\": 300, \"agency_name\": \"Big Blue Bus\", \"calitp_url_number\": 0, \"service_date\": \"2022-06-25T00:00:00\", \"weekday\": \"Saturday\", \"month\": \"June\", \"total_num_sched\": 870, \"total_num_vp\": 581, \"pct_w_vp\": 0.667816091954023}, {\"calitp_itp_id\": 300, \"agency_name\": \"Big Blue Bus\", \"calitp_url_number\": 0, \"service_date\": \"2022-06-26T00:00:00\", \"weekday\": \"Sunday\", \"month\": \"June\", \"total_num_sched\": 770, \"total_num_vp\": 498, \"pct_w_vp\": 0.6467532467532467}, {\"calitp_itp_id\": 300, \"agency_name\": \"Big Blue Bus\", \"calitp_url_number\": 0, \"service_date\": \"2022-06-27T00:00:00\", \"weekday\": \"Monday\", \"month\": \"June\", \"total_num_sched\": 1461, \"total_num_vp\": 1013, \"pct_w_vp\": 0.6933607118412046}, {\"calitp_itp_id\": 300, \"agency_name\": \"Big Blue Bus\", \"calitp_url_number\": 0, \"service_date\": \"2022-06-28T00:00:00\", \"weekday\": \"Tuesday\", \"month\": \"June\", \"total_num_sched\": 1461, \"total_num_vp\": 1359, \"pct_w_vp\": 0.9301848049281314}, {\"calitp_itp_id\": 300, \"agency_name\": \"Big Blue Bus\", \"calitp_url_number\": 0, \"service_date\": \"2022-06-29T00:00:00\", \"weekday\": \"Wednesday\", \"month\": \"June\", \"total_num_sched\": 1461, \"total_num_vp\": 1367, \"pct_w_vp\": 0.9356605065023956}, {\"calitp_itp_id\": 300, \"agency_name\": \"Big Blue Bus\", \"calitp_url_number\": 0, \"service_date\": \"2022-06-30T00:00:00\", \"weekday\": \"Thursday\", \"month\": \"June\", \"total_num_sched\": 1461, \"total_num_vp\": 1374, \"pct_w_vp\": 0.9404517453798767}]}}, {\"mode\": \"vega-lite\"});\n",
       "</script>"
      ],
      "text/plain": [
       "alt.Chart(...)"
      ]
     },
     "execution_count": 22,
     "metadata": {},
     "output_type": "execute_result"
    }
   ],
   "source": [
    "(utils.bar_chart_over_time((day_pct>>filter(_.calitp_itp_id==bbb)),\n",
    "                           'service_date',\n",
    "                           'pct_w_vp',\n",
    "                           'pct_w_vp',\n",
    "                           '%',\n",
    "                           'x',\n",
    "                           'Big Blue Bus Percent of Scheduled Trips with RT Vehicle Position Data')).properties(width=800)\n",
    "\n"
   ]
  },
  {
   "cell_type": "code",
   "execution_count": 23,
   "id": "67371878-b387-4f4f-a91c-5e6f325a85f6",
   "metadata": {},
   "outputs": [
    {
     "data": {
      "text/html": [
       "\n",
       "<div id=\"altair-viz-3f118c8bd1d0467e92d5a493945b95a0\"></div>\n",
       "<script type=\"text/javascript\">\n",
       "  var VEGA_DEBUG = (typeof VEGA_DEBUG == \"undefined\") ? {} : VEGA_DEBUG;\n",
       "  (function(spec, embedOpt){\n",
       "    let outputDiv = document.currentScript.previousElementSibling;\n",
       "    if (outputDiv.id !== \"altair-viz-3f118c8bd1d0467e92d5a493945b95a0\") {\n",
       "      outputDiv = document.getElementById(\"altair-viz-3f118c8bd1d0467e92d5a493945b95a0\");\n",
       "    }\n",
       "    const paths = {\n",
       "      \"vega\": \"https://cdn.jsdelivr.net/npm//vega@5?noext\",\n",
       "      \"vega-lib\": \"https://cdn.jsdelivr.net/npm//vega-lib?noext\",\n",
       "      \"vega-lite\": \"https://cdn.jsdelivr.net/npm//vega-lite@4.17.0?noext\",\n",
       "      \"vega-embed\": \"https://cdn.jsdelivr.net/npm//vega-embed@6?noext\",\n",
       "    };\n",
       "\n",
       "    function maybeLoadScript(lib, version) {\n",
       "      var key = `${lib.replace(\"-\", \"\")}_version`;\n",
       "      return (VEGA_DEBUG[key] == version) ?\n",
       "        Promise.resolve(paths[lib]) :\n",
       "        new Promise(function(resolve, reject) {\n",
       "          var s = document.createElement('script');\n",
       "          document.getElementsByTagName(\"head\")[0].appendChild(s);\n",
       "          s.async = true;\n",
       "          s.onload = () => {\n",
       "            VEGA_DEBUG[key] = version;\n",
       "            return resolve(paths[lib]);\n",
       "          };\n",
       "          s.onerror = () => reject(`Error loading script: ${paths[lib]}`);\n",
       "          s.src = paths[lib];\n",
       "        });\n",
       "    }\n",
       "\n",
       "    function showError(err) {\n",
       "      outputDiv.innerHTML = `<div class=\"error\" style=\"color:red;\">${err}</div>`;\n",
       "      throw err;\n",
       "    }\n",
       "\n",
       "    function displayChart(vegaEmbed) {\n",
       "      vegaEmbed(outputDiv, spec, embedOpt)\n",
       "        .catch(err => showError(`Javascript Error: ${err.message}<br>This usually means there's a typo in your chart specification. See the javascript console for the full traceback.`));\n",
       "    }\n",
       "\n",
       "    if(typeof define === \"function\" && define.amd) {\n",
       "      requirejs.config({paths});\n",
       "      require([\"vega-embed\"], displayChart, err => showError(`Error loading script: ${err.message}`));\n",
       "    } else {\n",
       "      maybeLoadScript(\"vega\", \"5\")\n",
       "        .then(() => maybeLoadScript(\"vega-lite\", \"4.17.0\"))\n",
       "        .then(() => maybeLoadScript(\"vega-embed\", \"6\"))\n",
       "        .catch(showError)\n",
       "        .then(() => displayChart(vegaEmbed));\n",
       "    }\n",
       "  })({\"config\": {\"view\": {\"continuousWidth\": 400, \"continuousHeight\": 300}, \"axis\": {\"domainColor\": \"#cbcbcb\", \"grid\": true, \"gridColor\": \"#cbcbcb\", \"gridWidth\": 1, \"labelColor\": \"#474747\", \"labelFont\": \"Nunito Sans\", \"labelFontSize\": 10, \"labelPadding\": 4, \"tickColor\": \"#cbcbcb\", \"tickSize\": 10, \"titleColor\": \"#333\", \"titleFont\": \"Raleway\", \"titleFontSize\": 12, \"titlePadding\": 10}, \"axisBand\": {\"grid\": false}, \"background\": \"white\", \"font\": \"Raleway\", \"header\": {\"labelFont\": \"Nunito Sans\", \"titleFont\": \"Raleway\"}, \"legend\": {\"labelColor\": \"#333\", \"labelFont\": \"Nunito Sans\", \"labelFontSize\": 11, \"labelLimit\": 0, \"padding\": 1, \"symbolSize\": 30, \"symbolType\": \"square\", \"titleColor\": \"#333\", \"titleFont\": \"Raleway\", \"titleFontSize\": 14, \"titlePadding\": 10}, \"title\": {\"anchor\": \"middle\", \"font\": \"Raleway\", \"fontSize\": 18, \"fontWeight\": 300, \"offset\": 20}}, \"data\": {\"name\": \"data-0edd5b8a5df2c3ecbdfb01963352b00b\"}, \"mark\": {\"type\": \"bar\", \"size\": 8}, \"encoding\": {\"color\": {\"field\": \"pct_w_vp\", \"type\": \"quantitative\"}, \"tooltip\": [{\"field\": \"service_date\", \"title\": \"Service Date\", \"type\": \"temporal\"}, {\"field\": \"pct_w_vp\", \"title\": \"Pct W Vp\", \"type\": \"quantitative\"}], \"x\": {\"field\": \"service_date\", \"sort\": \"x\", \"title\": \"Service Date\", \"type\": \"temporal\"}, \"y\": {\"axis\": {\"format\": \"%\"}, \"field\": \"pct_w_vp\", \"stack\": null, \"title\": \"Percent of Scheduled Trips with Vehicle Postions\", \"type\": \"quantitative\"}}, \"height\": 250, \"title\": \"SamTrans Percent of Scheduled Trips with RT Vehicle Position Data\", \"width\": 800, \"$schema\": \"https://vega.github.io/schema/vega-lite/v4.17.0.json\", \"datasets\": {\"data-0edd5b8a5df2c3ecbdfb01963352b00b\": [{\"calitp_itp_id\": 290, \"agency_name\": \"SamTrans\", \"calitp_url_number\": 1, \"service_date\": \"2022-05-01T00:00:00\", \"weekday\": \"Sunday\", \"month\": \"May\", \"total_num_sched\": 765, \"total_num_vp\": 534, \"pct_w_vp\": 0.6980392156862745}, {\"calitp_itp_id\": 290, \"agency_name\": \"SamTrans\", \"calitp_url_number\": 1, \"service_date\": \"2022-05-02T00:00:00\", \"weekday\": \"Monday\", \"month\": \"May\", \"total_num_sched\": 1339, \"total_num_vp\": 938, \"pct_w_vp\": 0.700522778192681}, {\"calitp_itp_id\": 290, \"agency_name\": \"SamTrans\", \"calitp_url_number\": 1, \"service_date\": \"2022-05-03T00:00:00\", \"weekday\": \"Tuesday\", \"month\": \"May\", \"total_num_sched\": 1339, \"total_num_vp\": 1284, \"pct_w_vp\": 0.958924570575056}, {\"calitp_itp_id\": 290, \"agency_name\": \"SamTrans\", \"calitp_url_number\": 1, \"service_date\": \"2022-05-04T00:00:00\", \"weekday\": \"Wednesday\", \"month\": \"May\", \"total_num_sched\": 1343, \"total_num_vp\": 3, \"pct_w_vp\": 0.0022338049143708115}, {\"calitp_itp_id\": 290, \"agency_name\": \"SamTrans\", \"calitp_url_number\": 1, \"service_date\": \"2022-05-05T00:00:00\", \"weekday\": \"Thursday\", \"month\": \"May\", \"total_num_sched\": 1338, \"total_num_vp\": 948, \"pct_w_vp\": 0.7085201793721974}, {\"calitp_itp_id\": 290, \"agency_name\": \"SamTrans\", \"calitp_url_number\": 1, \"service_date\": \"2022-05-06T00:00:00\", \"weekday\": \"Friday\", \"month\": \"May\", \"total_num_sched\": 1339, \"total_num_vp\": 1292, \"pct_w_vp\": 0.9648991784914115}, {\"calitp_itp_id\": 290, \"agency_name\": \"SamTrans\", \"calitp_url_number\": 1, \"service_date\": \"2022-05-07T00:00:00\", \"weekday\": \"Saturday\", \"month\": \"May\", \"total_num_sched\": 890, \"total_num_vp\": 617, \"pct_w_vp\": 0.6932584269662921}, {\"calitp_itp_id\": 290, \"agency_name\": \"SamTrans\", \"calitp_url_number\": 1, \"service_date\": \"2022-05-08T00:00:00\", \"weekday\": \"Sunday\", \"month\": \"May\", \"total_num_sched\": 765, \"total_num_vp\": 518, \"pct_w_vp\": 0.677124183006536}, {\"calitp_itp_id\": 290, \"agency_name\": \"SamTrans\", \"calitp_url_number\": 1, \"service_date\": \"2022-05-09T00:00:00\", \"weekday\": \"Monday\", \"month\": \"May\", \"total_num_sched\": 1339, \"total_num_vp\": 908, \"pct_w_vp\": 0.678117998506348}, {\"calitp_itp_id\": 290, \"agency_name\": \"SamTrans\", \"calitp_url_number\": 1, \"service_date\": \"2022-05-10T00:00:00\", \"weekday\": \"Tuesday\", \"month\": \"May\", \"total_num_sched\": 1339, \"total_num_vp\": 1265, \"pct_w_vp\": 0.9447348767737117}, {\"calitp_itp_id\": 290, \"agency_name\": \"SamTrans\", \"calitp_url_number\": 1, \"service_date\": \"2022-05-11T00:00:00\", \"weekday\": \"Wednesday\", \"month\": \"May\", \"total_num_sched\": 1343, \"total_num_vp\": 1269, \"pct_w_vp\": 0.9448994787788533}, {\"calitp_itp_id\": 290, \"agency_name\": \"SamTrans\", \"calitp_url_number\": 1, \"service_date\": \"2022-05-12T00:00:00\", \"weekday\": \"Thursday\", \"month\": \"May\", \"total_num_sched\": 1338, \"total_num_vp\": 1285, \"pct_w_vp\": 0.9603886397608371}, {\"calitp_itp_id\": 290, \"agency_name\": \"SamTrans\", \"calitp_url_number\": 1, \"service_date\": \"2022-05-13T00:00:00\", \"weekday\": \"Friday\", \"month\": \"May\", \"total_num_sched\": 1339, \"total_num_vp\": 1274, \"pct_w_vp\": 0.9514563106796117}, {\"calitp_itp_id\": 290, \"agency_name\": \"SamTrans\", \"calitp_url_number\": 1, \"service_date\": \"2022-05-14T00:00:00\", \"weekday\": \"Saturday\", \"month\": \"May\", \"total_num_sched\": 890, \"total_num_vp\": 624, \"pct_w_vp\": 0.701123595505618}, {\"calitp_itp_id\": 290, \"agency_name\": \"SamTrans\", \"calitp_url_number\": 1, \"service_date\": \"2022-05-15T00:00:00\", \"weekday\": \"Sunday\", \"month\": \"May\", \"total_num_sched\": 765, \"total_num_vp\": 535, \"pct_w_vp\": 0.6993464052287581}, {\"calitp_itp_id\": 290, \"agency_name\": \"SamTrans\", \"calitp_url_number\": 1, \"service_date\": \"2022-05-16T00:00:00\", \"weekday\": \"Monday\", \"month\": \"May\", \"total_num_sched\": 1339, \"total_num_vp\": 929, \"pct_w_vp\": 0.6938013442867812}, {\"calitp_itp_id\": 290, \"agency_name\": \"SamTrans\", \"calitp_url_number\": 1, \"service_date\": \"2022-05-17T00:00:00\", \"weekday\": \"Tuesday\", \"month\": \"May\", \"total_num_sched\": 1339, \"total_num_vp\": 1283, \"pct_w_vp\": 0.9581777445855115}, {\"calitp_itp_id\": 290, \"agency_name\": \"SamTrans\", \"calitp_url_number\": 1, \"service_date\": \"2022-05-18T00:00:00\", \"weekday\": \"Wednesday\", \"month\": \"May\", \"total_num_sched\": 1343, \"total_num_vp\": 1287, \"pct_w_vp\": 0.9583023082650782}, {\"calitp_itp_id\": 290, \"agency_name\": \"SamTrans\", \"calitp_url_number\": 1, \"service_date\": \"2022-05-19T00:00:00\", \"weekday\": \"Thursday\", \"month\": \"May\", \"total_num_sched\": 1338, \"total_num_vp\": 1289, \"pct_w_vp\": 0.9633781763826607}, {\"calitp_itp_id\": 290, \"agency_name\": \"SamTrans\", \"calitp_url_number\": 1, \"service_date\": \"2022-05-20T00:00:00\", \"weekday\": \"Friday\", \"month\": \"May\", \"total_num_sched\": 1339, \"total_num_vp\": 1288, \"pct_w_vp\": 0.9619118745332338}, {\"calitp_itp_id\": 290, \"agency_name\": \"SamTrans\", \"calitp_url_number\": 1, \"service_date\": \"2022-05-21T00:00:00\", \"weekday\": \"Saturday\", \"month\": \"May\", \"total_num_sched\": 890, \"total_num_vp\": 617, \"pct_w_vp\": 0.6932584269662921}, {\"calitp_itp_id\": 290, \"agency_name\": \"SamTrans\", \"calitp_url_number\": 1, \"service_date\": \"2022-05-22T00:00:00\", \"weekday\": \"Sunday\", \"month\": \"May\", \"total_num_sched\": 765, \"total_num_vp\": 535, \"pct_w_vp\": 0.6993464052287581}, {\"calitp_itp_id\": 290, \"agency_name\": \"SamTrans\", \"calitp_url_number\": 1, \"service_date\": \"2022-05-23T00:00:00\", \"weekday\": \"Monday\", \"month\": \"May\", \"total_num_sched\": 1339, \"total_num_vp\": 916, \"pct_w_vp\": 0.6840926064227035}, {\"calitp_itp_id\": 290, \"agency_name\": \"SamTrans\", \"calitp_url_number\": 1, \"service_date\": \"2022-05-24T00:00:00\", \"weekday\": \"Tuesday\", \"month\": \"May\", \"total_num_sched\": 1339, \"total_num_vp\": 1247, \"pct_w_vp\": 0.9312920089619119}, {\"calitp_itp_id\": 290, \"agency_name\": \"SamTrans\", \"calitp_url_number\": 1, \"service_date\": \"2022-05-25T00:00:00\", \"weekday\": \"Wednesday\", \"month\": \"May\", \"total_num_sched\": 1343, \"total_num_vp\": 1261, \"pct_w_vp\": 0.9389426656738645}, {\"calitp_itp_id\": 290, \"agency_name\": \"SamTrans\", \"calitp_url_number\": 1, \"service_date\": \"2022-05-26T00:00:00\", \"weekday\": \"Thursday\", \"month\": \"May\", \"total_num_sched\": 1338, \"total_num_vp\": 1256, \"pct_w_vp\": 0.9387144992526159}, {\"calitp_itp_id\": 290, \"agency_name\": \"SamTrans\", \"calitp_url_number\": 1, \"service_date\": \"2022-05-27T00:00:00\", \"weekday\": \"Friday\", \"month\": \"May\", \"total_num_sched\": 1339, \"total_num_vp\": 1278, \"pct_w_vp\": 0.9544436146377894}, {\"calitp_itp_id\": 290, \"agency_name\": \"SamTrans\", \"calitp_url_number\": 1, \"service_date\": \"2022-05-28T00:00:00\", \"weekday\": \"Saturday\", \"month\": \"May\", \"total_num_sched\": 890, \"total_num_vp\": 620, \"pct_w_vp\": 0.6966292134831461}, {\"calitp_itp_id\": 290, \"agency_name\": \"SamTrans\", \"calitp_url_number\": 1, \"service_date\": \"2022-05-29T00:00:00\", \"weekday\": \"Sunday\", \"month\": \"May\", \"total_num_sched\": 765, \"total_num_vp\": 545, \"pct_w_vp\": 0.7124183006535948}, {\"calitp_itp_id\": 290, \"agency_name\": \"SamTrans\", \"calitp_url_number\": 1, \"service_date\": \"2022-05-30T00:00:00\", \"weekday\": \"Monday\", \"month\": \"May\", \"total_num_sched\": 765, \"total_num_vp\": 732, \"pct_w_vp\": 0.9568627450980393}, {\"calitp_itp_id\": 290, \"agency_name\": \"SamTrans\", \"calitp_url_number\": 1, \"service_date\": \"2022-05-31T00:00:00\", \"weekday\": \"Tuesday\", \"month\": \"May\", \"total_num_sched\": 1339, \"total_num_vp\": 948, \"pct_w_vp\": 0.7079910380881255}, {\"calitp_itp_id\": 290, \"agency_name\": \"SamTrans\", \"calitp_url_number\": 1, \"service_date\": \"2022-06-01T00:00:00\", \"weekday\": \"Wednesday\", \"month\": \"June\", \"total_num_sched\": 1343, \"total_num_vp\": 1302, \"pct_w_vp\": 0.9694713328369322}, {\"calitp_itp_id\": 290, \"agency_name\": \"SamTrans\", \"calitp_url_number\": 1, \"service_date\": \"2022-06-02T00:00:00\", \"weekday\": \"Thursday\", \"month\": \"June\", \"total_num_sched\": 1338, \"total_num_vp\": 1289, \"pct_w_vp\": 0.9633781763826607}, {\"calitp_itp_id\": 290, \"agency_name\": \"SamTrans\", \"calitp_url_number\": 1, \"service_date\": \"2022-06-03T00:00:00\", \"weekday\": \"Friday\", \"month\": \"June\", \"total_num_sched\": 1339, \"total_num_vp\": 1296, \"pct_w_vp\": 0.9678864824495892}, {\"calitp_itp_id\": 290, \"agency_name\": \"SamTrans\", \"calitp_url_number\": 1, \"service_date\": \"2022-06-04T00:00:00\", \"weekday\": \"Saturday\", \"month\": \"June\", \"total_num_sched\": 890, \"total_num_vp\": 625, \"pct_w_vp\": 0.702247191011236}, {\"calitp_itp_id\": 290, \"agency_name\": \"SamTrans\", \"calitp_url_number\": 1, \"service_date\": \"2022-06-05T00:00:00\", \"weekday\": \"Sunday\", \"month\": \"June\", \"total_num_sched\": 765, \"total_num_vp\": 545, \"pct_w_vp\": 0.7124183006535948}, {\"calitp_itp_id\": 290, \"agency_name\": \"SamTrans\", \"calitp_url_number\": 1, \"service_date\": \"2022-06-06T00:00:00\", \"weekday\": \"Monday\", \"month\": \"June\", \"total_num_sched\": 1339, \"total_num_vp\": 946, \"pct_w_vp\": 0.7064973861090366}, {\"calitp_itp_id\": 290, \"agency_name\": \"SamTrans\", \"calitp_url_number\": 1, \"service_date\": \"2022-06-07T00:00:00\", \"weekday\": \"Tuesday\", \"month\": \"June\", \"total_num_sched\": 1339, \"total_num_vp\": 1282, \"pct_w_vp\": 0.9574309185959672}, {\"calitp_itp_id\": 290, \"agency_name\": \"SamTrans\", \"calitp_url_number\": 1, \"service_date\": \"2022-06-08T00:00:00\", \"weekday\": \"Wednesday\", \"month\": \"June\", \"total_num_sched\": 1343, \"total_num_vp\": 556, \"pct_w_vp\": 0.41399851079672373}, {\"calitp_itp_id\": 290, \"agency_name\": \"SamTrans\", \"calitp_url_number\": 1, \"service_date\": \"2022-06-09T00:00:00\", \"weekday\": \"Thursday\", \"month\": \"June\", \"total_num_sched\": 1338, \"total_num_vp\": 729, \"pct_w_vp\": 0.5448430493273543}, {\"calitp_itp_id\": 290, \"agency_name\": \"SamTrans\", \"calitp_url_number\": 1, \"service_date\": \"2022-06-10T00:00:00\", \"weekday\": \"Friday\", \"month\": \"June\", \"total_num_sched\": 1339, \"total_num_vp\": 714, \"pct_w_vp\": 0.5332337565347274}, {\"calitp_itp_id\": 290, \"agency_name\": \"SamTrans\", \"calitp_url_number\": 1, \"service_date\": \"2022-06-11T00:00:00\", \"weekday\": \"Saturday\", \"month\": \"June\", \"total_num_sched\": 890, \"total_num_vp\": 328, \"pct_w_vp\": 0.3685393258426966}, {\"calitp_itp_id\": 290, \"agency_name\": \"SamTrans\", \"calitp_url_number\": 1, \"service_date\": \"2022-06-12T00:00:00\", \"weekday\": \"Sunday\", \"month\": \"June\", \"total_num_sched\": 765, \"total_num_vp\": 285, \"pct_w_vp\": 0.37254901960784315}, {\"calitp_itp_id\": 290, \"agency_name\": \"SamTrans\", \"calitp_url_number\": 1, \"service_date\": \"2022-06-13T00:00:00\", \"weekday\": \"Monday\", \"month\": \"June\", \"total_num_sched\": 1339, \"total_num_vp\": 542, \"pct_w_vp\": 0.40477968633308437}, {\"calitp_itp_id\": 290, \"agency_name\": \"SamTrans\", \"calitp_url_number\": 1, \"service_date\": \"2022-06-14T00:00:00\", \"weekday\": \"Tuesday\", \"month\": \"June\", \"total_num_sched\": 1339, \"total_num_vp\": 727, \"pct_w_vp\": 0.542942494398805}, {\"calitp_itp_id\": 290, \"agency_name\": \"SamTrans\", \"calitp_url_number\": 1, \"service_date\": \"2022-06-15T00:00:00\", \"weekday\": \"Wednesday\", \"month\": \"June\", \"total_num_sched\": 1343, \"total_num_vp\": 733, \"pct_w_vp\": 0.5457930007446017}, {\"calitp_itp_id\": 290, \"agency_name\": \"SamTrans\", \"calitp_url_number\": 1, \"service_date\": \"2022-06-16T00:00:00\", \"weekday\": \"Thursday\", \"month\": \"June\", \"total_num_sched\": 1338, \"total_num_vp\": 721, \"pct_w_vp\": 0.5388639760837071}, {\"calitp_itp_id\": 290, \"agency_name\": \"SamTrans\", \"calitp_url_number\": 1, \"service_date\": \"2022-06-17T00:00:00\", \"weekday\": \"Friday\", \"month\": \"June\", \"total_num_sched\": 1339, \"total_num_vp\": 721, \"pct_w_vp\": 0.5384615384615384}, {\"calitp_itp_id\": 290, \"agency_name\": \"SamTrans\", \"calitp_url_number\": 1, \"service_date\": \"2022-06-18T00:00:00\", \"weekday\": \"Saturday\", \"month\": \"June\", \"total_num_sched\": 890, \"total_num_vp\": 327, \"pct_w_vp\": 0.36741573033707864}, {\"calitp_itp_id\": 290, \"agency_name\": \"SamTrans\", \"calitp_url_number\": 1, \"service_date\": \"2022-06-19T00:00:00\", \"weekday\": \"Sunday\", \"month\": \"June\", \"total_num_sched\": 761, \"total_num_vp\": 235, \"pct_w_vp\": 0.3088042049934297}, {\"calitp_itp_id\": 290, \"agency_name\": \"SamTrans\", \"calitp_url_number\": 1, \"service_date\": \"2022-06-20T00:00:00\", \"weekday\": \"Monday\", \"month\": \"June\", \"total_num_sched\": 1318, \"total_num_vp\": 398, \"pct_w_vp\": 0.30197268588770865}, {\"calitp_itp_id\": 290, \"agency_name\": \"SamTrans\", \"calitp_url_number\": 1, \"service_date\": \"2022-06-21T00:00:00\", \"weekday\": \"Tuesday\", \"month\": \"June\", \"total_num_sched\": 1318, \"total_num_vp\": 580, \"pct_w_vp\": 0.4400606980273141}, {\"calitp_itp_id\": 290, \"agency_name\": \"SamTrans\", \"calitp_url_number\": 1, \"service_date\": \"2022-06-22T00:00:00\", \"weekday\": \"Wednesday\", \"month\": \"June\", \"total_num_sched\": 1318, \"total_num_vp\": 571, \"pct_w_vp\": 0.4332321699544765}, {\"calitp_itp_id\": 290, \"agency_name\": \"SamTrans\", \"calitp_url_number\": 1, \"service_date\": \"2022-06-23T00:00:00\", \"weekday\": \"Thursday\", \"month\": \"June\", \"total_num_sched\": 1318, \"total_num_vp\": 575, \"pct_w_vp\": 0.4362670713201821}, {\"calitp_itp_id\": 290, \"agency_name\": \"SamTrans\", \"calitp_url_number\": 1, \"service_date\": \"2022-06-24T00:00:00\", \"weekday\": \"Friday\", \"month\": \"June\", \"total_num_sched\": 1318, \"total_num_vp\": 504, \"pct_w_vp\": 0.38239757207890746}, {\"calitp_itp_id\": 290, \"agency_name\": \"SamTrans\", \"calitp_url_number\": 1, \"service_date\": \"2022-06-25T00:00:00\", \"weekday\": \"Saturday\", \"month\": \"June\", \"total_num_sched\": 886, \"total_num_vp\": 630, \"pct_w_vp\": 0.7110609480812641}, {\"calitp_itp_id\": 290, \"agency_name\": \"SamTrans\", \"calitp_url_number\": 1, \"service_date\": \"2022-06-26T00:00:00\", \"weekday\": \"Sunday\", \"month\": \"June\", \"total_num_sched\": 761, \"total_num_vp\": 547, \"pct_w_vp\": 0.7187910643889619}, {\"calitp_itp_id\": 290, \"agency_name\": \"SamTrans\", \"calitp_url_number\": 1, \"service_date\": \"2022-06-27T00:00:00\", \"weekday\": \"Monday\", \"month\": \"June\", \"total_num_sched\": 1318, \"total_num_vp\": 937, \"pct_w_vp\": 0.7109256449165402}, {\"calitp_itp_id\": 290, \"agency_name\": \"SamTrans\", \"calitp_url_number\": 1, \"service_date\": \"2022-06-28T00:00:00\", \"weekday\": \"Tuesday\", \"month\": \"June\", \"total_num_sched\": 1318, \"total_num_vp\": 1291, \"pct_w_vp\": 0.9795144157814871}, {\"calitp_itp_id\": 290, \"agency_name\": \"SamTrans\", \"calitp_url_number\": 1, \"service_date\": \"2022-06-29T00:00:00\", \"weekday\": \"Wednesday\", \"month\": \"June\", \"total_num_sched\": 1318, \"total_num_vp\": 1300, \"pct_w_vp\": 0.9863429438543247}, {\"calitp_itp_id\": 290, \"agency_name\": \"SamTrans\", \"calitp_url_number\": 1, \"service_date\": \"2022-06-30T00:00:00\", \"weekday\": \"Thursday\", \"month\": \"June\", \"total_num_sched\": 1318, \"total_num_vp\": 1292, \"pct_w_vp\": 0.9802731411229135}]}}, {\"mode\": \"vega-lite\"});\n",
       "</script>"
      ],
      "text/plain": [
       "alt.Chart(...)"
      ]
     },
     "execution_count": 23,
     "metadata": {},
     "output_type": "execute_result"
    }
   ],
   "source": [
    "(utils.bar_chart_over_time((day_pct>>filter(_.calitp_itp_id==st)),\n",
    "                           'service_date',\n",
    "                           'pct_w_vp',\n",
    "                           'pct_w_vp',\n",
    "                           '%',\n",
    "                           'x',\n",
    "                           'SamTrans Percent of Scheduled Trips with RT Vehicle Position Data')).properties(width=800)"
   ]
  },
  {
   "cell_type": "code",
   "execution_count": 24,
   "id": "5751b990-8d7c-41d4-ab19-715a008a2332",
   "metadata": {},
   "outputs": [
    {
     "data": {
      "text/html": [
       "\n",
       "<div id=\"altair-viz-ddd224710f4c415a80acd2435779f1a6\"></div>\n",
       "<script type=\"text/javascript\">\n",
       "  var VEGA_DEBUG = (typeof VEGA_DEBUG == \"undefined\") ? {} : VEGA_DEBUG;\n",
       "  (function(spec, embedOpt){\n",
       "    let outputDiv = document.currentScript.previousElementSibling;\n",
       "    if (outputDiv.id !== \"altair-viz-ddd224710f4c415a80acd2435779f1a6\") {\n",
       "      outputDiv = document.getElementById(\"altair-viz-ddd224710f4c415a80acd2435779f1a6\");\n",
       "    }\n",
       "    const paths = {\n",
       "      \"vega\": \"https://cdn.jsdelivr.net/npm//vega@5?noext\",\n",
       "      \"vega-lib\": \"https://cdn.jsdelivr.net/npm//vega-lib?noext\",\n",
       "      \"vega-lite\": \"https://cdn.jsdelivr.net/npm//vega-lite@4.17.0?noext\",\n",
       "      \"vega-embed\": \"https://cdn.jsdelivr.net/npm//vega-embed@6?noext\",\n",
       "    };\n",
       "\n",
       "    function maybeLoadScript(lib, version) {\n",
       "      var key = `${lib.replace(\"-\", \"\")}_version`;\n",
       "      return (VEGA_DEBUG[key] == version) ?\n",
       "        Promise.resolve(paths[lib]) :\n",
       "        new Promise(function(resolve, reject) {\n",
       "          var s = document.createElement('script');\n",
       "          document.getElementsByTagName(\"head\")[0].appendChild(s);\n",
       "          s.async = true;\n",
       "          s.onload = () => {\n",
       "            VEGA_DEBUG[key] = version;\n",
       "            return resolve(paths[lib]);\n",
       "          };\n",
       "          s.onerror = () => reject(`Error loading script: ${paths[lib]}`);\n",
       "          s.src = paths[lib];\n",
       "        });\n",
       "    }\n",
       "\n",
       "    function showError(err) {\n",
       "      outputDiv.innerHTML = `<div class=\"error\" style=\"color:red;\">${err}</div>`;\n",
       "      throw err;\n",
       "    }\n",
       "\n",
       "    function displayChart(vegaEmbed) {\n",
       "      vegaEmbed(outputDiv, spec, embedOpt)\n",
       "        .catch(err => showError(`Javascript Error: ${err.message}<br>This usually means there's a typo in your chart specification. See the javascript console for the full traceback.`));\n",
       "    }\n",
       "\n",
       "    if(typeof define === \"function\" && define.amd) {\n",
       "      requirejs.config({paths});\n",
       "      require([\"vega-embed\"], displayChart, err => showError(`Error loading script: ${err.message}`));\n",
       "    } else {\n",
       "      maybeLoadScript(\"vega\", \"5\")\n",
       "        .then(() => maybeLoadScript(\"vega-lite\", \"4.17.0\"))\n",
       "        .then(() => maybeLoadScript(\"vega-embed\", \"6\"))\n",
       "        .catch(showError)\n",
       "        .then(() => displayChart(vegaEmbed));\n",
       "    }\n",
       "  })({\"config\": {\"view\": {\"continuousWidth\": 400, \"continuousHeight\": 300}, \"axis\": {\"domainColor\": \"#cbcbcb\", \"grid\": true, \"gridColor\": \"#cbcbcb\", \"gridWidth\": 1, \"labelColor\": \"#474747\", \"labelFont\": \"Nunito Sans\", \"labelFontSize\": 10, \"labelPadding\": 4, \"tickColor\": \"#cbcbcb\", \"tickSize\": 10, \"titleColor\": \"#333\", \"titleFont\": \"Raleway\", \"titleFontSize\": 12, \"titlePadding\": 10}, \"axisBand\": {\"grid\": false}, \"background\": \"white\", \"font\": \"Raleway\", \"header\": {\"labelFont\": \"Nunito Sans\", \"titleFont\": \"Raleway\"}, \"legend\": {\"labelColor\": \"#333\", \"labelFont\": \"Nunito Sans\", \"labelFontSize\": 11, \"labelLimit\": 0, \"padding\": 1, \"symbolSize\": 30, \"symbolType\": \"square\", \"titleColor\": \"#333\", \"titleFont\": \"Raleway\", \"titleFontSize\": 14, \"titlePadding\": 10}, \"title\": {\"anchor\": \"middle\", \"font\": \"Raleway\", \"fontSize\": 18, \"fontWeight\": 300, \"offset\": 20}}, \"data\": {\"name\": \"data-0edd5b8a5df2c3ecbdfb01963352b00b\"}, \"mark\": {\"type\": \"bar\", \"size\": 8}, \"encoding\": {\"color\": {\"field\": \"pct_w_vp\", \"legend\": {\"symbolLimit\": 10, \"title\": \"Percent of Scheduled Trips with Vehicle Postions\"}, \"scale\": {\"range\": [\"#B9D6DF\", \"#8CBCCB\", \"#2EA8CE\", \"#136C97\", \"#0B405B\"]}, \"type\": \"quantitative\"}, \"tooltip\": [{\"field\": \"service_date\", \"title\": \"Service Date\", \"type\": \"temporal\"}, {\"field\": \"pct_w_vp\", \"title\": \"Pct W Vp\", \"type\": \"quantitative\"}], \"x\": {\"field\": \"service_date\", \"sort\": \"x\", \"title\": \"Service Date\", \"type\": \"temporal\"}, \"y\": {\"axis\": {\"format\": \"%\"}, \"field\": \"pct_w_vp\", \"stack\": null, \"title\": \"Percent of Scheduled Trips with Vehicle Postions\", \"type\": \"quantitative\"}}, \"height\": 250, \"title\": \"SamTrans Percent of Scheduled Trips with RT Vehicle Position Data\", \"width\": 800, \"$schema\": \"https://vega.github.io/schema/vega-lite/v4.17.0.json\", \"datasets\": {\"data-0edd5b8a5df2c3ecbdfb01963352b00b\": [{\"calitp_itp_id\": 290, \"agency_name\": \"SamTrans\", \"calitp_url_number\": 1, \"service_date\": \"2022-05-01T00:00:00\", \"weekday\": \"Sunday\", \"month\": \"May\", \"total_num_sched\": 765, \"total_num_vp\": 534, \"pct_w_vp\": 0.6980392156862745}, {\"calitp_itp_id\": 290, \"agency_name\": \"SamTrans\", \"calitp_url_number\": 1, \"service_date\": \"2022-05-02T00:00:00\", \"weekday\": \"Monday\", \"month\": \"May\", \"total_num_sched\": 1339, \"total_num_vp\": 938, \"pct_w_vp\": 0.700522778192681}, {\"calitp_itp_id\": 290, \"agency_name\": \"SamTrans\", \"calitp_url_number\": 1, \"service_date\": \"2022-05-03T00:00:00\", \"weekday\": \"Tuesday\", \"month\": \"May\", \"total_num_sched\": 1339, \"total_num_vp\": 1284, \"pct_w_vp\": 0.958924570575056}, {\"calitp_itp_id\": 290, \"agency_name\": \"SamTrans\", \"calitp_url_number\": 1, \"service_date\": \"2022-05-04T00:00:00\", \"weekday\": \"Wednesday\", \"month\": \"May\", \"total_num_sched\": 1343, \"total_num_vp\": 3, \"pct_w_vp\": 0.0022338049143708115}, {\"calitp_itp_id\": 290, \"agency_name\": \"SamTrans\", \"calitp_url_number\": 1, \"service_date\": \"2022-05-05T00:00:00\", \"weekday\": \"Thursday\", \"month\": \"May\", \"total_num_sched\": 1338, \"total_num_vp\": 948, \"pct_w_vp\": 0.7085201793721974}, {\"calitp_itp_id\": 290, \"agency_name\": \"SamTrans\", \"calitp_url_number\": 1, \"service_date\": \"2022-05-06T00:00:00\", \"weekday\": \"Friday\", \"month\": \"May\", \"total_num_sched\": 1339, \"total_num_vp\": 1292, \"pct_w_vp\": 0.9648991784914115}, {\"calitp_itp_id\": 290, \"agency_name\": \"SamTrans\", \"calitp_url_number\": 1, \"service_date\": \"2022-05-07T00:00:00\", \"weekday\": \"Saturday\", \"month\": \"May\", \"total_num_sched\": 890, \"total_num_vp\": 617, \"pct_w_vp\": 0.6932584269662921}, {\"calitp_itp_id\": 290, \"agency_name\": \"SamTrans\", \"calitp_url_number\": 1, \"service_date\": \"2022-05-08T00:00:00\", \"weekday\": \"Sunday\", \"month\": \"May\", \"total_num_sched\": 765, \"total_num_vp\": 518, \"pct_w_vp\": 0.677124183006536}, {\"calitp_itp_id\": 290, \"agency_name\": \"SamTrans\", \"calitp_url_number\": 1, \"service_date\": \"2022-05-09T00:00:00\", \"weekday\": \"Monday\", \"month\": \"May\", \"total_num_sched\": 1339, \"total_num_vp\": 908, \"pct_w_vp\": 0.678117998506348}, {\"calitp_itp_id\": 290, \"agency_name\": \"SamTrans\", \"calitp_url_number\": 1, \"service_date\": \"2022-05-10T00:00:00\", \"weekday\": \"Tuesday\", \"month\": \"May\", \"total_num_sched\": 1339, \"total_num_vp\": 1265, \"pct_w_vp\": 0.9447348767737117}, {\"calitp_itp_id\": 290, \"agency_name\": \"SamTrans\", \"calitp_url_number\": 1, \"service_date\": \"2022-05-11T00:00:00\", \"weekday\": \"Wednesday\", \"month\": \"May\", \"total_num_sched\": 1343, \"total_num_vp\": 1269, \"pct_w_vp\": 0.9448994787788533}, {\"calitp_itp_id\": 290, \"agency_name\": \"SamTrans\", \"calitp_url_number\": 1, \"service_date\": \"2022-05-12T00:00:00\", \"weekday\": \"Thursday\", \"month\": \"May\", \"total_num_sched\": 1338, \"total_num_vp\": 1285, \"pct_w_vp\": 0.9603886397608371}, {\"calitp_itp_id\": 290, \"agency_name\": \"SamTrans\", \"calitp_url_number\": 1, \"service_date\": \"2022-05-13T00:00:00\", \"weekday\": \"Friday\", \"month\": \"May\", \"total_num_sched\": 1339, \"total_num_vp\": 1274, \"pct_w_vp\": 0.9514563106796117}, {\"calitp_itp_id\": 290, \"agency_name\": \"SamTrans\", \"calitp_url_number\": 1, \"service_date\": \"2022-05-14T00:00:00\", \"weekday\": \"Saturday\", \"month\": \"May\", \"total_num_sched\": 890, \"total_num_vp\": 624, \"pct_w_vp\": 0.701123595505618}, {\"calitp_itp_id\": 290, \"agency_name\": \"SamTrans\", \"calitp_url_number\": 1, \"service_date\": \"2022-05-15T00:00:00\", \"weekday\": \"Sunday\", \"month\": \"May\", \"total_num_sched\": 765, \"total_num_vp\": 535, \"pct_w_vp\": 0.6993464052287581}, {\"calitp_itp_id\": 290, \"agency_name\": \"SamTrans\", \"calitp_url_number\": 1, \"service_date\": \"2022-05-16T00:00:00\", \"weekday\": \"Monday\", \"month\": \"May\", \"total_num_sched\": 1339, \"total_num_vp\": 929, \"pct_w_vp\": 0.6938013442867812}, {\"calitp_itp_id\": 290, \"agency_name\": \"SamTrans\", \"calitp_url_number\": 1, \"service_date\": \"2022-05-17T00:00:00\", \"weekday\": \"Tuesday\", \"month\": \"May\", \"total_num_sched\": 1339, \"total_num_vp\": 1283, \"pct_w_vp\": 0.9581777445855115}, {\"calitp_itp_id\": 290, \"agency_name\": \"SamTrans\", \"calitp_url_number\": 1, \"service_date\": \"2022-05-18T00:00:00\", \"weekday\": \"Wednesday\", \"month\": \"May\", \"total_num_sched\": 1343, \"total_num_vp\": 1287, \"pct_w_vp\": 0.9583023082650782}, {\"calitp_itp_id\": 290, \"agency_name\": \"SamTrans\", \"calitp_url_number\": 1, \"service_date\": \"2022-05-19T00:00:00\", \"weekday\": \"Thursday\", \"month\": \"May\", \"total_num_sched\": 1338, \"total_num_vp\": 1289, \"pct_w_vp\": 0.9633781763826607}, {\"calitp_itp_id\": 290, \"agency_name\": \"SamTrans\", \"calitp_url_number\": 1, \"service_date\": \"2022-05-20T00:00:00\", \"weekday\": \"Friday\", \"month\": \"May\", \"total_num_sched\": 1339, \"total_num_vp\": 1288, \"pct_w_vp\": 0.9619118745332338}, {\"calitp_itp_id\": 290, \"agency_name\": \"SamTrans\", \"calitp_url_number\": 1, \"service_date\": \"2022-05-21T00:00:00\", \"weekday\": \"Saturday\", \"month\": \"May\", \"total_num_sched\": 890, \"total_num_vp\": 617, \"pct_w_vp\": 0.6932584269662921}, {\"calitp_itp_id\": 290, \"agency_name\": \"SamTrans\", \"calitp_url_number\": 1, \"service_date\": \"2022-05-22T00:00:00\", \"weekday\": \"Sunday\", \"month\": \"May\", \"total_num_sched\": 765, \"total_num_vp\": 535, \"pct_w_vp\": 0.6993464052287581}, {\"calitp_itp_id\": 290, \"agency_name\": \"SamTrans\", \"calitp_url_number\": 1, \"service_date\": \"2022-05-23T00:00:00\", \"weekday\": \"Monday\", \"month\": \"May\", \"total_num_sched\": 1339, \"total_num_vp\": 916, \"pct_w_vp\": 0.6840926064227035}, {\"calitp_itp_id\": 290, \"agency_name\": \"SamTrans\", \"calitp_url_number\": 1, \"service_date\": \"2022-05-24T00:00:00\", \"weekday\": \"Tuesday\", \"month\": \"May\", \"total_num_sched\": 1339, \"total_num_vp\": 1247, \"pct_w_vp\": 0.9312920089619119}, {\"calitp_itp_id\": 290, \"agency_name\": \"SamTrans\", \"calitp_url_number\": 1, \"service_date\": \"2022-05-25T00:00:00\", \"weekday\": \"Wednesday\", \"month\": \"May\", \"total_num_sched\": 1343, \"total_num_vp\": 1261, \"pct_w_vp\": 0.9389426656738645}, {\"calitp_itp_id\": 290, \"agency_name\": \"SamTrans\", \"calitp_url_number\": 1, \"service_date\": \"2022-05-26T00:00:00\", \"weekday\": \"Thursday\", \"month\": \"May\", \"total_num_sched\": 1338, \"total_num_vp\": 1256, \"pct_w_vp\": 0.9387144992526159}, {\"calitp_itp_id\": 290, \"agency_name\": \"SamTrans\", \"calitp_url_number\": 1, \"service_date\": \"2022-05-27T00:00:00\", \"weekday\": \"Friday\", \"month\": \"May\", \"total_num_sched\": 1339, \"total_num_vp\": 1278, \"pct_w_vp\": 0.9544436146377894}, {\"calitp_itp_id\": 290, \"agency_name\": \"SamTrans\", \"calitp_url_number\": 1, \"service_date\": \"2022-05-28T00:00:00\", \"weekday\": \"Saturday\", \"month\": \"May\", \"total_num_sched\": 890, \"total_num_vp\": 620, \"pct_w_vp\": 0.6966292134831461}, {\"calitp_itp_id\": 290, \"agency_name\": \"SamTrans\", \"calitp_url_number\": 1, \"service_date\": \"2022-05-29T00:00:00\", \"weekday\": \"Sunday\", \"month\": \"May\", \"total_num_sched\": 765, \"total_num_vp\": 545, \"pct_w_vp\": 0.7124183006535948}, {\"calitp_itp_id\": 290, \"agency_name\": \"SamTrans\", \"calitp_url_number\": 1, \"service_date\": \"2022-05-30T00:00:00\", \"weekday\": \"Monday\", \"month\": \"May\", \"total_num_sched\": 765, \"total_num_vp\": 732, \"pct_w_vp\": 0.9568627450980393}, {\"calitp_itp_id\": 290, \"agency_name\": \"SamTrans\", \"calitp_url_number\": 1, \"service_date\": \"2022-05-31T00:00:00\", \"weekday\": \"Tuesday\", \"month\": \"May\", \"total_num_sched\": 1339, \"total_num_vp\": 948, \"pct_w_vp\": 0.7079910380881255}, {\"calitp_itp_id\": 290, \"agency_name\": \"SamTrans\", \"calitp_url_number\": 1, \"service_date\": \"2022-06-01T00:00:00\", \"weekday\": \"Wednesday\", \"month\": \"June\", \"total_num_sched\": 1343, \"total_num_vp\": 1302, \"pct_w_vp\": 0.9694713328369322}, {\"calitp_itp_id\": 290, \"agency_name\": \"SamTrans\", \"calitp_url_number\": 1, \"service_date\": \"2022-06-02T00:00:00\", \"weekday\": \"Thursday\", \"month\": \"June\", \"total_num_sched\": 1338, \"total_num_vp\": 1289, \"pct_w_vp\": 0.9633781763826607}, {\"calitp_itp_id\": 290, \"agency_name\": \"SamTrans\", \"calitp_url_number\": 1, \"service_date\": \"2022-06-03T00:00:00\", \"weekday\": \"Friday\", \"month\": \"June\", \"total_num_sched\": 1339, \"total_num_vp\": 1296, \"pct_w_vp\": 0.9678864824495892}, {\"calitp_itp_id\": 290, \"agency_name\": \"SamTrans\", \"calitp_url_number\": 1, \"service_date\": \"2022-06-04T00:00:00\", \"weekday\": \"Saturday\", \"month\": \"June\", \"total_num_sched\": 890, \"total_num_vp\": 625, \"pct_w_vp\": 0.702247191011236}, {\"calitp_itp_id\": 290, \"agency_name\": \"SamTrans\", \"calitp_url_number\": 1, \"service_date\": \"2022-06-05T00:00:00\", \"weekday\": \"Sunday\", \"month\": \"June\", \"total_num_sched\": 765, \"total_num_vp\": 545, \"pct_w_vp\": 0.7124183006535948}, {\"calitp_itp_id\": 290, \"agency_name\": \"SamTrans\", \"calitp_url_number\": 1, \"service_date\": \"2022-06-06T00:00:00\", \"weekday\": \"Monday\", \"month\": \"June\", \"total_num_sched\": 1339, \"total_num_vp\": 946, \"pct_w_vp\": 0.7064973861090366}, {\"calitp_itp_id\": 290, \"agency_name\": \"SamTrans\", \"calitp_url_number\": 1, \"service_date\": \"2022-06-07T00:00:00\", \"weekday\": \"Tuesday\", \"month\": \"June\", \"total_num_sched\": 1339, \"total_num_vp\": 1282, \"pct_w_vp\": 0.9574309185959672}, {\"calitp_itp_id\": 290, \"agency_name\": \"SamTrans\", \"calitp_url_number\": 1, \"service_date\": \"2022-06-08T00:00:00\", \"weekday\": \"Wednesday\", \"month\": \"June\", \"total_num_sched\": 1343, \"total_num_vp\": 556, \"pct_w_vp\": 0.41399851079672373}, {\"calitp_itp_id\": 290, \"agency_name\": \"SamTrans\", \"calitp_url_number\": 1, \"service_date\": \"2022-06-09T00:00:00\", \"weekday\": \"Thursday\", \"month\": \"June\", \"total_num_sched\": 1338, \"total_num_vp\": 729, \"pct_w_vp\": 0.5448430493273543}, {\"calitp_itp_id\": 290, \"agency_name\": \"SamTrans\", \"calitp_url_number\": 1, \"service_date\": \"2022-06-10T00:00:00\", \"weekday\": \"Friday\", \"month\": \"June\", \"total_num_sched\": 1339, \"total_num_vp\": 714, \"pct_w_vp\": 0.5332337565347274}, {\"calitp_itp_id\": 290, \"agency_name\": \"SamTrans\", \"calitp_url_number\": 1, \"service_date\": \"2022-06-11T00:00:00\", \"weekday\": \"Saturday\", \"month\": \"June\", \"total_num_sched\": 890, \"total_num_vp\": 328, \"pct_w_vp\": 0.3685393258426966}, {\"calitp_itp_id\": 290, \"agency_name\": \"SamTrans\", \"calitp_url_number\": 1, \"service_date\": \"2022-06-12T00:00:00\", \"weekday\": \"Sunday\", \"month\": \"June\", \"total_num_sched\": 765, \"total_num_vp\": 285, \"pct_w_vp\": 0.37254901960784315}, {\"calitp_itp_id\": 290, \"agency_name\": \"SamTrans\", \"calitp_url_number\": 1, \"service_date\": \"2022-06-13T00:00:00\", \"weekday\": \"Monday\", \"month\": \"June\", \"total_num_sched\": 1339, \"total_num_vp\": 542, \"pct_w_vp\": 0.40477968633308437}, {\"calitp_itp_id\": 290, \"agency_name\": \"SamTrans\", \"calitp_url_number\": 1, \"service_date\": \"2022-06-14T00:00:00\", \"weekday\": \"Tuesday\", \"month\": \"June\", \"total_num_sched\": 1339, \"total_num_vp\": 727, \"pct_w_vp\": 0.542942494398805}, {\"calitp_itp_id\": 290, \"agency_name\": \"SamTrans\", \"calitp_url_number\": 1, \"service_date\": \"2022-06-15T00:00:00\", \"weekday\": \"Wednesday\", \"month\": \"June\", \"total_num_sched\": 1343, \"total_num_vp\": 733, \"pct_w_vp\": 0.5457930007446017}, {\"calitp_itp_id\": 290, \"agency_name\": \"SamTrans\", \"calitp_url_number\": 1, \"service_date\": \"2022-06-16T00:00:00\", \"weekday\": \"Thursday\", \"month\": \"June\", \"total_num_sched\": 1338, \"total_num_vp\": 721, \"pct_w_vp\": 0.5388639760837071}, {\"calitp_itp_id\": 290, \"agency_name\": \"SamTrans\", \"calitp_url_number\": 1, \"service_date\": \"2022-06-17T00:00:00\", \"weekday\": \"Friday\", \"month\": \"June\", \"total_num_sched\": 1339, \"total_num_vp\": 721, \"pct_w_vp\": 0.5384615384615384}, {\"calitp_itp_id\": 290, \"agency_name\": \"SamTrans\", \"calitp_url_number\": 1, \"service_date\": \"2022-06-18T00:00:00\", \"weekday\": \"Saturday\", \"month\": \"June\", \"total_num_sched\": 890, \"total_num_vp\": 327, \"pct_w_vp\": 0.36741573033707864}, {\"calitp_itp_id\": 290, \"agency_name\": \"SamTrans\", \"calitp_url_number\": 1, \"service_date\": \"2022-06-19T00:00:00\", \"weekday\": \"Sunday\", \"month\": \"June\", \"total_num_sched\": 761, \"total_num_vp\": 235, \"pct_w_vp\": 0.3088042049934297}, {\"calitp_itp_id\": 290, \"agency_name\": \"SamTrans\", \"calitp_url_number\": 1, \"service_date\": \"2022-06-20T00:00:00\", \"weekday\": \"Monday\", \"month\": \"June\", \"total_num_sched\": 1318, \"total_num_vp\": 398, \"pct_w_vp\": 0.30197268588770865}, {\"calitp_itp_id\": 290, \"agency_name\": \"SamTrans\", \"calitp_url_number\": 1, \"service_date\": \"2022-06-21T00:00:00\", \"weekday\": \"Tuesday\", \"month\": \"June\", \"total_num_sched\": 1318, \"total_num_vp\": 580, \"pct_w_vp\": 0.4400606980273141}, {\"calitp_itp_id\": 290, \"agency_name\": \"SamTrans\", \"calitp_url_number\": 1, \"service_date\": \"2022-06-22T00:00:00\", \"weekday\": \"Wednesday\", \"month\": \"June\", \"total_num_sched\": 1318, \"total_num_vp\": 571, \"pct_w_vp\": 0.4332321699544765}, {\"calitp_itp_id\": 290, \"agency_name\": \"SamTrans\", \"calitp_url_number\": 1, \"service_date\": \"2022-06-23T00:00:00\", \"weekday\": \"Thursday\", \"month\": \"June\", \"total_num_sched\": 1318, \"total_num_vp\": 575, \"pct_w_vp\": 0.4362670713201821}, {\"calitp_itp_id\": 290, \"agency_name\": \"SamTrans\", \"calitp_url_number\": 1, \"service_date\": \"2022-06-24T00:00:00\", \"weekday\": \"Friday\", \"month\": \"June\", \"total_num_sched\": 1318, \"total_num_vp\": 504, \"pct_w_vp\": 0.38239757207890746}, {\"calitp_itp_id\": 290, \"agency_name\": \"SamTrans\", \"calitp_url_number\": 1, \"service_date\": \"2022-06-25T00:00:00\", \"weekday\": \"Saturday\", \"month\": \"June\", \"total_num_sched\": 886, \"total_num_vp\": 630, \"pct_w_vp\": 0.7110609480812641}, {\"calitp_itp_id\": 290, \"agency_name\": \"SamTrans\", \"calitp_url_number\": 1, \"service_date\": \"2022-06-26T00:00:00\", \"weekday\": \"Sunday\", \"month\": \"June\", \"total_num_sched\": 761, \"total_num_vp\": 547, \"pct_w_vp\": 0.7187910643889619}, {\"calitp_itp_id\": 290, \"agency_name\": \"SamTrans\", \"calitp_url_number\": 1, \"service_date\": \"2022-06-27T00:00:00\", \"weekday\": \"Monday\", \"month\": \"June\", \"total_num_sched\": 1318, \"total_num_vp\": 937, \"pct_w_vp\": 0.7109256449165402}, {\"calitp_itp_id\": 290, \"agency_name\": \"SamTrans\", \"calitp_url_number\": 1, \"service_date\": \"2022-06-28T00:00:00\", \"weekday\": \"Tuesday\", \"month\": \"June\", \"total_num_sched\": 1318, \"total_num_vp\": 1291, \"pct_w_vp\": 0.9795144157814871}, {\"calitp_itp_id\": 290, \"agency_name\": \"SamTrans\", \"calitp_url_number\": 1, \"service_date\": \"2022-06-29T00:00:00\", \"weekday\": \"Wednesday\", \"month\": \"June\", \"total_num_sched\": 1318, \"total_num_vp\": 1300, \"pct_w_vp\": 0.9863429438543247}, {\"calitp_itp_id\": 290, \"agency_name\": \"SamTrans\", \"calitp_url_number\": 1, \"service_date\": \"2022-06-30T00:00:00\", \"weekday\": \"Thursday\", \"month\": \"June\", \"total_num_sched\": 1318, \"total_num_vp\": 1292, \"pct_w_vp\": 0.9802731411229135}]}}, {\"mode\": \"vega-lite\"});\n",
       "</script>"
      ],
      "text/plain": [
       "alt.Chart(...)"
      ]
     },
     "execution_count": 24,
     "metadata": {},
     "output_type": "execute_result"
    }
   ],
   "source": [
    "# if we want to change the color scale\n",
    "(utils.bar_chart_over_time((day_pct>>filter(_.calitp_itp_id==st)),\n",
    "                           'service_date',\n",
    "                           'pct_w_vp',\n",
    "                           'pct_w_vp',\n",
    "                           '%',\n",
    "                           'x',\n",
    "                           'SamTrans Percent of Scheduled Trips with RT Vehicle Position Data')).encode(color = alt.Color('pct_w_vp',\n",
    "                       scale=alt.Scale(range=altair_utils.CALITP_SEQUENTIAL_COLORS),\n",
    "                       legend=alt.Legend(title=(utils.labeling('pct_w_vp')),\n",
    "                                         symbolLimit=10))).properties(width=800)"
   ]
  },
  {
   "cell_type": "markdown",
   "id": "9267ab52-cc86-4771-8926-16de1347637f",
   "metadata": {
    "tags": []
   },
   "source": [
    "## Percent by Day Version 2"
   ]
  },
  {
   "cell_type": "code",
   "execution_count": null,
   "id": "68541e35-e5af-42a7-b538-12602f844bec",
   "metadata": {},
   "outputs": [],
   "source": []
  },
  {
   "cell_type": "code",
   "execution_count": 25,
   "id": "84e8ff9e-026b-460e-8238-cb1b69161b42",
   "metadata": {
    "tags": []
   },
   "outputs": [
    {
     "data": {
      "text/html": [
       "\n",
       "<div id=\"altair-viz-7d6fa760ccb34eb9a10d618af3e32131\"></div>\n",
       "<script type=\"text/javascript\">\n",
       "  var VEGA_DEBUG = (typeof VEGA_DEBUG == \"undefined\") ? {} : VEGA_DEBUG;\n",
       "  (function(spec, embedOpt){\n",
       "    let outputDiv = document.currentScript.previousElementSibling;\n",
       "    if (outputDiv.id !== \"altair-viz-7d6fa760ccb34eb9a10d618af3e32131\") {\n",
       "      outputDiv = document.getElementById(\"altair-viz-7d6fa760ccb34eb9a10d618af3e32131\");\n",
       "    }\n",
       "    const paths = {\n",
       "      \"vega\": \"https://cdn.jsdelivr.net/npm//vega@5?noext\",\n",
       "      \"vega-lib\": \"https://cdn.jsdelivr.net/npm//vega-lib?noext\",\n",
       "      \"vega-lite\": \"https://cdn.jsdelivr.net/npm//vega-lite@4.17.0?noext\",\n",
       "      \"vega-embed\": \"https://cdn.jsdelivr.net/npm//vega-embed@6?noext\",\n",
       "    };\n",
       "\n",
       "    function maybeLoadScript(lib, version) {\n",
       "      var key = `${lib.replace(\"-\", \"\")}_version`;\n",
       "      return (VEGA_DEBUG[key] == version) ?\n",
       "        Promise.resolve(paths[lib]) :\n",
       "        new Promise(function(resolve, reject) {\n",
       "          var s = document.createElement('script');\n",
       "          document.getElementsByTagName(\"head\")[0].appendChild(s);\n",
       "          s.async = true;\n",
       "          s.onload = () => {\n",
       "            VEGA_DEBUG[key] = version;\n",
       "            return resolve(paths[lib]);\n",
       "          };\n",
       "          s.onerror = () => reject(`Error loading script: ${paths[lib]}`);\n",
       "          s.src = paths[lib];\n",
       "        });\n",
       "    }\n",
       "\n",
       "    function showError(err) {\n",
       "      outputDiv.innerHTML = `<div class=\"error\" style=\"color:red;\">${err}</div>`;\n",
       "      throw err;\n",
       "    }\n",
       "\n",
       "    function displayChart(vegaEmbed) {\n",
       "      vegaEmbed(outputDiv, spec, embedOpt)\n",
       "        .catch(err => showError(`Javascript Error: ${err.message}<br>This usually means there's a typo in your chart specification. See the javascript console for the full traceback.`));\n",
       "    }\n",
       "\n",
       "    if(typeof define === \"function\" && define.amd) {\n",
       "      requirejs.config({paths});\n",
       "      require([\"vega-embed\"], displayChart, err => showError(`Error loading script: ${err.message}`));\n",
       "    } else {\n",
       "      maybeLoadScript(\"vega\", \"5\")\n",
       "        .then(() => maybeLoadScript(\"vega-lite\", \"4.17.0\"))\n",
       "        .then(() => maybeLoadScript(\"vega-embed\", \"6\"))\n",
       "        .catch(showError)\n",
       "        .then(() => displayChart(vegaEmbed));\n",
       "    }\n",
       "  })({\"config\": {\"view\": {\"continuousWidth\": 400, \"continuousHeight\": 300}}, \"layer\": [{\"data\": {\"name\": \"data-22af8eef9a09301db1e093e0d1c5e673\"}, \"mark\": {\"type\": \"bar\", \"size\": 8}, \"encoding\": {\"color\": {\"field\": \"weekday\", \"legend\": {\"title\": \"Percent of Scheduled Trips with Vehicle Postions\"}, \"type\": \"nominal\"}, \"x\": {\"field\": \"service_date\", \"sort\": \"x\", \"title\": \"Service Date\", \"type\": \"temporal\"}, \"y\": {\"field\": \"pct_w_vp\", \"title\": \"Percent of Scheduled Trips with Vehicle Postions\", \"type\": \"quantitative\"}}, \"title\": \"Big Blue Bus Percent of Scheduled Trips with RT Vehicle Position Data\"}, {\"data\": {\"name\": \"data-22af8eef9a09301db1e093e0d1c5e673\"}, \"mark\": {\"type\": \"rule\", \"color\": \"red\"}, \"encoding\": {\"y\": {\"aggregate\": \"mean\", \"axis\": {\"format\": \"%\"}, \"field\": \"pct_w_vp\", \"type\": \"quantitative\"}}}], \"width\": 800, \"$schema\": \"https://vega.github.io/schema/vega-lite/v4.17.0.json\", \"datasets\": {\"data-22af8eef9a09301db1e093e0d1c5e673\": [{\"calitp_itp_id\": 300, \"agency_name\": \"Big Blue Bus\", \"calitp_url_number\": 0, \"service_date\": \"2022-05-01T00:00:00\", \"weekday\": \"Sunday\", \"month\": \"May\", \"total_num_sched\": 770, \"total_num_vp\": 526, \"pct_w_vp\": 0.6831168831168831}, {\"calitp_itp_id\": 300, \"agency_name\": \"Big Blue Bus\", \"calitp_url_number\": 0, \"service_date\": \"2022-05-02T00:00:00\", \"weekday\": \"Monday\", \"month\": \"May\", \"total_num_sched\": 1516, \"total_num_vp\": 1066, \"pct_w_vp\": 0.7031662269129287}, {\"calitp_itp_id\": 300, \"agency_name\": \"Big Blue Bus\", \"calitp_url_number\": 0, \"service_date\": \"2022-05-03T00:00:00\", \"weekday\": \"Tuesday\", \"month\": \"May\", \"total_num_sched\": 1516, \"total_num_vp\": 1365, \"pct_w_vp\": 0.9003957783641161}, {\"calitp_itp_id\": 300, \"agency_name\": \"Big Blue Bus\", \"calitp_url_number\": 0, \"service_date\": \"2022-05-04T00:00:00\", \"weekday\": \"Wednesday\", \"month\": \"May\", \"total_num_sched\": 1516, \"total_num_vp\": 1381, \"pct_w_vp\": 0.9109498680738787}, {\"calitp_itp_id\": 300, \"agency_name\": \"Big Blue Bus\", \"calitp_url_number\": 0, \"service_date\": \"2022-05-05T00:00:00\", \"weekday\": \"Thursday\", \"month\": \"May\", \"total_num_sched\": 1516, \"total_num_vp\": 1343, \"pct_w_vp\": 0.8858839050131926}, {\"calitp_itp_id\": 300, \"agency_name\": \"Big Blue Bus\", \"calitp_url_number\": 0, \"service_date\": \"2022-05-06T00:00:00\", \"weekday\": \"Friday\", \"month\": \"May\", \"total_num_sched\": 1464, \"total_num_vp\": 1295, \"pct_w_vp\": 0.8845628415300546}, {\"calitp_itp_id\": 300, \"agency_name\": \"Big Blue Bus\", \"calitp_url_number\": 0, \"service_date\": \"2022-05-07T00:00:00\", \"weekday\": \"Saturday\", \"month\": \"May\", \"total_num_sched\": 870, \"total_num_vp\": 604, \"pct_w_vp\": 0.6942528735632184}, {\"calitp_itp_id\": 300, \"agency_name\": \"Big Blue Bus\", \"calitp_url_number\": 0, \"service_date\": \"2022-05-08T00:00:00\", \"weekday\": \"Sunday\", \"month\": \"May\", \"total_num_sched\": 770, \"total_num_vp\": 501, \"pct_w_vp\": 0.6506493506493507}, {\"calitp_itp_id\": 300, \"agency_name\": \"Big Blue Bus\", \"calitp_url_number\": 0, \"service_date\": \"2022-05-09T00:00:00\", \"weekday\": \"Monday\", \"month\": \"May\", \"total_num_sched\": 1516, \"total_num_vp\": 1053, \"pct_w_vp\": 0.6945910290237467}, {\"calitp_itp_id\": 300, \"agency_name\": \"Big Blue Bus\", \"calitp_url_number\": 0, \"service_date\": \"2022-05-10T00:00:00\", \"weekday\": \"Tuesday\", \"month\": \"May\", \"total_num_sched\": 1516, \"total_num_vp\": 1380, \"pct_w_vp\": 0.9102902374670184}, {\"calitp_itp_id\": 300, \"agency_name\": \"Big Blue Bus\", \"calitp_url_number\": 0, \"service_date\": \"2022-05-11T00:00:00\", \"weekday\": \"Wednesday\", \"month\": \"May\", \"total_num_sched\": 1516, \"total_num_vp\": 1381, \"pct_w_vp\": 0.9109498680738787}, {\"calitp_itp_id\": 300, \"agency_name\": \"Big Blue Bus\", \"calitp_url_number\": 0, \"service_date\": \"2022-05-12T00:00:00\", \"weekday\": \"Thursday\", \"month\": \"May\", \"total_num_sched\": 1516, \"total_num_vp\": 1380, \"pct_w_vp\": 0.9102902374670184}, {\"calitp_itp_id\": 300, \"agency_name\": \"Big Blue Bus\", \"calitp_url_number\": 0, \"service_date\": \"2022-05-13T00:00:00\", \"weekday\": \"Friday\", \"month\": \"May\", \"total_num_sched\": 1464, \"total_num_vp\": 1343, \"pct_w_vp\": 0.9173497267759563}, {\"calitp_itp_id\": 300, \"agency_name\": \"Big Blue Bus\", \"calitp_url_number\": 0, \"service_date\": \"2022-05-14T00:00:00\", \"weekday\": \"Saturday\", \"month\": \"May\", \"total_num_sched\": 870, \"total_num_vp\": 600, \"pct_w_vp\": 0.6896551724137931}, {\"calitp_itp_id\": 300, \"agency_name\": \"Big Blue Bus\", \"calitp_url_number\": 0, \"service_date\": \"2022-05-15T00:00:00\", \"weekday\": \"Sunday\", \"month\": \"May\", \"total_num_sched\": 770, \"total_num_vp\": 526, \"pct_w_vp\": 0.6831168831168831}, {\"calitp_itp_id\": 300, \"agency_name\": \"Big Blue Bus\", \"calitp_url_number\": 0, \"service_date\": \"2022-05-16T00:00:00\", \"weekday\": \"Monday\", \"month\": \"May\", \"total_num_sched\": 1516, \"total_num_vp\": 1028, \"pct_w_vp\": 0.6781002638522428}, {\"calitp_itp_id\": 300, \"agency_name\": \"Big Blue Bus\", \"calitp_url_number\": 0, \"service_date\": \"2022-05-17T00:00:00\", \"weekday\": \"Tuesday\", \"month\": \"May\", \"total_num_sched\": 1516, \"total_num_vp\": 1373, \"pct_w_vp\": 0.9056728232189973}, {\"calitp_itp_id\": 300, \"agency_name\": \"Big Blue Bus\", \"calitp_url_number\": 0, \"service_date\": \"2022-05-18T00:00:00\", \"weekday\": \"Wednesday\", \"month\": \"May\", \"total_num_sched\": 1516, \"total_num_vp\": 1377, \"pct_w_vp\": 0.908311345646438}, {\"calitp_itp_id\": 300, \"agency_name\": \"Big Blue Bus\", \"calitp_url_number\": 0, \"service_date\": \"2022-05-19T00:00:00\", \"weekday\": \"Thursday\", \"month\": \"May\", \"total_num_sched\": 1516, \"total_num_vp\": 1367, \"pct_w_vp\": 0.9017150395778364}, {\"calitp_itp_id\": 300, \"agency_name\": \"Big Blue Bus\", \"calitp_url_number\": 0, \"service_date\": \"2022-05-20T00:00:00\", \"weekday\": \"Friday\", \"month\": \"May\", \"total_num_sched\": 1464, \"total_num_vp\": 1366, \"pct_w_vp\": 0.9330601092896175}, {\"calitp_itp_id\": 300, \"agency_name\": \"Big Blue Bus\", \"calitp_url_number\": 0, \"service_date\": \"2022-05-21T00:00:00\", \"weekday\": \"Saturday\", \"month\": \"May\", \"total_num_sched\": 870, \"total_num_vp\": 635, \"pct_w_vp\": 0.7298850574712644}, {\"calitp_itp_id\": 300, \"agency_name\": \"Big Blue Bus\", \"calitp_url_number\": 0, \"service_date\": \"2022-05-22T00:00:00\", \"weekday\": \"Sunday\", \"month\": \"May\", \"total_num_sched\": 770, \"total_num_vp\": 543, \"pct_w_vp\": 0.7051948051948052}, {\"calitp_itp_id\": 300, \"agency_name\": \"Big Blue Bus\", \"calitp_url_number\": 0, \"service_date\": \"2022-05-23T00:00:00\", \"weekday\": \"Monday\", \"month\": \"May\", \"total_num_sched\": 1516, \"total_num_vp\": 1086, \"pct_w_vp\": 0.716358839050132}, {\"calitp_itp_id\": 300, \"agency_name\": \"Big Blue Bus\", \"calitp_url_number\": 0, \"service_date\": \"2022-05-24T00:00:00\", \"weekday\": \"Tuesday\", \"month\": \"May\", \"total_num_sched\": 1516, \"total_num_vp\": 1370, \"pct_w_vp\": 0.9036939313984169}, {\"calitp_itp_id\": 300, \"agency_name\": \"Big Blue Bus\", \"calitp_url_number\": 0, \"service_date\": \"2022-05-25T00:00:00\", \"weekday\": \"Wednesday\", \"month\": \"May\", \"total_num_sched\": 1516, \"total_num_vp\": 1348, \"pct_w_vp\": 0.8891820580474934}, {\"calitp_itp_id\": 300, \"agency_name\": \"Big Blue Bus\", \"calitp_url_number\": 0, \"service_date\": \"2022-05-26T00:00:00\", \"weekday\": \"Thursday\", \"month\": \"May\", \"total_num_sched\": 1516, \"total_num_vp\": 1394, \"pct_w_vp\": 0.9195250659630607}, {\"calitp_itp_id\": 300, \"agency_name\": \"Big Blue Bus\", \"calitp_url_number\": 0, \"service_date\": \"2022-05-27T00:00:00\", \"weekday\": \"Friday\", \"month\": \"May\", \"total_num_sched\": 1466, \"total_num_vp\": 1320, \"pct_w_vp\": 0.9004092769440655}, {\"calitp_itp_id\": 300, \"agency_name\": \"Big Blue Bus\", \"calitp_url_number\": 0, \"service_date\": \"2022-05-28T00:00:00\", \"weekday\": \"Saturday\", \"month\": \"May\", \"total_num_sched\": 870, \"total_num_vp\": 612, \"pct_w_vp\": 0.7034482758620689}, {\"calitp_itp_id\": 300, \"agency_name\": \"Big Blue Bus\", \"calitp_url_number\": 0, \"service_date\": \"2022-05-29T00:00:00\", \"weekday\": \"Sunday\", \"month\": \"May\", \"total_num_sched\": 770, \"total_num_vp\": 556, \"pct_w_vp\": 0.7220779220779221}, {\"calitp_itp_id\": 300, \"agency_name\": \"Big Blue Bus\", \"calitp_url_number\": 0, \"service_date\": \"2022-05-30T00:00:00\", \"weekday\": \"Monday\", \"month\": \"May\", \"total_num_sched\": 770, \"total_num_vp\": 741, \"pct_w_vp\": 0.9623376623376624}, {\"calitp_itp_id\": 300, \"agency_name\": \"Big Blue Bus\", \"calitp_url_number\": 0, \"service_date\": \"2022-05-31T00:00:00\", \"weekday\": \"Tuesday\", \"month\": \"May\", \"total_num_sched\": 1516, \"total_num_vp\": 1067, \"pct_w_vp\": 0.7038258575197889}, {\"calitp_itp_id\": 300, \"agency_name\": \"Big Blue Bus\", \"calitp_url_number\": 0, \"service_date\": \"2022-06-01T00:00:00\", \"weekday\": \"Wednesday\", \"month\": \"June\", \"total_num_sched\": 1516, \"total_num_vp\": 1366, \"pct_w_vp\": 0.9010554089709762}, {\"calitp_itp_id\": 300, \"agency_name\": \"Big Blue Bus\", \"calitp_url_number\": 0, \"service_date\": \"2022-06-02T00:00:00\", \"weekday\": \"Thursday\", \"month\": \"June\", \"total_num_sched\": 1516, \"total_num_vp\": 1360, \"pct_w_vp\": 0.8970976253298153}, {\"calitp_itp_id\": 300, \"agency_name\": \"Big Blue Bus\", \"calitp_url_number\": 0, \"service_date\": \"2022-06-03T00:00:00\", \"weekday\": \"Friday\", \"month\": \"June\", \"total_num_sched\": 1516, \"total_num_vp\": 1294, \"pct_w_vp\": 0.8535620052770448}, {\"calitp_itp_id\": 300, \"agency_name\": \"Big Blue Bus\", \"calitp_url_number\": 0, \"service_date\": \"2022-06-04T00:00:00\", \"weekday\": \"Saturday\", \"month\": \"June\", \"total_num_sched\": 870, \"total_num_vp\": 610, \"pct_w_vp\": 0.7011494252873564}, {\"calitp_itp_id\": 300, \"agency_name\": \"Big Blue Bus\", \"calitp_url_number\": 0, \"service_date\": \"2022-06-05T00:00:00\", \"weekday\": \"Sunday\", \"month\": \"June\", \"total_num_sched\": 770, \"total_num_vp\": 554, \"pct_w_vp\": 0.7194805194805195}, {\"calitp_itp_id\": 300, \"agency_name\": \"Big Blue Bus\", \"calitp_url_number\": 0, \"service_date\": \"2022-06-06T00:00:00\", \"weekday\": \"Monday\", \"month\": \"June\", \"total_num_sched\": 1516, \"total_num_vp\": 1044, \"pct_w_vp\": 0.6886543535620053}, {\"calitp_itp_id\": 300, \"agency_name\": \"Big Blue Bus\", \"calitp_url_number\": 0, \"service_date\": \"2022-06-07T00:00:00\", \"weekday\": \"Tuesday\", \"month\": \"June\", \"total_num_sched\": 1516, \"total_num_vp\": 1338, \"pct_w_vp\": 0.8825857519788918}, {\"calitp_itp_id\": 300, \"agency_name\": \"Big Blue Bus\", \"calitp_url_number\": 0, \"service_date\": \"2022-06-08T00:00:00\", \"weekday\": \"Wednesday\", \"month\": \"June\", \"total_num_sched\": 1516, \"total_num_vp\": 1322, \"pct_w_vp\": 0.8720316622691293}, {\"calitp_itp_id\": 300, \"agency_name\": \"Big Blue Bus\", \"calitp_url_number\": 0, \"service_date\": \"2022-06-09T00:00:00\", \"weekday\": \"Thursday\", \"month\": \"June\", \"total_num_sched\": 1514, \"total_num_vp\": 1337, \"pct_w_vp\": 0.8830911492734478}, {\"calitp_itp_id\": 300, \"agency_name\": \"Big Blue Bus\", \"calitp_url_number\": 0, \"service_date\": \"2022-06-10T00:00:00\", \"weekday\": \"Friday\", \"month\": \"June\", \"total_num_sched\": 1463, \"total_num_vp\": 1293, \"pct_w_vp\": 0.8838004101161996}, {\"calitp_itp_id\": 300, \"agency_name\": \"Big Blue Bus\", \"calitp_url_number\": 0, \"service_date\": \"2022-06-11T00:00:00\", \"weekday\": \"Saturday\", \"month\": \"June\", \"total_num_sched\": 870, \"total_num_vp\": 584, \"pct_w_vp\": 0.671264367816092}, {\"calitp_itp_id\": 300, \"agency_name\": \"Big Blue Bus\", \"calitp_url_number\": 0, \"service_date\": \"2022-06-12T00:00:00\", \"weekday\": \"Sunday\", \"month\": \"June\", \"total_num_sched\": 770, \"total_num_vp\": 533, \"pct_w_vp\": 0.6922077922077922}, {\"calitp_itp_id\": 300, \"agency_name\": \"Big Blue Bus\", \"calitp_url_number\": 0, \"service_date\": \"2022-06-13T00:00:00\", \"weekday\": \"Monday\", \"month\": \"June\", \"total_num_sched\": 1513, \"total_num_vp\": 1060, \"pct_w_vp\": 0.7005948446794448}, {\"calitp_itp_id\": 300, \"agency_name\": \"Big Blue Bus\", \"calitp_url_number\": 0, \"service_date\": \"2022-06-14T00:00:00\", \"weekday\": \"Tuesday\", \"month\": \"June\", \"total_num_sched\": 1513, \"total_num_vp\": 1336, \"pct_w_vp\": 0.8830138797091871}, {\"calitp_itp_id\": 300, \"agency_name\": \"Big Blue Bus\", \"calitp_url_number\": 0, \"service_date\": \"2022-06-15T00:00:00\", \"weekday\": \"Wednesday\", \"month\": \"June\", \"total_num_sched\": 1409, \"total_num_vp\": 1341, \"pct_w_vp\": 0.9517388218594748}, {\"calitp_itp_id\": 300, \"agency_name\": \"Big Blue Bus\", \"calitp_url_number\": 0, \"service_date\": \"2022-06-16T00:00:00\", \"weekday\": \"Thursday\", \"month\": \"June\", \"total_num_sched\": 1409, \"total_num_vp\": 1382, \"pct_w_vp\": 0.9808374733853797}, {\"calitp_itp_id\": 300, \"agency_name\": \"Big Blue Bus\", \"calitp_url_number\": 0, \"service_date\": \"2022-06-17T00:00:00\", \"weekday\": \"Friday\", \"month\": \"June\", \"total_num_sched\": 1409, \"total_num_vp\": 1400, \"pct_w_vp\": 0.99361249112846}, {\"calitp_itp_id\": 300, \"agency_name\": \"Big Blue Bus\", \"calitp_url_number\": 0, \"service_date\": \"2022-06-18T00:00:00\", \"weekday\": \"Saturday\", \"month\": \"June\", \"total_num_sched\": 870, \"total_num_vp\": 633, \"pct_w_vp\": 0.7275862068965517}, {\"calitp_itp_id\": 300, \"agency_name\": \"Big Blue Bus\", \"calitp_url_number\": 0, \"service_date\": \"2022-06-19T00:00:00\", \"weekday\": \"Sunday\", \"month\": \"June\", \"total_num_sched\": 770, \"total_num_vp\": 524, \"pct_w_vp\": 0.6805194805194805}, {\"calitp_itp_id\": 300, \"agency_name\": \"Big Blue Bus\", \"calitp_url_number\": 0, \"service_date\": \"2022-06-20T00:00:00\", \"weekday\": \"Monday\", \"month\": \"June\", \"total_num_sched\": 1461, \"total_num_vp\": 1077, \"pct_w_vp\": 0.7371663244353183}, {\"calitp_itp_id\": 300, \"agency_name\": \"Big Blue Bus\", \"calitp_url_number\": 0, \"service_date\": \"2022-06-21T00:00:00\", \"weekday\": \"Tuesday\", \"month\": \"June\", \"total_num_sched\": 1461, \"total_num_vp\": 1381, \"pct_w_vp\": 0.945242984257358}, {\"calitp_itp_id\": 300, \"agency_name\": \"Big Blue Bus\", \"calitp_url_number\": 0, \"service_date\": \"2022-06-22T00:00:00\", \"weekday\": \"Wednesday\", \"month\": \"June\", \"total_num_sched\": 1461, \"total_num_vp\": 1376, \"pct_w_vp\": 0.9418206707734429}, {\"calitp_itp_id\": 300, \"agency_name\": \"Big Blue Bus\", \"calitp_url_number\": 0, \"service_date\": \"2022-06-23T00:00:00\", \"weekday\": \"Thursday\", \"month\": \"June\", \"total_num_sched\": 1461, \"total_num_vp\": 1384, \"pct_w_vp\": 0.947296372347707}, {\"calitp_itp_id\": 300, \"agency_name\": \"Big Blue Bus\", \"calitp_url_number\": 0, \"service_date\": \"2022-06-24T00:00:00\", \"weekday\": \"Friday\", \"month\": \"June\", \"total_num_sched\": 1461, \"total_num_vp\": 1320, \"pct_w_vp\": 0.9034907597535934}, {\"calitp_itp_id\": 300, \"agency_name\": \"Big Blue Bus\", \"calitp_url_number\": 0, \"service_date\": \"2022-06-25T00:00:00\", \"weekday\": \"Saturday\", \"month\": \"June\", \"total_num_sched\": 870, \"total_num_vp\": 581, \"pct_w_vp\": 0.667816091954023}, {\"calitp_itp_id\": 300, \"agency_name\": \"Big Blue Bus\", \"calitp_url_number\": 0, \"service_date\": \"2022-06-26T00:00:00\", \"weekday\": \"Sunday\", \"month\": \"June\", \"total_num_sched\": 770, \"total_num_vp\": 498, \"pct_w_vp\": 0.6467532467532467}, {\"calitp_itp_id\": 300, \"agency_name\": \"Big Blue Bus\", \"calitp_url_number\": 0, \"service_date\": \"2022-06-27T00:00:00\", \"weekday\": \"Monday\", \"month\": \"June\", \"total_num_sched\": 1461, \"total_num_vp\": 1013, \"pct_w_vp\": 0.6933607118412046}, {\"calitp_itp_id\": 300, \"agency_name\": \"Big Blue Bus\", \"calitp_url_number\": 0, \"service_date\": \"2022-06-28T00:00:00\", \"weekday\": \"Tuesday\", \"month\": \"June\", \"total_num_sched\": 1461, \"total_num_vp\": 1359, \"pct_w_vp\": 0.9301848049281314}, {\"calitp_itp_id\": 300, \"agency_name\": \"Big Blue Bus\", \"calitp_url_number\": 0, \"service_date\": \"2022-06-29T00:00:00\", \"weekday\": \"Wednesday\", \"month\": \"June\", \"total_num_sched\": 1461, \"total_num_vp\": 1367, \"pct_w_vp\": 0.9356605065023956}, {\"calitp_itp_id\": 300, \"agency_name\": \"Big Blue Bus\", \"calitp_url_number\": 0, \"service_date\": \"2022-06-30T00:00:00\", \"weekday\": \"Thursday\", \"month\": \"June\", \"total_num_sched\": 1461, \"total_num_vp\": 1374, \"pct_w_vp\": 0.9404517453798767}]}}, {\"mode\": \"vega-lite\"});\n",
       "</script>"
      ],
      "text/plain": [
       "alt.LayerChart(...)"
      ]
     },
     "execution_count": 25,
     "metadata": {},
     "output_type": "execute_result"
    }
   ],
   "source": [
    "bar = (alt.Chart(day_pct>>filter(_.calitp_itp_id==bbb))\n",
    "        .mark_bar(size=8)\n",
    "        .encode(\n",
    "            x=alt.X('service_date:T', title=utils.labeling('service_date'), sort=(\"x\")),\n",
    "            y=alt.Y('pct_w_vp:Q', title=utils.labeling('pct_w_vp')),\n",
    "            color=alt.Color(\n",
    "                'weekday',\n",
    "                #scale=alt.Scale(range=altair_utils.CALITP_DIVERGING_COLORS),\n",
    "                legend=alt.Legend(title=(utils.labeling('pct_w_vp'))))\n",
    "        ).properties(title= \"Big Blue Bus Percent of Scheduled Trips with RT Vehicle Position Data\"))\n",
    "\n",
    "# # mean line\n",
    "rule = alt.Chart(day_pct>>filter(_.calitp_itp_id==bbb)\n",
    "                ).mark_rule(color='red'\n",
    "                           ).encode(y=alt.Y('mean(pct_w_vp):Q', axis=alt.Axis(format='%')))\n",
    "\n",
    "(bar + rule).properties(width=800)\n"
   ]
  },
  {
   "cell_type": "code",
   "execution_count": 26,
   "id": "4396823f-4908-48fa-8109-6112e6427793",
   "metadata": {
    "tags": []
   },
   "outputs": [
    {
     "data": {
      "text/html": [
       "\n",
       "<div id=\"altair-viz-e76ef8e192184fe8bf695b43a637ae23\"></div>\n",
       "<script type=\"text/javascript\">\n",
       "  var VEGA_DEBUG = (typeof VEGA_DEBUG == \"undefined\") ? {} : VEGA_DEBUG;\n",
       "  (function(spec, embedOpt){\n",
       "    let outputDiv = document.currentScript.previousElementSibling;\n",
       "    if (outputDiv.id !== \"altair-viz-e76ef8e192184fe8bf695b43a637ae23\") {\n",
       "      outputDiv = document.getElementById(\"altair-viz-e76ef8e192184fe8bf695b43a637ae23\");\n",
       "    }\n",
       "    const paths = {\n",
       "      \"vega\": \"https://cdn.jsdelivr.net/npm//vega@5?noext\",\n",
       "      \"vega-lib\": \"https://cdn.jsdelivr.net/npm//vega-lib?noext\",\n",
       "      \"vega-lite\": \"https://cdn.jsdelivr.net/npm//vega-lite@4.17.0?noext\",\n",
       "      \"vega-embed\": \"https://cdn.jsdelivr.net/npm//vega-embed@6?noext\",\n",
       "    };\n",
       "\n",
       "    function maybeLoadScript(lib, version) {\n",
       "      var key = `${lib.replace(\"-\", \"\")}_version`;\n",
       "      return (VEGA_DEBUG[key] == version) ?\n",
       "        Promise.resolve(paths[lib]) :\n",
       "        new Promise(function(resolve, reject) {\n",
       "          var s = document.createElement('script');\n",
       "          document.getElementsByTagName(\"head\")[0].appendChild(s);\n",
       "          s.async = true;\n",
       "          s.onload = () => {\n",
       "            VEGA_DEBUG[key] = version;\n",
       "            return resolve(paths[lib]);\n",
       "          };\n",
       "          s.onerror = () => reject(`Error loading script: ${paths[lib]}`);\n",
       "          s.src = paths[lib];\n",
       "        });\n",
       "    }\n",
       "\n",
       "    function showError(err) {\n",
       "      outputDiv.innerHTML = `<div class=\"error\" style=\"color:red;\">${err}</div>`;\n",
       "      throw err;\n",
       "    }\n",
       "\n",
       "    function displayChart(vegaEmbed) {\n",
       "      vegaEmbed(outputDiv, spec, embedOpt)\n",
       "        .catch(err => showError(`Javascript Error: ${err.message}<br>This usually means there's a typo in your chart specification. See the javascript console for the full traceback.`));\n",
       "    }\n",
       "\n",
       "    if(typeof define === \"function\" && define.amd) {\n",
       "      requirejs.config({paths});\n",
       "      require([\"vega-embed\"], displayChart, err => showError(`Error loading script: ${err.message}`));\n",
       "    } else {\n",
       "      maybeLoadScript(\"vega\", \"5\")\n",
       "        .then(() => maybeLoadScript(\"vega-lite\", \"4.17.0\"))\n",
       "        .then(() => maybeLoadScript(\"vega-embed\", \"6\"))\n",
       "        .catch(showError)\n",
       "        .then(() => displayChart(vegaEmbed));\n",
       "    }\n",
       "  })({\"config\": {\"view\": {\"continuousWidth\": 400, \"continuousHeight\": 300}}, \"layer\": [{\"data\": {\"name\": \"data-0edd5b8a5df2c3ecbdfb01963352b00b\"}, \"mark\": {\"type\": \"bar\", \"size\": 8}, \"encoding\": {\"color\": {\"field\": \"weekday\", \"legend\": {\"title\": \"Percent of Scheduled Trips with Vehicle Postions\"}, \"type\": \"nominal\"}, \"x\": {\"field\": \"service_date\", \"sort\": \"x\", \"title\": \"Service Date\", \"type\": \"temporal\"}, \"y\": {\"field\": \"pct_w_vp\", \"title\": \"Percent of Scheduled Trips with Vehicle Postions\", \"type\": \"quantitative\"}}, \"title\": \"SamTrans Percent of Scheduled Trips with RT Vehicle Position Data\"}, {\"data\": {\"name\": \"data-22af8eef9a09301db1e093e0d1c5e673\"}, \"mark\": {\"type\": \"rule\", \"color\": \"red\"}, \"encoding\": {\"y\": {\"aggregate\": \"mean\", \"axis\": {\"format\": \"%\"}, \"field\": \"pct_w_vp\", \"type\": \"quantitative\"}}}], \"width\": 800, \"$schema\": \"https://vega.github.io/schema/vega-lite/v4.17.0.json\", \"datasets\": {\"data-0edd5b8a5df2c3ecbdfb01963352b00b\": [{\"calitp_itp_id\": 290, \"agency_name\": \"SamTrans\", \"calitp_url_number\": 1, \"service_date\": \"2022-05-01T00:00:00\", \"weekday\": \"Sunday\", \"month\": \"May\", \"total_num_sched\": 765, \"total_num_vp\": 534, \"pct_w_vp\": 0.6980392156862745}, {\"calitp_itp_id\": 290, \"agency_name\": \"SamTrans\", \"calitp_url_number\": 1, \"service_date\": \"2022-05-02T00:00:00\", \"weekday\": \"Monday\", \"month\": \"May\", \"total_num_sched\": 1339, \"total_num_vp\": 938, \"pct_w_vp\": 0.700522778192681}, {\"calitp_itp_id\": 290, \"agency_name\": \"SamTrans\", \"calitp_url_number\": 1, \"service_date\": \"2022-05-03T00:00:00\", \"weekday\": \"Tuesday\", \"month\": \"May\", \"total_num_sched\": 1339, \"total_num_vp\": 1284, \"pct_w_vp\": 0.958924570575056}, {\"calitp_itp_id\": 290, \"agency_name\": \"SamTrans\", \"calitp_url_number\": 1, \"service_date\": \"2022-05-04T00:00:00\", \"weekday\": \"Wednesday\", \"month\": \"May\", \"total_num_sched\": 1343, \"total_num_vp\": 3, \"pct_w_vp\": 0.0022338049143708115}, {\"calitp_itp_id\": 290, \"agency_name\": \"SamTrans\", \"calitp_url_number\": 1, \"service_date\": \"2022-05-05T00:00:00\", \"weekday\": \"Thursday\", \"month\": \"May\", \"total_num_sched\": 1338, \"total_num_vp\": 948, \"pct_w_vp\": 0.7085201793721974}, {\"calitp_itp_id\": 290, \"agency_name\": \"SamTrans\", \"calitp_url_number\": 1, \"service_date\": \"2022-05-06T00:00:00\", \"weekday\": \"Friday\", \"month\": \"May\", \"total_num_sched\": 1339, \"total_num_vp\": 1292, \"pct_w_vp\": 0.9648991784914115}, {\"calitp_itp_id\": 290, \"agency_name\": \"SamTrans\", \"calitp_url_number\": 1, \"service_date\": \"2022-05-07T00:00:00\", \"weekday\": \"Saturday\", \"month\": \"May\", \"total_num_sched\": 890, \"total_num_vp\": 617, \"pct_w_vp\": 0.6932584269662921}, {\"calitp_itp_id\": 290, \"agency_name\": \"SamTrans\", \"calitp_url_number\": 1, \"service_date\": \"2022-05-08T00:00:00\", \"weekday\": \"Sunday\", \"month\": \"May\", \"total_num_sched\": 765, \"total_num_vp\": 518, \"pct_w_vp\": 0.677124183006536}, {\"calitp_itp_id\": 290, \"agency_name\": \"SamTrans\", \"calitp_url_number\": 1, \"service_date\": \"2022-05-09T00:00:00\", \"weekday\": \"Monday\", \"month\": \"May\", \"total_num_sched\": 1339, \"total_num_vp\": 908, \"pct_w_vp\": 0.678117998506348}, {\"calitp_itp_id\": 290, \"agency_name\": \"SamTrans\", \"calitp_url_number\": 1, \"service_date\": \"2022-05-10T00:00:00\", \"weekday\": \"Tuesday\", \"month\": \"May\", \"total_num_sched\": 1339, \"total_num_vp\": 1265, \"pct_w_vp\": 0.9447348767737117}, {\"calitp_itp_id\": 290, \"agency_name\": \"SamTrans\", \"calitp_url_number\": 1, \"service_date\": \"2022-05-11T00:00:00\", \"weekday\": \"Wednesday\", \"month\": \"May\", \"total_num_sched\": 1343, \"total_num_vp\": 1269, \"pct_w_vp\": 0.9448994787788533}, {\"calitp_itp_id\": 290, \"agency_name\": \"SamTrans\", \"calitp_url_number\": 1, \"service_date\": \"2022-05-12T00:00:00\", \"weekday\": \"Thursday\", \"month\": \"May\", \"total_num_sched\": 1338, \"total_num_vp\": 1285, \"pct_w_vp\": 0.9603886397608371}, {\"calitp_itp_id\": 290, \"agency_name\": \"SamTrans\", \"calitp_url_number\": 1, \"service_date\": \"2022-05-13T00:00:00\", \"weekday\": \"Friday\", \"month\": \"May\", \"total_num_sched\": 1339, \"total_num_vp\": 1274, \"pct_w_vp\": 0.9514563106796117}, {\"calitp_itp_id\": 290, \"agency_name\": \"SamTrans\", \"calitp_url_number\": 1, \"service_date\": \"2022-05-14T00:00:00\", \"weekday\": \"Saturday\", \"month\": \"May\", \"total_num_sched\": 890, \"total_num_vp\": 624, \"pct_w_vp\": 0.701123595505618}, {\"calitp_itp_id\": 290, \"agency_name\": \"SamTrans\", \"calitp_url_number\": 1, \"service_date\": \"2022-05-15T00:00:00\", \"weekday\": \"Sunday\", \"month\": \"May\", \"total_num_sched\": 765, \"total_num_vp\": 535, \"pct_w_vp\": 0.6993464052287581}, {\"calitp_itp_id\": 290, \"agency_name\": \"SamTrans\", \"calitp_url_number\": 1, \"service_date\": \"2022-05-16T00:00:00\", \"weekday\": \"Monday\", \"month\": \"May\", \"total_num_sched\": 1339, \"total_num_vp\": 929, \"pct_w_vp\": 0.6938013442867812}, {\"calitp_itp_id\": 290, \"agency_name\": \"SamTrans\", \"calitp_url_number\": 1, \"service_date\": \"2022-05-17T00:00:00\", \"weekday\": \"Tuesday\", \"month\": \"May\", \"total_num_sched\": 1339, \"total_num_vp\": 1283, \"pct_w_vp\": 0.9581777445855115}, {\"calitp_itp_id\": 290, \"agency_name\": \"SamTrans\", \"calitp_url_number\": 1, \"service_date\": \"2022-05-18T00:00:00\", \"weekday\": \"Wednesday\", \"month\": \"May\", \"total_num_sched\": 1343, \"total_num_vp\": 1287, \"pct_w_vp\": 0.9583023082650782}, {\"calitp_itp_id\": 290, \"agency_name\": \"SamTrans\", \"calitp_url_number\": 1, \"service_date\": \"2022-05-19T00:00:00\", \"weekday\": \"Thursday\", \"month\": \"May\", \"total_num_sched\": 1338, \"total_num_vp\": 1289, \"pct_w_vp\": 0.9633781763826607}, {\"calitp_itp_id\": 290, \"agency_name\": \"SamTrans\", \"calitp_url_number\": 1, \"service_date\": \"2022-05-20T00:00:00\", \"weekday\": \"Friday\", \"month\": \"May\", \"total_num_sched\": 1339, \"total_num_vp\": 1288, \"pct_w_vp\": 0.9619118745332338}, {\"calitp_itp_id\": 290, \"agency_name\": \"SamTrans\", \"calitp_url_number\": 1, \"service_date\": \"2022-05-21T00:00:00\", \"weekday\": \"Saturday\", \"month\": \"May\", \"total_num_sched\": 890, \"total_num_vp\": 617, \"pct_w_vp\": 0.6932584269662921}, {\"calitp_itp_id\": 290, \"agency_name\": \"SamTrans\", \"calitp_url_number\": 1, \"service_date\": \"2022-05-22T00:00:00\", \"weekday\": \"Sunday\", \"month\": \"May\", \"total_num_sched\": 765, \"total_num_vp\": 535, \"pct_w_vp\": 0.6993464052287581}, {\"calitp_itp_id\": 290, \"agency_name\": \"SamTrans\", \"calitp_url_number\": 1, \"service_date\": \"2022-05-23T00:00:00\", \"weekday\": \"Monday\", \"month\": \"May\", \"total_num_sched\": 1339, \"total_num_vp\": 916, \"pct_w_vp\": 0.6840926064227035}, {\"calitp_itp_id\": 290, \"agency_name\": \"SamTrans\", \"calitp_url_number\": 1, \"service_date\": \"2022-05-24T00:00:00\", \"weekday\": \"Tuesday\", \"month\": \"May\", \"total_num_sched\": 1339, \"total_num_vp\": 1247, \"pct_w_vp\": 0.9312920089619119}, {\"calitp_itp_id\": 290, \"agency_name\": \"SamTrans\", \"calitp_url_number\": 1, \"service_date\": \"2022-05-25T00:00:00\", \"weekday\": \"Wednesday\", \"month\": \"May\", \"total_num_sched\": 1343, \"total_num_vp\": 1261, \"pct_w_vp\": 0.9389426656738645}, {\"calitp_itp_id\": 290, \"agency_name\": \"SamTrans\", \"calitp_url_number\": 1, \"service_date\": \"2022-05-26T00:00:00\", \"weekday\": \"Thursday\", \"month\": \"May\", \"total_num_sched\": 1338, \"total_num_vp\": 1256, \"pct_w_vp\": 0.9387144992526159}, {\"calitp_itp_id\": 290, \"agency_name\": \"SamTrans\", \"calitp_url_number\": 1, \"service_date\": \"2022-05-27T00:00:00\", \"weekday\": \"Friday\", \"month\": \"May\", \"total_num_sched\": 1339, \"total_num_vp\": 1278, \"pct_w_vp\": 0.9544436146377894}, {\"calitp_itp_id\": 290, \"agency_name\": \"SamTrans\", \"calitp_url_number\": 1, \"service_date\": \"2022-05-28T00:00:00\", \"weekday\": \"Saturday\", \"month\": \"May\", \"total_num_sched\": 890, \"total_num_vp\": 620, \"pct_w_vp\": 0.6966292134831461}, {\"calitp_itp_id\": 290, \"agency_name\": \"SamTrans\", \"calitp_url_number\": 1, \"service_date\": \"2022-05-29T00:00:00\", \"weekday\": \"Sunday\", \"month\": \"May\", \"total_num_sched\": 765, \"total_num_vp\": 545, \"pct_w_vp\": 0.7124183006535948}, {\"calitp_itp_id\": 290, \"agency_name\": \"SamTrans\", \"calitp_url_number\": 1, \"service_date\": \"2022-05-30T00:00:00\", \"weekday\": \"Monday\", \"month\": \"May\", \"total_num_sched\": 765, \"total_num_vp\": 732, \"pct_w_vp\": 0.9568627450980393}, {\"calitp_itp_id\": 290, \"agency_name\": \"SamTrans\", \"calitp_url_number\": 1, \"service_date\": \"2022-05-31T00:00:00\", \"weekday\": \"Tuesday\", \"month\": \"May\", \"total_num_sched\": 1339, \"total_num_vp\": 948, \"pct_w_vp\": 0.7079910380881255}, {\"calitp_itp_id\": 290, \"agency_name\": \"SamTrans\", \"calitp_url_number\": 1, \"service_date\": \"2022-06-01T00:00:00\", \"weekday\": \"Wednesday\", \"month\": \"June\", \"total_num_sched\": 1343, \"total_num_vp\": 1302, \"pct_w_vp\": 0.9694713328369322}, {\"calitp_itp_id\": 290, \"agency_name\": \"SamTrans\", \"calitp_url_number\": 1, \"service_date\": \"2022-06-02T00:00:00\", \"weekday\": \"Thursday\", \"month\": \"June\", \"total_num_sched\": 1338, \"total_num_vp\": 1289, \"pct_w_vp\": 0.9633781763826607}, {\"calitp_itp_id\": 290, \"agency_name\": \"SamTrans\", \"calitp_url_number\": 1, \"service_date\": \"2022-06-03T00:00:00\", \"weekday\": \"Friday\", \"month\": \"June\", \"total_num_sched\": 1339, \"total_num_vp\": 1296, \"pct_w_vp\": 0.9678864824495892}, {\"calitp_itp_id\": 290, \"agency_name\": \"SamTrans\", \"calitp_url_number\": 1, \"service_date\": \"2022-06-04T00:00:00\", \"weekday\": \"Saturday\", \"month\": \"June\", \"total_num_sched\": 890, \"total_num_vp\": 625, \"pct_w_vp\": 0.702247191011236}, {\"calitp_itp_id\": 290, \"agency_name\": \"SamTrans\", \"calitp_url_number\": 1, \"service_date\": \"2022-06-05T00:00:00\", \"weekday\": \"Sunday\", \"month\": \"June\", \"total_num_sched\": 765, \"total_num_vp\": 545, \"pct_w_vp\": 0.7124183006535948}, {\"calitp_itp_id\": 290, \"agency_name\": \"SamTrans\", \"calitp_url_number\": 1, \"service_date\": \"2022-06-06T00:00:00\", \"weekday\": \"Monday\", \"month\": \"June\", \"total_num_sched\": 1339, \"total_num_vp\": 946, \"pct_w_vp\": 0.7064973861090366}, {\"calitp_itp_id\": 290, \"agency_name\": \"SamTrans\", \"calitp_url_number\": 1, \"service_date\": \"2022-06-07T00:00:00\", \"weekday\": \"Tuesday\", \"month\": \"June\", \"total_num_sched\": 1339, \"total_num_vp\": 1282, \"pct_w_vp\": 0.9574309185959672}, {\"calitp_itp_id\": 290, \"agency_name\": \"SamTrans\", \"calitp_url_number\": 1, \"service_date\": \"2022-06-08T00:00:00\", \"weekday\": \"Wednesday\", \"month\": \"June\", \"total_num_sched\": 1343, \"total_num_vp\": 556, \"pct_w_vp\": 0.41399851079672373}, {\"calitp_itp_id\": 290, \"agency_name\": \"SamTrans\", \"calitp_url_number\": 1, \"service_date\": \"2022-06-09T00:00:00\", \"weekday\": \"Thursday\", \"month\": \"June\", \"total_num_sched\": 1338, \"total_num_vp\": 729, \"pct_w_vp\": 0.5448430493273543}, {\"calitp_itp_id\": 290, \"agency_name\": \"SamTrans\", \"calitp_url_number\": 1, \"service_date\": \"2022-06-10T00:00:00\", \"weekday\": \"Friday\", \"month\": \"June\", \"total_num_sched\": 1339, \"total_num_vp\": 714, \"pct_w_vp\": 0.5332337565347274}, {\"calitp_itp_id\": 290, \"agency_name\": \"SamTrans\", \"calitp_url_number\": 1, \"service_date\": \"2022-06-11T00:00:00\", \"weekday\": \"Saturday\", \"month\": \"June\", \"total_num_sched\": 890, \"total_num_vp\": 328, \"pct_w_vp\": 0.3685393258426966}, {\"calitp_itp_id\": 290, \"agency_name\": \"SamTrans\", \"calitp_url_number\": 1, \"service_date\": \"2022-06-12T00:00:00\", \"weekday\": \"Sunday\", \"month\": \"June\", \"total_num_sched\": 765, \"total_num_vp\": 285, \"pct_w_vp\": 0.37254901960784315}, {\"calitp_itp_id\": 290, \"agency_name\": \"SamTrans\", \"calitp_url_number\": 1, \"service_date\": \"2022-06-13T00:00:00\", \"weekday\": \"Monday\", \"month\": \"June\", \"total_num_sched\": 1339, \"total_num_vp\": 542, \"pct_w_vp\": 0.40477968633308437}, {\"calitp_itp_id\": 290, \"agency_name\": \"SamTrans\", \"calitp_url_number\": 1, \"service_date\": \"2022-06-14T00:00:00\", \"weekday\": \"Tuesday\", \"month\": \"June\", \"total_num_sched\": 1339, \"total_num_vp\": 727, \"pct_w_vp\": 0.542942494398805}, {\"calitp_itp_id\": 290, \"agency_name\": \"SamTrans\", \"calitp_url_number\": 1, \"service_date\": \"2022-06-15T00:00:00\", \"weekday\": \"Wednesday\", \"month\": \"June\", \"total_num_sched\": 1343, \"total_num_vp\": 733, \"pct_w_vp\": 0.5457930007446017}, {\"calitp_itp_id\": 290, \"agency_name\": \"SamTrans\", \"calitp_url_number\": 1, \"service_date\": \"2022-06-16T00:00:00\", \"weekday\": \"Thursday\", \"month\": \"June\", \"total_num_sched\": 1338, \"total_num_vp\": 721, \"pct_w_vp\": 0.5388639760837071}, {\"calitp_itp_id\": 290, \"agency_name\": \"SamTrans\", \"calitp_url_number\": 1, \"service_date\": \"2022-06-17T00:00:00\", \"weekday\": \"Friday\", \"month\": \"June\", \"total_num_sched\": 1339, \"total_num_vp\": 721, \"pct_w_vp\": 0.5384615384615384}, {\"calitp_itp_id\": 290, \"agency_name\": \"SamTrans\", \"calitp_url_number\": 1, \"service_date\": \"2022-06-18T00:00:00\", \"weekday\": \"Saturday\", \"month\": \"June\", \"total_num_sched\": 890, \"total_num_vp\": 327, \"pct_w_vp\": 0.36741573033707864}, {\"calitp_itp_id\": 290, \"agency_name\": \"SamTrans\", \"calitp_url_number\": 1, \"service_date\": \"2022-06-19T00:00:00\", \"weekday\": \"Sunday\", \"month\": \"June\", \"total_num_sched\": 761, \"total_num_vp\": 235, \"pct_w_vp\": 0.3088042049934297}, {\"calitp_itp_id\": 290, \"agency_name\": \"SamTrans\", \"calitp_url_number\": 1, \"service_date\": \"2022-06-20T00:00:00\", \"weekday\": \"Monday\", \"month\": \"June\", \"total_num_sched\": 1318, \"total_num_vp\": 398, \"pct_w_vp\": 0.30197268588770865}, {\"calitp_itp_id\": 290, \"agency_name\": \"SamTrans\", \"calitp_url_number\": 1, \"service_date\": \"2022-06-21T00:00:00\", \"weekday\": \"Tuesday\", \"month\": \"June\", \"total_num_sched\": 1318, \"total_num_vp\": 580, \"pct_w_vp\": 0.4400606980273141}, {\"calitp_itp_id\": 290, \"agency_name\": \"SamTrans\", \"calitp_url_number\": 1, \"service_date\": \"2022-06-22T00:00:00\", \"weekday\": \"Wednesday\", \"month\": \"June\", \"total_num_sched\": 1318, \"total_num_vp\": 571, \"pct_w_vp\": 0.4332321699544765}, {\"calitp_itp_id\": 290, \"agency_name\": \"SamTrans\", \"calitp_url_number\": 1, \"service_date\": \"2022-06-23T00:00:00\", \"weekday\": \"Thursday\", \"month\": \"June\", \"total_num_sched\": 1318, \"total_num_vp\": 575, \"pct_w_vp\": 0.4362670713201821}, {\"calitp_itp_id\": 290, \"agency_name\": \"SamTrans\", \"calitp_url_number\": 1, \"service_date\": \"2022-06-24T00:00:00\", \"weekday\": \"Friday\", \"month\": \"June\", \"total_num_sched\": 1318, \"total_num_vp\": 504, \"pct_w_vp\": 0.38239757207890746}, {\"calitp_itp_id\": 290, \"agency_name\": \"SamTrans\", \"calitp_url_number\": 1, \"service_date\": \"2022-06-25T00:00:00\", \"weekday\": \"Saturday\", \"month\": \"June\", \"total_num_sched\": 886, \"total_num_vp\": 630, \"pct_w_vp\": 0.7110609480812641}, {\"calitp_itp_id\": 290, \"agency_name\": \"SamTrans\", \"calitp_url_number\": 1, \"service_date\": \"2022-06-26T00:00:00\", \"weekday\": \"Sunday\", \"month\": \"June\", \"total_num_sched\": 761, \"total_num_vp\": 547, \"pct_w_vp\": 0.7187910643889619}, {\"calitp_itp_id\": 290, \"agency_name\": \"SamTrans\", \"calitp_url_number\": 1, \"service_date\": \"2022-06-27T00:00:00\", \"weekday\": \"Monday\", \"month\": \"June\", \"total_num_sched\": 1318, \"total_num_vp\": 937, \"pct_w_vp\": 0.7109256449165402}, {\"calitp_itp_id\": 290, \"agency_name\": \"SamTrans\", \"calitp_url_number\": 1, \"service_date\": \"2022-06-28T00:00:00\", \"weekday\": \"Tuesday\", \"month\": \"June\", \"total_num_sched\": 1318, \"total_num_vp\": 1291, \"pct_w_vp\": 0.9795144157814871}, {\"calitp_itp_id\": 290, \"agency_name\": \"SamTrans\", \"calitp_url_number\": 1, \"service_date\": \"2022-06-29T00:00:00\", \"weekday\": \"Wednesday\", \"month\": \"June\", \"total_num_sched\": 1318, \"total_num_vp\": 1300, \"pct_w_vp\": 0.9863429438543247}, {\"calitp_itp_id\": 290, \"agency_name\": \"SamTrans\", \"calitp_url_number\": 1, \"service_date\": \"2022-06-30T00:00:00\", \"weekday\": \"Thursday\", \"month\": \"June\", \"total_num_sched\": 1318, \"total_num_vp\": 1292, \"pct_w_vp\": 0.9802731411229135}], \"data-22af8eef9a09301db1e093e0d1c5e673\": [{\"calitp_itp_id\": 300, \"agency_name\": \"Big Blue Bus\", \"calitp_url_number\": 0, \"service_date\": \"2022-05-01T00:00:00\", \"weekday\": \"Sunday\", \"month\": \"May\", \"total_num_sched\": 770, \"total_num_vp\": 526, \"pct_w_vp\": 0.6831168831168831}, {\"calitp_itp_id\": 300, \"agency_name\": \"Big Blue Bus\", \"calitp_url_number\": 0, \"service_date\": \"2022-05-02T00:00:00\", \"weekday\": \"Monday\", \"month\": \"May\", \"total_num_sched\": 1516, \"total_num_vp\": 1066, \"pct_w_vp\": 0.7031662269129287}, {\"calitp_itp_id\": 300, \"agency_name\": \"Big Blue Bus\", \"calitp_url_number\": 0, \"service_date\": \"2022-05-03T00:00:00\", \"weekday\": \"Tuesday\", \"month\": \"May\", \"total_num_sched\": 1516, \"total_num_vp\": 1365, \"pct_w_vp\": 0.9003957783641161}, {\"calitp_itp_id\": 300, \"agency_name\": \"Big Blue Bus\", \"calitp_url_number\": 0, \"service_date\": \"2022-05-04T00:00:00\", \"weekday\": \"Wednesday\", \"month\": \"May\", \"total_num_sched\": 1516, \"total_num_vp\": 1381, \"pct_w_vp\": 0.9109498680738787}, {\"calitp_itp_id\": 300, \"agency_name\": \"Big Blue Bus\", \"calitp_url_number\": 0, \"service_date\": \"2022-05-05T00:00:00\", \"weekday\": \"Thursday\", \"month\": \"May\", \"total_num_sched\": 1516, \"total_num_vp\": 1343, \"pct_w_vp\": 0.8858839050131926}, {\"calitp_itp_id\": 300, \"agency_name\": \"Big Blue Bus\", \"calitp_url_number\": 0, \"service_date\": \"2022-05-06T00:00:00\", \"weekday\": \"Friday\", \"month\": \"May\", \"total_num_sched\": 1464, \"total_num_vp\": 1295, \"pct_w_vp\": 0.8845628415300546}, {\"calitp_itp_id\": 300, \"agency_name\": \"Big Blue Bus\", \"calitp_url_number\": 0, \"service_date\": \"2022-05-07T00:00:00\", \"weekday\": \"Saturday\", \"month\": \"May\", \"total_num_sched\": 870, \"total_num_vp\": 604, \"pct_w_vp\": 0.6942528735632184}, {\"calitp_itp_id\": 300, \"agency_name\": \"Big Blue Bus\", \"calitp_url_number\": 0, \"service_date\": \"2022-05-08T00:00:00\", \"weekday\": \"Sunday\", \"month\": \"May\", \"total_num_sched\": 770, \"total_num_vp\": 501, \"pct_w_vp\": 0.6506493506493507}, {\"calitp_itp_id\": 300, \"agency_name\": \"Big Blue Bus\", \"calitp_url_number\": 0, \"service_date\": \"2022-05-09T00:00:00\", \"weekday\": \"Monday\", \"month\": \"May\", \"total_num_sched\": 1516, \"total_num_vp\": 1053, \"pct_w_vp\": 0.6945910290237467}, {\"calitp_itp_id\": 300, \"agency_name\": \"Big Blue Bus\", \"calitp_url_number\": 0, \"service_date\": \"2022-05-10T00:00:00\", \"weekday\": \"Tuesday\", \"month\": \"May\", \"total_num_sched\": 1516, \"total_num_vp\": 1380, \"pct_w_vp\": 0.9102902374670184}, {\"calitp_itp_id\": 300, \"agency_name\": \"Big Blue Bus\", \"calitp_url_number\": 0, \"service_date\": \"2022-05-11T00:00:00\", \"weekday\": \"Wednesday\", \"month\": \"May\", \"total_num_sched\": 1516, \"total_num_vp\": 1381, \"pct_w_vp\": 0.9109498680738787}, {\"calitp_itp_id\": 300, \"agency_name\": \"Big Blue Bus\", \"calitp_url_number\": 0, \"service_date\": \"2022-05-12T00:00:00\", \"weekday\": \"Thursday\", \"month\": \"May\", \"total_num_sched\": 1516, \"total_num_vp\": 1380, \"pct_w_vp\": 0.9102902374670184}, {\"calitp_itp_id\": 300, \"agency_name\": \"Big Blue Bus\", \"calitp_url_number\": 0, \"service_date\": \"2022-05-13T00:00:00\", \"weekday\": \"Friday\", \"month\": \"May\", \"total_num_sched\": 1464, \"total_num_vp\": 1343, \"pct_w_vp\": 0.9173497267759563}, {\"calitp_itp_id\": 300, \"agency_name\": \"Big Blue Bus\", \"calitp_url_number\": 0, \"service_date\": \"2022-05-14T00:00:00\", \"weekday\": \"Saturday\", \"month\": \"May\", \"total_num_sched\": 870, \"total_num_vp\": 600, \"pct_w_vp\": 0.6896551724137931}, {\"calitp_itp_id\": 300, \"agency_name\": \"Big Blue Bus\", \"calitp_url_number\": 0, \"service_date\": \"2022-05-15T00:00:00\", \"weekday\": \"Sunday\", \"month\": \"May\", \"total_num_sched\": 770, \"total_num_vp\": 526, \"pct_w_vp\": 0.6831168831168831}, {\"calitp_itp_id\": 300, \"agency_name\": \"Big Blue Bus\", \"calitp_url_number\": 0, \"service_date\": \"2022-05-16T00:00:00\", \"weekday\": \"Monday\", \"month\": \"May\", \"total_num_sched\": 1516, \"total_num_vp\": 1028, \"pct_w_vp\": 0.6781002638522428}, {\"calitp_itp_id\": 300, \"agency_name\": \"Big Blue Bus\", \"calitp_url_number\": 0, \"service_date\": \"2022-05-17T00:00:00\", \"weekday\": \"Tuesday\", \"month\": \"May\", \"total_num_sched\": 1516, \"total_num_vp\": 1373, \"pct_w_vp\": 0.9056728232189973}, {\"calitp_itp_id\": 300, \"agency_name\": \"Big Blue Bus\", \"calitp_url_number\": 0, \"service_date\": \"2022-05-18T00:00:00\", \"weekday\": \"Wednesday\", \"month\": \"May\", \"total_num_sched\": 1516, \"total_num_vp\": 1377, \"pct_w_vp\": 0.908311345646438}, {\"calitp_itp_id\": 300, \"agency_name\": \"Big Blue Bus\", \"calitp_url_number\": 0, \"service_date\": \"2022-05-19T00:00:00\", \"weekday\": \"Thursday\", \"month\": \"May\", \"total_num_sched\": 1516, \"total_num_vp\": 1367, \"pct_w_vp\": 0.9017150395778364}, {\"calitp_itp_id\": 300, \"agency_name\": \"Big Blue Bus\", \"calitp_url_number\": 0, \"service_date\": \"2022-05-20T00:00:00\", \"weekday\": \"Friday\", \"month\": \"May\", \"total_num_sched\": 1464, \"total_num_vp\": 1366, \"pct_w_vp\": 0.9330601092896175}, {\"calitp_itp_id\": 300, \"agency_name\": \"Big Blue Bus\", \"calitp_url_number\": 0, \"service_date\": \"2022-05-21T00:00:00\", \"weekday\": \"Saturday\", \"month\": \"May\", \"total_num_sched\": 870, \"total_num_vp\": 635, \"pct_w_vp\": 0.7298850574712644}, {\"calitp_itp_id\": 300, \"agency_name\": \"Big Blue Bus\", \"calitp_url_number\": 0, \"service_date\": \"2022-05-22T00:00:00\", \"weekday\": \"Sunday\", \"month\": \"May\", \"total_num_sched\": 770, \"total_num_vp\": 543, \"pct_w_vp\": 0.7051948051948052}, {\"calitp_itp_id\": 300, \"agency_name\": \"Big Blue Bus\", \"calitp_url_number\": 0, \"service_date\": \"2022-05-23T00:00:00\", \"weekday\": \"Monday\", \"month\": \"May\", \"total_num_sched\": 1516, \"total_num_vp\": 1086, \"pct_w_vp\": 0.716358839050132}, {\"calitp_itp_id\": 300, \"agency_name\": \"Big Blue Bus\", \"calitp_url_number\": 0, \"service_date\": \"2022-05-24T00:00:00\", \"weekday\": \"Tuesday\", \"month\": \"May\", \"total_num_sched\": 1516, \"total_num_vp\": 1370, \"pct_w_vp\": 0.9036939313984169}, {\"calitp_itp_id\": 300, \"agency_name\": \"Big Blue Bus\", \"calitp_url_number\": 0, \"service_date\": \"2022-05-25T00:00:00\", \"weekday\": \"Wednesday\", \"month\": \"May\", \"total_num_sched\": 1516, \"total_num_vp\": 1348, \"pct_w_vp\": 0.8891820580474934}, {\"calitp_itp_id\": 300, \"agency_name\": \"Big Blue Bus\", \"calitp_url_number\": 0, \"service_date\": \"2022-05-26T00:00:00\", \"weekday\": \"Thursday\", \"month\": \"May\", \"total_num_sched\": 1516, \"total_num_vp\": 1394, \"pct_w_vp\": 0.9195250659630607}, {\"calitp_itp_id\": 300, \"agency_name\": \"Big Blue Bus\", \"calitp_url_number\": 0, \"service_date\": \"2022-05-27T00:00:00\", \"weekday\": \"Friday\", \"month\": \"May\", \"total_num_sched\": 1466, \"total_num_vp\": 1320, \"pct_w_vp\": 0.9004092769440655}, {\"calitp_itp_id\": 300, \"agency_name\": \"Big Blue Bus\", \"calitp_url_number\": 0, \"service_date\": \"2022-05-28T00:00:00\", \"weekday\": \"Saturday\", \"month\": \"May\", \"total_num_sched\": 870, \"total_num_vp\": 612, \"pct_w_vp\": 0.7034482758620689}, {\"calitp_itp_id\": 300, \"agency_name\": \"Big Blue Bus\", \"calitp_url_number\": 0, \"service_date\": \"2022-05-29T00:00:00\", \"weekday\": \"Sunday\", \"month\": \"May\", \"total_num_sched\": 770, \"total_num_vp\": 556, \"pct_w_vp\": 0.7220779220779221}, {\"calitp_itp_id\": 300, \"agency_name\": \"Big Blue Bus\", \"calitp_url_number\": 0, \"service_date\": \"2022-05-30T00:00:00\", \"weekday\": \"Monday\", \"month\": \"May\", \"total_num_sched\": 770, \"total_num_vp\": 741, \"pct_w_vp\": 0.9623376623376624}, {\"calitp_itp_id\": 300, \"agency_name\": \"Big Blue Bus\", \"calitp_url_number\": 0, \"service_date\": \"2022-05-31T00:00:00\", \"weekday\": \"Tuesday\", \"month\": \"May\", \"total_num_sched\": 1516, \"total_num_vp\": 1067, \"pct_w_vp\": 0.7038258575197889}, {\"calitp_itp_id\": 300, \"agency_name\": \"Big Blue Bus\", \"calitp_url_number\": 0, \"service_date\": \"2022-06-01T00:00:00\", \"weekday\": \"Wednesday\", \"month\": \"June\", \"total_num_sched\": 1516, \"total_num_vp\": 1366, \"pct_w_vp\": 0.9010554089709762}, {\"calitp_itp_id\": 300, \"agency_name\": \"Big Blue Bus\", \"calitp_url_number\": 0, \"service_date\": \"2022-06-02T00:00:00\", \"weekday\": \"Thursday\", \"month\": \"June\", \"total_num_sched\": 1516, \"total_num_vp\": 1360, \"pct_w_vp\": 0.8970976253298153}, {\"calitp_itp_id\": 300, \"agency_name\": \"Big Blue Bus\", \"calitp_url_number\": 0, \"service_date\": \"2022-06-03T00:00:00\", \"weekday\": \"Friday\", \"month\": \"June\", \"total_num_sched\": 1516, \"total_num_vp\": 1294, \"pct_w_vp\": 0.8535620052770448}, {\"calitp_itp_id\": 300, \"agency_name\": \"Big Blue Bus\", \"calitp_url_number\": 0, \"service_date\": \"2022-06-04T00:00:00\", \"weekday\": \"Saturday\", \"month\": \"June\", \"total_num_sched\": 870, \"total_num_vp\": 610, \"pct_w_vp\": 0.7011494252873564}, {\"calitp_itp_id\": 300, \"agency_name\": \"Big Blue Bus\", \"calitp_url_number\": 0, \"service_date\": \"2022-06-05T00:00:00\", \"weekday\": \"Sunday\", \"month\": \"June\", \"total_num_sched\": 770, \"total_num_vp\": 554, \"pct_w_vp\": 0.7194805194805195}, {\"calitp_itp_id\": 300, \"agency_name\": \"Big Blue Bus\", \"calitp_url_number\": 0, \"service_date\": \"2022-06-06T00:00:00\", \"weekday\": \"Monday\", \"month\": \"June\", \"total_num_sched\": 1516, \"total_num_vp\": 1044, \"pct_w_vp\": 0.6886543535620053}, {\"calitp_itp_id\": 300, \"agency_name\": \"Big Blue Bus\", \"calitp_url_number\": 0, \"service_date\": \"2022-06-07T00:00:00\", \"weekday\": \"Tuesday\", \"month\": \"June\", \"total_num_sched\": 1516, \"total_num_vp\": 1338, \"pct_w_vp\": 0.8825857519788918}, {\"calitp_itp_id\": 300, \"agency_name\": \"Big Blue Bus\", \"calitp_url_number\": 0, \"service_date\": \"2022-06-08T00:00:00\", \"weekday\": \"Wednesday\", \"month\": \"June\", \"total_num_sched\": 1516, \"total_num_vp\": 1322, \"pct_w_vp\": 0.8720316622691293}, {\"calitp_itp_id\": 300, \"agency_name\": \"Big Blue Bus\", \"calitp_url_number\": 0, \"service_date\": \"2022-06-09T00:00:00\", \"weekday\": \"Thursday\", \"month\": \"June\", \"total_num_sched\": 1514, \"total_num_vp\": 1337, \"pct_w_vp\": 0.8830911492734478}, {\"calitp_itp_id\": 300, \"agency_name\": \"Big Blue Bus\", \"calitp_url_number\": 0, \"service_date\": \"2022-06-10T00:00:00\", \"weekday\": \"Friday\", \"month\": \"June\", \"total_num_sched\": 1463, \"total_num_vp\": 1293, \"pct_w_vp\": 0.8838004101161996}, {\"calitp_itp_id\": 300, \"agency_name\": \"Big Blue Bus\", \"calitp_url_number\": 0, \"service_date\": \"2022-06-11T00:00:00\", \"weekday\": \"Saturday\", \"month\": \"June\", \"total_num_sched\": 870, \"total_num_vp\": 584, \"pct_w_vp\": 0.671264367816092}, {\"calitp_itp_id\": 300, \"agency_name\": \"Big Blue Bus\", \"calitp_url_number\": 0, \"service_date\": \"2022-06-12T00:00:00\", \"weekday\": \"Sunday\", \"month\": \"June\", \"total_num_sched\": 770, \"total_num_vp\": 533, \"pct_w_vp\": 0.6922077922077922}, {\"calitp_itp_id\": 300, \"agency_name\": \"Big Blue Bus\", \"calitp_url_number\": 0, \"service_date\": \"2022-06-13T00:00:00\", \"weekday\": \"Monday\", \"month\": \"June\", \"total_num_sched\": 1513, \"total_num_vp\": 1060, \"pct_w_vp\": 0.7005948446794448}, {\"calitp_itp_id\": 300, \"agency_name\": \"Big Blue Bus\", \"calitp_url_number\": 0, \"service_date\": \"2022-06-14T00:00:00\", \"weekday\": \"Tuesday\", \"month\": \"June\", \"total_num_sched\": 1513, \"total_num_vp\": 1336, \"pct_w_vp\": 0.8830138797091871}, {\"calitp_itp_id\": 300, \"agency_name\": \"Big Blue Bus\", \"calitp_url_number\": 0, \"service_date\": \"2022-06-15T00:00:00\", \"weekday\": \"Wednesday\", \"month\": \"June\", \"total_num_sched\": 1409, \"total_num_vp\": 1341, \"pct_w_vp\": 0.9517388218594748}, {\"calitp_itp_id\": 300, \"agency_name\": \"Big Blue Bus\", \"calitp_url_number\": 0, \"service_date\": \"2022-06-16T00:00:00\", \"weekday\": \"Thursday\", \"month\": \"June\", \"total_num_sched\": 1409, \"total_num_vp\": 1382, \"pct_w_vp\": 0.9808374733853797}, {\"calitp_itp_id\": 300, \"agency_name\": \"Big Blue Bus\", \"calitp_url_number\": 0, \"service_date\": \"2022-06-17T00:00:00\", \"weekday\": \"Friday\", \"month\": \"June\", \"total_num_sched\": 1409, \"total_num_vp\": 1400, \"pct_w_vp\": 0.99361249112846}, {\"calitp_itp_id\": 300, \"agency_name\": \"Big Blue Bus\", \"calitp_url_number\": 0, \"service_date\": \"2022-06-18T00:00:00\", \"weekday\": \"Saturday\", \"month\": \"June\", \"total_num_sched\": 870, \"total_num_vp\": 633, \"pct_w_vp\": 0.7275862068965517}, {\"calitp_itp_id\": 300, \"agency_name\": \"Big Blue Bus\", \"calitp_url_number\": 0, \"service_date\": \"2022-06-19T00:00:00\", \"weekday\": \"Sunday\", \"month\": \"June\", \"total_num_sched\": 770, \"total_num_vp\": 524, \"pct_w_vp\": 0.6805194805194805}, {\"calitp_itp_id\": 300, \"agency_name\": \"Big Blue Bus\", \"calitp_url_number\": 0, \"service_date\": \"2022-06-20T00:00:00\", \"weekday\": \"Monday\", \"month\": \"June\", \"total_num_sched\": 1461, \"total_num_vp\": 1077, \"pct_w_vp\": 0.7371663244353183}, {\"calitp_itp_id\": 300, \"agency_name\": \"Big Blue Bus\", \"calitp_url_number\": 0, \"service_date\": \"2022-06-21T00:00:00\", \"weekday\": \"Tuesday\", \"month\": \"June\", \"total_num_sched\": 1461, \"total_num_vp\": 1381, \"pct_w_vp\": 0.945242984257358}, {\"calitp_itp_id\": 300, \"agency_name\": \"Big Blue Bus\", \"calitp_url_number\": 0, \"service_date\": \"2022-06-22T00:00:00\", \"weekday\": \"Wednesday\", \"month\": \"June\", \"total_num_sched\": 1461, \"total_num_vp\": 1376, \"pct_w_vp\": 0.9418206707734429}, {\"calitp_itp_id\": 300, \"agency_name\": \"Big Blue Bus\", \"calitp_url_number\": 0, \"service_date\": \"2022-06-23T00:00:00\", \"weekday\": \"Thursday\", \"month\": \"June\", \"total_num_sched\": 1461, \"total_num_vp\": 1384, \"pct_w_vp\": 0.947296372347707}, {\"calitp_itp_id\": 300, \"agency_name\": \"Big Blue Bus\", \"calitp_url_number\": 0, \"service_date\": \"2022-06-24T00:00:00\", \"weekday\": \"Friday\", \"month\": \"June\", \"total_num_sched\": 1461, \"total_num_vp\": 1320, \"pct_w_vp\": 0.9034907597535934}, {\"calitp_itp_id\": 300, \"agency_name\": \"Big Blue Bus\", \"calitp_url_number\": 0, \"service_date\": \"2022-06-25T00:00:00\", \"weekday\": \"Saturday\", \"month\": \"June\", \"total_num_sched\": 870, \"total_num_vp\": 581, \"pct_w_vp\": 0.667816091954023}, {\"calitp_itp_id\": 300, \"agency_name\": \"Big Blue Bus\", \"calitp_url_number\": 0, \"service_date\": \"2022-06-26T00:00:00\", \"weekday\": \"Sunday\", \"month\": \"June\", \"total_num_sched\": 770, \"total_num_vp\": 498, \"pct_w_vp\": 0.6467532467532467}, {\"calitp_itp_id\": 300, \"agency_name\": \"Big Blue Bus\", \"calitp_url_number\": 0, \"service_date\": \"2022-06-27T00:00:00\", \"weekday\": \"Monday\", \"month\": \"June\", \"total_num_sched\": 1461, \"total_num_vp\": 1013, \"pct_w_vp\": 0.6933607118412046}, {\"calitp_itp_id\": 300, \"agency_name\": \"Big Blue Bus\", \"calitp_url_number\": 0, \"service_date\": \"2022-06-28T00:00:00\", \"weekday\": \"Tuesday\", \"month\": \"June\", \"total_num_sched\": 1461, \"total_num_vp\": 1359, \"pct_w_vp\": 0.9301848049281314}, {\"calitp_itp_id\": 300, \"agency_name\": \"Big Blue Bus\", \"calitp_url_number\": 0, \"service_date\": \"2022-06-29T00:00:00\", \"weekday\": \"Wednesday\", \"month\": \"June\", \"total_num_sched\": 1461, \"total_num_vp\": 1367, \"pct_w_vp\": 0.9356605065023956}, {\"calitp_itp_id\": 300, \"agency_name\": \"Big Blue Bus\", \"calitp_url_number\": 0, \"service_date\": \"2022-06-30T00:00:00\", \"weekday\": \"Thursday\", \"month\": \"June\", \"total_num_sched\": 1461, \"total_num_vp\": 1374, \"pct_w_vp\": 0.9404517453798767}]}}, {\"mode\": \"vega-lite\"});\n",
       "</script>"
      ],
      "text/plain": [
       "alt.LayerChart(...)"
      ]
     },
     "execution_count": 26,
     "metadata": {},
     "output_type": "execute_result"
    }
   ],
   "source": [
    "bar = (alt.Chart(day_pct>>filter(_.calitp_itp_id==st))\n",
    "        .mark_bar(size=8)\n",
    "        .encode(\n",
    "            x=alt.X('service_date', title=utils.labeling('service_date'), sort=(\"x\")),\n",
    "            y=alt.Y('pct_w_vp', title=utils.labeling('pct_w_vp')),\n",
    "            color=alt.Color(\n",
    "                'weekday',\n",
    "        #        scale=alt.Scale(range=altair_utils.CALITP_DIVERGING_COLORS),\n",
    "                legend=alt.Legend(title=(utils.labeling('pct_w_vp'))))\n",
    "        ).properties(title=\"SamTrans Percent of Scheduled Trips with RT Vehicle Position Data\"))\n",
    "\n",
    "# # mean line\n",
    "rule = alt.Chart(day_pct>>filter(_.calitp_itp_id==bbb)).mark_rule(color='red').encode(\n",
    "    y=alt.Y('mean(pct_w_vp)', axis=alt.Axis(format='%'))\n",
    ")\n",
    "\n",
    "(bar + rule).properties(width=800)"
   ]
  },
  {
   "cell_type": "code",
   "execution_count": null,
   "id": "14704c41-2193-4119-9cea-aa3ecfd5b3d7",
   "metadata": {},
   "outputs": [],
   "source": []
  },
  {
   "cell_type": "markdown",
   "id": "0cb58931-ac90-4dc1-9e21-e9aedbd4b5a5",
   "metadata": {
    "tags": []
   },
   "source": [
    "## Percent by Day Version 3"
   ]
  },
  {
   "cell_type": "code",
   "execution_count": null,
   "id": "3605b670-3cbc-4ee3-94fb-df66e5e0c1a0",
   "metadata": {},
   "outputs": [],
   "source": []
  },
  {
   "cell_type": "code",
   "execution_count": 27,
   "id": "1be757c0-5ea7-44e6-84c5-57570d08b4d1",
   "metadata": {
    "tags": []
   },
   "outputs": [
    {
     "data": {
      "text/html": [
       "\n",
       "<div id=\"altair-viz-382bd4dc0b6645a593b7fa8fe2b82027\"></div>\n",
       "<script type=\"text/javascript\">\n",
       "  var VEGA_DEBUG = (typeof VEGA_DEBUG == \"undefined\") ? {} : VEGA_DEBUG;\n",
       "  (function(spec, embedOpt){\n",
       "    let outputDiv = document.currentScript.previousElementSibling;\n",
       "    if (outputDiv.id !== \"altair-viz-382bd4dc0b6645a593b7fa8fe2b82027\") {\n",
       "      outputDiv = document.getElementById(\"altair-viz-382bd4dc0b6645a593b7fa8fe2b82027\");\n",
       "    }\n",
       "    const paths = {\n",
       "      \"vega\": \"https://cdn.jsdelivr.net/npm//vega@5?noext\",\n",
       "      \"vega-lib\": \"https://cdn.jsdelivr.net/npm//vega-lib?noext\",\n",
       "      \"vega-lite\": \"https://cdn.jsdelivr.net/npm//vega-lite@4.17.0?noext\",\n",
       "      \"vega-embed\": \"https://cdn.jsdelivr.net/npm//vega-embed@6?noext\",\n",
       "    };\n",
       "\n",
       "    function maybeLoadScript(lib, version) {\n",
       "      var key = `${lib.replace(\"-\", \"\")}_version`;\n",
       "      return (VEGA_DEBUG[key] == version) ?\n",
       "        Promise.resolve(paths[lib]) :\n",
       "        new Promise(function(resolve, reject) {\n",
       "          var s = document.createElement('script');\n",
       "          document.getElementsByTagName(\"head\")[0].appendChild(s);\n",
       "          s.async = true;\n",
       "          s.onload = () => {\n",
       "            VEGA_DEBUG[key] = version;\n",
       "            return resolve(paths[lib]);\n",
       "          };\n",
       "          s.onerror = () => reject(`Error loading script: ${paths[lib]}`);\n",
       "          s.src = paths[lib];\n",
       "        });\n",
       "    }\n",
       "\n",
       "    function showError(err) {\n",
       "      outputDiv.innerHTML = `<div class=\"error\" style=\"color:red;\">${err}</div>`;\n",
       "      throw err;\n",
       "    }\n",
       "\n",
       "    function displayChart(vegaEmbed) {\n",
       "      vegaEmbed(outputDiv, spec, embedOpt)\n",
       "        .catch(err => showError(`Javascript Error: ${err.message}<br>This usually means there's a typo in your chart specification. See the javascript console for the full traceback.`));\n",
       "    }\n",
       "\n",
       "    if(typeof define === \"function\" && define.amd) {\n",
       "      requirejs.config({paths});\n",
       "      require([\"vega-embed\"], displayChart, err => showError(`Error loading script: ${err.message}`));\n",
       "    } else {\n",
       "      maybeLoadScript(\"vega\", \"5\")\n",
       "        .then(() => maybeLoadScript(\"vega-lite\", \"4.17.0\"))\n",
       "        .then(() => maybeLoadScript(\"vega-embed\", \"6\"))\n",
       "        .catch(showError)\n",
       "        .then(() => displayChart(vegaEmbed));\n",
       "    }\n",
       "  })({\"config\": {\"view\": {\"continuousWidth\": 400, \"continuousHeight\": 300}}, \"layer\": [{\"data\": {\"name\": \"data-19b2b52c6df24e0c07fea38cbe2f7255\"}, \"mark\": \"trail\", \"encoding\": {\"color\": {\"field\": \"agency_name\", \"type\": \"nominal\"}, \"size\": {\"field\": \"pct_w_vp\", \"type\": \"quantitative\"}, \"x\": {\"field\": \"service_date\", \"sort\": \"x\", \"title\": \"Service Date\", \"type\": \"temporal\"}, \"y\": {\"field\": \"pct_w_vp\", \"title\": \"Percent of Scheduled Trips with Vehicle Postions\", \"type\": \"quantitative\"}}, \"width\": 550}, {\"data\": {\"name\": \"data-22af8eef9a09301db1e093e0d1c5e673\"}, \"mark\": \"rule\", \"encoding\": {\"color\": {\"field\": \"red\", \"type\": \"nominal\"}, \"y\": {\"aggregate\": \"mean\", \"axis\": {\"format\": \"%\"}, \"field\": \"pct_w_vp\", \"type\": \"quantitative\"}}}], \"$schema\": \"https://vega.github.io/schema/vega-lite/v4.17.0.json\", \"datasets\": {\"data-19b2b52c6df24e0c07fea38cbe2f7255\": [{\"calitp_itp_id\": 290, \"agency_name\": \"SamTrans\", \"calitp_url_number\": 1, \"service_date\": \"2022-05-01T00:00:00\", \"weekday\": \"Sunday\", \"month\": \"May\", \"total_num_sched\": 765, \"total_num_vp\": 534, \"pct_w_vp\": 0.6980392156862745}, {\"calitp_itp_id\": 290, \"agency_name\": \"SamTrans\", \"calitp_url_number\": 1, \"service_date\": \"2022-05-02T00:00:00\", \"weekday\": \"Monday\", \"month\": \"May\", \"total_num_sched\": 1339, \"total_num_vp\": 938, \"pct_w_vp\": 0.700522778192681}, {\"calitp_itp_id\": 290, \"agency_name\": \"SamTrans\", \"calitp_url_number\": 1, \"service_date\": \"2022-05-03T00:00:00\", \"weekday\": \"Tuesday\", \"month\": \"May\", \"total_num_sched\": 1339, \"total_num_vp\": 1284, \"pct_w_vp\": 0.958924570575056}, {\"calitp_itp_id\": 290, \"agency_name\": \"SamTrans\", \"calitp_url_number\": 1, \"service_date\": \"2022-05-04T00:00:00\", \"weekday\": \"Wednesday\", \"month\": \"May\", \"total_num_sched\": 1343, \"total_num_vp\": 3, \"pct_w_vp\": 0.0022338049143708115}, {\"calitp_itp_id\": 290, \"agency_name\": \"SamTrans\", \"calitp_url_number\": 1, \"service_date\": \"2022-05-05T00:00:00\", \"weekday\": \"Thursday\", \"month\": \"May\", \"total_num_sched\": 1338, \"total_num_vp\": 948, \"pct_w_vp\": 0.7085201793721974}, {\"calitp_itp_id\": 290, \"agency_name\": \"SamTrans\", \"calitp_url_number\": 1, \"service_date\": \"2022-05-06T00:00:00\", \"weekday\": \"Friday\", \"month\": \"May\", \"total_num_sched\": 1339, \"total_num_vp\": 1292, \"pct_w_vp\": 0.9648991784914115}, {\"calitp_itp_id\": 290, \"agency_name\": \"SamTrans\", \"calitp_url_number\": 1, \"service_date\": \"2022-05-07T00:00:00\", \"weekday\": \"Saturday\", \"month\": \"May\", \"total_num_sched\": 890, \"total_num_vp\": 617, \"pct_w_vp\": 0.6932584269662921}, {\"calitp_itp_id\": 290, \"agency_name\": \"SamTrans\", \"calitp_url_number\": 1, \"service_date\": \"2022-05-08T00:00:00\", \"weekday\": \"Sunday\", \"month\": \"May\", \"total_num_sched\": 765, \"total_num_vp\": 518, \"pct_w_vp\": 0.677124183006536}, {\"calitp_itp_id\": 290, \"agency_name\": \"SamTrans\", \"calitp_url_number\": 1, \"service_date\": \"2022-05-09T00:00:00\", \"weekday\": \"Monday\", \"month\": \"May\", \"total_num_sched\": 1339, \"total_num_vp\": 908, \"pct_w_vp\": 0.678117998506348}, {\"calitp_itp_id\": 290, \"agency_name\": \"SamTrans\", \"calitp_url_number\": 1, \"service_date\": \"2022-05-10T00:00:00\", \"weekday\": \"Tuesday\", \"month\": \"May\", \"total_num_sched\": 1339, \"total_num_vp\": 1265, \"pct_w_vp\": 0.9447348767737117}, {\"calitp_itp_id\": 290, \"agency_name\": \"SamTrans\", \"calitp_url_number\": 1, \"service_date\": \"2022-05-11T00:00:00\", \"weekday\": \"Wednesday\", \"month\": \"May\", \"total_num_sched\": 1343, \"total_num_vp\": 1269, \"pct_w_vp\": 0.9448994787788533}, {\"calitp_itp_id\": 290, \"agency_name\": \"SamTrans\", \"calitp_url_number\": 1, \"service_date\": \"2022-05-12T00:00:00\", \"weekday\": \"Thursday\", \"month\": \"May\", \"total_num_sched\": 1338, \"total_num_vp\": 1285, \"pct_w_vp\": 0.9603886397608371}, {\"calitp_itp_id\": 290, \"agency_name\": \"SamTrans\", \"calitp_url_number\": 1, \"service_date\": \"2022-05-13T00:00:00\", \"weekday\": \"Friday\", \"month\": \"May\", \"total_num_sched\": 1339, \"total_num_vp\": 1274, \"pct_w_vp\": 0.9514563106796117}, {\"calitp_itp_id\": 290, \"agency_name\": \"SamTrans\", \"calitp_url_number\": 1, \"service_date\": \"2022-05-14T00:00:00\", \"weekday\": \"Saturday\", \"month\": \"May\", \"total_num_sched\": 890, \"total_num_vp\": 624, \"pct_w_vp\": 0.701123595505618}, {\"calitp_itp_id\": 290, \"agency_name\": \"SamTrans\", \"calitp_url_number\": 1, \"service_date\": \"2022-05-15T00:00:00\", \"weekday\": \"Sunday\", \"month\": \"May\", \"total_num_sched\": 765, \"total_num_vp\": 535, \"pct_w_vp\": 0.6993464052287581}, {\"calitp_itp_id\": 290, \"agency_name\": \"SamTrans\", \"calitp_url_number\": 1, \"service_date\": \"2022-05-16T00:00:00\", \"weekday\": \"Monday\", \"month\": \"May\", \"total_num_sched\": 1339, \"total_num_vp\": 929, \"pct_w_vp\": 0.6938013442867812}, {\"calitp_itp_id\": 290, \"agency_name\": \"SamTrans\", \"calitp_url_number\": 1, \"service_date\": \"2022-05-17T00:00:00\", \"weekday\": \"Tuesday\", \"month\": \"May\", \"total_num_sched\": 1339, \"total_num_vp\": 1283, \"pct_w_vp\": 0.9581777445855115}, {\"calitp_itp_id\": 290, \"agency_name\": \"SamTrans\", \"calitp_url_number\": 1, \"service_date\": \"2022-05-18T00:00:00\", \"weekday\": \"Wednesday\", \"month\": \"May\", \"total_num_sched\": 1343, \"total_num_vp\": 1287, \"pct_w_vp\": 0.9583023082650782}, {\"calitp_itp_id\": 290, \"agency_name\": \"SamTrans\", \"calitp_url_number\": 1, \"service_date\": \"2022-05-19T00:00:00\", \"weekday\": \"Thursday\", \"month\": \"May\", \"total_num_sched\": 1338, \"total_num_vp\": 1289, \"pct_w_vp\": 0.9633781763826607}, {\"calitp_itp_id\": 290, \"agency_name\": \"SamTrans\", \"calitp_url_number\": 1, \"service_date\": \"2022-05-20T00:00:00\", \"weekday\": \"Friday\", \"month\": \"May\", \"total_num_sched\": 1339, \"total_num_vp\": 1288, \"pct_w_vp\": 0.9619118745332338}, {\"calitp_itp_id\": 290, \"agency_name\": \"SamTrans\", \"calitp_url_number\": 1, \"service_date\": \"2022-05-21T00:00:00\", \"weekday\": \"Saturday\", \"month\": \"May\", \"total_num_sched\": 890, \"total_num_vp\": 617, \"pct_w_vp\": 0.6932584269662921}, {\"calitp_itp_id\": 290, \"agency_name\": \"SamTrans\", \"calitp_url_number\": 1, \"service_date\": \"2022-05-22T00:00:00\", \"weekday\": \"Sunday\", \"month\": \"May\", \"total_num_sched\": 765, \"total_num_vp\": 535, \"pct_w_vp\": 0.6993464052287581}, {\"calitp_itp_id\": 290, \"agency_name\": \"SamTrans\", \"calitp_url_number\": 1, \"service_date\": \"2022-05-23T00:00:00\", \"weekday\": \"Monday\", \"month\": \"May\", \"total_num_sched\": 1339, \"total_num_vp\": 916, \"pct_w_vp\": 0.6840926064227035}, {\"calitp_itp_id\": 290, \"agency_name\": \"SamTrans\", \"calitp_url_number\": 1, \"service_date\": \"2022-05-24T00:00:00\", \"weekday\": \"Tuesday\", \"month\": \"May\", \"total_num_sched\": 1339, \"total_num_vp\": 1247, \"pct_w_vp\": 0.9312920089619119}, {\"calitp_itp_id\": 290, \"agency_name\": \"SamTrans\", \"calitp_url_number\": 1, \"service_date\": \"2022-05-25T00:00:00\", \"weekday\": \"Wednesday\", \"month\": \"May\", \"total_num_sched\": 1343, \"total_num_vp\": 1261, \"pct_w_vp\": 0.9389426656738645}, {\"calitp_itp_id\": 290, \"agency_name\": \"SamTrans\", \"calitp_url_number\": 1, \"service_date\": \"2022-05-26T00:00:00\", \"weekday\": \"Thursday\", \"month\": \"May\", \"total_num_sched\": 1338, \"total_num_vp\": 1256, \"pct_w_vp\": 0.9387144992526159}, {\"calitp_itp_id\": 290, \"agency_name\": \"SamTrans\", \"calitp_url_number\": 1, \"service_date\": \"2022-05-27T00:00:00\", \"weekday\": \"Friday\", \"month\": \"May\", \"total_num_sched\": 1339, \"total_num_vp\": 1278, \"pct_w_vp\": 0.9544436146377894}, {\"calitp_itp_id\": 290, \"agency_name\": \"SamTrans\", \"calitp_url_number\": 1, \"service_date\": \"2022-05-28T00:00:00\", \"weekday\": \"Saturday\", \"month\": \"May\", \"total_num_sched\": 890, \"total_num_vp\": 620, \"pct_w_vp\": 0.6966292134831461}, {\"calitp_itp_id\": 290, \"agency_name\": \"SamTrans\", \"calitp_url_number\": 1, \"service_date\": \"2022-05-29T00:00:00\", \"weekday\": \"Sunday\", \"month\": \"May\", \"total_num_sched\": 765, \"total_num_vp\": 545, \"pct_w_vp\": 0.7124183006535948}, {\"calitp_itp_id\": 290, \"agency_name\": \"SamTrans\", \"calitp_url_number\": 1, \"service_date\": \"2022-05-30T00:00:00\", \"weekday\": \"Monday\", \"month\": \"May\", \"total_num_sched\": 765, \"total_num_vp\": 732, \"pct_w_vp\": 0.9568627450980393}, {\"calitp_itp_id\": 290, \"agency_name\": \"SamTrans\", \"calitp_url_number\": 1, \"service_date\": \"2022-05-31T00:00:00\", \"weekday\": \"Tuesday\", \"month\": \"May\", \"total_num_sched\": 1339, \"total_num_vp\": 948, \"pct_w_vp\": 0.7079910380881255}, {\"calitp_itp_id\": 290, \"agency_name\": \"SamTrans\", \"calitp_url_number\": 1, \"service_date\": \"2022-06-01T00:00:00\", \"weekday\": \"Wednesday\", \"month\": \"June\", \"total_num_sched\": 1343, \"total_num_vp\": 1302, \"pct_w_vp\": 0.9694713328369322}, {\"calitp_itp_id\": 290, \"agency_name\": \"SamTrans\", \"calitp_url_number\": 1, \"service_date\": \"2022-06-02T00:00:00\", \"weekday\": \"Thursday\", \"month\": \"June\", \"total_num_sched\": 1338, \"total_num_vp\": 1289, \"pct_w_vp\": 0.9633781763826607}, {\"calitp_itp_id\": 290, \"agency_name\": \"SamTrans\", \"calitp_url_number\": 1, \"service_date\": \"2022-06-03T00:00:00\", \"weekday\": \"Friday\", \"month\": \"June\", \"total_num_sched\": 1339, \"total_num_vp\": 1296, \"pct_w_vp\": 0.9678864824495892}, {\"calitp_itp_id\": 290, \"agency_name\": \"SamTrans\", \"calitp_url_number\": 1, \"service_date\": \"2022-06-04T00:00:00\", \"weekday\": \"Saturday\", \"month\": \"June\", \"total_num_sched\": 890, \"total_num_vp\": 625, \"pct_w_vp\": 0.702247191011236}, {\"calitp_itp_id\": 290, \"agency_name\": \"SamTrans\", \"calitp_url_number\": 1, \"service_date\": \"2022-06-05T00:00:00\", \"weekday\": \"Sunday\", \"month\": \"June\", \"total_num_sched\": 765, \"total_num_vp\": 545, \"pct_w_vp\": 0.7124183006535948}, {\"calitp_itp_id\": 290, \"agency_name\": \"SamTrans\", \"calitp_url_number\": 1, \"service_date\": \"2022-06-06T00:00:00\", \"weekday\": \"Monday\", \"month\": \"June\", \"total_num_sched\": 1339, \"total_num_vp\": 946, \"pct_w_vp\": 0.7064973861090366}, {\"calitp_itp_id\": 290, \"agency_name\": \"SamTrans\", \"calitp_url_number\": 1, \"service_date\": \"2022-06-07T00:00:00\", \"weekday\": \"Tuesday\", \"month\": \"June\", \"total_num_sched\": 1339, \"total_num_vp\": 1282, \"pct_w_vp\": 0.9574309185959672}, {\"calitp_itp_id\": 290, \"agency_name\": \"SamTrans\", \"calitp_url_number\": 1, \"service_date\": \"2022-06-08T00:00:00\", \"weekday\": \"Wednesday\", \"month\": \"June\", \"total_num_sched\": 1343, \"total_num_vp\": 556, \"pct_w_vp\": 0.41399851079672373}, {\"calitp_itp_id\": 290, \"agency_name\": \"SamTrans\", \"calitp_url_number\": 1, \"service_date\": \"2022-06-09T00:00:00\", \"weekday\": \"Thursday\", \"month\": \"June\", \"total_num_sched\": 1338, \"total_num_vp\": 729, \"pct_w_vp\": 0.5448430493273543}, {\"calitp_itp_id\": 290, \"agency_name\": \"SamTrans\", \"calitp_url_number\": 1, \"service_date\": \"2022-06-10T00:00:00\", \"weekday\": \"Friday\", \"month\": \"June\", \"total_num_sched\": 1339, \"total_num_vp\": 714, \"pct_w_vp\": 0.5332337565347274}, {\"calitp_itp_id\": 290, \"agency_name\": \"SamTrans\", \"calitp_url_number\": 1, \"service_date\": \"2022-06-11T00:00:00\", \"weekday\": \"Saturday\", \"month\": \"June\", \"total_num_sched\": 890, \"total_num_vp\": 328, \"pct_w_vp\": 0.3685393258426966}, {\"calitp_itp_id\": 290, \"agency_name\": \"SamTrans\", \"calitp_url_number\": 1, \"service_date\": \"2022-06-12T00:00:00\", \"weekday\": \"Sunday\", \"month\": \"June\", \"total_num_sched\": 765, \"total_num_vp\": 285, \"pct_w_vp\": 0.37254901960784315}, {\"calitp_itp_id\": 290, \"agency_name\": \"SamTrans\", \"calitp_url_number\": 1, \"service_date\": \"2022-06-13T00:00:00\", \"weekday\": \"Monday\", \"month\": \"June\", \"total_num_sched\": 1339, \"total_num_vp\": 542, \"pct_w_vp\": 0.40477968633308437}, {\"calitp_itp_id\": 290, \"agency_name\": \"SamTrans\", \"calitp_url_number\": 1, \"service_date\": \"2022-06-14T00:00:00\", \"weekday\": \"Tuesday\", \"month\": \"June\", \"total_num_sched\": 1339, \"total_num_vp\": 727, \"pct_w_vp\": 0.542942494398805}, {\"calitp_itp_id\": 290, \"agency_name\": \"SamTrans\", \"calitp_url_number\": 1, \"service_date\": \"2022-06-15T00:00:00\", \"weekday\": \"Wednesday\", \"month\": \"June\", \"total_num_sched\": 1343, \"total_num_vp\": 733, \"pct_w_vp\": 0.5457930007446017}, {\"calitp_itp_id\": 290, \"agency_name\": \"SamTrans\", \"calitp_url_number\": 1, \"service_date\": \"2022-06-16T00:00:00\", \"weekday\": \"Thursday\", \"month\": \"June\", \"total_num_sched\": 1338, \"total_num_vp\": 721, \"pct_w_vp\": 0.5388639760837071}, {\"calitp_itp_id\": 290, \"agency_name\": \"SamTrans\", \"calitp_url_number\": 1, \"service_date\": \"2022-06-17T00:00:00\", \"weekday\": \"Friday\", \"month\": \"June\", \"total_num_sched\": 1339, \"total_num_vp\": 721, \"pct_w_vp\": 0.5384615384615384}, {\"calitp_itp_id\": 290, \"agency_name\": \"SamTrans\", \"calitp_url_number\": 1, \"service_date\": \"2022-06-18T00:00:00\", \"weekday\": \"Saturday\", \"month\": \"June\", \"total_num_sched\": 890, \"total_num_vp\": 327, \"pct_w_vp\": 0.36741573033707864}, {\"calitp_itp_id\": 290, \"agency_name\": \"SamTrans\", \"calitp_url_number\": 1, \"service_date\": \"2022-06-19T00:00:00\", \"weekday\": \"Sunday\", \"month\": \"June\", \"total_num_sched\": 761, \"total_num_vp\": 235, \"pct_w_vp\": 0.3088042049934297}, {\"calitp_itp_id\": 290, \"agency_name\": \"SamTrans\", \"calitp_url_number\": 1, \"service_date\": \"2022-06-20T00:00:00\", \"weekday\": \"Monday\", \"month\": \"June\", \"total_num_sched\": 1318, \"total_num_vp\": 398, \"pct_w_vp\": 0.30197268588770865}, {\"calitp_itp_id\": 290, \"agency_name\": \"SamTrans\", \"calitp_url_number\": 1, \"service_date\": \"2022-06-21T00:00:00\", \"weekday\": \"Tuesday\", \"month\": \"June\", \"total_num_sched\": 1318, \"total_num_vp\": 580, \"pct_w_vp\": 0.4400606980273141}, {\"calitp_itp_id\": 290, \"agency_name\": \"SamTrans\", \"calitp_url_number\": 1, \"service_date\": \"2022-06-22T00:00:00\", \"weekday\": \"Wednesday\", \"month\": \"June\", \"total_num_sched\": 1318, \"total_num_vp\": 571, \"pct_w_vp\": 0.4332321699544765}, {\"calitp_itp_id\": 290, \"agency_name\": \"SamTrans\", \"calitp_url_number\": 1, \"service_date\": \"2022-06-23T00:00:00\", \"weekday\": \"Thursday\", \"month\": \"June\", \"total_num_sched\": 1318, \"total_num_vp\": 575, \"pct_w_vp\": 0.4362670713201821}, {\"calitp_itp_id\": 290, \"agency_name\": \"SamTrans\", \"calitp_url_number\": 1, \"service_date\": \"2022-06-24T00:00:00\", \"weekday\": \"Friday\", \"month\": \"June\", \"total_num_sched\": 1318, \"total_num_vp\": 504, \"pct_w_vp\": 0.38239757207890746}, {\"calitp_itp_id\": 290, \"agency_name\": \"SamTrans\", \"calitp_url_number\": 1, \"service_date\": \"2022-06-25T00:00:00\", \"weekday\": \"Saturday\", \"month\": \"June\", \"total_num_sched\": 886, \"total_num_vp\": 630, \"pct_w_vp\": 0.7110609480812641}, {\"calitp_itp_id\": 290, \"agency_name\": \"SamTrans\", \"calitp_url_number\": 1, \"service_date\": \"2022-06-26T00:00:00\", \"weekday\": \"Sunday\", \"month\": \"June\", \"total_num_sched\": 761, \"total_num_vp\": 547, \"pct_w_vp\": 0.7187910643889619}, {\"calitp_itp_id\": 290, \"agency_name\": \"SamTrans\", \"calitp_url_number\": 1, \"service_date\": \"2022-06-27T00:00:00\", \"weekday\": \"Monday\", \"month\": \"June\", \"total_num_sched\": 1318, \"total_num_vp\": 937, \"pct_w_vp\": 0.7109256449165402}, {\"calitp_itp_id\": 290, \"agency_name\": \"SamTrans\", \"calitp_url_number\": 1, \"service_date\": \"2022-06-28T00:00:00\", \"weekday\": \"Tuesday\", \"month\": \"June\", \"total_num_sched\": 1318, \"total_num_vp\": 1291, \"pct_w_vp\": 0.9795144157814871}, {\"calitp_itp_id\": 290, \"agency_name\": \"SamTrans\", \"calitp_url_number\": 1, \"service_date\": \"2022-06-29T00:00:00\", \"weekday\": \"Wednesday\", \"month\": \"June\", \"total_num_sched\": 1318, \"total_num_vp\": 1300, \"pct_w_vp\": 0.9863429438543247}, {\"calitp_itp_id\": 290, \"agency_name\": \"SamTrans\", \"calitp_url_number\": 1, \"service_date\": \"2022-06-30T00:00:00\", \"weekday\": \"Thursday\", \"month\": \"June\", \"total_num_sched\": 1318, \"total_num_vp\": 1292, \"pct_w_vp\": 0.9802731411229135}, {\"calitp_itp_id\": 300, \"agency_name\": \"Big Blue Bus\", \"calitp_url_number\": 0, \"service_date\": \"2022-05-01T00:00:00\", \"weekday\": \"Sunday\", \"month\": \"May\", \"total_num_sched\": 770, \"total_num_vp\": 526, \"pct_w_vp\": 0.6831168831168831}, {\"calitp_itp_id\": 300, \"agency_name\": \"Big Blue Bus\", \"calitp_url_number\": 0, \"service_date\": \"2022-05-02T00:00:00\", \"weekday\": \"Monday\", \"month\": \"May\", \"total_num_sched\": 1516, \"total_num_vp\": 1066, \"pct_w_vp\": 0.7031662269129287}, {\"calitp_itp_id\": 300, \"agency_name\": \"Big Blue Bus\", \"calitp_url_number\": 0, \"service_date\": \"2022-05-03T00:00:00\", \"weekday\": \"Tuesday\", \"month\": \"May\", \"total_num_sched\": 1516, \"total_num_vp\": 1365, \"pct_w_vp\": 0.9003957783641161}, {\"calitp_itp_id\": 300, \"agency_name\": \"Big Blue Bus\", \"calitp_url_number\": 0, \"service_date\": \"2022-05-04T00:00:00\", \"weekday\": \"Wednesday\", \"month\": \"May\", \"total_num_sched\": 1516, \"total_num_vp\": 1381, \"pct_w_vp\": 0.9109498680738787}, {\"calitp_itp_id\": 300, \"agency_name\": \"Big Blue Bus\", \"calitp_url_number\": 0, \"service_date\": \"2022-05-05T00:00:00\", \"weekday\": \"Thursday\", \"month\": \"May\", \"total_num_sched\": 1516, \"total_num_vp\": 1343, \"pct_w_vp\": 0.8858839050131926}, {\"calitp_itp_id\": 300, \"agency_name\": \"Big Blue Bus\", \"calitp_url_number\": 0, \"service_date\": \"2022-05-06T00:00:00\", \"weekday\": \"Friday\", \"month\": \"May\", \"total_num_sched\": 1464, \"total_num_vp\": 1295, \"pct_w_vp\": 0.8845628415300546}, {\"calitp_itp_id\": 300, \"agency_name\": \"Big Blue Bus\", \"calitp_url_number\": 0, \"service_date\": \"2022-05-07T00:00:00\", \"weekday\": \"Saturday\", \"month\": \"May\", \"total_num_sched\": 870, \"total_num_vp\": 604, \"pct_w_vp\": 0.6942528735632184}, {\"calitp_itp_id\": 300, \"agency_name\": \"Big Blue Bus\", \"calitp_url_number\": 0, \"service_date\": \"2022-05-08T00:00:00\", \"weekday\": \"Sunday\", \"month\": \"May\", \"total_num_sched\": 770, \"total_num_vp\": 501, \"pct_w_vp\": 0.6506493506493507}, {\"calitp_itp_id\": 300, \"agency_name\": \"Big Blue Bus\", \"calitp_url_number\": 0, \"service_date\": \"2022-05-09T00:00:00\", \"weekday\": \"Monday\", \"month\": \"May\", \"total_num_sched\": 1516, \"total_num_vp\": 1053, \"pct_w_vp\": 0.6945910290237467}, {\"calitp_itp_id\": 300, \"agency_name\": \"Big Blue Bus\", \"calitp_url_number\": 0, \"service_date\": \"2022-05-10T00:00:00\", \"weekday\": \"Tuesday\", \"month\": \"May\", \"total_num_sched\": 1516, \"total_num_vp\": 1380, \"pct_w_vp\": 0.9102902374670184}, {\"calitp_itp_id\": 300, \"agency_name\": \"Big Blue Bus\", \"calitp_url_number\": 0, \"service_date\": \"2022-05-11T00:00:00\", \"weekday\": \"Wednesday\", \"month\": \"May\", \"total_num_sched\": 1516, \"total_num_vp\": 1381, \"pct_w_vp\": 0.9109498680738787}, {\"calitp_itp_id\": 300, \"agency_name\": \"Big Blue Bus\", \"calitp_url_number\": 0, \"service_date\": \"2022-05-12T00:00:00\", \"weekday\": \"Thursday\", \"month\": \"May\", \"total_num_sched\": 1516, \"total_num_vp\": 1380, \"pct_w_vp\": 0.9102902374670184}, {\"calitp_itp_id\": 300, \"agency_name\": \"Big Blue Bus\", \"calitp_url_number\": 0, \"service_date\": \"2022-05-13T00:00:00\", \"weekday\": \"Friday\", \"month\": \"May\", \"total_num_sched\": 1464, \"total_num_vp\": 1343, \"pct_w_vp\": 0.9173497267759563}, {\"calitp_itp_id\": 300, \"agency_name\": \"Big Blue Bus\", \"calitp_url_number\": 0, \"service_date\": \"2022-05-14T00:00:00\", \"weekday\": \"Saturday\", \"month\": \"May\", \"total_num_sched\": 870, \"total_num_vp\": 600, \"pct_w_vp\": 0.6896551724137931}, {\"calitp_itp_id\": 300, \"agency_name\": \"Big Blue Bus\", \"calitp_url_number\": 0, \"service_date\": \"2022-05-15T00:00:00\", \"weekday\": \"Sunday\", \"month\": \"May\", \"total_num_sched\": 770, \"total_num_vp\": 526, \"pct_w_vp\": 0.6831168831168831}, {\"calitp_itp_id\": 300, \"agency_name\": \"Big Blue Bus\", \"calitp_url_number\": 0, \"service_date\": \"2022-05-16T00:00:00\", \"weekday\": \"Monday\", \"month\": \"May\", \"total_num_sched\": 1516, \"total_num_vp\": 1028, \"pct_w_vp\": 0.6781002638522428}, {\"calitp_itp_id\": 300, \"agency_name\": \"Big Blue Bus\", \"calitp_url_number\": 0, \"service_date\": \"2022-05-17T00:00:00\", \"weekday\": \"Tuesday\", \"month\": \"May\", \"total_num_sched\": 1516, \"total_num_vp\": 1373, \"pct_w_vp\": 0.9056728232189973}, {\"calitp_itp_id\": 300, \"agency_name\": \"Big Blue Bus\", \"calitp_url_number\": 0, \"service_date\": \"2022-05-18T00:00:00\", \"weekday\": \"Wednesday\", \"month\": \"May\", \"total_num_sched\": 1516, \"total_num_vp\": 1377, \"pct_w_vp\": 0.908311345646438}, {\"calitp_itp_id\": 300, \"agency_name\": \"Big Blue Bus\", \"calitp_url_number\": 0, \"service_date\": \"2022-05-19T00:00:00\", \"weekday\": \"Thursday\", \"month\": \"May\", \"total_num_sched\": 1516, \"total_num_vp\": 1367, \"pct_w_vp\": 0.9017150395778364}, {\"calitp_itp_id\": 300, \"agency_name\": \"Big Blue Bus\", \"calitp_url_number\": 0, \"service_date\": \"2022-05-20T00:00:00\", \"weekday\": \"Friday\", \"month\": \"May\", \"total_num_sched\": 1464, \"total_num_vp\": 1366, \"pct_w_vp\": 0.9330601092896175}, {\"calitp_itp_id\": 300, \"agency_name\": \"Big Blue Bus\", \"calitp_url_number\": 0, \"service_date\": \"2022-05-21T00:00:00\", \"weekday\": \"Saturday\", \"month\": \"May\", \"total_num_sched\": 870, \"total_num_vp\": 635, \"pct_w_vp\": 0.7298850574712644}, {\"calitp_itp_id\": 300, \"agency_name\": \"Big Blue Bus\", \"calitp_url_number\": 0, \"service_date\": \"2022-05-22T00:00:00\", \"weekday\": \"Sunday\", \"month\": \"May\", \"total_num_sched\": 770, \"total_num_vp\": 543, \"pct_w_vp\": 0.7051948051948052}, {\"calitp_itp_id\": 300, \"agency_name\": \"Big Blue Bus\", \"calitp_url_number\": 0, \"service_date\": \"2022-05-23T00:00:00\", \"weekday\": \"Monday\", \"month\": \"May\", \"total_num_sched\": 1516, \"total_num_vp\": 1086, \"pct_w_vp\": 0.716358839050132}, {\"calitp_itp_id\": 300, \"agency_name\": \"Big Blue Bus\", \"calitp_url_number\": 0, \"service_date\": \"2022-05-24T00:00:00\", \"weekday\": \"Tuesday\", \"month\": \"May\", \"total_num_sched\": 1516, \"total_num_vp\": 1370, \"pct_w_vp\": 0.9036939313984169}, {\"calitp_itp_id\": 300, \"agency_name\": \"Big Blue Bus\", \"calitp_url_number\": 0, \"service_date\": \"2022-05-25T00:00:00\", \"weekday\": \"Wednesday\", \"month\": \"May\", \"total_num_sched\": 1516, \"total_num_vp\": 1348, \"pct_w_vp\": 0.8891820580474934}, {\"calitp_itp_id\": 300, \"agency_name\": \"Big Blue Bus\", \"calitp_url_number\": 0, \"service_date\": \"2022-05-26T00:00:00\", \"weekday\": \"Thursday\", \"month\": \"May\", \"total_num_sched\": 1516, \"total_num_vp\": 1394, \"pct_w_vp\": 0.9195250659630607}, {\"calitp_itp_id\": 300, \"agency_name\": \"Big Blue Bus\", \"calitp_url_number\": 0, \"service_date\": \"2022-05-27T00:00:00\", \"weekday\": \"Friday\", \"month\": \"May\", \"total_num_sched\": 1466, \"total_num_vp\": 1320, \"pct_w_vp\": 0.9004092769440655}, {\"calitp_itp_id\": 300, \"agency_name\": \"Big Blue Bus\", \"calitp_url_number\": 0, \"service_date\": \"2022-05-28T00:00:00\", \"weekday\": \"Saturday\", \"month\": \"May\", \"total_num_sched\": 870, \"total_num_vp\": 612, \"pct_w_vp\": 0.7034482758620689}, {\"calitp_itp_id\": 300, \"agency_name\": \"Big Blue Bus\", \"calitp_url_number\": 0, \"service_date\": \"2022-05-29T00:00:00\", \"weekday\": \"Sunday\", \"month\": \"May\", \"total_num_sched\": 770, \"total_num_vp\": 556, \"pct_w_vp\": 0.7220779220779221}, {\"calitp_itp_id\": 300, \"agency_name\": \"Big Blue Bus\", \"calitp_url_number\": 0, \"service_date\": \"2022-05-30T00:00:00\", \"weekday\": \"Monday\", \"month\": \"May\", \"total_num_sched\": 770, \"total_num_vp\": 741, \"pct_w_vp\": 0.9623376623376624}, {\"calitp_itp_id\": 300, \"agency_name\": \"Big Blue Bus\", \"calitp_url_number\": 0, \"service_date\": \"2022-05-31T00:00:00\", \"weekday\": \"Tuesday\", \"month\": \"May\", \"total_num_sched\": 1516, \"total_num_vp\": 1067, \"pct_w_vp\": 0.7038258575197889}, {\"calitp_itp_id\": 300, \"agency_name\": \"Big Blue Bus\", \"calitp_url_number\": 0, \"service_date\": \"2022-06-01T00:00:00\", \"weekday\": \"Wednesday\", \"month\": \"June\", \"total_num_sched\": 1516, \"total_num_vp\": 1366, \"pct_w_vp\": 0.9010554089709762}, {\"calitp_itp_id\": 300, \"agency_name\": \"Big Blue Bus\", \"calitp_url_number\": 0, \"service_date\": \"2022-06-02T00:00:00\", \"weekday\": \"Thursday\", \"month\": \"June\", \"total_num_sched\": 1516, \"total_num_vp\": 1360, \"pct_w_vp\": 0.8970976253298153}, {\"calitp_itp_id\": 300, \"agency_name\": \"Big Blue Bus\", \"calitp_url_number\": 0, \"service_date\": \"2022-06-03T00:00:00\", \"weekday\": \"Friday\", \"month\": \"June\", \"total_num_sched\": 1516, \"total_num_vp\": 1294, \"pct_w_vp\": 0.8535620052770448}, {\"calitp_itp_id\": 300, \"agency_name\": \"Big Blue Bus\", \"calitp_url_number\": 0, \"service_date\": \"2022-06-04T00:00:00\", \"weekday\": \"Saturday\", \"month\": \"June\", \"total_num_sched\": 870, \"total_num_vp\": 610, \"pct_w_vp\": 0.7011494252873564}, {\"calitp_itp_id\": 300, \"agency_name\": \"Big Blue Bus\", \"calitp_url_number\": 0, \"service_date\": \"2022-06-05T00:00:00\", \"weekday\": \"Sunday\", \"month\": \"June\", \"total_num_sched\": 770, \"total_num_vp\": 554, \"pct_w_vp\": 0.7194805194805195}, {\"calitp_itp_id\": 300, \"agency_name\": \"Big Blue Bus\", \"calitp_url_number\": 0, \"service_date\": \"2022-06-06T00:00:00\", \"weekday\": \"Monday\", \"month\": \"June\", \"total_num_sched\": 1516, \"total_num_vp\": 1044, \"pct_w_vp\": 0.6886543535620053}, {\"calitp_itp_id\": 300, \"agency_name\": \"Big Blue Bus\", \"calitp_url_number\": 0, \"service_date\": \"2022-06-07T00:00:00\", \"weekday\": \"Tuesday\", \"month\": \"June\", \"total_num_sched\": 1516, \"total_num_vp\": 1338, \"pct_w_vp\": 0.8825857519788918}, {\"calitp_itp_id\": 300, \"agency_name\": \"Big Blue Bus\", \"calitp_url_number\": 0, \"service_date\": \"2022-06-08T00:00:00\", \"weekday\": \"Wednesday\", \"month\": \"June\", \"total_num_sched\": 1516, \"total_num_vp\": 1322, \"pct_w_vp\": 0.8720316622691293}, {\"calitp_itp_id\": 300, \"agency_name\": \"Big Blue Bus\", \"calitp_url_number\": 0, \"service_date\": \"2022-06-09T00:00:00\", \"weekday\": \"Thursday\", \"month\": \"June\", \"total_num_sched\": 1514, \"total_num_vp\": 1337, \"pct_w_vp\": 0.8830911492734478}, {\"calitp_itp_id\": 300, \"agency_name\": \"Big Blue Bus\", \"calitp_url_number\": 0, \"service_date\": \"2022-06-10T00:00:00\", \"weekday\": \"Friday\", \"month\": \"June\", \"total_num_sched\": 1463, \"total_num_vp\": 1293, \"pct_w_vp\": 0.8838004101161996}, {\"calitp_itp_id\": 300, \"agency_name\": \"Big Blue Bus\", \"calitp_url_number\": 0, \"service_date\": \"2022-06-11T00:00:00\", \"weekday\": \"Saturday\", \"month\": \"June\", \"total_num_sched\": 870, \"total_num_vp\": 584, \"pct_w_vp\": 0.671264367816092}, {\"calitp_itp_id\": 300, \"agency_name\": \"Big Blue Bus\", \"calitp_url_number\": 0, \"service_date\": \"2022-06-12T00:00:00\", \"weekday\": \"Sunday\", \"month\": \"June\", \"total_num_sched\": 770, \"total_num_vp\": 533, \"pct_w_vp\": 0.6922077922077922}, {\"calitp_itp_id\": 300, \"agency_name\": \"Big Blue Bus\", \"calitp_url_number\": 0, \"service_date\": \"2022-06-13T00:00:00\", \"weekday\": \"Monday\", \"month\": \"June\", \"total_num_sched\": 1513, \"total_num_vp\": 1060, \"pct_w_vp\": 0.7005948446794448}, {\"calitp_itp_id\": 300, \"agency_name\": \"Big Blue Bus\", \"calitp_url_number\": 0, \"service_date\": \"2022-06-14T00:00:00\", \"weekday\": \"Tuesday\", \"month\": \"June\", \"total_num_sched\": 1513, \"total_num_vp\": 1336, \"pct_w_vp\": 0.8830138797091871}, {\"calitp_itp_id\": 300, \"agency_name\": \"Big Blue Bus\", \"calitp_url_number\": 0, \"service_date\": \"2022-06-15T00:00:00\", \"weekday\": \"Wednesday\", \"month\": \"June\", \"total_num_sched\": 1409, \"total_num_vp\": 1341, \"pct_w_vp\": 0.9517388218594748}, {\"calitp_itp_id\": 300, \"agency_name\": \"Big Blue Bus\", \"calitp_url_number\": 0, \"service_date\": \"2022-06-16T00:00:00\", \"weekday\": \"Thursday\", \"month\": \"June\", \"total_num_sched\": 1409, \"total_num_vp\": 1382, \"pct_w_vp\": 0.9808374733853797}, {\"calitp_itp_id\": 300, \"agency_name\": \"Big Blue Bus\", \"calitp_url_number\": 0, \"service_date\": \"2022-06-17T00:00:00\", \"weekday\": \"Friday\", \"month\": \"June\", \"total_num_sched\": 1409, \"total_num_vp\": 1400, \"pct_w_vp\": 0.99361249112846}, {\"calitp_itp_id\": 300, \"agency_name\": \"Big Blue Bus\", \"calitp_url_number\": 0, \"service_date\": \"2022-06-18T00:00:00\", \"weekday\": \"Saturday\", \"month\": \"June\", \"total_num_sched\": 870, \"total_num_vp\": 633, \"pct_w_vp\": 0.7275862068965517}, {\"calitp_itp_id\": 300, \"agency_name\": \"Big Blue Bus\", \"calitp_url_number\": 0, \"service_date\": \"2022-06-19T00:00:00\", \"weekday\": \"Sunday\", \"month\": \"June\", \"total_num_sched\": 770, \"total_num_vp\": 524, \"pct_w_vp\": 0.6805194805194805}, {\"calitp_itp_id\": 300, \"agency_name\": \"Big Blue Bus\", \"calitp_url_number\": 0, \"service_date\": \"2022-06-20T00:00:00\", \"weekday\": \"Monday\", \"month\": \"June\", \"total_num_sched\": 1461, \"total_num_vp\": 1077, \"pct_w_vp\": 0.7371663244353183}, {\"calitp_itp_id\": 300, \"agency_name\": \"Big Blue Bus\", \"calitp_url_number\": 0, \"service_date\": \"2022-06-21T00:00:00\", \"weekday\": \"Tuesday\", \"month\": \"June\", \"total_num_sched\": 1461, \"total_num_vp\": 1381, \"pct_w_vp\": 0.945242984257358}, {\"calitp_itp_id\": 300, \"agency_name\": \"Big Blue Bus\", \"calitp_url_number\": 0, \"service_date\": \"2022-06-22T00:00:00\", \"weekday\": \"Wednesday\", \"month\": \"June\", \"total_num_sched\": 1461, \"total_num_vp\": 1376, \"pct_w_vp\": 0.9418206707734429}, {\"calitp_itp_id\": 300, \"agency_name\": \"Big Blue Bus\", \"calitp_url_number\": 0, \"service_date\": \"2022-06-23T00:00:00\", \"weekday\": \"Thursday\", \"month\": \"June\", \"total_num_sched\": 1461, \"total_num_vp\": 1384, \"pct_w_vp\": 0.947296372347707}, {\"calitp_itp_id\": 300, \"agency_name\": \"Big Blue Bus\", \"calitp_url_number\": 0, \"service_date\": \"2022-06-24T00:00:00\", \"weekday\": \"Friday\", \"month\": \"June\", \"total_num_sched\": 1461, \"total_num_vp\": 1320, \"pct_w_vp\": 0.9034907597535934}, {\"calitp_itp_id\": 300, \"agency_name\": \"Big Blue Bus\", \"calitp_url_number\": 0, \"service_date\": \"2022-06-25T00:00:00\", \"weekday\": \"Saturday\", \"month\": \"June\", \"total_num_sched\": 870, \"total_num_vp\": 581, \"pct_w_vp\": 0.667816091954023}, {\"calitp_itp_id\": 300, \"agency_name\": \"Big Blue Bus\", \"calitp_url_number\": 0, \"service_date\": \"2022-06-26T00:00:00\", \"weekday\": \"Sunday\", \"month\": \"June\", \"total_num_sched\": 770, \"total_num_vp\": 498, \"pct_w_vp\": 0.6467532467532467}, {\"calitp_itp_id\": 300, \"agency_name\": \"Big Blue Bus\", \"calitp_url_number\": 0, \"service_date\": \"2022-06-27T00:00:00\", \"weekday\": \"Monday\", \"month\": \"June\", \"total_num_sched\": 1461, \"total_num_vp\": 1013, \"pct_w_vp\": 0.6933607118412046}, {\"calitp_itp_id\": 300, \"agency_name\": \"Big Blue Bus\", \"calitp_url_number\": 0, \"service_date\": \"2022-06-28T00:00:00\", \"weekday\": \"Tuesday\", \"month\": \"June\", \"total_num_sched\": 1461, \"total_num_vp\": 1359, \"pct_w_vp\": 0.9301848049281314}, {\"calitp_itp_id\": 300, \"agency_name\": \"Big Blue Bus\", \"calitp_url_number\": 0, \"service_date\": \"2022-06-29T00:00:00\", \"weekday\": \"Wednesday\", \"month\": \"June\", \"total_num_sched\": 1461, \"total_num_vp\": 1367, \"pct_w_vp\": 0.9356605065023956}, {\"calitp_itp_id\": 300, \"agency_name\": \"Big Blue Bus\", \"calitp_url_number\": 0, \"service_date\": \"2022-06-30T00:00:00\", \"weekday\": \"Thursday\", \"month\": \"June\", \"total_num_sched\": 1461, \"total_num_vp\": 1374, \"pct_w_vp\": 0.9404517453798767}], \"data-22af8eef9a09301db1e093e0d1c5e673\": [{\"calitp_itp_id\": 300, \"agency_name\": \"Big Blue Bus\", \"calitp_url_number\": 0, \"service_date\": \"2022-05-01T00:00:00\", \"weekday\": \"Sunday\", \"month\": \"May\", \"total_num_sched\": 770, \"total_num_vp\": 526, \"pct_w_vp\": 0.6831168831168831}, {\"calitp_itp_id\": 300, \"agency_name\": \"Big Blue Bus\", \"calitp_url_number\": 0, \"service_date\": \"2022-05-02T00:00:00\", \"weekday\": \"Monday\", \"month\": \"May\", \"total_num_sched\": 1516, \"total_num_vp\": 1066, \"pct_w_vp\": 0.7031662269129287}, {\"calitp_itp_id\": 300, \"agency_name\": \"Big Blue Bus\", \"calitp_url_number\": 0, \"service_date\": \"2022-05-03T00:00:00\", \"weekday\": \"Tuesday\", \"month\": \"May\", \"total_num_sched\": 1516, \"total_num_vp\": 1365, \"pct_w_vp\": 0.9003957783641161}, {\"calitp_itp_id\": 300, \"agency_name\": \"Big Blue Bus\", \"calitp_url_number\": 0, \"service_date\": \"2022-05-04T00:00:00\", \"weekday\": \"Wednesday\", \"month\": \"May\", \"total_num_sched\": 1516, \"total_num_vp\": 1381, \"pct_w_vp\": 0.9109498680738787}, {\"calitp_itp_id\": 300, \"agency_name\": \"Big Blue Bus\", \"calitp_url_number\": 0, \"service_date\": \"2022-05-05T00:00:00\", \"weekday\": \"Thursday\", \"month\": \"May\", \"total_num_sched\": 1516, \"total_num_vp\": 1343, \"pct_w_vp\": 0.8858839050131926}, {\"calitp_itp_id\": 300, \"agency_name\": \"Big Blue Bus\", \"calitp_url_number\": 0, \"service_date\": \"2022-05-06T00:00:00\", \"weekday\": \"Friday\", \"month\": \"May\", \"total_num_sched\": 1464, \"total_num_vp\": 1295, \"pct_w_vp\": 0.8845628415300546}, {\"calitp_itp_id\": 300, \"agency_name\": \"Big Blue Bus\", \"calitp_url_number\": 0, \"service_date\": \"2022-05-07T00:00:00\", \"weekday\": \"Saturday\", \"month\": \"May\", \"total_num_sched\": 870, \"total_num_vp\": 604, \"pct_w_vp\": 0.6942528735632184}, {\"calitp_itp_id\": 300, \"agency_name\": \"Big Blue Bus\", \"calitp_url_number\": 0, \"service_date\": \"2022-05-08T00:00:00\", \"weekday\": \"Sunday\", \"month\": \"May\", \"total_num_sched\": 770, \"total_num_vp\": 501, \"pct_w_vp\": 0.6506493506493507}, {\"calitp_itp_id\": 300, \"agency_name\": \"Big Blue Bus\", \"calitp_url_number\": 0, \"service_date\": \"2022-05-09T00:00:00\", \"weekday\": \"Monday\", \"month\": \"May\", \"total_num_sched\": 1516, \"total_num_vp\": 1053, \"pct_w_vp\": 0.6945910290237467}, {\"calitp_itp_id\": 300, \"agency_name\": \"Big Blue Bus\", \"calitp_url_number\": 0, \"service_date\": \"2022-05-10T00:00:00\", \"weekday\": \"Tuesday\", \"month\": \"May\", \"total_num_sched\": 1516, \"total_num_vp\": 1380, \"pct_w_vp\": 0.9102902374670184}, {\"calitp_itp_id\": 300, \"agency_name\": \"Big Blue Bus\", \"calitp_url_number\": 0, \"service_date\": \"2022-05-11T00:00:00\", \"weekday\": \"Wednesday\", \"month\": \"May\", \"total_num_sched\": 1516, \"total_num_vp\": 1381, \"pct_w_vp\": 0.9109498680738787}, {\"calitp_itp_id\": 300, \"agency_name\": \"Big Blue Bus\", \"calitp_url_number\": 0, \"service_date\": \"2022-05-12T00:00:00\", \"weekday\": \"Thursday\", \"month\": \"May\", \"total_num_sched\": 1516, \"total_num_vp\": 1380, \"pct_w_vp\": 0.9102902374670184}, {\"calitp_itp_id\": 300, \"agency_name\": \"Big Blue Bus\", \"calitp_url_number\": 0, \"service_date\": \"2022-05-13T00:00:00\", \"weekday\": \"Friday\", \"month\": \"May\", \"total_num_sched\": 1464, \"total_num_vp\": 1343, \"pct_w_vp\": 0.9173497267759563}, {\"calitp_itp_id\": 300, \"agency_name\": \"Big Blue Bus\", \"calitp_url_number\": 0, \"service_date\": \"2022-05-14T00:00:00\", \"weekday\": \"Saturday\", \"month\": \"May\", \"total_num_sched\": 870, \"total_num_vp\": 600, \"pct_w_vp\": 0.6896551724137931}, {\"calitp_itp_id\": 300, \"agency_name\": \"Big Blue Bus\", \"calitp_url_number\": 0, \"service_date\": \"2022-05-15T00:00:00\", \"weekday\": \"Sunday\", \"month\": \"May\", \"total_num_sched\": 770, \"total_num_vp\": 526, \"pct_w_vp\": 0.6831168831168831}, {\"calitp_itp_id\": 300, \"agency_name\": \"Big Blue Bus\", \"calitp_url_number\": 0, \"service_date\": \"2022-05-16T00:00:00\", \"weekday\": \"Monday\", \"month\": \"May\", \"total_num_sched\": 1516, \"total_num_vp\": 1028, \"pct_w_vp\": 0.6781002638522428}, {\"calitp_itp_id\": 300, \"agency_name\": \"Big Blue Bus\", \"calitp_url_number\": 0, \"service_date\": \"2022-05-17T00:00:00\", \"weekday\": \"Tuesday\", \"month\": \"May\", \"total_num_sched\": 1516, \"total_num_vp\": 1373, \"pct_w_vp\": 0.9056728232189973}, {\"calitp_itp_id\": 300, \"agency_name\": \"Big Blue Bus\", \"calitp_url_number\": 0, \"service_date\": \"2022-05-18T00:00:00\", \"weekday\": \"Wednesday\", \"month\": \"May\", \"total_num_sched\": 1516, \"total_num_vp\": 1377, \"pct_w_vp\": 0.908311345646438}, {\"calitp_itp_id\": 300, \"agency_name\": \"Big Blue Bus\", \"calitp_url_number\": 0, \"service_date\": \"2022-05-19T00:00:00\", \"weekday\": \"Thursday\", \"month\": \"May\", \"total_num_sched\": 1516, \"total_num_vp\": 1367, \"pct_w_vp\": 0.9017150395778364}, {\"calitp_itp_id\": 300, \"agency_name\": \"Big Blue Bus\", \"calitp_url_number\": 0, \"service_date\": \"2022-05-20T00:00:00\", \"weekday\": \"Friday\", \"month\": \"May\", \"total_num_sched\": 1464, \"total_num_vp\": 1366, \"pct_w_vp\": 0.9330601092896175}, {\"calitp_itp_id\": 300, \"agency_name\": \"Big Blue Bus\", \"calitp_url_number\": 0, \"service_date\": \"2022-05-21T00:00:00\", \"weekday\": \"Saturday\", \"month\": \"May\", \"total_num_sched\": 870, \"total_num_vp\": 635, \"pct_w_vp\": 0.7298850574712644}, {\"calitp_itp_id\": 300, \"agency_name\": \"Big Blue Bus\", \"calitp_url_number\": 0, \"service_date\": \"2022-05-22T00:00:00\", \"weekday\": \"Sunday\", \"month\": \"May\", \"total_num_sched\": 770, \"total_num_vp\": 543, \"pct_w_vp\": 0.7051948051948052}, {\"calitp_itp_id\": 300, \"agency_name\": \"Big Blue Bus\", \"calitp_url_number\": 0, \"service_date\": \"2022-05-23T00:00:00\", \"weekday\": \"Monday\", \"month\": \"May\", \"total_num_sched\": 1516, \"total_num_vp\": 1086, \"pct_w_vp\": 0.716358839050132}, {\"calitp_itp_id\": 300, \"agency_name\": \"Big Blue Bus\", \"calitp_url_number\": 0, \"service_date\": \"2022-05-24T00:00:00\", \"weekday\": \"Tuesday\", \"month\": \"May\", \"total_num_sched\": 1516, \"total_num_vp\": 1370, \"pct_w_vp\": 0.9036939313984169}, {\"calitp_itp_id\": 300, \"agency_name\": \"Big Blue Bus\", \"calitp_url_number\": 0, \"service_date\": \"2022-05-25T00:00:00\", \"weekday\": \"Wednesday\", \"month\": \"May\", \"total_num_sched\": 1516, \"total_num_vp\": 1348, \"pct_w_vp\": 0.8891820580474934}, {\"calitp_itp_id\": 300, \"agency_name\": \"Big Blue Bus\", \"calitp_url_number\": 0, \"service_date\": \"2022-05-26T00:00:00\", \"weekday\": \"Thursday\", \"month\": \"May\", \"total_num_sched\": 1516, \"total_num_vp\": 1394, \"pct_w_vp\": 0.9195250659630607}, {\"calitp_itp_id\": 300, \"agency_name\": \"Big Blue Bus\", \"calitp_url_number\": 0, \"service_date\": \"2022-05-27T00:00:00\", \"weekday\": \"Friday\", \"month\": \"May\", \"total_num_sched\": 1466, \"total_num_vp\": 1320, \"pct_w_vp\": 0.9004092769440655}, {\"calitp_itp_id\": 300, \"agency_name\": \"Big Blue Bus\", \"calitp_url_number\": 0, \"service_date\": \"2022-05-28T00:00:00\", \"weekday\": \"Saturday\", \"month\": \"May\", \"total_num_sched\": 870, \"total_num_vp\": 612, \"pct_w_vp\": 0.7034482758620689}, {\"calitp_itp_id\": 300, \"agency_name\": \"Big Blue Bus\", \"calitp_url_number\": 0, \"service_date\": \"2022-05-29T00:00:00\", \"weekday\": \"Sunday\", \"month\": \"May\", \"total_num_sched\": 770, \"total_num_vp\": 556, \"pct_w_vp\": 0.7220779220779221}, {\"calitp_itp_id\": 300, \"agency_name\": \"Big Blue Bus\", \"calitp_url_number\": 0, \"service_date\": \"2022-05-30T00:00:00\", \"weekday\": \"Monday\", \"month\": \"May\", \"total_num_sched\": 770, \"total_num_vp\": 741, \"pct_w_vp\": 0.9623376623376624}, {\"calitp_itp_id\": 300, \"agency_name\": \"Big Blue Bus\", \"calitp_url_number\": 0, \"service_date\": \"2022-05-31T00:00:00\", \"weekday\": \"Tuesday\", \"month\": \"May\", \"total_num_sched\": 1516, \"total_num_vp\": 1067, \"pct_w_vp\": 0.7038258575197889}, {\"calitp_itp_id\": 300, \"agency_name\": \"Big Blue Bus\", \"calitp_url_number\": 0, \"service_date\": \"2022-06-01T00:00:00\", \"weekday\": \"Wednesday\", \"month\": \"June\", \"total_num_sched\": 1516, \"total_num_vp\": 1366, \"pct_w_vp\": 0.9010554089709762}, {\"calitp_itp_id\": 300, \"agency_name\": \"Big Blue Bus\", \"calitp_url_number\": 0, \"service_date\": \"2022-06-02T00:00:00\", \"weekday\": \"Thursday\", \"month\": \"June\", \"total_num_sched\": 1516, \"total_num_vp\": 1360, \"pct_w_vp\": 0.8970976253298153}, {\"calitp_itp_id\": 300, \"agency_name\": \"Big Blue Bus\", \"calitp_url_number\": 0, \"service_date\": \"2022-06-03T00:00:00\", \"weekday\": \"Friday\", \"month\": \"June\", \"total_num_sched\": 1516, \"total_num_vp\": 1294, \"pct_w_vp\": 0.8535620052770448}, {\"calitp_itp_id\": 300, \"agency_name\": \"Big Blue Bus\", \"calitp_url_number\": 0, \"service_date\": \"2022-06-04T00:00:00\", \"weekday\": \"Saturday\", \"month\": \"June\", \"total_num_sched\": 870, \"total_num_vp\": 610, \"pct_w_vp\": 0.7011494252873564}, {\"calitp_itp_id\": 300, \"agency_name\": \"Big Blue Bus\", \"calitp_url_number\": 0, \"service_date\": \"2022-06-05T00:00:00\", \"weekday\": \"Sunday\", \"month\": \"June\", \"total_num_sched\": 770, \"total_num_vp\": 554, \"pct_w_vp\": 0.7194805194805195}, {\"calitp_itp_id\": 300, \"agency_name\": \"Big Blue Bus\", \"calitp_url_number\": 0, \"service_date\": \"2022-06-06T00:00:00\", \"weekday\": \"Monday\", \"month\": \"June\", \"total_num_sched\": 1516, \"total_num_vp\": 1044, \"pct_w_vp\": 0.6886543535620053}, {\"calitp_itp_id\": 300, \"agency_name\": \"Big Blue Bus\", \"calitp_url_number\": 0, \"service_date\": \"2022-06-07T00:00:00\", \"weekday\": \"Tuesday\", \"month\": \"June\", \"total_num_sched\": 1516, \"total_num_vp\": 1338, \"pct_w_vp\": 0.8825857519788918}, {\"calitp_itp_id\": 300, \"agency_name\": \"Big Blue Bus\", \"calitp_url_number\": 0, \"service_date\": \"2022-06-08T00:00:00\", \"weekday\": \"Wednesday\", \"month\": \"June\", \"total_num_sched\": 1516, \"total_num_vp\": 1322, \"pct_w_vp\": 0.8720316622691293}, {\"calitp_itp_id\": 300, \"agency_name\": \"Big Blue Bus\", \"calitp_url_number\": 0, \"service_date\": \"2022-06-09T00:00:00\", \"weekday\": \"Thursday\", \"month\": \"June\", \"total_num_sched\": 1514, \"total_num_vp\": 1337, \"pct_w_vp\": 0.8830911492734478}, {\"calitp_itp_id\": 300, \"agency_name\": \"Big Blue Bus\", \"calitp_url_number\": 0, \"service_date\": \"2022-06-10T00:00:00\", \"weekday\": \"Friday\", \"month\": \"June\", \"total_num_sched\": 1463, \"total_num_vp\": 1293, \"pct_w_vp\": 0.8838004101161996}, {\"calitp_itp_id\": 300, \"agency_name\": \"Big Blue Bus\", \"calitp_url_number\": 0, \"service_date\": \"2022-06-11T00:00:00\", \"weekday\": \"Saturday\", \"month\": \"June\", \"total_num_sched\": 870, \"total_num_vp\": 584, \"pct_w_vp\": 0.671264367816092}, {\"calitp_itp_id\": 300, \"agency_name\": \"Big Blue Bus\", \"calitp_url_number\": 0, \"service_date\": \"2022-06-12T00:00:00\", \"weekday\": \"Sunday\", \"month\": \"June\", \"total_num_sched\": 770, \"total_num_vp\": 533, \"pct_w_vp\": 0.6922077922077922}, {\"calitp_itp_id\": 300, \"agency_name\": \"Big Blue Bus\", \"calitp_url_number\": 0, \"service_date\": \"2022-06-13T00:00:00\", \"weekday\": \"Monday\", \"month\": \"June\", \"total_num_sched\": 1513, \"total_num_vp\": 1060, \"pct_w_vp\": 0.7005948446794448}, {\"calitp_itp_id\": 300, \"agency_name\": \"Big Blue Bus\", \"calitp_url_number\": 0, \"service_date\": \"2022-06-14T00:00:00\", \"weekday\": \"Tuesday\", \"month\": \"June\", \"total_num_sched\": 1513, \"total_num_vp\": 1336, \"pct_w_vp\": 0.8830138797091871}, {\"calitp_itp_id\": 300, \"agency_name\": \"Big Blue Bus\", \"calitp_url_number\": 0, \"service_date\": \"2022-06-15T00:00:00\", \"weekday\": \"Wednesday\", \"month\": \"June\", \"total_num_sched\": 1409, \"total_num_vp\": 1341, \"pct_w_vp\": 0.9517388218594748}, {\"calitp_itp_id\": 300, \"agency_name\": \"Big Blue Bus\", \"calitp_url_number\": 0, \"service_date\": \"2022-06-16T00:00:00\", \"weekday\": \"Thursday\", \"month\": \"June\", \"total_num_sched\": 1409, \"total_num_vp\": 1382, \"pct_w_vp\": 0.9808374733853797}, {\"calitp_itp_id\": 300, \"agency_name\": \"Big Blue Bus\", \"calitp_url_number\": 0, \"service_date\": \"2022-06-17T00:00:00\", \"weekday\": \"Friday\", \"month\": \"June\", \"total_num_sched\": 1409, \"total_num_vp\": 1400, \"pct_w_vp\": 0.99361249112846}, {\"calitp_itp_id\": 300, \"agency_name\": \"Big Blue Bus\", \"calitp_url_number\": 0, \"service_date\": \"2022-06-18T00:00:00\", \"weekday\": \"Saturday\", \"month\": \"June\", \"total_num_sched\": 870, \"total_num_vp\": 633, \"pct_w_vp\": 0.7275862068965517}, {\"calitp_itp_id\": 300, \"agency_name\": \"Big Blue Bus\", \"calitp_url_number\": 0, \"service_date\": \"2022-06-19T00:00:00\", \"weekday\": \"Sunday\", \"month\": \"June\", \"total_num_sched\": 770, \"total_num_vp\": 524, \"pct_w_vp\": 0.6805194805194805}, {\"calitp_itp_id\": 300, \"agency_name\": \"Big Blue Bus\", \"calitp_url_number\": 0, \"service_date\": \"2022-06-20T00:00:00\", \"weekday\": \"Monday\", \"month\": \"June\", \"total_num_sched\": 1461, \"total_num_vp\": 1077, \"pct_w_vp\": 0.7371663244353183}, {\"calitp_itp_id\": 300, \"agency_name\": \"Big Blue Bus\", \"calitp_url_number\": 0, \"service_date\": \"2022-06-21T00:00:00\", \"weekday\": \"Tuesday\", \"month\": \"June\", \"total_num_sched\": 1461, \"total_num_vp\": 1381, \"pct_w_vp\": 0.945242984257358}, {\"calitp_itp_id\": 300, \"agency_name\": \"Big Blue Bus\", \"calitp_url_number\": 0, \"service_date\": \"2022-06-22T00:00:00\", \"weekday\": \"Wednesday\", \"month\": \"June\", \"total_num_sched\": 1461, \"total_num_vp\": 1376, \"pct_w_vp\": 0.9418206707734429}, {\"calitp_itp_id\": 300, \"agency_name\": \"Big Blue Bus\", \"calitp_url_number\": 0, \"service_date\": \"2022-06-23T00:00:00\", \"weekday\": \"Thursday\", \"month\": \"June\", \"total_num_sched\": 1461, \"total_num_vp\": 1384, \"pct_w_vp\": 0.947296372347707}, {\"calitp_itp_id\": 300, \"agency_name\": \"Big Blue Bus\", \"calitp_url_number\": 0, \"service_date\": \"2022-06-24T00:00:00\", \"weekday\": \"Friday\", \"month\": \"June\", \"total_num_sched\": 1461, \"total_num_vp\": 1320, \"pct_w_vp\": 0.9034907597535934}, {\"calitp_itp_id\": 300, \"agency_name\": \"Big Blue Bus\", \"calitp_url_number\": 0, \"service_date\": \"2022-06-25T00:00:00\", \"weekday\": \"Saturday\", \"month\": \"June\", \"total_num_sched\": 870, \"total_num_vp\": 581, \"pct_w_vp\": 0.667816091954023}, {\"calitp_itp_id\": 300, \"agency_name\": \"Big Blue Bus\", \"calitp_url_number\": 0, \"service_date\": \"2022-06-26T00:00:00\", \"weekday\": \"Sunday\", \"month\": \"June\", \"total_num_sched\": 770, \"total_num_vp\": 498, \"pct_w_vp\": 0.6467532467532467}, {\"calitp_itp_id\": 300, \"agency_name\": \"Big Blue Bus\", \"calitp_url_number\": 0, \"service_date\": \"2022-06-27T00:00:00\", \"weekday\": \"Monday\", \"month\": \"June\", \"total_num_sched\": 1461, \"total_num_vp\": 1013, \"pct_w_vp\": 0.6933607118412046}, {\"calitp_itp_id\": 300, \"agency_name\": \"Big Blue Bus\", \"calitp_url_number\": 0, \"service_date\": \"2022-06-28T00:00:00\", \"weekday\": \"Tuesday\", \"month\": \"June\", \"total_num_sched\": 1461, \"total_num_vp\": 1359, \"pct_w_vp\": 0.9301848049281314}, {\"calitp_itp_id\": 300, \"agency_name\": \"Big Blue Bus\", \"calitp_url_number\": 0, \"service_date\": \"2022-06-29T00:00:00\", \"weekday\": \"Wednesday\", \"month\": \"June\", \"total_num_sched\": 1461, \"total_num_vp\": 1367, \"pct_w_vp\": 0.9356605065023956}, {\"calitp_itp_id\": 300, \"agency_name\": \"Big Blue Bus\", \"calitp_url_number\": 0, \"service_date\": \"2022-06-30T00:00:00\", \"weekday\": \"Thursday\", \"month\": \"June\", \"total_num_sched\": 1461, \"total_num_vp\": 1374, \"pct_w_vp\": 0.9404517453798767}]}}, {\"mode\": \"vega-lite\"});\n",
       "</script>"
      ],
      "text/plain": [
       "alt.LayerChart(...)"
      ]
     },
     "execution_count": 27,
     "metadata": {},
     "output_type": "execute_result"
    }
   ],
   "source": [
    "base = alt.Chart(day_pct).properties(width=550)\n",
    "line = base.mark_trail().encode(\n",
    "    x=alt.X('service_date', title=utils.labeling('service_date'), sort=(\"x\")),\n",
    "    y=alt.Y('pct_w_vp', title=utils.labeling('pct_w_vp')),\n",
    "    color='agency_name',\n",
    "    size='pct_w_vp:Q'\n",
    ")\n",
    "\n",
    "# mean line\n",
    "rule = (alt.Chart(day_pct>>filter(_.calitp_itp_id==bbb)).mark_rule().encode(\n",
    "    y=alt.Y('mean(pct_w_vp):Q', axis=alt.Axis(format='%')),\n",
    "    color=alt.Color('red:N',\n",
    "                    # legend=alt.Legend(values=['Average Over Time'])\n",
    "                   )))\n",
    "\n",
    "(line + rule)"
   ]
  },
  {
   "cell_type": "code",
   "execution_count": null,
   "id": "74607aa3-d1af-49de-a7cf-5bf1ae0a36f9",
   "metadata": {},
   "outputs": [],
   "source": []
  },
  {
   "cell_type": "markdown",
   "id": "8ce0f782-9e24-4594-a694-e6c5241c573d",
   "metadata": {},
   "source": [
    "## Total Number of Scheduled Trips vs Vehicle Position Trips"
   ]
  },
  {
   "cell_type": "code",
   "execution_count": 28,
   "id": "21edd362-e8ee-402b-95f7-639e0e482a88",
   "metadata": {},
   "outputs": [],
   "source": [
    "day_pct_long = day_pct.copy()\n",
    "day_pct_long = day_pct_long.rename(columns={ 'total_num_sched':'Total Number Scheduled Trips',\n",
    "                                            'total_num_vp':'Total Number Vehicle Position Trips'})\n",
    "day_pct_long =  (day_pct_long>>select(_.agency_name,\n",
    "                            _.calitp_itp_id,\n",
    "                            _.service_date,\n",
    "                         _['Total Number Scheduled Trips'],\n",
    "                         _['Total Number Vehicle Position Trips']\n",
    "                        ) \n",
    "             >> gather('measure',\n",
    "                       'value',\n",
    "                       _['Total Number Scheduled Trips'],\n",
    "                       _['Total Number Vehicle Position Trips']\n",
    "                      )\n",
    "            )"
   ]
  },
  {
   "cell_type": "code",
   "execution_count": 29,
   "id": "d3879aa9-3e07-4aaf-930b-91a54cecadc2",
   "metadata": {},
   "outputs": [
    {
     "data": {
      "text/html": [
       "\n",
       "<div id=\"altair-viz-337615d819f14083b4f2051375d2ab49\"></div>\n",
       "<script type=\"text/javascript\">\n",
       "  var VEGA_DEBUG = (typeof VEGA_DEBUG == \"undefined\") ? {} : VEGA_DEBUG;\n",
       "  (function(spec, embedOpt){\n",
       "    let outputDiv = document.currentScript.previousElementSibling;\n",
       "    if (outputDiv.id !== \"altair-viz-337615d819f14083b4f2051375d2ab49\") {\n",
       "      outputDiv = document.getElementById(\"altair-viz-337615d819f14083b4f2051375d2ab49\");\n",
       "    }\n",
       "    const paths = {\n",
       "      \"vega\": \"https://cdn.jsdelivr.net/npm//vega@5?noext\",\n",
       "      \"vega-lib\": \"https://cdn.jsdelivr.net/npm//vega-lib?noext\",\n",
       "      \"vega-lite\": \"https://cdn.jsdelivr.net/npm//vega-lite@4.17.0?noext\",\n",
       "      \"vega-embed\": \"https://cdn.jsdelivr.net/npm//vega-embed@6?noext\",\n",
       "    };\n",
       "\n",
       "    function maybeLoadScript(lib, version) {\n",
       "      var key = `${lib.replace(\"-\", \"\")}_version`;\n",
       "      return (VEGA_DEBUG[key] == version) ?\n",
       "        Promise.resolve(paths[lib]) :\n",
       "        new Promise(function(resolve, reject) {\n",
       "          var s = document.createElement('script');\n",
       "          document.getElementsByTagName(\"head\")[0].appendChild(s);\n",
       "          s.async = true;\n",
       "          s.onload = () => {\n",
       "            VEGA_DEBUG[key] = version;\n",
       "            return resolve(paths[lib]);\n",
       "          };\n",
       "          s.onerror = () => reject(`Error loading script: ${paths[lib]}`);\n",
       "          s.src = paths[lib];\n",
       "        });\n",
       "    }\n",
       "\n",
       "    function showError(err) {\n",
       "      outputDiv.innerHTML = `<div class=\"error\" style=\"color:red;\">${err}</div>`;\n",
       "      throw err;\n",
       "    }\n",
       "\n",
       "    function displayChart(vegaEmbed) {\n",
       "      vegaEmbed(outputDiv, spec, embedOpt)\n",
       "        .catch(err => showError(`Javascript Error: ${err.message}<br>This usually means there's a typo in your chart specification. See the javascript console for the full traceback.`));\n",
       "    }\n",
       "\n",
       "    if(typeof define === \"function\" && define.amd) {\n",
       "      requirejs.config({paths});\n",
       "      require([\"vega-embed\"], displayChart, err => showError(`Error loading script: ${err.message}`));\n",
       "    } else {\n",
       "      maybeLoadScript(\"vega\", \"5\")\n",
       "        .then(() => maybeLoadScript(\"vega-lite\", \"4.17.0\"))\n",
       "        .then(() => maybeLoadScript(\"vega-embed\", \"6\"))\n",
       "        .catch(showError)\n",
       "        .then(() => displayChart(vegaEmbed));\n",
       "    }\n",
       "  })({\"config\": {\"view\": {\"continuousWidth\": 400, \"continuousHeight\": 300}, \"axis\": {\"domainColor\": \"#cbcbcb\", \"grid\": true, \"gridColor\": \"#cbcbcb\", \"gridWidth\": 1, \"labelColor\": \"#474747\", \"labelFont\": \"Nunito Sans\", \"labelFontSize\": 10, \"labelPadding\": 4, \"tickColor\": \"#cbcbcb\", \"tickSize\": 10, \"titleColor\": \"#333\", \"titleFont\": \"Raleway\", \"titleFontSize\": 12, \"titlePadding\": 10}, \"axisBand\": {\"grid\": false}, \"background\": \"white\", \"font\": \"Raleway\", \"header\": {\"labelFont\": \"Nunito Sans\", \"titleFont\": \"Raleway\"}, \"legend\": {\"labelColor\": \"#333\", \"labelFont\": \"Nunito Sans\", \"labelFontSize\": 11, \"labelLimit\": 0, \"padding\": 1, \"symbolSize\": 30, \"symbolType\": \"square\", \"titleColor\": \"#333\", \"titleFont\": \"Raleway\", \"titleFontSize\": 14, \"titlePadding\": 10}, \"title\": {\"anchor\": \"middle\", \"font\": \"Raleway\", \"fontSize\": 18, \"fontWeight\": 300, \"offset\": 20}}, \"data\": {\"name\": \"data-e2aa6b5ff73549a96bfc886f82f47916\"}, \"mark\": {\"type\": \"bar\", \"size\": 8}, \"encoding\": {\"color\": {\"field\": \"measure\", \"type\": \"nominal\"}, \"tooltip\": [{\"field\": \"service_date\", \"title\": \"Service Date\", \"type\": \"temporal\"}, {\"field\": \"value\", \"title\": \"Value\", \"type\": \"quantitative\"}], \"x\": {\"field\": \"service_date\", \"sort\": \"x\", \"title\": \"Service Date\", \"type\": \"temporal\"}, \"y\": {\"axis\": {\"format\": \",f\"}, \"field\": \"value\", \"stack\": null, \"title\": \"Value\", \"type\": \"quantitative\"}}, \"height\": 250, \"title\": \"Big Blus Bus Scheduled Trips with RT Vehicle Position Data\", \"width\": 800, \"$schema\": \"https://vega.github.io/schema/vega-lite/v4.17.0.json\", \"datasets\": {\"data-e2aa6b5ff73549a96bfc886f82f47916\": [{\"agency_name\": \"Big Blue Bus\", \"calitp_itp_id\": 300, \"service_date\": \"2022-05-01T00:00:00\", \"measure\": \"Total Number Scheduled Trips\", \"value\": 770}, {\"agency_name\": \"Big Blue Bus\", \"calitp_itp_id\": 300, \"service_date\": \"2022-05-02T00:00:00\", \"measure\": \"Total Number Scheduled Trips\", \"value\": 1516}, {\"agency_name\": \"Big Blue Bus\", \"calitp_itp_id\": 300, \"service_date\": \"2022-05-03T00:00:00\", \"measure\": \"Total Number Scheduled Trips\", \"value\": 1516}, {\"agency_name\": \"Big Blue Bus\", \"calitp_itp_id\": 300, \"service_date\": \"2022-05-04T00:00:00\", \"measure\": \"Total Number Scheduled Trips\", \"value\": 1516}, {\"agency_name\": \"Big Blue Bus\", \"calitp_itp_id\": 300, \"service_date\": \"2022-05-05T00:00:00\", \"measure\": \"Total Number Scheduled Trips\", \"value\": 1516}, {\"agency_name\": \"Big Blue Bus\", \"calitp_itp_id\": 300, \"service_date\": \"2022-05-06T00:00:00\", \"measure\": \"Total Number Scheduled Trips\", \"value\": 1464}, {\"agency_name\": \"Big Blue Bus\", \"calitp_itp_id\": 300, \"service_date\": \"2022-05-07T00:00:00\", \"measure\": \"Total Number Scheduled Trips\", \"value\": 870}, {\"agency_name\": \"Big Blue Bus\", \"calitp_itp_id\": 300, \"service_date\": \"2022-05-08T00:00:00\", \"measure\": \"Total Number Scheduled Trips\", \"value\": 770}, {\"agency_name\": \"Big Blue Bus\", \"calitp_itp_id\": 300, \"service_date\": \"2022-05-09T00:00:00\", \"measure\": \"Total Number Scheduled Trips\", \"value\": 1516}, {\"agency_name\": \"Big Blue Bus\", \"calitp_itp_id\": 300, \"service_date\": \"2022-05-10T00:00:00\", \"measure\": \"Total Number Scheduled Trips\", \"value\": 1516}, {\"agency_name\": \"Big Blue Bus\", \"calitp_itp_id\": 300, \"service_date\": \"2022-05-11T00:00:00\", \"measure\": \"Total Number Scheduled Trips\", \"value\": 1516}, {\"agency_name\": \"Big Blue Bus\", \"calitp_itp_id\": 300, \"service_date\": \"2022-05-12T00:00:00\", \"measure\": \"Total Number Scheduled Trips\", \"value\": 1516}, {\"agency_name\": \"Big Blue Bus\", \"calitp_itp_id\": 300, \"service_date\": \"2022-05-13T00:00:00\", \"measure\": \"Total Number Scheduled Trips\", \"value\": 1464}, {\"agency_name\": \"Big Blue Bus\", \"calitp_itp_id\": 300, \"service_date\": \"2022-05-14T00:00:00\", \"measure\": \"Total Number Scheduled Trips\", \"value\": 870}, {\"agency_name\": \"Big Blue Bus\", \"calitp_itp_id\": 300, \"service_date\": \"2022-05-15T00:00:00\", \"measure\": \"Total Number Scheduled Trips\", \"value\": 770}, {\"agency_name\": \"Big Blue Bus\", \"calitp_itp_id\": 300, \"service_date\": \"2022-05-16T00:00:00\", \"measure\": \"Total Number Scheduled Trips\", \"value\": 1516}, {\"agency_name\": \"Big Blue Bus\", \"calitp_itp_id\": 300, \"service_date\": \"2022-05-17T00:00:00\", \"measure\": \"Total Number Scheduled Trips\", \"value\": 1516}, {\"agency_name\": \"Big Blue Bus\", \"calitp_itp_id\": 300, \"service_date\": \"2022-05-18T00:00:00\", \"measure\": \"Total Number Scheduled Trips\", \"value\": 1516}, {\"agency_name\": \"Big Blue Bus\", \"calitp_itp_id\": 300, \"service_date\": \"2022-05-19T00:00:00\", \"measure\": \"Total Number Scheduled Trips\", \"value\": 1516}, {\"agency_name\": \"Big Blue Bus\", \"calitp_itp_id\": 300, \"service_date\": \"2022-05-20T00:00:00\", \"measure\": \"Total Number Scheduled Trips\", \"value\": 1464}, {\"agency_name\": \"Big Blue Bus\", \"calitp_itp_id\": 300, \"service_date\": \"2022-05-21T00:00:00\", \"measure\": \"Total Number Scheduled Trips\", \"value\": 870}, {\"agency_name\": \"Big Blue Bus\", \"calitp_itp_id\": 300, \"service_date\": \"2022-05-22T00:00:00\", \"measure\": \"Total Number Scheduled Trips\", \"value\": 770}, {\"agency_name\": \"Big Blue Bus\", \"calitp_itp_id\": 300, \"service_date\": \"2022-05-23T00:00:00\", \"measure\": \"Total Number Scheduled Trips\", \"value\": 1516}, {\"agency_name\": \"Big Blue Bus\", \"calitp_itp_id\": 300, \"service_date\": \"2022-05-24T00:00:00\", \"measure\": \"Total Number Scheduled Trips\", \"value\": 1516}, {\"agency_name\": \"Big Blue Bus\", \"calitp_itp_id\": 300, \"service_date\": \"2022-05-25T00:00:00\", \"measure\": \"Total Number Scheduled Trips\", \"value\": 1516}, {\"agency_name\": \"Big Blue Bus\", \"calitp_itp_id\": 300, \"service_date\": \"2022-05-26T00:00:00\", \"measure\": \"Total Number Scheduled Trips\", \"value\": 1516}, {\"agency_name\": \"Big Blue Bus\", \"calitp_itp_id\": 300, \"service_date\": \"2022-05-27T00:00:00\", \"measure\": \"Total Number Scheduled Trips\", \"value\": 1466}, {\"agency_name\": \"Big Blue Bus\", \"calitp_itp_id\": 300, \"service_date\": \"2022-05-28T00:00:00\", \"measure\": \"Total Number Scheduled Trips\", \"value\": 870}, {\"agency_name\": \"Big Blue Bus\", \"calitp_itp_id\": 300, \"service_date\": \"2022-05-29T00:00:00\", \"measure\": \"Total Number Scheduled Trips\", \"value\": 770}, {\"agency_name\": \"Big Blue Bus\", \"calitp_itp_id\": 300, \"service_date\": \"2022-05-30T00:00:00\", \"measure\": \"Total Number Scheduled Trips\", \"value\": 770}, {\"agency_name\": \"Big Blue Bus\", \"calitp_itp_id\": 300, \"service_date\": \"2022-05-31T00:00:00\", \"measure\": \"Total Number Scheduled Trips\", \"value\": 1516}, {\"agency_name\": \"Big Blue Bus\", \"calitp_itp_id\": 300, \"service_date\": \"2022-06-01T00:00:00\", \"measure\": \"Total Number Scheduled Trips\", \"value\": 1516}, {\"agency_name\": \"Big Blue Bus\", \"calitp_itp_id\": 300, \"service_date\": \"2022-06-02T00:00:00\", \"measure\": \"Total Number Scheduled Trips\", \"value\": 1516}, {\"agency_name\": \"Big Blue Bus\", \"calitp_itp_id\": 300, \"service_date\": \"2022-06-03T00:00:00\", \"measure\": \"Total Number Scheduled Trips\", \"value\": 1516}, {\"agency_name\": \"Big Blue Bus\", \"calitp_itp_id\": 300, \"service_date\": \"2022-06-04T00:00:00\", \"measure\": \"Total Number Scheduled Trips\", \"value\": 870}, {\"agency_name\": \"Big Blue Bus\", \"calitp_itp_id\": 300, \"service_date\": \"2022-06-05T00:00:00\", \"measure\": \"Total Number Scheduled Trips\", \"value\": 770}, {\"agency_name\": \"Big Blue Bus\", \"calitp_itp_id\": 300, \"service_date\": \"2022-06-06T00:00:00\", \"measure\": \"Total Number Scheduled Trips\", \"value\": 1516}, {\"agency_name\": \"Big Blue Bus\", \"calitp_itp_id\": 300, \"service_date\": \"2022-06-07T00:00:00\", \"measure\": \"Total Number Scheduled Trips\", \"value\": 1516}, {\"agency_name\": \"Big Blue Bus\", \"calitp_itp_id\": 300, \"service_date\": \"2022-06-08T00:00:00\", \"measure\": \"Total Number Scheduled Trips\", \"value\": 1516}, {\"agency_name\": \"Big Blue Bus\", \"calitp_itp_id\": 300, \"service_date\": \"2022-06-09T00:00:00\", \"measure\": \"Total Number Scheduled Trips\", \"value\": 1514}, {\"agency_name\": \"Big Blue Bus\", \"calitp_itp_id\": 300, \"service_date\": \"2022-06-10T00:00:00\", \"measure\": \"Total Number Scheduled Trips\", \"value\": 1463}, {\"agency_name\": \"Big Blue Bus\", \"calitp_itp_id\": 300, \"service_date\": \"2022-06-11T00:00:00\", \"measure\": \"Total Number Scheduled Trips\", \"value\": 870}, {\"agency_name\": \"Big Blue Bus\", \"calitp_itp_id\": 300, \"service_date\": \"2022-06-12T00:00:00\", \"measure\": \"Total Number Scheduled Trips\", \"value\": 770}, {\"agency_name\": \"Big Blue Bus\", \"calitp_itp_id\": 300, \"service_date\": \"2022-06-13T00:00:00\", \"measure\": \"Total Number Scheduled Trips\", \"value\": 1513}, {\"agency_name\": \"Big Blue Bus\", \"calitp_itp_id\": 300, \"service_date\": \"2022-06-14T00:00:00\", \"measure\": \"Total Number Scheduled Trips\", \"value\": 1513}, {\"agency_name\": \"Big Blue Bus\", \"calitp_itp_id\": 300, \"service_date\": \"2022-06-15T00:00:00\", \"measure\": \"Total Number Scheduled Trips\", \"value\": 1409}, {\"agency_name\": \"Big Blue Bus\", \"calitp_itp_id\": 300, \"service_date\": \"2022-06-16T00:00:00\", \"measure\": \"Total Number Scheduled Trips\", \"value\": 1409}, {\"agency_name\": \"Big Blue Bus\", \"calitp_itp_id\": 300, \"service_date\": \"2022-06-17T00:00:00\", \"measure\": \"Total Number Scheduled Trips\", \"value\": 1409}, {\"agency_name\": \"Big Blue Bus\", \"calitp_itp_id\": 300, \"service_date\": \"2022-06-18T00:00:00\", \"measure\": \"Total Number Scheduled Trips\", \"value\": 870}, {\"agency_name\": \"Big Blue Bus\", \"calitp_itp_id\": 300, \"service_date\": \"2022-06-19T00:00:00\", \"measure\": \"Total Number Scheduled Trips\", \"value\": 770}, {\"agency_name\": \"Big Blue Bus\", \"calitp_itp_id\": 300, \"service_date\": \"2022-06-20T00:00:00\", \"measure\": \"Total Number Scheduled Trips\", \"value\": 1461}, {\"agency_name\": \"Big Blue Bus\", \"calitp_itp_id\": 300, \"service_date\": \"2022-06-21T00:00:00\", \"measure\": \"Total Number Scheduled Trips\", \"value\": 1461}, {\"agency_name\": \"Big Blue Bus\", \"calitp_itp_id\": 300, \"service_date\": \"2022-06-22T00:00:00\", \"measure\": \"Total Number Scheduled Trips\", \"value\": 1461}, {\"agency_name\": \"Big Blue Bus\", \"calitp_itp_id\": 300, \"service_date\": \"2022-06-23T00:00:00\", \"measure\": \"Total Number Scheduled Trips\", \"value\": 1461}, {\"agency_name\": \"Big Blue Bus\", \"calitp_itp_id\": 300, \"service_date\": \"2022-06-24T00:00:00\", \"measure\": \"Total Number Scheduled Trips\", \"value\": 1461}, {\"agency_name\": \"Big Blue Bus\", \"calitp_itp_id\": 300, \"service_date\": \"2022-06-25T00:00:00\", \"measure\": \"Total Number Scheduled Trips\", \"value\": 870}, {\"agency_name\": \"Big Blue Bus\", \"calitp_itp_id\": 300, \"service_date\": \"2022-06-26T00:00:00\", \"measure\": \"Total Number Scheduled Trips\", \"value\": 770}, {\"agency_name\": \"Big Blue Bus\", \"calitp_itp_id\": 300, \"service_date\": \"2022-06-27T00:00:00\", \"measure\": \"Total Number Scheduled Trips\", \"value\": 1461}, {\"agency_name\": \"Big Blue Bus\", \"calitp_itp_id\": 300, \"service_date\": \"2022-06-28T00:00:00\", \"measure\": \"Total Number Scheduled Trips\", \"value\": 1461}, {\"agency_name\": \"Big Blue Bus\", \"calitp_itp_id\": 300, \"service_date\": \"2022-06-29T00:00:00\", \"measure\": \"Total Number Scheduled Trips\", \"value\": 1461}, {\"agency_name\": \"Big Blue Bus\", \"calitp_itp_id\": 300, \"service_date\": \"2022-06-30T00:00:00\", \"measure\": \"Total Number Scheduled Trips\", \"value\": 1461}, {\"agency_name\": \"Big Blue Bus\", \"calitp_itp_id\": 300, \"service_date\": \"2022-05-01T00:00:00\", \"measure\": \"Total Number Vehicle Position Trips\", \"value\": 526}, {\"agency_name\": \"Big Blue Bus\", \"calitp_itp_id\": 300, \"service_date\": \"2022-05-02T00:00:00\", \"measure\": \"Total Number Vehicle Position Trips\", \"value\": 1066}, {\"agency_name\": \"Big Blue Bus\", \"calitp_itp_id\": 300, \"service_date\": \"2022-05-03T00:00:00\", \"measure\": \"Total Number Vehicle Position Trips\", \"value\": 1365}, {\"agency_name\": \"Big Blue Bus\", \"calitp_itp_id\": 300, \"service_date\": \"2022-05-04T00:00:00\", \"measure\": \"Total Number Vehicle Position Trips\", \"value\": 1381}, {\"agency_name\": \"Big Blue Bus\", \"calitp_itp_id\": 300, \"service_date\": \"2022-05-05T00:00:00\", \"measure\": \"Total Number Vehicle Position Trips\", \"value\": 1343}, {\"agency_name\": \"Big Blue Bus\", \"calitp_itp_id\": 300, \"service_date\": \"2022-05-06T00:00:00\", \"measure\": \"Total Number Vehicle Position Trips\", \"value\": 1295}, {\"agency_name\": \"Big Blue Bus\", \"calitp_itp_id\": 300, \"service_date\": \"2022-05-07T00:00:00\", \"measure\": \"Total Number Vehicle Position Trips\", \"value\": 604}, {\"agency_name\": \"Big Blue Bus\", \"calitp_itp_id\": 300, \"service_date\": \"2022-05-08T00:00:00\", \"measure\": \"Total Number Vehicle Position Trips\", \"value\": 501}, {\"agency_name\": \"Big Blue Bus\", \"calitp_itp_id\": 300, \"service_date\": \"2022-05-09T00:00:00\", \"measure\": \"Total Number Vehicle Position Trips\", \"value\": 1053}, {\"agency_name\": \"Big Blue Bus\", \"calitp_itp_id\": 300, \"service_date\": \"2022-05-10T00:00:00\", \"measure\": \"Total Number Vehicle Position Trips\", \"value\": 1380}, {\"agency_name\": \"Big Blue Bus\", \"calitp_itp_id\": 300, \"service_date\": \"2022-05-11T00:00:00\", \"measure\": \"Total Number Vehicle Position Trips\", \"value\": 1381}, {\"agency_name\": \"Big Blue Bus\", \"calitp_itp_id\": 300, \"service_date\": \"2022-05-12T00:00:00\", \"measure\": \"Total Number Vehicle Position Trips\", \"value\": 1380}, {\"agency_name\": \"Big Blue Bus\", \"calitp_itp_id\": 300, \"service_date\": \"2022-05-13T00:00:00\", \"measure\": \"Total Number Vehicle Position Trips\", \"value\": 1343}, {\"agency_name\": \"Big Blue Bus\", \"calitp_itp_id\": 300, \"service_date\": \"2022-05-14T00:00:00\", \"measure\": \"Total Number Vehicle Position Trips\", \"value\": 600}, {\"agency_name\": \"Big Blue Bus\", \"calitp_itp_id\": 300, \"service_date\": \"2022-05-15T00:00:00\", \"measure\": \"Total Number Vehicle Position Trips\", \"value\": 526}, {\"agency_name\": \"Big Blue Bus\", \"calitp_itp_id\": 300, \"service_date\": \"2022-05-16T00:00:00\", \"measure\": \"Total Number Vehicle Position Trips\", \"value\": 1028}, {\"agency_name\": \"Big Blue Bus\", \"calitp_itp_id\": 300, \"service_date\": \"2022-05-17T00:00:00\", \"measure\": \"Total Number Vehicle Position Trips\", \"value\": 1373}, {\"agency_name\": \"Big Blue Bus\", \"calitp_itp_id\": 300, \"service_date\": \"2022-05-18T00:00:00\", \"measure\": \"Total Number Vehicle Position Trips\", \"value\": 1377}, {\"agency_name\": \"Big Blue Bus\", \"calitp_itp_id\": 300, \"service_date\": \"2022-05-19T00:00:00\", \"measure\": \"Total Number Vehicle Position Trips\", \"value\": 1367}, {\"agency_name\": \"Big Blue Bus\", \"calitp_itp_id\": 300, \"service_date\": \"2022-05-20T00:00:00\", \"measure\": \"Total Number Vehicle Position Trips\", \"value\": 1366}, {\"agency_name\": \"Big Blue Bus\", \"calitp_itp_id\": 300, \"service_date\": \"2022-05-21T00:00:00\", \"measure\": \"Total Number Vehicle Position Trips\", \"value\": 635}, {\"agency_name\": \"Big Blue Bus\", \"calitp_itp_id\": 300, \"service_date\": \"2022-05-22T00:00:00\", \"measure\": \"Total Number Vehicle Position Trips\", \"value\": 543}, {\"agency_name\": \"Big Blue Bus\", \"calitp_itp_id\": 300, \"service_date\": \"2022-05-23T00:00:00\", \"measure\": \"Total Number Vehicle Position Trips\", \"value\": 1086}, {\"agency_name\": \"Big Blue Bus\", \"calitp_itp_id\": 300, \"service_date\": \"2022-05-24T00:00:00\", \"measure\": \"Total Number Vehicle Position Trips\", \"value\": 1370}, {\"agency_name\": \"Big Blue Bus\", \"calitp_itp_id\": 300, \"service_date\": \"2022-05-25T00:00:00\", \"measure\": \"Total Number Vehicle Position Trips\", \"value\": 1348}, {\"agency_name\": \"Big Blue Bus\", \"calitp_itp_id\": 300, \"service_date\": \"2022-05-26T00:00:00\", \"measure\": \"Total Number Vehicle Position Trips\", \"value\": 1394}, {\"agency_name\": \"Big Blue Bus\", \"calitp_itp_id\": 300, \"service_date\": \"2022-05-27T00:00:00\", \"measure\": \"Total Number Vehicle Position Trips\", \"value\": 1320}, {\"agency_name\": \"Big Blue Bus\", \"calitp_itp_id\": 300, \"service_date\": \"2022-05-28T00:00:00\", \"measure\": \"Total Number Vehicle Position Trips\", \"value\": 612}, {\"agency_name\": \"Big Blue Bus\", \"calitp_itp_id\": 300, \"service_date\": \"2022-05-29T00:00:00\", \"measure\": \"Total Number Vehicle Position Trips\", \"value\": 556}, {\"agency_name\": \"Big Blue Bus\", \"calitp_itp_id\": 300, \"service_date\": \"2022-05-30T00:00:00\", \"measure\": \"Total Number Vehicle Position Trips\", \"value\": 741}, {\"agency_name\": \"Big Blue Bus\", \"calitp_itp_id\": 300, \"service_date\": \"2022-05-31T00:00:00\", \"measure\": \"Total Number Vehicle Position Trips\", \"value\": 1067}, {\"agency_name\": \"Big Blue Bus\", \"calitp_itp_id\": 300, \"service_date\": \"2022-06-01T00:00:00\", \"measure\": \"Total Number Vehicle Position Trips\", \"value\": 1366}, {\"agency_name\": \"Big Blue Bus\", \"calitp_itp_id\": 300, \"service_date\": \"2022-06-02T00:00:00\", \"measure\": \"Total Number Vehicle Position Trips\", \"value\": 1360}, {\"agency_name\": \"Big Blue Bus\", \"calitp_itp_id\": 300, \"service_date\": \"2022-06-03T00:00:00\", \"measure\": \"Total Number Vehicle Position Trips\", \"value\": 1294}, {\"agency_name\": \"Big Blue Bus\", \"calitp_itp_id\": 300, \"service_date\": \"2022-06-04T00:00:00\", \"measure\": \"Total Number Vehicle Position Trips\", \"value\": 610}, {\"agency_name\": \"Big Blue Bus\", \"calitp_itp_id\": 300, \"service_date\": \"2022-06-05T00:00:00\", \"measure\": \"Total Number Vehicle Position Trips\", \"value\": 554}, {\"agency_name\": \"Big Blue Bus\", \"calitp_itp_id\": 300, \"service_date\": \"2022-06-06T00:00:00\", \"measure\": \"Total Number Vehicle Position Trips\", \"value\": 1044}, {\"agency_name\": \"Big Blue Bus\", \"calitp_itp_id\": 300, \"service_date\": \"2022-06-07T00:00:00\", \"measure\": \"Total Number Vehicle Position Trips\", \"value\": 1338}, {\"agency_name\": \"Big Blue Bus\", \"calitp_itp_id\": 300, \"service_date\": \"2022-06-08T00:00:00\", \"measure\": \"Total Number Vehicle Position Trips\", \"value\": 1322}, {\"agency_name\": \"Big Blue Bus\", \"calitp_itp_id\": 300, \"service_date\": \"2022-06-09T00:00:00\", \"measure\": \"Total Number Vehicle Position Trips\", \"value\": 1337}, {\"agency_name\": \"Big Blue Bus\", \"calitp_itp_id\": 300, \"service_date\": \"2022-06-10T00:00:00\", \"measure\": \"Total Number Vehicle Position Trips\", \"value\": 1293}, {\"agency_name\": \"Big Blue Bus\", \"calitp_itp_id\": 300, \"service_date\": \"2022-06-11T00:00:00\", \"measure\": \"Total Number Vehicle Position Trips\", \"value\": 584}, {\"agency_name\": \"Big Blue Bus\", \"calitp_itp_id\": 300, \"service_date\": \"2022-06-12T00:00:00\", \"measure\": \"Total Number Vehicle Position Trips\", \"value\": 533}, {\"agency_name\": \"Big Blue Bus\", \"calitp_itp_id\": 300, \"service_date\": \"2022-06-13T00:00:00\", \"measure\": \"Total Number Vehicle Position Trips\", \"value\": 1060}, {\"agency_name\": \"Big Blue Bus\", \"calitp_itp_id\": 300, \"service_date\": \"2022-06-14T00:00:00\", \"measure\": \"Total Number Vehicle Position Trips\", \"value\": 1336}, {\"agency_name\": \"Big Blue Bus\", \"calitp_itp_id\": 300, \"service_date\": \"2022-06-15T00:00:00\", \"measure\": \"Total Number Vehicle Position Trips\", \"value\": 1341}, {\"agency_name\": \"Big Blue Bus\", \"calitp_itp_id\": 300, \"service_date\": \"2022-06-16T00:00:00\", \"measure\": \"Total Number Vehicle Position Trips\", \"value\": 1382}, {\"agency_name\": \"Big Blue Bus\", \"calitp_itp_id\": 300, \"service_date\": \"2022-06-17T00:00:00\", \"measure\": \"Total Number Vehicle Position Trips\", \"value\": 1400}, {\"agency_name\": \"Big Blue Bus\", \"calitp_itp_id\": 300, \"service_date\": \"2022-06-18T00:00:00\", \"measure\": \"Total Number Vehicle Position Trips\", \"value\": 633}, {\"agency_name\": \"Big Blue Bus\", \"calitp_itp_id\": 300, \"service_date\": \"2022-06-19T00:00:00\", \"measure\": \"Total Number Vehicle Position Trips\", \"value\": 524}, {\"agency_name\": \"Big Blue Bus\", \"calitp_itp_id\": 300, \"service_date\": \"2022-06-20T00:00:00\", \"measure\": \"Total Number Vehicle Position Trips\", \"value\": 1077}, {\"agency_name\": \"Big Blue Bus\", \"calitp_itp_id\": 300, \"service_date\": \"2022-06-21T00:00:00\", \"measure\": \"Total Number Vehicle Position Trips\", \"value\": 1381}, {\"agency_name\": \"Big Blue Bus\", \"calitp_itp_id\": 300, \"service_date\": \"2022-06-22T00:00:00\", \"measure\": \"Total Number Vehicle Position Trips\", \"value\": 1376}, {\"agency_name\": \"Big Blue Bus\", \"calitp_itp_id\": 300, \"service_date\": \"2022-06-23T00:00:00\", \"measure\": \"Total Number Vehicle Position Trips\", \"value\": 1384}, {\"agency_name\": \"Big Blue Bus\", \"calitp_itp_id\": 300, \"service_date\": \"2022-06-24T00:00:00\", \"measure\": \"Total Number Vehicle Position Trips\", \"value\": 1320}, {\"agency_name\": \"Big Blue Bus\", \"calitp_itp_id\": 300, \"service_date\": \"2022-06-25T00:00:00\", \"measure\": \"Total Number Vehicle Position Trips\", \"value\": 581}, {\"agency_name\": \"Big Blue Bus\", \"calitp_itp_id\": 300, \"service_date\": \"2022-06-26T00:00:00\", \"measure\": \"Total Number Vehicle Position Trips\", \"value\": 498}, {\"agency_name\": \"Big Blue Bus\", \"calitp_itp_id\": 300, \"service_date\": \"2022-06-27T00:00:00\", \"measure\": \"Total Number Vehicle Position Trips\", \"value\": 1013}, {\"agency_name\": \"Big Blue Bus\", \"calitp_itp_id\": 300, \"service_date\": \"2022-06-28T00:00:00\", \"measure\": \"Total Number Vehicle Position Trips\", \"value\": 1359}, {\"agency_name\": \"Big Blue Bus\", \"calitp_itp_id\": 300, \"service_date\": \"2022-06-29T00:00:00\", \"measure\": \"Total Number Vehicle Position Trips\", \"value\": 1367}, {\"agency_name\": \"Big Blue Bus\", \"calitp_itp_id\": 300, \"service_date\": \"2022-06-30T00:00:00\", \"measure\": \"Total Number Vehicle Position Trips\", \"value\": 1374}]}}, {\"mode\": \"vega-lite\"});\n",
       "</script>"
      ],
      "text/plain": [
       "alt.Chart(...)"
      ]
     },
     "execution_count": 29,
     "metadata": {},
     "output_type": "execute_result"
    }
   ],
   "source": [
    "(utils.bar_chart_over_time((day_pct_long>>filter(_.calitp_itp_id==bbb)),\n",
    "                           'service_date',\n",
    "                           'value', \n",
    "                           'measure',\n",
    "                           ',f', \n",
    "                           'x', \n",
    "                           'Big Blus Bus Scheduled Trips with RT Vehicle Position Data')).properties(width=800)"
   ]
  },
  {
   "cell_type": "code",
   "execution_count": 30,
   "id": "eba83c7d-0aa6-4f7b-9f31-e3c0a621a76c",
   "metadata": {},
   "outputs": [
    {
     "data": {
      "text/html": [
       "\n",
       "<div id=\"altair-viz-15c9dd35ea194981834e70ae8b315eeb\"></div>\n",
       "<script type=\"text/javascript\">\n",
       "  var VEGA_DEBUG = (typeof VEGA_DEBUG == \"undefined\") ? {} : VEGA_DEBUG;\n",
       "  (function(spec, embedOpt){\n",
       "    let outputDiv = document.currentScript.previousElementSibling;\n",
       "    if (outputDiv.id !== \"altair-viz-15c9dd35ea194981834e70ae8b315eeb\") {\n",
       "      outputDiv = document.getElementById(\"altair-viz-15c9dd35ea194981834e70ae8b315eeb\");\n",
       "    }\n",
       "    const paths = {\n",
       "      \"vega\": \"https://cdn.jsdelivr.net/npm//vega@5?noext\",\n",
       "      \"vega-lib\": \"https://cdn.jsdelivr.net/npm//vega-lib?noext\",\n",
       "      \"vega-lite\": \"https://cdn.jsdelivr.net/npm//vega-lite@4.17.0?noext\",\n",
       "      \"vega-embed\": \"https://cdn.jsdelivr.net/npm//vega-embed@6?noext\",\n",
       "    };\n",
       "\n",
       "    function maybeLoadScript(lib, version) {\n",
       "      var key = `${lib.replace(\"-\", \"\")}_version`;\n",
       "      return (VEGA_DEBUG[key] == version) ?\n",
       "        Promise.resolve(paths[lib]) :\n",
       "        new Promise(function(resolve, reject) {\n",
       "          var s = document.createElement('script');\n",
       "          document.getElementsByTagName(\"head\")[0].appendChild(s);\n",
       "          s.async = true;\n",
       "          s.onload = () => {\n",
       "            VEGA_DEBUG[key] = version;\n",
       "            return resolve(paths[lib]);\n",
       "          };\n",
       "          s.onerror = () => reject(`Error loading script: ${paths[lib]}`);\n",
       "          s.src = paths[lib];\n",
       "        });\n",
       "    }\n",
       "\n",
       "    function showError(err) {\n",
       "      outputDiv.innerHTML = `<div class=\"error\" style=\"color:red;\">${err}</div>`;\n",
       "      throw err;\n",
       "    }\n",
       "\n",
       "    function displayChart(vegaEmbed) {\n",
       "      vegaEmbed(outputDiv, spec, embedOpt)\n",
       "        .catch(err => showError(`Javascript Error: ${err.message}<br>This usually means there's a typo in your chart specification. See the javascript console for the full traceback.`));\n",
       "    }\n",
       "\n",
       "    if(typeof define === \"function\" && define.amd) {\n",
       "      requirejs.config({paths});\n",
       "      require([\"vega-embed\"], displayChart, err => showError(`Error loading script: ${err.message}`));\n",
       "    } else {\n",
       "      maybeLoadScript(\"vega\", \"5\")\n",
       "        .then(() => maybeLoadScript(\"vega-lite\", \"4.17.0\"))\n",
       "        .then(() => maybeLoadScript(\"vega-embed\", \"6\"))\n",
       "        .catch(showError)\n",
       "        .then(() => displayChart(vegaEmbed));\n",
       "    }\n",
       "  })({\"config\": {\"view\": {\"continuousWidth\": 400, \"continuousHeight\": 300}, \"axis\": {\"domainColor\": \"#cbcbcb\", \"grid\": true, \"gridColor\": \"#cbcbcb\", \"gridWidth\": 1, \"labelColor\": \"#474747\", \"labelFont\": \"Nunito Sans\", \"labelFontSize\": 10, \"labelPadding\": 4, \"tickColor\": \"#cbcbcb\", \"tickSize\": 10, \"titleColor\": \"#333\", \"titleFont\": \"Raleway\", \"titleFontSize\": 12, \"titlePadding\": 10}, \"axisBand\": {\"grid\": false}, \"background\": \"white\", \"font\": \"Raleway\", \"header\": {\"labelFont\": \"Nunito Sans\", \"titleFont\": \"Raleway\"}, \"legend\": {\"labelColor\": \"#333\", \"labelFont\": \"Nunito Sans\", \"labelFontSize\": 11, \"labelLimit\": 0, \"padding\": 1, \"symbolSize\": 30, \"symbolType\": \"square\", \"titleColor\": \"#333\", \"titleFont\": \"Raleway\", \"titleFontSize\": 14, \"titlePadding\": 10}, \"title\": {\"anchor\": \"middle\", \"font\": \"Raleway\", \"fontSize\": 18, \"fontWeight\": 300, \"offset\": 20}}, \"data\": {\"name\": \"data-a1bd76f832df0bb3adccb9a3f3f4ec7b\"}, \"mark\": {\"type\": \"bar\", \"size\": 8}, \"encoding\": {\"color\": {\"field\": \"measure\", \"type\": \"nominal\"}, \"tooltip\": [{\"field\": \"service_date\", \"title\": \"Service Date\", \"type\": \"temporal\"}, {\"field\": \"value\", \"title\": \"Value\", \"type\": \"quantitative\"}], \"x\": {\"field\": \"service_date\", \"sort\": \"x\", \"title\": \"Service Date\", \"type\": \"temporal\"}, \"y\": {\"axis\": {\"format\": \",f\"}, \"field\": \"value\", \"stack\": null, \"title\": \"Value\", \"type\": \"quantitative\"}}, \"height\": 250, \"title\": \"SamTrans Scheduled Trips with RT Vehicle Position Data\", \"width\": 800, \"$schema\": \"https://vega.github.io/schema/vega-lite/v4.17.0.json\", \"datasets\": {\"data-a1bd76f832df0bb3adccb9a3f3f4ec7b\": [{\"agency_name\": \"SamTrans\", \"calitp_itp_id\": 290, \"service_date\": \"2022-05-01T00:00:00\", \"measure\": \"Total Number Scheduled Trips\", \"value\": 765}, {\"agency_name\": \"SamTrans\", \"calitp_itp_id\": 290, \"service_date\": \"2022-05-02T00:00:00\", \"measure\": \"Total Number Scheduled Trips\", \"value\": 1339}, {\"agency_name\": \"SamTrans\", \"calitp_itp_id\": 290, \"service_date\": \"2022-05-03T00:00:00\", \"measure\": \"Total Number Scheduled Trips\", \"value\": 1339}, {\"agency_name\": \"SamTrans\", \"calitp_itp_id\": 290, \"service_date\": \"2022-05-04T00:00:00\", \"measure\": \"Total Number Scheduled Trips\", \"value\": 1343}, {\"agency_name\": \"SamTrans\", \"calitp_itp_id\": 290, \"service_date\": \"2022-05-05T00:00:00\", \"measure\": \"Total Number Scheduled Trips\", \"value\": 1338}, {\"agency_name\": \"SamTrans\", \"calitp_itp_id\": 290, \"service_date\": \"2022-05-06T00:00:00\", \"measure\": \"Total Number Scheduled Trips\", \"value\": 1339}, {\"agency_name\": \"SamTrans\", \"calitp_itp_id\": 290, \"service_date\": \"2022-05-07T00:00:00\", \"measure\": \"Total Number Scheduled Trips\", \"value\": 890}, {\"agency_name\": \"SamTrans\", \"calitp_itp_id\": 290, \"service_date\": \"2022-05-08T00:00:00\", \"measure\": \"Total Number Scheduled Trips\", \"value\": 765}, {\"agency_name\": \"SamTrans\", \"calitp_itp_id\": 290, \"service_date\": \"2022-05-09T00:00:00\", \"measure\": \"Total Number Scheduled Trips\", \"value\": 1339}, {\"agency_name\": \"SamTrans\", \"calitp_itp_id\": 290, \"service_date\": \"2022-05-10T00:00:00\", \"measure\": \"Total Number Scheduled Trips\", \"value\": 1339}, {\"agency_name\": \"SamTrans\", \"calitp_itp_id\": 290, \"service_date\": \"2022-05-11T00:00:00\", \"measure\": \"Total Number Scheduled Trips\", \"value\": 1343}, {\"agency_name\": \"SamTrans\", \"calitp_itp_id\": 290, \"service_date\": \"2022-05-12T00:00:00\", \"measure\": \"Total Number Scheduled Trips\", \"value\": 1338}, {\"agency_name\": \"SamTrans\", \"calitp_itp_id\": 290, \"service_date\": \"2022-05-13T00:00:00\", \"measure\": \"Total Number Scheduled Trips\", \"value\": 1339}, {\"agency_name\": \"SamTrans\", \"calitp_itp_id\": 290, \"service_date\": \"2022-05-14T00:00:00\", \"measure\": \"Total Number Scheduled Trips\", \"value\": 890}, {\"agency_name\": \"SamTrans\", \"calitp_itp_id\": 290, \"service_date\": \"2022-05-15T00:00:00\", \"measure\": \"Total Number Scheduled Trips\", \"value\": 765}, {\"agency_name\": \"SamTrans\", \"calitp_itp_id\": 290, \"service_date\": \"2022-05-16T00:00:00\", \"measure\": \"Total Number Scheduled Trips\", \"value\": 1339}, {\"agency_name\": \"SamTrans\", \"calitp_itp_id\": 290, \"service_date\": \"2022-05-17T00:00:00\", \"measure\": \"Total Number Scheduled Trips\", \"value\": 1339}, {\"agency_name\": \"SamTrans\", \"calitp_itp_id\": 290, \"service_date\": \"2022-05-18T00:00:00\", \"measure\": \"Total Number Scheduled Trips\", \"value\": 1343}, {\"agency_name\": \"SamTrans\", \"calitp_itp_id\": 290, \"service_date\": \"2022-05-19T00:00:00\", \"measure\": \"Total Number Scheduled Trips\", \"value\": 1338}, {\"agency_name\": \"SamTrans\", \"calitp_itp_id\": 290, \"service_date\": \"2022-05-20T00:00:00\", \"measure\": \"Total Number Scheduled Trips\", \"value\": 1339}, {\"agency_name\": \"SamTrans\", \"calitp_itp_id\": 290, \"service_date\": \"2022-05-21T00:00:00\", \"measure\": \"Total Number Scheduled Trips\", \"value\": 890}, {\"agency_name\": \"SamTrans\", \"calitp_itp_id\": 290, \"service_date\": \"2022-05-22T00:00:00\", \"measure\": \"Total Number Scheduled Trips\", \"value\": 765}, {\"agency_name\": \"SamTrans\", \"calitp_itp_id\": 290, \"service_date\": \"2022-05-23T00:00:00\", \"measure\": \"Total Number Scheduled Trips\", \"value\": 1339}, {\"agency_name\": \"SamTrans\", \"calitp_itp_id\": 290, \"service_date\": \"2022-05-24T00:00:00\", \"measure\": \"Total Number Scheduled Trips\", \"value\": 1339}, {\"agency_name\": \"SamTrans\", \"calitp_itp_id\": 290, \"service_date\": \"2022-05-25T00:00:00\", \"measure\": \"Total Number Scheduled Trips\", \"value\": 1343}, {\"agency_name\": \"SamTrans\", \"calitp_itp_id\": 290, \"service_date\": \"2022-05-26T00:00:00\", \"measure\": \"Total Number Scheduled Trips\", \"value\": 1338}, {\"agency_name\": \"SamTrans\", \"calitp_itp_id\": 290, \"service_date\": \"2022-05-27T00:00:00\", \"measure\": \"Total Number Scheduled Trips\", \"value\": 1339}, {\"agency_name\": \"SamTrans\", \"calitp_itp_id\": 290, \"service_date\": \"2022-05-28T00:00:00\", \"measure\": \"Total Number Scheduled Trips\", \"value\": 890}, {\"agency_name\": \"SamTrans\", \"calitp_itp_id\": 290, \"service_date\": \"2022-05-29T00:00:00\", \"measure\": \"Total Number Scheduled Trips\", \"value\": 765}, {\"agency_name\": \"SamTrans\", \"calitp_itp_id\": 290, \"service_date\": \"2022-05-30T00:00:00\", \"measure\": \"Total Number Scheduled Trips\", \"value\": 765}, {\"agency_name\": \"SamTrans\", \"calitp_itp_id\": 290, \"service_date\": \"2022-05-31T00:00:00\", \"measure\": \"Total Number Scheduled Trips\", \"value\": 1339}, {\"agency_name\": \"SamTrans\", \"calitp_itp_id\": 290, \"service_date\": \"2022-06-01T00:00:00\", \"measure\": \"Total Number Scheduled Trips\", \"value\": 1343}, {\"agency_name\": \"SamTrans\", \"calitp_itp_id\": 290, \"service_date\": \"2022-06-02T00:00:00\", \"measure\": \"Total Number Scheduled Trips\", \"value\": 1338}, {\"agency_name\": \"SamTrans\", \"calitp_itp_id\": 290, \"service_date\": \"2022-06-03T00:00:00\", \"measure\": \"Total Number Scheduled Trips\", \"value\": 1339}, {\"agency_name\": \"SamTrans\", \"calitp_itp_id\": 290, \"service_date\": \"2022-06-04T00:00:00\", \"measure\": \"Total Number Scheduled Trips\", \"value\": 890}, {\"agency_name\": \"SamTrans\", \"calitp_itp_id\": 290, \"service_date\": \"2022-06-05T00:00:00\", \"measure\": \"Total Number Scheduled Trips\", \"value\": 765}, {\"agency_name\": \"SamTrans\", \"calitp_itp_id\": 290, \"service_date\": \"2022-06-06T00:00:00\", \"measure\": \"Total Number Scheduled Trips\", \"value\": 1339}, {\"agency_name\": \"SamTrans\", \"calitp_itp_id\": 290, \"service_date\": \"2022-06-07T00:00:00\", \"measure\": \"Total Number Scheduled Trips\", \"value\": 1339}, {\"agency_name\": \"SamTrans\", \"calitp_itp_id\": 290, \"service_date\": \"2022-06-08T00:00:00\", \"measure\": \"Total Number Scheduled Trips\", \"value\": 1343}, {\"agency_name\": \"SamTrans\", \"calitp_itp_id\": 290, \"service_date\": \"2022-06-09T00:00:00\", \"measure\": \"Total Number Scheduled Trips\", \"value\": 1338}, {\"agency_name\": \"SamTrans\", \"calitp_itp_id\": 290, \"service_date\": \"2022-06-10T00:00:00\", \"measure\": \"Total Number Scheduled Trips\", \"value\": 1339}, {\"agency_name\": \"SamTrans\", \"calitp_itp_id\": 290, \"service_date\": \"2022-06-11T00:00:00\", \"measure\": \"Total Number Scheduled Trips\", \"value\": 890}, {\"agency_name\": \"SamTrans\", \"calitp_itp_id\": 290, \"service_date\": \"2022-06-12T00:00:00\", \"measure\": \"Total Number Scheduled Trips\", \"value\": 765}, {\"agency_name\": \"SamTrans\", \"calitp_itp_id\": 290, \"service_date\": \"2022-06-13T00:00:00\", \"measure\": \"Total Number Scheduled Trips\", \"value\": 1339}, {\"agency_name\": \"SamTrans\", \"calitp_itp_id\": 290, \"service_date\": \"2022-06-14T00:00:00\", \"measure\": \"Total Number Scheduled Trips\", \"value\": 1339}, {\"agency_name\": \"SamTrans\", \"calitp_itp_id\": 290, \"service_date\": \"2022-06-15T00:00:00\", \"measure\": \"Total Number Scheduled Trips\", \"value\": 1343}, {\"agency_name\": \"SamTrans\", \"calitp_itp_id\": 290, \"service_date\": \"2022-06-16T00:00:00\", \"measure\": \"Total Number Scheduled Trips\", \"value\": 1338}, {\"agency_name\": \"SamTrans\", \"calitp_itp_id\": 290, \"service_date\": \"2022-06-17T00:00:00\", \"measure\": \"Total Number Scheduled Trips\", \"value\": 1339}, {\"agency_name\": \"SamTrans\", \"calitp_itp_id\": 290, \"service_date\": \"2022-06-18T00:00:00\", \"measure\": \"Total Number Scheduled Trips\", \"value\": 890}, {\"agency_name\": \"SamTrans\", \"calitp_itp_id\": 290, \"service_date\": \"2022-06-19T00:00:00\", \"measure\": \"Total Number Scheduled Trips\", \"value\": 761}, {\"agency_name\": \"SamTrans\", \"calitp_itp_id\": 290, \"service_date\": \"2022-06-20T00:00:00\", \"measure\": \"Total Number Scheduled Trips\", \"value\": 1318}, {\"agency_name\": \"SamTrans\", \"calitp_itp_id\": 290, \"service_date\": \"2022-06-21T00:00:00\", \"measure\": \"Total Number Scheduled Trips\", \"value\": 1318}, {\"agency_name\": \"SamTrans\", \"calitp_itp_id\": 290, \"service_date\": \"2022-06-22T00:00:00\", \"measure\": \"Total Number Scheduled Trips\", \"value\": 1318}, {\"agency_name\": \"SamTrans\", \"calitp_itp_id\": 290, \"service_date\": \"2022-06-23T00:00:00\", \"measure\": \"Total Number Scheduled Trips\", \"value\": 1318}, {\"agency_name\": \"SamTrans\", \"calitp_itp_id\": 290, \"service_date\": \"2022-06-24T00:00:00\", \"measure\": \"Total Number Scheduled Trips\", \"value\": 1318}, {\"agency_name\": \"SamTrans\", \"calitp_itp_id\": 290, \"service_date\": \"2022-06-25T00:00:00\", \"measure\": \"Total Number Scheduled Trips\", \"value\": 886}, {\"agency_name\": \"SamTrans\", \"calitp_itp_id\": 290, \"service_date\": \"2022-06-26T00:00:00\", \"measure\": \"Total Number Scheduled Trips\", \"value\": 761}, {\"agency_name\": \"SamTrans\", \"calitp_itp_id\": 290, \"service_date\": \"2022-06-27T00:00:00\", \"measure\": \"Total Number Scheduled Trips\", \"value\": 1318}, {\"agency_name\": \"SamTrans\", \"calitp_itp_id\": 290, \"service_date\": \"2022-06-28T00:00:00\", \"measure\": \"Total Number Scheduled Trips\", \"value\": 1318}, {\"agency_name\": \"SamTrans\", \"calitp_itp_id\": 290, \"service_date\": \"2022-06-29T00:00:00\", \"measure\": \"Total Number Scheduled Trips\", \"value\": 1318}, {\"agency_name\": \"SamTrans\", \"calitp_itp_id\": 290, \"service_date\": \"2022-06-30T00:00:00\", \"measure\": \"Total Number Scheduled Trips\", \"value\": 1318}, {\"agency_name\": \"SamTrans\", \"calitp_itp_id\": 290, \"service_date\": \"2022-05-01T00:00:00\", \"measure\": \"Total Number Vehicle Position Trips\", \"value\": 534}, {\"agency_name\": \"SamTrans\", \"calitp_itp_id\": 290, \"service_date\": \"2022-05-02T00:00:00\", \"measure\": \"Total Number Vehicle Position Trips\", \"value\": 938}, {\"agency_name\": \"SamTrans\", \"calitp_itp_id\": 290, \"service_date\": \"2022-05-03T00:00:00\", \"measure\": \"Total Number Vehicle Position Trips\", \"value\": 1284}, {\"agency_name\": \"SamTrans\", \"calitp_itp_id\": 290, \"service_date\": \"2022-05-04T00:00:00\", \"measure\": \"Total Number Vehicle Position Trips\", \"value\": 3}, {\"agency_name\": \"SamTrans\", \"calitp_itp_id\": 290, \"service_date\": \"2022-05-05T00:00:00\", \"measure\": \"Total Number Vehicle Position Trips\", \"value\": 948}, {\"agency_name\": \"SamTrans\", \"calitp_itp_id\": 290, \"service_date\": \"2022-05-06T00:00:00\", \"measure\": \"Total Number Vehicle Position Trips\", \"value\": 1292}, {\"agency_name\": \"SamTrans\", \"calitp_itp_id\": 290, \"service_date\": \"2022-05-07T00:00:00\", \"measure\": \"Total Number Vehicle Position Trips\", \"value\": 617}, {\"agency_name\": \"SamTrans\", \"calitp_itp_id\": 290, \"service_date\": \"2022-05-08T00:00:00\", \"measure\": \"Total Number Vehicle Position Trips\", \"value\": 518}, {\"agency_name\": \"SamTrans\", \"calitp_itp_id\": 290, \"service_date\": \"2022-05-09T00:00:00\", \"measure\": \"Total Number Vehicle Position Trips\", \"value\": 908}, {\"agency_name\": \"SamTrans\", \"calitp_itp_id\": 290, \"service_date\": \"2022-05-10T00:00:00\", \"measure\": \"Total Number Vehicle Position Trips\", \"value\": 1265}, {\"agency_name\": \"SamTrans\", \"calitp_itp_id\": 290, \"service_date\": \"2022-05-11T00:00:00\", \"measure\": \"Total Number Vehicle Position Trips\", \"value\": 1269}, {\"agency_name\": \"SamTrans\", \"calitp_itp_id\": 290, \"service_date\": \"2022-05-12T00:00:00\", \"measure\": \"Total Number Vehicle Position Trips\", \"value\": 1285}, {\"agency_name\": \"SamTrans\", \"calitp_itp_id\": 290, \"service_date\": \"2022-05-13T00:00:00\", \"measure\": \"Total Number Vehicle Position Trips\", \"value\": 1274}, {\"agency_name\": \"SamTrans\", \"calitp_itp_id\": 290, \"service_date\": \"2022-05-14T00:00:00\", \"measure\": \"Total Number Vehicle Position Trips\", \"value\": 624}, {\"agency_name\": \"SamTrans\", \"calitp_itp_id\": 290, \"service_date\": \"2022-05-15T00:00:00\", \"measure\": \"Total Number Vehicle Position Trips\", \"value\": 535}, {\"agency_name\": \"SamTrans\", \"calitp_itp_id\": 290, \"service_date\": \"2022-05-16T00:00:00\", \"measure\": \"Total Number Vehicle Position Trips\", \"value\": 929}, {\"agency_name\": \"SamTrans\", \"calitp_itp_id\": 290, \"service_date\": \"2022-05-17T00:00:00\", \"measure\": \"Total Number Vehicle Position Trips\", \"value\": 1283}, {\"agency_name\": \"SamTrans\", \"calitp_itp_id\": 290, \"service_date\": \"2022-05-18T00:00:00\", \"measure\": \"Total Number Vehicle Position Trips\", \"value\": 1287}, {\"agency_name\": \"SamTrans\", \"calitp_itp_id\": 290, \"service_date\": \"2022-05-19T00:00:00\", \"measure\": \"Total Number Vehicle Position Trips\", \"value\": 1289}, {\"agency_name\": \"SamTrans\", \"calitp_itp_id\": 290, \"service_date\": \"2022-05-20T00:00:00\", \"measure\": \"Total Number Vehicle Position Trips\", \"value\": 1288}, {\"agency_name\": \"SamTrans\", \"calitp_itp_id\": 290, \"service_date\": \"2022-05-21T00:00:00\", \"measure\": \"Total Number Vehicle Position Trips\", \"value\": 617}, {\"agency_name\": \"SamTrans\", \"calitp_itp_id\": 290, \"service_date\": \"2022-05-22T00:00:00\", \"measure\": \"Total Number Vehicle Position Trips\", \"value\": 535}, {\"agency_name\": \"SamTrans\", \"calitp_itp_id\": 290, \"service_date\": \"2022-05-23T00:00:00\", \"measure\": \"Total Number Vehicle Position Trips\", \"value\": 916}, {\"agency_name\": \"SamTrans\", \"calitp_itp_id\": 290, \"service_date\": \"2022-05-24T00:00:00\", \"measure\": \"Total Number Vehicle Position Trips\", \"value\": 1247}, {\"agency_name\": \"SamTrans\", \"calitp_itp_id\": 290, \"service_date\": \"2022-05-25T00:00:00\", \"measure\": \"Total Number Vehicle Position Trips\", \"value\": 1261}, {\"agency_name\": \"SamTrans\", \"calitp_itp_id\": 290, \"service_date\": \"2022-05-26T00:00:00\", \"measure\": \"Total Number Vehicle Position Trips\", \"value\": 1256}, {\"agency_name\": \"SamTrans\", \"calitp_itp_id\": 290, \"service_date\": \"2022-05-27T00:00:00\", \"measure\": \"Total Number Vehicle Position Trips\", \"value\": 1278}, {\"agency_name\": \"SamTrans\", \"calitp_itp_id\": 290, \"service_date\": \"2022-05-28T00:00:00\", \"measure\": \"Total Number Vehicle Position Trips\", \"value\": 620}, {\"agency_name\": \"SamTrans\", \"calitp_itp_id\": 290, \"service_date\": \"2022-05-29T00:00:00\", \"measure\": \"Total Number Vehicle Position Trips\", \"value\": 545}, {\"agency_name\": \"SamTrans\", \"calitp_itp_id\": 290, \"service_date\": \"2022-05-30T00:00:00\", \"measure\": \"Total Number Vehicle Position Trips\", \"value\": 732}, {\"agency_name\": \"SamTrans\", \"calitp_itp_id\": 290, \"service_date\": \"2022-05-31T00:00:00\", \"measure\": \"Total Number Vehicle Position Trips\", \"value\": 948}, {\"agency_name\": \"SamTrans\", \"calitp_itp_id\": 290, \"service_date\": \"2022-06-01T00:00:00\", \"measure\": \"Total Number Vehicle Position Trips\", \"value\": 1302}, {\"agency_name\": \"SamTrans\", \"calitp_itp_id\": 290, \"service_date\": \"2022-06-02T00:00:00\", \"measure\": \"Total Number Vehicle Position Trips\", \"value\": 1289}, {\"agency_name\": \"SamTrans\", \"calitp_itp_id\": 290, \"service_date\": \"2022-06-03T00:00:00\", \"measure\": \"Total Number Vehicle Position Trips\", \"value\": 1296}, {\"agency_name\": \"SamTrans\", \"calitp_itp_id\": 290, \"service_date\": \"2022-06-04T00:00:00\", \"measure\": \"Total Number Vehicle Position Trips\", \"value\": 625}, {\"agency_name\": \"SamTrans\", \"calitp_itp_id\": 290, \"service_date\": \"2022-06-05T00:00:00\", \"measure\": \"Total Number Vehicle Position Trips\", \"value\": 545}, {\"agency_name\": \"SamTrans\", \"calitp_itp_id\": 290, \"service_date\": \"2022-06-06T00:00:00\", \"measure\": \"Total Number Vehicle Position Trips\", \"value\": 946}, {\"agency_name\": \"SamTrans\", \"calitp_itp_id\": 290, \"service_date\": \"2022-06-07T00:00:00\", \"measure\": \"Total Number Vehicle Position Trips\", \"value\": 1282}, {\"agency_name\": \"SamTrans\", \"calitp_itp_id\": 290, \"service_date\": \"2022-06-08T00:00:00\", \"measure\": \"Total Number Vehicle Position Trips\", \"value\": 556}, {\"agency_name\": \"SamTrans\", \"calitp_itp_id\": 290, \"service_date\": \"2022-06-09T00:00:00\", \"measure\": \"Total Number Vehicle Position Trips\", \"value\": 729}, {\"agency_name\": \"SamTrans\", \"calitp_itp_id\": 290, \"service_date\": \"2022-06-10T00:00:00\", \"measure\": \"Total Number Vehicle Position Trips\", \"value\": 714}, {\"agency_name\": \"SamTrans\", \"calitp_itp_id\": 290, \"service_date\": \"2022-06-11T00:00:00\", \"measure\": \"Total Number Vehicle Position Trips\", \"value\": 328}, {\"agency_name\": \"SamTrans\", \"calitp_itp_id\": 290, \"service_date\": \"2022-06-12T00:00:00\", \"measure\": \"Total Number Vehicle Position Trips\", \"value\": 285}, {\"agency_name\": \"SamTrans\", \"calitp_itp_id\": 290, \"service_date\": \"2022-06-13T00:00:00\", \"measure\": \"Total Number Vehicle Position Trips\", \"value\": 542}, {\"agency_name\": \"SamTrans\", \"calitp_itp_id\": 290, \"service_date\": \"2022-06-14T00:00:00\", \"measure\": \"Total Number Vehicle Position Trips\", \"value\": 727}, {\"agency_name\": \"SamTrans\", \"calitp_itp_id\": 290, \"service_date\": \"2022-06-15T00:00:00\", \"measure\": \"Total Number Vehicle Position Trips\", \"value\": 733}, {\"agency_name\": \"SamTrans\", \"calitp_itp_id\": 290, \"service_date\": \"2022-06-16T00:00:00\", \"measure\": \"Total Number Vehicle Position Trips\", \"value\": 721}, {\"agency_name\": \"SamTrans\", \"calitp_itp_id\": 290, \"service_date\": \"2022-06-17T00:00:00\", \"measure\": \"Total Number Vehicle Position Trips\", \"value\": 721}, {\"agency_name\": \"SamTrans\", \"calitp_itp_id\": 290, \"service_date\": \"2022-06-18T00:00:00\", \"measure\": \"Total Number Vehicle Position Trips\", \"value\": 327}, {\"agency_name\": \"SamTrans\", \"calitp_itp_id\": 290, \"service_date\": \"2022-06-19T00:00:00\", \"measure\": \"Total Number Vehicle Position Trips\", \"value\": 235}, {\"agency_name\": \"SamTrans\", \"calitp_itp_id\": 290, \"service_date\": \"2022-06-20T00:00:00\", \"measure\": \"Total Number Vehicle Position Trips\", \"value\": 398}, {\"agency_name\": \"SamTrans\", \"calitp_itp_id\": 290, \"service_date\": \"2022-06-21T00:00:00\", \"measure\": \"Total Number Vehicle Position Trips\", \"value\": 580}, {\"agency_name\": \"SamTrans\", \"calitp_itp_id\": 290, \"service_date\": \"2022-06-22T00:00:00\", \"measure\": \"Total Number Vehicle Position Trips\", \"value\": 571}, {\"agency_name\": \"SamTrans\", \"calitp_itp_id\": 290, \"service_date\": \"2022-06-23T00:00:00\", \"measure\": \"Total Number Vehicle Position Trips\", \"value\": 575}, {\"agency_name\": \"SamTrans\", \"calitp_itp_id\": 290, \"service_date\": \"2022-06-24T00:00:00\", \"measure\": \"Total Number Vehicle Position Trips\", \"value\": 504}, {\"agency_name\": \"SamTrans\", \"calitp_itp_id\": 290, \"service_date\": \"2022-06-25T00:00:00\", \"measure\": \"Total Number Vehicle Position Trips\", \"value\": 630}, {\"agency_name\": \"SamTrans\", \"calitp_itp_id\": 290, \"service_date\": \"2022-06-26T00:00:00\", \"measure\": \"Total Number Vehicle Position Trips\", \"value\": 547}, {\"agency_name\": \"SamTrans\", \"calitp_itp_id\": 290, \"service_date\": \"2022-06-27T00:00:00\", \"measure\": \"Total Number Vehicle Position Trips\", \"value\": 937}, {\"agency_name\": \"SamTrans\", \"calitp_itp_id\": 290, \"service_date\": \"2022-06-28T00:00:00\", \"measure\": \"Total Number Vehicle Position Trips\", \"value\": 1291}, {\"agency_name\": \"SamTrans\", \"calitp_itp_id\": 290, \"service_date\": \"2022-06-29T00:00:00\", \"measure\": \"Total Number Vehicle Position Trips\", \"value\": 1300}, {\"agency_name\": \"SamTrans\", \"calitp_itp_id\": 290, \"service_date\": \"2022-06-30T00:00:00\", \"measure\": \"Total Number Vehicle Position Trips\", \"value\": 1292}]}}, {\"mode\": \"vega-lite\"});\n",
       "</script>"
      ],
      "text/plain": [
       "alt.Chart(...)"
      ]
     },
     "execution_count": 30,
     "metadata": {},
     "output_type": "execute_result"
    }
   ],
   "source": [
    "(utils.bar_chart_over_time((day_pct_long>>filter(_.calitp_itp_id==st)),\n",
    "                           'service_date',\n",
    "                           'value',\n",
    "                           'measure', \n",
    "                           ',f',\n",
    "                           'x', \n",
    "                           'SamTrans Scheduled Trips with RT Vehicle Position Data'\n",
    "                          )).properties(width=800)"
   ]
  },
  {
   "cell_type": "code",
   "execution_count": null,
   "id": "8fe9ad2d-627d-4586-8813-a0bae09f2da1",
   "metadata": {},
   "outputs": [],
   "source": []
  },
  {
   "cell_type": "markdown",
   "id": "1e8d33a2-6b2b-401d-8b14-50ce2a35c106",
   "metadata": {},
   "source": [
    "## By Weekday"
   ]
  },
  {
   "cell_type": "code",
   "execution_count": 31,
   "id": "1a8e4256-cedb-49fc-93dc-30699eb9e5ad",
   "metadata": {},
   "outputs": [],
   "source": [
    "bbb_week = utils.groupby_onecol((day_pct>>filter(_.calitp_itp_id==bbb)), 'weekday', 'pct_w_vp')"
   ]
  },
  {
   "cell_type": "code",
   "execution_count": 32,
   "id": "5daae5fb-440d-4ebe-9ae9-de134aae217c",
   "metadata": {},
   "outputs": [
    {
     "data": {
      "text/html": [
       "<div>\n",
       "<style scoped>\n",
       "    .dataframe tbody tr th:only-of-type {\n",
       "        vertical-align: middle;\n",
       "    }\n",
       "\n",
       "    .dataframe tbody tr th {\n",
       "        vertical-align: top;\n",
       "    }\n",
       "\n",
       "    .dataframe thead th {\n",
       "        text-align: right;\n",
       "    }\n",
       "</style>\n",
       "<table border=\"1\" class=\"dataframe\">\n",
       "  <thead>\n",
       "    <tr style=\"text-align: right;\">\n",
       "      <th></th>\n",
       "      <th>weekday</th>\n",
       "      <th>avg</th>\n",
       "    </tr>\n",
       "  </thead>\n",
       "  <tbody>\n",
       "    <tr>\n",
       "      <th>1</th>\n",
       "      <td>Monday</td>\n",
       "      <td>0.73</td>\n",
       "    </tr>\n",
       "    <tr>\n",
       "      <th>5</th>\n",
       "      <td>Tuesday</td>\n",
       "      <td>0.88</td>\n",
       "    </tr>\n",
       "    <tr>\n",
       "      <th>6</th>\n",
       "      <td>Wednesday</td>\n",
       "      <td>0.91</td>\n",
       "    </tr>\n",
       "    <tr>\n",
       "      <th>4</th>\n",
       "      <td>Thursday</td>\n",
       "      <td>0.92</td>\n",
       "    </tr>\n",
       "    <tr>\n",
       "      <th>0</th>\n",
       "      <td>Friday</td>\n",
       "      <td>0.91</td>\n",
       "    </tr>\n",
       "    <tr>\n",
       "      <th>2</th>\n",
       "      <td>Saturday</td>\n",
       "      <td>0.70</td>\n",
       "    </tr>\n",
       "    <tr>\n",
       "      <th>3</th>\n",
       "      <td>Sunday</td>\n",
       "      <td>0.69</td>\n",
       "    </tr>\n",
       "  </tbody>\n",
       "</table>\n",
       "</div>"
      ],
      "text/plain": [
       "     weekday  avg\n",
       "1     Monday 0.73\n",
       "5    Tuesday 0.88\n",
       "6  Wednesday 0.91\n",
       "4   Thursday 0.92\n",
       "0     Friday 0.91\n",
       "2   Saturday 0.70\n",
       "3     Sunday 0.69"
      ]
     },
     "execution_count": 32,
     "metadata": {},
     "output_type": "execute_result"
    }
   ],
   "source": [
    "bbb_week"
   ]
  },
  {
   "cell_type": "code",
   "execution_count": 33,
   "id": "49fcf549-632b-4a28-9606-4e2eca3e6e60",
   "metadata": {},
   "outputs": [],
   "source": [
    " cats_day = ['Monday', 'Tuesday', 'Wednesday', 'Thursday', 'Friday', 'Saturday', 'Sunday']"
   ]
  },
  {
   "cell_type": "code",
   "execution_count": 34,
   "id": "d0049277-454a-4bf4-9df7-f0cdc712beb0",
   "metadata": {},
   "outputs": [
    {
     "data": {
      "text/html": [
       "\n",
       "<div id=\"altair-viz-25e8dbe0d239402e953c566327298bc9\"></div>\n",
       "<script type=\"text/javascript\">\n",
       "  var VEGA_DEBUG = (typeof VEGA_DEBUG == \"undefined\") ? {} : VEGA_DEBUG;\n",
       "  (function(spec, embedOpt){\n",
       "    let outputDiv = document.currentScript.previousElementSibling;\n",
       "    if (outputDiv.id !== \"altair-viz-25e8dbe0d239402e953c566327298bc9\") {\n",
       "      outputDiv = document.getElementById(\"altair-viz-25e8dbe0d239402e953c566327298bc9\");\n",
       "    }\n",
       "    const paths = {\n",
       "      \"vega\": \"https://cdn.jsdelivr.net/npm//vega@5?noext\",\n",
       "      \"vega-lib\": \"https://cdn.jsdelivr.net/npm//vega-lib?noext\",\n",
       "      \"vega-lite\": \"https://cdn.jsdelivr.net/npm//vega-lite@4.17.0?noext\",\n",
       "      \"vega-embed\": \"https://cdn.jsdelivr.net/npm//vega-embed@6?noext\",\n",
       "    };\n",
       "\n",
       "    function maybeLoadScript(lib, version) {\n",
       "      var key = `${lib.replace(\"-\", \"\")}_version`;\n",
       "      return (VEGA_DEBUG[key] == version) ?\n",
       "        Promise.resolve(paths[lib]) :\n",
       "        new Promise(function(resolve, reject) {\n",
       "          var s = document.createElement('script');\n",
       "          document.getElementsByTagName(\"head\")[0].appendChild(s);\n",
       "          s.async = true;\n",
       "          s.onload = () => {\n",
       "            VEGA_DEBUG[key] = version;\n",
       "            return resolve(paths[lib]);\n",
       "          };\n",
       "          s.onerror = () => reject(`Error loading script: ${paths[lib]}`);\n",
       "          s.src = paths[lib];\n",
       "        });\n",
       "    }\n",
       "\n",
       "    function showError(err) {\n",
       "      outputDiv.innerHTML = `<div class=\"error\" style=\"color:red;\">${err}</div>`;\n",
       "      throw err;\n",
       "    }\n",
       "\n",
       "    function displayChart(vegaEmbed) {\n",
       "      vegaEmbed(outputDiv, spec, embedOpt)\n",
       "        .catch(err => showError(`Javascript Error: ${err.message}<br>This usually means there's a typo in your chart specification. See the javascript console for the full traceback.`));\n",
       "    }\n",
       "\n",
       "    if(typeof define === \"function\" && define.amd) {\n",
       "      requirejs.config({paths});\n",
       "      require([\"vega-embed\"], displayChart, err => showError(`Error loading script: ${err.message}`));\n",
       "    } else {\n",
       "      maybeLoadScript(\"vega\", \"5\")\n",
       "        .then(() => maybeLoadScript(\"vega-lite\", \"4.17.0\"))\n",
       "        .then(() => maybeLoadScript(\"vega-embed\", \"6\"))\n",
       "        .catch(showError)\n",
       "        .then(() => displayChart(vegaEmbed));\n",
       "    }\n",
       "  })({\"config\": {\"view\": {\"continuousWidth\": 400, \"continuousHeight\": 300}, \"axis\": {\"domainColor\": \"#cbcbcb\", \"grid\": true, \"gridColor\": \"#cbcbcb\", \"gridWidth\": 1, \"labelColor\": \"#474747\", \"labelFont\": \"Nunito Sans\", \"labelFontSize\": 10, \"labelPadding\": 4, \"tickColor\": \"#cbcbcb\", \"tickSize\": 10, \"titleColor\": \"#333\", \"titleFont\": \"Raleway\", \"titleFontSize\": 12, \"titlePadding\": 10}, \"axisBand\": {\"grid\": false}, \"background\": \"white\", \"font\": \"Raleway\", \"header\": {\"labelFont\": \"Nunito Sans\", \"titleFont\": \"Raleway\"}, \"legend\": {\"labelColor\": \"#333\", \"labelFont\": \"Nunito Sans\", \"labelFontSize\": 11, \"labelLimit\": 0, \"padding\": 1, \"symbolSize\": 30, \"symbolType\": \"square\", \"titleColor\": \"#333\", \"titleFont\": \"Raleway\", \"titleFontSize\": 14, \"titlePadding\": 10}, \"title\": {\"anchor\": \"middle\", \"font\": \"Raleway\", \"fontSize\": 18, \"fontWeight\": 300, \"offset\": 20}}, \"data\": {\"name\": \"data-f0c1406c4a3452af15aa1927e5b1719e\"}, \"mark\": {\"type\": \"bar\", \"size\": 50}, \"encoding\": {\"color\": {\"field\": \"weekday\", \"type\": \"nominal\"}, \"tooltip\": [{\"field\": \"weekday\", \"title\": \"Weekday\", \"type\": \"nominal\"}, {\"field\": \"avg\", \"title\": \"Avg\", \"type\": \"quantitative\"}], \"x\": {\"field\": \"weekday\", \"sort\": [\"Monday\", \"Tuesday\", \"Wednesday\", \"Thursday\", \"Friday\", \"Saturday\", \"Sunday\"], \"title\": \"Weekday\", \"type\": \"nominal\"}, \"y\": {\"axis\": {\"format\": \"%\"}, \"field\": \"avg\", \"stack\": null, \"title\": \"Average\", \"type\": \"quantitative\"}}, \"height\": 250, \"title\": \"Big Blue Bus Percent of Scheduled Trips with RT Vehicle Position Data by Day\", \"width\": 400, \"$schema\": \"https://vega.github.io/schema/vega-lite/v4.17.0.json\", \"datasets\": {\"data-f0c1406c4a3452af15aa1927e5b1719e\": [{\"weekday\": \"Monday\", \"avg\": 0.7304811395216316}, {\"weekday\": \"Tuesday\", \"avg\": 0.884989560982434}, {\"weekday\": \"Wednesday\", \"avg\": 0.9135222455796784}, {\"weekday\": \"Thursday\", \"avg\": 0.9184654015263705}, {\"weekday\": \"Friday\", \"avg\": 0.908730952601874}, {\"weekday\": \"Saturday\", \"avg\": 0.6981321839080461}, {\"weekday\": \"Sunday\", \"avg\": 0.6870129870129871}]}}, {\"mode\": \"vega-lite\"});\n",
       "</script>"
      ],
      "text/plain": [
       "alt.Chart(...)"
      ]
     },
     "execution_count": 34,
     "metadata": {},
     "output_type": "execute_result"
    }
   ],
   "source": [
    "#using function- x axis is not sorted\n",
    "utils.bar_chart_over_time(bbb_week, \n",
    "                          'weekday', \n",
    "                          'avg', \n",
    "                          'weekday', \n",
    "                          '%', \n",
    "                          cats_day,\n",
    "                          'Big Blue Bus Percent of Scheduled Trips with RT Vehicle Position Data by Day').mark_bar(size=50)"
   ]
  },
  {
   "cell_type": "code",
   "execution_count": null,
   "id": "fb6b77d2-b86f-40d3-9b3d-e2887d55e261",
   "metadata": {},
   "outputs": [],
   "source": []
  },
  {
   "cell_type": "code",
   "execution_count": 35,
   "id": "936b5e80-3ded-4a5f-acd9-27928276f106",
   "metadata": {},
   "outputs": [],
   "source": [
    "bbb_week_month = utils.groupby_twocol((day_pct>>filter(_.calitp_itp_id==bbb)), 'month', 'weekday', 'pct_w_vp', 'weekday')"
   ]
  },
  {
   "cell_type": "code",
   "execution_count": 36,
   "id": "00524764-72b4-4bce-954f-49ce5c06057c",
   "metadata": {},
   "outputs": [],
   "source": [
    "# add column arg"
   ]
  },
  {
   "cell_type": "code",
   "execution_count": 37,
   "id": "380b2fcf-86ef-418e-b185-b58d05ddc27a",
   "metadata": {},
   "outputs": [
    {
     "data": {
      "text/html": [
       "\n",
       "<div id=\"altair-viz-fa41d947bf834a8a9d19e5bb720633ca\"></div>\n",
       "<script type=\"text/javascript\">\n",
       "  var VEGA_DEBUG = (typeof VEGA_DEBUG == \"undefined\") ? {} : VEGA_DEBUG;\n",
       "  (function(spec, embedOpt){\n",
       "    let outputDiv = document.currentScript.previousElementSibling;\n",
       "    if (outputDiv.id !== \"altair-viz-fa41d947bf834a8a9d19e5bb720633ca\") {\n",
       "      outputDiv = document.getElementById(\"altair-viz-fa41d947bf834a8a9d19e5bb720633ca\");\n",
       "    }\n",
       "    const paths = {\n",
       "      \"vega\": \"https://cdn.jsdelivr.net/npm//vega@5?noext\",\n",
       "      \"vega-lib\": \"https://cdn.jsdelivr.net/npm//vega-lib?noext\",\n",
       "      \"vega-lite\": \"https://cdn.jsdelivr.net/npm//vega-lite@4.17.0?noext\",\n",
       "      \"vega-embed\": \"https://cdn.jsdelivr.net/npm//vega-embed@6?noext\",\n",
       "    };\n",
       "\n",
       "    function maybeLoadScript(lib, version) {\n",
       "      var key = `${lib.replace(\"-\", \"\")}_version`;\n",
       "      return (VEGA_DEBUG[key] == version) ?\n",
       "        Promise.resolve(paths[lib]) :\n",
       "        new Promise(function(resolve, reject) {\n",
       "          var s = document.createElement('script');\n",
       "          document.getElementsByTagName(\"head\")[0].appendChild(s);\n",
       "          s.async = true;\n",
       "          s.onload = () => {\n",
       "            VEGA_DEBUG[key] = version;\n",
       "            return resolve(paths[lib]);\n",
       "          };\n",
       "          s.onerror = () => reject(`Error loading script: ${paths[lib]}`);\n",
       "          s.src = paths[lib];\n",
       "        });\n",
       "    }\n",
       "\n",
       "    function showError(err) {\n",
       "      outputDiv.innerHTML = `<div class=\"error\" style=\"color:red;\">${err}</div>`;\n",
       "      throw err;\n",
       "    }\n",
       "\n",
       "    function displayChart(vegaEmbed) {\n",
       "      vegaEmbed(outputDiv, spec, embedOpt)\n",
       "        .catch(err => showError(`Javascript Error: ${err.message}<br>This usually means there's a typo in your chart specification. See the javascript console for the full traceback.`));\n",
       "    }\n",
       "\n",
       "    if(typeof define === \"function\" && define.amd) {\n",
       "      requirejs.config({paths});\n",
       "      require([\"vega-embed\"], displayChart, err => showError(`Error loading script: ${err.message}`));\n",
       "    } else {\n",
       "      maybeLoadScript(\"vega\", \"5\")\n",
       "        .then(() => maybeLoadScript(\"vega-lite\", \"4.17.0\"))\n",
       "        .then(() => maybeLoadScript(\"vega-embed\", \"6\"))\n",
       "        .catch(showError)\n",
       "        .then(() => displayChart(vegaEmbed));\n",
       "    }\n",
       "  })({\"config\": {\"view\": {\"continuousWidth\": 400, \"continuousHeight\": 300}, \"axis\": {\"domainColor\": \"#cbcbcb\", \"grid\": true, \"gridColor\": \"#cbcbcb\", \"gridWidth\": 1, \"labelColor\": \"#474747\", \"labelFont\": \"Nunito Sans\", \"labelFontSize\": 10, \"labelPadding\": 4, \"tickColor\": \"#cbcbcb\", \"tickSize\": 10, \"titleColor\": \"#333\", \"titleFont\": \"Raleway\", \"titleFontSize\": 12, \"titlePadding\": 10}, \"axisBand\": {\"grid\": false}, \"background\": \"white\", \"font\": \"Raleway\", \"header\": {\"labelFont\": \"Nunito Sans\", \"titleFont\": \"Raleway\"}, \"legend\": {\"labelColor\": \"#333\", \"labelFont\": \"Nunito Sans\", \"labelFontSize\": 11, \"labelLimit\": 0, \"padding\": 1, \"symbolSize\": 30, \"symbolType\": \"square\", \"titleColor\": \"#333\", \"titleFont\": \"Raleway\", \"titleFontSize\": 14, \"titlePadding\": 10}, \"title\": {\"anchor\": \"middle\", \"font\": \"Raleway\", \"fontSize\": 18, \"fontWeight\": 300, \"offset\": 20}}, \"data\": {\"name\": \"data-7a520170fb2a3ef5ffc230bddfa27503\"}, \"mark\": {\"type\": \"bar\", \"size\": 50}, \"encoding\": {\"color\": {\"field\": \"weekday\", \"type\": \"nominal\"}, \"column\": {\"field\": \"month\", \"type\": \"nominal\"}, \"tooltip\": [{\"field\": \"weekday\", \"title\": \"Weekday\", \"type\": \"nominal\"}, {\"field\": \"avg\", \"title\": \"Avg\", \"type\": \"quantitative\"}], \"x\": {\"field\": \"weekday\", \"sort\": [\"Monday\", \"Tuesday\", \"Wednesday\", \"Thursday\", \"Friday\", \"Saturday\", \"Sunday\"], \"title\": \"Weekday\", \"type\": \"nominal\"}, \"y\": {\"axis\": {\"format\": \"%\"}, \"field\": \"avg\", \"stack\": null, \"title\": \"Average\", \"type\": \"quantitative\"}}, \"height\": 250, \"title\": \"Average Big Blue Bus Percent of Scheduled Trips with RT Vehicle Position Data by Day\", \"width\": 400, \"$schema\": \"https://vega.github.io/schema/vega-lite/v4.17.0.json\", \"datasets\": {\"data-7a520170fb2a3ef5ffc230bddfa27503\": [{\"month\": \"June\", \"weekday\": \"Monday\", \"avg\": 0.7049440586294933}, {\"month\": \"May\", \"weekday\": \"Monday\", \"avg\": 0.7509108042353425}, {\"month\": \"June\", \"weekday\": \"Tuesday\", \"avg\": 0.9102568552183921}, {\"month\": \"May\", \"weekday\": \"Tuesday\", \"avg\": 0.8647757255936674}, {\"month\": \"June\", \"weekday\": \"Wednesday\", \"avg\": 0.9204614140750838}, {\"month\": \"May\", \"weekday\": \"Wednesday\", \"avg\": 0.9048482849604221}, {\"month\": \"June\", \"weekday\": \"Thursday\", \"avg\": 0.9297548731432453}, {\"month\": \"May\", \"weekday\": \"Thursday\", \"avg\": 0.904353562005277}, {\"month\": \"June\", \"weekday\": \"Friday\", \"avg\": 0.9086164165688244}, {\"month\": \"May\", \"weekday\": \"Friday\", \"avg\": 0.9088454886349235}, {\"month\": \"June\", \"weekday\": \"Saturday\", \"avg\": 0.6919540229885057}, {\"month\": \"May\", \"weekday\": \"Saturday\", \"avg\": 0.7043103448275863}, {\"month\": \"June\", \"weekday\": \"Sunday\", \"avg\": 0.6847402597402596}, {\"month\": \"May\", \"weekday\": \"Sunday\", \"avg\": 0.6888311688311688}]}}, {\"mode\": \"vega-lite\"});\n",
       "</script>"
      ],
      "text/plain": [
       "alt.Chart(...)"
      ]
     },
     "execution_count": 37,
     "metadata": {},
     "output_type": "execute_result"
    }
   ],
   "source": [
    "utils.bar_chart_over_time(bbb_week_month,\n",
    "                          'weekday', \n",
    "                          'avg',\n",
    "                          'weekday',\n",
    "                          '%', \n",
    "                          cats_day,\n",
    "                          'Average Big Blue Bus Percent of Scheduled Trips with RT Vehicle Position Data by Day').encode(column='month').mark_bar(size=50)"
   ]
  },
  {
   "cell_type": "code",
   "execution_count": 38,
   "id": "06c6f42b-8e03-4045-a378-ea3db1ae81d5",
   "metadata": {},
   "outputs": [],
   "source": [
    "cats_month = ['January', 'February', 'March', 'April', 'May', 'June', 'July', 'August', 'September', 'October', 'November', 'December']"
   ]
  },
  {
   "cell_type": "code",
   "execution_count": 39,
   "id": "39e11e05-47a7-4923-ab5b-c0aa66664b54",
   "metadata": {},
   "outputs": [
    {
     "data": {
      "text/html": [
       "\n",
       "<div id=\"altair-viz-0f7550d460694be8a70f1fbee17aa8b4\"></div>\n",
       "<script type=\"text/javascript\">\n",
       "  var VEGA_DEBUG = (typeof VEGA_DEBUG == \"undefined\") ? {} : VEGA_DEBUG;\n",
       "  (function(spec, embedOpt){\n",
       "    let outputDiv = document.currentScript.previousElementSibling;\n",
       "    if (outputDiv.id !== \"altair-viz-0f7550d460694be8a70f1fbee17aa8b4\") {\n",
       "      outputDiv = document.getElementById(\"altair-viz-0f7550d460694be8a70f1fbee17aa8b4\");\n",
       "    }\n",
       "    const paths = {\n",
       "      \"vega\": \"https://cdn.jsdelivr.net/npm//vega@5?noext\",\n",
       "      \"vega-lib\": \"https://cdn.jsdelivr.net/npm//vega-lib?noext\",\n",
       "      \"vega-lite\": \"https://cdn.jsdelivr.net/npm//vega-lite@4.17.0?noext\",\n",
       "      \"vega-embed\": \"https://cdn.jsdelivr.net/npm//vega-embed@6?noext\",\n",
       "    };\n",
       "\n",
       "    function maybeLoadScript(lib, version) {\n",
       "      var key = `${lib.replace(\"-\", \"\")}_version`;\n",
       "      return (VEGA_DEBUG[key] == version) ?\n",
       "        Promise.resolve(paths[lib]) :\n",
       "        new Promise(function(resolve, reject) {\n",
       "          var s = document.createElement('script');\n",
       "          document.getElementsByTagName(\"head\")[0].appendChild(s);\n",
       "          s.async = true;\n",
       "          s.onload = () => {\n",
       "            VEGA_DEBUG[key] = version;\n",
       "            return resolve(paths[lib]);\n",
       "          };\n",
       "          s.onerror = () => reject(`Error loading script: ${paths[lib]}`);\n",
       "          s.src = paths[lib];\n",
       "        });\n",
       "    }\n",
       "\n",
       "    function showError(err) {\n",
       "      outputDiv.innerHTML = `<div class=\"error\" style=\"color:red;\">${err}</div>`;\n",
       "      throw err;\n",
       "    }\n",
       "\n",
       "    function displayChart(vegaEmbed) {\n",
       "      vegaEmbed(outputDiv, spec, embedOpt)\n",
       "        .catch(err => showError(`Javascript Error: ${err.message}<br>This usually means there's a typo in your chart specification. See the javascript console for the full traceback.`));\n",
       "    }\n",
       "\n",
       "    if(typeof define === \"function\" && define.amd) {\n",
       "      requirejs.config({paths});\n",
       "      require([\"vega-embed\"], displayChart, err => showError(`Error loading script: ${err.message}`));\n",
       "    } else {\n",
       "      maybeLoadScript(\"vega\", \"5\")\n",
       "        .then(() => maybeLoadScript(\"vega-lite\", \"4.17.0\"))\n",
       "        .then(() => maybeLoadScript(\"vega-embed\", \"6\"))\n",
       "        .catch(showError)\n",
       "        .then(() => displayChart(vegaEmbed));\n",
       "    }\n",
       "  })({\"config\": {\"view\": {\"continuousWidth\": 400, \"continuousHeight\": 300}, \"axis\": {\"domainColor\": \"#cbcbcb\", \"grid\": true, \"gridColor\": \"#cbcbcb\", \"gridWidth\": 1, \"labelColor\": \"#474747\", \"labelFont\": \"Nunito Sans\", \"labelFontSize\": 10, \"labelPadding\": 4, \"tickColor\": \"#cbcbcb\", \"tickSize\": 10, \"titleColor\": \"#333\", \"titleFont\": \"Raleway\", \"titleFontSize\": 12, \"titlePadding\": 10}, \"axisBand\": {\"grid\": false}, \"background\": \"white\", \"font\": \"Raleway\", \"header\": {\"labelFont\": \"Nunito Sans\", \"titleFont\": \"Raleway\"}, \"legend\": {\"labelColor\": \"#333\", \"labelFont\": \"Nunito Sans\", \"labelFontSize\": 11, \"labelLimit\": 0, \"padding\": 1, \"symbolSize\": 30, \"symbolType\": \"square\", \"titleColor\": \"#333\", \"titleFont\": \"Raleway\", \"titleFontSize\": 14, \"titlePadding\": 10}, \"title\": {\"anchor\": \"middle\", \"font\": \"Raleway\", \"fontSize\": 18, \"fontWeight\": 300, \"offset\": 20}}, \"data\": {\"name\": \"data-7a520170fb2a3ef5ffc230bddfa27503\"}, \"mark\": {\"type\": \"bar\", \"size\": 30}, \"encoding\": {\"color\": {\"field\": \"weekday\", \"type\": \"nominal\"}, \"row\": {\"field\": \"month\", \"sort\": [\"January\", \"February\", \"March\", \"April\", \"May\", \"June\", \"July\", \"August\", \"September\", \"October\", \"November\", \"December\"], \"type\": \"nominal\"}, \"tooltip\": [{\"field\": \"avg\", \"title\": \"Avg\", \"type\": \"quantitative\"}, {\"field\": \"weekday\", \"title\": \"Weekday\", \"type\": \"nominal\"}], \"x\": {\"axis\": {\"format\": \"%\"}, \"field\": \"avg\", \"title\": \"Average\", \"type\": \"quantitative\"}, \"y\": {\"axis\": {\"format\": \"\"}, \"field\": \"weekday\", \"stack\": null, \"title\": \"Weekday\", \"type\": \"nominal\"}}, \"height\": 250, \"title\": \"Average Big Blue Bus Percent of Scheduled Trips with RT Vehicle Position Data by Day\", \"width\": 400, \"$schema\": \"https://vega.github.io/schema/vega-lite/v4.17.0.json\", \"datasets\": {\"data-7a520170fb2a3ef5ffc230bddfa27503\": [{\"month\": \"June\", \"weekday\": \"Monday\", \"avg\": 0.7049440586294933}, {\"month\": \"May\", \"weekday\": \"Monday\", \"avg\": 0.7509108042353425}, {\"month\": \"June\", \"weekday\": \"Tuesday\", \"avg\": 0.9102568552183921}, {\"month\": \"May\", \"weekday\": \"Tuesday\", \"avg\": 0.8647757255936674}, {\"month\": \"June\", \"weekday\": \"Wednesday\", \"avg\": 0.9204614140750838}, {\"month\": \"May\", \"weekday\": \"Wednesday\", \"avg\": 0.9048482849604221}, {\"month\": \"June\", \"weekday\": \"Thursday\", \"avg\": 0.9297548731432453}, {\"month\": \"May\", \"weekday\": \"Thursday\", \"avg\": 0.904353562005277}, {\"month\": \"June\", \"weekday\": \"Friday\", \"avg\": 0.9086164165688244}, {\"month\": \"May\", \"weekday\": \"Friday\", \"avg\": 0.9088454886349235}, {\"month\": \"June\", \"weekday\": \"Saturday\", \"avg\": 0.6919540229885057}, {\"month\": \"May\", \"weekday\": \"Saturday\", \"avg\": 0.7043103448275863}, {\"month\": \"June\", \"weekday\": \"Sunday\", \"avg\": 0.6847402597402596}, {\"month\": \"May\", \"weekday\": \"Sunday\", \"avg\": 0.6888311688311688}]}}, {\"mode\": \"vega-lite\"});\n",
       "</script>"
      ],
      "text/plain": [
       "alt.Chart(...)"
      ]
     },
     "execution_count": 39,
     "metadata": {},
     "output_type": "execute_result"
    }
   ],
   "source": [
    "utils.bar_chart_over_time(bbb_week_month,\n",
    "                          'avg',\n",
    "                          'weekday',\n",
    "                          'weekday',\n",
    "                          '', \n",
    "                          cats_day, \n",
    "                          'Average Big Blue Bus Percent of Scheduled Trips with RT Vehicle Position Data by Day').encode(x=alt.X('avg:Q', title=utils.labeling('avg'), axis=alt.Axis(format='%')),\n",
    "                                                                                                                         row =alt.Row(\"month\", sort=cats_month)).mark_bar(size=30)"
   ]
  },
  {
   "cell_type": "code",
   "execution_count": 40,
   "id": "c1e5fcc6-4a52-46d5-8e46-43b588b6d114",
   "metadata": {},
   "outputs": [
    {
     "data": {
      "text/html": [
       "<div>\n",
       "<style scoped>\n",
       "    .dataframe tbody tr th:only-of-type {\n",
       "        vertical-align: middle;\n",
       "    }\n",
       "\n",
       "    .dataframe tbody tr th {\n",
       "        vertical-align: top;\n",
       "    }\n",
       "\n",
       "    .dataframe thead th {\n",
       "        text-align: right;\n",
       "    }\n",
       "</style>\n",
       "<table border=\"1\" class=\"dataframe\">\n",
       "  <thead>\n",
       "    <tr style=\"text-align: right;\">\n",
       "      <th></th>\n",
       "      <th>calitp_itp_id</th>\n",
       "      <th>agency_name</th>\n",
       "      <th>calitp_url_number</th>\n",
       "      <th>service_date</th>\n",
       "      <th>weekday</th>\n",
       "      <th>month</th>\n",
       "      <th>total_num_sched</th>\n",
       "      <th>total_num_vp</th>\n",
       "      <th>pct_w_vp</th>\n",
       "    </tr>\n",
       "  </thead>\n",
       "  <tbody>\n",
       "    <tr>\n",
       "      <th>45</th>\n",
       "      <td>290</td>\n",
       "      <td>SamTrans</td>\n",
       "      <td>1</td>\n",
       "      <td>2022-06-15</td>\n",
       "      <td>Wednesday</td>\n",
       "      <td>June</td>\n",
       "      <td>1343</td>\n",
       "      <td>733</td>\n",
       "      <td>0.55</td>\n",
       "    </tr>\n",
       "  </tbody>\n",
       "</table>\n",
       "</div>"
      ],
      "text/plain": [
       "    calitp_itp_id agency_name  calitp_url_number service_date    weekday  \\\n",
       "45            290    SamTrans                  1   2022-06-15  Wednesday   \n",
       "\n",
       "   month  total_num_sched  total_num_vp  pct_w_vp  \n",
       "45  June             1343           733      0.55  "
      ]
     },
     "execution_count": 40,
     "metadata": {},
     "output_type": "execute_result"
    }
   ],
   "source": [
    "day_pct.sample()"
   ]
  },
  {
   "cell_type": "code",
   "execution_count": 41,
   "id": "c138324f-fa12-45b9-bfce-1285163a090a",
   "metadata": {},
   "outputs": [
    {
     "data": {
      "text/html": [
       "\n",
       "<div id=\"altair-viz-f7e0fc1ca53140f8aeee8911fdc85bb2\"></div>\n",
       "<script type=\"text/javascript\">\n",
       "  var VEGA_DEBUG = (typeof VEGA_DEBUG == \"undefined\") ? {} : VEGA_DEBUG;\n",
       "  (function(spec, embedOpt){\n",
       "    let outputDiv = document.currentScript.previousElementSibling;\n",
       "    if (outputDiv.id !== \"altair-viz-f7e0fc1ca53140f8aeee8911fdc85bb2\") {\n",
       "      outputDiv = document.getElementById(\"altair-viz-f7e0fc1ca53140f8aeee8911fdc85bb2\");\n",
       "    }\n",
       "    const paths = {\n",
       "      \"vega\": \"https://cdn.jsdelivr.net/npm//vega@5?noext\",\n",
       "      \"vega-lib\": \"https://cdn.jsdelivr.net/npm//vega-lib?noext\",\n",
       "      \"vega-lite\": \"https://cdn.jsdelivr.net/npm//vega-lite@4.17.0?noext\",\n",
       "      \"vega-embed\": \"https://cdn.jsdelivr.net/npm//vega-embed@6?noext\",\n",
       "    };\n",
       "\n",
       "    function maybeLoadScript(lib, version) {\n",
       "      var key = `${lib.replace(\"-\", \"\")}_version`;\n",
       "      return (VEGA_DEBUG[key] == version) ?\n",
       "        Promise.resolve(paths[lib]) :\n",
       "        new Promise(function(resolve, reject) {\n",
       "          var s = document.createElement('script');\n",
       "          document.getElementsByTagName(\"head\")[0].appendChild(s);\n",
       "          s.async = true;\n",
       "          s.onload = () => {\n",
       "            VEGA_DEBUG[key] = version;\n",
       "            return resolve(paths[lib]);\n",
       "          };\n",
       "          s.onerror = () => reject(`Error loading script: ${paths[lib]}`);\n",
       "          s.src = paths[lib];\n",
       "        });\n",
       "    }\n",
       "\n",
       "    function showError(err) {\n",
       "      outputDiv.innerHTML = `<div class=\"error\" style=\"color:red;\">${err}</div>`;\n",
       "      throw err;\n",
       "    }\n",
       "\n",
       "    function displayChart(vegaEmbed) {\n",
       "      vegaEmbed(outputDiv, spec, embedOpt)\n",
       "        .catch(err => showError(`Javascript Error: ${err.message}<br>This usually means there's a typo in your chart specification. See the javascript console for the full traceback.`));\n",
       "    }\n",
       "\n",
       "    if(typeof define === \"function\" && define.amd) {\n",
       "      requirejs.config({paths});\n",
       "      require([\"vega-embed\"], displayChart, err => showError(`Error loading script: ${err.message}`));\n",
       "    } else {\n",
       "      maybeLoadScript(\"vega\", \"5\")\n",
       "        .then(() => maybeLoadScript(\"vega-lite\", \"4.17.0\"))\n",
       "        .then(() => maybeLoadScript(\"vega-embed\", \"6\"))\n",
       "        .catch(showError)\n",
       "        .then(() => displayChart(vegaEmbed));\n",
       "    }\n",
       "  })({\"config\": {\"view\": {\"continuousWidth\": 400, \"continuousHeight\": 300}, \"axis\": {\"domainColor\": \"#cbcbcb\", \"grid\": true, \"gridColor\": \"#cbcbcb\", \"gridWidth\": 1, \"labelColor\": \"#474747\", \"labelFont\": \"Nunito Sans\", \"labelFontSize\": 10, \"labelPadding\": 4, \"tickColor\": \"#cbcbcb\", \"tickSize\": 10, \"titleColor\": \"#333\", \"titleFont\": \"Raleway\", \"titleFontSize\": 12, \"titlePadding\": 10}, \"axisBand\": {\"grid\": false}, \"background\": \"white\", \"font\": \"Raleway\", \"header\": {\"labelFont\": \"Nunito Sans\", \"titleFont\": \"Raleway\"}, \"legend\": {\"labelColor\": \"#333\", \"labelFont\": \"Nunito Sans\", \"labelFontSize\": 11, \"labelLimit\": 0, \"padding\": 1, \"symbolSize\": 30, \"symbolType\": \"square\", \"titleColor\": \"#333\", \"titleFont\": \"Raleway\", \"titleFontSize\": 14, \"titlePadding\": 10}, \"title\": {\"anchor\": \"middle\", \"font\": \"Raleway\", \"fontSize\": 18, \"fontWeight\": 300, \"offset\": 20}}, \"data\": {\"name\": \"data-19b2b52c6df24e0c07fea38cbe2f7255\"}, \"mark\": {\"type\": \"line\", \"size\": 3}, \"encoding\": {\"color\": {\"field\": \"agency_name\", \"type\": \"nominal\"}, \"tooltip\": [{\"field\": \"service_date\", \"title\": \"Service Date\", \"type\": \"temporal\"}, {\"field\": \"pct_w_vp\", \"title\": \"Pct W Vp\", \"type\": \"quantitative\"}], \"x\": {\"field\": \"service_date\", \"sort\": [\"January\", \"February\", \"March\", \"April\", \"May\", \"June\", \"July\", \"August\", \"September\", \"October\", \"November\", \"December\"], \"title\": \"Service Date\", \"type\": \"temporal\"}, \"y\": {\"axis\": {\"format\": \"%\"}, \"field\": \"pct_w_vp\", \"stack\": null, \"title\": \"Percent of Scheduled Trips with Vehicle Postions\", \"type\": \"quantitative\"}}, \"height\": 250, \"title\": \"Average Percent of Scheduled Trips with RT Vehicle Position Data Over Time\", \"width\": 600, \"$schema\": \"https://vega.github.io/schema/vega-lite/v4.17.0.json\", \"datasets\": {\"data-19b2b52c6df24e0c07fea38cbe2f7255\": [{\"calitp_itp_id\": 290, \"agency_name\": \"SamTrans\", \"calitp_url_number\": 1, \"service_date\": \"2022-05-01T00:00:00\", \"weekday\": \"Sunday\", \"month\": \"May\", \"total_num_sched\": 765, \"total_num_vp\": 534, \"pct_w_vp\": 0.6980392156862745}, {\"calitp_itp_id\": 290, \"agency_name\": \"SamTrans\", \"calitp_url_number\": 1, \"service_date\": \"2022-05-02T00:00:00\", \"weekday\": \"Monday\", \"month\": \"May\", \"total_num_sched\": 1339, \"total_num_vp\": 938, \"pct_w_vp\": 0.700522778192681}, {\"calitp_itp_id\": 290, \"agency_name\": \"SamTrans\", \"calitp_url_number\": 1, \"service_date\": \"2022-05-03T00:00:00\", \"weekday\": \"Tuesday\", \"month\": \"May\", \"total_num_sched\": 1339, \"total_num_vp\": 1284, \"pct_w_vp\": 0.958924570575056}, {\"calitp_itp_id\": 290, \"agency_name\": \"SamTrans\", \"calitp_url_number\": 1, \"service_date\": \"2022-05-04T00:00:00\", \"weekday\": \"Wednesday\", \"month\": \"May\", \"total_num_sched\": 1343, \"total_num_vp\": 3, \"pct_w_vp\": 0.0022338049143708115}, {\"calitp_itp_id\": 290, \"agency_name\": \"SamTrans\", \"calitp_url_number\": 1, \"service_date\": \"2022-05-05T00:00:00\", \"weekday\": \"Thursday\", \"month\": \"May\", \"total_num_sched\": 1338, \"total_num_vp\": 948, \"pct_w_vp\": 0.7085201793721974}, {\"calitp_itp_id\": 290, \"agency_name\": \"SamTrans\", \"calitp_url_number\": 1, \"service_date\": \"2022-05-06T00:00:00\", \"weekday\": \"Friday\", \"month\": \"May\", \"total_num_sched\": 1339, \"total_num_vp\": 1292, \"pct_w_vp\": 0.9648991784914115}, {\"calitp_itp_id\": 290, \"agency_name\": \"SamTrans\", \"calitp_url_number\": 1, \"service_date\": \"2022-05-07T00:00:00\", \"weekday\": \"Saturday\", \"month\": \"May\", \"total_num_sched\": 890, \"total_num_vp\": 617, \"pct_w_vp\": 0.6932584269662921}, {\"calitp_itp_id\": 290, \"agency_name\": \"SamTrans\", \"calitp_url_number\": 1, \"service_date\": \"2022-05-08T00:00:00\", \"weekday\": \"Sunday\", \"month\": \"May\", \"total_num_sched\": 765, \"total_num_vp\": 518, \"pct_w_vp\": 0.677124183006536}, {\"calitp_itp_id\": 290, \"agency_name\": \"SamTrans\", \"calitp_url_number\": 1, \"service_date\": \"2022-05-09T00:00:00\", \"weekday\": \"Monday\", \"month\": \"May\", \"total_num_sched\": 1339, \"total_num_vp\": 908, \"pct_w_vp\": 0.678117998506348}, {\"calitp_itp_id\": 290, \"agency_name\": \"SamTrans\", \"calitp_url_number\": 1, \"service_date\": \"2022-05-10T00:00:00\", \"weekday\": \"Tuesday\", \"month\": \"May\", \"total_num_sched\": 1339, \"total_num_vp\": 1265, \"pct_w_vp\": 0.9447348767737117}, {\"calitp_itp_id\": 290, \"agency_name\": \"SamTrans\", \"calitp_url_number\": 1, \"service_date\": \"2022-05-11T00:00:00\", \"weekday\": \"Wednesday\", \"month\": \"May\", \"total_num_sched\": 1343, \"total_num_vp\": 1269, \"pct_w_vp\": 0.9448994787788533}, {\"calitp_itp_id\": 290, \"agency_name\": \"SamTrans\", \"calitp_url_number\": 1, \"service_date\": \"2022-05-12T00:00:00\", \"weekday\": \"Thursday\", \"month\": \"May\", \"total_num_sched\": 1338, \"total_num_vp\": 1285, \"pct_w_vp\": 0.9603886397608371}, {\"calitp_itp_id\": 290, \"agency_name\": \"SamTrans\", \"calitp_url_number\": 1, \"service_date\": \"2022-05-13T00:00:00\", \"weekday\": \"Friday\", \"month\": \"May\", \"total_num_sched\": 1339, \"total_num_vp\": 1274, \"pct_w_vp\": 0.9514563106796117}, {\"calitp_itp_id\": 290, \"agency_name\": \"SamTrans\", \"calitp_url_number\": 1, \"service_date\": \"2022-05-14T00:00:00\", \"weekday\": \"Saturday\", \"month\": \"May\", \"total_num_sched\": 890, \"total_num_vp\": 624, \"pct_w_vp\": 0.701123595505618}, {\"calitp_itp_id\": 290, \"agency_name\": \"SamTrans\", \"calitp_url_number\": 1, \"service_date\": \"2022-05-15T00:00:00\", \"weekday\": \"Sunday\", \"month\": \"May\", \"total_num_sched\": 765, \"total_num_vp\": 535, \"pct_w_vp\": 0.6993464052287581}, {\"calitp_itp_id\": 290, \"agency_name\": \"SamTrans\", \"calitp_url_number\": 1, \"service_date\": \"2022-05-16T00:00:00\", \"weekday\": \"Monday\", \"month\": \"May\", \"total_num_sched\": 1339, \"total_num_vp\": 929, \"pct_w_vp\": 0.6938013442867812}, {\"calitp_itp_id\": 290, \"agency_name\": \"SamTrans\", \"calitp_url_number\": 1, \"service_date\": \"2022-05-17T00:00:00\", \"weekday\": \"Tuesday\", \"month\": \"May\", \"total_num_sched\": 1339, \"total_num_vp\": 1283, \"pct_w_vp\": 0.9581777445855115}, {\"calitp_itp_id\": 290, \"agency_name\": \"SamTrans\", \"calitp_url_number\": 1, \"service_date\": \"2022-05-18T00:00:00\", \"weekday\": \"Wednesday\", \"month\": \"May\", \"total_num_sched\": 1343, \"total_num_vp\": 1287, \"pct_w_vp\": 0.9583023082650782}, {\"calitp_itp_id\": 290, \"agency_name\": \"SamTrans\", \"calitp_url_number\": 1, \"service_date\": \"2022-05-19T00:00:00\", \"weekday\": \"Thursday\", \"month\": \"May\", \"total_num_sched\": 1338, \"total_num_vp\": 1289, \"pct_w_vp\": 0.9633781763826607}, {\"calitp_itp_id\": 290, \"agency_name\": \"SamTrans\", \"calitp_url_number\": 1, \"service_date\": \"2022-05-20T00:00:00\", \"weekday\": \"Friday\", \"month\": \"May\", \"total_num_sched\": 1339, \"total_num_vp\": 1288, \"pct_w_vp\": 0.9619118745332338}, {\"calitp_itp_id\": 290, \"agency_name\": \"SamTrans\", \"calitp_url_number\": 1, \"service_date\": \"2022-05-21T00:00:00\", \"weekday\": \"Saturday\", \"month\": \"May\", \"total_num_sched\": 890, \"total_num_vp\": 617, \"pct_w_vp\": 0.6932584269662921}, {\"calitp_itp_id\": 290, \"agency_name\": \"SamTrans\", \"calitp_url_number\": 1, \"service_date\": \"2022-05-22T00:00:00\", \"weekday\": \"Sunday\", \"month\": \"May\", \"total_num_sched\": 765, \"total_num_vp\": 535, \"pct_w_vp\": 0.6993464052287581}, {\"calitp_itp_id\": 290, \"agency_name\": \"SamTrans\", \"calitp_url_number\": 1, \"service_date\": \"2022-05-23T00:00:00\", \"weekday\": \"Monday\", \"month\": \"May\", \"total_num_sched\": 1339, \"total_num_vp\": 916, \"pct_w_vp\": 0.6840926064227035}, {\"calitp_itp_id\": 290, \"agency_name\": \"SamTrans\", \"calitp_url_number\": 1, \"service_date\": \"2022-05-24T00:00:00\", \"weekday\": \"Tuesday\", \"month\": \"May\", \"total_num_sched\": 1339, \"total_num_vp\": 1247, \"pct_w_vp\": 0.9312920089619119}, {\"calitp_itp_id\": 290, \"agency_name\": \"SamTrans\", \"calitp_url_number\": 1, \"service_date\": \"2022-05-25T00:00:00\", \"weekday\": \"Wednesday\", \"month\": \"May\", \"total_num_sched\": 1343, \"total_num_vp\": 1261, \"pct_w_vp\": 0.9389426656738645}, {\"calitp_itp_id\": 290, \"agency_name\": \"SamTrans\", \"calitp_url_number\": 1, \"service_date\": \"2022-05-26T00:00:00\", \"weekday\": \"Thursday\", \"month\": \"May\", \"total_num_sched\": 1338, \"total_num_vp\": 1256, \"pct_w_vp\": 0.9387144992526159}, {\"calitp_itp_id\": 290, \"agency_name\": \"SamTrans\", \"calitp_url_number\": 1, \"service_date\": \"2022-05-27T00:00:00\", \"weekday\": \"Friday\", \"month\": \"May\", \"total_num_sched\": 1339, \"total_num_vp\": 1278, \"pct_w_vp\": 0.9544436146377894}, {\"calitp_itp_id\": 290, \"agency_name\": \"SamTrans\", \"calitp_url_number\": 1, \"service_date\": \"2022-05-28T00:00:00\", \"weekday\": \"Saturday\", \"month\": \"May\", \"total_num_sched\": 890, \"total_num_vp\": 620, \"pct_w_vp\": 0.6966292134831461}, {\"calitp_itp_id\": 290, \"agency_name\": \"SamTrans\", \"calitp_url_number\": 1, \"service_date\": \"2022-05-29T00:00:00\", \"weekday\": \"Sunday\", \"month\": \"May\", \"total_num_sched\": 765, \"total_num_vp\": 545, \"pct_w_vp\": 0.7124183006535948}, {\"calitp_itp_id\": 290, \"agency_name\": \"SamTrans\", \"calitp_url_number\": 1, \"service_date\": \"2022-05-30T00:00:00\", \"weekday\": \"Monday\", \"month\": \"May\", \"total_num_sched\": 765, \"total_num_vp\": 732, \"pct_w_vp\": 0.9568627450980393}, {\"calitp_itp_id\": 290, \"agency_name\": \"SamTrans\", \"calitp_url_number\": 1, \"service_date\": \"2022-05-31T00:00:00\", \"weekday\": \"Tuesday\", \"month\": \"May\", \"total_num_sched\": 1339, \"total_num_vp\": 948, \"pct_w_vp\": 0.7079910380881255}, {\"calitp_itp_id\": 290, \"agency_name\": \"SamTrans\", \"calitp_url_number\": 1, \"service_date\": \"2022-06-01T00:00:00\", \"weekday\": \"Wednesday\", \"month\": \"June\", \"total_num_sched\": 1343, \"total_num_vp\": 1302, \"pct_w_vp\": 0.9694713328369322}, {\"calitp_itp_id\": 290, \"agency_name\": \"SamTrans\", \"calitp_url_number\": 1, \"service_date\": \"2022-06-02T00:00:00\", \"weekday\": \"Thursday\", \"month\": \"June\", \"total_num_sched\": 1338, \"total_num_vp\": 1289, \"pct_w_vp\": 0.9633781763826607}, {\"calitp_itp_id\": 290, \"agency_name\": \"SamTrans\", \"calitp_url_number\": 1, \"service_date\": \"2022-06-03T00:00:00\", \"weekday\": \"Friday\", \"month\": \"June\", \"total_num_sched\": 1339, \"total_num_vp\": 1296, \"pct_w_vp\": 0.9678864824495892}, {\"calitp_itp_id\": 290, \"agency_name\": \"SamTrans\", \"calitp_url_number\": 1, \"service_date\": \"2022-06-04T00:00:00\", \"weekday\": \"Saturday\", \"month\": \"June\", \"total_num_sched\": 890, \"total_num_vp\": 625, \"pct_w_vp\": 0.702247191011236}, {\"calitp_itp_id\": 290, \"agency_name\": \"SamTrans\", \"calitp_url_number\": 1, \"service_date\": \"2022-06-05T00:00:00\", \"weekday\": \"Sunday\", \"month\": \"June\", \"total_num_sched\": 765, \"total_num_vp\": 545, \"pct_w_vp\": 0.7124183006535948}, {\"calitp_itp_id\": 290, \"agency_name\": \"SamTrans\", \"calitp_url_number\": 1, \"service_date\": \"2022-06-06T00:00:00\", \"weekday\": \"Monday\", \"month\": \"June\", \"total_num_sched\": 1339, \"total_num_vp\": 946, \"pct_w_vp\": 0.7064973861090366}, {\"calitp_itp_id\": 290, \"agency_name\": \"SamTrans\", \"calitp_url_number\": 1, \"service_date\": \"2022-06-07T00:00:00\", \"weekday\": \"Tuesday\", \"month\": \"June\", \"total_num_sched\": 1339, \"total_num_vp\": 1282, \"pct_w_vp\": 0.9574309185959672}, {\"calitp_itp_id\": 290, \"agency_name\": \"SamTrans\", \"calitp_url_number\": 1, \"service_date\": \"2022-06-08T00:00:00\", \"weekday\": \"Wednesday\", \"month\": \"June\", \"total_num_sched\": 1343, \"total_num_vp\": 556, \"pct_w_vp\": 0.41399851079672373}, {\"calitp_itp_id\": 290, \"agency_name\": \"SamTrans\", \"calitp_url_number\": 1, \"service_date\": \"2022-06-09T00:00:00\", \"weekday\": \"Thursday\", \"month\": \"June\", \"total_num_sched\": 1338, \"total_num_vp\": 729, \"pct_w_vp\": 0.5448430493273543}, {\"calitp_itp_id\": 290, \"agency_name\": \"SamTrans\", \"calitp_url_number\": 1, \"service_date\": \"2022-06-10T00:00:00\", \"weekday\": \"Friday\", \"month\": \"June\", \"total_num_sched\": 1339, \"total_num_vp\": 714, \"pct_w_vp\": 0.5332337565347274}, {\"calitp_itp_id\": 290, \"agency_name\": \"SamTrans\", \"calitp_url_number\": 1, \"service_date\": \"2022-06-11T00:00:00\", \"weekday\": \"Saturday\", \"month\": \"June\", \"total_num_sched\": 890, \"total_num_vp\": 328, \"pct_w_vp\": 0.3685393258426966}, {\"calitp_itp_id\": 290, \"agency_name\": \"SamTrans\", \"calitp_url_number\": 1, \"service_date\": \"2022-06-12T00:00:00\", \"weekday\": \"Sunday\", \"month\": \"June\", \"total_num_sched\": 765, \"total_num_vp\": 285, \"pct_w_vp\": 0.37254901960784315}, {\"calitp_itp_id\": 290, \"agency_name\": \"SamTrans\", \"calitp_url_number\": 1, \"service_date\": \"2022-06-13T00:00:00\", \"weekday\": \"Monday\", \"month\": \"June\", \"total_num_sched\": 1339, \"total_num_vp\": 542, \"pct_w_vp\": 0.40477968633308437}, {\"calitp_itp_id\": 290, \"agency_name\": \"SamTrans\", \"calitp_url_number\": 1, \"service_date\": \"2022-06-14T00:00:00\", \"weekday\": \"Tuesday\", \"month\": \"June\", \"total_num_sched\": 1339, \"total_num_vp\": 727, \"pct_w_vp\": 0.542942494398805}, {\"calitp_itp_id\": 290, \"agency_name\": \"SamTrans\", \"calitp_url_number\": 1, \"service_date\": \"2022-06-15T00:00:00\", \"weekday\": \"Wednesday\", \"month\": \"June\", \"total_num_sched\": 1343, \"total_num_vp\": 733, \"pct_w_vp\": 0.5457930007446017}, {\"calitp_itp_id\": 290, \"agency_name\": \"SamTrans\", \"calitp_url_number\": 1, \"service_date\": \"2022-06-16T00:00:00\", \"weekday\": \"Thursday\", \"month\": \"June\", \"total_num_sched\": 1338, \"total_num_vp\": 721, \"pct_w_vp\": 0.5388639760837071}, {\"calitp_itp_id\": 290, \"agency_name\": \"SamTrans\", \"calitp_url_number\": 1, \"service_date\": \"2022-06-17T00:00:00\", \"weekday\": \"Friday\", \"month\": \"June\", \"total_num_sched\": 1339, \"total_num_vp\": 721, \"pct_w_vp\": 0.5384615384615384}, {\"calitp_itp_id\": 290, \"agency_name\": \"SamTrans\", \"calitp_url_number\": 1, \"service_date\": \"2022-06-18T00:00:00\", \"weekday\": \"Saturday\", \"month\": \"June\", \"total_num_sched\": 890, \"total_num_vp\": 327, \"pct_w_vp\": 0.36741573033707864}, {\"calitp_itp_id\": 290, \"agency_name\": \"SamTrans\", \"calitp_url_number\": 1, \"service_date\": \"2022-06-19T00:00:00\", \"weekday\": \"Sunday\", \"month\": \"June\", \"total_num_sched\": 761, \"total_num_vp\": 235, \"pct_w_vp\": 0.3088042049934297}, {\"calitp_itp_id\": 290, \"agency_name\": \"SamTrans\", \"calitp_url_number\": 1, \"service_date\": \"2022-06-20T00:00:00\", \"weekday\": \"Monday\", \"month\": \"June\", \"total_num_sched\": 1318, \"total_num_vp\": 398, \"pct_w_vp\": 0.30197268588770865}, {\"calitp_itp_id\": 290, \"agency_name\": \"SamTrans\", \"calitp_url_number\": 1, \"service_date\": \"2022-06-21T00:00:00\", \"weekday\": \"Tuesday\", \"month\": \"June\", \"total_num_sched\": 1318, \"total_num_vp\": 580, \"pct_w_vp\": 0.4400606980273141}, {\"calitp_itp_id\": 290, \"agency_name\": \"SamTrans\", \"calitp_url_number\": 1, \"service_date\": \"2022-06-22T00:00:00\", \"weekday\": \"Wednesday\", \"month\": \"June\", \"total_num_sched\": 1318, \"total_num_vp\": 571, \"pct_w_vp\": 0.4332321699544765}, {\"calitp_itp_id\": 290, \"agency_name\": \"SamTrans\", \"calitp_url_number\": 1, \"service_date\": \"2022-06-23T00:00:00\", \"weekday\": \"Thursday\", \"month\": \"June\", \"total_num_sched\": 1318, \"total_num_vp\": 575, \"pct_w_vp\": 0.4362670713201821}, {\"calitp_itp_id\": 290, \"agency_name\": \"SamTrans\", \"calitp_url_number\": 1, \"service_date\": \"2022-06-24T00:00:00\", \"weekday\": \"Friday\", \"month\": \"June\", \"total_num_sched\": 1318, \"total_num_vp\": 504, \"pct_w_vp\": 0.38239757207890746}, {\"calitp_itp_id\": 290, \"agency_name\": \"SamTrans\", \"calitp_url_number\": 1, \"service_date\": \"2022-06-25T00:00:00\", \"weekday\": \"Saturday\", \"month\": \"June\", \"total_num_sched\": 886, \"total_num_vp\": 630, \"pct_w_vp\": 0.7110609480812641}, {\"calitp_itp_id\": 290, \"agency_name\": \"SamTrans\", \"calitp_url_number\": 1, \"service_date\": \"2022-06-26T00:00:00\", \"weekday\": \"Sunday\", \"month\": \"June\", \"total_num_sched\": 761, \"total_num_vp\": 547, \"pct_w_vp\": 0.7187910643889619}, {\"calitp_itp_id\": 290, \"agency_name\": \"SamTrans\", \"calitp_url_number\": 1, \"service_date\": \"2022-06-27T00:00:00\", \"weekday\": \"Monday\", \"month\": \"June\", \"total_num_sched\": 1318, \"total_num_vp\": 937, \"pct_w_vp\": 0.7109256449165402}, {\"calitp_itp_id\": 290, \"agency_name\": \"SamTrans\", \"calitp_url_number\": 1, \"service_date\": \"2022-06-28T00:00:00\", \"weekday\": \"Tuesday\", \"month\": \"June\", \"total_num_sched\": 1318, \"total_num_vp\": 1291, \"pct_w_vp\": 0.9795144157814871}, {\"calitp_itp_id\": 290, \"agency_name\": \"SamTrans\", \"calitp_url_number\": 1, \"service_date\": \"2022-06-29T00:00:00\", \"weekday\": \"Wednesday\", \"month\": \"June\", \"total_num_sched\": 1318, \"total_num_vp\": 1300, \"pct_w_vp\": 0.9863429438543247}, {\"calitp_itp_id\": 290, \"agency_name\": \"SamTrans\", \"calitp_url_number\": 1, \"service_date\": \"2022-06-30T00:00:00\", \"weekday\": \"Thursday\", \"month\": \"June\", \"total_num_sched\": 1318, \"total_num_vp\": 1292, \"pct_w_vp\": 0.9802731411229135}, {\"calitp_itp_id\": 300, \"agency_name\": \"Big Blue Bus\", \"calitp_url_number\": 0, \"service_date\": \"2022-05-01T00:00:00\", \"weekday\": \"Sunday\", \"month\": \"May\", \"total_num_sched\": 770, \"total_num_vp\": 526, \"pct_w_vp\": 0.6831168831168831}, {\"calitp_itp_id\": 300, \"agency_name\": \"Big Blue Bus\", \"calitp_url_number\": 0, \"service_date\": \"2022-05-02T00:00:00\", \"weekday\": \"Monday\", \"month\": \"May\", \"total_num_sched\": 1516, \"total_num_vp\": 1066, \"pct_w_vp\": 0.7031662269129287}, {\"calitp_itp_id\": 300, \"agency_name\": \"Big Blue Bus\", \"calitp_url_number\": 0, \"service_date\": \"2022-05-03T00:00:00\", \"weekday\": \"Tuesday\", \"month\": \"May\", \"total_num_sched\": 1516, \"total_num_vp\": 1365, \"pct_w_vp\": 0.9003957783641161}, {\"calitp_itp_id\": 300, \"agency_name\": \"Big Blue Bus\", \"calitp_url_number\": 0, \"service_date\": \"2022-05-04T00:00:00\", \"weekday\": \"Wednesday\", \"month\": \"May\", \"total_num_sched\": 1516, \"total_num_vp\": 1381, \"pct_w_vp\": 0.9109498680738787}, {\"calitp_itp_id\": 300, \"agency_name\": \"Big Blue Bus\", \"calitp_url_number\": 0, \"service_date\": \"2022-05-05T00:00:00\", \"weekday\": \"Thursday\", \"month\": \"May\", \"total_num_sched\": 1516, \"total_num_vp\": 1343, \"pct_w_vp\": 0.8858839050131926}, {\"calitp_itp_id\": 300, \"agency_name\": \"Big Blue Bus\", \"calitp_url_number\": 0, \"service_date\": \"2022-05-06T00:00:00\", \"weekday\": \"Friday\", \"month\": \"May\", \"total_num_sched\": 1464, \"total_num_vp\": 1295, \"pct_w_vp\": 0.8845628415300546}, {\"calitp_itp_id\": 300, \"agency_name\": \"Big Blue Bus\", \"calitp_url_number\": 0, \"service_date\": \"2022-05-07T00:00:00\", \"weekday\": \"Saturday\", \"month\": \"May\", \"total_num_sched\": 870, \"total_num_vp\": 604, \"pct_w_vp\": 0.6942528735632184}, {\"calitp_itp_id\": 300, \"agency_name\": \"Big Blue Bus\", \"calitp_url_number\": 0, \"service_date\": \"2022-05-08T00:00:00\", \"weekday\": \"Sunday\", \"month\": \"May\", \"total_num_sched\": 770, \"total_num_vp\": 501, \"pct_w_vp\": 0.6506493506493507}, {\"calitp_itp_id\": 300, \"agency_name\": \"Big Blue Bus\", \"calitp_url_number\": 0, \"service_date\": \"2022-05-09T00:00:00\", \"weekday\": \"Monday\", \"month\": \"May\", \"total_num_sched\": 1516, \"total_num_vp\": 1053, \"pct_w_vp\": 0.6945910290237467}, {\"calitp_itp_id\": 300, \"agency_name\": \"Big Blue Bus\", \"calitp_url_number\": 0, \"service_date\": \"2022-05-10T00:00:00\", \"weekday\": \"Tuesday\", \"month\": \"May\", \"total_num_sched\": 1516, \"total_num_vp\": 1380, \"pct_w_vp\": 0.9102902374670184}, {\"calitp_itp_id\": 300, \"agency_name\": \"Big Blue Bus\", \"calitp_url_number\": 0, \"service_date\": \"2022-05-11T00:00:00\", \"weekday\": \"Wednesday\", \"month\": \"May\", \"total_num_sched\": 1516, \"total_num_vp\": 1381, \"pct_w_vp\": 0.9109498680738787}, {\"calitp_itp_id\": 300, \"agency_name\": \"Big Blue Bus\", \"calitp_url_number\": 0, \"service_date\": \"2022-05-12T00:00:00\", \"weekday\": \"Thursday\", \"month\": \"May\", \"total_num_sched\": 1516, \"total_num_vp\": 1380, \"pct_w_vp\": 0.9102902374670184}, {\"calitp_itp_id\": 300, \"agency_name\": \"Big Blue Bus\", \"calitp_url_number\": 0, \"service_date\": \"2022-05-13T00:00:00\", \"weekday\": \"Friday\", \"month\": \"May\", \"total_num_sched\": 1464, \"total_num_vp\": 1343, \"pct_w_vp\": 0.9173497267759563}, {\"calitp_itp_id\": 300, \"agency_name\": \"Big Blue Bus\", \"calitp_url_number\": 0, \"service_date\": \"2022-05-14T00:00:00\", \"weekday\": \"Saturday\", \"month\": \"May\", \"total_num_sched\": 870, \"total_num_vp\": 600, \"pct_w_vp\": 0.6896551724137931}, {\"calitp_itp_id\": 300, \"agency_name\": \"Big Blue Bus\", \"calitp_url_number\": 0, \"service_date\": \"2022-05-15T00:00:00\", \"weekday\": \"Sunday\", \"month\": \"May\", \"total_num_sched\": 770, \"total_num_vp\": 526, \"pct_w_vp\": 0.6831168831168831}, {\"calitp_itp_id\": 300, \"agency_name\": \"Big Blue Bus\", \"calitp_url_number\": 0, \"service_date\": \"2022-05-16T00:00:00\", \"weekday\": \"Monday\", \"month\": \"May\", \"total_num_sched\": 1516, \"total_num_vp\": 1028, \"pct_w_vp\": 0.6781002638522428}, {\"calitp_itp_id\": 300, \"agency_name\": \"Big Blue Bus\", \"calitp_url_number\": 0, \"service_date\": \"2022-05-17T00:00:00\", \"weekday\": \"Tuesday\", \"month\": \"May\", \"total_num_sched\": 1516, \"total_num_vp\": 1373, \"pct_w_vp\": 0.9056728232189973}, {\"calitp_itp_id\": 300, \"agency_name\": \"Big Blue Bus\", \"calitp_url_number\": 0, \"service_date\": \"2022-05-18T00:00:00\", \"weekday\": \"Wednesday\", \"month\": \"May\", \"total_num_sched\": 1516, \"total_num_vp\": 1377, \"pct_w_vp\": 0.908311345646438}, {\"calitp_itp_id\": 300, \"agency_name\": \"Big Blue Bus\", \"calitp_url_number\": 0, \"service_date\": \"2022-05-19T00:00:00\", \"weekday\": \"Thursday\", \"month\": \"May\", \"total_num_sched\": 1516, \"total_num_vp\": 1367, \"pct_w_vp\": 0.9017150395778364}, {\"calitp_itp_id\": 300, \"agency_name\": \"Big Blue Bus\", \"calitp_url_number\": 0, \"service_date\": \"2022-05-20T00:00:00\", \"weekday\": \"Friday\", \"month\": \"May\", \"total_num_sched\": 1464, \"total_num_vp\": 1366, \"pct_w_vp\": 0.9330601092896175}, {\"calitp_itp_id\": 300, \"agency_name\": \"Big Blue Bus\", \"calitp_url_number\": 0, \"service_date\": \"2022-05-21T00:00:00\", \"weekday\": \"Saturday\", \"month\": \"May\", \"total_num_sched\": 870, \"total_num_vp\": 635, \"pct_w_vp\": 0.7298850574712644}, {\"calitp_itp_id\": 300, \"agency_name\": \"Big Blue Bus\", \"calitp_url_number\": 0, \"service_date\": \"2022-05-22T00:00:00\", \"weekday\": \"Sunday\", \"month\": \"May\", \"total_num_sched\": 770, \"total_num_vp\": 543, \"pct_w_vp\": 0.7051948051948052}, {\"calitp_itp_id\": 300, \"agency_name\": \"Big Blue Bus\", \"calitp_url_number\": 0, \"service_date\": \"2022-05-23T00:00:00\", \"weekday\": \"Monday\", \"month\": \"May\", \"total_num_sched\": 1516, \"total_num_vp\": 1086, \"pct_w_vp\": 0.716358839050132}, {\"calitp_itp_id\": 300, \"agency_name\": \"Big Blue Bus\", \"calitp_url_number\": 0, \"service_date\": \"2022-05-24T00:00:00\", \"weekday\": \"Tuesday\", \"month\": \"May\", \"total_num_sched\": 1516, \"total_num_vp\": 1370, \"pct_w_vp\": 0.9036939313984169}, {\"calitp_itp_id\": 300, \"agency_name\": \"Big Blue Bus\", \"calitp_url_number\": 0, \"service_date\": \"2022-05-25T00:00:00\", \"weekday\": \"Wednesday\", \"month\": \"May\", \"total_num_sched\": 1516, \"total_num_vp\": 1348, \"pct_w_vp\": 0.8891820580474934}, {\"calitp_itp_id\": 300, \"agency_name\": \"Big Blue Bus\", \"calitp_url_number\": 0, \"service_date\": \"2022-05-26T00:00:00\", \"weekday\": \"Thursday\", \"month\": \"May\", \"total_num_sched\": 1516, \"total_num_vp\": 1394, \"pct_w_vp\": 0.9195250659630607}, {\"calitp_itp_id\": 300, \"agency_name\": \"Big Blue Bus\", \"calitp_url_number\": 0, \"service_date\": \"2022-05-27T00:00:00\", \"weekday\": \"Friday\", \"month\": \"May\", \"total_num_sched\": 1466, \"total_num_vp\": 1320, \"pct_w_vp\": 0.9004092769440655}, {\"calitp_itp_id\": 300, \"agency_name\": \"Big Blue Bus\", \"calitp_url_number\": 0, \"service_date\": \"2022-05-28T00:00:00\", \"weekday\": \"Saturday\", \"month\": \"May\", \"total_num_sched\": 870, \"total_num_vp\": 612, \"pct_w_vp\": 0.7034482758620689}, {\"calitp_itp_id\": 300, \"agency_name\": \"Big Blue Bus\", \"calitp_url_number\": 0, \"service_date\": \"2022-05-29T00:00:00\", \"weekday\": \"Sunday\", \"month\": \"May\", \"total_num_sched\": 770, \"total_num_vp\": 556, \"pct_w_vp\": 0.7220779220779221}, {\"calitp_itp_id\": 300, \"agency_name\": \"Big Blue Bus\", \"calitp_url_number\": 0, \"service_date\": \"2022-05-30T00:00:00\", \"weekday\": \"Monday\", \"month\": \"May\", \"total_num_sched\": 770, \"total_num_vp\": 741, \"pct_w_vp\": 0.9623376623376624}, {\"calitp_itp_id\": 300, \"agency_name\": \"Big Blue Bus\", \"calitp_url_number\": 0, \"service_date\": \"2022-05-31T00:00:00\", \"weekday\": \"Tuesday\", \"month\": \"May\", \"total_num_sched\": 1516, \"total_num_vp\": 1067, \"pct_w_vp\": 0.7038258575197889}, {\"calitp_itp_id\": 300, \"agency_name\": \"Big Blue Bus\", \"calitp_url_number\": 0, \"service_date\": \"2022-06-01T00:00:00\", \"weekday\": \"Wednesday\", \"month\": \"June\", \"total_num_sched\": 1516, \"total_num_vp\": 1366, \"pct_w_vp\": 0.9010554089709762}, {\"calitp_itp_id\": 300, \"agency_name\": \"Big Blue Bus\", \"calitp_url_number\": 0, \"service_date\": \"2022-06-02T00:00:00\", \"weekday\": \"Thursday\", \"month\": \"June\", \"total_num_sched\": 1516, \"total_num_vp\": 1360, \"pct_w_vp\": 0.8970976253298153}, {\"calitp_itp_id\": 300, \"agency_name\": \"Big Blue Bus\", \"calitp_url_number\": 0, \"service_date\": \"2022-06-03T00:00:00\", \"weekday\": \"Friday\", \"month\": \"June\", \"total_num_sched\": 1516, \"total_num_vp\": 1294, \"pct_w_vp\": 0.8535620052770448}, {\"calitp_itp_id\": 300, \"agency_name\": \"Big Blue Bus\", \"calitp_url_number\": 0, \"service_date\": \"2022-06-04T00:00:00\", \"weekday\": \"Saturday\", \"month\": \"June\", \"total_num_sched\": 870, \"total_num_vp\": 610, \"pct_w_vp\": 0.7011494252873564}, {\"calitp_itp_id\": 300, \"agency_name\": \"Big Blue Bus\", \"calitp_url_number\": 0, \"service_date\": \"2022-06-05T00:00:00\", \"weekday\": \"Sunday\", \"month\": \"June\", \"total_num_sched\": 770, \"total_num_vp\": 554, \"pct_w_vp\": 0.7194805194805195}, {\"calitp_itp_id\": 300, \"agency_name\": \"Big Blue Bus\", \"calitp_url_number\": 0, \"service_date\": \"2022-06-06T00:00:00\", \"weekday\": \"Monday\", \"month\": \"June\", \"total_num_sched\": 1516, \"total_num_vp\": 1044, \"pct_w_vp\": 0.6886543535620053}, {\"calitp_itp_id\": 300, \"agency_name\": \"Big Blue Bus\", \"calitp_url_number\": 0, \"service_date\": \"2022-06-07T00:00:00\", \"weekday\": \"Tuesday\", \"month\": \"June\", \"total_num_sched\": 1516, \"total_num_vp\": 1338, \"pct_w_vp\": 0.8825857519788918}, {\"calitp_itp_id\": 300, \"agency_name\": \"Big Blue Bus\", \"calitp_url_number\": 0, \"service_date\": \"2022-06-08T00:00:00\", \"weekday\": \"Wednesday\", \"month\": \"June\", \"total_num_sched\": 1516, \"total_num_vp\": 1322, \"pct_w_vp\": 0.8720316622691293}, {\"calitp_itp_id\": 300, \"agency_name\": \"Big Blue Bus\", \"calitp_url_number\": 0, \"service_date\": \"2022-06-09T00:00:00\", \"weekday\": \"Thursday\", \"month\": \"June\", \"total_num_sched\": 1514, \"total_num_vp\": 1337, \"pct_w_vp\": 0.8830911492734478}, {\"calitp_itp_id\": 300, \"agency_name\": \"Big Blue Bus\", \"calitp_url_number\": 0, \"service_date\": \"2022-06-10T00:00:00\", \"weekday\": \"Friday\", \"month\": \"June\", \"total_num_sched\": 1463, \"total_num_vp\": 1293, \"pct_w_vp\": 0.8838004101161996}, {\"calitp_itp_id\": 300, \"agency_name\": \"Big Blue Bus\", \"calitp_url_number\": 0, \"service_date\": \"2022-06-11T00:00:00\", \"weekday\": \"Saturday\", \"month\": \"June\", \"total_num_sched\": 870, \"total_num_vp\": 584, \"pct_w_vp\": 0.671264367816092}, {\"calitp_itp_id\": 300, \"agency_name\": \"Big Blue Bus\", \"calitp_url_number\": 0, \"service_date\": \"2022-06-12T00:00:00\", \"weekday\": \"Sunday\", \"month\": \"June\", \"total_num_sched\": 770, \"total_num_vp\": 533, \"pct_w_vp\": 0.6922077922077922}, {\"calitp_itp_id\": 300, \"agency_name\": \"Big Blue Bus\", \"calitp_url_number\": 0, \"service_date\": \"2022-06-13T00:00:00\", \"weekday\": \"Monday\", \"month\": \"June\", \"total_num_sched\": 1513, \"total_num_vp\": 1060, \"pct_w_vp\": 0.7005948446794448}, {\"calitp_itp_id\": 300, \"agency_name\": \"Big Blue Bus\", \"calitp_url_number\": 0, \"service_date\": \"2022-06-14T00:00:00\", \"weekday\": \"Tuesday\", \"month\": \"June\", \"total_num_sched\": 1513, \"total_num_vp\": 1336, \"pct_w_vp\": 0.8830138797091871}, {\"calitp_itp_id\": 300, \"agency_name\": \"Big Blue Bus\", \"calitp_url_number\": 0, \"service_date\": \"2022-06-15T00:00:00\", \"weekday\": \"Wednesday\", \"month\": \"June\", \"total_num_sched\": 1409, \"total_num_vp\": 1341, \"pct_w_vp\": 0.9517388218594748}, {\"calitp_itp_id\": 300, \"agency_name\": \"Big Blue Bus\", \"calitp_url_number\": 0, \"service_date\": \"2022-06-16T00:00:00\", \"weekday\": \"Thursday\", \"month\": \"June\", \"total_num_sched\": 1409, \"total_num_vp\": 1382, \"pct_w_vp\": 0.9808374733853797}, {\"calitp_itp_id\": 300, \"agency_name\": \"Big Blue Bus\", \"calitp_url_number\": 0, \"service_date\": \"2022-06-17T00:00:00\", \"weekday\": \"Friday\", \"month\": \"June\", \"total_num_sched\": 1409, \"total_num_vp\": 1400, \"pct_w_vp\": 0.99361249112846}, {\"calitp_itp_id\": 300, \"agency_name\": \"Big Blue Bus\", \"calitp_url_number\": 0, \"service_date\": \"2022-06-18T00:00:00\", \"weekday\": \"Saturday\", \"month\": \"June\", \"total_num_sched\": 870, \"total_num_vp\": 633, \"pct_w_vp\": 0.7275862068965517}, {\"calitp_itp_id\": 300, \"agency_name\": \"Big Blue Bus\", \"calitp_url_number\": 0, \"service_date\": \"2022-06-19T00:00:00\", \"weekday\": \"Sunday\", \"month\": \"June\", \"total_num_sched\": 770, \"total_num_vp\": 524, \"pct_w_vp\": 0.6805194805194805}, {\"calitp_itp_id\": 300, \"agency_name\": \"Big Blue Bus\", \"calitp_url_number\": 0, \"service_date\": \"2022-06-20T00:00:00\", \"weekday\": \"Monday\", \"month\": \"June\", \"total_num_sched\": 1461, \"total_num_vp\": 1077, \"pct_w_vp\": 0.7371663244353183}, {\"calitp_itp_id\": 300, \"agency_name\": \"Big Blue Bus\", \"calitp_url_number\": 0, \"service_date\": \"2022-06-21T00:00:00\", \"weekday\": \"Tuesday\", \"month\": \"June\", \"total_num_sched\": 1461, \"total_num_vp\": 1381, \"pct_w_vp\": 0.945242984257358}, {\"calitp_itp_id\": 300, \"agency_name\": \"Big Blue Bus\", \"calitp_url_number\": 0, \"service_date\": \"2022-06-22T00:00:00\", \"weekday\": \"Wednesday\", \"month\": \"June\", \"total_num_sched\": 1461, \"total_num_vp\": 1376, \"pct_w_vp\": 0.9418206707734429}, {\"calitp_itp_id\": 300, \"agency_name\": \"Big Blue Bus\", \"calitp_url_number\": 0, \"service_date\": \"2022-06-23T00:00:00\", \"weekday\": \"Thursday\", \"month\": \"June\", \"total_num_sched\": 1461, \"total_num_vp\": 1384, \"pct_w_vp\": 0.947296372347707}, {\"calitp_itp_id\": 300, \"agency_name\": \"Big Blue Bus\", \"calitp_url_number\": 0, \"service_date\": \"2022-06-24T00:00:00\", \"weekday\": \"Friday\", \"month\": \"June\", \"total_num_sched\": 1461, \"total_num_vp\": 1320, \"pct_w_vp\": 0.9034907597535934}, {\"calitp_itp_id\": 300, \"agency_name\": \"Big Blue Bus\", \"calitp_url_number\": 0, \"service_date\": \"2022-06-25T00:00:00\", \"weekday\": \"Saturday\", \"month\": \"June\", \"total_num_sched\": 870, \"total_num_vp\": 581, \"pct_w_vp\": 0.667816091954023}, {\"calitp_itp_id\": 300, \"agency_name\": \"Big Blue Bus\", \"calitp_url_number\": 0, \"service_date\": \"2022-06-26T00:00:00\", \"weekday\": \"Sunday\", \"month\": \"June\", \"total_num_sched\": 770, \"total_num_vp\": 498, \"pct_w_vp\": 0.6467532467532467}, {\"calitp_itp_id\": 300, \"agency_name\": \"Big Blue Bus\", \"calitp_url_number\": 0, \"service_date\": \"2022-06-27T00:00:00\", \"weekday\": \"Monday\", \"month\": \"June\", \"total_num_sched\": 1461, \"total_num_vp\": 1013, \"pct_w_vp\": 0.6933607118412046}, {\"calitp_itp_id\": 300, \"agency_name\": \"Big Blue Bus\", \"calitp_url_number\": 0, \"service_date\": \"2022-06-28T00:00:00\", \"weekday\": \"Tuesday\", \"month\": \"June\", \"total_num_sched\": 1461, \"total_num_vp\": 1359, \"pct_w_vp\": 0.9301848049281314}, {\"calitp_itp_id\": 300, \"agency_name\": \"Big Blue Bus\", \"calitp_url_number\": 0, \"service_date\": \"2022-06-29T00:00:00\", \"weekday\": \"Wednesday\", \"month\": \"June\", \"total_num_sched\": 1461, \"total_num_vp\": 1367, \"pct_w_vp\": 0.9356605065023956}, {\"calitp_itp_id\": 300, \"agency_name\": \"Big Blue Bus\", \"calitp_url_number\": 0, \"service_date\": \"2022-06-30T00:00:00\", \"weekday\": \"Thursday\", \"month\": \"June\", \"total_num_sched\": 1461, \"total_num_vp\": 1374, \"pct_w_vp\": 0.9404517453798767}]}}, {\"mode\": \"vega-lite\"});\n",
       "</script>"
      ],
      "text/plain": [
       "alt.Chart(...)"
      ]
     },
     "execution_count": 41,
     "metadata": {},
     "output_type": "execute_result"
    }
   ],
   "source": [
    "(utils.bar_chart_over_time(day_pct,\n",
    "                           'service_date',\n",
    "                           'pct_w_vp',\n",
    "                           'agency_name', \n",
    "                           '%', \n",
    "                           cats_month,\n",
    "                           \"Average Percent of Scheduled Trips with RT Vehicle Position Data Over Time\")).mark_line(size=3).properties(width=600)"
   ]
  },
  {
   "cell_type": "code",
   "execution_count": 42,
   "id": "002ccf34-4a49-4d84-8518-44828f2f0506",
   "metadata": {},
   "outputs": [
    {
     "data": {
      "text/html": [
       "\n",
       "<div id=\"altair-viz-f98175e7865f4d02b1dab69e59216819\"></div>\n",
       "<script type=\"text/javascript\">\n",
       "  var VEGA_DEBUG = (typeof VEGA_DEBUG == \"undefined\") ? {} : VEGA_DEBUG;\n",
       "  (function(spec, embedOpt){\n",
       "    let outputDiv = document.currentScript.previousElementSibling;\n",
       "    if (outputDiv.id !== \"altair-viz-f98175e7865f4d02b1dab69e59216819\") {\n",
       "      outputDiv = document.getElementById(\"altair-viz-f98175e7865f4d02b1dab69e59216819\");\n",
       "    }\n",
       "    const paths = {\n",
       "      \"vega\": \"https://cdn.jsdelivr.net/npm//vega@5?noext\",\n",
       "      \"vega-lib\": \"https://cdn.jsdelivr.net/npm//vega-lib?noext\",\n",
       "      \"vega-lite\": \"https://cdn.jsdelivr.net/npm//vega-lite@4.17.0?noext\",\n",
       "      \"vega-embed\": \"https://cdn.jsdelivr.net/npm//vega-embed@6?noext\",\n",
       "    };\n",
       "\n",
       "    function maybeLoadScript(lib, version) {\n",
       "      var key = `${lib.replace(\"-\", \"\")}_version`;\n",
       "      return (VEGA_DEBUG[key] == version) ?\n",
       "        Promise.resolve(paths[lib]) :\n",
       "        new Promise(function(resolve, reject) {\n",
       "          var s = document.createElement('script');\n",
       "          document.getElementsByTagName(\"head\")[0].appendChild(s);\n",
       "          s.async = true;\n",
       "          s.onload = () => {\n",
       "            VEGA_DEBUG[key] = version;\n",
       "            return resolve(paths[lib]);\n",
       "          };\n",
       "          s.onerror = () => reject(`Error loading script: ${paths[lib]}`);\n",
       "          s.src = paths[lib];\n",
       "        });\n",
       "    }\n",
       "\n",
       "    function showError(err) {\n",
       "      outputDiv.innerHTML = `<div class=\"error\" style=\"color:red;\">${err}</div>`;\n",
       "      throw err;\n",
       "    }\n",
       "\n",
       "    function displayChart(vegaEmbed) {\n",
       "      vegaEmbed(outputDiv, spec, embedOpt)\n",
       "        .catch(err => showError(`Javascript Error: ${err.message}<br>This usually means there's a typo in your chart specification. See the javascript console for the full traceback.`));\n",
       "    }\n",
       "\n",
       "    if(typeof define === \"function\" && define.amd) {\n",
       "      requirejs.config({paths});\n",
       "      require([\"vega-embed\"], displayChart, err => showError(`Error loading script: ${err.message}`));\n",
       "    } else {\n",
       "      maybeLoadScript(\"vega\", \"5\")\n",
       "        .then(() => maybeLoadScript(\"vega-lite\", \"4.17.0\"))\n",
       "        .then(() => maybeLoadScript(\"vega-embed\", \"6\"))\n",
       "        .catch(showError)\n",
       "        .then(() => displayChart(vegaEmbed));\n",
       "    }\n",
       "  })({\"config\": {\"view\": {\"continuousWidth\": 400, \"continuousHeight\": 300}, \"axis\": {\"domainColor\": \"#cbcbcb\", \"grid\": true, \"gridColor\": \"#cbcbcb\", \"gridWidth\": 1, \"labelColor\": \"#474747\", \"labelFont\": \"Nunito Sans\", \"labelFontSize\": 10, \"labelPadding\": 4, \"tickColor\": \"#cbcbcb\", \"tickSize\": 10, \"titleColor\": \"#333\", \"titleFont\": \"Raleway\", \"titleFontSize\": 12, \"titlePadding\": 10}, \"axisBand\": {\"grid\": false}, \"background\": \"white\", \"font\": \"Raleway\", \"header\": {\"labelFont\": \"Nunito Sans\", \"titleFont\": \"Raleway\"}, \"legend\": {\"labelColor\": \"#333\", \"labelFont\": \"Nunito Sans\", \"labelFontSize\": 11, \"labelLimit\": 0, \"padding\": 1, \"symbolSize\": 30, \"symbolType\": \"square\", \"titleColor\": \"#333\", \"titleFont\": \"Raleway\", \"titleFontSize\": 14, \"titlePadding\": 10}, \"title\": {\"anchor\": \"middle\", \"font\": \"Raleway\", \"fontSize\": 18, \"fontWeight\": 300, \"offset\": 20}}, \"data\": {\"name\": \"data-7a520170fb2a3ef5ffc230bddfa27503\"}, \"mark\": {\"type\": \"line\", \"size\": 3}, \"encoding\": {\"color\": {\"field\": \"month\", \"type\": \"nominal\"}, \"tooltip\": [{\"field\": \"weekday\", \"title\": \"Weekday\", \"type\": \"nominal\"}, {\"field\": \"avg\", \"title\": \"Avg\", \"type\": \"quantitative\"}], \"x\": {\"field\": \"weekday\", \"sort\": [\"Monday\", \"Tuesday\", \"Wednesday\", \"Thursday\", \"Friday\", \"Saturday\", \"Sunday\"], \"title\": \"Weekday\", \"type\": \"nominal\"}, \"y\": {\"axis\": {\"format\": \"%\"}, \"field\": \"avg\", \"stack\": null, \"title\": \"Average\", \"type\": \"quantitative\"}}, \"height\": 250, \"title\": \"Average Percent of Scheduled Trips with RT Vehicle Position Data by Day\", \"width\": 600, \"$schema\": \"https://vega.github.io/schema/vega-lite/v4.17.0.json\", \"datasets\": {\"data-7a520170fb2a3ef5ffc230bddfa27503\": [{\"month\": \"June\", \"weekday\": \"Monday\", \"avg\": 0.7049440586294933}, {\"month\": \"May\", \"weekday\": \"Monday\", \"avg\": 0.7509108042353425}, {\"month\": \"June\", \"weekday\": \"Tuesday\", \"avg\": 0.9102568552183921}, {\"month\": \"May\", \"weekday\": \"Tuesday\", \"avg\": 0.8647757255936674}, {\"month\": \"June\", \"weekday\": \"Wednesday\", \"avg\": 0.9204614140750838}, {\"month\": \"May\", \"weekday\": \"Wednesday\", \"avg\": 0.9048482849604221}, {\"month\": \"June\", \"weekday\": \"Thursday\", \"avg\": 0.9297548731432453}, {\"month\": \"May\", \"weekday\": \"Thursday\", \"avg\": 0.904353562005277}, {\"month\": \"June\", \"weekday\": \"Friday\", \"avg\": 0.9086164165688244}, {\"month\": \"May\", \"weekday\": \"Friday\", \"avg\": 0.9088454886349235}, {\"month\": \"June\", \"weekday\": \"Saturday\", \"avg\": 0.6919540229885057}, {\"month\": \"May\", \"weekday\": \"Saturday\", \"avg\": 0.7043103448275863}, {\"month\": \"June\", \"weekday\": \"Sunday\", \"avg\": 0.6847402597402596}, {\"month\": \"May\", \"weekday\": \"Sunday\", \"avg\": 0.6888311688311688}]}}, {\"mode\": \"vega-lite\"});\n",
       "</script>"
      ],
      "text/plain": [
       "alt.Chart(...)"
      ]
     },
     "execution_count": 42,
     "metadata": {},
     "output_type": "execute_result"
    }
   ],
   "source": [
    "(utils.bar_chart_over_time(bbb_week_month,\n",
    "                           'weekday',\n",
    "                           'avg',\n",
    "                           'month',\n",
    "                           '%',\n",
    "                           cats_day,\n",
    "                           \"Average Percent of Scheduled Trips with RT Vehicle Position Data by Day\")).mark_line(size=3).properties(width=600)"
   ]
  },
  {
   "cell_type": "code",
   "execution_count": null,
   "id": "d2596f70-7e0d-4876-95cb-fb4747433a91",
   "metadata": {},
   "outputs": [],
   "source": []
  },
  {
   "cell_type": "markdown",
   "id": "dc12e192-45c3-4263-af1c-31e6e83c2b9f",
   "metadata": {},
   "source": [
    "### Days with percents over 95% vehicle positions data present "
   ]
  },
  {
   "cell_type": "code",
   "execution_count": 43,
   "id": "0d9a7914-f85f-437c-a4da-2f38bdcd3eea",
   "metadata": {},
   "outputs": [
    {
     "data": {
      "text/html": [
       "<div>\n",
       "<style scoped>\n",
       "    .dataframe tbody tr th:only-of-type {\n",
       "        vertical-align: middle;\n",
       "    }\n",
       "\n",
       "    .dataframe tbody tr th {\n",
       "        vertical-align: top;\n",
       "    }\n",
       "\n",
       "    .dataframe thead th {\n",
       "        text-align: right;\n",
       "    }\n",
       "</style>\n",
       "<table border=\"1\" class=\"dataframe\">\n",
       "  <thead>\n",
       "    <tr style=\"text-align: right;\">\n",
       "      <th></th>\n",
       "      <th>calitp_itp_id</th>\n",
       "      <th>agency_name</th>\n",
       "      <th>calitp_url_number</th>\n",
       "      <th>service_date</th>\n",
       "      <th>weekday</th>\n",
       "      <th>month</th>\n",
       "      <th>total_num_sched</th>\n",
       "      <th>total_num_vp</th>\n",
       "      <th>pct_w_vp</th>\n",
       "    </tr>\n",
       "  </thead>\n",
       "  <tbody>\n",
       "    <tr>\n",
       "      <th>2</th>\n",
       "      <td>290</td>\n",
       "      <td>SamTrans</td>\n",
       "      <td>1</td>\n",
       "      <td>2022-05-03</td>\n",
       "      <td>Tuesday</td>\n",
       "      <td>May</td>\n",
       "      <td>1339</td>\n",
       "      <td>1284</td>\n",
       "      <td>0.96</td>\n",
       "    </tr>\n",
       "    <tr>\n",
       "      <th>5</th>\n",
       "      <td>290</td>\n",
       "      <td>SamTrans</td>\n",
       "      <td>1</td>\n",
       "      <td>2022-05-06</td>\n",
       "      <td>Friday</td>\n",
       "      <td>May</td>\n",
       "      <td>1339</td>\n",
       "      <td>1292</td>\n",
       "      <td>0.96</td>\n",
       "    </tr>\n",
       "    <tr>\n",
       "      <th>11</th>\n",
       "      <td>290</td>\n",
       "      <td>SamTrans</td>\n",
       "      <td>1</td>\n",
       "      <td>2022-05-12</td>\n",
       "      <td>Thursday</td>\n",
       "      <td>May</td>\n",
       "      <td>1338</td>\n",
       "      <td>1285</td>\n",
       "      <td>0.96</td>\n",
       "    </tr>\n",
       "    <tr>\n",
       "      <th>12</th>\n",
       "      <td>290</td>\n",
       "      <td>SamTrans</td>\n",
       "      <td>1</td>\n",
       "      <td>2022-05-13</td>\n",
       "      <td>Friday</td>\n",
       "      <td>May</td>\n",
       "      <td>1339</td>\n",
       "      <td>1274</td>\n",
       "      <td>0.95</td>\n",
       "    </tr>\n",
       "    <tr>\n",
       "      <th>16</th>\n",
       "      <td>290</td>\n",
       "      <td>SamTrans</td>\n",
       "      <td>1</td>\n",
       "      <td>2022-05-17</td>\n",
       "      <td>Tuesday</td>\n",
       "      <td>May</td>\n",
       "      <td>1339</td>\n",
       "      <td>1283</td>\n",
       "      <td>0.96</td>\n",
       "    </tr>\n",
       "    <tr>\n",
       "      <th>17</th>\n",
       "      <td>290</td>\n",
       "      <td>SamTrans</td>\n",
       "      <td>1</td>\n",
       "      <td>2022-05-18</td>\n",
       "      <td>Wednesday</td>\n",
       "      <td>May</td>\n",
       "      <td>1343</td>\n",
       "      <td>1287</td>\n",
       "      <td>0.96</td>\n",
       "    </tr>\n",
       "    <tr>\n",
       "      <th>18</th>\n",
       "      <td>290</td>\n",
       "      <td>SamTrans</td>\n",
       "      <td>1</td>\n",
       "      <td>2022-05-19</td>\n",
       "      <td>Thursday</td>\n",
       "      <td>May</td>\n",
       "      <td>1338</td>\n",
       "      <td>1289</td>\n",
       "      <td>0.96</td>\n",
       "    </tr>\n",
       "    <tr>\n",
       "      <th>19</th>\n",
       "      <td>290</td>\n",
       "      <td>SamTrans</td>\n",
       "      <td>1</td>\n",
       "      <td>2022-05-20</td>\n",
       "      <td>Friday</td>\n",
       "      <td>May</td>\n",
       "      <td>1339</td>\n",
       "      <td>1288</td>\n",
       "      <td>0.96</td>\n",
       "    </tr>\n",
       "    <tr>\n",
       "      <th>26</th>\n",
       "      <td>290</td>\n",
       "      <td>SamTrans</td>\n",
       "      <td>1</td>\n",
       "      <td>2022-05-27</td>\n",
       "      <td>Friday</td>\n",
       "      <td>May</td>\n",
       "      <td>1339</td>\n",
       "      <td>1278</td>\n",
       "      <td>0.95</td>\n",
       "    </tr>\n",
       "    <tr>\n",
       "      <th>29</th>\n",
       "      <td>290</td>\n",
       "      <td>SamTrans</td>\n",
       "      <td>1</td>\n",
       "      <td>2022-05-30</td>\n",
       "      <td>Monday</td>\n",
       "      <td>May</td>\n",
       "      <td>765</td>\n",
       "      <td>732</td>\n",
       "      <td>0.96</td>\n",
       "    </tr>\n",
       "    <tr>\n",
       "      <th>31</th>\n",
       "      <td>290</td>\n",
       "      <td>SamTrans</td>\n",
       "      <td>1</td>\n",
       "      <td>2022-06-01</td>\n",
       "      <td>Wednesday</td>\n",
       "      <td>June</td>\n",
       "      <td>1343</td>\n",
       "      <td>1302</td>\n",
       "      <td>0.97</td>\n",
       "    </tr>\n",
       "    <tr>\n",
       "      <th>32</th>\n",
       "      <td>290</td>\n",
       "      <td>SamTrans</td>\n",
       "      <td>1</td>\n",
       "      <td>2022-06-02</td>\n",
       "      <td>Thursday</td>\n",
       "      <td>June</td>\n",
       "      <td>1338</td>\n",
       "      <td>1289</td>\n",
       "      <td>0.96</td>\n",
       "    </tr>\n",
       "    <tr>\n",
       "      <th>33</th>\n",
       "      <td>290</td>\n",
       "      <td>SamTrans</td>\n",
       "      <td>1</td>\n",
       "      <td>2022-06-03</td>\n",
       "      <td>Friday</td>\n",
       "      <td>June</td>\n",
       "      <td>1339</td>\n",
       "      <td>1296</td>\n",
       "      <td>0.97</td>\n",
       "    </tr>\n",
       "    <tr>\n",
       "      <th>37</th>\n",
       "      <td>290</td>\n",
       "      <td>SamTrans</td>\n",
       "      <td>1</td>\n",
       "      <td>2022-06-07</td>\n",
       "      <td>Tuesday</td>\n",
       "      <td>June</td>\n",
       "      <td>1339</td>\n",
       "      <td>1282</td>\n",
       "      <td>0.96</td>\n",
       "    </tr>\n",
       "    <tr>\n",
       "      <th>58</th>\n",
       "      <td>290</td>\n",
       "      <td>SamTrans</td>\n",
       "      <td>1</td>\n",
       "      <td>2022-06-28</td>\n",
       "      <td>Tuesday</td>\n",
       "      <td>June</td>\n",
       "      <td>1318</td>\n",
       "      <td>1291</td>\n",
       "      <td>0.98</td>\n",
       "    </tr>\n",
       "    <tr>\n",
       "      <th>59</th>\n",
       "      <td>290</td>\n",
       "      <td>SamTrans</td>\n",
       "      <td>1</td>\n",
       "      <td>2022-06-29</td>\n",
       "      <td>Wednesday</td>\n",
       "      <td>June</td>\n",
       "      <td>1318</td>\n",
       "      <td>1300</td>\n",
       "      <td>0.99</td>\n",
       "    </tr>\n",
       "    <tr>\n",
       "      <th>60</th>\n",
       "      <td>290</td>\n",
       "      <td>SamTrans</td>\n",
       "      <td>1</td>\n",
       "      <td>2022-06-30</td>\n",
       "      <td>Thursday</td>\n",
       "      <td>June</td>\n",
       "      <td>1318</td>\n",
       "      <td>1292</td>\n",
       "      <td>0.98</td>\n",
       "    </tr>\n",
       "    <tr>\n",
       "      <th>90</th>\n",
       "      <td>300</td>\n",
       "      <td>Big Blue Bus</td>\n",
       "      <td>0</td>\n",
       "      <td>2022-05-30</td>\n",
       "      <td>Monday</td>\n",
       "      <td>May</td>\n",
       "      <td>770</td>\n",
       "      <td>741</td>\n",
       "      <td>0.96</td>\n",
       "    </tr>\n",
       "    <tr>\n",
       "      <th>106</th>\n",
       "      <td>300</td>\n",
       "      <td>Big Blue Bus</td>\n",
       "      <td>0</td>\n",
       "      <td>2022-06-15</td>\n",
       "      <td>Wednesday</td>\n",
       "      <td>June</td>\n",
       "      <td>1409</td>\n",
       "      <td>1341</td>\n",
       "      <td>0.95</td>\n",
       "    </tr>\n",
       "    <tr>\n",
       "      <th>107</th>\n",
       "      <td>300</td>\n",
       "      <td>Big Blue Bus</td>\n",
       "      <td>0</td>\n",
       "      <td>2022-06-16</td>\n",
       "      <td>Thursday</td>\n",
       "      <td>June</td>\n",
       "      <td>1409</td>\n",
       "      <td>1382</td>\n",
       "      <td>0.98</td>\n",
       "    </tr>\n",
       "    <tr>\n",
       "      <th>108</th>\n",
       "      <td>300</td>\n",
       "      <td>Big Blue Bus</td>\n",
       "      <td>0</td>\n",
       "      <td>2022-06-17</td>\n",
       "      <td>Friday</td>\n",
       "      <td>June</td>\n",
       "      <td>1409</td>\n",
       "      <td>1400</td>\n",
       "      <td>0.99</td>\n",
       "    </tr>\n",
       "  </tbody>\n",
       "</table>\n",
       "</div>"
      ],
      "text/plain": [
       "     calitp_itp_id   agency_name  calitp_url_number service_date    weekday  \\\n",
       "2              290      SamTrans                  1   2022-05-03    Tuesday   \n",
       "5              290      SamTrans                  1   2022-05-06     Friday   \n",
       "11             290      SamTrans                  1   2022-05-12   Thursday   \n",
       "12             290      SamTrans                  1   2022-05-13     Friday   \n",
       "16             290      SamTrans                  1   2022-05-17    Tuesday   \n",
       "17             290      SamTrans                  1   2022-05-18  Wednesday   \n",
       "18             290      SamTrans                  1   2022-05-19   Thursday   \n",
       "19             290      SamTrans                  1   2022-05-20     Friday   \n",
       "26             290      SamTrans                  1   2022-05-27     Friday   \n",
       "29             290      SamTrans                  1   2022-05-30     Monday   \n",
       "31             290      SamTrans                  1   2022-06-01  Wednesday   \n",
       "32             290      SamTrans                  1   2022-06-02   Thursday   \n",
       "33             290      SamTrans                  1   2022-06-03     Friday   \n",
       "37             290      SamTrans                  1   2022-06-07    Tuesday   \n",
       "58             290      SamTrans                  1   2022-06-28    Tuesday   \n",
       "59             290      SamTrans                  1   2022-06-29  Wednesday   \n",
       "60             290      SamTrans                  1   2022-06-30   Thursday   \n",
       "90             300  Big Blue Bus                  0   2022-05-30     Monday   \n",
       "106            300  Big Blue Bus                  0   2022-06-15  Wednesday   \n",
       "107            300  Big Blue Bus                  0   2022-06-16   Thursday   \n",
       "108            300  Big Blue Bus                  0   2022-06-17     Friday   \n",
       "\n",
       "    month  total_num_sched  total_num_vp  pct_w_vp  \n",
       "2     May             1339          1284      0.96  \n",
       "5     May             1339          1292      0.96  \n",
       "11    May             1338          1285      0.96  \n",
       "12    May             1339          1274      0.95  \n",
       "16    May             1339          1283      0.96  \n",
       "17    May             1343          1287      0.96  \n",
       "18    May             1338          1289      0.96  \n",
       "19    May             1339          1288      0.96  \n",
       "26    May             1339          1278      0.95  \n",
       "29    May              765           732      0.96  \n",
       "31   June             1343          1302      0.97  \n",
       "32   June             1338          1289      0.96  \n",
       "33   June             1339          1296      0.97  \n",
       "37   June             1339          1282      0.96  \n",
       "58   June             1318          1291      0.98  \n",
       "59   June             1318          1300      0.99  \n",
       "60   June             1318          1292      0.98  \n",
       "90    May              770           741      0.96  \n",
       "106  June             1409          1341      0.95  \n",
       "107  June             1409          1382      0.98  \n",
       "108  June             1409          1400      0.99  "
      ]
     },
     "execution_count": 43,
     "metadata": {},
     "output_type": "execute_result"
    }
   ],
   "source": [
    "day_pct>>filter(_.pct_w_vp>.95)"
   ]
  },
  {
   "cell_type": "code",
   "execution_count": null,
   "id": "9d9e1cfd-a8c8-4d7d-9760-1699f63a3321",
   "metadata": {},
   "outputs": [],
   "source": []
  },
  {
   "cell_type": "markdown",
   "id": "3c1da954-925a-4625-a9fd-28dd75b53966",
   "metadata": {},
   "source": [
    "## Group By Month"
   ]
  },
  {
   "cell_type": "code",
   "execution_count": 44,
   "id": "ccb47e47-fd7e-4652-967a-cde06275eaf9",
   "metadata": {},
   "outputs": [],
   "source": [
    "avg_month = utils.groupby_twocol(day_pct, 'agency_name', 'month', 'pct_w_vp', 'month')"
   ]
  },
  {
   "cell_type": "code",
   "execution_count": 45,
   "id": "1001b8b4-ca48-45b2-a10e-242376607191",
   "metadata": {},
   "outputs": [
    {
     "data": {
      "text/html": [
       "\n",
       "<div id=\"altair-viz-ce4c0f10b7224f67948e2963f98487fd\"></div>\n",
       "<script type=\"text/javascript\">\n",
       "  var VEGA_DEBUG = (typeof VEGA_DEBUG == \"undefined\") ? {} : VEGA_DEBUG;\n",
       "  (function(spec, embedOpt){\n",
       "    let outputDiv = document.currentScript.previousElementSibling;\n",
       "    if (outputDiv.id !== \"altair-viz-ce4c0f10b7224f67948e2963f98487fd\") {\n",
       "      outputDiv = document.getElementById(\"altair-viz-ce4c0f10b7224f67948e2963f98487fd\");\n",
       "    }\n",
       "    const paths = {\n",
       "      \"vega\": \"https://cdn.jsdelivr.net/npm//vega@5?noext\",\n",
       "      \"vega-lib\": \"https://cdn.jsdelivr.net/npm//vega-lib?noext\",\n",
       "      \"vega-lite\": \"https://cdn.jsdelivr.net/npm//vega-lite@4.17.0?noext\",\n",
       "      \"vega-embed\": \"https://cdn.jsdelivr.net/npm//vega-embed@6?noext\",\n",
       "    };\n",
       "\n",
       "    function maybeLoadScript(lib, version) {\n",
       "      var key = `${lib.replace(\"-\", \"\")}_version`;\n",
       "      return (VEGA_DEBUG[key] == version) ?\n",
       "        Promise.resolve(paths[lib]) :\n",
       "        new Promise(function(resolve, reject) {\n",
       "          var s = document.createElement('script');\n",
       "          document.getElementsByTagName(\"head\")[0].appendChild(s);\n",
       "          s.async = true;\n",
       "          s.onload = () => {\n",
       "            VEGA_DEBUG[key] = version;\n",
       "            return resolve(paths[lib]);\n",
       "          };\n",
       "          s.onerror = () => reject(`Error loading script: ${paths[lib]}`);\n",
       "          s.src = paths[lib];\n",
       "        });\n",
       "    }\n",
       "\n",
       "    function showError(err) {\n",
       "      outputDiv.innerHTML = `<div class=\"error\" style=\"color:red;\">${err}</div>`;\n",
       "      throw err;\n",
       "    }\n",
       "\n",
       "    function displayChart(vegaEmbed) {\n",
       "      vegaEmbed(outputDiv, spec, embedOpt)\n",
       "        .catch(err => showError(`Javascript Error: ${err.message}<br>This usually means there's a typo in your chart specification. See the javascript console for the full traceback.`));\n",
       "    }\n",
       "\n",
       "    if(typeof define === \"function\" && define.amd) {\n",
       "      requirejs.config({paths});\n",
       "      require([\"vega-embed\"], displayChart, err => showError(`Error loading script: ${err.message}`));\n",
       "    } else {\n",
       "      maybeLoadScript(\"vega\", \"5\")\n",
       "        .then(() => maybeLoadScript(\"vega-lite\", \"4.17.0\"))\n",
       "        .then(() => maybeLoadScript(\"vega-embed\", \"6\"))\n",
       "        .catch(showError)\n",
       "        .then(() => displayChart(vegaEmbed));\n",
       "    }\n",
       "  })({\"config\": {\"view\": {\"continuousWidth\": 400, \"continuousHeight\": 300}, \"axis\": {\"domainColor\": \"#cbcbcb\", \"grid\": true, \"gridColor\": \"#cbcbcb\", \"gridWidth\": 1, \"labelColor\": \"#474747\", \"labelFont\": \"Nunito Sans\", \"labelFontSize\": 10, \"labelPadding\": 4, \"tickColor\": \"#cbcbcb\", \"tickSize\": 10, \"titleColor\": \"#333\", \"titleFont\": \"Raleway\", \"titleFontSize\": 12, \"titlePadding\": 10}, \"axisBand\": {\"grid\": false}, \"background\": \"white\", \"font\": \"Raleway\", \"header\": {\"labelFont\": \"Nunito Sans\", \"titleFont\": \"Raleway\"}, \"legend\": {\"labelColor\": \"#333\", \"labelFont\": \"Nunito Sans\", \"labelFontSize\": 11, \"labelLimit\": 0, \"padding\": 1, \"symbolSize\": 30, \"symbolType\": \"square\", \"titleColor\": \"#333\", \"titleFont\": \"Raleway\", \"titleFontSize\": 14, \"titlePadding\": 10}, \"title\": {\"anchor\": \"middle\", \"font\": \"Raleway\", \"fontSize\": 18, \"fontWeight\": 300, \"offset\": 20}}, \"data\": {\"name\": \"data-10706bf8aa41504e7eaf640b64a7f860\"}, \"mark\": {\"type\": \"bar\", \"size\": 150}, \"encoding\": {\"color\": {\"field\": \"agency_name\", \"type\": \"nominal\"}, \"column\": {\"field\": \"agency_name\", \"type\": \"nominal\"}, \"tooltip\": [{\"field\": \"month\", \"title\": \"Month\", \"type\": \"nominal\"}, {\"field\": \"avg\", \"title\": \"Avg\", \"type\": \"quantitative\"}], \"x\": {\"field\": \"month\", \"sort\": [\"January\", \"February\", \"March\", \"April\", \"May\", \"June\", \"July\", \"August\", \"September\", \"October\", \"November\", \"December\"], \"title\": \"Month\", \"type\": \"nominal\"}, \"y\": {\"axis\": {\"format\": \"%\"}, \"field\": \"avg\", \"stack\": null, \"title\": \"Average\", \"type\": \"quantitative\"}}, \"height\": 250, \"title\": \"\", \"width\": 400, \"$schema\": \"https://vega.github.io/schema/vega-lite/v4.17.0.json\", \"datasets\": {\"data-10706bf8aa41504e7eaf640b64a7f860\": [{\"agency_name\": \"Big Blue Bus\", \"month\": \"May\", \"avg\": 0.8132909424197976}, {\"agency_name\": \"SamTrans\", \"month\": \"May\", \"avg\": 0.7978436327406019}, {\"agency_name\": \"Big Blue Bus\", \"month\": \"June\", \"avg\": 0.8284375962891184}, {\"agency_name\": \"SamTrans\", \"month\": \"June\", \"avg\": 0.6180130812304897}]}}, {\"mode\": \"vega-lite\"});\n",
       "</script>"
      ],
      "text/plain": [
       "alt.Chart(...)"
      ]
     },
     "execution_count": 45,
     "metadata": {},
     "output_type": "execute_result"
    }
   ],
   "source": [
    "(utils.bar_chart_over_time(avg_month, \n",
    "                           'month', \n",
    "                           'avg', \n",
    "                           'agency_name',\n",
    "                           '%', \n",
    "                           cats_month, \n",
    "                           \"\")).encode(column='agency_name').mark_bar(size=150)"
   ]
  },
  {
   "cell_type": "code",
   "execution_count": 46,
   "id": "5cb3a250-7063-4d53-9d46-d5be6d4f1ce4",
   "metadata": {},
   "outputs": [],
   "source": [
    "agg_weekday = utils.groupby_twocol(day_pct, \n",
    "                                   'agency_name',\n",
    "                                   'weekday',\n",
    "                                   'pct_w_vp', \n",
    "                                   'weekday')"
   ]
  },
  {
   "cell_type": "code",
   "execution_count": 47,
   "id": "e40cd681-72d5-4e94-a1da-f5cb65f3dc7c",
   "metadata": {},
   "outputs": [
    {
     "data": {
      "text/html": [
       "\n",
       "<div id=\"altair-viz-65faf904e8784419a52d0a34ebb3b016\"></div>\n",
       "<script type=\"text/javascript\">\n",
       "  var VEGA_DEBUG = (typeof VEGA_DEBUG == \"undefined\") ? {} : VEGA_DEBUG;\n",
       "  (function(spec, embedOpt){\n",
       "    let outputDiv = document.currentScript.previousElementSibling;\n",
       "    if (outputDiv.id !== \"altair-viz-65faf904e8784419a52d0a34ebb3b016\") {\n",
       "      outputDiv = document.getElementById(\"altair-viz-65faf904e8784419a52d0a34ebb3b016\");\n",
       "    }\n",
       "    const paths = {\n",
       "      \"vega\": \"https://cdn.jsdelivr.net/npm//vega@5?noext\",\n",
       "      \"vega-lib\": \"https://cdn.jsdelivr.net/npm//vega-lib?noext\",\n",
       "      \"vega-lite\": \"https://cdn.jsdelivr.net/npm//vega-lite@4.17.0?noext\",\n",
       "      \"vega-embed\": \"https://cdn.jsdelivr.net/npm//vega-embed@6?noext\",\n",
       "    };\n",
       "\n",
       "    function maybeLoadScript(lib, version) {\n",
       "      var key = `${lib.replace(\"-\", \"\")}_version`;\n",
       "      return (VEGA_DEBUG[key] == version) ?\n",
       "        Promise.resolve(paths[lib]) :\n",
       "        new Promise(function(resolve, reject) {\n",
       "          var s = document.createElement('script');\n",
       "          document.getElementsByTagName(\"head\")[0].appendChild(s);\n",
       "          s.async = true;\n",
       "          s.onload = () => {\n",
       "            VEGA_DEBUG[key] = version;\n",
       "            return resolve(paths[lib]);\n",
       "          };\n",
       "          s.onerror = () => reject(`Error loading script: ${paths[lib]}`);\n",
       "          s.src = paths[lib];\n",
       "        });\n",
       "    }\n",
       "\n",
       "    function showError(err) {\n",
       "      outputDiv.innerHTML = `<div class=\"error\" style=\"color:red;\">${err}</div>`;\n",
       "      throw err;\n",
       "    }\n",
       "\n",
       "    function displayChart(vegaEmbed) {\n",
       "      vegaEmbed(outputDiv, spec, embedOpt)\n",
       "        .catch(err => showError(`Javascript Error: ${err.message}<br>This usually means there's a typo in your chart specification. See the javascript console for the full traceback.`));\n",
       "    }\n",
       "\n",
       "    if(typeof define === \"function\" && define.amd) {\n",
       "      requirejs.config({paths});\n",
       "      require([\"vega-embed\"], displayChart, err => showError(`Error loading script: ${err.message}`));\n",
       "    } else {\n",
       "      maybeLoadScript(\"vega\", \"5\")\n",
       "        .then(() => maybeLoadScript(\"vega-lite\", \"4.17.0\"))\n",
       "        .then(() => maybeLoadScript(\"vega-embed\", \"6\"))\n",
       "        .catch(showError)\n",
       "        .then(() => displayChart(vegaEmbed));\n",
       "    }\n",
       "  })({\"config\": {\"view\": {\"continuousWidth\": 400, \"continuousHeight\": 300}, \"axis\": {\"domainColor\": \"#cbcbcb\", \"grid\": true, \"gridColor\": \"#cbcbcb\", \"gridWidth\": 1, \"labelColor\": \"#474747\", \"labelFont\": \"Nunito Sans\", \"labelFontSize\": 10, \"labelPadding\": 4, \"tickColor\": \"#cbcbcb\", \"tickSize\": 10, \"titleColor\": \"#333\", \"titleFont\": \"Raleway\", \"titleFontSize\": 12, \"titlePadding\": 10}, \"axisBand\": {\"grid\": false}, \"background\": \"white\", \"font\": \"Raleway\", \"header\": {\"labelFont\": \"Nunito Sans\", \"titleFont\": \"Raleway\"}, \"legend\": {\"labelColor\": \"#333\", \"labelFont\": \"Nunito Sans\", \"labelFontSize\": 11, \"labelLimit\": 0, \"padding\": 1, \"symbolSize\": 30, \"symbolType\": \"square\", \"titleColor\": \"#333\", \"titleFont\": \"Raleway\", \"titleFontSize\": 14, \"titlePadding\": 10}, \"title\": {\"anchor\": \"middle\", \"font\": \"Raleway\", \"fontSize\": 18, \"fontWeight\": 300, \"offset\": 20}}, \"data\": {\"name\": \"data-3f19c470317c12f3134efc6b686993df\"}, \"mark\": {\"type\": \"bar\", \"size\": 50}, \"encoding\": {\"color\": {\"field\": \"agency_name\", \"type\": \"nominal\"}, \"column\": {\"field\": \"agency_name\", \"type\": \"nominal\"}, \"tooltip\": [{\"field\": \"weekday\", \"title\": \"Weekday\", \"type\": \"nominal\"}, {\"field\": \"avg\", \"title\": \"Avg\", \"type\": \"quantitative\"}], \"x\": {\"field\": \"weekday\", \"sort\": [\"January\", \"February\", \"March\", \"April\", \"May\", \"June\", \"July\", \"August\", \"September\", \"October\", \"November\", \"December\"], \"title\": \"Weekday\", \"type\": \"nominal\"}, \"y\": {\"axis\": {\"format\": \"%\"}, \"field\": \"avg\", \"stack\": null, \"title\": \"Average\", \"type\": \"quantitative\"}}, \"height\": 250, \"title\": \"\", \"width\": 400, \"$schema\": \"https://vega.github.io/schema/vega-lite/v4.17.0.json\", \"datasets\": {\"data-3f19c470317c12f3134efc6b686993df\": [{\"agency_name\": \"Big Blue Bus\", \"weekday\": \"Monday\", \"avg\": 0.7304811395216316}, {\"agency_name\": \"SamTrans\", \"weekday\": \"Monday\", \"avg\": 0.6486192084169915}, {\"agency_name\": \"Big Blue Bus\", \"weekday\": \"Tuesday\", \"avg\": 0.884989560982434}, {\"agency_name\": \"SamTrans\", \"weekday\": \"Tuesday\", \"avg\": 0.8245631961986544}, {\"agency_name\": \"Big Blue Bus\", \"weekday\": \"Wednesday\", \"avg\": 0.9135222455796784}, {\"agency_name\": \"SamTrans\", \"weekday\": \"Wednesday\", \"avg\": 0.6881351350910251}, {\"agency_name\": \"Big Blue Bus\", \"weekday\": \"Thursday\", \"avg\": 0.9184654015263705}, {\"agency_name\": \"SamTrans\", \"weekday\": \"Thursday\", \"avg\": 0.7816252121116809}, {\"agency_name\": \"Big Blue Bus\", \"weekday\": \"Friday\", \"avg\": 0.908730952601874}, {\"agency_name\": \"SamTrans\", \"weekday\": \"Friday\", \"avg\": 0.7818362909833512}, {\"agency_name\": \"Big Blue Bus\", \"weekday\": \"Saturday\", \"avg\": 0.6981321839080461}, {\"agency_name\": \"SamTrans\", \"weekday\": \"Saturday\", \"avg\": 0.6166916072742029}, {\"agency_name\": \"Big Blue Bus\", \"weekday\": \"Sunday\", \"avg\": 0.6870129870129871}, {\"agency_name\": \"SamTrans\", \"weekday\": \"Sunday\", \"avg\": 0.6220930110497501}]}}, {\"mode\": \"vega-lite\"});\n",
       "</script>"
      ],
      "text/plain": [
       "alt.Chart(...)"
      ]
     },
     "execution_count": 47,
     "metadata": {},
     "output_type": "execute_result"
    }
   ],
   "source": [
    "(utils.bar_chart_over_time(agg_weekday,\n",
    "                           'weekday', \n",
    "                           'avg',\n",
    "                           'agency_name',\n",
    "                           '%', \n",
    "                           cats_month,\n",
    "                           \"\")).encode(column='agency_name').mark_bar(size=50)"
   ]
  },
  {
   "cell_type": "code",
   "execution_count": null,
   "id": "330f9331-cb7c-4a40-8709-35ad230df484",
   "metadata": {},
   "outputs": [],
   "source": []
  },
  {
   "cell_type": "markdown",
   "id": "9da27415-e199-4c1c-bd51-01d4507d6137",
   "metadata": {},
   "source": [
    "## Single Operator vs. All Operator Average"
   ]
  },
  {
   "cell_type": "markdown",
   "id": "51fb0a0b-6074-4a72-b257-d774b70f27d7",
   "metadata": {},
   "source": [
    "* all operator average: get an average pct_w_vp for each day"
   ]
  },
  {
   "cell_type": "code",
   "execution_count": null,
   "id": "2717a50e-02cb-4e41-80a5-36bc502c4a7d",
   "metadata": {},
   "outputs": [],
   "source": []
  },
  {
   "cell_type": "code",
   "execution_count": 191,
   "id": "4145b063-264b-4f45-95a9-79351acfda72",
   "metadata": {},
   "outputs": [],
   "source": [
    "#using utils function to get the average of the percent trips with vehicle positions per day\n",
    "agg_all = (utils.groupby_onecol(rt_sched, 'service_date', 'pct_w_vp'))"
   ]
  },
  {
   "cell_type": "code",
   "execution_count": 49,
   "id": "589891c1-4365-4f3b-98bb-1d6fdde88c3f",
   "metadata": {},
   "outputs": [
    {
     "data": {
      "text/html": [
       "<div>\n",
       "<style scoped>\n",
       "    .dataframe tbody tr th:only-of-type {\n",
       "        vertical-align: middle;\n",
       "    }\n",
       "\n",
       "    .dataframe tbody tr th {\n",
       "        vertical-align: top;\n",
       "    }\n",
       "\n",
       "    .dataframe thead th {\n",
       "        text-align: right;\n",
       "    }\n",
       "</style>\n",
       "<table border=\"1\" class=\"dataframe\">\n",
       "  <thead>\n",
       "    <tr style=\"text-align: right;\">\n",
       "      <th></th>\n",
       "      <th>service_date</th>\n",
       "      <th>avg</th>\n",
       "    </tr>\n",
       "  </thead>\n",
       "  <tbody>\n",
       "    <tr>\n",
       "      <th>0</th>\n",
       "      <td>2022-05-01</td>\n",
       "      <td>0.70</td>\n",
       "    </tr>\n",
       "    <tr>\n",
       "      <th>1</th>\n",
       "      <td>2022-05-02</td>\n",
       "      <td>0.71</td>\n",
       "    </tr>\n",
       "    <tr>\n",
       "      <th>2</th>\n",
       "      <td>2022-05-03</td>\n",
       "      <td>0.93</td>\n",
       "    </tr>\n",
       "    <tr>\n",
       "      <th>3</th>\n",
       "      <td>2022-05-04</td>\n",
       "      <td>0.37</td>\n",
       "    </tr>\n",
       "    <tr>\n",
       "      <th>4</th>\n",
       "      <td>2022-05-05</td>\n",
       "      <td>0.79</td>\n",
       "    </tr>\n",
       "    <tr>\n",
       "      <th>...</th>\n",
       "      <td>...</td>\n",
       "      <td>...</td>\n",
       "    </tr>\n",
       "    <tr>\n",
       "      <th>56</th>\n",
       "      <td>2022-06-26</td>\n",
       "      <td>0.42</td>\n",
       "    </tr>\n",
       "    <tr>\n",
       "      <th>57</th>\n",
       "      <td>2022-06-27</td>\n",
       "      <td>0.44</td>\n",
       "    </tr>\n",
       "    <tr>\n",
       "      <th>58</th>\n",
       "      <td>2022-06-28</td>\n",
       "      <td>0.58</td>\n",
       "    </tr>\n",
       "    <tr>\n",
       "      <th>59</th>\n",
       "      <td>2022-06-29</td>\n",
       "      <td>0.59</td>\n",
       "    </tr>\n",
       "    <tr>\n",
       "      <th>60</th>\n",
       "      <td>2022-06-30</td>\n",
       "      <td>0.59</td>\n",
       "    </tr>\n",
       "  </tbody>\n",
       "</table>\n",
       "<p>61 rows × 2 columns</p>\n",
       "</div>"
      ],
      "text/plain": [
       "   service_date  avg\n",
       "0    2022-05-01 0.70\n",
       "1    2022-05-02 0.71\n",
       "2    2022-05-03 0.93\n",
       "3    2022-05-04 0.37\n",
       "4    2022-05-05 0.79\n",
       "..          ...  ...\n",
       "56   2022-06-26 0.42\n",
       "57   2022-06-27 0.44\n",
       "58   2022-06-28 0.58\n",
       "59   2022-06-29 0.59\n",
       "60   2022-06-30 0.59\n",
       "\n",
       "[61 rows x 2 columns]"
      ]
     },
     "execution_count": 49,
     "metadata": {},
     "output_type": "execute_result"
    }
   ],
   "source": [
    "agg_all"
   ]
  },
  {
   "cell_type": "code",
   "execution_count": 143,
   "id": "7d410e8f-62bb-4a99-adb3-864124880d51",
   "metadata": {},
   "outputs": [],
   "source": [
    "from altair.expr import datum"
   ]
  },
  {
   "cell_type": "code",
   "execution_count": 149,
   "id": "83fde4cc-017c-4f9b-b439-623a93ba153a",
   "metadata": {},
   "outputs": [],
   "source": [
    "def total_average_with_1op_chart(full_df, df_avg, calitp_id):\n",
    "    \n",
    "    avg_line = (alt.Chart(df_avg).mark_line(color='#8CBCCB').encode(x=alt.X('service_date', title=utils.labeling('service_date'), sort=(\"x\")),\n",
    "                                     y=alt.Y('avg', title=utils.labeling('avg'), axis=alt.Axis(format='%')),\n",
    "                                                     color = alt.Color(title='Overall Average')\n",
    "                                    ))\n",
    "    \n",
    "    one_op = (utils.groupby_onecol((full_df >> filter(_.calitp_itp_id == calitp_id)), 'service_date', 'pct_w_vp'))\n",
    "    one_op_line = (alt.Chart(one_op).mark_line(color='#EB9F3C').encode(x=alt.X('service_date', title=utils.labeling('service_date'), sort=(\"x\")),\n",
    "                                     y=alt.Y('avg', title=utils.labeling('avg'), axis=alt.Axis(format='%'))\n",
    "                                                                      ))\n",
    "    chart = (avg_line + one_op_line).properties(width=550)\n",
    "                              \n",
    "    return chart"
   ]
  },
  {
   "cell_type": "code",
   "execution_count": 150,
   "id": "d971d9a3-daff-489b-9163-b2026dcfd40e",
   "metadata": {},
   "outputs": [
    {
     "data": {
      "text/html": [
       "\n",
       "<div id=\"altair-viz-1e9dcb1d4b5a4693ab99cd247698e8ae\"></div>\n",
       "<script type=\"text/javascript\">\n",
       "  var VEGA_DEBUG = (typeof VEGA_DEBUG == \"undefined\") ? {} : VEGA_DEBUG;\n",
       "  (function(spec, embedOpt){\n",
       "    let outputDiv = document.currentScript.previousElementSibling;\n",
       "    if (outputDiv.id !== \"altair-viz-1e9dcb1d4b5a4693ab99cd247698e8ae\") {\n",
       "      outputDiv = document.getElementById(\"altair-viz-1e9dcb1d4b5a4693ab99cd247698e8ae\");\n",
       "    }\n",
       "    const paths = {\n",
       "      \"vega\": \"https://cdn.jsdelivr.net/npm//vega@5?noext\",\n",
       "      \"vega-lib\": \"https://cdn.jsdelivr.net/npm//vega-lib?noext\",\n",
       "      \"vega-lite\": \"https://cdn.jsdelivr.net/npm//vega-lite@4.17.0?noext\",\n",
       "      \"vega-embed\": \"https://cdn.jsdelivr.net/npm//vega-embed@6?noext\",\n",
       "    };\n",
       "\n",
       "    function maybeLoadScript(lib, version) {\n",
       "      var key = `${lib.replace(\"-\", \"\")}_version`;\n",
       "      return (VEGA_DEBUG[key] == version) ?\n",
       "        Promise.resolve(paths[lib]) :\n",
       "        new Promise(function(resolve, reject) {\n",
       "          var s = document.createElement('script');\n",
       "          document.getElementsByTagName(\"head\")[0].appendChild(s);\n",
       "          s.async = true;\n",
       "          s.onload = () => {\n",
       "            VEGA_DEBUG[key] = version;\n",
       "            return resolve(paths[lib]);\n",
       "          };\n",
       "          s.onerror = () => reject(`Error loading script: ${paths[lib]}`);\n",
       "          s.src = paths[lib];\n",
       "        });\n",
       "    }\n",
       "\n",
       "    function showError(err) {\n",
       "      outputDiv.innerHTML = `<div class=\"error\" style=\"color:red;\">${err}</div>`;\n",
       "      throw err;\n",
       "    }\n",
       "\n",
       "    function displayChart(vegaEmbed) {\n",
       "      vegaEmbed(outputDiv, spec, embedOpt)\n",
       "        .catch(err => showError(`Javascript Error: ${err.message}<br>This usually means there's a typo in your chart specification. See the javascript console for the full traceback.`));\n",
       "    }\n",
       "\n",
       "    if(typeof define === \"function\" && define.amd) {\n",
       "      requirejs.config({paths});\n",
       "      require([\"vega-embed\"], displayChart, err => showError(`Error loading script: ${err.message}`));\n",
       "    } else {\n",
       "      maybeLoadScript(\"vega\", \"5\")\n",
       "        .then(() => maybeLoadScript(\"vega-lite\", \"4.17.0\"))\n",
       "        .then(() => maybeLoadScript(\"vega-embed\", \"6\"))\n",
       "        .catch(showError)\n",
       "        .then(() => displayChart(vegaEmbed));\n",
       "    }\n",
       "  })({\"config\": {\"view\": {\"continuousWidth\": 400, \"continuousHeight\": 300}}, \"layer\": [{\"data\": {\"name\": \"data-f8dfbd7bd12035c4c48202bbff77366c\"}, \"mark\": {\"type\": \"line\", \"color\": \"#8CBCCB\"}, \"encoding\": {\"color\": {\"title\": \"Overall Average\"}, \"x\": {\"field\": \"service_date\", \"sort\": \"x\", \"title\": \"Service Date\", \"type\": \"temporal\"}, \"y\": {\"axis\": {\"format\": \"%\"}, \"field\": \"avg\", \"title\": \"Average\", \"type\": \"quantitative\"}}}, {\"data\": {\"name\": \"data-103e2cfc80ee5576c55e5741475d6fe8\"}, \"mark\": {\"type\": \"line\", \"color\": \"#EB9F3C\"}, \"encoding\": {\"x\": {\"field\": \"service_date\", \"sort\": \"x\", \"title\": \"Service Date\", \"type\": \"temporal\"}, \"y\": {\"axis\": {\"format\": \"%\"}, \"field\": \"avg\", \"title\": \"Average\", \"type\": \"quantitative\"}}}], \"width\": 550, \"$schema\": \"https://vega.github.io/schema/vega-lite/v4.17.0.json\", \"datasets\": {\"data-f8dfbd7bd12035c4c48202bbff77366c\": [{\"service_date\": \"2022-05-01T00:00:00\", \"avg\": 0.6976342831105984}, {\"service_date\": \"2022-05-02T00:00:00\", \"avg\": 0.7073333294719414}, {\"service_date\": \"2022-05-03T00:00:00\", \"avg\": 0.9270538596152047}, {\"service_date\": \"2022-05-04T00:00:00\", \"avg\": 0.3704180885439006}, {\"service_date\": \"2022-05-05T00:00:00\", \"avg\": 0.7860414290631845}, {\"service_date\": \"2022-05-06T00:00:00\", \"avg\": 0.9221987362918901}, {\"service_date\": \"2022-05-07T00:00:00\", \"avg\": 0.6980951197629457}, {\"service_date\": \"2022-05-08T00:00:00\", \"avg\": 0.6678014042947814}, {\"service_date\": \"2022-05-09T00:00:00\", \"avg\": 0.7006955279471019}, {\"service_date\": \"2022-05-10T00:00:00\", \"avg\": 0.9316605466645204}, {\"service_date\": \"2022-05-11T00:00:00\", \"avg\": 0.9340096880562532}, {\"service_date\": \"2022-05-12T00:00:00\", \"avg\": 0.9411142671848775}, {\"service_date\": \"2022-05-13T00:00:00\", \"avg\": 0.9240016137934051}, {\"service_date\": \"2022-05-14T00:00:00\", \"avg\": 0.6969098510711542}, {\"service_date\": \"2022-05-15T00:00:00\", \"avg\": 0.6969199357984274}, {\"service_date\": \"2022-05-16T00:00:00\", \"avg\": 0.703550080339628}, {\"service_date\": \"2022-05-17T00:00:00\", \"avg\": 0.9371557622498112}, {\"service_date\": \"2022-05-18T00:00:00\", \"avg\": 0.9320711555018818}, {\"service_date\": \"2022-05-19T00:00:00\", \"avg\": 0.9382163781403144}, {\"service_date\": \"2022-05-20T00:00:00\", \"avg\": 0.9338999634536199}, {\"service_date\": \"2022-05-21T00:00:00\", \"avg\": 0.7095608409058235}, {\"service_date\": \"2022-05-22T00:00:00\", \"avg\": 0.7009623906602263}, {\"service_date\": \"2022-05-23T00:00:00\", \"avg\": 0.7032153128090686}, {\"service_date\": \"2022-05-24T00:00:00\", \"avg\": 0.9225840751084643}, {\"service_date\": \"2022-05-25T00:00:00\", \"avg\": 0.911143353027873}, {\"service_date\": \"2022-05-26T00:00:00\", \"avg\": 0.9182814277999843}, {\"service_date\": \"2022-05-27T00:00:00\", \"avg\": 0.9206337791295889}, {\"service_date\": \"2022-05-28T00:00:00\", \"avg\": 0.7010804522182912}, {\"service_date\": \"2022-05-29T00:00:00\", \"avg\": 0.7118376398679371}, {\"service_date\": \"2022-05-30T00:00:00\", \"avg\": 0.9468570958727529}, {\"service_date\": \"2022-05-31T00:00:00\", \"avg\": 0.7106098047700656}, {\"service_date\": \"2022-06-01T00:00:00\", \"avg\": 0.9435524013620092}, {\"service_date\": \"2022-06-02T00:00:00\", \"avg\": 0.9361189159381594}, {\"service_date\": \"2022-06-03T00:00:00\", \"avg\": 0.9068220524355372}, {\"service_date\": \"2022-06-04T00:00:00\", \"avg\": 0.7091994848253845}, {\"service_date\": \"2022-06-05T00:00:00\", \"avg\": 0.7105246205331306}, {\"service_date\": \"2022-06-06T00:00:00\", \"avg\": 0.7035203336641557}, {\"service_date\": \"2022-06-07T00:00:00\", \"avg\": 0.9316708477428465}, {\"service_date\": \"2022-06-08T00:00:00\", \"avg\": 0.6364756910864333}, {\"service_date\": \"2022-06-09T00:00:00\", \"avg\": 0.7224240395666827}, {\"service_date\": \"2022-06-10T00:00:00\", \"avg\": 0.6896172170437658}, {\"service_date\": \"2022-06-11T00:00:00\", \"avg\": 0.46746463919717396}, {\"service_date\": \"2022-06-12T00:00:00\", \"avg\": 0.4804898149233297}, {\"service_date\": \"2022-06-13T00:00:00\", \"avg\": 0.5674623408149455}, {\"service_date\": \"2022-06-14T00:00:00\", \"avg\": 0.719721701000902}, {\"service_date\": \"2022-06-15T00:00:00\", \"avg\": 0.7399693964427388}, {\"service_date\": \"2022-06-16T00:00:00\", \"avg\": 0.7462551168701639}, {\"service_date\": \"2022-06-17T00:00:00\", \"avg\": 0.7472657120725996}, {\"service_date\": \"2022-06-18T00:00:00\", \"avg\": 0.4762057617111623}, {\"service_date\": \"2022-06-19T00:00:00\", \"avg\": 0.2608313475856143}, {\"service_date\": \"2022-06-20T00:00:00\", \"avg\": 0.2701352919122588}, {\"service_date\": \"2022-06-21T00:00:00\", \"avg\": 0.3589579161204663}, {\"service_date\": \"2022-06-22T00:00:00\", \"avg\": 0.3560421166876284}, {\"service_date\": \"2022-06-23T00:00:00\", \"avg\": 0.35849866226168053}, {\"service_date\": \"2022-06-24T00:00:00\", \"avg\": 0.3552412960578186}, {\"service_date\": \"2022-06-25T00:00:00\", \"avg\": 0.41766412873350517}, {\"service_date\": \"2022-06-26T00:00:00\", \"avg\": 0.41864448660647474}, {\"service_date\": \"2022-06-27T00:00:00\", \"avg\": 0.4350930511142734}, {\"service_date\": \"2022-06-28T00:00:00\", \"avg\": 0.5844931353299446}, {\"service_date\": \"2022-06-29T00:00:00\", \"avg\": 0.589900526864464}, {\"service_date\": \"2022-06-30T00:00:00\", \"avg\": 0.5857011209901314}], \"data-103e2cfc80ee5576c55e5741475d6fe8\": [{\"service_date\": \"2022-05-01T00:00:00\", \"avg\": 0.695317110570745}, {\"service_date\": \"2022-05-02T00:00:00\", \"avg\": 0.7350231078174831}, {\"service_date\": \"2022-05-03T00:00:00\", \"avg\": 0.9057267702959649}, {\"service_date\": \"2022-05-04T00:00:00\", \"avg\": 0.9327323636884055}, {\"service_date\": \"2022-05-05T00:00:00\", \"avg\": 0.9071381842126698}, {\"service_date\": \"2022-05-06T00:00:00\", \"avg\": 0.8895738133463842}, {\"service_date\": \"2022-05-07T00:00:00\", \"avg\": 0.7248018255433458}, {\"service_date\": \"2022-05-08T00:00:00\", \"avg\": 0.6658050711830895}, {\"service_date\": \"2022-05-09T00:00:00\", \"avg\": 0.7309487135752746}, {\"service_date\": \"2022-05-10T00:00:00\", \"avg\": 0.9240328031012047}, {\"service_date\": \"2022-05-11T00:00:00\", \"avg\": 0.9314570158347516}, {\"service_date\": \"2022-05-12T00:00:00\", \"avg\": 0.9235661360917377}, {\"service_date\": \"2022-05-13T00:00:00\", \"avg\": 0.9030991632804589}, {\"service_date\": \"2022-05-14T00:00:00\", \"avg\": 0.7065935955560987}, {\"service_date\": \"2022-05-15T00:00:00\", \"avg\": 0.7118976561717469}, {\"service_date\": \"2022-05-16T00:00:00\", \"avg\": 0.7041208367011822}, {\"service_date\": \"2022-05-17T00:00:00\", \"avg\": 0.9153902162445752}, {\"service_date\": \"2022-05-18T00:00:00\", \"avg\": 0.9197110414725408}, {\"service_date\": \"2022-05-19T00:00:00\", \"avg\": 0.9252481063062679}, {\"service_date\": \"2022-05-20T00:00:00\", \"avg\": 0.9134282897853725}, {\"service_date\": \"2022-05-21T00:00:00\", \"avg\": 0.7513874136728776}, {\"service_date\": \"2022-05-22T00:00:00\", \"avg\": 0.7229863884874576}, {\"service_date\": \"2022-05-23T00:00:00\", \"avg\": 0.7501565856210078}, {\"service_date\": \"2022-05-24T00:00:00\", \"avg\": 0.9158706879019114}, {\"service_date\": \"2022-05-25T00:00:00\", \"avg\": 0.8912865789914006}, {\"service_date\": \"2022-05-26T00:00:00\", \"avg\": 0.9331121754441011}, {\"service_date\": \"2022-05-27T00:00:00\", \"avg\": 0.9017744551213944}, {\"service_date\": \"2022-05-28T00:00:00\", \"avg\": 0.7165250417992279}, {\"service_date\": \"2022-05-29T00:00:00\", \"avg\": 0.7342637276957031}, {\"service_date\": \"2022-05-30T00:00:00\", \"avg\": 0.957167504259966}, {\"service_date\": \"2022-05-31T00:00:00\", \"avg\": 0.7360699402672459}, {\"service_date\": \"2022-06-01T00:00:00\", \"avg\": 0.9236462721117146}, {\"service_date\": \"2022-06-02T00:00:00\", \"avg\": 0.9156478125492685}, {\"service_date\": \"2022-06-03T00:00:00\", \"avg\": 0.8401876734002183}, {\"service_date\": \"2022-06-04T00:00:00\", \"avg\": 0.7288218172399697}, {\"service_date\": \"2022-06-05T00:00:00\", \"avg\": 0.7353847336442699}, {\"service_date\": \"2022-06-06T00:00:00\", \"avg\": 0.7176269524798708}, {\"service_date\": \"2022-06-07T00:00:00\", \"avg\": 0.9049442937578437}, {\"service_date\": \"2022-06-08T00:00:00\", \"avg\": 0.896309812886783}, {\"service_date\": \"2022-06-09T00:00:00\", \"avg\": 0.9064131997475474}, {\"service_date\": \"2022-06-10T00:00:00\", \"avg\": 0.8618986746619072}, {\"service_date\": \"2022-06-11T00:00:00\", \"avg\": 0.7018761468906031}, {\"service_date\": \"2022-06-12T00:00:00\", \"avg\": 0.704174058514624}, {\"service_date\": \"2022-06-13T00:00:00\", \"avg\": 0.7328741754893318}, {\"service_date\": \"2022-06-14T00:00:00\", \"avg\": 0.9067181775133561}, {\"service_date\": \"2022-06-15T00:00:00\", \"avg\": 0.9624215816720992}, {\"service_date\": \"2022-06-16T00:00:00\", \"avg\": 0.9879056098666857}, {\"service_date\": \"2022-06-17T00:00:00\", \"avg\": 0.9940719850094477}, {\"service_date\": \"2022-06-18T00:00:00\", \"avg\": 0.7470297572487413}, {\"service_date\": \"2022-06-19T00:00:00\", \"avg\": 0.704550292374256}, {\"service_date\": \"2022-06-20T00:00:00\", \"avg\": 0.7511662915901679}, {\"service_date\": \"2022-06-21T00:00:00\", \"avg\": 0.9252557035574341}, {\"service_date\": \"2022-06-22T00:00:00\", \"avg\": 0.9317650025875343}, {\"service_date\": \"2022-06-23T00:00:00\", \"avg\": 0.9246064330598222}, {\"service_date\": \"2022-06-24T00:00:00\", \"avg\": 0.8849192527140245}, {\"service_date\": \"2022-06-25T00:00:00\", \"avg\": 0.6965614876539283}, {\"service_date\": \"2022-06-26T00:00:00\", \"avg\": 0.6812723116846798}, {\"service_date\": \"2022-06-27T00:00:00\", \"avg\": 0.715219060891419}, {\"service_date\": \"2022-06-28T00:00:00\", \"avg\": 0.9158181721703348}, {\"service_date\": \"2022-06-29T00:00:00\", \"avg\": 0.9302098640360624}, {\"service_date\": \"2022-06-30T00:00:00\", \"avg\": 0.9314451729812746}]}}, {\"mode\": \"vega-lite\"});\n",
       "</script>"
      ],
      "text/plain": [
       "alt.LayerChart(...)"
      ]
     },
     "execution_count": 150,
     "metadata": {},
     "output_type": "execute_result"
    }
   ],
   "source": [
    "total_average_with_1op_chart(rt_sched, agg_all, 300)"
   ]
  },
  {
   "cell_type": "code",
   "execution_count": 146,
   "id": "06aba36c-30b0-4cc1-a15b-53abbf459e80",
   "metadata": {},
   "outputs": [],
   "source": [
    "# avg_line = (alt.Chart(df_avg).mark_line(color = 'blue').encode(x=alt.X('service_date', title=utils.labeling('service_date'), sort=(\"x\")),\n",
    "#                                      y=alt.Y('avg', title=utils.labeling('avg'), axis=alt.Axis(format='%'))\n",
    "#                                     ).properties(title= 'Overall Average for Percent Trips with '))\n",
    "    \n",
    "# one_op_line = (alt.Chart(one_op).mark_line(color='red').encode(x=alt.X('service_date', title=utils.labeling('service_date'), sort=(\"x\")),\n",
    "#                                      y=alt.Y('avg', title=utils.labeling('avg'), axis=alt.Axis(format='%'))))\n",
    "    \n",
    "# return (avg_line + one_op_line).properties(width=550)"
   ]
  },
  {
   "cell_type": "code",
   "execution_count": 160,
   "id": "d668675d-e46a-413d-9b03-b0818f562b1a",
   "metadata": {},
   "outputs": [],
   "source": [
    "agg_all = (utils.groupby_onecol(rt_sched, 'service_date', 'pct_w_vp')).rename(columns={'avg':'total_average'})"
   ]
  },
  {
   "cell_type": "code",
   "execution_count": 161,
   "id": "b67f2a32-6e28-4155-a76b-b35c559560ad",
   "metadata": {},
   "outputs": [
    {
     "data": {
      "text/html": [
       "<div>\n",
       "<style scoped>\n",
       "    .dataframe tbody tr th:only-of-type {\n",
       "        vertical-align: middle;\n",
       "    }\n",
       "\n",
       "    .dataframe tbody tr th {\n",
       "        vertical-align: top;\n",
       "    }\n",
       "\n",
       "    .dataframe thead th {\n",
       "        text-align: right;\n",
       "    }\n",
       "</style>\n",
       "<table border=\"1\" class=\"dataframe\">\n",
       "  <thead>\n",
       "    <tr style=\"text-align: right;\">\n",
       "      <th></th>\n",
       "      <th>service_date</th>\n",
       "      <th>total_average</th>\n",
       "    </tr>\n",
       "  </thead>\n",
       "  <tbody>\n",
       "    <tr>\n",
       "      <th>15</th>\n",
       "      <td>2022-05-16</td>\n",
       "      <td>0.70</td>\n",
       "    </tr>\n",
       "  </tbody>\n",
       "</table>\n",
       "</div>"
      ],
      "text/plain": [
       "   service_date  total_average\n",
       "15   2022-05-16           0.70"
      ]
     },
     "execution_count": 161,
     "metadata": {},
     "output_type": "execute_result"
    }
   ],
   "source": [
    "agg_all.sample()"
   ]
  },
  {
   "cell_type": "code",
   "execution_count": 158,
   "id": "99e5cff1-06e6-43cf-9cdb-bdcb42308b52",
   "metadata": {},
   "outputs": [],
   "source": [
    "one_op = (utils.groupby_onecol((rt_sched >> filter(_.calitp_itp_id == 300)), 'service_date', 'pct_w_vp'))\n",
    "one_op = one_op.rename(columns={'avg':'operator_average'})\n",
    "\n",
    "# one_op_line = (alt.Chart(one_op).mark_line().encode(x=alt.X('service_date', title=utils.labeling('service_date'), sort=(\"x\")),\n",
    "#                                      y=alt.Y('avg', title=utils.labeling('avg'), axis=alt.Axis(format='%'))))"
   ]
  },
  {
   "cell_type": "code",
   "execution_count": 159,
   "id": "77e071c2-ddde-43c7-915f-67799ab79050",
   "metadata": {},
   "outputs": [
    {
     "data": {
      "text/html": [
       "<div>\n",
       "<style scoped>\n",
       "    .dataframe tbody tr th:only-of-type {\n",
       "        vertical-align: middle;\n",
       "    }\n",
       "\n",
       "    .dataframe tbody tr th {\n",
       "        vertical-align: top;\n",
       "    }\n",
       "\n",
       "    .dataframe thead th {\n",
       "        text-align: right;\n",
       "    }\n",
       "</style>\n",
       "<table border=\"1\" class=\"dataframe\">\n",
       "  <thead>\n",
       "    <tr style=\"text-align: right;\">\n",
       "      <th></th>\n",
       "      <th>service_date</th>\n",
       "      <th>operator_average</th>\n",
       "    </tr>\n",
       "  </thead>\n",
       "  <tbody>\n",
       "    <tr>\n",
       "      <th>33</th>\n",
       "      <td>2022-06-03</td>\n",
       "      <td>0.84</td>\n",
       "    </tr>\n",
       "  </tbody>\n",
       "</table>\n",
       "</div>"
      ],
      "text/plain": [
       "   service_date  operator_average\n",
       "33   2022-06-03              0.84"
      ]
     },
     "execution_count": 159,
     "metadata": {},
     "output_type": "execute_result"
    }
   ],
   "source": [
    "one_op.sample()"
   ]
  },
  {
   "cell_type": "code",
   "execution_count": 167,
   "id": "1d1f965f-b5fa-46c1-81f9-7a1c32fa0dab",
   "metadata": {},
   "outputs": [],
   "source": [
    "by_date = pd.merge(agg_all, one_op, on= 'service_date', how='left')"
   ]
  },
  {
   "cell_type": "code",
   "execution_count": 169,
   "id": "cce68309-4b98-44f6-be2d-3b206e46d49d",
   "metadata": {},
   "outputs": [
    {
     "data": {
      "text/html": [
       "<div>\n",
       "<style scoped>\n",
       "    .dataframe tbody tr th:only-of-type {\n",
       "        vertical-align: middle;\n",
       "    }\n",
       "\n",
       "    .dataframe tbody tr th {\n",
       "        vertical-align: top;\n",
       "    }\n",
       "\n",
       "    .dataframe thead th {\n",
       "        text-align: right;\n",
       "    }\n",
       "</style>\n",
       "<table border=\"1\" class=\"dataframe\">\n",
       "  <thead>\n",
       "    <tr style=\"text-align: right;\">\n",
       "      <th></th>\n",
       "      <th>service_date</th>\n",
       "      <th>total_average</th>\n",
       "      <th>operator_average</th>\n",
       "    </tr>\n",
       "  </thead>\n",
       "  <tbody>\n",
       "    <tr>\n",
       "      <th>19</th>\n",
       "      <td>2022-05-20</td>\n",
       "      <td>0.93</td>\n",
       "      <td>0.91</td>\n",
       "    </tr>\n",
       "  </tbody>\n",
       "</table>\n",
       "</div>"
      ],
      "text/plain": [
       "   service_date  total_average  operator_average\n",
       "19   2022-05-20           0.93              0.91"
      ]
     },
     "execution_count": 169,
     "metadata": {},
     "output_type": "execute_result"
    }
   ],
   "source": [
    "by_date.sample()"
   ]
  },
  {
   "cell_type": "code",
   "execution_count": 174,
   "id": "f379de74-bc53-41e6-8593-5ae552e693d8",
   "metadata": {
    "tags": []
   },
   "outputs": [
    {
     "data": {
      "text/html": [
       "\n",
       "<div id=\"altair-viz-3a2fb400cdcf4bc2b6f291b5152e87ee\"></div>\n",
       "<script type=\"text/javascript\">\n",
       "  var VEGA_DEBUG = (typeof VEGA_DEBUG == \"undefined\") ? {} : VEGA_DEBUG;\n",
       "  (function(spec, embedOpt){\n",
       "    let outputDiv = document.currentScript.previousElementSibling;\n",
       "    if (outputDiv.id !== \"altair-viz-3a2fb400cdcf4bc2b6f291b5152e87ee\") {\n",
       "      outputDiv = document.getElementById(\"altair-viz-3a2fb400cdcf4bc2b6f291b5152e87ee\");\n",
       "    }\n",
       "    const paths = {\n",
       "      \"vega\": \"https://cdn.jsdelivr.net/npm//vega@5?noext\",\n",
       "      \"vega-lib\": \"https://cdn.jsdelivr.net/npm//vega-lib?noext\",\n",
       "      \"vega-lite\": \"https://cdn.jsdelivr.net/npm//vega-lite@4.17.0?noext\",\n",
       "      \"vega-embed\": \"https://cdn.jsdelivr.net/npm//vega-embed@6?noext\",\n",
       "    };\n",
       "\n",
       "    function maybeLoadScript(lib, version) {\n",
       "      var key = `${lib.replace(\"-\", \"\")}_version`;\n",
       "      return (VEGA_DEBUG[key] == version) ?\n",
       "        Promise.resolve(paths[lib]) :\n",
       "        new Promise(function(resolve, reject) {\n",
       "          var s = document.createElement('script');\n",
       "          document.getElementsByTagName(\"head\")[0].appendChild(s);\n",
       "          s.async = true;\n",
       "          s.onload = () => {\n",
       "            VEGA_DEBUG[key] = version;\n",
       "            return resolve(paths[lib]);\n",
       "          };\n",
       "          s.onerror = () => reject(`Error loading script: ${paths[lib]}`);\n",
       "          s.src = paths[lib];\n",
       "        });\n",
       "    }\n",
       "\n",
       "    function showError(err) {\n",
       "      outputDiv.innerHTML = `<div class=\"error\" style=\"color:red;\">${err}</div>`;\n",
       "      throw err;\n",
       "    }\n",
       "\n",
       "    function displayChart(vegaEmbed) {\n",
       "      vegaEmbed(outputDiv, spec, embedOpt)\n",
       "        .catch(err => showError(`Javascript Error: ${err.message}<br>This usually means there's a typo in your chart specification. See the javascript console for the full traceback.`));\n",
       "    }\n",
       "\n",
       "    if(typeof define === \"function\" && define.amd) {\n",
       "      requirejs.config({paths});\n",
       "      require([\"vega-embed\"], displayChart, err => showError(`Error loading script: ${err.message}`));\n",
       "    } else {\n",
       "      maybeLoadScript(\"vega\", \"5\")\n",
       "        .then(() => maybeLoadScript(\"vega-lite\", \"4.17.0\"))\n",
       "        .then(() => maybeLoadScript(\"vega-embed\", \"6\"))\n",
       "        .catch(showError)\n",
       "        .then(() => displayChart(vegaEmbed));\n",
       "    }\n",
       "  })({\"config\": {\"view\": {\"continuousWidth\": 400, \"continuousHeight\": 300}}, \"layer\": [{\"mark\": {\"type\": \"line\", \"color\": \"#8CBCCB\"}, \"encoding\": {\"color\": {\"title\": \"Overall Average\"}, \"x\": {\"field\": \"service_date\", \"sort\": \"x\", \"title\": \"Service Date\", \"type\": \"temporal\"}, \"y\": {\"axis\": {\"format\": \"%\"}, \"field\": \"total_average\", \"title\": \"Average\", \"type\": \"quantitative\"}}}, {\"mark\": {\"type\": \"line\", \"color\": \"#EB9F3C\"}, \"encoding\": {\"color\": {\"title\": \"Operator Average\"}, \"x\": {\"field\": \"service_date\", \"sort\": \"x\", \"title\": \"Service Date\", \"type\": \"temporal\"}, \"y\": {\"axis\": {\"format\": \"%\"}, \"field\": \"operator_average\", \"title\": \"Operator Average\", \"type\": \"quantitative\"}}}], \"data\": {\"name\": \"data-9ea0a28283c0761d0acbdb0bc619dae0\"}, \"$schema\": \"https://vega.github.io/schema/vega-lite/v4.17.0.json\", \"datasets\": {\"data-9ea0a28283c0761d0acbdb0bc619dae0\": [{\"service_date\": \"2022-05-01T00:00:00\", \"total_average\": 0.6976342831105984, \"operator_average\": 0.695317110570745}, {\"service_date\": \"2022-05-02T00:00:00\", \"total_average\": 0.7073333294719414, \"operator_average\": 0.7350231078174831}, {\"service_date\": \"2022-05-03T00:00:00\", \"total_average\": 0.9270538596152047, \"operator_average\": 0.9057267702959649}, {\"service_date\": \"2022-05-04T00:00:00\", \"total_average\": 0.3704180885439006, \"operator_average\": 0.9327323636884055}, {\"service_date\": \"2022-05-05T00:00:00\", \"total_average\": 0.7860414290631845, \"operator_average\": 0.9071381842126698}, {\"service_date\": \"2022-05-06T00:00:00\", \"total_average\": 0.9221987362918901, \"operator_average\": 0.8895738133463842}, {\"service_date\": \"2022-05-07T00:00:00\", \"total_average\": 0.6980951197629457, \"operator_average\": 0.7248018255433458}, {\"service_date\": \"2022-05-08T00:00:00\", \"total_average\": 0.6678014042947814, \"operator_average\": 0.6658050711830895}, {\"service_date\": \"2022-05-09T00:00:00\", \"total_average\": 0.7006955279471019, \"operator_average\": 0.7309487135752746}, {\"service_date\": \"2022-05-10T00:00:00\", \"total_average\": 0.9316605466645204, \"operator_average\": 0.9240328031012047}, {\"service_date\": \"2022-05-11T00:00:00\", \"total_average\": 0.9340096880562532, \"operator_average\": 0.9314570158347516}, {\"service_date\": \"2022-05-12T00:00:00\", \"total_average\": 0.9411142671848775, \"operator_average\": 0.9235661360917377}, {\"service_date\": \"2022-05-13T00:00:00\", \"total_average\": 0.9240016137934051, \"operator_average\": 0.9030991632804589}, {\"service_date\": \"2022-05-14T00:00:00\", \"total_average\": 0.6969098510711542, \"operator_average\": 0.7065935955560987}, {\"service_date\": \"2022-05-15T00:00:00\", \"total_average\": 0.6969199357984274, \"operator_average\": 0.7118976561717469}, {\"service_date\": \"2022-05-16T00:00:00\", \"total_average\": 0.703550080339628, \"operator_average\": 0.7041208367011822}, {\"service_date\": \"2022-05-17T00:00:00\", \"total_average\": 0.9371557622498112, \"operator_average\": 0.9153902162445752}, {\"service_date\": \"2022-05-18T00:00:00\", \"total_average\": 0.9320711555018818, \"operator_average\": 0.9197110414725408}, {\"service_date\": \"2022-05-19T00:00:00\", \"total_average\": 0.9382163781403144, \"operator_average\": 0.9252481063062679}, {\"service_date\": \"2022-05-20T00:00:00\", \"total_average\": 0.9338999634536199, \"operator_average\": 0.9134282897853725}, {\"service_date\": \"2022-05-21T00:00:00\", \"total_average\": 0.7095608409058235, \"operator_average\": 0.7513874136728776}, {\"service_date\": \"2022-05-22T00:00:00\", \"total_average\": 0.7009623906602263, \"operator_average\": 0.7229863884874576}, {\"service_date\": \"2022-05-23T00:00:00\", \"total_average\": 0.7032153128090686, \"operator_average\": 0.7501565856210078}, {\"service_date\": \"2022-05-24T00:00:00\", \"total_average\": 0.9225840751084643, \"operator_average\": 0.9158706879019114}, {\"service_date\": \"2022-05-25T00:00:00\", \"total_average\": 0.911143353027873, \"operator_average\": 0.8912865789914006}, {\"service_date\": \"2022-05-26T00:00:00\", \"total_average\": 0.9182814277999843, \"operator_average\": 0.9331121754441011}, {\"service_date\": \"2022-05-27T00:00:00\", \"total_average\": 0.9206337791295889, \"operator_average\": 0.9017744551213944}, {\"service_date\": \"2022-05-28T00:00:00\", \"total_average\": 0.7010804522182912, \"operator_average\": 0.7165250417992279}, {\"service_date\": \"2022-05-29T00:00:00\", \"total_average\": 0.7118376398679371, \"operator_average\": 0.7342637276957031}, {\"service_date\": \"2022-05-30T00:00:00\", \"total_average\": 0.9468570958727529, \"operator_average\": 0.957167504259966}, {\"service_date\": \"2022-05-31T00:00:00\", \"total_average\": 0.7106098047700656, \"operator_average\": 0.7360699402672459}, {\"service_date\": \"2022-06-01T00:00:00\", \"total_average\": 0.9435524013620092, \"operator_average\": 0.9236462721117146}, {\"service_date\": \"2022-06-02T00:00:00\", \"total_average\": 0.9361189159381594, \"operator_average\": 0.9156478125492685}, {\"service_date\": \"2022-06-03T00:00:00\", \"total_average\": 0.9068220524355372, \"operator_average\": 0.8401876734002183}, {\"service_date\": \"2022-06-04T00:00:00\", \"total_average\": 0.7091994848253845, \"operator_average\": 0.7288218172399697}, {\"service_date\": \"2022-06-05T00:00:00\", \"total_average\": 0.7105246205331306, \"operator_average\": 0.7353847336442699}, {\"service_date\": \"2022-06-06T00:00:00\", \"total_average\": 0.7035203336641557, \"operator_average\": 0.7176269524798708}, {\"service_date\": \"2022-06-07T00:00:00\", \"total_average\": 0.9316708477428465, \"operator_average\": 0.9049442937578437}, {\"service_date\": \"2022-06-08T00:00:00\", \"total_average\": 0.6364756910864333, \"operator_average\": 0.896309812886783}, {\"service_date\": \"2022-06-09T00:00:00\", \"total_average\": 0.7224240395666827, \"operator_average\": 0.9064131997475474}, {\"service_date\": \"2022-06-10T00:00:00\", \"total_average\": 0.6896172170437658, \"operator_average\": 0.8618986746619072}, {\"service_date\": \"2022-06-11T00:00:00\", \"total_average\": 0.46746463919717396, \"operator_average\": 0.7018761468906031}, {\"service_date\": \"2022-06-12T00:00:00\", \"total_average\": 0.4804898149233297, \"operator_average\": 0.704174058514624}, {\"service_date\": \"2022-06-13T00:00:00\", \"total_average\": 0.5674623408149455, \"operator_average\": 0.7328741754893318}, {\"service_date\": \"2022-06-14T00:00:00\", \"total_average\": 0.719721701000902, \"operator_average\": 0.9067181775133561}, {\"service_date\": \"2022-06-15T00:00:00\", \"total_average\": 0.7399693964427388, \"operator_average\": 0.9624215816720992}, {\"service_date\": \"2022-06-16T00:00:00\", \"total_average\": 0.7462551168701639, \"operator_average\": 0.9879056098666857}, {\"service_date\": \"2022-06-17T00:00:00\", \"total_average\": 0.7472657120725996, \"operator_average\": 0.9940719850094477}, {\"service_date\": \"2022-06-18T00:00:00\", \"total_average\": 0.4762057617111623, \"operator_average\": 0.7470297572487413}, {\"service_date\": \"2022-06-19T00:00:00\", \"total_average\": 0.2608313475856143, \"operator_average\": 0.704550292374256}, {\"service_date\": \"2022-06-20T00:00:00\", \"total_average\": 0.2701352919122588, \"operator_average\": 0.7511662915901679}, {\"service_date\": \"2022-06-21T00:00:00\", \"total_average\": 0.3589579161204663, \"operator_average\": 0.9252557035574341}, {\"service_date\": \"2022-06-22T00:00:00\", \"total_average\": 0.3560421166876284, \"operator_average\": 0.9317650025875343}, {\"service_date\": \"2022-06-23T00:00:00\", \"total_average\": 0.35849866226168053, \"operator_average\": 0.9246064330598222}, {\"service_date\": \"2022-06-24T00:00:00\", \"total_average\": 0.3552412960578186, \"operator_average\": 0.8849192527140245}, {\"service_date\": \"2022-06-25T00:00:00\", \"total_average\": 0.41766412873350517, \"operator_average\": 0.6965614876539283}, {\"service_date\": \"2022-06-26T00:00:00\", \"total_average\": 0.41864448660647474, \"operator_average\": 0.6812723116846798}, {\"service_date\": \"2022-06-27T00:00:00\", \"total_average\": 0.4350930511142734, \"operator_average\": 0.715219060891419}, {\"service_date\": \"2022-06-28T00:00:00\", \"total_average\": 0.5844931353299446, \"operator_average\": 0.9158181721703348}, {\"service_date\": \"2022-06-29T00:00:00\", \"total_average\": 0.589900526864464, \"operator_average\": 0.9302098640360624}, {\"service_date\": \"2022-06-30T00:00:00\", \"total_average\": 0.5857011209901314, \"operator_average\": 0.9314451729812746}]}}, {\"mode\": \"vega-lite\"});\n",
       "</script>"
      ],
      "text/plain": [
       "alt.LayerChart(...)"
      ]
     },
     "execution_count": 174,
     "metadata": {},
     "output_type": "execute_result"
    }
   ],
   "source": [
    "total = (alt.Chart(by_date).mark_line(color='#8CBCCB').encode(x=alt.X('service_date', title=utils.labeling('service_date'), sort=(\"x\")),\n",
    "                                     y=alt.Y('total_average', title=utils.labeling('avg'), axis=alt.Axis(format='%')),\n",
    "                                                     color = alt.Color(title='Overall Average')\n",
    "                                    ))\n",
    "op = (alt.Chart(by_date).mark_line(color = '#EB9F3C').encode(x=alt.X('service_date', title=utils.labeling('service_date'), sort=(\"x\")),\n",
    "                                     y=alt.Y('operator_average', title=utils.labeling('operator_average'), axis=alt.Axis(format='%')),\n",
    "                                                     color = alt.Color(title='Operator Average')\n",
    "                                    ))\n",
    "\n",
    "total+op"
   ]
  },
  {
   "cell_type": "code",
   "execution_count": 198,
   "id": "df2f029a-8c13-49c0-b65a-fe96e24cba0a",
   "metadata": {},
   "outputs": [
    {
     "data": {
      "text/html": [
       "\n",
       "<div id=\"altair-viz-987c5ffdfae0420aa8462442488bb355\"></div>\n",
       "<script type=\"text/javascript\">\n",
       "  var VEGA_DEBUG = (typeof VEGA_DEBUG == \"undefined\") ? {} : VEGA_DEBUG;\n",
       "  (function(spec, embedOpt){\n",
       "    let outputDiv = document.currentScript.previousElementSibling;\n",
       "    if (outputDiv.id !== \"altair-viz-987c5ffdfae0420aa8462442488bb355\") {\n",
       "      outputDiv = document.getElementById(\"altair-viz-987c5ffdfae0420aa8462442488bb355\");\n",
       "    }\n",
       "    const paths = {\n",
       "      \"vega\": \"https://cdn.jsdelivr.net/npm//vega@5?noext\",\n",
       "      \"vega-lib\": \"https://cdn.jsdelivr.net/npm//vega-lib?noext\",\n",
       "      \"vega-lite\": \"https://cdn.jsdelivr.net/npm//vega-lite@4.17.0?noext\",\n",
       "      \"vega-embed\": \"https://cdn.jsdelivr.net/npm//vega-embed@6?noext\",\n",
       "    };\n",
       "\n",
       "    function maybeLoadScript(lib, version) {\n",
       "      var key = `${lib.replace(\"-\", \"\")}_version`;\n",
       "      return (VEGA_DEBUG[key] == version) ?\n",
       "        Promise.resolve(paths[lib]) :\n",
       "        new Promise(function(resolve, reject) {\n",
       "          var s = document.createElement('script');\n",
       "          document.getElementsByTagName(\"head\")[0].appendChild(s);\n",
       "          s.async = true;\n",
       "          s.onload = () => {\n",
       "            VEGA_DEBUG[key] = version;\n",
       "            return resolve(paths[lib]);\n",
       "          };\n",
       "          s.onerror = () => reject(`Error loading script: ${paths[lib]}`);\n",
       "          s.src = paths[lib];\n",
       "        });\n",
       "    }\n",
       "\n",
       "    function showError(err) {\n",
       "      outputDiv.innerHTML = `<div class=\"error\" style=\"color:red;\">${err}</div>`;\n",
       "      throw err;\n",
       "    }\n",
       "\n",
       "    function displayChart(vegaEmbed) {\n",
       "      vegaEmbed(outputDiv, spec, embedOpt)\n",
       "        .catch(err => showError(`Javascript Error: ${err.message}<br>This usually means there's a typo in your chart specification. See the javascript console for the full traceback.`));\n",
       "    }\n",
       "\n",
       "    if(typeof define === \"function\" && define.amd) {\n",
       "      requirejs.config({paths});\n",
       "      require([\"vega-embed\"], displayChart, err => showError(`Error loading script: ${err.message}`));\n",
       "    } else {\n",
       "      maybeLoadScript(\"vega\", \"5\")\n",
       "        .then(() => maybeLoadScript(\"vega-lite\", \"4.17.0\"))\n",
       "        .then(() => maybeLoadScript(\"vega-embed\", \"6\"))\n",
       "        .catch(showError)\n",
       "        .then(() => displayChart(vegaEmbed));\n",
       "    }\n",
       "  })({\"config\": {\"view\": {\"continuousWidth\": 400, \"continuousHeight\": 300}}, \"layer\": [{\"mark\": \"line\", \"encoding\": {\"color\": {\"field\": \"variable\", \"scale\": {\"domain\": [\"total_average\", \"operator_average\"], \"range\": [\"#8CBCCB\", \"#EB9F3C\"]}, \"type\": \"nominal\"}, \"x\": {\"field\": \"service_date\", \"type\": \"temporal\"}, \"y\": {\"field\": \"total_average\", \"type\": \"quantitative\"}}, \"transform\": [{\"fold\": [\"total_average\"], \"as\": [\"variable\", \"Total Average\"]}]}, {\"mark\": \"line\", \"encoding\": {\"color\": {\"field\": \"variable\", \"scale\": {\"domain\": [\"total_average\", \"operator_average\"], \"range\": [\"#8CBCCB\", \"#EB9F3C\"]}, \"type\": \"nominal\"}, \"x\": {\"field\": \"service_date\", \"title\": \"Service Date\", \"type\": \"temporal\"}, \"y\": {\"field\": \"operator_average\", \"title\": \"Percent\", \"type\": \"quantitative\"}}, \"transform\": [{\"fold\": [\"operator_average\"], \"as\": [\"variable\", \"Operator Average\"]}]}], \"data\": {\"name\": \"data-9ea0a28283c0761d0acbdb0bc619dae0\"}, \"width\": 550, \"$schema\": \"https://vega.github.io/schema/vega-lite/v4.17.0.json\", \"datasets\": {\"data-9ea0a28283c0761d0acbdb0bc619dae0\": [{\"service_date\": \"2022-05-01T00:00:00\", \"total_average\": 0.6976342831105984, \"operator_average\": 0.695317110570745}, {\"service_date\": \"2022-05-02T00:00:00\", \"total_average\": 0.7073333294719414, \"operator_average\": 0.7350231078174831}, {\"service_date\": \"2022-05-03T00:00:00\", \"total_average\": 0.9270538596152047, \"operator_average\": 0.9057267702959649}, {\"service_date\": \"2022-05-04T00:00:00\", \"total_average\": 0.3704180885439006, \"operator_average\": 0.9327323636884055}, {\"service_date\": \"2022-05-05T00:00:00\", \"total_average\": 0.7860414290631845, \"operator_average\": 0.9071381842126698}, {\"service_date\": \"2022-05-06T00:00:00\", \"total_average\": 0.9221987362918901, \"operator_average\": 0.8895738133463842}, {\"service_date\": \"2022-05-07T00:00:00\", \"total_average\": 0.6980951197629457, \"operator_average\": 0.7248018255433458}, {\"service_date\": \"2022-05-08T00:00:00\", \"total_average\": 0.6678014042947814, \"operator_average\": 0.6658050711830895}, {\"service_date\": \"2022-05-09T00:00:00\", \"total_average\": 0.7006955279471019, \"operator_average\": 0.7309487135752746}, {\"service_date\": \"2022-05-10T00:00:00\", \"total_average\": 0.9316605466645204, \"operator_average\": 0.9240328031012047}, {\"service_date\": \"2022-05-11T00:00:00\", \"total_average\": 0.9340096880562532, \"operator_average\": 0.9314570158347516}, {\"service_date\": \"2022-05-12T00:00:00\", \"total_average\": 0.9411142671848775, \"operator_average\": 0.9235661360917377}, {\"service_date\": \"2022-05-13T00:00:00\", \"total_average\": 0.9240016137934051, \"operator_average\": 0.9030991632804589}, {\"service_date\": \"2022-05-14T00:00:00\", \"total_average\": 0.6969098510711542, \"operator_average\": 0.7065935955560987}, {\"service_date\": \"2022-05-15T00:00:00\", \"total_average\": 0.6969199357984274, \"operator_average\": 0.7118976561717469}, {\"service_date\": \"2022-05-16T00:00:00\", \"total_average\": 0.703550080339628, \"operator_average\": 0.7041208367011822}, {\"service_date\": \"2022-05-17T00:00:00\", \"total_average\": 0.9371557622498112, \"operator_average\": 0.9153902162445752}, {\"service_date\": \"2022-05-18T00:00:00\", \"total_average\": 0.9320711555018818, \"operator_average\": 0.9197110414725408}, {\"service_date\": \"2022-05-19T00:00:00\", \"total_average\": 0.9382163781403144, \"operator_average\": 0.9252481063062679}, {\"service_date\": \"2022-05-20T00:00:00\", \"total_average\": 0.9338999634536199, \"operator_average\": 0.9134282897853725}, {\"service_date\": \"2022-05-21T00:00:00\", \"total_average\": 0.7095608409058235, \"operator_average\": 0.7513874136728776}, {\"service_date\": \"2022-05-22T00:00:00\", \"total_average\": 0.7009623906602263, \"operator_average\": 0.7229863884874576}, {\"service_date\": \"2022-05-23T00:00:00\", \"total_average\": 0.7032153128090686, \"operator_average\": 0.7501565856210078}, {\"service_date\": \"2022-05-24T00:00:00\", \"total_average\": 0.9225840751084643, \"operator_average\": 0.9158706879019114}, {\"service_date\": \"2022-05-25T00:00:00\", \"total_average\": 0.911143353027873, \"operator_average\": 0.8912865789914006}, {\"service_date\": \"2022-05-26T00:00:00\", \"total_average\": 0.9182814277999843, \"operator_average\": 0.9331121754441011}, {\"service_date\": \"2022-05-27T00:00:00\", \"total_average\": 0.9206337791295889, \"operator_average\": 0.9017744551213944}, {\"service_date\": \"2022-05-28T00:00:00\", \"total_average\": 0.7010804522182912, \"operator_average\": 0.7165250417992279}, {\"service_date\": \"2022-05-29T00:00:00\", \"total_average\": 0.7118376398679371, \"operator_average\": 0.7342637276957031}, {\"service_date\": \"2022-05-30T00:00:00\", \"total_average\": 0.9468570958727529, \"operator_average\": 0.957167504259966}, {\"service_date\": \"2022-05-31T00:00:00\", \"total_average\": 0.7106098047700656, \"operator_average\": 0.7360699402672459}, {\"service_date\": \"2022-06-01T00:00:00\", \"total_average\": 0.9435524013620092, \"operator_average\": 0.9236462721117146}, {\"service_date\": \"2022-06-02T00:00:00\", \"total_average\": 0.9361189159381594, \"operator_average\": 0.9156478125492685}, {\"service_date\": \"2022-06-03T00:00:00\", \"total_average\": 0.9068220524355372, \"operator_average\": 0.8401876734002183}, {\"service_date\": \"2022-06-04T00:00:00\", \"total_average\": 0.7091994848253845, \"operator_average\": 0.7288218172399697}, {\"service_date\": \"2022-06-05T00:00:00\", \"total_average\": 0.7105246205331306, \"operator_average\": 0.7353847336442699}, {\"service_date\": \"2022-06-06T00:00:00\", \"total_average\": 0.7035203336641557, \"operator_average\": 0.7176269524798708}, {\"service_date\": \"2022-06-07T00:00:00\", \"total_average\": 0.9316708477428465, \"operator_average\": 0.9049442937578437}, {\"service_date\": \"2022-06-08T00:00:00\", \"total_average\": 0.6364756910864333, \"operator_average\": 0.896309812886783}, {\"service_date\": \"2022-06-09T00:00:00\", \"total_average\": 0.7224240395666827, \"operator_average\": 0.9064131997475474}, {\"service_date\": \"2022-06-10T00:00:00\", \"total_average\": 0.6896172170437658, \"operator_average\": 0.8618986746619072}, {\"service_date\": \"2022-06-11T00:00:00\", \"total_average\": 0.46746463919717396, \"operator_average\": 0.7018761468906031}, {\"service_date\": \"2022-06-12T00:00:00\", \"total_average\": 0.4804898149233297, \"operator_average\": 0.704174058514624}, {\"service_date\": \"2022-06-13T00:00:00\", \"total_average\": 0.5674623408149455, \"operator_average\": 0.7328741754893318}, {\"service_date\": \"2022-06-14T00:00:00\", \"total_average\": 0.719721701000902, \"operator_average\": 0.9067181775133561}, {\"service_date\": \"2022-06-15T00:00:00\", \"total_average\": 0.7399693964427388, \"operator_average\": 0.9624215816720992}, {\"service_date\": \"2022-06-16T00:00:00\", \"total_average\": 0.7462551168701639, \"operator_average\": 0.9879056098666857}, {\"service_date\": \"2022-06-17T00:00:00\", \"total_average\": 0.7472657120725996, \"operator_average\": 0.9940719850094477}, {\"service_date\": \"2022-06-18T00:00:00\", \"total_average\": 0.4762057617111623, \"operator_average\": 0.7470297572487413}, {\"service_date\": \"2022-06-19T00:00:00\", \"total_average\": 0.2608313475856143, \"operator_average\": 0.704550292374256}, {\"service_date\": \"2022-06-20T00:00:00\", \"total_average\": 0.2701352919122588, \"operator_average\": 0.7511662915901679}, {\"service_date\": \"2022-06-21T00:00:00\", \"total_average\": 0.3589579161204663, \"operator_average\": 0.9252557035574341}, {\"service_date\": \"2022-06-22T00:00:00\", \"total_average\": 0.3560421166876284, \"operator_average\": 0.9317650025875343}, {\"service_date\": \"2022-06-23T00:00:00\", \"total_average\": 0.35849866226168053, \"operator_average\": 0.9246064330598222}, {\"service_date\": \"2022-06-24T00:00:00\", \"total_average\": 0.3552412960578186, \"operator_average\": 0.8849192527140245}, {\"service_date\": \"2022-06-25T00:00:00\", \"total_average\": 0.41766412873350517, \"operator_average\": 0.6965614876539283}, {\"service_date\": \"2022-06-26T00:00:00\", \"total_average\": 0.41864448660647474, \"operator_average\": 0.6812723116846798}, {\"service_date\": \"2022-06-27T00:00:00\", \"total_average\": 0.4350930511142734, \"operator_average\": 0.715219060891419}, {\"service_date\": \"2022-06-28T00:00:00\", \"total_average\": 0.5844931353299446, \"operator_average\": 0.9158181721703348}, {\"service_date\": \"2022-06-29T00:00:00\", \"total_average\": 0.589900526864464, \"operator_average\": 0.9302098640360624}, {\"service_date\": \"2022-06-30T00:00:00\", \"total_average\": 0.5857011209901314, \"operator_average\": 0.9314451729812746}]}}, {\"mode\": \"vega-lite\"});\n",
       "</script>"
      ],
      "text/plain": [
       "alt.LayerChart(...)"
      ]
     },
     "execution_count": 198,
     "metadata": {},
     "output_type": "execute_result"
    }
   ],
   "source": [
    "## adding legend\n",
    "#https://stackoverflow.com/questions/65226756/altair-layered-line-chart-with-legend-and-custom-colors\n",
    "scale = alt.Scale(domain=['total_average', 'operator_average'], range=['#8CBCCB', '#EB9F3C'])\n",
    "\n",
    "total = alt.Chart(by_date).mark_line().transform_fold(\n",
    "    fold=['total_average'], \n",
    "    as_=['variable', 'Total Average']\n",
    ").encode(\n",
    "    x='service_date:T', \n",
    "    y='total_average:Q', \n",
    "    color=alt.Color('variable:N', scale=scale)\n",
    ")\n",
    "\n",
    "op = alt.Chart(by_date).mark_line().transform_fold(\n",
    "    fold=['operator_average'], \n",
    "    as_=['variable', 'Operator Average']\n",
    ").encode(\n",
    "    x= alt.X('service_date:T', title = 'Service Date'),\n",
    "    y=alt.Y('operator_average:Q', title='Percent'), \n",
    "    color=alt.Color('variable:N', scale=scale)\n",
    ")\n",
    "(total + op).properties(width=550)\n",
    "\n",
    "# alt.Chart(by_date).mark_line().transform_fold(\n",
    "#     fold=['total_average', 'operator_average'], \n",
    "#     as_=['variable', 'value']\n",
    "# ).encode(\n",
    "#     x=alt.X('service_date', title=utils.labeling('service_date')),\n",
    "#      y=alt.Y('value:Q', title=utils.labeling('avg')),\n",
    "#     color=alt.Color('variable:N', scale=scale)\n",
    "# ).properties(width=550)"
   ]
  },
  {
   "cell_type": "code",
   "execution_count": null,
   "id": "b6bfc19e-a08a-43a5-9983-74a91419c9b5",
   "metadata": {},
   "outputs": [],
   "source": []
  },
  {
   "cell_type": "code",
   "execution_count": null,
   "id": "82372c72-2e05-4961-a08e-cfbcc1894fdb",
   "metadata": {},
   "outputs": [],
   "source": []
  },
  {
   "cell_type": "code",
   "execution_count": null,
   "id": "1757ae96-2975-493a-b646-35ca371afd21",
   "metadata": {},
   "outputs": [],
   "source": []
  },
  {
   "cell_type": "markdown",
   "id": "8672ef9e-9733-4a6b-a65b-9c18dee12073",
   "metadata": {
    "tags": []
   },
   "source": [
    "#### Working through differing averages \n",
    "* no differences due to filtering out expired feeds\n",
    "* needed to filter the calitp_deleted_at: `filter(_.calitp_deleted_at > '2022-07-01'))`"
   ]
  },
  {
   "cell_type": "code",
   "execution_count": 52,
   "id": "6f41a391-fb7b-4658-b704-6ce13148f9a9",
   "metadata": {},
   "outputs": [],
   "source": [
    "#starting with single date to work through the difference"
   ]
  },
  {
   "cell_type": "code",
   "execution_count": 53,
   "id": "8c64c18c-8b3c-4d5c-a80e-89aff77972ab",
   "metadata": {},
   "outputs": [],
   "source": [
    "# (utils.groupby_onecol((rt_sched>>filter(_.service_date=='2022-05-14')), 'calitp_itp_id', 'pct_w_vp'))"
   ]
  },
  {
   "cell_type": "code",
   "execution_count": 54,
   "id": "dc77fe98-ddd0-4c1c-b447-141096373dce",
   "metadata": {},
   "outputs": [],
   "source": [
    "# date = rt_sched>>filter(_.service_date=='2022-05-14')"
   ]
  },
  {
   "cell_type": "code",
   "execution_count": 55,
   "id": "fea69035-e6e6-414b-9e00-13ed7f35bfd8",
   "metadata": {},
   "outputs": [],
   "source": [
    "# (utils.groupby_onecol(date, 'calitp_itp_id', 'pct_w_vp')).avg.mean()"
   ]
  },
  {
   "cell_type": "code",
   "execution_count": 56,
   "id": "ac3298df-b790-4f37-88d4-93f28e0ee86e",
   "metadata": {},
   "outputs": [],
   "source": [
    "# (utils.groupby_onecol(date, 'calitp_itp_id', 'pct_w_vp'))>>summarize(avg = _.avg.mean())"
   ]
  },
  {
   "cell_type": "code",
   "execution_count": 57,
   "id": "07fe2202-fbb9-41e8-844f-ca2432772975",
   "metadata": {},
   "outputs": [],
   "source": [
    "# agg_all>>filter(_.service_date=='2022-05-14')"
   ]
  },
  {
   "cell_type": "code",
   "execution_count": 58,
   "id": "bd104f24-7a11-4f72-80e1-1de17f1355bb",
   "metadata": {},
   "outputs": [],
   "source": [
    "# date >>group_by(_.service_date)>>summarize(avg = _.pct_w_vp.mean())"
   ]
  },
  {
   "cell_type": "code",
   "execution_count": 59,
   "id": "4d74778e-f5f2-4a76-af4e-c0a227f13461",
   "metadata": {},
   "outputs": [],
   "source": [
    "# (rt_sched>>group_by(_.service_date)>>summarize(avg = _.pct_w_vp.mean()))>>filter(_.service_date=='2022-05-14')"
   ]
  },
  {
   "cell_type": "code",
   "execution_count": 60,
   "id": "1794b329-3f75-4f9f-9e22-9f7b68283177",
   "metadata": {},
   "outputs": [],
   "source": [
    "# ((rt_sched>>group_by(_.calitp_itp_id, _.service_date)>>summarize(avg = _.pct_w_vp.mean()))>>filter(_.service_date=='2022-05-14'))>>summarize(avg2 = _.avg.mean())"
   ]
  },
  {
   "cell_type": "code",
   "execution_count": 61,
   "id": "21fc3940-7ed6-458d-b61b-d164bcd12bc7",
   "metadata": {},
   "outputs": [],
   "source": [
    "# ((rt_sched>>group_by(_.agency_name, _.service_date)>>summarize(avg = _.pct_w_vp.mean()))>>filter(_.service_date=='2022-05-14'))>>summarize(avg2 = _.avg.mean())"
   ]
  },
  {
   "cell_type": "code",
   "execution_count": 62,
   "id": "a6bbced8-847c-46a7-b2e9-bbc2fa040066",
   "metadata": {},
   "outputs": [],
   "source": [
    "# date>>group_by(_.agency_name)>>count(_.calitp_itp_id)"
   ]
  },
  {
   "cell_type": "code",
   "execution_count": 63,
   "id": "b89b4405-7703-4818-8b5e-05ffad015ac8",
   "metadata": {},
   "outputs": [],
   "source": [
    "# date>>filter(_.agency_name.isnull())>>count(_.calitp_itp_id)"
   ]
  },
  {
   "cell_type": "code",
   "execution_count": 64,
   "id": "8db8128b-5838-405c-b6d6-9d0b8faf49f3",
   "metadata": {},
   "outputs": [],
   "source": [
    "# date>>filter(_.calitp_itp_id==290,\n",
    "#                  _.agency_name.isnull())"
   ]
  },
  {
   "cell_type": "code",
   "execution_count": 65,
   "id": "8e2725a6-187f-4a0d-a32f-6258841945f3",
   "metadata": {},
   "outputs": [],
   "source": [
    "# (date>>filter(_.calitp_itp_id==290,\n",
    "#                 _.calitp_url_number==1) >>arrange(_.route_id))"
   ]
  },
  {
   "cell_type": "code",
   "execution_count": 66,
   "id": "4f9cff5e-0334-4823-8609-6624cf92d1cb",
   "metadata": {},
   "outputs": [],
   "source": [
    "# (date>>filter(_.calitp_itp_id==300) >>arrange(_.route_id))"
   ]
  },
  {
   "cell_type": "code",
   "execution_count": 67,
   "id": "57368556-849c-4a78-94d0-13af862091b4",
   "metadata": {},
   "outputs": [],
   "source": [
    "# rt_sched['calitp_deleted_at'] = pd.to_datetime(rt_sched['calitp_deleted_at'])"
   ]
  },
  {
   "cell_type": "code",
   "execution_count": 68,
   "id": "2aceeec9-b41b-4ac1-8891-86e1af90bd8f",
   "metadata": {},
   "outputs": [],
   "source": [
    "# date.calitp_deleted_at.info()"
   ]
  },
  {
   "cell_type": "code",
   "execution_count": 69,
   "id": "18e53af3-b3ee-4960-be8d-241926035f5a",
   "metadata": {
    "tags": []
   },
   "outputs": [],
   "source": [
    "# (date >> filter(_.calitp_deleted_at > '2022-07-01'))>>filter(_.calitp_itp_id==290)>>count(_.calitp_url_number)"
   ]
  },
  {
   "cell_type": "code",
   "execution_count": 70,
   "id": "e976854b-ecdc-4f10-94cb-fb2a4378fab5",
   "metadata": {},
   "outputs": [],
   "source": [
    "# # got it- filtering calitp_deleted_at to more recent\n",
    "# date = (date >> filter(_.calitp_deleted_at > '2022-07-01'))"
   ]
  },
  {
   "cell_type": "code",
   "execution_count": 71,
   "id": "08b42c65-64f3-457e-8534-0352ed9567a1",
   "metadata": {},
   "outputs": [],
   "source": [
    "# (date>>group_by(_.calitp_itp_id)>>summarize(avg=_.pct_w_vp.mean()))"
   ]
  },
  {
   "cell_type": "code",
   "execution_count": 72,
   "id": "0998774c-32ac-4238-b52f-95945d157f3a",
   "metadata": {},
   "outputs": [],
   "source": [
    "# (date>>group_by(_.calitp_itp_id)>>summarize(avg=_.pct_w_vp.mean())).avg.mean()"
   ]
  },
  {
   "cell_type": "code",
   "execution_count": 73,
   "id": "e95fac6b-e1b6-49e3-b5f3-a6d25572d4a6",
   "metadata": {},
   "outputs": [],
   "source": [
    "# (utils.groupby_onecol(date, 'service_date', 'pct_w_vp'))"
   ]
  },
  {
   "cell_type": "code",
   "execution_count": null,
   "id": "b6540417-d85e-4dc4-9656-b6ec0031389d",
   "metadata": {},
   "outputs": [],
   "source": []
  },
  {
   "cell_type": "markdown",
   "id": "b38b28cd-9bfb-45f1-a8f2-b3317313d757",
   "metadata": {
    "tags": []
   },
   "source": [
    "## Using Functions (without DBT tables)"
   ]
  },
  {
   "cell_type": "code",
   "execution_count": 74,
   "id": "c67080cc-dd12-4eb0-a287-b6cbdb65e4de",
   "metadata": {},
   "outputs": [],
   "source": [
    "#gtfs_daily = utils.load_schedule_data(analysis_date_start, analysis_date_end, itp_id)"
   ]
  },
  {
   "cell_type": "code",
   "execution_count": 75,
   "id": "2e2ad32c-6cfe-470e-9b36-c91730f922f4",
   "metadata": {},
   "outputs": [],
   "source": [
    "#gtfs_daily"
   ]
  },
  {
   "cell_type": "code",
   "execution_count": 76,
   "id": "ac0202ad-07eb-4379-9a07-7ca487f16579",
   "metadata": {},
   "outputs": [],
   "source": [
    "#gtfs_daily.service_date.min()"
   ]
  },
  {
   "cell_type": "code",
   "execution_count": 77,
   "id": "c17aa074-b430-4eb9-b7d4-6a4d65f3ec1c",
   "metadata": {},
   "outputs": [],
   "source": [
    "#gtfs_daily.service_date.max()"
   ]
  },
  {
   "cell_type": "code",
   "execution_count": null,
   "id": "1223a731-b36f-402e-8f9f-c989d4c5dcf6",
   "metadata": {},
   "outputs": [],
   "source": []
  },
  {
   "cell_type": "code",
   "execution_count": 78,
   "id": "64fc18fb-7976-4971-b796-2f6f0b147f25",
   "metadata": {},
   "outputs": [],
   "source": [
    "#rt = utils.load_rt_data(analysis_date_start, analysis_date_end)"
   ]
  },
  {
   "cell_type": "code",
   "execution_count": 79,
   "id": "7e8d0d7c-95ac-494a-86d6-ab404313df47",
   "metadata": {},
   "outputs": [],
   "source": [
    "#rt"
   ]
  },
  {
   "cell_type": "code",
   "execution_count": 80,
   "id": "c430e24d-f66a-4f90-8398-6395fcfa4b83",
   "metadata": {},
   "outputs": [],
   "source": [
    "#rt['str_len'] = rt.trip_id.str.len()"
   ]
  },
  {
   "cell_type": "code",
   "execution_count": 81,
   "id": "e5a5eee7-9037-43b6-8986-7cd414906de7",
   "metadata": {},
   "outputs": [],
   "source": [
    "#rt.str_len.value_counts()"
   ]
  },
  {
   "cell_type": "code",
   "execution_count": 82,
   "id": "f5a87ac5-67f3-4e81-a5cf-b6eac0ee8047",
   "metadata": {},
   "outputs": [],
   "source": [
    "#len(rt)"
   ]
  },
  {
   "cell_type": "code",
   "execution_count": 83,
   "id": "881af387-1f3a-441a-97ab-d87e06169d15",
   "metadata": {},
   "outputs": [],
   "source": [
    "#rt.trip_id.nunique()"
   ]
  },
  {
   "cell_type": "code",
   "execution_count": 84,
   "id": "aee38e30-3c3f-4698-b7db-115b6a734608",
   "metadata": {},
   "outputs": [],
   "source": [
    "#len(gtfs_daily)"
   ]
  },
  {
   "cell_type": "code",
   "execution_count": 85,
   "id": "564c3cc2-6210-43ef-8bc0-22d13e14e961",
   "metadata": {},
   "outputs": [],
   "source": [
    "#gtfs_daily.trip_id.nunique()"
   ]
  },
  {
   "cell_type": "code",
   "execution_count": null,
   "id": "bf65c0e3-4511-45bb-bed1-ca8e3fa28003",
   "metadata": {},
   "outputs": [],
   "source": []
  },
  {
   "cell_type": "code",
   "execution_count": 86,
   "id": "259c2b27-411d-4301-8311-0e4cc321f3bc",
   "metadata": {},
   "outputs": [],
   "source": [
    "#date_list =['2022-05-01','2022-05-02', '2022-05-31']"
   ]
  },
  {
   "cell_type": "code",
   "execution_count": 87,
   "id": "d9b495dd-7d70-40ba-8d9a-ef334667427c",
   "metadata": {},
   "outputs": [],
   "source": [
    "\n",
    "# from datetime import date, timedelta\n",
    "# start_date = date(2022, 5, 1)\n",
    "# end_date = date(2022, 5, 31)"
   ]
  },
  {
   "cell_type": "code",
   "execution_count": 88,
   "id": "21233390-fe7d-4ad0-a1c3-8a83842ba76b",
   "metadata": {},
   "outputs": [],
   "source": [
    "# daterange = pd.date_range(start_date, end_date)"
   ]
  },
  {
   "cell_type": "code",
   "execution_count": 89,
   "id": "4be86bb8-6358-4c3d-931f-c152e273fdea",
   "metadata": {},
   "outputs": [],
   "source": [
    "# (daterange)"
   ]
  },
  {
   "cell_type": "code",
   "execution_count": 90,
   "id": "c18f0394-f921-4c48-b72c-9e6921044c85",
   "metadata": {},
   "outputs": [],
   "source": [
    "#above range does not work with function"
   ]
  },
  {
   "cell_type": "code",
   "execution_count": 91,
   "id": "98d3938f-b6ca-49f0-9837-77e84494e35f",
   "metadata": {},
   "outputs": [],
   "source": [
    "# dates = set()\n",
    "\n",
    "# def daterange2(start, end):\n",
    "#     for n in range(int((end - start).days) + 1):\n",
    "#         yield start + timedelta(n)\n",
    "\n",
    "# for single_date in daterange2(start_date, end_date):\n",
    "#     dates.add(single_date.strftime('%Y-%m-%d'))"
   ]
  },
  {
   "cell_type": "code",
   "execution_count": 92,
   "id": "dc1ce07d-9fe2-42be-b901-2ebf890dc4e1",
   "metadata": {},
   "outputs": [],
   "source": [
    "# (dates)"
   ]
  },
  {
   "cell_type": "code",
   "execution_count": 93,
   "id": "7d98af47-4bdb-4795-8392-abcff4317c12",
   "metadata": {},
   "outputs": [],
   "source": [
    "# rt['date'] = pd.to_datetime(rt['date'])"
   ]
  },
  {
   "cell_type": "code",
   "execution_count": 94,
   "id": "bb078d85-26ab-43f8-88ad-5488bd150f96",
   "metadata": {},
   "outputs": [],
   "source": [
    "# gtfs_daily['service_date'] = pd.to_datetime(gtfs_daily['service_date'])"
   ]
  },
  {
   "cell_type": "code",
   "execution_count": 95,
   "id": "3a2e9997-b34a-4141-a42b-02465ba62517",
   "metadata": {
    "tags": []
   },
   "outputs": [],
   "source": [
    "# single_date2 = '2022-05-08'\n",
    "\n",
    "# (rt>>filter(_.date == single_date2))\n"
   ]
  },
  {
   "cell_type": "code",
   "execution_count": 96,
   "id": "8258bfbc-44a4-41f3-ad2b-81d136a31047",
   "metadata": {},
   "outputs": [],
   "source": [
    "# def get_pct_ran_df2(itp_id, list_of_dates):\n",
    "#     pcts = []\n",
    "#     for single_date in list_of_dates:\n",
    "#         gtfs_daily2 = (gtfs_daily>>filter(_.service_date == single_date))\n",
    "#         rt2 = (rt>>filter(_.date == single_date))\n",
    "#         sched_rt_df = (pd.merge(gtfs_daily2, rt2, how='outer', on='trip_id', indicator='have_rt'))\n",
    "#         #pct_ran = (utils.get_pct_ran(sched_rt_df, single_date))\n",
    "#         day_pct_ran = {}\n",
    "#         day_pct_ran['date'] = single_date\n",
    "#         if ((len(sched_rt_df))!=0):\n",
    "#             day_pct_ran['pct_trips_ran'] = ((len(sched_rt_df>>filter(_.have_rt=='both')))/(len(gtfs_daily2)))\n",
    "#         elif ((len(sched_rt_df))==0):\n",
    "#             day_pct_ran['pct_trips_ran'] = ''\n",
    "#         pct_ran = pd.DataFrame([day_pct_ran])\n",
    "#         pct_ran['n_have_rt'] = (len(sched_rt_df>>filter(_.have_rt=='both')))\n",
    "#         pct_ran['n_missing_rt'] = (len(sched_rt_df>>filter(_.have_rt=='right_only')))\n",
    "#         pct_ran['unmatched_rt'] = (len(sched_rt_df>>filter(_.have_rt=='left_only')))\n",
    "#         pct_ran['nunique_sched'] = (gtfs_daily2.trip_id.nunique())\n",
    "#         pct_ran['nunique_rt'] = (rt2.trip_id.nunique())\n",
    "\n",
    "#         pcts.append(pct_ran)                                                    \n",
    "#         #code help from: https://stackoverflow.com/questions/28669482/appending-pandas-dataframes-generated-in-a-for-loop\n",
    "#     pcts = pd.concat(pcts)\n",
    "#     pcts = pcts>>arrange(_.date)\n",
    "#     return pd.DataFrame(pcts)\n"
   ]
  },
  {
   "cell_type": "code",
   "execution_count": 97,
   "id": "309bd855-a6d3-49ec-916d-1910ce0b9742",
   "metadata": {},
   "outputs": [],
   "source": [
    "# may = utils.get_pct_ran_df(itp_id, dates, gtfs_daily, rt)"
   ]
  },
  {
   "cell_type": "code",
   "execution_count": 98,
   "id": "3ff896de-469f-4405-9f3c-7dda2c3fd84f",
   "metadata": {},
   "outputs": [],
   "source": [
    "# may"
   ]
  },
  {
   "cell_type": "code",
   "execution_count": null,
   "id": "336f30f9-f96c-4595-b436-23208cfd8700",
   "metadata": {},
   "outputs": [],
   "source": []
  },
  {
   "cell_type": "code",
   "execution_count": null,
   "id": "8605ec19-c1d5-4d7b-8d89-379b24bbb61f",
   "metadata": {},
   "outputs": [],
   "source": []
  },
  {
   "cell_type": "code",
   "execution_count": null,
   "id": "75a613f9-2c0f-4d66-9321-b0548d32d808",
   "metadata": {},
   "outputs": [],
   "source": []
  },
  {
   "cell_type": "code",
   "execution_count": null,
   "id": "a83cc4b3-786f-4287-a05d-8b8c349a61ee",
   "metadata": {},
   "outputs": [],
   "source": []
  }
 ],
 "metadata": {
  "kernelspec": {
   "display_name": "Python 3 (ipykernel)",
   "language": "python",
   "name": "python3"
  },
  "language_info": {
   "codemirror_mode": {
    "name": "ipython",
    "version": 3
   },
   "file_extension": ".py",
   "mimetype": "text/x-python",
   "name": "python",
   "nbconvert_exporter": "python",
   "pygments_lexer": "ipython3",
   "version": "3.10.5"
  },
  "widgets": {
   "application/vnd.jupyter.widget-state+json": {
    "state": {},
    "version_major": 2,
    "version_minor": 0
   }
  }
 },
 "nbformat": 4,
 "nbformat_minor": 5
}
