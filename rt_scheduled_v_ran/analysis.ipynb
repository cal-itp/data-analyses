{
 "cells": [
  {
   "cell_type": "code",
   "execution_count": 52,
   "id": "042682ec-daa9-4447-9e3c-61fbe501b975",
   "metadata": {},
   "outputs": [],
   "source": [
    "import os\n",
    "os.environ[\"CALITP_BQ_MAX_BYTES\"] = str(800_000_000_000) ## 800GB?\n",
    "\n",
    "from calitp.tables import tbl\n",
    "from calitp import query_sql, magics\n",
    "import calitp.magics\n",
    "import branca\n",
    "\n",
    "import shared_utils\n",
    "\n",
    "from siuba import *\n",
    "import pandas as pd\n",
    "\n",
    "import datetime as dt\n",
    "import time\n",
    "from zoneinfo import ZoneInfo\n",
    "\n",
    "import importlib\n",
    "\n",
    "import gcsfs\n",
    "fs = gcsfs.GCSFileSystem()\n",
    "\n",
    "from tqdm import tqdm_notebook\n",
    "from tqdm.notebook import trange, tqdm\n",
    "\n",
    "from IPython.display import display, Markdown\n"
   ]
  },
  {
   "cell_type": "code",
   "execution_count": 53,
   "id": "6ecab81c-8d62-488a-9b61-47a496879d0b",
   "metadata": {},
   "outputs": [],
   "source": [
    "import utils"
   ]
  },
  {
   "cell_type": "code",
   "execution_count": 54,
   "id": "497cf8a6-3bed-4aba-a0f8-d78a8a669a7d",
   "metadata": {},
   "outputs": [],
   "source": [
    "itp_id = 300"
   ]
  },
  {
   "cell_type": "code",
   "execution_count": 55,
   "id": "14d08b96-f8d8-4926-bdb9-217c0bdbb0ab",
   "metadata": {},
   "outputs": [],
   "source": [
    "pd.set_option(\"display.max_columns\", 100)\n"
   ]
  },
  {
   "cell_type": "code",
   "execution_count": 56,
   "id": "dccf1a06-2f05-442d-921c-8214b3a9f04c",
   "metadata": {},
   "outputs": [],
   "source": [
    "analysis_date_start = '2022-05-01'\n",
    "analysis_date_end = '2022-05-31'"
   ]
  },
  {
   "cell_type": "code",
   "execution_count": 57,
   "id": "a977df1d-6cf2-4e18-990b-ad9482c6585b",
   "metadata": {},
   "outputs": [
    {
     "name": "stderr",
     "output_type": "stream",
     "text": [
      "/opt/conda/lib/python3.10/site-packages/google/auth/_default.py:79: UserWarning: Your application has authenticated using end user credentials from Google Cloud SDK without a quota project. You might receive a \"quota exceeded\" or \"API not enabled\" error. We recommend you rerun `gcloud auth application-default login` and make sure a quota project is added. Or you can use service accounts instead. For more information about service accounts, see https://cloud.google.com/docs/authentication/\n"
     ]
    }
   ],
   "source": [
    "rt_sched = query_sql(\n",
    "    \"\"\"\n",
    "SELECT *\n",
    "FROM `cal-itp-data-infra-staging.natalie_views.gtfs_rt_vs_sched_ran`\n",
    "\"\"\"\n",
    ")"
   ]
  },
  {
   "cell_type": "code",
   "execution_count": 58,
   "id": "8d1d1447-ea23-483b-80c3-292dac3126ff",
   "metadata": {},
   "outputs": [
    {
     "data": {
      "text/html": [
       "<div>\n",
       "<style scoped>\n",
       "    .dataframe tbody tr th:only-of-type {\n",
       "        vertical-align: middle;\n",
       "    }\n",
       "\n",
       "    .dataframe tbody tr th {\n",
       "        vertical-align: top;\n",
       "    }\n",
       "\n",
       "    .dataframe thead th {\n",
       "        text-align: right;\n",
       "    }\n",
       "</style>\n",
       "<table border=\"1\" class=\"dataframe\">\n",
       "  <thead>\n",
       "    <tr style=\"text-align: right;\">\n",
       "      <th></th>\n",
       "      <th>calitp_itp_id</th>\n",
       "      <th>calitp_url_number</th>\n",
       "      <th>service_date</th>\n",
       "      <th>num_sched</th>\n",
       "      <th>num_rt</th>\n",
       "      <th>pct_ran</th>\n",
       "    </tr>\n",
       "  </thead>\n",
       "  <tbody>\n",
       "    <tr>\n",
       "      <th>0</th>\n",
       "      <td>300</td>\n",
       "      <td>0</td>\n",
       "      <td>2022-06-12</td>\n",
       "      <td>770</td>\n",
       "      <td>533</td>\n",
       "      <td>0.69</td>\n",
       "    </tr>\n",
       "    <tr>\n",
       "      <th>1</th>\n",
       "      <td>300</td>\n",
       "      <td>0</td>\n",
       "      <td>2022-05-22</td>\n",
       "      <td>770</td>\n",
       "      <td>543</td>\n",
       "      <td>0.71</td>\n",
       "    </tr>\n",
       "    <tr>\n",
       "      <th>2</th>\n",
       "      <td>300</td>\n",
       "      <td>0</td>\n",
       "      <td>2022-05-15</td>\n",
       "      <td>771</td>\n",
       "      <td>527</td>\n",
       "      <td>0.68</td>\n",
       "    </tr>\n",
       "    <tr>\n",
       "      <th>3</th>\n",
       "      <td>300</td>\n",
       "      <td>0</td>\n",
       "      <td>2022-05-01</td>\n",
       "      <td>771</td>\n",
       "      <td>527</td>\n",
       "      <td>0.68</td>\n",
       "    </tr>\n",
       "    <tr>\n",
       "      <th>4</th>\n",
       "      <td>300</td>\n",
       "      <td>0</td>\n",
       "      <td>2022-06-26</td>\n",
       "      <td>772</td>\n",
       "      <td>500</td>\n",
       "      <td>0.65</td>\n",
       "    </tr>\n",
       "  </tbody>\n",
       "</table>\n",
       "</div>"
      ],
      "text/plain": [
       "   calitp_itp_id  calitp_url_number service_date  num_sched  num_rt  pct_ran\n",
       "0            300                  0   2022-06-12        770     533     0.69\n",
       "1            300                  0   2022-05-22        770     543     0.71\n",
       "2            300                  0   2022-05-15        771     527     0.68\n",
       "3            300                  0   2022-05-01        771     527     0.68\n",
       "4            300                  0   2022-06-26        772     500     0.65"
      ]
     },
     "execution_count": 58,
     "metadata": {},
     "output_type": "execute_result"
    }
   ],
   "source": [
    "rt_sched.head()"
   ]
  },
  {
   "cell_type": "code",
   "execution_count": 59,
   "id": "8ad0ad6e-37b2-4f2d-a5fb-4c491ad785f3",
   "metadata": {},
   "outputs": [
    {
     "name": "stdout",
     "output_type": "stream",
     "text": [
      "<class 'pandas.core.frame.DataFrame'>\n",
      "RangeIndex: 61 entries, 0 to 60\n",
      "Data columns (total 6 columns):\n",
      " #   Column             Non-Null Count  Dtype  \n",
      "---  ------             --------------  -----  \n",
      " 0   calitp_itp_id      61 non-null     int64  \n",
      " 1   calitp_url_number  61 non-null     int64  \n",
      " 2   service_date       61 non-null     object \n",
      " 3   num_sched          61 non-null     int64  \n",
      " 4   num_rt             61 non-null     int64  \n",
      " 5   pct_ran            61 non-null     float64\n",
      "dtypes: float64(1), int64(4), object(1)\n",
      "memory usage: 3.0+ KB\n"
     ]
    }
   ],
   "source": [
    "rt_sched.info()"
   ]
  },
  {
   "cell_type": "code",
   "execution_count": 60,
   "id": "5f90a83d-d6a4-4459-81b7-0f9f3f76cead",
   "metadata": {},
   "outputs": [],
   "source": [
    "rt_sched['service_date'] = pd.to_datetime(rt_sched['service_date'])"
   ]
  },
  {
   "cell_type": "code",
   "execution_count": 61,
   "id": "35cb9585-8efd-4c3a-80bc-cb78fe311d5b",
   "metadata": {},
   "outputs": [],
   "source": [
    "rt_sched['weekday'] = pd.Series(rt_sched.service_date).dt.day_name()"
   ]
  },
  {
   "cell_type": "code",
   "execution_count": null,
   "id": "a562239d-fe30-4d3d-a1d8-21cf049e0fab",
   "metadata": {},
   "outputs": [],
   "source": []
  },
  {
   "cell_type": "markdown",
   "id": "b38b28cd-9bfb-45f1-a8f2-b3317313d757",
   "metadata": {
    "jp-MarkdownHeadingCollapsed": true,
    "tags": []
   },
   "source": [
    "## Using Functions (without DBT tables)"
   ]
  },
  {
   "cell_type": "code",
   "execution_count": 11,
   "id": "c67080cc-dd12-4eb0-a287-b6cbdb65e4de",
   "metadata": {},
   "outputs": [],
   "source": [
    "#gtfs_daily = utils.load_schedule_data(analysis_date_start, analysis_date_end, itp_id)"
   ]
  },
  {
   "cell_type": "code",
   "execution_count": 12,
   "id": "2e2ad32c-6cfe-470e-9b36-c91730f922f4",
   "metadata": {},
   "outputs": [],
   "source": [
    "#gtfs_daily"
   ]
  },
  {
   "cell_type": "code",
   "execution_count": 13,
   "id": "ac0202ad-07eb-4379-9a07-7ca487f16579",
   "metadata": {},
   "outputs": [],
   "source": [
    "#gtfs_daily.service_date.min()"
   ]
  },
  {
   "cell_type": "code",
   "execution_count": 14,
   "id": "c17aa074-b430-4eb9-b7d4-6a4d65f3ec1c",
   "metadata": {},
   "outputs": [],
   "source": [
    "#gtfs_daily.service_date.max()"
   ]
  },
  {
   "cell_type": "code",
   "execution_count": null,
   "id": "1223a731-b36f-402e-8f9f-c989d4c5dcf6",
   "metadata": {},
   "outputs": [],
   "source": []
  },
  {
   "cell_type": "code",
   "execution_count": 15,
   "id": "64fc18fb-7976-4971-b796-2f6f0b147f25",
   "metadata": {},
   "outputs": [],
   "source": [
    "#rt = utils.load_rt_data(analysis_date_start, analysis_date_end)"
   ]
  },
  {
   "cell_type": "code",
   "execution_count": 16,
   "id": "7e8d0d7c-95ac-494a-86d6-ab404313df47",
   "metadata": {},
   "outputs": [],
   "source": [
    "#rt"
   ]
  },
  {
   "cell_type": "code",
   "execution_count": 17,
   "id": "c430e24d-f66a-4f90-8398-6395fcfa4b83",
   "metadata": {},
   "outputs": [],
   "source": [
    "#rt['str_len'] = rt.trip_id.str.len()"
   ]
  },
  {
   "cell_type": "code",
   "execution_count": 18,
   "id": "e5a5eee7-9037-43b6-8986-7cd414906de7",
   "metadata": {},
   "outputs": [],
   "source": [
    "#rt.str_len.value_counts()"
   ]
  },
  {
   "cell_type": "code",
   "execution_count": 19,
   "id": "f5a87ac5-67f3-4e81-a5cf-b6eac0ee8047",
   "metadata": {},
   "outputs": [],
   "source": [
    "#len(rt)"
   ]
  },
  {
   "cell_type": "code",
   "execution_count": 20,
   "id": "881af387-1f3a-441a-97ab-d87e06169d15",
   "metadata": {},
   "outputs": [],
   "source": [
    "#rt.trip_id.nunique()"
   ]
  },
  {
   "cell_type": "code",
   "execution_count": 21,
   "id": "aee38e30-3c3f-4698-b7db-115b6a734608",
   "metadata": {},
   "outputs": [],
   "source": [
    "#len(gtfs_daily)"
   ]
  },
  {
   "cell_type": "code",
   "execution_count": 22,
   "id": "564c3cc2-6210-43ef-8bc0-22d13e14e961",
   "metadata": {},
   "outputs": [],
   "source": [
    "#gtfs_daily.trip_id.nunique()"
   ]
  },
  {
   "cell_type": "code",
   "execution_count": null,
   "id": "bf65c0e3-4511-45bb-bed1-ca8e3fa28003",
   "metadata": {},
   "outputs": [],
   "source": []
  },
  {
   "cell_type": "code",
   "execution_count": 23,
   "id": "259c2b27-411d-4301-8311-0e4cc321f3bc",
   "metadata": {},
   "outputs": [],
   "source": [
    "#date_list =['2022-05-01','2022-05-02', '2022-05-31']"
   ]
  },
  {
   "cell_type": "code",
   "execution_count": 24,
   "id": "d9b495dd-7d70-40ba-8d9a-ef334667427c",
   "metadata": {},
   "outputs": [],
   "source": [
    "\n",
    "# from datetime import date, timedelta\n",
    "# start_date = date(2022, 5, 1)\n",
    "# end_date = date(2022, 5, 31)"
   ]
  },
  {
   "cell_type": "code",
   "execution_count": 25,
   "id": "21233390-fe7d-4ad0-a1c3-8a83842ba76b",
   "metadata": {},
   "outputs": [],
   "source": [
    "# daterange = pd.date_range(start_date, end_date)"
   ]
  },
  {
   "cell_type": "code",
   "execution_count": 26,
   "id": "4be86bb8-6358-4c3d-931f-c152e273fdea",
   "metadata": {},
   "outputs": [],
   "source": [
    "# (daterange)"
   ]
  },
  {
   "cell_type": "code",
   "execution_count": 27,
   "id": "c18f0394-f921-4c48-b72c-9e6921044c85",
   "metadata": {},
   "outputs": [],
   "source": [
    "#above range does not work with function"
   ]
  },
  {
   "cell_type": "code",
   "execution_count": 28,
   "id": "98d3938f-b6ca-49f0-9837-77e84494e35f",
   "metadata": {},
   "outputs": [],
   "source": [
    "# dates = set()\n",
    "\n",
    "# def daterange2(start, end):\n",
    "#     for n in range(int((end - start).days) + 1):\n",
    "#         yield start + timedelta(n)\n",
    "\n",
    "# for single_date in daterange2(start_date, end_date):\n",
    "#     dates.add(single_date.strftime('%Y-%m-%d'))"
   ]
  },
  {
   "cell_type": "code",
   "execution_count": 29,
   "id": "dc1ce07d-9fe2-42be-b901-2ebf890dc4e1",
   "metadata": {},
   "outputs": [],
   "source": [
    "# (dates)"
   ]
  },
  {
   "cell_type": "code",
   "execution_count": 30,
   "id": "7d98af47-4bdb-4795-8392-abcff4317c12",
   "metadata": {},
   "outputs": [],
   "source": [
    "# rt['date'] = pd.to_datetime(rt['date'])"
   ]
  },
  {
   "cell_type": "code",
   "execution_count": 31,
   "id": "bb078d85-26ab-43f8-88ad-5488bd150f96",
   "metadata": {},
   "outputs": [],
   "source": [
    "# gtfs_daily['service_date'] = pd.to_datetime(gtfs_daily['service_date'])"
   ]
  },
  {
   "cell_type": "code",
   "execution_count": 32,
   "id": "3a2e9997-b34a-4141-a42b-02465ba62517",
   "metadata": {
    "tags": []
   },
   "outputs": [],
   "source": [
    "# single_date2 = '2022-05-08'\n",
    "\n",
    "# (rt>>filter(_.date == single_date2))\n"
   ]
  },
  {
   "cell_type": "code",
   "execution_count": 33,
   "id": "8258bfbc-44a4-41f3-ad2b-81d136a31047",
   "metadata": {},
   "outputs": [],
   "source": [
    "# def get_pct_ran_df2(itp_id, list_of_dates):\n",
    "#     pcts = []\n",
    "#     for single_date in list_of_dates:\n",
    "#         gtfs_daily2 = (gtfs_daily>>filter(_.service_date == single_date))\n",
    "#         rt2 = (rt>>filter(_.date == single_date))\n",
    "#         sched_rt_df = (pd.merge(gtfs_daily2, rt2, how='outer', on='trip_id', indicator='have_rt'))\n",
    "#         #pct_ran = (utils.get_pct_ran(sched_rt_df, single_date))\n",
    "#         day_pct_ran = {}\n",
    "#         day_pct_ran['date'] = single_date\n",
    "#         if ((len(sched_rt_df))!=0):\n",
    "#             day_pct_ran['pct_trips_ran'] = ((len(sched_rt_df>>filter(_.have_rt=='both')))/(len(gtfs_daily2)))\n",
    "#         elif ((len(sched_rt_df))==0):\n",
    "#             day_pct_ran['pct_trips_ran'] = ''\n",
    "#         pct_ran = pd.DataFrame([day_pct_ran])\n",
    "#         pct_ran['n_have_rt'] = (len(sched_rt_df>>filter(_.have_rt=='both')))\n",
    "#         pct_ran['n_missing_rt'] = (len(sched_rt_df>>filter(_.have_rt=='right_only')))\n",
    "#         pct_ran['unmatched_rt'] = (len(sched_rt_df>>filter(_.have_rt=='left_only')))\n",
    "#         pct_ran['nunique_sched'] = (gtfs_daily2.trip_id.nunique())\n",
    "#         pct_ran['nunique_rt'] = (rt2.trip_id.nunique())\n",
    "\n",
    "#         pcts.append(pct_ran)                                                    \n",
    "#         #code help from: https://stackoverflow.com/questions/28669482/appending-pandas-dataframes-generated-in-a-for-loop\n",
    "#     pcts = pd.concat(pcts)\n",
    "#     pcts = pcts>>arrange(_.date)\n",
    "#     return pd.DataFrame(pcts)\n"
   ]
  },
  {
   "cell_type": "code",
   "execution_count": 34,
   "id": "309bd855-a6d3-49ec-916d-1910ce0b9742",
   "metadata": {},
   "outputs": [],
   "source": [
    "# may = utils.get_pct_ran_df(itp_id, dates, gtfs_daily, rt)"
   ]
  },
  {
   "cell_type": "code",
   "execution_count": 35,
   "id": "3ff896de-469f-4405-9f3c-7dda2c3fd84f",
   "metadata": {},
   "outputs": [],
   "source": [
    "# may"
   ]
  },
  {
   "cell_type": "markdown",
   "id": "e34ab75b-5101-44e4-a21f-853e832bc6f9",
   "metadata": {},
   "source": [
    "## Charting"
   ]
  },
  {
   "cell_type": "code",
   "execution_count": 62,
   "id": "ad8461ca-ccf1-4895-b13e-4f675a5792bd",
   "metadata": {},
   "outputs": [],
   "source": [
    "import altair as alt\n",
    "from dla_utils import _dla_utils\n",
    "\n",
    "from shared_utils import altair_utils\n",
    "from shared_utils import geography_utils\n",
    "from shared_utils import calitp_color_palette as cp\n",
    "from shared_utils import styleguide"
   ]
  },
  {
   "cell_type": "code",
   "execution_count": 63,
   "id": "e1b903f9-eb88-4657-8794-54ce593912dd",
   "metadata": {},
   "outputs": [
    {
     "data": {
      "text/html": [
       "<div>\n",
       "<style scoped>\n",
       "    .dataframe tbody tr th:only-of-type {\n",
       "        vertical-align: middle;\n",
       "    }\n",
       "\n",
       "    .dataframe tbody tr th {\n",
       "        vertical-align: top;\n",
       "    }\n",
       "\n",
       "    .dataframe thead th {\n",
       "        text-align: right;\n",
       "    }\n",
       "</style>\n",
       "<table border=\"1\" class=\"dataframe\">\n",
       "  <thead>\n",
       "    <tr style=\"text-align: right;\">\n",
       "      <th></th>\n",
       "      <th>calitp_itp_id</th>\n",
       "      <th>calitp_url_number</th>\n",
       "      <th>service_date</th>\n",
       "      <th>num_sched</th>\n",
       "      <th>num_rt</th>\n",
       "      <th>pct_ran</th>\n",
       "      <th>weekday</th>\n",
       "    </tr>\n",
       "  </thead>\n",
       "  <tbody>\n",
       "    <tr>\n",
       "      <th>49</th>\n",
       "      <td>300</td>\n",
       "      <td>0</td>\n",
       "      <td>2022-06-27</td>\n",
       "      <td>1465</td>\n",
       "      <td>1017</td>\n",
       "      <td>0.69</td>\n",
       "      <td>Monday</td>\n",
       "    </tr>\n",
       "  </tbody>\n",
       "</table>\n",
       "</div>"
      ],
      "text/plain": [
       "    calitp_itp_id  calitp_url_number service_date  num_sched  num_rt  pct_ran  \\\n",
       "49            300                  0   2022-06-27       1465    1017     0.69   \n",
       "\n",
       "   weekday  \n",
       "49  Monday  "
      ]
     },
     "execution_count": 63,
     "metadata": {},
     "output_type": "execute_result"
    }
   ],
   "source": [
    "rt_sched.sample()"
   ]
  },
  {
   "cell_type": "code",
   "execution_count": 100,
   "id": "67371878-b387-4f4f-a91c-5e6f325a85f6",
   "metadata": {},
   "outputs": [
    {
     "data": {
      "text/html": [
       "\n",
       "<div id=\"altair-viz-ae0389c2feff43918bbf553faf02cf62\"></div>\n",
       "<script type=\"text/javascript\">\n",
       "  var VEGA_DEBUG = (typeof VEGA_DEBUG == \"undefined\") ? {} : VEGA_DEBUG;\n",
       "  (function(spec, embedOpt){\n",
       "    let outputDiv = document.currentScript.previousElementSibling;\n",
       "    if (outputDiv.id !== \"altair-viz-ae0389c2feff43918bbf553faf02cf62\") {\n",
       "      outputDiv = document.getElementById(\"altair-viz-ae0389c2feff43918bbf553faf02cf62\");\n",
       "    }\n",
       "    const paths = {\n",
       "      \"vega\": \"https://cdn.jsdelivr.net/npm//vega@5?noext\",\n",
       "      \"vega-lib\": \"https://cdn.jsdelivr.net/npm//vega-lib?noext\",\n",
       "      \"vega-lite\": \"https://cdn.jsdelivr.net/npm//vega-lite@4.17.0?noext\",\n",
       "      \"vega-embed\": \"https://cdn.jsdelivr.net/npm//vega-embed@6?noext\",\n",
       "    };\n",
       "\n",
       "    function maybeLoadScript(lib, version) {\n",
       "      var key = `${lib.replace(\"-\", \"\")}_version`;\n",
       "      return (VEGA_DEBUG[key] == version) ?\n",
       "        Promise.resolve(paths[lib]) :\n",
       "        new Promise(function(resolve, reject) {\n",
       "          var s = document.createElement('script');\n",
       "          document.getElementsByTagName(\"head\")[0].appendChild(s);\n",
       "          s.async = true;\n",
       "          s.onload = () => {\n",
       "            VEGA_DEBUG[key] = version;\n",
       "            return resolve(paths[lib]);\n",
       "          };\n",
       "          s.onerror = () => reject(`Error loading script: ${paths[lib]}`);\n",
       "          s.src = paths[lib];\n",
       "        });\n",
       "    }\n",
       "\n",
       "    function showError(err) {\n",
       "      outputDiv.innerHTML = `<div class=\"error\" style=\"color:red;\">${err}</div>`;\n",
       "      throw err;\n",
       "    }\n",
       "\n",
       "    function displayChart(vegaEmbed) {\n",
       "      vegaEmbed(outputDiv, spec, embedOpt)\n",
       "        .catch(err => showError(`Javascript Error: ${err.message}<br>This usually means there's a typo in your chart specification. See the javascript console for the full traceback.`));\n",
       "    }\n",
       "\n",
       "    if(typeof define === \"function\" && define.amd) {\n",
       "      requirejs.config({paths});\n",
       "      require([\"vega-embed\"], displayChart, err => showError(`Error loading script: ${err.message}`));\n",
       "    } else {\n",
       "      maybeLoadScript(\"vega\", \"5\")\n",
       "        .then(() => maybeLoadScript(\"vega-lite\", \"4.17.0\"))\n",
       "        .then(() => maybeLoadScript(\"vega-embed\", \"6\"))\n",
       "        .catch(showError)\n",
       "        .then(() => displayChart(vegaEmbed));\n",
       "    }\n",
       "  })({\"config\": {\"view\": {\"continuousWidth\": 400, \"continuousHeight\": 300}, \"axis\": {\"domainColor\": \"#cbcbcb\", \"grid\": true, \"gridColor\": \"#cbcbcb\", \"gridWidth\": 1, \"labelColor\": \"#474747\", \"labelFont\": \"Nunito Sans\", \"labelFontSize\": 10, \"labelPadding\": 4, \"tickColor\": \"#cbcbcb\", \"tickSize\": 10, \"titleColor\": \"#333\", \"titleFont\": \"Raleway\", \"titleFontSize\": 12, \"titlePadding\": 10}, \"axisBand\": {\"grid\": false}, \"background\": \"white\", \"font\": \"Raleway\", \"header\": {\"labelFont\": \"Nunito Sans\", \"titleFont\": \"Raleway\"}, \"legend\": {\"labelColor\": \"#333\", \"labelFont\": \"Nunito Sans\", \"labelFontSize\": 11, \"labelLimit\": 0, \"padding\": 1, \"symbolSize\": 30, \"symbolType\": \"square\", \"titleColor\": \"#333\", \"titleFont\": \"Raleway\", \"titleFontSize\": 14, \"titlePadding\": 10}, \"title\": {\"anchor\": \"middle\", \"font\": \"Raleway\", \"fontSize\": 18, \"fontWeight\": 300, \"offset\": 20}}, \"data\": {\"name\": \"data-dfc83a2ef4ac9acb39af6330a9e6175b\"}, \"mark\": {\"type\": \"bar\", \"size\": 8}, \"encoding\": {\"color\": {\"field\": \"pct_ran\", \"legend\": {\"symbolLimit\": 10, \"title\": \"Pct Ran\"}, \"scale\": {\"range\": [\"#B9D6DF\", \"#8CBCCB\", \"#2EA8CE\", \"#136C97\", \"#0B405B\"]}, \"type\": \"quantitative\"}, \"x\": {\"field\": \"service_date\", \"sort\": \"x\", \"title\": \"Service Date\", \"type\": \"temporal\"}, \"y\": {\"field\": \"pct_ran\", \"title\": \"Pct Ran\", \"type\": \"quantitative\"}}, \"height\": 250, \"title\": \"\\\"Percent of Scheduled Trips with RT Data\\\"\", \"width\": 600, \"$schema\": \"https://vega.github.io/schema/vega-lite/v4.17.0.json\", \"datasets\": {\"data-dfc83a2ef4ac9acb39af6330a9e6175b\": [{\"calitp_itp_id\": 300, \"calitp_url_number\": 0, \"service_date\": \"2022-06-12T00:00:00\", \"num_sched\": 770, \"num_rt\": 533, \"pct_ran\": 0.6922077922077922, \"weekday\": \"Sunday\"}, {\"calitp_itp_id\": 300, \"calitp_url_number\": 0, \"service_date\": \"2022-05-22T00:00:00\", \"num_sched\": 770, \"num_rt\": 543, \"pct_ran\": 0.7051948051948052, \"weekday\": \"Sunday\"}, {\"calitp_itp_id\": 300, \"calitp_url_number\": 0, \"service_date\": \"2022-05-15T00:00:00\", \"num_sched\": 771, \"num_rt\": 527, \"pct_ran\": 0.6835278858625162, \"weekday\": \"Sunday\"}, {\"calitp_itp_id\": 300, \"calitp_url_number\": 0, \"service_date\": \"2022-05-01T00:00:00\", \"num_sched\": 771, \"num_rt\": 527, \"pct_ran\": 0.6835278858625162, \"weekday\": \"Sunday\"}, {\"calitp_itp_id\": 300, \"calitp_url_number\": 0, \"service_date\": \"2022-06-26T00:00:00\", \"num_sched\": 772, \"num_rt\": 500, \"pct_ran\": 0.6476683937823834, \"weekday\": \"Sunday\"}, {\"calitp_itp_id\": 300, \"calitp_url_number\": 0, \"service_date\": \"2022-06-05T00:00:00\", \"num_sched\": 773, \"num_rt\": 557, \"pct_ran\": 0.720569210866753, \"weekday\": \"Sunday\"}, {\"calitp_itp_id\": 300, \"calitp_url_number\": 0, \"service_date\": \"2022-05-29T00:00:00\", \"num_sched\": 773, \"num_rt\": 559, \"pct_ran\": 0.723156532988357, \"weekday\": \"Sunday\"}, {\"calitp_itp_id\": 300, \"calitp_url_number\": 0, \"service_date\": \"2022-05-08T00:00:00\", \"num_sched\": 773, \"num_rt\": 504, \"pct_ran\": 0.6520051746442432, \"weekday\": \"Sunday\"}, {\"calitp_itp_id\": 300, \"calitp_url_number\": 0, \"service_date\": \"2022-06-19T00:00:00\", \"num_sched\": 774, \"num_rt\": 528, \"pct_ran\": 0.6821705426356589, \"weekday\": \"Sunday\"}, {\"calitp_itp_id\": 300, \"calitp_url_number\": 0, \"service_date\": \"2022-06-29T00:00:00\", \"num_sched\": 1548, \"num_rt\": 1454, \"pct_ran\": 0.9392764857881137, \"weekday\": \"Wednesday\"}, {\"calitp_itp_id\": 300, \"calitp_url_number\": 0, \"service_date\": \"2022-06-10T00:00:00\", \"num_sched\": 1552, \"num_rt\": 1382, \"pct_ran\": 0.8904639175257731, \"weekday\": \"Friday\"}, {\"calitp_itp_id\": 300, \"calitp_url_number\": 0, \"service_date\": \"2022-06-24T00:00:00\", \"num_sched\": 1556, \"num_rt\": 1415, \"pct_ran\": 0.9093830334190232, \"weekday\": \"Friday\"}, {\"calitp_itp_id\": 300, \"calitp_url_number\": 0, \"service_date\": \"2022-06-23T00:00:00\", \"num_sched\": 1558, \"num_rt\": 1481, \"pct_ran\": 0.9505776636713735, \"weekday\": \"Thursday\"}, {\"calitp_itp_id\": 300, \"calitp_url_number\": 0, \"service_date\": \"2022-06-28T00:00:00\", \"num_sched\": 1559, \"num_rt\": 1457, \"pct_ran\": 0.9345734445157152, \"weekday\": \"Tuesday\"}, {\"calitp_itp_id\": 300, \"calitp_url_number\": 0, \"service_date\": \"2022-05-13T00:00:00\", \"num_sched\": 1560, \"num_rt\": 1439, \"pct_ran\": 0.9224358974358975, \"weekday\": \"Friday\"}, {\"calitp_itp_id\": 300, \"calitp_url_number\": 0, \"service_date\": \"2022-05-06T00:00:00\", \"num_sched\": 1561, \"num_rt\": 1392, \"pct_ran\": 0.891736066623959, \"weekday\": \"Friday\"}, {\"calitp_itp_id\": 300, \"calitp_url_number\": 0, \"service_date\": \"2022-05-27T00:00:00\", \"num_sched\": 1563, \"num_rt\": 1417, \"pct_ran\": 0.9065898912348048, \"weekday\": \"Friday\"}, {\"calitp_itp_id\": 300, \"calitp_url_number\": 0, \"service_date\": \"2022-05-20T00:00:00\", \"num_sched\": 1564, \"num_rt\": 1466, \"pct_ran\": 0.9373401534526854, \"weekday\": \"Friday\"}, {\"calitp_itp_id\": 300, \"calitp_url_number\": 0, \"service_date\": \"2022-06-21T00:00:00\", \"num_sched\": 1564, \"num_rt\": 1484, \"pct_ran\": 0.948849104859335, \"weekday\": \"Tuesday\"}, {\"calitp_itp_id\": 300, \"calitp_url_number\": 0, \"service_date\": \"2022-06-30T00:00:00\", \"num_sched\": 1568, \"num_rt\": 1481, \"pct_ran\": 0.9445153061224489, \"weekday\": \"Thursday\"}, {\"calitp_itp_id\": 300, \"calitp_url_number\": 0, \"service_date\": \"2022-06-22T00:00:00\", \"num_sched\": 1572, \"num_rt\": 1487, \"pct_ran\": 0.9459287531806616, \"weekday\": \"Wednesday\"}, {\"calitp_itp_id\": 300, \"calitp_url_number\": 0, \"service_date\": \"2022-05-30T00:00:00\", \"num_sched\": 829, \"num_rt\": 800, \"pct_ran\": 0.9650180940892642, \"weekday\": \"Monday\"}, {\"calitp_itp_id\": 300, \"calitp_url_number\": 0, \"service_date\": \"2022-06-14T00:00:00\", \"num_sched\": 1602, \"num_rt\": 1425, \"pct_ran\": 0.8895131086142322, \"weekday\": \"Tuesday\"}, {\"calitp_itp_id\": 300, \"calitp_url_number\": 0, \"service_date\": \"2022-06-07T00:00:00\", \"num_sched\": 1608, \"num_rt\": 1430, \"pct_ran\": 0.8893034825870647, \"weekday\": \"Tuesday\"}, {\"calitp_itp_id\": 300, \"calitp_url_number\": 0, \"service_date\": \"2022-06-03T00:00:00\", \"num_sched\": 1609, \"num_rt\": 1387, \"pct_ran\": 0.8620261031696707, \"weekday\": \"Friday\"}, {\"calitp_itp_id\": 300, \"calitp_url_number\": 0, \"service_date\": \"2022-06-08T00:00:00\", \"num_sched\": 1610, \"num_rt\": 1416, \"pct_ran\": 0.8795031055900621, \"weekday\": \"Wednesday\"}, {\"calitp_itp_id\": 300, \"calitp_url_number\": 0, \"service_date\": \"2022-06-01T00:00:00\", \"num_sched\": 1613, \"num_rt\": 1463, \"pct_ran\": 0.9070055796652201, \"weekday\": \"Wednesday\"}, {\"calitp_itp_id\": 300, \"calitp_url_number\": 0, \"service_date\": \"2022-06-09T00:00:00\", \"num_sched\": 1613, \"num_rt\": 1436, \"pct_ran\": 0.8902665840049597, \"weekday\": \"Thursday\"}, {\"calitp_itp_id\": 300, \"calitp_url_number\": 0, \"service_date\": \"2022-06-02T00:00:00\", \"num_sched\": 1614, \"num_rt\": 1458, \"pct_ran\": 0.9033457249070632, \"weekday\": \"Thursday\"}, {\"calitp_itp_id\": 300, \"calitp_url_number\": 0, \"service_date\": \"2022-05-11T00:00:00\", \"num_sched\": 1617, \"num_rt\": 1482, \"pct_ran\": 0.9165120593692022, \"weekday\": \"Wednesday\"}, {\"calitp_itp_id\": 300, \"calitp_url_number\": 0, \"service_date\": \"2022-05-26T00:00:00\", \"num_sched\": 1618, \"num_rt\": 1496, \"pct_ran\": 0.9245982694684796, \"weekday\": \"Thursday\"}, {\"calitp_itp_id\": 300, \"calitp_url_number\": 0, \"service_date\": \"2022-05-25T00:00:00\", \"num_sched\": 1618, \"num_rt\": 1450, \"pct_ran\": 0.896168108776267, \"weekday\": \"Wednesday\"}, {\"calitp_itp_id\": 300, \"calitp_url_number\": 0, \"service_date\": \"2022-05-10T00:00:00\", \"num_sched\": 1618, \"num_rt\": 1482, \"pct_ran\": 0.9159456118665018, \"weekday\": \"Tuesday\"}, {\"calitp_itp_id\": 300, \"calitp_url_number\": 0, \"service_date\": \"2022-05-12T00:00:00\", \"num_sched\": 1619, \"num_rt\": 1483, \"pct_ran\": 0.9159975293390982, \"weekday\": \"Thursday\"}, {\"calitp_itp_id\": 300, \"calitp_url_number\": 0, \"service_date\": \"2022-05-24T00:00:00\", \"num_sched\": 1619, \"num_rt\": 1473, \"pct_ran\": 0.9098208770846201, \"weekday\": \"Tuesday\"}, {\"calitp_itp_id\": 300, \"calitp_url_number\": 0, \"service_date\": \"2022-05-17T00:00:00\", \"num_sched\": 1621, \"num_rt\": 1478, \"pct_ran\": 0.9117828500925355, \"weekday\": \"Tuesday\"}, {\"calitp_itp_id\": 300, \"calitp_url_number\": 0, \"service_date\": \"2022-05-04T00:00:00\", \"num_sched\": 1622, \"num_rt\": 1487, \"pct_ran\": 0.9167694204685574, \"weekday\": \"Wednesday\"}, {\"calitp_itp_id\": 300, \"calitp_url_number\": 0, \"service_date\": \"2022-05-03T00:00:00\", \"num_sched\": 1624, \"num_rt\": 1473, \"pct_ran\": 0.9070197044334976, \"weekday\": \"Tuesday\"}, {\"calitp_itp_id\": 300, \"calitp_url_number\": 0, \"service_date\": \"2022-05-19T00:00:00\", \"num_sched\": 1625, \"num_rt\": 1476, \"pct_ran\": 0.9083076923076923, \"weekday\": \"Thursday\"}, {\"calitp_itp_id\": 300, \"calitp_url_number\": 0, \"service_date\": \"2022-05-18T00:00:00\", \"num_sched\": 1627, \"num_rt\": 1488, \"pct_ran\": 0.9145666871542717, \"weekday\": \"Wednesday\"}, {\"calitp_itp_id\": 300, \"calitp_url_number\": 0, \"service_date\": \"2022-05-05T00:00:00\", \"num_sched\": 1628, \"num_rt\": 1455, \"pct_ran\": 0.8937346437346437, \"weekday\": \"Thursday\"}, {\"calitp_itp_id\": 300, \"calitp_url_number\": 0, \"service_date\": \"2022-06-04T00:00:00\", \"num_sched\": 870, \"num_rt\": 610, \"pct_ran\": 0.7011494252873564, \"weekday\": \"Saturday\"}, {\"calitp_itp_id\": 300, \"calitp_url_number\": 0, \"service_date\": \"2022-06-25T00:00:00\", \"num_sched\": 871, \"num_rt\": 582, \"pct_ran\": 0.6681974741676234, \"weekday\": \"Saturday\"}, {\"calitp_itp_id\": 300, \"calitp_url_number\": 0, \"service_date\": \"2022-06-11T00:00:00\", \"num_sched\": 872, \"num_rt\": 586, \"pct_ran\": 0.6720183486238532, \"weekday\": \"Saturday\"}, {\"calitp_itp_id\": 300, \"calitp_url_number\": 0, \"service_date\": \"2022-05-28T00:00:00\", \"num_sched\": 873, \"num_rt\": 615, \"pct_ran\": 0.7044673539518901, \"weekday\": \"Saturday\"}, {\"calitp_itp_id\": 300, \"calitp_url_number\": 0, \"service_date\": \"2022-05-07T00:00:00\", \"num_sched\": 874, \"num_rt\": 608, \"pct_ran\": 0.6956521739130435, \"weekday\": \"Saturday\"}, {\"calitp_itp_id\": 300, \"calitp_url_number\": 0, \"service_date\": \"2022-05-14T00:00:00\", \"num_sched\": 874, \"num_rt\": 604, \"pct_ran\": 0.6910755148741419, \"weekday\": \"Saturday\"}, {\"calitp_itp_id\": 300, \"calitp_url_number\": 0, \"service_date\": \"2022-06-18T00:00:00\", \"num_sched\": 877, \"num_rt\": 640, \"pct_ran\": 0.7297605473204105, \"weekday\": \"Saturday\"}, {\"calitp_itp_id\": 300, \"calitp_url_number\": 0, \"service_date\": \"2022-05-21T00:00:00\", \"num_sched\": 877, \"num_rt\": 642, \"pct_ran\": 0.7320410490307868, \"weekday\": \"Saturday\"}, {\"calitp_itp_id\": 300, \"calitp_url_number\": 0, \"service_date\": \"2022-06-27T00:00:00\", \"num_sched\": 1465, \"num_rt\": 1017, \"pct_ran\": 0.6941979522184301, \"weekday\": \"Monday\"}, {\"calitp_itp_id\": 300, \"calitp_url_number\": 0, \"service_date\": \"2022-06-20T00:00:00\", \"num_sched\": 1465, \"num_rt\": 1081, \"pct_ran\": 0.7378839590443687, \"weekday\": \"Monday\"}, {\"calitp_itp_id\": 300, \"calitp_url_number\": 0, \"service_date\": \"2022-06-15T00:00:00\", \"num_sched\": 1505, \"num_rt\": 1437, \"pct_ran\": 0.9548172757475083, \"weekday\": \"Wednesday\"}, {\"calitp_itp_id\": 300, \"calitp_url_number\": 0, \"service_date\": \"2022-06-16T00:00:00\", \"num_sched\": 1514, \"num_rt\": 1487, \"pct_ran\": 0.9821664464993395, \"weekday\": \"Thursday\"}, {\"calitp_itp_id\": 300, \"calitp_url_number\": 0, \"service_date\": \"2022-06-13T00:00:00\", \"num_sched\": 1516, \"num_rt\": 1063, \"pct_ran\": 0.7011873350923483, \"weekday\": \"Monday\"}, {\"calitp_itp_id\": 300, \"calitp_url_number\": 0, \"service_date\": \"2022-05-31T00:00:00\", \"num_sched\": 1516, \"num_rt\": 1067, \"pct_ran\": 0.7038258575197889, \"weekday\": \"Tuesday\"}, {\"calitp_itp_id\": 300, \"calitp_url_number\": 0, \"service_date\": \"2022-06-17T00:00:00\", \"num_sched\": 1516, \"num_rt\": 1507, \"pct_ran\": 0.9940633245382586, \"weekday\": \"Friday\"}, {\"calitp_itp_id\": 300, \"calitp_url_number\": 0, \"service_date\": \"2022-05-16T00:00:00\", \"num_sched\": 1518, \"num_rt\": 1030, \"pct_ran\": 0.6785243741765481, \"weekday\": \"Monday\"}, {\"calitp_itp_id\": 300, \"calitp_url_number\": 0, \"service_date\": \"2022-05-02T00:00:00\", \"num_sched\": 1519, \"num_rt\": 1069, \"pct_ran\": 0.7037524687294272, \"weekday\": \"Monday\"}, {\"calitp_itp_id\": 300, \"calitp_url_number\": 0, \"service_date\": \"2022-06-06T00:00:00\", \"num_sched\": 1520, \"num_rt\": 1048, \"pct_ran\": 0.6894736842105263, \"weekday\": \"Monday\"}, {\"calitp_itp_id\": 300, \"calitp_url_number\": 0, \"service_date\": \"2022-05-09T00:00:00\", \"num_sched\": 1523, \"num_rt\": 1060, \"pct_ran\": 0.695994747209455, \"weekday\": \"Monday\"}, {\"calitp_itp_id\": 300, \"calitp_url_number\": 0, \"service_date\": \"2022-05-23T00:00:00\", \"num_sched\": 1524, \"num_rt\": 1094, \"pct_ran\": 0.7178477690288714, \"weekday\": \"Monday\"}]}}, {\"mode\": \"vega-lite\"});\n",
       "</script>"
      ],
      "text/plain": [
       "alt.Chart(...)"
      ]
     },
     "execution_count": 100,
     "metadata": {},
     "output_type": "execute_result"
    }
   ],
   "source": [
    "bar = (alt.Chart(rt_sched)\n",
    "        .mark_bar(size=8)\n",
    "        .encode(\n",
    "            x=alt.X('service_date', title=_dla_utils.labeling('service_date'), sort=(\"x\")),\n",
    "            y=alt.Y('pct_ran', title=_dla_utils.labeling('pct_ran')),\n",
    "            color=alt.Color(\n",
    "                'pct_ran',\n",
    "                scale=alt.Scale(range=altair_utils.CALITP_SEQUENTIAL_COLORS),\n",
    "                legend=alt.Legend(title=(_dla_utils.labeling('pct_ran')), symbolLimit=10)\n",
    "            )\n",
    "        ).properties(title='\"Percent of Scheduled Trips with RT Data\"'))\n",
    "    \n",
    "chart = styleguide.preset_chart_config(bar)\n",
    "chart.properties(width=600)"
   ]
  },
  {
   "cell_type": "code",
   "execution_count": 95,
   "id": "84e8ff9e-026b-460e-8238-cb1b69161b42",
   "metadata": {},
   "outputs": [
    {
     "data": {
      "text/html": [
       "\n",
       "<div id=\"altair-viz-93a624c9e6ac4e6b9db4300e05fadbda\"></div>\n",
       "<script type=\"text/javascript\">\n",
       "  var VEGA_DEBUG = (typeof VEGA_DEBUG == \"undefined\") ? {} : VEGA_DEBUG;\n",
       "  (function(spec, embedOpt){\n",
       "    let outputDiv = document.currentScript.previousElementSibling;\n",
       "    if (outputDiv.id !== \"altair-viz-93a624c9e6ac4e6b9db4300e05fadbda\") {\n",
       "      outputDiv = document.getElementById(\"altair-viz-93a624c9e6ac4e6b9db4300e05fadbda\");\n",
       "    }\n",
       "    const paths = {\n",
       "      \"vega\": \"https://cdn.jsdelivr.net/npm//vega@5?noext\",\n",
       "      \"vega-lib\": \"https://cdn.jsdelivr.net/npm//vega-lib?noext\",\n",
       "      \"vega-lite\": \"https://cdn.jsdelivr.net/npm//vega-lite@4.17.0?noext\",\n",
       "      \"vega-embed\": \"https://cdn.jsdelivr.net/npm//vega-embed@6?noext\",\n",
       "    };\n",
       "\n",
       "    function maybeLoadScript(lib, version) {\n",
       "      var key = `${lib.replace(\"-\", \"\")}_version`;\n",
       "      return (VEGA_DEBUG[key] == version) ?\n",
       "        Promise.resolve(paths[lib]) :\n",
       "        new Promise(function(resolve, reject) {\n",
       "          var s = document.createElement('script');\n",
       "          document.getElementsByTagName(\"head\")[0].appendChild(s);\n",
       "          s.async = true;\n",
       "          s.onload = () => {\n",
       "            VEGA_DEBUG[key] = version;\n",
       "            return resolve(paths[lib]);\n",
       "          };\n",
       "          s.onerror = () => reject(`Error loading script: ${paths[lib]}`);\n",
       "          s.src = paths[lib];\n",
       "        });\n",
       "    }\n",
       "\n",
       "    function showError(err) {\n",
       "      outputDiv.innerHTML = `<div class=\"error\" style=\"color:red;\">${err}</div>`;\n",
       "      throw err;\n",
       "    }\n",
       "\n",
       "    function displayChart(vegaEmbed) {\n",
       "      vegaEmbed(outputDiv, spec, embedOpt)\n",
       "        .catch(err => showError(`Javascript Error: ${err.message}<br>This usually means there's a typo in your chart specification. See the javascript console for the full traceback.`));\n",
       "    }\n",
       "\n",
       "    if(typeof define === \"function\" && define.amd) {\n",
       "      requirejs.config({paths});\n",
       "      require([\"vega-embed\"], displayChart, err => showError(`Error loading script: ${err.message}`));\n",
       "    } else {\n",
       "      maybeLoadScript(\"vega\", \"5\")\n",
       "        .then(() => maybeLoadScript(\"vega-lite\", \"4.17.0\"))\n",
       "        .then(() => maybeLoadScript(\"vega-embed\", \"6\"))\n",
       "        .catch(showError)\n",
       "        .then(() => displayChart(vegaEmbed));\n",
       "    }\n",
       "  })({\"config\": {\"view\": {\"continuousWidth\": 400, \"continuousHeight\": 300}}, \"layer\": [{\"mark\": {\"type\": \"bar\", \"size\": 9}, \"encoding\": {\"x\": {\"field\": \"service_date\", \"sort\": \"x\", \"title\": \"Service Date\", \"type\": \"temporal\"}, \"y\": {\"field\": \"pct_ran\", \"title\": \"Pct Ran\", \"type\": \"quantitative\"}}, \"title\": \"Percent of Scheduled Trips with RT Data\"}, {\"mark\": {\"type\": \"rule\", \"color\": \"red\"}, \"encoding\": {\"y\": {\"aggregate\": \"mean\", \"field\": \"pct_ran\", \"type\": \"quantitative\"}}}], \"data\": {\"name\": \"data-dfc83a2ef4ac9acb39af6330a9e6175b\"}, \"width\": 600, \"$schema\": \"https://vega.github.io/schema/vega-lite/v4.17.0.json\", \"datasets\": {\"data-dfc83a2ef4ac9acb39af6330a9e6175b\": [{\"calitp_itp_id\": 300, \"calitp_url_number\": 0, \"service_date\": \"2022-06-12T00:00:00\", \"num_sched\": 770, \"num_rt\": 533, \"pct_ran\": 0.6922077922077922, \"weekday\": \"Sunday\"}, {\"calitp_itp_id\": 300, \"calitp_url_number\": 0, \"service_date\": \"2022-05-22T00:00:00\", \"num_sched\": 770, \"num_rt\": 543, \"pct_ran\": 0.7051948051948052, \"weekday\": \"Sunday\"}, {\"calitp_itp_id\": 300, \"calitp_url_number\": 0, \"service_date\": \"2022-05-15T00:00:00\", \"num_sched\": 771, \"num_rt\": 527, \"pct_ran\": 0.6835278858625162, \"weekday\": \"Sunday\"}, {\"calitp_itp_id\": 300, \"calitp_url_number\": 0, \"service_date\": \"2022-05-01T00:00:00\", \"num_sched\": 771, \"num_rt\": 527, \"pct_ran\": 0.6835278858625162, \"weekday\": \"Sunday\"}, {\"calitp_itp_id\": 300, \"calitp_url_number\": 0, \"service_date\": \"2022-06-26T00:00:00\", \"num_sched\": 772, \"num_rt\": 500, \"pct_ran\": 0.6476683937823834, \"weekday\": \"Sunday\"}, {\"calitp_itp_id\": 300, \"calitp_url_number\": 0, \"service_date\": \"2022-06-05T00:00:00\", \"num_sched\": 773, \"num_rt\": 557, \"pct_ran\": 0.720569210866753, \"weekday\": \"Sunday\"}, {\"calitp_itp_id\": 300, \"calitp_url_number\": 0, \"service_date\": \"2022-05-29T00:00:00\", \"num_sched\": 773, \"num_rt\": 559, \"pct_ran\": 0.723156532988357, \"weekday\": \"Sunday\"}, {\"calitp_itp_id\": 300, \"calitp_url_number\": 0, \"service_date\": \"2022-05-08T00:00:00\", \"num_sched\": 773, \"num_rt\": 504, \"pct_ran\": 0.6520051746442432, \"weekday\": \"Sunday\"}, {\"calitp_itp_id\": 300, \"calitp_url_number\": 0, \"service_date\": \"2022-06-19T00:00:00\", \"num_sched\": 774, \"num_rt\": 528, \"pct_ran\": 0.6821705426356589, \"weekday\": \"Sunday\"}, {\"calitp_itp_id\": 300, \"calitp_url_number\": 0, \"service_date\": \"2022-06-29T00:00:00\", \"num_sched\": 1548, \"num_rt\": 1454, \"pct_ran\": 0.9392764857881137, \"weekday\": \"Wednesday\"}, {\"calitp_itp_id\": 300, \"calitp_url_number\": 0, \"service_date\": \"2022-06-10T00:00:00\", \"num_sched\": 1552, \"num_rt\": 1382, \"pct_ran\": 0.8904639175257731, \"weekday\": \"Friday\"}, {\"calitp_itp_id\": 300, \"calitp_url_number\": 0, \"service_date\": \"2022-06-24T00:00:00\", \"num_sched\": 1556, \"num_rt\": 1415, \"pct_ran\": 0.9093830334190232, \"weekday\": \"Friday\"}, {\"calitp_itp_id\": 300, \"calitp_url_number\": 0, \"service_date\": \"2022-06-23T00:00:00\", \"num_sched\": 1558, \"num_rt\": 1481, \"pct_ran\": 0.9505776636713735, \"weekday\": \"Thursday\"}, {\"calitp_itp_id\": 300, \"calitp_url_number\": 0, \"service_date\": \"2022-06-28T00:00:00\", \"num_sched\": 1559, \"num_rt\": 1457, \"pct_ran\": 0.9345734445157152, \"weekday\": \"Tuesday\"}, {\"calitp_itp_id\": 300, \"calitp_url_number\": 0, \"service_date\": \"2022-05-13T00:00:00\", \"num_sched\": 1560, \"num_rt\": 1439, \"pct_ran\": 0.9224358974358975, \"weekday\": \"Friday\"}, {\"calitp_itp_id\": 300, \"calitp_url_number\": 0, \"service_date\": \"2022-05-06T00:00:00\", \"num_sched\": 1561, \"num_rt\": 1392, \"pct_ran\": 0.891736066623959, \"weekday\": \"Friday\"}, {\"calitp_itp_id\": 300, \"calitp_url_number\": 0, \"service_date\": \"2022-05-27T00:00:00\", \"num_sched\": 1563, \"num_rt\": 1417, \"pct_ran\": 0.9065898912348048, \"weekday\": \"Friday\"}, {\"calitp_itp_id\": 300, \"calitp_url_number\": 0, \"service_date\": \"2022-05-20T00:00:00\", \"num_sched\": 1564, \"num_rt\": 1466, \"pct_ran\": 0.9373401534526854, \"weekday\": \"Friday\"}, {\"calitp_itp_id\": 300, \"calitp_url_number\": 0, \"service_date\": \"2022-06-21T00:00:00\", \"num_sched\": 1564, \"num_rt\": 1484, \"pct_ran\": 0.948849104859335, \"weekday\": \"Tuesday\"}, {\"calitp_itp_id\": 300, \"calitp_url_number\": 0, \"service_date\": \"2022-06-30T00:00:00\", \"num_sched\": 1568, \"num_rt\": 1481, \"pct_ran\": 0.9445153061224489, \"weekday\": \"Thursday\"}, {\"calitp_itp_id\": 300, \"calitp_url_number\": 0, \"service_date\": \"2022-06-22T00:00:00\", \"num_sched\": 1572, \"num_rt\": 1487, \"pct_ran\": 0.9459287531806616, \"weekday\": \"Wednesday\"}, {\"calitp_itp_id\": 300, \"calitp_url_number\": 0, \"service_date\": \"2022-05-30T00:00:00\", \"num_sched\": 829, \"num_rt\": 800, \"pct_ran\": 0.9650180940892642, \"weekday\": \"Monday\"}, {\"calitp_itp_id\": 300, \"calitp_url_number\": 0, \"service_date\": \"2022-06-14T00:00:00\", \"num_sched\": 1602, \"num_rt\": 1425, \"pct_ran\": 0.8895131086142322, \"weekday\": \"Tuesday\"}, {\"calitp_itp_id\": 300, \"calitp_url_number\": 0, \"service_date\": \"2022-06-07T00:00:00\", \"num_sched\": 1608, \"num_rt\": 1430, \"pct_ran\": 0.8893034825870647, \"weekday\": \"Tuesday\"}, {\"calitp_itp_id\": 300, \"calitp_url_number\": 0, \"service_date\": \"2022-06-03T00:00:00\", \"num_sched\": 1609, \"num_rt\": 1387, \"pct_ran\": 0.8620261031696707, \"weekday\": \"Friday\"}, {\"calitp_itp_id\": 300, \"calitp_url_number\": 0, \"service_date\": \"2022-06-08T00:00:00\", \"num_sched\": 1610, \"num_rt\": 1416, \"pct_ran\": 0.8795031055900621, \"weekday\": \"Wednesday\"}, {\"calitp_itp_id\": 300, \"calitp_url_number\": 0, \"service_date\": \"2022-06-01T00:00:00\", \"num_sched\": 1613, \"num_rt\": 1463, \"pct_ran\": 0.9070055796652201, \"weekday\": \"Wednesday\"}, {\"calitp_itp_id\": 300, \"calitp_url_number\": 0, \"service_date\": \"2022-06-09T00:00:00\", \"num_sched\": 1613, \"num_rt\": 1436, \"pct_ran\": 0.8902665840049597, \"weekday\": \"Thursday\"}, {\"calitp_itp_id\": 300, \"calitp_url_number\": 0, \"service_date\": \"2022-06-02T00:00:00\", \"num_sched\": 1614, \"num_rt\": 1458, \"pct_ran\": 0.9033457249070632, \"weekday\": \"Thursday\"}, {\"calitp_itp_id\": 300, \"calitp_url_number\": 0, \"service_date\": \"2022-05-11T00:00:00\", \"num_sched\": 1617, \"num_rt\": 1482, \"pct_ran\": 0.9165120593692022, \"weekday\": \"Wednesday\"}, {\"calitp_itp_id\": 300, \"calitp_url_number\": 0, \"service_date\": \"2022-05-26T00:00:00\", \"num_sched\": 1618, \"num_rt\": 1496, \"pct_ran\": 0.9245982694684796, \"weekday\": \"Thursday\"}, {\"calitp_itp_id\": 300, \"calitp_url_number\": 0, \"service_date\": \"2022-05-25T00:00:00\", \"num_sched\": 1618, \"num_rt\": 1450, \"pct_ran\": 0.896168108776267, \"weekday\": \"Wednesday\"}, {\"calitp_itp_id\": 300, \"calitp_url_number\": 0, \"service_date\": \"2022-05-10T00:00:00\", \"num_sched\": 1618, \"num_rt\": 1482, \"pct_ran\": 0.9159456118665018, \"weekday\": \"Tuesday\"}, {\"calitp_itp_id\": 300, \"calitp_url_number\": 0, \"service_date\": \"2022-05-12T00:00:00\", \"num_sched\": 1619, \"num_rt\": 1483, \"pct_ran\": 0.9159975293390982, \"weekday\": \"Thursday\"}, {\"calitp_itp_id\": 300, \"calitp_url_number\": 0, \"service_date\": \"2022-05-24T00:00:00\", \"num_sched\": 1619, \"num_rt\": 1473, \"pct_ran\": 0.9098208770846201, \"weekday\": \"Tuesday\"}, {\"calitp_itp_id\": 300, \"calitp_url_number\": 0, \"service_date\": \"2022-05-17T00:00:00\", \"num_sched\": 1621, \"num_rt\": 1478, \"pct_ran\": 0.9117828500925355, \"weekday\": \"Tuesday\"}, {\"calitp_itp_id\": 300, \"calitp_url_number\": 0, \"service_date\": \"2022-05-04T00:00:00\", \"num_sched\": 1622, \"num_rt\": 1487, \"pct_ran\": 0.9167694204685574, \"weekday\": \"Wednesday\"}, {\"calitp_itp_id\": 300, \"calitp_url_number\": 0, \"service_date\": \"2022-05-03T00:00:00\", \"num_sched\": 1624, \"num_rt\": 1473, \"pct_ran\": 0.9070197044334976, \"weekday\": \"Tuesday\"}, {\"calitp_itp_id\": 300, \"calitp_url_number\": 0, \"service_date\": \"2022-05-19T00:00:00\", \"num_sched\": 1625, \"num_rt\": 1476, \"pct_ran\": 0.9083076923076923, \"weekday\": \"Thursday\"}, {\"calitp_itp_id\": 300, \"calitp_url_number\": 0, \"service_date\": \"2022-05-18T00:00:00\", \"num_sched\": 1627, \"num_rt\": 1488, \"pct_ran\": 0.9145666871542717, \"weekday\": \"Wednesday\"}, {\"calitp_itp_id\": 300, \"calitp_url_number\": 0, \"service_date\": \"2022-05-05T00:00:00\", \"num_sched\": 1628, \"num_rt\": 1455, \"pct_ran\": 0.8937346437346437, \"weekday\": \"Thursday\"}, {\"calitp_itp_id\": 300, \"calitp_url_number\": 0, \"service_date\": \"2022-06-04T00:00:00\", \"num_sched\": 870, \"num_rt\": 610, \"pct_ran\": 0.7011494252873564, \"weekday\": \"Saturday\"}, {\"calitp_itp_id\": 300, \"calitp_url_number\": 0, \"service_date\": \"2022-06-25T00:00:00\", \"num_sched\": 871, \"num_rt\": 582, \"pct_ran\": 0.6681974741676234, \"weekday\": \"Saturday\"}, {\"calitp_itp_id\": 300, \"calitp_url_number\": 0, \"service_date\": \"2022-06-11T00:00:00\", \"num_sched\": 872, \"num_rt\": 586, \"pct_ran\": 0.6720183486238532, \"weekday\": \"Saturday\"}, {\"calitp_itp_id\": 300, \"calitp_url_number\": 0, \"service_date\": \"2022-05-28T00:00:00\", \"num_sched\": 873, \"num_rt\": 615, \"pct_ran\": 0.7044673539518901, \"weekday\": \"Saturday\"}, {\"calitp_itp_id\": 300, \"calitp_url_number\": 0, \"service_date\": \"2022-05-07T00:00:00\", \"num_sched\": 874, \"num_rt\": 608, \"pct_ran\": 0.6956521739130435, \"weekday\": \"Saturday\"}, {\"calitp_itp_id\": 300, \"calitp_url_number\": 0, \"service_date\": \"2022-05-14T00:00:00\", \"num_sched\": 874, \"num_rt\": 604, \"pct_ran\": 0.6910755148741419, \"weekday\": \"Saturday\"}, {\"calitp_itp_id\": 300, \"calitp_url_number\": 0, \"service_date\": \"2022-06-18T00:00:00\", \"num_sched\": 877, \"num_rt\": 640, \"pct_ran\": 0.7297605473204105, \"weekday\": \"Saturday\"}, {\"calitp_itp_id\": 300, \"calitp_url_number\": 0, \"service_date\": \"2022-05-21T00:00:00\", \"num_sched\": 877, \"num_rt\": 642, \"pct_ran\": 0.7320410490307868, \"weekday\": \"Saturday\"}, {\"calitp_itp_id\": 300, \"calitp_url_number\": 0, \"service_date\": \"2022-06-27T00:00:00\", \"num_sched\": 1465, \"num_rt\": 1017, \"pct_ran\": 0.6941979522184301, \"weekday\": \"Monday\"}, {\"calitp_itp_id\": 300, \"calitp_url_number\": 0, \"service_date\": \"2022-06-20T00:00:00\", \"num_sched\": 1465, \"num_rt\": 1081, \"pct_ran\": 0.7378839590443687, \"weekday\": \"Monday\"}, {\"calitp_itp_id\": 300, \"calitp_url_number\": 0, \"service_date\": \"2022-06-15T00:00:00\", \"num_sched\": 1505, \"num_rt\": 1437, \"pct_ran\": 0.9548172757475083, \"weekday\": \"Wednesday\"}, {\"calitp_itp_id\": 300, \"calitp_url_number\": 0, \"service_date\": \"2022-06-16T00:00:00\", \"num_sched\": 1514, \"num_rt\": 1487, \"pct_ran\": 0.9821664464993395, \"weekday\": \"Thursday\"}, {\"calitp_itp_id\": 300, \"calitp_url_number\": 0, \"service_date\": \"2022-06-13T00:00:00\", \"num_sched\": 1516, \"num_rt\": 1063, \"pct_ran\": 0.7011873350923483, \"weekday\": \"Monday\"}, {\"calitp_itp_id\": 300, \"calitp_url_number\": 0, \"service_date\": \"2022-05-31T00:00:00\", \"num_sched\": 1516, \"num_rt\": 1067, \"pct_ran\": 0.7038258575197889, \"weekday\": \"Tuesday\"}, {\"calitp_itp_id\": 300, \"calitp_url_number\": 0, \"service_date\": \"2022-06-17T00:00:00\", \"num_sched\": 1516, \"num_rt\": 1507, \"pct_ran\": 0.9940633245382586, \"weekday\": \"Friday\"}, {\"calitp_itp_id\": 300, \"calitp_url_number\": 0, \"service_date\": \"2022-05-16T00:00:00\", \"num_sched\": 1518, \"num_rt\": 1030, \"pct_ran\": 0.6785243741765481, \"weekday\": \"Monday\"}, {\"calitp_itp_id\": 300, \"calitp_url_number\": 0, \"service_date\": \"2022-05-02T00:00:00\", \"num_sched\": 1519, \"num_rt\": 1069, \"pct_ran\": 0.7037524687294272, \"weekday\": \"Monday\"}, {\"calitp_itp_id\": 300, \"calitp_url_number\": 0, \"service_date\": \"2022-06-06T00:00:00\", \"num_sched\": 1520, \"num_rt\": 1048, \"pct_ran\": 0.6894736842105263, \"weekday\": \"Monday\"}, {\"calitp_itp_id\": 300, \"calitp_url_number\": 0, \"service_date\": \"2022-05-09T00:00:00\", \"num_sched\": 1523, \"num_rt\": 1060, \"pct_ran\": 0.695994747209455, \"weekday\": \"Monday\"}, {\"calitp_itp_id\": 300, \"calitp_url_number\": 0, \"service_date\": \"2022-05-23T00:00:00\", \"num_sched\": 1524, \"num_rt\": 1094, \"pct_ran\": 0.7178477690288714, \"weekday\": \"Monday\"}]}}, {\"mode\": \"vega-lite\"});\n",
       "</script>"
      ],
      "text/plain": [
       "alt.LayerChart(...)"
      ]
     },
     "execution_count": 95,
     "metadata": {},
     "output_type": "execute_result"
    }
   ],
   "source": [
    "bar = (alt.Chart(rt_sched)\n",
    "        .mark_bar(size=9)\n",
    "        .encode(\n",
    "            x=alt.X('service_date', title=_dla_utils.labeling('service_date'), sort=(\"x\")),\n",
    "            y=alt.Y('pct_ran', title=_dla_utils.labeling('pct_ran'))\n",
    "        ).properties(title=\"Percent of Scheduled Trips with RT Data\"))\n",
    "\n",
    "## mean line\n",
    "rule = alt.Chart(rt_sched).mark_rule(color='red').encode(\n",
    "    y='mean(pct_ran):Q'\n",
    ")\n",
    "\n",
    "\n",
    "## rolling mean\n",
    "# line = alt.Chart(rt_sched).mark_line(color='red').transform_window(\n",
    "#     # The field to average\n",
    "#     rolling_mean='mean(pct_ran)',\n",
    "#     # The number of values before and after the current value to include.\n",
    "#     frame=[-3, 0]\n",
    "# ).encode(\n",
    "#     x='service_date:O',\n",
    "#     y='rolling_mean:Q'\n",
    "# )\n",
    "\n",
    "(bar + rule).properties(width=600)"
   ]
  },
  {
   "cell_type": "code",
   "execution_count": 65,
   "id": "21edd362-e8ee-402b-95f7-639e0e482a88",
   "metadata": {},
   "outputs": [],
   "source": [
    "df_long =  (rt_sched>>select(_.service_date,\n",
    "                         _.num_sched,\n",
    "                         _.num_rt\n",
    "                        ) \n",
    "             >> gather('measure',\n",
    "                       'value',\n",
    "                       _.num_sched,\n",
    "                       _.num_rt\n",
    "                      )\n",
    "            )"
   ]
  },
  {
   "cell_type": "code",
   "execution_count": 66,
   "id": "722518db-677d-41c3-a586-123c1bb10524",
   "metadata": {},
   "outputs": [
    {
     "data": {
      "text/html": [
       "<div>\n",
       "<style scoped>\n",
       "    .dataframe tbody tr th:only-of-type {\n",
       "        vertical-align: middle;\n",
       "    }\n",
       "\n",
       "    .dataframe tbody tr th {\n",
       "        vertical-align: top;\n",
       "    }\n",
       "\n",
       "    .dataframe thead th {\n",
       "        text-align: right;\n",
       "    }\n",
       "</style>\n",
       "<table border=\"1\" class=\"dataframe\">\n",
       "  <thead>\n",
       "    <tr style=\"text-align: right;\">\n",
       "      <th></th>\n",
       "      <th>service_date</th>\n",
       "      <th>measure</th>\n",
       "      <th>value</th>\n",
       "    </tr>\n",
       "  </thead>\n",
       "  <tbody>\n",
       "    <tr>\n",
       "      <th>0</th>\n",
       "      <td>2022-06-12</td>\n",
       "      <td>num_sched</td>\n",
       "      <td>770</td>\n",
       "    </tr>\n",
       "    <tr>\n",
       "      <th>1</th>\n",
       "      <td>2022-05-22</td>\n",
       "      <td>num_sched</td>\n",
       "      <td>770</td>\n",
       "    </tr>\n",
       "    <tr>\n",
       "      <th>2</th>\n",
       "      <td>2022-05-15</td>\n",
       "      <td>num_sched</td>\n",
       "      <td>771</td>\n",
       "    </tr>\n",
       "    <tr>\n",
       "      <th>3</th>\n",
       "      <td>2022-05-01</td>\n",
       "      <td>num_sched</td>\n",
       "      <td>771</td>\n",
       "    </tr>\n",
       "    <tr>\n",
       "      <th>4</th>\n",
       "      <td>2022-06-26</td>\n",
       "      <td>num_sched</td>\n",
       "      <td>772</td>\n",
       "    </tr>\n",
       "    <tr>\n",
       "      <th>...</th>\n",
       "      <td>...</td>\n",
       "      <td>...</td>\n",
       "      <td>...</td>\n",
       "    </tr>\n",
       "    <tr>\n",
       "      <th>117</th>\n",
       "      <td>2022-05-16</td>\n",
       "      <td>num_rt</td>\n",
       "      <td>1030</td>\n",
       "    </tr>\n",
       "    <tr>\n",
       "      <th>118</th>\n",
       "      <td>2022-05-02</td>\n",
       "      <td>num_rt</td>\n",
       "      <td>1069</td>\n",
       "    </tr>\n",
       "    <tr>\n",
       "      <th>119</th>\n",
       "      <td>2022-06-06</td>\n",
       "      <td>num_rt</td>\n",
       "      <td>1048</td>\n",
       "    </tr>\n",
       "    <tr>\n",
       "      <th>120</th>\n",
       "      <td>2022-05-09</td>\n",
       "      <td>num_rt</td>\n",
       "      <td>1060</td>\n",
       "    </tr>\n",
       "    <tr>\n",
       "      <th>121</th>\n",
       "      <td>2022-05-23</td>\n",
       "      <td>num_rt</td>\n",
       "      <td>1094</td>\n",
       "    </tr>\n",
       "  </tbody>\n",
       "</table>\n",
       "<p>122 rows × 3 columns</p>\n",
       "</div>"
      ],
      "text/plain": [
       "    service_date    measure  value\n",
       "0     2022-06-12  num_sched    770\n",
       "1     2022-05-22  num_sched    770\n",
       "2     2022-05-15  num_sched    771\n",
       "3     2022-05-01  num_sched    771\n",
       "4     2022-06-26  num_sched    772\n",
       "..           ...        ...    ...\n",
       "117   2022-05-16     num_rt   1030\n",
       "118   2022-05-02     num_rt   1069\n",
       "119   2022-06-06     num_rt   1048\n",
       "120   2022-05-09     num_rt   1060\n",
       "121   2022-05-23     num_rt   1094\n",
       "\n",
       "[122 rows x 3 columns]"
      ]
     },
     "execution_count": 66,
     "metadata": {},
     "output_type": "execute_result"
    }
   ],
   "source": [
    "df_long"
   ]
  },
  {
   "cell_type": "code",
   "execution_count": 102,
   "id": "991725c7-b64c-4dd9-81bb-3c9b2e86344c",
   "metadata": {},
   "outputs": [
    {
     "data": {
      "text/html": [
       "\n",
       "<div id=\"altair-viz-20cc1acd8a4e4baf8f642d4ff6dc3177\"></div>\n",
       "<script type=\"text/javascript\">\n",
       "  var VEGA_DEBUG = (typeof VEGA_DEBUG == \"undefined\") ? {} : VEGA_DEBUG;\n",
       "  (function(spec, embedOpt){\n",
       "    let outputDiv = document.currentScript.previousElementSibling;\n",
       "    if (outputDiv.id !== \"altair-viz-20cc1acd8a4e4baf8f642d4ff6dc3177\") {\n",
       "      outputDiv = document.getElementById(\"altair-viz-20cc1acd8a4e4baf8f642d4ff6dc3177\");\n",
       "    }\n",
       "    const paths = {\n",
       "      \"vega\": \"https://cdn.jsdelivr.net/npm//vega@5?noext\",\n",
       "      \"vega-lib\": \"https://cdn.jsdelivr.net/npm//vega-lib?noext\",\n",
       "      \"vega-lite\": \"https://cdn.jsdelivr.net/npm//vega-lite@4.17.0?noext\",\n",
       "      \"vega-embed\": \"https://cdn.jsdelivr.net/npm//vega-embed@6?noext\",\n",
       "    };\n",
       "\n",
       "    function maybeLoadScript(lib, version) {\n",
       "      var key = `${lib.replace(\"-\", \"\")}_version`;\n",
       "      return (VEGA_DEBUG[key] == version) ?\n",
       "        Promise.resolve(paths[lib]) :\n",
       "        new Promise(function(resolve, reject) {\n",
       "          var s = document.createElement('script');\n",
       "          document.getElementsByTagName(\"head\")[0].appendChild(s);\n",
       "          s.async = true;\n",
       "          s.onload = () => {\n",
       "            VEGA_DEBUG[key] = version;\n",
       "            return resolve(paths[lib]);\n",
       "          };\n",
       "          s.onerror = () => reject(`Error loading script: ${paths[lib]}`);\n",
       "          s.src = paths[lib];\n",
       "        });\n",
       "    }\n",
       "\n",
       "    function showError(err) {\n",
       "      outputDiv.innerHTML = `<div class=\"error\" style=\"color:red;\">${err}</div>`;\n",
       "      throw err;\n",
       "    }\n",
       "\n",
       "    function displayChart(vegaEmbed) {\n",
       "      vegaEmbed(outputDiv, spec, embedOpt)\n",
       "        .catch(err => showError(`Javascript Error: ${err.message}<br>This usually means there's a typo in your chart specification. See the javascript console for the full traceback.`));\n",
       "    }\n",
       "\n",
       "    if(typeof define === \"function\" && define.amd) {\n",
       "      requirejs.config({paths});\n",
       "      require([\"vega-embed\"], displayChart, err => showError(`Error loading script: ${err.message}`));\n",
       "    } else {\n",
       "      maybeLoadScript(\"vega\", \"5\")\n",
       "        .then(() => maybeLoadScript(\"vega-lite\", \"4.17.0\"))\n",
       "        .then(() => maybeLoadScript(\"vega-embed\", \"6\"))\n",
       "        .catch(showError)\n",
       "        .then(() => displayChart(vegaEmbed));\n",
       "    }\n",
       "  })({\"config\": {\"view\": {\"continuousWidth\": 400, \"continuousHeight\": 300}, \"axis\": {\"domainColor\": \"#cbcbcb\", \"grid\": true, \"gridColor\": \"#cbcbcb\", \"gridWidth\": 1, \"labelColor\": \"#474747\", \"labelFont\": \"Nunito Sans\", \"labelFontSize\": 10, \"labelPadding\": 4, \"tickColor\": \"#cbcbcb\", \"tickSize\": 10, \"titleColor\": \"#333\", \"titleFont\": \"Raleway\", \"titleFontSize\": 12, \"titlePadding\": 10}, \"axisBand\": {\"grid\": false}, \"background\": \"white\", \"font\": \"Raleway\", \"header\": {\"labelFont\": \"Nunito Sans\", \"titleFont\": \"Raleway\"}, \"legend\": {\"labelColor\": \"#333\", \"labelFont\": \"Nunito Sans\", \"labelFontSize\": 11, \"labelLimit\": 0, \"padding\": 1, \"symbolSize\": 30, \"symbolType\": \"square\", \"titleColor\": \"#333\", \"titleFont\": \"Raleway\", \"titleFontSize\": 14, \"titlePadding\": 10}, \"title\": {\"anchor\": \"middle\", \"font\": \"Raleway\", \"fontSize\": 18, \"fontWeight\": 300, \"offset\": 20}}, \"data\": {\"name\": \"data-0320e8ec851ff5382dee37ea6b2d46de\"}, \"mark\": {\"type\": \"bar\", \"opacity\": 1, \"size\": 9}, \"encoding\": {\"color\": {\"field\": \"measure\", \"type\": \"nominal\"}, \"x\": {\"field\": \"service_date\", \"title\": \"Service Date\", \"type\": \"temporal\"}, \"y\": {\"field\": \"value\", \"stack\": null, \"title\": \"Number Of Trips\", \"type\": \"quantitative\"}}, \"height\": 250, \"width\": 600, \"$schema\": \"https://vega.github.io/schema/vega-lite/v4.17.0.json\", \"datasets\": {\"data-0320e8ec851ff5382dee37ea6b2d46de\": [{\"service_date\": \"2022-06-12T00:00:00\", \"measure\": \"num_sched\", \"value\": 770}, {\"service_date\": \"2022-05-22T00:00:00\", \"measure\": \"num_sched\", \"value\": 770}, {\"service_date\": \"2022-05-15T00:00:00\", \"measure\": \"num_sched\", \"value\": 771}, {\"service_date\": \"2022-05-01T00:00:00\", \"measure\": \"num_sched\", \"value\": 771}, {\"service_date\": \"2022-06-26T00:00:00\", \"measure\": \"num_sched\", \"value\": 772}, {\"service_date\": \"2022-06-05T00:00:00\", \"measure\": \"num_sched\", \"value\": 773}, {\"service_date\": \"2022-05-29T00:00:00\", \"measure\": \"num_sched\", \"value\": 773}, {\"service_date\": \"2022-05-08T00:00:00\", \"measure\": \"num_sched\", \"value\": 773}, {\"service_date\": \"2022-06-19T00:00:00\", \"measure\": \"num_sched\", \"value\": 774}, {\"service_date\": \"2022-06-29T00:00:00\", \"measure\": \"num_sched\", \"value\": 1548}, {\"service_date\": \"2022-06-10T00:00:00\", \"measure\": \"num_sched\", \"value\": 1552}, {\"service_date\": \"2022-06-24T00:00:00\", \"measure\": \"num_sched\", \"value\": 1556}, {\"service_date\": \"2022-06-23T00:00:00\", \"measure\": \"num_sched\", \"value\": 1558}, {\"service_date\": \"2022-06-28T00:00:00\", \"measure\": \"num_sched\", \"value\": 1559}, {\"service_date\": \"2022-05-13T00:00:00\", \"measure\": \"num_sched\", \"value\": 1560}, {\"service_date\": \"2022-05-06T00:00:00\", \"measure\": \"num_sched\", \"value\": 1561}, {\"service_date\": \"2022-05-27T00:00:00\", \"measure\": \"num_sched\", \"value\": 1563}, {\"service_date\": \"2022-05-20T00:00:00\", \"measure\": \"num_sched\", \"value\": 1564}, {\"service_date\": \"2022-06-21T00:00:00\", \"measure\": \"num_sched\", \"value\": 1564}, {\"service_date\": \"2022-06-30T00:00:00\", \"measure\": \"num_sched\", \"value\": 1568}, {\"service_date\": \"2022-06-22T00:00:00\", \"measure\": \"num_sched\", \"value\": 1572}, {\"service_date\": \"2022-05-30T00:00:00\", \"measure\": \"num_sched\", \"value\": 829}, {\"service_date\": \"2022-06-14T00:00:00\", \"measure\": \"num_sched\", \"value\": 1602}, {\"service_date\": \"2022-06-07T00:00:00\", \"measure\": \"num_sched\", \"value\": 1608}, {\"service_date\": \"2022-06-03T00:00:00\", \"measure\": \"num_sched\", \"value\": 1609}, {\"service_date\": \"2022-06-08T00:00:00\", \"measure\": \"num_sched\", \"value\": 1610}, {\"service_date\": \"2022-06-01T00:00:00\", \"measure\": \"num_sched\", \"value\": 1613}, {\"service_date\": \"2022-06-09T00:00:00\", \"measure\": \"num_sched\", \"value\": 1613}, {\"service_date\": \"2022-06-02T00:00:00\", \"measure\": \"num_sched\", \"value\": 1614}, {\"service_date\": \"2022-05-11T00:00:00\", \"measure\": \"num_sched\", \"value\": 1617}, {\"service_date\": \"2022-05-26T00:00:00\", \"measure\": \"num_sched\", \"value\": 1618}, {\"service_date\": \"2022-05-25T00:00:00\", \"measure\": \"num_sched\", \"value\": 1618}, {\"service_date\": \"2022-05-10T00:00:00\", \"measure\": \"num_sched\", \"value\": 1618}, {\"service_date\": \"2022-05-12T00:00:00\", \"measure\": \"num_sched\", \"value\": 1619}, {\"service_date\": \"2022-05-24T00:00:00\", \"measure\": \"num_sched\", \"value\": 1619}, {\"service_date\": \"2022-05-17T00:00:00\", \"measure\": \"num_sched\", \"value\": 1621}, {\"service_date\": \"2022-05-04T00:00:00\", \"measure\": \"num_sched\", \"value\": 1622}, {\"service_date\": \"2022-05-03T00:00:00\", \"measure\": \"num_sched\", \"value\": 1624}, {\"service_date\": \"2022-05-19T00:00:00\", \"measure\": \"num_sched\", \"value\": 1625}, {\"service_date\": \"2022-05-18T00:00:00\", \"measure\": \"num_sched\", \"value\": 1627}, {\"service_date\": \"2022-05-05T00:00:00\", \"measure\": \"num_sched\", \"value\": 1628}, {\"service_date\": \"2022-06-04T00:00:00\", \"measure\": \"num_sched\", \"value\": 870}, {\"service_date\": \"2022-06-25T00:00:00\", \"measure\": \"num_sched\", \"value\": 871}, {\"service_date\": \"2022-06-11T00:00:00\", \"measure\": \"num_sched\", \"value\": 872}, {\"service_date\": \"2022-05-28T00:00:00\", \"measure\": \"num_sched\", \"value\": 873}, {\"service_date\": \"2022-05-07T00:00:00\", \"measure\": \"num_sched\", \"value\": 874}, {\"service_date\": \"2022-05-14T00:00:00\", \"measure\": \"num_sched\", \"value\": 874}, {\"service_date\": \"2022-06-18T00:00:00\", \"measure\": \"num_sched\", \"value\": 877}, {\"service_date\": \"2022-05-21T00:00:00\", \"measure\": \"num_sched\", \"value\": 877}, {\"service_date\": \"2022-06-27T00:00:00\", \"measure\": \"num_sched\", \"value\": 1465}, {\"service_date\": \"2022-06-20T00:00:00\", \"measure\": \"num_sched\", \"value\": 1465}, {\"service_date\": \"2022-06-15T00:00:00\", \"measure\": \"num_sched\", \"value\": 1505}, {\"service_date\": \"2022-06-16T00:00:00\", \"measure\": \"num_sched\", \"value\": 1514}, {\"service_date\": \"2022-06-13T00:00:00\", \"measure\": \"num_sched\", \"value\": 1516}, {\"service_date\": \"2022-05-31T00:00:00\", \"measure\": \"num_sched\", \"value\": 1516}, {\"service_date\": \"2022-06-17T00:00:00\", \"measure\": \"num_sched\", \"value\": 1516}, {\"service_date\": \"2022-05-16T00:00:00\", \"measure\": \"num_sched\", \"value\": 1518}, {\"service_date\": \"2022-05-02T00:00:00\", \"measure\": \"num_sched\", \"value\": 1519}, {\"service_date\": \"2022-06-06T00:00:00\", \"measure\": \"num_sched\", \"value\": 1520}, {\"service_date\": \"2022-05-09T00:00:00\", \"measure\": \"num_sched\", \"value\": 1523}, {\"service_date\": \"2022-05-23T00:00:00\", \"measure\": \"num_sched\", \"value\": 1524}, {\"service_date\": \"2022-06-12T00:00:00\", \"measure\": \"num_rt\", \"value\": 533}, {\"service_date\": \"2022-05-22T00:00:00\", \"measure\": \"num_rt\", \"value\": 543}, {\"service_date\": \"2022-05-15T00:00:00\", \"measure\": \"num_rt\", \"value\": 527}, {\"service_date\": \"2022-05-01T00:00:00\", \"measure\": \"num_rt\", \"value\": 527}, {\"service_date\": \"2022-06-26T00:00:00\", \"measure\": \"num_rt\", \"value\": 500}, {\"service_date\": \"2022-06-05T00:00:00\", \"measure\": \"num_rt\", \"value\": 557}, {\"service_date\": \"2022-05-29T00:00:00\", \"measure\": \"num_rt\", \"value\": 559}, {\"service_date\": \"2022-05-08T00:00:00\", \"measure\": \"num_rt\", \"value\": 504}, {\"service_date\": \"2022-06-19T00:00:00\", \"measure\": \"num_rt\", \"value\": 528}, {\"service_date\": \"2022-06-29T00:00:00\", \"measure\": \"num_rt\", \"value\": 1454}, {\"service_date\": \"2022-06-10T00:00:00\", \"measure\": \"num_rt\", \"value\": 1382}, {\"service_date\": \"2022-06-24T00:00:00\", \"measure\": \"num_rt\", \"value\": 1415}, {\"service_date\": \"2022-06-23T00:00:00\", \"measure\": \"num_rt\", \"value\": 1481}, {\"service_date\": \"2022-06-28T00:00:00\", \"measure\": \"num_rt\", \"value\": 1457}, {\"service_date\": \"2022-05-13T00:00:00\", \"measure\": \"num_rt\", \"value\": 1439}, {\"service_date\": \"2022-05-06T00:00:00\", \"measure\": \"num_rt\", \"value\": 1392}, {\"service_date\": \"2022-05-27T00:00:00\", \"measure\": \"num_rt\", \"value\": 1417}, {\"service_date\": \"2022-05-20T00:00:00\", \"measure\": \"num_rt\", \"value\": 1466}, {\"service_date\": \"2022-06-21T00:00:00\", \"measure\": \"num_rt\", \"value\": 1484}, {\"service_date\": \"2022-06-30T00:00:00\", \"measure\": \"num_rt\", \"value\": 1481}, {\"service_date\": \"2022-06-22T00:00:00\", \"measure\": \"num_rt\", \"value\": 1487}, {\"service_date\": \"2022-05-30T00:00:00\", \"measure\": \"num_rt\", \"value\": 800}, {\"service_date\": \"2022-06-14T00:00:00\", \"measure\": \"num_rt\", \"value\": 1425}, {\"service_date\": \"2022-06-07T00:00:00\", \"measure\": \"num_rt\", \"value\": 1430}, {\"service_date\": \"2022-06-03T00:00:00\", \"measure\": \"num_rt\", \"value\": 1387}, {\"service_date\": \"2022-06-08T00:00:00\", \"measure\": \"num_rt\", \"value\": 1416}, {\"service_date\": \"2022-06-01T00:00:00\", \"measure\": \"num_rt\", \"value\": 1463}, {\"service_date\": \"2022-06-09T00:00:00\", \"measure\": \"num_rt\", \"value\": 1436}, {\"service_date\": \"2022-06-02T00:00:00\", \"measure\": \"num_rt\", \"value\": 1458}, {\"service_date\": \"2022-05-11T00:00:00\", \"measure\": \"num_rt\", \"value\": 1482}, {\"service_date\": \"2022-05-26T00:00:00\", \"measure\": \"num_rt\", \"value\": 1496}, {\"service_date\": \"2022-05-25T00:00:00\", \"measure\": \"num_rt\", \"value\": 1450}, {\"service_date\": \"2022-05-10T00:00:00\", \"measure\": \"num_rt\", \"value\": 1482}, {\"service_date\": \"2022-05-12T00:00:00\", \"measure\": \"num_rt\", \"value\": 1483}, {\"service_date\": \"2022-05-24T00:00:00\", \"measure\": \"num_rt\", \"value\": 1473}, {\"service_date\": \"2022-05-17T00:00:00\", \"measure\": \"num_rt\", \"value\": 1478}, {\"service_date\": \"2022-05-04T00:00:00\", \"measure\": \"num_rt\", \"value\": 1487}, {\"service_date\": \"2022-05-03T00:00:00\", \"measure\": \"num_rt\", \"value\": 1473}, {\"service_date\": \"2022-05-19T00:00:00\", \"measure\": \"num_rt\", \"value\": 1476}, {\"service_date\": \"2022-05-18T00:00:00\", \"measure\": \"num_rt\", \"value\": 1488}, {\"service_date\": \"2022-05-05T00:00:00\", \"measure\": \"num_rt\", \"value\": 1455}, {\"service_date\": \"2022-06-04T00:00:00\", \"measure\": \"num_rt\", \"value\": 610}, {\"service_date\": \"2022-06-25T00:00:00\", \"measure\": \"num_rt\", \"value\": 582}, {\"service_date\": \"2022-06-11T00:00:00\", \"measure\": \"num_rt\", \"value\": 586}, {\"service_date\": \"2022-05-28T00:00:00\", \"measure\": \"num_rt\", \"value\": 615}, {\"service_date\": \"2022-05-07T00:00:00\", \"measure\": \"num_rt\", \"value\": 608}, {\"service_date\": \"2022-05-14T00:00:00\", \"measure\": \"num_rt\", \"value\": 604}, {\"service_date\": \"2022-06-18T00:00:00\", \"measure\": \"num_rt\", \"value\": 640}, {\"service_date\": \"2022-05-21T00:00:00\", \"measure\": \"num_rt\", \"value\": 642}, {\"service_date\": \"2022-06-27T00:00:00\", \"measure\": \"num_rt\", \"value\": 1017}, {\"service_date\": \"2022-06-20T00:00:00\", \"measure\": \"num_rt\", \"value\": 1081}, {\"service_date\": \"2022-06-15T00:00:00\", \"measure\": \"num_rt\", \"value\": 1437}, {\"service_date\": \"2022-06-16T00:00:00\", \"measure\": \"num_rt\", \"value\": 1487}, {\"service_date\": \"2022-06-13T00:00:00\", \"measure\": \"num_rt\", \"value\": 1063}, {\"service_date\": \"2022-05-31T00:00:00\", \"measure\": \"num_rt\", \"value\": 1067}, {\"service_date\": \"2022-06-17T00:00:00\", \"measure\": \"num_rt\", \"value\": 1507}, {\"service_date\": \"2022-05-16T00:00:00\", \"measure\": \"num_rt\", \"value\": 1030}, {\"service_date\": \"2022-05-02T00:00:00\", \"measure\": \"num_rt\", \"value\": 1069}, {\"service_date\": \"2022-06-06T00:00:00\", \"measure\": \"num_rt\", \"value\": 1048}, {\"service_date\": \"2022-05-09T00:00:00\", \"measure\": \"num_rt\", \"value\": 1060}, {\"service_date\": \"2022-05-23T00:00:00\", \"measure\": \"num_rt\", \"value\": 1094}]}}, {\"mode\": \"vega-lite\"});\n",
       "</script>"
      ],
      "text/plain": [
       "alt.Chart(...)"
      ]
     },
     "execution_count": 102,
     "metadata": {},
     "output_type": "execute_result"
    }
   ],
   "source": [
    "bar = (alt.Chart(df_long).mark_bar(opacity=1, size=9).encode(\n",
    "    x=alt.X('service_date', title=_dla_utils.labeling('service_date')),\n",
    "    y=alt.Y('value', stack=None,  title=_dla_utils.labeling('number of trips')),\n",
    "    color=\"measure\")\n",
    "      )\n",
    "\n",
    "chart = styleguide.preset_chart_config(bar)\n",
    "chart.properties(width=600)"
   ]
  },
  {
   "cell_type": "code",
   "execution_count": 72,
   "id": "f0e2a81b-4049-4a78-a727-e4e5d64bbff3",
   "metadata": {},
   "outputs": [
    {
     "data": {
      "text/html": [
       "<div>\n",
       "<style scoped>\n",
       "    .dataframe tbody tr th:only-of-type {\n",
       "        vertical-align: middle;\n",
       "    }\n",
       "\n",
       "    .dataframe tbody tr th {\n",
       "        vertical-align: top;\n",
       "    }\n",
       "\n",
       "    .dataframe thead th {\n",
       "        text-align: right;\n",
       "    }\n",
       "</style>\n",
       "<table border=\"1\" class=\"dataframe\">\n",
       "  <thead>\n",
       "    <tr style=\"text-align: right;\">\n",
       "      <th></th>\n",
       "      <th>calitp_itp_id</th>\n",
       "      <th>calitp_url_number</th>\n",
       "      <th>service_date</th>\n",
       "      <th>num_sched</th>\n",
       "      <th>num_rt</th>\n",
       "      <th>pct_ran</th>\n",
       "      <th>weekday</th>\n",
       "    </tr>\n",
       "  </thead>\n",
       "  <tbody>\n",
       "    <tr>\n",
       "      <th>44</th>\n",
       "      <td>300</td>\n",
       "      <td>0</td>\n",
       "      <td>2022-05-28</td>\n",
       "      <td>873</td>\n",
       "      <td>615</td>\n",
       "      <td>0.70</td>\n",
       "      <td>Saturday</td>\n",
       "    </tr>\n",
       "  </tbody>\n",
       "</table>\n",
       "</div>"
      ],
      "text/plain": [
       "    calitp_itp_id  calitp_url_number service_date  num_sched  num_rt  pct_ran  \\\n",
       "44            300                  0   2022-05-28        873     615     0.70   \n",
       "\n",
       "     weekday  \n",
       "44  Saturday  "
      ]
     },
     "execution_count": 72,
     "metadata": {},
     "output_type": "execute_result"
    }
   ],
   "source": [
    "rt_sched.sample()"
   ]
  },
  {
   "cell_type": "code",
   "execution_count": 43,
   "id": "21c674d0-2016-4cd3-9b02-f06592abe10e",
   "metadata": {},
   "outputs": [],
   "source": [
    "week = rt_sched>>group_by(_.weekday)>>summarize(avg_pct_ran = _.pct_ran.mean())"
   ]
  },
  {
   "cell_type": "code",
   "execution_count": 44,
   "id": "a86d9790-38f3-44a6-8cc2-4c3733e6e3c5",
   "metadata": {},
   "outputs": [
    {
     "data": {
      "text/html": [
       "<div>\n",
       "<style scoped>\n",
       "    .dataframe tbody tr th:only-of-type {\n",
       "        vertical-align: middle;\n",
       "    }\n",
       "\n",
       "    .dataframe tbody tr th {\n",
       "        vertical-align: top;\n",
       "    }\n",
       "\n",
       "    .dataframe thead th {\n",
       "        text-align: right;\n",
       "    }\n",
       "</style>\n",
       "<table border=\"1\" class=\"dataframe\">\n",
       "  <thead>\n",
       "    <tr style=\"text-align: right;\">\n",
       "      <th></th>\n",
       "      <th>weekday</th>\n",
       "      <th>avg_pct_ran</th>\n",
       "    </tr>\n",
       "  </thead>\n",
       "  <tbody>\n",
       "    <tr>\n",
       "      <th>0</th>\n",
       "      <td>Friday</td>\n",
       "      <td>0.91</td>\n",
       "    </tr>\n",
       "    <tr>\n",
       "      <th>1</th>\n",
       "      <td>Monday</td>\n",
       "      <td>0.73</td>\n",
       "    </tr>\n",
       "    <tr>\n",
       "      <th>2</th>\n",
       "      <td>Saturday</td>\n",
       "      <td>0.70</td>\n",
       "    </tr>\n",
       "    <tr>\n",
       "      <th>3</th>\n",
       "      <td>Sunday</td>\n",
       "      <td>0.69</td>\n",
       "    </tr>\n",
       "    <tr>\n",
       "      <th>4</th>\n",
       "      <td>Thursday</td>\n",
       "      <td>0.92</td>\n",
       "    </tr>\n",
       "    <tr>\n",
       "      <th>5</th>\n",
       "      <td>Tuesday</td>\n",
       "      <td>0.89</td>\n",
       "    </tr>\n",
       "    <tr>\n",
       "      <th>6</th>\n",
       "      <td>Wednesday</td>\n",
       "      <td>0.92</td>\n",
       "    </tr>\n",
       "  </tbody>\n",
       "</table>\n",
       "</div>"
      ],
      "text/plain": [
       "     weekday  avg_pct_ran\n",
       "0     Friday         0.91\n",
       "1     Monday         0.73\n",
       "2   Saturday         0.70\n",
       "3     Sunday         0.69\n",
       "4   Thursday         0.92\n",
       "5    Tuesday         0.89\n",
       "6  Wednesday         0.92"
      ]
     },
     "execution_count": 44,
     "metadata": {},
     "output_type": "execute_result"
    }
   ],
   "source": [
    "week"
   ]
  },
  {
   "cell_type": "code",
   "execution_count": 45,
   "id": "86aafa79-c9e7-4bb0-9988-e7ccba5e9d6a",
   "metadata": {},
   "outputs": [],
   "source": [
    "cats = ['Monday', 'Tuesday', 'Wednesday', 'Thursday', 'Friday', 'Saturday', 'Sunday']\n",
    "week['weekday'] = pd.Categorical(week['weekday'], categories=cats, ordered=True)\n",
    "week=week.sort_values('weekday')          "
   ]
  },
  {
   "cell_type": "code",
   "execution_count": 46,
   "id": "db4d6230-5793-4d50-890e-2d13893efbe4",
   "metadata": {},
   "outputs": [
    {
     "data": {
      "text/html": [
       "<div>\n",
       "<style scoped>\n",
       "    .dataframe tbody tr th:only-of-type {\n",
       "        vertical-align: middle;\n",
       "    }\n",
       "\n",
       "    .dataframe tbody tr th {\n",
       "        vertical-align: top;\n",
       "    }\n",
       "\n",
       "    .dataframe thead th {\n",
       "        text-align: right;\n",
       "    }\n",
       "</style>\n",
       "<table border=\"1\" class=\"dataframe\">\n",
       "  <thead>\n",
       "    <tr style=\"text-align: right;\">\n",
       "      <th></th>\n",
       "      <th>weekday</th>\n",
       "      <th>avg_pct_ran</th>\n",
       "    </tr>\n",
       "  </thead>\n",
       "  <tbody>\n",
       "    <tr>\n",
       "      <th>1</th>\n",
       "      <td>Monday</td>\n",
       "      <td>0.73</td>\n",
       "    </tr>\n",
       "    <tr>\n",
       "      <th>5</th>\n",
       "      <td>Tuesday</td>\n",
       "      <td>0.89</td>\n",
       "    </tr>\n",
       "    <tr>\n",
       "      <th>6</th>\n",
       "      <td>Wednesday</td>\n",
       "      <td>0.92</td>\n",
       "    </tr>\n",
       "    <tr>\n",
       "      <th>4</th>\n",
       "      <td>Thursday</td>\n",
       "      <td>0.92</td>\n",
       "    </tr>\n",
       "    <tr>\n",
       "      <th>0</th>\n",
       "      <td>Friday</td>\n",
       "      <td>0.91</td>\n",
       "    </tr>\n",
       "    <tr>\n",
       "      <th>2</th>\n",
       "      <td>Saturday</td>\n",
       "      <td>0.70</td>\n",
       "    </tr>\n",
       "    <tr>\n",
       "      <th>3</th>\n",
       "      <td>Sunday</td>\n",
       "      <td>0.69</td>\n",
       "    </tr>\n",
       "  </tbody>\n",
       "</table>\n",
       "</div>"
      ],
      "text/plain": [
       "     weekday  avg_pct_ran\n",
       "1     Monday         0.73\n",
       "5    Tuesday         0.89\n",
       "6  Wednesday         0.92\n",
       "4   Thursday         0.92\n",
       "0     Friday         0.91\n",
       "2   Saturday         0.70\n",
       "3     Sunday         0.69"
      ]
     },
     "execution_count": 46,
     "metadata": {},
     "output_type": "execute_result"
    }
   ],
   "source": [
    "week"
   ]
  },
  {
   "cell_type": "code",
   "execution_count": 47,
   "id": "03f22a58-40f5-4cb4-b1ac-df1353c6471a",
   "metadata": {},
   "outputs": [
    {
     "data": {
      "text/html": [
       "\n",
       "<div id=\"altair-viz-b163acd601f940b0997a1a26095e0612\"></div>\n",
       "<script type=\"text/javascript\">\n",
       "  var VEGA_DEBUG = (typeof VEGA_DEBUG == \"undefined\") ? {} : VEGA_DEBUG;\n",
       "  (function(spec, embedOpt){\n",
       "    let outputDiv = document.currentScript.previousElementSibling;\n",
       "    if (outputDiv.id !== \"altair-viz-b163acd601f940b0997a1a26095e0612\") {\n",
       "      outputDiv = document.getElementById(\"altair-viz-b163acd601f940b0997a1a26095e0612\");\n",
       "    }\n",
       "    const paths = {\n",
       "      \"vega\": \"https://cdn.jsdelivr.net/npm//vega@5?noext\",\n",
       "      \"vega-lib\": \"https://cdn.jsdelivr.net/npm//vega-lib?noext\",\n",
       "      \"vega-lite\": \"https://cdn.jsdelivr.net/npm//vega-lite@4.17.0?noext\",\n",
       "      \"vega-embed\": \"https://cdn.jsdelivr.net/npm//vega-embed@6?noext\",\n",
       "    };\n",
       "\n",
       "    function maybeLoadScript(lib, version) {\n",
       "      var key = `${lib.replace(\"-\", \"\")}_version`;\n",
       "      return (VEGA_DEBUG[key] == version) ?\n",
       "        Promise.resolve(paths[lib]) :\n",
       "        new Promise(function(resolve, reject) {\n",
       "          var s = document.createElement('script');\n",
       "          document.getElementsByTagName(\"head\")[0].appendChild(s);\n",
       "          s.async = true;\n",
       "          s.onload = () => {\n",
       "            VEGA_DEBUG[key] = version;\n",
       "            return resolve(paths[lib]);\n",
       "          };\n",
       "          s.onerror = () => reject(`Error loading script: ${paths[lib]}`);\n",
       "          s.src = paths[lib];\n",
       "        });\n",
       "    }\n",
       "\n",
       "    function showError(err) {\n",
       "      outputDiv.innerHTML = `<div class=\"error\" style=\"color:red;\">${err}</div>`;\n",
       "      throw err;\n",
       "    }\n",
       "\n",
       "    function displayChart(vegaEmbed) {\n",
       "      vegaEmbed(outputDiv, spec, embedOpt)\n",
       "        .catch(err => showError(`Javascript Error: ${err.message}<br>This usually means there's a typo in your chart specification. See the javascript console for the full traceback.`));\n",
       "    }\n",
       "\n",
       "    if(typeof define === \"function\" && define.amd) {\n",
       "      requirejs.config({paths});\n",
       "      require([\"vega-embed\"], displayChart, err => showError(`Error loading script: ${err.message}`));\n",
       "    } else {\n",
       "      maybeLoadScript(\"vega\", \"5\")\n",
       "        .then(() => maybeLoadScript(\"vega-lite\", \"4.17.0\"))\n",
       "        .then(() => maybeLoadScript(\"vega-embed\", \"6\"))\n",
       "        .catch(showError)\n",
       "        .then(() => displayChart(vegaEmbed));\n",
       "    }\n",
       "  })({\"config\": {\"view\": {\"continuousWidth\": 400, \"continuousHeight\": 300}, \"axis\": {\"domainColor\": \"#cbcbcb\", \"grid\": true, \"gridColor\": \"#cbcbcb\", \"gridWidth\": 1, \"labelColor\": \"#474747\", \"labelFont\": \"Nunito Sans\", \"labelFontSize\": 10, \"labelPadding\": 4, \"tickColor\": \"#cbcbcb\", \"tickSize\": 10, \"titleColor\": \"#333\", \"titleFont\": \"Raleway\", \"titleFontSize\": 12, \"titlePadding\": 10}, \"axisBand\": {\"grid\": false}, \"background\": \"white\", \"font\": \"Raleway\", \"header\": {\"labelFont\": \"Nunito Sans\", \"titleFont\": \"Raleway\"}, \"legend\": {\"labelColor\": \"#333\", \"labelFont\": \"Nunito Sans\", \"labelFontSize\": 11, \"labelLimit\": 0, \"padding\": 1, \"symbolSize\": 30, \"symbolType\": \"square\", \"titleColor\": \"#333\", \"titleFont\": \"Raleway\", \"titleFontSize\": 14, \"titlePadding\": 10}, \"title\": {\"anchor\": \"middle\", \"font\": \"Raleway\", \"fontSize\": 18, \"fontWeight\": 300, \"offset\": 20}}, \"data\": {\"name\": \"data-7b7dbb22140a775b50a183dbc80d6da0\"}, \"mark\": \"bar\", \"encoding\": {\"color\": {\"field\": \"weekday\", \"type\": \"nominal\"}, \"x\": {\"field\": \"weekday\", \"sort\": [\"Monday\", \"Tuesday\", \"Wednesday\", \"Thursday\", \"Friday\", \"Saturday\", \"Sunday\"], \"title\": \"Weekday\", \"type\": \"nominal\"}, \"y\": {\"field\": \"avg_pct_ran\", \"title\": \"Avg Pct Ran\", \"type\": \"quantitative\"}}, \"height\": 250, \"width\": 400, \"$schema\": \"https://vega.github.io/schema/vega-lite/v4.17.0.json\", \"datasets\": {\"data-7b7dbb22140a775b50a183dbc80d6da0\": [{\"weekday\": \"Monday\", \"avg_pct_ran\": 0.7315422648665821}, {\"weekday\": \"Tuesday\", \"avg_pct_ran\": 0.8900704490636991}, {\"weekday\": \"Wednesday\", \"avg_pct_ran\": 0.9189497195266516}, {\"weekday\": \"Thursday\", \"avg_pct_ran\": 0.9237233177838999}, {\"weekday\": \"Friday\", \"avg_pct_ran\": 0.9142547984250089}, {\"weekday\": \"Saturday\", \"avg_pct_ran\": 0.6992952358961382}, {\"weekday\": \"Sunday\", \"avg_pct_ran\": 0.6877809137827806}]}}, {\"mode\": \"vega-lite\"});\n",
       "</script>"
      ],
      "text/plain": [
       "alt.Chart(...)"
      ]
     },
     "execution_count": 47,
     "metadata": {},
     "output_type": "execute_result"
    }
   ],
   "source": [
    "bar = alt.Chart(week).mark_bar().encode(\n",
    "    x=alt.X('weekday', title=_dla_utils.labeling('weekday'), sort=cats),\n",
    "    y=alt.Y('avg_pct_ran', title=_dla_utils.labeling('avg_pct_ran')),\n",
    "    color=\"weekday\")\n",
    "chart = styleguide.preset_chart_config(bar)\n",
    "chart"
   ]
  },
  {
   "cell_type": "code",
   "execution_count": null,
   "id": "8ce8e0aa-0218-48b4-a172-fab5b6a71273",
   "metadata": {},
   "outputs": [],
   "source": []
  },
  {
   "cell_type": "code",
   "execution_count": 48,
   "id": "0d9a7914-f85f-437c-a4da-2f38bdcd3eea",
   "metadata": {},
   "outputs": [
    {
     "data": {
      "text/html": [
       "<div>\n",
       "<style scoped>\n",
       "    .dataframe tbody tr th:only-of-type {\n",
       "        vertical-align: middle;\n",
       "    }\n",
       "\n",
       "    .dataframe tbody tr th {\n",
       "        vertical-align: top;\n",
       "    }\n",
       "\n",
       "    .dataframe thead th {\n",
       "        text-align: right;\n",
       "    }\n",
       "</style>\n",
       "<table border=\"1\" class=\"dataframe\">\n",
       "  <thead>\n",
       "    <tr style=\"text-align: right;\">\n",
       "      <th></th>\n",
       "      <th>calitp_itp_id</th>\n",
       "      <th>calitp_url_number</th>\n",
       "      <th>service_date</th>\n",
       "      <th>num_sched</th>\n",
       "      <th>num_rt</th>\n",
       "      <th>pct_ran</th>\n",
       "      <th>weekday</th>\n",
       "    </tr>\n",
       "  </thead>\n",
       "  <tbody>\n",
       "    <tr>\n",
       "      <th>12</th>\n",
       "      <td>300</td>\n",
       "      <td>0</td>\n",
       "      <td>2022-06-23</td>\n",
       "      <td>1558</td>\n",
       "      <td>1481</td>\n",
       "      <td>0.95</td>\n",
       "      <td>Thursday</td>\n",
       "    </tr>\n",
       "    <tr>\n",
       "      <th>21</th>\n",
       "      <td>300</td>\n",
       "      <td>0</td>\n",
       "      <td>2022-05-30</td>\n",
       "      <td>829</td>\n",
       "      <td>800</td>\n",
       "      <td>0.97</td>\n",
       "      <td>Monday</td>\n",
       "    </tr>\n",
       "    <tr>\n",
       "      <th>51</th>\n",
       "      <td>300</td>\n",
       "      <td>0</td>\n",
       "      <td>2022-06-15</td>\n",
       "      <td>1505</td>\n",
       "      <td>1437</td>\n",
       "      <td>0.95</td>\n",
       "      <td>Wednesday</td>\n",
       "    </tr>\n",
       "    <tr>\n",
       "      <th>52</th>\n",
       "      <td>300</td>\n",
       "      <td>0</td>\n",
       "      <td>2022-06-16</td>\n",
       "      <td>1514</td>\n",
       "      <td>1487</td>\n",
       "      <td>0.98</td>\n",
       "      <td>Thursday</td>\n",
       "    </tr>\n",
       "    <tr>\n",
       "      <th>55</th>\n",
       "      <td>300</td>\n",
       "      <td>0</td>\n",
       "      <td>2022-06-17</td>\n",
       "      <td>1516</td>\n",
       "      <td>1507</td>\n",
       "      <td>0.99</td>\n",
       "      <td>Friday</td>\n",
       "    </tr>\n",
       "  </tbody>\n",
       "</table>\n",
       "</div>"
      ],
      "text/plain": [
       "    calitp_itp_id  calitp_url_number service_date  num_sched  num_rt  pct_ran  \\\n",
       "12            300                  0   2022-06-23       1558    1481     0.95   \n",
       "21            300                  0   2022-05-30        829     800     0.97   \n",
       "51            300                  0   2022-06-15       1505    1437     0.95   \n",
       "52            300                  0   2022-06-16       1514    1487     0.98   \n",
       "55            300                  0   2022-06-17       1516    1507     0.99   \n",
       "\n",
       "      weekday  \n",
       "12   Thursday  \n",
       "21     Monday  \n",
       "51  Wednesday  \n",
       "52   Thursday  \n",
       "55     Friday  "
      ]
     },
     "execution_count": 48,
     "metadata": {},
     "output_type": "execute_result"
    }
   ],
   "source": [
    "rt_sched>>filter(_.pct_ran>.95)"
   ]
  },
  {
   "cell_type": "code",
   "execution_count": 107,
   "id": "b98a9bb7-7263-4523-bf20-b2ac784ffa68",
   "metadata": {},
   "outputs": [],
   "source": [
    "rt_sched['month'] =  pd.Series(rt_sched.service_date).dt.month_name()"
   ]
  },
  {
   "cell_type": "code",
   "execution_count": 108,
   "id": "2512d0d1-7a11-4376-8913-a0091e620a12",
   "metadata": {},
   "outputs": [
    {
     "data": {
      "text/html": [
       "<div>\n",
       "<style scoped>\n",
       "    .dataframe tbody tr th:only-of-type {\n",
       "        vertical-align: middle;\n",
       "    }\n",
       "\n",
       "    .dataframe tbody tr th {\n",
       "        vertical-align: top;\n",
       "    }\n",
       "\n",
       "    .dataframe thead th {\n",
       "        text-align: right;\n",
       "    }\n",
       "</style>\n",
       "<table border=\"1\" class=\"dataframe\">\n",
       "  <thead>\n",
       "    <tr style=\"text-align: right;\">\n",
       "      <th></th>\n",
       "      <th>month</th>\n",
       "      <th>avg_pct_ran</th>\n",
       "    </tr>\n",
       "  </thead>\n",
       "  <tbody>\n",
       "    <tr>\n",
       "      <th>0</th>\n",
       "      <td>June</td>\n",
       "      <td>0.83</td>\n",
       "    </tr>\n",
       "    <tr>\n",
       "      <th>1</th>\n",
       "      <td>May</td>\n",
       "      <td>0.82</td>\n",
       "    </tr>\n",
       "  </tbody>\n",
       "</table>\n",
       "</div>"
      ],
      "text/plain": [
       "  month  avg_pct_ran\n",
       "0  June         0.83\n",
       "1   May         0.82"
      ]
     },
     "execution_count": 108,
     "metadata": {},
     "output_type": "execute_result"
    }
   ],
   "source": [
    "rt_sched>>group_by(_.month)>>summarize(avg_pct_ran = _.pct_ran.mean())"
   ]
  },
  {
   "cell_type": "code",
   "execution_count": 109,
   "id": "e40cd681-72d5-4e94-a1da-f5cb65f3dc7c",
   "metadata": {},
   "outputs": [
    {
     "data": {
      "text/html": [
       "\n",
       "<div id=\"altair-viz-0b3fe2cae33145ca85322b7d168ccddc\"></div>\n",
       "<script type=\"text/javascript\">\n",
       "  var VEGA_DEBUG = (typeof VEGA_DEBUG == \"undefined\") ? {} : VEGA_DEBUG;\n",
       "  (function(spec, embedOpt){\n",
       "    let outputDiv = document.currentScript.previousElementSibling;\n",
       "    if (outputDiv.id !== \"altair-viz-0b3fe2cae33145ca85322b7d168ccddc\") {\n",
       "      outputDiv = document.getElementById(\"altair-viz-0b3fe2cae33145ca85322b7d168ccddc\");\n",
       "    }\n",
       "    const paths = {\n",
       "      \"vega\": \"https://cdn.jsdelivr.net/npm//vega@5?noext\",\n",
       "      \"vega-lib\": \"https://cdn.jsdelivr.net/npm//vega-lib?noext\",\n",
       "      \"vega-lite\": \"https://cdn.jsdelivr.net/npm//vega-lite@4.17.0?noext\",\n",
       "      \"vega-embed\": \"https://cdn.jsdelivr.net/npm//vega-embed@6?noext\",\n",
       "    };\n",
       "\n",
       "    function maybeLoadScript(lib, version) {\n",
       "      var key = `${lib.replace(\"-\", \"\")}_version`;\n",
       "      return (VEGA_DEBUG[key] == version) ?\n",
       "        Promise.resolve(paths[lib]) :\n",
       "        new Promise(function(resolve, reject) {\n",
       "          var s = document.createElement('script');\n",
       "          document.getElementsByTagName(\"head\")[0].appendChild(s);\n",
       "          s.async = true;\n",
       "          s.onload = () => {\n",
       "            VEGA_DEBUG[key] = version;\n",
       "            return resolve(paths[lib]);\n",
       "          };\n",
       "          s.onerror = () => reject(`Error loading script: ${paths[lib]}`);\n",
       "          s.src = paths[lib];\n",
       "        });\n",
       "    }\n",
       "\n",
       "    function showError(err) {\n",
       "      outputDiv.innerHTML = `<div class=\"error\" style=\"color:red;\">${err}</div>`;\n",
       "      throw err;\n",
       "    }\n",
       "\n",
       "    function displayChart(vegaEmbed) {\n",
       "      vegaEmbed(outputDiv, spec, embedOpt)\n",
       "        .catch(err => showError(`Javascript Error: ${err.message}<br>This usually means there's a typo in your chart specification. See the javascript console for the full traceback.`));\n",
       "    }\n",
       "\n",
       "    if(typeof define === \"function\" && define.amd) {\n",
       "      requirejs.config({paths});\n",
       "      require([\"vega-embed\"], displayChart, err => showError(`Error loading script: ${err.message}`));\n",
       "    } else {\n",
       "      maybeLoadScript(\"vega\", \"5\")\n",
       "        .then(() => maybeLoadScript(\"vega-lite\", \"4.17.0\"))\n",
       "        .then(() => maybeLoadScript(\"vega-embed\", \"6\"))\n",
       "        .catch(showError)\n",
       "        .then(() => displayChart(vegaEmbed));\n",
       "    }\n",
       "  })({\"config\": {\"view\": {\"continuousWidth\": 400, \"continuousHeight\": 300}, \"axis\": {\"domainColor\": \"#cbcbcb\", \"grid\": true, \"gridColor\": \"#cbcbcb\", \"gridWidth\": 1, \"labelColor\": \"#474747\", \"labelFont\": \"Nunito Sans\", \"labelFontSize\": 10, \"labelPadding\": 4, \"tickColor\": \"#cbcbcb\", \"tickSize\": 10, \"titleColor\": \"#333\", \"titleFont\": \"Raleway\", \"titleFontSize\": 12, \"titlePadding\": 10}, \"axisBand\": {\"grid\": false}, \"background\": \"white\", \"font\": \"Raleway\", \"header\": {\"labelFont\": \"Nunito Sans\", \"titleFont\": \"Raleway\"}, \"legend\": {\"labelColor\": \"#333\", \"labelFont\": \"Nunito Sans\", \"labelFontSize\": 11, \"labelLimit\": 0, \"padding\": 1, \"symbolSize\": 30, \"symbolType\": \"square\", \"titleColor\": \"#333\", \"titleFont\": \"Raleway\", \"titleFontSize\": 14, \"titlePadding\": 10}, \"title\": {\"anchor\": \"middle\", \"font\": \"Raleway\", \"fontSize\": 18, \"fontWeight\": 300, \"offset\": 20}}, \"data\": {\"name\": \"data-c281e01d1235e2083caea4cc5e331546\"}, \"mark\": \"bar\", \"encoding\": {\"color\": {\"field\": \"month\", \"type\": \"nominal\"}, \"x\": {\"field\": \"month\", \"sort\": [\"Monday\", \"Tuesday\", \"Wednesday\", \"Thursday\", \"Friday\", \"Saturday\", \"Sunday\"], \"title\": \"Month\", \"type\": \"nominal\"}, \"y\": {\"field\": \"avg_pct_ran\", \"title\": \"Avg Pct Ran\", \"type\": \"quantitative\"}}, \"height\": 250, \"width\": 400, \"$schema\": \"https://vega.github.io/schema/vega-lite/v4.17.0.json\", \"datasets\": {\"data-c281e01d1235e2083caea4cc5e331546\": [{\"month\": \"June\", \"avg_pct_ran\": 0.8317354369954443}, {\"month\": \"May\", \"avg_pct_ran\": 0.8169334564489794}]}}, {\"mode\": \"vega-lite\"});\n",
       "</script>"
      ],
      "text/plain": [
       "alt.Chart(...)"
      ]
     },
     "execution_count": 109,
     "metadata": {},
     "output_type": "execute_result"
    }
   ],
   "source": [
    "bar = alt.Chart((rt_sched>>group_by(_.month)>>summarize(avg_pct_ran = _.pct_ran.mean()))).mark_bar().encode(\n",
    "    x=alt.X('month', title=_dla_utils.labeling('month'), sort=cats),\n",
    "    y=alt.Y('avg_pct_ran', title=_dla_utils.labeling('avg_pct_ran')),\n",
    "    color=\"month\")\n",
    "chart = styleguide.preset_chart_config(bar)\n",
    "chart"
   ]
  },
  {
   "cell_type": "code",
   "execution_count": null,
   "id": "ecdb087d-2069-4769-8367-b5712ff1304c",
   "metadata": {},
   "outputs": [],
   "source": []
  },
  {
   "cell_type": "code",
   "execution_count": null,
   "id": "30e46f10-4460-425c-a798-7cc3d4147da8",
   "metadata": {},
   "outputs": [],
   "source": []
  },
  {
   "cell_type": "code",
   "execution_count": null,
   "id": "35fbd3ee-c7a4-48ed-98ce-b2053695425c",
   "metadata": {},
   "outputs": [],
   "source": []
  },
  {
   "cell_type": "code",
   "execution_count": null,
   "id": "330f9331-cb7c-4a40-8709-35ad230df484",
   "metadata": {},
   "outputs": [],
   "source": []
  },
  {
   "cell_type": "code",
   "execution_count": null,
   "id": "faea7ebd-111f-4a23-97ed-b9e34b299e84",
   "metadata": {},
   "outputs": [],
   "source": []
  },
  {
   "cell_type": "code",
   "execution_count": null,
   "id": "fdc66d22-003f-4b14-b8f9-5027aa969db9",
   "metadata": {},
   "outputs": [],
   "source": []
  }
 ],
 "metadata": {
  "kernelspec": {
   "display_name": "Python 3 (ipykernel)",
   "language": "python",
   "name": "python3"
  },
  "language_info": {
   "codemirror_mode": {
    "name": "ipython",
    "version": 3
   },
   "file_extension": ".py",
   "mimetype": "text/x-python",
   "name": "python",
   "nbconvert_exporter": "python",
   "pygments_lexer": "ipython3",
   "version": "3.10.4"
  },
  "widgets": {
   "application/vnd.jupyter.widget-state+json": {
    "state": {},
    "version_major": 2,
    "version_minor": 0
   }
  }
 },
 "nbformat": 4,
 "nbformat_minor": 5
}
