{
 "cells": [
  {
   "cell_type": "markdown",
   "id": "2cfc1408-1367-4ed0-b2e9-388da9c1f99a",
   "metadata": {},
   "source": [
    "# Sanity check: `scheduled_stop_times` \n",
    "* Check that every row is a unique combo of `trip_instance_key-stop_id-stop_sequence`\n",
    "* Spot check a couple of stops to make sure `stop_primary_direction` is behaving the way we expect.\n",
    "   * Esp since `dd.map_partitions` uses `align_dataframes = False`"
   ]
  },
  {
   "cell_type": "code",
   "execution_count": 1,
   "id": "bf867567-ec40-47a0-8938-f0b8382fcd43",
   "metadata": {},
   "outputs": [],
   "source": [
    "import dask.dataframe as dd\n",
    "import geopandas as gpd\n",
    "import pandas as pd\n",
    "\n",
    "from segment_speed_utils import helpers\n",
    "from segment_speed_utils.project_vars import SEGMENT_GCS, RT_SCHED_GCS\n",
    "from shared_utils import rt_dates\n",
    "\n",
    "analysis_date = rt_dates.DATES[\"sep2023\"]"
   ]
  },
  {
   "cell_type": "code",
   "execution_count": 2,
   "id": "fd11f4d2-2cdd-42b7-9030-f9e699b4dcfa",
   "metadata": {},
   "outputs": [],
   "source": [
    "scheduled_stop_times = gpd.read_parquet(\n",
    "    f\"{RT_SCHED_GCS}stop_times_direction_{analysis_date}.parquet\",\n",
    "    columns = [\"trip_instance_key\", \n",
    "               \"stop_id\", \"stop_sequence\", \n",
    "               \"geometry\",\n",
    "               \"stop_primary_direction\"]\n",
    ")"
   ]
  },
  {
   "cell_type": "code",
   "execution_count": 3,
   "id": "bdaf55b7-13c6-4b58-b187-4cead10238dc",
   "metadata": {},
   "outputs": [
    {
     "ename": "AssertionError",
     "evalue": "",
     "output_type": "error",
     "traceback": [
      "\u001b[0;31m---------------------------------------------------------------------------\u001b[0m",
      "\u001b[0;31mAssertionError\u001b[0m                            Traceback (most recent call last)",
      "Cell \u001b[0;32mIn[3], line 6\u001b[0m\n\u001b[1;32m      3\u001b[0m n_rows \u001b[38;5;241m=\u001b[39m \u001b[38;5;28mlen\u001b[39m(scheduled_stop_times)\n\u001b[1;32m      4\u001b[0m expected_unique_rows \u001b[38;5;241m=\u001b[39m \u001b[38;5;28mlen\u001b[39m(scheduled_stop_times[trip_stop_cols]\u001b[38;5;241m.\u001b[39mdrop_duplicates())\n\u001b[0;32m----> 6\u001b[0m \u001b[38;5;28;01massert\u001b[39;00m n_rows \u001b[38;5;241m==\u001b[39m expected_unique_rows \n",
      "\u001b[0;31mAssertionError\u001b[0m: "
     ]
    }
   ],
   "source": [
    "trip_stop_cols = [\"trip_instance_key\", \"stop_id\", \"stop_sequence\"]\n",
    "\n",
    "n_rows = len(scheduled_stop_times)\n",
    "expected_unique_rows = len(scheduled_stop_times[trip_stop_cols].drop_duplicates())\n",
    "\n",
    "assert n_rows == expected_unique_rows "
   ]
  },
  {
   "cell_type": "markdown",
   "id": "3c13d781-9ebc-464f-a9e6-9086a2d86829",
   "metadata": {},
   "source": [
    "## Investigate why there's not uniqueness of rows"
   ]
  },
  {
   "cell_type": "code",
   "execution_count": 4,
   "id": "d3bef815-dfa3-46bb-bb80-e99a6c1e2752",
   "metadata": {},
   "outputs": [
    {
     "data": {
      "text/plain": [
       "120"
      ]
     },
     "execution_count": 4,
     "metadata": {},
     "output_type": "execute_result"
    }
   ],
   "source": [
    "n_rows - expected_unique_rows"
   ]
  },
  {
   "cell_type": "code",
   "execution_count": 5,
   "id": "8b2ba568-5edf-47e4-a0de-89c3e21909ad",
   "metadata": {},
   "outputs": [
    {
     "data": {
      "text/html": [
       "<div>\n",
       "<style scoped>\n",
       "    .dataframe tbody tr th:only-of-type {\n",
       "        vertical-align: middle;\n",
       "    }\n",
       "\n",
       "    .dataframe tbody tr th {\n",
       "        vertical-align: top;\n",
       "    }\n",
       "\n",
       "    .dataframe thead th {\n",
       "        text-align: right;\n",
       "    }\n",
       "</style>\n",
       "<table border=\"1\" class=\"dataframe\">\n",
       "  <thead>\n",
       "    <tr style=\"text-align: right;\">\n",
       "      <th></th>\n",
       "      <th>trip_instance_key</th>\n",
       "      <th>stop_id</th>\n",
       "      <th>stop_sequence</th>\n",
       "      <th>geometry</th>\n",
       "      <th>stop_primary_direction</th>\n",
       "    </tr>\n",
       "  </thead>\n",
       "  <tbody>\n",
       "    <tr>\n",
       "      <th>864070</th>\n",
       "      <td>44c988a45bd7a196e569ef66b4a6b552</td>\n",
       "      <td>6573716</td>\n",
       "      <td>0</td>\n",
       "      <td>POINT (248215.002 -382920.471)</td>\n",
       "      <td>Southbound</td>\n",
       "    </tr>\n",
       "    <tr>\n",
       "      <th>864071</th>\n",
       "      <td>44c988a45bd7a196e569ef66b4a6b552</td>\n",
       "      <td>6573716</td>\n",
       "      <td>0</td>\n",
       "      <td>POINT (248215.002 -382920.471)</td>\n",
       "      <td>Unknown</td>\n",
       "    </tr>\n",
       "    <tr>\n",
       "      <th>864072</th>\n",
       "      <td>44c988a45bd7a196e569ef66b4a6b552</td>\n",
       "      <td>3118875</td>\n",
       "      <td>1</td>\n",
       "      <td>POINT (250743.139 -382426.021)</td>\n",
       "      <td>Southbound</td>\n",
       "    </tr>\n",
       "    <tr>\n",
       "      <th>864073</th>\n",
       "      <td>44c988a45bd7a196e569ef66b4a6b552</td>\n",
       "      <td>3118875</td>\n",
       "      <td>1</td>\n",
       "      <td>POINT (250743.139 -382426.021)</td>\n",
       "      <td>Eastbound</td>\n",
       "    </tr>\n",
       "    <tr>\n",
       "      <th>864074</th>\n",
       "      <td>44c988a45bd7a196e569ef66b4a6b552</td>\n",
       "      <td>4028613</td>\n",
       "      <td>1</td>\n",
       "      <td>POINT (246428.935 -422741.402)</td>\n",
       "      <td>Southbound</td>\n",
       "    </tr>\n",
       "    <tr>\n",
       "      <th>...</th>\n",
       "      <td>...</td>\n",
       "      <td>...</td>\n",
       "      <td>...</td>\n",
       "      <td>...</td>\n",
       "      <td>...</td>\n",
       "    </tr>\n",
       "    <tr>\n",
       "      <th>2653401</th>\n",
       "      <td>d2d28bff624c982d19050356737400d0</td>\n",
       "      <td>6573716</td>\n",
       "      <td>2</td>\n",
       "      <td>POINT (248215.002 -382920.471)</td>\n",
       "      <td>Northbound</td>\n",
       "    </tr>\n",
       "    <tr>\n",
       "      <th>2653402</th>\n",
       "      <td>d2d28bff624c982d19050356737400d0</td>\n",
       "      <td>3123490</td>\n",
       "      <td>2</td>\n",
       "      <td>POINT (247931.788 -431248.536)</td>\n",
       "      <td>Southbound</td>\n",
       "    </tr>\n",
       "    <tr>\n",
       "      <th>2653403</th>\n",
       "      <td>d2d28bff624c982d19050356737400d0</td>\n",
       "      <td>3123490</td>\n",
       "      <td>2</td>\n",
       "      <td>POINT (247931.788 -431248.536)</td>\n",
       "      <td>Unknown</td>\n",
       "    </tr>\n",
       "    <tr>\n",
       "      <th>2653404</th>\n",
       "      <td>d2d28bff624c982d19050356737400d0</td>\n",
       "      <td>3123082</td>\n",
       "      <td>3</td>\n",
       "      <td>POINT (249410.572 -431475.496)</td>\n",
       "      <td>Southbound</td>\n",
       "    </tr>\n",
       "    <tr>\n",
       "      <th>2653405</th>\n",
       "      <td>d2d28bff624c982d19050356737400d0</td>\n",
       "      <td>3123082</td>\n",
       "      <td>3</td>\n",
       "      <td>POINT (249410.572 -431475.496)</td>\n",
       "      <td>Eastbound</td>\n",
       "    </tr>\n",
       "  </tbody>\n",
       "</table>\n",
       "<p>240 rows × 5 columns</p>\n",
       "</div>"
      ],
      "text/plain": [
       "                        trip_instance_key  stop_id  stop_sequence  \\\n",
       "864070   44c988a45bd7a196e569ef66b4a6b552  6573716              0   \n",
       "864071   44c988a45bd7a196e569ef66b4a6b552  6573716              0   \n",
       "864072   44c988a45bd7a196e569ef66b4a6b552  3118875              1   \n",
       "864073   44c988a45bd7a196e569ef66b4a6b552  3118875              1   \n",
       "864074   44c988a45bd7a196e569ef66b4a6b552  4028613              1   \n",
       "...                                   ...      ...            ...   \n",
       "2653401  d2d28bff624c982d19050356737400d0  6573716              2   \n",
       "2653402  d2d28bff624c982d19050356737400d0  3123490              2   \n",
       "2653403  d2d28bff624c982d19050356737400d0  3123490              2   \n",
       "2653404  d2d28bff624c982d19050356737400d0  3123082              3   \n",
       "2653405  d2d28bff624c982d19050356737400d0  3123082              3   \n",
       "\n",
       "                               geometry stop_primary_direction  \n",
       "864070   POINT (248215.002 -382920.471)             Southbound  \n",
       "864071   POINT (248215.002 -382920.471)                Unknown  \n",
       "864072   POINT (250743.139 -382426.021)             Southbound  \n",
       "864073   POINT (250743.139 -382426.021)              Eastbound  \n",
       "864074   POINT (246428.935 -422741.402)             Southbound  \n",
       "...                                 ...                    ...  \n",
       "2653401  POINT (248215.002 -382920.471)             Northbound  \n",
       "2653402  POINT (247931.788 -431248.536)             Southbound  \n",
       "2653403  POINT (247931.788 -431248.536)                Unknown  \n",
       "2653404  POINT (249410.572 -431475.496)             Southbound  \n",
       "2653405  POINT (249410.572 -431475.496)              Eastbound  \n",
       "\n",
       "[240 rows x 5 columns]"
      ]
     },
     "execution_count": 5,
     "metadata": {},
     "output_type": "execute_result"
    }
   ],
   "source": [
    "scheduled_stop_times[\n",
    "    scheduled_stop_times.duplicated(subset=trip_stop_cols, \n",
    "                                    keep=False)]"
   ]
  },
  {
   "cell_type": "code",
   "execution_count": 6,
   "id": "deacadab-d329-498c-bc79-560da9afc126",
   "metadata": {},
   "outputs": [
    {
     "data": {
      "text/html": [
       "<div>\n",
       "<style scoped>\n",
       "    .dataframe tbody tr th:only-of-type {\n",
       "        vertical-align: middle;\n",
       "    }\n",
       "\n",
       "    .dataframe tbody tr th {\n",
       "        vertical-align: top;\n",
       "    }\n",
       "\n",
       "    .dataframe thead th {\n",
       "        text-align: right;\n",
       "    }\n",
       "</style>\n",
       "<table border=\"1\" class=\"dataframe\">\n",
       "  <thead>\n",
       "    <tr style=\"text-align: right;\">\n",
       "      <th></th>\n",
       "      <th>feed_key</th>\n",
       "      <th>schedule_gtfs_dataset_key</th>\n",
       "      <th>name</th>\n",
       "      <th>regional_feed_type</th>\n",
       "      <th>service_date</th>\n",
       "      <th>trip_start_date_pacific</th>\n",
       "      <th>trip_id</th>\n",
       "      <th>trip_instance_key</th>\n",
       "      <th>route_key</th>\n",
       "      <th>route_id</th>\n",
       "      <th>...</th>\n",
       "      <th>route_desc</th>\n",
       "      <th>direction_id</th>\n",
       "      <th>shape_array_key</th>\n",
       "      <th>shape_id</th>\n",
       "      <th>trip_first_departure_datetime_pacific</th>\n",
       "      <th>trip_last_arrival_datetime_pacific</th>\n",
       "      <th>service_hours</th>\n",
       "      <th>trip_start_date_local_tz</th>\n",
       "      <th>trip_first_departure_datetime_local_tz</th>\n",
       "      <th>trip_last_arrival_datetime_local_tz</th>\n",
       "    </tr>\n",
       "  </thead>\n",
       "  <tbody>\n",
       "    <tr>\n",
       "      <th>0</th>\n",
       "      <td>8caabd5e9263c45f86e5bb3bbfd36c12</td>\n",
       "      <td>8eecb796518dafd3c1b971a99f8b8252</td>\n",
       "      <td>Victor Valley GMV Schedule</td>\n",
       "      <td>None</td>\n",
       "      <td>2023-09-13</td>\n",
       "      <td>2023-09-13</td>\n",
       "      <td>15102</td>\n",
       "      <td>44c988a45bd7a196e569ef66b4a6b552</td>\n",
       "      <td>ca911b413b9186fe599863322ca89b27</td>\n",
       "      <td>3220</td>\n",
       "      <td>...</td>\n",
       "      <td>Barstow - Victorville - San Bernardino</td>\n",
       "      <td>0.0</td>\n",
       "      <td>764e97bc51e230a94dac11b8f05a8b8a</td>\n",
       "      <td>19312</td>\n",
       "      <td>2023-09-13 08:00:00</td>\n",
       "      <td>2023-09-13 09:54:00</td>\n",
       "      <td>1.9</td>\n",
       "      <td>2023-09-13</td>\n",
       "      <td>2023-09-13 08:00:00</td>\n",
       "      <td>2023-09-13 09:54:00</td>\n",
       "    </tr>\n",
       "  </tbody>\n",
       "</table>\n",
       "<p>1 rows × 23 columns</p>\n",
       "</div>"
      ],
      "text/plain": [
       "                           feed_key         schedule_gtfs_dataset_key  \\\n",
       "0  8caabd5e9263c45f86e5bb3bbfd36c12  8eecb796518dafd3c1b971a99f8b8252   \n",
       "\n",
       "                         name regional_feed_type service_date  \\\n",
       "0  Victor Valley GMV Schedule               None   2023-09-13   \n",
       "\n",
       "  trip_start_date_pacific trip_id                 trip_instance_key  \\\n",
       "0              2023-09-13   15102  44c988a45bd7a196e569ef66b4a6b552   \n",
       "\n",
       "                          route_key route_id  ...  \\\n",
       "0  ca911b413b9186fe599863322ca89b27     3220  ...   \n",
       "\n",
       "                               route_desc direction_id  \\\n",
       "0  Barstow - Victorville - San Bernardino          0.0   \n",
       "\n",
       "                    shape_array_key shape_id  \\\n",
       "0  764e97bc51e230a94dac11b8f05a8b8a    19312   \n",
       "\n",
       "   trip_first_departure_datetime_pacific trip_last_arrival_datetime_pacific  \\\n",
       "0                    2023-09-13 08:00:00                2023-09-13 09:54:00   \n",
       "\n",
       "  service_hours trip_start_date_local_tz  \\\n",
       "0           1.9               2023-09-13   \n",
       "\n",
       "  trip_first_departure_datetime_local_tz  trip_last_arrival_datetime_local_tz  \n",
       "0                    2023-09-13 08:00:00                  2023-09-13 09:54:00  \n",
       "\n",
       "[1 rows x 23 columns]"
      ]
     },
     "execution_count": 6,
     "metadata": {},
     "output_type": "execute_result"
    }
   ],
   "source": [
    "one_trip = \"44c988a45bd7a196e569ef66b4a6b552\"\n",
    "\n",
    "trips = helpers.import_scheduled_trips(\n",
    "    analysis_date,\n",
    "    filters = [[(\"trip_instance_key\", \"==\", one_trip)]],\n",
    "    columns = None, # return all columns, set filtering to None\n",
    "    get_pandas = True\n",
    ")\n",
    "trips"
   ]
  },
  {
   "cell_type": "code",
   "execution_count": 7,
   "id": "4ad9646b-3ff7-43e2-bcbc-df2300224d43",
   "metadata": {},
   "outputs": [],
   "source": [
    "# Trips looks ok, so let's grab the \n",
    "# corresponding stop time entry using feed_key-trip_id\n",
    "one_trip_id = trips.trip_id.iloc[0]\n",
    "one_feed_key = trips.feed_key.iloc[0]\n",
    "\n",
    "stop_times = helpers.import_scheduled_stop_times(\n",
    "    analysis_date,\n",
    "    filters = [[(\"feed_key\", \"==\", one_feed_key), \n",
    "                (\"trip_id\", \"==\", one_trip_id )]],\n",
    "    columns = None\n",
    ").compute().sort_values(\"stop_sequence\").reset_index(drop=True)"
   ]
  },
  {
   "cell_type": "code",
   "execution_count": 8,
   "id": "f5af099f-ae4f-4ba4-b699-8800acfecc90",
   "metadata": {},
   "outputs": [
    {
     "data": {
      "text/html": [
       "<div style=\"width:100%;\"><div style=\"position:relative;width:100%;height:0;padding-bottom:60%;\"><span style=\"color:#565656\">Make this Notebook Trusted to load map: File -> Trust Notebook</span><iframe src=\"about:blank\" style=\"position:absolute;width:100%;height:100%;left:0;top:0;border:none !important;\" data-html=%3C%21DOCTYPE%20html%3E%0A%3Chead%3E%20%20%20%20%0A%20%20%20%20%3Cmeta%20http-equiv%3D%22content-type%22%20content%3D%22text/html%3B%20charset%3DUTF-8%22%20/%3E%0A%20%20%20%20%0A%20%20%20%20%20%20%20%20%3Cscript%3E%0A%20%20%20%20%20%20%20%20%20%20%20%20L_NO_TOUCH%20%3D%20false%3B%0A%20%20%20%20%20%20%20%20%20%20%20%20L_DISABLE_3D%20%3D%20false%3B%0A%20%20%20%20%20%20%20%20%3C/script%3E%0A%20%20%20%20%0A%20%20%20%20%3Cstyle%3Ehtml%2C%20body%20%7Bwidth%3A%20100%25%3Bheight%3A%20100%25%3Bmargin%3A%200%3Bpadding%3A%200%3B%7D%3C/style%3E%0A%20%20%20%20%3Cstyle%3E%23map%20%7Bposition%3Aabsolute%3Btop%3A0%3Bbottom%3A0%3Bright%3A0%3Bleft%3A0%3B%7D%3C/style%3E%0A%20%20%20%20%3Cscript%20src%3D%22https%3A//cdn.jsdelivr.net/npm/leaflet%401.6.0/dist/leaflet.js%22%3E%3C/script%3E%0A%20%20%20%20%3Cscript%20src%3D%22https%3A//code.jquery.com/jquery-1.12.4.min.js%22%3E%3C/script%3E%0A%20%20%20%20%3Cscript%20src%3D%22https%3A//maxcdn.bootstrapcdn.com/bootstrap/3.2.0/js/bootstrap.min.js%22%3E%3C/script%3E%0A%20%20%20%20%3Cscript%20src%3D%22https%3A//cdnjs.cloudflare.com/ajax/libs/Leaflet.awesome-markers/2.0.2/leaflet.awesome-markers.js%22%3E%3C/script%3E%0A%20%20%20%20%3Clink%20rel%3D%22stylesheet%22%20href%3D%22https%3A//cdn.jsdelivr.net/npm/leaflet%401.6.0/dist/leaflet.css%22/%3E%0A%20%20%20%20%3Clink%20rel%3D%22stylesheet%22%20href%3D%22https%3A//maxcdn.bootstrapcdn.com/bootstrap/3.2.0/css/bootstrap.min.css%22/%3E%0A%20%20%20%20%3Clink%20rel%3D%22stylesheet%22%20href%3D%22https%3A//maxcdn.bootstrapcdn.com/bootstrap/3.2.0/css/bootstrap-theme.min.css%22/%3E%0A%20%20%20%20%3Clink%20rel%3D%22stylesheet%22%20href%3D%22https%3A//maxcdn.bootstrapcdn.com/font-awesome/4.6.3/css/font-awesome.min.css%22/%3E%0A%20%20%20%20%3Clink%20rel%3D%22stylesheet%22%20href%3D%22https%3A//cdnjs.cloudflare.com/ajax/libs/Leaflet.awesome-markers/2.0.2/leaflet.awesome-markers.css%22/%3E%0A%20%20%20%20%3Clink%20rel%3D%22stylesheet%22%20href%3D%22https%3A//cdn.jsdelivr.net/gh/python-visualization/folium/folium/templates/leaflet.awesome.rotate.min.css%22/%3E%0A%20%20%20%20%0A%20%20%20%20%20%20%20%20%20%20%20%20%3Cmeta%20name%3D%22viewport%22%20content%3D%22width%3Ddevice-width%2C%0A%20%20%20%20%20%20%20%20%20%20%20%20%20%20%20%20initial-scale%3D1.0%2C%20maximum-scale%3D1.0%2C%20user-scalable%3Dno%22%20/%3E%0A%20%20%20%20%20%20%20%20%20%20%20%20%3Cstyle%3E%0A%20%20%20%20%20%20%20%20%20%20%20%20%20%20%20%20%23map_8ef3143f478a4619bb79f478e78b3baa%20%7B%0A%20%20%20%20%20%20%20%20%20%20%20%20%20%20%20%20%20%20%20%20position%3A%20relative%3B%0A%20%20%20%20%20%20%20%20%20%20%20%20%20%20%20%20%20%20%20%20width%3A%20100.0%25%3B%0A%20%20%20%20%20%20%20%20%20%20%20%20%20%20%20%20%20%20%20%20height%3A%20100.0%25%3B%0A%20%20%20%20%20%20%20%20%20%20%20%20%20%20%20%20%20%20%20%20left%3A%200.0%25%3B%0A%20%20%20%20%20%20%20%20%20%20%20%20%20%20%20%20%20%20%20%20top%3A%200.0%25%3B%0A%20%20%20%20%20%20%20%20%20%20%20%20%20%20%20%20%7D%0A%20%20%20%20%20%20%20%20%20%20%20%20%3C/style%3E%0A%20%20%20%20%20%20%20%20%0A%20%20%20%20%0A%20%20%20%20%20%20%20%20%20%20%20%20%20%20%20%20%20%20%20%20%3Cstyle%3E%0A%20%20%20%20%20%20%20%20%20%20%20%20%20%20%20%20%20%20%20%20%20%20%20%20.foliumtooltip%20%7B%0A%20%20%20%20%20%20%20%20%20%20%20%20%20%20%20%20%20%20%20%20%20%20%20%20%20%20%20%20%0A%20%20%20%20%20%20%20%20%20%20%20%20%20%20%20%20%20%20%20%20%20%20%20%20%7D%0A%20%20%20%20%20%20%20%20%20%20%20%20%20%20%20%20%20%20%20%20%20%20%20.foliumtooltip%20table%7B%0A%20%20%20%20%20%20%20%20%20%20%20%20%20%20%20%20%20%20%20%20%20%20%20%20%20%20%20%20margin%3A%20auto%3B%0A%20%20%20%20%20%20%20%20%20%20%20%20%20%20%20%20%20%20%20%20%20%20%20%20%7D%0A%20%20%20%20%20%20%20%20%20%20%20%20%20%20%20%20%20%20%20%20%20%20%20%20.foliumtooltip%20tr%7B%0A%20%20%20%20%20%20%20%20%20%20%20%20%20%20%20%20%20%20%20%20%20%20%20%20%20%20%20%20text-align%3A%20left%3B%0A%20%20%20%20%20%20%20%20%20%20%20%20%20%20%20%20%20%20%20%20%20%20%20%20%7D%0A%20%20%20%20%20%20%20%20%20%20%20%20%20%20%20%20%20%20%20%20%20%20%20%20.foliumtooltip%20th%7B%0A%20%20%20%20%20%20%20%20%20%20%20%20%20%20%20%20%20%20%20%20%20%20%20%20%20%20%20%20padding%3A%202px%3B%20padding-right%3A%208px%3B%0A%20%20%20%20%20%20%20%20%20%20%20%20%20%20%20%20%20%20%20%20%20%20%20%20%7D%0A%20%20%20%20%20%20%20%20%20%20%20%20%20%20%20%20%20%20%20%20%3C/style%3E%0A%20%20%20%20%20%20%20%20%20%20%20%20%0A%20%20%20%20%0A%20%20%20%20%3Cscript%20src%3D%22https%3A//code.jquery.com/ui/1.12.1/jquery-ui.js%22%3E%3C/script%3E%0A%20%20%20%20%3Cscript%3E%24%28%20function%28%29%20%7B%0A%20%20%20%20%20%20%20%20%24%28%20%22.maplegend%22%20%29.draggable%28%7B%0A%20%20%20%20%20%20%20%20%20%20%20%20start%3A%20function%20%28event%2C%20ui%29%20%7B%0A%20%20%20%20%20%20%20%20%20%20%20%20%20%20%20%20%24%28this%29.css%28%7B%0A%20%20%20%20%20%20%20%20%20%20%20%20%20%20%20%20%20%20%20%20right%3A%20%22auto%22%2C%0A%20%20%20%20%20%20%20%20%20%20%20%20%20%20%20%20%20%20%20%20top%3A%20%22auto%22%2C%0A%20%20%20%20%20%20%20%20%20%20%20%20%20%20%20%20%20%20%20%20bottom%3A%20%22auto%22%0A%20%20%20%20%20%20%20%20%20%20%20%20%20%20%20%20%7D%29%3B%0A%20%20%20%20%20%20%20%20%20%20%20%20%7D%0A%20%20%20%20%20%20%20%20%7D%29%3B%0A%20%20%20%20%7D%29%3B%0A%20%20%20%20%3C/script%3E%0A%20%20%20%20%3Cstyle%20type%3D%27text/css%27%3E%0A%20%20%20%20%20%20.maplegend%20%7B%0A%20%20%20%20%20%20%20%20position%3A%20absolute%3B%0A%20%20%20%20%20%20%20%20z-index%3A9999%3B%0A%20%20%20%20%20%20%20%20background-color%3A%20rgba%28255%2C%20255%2C%20255%2C%20.8%29%3B%0A%20%20%20%20%20%20%20%20border-radius%3A%205px%3B%0A%20%20%20%20%20%20%20%20box-shadow%3A%200%200%2015px%20rgba%280%2C0%2C0%2C0.2%29%3B%0A%20%20%20%20%20%20%20%20padding%3A%2010px%3B%0A%20%20%20%20%20%20%20%20font%3A%2012px/14px%20Arial%2C%20Helvetica%2C%20sans-serif%3B%0A%20%20%20%20%20%20%20%20right%3A%2010px%3B%0A%20%20%20%20%20%20%20%20bottom%3A%2020px%3B%0A%20%20%20%20%20%20%7D%0A%20%20%20%20%20%20.maplegend%20.legend-title%20%7B%0A%20%20%20%20%20%20%20%20text-align%3A%20left%3B%0A%20%20%20%20%20%20%20%20margin-bottom%3A%205px%3B%0A%20%20%20%20%20%20%20%20font-weight%3A%20bold%3B%0A%20%20%20%20%20%20%20%20%7D%0A%20%20%20%20%20%20.maplegend%20.legend-scale%20ul%20%7B%0A%20%20%20%20%20%20%20%20margin%3A%200%3B%0A%20%20%20%20%20%20%20%20margin-bottom%3A%200px%3B%0A%20%20%20%20%20%20%20%20padding%3A%200%3B%0A%20%20%20%20%20%20%20%20float%3A%20left%3B%0A%20%20%20%20%20%20%20%20list-style%3A%20none%3B%0A%20%20%20%20%20%20%20%20%7D%0A%20%20%20%20%20%20.maplegend%20.legend-scale%20ul%20li%20%7B%0A%20%20%20%20%20%20%20%20list-style%3A%20none%3B%0A%20%20%20%20%20%20%20%20margin-left%3A%200%3B%0A%20%20%20%20%20%20%20%20line-height%3A%2016px%3B%0A%20%20%20%20%20%20%20%20margin-bottom%3A%202px%3B%0A%20%20%20%20%20%20%20%20%7D%0A%20%20%20%20%20%20.maplegend%20ul.legend-labels%20li%20span%20%7B%0A%20%20%20%20%20%20%20%20display%3A%20block%3B%0A%20%20%20%20%20%20%20%20float%3A%20left%3B%0A%20%20%20%20%20%20%20%20height%3A%2014px%3B%0A%20%20%20%20%20%20%20%20width%3A%2014px%3B%0A%20%20%20%20%20%20%20%20margin-right%3A%205px%3B%0A%20%20%20%20%20%20%20%20margin-left%3A%200%3B%0A%20%20%20%20%20%20%20%20border%3A%200px%20solid%20%23ccc%3B%0A%20%20%20%20%20%20%20%20%7D%0A%20%20%20%20%20%20.maplegend%20.legend-source%20%7B%0A%20%20%20%20%20%20%20%20color%3A%20%23777%3B%0A%20%20%20%20%20%20%20%20clear%3A%20both%3B%0A%20%20%20%20%20%20%20%20%7D%0A%20%20%20%20%20%20.maplegend%20a%20%7B%0A%20%20%20%20%20%20%20%20color%3A%20%23777%3B%0A%20%20%20%20%20%20%20%20%7D%0A%20%20%20%20%3C/style%3E%0A%20%20%20%20%0A%3C/head%3E%0A%3Cbody%3E%20%20%20%20%0A%20%20%20%20%0A%20%20%20%20%3Cdiv%20id%3D%27maplegend%20stop_sequence%27%20class%3D%27maplegend%27%3E%0A%20%20%20%20%20%20%20%20%3Cdiv%20class%3D%27legend-title%27%3Estop_sequence%3C/div%3E%0A%20%20%20%20%20%20%20%20%3Cdiv%20class%3D%27legend-scale%27%3E%0A%20%20%20%20%20%20%20%20%20%20%20%20%3Cul%20class%3D%27legend-labels%27%3E%0A%20%20%20%20%20%20%20%20%20%20%20%20%20%20%20%20%3Cli%3E%3Cspan%20style%3D%27background%3A%231f77b4%27%3E%3C/span%3E0%3C/li%3E%0A%20%20%20%20%20%20%20%20%20%20%20%20%20%20%20%20%3Cli%3E%3Cspan%20style%3D%27background%3A%23d62728%27%3E%3C/span%3E1%3C/li%3E%0A%20%20%20%20%20%20%20%20%20%20%20%20%20%20%20%20%3Cli%3E%3Cspan%20style%3D%27background%3A%23f7b6d2%27%3E%3C/span%3E2%3C/li%3E%0A%20%20%20%20%20%20%20%20%20%20%20%20%20%20%20%20%3Cli%3E%3Cspan%20style%3D%27background%3A%239edae5%27%3E%3C/span%3E3%3C/li%3E%0A%20%20%20%20%20%20%20%20%20%20%20%20%3C/ul%3E%0A%20%20%20%20%20%20%20%20%3C/div%3E%0A%20%20%20%20%3C/div%3E%0A%20%20%20%20%0A%20%20%20%20%0A%20%20%20%20%20%20%20%20%20%20%20%20%3Cdiv%20class%3D%22folium-map%22%20id%3D%22map_8ef3143f478a4619bb79f478e78b3baa%22%20%3E%3C/div%3E%0A%20%20%20%20%20%20%20%20%0A%3C/body%3E%0A%3Cscript%3E%20%20%20%20%0A%20%20%20%20%0A%20%20%20%20%20%20%20%20%20%20%20%20var%20map_8ef3143f478a4619bb79f478e78b3baa%20%3D%20L.map%28%0A%20%20%20%20%20%20%20%20%20%20%20%20%20%20%20%20%22map_8ef3143f478a4619bb79f478e78b3baa%22%2C%0A%20%20%20%20%20%20%20%20%20%20%20%20%20%20%20%20%7B%0A%20%20%20%20%20%20%20%20%20%20%20%20%20%20%20%20%20%20%20%20center%3A%20%5B34.496723%2C%20-117.1756805%5D%2C%0A%20%20%20%20%20%20%20%20%20%20%20%20%20%20%20%20%20%20%20%20crs%3A%20L.CRS.EPSG3857%2C%0A%20%20%20%20%20%20%20%20%20%20%20%20%20%20%20%20%20%20%20%20zoom%3A%2010%2C%0A%20%20%20%20%20%20%20%20%20%20%20%20%20%20%20%20%20%20%20%20zoomControl%3A%20true%2C%0A%20%20%20%20%20%20%20%20%20%20%20%20%20%20%20%20%20%20%20%20preferCanvas%3A%20false%2C%0A%20%20%20%20%20%20%20%20%20%20%20%20%20%20%20%20%7D%0A%20%20%20%20%20%20%20%20%20%20%20%20%29%3B%0A%20%20%20%20%20%20%20%20%20%20%20%20L.control.scale%28%29.addTo%28map_8ef3143f478a4619bb79f478e78b3baa%29%3B%0A%0A%20%20%20%20%20%20%20%20%20%20%20%20%0A%0A%20%20%20%20%20%20%20%20%0A%20%20%20%20%0A%20%20%20%20%20%20%20%20%20%20%20%20var%20tile_layer_a4fd6e8cb1ff4889b70cfeed035f4e26%20%3D%20L.tileLayer%28%0A%20%20%20%20%20%20%20%20%20%20%20%20%20%20%20%20%22https%3A//a.basemaps.cartocdn.com/light_all/%7Bz%7D/%7Bx%7D/%7By%7D%7Br%7D.png%22%2C%0A%20%20%20%20%20%20%20%20%20%20%20%20%20%20%20%20%7B%22attribution%22%3A%20%22%5Cu0026copy%3B%20%5Cu003ca%20href%3D%5C%22https%3A//www.openstreetmap.org/copyright%5C%22%5Cu003eOpenStreetMap%5Cu003c/a%5Cu003e%20contributors%20%5Cu0026copy%3B%20%5Cu003ca%20href%3D%5C%22https%3A//carto.com/attributions%5C%22%5Cu003eCARTO%5Cu003c/a%5Cu003e%22%2C%20%22detectRetina%22%3A%20false%2C%20%22maxNativeZoom%22%3A%2020%2C%20%22maxZoom%22%3A%2020%2C%20%22minZoom%22%3A%200%2C%20%22noWrap%22%3A%20false%2C%20%22opacity%22%3A%201%2C%20%22subdomains%22%3A%20%22abc%22%2C%20%22tms%22%3A%20false%7D%0A%20%20%20%20%20%20%20%20%20%20%20%20%29.addTo%28map_8ef3143f478a4619bb79f478e78b3baa%29%3B%0A%20%20%20%20%20%20%20%20%0A%20%20%20%20%0A%20%20%20%20%20%20%20%20%20%20%20%20map_8ef3143f478a4619bb79f478e78b3baa.fitBounds%28%0A%20%20%20%20%20%20%20%20%20%20%20%20%20%20%20%20%5B%5B34.10038200000003%2C%20-117.326137%5D%2C%20%5B34.89306399999998%2C%20-117.025224%5D%5D%2C%0A%20%20%20%20%20%20%20%20%20%20%20%20%20%20%20%20%7B%7D%0A%20%20%20%20%20%20%20%20%20%20%20%20%29%3B%0A%20%20%20%20%20%20%20%20%0A%20%20%20%20%0A%20%20%20%20%20%20%20%20function%20geo_json_27f1984b1e1a42beba0848a4c80620a9_styler%28feature%29%20%7B%0A%20%20%20%20%20%20%20%20%20%20%20%20switch%28feature.id%29%20%7B%0A%20%20%20%20%20%20%20%20%20%20%20%20%20%20%20%20case%20%22864069%22%3A%20case%20%22864070%22%3A%20case%20%22864071%22%3A%20%0A%20%20%20%20%20%20%20%20%20%20%20%20%20%20%20%20%20%20%20%20return%20%7B%22color%22%3A%20%22%231f77b4%22%2C%20%22fillColor%22%3A%20%22%231f77b4%22%2C%20%22fillOpacity%22%3A%200.5%2C%20%22weight%22%3A%202%7D%3B%0A%20%20%20%20%20%20%20%20%20%20%20%20%20%20%20%20case%20%22864072%22%3A%20case%20%22864073%22%3A%20case%20%22864074%22%3A%20case%20%22864075%22%3A%20%0A%20%20%20%20%20%20%20%20%20%20%20%20%20%20%20%20%20%20%20%20return%20%7B%22color%22%3A%20%22%23d62728%22%2C%20%22fillColor%22%3A%20%22%23d62728%22%2C%20%22fillOpacity%22%3A%200.5%2C%20%22weight%22%3A%202%7D%3B%0A%20%20%20%20%20%20%20%20%20%20%20%20%20%20%20%20case%20%22864080%22%3A%20case%20%22864081%22%3A%20%0A%20%20%20%20%20%20%20%20%20%20%20%20%20%20%20%20%20%20%20%20return%20%7B%22color%22%3A%20%22%239edae5%22%2C%20%22fillColor%22%3A%20%22%239edae5%22%2C%20%22fillOpacity%22%3A%200.5%2C%20%22weight%22%3A%202%7D%3B%0A%20%20%20%20%20%20%20%20%20%20%20%20%20%20%20%20default%3A%0A%20%20%20%20%20%20%20%20%20%20%20%20%20%20%20%20%20%20%20%20return%20%7B%22color%22%3A%20%22%23f7b6d2%22%2C%20%22fillColor%22%3A%20%22%23f7b6d2%22%2C%20%22fillOpacity%22%3A%200.5%2C%20%22weight%22%3A%202%7D%3B%0A%20%20%20%20%20%20%20%20%20%20%20%20%7D%0A%20%20%20%20%20%20%20%20%7D%0A%20%20%20%20%20%20%20%20function%20geo_json_27f1984b1e1a42beba0848a4c80620a9_highlighter%28feature%29%20%7B%0A%20%20%20%20%20%20%20%20%20%20%20%20switch%28feature.id%29%20%7B%0A%20%20%20%20%20%20%20%20%20%20%20%20%20%20%20%20default%3A%0A%20%20%20%20%20%20%20%20%20%20%20%20%20%20%20%20%20%20%20%20return%20%7B%22fillOpacity%22%3A%200.75%7D%3B%0A%20%20%20%20%20%20%20%20%20%20%20%20%7D%0A%20%20%20%20%20%20%20%20%7D%0A%20%20%20%20%20%20%20%20function%20geo_json_27f1984b1e1a42beba0848a4c80620a9_pointToLayer%28feature%2C%20latlng%29%20%7B%0A%20%20%20%20%20%20%20%20%20%20%20%20var%20opts%20%3D%20%7B%22bubblingMouseEvents%22%3A%20true%2C%20%22color%22%3A%20%22%233388ff%22%2C%20%22dashArray%22%3A%20null%2C%20%22dashOffset%22%3A%20null%2C%20%22fill%22%3A%20true%2C%20%22fillColor%22%3A%20%22%233388ff%22%2C%20%22fillOpacity%22%3A%200.2%2C%20%22fillRule%22%3A%20%22evenodd%22%2C%20%22lineCap%22%3A%20%22round%22%2C%20%22lineJoin%22%3A%20%22round%22%2C%20%22opacity%22%3A%201.0%2C%20%22radius%22%3A%202%2C%20%22stroke%22%3A%20true%2C%20%22weight%22%3A%203%7D%3B%0A%20%20%20%20%20%20%20%20%20%20%20%20%0A%20%20%20%20%20%20%20%20%20%20%20%20let%20style%20%3D%20geo_json_27f1984b1e1a42beba0848a4c80620a9_styler%28feature%29%0A%20%20%20%20%20%20%20%20%20%20%20%20Object.assign%28opts%2C%20style%29%0A%20%20%20%20%20%20%20%20%20%20%20%20%0A%20%20%20%20%20%20%20%20%20%20%20%20return%20new%20L.CircleMarker%28latlng%2C%20opts%29%0A%20%20%20%20%20%20%20%20%7D%0A%0A%20%20%20%20%20%20%20%20function%20geo_json_27f1984b1e1a42beba0848a4c80620a9_onEachFeature%28feature%2C%20layer%29%20%7B%0A%20%20%20%20%20%20%20%20%20%20%20%20layer.on%28%7B%0A%20%20%20%20%20%20%20%20%20%20%20%20%20%20%20%20mouseout%3A%20function%28e%29%20%7B%0A%20%20%20%20%20%20%20%20%20%20%20%20%20%20%20%20%20%20%20%20if%28typeof%20e.target.setStyle%20%3D%3D%3D%20%22function%22%29%7B%0A%20%20%20%20%20%20%20%20%20%20%20%20%20%20%20%20%20%20%20%20%20%20%20%20geo_json_27f1984b1e1a42beba0848a4c80620a9.resetStyle%28e.target%29%3B%0A%20%20%20%20%20%20%20%20%20%20%20%20%20%20%20%20%20%20%20%20%7D%0A%20%20%20%20%20%20%20%20%20%20%20%20%20%20%20%20%7D%2C%0A%20%20%20%20%20%20%20%20%20%20%20%20%20%20%20%20mouseover%3A%20function%28e%29%20%7B%0A%20%20%20%20%20%20%20%20%20%20%20%20%20%20%20%20%20%20%20%20if%28typeof%20e.target.setStyle%20%3D%3D%3D%20%22function%22%29%7B%0A%20%20%20%20%20%20%20%20%20%20%20%20%20%20%20%20%20%20%20%20%20%20%20%20const%20highlightStyle%20%3D%20geo_json_27f1984b1e1a42beba0848a4c80620a9_highlighter%28e.target.feature%29%0A%20%20%20%20%20%20%20%20%20%20%20%20%20%20%20%20%20%20%20%20%20%20%20%20e.target.setStyle%28highlightStyle%29%3B%0A%20%20%20%20%20%20%20%20%20%20%20%20%20%20%20%20%20%20%20%20%7D%0A%20%20%20%20%20%20%20%20%20%20%20%20%20%20%20%20%7D%2C%0A%20%20%20%20%20%20%20%20%20%20%20%20%7D%29%3B%0A%20%20%20%20%20%20%20%20%7D%3B%0A%20%20%20%20%20%20%20%20var%20geo_json_27f1984b1e1a42beba0848a4c80620a9%20%3D%20L.geoJson%28null%2C%20%7B%0A%20%20%20%20%20%20%20%20%20%20%20%20%20%20%20%20onEachFeature%3A%20geo_json_27f1984b1e1a42beba0848a4c80620a9_onEachFeature%2C%0A%20%20%20%20%20%20%20%20%20%20%20%20%0A%20%20%20%20%20%20%20%20%20%20%20%20%20%20%20%20style%3A%20geo_json_27f1984b1e1a42beba0848a4c80620a9_styler%2C%0A%20%20%20%20%20%20%20%20%20%20%20%20%20%20%20%20pointToLayer%3A%20geo_json_27f1984b1e1a42beba0848a4c80620a9_pointToLayer%0A%20%20%20%20%20%20%20%20%7D%29%3B%0A%0A%20%20%20%20%20%20%20%20function%20geo_json_27f1984b1e1a42beba0848a4c80620a9_add%20%28data%29%20%7B%0A%20%20%20%20%20%20%20%20%20%20%20%20geo_json_27f1984b1e1a42beba0848a4c80620a9%0A%20%20%20%20%20%20%20%20%20%20%20%20%20%20%20%20.addData%28data%29%0A%20%20%20%20%20%20%20%20%20%20%20%20%20%20%20%20.addTo%28map_8ef3143f478a4619bb79f478e78b3baa%29%3B%0A%20%20%20%20%20%20%20%20%7D%0A%20%20%20%20%20%20%20%20%20%20%20%20geo_json_27f1984b1e1a42beba0848a4c80620a9_add%28%7B%22bbox%22%3A%20%5B-117.326137%2C%2034.10038200000003%2C%20-117.025224%2C%2034.89306399999998%5D%2C%20%22features%22%3A%20%5B%7B%22bbox%22%3A%20%5B-117.025224%2C%2034.89306399999998%2C%20-117.025224%2C%2034.89306399999998%5D%2C%20%22geometry%22%3A%20%7B%22coordinates%22%3A%20%5B-117.025224%2C%2034.89306399999998%5D%2C%20%22type%22%3A%20%22Point%22%7D%2C%20%22id%22%3A%20%22864069%22%2C%20%22properties%22%3A%20%7B%22__folium_color%22%3A%20%22%231f77b4%22%2C%20%22stop_id%22%3A%20%226106049%22%2C%20%22stop_primary_direction%22%3A%20%22Unknown%22%2C%20%22stop_sequence%22%3A%200%2C%20%22trip_instance_key%22%3A%20%2244c988a45bd7a196e569ef66b4a6b552%22%7D%2C%20%22type%22%3A%20%22Feature%22%7D%2C%20%7B%22bbox%22%3A%20%5B-117.294441%2C%2034.53810200000001%2C%20-117.294441%2C%2034.53810200000001%5D%2C%20%22geometry%22%3A%20%7B%22coordinates%22%3A%20%5B-117.294441%2C%2034.53810200000001%5D%2C%20%22type%22%3A%20%22Point%22%7D%2C%20%22id%22%3A%20%22864070%22%2C%20%22properties%22%3A%20%7B%22__folium_color%22%3A%20%22%231f77b4%22%2C%20%22stop_id%22%3A%20%226573716%22%2C%20%22stop_primary_direction%22%3A%20%22Southbound%22%2C%20%22stop_sequence%22%3A%200%2C%20%22trip_instance_key%22%3A%20%2244c988a45bd7a196e569ef66b4a6b552%22%7D%2C%20%22type%22%3A%20%22Feature%22%7D%2C%20%7B%22bbox%22%3A%20%5B-117.294441%2C%2034.53810200000001%2C%20-117.294441%2C%2034.53810200000001%5D%2C%20%22geometry%22%3A%20%7B%22coordinates%22%3A%20%5B-117.294441%2C%2034.53810200000001%5D%2C%20%22type%22%3A%20%22Point%22%7D%2C%20%22id%22%3A%20%22864071%22%2C%20%22properties%22%3A%20%7B%22__folium_color%22%3A%20%22%231f77b4%22%2C%20%22stop_id%22%3A%20%226573716%22%2C%20%22stop_primary_direction%22%3A%20%22Unknown%22%2C%20%22stop_sequence%22%3A%200%2C%20%22trip_instance_key%22%3A%20%2244c988a45bd7a196e569ef66b4a6b552%22%7D%2C%20%22type%22%3A%20%22Feature%22%7D%2C%20%7B%22bbox%22%3A%20%5B-117.266744%2C%2034.54190200000002%2C%20-117.266744%2C%2034.54190200000002%5D%2C%20%22geometry%22%3A%20%7B%22coordinates%22%3A%20%5B-117.266744%2C%2034.54190200000002%5D%2C%20%22type%22%3A%20%22Point%22%7D%2C%20%22id%22%3A%20%22864072%22%2C%20%22properties%22%3A%20%7B%22__folium_color%22%3A%20%22%23d62728%22%2C%20%22stop_id%22%3A%20%223118875%22%2C%20%22stop_primary_direction%22%3A%20%22Southbound%22%2C%20%22stop_sequence%22%3A%201%2C%20%22trip_instance_key%22%3A%20%2244c988a45bd7a196e569ef66b4a6b552%22%7D%2C%20%22type%22%3A%20%22Feature%22%7D%2C%20%7B%22bbox%22%3A%20%5B-117.266744%2C%2034.54190200000002%2C%20-117.266744%2C%2034.54190200000002%5D%2C%20%22geometry%22%3A%20%7B%22coordinates%22%3A%20%5B-117.266744%2C%2034.54190200000002%5D%2C%20%22type%22%3A%20%22Point%22%7D%2C%20%22id%22%3A%20%22864073%22%2C%20%22properties%22%3A%20%7B%22__folium_color%22%3A%20%22%23d62728%22%2C%20%22stop_id%22%3A%20%223118875%22%2C%20%22stop_primary_direction%22%3A%20%22Eastbound%22%2C%20%22stop_sequence%22%3A%201%2C%20%22trip_instance_key%22%3A%20%2244c988a45bd7a196e569ef66b4a6b552%22%7D%2C%20%22type%22%3A%20%22Feature%22%7D%2C%20%7B%22bbox%22%3A%20%5B-117.326137%2C%2034.17984099999998%2C%20-117.326137%2C%2034.17984099999998%5D%2C%20%22geometry%22%3A%20%7B%22coordinates%22%3A%20%5B-117.326137%2C%2034.17984099999998%5D%2C%20%22type%22%3A%20%22Point%22%7D%2C%20%22id%22%3A%20%22864074%22%2C%20%22properties%22%3A%20%7B%22__folium_color%22%3A%20%22%23d62728%22%2C%20%22stop_id%22%3A%20%224028613%22%2C%20%22stop_primary_direction%22%3A%20%22Southbound%22%2C%20%22stop_sequence%22%3A%201%2C%20%22trip_instance_key%22%3A%20%2244c988a45bd7a196e569ef66b4a6b552%22%7D%2C%20%22type%22%3A%20%22Feature%22%7D%2C%20%7B%22bbox%22%3A%20%5B-117.326137%2C%2034.17984099999998%2C%20-117.326137%2C%2034.17984099999998%5D%2C%20%22geometry%22%3A%20%7B%22coordinates%22%3A%20%5B-117.326137%2C%2034.17984099999998%5D%2C%20%22type%22%3A%20%22Point%22%7D%2C%20%22id%22%3A%20%22864075%22%2C%20%22properties%22%3A%20%7B%22__folium_color%22%3A%20%22%23d62728%22%2C%20%22stop_id%22%3A%20%224028613%22%2C%20%22stop_primary_direction%22%3A%20%22Unknown%22%2C%20%22stop_sequence%22%3A%201%2C%20%22trip_instance_key%22%3A%20%2244c988a45bd7a196e569ef66b4a6b552%22%7D%2C%20%22type%22%3A%20%22Feature%22%7D%2C%20%7B%22bbox%22%3A%20%5B-117.294441%2C%2034.53810200000001%2C%20-117.294441%2C%2034.53810200000001%5D%2C%20%22geometry%22%3A%20%7B%22coordinates%22%3A%20%5B-117.294441%2C%2034.53810200000001%5D%2C%20%22type%22%3A%20%22Point%22%7D%2C%20%22id%22%3A%20%22864076%22%2C%20%22properties%22%3A%20%7B%22__folium_color%22%3A%20%22%23f7b6d2%22%2C%20%22stop_id%22%3A%20%226573716%22%2C%20%22stop_primary_direction%22%3A%20%22Westbound%22%2C%20%22stop_sequence%22%3A%202%2C%20%22trip_instance_key%22%3A%20%2244c988a45bd7a196e569ef66b4a6b552%22%7D%2C%20%22type%22%3A%20%22Feature%22%7D%2C%20%7B%22bbox%22%3A%20%5B-117.294441%2C%2034.53810200000001%2C%20-117.294441%2C%2034.53810200000001%5D%2C%20%22geometry%22%3A%20%7B%22coordinates%22%3A%20%5B-117.294441%2C%2034.53810200000001%5D%2C%20%22type%22%3A%20%22Point%22%7D%2C%20%22id%22%3A%20%22864077%22%2C%20%22properties%22%3A%20%7B%22__folium_color%22%3A%20%22%23f7b6d2%22%2C%20%22stop_id%22%3A%20%226573716%22%2C%20%22stop_primary_direction%22%3A%20%22Northbound%22%2C%20%22stop_sequence%22%3A%202%2C%20%22trip_instance_key%22%3A%20%2244c988a45bd7a196e569ef66b4a6b552%22%7D%2C%20%22type%22%3A%20%22Feature%22%7D%2C%20%7B%22bbox%22%3A%20%5B-117.312455%2C%2034.10280599999996%2C%20-117.312455%2C%2034.10280599999996%5D%2C%20%22geometry%22%3A%20%7B%22coordinates%22%3A%20%5B-117.312455%2C%2034.10280599999996%5D%2C%20%22type%22%3A%20%22Point%22%7D%2C%20%22id%22%3A%20%22864078%22%2C%20%22properties%22%3A%20%7B%22__folium_color%22%3A%20%22%23f7b6d2%22%2C%20%22stop_id%22%3A%20%223123490%22%2C%20%22stop_primary_direction%22%3A%20%22Southbound%22%2C%20%22stop_sequence%22%3A%202%2C%20%22trip_instance_key%22%3A%20%2244c988a45bd7a196e569ef66b4a6b552%22%7D%2C%20%22type%22%3A%20%22Feature%22%7D%2C%20%7B%22bbox%22%3A%20%5B-117.312455%2C%2034.10280599999996%2C%20-117.312455%2C%2034.10280599999996%5D%2C%20%22geometry%22%3A%20%7B%22coordinates%22%3A%20%5B-117.312455%2C%2034.10280599999996%5D%2C%20%22type%22%3A%20%22Point%22%7D%2C%20%22id%22%3A%20%22864079%22%2C%20%22properties%22%3A%20%7B%22__folium_color%22%3A%20%22%23f7b6d2%22%2C%20%22stop_id%22%3A%20%223123490%22%2C%20%22stop_primary_direction%22%3A%20%22Unknown%22%2C%20%22stop_sequence%22%3A%202%2C%20%22trip_instance_key%22%3A%20%2244c988a45bd7a196e569ef66b4a6b552%22%7D%2C%20%22type%22%3A%20%22Feature%22%7D%2C%20%7B%22bbox%22%3A%20%5B-117.296504%2C%2034.10038200000003%2C%20-117.296504%2C%2034.10038200000003%5D%2C%20%22geometry%22%3A%20%7B%22coordinates%22%3A%20%5B-117.296504%2C%2034.10038200000003%5D%2C%20%22type%22%3A%20%22Point%22%7D%2C%20%22id%22%3A%20%22864080%22%2C%20%22properties%22%3A%20%7B%22__folium_color%22%3A%20%22%239edae5%22%2C%20%22stop_id%22%3A%20%223123082%22%2C%20%22stop_primary_direction%22%3A%20%22Southbound%22%2C%20%22stop_sequence%22%3A%203%2C%20%22trip_instance_key%22%3A%20%2244c988a45bd7a196e569ef66b4a6b552%22%7D%2C%20%22type%22%3A%20%22Feature%22%7D%2C%20%7B%22bbox%22%3A%20%5B-117.296504%2C%2034.10038200000003%2C%20-117.296504%2C%2034.10038200000003%5D%2C%20%22geometry%22%3A%20%7B%22coordinates%22%3A%20%5B-117.296504%2C%2034.10038200000003%5D%2C%20%22type%22%3A%20%22Point%22%7D%2C%20%22id%22%3A%20%22864081%22%2C%20%22properties%22%3A%20%7B%22__folium_color%22%3A%20%22%239edae5%22%2C%20%22stop_id%22%3A%20%223123082%22%2C%20%22stop_primary_direction%22%3A%20%22Eastbound%22%2C%20%22stop_sequence%22%3A%203%2C%20%22trip_instance_key%22%3A%20%2244c988a45bd7a196e569ef66b4a6b552%22%7D%2C%20%22type%22%3A%20%22Feature%22%7D%5D%2C%20%22type%22%3A%20%22FeatureCollection%22%7D%29%3B%0A%0A%20%20%20%20%20%20%20%20%0A%20%20%20%20%0A%20%20%20%20geo_json_27f1984b1e1a42beba0848a4c80620a9.bindTooltip%28%0A%20%20%20%20function%28layer%29%7B%0A%20%20%20%20let%20div%20%3D%20L.DomUtil.create%28%27div%27%29%3B%0A%20%20%20%20%0A%20%20%20%20let%20handleObject%20%3D%20feature%3D%3Etypeof%28feature%29%3D%3D%27object%27%20%3F%20JSON.stringify%28feature%29%20%3A%20feature%3B%0A%20%20%20%20let%20fields%20%3D%20%5B%22trip_instance_key%22%2C%20%22stop_id%22%2C%20%22stop_sequence%22%2C%20%22stop_primary_direction%22%5D%3B%0A%20%20%20%20let%20aliases%20%3D%20%5B%22trip_instance_key%22%2C%20%22stop_id%22%2C%20%22stop_sequence%22%2C%20%22stop_primary_direction%22%5D%3B%0A%20%20%20%20let%20table%20%3D%20%27%3Ctable%3E%27%20%2B%0A%20%20%20%20%20%20%20%20String%28%0A%20%20%20%20%20%20%20%20fields.map%28%0A%20%20%20%20%20%20%20%20%28v%2Ci%29%3D%3E%0A%20%20%20%20%20%20%20%20%60%3Ctr%3E%0A%20%20%20%20%20%20%20%20%20%20%20%20%3Cth%3E%24%7Baliases%5Bi%5D%7D%3C/th%3E%0A%20%20%20%20%20%20%20%20%20%20%20%20%0A%20%20%20%20%20%20%20%20%20%20%20%20%3Ctd%3E%24%7BhandleObject%28layer.feature.properties%5Bv%5D%29%7D%3C/td%3E%0A%20%20%20%20%20%20%20%20%3C/tr%3E%60%29.join%28%27%27%29%29%0A%20%20%20%20%2B%27%3C/table%3E%27%3B%0A%20%20%20%20div.innerHTML%3Dtable%3B%0A%20%20%20%20%0A%20%20%20%20return%20div%0A%20%20%20%20%7D%0A%20%20%20%20%2C%7B%22className%22%3A%20%22foliumtooltip%22%2C%20%22sticky%22%3A%20true%7D%29%3B%0A%20%20%20%20%20%20%20%20%20%20%20%20%20%20%20%20%20%20%20%20%20%0A%3C/script%3E onload=\"this.contentDocument.open();this.contentDocument.write(    decodeURIComponent(this.getAttribute('data-html')));this.contentDocument.close();\" allowfullscreen webkitallowfullscreen mozallowfullscreen></iframe></div></div>"
      ],
      "text/plain": [
       "<folium.folium.Map at 0x7f7f9d2660a0>"
      ]
     },
     "execution_count": 8,
     "metadata": {},
     "output_type": "execute_result"
    }
   ],
   "source": [
    "# Plot these on a map\n",
    "scheduled_stop_times[\n",
    "    scheduled_stop_times.trip_instance_key==one_trip\n",
    "].explore(\"stop_sequence\", \n",
    "          tiles = \"CartoDB Positron\",\n",
    "          categorical = True\n",
    "         )"
   ]
  },
  {
   "cell_type": "code",
   "execution_count": null,
   "id": "c13cfe7b-2a90-4f21-8791-af38f910d2e2",
   "metadata": {},
   "outputs": [],
   "source": []
  }
 ],
 "metadata": {
  "kernelspec": {
   "display_name": "Python 3 (ipykernel)",
   "language": "python",
   "name": "python3"
  },
  "language_info": {
   "codemirror_mode": {
    "name": "ipython",
    "version": 3
   },
   "file_extension": ".py",
   "mimetype": "text/x-python",
   "name": "python",
   "nbconvert_exporter": "python",
   "pygments_lexer": "ipython3",
   "version": "3.9.13"
  }
 },
 "nbformat": 4,
 "nbformat_minor": 5
}
