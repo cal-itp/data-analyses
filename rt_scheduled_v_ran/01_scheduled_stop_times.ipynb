{
 "cells": [
  {
   "cell_type": "markdown",
   "id": "2cfc1408-1367-4ed0-b2e9-388da9c1f99a",
   "metadata": {},
   "source": [
    "# Sanity check: `scheduled_stop_times` \n",
    "* Check that every row is a unique combo of `trip_instance_key-stop_id-stop_sequence`\n",
    "* Spot check a couple of stops to make sure `stop_primary_direction` is behaving the way we expect.\n",
    "   * Esp since `dd.map_partitions` uses `align_dataframes = False`"
   ]
  },
  {
   "cell_type": "code",
   "execution_count": null,
   "id": "bf867567-ec40-47a0-8938-f0b8382fcd43",
   "metadata": {},
   "outputs": [],
   "source": [
    "import dask.dataframe as dd\n",
    "import geopandas as gpd\n",
    "import pandas as pd\n",
    "\n",
    "from segment_speed_utils import helpers\n",
    "from segment_speed_utils.project_vars import SEGMENT_GCS, RT_SCHED_GCS\n",
    "from shared_utils import rt_dates\n",
    "\n",
    "analysis_date = rt_dates.DATES[\"sep2023\"]"
   ]
  },
  {
   "cell_type": "code",
   "execution_count": null,
   "id": "fd11f4d2-2cdd-42b7-9030-f9e699b4dcfa",
   "metadata": {},
   "outputs": [],
   "source": [
    "scheduled_stop_times = gpd.read_parquet(\n",
    "    f\"{RT_SCHED_GCS}stop_times_direction_{analysis_date}.parquet\",\n",
    "    columns = [\"trip_instance_key\", \n",
    "               \"stop_id\", \"stop_sequence\", \n",
    "               \"geometry\",\n",
    "               \"stop_primary_direction\"]\n",
    ")"
   ]
  },
  {
   "cell_type": "code",
   "execution_count": null,
   "id": "bdaf55b7-13c6-4b58-b187-4cead10238dc",
   "metadata": {},
   "outputs": [],
   "source": [
    "trip_stop_cols = [\"trip_instance_key\", \"stop_id\", \"stop_sequence\"]\n",
    "\n",
    "n_rows = len(scheduled_stop_times)\n",
    "expected_unique_rows = len(scheduled_stop_times[trip_stop_cols].drop_duplicates())\n",
    "\n",
    "assert n_rows == expected_unique_rows "
   ]
  },
  {
   "cell_type": "markdown",
   "id": "3c13d781-9ebc-464f-a9e6-9086a2d86829",
   "metadata": {},
   "source": [
    "## Investigate why there's not uniqueness of rows"
   ]
  },
  {
   "cell_type": "code",
   "execution_count": null,
   "id": "d3bef815-dfa3-46bb-bb80-e99a6c1e2752",
   "metadata": {},
   "outputs": [],
   "source": [
    "n_rows - expected_unique_rows"
   ]
  },
  {
   "cell_type": "code",
   "execution_count": null,
   "id": "8b2ba568-5edf-47e4-a0de-89c3e21909ad",
   "metadata": {},
   "outputs": [],
   "source": [
    "scheduled_stop_times[\n",
    "    scheduled_stop_times.duplicated(subset=trip_stop_cols, \n",
    "                                    keep=False)]"
   ]
  },
  {
   "cell_type": "code",
   "execution_count": null,
   "id": "deacadab-d329-498c-bc79-560da9afc126",
   "metadata": {},
   "outputs": [],
   "source": [
    "one_trip = \"44c988a45bd7a196e569ef66b4a6b552\"\n",
    "\n",
    "trips = helpers.import_scheduled_trips(\n",
    "    analysis_date,\n",
    "    filters = [[(\"trip_instance_key\", \"==\", one_trip)]],\n",
    "    columns = None, # return all columns, set filtering to None\n",
    "    get_pandas = True\n",
    ")\n",
    "trips"
   ]
  },
  {
   "cell_type": "code",
   "execution_count": null,
   "id": "4ad9646b-3ff7-43e2-bcbc-df2300224d43",
   "metadata": {},
   "outputs": [],
   "source": [
    "# Trips looks ok, so let's grab the \n",
    "# corresponding stop time entry using feed_key-trip_id\n",
    "one_trip_id = trips.trip_id.iloc[0]\n",
    "one_feed_key = trips.feed_key.iloc[0]\n",
    "\n",
    "stop_times = helpers.import_scheduled_stop_times(\n",
    "    analysis_date,\n",
    "    filters = [[(\"feed_key\", \"==\", one_feed_key), \n",
    "                (\"trip_id\", \"==\", one_trip_id )]],\n",
    "    columns = None\n",
    ").compute().sort_values(\"stop_sequence\").reset_index(drop=True)"
   ]
  },
  {
   "cell_type": "code",
   "execution_count": null,
   "id": "f5af099f-ae4f-4ba4-b699-8800acfecc90",
   "metadata": {},
   "outputs": [],
   "source": [
    "# Plot these on a map\n",
    "scheduled_stop_times[\n",
    "    scheduled_stop_times.trip_instance_key==one_trip\n",
    "].explore(\"stop_sequence\", \n",
    "          tiles = \"CartoDB Positron\",\n",
    "          categorical = True\n",
    "         )"
   ]
  },
  {
   "cell_type": "markdown",
   "id": "47699c33-6404-4ad6-9f3c-2c5b20293998",
   "metadata": {},
   "source": [
    "## Spot checking"
   ]
  },
  {
   "cell_type": "code",
   "execution_count": null,
   "id": "c13cfe7b-2a90-4f21-8791-af38f910d2e2",
   "metadata": {},
   "outputs": [],
   "source": [
    "ok_stop_times = scheduled_stop_times[~scheduled_stop_times.duplicated(\n",
    "    trip_stop_cols)]"
   ]
  },
  {
   "cell_type": "code",
   "execution_count": null,
   "id": "e34e70d8-abaa-4ba4-bc80-246e9c27b2cf",
   "metadata": {},
   "outputs": [],
   "source": [
    "sample_10_trips = ok_stop_times[\n",
    "    [\"trip_instance_key\"]].drop_duplicates().sample(10)"
   ]
  },
  {
   "cell_type": "code",
   "execution_count": null,
   "id": "10d8cc8a-2352-462c-b411-5ac6b6284905",
   "metadata": {},
   "outputs": [],
   "source": [
    "sample_10_trips.trip_instance_key.unique()"
   ]
  },
  {
   "cell_type": "code",
   "execution_count": null,
   "id": "80a1c73a-8bef-43f9-829d-4dfa321f7392",
   "metadata": {},
   "outputs": [],
   "source": [
    "sample_10_trips_list = ['81e873ee8252a8a0877cc983e57a6b29',\n",
    "       '6189b77fba24e1ecc69f7da11c643434',\n",
    "       '65d8444657dd5902ca05d7bda31c6922',\n",
    "       'c41dc1d746e48f2b47dbdce466c0d221',\n",
    "       '0db09e8871638928aa84611685de44bd',\n",
    "       'd276f8f018790f8bc378a785063a08ad',\n",
    "       '10a7d41d663609a4488f946d638281ad',\n",
    "       'ffee4aee8f3d7693429e7a342296b8fc',\n",
    "       '18160e8844c2870cd823587a287a8b71',\n",
    "       'd3f339b7bd23d62ff231a7c1107545f1']"
   ]
  },
  {
   "cell_type": "code",
   "execution_count": null,
   "id": "869992ae-371e-4a00-a3b5-81c8ca897be1",
   "metadata": {},
   "outputs": [],
   "source": [
    "def plot_stops_by_direction(gdf: gpd.GeoDataFrame, one_trip: str):\n",
    "    gdf2 = gdf[gdf.trip_instance_key==one_trip].reset_index(drop=True)\n",
    "    \n",
    "    print(f\"trip_instance_key: {one_trip}\")\n",
    "    \n",
    "    m = gdf2.explore(\n",
    "        \"stop_primary_direction\", \n",
    "        categorical = True,\n",
    "        tiles = \"CartoDB Positron\"\n",
    "    )\n",
    "    \n",
    "    display(m) "
   ]
  },
  {
   "cell_type": "code",
   "execution_count": null,
   "id": "cd77f70b-2c6f-4454-914b-8beb766dea64",
   "metadata": {},
   "outputs": [],
   "source": [
    "for t in sample_10_trips_list:\n",
    "    plot_stops_by_direction(ok_stop_times, t)"
   ]
  },
  {
   "cell_type": "code",
   "execution_count": null,
   "id": "26aebd15-7660-4723-a69a-a036c2a8cd9c",
   "metadata": {},
   "outputs": [],
   "source": []
  }
 ],
 "metadata": {
  "kernelspec": {
   "display_name": "Python 3 (ipykernel)",
   "language": "python",
   "name": "python3"
  },
  "language_info": {
   "codemirror_mode": {
    "name": "ipython",
    "version": 3
   },
   "file_extension": ".py",
   "mimetype": "text/x-python",
   "name": "python",
   "nbconvert_exporter": "python",
   "pygments_lexer": "ipython3",
   "version": "3.9.13"
  }
 },
 "nbformat": 4,
 "nbformat_minor": 5
}
