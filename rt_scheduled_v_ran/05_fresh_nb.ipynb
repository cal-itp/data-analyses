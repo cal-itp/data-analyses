{
 "cells": [
  {
   "cell_type": "code",
   "execution_count": 1,
   "id": "5aa8180f-9df6-4dad-a13e-7dfeb60f4fc7",
   "metadata": {},
   "outputs": [],
   "source": [
    "import pandas as pd"
   ]
  },
  {
   "cell_type": "code",
   "execution_count": 2,
   "id": "e64d4bd2-73ed-4636-9067-a459d1ead87d",
   "metadata": {},
   "outputs": [],
   "source": [
    "pd.options.display.max_columns = 100\n",
    "pd.options.display.float_format = \"{:.2f}\".format\n",
    "pd.set_option(\"display.max_rows\", None)\n",
    "pd.set_option(\"display.max_colwidth\", None)"
   ]
  },
  {
   "cell_type": "code",
   "execution_count": 3,
   "id": "aa21fe0c-de96-4747-b501-cd37ce145fd7",
   "metadata": {},
   "outputs": [],
   "source": [
    "df = pd.read_parquet('./scripts/vp_usable_metrics.parquet')"
   ]
  },
  {
   "cell_type": "code",
   "execution_count": 4,
   "id": "a569d042-c39c-4ee8-8343-1f8f30e7d337",
   "metadata": {},
   "outputs": [
    {
     "data": {
      "text/plain": [
       "(86486, 11)"
      ]
     },
     "execution_count": 4,
     "metadata": {},
     "output_type": "execute_result"
    }
   ],
   "source": [
    "df.shape"
   ]
  },
  {
   "cell_type": "code",
   "execution_count": 5,
   "id": "d5e4c8f2-5746-4f14-8bd4-31b7fdbf11bf",
   "metadata": {},
   "outputs": [
    {
     "data": {
      "text/html": [
       "<div>\n",
       "<style scoped>\n",
       "    .dataframe tbody tr th:only-of-type {\n",
       "        vertical-align: middle;\n",
       "    }\n",
       "\n",
       "    .dataframe tbody tr th {\n",
       "        vertical-align: top;\n",
       "    }\n",
       "\n",
       "    .dataframe thead th {\n",
       "        text-align: right;\n",
       "    }\n",
       "</style>\n",
       "<table border=\"1\" class=\"dataframe\">\n",
       "  <thead>\n",
       "    <tr style=\"text-align: right;\">\n",
       "      <th></th>\n",
       "      <th>trip_instance_key</th>\n",
       "      <th>minutes_w_atleast2_trip_updates</th>\n",
       "      <th>median_pings_per_min</th>\n",
       "      <th>total_minute_w_gtfs</th>\n",
       "      <th>total_trip_time</th>\n",
       "      <th>total_vp</th>\n",
       "      <th>vp_in_shape</th>\n",
       "      <th>speed_mph</th>\n",
       "      <th>route_id</th>\n",
       "      <th>time_of_day</th>\n",
       "      <th>service_minutes</th>\n",
       "    </tr>\n",
       "  </thead>\n",
       "  <tbody>\n",
       "    <tr>\n",
       "      <th>0</th>\n",
       "      <td>01d684e5d18b56f09f2eb816241b77b1</td>\n",
       "      <td>11</td>\n",
       "      <td>3.00</td>\n",
       "      <td>11</td>\n",
       "      <td>11.00</td>\n",
       "      <td>NaN</td>\n",
       "      <td>NaN</td>\n",
       "      <td>NaN</td>\n",
       "      <td>None</td>\n",
       "      <td>None</td>\n",
       "      <td>NaN</td>\n",
       "    </tr>\n",
       "    <tr>\n",
       "      <th>1</th>\n",
       "      <td>0828e4c01c7313d43981af8c2e198491</td>\n",
       "      <td>16</td>\n",
       "      <td>3.00</td>\n",
       "      <td>16</td>\n",
       "      <td>16.00</td>\n",
       "      <td>NaN</td>\n",
       "      <td>NaN</td>\n",
       "      <td>NaN</td>\n",
       "      <td>None</td>\n",
       "      <td>None</td>\n",
       "      <td>NaN</td>\n",
       "    </tr>\n",
       "    <tr>\n",
       "      <th>2</th>\n",
       "      <td>0975f532d046ada21eb55491d265ccde</td>\n",
       "      <td>46</td>\n",
       "      <td>3.00</td>\n",
       "      <td>49</td>\n",
       "      <td>53.00</td>\n",
       "      <td>NaN</td>\n",
       "      <td>NaN</td>\n",
       "      <td>NaN</td>\n",
       "      <td>None</td>\n",
       "      <td>None</td>\n",
       "      <td>NaN</td>\n",
       "    </tr>\n",
       "    <tr>\n",
       "      <th>3</th>\n",
       "      <td>0e0744f698ab90d835ab1c20f0e73818</td>\n",
       "      <td>24</td>\n",
       "      <td>3.00</td>\n",
       "      <td>25</td>\n",
       "      <td>25.00</td>\n",
       "      <td>NaN</td>\n",
       "      <td>NaN</td>\n",
       "      <td>NaN</td>\n",
       "      <td>None</td>\n",
       "      <td>None</td>\n",
       "      <td>NaN</td>\n",
       "    </tr>\n",
       "    <tr>\n",
       "      <th>4</th>\n",
       "      <td>0ecff5e49c02581abdd223ec8bcbfd23</td>\n",
       "      <td>30</td>\n",
       "      <td>3.00</td>\n",
       "      <td>33</td>\n",
       "      <td>33.00</td>\n",
       "      <td>NaN</td>\n",
       "      <td>NaN</td>\n",
       "      <td>NaN</td>\n",
       "      <td>None</td>\n",
       "      <td>None</td>\n",
       "      <td>NaN</td>\n",
       "    </tr>\n",
       "  </tbody>\n",
       "</table>\n",
       "</div>"
      ],
      "text/plain": [
       "                  trip_instance_key  minutes_w_atleast2_trip_updates  \\\n",
       "0  01d684e5d18b56f09f2eb816241b77b1                               11   \n",
       "1  0828e4c01c7313d43981af8c2e198491                               16   \n",
       "2  0975f532d046ada21eb55491d265ccde                               46   \n",
       "3  0e0744f698ab90d835ab1c20f0e73818                               24   \n",
       "4  0ecff5e49c02581abdd223ec8bcbfd23                               30   \n",
       "\n",
       "   median_pings_per_min  total_minute_w_gtfs  total_trip_time  total_vp  \\\n",
       "0                  3.00                   11            11.00       NaN   \n",
       "1                  3.00                   16            16.00       NaN   \n",
       "2                  3.00                   49            53.00       NaN   \n",
       "3                  3.00                   25            25.00       NaN   \n",
       "4                  3.00                   33            33.00       NaN   \n",
       "\n",
       "   vp_in_shape  speed_mph route_id time_of_day  service_minutes  \n",
       "0          NaN        NaN     None        None              NaN  \n",
       "1          NaN        NaN     None        None              NaN  \n",
       "2          NaN        NaN     None        None              NaN  \n",
       "3          NaN        NaN     None        None              NaN  \n",
       "4          NaN        NaN     None        None              NaN  "
      ]
     },
     "execution_count": 5,
     "metadata": {},
     "output_type": "execute_result"
    }
   ],
   "source": [
    "df.head()"
   ]
  }
 ],
 "metadata": {
  "kernelspec": {
   "display_name": "Python 3 (ipykernel)",
   "language": "python",
   "name": "python3"
  },
  "language_info": {
   "codemirror_mode": {
    "name": "ipython",
    "version": 3
   },
   "file_extension": ".py",
   "mimetype": "text/x-python",
   "name": "python",
   "nbconvert_exporter": "python",
   "pygments_lexer": "ipython3",
   "version": "3.9.13"
  }
 },
 "nbformat": 4,
 "nbformat_minor": 5
}
