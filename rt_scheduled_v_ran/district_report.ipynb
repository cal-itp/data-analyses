{
 "cells": [
  {
   "cell_type": "markdown",
   "id": "db8a41f5-0d9b-472c-a702-22ac6dac47a2",
   "metadata": {},
   "source": [
    "# Report for May 4: {District}"
   ]
  },
  {
   "cell_type": "code",
   "execution_count": 1,
   "id": "39a5a22b-abb4-4b2a-8c51-b437fc8b2920",
   "metadata": {},
   "outputs": [
    {
     "name": "stderr",
     "output_type": "stream",
     "text": [
      "/opt/conda/lib/python3.10/site-packages/geopandas/_compat.py:112: UserWarning: The Shapely GEOS version (3.10.3-CAPI-1.16.1) is incompatible with the GEOS version PyGEOS was compiled with (3.10.1-CAPI-1.16.0). Conversions between both will be slow.\n",
      "  warnings.warn(\n"
     ]
    }
   ],
   "source": [
    "import utils\n",
    "import shared_utils\n",
    "from dla_utils import _dla_utils as dla_utils\n",
    "from shared_utils import styleguide, altair_utils, portfolio_utils\n",
    "\n",
    "from siuba import *\n",
    "import pandas as pd\n",
    "\n",
    "from IPython.display import display, Markdown, HTML\n",
    "\n",
    "import altair as alt\n",
    "\n",
    "import os\n",
    "os.environ[\"CALITP_BQ_MAX_BYTES\"] = str(800_000_000_000) ## 800GB?\n",
    "\n",
    "from calitp.tables import tbl\n",
    "\n",
    "from calitp import query_sql, magics\n"
   ]
  },
  {
   "cell_type": "code",
   "execution_count": 2,
   "id": "c48b014f-c842-40fa-a7af-5c819e973c56",
   "metadata": {},
   "outputs": [],
   "source": [
    "district = '04 - Oakland'"
   ]
  },
  {
   "cell_type": "code",
   "execution_count": 3,
   "id": "80650ef5-66c7-4824-ada6-f24b427aaeb7",
   "metadata": {},
   "outputs": [],
   "source": [
    "district_short_name = 'District 4'"
   ]
  },
  {
   "cell_type": "code",
   "execution_count": 4,
   "id": "632eb2db-6122-45a6-a9bd-fe4e1a2f3561",
   "metadata": {
    "tags": []
   },
   "outputs": [],
   "source": [
    "## alternatively \n",
    "may4 = query_sql(f'''\n",
    "SELECT * FROM `cal-itp-data-infra.views.gtfs_rt_vs_schedule_trips_may4_sample`\n",
    "''')"
   ]
  },
  {
   "cell_type": "code",
   "execution_count": 5,
   "id": "9c733942-5adc-4537-9d59-3fa149b9f9d2",
   "metadata": {},
   "outputs": [],
   "source": [
    "may4['service_date'] = pd.to_datetime(may4['service_date'])\n",
    "may4['weekday'] = pd.Series(may4.service_date).dt.day_name()    \n",
    "may4['month'] =  pd.Series(may4.service_date).dt.month_name()"
   ]
  },
  {
   "cell_type": "code",
   "execution_count": 6,
   "id": "538791e7-d5dd-4a6c-a149-b4149d9f757c",
   "metadata": {},
   "outputs": [],
   "source": [
    "itpid_district = portfolio_utils.add_caltrans_district()\n",
    "may4 = pd.merge(may4, itpid_district, on='calitp_itp_id', how='left')"
   ]
  },
  {
   "cell_type": "code",
   "execution_count": 7,
   "id": "b3bff346-d24d-4675-ae17-8a150a3cc660",
   "metadata": {},
   "outputs": [],
   "source": [
    "df_all = utils.get_correct_url(may4)"
   ]
  },
  {
   "cell_type": "code",
   "execution_count": 8,
   "id": "b28ef858-4939-4eaf-b840-fd171d2b0a80",
   "metadata": {},
   "outputs": [],
   "source": [
    "## organizations with no agency names \n",
    "## probably duplicates\n",
    "#df_all>>filter(_.agency_name.isnull())>>count(_.calitp_itp_id)"
   ]
  },
  {
   "cell_type": "code",
   "execution_count": 9,
   "id": "c4b3e422-deb8-4e28-99a3-1bd0aad89a13",
   "metadata": {},
   "outputs": [],
   "source": [
    "d = df_all>>filter(_.caltrans_district== district)"
   ]
  },
  {
   "cell_type": "markdown",
   "id": "17227797-912c-4c85-8c68-8997098e70fb",
   "metadata": {},
   "source": [
    "* Note to add functions in `utils` that create these sub dataframes already for \n",
    "    * district average\n",
    "    * agency average \n",
    "    * overall average"
   ]
  },
  {
   "cell_type": "code",
   "execution_count": 10,
   "id": "473a28ce-8849-4cec-8d85-e56c00b3ca19",
   "metadata": {},
   "outputs": [],
   "source": [
    "all_dist_avg = (utils.get_agg_pct(df_all, groupings = ['caltrans_district'], sum_sched = 'num_sched', sum_vp = 'num_vp'))\n",
    "all_dist_avg['District Average'] = all_dist_avg['avg'].astype(float).map(\"{:.2%}\".format)"
   ]
  },
  {
   "cell_type": "code",
   "execution_count": 11,
   "id": "3c0d86c7-4d41-4201-9c5b-fc0ac05c9324",
   "metadata": {},
   "outputs": [
    {
     "data": {
      "text/html": [
       "<h2>District Stats</h2>"
      ],
      "text/plain": [
       "<IPython.core.display.HTML object>"
      ]
     },
     "metadata": {},
     "output_type": "display_data"
    }
   ],
   "source": [
    "display(HTML(\"<h2>District Stats</h2>\"))"
   ]
  },
  {
   "cell_type": "code",
   "execution_count": 12,
   "id": "3ea282fe-0665-43d0-99ff-61ff13e7b73e",
   "metadata": {},
   "outputs": [
    {
     "data": {
      "text/html": [
       "<style type=\"text/css\">\n",
       "#T_70f7f th {\n",
       "  text-align: center;\n",
       "}\n",
       "#T_70f7f_row0_col0, #T_70f7f_row0_col1, #T_70f7f_row1_col0, #T_70f7f_row1_col1, #T_70f7f_row2_col0, #T_70f7f_row2_col1, #T_70f7f_row3_col0, #T_70f7f_row3_col1, #T_70f7f_row4_col0, #T_70f7f_row4_col1, #T_70f7f_row5_col0, #T_70f7f_row5_col1, #T_70f7f_row6_col0, #T_70f7f_row6_col1, #T_70f7f_row7_col0, #T_70f7f_row7_col1, #T_70f7f_row8_col0, #T_70f7f_row8_col1, #T_70f7f_row9_col0, #T_70f7f_row9_col1, #T_70f7f_row10_col0, #T_70f7f_row10_col1, #T_70f7f_row11_col0, #T_70f7f_row11_col1 {\n",
       "  text-align: center;\n",
       "}\n",
       "</style>\n",
       "<table id=\"T_70f7f\">\n",
       "  <thead>\n",
       "    <tr>\n",
       "      <th id=\"T_70f7f_level0_col0\" class=\"col_heading level0 col0\" >Caltrans District</th>\n",
       "      <th id=\"T_70f7f_level0_col1\" class=\"col_heading level0 col1\" >District Average</th>\n",
       "    </tr>\n",
       "  </thead>\n",
       "  <tbody>\n",
       "    <tr>\n",
       "      <td id=\"T_70f7f_row0_col0\" class=\"data row0 col0\" >01 - Eureka</td>\n",
       "      <td id=\"T_70f7f_row0_col1\" class=\"data row0 col1\" >25.59%</td>\n",
       "    </tr>\n",
       "    <tr>\n",
       "      <td id=\"T_70f7f_row1_col0\" class=\"data row1 col0\" >02 - Redding</td>\n",
       "      <td id=\"T_70f7f_row1_col1\" class=\"data row1 col1\" >29.60%</td>\n",
       "    </tr>\n",
       "    <tr>\n",
       "      <td id=\"T_70f7f_row2_col0\" class=\"data row2 col0\" >03 - Marysville</td>\n",
       "      <td id=\"T_70f7f_row2_col1\" class=\"data row2 col1\" >4.26%</td>\n",
       "    </tr>\n",
       "    <tr>\n",
       "      <td id=\"T_70f7f_row3_col0\" class=\"data row3 col0\" >04 - Oakland</td>\n",
       "      <td id=\"T_70f7f_row3_col1\" class=\"data row3 col1\" >64.13%</td>\n",
       "    </tr>\n",
       "    <tr>\n",
       "      <td id=\"T_70f7f_row4_col0\" class=\"data row4 col0\" >05 - San Luis Obispo</td>\n",
       "      <td id=\"T_70f7f_row4_col1\" class=\"data row4 col1\" >26.97%</td>\n",
       "    </tr>\n",
       "    <tr>\n",
       "      <td id=\"T_70f7f_row5_col0\" class=\"data row5 col0\" >06 - Fresno</td>\n",
       "      <td id=\"T_70f7f_row5_col1\" class=\"data row5 col1\" >39.14%</td>\n",
       "    </tr>\n",
       "    <tr>\n",
       "      <td id=\"T_70f7f_row6_col0\" class=\"data row6 col0\" >07 - Los Angeles</td>\n",
       "      <td id=\"T_70f7f_row6_col1\" class=\"data row6 col1\" >68.81%</td>\n",
       "    </tr>\n",
       "    <tr>\n",
       "      <td id=\"T_70f7f_row7_col0\" class=\"data row7 col0\" >08 - San Bernardino</td>\n",
       "      <td id=\"T_70f7f_row7_col1\" class=\"data row7 col1\" >52.52%</td>\n",
       "    </tr>\n",
       "    <tr>\n",
       "      <td id=\"T_70f7f_row8_col0\" class=\"data row8 col0\" >09 - Bishop</td>\n",
       "      <td id=\"T_70f7f_row8_col1\" class=\"data row8 col1\" >62.90%</td>\n",
       "    </tr>\n",
       "    <tr>\n",
       "      <td id=\"T_70f7f_row9_col0\" class=\"data row9 col0\" >10 - Stockton</td>\n",
       "      <td id=\"T_70f7f_row9_col1\" class=\"data row9 col1\" >68.23%</td>\n",
       "    </tr>\n",
       "    <tr>\n",
       "      <td id=\"T_70f7f_row10_col0\" class=\"data row10 col0\" >11 - San Diego</td>\n",
       "      <td id=\"T_70f7f_row10_col1\" class=\"data row10 col1\" >95.68%</td>\n",
       "    </tr>\n",
       "    <tr>\n",
       "      <td id=\"T_70f7f_row11_col0\" class=\"data row11 col0\" >12 - Irvine</td>\n",
       "      <td id=\"T_70f7f_row11_col1\" class=\"data row11 col1\" >49.27%</td>\n",
       "    </tr>\n",
       "  </tbody>\n",
       "</table>\n"
      ],
      "text/plain": [
       "<IPython.core.display.HTML object>"
      ]
     },
     "metadata": {},
     "output_type": "display_data"
    }
   ],
   "source": [
    "display(HTML(dla_utils.pretify_tables((all_dist_avg>>select(_.caltrans_district, _['District Average'])>>filter(_.caltrans_district.notnull())>>arrange(_.caltrans_district)))))"
   ]
  },
  {
   "cell_type": "code",
   "execution_count": 13,
   "id": "7b532d3e-6086-4546-a2f5-cf03d034923e",
   "metadata": {},
   "outputs": [],
   "source": [
    "d_avg = (utils.get_agg_pct(d,\n",
    "                            groupings = ['agency_name', 'calitp_itp_id'],\n",
    "                            sum_sched = 'num_sched',\n",
    "                            sum_vp = 'num_vp'))"
   ]
  },
  {
   "cell_type": "code",
   "execution_count": 14,
   "id": "e28111c4-6e5b-4f38-99f5-e1a35d5ee013",
   "metadata": {},
   "outputs": [
    {
     "data": {
      "text/html": [
       "<h3>District 4 Scheduled Data vs Vehicle Position Data</h3>"
      ],
      "text/plain": [
       "<IPython.core.display.HTML object>"
      ]
     },
     "metadata": {},
     "output_type": "display_data"
    }
   ],
   "source": [
    "display(HTML(f\"<h3>{district_short_name} Scheduled Data vs Vehicle Position Data</h3>\"))\n"
   ]
  },
  {
   "cell_type": "code",
   "execution_count": 15,
   "id": "9f19a9c3-b7c9-4b4f-9185-c95f57a3cf84",
   "metadata": {},
   "outputs": [
    {
     "data": {
      "text/html": [
       "<strong>Agency Average Scheduled & RT Vehicle Position Data</strong>"
      ],
      "text/plain": [
       "<IPython.core.display.HTML object>"
      ]
     },
     "metadata": {},
     "output_type": "display_data"
    },
    {
     "data": {
      "text/html": [
       "\n",
       "<div id=\"altair-viz-7af06d6b7f04495284b4f835e7020dfc\"></div>\n",
       "<script type=\"text/javascript\">\n",
       "  var VEGA_DEBUG = (typeof VEGA_DEBUG == \"undefined\") ? {} : VEGA_DEBUG;\n",
       "  (function(spec, embedOpt){\n",
       "    let outputDiv = document.currentScript.previousElementSibling;\n",
       "    if (outputDiv.id !== \"altair-viz-7af06d6b7f04495284b4f835e7020dfc\") {\n",
       "      outputDiv = document.getElementById(\"altair-viz-7af06d6b7f04495284b4f835e7020dfc\");\n",
       "    }\n",
       "    const paths = {\n",
       "      \"vega\": \"https://cdn.jsdelivr.net/npm//vega@5?noext\",\n",
       "      \"vega-lib\": \"https://cdn.jsdelivr.net/npm//vega-lib?noext\",\n",
       "      \"vega-lite\": \"https://cdn.jsdelivr.net/npm//vega-lite@4.17.0?noext\",\n",
       "      \"vega-embed\": \"https://cdn.jsdelivr.net/npm//vega-embed@6?noext\",\n",
       "    };\n",
       "\n",
       "    function maybeLoadScript(lib, version) {\n",
       "      var key = `${lib.replace(\"-\", \"\")}_version`;\n",
       "      return (VEGA_DEBUG[key] == version) ?\n",
       "        Promise.resolve(paths[lib]) :\n",
       "        new Promise(function(resolve, reject) {\n",
       "          var s = document.createElement('script');\n",
       "          document.getElementsByTagName(\"head\")[0].appendChild(s);\n",
       "          s.async = true;\n",
       "          s.onload = () => {\n",
       "            VEGA_DEBUG[key] = version;\n",
       "            return resolve(paths[lib]);\n",
       "          };\n",
       "          s.onerror = () => reject(`Error loading script: ${paths[lib]}`);\n",
       "          s.src = paths[lib];\n",
       "        });\n",
       "    }\n",
       "\n",
       "    function showError(err) {\n",
       "      outputDiv.innerHTML = `<div class=\"error\" style=\"color:red;\">${err}</div>`;\n",
       "      throw err;\n",
       "    }\n",
       "\n",
       "    function displayChart(vegaEmbed) {\n",
       "      vegaEmbed(outputDiv, spec, embedOpt)\n",
       "        .catch(err => showError(`Javascript Error: ${err.message}<br>This usually means there's a typo in your chart specification. See the javascript console for the full traceback.`));\n",
       "    }\n",
       "\n",
       "    if(typeof define === \"function\" && define.amd) {\n",
       "      requirejs.config({paths});\n",
       "      require([\"vega-embed\"], displayChart, err => showError(`Error loading script: ${err.message}`));\n",
       "    } else {\n",
       "      maybeLoadScript(\"vega\", \"5\")\n",
       "        .then(() => maybeLoadScript(\"vega-lite\", \"4.17.0\"))\n",
       "        .then(() => maybeLoadScript(\"vega-embed\", \"6\"))\n",
       "        .catch(showError)\n",
       "        .then(() => displayChart(vegaEmbed));\n",
       "    }\n",
       "  })({\"config\": {\"view\": {\"continuousWidth\": 400, \"continuousHeight\": 300}}, \"data\": {\"name\": \"data-b6bc7ab80567e8929477dd6a9a0ea244\"}, \"mark\": {\"type\": \"circle\", \"size\": 60}, \"encoding\": {\"color\": {\"field\": \"agency_name\", \"type\": \"nominal\"}, \"tooltip\": [{\"field\": \"agency_name\", \"title\": \"Agency Name\", \"type\": \"nominal\"}, {\"field\": \"calitp_itp_id\", \"title\": \"Calitp Itp Id\", \"type\": \"quantitative\"}, {\"field\": \"calitp_itp_id\", \"title\": \"Calitp Itp Id\", \"type\": \"quantitative\"}], \"x\": {\"field\": \"num_sched\", \"sort\": \"x\", \"title\": \"Number of Trips with Scheduled Data\", \"type\": \"quantitative\"}, \"y\": {\"axis\": {\"format\": \"\"}, \"field\": \"num_vp\", \"title\": \"Number of Trips with Vehicle Positions Data\", \"type\": \"quantitative\"}}, \"selection\": {\"selector001\": {\"type\": \"interval\", \"bind\": \"scales\", \"encodings\": [\"x\", \"y\"]}}, \"width\": 700, \"$schema\": \"https://vega.github.io/schema/vega-lite/v4.17.0.json\", \"datasets\": {\"data-b6bc7ab80567e8929477dd6a9a0ea244\": [{\"agency_name\": \"Tri Delta Transit\", \"calitp_itp_id\": 336, \"num_sched\": 369.0, \"num_vp\": 358.0, \"avg\": 0.9701897018970189}, {\"agency_name\": null, \"calitp_itp_id\": 61, \"num_sched\": null, \"num_vp\": null, \"avg\": null}, {\"agency_name\": \"Stanford Marguerite Shuttle\", \"calitp_itp_id\": 324, \"num_sched\": 660.0, \"num_vp\": 0.0, \"avg\": 0.0}, {\"agency_name\": \"Sonoma County Transit\", \"calitp_itp_id\": 70, \"num_sched\": 251.0, \"num_vp\": 0.0, \"avg\": 0.0}, {\"agency_name\": \"Petaluma Transit\", \"calitp_itp_id\": 247, \"num_sched\": 233.0, \"num_vp\": 0.0, \"avg\": 0.0}, {\"agency_name\": \"San Francisco International Airport\", \"calitp_itp_id\": 281, \"num_sched\": 1049.0, \"num_vp\": 0.0, \"avg\": 0.0}, {\"agency_name\": \"SamTrans\", \"calitp_itp_id\": 290, \"num_sched\": 1455.0, \"num_vp\": 3.0, \"avg\": 0.002061855670103093}, {\"agency_name\": \"Union City Transit\", \"calitp_itp_id\": 350, \"num_sched\": 270.0, \"num_vp\": 124.0, \"avg\": 0.45925925925925926}, {\"agency_name\": \"Livermore Amador Valley Transit Authority\", \"calitp_itp_id\": 167, \"num_sched\": 338.0, \"num_vp\": 262.0, \"avg\": 0.7751479289940828}, {\"agency_name\": \"Mission Bay TMA\", \"calitp_itp_id\": 201, \"num_sched\": 111.0, \"num_vp\": 0.0, \"avg\": 0.0}, {\"agency_name\": \"County Connection\", \"calitp_itp_id\": 61, \"num_sched\": 922.0, \"num_vp\": 662.0, \"avg\": 0.7180043383947939}, {\"agency_name\": \"WestCat (Western Contra Costa)\", \"calitp_itp_id\": 368, \"num_sched\": 555.0, \"num_vp\": 0.0, \"avg\": 0.0}, {\"agency_name\": \"Rio Vista Delta Breeze\", \"calitp_itp_id\": 264, \"num_sched\": 8.0, \"num_vp\": 0.0, \"avg\": 0.0}, {\"agency_name\": \"VTA\", \"calitp_itp_id\": 294, \"num_sched\": 3657.0, \"num_vp\": 3560.0, \"avg\": 0.9734755263877495}, {\"agency_name\": \"Capitol Corridor Joint Powers Authority\", \"calitp_itp_id\": 56, \"num_sched\": 51.0, \"num_vp\": 0.0, \"avg\": 0.0}, {\"agency_name\": \"Sonoma County Transit\", \"calitp_itp_id\": 314, \"num_sched\": 251.0, \"num_vp\": 0.0, \"avg\": 0.0}, {\"agency_name\": \"Sonoma Marin Area Rail Transit\", \"calitp_itp_id\": 315, \"num_sched\": 26.0, \"num_vp\": 26.0, \"avg\": 1.0}, {\"agency_name\": \"Vacaville City Coach\", \"calitp_itp_id\": 356, \"num_sched\": 123.0, \"num_vp\": 0.0, \"avg\": 0.0}, {\"agency_name\": \"Golden Gate Transit\", \"calitp_itp_id\": 127, \"num_sched\": 196.0, \"num_vp\": 196.0, \"avg\": 1.0}, {\"agency_name\": \"Marin Transit\", \"calitp_itp_id\": 194, \"num_sched\": 704.0, \"num_vp\": 635.0, \"avg\": 0.9019886363636364}, {\"agency_name\": \"VINE Transit\", \"calitp_itp_id\": 218, \"num_sched\": 216.0, \"num_vp\": 182.0, \"avg\": 0.8425925925925926}, {\"agency_name\": \"Caltrain\", \"calitp_itp_id\": 246, \"num_sched\": 88.0, \"num_vp\": 68.0, \"avg\": 0.7727272727272727}, {\"agency_name\": \"Petaluma\", \"calitp_itp_id\": 247, \"num_sched\": 233.0, \"num_vp\": 158.0, \"avg\": 0.6781115879828327}, {\"agency_name\": null, \"calitp_itp_id\": 290, \"num_sched\": null, \"num_vp\": null, \"avg\": null}, {\"agency_name\": \"SolTrans\", \"calitp_itp_id\": 310, \"num_sched\": 402.0, \"num_vp\": 349.0, \"avg\": 0.8681592039800995}, {\"agency_name\": \"Santa Rosa CityBus\", \"calitp_itp_id\": 301, \"num_sched\": 573.0, \"num_vp\": 515.0, \"avg\": 0.8987783595113438}, {\"agency_name\": \"PresidiGo\", \"calitp_itp_id\": 257, \"num_sched\": 45.0, \"num_vp\": 28.0, \"avg\": 0.6222222222222222}, {\"agency_name\": \"Emery Go-Round\", \"calitp_itp_id\": 106, \"num_sched\": 133.0, \"num_vp\": 133.0, \"avg\": 1.0}, {\"agency_name\": \"Fairfield and Suisun Transit\", \"calitp_itp_id\": 110, \"num_sched\": 317.0, \"num_vp\": 317.0, \"avg\": 1.0}, {\"agency_name\": \"Commute.org Shuttles\", \"calitp_itp_id\": 76, \"num_sched\": 250.0, \"num_vp\": 0.0, \"avg\": 0.0}, {\"agency_name\": \"San Francisco Municipal Transportation Agency\", \"calitp_itp_id\": 282, \"num_sched\": 8707.0, \"num_vp\": 8268.0, \"avg\": 0.9495807970598369}, {\"agency_name\": null, \"calitp_itp_id\": 279, \"num_sched\": null, \"num_vp\": null, \"avg\": null}, {\"agency_name\": \"AC TRANSIT\", \"calitp_itp_id\": 4, \"num_sched\": 5378.0, \"num_vp\": 4932.0, \"avg\": 0.9170695425808851}, {\"agency_name\": \"SamTrans\", \"calitp_itp_id\": 76, \"num_sched\": 47.0, \"num_vp\": 0.0, \"avg\": 0.0}, {\"agency_name\": null, \"calitp_itp_id\": 127, \"num_sched\": null, \"num_vp\": null, \"avg\": null}, {\"agency_name\": \"Bay Area Rapid Transit\", \"calitp_itp_id\": 279, \"num_sched\": 1012.0, \"num_vp\": 0.0, \"avg\": 0.0}, {\"agency_name\": \"San Francisco Bay Ferry\", \"calitp_itp_id\": 280, \"num_sched\": 141.0, \"num_vp\": 0.0, \"avg\": 0.0}, {\"agency_name\": \"SamTrans\", \"calitp_itp_id\": 199, \"num_sched\": 24.0, \"num_vp\": 0.0, \"avg\": 0.0}]}}, {\"mode\": \"vega-lite\"});\n",
       "</script>"
      ],
      "text/plain": [
       "alt.Chart(...)"
      ]
     },
     "execution_count": 15,
     "metadata": {},
     "output_type": "execute_result"
    }
   ],
   "source": [
    "#trying using utils bar chart\n",
    "display(HTML('<strong>Agency Average Scheduled & RT Vehicle Position Data</strong>'))\n",
    "scatter = ((utils.bar_chart_over_time(d_avg,\n",
    "                          x_col = 'num_sched', \n",
    "                          y_col = 'num_vp', \n",
    "                          color_col = 'agency_name', \n",
    "                          yaxis_format = '',\n",
    "                          sort = 'x', \n",
    "                          title_txt = ''))\n",
    "           .mark_circle(size=60)\n",
    "           .interactive())\n",
    "(utils.add_tooltip(scatter, 'agency_name', 'calitp_itp_id', 'avg')).properties(width=700)"
   ]
  },
  {
   "cell_type": "code",
   "execution_count": null,
   "id": "ce90aee1-3396-4b99-be64-e70db2437db5",
   "metadata": {},
   "outputs": [],
   "source": []
  },
  {
   "cell_type": "code",
   "execution_count": 16,
   "id": "383c7c0d-88ca-415e-9bf4-b60b74f27bfd",
   "metadata": {},
   "outputs": [
    {
     "data": {
      "text/html": [
       "<strong>Districts Average of Scheduled & RT Vehicle Position Data</strong>"
      ],
      "text/plain": [
       "<IPython.core.display.HTML object>"
      ]
     },
     "metadata": {},
     "output_type": "display_data"
    },
    {
     "data": {
      "text/html": [
       "\n",
       "<div id=\"altair-viz-67c037e6f7d8455989226ec50c8d2a1f\"></div>\n",
       "<script type=\"text/javascript\">\n",
       "  var VEGA_DEBUG = (typeof VEGA_DEBUG == \"undefined\") ? {} : VEGA_DEBUG;\n",
       "  (function(spec, embedOpt){\n",
       "    let outputDiv = document.currentScript.previousElementSibling;\n",
       "    if (outputDiv.id !== \"altair-viz-67c037e6f7d8455989226ec50c8d2a1f\") {\n",
       "      outputDiv = document.getElementById(\"altair-viz-67c037e6f7d8455989226ec50c8d2a1f\");\n",
       "    }\n",
       "    const paths = {\n",
       "      \"vega\": \"https://cdn.jsdelivr.net/npm//vega@5?noext\",\n",
       "      \"vega-lib\": \"https://cdn.jsdelivr.net/npm//vega-lib?noext\",\n",
       "      \"vega-lite\": \"https://cdn.jsdelivr.net/npm//vega-lite@4.17.0?noext\",\n",
       "      \"vega-embed\": \"https://cdn.jsdelivr.net/npm//vega-embed@6?noext\",\n",
       "    };\n",
       "\n",
       "    function maybeLoadScript(lib, version) {\n",
       "      var key = `${lib.replace(\"-\", \"\")}_version`;\n",
       "      return (VEGA_DEBUG[key] == version) ?\n",
       "        Promise.resolve(paths[lib]) :\n",
       "        new Promise(function(resolve, reject) {\n",
       "          var s = document.createElement('script');\n",
       "          document.getElementsByTagName(\"head\")[0].appendChild(s);\n",
       "          s.async = true;\n",
       "          s.onload = () => {\n",
       "            VEGA_DEBUG[key] = version;\n",
       "            return resolve(paths[lib]);\n",
       "          };\n",
       "          s.onerror = () => reject(`Error loading script: ${paths[lib]}`);\n",
       "          s.src = paths[lib];\n",
       "        });\n",
       "    }\n",
       "\n",
       "    function showError(err) {\n",
       "      outputDiv.innerHTML = `<div class=\"error\" style=\"color:red;\">${err}</div>`;\n",
       "      throw err;\n",
       "    }\n",
       "\n",
       "    function displayChart(vegaEmbed) {\n",
       "      vegaEmbed(outputDiv, spec, embedOpt)\n",
       "        .catch(err => showError(`Javascript Error: ${err.message}<br>This usually means there's a typo in your chart specification. See the javascript console for the full traceback.`));\n",
       "    }\n",
       "\n",
       "    if(typeof define === \"function\" && define.amd) {\n",
       "      requirejs.config({paths});\n",
       "      require([\"vega-embed\"], displayChart, err => showError(`Error loading script: ${err.message}`));\n",
       "    } else {\n",
       "      maybeLoadScript(\"vega\", \"5\")\n",
       "        .then(() => maybeLoadScript(\"vega-lite\", \"4.17.0\"))\n",
       "        .then(() => maybeLoadScript(\"vega-embed\", \"6\"))\n",
       "        .catch(showError)\n",
       "        .then(() => displayChart(vegaEmbed));\n",
       "    }\n",
       "  })({\"config\": {\"view\": {\"continuousWidth\": 400, \"continuousHeight\": 300}}, \"data\": {\"name\": \"data-95f8b5ef0fca9ab865801f5ba939823e\"}, \"mark\": {\"type\": \"bar\", \"size\": 50}, \"encoding\": {\"color\": {\"condition\": {\"value\": \"orange\", \"test\": {\"field\": \"caltrans_district\", \"oneOf\": [\"04 - Oakland\"]}}, \"value\": \"steelblue\"}, \"x\": {\"field\": \"caltrans_district\", \"title\": \"Caltrans District\", \"type\": \"nominal\"}, \"y\": {\"axis\": {\"format\": \"%\"}, \"field\": \"avg\", \"title\": \"Average\", \"type\": \"quantitative\"}}, \"width\": 700, \"$schema\": \"https://vega.github.io/schema/vega-lite/v4.17.0.json\", \"datasets\": {\"data-95f8b5ef0fca9ab865801f5ba939823e\": [{\"caltrans_district\": null, \"num_sched\": null, \"num_vp\": null, \"avg\": null, \"District Average\": \"nan%\"}, {\"caltrans_district\": \"05 - San Luis Obispo\", \"num_sched\": 2573.0, \"num_vp\": 694.0, \"avg\": 0.2697240575204042, \"District Average\": \"26.97%\"}, {\"caltrans_district\": \"07 - Los Angeles\", \"num_sched\": 29481.0, \"num_vp\": 20287.0, \"avg\": 0.6881381228587904, \"District Average\": \"68.81%\"}, {\"caltrans_district\": \"04 - Oakland\", \"num_sched\": 32396.0, \"num_vp\": 20776.0, \"avg\": 0.641313742437338, \"District Average\": \"64.13%\"}, {\"caltrans_district\": \"10 - Stockton\", \"num_sched\": 2902.0, \"num_vp\": 1980.0, \"avg\": 0.6822880771881461, \"District Average\": \"68.23%\"}, {\"caltrans_district\": \"03 - Marysville\", \"num_sched\": 6075.0, \"num_vp\": 259.0, \"avg\": 0.042633744855967076, \"District Average\": \"4.26%\"}, {\"caltrans_district\": \"11 - San Diego\", \"num_sched\": 9084.0, \"num_vp\": 8692.0, \"avg\": 0.9568472038749449, \"District Average\": \"95.68%\"}, {\"caltrans_district\": \"02 - Redding\", \"num_sched\": 750.0, \"num_vp\": 222.0, \"avg\": 0.296, \"District Average\": \"29.60%\"}, {\"caltrans_district\": \"08 - San Bernardino\", \"num_sched\": 3155.0, \"num_vp\": 1657.0, \"avg\": 0.5251980982567354, \"District Average\": \"52.52%\"}, {\"caltrans_district\": \"06 - Fresno\", \"num_sched\": 3651.0, \"num_vp\": 1429.0, \"avg\": 0.39139961654341276, \"District Average\": \"39.14%\"}, {\"caltrans_district\": \"09 - Bishop\", \"num_sched\": 186.0, \"num_vp\": 117.0, \"avg\": 0.6290322580645161, \"District Average\": \"62.90%\"}, {\"caltrans_district\": \"01 - Eureka\", \"num_sched\": 852.0, \"num_vp\": 218.0, \"avg\": 0.25586854460093894, \"District Average\": \"25.59%\"}, {\"caltrans_district\": \"12 - Irvine\", \"num_sched\": 6436.0, \"num_vp\": 3171.0, \"avg\": 0.49269732753262896, \"District Average\": \"49.27%\"}]}}, {\"mode\": \"vega-lite\"});\n",
       "</script>"
      ],
      "text/plain": [
       "alt.Chart(...)"
      ]
     },
     "execution_count": 16,
     "metadata": {},
     "output_type": "execute_result"
    }
   ],
   "source": [
    "display(HTML('<strong>Districts Average of Scheduled & RT Vehicle Position Data</strong>'))\n",
    "bar = (alt.Chart(all_dist_avg)\n",
    "        .mark_bar(size=50)\n",
    "        .encode(\n",
    "            x=alt.X('caltrans_district', title=utils.labeling('caltrans_district')),\n",
    "            y=alt.Y('avg', title=utils.labeling('Average'), axis=alt.Axis(format='%')),\n",
    "            color=alt.condition(\n",
    "        alt.FieldOneOfPredicate('caltrans_district', [f'{district}']),  # If the district is parameter then return true,\n",
    "        alt.value('orange'),     # which sets the bar orange.\n",
    "        alt.value('steelblue')   # And if it's not true it sets the bar steelblue.\n",
    "            )\n",
    "        ))\n",
    "## code help: https://stackoverflow.com/questions/71082262/highlighting-specific-columns-in-bar-chart-in-python-using-altair\n",
    "bar.properties(width=700)"
   ]
  },
  {
   "cell_type": "code",
   "execution_count": 17,
   "id": "8660d091-013b-4bbd-abe8-d97b02af86fd",
   "metadata": {},
   "outputs": [],
   "source": [
    "dist_avg_long = all_dist_avg.copy()\n",
    "dist_avg_long = dist_avg_long.rename(columns={ 'num_sched':'Total Number Scheduled Trips',\n",
    "                                            'num_vp':'Total Number Vehicle Position Trips'})\n",
    "dist_avg_long =  (dist_avg_long>>select(_.caltrans_district,\n",
    "                         _['Total Number Scheduled Trips'],\n",
    "                         _['Total Number Vehicle Position Trips']\n",
    "                        ) \n",
    "             >> gather('measure',\n",
    "                       'value',\n",
    "                       _['Total Number Scheduled Trips'],\n",
    "                       _['Total Number Vehicle Position Trips']\n",
    "                      )\n",
    "            )"
   ]
  },
  {
   "cell_type": "code",
   "execution_count": 18,
   "id": "ca7e8333-340f-422d-8758-a2010ac0ce8f",
   "metadata": {},
   "outputs": [
    {
     "data": {
      "text/html": [
       "<strong>Number of Scheduled and Vehicle Postion Trips in 04 - Oakland</strong>"
      ],
      "text/plain": [
       "<IPython.core.display.HTML object>"
      ]
     },
     "metadata": {},
     "output_type": "display_data"
    },
    {
     "data": {
      "text/html": [
       "\n",
       "<div id=\"altair-viz-d99409ae7aac4009ac5f221a8888de9e\"></div>\n",
       "<script type=\"text/javascript\">\n",
       "  var VEGA_DEBUG = (typeof VEGA_DEBUG == \"undefined\") ? {} : VEGA_DEBUG;\n",
       "  (function(spec, embedOpt){\n",
       "    let outputDiv = document.currentScript.previousElementSibling;\n",
       "    if (outputDiv.id !== \"altair-viz-d99409ae7aac4009ac5f221a8888de9e\") {\n",
       "      outputDiv = document.getElementById(\"altair-viz-d99409ae7aac4009ac5f221a8888de9e\");\n",
       "    }\n",
       "    const paths = {\n",
       "      \"vega\": \"https://cdn.jsdelivr.net/npm//vega@5?noext\",\n",
       "      \"vega-lib\": \"https://cdn.jsdelivr.net/npm//vega-lib?noext\",\n",
       "      \"vega-lite\": \"https://cdn.jsdelivr.net/npm//vega-lite@4.17.0?noext\",\n",
       "      \"vega-embed\": \"https://cdn.jsdelivr.net/npm//vega-embed@6?noext\",\n",
       "    };\n",
       "\n",
       "    function maybeLoadScript(lib, version) {\n",
       "      var key = `${lib.replace(\"-\", \"\")}_version`;\n",
       "      return (VEGA_DEBUG[key] == version) ?\n",
       "        Promise.resolve(paths[lib]) :\n",
       "        new Promise(function(resolve, reject) {\n",
       "          var s = document.createElement('script');\n",
       "          document.getElementsByTagName(\"head\")[0].appendChild(s);\n",
       "          s.async = true;\n",
       "          s.onload = () => {\n",
       "            VEGA_DEBUG[key] = version;\n",
       "            return resolve(paths[lib]);\n",
       "          };\n",
       "          s.onerror = () => reject(`Error loading script: ${paths[lib]}`);\n",
       "          s.src = paths[lib];\n",
       "        });\n",
       "    }\n",
       "\n",
       "    function showError(err) {\n",
       "      outputDiv.innerHTML = `<div class=\"error\" style=\"color:red;\">${err}</div>`;\n",
       "      throw err;\n",
       "    }\n",
       "\n",
       "    function displayChart(vegaEmbed) {\n",
       "      vegaEmbed(outputDiv, spec, embedOpt)\n",
       "        .catch(err => showError(`Javascript Error: ${err.message}<br>This usually means there's a typo in your chart specification. See the javascript console for the full traceback.`));\n",
       "    }\n",
       "\n",
       "    if(typeof define === \"function\" && define.amd) {\n",
       "      requirejs.config({paths});\n",
       "      require([\"vega-embed\"], displayChart, err => showError(`Error loading script: ${err.message}`));\n",
       "    } else {\n",
       "      maybeLoadScript(\"vega\", \"5\")\n",
       "        .then(() => maybeLoadScript(\"vega-lite\", \"4.17.0\"))\n",
       "        .then(() => maybeLoadScript(\"vega-embed\", \"6\"))\n",
       "        .catch(showError)\n",
       "        .then(() => displayChart(vegaEmbed));\n",
       "    }\n",
       "  })({\"config\": {\"view\": {\"continuousWidth\": 400, \"continuousHeight\": 300}}, \"data\": {\"name\": \"data-4ae20ca6cc2554ab34dfab2fcf7818d6\"}, \"mark\": {\"type\": \"bar\", \"size\": 50}, \"encoding\": {\"color\": {\"field\": \"measure\", \"type\": \"nominal\"}, \"tooltip\": [{\"field\": \"caltrans_district\", \"title\": \"Caltrans District\", \"type\": \"nominal\"}, {\"field\": \"value\", \"title\": \"Value\", \"type\": \"quantitative\"}], \"x\": {\"field\": \"caltrans_district\", \"sort\": \"x\", \"title\": \"Caltrans District\", \"type\": \"nominal\"}, \"y\": {\"field\": \"value\", \"stack\": null, \"type\": \"quantitative\"}}, \"width\": 800, \"$schema\": \"https://vega.github.io/schema/vega-lite/v4.17.0.json\", \"datasets\": {\"data-4ae20ca6cc2554ab34dfab2fcf7818d6\": [{\"caltrans_district\": null, \"measure\": \"Total Number Scheduled Trips\", \"value\": null}, {\"caltrans_district\": \"05 - San Luis Obispo\", \"measure\": \"Total Number Scheduled Trips\", \"value\": 2573.0}, {\"caltrans_district\": \"07 - Los Angeles\", \"measure\": \"Total Number Scheduled Trips\", \"value\": 29481.0}, {\"caltrans_district\": \"04 - Oakland\", \"measure\": \"Total Number Scheduled Trips\", \"value\": 32396.0}, {\"caltrans_district\": \"10 - Stockton\", \"measure\": \"Total Number Scheduled Trips\", \"value\": 2902.0}, {\"caltrans_district\": \"03 - Marysville\", \"measure\": \"Total Number Scheduled Trips\", \"value\": 6075.0}, {\"caltrans_district\": \"11 - San Diego\", \"measure\": \"Total Number Scheduled Trips\", \"value\": 9084.0}, {\"caltrans_district\": \"02 - Redding\", \"measure\": \"Total Number Scheduled Trips\", \"value\": 750.0}, {\"caltrans_district\": \"08 - San Bernardino\", \"measure\": \"Total Number Scheduled Trips\", \"value\": 3155.0}, {\"caltrans_district\": \"06 - Fresno\", \"measure\": \"Total Number Scheduled Trips\", \"value\": 3651.0}, {\"caltrans_district\": \"09 - Bishop\", \"measure\": \"Total Number Scheduled Trips\", \"value\": 186.0}, {\"caltrans_district\": \"01 - Eureka\", \"measure\": \"Total Number Scheduled Trips\", \"value\": 852.0}, {\"caltrans_district\": \"12 - Irvine\", \"measure\": \"Total Number Scheduled Trips\", \"value\": 6436.0}, {\"caltrans_district\": null, \"measure\": \"Total Number Vehicle Position Trips\", \"value\": null}, {\"caltrans_district\": \"05 - San Luis Obispo\", \"measure\": \"Total Number Vehicle Position Trips\", \"value\": 694.0}, {\"caltrans_district\": \"07 - Los Angeles\", \"measure\": \"Total Number Vehicle Position Trips\", \"value\": 20287.0}, {\"caltrans_district\": \"04 - Oakland\", \"measure\": \"Total Number Vehicle Position Trips\", \"value\": 20776.0}, {\"caltrans_district\": \"10 - Stockton\", \"measure\": \"Total Number Vehicle Position Trips\", \"value\": 1980.0}, {\"caltrans_district\": \"03 - Marysville\", \"measure\": \"Total Number Vehicle Position Trips\", \"value\": 259.0}, {\"caltrans_district\": \"11 - San Diego\", \"measure\": \"Total Number Vehicle Position Trips\", \"value\": 8692.0}, {\"caltrans_district\": \"02 - Redding\", \"measure\": \"Total Number Vehicle Position Trips\", \"value\": 222.0}, {\"caltrans_district\": \"08 - San Bernardino\", \"measure\": \"Total Number Vehicle Position Trips\", \"value\": 1657.0}, {\"caltrans_district\": \"06 - Fresno\", \"measure\": \"Total Number Vehicle Position Trips\", \"value\": 1429.0}, {\"caltrans_district\": \"09 - Bishop\", \"measure\": \"Total Number Vehicle Position Trips\", \"value\": 117.0}, {\"caltrans_district\": \"01 - Eureka\", \"measure\": \"Total Number Vehicle Position Trips\", \"value\": 218.0}, {\"caltrans_district\": \"12 - Irvine\", \"measure\": \"Total Number Vehicle Position Trips\", \"value\": 3171.0}]}}, {\"mode\": \"vega-lite\"});\n",
       "</script>"
      ],
      "text/plain": [
       "alt.Chart(...)"
      ]
     },
     "execution_count": 18,
     "metadata": {},
     "output_type": "execute_result"
    }
   ],
   "source": [
    "display(HTML(f\"<strong>Number of Scheduled and Vehicle Postion Trips in {district}</strong>\"))\n",
    "\n",
    "(utils.bar_chart_over_time((dist_avg_long),\n",
    "                           'caltrans_district','value','measure',',f', 'x', '')).mark_bar(size=50).encode(y=alt.Y('value', stack = None,)).properties(width=800)"
   ]
  },
  {
   "cell_type": "code",
   "execution_count": null,
   "id": "989b8be7-135a-4eee-a413-d0d49b4a2a70",
   "metadata": {},
   "outputs": [],
   "source": []
  },
  {
   "cell_type": "code",
   "execution_count": null,
   "id": "e71f4a37-ec38-4c32-a279-9408d97bcb53",
   "metadata": {},
   "outputs": [],
   "source": []
  },
  {
   "cell_type": "code",
   "execution_count": 19,
   "id": "4d7a3ce8-543c-49a3-a4fc-80728530e9c8",
   "metadata": {},
   "outputs": [],
   "source": [
    "d_overall_avg = (utils.get_agg_pct(d,\n",
    "                            groupings = ['service_date'],\n",
    "                            sum_sched = 'num_sched',\n",
    "                            sum_vp = 'num_vp'))"
   ]
  },
  {
   "cell_type": "code",
   "execution_count": 20,
   "id": "303df99f-ff74-4a3a-a6b3-816511a5fe47",
   "metadata": {},
   "outputs": [],
   "source": [
    "dist_overall_avg_long = d_overall_avg.copy()\n",
    "dist_overall_avg_long = dist_overall_avg_long.rename(columns={ 'num_sched':'Total Number Scheduled Trips',\n",
    "                                            'num_vp':'Total Number Vehicle Position Trips'})\n",
    "dist_overall_avg_long = (dist_overall_avg_long>>select(_.service_date,\n",
    "                         _['Total Number Scheduled Trips'],\n",
    "                         _['Total Number Vehicle Position Trips']\n",
    "                        ) \n",
    "             >> gather('measure',\n",
    "                       'value',\n",
    "                       _['Total Number Scheduled Trips'],\n",
    "                       _['Total Number Vehicle Position Trips']\n",
    "                      ))"
   ]
  },
  {
   "cell_type": "code",
   "execution_count": 21,
   "id": "6e3b220e-9e8a-4e0a-b116-7b64245f5ce9",
   "metadata": {},
   "outputs": [
    {
     "data": {
      "text/html": [
       "<strong>Number of Scheduled and Vehicle Postion Trips in 04 - Oakland by Day</strong>"
      ],
      "text/plain": [
       "<IPython.core.display.HTML object>"
      ]
     },
     "metadata": {},
     "output_type": "display_data"
    },
    {
     "data": {
      "text/html": [
       "\n",
       "<div id=\"altair-viz-15dc99e9706c4978b01705e0707464fc\"></div>\n",
       "<script type=\"text/javascript\">\n",
       "  var VEGA_DEBUG = (typeof VEGA_DEBUG == \"undefined\") ? {} : VEGA_DEBUG;\n",
       "  (function(spec, embedOpt){\n",
       "    let outputDiv = document.currentScript.previousElementSibling;\n",
       "    if (outputDiv.id !== \"altair-viz-15dc99e9706c4978b01705e0707464fc\") {\n",
       "      outputDiv = document.getElementById(\"altair-viz-15dc99e9706c4978b01705e0707464fc\");\n",
       "    }\n",
       "    const paths = {\n",
       "      \"vega\": \"https://cdn.jsdelivr.net/npm//vega@5?noext\",\n",
       "      \"vega-lib\": \"https://cdn.jsdelivr.net/npm//vega-lib?noext\",\n",
       "      \"vega-lite\": \"https://cdn.jsdelivr.net/npm//vega-lite@4.17.0?noext\",\n",
       "      \"vega-embed\": \"https://cdn.jsdelivr.net/npm//vega-embed@6?noext\",\n",
       "    };\n",
       "\n",
       "    function maybeLoadScript(lib, version) {\n",
       "      var key = `${lib.replace(\"-\", \"\")}_version`;\n",
       "      return (VEGA_DEBUG[key] == version) ?\n",
       "        Promise.resolve(paths[lib]) :\n",
       "        new Promise(function(resolve, reject) {\n",
       "          var s = document.createElement('script');\n",
       "          document.getElementsByTagName(\"head\")[0].appendChild(s);\n",
       "          s.async = true;\n",
       "          s.onload = () => {\n",
       "            VEGA_DEBUG[key] = version;\n",
       "            return resolve(paths[lib]);\n",
       "          };\n",
       "          s.onerror = () => reject(`Error loading script: ${paths[lib]}`);\n",
       "          s.src = paths[lib];\n",
       "        });\n",
       "    }\n",
       "\n",
       "    function showError(err) {\n",
       "      outputDiv.innerHTML = `<div class=\"error\" style=\"color:red;\">${err}</div>`;\n",
       "      throw err;\n",
       "    }\n",
       "\n",
       "    function displayChart(vegaEmbed) {\n",
       "      vegaEmbed(outputDiv, spec, embedOpt)\n",
       "        .catch(err => showError(`Javascript Error: ${err.message}<br>This usually means there's a typo in your chart specification. See the javascript console for the full traceback.`));\n",
       "    }\n",
       "\n",
       "    if(typeof define === \"function\" && define.amd) {\n",
       "      requirejs.config({paths});\n",
       "      require([\"vega-embed\"], displayChart, err => showError(`Error loading script: ${err.message}`));\n",
       "    } else {\n",
       "      maybeLoadScript(\"vega\", \"5\")\n",
       "        .then(() => maybeLoadScript(\"vega-lite\", \"4.17.0\"))\n",
       "        .then(() => maybeLoadScript(\"vega-embed\", \"6\"))\n",
       "        .catch(showError)\n",
       "        .then(() => displayChart(vegaEmbed));\n",
       "    }\n",
       "  })({\"config\": {\"view\": {\"continuousWidth\": 400, \"continuousHeight\": 300}}, \"data\": {\"name\": \"data-70c6b63f64be036c3b45260ffe75d8f3\"}, \"mark\": {\"type\": \"bar\", \"size\": 50}, \"encoding\": {\"color\": {\"field\": \"measure\", \"type\": \"nominal\"}, \"tooltip\": [{\"field\": \"service_date\", \"title\": \"Service Date\", \"type\": \"temporal\"}, {\"field\": \"value\", \"title\": \"Value\", \"type\": \"quantitative\"}], \"x\": {\"field\": \"service_date\", \"sort\": \"x\", \"title\": \"Service Date\", \"type\": \"temporal\"}, \"y\": {\"field\": \"value\", \"stack\": null, \"type\": \"quantitative\"}}, \"width\": 800, \"$schema\": \"https://vega.github.io/schema/vega-lite/v4.17.0.json\", \"datasets\": {\"data-70c6b63f64be036c3b45260ffe75d8f3\": [{\"service_date\": \"2022-05-04T00:00:00\", \"measure\": \"Total Number Scheduled Trips\", \"value\": 32396}, {\"service_date\": \"2022-05-04T00:00:00\", \"measure\": \"Total Number Vehicle Position Trips\", \"value\": 20776}]}}, {\"mode\": \"vega-lite\"});\n",
       "</script>"
      ],
      "text/plain": [
       "alt.Chart(...)"
      ]
     },
     "execution_count": 21,
     "metadata": {},
     "output_type": "execute_result"
    }
   ],
   "source": [
    "display(HTML(f\"<strong>Number of Scheduled and Vehicle Postion Trips in {district} by Day</strong>\"))\n",
    "\n",
    "(utils.bar_chart_over_time((dist_overall_avg_long),\n",
    "                           'service_date','value','measure',',f', 'x', '')).mark_bar(size=50).encode(y=alt.Y('value', stack = None,)).properties(width=800)"
   ]
  },
  {
   "cell_type": "code",
   "execution_count": null,
   "id": "a3506239-196c-416f-898d-5d8eb479d335",
   "metadata": {},
   "outputs": [],
   "source": []
  },
  {
   "cell_type": "code",
   "execution_count": 22,
   "id": "6cafacd7-0306-41c6-a561-762c6d0ebdfb",
   "metadata": {},
   "outputs": [
    {
     "data": {
      "text/html": [
       "<h3>Organization Averages in District 4</h3>"
      ],
      "text/plain": [
       "<IPython.core.display.HTML object>"
      ]
     },
     "metadata": {},
     "output_type": "display_data"
    }
   ],
   "source": [
    "display(HTML(f\"<h3>Organization Averages in {district_short_name}</h3>\"))"
   ]
  },
  {
   "cell_type": "code",
   "execution_count": 23,
   "id": "ff8e9ccf-42f9-4cac-81ee-aa5f1c57f719",
   "metadata": {},
   "outputs": [],
   "source": [
    "d_agency_date_avg = (utils.get_agg_pct(d,\n",
    "                            groupings = ['calitp_itp_id', 'agency_name', 'service_date'],\n",
    "                            sum_sched = 'num_sched',\n",
    "                            sum_vp = 'num_vp'))"
   ]
  },
  {
   "cell_type": "code",
   "execution_count": 24,
   "id": "2b481e89-1fe8-4860-b69f-36ed5a69a5e8",
   "metadata": {},
   "outputs": [
    {
     "data": {
      "text/html": [
       "<strong>District 4 Average Percent of Scheduled Trips with Vehicle Postions Data by Route Over Time</strong>"
      ],
      "text/plain": [
       "<IPython.core.display.HTML object>"
      ]
     },
     "metadata": {},
     "output_type": "display_data"
    },
    {
     "data": {
      "text/markdown": [
       "To utilize the multi-select, use `shift` when clicking routes in the legend"
      ],
      "text/plain": [
       "<IPython.core.display.Markdown object>"
      ]
     },
     "metadata": {},
     "output_type": "display_data"
    },
    {
     "data": {
      "text/html": [
       "\n",
       "<div id=\"altair-viz-37959380db004a66ab8e97dc8dfa9343\"></div>\n",
       "<script type=\"text/javascript\">\n",
       "  var VEGA_DEBUG = (typeof VEGA_DEBUG == \"undefined\") ? {} : VEGA_DEBUG;\n",
       "  (function(spec, embedOpt){\n",
       "    let outputDiv = document.currentScript.previousElementSibling;\n",
       "    if (outputDiv.id !== \"altair-viz-37959380db004a66ab8e97dc8dfa9343\") {\n",
       "      outputDiv = document.getElementById(\"altair-viz-37959380db004a66ab8e97dc8dfa9343\");\n",
       "    }\n",
       "    const paths = {\n",
       "      \"vega\": \"https://cdn.jsdelivr.net/npm//vega@5?noext\",\n",
       "      \"vega-lib\": \"https://cdn.jsdelivr.net/npm//vega-lib?noext\",\n",
       "      \"vega-lite\": \"https://cdn.jsdelivr.net/npm//vega-lite@4.17.0?noext\",\n",
       "      \"vega-embed\": \"https://cdn.jsdelivr.net/npm//vega-embed@6?noext\",\n",
       "    };\n",
       "\n",
       "    function maybeLoadScript(lib, version) {\n",
       "      var key = `${lib.replace(\"-\", \"\")}_version`;\n",
       "      return (VEGA_DEBUG[key] == version) ?\n",
       "        Promise.resolve(paths[lib]) :\n",
       "        new Promise(function(resolve, reject) {\n",
       "          var s = document.createElement('script');\n",
       "          document.getElementsByTagName(\"head\")[0].appendChild(s);\n",
       "          s.async = true;\n",
       "          s.onload = () => {\n",
       "            VEGA_DEBUG[key] = version;\n",
       "            return resolve(paths[lib]);\n",
       "          };\n",
       "          s.onerror = () => reject(`Error loading script: ${paths[lib]}`);\n",
       "          s.src = paths[lib];\n",
       "        });\n",
       "    }\n",
       "\n",
       "    function showError(err) {\n",
       "      outputDiv.innerHTML = `<div class=\"error\" style=\"color:red;\">${err}</div>`;\n",
       "      throw err;\n",
       "    }\n",
       "\n",
       "    function displayChart(vegaEmbed) {\n",
       "      vegaEmbed(outputDiv, spec, embedOpt)\n",
       "        .catch(err => showError(`Javascript Error: ${err.message}<br>This usually means there's a typo in your chart specification. See the javascript console for the full traceback.`));\n",
       "    }\n",
       "\n",
       "    if(typeof define === \"function\" && define.amd) {\n",
       "      requirejs.config({paths});\n",
       "      require([\"vega-embed\"], displayChart, err => showError(`Error loading script: ${err.message}`));\n",
       "    } else {\n",
       "      maybeLoadScript(\"vega\", \"5\")\n",
       "        .then(() => maybeLoadScript(\"vega-lite\", \"4.17.0\"))\n",
       "        .then(() => maybeLoadScript(\"vega-embed\", \"6\"))\n",
       "        .catch(showError)\n",
       "        .then(() => displayChart(vegaEmbed));\n",
       "    }\n",
       "  })({\"config\": {\"view\": {\"continuousWidth\": 400, \"continuousHeight\": 300}}, \"data\": {\"name\": \"data-6cb4bc3a1d97b16e6ee4a841a3098b8b\"}, \"mark\": {\"type\": \"line\", \"point\": {\"filled\": false, \"fill\": \"white\"}}, \"encoding\": {\"color\": {\"field\": \"agency_name\", \"legend\": {\"columns\": 3, \"symbolLimit\": 0}, \"title\": [\"Agency Name\"], \"type\": \"nominal\"}, \"opacity\": {\"condition\": {\"value\": 1, \"selection\": \"selector002\"}, \"value\": 0}, \"strokeDash\": {\"field\": \"agency_name\", \"type\": \"nominal\"}, \"tooltip\": [{\"field\": \"agency_name\", \"title\": \"Agency Name\", \"type\": \"nominal\"}, {\"field\": \"service_date\", \"title\": \"Service Date\", \"type\": \"temporal\"}, {\"field\": \"service_date\", \"title\": \"Service Date\", \"type\": \"temporal\"}], \"x\": {\"field\": \"service_date\", \"title\": \"Service Date\", \"type\": \"temporal\"}, \"y\": {\"axis\": {\"format\": \"%\"}, \"field\": \"avg\", \"title\": \"Percent with Vehicle Positions\", \"type\": \"quantitative\"}}, \"selection\": {\"selector002\": {\"type\": \"multi\", \"fields\": [\"agency_name\"], \"bind\": \"legend\"}}, \"width\": 700, \"$schema\": \"https://vega.github.io/schema/vega-lite/v4.17.0.json\", \"datasets\": {\"data-6cb4bc3a1d97b16e6ee4a841a3098b8b\": [{\"calitp_itp_id\": 336, \"agency_name\": \"Tri Delta Transit\", \"service_date\": \"2022-05-04T00:00:00\", \"num_sched\": 369.0, \"num_vp\": 358.0, \"avg\": 0.9701897018970189}, {\"calitp_itp_id\": 61, \"agency_name\": null, \"service_date\": \"2022-05-04T00:00:00\", \"num_sched\": null, \"num_vp\": null, \"avg\": null}, {\"calitp_itp_id\": 324, \"agency_name\": \"Stanford Marguerite Shuttle\", \"service_date\": \"2022-05-04T00:00:00\", \"num_sched\": 660.0, \"num_vp\": 0.0, \"avg\": 0.0}, {\"calitp_itp_id\": 70, \"agency_name\": \"Sonoma County Transit\", \"service_date\": \"2022-05-04T00:00:00\", \"num_sched\": 251.0, \"num_vp\": 0.0, \"avg\": 0.0}, {\"calitp_itp_id\": 247, \"agency_name\": \"Petaluma Transit\", \"service_date\": \"2022-05-04T00:00:00\", \"num_sched\": 233.0, \"num_vp\": 0.0, \"avg\": 0.0}, {\"calitp_itp_id\": 281, \"agency_name\": \"San Francisco International Airport\", \"service_date\": \"2022-05-04T00:00:00\", \"num_sched\": 1049.0, \"num_vp\": 0.0, \"avg\": 0.0}, {\"calitp_itp_id\": 290, \"agency_name\": \"SamTrans\", \"service_date\": \"2022-05-04T00:00:00\", \"num_sched\": 1455.0, \"num_vp\": 3.0, \"avg\": 0.002061855670103093}, {\"calitp_itp_id\": 350, \"agency_name\": \"Union City Transit\", \"service_date\": \"2022-05-04T00:00:00\", \"num_sched\": 270.0, \"num_vp\": 124.0, \"avg\": 0.45925925925925926}, {\"calitp_itp_id\": 167, \"agency_name\": \"Livermore Amador Valley Transit Authority\", \"service_date\": \"2022-05-04T00:00:00\", \"num_sched\": 338.0, \"num_vp\": 262.0, \"avg\": 0.7751479289940828}, {\"calitp_itp_id\": 201, \"agency_name\": \"Mission Bay TMA\", \"service_date\": \"2022-05-04T00:00:00\", \"num_sched\": 111.0, \"num_vp\": 0.0, \"avg\": 0.0}, {\"calitp_itp_id\": 61, \"agency_name\": \"County Connection\", \"service_date\": \"2022-05-04T00:00:00\", \"num_sched\": 922.0, \"num_vp\": 662.0, \"avg\": 0.7180043383947939}, {\"calitp_itp_id\": 368, \"agency_name\": \"WestCat (Western Contra Costa)\", \"service_date\": \"2022-05-04T00:00:00\", \"num_sched\": 555.0, \"num_vp\": 0.0, \"avg\": 0.0}, {\"calitp_itp_id\": 264, \"agency_name\": \"Rio Vista Delta Breeze\", \"service_date\": \"2022-05-04T00:00:00\", \"num_sched\": 8.0, \"num_vp\": 0.0, \"avg\": 0.0}, {\"calitp_itp_id\": 294, \"agency_name\": \"VTA\", \"service_date\": \"2022-05-04T00:00:00\", \"num_sched\": 3657.0, \"num_vp\": 3560.0, \"avg\": 0.9734755263877495}, {\"calitp_itp_id\": 56, \"agency_name\": \"Capitol Corridor Joint Powers Authority\", \"service_date\": \"2022-05-04T00:00:00\", \"num_sched\": 51.0, \"num_vp\": 0.0, \"avg\": 0.0}, {\"calitp_itp_id\": 314, \"agency_name\": \"Sonoma County Transit\", \"service_date\": \"2022-05-04T00:00:00\", \"num_sched\": 251.0, \"num_vp\": 0.0, \"avg\": 0.0}, {\"calitp_itp_id\": 315, \"agency_name\": \"Sonoma Marin Area Rail Transit\", \"service_date\": \"2022-05-04T00:00:00\", \"num_sched\": 26.0, \"num_vp\": 26.0, \"avg\": 1.0}, {\"calitp_itp_id\": 356, \"agency_name\": \"Vacaville City Coach\", \"service_date\": \"2022-05-04T00:00:00\", \"num_sched\": 123.0, \"num_vp\": 0.0, \"avg\": 0.0}, {\"calitp_itp_id\": 127, \"agency_name\": \"Golden Gate Transit\", \"service_date\": \"2022-05-04T00:00:00\", \"num_sched\": 196.0, \"num_vp\": 196.0, \"avg\": 1.0}, {\"calitp_itp_id\": 194, \"agency_name\": \"Marin Transit\", \"service_date\": \"2022-05-04T00:00:00\", \"num_sched\": 704.0, \"num_vp\": 635.0, \"avg\": 0.9019886363636364}, {\"calitp_itp_id\": 218, \"agency_name\": \"VINE Transit\", \"service_date\": \"2022-05-04T00:00:00\", \"num_sched\": 216.0, \"num_vp\": 182.0, \"avg\": 0.8425925925925926}, {\"calitp_itp_id\": 246, \"agency_name\": \"Caltrain\", \"service_date\": \"2022-05-04T00:00:00\", \"num_sched\": 88.0, \"num_vp\": 68.0, \"avg\": 0.7727272727272727}, {\"calitp_itp_id\": 247, \"agency_name\": \"Petaluma\", \"service_date\": \"2022-05-04T00:00:00\", \"num_sched\": 233.0, \"num_vp\": 158.0, \"avg\": 0.6781115879828327}, {\"calitp_itp_id\": 290, \"agency_name\": null, \"service_date\": \"2022-05-04T00:00:00\", \"num_sched\": null, \"num_vp\": null, \"avg\": null}, {\"calitp_itp_id\": 310, \"agency_name\": \"SolTrans\", \"service_date\": \"2022-05-04T00:00:00\", \"num_sched\": 402.0, \"num_vp\": 349.0, \"avg\": 0.8681592039800995}, {\"calitp_itp_id\": 301, \"agency_name\": \"Santa Rosa CityBus\", \"service_date\": \"2022-05-04T00:00:00\", \"num_sched\": 573.0, \"num_vp\": 515.0, \"avg\": 0.8987783595113438}, {\"calitp_itp_id\": 257, \"agency_name\": \"PresidiGo\", \"service_date\": \"2022-05-04T00:00:00\", \"num_sched\": 45.0, \"num_vp\": 28.0, \"avg\": 0.6222222222222222}, {\"calitp_itp_id\": 106, \"agency_name\": \"Emery Go-Round\", \"service_date\": \"2022-05-04T00:00:00\", \"num_sched\": 133.0, \"num_vp\": 133.0, \"avg\": 1.0}, {\"calitp_itp_id\": 110, \"agency_name\": \"Fairfield and Suisun Transit\", \"service_date\": \"2022-05-04T00:00:00\", \"num_sched\": 317.0, \"num_vp\": 317.0, \"avg\": 1.0}, {\"calitp_itp_id\": 76, \"agency_name\": \"Commute.org Shuttles\", \"service_date\": \"2022-05-04T00:00:00\", \"num_sched\": 250.0, \"num_vp\": 0.0, \"avg\": 0.0}, {\"calitp_itp_id\": 282, \"agency_name\": \"San Francisco Municipal Transportation Agency\", \"service_date\": \"2022-05-04T00:00:00\", \"num_sched\": 8707.0, \"num_vp\": 8268.0, \"avg\": 0.9495807970598369}, {\"calitp_itp_id\": 279, \"agency_name\": null, \"service_date\": \"2022-05-04T00:00:00\", \"num_sched\": null, \"num_vp\": null, \"avg\": null}, {\"calitp_itp_id\": 4, \"agency_name\": \"AC TRANSIT\", \"service_date\": \"2022-05-04T00:00:00\", \"num_sched\": 5378.0, \"num_vp\": 4932.0, \"avg\": 0.9170695425808851}, {\"calitp_itp_id\": 76, \"agency_name\": \"SamTrans\", \"service_date\": \"2022-05-04T00:00:00\", \"num_sched\": 47.0, \"num_vp\": 0.0, \"avg\": 0.0}, {\"calitp_itp_id\": 127, \"agency_name\": null, \"service_date\": \"2022-05-04T00:00:00\", \"num_sched\": null, \"num_vp\": null, \"avg\": null}, {\"calitp_itp_id\": 279, \"agency_name\": \"Bay Area Rapid Transit\", \"service_date\": \"2022-05-04T00:00:00\", \"num_sched\": 1012.0, \"num_vp\": 0.0, \"avg\": 0.0}, {\"calitp_itp_id\": 280, \"agency_name\": \"San Francisco Bay Ferry\", \"service_date\": \"2022-05-04T00:00:00\", \"num_sched\": 141.0, \"num_vp\": 0.0, \"avg\": 0.0}, {\"calitp_itp_id\": 199, \"agency_name\": \"SamTrans\", \"service_date\": \"2022-05-04T00:00:00\", \"num_sched\": 24.0, \"num_vp\": 0.0, \"avg\": 0.0}]}}, {\"mode\": \"vega-lite\"});\n",
       "</script>"
      ],
      "text/plain": [
       "alt.Chart(...)"
      ]
     },
     "execution_count": 24,
     "metadata": {},
     "output_type": "execute_result"
    }
   ],
   "source": [
    "display(HTML(f\"<strong>{district_short_name} \"\n",
    "             f\"Average Percent of Scheduled Trips with Vehicle Postions Data \"\n",
    "             f\"by Route Over Time</strong>\"))\n",
    "display(Markdown(\"To utilize the multi-select, use `shift` when clicking routes in the legend\"))\n",
    "\n",
    "line = alt.Chart(d_agency_date_avg).mark_line(point={\"filled\": False, \"fill\":\"white\"}).encode(\n",
    "    x=alt.X('service_date', title=utils.labeling('service_date')),\n",
    "    y=alt.Y('avg', title=('Percent with Vehicle Positions'), axis=alt.Axis(format='%')),\n",
    "    color=alt.Color('agency_name', title=['Agency Name'],  legend=alt.Legend(columns=3, symbolLimit=0)),\n",
    "    strokeDash='agency_name')\n",
    "\n",
    "line_chart = utils.add_tooltip(line, 'agency_name','service_date', 'avg')\n",
    "line_chart = utils.add_chart_selection(line_chart, 'agency_name')\n",
    "line_chart.properties(width=700)"
   ]
  },
  {
   "cell_type": "code",
   "execution_count": null,
   "id": "106c4995-6ec6-4895-892f-5ca0583eb946",
   "metadata": {},
   "outputs": [],
   "source": []
  },
  {
   "cell_type": "code",
   "execution_count": null,
   "id": "1bd45843-0af3-4694-8e79-f3d1030a1b51",
   "metadata": {},
   "outputs": [],
   "source": []
  },
  {
   "cell_type": "code",
   "execution_count": 25,
   "id": "5222a55e-c8dc-4a5c-9fc6-bd4f123dc133",
   "metadata": {},
   "outputs": [],
   "source": [
    "## funky one\n",
    "#may4>>filter(_.agency_name== 'Commute.org Shuttles')"
   ]
  },
  {
   "cell_type": "code",
   "execution_count": null,
   "id": "aeca1323-b5a9-48ba-8dcb-48b045df8808",
   "metadata": {},
   "outputs": [],
   "source": []
  },
  {
   "cell_type": "code",
   "execution_count": 26,
   "id": "69a002e5-d848-43af-bb8e-3c3379b7af0e",
   "metadata": {},
   "outputs": [
    {
     "data": {
      "text/html": [
       "<h2>How Much Data is Available in the Current Model?</h2>"
      ],
      "text/plain": [
       "<IPython.core.display.HTML object>"
      ]
     },
     "metadata": {},
     "output_type": "display_data"
    }
   ],
   "source": [
    "display((HTML(\"<h2>How Much Data is Available in the Current Model?</h2>\")))"
   ]
  },
  {
   "cell_type": "code",
   "execution_count": 27,
   "id": "ad9c1442-7f58-43b7-a4fa-9590f50d31ed",
   "metadata": {},
   "outputs": [],
   "source": [
    "itp_id_avg = (\"{:.2f}%\".format(((len(d_avg>>filter(_.num_vp==0)>>arrange(_.calitp_itp_id)))/(len(d_avg)))*100))"
   ]
  },
  {
   "cell_type": "code",
   "execution_count": 28,
   "id": "ca66d623-d99a-4467-859a-0be62549e2ae",
   "metadata": {},
   "outputs": [
    {
     "data": {
      "text/html": [
       "Out of <strong>38 organizations in District District 4 </strong>with Scheduled Data, there are 15 or <strong>39.47% of organizations</strong> have <strong>no</strong> vehicle position data."
      ],
      "text/plain": [
       "<IPython.core.display.HTML object>"
      ]
     },
     "metadata": {},
     "output_type": "display_data"
    }
   ],
   "source": [
    "display(HTML(f\"Out of <strong>{len(d_avg)} organizations in District {district_short_name} </strong>\"\n",
    "             f\"with Scheduled Data, there are \"\n",
    "             f\"{(len(d_avg>>filter(_.num_vp==0)>>arrange(_.calitp_itp_id)))} or \"\n",
    "             f\"<strong>{itp_id_avg} of organizations</strong> \"\n",
    "             \"have <strong>no</strong> \"\n",
    "             \"vehicle position data.\"))"
   ]
  },
  {
   "cell_type": "code",
   "execution_count": 29,
   "id": "35693586-11ee-4a89-9175-5ab29c24123e",
   "metadata": {},
   "outputs": [],
   "source": [
    "df_all_avg = (utils.get_agg_pct(df_all,\n",
    "                            groupings = ['calitp_itp_id', 'agency_name'],\n",
    "                            sum_sched = 'num_sched',\n",
    "                            sum_vp = 'num_vp'))"
   ]
  },
  {
   "cell_type": "code",
   "execution_count": 30,
   "id": "2721e248-05d3-43a6-b26f-727995a62cfe",
   "metadata": {},
   "outputs": [],
   "source": [
    "have_vp_list = ((df_all_avg>>filter(_.num_vp!=0)>>arrange(_.calitp_itp_id))>>filter(_.agency_name.notnull())).agency_name.to_list()"
   ]
  },
  {
   "cell_type": "code",
   "execution_count": 31,
   "id": "e9abb4ae-0bd5-42a0-91b6-c86b396a9b26",
   "metadata": {},
   "outputs": [
    {
     "data": {
      "text/html": [
       "For all organizations in this dataset, only <strong>28.35%</strong> of the organizations have RT Vehicle Postion Data present"
      ],
      "text/plain": [
       "<IPython.core.display.HTML object>"
      ]
     },
     "metadata": {},
     "output_type": "display_data"
    }
   ],
   "source": [
    "display(HTML(f\"For all organizations in this dataset, only <strong>\"\n",
    "             f\"{('{:.2%}'.format((len(have_vp_list))/(len(df_all_avg>>filter(_.agency_name.notnull())))))}\"\n",
    "             f\"</strong> of the organizations have RT Vehicle Postion Data present\"))"
   ]
  },
  {
   "cell_type": "code",
   "execution_count": null,
   "id": "f81633b3-058e-4cf8-90d2-62fde26d7f3f",
   "metadata": {},
   "outputs": [],
   "source": []
  },
  {
   "cell_type": "code",
   "execution_count": null,
   "id": "91ec0f03-12ef-470f-9c75-490318ba18b0",
   "metadata": {},
   "outputs": [],
   "source": []
  },
  {
   "cell_type": "code",
   "execution_count": 32,
   "id": "657ae57e-6ba3-45d7-bedf-d8180dbe2ba1",
   "metadata": {},
   "outputs": [],
   "source": [
    "df_all['has_vp'] = df_all['agency_name'].isin(have_vp_list)\n"
   ]
  },
  {
   "cell_type": "code",
   "execution_count": 33,
   "id": "ffff0795-46ae-428e-b703-c182772d06b1",
   "metadata": {},
   "outputs": [],
   "source": [
    "has_vp = df_all>>filter(_.has_vp==True)"
   ]
  },
  {
   "cell_type": "code",
   "execution_count": null,
   "id": "5e64baec-0ee0-449d-b987-0d5c25961ca5",
   "metadata": {},
   "outputs": [],
   "source": []
  },
  {
   "cell_type": "code",
   "execution_count": 34,
   "id": "2184ef82-6f9a-454d-8ebf-e8b1b02e68a3",
   "metadata": {},
   "outputs": [
    {
     "data": {
      "text/html": [
       "<strong> District Averages filtered for Organizations with RT Present </strong>"
      ],
      "text/plain": [
       "<IPython.core.display.HTML object>"
      ]
     },
     "metadata": {},
     "output_type": "display_data"
    },
    {
     "data": {
      "text/html": [
       "<style type=\"text/css\">\n",
       "#T_16088 th {\n",
       "  text-align: center;\n",
       "}\n",
       "#T_16088_row0_col0, #T_16088_row0_col1, #T_16088_row1_col0, #T_16088_row1_col1, #T_16088_row2_col0, #T_16088_row2_col1, #T_16088_row3_col0, #T_16088_row3_col1, #T_16088_row4_col0, #T_16088_row4_col1, #T_16088_row5_col0, #T_16088_row5_col1, #T_16088_row6_col0, #T_16088_row6_col1, #T_16088_row7_col0, #T_16088_row7_col1, #T_16088_row8_col0, #T_16088_row8_col1, #T_16088_row9_col0, #T_16088_row9_col1, #T_16088_row10_col0, #T_16088_row10_col1, #T_16088_row11_col0, #T_16088_row11_col1, #T_16088_row12_col0, #T_16088_row12_col1 {\n",
       "  text-align: center;\n",
       "}\n",
       "</style>\n",
       "<table id=\"T_16088\">\n",
       "  <thead>\n",
       "    <tr>\n",
       "      <th id=\"T_16088_level0_col0\" class=\"col_heading level0 col0\" >Caltrans District</th>\n",
       "      <th id=\"T_16088_level0_col1\" class=\"col_heading level0 col1\" >Avg Pct</th>\n",
       "    </tr>\n",
       "  </thead>\n",
       "  <tbody>\n",
       "    <tr>\n",
       "      <td id=\"T_16088_row0_col0\" class=\"data row0 col0\" >01 - Eureka</td>\n",
       "      <td id=\"T_16088_row0_col1\" class=\"data row0 col1\" >31.01%</td>\n",
       "    </tr>\n",
       "    <tr>\n",
       "      <td id=\"T_16088_row1_col0\" class=\"data row1 col0\" >02 - Redding</td>\n",
       "      <td id=\"T_16088_row1_col1\" class=\"data row1 col1\" >40.36%</td>\n",
       "    </tr>\n",
       "    <tr>\n",
       "      <td id=\"T_16088_row2_col0\" class=\"data row2 col0\" >03 - Marysville</td>\n",
       "      <td id=\"T_16088_row2_col1\" class=\"data row2 col1\" >9.20%</td>\n",
       "    </tr>\n",
       "    <tr>\n",
       "      <td id=\"T_16088_row3_col0\" class=\"data row3 col0\" >04 - Oakland</td>\n",
       "      <td id=\"T_16088_row3_col1\" class=\"data row3 col1\" >86.21%</td>\n",
       "    </tr>\n",
       "    <tr>\n",
       "      <td id=\"T_16088_row4_col0\" class=\"data row4 col0\" >05 - San Luis Obispo</td>\n",
       "      <td id=\"T_16088_row4_col1\" class=\"data row4 col1\" >71.33%</td>\n",
       "    </tr>\n",
       "    <tr>\n",
       "      <td id=\"T_16088_row5_col0\" class=\"data row5 col0\" >06 - Fresno</td>\n",
       "      <td id=\"T_16088_row5_col1\" class=\"data row5 col1\" >92.43%</td>\n",
       "    </tr>\n",
       "    <tr>\n",
       "      <td id=\"T_16088_row6_col0\" class=\"data row6 col0\" >07 - Los Angeles</td>\n",
       "      <td id=\"T_16088_row6_col1\" class=\"data row6 col1\" >88.23%</td>\n",
       "    </tr>\n",
       "    <tr>\n",
       "      <td id=\"T_16088_row7_col0\" class=\"data row7 col0\" >08 - San Bernardino</td>\n",
       "      <td id=\"T_16088_row7_col1\" class=\"data row7 col1\" >98.75%</td>\n",
       "    </tr>\n",
       "    <tr>\n",
       "      <td id=\"T_16088_row8_col0\" class=\"data row8 col0\" >09 - Bishop</td>\n",
       "      <td id=\"T_16088_row8_col1\" class=\"data row8 col1\" >62.90%</td>\n",
       "    </tr>\n",
       "    <tr>\n",
       "      <td id=\"T_16088_row9_col0\" class=\"data row9 col0\" >10 - Stockton</td>\n",
       "      <td id=\"T_16088_row9_col1\" class=\"data row9 col1\" >88.16%</td>\n",
       "    </tr>\n",
       "    <tr>\n",
       "      <td id=\"T_16088_row10_col0\" class=\"data row10 col0\" >11 - San Diego</td>\n",
       "      <td id=\"T_16088_row10_col1\" class=\"data row10 col1\" >97.62%</td>\n",
       "    </tr>\n",
       "    <tr>\n",
       "      <td id=\"T_16088_row11_col0\" class=\"data row11 col0\" >12 - Irvine</td>\n",
       "      <td id=\"T_16088_row11_col1\" class=\"data row11 col1\" >49.81%</td>\n",
       "    </tr>\n",
       "    <tr>\n",
       "      <td id=\"T_16088_row12_col0\" class=\"data row12 col0\" >None</td>\n",
       "      <td id=\"T_16088_row12_col1\" class=\"data row12 col1\" >nan%</td>\n",
       "    </tr>\n",
       "  </tbody>\n",
       "</table>\n"
      ],
      "text/plain": [
       "<IPython.core.display.HTML object>"
      ]
     },
     "metadata": {},
     "output_type": "display_data"
    }
   ],
   "source": [
    "display(HTML(\"<strong> District Averages filtered for Organizations with RT Present </strong>\"))\n",
    "with_rt = (utils.get_agg_pct(has_vp,\n",
    "                            groupings = ['caltrans_district'],\n",
    "                            sum_sched = 'num_sched',\n",
    "                            sum_vp = 'num_vp'))>>select(_.caltrans_district, _.avg)>>arrange(_.caltrans_district)\n",
    "with_rt['avg_pct'] = with_rt['avg'].astype(float).map(\"{:.2%}\".format)\n",
    "display(HTML(dla_utils.pretify_tables(with_rt>>select(_.caltrans_district, _.avg_pct))))"
   ]
  },
  {
   "cell_type": "code",
   "execution_count": 35,
   "id": "adcad17d-caed-4ae4-bc26-b287b0e35510",
   "metadata": {},
   "outputs": [
    {
     "data": {
      "text/html": [
       "<strong> District Averages NOT filtered for Organizations with RT Present </strong>"
      ],
      "text/plain": [
       "<IPython.core.display.HTML object>"
      ]
     },
     "metadata": {},
     "output_type": "display_data"
    },
    {
     "data": {
      "text/html": [
       "<style type=\"text/css\">\n",
       "#T_4ca91 th {\n",
       "  text-align: center;\n",
       "}\n",
       "#T_4ca91_row0_col0, #T_4ca91_row0_col1, #T_4ca91_row1_col0, #T_4ca91_row1_col1, #T_4ca91_row2_col0, #T_4ca91_row2_col1, #T_4ca91_row3_col0, #T_4ca91_row3_col1, #T_4ca91_row4_col0, #T_4ca91_row4_col1, #T_4ca91_row5_col0, #T_4ca91_row5_col1, #T_4ca91_row6_col0, #T_4ca91_row6_col1, #T_4ca91_row7_col0, #T_4ca91_row7_col1, #T_4ca91_row8_col0, #T_4ca91_row8_col1, #T_4ca91_row9_col0, #T_4ca91_row9_col1, #T_4ca91_row10_col0, #T_4ca91_row10_col1, #T_4ca91_row11_col0, #T_4ca91_row11_col1, #T_4ca91_row12_col0, #T_4ca91_row12_col1 {\n",
       "  text-align: center;\n",
       "}\n",
       "</style>\n",
       "<table id=\"T_4ca91\">\n",
       "  <thead>\n",
       "    <tr>\n",
       "      <th id=\"T_4ca91_level0_col0\" class=\"col_heading level0 col0\" >Caltrans District</th>\n",
       "      <th id=\"T_4ca91_level0_col1\" class=\"col_heading level0 col1\" >Avg Pct</th>\n",
       "    </tr>\n",
       "  </thead>\n",
       "  <tbody>\n",
       "    <tr>\n",
       "      <td id=\"T_4ca91_row0_col0\" class=\"data row0 col0\" >01 - Eureka</td>\n",
       "      <td id=\"T_4ca91_row0_col1\" class=\"data row0 col1\" >25.59%</td>\n",
       "    </tr>\n",
       "    <tr>\n",
       "      <td id=\"T_4ca91_row1_col0\" class=\"data row1 col0\" >02 - Redding</td>\n",
       "      <td id=\"T_4ca91_row1_col1\" class=\"data row1 col1\" >29.60%</td>\n",
       "    </tr>\n",
       "    <tr>\n",
       "      <td id=\"T_4ca91_row2_col0\" class=\"data row2 col0\" >03 - Marysville</td>\n",
       "      <td id=\"T_4ca91_row2_col1\" class=\"data row2 col1\" >4.26%</td>\n",
       "    </tr>\n",
       "    <tr>\n",
       "      <td id=\"T_4ca91_row3_col0\" class=\"data row3 col0\" >04 - Oakland</td>\n",
       "      <td id=\"T_4ca91_row3_col1\" class=\"data row3 col1\" >64.13%</td>\n",
       "    </tr>\n",
       "    <tr>\n",
       "      <td id=\"T_4ca91_row4_col0\" class=\"data row4 col0\" >05 - San Luis Obispo</td>\n",
       "      <td id=\"T_4ca91_row4_col1\" class=\"data row4 col1\" >26.97%</td>\n",
       "    </tr>\n",
       "    <tr>\n",
       "      <td id=\"T_4ca91_row5_col0\" class=\"data row5 col0\" >06 - Fresno</td>\n",
       "      <td id=\"T_4ca91_row5_col1\" class=\"data row5 col1\" >39.14%</td>\n",
       "    </tr>\n",
       "    <tr>\n",
       "      <td id=\"T_4ca91_row6_col0\" class=\"data row6 col0\" >07 - Los Angeles</td>\n",
       "      <td id=\"T_4ca91_row6_col1\" class=\"data row6 col1\" >68.81%</td>\n",
       "    </tr>\n",
       "    <tr>\n",
       "      <td id=\"T_4ca91_row7_col0\" class=\"data row7 col0\" >08 - San Bernardino</td>\n",
       "      <td id=\"T_4ca91_row7_col1\" class=\"data row7 col1\" >52.52%</td>\n",
       "    </tr>\n",
       "    <tr>\n",
       "      <td id=\"T_4ca91_row8_col0\" class=\"data row8 col0\" >09 - Bishop</td>\n",
       "      <td id=\"T_4ca91_row8_col1\" class=\"data row8 col1\" >62.90%</td>\n",
       "    </tr>\n",
       "    <tr>\n",
       "      <td id=\"T_4ca91_row9_col0\" class=\"data row9 col0\" >10 - Stockton</td>\n",
       "      <td id=\"T_4ca91_row9_col1\" class=\"data row9 col1\" >68.23%</td>\n",
       "    </tr>\n",
       "    <tr>\n",
       "      <td id=\"T_4ca91_row10_col0\" class=\"data row10 col0\" >11 - San Diego</td>\n",
       "      <td id=\"T_4ca91_row10_col1\" class=\"data row10 col1\" >95.68%</td>\n",
       "    </tr>\n",
       "    <tr>\n",
       "      <td id=\"T_4ca91_row11_col0\" class=\"data row11 col0\" >12 - Irvine</td>\n",
       "      <td id=\"T_4ca91_row11_col1\" class=\"data row11 col1\" >49.27%</td>\n",
       "    </tr>\n",
       "    <tr>\n",
       "      <td id=\"T_4ca91_row12_col0\" class=\"data row12 col0\" >None</td>\n",
       "      <td id=\"T_4ca91_row12_col1\" class=\"data row12 col1\" >nan%</td>\n",
       "    </tr>\n",
       "  </tbody>\n",
       "</table>\n"
      ],
      "text/plain": [
       "<IPython.core.display.HTML object>"
      ]
     },
     "metadata": {},
     "output_type": "display_data"
    }
   ],
   "source": [
    "display(HTML(\"<strong> District Averages NOT filtered for Organizations with RT Present </strong>\"))\n",
    "all_dist_avg['avg_pct'] = all_dist_avg['avg'].astype(float).map(\"{:.2%}\".format)\n",
    "display(HTML(dla_utils.pretify_tables(all_dist_avg>>select(_.caltrans_district, _.avg_pct)>>arrange(_.caltrans_district))))"
   ]
  },
  {
   "cell_type": "code",
   "execution_count": null,
   "id": "43bb9806-b14d-41f6-8248-985bbd78a09c",
   "metadata": {},
   "outputs": [],
   "source": []
  },
  {
   "cell_type": "code",
   "execution_count": null,
   "id": "548fbd01-5ead-4dd5-84dd-a19deb89fda9",
   "metadata": {},
   "outputs": [],
   "source": []
  },
  {
   "cell_type": "code",
   "execution_count": 36,
   "id": "b076df72-6a15-44c7-914c-1bcc745c2645",
   "metadata": {},
   "outputs": [
    {
     "data": {
      "text/html": [
       "<h2>Operators in District 4</h2>"
      ],
      "text/plain": [
       "<IPython.core.display.HTML object>"
      ]
     },
     "metadata": {},
     "output_type": "display_data"
    }
   ],
   "source": [
    "display((HTML(f\"<h2>Operators in {district_short_name}</h2>\")))"
   ]
  },
  {
   "cell_type": "code",
   "execution_count": 37,
   "id": "5a664635-596c-4fab-a9da-7f207d79498b",
   "metadata": {},
   "outputs": [],
   "source": [
    "from shared_utils import calitp_color_palette as cp"
   ]
  },
  {
   "cell_type": "code",
   "execution_count": 193,
   "id": "34622a51-8daa-4066-8368-0127623feaee",
   "metadata": {},
   "outputs": [],
   "source": [
    "#from Amanda's utils for Project Prioritization\n",
    "def dual_chart_with_dropdown(\n",
    "    df,\n",
    "    dropdown_list: list,\n",
    "    dropdown_field: str,\n",
    "    #reference_dict: dict,\n",
    "    itp_id:str\n",
    "):\n",
    "    \"\"\"\n",
    "    Two bar charts controlled by a dropdown\n",
    "    Args:\n",
    "        df: the dataframe subsetted to district\n",
    "        dropdown_list(list): a list of all the values in the dropdown menu,\n",
    "        dropdown_field(str): column where the dropdown menu's values are drawn from,\n",
    "    Returns:\n",
    "        Returns two  bar charts that are controlled by a dropdown\n",
    "    \"\"\"\n",
    "    # Create drop down menu\n",
    "    input_dropdown = alt.binding_select(options=dropdown_list, name=\"Select\")\n",
    "\n",
    "    # The field tied to the drop down menu\n",
    "    selection = alt.selection_single(fields=[dropdown_field], bind=input_dropdown)\n",
    "    print(selection)\n",
    "    \n",
    "    #chart to get single agency vs total in district\n",
    "    chart1 = ((utils.total_average_with_1op_chart(df, itp_id))\n",
    "              .mark_trail()\n",
    "              .add_selection(selection)\n",
    "              .transform_filter(selection))\n",
    "\n",
    "#     #for second chart: subset df\n",
    "#     df_short = df>>select(_.agency_name, _.route_id,\n",
    "#                               _.route_short_name, _.service_date, _.pct_w_vp)\n",
    "#     #title\n",
    "#     display(HTML(f\"<strong>{(df.iloc[0]['agency_name'])} \"\n",
    "#              f\"Average Percent of Scheduled Trips with Vehicle Postions Data \"\n",
    "#              f\"by Route Over Time</strong>\"))\n",
    "#     display(Markdown(\"To utilize the multi-select, use `shift` when clicking routes in the legend\"))\n",
    "    \n",
    "#     #line chart\n",
    "#     line = alt.Chart(df_short).mark_line().encode(\n",
    "#         x=alt.X('service_date', title=utils.labeling('service_date')),\n",
    "#         y=alt.Y('pct_w_vp', title=('Percent with Vehicle Positions'), axis=alt.Axis(format='%')),\n",
    "#         color=alt.Color('route_short_name', title=['Route Name']),\n",
    "#         strokeDash='route_short_name').add_selection(selection)\n",
    "\n",
    "#     line_chart = utils.add_tooltip(line, 'route_short_name','service_date', 'pct_w_vp')\n",
    "#     line_chart = utils.add_chart_selection(line_chart, 'route_short_name')\n",
    "#     line_chart.properties(width=700)\n",
    "    \n",
    "    # return input_dropdown\n",
    "    return chart1 \n",
    "# | line_chart"
   ]
  },
  {
   "cell_type": "code",
   "execution_count": 199,
   "id": "bd3f2511-04fb-4ee7-bf7b-5be19a0252c5",
   "metadata": {},
   "outputs": [
    {
     "data": {
      "text/plain": [
       "['Tri Delta Transit',\n",
       " None,\n",
       " 'Stanford Marguerite Shuttle',\n",
       " 'Sonoma County Transit',\n",
       " 'Petaluma Transit',\n",
       " 'San Francisco International Airport',\n",
       " 'SamTrans',\n",
       " 'Union City Transit',\n",
       " 'Livermore Amador Valley Transit Authority',\n",
       " 'Mission Bay TMA',\n",
       " 'County Connection',\n",
       " 'WestCat (Western Contra Costa)',\n",
       " 'Rio Vista Delta Breeze',\n",
       " 'VTA',\n",
       " 'Capitol Corridor Joint Powers Authority',\n",
       " 'Sonoma Marin Area Rail Transit',\n",
       " 'Vacaville City Coach',\n",
       " 'Golden Gate Transit',\n",
       " 'Marin Transit',\n",
       " 'VINE Transit',\n",
       " 'Caltrain',\n",
       " 'Petaluma',\n",
       " 'SolTrans',\n",
       " 'Santa Rosa CityBus',\n",
       " 'PresidiGo',\n",
       " 'Emery Go-Round',\n",
       " 'Fairfield and Suisun Transit',\n",
       " 'Commute.org Shuttles',\n",
       " 'San Francisco Municipal Transportation Agency',\n",
       " 'AC TRANSIT',\n",
       " 'Bay Area Rapid Transit',\n",
       " 'San Francisco Bay Ferry']"
      ]
     },
     "execution_count": 199,
     "metadata": {},
     "output_type": "execute_result"
    }
   ],
   "source": [
    "list(d_avg.agency_name.unique())"
   ]
  },
  {
   "cell_type": "code",
   "execution_count": 200,
   "id": "36a56cb5-0980-42b9-87fd-cdcb51c28484",
   "metadata": {},
   "outputs": [],
   "source": [
    "d_agency_list = d_avg.agency_name.unique().tolist()"
   ]
  },
  {
   "cell_type": "code",
   "execution_count": 201,
   "id": "c54e6869-b08e-4c6b-9256-28934e3977f1",
   "metadata": {},
   "outputs": [
    {
     "data": {
      "text/plain": [
       "['Tri Delta Transit',\n",
       " None,\n",
       " 'Stanford Marguerite Shuttle',\n",
       " 'Sonoma County Transit',\n",
       " 'Petaluma Transit',\n",
       " 'San Francisco International Airport',\n",
       " 'SamTrans',\n",
       " 'Union City Transit',\n",
       " 'Livermore Amador Valley Transit Authority',\n",
       " 'Mission Bay TMA',\n",
       " 'County Connection',\n",
       " 'WestCat (Western Contra Costa)',\n",
       " 'Rio Vista Delta Breeze',\n",
       " 'VTA',\n",
       " 'Capitol Corridor Joint Powers Authority',\n",
       " 'Sonoma Marin Area Rail Transit',\n",
       " 'Vacaville City Coach',\n",
       " 'Golden Gate Transit',\n",
       " 'Marin Transit',\n",
       " 'VINE Transit',\n",
       " 'Caltrain',\n",
       " 'Petaluma',\n",
       " 'SolTrans',\n",
       " 'Santa Rosa CityBus',\n",
       " 'PresidiGo',\n",
       " 'Emery Go-Round',\n",
       " 'Fairfield and Suisun Transit',\n",
       " 'Commute.org Shuttles',\n",
       " 'San Francisco Municipal Transportation Agency',\n",
       " 'AC TRANSIT',\n",
       " 'Bay Area Rapid Transit',\n",
       " 'San Francisco Bay Ferry']"
      ]
     },
     "execution_count": 201,
     "metadata": {},
     "output_type": "execute_result"
    }
   ],
   "source": [
    "d_agency_list"
   ]
  },
  {
   "cell_type": "code",
   "execution_count": 197,
   "id": "04d34f0a-7b63-4889-b5e9-9fc932cde010",
   "metadata": {
    "scrolled": true,
    "tags": []
   },
   "outputs": [
    {
     "data": {
      "text/plain": [
       "['Tri Delta Transit']"
      ]
     },
     "execution_count": 197,
     "metadata": {},
     "output_type": "execute_result"
    }
   ],
   "source": [
    "d_agency_list[:1]"
   ]
  },
  {
   "cell_type": "code",
   "execution_count": 198,
   "id": "47dd548b-7996-4ceb-a70b-2db3a5053b00",
   "metadata": {},
   "outputs": [
    {
     "data": {
      "text/html": [
       "<div>\n",
       "<style scoped>\n",
       "    .dataframe tbody tr th:only-of-type {\n",
       "        vertical-align: middle;\n",
       "    }\n",
       "\n",
       "    .dataframe tbody tr th {\n",
       "        vertical-align: top;\n",
       "    }\n",
       "\n",
       "    .dataframe thead th {\n",
       "        text-align: right;\n",
       "    }\n",
       "</style>\n",
       "<table border=\"1\" class=\"dataframe\">\n",
       "  <thead>\n",
       "    <tr style=\"text-align: right;\">\n",
       "      <th></th>\n",
       "      <th>calitp_itp_id</th>\n",
       "      <th>agency_name</th>\n",
       "      <th>n</th>\n",
       "    </tr>\n",
       "  </thead>\n",
       "  <tbody>\n",
       "    <tr>\n",
       "      <th>30</th>\n",
       "      <td>336</td>\n",
       "      <td>Tri Delta Transit</td>\n",
       "      <td>15</td>\n",
       "    </tr>\n",
       "  </tbody>\n",
       "</table>\n",
       "</div>"
      ],
      "text/plain": [
       "    calitp_itp_id        agency_name   n\n",
       "30            336  Tri Delta Transit  15"
      ]
     },
     "execution_count": 198,
     "metadata": {},
     "output_type": "execute_result"
    }
   ],
   "source": [
    "d_agencies>>filter(_.agency_name=='Tri Delta Transit')"
   ]
  },
  {
   "cell_type": "code",
   "execution_count": 186,
   "id": "ff14b862-f4f7-48bc-ba96-04a57157ce36",
   "metadata": {},
   "outputs": [],
   "source": [
    "d_agencies = (d>>group_by(_.calitp_itp_id, _.agency_name)>>count(_.agency_name))"
   ]
  },
  {
   "cell_type": "code",
   "execution_count": 187,
   "id": "e211fa51-57ae-4d4e-adb5-b4ec543a7ac2",
   "metadata": {
    "scrolled": true,
    "tags": []
   },
   "outputs": [],
   "source": [
    "d_agencies_list2 = d_agencies.set_index('agency_name')['calitp_itp_id'].to_dict()"
   ]
  },
  {
   "cell_type": "code",
   "execution_count": 188,
   "id": "81a7847b-e216-49e9-8eae-b361d9ab562c",
   "metadata": {
    "scrolled": true,
    "tags": []
   },
   "outputs": [],
   "source": [
    "#d_agencies_list3 = d_agencies_list2['Tri Delta Transit']"
   ]
  },
  {
   "cell_type": "code",
   "execution_count": 189,
   "id": "7eac5e8e-7365-4c47-ad82-dfe286ff9b44",
   "metadata": {},
   "outputs": [],
   "source": [
    "d_agencies_list3 = {'Tri Delta Transit':336}"
   ]
  },
  {
   "cell_type": "code",
   "execution_count": 190,
   "id": "05f0e959-c42e-44b0-9165-a9243aee22f1",
   "metadata": {},
   "outputs": [
    {
     "data": {
      "text/plain": [
       "336"
      ]
     },
     "execution_count": 190,
     "metadata": {},
     "output_type": "execute_result"
    }
   ],
   "source": [
    "d_agencies_list3['Tri Delta Transit']"
   ]
  },
  {
   "cell_type": "code",
   "execution_count": 192,
   "id": "b87472fe-51f8-497e-b7c1-058b117b7155",
   "metadata": {},
   "outputs": [
    {
     "data": {
      "text/html": [
       "<div>\n",
       "<style scoped>\n",
       "    .dataframe tbody tr th:only-of-type {\n",
       "        vertical-align: middle;\n",
       "    }\n",
       "\n",
       "    .dataframe tbody tr th {\n",
       "        vertical-align: top;\n",
       "    }\n",
       "\n",
       "    .dataframe thead th {\n",
       "        text-align: right;\n",
       "    }\n",
       "</style>\n",
       "<table border=\"1\" class=\"dataframe\">\n",
       "  <thead>\n",
       "    <tr style=\"text-align: right;\">\n",
       "      <th></th>\n",
       "      <th>calitp_itp_id</th>\n",
       "      <th>agency_name</th>\n",
       "      <th>calitp_url_number</th>\n",
       "      <th>route_id</th>\n",
       "      <th>route_short_name</th>\n",
       "      <th>service_date</th>\n",
       "      <th>calitp_extracted_at</th>\n",
       "      <th>calitp_deleted_at</th>\n",
       "      <th>num_sched</th>\n",
       "      <th>num_vp</th>\n",
       "      <th>pct_w_vp</th>\n",
       "      <th>weekday</th>\n",
       "      <th>month</th>\n",
       "      <th>caltrans_district</th>\n",
       "    </tr>\n",
       "  </thead>\n",
       "  <tbody>\n",
       "    <tr>\n",
       "      <th>2101</th>\n",
       "      <td>4</td>\n",
       "      <td>AC TRANSIT</td>\n",
       "      <td>1</td>\n",
       "      <td>65</td>\n",
       "      <td>65</td>\n",
       "      <td>2022-05-04</td>\n",
       "      <td>2022-03-01</td>\n",
       "      <td>2099-01-01</td>\n",
       "      <td>26</td>\n",
       "      <td>20</td>\n",
       "      <td>0.77</td>\n",
       "      <td>Wednesday</td>\n",
       "      <td>May</td>\n",
       "      <td>04 - Oakland</td>\n",
       "    </tr>\n",
       "  </tbody>\n",
       "</table>\n",
       "</div>"
      ],
      "text/plain": [
       "      calitp_itp_id agency_name  calitp_url_number route_id route_short_name  \\\n",
       "2101              4  AC TRANSIT                  1       65               65   \n",
       "\n",
       "     service_date calitp_extracted_at calitp_deleted_at  num_sched  num_vp  \\\n",
       "2101   2022-05-04          2022-03-01        2099-01-01         26      20   \n",
       "\n",
       "      pct_w_vp    weekday month caltrans_district  \n",
       "2101      0.77  Wednesday   May      04 - Oakland  "
      ]
     },
     "execution_count": 192,
     "metadata": {},
     "output_type": "execute_result"
    }
   ],
   "source": [
    "d.sample()"
   ]
  },
  {
   "cell_type": "code",
   "execution_count": 195,
   "id": "86d28277-28d6-4707-82c1-f8dc1d47493d",
   "metadata": {},
   "outputs": [
    {
     "name": "stdout",
     "output_type": "stream",
     "text": [
      "Selection('selector026', SelectionDef({\n",
      "  bind: BindRadioSelect({\n",
      "    input: 'select',\n",
      "    name: 'Select',\n",
      "    options: ['Tri Delta Transit', None, 'Stanford Marguerite Shuttle', 'Sonoma County Transit', 'Petaluma Transit', 'San Francisco International Airport', 'SamTrans', 'Union City Transit', 'Livermore Amador Valley Transit Authority', 'Mission Bay TMA', 'County Connection', 'WestCat (Western Contra Costa)', 'Rio Vista Delta Breeze', 'VTA', 'Capitol Corridor Joint Powers Authority', 'Sonoma County Transit', 'Sonoma Marin Area Rail Transit', 'Vacaville City Coach', 'Golden Gate Transit', 'Marin Transit', 'VINE Transit', 'Caltrain', 'Petaluma', None, 'SolTrans', 'Santa Rosa CityBus', 'PresidiGo', 'Emery Go-Round', 'Fairfield and Suisun Transit', 'Commute.org Shuttles', 'San Francisco Municipal Transportation Agency', None, 'AC TRANSIT', 'SamTrans', None, 'Bay Area Rapid Transit', 'San Francisco Bay Ferry', 'SamTrans']\n",
      "  }),\n",
      "  fields: ['agency_name'],\n",
      "  type: 'single'\n",
      "}))\n"
     ]
    },
    {
     "data": {
      "text/html": [
       "\n",
       "<div id=\"altair-viz-2fabd43127764b2a9d69ce57e17ec607\"></div>\n",
       "<script type=\"text/javascript\">\n",
       "  var VEGA_DEBUG = (typeof VEGA_DEBUG == \"undefined\") ? {} : VEGA_DEBUG;\n",
       "  (function(spec, embedOpt){\n",
       "    let outputDiv = document.currentScript.previousElementSibling;\n",
       "    if (outputDiv.id !== \"altair-viz-2fabd43127764b2a9d69ce57e17ec607\") {\n",
       "      outputDiv = document.getElementById(\"altair-viz-2fabd43127764b2a9d69ce57e17ec607\");\n",
       "    }\n",
       "    const paths = {\n",
       "      \"vega\": \"https://cdn.jsdelivr.net/npm//vega@5?noext\",\n",
       "      \"vega-lib\": \"https://cdn.jsdelivr.net/npm//vega-lib?noext\",\n",
       "      \"vega-lite\": \"https://cdn.jsdelivr.net/npm//vega-lite@4.17.0?noext\",\n",
       "      \"vega-embed\": \"https://cdn.jsdelivr.net/npm//vega-embed@6?noext\",\n",
       "    };\n",
       "\n",
       "    function maybeLoadScript(lib, version) {\n",
       "      var key = `${lib.replace(\"-\", \"\")}_version`;\n",
       "      return (VEGA_DEBUG[key] == version) ?\n",
       "        Promise.resolve(paths[lib]) :\n",
       "        new Promise(function(resolve, reject) {\n",
       "          var s = document.createElement('script');\n",
       "          document.getElementsByTagName(\"head\")[0].appendChild(s);\n",
       "          s.async = true;\n",
       "          s.onload = () => {\n",
       "            VEGA_DEBUG[key] = version;\n",
       "            return resolve(paths[lib]);\n",
       "          };\n",
       "          s.onerror = () => reject(`Error loading script: ${paths[lib]}`);\n",
       "          s.src = paths[lib];\n",
       "        });\n",
       "    }\n",
       "\n",
       "    function showError(err) {\n",
       "      outputDiv.innerHTML = `<div class=\"error\" style=\"color:red;\">${err}</div>`;\n",
       "      throw err;\n",
       "    }\n",
       "\n",
       "    function displayChart(vegaEmbed) {\n",
       "      vegaEmbed(outputDiv, spec, embedOpt)\n",
       "        .catch(err => showError(`Javascript Error: ${err.message}<br>This usually means there's a typo in your chart specification. See the javascript console for the full traceback.`));\n",
       "    }\n",
       "\n",
       "    if(typeof define === \"function\" && define.amd) {\n",
       "      requirejs.config({paths});\n",
       "      require([\"vega-embed\"], displayChart, err => showError(`Error loading script: ${err.message}`));\n",
       "    } else {\n",
       "      maybeLoadScript(\"vega\", \"5\")\n",
       "        .then(() => maybeLoadScript(\"vega-lite\", \"4.17.0\"))\n",
       "        .then(() => maybeLoadScript(\"vega-embed\", \"6\"))\n",
       "        .catch(showError)\n",
       "        .then(() => displayChart(vegaEmbed));\n",
       "    }\n",
       "  })({\"config\": {\"view\": {\"continuousWidth\": 400, \"continuousHeight\": 300}}, \"data\": {\"name\": \"data-357e4a101cec3f8852b60cf4feb653d2\"}, \"mark\": \"trail\", \"encoding\": {\"color\": {\"field\": \"Averages\", \"type\": \"nominal\"}, \"tooltip\": [{\"field\": \"service_date\", \"title\": \"Service Date\", \"type\": \"temporal\"}, {\"field\": \"Percent with Vehicle Position Data\", \"title\": \"Percent With Vehicle Position Data\", \"type\": \"quantitative\"}], \"x\": {\"field\": \"service_date\", \"sort\": \"x\", \"title\": \"Service Date\", \"type\": \"temporal\"}, \"y\": {\"axis\": {\"format\": \"%\"}, \"field\": \"Percent with Vehicle Position Data\", \"title\": \"Percent With Vehicle Position Data\", \"type\": \"quantitative\"}}, \"selection\": {\"selector026\": {\"type\": \"single\", \"fields\": [\"agency_name\"], \"bind\": {\"input\": \"select\", \"options\": [\"Tri Delta Transit\", null, \"Stanford Marguerite Shuttle\", \"Sonoma County Transit\", \"Petaluma Transit\", \"San Francisco International Airport\", \"SamTrans\", \"Union City Transit\", \"Livermore Amador Valley Transit Authority\", \"Mission Bay TMA\", \"County Connection\", \"WestCat (Western Contra Costa)\", \"Rio Vista Delta Breeze\", \"VTA\", \"Capitol Corridor Joint Powers Authority\", \"Sonoma County Transit\", \"Sonoma Marin Area Rail Transit\", \"Vacaville City Coach\", \"Golden Gate Transit\", \"Marin Transit\", \"VINE Transit\", \"Caltrain\", \"Petaluma\", null, \"SolTrans\", \"Santa Rosa CityBus\", \"PresidiGo\", \"Emery Go-Round\", \"Fairfield and Suisun Transit\", \"Commute.org Shuttles\", \"San Francisco Municipal Transportation Agency\", null, \"AC TRANSIT\", \"SamTrans\", null, \"Bay Area Rapid Transit\", \"San Francisco Bay Ferry\", \"SamTrans\"], \"name\": \"Select\"}}}, \"transform\": [{\"filter\": {\"selection\": \"selector026\"}}], \"width\": 550, \"$schema\": \"https://vega.github.io/schema/vega-lite/v4.17.0.json\", \"datasets\": {\"data-357e4a101cec3f8852b60cf4feb653d2\": [{\"service_date\": \"2022-05-04T00:00:00\", \"Averages\": \"Total Average\", \"Percent with Vehicle Position Data\": 0.641313742437338}, {\"service_date\": \"2022-05-04T00:00:00\", \"Averages\": \"AC TRANSIT Average\", \"Percent with Vehicle Position Data\": 0.9170695425808851}]}}, {\"mode\": \"vega-lite\"});\n",
       "</script>"
      ],
      "text/plain": [
       "alt.Chart(...)"
      ]
     },
     "execution_count": 195,
     "metadata": {},
     "output_type": "execute_result"
    }
   ],
   "source": [
    "dual_chart_with_dropdown(\n",
    "    d,\n",
    "    dropdown_list = d_agency_list,\n",
    "    dropdown_field= 'agency_name',\n",
    "   # reference_dict= d_agencies_list3\n",
    "    itp_id = 4)\n"
   ]
  },
  {
   "cell_type": "code",
   "execution_count": 59,
   "id": "9ea70306-8e0e-4802-8afd-c0dc8f210ce5",
   "metadata": {},
   "outputs": [
    {
     "data": {
      "text/html": [
       "\n",
       "<div id=\"altair-viz-94fff1e3bb324ae99d5a57436d4a7684\"></div>\n",
       "<script type=\"text/javascript\">\n",
       "  var VEGA_DEBUG = (typeof VEGA_DEBUG == \"undefined\") ? {} : VEGA_DEBUG;\n",
       "  (function(spec, embedOpt){\n",
       "    let outputDiv = document.currentScript.previousElementSibling;\n",
       "    if (outputDiv.id !== \"altair-viz-94fff1e3bb324ae99d5a57436d4a7684\") {\n",
       "      outputDiv = document.getElementById(\"altair-viz-94fff1e3bb324ae99d5a57436d4a7684\");\n",
       "    }\n",
       "    const paths = {\n",
       "      \"vega\": \"https://cdn.jsdelivr.net/npm//vega@5?noext\",\n",
       "      \"vega-lib\": \"https://cdn.jsdelivr.net/npm//vega-lib?noext\",\n",
       "      \"vega-lite\": \"https://cdn.jsdelivr.net/npm//vega-lite@4.17.0?noext\",\n",
       "      \"vega-embed\": \"https://cdn.jsdelivr.net/npm//vega-embed@6?noext\",\n",
       "    };\n",
       "\n",
       "    function maybeLoadScript(lib, version) {\n",
       "      var key = `${lib.replace(\"-\", \"\")}_version`;\n",
       "      return (VEGA_DEBUG[key] == version) ?\n",
       "        Promise.resolve(paths[lib]) :\n",
       "        new Promise(function(resolve, reject) {\n",
       "          var s = document.createElement('script');\n",
       "          document.getElementsByTagName(\"head\")[0].appendChild(s);\n",
       "          s.async = true;\n",
       "          s.onload = () => {\n",
       "            VEGA_DEBUG[key] = version;\n",
       "            return resolve(paths[lib]);\n",
       "          };\n",
       "          s.onerror = () => reject(`Error loading script: ${paths[lib]}`);\n",
       "          s.src = paths[lib];\n",
       "        });\n",
       "    }\n",
       "\n",
       "    function showError(err) {\n",
       "      outputDiv.innerHTML = `<div class=\"error\" style=\"color:red;\">${err}</div>`;\n",
       "      throw err;\n",
       "    }\n",
       "\n",
       "    function displayChart(vegaEmbed) {\n",
       "      vegaEmbed(outputDiv, spec, embedOpt)\n",
       "        .catch(err => showError(`Javascript Error: ${err.message}<br>This usually means there's a typo in your chart specification. See the javascript console for the full traceback.`));\n",
       "    }\n",
       "\n",
       "    if(typeof define === \"function\" && define.amd) {\n",
       "      requirejs.config({paths});\n",
       "      require([\"vega-embed\"], displayChart, err => showError(`Error loading script: ${err.message}`));\n",
       "    } else {\n",
       "      maybeLoadScript(\"vega\", \"5\")\n",
       "        .then(() => maybeLoadScript(\"vega-lite\", \"4.17.0\"))\n",
       "        .then(() => maybeLoadScript(\"vega-embed\", \"6\"))\n",
       "        .catch(showError)\n",
       "        .then(() => displayChart(vegaEmbed));\n",
       "    }\n",
       "  })({\"config\": {\"view\": {\"continuousWidth\": 400, \"continuousHeight\": 300}}, \"data\": {\"name\": \"data-194b8ec3f6215e1bffc9c4c985b23e96\"}, \"mark\": \"trail\", \"encoding\": {\"color\": {\"field\": \"Averages\", \"type\": \"nominal\"}, \"size\": {\"field\": \"Percent with Vehicle Position Data\", \"type\": \"quantitative\"}, \"tooltip\": [{\"field\": \"service_date\", \"title\": \"Service Date\", \"type\": \"temporal\"}, {\"field\": \"Percent with Vehicle Position Data\", \"title\": \"Percent With Vehicle Position Data\", \"type\": \"quantitative\"}], \"x\": {\"field\": \"service_date\", \"sort\": \"x\", \"title\": \"Service Date\", \"type\": \"temporal\"}, \"y\": {\"axis\": {\"format\": \"%\"}, \"field\": \"Percent with Vehicle Position Data\", \"title\": \"Percent With Vehicle Position Data\", \"type\": \"quantitative\"}}, \"width\": 550, \"$schema\": \"https://vega.github.io/schema/vega-lite/v4.17.0.json\", \"datasets\": {\"data-194b8ec3f6215e1bffc9c4c985b23e96\": [{\"service_date\": \"2022-05-04T00:00:00\", \"Averages\": \"Total Average\", \"Percent with Vehicle Position Data\": 0.641313742437338}, {\"service_date\": \"2022-05-04T00:00:00\", \"Averages\": \"San Francisco Municipal Transportation Agency Average\", \"Percent with Vehicle Position Data\": 0.9495807970598369}]}}, {\"mode\": \"vega-lite\"});\n",
       "</script>"
      ],
      "text/plain": [
       "alt.Chart(...)"
      ]
     },
     "execution_count": 59,
     "metadata": {},
     "output_type": "execute_result"
    }
   ],
   "source": [
    "#using dataframe with the just the entries in the same district\n",
    "(utils.total_average_with_1op_chart(d, 282)).mark_trail().encode(size='Percent with Vehicle Position Data:Q')"
   ]
  },
  {
   "cell_type": "code",
   "execution_count": null,
   "id": "170812a8-746a-4697-8a9e-c04a9ffba93a",
   "metadata": {},
   "outputs": [],
   "source": []
  },
  {
   "cell_type": "code",
   "execution_count": null,
   "id": "e9f20c1f-ce37-43c1-a39c-246dd4a524df",
   "metadata": {
    "scrolled": true,
    "tags": []
   },
   "outputs": [],
   "source": []
  },
  {
   "cell_type": "code",
   "execution_count": 230,
   "id": "6a6aa44f-5faa-4554-acfa-f094a4ddfea3",
   "metadata": {},
   "outputs": [],
   "source": [
    "def dual_chart_with_dropdown2(\n",
    "    df,\n",
    "    dropdown_list: list,\n",
    "    dropdown_field: str,\n",
    "    x_axis_chart1: str,\n",
    "    y_axis_chart1: str,\n",
    "    color_col1: str,\n",
    "    chart1_tooltip_cols: list,\n",
    "    x_axis_chart2: str,\n",
    "    y_axis_chart2: str,\n",
    "    color_col2: str,\n",
    "    chart2_tooltip_cols: list\n",
    "):\n",
    "    \"\"\"Two bar charts controlled by a dropdown\n",
    "    Args:\n",
    "        df: the dataframe\n",
    "        dropdown_list(list): a list of all the values in the dropdown menu,\n",
    "        dropdown_field(str): column where the dropdown menu's values are drawn from,\n",
    "        x_axis_chart1(str): x axis value for chart 1 - encode as Q or N,\n",
    "        y_axis_chart1(str): y axis valuefor chart 1 - encode as Q or N,\n",
    "        color_col1(str): column to color the graphs for chart 1,\n",
    "        chart1_tooltip_cols(list): list of all the columns to populate the tooltip,\n",
    "        x_axis_chart2(str): x axis value for chart 2 - encode as Q or N,\n",
    "        y_axis_chart2(str): x axis value for chart 2 - encode as Q or N,\n",
    "        color_col2(str): column to color the graphs for chart 2,\n",
    "        chart2_tooltip_cols(list): list of all the columns to populate the tooltip,\n",
    "    Returns:\n",
    "        Returns two  bar charts that are controlled by a dropdown\n",
    "    \"\"\"\n",
    "    # Create drop down menu\n",
    "    input_dropdown = alt.binding_select(options=dropdown_list, name=\"Select \")\n",
    "\n",
    "    # The field tied to the drop down menu\n",
    "    selection = alt.selection_single(fields=[dropdown_field], bind=input_dropdown)\n",
    "    df = (df>>filter(_.agency_name.notnull()))\n",
    "    df_agg = (utils.get_agg_pct(df,\n",
    "                            groupings = ['calitp_itp_id', 'agency_name', 'service_date'],\n",
    "                            sum_sched = 'num_sched',\n",
    "                            sum_vp = 'num_vp'))\n",
    "    chart1 = (\n",
    "        alt.Chart(df_agg)\n",
    "        .mark_bar()\n",
    "        .encode(\n",
    "            x=x_axis_chart1,\n",
    "            y=(y_axis_chart1),\n",
    "            color=alt.Color(color_col1, scale=alt.Scale(range=cp.CALITP_DIVERGING_COLORS)))\n",
    "        .properties(width=300)\n",
    "        .add_selection(selection)\n",
    "        .transform_filter(selection)\n",
    "    )\n",
    "    \n",
    "    df_short = df>>select(_.agency_name, _.route_id, _.route_short_name, _.service_date, _.pct_w_vp)\n",
    "\n",
    "    chart2 = (\n",
    "        alt.Chart(df_short)\n",
    "        .mark_bar()\n",
    "        .encode(\n",
    "            x=x_axis_chart2,\n",
    "            y=(y_axis_chart2),\n",
    "            color=alt.Color(\n",
    "                color_col2, scale=alt.Scale(range=cp.CALITP_DIVERGING_COLORS), legend = None))\n",
    "        .properties(width=300)\n",
    "        .add_selection(selection)\n",
    "        .transform_filter(selection)\n",
    "    )\n",
    "\n",
    "    return chart1 | chart2"
   ]
  },
  {
   "cell_type": "code",
   "execution_count": 231,
   "id": "1d428d57-b4f6-470a-ac6f-2ffa3ba94c3e",
   "metadata": {},
   "outputs": [
    {
     "data": {
      "text/html": [
       "\n",
       "<div id=\"altair-viz-778dcba273374451ada7e00f34dc3e50\"></div>\n",
       "<script type=\"text/javascript\">\n",
       "  var VEGA_DEBUG = (typeof VEGA_DEBUG == \"undefined\") ? {} : VEGA_DEBUG;\n",
       "  (function(spec, embedOpt){\n",
       "    let outputDiv = document.currentScript.previousElementSibling;\n",
       "    if (outputDiv.id !== \"altair-viz-778dcba273374451ada7e00f34dc3e50\") {\n",
       "      outputDiv = document.getElementById(\"altair-viz-778dcba273374451ada7e00f34dc3e50\");\n",
       "    }\n",
       "    const paths = {\n",
       "      \"vega\": \"https://cdn.jsdelivr.net/npm//vega@5?noext\",\n",
       "      \"vega-lib\": \"https://cdn.jsdelivr.net/npm//vega-lib?noext\",\n",
       "      \"vega-lite\": \"https://cdn.jsdelivr.net/npm//vega-lite@4.17.0?noext\",\n",
       "      \"vega-embed\": \"https://cdn.jsdelivr.net/npm//vega-embed@6?noext\",\n",
       "    };\n",
       "\n",
       "    function maybeLoadScript(lib, version) {\n",
       "      var key = `${lib.replace(\"-\", \"\")}_version`;\n",
       "      return (VEGA_DEBUG[key] == version) ?\n",
       "        Promise.resolve(paths[lib]) :\n",
       "        new Promise(function(resolve, reject) {\n",
       "          var s = document.createElement('script');\n",
       "          document.getElementsByTagName(\"head\")[0].appendChild(s);\n",
       "          s.async = true;\n",
       "          s.onload = () => {\n",
       "            VEGA_DEBUG[key] = version;\n",
       "            return resolve(paths[lib]);\n",
       "          };\n",
       "          s.onerror = () => reject(`Error loading script: ${paths[lib]}`);\n",
       "          s.src = paths[lib];\n",
       "        });\n",
       "    }\n",
       "\n",
       "    function showError(err) {\n",
       "      outputDiv.innerHTML = `<div class=\"error\" style=\"color:red;\">${err}</div>`;\n",
       "      throw err;\n",
       "    }\n",
       "\n",
       "    function displayChart(vegaEmbed) {\n",
       "      vegaEmbed(outputDiv, spec, embedOpt)\n",
       "        .catch(err => showError(`Javascript Error: ${err.message}<br>This usually means there's a typo in your chart specification. See the javascript console for the full traceback.`));\n",
       "    }\n",
       "\n",
       "    if(typeof define === \"function\" && define.amd) {\n",
       "      requirejs.config({paths});\n",
       "      require([\"vega-embed\"], displayChart, err => showError(`Error loading script: ${err.message}`));\n",
       "    } else {\n",
       "      maybeLoadScript(\"vega\", \"5\")\n",
       "        .then(() => maybeLoadScript(\"vega-lite\", \"4.17.0\"))\n",
       "        .then(() => maybeLoadScript(\"vega-embed\", \"6\"))\n",
       "        .catch(showError)\n",
       "        .then(() => displayChart(vegaEmbed));\n",
       "    }\n",
       "  })({\"config\": {\"view\": {\"continuousWidth\": 400, \"continuousHeight\": 300}}, \"hconcat\": [{\"data\": {\"name\": \"data-ef61525d8b51ba85ed47211c840b7b27\"}, \"mark\": \"bar\", \"encoding\": {\"color\": {\"field\": \"avg\", \"scale\": {\"range\": [\"#E16B26\", \"#EB9F3C\", \"#f6e7e1\", \"#8CBCCB\", \"#2EA8CE\", \"#136C97\"]}, \"type\": \"quantitative\"}, \"x\": {\"field\": \"service_date\", \"type\": \"ordinal\"}, \"y\": {\"field\": \"avg\", \"type\": \"quantitative\"}}, \"selection\": {\"selector037\": {\"type\": \"single\", \"fields\": [\"agency_name\"], \"bind\": {\"input\": \"select\", \"options\": [\"Tri Delta Transit\", null, \"Stanford Marguerite Shuttle\", \"Sonoma County Transit\", \"Petaluma Transit\", \"San Francisco International Airport\", \"SamTrans\", \"Union City Transit\", \"Livermore Amador Valley Transit Authority\", \"Mission Bay TMA\", \"County Connection\", \"WestCat (Western Contra Costa)\", \"Rio Vista Delta Breeze\", \"VTA\", \"Capitol Corridor Joint Powers Authority\", \"Sonoma Marin Area Rail Transit\", \"Vacaville City Coach\", \"Golden Gate Transit\", \"Marin Transit\", \"VINE Transit\", \"Caltrain\", \"Petaluma\", \"SolTrans\", \"Santa Rosa CityBus\", \"PresidiGo\", \"Emery Go-Round\", \"Fairfield and Suisun Transit\", \"Commute.org Shuttles\", \"San Francisco Municipal Transportation Agency\", \"AC TRANSIT\", \"Bay Area Rapid Transit\", \"San Francisco Bay Ferry\"], \"name\": \"Select \"}}}, \"transform\": [{\"filter\": {\"selection\": \"selector037\"}}], \"width\": 300}, {\"data\": {\"name\": \"data-e95eff5cd6ef4ee60b7dbf6d8c95ef78\"}, \"mark\": \"bar\", \"encoding\": {\"color\": {\"field\": \"route_short_name\", \"legend\": null, \"scale\": {\"range\": [\"#E16B26\", \"#EB9F3C\", \"#f6e7e1\", \"#8CBCCB\", \"#2EA8CE\", \"#136C97\"]}, \"type\": \"nominal\"}, \"x\": {\"field\": \"service_date\", \"type\": \"ordinal\"}, \"y\": {\"field\": \"avg\", \"type\": \"quantitative\"}}, \"selection\": {\"selector037\": {\"type\": \"single\", \"fields\": [\"agency_name\"], \"bind\": {\"input\": \"select\", \"options\": [\"Tri Delta Transit\", null, \"Stanford Marguerite Shuttle\", \"Sonoma County Transit\", \"Petaluma Transit\", \"San Francisco International Airport\", \"SamTrans\", \"Union City Transit\", \"Livermore Amador Valley Transit Authority\", \"Mission Bay TMA\", \"County Connection\", \"WestCat (Western Contra Costa)\", \"Rio Vista Delta Breeze\", \"VTA\", \"Capitol Corridor Joint Powers Authority\", \"Sonoma Marin Area Rail Transit\", \"Vacaville City Coach\", \"Golden Gate Transit\", \"Marin Transit\", \"VINE Transit\", \"Caltrain\", \"Petaluma\", \"SolTrans\", \"Santa Rosa CityBus\", \"PresidiGo\", \"Emery Go-Round\", \"Fairfield and Suisun Transit\", \"Commute.org Shuttles\", \"San Francisco Municipal Transportation Agency\", \"AC TRANSIT\", \"Bay Area Rapid Transit\", \"San Francisco Bay Ferry\"], \"name\": \"Select \"}}}, \"transform\": [{\"filter\": {\"selection\": \"selector037\"}}], \"width\": 300}], \"$schema\": \"https://vega.github.io/schema/vega-lite/v4.17.0.json\", \"datasets\": {\"data-ef61525d8b51ba85ed47211c840b7b27\": [{\"calitp_itp_id\": 336, \"agency_name\": \"Tri Delta Transit\", \"service_date\": \"2022-05-04T00:00:00\", \"num_sched\": 369, \"num_vp\": 358, \"avg\": 0.9701897018970189}, {\"calitp_itp_id\": 324, \"agency_name\": \"Stanford Marguerite Shuttle\", \"service_date\": \"2022-05-04T00:00:00\", \"num_sched\": 660, \"num_vp\": 0, \"avg\": 0.0}, {\"calitp_itp_id\": 70, \"agency_name\": \"Sonoma County Transit\", \"service_date\": \"2022-05-04T00:00:00\", \"num_sched\": 251, \"num_vp\": 0, \"avg\": 0.0}, {\"calitp_itp_id\": 247, \"agency_name\": \"Petaluma Transit\", \"service_date\": \"2022-05-04T00:00:00\", \"num_sched\": 233, \"num_vp\": 0, \"avg\": 0.0}, {\"calitp_itp_id\": 281, \"agency_name\": \"San Francisco International Airport\", \"service_date\": \"2022-05-04T00:00:00\", \"num_sched\": 1049, \"num_vp\": 0, \"avg\": 0.0}, {\"calitp_itp_id\": 290, \"agency_name\": \"SamTrans\", \"service_date\": \"2022-05-04T00:00:00\", \"num_sched\": 1455, \"num_vp\": 3, \"avg\": 0.002061855670103093}, {\"calitp_itp_id\": 350, \"agency_name\": \"Union City Transit\", \"service_date\": \"2022-05-04T00:00:00\", \"num_sched\": 270, \"num_vp\": 124, \"avg\": 0.45925925925925926}, {\"calitp_itp_id\": 167, \"agency_name\": \"Livermore Amador Valley Transit Authority\", \"service_date\": \"2022-05-04T00:00:00\", \"num_sched\": 338, \"num_vp\": 262, \"avg\": 0.7751479289940828}, {\"calitp_itp_id\": 201, \"agency_name\": \"Mission Bay TMA\", \"service_date\": \"2022-05-04T00:00:00\", \"num_sched\": 111, \"num_vp\": 0, \"avg\": 0.0}, {\"calitp_itp_id\": 61, \"agency_name\": \"County Connection\", \"service_date\": \"2022-05-04T00:00:00\", \"num_sched\": 922, \"num_vp\": 662, \"avg\": 0.7180043383947939}, {\"calitp_itp_id\": 368, \"agency_name\": \"WestCat (Western Contra Costa)\", \"service_date\": \"2022-05-04T00:00:00\", \"num_sched\": 555, \"num_vp\": 0, \"avg\": 0.0}, {\"calitp_itp_id\": 264, \"agency_name\": \"Rio Vista Delta Breeze\", \"service_date\": \"2022-05-04T00:00:00\", \"num_sched\": 8, \"num_vp\": 0, \"avg\": 0.0}, {\"calitp_itp_id\": 294, \"agency_name\": \"VTA\", \"service_date\": \"2022-05-04T00:00:00\", \"num_sched\": 3657, \"num_vp\": 3560, \"avg\": 0.9734755263877495}, {\"calitp_itp_id\": 56, \"agency_name\": \"Capitol Corridor Joint Powers Authority\", \"service_date\": \"2022-05-04T00:00:00\", \"num_sched\": 51, \"num_vp\": 0, \"avg\": 0.0}, {\"calitp_itp_id\": 314, \"agency_name\": \"Sonoma County Transit\", \"service_date\": \"2022-05-04T00:00:00\", \"num_sched\": 251, \"num_vp\": 0, \"avg\": 0.0}, {\"calitp_itp_id\": 315, \"agency_name\": \"Sonoma Marin Area Rail Transit\", \"service_date\": \"2022-05-04T00:00:00\", \"num_sched\": 26, \"num_vp\": 26, \"avg\": 1.0}, {\"calitp_itp_id\": 356, \"agency_name\": \"Vacaville City Coach\", \"service_date\": \"2022-05-04T00:00:00\", \"num_sched\": 123, \"num_vp\": 0, \"avg\": 0.0}, {\"calitp_itp_id\": 127, \"agency_name\": \"Golden Gate Transit\", \"service_date\": \"2022-05-04T00:00:00\", \"num_sched\": 196, \"num_vp\": 196, \"avg\": 1.0}, {\"calitp_itp_id\": 194, \"agency_name\": \"Marin Transit\", \"service_date\": \"2022-05-04T00:00:00\", \"num_sched\": 704, \"num_vp\": 635, \"avg\": 0.9019886363636364}, {\"calitp_itp_id\": 218, \"agency_name\": \"VINE Transit\", \"service_date\": \"2022-05-04T00:00:00\", \"num_sched\": 216, \"num_vp\": 182, \"avg\": 0.8425925925925926}, {\"calitp_itp_id\": 246, \"agency_name\": \"Caltrain\", \"service_date\": \"2022-05-04T00:00:00\", \"num_sched\": 88, \"num_vp\": 68, \"avg\": 0.7727272727272727}, {\"calitp_itp_id\": 247, \"agency_name\": \"Petaluma\", \"service_date\": \"2022-05-04T00:00:00\", \"num_sched\": 233, \"num_vp\": 158, \"avg\": 0.6781115879828327}, {\"calitp_itp_id\": 310, \"agency_name\": \"SolTrans\", \"service_date\": \"2022-05-04T00:00:00\", \"num_sched\": 402, \"num_vp\": 349, \"avg\": 0.8681592039800995}, {\"calitp_itp_id\": 301, \"agency_name\": \"Santa Rosa CityBus\", \"service_date\": \"2022-05-04T00:00:00\", \"num_sched\": 573, \"num_vp\": 515, \"avg\": 0.8987783595113438}, {\"calitp_itp_id\": 257, \"agency_name\": \"PresidiGo\", \"service_date\": \"2022-05-04T00:00:00\", \"num_sched\": 45, \"num_vp\": 28, \"avg\": 0.6222222222222222}, {\"calitp_itp_id\": 106, \"agency_name\": \"Emery Go-Round\", \"service_date\": \"2022-05-04T00:00:00\", \"num_sched\": 133, \"num_vp\": 133, \"avg\": 1.0}, {\"calitp_itp_id\": 110, \"agency_name\": \"Fairfield and Suisun Transit\", \"service_date\": \"2022-05-04T00:00:00\", \"num_sched\": 317, \"num_vp\": 317, \"avg\": 1.0}, {\"calitp_itp_id\": 76, \"agency_name\": \"Commute.org Shuttles\", \"service_date\": \"2022-05-04T00:00:00\", \"num_sched\": 250, \"num_vp\": 0, \"avg\": 0.0}, {\"calitp_itp_id\": 282, \"agency_name\": \"San Francisco Municipal Transportation Agency\", \"service_date\": \"2022-05-04T00:00:00\", \"num_sched\": 8707, \"num_vp\": 8268, \"avg\": 0.9495807970598369}, {\"calitp_itp_id\": 4, \"agency_name\": \"AC TRANSIT\", \"service_date\": \"2022-05-04T00:00:00\", \"num_sched\": 5378, \"num_vp\": 4932, \"avg\": 0.9170695425808851}, {\"calitp_itp_id\": 76, \"agency_name\": \"SamTrans\", \"service_date\": \"2022-05-04T00:00:00\", \"num_sched\": 47, \"num_vp\": 0, \"avg\": 0.0}, {\"calitp_itp_id\": 279, \"agency_name\": \"Bay Area Rapid Transit\", \"service_date\": \"2022-05-04T00:00:00\", \"num_sched\": 1012, \"num_vp\": 0, \"avg\": 0.0}, {\"calitp_itp_id\": 280, \"agency_name\": \"San Francisco Bay Ferry\", \"service_date\": \"2022-05-04T00:00:00\", \"num_sched\": 141, \"num_vp\": 0, \"avg\": 0.0}, {\"calitp_itp_id\": 199, \"agency_name\": \"SamTrans\", \"service_date\": \"2022-05-04T00:00:00\", \"num_sched\": 24, \"num_vp\": 0, \"avg\": 0.0}], \"data-e95eff5cd6ef4ee60b7dbf6d8c95ef78\": [{\"agency_name\": \"Tri Delta Transit\", \"route_id\": \"300\", \"route_short_name\": \"300\", \"service_date\": \"2022-05-04T00:00:00\", \"pct_w_vp\": 0.9523809523809523}, {\"agency_name\": \"Tri Delta Transit\", \"route_id\": \"383\", \"route_short_name\": \"383\", \"service_date\": \"2022-05-04T00:00:00\", \"pct_w_vp\": 0.96}, {\"agency_name\": \"Tri Delta Transit\", \"route_id\": \"202\", \"route_short_name\": \"202\", \"service_date\": \"2022-05-04T00:00:00\", \"pct_w_vp\": 1.0}, {\"agency_name\": \"Tri Delta Transit\", \"route_id\": \"384\", \"route_short_name\": \"384\", \"service_date\": \"2022-05-04T00:00:00\", \"pct_w_vp\": 0.8076923076923077}, {\"agency_name\": \"Tri Delta Transit\", \"route_id\": \"379\", \"route_short_name\": \"379\", \"service_date\": \"2022-05-04T00:00:00\", \"pct_w_vp\": 1.0}, {\"agency_name\": \"Tri Delta Transit\", \"route_id\": \"388\", \"route_short_name\": \"388\", \"service_date\": \"2022-05-04T00:00:00\", \"pct_w_vp\": 0.967741935483871}, {\"agency_name\": \"Tri Delta Transit\", \"route_id\": \"389\", \"route_short_name\": \"389\", \"service_date\": \"2022-05-04T00:00:00\", \"pct_w_vp\": 1.0}, {\"agency_name\": \"Tri Delta Transit\", \"route_id\": \"391\", \"route_short_name\": \"391\", \"service_date\": \"2022-05-04T00:00:00\", \"pct_w_vp\": 1.0}, {\"agency_name\": \"Tri Delta Transit\", \"route_id\": \"385\", \"route_short_name\": \"385\", \"service_date\": \"2022-05-04T00:00:00\", \"pct_w_vp\": 1.0}, {\"agency_name\": \"Tri Delta Transit\", \"route_id\": \"201\", \"route_short_name\": \"201\", \"service_date\": \"2022-05-04T00:00:00\", \"pct_w_vp\": 1.0}, {\"agency_name\": \"Tri Delta Transit\", \"route_id\": \"381\", \"route_short_name\": \"381\", \"service_date\": \"2022-05-04T00:00:00\", \"pct_w_vp\": 1.0}, {\"agency_name\": \"Tri Delta Transit\", \"route_id\": \"390\", \"route_short_name\": \"390\", \"service_date\": \"2022-05-04T00:00:00\", \"pct_w_vp\": 1.0}, {\"agency_name\": \"Tri Delta Transit\", \"route_id\": \"387\", \"route_short_name\": \"387\", \"service_date\": \"2022-05-04T00:00:00\", \"pct_w_vp\": 0.9411764705882353}, {\"agency_name\": \"Tri Delta Transit\", \"route_id\": \"200\", \"route_short_name\": \"200\", \"service_date\": \"2022-05-04T00:00:00\", \"pct_w_vp\": 1.0}, {\"agency_name\": \"Tri Delta Transit\", \"route_id\": \"380\", \"route_short_name\": \"380\", \"service_date\": \"2022-05-04T00:00:00\", \"pct_w_vp\": 0.975}, {\"agency_name\": \"Stanford Marguerite Shuttle\", \"route_id\": \"14602095\", \"route_short_name\": \"RP PM\", \"service_date\": \"2022-05-04T00:00:00\", \"pct_w_vp\": 0.0}, {\"agency_name\": \"Stanford Marguerite Shuttle\", \"route_id\": \"33\", \"route_short_name\": null, \"service_date\": \"2022-05-04T00:00:00\", \"pct_w_vp\": 0.0}, {\"agency_name\": \"Stanford Marguerite Shuttle\", \"route_id\": \"52\", \"route_short_name\": null, \"service_date\": \"2022-05-04T00:00:00\", \"pct_w_vp\": 0.0}, {\"agency_name\": \"Stanford Marguerite Shuttle\", \"route_id\": \"36\", \"route_short_name\": null, \"service_date\": \"2022-05-04T00:00:00\", \"pct_w_vp\": 0.0}, {\"agency_name\": \"Stanford Marguerite Shuttle\", \"route_id\": \"3\", \"route_short_name\": null, \"service_date\": \"2022-05-04T00:00:00\", \"pct_w_vp\": 0.0}, {\"agency_name\": \"Stanford Marguerite Shuttle\", \"route_id\": \"55\", \"route_short_name\": \"EB\", \"service_date\": \"2022-05-04T00:00:00\", \"pct_w_vp\": 0.0}, {\"agency_name\": \"Stanford Marguerite Shuttle\", \"route_id\": \"2\", \"route_short_name\": null, \"service_date\": \"2022-05-04T00:00:00\", \"pct_w_vp\": 0.0}, {\"agency_name\": \"Stanford Marguerite Shuttle\", \"route_id\": \"22\", \"route_short_name\": \"MC\", \"service_date\": \"2022-05-04T00:00:00\", \"pct_w_vp\": 0.0}, {\"agency_name\": \"Stanford Marguerite Shuttle\", \"route_id\": \"51\", \"route_short_name\": null, \"service_date\": \"2022-05-04T00:00:00\", \"pct_w_vp\": 0.0}, {\"agency_name\": \"Stanford Marguerite Shuttle\", \"route_id\": \"59\", \"route_short_name\": \"HD\", \"service_date\": \"2022-05-04T00:00:00\", \"pct_w_vp\": 0.0}, {\"agency_name\": \"Stanford Marguerite Shuttle\", \"route_id\": \"56\", \"route_short_name\": \"OCA\", \"service_date\": \"2022-05-04T00:00:00\", \"pct_w_vp\": 0.0}, {\"agency_name\": \"Stanford Marguerite Shuttle\", \"route_id\": \"11273689\", \"route_short_name\": null, \"service_date\": \"2022-05-04T00:00:00\", \"pct_w_vp\": 0.0}, {\"agency_name\": \"Stanford Marguerite Shuttle\", \"route_id\": \"38\", \"route_short_name\": \"RP AM\", \"service_date\": \"2022-05-04T00:00:00\", \"pct_w_vp\": 0.0}, {\"agency_name\": \"Sonoma County Transit\", \"route_id\": \"1038\", \"route_short_name\": \"10\", \"service_date\": \"2022-05-04T00:00:00\", \"pct_w_vp\": 0.0}, {\"agency_name\": \"Sonoma County Transit\", \"route_id\": \"1026\", \"route_short_name\": \"20\", \"service_date\": \"2022-05-04T00:00:00\", \"pct_w_vp\": 0.0}, {\"agency_name\": \"Sonoma County Transit\", \"route_id\": \"1079\", \"route_short_name\": \"67\", \"service_date\": \"2022-05-04T00:00:00\", \"pct_w_vp\": 0.0}, {\"agency_name\": \"Sonoma County Transit\", \"route_id\": \"1040\", \"route_short_name\": \"14\", \"service_date\": \"2022-05-04T00:00:00\", \"pct_w_vp\": 0.0}, {\"agency_name\": \"Sonoma County Transit\", \"route_id\": \"1031\", \"route_short_name\": \"40\", \"service_date\": \"2022-05-04T00:00:00\", \"pct_w_vp\": 0.0}, {\"agency_name\": \"Sonoma County Transit\", \"route_id\": \"1051\", \"route_short_name\": \"30X\", \"service_date\": \"2022-05-04T00:00:00\", \"pct_w_vp\": 0.0}, {\"agency_name\": \"Sonoma County Transit\", \"route_id\": \"1043\", \"route_short_name\": \"32\", \"service_date\": \"2022-05-04T00:00:00\", \"pct_w_vp\": 0.0}, {\"agency_name\": \"Sonoma County Transit\", \"route_id\": \"1036\", \"route_short_name\": \"60\", \"service_date\": \"2022-05-04T00:00:00\", \"pct_w_vp\": 0.0}, {\"agency_name\": \"Sonoma County Transit\", \"route_id\": \"1035\", \"route_short_name\": \"48\", \"service_date\": \"2022-05-04T00:00:00\", \"pct_w_vp\": 0.0}, {\"agency_name\": \"Sonoma County Transit\", \"route_id\": \"3283\", \"route_short_name\": \"68\", \"service_date\": \"2022-05-04T00:00:00\", \"pct_w_vp\": 0.0}, {\"agency_name\": \"Sonoma County Transit\", \"route_id\": \"1028\", \"route_short_name\": \"26\", \"service_date\": \"2022-05-04T00:00:00\", \"pct_w_vp\": 0.0}, {\"agency_name\": \"Sonoma County Transit\", \"route_id\": \"1039\", \"route_short_name\": \"12\", \"service_date\": \"2022-05-04T00:00:00\", \"pct_w_vp\": 0.0}, {\"agency_name\": \"Sonoma County Transit\", \"route_id\": \"1044\", \"route_short_name\": \"66\", \"service_date\": \"2022-05-04T00:00:00\", \"pct_w_vp\": 0.0}, {\"agency_name\": \"Sonoma County Transit\", \"route_id\": \"1041\", \"route_short_name\": \"24\", \"service_date\": \"2022-05-04T00:00:00\", \"pct_w_vp\": 0.0}, {\"agency_name\": \"Sonoma County Transit\", \"route_id\": \"1032\", \"route_short_name\": \"42\", \"service_date\": \"2022-05-04T00:00:00\", \"pct_w_vp\": 0.0}, {\"agency_name\": \"Petaluma Transit\", \"route_id\": \"2051\", \"route_short_name\": \"303\", \"service_date\": \"2022-05-04T00:00:00\", \"pct_w_vp\": 0.0}, {\"agency_name\": \"Petaluma Transit\", \"route_id\": \"9748\", \"route_short_name\": \"301\", \"service_date\": \"2022-05-04T00:00:00\", \"pct_w_vp\": 0.0}, {\"agency_name\": \"Petaluma Transit\", \"route_id\": \"2039\", \"route_short_name\": \"11\", \"service_date\": \"2022-05-04T00:00:00\", \"pct_w_vp\": 0.0}, {\"agency_name\": \"Petaluma Transit\", \"route_id\": \"2037\", \"route_short_name\": \"3\", \"service_date\": \"2022-05-04T00:00:00\", \"pct_w_vp\": 0.0}, {\"agency_name\": \"Petaluma Transit\", \"route_id\": \"2035\", \"route_short_name\": \"501\", \"service_date\": \"2022-05-04T00:00:00\", \"pct_w_vp\": 0.0}, {\"agency_name\": \"Petaluma Transit\", \"route_id\": \"2036\", \"route_short_name\": \"2\", \"service_date\": \"2022-05-04T00:00:00\", \"pct_w_vp\": 0.0}, {\"agency_name\": \"Petaluma Transit\", \"route_id\": \"5270\", \"route_short_name\": \"312\", \"service_date\": \"2022-05-04T00:00:00\", \"pct_w_vp\": 0.0}, {\"agency_name\": \"Petaluma Transit\", \"route_id\": \"2052\", \"route_short_name\": \"302\", \"service_date\": \"2022-05-04T00:00:00\", \"pct_w_vp\": 0.0}, {\"agency_name\": \"Petaluma Transit\", \"route_id\": \"2049\", \"route_short_name\": \"311\", \"service_date\": \"2022-05-04T00:00:00\", \"pct_w_vp\": 0.0}, {\"agency_name\": \"Petaluma Transit\", \"route_id\": \"2038\", \"route_short_name\": \"33\", \"service_date\": \"2022-05-04T00:00:00\", \"pct_w_vp\": 0.0}, {\"agency_name\": \"Petaluma Transit\", \"route_id\": \"2040\", \"route_short_name\": \"24\", \"service_date\": \"2022-05-04T00:00:00\", \"pct_w_vp\": 0.0}, {\"agency_name\": \"Petaluma Transit\", \"route_id\": \"2034\", \"route_short_name\": \"10\", \"service_date\": \"2022-05-04T00:00:00\", \"pct_w_vp\": 0.0}, {\"agency_name\": \"San Francisco International Airport\", \"route_id\": \"West Field Garage\", \"route_short_name\": \"West Field Garage\", \"service_date\": \"2022-05-04T00:00:00\", \"pct_w_vp\": 0.0}, {\"agency_name\": \"San Francisco International Airport\", \"route_id\": \"Lot D\", \"route_short_name\": \"Lot D\", \"service_date\": \"2022-05-04T00:00:00\", \"pct_w_vp\": 0.0}, {\"agency_name\": \"San Francisco International Airport\", \"route_id\": \"Red Line\", \"route_short_name\": \"Red Line\", \"service_date\": \"2022-05-04T00:00:00\", \"pct_w_vp\": 0.0}, {\"agency_name\": \"SamTrans\", \"route_id\": \"120\", \"route_short_name\": \"120\", \"service_date\": \"2022-05-04T00:00:00\", \"pct_w_vp\": 0.0}, {\"agency_name\": \"SamTrans\", \"route_id\": \"122\", \"route_short_name\": \"122\", \"service_date\": \"2022-05-04T00:00:00\", \"pct_w_vp\": 0.0}, {\"agency_name\": \"SamTrans\", \"route_id\": \"250\", \"route_short_name\": \"250\", \"service_date\": \"2022-05-04T00:00:00\", \"pct_w_vp\": 0.0}, {\"agency_name\": \"SamTrans\", \"route_id\": \"286\", \"route_short_name\": \"286\", \"service_date\": \"2022-05-04T00:00:00\", \"pct_w_vp\": 0.0}, {\"agency_name\": \"SamTrans\", \"route_id\": \"280\", \"route_short_name\": \"280\", \"service_date\": \"2022-05-04T00:00:00\", \"pct_w_vp\": 0.0}, {\"agency_name\": \"SamTrans\", \"route_id\": \"17\", \"route_short_name\": \"17\", \"service_date\": \"2022-05-04T00:00:00\", \"pct_w_vp\": 0.0}, {\"agency_name\": \"SamTrans\", \"route_id\": \"292\", \"route_short_name\": \"292\", \"service_date\": \"2022-05-04T00:00:00\", \"pct_w_vp\": 0.0}, {\"agency_name\": \"SamTrans\", \"route_id\": \"278\", \"route_short_name\": \"278\", \"service_date\": \"2022-05-04T00:00:00\", \"pct_w_vp\": 0.0}, {\"agency_name\": \"SamTrans\", \"route_id\": \"112\", \"route_short_name\": \"112\", \"service_date\": \"2022-05-04T00:00:00\", \"pct_w_vp\": 0.0}, {\"agency_name\": \"SamTrans\", \"route_id\": \"FCX\", \"route_short_name\": \"FCX\", \"service_date\": \"2022-05-04T00:00:00\", \"pct_w_vp\": 0.0}, {\"agency_name\": \"SamTrans\", \"route_id\": \"38\", \"route_short_name\": \"38\", \"service_date\": \"2022-05-04T00:00:00\", \"pct_w_vp\": 0.0}, {\"agency_name\": \"SamTrans\", \"route_id\": \"141\", \"route_short_name\": \"141\", \"service_date\": \"2022-05-04T00:00:00\", \"pct_w_vp\": 0.0}, {\"agency_name\": \"SamTrans\", \"route_id\": \"SFO\", \"route_short_name\": \"SFO\", \"service_date\": \"2022-05-04T00:00:00\", \"pct_w_vp\": 0.0}, {\"agency_name\": \"SamTrans\", \"route_id\": \"295\", \"route_short_name\": \"295\", \"service_date\": \"2022-05-04T00:00:00\", \"pct_w_vp\": 0.0}, {\"agency_name\": \"SamTrans\", \"route_id\": \"FLX\", \"route_short_name\": \"FLX\", \"service_date\": \"2022-05-04T00:00:00\", \"pct_w_vp\": 0.0}, {\"agency_name\": \"SamTrans\", \"route_id\": \"296\", \"route_short_name\": \"296\", \"service_date\": \"2022-05-04T00:00:00\", \"pct_w_vp\": 0.0}, {\"agency_name\": \"SamTrans\", \"route_id\": \"251\", \"route_short_name\": \"251\", \"service_date\": \"2022-05-04T00:00:00\", \"pct_w_vp\": 0.0}, {\"agency_name\": \"SamTrans\", \"route_id\": \"121\", \"route_short_name\": \"121\", \"service_date\": \"2022-05-04T00:00:00\", \"pct_w_vp\": 0.0}, {\"agency_name\": \"SamTrans\", \"route_id\": \"140\", \"route_short_name\": \"140\", \"service_date\": \"2022-05-04T00:00:00\", \"pct_w_vp\": 0.0}, {\"agency_name\": \"SamTrans\", \"route_id\": \"256\", \"route_short_name\": \"256\", \"service_date\": \"2022-05-04T00:00:00\", \"pct_w_vp\": 0.0}, {\"agency_name\": \"SamTrans\", \"route_id\": \"713\", \"route_short_name\": \"713\", \"service_date\": \"2022-05-04T00:00:00\", \"pct_w_vp\": 0.0}, {\"agency_name\": \"SamTrans\", \"route_id\": \"260\", \"route_short_name\": \"260\", \"service_date\": \"2022-05-04T00:00:00\", \"pct_w_vp\": 0.0}, {\"agency_name\": \"SamTrans\", \"route_id\": \"398\", \"route_short_name\": \"398\", \"service_date\": \"2022-05-04T00:00:00\", \"pct_w_vp\": 0.0}, {\"agency_name\": \"SamTrans\", \"route_id\": \"130\", \"route_short_name\": \"130\", \"service_date\": \"2022-05-04T00:00:00\", \"pct_w_vp\": 0.0}, {\"agency_name\": \"SamTrans\", \"route_id\": \"397\", \"route_short_name\": \"397\", \"service_date\": \"2022-05-04T00:00:00\", \"pct_w_vp\": 0.42857142857142855}, {\"agency_name\": \"SamTrans\", \"route_id\": \"281\", \"route_short_name\": \"281\", \"service_date\": \"2022-05-04T00:00:00\", \"pct_w_vp\": 0.0}, {\"agency_name\": \"SamTrans\", \"route_id\": \"270\", \"route_short_name\": \"270\", \"service_date\": \"2022-05-04T00:00:00\", \"pct_w_vp\": 0.0}, {\"agency_name\": \"SamTrans\", \"route_id\": \"ECR\", \"route_short_name\": \"ECR\", \"service_date\": \"2022-05-04T00:00:00\", \"pct_w_vp\": 0.0}, {\"agency_name\": \"SamTrans\", \"route_id\": \"294\", \"route_short_name\": \"294\", \"service_date\": \"2022-05-04T00:00:00\", \"pct_w_vp\": 0.0}, {\"agency_name\": \"SamTrans\", \"route_id\": \"110\", \"route_short_name\": \"110\", \"service_date\": \"2022-05-04T00:00:00\", \"pct_w_vp\": 0.0}, {\"agency_name\": \"Union City Transit\", \"route_id\": \"4\", \"route_short_name\": \"4\", \"service_date\": \"2022-05-04T00:00:00\", \"pct_w_vp\": 0.7058823529411765}, {\"agency_name\": \"Union City Transit\", \"route_id\": \"3\", \"route_short_name\": \"3\", \"service_date\": \"2022-05-04T00:00:00\", \"pct_w_vp\": 0.7352941176470589}, {\"agency_name\": \"Union City Transit\", \"route_id\": \"5\", \"route_short_name\": \"5\", \"service_date\": \"2022-05-04T00:00:00\", \"pct_w_vp\": 0.3484848484848485}, {\"agency_name\": \"Union City Transit\", \"route_id\": \"1\", \"route_short_name\": \"1\", \"service_date\": \"2022-05-04T00:00:00\", \"pct_w_vp\": 0.16176470588235295}, {\"agency_name\": \"Union City Transit\", \"route_id\": \"2\", \"route_short_name\": \"2\", \"service_date\": \"2022-05-04T00:00:00\", \"pct_w_vp\": 0.6029411764705882}, {\"agency_name\": \"Livermore Amador Valley Transit Authority\", \"route_id\": \"14\", \"route_short_name\": \"14\", \"service_date\": \"2022-05-04T00:00:00\", \"pct_w_vp\": 0.7317073170731707}, {\"agency_name\": \"Livermore Amador Valley Transit Authority\", \"route_id\": \"501\", \"route_short_name\": \"501\", \"service_date\": \"2022-05-04T00:00:00\", \"pct_w_vp\": 1.0}, {\"agency_name\": \"Livermore Amador Valley Transit Authority\", \"route_id\": \"54\", \"route_short_name\": \"54\", \"service_date\": \"2022-05-04T00:00:00\", \"pct_w_vp\": 0.8}, {\"agency_name\": \"Livermore Amador Valley Transit Authority\", \"route_id\": \"10R\", \"route_short_name\": \"10R\", \"service_date\": \"2022-05-04T00:00:00\", \"pct_w_vp\": 0.75}, {\"agency_name\": \"Livermore Amador Valley Transit Authority\", \"route_id\": \"3\", \"route_short_name\": \"3\", \"service_date\": \"2022-05-04T00:00:00\", \"pct_w_vp\": 0.68}, {\"agency_name\": \"Livermore Amador Valley Transit Authority\", \"route_id\": \"503\", \"route_short_name\": \"503\", \"service_date\": \"2022-05-04T00:00:00\", \"pct_w_vp\": 1.0}, {\"agency_name\": \"Livermore Amador Valley Transit Authority\", \"route_id\": \"15\", \"route_short_name\": \"15\", \"service_date\": \"2022-05-04T00:00:00\", \"pct_w_vp\": 0.75}, {\"agency_name\": \"Livermore Amador Valley Transit Authority\", \"route_id\": \"1\", \"route_short_name\": \"1\", \"service_date\": \"2022-05-04T00:00:00\", \"pct_w_vp\": 0.7391304347826086}, {\"agency_name\": \"Livermore Amador Valley Transit Authority\", \"route_id\": \"53\", \"route_short_name\": \"53\", \"service_date\": \"2022-05-04T00:00:00\", \"pct_w_vp\": 0.75}, {\"agency_name\": \"Livermore Amador Valley Transit Authority\", \"route_id\": \"504\", \"route_short_name\": \"504\", \"service_date\": \"2022-05-04T00:00:00\", \"pct_w_vp\": 1.0}, {\"agency_name\": \"Livermore Amador Valley Transit Authority\", \"route_id\": \"502\", \"route_short_name\": \"502\", \"service_date\": \"2022-05-04T00:00:00\", \"pct_w_vp\": 1.0}, {\"agency_name\": \"Livermore Amador Valley Transit Authority\", \"route_id\": \"8\", \"route_short_name\": \"8\", \"service_date\": \"2022-05-04T00:00:00\", \"pct_w_vp\": 0.7272727272727273}, {\"agency_name\": \"Livermore Amador Valley Transit Authority\", \"route_id\": \"30R\", \"route_short_name\": \"30R\", \"service_date\": \"2022-05-04T00:00:00\", \"pct_w_vp\": 0.734375}, {\"agency_name\": \"Mission Bay TMA\", \"route_id\": \"6283\", \"route_short_name\": null, \"service_date\": \"2022-05-04T00:00:00\", \"pct_w_vp\": 0.0}, {\"agency_name\": \"Mission Bay TMA\", \"route_id\": \"10992\", \"route_short_name\": null, \"service_date\": \"2022-05-04T00:00:00\", \"pct_w_vp\": 0.0}, {\"agency_name\": \"Mission Bay TMA\", \"route_id\": \"6280\", \"route_short_name\": null, \"service_date\": \"2022-05-04T00:00:00\", \"pct_w_vp\": 0.0}, {\"agency_name\": \"Mission Bay TMA\", \"route_id\": \"6279\", \"route_short_name\": null, \"service_date\": \"2022-05-04T00:00:00\", \"pct_w_vp\": 0.0}, {\"agency_name\": \"County Connection\", \"route_id\": \"92X\", \"route_short_name\": \"92X\", \"service_date\": \"2022-05-04T00:00:00\", \"pct_w_vp\": 0.625}, {\"agency_name\": \"County Connection\", \"route_id\": \"20\", \"route_short_name\": \"20\", \"service_date\": \"2022-05-04T00:00:00\", \"pct_w_vp\": 0.6285714285714286}, {\"agency_name\": \"County Connection\", \"route_id\": \"19\", \"route_short_name\": \"19\", \"service_date\": \"2022-05-04T00:00:00\", \"pct_w_vp\": 0.8235294117647058}, {\"agency_name\": \"County Connection\", \"route_id\": \"625\", \"route_short_name\": \"625\", \"service_date\": \"2022-05-04T00:00:00\", \"pct_w_vp\": 0.5}, {\"agency_name\": \"County Connection\", \"route_id\": \"21\", \"route_short_name\": \"21\", \"service_date\": \"2022-05-04T00:00:00\", \"pct_w_vp\": 0.673469387755102}, {\"agency_name\": \"County Connection\", \"route_id\": \"14\", \"route_short_name\": \"14\", \"service_date\": \"2022-05-04T00:00:00\", \"pct_w_vp\": 0.7540983606557377}, {\"agency_name\": \"County Connection\", \"route_id\": \"15\", \"route_short_name\": \"15\", \"service_date\": \"2022-05-04T00:00:00\", \"pct_w_vp\": 0.717948717948718}, {\"agency_name\": \"County Connection\", \"route_id\": \"635\", \"route_short_name\": \"635\", \"service_date\": \"2022-05-04T00:00:00\", \"pct_w_vp\": 1.0}, {\"agency_name\": \"County Connection\", \"route_id\": \"98X\", \"route_short_name\": \"98X\", \"service_date\": \"2022-05-04T00:00:00\", \"pct_w_vp\": 0.5833333333333334}, {\"agency_name\": \"County Connection\", \"route_id\": \"613\", \"route_short_name\": \"613\", \"service_date\": \"2022-05-04T00:00:00\", \"pct_w_vp\": 1.0}, {\"agency_name\": \"County Connection\", \"route_id\": \"99X\", \"route_short_name\": \"99X\", \"service_date\": \"2022-05-04T00:00:00\", \"pct_w_vp\": 0.8421052631578947}, {\"agency_name\": \"County Connection\", \"route_id\": \"35\", \"route_short_name\": \"35\", \"service_date\": \"2022-05-04T00:00:00\", \"pct_w_vp\": 0.7692307692307693}, {\"agency_name\": \"County Connection\", \"route_id\": \"9\", \"route_short_name\": \"9\", \"service_date\": \"2022-05-04T00:00:00\", \"pct_w_vp\": 0.7666666666666667}, {\"agency_name\": \"County Connection\", \"route_id\": \"622\", \"route_short_name\": \"622\", \"service_date\": \"2022-05-04T00:00:00\", \"pct_w_vp\": 1.0}, {\"agency_name\": \"County Connection\", \"route_id\": \"1\", \"route_short_name\": \"1\", \"service_date\": \"2022-05-04T00:00:00\", \"pct_w_vp\": 0.5}, {\"agency_name\": \"County Connection\", \"route_id\": \"18\", \"route_short_name\": \"18\", \"service_date\": \"2022-05-04T00:00:00\", \"pct_w_vp\": 0.6818181818181818}, {\"agency_name\": \"County Connection\", \"route_id\": \"608\", \"route_short_name\": \"608\", \"service_date\": \"2022-05-04T00:00:00\", \"pct_w_vp\": 1.0}, {\"agency_name\": \"County Connection\", \"route_id\": \"611\", \"route_short_name\": \"611\", \"service_date\": \"2022-05-04T00:00:00\", \"pct_w_vp\": 1.0}, {\"agency_name\": \"County Connection\", \"route_id\": \"10\", \"route_short_name\": \"10\", \"service_date\": \"2022-05-04T00:00:00\", \"pct_w_vp\": 0.5813953488372093}, {\"agency_name\": \"County Connection\", \"route_id\": \"16\", \"route_short_name\": \"16\", \"service_date\": \"2022-05-04T00:00:00\", \"pct_w_vp\": 0.7391304347826086}, {\"agency_name\": \"County Connection\", \"route_id\": \"615\", \"route_short_name\": \"615\", \"service_date\": \"2022-05-04T00:00:00\", \"pct_w_vp\": 1.0}, {\"agency_name\": \"County Connection\", \"route_id\": \"602\", \"route_short_name\": \"602\", \"service_date\": \"2022-05-04T00:00:00\", \"pct_w_vp\": 1.0}, {\"agency_name\": \"County Connection\", \"route_id\": \"91X\", \"route_short_name\": \"91X\", \"service_date\": \"2022-05-04T00:00:00\", \"pct_w_vp\": 0.8}, {\"agency_name\": \"County Connection\", \"route_id\": \"27\", \"route_short_name\": \"27\", \"service_date\": \"2022-05-04T00:00:00\", \"pct_w_vp\": 0.75}, {\"agency_name\": \"County Connection\", \"route_id\": \"97X\", \"route_short_name\": \"97X\", \"service_date\": \"2022-05-04T00:00:00\", \"pct_w_vp\": 0.8333333333333334}, {\"agency_name\": \"County Connection\", \"route_id\": \"96X\", \"route_short_name\": \"96X\", \"service_date\": \"2022-05-04T00:00:00\", \"pct_w_vp\": 0.7692307692307693}, {\"agency_name\": \"County Connection\", \"route_id\": \"626\", \"route_short_name\": \"626\", \"service_date\": \"2022-05-04T00:00:00\", \"pct_w_vp\": 1.0}, {\"agency_name\": \"County Connection\", \"route_id\": \"612\", \"route_short_name\": \"612\", \"service_date\": \"2022-05-04T00:00:00\", \"pct_w_vp\": 1.0}, {\"agency_name\": \"County Connection\", \"route_id\": \"95X\", \"route_short_name\": \"95X\", \"service_date\": \"2022-05-04T00:00:00\", \"pct_w_vp\": 0.75}, {\"agency_name\": \"County Connection\", \"route_id\": \"93X\", \"route_short_name\": \"93X\", \"service_date\": \"2022-05-04T00:00:00\", \"pct_w_vp\": 0.6923076923076923}, {\"agency_name\": \"County Connection\", \"route_id\": \"4\", \"route_short_name\": \"4\", \"service_date\": \"2022-05-04T00:00:00\", \"pct_w_vp\": 0.7560975609756098}, {\"agency_name\": \"County Connection\", \"route_id\": \"605\", \"route_short_name\": \"605\", \"service_date\": \"2022-05-04T00:00:00\", \"pct_w_vp\": 1.0}, {\"agency_name\": \"County Connection\", \"route_id\": \"606\", \"route_short_name\": \"606\", \"service_date\": \"2022-05-04T00:00:00\", \"pct_w_vp\": 1.0}, {\"agency_name\": \"County Connection\", \"route_id\": \"601\", \"route_short_name\": \"601\", \"service_date\": \"2022-05-04T00:00:00\", \"pct_w_vp\": 1.0}, {\"agency_name\": \"County Connection\", \"route_id\": \"623\", \"route_short_name\": \"623\", \"service_date\": \"2022-05-04T00:00:00\", \"pct_w_vp\": 1.0}, {\"agency_name\": \"County Connection\", \"route_id\": \"6\", \"route_short_name\": \"6\", \"service_date\": \"2022-05-04T00:00:00\", \"pct_w_vp\": 0.7083333333333334}, {\"agency_name\": \"County Connection\", \"route_id\": \"7\", \"route_short_name\": \"7\", \"service_date\": \"2022-05-04T00:00:00\", \"pct_w_vp\": 0.7083333333333334}, {\"agency_name\": \"County Connection\", \"route_id\": \"619\", \"route_short_name\": \"619\", \"service_date\": \"2022-05-04T00:00:00\", \"pct_w_vp\": 1.0}, {\"agency_name\": \"County Connection\", \"route_id\": \"11\", \"route_short_name\": \"11\", \"service_date\": \"2022-05-04T00:00:00\", \"pct_w_vp\": 0.8}, {\"agency_name\": \"County Connection\", \"route_id\": \"636\", \"route_short_name\": \"636\", \"service_date\": \"2022-05-04T00:00:00\", \"pct_w_vp\": 1.0}, {\"agency_name\": \"County Connection\", \"route_id\": \"5\", \"route_short_name\": \"5\", \"service_date\": \"2022-05-04T00:00:00\", \"pct_w_vp\": 0.75}, {\"agency_name\": \"County Connection\", \"route_id\": \"17\", \"route_short_name\": \"17\", \"service_date\": \"2022-05-04T00:00:00\", \"pct_w_vp\": 0.8333333333333334}, {\"agency_name\": \"County Connection\", \"route_id\": \"616\", \"route_short_name\": \"616\", \"service_date\": \"2022-05-04T00:00:00\", \"pct_w_vp\": 1.0}, {\"agency_name\": \"County Connection\", \"route_id\": \"28\", \"route_short_name\": \"28\", \"service_date\": \"2022-05-04T00:00:00\", \"pct_w_vp\": 0.9130434782608695}, {\"agency_name\": \"WestCat (Western Contra Costa)\", \"route_id\": \"Lynx\", \"route_short_name\": \"Lynx\", \"service_date\": \"2022-05-04T00:00:00\", \"pct_w_vp\": 0.0}, {\"agency_name\": \"WestCat (Western Contra Costa)\", \"route_id\": \"16\", \"route_short_name\": \"16\", \"service_date\": \"2022-05-04T00:00:00\", \"pct_w_vp\": 0.0}, {\"agency_name\": \"WestCat (Western Contra Costa)\", \"route_id\": \"30Z\", \"route_short_name\": \"30Z\", \"service_date\": \"2022-05-04T00:00:00\", \"pct_w_vp\": 0.0}, {\"agency_name\": \"WestCat (Western Contra Costa)\", \"route_id\": \"JPX\", \"route_short_name\": \"JPX\", \"service_date\": \"2022-05-04T00:00:00\", \"pct_w_vp\": 0.0}, {\"agency_name\": \"WestCat (Western Contra Costa)\", \"route_id\": \"11\", \"route_short_name\": \"11\", \"service_date\": \"2022-05-04T00:00:00\", \"pct_w_vp\": 0.0}, {\"agency_name\": \"WestCat (Western Contra Costa)\", \"route_id\": \"10\", \"route_short_name\": \"10\", \"service_date\": \"2022-05-04T00:00:00\", \"pct_w_vp\": 0.0}, {\"agency_name\": \"WestCat (Western Contra Costa)\", \"route_id\": \"C3\", \"route_short_name\": \"C3\", \"service_date\": \"2022-05-04T00:00:00\", \"pct_w_vp\": 0.0}, {\"agency_name\": \"WestCat (Western Contra Costa)\", \"route_id\": \"12\", \"route_short_name\": \"12\", \"service_date\": \"2022-05-04T00:00:00\", \"pct_w_vp\": 0.0}, {\"agency_name\": \"WestCat (Western Contra Costa)\", \"route_id\": \"15\", \"route_short_name\": \"15\", \"service_date\": \"2022-05-04T00:00:00\", \"pct_w_vp\": 0.0}, {\"agency_name\": \"Rio Vista Delta Breeze\", \"route_id\": \"50\", \"route_short_name\": \"50\", \"service_date\": \"2022-05-04T00:00:00\", \"pct_w_vp\": 0.0}, {\"agency_name\": \"VTA\", \"route_id\": \"Rapid 568\", \"route_short_name\": \"Rapid 568\", \"service_date\": \"2022-05-04T00:00:00\", \"pct_w_vp\": 1.0}, {\"agency_name\": \"VTA\", \"route_id\": \"School 247\", \"route_short_name\": \"School 247\", \"service_date\": \"2022-05-04T00:00:00\", \"pct_w_vp\": 1.0}, {\"agency_name\": \"VTA\", \"route_id\": \"School 288M\", \"route_short_name\": \"School 288M\", \"service_date\": \"2022-05-04T00:00:00\", \"pct_w_vp\": 1.0}, {\"agency_name\": \"VTA\", \"route_id\": \"School 246\", \"route_short_name\": \"School 246\", \"service_date\": \"2022-05-04T00:00:00\", \"pct_w_vp\": 1.0}, {\"agency_name\": \"VTA\", \"route_id\": \"SCVMC\", \"route_short_name\": \"SCVMC\", \"service_date\": \"2022-05-04T00:00:00\", \"pct_w_vp\": 0.9411764705882353}, {\"agency_name\": \"VTA\", \"route_id\": \"Express 102\", \"route_short_name\": \"Express 102\", \"service_date\": \"2022-05-04T00:00:00\", \"pct_w_vp\": 1.0}, {\"agency_name\": \"VTA\", \"route_id\": \"School 288\", \"route_short_name\": \"School 288\", \"service_date\": \"2022-05-04T00:00:00\", \"pct_w_vp\": 1.0}, {\"agency_name\": \"VTA\", \"route_id\": \"ACE Gray\", \"route_short_name\": \"ACE Gray\", \"service_date\": \"2022-05-04T00:00:00\", \"pct_w_vp\": 0.2}, {\"agency_name\": \"VTA\", \"route_id\": \"73\", \"route_short_name\": \"73\", \"service_date\": \"2022-05-04T00:00:00\", \"pct_w_vp\": 0.9649122807017544}, {\"agency_name\": \"VTA\", \"route_id\": \"ACE Brown\", \"route_short_name\": \"ACE Brown\", \"service_date\": \"2022-05-04T00:00:00\", \"pct_w_vp\": 0.625}, {\"agency_name\": \"VTA\", \"route_id\": \"68\", \"route_short_name\": \"68\", \"service_date\": \"2022-05-04T00:00:00\", \"pct_w_vp\": 0.9763779527559056}, {\"agency_name\": \"VTA\", \"route_id\": \"School 256\", \"route_short_name\": \"School 256\", \"service_date\": \"2022-05-04T00:00:00\", \"pct_w_vp\": 1.0}, {\"agency_name\": \"VTA\", \"route_id\": \"86\", \"route_short_name\": \"86\", \"service_date\": \"2022-05-04T00:00:00\", \"pct_w_vp\": 1.0}, {\"agency_name\": \"VTA\", \"route_id\": \"Express 103\", \"route_short_name\": \"Express 103\", \"service_date\": \"2022-05-04T00:00:00\", \"pct_w_vp\": 0.8333333333333334}, {\"agency_name\": \"VTA\", \"route_id\": \"Rapid 522\", \"route_short_name\": \"Rapid 522\", \"service_date\": \"2022-05-04T00:00:00\", \"pct_w_vp\": 0.952755905511811}, {\"agency_name\": \"VTA\", \"route_id\": \"55\", \"route_short_name\": \"55\", \"service_date\": \"2022-05-04T00:00:00\", \"pct_w_vp\": 0.9852941176470589}, {\"agency_name\": \"VTA\", \"route_id\": \"Orange Line\", \"route_short_name\": \"Orange Line\", \"service_date\": \"2022-05-04T00:00:00\", \"pct_w_vp\": 1.0}, {\"agency_name\": \"VTA\", \"route_id\": \"Express 104\", \"route_short_name\": \"Express 104\", \"service_date\": \"2022-05-04T00:00:00\", \"pct_w_vp\": 1.0}, {\"agency_name\": \"VTA\", \"route_id\": \"ACE Green\", \"route_short_name\": \"ACE Green\", \"service_date\": \"2022-05-04T00:00:00\", \"pct_w_vp\": 0.0}, {\"agency_name\": \"VTA\", \"route_id\": \"School 287\", \"route_short_name\": \"School 287\", \"service_date\": \"2022-05-04T00:00:00\", \"pct_w_vp\": 1.0}, {\"agency_name\": \"VTA\", \"route_id\": \"21\", \"route_short_name\": \"21\", \"service_date\": \"2022-05-04T00:00:00\", \"pct_w_vp\": 1.0}, {\"agency_name\": \"VTA\", \"route_id\": \"64A\", \"route_short_name\": \"64A\", \"service_date\": \"2022-05-04T00:00:00\", \"pct_w_vp\": 1.0}, {\"agency_name\": \"VTA\", \"route_id\": \"Blue Line\", \"route_short_name\": \"Blue Line\", \"service_date\": \"2022-05-04T00:00:00\", \"pct_w_vp\": 1.0}, {\"agency_name\": \"VTA\", \"route_id\": \"School 270\", \"route_short_name\": \"School 270\", \"service_date\": \"2022-05-04T00:00:00\", \"pct_w_vp\": 1.0}, {\"agency_name\": \"VTA\", \"route_id\": \"72\", \"route_short_name\": \"72\", \"service_date\": \"2022-05-04T00:00:00\", \"pct_w_vp\": 0.9655172413793104}, {\"agency_name\": \"VTA\", \"route_id\": \"42\", \"route_short_name\": \"42\", \"service_date\": \"2022-05-04T00:00:00\", \"pct_w_vp\": 1.0}, {\"agency_name\": \"VTA\", \"route_id\": \"40\", \"route_short_name\": \"40\", \"service_date\": \"2022-05-04T00:00:00\", \"pct_w_vp\": 1.0}, {\"agency_name\": \"VTA\", \"route_id\": \"87\", \"route_short_name\": \"87\", \"service_date\": \"2022-05-04T00:00:00\", \"pct_w_vp\": 1.0}, {\"agency_name\": \"VTA\", \"route_id\": \"39\", \"route_short_name\": \"39\", \"service_date\": \"2022-05-04T00:00:00\", \"pct_w_vp\": 1.0}, {\"agency_name\": \"VTA\", \"route_id\": \"37\", \"route_short_name\": \"37\", \"service_date\": \"2022-05-04T00:00:00\", \"pct_w_vp\": 1.0}, {\"agency_name\": \"VTA\", \"route_id\": \"Express 101\", \"route_short_name\": \"Express 101\", \"service_date\": \"2022-05-04T00:00:00\", \"pct_w_vp\": 1.0}, {\"agency_name\": \"VTA\", \"route_id\": \"61\", \"route_short_name\": \"61\", \"service_date\": \"2022-05-04T00:00:00\", \"pct_w_vp\": 1.0}, {\"agency_name\": \"VTA\", \"route_id\": \"56\", \"route_short_name\": \"56\", \"service_date\": \"2022-05-04T00:00:00\", \"pct_w_vp\": 0.9841269841269841}, {\"agency_name\": \"VTA\", \"route_id\": \"20\", \"route_short_name\": \"20\", \"service_date\": \"2022-05-04T00:00:00\", \"pct_w_vp\": 1.0}, {\"agency_name\": \"VTA\", \"route_id\": \"Green Line\", \"route_short_name\": \"Green Line\", \"service_date\": \"2022-05-04T00:00:00\", \"pct_w_vp\": 1.0}, {\"agency_name\": \"VTA\", \"route_id\": \"47\", \"route_short_name\": \"47\", \"service_date\": \"2022-05-04T00:00:00\", \"pct_w_vp\": 1.0}, {\"agency_name\": \"VTA\", \"route_id\": \"ACE Violet\", \"route_short_name\": \"ACE Violet\", \"service_date\": \"2022-05-04T00:00:00\", \"pct_w_vp\": 0.5}, {\"agency_name\": \"VTA\", \"route_id\": \"59\", \"route_short_name\": \"59\", \"service_date\": \"2022-05-04T00:00:00\", \"pct_w_vp\": 1.0}, {\"agency_name\": \"VTA\", \"route_id\": \"Rapid 523\", \"route_short_name\": \"Rapid 523\", \"service_date\": \"2022-05-04T00:00:00\", \"pct_w_vp\": 1.0}, {\"agency_name\": \"VTA\", \"route_id\": \"51H\", \"route_short_name\": \"51H\", \"service_date\": \"2022-05-04T00:00:00\", \"pct_w_vp\": 1.0}, {\"agency_name\": \"VTA\", \"route_id\": \"ACE Yellow\", \"route_short_name\": \"ACE Yellow\", \"service_date\": \"2022-05-04T00:00:00\", \"pct_w_vp\": 0.0}, {\"agency_name\": \"VTA\", \"route_id\": \"Rapid 500\", \"route_short_name\": \"Rapid 500\", \"service_date\": \"2022-05-04T00:00:00\", \"pct_w_vp\": 0.9928571428571429}, {\"agency_name\": \"VTA\", \"route_id\": \"52\", \"route_short_name\": \"52\", \"service_date\": \"2022-05-04T00:00:00\", \"pct_w_vp\": 1.0}, {\"agency_name\": \"VTA\", \"route_id\": \"44\", \"route_short_name\": \"44\", \"service_date\": \"2022-05-04T00:00:00\", \"pct_w_vp\": 1.0}, {\"agency_name\": \"VTA\", \"route_id\": \"89\", \"route_short_name\": \"89\", \"service_date\": \"2022-05-04T00:00:00\", \"pct_w_vp\": 0.9714285714285714}, {\"agency_name\": \"VTA\", \"route_id\": \"ACE Orange\", \"route_short_name\": \"ACE Orange\", \"service_date\": \"2022-05-04T00:00:00\", \"pct_w_vp\": 0.625}, {\"agency_name\": \"VTA\", \"route_id\": \"51\", \"route_short_name\": \"51\", \"service_date\": \"2022-05-04T00:00:00\", \"pct_w_vp\": 1.0}, {\"agency_name\": \"VTA\", \"route_id\": \"22\", \"route_short_name\": \"22\", \"service_date\": \"2022-05-04T00:00:00\", \"pct_w_vp\": 0.9863013698630136}, {\"agency_name\": \"VTA\", \"route_id\": \"23\", \"route_short_name\": \"23\", \"service_date\": \"2022-05-04T00:00:00\", \"pct_w_vp\": 1.0}, {\"agency_name\": \"VTA\", \"route_id\": \"57\", \"route_short_name\": \"57\", \"service_date\": \"2022-05-04T00:00:00\", \"pct_w_vp\": 1.0}, {\"agency_name\": \"VTA\", \"route_id\": \"64B\", \"route_short_name\": \"64B\", \"service_date\": \"2022-05-04T00:00:00\", \"pct_w_vp\": 1.0}, {\"agency_name\": \"VTA\", \"route_id\": \"ACE Purple\", \"route_short_name\": \"ACE Purple\", \"service_date\": \"2022-05-04T00:00:00\", \"pct_w_vp\": 0.25}, {\"agency_name\": \"VTA\", \"route_id\": \"60\", \"route_short_name\": \"60\", \"service_date\": \"2022-05-04T00:00:00\", \"pct_w_vp\": 1.0}, {\"agency_name\": \"VTA\", \"route_id\": \"83\", \"route_short_name\": \"83\", \"service_date\": \"2022-05-04T00:00:00\", \"pct_w_vp\": 1.0}, {\"agency_name\": \"VTA\", \"route_id\": \"26\", \"route_short_name\": \"26\", \"service_date\": \"2022-05-04T00:00:00\", \"pct_w_vp\": 0.9912280701754386}, {\"agency_name\": \"VTA\", \"route_id\": \"70\", \"route_short_name\": \"70\", \"service_date\": \"2022-05-04T00:00:00\", \"pct_w_vp\": 0.9534883720930233}, {\"agency_name\": \"VTA\", \"route_id\": \"25\", \"route_short_name\": \"25\", \"service_date\": \"2022-05-04T00:00:00\", \"pct_w_vp\": 0.9536423841059603}, {\"agency_name\": \"VTA\", \"route_id\": \"77\", \"route_short_name\": \"77\", \"service_date\": \"2022-05-04T00:00:00\", \"pct_w_vp\": 0.9649122807017544}, {\"agency_name\": \"VTA\", \"route_id\": \"School 288L\", \"route_short_name\": \"School 288L\", \"service_date\": \"2022-05-04T00:00:00\", \"pct_w_vp\": 1.0}, {\"agency_name\": \"VTA\", \"route_id\": \"27\", \"route_short_name\": \"27\", \"service_date\": \"2022-05-04T00:00:00\", \"pct_w_vp\": 1.0}, {\"agency_name\": \"VTA\", \"route_id\": \"ACE Red\", \"route_short_name\": \"ACE Red\", \"service_date\": \"2022-05-04T00:00:00\", \"pct_w_vp\": 0.0}, {\"agency_name\": \"VTA\", \"route_id\": \"66\", \"route_short_name\": \"66\", \"service_date\": \"2022-05-04T00:00:00\", \"pct_w_vp\": 0.9921259842519685}, {\"agency_name\": \"VTA\", \"route_id\": \"71\", \"route_short_name\": \"71\", \"service_date\": \"2022-05-04T00:00:00\", \"pct_w_vp\": 0.9375}, {\"agency_name\": \"VTA\", \"route_id\": \"53\", \"route_short_name\": \"53\", \"service_date\": \"2022-05-04T00:00:00\", \"pct_w_vp\": 1.0}, {\"agency_name\": \"VTA\", \"route_id\": \"84\", \"route_short_name\": \"84\", \"service_date\": \"2022-05-04T00:00:00\", \"pct_w_vp\": 1.0}, {\"agency_name\": \"VTA\", \"route_id\": \"85\", \"route_short_name\": \"85\", \"service_date\": \"2022-05-04T00:00:00\", \"pct_w_vp\": 1.0}, {\"agency_name\": \"VTA\", \"route_id\": \"31\", \"route_short_name\": \"31\", \"service_date\": \"2022-05-04T00:00:00\", \"pct_w_vp\": 0.9824561403508771}, {\"agency_name\": \"Capitol Corridor Joint Powers Authority\", \"route_id\": \"SF\", \"route_short_name\": \"SF\", \"service_date\": \"2022-05-04T00:00:00\", \"pct_w_vp\": 0.0}, {\"agency_name\": \"Capitol Corridor Joint Powers Authority\", \"route_id\": \"CC\", \"route_short_name\": \"CC\", \"service_date\": \"2022-05-04T00:00:00\", \"pct_w_vp\": 0.0}, {\"agency_name\": \"Capitol Corridor Joint Powers Authority\", \"route_id\": \"Shuttle\", \"route_short_name\": \"Shuttle\", \"service_date\": \"2022-05-04T00:00:00\", \"pct_w_vp\": 0.0}, {\"agency_name\": \"Sonoma County Transit\", \"route_id\": \"68\", \"route_short_name\": \"68\", \"service_date\": \"2022-05-04T00:00:00\", \"pct_w_vp\": 0.0}, {\"agency_name\": \"Sonoma County Transit\", \"route_id\": \"14\", \"route_short_name\": \"14\", \"service_date\": \"2022-05-04T00:00:00\", \"pct_w_vp\": 0.0}, {\"agency_name\": \"Sonoma County Transit\", \"route_id\": \"26\", \"route_short_name\": \"26\", \"service_date\": \"2022-05-04T00:00:00\", \"pct_w_vp\": 0.0}, {\"agency_name\": \"Sonoma County Transit\", \"route_id\": \"48\", \"route_short_name\": \"48\", \"service_date\": \"2022-05-04T00:00:00\", \"pct_w_vp\": 0.0}, {\"agency_name\": \"Sonoma County Transit\", \"route_id\": \"42\", \"route_short_name\": \"42\", \"service_date\": \"2022-05-04T00:00:00\", \"pct_w_vp\": 0.0}, {\"agency_name\": \"Sonoma County Transit\", \"route_id\": \"12T\", \"route_short_name\": \"12T\", \"service_date\": \"2022-05-04T00:00:00\", \"pct_w_vp\": 0.0}, {\"agency_name\": \"Sonoma County Transit\", \"route_id\": \"12\", \"route_short_name\": \"12\", \"service_date\": \"2022-05-04T00:00:00\", \"pct_w_vp\": 0.0}, {\"agency_name\": \"Sonoma County Transit\", \"route_id\": \"40\", \"route_short_name\": \"40\", \"service_date\": \"2022-05-04T00:00:00\", \"pct_w_vp\": 0.0}, {\"agency_name\": \"Sonoma County Transit\", \"route_id\": \"34\", \"route_short_name\": \"34\", \"service_date\": \"2022-05-04T00:00:00\", \"pct_w_vp\": 0.0}, {\"agency_name\": \"Sonoma County Transit\", \"route_id\": \"67\", \"route_short_name\": \"67\", \"service_date\": \"2022-05-04T00:00:00\", \"pct_w_vp\": 0.0}, {\"agency_name\": \"Sonoma County Transit\", \"route_id\": \"44\", \"route_short_name\": \"44\", \"service_date\": \"2022-05-04T00:00:00\", \"pct_w_vp\": 0.0}, {\"agency_name\": \"Sonoma County Transit\", \"route_id\": \"32\", \"route_short_name\": \"32\", \"service_date\": \"2022-05-04T00:00:00\", \"pct_w_vp\": 0.0}, {\"agency_name\": \"Sonoma County Transit\", \"route_id\": \"30X\", \"route_short_name\": \"30X\", \"service_date\": \"2022-05-04T00:00:00\", \"pct_w_vp\": 0.0}, {\"agency_name\": \"Sonoma County Transit\", \"route_id\": \"66\", \"route_short_name\": \"66\", \"service_date\": \"2022-05-04T00:00:00\", \"pct_w_vp\": 0.0}, {\"agency_name\": \"Sonoma County Transit\", \"route_id\": \"10T\", \"route_short_name\": \"10T\", \"service_date\": \"2022-05-04T00:00:00\", \"pct_w_vp\": 0.0}, {\"agency_name\": \"Sonoma County Transit\", \"route_id\": \"30\", \"route_short_name\": \"30\", \"service_date\": \"2022-05-04T00:00:00\", \"pct_w_vp\": 0.0}, {\"agency_name\": \"Sonoma County Transit\", \"route_id\": \"24\", \"route_short_name\": \"24\", \"service_date\": \"2022-05-04T00:00:00\", \"pct_w_vp\": 0.0}, {\"agency_name\": \"Sonoma County Transit\", \"route_id\": \"20\", \"route_short_name\": \"20\", \"service_date\": \"2022-05-04T00:00:00\", \"pct_w_vp\": 0.0}, {\"agency_name\": \"Sonoma County Transit\", \"route_id\": \"10\", \"route_short_name\": \"10\", \"service_date\": \"2022-05-04T00:00:00\", \"pct_w_vp\": 0.0}, {\"agency_name\": \"Sonoma County Transit\", \"route_id\": \"62\", \"route_short_name\": \"62\", \"service_date\": \"2022-05-04T00:00:00\", \"pct_w_vp\": 0.0}, {\"agency_name\": \"Sonoma County Transit\", \"route_id\": \"60\", \"route_short_name\": \"60\", \"service_date\": \"2022-05-04T00:00:00\", \"pct_w_vp\": 0.0}, {\"agency_name\": \"Sonoma County Transit\", \"route_id\": \"28\", \"route_short_name\": \"28\", \"service_date\": \"2022-05-04T00:00:00\", \"pct_w_vp\": 0.0}, {\"agency_name\": \"Sonoma Marin Area Rail Transit\", \"route_id\": \"SMART\", \"route_short_name\": \"SMART\", \"service_date\": \"2022-05-04T00:00:00\", \"pct_w_vp\": 1.0}, {\"agency_name\": \"Vacaville City Coach\", \"route_id\": \"2\", \"route_short_name\": \"2\", \"service_date\": \"2022-05-04T00:00:00\", \"pct_w_vp\": 0.0}, {\"agency_name\": \"Vacaville City Coach\", \"route_id\": \"4\", \"route_short_name\": \"4\", \"service_date\": \"2022-05-04T00:00:00\", \"pct_w_vp\": 0.0}, {\"agency_name\": \"Vacaville City Coach\", \"route_id\": \"5\", \"route_short_name\": \"5\", \"service_date\": \"2022-05-04T00:00:00\", \"pct_w_vp\": 0.0}, {\"agency_name\": \"Vacaville City Coach\", \"route_id\": \"3\", \"route_short_name\": \"3\", \"service_date\": \"2022-05-04T00:00:00\", \"pct_w_vp\": 0.0}, {\"agency_name\": \"Vacaville City Coach\", \"route_id\": \"6\", \"route_short_name\": \"6\", \"service_date\": \"2022-05-04T00:00:00\", \"pct_w_vp\": 0.0}, {\"agency_name\": \"Golden Gate Transit\", \"route_id\": \"101\", \"route_short_name\": \"101\", \"service_date\": \"2022-05-04T00:00:00\", \"pct_w_vp\": 1.0}, {\"agency_name\": \"Golden Gate Transit\", \"route_id\": \"580\", \"route_short_name\": \"580\", \"service_date\": \"2022-05-04T00:00:00\", \"pct_w_vp\": 1.0}, {\"agency_name\": \"Golden Gate Transit\", \"route_id\": \"704\", \"route_short_name\": \"704\", \"service_date\": \"2022-05-04T00:00:00\", \"pct_w_vp\": 1.0}, {\"agency_name\": \"Golden Gate Transit\", \"route_id\": \"130\", \"route_short_name\": \"130\", \"service_date\": \"2022-05-04T00:00:00\", \"pct_w_vp\": 1.0}, {\"agency_name\": \"Golden Gate Transit\", \"route_id\": \"154\", \"route_short_name\": \"154\", \"service_date\": \"2022-05-04T00:00:00\", \"pct_w_vp\": 1.0}, {\"agency_name\": \"Golden Gate Transit\", \"route_id\": \"132\", \"route_short_name\": \"132\", \"service_date\": \"2022-05-04T00:00:00\", \"pct_w_vp\": 1.0}, {\"agency_name\": \"Golden Gate Transit\", \"route_id\": \"705\", \"route_short_name\": \"705\", \"service_date\": \"2022-05-04T00:00:00\", \"pct_w_vp\": 1.0}, {\"agency_name\": \"Golden Gate Transit\", \"route_id\": \"172\", \"route_short_name\": \"172\", \"service_date\": \"2022-05-04T00:00:00\", \"pct_w_vp\": 1.0}, {\"agency_name\": \"Golden Gate Transit\", \"route_id\": \"150\", \"route_short_name\": \"150\", \"service_date\": \"2022-05-04T00:00:00\", \"pct_w_vp\": 1.0}, {\"agency_name\": \"Marin Transit\", \"route_id\": \"613\", \"route_short_name\": \"613\", \"service_date\": \"2022-05-04T00:00:00\", \"pct_w_vp\": 0.8571428571428571}, {\"agency_name\": \"Marin Transit\", \"route_id\": \"61\", \"route_short_name\": \"61\", \"service_date\": \"2022-05-04T00:00:00\", \"pct_w_vp\": 1.0}, {\"agency_name\": \"Marin Transit\", \"route_id\": \"257\", \"route_short_name\": \"257\", \"service_date\": \"2022-05-04T00:00:00\", \"pct_w_vp\": 0.8484848484848485}, {\"agency_name\": \"Marin Transit\", \"route_id\": \"23X\", \"route_short_name\": \"23X\", \"service_date\": \"2022-05-04T00:00:00\", \"pct_w_vp\": 0.6875}, {\"agency_name\": \"Marin Transit\", \"route_id\": \"251\", \"route_short_name\": \"251\", \"service_date\": \"2022-05-04T00:00:00\", \"pct_w_vp\": 0.9642857142857143}, {\"agency_name\": \"Marin Transit\", \"route_id\": \"35\", \"route_short_name\": \"35\", \"service_date\": \"2022-05-04T00:00:00\", \"pct_w_vp\": 0.9658119658119658}, {\"agency_name\": \"Marin Transit\", \"route_id\": \"22\", \"route_short_name\": \"22\", \"service_date\": \"2022-05-04T00:00:00\", \"pct_w_vp\": 1.0}, {\"agency_name\": \"Marin Transit\", \"route_id\": \"645\", \"route_short_name\": \"645\", \"service_date\": \"2022-05-04T00:00:00\", \"pct_w_vp\": 1.0}, {\"agency_name\": \"Marin Transit\", \"route_id\": \"228\", \"route_short_name\": \"228\", \"service_date\": \"2022-05-04T00:00:00\", \"pct_w_vp\": 0.9629629629629629}, {\"agency_name\": \"Marin Transit\", \"route_id\": \"219\", \"route_short_name\": \"219\", \"service_date\": \"2022-05-04T00:00:00\", \"pct_w_vp\": 0.9795918367346939}, {\"agency_name\": \"Marin Transit\", \"route_id\": \"17X\", \"route_short_name\": \"17X\", \"service_date\": \"2022-05-04T00:00:00\", \"pct_w_vp\": 1.0}, {\"agency_name\": \"Marin Transit\", \"route_id\": \"625\", \"route_short_name\": \"625\", \"service_date\": \"2022-05-04T00:00:00\", \"pct_w_vp\": 1.0}, {\"agency_name\": \"Marin Transit\", \"route_id\": \"29\", \"route_short_name\": \"29\", \"service_date\": \"2022-05-04T00:00:00\", \"pct_w_vp\": 0.6}, {\"agency_name\": \"Marin Transit\", \"route_id\": \"36\", \"route_short_name\": \"36\", \"service_date\": \"2022-05-04T00:00:00\", \"pct_w_vp\": 0.7636363636363637}, {\"agency_name\": \"Marin Transit\", \"route_id\": \"617\", \"route_short_name\": \"617\", \"service_date\": \"2022-05-04T00:00:00\", \"pct_w_vp\": 1.0}, {\"agency_name\": \"Marin Transit\", \"route_id\": \"17\", \"route_short_name\": \"17\", \"service_date\": \"2022-05-04T00:00:00\", \"pct_w_vp\": 0.7058823529411765}, {\"agency_name\": \"Marin Transit\", \"route_id\": \"233\", \"route_short_name\": \"233\", \"service_date\": \"2022-05-04T00:00:00\", \"pct_w_vp\": 1.0}, {\"agency_name\": \"Marin Transit\", \"route_id\": \"245\", \"route_short_name\": \"245\", \"service_date\": \"2022-05-04T00:00:00\", \"pct_w_vp\": 1.0}, {\"agency_name\": \"Marin Transit\", \"route_id\": \"622\", \"route_short_name\": \"622\", \"service_date\": \"2022-05-04T00:00:00\", \"pct_w_vp\": 0.5}, {\"agency_name\": \"Marin Transit\", \"route_id\": \"71\", \"route_short_name\": \"71\", \"service_date\": \"2022-05-04T00:00:00\", \"pct_w_vp\": 1.0}, {\"agency_name\": \"Marin Transit\", \"route_id\": \"619\", \"route_short_name\": \"619\", \"service_date\": \"2022-05-04T00:00:00\", \"pct_w_vp\": 0.6666666666666666}, {\"agency_name\": \"Marin Transit\", \"route_id\": \"68\", \"route_short_name\": \"68\", \"service_date\": \"2022-05-04T00:00:00\", \"pct_w_vp\": 1.0}, {\"agency_name\": \"Marin Transit\", \"route_id\": \"23\", \"route_short_name\": \"23\", \"service_date\": \"2022-05-04T00:00:00\", \"pct_w_vp\": 0.71875}, {\"agency_name\": \"Marin Transit\", \"route_id\": \"651\", \"route_short_name\": \"651\", \"service_date\": \"2022-05-04T00:00:00\", \"pct_w_vp\": 0.8}, {\"agency_name\": \"Marin Transit\", \"route_id\": \"654\", \"route_short_name\": \"654\", \"service_date\": \"2022-05-04T00:00:00\", \"pct_w_vp\": 1.0}, {\"agency_name\": \"Marin Transit\", \"route_id\": \"49\", \"route_short_name\": \"49\", \"service_date\": \"2022-05-04T00:00:00\", \"pct_w_vp\": 1.0}, {\"agency_name\": \"VINE Transit\", \"route_id\": \"29\", \"route_short_name\": \"29\", \"service_date\": \"2022-05-04T00:00:00\", \"pct_w_vp\": 0.9285714285714286}, {\"agency_name\": \"VINE Transit\", \"route_id\": \"21\", \"route_short_name\": \"21\", \"service_date\": \"2022-05-04T00:00:00\", \"pct_w_vp\": 0.9545454545454546}, {\"agency_name\": \"VINE Transit\", \"route_id\": \"11X\", \"route_short_name\": \"11X\", \"service_date\": \"2022-05-04T00:00:00\", \"pct_w_vp\": 0.4}, {\"agency_name\": \"VINE Transit\", \"route_id\": \"10\", \"route_short_name\": \"10\", \"service_date\": \"2022-05-04T00:00:00\", \"pct_w_vp\": 0.9666666666666667}, {\"agency_name\": \"VINE Transit\", \"route_id\": \"11\", \"route_short_name\": \"11\", \"service_date\": \"2022-05-04T00:00:00\", \"pct_w_vp\": 1.0}, {\"agency_name\": \"Caltrain\", \"route_id\": \"L5\", \"route_short_name\": \"L5\", \"service_date\": \"2022-05-04T00:00:00\", \"pct_w_vp\": 0.7857142857142857}, {\"agency_name\": \"Caltrain\", \"route_id\": \"L1\", \"route_short_name\": \"L1\", \"service_date\": \"2022-05-04T00:00:00\", \"pct_w_vp\": 0.8}, {\"agency_name\": \"Caltrain\", \"route_id\": \"L4\", \"route_short_name\": \"L4\", \"service_date\": \"2022-05-04T00:00:00\", \"pct_w_vp\": 1.0}, {\"agency_name\": \"Petaluma\", \"route_id\": \"302\", \"route_short_name\": \"302\", \"service_date\": \"2022-05-04T00:00:00\", \"pct_w_vp\": 0.0}, {\"agency_name\": \"Petaluma\", \"route_id\": \"11\", \"route_short_name\": \"11\", \"service_date\": \"2022-05-04T00:00:00\", \"pct_w_vp\": 0.7096774193548387}, {\"agency_name\": \"Petaluma\", \"route_id\": \"3\", \"route_short_name\": \"3\", \"service_date\": \"2022-05-04T00:00:00\", \"pct_w_vp\": 0.8461538461538461}, {\"agency_name\": \"Petaluma\", \"route_id\": \"24\", \"route_short_name\": \"24\", \"service_date\": \"2022-05-04T00:00:00\", \"pct_w_vp\": 0.6052631578947368}, {\"agency_name\": \"Petaluma\", \"route_id\": \"33\", \"route_short_name\": \"33\", \"service_date\": \"2022-05-04T00:00:00\", \"pct_w_vp\": 0.7692307692307693}, {\"agency_name\": \"Petaluma\", \"route_id\": \"301\", \"route_short_name\": \"301\", \"service_date\": \"2022-05-04T00:00:00\", \"pct_w_vp\": 0.0}, {\"agency_name\": \"Petaluma\", \"route_id\": \"501\", \"route_short_name\": \"501\", \"service_date\": \"2022-05-04T00:00:00\", \"pct_w_vp\": 0.8181818181818182}, {\"agency_name\": \"Petaluma\", \"route_id\": \"311\", \"route_short_name\": \"311\", \"service_date\": \"2022-05-04T00:00:00\", \"pct_w_vp\": 1.0}, {\"agency_name\": \"Petaluma\", \"route_id\": \"10\", \"route_short_name\": \"10\", \"service_date\": \"2022-05-04T00:00:00\", \"pct_w_vp\": 0.5925925925925926}, {\"agency_name\": \"Petaluma\", \"route_id\": \"2\", \"route_short_name\": \"2\", \"service_date\": \"2022-05-04T00:00:00\", \"pct_w_vp\": 0.6612903225806451}, {\"agency_name\": \"Petaluma\", \"route_id\": \"312\", \"route_short_name\": \"312\", \"service_date\": \"2022-05-04T00:00:00\", \"pct_w_vp\": 0.0}, {\"agency_name\": \"Petaluma\", \"route_id\": \"303\", \"route_short_name\": \"303\", \"service_date\": \"2022-05-04T00:00:00\", \"pct_w_vp\": 1.0}, {\"agency_name\": \"SolTrans\", \"route_id\": \"2\", \"route_short_name\": \"2\", \"service_date\": \"2022-05-04T00:00:00\", \"pct_w_vp\": 1.0}, {\"agency_name\": \"SolTrans\", \"route_id\": \"4\", \"route_short_name\": \"4\", \"service_date\": \"2022-05-04T00:00:00\", \"pct_w_vp\": 1.0}, {\"agency_name\": \"SolTrans\", \"route_id\": \"R\", \"route_short_name\": \"R\", \"service_date\": \"2022-05-04T00:00:00\", \"pct_w_vp\": 0.8923076923076924}, {\"agency_name\": \"SolTrans\", \"route_id\": \"15\", \"route_short_name\": \"15\", \"service_date\": \"2022-05-04T00:00:00\", \"pct_w_vp\": 0.6}, {\"agency_name\": \"SolTrans\", \"route_id\": \"5\", \"route_short_name\": \"5\", \"service_date\": \"2022-05-04T00:00:00\", \"pct_w_vp\": 1.0}, {\"agency_name\": \"SolTrans\", \"route_id\": \"7B\", \"route_short_name\": \"7B\", \"service_date\": \"2022-05-04T00:00:00\", \"pct_w_vp\": 0.7333333333333333}, {\"agency_name\": \"SolTrans\", \"route_id\": \"6\", \"route_short_name\": \"6\", \"service_date\": \"2022-05-04T00:00:00\", \"pct_w_vp\": 0.8518518518518519}, {\"agency_name\": \"SolTrans\", \"route_id\": \"38\", \"route_short_name\": \"38\", \"service_date\": \"2022-05-04T00:00:00\", \"pct_w_vp\": 1.0}, {\"agency_name\": \"SolTrans\", \"route_id\": \"7A\", \"route_short_name\": \"7A\", \"service_date\": \"2022-05-04T00:00:00\", \"pct_w_vp\": 1.0}, {\"agency_name\": \"SolTrans\", \"route_id\": \"17\", \"route_short_name\": \"17\", \"service_date\": \"2022-05-04T00:00:00\", \"pct_w_vp\": 0.6666666666666666}, {\"agency_name\": \"SolTrans\", \"route_id\": \"3\", \"route_short_name\": \"3\", \"service_date\": \"2022-05-04T00:00:00\", \"pct_w_vp\": 0.8235294117647058}, {\"agency_name\": \"SolTrans\", \"route_id\": \"1\", \"route_short_name\": \"1\", \"service_date\": \"2022-05-04T00:00:00\", \"pct_w_vp\": 0.6}, {\"agency_name\": \"SolTrans\", \"route_id\": \"8\", \"route_short_name\": \"8\", \"service_date\": \"2022-05-04T00:00:00\", \"pct_w_vp\": 0.8928571428571429}, {\"agency_name\": \"SolTrans\", \"route_id\": \"Y\", \"route_short_name\": \"Y\", \"service_date\": \"2022-05-04T00:00:00\", \"pct_w_vp\": 0.7368421052631579}, {\"agency_name\": \"San Francisco International Airport\", \"route_id\": \"Blue Line\", \"route_short_name\": \"Blue Line\", \"service_date\": \"2022-05-04T00:00:00\", \"pct_w_vp\": 0.0}, {\"agency_name\": \"Santa Rosa CityBus\", \"route_id\": \"9\", \"route_short_name\": \"9\", \"service_date\": \"2022-05-04T00:00:00\", \"pct_w_vp\": 0.8666666666666667}, {\"agency_name\": \"Santa Rosa CityBus\", \"route_id\": \"8\", \"route_short_name\": \"8\", \"service_date\": \"2022-05-04T00:00:00\", \"pct_w_vp\": 0.9629629629629629}, {\"agency_name\": \"Santa Rosa CityBus\", \"route_id\": \"4B\", \"route_short_name\": \"4B\", \"service_date\": \"2022-05-04T00:00:00\", \"pct_w_vp\": 0.75}, {\"agency_name\": \"Santa Rosa CityBus\", \"route_id\": \"2B\", \"route_short_name\": \"2B\", \"service_date\": \"2022-05-04T00:00:00\", \"pct_w_vp\": 0.8928571428571429}, {\"agency_name\": \"Santa Rosa CityBus\", \"route_id\": \"3\", \"route_short_name\": \"3\", \"service_date\": \"2022-05-04T00:00:00\", \"pct_w_vp\": 0.9285714285714286}, {\"agency_name\": \"Sonoma County Transit\", \"route_id\": \"1046\", \"route_short_name\": \"10T\", \"service_date\": \"2022-05-04T00:00:00\", \"pct_w_vp\": 0.0}, {\"agency_name\": \"Sonoma County Transit\", \"route_id\": \"1047\", \"route_short_name\": \"12T\", \"service_date\": \"2022-05-04T00:00:00\", \"pct_w_vp\": 0.0}, {\"agency_name\": \"PresidiGo\", \"route_id\": \"673\", \"route_short_name\": \"PH Route\", \"service_date\": \"2022-05-04T00:00:00\", \"pct_w_vp\": 0.38461538461538464}, {\"agency_name\": \"PresidiGo\", \"route_id\": \"66\", \"route_short_name\": \"DT Route\", \"service_date\": \"2022-05-04T00:00:00\", \"pct_w_vp\": 0.9473684210526315}, {\"agency_name\": \"Emery Go-Round\", \"route_id\": \"Shellmound/Powell\", \"route_short_name\": \"Shellmound/Powell\", \"service_date\": \"2022-05-04T00:00:00\", \"pct_w_vp\": 1.0}, {\"agency_name\": \"Emery Go-Round\", \"route_id\": \"Hollis\", \"route_short_name\": \"Hollis\", \"service_date\": \"2022-05-04T00:00:00\", \"pct_w_vp\": 1.0}, {\"agency_name\": \"Fairfield and Suisun Transit\", \"route_id\": \"6\", \"route_short_name\": \"6\", \"service_date\": \"2022-05-04T00:00:00\", \"pct_w_vp\": 1.0}, {\"agency_name\": \"Fairfield and Suisun Transit\", \"route_id\": \"4\", \"route_short_name\": \"4\", \"service_date\": \"2022-05-04T00:00:00\", \"pct_w_vp\": 1.0}, {\"agency_name\": \"Fairfield and Suisun Transit\", \"route_id\": \"7\", \"route_short_name\": \"7\", \"service_date\": \"2022-05-04T00:00:00\", \"pct_w_vp\": 1.0}, {\"agency_name\": \"Fairfield and Suisun Transit\", \"route_id\": \"2\", \"route_short_name\": \"2\", \"service_date\": \"2022-05-04T00:00:00\", \"pct_w_vp\": 1.0}, {\"agency_name\": \"Fairfield and Suisun Transit\", \"route_id\": \"8\", \"route_short_name\": \"8\", \"service_date\": \"2022-05-04T00:00:00\", \"pct_w_vp\": 1.0}, {\"agency_name\": \"Commute.org Shuttles\", \"route_id\": \"12163\", \"route_short_name\": \"MAR Shuttle\", \"service_date\": \"2022-05-04T00:00:00\", \"pct_w_vp\": 0.0}, {\"agency_name\": \"Commute.org Shuttles\", \"route_id\": \"12152\", \"route_short_name\": \"LC Shuttle\", \"service_date\": \"2022-05-04T00:00:00\", \"pct_w_vp\": 0.0}, {\"agency_name\": \"Commute.org Shuttles\", \"route_id\": \"12157\", \"route_short_name\": \"UGC Shuttle\", \"service_date\": \"2022-05-04T00:00:00\", \"pct_w_vp\": 0.0}, {\"agency_name\": \"Commute.org Shuttles\", \"route_id\": \"12154\", \"route_short_name\": \"MPT Shuttle\", \"service_date\": \"2022-05-04T00:00:00\", \"pct_w_vp\": 0.0}, {\"agency_name\": \"Commute.org Shuttles\", \"route_id\": \"12166\", \"route_short_name\": \"RLC Shuttle\", \"service_date\": \"2022-05-04T00:00:00\", \"pct_w_vp\": 0.0}, {\"agency_name\": \"Commute.org Shuttles\", \"route_id\": \"12159\", \"route_short_name\": \"OPC Shuttle\", \"service_date\": \"2022-05-04T00:00:00\", \"pct_w_vp\": 0.0}, {\"agency_name\": \"Commute.org Shuttles\", \"route_id\": \"12165\", \"route_short_name\": \"UGB Shuttle\", \"service_date\": \"2022-05-04T00:00:00\", \"pct_w_vp\": 0.0}, {\"agency_name\": \"Commute.org Shuttles\", \"route_id\": \"12158\", \"route_short_name\": \"OPF Shuttle\", \"service_date\": \"2022-05-04T00:00:00\", \"pct_w_vp\": 0.0}, {\"agency_name\": \"Commute.org Shuttles\", \"route_id\": \"12169\", \"route_short_name\": \"BCP Shuttle\", \"service_date\": \"2022-05-04T00:00:00\", \"pct_w_vp\": 0.0}, {\"agency_name\": \"Commute.org Shuttles\", \"route_id\": \"12150\", \"route_short_name\": \"BAY Shuttle\", \"service_date\": \"2022-05-04T00:00:00\", \"pct_w_vp\": 0.0}, {\"agency_name\": \"Commute.org Shuttles\", \"route_id\": \"13307\", \"route_short_name\": \"MB Shuttle\", \"service_date\": \"2022-05-04T00:00:00\", \"pct_w_vp\": 0.0}, {\"agency_name\": \"Commute.org Shuttles\", \"route_id\": \"12161\", \"route_short_name\": \"OTP Shuttle\", \"service_date\": \"2022-05-04T00:00:00\", \"pct_w_vp\": 0.0}, {\"agency_name\": \"Commute.org Shuttles\", \"route_id\": \"12153\", \"route_short_name\": \"NFC Shuttle\", \"service_date\": \"2022-05-04T00:00:00\", \"pct_w_vp\": 0.0}, {\"agency_name\": \"Commute.org Shuttles\", \"route_id\": \"12156\", \"route_short_name\": \"UGF Shuttle\", \"service_date\": \"2022-05-04T00:00:00\", \"pct_w_vp\": 0.0}, {\"agency_name\": \"Commute.org Shuttles\", \"route_id\": \"12168\", \"route_short_name\": \"BBC Shuttle\", \"service_date\": \"2022-05-04T00:00:00\", \"pct_w_vp\": 0.0}, {\"agency_name\": \"Commute.org Shuttles\", \"route_id\": \"19479\", \"route_short_name\": \"BPT Shuttle\", \"service_date\": \"2022-05-04T00:00:00\", \"pct_w_vp\": 0.0}, {\"agency_name\": \"Commute.org Shuttles\", \"route_id\": \"12164\", \"route_short_name\": \"CAM Shuttle\", \"service_date\": \"2022-05-04T00:00:00\", \"pct_w_vp\": 0.0}, {\"agency_name\": \"Commute.org Shuttles\", \"route_id\": \"12151\", \"route_short_name\": \"NB Shuttle\", \"service_date\": \"2022-05-04T00:00:00\", \"pct_w_vp\": 0.0}, {\"agency_name\": \"Commute.org Shuttles\", \"route_id\": \"12155\", \"route_short_name\": \"SEA Shuttle\", \"service_date\": \"2022-05-04T00:00:00\", \"pct_w_vp\": 0.0}, {\"agency_name\": \"Commute.org Shuttles\", \"route_id\": \"12160\", \"route_short_name\": \"OPB Shuttle\", \"service_date\": \"2022-05-04T00:00:00\", \"pct_w_vp\": 0.0}, {\"agency_name\": \"WestCat (Western Contra Costa)\", \"route_id\": \"J\", \"route_short_name\": \"J\", \"service_date\": \"2022-05-04T00:00:00\", \"pct_w_vp\": 0.0}, {\"agency_name\": \"San Francisco Municipal Transportation Agency\", \"route_id\": \"N\", \"route_short_name\": \"N\", \"service_date\": \"2022-05-04T00:00:00\", \"pct_w_vp\": 0.9818181818181818}, {\"agency_name\": \"San Francisco Municipal Transportation Agency\", \"route_id\": \"38\", \"route_short_name\": \"38\", \"service_date\": \"2022-05-04T00:00:00\", \"pct_w_vp\": 0.9571984435797666}, {\"agency_name\": \"San Francisco Municipal Transportation Agency\", \"route_id\": \"49\", \"route_short_name\": \"49\", \"service_date\": \"2022-05-04T00:00:00\", \"pct_w_vp\": 0.9364548494983278}, {\"agency_name\": \"San Francisco Municipal Transportation Agency\", \"route_id\": \"12\", \"route_short_name\": \"12\", \"service_date\": \"2022-05-04T00:00:00\", \"pct_w_vp\": 1.0}, {\"agency_name\": \"San Francisco Municipal Transportation Agency\", \"route_id\": \"NBUS\", \"route_short_name\": \"NBUS\", \"service_date\": \"2022-05-04T00:00:00\", \"pct_w_vp\": 1.0}, {\"agency_name\": \"San Francisco Municipal Transportation Agency\", \"route_id\": \"23\", \"route_short_name\": \"23\", \"service_date\": \"2022-05-04T00:00:00\", \"pct_w_vp\": 0.9893617021276596}, {\"agency_name\": \"San Francisco Municipal Transportation Agency\", \"route_id\": \"24\", \"route_short_name\": \"24\", \"service_date\": \"2022-05-04T00:00:00\", \"pct_w_vp\": 0.995575221238938}, {\"agency_name\": \"San Francisco Municipal Transportation Agency\", \"route_id\": \"52\", \"route_short_name\": \"52\", \"service_date\": \"2022-05-04T00:00:00\", \"pct_w_vp\": 0.8936170212765957}, {\"agency_name\": \"San Francisco Municipal Transportation Agency\", \"route_id\": \"38R\", \"route_short_name\": \"38R\", \"service_date\": \"2022-05-04T00:00:00\", \"pct_w_vp\": 0.9957983193277311}, {\"agency_name\": \"San Francisco Municipal Transportation Agency\", \"route_id\": \"39\", \"route_short_name\": \"39\", \"service_date\": \"2022-05-04T00:00:00\", \"pct_w_vp\": 0.9193548387096774}, {\"agency_name\": \"San Francisco Municipal Transportation Agency\", \"route_id\": \"14R\", \"route_short_name\": \"14R\", \"service_date\": \"2022-05-04T00:00:00\", \"pct_w_vp\": 0.9267015706806283}, {\"agency_name\": \"San Francisco Municipal Transportation Agency\", \"route_id\": \"30\", \"route_short_name\": \"30\", \"service_date\": \"2022-05-04T00:00:00\", \"pct_w_vp\": 0.9893617021276596}, {\"agency_name\": \"San Francisco Municipal Transportation Agency\", \"route_id\": \"N-OWL\", \"route_short_name\": \"N-OWL\", \"service_date\": \"2022-05-04T00:00:00\", \"pct_w_vp\": 0.7391304347826086}, {\"agency_name\": \"San Francisco Municipal Transportation Agency\", \"route_id\": \"66\", \"route_short_name\": \"66\", \"service_date\": \"2022-05-04T00:00:00\", \"pct_w_vp\": 0.9292929292929293}, {\"agency_name\": \"San Francisco Municipal Transportation Agency\", \"route_id\": \"LBUS\", \"route_short_name\": \"LBUS\", \"service_date\": \"2022-05-04T00:00:00\", \"pct_w_vp\": 0.973404255319149}, {\"agency_name\": \"San Francisco Municipal Transportation Agency\", \"route_id\": \"35\", \"route_short_name\": \"35\", \"service_date\": \"2022-05-04T00:00:00\", \"pct_w_vp\": 1.0}, {\"agency_name\": \"San Francisco Municipal Transportation Agency\", \"route_id\": \"KT\", \"route_short_name\": \"KT\", \"service_date\": \"2022-05-04T00:00:00\", \"pct_w_vp\": 0.9868995633187773}, {\"agency_name\": \"San Francisco Municipal Transportation Agency\", \"route_id\": \"22\", \"route_short_name\": \"22\", \"service_date\": \"2022-05-04T00:00:00\", \"pct_w_vp\": 0.9811827956989247}, {\"agency_name\": \"San Francisco Municipal Transportation Agency\", \"route_id\": \"28\", \"route_short_name\": \"28\", \"service_date\": \"2022-05-04T00:00:00\", \"pct_w_vp\": 0.9503105590062112}, {\"agency_name\": \"San Francisco Municipal Transportation Agency\", \"route_id\": \"48\", \"route_short_name\": \"48\", \"service_date\": \"2022-05-04T00:00:00\", \"pct_w_vp\": 0.9748427672955975}, {\"agency_name\": \"San Francisco Municipal Transportation Agency\", \"route_id\": \"8\", \"route_short_name\": \"8\", \"service_date\": \"2022-05-04T00:00:00\", \"pct_w_vp\": 0.9852216748768473}, {\"agency_name\": \"San Francisco Municipal Transportation Agency\", \"route_id\": \"PH\", \"route_short_name\": \"PH\", \"service_date\": \"2022-05-04T00:00:00\", \"pct_w_vp\": 0.6558441558441559}, {\"agency_name\": \"San Francisco Municipal Transportation Agency\", \"route_id\": \"TBUS\", \"route_short_name\": \"TBUS\", \"service_date\": \"2022-05-04T00:00:00\", \"pct_w_vp\": 0.875}, {\"agency_name\": \"San Francisco Municipal Transportation Agency\", \"route_id\": \"33\", \"route_short_name\": \"33\", \"service_date\": \"2022-05-04T00:00:00\", \"pct_w_vp\": 1.0}, {\"agency_name\": \"San Francisco Municipal Transportation Agency\", \"route_id\": \"27\", \"route_short_name\": \"27\", \"service_date\": \"2022-05-04T00:00:00\", \"pct_w_vp\": 0.9477611940298507}, {\"agency_name\": \"San Francisco Municipal Transportation Agency\", \"route_id\": \"91\", \"route_short_name\": \"91\", \"service_date\": \"2022-05-04T00:00:00\", \"pct_w_vp\": 1.0}, {\"agency_name\": \"San Francisco Municipal Transportation Agency\", \"route_id\": \"KBUS\", \"route_short_name\": \"KBUS\", \"service_date\": \"2022-05-04T00:00:00\", \"pct_w_vp\": 1.0}, {\"agency_name\": \"San Francisco Municipal Transportation Agency\", \"route_id\": \"37\", \"route_short_name\": \"37\", \"service_date\": \"2022-05-04T00:00:00\", \"pct_w_vp\": 0.8928571428571429}, {\"agency_name\": \"San Francisco Municipal Transportation Agency\", \"route_id\": \"9R\", \"route_short_name\": \"9R\", \"service_date\": \"2022-05-04T00:00:00\", \"pct_w_vp\": 0.9017857142857143}, {\"agency_name\": \"San Francisco Municipal Transportation Agency\", \"route_id\": \"19\", \"route_short_name\": \"19\", \"service_date\": \"2022-05-04T00:00:00\", \"pct_w_vp\": 0.9776119402985075}, {\"agency_name\": \"San Francisco Municipal Transportation Agency\", \"route_id\": \"5\", \"route_short_name\": \"5\", \"service_date\": \"2022-05-04T00:00:00\", \"pct_w_vp\": 0.9527896995708155}, {\"agency_name\": \"San Francisco Municipal Transportation Agency\", \"route_id\": \"9\", \"route_short_name\": \"9\", \"service_date\": \"2022-05-04T00:00:00\", \"pct_w_vp\": 0.9545454545454546}, {\"agency_name\": \"San Francisco Municipal Transportation Agency\", \"route_id\": \"55\", \"route_short_name\": \"55\", \"service_date\": \"2022-05-04T00:00:00\", \"pct_w_vp\": 0.9848484848484849}, {\"agency_name\": \"San Francisco Municipal Transportation Agency\", \"route_id\": \"L-OWL\", \"route_short_name\": \"L-OWL\", \"service_date\": \"2022-05-04T00:00:00\", \"pct_w_vp\": 0.5454545454545454}, {\"agency_name\": \"San Francisco Municipal Transportation Agency\", \"route_id\": \"57\", \"route_short_name\": \"57\", \"service_date\": \"2022-05-04T00:00:00\", \"pct_w_vp\": 1.0}, {\"agency_name\": \"San Francisco Municipal Transportation Agency\", \"route_id\": \"M\", \"route_short_name\": \"M\", \"service_date\": \"2022-05-04T00:00:00\", \"pct_w_vp\": 0.978494623655914}, {\"agency_name\": \"San Francisco Municipal Transportation Agency\", \"route_id\": \"1\", \"route_short_name\": \"1\", \"service_date\": \"2022-05-04T00:00:00\", \"pct_w_vp\": 0.970873786407767}, {\"agency_name\": \"San Francisco Municipal Transportation Agency\", \"route_id\": \"14\", \"route_short_name\": \"14\", \"service_date\": \"2022-05-04T00:00:00\", \"pct_w_vp\": 0.9942528735632183}, {\"agency_name\": \"San Francisco Municipal Transportation Agency\", \"route_id\": \"F\", \"route_short_name\": \"F\", \"service_date\": \"2022-05-04T00:00:00\", \"pct_w_vp\": 0.9846153846153847}, {\"agency_name\": \"San Francisco Municipal Transportation Agency\", \"route_id\": \"15\", \"route_short_name\": \"15\", \"service_date\": \"2022-05-04T00:00:00\", \"pct_w_vp\": 0.9459459459459459}, {\"agency_name\": \"San Francisco Municipal Transportation Agency\", \"route_id\": \"5R\", \"route_short_name\": \"5R\", \"service_date\": \"2022-05-04T00:00:00\", \"pct_w_vp\": 0.9930555555555556}, {\"agency_name\": \"San Francisco Municipal Transportation Agency\", \"route_id\": \"J\", \"route_short_name\": \"J\", \"service_date\": \"2022-05-04T00:00:00\", \"pct_w_vp\": 1.0}, {\"agency_name\": \"San Francisco Municipal Transportation Agency\", \"route_id\": \"PM\", \"route_short_name\": \"PM\", \"service_date\": \"2022-05-04T00:00:00\", \"pct_w_vp\": 0.6645161290322581}, {\"agency_name\": \"San Francisco Municipal Transportation Agency\", \"route_id\": \"36\", \"route_short_name\": \"36\", \"service_date\": \"2022-05-04T00:00:00\", \"pct_w_vp\": 1.0}, {\"agency_name\": \"San Francisco Municipal Transportation Agency\", \"route_id\": \"25\", \"route_short_name\": \"25\", \"service_date\": \"2022-05-04T00:00:00\", \"pct_w_vp\": 0.93125}, {\"agency_name\": \"San Francisco Municipal Transportation Agency\", \"route_id\": \"7\", \"route_short_name\": \"7\", \"service_date\": \"2022-05-04T00:00:00\", \"pct_w_vp\": 0.8888888888888888}, {\"agency_name\": \"San Francisco Municipal Transportation Agency\", \"route_id\": \"58\", \"route_short_name\": \"58\", \"service_date\": \"2022-05-04T00:00:00\", \"pct_w_vp\": 0.9807692307692307}, {\"agency_name\": \"San Francisco Municipal Transportation Agency\", \"route_id\": \"31\", \"route_short_name\": \"31\", \"service_date\": \"2022-05-04T00:00:00\", \"pct_w_vp\": 1.0}, {\"agency_name\": \"San Francisco Municipal Transportation Agency\", \"route_id\": \"714\", \"route_short_name\": \"714\", \"service_date\": \"2022-05-04T00:00:00\", \"pct_w_vp\": 1.0}, {\"agency_name\": \"San Francisco Municipal Transportation Agency\", \"route_id\": \"67\", \"route_short_name\": \"67\", \"service_date\": \"2022-05-04T00:00:00\", \"pct_w_vp\": 1.0}, {\"agency_name\": \"San Francisco Municipal Transportation Agency\", \"route_id\": \"C\", \"route_short_name\": \"C\", \"service_date\": \"2022-05-04T00:00:00\", \"pct_w_vp\": 0.6959459459459459}, {\"agency_name\": \"San Francisco Municipal Transportation Agency\", \"route_id\": \"90\", \"route_short_name\": \"90\", \"service_date\": \"2022-05-04T00:00:00\", \"pct_w_vp\": 1.0}, {\"agency_name\": \"San Francisco Municipal Transportation Agency\", \"route_id\": \"18\", \"route_short_name\": \"18\", \"service_date\": \"2022-05-04T00:00:00\", \"pct_w_vp\": 0.9375}, {\"agency_name\": \"San Francisco Municipal Transportation Agency\", \"route_id\": \"29\", \"route_short_name\": \"29\", \"service_date\": \"2022-05-04T00:00:00\", \"pct_w_vp\": 0.9358288770053476}, {\"agency_name\": \"San Francisco Municipal Transportation Agency\", \"route_id\": \"54\", \"route_short_name\": \"54\", \"service_date\": \"2022-05-04T00:00:00\", \"pct_w_vp\": 0.9368421052631579}, {\"agency_name\": \"San Francisco Municipal Transportation Agency\", \"route_id\": \"56\", \"route_short_name\": \"56\", \"service_date\": \"2022-05-04T00:00:00\", \"pct_w_vp\": 0.9176470588235294}, {\"agency_name\": \"San Francisco Municipal Transportation Agency\", \"route_id\": \"44\", \"route_short_name\": \"44\", \"service_date\": \"2022-05-04T00:00:00\", \"pct_w_vp\": 0.9894736842105263}, {\"agency_name\": \"San Francisco Municipal Transportation Agency\", \"route_id\": \"45\", \"route_short_name\": \"45\", \"service_date\": \"2022-05-04T00:00:00\", \"pct_w_vp\": 1.0}, {\"agency_name\": \"San Francisco Municipal Transportation Agency\", \"route_id\": \"43\", \"route_short_name\": \"43\", \"service_date\": \"2022-05-04T00:00:00\", \"pct_w_vp\": 0.9512195121951219}, {\"agency_name\": \"VINE Transit\", \"route_id\": \"N\", \"route_short_name\": \"N\", \"service_date\": \"2022-05-04T00:00:00\", \"pct_w_vp\": 0.7608695652173914}, {\"agency_name\": \"VINE Transit\", \"route_id\": \"E\", \"route_short_name\": \"E\", \"service_date\": \"2022-05-04T00:00:00\", \"pct_w_vp\": 0.0}, {\"agency_name\": \"VINE Transit\", \"route_id\": \"W\", \"route_short_name\": \"W\", \"service_date\": \"2022-05-04T00:00:00\", \"pct_w_vp\": 0.5294117647058824}, {\"agency_name\": \"VINE Transit\", \"route_id\": \"S\", \"route_short_name\": \"S\", \"service_date\": \"2022-05-04T00:00:00\", \"pct_w_vp\": 0.9375}, {\"agency_name\": \"AC TRANSIT\", \"route_id\": \"676\", \"route_short_name\": \"676\", \"service_date\": \"2022-05-04T00:00:00\", \"pct_w_vp\": 0.6666666666666666}, {\"agency_name\": \"AC TRANSIT\", \"route_id\": \"72M\", \"route_short_name\": \"72M\", \"service_date\": \"2022-05-04T00:00:00\", \"pct_w_vp\": 0.9583333333333334}, {\"agency_name\": \"AC TRANSIT\", \"route_id\": \"605\", \"route_short_name\": \"605\", \"service_date\": \"2022-05-04T00:00:00\", \"pct_w_vp\": 1.0}, {\"agency_name\": \"AC TRANSIT\", \"route_id\": \"45\", \"route_short_name\": \"45\", \"service_date\": \"2022-05-04T00:00:00\", \"pct_w_vp\": 1.0}, {\"agency_name\": \"AC TRANSIT\", \"route_id\": \"73\", \"route_short_name\": \"73\", \"service_date\": \"2022-05-04T00:00:00\", \"pct_w_vp\": 0.9930555555555556}, {\"agency_name\": \"AC TRANSIT\", \"route_id\": \"7\", \"route_short_name\": \"7\", \"service_date\": \"2022-05-04T00:00:00\", \"pct_w_vp\": 1.0}, {\"agency_name\": \"AC TRANSIT\", \"route_id\": \"78\", \"route_short_name\": \"78\", \"service_date\": \"2022-05-04T00:00:00\", \"pct_w_vp\": 0.0}, {\"agency_name\": \"AC TRANSIT\", \"route_id\": \"46L\", \"route_short_name\": \"46L\", \"service_date\": \"2022-05-04T00:00:00\", \"pct_w_vp\": 1.0}, {\"agency_name\": \"AC TRANSIT\", \"route_id\": \"654\", \"route_short_name\": \"654\", \"service_date\": \"2022-05-04T00:00:00\", \"pct_w_vp\": 1.0}, {\"agency_name\": \"AC TRANSIT\", \"route_id\": \"G\", \"route_short_name\": \"G\", \"service_date\": \"2022-05-04T00:00:00\", \"pct_w_vp\": 0.8571428571428571}, {\"agency_name\": \"AC TRANSIT\", \"route_id\": \"52\", \"route_short_name\": \"52\", \"service_date\": \"2022-05-04T00:00:00\", \"pct_w_vp\": 0.8666666666666667}, {\"agency_name\": \"AC TRANSIT\", \"route_id\": \"706\", \"route_short_name\": \"706\", \"service_date\": \"2022-05-04T00:00:00\", \"pct_w_vp\": 1.0}, {\"agency_name\": \"AC TRANSIT\", \"route_id\": \"72R\", \"route_short_name\": \"72R\", \"service_date\": \"2022-05-04T00:00:00\", \"pct_w_vp\": 0.9344262295081968}, {\"agency_name\": \"AC TRANSIT\", \"route_id\": \"658\", \"route_short_name\": \"658\", \"service_date\": \"2022-05-04T00:00:00\", \"pct_w_vp\": 1.0}, {\"agency_name\": \"AC TRANSIT\", \"route_id\": \"684\", \"route_short_name\": \"684\", \"service_date\": \"2022-05-04T00:00:00\", \"pct_w_vp\": 1.0}, {\"agency_name\": \"AC TRANSIT\", \"route_id\": \"74\", \"route_short_name\": \"74\", \"service_date\": \"2022-05-04T00:00:00\", \"pct_w_vp\": 0.8382352941176471}, {\"agency_name\": \"AC TRANSIT\", \"route_id\": \"702\", \"route_short_name\": \"702\", \"service_date\": \"2022-05-04T00:00:00\", \"pct_w_vp\": 1.0}, {\"agency_name\": \"AC TRANSIT\", \"route_id\": \"F\", \"route_short_name\": \"F\", \"service_date\": \"2022-05-04T00:00:00\", \"pct_w_vp\": 0.9113924050632911}, {\"agency_name\": \"AC TRANSIT\", \"route_id\": \"72\", \"route_short_name\": \"72\", \"service_date\": \"2022-05-04T00:00:00\", \"pct_w_vp\": 0.9864864864864865}, {\"agency_name\": \"AC TRANSIT\", \"route_id\": \"56\", \"route_short_name\": \"56\", \"service_date\": \"2022-05-04T00:00:00\", \"pct_w_vp\": 0.6764705882352942}, {\"agency_name\": \"AC TRANSIT\", \"route_id\": \"51B\", \"route_short_name\": \"51B\", \"service_date\": \"2022-05-04T00:00:00\", \"pct_w_vp\": 0.9723756906077348}, {\"agency_name\": \"AC TRANSIT\", \"route_id\": \"687\", \"route_short_name\": \"687\", \"service_date\": \"2022-05-04T00:00:00\", \"pct_w_vp\": 1.0}, {\"agency_name\": \"AC TRANSIT\", \"route_id\": \"662\", \"route_short_name\": \"662\", \"service_date\": \"2022-05-04T00:00:00\", \"pct_w_vp\": 1.0}, {\"agency_name\": \"AC TRANSIT\", \"route_id\": \"W\", \"route_short_name\": \"W\", \"service_date\": \"2022-05-04T00:00:00\", \"pct_w_vp\": 0.75}, {\"agency_name\": \"AC TRANSIT\", \"route_id\": \"840\", \"route_short_name\": \"840\", \"service_date\": \"2022-05-04T00:00:00\", \"pct_w_vp\": 1.0}, {\"agency_name\": \"AC TRANSIT\", \"route_id\": \"L\", \"route_short_name\": \"L\", \"service_date\": \"2022-05-04T00:00:00\", \"pct_w_vp\": 0.6}, {\"agency_name\": \"AC TRANSIT\", \"route_id\": \"1T\", \"route_short_name\": \"1T\", \"service_date\": \"2022-05-04T00:00:00\", \"pct_w_vp\": 0.9759615384615384}, {\"agency_name\": \"AC TRANSIT\", \"route_id\": \"62\", \"route_short_name\": \"62\", \"service_date\": \"2022-05-04T00:00:00\", \"pct_w_vp\": 0.9649122807017544}, {\"agency_name\": \"AC TRANSIT\", \"route_id\": \"604\", \"route_short_name\": \"604\", \"service_date\": \"2022-05-04T00:00:00\", \"pct_w_vp\": 1.0}, {\"agency_name\": \"AC TRANSIT\", \"route_id\": \"629\", \"route_short_name\": \"629\", \"service_date\": \"2022-05-04T00:00:00\", \"pct_w_vp\": 1.0}, {\"agency_name\": \"AC TRANSIT\", \"route_id\": \"98\", \"route_short_name\": \"98\", \"service_date\": \"2022-05-04T00:00:00\", \"pct_w_vp\": 0.9134615384615384}, {\"agency_name\": \"AC TRANSIT\", \"route_id\": \"611\", \"route_short_name\": \"611\", \"service_date\": \"2022-05-04T00:00:00\", \"pct_w_vp\": 1.0}, {\"agency_name\": \"AC TRANSIT\", \"route_id\": \"660\", \"route_short_name\": \"660\", \"service_date\": \"2022-05-04T00:00:00\", \"pct_w_vp\": 1.0}, {\"agency_name\": \"AC TRANSIT\", \"route_id\": \"677\", \"route_short_name\": \"677\", \"service_date\": \"2022-05-04T00:00:00\", \"pct_w_vp\": 1.0}, {\"agency_name\": \"AC TRANSIT\", \"route_id\": \"19\", \"route_short_name\": \"19\", \"service_date\": \"2022-05-04T00:00:00\", \"pct_w_vp\": 1.0}, {\"agency_name\": \"AC TRANSIT\", \"route_id\": \"88\", \"route_short_name\": \"88\", \"service_date\": \"2022-05-04T00:00:00\", \"pct_w_vp\": 0.9259259259259259}, {\"agency_name\": \"AC TRANSIT\", \"route_id\": \"51A\", \"route_short_name\": \"51A\", \"service_date\": \"2022-05-04T00:00:00\", \"pct_w_vp\": 0.9635416666666666}, {\"agency_name\": \"AC TRANSIT\", \"route_id\": \"18\", \"route_short_name\": \"18\", \"service_date\": \"2022-05-04T00:00:00\", \"pct_w_vp\": 0.9158878504672897}, {\"agency_name\": \"AC TRANSIT\", \"route_id\": \"U\", \"route_short_name\": \"U\", \"service_date\": \"2022-05-04T00:00:00\", \"pct_w_vp\": 0.0}, {\"agency_name\": \"AC TRANSIT\", \"route_id\": \"623\", \"route_short_name\": \"623\", \"service_date\": \"2022-05-04T00:00:00\", \"pct_w_vp\": 1.0}, {\"agency_name\": \"AC TRANSIT\", \"route_id\": \"93\", \"route_short_name\": \"93\", \"service_date\": \"2022-05-04T00:00:00\", \"pct_w_vp\": 0.7446808510638298}, {\"agency_name\": \"AC TRANSIT\", \"route_id\": \"669\", \"route_short_name\": \"669\", \"service_date\": \"2022-05-04T00:00:00\", \"pct_w_vp\": 0.6666666666666666}, {\"agency_name\": \"AC TRANSIT\", \"route_id\": \"216\", \"route_short_name\": \"216\", \"service_date\": \"2022-05-04T00:00:00\", \"pct_w_vp\": 1.0}, {\"agency_name\": \"AC TRANSIT\", \"route_id\": \"239\", \"route_short_name\": \"239\", \"service_date\": \"2022-05-04T00:00:00\", \"pct_w_vp\": 0.8360655737704918}, {\"agency_name\": \"AC TRANSIT\", \"route_id\": \"99\", \"route_short_name\": \"99\", \"service_date\": \"2022-05-04T00:00:00\", \"pct_w_vp\": 0.7844827586206896}, {\"agency_name\": \"AC TRANSIT\", \"route_id\": \"20\", \"route_short_name\": \"20\", \"service_date\": \"2022-05-04T00:00:00\", \"pct_w_vp\": 0.974025974025974}, {\"agency_name\": \"AC TRANSIT\", \"route_id\": \"688\", \"route_short_name\": \"688\", \"service_date\": \"2022-05-04T00:00:00\", \"pct_w_vp\": 1.0}, {\"agency_name\": \"AC TRANSIT\", \"route_id\": \"681\", \"route_short_name\": \"681\", \"service_date\": \"2022-05-04T00:00:00\", \"pct_w_vp\": 1.0}, {\"agency_name\": \"AC TRANSIT\", \"route_id\": \"801\", \"route_short_name\": \"801\", \"service_date\": \"2022-05-04T00:00:00\", \"pct_w_vp\": 1.0}, {\"agency_name\": \"AC TRANSIT\", \"route_id\": \"624\", \"route_short_name\": \"624\", \"service_date\": \"2022-05-04T00:00:00\", \"pct_w_vp\": 1.0}, {\"agency_name\": \"AC TRANSIT\", \"route_id\": \"40\", \"route_short_name\": \"40\", \"service_date\": \"2022-05-04T00:00:00\", \"pct_w_vp\": 0.9795918367346939}, {\"agency_name\": \"AC TRANSIT\", \"route_id\": \"96\", \"route_short_name\": \"96\", \"service_date\": \"2022-05-04T00:00:00\", \"pct_w_vp\": 0.8484848484848485}, {\"agency_name\": \"AC TRANSIT\", \"route_id\": \"67\", \"route_short_name\": \"67\", \"service_date\": \"2022-05-04T00:00:00\", \"pct_w_vp\": 0.8913043478260869}, {\"agency_name\": \"AC TRANSIT\", \"route_id\": \"805\", \"route_short_name\": \"805\", \"service_date\": \"2022-05-04T00:00:00\", \"pct_w_vp\": 1.0}, {\"agency_name\": \"AC TRANSIT\", \"route_id\": \"628\", \"route_short_name\": \"628\", \"service_date\": \"2022-05-04T00:00:00\", \"pct_w_vp\": 1.0}, {\"agency_name\": \"AC TRANSIT\", \"route_id\": \"NX\", \"route_short_name\": \"NX\", \"service_date\": \"2022-05-04T00:00:00\", \"pct_w_vp\": 0.7142857142857143}, {\"agency_name\": \"AC TRANSIT\", \"route_id\": \"631\", \"route_short_name\": \"631\", \"service_date\": \"2022-05-04T00:00:00\", \"pct_w_vp\": 1.0}, {\"agency_name\": \"AC TRANSIT\", \"route_id\": \"625\", \"route_short_name\": \"625\", \"service_date\": \"2022-05-04T00:00:00\", \"pct_w_vp\": 1.0}, {\"agency_name\": \"AC TRANSIT\", \"route_id\": \"P\", \"route_short_name\": \"P\", \"service_date\": \"2022-05-04T00:00:00\", \"pct_w_vp\": 0.6666666666666666}, {\"agency_name\": \"AC TRANSIT\", \"route_id\": \"251\", \"route_short_name\": \"251\", \"service_date\": \"2022-05-04T00:00:00\", \"pct_w_vp\": 1.0}, {\"agency_name\": \"AC TRANSIT\", \"route_id\": \"215\", \"route_short_name\": \"215\", \"service_date\": \"2022-05-04T00:00:00\", \"pct_w_vp\": 1.0}, {\"agency_name\": \"AC TRANSIT\", \"route_id\": \"70\", \"route_short_name\": \"70\", \"service_date\": \"2022-05-04T00:00:00\", \"pct_w_vp\": 0.7931034482758621}, {\"agency_name\": \"AC TRANSIT\", \"route_id\": \"652\", \"route_short_name\": \"652\", \"service_date\": \"2022-05-04T00:00:00\", \"pct_w_vp\": 1.0}, {\"agency_name\": \"AC TRANSIT\", \"route_id\": \"65\", \"route_short_name\": \"65\", \"service_date\": \"2022-05-04T00:00:00\", \"pct_w_vp\": 0.7692307692307693}, {\"agency_name\": \"AC TRANSIT\", \"route_id\": \"680\", \"route_short_name\": \"680\", \"service_date\": \"2022-05-04T00:00:00\", \"pct_w_vp\": 1.0}, {\"agency_name\": \"AC TRANSIT\", \"route_id\": \"95\", \"route_short_name\": \"95\", \"service_date\": \"2022-05-04T00:00:00\", \"pct_w_vp\": 1.0}, {\"agency_name\": \"AC TRANSIT\", \"route_id\": \"NL\", \"route_short_name\": \"NL\", \"service_date\": \"2022-05-04T00:00:00\", \"pct_w_vp\": 0.9203539823008849}, {\"agency_name\": \"AC TRANSIT\", \"route_id\": \"210\", \"route_short_name\": \"210\", \"service_date\": \"2022-05-04T00:00:00\", \"pct_w_vp\": 0.9565217391304348}, {\"agency_name\": \"AC TRANSIT\", \"route_id\": \"V\", \"route_short_name\": \"V\", \"service_date\": \"2022-05-04T00:00:00\", \"pct_w_vp\": 0.7142857142857143}, {\"agency_name\": \"AC TRANSIT\", \"route_id\": \"71\", \"route_short_name\": \"71\", \"service_date\": \"2022-05-04T00:00:00\", \"pct_w_vp\": 0.8666666666666667}, {\"agency_name\": \"AC TRANSIT\", \"route_id\": \"232\", \"route_short_name\": \"232\", \"service_date\": \"2022-05-04T00:00:00\", \"pct_w_vp\": 1.0}, {\"agency_name\": \"AC TRANSIT\", \"route_id\": \"39\", \"route_short_name\": \"39\", \"service_date\": \"2022-05-04T00:00:00\", \"pct_w_vp\": 1.0}, {\"agency_name\": \"AC TRANSIT\", \"route_id\": \"802\", \"route_short_name\": \"802\", \"service_date\": \"2022-05-04T00:00:00\", \"pct_w_vp\": 1.0}, {\"agency_name\": \"AC TRANSIT\", \"route_id\": \"621\", \"route_short_name\": \"621\", \"service_date\": \"2022-05-04T00:00:00\", \"pct_w_vp\": 1.0}, {\"agency_name\": \"AC TRANSIT\", \"route_id\": \"O\", \"route_short_name\": \"O\", \"service_date\": \"2022-05-04T00:00:00\", \"pct_w_vp\": 0.8333333333333334}, {\"agency_name\": \"AC TRANSIT\", \"route_id\": \"650\", \"route_short_name\": \"650\", \"service_date\": \"2022-05-04T00:00:00\", \"pct_w_vp\": 1.0}, {\"agency_name\": \"AC TRANSIT\", \"route_id\": \"642\", \"route_short_name\": \"642\", \"service_date\": \"2022-05-04T00:00:00\", \"pct_w_vp\": 1.0}, {\"agency_name\": \"AC TRANSIT\", \"route_id\": \"36\", \"route_short_name\": \"36\", \"service_date\": \"2022-05-04T00:00:00\", \"pct_w_vp\": 0.8783783783783784}, {\"agency_name\": \"AC TRANSIT\", \"route_id\": \"J\", \"route_short_name\": \"J\", \"service_date\": \"2022-05-04T00:00:00\", \"pct_w_vp\": 0.75}, {\"agency_name\": \"AC TRANSIT\", \"route_id\": \"667\", \"route_short_name\": \"667\", \"service_date\": \"2022-05-04T00:00:00\", \"pct_w_vp\": 1.0}, {\"agency_name\": \"AC TRANSIT\", \"route_id\": \"638\", \"route_short_name\": \"638\", \"service_date\": \"2022-05-04T00:00:00\", \"pct_w_vp\": 1.0}, {\"agency_name\": \"AC TRANSIT\", \"route_id\": \"649\", \"route_short_name\": \"649\", \"service_date\": \"2022-05-04T00:00:00\", \"pct_w_vp\": 1.0}, {\"agency_name\": \"AC TRANSIT\", \"route_id\": \"6\", \"route_short_name\": \"6\", \"service_date\": \"2022-05-04T00:00:00\", \"pct_w_vp\": 1.0}, {\"agency_name\": \"AC TRANSIT\", \"route_id\": \"653\", \"route_short_name\": \"653\", \"service_date\": \"2022-05-04T00:00:00\", \"pct_w_vp\": 1.0}, {\"agency_name\": \"AC TRANSIT\", \"route_id\": \"LA\", \"route_short_name\": \"LA\", \"service_date\": \"2022-05-04T00:00:00\", \"pct_w_vp\": 0.3333333333333333}, {\"agency_name\": \"AC TRANSIT\", \"route_id\": \"655\", \"route_short_name\": \"655\", \"service_date\": \"2022-05-04T00:00:00\", \"pct_w_vp\": 1.0}, {\"agency_name\": \"AC TRANSIT\", \"route_id\": \"648\", \"route_short_name\": \"648\", \"service_date\": \"2022-05-04T00:00:00\", \"pct_w_vp\": 1.0}, {\"agency_name\": \"AC TRANSIT\", \"route_id\": \"212\", \"route_short_name\": \"212\", \"service_date\": \"2022-05-04T00:00:00\", \"pct_w_vp\": 1.0}, {\"agency_name\": \"AC TRANSIT\", \"route_id\": \"607\", \"route_short_name\": \"607\", \"service_date\": \"2022-05-04T00:00:00\", \"pct_w_vp\": 1.0}, {\"agency_name\": \"AC TRANSIT\", \"route_id\": \"672\", \"route_short_name\": \"672\", \"service_date\": \"2022-05-04T00:00:00\", \"pct_w_vp\": 1.0}, {\"agency_name\": \"AC TRANSIT\", \"route_id\": \"90\", \"route_short_name\": \"90\", \"service_date\": \"2022-05-04T00:00:00\", \"pct_w_vp\": 0.875}, {\"agency_name\": \"AC TRANSIT\", \"route_id\": \"10\", \"route_short_name\": \"10\", \"service_date\": \"2022-05-04T00:00:00\", \"pct_w_vp\": 0.6434108527131783}, {\"agency_name\": \"AC TRANSIT\", \"route_id\": \"21\", \"route_short_name\": \"21\", \"service_date\": \"2022-05-04T00:00:00\", \"pct_w_vp\": 1.0}, {\"agency_name\": \"AC TRANSIT\", \"route_id\": \"54\", \"route_short_name\": \"54\", \"service_date\": \"2022-05-04T00:00:00\", \"pct_w_vp\": 0.837037037037037}, {\"agency_name\": \"AC TRANSIT\", \"route_id\": \"671\", \"route_short_name\": \"671\", \"service_date\": \"2022-05-04T00:00:00\", \"pct_w_vp\": 0.75}, {\"agency_name\": \"AC TRANSIT\", \"route_id\": \"626\", \"route_short_name\": \"626\", \"service_date\": \"2022-05-04T00:00:00\", \"pct_w_vp\": 1.0}, {\"agency_name\": \"AC TRANSIT\", \"route_id\": \"12\", \"route_short_name\": \"12\", \"service_date\": \"2022-05-04T00:00:00\", \"pct_w_vp\": 0.8714285714285714}, {\"agency_name\": \"AC TRANSIT\", \"route_id\": \"79\", \"route_short_name\": \"79\", \"service_date\": \"2022-05-04T00:00:00\", \"pct_w_vp\": 1.0}, {\"agency_name\": \"AC TRANSIT\", \"route_id\": \"620\", \"route_short_name\": \"620\", \"service_date\": \"2022-05-04T00:00:00\", \"pct_w_vp\": 1.0}, {\"agency_name\": \"AC TRANSIT\", \"route_id\": \"57\", \"route_short_name\": \"57\", \"service_date\": \"2022-05-04T00:00:00\", \"pct_w_vp\": 0.9629629629629629}, {\"agency_name\": \"AC TRANSIT\", \"route_id\": \"97\", \"route_short_name\": \"97\", \"service_date\": \"2022-05-04T00:00:00\", \"pct_w_vp\": 0.8934426229508197}, {\"agency_name\": \"AC TRANSIT\", \"route_id\": \"663\", \"route_short_name\": \"663\", \"service_date\": \"2022-05-04T00:00:00\", \"pct_w_vp\": 1.0}, {\"agency_name\": \"AC TRANSIT\", \"route_id\": \"696\", \"route_short_name\": \"696\", \"service_date\": \"2022-05-04T00:00:00\", \"pct_w_vp\": 1.0}, {\"agency_name\": \"AC TRANSIT\", \"route_id\": \"675\", \"route_short_name\": \"675\", \"service_date\": \"2022-05-04T00:00:00\", \"pct_w_vp\": 1.0}, {\"agency_name\": \"AC TRANSIT\", \"route_id\": \"33\", \"route_short_name\": \"33\", \"service_date\": \"2022-05-04T00:00:00\", \"pct_w_vp\": 0.9333333333333333}, {\"agency_name\": \"AC TRANSIT\", \"route_id\": \"617\", \"route_short_name\": \"617\", \"service_date\": \"2022-05-04T00:00:00\", \"pct_w_vp\": 1.0}, {\"agency_name\": \"AC TRANSIT\", \"route_id\": \"376\", \"route_short_name\": \"376\", \"service_date\": \"2022-05-04T00:00:00\", \"pct_w_vp\": 0.8}, {\"agency_name\": \"AC TRANSIT\", \"route_id\": \"35\", \"route_short_name\": \"35\", \"service_date\": \"2022-05-04T00:00:00\", \"pct_w_vp\": 0.7714285714285715}, {\"agency_name\": \"AC TRANSIT\", \"route_id\": \"606\", \"route_short_name\": \"606\", \"service_date\": \"2022-05-04T00:00:00\", \"pct_w_vp\": 1.0}, {\"agency_name\": \"AC TRANSIT\", \"route_id\": \"14\", \"route_short_name\": \"14\", \"service_date\": \"2022-05-04T00:00:00\", \"pct_w_vp\": 0.9193548387096774}, {\"agency_name\": \"AC TRANSIT\", \"route_id\": \"851\", \"route_short_name\": \"851\", \"service_date\": \"2022-05-04T00:00:00\", \"pct_w_vp\": 1.0}, {\"agency_name\": \"AC TRANSIT\", \"route_id\": \"800\", \"route_short_name\": \"800\", \"service_date\": \"2022-05-04T00:00:00\", \"pct_w_vp\": 1.0}, {\"agency_name\": \"AC TRANSIT\", \"route_id\": \"28\", \"route_short_name\": \"28\", \"service_date\": \"2022-05-04T00:00:00\", \"pct_w_vp\": 0.9117647058823529}, {\"agency_name\": \"AC TRANSIT\", \"route_id\": \"657\", \"route_short_name\": \"657\", \"service_date\": \"2022-05-04T00:00:00\", \"pct_w_vp\": 1.0}, {\"agency_name\": \"AC TRANSIT\", \"route_id\": \"682\", \"route_short_name\": \"682\", \"service_date\": \"2022-05-04T00:00:00\", \"pct_w_vp\": 1.0}, {\"agency_name\": \"AC TRANSIT\", \"route_id\": \"646\", \"route_short_name\": \"646\", \"service_date\": \"2022-05-04T00:00:00\", \"pct_w_vp\": 0.875}, {\"agency_name\": \"AC TRANSIT\", \"route_id\": \"29\", \"route_short_name\": \"29\", \"service_date\": \"2022-05-04T00:00:00\", \"pct_w_vp\": 1.0}, {\"agency_name\": \"AC TRANSIT\", \"route_id\": \"34\", \"route_short_name\": \"34\", \"service_date\": \"2022-05-04T00:00:00\", \"pct_w_vp\": 0.7941176470588235}, {\"agency_name\": \"AC TRANSIT\", \"route_id\": \"200\", \"route_short_name\": \"200\", \"service_date\": \"2022-05-04T00:00:00\", \"pct_w_vp\": 0.9439252336448598}, {\"agency_name\": \"AC TRANSIT\", \"route_id\": \"217\", \"route_short_name\": \"217\", \"service_date\": \"2022-05-04T00:00:00\", \"pct_w_vp\": 0.9523809523809523}, {\"agency_name\": \"AC TRANSIT\", \"route_id\": \"86\", \"route_short_name\": \"86\", \"service_date\": \"2022-05-04T00:00:00\", \"pct_w_vp\": 1.0}, {\"agency_name\": \"AC TRANSIT\", \"route_id\": \"76\", \"route_short_name\": \"76\", \"service_date\": \"2022-05-04T00:00:00\", \"pct_w_vp\": 1.0}, {\"agency_name\": \"AC TRANSIT\", \"route_id\": \"41\", \"route_short_name\": \"41\", \"service_date\": \"2022-05-04T00:00:00\", \"pct_w_vp\": 1.0}, {\"agency_name\": \"AC TRANSIT\", \"route_id\": \"701\", \"route_short_name\": \"701\", \"service_date\": \"2022-05-04T00:00:00\", \"pct_w_vp\": 1.0}, {\"agency_name\": \"AC TRANSIT\", \"route_id\": \"60\", \"route_short_name\": \"60\", \"service_date\": \"2022-05-04T00:00:00\", \"pct_w_vp\": 0.9629629629629629}, {\"agency_name\": \"Santa Rosa CityBus\", \"route_id\": \"12\", \"route_short_name\": \"12\", \"service_date\": \"2022-05-04T00:00:00\", \"pct_w_vp\": 0.9642857142857143}, {\"agency_name\": \"Santa Rosa CityBus\", \"route_id\": \"4\", \"route_short_name\": \"4\", \"service_date\": \"2022-05-04T00:00:00\", \"pct_w_vp\": 0.9285714285714286}, {\"agency_name\": \"Santa Rosa CityBus\", \"route_id\": \"1\", \"route_short_name\": \"1\", \"service_date\": \"2022-05-04T00:00:00\", \"pct_w_vp\": 0.7764705882352941}, {\"agency_name\": \"Santa Rosa CityBus\", \"route_id\": \"5\", \"route_short_name\": \"5\", \"service_date\": \"2022-05-04T00:00:00\", \"pct_w_vp\": 0.9666666666666667}, {\"agency_name\": \"Santa Rosa CityBus\", \"route_id\": \"15\", \"route_short_name\": \"15\", \"service_date\": \"2022-05-04T00:00:00\", \"pct_w_vp\": 1.0}, {\"agency_name\": \"Santa Rosa CityBus\", \"route_id\": \"10\", \"route_short_name\": \"10\", \"service_date\": \"2022-05-04T00:00:00\", \"pct_w_vp\": 0.7777777777777778}, {\"agency_name\": \"Santa Rosa CityBus\", \"route_id\": \"6\", \"route_short_name\": \"6\", \"service_date\": \"2022-05-04T00:00:00\", \"pct_w_vp\": 0.9411764705882353}, {\"agency_name\": \"Santa Rosa CityBus\", \"route_id\": \"18\", \"route_short_name\": \"18\", \"service_date\": \"2022-05-04T00:00:00\", \"pct_w_vp\": 1.0}, {\"agency_name\": \"Santa Rosa CityBus\", \"route_id\": \"2\", \"route_short_name\": \"2\", \"service_date\": \"2022-05-04T00:00:00\", \"pct_w_vp\": 0.9310344827586207}, {\"agency_name\": \"SamTrans\", \"route_id\": \"32541\", \"route_short_name\": \"DCB Shuttle (SamTrans)\", \"service_date\": \"2022-05-04T00:00:00\", \"pct_w_vp\": 0.0}, {\"agency_name\": \"SamTrans\", \"route_id\": \"32542\", \"route_short_name\": \"M3 Shuttle (City of Menlo Park)\", \"service_date\": \"2022-05-04T00:00:00\", \"pct_w_vp\": 0.0}, {\"agency_name\": \"Golden Gate Transit\", \"route_id\": \"114\", \"route_short_name\": \"114\", \"service_date\": \"2022-05-04T00:00:00\", \"pct_w_vp\": 1.0}, {\"agency_name\": \"Caltrain\", \"route_id\": \"L6\", \"route_short_name\": \"L6\", \"service_date\": \"2022-05-04T00:00:00\", \"pct_w_vp\": 0.7441860465116279}, {\"agency_name\": \"Bay Area Rapid Transit\", \"route_id\": \"Green-N\", \"route_short_name\": \"Green-N\", \"service_date\": \"2022-05-04T00:00:00\", \"pct_w_vp\": 0.0}, {\"agency_name\": \"Bay Area Rapid Transit\", \"route_id\": \"Red-N\", \"route_short_name\": \"Red-N\", \"service_date\": \"2022-05-04T00:00:00\", \"pct_w_vp\": 0.0}, {\"agency_name\": \"Bay Area Rapid Transit\", \"route_id\": \"Red-S\", \"route_short_name\": \"Red-S\", \"service_date\": \"2022-05-04T00:00:00\", \"pct_w_vp\": 0.0}, {\"agency_name\": \"Bay Area Rapid Transit\", \"route_id\": \"Beige-N\", \"route_short_name\": \"Beige-N\", \"service_date\": \"2022-05-04T00:00:00\", \"pct_w_vp\": 0.0}, {\"agency_name\": \"Bay Area Rapid Transit\", \"route_id\": \"Beige-S\", \"route_short_name\": \"Beige-S\", \"service_date\": \"2022-05-04T00:00:00\", \"pct_w_vp\": 0.0}, {\"agency_name\": \"Bay Area Rapid Transit\", \"route_id\": \"Yellow-N\", \"route_short_name\": \"Yellow-N\", \"service_date\": \"2022-05-04T00:00:00\", \"pct_w_vp\": 0.0}, {\"agency_name\": \"Bay Area Rapid Transit\", \"route_id\": \"Blue-N\", \"route_short_name\": \"Blue-N\", \"service_date\": \"2022-05-04T00:00:00\", \"pct_w_vp\": 0.0}, {\"agency_name\": \"Bay Area Rapid Transit\", \"route_id\": \"Green-S\", \"route_short_name\": \"Green-S\", \"service_date\": \"2022-05-04T00:00:00\", \"pct_w_vp\": 0.0}, {\"agency_name\": \"Bay Area Rapid Transit\", \"route_id\": \"Orange-S\", \"route_short_name\": \"Orange-S\", \"service_date\": \"2022-05-04T00:00:00\", \"pct_w_vp\": 0.0}, {\"agency_name\": \"Bay Area Rapid Transit\", \"route_id\": \"Yellow-S\", \"route_short_name\": \"Yellow-S\", \"service_date\": \"2022-05-04T00:00:00\", \"pct_w_vp\": 0.0}, {\"agency_name\": \"Bay Area Rapid Transit\", \"route_id\": \"Blue-S\", \"route_short_name\": \"Blue-S\", \"service_date\": \"2022-05-04T00:00:00\", \"pct_w_vp\": 0.0}, {\"agency_name\": \"Bay Area Rapid Transit\", \"route_id\": \"Orange-N\", \"route_short_name\": \"Orange-N\", \"service_date\": \"2022-05-04T00:00:00\", \"pct_w_vp\": 0.0}, {\"agency_name\": \"SamTrans\", \"route_id\": \"32543\", \"route_short_name\": \"M4 Shuttle (City of Menlo Park)\", \"service_date\": \"2022-05-04T00:00:00\", \"pct_w_vp\": 0.0}, {\"agency_name\": \"SamTrans\", \"route_id\": \"32544\", \"route_short_name\": \"M1 Shuttle (City of Menlo Park)\", \"service_date\": \"2022-05-04T00:00:00\", \"pct_w_vp\": 0.0}, {\"agency_name\": \"Fairfield and Suisun Transit\", \"route_id\": \"3\", \"route_short_name\": \"3\", \"service_date\": \"2022-05-04T00:00:00\", \"pct_w_vp\": 1.0}, {\"agency_name\": \"Fairfield and Suisun Transit\", \"route_id\": \"1\", \"route_short_name\": \"1\", \"service_date\": \"2022-05-04T00:00:00\", \"pct_w_vp\": 1.0}, {\"agency_name\": \"Fairfield and Suisun Transit\", \"route_id\": \"5\", \"route_short_name\": \"5\", \"service_date\": \"2022-05-04T00:00:00\", \"pct_w_vp\": 1.0}, {\"agency_name\": \"AC TRANSIT\", \"route_id\": \"OX\", \"route_short_name\": \"OX\", \"service_date\": \"2022-05-04T00:00:00\", \"pct_w_vp\": 0.75}, {\"agency_name\": \"AC TRANSIT\", \"route_id\": \"FS\", \"route_short_name\": \"FS\", \"service_date\": \"2022-05-04T00:00:00\", \"pct_w_vp\": 1.0}, {\"agency_name\": \"AC TRANSIT\", \"route_id\": \"NX3\", \"route_short_name\": \"NX3\", \"service_date\": \"2022-05-04T00:00:00\", \"pct_w_vp\": 0.75}, {\"agency_name\": \"AC TRANSIT\", \"route_id\": \"E\", \"route_short_name\": \"E\", \"service_date\": \"2022-05-04T00:00:00\", \"pct_w_vp\": 0.875}, {\"agency_name\": \"SolTrans\", \"route_id\": \"G\", \"route_short_name\": \"G\", \"service_date\": \"2022-05-04T00:00:00\", \"pct_w_vp\": 1.0}, {\"agency_name\": \"San Francisco Bay Ferry\", \"route_id\": \"VJO\", \"route_short_name\": \"VJO\", \"service_date\": \"2022-05-04T00:00:00\", \"pct_w_vp\": 0.0}, {\"agency_name\": \"San Francisco Bay Ferry\", \"route_id\": \"SEA\", \"route_short_name\": \"SEA\", \"service_date\": \"2022-05-04T00:00:00\", \"pct_w_vp\": 0.0}, {\"agency_name\": \"San Francisco Bay Ferry\", \"route_id\": \"SSF\", \"route_short_name\": \"SSF\", \"service_date\": \"2022-05-04T00:00:00\", \"pct_w_vp\": 0.0}, {\"agency_name\": \"San Francisco Bay Ferry\", \"route_id\": \"HB\", \"route_short_name\": \"HB\", \"service_date\": \"2022-05-04T00:00:00\", \"pct_w_vp\": 0.0}, {\"agency_name\": \"San Francisco Bay Ferry\", \"route_id\": \"RCH\", \"route_short_name\": \"RCH\", \"service_date\": \"2022-05-04T00:00:00\", \"pct_w_vp\": 0.0}, {\"agency_name\": \"San Francisco Bay Ferry\", \"route_id\": \"OA\", \"route_short_name\": \"OA\", \"service_date\": \"2022-05-04T00:00:00\", \"pct_w_vp\": 0.0}, {\"agency_name\": \"SolTrans\", \"route_id\": \"82\", \"route_short_name\": \"82\", \"service_date\": \"2022-05-04T00:00:00\", \"pct_w_vp\": 1.0}, {\"agency_name\": \"Sonoma County Transit\", \"route_id\": \"1042\", \"route_short_name\": \"28\", \"service_date\": \"2022-05-04T00:00:00\", \"pct_w_vp\": 0.0}, {\"agency_name\": \"Sonoma County Transit\", \"route_id\": \"1037\", \"route_short_name\": \"62\", \"service_date\": \"2022-05-04T00:00:00\", \"pct_w_vp\": 0.0}, {\"agency_name\": \"Sonoma County Transit\", \"route_id\": \"1033\", \"route_short_name\": \"44\", \"service_date\": \"2022-05-04T00:00:00\", \"pct_w_vp\": 0.0}, {\"agency_name\": \"Sonoma County Transit\", \"route_id\": \"1050\", \"route_short_name\": \"34\", \"service_date\": \"2022-05-04T00:00:00\", \"pct_w_vp\": 0.0}, {\"agency_name\": \"Sonoma County Transit\", \"route_id\": \"1029\", \"route_short_name\": \"30\", \"service_date\": \"2022-05-04T00:00:00\", \"pct_w_vp\": 0.0}, {\"agency_name\": \"SamTrans\", \"route_id\": \"49\", \"route_short_name\": \"49\", \"service_date\": \"2022-05-04T00:00:00\", \"pct_w_vp\": 0.0}, {\"agency_name\": \"SamTrans\", \"route_id\": \"95\", \"route_short_name\": \"95\", \"service_date\": \"2022-05-04T00:00:00\", \"pct_w_vp\": 0.0}, {\"agency_name\": \"SamTrans\", \"route_id\": \"81\", \"route_short_name\": \"81\", \"service_date\": \"2022-05-04T00:00:00\", \"pct_w_vp\": 0.0}, {\"agency_name\": \"SamTrans\", \"route_id\": \"62\", \"route_short_name\": \"62\", \"service_date\": \"2022-05-04T00:00:00\", \"pct_w_vp\": 0.0}, {\"agency_name\": \"SamTrans\", \"route_id\": \"87\", \"route_short_name\": \"87\", \"service_date\": \"2022-05-04T00:00:00\", \"pct_w_vp\": 0.0}, {\"agency_name\": \"SamTrans\", \"route_id\": \"58\", \"route_short_name\": \"58\", \"service_date\": \"2022-05-04T00:00:00\", \"pct_w_vp\": 0.0}, {\"agency_name\": \"SamTrans\", \"route_id\": \"39\", \"route_short_name\": \"39\", \"service_date\": \"2022-05-04T00:00:00\", \"pct_w_vp\": 0.0}, {\"agency_name\": \"SamTrans\", \"route_id\": \"54\", \"route_short_name\": \"54\", \"service_date\": \"2022-05-04T00:00:00\", \"pct_w_vp\": 0.0}, {\"agency_name\": \"SamTrans\", \"route_id\": \"18\", \"route_short_name\": \"18\", \"service_date\": \"2022-05-04T00:00:00\", \"pct_w_vp\": 0.0}, {\"agency_name\": \"SamTrans\", \"route_id\": \"14\", \"route_short_name\": \"14\", \"service_date\": \"2022-05-04T00:00:00\", \"pct_w_vp\": 0.0}, {\"agency_name\": \"SamTrans\", \"route_id\": \"275\", \"route_short_name\": \"275\", \"service_date\": \"2022-05-04T00:00:00\", \"pct_w_vp\": 0.0}, {\"agency_name\": \"SamTrans\", \"route_id\": \"59\", \"route_short_name\": \"59\", \"service_date\": \"2022-05-04T00:00:00\", \"pct_w_vp\": 0.0}, {\"agency_name\": \"SamTrans\", \"route_id\": \"35\", \"route_short_name\": \"35\", \"service_date\": \"2022-05-04T00:00:00\", \"pct_w_vp\": 0.0}, {\"agency_name\": \"SamTrans\", \"route_id\": \"53\", \"route_short_name\": \"53\", \"service_date\": \"2022-05-04T00:00:00\", \"pct_w_vp\": 0.0}, {\"agency_name\": \"SamTrans\", \"route_id\": \"60\", \"route_short_name\": \"60\", \"service_date\": \"2022-05-04T00:00:00\", \"pct_w_vp\": 0.0}, {\"agency_name\": \"SamTrans\", \"route_id\": \"57\", \"route_short_name\": \"57\", \"service_date\": \"2022-05-04T00:00:00\", \"pct_w_vp\": 0.0}, {\"agency_name\": \"SamTrans\", \"route_id\": \"37\", \"route_short_name\": \"37\", \"service_date\": \"2022-05-04T00:00:00\", \"pct_w_vp\": 0.0}, {\"agency_name\": \"SamTrans\", \"route_id\": \"28\", \"route_short_name\": \"28\", \"service_date\": \"2022-05-04T00:00:00\", \"pct_w_vp\": 0.0}, {\"agency_name\": \"SamTrans\", \"route_id\": \"56\", \"route_short_name\": \"56\", \"service_date\": \"2022-05-04T00:00:00\", \"pct_w_vp\": 0.0}, {\"agency_name\": \"SamTrans\", \"route_id\": \"61\", \"route_short_name\": \"61\", \"service_date\": \"2022-05-04T00:00:00\", \"pct_w_vp\": 0.0}, {\"agency_name\": \"SamTrans\", \"route_id\": \"24\", \"route_short_name\": \"24\", \"service_date\": \"2022-05-04T00:00:00\", \"pct_w_vp\": 0.0}, {\"agency_name\": \"SamTrans\", \"route_id\": \"55\", \"route_short_name\": \"55\", \"service_date\": \"2022-05-04T00:00:00\", \"pct_w_vp\": 0.0}, {\"agency_name\": \"San Francisco Municipal Transportation Agency\", \"route_id\": \"8BX\", \"route_short_name\": \"8BX\", \"service_date\": \"2022-05-04T00:00:00\", \"pct_w_vp\": 1.0}, {\"agency_name\": \"San Francisco Municipal Transportation Agency\", \"route_id\": \"8AX\", \"route_short_name\": \"8AX\", \"service_date\": \"2022-05-04T00:00:00\", \"pct_w_vp\": 0.9183673469387755}, {\"agency_name\": \"Livermore Amador Valley Transit Authority\", \"route_id\": \"610\", \"route_short_name\": \"610\", \"service_date\": \"2022-05-04T00:00:00\", \"pct_w_vp\": 1.0}, {\"agency_name\": \"Livermore Amador Valley Transit Authority\", \"route_id\": \"603\", \"route_short_name\": \"603\", \"service_date\": \"2022-05-04T00:00:00\", \"pct_w_vp\": 1.0}, {\"agency_name\": \"Livermore Amador Valley Transit Authority\", \"route_id\": \"607\", \"route_short_name\": \"607\", \"service_date\": \"2022-05-04T00:00:00\", \"pct_w_vp\": 1.0}, {\"agency_name\": \"Livermore Amador Valley Transit Authority\", \"route_id\": \"611\", \"route_short_name\": \"611\", \"service_date\": \"2022-05-04T00:00:00\", \"pct_w_vp\": 1.0}, {\"agency_name\": \"Livermore Amador Valley Transit Authority\", \"route_id\": \"605\", \"route_short_name\": \"605\", \"service_date\": \"2022-05-04T00:00:00\", \"pct_w_vp\": 1.0}, {\"agency_name\": \"Livermore Amador Valley Transit Authority\", \"route_id\": \"609\", \"route_short_name\": \"609\", \"service_date\": \"2022-05-04T00:00:00\", \"pct_w_vp\": 1.0}, {\"agency_name\": \"Livermore Amador Valley Transit Authority\", \"route_id\": \"601\", \"route_short_name\": \"601\", \"service_date\": \"2022-05-04T00:00:00\", \"pct_w_vp\": 1.0}, {\"agency_name\": \"Livermore Amador Valley Transit Authority\", \"route_id\": \"604\", \"route_short_name\": \"604\", \"service_date\": \"2022-05-04T00:00:00\", \"pct_w_vp\": 1.0}, {\"agency_name\": \"Livermore Amador Valley Transit Authority\", \"route_id\": \"608\", \"route_short_name\": \"608\", \"service_date\": \"2022-05-04T00:00:00\", \"pct_w_vp\": 1.0}, {\"agency_name\": \"Livermore Amador Valley Transit Authority\", \"route_id\": \"606\", \"route_short_name\": \"606\", \"service_date\": \"2022-05-04T00:00:00\", \"pct_w_vp\": 1.0}, {\"agency_name\": \"Livermore Amador Valley Transit Authority\", \"route_id\": \"602\", \"route_short_name\": \"602\", \"service_date\": \"2022-05-04T00:00:00\", \"pct_w_vp\": 1.0}, {\"agency_name\": \"Livermore Amador Valley Transit Authority\", \"route_id\": \"2\", \"route_short_name\": \"2\", \"service_date\": \"2022-05-04T00:00:00\", \"pct_w_vp\": 1.0}, {\"agency_name\": \"Stanford Marguerite Shuttle\", \"route_id\": \"4\", \"route_short_name\": null, \"service_date\": \"2022-05-04T00:00:00\", \"pct_w_vp\": 0.0}, {\"agency_name\": \"Stanford Marguerite Shuttle\", \"route_id\": \"47\", \"route_short_name\": \"YL-PM\", \"service_date\": \"2022-05-04T00:00:00\", \"pct_w_vp\": 0.0}, {\"agency_name\": \"Stanford Marguerite Shuttle\", \"route_id\": \"20\", \"route_short_name\": null, \"service_date\": \"2022-05-04T00:00:00\", \"pct_w_vp\": 0.0}, {\"agency_name\": \"Stanford Marguerite Shuttle\", \"route_id\": \"45\", \"route_short_name\": \"XL-AM\", \"service_date\": \"2022-05-04T00:00:00\", \"pct_w_vp\": 0.0}, {\"agency_name\": \"Stanford Marguerite Shuttle\", \"route_id\": \"48\", \"route_short_name\": \"XL-PM\", \"service_date\": \"2022-05-04T00:00:00\", \"pct_w_vp\": 0.0}, {\"agency_name\": \"Stanford Marguerite Shuttle\", \"route_id\": \"46\", \"route_short_name\": null, \"service_date\": \"2022-05-04T00:00:00\", \"pct_w_vp\": 0.0}, {\"agency_name\": \"Fairfield and Suisun Transit\", \"route_id\": \"BLUE\", \"route_short_name\": \"BLUE\", \"service_date\": \"2022-05-04T00:00:00\", \"pct_w_vp\": 1.0}, {\"agency_name\": \"SamTrans\", \"route_id\": \"29\", \"route_short_name\": \"29\", \"service_date\": \"2022-05-04T00:00:00\", \"pct_w_vp\": 0.0}, {\"agency_name\": \"SamTrans\", \"route_id\": \"82\", \"route_short_name\": \"82\", \"service_date\": \"2022-05-04T00:00:00\", \"pct_w_vp\": 0.0}, {\"agency_name\": \"SamTrans\", \"route_id\": \"46\", \"route_short_name\": \"46\", \"service_date\": \"2022-05-04T00:00:00\", \"pct_w_vp\": 0.0}, {\"agency_name\": \"SamTrans\", \"route_id\": \"72\", \"route_short_name\": \"72\", \"service_date\": \"2022-05-04T00:00:00\", \"pct_w_vp\": 0.0}, {\"agency_name\": \"SamTrans\", \"route_id\": \"80\", \"route_short_name\": \"80\", \"service_date\": \"2022-05-04T00:00:00\", \"pct_w_vp\": 0.0}, {\"agency_name\": \"SamTrans\", \"route_id\": \"83\", \"route_short_name\": \"83\", \"service_date\": \"2022-05-04T00:00:00\", \"pct_w_vp\": 0.0}, {\"agency_name\": \"SamTrans\", \"route_id\": \"79\", \"route_short_name\": \"79\", \"service_date\": \"2022-05-04T00:00:00\", \"pct_w_vp\": 0.0}, {\"agency_name\": \"SamTrans\", \"route_id\": \"84\", \"route_short_name\": \"84\", \"service_date\": \"2022-05-04T00:00:00\", \"pct_w_vp\": 0.0}, {\"agency_name\": \"SamTrans\", \"route_id\": \"85\", \"route_short_name\": \"85\", \"service_date\": \"2022-05-04T00:00:00\", \"pct_w_vp\": 0.0}, {\"agency_name\": \"SamTrans\", \"route_id\": \"68\", \"route_short_name\": \"68\", \"service_date\": \"2022-05-04T00:00:00\", \"pct_w_vp\": 0.0}, {\"agency_name\": \"SamTrans\", \"route_id\": \"67\", \"route_short_name\": \"67\", \"service_date\": \"2022-05-04T00:00:00\", \"pct_w_vp\": 0.0}, {\"agency_name\": \"SamTrans\", \"route_id\": \"73\", \"route_short_name\": \"73\", \"service_date\": \"2022-05-04T00:00:00\", \"pct_w_vp\": 0.0}, {\"agency_name\": \"SamTrans\", \"route_id\": \"25\", \"route_short_name\": \"25\", \"service_date\": \"2022-05-04T00:00:00\", \"pct_w_vp\": 0.0}, {\"agency_name\": \"SamTrans\", \"route_id\": \"19\", \"route_short_name\": \"19\", \"service_date\": \"2022-05-04T00:00:00\", \"pct_w_vp\": 0.0}, {\"agency_name\": \"SamTrans\", \"route_id\": \"88\", \"route_short_name\": \"88\", \"service_date\": \"2022-05-04T00:00:00\", \"pct_w_vp\": 0.0}, {\"agency_name\": \"SamTrans\", \"route_id\": \"32542\", \"route_short_name\": \"M3 Shuttle (City of Menlo Park)\", \"service_date\": \"2022-05-04T00:00:00\", \"pct_w_vp\": 0.0}, {\"agency_name\": \"SamTrans\", \"route_id\": \"32544\", \"route_short_name\": \"M1 Shuttle (City of Menlo Park)\", \"service_date\": \"2022-05-04T00:00:00\", \"pct_w_vp\": 0.0}, {\"agency_name\": \"SamTrans\", \"route_id\": \"32543\", \"route_short_name\": \"M4 Shuttle (City of Menlo Park)\", \"service_date\": \"2022-05-04T00:00:00\", \"pct_w_vp\": 0.0}, {\"agency_name\": \"Stanford Marguerite Shuttle\", \"route_id\": \"44\", \"route_short_name\": \"YL-AM\", \"service_date\": \"2022-05-04T00:00:00\", \"pct_w_vp\": 0.0}, {\"agency_name\": \"Stanford Marguerite Shuttle\", \"route_id\": \"8\", \"route_short_name\": \"SLAC\", \"service_date\": \"2022-05-04T00:00:00\", \"pct_w_vp\": 0.0}]}}, {\"mode\": \"vega-lite\"});\n",
       "</script>"
      ],
      "text/plain": [
       "alt.HConcatChart(...)"
      ]
     },
     "execution_count": 231,
     "metadata": {},
     "output_type": "execute_result"
    }
   ],
   "source": [
    "dual_chart_with_dropdown2(\n",
    "    d,\n",
    "    dropdown_list = d_agency_list,\n",
    "    dropdown_field= 'agency_name',\n",
    "    x_axis_chart1 = 'service_date:O',\n",
    "    y_axis_chart1= 'avg:Q',\n",
    "    color_col1= 'avg:Q',\n",
    "    chart1_tooltip_cols = ['agency_name','service_date', 'avg'],\n",
    "    x_axis_chart2= 'service_date:O',\n",
    "    y_axis_chart2= 'avg:Q',\n",
    "    color_col2= 'route_short_name',\n",
    "    chart2_tooltip_cols= ['agency_name', 'service_date', 'route_short_name', 'avg']\n",
    ")"
   ]
  },
  {
   "cell_type": "code",
   "execution_count": null,
   "id": "e7c4bf42-c4ba-4f82-927b-ec1be843bdab",
   "metadata": {},
   "outputs": [],
   "source": []
  },
  {
   "cell_type": "code",
   "execution_count": null,
   "id": "335026fe-c1ef-4128-952a-9f414f4c5126",
   "metadata": {},
   "outputs": [],
   "source": []
  },
  {
   "cell_type": "code",
   "execution_count": null,
   "id": "aa0eb9a4-f8ed-4026-ab24-3f537b654454",
   "metadata": {},
   "outputs": [],
   "source": []
  },
  {
   "cell_type": "code",
   "execution_count": null,
   "id": "2ecfd022-eab5-42ca-964a-0d448324f975",
   "metadata": {},
   "outputs": [],
   "source": []
  }
 ],
 "metadata": {
  "kernelspec": {
   "display_name": "Python 3 (ipykernel)",
   "language": "python",
   "name": "python3"
  },
  "language_info": {
   "codemirror_mode": {
    "name": "ipython",
    "version": 3
   },
   "file_extension": ".py",
   "mimetype": "text/x-python",
   "name": "python",
   "nbconvert_exporter": "python",
   "pygments_lexer": "ipython3",
   "version": "3.10.5"
  },
  "widgets": {
   "application/vnd.jupyter.widget-state+json": {
    "state": {},
    "version_major": 2,
    "version_minor": 0
   }
  }
 },
 "nbformat": 4,
 "nbformat_minor": 5
}
