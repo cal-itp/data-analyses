{
 "cells": [
  {
   "cell_type": "markdown",
   "id": "db8a41f5-0d9b-472c-a702-22ac6dac47a2",
   "metadata": {},
   "source": [
    "# Report for May 4: {District}"
   ]
  },
  {
   "cell_type": "code",
   "execution_count": 1,
   "id": "39a5a22b-abb4-4b2a-8c51-b437fc8b2920",
   "metadata": {},
   "outputs": [
    {
     "name": "stderr",
     "output_type": "stream",
     "text": [
      "/opt/conda/lib/python3.10/site-packages/geopandas/_compat.py:112: UserWarning: The Shapely GEOS version (3.10.3-CAPI-1.16.1) is incompatible with the GEOS version PyGEOS was compiled with (3.10.1-CAPI-1.16.0). Conversions between both will be slow.\n",
      "  warnings.warn(\n"
     ]
    }
   ],
   "source": [
    "import utils\n",
    "import shared_utils\n",
    "from dla_utils import _dla_utils as dla_utils\n",
    "from shared_utils import styleguide, altair_utils, portfolio_utils\n",
    "\n",
    "from siuba import *\n",
    "import pandas as pd\n",
    "\n",
    "from IPython.display import display, Markdown, HTML\n",
    "\n",
    "import altair as alt\n",
    "\n",
    "import os\n",
    "os.environ[\"CALITP_BQ_MAX_BYTES\"] = str(800_000_000_000) ## 800GB?\n",
    "\n",
    "from calitp.tables import tbl\n",
    "\n",
    "from calitp import query_sql, magics\n"
   ]
  },
  {
   "cell_type": "code",
   "execution_count": 9,
   "id": "c48b014f-c842-40fa-a7af-5c819e973c56",
   "metadata": {},
   "outputs": [],
   "source": [
    "district = '04 - Oakland'"
   ]
  },
  {
   "cell_type": "code",
   "execution_count": 10,
   "id": "632eb2db-6122-45a6-a9bd-fe4e1a2f3561",
   "metadata": {},
   "outputs": [],
   "source": [
    "## alternatively \n",
    "may4 = query_sql(f'''\n",
    "SELECT * FROM `cal-itp-data-infra.views.gtfs_rt_vs_schedule_trips_may4_sample`\n",
    "''')"
   ]
  },
  {
   "cell_type": "code",
   "execution_count": 11,
   "id": "9c733942-5adc-4537-9d59-3fa149b9f9d2",
   "metadata": {},
   "outputs": [],
   "source": [
    "may4['service_date'] = pd.to_datetime(may4['service_date'])\n",
    "may4['weekday'] = pd.Series(may4.service_date).dt.day_name()    \n",
    "may4['month'] =  pd.Series(may4.service_date).dt.month_name()"
   ]
  },
  {
   "cell_type": "code",
   "execution_count": 21,
   "id": "538791e7-d5dd-4a6c-a149-b4149d9f757c",
   "metadata": {},
   "outputs": [],
   "source": [
    "itpid_district = portfolio_utils.add_caltrans_district()\n",
    "may4 = pd.merge(may4, itpid_district, on='calitp_itp_id', how='left')"
   ]
  },
  {
   "cell_type": "code",
   "execution_count": 23,
   "id": "b3bff346-d24d-4675-ae17-8a150a3cc660",
   "metadata": {},
   "outputs": [],
   "source": [
    "df_all = utils.get_correct_url(may4)"
   ]
  },
  {
   "cell_type": "code",
   "execution_count": 24,
   "id": "028d3501-06c9-4f49-9015-e9b8f76f26f3",
   "metadata": {},
   "outputs": [
    {
     "data": {
      "text/html": [
       "<div>\n",
       "<style scoped>\n",
       "    .dataframe tbody tr th:only-of-type {\n",
       "        vertical-align: middle;\n",
       "    }\n",
       "\n",
       "    .dataframe tbody tr th {\n",
       "        vertical-align: top;\n",
       "    }\n",
       "\n",
       "    .dataframe thead th {\n",
       "        text-align: right;\n",
       "    }\n",
       "</style>\n",
       "<table border=\"1\" class=\"dataframe\">\n",
       "  <thead>\n",
       "    <tr style=\"text-align: right;\">\n",
       "      <th></th>\n",
       "      <th>calitp_itp_id</th>\n",
       "      <th>agency_name</th>\n",
       "      <th>calitp_url_number</th>\n",
       "      <th>route_id</th>\n",
       "      <th>route_short_name</th>\n",
       "      <th>service_date</th>\n",
       "      <th>calitp_extracted_at</th>\n",
       "      <th>calitp_deleted_at</th>\n",
       "      <th>num_sched</th>\n",
       "      <th>num_vp</th>\n",
       "      <th>pct_w_vp</th>\n",
       "      <th>weekday</th>\n",
       "      <th>month</th>\n",
       "      <th>caltrans_district</th>\n",
       "    </tr>\n",
       "  </thead>\n",
       "  <tbody>\n",
       "    <tr>\n",
       "      <th>239</th>\n",
       "      <td>273</td>\n",
       "      <td>Sacramento Regional Transit</td>\n",
       "      <td>0</td>\n",
       "      <td>084</td>\n",
       "      <td>84</td>\n",
       "      <td>2022-05-04</td>\n",
       "      <td>2021-04-15</td>\n",
       "      <td>2099-01-01</td>\n",
       "      <td>62</td>\n",
       "      <td>0</td>\n",
       "      <td>0.00</td>\n",
       "      <td>Wednesday</td>\n",
       "      <td>May</td>\n",
       "      <td>03 - Marysville</td>\n",
       "    </tr>\n",
       "    <tr>\n",
       "      <th>1030</th>\n",
       "      <td>294</td>\n",
       "      <td>VTA</td>\n",
       "      <td>1</td>\n",
       "      <td>ACE Green</td>\n",
       "      <td>ACE Green</td>\n",
       "      <td>2022-05-04</td>\n",
       "      <td>2021-12-29</td>\n",
       "      <td>2099-01-01</td>\n",
       "      <td>8</td>\n",
       "      <td>0</td>\n",
       "      <td>0.00</td>\n",
       "      <td>Wednesday</td>\n",
       "      <td>May</td>\n",
       "      <td>04 - Oakland</td>\n",
       "    </tr>\n",
       "    <tr>\n",
       "      <th>363</th>\n",
       "      <td>87</td>\n",
       "      <td>Culver CityBus</td>\n",
       "      <td>0</td>\n",
       "      <td>6</td>\n",
       "      <td>CC 6</td>\n",
       "      <td>2022-05-04</td>\n",
       "      <td>2021-04-15</td>\n",
       "      <td>2099-01-01</td>\n",
       "      <td>96</td>\n",
       "      <td>0</td>\n",
       "      <td>0.00</td>\n",
       "      <td>Wednesday</td>\n",
       "      <td>May</td>\n",
       "      <td>07 - Los Angeles</td>\n",
       "    </tr>\n",
       "    <tr>\n",
       "      <th>1241</th>\n",
       "      <td>290</td>\n",
       "      <td>None</td>\n",
       "      <td>0</td>\n",
       "      <td>250-196</td>\n",
       "      <td>250</td>\n",
       "      <td>2022-05-04</td>\n",
       "      <td>2022-01-11</td>\n",
       "      <td>2022-06-19</td>\n",
       "      <td>66</td>\n",
       "      <td>0</td>\n",
       "      <td>0.00</td>\n",
       "      <td>Wednesday</td>\n",
       "      <td>May</td>\n",
       "      <td>04 - Oakland</td>\n",
       "    </tr>\n",
       "    <tr>\n",
       "      <th>1670</th>\n",
       "      <td>278</td>\n",
       "      <td>MTS</td>\n",
       "      <td>0</td>\n",
       "      <td>834</td>\n",
       "      <td>834</td>\n",
       "      <td>2022-05-04</td>\n",
       "      <td>2022-01-30</td>\n",
       "      <td>2022-05-19</td>\n",
       "      <td>13</td>\n",
       "      <td>13</td>\n",
       "      <td>1.00</td>\n",
       "      <td>Wednesday</td>\n",
       "      <td>May</td>\n",
       "      <td>11 - San Diego</td>\n",
       "    </tr>\n",
       "  </tbody>\n",
       "</table>\n",
       "</div>"
      ],
      "text/plain": [
       "      calitp_itp_id                  agency_name  calitp_url_number  \\\n",
       "239             273  Sacramento Regional Transit                  0   \n",
       "1030            294                          VTA                  1   \n",
       "363              87               Culver CityBus                  0   \n",
       "1241            290                         None                  0   \n",
       "1670            278                          MTS                  0   \n",
       "\n",
       "       route_id route_short_name service_date calitp_extracted_at  \\\n",
       "239         084               84   2022-05-04          2021-04-15   \n",
       "1030  ACE Green        ACE Green   2022-05-04          2021-12-29   \n",
       "363           6             CC 6   2022-05-04          2021-04-15   \n",
       "1241    250-196              250   2022-05-04          2022-01-11   \n",
       "1670        834              834   2022-05-04          2022-01-30   \n",
       "\n",
       "     calitp_deleted_at  num_sched  num_vp  pct_w_vp    weekday month  \\\n",
       "239         2099-01-01         62       0      0.00  Wednesday   May   \n",
       "1030        2099-01-01          8       0      0.00  Wednesday   May   \n",
       "363         2099-01-01         96       0      0.00  Wednesday   May   \n",
       "1241        2022-06-19         66       0      0.00  Wednesday   May   \n",
       "1670        2022-05-19         13      13      1.00  Wednesday   May   \n",
       "\n",
       "     caltrans_district  \n",
       "239    03 - Marysville  \n",
       "1030      04 - Oakland  \n",
       "363   07 - Los Angeles  \n",
       "1241      04 - Oakland  \n",
       "1670    11 - San Diego  "
      ]
     },
     "execution_count": 24,
     "metadata": {},
     "output_type": "execute_result"
    }
   ],
   "source": [
    "df_all.sample(5)"
   ]
  },
  {
   "cell_type": "code",
   "execution_count": 25,
   "id": "c4b3e422-deb8-4e28-99a3-1bd0aad89a13",
   "metadata": {},
   "outputs": [],
   "source": [
    "d = df_all>>filter(_.caltrans_district== district)"
   ]
  },
  {
   "cell_type": "markdown",
   "id": "17227797-912c-4c85-8c68-8997098e70fb",
   "metadata": {},
   "source": [
    "* Note to add functions in `utils` that create these sub dataframes already for \n",
    "    * district average\n",
    "    * agency average \n",
    "    * overall average"
   ]
  },
  {
   "cell_type": "code",
   "execution_count": 27,
   "id": "473a28ce-8849-4cec-8d85-e56c00b3ca19",
   "metadata": {},
   "outputs": [],
   "source": [
    "all_dist_avg = (utils.get_agg_pct(may4, groupings = ['caltrans_district'], sum_sched = 'num_sched', sum_vp = 'num_vp'))\n",
    "all_dist_avg['District Average'] = all_dist_avg['avg'].astype(float).map(\"{:.2%}\".format)"
   ]
  },
  {
   "cell_type": "code",
   "execution_count": 28,
   "id": "3ea282fe-0665-43d0-99ff-61ff13e7b73e",
   "metadata": {},
   "outputs": [
    {
     "data": {
      "text/html": [
       "<style type=\"text/css\">\n",
       "#T_d0120 th {\n",
       "  text-align: center;\n",
       "}\n",
       "#T_d0120_row0_col0, #T_d0120_row0_col1, #T_d0120_row1_col0, #T_d0120_row1_col1, #T_d0120_row2_col0, #T_d0120_row2_col1, #T_d0120_row3_col0, #T_d0120_row3_col1, #T_d0120_row4_col0, #T_d0120_row4_col1, #T_d0120_row5_col0, #T_d0120_row5_col1, #T_d0120_row6_col0, #T_d0120_row6_col1, #T_d0120_row7_col0, #T_d0120_row7_col1, #T_d0120_row8_col0, #T_d0120_row8_col1, #T_d0120_row9_col0, #T_d0120_row9_col1, #T_d0120_row10_col0, #T_d0120_row10_col1, #T_d0120_row11_col0, #T_d0120_row11_col1 {\n",
       "  text-align: center;\n",
       "}\n",
       "</style>\n",
       "<table id=\"T_d0120\">\n",
       "  <thead>\n",
       "    <tr>\n",
       "      <th id=\"T_d0120_level0_col0\" class=\"col_heading level0 col0\" >Caltrans District</th>\n",
       "      <th id=\"T_d0120_level0_col1\" class=\"col_heading level0 col1\" >District Average</th>\n",
       "    </tr>\n",
       "  </thead>\n",
       "  <tbody>\n",
       "    <tr>\n",
       "      <td id=\"T_d0120_row0_col0\" class=\"data row0 col0\" >01 - Eureka</td>\n",
       "      <td id=\"T_d0120_row0_col1\" class=\"data row0 col1\" >25.59%</td>\n",
       "    </tr>\n",
       "    <tr>\n",
       "      <td id=\"T_d0120_row1_col0\" class=\"data row1 col0\" >02 - Redding</td>\n",
       "      <td id=\"T_d0120_row1_col1\" class=\"data row1 col1\" >29.60%</td>\n",
       "    </tr>\n",
       "    <tr>\n",
       "      <td id=\"T_d0120_row2_col0\" class=\"data row2 col0\" >03 - Marysville</td>\n",
       "      <td id=\"T_d0120_row2_col1\" class=\"data row2 col1\" >4.26%</td>\n",
       "    </tr>\n",
       "    <tr>\n",
       "      <td id=\"T_d0120_row3_col0\" class=\"data row3 col0\" >04 - Oakland</td>\n",
       "      <td id=\"T_d0120_row3_col1\" class=\"data row3 col1\" >50.21%</td>\n",
       "    </tr>\n",
       "    <tr>\n",
       "      <td id=\"T_d0120_row4_col0\" class=\"data row4 col0\" >05 - San Luis Obispo</td>\n",
       "      <td id=\"T_d0120_row4_col1\" class=\"data row4 col1\" >26.97%</td>\n",
       "    </tr>\n",
       "    <tr>\n",
       "      <td id=\"T_d0120_row5_col0\" class=\"data row5 col0\" >06 - Fresno</td>\n",
       "      <td id=\"T_d0120_row5_col1\" class=\"data row5 col1\" >39.14%</td>\n",
       "    </tr>\n",
       "    <tr>\n",
       "      <td id=\"T_d0120_row6_col0\" class=\"data row6 col0\" >07 - Los Angeles</td>\n",
       "      <td id=\"T_d0120_row6_col1\" class=\"data row6 col1\" >68.81%</td>\n",
       "    </tr>\n",
       "    <tr>\n",
       "      <td id=\"T_d0120_row7_col0\" class=\"data row7 col0\" >08 - San Bernardino</td>\n",
       "      <td id=\"T_d0120_row7_col1\" class=\"data row7 col1\" >43.46%</td>\n",
       "    </tr>\n",
       "    <tr>\n",
       "      <td id=\"T_d0120_row8_col0\" class=\"data row8 col0\" >09 - Bishop</td>\n",
       "      <td id=\"T_d0120_row8_col1\" class=\"data row8 col1\" >62.90%</td>\n",
       "    </tr>\n",
       "    <tr>\n",
       "      <td id=\"T_d0120_row9_col0\" class=\"data row9 col0\" >10 - Stockton</td>\n",
       "      <td id=\"T_d0120_row9_col1\" class=\"data row9 col1\" >68.09%</td>\n",
       "    </tr>\n",
       "    <tr>\n",
       "      <td id=\"T_d0120_row10_col0\" class=\"data row10 col0\" >11 - San Diego</td>\n",
       "      <td id=\"T_d0120_row10_col1\" class=\"data row10 col1\" >95.68%</td>\n",
       "    </tr>\n",
       "    <tr>\n",
       "      <td id=\"T_d0120_row11_col0\" class=\"data row11 col0\" >12 - Irvine</td>\n",
       "      <td id=\"T_d0120_row11_col1\" class=\"data row11 col1\" >32.97%</td>\n",
       "    </tr>\n",
       "  </tbody>\n",
       "</table>\n"
      ],
      "text/plain": [
       "<IPython.core.display.HTML object>"
      ]
     },
     "metadata": {},
     "output_type": "display_data"
    }
   ],
   "source": [
    "display(HTML(dla_utils.pretify_tables((all_dist_avg>>select(_.caltrans_district, _['District Average'])>>filter(_.caltrans_district.notnull())>>arrange(_.caltrans_district)))))"
   ]
  },
  {
   "cell_type": "code",
   "execution_count": 29,
   "id": "7b532d3e-6086-4546-a2f5-cf03d034923e",
   "metadata": {},
   "outputs": [],
   "source": [
    "d_avg = (utils.get_agg_pct(d,\n",
    "                            groupings = ['agency_name', 'calitp_itp_id'],\n",
    "                            sum_sched = 'num_sched',\n",
    "                            sum_vp = 'num_vp'))"
   ]
  },
  {
   "cell_type": "code",
   "execution_count": 30,
   "id": "9f19a9c3-b7c9-4b4f-9185-c95f57a3cf84",
   "metadata": {},
   "outputs": [
    {
     "data": {
      "text/html": [
       "<strong>Agency Average Scheduled & RT Vehicle Position Data</strong>"
      ],
      "text/plain": [
       "<IPython.core.display.HTML object>"
      ]
     },
     "metadata": {},
     "output_type": "display_data"
    },
    {
     "data": {
      "text/html": [
       "\n",
       "<div id=\"altair-viz-afda0ee299f6453e86c60a9daa179678\"></div>\n",
       "<script type=\"text/javascript\">\n",
       "  var VEGA_DEBUG = (typeof VEGA_DEBUG == \"undefined\") ? {} : VEGA_DEBUG;\n",
       "  (function(spec, embedOpt){\n",
       "    let outputDiv = document.currentScript.previousElementSibling;\n",
       "    if (outputDiv.id !== \"altair-viz-afda0ee299f6453e86c60a9daa179678\") {\n",
       "      outputDiv = document.getElementById(\"altair-viz-afda0ee299f6453e86c60a9daa179678\");\n",
       "    }\n",
       "    const paths = {\n",
       "      \"vega\": \"https://cdn.jsdelivr.net/npm//vega@5?noext\",\n",
       "      \"vega-lib\": \"https://cdn.jsdelivr.net/npm//vega-lib?noext\",\n",
       "      \"vega-lite\": \"https://cdn.jsdelivr.net/npm//vega-lite@4.17.0?noext\",\n",
       "      \"vega-embed\": \"https://cdn.jsdelivr.net/npm//vega-embed@6?noext\",\n",
       "    };\n",
       "\n",
       "    function maybeLoadScript(lib, version) {\n",
       "      var key = `${lib.replace(\"-\", \"\")}_version`;\n",
       "      return (VEGA_DEBUG[key] == version) ?\n",
       "        Promise.resolve(paths[lib]) :\n",
       "        new Promise(function(resolve, reject) {\n",
       "          var s = document.createElement('script');\n",
       "          document.getElementsByTagName(\"head\")[0].appendChild(s);\n",
       "          s.async = true;\n",
       "          s.onload = () => {\n",
       "            VEGA_DEBUG[key] = version;\n",
       "            return resolve(paths[lib]);\n",
       "          };\n",
       "          s.onerror = () => reject(`Error loading script: ${paths[lib]}`);\n",
       "          s.src = paths[lib];\n",
       "        });\n",
       "    }\n",
       "\n",
       "    function showError(err) {\n",
       "      outputDiv.innerHTML = `<div class=\"error\" style=\"color:red;\">${err}</div>`;\n",
       "      throw err;\n",
       "    }\n",
       "\n",
       "    function displayChart(vegaEmbed) {\n",
       "      vegaEmbed(outputDiv, spec, embedOpt)\n",
       "        .catch(err => showError(`Javascript Error: ${err.message}<br>This usually means there's a typo in your chart specification. See the javascript console for the full traceback.`));\n",
       "    }\n",
       "\n",
       "    if(typeof define === \"function\" && define.amd) {\n",
       "      requirejs.config({paths});\n",
       "      require([\"vega-embed\"], displayChart, err => showError(`Error loading script: ${err.message}`));\n",
       "    } else {\n",
       "      maybeLoadScript(\"vega\", \"5\")\n",
       "        .then(() => maybeLoadScript(\"vega-lite\", \"4.17.0\"))\n",
       "        .then(() => maybeLoadScript(\"vega-embed\", \"6\"))\n",
       "        .catch(showError)\n",
       "        .then(() => displayChart(vegaEmbed));\n",
       "    }\n",
       "  })({\"config\": {\"view\": {\"continuousWidth\": 400, \"continuousHeight\": 300}}, \"data\": {\"name\": \"data-b6bc7ab80567e8929477dd6a9a0ea244\"}, \"mark\": {\"type\": \"circle\", \"size\": 60}, \"encoding\": {\"color\": {\"field\": \"agency_name\", \"type\": \"nominal\"}, \"tooltip\": [{\"field\": \"agency_name\", \"title\": \"Agency Name\", \"type\": \"nominal\"}, {\"field\": \"calitp_itp_id\", \"title\": \"Calitp Itp Id\", \"type\": \"quantitative\"}, {\"field\": \"calitp_itp_id\", \"title\": \"Calitp Itp Id\", \"type\": \"quantitative\"}], \"x\": {\"field\": \"num_sched\", \"sort\": \"x\", \"title\": \"Number of Trips with Scheduled Data\", \"type\": \"quantitative\"}, \"y\": {\"axis\": {\"format\": \"\"}, \"field\": \"num_vp\", \"title\": \"Number of Trips with Vehicle Positions Data\", \"type\": \"quantitative\"}}, \"selection\": {\"selector001\": {\"type\": \"interval\", \"bind\": \"scales\", \"encodings\": [\"x\", \"y\"]}}, \"width\": 700, \"$schema\": \"https://vega.github.io/schema/vega-lite/v4.17.0.json\", \"datasets\": {\"data-b6bc7ab80567e8929477dd6a9a0ea244\": [{\"agency_name\": \"Tri Delta Transit\", \"calitp_itp_id\": 336, \"num_sched\": 369.0, \"num_vp\": 358.0, \"avg\": 0.9701897018970189}, {\"agency_name\": null, \"calitp_itp_id\": 61, \"num_sched\": null, \"num_vp\": null, \"avg\": null}, {\"agency_name\": \"Stanford Marguerite Shuttle\", \"calitp_itp_id\": 324, \"num_sched\": 660.0, \"num_vp\": 0.0, \"avg\": 0.0}, {\"agency_name\": \"Sonoma County Transit\", \"calitp_itp_id\": 70, \"num_sched\": 251.0, \"num_vp\": 0.0, \"avg\": 0.0}, {\"agency_name\": \"Petaluma Transit\", \"calitp_itp_id\": 247, \"num_sched\": 233.0, \"num_vp\": 0.0, \"avg\": 0.0}, {\"agency_name\": \"San Francisco International Airport\", \"calitp_itp_id\": 281, \"num_sched\": 1049.0, \"num_vp\": 0.0, \"avg\": 0.0}, {\"agency_name\": \"SamTrans\", \"calitp_itp_id\": 290, \"num_sched\": 1455.0, \"num_vp\": 3.0, \"avg\": 0.002061855670103093}, {\"agency_name\": \"Union City Transit\", \"calitp_itp_id\": 350, \"num_sched\": 270.0, \"num_vp\": 124.0, \"avg\": 0.45925925925925926}, {\"agency_name\": \"Livermore Amador Valley Transit Authority\", \"calitp_itp_id\": 167, \"num_sched\": 338.0, \"num_vp\": 262.0, \"avg\": 0.7751479289940828}, {\"agency_name\": \"Mission Bay TMA\", \"calitp_itp_id\": 201, \"num_sched\": 111.0, \"num_vp\": 0.0, \"avg\": 0.0}, {\"agency_name\": \"County Connection\", \"calitp_itp_id\": 61, \"num_sched\": 922.0, \"num_vp\": 662.0, \"avg\": 0.7180043383947939}, {\"agency_name\": \"WestCat (Western Contra Costa)\", \"calitp_itp_id\": 368, \"num_sched\": 555.0, \"num_vp\": 0.0, \"avg\": 0.0}, {\"agency_name\": \"Rio Vista Delta Breeze\", \"calitp_itp_id\": 264, \"num_sched\": 8.0, \"num_vp\": 0.0, \"avg\": 0.0}, {\"agency_name\": \"VTA\", \"calitp_itp_id\": 294, \"num_sched\": 3657.0, \"num_vp\": 3560.0, \"avg\": 0.9734755263877495}, {\"agency_name\": \"Capitol Corridor Joint Powers Authority\", \"calitp_itp_id\": 56, \"num_sched\": 51.0, \"num_vp\": 0.0, \"avg\": 0.0}, {\"agency_name\": \"Sonoma County Transit\", \"calitp_itp_id\": 314, \"num_sched\": 251.0, \"num_vp\": 0.0, \"avg\": 0.0}, {\"agency_name\": \"Sonoma Marin Area Rail Transit\", \"calitp_itp_id\": 315, \"num_sched\": 26.0, \"num_vp\": 26.0, \"avg\": 1.0}, {\"agency_name\": \"Vacaville City Coach\", \"calitp_itp_id\": 356, \"num_sched\": 123.0, \"num_vp\": 0.0, \"avg\": 0.0}, {\"agency_name\": \"Golden Gate Transit\", \"calitp_itp_id\": 127, \"num_sched\": 196.0, \"num_vp\": 196.0, \"avg\": 1.0}, {\"agency_name\": \"Marin Transit\", \"calitp_itp_id\": 194, \"num_sched\": 704.0, \"num_vp\": 635.0, \"avg\": 0.9019886363636364}, {\"agency_name\": \"VINE Transit\", \"calitp_itp_id\": 218, \"num_sched\": 216.0, \"num_vp\": 182.0, \"avg\": 0.8425925925925926}, {\"agency_name\": \"Caltrain\", \"calitp_itp_id\": 246, \"num_sched\": 88.0, \"num_vp\": 68.0, \"avg\": 0.7727272727272727}, {\"agency_name\": \"Petaluma\", \"calitp_itp_id\": 247, \"num_sched\": 233.0, \"num_vp\": 158.0, \"avg\": 0.6781115879828327}, {\"agency_name\": null, \"calitp_itp_id\": 290, \"num_sched\": null, \"num_vp\": null, \"avg\": null}, {\"agency_name\": \"SolTrans\", \"calitp_itp_id\": 310, \"num_sched\": 402.0, \"num_vp\": 349.0, \"avg\": 0.8681592039800995}, {\"agency_name\": \"Santa Rosa CityBus\", \"calitp_itp_id\": 301, \"num_sched\": 573.0, \"num_vp\": 515.0, \"avg\": 0.8987783595113438}, {\"agency_name\": \"PresidiGo\", \"calitp_itp_id\": 257, \"num_sched\": 45.0, \"num_vp\": 28.0, \"avg\": 0.6222222222222222}, {\"agency_name\": \"Emery Go-Round\", \"calitp_itp_id\": 106, \"num_sched\": 133.0, \"num_vp\": 133.0, \"avg\": 1.0}, {\"agency_name\": \"Fairfield and Suisun Transit\", \"calitp_itp_id\": 110, \"num_sched\": 317.0, \"num_vp\": 317.0, \"avg\": 1.0}, {\"agency_name\": \"Commute.org Shuttles\", \"calitp_itp_id\": 76, \"num_sched\": 250.0, \"num_vp\": 0.0, \"avg\": 0.0}, {\"agency_name\": \"San Francisco Municipal Transportation Agency\", \"calitp_itp_id\": 282, \"num_sched\": 8707.0, \"num_vp\": 8268.0, \"avg\": 0.9495807970598369}, {\"agency_name\": null, \"calitp_itp_id\": 279, \"num_sched\": null, \"num_vp\": null, \"avg\": null}, {\"agency_name\": \"AC TRANSIT\", \"calitp_itp_id\": 4, \"num_sched\": 5378.0, \"num_vp\": 4932.0, \"avg\": 0.9170695425808851}, {\"agency_name\": \"SamTrans\", \"calitp_itp_id\": 76, \"num_sched\": 47.0, \"num_vp\": 0.0, \"avg\": 0.0}, {\"agency_name\": null, \"calitp_itp_id\": 127, \"num_sched\": null, \"num_vp\": null, \"avg\": null}, {\"agency_name\": \"Bay Area Rapid Transit\", \"calitp_itp_id\": 279, \"num_sched\": 1012.0, \"num_vp\": 0.0, \"avg\": 0.0}, {\"agency_name\": \"San Francisco Bay Ferry\", \"calitp_itp_id\": 280, \"num_sched\": 141.0, \"num_vp\": 0.0, \"avg\": 0.0}, {\"agency_name\": \"SamTrans\", \"calitp_itp_id\": 199, \"num_sched\": 24.0, \"num_vp\": 0.0, \"avg\": 0.0}]}}, {\"mode\": \"vega-lite\"});\n",
       "</script>"
      ],
      "text/plain": [
       "alt.Chart(...)"
      ]
     },
     "execution_count": 30,
     "metadata": {},
     "output_type": "execute_result"
    }
   ],
   "source": [
    "#trying using utils bar chart\n",
    "display(HTML('<strong>Agency Average Scheduled & RT Vehicle Position Data</strong>'))\n",
    "scatter = ((utils.bar_chart_over_time(d_avg,\n",
    "                          x_col = 'num_sched', \n",
    "                          y_col = 'num_vp', \n",
    "                          color_col = 'agency_name', \n",
    "                          yaxis_format = '',\n",
    "                          sort = 'x', \n",
    "                          title_txt = ''))\n",
    "           .mark_circle(size=60)\n",
    "           .interactive())\n",
    "(utils.add_tooltip(scatter, 'agency_name', 'calitp_itp_id', 'avg')).properties(width=700)"
   ]
  },
  {
   "cell_type": "code",
   "execution_count": null,
   "id": "ce90aee1-3396-4b99-be64-e70db2437db5",
   "metadata": {},
   "outputs": [],
   "source": []
  },
  {
   "cell_type": "code",
   "execution_count": 31,
   "id": "383c7c0d-88ca-415e-9bf4-b60b74f27bfd",
   "metadata": {},
   "outputs": [
    {
     "data": {
      "text/html": [
       "<strong>Districts Average of Scheduled & RT Vehicle Position Data</strong>"
      ],
      "text/plain": [
       "<IPython.core.display.HTML object>"
      ]
     },
     "metadata": {},
     "output_type": "display_data"
    },
    {
     "data": {
      "text/html": [
       "\n",
       "<div id=\"altair-viz-f296561df0d142b5a4bde2db82f5292b\"></div>\n",
       "<script type=\"text/javascript\">\n",
       "  var VEGA_DEBUG = (typeof VEGA_DEBUG == \"undefined\") ? {} : VEGA_DEBUG;\n",
       "  (function(spec, embedOpt){\n",
       "    let outputDiv = document.currentScript.previousElementSibling;\n",
       "    if (outputDiv.id !== \"altair-viz-f296561df0d142b5a4bde2db82f5292b\") {\n",
       "      outputDiv = document.getElementById(\"altair-viz-f296561df0d142b5a4bde2db82f5292b\");\n",
       "    }\n",
       "    const paths = {\n",
       "      \"vega\": \"https://cdn.jsdelivr.net/npm//vega@5?noext\",\n",
       "      \"vega-lib\": \"https://cdn.jsdelivr.net/npm//vega-lib?noext\",\n",
       "      \"vega-lite\": \"https://cdn.jsdelivr.net/npm//vega-lite@4.17.0?noext\",\n",
       "      \"vega-embed\": \"https://cdn.jsdelivr.net/npm//vega-embed@6?noext\",\n",
       "    };\n",
       "\n",
       "    function maybeLoadScript(lib, version) {\n",
       "      var key = `${lib.replace(\"-\", \"\")}_version`;\n",
       "      return (VEGA_DEBUG[key] == version) ?\n",
       "        Promise.resolve(paths[lib]) :\n",
       "        new Promise(function(resolve, reject) {\n",
       "          var s = document.createElement('script');\n",
       "          document.getElementsByTagName(\"head\")[0].appendChild(s);\n",
       "          s.async = true;\n",
       "          s.onload = () => {\n",
       "            VEGA_DEBUG[key] = version;\n",
       "            return resolve(paths[lib]);\n",
       "          };\n",
       "          s.onerror = () => reject(`Error loading script: ${paths[lib]}`);\n",
       "          s.src = paths[lib];\n",
       "        });\n",
       "    }\n",
       "\n",
       "    function showError(err) {\n",
       "      outputDiv.innerHTML = `<div class=\"error\" style=\"color:red;\">${err}</div>`;\n",
       "      throw err;\n",
       "    }\n",
       "\n",
       "    function displayChart(vegaEmbed) {\n",
       "      vegaEmbed(outputDiv, spec, embedOpt)\n",
       "        .catch(err => showError(`Javascript Error: ${err.message}<br>This usually means there's a typo in your chart specification. See the javascript console for the full traceback.`));\n",
       "    }\n",
       "\n",
       "    if(typeof define === \"function\" && define.amd) {\n",
       "      requirejs.config({paths});\n",
       "      require([\"vega-embed\"], displayChart, err => showError(`Error loading script: ${err.message}`));\n",
       "    } else {\n",
       "      maybeLoadScript(\"vega\", \"5\")\n",
       "        .then(() => maybeLoadScript(\"vega-lite\", \"4.17.0\"))\n",
       "        .then(() => maybeLoadScript(\"vega-embed\", \"6\"))\n",
       "        .catch(showError)\n",
       "        .then(() => displayChart(vegaEmbed));\n",
       "    }\n",
       "  })({\"config\": {\"view\": {\"continuousWidth\": 400, \"continuousHeight\": 300}}, \"data\": {\"name\": \"data-cc0d63e5489f62851af9f5a4d675d0ec\"}, \"mark\": {\"type\": \"bar\", \"size\": 50}, \"encoding\": {\"color\": {\"condition\": {\"value\": \"orange\", \"test\": {\"field\": \"caltrans_district\", \"oneOf\": [\"04 - Oakland\"]}}, \"value\": \"steelblue\"}, \"x\": {\"field\": \"caltrans_district\", \"title\": \"Caltrans District\", \"type\": \"nominal\"}, \"y\": {\"axis\": {\"format\": \"%\"}, \"field\": \"avg\", \"title\": \"Average\", \"type\": \"quantitative\"}}, \"width\": 700, \"$schema\": \"https://vega.github.io/schema/vega-lite/v4.17.0.json\", \"datasets\": {\"data-cc0d63e5489f62851af9f5a4d675d0ec\": [{\"caltrans_district\": null, \"num_sched\": null, \"num_vp\": null, \"avg\": null, \"District Average\": \"nan%\"}, {\"caltrans_district\": \"05 - San Luis Obispo\", \"num_sched\": 2573.0, \"num_vp\": 694.0, \"avg\": 0.2697240575204042, \"District Average\": \"26.97%\"}, {\"caltrans_district\": \"07 - Los Angeles\", \"num_sched\": 29481.0, \"num_vp\": 20287.0, \"avg\": 0.6881381228587904, \"District Average\": \"68.81%\"}, {\"caltrans_district\": \"04 - Oakland\", \"num_sched\": 54044.0, \"num_vp\": 27134.0, \"avg\": 0.5020723854636963, \"District Average\": \"50.21%\"}, {\"caltrans_district\": \"10 - Stockton\", \"num_sched\": 2908.0, \"num_vp\": 1980.0, \"avg\": 0.6808803301237965, \"District Average\": \"68.09%\"}, {\"caltrans_district\": \"03 - Marysville\", \"num_sched\": 6075.0, \"num_vp\": 259.0, \"avg\": 0.042633744855967076, \"District Average\": \"4.26%\"}, {\"caltrans_district\": \"11 - San Diego\", \"num_sched\": 9084.0, \"num_vp\": 8692.0, \"avg\": 0.9568472038749449, \"District Average\": \"95.68%\"}, {\"caltrans_district\": \"02 - Redding\", \"num_sched\": 750.0, \"num_vp\": 222.0, \"avg\": 0.296, \"District Average\": \"29.60%\"}, {\"caltrans_district\": \"08 - San Bernardino\", \"num_sched\": 3813.0, \"num_vp\": 1657.0, \"avg\": 0.43456595856281144, \"District Average\": \"43.46%\"}, {\"caltrans_district\": \"06 - Fresno\", \"num_sched\": 3651.0, \"num_vp\": 1429.0, \"avg\": 0.39139961654341276, \"District Average\": \"39.14%\"}, {\"caltrans_district\": \"09 - Bishop\", \"num_sched\": 186.0, \"num_vp\": 117.0, \"avg\": 0.6290322580645161, \"District Average\": \"62.90%\"}, {\"caltrans_district\": \"01 - Eureka\", \"num_sched\": 852.0, \"num_vp\": 218.0, \"avg\": 0.25586854460093894, \"District Average\": \"25.59%\"}, {\"caltrans_district\": \"12 - Irvine\", \"num_sched\": 9619.0, \"num_vp\": 3171.0, \"avg\": 0.3296600478220189, \"District Average\": \"32.97%\"}]}}, {\"mode\": \"vega-lite\"});\n",
       "</script>"
      ],
      "text/plain": [
       "alt.Chart(...)"
      ]
     },
     "execution_count": 31,
     "metadata": {},
     "output_type": "execute_result"
    }
   ],
   "source": [
    "display(HTML('<strong>Districts Average of Scheduled & RT Vehicle Position Data</strong>'))\n",
    "bar = (alt.Chart(all_dist_avg)\n",
    "        .mark_bar(size=50)\n",
    "        .encode(\n",
    "            x=alt.X('caltrans_district', title=utils.labeling('caltrans_district')),\n",
    "            y=alt.Y('avg', title=utils.labeling('Average'), axis=alt.Axis(format='%')),\n",
    "            color=alt.condition(\n",
    "        alt.FieldOneOfPredicate('caltrans_district', [f'{district}']),  # If the district is parameter then return true,\n",
    "        alt.value('orange'),     # which sets the bar orange.\n",
    "        alt.value('steelblue')   # And if it's not true it sets the bar steelblue.\n",
    "            )\n",
    "        ))\n",
    "## code help: https://stackoverflow.com/questions/71082262/highlighting-specific-columns-in-bar-chart-in-python-using-altair\n",
    "bar.properties(width=700)"
   ]
  },
  {
   "cell_type": "code",
   "execution_count": 34,
   "id": "57f2b922-a49b-46e5-8671-3b312c76a9a5",
   "metadata": {},
   "outputs": [
    {
     "data": {
      "text/html": [
       "<div>\n",
       "<style scoped>\n",
       "    .dataframe tbody tr th:only-of-type {\n",
       "        vertical-align: middle;\n",
       "    }\n",
       "\n",
       "    .dataframe tbody tr th {\n",
       "        vertical-align: top;\n",
       "    }\n",
       "\n",
       "    .dataframe thead th {\n",
       "        text-align: right;\n",
       "    }\n",
       "</style>\n",
       "<table border=\"1\" class=\"dataframe\">\n",
       "  <thead>\n",
       "    <tr style=\"text-align: right;\">\n",
       "      <th></th>\n",
       "      <th>caltrans_district</th>\n",
       "      <th>num_sched</th>\n",
       "      <th>num_vp</th>\n",
       "      <th>avg</th>\n",
       "      <th>District Average</th>\n",
       "    </tr>\n",
       "  </thead>\n",
       "  <tbody>\n",
       "    <tr>\n",
       "      <th>5</th>\n",
       "      <td>03 - Marysville</td>\n",
       "      <td>6,075.00</td>\n",
       "      <td>259.00</td>\n",
       "      <td>0.04</td>\n",
       "      <td>4.26%</td>\n",
       "    </tr>\n",
       "    <tr>\n",
       "      <th>3</th>\n",
       "      <td>04 - Oakland</td>\n",
       "      <td>54,044.00</td>\n",
       "      <td>27,134.00</td>\n",
       "      <td>0.50</td>\n",
       "      <td>50.21%</td>\n",
       "    </tr>\n",
       "    <tr>\n",
       "      <th>4</th>\n",
       "      <td>10 - Stockton</td>\n",
       "      <td>2,908.00</td>\n",
       "      <td>1,980.00</td>\n",
       "      <td>0.68</td>\n",
       "      <td>68.09%</td>\n",
       "    </tr>\n",
       "  </tbody>\n",
       "</table>\n",
       "</div>"
      ],
      "text/plain": [
       "  caltrans_district  num_sched    num_vp  avg District Average\n",
       "5   03 - Marysville   6,075.00    259.00 0.04            4.26%\n",
       "3      04 - Oakland  54,044.00 27,134.00 0.50           50.21%\n",
       "4     10 - Stockton   2,908.00  1,980.00 0.68           68.09%"
      ]
     },
     "execution_count": 34,
     "metadata": {},
     "output_type": "execute_result"
    }
   ],
   "source": [
    "all_dist_avg.sample(3)"
   ]
  },
  {
   "cell_type": "code",
   "execution_count": 35,
   "id": "8660d091-013b-4bbd-abe8-d97b02af86fd",
   "metadata": {},
   "outputs": [],
   "source": [
    "dist_avg_long = all_dist_avg.copy()\n",
    "dist_avg_long = dist_avg_long.rename(columns={ 'num_sched':'Total Number Scheduled Trips',\n",
    "                                            'num_vp':'Total Number Vehicle Position Trips'})\n",
    "dist_avg_long =  (dist_avg_long>>select(_.caltrans_district,\n",
    "                         _['Total Number Scheduled Trips'],\n",
    "                         _['Total Number Vehicle Position Trips']\n",
    "                        ) \n",
    "             >> gather('measure',\n",
    "                       'value',\n",
    "                       _['Total Number Scheduled Trips'],\n",
    "                       _['Total Number Vehicle Position Trips']\n",
    "                      )\n",
    "            )"
   ]
  },
  {
   "cell_type": "code",
   "execution_count": 36,
   "id": "ca7e8333-340f-422d-8758-a2010ac0ce8f",
   "metadata": {},
   "outputs": [
    {
     "data": {
      "text/html": [
       "<strong>Number of Scheduled and Vehicle Postion Trips in 04 - Oakland</strong>"
      ],
      "text/plain": [
       "<IPython.core.display.HTML object>"
      ]
     },
     "metadata": {},
     "output_type": "display_data"
    },
    {
     "data": {
      "text/html": [
       "\n",
       "<div id=\"altair-viz-fe4d9136a15744ff93f58da17694b812\"></div>\n",
       "<script type=\"text/javascript\">\n",
       "  var VEGA_DEBUG = (typeof VEGA_DEBUG == \"undefined\") ? {} : VEGA_DEBUG;\n",
       "  (function(spec, embedOpt){\n",
       "    let outputDiv = document.currentScript.previousElementSibling;\n",
       "    if (outputDiv.id !== \"altair-viz-fe4d9136a15744ff93f58da17694b812\") {\n",
       "      outputDiv = document.getElementById(\"altair-viz-fe4d9136a15744ff93f58da17694b812\");\n",
       "    }\n",
       "    const paths = {\n",
       "      \"vega\": \"https://cdn.jsdelivr.net/npm//vega@5?noext\",\n",
       "      \"vega-lib\": \"https://cdn.jsdelivr.net/npm//vega-lib?noext\",\n",
       "      \"vega-lite\": \"https://cdn.jsdelivr.net/npm//vega-lite@4.17.0?noext\",\n",
       "      \"vega-embed\": \"https://cdn.jsdelivr.net/npm//vega-embed@6?noext\",\n",
       "    };\n",
       "\n",
       "    function maybeLoadScript(lib, version) {\n",
       "      var key = `${lib.replace(\"-\", \"\")}_version`;\n",
       "      return (VEGA_DEBUG[key] == version) ?\n",
       "        Promise.resolve(paths[lib]) :\n",
       "        new Promise(function(resolve, reject) {\n",
       "          var s = document.createElement('script');\n",
       "          document.getElementsByTagName(\"head\")[0].appendChild(s);\n",
       "          s.async = true;\n",
       "          s.onload = () => {\n",
       "            VEGA_DEBUG[key] = version;\n",
       "            return resolve(paths[lib]);\n",
       "          };\n",
       "          s.onerror = () => reject(`Error loading script: ${paths[lib]}`);\n",
       "          s.src = paths[lib];\n",
       "        });\n",
       "    }\n",
       "\n",
       "    function showError(err) {\n",
       "      outputDiv.innerHTML = `<div class=\"error\" style=\"color:red;\">${err}</div>`;\n",
       "      throw err;\n",
       "    }\n",
       "\n",
       "    function displayChart(vegaEmbed) {\n",
       "      vegaEmbed(outputDiv, spec, embedOpt)\n",
       "        .catch(err => showError(`Javascript Error: ${err.message}<br>This usually means there's a typo in your chart specification. See the javascript console for the full traceback.`));\n",
       "    }\n",
       "\n",
       "    if(typeof define === \"function\" && define.amd) {\n",
       "      requirejs.config({paths});\n",
       "      require([\"vega-embed\"], displayChart, err => showError(`Error loading script: ${err.message}`));\n",
       "    } else {\n",
       "      maybeLoadScript(\"vega\", \"5\")\n",
       "        .then(() => maybeLoadScript(\"vega-lite\", \"4.17.0\"))\n",
       "        .then(() => maybeLoadScript(\"vega-embed\", \"6\"))\n",
       "        .catch(showError)\n",
       "        .then(() => displayChart(vegaEmbed));\n",
       "    }\n",
       "  })({\"config\": {\"view\": {\"continuousWidth\": 400, \"continuousHeight\": 300}}, \"data\": {\"name\": \"data-f40561355d0c552ffd5846fdab4d5a18\"}, \"mark\": {\"type\": \"bar\", \"size\": 50}, \"encoding\": {\"color\": {\"field\": \"measure\", \"type\": \"nominal\"}, \"tooltip\": [{\"field\": \"caltrans_district\", \"title\": \"Caltrans District\", \"type\": \"nominal\"}, {\"field\": \"value\", \"title\": \"Value\", \"type\": \"quantitative\"}], \"x\": {\"field\": \"caltrans_district\", \"sort\": \"x\", \"title\": \"Caltrans District\", \"type\": \"nominal\"}, \"y\": {\"field\": \"value\", \"stack\": null, \"type\": \"quantitative\"}}, \"width\": 800, \"$schema\": \"https://vega.github.io/schema/vega-lite/v4.17.0.json\", \"datasets\": {\"data-f40561355d0c552ffd5846fdab4d5a18\": [{\"caltrans_district\": null, \"measure\": \"Total Number Scheduled Trips\", \"value\": null}, {\"caltrans_district\": \"05 - San Luis Obispo\", \"measure\": \"Total Number Scheduled Trips\", \"value\": 2573.0}, {\"caltrans_district\": \"07 - Los Angeles\", \"measure\": \"Total Number Scheduled Trips\", \"value\": 29481.0}, {\"caltrans_district\": \"04 - Oakland\", \"measure\": \"Total Number Scheduled Trips\", \"value\": 54044.0}, {\"caltrans_district\": \"10 - Stockton\", \"measure\": \"Total Number Scheduled Trips\", \"value\": 2908.0}, {\"caltrans_district\": \"03 - Marysville\", \"measure\": \"Total Number Scheduled Trips\", \"value\": 6075.0}, {\"caltrans_district\": \"11 - San Diego\", \"measure\": \"Total Number Scheduled Trips\", \"value\": 9084.0}, {\"caltrans_district\": \"02 - Redding\", \"measure\": \"Total Number Scheduled Trips\", \"value\": 750.0}, {\"caltrans_district\": \"08 - San Bernardino\", \"measure\": \"Total Number Scheduled Trips\", \"value\": 3813.0}, {\"caltrans_district\": \"06 - Fresno\", \"measure\": \"Total Number Scheduled Trips\", \"value\": 3651.0}, {\"caltrans_district\": \"09 - Bishop\", \"measure\": \"Total Number Scheduled Trips\", \"value\": 186.0}, {\"caltrans_district\": \"01 - Eureka\", \"measure\": \"Total Number Scheduled Trips\", \"value\": 852.0}, {\"caltrans_district\": \"12 - Irvine\", \"measure\": \"Total Number Scheduled Trips\", \"value\": 9619.0}, {\"caltrans_district\": null, \"measure\": \"Total Number Vehicle Position Trips\", \"value\": null}, {\"caltrans_district\": \"05 - San Luis Obispo\", \"measure\": \"Total Number Vehicle Position Trips\", \"value\": 694.0}, {\"caltrans_district\": \"07 - Los Angeles\", \"measure\": \"Total Number Vehicle Position Trips\", \"value\": 20287.0}, {\"caltrans_district\": \"04 - Oakland\", \"measure\": \"Total Number Vehicle Position Trips\", \"value\": 27134.0}, {\"caltrans_district\": \"10 - Stockton\", \"measure\": \"Total Number Vehicle Position Trips\", \"value\": 1980.0}, {\"caltrans_district\": \"03 - Marysville\", \"measure\": \"Total Number Vehicle Position Trips\", \"value\": 259.0}, {\"caltrans_district\": \"11 - San Diego\", \"measure\": \"Total Number Vehicle Position Trips\", \"value\": 8692.0}, {\"caltrans_district\": \"02 - Redding\", \"measure\": \"Total Number Vehicle Position Trips\", \"value\": 222.0}, {\"caltrans_district\": \"08 - San Bernardino\", \"measure\": \"Total Number Vehicle Position Trips\", \"value\": 1657.0}, {\"caltrans_district\": \"06 - Fresno\", \"measure\": \"Total Number Vehicle Position Trips\", \"value\": 1429.0}, {\"caltrans_district\": \"09 - Bishop\", \"measure\": \"Total Number Vehicle Position Trips\", \"value\": 117.0}, {\"caltrans_district\": \"01 - Eureka\", \"measure\": \"Total Number Vehicle Position Trips\", \"value\": 218.0}, {\"caltrans_district\": \"12 - Irvine\", \"measure\": \"Total Number Vehicle Position Trips\", \"value\": 3171.0}]}}, {\"mode\": \"vega-lite\"});\n",
       "</script>"
      ],
      "text/plain": [
       "alt.Chart(...)"
      ]
     },
     "execution_count": 36,
     "metadata": {},
     "output_type": "execute_result"
    }
   ],
   "source": [
    "display(HTML(f\"<strong>Number of Scheduled and Vehicle Postion Trips in {district}</strong>\"))\n",
    "\n",
    "(utils.bar_chart_over_time((dist_avg_long),\n",
    "                           'caltrans_district','value','measure',',f', 'x', '')).mark_bar(size=50).encode(y=alt.Y('value', stack = None,)).properties(width=800)"
   ]
  },
  {
   "cell_type": "code",
   "execution_count": null,
   "id": "989b8be7-135a-4eee-a413-d0d49b4a2a70",
   "metadata": {},
   "outputs": [],
   "source": []
  },
  {
   "cell_type": "code",
   "execution_count": null,
   "id": "e71f4a37-ec38-4c32-a279-9408d97bcb53",
   "metadata": {},
   "outputs": [],
   "source": []
  },
  {
   "cell_type": "code",
   "execution_count": 37,
   "id": "4d7a3ce8-543c-49a3-a4fc-80728530e9c8",
   "metadata": {},
   "outputs": [],
   "source": [
    "d_overall_avg = (utils.get_agg_pct(d,\n",
    "                            groupings = ['service_date'],\n",
    "                            sum_sched = 'num_sched',\n",
    "                            sum_vp = 'num_vp'))"
   ]
  },
  {
   "cell_type": "code",
   "execution_count": 38,
   "id": "303df99f-ff74-4a3a-a6b3-816511a5fe47",
   "metadata": {},
   "outputs": [],
   "source": [
    "dist_overall_avg_long = d_overall_avg.copy()\n",
    "dist_overall_avg_long = dist_overall_avg_long.rename(columns={ 'num_sched':'Total Number Scheduled Trips',\n",
    "                                            'num_vp':'Total Number Vehicle Position Trips'})\n",
    "dist_overall_avg_long = (dist_overall_avg_long>>select(_.service_date,\n",
    "                         _['Total Number Scheduled Trips'],\n",
    "                         _['Total Number Vehicle Position Trips']\n",
    "                        ) \n",
    "             >> gather('measure',\n",
    "                       'value',\n",
    "                       _['Total Number Scheduled Trips'],\n",
    "                       _['Total Number Vehicle Position Trips']\n",
    "                      ))"
   ]
  },
  {
   "cell_type": "code",
   "execution_count": 39,
   "id": "6e3b220e-9e8a-4e0a-b116-7b64245f5ce9",
   "metadata": {},
   "outputs": [
    {
     "data": {
      "text/html": [
       "<strong>Number of Scheduled and Vehicle Postion Trips in 04 - Oakland by Day</strong>"
      ],
      "text/plain": [
       "<IPython.core.display.HTML object>"
      ]
     },
     "metadata": {},
     "output_type": "display_data"
    },
    {
     "data": {
      "text/html": [
       "\n",
       "<div id=\"altair-viz-0dfc4452b2044011a439dfa566b85f71\"></div>\n",
       "<script type=\"text/javascript\">\n",
       "  var VEGA_DEBUG = (typeof VEGA_DEBUG == \"undefined\") ? {} : VEGA_DEBUG;\n",
       "  (function(spec, embedOpt){\n",
       "    let outputDiv = document.currentScript.previousElementSibling;\n",
       "    if (outputDiv.id !== \"altair-viz-0dfc4452b2044011a439dfa566b85f71\") {\n",
       "      outputDiv = document.getElementById(\"altair-viz-0dfc4452b2044011a439dfa566b85f71\");\n",
       "    }\n",
       "    const paths = {\n",
       "      \"vega\": \"https://cdn.jsdelivr.net/npm//vega@5?noext\",\n",
       "      \"vega-lib\": \"https://cdn.jsdelivr.net/npm//vega-lib?noext\",\n",
       "      \"vega-lite\": \"https://cdn.jsdelivr.net/npm//vega-lite@4.17.0?noext\",\n",
       "      \"vega-embed\": \"https://cdn.jsdelivr.net/npm//vega-embed@6?noext\",\n",
       "    };\n",
       "\n",
       "    function maybeLoadScript(lib, version) {\n",
       "      var key = `${lib.replace(\"-\", \"\")}_version`;\n",
       "      return (VEGA_DEBUG[key] == version) ?\n",
       "        Promise.resolve(paths[lib]) :\n",
       "        new Promise(function(resolve, reject) {\n",
       "          var s = document.createElement('script');\n",
       "          document.getElementsByTagName(\"head\")[0].appendChild(s);\n",
       "          s.async = true;\n",
       "          s.onload = () => {\n",
       "            VEGA_DEBUG[key] = version;\n",
       "            return resolve(paths[lib]);\n",
       "          };\n",
       "          s.onerror = () => reject(`Error loading script: ${paths[lib]}`);\n",
       "          s.src = paths[lib];\n",
       "        });\n",
       "    }\n",
       "\n",
       "    function showError(err) {\n",
       "      outputDiv.innerHTML = `<div class=\"error\" style=\"color:red;\">${err}</div>`;\n",
       "      throw err;\n",
       "    }\n",
       "\n",
       "    function displayChart(vegaEmbed) {\n",
       "      vegaEmbed(outputDiv, spec, embedOpt)\n",
       "        .catch(err => showError(`Javascript Error: ${err.message}<br>This usually means there's a typo in your chart specification. See the javascript console for the full traceback.`));\n",
       "    }\n",
       "\n",
       "    if(typeof define === \"function\" && define.amd) {\n",
       "      requirejs.config({paths});\n",
       "      require([\"vega-embed\"], displayChart, err => showError(`Error loading script: ${err.message}`));\n",
       "    } else {\n",
       "      maybeLoadScript(\"vega\", \"5\")\n",
       "        .then(() => maybeLoadScript(\"vega-lite\", \"4.17.0\"))\n",
       "        .then(() => maybeLoadScript(\"vega-embed\", \"6\"))\n",
       "        .catch(showError)\n",
       "        .then(() => displayChart(vegaEmbed));\n",
       "    }\n",
       "  })({\"config\": {\"view\": {\"continuousWidth\": 400, \"continuousHeight\": 300}}, \"data\": {\"name\": \"data-70c6b63f64be036c3b45260ffe75d8f3\"}, \"mark\": {\"type\": \"bar\", \"size\": 50}, \"encoding\": {\"color\": {\"field\": \"measure\", \"type\": \"nominal\"}, \"tooltip\": [{\"field\": \"service_date\", \"title\": \"Service Date\", \"type\": \"temporal\"}, {\"field\": \"value\", \"title\": \"Value\", \"type\": \"quantitative\"}], \"x\": {\"field\": \"service_date\", \"sort\": \"x\", \"title\": \"Service Date\", \"type\": \"temporal\"}, \"y\": {\"field\": \"value\", \"stack\": null, \"type\": \"quantitative\"}}, \"width\": 800, \"$schema\": \"https://vega.github.io/schema/vega-lite/v4.17.0.json\", \"datasets\": {\"data-70c6b63f64be036c3b45260ffe75d8f3\": [{\"service_date\": \"2022-05-04T00:00:00\", \"measure\": \"Total Number Scheduled Trips\", \"value\": 32396}, {\"service_date\": \"2022-05-04T00:00:00\", \"measure\": \"Total Number Vehicle Position Trips\", \"value\": 20776}]}}, {\"mode\": \"vega-lite\"});\n",
       "</script>"
      ],
      "text/plain": [
       "alt.Chart(...)"
      ]
     },
     "execution_count": 39,
     "metadata": {},
     "output_type": "execute_result"
    }
   ],
   "source": [
    "display(HTML(f\"<strong>Number of Scheduled and Vehicle Postion Trips in {district} by Day</strong>\"))\n",
    "\n",
    "(utils.bar_chart_over_time((dist_overall_avg_long),\n",
    "                           'service_date','value','measure',',f', 'x', '')).mark_bar(size=50).encode(y=alt.Y('value', stack = None,)).properties(width=800)"
   ]
  },
  {
   "cell_type": "code",
   "execution_count": null,
   "id": "a3506239-196c-416f-898d-5d8eb479d335",
   "metadata": {},
   "outputs": [],
   "source": []
  },
  {
   "cell_type": "code",
   "execution_count": 40,
   "id": "ff8e9ccf-42f9-4cac-81ee-aa5f1c57f719",
   "metadata": {},
   "outputs": [],
   "source": [
    "d_agency_date_avg = (utils.get_agg_pct(d,\n",
    "                            groupings = ['calitp_itp_id', 'agency_name', 'service_date'],\n",
    "                            sum_sched = 'num_sched',\n",
    "                            sum_vp = 'num_vp'))"
   ]
  },
  {
   "cell_type": "code",
   "execution_count": 41,
   "id": "41fec2c8-fbdb-4bc8-bf26-5b43277daa21",
   "metadata": {},
   "outputs": [
    {
     "data": {
      "text/html": [
       "<div>\n",
       "<style scoped>\n",
       "    .dataframe tbody tr th:only-of-type {\n",
       "        vertical-align: middle;\n",
       "    }\n",
       "\n",
       "    .dataframe tbody tr th {\n",
       "        vertical-align: top;\n",
       "    }\n",
       "\n",
       "    .dataframe thead th {\n",
       "        text-align: right;\n",
       "    }\n",
       "</style>\n",
       "<table border=\"1\" class=\"dataframe\">\n",
       "  <thead>\n",
       "    <tr style=\"text-align: right;\">\n",
       "      <th></th>\n",
       "      <th>calitp_itp_id</th>\n",
       "      <th>agency_name</th>\n",
       "      <th>service_date</th>\n",
       "      <th>num_sched</th>\n",
       "      <th>num_vp</th>\n",
       "      <th>avg</th>\n",
       "    </tr>\n",
       "  </thead>\n",
       "  <tbody>\n",
       "    <tr>\n",
       "      <th>4</th>\n",
       "      <td>247</td>\n",
       "      <td>Petaluma Transit</td>\n",
       "      <td>2022-05-04</td>\n",
       "      <td>233.00</td>\n",
       "      <td>0.00</td>\n",
       "      <td>0.00</td>\n",
       "    </tr>\n",
       "  </tbody>\n",
       "</table>\n",
       "</div>"
      ],
      "text/plain": [
       "   calitp_itp_id       agency_name service_date  num_sched  num_vp  avg\n",
       "4            247  Petaluma Transit   2022-05-04     233.00    0.00 0.00"
      ]
     },
     "execution_count": 41,
     "metadata": {},
     "output_type": "execute_result"
    }
   ],
   "source": [
    "d_agency_date_avg.sample()"
   ]
  },
  {
   "cell_type": "code",
   "execution_count": 42,
   "id": "2b481e89-1fe8-4860-b69f-36ed5a69a5e8",
   "metadata": {},
   "outputs": [
    {
     "data": {
      "text/html": [
       "<strong>04 - Oakland Average Percent of Scheduled Trips with Vehicle Postions Data by Route Over Time</strong>"
      ],
      "text/plain": [
       "<IPython.core.display.HTML object>"
      ]
     },
     "metadata": {},
     "output_type": "display_data"
    },
    {
     "data": {
      "text/markdown": [
       "To utilize the multi-select, use `shift` when clicking routes in the legend"
      ],
      "text/plain": [
       "<IPython.core.display.Markdown object>"
      ]
     },
     "metadata": {},
     "output_type": "display_data"
    },
    {
     "data": {
      "text/html": [
       "\n",
       "<div id=\"altair-viz-870a3f2ed8b741888f61b96c9e7f66df\"></div>\n",
       "<script type=\"text/javascript\">\n",
       "  var VEGA_DEBUG = (typeof VEGA_DEBUG == \"undefined\") ? {} : VEGA_DEBUG;\n",
       "  (function(spec, embedOpt){\n",
       "    let outputDiv = document.currentScript.previousElementSibling;\n",
       "    if (outputDiv.id !== \"altair-viz-870a3f2ed8b741888f61b96c9e7f66df\") {\n",
       "      outputDiv = document.getElementById(\"altair-viz-870a3f2ed8b741888f61b96c9e7f66df\");\n",
       "    }\n",
       "    const paths = {\n",
       "      \"vega\": \"https://cdn.jsdelivr.net/npm//vega@5?noext\",\n",
       "      \"vega-lib\": \"https://cdn.jsdelivr.net/npm//vega-lib?noext\",\n",
       "      \"vega-lite\": \"https://cdn.jsdelivr.net/npm//vega-lite@4.17.0?noext\",\n",
       "      \"vega-embed\": \"https://cdn.jsdelivr.net/npm//vega-embed@6?noext\",\n",
       "    };\n",
       "\n",
       "    function maybeLoadScript(lib, version) {\n",
       "      var key = `${lib.replace(\"-\", \"\")}_version`;\n",
       "      return (VEGA_DEBUG[key] == version) ?\n",
       "        Promise.resolve(paths[lib]) :\n",
       "        new Promise(function(resolve, reject) {\n",
       "          var s = document.createElement('script');\n",
       "          document.getElementsByTagName(\"head\")[0].appendChild(s);\n",
       "          s.async = true;\n",
       "          s.onload = () => {\n",
       "            VEGA_DEBUG[key] = version;\n",
       "            return resolve(paths[lib]);\n",
       "          };\n",
       "          s.onerror = () => reject(`Error loading script: ${paths[lib]}`);\n",
       "          s.src = paths[lib];\n",
       "        });\n",
       "    }\n",
       "\n",
       "    function showError(err) {\n",
       "      outputDiv.innerHTML = `<div class=\"error\" style=\"color:red;\">${err}</div>`;\n",
       "      throw err;\n",
       "    }\n",
       "\n",
       "    function displayChart(vegaEmbed) {\n",
       "      vegaEmbed(outputDiv, spec, embedOpt)\n",
       "        .catch(err => showError(`Javascript Error: ${err.message}<br>This usually means there's a typo in your chart specification. See the javascript console for the full traceback.`));\n",
       "    }\n",
       "\n",
       "    if(typeof define === \"function\" && define.amd) {\n",
       "      requirejs.config({paths});\n",
       "      require([\"vega-embed\"], displayChart, err => showError(`Error loading script: ${err.message}`));\n",
       "    } else {\n",
       "      maybeLoadScript(\"vega\", \"5\")\n",
       "        .then(() => maybeLoadScript(\"vega-lite\", \"4.17.0\"))\n",
       "        .then(() => maybeLoadScript(\"vega-embed\", \"6\"))\n",
       "        .catch(showError)\n",
       "        .then(() => displayChart(vegaEmbed));\n",
       "    }\n",
       "  })({\"config\": {\"view\": {\"continuousWidth\": 400, \"continuousHeight\": 300}}, \"data\": {\"name\": \"data-6cb4bc3a1d97b16e6ee4a841a3098b8b\"}, \"mark\": {\"type\": \"line\", \"point\": {\"filled\": false, \"fill\": \"white\"}}, \"encoding\": {\"color\": {\"field\": \"agency_name\", \"legend\": {\"columns\": 3, \"symbolLimit\": 0}, \"title\": [\"Agency Name\"], \"type\": \"nominal\"}, \"opacity\": {\"condition\": {\"value\": 1, \"selection\": \"selector002\"}, \"value\": 0}, \"strokeDash\": {\"field\": \"agency_name\", \"type\": \"nominal\"}, \"tooltip\": [{\"field\": \"agency_name\", \"title\": \"Agency Name\", \"type\": \"nominal\"}, {\"field\": \"service_date\", \"title\": \"Service Date\", \"type\": \"temporal\"}, {\"field\": \"service_date\", \"title\": \"Service Date\", \"type\": \"temporal\"}], \"x\": {\"field\": \"service_date\", \"title\": \"Service Date\", \"type\": \"temporal\"}, \"y\": {\"axis\": {\"format\": \"%\"}, \"field\": \"avg\", \"title\": \"Percent with Vehicle Positions\", \"type\": \"quantitative\"}}, \"selection\": {\"selector002\": {\"type\": \"multi\", \"fields\": [\"agency_name\"], \"bind\": \"legend\"}}, \"width\": 700, \"$schema\": \"https://vega.github.io/schema/vega-lite/v4.17.0.json\", \"datasets\": {\"data-6cb4bc3a1d97b16e6ee4a841a3098b8b\": [{\"calitp_itp_id\": 336, \"agency_name\": \"Tri Delta Transit\", \"service_date\": \"2022-05-04T00:00:00\", \"num_sched\": 369.0, \"num_vp\": 358.0, \"avg\": 0.9701897018970189}, {\"calitp_itp_id\": 61, \"agency_name\": null, \"service_date\": \"2022-05-04T00:00:00\", \"num_sched\": null, \"num_vp\": null, \"avg\": null}, {\"calitp_itp_id\": 324, \"agency_name\": \"Stanford Marguerite Shuttle\", \"service_date\": \"2022-05-04T00:00:00\", \"num_sched\": 660.0, \"num_vp\": 0.0, \"avg\": 0.0}, {\"calitp_itp_id\": 70, \"agency_name\": \"Sonoma County Transit\", \"service_date\": \"2022-05-04T00:00:00\", \"num_sched\": 251.0, \"num_vp\": 0.0, \"avg\": 0.0}, {\"calitp_itp_id\": 247, \"agency_name\": \"Petaluma Transit\", \"service_date\": \"2022-05-04T00:00:00\", \"num_sched\": 233.0, \"num_vp\": 0.0, \"avg\": 0.0}, {\"calitp_itp_id\": 281, \"agency_name\": \"San Francisco International Airport\", \"service_date\": \"2022-05-04T00:00:00\", \"num_sched\": 1049.0, \"num_vp\": 0.0, \"avg\": 0.0}, {\"calitp_itp_id\": 290, \"agency_name\": \"SamTrans\", \"service_date\": \"2022-05-04T00:00:00\", \"num_sched\": 1455.0, \"num_vp\": 3.0, \"avg\": 0.002061855670103093}, {\"calitp_itp_id\": 350, \"agency_name\": \"Union City Transit\", \"service_date\": \"2022-05-04T00:00:00\", \"num_sched\": 270.0, \"num_vp\": 124.0, \"avg\": 0.45925925925925926}, {\"calitp_itp_id\": 167, \"agency_name\": \"Livermore Amador Valley Transit Authority\", \"service_date\": \"2022-05-04T00:00:00\", \"num_sched\": 338.0, \"num_vp\": 262.0, \"avg\": 0.7751479289940828}, {\"calitp_itp_id\": 201, \"agency_name\": \"Mission Bay TMA\", \"service_date\": \"2022-05-04T00:00:00\", \"num_sched\": 111.0, \"num_vp\": 0.0, \"avg\": 0.0}, {\"calitp_itp_id\": 61, \"agency_name\": \"County Connection\", \"service_date\": \"2022-05-04T00:00:00\", \"num_sched\": 922.0, \"num_vp\": 662.0, \"avg\": 0.7180043383947939}, {\"calitp_itp_id\": 368, \"agency_name\": \"WestCat (Western Contra Costa)\", \"service_date\": \"2022-05-04T00:00:00\", \"num_sched\": 555.0, \"num_vp\": 0.0, \"avg\": 0.0}, {\"calitp_itp_id\": 264, \"agency_name\": \"Rio Vista Delta Breeze\", \"service_date\": \"2022-05-04T00:00:00\", \"num_sched\": 8.0, \"num_vp\": 0.0, \"avg\": 0.0}, {\"calitp_itp_id\": 294, \"agency_name\": \"VTA\", \"service_date\": \"2022-05-04T00:00:00\", \"num_sched\": 3657.0, \"num_vp\": 3560.0, \"avg\": 0.9734755263877495}, {\"calitp_itp_id\": 56, \"agency_name\": \"Capitol Corridor Joint Powers Authority\", \"service_date\": \"2022-05-04T00:00:00\", \"num_sched\": 51.0, \"num_vp\": 0.0, \"avg\": 0.0}, {\"calitp_itp_id\": 314, \"agency_name\": \"Sonoma County Transit\", \"service_date\": \"2022-05-04T00:00:00\", \"num_sched\": 251.0, \"num_vp\": 0.0, \"avg\": 0.0}, {\"calitp_itp_id\": 315, \"agency_name\": \"Sonoma Marin Area Rail Transit\", \"service_date\": \"2022-05-04T00:00:00\", \"num_sched\": 26.0, \"num_vp\": 26.0, \"avg\": 1.0}, {\"calitp_itp_id\": 356, \"agency_name\": \"Vacaville City Coach\", \"service_date\": \"2022-05-04T00:00:00\", \"num_sched\": 123.0, \"num_vp\": 0.0, \"avg\": 0.0}, {\"calitp_itp_id\": 127, \"agency_name\": \"Golden Gate Transit\", \"service_date\": \"2022-05-04T00:00:00\", \"num_sched\": 196.0, \"num_vp\": 196.0, \"avg\": 1.0}, {\"calitp_itp_id\": 194, \"agency_name\": \"Marin Transit\", \"service_date\": \"2022-05-04T00:00:00\", \"num_sched\": 704.0, \"num_vp\": 635.0, \"avg\": 0.9019886363636364}, {\"calitp_itp_id\": 218, \"agency_name\": \"VINE Transit\", \"service_date\": \"2022-05-04T00:00:00\", \"num_sched\": 216.0, \"num_vp\": 182.0, \"avg\": 0.8425925925925926}, {\"calitp_itp_id\": 246, \"agency_name\": \"Caltrain\", \"service_date\": \"2022-05-04T00:00:00\", \"num_sched\": 88.0, \"num_vp\": 68.0, \"avg\": 0.7727272727272727}, {\"calitp_itp_id\": 247, \"agency_name\": \"Petaluma\", \"service_date\": \"2022-05-04T00:00:00\", \"num_sched\": 233.0, \"num_vp\": 158.0, \"avg\": 0.6781115879828327}, {\"calitp_itp_id\": 290, \"agency_name\": null, \"service_date\": \"2022-05-04T00:00:00\", \"num_sched\": null, \"num_vp\": null, \"avg\": null}, {\"calitp_itp_id\": 310, \"agency_name\": \"SolTrans\", \"service_date\": \"2022-05-04T00:00:00\", \"num_sched\": 402.0, \"num_vp\": 349.0, \"avg\": 0.8681592039800995}, {\"calitp_itp_id\": 301, \"agency_name\": \"Santa Rosa CityBus\", \"service_date\": \"2022-05-04T00:00:00\", \"num_sched\": 573.0, \"num_vp\": 515.0, \"avg\": 0.8987783595113438}, {\"calitp_itp_id\": 257, \"agency_name\": \"PresidiGo\", \"service_date\": \"2022-05-04T00:00:00\", \"num_sched\": 45.0, \"num_vp\": 28.0, \"avg\": 0.6222222222222222}, {\"calitp_itp_id\": 106, \"agency_name\": \"Emery Go-Round\", \"service_date\": \"2022-05-04T00:00:00\", \"num_sched\": 133.0, \"num_vp\": 133.0, \"avg\": 1.0}, {\"calitp_itp_id\": 110, \"agency_name\": \"Fairfield and Suisun Transit\", \"service_date\": \"2022-05-04T00:00:00\", \"num_sched\": 317.0, \"num_vp\": 317.0, \"avg\": 1.0}, {\"calitp_itp_id\": 76, \"agency_name\": \"Commute.org Shuttles\", \"service_date\": \"2022-05-04T00:00:00\", \"num_sched\": 250.0, \"num_vp\": 0.0, \"avg\": 0.0}, {\"calitp_itp_id\": 282, \"agency_name\": \"San Francisco Municipal Transportation Agency\", \"service_date\": \"2022-05-04T00:00:00\", \"num_sched\": 8707.0, \"num_vp\": 8268.0, \"avg\": 0.9495807970598369}, {\"calitp_itp_id\": 279, \"agency_name\": null, \"service_date\": \"2022-05-04T00:00:00\", \"num_sched\": null, \"num_vp\": null, \"avg\": null}, {\"calitp_itp_id\": 4, \"agency_name\": \"AC TRANSIT\", \"service_date\": \"2022-05-04T00:00:00\", \"num_sched\": 5378.0, \"num_vp\": 4932.0, \"avg\": 0.9170695425808851}, {\"calitp_itp_id\": 76, \"agency_name\": \"SamTrans\", \"service_date\": \"2022-05-04T00:00:00\", \"num_sched\": 47.0, \"num_vp\": 0.0, \"avg\": 0.0}, {\"calitp_itp_id\": 127, \"agency_name\": null, \"service_date\": \"2022-05-04T00:00:00\", \"num_sched\": null, \"num_vp\": null, \"avg\": null}, {\"calitp_itp_id\": 279, \"agency_name\": \"Bay Area Rapid Transit\", \"service_date\": \"2022-05-04T00:00:00\", \"num_sched\": 1012.0, \"num_vp\": 0.0, \"avg\": 0.0}, {\"calitp_itp_id\": 280, \"agency_name\": \"San Francisco Bay Ferry\", \"service_date\": \"2022-05-04T00:00:00\", \"num_sched\": 141.0, \"num_vp\": 0.0, \"avg\": 0.0}, {\"calitp_itp_id\": 199, \"agency_name\": \"SamTrans\", \"service_date\": \"2022-05-04T00:00:00\", \"num_sched\": 24.0, \"num_vp\": 0.0, \"avg\": 0.0}]}}, {\"mode\": \"vega-lite\"});\n",
       "</script>"
      ],
      "text/plain": [
       "alt.Chart(...)"
      ]
     },
     "execution_count": 42,
     "metadata": {},
     "output_type": "execute_result"
    }
   ],
   "source": [
    "display(HTML(f\"<strong>{district} \"\n",
    "             f\"Average Percent of Scheduled Trips with Vehicle Postions Data \"\n",
    "             f\"by Route Over Time</strong>\"))\n",
    "display(Markdown(\"To utilize the multi-select, use `shift` when clicking routes in the legend\"))\n",
    "\n",
    "line = alt.Chart(d_agency_date_avg).mark_line(point={\"filled\": False, \"fill\":\"white\"}).encode(\n",
    "    x=alt.X('service_date', title=utils.labeling('service_date')),\n",
    "    y=alt.Y('avg', title=('Percent with Vehicle Positions'), axis=alt.Axis(format='%')),\n",
    "    color=alt.Color('agency_name', title=['Agency Name'],  legend=alt.Legend(columns=3, symbolLimit=0)),\n",
    "    strokeDash='agency_name')\n",
    "\n",
    "line_chart = utils.add_tooltip(line, 'agency_name','service_date', 'avg')\n",
    "line_chart = utils.add_chart_selection(line_chart, 'agency_name')\n",
    "line_chart.properties(width=700)"
   ]
  },
  {
   "cell_type": "code",
   "execution_count": null,
   "id": "3e2df891-5855-4de1-8343-b841fab4d8d1",
   "metadata": {},
   "outputs": [],
   "source": []
  },
  {
   "cell_type": "code",
   "execution_count": null,
   "id": "a5596c03-ef60-41f0-a317-c7d18f1de606",
   "metadata": {},
   "outputs": [],
   "source": []
  },
  {
   "cell_type": "code",
   "execution_count": 43,
   "id": "106c4995-6ec6-4895-892f-5ca0583eb946",
   "metadata": {},
   "outputs": [
    {
     "data": {
      "text/html": [
       "Out of <strong>38 organizations </strong>with Scheduled Data, there are <strong>15 organizations</strong> with <strong>no</strong> vehicle position data."
      ],
      "text/plain": [
       "<IPython.core.display.HTML object>"
      ]
     },
     "metadata": {},
     "output_type": "display_data"
    }
   ],
   "source": [
    "display(HTML(f\"Out of <strong>{len(d_avg)} organizations </strong>\"\n",
    "             f\"with Scheduled Data, there are \"\n",
    "             f\"<strong>{len(d_avg>>filter(_.num_vp==0)>>arrange(_.calitp_itp_id))} organizations</strong> \"\n",
    "             \"with <strong>no</strong> \"\n",
    "             \"vehicle position data.\"))"
   ]
  },
  {
   "cell_type": "code",
   "execution_count": null,
   "id": "1bd45843-0af3-4694-8e79-f3d1030a1b51",
   "metadata": {},
   "outputs": [],
   "source": []
  },
  {
   "cell_type": "code",
   "execution_count": 44,
   "id": "5222a55e-c8dc-4a5c-9fc6-bd4f123dc133",
   "metadata": {},
   "outputs": [],
   "source": [
    "## funky one\n",
    "#may4>>filter(_.agency_name== 'Commute.org Shuttles')"
   ]
  },
  {
   "cell_type": "code",
   "execution_count": null,
   "id": "6a6aa44f-5faa-4554-acfa-f094a4ddfea3",
   "metadata": {},
   "outputs": [],
   "source": []
  }
 ],
 "metadata": {
  "kernelspec": {
   "display_name": "Python 3 (ipykernel)",
   "language": "python",
   "name": "python3"
  },
  "language_info": {
   "codemirror_mode": {
    "name": "ipython",
    "version": 3
   },
   "file_extension": ".py",
   "mimetype": "text/x-python",
   "name": "python",
   "nbconvert_exporter": "python",
   "pygments_lexer": "ipython3",
   "version": "3.10.5"
  },
  "widgets": {
   "application/vnd.jupyter.widget-state+json": {
    "state": {},
    "version_major": 2,
    "version_minor": 0
   }
  }
 },
 "nbformat": 4,
 "nbformat_minor": 5
}
