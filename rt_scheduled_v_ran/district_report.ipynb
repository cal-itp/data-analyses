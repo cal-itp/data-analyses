{
 "cells": [
  {
   "cell_type": "markdown",
   "id": "db8a41f5-0d9b-472c-a702-22ac6dac47a2",
   "metadata": {},
   "source": [
    "# Report for May 4: {District}"
   ]
  },
  {
   "cell_type": "code",
   "execution_count": 1,
   "id": "39a5a22b-abb4-4b2a-8c51-b437fc8b2920",
   "metadata": {},
   "outputs": [
    {
     "name": "stderr",
     "output_type": "stream",
     "text": [
      "/opt/conda/lib/python3.10/site-packages/geopandas/_compat.py:112: UserWarning: The Shapely GEOS version (3.10.3-CAPI-1.16.1) is incompatible with the GEOS version PyGEOS was compiled with (3.10.1-CAPI-1.16.0). Conversions between both will be slow.\n",
      "  warnings.warn(\n"
     ]
    }
   ],
   "source": [
    "import utils\n",
    "import shared_utils\n",
    "from dla_utils import _dla_utils as dla_utils\n",
    "from shared_utils import styleguide, altair_utils, portfolio_utils\n",
    "\n",
    "from siuba import *\n",
    "import pandas as pd\n",
    "\n",
    "from IPython.display import display, Markdown, HTML\n",
    "\n",
    "import altair as alt\n",
    "\n",
    "import os\n",
    "os.environ[\"CALITP_BQ_MAX_BYTES\"] = str(800_000_000_000) ## 800GB?\n",
    "\n",
    "from calitp.tables import tbl\n",
    "\n",
    "from calitp import query_sql, magics\n"
   ]
  },
  {
   "cell_type": "code",
   "execution_count": 2,
   "id": "c48b014f-c842-40fa-a7af-5c819e973c56",
   "metadata": {},
   "outputs": [],
   "source": [
    "district = '04 - Oakland'"
   ]
  },
  {
   "cell_type": "code",
   "execution_count": 3,
   "id": "80650ef5-66c7-4824-ada6-f24b427aaeb7",
   "metadata": {},
   "outputs": [],
   "source": [
    "district_short_name = 'District 4'"
   ]
  },
  {
   "cell_type": "code",
   "execution_count": 4,
   "id": "632eb2db-6122-45a6-a9bd-fe4e1a2f3561",
   "metadata": {
    "tags": []
   },
   "outputs": [],
   "source": [
    "## alternatively \n",
    "may4 = query_sql(f'''\n",
    "SELECT * FROM `cal-itp-data-infra.views.gtfs_rt_vs_schedule_trips_may4_sample`\n",
    "''')"
   ]
  },
  {
   "cell_type": "code",
   "execution_count": 5,
   "id": "9c733942-5adc-4537-9d59-3fa149b9f9d2",
   "metadata": {},
   "outputs": [],
   "source": [
    "may4['service_date'] = pd.to_datetime(may4['service_date'])\n",
    "may4['weekday'] = pd.Series(may4.service_date).dt.day_name()    \n",
    "may4['month'] =  pd.Series(may4.service_date).dt.month_name()"
   ]
  },
  {
   "cell_type": "code",
   "execution_count": null,
   "id": "538791e7-d5dd-4a6c-a149-b4149d9f757c",
   "metadata": {},
   "outputs": [],
   "source": [
    "itpid_district = portfolio_utils.add_caltrans_district()\n",
    "may4 = pd.merge(may4, itpid_district, on='calitp_itp_id', how='left')"
   ]
  },
  {
   "cell_type": "code",
   "execution_count": null,
   "id": "b3bff346-d24d-4675-ae17-8a150a3cc660",
   "metadata": {},
   "outputs": [],
   "source": [
    "df_all = utils.get_correct_url(may4)"
   ]
  },
  {
   "cell_type": "code",
   "execution_count": null,
   "id": "b28ef858-4939-4eaf-b840-fd171d2b0a80",
   "metadata": {},
   "outputs": [],
   "source": [
    "## organizations with no agency names \n",
    "## probably duplicates\n",
    "#df_all>>filter(_.agency_name.isnull())>>count(_.calitp_itp_id)"
   ]
  },
  {
   "cell_type": "code",
   "execution_count": null,
   "id": "c4b3e422-deb8-4e28-99a3-1bd0aad89a13",
   "metadata": {},
   "outputs": [],
   "source": [
    "d = df_all>>filter(_.caltrans_district== district)"
   ]
  },
  {
   "cell_type": "markdown",
   "id": "17227797-912c-4c85-8c68-8997098e70fb",
   "metadata": {},
   "source": [
    "* Note to add functions in `utils` that create these sub dataframes already for \n",
    "    * district average\n",
    "    * agency average \n",
    "    * overall average"
   ]
  },
  {
   "cell_type": "code",
   "execution_count": null,
   "id": "473a28ce-8849-4cec-8d85-e56c00b3ca19",
   "metadata": {},
   "outputs": [],
   "source": [
    "all_dist_avg = (utils.get_agg_pct(df_all, groupings = ['caltrans_district'], sum_sched = 'num_sched', sum_vp = 'num_vp'))\n",
    "all_dist_avg['District Average'] = all_dist_avg['avg'].astype(float).map(\"{:.2%}\".format)"
   ]
  },
  {
   "cell_type": "code",
   "execution_count": null,
   "id": "3c0d86c7-4d41-4201-9c5b-fc0ac05c9324",
   "metadata": {},
   "outputs": [
    {
     "data": {
      "text/html": [
       "<h2>District Stats</h2>"
      ],
      "text/plain": [
       "<IPython.core.display.HTML object>"
      ]
     },
     "metadata": {},
     "output_type": "display_data"
    }
   ],
   "source": [
    "display(HTML(\"<h2>District Stats</h2>\"))"
   ]
  },
  {
   "cell_type": "code",
   "execution_count": null,
   "id": "3ea282fe-0665-43d0-99ff-61ff13e7b73e",
   "metadata": {},
   "outputs": [
    {
     "data": {
      "text/html": [
       "<style type=\"text/css\">\n",
       "#T_0a5ce th {\n",
       "  text-align: center;\n",
       "}\n",
       "#T_0a5ce_row0_col0, #T_0a5ce_row0_col1, #T_0a5ce_row1_col0, #T_0a5ce_row1_col1, #T_0a5ce_row2_col0, #T_0a5ce_row2_col1, #T_0a5ce_row3_col0, #T_0a5ce_row3_col1, #T_0a5ce_row4_col0, #T_0a5ce_row4_col1, #T_0a5ce_row5_col0, #T_0a5ce_row5_col1, #T_0a5ce_row6_col0, #T_0a5ce_row6_col1, #T_0a5ce_row7_col0, #T_0a5ce_row7_col1, #T_0a5ce_row8_col0, #T_0a5ce_row8_col1, #T_0a5ce_row9_col0, #T_0a5ce_row9_col1, #T_0a5ce_row10_col0, #T_0a5ce_row10_col1, #T_0a5ce_row11_col0, #T_0a5ce_row11_col1 {\n",
       "  text-align: center;\n",
       "}\n",
       "</style>\n",
       "<table id=\"T_0a5ce\">\n",
       "  <thead>\n",
       "    <tr>\n",
       "      <th id=\"T_0a5ce_level0_col0\" class=\"col_heading level0 col0\" >Caltrans District</th>\n",
       "      <th id=\"T_0a5ce_level0_col1\" class=\"col_heading level0 col1\" >District Average</th>\n",
       "    </tr>\n",
       "  </thead>\n",
       "  <tbody>\n",
       "    <tr>\n",
       "      <td id=\"T_0a5ce_row0_col0\" class=\"data row0 col0\" >01 - Eureka</td>\n",
       "      <td id=\"T_0a5ce_row0_col1\" class=\"data row0 col1\" >25.59%</td>\n",
       "    </tr>\n",
       "    <tr>\n",
       "      <td id=\"T_0a5ce_row1_col0\" class=\"data row1 col0\" >02 - Redding</td>\n",
       "      <td id=\"T_0a5ce_row1_col1\" class=\"data row1 col1\" >29.60%</td>\n",
       "    </tr>\n",
       "    <tr>\n",
       "      <td id=\"T_0a5ce_row2_col0\" class=\"data row2 col0\" >03 - Marysville</td>\n",
       "      <td id=\"T_0a5ce_row2_col1\" class=\"data row2 col1\" >4.26%</td>\n",
       "    </tr>\n",
       "    <tr>\n",
       "      <td id=\"T_0a5ce_row3_col0\" class=\"data row3 col0\" >04 - Oakland</td>\n",
       "      <td id=\"T_0a5ce_row3_col1\" class=\"data row3 col1\" >64.13%</td>\n",
       "    </tr>\n",
       "    <tr>\n",
       "      <td id=\"T_0a5ce_row4_col0\" class=\"data row4 col0\" >05 - San Luis Obispo</td>\n",
       "      <td id=\"T_0a5ce_row4_col1\" class=\"data row4 col1\" >26.97%</td>\n",
       "    </tr>\n",
       "    <tr>\n",
       "      <td id=\"T_0a5ce_row5_col0\" class=\"data row5 col0\" >06 - Fresno</td>\n",
       "      <td id=\"T_0a5ce_row5_col1\" class=\"data row5 col1\" >39.14%</td>\n",
       "    </tr>\n",
       "    <tr>\n",
       "      <td id=\"T_0a5ce_row6_col0\" class=\"data row6 col0\" >07 - Los Angeles</td>\n",
       "      <td id=\"T_0a5ce_row6_col1\" class=\"data row6 col1\" >68.81%</td>\n",
       "    </tr>\n",
       "    <tr>\n",
       "      <td id=\"T_0a5ce_row7_col0\" class=\"data row7 col0\" >08 - San Bernardino</td>\n",
       "      <td id=\"T_0a5ce_row7_col1\" class=\"data row7 col1\" >52.52%</td>\n",
       "    </tr>\n",
       "    <tr>\n",
       "      <td id=\"T_0a5ce_row8_col0\" class=\"data row8 col0\" >09 - Bishop</td>\n",
       "      <td id=\"T_0a5ce_row8_col1\" class=\"data row8 col1\" >62.90%</td>\n",
       "    </tr>\n",
       "    <tr>\n",
       "      <td id=\"T_0a5ce_row9_col0\" class=\"data row9 col0\" >10 - Stockton</td>\n",
       "      <td id=\"T_0a5ce_row9_col1\" class=\"data row9 col1\" >68.23%</td>\n",
       "    </tr>\n",
       "    <tr>\n",
       "      <td id=\"T_0a5ce_row10_col0\" class=\"data row10 col0\" >11 - San Diego</td>\n",
       "      <td id=\"T_0a5ce_row10_col1\" class=\"data row10 col1\" >95.68%</td>\n",
       "    </tr>\n",
       "    <tr>\n",
       "      <td id=\"T_0a5ce_row11_col0\" class=\"data row11 col0\" >12 - Irvine</td>\n",
       "      <td id=\"T_0a5ce_row11_col1\" class=\"data row11 col1\" >49.27%</td>\n",
       "    </tr>\n",
       "  </tbody>\n",
       "</table>\n"
      ],
      "text/plain": [
       "<IPython.core.display.HTML object>"
      ]
     },
     "metadata": {},
     "output_type": "display_data"
    }
   ],
   "source": [
    "display(HTML(dla_utils.pretify_tables((all_dist_avg>>select(_.caltrans_district, _['District Average'])>>filter(_.caltrans_district.notnull())>>arrange(_.caltrans_district)))))"
   ]
  },
  {
   "cell_type": "code",
   "execution_count": null,
   "id": "7b532d3e-6086-4546-a2f5-cf03d034923e",
   "metadata": {},
   "outputs": [],
   "source": [
    "d_avg = (utils.get_agg_pct(d,\n",
    "                            groupings = ['agency_name', 'calitp_itp_id'],\n",
    "                            sum_sched = 'num_sched',\n",
    "                            sum_vp = 'num_vp'))"
   ]
  },
  {
   "cell_type": "code",
   "execution_count": null,
   "id": "e28111c4-6e5b-4f38-99f5-e1a35d5ee013",
   "metadata": {},
   "outputs": [
    {
     "data": {
      "text/html": [
       "<h3>District 4 Scheduled Data vs Vehicle Position Data</h3>"
      ],
      "text/plain": [
       "<IPython.core.display.HTML object>"
      ]
     },
     "metadata": {},
     "output_type": "display_data"
    }
   ],
   "source": [
    "display(HTML(f\"<h3>{district_short_name} Scheduled Data vs Vehicle Position Data</h3>\"))\n"
   ]
  },
  {
   "cell_type": "code",
   "execution_count": null,
   "id": "9f19a9c3-b7c9-4b4f-9185-c95f57a3cf84",
   "metadata": {},
   "outputs": [
    {
     "data": {
      "text/html": [
       "<strong>Agency Average Scheduled & RT Vehicle Position Data</strong>"
      ],
      "text/plain": [
       "<IPython.core.display.HTML object>"
      ]
     },
     "metadata": {},
     "output_type": "display_data"
    },
    {
     "data": {
      "text/html": [
       "\n",
       "<div id=\"altair-viz-6504eb39914043e18dfb833a05021b2b\"></div>\n",
       "<script type=\"text/javascript\">\n",
       "  var VEGA_DEBUG = (typeof VEGA_DEBUG == \"undefined\") ? {} : VEGA_DEBUG;\n",
       "  (function(spec, embedOpt){\n",
       "    let outputDiv = document.currentScript.previousElementSibling;\n",
       "    if (outputDiv.id !== \"altair-viz-6504eb39914043e18dfb833a05021b2b\") {\n",
       "      outputDiv = document.getElementById(\"altair-viz-6504eb39914043e18dfb833a05021b2b\");\n",
       "    }\n",
       "    const paths = {\n",
       "      \"vega\": \"https://cdn.jsdelivr.net/npm//vega@5?noext\",\n",
       "      \"vega-lib\": \"https://cdn.jsdelivr.net/npm//vega-lib?noext\",\n",
       "      \"vega-lite\": \"https://cdn.jsdelivr.net/npm//vega-lite@4.17.0?noext\",\n",
       "      \"vega-embed\": \"https://cdn.jsdelivr.net/npm//vega-embed@6?noext\",\n",
       "    };\n",
       "\n",
       "    function maybeLoadScript(lib, version) {\n",
       "      var key = `${lib.replace(\"-\", \"\")}_version`;\n",
       "      return (VEGA_DEBUG[key] == version) ?\n",
       "        Promise.resolve(paths[lib]) :\n",
       "        new Promise(function(resolve, reject) {\n",
       "          var s = document.createElement('script');\n",
       "          document.getElementsByTagName(\"head\")[0].appendChild(s);\n",
       "          s.async = true;\n",
       "          s.onload = () => {\n",
       "            VEGA_DEBUG[key] = version;\n",
       "            return resolve(paths[lib]);\n",
       "          };\n",
       "          s.onerror = () => reject(`Error loading script: ${paths[lib]}`);\n",
       "          s.src = paths[lib];\n",
       "        });\n",
       "    }\n",
       "\n",
       "    function showError(err) {\n",
       "      outputDiv.innerHTML = `<div class=\"error\" style=\"color:red;\">${err}</div>`;\n",
       "      throw err;\n",
       "    }\n",
       "\n",
       "    function displayChart(vegaEmbed) {\n",
       "      vegaEmbed(outputDiv, spec, embedOpt)\n",
       "        .catch(err => showError(`Javascript Error: ${err.message}<br>This usually means there's a typo in your chart specification. See the javascript console for the full traceback.`));\n",
       "    }\n",
       "\n",
       "    if(typeof define === \"function\" && define.amd) {\n",
       "      requirejs.config({paths});\n",
       "      require([\"vega-embed\"], displayChart, err => showError(`Error loading script: ${err.message}`));\n",
       "    } else {\n",
       "      maybeLoadScript(\"vega\", \"5\")\n",
       "        .then(() => maybeLoadScript(\"vega-lite\", \"4.17.0\"))\n",
       "        .then(() => maybeLoadScript(\"vega-embed\", \"6\"))\n",
       "        .catch(showError)\n",
       "        .then(() => displayChart(vegaEmbed));\n",
       "    }\n",
       "  })({\"config\": {\"view\": {\"continuousWidth\": 400, \"continuousHeight\": 300}}, \"data\": {\"name\": \"data-b6bc7ab80567e8929477dd6a9a0ea244\"}, \"mark\": {\"type\": \"circle\", \"size\": 60}, \"encoding\": {\"color\": {\"field\": \"agency_name\", \"type\": \"nominal\"}, \"tooltip\": [{\"field\": \"agency_name\", \"title\": \"Agency Name\", \"type\": \"nominal\"}, {\"field\": \"calitp_itp_id\", \"title\": \"Calitp Itp Id\", \"type\": \"quantitative\"}, {\"field\": \"calitp_itp_id\", \"title\": \"Calitp Itp Id\", \"type\": \"quantitative\"}], \"x\": {\"field\": \"num_sched\", \"sort\": \"x\", \"title\": \"Number of Trips with Scheduled Data\", \"type\": \"quantitative\"}, \"y\": {\"axis\": {\"format\": \"\"}, \"field\": \"num_vp\", \"title\": \"Number of Trips with Vehicle Positions Data\", \"type\": \"quantitative\"}}, \"selection\": {\"selector001\": {\"type\": \"interval\", \"bind\": \"scales\", \"encodings\": [\"x\", \"y\"]}}, \"width\": 700, \"$schema\": \"https://vega.github.io/schema/vega-lite/v4.17.0.json\", \"datasets\": {\"data-b6bc7ab80567e8929477dd6a9a0ea244\": [{\"agency_name\": \"Tri Delta Transit\", \"calitp_itp_id\": 336, \"num_sched\": 369.0, \"num_vp\": 358.0, \"avg\": 0.9701897018970189}, {\"agency_name\": null, \"calitp_itp_id\": 61, \"num_sched\": null, \"num_vp\": null, \"avg\": null}, {\"agency_name\": \"Stanford Marguerite Shuttle\", \"calitp_itp_id\": 324, \"num_sched\": 660.0, \"num_vp\": 0.0, \"avg\": 0.0}, {\"agency_name\": \"Sonoma County Transit\", \"calitp_itp_id\": 70, \"num_sched\": 251.0, \"num_vp\": 0.0, \"avg\": 0.0}, {\"agency_name\": \"Petaluma Transit\", \"calitp_itp_id\": 247, \"num_sched\": 233.0, \"num_vp\": 0.0, \"avg\": 0.0}, {\"agency_name\": \"San Francisco International Airport\", \"calitp_itp_id\": 281, \"num_sched\": 1049.0, \"num_vp\": 0.0, \"avg\": 0.0}, {\"agency_name\": \"SamTrans\", \"calitp_itp_id\": 290, \"num_sched\": 1455.0, \"num_vp\": 3.0, \"avg\": 0.002061855670103093}, {\"agency_name\": \"Union City Transit\", \"calitp_itp_id\": 350, \"num_sched\": 270.0, \"num_vp\": 124.0, \"avg\": 0.45925925925925926}, {\"agency_name\": \"Livermore Amador Valley Transit Authority\", \"calitp_itp_id\": 167, \"num_sched\": 338.0, \"num_vp\": 262.0, \"avg\": 0.7751479289940828}, {\"agency_name\": \"Mission Bay TMA\", \"calitp_itp_id\": 201, \"num_sched\": 111.0, \"num_vp\": 0.0, \"avg\": 0.0}, {\"agency_name\": \"County Connection\", \"calitp_itp_id\": 61, \"num_sched\": 922.0, \"num_vp\": 662.0, \"avg\": 0.7180043383947939}, {\"agency_name\": \"WestCat (Western Contra Costa)\", \"calitp_itp_id\": 368, \"num_sched\": 555.0, \"num_vp\": 0.0, \"avg\": 0.0}, {\"agency_name\": \"Rio Vista Delta Breeze\", \"calitp_itp_id\": 264, \"num_sched\": 8.0, \"num_vp\": 0.0, \"avg\": 0.0}, {\"agency_name\": \"VTA\", \"calitp_itp_id\": 294, \"num_sched\": 3657.0, \"num_vp\": 3560.0, \"avg\": 0.9734755263877495}, {\"agency_name\": \"Capitol Corridor Joint Powers Authority\", \"calitp_itp_id\": 56, \"num_sched\": 51.0, \"num_vp\": 0.0, \"avg\": 0.0}, {\"agency_name\": \"Sonoma County Transit\", \"calitp_itp_id\": 314, \"num_sched\": 251.0, \"num_vp\": 0.0, \"avg\": 0.0}, {\"agency_name\": \"Sonoma Marin Area Rail Transit\", \"calitp_itp_id\": 315, \"num_sched\": 26.0, \"num_vp\": 26.0, \"avg\": 1.0}, {\"agency_name\": \"Vacaville City Coach\", \"calitp_itp_id\": 356, \"num_sched\": 123.0, \"num_vp\": 0.0, \"avg\": 0.0}, {\"agency_name\": \"Golden Gate Transit\", \"calitp_itp_id\": 127, \"num_sched\": 196.0, \"num_vp\": 196.0, \"avg\": 1.0}, {\"agency_name\": \"Marin Transit\", \"calitp_itp_id\": 194, \"num_sched\": 704.0, \"num_vp\": 635.0, \"avg\": 0.9019886363636364}, {\"agency_name\": \"VINE Transit\", \"calitp_itp_id\": 218, \"num_sched\": 216.0, \"num_vp\": 182.0, \"avg\": 0.8425925925925926}, {\"agency_name\": \"Caltrain\", \"calitp_itp_id\": 246, \"num_sched\": 88.0, \"num_vp\": 68.0, \"avg\": 0.7727272727272727}, {\"agency_name\": \"Petaluma\", \"calitp_itp_id\": 247, \"num_sched\": 233.0, \"num_vp\": 158.0, \"avg\": 0.6781115879828327}, {\"agency_name\": null, \"calitp_itp_id\": 290, \"num_sched\": null, \"num_vp\": null, \"avg\": null}, {\"agency_name\": \"SolTrans\", \"calitp_itp_id\": 310, \"num_sched\": 402.0, \"num_vp\": 349.0, \"avg\": 0.8681592039800995}, {\"agency_name\": \"Santa Rosa CityBus\", \"calitp_itp_id\": 301, \"num_sched\": 573.0, \"num_vp\": 515.0, \"avg\": 0.8987783595113438}, {\"agency_name\": \"PresidiGo\", \"calitp_itp_id\": 257, \"num_sched\": 45.0, \"num_vp\": 28.0, \"avg\": 0.6222222222222222}, {\"agency_name\": \"Emery Go-Round\", \"calitp_itp_id\": 106, \"num_sched\": 133.0, \"num_vp\": 133.0, \"avg\": 1.0}, {\"agency_name\": \"Fairfield and Suisun Transit\", \"calitp_itp_id\": 110, \"num_sched\": 317.0, \"num_vp\": 317.0, \"avg\": 1.0}, {\"agency_name\": \"Commute.org Shuttles\", \"calitp_itp_id\": 76, \"num_sched\": 250.0, \"num_vp\": 0.0, \"avg\": 0.0}, {\"agency_name\": \"San Francisco Municipal Transportation Agency\", \"calitp_itp_id\": 282, \"num_sched\": 8707.0, \"num_vp\": 8268.0, \"avg\": 0.9495807970598369}, {\"agency_name\": null, \"calitp_itp_id\": 279, \"num_sched\": null, \"num_vp\": null, \"avg\": null}, {\"agency_name\": \"AC TRANSIT\", \"calitp_itp_id\": 4, \"num_sched\": 5378.0, \"num_vp\": 4932.0, \"avg\": 0.9170695425808851}, {\"agency_name\": \"SamTrans\", \"calitp_itp_id\": 76, \"num_sched\": 47.0, \"num_vp\": 0.0, \"avg\": 0.0}, {\"agency_name\": null, \"calitp_itp_id\": 127, \"num_sched\": null, \"num_vp\": null, \"avg\": null}, {\"agency_name\": \"Bay Area Rapid Transit\", \"calitp_itp_id\": 279, \"num_sched\": 1012.0, \"num_vp\": 0.0, \"avg\": 0.0}, {\"agency_name\": \"San Francisco Bay Ferry\", \"calitp_itp_id\": 280, \"num_sched\": 141.0, \"num_vp\": 0.0, \"avg\": 0.0}, {\"agency_name\": \"SamTrans\", \"calitp_itp_id\": 199, \"num_sched\": 24.0, \"num_vp\": 0.0, \"avg\": 0.0}]}}, {\"mode\": \"vega-lite\"});\n",
       "</script>"
      ],
      "text/plain": [
       "alt.Chart(...)"
      ]
     },
     "execution_count": 15,
     "metadata": {},
     "output_type": "execute_result"
    }
   ],
   "source": [
    "#trying using utils bar chart\n",
    "display(HTML('<strong>Agency Average Scheduled & RT Vehicle Position Data</strong>'))\n",
    "scatter = ((utils.bar_chart_over_time(d_avg,\n",
    "                          x_col = 'num_sched', \n",
    "                          y_col = 'num_vp', \n",
    "                          color_col = 'agency_name', \n",
    "                          yaxis_format = '',\n",
    "                          sort = 'x', \n",
    "                          title_txt = ''))\n",
    "           .mark_circle(size=60)\n",
    "           .interactive())\n",
    "(utils.add_tooltip(scatter, 'agency_name', 'calitp_itp_id', 'avg')).properties(width=700)"
   ]
  },
  {
   "cell_type": "code",
   "execution_count": null,
   "id": "ce90aee1-3396-4b99-be64-e70db2437db5",
   "metadata": {},
   "outputs": [],
   "source": []
  },
  {
   "cell_type": "code",
   "execution_count": null,
   "id": "383c7c0d-88ca-415e-9bf4-b60b74f27bfd",
   "metadata": {},
   "outputs": [
    {
     "data": {
      "text/html": [
       "<strong>Districts Average of Scheduled & RT Vehicle Position Data</strong>"
      ],
      "text/plain": [
       "<IPython.core.display.HTML object>"
      ]
     },
     "metadata": {},
     "output_type": "display_data"
    },
    {
     "data": {
      "text/html": [
       "\n",
       "<div id=\"altair-viz-79d860bd58f9495599740e39e903eda4\"></div>\n",
       "<script type=\"text/javascript\">\n",
       "  var VEGA_DEBUG = (typeof VEGA_DEBUG == \"undefined\") ? {} : VEGA_DEBUG;\n",
       "  (function(spec, embedOpt){\n",
       "    let outputDiv = document.currentScript.previousElementSibling;\n",
       "    if (outputDiv.id !== \"altair-viz-79d860bd58f9495599740e39e903eda4\") {\n",
       "      outputDiv = document.getElementById(\"altair-viz-79d860bd58f9495599740e39e903eda4\");\n",
       "    }\n",
       "    const paths = {\n",
       "      \"vega\": \"https://cdn.jsdelivr.net/npm//vega@5?noext\",\n",
       "      \"vega-lib\": \"https://cdn.jsdelivr.net/npm//vega-lib?noext\",\n",
       "      \"vega-lite\": \"https://cdn.jsdelivr.net/npm//vega-lite@4.17.0?noext\",\n",
       "      \"vega-embed\": \"https://cdn.jsdelivr.net/npm//vega-embed@6?noext\",\n",
       "    };\n",
       "\n",
       "    function maybeLoadScript(lib, version) {\n",
       "      var key = `${lib.replace(\"-\", \"\")}_version`;\n",
       "      return (VEGA_DEBUG[key] == version) ?\n",
       "        Promise.resolve(paths[lib]) :\n",
       "        new Promise(function(resolve, reject) {\n",
       "          var s = document.createElement('script');\n",
       "          document.getElementsByTagName(\"head\")[0].appendChild(s);\n",
       "          s.async = true;\n",
       "          s.onload = () => {\n",
       "            VEGA_DEBUG[key] = version;\n",
       "            return resolve(paths[lib]);\n",
       "          };\n",
       "          s.onerror = () => reject(`Error loading script: ${paths[lib]}`);\n",
       "          s.src = paths[lib];\n",
       "        });\n",
       "    }\n",
       "\n",
       "    function showError(err) {\n",
       "      outputDiv.innerHTML = `<div class=\"error\" style=\"color:red;\">${err}</div>`;\n",
       "      throw err;\n",
       "    }\n",
       "\n",
       "    function displayChart(vegaEmbed) {\n",
       "      vegaEmbed(outputDiv, spec, embedOpt)\n",
       "        .catch(err => showError(`Javascript Error: ${err.message}<br>This usually means there's a typo in your chart specification. See the javascript console for the full traceback.`));\n",
       "    }\n",
       "\n",
       "    if(typeof define === \"function\" && define.amd) {\n",
       "      requirejs.config({paths});\n",
       "      require([\"vega-embed\"], displayChart, err => showError(`Error loading script: ${err.message}`));\n",
       "    } else {\n",
       "      maybeLoadScript(\"vega\", \"5\")\n",
       "        .then(() => maybeLoadScript(\"vega-lite\", \"4.17.0\"))\n",
       "        .then(() => maybeLoadScript(\"vega-embed\", \"6\"))\n",
       "        .catch(showError)\n",
       "        .then(() => displayChart(vegaEmbed));\n",
       "    }\n",
       "  })({\"config\": {\"view\": {\"continuousWidth\": 400, \"continuousHeight\": 300}}, \"data\": {\"name\": \"data-95f8b5ef0fca9ab865801f5ba939823e\"}, \"mark\": {\"type\": \"bar\", \"size\": 50}, \"encoding\": {\"color\": {\"condition\": {\"value\": \"orange\", \"test\": {\"field\": \"caltrans_district\", \"oneOf\": [\"04 - Oakland\"]}}, \"value\": \"steelblue\"}, \"x\": {\"field\": \"caltrans_district\", \"title\": \"Caltrans District\", \"type\": \"nominal\"}, \"y\": {\"axis\": {\"format\": \"%\"}, \"field\": \"avg\", \"title\": \"Average\", \"type\": \"quantitative\"}}, \"width\": 700, \"$schema\": \"https://vega.github.io/schema/vega-lite/v4.17.0.json\", \"datasets\": {\"data-95f8b5ef0fca9ab865801f5ba939823e\": [{\"caltrans_district\": null, \"num_sched\": null, \"num_vp\": null, \"avg\": null, \"District Average\": \"nan%\"}, {\"caltrans_district\": \"05 - San Luis Obispo\", \"num_sched\": 2573.0, \"num_vp\": 694.0, \"avg\": 0.2697240575204042, \"District Average\": \"26.97%\"}, {\"caltrans_district\": \"07 - Los Angeles\", \"num_sched\": 29481.0, \"num_vp\": 20287.0, \"avg\": 0.6881381228587904, \"District Average\": \"68.81%\"}, {\"caltrans_district\": \"04 - Oakland\", \"num_sched\": 32396.0, \"num_vp\": 20776.0, \"avg\": 0.641313742437338, \"District Average\": \"64.13%\"}, {\"caltrans_district\": \"10 - Stockton\", \"num_sched\": 2902.0, \"num_vp\": 1980.0, \"avg\": 0.6822880771881461, \"District Average\": \"68.23%\"}, {\"caltrans_district\": \"03 - Marysville\", \"num_sched\": 6075.0, \"num_vp\": 259.0, \"avg\": 0.042633744855967076, \"District Average\": \"4.26%\"}, {\"caltrans_district\": \"11 - San Diego\", \"num_sched\": 9084.0, \"num_vp\": 8692.0, \"avg\": 0.9568472038749449, \"District Average\": \"95.68%\"}, {\"caltrans_district\": \"02 - Redding\", \"num_sched\": 750.0, \"num_vp\": 222.0, \"avg\": 0.296, \"District Average\": \"29.60%\"}, {\"caltrans_district\": \"08 - San Bernardino\", \"num_sched\": 3155.0, \"num_vp\": 1657.0, \"avg\": 0.5251980982567354, \"District Average\": \"52.52%\"}, {\"caltrans_district\": \"06 - Fresno\", \"num_sched\": 3651.0, \"num_vp\": 1429.0, \"avg\": 0.39139961654341276, \"District Average\": \"39.14%\"}, {\"caltrans_district\": \"09 - Bishop\", \"num_sched\": 186.0, \"num_vp\": 117.0, \"avg\": 0.6290322580645161, \"District Average\": \"62.90%\"}, {\"caltrans_district\": \"01 - Eureka\", \"num_sched\": 852.0, \"num_vp\": 218.0, \"avg\": 0.25586854460093894, \"District Average\": \"25.59%\"}, {\"caltrans_district\": \"12 - Irvine\", \"num_sched\": 6436.0, \"num_vp\": 3171.0, \"avg\": 0.49269732753262896, \"District Average\": \"49.27%\"}]}}, {\"mode\": \"vega-lite\"});\n",
       "</script>"
      ],
      "text/plain": [
       "alt.Chart(...)"
      ]
     },
     "execution_count": 16,
     "metadata": {},
     "output_type": "execute_result"
    }
   ],
   "source": [
    "display(HTML('<strong>Districts Average of Scheduled & RT Vehicle Position Data</strong>'))\n",
    "bar = (alt.Chart(all_dist_avg)\n",
    "        .mark_bar(size=50)\n",
    "        .encode(\n",
    "            x=alt.X('caltrans_district', title=utils.labeling('caltrans_district')),\n",
    "            y=alt.Y('avg', title=utils.labeling('Average'), axis=alt.Axis(format='%')),\n",
    "            color=alt.condition(\n",
    "        alt.FieldOneOfPredicate('caltrans_district', [f'{district}']),  # If the district is parameter then return true,\n",
    "        alt.value('orange'),     # which sets the bar orange.\n",
    "        alt.value('steelblue')   # And if it's not true it sets the bar steelblue.\n",
    "            )\n",
    "        ))\n",
    "## code help: https://stackoverflow.com/questions/71082262/highlighting-specific-columns-in-bar-chart-in-python-using-altair\n",
    "bar.properties(width=700)"
   ]
  },
  {
   "cell_type": "code",
   "execution_count": null,
   "id": "8660d091-013b-4bbd-abe8-d97b02af86fd",
   "metadata": {},
   "outputs": [],
   "source": [
    "dist_avg_long = all_dist_avg.copy()\n",
    "dist_avg_long = dist_avg_long.rename(columns={ 'num_sched':'Total Number Scheduled Trips',\n",
    "                                            'num_vp':'Total Number Vehicle Position Trips'})\n",
    "dist_avg_long =  (dist_avg_long>>select(_.caltrans_district,\n",
    "                         _['Total Number Scheduled Trips'],\n",
    "                         _['Total Number Vehicle Position Trips']\n",
    "                        ) \n",
    "             >> gather('measure',\n",
    "                       'value',\n",
    "                       _['Total Number Scheduled Trips'],\n",
    "                       _['Total Number Vehicle Position Trips']\n",
    "                      )\n",
    "            )"
   ]
  },
  {
   "cell_type": "code",
   "execution_count": null,
   "id": "ca7e8333-340f-422d-8758-a2010ac0ce8f",
   "metadata": {},
   "outputs": [
    {
     "data": {
      "text/html": [
       "<strong>Number of Scheduled and Vehicle Postion Trips in 04 - Oakland</strong>"
      ],
      "text/plain": [
       "<IPython.core.display.HTML object>"
      ]
     },
     "metadata": {},
     "output_type": "display_data"
    },
    {
     "data": {
      "text/html": [
       "\n",
       "<div id=\"altair-viz-f34596809a10482392bba46021f1adf5\"></div>\n",
       "<script type=\"text/javascript\">\n",
       "  var VEGA_DEBUG = (typeof VEGA_DEBUG == \"undefined\") ? {} : VEGA_DEBUG;\n",
       "  (function(spec, embedOpt){\n",
       "    let outputDiv = document.currentScript.previousElementSibling;\n",
       "    if (outputDiv.id !== \"altair-viz-f34596809a10482392bba46021f1adf5\") {\n",
       "      outputDiv = document.getElementById(\"altair-viz-f34596809a10482392bba46021f1adf5\");\n",
       "    }\n",
       "    const paths = {\n",
       "      \"vega\": \"https://cdn.jsdelivr.net/npm//vega@5?noext\",\n",
       "      \"vega-lib\": \"https://cdn.jsdelivr.net/npm//vega-lib?noext\",\n",
       "      \"vega-lite\": \"https://cdn.jsdelivr.net/npm//vega-lite@4.17.0?noext\",\n",
       "      \"vega-embed\": \"https://cdn.jsdelivr.net/npm//vega-embed@6?noext\",\n",
       "    };\n",
       "\n",
       "    function maybeLoadScript(lib, version) {\n",
       "      var key = `${lib.replace(\"-\", \"\")}_version`;\n",
       "      return (VEGA_DEBUG[key] == version) ?\n",
       "        Promise.resolve(paths[lib]) :\n",
       "        new Promise(function(resolve, reject) {\n",
       "          var s = document.createElement('script');\n",
       "          document.getElementsByTagName(\"head\")[0].appendChild(s);\n",
       "          s.async = true;\n",
       "          s.onload = () => {\n",
       "            VEGA_DEBUG[key] = version;\n",
       "            return resolve(paths[lib]);\n",
       "          };\n",
       "          s.onerror = () => reject(`Error loading script: ${paths[lib]}`);\n",
       "          s.src = paths[lib];\n",
       "        });\n",
       "    }\n",
       "\n",
       "    function showError(err) {\n",
       "      outputDiv.innerHTML = `<div class=\"error\" style=\"color:red;\">${err}</div>`;\n",
       "      throw err;\n",
       "    }\n",
       "\n",
       "    function displayChart(vegaEmbed) {\n",
       "      vegaEmbed(outputDiv, spec, embedOpt)\n",
       "        .catch(err => showError(`Javascript Error: ${err.message}<br>This usually means there's a typo in your chart specification. See the javascript console for the full traceback.`));\n",
       "    }\n",
       "\n",
       "    if(typeof define === \"function\" && define.amd) {\n",
       "      requirejs.config({paths});\n",
       "      require([\"vega-embed\"], displayChart, err => showError(`Error loading script: ${err.message}`));\n",
       "    } else {\n",
       "      maybeLoadScript(\"vega\", \"5\")\n",
       "        .then(() => maybeLoadScript(\"vega-lite\", \"4.17.0\"))\n",
       "        .then(() => maybeLoadScript(\"vega-embed\", \"6\"))\n",
       "        .catch(showError)\n",
       "        .then(() => displayChart(vegaEmbed));\n",
       "    }\n",
       "  })({\"config\": {\"view\": {\"continuousWidth\": 400, \"continuousHeight\": 300}}, \"data\": {\"name\": \"data-4ae20ca6cc2554ab34dfab2fcf7818d6\"}, \"mark\": {\"type\": \"bar\", \"size\": 50}, \"encoding\": {\"color\": {\"field\": \"measure\", \"type\": \"nominal\"}, \"tooltip\": [{\"field\": \"caltrans_district\", \"title\": \"Caltrans District\", \"type\": \"nominal\"}, {\"field\": \"value\", \"title\": \"Value\", \"type\": \"quantitative\"}], \"x\": {\"field\": \"caltrans_district\", \"sort\": \"x\", \"title\": \"Caltrans District\", \"type\": \"nominal\"}, \"y\": {\"field\": \"value\", \"stack\": null, \"type\": \"quantitative\"}}, \"width\": 800, \"$schema\": \"https://vega.github.io/schema/vega-lite/v4.17.0.json\", \"datasets\": {\"data-4ae20ca6cc2554ab34dfab2fcf7818d6\": [{\"caltrans_district\": null, \"measure\": \"Total Number Scheduled Trips\", \"value\": null}, {\"caltrans_district\": \"05 - San Luis Obispo\", \"measure\": \"Total Number Scheduled Trips\", \"value\": 2573.0}, {\"caltrans_district\": \"07 - Los Angeles\", \"measure\": \"Total Number Scheduled Trips\", \"value\": 29481.0}, {\"caltrans_district\": \"04 - Oakland\", \"measure\": \"Total Number Scheduled Trips\", \"value\": 32396.0}, {\"caltrans_district\": \"10 - Stockton\", \"measure\": \"Total Number Scheduled Trips\", \"value\": 2902.0}, {\"caltrans_district\": \"03 - Marysville\", \"measure\": \"Total Number Scheduled Trips\", \"value\": 6075.0}, {\"caltrans_district\": \"11 - San Diego\", \"measure\": \"Total Number Scheduled Trips\", \"value\": 9084.0}, {\"caltrans_district\": \"02 - Redding\", \"measure\": \"Total Number Scheduled Trips\", \"value\": 750.0}, {\"caltrans_district\": \"08 - San Bernardino\", \"measure\": \"Total Number Scheduled Trips\", \"value\": 3155.0}, {\"caltrans_district\": \"06 - Fresno\", \"measure\": \"Total Number Scheduled Trips\", \"value\": 3651.0}, {\"caltrans_district\": \"09 - Bishop\", \"measure\": \"Total Number Scheduled Trips\", \"value\": 186.0}, {\"caltrans_district\": \"01 - Eureka\", \"measure\": \"Total Number Scheduled Trips\", \"value\": 852.0}, {\"caltrans_district\": \"12 - Irvine\", \"measure\": \"Total Number Scheduled Trips\", \"value\": 6436.0}, {\"caltrans_district\": null, \"measure\": \"Total Number Vehicle Position Trips\", \"value\": null}, {\"caltrans_district\": \"05 - San Luis Obispo\", \"measure\": \"Total Number Vehicle Position Trips\", \"value\": 694.0}, {\"caltrans_district\": \"07 - Los Angeles\", \"measure\": \"Total Number Vehicle Position Trips\", \"value\": 20287.0}, {\"caltrans_district\": \"04 - Oakland\", \"measure\": \"Total Number Vehicle Position Trips\", \"value\": 20776.0}, {\"caltrans_district\": \"10 - Stockton\", \"measure\": \"Total Number Vehicle Position Trips\", \"value\": 1980.0}, {\"caltrans_district\": \"03 - Marysville\", \"measure\": \"Total Number Vehicle Position Trips\", \"value\": 259.0}, {\"caltrans_district\": \"11 - San Diego\", \"measure\": \"Total Number Vehicle Position Trips\", \"value\": 8692.0}, {\"caltrans_district\": \"02 - Redding\", \"measure\": \"Total Number Vehicle Position Trips\", \"value\": 222.0}, {\"caltrans_district\": \"08 - San Bernardino\", \"measure\": \"Total Number Vehicle Position Trips\", \"value\": 1657.0}, {\"caltrans_district\": \"06 - Fresno\", \"measure\": \"Total Number Vehicle Position Trips\", \"value\": 1429.0}, {\"caltrans_district\": \"09 - Bishop\", \"measure\": \"Total Number Vehicle Position Trips\", \"value\": 117.0}, {\"caltrans_district\": \"01 - Eureka\", \"measure\": \"Total Number Vehicle Position Trips\", \"value\": 218.0}, {\"caltrans_district\": \"12 - Irvine\", \"measure\": \"Total Number Vehicle Position Trips\", \"value\": 3171.0}]}}, {\"mode\": \"vega-lite\"});\n",
       "</script>"
      ],
      "text/plain": [
       "alt.Chart(...)"
      ]
     },
     "execution_count": 18,
     "metadata": {},
     "output_type": "execute_result"
    }
   ],
   "source": [
    "display(HTML(f\"<strong>Number of Scheduled and Vehicle Postion Trips in {district}</strong>\"))\n",
    "\n",
    "(utils.bar_chart_over_time((dist_avg_long),\n",
    "                           'caltrans_district','value','measure',',f', 'x', '')).mark_bar(size=50).encode(y=alt.Y('value', stack = None,)).properties(width=800)"
   ]
  },
  {
   "cell_type": "code",
   "execution_count": null,
   "id": "989b8be7-135a-4eee-a413-d0d49b4a2a70",
   "metadata": {},
   "outputs": [],
   "source": []
  },
  {
   "cell_type": "code",
   "execution_count": null,
   "id": "e71f4a37-ec38-4c32-a279-9408d97bcb53",
   "metadata": {},
   "outputs": [],
   "source": []
  },
  {
   "cell_type": "code",
   "execution_count": null,
   "id": "4d7a3ce8-543c-49a3-a4fc-80728530e9c8",
   "metadata": {},
   "outputs": [],
   "source": [
    "d_overall_avg = (utils.get_agg_pct(d,\n",
    "                            groupings = ['service_date'],\n",
    "                            sum_sched = 'num_sched',\n",
    "                            sum_vp = 'num_vp'))"
   ]
  },
  {
   "cell_type": "code",
   "execution_count": null,
   "id": "303df99f-ff74-4a3a-a6b3-816511a5fe47",
   "metadata": {},
   "outputs": [],
   "source": [
    "dist_overall_avg_long = d_overall_avg.copy()\n",
    "dist_overall_avg_long = dist_overall_avg_long.rename(columns={ 'num_sched':'Total Number Scheduled Trips',\n",
    "                                            'num_vp':'Total Number Vehicle Position Trips'})\n",
    "dist_overall_avg_long = (dist_overall_avg_long>>select(_.service_date,\n",
    "                         _['Total Number Scheduled Trips'],\n",
    "                         _['Total Number Vehicle Position Trips']\n",
    "                        ) \n",
    "             >> gather('measure',\n",
    "                       'value',\n",
    "                       _['Total Number Scheduled Trips'],\n",
    "                       _['Total Number Vehicle Position Trips']\n",
    "                      ))"
   ]
  },
  {
   "cell_type": "code",
   "execution_count": null,
   "id": "6e3b220e-9e8a-4e0a-b116-7b64245f5ce9",
   "metadata": {},
   "outputs": [
    {
     "data": {
      "text/html": [
       "<strong>Number of Scheduled and Vehicle Postion Trips in 04 - Oakland by Day</strong>"
      ],
      "text/plain": [
       "<IPython.core.display.HTML object>"
      ]
     },
     "metadata": {},
     "output_type": "display_data"
    },
    {
     "data": {
      "text/html": [
       "\n",
       "<div id=\"altair-viz-e0ef95a385474521a5d90b909d60bfc9\"></div>\n",
       "<script type=\"text/javascript\">\n",
       "  var VEGA_DEBUG = (typeof VEGA_DEBUG == \"undefined\") ? {} : VEGA_DEBUG;\n",
       "  (function(spec, embedOpt){\n",
       "    let outputDiv = document.currentScript.previousElementSibling;\n",
       "    if (outputDiv.id !== \"altair-viz-e0ef95a385474521a5d90b909d60bfc9\") {\n",
       "      outputDiv = document.getElementById(\"altair-viz-e0ef95a385474521a5d90b909d60bfc9\");\n",
       "    }\n",
       "    const paths = {\n",
       "      \"vega\": \"https://cdn.jsdelivr.net/npm//vega@5?noext\",\n",
       "      \"vega-lib\": \"https://cdn.jsdelivr.net/npm//vega-lib?noext\",\n",
       "      \"vega-lite\": \"https://cdn.jsdelivr.net/npm//vega-lite@4.17.0?noext\",\n",
       "      \"vega-embed\": \"https://cdn.jsdelivr.net/npm//vega-embed@6?noext\",\n",
       "    };\n",
       "\n",
       "    function maybeLoadScript(lib, version) {\n",
       "      var key = `${lib.replace(\"-\", \"\")}_version`;\n",
       "      return (VEGA_DEBUG[key] == version) ?\n",
       "        Promise.resolve(paths[lib]) :\n",
       "        new Promise(function(resolve, reject) {\n",
       "          var s = document.createElement('script');\n",
       "          document.getElementsByTagName(\"head\")[0].appendChild(s);\n",
       "          s.async = true;\n",
       "          s.onload = () => {\n",
       "            VEGA_DEBUG[key] = version;\n",
       "            return resolve(paths[lib]);\n",
       "          };\n",
       "          s.onerror = () => reject(`Error loading script: ${paths[lib]}`);\n",
       "          s.src = paths[lib];\n",
       "        });\n",
       "    }\n",
       "\n",
       "    function showError(err) {\n",
       "      outputDiv.innerHTML = `<div class=\"error\" style=\"color:red;\">${err}</div>`;\n",
       "      throw err;\n",
       "    }\n",
       "\n",
       "    function displayChart(vegaEmbed) {\n",
       "      vegaEmbed(outputDiv, spec, embedOpt)\n",
       "        .catch(err => showError(`Javascript Error: ${err.message}<br>This usually means there's a typo in your chart specification. See the javascript console for the full traceback.`));\n",
       "    }\n",
       "\n",
       "    if(typeof define === \"function\" && define.amd) {\n",
       "      requirejs.config({paths});\n",
       "      require([\"vega-embed\"], displayChart, err => showError(`Error loading script: ${err.message}`));\n",
       "    } else {\n",
       "      maybeLoadScript(\"vega\", \"5\")\n",
       "        .then(() => maybeLoadScript(\"vega-lite\", \"4.17.0\"))\n",
       "        .then(() => maybeLoadScript(\"vega-embed\", \"6\"))\n",
       "        .catch(showError)\n",
       "        .then(() => displayChart(vegaEmbed));\n",
       "    }\n",
       "  })({\"config\": {\"view\": {\"continuousWidth\": 400, \"continuousHeight\": 300}}, \"data\": {\"name\": \"data-70c6b63f64be036c3b45260ffe75d8f3\"}, \"mark\": {\"type\": \"bar\", \"size\": 50}, \"encoding\": {\"color\": {\"field\": \"measure\", \"type\": \"nominal\"}, \"tooltip\": [{\"field\": \"service_date\", \"title\": \"Service Date\", \"type\": \"temporal\"}, {\"field\": \"value\", \"title\": \"Value\", \"type\": \"quantitative\"}], \"x\": {\"field\": \"service_date\", \"sort\": \"x\", \"title\": \"Service Date\", \"type\": \"temporal\"}, \"y\": {\"field\": \"value\", \"stack\": null, \"type\": \"quantitative\"}}, \"width\": 800, \"$schema\": \"https://vega.github.io/schema/vega-lite/v4.17.0.json\", \"datasets\": {\"data-70c6b63f64be036c3b45260ffe75d8f3\": [{\"service_date\": \"2022-05-04T00:00:00\", \"measure\": \"Total Number Scheduled Trips\", \"value\": 32396}, {\"service_date\": \"2022-05-04T00:00:00\", \"measure\": \"Total Number Vehicle Position Trips\", \"value\": 20776}]}}, {\"mode\": \"vega-lite\"});\n",
       "</script>"
      ],
      "text/plain": [
       "alt.Chart(...)"
      ]
     },
     "execution_count": 21,
     "metadata": {},
     "output_type": "execute_result"
    }
   ],
   "source": [
    "display(HTML(f\"<strong>Number of Scheduled and Vehicle Postion Trips in {district} by Day</strong>\"))\n",
    "\n",
    "(utils.bar_chart_over_time((dist_overall_avg_long),\n",
    "                           'service_date','value','measure',',f', 'x', '')).mark_bar(size=50).encode(y=alt.Y('value', stack = None,)).properties(width=800)"
   ]
  },
  {
   "cell_type": "code",
   "execution_count": null,
   "id": "a3506239-196c-416f-898d-5d8eb479d335",
   "metadata": {},
   "outputs": [],
   "source": []
  },
  {
   "cell_type": "code",
   "execution_count": null,
   "id": "6cafacd7-0306-41c6-a561-762c6d0ebdfb",
   "metadata": {},
   "outputs": [
    {
     "data": {
      "text/html": [
       "<h3>Organization Averages in District 4</h3>"
      ],
      "text/plain": [
       "<IPython.core.display.HTML object>"
      ]
     },
     "metadata": {},
     "output_type": "display_data"
    }
   ],
   "source": [
    "display(HTML(f\"<h3>Organization Averages in {district_short_name}</h3>\"))"
   ]
  },
  {
   "cell_type": "code",
   "execution_count": null,
   "id": "ff8e9ccf-42f9-4cac-81ee-aa5f1c57f719",
   "metadata": {},
   "outputs": [],
   "source": [
    "d_agency_date_avg = (utils.get_agg_pct(d,\n",
    "                            groupings = ['calitp_itp_id', 'agency_name', 'service_date'],\n",
    "                            sum_sched = 'num_sched',\n",
    "                            sum_vp = 'num_vp'))"
   ]
  },
  {
   "cell_type": "code",
   "execution_count": null,
   "id": "2b481e89-1fe8-4860-b69f-36ed5a69a5e8",
   "metadata": {},
   "outputs": [
    {
     "data": {
      "text/html": [
       "<strong>District 4 Average Percent of Scheduled Trips with Vehicle Postions Data by Route Over Time</strong>"
      ],
      "text/plain": [
       "<IPython.core.display.HTML object>"
      ]
     },
     "metadata": {},
     "output_type": "display_data"
    },
    {
     "data": {
      "text/markdown": [
       "To utilize the multi-select, use `shift` when clicking routes in the legend"
      ],
      "text/plain": [
       "<IPython.core.display.Markdown object>"
      ]
     },
     "metadata": {},
     "output_type": "display_data"
    },
    {
     "data": {
      "text/html": [
       "\n",
       "<div id=\"altair-viz-6eee292bfae74d2896b4005685361db7\"></div>\n",
       "<script type=\"text/javascript\">\n",
       "  var VEGA_DEBUG = (typeof VEGA_DEBUG == \"undefined\") ? {} : VEGA_DEBUG;\n",
       "  (function(spec, embedOpt){\n",
       "    let outputDiv = document.currentScript.previousElementSibling;\n",
       "    if (outputDiv.id !== \"altair-viz-6eee292bfae74d2896b4005685361db7\") {\n",
       "      outputDiv = document.getElementById(\"altair-viz-6eee292bfae74d2896b4005685361db7\");\n",
       "    }\n",
       "    const paths = {\n",
       "      \"vega\": \"https://cdn.jsdelivr.net/npm//vega@5?noext\",\n",
       "      \"vega-lib\": \"https://cdn.jsdelivr.net/npm//vega-lib?noext\",\n",
       "      \"vega-lite\": \"https://cdn.jsdelivr.net/npm//vega-lite@4.17.0?noext\",\n",
       "      \"vega-embed\": \"https://cdn.jsdelivr.net/npm//vega-embed@6?noext\",\n",
       "    };\n",
       "\n",
       "    function maybeLoadScript(lib, version) {\n",
       "      var key = `${lib.replace(\"-\", \"\")}_version`;\n",
       "      return (VEGA_DEBUG[key] == version) ?\n",
       "        Promise.resolve(paths[lib]) :\n",
       "        new Promise(function(resolve, reject) {\n",
       "          var s = document.createElement('script');\n",
       "          document.getElementsByTagName(\"head\")[0].appendChild(s);\n",
       "          s.async = true;\n",
       "          s.onload = () => {\n",
       "            VEGA_DEBUG[key] = version;\n",
       "            return resolve(paths[lib]);\n",
       "          };\n",
       "          s.onerror = () => reject(`Error loading script: ${paths[lib]}`);\n",
       "          s.src = paths[lib];\n",
       "        });\n",
       "    }\n",
       "\n",
       "    function showError(err) {\n",
       "      outputDiv.innerHTML = `<div class=\"error\" style=\"color:red;\">${err}</div>`;\n",
       "      throw err;\n",
       "    }\n",
       "\n",
       "    function displayChart(vegaEmbed) {\n",
       "      vegaEmbed(outputDiv, spec, embedOpt)\n",
       "        .catch(err => showError(`Javascript Error: ${err.message}<br>This usually means there's a typo in your chart specification. See the javascript console for the full traceback.`));\n",
       "    }\n",
       "\n",
       "    if(typeof define === \"function\" && define.amd) {\n",
       "      requirejs.config({paths});\n",
       "      require([\"vega-embed\"], displayChart, err => showError(`Error loading script: ${err.message}`));\n",
       "    } else {\n",
       "      maybeLoadScript(\"vega\", \"5\")\n",
       "        .then(() => maybeLoadScript(\"vega-lite\", \"4.17.0\"))\n",
       "        .then(() => maybeLoadScript(\"vega-embed\", \"6\"))\n",
       "        .catch(showError)\n",
       "        .then(() => displayChart(vegaEmbed));\n",
       "    }\n",
       "  })({\"config\": {\"view\": {\"continuousWidth\": 400, \"continuousHeight\": 300}}, \"data\": {\"name\": \"data-6cb4bc3a1d97b16e6ee4a841a3098b8b\"}, \"mark\": {\"type\": \"line\", \"point\": {\"filled\": false, \"fill\": \"white\"}}, \"encoding\": {\"color\": {\"field\": \"agency_name\", \"legend\": {\"columns\": 3, \"symbolLimit\": 0}, \"title\": [\"Agency Name\"], \"type\": \"nominal\"}, \"opacity\": {\"condition\": {\"value\": 1, \"selection\": \"selector002\"}, \"value\": 0}, \"strokeDash\": {\"field\": \"agency_name\", \"type\": \"nominal\"}, \"tooltip\": [{\"field\": \"agency_name\", \"title\": \"Agency Name\", \"type\": \"nominal\"}, {\"field\": \"service_date\", \"title\": \"Service Date\", \"type\": \"temporal\"}, {\"field\": \"service_date\", \"title\": \"Service Date\", \"type\": \"temporal\"}], \"x\": {\"field\": \"service_date\", \"title\": \"Service Date\", \"type\": \"temporal\"}, \"y\": {\"axis\": {\"format\": \"%\"}, \"field\": \"avg\", \"title\": \"Percent with Vehicle Positions\", \"type\": \"quantitative\"}}, \"selection\": {\"selector002\": {\"type\": \"multi\", \"fields\": [\"agency_name\"], \"bind\": \"legend\"}}, \"width\": 700, \"$schema\": \"https://vega.github.io/schema/vega-lite/v4.17.0.json\", \"datasets\": {\"data-6cb4bc3a1d97b16e6ee4a841a3098b8b\": [{\"calitp_itp_id\": 336, \"agency_name\": \"Tri Delta Transit\", \"service_date\": \"2022-05-04T00:00:00\", \"num_sched\": 369.0, \"num_vp\": 358.0, \"avg\": 0.9701897018970189}, {\"calitp_itp_id\": 61, \"agency_name\": null, \"service_date\": \"2022-05-04T00:00:00\", \"num_sched\": null, \"num_vp\": null, \"avg\": null}, {\"calitp_itp_id\": 324, \"agency_name\": \"Stanford Marguerite Shuttle\", \"service_date\": \"2022-05-04T00:00:00\", \"num_sched\": 660.0, \"num_vp\": 0.0, \"avg\": 0.0}, {\"calitp_itp_id\": 70, \"agency_name\": \"Sonoma County Transit\", \"service_date\": \"2022-05-04T00:00:00\", \"num_sched\": 251.0, \"num_vp\": 0.0, \"avg\": 0.0}, {\"calitp_itp_id\": 247, \"agency_name\": \"Petaluma Transit\", \"service_date\": \"2022-05-04T00:00:00\", \"num_sched\": 233.0, \"num_vp\": 0.0, \"avg\": 0.0}, {\"calitp_itp_id\": 281, \"agency_name\": \"San Francisco International Airport\", \"service_date\": \"2022-05-04T00:00:00\", \"num_sched\": 1049.0, \"num_vp\": 0.0, \"avg\": 0.0}, {\"calitp_itp_id\": 290, \"agency_name\": \"SamTrans\", \"service_date\": \"2022-05-04T00:00:00\", \"num_sched\": 1455.0, \"num_vp\": 3.0, \"avg\": 0.002061855670103093}, {\"calitp_itp_id\": 350, \"agency_name\": \"Union City Transit\", \"service_date\": \"2022-05-04T00:00:00\", \"num_sched\": 270.0, \"num_vp\": 124.0, \"avg\": 0.45925925925925926}, {\"calitp_itp_id\": 167, \"agency_name\": \"Livermore Amador Valley Transit Authority\", \"service_date\": \"2022-05-04T00:00:00\", \"num_sched\": 338.0, \"num_vp\": 262.0, \"avg\": 0.7751479289940828}, {\"calitp_itp_id\": 201, \"agency_name\": \"Mission Bay TMA\", \"service_date\": \"2022-05-04T00:00:00\", \"num_sched\": 111.0, \"num_vp\": 0.0, \"avg\": 0.0}, {\"calitp_itp_id\": 61, \"agency_name\": \"County Connection\", \"service_date\": \"2022-05-04T00:00:00\", \"num_sched\": 922.0, \"num_vp\": 662.0, \"avg\": 0.7180043383947939}, {\"calitp_itp_id\": 368, \"agency_name\": \"WestCat (Western Contra Costa)\", \"service_date\": \"2022-05-04T00:00:00\", \"num_sched\": 555.0, \"num_vp\": 0.0, \"avg\": 0.0}, {\"calitp_itp_id\": 264, \"agency_name\": \"Rio Vista Delta Breeze\", \"service_date\": \"2022-05-04T00:00:00\", \"num_sched\": 8.0, \"num_vp\": 0.0, \"avg\": 0.0}, {\"calitp_itp_id\": 294, \"agency_name\": \"VTA\", \"service_date\": \"2022-05-04T00:00:00\", \"num_sched\": 3657.0, \"num_vp\": 3560.0, \"avg\": 0.9734755263877495}, {\"calitp_itp_id\": 56, \"agency_name\": \"Capitol Corridor Joint Powers Authority\", \"service_date\": \"2022-05-04T00:00:00\", \"num_sched\": 51.0, \"num_vp\": 0.0, \"avg\": 0.0}, {\"calitp_itp_id\": 314, \"agency_name\": \"Sonoma County Transit\", \"service_date\": \"2022-05-04T00:00:00\", \"num_sched\": 251.0, \"num_vp\": 0.0, \"avg\": 0.0}, {\"calitp_itp_id\": 315, \"agency_name\": \"Sonoma Marin Area Rail Transit\", \"service_date\": \"2022-05-04T00:00:00\", \"num_sched\": 26.0, \"num_vp\": 26.0, \"avg\": 1.0}, {\"calitp_itp_id\": 356, \"agency_name\": \"Vacaville City Coach\", \"service_date\": \"2022-05-04T00:00:00\", \"num_sched\": 123.0, \"num_vp\": 0.0, \"avg\": 0.0}, {\"calitp_itp_id\": 127, \"agency_name\": \"Golden Gate Transit\", \"service_date\": \"2022-05-04T00:00:00\", \"num_sched\": 196.0, \"num_vp\": 196.0, \"avg\": 1.0}, {\"calitp_itp_id\": 194, \"agency_name\": \"Marin Transit\", \"service_date\": \"2022-05-04T00:00:00\", \"num_sched\": 704.0, \"num_vp\": 635.0, \"avg\": 0.9019886363636364}, {\"calitp_itp_id\": 218, \"agency_name\": \"VINE Transit\", \"service_date\": \"2022-05-04T00:00:00\", \"num_sched\": 216.0, \"num_vp\": 182.0, \"avg\": 0.8425925925925926}, {\"calitp_itp_id\": 246, \"agency_name\": \"Caltrain\", \"service_date\": \"2022-05-04T00:00:00\", \"num_sched\": 88.0, \"num_vp\": 68.0, \"avg\": 0.7727272727272727}, {\"calitp_itp_id\": 247, \"agency_name\": \"Petaluma\", \"service_date\": \"2022-05-04T00:00:00\", \"num_sched\": 233.0, \"num_vp\": 158.0, \"avg\": 0.6781115879828327}, {\"calitp_itp_id\": 290, \"agency_name\": null, \"service_date\": \"2022-05-04T00:00:00\", \"num_sched\": null, \"num_vp\": null, \"avg\": null}, {\"calitp_itp_id\": 310, \"agency_name\": \"SolTrans\", \"service_date\": \"2022-05-04T00:00:00\", \"num_sched\": 402.0, \"num_vp\": 349.0, \"avg\": 0.8681592039800995}, {\"calitp_itp_id\": 301, \"agency_name\": \"Santa Rosa CityBus\", \"service_date\": \"2022-05-04T00:00:00\", \"num_sched\": 573.0, \"num_vp\": 515.0, \"avg\": 0.8987783595113438}, {\"calitp_itp_id\": 257, \"agency_name\": \"PresidiGo\", \"service_date\": \"2022-05-04T00:00:00\", \"num_sched\": 45.0, \"num_vp\": 28.0, \"avg\": 0.6222222222222222}, {\"calitp_itp_id\": 106, \"agency_name\": \"Emery Go-Round\", \"service_date\": \"2022-05-04T00:00:00\", \"num_sched\": 133.0, \"num_vp\": 133.0, \"avg\": 1.0}, {\"calitp_itp_id\": 110, \"agency_name\": \"Fairfield and Suisun Transit\", \"service_date\": \"2022-05-04T00:00:00\", \"num_sched\": 317.0, \"num_vp\": 317.0, \"avg\": 1.0}, {\"calitp_itp_id\": 76, \"agency_name\": \"Commute.org Shuttles\", \"service_date\": \"2022-05-04T00:00:00\", \"num_sched\": 250.0, \"num_vp\": 0.0, \"avg\": 0.0}, {\"calitp_itp_id\": 282, \"agency_name\": \"San Francisco Municipal Transportation Agency\", \"service_date\": \"2022-05-04T00:00:00\", \"num_sched\": 8707.0, \"num_vp\": 8268.0, \"avg\": 0.9495807970598369}, {\"calitp_itp_id\": 279, \"agency_name\": null, \"service_date\": \"2022-05-04T00:00:00\", \"num_sched\": null, \"num_vp\": null, \"avg\": null}, {\"calitp_itp_id\": 4, \"agency_name\": \"AC TRANSIT\", \"service_date\": \"2022-05-04T00:00:00\", \"num_sched\": 5378.0, \"num_vp\": 4932.0, \"avg\": 0.9170695425808851}, {\"calitp_itp_id\": 76, \"agency_name\": \"SamTrans\", \"service_date\": \"2022-05-04T00:00:00\", \"num_sched\": 47.0, \"num_vp\": 0.0, \"avg\": 0.0}, {\"calitp_itp_id\": 127, \"agency_name\": null, \"service_date\": \"2022-05-04T00:00:00\", \"num_sched\": null, \"num_vp\": null, \"avg\": null}, {\"calitp_itp_id\": 279, \"agency_name\": \"Bay Area Rapid Transit\", \"service_date\": \"2022-05-04T00:00:00\", \"num_sched\": 1012.0, \"num_vp\": 0.0, \"avg\": 0.0}, {\"calitp_itp_id\": 280, \"agency_name\": \"San Francisco Bay Ferry\", \"service_date\": \"2022-05-04T00:00:00\", \"num_sched\": 141.0, \"num_vp\": 0.0, \"avg\": 0.0}, {\"calitp_itp_id\": 199, \"agency_name\": \"SamTrans\", \"service_date\": \"2022-05-04T00:00:00\", \"num_sched\": 24.0, \"num_vp\": 0.0, \"avg\": 0.0}]}}, {\"mode\": \"vega-lite\"});\n",
       "</script>"
      ],
      "text/plain": [
       "alt.Chart(...)"
      ]
     },
     "execution_count": 24,
     "metadata": {},
     "output_type": "execute_result"
    }
   ],
   "source": [
    "display(HTML(f\"<strong>{district_short_name} \"\n",
    "             f\"Average Percent of Scheduled Trips with Vehicle Postions Data \"\n",
    "             f\"by Route Over Time</strong>\"))\n",
    "display(Markdown(\"To utilize the multi-select, use `shift` when clicking routes in the legend\"))\n",
    "\n",
    "line = alt.Chart(d_agency_date_avg).mark_line(point={\"filled\": False, \"fill\":\"white\"}).encode(\n",
    "    x=alt.X('service_date', title=utils.labeling('service_date')),\n",
    "    y=alt.Y('avg', title=('Percent with Vehicle Positions'), axis=alt.Axis(format='%')),\n",
    "    color=alt.Color('agency_name', title=['Agency Name'],  legend=alt.Legend(columns=3, symbolLimit=0)),\n",
    "    strokeDash='agency_name')\n",
    "\n",
    "line_chart = utils.add_tooltip(line, 'agency_name','service_date', 'avg')\n",
    "line_chart = utils.add_chart_selection(line_chart, 'agency_name')\n",
    "line_chart.properties(width=700)"
   ]
  },
  {
   "cell_type": "code",
   "execution_count": null,
   "id": "106c4995-6ec6-4895-892f-5ca0583eb946",
   "metadata": {},
   "outputs": [],
   "source": []
  },
  {
   "cell_type": "code",
   "execution_count": null,
   "id": "1bd45843-0af3-4694-8e79-f3d1030a1b51",
   "metadata": {},
   "outputs": [],
   "source": []
  },
  {
   "cell_type": "code",
   "execution_count": null,
   "id": "5222a55e-c8dc-4a5c-9fc6-bd4f123dc133",
   "metadata": {},
   "outputs": [],
   "source": [
    "## funky one\n",
    "#may4>>filter(_.agency_name== 'Commute.org Shuttles')"
   ]
  },
  {
   "cell_type": "code",
   "execution_count": null,
   "id": "aeca1323-b5a9-48ba-8dcb-48b045df8808",
   "metadata": {},
   "outputs": [],
   "source": []
  },
  {
   "cell_type": "code",
   "execution_count": null,
   "id": "69a002e5-d848-43af-bb8e-3c3379b7af0e",
   "metadata": {},
   "outputs": [
    {
     "data": {
      "text/html": [
       "<h2>How Much Data is Available in the Current Model?</h2>"
      ],
      "text/plain": [
       "<IPython.core.display.HTML object>"
      ]
     },
     "metadata": {},
     "output_type": "display_data"
    }
   ],
   "source": [
    "display((HTML(\"<h2>How Much Data is Available in the Current Model?</h2>\")))"
   ]
  },
  {
   "cell_type": "code",
   "execution_count": null,
   "id": "ad9c1442-7f58-43b7-a4fa-9590f50d31ed",
   "metadata": {},
   "outputs": [],
   "source": [
    "itp_id_avg = (\"{:.2f}%\".format(((len(d_avg>>filter(_.num_vp==0)>>arrange(_.calitp_itp_id)))/(len(d_avg)))*100))"
   ]
  },
  {
   "cell_type": "code",
   "execution_count": null,
   "id": "ca66d623-d99a-4467-859a-0be62549e2ae",
   "metadata": {},
   "outputs": [
    {
     "data": {
      "text/html": [
       "Out of <strong>38 organizations in District District 4 </strong>with Scheduled Data, there are 15 or <strong>39.47% of organizations</strong> have <strong>no</strong> vehicle position data."
      ],
      "text/plain": [
       "<IPython.core.display.HTML object>"
      ]
     },
     "metadata": {},
     "output_type": "display_data"
    }
   ],
   "source": [
    "display(HTML(f\"Out of <strong>{len(d_avg)} organizations in District {district_short_name} </strong>\"\n",
    "             f\"with Scheduled Data, there are \"\n",
    "             f\"{(len(d_avg>>filter(_.num_vp==0)>>arrange(_.calitp_itp_id)))} or \"\n",
    "             f\"<strong>{itp_id_avg} of organizations</strong> \"\n",
    "             \"have <strong>no</strong> \"\n",
    "             \"vehicle position data.\"))"
   ]
  },
  {
   "cell_type": "code",
   "execution_count": null,
   "id": "35693586-11ee-4a89-9175-5ab29c24123e",
   "metadata": {},
   "outputs": [],
   "source": [
    "df_all_avg = (utils.get_agg_pct(df_all,\n",
    "                            groupings = ['calitp_itp_id', 'agency_name'],\n",
    "                            sum_sched = 'num_sched',\n",
    "                            sum_vp = 'num_vp'))"
   ]
  },
  {
   "cell_type": "code",
   "execution_count": null,
   "id": "2721e248-05d3-43a6-b26f-727995a62cfe",
   "metadata": {},
   "outputs": [],
   "source": [
    "have_vp_list = ((df_all_avg>>filter(_.num_vp!=0)>>arrange(_.calitp_itp_id))>>filter(_.agency_name.notnull())).agency_name.to_list()"
   ]
  },
  {
   "cell_type": "code",
   "execution_count": null,
   "id": "e9abb4ae-0bd5-42a0-91b6-c86b396a9b26",
   "metadata": {},
   "outputs": [
    {
     "data": {
      "text/html": [
       "For all organizations in this dataset, only <strong>28.35%</strong> of the organizations have RT Vehicle Postion Data present"
      ],
      "text/plain": [
       "<IPython.core.display.HTML object>"
      ]
     },
     "metadata": {},
     "output_type": "display_data"
    }
   ],
   "source": [
    "display(HTML(f\"For all organizations in this dataset, only <strong>\"\n",
    "             f\"{('{:.2%}'.format((len(have_vp_list))/(len(df_all_avg>>filter(_.agency_name.notnull())))))}\"\n",
    "             f\"</strong> of the organizations have RT Vehicle Postion Data present\"))"
   ]
  },
  {
   "cell_type": "code",
   "execution_count": null,
   "id": "f81633b3-058e-4cf8-90d2-62fde26d7f3f",
   "metadata": {},
   "outputs": [],
   "source": []
  },
  {
   "cell_type": "code",
   "execution_count": null,
   "id": "91ec0f03-12ef-470f-9c75-490318ba18b0",
   "metadata": {},
   "outputs": [],
   "source": []
  },
  {
   "cell_type": "code",
   "execution_count": null,
   "id": "657ae57e-6ba3-45d7-bedf-d8180dbe2ba1",
   "metadata": {},
   "outputs": [],
   "source": [
    "df_all['has_vp'] = df_all['agency_name'].isin(have_vp_list)\n"
   ]
  },
  {
   "cell_type": "code",
   "execution_count": null,
   "id": "ffff0795-46ae-428e-b703-c182772d06b1",
   "metadata": {},
   "outputs": [],
   "source": [
    "has_vp = df_all>>filter(_.has_vp==True)"
   ]
  },
  {
   "cell_type": "code",
   "execution_count": null,
   "id": "5e64baec-0ee0-449d-b987-0d5c25961ca5",
   "metadata": {},
   "outputs": [],
   "source": []
  },
  {
   "cell_type": "code",
   "execution_count": null,
   "id": "2184ef82-6f9a-454d-8ebf-e8b1b02e68a3",
   "metadata": {},
   "outputs": [
    {
     "data": {
      "text/html": [
       "<strong> District Averages filtered for Organizations with RT Present </strong>"
      ],
      "text/plain": [
       "<IPython.core.display.HTML object>"
      ]
     },
     "metadata": {},
     "output_type": "display_data"
    },
    {
     "data": {
      "text/html": [
       "<style type=\"text/css\">\n",
       "#T_7766d th {\n",
       "  text-align: center;\n",
       "}\n",
       "#T_7766d_row0_col0, #T_7766d_row0_col1, #T_7766d_row1_col0, #T_7766d_row1_col1, #T_7766d_row2_col0, #T_7766d_row2_col1, #T_7766d_row3_col0, #T_7766d_row3_col1, #T_7766d_row4_col0, #T_7766d_row4_col1, #T_7766d_row5_col0, #T_7766d_row5_col1, #T_7766d_row6_col0, #T_7766d_row6_col1, #T_7766d_row7_col0, #T_7766d_row7_col1, #T_7766d_row8_col0, #T_7766d_row8_col1, #T_7766d_row9_col0, #T_7766d_row9_col1, #T_7766d_row10_col0, #T_7766d_row10_col1, #T_7766d_row11_col0, #T_7766d_row11_col1, #T_7766d_row12_col0, #T_7766d_row12_col1 {\n",
       "  text-align: center;\n",
       "}\n",
       "</style>\n",
       "<table id=\"T_7766d\">\n",
       "  <thead>\n",
       "    <tr>\n",
       "      <th id=\"T_7766d_level0_col0\" class=\"col_heading level0 col0\" >Caltrans District</th>\n",
       "      <th id=\"T_7766d_level0_col1\" class=\"col_heading level0 col1\" >Avg Pct</th>\n",
       "    </tr>\n",
       "  </thead>\n",
       "  <tbody>\n",
       "    <tr>\n",
       "      <td id=\"T_7766d_row0_col0\" class=\"data row0 col0\" >01 - Eureka</td>\n",
       "      <td id=\"T_7766d_row0_col1\" class=\"data row0 col1\" >31.01%</td>\n",
       "    </tr>\n",
       "    <tr>\n",
       "      <td id=\"T_7766d_row1_col0\" class=\"data row1 col0\" >02 - Redding</td>\n",
       "      <td id=\"T_7766d_row1_col1\" class=\"data row1 col1\" >40.36%</td>\n",
       "    </tr>\n",
       "    <tr>\n",
       "      <td id=\"T_7766d_row2_col0\" class=\"data row2 col0\" >03 - Marysville</td>\n",
       "      <td id=\"T_7766d_row2_col1\" class=\"data row2 col1\" >9.20%</td>\n",
       "    </tr>\n",
       "    <tr>\n",
       "      <td id=\"T_7766d_row3_col0\" class=\"data row3 col0\" >04 - Oakland</td>\n",
       "      <td id=\"T_7766d_row3_col1\" class=\"data row3 col1\" >86.21%</td>\n",
       "    </tr>\n",
       "    <tr>\n",
       "      <td id=\"T_7766d_row4_col0\" class=\"data row4 col0\" >05 - San Luis Obispo</td>\n",
       "      <td id=\"T_7766d_row4_col1\" class=\"data row4 col1\" >71.33%</td>\n",
       "    </tr>\n",
       "    <tr>\n",
       "      <td id=\"T_7766d_row5_col0\" class=\"data row5 col0\" >06 - Fresno</td>\n",
       "      <td id=\"T_7766d_row5_col1\" class=\"data row5 col1\" >92.43%</td>\n",
       "    </tr>\n",
       "    <tr>\n",
       "      <td id=\"T_7766d_row6_col0\" class=\"data row6 col0\" >07 - Los Angeles</td>\n",
       "      <td id=\"T_7766d_row6_col1\" class=\"data row6 col1\" >88.23%</td>\n",
       "    </tr>\n",
       "    <tr>\n",
       "      <td id=\"T_7766d_row7_col0\" class=\"data row7 col0\" >08 - San Bernardino</td>\n",
       "      <td id=\"T_7766d_row7_col1\" class=\"data row7 col1\" >98.75%</td>\n",
       "    </tr>\n",
       "    <tr>\n",
       "      <td id=\"T_7766d_row8_col0\" class=\"data row8 col0\" >09 - Bishop</td>\n",
       "      <td id=\"T_7766d_row8_col1\" class=\"data row8 col1\" >62.90%</td>\n",
       "    </tr>\n",
       "    <tr>\n",
       "      <td id=\"T_7766d_row9_col0\" class=\"data row9 col0\" >10 - Stockton</td>\n",
       "      <td id=\"T_7766d_row9_col1\" class=\"data row9 col1\" >88.16%</td>\n",
       "    </tr>\n",
       "    <tr>\n",
       "      <td id=\"T_7766d_row10_col0\" class=\"data row10 col0\" >11 - San Diego</td>\n",
       "      <td id=\"T_7766d_row10_col1\" class=\"data row10 col1\" >97.62%</td>\n",
       "    </tr>\n",
       "    <tr>\n",
       "      <td id=\"T_7766d_row11_col0\" class=\"data row11 col0\" >12 - Irvine</td>\n",
       "      <td id=\"T_7766d_row11_col1\" class=\"data row11 col1\" >49.81%</td>\n",
       "    </tr>\n",
       "    <tr>\n",
       "      <td id=\"T_7766d_row12_col0\" class=\"data row12 col0\" >None</td>\n",
       "      <td id=\"T_7766d_row12_col1\" class=\"data row12 col1\" >nan%</td>\n",
       "    </tr>\n",
       "  </tbody>\n",
       "</table>\n"
      ],
      "text/plain": [
       "<IPython.core.display.HTML object>"
      ]
     },
     "metadata": {},
     "output_type": "display_data"
    }
   ],
   "source": [
    "display(HTML(\"<strong> District Averages filtered for Organizations with RT Present </strong>\"))\n",
    "with_rt = (utils.get_agg_pct(has_vp,\n",
    "                            groupings = ['caltrans_district'],\n",
    "                            sum_sched = 'num_sched',\n",
    "                            sum_vp = 'num_vp'))>>select(_.caltrans_district, _.avg)>>arrange(_.caltrans_district)\n",
    "with_rt['avg_pct'] = with_rt['avg'].astype(float).map(\"{:.2%}\".format)\n",
    "display(HTML(dla_utils.pretify_tables(with_rt>>select(_.caltrans_district, _.avg_pct))))"
   ]
  },
  {
   "cell_type": "code",
   "execution_count": null,
   "id": "adcad17d-caed-4ae4-bc26-b287b0e35510",
   "metadata": {},
   "outputs": [
    {
     "data": {
      "text/html": [
       "<strong> District Averages NOT filtered for Organizations with RT Present </strong>"
      ],
      "text/plain": [
       "<IPython.core.display.HTML object>"
      ]
     },
     "metadata": {},
     "output_type": "display_data"
    },
    {
     "data": {
      "text/html": [
       "<style type=\"text/css\">\n",
       "#T_7c431 th {\n",
       "  text-align: center;\n",
       "}\n",
       "#T_7c431_row0_col0, #T_7c431_row0_col1, #T_7c431_row1_col0, #T_7c431_row1_col1, #T_7c431_row2_col0, #T_7c431_row2_col1, #T_7c431_row3_col0, #T_7c431_row3_col1, #T_7c431_row4_col0, #T_7c431_row4_col1, #T_7c431_row5_col0, #T_7c431_row5_col1, #T_7c431_row6_col0, #T_7c431_row6_col1, #T_7c431_row7_col0, #T_7c431_row7_col1, #T_7c431_row8_col0, #T_7c431_row8_col1, #T_7c431_row9_col0, #T_7c431_row9_col1, #T_7c431_row10_col0, #T_7c431_row10_col1, #T_7c431_row11_col0, #T_7c431_row11_col1, #T_7c431_row12_col0, #T_7c431_row12_col1 {\n",
       "  text-align: center;\n",
       "}\n",
       "</style>\n",
       "<table id=\"T_7c431\">\n",
       "  <thead>\n",
       "    <tr>\n",
       "      <th id=\"T_7c431_level0_col0\" class=\"col_heading level0 col0\" >Caltrans District</th>\n",
       "      <th id=\"T_7c431_level0_col1\" class=\"col_heading level0 col1\" >Avg Pct</th>\n",
       "    </tr>\n",
       "  </thead>\n",
       "  <tbody>\n",
       "    <tr>\n",
       "      <td id=\"T_7c431_row0_col0\" class=\"data row0 col0\" >01 - Eureka</td>\n",
       "      <td id=\"T_7c431_row0_col1\" class=\"data row0 col1\" >25.59%</td>\n",
       "    </tr>\n",
       "    <tr>\n",
       "      <td id=\"T_7c431_row1_col0\" class=\"data row1 col0\" >02 - Redding</td>\n",
       "      <td id=\"T_7c431_row1_col1\" class=\"data row1 col1\" >29.60%</td>\n",
       "    </tr>\n",
       "    <tr>\n",
       "      <td id=\"T_7c431_row2_col0\" class=\"data row2 col0\" >03 - Marysville</td>\n",
       "      <td id=\"T_7c431_row2_col1\" class=\"data row2 col1\" >4.26%</td>\n",
       "    </tr>\n",
       "    <tr>\n",
       "      <td id=\"T_7c431_row3_col0\" class=\"data row3 col0\" >04 - Oakland</td>\n",
       "      <td id=\"T_7c431_row3_col1\" class=\"data row3 col1\" >64.13%</td>\n",
       "    </tr>\n",
       "    <tr>\n",
       "      <td id=\"T_7c431_row4_col0\" class=\"data row4 col0\" >05 - San Luis Obispo</td>\n",
       "      <td id=\"T_7c431_row4_col1\" class=\"data row4 col1\" >26.97%</td>\n",
       "    </tr>\n",
       "    <tr>\n",
       "      <td id=\"T_7c431_row5_col0\" class=\"data row5 col0\" >06 - Fresno</td>\n",
       "      <td id=\"T_7c431_row5_col1\" class=\"data row5 col1\" >39.14%</td>\n",
       "    </tr>\n",
       "    <tr>\n",
       "      <td id=\"T_7c431_row6_col0\" class=\"data row6 col0\" >07 - Los Angeles</td>\n",
       "      <td id=\"T_7c431_row6_col1\" class=\"data row6 col1\" >68.81%</td>\n",
       "    </tr>\n",
       "    <tr>\n",
       "      <td id=\"T_7c431_row7_col0\" class=\"data row7 col0\" >08 - San Bernardino</td>\n",
       "      <td id=\"T_7c431_row7_col1\" class=\"data row7 col1\" >52.52%</td>\n",
       "    </tr>\n",
       "    <tr>\n",
       "      <td id=\"T_7c431_row8_col0\" class=\"data row8 col0\" >09 - Bishop</td>\n",
       "      <td id=\"T_7c431_row8_col1\" class=\"data row8 col1\" >62.90%</td>\n",
       "    </tr>\n",
       "    <tr>\n",
       "      <td id=\"T_7c431_row9_col0\" class=\"data row9 col0\" >10 - Stockton</td>\n",
       "      <td id=\"T_7c431_row9_col1\" class=\"data row9 col1\" >68.23%</td>\n",
       "    </tr>\n",
       "    <tr>\n",
       "      <td id=\"T_7c431_row10_col0\" class=\"data row10 col0\" >11 - San Diego</td>\n",
       "      <td id=\"T_7c431_row10_col1\" class=\"data row10 col1\" >95.68%</td>\n",
       "    </tr>\n",
       "    <tr>\n",
       "      <td id=\"T_7c431_row11_col0\" class=\"data row11 col0\" >12 - Irvine</td>\n",
       "      <td id=\"T_7c431_row11_col1\" class=\"data row11 col1\" >49.27%</td>\n",
       "    </tr>\n",
       "    <tr>\n",
       "      <td id=\"T_7c431_row12_col0\" class=\"data row12 col0\" >None</td>\n",
       "      <td id=\"T_7c431_row12_col1\" class=\"data row12 col1\" >nan%</td>\n",
       "    </tr>\n",
       "  </tbody>\n",
       "</table>\n"
      ],
      "text/plain": [
       "<IPython.core.display.HTML object>"
      ]
     },
     "metadata": {},
     "output_type": "display_data"
    }
   ],
   "source": [
    "display(HTML(\"<strong> District Averages NOT filtered for Organizations with RT Present </strong>\"))\n",
    "all_dist_avg['avg_pct'] = all_dist_avg['avg'].astype(float).map(\"{:.2%}\".format)\n",
    "display(HTML(dla_utils.pretify_tables(all_dist_avg>>select(_.caltrans_district, _.avg_pct)>>arrange(_.caltrans_district))))"
   ]
  },
  {
   "cell_type": "code",
   "execution_count": null,
   "id": "43bb9806-b14d-41f6-8248-985bbd78a09c",
   "metadata": {},
   "outputs": [],
   "source": []
  },
  {
   "cell_type": "code",
   "execution_count": null,
   "id": "548fbd01-5ead-4dd5-84dd-a19deb89fda9",
   "metadata": {},
   "outputs": [],
   "source": []
  },
  {
   "cell_type": "code",
   "execution_count": null,
   "id": "b076df72-6a15-44c7-914c-1bcc745c2645",
   "metadata": {},
   "outputs": [
    {
     "data": {
      "text/html": [
       "<h2>Operators in District 4</h2>"
      ],
      "text/plain": [
       "<IPython.core.display.HTML object>"
      ]
     },
     "metadata": {},
     "output_type": "display_data"
    }
   ],
   "source": [
    "display((HTML(f\"<h2>Operators in {district_short_name}</h2>\")))"
   ]
  },
  {
   "cell_type": "code",
   "execution_count": 87,
   "id": "5a664635-596c-4fab-a9da-7f207d79498b",
   "metadata": {},
   "outputs": [],
   "source": [
    "from shared_utils import calitp_color_palette as cp"
   ]
  },
  {
   "cell_type": "code",
   "execution_count": 89,
   "id": "34622a51-8daa-4066-8368-0127623feaee",
   "metadata": {},
   "outputs": [],
   "source": [
    "#from Amanda's utils for Project Prioritization\n",
    "def dual_chart_with_dropdown(\n",
    "    df,\n",
    "    itp_id:str,\n",
    "    dropdown_list: list,\n",
    "    dropdown_field: str,\n",
    "    x_axis_chart2: str,\n",
    "    y_axis_chart2: str,\n",
    "    color_col2: str,\n",
    "    chart2_tooltip_cols: list,\n",
    "    chart_title: str,\n",
    "):\n",
    "    \"\"\"\n",
    "    Two bar charts controlled by a dropdown\n",
    "    Args:\n",
    "        df: the dataframe subsetted to district\n",
    "        dropdown_list(list): a list of all the values in the dropdown menu,\n",
    "        dropdown_field(str): column where the dropdown menu's values are drawn from,\n",
    "        x_axis_chart1(str): x axis value for chart 1 encode as Q or N,\n",
    "        y_axis_chart1(str): y axis valuefor chart 1 encode as Q or N,\n",
    "        color_col1(str): column to color the graphs for chart 1,\n",
    "        chart1_tooltip_cols(list): list of all the columns to populate the tooltip,\n",
    "        x_axis_chart2(str): x axis value for chart 2 encode as Q or N,\n",
    "        y_axis_chart2(str): x axis value for chart 2 encode as Q or N,\n",
    "        color_col2(str): column to color the graphs for chart 2,\n",
    "        chart2_tooltip_cols(list): list of all the columns to populate the tooltip,\n",
    "        chart_title(str):chart title,\n",
    "    Returns:\n",
    "        Returns two  bar charts that are controlled by a dropdown\n",
    "    \"\"\"\n",
    "    # Create drop down menu\n",
    "    input_dropdown = alt.binding_select(options=dropdown_list, name=\"Select\")\n",
    "\n",
    "    # The field tied to the drop down menu\n",
    "    selection = alt.selection_single(fields=[dropdown_field], bind=input_dropdown)\n",
    "    \n",
    "    #chart to get single agency vs total in district\n",
    "    chart1 = (utils.total_average_with_1op_chart(df, itp_id)).mark_trail().encode(size='Percent with Vehicle Position Data:Q')\n",
    "\n",
    "    chart2 = (\n",
    "        alt.Chart(df)\n",
    "        .mark_bar()\n",
    "        .encode(\n",
    "            x=x_axis_chart2,\n",
    "            y=y_axis_chart2,\n",
    "            color=alt.Color(\n",
    "                color_col2, scale=alt.Scale(range=cp.CALITP_CATEGORY_BRIGHT_COLORS)\n",
    "                , legend = None\n",
    "            ),\n",
    "            tooltip=chart2_tooltip_cols,\n",
    "        )\n",
    "        .add_selection(selection)\n",
    "        .transform_filter(selection)\n",
    "    )\n",
    "    # chart1 = preset_chart_config(chart1)\n",
    "    # chart2 = preset_chart_config(chart2)\n",
    "    return chart1 | chart2"
   ]
  },
  {
   "cell_type": "code",
   "execution_count": null,
   "id": "9981b7f2-6938-4813-ab86-23eab66e9c61",
   "metadata": {},
   "outputs": [],
   "source": []
  },
  {
   "cell_type": "code",
   "execution_count": 90,
   "id": "36a56cb5-0980-42b9-87fd-cdcb51c28484",
   "metadata": {},
   "outputs": [],
   "source": [
    "d_agency_list = d_avg.agency_name.to_list()"
   ]
  },
  {
   "cell_type": "code",
   "execution_count": 91,
   "id": "86578cb9-7f5b-41e1-b6ef-c78347f67301",
   "metadata": {},
   "outputs": [
    {
     "data": {
      "text/html": [
       "<div>\n",
       "<style scoped>\n",
       "    .dataframe tbody tr th:only-of-type {\n",
       "        vertical-align: middle;\n",
       "    }\n",
       "\n",
       "    .dataframe tbody tr th {\n",
       "        vertical-align: top;\n",
       "    }\n",
       "\n",
       "    .dataframe thead th {\n",
       "        text-align: right;\n",
       "    }\n",
       "</style>\n",
       "<table border=\"1\" class=\"dataframe\">\n",
       "  <thead>\n",
       "    <tr style=\"text-align: right;\">\n",
       "      <th></th>\n",
       "      <th>calitp_itp_id</th>\n",
       "      <th>agency_name</th>\n",
       "      <th>calitp_url_number</th>\n",
       "      <th>route_id</th>\n",
       "      <th>route_short_name</th>\n",
       "      <th>service_date</th>\n",
       "      <th>calitp_extracted_at</th>\n",
       "      <th>calitp_deleted_at</th>\n",
       "      <th>num_sched</th>\n",
       "      <th>num_vp</th>\n",
       "      <th>pct_w_vp</th>\n",
       "      <th>weekday</th>\n",
       "      <th>month</th>\n",
       "      <th>caltrans_district</th>\n",
       "    </tr>\n",
       "  </thead>\n",
       "  <tbody>\n",
       "    <tr>\n",
       "      <th>803</th>\n",
       "      <td>290</td>\n",
       "      <td>SamTrans</td>\n",
       "      <td>1</td>\n",
       "      <td>278</td>\n",
       "      <td>278</td>\n",
       "      <td>2022-05-04</td>\n",
       "      <td>2021-04-16</td>\n",
       "      <td>2022-07-23</td>\n",
       "      <td>28</td>\n",
       "      <td>0</td>\n",
       "      <td>0.00</td>\n",
       "      <td>Wednesday</td>\n",
       "      <td>May</td>\n",
       "      <td>04 - Oakland</td>\n",
       "    </tr>\n",
       "  </tbody>\n",
       "</table>\n",
       "</div>"
      ],
      "text/plain": [
       "     calitp_itp_id agency_name  calitp_url_number route_id route_short_name  \\\n",
       "803            290    SamTrans                  1      278              278   \n",
       "\n",
       "    service_date calitp_extracted_at calitp_deleted_at  num_sched  num_vp  \\\n",
       "803   2022-05-04          2021-04-16        2022-07-23         28       0   \n",
       "\n",
       "     pct_w_vp    weekday month caltrans_district  \n",
       "803      0.00  Wednesday   May      04 - Oakland  "
      ]
     },
     "execution_count": 91,
     "metadata": {},
     "output_type": "execute_result"
    }
   ],
   "source": [
    "d.sample()"
   ]
  },
  {
   "cell_type": "code",
   "execution_count": 92,
   "id": "ff14b862-f4f7-48bc-ba96-04a57157ce36",
   "metadata": {},
   "outputs": [],
   "source": [
    "d_agencies = (d>>group_by(_.calitp_itp_id, _.agency_name)>>count(_.agency_name))"
   ]
  },
  {
   "cell_type": "code",
   "execution_count": 93,
   "id": "e211fa51-57ae-4d4e-adb5-b4ec543a7ac2",
   "metadata": {},
   "outputs": [
    {
     "data": {
      "text/plain": [
       "{4: 'AC TRANSIT',\n",
       " 56: 'Capitol Corridor Joint Powers Authority',\n",
       " 61: 'County Connection',\n",
       " 70: 'Sonoma County Transit',\n",
       " 76: 'SamTrans',\n",
       " 106: 'Emery Go-Round',\n",
       " 110: 'Fairfield and Suisun Transit',\n",
       " 127: 'Golden Gate Transit',\n",
       " 167: 'Livermore Amador Valley Transit Authority',\n",
       " 194: 'Marin Transit',\n",
       " 199: 'SamTrans',\n",
       " 201: 'Mission Bay TMA',\n",
       " 218: 'VINE Transit',\n",
       " 246: 'Caltrain',\n",
       " 247: 'Petaluma Transit',\n",
       " 257: 'PresidiGo',\n",
       " 264: 'Rio Vista Delta Breeze',\n",
       " 279: 'Bay Area Rapid Transit',\n",
       " 280: 'San Francisco Bay Ferry',\n",
       " 281: 'San Francisco International Airport',\n",
       " 282: 'San Francisco Municipal Transportation Agency',\n",
       " 290: 'SamTrans',\n",
       " 294: 'VTA',\n",
       " 301: 'Santa Rosa CityBus',\n",
       " 310: 'SolTrans',\n",
       " 314: 'Sonoma County Transit',\n",
       " 315: 'Sonoma Marin Area Rail Transit',\n",
       " 324: 'Stanford Marguerite Shuttle',\n",
       " 336: 'Tri Delta Transit',\n",
       " 350: 'Union City Transit',\n",
       " 356: 'Vacaville City Coach',\n",
       " 368: 'WestCat (Western Contra Costa)'}"
      ]
     },
     "execution_count": 93,
     "metadata": {},
     "output_type": "execute_result"
    }
   ],
   "source": [
    "d_agencies.set_index('calitp_itp_id')['agency_name'].to_dict()"
   ]
  },
  {
   "cell_type": "code",
   "execution_count": 100,
   "id": "86d28277-28d6-4707-82c1-f8dc1d47493d",
   "metadata": {},
   "outputs": [
    {
     "ename": "TypeError",
     "evalue": "Object of type date is not JSON serializable",
     "output_type": "error",
     "traceback": [
      "\u001b[0;31m---------------------------------------------------------------------------\u001b[0m",
      "\u001b[0;31mTypeError\u001b[0m                                 Traceback (most recent call last)",
      "File \u001b[0;32m/opt/conda/lib/python3.10/site-packages/altair/vegalite/v4/api.py:384\u001b[0m, in \u001b[0;36mTopLevelMixin.to_dict\u001b[0;34m(self, *args, **kwargs)\u001b[0m\n\u001b[1;32m    381\u001b[0m kwargs[\u001b[38;5;124m\"\u001b[39m\u001b[38;5;124mcontext\u001b[39m\u001b[38;5;124m\"\u001b[39m] \u001b[38;5;241m=\u001b[39m context\n\u001b[1;32m    383\u001b[0m \u001b[38;5;28;01mtry\u001b[39;00m:\n\u001b[0;32m--> 384\u001b[0m     dct \u001b[38;5;241m=\u001b[39m \u001b[38;5;28;43msuper\u001b[39;49m\u001b[43m(\u001b[49m\u001b[43mTopLevelMixin\u001b[49m\u001b[43m,\u001b[49m\u001b[43m \u001b[49m\u001b[43mcopy\u001b[49m\u001b[43m)\u001b[49m\u001b[38;5;241;43m.\u001b[39;49m\u001b[43mto_dict\u001b[49m\u001b[43m(\u001b[49m\u001b[38;5;241;43m*\u001b[39;49m\u001b[43margs\u001b[49m\u001b[43m,\u001b[49m\u001b[43m \u001b[49m\u001b[38;5;241;43m*\u001b[39;49m\u001b[38;5;241;43m*\u001b[39;49m\u001b[43mkwargs\u001b[49m\u001b[43m)\u001b[49m\n\u001b[1;32m    385\u001b[0m \u001b[38;5;28;01mexcept\u001b[39;00m jsonschema\u001b[38;5;241m.\u001b[39mValidationError:\n\u001b[1;32m    386\u001b[0m     dct \u001b[38;5;241m=\u001b[39m \u001b[38;5;28;01mNone\u001b[39;00m\n",
      "File \u001b[0;32m/opt/conda/lib/python3.10/site-packages/altair/utils/schemapi.py:326\u001b[0m, in \u001b[0;36mSchemaBase.to_dict\u001b[0;34m(self, validate, ignore, context)\u001b[0m\n\u001b[1;32m    324\u001b[0m     result \u001b[38;5;241m=\u001b[39m _todict(\u001b[38;5;28mself\u001b[39m\u001b[38;5;241m.\u001b[39m_args[\u001b[38;5;241m0\u001b[39m], validate\u001b[38;5;241m=\u001b[39msub_validate, context\u001b[38;5;241m=\u001b[39mcontext)\n\u001b[1;32m    325\u001b[0m \u001b[38;5;28;01melif\u001b[39;00m \u001b[38;5;129;01mnot\u001b[39;00m \u001b[38;5;28mself\u001b[39m\u001b[38;5;241m.\u001b[39m_args:\n\u001b[0;32m--> 326\u001b[0m     result \u001b[38;5;241m=\u001b[39m \u001b[43m_todict\u001b[49m\u001b[43m(\u001b[49m\n\u001b[1;32m    327\u001b[0m \u001b[43m        \u001b[49m\u001b[43m{\u001b[49m\u001b[43mk\u001b[49m\u001b[43m:\u001b[49m\u001b[43m \u001b[49m\u001b[43mv\u001b[49m\u001b[43m \u001b[49m\u001b[38;5;28;43;01mfor\u001b[39;49;00m\u001b[43m \u001b[49m\u001b[43mk\u001b[49m\u001b[43m,\u001b[49m\u001b[43m \u001b[49m\u001b[43mv\u001b[49m\u001b[43m \u001b[49m\u001b[38;5;129;43;01min\u001b[39;49;00m\u001b[43m \u001b[49m\u001b[38;5;28;43mself\u001b[39;49m\u001b[38;5;241;43m.\u001b[39;49m\u001b[43m_kwds\u001b[49m\u001b[38;5;241;43m.\u001b[39;49m\u001b[43mitems\u001b[49m\u001b[43m(\u001b[49m\u001b[43m)\u001b[49m\u001b[43m \u001b[49m\u001b[38;5;28;43;01mif\u001b[39;49;00m\u001b[43m \u001b[49m\u001b[43mk\u001b[49m\u001b[43m \u001b[49m\u001b[38;5;129;43;01mnot\u001b[39;49;00m\u001b[43m \u001b[49m\u001b[38;5;129;43;01min\u001b[39;49;00m\u001b[43m \u001b[49m\u001b[43mignore\u001b[49m\u001b[43m}\u001b[49m\u001b[43m,\u001b[49m\n\u001b[1;32m    328\u001b[0m \u001b[43m        \u001b[49m\u001b[43mvalidate\u001b[49m\u001b[38;5;241;43m=\u001b[39;49m\u001b[43msub_validate\u001b[49m\u001b[43m,\u001b[49m\n\u001b[1;32m    329\u001b[0m \u001b[43m        \u001b[49m\u001b[43mcontext\u001b[49m\u001b[38;5;241;43m=\u001b[39;49m\u001b[43mcontext\u001b[49m\u001b[43m,\u001b[49m\n\u001b[1;32m    330\u001b[0m \u001b[43m    \u001b[49m\u001b[43m)\u001b[49m\n\u001b[1;32m    331\u001b[0m \u001b[38;5;28;01melse\u001b[39;00m:\n\u001b[1;32m    332\u001b[0m     \u001b[38;5;28;01mraise\u001b[39;00m \u001b[38;5;167;01mValueError\u001b[39;00m(\n\u001b[1;32m    333\u001b[0m         \u001b[38;5;124m\"\u001b[39m\u001b[38;5;132;01m{}\u001b[39;00m\u001b[38;5;124m instance has both a value and properties : \u001b[39m\u001b[38;5;124m\"\u001b[39m\n\u001b[1;32m    334\u001b[0m         \u001b[38;5;124m\"\u001b[39m\u001b[38;5;124mcannot serialize to dict\u001b[39m\u001b[38;5;124m\"\u001b[39m\u001b[38;5;241m.\u001b[39mformat(\u001b[38;5;28mself\u001b[39m\u001b[38;5;241m.\u001b[39m\u001b[38;5;18m__class__\u001b[39m)\n\u001b[1;32m    335\u001b[0m     )\n",
      "File \u001b[0;32m/opt/conda/lib/python3.10/site-packages/altair/utils/schemapi.py:60\u001b[0m, in \u001b[0;36m_todict\u001b[0;34m(obj, validate, context)\u001b[0m\n\u001b[1;32m     58\u001b[0m     \u001b[38;5;28;01mreturn\u001b[39;00m [_todict(v, validate, context) \u001b[38;5;28;01mfor\u001b[39;00m v \u001b[38;5;129;01min\u001b[39;00m obj]\n\u001b[1;32m     59\u001b[0m \u001b[38;5;28;01melif\u001b[39;00m \u001b[38;5;28misinstance\u001b[39m(obj, \u001b[38;5;28mdict\u001b[39m):\n\u001b[0;32m---> 60\u001b[0m     \u001b[38;5;28;01mreturn\u001b[39;00m {\n\u001b[1;32m     61\u001b[0m         k: _todict(v, validate, context)\n\u001b[1;32m     62\u001b[0m         \u001b[38;5;28;01mfor\u001b[39;00m k, v \u001b[38;5;129;01min\u001b[39;00m obj\u001b[38;5;241m.\u001b[39mitems()\n\u001b[1;32m     63\u001b[0m         \u001b[38;5;28;01mif\u001b[39;00m v \u001b[38;5;129;01mis\u001b[39;00m \u001b[38;5;129;01mnot\u001b[39;00m Undefined\n\u001b[1;32m     64\u001b[0m     }\n\u001b[1;32m     65\u001b[0m \u001b[38;5;28;01melif\u001b[39;00m \u001b[38;5;28mhasattr\u001b[39m(obj, \u001b[38;5;124m\"\u001b[39m\u001b[38;5;124mto_dict\u001b[39m\u001b[38;5;124m\"\u001b[39m):\n\u001b[1;32m     66\u001b[0m     \u001b[38;5;28;01mreturn\u001b[39;00m obj\u001b[38;5;241m.\u001b[39mto_dict()\n",
      "File \u001b[0;32m/opt/conda/lib/python3.10/site-packages/altair/utils/schemapi.py:61\u001b[0m, in \u001b[0;36m<dictcomp>\u001b[0;34m(.0)\u001b[0m\n\u001b[1;32m     58\u001b[0m     \u001b[38;5;28;01mreturn\u001b[39;00m [_todict(v, validate, context) \u001b[38;5;28;01mfor\u001b[39;00m v \u001b[38;5;129;01min\u001b[39;00m obj]\n\u001b[1;32m     59\u001b[0m \u001b[38;5;28;01melif\u001b[39;00m \u001b[38;5;28misinstance\u001b[39m(obj, \u001b[38;5;28mdict\u001b[39m):\n\u001b[1;32m     60\u001b[0m     \u001b[38;5;28;01mreturn\u001b[39;00m {\n\u001b[0;32m---> 61\u001b[0m         k: \u001b[43m_todict\u001b[49m\u001b[43m(\u001b[49m\u001b[43mv\u001b[49m\u001b[43m,\u001b[49m\u001b[43m \u001b[49m\u001b[43mvalidate\u001b[49m\u001b[43m,\u001b[49m\u001b[43m \u001b[49m\u001b[43mcontext\u001b[49m\u001b[43m)\u001b[49m\n\u001b[1;32m     62\u001b[0m         \u001b[38;5;28;01mfor\u001b[39;00m k, v \u001b[38;5;129;01min\u001b[39;00m obj\u001b[38;5;241m.\u001b[39mitems()\n\u001b[1;32m     63\u001b[0m         \u001b[38;5;28;01mif\u001b[39;00m v \u001b[38;5;129;01mis\u001b[39;00m \u001b[38;5;129;01mnot\u001b[39;00m Undefined\n\u001b[1;32m     64\u001b[0m     }\n\u001b[1;32m     65\u001b[0m \u001b[38;5;28;01melif\u001b[39;00m \u001b[38;5;28mhasattr\u001b[39m(obj, \u001b[38;5;124m\"\u001b[39m\u001b[38;5;124mto_dict\u001b[39m\u001b[38;5;124m\"\u001b[39m):\n\u001b[1;32m     66\u001b[0m     \u001b[38;5;28;01mreturn\u001b[39;00m obj\u001b[38;5;241m.\u001b[39mto_dict()\n",
      "File \u001b[0;32m/opt/conda/lib/python3.10/site-packages/altair/utils/schemapi.py:58\u001b[0m, in \u001b[0;36m_todict\u001b[0;34m(obj, validate, context)\u001b[0m\n\u001b[1;32m     56\u001b[0m     \u001b[38;5;28;01mreturn\u001b[39;00m obj\u001b[38;5;241m.\u001b[39mto_dict(validate\u001b[38;5;241m=\u001b[39mvalidate, context\u001b[38;5;241m=\u001b[39mcontext)\n\u001b[1;32m     57\u001b[0m \u001b[38;5;28;01melif\u001b[39;00m \u001b[38;5;28misinstance\u001b[39m(obj, (\u001b[38;5;28mlist\u001b[39m, \u001b[38;5;28mtuple\u001b[39m, np\u001b[38;5;241m.\u001b[39mndarray)):\n\u001b[0;32m---> 58\u001b[0m     \u001b[38;5;28;01mreturn\u001b[39;00m [_todict(v, validate, context) \u001b[38;5;28;01mfor\u001b[39;00m v \u001b[38;5;129;01min\u001b[39;00m obj]\n\u001b[1;32m     59\u001b[0m \u001b[38;5;28;01melif\u001b[39;00m \u001b[38;5;28misinstance\u001b[39m(obj, \u001b[38;5;28mdict\u001b[39m):\n\u001b[1;32m     60\u001b[0m     \u001b[38;5;28;01mreturn\u001b[39;00m {\n\u001b[1;32m     61\u001b[0m         k: _todict(v, validate, context)\n\u001b[1;32m     62\u001b[0m         \u001b[38;5;28;01mfor\u001b[39;00m k, v \u001b[38;5;129;01min\u001b[39;00m obj\u001b[38;5;241m.\u001b[39mitems()\n\u001b[1;32m     63\u001b[0m         \u001b[38;5;28;01mif\u001b[39;00m v \u001b[38;5;129;01mis\u001b[39;00m \u001b[38;5;129;01mnot\u001b[39;00m Undefined\n\u001b[1;32m     64\u001b[0m     }\n",
      "File \u001b[0;32m/opt/conda/lib/python3.10/site-packages/altair/utils/schemapi.py:58\u001b[0m, in \u001b[0;36m<listcomp>\u001b[0;34m(.0)\u001b[0m\n\u001b[1;32m     56\u001b[0m     \u001b[38;5;28;01mreturn\u001b[39;00m obj\u001b[38;5;241m.\u001b[39mto_dict(validate\u001b[38;5;241m=\u001b[39mvalidate, context\u001b[38;5;241m=\u001b[39mcontext)\n\u001b[1;32m     57\u001b[0m \u001b[38;5;28;01melif\u001b[39;00m \u001b[38;5;28misinstance\u001b[39m(obj, (\u001b[38;5;28mlist\u001b[39m, \u001b[38;5;28mtuple\u001b[39m, np\u001b[38;5;241m.\u001b[39mndarray)):\n\u001b[0;32m---> 58\u001b[0m     \u001b[38;5;28;01mreturn\u001b[39;00m [\u001b[43m_todict\u001b[49m\u001b[43m(\u001b[49m\u001b[43mv\u001b[49m\u001b[43m,\u001b[49m\u001b[43m \u001b[49m\u001b[43mvalidate\u001b[49m\u001b[43m,\u001b[49m\u001b[43m \u001b[49m\u001b[43mcontext\u001b[49m\u001b[43m)\u001b[49m \u001b[38;5;28;01mfor\u001b[39;00m v \u001b[38;5;129;01min\u001b[39;00m obj]\n\u001b[1;32m     59\u001b[0m \u001b[38;5;28;01melif\u001b[39;00m \u001b[38;5;28misinstance\u001b[39m(obj, \u001b[38;5;28mdict\u001b[39m):\n\u001b[1;32m     60\u001b[0m     \u001b[38;5;28;01mreturn\u001b[39;00m {\n\u001b[1;32m     61\u001b[0m         k: _todict(v, validate, context)\n\u001b[1;32m     62\u001b[0m         \u001b[38;5;28;01mfor\u001b[39;00m k, v \u001b[38;5;129;01min\u001b[39;00m obj\u001b[38;5;241m.\u001b[39mitems()\n\u001b[1;32m     63\u001b[0m         \u001b[38;5;28;01mif\u001b[39;00m v \u001b[38;5;129;01mis\u001b[39;00m \u001b[38;5;129;01mnot\u001b[39;00m Undefined\n\u001b[1;32m     64\u001b[0m     }\n",
      "File \u001b[0;32m/opt/conda/lib/python3.10/site-packages/altair/utils/schemapi.py:56\u001b[0m, in \u001b[0;36m_todict\u001b[0;34m(obj, validate, context)\u001b[0m\n\u001b[1;32m     54\u001b[0m \u001b[38;5;124;03m\"\"\"Convert an object to a dict representation.\"\"\"\u001b[39;00m\n\u001b[1;32m     55\u001b[0m \u001b[38;5;28;01mif\u001b[39;00m \u001b[38;5;28misinstance\u001b[39m(obj, SchemaBase):\n\u001b[0;32m---> 56\u001b[0m     \u001b[38;5;28;01mreturn\u001b[39;00m \u001b[43mobj\u001b[49m\u001b[38;5;241;43m.\u001b[39;49m\u001b[43mto_dict\u001b[49m\u001b[43m(\u001b[49m\u001b[43mvalidate\u001b[49m\u001b[38;5;241;43m=\u001b[39;49m\u001b[43mvalidate\u001b[49m\u001b[43m,\u001b[49m\u001b[43m \u001b[49m\u001b[43mcontext\u001b[49m\u001b[38;5;241;43m=\u001b[39;49m\u001b[43mcontext\u001b[49m\u001b[43m)\u001b[49m\n\u001b[1;32m     57\u001b[0m \u001b[38;5;28;01melif\u001b[39;00m \u001b[38;5;28misinstance\u001b[39m(obj, (\u001b[38;5;28mlist\u001b[39m, \u001b[38;5;28mtuple\u001b[39m, np\u001b[38;5;241m.\u001b[39mndarray)):\n\u001b[1;32m     58\u001b[0m     \u001b[38;5;28;01mreturn\u001b[39;00m [_todict(v, validate, context) \u001b[38;5;28;01mfor\u001b[39;00m v \u001b[38;5;129;01min\u001b[39;00m obj]\n",
      "File \u001b[0;32m/opt/conda/lib/python3.10/site-packages/altair/vegalite/v4/api.py:2020\u001b[0m, in \u001b[0;36mChart.to_dict\u001b[0;34m(self, *args, **kwargs)\u001b[0m\n\u001b[1;32m   2018\u001b[0m     copy\u001b[38;5;241m.\u001b[39mdata \u001b[38;5;241m=\u001b[39m core\u001b[38;5;241m.\u001b[39mInlineData(values\u001b[38;5;241m=\u001b[39m[{}])\n\u001b[1;32m   2019\u001b[0m     \u001b[38;5;28;01mreturn\u001b[39;00m \u001b[38;5;28msuper\u001b[39m(Chart, copy)\u001b[38;5;241m.\u001b[39mto_dict(\u001b[38;5;241m*\u001b[39margs, \u001b[38;5;241m*\u001b[39m\u001b[38;5;241m*\u001b[39mkwargs)\n\u001b[0;32m-> 2020\u001b[0m \u001b[38;5;28;01mreturn\u001b[39;00m \u001b[38;5;28;43msuper\u001b[39;49m\u001b[43m(\u001b[49m\u001b[43m)\u001b[49m\u001b[38;5;241;43m.\u001b[39;49m\u001b[43mto_dict\u001b[49m\u001b[43m(\u001b[49m\u001b[38;5;241;43m*\u001b[39;49m\u001b[43margs\u001b[49m\u001b[43m,\u001b[49m\u001b[43m \u001b[49m\u001b[38;5;241;43m*\u001b[39;49m\u001b[38;5;241;43m*\u001b[39;49m\u001b[43mkwargs\u001b[49m\u001b[43m)\u001b[49m\n",
      "File \u001b[0;32m/opt/conda/lib/python3.10/site-packages/altair/vegalite/v4/api.py:374\u001b[0m, in \u001b[0;36mTopLevelMixin.to_dict\u001b[0;34m(self, *args, **kwargs)\u001b[0m\n\u001b[1;32m    372\u001b[0m copy \u001b[38;5;241m=\u001b[39m \u001b[38;5;28mself\u001b[39m\u001b[38;5;241m.\u001b[39mcopy(deep\u001b[38;5;241m=\u001b[39m\u001b[38;5;28;01mFalse\u001b[39;00m)\n\u001b[1;32m    373\u001b[0m original_data \u001b[38;5;241m=\u001b[39m \u001b[38;5;28mgetattr\u001b[39m(copy, \u001b[38;5;124m\"\u001b[39m\u001b[38;5;124mdata\u001b[39m\u001b[38;5;124m\"\u001b[39m, Undefined)\n\u001b[0;32m--> 374\u001b[0m copy\u001b[38;5;241m.\u001b[39mdata \u001b[38;5;241m=\u001b[39m \u001b[43m_prepare_data\u001b[49m\u001b[43m(\u001b[49m\u001b[43moriginal_data\u001b[49m\u001b[43m,\u001b[49m\u001b[43m \u001b[49m\u001b[43mcontext\u001b[49m\u001b[43m)\u001b[49m\n\u001b[1;32m    376\u001b[0m \u001b[38;5;28;01mif\u001b[39;00m original_data \u001b[38;5;129;01mis\u001b[39;00m \u001b[38;5;129;01mnot\u001b[39;00m Undefined:\n\u001b[1;32m    377\u001b[0m     context[\u001b[38;5;124m\"\u001b[39m\u001b[38;5;124mdata\u001b[39m\u001b[38;5;124m\"\u001b[39m] \u001b[38;5;241m=\u001b[39m original_data\n",
      "File \u001b[0;32m/opt/conda/lib/python3.10/site-packages/altair/vegalite/v4/api.py:97\u001b[0m, in \u001b[0;36m_prepare_data\u001b[0;34m(data, context)\u001b[0m\n\u001b[1;32m     95\u001b[0m \u001b[38;5;66;03m# consolidate inline data to top-level datasets\u001b[39;00m\n\u001b[1;32m     96\u001b[0m \u001b[38;5;28;01mif\u001b[39;00m context \u001b[38;5;129;01mis\u001b[39;00m \u001b[38;5;129;01mnot\u001b[39;00m \u001b[38;5;28;01mNone\u001b[39;00m \u001b[38;5;129;01mand\u001b[39;00m data_transformers\u001b[38;5;241m.\u001b[39mconsolidate_datasets:\n\u001b[0;32m---> 97\u001b[0m     data \u001b[38;5;241m=\u001b[39m \u001b[43m_consolidate_data\u001b[49m\u001b[43m(\u001b[49m\u001b[43mdata\u001b[49m\u001b[43m,\u001b[49m\u001b[43m \u001b[49m\u001b[43mcontext\u001b[49m\u001b[43m)\u001b[49m\n\u001b[1;32m     99\u001b[0m \u001b[38;5;66;03m# if data is still not a recognized type, then return\u001b[39;00m\n\u001b[1;32m    100\u001b[0m \u001b[38;5;28;01mif\u001b[39;00m \u001b[38;5;129;01mnot\u001b[39;00m \u001b[38;5;28misinstance\u001b[39m(data, (\u001b[38;5;28mdict\u001b[39m, core\u001b[38;5;241m.\u001b[39mData)):\n",
      "File \u001b[0;32m/opt/conda/lib/python3.10/site-packages/altair/vegalite/v4/api.py:64\u001b[0m, in \u001b[0;36m_consolidate_data\u001b[0;34m(data, context)\u001b[0m\n\u001b[1;32m     61\u001b[0m         kwds \u001b[38;5;241m=\u001b[39m {k: v \u001b[38;5;28;01mfor\u001b[39;00m k, v \u001b[38;5;129;01min\u001b[39;00m data\u001b[38;5;241m.\u001b[39mitems() \u001b[38;5;28;01mif\u001b[39;00m k \u001b[38;5;241m!=\u001b[39m \u001b[38;5;124m\"\u001b[39m\u001b[38;5;124mvalues\u001b[39m\u001b[38;5;124m\"\u001b[39m}\n\u001b[1;32m     63\u001b[0m \u001b[38;5;28;01mif\u001b[39;00m values \u001b[38;5;129;01mis\u001b[39;00m \u001b[38;5;129;01mnot\u001b[39;00m Undefined:\n\u001b[0;32m---> 64\u001b[0m     name \u001b[38;5;241m=\u001b[39m \u001b[43m_dataset_name\u001b[49m\u001b[43m(\u001b[49m\u001b[43mvalues\u001b[49m\u001b[43m)\u001b[49m\n\u001b[1;32m     65\u001b[0m     data \u001b[38;5;241m=\u001b[39m core\u001b[38;5;241m.\u001b[39mNamedData(name\u001b[38;5;241m=\u001b[39mname, \u001b[38;5;241m*\u001b[39m\u001b[38;5;241m*\u001b[39mkwds)\n\u001b[1;32m     66\u001b[0m     context\u001b[38;5;241m.\u001b[39msetdefault(\u001b[38;5;124m\"\u001b[39m\u001b[38;5;124mdatasets\u001b[39m\u001b[38;5;124m\"\u001b[39m, {})[name] \u001b[38;5;241m=\u001b[39m values\n",
      "File \u001b[0;32m/opt/conda/lib/python3.10/site-packages/altair/vegalite/v4/api.py:37\u001b[0m, in \u001b[0;36m_dataset_name\u001b[0;34m(values)\u001b[0m\n\u001b[1;32m     35\u001b[0m \u001b[38;5;28;01mif\u001b[39;00m values \u001b[38;5;241m==\u001b[39m [{}]:\n\u001b[1;32m     36\u001b[0m     \u001b[38;5;28;01mreturn\u001b[39;00m \u001b[38;5;124m\"\u001b[39m\u001b[38;5;124mempty\u001b[39m\u001b[38;5;124m\"\u001b[39m\n\u001b[0;32m---> 37\u001b[0m values_json \u001b[38;5;241m=\u001b[39m \u001b[43mjson\u001b[49m\u001b[38;5;241;43m.\u001b[39;49m\u001b[43mdumps\u001b[49m\u001b[43m(\u001b[49m\u001b[43mvalues\u001b[49m\u001b[43m,\u001b[49m\u001b[43m \u001b[49m\u001b[43msort_keys\u001b[49m\u001b[38;5;241;43m=\u001b[39;49m\u001b[38;5;28;43;01mTrue\u001b[39;49;00m\u001b[43m)\u001b[49m\n\u001b[1;32m     38\u001b[0m hsh \u001b[38;5;241m=\u001b[39m hashlib\u001b[38;5;241m.\u001b[39mmd5(values_json\u001b[38;5;241m.\u001b[39mencode())\u001b[38;5;241m.\u001b[39mhexdigest()\n\u001b[1;32m     39\u001b[0m \u001b[38;5;28;01mreturn\u001b[39;00m \u001b[38;5;124m\"\u001b[39m\u001b[38;5;124mdata-\u001b[39m\u001b[38;5;124m\"\u001b[39m \u001b[38;5;241m+\u001b[39m hsh\n",
      "File \u001b[0;32m/opt/conda/lib/python3.10/json/__init__.py:238\u001b[0m, in \u001b[0;36mdumps\u001b[0;34m(obj, skipkeys, ensure_ascii, check_circular, allow_nan, cls, indent, separators, default, sort_keys, **kw)\u001b[0m\n\u001b[1;32m    232\u001b[0m \u001b[38;5;28;01mif\u001b[39;00m \u001b[38;5;28mcls\u001b[39m \u001b[38;5;129;01mis\u001b[39;00m \u001b[38;5;28;01mNone\u001b[39;00m:\n\u001b[1;32m    233\u001b[0m     \u001b[38;5;28mcls\u001b[39m \u001b[38;5;241m=\u001b[39m JSONEncoder\n\u001b[1;32m    234\u001b[0m \u001b[38;5;28;01mreturn\u001b[39;00m \u001b[38;5;28;43mcls\u001b[39;49m\u001b[43m(\u001b[49m\n\u001b[1;32m    235\u001b[0m \u001b[43m    \u001b[49m\u001b[43mskipkeys\u001b[49m\u001b[38;5;241;43m=\u001b[39;49m\u001b[43mskipkeys\u001b[49m\u001b[43m,\u001b[49m\u001b[43m \u001b[49m\u001b[43mensure_ascii\u001b[49m\u001b[38;5;241;43m=\u001b[39;49m\u001b[43mensure_ascii\u001b[49m\u001b[43m,\u001b[49m\n\u001b[1;32m    236\u001b[0m \u001b[43m    \u001b[49m\u001b[43mcheck_circular\u001b[49m\u001b[38;5;241;43m=\u001b[39;49m\u001b[43mcheck_circular\u001b[49m\u001b[43m,\u001b[49m\u001b[43m \u001b[49m\u001b[43mallow_nan\u001b[49m\u001b[38;5;241;43m=\u001b[39;49m\u001b[43mallow_nan\u001b[49m\u001b[43m,\u001b[49m\u001b[43m \u001b[49m\u001b[43mindent\u001b[49m\u001b[38;5;241;43m=\u001b[39;49m\u001b[43mindent\u001b[49m\u001b[43m,\u001b[49m\n\u001b[1;32m    237\u001b[0m \u001b[43m    \u001b[49m\u001b[43mseparators\u001b[49m\u001b[38;5;241;43m=\u001b[39;49m\u001b[43mseparators\u001b[49m\u001b[43m,\u001b[49m\u001b[43m \u001b[49m\u001b[43mdefault\u001b[49m\u001b[38;5;241;43m=\u001b[39;49m\u001b[43mdefault\u001b[49m\u001b[43m,\u001b[49m\u001b[43m \u001b[49m\u001b[43msort_keys\u001b[49m\u001b[38;5;241;43m=\u001b[39;49m\u001b[43msort_keys\u001b[49m\u001b[43m,\u001b[49m\n\u001b[0;32m--> 238\u001b[0m \u001b[43m    \u001b[49m\u001b[38;5;241;43m*\u001b[39;49m\u001b[38;5;241;43m*\u001b[39;49m\u001b[43mkw\u001b[49m\u001b[43m)\u001b[49m\u001b[38;5;241;43m.\u001b[39;49m\u001b[43mencode\u001b[49m\u001b[43m(\u001b[49m\u001b[43mobj\u001b[49m\u001b[43m)\u001b[49m\n",
      "File \u001b[0;32m/opt/conda/lib/python3.10/json/encoder.py:199\u001b[0m, in \u001b[0;36mJSONEncoder.encode\u001b[0;34m(self, o)\u001b[0m\n\u001b[1;32m    195\u001b[0m         \u001b[38;5;28;01mreturn\u001b[39;00m encode_basestring(o)\n\u001b[1;32m    196\u001b[0m \u001b[38;5;66;03m# This doesn't pass the iterator directly to ''.join() because the\u001b[39;00m\n\u001b[1;32m    197\u001b[0m \u001b[38;5;66;03m# exceptions aren't as detailed.  The list call should be roughly\u001b[39;00m\n\u001b[1;32m    198\u001b[0m \u001b[38;5;66;03m# equivalent to the PySequence_Fast that ''.join() would do.\u001b[39;00m\n\u001b[0;32m--> 199\u001b[0m chunks \u001b[38;5;241m=\u001b[39m \u001b[38;5;28;43mself\u001b[39;49m\u001b[38;5;241;43m.\u001b[39;49m\u001b[43miterencode\u001b[49m\u001b[43m(\u001b[49m\u001b[43mo\u001b[49m\u001b[43m,\u001b[49m\u001b[43m \u001b[49m\u001b[43m_one_shot\u001b[49m\u001b[38;5;241;43m=\u001b[39;49m\u001b[38;5;28;43;01mTrue\u001b[39;49;00m\u001b[43m)\u001b[49m\n\u001b[1;32m    200\u001b[0m \u001b[38;5;28;01mif\u001b[39;00m \u001b[38;5;129;01mnot\u001b[39;00m \u001b[38;5;28misinstance\u001b[39m(chunks, (\u001b[38;5;28mlist\u001b[39m, \u001b[38;5;28mtuple\u001b[39m)):\n\u001b[1;32m    201\u001b[0m     chunks \u001b[38;5;241m=\u001b[39m \u001b[38;5;28mlist\u001b[39m(chunks)\n",
      "File \u001b[0;32m/opt/conda/lib/python3.10/json/encoder.py:257\u001b[0m, in \u001b[0;36mJSONEncoder.iterencode\u001b[0;34m(self, o, _one_shot)\u001b[0m\n\u001b[1;32m    252\u001b[0m \u001b[38;5;28;01melse\u001b[39;00m:\n\u001b[1;32m    253\u001b[0m     _iterencode \u001b[38;5;241m=\u001b[39m _make_iterencode(\n\u001b[1;32m    254\u001b[0m         markers, \u001b[38;5;28mself\u001b[39m\u001b[38;5;241m.\u001b[39mdefault, _encoder, \u001b[38;5;28mself\u001b[39m\u001b[38;5;241m.\u001b[39mindent, floatstr,\n\u001b[1;32m    255\u001b[0m         \u001b[38;5;28mself\u001b[39m\u001b[38;5;241m.\u001b[39mkey_separator, \u001b[38;5;28mself\u001b[39m\u001b[38;5;241m.\u001b[39mitem_separator, \u001b[38;5;28mself\u001b[39m\u001b[38;5;241m.\u001b[39msort_keys,\n\u001b[1;32m    256\u001b[0m         \u001b[38;5;28mself\u001b[39m\u001b[38;5;241m.\u001b[39mskipkeys, _one_shot)\n\u001b[0;32m--> 257\u001b[0m \u001b[38;5;28;01mreturn\u001b[39;00m \u001b[43m_iterencode\u001b[49m\u001b[43m(\u001b[49m\u001b[43mo\u001b[49m\u001b[43m,\u001b[49m\u001b[43m \u001b[49m\u001b[38;5;241;43m0\u001b[39;49m\u001b[43m)\u001b[49m\n",
      "File \u001b[0;32m/opt/conda/lib/python3.10/json/encoder.py:179\u001b[0m, in \u001b[0;36mJSONEncoder.default\u001b[0;34m(self, o)\u001b[0m\n\u001b[1;32m    160\u001b[0m \u001b[38;5;28;01mdef\u001b[39;00m \u001b[38;5;21mdefault\u001b[39m(\u001b[38;5;28mself\u001b[39m, o):\n\u001b[1;32m    161\u001b[0m     \u001b[38;5;124;03m\"\"\"Implement this method in a subclass such that it returns\u001b[39;00m\n\u001b[1;32m    162\u001b[0m \u001b[38;5;124;03m    a serializable object for ``o``, or calls the base implementation\u001b[39;00m\n\u001b[1;32m    163\u001b[0m \u001b[38;5;124;03m    (to raise a ``TypeError``).\u001b[39;00m\n\u001b[0;32m   (...)\u001b[0m\n\u001b[1;32m    177\u001b[0m \n\u001b[1;32m    178\u001b[0m \u001b[38;5;124;03m    \"\"\"\u001b[39;00m\n\u001b[0;32m--> 179\u001b[0m     \u001b[38;5;28;01mraise\u001b[39;00m \u001b[38;5;167;01mTypeError\u001b[39;00m(\u001b[38;5;124mf\u001b[39m\u001b[38;5;124m'\u001b[39m\u001b[38;5;124mObject of type \u001b[39m\u001b[38;5;132;01m{\u001b[39;00mo\u001b[38;5;241m.\u001b[39m\u001b[38;5;18m__class__\u001b[39m\u001b[38;5;241m.\u001b[39m\u001b[38;5;18m__name__\u001b[39m\u001b[38;5;132;01m}\u001b[39;00m\u001b[38;5;124m \u001b[39m\u001b[38;5;124m'\u001b[39m\n\u001b[1;32m    180\u001b[0m                     \u001b[38;5;124mf\u001b[39m\u001b[38;5;124m'\u001b[39m\u001b[38;5;124mis not JSON serializable\u001b[39m\u001b[38;5;124m'\u001b[39m)\n",
      "\u001b[0;31mTypeError\u001b[0m: Object of type date is not JSON serializable"
     ]
    },
    {
     "data": {
      "text/plain": [
       "alt.HConcatChart(...)"
      ]
     },
     "execution_count": 100,
     "metadata": {},
     "output_type": "execute_result"
    }
   ],
   "source": [
    "dual_chart_with_dropdown(\n",
    "    d,\n",
    "    itp_id= 282,\n",
    "    dropdown_list = d_agency_list,\n",
    "    dropdown_field= 'agency_name',\n",
    "    x_axis_chart2= 'service_date:O',\n",
    "    y_axis_chart2= 'pct_w_vp:Q',\n",
    "    color_col2= 'route_short_name',\n",
    "    chart2_tooltip_cols= ['route_short_name','service_date', 'pct_w_vp'],\n",
    "    chart_title= '')"
   ]
  },
  {
   "cell_type": "code",
   "execution_count": 99,
   "id": "9ea70306-8e0e-4802-8afd-c0dc8f210ce5",
   "metadata": {},
   "outputs": [
    {
     "data": {
      "text/html": [
       "\n",
       "<div id=\"altair-viz-cd7a1389d9ec4c5fa590ef99d3ef8fde\"></div>\n",
       "<script type=\"text/javascript\">\n",
       "  var VEGA_DEBUG = (typeof VEGA_DEBUG == \"undefined\") ? {} : VEGA_DEBUG;\n",
       "  (function(spec, embedOpt){\n",
       "    let outputDiv = document.currentScript.previousElementSibling;\n",
       "    if (outputDiv.id !== \"altair-viz-cd7a1389d9ec4c5fa590ef99d3ef8fde\") {\n",
       "      outputDiv = document.getElementById(\"altair-viz-cd7a1389d9ec4c5fa590ef99d3ef8fde\");\n",
       "    }\n",
       "    const paths = {\n",
       "      \"vega\": \"https://cdn.jsdelivr.net/npm//vega@5?noext\",\n",
       "      \"vega-lib\": \"https://cdn.jsdelivr.net/npm//vega-lib?noext\",\n",
       "      \"vega-lite\": \"https://cdn.jsdelivr.net/npm//vega-lite@4.17.0?noext\",\n",
       "      \"vega-embed\": \"https://cdn.jsdelivr.net/npm//vega-embed@6?noext\",\n",
       "    };\n",
       "\n",
       "    function maybeLoadScript(lib, version) {\n",
       "      var key = `${lib.replace(\"-\", \"\")}_version`;\n",
       "      return (VEGA_DEBUG[key] == version) ?\n",
       "        Promise.resolve(paths[lib]) :\n",
       "        new Promise(function(resolve, reject) {\n",
       "          var s = document.createElement('script');\n",
       "          document.getElementsByTagName(\"head\")[0].appendChild(s);\n",
       "          s.async = true;\n",
       "          s.onload = () => {\n",
       "            VEGA_DEBUG[key] = version;\n",
       "            return resolve(paths[lib]);\n",
       "          };\n",
       "          s.onerror = () => reject(`Error loading script: ${paths[lib]}`);\n",
       "          s.src = paths[lib];\n",
       "        });\n",
       "    }\n",
       "\n",
       "    function showError(err) {\n",
       "      outputDiv.innerHTML = `<div class=\"error\" style=\"color:red;\">${err}</div>`;\n",
       "      throw err;\n",
       "    }\n",
       "\n",
       "    function displayChart(vegaEmbed) {\n",
       "      vegaEmbed(outputDiv, spec, embedOpt)\n",
       "        .catch(err => showError(`Javascript Error: ${err.message}<br>This usually means there's a typo in your chart specification. See the javascript console for the full traceback.`));\n",
       "    }\n",
       "\n",
       "    if(typeof define === \"function\" && define.amd) {\n",
       "      requirejs.config({paths});\n",
       "      require([\"vega-embed\"], displayChart, err => showError(`Error loading script: ${err.message}`));\n",
       "    } else {\n",
       "      maybeLoadScript(\"vega\", \"5\")\n",
       "        .then(() => maybeLoadScript(\"vega-lite\", \"4.17.0\"))\n",
       "        .then(() => maybeLoadScript(\"vega-embed\", \"6\"))\n",
       "        .catch(showError)\n",
       "        .then(() => displayChart(vegaEmbed));\n",
       "    }\n",
       "  })({\"config\": {\"view\": {\"continuousWidth\": 400, \"continuousHeight\": 300}}, \"data\": {\"name\": \"data-194b8ec3f6215e1bffc9c4c985b23e96\"}, \"mark\": \"trail\", \"encoding\": {\"color\": {\"field\": \"Averages\", \"type\": \"nominal\"}, \"size\": {\"field\": \"Percent with Vehicle Position Data\", \"type\": \"quantitative\"}, \"tooltip\": [{\"field\": \"service_date\", \"title\": \"Service Date\", \"type\": \"temporal\"}, {\"field\": \"Percent with Vehicle Position Data\", \"title\": \"Percent With Vehicle Position Data\", \"type\": \"quantitative\"}], \"x\": {\"field\": \"service_date\", \"sort\": \"x\", \"title\": \"Service Date\", \"type\": \"temporal\"}, \"y\": {\"axis\": {\"format\": \"%\"}, \"field\": \"Percent with Vehicle Position Data\", \"title\": \"Percent With Vehicle Position Data\", \"type\": \"quantitative\"}}, \"width\": 550, \"$schema\": \"https://vega.github.io/schema/vega-lite/v4.17.0.json\", \"datasets\": {\"data-194b8ec3f6215e1bffc9c4c985b23e96\": [{\"service_date\": \"2022-05-04T00:00:00\", \"Averages\": \"Total Average\", \"Percent with Vehicle Position Data\": 0.641313742437338}, {\"service_date\": \"2022-05-04T00:00:00\", \"Averages\": \"San Francisco Municipal Transportation Agency Average\", \"Percent with Vehicle Position Data\": 0.9495807970598369}]}}, {\"mode\": \"vega-lite\"});\n",
       "</script>"
      ],
      "text/plain": [
       "alt.Chart(...)"
      ]
     },
     "execution_count": 99,
     "metadata": {},
     "output_type": "execute_result"
    }
   ],
   "source": [
    "#using dataframe with the just the entries in the same district\n",
    "(utils.total_average_with_1op_chart(d, 282)).mark_trail().encode(size='Percent with Vehicle Position Data:Q')"
   ]
  },
  {
   "cell_type": "code",
   "execution_count": null,
   "id": "e9f20c1f-ce37-43c1-a39c-246dd4a524df",
   "metadata": {
    "scrolled": true,
    "tags": []
   },
   "outputs": [],
   "source": []
  },
  {
   "cell_type": "code",
   "execution_count": null,
   "id": "6a6aa44f-5faa-4554-acfa-f094a4ddfea3",
   "metadata": {},
   "outputs": [],
   "source": []
  },
  {
   "cell_type": "code",
   "execution_count": null,
   "id": "1d428d57-b4f6-470a-ac6f-2ffa3ba94c3e",
   "metadata": {},
   "outputs": [],
   "source": []
  },
  {
   "cell_type": "code",
   "execution_count": null,
   "id": "e7c4bf42-c4ba-4f82-927b-ec1be843bdab",
   "metadata": {},
   "outputs": [],
   "source": []
  },
  {
   "cell_type": "code",
   "execution_count": null,
   "id": "2ecfd022-eab5-42ca-964a-0d448324f975",
   "metadata": {},
   "outputs": [],
   "source": []
  }
 ],
 "metadata": {
  "kernelspec": {
   "display_name": "Python 3 (ipykernel)",
   "language": "python",
   "name": "python3"
  },
  "language_info": {
   "codemirror_mode": {
    "name": "ipython",
    "version": 3
   },
   "file_extension": ".py",
   "mimetype": "text/x-python",
   "name": "python",
   "nbconvert_exporter": "python",
   "pygments_lexer": "ipython3",
   "version": "3.10.5"
  },
  "widgets": {
   "application/vnd.jupyter.widget-state+json": {
    "state": {},
    "version_major": 2,
    "version_minor": 0
   }
  }
 },
 "nbformat": 4,
 "nbformat_minor": 5
}
