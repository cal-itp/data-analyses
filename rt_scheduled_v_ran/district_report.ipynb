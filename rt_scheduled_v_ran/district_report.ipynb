{
 "cells": [
  {
   "cell_type": "markdown",
   "id": "db8a41f5-0d9b-472c-a702-22ac6dac47a2",
   "metadata": {},
   "source": [
    "# Report for May 4: {District}"
   ]
  },
  {
   "cell_type": "code",
   "execution_count": 1,
   "id": "39a5a22b-abb4-4b2a-8c51-b437fc8b2920",
   "metadata": {},
   "outputs": [
    {
     "name": "stderr",
     "output_type": "stream",
     "text": [
      "/opt/conda/lib/python3.10/site-packages/geopandas/_compat.py:112: UserWarning: The Shapely GEOS version (3.10.3-CAPI-1.16.1) is incompatible with the GEOS version PyGEOS was compiled with (3.10.1-CAPI-1.16.0). Conversions between both will be slow.\n",
      "  warnings.warn(\n"
     ]
    }
   ],
   "source": [
    "import utils\n",
    "import shared_utils\n",
    "from dla_utils import _dla_utils as dla_utils\n",
    "from shared_utils import styleguide, altair_utils, portfolio_utils\n",
    "\n",
    "from siuba import *\n",
    "import pandas as pd\n",
    "\n",
    "from IPython.display import display, Markdown, HTML\n",
    "\n",
    "import altair as alt\n",
    "\n",
    "import os\n",
    "os.environ[\"CALITP_BQ_MAX_BYTES\"] = str(800_000_000_000) ## 800GB?\n",
    "\n",
    "from calitp.tables import tbl\n",
    "\n",
    "from calitp import query_sql, magics\n"
   ]
  },
  {
   "cell_type": "code",
   "execution_count": 2,
   "id": "c48b014f-c842-40fa-a7af-5c819e973c56",
   "metadata": {},
   "outputs": [],
   "source": [
    "district = '04 - Oakland'"
   ]
  },
  {
   "cell_type": "code",
   "execution_count": 45,
   "id": "80650ef5-66c7-4824-ada6-f24b427aaeb7",
   "metadata": {},
   "outputs": [],
   "source": [
    "district_short_name = 'District 4'"
   ]
  },
  {
   "cell_type": "code",
   "execution_count": 3,
   "id": "632eb2db-6122-45a6-a9bd-fe4e1a2f3561",
   "metadata": {
    "tags": []
   },
   "outputs": [],
   "source": [
    "## alternatively \n",
    "may4 = query_sql(f'''\n",
    "SELECT * FROM `cal-itp-data-infra.views.gtfs_rt_vs_schedule_trips_may4_sample`\n",
    "''')"
   ]
  },
  {
   "cell_type": "code",
   "execution_count": 4,
   "id": "9c733942-5adc-4537-9d59-3fa149b9f9d2",
   "metadata": {},
   "outputs": [],
   "source": [
    "may4['service_date'] = pd.to_datetime(may4['service_date'])\n",
    "may4['weekday'] = pd.Series(may4.service_date).dt.day_name()    \n",
    "may4['month'] =  pd.Series(may4.service_date).dt.month_name()"
   ]
  },
  {
   "cell_type": "code",
   "execution_count": 5,
   "id": "538791e7-d5dd-4a6c-a149-b4149d9f757c",
   "metadata": {},
   "outputs": [],
   "source": [
    "itpid_district = portfolio_utils.add_caltrans_district()\n",
    "may4 = pd.merge(may4, itpid_district, on='calitp_itp_id', how='left')"
   ]
  },
  {
   "cell_type": "code",
   "execution_count": 6,
   "id": "b3bff346-d24d-4675-ae17-8a150a3cc660",
   "metadata": {},
   "outputs": [],
   "source": [
    "df_all = utils.get_correct_url(may4)"
   ]
  },
  {
   "cell_type": "code",
   "execution_count": 39,
   "id": "b28ef858-4939-4eaf-b840-fd171d2b0a80",
   "metadata": {},
   "outputs": [],
   "source": [
    "## organizations with no agency names \n",
    "## probably duplicates\n",
    "#df_all>>filter(_.agency_name.isnull())>>count(_.calitp_itp_id)"
   ]
  },
  {
   "cell_type": "code",
   "execution_count": 9,
   "id": "c4b3e422-deb8-4e28-99a3-1bd0aad89a13",
   "metadata": {},
   "outputs": [],
   "source": [
    "d = df_all>>filter(_.caltrans_district== district)"
   ]
  },
  {
   "cell_type": "markdown",
   "id": "17227797-912c-4c85-8c68-8997098e70fb",
   "metadata": {},
   "source": [
    "* Note to add functions in `utils` that create these sub dataframes already for \n",
    "    * district average\n",
    "    * agency average \n",
    "    * overall average"
   ]
  },
  {
   "cell_type": "code",
   "execution_count": 10,
   "id": "473a28ce-8849-4cec-8d85-e56c00b3ca19",
   "metadata": {},
   "outputs": [],
   "source": [
    "all_dist_avg = (utils.get_agg_pct(df_all, groupings = ['caltrans_district'], sum_sched = 'num_sched', sum_vp = 'num_vp'))\n",
    "all_dist_avg['District Average'] = all_dist_avg['avg'].astype(float).map(\"{:.2%}\".format)"
   ]
  },
  {
   "cell_type": "code",
   "execution_count": 50,
   "id": "3c0d86c7-4d41-4201-9c5b-fc0ac05c9324",
   "metadata": {},
   "outputs": [
    {
     "data": {
      "text/html": [
       "<h2>District Stats</h2>"
      ],
      "text/plain": [
       "<IPython.core.display.HTML object>"
      ]
     },
     "metadata": {},
     "output_type": "display_data"
    }
   ],
   "source": [
    "display(HTML(\"<h2>District Stats</h2>\"))"
   ]
  },
  {
   "cell_type": "code",
   "execution_count": 11,
   "id": "3ea282fe-0665-43d0-99ff-61ff13e7b73e",
   "metadata": {},
   "outputs": [
    {
     "data": {
      "text/html": [
       "<style type=\"text/css\">\n",
       "#T_f28f4 th {\n",
       "  text-align: center;\n",
       "}\n",
       "#T_f28f4_row0_col0, #T_f28f4_row0_col1, #T_f28f4_row1_col0, #T_f28f4_row1_col1, #T_f28f4_row2_col0, #T_f28f4_row2_col1, #T_f28f4_row3_col0, #T_f28f4_row3_col1, #T_f28f4_row4_col0, #T_f28f4_row4_col1, #T_f28f4_row5_col0, #T_f28f4_row5_col1, #T_f28f4_row6_col0, #T_f28f4_row6_col1, #T_f28f4_row7_col0, #T_f28f4_row7_col1, #T_f28f4_row8_col0, #T_f28f4_row8_col1, #T_f28f4_row9_col0, #T_f28f4_row9_col1, #T_f28f4_row10_col0, #T_f28f4_row10_col1, #T_f28f4_row11_col0, #T_f28f4_row11_col1 {\n",
       "  text-align: center;\n",
       "}\n",
       "</style>\n",
       "<table id=\"T_f28f4\">\n",
       "  <thead>\n",
       "    <tr>\n",
       "      <th id=\"T_f28f4_level0_col0\" class=\"col_heading level0 col0\" >Caltrans District</th>\n",
       "      <th id=\"T_f28f4_level0_col1\" class=\"col_heading level0 col1\" >District Average</th>\n",
       "    </tr>\n",
       "  </thead>\n",
       "  <tbody>\n",
       "    <tr>\n",
       "      <td id=\"T_f28f4_row0_col0\" class=\"data row0 col0\" >01 - Eureka</td>\n",
       "      <td id=\"T_f28f4_row0_col1\" class=\"data row0 col1\" >25.59%</td>\n",
       "    </tr>\n",
       "    <tr>\n",
       "      <td id=\"T_f28f4_row1_col0\" class=\"data row1 col0\" >02 - Redding</td>\n",
       "      <td id=\"T_f28f4_row1_col1\" class=\"data row1 col1\" >29.60%</td>\n",
       "    </tr>\n",
       "    <tr>\n",
       "      <td id=\"T_f28f4_row2_col0\" class=\"data row2 col0\" >03 - Marysville</td>\n",
       "      <td id=\"T_f28f4_row2_col1\" class=\"data row2 col1\" >4.26%</td>\n",
       "    </tr>\n",
       "    <tr>\n",
       "      <td id=\"T_f28f4_row3_col0\" class=\"data row3 col0\" >04 - Oakland</td>\n",
       "      <td id=\"T_f28f4_row3_col1\" class=\"data row3 col1\" >64.13%</td>\n",
       "    </tr>\n",
       "    <tr>\n",
       "      <td id=\"T_f28f4_row4_col0\" class=\"data row4 col0\" >05 - San Luis Obispo</td>\n",
       "      <td id=\"T_f28f4_row4_col1\" class=\"data row4 col1\" >26.97%</td>\n",
       "    </tr>\n",
       "    <tr>\n",
       "      <td id=\"T_f28f4_row5_col0\" class=\"data row5 col0\" >06 - Fresno</td>\n",
       "      <td id=\"T_f28f4_row5_col1\" class=\"data row5 col1\" >39.14%</td>\n",
       "    </tr>\n",
       "    <tr>\n",
       "      <td id=\"T_f28f4_row6_col0\" class=\"data row6 col0\" >07 - Los Angeles</td>\n",
       "      <td id=\"T_f28f4_row6_col1\" class=\"data row6 col1\" >68.81%</td>\n",
       "    </tr>\n",
       "    <tr>\n",
       "      <td id=\"T_f28f4_row7_col0\" class=\"data row7 col0\" >08 - San Bernardino</td>\n",
       "      <td id=\"T_f28f4_row7_col1\" class=\"data row7 col1\" >52.52%</td>\n",
       "    </tr>\n",
       "    <tr>\n",
       "      <td id=\"T_f28f4_row8_col0\" class=\"data row8 col0\" >09 - Bishop</td>\n",
       "      <td id=\"T_f28f4_row8_col1\" class=\"data row8 col1\" >62.90%</td>\n",
       "    </tr>\n",
       "    <tr>\n",
       "      <td id=\"T_f28f4_row9_col0\" class=\"data row9 col0\" >10 - Stockton</td>\n",
       "      <td id=\"T_f28f4_row9_col1\" class=\"data row9 col1\" >68.23%</td>\n",
       "    </tr>\n",
       "    <tr>\n",
       "      <td id=\"T_f28f4_row10_col0\" class=\"data row10 col0\" >11 - San Diego</td>\n",
       "      <td id=\"T_f28f4_row10_col1\" class=\"data row10 col1\" >95.68%</td>\n",
       "    </tr>\n",
       "    <tr>\n",
       "      <td id=\"T_f28f4_row11_col0\" class=\"data row11 col0\" >12 - Irvine</td>\n",
       "      <td id=\"T_f28f4_row11_col1\" class=\"data row11 col1\" >49.27%</td>\n",
       "    </tr>\n",
       "  </tbody>\n",
       "</table>\n"
      ],
      "text/plain": [
       "<IPython.core.display.HTML object>"
      ]
     },
     "metadata": {},
     "output_type": "display_data"
    }
   ],
   "source": [
    "display(HTML(dla_utils.pretify_tables((all_dist_avg>>select(_.caltrans_district, _['District Average'])>>filter(_.caltrans_district.notnull())>>arrange(_.caltrans_district)))))"
   ]
  },
  {
   "cell_type": "code",
   "execution_count": 12,
   "id": "7b532d3e-6086-4546-a2f5-cf03d034923e",
   "metadata": {},
   "outputs": [],
   "source": [
    "d_avg = (utils.get_agg_pct(d,\n",
    "                            groupings = ['agency_name', 'calitp_itp_id'],\n",
    "                            sum_sched = 'num_sched',\n",
    "                            sum_vp = 'num_vp'))"
   ]
  },
  {
   "cell_type": "code",
   "execution_count": 49,
   "id": "e28111c4-6e5b-4f38-99f5-e1a35d5ee013",
   "metadata": {},
   "outputs": [
    {
     "data": {
      "text/html": [
       "<h3>District 4 Scheduled Data vs Vehicle Position Data</h3>"
      ],
      "text/plain": [
       "<IPython.core.display.HTML object>"
      ]
     },
     "metadata": {},
     "output_type": "display_data"
    }
   ],
   "source": [
    "display(HTML(f\"<h3>{district_short_name} Scheduled Data vs Vehicle Position Data</h3>\"))\n"
   ]
  },
  {
   "cell_type": "code",
   "execution_count": 13,
   "id": "9f19a9c3-b7c9-4b4f-9185-c95f57a3cf84",
   "metadata": {},
   "outputs": [
    {
     "data": {
      "text/html": [
       "<strong>Agency Average Scheduled & RT Vehicle Position Data</strong>"
      ],
      "text/plain": [
       "<IPython.core.display.HTML object>"
      ]
     },
     "metadata": {},
     "output_type": "display_data"
    },
    {
     "data": {
      "text/html": [
       "\n",
       "<div id=\"altair-viz-a5cef1719e5c41cb9f51d7f30cac981b\"></div>\n",
       "<script type=\"text/javascript\">\n",
       "  var VEGA_DEBUG = (typeof VEGA_DEBUG == \"undefined\") ? {} : VEGA_DEBUG;\n",
       "  (function(spec, embedOpt){\n",
       "    let outputDiv = document.currentScript.previousElementSibling;\n",
       "    if (outputDiv.id !== \"altair-viz-a5cef1719e5c41cb9f51d7f30cac981b\") {\n",
       "      outputDiv = document.getElementById(\"altair-viz-a5cef1719e5c41cb9f51d7f30cac981b\");\n",
       "    }\n",
       "    const paths = {\n",
       "      \"vega\": \"https://cdn.jsdelivr.net/npm//vega@5?noext\",\n",
       "      \"vega-lib\": \"https://cdn.jsdelivr.net/npm//vega-lib?noext\",\n",
       "      \"vega-lite\": \"https://cdn.jsdelivr.net/npm//vega-lite@4.17.0?noext\",\n",
       "      \"vega-embed\": \"https://cdn.jsdelivr.net/npm//vega-embed@6?noext\",\n",
       "    };\n",
       "\n",
       "    function maybeLoadScript(lib, version) {\n",
       "      var key = `${lib.replace(\"-\", \"\")}_version`;\n",
       "      return (VEGA_DEBUG[key] == version) ?\n",
       "        Promise.resolve(paths[lib]) :\n",
       "        new Promise(function(resolve, reject) {\n",
       "          var s = document.createElement('script');\n",
       "          document.getElementsByTagName(\"head\")[0].appendChild(s);\n",
       "          s.async = true;\n",
       "          s.onload = () => {\n",
       "            VEGA_DEBUG[key] = version;\n",
       "            return resolve(paths[lib]);\n",
       "          };\n",
       "          s.onerror = () => reject(`Error loading script: ${paths[lib]}`);\n",
       "          s.src = paths[lib];\n",
       "        });\n",
       "    }\n",
       "\n",
       "    function showError(err) {\n",
       "      outputDiv.innerHTML = `<div class=\"error\" style=\"color:red;\">${err}</div>`;\n",
       "      throw err;\n",
       "    }\n",
       "\n",
       "    function displayChart(vegaEmbed) {\n",
       "      vegaEmbed(outputDiv, spec, embedOpt)\n",
       "        .catch(err => showError(`Javascript Error: ${err.message}<br>This usually means there's a typo in your chart specification. See the javascript console for the full traceback.`));\n",
       "    }\n",
       "\n",
       "    if(typeof define === \"function\" && define.amd) {\n",
       "      requirejs.config({paths});\n",
       "      require([\"vega-embed\"], displayChart, err => showError(`Error loading script: ${err.message}`));\n",
       "    } else {\n",
       "      maybeLoadScript(\"vega\", \"5\")\n",
       "        .then(() => maybeLoadScript(\"vega-lite\", \"4.17.0\"))\n",
       "        .then(() => maybeLoadScript(\"vega-embed\", \"6\"))\n",
       "        .catch(showError)\n",
       "        .then(() => displayChart(vegaEmbed));\n",
       "    }\n",
       "  })({\"config\": {\"view\": {\"continuousWidth\": 400, \"continuousHeight\": 300}}, \"data\": {\"name\": \"data-b6bc7ab80567e8929477dd6a9a0ea244\"}, \"mark\": {\"type\": \"circle\", \"size\": 60}, \"encoding\": {\"color\": {\"field\": \"agency_name\", \"type\": \"nominal\"}, \"tooltip\": [{\"field\": \"agency_name\", \"title\": \"Agency Name\", \"type\": \"nominal\"}, {\"field\": \"calitp_itp_id\", \"title\": \"Calitp Itp Id\", \"type\": \"quantitative\"}, {\"field\": \"calitp_itp_id\", \"title\": \"Calitp Itp Id\", \"type\": \"quantitative\"}], \"x\": {\"field\": \"num_sched\", \"sort\": \"x\", \"title\": \"Number of Trips with Scheduled Data\", \"type\": \"quantitative\"}, \"y\": {\"axis\": {\"format\": \"\"}, \"field\": \"num_vp\", \"title\": \"Number of Trips with Vehicle Positions Data\", \"type\": \"quantitative\"}}, \"selection\": {\"selector001\": {\"type\": \"interval\", \"bind\": \"scales\", \"encodings\": [\"x\", \"y\"]}}, \"width\": 700, \"$schema\": \"https://vega.github.io/schema/vega-lite/v4.17.0.json\", \"datasets\": {\"data-b6bc7ab80567e8929477dd6a9a0ea244\": [{\"agency_name\": \"Tri Delta Transit\", \"calitp_itp_id\": 336, \"num_sched\": 369.0, \"num_vp\": 358.0, \"avg\": 0.9701897018970189}, {\"agency_name\": null, \"calitp_itp_id\": 61, \"num_sched\": null, \"num_vp\": null, \"avg\": null}, {\"agency_name\": \"Stanford Marguerite Shuttle\", \"calitp_itp_id\": 324, \"num_sched\": 660.0, \"num_vp\": 0.0, \"avg\": 0.0}, {\"agency_name\": \"Sonoma County Transit\", \"calitp_itp_id\": 70, \"num_sched\": 251.0, \"num_vp\": 0.0, \"avg\": 0.0}, {\"agency_name\": \"Petaluma Transit\", \"calitp_itp_id\": 247, \"num_sched\": 233.0, \"num_vp\": 0.0, \"avg\": 0.0}, {\"agency_name\": \"San Francisco International Airport\", \"calitp_itp_id\": 281, \"num_sched\": 1049.0, \"num_vp\": 0.0, \"avg\": 0.0}, {\"agency_name\": \"SamTrans\", \"calitp_itp_id\": 290, \"num_sched\": 1455.0, \"num_vp\": 3.0, \"avg\": 0.002061855670103093}, {\"agency_name\": \"Union City Transit\", \"calitp_itp_id\": 350, \"num_sched\": 270.0, \"num_vp\": 124.0, \"avg\": 0.45925925925925926}, {\"agency_name\": \"Livermore Amador Valley Transit Authority\", \"calitp_itp_id\": 167, \"num_sched\": 338.0, \"num_vp\": 262.0, \"avg\": 0.7751479289940828}, {\"agency_name\": \"Mission Bay TMA\", \"calitp_itp_id\": 201, \"num_sched\": 111.0, \"num_vp\": 0.0, \"avg\": 0.0}, {\"agency_name\": \"County Connection\", \"calitp_itp_id\": 61, \"num_sched\": 922.0, \"num_vp\": 662.0, \"avg\": 0.7180043383947939}, {\"agency_name\": \"WestCat (Western Contra Costa)\", \"calitp_itp_id\": 368, \"num_sched\": 555.0, \"num_vp\": 0.0, \"avg\": 0.0}, {\"agency_name\": \"Rio Vista Delta Breeze\", \"calitp_itp_id\": 264, \"num_sched\": 8.0, \"num_vp\": 0.0, \"avg\": 0.0}, {\"agency_name\": \"VTA\", \"calitp_itp_id\": 294, \"num_sched\": 3657.0, \"num_vp\": 3560.0, \"avg\": 0.9734755263877495}, {\"agency_name\": \"Capitol Corridor Joint Powers Authority\", \"calitp_itp_id\": 56, \"num_sched\": 51.0, \"num_vp\": 0.0, \"avg\": 0.0}, {\"agency_name\": \"Sonoma County Transit\", \"calitp_itp_id\": 314, \"num_sched\": 251.0, \"num_vp\": 0.0, \"avg\": 0.0}, {\"agency_name\": \"Sonoma Marin Area Rail Transit\", \"calitp_itp_id\": 315, \"num_sched\": 26.0, \"num_vp\": 26.0, \"avg\": 1.0}, {\"agency_name\": \"Vacaville City Coach\", \"calitp_itp_id\": 356, \"num_sched\": 123.0, \"num_vp\": 0.0, \"avg\": 0.0}, {\"agency_name\": \"Golden Gate Transit\", \"calitp_itp_id\": 127, \"num_sched\": 196.0, \"num_vp\": 196.0, \"avg\": 1.0}, {\"agency_name\": \"Marin Transit\", \"calitp_itp_id\": 194, \"num_sched\": 704.0, \"num_vp\": 635.0, \"avg\": 0.9019886363636364}, {\"agency_name\": \"VINE Transit\", \"calitp_itp_id\": 218, \"num_sched\": 216.0, \"num_vp\": 182.0, \"avg\": 0.8425925925925926}, {\"agency_name\": \"Caltrain\", \"calitp_itp_id\": 246, \"num_sched\": 88.0, \"num_vp\": 68.0, \"avg\": 0.7727272727272727}, {\"agency_name\": \"Petaluma\", \"calitp_itp_id\": 247, \"num_sched\": 233.0, \"num_vp\": 158.0, \"avg\": 0.6781115879828327}, {\"agency_name\": null, \"calitp_itp_id\": 290, \"num_sched\": null, \"num_vp\": null, \"avg\": null}, {\"agency_name\": \"SolTrans\", \"calitp_itp_id\": 310, \"num_sched\": 402.0, \"num_vp\": 349.0, \"avg\": 0.8681592039800995}, {\"agency_name\": \"Santa Rosa CityBus\", \"calitp_itp_id\": 301, \"num_sched\": 573.0, \"num_vp\": 515.0, \"avg\": 0.8987783595113438}, {\"agency_name\": \"PresidiGo\", \"calitp_itp_id\": 257, \"num_sched\": 45.0, \"num_vp\": 28.0, \"avg\": 0.6222222222222222}, {\"agency_name\": \"Emery Go-Round\", \"calitp_itp_id\": 106, \"num_sched\": 133.0, \"num_vp\": 133.0, \"avg\": 1.0}, {\"agency_name\": \"Fairfield and Suisun Transit\", \"calitp_itp_id\": 110, \"num_sched\": 317.0, \"num_vp\": 317.0, \"avg\": 1.0}, {\"agency_name\": \"Commute.org Shuttles\", \"calitp_itp_id\": 76, \"num_sched\": 250.0, \"num_vp\": 0.0, \"avg\": 0.0}, {\"agency_name\": \"San Francisco Municipal Transportation Agency\", \"calitp_itp_id\": 282, \"num_sched\": 8707.0, \"num_vp\": 8268.0, \"avg\": 0.9495807970598369}, {\"agency_name\": null, \"calitp_itp_id\": 279, \"num_sched\": null, \"num_vp\": null, \"avg\": null}, {\"agency_name\": \"AC TRANSIT\", \"calitp_itp_id\": 4, \"num_sched\": 5378.0, \"num_vp\": 4932.0, \"avg\": 0.9170695425808851}, {\"agency_name\": \"SamTrans\", \"calitp_itp_id\": 76, \"num_sched\": 47.0, \"num_vp\": 0.0, \"avg\": 0.0}, {\"agency_name\": null, \"calitp_itp_id\": 127, \"num_sched\": null, \"num_vp\": null, \"avg\": null}, {\"agency_name\": \"Bay Area Rapid Transit\", \"calitp_itp_id\": 279, \"num_sched\": 1012.0, \"num_vp\": 0.0, \"avg\": 0.0}, {\"agency_name\": \"San Francisco Bay Ferry\", \"calitp_itp_id\": 280, \"num_sched\": 141.0, \"num_vp\": 0.0, \"avg\": 0.0}, {\"agency_name\": \"SamTrans\", \"calitp_itp_id\": 199, \"num_sched\": 24.0, \"num_vp\": 0.0, \"avg\": 0.0}]}}, {\"mode\": \"vega-lite\"});\n",
       "</script>"
      ],
      "text/plain": [
       "alt.Chart(...)"
      ]
     },
     "execution_count": 13,
     "metadata": {},
     "output_type": "execute_result"
    }
   ],
   "source": [
    "#trying using utils bar chart\n",
    "display(HTML('<strong>Agency Average Scheduled & RT Vehicle Position Data</strong>'))\n",
    "scatter = ((utils.bar_chart_over_time(d_avg,\n",
    "                          x_col = 'num_sched', \n",
    "                          y_col = 'num_vp', \n",
    "                          color_col = 'agency_name', \n",
    "                          yaxis_format = '',\n",
    "                          sort = 'x', \n",
    "                          title_txt = ''))\n",
    "           .mark_circle(size=60)\n",
    "           .interactive())\n",
    "(utils.add_tooltip(scatter, 'agency_name', 'calitp_itp_id', 'avg')).properties(width=700)"
   ]
  },
  {
   "cell_type": "code",
   "execution_count": null,
   "id": "ce90aee1-3396-4b99-be64-e70db2437db5",
   "metadata": {},
   "outputs": [],
   "source": []
  },
  {
   "cell_type": "code",
   "execution_count": 14,
   "id": "383c7c0d-88ca-415e-9bf4-b60b74f27bfd",
   "metadata": {},
   "outputs": [
    {
     "data": {
      "text/html": [
       "<strong>Districts Average of Scheduled & RT Vehicle Position Data</strong>"
      ],
      "text/plain": [
       "<IPython.core.display.HTML object>"
      ]
     },
     "metadata": {},
     "output_type": "display_data"
    },
    {
     "data": {
      "text/html": [
       "\n",
       "<div id=\"altair-viz-9d0a9bcd9e1848fda6dca7ffd658e0e7\"></div>\n",
       "<script type=\"text/javascript\">\n",
       "  var VEGA_DEBUG = (typeof VEGA_DEBUG == \"undefined\") ? {} : VEGA_DEBUG;\n",
       "  (function(spec, embedOpt){\n",
       "    let outputDiv = document.currentScript.previousElementSibling;\n",
       "    if (outputDiv.id !== \"altair-viz-9d0a9bcd9e1848fda6dca7ffd658e0e7\") {\n",
       "      outputDiv = document.getElementById(\"altair-viz-9d0a9bcd9e1848fda6dca7ffd658e0e7\");\n",
       "    }\n",
       "    const paths = {\n",
       "      \"vega\": \"https://cdn.jsdelivr.net/npm//vega@5?noext\",\n",
       "      \"vega-lib\": \"https://cdn.jsdelivr.net/npm//vega-lib?noext\",\n",
       "      \"vega-lite\": \"https://cdn.jsdelivr.net/npm//vega-lite@4.17.0?noext\",\n",
       "      \"vega-embed\": \"https://cdn.jsdelivr.net/npm//vega-embed@6?noext\",\n",
       "    };\n",
       "\n",
       "    function maybeLoadScript(lib, version) {\n",
       "      var key = `${lib.replace(\"-\", \"\")}_version`;\n",
       "      return (VEGA_DEBUG[key] == version) ?\n",
       "        Promise.resolve(paths[lib]) :\n",
       "        new Promise(function(resolve, reject) {\n",
       "          var s = document.createElement('script');\n",
       "          document.getElementsByTagName(\"head\")[0].appendChild(s);\n",
       "          s.async = true;\n",
       "          s.onload = () => {\n",
       "            VEGA_DEBUG[key] = version;\n",
       "            return resolve(paths[lib]);\n",
       "          };\n",
       "          s.onerror = () => reject(`Error loading script: ${paths[lib]}`);\n",
       "          s.src = paths[lib];\n",
       "        });\n",
       "    }\n",
       "\n",
       "    function showError(err) {\n",
       "      outputDiv.innerHTML = `<div class=\"error\" style=\"color:red;\">${err}</div>`;\n",
       "      throw err;\n",
       "    }\n",
       "\n",
       "    function displayChart(vegaEmbed) {\n",
       "      vegaEmbed(outputDiv, spec, embedOpt)\n",
       "        .catch(err => showError(`Javascript Error: ${err.message}<br>This usually means there's a typo in your chart specification. See the javascript console for the full traceback.`));\n",
       "    }\n",
       "\n",
       "    if(typeof define === \"function\" && define.amd) {\n",
       "      requirejs.config({paths});\n",
       "      require([\"vega-embed\"], displayChart, err => showError(`Error loading script: ${err.message}`));\n",
       "    } else {\n",
       "      maybeLoadScript(\"vega\", \"5\")\n",
       "        .then(() => maybeLoadScript(\"vega-lite\", \"4.17.0\"))\n",
       "        .then(() => maybeLoadScript(\"vega-embed\", \"6\"))\n",
       "        .catch(showError)\n",
       "        .then(() => displayChart(vegaEmbed));\n",
       "    }\n",
       "  })({\"config\": {\"view\": {\"continuousWidth\": 400, \"continuousHeight\": 300}}, \"data\": {\"name\": \"data-95f8b5ef0fca9ab865801f5ba939823e\"}, \"mark\": {\"type\": \"bar\", \"size\": 50}, \"encoding\": {\"color\": {\"condition\": {\"value\": \"orange\", \"test\": {\"field\": \"caltrans_district\", \"oneOf\": [\"04 - Oakland\"]}}, \"value\": \"steelblue\"}, \"x\": {\"field\": \"caltrans_district\", \"title\": \"Caltrans District\", \"type\": \"nominal\"}, \"y\": {\"axis\": {\"format\": \"%\"}, \"field\": \"avg\", \"title\": \"Average\", \"type\": \"quantitative\"}}, \"width\": 700, \"$schema\": \"https://vega.github.io/schema/vega-lite/v4.17.0.json\", \"datasets\": {\"data-95f8b5ef0fca9ab865801f5ba939823e\": [{\"caltrans_district\": null, \"num_sched\": null, \"num_vp\": null, \"avg\": null, \"District Average\": \"nan%\"}, {\"caltrans_district\": \"05 - San Luis Obispo\", \"num_sched\": 2573.0, \"num_vp\": 694.0, \"avg\": 0.2697240575204042, \"District Average\": \"26.97%\"}, {\"caltrans_district\": \"07 - Los Angeles\", \"num_sched\": 29481.0, \"num_vp\": 20287.0, \"avg\": 0.6881381228587904, \"District Average\": \"68.81%\"}, {\"caltrans_district\": \"04 - Oakland\", \"num_sched\": 32396.0, \"num_vp\": 20776.0, \"avg\": 0.641313742437338, \"District Average\": \"64.13%\"}, {\"caltrans_district\": \"10 - Stockton\", \"num_sched\": 2902.0, \"num_vp\": 1980.0, \"avg\": 0.6822880771881461, \"District Average\": \"68.23%\"}, {\"caltrans_district\": \"03 - Marysville\", \"num_sched\": 6075.0, \"num_vp\": 259.0, \"avg\": 0.042633744855967076, \"District Average\": \"4.26%\"}, {\"caltrans_district\": \"11 - San Diego\", \"num_sched\": 9084.0, \"num_vp\": 8692.0, \"avg\": 0.9568472038749449, \"District Average\": \"95.68%\"}, {\"caltrans_district\": \"02 - Redding\", \"num_sched\": 750.0, \"num_vp\": 222.0, \"avg\": 0.296, \"District Average\": \"29.60%\"}, {\"caltrans_district\": \"08 - San Bernardino\", \"num_sched\": 3155.0, \"num_vp\": 1657.0, \"avg\": 0.5251980982567354, \"District Average\": \"52.52%\"}, {\"caltrans_district\": \"06 - Fresno\", \"num_sched\": 3651.0, \"num_vp\": 1429.0, \"avg\": 0.39139961654341276, \"District Average\": \"39.14%\"}, {\"caltrans_district\": \"09 - Bishop\", \"num_sched\": 186.0, \"num_vp\": 117.0, \"avg\": 0.6290322580645161, \"District Average\": \"62.90%\"}, {\"caltrans_district\": \"01 - Eureka\", \"num_sched\": 852.0, \"num_vp\": 218.0, \"avg\": 0.25586854460093894, \"District Average\": \"25.59%\"}, {\"caltrans_district\": \"12 - Irvine\", \"num_sched\": 6436.0, \"num_vp\": 3171.0, \"avg\": 0.49269732753262896, \"District Average\": \"49.27%\"}]}}, {\"mode\": \"vega-lite\"});\n",
       "</script>"
      ],
      "text/plain": [
       "alt.Chart(...)"
      ]
     },
     "execution_count": 14,
     "metadata": {},
     "output_type": "execute_result"
    }
   ],
   "source": [
    "display(HTML('<strong>Districts Average of Scheduled & RT Vehicle Position Data</strong>'))\n",
    "bar = (alt.Chart(all_dist_avg)\n",
    "        .mark_bar(size=50)\n",
    "        .encode(\n",
    "            x=alt.X('caltrans_district', title=utils.labeling('caltrans_district')),\n",
    "            y=alt.Y('avg', title=utils.labeling('Average'), axis=alt.Axis(format='%')),\n",
    "            color=alt.condition(\n",
    "        alt.FieldOneOfPredicate('caltrans_district', [f'{district}']),  # If the district is parameter then return true,\n",
    "        alt.value('orange'),     # which sets the bar orange.\n",
    "        alt.value('steelblue')   # And if it's not true it sets the bar steelblue.\n",
    "            )\n",
    "        ))\n",
    "## code help: https://stackoverflow.com/questions/71082262/highlighting-specific-columns-in-bar-chart-in-python-using-altair\n",
    "bar.properties(width=700)"
   ]
  },
  {
   "cell_type": "code",
   "execution_count": 16,
   "id": "8660d091-013b-4bbd-abe8-d97b02af86fd",
   "metadata": {},
   "outputs": [],
   "source": [
    "dist_avg_long = all_dist_avg.copy()\n",
    "dist_avg_long = dist_avg_long.rename(columns={ 'num_sched':'Total Number Scheduled Trips',\n",
    "                                            'num_vp':'Total Number Vehicle Position Trips'})\n",
    "dist_avg_long =  (dist_avg_long>>select(_.caltrans_district,\n",
    "                         _['Total Number Scheduled Trips'],\n",
    "                         _['Total Number Vehicle Position Trips']\n",
    "                        ) \n",
    "             >> gather('measure',\n",
    "                       'value',\n",
    "                       _['Total Number Scheduled Trips'],\n",
    "                       _['Total Number Vehicle Position Trips']\n",
    "                      )\n",
    "            )"
   ]
  },
  {
   "cell_type": "code",
   "execution_count": 17,
   "id": "ca7e8333-340f-422d-8758-a2010ac0ce8f",
   "metadata": {},
   "outputs": [
    {
     "data": {
      "text/html": [
       "<strong>Number of Scheduled and Vehicle Postion Trips in 04 - Oakland</strong>"
      ],
      "text/plain": [
       "<IPython.core.display.HTML object>"
      ]
     },
     "metadata": {},
     "output_type": "display_data"
    },
    {
     "data": {
      "text/html": [
       "\n",
       "<div id=\"altair-viz-29c3ab4dfac943bd93d697e4b9cc327a\"></div>\n",
       "<script type=\"text/javascript\">\n",
       "  var VEGA_DEBUG = (typeof VEGA_DEBUG == \"undefined\") ? {} : VEGA_DEBUG;\n",
       "  (function(spec, embedOpt){\n",
       "    let outputDiv = document.currentScript.previousElementSibling;\n",
       "    if (outputDiv.id !== \"altair-viz-29c3ab4dfac943bd93d697e4b9cc327a\") {\n",
       "      outputDiv = document.getElementById(\"altair-viz-29c3ab4dfac943bd93d697e4b9cc327a\");\n",
       "    }\n",
       "    const paths = {\n",
       "      \"vega\": \"https://cdn.jsdelivr.net/npm//vega@5?noext\",\n",
       "      \"vega-lib\": \"https://cdn.jsdelivr.net/npm//vega-lib?noext\",\n",
       "      \"vega-lite\": \"https://cdn.jsdelivr.net/npm//vega-lite@4.17.0?noext\",\n",
       "      \"vega-embed\": \"https://cdn.jsdelivr.net/npm//vega-embed@6?noext\",\n",
       "    };\n",
       "\n",
       "    function maybeLoadScript(lib, version) {\n",
       "      var key = `${lib.replace(\"-\", \"\")}_version`;\n",
       "      return (VEGA_DEBUG[key] == version) ?\n",
       "        Promise.resolve(paths[lib]) :\n",
       "        new Promise(function(resolve, reject) {\n",
       "          var s = document.createElement('script');\n",
       "          document.getElementsByTagName(\"head\")[0].appendChild(s);\n",
       "          s.async = true;\n",
       "          s.onload = () => {\n",
       "            VEGA_DEBUG[key] = version;\n",
       "            return resolve(paths[lib]);\n",
       "          };\n",
       "          s.onerror = () => reject(`Error loading script: ${paths[lib]}`);\n",
       "          s.src = paths[lib];\n",
       "        });\n",
       "    }\n",
       "\n",
       "    function showError(err) {\n",
       "      outputDiv.innerHTML = `<div class=\"error\" style=\"color:red;\">${err}</div>`;\n",
       "      throw err;\n",
       "    }\n",
       "\n",
       "    function displayChart(vegaEmbed) {\n",
       "      vegaEmbed(outputDiv, spec, embedOpt)\n",
       "        .catch(err => showError(`Javascript Error: ${err.message}<br>This usually means there's a typo in your chart specification. See the javascript console for the full traceback.`));\n",
       "    }\n",
       "\n",
       "    if(typeof define === \"function\" && define.amd) {\n",
       "      requirejs.config({paths});\n",
       "      require([\"vega-embed\"], displayChart, err => showError(`Error loading script: ${err.message}`));\n",
       "    } else {\n",
       "      maybeLoadScript(\"vega\", \"5\")\n",
       "        .then(() => maybeLoadScript(\"vega-lite\", \"4.17.0\"))\n",
       "        .then(() => maybeLoadScript(\"vega-embed\", \"6\"))\n",
       "        .catch(showError)\n",
       "        .then(() => displayChart(vegaEmbed));\n",
       "    }\n",
       "  })({\"config\": {\"view\": {\"continuousWidth\": 400, \"continuousHeight\": 300}}, \"data\": {\"name\": \"data-4ae20ca6cc2554ab34dfab2fcf7818d6\"}, \"mark\": {\"type\": \"bar\", \"size\": 50}, \"encoding\": {\"color\": {\"field\": \"measure\", \"type\": \"nominal\"}, \"tooltip\": [{\"field\": \"caltrans_district\", \"title\": \"Caltrans District\", \"type\": \"nominal\"}, {\"field\": \"value\", \"title\": \"Value\", \"type\": \"quantitative\"}], \"x\": {\"field\": \"caltrans_district\", \"sort\": \"x\", \"title\": \"Caltrans District\", \"type\": \"nominal\"}, \"y\": {\"field\": \"value\", \"stack\": null, \"type\": \"quantitative\"}}, \"width\": 800, \"$schema\": \"https://vega.github.io/schema/vega-lite/v4.17.0.json\", \"datasets\": {\"data-4ae20ca6cc2554ab34dfab2fcf7818d6\": [{\"caltrans_district\": null, \"measure\": \"Total Number Scheduled Trips\", \"value\": null}, {\"caltrans_district\": \"05 - San Luis Obispo\", \"measure\": \"Total Number Scheduled Trips\", \"value\": 2573.0}, {\"caltrans_district\": \"07 - Los Angeles\", \"measure\": \"Total Number Scheduled Trips\", \"value\": 29481.0}, {\"caltrans_district\": \"04 - Oakland\", \"measure\": \"Total Number Scheduled Trips\", \"value\": 32396.0}, {\"caltrans_district\": \"10 - Stockton\", \"measure\": \"Total Number Scheduled Trips\", \"value\": 2902.0}, {\"caltrans_district\": \"03 - Marysville\", \"measure\": \"Total Number Scheduled Trips\", \"value\": 6075.0}, {\"caltrans_district\": \"11 - San Diego\", \"measure\": \"Total Number Scheduled Trips\", \"value\": 9084.0}, {\"caltrans_district\": \"02 - Redding\", \"measure\": \"Total Number Scheduled Trips\", \"value\": 750.0}, {\"caltrans_district\": \"08 - San Bernardino\", \"measure\": \"Total Number Scheduled Trips\", \"value\": 3155.0}, {\"caltrans_district\": \"06 - Fresno\", \"measure\": \"Total Number Scheduled Trips\", \"value\": 3651.0}, {\"caltrans_district\": \"09 - Bishop\", \"measure\": \"Total Number Scheduled Trips\", \"value\": 186.0}, {\"caltrans_district\": \"01 - Eureka\", \"measure\": \"Total Number Scheduled Trips\", \"value\": 852.0}, {\"caltrans_district\": \"12 - Irvine\", \"measure\": \"Total Number Scheduled Trips\", \"value\": 6436.0}, {\"caltrans_district\": null, \"measure\": \"Total Number Vehicle Position Trips\", \"value\": null}, {\"caltrans_district\": \"05 - San Luis Obispo\", \"measure\": \"Total Number Vehicle Position Trips\", \"value\": 694.0}, {\"caltrans_district\": \"07 - Los Angeles\", \"measure\": \"Total Number Vehicle Position Trips\", \"value\": 20287.0}, {\"caltrans_district\": \"04 - Oakland\", \"measure\": \"Total Number Vehicle Position Trips\", \"value\": 20776.0}, {\"caltrans_district\": \"10 - Stockton\", \"measure\": \"Total Number Vehicle Position Trips\", \"value\": 1980.0}, {\"caltrans_district\": \"03 - Marysville\", \"measure\": \"Total Number Vehicle Position Trips\", \"value\": 259.0}, {\"caltrans_district\": \"11 - San Diego\", \"measure\": \"Total Number Vehicle Position Trips\", \"value\": 8692.0}, {\"caltrans_district\": \"02 - Redding\", \"measure\": \"Total Number Vehicle Position Trips\", \"value\": 222.0}, {\"caltrans_district\": \"08 - San Bernardino\", \"measure\": \"Total Number Vehicle Position Trips\", \"value\": 1657.0}, {\"caltrans_district\": \"06 - Fresno\", \"measure\": \"Total Number Vehicle Position Trips\", \"value\": 1429.0}, {\"caltrans_district\": \"09 - Bishop\", \"measure\": \"Total Number Vehicle Position Trips\", \"value\": 117.0}, {\"caltrans_district\": \"01 - Eureka\", \"measure\": \"Total Number Vehicle Position Trips\", \"value\": 218.0}, {\"caltrans_district\": \"12 - Irvine\", \"measure\": \"Total Number Vehicle Position Trips\", \"value\": 3171.0}]}}, {\"mode\": \"vega-lite\"});\n",
       "</script>"
      ],
      "text/plain": [
       "alt.Chart(...)"
      ]
     },
     "execution_count": 17,
     "metadata": {},
     "output_type": "execute_result"
    }
   ],
   "source": [
    "display(HTML(f\"<strong>Number of Scheduled and Vehicle Postion Trips in {district}</strong>\"))\n",
    "\n",
    "(utils.bar_chart_over_time((dist_avg_long),\n",
    "                           'caltrans_district','value','measure',',f', 'x', '')).mark_bar(size=50).encode(y=alt.Y('value', stack = None,)).properties(width=800)"
   ]
  },
  {
   "cell_type": "code",
   "execution_count": null,
   "id": "989b8be7-135a-4eee-a413-d0d49b4a2a70",
   "metadata": {},
   "outputs": [],
   "source": []
  },
  {
   "cell_type": "code",
   "execution_count": null,
   "id": "e71f4a37-ec38-4c32-a279-9408d97bcb53",
   "metadata": {},
   "outputs": [],
   "source": []
  },
  {
   "cell_type": "code",
   "execution_count": 18,
   "id": "4d7a3ce8-543c-49a3-a4fc-80728530e9c8",
   "metadata": {},
   "outputs": [],
   "source": [
    "d_overall_avg = (utils.get_agg_pct(d,\n",
    "                            groupings = ['service_date'],\n",
    "                            sum_sched = 'num_sched',\n",
    "                            sum_vp = 'num_vp'))"
   ]
  },
  {
   "cell_type": "code",
   "execution_count": 19,
   "id": "303df99f-ff74-4a3a-a6b3-816511a5fe47",
   "metadata": {},
   "outputs": [],
   "source": [
    "dist_overall_avg_long = d_overall_avg.copy()\n",
    "dist_overall_avg_long = dist_overall_avg_long.rename(columns={ 'num_sched':'Total Number Scheduled Trips',\n",
    "                                            'num_vp':'Total Number Vehicle Position Trips'})\n",
    "dist_overall_avg_long = (dist_overall_avg_long>>select(_.service_date,\n",
    "                         _['Total Number Scheduled Trips'],\n",
    "                         _['Total Number Vehicle Position Trips']\n",
    "                        ) \n",
    "             >> gather('measure',\n",
    "                       'value',\n",
    "                       _['Total Number Scheduled Trips'],\n",
    "                       _['Total Number Vehicle Position Trips']\n",
    "                      ))"
   ]
  },
  {
   "cell_type": "code",
   "execution_count": 20,
   "id": "6e3b220e-9e8a-4e0a-b116-7b64245f5ce9",
   "metadata": {},
   "outputs": [
    {
     "data": {
      "text/html": [
       "<strong>Number of Scheduled and Vehicle Postion Trips in 04 - Oakland by Day</strong>"
      ],
      "text/plain": [
       "<IPython.core.display.HTML object>"
      ]
     },
     "metadata": {},
     "output_type": "display_data"
    },
    {
     "data": {
      "text/html": [
       "\n",
       "<div id=\"altair-viz-cf8927d2b98b4726852e0cab7d820174\"></div>\n",
       "<script type=\"text/javascript\">\n",
       "  var VEGA_DEBUG = (typeof VEGA_DEBUG == \"undefined\") ? {} : VEGA_DEBUG;\n",
       "  (function(spec, embedOpt){\n",
       "    let outputDiv = document.currentScript.previousElementSibling;\n",
       "    if (outputDiv.id !== \"altair-viz-cf8927d2b98b4726852e0cab7d820174\") {\n",
       "      outputDiv = document.getElementById(\"altair-viz-cf8927d2b98b4726852e0cab7d820174\");\n",
       "    }\n",
       "    const paths = {\n",
       "      \"vega\": \"https://cdn.jsdelivr.net/npm//vega@5?noext\",\n",
       "      \"vega-lib\": \"https://cdn.jsdelivr.net/npm//vega-lib?noext\",\n",
       "      \"vega-lite\": \"https://cdn.jsdelivr.net/npm//vega-lite@4.17.0?noext\",\n",
       "      \"vega-embed\": \"https://cdn.jsdelivr.net/npm//vega-embed@6?noext\",\n",
       "    };\n",
       "\n",
       "    function maybeLoadScript(lib, version) {\n",
       "      var key = `${lib.replace(\"-\", \"\")}_version`;\n",
       "      return (VEGA_DEBUG[key] == version) ?\n",
       "        Promise.resolve(paths[lib]) :\n",
       "        new Promise(function(resolve, reject) {\n",
       "          var s = document.createElement('script');\n",
       "          document.getElementsByTagName(\"head\")[0].appendChild(s);\n",
       "          s.async = true;\n",
       "          s.onload = () => {\n",
       "            VEGA_DEBUG[key] = version;\n",
       "            return resolve(paths[lib]);\n",
       "          };\n",
       "          s.onerror = () => reject(`Error loading script: ${paths[lib]}`);\n",
       "          s.src = paths[lib];\n",
       "        });\n",
       "    }\n",
       "\n",
       "    function showError(err) {\n",
       "      outputDiv.innerHTML = `<div class=\"error\" style=\"color:red;\">${err}</div>`;\n",
       "      throw err;\n",
       "    }\n",
       "\n",
       "    function displayChart(vegaEmbed) {\n",
       "      vegaEmbed(outputDiv, spec, embedOpt)\n",
       "        .catch(err => showError(`Javascript Error: ${err.message}<br>This usually means there's a typo in your chart specification. See the javascript console for the full traceback.`));\n",
       "    }\n",
       "\n",
       "    if(typeof define === \"function\" && define.amd) {\n",
       "      requirejs.config({paths});\n",
       "      require([\"vega-embed\"], displayChart, err => showError(`Error loading script: ${err.message}`));\n",
       "    } else {\n",
       "      maybeLoadScript(\"vega\", \"5\")\n",
       "        .then(() => maybeLoadScript(\"vega-lite\", \"4.17.0\"))\n",
       "        .then(() => maybeLoadScript(\"vega-embed\", \"6\"))\n",
       "        .catch(showError)\n",
       "        .then(() => displayChart(vegaEmbed));\n",
       "    }\n",
       "  })({\"config\": {\"view\": {\"continuousWidth\": 400, \"continuousHeight\": 300}}, \"data\": {\"name\": \"data-70c6b63f64be036c3b45260ffe75d8f3\"}, \"mark\": {\"type\": \"bar\", \"size\": 50}, \"encoding\": {\"color\": {\"field\": \"measure\", \"type\": \"nominal\"}, \"tooltip\": [{\"field\": \"service_date\", \"title\": \"Service Date\", \"type\": \"temporal\"}, {\"field\": \"value\", \"title\": \"Value\", \"type\": \"quantitative\"}], \"x\": {\"field\": \"service_date\", \"sort\": \"x\", \"title\": \"Service Date\", \"type\": \"temporal\"}, \"y\": {\"field\": \"value\", \"stack\": null, \"type\": \"quantitative\"}}, \"width\": 800, \"$schema\": \"https://vega.github.io/schema/vega-lite/v4.17.0.json\", \"datasets\": {\"data-70c6b63f64be036c3b45260ffe75d8f3\": [{\"service_date\": \"2022-05-04T00:00:00\", \"measure\": \"Total Number Scheduled Trips\", \"value\": 32396}, {\"service_date\": \"2022-05-04T00:00:00\", \"measure\": \"Total Number Vehicle Position Trips\", \"value\": 20776}]}}, {\"mode\": \"vega-lite\"});\n",
       "</script>"
      ],
      "text/plain": [
       "alt.Chart(...)"
      ]
     },
     "execution_count": 20,
     "metadata": {},
     "output_type": "execute_result"
    }
   ],
   "source": [
    "display(HTML(f\"<strong>Number of Scheduled and Vehicle Postion Trips in {district} by Day</strong>\"))\n",
    "\n",
    "(utils.bar_chart_over_time((dist_overall_avg_long),\n",
    "                           'service_date','value','measure',',f', 'x', '')).mark_bar(size=50).encode(y=alt.Y('value', stack = None,)).properties(width=800)"
   ]
  },
  {
   "cell_type": "code",
   "execution_count": null,
   "id": "a3506239-196c-416f-898d-5d8eb479d335",
   "metadata": {},
   "outputs": [],
   "source": []
  },
  {
   "cell_type": "code",
   "execution_count": 47,
   "id": "6cafacd7-0306-41c6-a561-762c6d0ebdfb",
   "metadata": {},
   "outputs": [
    {
     "data": {
      "text/html": [
       "<h3>Organization Averages in District 4</h3>"
      ],
      "text/plain": [
       "<IPython.core.display.HTML object>"
      ]
     },
     "metadata": {},
     "output_type": "display_data"
    }
   ],
   "source": [
    "display(HTML(f\"<h3>Organization Averages in {district_short_name}</h3>\"))"
   ]
  },
  {
   "cell_type": "code",
   "execution_count": 21,
   "id": "ff8e9ccf-42f9-4cac-81ee-aa5f1c57f719",
   "metadata": {},
   "outputs": [],
   "source": [
    "d_agency_date_avg = (utils.get_agg_pct(d,\n",
    "                            groupings = ['calitp_itp_id', 'agency_name', 'service_date'],\n",
    "                            sum_sched = 'num_sched',\n",
    "                            sum_vp = 'num_vp'))"
   ]
  },
  {
   "cell_type": "code",
   "execution_count": 51,
   "id": "2b481e89-1fe8-4860-b69f-36ed5a69a5e8",
   "metadata": {},
   "outputs": [
    {
     "data": {
      "text/html": [
       "<strong>District 4 Average Percent of Scheduled Trips with Vehicle Postions Data by Route Over Time</strong>"
      ],
      "text/plain": [
       "<IPython.core.display.HTML object>"
      ]
     },
     "metadata": {},
     "output_type": "display_data"
    },
    {
     "data": {
      "text/markdown": [
       "To utilize the multi-select, use `shift` when clicking routes in the legend"
      ],
      "text/plain": [
       "<IPython.core.display.Markdown object>"
      ]
     },
     "metadata": {},
     "output_type": "display_data"
    },
    {
     "data": {
      "text/html": [
       "\n",
       "<div id=\"altair-viz-2c9dcd1290a7465e8d61e27e47e91011\"></div>\n",
       "<script type=\"text/javascript\">\n",
       "  var VEGA_DEBUG = (typeof VEGA_DEBUG == \"undefined\") ? {} : VEGA_DEBUG;\n",
       "  (function(spec, embedOpt){\n",
       "    let outputDiv = document.currentScript.previousElementSibling;\n",
       "    if (outputDiv.id !== \"altair-viz-2c9dcd1290a7465e8d61e27e47e91011\") {\n",
       "      outputDiv = document.getElementById(\"altair-viz-2c9dcd1290a7465e8d61e27e47e91011\");\n",
       "    }\n",
       "    const paths = {\n",
       "      \"vega\": \"https://cdn.jsdelivr.net/npm//vega@5?noext\",\n",
       "      \"vega-lib\": \"https://cdn.jsdelivr.net/npm//vega-lib?noext\",\n",
       "      \"vega-lite\": \"https://cdn.jsdelivr.net/npm//vega-lite@4.17.0?noext\",\n",
       "      \"vega-embed\": \"https://cdn.jsdelivr.net/npm//vega-embed@6?noext\",\n",
       "    };\n",
       "\n",
       "    function maybeLoadScript(lib, version) {\n",
       "      var key = `${lib.replace(\"-\", \"\")}_version`;\n",
       "      return (VEGA_DEBUG[key] == version) ?\n",
       "        Promise.resolve(paths[lib]) :\n",
       "        new Promise(function(resolve, reject) {\n",
       "          var s = document.createElement('script');\n",
       "          document.getElementsByTagName(\"head\")[0].appendChild(s);\n",
       "          s.async = true;\n",
       "          s.onload = () => {\n",
       "            VEGA_DEBUG[key] = version;\n",
       "            return resolve(paths[lib]);\n",
       "          };\n",
       "          s.onerror = () => reject(`Error loading script: ${paths[lib]}`);\n",
       "          s.src = paths[lib];\n",
       "        });\n",
       "    }\n",
       "\n",
       "    function showError(err) {\n",
       "      outputDiv.innerHTML = `<div class=\"error\" style=\"color:red;\">${err}</div>`;\n",
       "      throw err;\n",
       "    }\n",
       "\n",
       "    function displayChart(vegaEmbed) {\n",
       "      vegaEmbed(outputDiv, spec, embedOpt)\n",
       "        .catch(err => showError(`Javascript Error: ${err.message}<br>This usually means there's a typo in your chart specification. See the javascript console for the full traceback.`));\n",
       "    }\n",
       "\n",
       "    if(typeof define === \"function\" && define.amd) {\n",
       "      requirejs.config({paths});\n",
       "      require([\"vega-embed\"], displayChart, err => showError(`Error loading script: ${err.message}`));\n",
       "    } else {\n",
       "      maybeLoadScript(\"vega\", \"5\")\n",
       "        .then(() => maybeLoadScript(\"vega-lite\", \"4.17.0\"))\n",
       "        .then(() => maybeLoadScript(\"vega-embed\", \"6\"))\n",
       "        .catch(showError)\n",
       "        .then(() => displayChart(vegaEmbed));\n",
       "    }\n",
       "  })({\"config\": {\"view\": {\"continuousWidth\": 400, \"continuousHeight\": 300}}, \"data\": {\"name\": \"data-6cb4bc3a1d97b16e6ee4a841a3098b8b\"}, \"mark\": {\"type\": \"line\", \"point\": {\"filled\": false, \"fill\": \"white\"}}, \"encoding\": {\"color\": {\"field\": \"agency_name\", \"legend\": {\"columns\": 3, \"symbolLimit\": 0}, \"title\": [\"Agency Name\"], \"type\": \"nominal\"}, \"opacity\": {\"condition\": {\"value\": 1, \"selection\": \"selector003\"}, \"value\": 0}, \"strokeDash\": {\"field\": \"agency_name\", \"type\": \"nominal\"}, \"tooltip\": [{\"field\": \"agency_name\", \"title\": \"Agency Name\", \"type\": \"nominal\"}, {\"field\": \"service_date\", \"title\": \"Service Date\", \"type\": \"temporal\"}, {\"field\": \"service_date\", \"title\": \"Service Date\", \"type\": \"temporal\"}], \"x\": {\"field\": \"service_date\", \"title\": \"Service Date\", \"type\": \"temporal\"}, \"y\": {\"axis\": {\"format\": \"%\"}, \"field\": \"avg\", \"title\": \"Percent with Vehicle Positions\", \"type\": \"quantitative\"}}, \"selection\": {\"selector003\": {\"type\": \"multi\", \"fields\": [\"agency_name\"], \"bind\": \"legend\"}}, \"width\": 700, \"$schema\": \"https://vega.github.io/schema/vega-lite/v4.17.0.json\", \"datasets\": {\"data-6cb4bc3a1d97b16e6ee4a841a3098b8b\": [{\"calitp_itp_id\": 336, \"agency_name\": \"Tri Delta Transit\", \"service_date\": \"2022-05-04T00:00:00\", \"num_sched\": 369.0, \"num_vp\": 358.0, \"avg\": 0.9701897018970189}, {\"calitp_itp_id\": 61, \"agency_name\": null, \"service_date\": \"2022-05-04T00:00:00\", \"num_sched\": null, \"num_vp\": null, \"avg\": null}, {\"calitp_itp_id\": 324, \"agency_name\": \"Stanford Marguerite Shuttle\", \"service_date\": \"2022-05-04T00:00:00\", \"num_sched\": 660.0, \"num_vp\": 0.0, \"avg\": 0.0}, {\"calitp_itp_id\": 70, \"agency_name\": \"Sonoma County Transit\", \"service_date\": \"2022-05-04T00:00:00\", \"num_sched\": 251.0, \"num_vp\": 0.0, \"avg\": 0.0}, {\"calitp_itp_id\": 247, \"agency_name\": \"Petaluma Transit\", \"service_date\": \"2022-05-04T00:00:00\", \"num_sched\": 233.0, \"num_vp\": 0.0, \"avg\": 0.0}, {\"calitp_itp_id\": 281, \"agency_name\": \"San Francisco International Airport\", \"service_date\": \"2022-05-04T00:00:00\", \"num_sched\": 1049.0, \"num_vp\": 0.0, \"avg\": 0.0}, {\"calitp_itp_id\": 290, \"agency_name\": \"SamTrans\", \"service_date\": \"2022-05-04T00:00:00\", \"num_sched\": 1455.0, \"num_vp\": 3.0, \"avg\": 0.002061855670103093}, {\"calitp_itp_id\": 350, \"agency_name\": \"Union City Transit\", \"service_date\": \"2022-05-04T00:00:00\", \"num_sched\": 270.0, \"num_vp\": 124.0, \"avg\": 0.45925925925925926}, {\"calitp_itp_id\": 167, \"agency_name\": \"Livermore Amador Valley Transit Authority\", \"service_date\": \"2022-05-04T00:00:00\", \"num_sched\": 338.0, \"num_vp\": 262.0, \"avg\": 0.7751479289940828}, {\"calitp_itp_id\": 201, \"agency_name\": \"Mission Bay TMA\", \"service_date\": \"2022-05-04T00:00:00\", \"num_sched\": 111.0, \"num_vp\": 0.0, \"avg\": 0.0}, {\"calitp_itp_id\": 61, \"agency_name\": \"County Connection\", \"service_date\": \"2022-05-04T00:00:00\", \"num_sched\": 922.0, \"num_vp\": 662.0, \"avg\": 0.7180043383947939}, {\"calitp_itp_id\": 368, \"agency_name\": \"WestCat (Western Contra Costa)\", \"service_date\": \"2022-05-04T00:00:00\", \"num_sched\": 555.0, \"num_vp\": 0.0, \"avg\": 0.0}, {\"calitp_itp_id\": 264, \"agency_name\": \"Rio Vista Delta Breeze\", \"service_date\": \"2022-05-04T00:00:00\", \"num_sched\": 8.0, \"num_vp\": 0.0, \"avg\": 0.0}, {\"calitp_itp_id\": 294, \"agency_name\": \"VTA\", \"service_date\": \"2022-05-04T00:00:00\", \"num_sched\": 3657.0, \"num_vp\": 3560.0, \"avg\": 0.9734755263877495}, {\"calitp_itp_id\": 56, \"agency_name\": \"Capitol Corridor Joint Powers Authority\", \"service_date\": \"2022-05-04T00:00:00\", \"num_sched\": 51.0, \"num_vp\": 0.0, \"avg\": 0.0}, {\"calitp_itp_id\": 314, \"agency_name\": \"Sonoma County Transit\", \"service_date\": \"2022-05-04T00:00:00\", \"num_sched\": 251.0, \"num_vp\": 0.0, \"avg\": 0.0}, {\"calitp_itp_id\": 315, \"agency_name\": \"Sonoma Marin Area Rail Transit\", \"service_date\": \"2022-05-04T00:00:00\", \"num_sched\": 26.0, \"num_vp\": 26.0, \"avg\": 1.0}, {\"calitp_itp_id\": 356, \"agency_name\": \"Vacaville City Coach\", \"service_date\": \"2022-05-04T00:00:00\", \"num_sched\": 123.0, \"num_vp\": 0.0, \"avg\": 0.0}, {\"calitp_itp_id\": 127, \"agency_name\": \"Golden Gate Transit\", \"service_date\": \"2022-05-04T00:00:00\", \"num_sched\": 196.0, \"num_vp\": 196.0, \"avg\": 1.0}, {\"calitp_itp_id\": 194, \"agency_name\": \"Marin Transit\", \"service_date\": \"2022-05-04T00:00:00\", \"num_sched\": 704.0, \"num_vp\": 635.0, \"avg\": 0.9019886363636364}, {\"calitp_itp_id\": 218, \"agency_name\": \"VINE Transit\", \"service_date\": \"2022-05-04T00:00:00\", \"num_sched\": 216.0, \"num_vp\": 182.0, \"avg\": 0.8425925925925926}, {\"calitp_itp_id\": 246, \"agency_name\": \"Caltrain\", \"service_date\": \"2022-05-04T00:00:00\", \"num_sched\": 88.0, \"num_vp\": 68.0, \"avg\": 0.7727272727272727}, {\"calitp_itp_id\": 247, \"agency_name\": \"Petaluma\", \"service_date\": \"2022-05-04T00:00:00\", \"num_sched\": 233.0, \"num_vp\": 158.0, \"avg\": 0.6781115879828327}, {\"calitp_itp_id\": 290, \"agency_name\": null, \"service_date\": \"2022-05-04T00:00:00\", \"num_sched\": null, \"num_vp\": null, \"avg\": null}, {\"calitp_itp_id\": 310, \"agency_name\": \"SolTrans\", \"service_date\": \"2022-05-04T00:00:00\", \"num_sched\": 402.0, \"num_vp\": 349.0, \"avg\": 0.8681592039800995}, {\"calitp_itp_id\": 301, \"agency_name\": \"Santa Rosa CityBus\", \"service_date\": \"2022-05-04T00:00:00\", \"num_sched\": 573.0, \"num_vp\": 515.0, \"avg\": 0.8987783595113438}, {\"calitp_itp_id\": 257, \"agency_name\": \"PresidiGo\", \"service_date\": \"2022-05-04T00:00:00\", \"num_sched\": 45.0, \"num_vp\": 28.0, \"avg\": 0.6222222222222222}, {\"calitp_itp_id\": 106, \"agency_name\": \"Emery Go-Round\", \"service_date\": \"2022-05-04T00:00:00\", \"num_sched\": 133.0, \"num_vp\": 133.0, \"avg\": 1.0}, {\"calitp_itp_id\": 110, \"agency_name\": \"Fairfield and Suisun Transit\", \"service_date\": \"2022-05-04T00:00:00\", \"num_sched\": 317.0, \"num_vp\": 317.0, \"avg\": 1.0}, {\"calitp_itp_id\": 76, \"agency_name\": \"Commute.org Shuttles\", \"service_date\": \"2022-05-04T00:00:00\", \"num_sched\": 250.0, \"num_vp\": 0.0, \"avg\": 0.0}, {\"calitp_itp_id\": 282, \"agency_name\": \"San Francisco Municipal Transportation Agency\", \"service_date\": \"2022-05-04T00:00:00\", \"num_sched\": 8707.0, \"num_vp\": 8268.0, \"avg\": 0.9495807970598369}, {\"calitp_itp_id\": 279, \"agency_name\": null, \"service_date\": \"2022-05-04T00:00:00\", \"num_sched\": null, \"num_vp\": null, \"avg\": null}, {\"calitp_itp_id\": 4, \"agency_name\": \"AC TRANSIT\", \"service_date\": \"2022-05-04T00:00:00\", \"num_sched\": 5378.0, \"num_vp\": 4932.0, \"avg\": 0.9170695425808851}, {\"calitp_itp_id\": 76, \"agency_name\": \"SamTrans\", \"service_date\": \"2022-05-04T00:00:00\", \"num_sched\": 47.0, \"num_vp\": 0.0, \"avg\": 0.0}, {\"calitp_itp_id\": 127, \"agency_name\": null, \"service_date\": \"2022-05-04T00:00:00\", \"num_sched\": null, \"num_vp\": null, \"avg\": null}, {\"calitp_itp_id\": 279, \"agency_name\": \"Bay Area Rapid Transit\", \"service_date\": \"2022-05-04T00:00:00\", \"num_sched\": 1012.0, \"num_vp\": 0.0, \"avg\": 0.0}, {\"calitp_itp_id\": 280, \"agency_name\": \"San Francisco Bay Ferry\", \"service_date\": \"2022-05-04T00:00:00\", \"num_sched\": 141.0, \"num_vp\": 0.0, \"avg\": 0.0}, {\"calitp_itp_id\": 199, \"agency_name\": \"SamTrans\", \"service_date\": \"2022-05-04T00:00:00\", \"num_sched\": 24.0, \"num_vp\": 0.0, \"avg\": 0.0}]}}, {\"mode\": \"vega-lite\"});\n",
       "</script>"
      ],
      "text/plain": [
       "alt.Chart(...)"
      ]
     },
     "execution_count": 51,
     "metadata": {},
     "output_type": "execute_result"
    }
   ],
   "source": [
    "display(HTML(f\"<strong>{district_short_name} \"\n",
    "             f\"Average Percent of Scheduled Trips with Vehicle Postions Data \"\n",
    "             f\"by Route Over Time</strong>\"))\n",
    "display(Markdown(\"To utilize the multi-select, use `shift` when clicking routes in the legend\"))\n",
    "\n",
    "line = alt.Chart(d_agency_date_avg).mark_line(point={\"filled\": False, \"fill\":\"white\"}).encode(\n",
    "    x=alt.X('service_date', title=utils.labeling('service_date')),\n",
    "    y=alt.Y('avg', title=('Percent with Vehicle Positions'), axis=alt.Axis(format='%')),\n",
    "    color=alt.Color('agency_name', title=['Agency Name'],  legend=alt.Legend(columns=3, symbolLimit=0)),\n",
    "    strokeDash='agency_name')\n",
    "\n",
    "line_chart = utils.add_tooltip(line, 'agency_name','service_date', 'avg')\n",
    "line_chart = utils.add_chart_selection(line_chart, 'agency_name')\n",
    "line_chart.properties(width=700)"
   ]
  },
  {
   "cell_type": "code",
   "execution_count": null,
   "id": "106c4995-6ec6-4895-892f-5ca0583eb946",
   "metadata": {},
   "outputs": [],
   "source": []
  },
  {
   "cell_type": "code",
   "execution_count": null,
   "id": "1bd45843-0af3-4694-8e79-f3d1030a1b51",
   "metadata": {},
   "outputs": [],
   "source": []
  },
  {
   "cell_type": "code",
   "execution_count": 24,
   "id": "5222a55e-c8dc-4a5c-9fc6-bd4f123dc133",
   "metadata": {},
   "outputs": [],
   "source": [
    "## funky one\n",
    "#may4>>filter(_.agency_name== 'Commute.org Shuttles')"
   ]
  },
  {
   "cell_type": "code",
   "execution_count": null,
   "id": "aeca1323-b5a9-48ba-8dcb-48b045df8808",
   "metadata": {},
   "outputs": [],
   "source": []
  },
  {
   "cell_type": "code",
   "execution_count": 53,
   "id": "69a002e5-d848-43af-bb8e-3c3379b7af0e",
   "metadata": {},
   "outputs": [
    {
     "data": {
      "text/html": [
       "<h2>How Much Data is Available in the Current Model?</h2>"
      ],
      "text/plain": [
       "<IPython.core.display.HTML object>"
      ]
     },
     "metadata": {},
     "output_type": "display_data"
    }
   ],
   "source": [
    "display((HTML(\"<h2>How Much Data is Available in the Current Model?</h2>\")))"
   ]
  },
  {
   "cell_type": "code",
   "execution_count": 66,
   "id": "ad9c1442-7f58-43b7-a4fa-9590f50d31ed",
   "metadata": {},
   "outputs": [],
   "source": [
    "itp_id_avg = (\"{:.2f}%\".format(((len(d_avg>>filter(_.num_vp==0)>>arrange(_.calitp_itp_id)))/(len(d_avg)))*100))"
   ]
  },
  {
   "cell_type": "code",
   "execution_count": 68,
   "id": "ca66d623-d99a-4467-859a-0be62549e2ae",
   "metadata": {},
   "outputs": [
    {
     "data": {
      "text/html": [
       "Out of <strong>38 organizations in District District 4 </strong>with Scheduled Data, there are 15 or <strong>39.47% of organizations</strong> have <strong>no</strong> vehicle position data."
      ],
      "text/plain": [
       "<IPython.core.display.HTML object>"
      ]
     },
     "metadata": {},
     "output_type": "display_data"
    }
   ],
   "source": [
    "display(HTML(f\"Out of <strong>{len(d_avg)} organizations in District {district_short_name} </strong>\"\n",
    "             f\"with Scheduled Data, there are \"\n",
    "             f\"{(len(d_avg>>filter(_.num_vp==0)>>arrange(_.calitp_itp_id)))} or \"\n",
    "             f\"<strong>{itp_id_avg} of organizations</strong> \"\n",
    "             \"have <strong>no</strong> \"\n",
    "             \"vehicle position data.\"))"
   ]
  },
  {
   "cell_type": "code",
   "execution_count": 27,
   "id": "35693586-11ee-4a89-9175-5ab29c24123e",
   "metadata": {},
   "outputs": [],
   "source": [
    "df_all_avg = (utils.get_agg_pct(df_all,\n",
    "                            groupings = ['calitp_itp_id', 'agency_name'],\n",
    "                            sum_sched = 'num_sched',\n",
    "                            sum_vp = 'num_vp'))"
   ]
  },
  {
   "cell_type": "code",
   "execution_count": 28,
   "id": "2721e248-05d3-43a6-b26f-727995a62cfe",
   "metadata": {},
   "outputs": [],
   "source": [
    "have_vp_list = ((df_all_avg>>filter(_.num_vp!=0)>>arrange(_.calitp_itp_id))>>filter(_.agency_name.notnull())).agency_name.to_list()"
   ]
  },
  {
   "cell_type": "code",
   "execution_count": 29,
   "id": "e9abb4ae-0bd5-42a0-91b6-c86b396a9b26",
   "metadata": {},
   "outputs": [
    {
     "data": {
      "text/html": [
       "For all organizations in this dataset, only <strong>28.35%</strong> of the organizations have RT Vehicle Postion Data present"
      ],
      "text/plain": [
       "<IPython.core.display.HTML object>"
      ]
     },
     "metadata": {},
     "output_type": "display_data"
    }
   ],
   "source": [
    "display(HTML(f\"For all organizations in this dataset, only <strong>\"\n",
    "             f\"{('{:.2%}'.format((len(have_vp_list))/(len(df_all_avg>>filter(_.agency_name.notnull())))))}\"\n",
    "             f\"</strong> of the organizations have RT Vehicle Postion Data present\"))"
   ]
  },
  {
   "cell_type": "code",
   "execution_count": null,
   "id": "f81633b3-058e-4cf8-90d2-62fde26d7f3f",
   "metadata": {},
   "outputs": [],
   "source": []
  },
  {
   "cell_type": "code",
   "execution_count": null,
   "id": "91ec0f03-12ef-470f-9c75-490318ba18b0",
   "metadata": {},
   "outputs": [],
   "source": []
  },
  {
   "cell_type": "code",
   "execution_count": 30,
   "id": "657ae57e-6ba3-45d7-bedf-d8180dbe2ba1",
   "metadata": {},
   "outputs": [],
   "source": [
    "df_all['has_vp'] = df_all['agency_name'].isin(have_vp_list)\n"
   ]
  },
  {
   "cell_type": "code",
   "execution_count": 31,
   "id": "ffff0795-46ae-428e-b703-c182772d06b1",
   "metadata": {},
   "outputs": [],
   "source": [
    "has_vp = df_all>>filter(_.has_vp==True)"
   ]
  },
  {
   "cell_type": "code",
   "execution_count": null,
   "id": "5e64baec-0ee0-449d-b987-0d5c25961ca5",
   "metadata": {},
   "outputs": [],
   "source": []
  },
  {
   "cell_type": "code",
   "execution_count": 36,
   "id": "2184ef82-6f9a-454d-8ebf-e8b1b02e68a3",
   "metadata": {},
   "outputs": [
    {
     "data": {
      "text/html": [
       "<strong> District Averages filtered for Organizations with RT Present </strong>"
      ],
      "text/plain": [
       "<IPython.core.display.HTML object>"
      ]
     },
     "metadata": {},
     "output_type": "display_data"
    },
    {
     "data": {
      "text/html": [
       "<style type=\"text/css\">\n",
       "#T_328b0 th {\n",
       "  text-align: center;\n",
       "}\n",
       "#T_328b0_row0_col0, #T_328b0_row0_col1, #T_328b0_row1_col0, #T_328b0_row1_col1, #T_328b0_row2_col0, #T_328b0_row2_col1, #T_328b0_row3_col0, #T_328b0_row3_col1, #T_328b0_row4_col0, #T_328b0_row4_col1, #T_328b0_row5_col0, #T_328b0_row5_col1, #T_328b0_row6_col0, #T_328b0_row6_col1, #T_328b0_row7_col0, #T_328b0_row7_col1, #T_328b0_row8_col0, #T_328b0_row8_col1, #T_328b0_row9_col0, #T_328b0_row9_col1, #T_328b0_row10_col0, #T_328b0_row10_col1, #T_328b0_row11_col0, #T_328b0_row11_col1, #T_328b0_row12_col0, #T_328b0_row12_col1 {\n",
       "  text-align: center;\n",
       "}\n",
       "</style>\n",
       "<table id=\"T_328b0\">\n",
       "  <thead>\n",
       "    <tr>\n",
       "      <th id=\"T_328b0_level0_col0\" class=\"col_heading level0 col0\" >Caltrans District</th>\n",
       "      <th id=\"T_328b0_level0_col1\" class=\"col_heading level0 col1\" >Avg Pct</th>\n",
       "    </tr>\n",
       "  </thead>\n",
       "  <tbody>\n",
       "    <tr>\n",
       "      <td id=\"T_328b0_row0_col0\" class=\"data row0 col0\" >01 - Eureka</td>\n",
       "      <td id=\"T_328b0_row0_col1\" class=\"data row0 col1\" >31.01%</td>\n",
       "    </tr>\n",
       "    <tr>\n",
       "      <td id=\"T_328b0_row1_col0\" class=\"data row1 col0\" >02 - Redding</td>\n",
       "      <td id=\"T_328b0_row1_col1\" class=\"data row1 col1\" >40.36%</td>\n",
       "    </tr>\n",
       "    <tr>\n",
       "      <td id=\"T_328b0_row2_col0\" class=\"data row2 col0\" >03 - Marysville</td>\n",
       "      <td id=\"T_328b0_row2_col1\" class=\"data row2 col1\" >9.20%</td>\n",
       "    </tr>\n",
       "    <tr>\n",
       "      <td id=\"T_328b0_row3_col0\" class=\"data row3 col0\" >04 - Oakland</td>\n",
       "      <td id=\"T_328b0_row3_col1\" class=\"data row3 col1\" >86.21%</td>\n",
       "    </tr>\n",
       "    <tr>\n",
       "      <td id=\"T_328b0_row4_col0\" class=\"data row4 col0\" >05 - San Luis Obispo</td>\n",
       "      <td id=\"T_328b0_row4_col1\" class=\"data row4 col1\" >71.33%</td>\n",
       "    </tr>\n",
       "    <tr>\n",
       "      <td id=\"T_328b0_row5_col0\" class=\"data row5 col0\" >06 - Fresno</td>\n",
       "      <td id=\"T_328b0_row5_col1\" class=\"data row5 col1\" >92.43%</td>\n",
       "    </tr>\n",
       "    <tr>\n",
       "      <td id=\"T_328b0_row6_col0\" class=\"data row6 col0\" >07 - Los Angeles</td>\n",
       "      <td id=\"T_328b0_row6_col1\" class=\"data row6 col1\" >88.23%</td>\n",
       "    </tr>\n",
       "    <tr>\n",
       "      <td id=\"T_328b0_row7_col0\" class=\"data row7 col0\" >08 - San Bernardino</td>\n",
       "      <td id=\"T_328b0_row7_col1\" class=\"data row7 col1\" >98.75%</td>\n",
       "    </tr>\n",
       "    <tr>\n",
       "      <td id=\"T_328b0_row8_col0\" class=\"data row8 col0\" >09 - Bishop</td>\n",
       "      <td id=\"T_328b0_row8_col1\" class=\"data row8 col1\" >62.90%</td>\n",
       "    </tr>\n",
       "    <tr>\n",
       "      <td id=\"T_328b0_row9_col0\" class=\"data row9 col0\" >10 - Stockton</td>\n",
       "      <td id=\"T_328b0_row9_col1\" class=\"data row9 col1\" >88.16%</td>\n",
       "    </tr>\n",
       "    <tr>\n",
       "      <td id=\"T_328b0_row10_col0\" class=\"data row10 col0\" >11 - San Diego</td>\n",
       "      <td id=\"T_328b0_row10_col1\" class=\"data row10 col1\" >97.62%</td>\n",
       "    </tr>\n",
       "    <tr>\n",
       "      <td id=\"T_328b0_row11_col0\" class=\"data row11 col0\" >12 - Irvine</td>\n",
       "      <td id=\"T_328b0_row11_col1\" class=\"data row11 col1\" >49.81%</td>\n",
       "    </tr>\n",
       "    <tr>\n",
       "      <td id=\"T_328b0_row12_col0\" class=\"data row12 col0\" >None</td>\n",
       "      <td id=\"T_328b0_row12_col1\" class=\"data row12 col1\" >nan%</td>\n",
       "    </tr>\n",
       "  </tbody>\n",
       "</table>\n"
      ],
      "text/plain": [
       "<IPython.core.display.HTML object>"
      ]
     },
     "metadata": {},
     "output_type": "display_data"
    }
   ],
   "source": [
    "display(HTML(\"<strong> District Averages filtered for Organizations with RT Present </strong>\"))\n",
    "with_rt = (utils.get_agg_pct(has_vp,\n",
    "                            groupings = ['caltrans_district'],\n",
    "                            sum_sched = 'num_sched',\n",
    "                            sum_vp = 'num_vp'))>>select(_.caltrans_district, _.avg)>>arrange(_.caltrans_district)\n",
    "with_rt['avg_pct'] = with_rt['avg'].astype(float).map(\"{:.2%}\".format)\n",
    "display(HTML(dla_utils.pretify_tables(with_rt>>select(_.caltrans_district, _.avg_pct))))"
   ]
  },
  {
   "cell_type": "code",
   "execution_count": 38,
   "id": "adcad17d-caed-4ae4-bc26-b287b0e35510",
   "metadata": {},
   "outputs": [
    {
     "data": {
      "text/html": [
       "<strong> District Averages NOT filtered for Organizations with RT Present </strong>"
      ],
      "text/plain": [
       "<IPython.core.display.HTML object>"
      ]
     },
     "metadata": {},
     "output_type": "display_data"
    },
    {
     "data": {
      "text/html": [
       "<style type=\"text/css\">\n",
       "#T_25c74 th {\n",
       "  text-align: center;\n",
       "}\n",
       "#T_25c74_row0_col0, #T_25c74_row0_col1, #T_25c74_row1_col0, #T_25c74_row1_col1, #T_25c74_row2_col0, #T_25c74_row2_col1, #T_25c74_row3_col0, #T_25c74_row3_col1, #T_25c74_row4_col0, #T_25c74_row4_col1, #T_25c74_row5_col0, #T_25c74_row5_col1, #T_25c74_row6_col0, #T_25c74_row6_col1, #T_25c74_row7_col0, #T_25c74_row7_col1, #T_25c74_row8_col0, #T_25c74_row8_col1, #T_25c74_row9_col0, #T_25c74_row9_col1, #T_25c74_row10_col0, #T_25c74_row10_col1, #T_25c74_row11_col0, #T_25c74_row11_col1, #T_25c74_row12_col0, #T_25c74_row12_col1 {\n",
       "  text-align: center;\n",
       "}\n",
       "</style>\n",
       "<table id=\"T_25c74\">\n",
       "  <thead>\n",
       "    <tr>\n",
       "      <th id=\"T_25c74_level0_col0\" class=\"col_heading level0 col0\" >Caltrans District</th>\n",
       "      <th id=\"T_25c74_level0_col1\" class=\"col_heading level0 col1\" >Avg Pct</th>\n",
       "    </tr>\n",
       "  </thead>\n",
       "  <tbody>\n",
       "    <tr>\n",
       "      <td id=\"T_25c74_row0_col0\" class=\"data row0 col0\" >01 - Eureka</td>\n",
       "      <td id=\"T_25c74_row0_col1\" class=\"data row0 col1\" >25.59%</td>\n",
       "    </tr>\n",
       "    <tr>\n",
       "      <td id=\"T_25c74_row1_col0\" class=\"data row1 col0\" >02 - Redding</td>\n",
       "      <td id=\"T_25c74_row1_col1\" class=\"data row1 col1\" >29.60%</td>\n",
       "    </tr>\n",
       "    <tr>\n",
       "      <td id=\"T_25c74_row2_col0\" class=\"data row2 col0\" >03 - Marysville</td>\n",
       "      <td id=\"T_25c74_row2_col1\" class=\"data row2 col1\" >4.26%</td>\n",
       "    </tr>\n",
       "    <tr>\n",
       "      <td id=\"T_25c74_row3_col0\" class=\"data row3 col0\" >04 - Oakland</td>\n",
       "      <td id=\"T_25c74_row3_col1\" class=\"data row3 col1\" >64.13%</td>\n",
       "    </tr>\n",
       "    <tr>\n",
       "      <td id=\"T_25c74_row4_col0\" class=\"data row4 col0\" >05 - San Luis Obispo</td>\n",
       "      <td id=\"T_25c74_row4_col1\" class=\"data row4 col1\" >26.97%</td>\n",
       "    </tr>\n",
       "    <tr>\n",
       "      <td id=\"T_25c74_row5_col0\" class=\"data row5 col0\" >06 - Fresno</td>\n",
       "      <td id=\"T_25c74_row5_col1\" class=\"data row5 col1\" >39.14%</td>\n",
       "    </tr>\n",
       "    <tr>\n",
       "      <td id=\"T_25c74_row6_col0\" class=\"data row6 col0\" >07 - Los Angeles</td>\n",
       "      <td id=\"T_25c74_row6_col1\" class=\"data row6 col1\" >68.81%</td>\n",
       "    </tr>\n",
       "    <tr>\n",
       "      <td id=\"T_25c74_row7_col0\" class=\"data row7 col0\" >08 - San Bernardino</td>\n",
       "      <td id=\"T_25c74_row7_col1\" class=\"data row7 col1\" >52.52%</td>\n",
       "    </tr>\n",
       "    <tr>\n",
       "      <td id=\"T_25c74_row8_col0\" class=\"data row8 col0\" >09 - Bishop</td>\n",
       "      <td id=\"T_25c74_row8_col1\" class=\"data row8 col1\" >62.90%</td>\n",
       "    </tr>\n",
       "    <tr>\n",
       "      <td id=\"T_25c74_row9_col0\" class=\"data row9 col0\" >10 - Stockton</td>\n",
       "      <td id=\"T_25c74_row9_col1\" class=\"data row9 col1\" >68.23%</td>\n",
       "    </tr>\n",
       "    <tr>\n",
       "      <td id=\"T_25c74_row10_col0\" class=\"data row10 col0\" >11 - San Diego</td>\n",
       "      <td id=\"T_25c74_row10_col1\" class=\"data row10 col1\" >95.68%</td>\n",
       "    </tr>\n",
       "    <tr>\n",
       "      <td id=\"T_25c74_row11_col0\" class=\"data row11 col0\" >12 - Irvine</td>\n",
       "      <td id=\"T_25c74_row11_col1\" class=\"data row11 col1\" >49.27%</td>\n",
       "    </tr>\n",
       "    <tr>\n",
       "      <td id=\"T_25c74_row12_col0\" class=\"data row12 col0\" >None</td>\n",
       "      <td id=\"T_25c74_row12_col1\" class=\"data row12 col1\" >nan%</td>\n",
       "    </tr>\n",
       "  </tbody>\n",
       "</table>\n"
      ],
      "text/plain": [
       "<IPython.core.display.HTML object>"
      ]
     },
     "metadata": {},
     "output_type": "display_data"
    }
   ],
   "source": [
    "display(HTML(\"<strong> District Averages NOT filtered for Organizations with RT Present </strong>\"))\n",
    "all_dist_avg['avg_pct'] = all_dist_avg['avg'].astype(float).map(\"{:.2%}\".format)\n",
    "display(HTML(dla_utils.pretify_tables(all_dist_avg>>select(_.caltrans_district, _.avg_pct)>>arrange(_.caltrans_district))))"
   ]
  },
  {
   "cell_type": "code",
   "execution_count": null,
   "id": "43bb9806-b14d-41f6-8248-985bbd78a09c",
   "metadata": {},
   "outputs": [],
   "source": []
  },
  {
   "cell_type": "code",
   "execution_count": null,
   "id": "548fbd01-5ead-4dd5-84dd-a19deb89fda9",
   "metadata": {},
   "outputs": [],
   "source": []
  },
  {
   "cell_type": "code",
   "execution_count": null,
   "id": "b076df72-6a15-44c7-914c-1bcc745c2645",
   "metadata": {},
   "outputs": [],
   "source": []
  },
  {
   "cell_type": "code",
   "execution_count": null,
   "id": "34622a51-8daa-4066-8368-0127623feaee",
   "metadata": {},
   "outputs": [],
   "source": []
  },
  {
   "cell_type": "code",
   "execution_count": null,
   "id": "86d28277-28d6-4707-82c1-f8dc1d47493d",
   "metadata": {},
   "outputs": [],
   "source": []
  },
  {
   "cell_type": "code",
   "execution_count": null,
   "id": "e9f20c1f-ce37-43c1-a39c-246dd4a524df",
   "metadata": {},
   "outputs": [],
   "source": []
  },
  {
   "cell_type": "code",
   "execution_count": null,
   "id": "6a6aa44f-5faa-4554-acfa-f094a4ddfea3",
   "metadata": {},
   "outputs": [],
   "source": []
  }
 ],
 "metadata": {
  "kernelspec": {
   "display_name": "Python 3 (ipykernel)",
   "language": "python",
   "name": "python3"
  },
  "language_info": {
   "codemirror_mode": {
    "name": "ipython",
    "version": 3
   },
   "file_extension": ".py",
   "mimetype": "text/x-python",
   "name": "python",
   "nbconvert_exporter": "python",
   "pygments_lexer": "ipython3",
   "version": "3.10.5"
  },
  "widgets": {
   "application/vnd.jupyter.widget-state+json": {
    "state": {},
    "version_major": 2,
    "version_minor": 0
   }
  }
 },
 "nbformat": 4,
 "nbformat_minor": 5
}
