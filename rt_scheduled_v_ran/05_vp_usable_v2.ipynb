{
 "cells": [
  {
   "cell_type": "markdown",
   "id": "7030d65c-ea3f-4ee7-a6cd-9ed8267bd74e",
   "metadata": {},
   "source": [
    "## Improving on Script\n",
    "* Feedback: https://github.com/cal-itp/data-analyses/pull/961"
   ]
  },
  {
   "cell_type": "code",
   "execution_count": 1,
   "id": "5aa8180f-9df6-4dad-a13e-7dfeb60f4fc7",
   "metadata": {},
   "outputs": [],
   "source": [
    "import datetime\n",
    "\n",
    "import dask\n",
    "import dask.dataframe as dd\n",
    "import geopandas as gpd\n",
    "import pandas as pd\n",
    "from calitp_data_analysis.geography_utils import WGS84\n",
    "from loguru import logger\n",
    "from scripts import vp_spatial_accuracy\n",
    "from segment_speed_utils import helpers, wrangle_shapes\n",
    "from segment_speed_utils.project_vars import (\n",
    "    GCS_FILE_PATH,\n",
    "    PROJECT_CRS,\n",
    "    SEGMENT_GCS,\n",
    "    analysis_date,\n",
    ")"
   ]
  },
  {
   "cell_type": "code",
   "execution_count": 2,
   "id": "e64d4bd2-73ed-4636-9067-a459d1ead87d",
   "metadata": {},
   "outputs": [],
   "source": [
    "pd.options.display.max_columns = 100\n",
    "pd.options.display.float_format = \"{:.2f}\".format\n",
    "pd.set_option(\"display.max_rows\", None)\n",
    "pd.set_option(\"display.max_colwidth\", None)"
   ]
  },
  {
   "cell_type": "markdown",
   "id": "803ca629-4e90-49fc-a2d6-793a600d1ef4",
   "metadata": {},
   "source": [
    "### Filter columns \n",
    "* ['trip_instance_key', 'location_timestamp_local', 'x','y','vp_idx']"
   ]
  },
  {
   "cell_type": "code",
   "execution_count": 3,
   "id": "cdc3d25e-b9a0-436e-9556-9fbbc1e0c5cb",
   "metadata": {},
   "outputs": [],
   "source": [
    "operator = \"Bay Area 511 Muni VehiclePositions\"\n",
    "gtfs_key = \"7cc0cb1871dfd558f11a2885c145d144\""
   ]
  },
  {
   "cell_type": "code",
   "execution_count": 57,
   "id": "4ba298df-5f05-4840-9258-34e78da24468",
   "metadata": {},
   "outputs": [],
   "source": [
    "def load_vp_usable(analysis_date):\n",
    "\n",
    "    # Delete schedule_gtfs_dataset_key later\n",
    "    df = dd.read_parquet(\n",
    "        f\"{SEGMENT_GCS}vp_usable_{analysis_date}\",\n",
    "        columns=[\n",
    "            \"schedule_gtfs_dataset_key\",\n",
    "            \"trip_instance_key\",\n",
    "            \"location_timestamp_local\",\n",
    "            \"x\",\n",
    "            \"y\",\n",
    "            \"vp_idx\",\n",
    "        ],\n",
    "    )\n",
    "\n",
    "    # Create a copy of location timestamp for the total_trip_time function\n",
    "    # to avoid type setting\n",
    "    df[\"max_time\"] = df.location_timestamp_local\n",
    "    return df"
   ]
  },
  {
   "cell_type": "code",
   "execution_count": 58,
   "id": "1dafdbaa-b4ec-4674-85b5-ca33883db605",
   "metadata": {},
   "outputs": [],
   "source": [
    "vp_usable = load_vp_usable(analysis_date)"
   ]
  },
  {
   "cell_type": "code",
   "execution_count": 59,
   "id": "00ef17f9-f0a7-4ff5-836c-ba0c0fd7f8d8",
   "metadata": {},
   "outputs": [
    {
     "data": {
      "text/plain": [
       "Index(['schedule_gtfs_dataset_key', 'trip_instance_key',\n",
       "       'location_timestamp_local', 'x', 'y', 'vp_idx', 'max_time'],\n",
       "      dtype='object')"
      ]
     },
     "execution_count": 59,
     "metadata": {},
     "output_type": "execute_result"
    }
   ],
   "source": [
    "vp_usable.columns"
   ]
  },
  {
   "cell_type": "code",
   "execution_count": 62,
   "id": "539f1010-133e-4d5c-82b7-b5bc1d016aae",
   "metadata": {},
   "outputs": [],
   "source": [
    "# Filter for now\n",
    "vp_usable2 = vp_usable.loc[vp_usable.schedule_gtfs_dataset_key == gtfs_key].reset_index(\n",
    "    drop=True\n",
    ")"
   ]
  },
  {
   "cell_type": "code",
   "execution_count": 63,
   "id": "2fd48c34-c5e1-439c-8b6a-4fdd05766250",
   "metadata": {},
   "outputs": [],
   "source": [
    "vp_usable2 = vp_usable2.compute()"
   ]
  },
  {
   "cell_type": "markdown",
   "id": "e66a0806-a9a4-4075-a300-b2d924fda0ed",
   "metadata": {},
   "source": [
    "### Total Trip Time\n",
    "* Addresses \"<i>in this function, min_time, max_time are created on the grouped df (vp_usable grouped by trip and binned minute)...I think to be safer, it should be created on vp_usable grouped by trip.</i>\"\n",
    "* The copy setting is now turned on?? How to get it to go away?"
   ]
  },
  {
   "cell_type": "code",
   "execution_count": 64,
   "id": "0eec9521-7049-4c91-9371-6198d0362c60",
   "metadata": {},
   "outputs": [],
   "source": [
    "def total_trip_time(vp_usable_df: pd.DataFrame):\n",
    "    \"\"\"\n",
    "    For each trip: find the total service minutes\n",
    "    recorded in real time data so we can compare it with\n",
    "    scheduled service minutes.\n",
    "    \"\"\"\n",
    "    subset = [\"location_timestamp_local\", \"trip_instance_key\", \"max_time\"]\n",
    "    vp_usable_df = vp_usable_df[subset]\n",
    "\n",
    "    # Need an extra copy of the column to find the max\n",
    "\n",
    "    # Find the max and the min time based on location timestamp\n",
    "    df = (\n",
    "        vp_usable_df.groupby([\"trip_instance_key\"])\n",
    "        .agg({\"location_timestamp_local\": \"min\", \"max_time\": \"max\"})\n",
    "        .reset_index()\n",
    "        .rename(columns={\"location_timestamp_local\": \"min_time\"})\n",
    "    )\n",
    "\n",
    "    # Find total rt service mins and add an extra minute\n",
    "    df[\"rt_service_min\"] = (df.max_time - df.min_time) / pd.Timedelta(minutes=1) + 1\n",
    "\n",
    "    # Return only one row per trip with the total trip time\n",
    "    df = df.drop(columns=[\"max_time\", \"min_time\"])\n",
    "\n",
    "    return df"
   ]
  },
  {
   "cell_type": "code",
   "execution_count": 73,
   "id": "9646def5-a13d-43c7-9af4-723a9f50ddb9",
   "metadata": {
    "tags": []
   },
   "outputs": [
    {
     "name": "stdout",
     "output_type": "stream",
     "text": [
      "2023-12-11 09:34:27.716717\n"
     ]
    },
    {
     "name": "stderr",
     "output_type": "stream",
     "text": [
      "2023-12-11 09:35:40.937 | INFO     | __main__:<module>:13 - execution time: 0:01:13.220638\n"
     ]
    }
   ],
   "source": [
    "start = datetime.datetime.now()\n",
    "print(start)\n",
    "total_trip_time_df = vp_usable.map_partitions(\n",
    "    total_trip_time,\n",
    "    meta={\n",
    "        \"trip_instance_key\": \"object\",\n",
    "        \"rt_service_min\": \"float64\",\n",
    "    },\n",
    "    align_dataframes=False,\n",
    ").persist()\n",
    "\n",
    "end = datetime.datetime.now()\n",
    "logger.info(f\"execution time: {end-start}\")"
   ]
  },
  {
   "cell_type": "code",
   "execution_count": 105,
   "id": "214072aa-3c42-46eb-b835-527c6b47da0b",
   "metadata": {},
   "outputs": [
    {
     "name": "stderr",
     "output_type": "stream",
     "text": [
      "2023-12-11 10:36:13.603 | INFO     | __main__:<module>:6 - execution time: 0:00:00.026458\n"
     ]
    },
    {
     "name": "stdout",
     "output_type": "stream",
     "text": [
      "2023-12-11 10:36:13.576859\n"
     ]
    }
   ],
   "source": [
    "start = datetime.datetime.now()\n",
    "print(start)\n",
    "test = total_trip_time(vp_usable)\n",
    "\n",
    "end = datetime.datetime.now()\n",
    "logger.info(f\"execution time: {end-start}\")"
   ]
  },
  {
   "cell_type": "code",
   "execution_count": 106,
   "id": "cef684a9-7164-44df-a359-5b275723a9a6",
   "metadata": {},
   "outputs": [
    {
     "data": {
      "text/plain": [
       "dask.dataframe.core.DataFrame"
      ]
     },
     "execution_count": 106,
     "metadata": {},
     "output_type": "execute_result"
    }
   ],
   "source": [
    "type(test)"
   ]
  },
  {
   "cell_type": "code",
   "execution_count": 104,
   "id": "77b50d47-d760-47cd-b805-89b93bba208a",
   "metadata": {},
   "outputs": [
    {
     "data": {
      "text/plain": [
       "86832"
      ]
     },
     "execution_count": 104,
     "metadata": {},
     "output_type": "execute_result"
    }
   ],
   "source": [
    "len(total_trip_time_df)"
   ]
  },
  {
   "cell_type": "code",
   "execution_count": 111,
   "id": "b442aae1-7650-4f4c-b0e8-d49369e04827",
   "metadata": {},
   "outputs": [
    {
     "ename": "AttributeError",
     "evalue": "'DataFrame' object has no attribute 'compute'",
     "output_type": "error",
     "traceback": [
      "\u001b[0;31m---------------------------------------------------------------------------\u001b[0m",
      "\u001b[0;31mAttributeError\u001b[0m                            Traceback (most recent call last)",
      "\u001b[0;32m/tmp/ipykernel_325/1213155398.py\u001b[0m in \u001b[0;36m?\u001b[0;34m()\u001b[0m\n\u001b[0;32m----> 1\u001b[0;31m \u001b[0mtotal_trip_time_df\u001b[0m \u001b[0;34m=\u001b[0m \u001b[0mtotal_trip_time_df\u001b[0m\u001b[0;34m.\u001b[0m\u001b[0mcompute\u001b[0m\u001b[0;34m(\u001b[0m\u001b[0;34m)\u001b[0m\u001b[0;34m\u001b[0m\u001b[0;34m\u001b[0m\u001b[0m\n\u001b[0m",
      "\u001b[0;32m/opt/conda/lib/python3.9/site-packages/pandas/core/generic.py\u001b[0m in \u001b[0;36m?\u001b[0;34m(self, name)\u001b[0m\n\u001b[1;32m   5898\u001b[0m             \u001b[0;32mand\u001b[0m \u001b[0mname\u001b[0m \u001b[0;32mnot\u001b[0m \u001b[0;32min\u001b[0m \u001b[0mself\u001b[0m\u001b[0;34m.\u001b[0m\u001b[0m_accessors\u001b[0m\u001b[0;34m\u001b[0m\u001b[0;34m\u001b[0m\u001b[0m\n\u001b[1;32m   5899\u001b[0m             \u001b[0;32mand\u001b[0m \u001b[0mself\u001b[0m\u001b[0;34m.\u001b[0m\u001b[0m_info_axis\u001b[0m\u001b[0;34m.\u001b[0m\u001b[0m_can_hold_identifiers_and_holds_name\u001b[0m\u001b[0;34m(\u001b[0m\u001b[0mname\u001b[0m\u001b[0;34m)\u001b[0m\u001b[0;34m\u001b[0m\u001b[0;34m\u001b[0m\u001b[0m\n\u001b[1;32m   5900\u001b[0m         ):\n\u001b[1;32m   5901\u001b[0m             \u001b[0;32mreturn\u001b[0m \u001b[0mself\u001b[0m\u001b[0;34m[\u001b[0m\u001b[0mname\u001b[0m\u001b[0;34m]\u001b[0m\u001b[0;34m\u001b[0m\u001b[0;34m\u001b[0m\u001b[0m\n\u001b[0;32m-> 5902\u001b[0;31m         \u001b[0;32mreturn\u001b[0m \u001b[0mobject\u001b[0m\u001b[0;34m.\u001b[0m\u001b[0m__getattribute__\u001b[0m\u001b[0;34m(\u001b[0m\u001b[0mself\u001b[0m\u001b[0;34m,\u001b[0m \u001b[0mname\u001b[0m\u001b[0;34m)\u001b[0m\u001b[0;34m\u001b[0m\u001b[0;34m\u001b[0m\u001b[0m\n\u001b[0m",
      "\u001b[0;31mAttributeError\u001b[0m: 'DataFrame' object has no attribute 'compute'"
     ]
    }
   ],
   "source": [
    "total_trip_time_df = total_trip_time_df.compute()"
   ]
  },
  {
   "cell_type": "markdown",
   "id": "6939e3ba-348f-4dbb-af87-c2fbd25aab5c",
   "metadata": {},
   "source": [
    "### Update Completeness"
   ]
  },
  {
   "cell_type": "code",
   "execution_count": 76,
   "id": "5227d5df-573e-449a-8fe1-90c8e965446f",
   "metadata": {},
   "outputs": [],
   "source": [
    "def two_pings_per_min(vp_usable_df: pd.DataFrame) -> pd.DataFrame:\n",
    "    \"\"\"\n",
    "    For each trip: find the median GTFS pings per minute,\n",
    "    the total minutes with at least 1 GTFS ping per minute,\n",
    "    and total minutes with at least 2 GTFS pings per minute.\n",
    "    \"\"\"\n",
    "    subset = [\"location_timestamp_local\", \"trip_instance_key\", \"vp_idx\"]\n",
    "    vp_usable_df = vp_usable_df[subset]\n",
    "\n",
    "    # Find number of pings each minute\n",
    "    df = (\n",
    "        vp_usable_df.groupby(\n",
    "            [\n",
    "                \"trip_instance_key\",\n",
    "                pd.Grouper(key=\"location_timestamp_local\", freq=\"1Min\"),\n",
    "            ]\n",
    "        )\n",
    "        .vp_idx.count()\n",
    "        .reset_index()\n",
    "        .rename(columns={\"vp_idx\": \"number_of_pings_per_minute\"})\n",
    "    )\n",
    "\n",
    "    # Determine which rows have 2+ pings per minute\n",
    "    df = df.assign(\n",
    "        min_w_atleast2_trip_updates=df.apply(\n",
    "            lambda x: 1 if x.number_of_pings_per_minute >= 2 else 0, axis=1\n",
    "        )\n",
    "    )\n",
    "\n",
    "    # Need a copy of numer of pings per minute to count for total minutes w gtfs\n",
    "    df[\"total_minute_w_gtfs\"] = df.number_of_pings_per_minute\n",
    "\n",
    "    # Find the total min with at least 2 pings per min\n",
    "    df = (\n",
    "        df.groupby([\"trip_instance_key\"])\n",
    "        .agg(\n",
    "            {\n",
    "                \"min_w_atleast2_trip_updates\": \"sum\",\n",
    "                \"number_of_pings_per_minute\": \"median\",\n",
    "                \"total_minute_w_gtfs\": \"count\",\n",
    "            }\n",
    "        )\n",
    "        .reset_index()\n",
    "        .rename(\n",
    "            columns={\n",
    "                \"number_of_pings_per_minute\": \"median_pings_per_min\",\n",
    "            }\n",
    "        )\n",
    "    )\n",
    "\n",
    "    return df"
   ]
  },
  {
   "cell_type": "code",
   "execution_count": 77,
   "id": "dc6c1a7f-de46-4b16-afc2-7d1951dae768",
   "metadata": {},
   "outputs": [],
   "source": [
    "update = two_pings_per_min(vp_usable2)"
   ]
  },
  {
   "cell_type": "code",
   "execution_count": 110,
   "id": "350dc530-e73c-480d-9ba1-0cd16ee72f90",
   "metadata": {},
   "outputs": [
    {
     "data": {
      "text/html": [
       "<div>\n",
       "<style scoped>\n",
       "    .dataframe tbody tr th:only-of-type {\n",
       "        vertical-align: middle;\n",
       "    }\n",
       "\n",
       "    .dataframe tbody tr th {\n",
       "        vertical-align: top;\n",
       "    }\n",
       "\n",
       "    .dataframe thead th {\n",
       "        text-align: right;\n",
       "    }\n",
       "</style>\n",
       "<table border=\"1\" class=\"dataframe\">\n",
       "  <thead>\n",
       "    <tr style=\"text-align: right;\">\n",
       "      <th></th>\n",
       "      <th>trip_instance_key</th>\n",
       "      <th>min_w_atleast2_trip_updates</th>\n",
       "      <th>median_pings_per_min</th>\n",
       "      <th>total_minute_w_gtfs</th>\n",
       "    </tr>\n",
       "  </thead>\n",
       "  <tbody>\n",
       "    <tr>\n",
       "      <th>0</th>\n",
       "      <td>00040782d9c6ac2e2179b660a78172af</td>\n",
       "      <td>48</td>\n",
       "      <td>3.00</td>\n",
       "      <td>49</td>\n",
       "    </tr>\n",
       "    <tr>\n",
       "      <th>1</th>\n",
       "      <td>00068beec6e7a45f81e8d39d099aaa06</td>\n",
       "      <td>55</td>\n",
       "      <td>3.00</td>\n",
       "      <td>56</td>\n",
       "    </tr>\n",
       "    <tr>\n",
       "      <th>2</th>\n",
       "      <td>000c57a57a2a162789915932a04709b9</td>\n",
       "      <td>64</td>\n",
       "      <td>3.00</td>\n",
       "      <td>65</td>\n",
       "    </tr>\n",
       "    <tr>\n",
       "      <th>3</th>\n",
       "      <td>00118123ee98d8b4590d4c8f46249c79</td>\n",
       "      <td>14</td>\n",
       "      <td>3.00</td>\n",
       "      <td>15</td>\n",
       "    </tr>\n",
       "    <tr>\n",
       "      <th>4</th>\n",
       "      <td>00172767ca26437a73e3852c1471920b</td>\n",
       "      <td>58</td>\n",
       "      <td>3.00</td>\n",
       "      <td>59</td>\n",
       "    </tr>\n",
       "  </tbody>\n",
       "</table>\n",
       "</div>"
      ],
      "text/plain": [
       "                  trip_instance_key  min_w_atleast2_trip_updates  \\\n",
       "0  00040782d9c6ac2e2179b660a78172af                           48   \n",
       "1  00068beec6e7a45f81e8d39d099aaa06                           55   \n",
       "2  000c57a57a2a162789915932a04709b9                           64   \n",
       "3  00118123ee98d8b4590d4c8f46249c79                           14   \n",
       "4  00172767ca26437a73e3852c1471920b                           58   \n",
       "\n",
       "   median_pings_per_min  total_minute_w_gtfs  \n",
       "0                  3.00                   49  \n",
       "1                  3.00                   56  \n",
       "2                  3.00                   65  \n",
       "3                  3.00                   15  \n",
       "4                  3.00                   59  "
      ]
     },
     "execution_count": 110,
     "metadata": {},
     "output_type": "execute_result"
    }
   ],
   "source": [
    "update.head()"
   ]
  },
  {
   "cell_type": "code",
   "execution_count": 79,
   "id": "d9bd4365-529e-471b-887d-06f37ca649c4",
   "metadata": {},
   "outputs": [
    {
     "name": "stdout",
     "output_type": "stream",
     "text": [
      "2023-12-11 09:44:04.116676\n"
     ]
    },
    {
     "name": "stderr",
     "output_type": "stream",
     "text": [
      "2023-12-11 09:45:49.131 | INFO     | __main__:<module>:15 - execution time: 0:01:45.014798\n"
     ]
    }
   ],
   "source": [
    "start = datetime.datetime.now()\n",
    "print(start)\n",
    "update_df = vp_usable.map_partitions(\n",
    "    two_pings_per_min,\n",
    "    meta={\n",
    "        \"trip_instance_key\": \"object\",\n",
    "        \"min_w_atleast2_trip_updates\": \"int64\",\n",
    "        \"median_pings_per_min\": \"float64\",\n",
    "        \"total_minute_w_gtfs\": \"int64\",\n",
    "    },\n",
    "    align_dataframes=False,\n",
    ").persist()\n",
    "\n",
    "end = datetime.datetime.now()\n",
    "logger.info(f\"execution time: {end-start}\")"
   ]
  },
  {
   "cell_type": "markdown",
   "id": "2e39d975-ef55-4ea8-b5ff-e5d5c3e8ff08",
   "metadata": {},
   "source": [
    "### Spatial Accuracy\n",
    "* Addresses \"<i>in next draft, work on grouping functions that belong together, such as this one. total_counts and total_counts_by_trip sound basically equivalent, and they are nearly doing the same thing, except total_counts actually creates 2 columns. work on logically grouping or absorbing functions or rewriting functions so the same function can now be used twice.\n",
    "Adapt this function to be used twice\n",
    "Compare it to this to find where they have stuff in common and which part should be removed from the generic function</i>\""
   ]
  },
  {
   "cell_type": "code",
   "execution_count": 80,
   "id": "a8096485-4962-4dde-8909-9d1ea9bb127a",
   "metadata": {},
   "outputs": [],
   "source": [
    "def grab_shape_keys_in_vp(vp_usable: dd.DataFrame, analysis_date: str) -> pd.DataFrame:\n",
    "    \"\"\"\n",
    "    Subset raw vp and find unique trip_instance_keys.\n",
    "    Create crosswalk to link trip_instance_key to shape_array_key.\n",
    "    \"\"\"\n",
    "    vp_usable = (\n",
    "        vp_usable[[\"trip_instance_key\"]].drop_duplicates().reset_index(drop=True)\n",
    "    )\n",
    "\n",
    "    trips_with_shape = helpers.import_scheduled_trips(\n",
    "        analysis_date,\n",
    "        columns=[\"trip_instance_key\", \"shape_array_key\"],\n",
    "        get_pandas=True,\n",
    "    )\n",
    "\n",
    "    # Only one row per trip/shape\n",
    "    # trip_instance_key and shape_array_key are the only 2 cols left\n",
    "    m1 = dd.merge(vp_usable, trips_with_shape, on=\"trip_instance_key\", how=\"inner\")\n",
    "\n",
    "    return m1"
   ]
  },
  {
   "cell_type": "code",
   "execution_count": 81,
   "id": "75c62e87-a298-405e-bf8e-f362bab9c0b0",
   "metadata": {},
   "outputs": [],
   "source": [
    "shapes_df = grab_shape_keys_in_vp(vp_usable, analysis_date)"
   ]
  },
  {
   "cell_type": "code",
   "execution_count": 83,
   "id": "54ef16ff-03a2-402e-a67b-a510dea4f0f4",
   "metadata": {},
   "outputs": [],
   "source": [
    "def buffer_shapes(\n",
    "    trips_with_shape: pd.DataFrame,\n",
    "    analysis_date: str,\n",
    "    buffer_meters: int = 35,\n",
    "):\n",
    "    \"\"\"\n",
    "    Filter scheduled shapes down to the shapes that appear in vp.\n",
    "    Buffer these.\n",
    "\n",
    "    Attach the shape geometry for a subset of shapes or trips.\n",
    "    \"\"\"\n",
    "    subset = trips_with_shape.shape_array_key.unique().compute().tolist()\n",
    "\n",
    "    shapes = helpers.import_scheduled_shapes(\n",
    "        analysis_date,\n",
    "        columns=[\"shape_array_key\", \"geometry\"],\n",
    "        filters=[[(\"shape_array_key\", \"in\", subset)]],\n",
    "        crs=PROJECT_CRS,\n",
    "        get_pandas=False,\n",
    "    ).pipe(helpers.remove_shapes_outside_ca)\n",
    "\n",
    "    # to_crs takes awhile, so do a filtering on only shapes we need\n",
    "    shapes = shapes.assign(geometry=shapes.geometry.buffer(buffer_meters))\n",
    "\n",
    "    trips_with_shape_geom = dd.merge(\n",
    "        shapes, trips_with_shape, on=\"shape_array_key\", how=\"inner\"\n",
    "    )\n",
    "\n",
    "    trips_with_shape_geom = trips_with_shape_geom.compute()\n",
    "    return trips_with_shape_geom"
   ]
  },
  {
   "cell_type": "code",
   "execution_count": 84,
   "id": "68b33291-c057-46b5-9cea-5ad1de2cdd42",
   "metadata": {},
   "outputs": [],
   "source": [
    "buffer_df = buffer_shapes(shapes_df, analysis_date, 35)"
   ]
  },
  {
   "cell_type": "code",
   "execution_count": 90,
   "id": "cb56d65d-471a-414b-8fe2-d8aade972ddc",
   "metadata": {},
   "outputs": [],
   "source": [
    "def vp_in_shape(\n",
    "    vp_usable: dd.DataFrame, trips_with_buffered_shape: gpd.GeoDataFrame\n",
    ") -> gpd.GeoDataFrame:\n",
    "\n",
    "    keep = [\"trip_instance_key\", \"x\", \"y\", \"location_timestamp_local\"]\n",
    "    vp_usable = vp_usable[keep]\n",
    "\n",
    "    vp_gdf = wrangle_shapes.vp_as_gdf(vp_usable)\n",
    "\n",
    "    gdf = pd.merge(\n",
    "        vp_gdf, trips_with_buffered_shape, on=\"trip_instance_key\", how=\"inner\"\n",
    "    )\n",
    "\n",
    "    gdf = gdf.assign(is_within=gdf.geometry_x.within(gdf.geometry_y))\n",
    "    gdf = gdf[[\"trip_instance_key\", \"location_timestamp_local\", \"is_within\"]]\n",
    "\n",
    "    return gdf"
   ]
  },
  {
   "cell_type": "code",
   "execution_count": 91,
   "id": "dd996bc1-ccf5-4bcf-9ce9-807e936913e1",
   "metadata": {},
   "outputs": [
    {
     "name": "stdout",
     "output_type": "stream",
     "text": [
      "2023-12-11 09:52:03.995864\n"
     ]
    },
    {
     "name": "stderr",
     "output_type": "stream",
     "text": [
      "2023-12-11 10:05:53.240 | INFO     | __main__:<module>:14 - execution time: 0:13:49.244378\n"
     ]
    }
   ],
   "source": [
    "start = datetime.datetime.now()\n",
    "print(start)\n",
    "spatial_accuracy_df1 = vp_usable.map_partitions(\n",
    "    vp_in_shape,\n",
    "    buffer_df,\n",
    "    meta={\n",
    "        \"trip_instance_key\": \"object\",\n",
    "        \"location_timestamp_local\": \"datetime64[ns]\",\n",
    "        \"is_within\": \"bool\",\n",
    "    },\n",
    "    align_dataframes=False,\n",
    ").persist()\n",
    "\n",
    "end = datetime.datetime.now()\n",
    "logger.info(f\"execution time: {end-start}\")"
   ]
  },
  {
   "cell_type": "markdown",
   "id": "b8c1051e-af7b-490d-8b09-b5044bd7fa7a",
   "metadata": {},
   "source": [
    "#### Adapt this to be used in multiple places"
   ]
  },
  {
   "cell_type": "code",
   "execution_count": 95,
   "id": "8736a406-abc1-4331-a350-598cda6c5e0f",
   "metadata": {},
   "outputs": [],
   "source": [
    "def total_vp_counts_by_trip(vp: gpd.GeoDataFrame, new_col_title: str) -> pd.DataFrame:\n",
    "    \"\"\"\n",
    "    Get a count of vp for each trip, whether or not those fall\n",
    "    within buffered shape or not\n",
    "    \"\"\"\n",
    "    count_vp = (\n",
    "        vp.groupby(\"trip_instance_key\", observed=True, group_keys=False)\n",
    "        .agg({\"location_timestamp_local\": \"count\"})\n",
    "        .reset_index()\n",
    "        .rename(columns={\"location_timestamp_local\": new_col_title})\n",
    "    )\n",
    "\n",
    "    return count_vp"
   ]
  },
  {
   "cell_type": "code",
   "execution_count": 98,
   "id": "3f7ecadb-ef13-4035-a7b7-fed2fc9ab15c",
   "metadata": {},
   "outputs": [],
   "source": [
    "def total_counts(result: dd.DataFrame):\n",
    "\n",
    "    # Find the total number of vps for each route\n",
    "    total_vp_df = total_vp_counts_by_trip(result, \"total_vp\")\n",
    "\n",
    "    # Find the total number of vps that actually fall within the  route shape\n",
    "    subset = [\"trip_instance_key\", \"location_timestamp_local\"]\n",
    "    result2 = result.loc[result.is_within == True].reset_index(drop=True)[subset]\n",
    "\n",
    "    vps_in_shape = total_vp_counts_by_trip(result2, \"vp_in_shape\")\n",
    "\n",
    "    # Count total vps for the trip\n",
    "    count_df = pd.merge(total_vp_df, vps_in_shape, on=\"trip_instance_key\", how=\"left\")\n",
    "\n",
    "    count_df = count_df.assign(\n",
    "        vp_in_shape=count_df.vp_in_shape.fillna(0).astype(\"int32\"),\n",
    "        total_vp=count_df.total_vp.fillna(0).astype(\"int32\"),\n",
    "    )\n",
    "\n",
    "    return count_df"
   ]
  },
  {
   "cell_type": "code",
   "execution_count": 99,
   "id": "64895df8-ab55-4251-a245-26b2f3e1808c",
   "metadata": {},
   "outputs": [
    {
     "name": "stdout",
     "output_type": "stream",
     "text": [
      "2023-12-11 10:11:12.640232\n"
     ]
    },
    {
     "name": "stderr",
     "output_type": "stream",
     "text": [
      "2023-12-11 10:11:14.805 | INFO     | __main__:<module>:13 - execution time: 0:00:02.164918\n"
     ]
    }
   ],
   "source": [
    "start = datetime.datetime.now()\n",
    "print(start)\n",
    "spatial_accuracy_df2 = spatial_accuracy_df1.map_partitions(\n",
    "    total_counts,\n",
    "    meta={\"trip_instance_key\": \"object\", \"total_vp\": \"int32\", \"vp_in_shape\": \"int32\"},\n",
    "    align_dataframes=False,\n",
    ").persist()\n",
    "\n",
    "end = datetime.datetime.now()\n",
    "logger.info(f\"execution time: {end-start}\")"
   ]
  },
  {
   "cell_type": "code",
   "execution_count": 101,
   "id": "8f3cbda0-4685-4568-8e60-4b3703ef5eeb",
   "metadata": {},
   "outputs": [],
   "source": [
    "spatial_accuracy_df2 = spatial_accuracy_df2.compute()"
   ]
  },
  {
   "cell_type": "code",
   "execution_count": 102,
   "id": "b6cfa291-414a-4df7-a26e-321bec0e03cf",
   "metadata": {},
   "outputs": [
    {
     "data": {
      "text/html": [
       "<div>\n",
       "<style scoped>\n",
       "    .dataframe tbody tr th:only-of-type {\n",
       "        vertical-align: middle;\n",
       "    }\n",
       "\n",
       "    .dataframe tbody tr th {\n",
       "        vertical-align: top;\n",
       "    }\n",
       "\n",
       "    .dataframe thead th {\n",
       "        text-align: right;\n",
       "    }\n",
       "</style>\n",
       "<table border=\"1\" class=\"dataframe\">\n",
       "  <thead>\n",
       "    <tr style=\"text-align: right;\">\n",
       "      <th></th>\n",
       "      <th>trip_instance_key</th>\n",
       "      <th>total_vp</th>\n",
       "      <th>vp_in_shape</th>\n",
       "    </tr>\n",
       "  </thead>\n",
       "  <tbody>\n",
       "    <tr>\n",
       "      <th>0</th>\n",
       "      <td>04f5b4b55721bc7660d35070f517a0ba</td>\n",
       "      <td>156</td>\n",
       "      <td>156</td>\n",
       "    </tr>\n",
       "    <tr>\n",
       "      <th>1</th>\n",
       "      <td>058eab708e0ac2975eed59769824834e</td>\n",
       "      <td>81</td>\n",
       "      <td>81</td>\n",
       "    </tr>\n",
       "    <tr>\n",
       "      <th>2</th>\n",
       "      <td>05943c816dcc57bf29e7a7fc1d5a6ebb</td>\n",
       "      <td>448</td>\n",
       "      <td>248</td>\n",
       "    </tr>\n",
       "    <tr>\n",
       "      <th>3</th>\n",
       "      <td>06915ade82a0b28d3dd71f86a4400080</td>\n",
       "      <td>108</td>\n",
       "      <td>108</td>\n",
       "    </tr>\n",
       "    <tr>\n",
       "      <th>4</th>\n",
       "      <td>06944145dd4971a65428be69c89b2b77</td>\n",
       "      <td>145</td>\n",
       "      <td>145</td>\n",
       "    </tr>\n",
       "  </tbody>\n",
       "</table>\n",
       "</div>"
      ],
      "text/plain": [
       "                  trip_instance_key  total_vp  vp_in_shape\n",
       "0  04f5b4b55721bc7660d35070f517a0ba       156          156\n",
       "1  058eab708e0ac2975eed59769824834e        81           81\n",
       "2  05943c816dcc57bf29e7a7fc1d5a6ebb       448          248\n",
       "3  06915ade82a0b28d3dd71f86a4400080       108          108\n",
       "4  06944145dd4971a65428be69c89b2b77       145          145"
      ]
     },
     "execution_count": 102,
     "metadata": {},
     "output_type": "execute_result"
    }
   ],
   "source": [
    "spatial_accuracy_df2.head()"
   ]
  },
  {
   "cell_type": "code",
   "execution_count": 112,
   "id": "e538088a-0b33-4414-9ed8-666b45661844",
   "metadata": {},
   "outputs": [
    {
     "data": {
      "text/plain": [
       "pandas.core.frame.DataFrame"
      ]
     },
     "execution_count": 112,
     "metadata": {},
     "output_type": "execute_result"
    }
   ],
   "source": [
    "type(update)"
   ]
  },
  {
   "cell_type": "markdown",
   "id": "f208f48c-d677-4343-9359-44c5d1559847",
   "metadata": {},
   "source": [
    "test_m = (total_trip_time_df.merge(update, on = \"trip_instance_key\", how = \"outer\")\n",
    "         .merge(spatial_accuracy_df2, on =\"trip_instance_key\", how = \"outer\")) "
   ]
  },
  {
   "cell_type": "markdown",
   "id": "d4e5ad18-bb8d-4259-bf58-8c2c35ee3b64",
   "metadata": {},
   "source": [
    "### Read back in the file 12/11"
   ]
  },
  {
   "cell_type": "code",
   "execution_count": 4,
   "id": "2e92b3ec-1069-4729-84fa-24412cbc155c",
   "metadata": {},
   "outputs": [],
   "source": [
    "full_df = pd.read_parquet(\"./scripts/rt_v_schedule_trip_metrics.parquet\")"
   ]
  },
  {
   "cell_type": "code",
   "execution_count": 7,
   "id": "82c7d45b-266d-433d-a054-085dbcaa1e73",
   "metadata": {},
   "outputs": [
    {
     "data": {
      "text/html": [
       "<div>\n",
       "<style scoped>\n",
       "    .dataframe tbody tr th:only-of-type {\n",
       "        vertical-align: middle;\n",
       "    }\n",
       "\n",
       "    .dataframe tbody tr th {\n",
       "        vertical-align: top;\n",
       "    }\n",
       "\n",
       "    .dataframe thead th {\n",
       "        text-align: right;\n",
       "    }\n",
       "</style>\n",
       "<table border=\"1\" class=\"dataframe\">\n",
       "  <thead>\n",
       "    <tr style=\"text-align: right;\">\n",
       "      <th></th>\n",
       "      <th>trip_instance_key</th>\n",
       "      <th>rt_service_min</th>\n",
       "      <th>min_w_atleast2_trip_updates</th>\n",
       "      <th>median_pings_per_min</th>\n",
       "      <th>total_minute_w_gtfs</th>\n",
       "      <th>total_vp</th>\n",
       "      <th>vp_in_shape</th>\n",
       "      <th>speed_mph</th>\n",
       "      <th>route_id</th>\n",
       "      <th>time_of_day</th>\n",
       "      <th>service_minutes</th>\n",
       "    </tr>\n",
       "  </thead>\n",
       "  <tbody>\n",
       "    <tr>\n",
       "      <th>75597</th>\n",
       "      <td>ee6e77a507b432d82e6a1cefed9b544f</td>\n",
       "      <td>71.13</td>\n",
       "      <td>70</td>\n",
       "      <td>3.00</td>\n",
       "      <td>71</td>\n",
       "      <td>211.00</td>\n",
       "      <td>211.00</td>\n",
       "      <td>7.09</td>\n",
       "      <td>19</td>\n",
       "      <td>Early AM</td>\n",
       "      <td>52.00</td>\n",
       "    </tr>\n",
       "  </tbody>\n",
       "</table>\n",
       "</div>"
      ],
      "text/plain": [
       "                      trip_instance_key  rt_service_min  \\\n",
       "75597  ee6e77a507b432d82e6a1cefed9b544f           71.13   \n",
       "\n",
       "       min_w_atleast2_trip_updates  median_pings_per_min  total_minute_w_gtfs  \\\n",
       "75597                           70                  3.00                   71   \n",
       "\n",
       "       total_vp  vp_in_shape  speed_mph route_id time_of_day  service_minutes  \n",
       "75597    211.00       211.00       7.09       19    Early AM            52.00  "
      ]
     },
     "execution_count": 7,
     "metadata": {},
     "output_type": "execute_result"
    }
   ],
   "source": [
    "full_df.sample()"
   ]
  },
  {
   "cell_type": "code",
   "execution_count": 8,
   "id": "a7f23536-0bce-4f49-a32e-6e51c5647031",
   "metadata": {},
   "outputs": [
    {
     "name": "stdout",
     "output_type": "stream",
     "text": [
      "<class 'pandas.core.frame.DataFrame'>\n",
      "Int64Index: 86832 entries, 0 to 86831\n",
      "Data columns (total 11 columns):\n",
      " #   Column                       Non-Null Count  Dtype  \n",
      "---  ------                       --------------  -----  \n",
      " 0   trip_instance_key            86832 non-null  object \n",
      " 1   rt_service_min               86832 non-null  float64\n",
      " 2   min_w_atleast2_trip_updates  86832 non-null  int64  \n",
      " 3   median_pings_per_min         86832 non-null  float64\n",
      " 4   total_minute_w_gtfs          86832 non-null  int64  \n",
      " 5   total_vp                     74891 non-null  float64\n",
      " 6   vp_in_shape                  74891 non-null  float64\n",
      " 7   speed_mph                    77194 non-null  float64\n",
      " 8   route_id                     75619 non-null  object \n",
      " 9   time_of_day                  77194 non-null  object \n",
      " 10  service_minutes              77194 non-null  float64\n",
      "dtypes: float64(6), int64(2), object(3)\n",
      "memory usage: 7.9+ MB\n"
     ]
    }
   ],
   "source": [
    "full_df.info()"
   ]
  },
  {
   "cell_type": "code",
   "execution_count": 6,
   "id": "0cdf7d96-95fd-4c52-a391-e31b48bdff8b",
   "metadata": {},
   "outputs": [
    {
     "data": {
      "text/plain": [
       "(86832, 86832)"
      ]
     },
     "execution_count": 6,
     "metadata": {},
     "output_type": "execute_result"
    }
   ],
   "source": [
    "full_df.trip_instance_key.nunique(), len(full_df)"
   ]
  }
 ],
 "metadata": {
  "kernelspec": {
   "display_name": "Python 3 (ipykernel)",
   "language": "python",
   "name": "python3"
  },
  "language_info": {
   "codemirror_mode": {
    "name": "ipython",
    "version": 3
   },
   "file_extension": ".py",
   "mimetype": "text/x-python",
   "name": "python",
   "nbconvert_exporter": "python",
   "pygments_lexer": "ipython3",
   "version": "3.9.13"
  }
 },
 "nbformat": 4,
 "nbformat_minor": 5
}
