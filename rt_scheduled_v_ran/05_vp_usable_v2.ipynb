{
 "cells": [
  {
   "cell_type": "markdown",
   "id": "7030d65c-ea3f-4ee7-a6cd-9ed8267bd74e",
   "metadata": {},
   "source": [
    "## Improving on Script\n",
    "* Feedback: https://github.com/cal-itp/data-analyses/pull/961"
   ]
  },
  {
   "cell_type": "code",
   "execution_count": 1,
   "id": "5aa8180f-9df6-4dad-a13e-7dfeb60f4fc7",
   "metadata": {},
   "outputs": [
    {
     "data": {
      "text/plain": [
       "'\\nfrom scripts import vp_spatial_accuracy\\n\\nfrom segment_speed_utils import helpers, wrangle_shapes\\nfrom segment_speed_utils.project_vars import (\\n    GCS_FILE_PATH,\\n    PROJECT_CRS,\\n    SEGMENT_GCS,\\n    analysis_date,\\n)\\n'"
      ]
     },
     "execution_count": 1,
     "metadata": {},
     "output_type": "execute_result"
    }
   ],
   "source": [
    "import datetime\n",
    "\n",
    "import dask\n",
    "import dask.dataframe as dd\n",
    "import geopandas as gpd\n",
    "import pandas as pd\n",
    "from calitp_data_analysis.geography_utils import WGS84\n",
    "\"\"\"\n",
    "from scripts import vp_spatial_accuracy\n",
    "\n",
    "from segment_speed_utils import helpers, wrangle_shapes\n",
    "from segment_speed_utils.project_vars import (\n",
    "    GCS_FILE_PATH,\n",
    "    PROJECT_CRS,\n",
    "    SEGMENT_GCS,\n",
    "    analysis_date,\n",
    ")\n",
    "\"\"\""
   ]
  },
  {
   "cell_type": "code",
   "execution_count": 2,
   "id": "e64d4bd2-73ed-4636-9067-a459d1ead87d",
   "metadata": {},
   "outputs": [],
   "source": [
    "pd.options.display.max_columns = 100\n",
    "pd.options.display.float_format = \"{:.2f}\".format\n",
    "pd.set_option(\"display.max_rows\", None)\n",
    "pd.set_option(\"display.max_colwidth\", None)"
   ]
  },
  {
   "cell_type": "markdown",
   "id": "f479793b-6e48-4d06-bf7a-dff8c128af84",
   "metadata": {},
   "source": [
    "### Read in files"
   ]
  },
  {
   "cell_type": "code",
   "execution_count": 3,
   "id": "0374707a-6c1c-4e81-abf1-e4c16173b783",
   "metadata": {},
   "outputs": [],
   "source": [
    "may_df = pd.read_parquet('gs://calitp-analytics-data/data-analyses/rt_vs_schedule/trip_level_metrics/2023-05-17_metrics.parquet')"
   ]
  },
  {
   "cell_type": "code",
   "execution_count": 4,
   "id": "39838d33-b258-419e-8e58-82172125793a",
   "metadata": {},
   "outputs": [],
   "source": [
    "april_df = pd.read_parquet('gs://calitp-analytics-data/data-analyses/rt_vs_schedule/trip_level_metrics/2023-04-12_metrics.parquet')"
   ]
  },
  {
   "cell_type": "code",
   "execution_count": 5,
   "id": "cf857997-4ff7-44a7-82ac-1f37d22342bd",
   "metadata": {},
   "outputs": [],
   "source": [
    "mar_df = pd.read_parquet('gs://calitp-analytics-data/data-analyses/rt_vs_schedule/trip_level_metrics/2023-03-15_metrics.parquet')"
   ]
  },
  {
   "cell_type": "code",
   "execution_count": 6,
   "id": "cd9295d0-db47-43a0-817a-c2c271f12830",
   "metadata": {},
   "outputs": [
    {
     "data": {
      "text/plain": [
       "(83606, 15)"
      ]
     },
     "execution_count": 6,
     "metadata": {},
     "output_type": "execute_result"
    }
   ],
   "source": [
    "may_df.shape"
   ]
  },
  {
   "cell_type": "markdown",
   "id": "d102a6ac-2b22-4b52-ad97-0dbd60e193db",
   "metadata": {},
   "source": [
    "### To do\n",
    "* `rt_w_gtfs_pct` mask values above 100 with 100 "
   ]
  },
  {
   "cell_type": "code",
   "execution_count": 7,
   "id": "57da9180-9a1a-47ab-8424-e0e4a34afd32",
   "metadata": {},
   "outputs": [],
   "source": [
    "def check_out(df:pd.DataFrame):\n",
    "    display(df.spatial_accuracy_pct.describe())\n",
    "    display(df.pings_per_min.describe())\n",
    "    display(df.rt_w_gtfs_pct.describe())\n",
    "    display(df.rt_v_scheduled_trip_time_pct.describe())"
   ]
  },
  {
   "cell_type": "code",
   "execution_count": 8,
   "id": "dcf0cbf8-984c-4670-a122-13bef8b43cb1",
   "metadata": {},
   "outputs": [
    {
     "data": {
      "text/plain": [
       "count   69494.00\n",
       "mean       94.10\n",
       "std        12.34\n",
       "min         0.00\n",
       "25%        95.24\n",
       "50%       100.00\n",
       "75%       100.00\n",
       "max       100.00\n",
       "Name: spatial_accuracy_pct, dtype: float64"
      ]
     },
     "metadata": {},
     "output_type": "display_data"
    },
    {
     "data": {
      "text/plain": [
       "count   83620.00\n",
       "mean        2.46\n",
       "std         0.68\n",
       "min         0.00\n",
       "25%         1.91\n",
       "50%         2.86\n",
       "75%         2.96\n",
       "max         4.75\n",
       "Name: pings_per_min, dtype: float64"
      ]
     },
     "metadata": {},
     "output_type": "display_data"
    },
    {
     "data": {
      "text/plain": [
       "count   83620.00\n",
       "mean       95.20\n",
       "std        14.55\n",
       "min         0.28\n",
       "25%        97.99\n",
       "50%        99.58\n",
       "75%       100.25\n",
       "max       108.43\n",
       "Name: rt_w_gtfs_pct, dtype: float64"
      ]
     },
     "metadata": {},
     "output_type": "display_data"
    },
    {
     "data": {
      "text/plain": [
       "count   71797.00\n",
       "mean       60.68\n",
       "std       333.76\n",
       "min       -87.37\n",
       "25%        10.76\n",
       "50%        25.19\n",
       "75%        44.44\n",
       "max     17909.79\n",
       "Name: rt_v_scheduled_trip_time_pct, dtype: float64"
      ]
     },
     "metadata": {},
     "output_type": "display_data"
    }
   ],
   "source": [
    "check_out(mar_df)"
   ]
  },
  {
   "cell_type": "code",
   "execution_count": 9,
   "id": "9a8a8e42-a725-4259-b8e8-ea22ac2725da",
   "metadata": {},
   "outputs": [
    {
     "data": {
      "text/plain": [
       "count   71094.00\n",
       "mean       94.06\n",
       "std        12.64\n",
       "min         0.00\n",
       "25%        95.45\n",
       "50%       100.00\n",
       "75%       100.00\n",
       "max       100.00\n",
       "Name: spatial_accuracy_pct, dtype: float64"
      ]
     },
     "metadata": {},
     "output_type": "display_data"
    },
    {
     "data": {
      "text/plain": [
       "count   84516.00\n",
       "mean        2.45\n",
       "std         0.67\n",
       "min         0.01\n",
       "25%         1.91\n",
       "50%         2.83\n",
       "75%         2.95\n",
       "max         5.18\n",
       "Name: pings_per_min, dtype: float64"
      ]
     },
     "metadata": {},
     "output_type": "display_data"
    },
    {
     "data": {
      "text/plain": [
       "count   84516.00\n",
       "mean       95.23\n",
       "std        14.48\n",
       "min         0.56\n",
       "25%        97.88\n",
       "50%        99.53\n",
       "75%       100.20\n",
       "max       108.11\n",
       "Name: rt_w_gtfs_pct, dtype: float64"
      ]
     },
     "metadata": {},
     "output_type": "display_data"
    },
    {
     "data": {
      "text/plain": [
       "count   73471.00\n",
       "mean       61.42\n",
       "std       349.18\n",
       "min       -86.02\n",
       "25%        10.46\n",
       "50%        25.10\n",
       "75%        44.38\n",
       "max     15903.70\n",
       "Name: rt_v_scheduled_trip_time_pct, dtype: float64"
      ]
     },
     "metadata": {},
     "output_type": "display_data"
    }
   ],
   "source": [
    "check_out(april_df)"
   ]
  },
  {
   "cell_type": "code",
   "execution_count": 10,
   "id": "6bae7dfa-4e75-4815-948d-d57f89907455",
   "metadata": {},
   "outputs": [
    {
     "data": {
      "text/plain": [
       "count   65385.00\n",
       "mean       94.07\n",
       "std        12.45\n",
       "min         0.00\n",
       "25%        95.00\n",
       "50%       100.00\n",
       "75%       100.00\n",
       "max       100.00\n",
       "Name: spatial_accuracy_pct, dtype: float64"
      ]
     },
     "metadata": {},
     "output_type": "display_data"
    },
    {
     "data": {
      "text/plain": [
       "count   83606.00\n",
       "mean        2.47\n",
       "std         0.68\n",
       "min         0.00\n",
       "25%         1.95\n",
       "50%         2.86\n",
       "75%         2.95\n",
       "max         5.14\n",
       "Name: pings_per_min, dtype: float64"
      ]
     },
     "metadata": {},
     "output_type": "display_data"
    },
    {
     "data": {
      "text/plain": [
       "count   83606.00\n",
       "mean       95.47\n",
       "std        13.78\n",
       "min         0.27\n",
       "25%        97.76\n",
       "50%        99.51\n",
       "75%       100.21\n",
       "max       108.43\n",
       "Name: rt_w_gtfs_pct, dtype: float64"
      ]
     },
     "metadata": {},
     "output_type": "display_data"
    },
    {
     "data": {
      "text/plain": [
       "count   67864.00\n",
       "mean       60.61\n",
       "std       329.38\n",
       "min       -90.09\n",
       "25%        10.96\n",
       "50%        25.64\n",
       "75%        44.61\n",
       "max     17907.92\n",
       "Name: rt_v_scheduled_trip_time_pct, dtype: float64"
      ]
     },
     "metadata": {},
     "output_type": "display_data"
    }
   ],
   "source": [
    "check_out(may_df)"
   ]
  },
  {
   "cell_type": "markdown",
   "id": "803ca629-4e90-49fc-a2d6-793a600d1ef4",
   "metadata": {},
   "source": [
    "### Filter columns \n",
    "* ['trip_instance_key', 'location_timestamp_local', 'x','y','vp_idx']"
   ]
  },
  {
   "cell_type": "code",
   "execution_count": null,
   "id": "cdc3d25e-b9a0-436e-9556-9fbbc1e0c5cb",
   "metadata": {},
   "outputs": [],
   "source": [
    "operator = \"Bay Area 511 Muni VehiclePositions\"\n",
    "gtfs_key = \"7cc0cb1871dfd558f11a2885c145d144\""
   ]
  },
  {
   "cell_type": "code",
   "execution_count": null,
   "id": "4ba298df-5f05-4840-9258-34e78da24468",
   "metadata": {},
   "outputs": [],
   "source": [
    "def load_vp_usable(analysis_date):\n",
    "\n",
    "    # Delete schedule_gtfs_dataset_key later\n",
    "    df = dd.read_parquet(\n",
    "        f\"{SEGMENT_GCS}vp_usable_{analysis_date}\",\n",
    "        columns=[\n",
    "            \"schedule_gtfs_dataset_key\",\n",
    "            \"trip_instance_key\",\n",
    "            \"location_timestamp_local\",\n",
    "            \"x\",\n",
    "            \"y\",\n",
    "            \"vp_idx\",\n",
    "        ],\n",
    "    )\n",
    "\n",
    "    # Create a copy of location timestamp for the total_trip_time function\n",
    "    # to avoid type setting\n",
    "    df[\"max_time\"] = df.location_timestamp_local\n",
    "    return df"
   ]
  },
  {
   "cell_type": "code",
   "execution_count": null,
   "id": "1dafdbaa-b4ec-4674-85b5-ca33883db605",
   "metadata": {},
   "outputs": [],
   "source": [
    "vp_usable = load_vp_usable(analysis_date)\n",
    "# Filter for now\n",
    "vp_usable2 = vp_usable.loc[vp_usable.schedule_gtfs_dataset_key == gtfs_key].reset_index(\n",
    "    drop=True\n",
    ")"
   ]
  },
  {
   "cell_type": "code",
   "execution_count": null,
   "id": "2fd48c34-c5e1-439c-8b6a-4fdd05766250",
   "metadata": {},
   "outputs": [],
   "source": [
    "# vp_usable2 = vp_usable2.compute()"
   ]
  },
  {
   "cell_type": "code",
   "execution_count": null,
   "id": "d6a5c0bd-3afa-4122-a7e2-0e309be30aa0",
   "metadata": {},
   "outputs": [],
   "source": [
    "type(vp_usable2)"
   ]
  },
  {
   "cell_type": "markdown",
   "id": "e66a0806-a9a4-4075-a300-b2d924fda0ed",
   "metadata": {},
   "source": [
    "### Total Trip Time\n",
    "* Addresses \"<i>in this function, min_time, max_time are created on the grouped df (vp_usable grouped by trip and binned minute)...I think to be safer, it should be created on vp_usable grouped by trip.</i>\"\n",
    "* The copy setting is now turned on?? How to get it to go away?"
   ]
  },
  {
   "cell_type": "code",
   "execution_count": null,
   "id": "0eec9521-7049-4c91-9371-6198d0362c60",
   "metadata": {},
   "outputs": [],
   "source": [
    "def total_trip_time(vp_usable_df: pd.DataFrame):\n",
    "    \"\"\"\n",
    "    For each trip: find the total service minutes\n",
    "    recorded in real time data so we can compare it with\n",
    "    scheduled service minutes.\n",
    "    \"\"\"\n",
    "    subset = [\"location_timestamp_local\", \"trip_instance_key\", \"max_time\"]\n",
    "    vp_usable_df = vp_usable_df[subset]\n",
    "\n",
    "    # Need an extra copy of the column to find the max\n",
    "\n",
    "    # Find the max and the min time based on location timestamp\n",
    "    df = (\n",
    "        vp_usable_df.groupby([\"trip_instance_key\"])\n",
    "        .agg({\"location_timestamp_local\": \"min\", \"max_time\": \"max\"})\n",
    "        .reset_index()\n",
    "        .rename(columns={\"location_timestamp_local\": \"min_time\"})\n",
    "    )\n",
    "\n",
    "    # Find total rt service mins and add an extra minute\n",
    "    df[\"rt_service_min\"] = (df.max_time - df.min_time) / pd.Timedelta(minutes=1) + 1\n",
    "\n",
    "    # Return only one row per trip with the total trip time\n",
    "    df = df.drop(columns=[\"max_time\", \"min_time\"])\n",
    "\n",
    "    return df"
   ]
  },
  {
   "cell_type": "markdown",
   "id": "68084bc8-79e3-4fe0-a409-9610e68d32c6",
   "metadata": {},
   "source": [
    "#### Change in script: remove map partitions"
   ]
  },
  {
   "cell_type": "code",
   "execution_count": null,
   "id": "214072aa-3c42-46eb-b835-527c6b47da0b",
   "metadata": {},
   "outputs": [],
   "source": [
    "start = datetime.datetime.now()\n",
    "print(start)\n",
    "test = total_trip_time(vp_usable)\n",
    "\n",
    "end = datetime.datetime.now()\n",
    "logger.info(f\"execution time: {end-start}\")"
   ]
  },
  {
   "cell_type": "code",
   "execution_count": null,
   "id": "b442aae1-7650-4f4c-b0e8-d49369e04827",
   "metadata": {},
   "outputs": [],
   "source": [
    "# total_trip_time_df = total_trip_time_df.compute()"
   ]
  },
  {
   "cell_type": "code",
   "execution_count": null,
   "id": "3500d5ce-c741-4b21-a1cf-9e62c04076d8",
   "metadata": {},
   "outputs": [],
   "source": [
    "test.head()"
   ]
  },
  {
   "cell_type": "markdown",
   "id": "6939e3ba-348f-4dbb-af87-c2fbd25aab5c",
   "metadata": {},
   "source": [
    "### Update Completeness\n",
    "#### Break apart?"
   ]
  },
  {
   "cell_type": "code",
   "execution_count": null,
   "id": "74fe91a3-b200-4202-b37f-9eba89375986",
   "metadata": {},
   "outputs": [],
   "source": [
    "def trips_by_one_min(vp_usable_df: pd.DataFrame):\n",
    "    \"\"\"\n",
    "    For each trip: count how many rows are associated with each minute\n",
    "    then tag whether or not a minute has 2+ pings. \n",
    "    \"\"\"\n",
    "    subset = [\"location_timestamp_local\", \"trip_instance_key\", \"vp_idx\"]\n",
    "    vp_usable_df = vp_usable_df[subset]\n",
    "\n",
    "    # Find number of pings each minute\n",
    "    df = (\n",
    "        vp_usable_df.groupby(\n",
    "            [\n",
    "                \"trip_instance_key\",\n",
    "                pd.Grouper(key=\"location_timestamp_local\", freq=\"1Min\"),\n",
    "            ]\n",
    "        )\n",
    "        .vp_idx.count()\n",
    "        .reset_index()\n",
    "        .rename(columns={\"vp_idx\": \"number_of_pings_per_minute\"})\n",
    "    )\n",
    "\n",
    "    # Determine which rows have 2+ pings per minute\n",
    "    df = df.assign(\n",
    "        min_w_atleast2_trip_updates=df.apply(\n",
    "            lambda x: 1 if x.number_of_pings_per_minute >= 2 else 0, axis=1\n",
    "        )\n",
    "    )\n",
    "    \n",
    "    df = df.drop(columns = ['location_timestamp_local'])\n",
    "    return df"
   ]
  },
  {
   "cell_type": "code",
   "execution_count": null,
   "id": "3061e24d-f061-43e3-add4-ed4c9675eb72",
   "metadata": {},
   "outputs": [],
   "source": [
    "# map partitions here \n",
    "# test = trips_by_min(vp_usable2)"
   ]
  },
  {
   "cell_type": "code",
   "execution_count": null,
   "id": "ad3a37f3-c6ef-4af2-9c11-bde0cca3c0f4",
   "metadata": {
    "tags": []
   },
   "outputs": [],
   "source": [
    "start = datetime.datetime.now()\n",
    "print(start)\n",
    "one_min_ping_df = vp_usable.map_partitions(\n",
    "    trips_by_one_min,\n",
    "    meta={\n",
    "        \"trip_instance_key\": \"object\",\n",
    "        \"number_of_pings_per_minute\": \"int64\",\n",
    "        \"min_w_atleast2_trip_updates\":\"int64\"\n",
    "    },\n",
    "    align_dataframes=False,\n",
    ").persist()\n",
    "\n",
    "end = datetime.datetime.now()\n",
    "logger.info(f\"execution time: {end-start}\")"
   ]
  },
  {
   "cell_type": "code",
   "execution_count": null,
   "id": "fef89a86-b02b-493f-92f5-2fd31a703352",
   "metadata": {},
   "outputs": [],
   "source": [
    "len(one_min_ping_df)"
   ]
  },
  {
   "cell_type": "code",
   "execution_count": null,
   "id": "a88b3b7f-3ed1-48dc-b066-d91e55c4d5c2",
   "metadata": {},
   "outputs": [],
   "source": [
    "type(one_min_ping_df)"
   ]
  },
  {
   "cell_type": "code",
   "execution_count": null,
   "id": "5227d5df-573e-449a-8fe1-90c8e965446f",
   "metadata": {},
   "outputs": [],
   "source": [
    "def update_completeness(df: pd.DataFrame):\n",
    "    \"\"\"\n",
    "    For each trip: find the median GTFS pings per minute,\n",
    "    the total minutes with at least 1 GTFS ping per minute,\n",
    "    and total minutes with at least 2 GTFS pings per minute.\n",
    "    \"\"\"\n",
    "    # Need a copy of numer of pings per minute to count for total minutes w gtfs\n",
    "    df[\"total_min_w_gtfs\"] = df.number_of_pings_per_minute\n",
    "    \n",
    "    # Find the total min with at least 2 pings per min\n",
    "    df = (\n",
    "        df.groupby([\"trip_instance_key\"])\n",
    "        .agg(\n",
    "            {\n",
    "                \"min_w_atleast2_trip_updates\": \"sum\",\n",
    "                \"number_of_pings_per_minute\": \"sum\",\n",
    "                \"total_min_w_gtfs\": \"count\",\n",
    "            }\n",
    "        )\n",
    "        .reset_index()\n",
    "        .rename(\n",
    "            columns={\n",
    "                \"number_of_pings_per_minute\": \"total_pings_for_trip\",\n",
    "            }\n",
    "        )\n",
    "    )\n",
    "\n",
    "    return df"
   ]
  },
  {
   "cell_type": "code",
   "execution_count": null,
   "id": "d9bd4365-529e-471b-887d-06f37ca649c4",
   "metadata": {},
   "outputs": [],
   "source": [
    "start = datetime.datetime.now()\n",
    "print(start)\n",
    "update_df = update_completeness(one_min_ping_df)\n",
    "end = datetime.datetime.now()\n",
    "logger.info(f\"execution time: {end-start}\")"
   ]
  },
  {
   "cell_type": "code",
   "execution_count": null,
   "id": "19de3c15-cc77-4290-8f02-a53ea6e858fd",
   "metadata": {},
   "outputs": [],
   "source": [
    "update_df"
   ]
  },
  {
   "cell_type": "markdown",
   "id": "d9dc5885-85dd-41df-9cfa-a3d4f121ba89",
   "metadata": {},
   "source": [
    "#### Testing new way to find pings per min"
   ]
  },
  {
   "cell_type": "code",
   "execution_count": null,
   "id": "87f7fdee-6298-43bf-b734-6d607cb85f4a",
   "metadata": {},
   "outputs": [],
   "source": [
    "m1 = dd.merge(update_df, test, on = ['trip_instance_key'], how = 'inner')"
   ]
  },
  {
   "cell_type": "code",
   "execution_count": null,
   "id": "cb25e6dd-41b9-4ec0-a6b1-4b16022439f5",
   "metadata": {},
   "outputs": [],
   "source": [
    "m1 = m1.compute()"
   ]
  },
  {
   "cell_type": "code",
   "execution_count": null,
   "id": "d55bc7d7-a5fd-46f5-bfb3-346b4301b7b9",
   "metadata": {},
   "outputs": [],
   "source": [
    "m1['ping_per_min'] = (m1.total_pings_for_trip / m1.rt_service_min)"
   ]
  },
  {
   "cell_type": "code",
   "execution_count": null,
   "id": "1a7e67bf-6b9e-4102-ba24-affc5fde534e",
   "metadata": {},
   "outputs": [],
   "source": [
    "m1.columns"
   ]
  },
  {
   "cell_type": "code",
   "execution_count": null,
   "id": "e5e668f8-15b5-4d6a-ae0b-e10d67be5dcf",
   "metadata": {},
   "outputs": [],
   "source": [
    "full_df = pd.read_parquet(\"./scripts/rt_v_schedule_trip_metrics.parquet\")"
   ]
  },
  {
   "cell_type": "code",
   "execution_count": null,
   "id": "87b915d3-8d6c-4dcd-a203-0995b9823a5f",
   "metadata": {},
   "outputs": [],
   "source": [
    "subset = ['trip_instance_key','ping_per_min', 'rt_service_min']"
   ]
  },
  {
   "cell_type": "code",
   "execution_count": null,
   "id": "30bff062-6517-461d-b9c0-cbc93286bd82",
   "metadata": {},
   "outputs": [],
   "source": [
    "pings_test = pd.merge(m1[subset], full_df[['trip_instance_key', 'avg_pings_per_min', 'rt_service_min']], on = 'trip_instance_key', how = \"inner\")"
   ]
  },
  {
   "cell_type": "code",
   "execution_count": null,
   "id": "e5db0457-4ec1-4177-982f-9b3218286484",
   "metadata": {},
   "outputs": [],
   "source": [
    "pings_test['difference'] = pings_test.ping_per_min - pings_test.avg_pings_per_min"
   ]
  },
  {
   "cell_type": "code",
   "execution_count": null,
   "id": "beaa0df9-3f80-4a63-a4a7-ce65cc3df558",
   "metadata": {},
   "outputs": [],
   "source": [
    "pings_test['difference'].describe()"
   ]
  },
  {
   "cell_type": "code",
   "execution_count": null,
   "id": "2881d891-bf2d-412e-90b7-f62c88dfda80",
   "metadata": {
    "scrolled": true,
    "tags": []
   },
   "outputs": [],
   "source": [
    "pings_test.loc[pings_test.difference < 0].sort_values(by = ['difference'], ascending = True).head(30)"
   ]
  },
  {
   "cell_type": "code",
   "execution_count": null,
   "id": "89ce3f88-30d1-415c-8a42-14ad3dc53854",
   "metadata": {},
   "outputs": [],
   "source": [
    "m1.loc[m1.trip_instance_key == \"923ff90bea616b5ac4ec909d79503424\"]"
   ]
  },
  {
   "cell_type": "code",
   "execution_count": null,
   "id": "ea81a19b-d22d-44d9-b4f6-94c5ace5eed5",
   "metadata": {},
   "outputs": [],
   "source": [
    "one_trip = one_min_ping_df.loc[one_min_ping_df.trip_instance_key == \"923ff90bea616b5ac4ec909d79503424\"].compute()"
   ]
  },
  {
   "cell_type": "code",
   "execution_count": null,
   "id": "261da00f-cf0d-4546-aac6-9ecf5aaa70f8",
   "metadata": {},
   "outputs": [],
   "source": [
    "one_trip_og = vp_usable.loc[vp_usable.trip_instance_key == \"923ff90bea616b5ac4ec909d79503424\"].compute()"
   ]
  },
  {
   "cell_type": "code",
   "execution_count": null,
   "id": "7608d4a1-b9e0-44df-91d3-81247e6f330b",
   "metadata": {
    "scrolled": true,
    "tags": []
   },
   "outputs": [],
   "source": [
    "# one_trip_og"
   ]
  },
  {
   "cell_type": "code",
   "execution_count": null,
   "id": "74c82b45-f725-49e3-a3c9-8c604604b33e",
   "metadata": {
    "scrolled": true,
    "tags": []
   },
   "outputs": [],
   "source": [
    " # one_trip"
   ]
  },
  {
   "cell_type": "code",
   "execution_count": null,
   "id": "abae1b37-1b38-480d-b5da-74ab61527c7c",
   "metadata": {},
   "outputs": [],
   "source": [
    "one_trip.number_of_pings_per_minute.mean()"
   ]
  },
  {
   "cell_type": "code",
   "execution_count": null,
   "id": "2340d40e-2213-4b6a-b804-d0d9cf75b662",
   "metadata": {},
   "outputs": [],
   "source": [
    "one_trip.number_of_pings_per_minute.sum()/198.6"
   ]
  },
  {
   "cell_type": "markdown",
   "id": "2e39d975-ef55-4ea8-b5ff-e5d5c3e8ff08",
   "metadata": {},
   "source": [
    "### Spatial Accuracy\n",
    "* Addresses \"<i>in next draft, work on grouping functions that belong together, such as this one. total_counts and total_counts_by_trip sound basically equivalent, and they are nearly doing the same thing, except total_counts actually creates 2 columns. work on logically grouping or absorbing functions or rewriting functions so the same function can now be used twice.\n",
    "Adapt this function to be used twice\n",
    "Compare it to this to find where they have stuff in common and which part should be removed from the generic function</i>\""
   ]
  },
  {
   "cell_type": "code",
   "execution_count": null,
   "id": "a8096485-4962-4dde-8909-9d1ea9bb127a",
   "metadata": {},
   "outputs": [],
   "source": [
    "def grab_shape_keys_in_vp(vp_usable: dd.DataFrame, analysis_date: str) -> pd.DataFrame:\n",
    "    \"\"\"\n",
    "    Subset raw vp and find unique trip_instance_keys.\n",
    "    Create crosswalk to link trip_instance_key to shape_array_key.\n",
    "    \"\"\"\n",
    "    vp_usable = (\n",
    "        vp_usable[[\"trip_instance_key\"]].drop_duplicates().reset_index(drop=True)\n",
    "    )\n",
    "\n",
    "    trips_with_shape = helpers.import_scheduled_trips(\n",
    "        analysis_date,\n",
    "        columns=[\"trip_instance_key\", \"shape_array_key\"],\n",
    "        get_pandas=True,\n",
    "    )\n",
    "\n",
    "    # Only one row per trip/shape\n",
    "    # trip_instance_key and shape_array_key are the only 2 cols left\n",
    "    m1 = dd.merge(vp_usable, trips_with_shape, on=\"trip_instance_key\", how=\"inner\")\n",
    "\n",
    "    return m1"
   ]
  },
  {
   "cell_type": "markdown",
   "id": "75b9667a-80e0-4763-ae4e-635ad2f28192",
   "metadata": {},
   "source": [
    "### Why is September not working\n"
   ]
  },
  {
   "cell_type": "code",
   "execution_count": null,
   "id": "b84788e3-4f67-479c-82ea-87a0d51a960d",
   "metadata": {},
   "outputs": [],
   "source": [
    "date2= '2023-09-13'"
   ]
  },
  {
   "cell_type": "code",
   "execution_count": null,
   "id": "c4341a40-5d03-45de-8c1d-8d3d0758527b",
   "metadata": {},
   "outputs": [],
   "source": [
    "vp_usable = load_vp_usable(date2)\n",
    "# Filter for now\n",
    "vp_usable2 = vp_usable.loc[vp_usable.schedule_gtfs_dataset_key == gtfs_key].reset_index(\n",
    "    drop=True\n",
    ")"
   ]
  },
  {
   "cell_type": "code",
   "execution_count": null,
   "id": "a0713387-b6f6-46e6-964a-fcdb91863619",
   "metadata": {},
   "outputs": [],
   "source": [
    "vp_usable2 = vp_usable2.compute()"
   ]
  },
  {
   "cell_type": "code",
   "execution_count": null,
   "id": "923f4c4b-68ca-4b38-be66-be9c25ed77e5",
   "metadata": {},
   "outputs": [],
   "source": [
    "vp_usable2.schedule_gtfs_dataset_key.unique()"
   ]
  },
  {
   "cell_type": "code",
   "execution_count": null,
   "id": "211e46da-ca98-4f7f-9663-056d44be18f2",
   "metadata": {},
   "outputs": [],
   "source": [
    "test_keys = vp_usable2[['trip_instance_key']].drop_duplicates()"
   ]
  },
  {
   "cell_type": "code",
   "execution_count": null,
   "id": "96938d0e-3e82-446d-b480-3397d68fdf9b",
   "metadata": {},
   "outputs": [],
   "source": [
    "test_keys.shape"
   ]
  },
  {
   "cell_type": "code",
   "execution_count": null,
   "id": "6126396b-e7dd-4a34-9987-87674a8113e7",
   "metadata": {},
   "outputs": [],
   "source": [
    "test_keys.head()"
   ]
  },
  {
   "cell_type": "code",
   "execution_count": null,
   "id": "ae81fdab-38ce-4037-9405-c289fb31caf6",
   "metadata": {},
   "outputs": [],
   "source": [
    " trips_with_shape = helpers.import_scheduled_trips(\n",
    "        date2,\n",
    "        columns=[\"trip_instance_key\", \"shape_array_key\"],\n",
    "        get_pandas=True,\n",
    "    )"
   ]
  },
  {
   "cell_type": "code",
   "execution_count": null,
   "id": "be10d42b-de3a-475a-a7b9-71641371b11f",
   "metadata": {},
   "outputs": [],
   "source": [
    "m1 = pd.merge(test_keys, trips_with_shape, on=\"trip_instance_key\", how=\"inner\")"
   ]
  },
  {
   "cell_type": "code",
   "execution_count": null,
   "id": "b93e99be-dc23-47b2-a60f-c3204f50bc6c",
   "metadata": {},
   "outputs": [],
   "source": [
    "m1.shape"
   ]
  },
  {
   "cell_type": "code",
   "execution_count": null,
   "id": "75c62e87-a298-405e-bf8e-f362bab9c0b0",
   "metadata": {},
   "outputs": [],
   "source": [
    "shapes_df = grab_shape_keys_in_vp(vp_usable2, date2)"
   ]
  },
  {
   "cell_type": "code",
   "execution_count": null,
   "id": "d4691c03-37fa-44ff-9a84-2f33d4b670b6",
   "metadata": {},
   "outputs": [],
   "source": [
    "type(shapes_df)"
   ]
  },
  {
   "cell_type": "code",
   "execution_count": null,
   "id": "88d9d527-bc41-4eda-8444-2e36f61c3527",
   "metadata": {},
   "outputs": [],
   "source": [
    "shapes_df.shape"
   ]
  },
  {
   "cell_type": "code",
   "execution_count": null,
   "id": "ed6ac6d9-3ddd-4b21-b13f-a3d4ebe30f76",
   "metadata": {},
   "outputs": [],
   "source": [
    "subset = shapes_df.shape_array_key.unique().tolist()"
   ]
  },
  {
   "cell_type": "code",
   "execution_count": null,
   "id": "b8390b24-0bf0-404b-afa1-d58b720b4148",
   "metadata": {},
   "outputs": [],
   "source": [
    "subset"
   ]
  },
  {
   "cell_type": "code",
   "execution_count": null,
   "id": "54ef16ff-03a2-402e-a67b-a510dea4f0f4",
   "metadata": {},
   "outputs": [],
   "source": [
    "def buffer_shapes(\n",
    "    trips_with_shape: pd.DataFrame,\n",
    "    analysis_date: str,\n",
    "    buffer_meters: int = 35,\n",
    "):\n",
    "    \"\"\"\n",
    "    Filter scheduled shapes down to the shapes that appear in vp.\n",
    "    Buffer these.\n",
    "\n",
    "    Attach the shape geometry for a subset of shapes or trips.\n",
    "    \"\"\"\n",
    "    subset = trips_with_shape.shape_array_key.unique().compute().tolist()\n",
    "\n",
    "    shapes = helpers.import_scheduled_shapes(\n",
    "        analysis_date,\n",
    "        columns=[\"shape_array_key\", \"geometry\"],\n",
    "        filters=[[(\"shape_array_key\", \"in\", subset)]],\n",
    "        crs=PROJECT_CRS,\n",
    "        get_pandas=False,\n",
    "    ).pipe(helpers.remove_shapes_outside_ca)\n",
    "\n",
    "    # to_crs takes awhile, so do a filtering on only shapes we need\n",
    "    shapes = shapes.assign(geometry=shapes.geometry.buffer(buffer_meters))\n",
    "\n",
    "    trips_with_shape_geom = dd.merge(\n",
    "        shapes, trips_with_shape, on=\"shape_array_key\", how=\"inner\"\n",
    "    )\n",
    "\n",
    "    trips_with_shape_geom = trips_with_shape_geom.compute()\n",
    "    return trips_with_shape_geom"
   ]
  },
  {
   "cell_type": "code",
   "execution_count": null,
   "id": "43a4df1f-3e2b-430e-8310-4b6d2308c6f9",
   "metadata": {},
   "outputs": [],
   "source": [
    "from segment_speed_utils.project_vars import COMPILED_CACHED_VIEWS"
   ]
  },
  {
   "cell_type": "code",
   "execution_count": null,
   "id": "8ca1431d-0881-4d2e-b6ab-b8b4e2b04b6f",
   "metadata": {},
   "outputs": [],
   "source": [
    "COMPILED_CACHED_VIEWS"
   ]
  },
  {
   "cell_type": "code",
   "execution_count": null,
   "id": "4d26dda9-6053-4f9e-bc0f-86210c4ae463",
   "metadata": {},
   "outputs": [],
   "source": [
    "FILE = f\"{COMPILED_CACHED_VIEWS}routelines_{date2}.parquet\""
   ]
  },
  {
   "cell_type": "code",
   "execution_count": null,
   "id": "9f08825e-3c3c-411c-aca1-3614bacdca5f",
   "metadata": {},
   "outputs": [],
   "source": [
    "FILE"
   ]
  },
  {
   "cell_type": "code",
   "execution_count": null,
   "id": "40eee091-f35e-4d81-99e6-ec50f2d3305d",
   "metadata": {},
   "outputs": [],
   "source": [
    "# gs://calitp-analytics-data/data-analyses/rt_delay/compiled_cached_views/routelines_2023-09-13.parquet"
   ]
  },
  {
   "cell_type": "code",
   "execution_count": null,
   "id": "02bb0f09-7a39-4bed-9791-ea6279be50c0",
   "metadata": {},
   "outputs": [],
   "source": [
    "shapes = helpers.import_scheduled_shapes(\n",
    "        date2,\n",
    "        columns=[\"shape_array_key\", \"geometry\"],\n",
    "        crs=PROJECT_CRS,\n",
    "        get_pandas=False,\n",
    "    ).pipe(helpers.remove_shapes_outside_ca)"
   ]
  },
  {
   "cell_type": "code",
   "execution_count": null,
   "id": "977233d2-81bf-4d1f-802a-354dada280e2",
   "metadata": {},
   "outputs": [],
   "source": [
    "import dask_geopandas as dg"
   ]
  },
  {
   "cell_type": "code",
   "execution_count": null,
   "id": "e35842ea-be00-4ca8-a7d9-556fb647f729",
   "metadata": {},
   "outputs": [],
   "source": [
    "test = dg.read_parquet(FILE)"
   ]
  },
  {
   "cell_type": "code",
   "execution_count": null,
   "id": "863e11f7-325d-40cb-82b4-fe66de3b97d3",
   "metadata": {},
   "outputs": [],
   "source": [
    "test2 = gpd.read_parquet(FILE)"
   ]
  },
  {
   "cell_type": "code",
   "execution_count": null,
   "id": "371a5a82-c4f8-4799-8992-34630ed5600c",
   "metadata": {},
   "outputs": [],
   "source": [
    "test2.columns"
   ]
  },
  {
   "cell_type": "code",
   "execution_count": null,
   "id": "68b33291-c057-46b5-9cea-5ad1de2cdd42",
   "metadata": {
    "scrolled": true,
    "tags": []
   },
   "outputs": [],
   "source": [
    "buffer_df = buffer_shapes(shapes_df, date2, 35)"
   ]
  },
  {
   "cell_type": "code",
   "execution_count": null,
   "id": "cb56d65d-471a-414b-8fe2-d8aade972ddc",
   "metadata": {},
   "outputs": [],
   "source": [
    "def vp_in_shape(\n",
    "    vp_usable: dd.DataFrame, trips_with_buffered_shape: gpd.GeoDataFrame\n",
    ") -> gpd.GeoDataFrame:\n",
    "\n",
    "    keep = [\"trip_instance_key\", \"x\", \"y\", \"location_timestamp_local\"]\n",
    "    vp_usable = vp_usable[keep]\n",
    "\n",
    "    vp_gdf = wrangle_shapes.vp_as_gdf(vp_usable)\n",
    "\n",
    "    gdf = pd.merge(\n",
    "        vp_gdf, trips_with_buffered_shape, on=\"trip_instance_key\", how=\"inner\"\n",
    "    )\n",
    "\n",
    "    gdf = gdf.assign(is_within=gdf.geometry_x.within(gdf.geometry_y))\n",
    "    gdf = gdf[[\"trip_instance_key\", \"location_timestamp_local\", \"is_within\"]]\n",
    "\n",
    "    return gdf"
   ]
  },
  {
   "cell_type": "code",
   "execution_count": null,
   "id": "dd996bc1-ccf5-4bcf-9ce9-807e936913e1",
   "metadata": {},
   "outputs": [],
   "source": [
    "start = datetime.datetime.now()\n",
    "print(start)\n",
    "spatial_accuracy_df1 = vp_usable.map_partitions(\n",
    "    vp_in_shape,\n",
    "    buffer_df,\n",
    "    meta={\n",
    "        \"trip_instance_key\": \"object\",\n",
    "        \"location_timestamp_local\": \"datetime64[ns]\",\n",
    "        \"is_within\": \"bool\",\n",
    "    },\n",
    "    align_dataframes=False,\n",
    ").persist()\n",
    "\n",
    "end = datetime.datetime.now()\n",
    "logger.info(f\"execution time: {end-start}\")"
   ]
  },
  {
   "cell_type": "markdown",
   "id": "b8c1051e-af7b-490d-8b09-b5044bd7fa7a",
   "metadata": {},
   "source": [
    "#### Adapt this to be used in multiple places"
   ]
  },
  {
   "cell_type": "code",
   "execution_count": null,
   "id": "8736a406-abc1-4331-a350-598cda6c5e0f",
   "metadata": {},
   "outputs": [],
   "source": [
    "def total_vp_counts_by_trip(vp: gpd.GeoDataFrame, new_col_title: str) -> pd.DataFrame:\n",
    "    \"\"\"\n",
    "    Get a count of vp for each trip, whether or not those fall\n",
    "    within buffered shape or not\n",
    "    \"\"\"\n",
    "    count_vp = (\n",
    "        vp.groupby(\"trip_instance_key\", observed=True, group_keys=False)\n",
    "        .agg({\"location_timestamp_local\": \"count\"})\n",
    "        .reset_index()\n",
    "        .rename(columns={\"location_timestamp_local\": new_col_title})\n",
    "    )\n",
    "\n",
    "    return count_vp"
   ]
  },
  {
   "cell_type": "code",
   "execution_count": null,
   "id": "3f7ecadb-ef13-4035-a7b7-fed2fc9ab15c",
   "metadata": {},
   "outputs": [],
   "source": [
    "def total_counts(result: dd.DataFrame):\n",
    "\n",
    "    # Find the total number of vps for each route\n",
    "    total_vp_df = total_vp_counts_by_trip(result, \"total_vp\")\n",
    "\n",
    "    # Find the total number of vps that actually fall within the  route shape\n",
    "    subset = [\"trip_instance_key\", \"location_timestamp_local\"]\n",
    "    result2 = result.loc[result.is_within == True].reset_index(drop=True)[subset]\n",
    "\n",
    "    vps_in_shape = total_vp_counts_by_trip(result2, \"vp_in_shape\")\n",
    "\n",
    "    # Count total vps for the trip\n",
    "    count_df = pd.merge(total_vp_df, vps_in_shape, on=\"trip_instance_key\", how=\"left\")\n",
    "\n",
    "    count_df = count_df.assign(\n",
    "        vp_in_shape=count_df.vp_in_shape.fillna(0).astype(\"int32\"),\n",
    "        total_vp=count_df.total_vp.fillna(0).astype(\"int32\"),\n",
    "    )\n",
    "\n",
    "    return count_df"
   ]
  },
  {
   "cell_type": "code",
   "execution_count": null,
   "id": "64895df8-ab55-4251-a245-26b2f3e1808c",
   "metadata": {},
   "outputs": [],
   "source": [
    "start = datetime.datetime.now()\n",
    "print(start)\n",
    "spatial_accuracy_df2 = spatial_accuracy_df1.map_partitions(\n",
    "    total_counts,\n",
    "    meta={\"trip_instance_key\": \"object\", \"total_vp\": \"int32\", \"vp_in_shape\": \"int32\"},\n",
    "    align_dataframes=False,\n",
    ").persist()\n",
    "\n",
    "end = datetime.datetime.now()\n",
    "logger.info(f\"execution time: {end-start}\")"
   ]
  },
  {
   "cell_type": "code",
   "execution_count": null,
   "id": "8f3cbda0-4685-4568-8e60-4b3703ef5eeb",
   "metadata": {},
   "outputs": [],
   "source": [
    "spatial_accuracy_df2 = spatial_accuracy_df2.compute()"
   ]
  },
  {
   "cell_type": "code",
   "execution_count": null,
   "id": "b6cfa291-414a-4df7-a26e-321bec0e03cf",
   "metadata": {},
   "outputs": [],
   "source": [
    "spatial_accuracy_df2.head()"
   ]
  },
  {
   "cell_type": "code",
   "execution_count": null,
   "id": "e538088a-0b33-4414-9ed8-666b45661844",
   "metadata": {},
   "outputs": [],
   "source": [
    "type(update)"
   ]
  },
  {
   "cell_type": "markdown",
   "id": "f208f48c-d677-4343-9359-44c5d1559847",
   "metadata": {},
   "source": [
    "test_m = (total_trip_time_df.merge(update, on = \"trip_instance_key\", how = \"outer\")\n",
    "         .merge(spatial_accuracy_df2, on =\"trip_instance_key\", how = \"outer\")) "
   ]
  },
  {
   "cell_type": "markdown",
   "id": "d4e5ad18-bb8d-4259-bf58-8c2c35ee3b64",
   "metadata": {},
   "source": [
    "### Read back in the file 12/11"
   ]
  },
  {
   "cell_type": "code",
   "execution_count": null,
   "id": "2e92b3ec-1069-4729-84fa-24412cbc155c",
   "metadata": {},
   "outputs": [],
   "source": [
    "full_df = pd.read_parquet(\"./scripts/rt_v_schedule_trip_metrics.parquet\")"
   ]
  },
  {
   "cell_type": "code",
   "execution_count": null,
   "id": "82c7d45b-266d-433d-a054-085dbcaa1e73",
   "metadata": {},
   "outputs": [],
   "source": [
    "full_df.sample()"
   ]
  },
  {
   "cell_type": "code",
   "execution_count": null,
   "id": "a7f23536-0bce-4f49-a32e-6e51c5647031",
   "metadata": {},
   "outputs": [],
   "source": [
    "full_df.info()"
   ]
  },
  {
   "cell_type": "code",
   "execution_count": null,
   "id": "0cdf7d96-95fd-4c52-a391-e31b48bdff8b",
   "metadata": {},
   "outputs": [],
   "source": [
    "full_df.trip_instance_key.nunique(), len(full_df)"
   ]
  }
 ],
 "metadata": {
  "kernelspec": {
   "display_name": "Python 3 (ipykernel)",
   "language": "python",
   "name": "python3"
  },
  "language_info": {
   "codemirror_mode": {
    "name": "ipython",
    "version": 3
   },
   "file_extension": ".py",
   "mimetype": "text/x-python",
   "name": "python",
   "nbconvert_exporter": "python",
   "pygments_lexer": "ipython3",
   "version": "3.9.13"
  }
 },
 "nbformat": 4,
 "nbformat_minor": 5
}
