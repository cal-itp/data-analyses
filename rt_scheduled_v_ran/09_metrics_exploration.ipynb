{
 "cells": [
  {
   "cell_type": "markdown",
   "id": "3f436fae-513f-4148-a04a-3ff91318d791",
   "metadata": {},
   "source": [
    "# Sanity check: RT vs schedule metrics\n",
    "\n",
    "1. Check that the metrics are calculated correctly.\n",
    "Especially metrics that look at % RT journey or % scheduled journey, we want to make sure we're counting the number of minutes with 1+ or 2+ vp correctly.\n",
    "\n",
    "2. Drop outliers \n",
    "At first glance, there are unusually high values for `rt_service_minutes`. We should drop these before they get aggregated into route-dir."
   ]
  },
  {
   "cell_type": "code",
   "execution_count": 1,
   "id": "11081d36-f103-4dc0-8aa1-c346d121327c",
   "metadata": {},
   "outputs": [],
   "source": [
    "import pandas as pd\n",
    "\n",
    "from shared_utils import rt_dates\n",
    "from segment_speed_utils import (gtfs_schedule_wrangling, \n",
    "                                 metrics\n",
    "                                )\n",
    "from segment_speed_utils.project_vars import RT_SCHED_GCS\n",
    "from segment_speed_utils.time_series_utils import ROUTE_DIR_COLS\n",
    "analysis_date = rt_dates.DATES[\"mar2024\"]\n",
    "\n",
    "CONFIG_PATH = \"./scripts/config.yml\"\n",
    "import yaml\n",
    "with open(CONFIG_PATH) as f: \n",
    "    dict_inputs= yaml.safe_load(f) "
   ]
  },
  {
   "cell_type": "code",
   "execution_count": 2,
   "id": "4eed04e3-24c4-480e-b5d6-aa469bb6c485",
   "metadata": {},
   "outputs": [],
   "source": [
    "TRIP_EXPORT = dict_inputs[\"trip_metrics\"]\n",
    "ROUTE_EXPORT = dict_inputs[\"route_direction_metrics\"]\n",
    "\n",
    "trip_df = pd.read_parquet(\n",
    "    f\"{RT_SCHED_GCS}{TRIP_EXPORT}_{analysis_date}.parquet\"\n",
    ")"
   ]
  },
  {
   "cell_type": "code",
   "execution_count": 4,
   "id": "35341280-e718-4aad-ac7b-d6c78b74ef8d",
   "metadata": {},
   "outputs": [],
   "source": [
    "early = -5\n",
    "late = 5\n",
    "trip_df = trip_df.pipe(\n",
    "    metrics.derive_trip_comparison_metrics, early, late\n",
    ")"
   ]
  },
  {
   "cell_type": "code",
   "execution_count": 13,
   "id": "402e36b0-4d6b-437a-bc66-ca9013ddcc48",
   "metadata": {},
   "outputs": [
    {
     "data": {
      "text/plain": [
       "Index(['schedule_gtfs_dataset_key', 'route_id', 'direction_id', 'time_period',\n",
       "       'minutes_atleast1_vp', 'minutes_atleast2_vp', 'rt_service_minutes',\n",
       "       'scheduled_service_minutes', 'total_vp', 'vp_in_shape', 'is_early',\n",
       "       'is_ontime', 'is_late', 'n_vp_trips', 'vp_per_minute', 'pct_in_shape',\n",
       "       'pct_rt_journey_atleast1_vp', 'pct_rt_journey_atleast2_vp',\n",
       "       'pct_sched_journey_atleast1_vp', 'pct_sched_journey_atleast2_vp',\n",
       "       'name', 'base64_url', 'organization_source_record_id',\n",
       "       'organization_name', 'caltrans_district'],\n",
       "      dtype='object')"
      ]
     },
     "execution_count": 13,
     "metadata": {},
     "output_type": "execute_result"
    }
   ],
   "source": [
    "route_df.columns"
   ]
  },
  {
   "cell_type": "code",
   "execution_count": 12,
   "id": "ca32637c-a5e4-4469-b0ce-2cfd6d7ec1a2",
   "metadata": {},
   "outputs": [],
   "source": [
    "route_df = metrics.concatenate_peak_offpeak_allday_averages(\n",
    "    trip_df,\n",
    "    group_cols = [\"schedule_gtfs_dataset_key\"] + ROUTE_DIR_COLS,\n",
    "    metric_type = \"rt_vs_schedule\"\n",
    ").pipe(\n",
    "    metrics.derive_rt_vs_schedule_metrics\n",
    ").pipe(\n",
    "    gtfs_schedule_wrangling.merge_operator_identifiers,\n",
    "    [analysis_date]\n",
    ")"
   ]
  },
  {
   "cell_type": "code",
   "execution_count": 15,
   "id": "70611a9d-ed02-4ed7-be42-fb8715f43e4a",
   "metadata": {},
   "outputs": [
    {
     "data": {
      "text/plain": [
       "Index(['schedule_gtfs_dataset_key', 'route_id', 'direction_id', 'time_period',\n",
       "       'minutes_atleast1_vp', 'minutes_atleast2_vp', 'rt_service_minutes',\n",
       "       'scheduled_service_minutes', 'total_vp', 'vp_in_shape', 'is_early',\n",
       "       'is_ontime', 'is_late', 'n_vp_trips', 'vp_per_minute', 'pct_in_shape',\n",
       "       'pct_rt_journey_atleast1_vp', 'pct_rt_journey_atleast2_vp',\n",
       "       'pct_sched_journey_atleast1_vp', 'pct_sched_journey_atleast2_vp',\n",
       "       'name', 'base64_url', 'organization_source_record_id',\n",
       "       'organization_name', 'caltrans_district'],\n",
       "      dtype='object')"
      ]
     },
     "execution_count": 15,
     "metadata": {},
     "output_type": "execute_result"
    }
   ],
   "source": [
    "route_df.columns"
   ]
  },
  {
   "cell_type": "code",
   "execution_count": 18,
   "id": "4749aed7-8101-4fb3-beb0-2cec92da0a1c",
   "metadata": {},
   "outputs": [
    {
     "data": {
      "text/html": [
       "<div>\n",
       "<style scoped>\n",
       "    .dataframe tbody tr th:only-of-type {\n",
       "        vertical-align: middle;\n",
       "    }\n",
       "\n",
       "    .dataframe tbody tr th {\n",
       "        vertical-align: top;\n",
       "    }\n",
       "\n",
       "    .dataframe thead th {\n",
       "        text-align: right;\n",
       "    }\n",
       "</style>\n",
       "<table border=\"1\" class=\"dataframe\">\n",
       "  <thead>\n",
       "    <tr style=\"text-align: right;\">\n",
       "      <th></th>\n",
       "      <th>name</th>\n",
       "      <th>route_id</th>\n",
       "      <th>time_period</th>\n",
       "      <th>direction_id</th>\n",
       "      <th>is_early</th>\n",
       "      <th>is_ontime</th>\n",
       "      <th>is_late</th>\n",
       "      <th>n_vp_trips</th>\n",
       "    </tr>\n",
       "  </thead>\n",
       "  <tbody>\n",
       "    <tr>\n",
       "      <th>7383</th>\n",
       "      <td>Big Blue Bus Schedule</td>\n",
       "      <td>3705</td>\n",
       "      <td>all_day</td>\n",
       "      <td>0.0</td>\n",
       "      <td>3</td>\n",
       "      <td>10</td>\n",
       "      <td>71</td>\n",
       "      <td>84</td>\n",
       "    </tr>\n",
       "    <tr>\n",
       "      <th>7316</th>\n",
       "      <td>Big Blue Bus Schedule</td>\n",
       "      <td>3705</td>\n",
       "      <td>offpeak</td>\n",
       "      <td>0.0</td>\n",
       "      <td>1</td>\n",
       "      <td>8</td>\n",
       "      <td>34</td>\n",
       "      <td>43</td>\n",
       "    </tr>\n",
       "    <tr>\n",
       "      <th>7317</th>\n",
       "      <td>Big Blue Bus Schedule</td>\n",
       "      <td>3705</td>\n",
       "      <td>peak</td>\n",
       "      <td>0.0</td>\n",
       "      <td>2</td>\n",
       "      <td>2</td>\n",
       "      <td>37</td>\n",
       "      <td>41</td>\n",
       "    </tr>\n",
       "    <tr>\n",
       "      <th>7384</th>\n",
       "      <td>Big Blue Bus Schedule</td>\n",
       "      <td>3705</td>\n",
       "      <td>all_day</td>\n",
       "      <td>1.0</td>\n",
       "      <td>2</td>\n",
       "      <td>15</td>\n",
       "      <td>67</td>\n",
       "      <td>84</td>\n",
       "    </tr>\n",
       "    <tr>\n",
       "      <th>7318</th>\n",
       "      <td>Big Blue Bus Schedule</td>\n",
       "      <td>3705</td>\n",
       "      <td>offpeak</td>\n",
       "      <td>1.0</td>\n",
       "      <td>1</td>\n",
       "      <td>8</td>\n",
       "      <td>32</td>\n",
       "      <td>41</td>\n",
       "    </tr>\n",
       "    <tr>\n",
       "      <th>7319</th>\n",
       "      <td>Big Blue Bus Schedule</td>\n",
       "      <td>3705</td>\n",
       "      <td>peak</td>\n",
       "      <td>1.0</td>\n",
       "      <td>1</td>\n",
       "      <td>7</td>\n",
       "      <td>35</td>\n",
       "      <td>43</td>\n",
       "    </tr>\n",
       "  </tbody>\n",
       "</table>\n",
       "</div>"
      ],
      "text/plain": [
       "                       name route_id time_period  direction_id  is_early  \\\n",
       "7383  Big Blue Bus Schedule     3705     all_day           0.0         3   \n",
       "7316  Big Blue Bus Schedule     3705     offpeak           0.0         1   \n",
       "7317  Big Blue Bus Schedule     3705        peak           0.0         2   \n",
       "7384  Big Blue Bus Schedule     3705     all_day           1.0         2   \n",
       "7318  Big Blue Bus Schedule     3705     offpeak           1.0         1   \n",
       "7319  Big Blue Bus Schedule     3705        peak           1.0         1   \n",
       "\n",
       "      is_ontime  is_late  n_vp_trips  \n",
       "7383         10       71          84  \n",
       "7316          8       34          43  \n",
       "7317          2       37          41  \n",
       "7384         15       67          84  \n",
       "7318          8       32          41  \n",
       "7319          7       35          43  "
      ]
     },
     "execution_count": 18,
     "metadata": {},
     "output_type": "execute_result"
    }
   ],
   "source": [
    "cols = [\"name\", \"route_id\", \"time_period\", \"direction_id\", 'is_early',\n",
    "       'is_ontime', 'is_late', 'n_vp_trips']\n",
    "route_df[(route_df.name==\"Big Blue Bus Schedule\") & \n",
    "         (route_df.route_id==\"3705\")].sort_values([\"route_id\", \"direction_id\", \n",
    "                                                   \"time_period\"])[cols]"
   ]
  },
  {
   "cell_type": "code",
   "execution_count": null,
   "id": "2d7d3554-b035-4119-8324-6f58ecbd9c1e",
   "metadata": {},
   "outputs": [],
   "source": []
  },
  {
   "cell_type": "code",
   "execution_count": null,
   "id": "f7f21f82-561b-4a47-819b-eae0407421b6",
   "metadata": {},
   "outputs": [],
   "source": []
  },
  {
   "cell_type": "code",
   "execution_count": null,
   "id": "8eafceec-0fe5-4cf7-8445-ae139ed1d66f",
   "metadata": {},
   "outputs": [],
   "source": [
    "df[df.pct_rt_journey_atleast2_vp <= \n",
    "   df.pct_rt_journey_atleast1_vp].shape, df.shape"
   ]
  },
  {
   "cell_type": "code",
   "execution_count": null,
   "id": "03468b93-31af-4bc8-9624-e10056d076ab",
   "metadata": {},
   "outputs": [],
   "source": [
    "rt_trip_cutoff = 60 * 2\n",
    "df[df.rt_service_minutes > rt_trip_cutoff].shape"
   ]
  },
  {
   "cell_type": "code",
   "execution_count": null,
   "id": "ad78e02a-39a0-426a-92b9-bc96650aadcb",
   "metadata": {},
   "outputs": [],
   "source": [
    "# ~8% of trips have unusually high RT trip times (> 2 hrs)\n",
    "6798/86803"
   ]
  },
  {
   "cell_type": "code",
   "execution_count": null,
   "id": "96de7d91-024e-49f8-8aa0-d18a27f3e9ca",
   "metadata": {},
   "outputs": [],
   "source": [
    "df[df.rt_service_minutes > rt_trip_cutoff].sched_rt_category.value_counts()"
   ]
  },
  {
   "cell_type": "code",
   "execution_count": null,
   "id": "aad6411e-f8bc-416e-b3c7-cc5616cbc868",
   "metadata": {},
   "outputs": [],
   "source": [
    "df.dtypes"
   ]
  },
  {
   "cell_type": "code",
   "execution_count": null,
   "id": "02c8d6a1-d33f-4f6e-ada7-c509146f2bf7",
   "metadata": {},
   "outputs": [],
   "source": [
    "df[df.rt_service_minutes > rt_trip_cutoff]"
   ]
  },
  {
   "cell_type": "code",
   "execution_count": null,
   "id": "bbb6ef11-5da9-4cde-8e5a-4236dd0bf4be",
   "metadata": {},
   "outputs": [],
   "source": [
    "route_direction_metrics = \"vp_route_dir/route_direction_metrics\"\n",
    "df2 = pd.read_parquet(\n",
    "    f\"{RT_SCHED_GCS}{route_direction_metrics}_{analysis_date}.parquet\"\n",
    ")"
   ]
  },
  {
   "cell_type": "code",
   "execution_count": null,
   "id": "5059fa3f-ad4e-4a56-b749-ef5c6328667b",
   "metadata": {},
   "outputs": [],
   "source": [
    "from segment_speed_utils import metrics, time_series_utils\n",
    "ROUTE_DIR_COLS = time_series_utils.ROUTE_DIR_COLS\n",
    "\n",
    "route_dir = metrics.calculate_weighted_average_vp_schedule_metrics(\n",
    "    df, \n",
    "    [\"schedule_gtfs_dataset_key\"] + ROUTE_DIR_COLS\n",
    ")\n",
    "    "
   ]
  },
  {
   "cell_type": "code",
   "execution_count": null,
   "id": "5f21f37a-1547-44cb-a197-ee4f198d466a",
   "metadata": {},
   "outputs": [],
   "source": [
    "# derive metrics without masking\n",
    "def derive_metrics(df: pd.DataFrame):\n",
    "    integrify = [\"vp_in_shape\", \"total_vp\"]\n",
    "    df[integrify] = df[integrify].fillna(0).astype(\"int\")\n",
    "    \n",
    "    df = df.assign(\n",
    "        vp_per_minute = df.total_vp / df.rt_service_minutes,\n",
    "        pct_in_shape = df.vp_in_shape / df.total_vp,\n",
    "        pct_rt_journey_atleast1_vp = df.minutes_atleast1_vp / df.rt_service_minutes,\n",
    "        pct_rt_journey_atleast2_vp = df.minutes_atleast2_vp / df.rt_service_minutes,\n",
    "        pct_sched_journey_atleast1_vp = (df.minutes_atleast1_vp / \n",
    "                                         df.scheduled_service_minutes),\n",
    "        pct_sched_journey_atleast2_vp = (df.minutes_atleast2_vp / \n",
    "                                         df.scheduled_service_minutes),\n",
    "    )\n",
    "    \n",
    "    two_decimal_cols = [\n",
    "        \"vp_per_minute\", \"rt_service_minutes\", \n",
    "    ]\n",
    "    \n",
    "    df[two_decimal_cols] = df[two_decimal_cols].round(2)\n",
    "    \n",
    "    three_decimal_cols = [\n",
    "        c for c in df.columns if \"pct_\" in c\n",
    "    ]\n",
    "    \n",
    "    df[three_decimal_cols] = df[three_decimal_cols].round(3)\n",
    "    \n",
    "    return df"
   ]
  },
  {
   "cell_type": "code",
   "execution_count": null,
   "id": "5c1449e1-facb-4f62-8b16-00a05e9e663c",
   "metadata": {},
   "outputs": [],
   "source": [
    "route_dir2 = derive_metrics(route_dir)"
   ]
  },
  {
   "cell_type": "code",
   "execution_count": null,
   "id": "2b941598-7382-4086-a7bc-417391457ad6",
   "metadata": {},
   "outputs": [],
   "source": [
    "route_dir2[\n",
    "    route_dir2.pct_rt_journey_atleast2_vp > 1\n",
    "].sort_values(\"pct_rt_journey_atleast2_vp\", ascending=False)"
   ]
  },
  {
   "cell_type": "code",
   "execution_count": null,
   "id": "af7ef9f0-f46d-4afe-bc91-e089913597e7",
   "metadata": {},
   "outputs": [],
   "source": [
    "route_dir2.dtypes"
   ]
  },
  {
   "cell_type": "code",
   "execution_count": null,
   "id": "80f0e994-4c10-49f8-b9ff-e0e9b599c532",
   "metadata": {},
   "outputs": [],
   "source": []
  },
  {
   "cell_type": "code",
   "execution_count": null,
   "id": "5a30af05-3811-49be-bc10-d500d45d15d3",
   "metadata": {},
   "outputs": [],
   "source": [
    "df = df.assign(\n",
    "    rt_sched_journey_ratio = df.rt_service_minutes.divide(\n",
    "        df.scheduled_service_minutes).round(2),   \n",
    "    rt_sched_journey_difference = (df.rt_service_minutes - \n",
    "                                   df.scheduled_service_minutes)\n",
    ")"
   ]
  },
  {
   "cell_type": "code",
   "execution_count": null,
   "id": "6dc254d9-4e6a-4c76-9c00-75cd932f9dcb",
   "metadata": {},
   "outputs": [],
   "source": [
    "late = 5\n",
    "early = -5\n",
    "\n",
    "df = df.assign(\n",
    "    is_early = df.apply(\n",
    "        lambda x: \n",
    "        1 if x.rt_sched_journey_difference < early\n",
    "        else 0, axis=1).astype(int),\n",
    "    is_ontime = df.apply(\n",
    "        lambda x: \n",
    "        1 if (x.rt_sched_journey_difference >= early) and \n",
    "        (x.rt_sched_journey_difference <= late)\n",
    "        else 0, axis=1).astype(int), \n",
    "    is_late = df.apply(\n",
    "        lambda x: \n",
    "        1 if x.rt_sched_journey_difference > late\n",
    "        else 0, axis=1).astype(int),\n",
    ")"
   ]
  },
  {
   "cell_type": "code",
   "execution_count": null,
   "id": "03ea027b-ddca-4aff-a5e2-ac7f4461130a",
   "metadata": {},
   "outputs": [],
   "source": [
    "df[[\"is_late\", \"is_early\", \"is_ontime\", \"rt_sched_journey_difference\"]]"
   ]
  },
  {
   "cell_type": "code",
   "execution_count": null,
   "id": "051dd370-de45-44ff-a458-2869679e9c58",
   "metadata": {},
   "outputs": [],
   "source": []
  }
 ],
 "metadata": {
  "kernelspec": {
   "display_name": "Python 3 (ipykernel)",
   "language": "python",
   "name": "python3"
  },
  "language_info": {
   "codemirror_mode": {
    "name": "ipython",
    "version": 3
   },
   "file_extension": ".py",
   "mimetype": "text/x-python",
   "name": "python",
   "nbconvert_exporter": "python",
   "pygments_lexer": "ipython3",
   "version": "3.9.13"
  }
 },
 "nbformat": 4,
 "nbformat_minor": 5
}
