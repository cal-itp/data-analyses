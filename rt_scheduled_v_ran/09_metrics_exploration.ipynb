{
 "cells": [
  {
   "cell_type": "markdown",
   "id": "3f436fae-513f-4148-a04a-3ff91318d791",
   "metadata": {},
   "source": [
    "# Sanity check: RT vs schedule metrics\n",
    "\n",
    "1. Check that the metrics are calculated correctly.\n",
    "\n",
    "Especially metrics that look at % RT journey or % scheduled journey, we want to make sure we're counting the number of minutes with 1+ or 2+ vp correctly.\n",
    "\n",
    "2. Drop outliers \n",
    "\n",
    "At first glance, there are unusually high values for `rt_service_minutes`. We should drop these before they get aggregated into route-dir."
   ]
  },
  {
   "cell_type": "code",
   "execution_count": 1,
   "id": "11081d36-f103-4dc0-8aa1-c346d121327c",
   "metadata": {},
   "outputs": [],
   "source": [
    "import pandas as pd\n",
    "\n",
    "from shared_utils import rt_dates\n",
    "from segment_speed_utils import (gtfs_schedule_wrangling, \n",
    "                                 metrics\n",
    "                                )\n",
    "from segment_speed_utils.project_vars import RT_SCHED_GCS\n",
    "from segment_speed_utils.time_series_utils import ROUTE_DIR_COLS\n",
    "analysis_date = rt_dates.DATES[\"mar2024\"]"
   ]
  },
  {
   "cell_type": "code",
   "execution_count": 2,
   "id": "4eed04e3-24c4-480e-b5d6-aa469bb6c485",
   "metadata": {},
   "outputs": [],
   "source": [
    "TRIP_EXPORT = dict_inputs[\"trip_metrics\"]\n",
    "\n",
    "df = pd.read_parquet(\n",
    "    f\"{RT_SCHED_GCS}{TRIP_EXPORT}_{analysis_date}.parquet\"\n",
    ")"
   ]
  },
  {
   "cell_type": "code",
   "execution_count": null,
   "id": "8eafceec-0fe5-4cf7-8445-ae139ed1d66f",
   "metadata": {},
   "outputs": [],
   "source": [
    "df[df.pct_rt_journey_atleast2_vp <= \n",
    "   df.pct_rt_journey_atleast1_vp].shape, df.shape"
   ]
  },
  {
   "cell_type": "code",
   "execution_count": null,
   "id": "03468b93-31af-4bc8-9624-e10056d076ab",
   "metadata": {},
   "outputs": [],
   "source": [
    "rt_trip_cutoff = 60 * 2\n",
    "df[df.rt_service_minutes > rt_trip_cutoff].shape"
   ]
  },
  {
   "cell_type": "code",
   "execution_count": null,
   "id": "ad78e02a-39a0-426a-92b9-bc96650aadcb",
   "metadata": {},
   "outputs": [],
   "source": [
    "# ~8% of trips have unusually high RT trip times (> 2 hrs)\n",
    "6798/86803"
   ]
  },
  {
   "cell_type": "code",
   "execution_count": null,
   "id": "96de7d91-024e-49f8-8aa0-d18a27f3e9ca",
   "metadata": {},
   "outputs": [],
   "source": [
    "df[df.rt_service_minutes > rt_trip_cutoff].sched_rt_category.value_counts()"
   ]
  },
  {
   "cell_type": "code",
   "execution_count": null,
   "id": "aad6411e-f8bc-416e-b3c7-cc5616cbc868",
   "metadata": {},
   "outputs": [],
   "source": [
    "df.dtypes"
   ]
  },
  {
   "cell_type": "code",
   "execution_count": null,
   "id": "02c8d6a1-d33f-4f6e-ada7-c509146f2bf7",
   "metadata": {},
   "outputs": [],
   "source": [
    "df[df.rt_service_minutes > rt_trip_cutoff]"
   ]
  },
  {
   "cell_type": "code",
   "execution_count": null,
   "id": "2b941598-7382-4086-a7bc-417391457ad6",
   "metadata": {},
   "outputs": [],
   "source": [
    "route_dir2[\n",
    "    route_dir2.pct_rt_journey_atleast2_vp > 1\n",
    "].sort_values(\"pct_rt_journey_atleast2_vp\", ascending=False)"
   ]
  },
  {
   "cell_type": "code",
   "execution_count": null,
   "id": "80f0e994-4c10-49f8-b9ff-e0e9b599c532",
   "metadata": {},
   "outputs": [],
   "source": []
  },
  {
   "cell_type": "code",
   "execution_count": null,
   "id": "051dd370-de45-44ff-a458-2869679e9c58",
   "metadata": {},
   "outputs": [],
   "source": []
  }
 ],
 "metadata": {
  "kernelspec": {
   "display_name": "Python 3 (ipykernel)",
   "language": "python",
   "name": "python3"
  },
  "language_info": {
   "codemirror_mode": {
    "name": "ipython",
    "version": 3
   },
   "file_extension": ".py",
   "mimetype": "text/x-python",
   "name": "python",
   "nbconvert_exporter": "python",
   "pygments_lexer": "ipython3",
   "version": "3.9.13"
  }
 },
 "nbformat": 4,
 "nbformat_minor": 5
}
