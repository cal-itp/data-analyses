{
 "cells": [
  {
   "cell_type": "code",
   "execution_count": 1,
   "id": "d69229ef-73e4-4dd7-8d2d-c5134e976228",
   "metadata": {},
   "outputs": [],
   "source": [
    "import pandas as pd\n",
    "\n",
    "from shared_utils import rt_dates\n",
    "from segment_speed_utils.project_vars import (\n",
    "    RT_SCHED_GCS, GTFS_DATA_DICT)\n",
    "\n",
    "FILE = GTFS_DATA_DICT.rt_vs_schedule_tables.schedule_rt_stop_times"
   ]
  },
  {
   "cell_type": "code",
   "execution_count": 2,
   "id": "1ee7822c-afbc-42e6-a0c4-fe74d73e3b5b",
   "metadata": {},
   "outputs": [],
   "source": [
    "def check_delay(analysis_date: str):\n",
    "    df = pd.read_parquet(f\"{RT_SCHED_GCS}{FILE}_{analysis_date}.parquet\")\n",
    "\n",
    "    df = df.assign(\n",
    "        delay = df.rt_arrival_sec - df.scheduled_arrival_sec\n",
    "    )\n",
    "\n",
    "    print(df.delay.describe(percentiles=[0.05, 0.1, 0.9, 0.95]))\n",
    "    \n",
    "    max_delay_min = df.delay.max() / 60\n",
    "    p95_delay_min = df.delay.quantile(q=0.95) / 60\n",
    "\n",
    "    min_delay_min = df.delay.min() / 60\n",
    "    p5_delay_min = df.delay.quantile(q=0.05) / 60\n",
    "\n",
    "    print(f\"min / max delay (minutes): {min_delay_min}, {max_delay_min}\")\n",
    "    print(f\"5th / 95th delay (minutes): {p5_delay_min}, {p95_delay_min}\")\n",
    "    \n",
    "    return"
   ]
  },
  {
   "cell_type": "code",
   "execution_count": 3,
   "id": "aa07fefd-16f2-4c7f-b737-8b87fb13fa6c",
   "metadata": {},
   "outputs": [
    {
     "name": "stdout",
     "output_type": "stream",
     "text": [
      "2024-01-17\n",
      "count    2.701371e+06\n",
      "mean    -1.357253e+03\n",
      "std      1.135102e+04\n",
      "min     -9.305700e+04\n",
      "5%      -2.000000e+02\n",
      "10%     -1.170000e+02\n",
      "50%      8.400000e+01\n",
      "90%      4.680000e+02\n",
      "95%      6.620000e+02\n",
      "max      4.971700e+04\n",
      "Name: delay, dtype: float64\n",
      "min / max delay (minutes): -1550.95, 828.6166666666667\n",
      "5th / 95th delay (minutes): -3.3333333333333335, 11.033333333333333\n",
      "2024-02-14\n",
      "count    2.638208e+06\n",
      "mean    -1.294241e+03\n",
      "std      1.143800e+04\n",
      "min     -8.983100e+04\n",
      "5%      -1.700000e+02\n",
      "10%     -9.000000e+01\n",
      "50%      1.300000e+02\n",
      "90%      6.740000e+02\n",
      "95%      9.960000e+02\n",
      "max      2.770800e+04\n",
      "Name: delay, dtype: float64\n",
      "min / max delay (minutes): -1497.1833333333334, 461.8\n",
      "5th / 95th delay (minutes): -2.8333333333333335, 16.6\n",
      "2024-03-13\n",
      "count    2.653803e+06\n",
      "mean    -1.333377e+03\n",
      "std      1.136810e+04\n",
      "min     -9.329100e+04\n",
      "5%      -1.840000e+02\n",
      "10%     -1.030000e+02\n",
      "50%      1.010000e+02\n",
      "90%      5.260000e+02\n",
      "95%      7.410000e+02\n",
      "max      7.223700e+04\n",
      "Name: delay, dtype: float64\n",
      "min / max delay (minutes): -1554.85, 1203.95\n",
      "5th / 95th delay (minutes): -3.066666666666667, 12.35\n",
      "2024-04-17\n",
      "count    2.748484e+06\n",
      "mean    -1.301535e+03\n",
      "std      1.121678e+04\n",
      "min     -9.158000e+04\n",
      "5%      -1.820000e+02\n",
      "10%     -1.030000e+02\n",
      "50%      1.010000e+02\n",
      "90%      5.170000e+02\n",
      "95%      7.320000e+02\n",
      "max      7.169400e+04\n",
      "Name: delay, dtype: float64\n",
      "min / max delay (minutes): -1526.3333333333333, 1194.9\n",
      "5th / 95th delay (minutes): -3.033333333333333, 12.2\n"
     ]
    }
   ],
   "source": [
    "analysis_date_list = [\n",
    "    rt_dates.DATES[f\"{m}2024\"] \n",
    "    for m in [\"jan\", \"feb\", \"mar\", \"apr\"]]\n",
    "\n",
    "for analysis_date in analysis_date_list:\n",
    "    print(analysis_date)\n",
    "    check_delay(analysis_date)"
   ]
  },
  {
   "cell_type": "code",
   "execution_count": null,
   "id": "249fb410-7f69-4334-b3cc-f5a55f0c7088",
   "metadata": {},
   "outputs": [],
   "source": []
  }
 ],
 "metadata": {
  "kernelspec": {
   "display_name": "Python 3 (ipykernel)",
   "language": "python",
   "name": "python3"
  },
  "language_info": {
   "codemirror_mode": {
    "name": "ipython",
    "version": 3
   },
   "file_extension": ".py",
   "mimetype": "text/x-python",
   "name": "python",
   "nbconvert_exporter": "python",
   "pygments_lexer": "ipython3",
   "version": "3.9.13"
  }
 },
 "nbformat": 4,
 "nbformat_minor": 5
}
