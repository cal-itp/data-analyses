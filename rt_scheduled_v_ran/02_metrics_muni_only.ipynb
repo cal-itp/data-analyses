{
 "cells": [
  {
   "cell_type": "markdown",
   "id": "c410afe6-22d7-4546-817c-fea818954108",
   "metadata": {
    "tags": []
   },
   "source": [
    "# Migrate to VP Usable\n",
    "* https://github.com/cal-itp/data-analyses/issues/936\n",
    "* cd rt_segment_speeds && pip install -r requirements.txt && cd ..\n",
    "    * https://github.com/cal-itp/data-analyses/blob/main/Makefile#L49C2-L49C66\n",
    "    "
   ]
  },
  {
   "cell_type": "code",
   "execution_count": 1,
   "id": "8de007c5-4cdb-4285-9536-0a5f7b75b2de",
   "metadata": {},
   "outputs": [],
   "source": [
    "import datetime\n",
    "\n",
    "import dask\n",
    "import dask.dataframe as dd\n",
    "import dask_geopandas as dg\n",
    "import geopandas as gpd\n",
    "import numpy as np\n",
    "import pandas as pd\n",
    "from calitp_data_analysis.geography_utils import WGS84\n",
    "from scripts import vp_spatial_accuracy\n",
    "from segment_speed_utils import helpers, wrangle_shapes\n",
    "from segment_speed_utils.project_vars import (\n",
    "    COMPILED_CACHED_VIEWS,\n",
    "    CONFIG_PATH,\n",
    "    GCS_FILE_PATH,\n",
    "    PROJECT_CRS,\n",
    "    RT_SCHED_GCS,\n",
    "    SEGMENT_GCS,\n",
    "    analysis_date,\n",
    ")"
   ]
  },
  {
   "cell_type": "code",
   "execution_count": 2,
   "id": "c5ba79eb-2d4e-4daa-9de6-3ab657ac0a15",
   "metadata": {},
   "outputs": [],
   "source": [
    "pd.options.display.max_columns = 100\n",
    "pd.options.display.float_format = \"{:.2f}\".format\n",
    "pd.set_option(\"display.max_rows\", None)\n",
    "pd.set_option(\"display.max_colwidth\", None)"
   ]
  },
  {
   "cell_type": "code",
   "execution_count": 3,
   "id": "d8c8f895-8b72-413a-8ec2-72e7e0ebf29f",
   "metadata": {},
   "outputs": [],
   "source": [
    "# calitp-analytics-data/data-analyses/rt_segment_speeds/vp_usable_2023-10-11\n",
    "operator = \"Bay Area 511 Muni VehiclePositions\"\n",
    "gtfs_key = \"7cc0cb1871dfd558f11a2885c145d144\""
   ]
  },
  {
   "cell_type": "markdown",
   "id": "a3863c86-7f53-4755-8444-534a2f11e59c",
   "metadata": {},
   "source": [
    "## Spatial Accuracy\n",
    "* Based on https://github.com/cal-itp/data-analyses/blob/main/rt_scheduled_v_ran/scripts/vp_spatial_accuracy.py\n",
    "### Grab_shape_keys_in_vp\n",
    "#### First time reading `vp_usable`"
   ]
  },
  {
   "cell_type": "code",
   "execution_count": 4,
   "id": "6bd6833a-7eb4-487a-bb3a-e445a2d1941d",
   "metadata": {},
   "outputs": [],
   "source": [
    "def grab_shape_keys_in_vp(analysis_date: str) -> pd.DataFrame:\n",
    "    \"\"\"\n",
    "    Subset raw vp and find unique trip_instance_keys.\n",
    "    Create crosswalk to link trip_instance_key to shape_array_key.\n",
    "    \"\"\"\n",
    "    vp_trip_df = pd.read_parquet(\n",
    "        f\"{SEGMENT_GCS}vp_usable_{analysis_date}\",\n",
    "        filters=[\n",
    "            [\n",
    "                (\"gtfs_dataset_name\", \"==\", operator),\n",
    "                (\"schedule_gtfs_dataset_key\", \"==\", gtfs_key),\n",
    "            ]\n",
    "        ],\n",
    "        columns=[\"trip_instance_key\"],\n",
    "    )\n",
    "\n",
    "    vp_trip_df = vp_trip_df.drop_duplicates().reset_index(drop=True)\n",
    "\n",
    "    # Make sure we have a shape geometry too\n",
    "    # otherwise map_partitions will throw error\n",
    "    shapes = (\n",
    "        pd.read_parquet(\n",
    "            f\"{COMPILED_CACHED_VIEWS}routelines_{analysis_date}.parquet\",\n",
    "            columns=[\"shape_array_key\"],\n",
    "        )\n",
    "        .dropna()\n",
    "        .drop_duplicates()\n",
    "    )\n",
    "\n",
    "    trips_with_shape = (\n",
    "        helpers.import_scheduled_trips(\n",
    "            analysis_date,\n",
    "            columns=[\"trip_instance_key\", \"shape_array_key\"],\n",
    "            get_pandas=True,\n",
    "        )\n",
    "        .merge(shapes, on=\"shape_array_key\", how=\"inner\")\n",
    "        .merge(vp_trip_df, on=\"trip_instance_key\", how=\"inner\")\n",
    "        .drop_duplicates()\n",
    "        .dropna()\n",
    "        .reset_index(drop=True)\n",
    "    )\n",
    "\n",
    "    return trips_with_shape"
   ]
  },
  {
   "cell_type": "code",
   "execution_count": 5,
   "id": "8759e976-ea60-4604-945d-1ec9693b0495",
   "metadata": {},
   "outputs": [],
   "source": [
    "trips_with_shape = grab_shape_keys_in_vp(analysis_date)"
   ]
  },
  {
   "cell_type": "code",
   "execution_count": 6,
   "id": "bbbc85b4-a588-4f20-9822-eb4d5b4b3723",
   "metadata": {},
   "outputs": [
    {
     "data": {
      "text/plain": [
       "(9240, 2)"
      ]
     },
     "execution_count": 6,
     "metadata": {},
     "output_type": "execute_result"
    }
   ],
   "source": [
    "trips_with_shape.shape"
   ]
  },
  {
   "cell_type": "code",
   "execution_count": 7,
   "id": "34f69e0d-68c8-4b8e-8b82-8318672d0f4d",
   "metadata": {},
   "outputs": [
    {
     "data": {
      "text/html": [
       "<div>\n",
       "<style scoped>\n",
       "    .dataframe tbody tr th:only-of-type {\n",
       "        vertical-align: middle;\n",
       "    }\n",
       "\n",
       "    .dataframe tbody tr th {\n",
       "        vertical-align: top;\n",
       "    }\n",
       "\n",
       "    .dataframe thead th {\n",
       "        text-align: right;\n",
       "    }\n",
       "</style>\n",
       "<table border=\"1\" class=\"dataframe\">\n",
       "  <thead>\n",
       "    <tr style=\"text-align: right;\">\n",
       "      <th></th>\n",
       "      <th>trip_instance_key</th>\n",
       "      <th>shape_array_key</th>\n",
       "    </tr>\n",
       "  </thead>\n",
       "  <tbody>\n",
       "    <tr>\n",
       "      <th>0</th>\n",
       "      <td>12de3d260e9fe09fa878cb4cdb2d6898</td>\n",
       "      <td>749b225ca6691f77914e88577dc13e68</td>\n",
       "    </tr>\n",
       "    <tr>\n",
       "      <th>1</th>\n",
       "      <td>934aea5748bce830ffc2fa88dc01402a</td>\n",
       "      <td>749b225ca6691f77914e88577dc13e68</td>\n",
       "    </tr>\n",
       "    <tr>\n",
       "      <th>2</th>\n",
       "      <td>3d06fa8e68e4f38d3ccc7adfabb5c3d9</td>\n",
       "      <td>f1a7410fae06937b7183f6a553707915</td>\n",
       "    </tr>\n",
       "    <tr>\n",
       "      <th>3</th>\n",
       "      <td>34109ad8cfeca83cd459d42c7d51d602</td>\n",
       "      <td>f1a7410fae06937b7183f6a553707915</td>\n",
       "    </tr>\n",
       "    <tr>\n",
       "      <th>4</th>\n",
       "      <td>34acd907ae9d5eb5456d683d2458bbc6</td>\n",
       "      <td>f1a7410fae06937b7183f6a553707915</td>\n",
       "    </tr>\n",
       "  </tbody>\n",
       "</table>\n",
       "</div>"
      ],
      "text/plain": [
       "                  trip_instance_key                   shape_array_key\n",
       "0  12de3d260e9fe09fa878cb4cdb2d6898  749b225ca6691f77914e88577dc13e68\n",
       "1  934aea5748bce830ffc2fa88dc01402a  749b225ca6691f77914e88577dc13e68\n",
       "2  3d06fa8e68e4f38d3ccc7adfabb5c3d9  f1a7410fae06937b7183f6a553707915\n",
       "3  34109ad8cfeca83cd459d42c7d51d602  f1a7410fae06937b7183f6a553707915\n",
       "4  34acd907ae9d5eb5456d683d2458bbc6  f1a7410fae06937b7183f6a553707915"
      ]
     },
     "execution_count": 7,
     "metadata": {},
     "output_type": "execute_result"
    }
   ],
   "source": [
    "trips_with_shape.head()"
   ]
  },
  {
   "cell_type": "markdown",
   "id": "8be73ca3-7ca2-4616-9504-7defe86f3792",
   "metadata": {},
   "source": [
    "### Buffer shapes"
   ]
  },
  {
   "cell_type": "code",
   "execution_count": 8,
   "id": "ca9923a7-914f-43ce-a840-a15d41b43aee",
   "metadata": {},
   "outputs": [],
   "source": [
    "# This is trips_with_shape_geom\n",
    "trips_with_shape_geom = vp_spatial_accuracy.buffer_shapes(\n",
    "    analysis_date, trips_with_shape, 35\n",
    ")"
   ]
  },
  {
   "cell_type": "code",
   "execution_count": 9,
   "id": "caf4dd49-4839-475d-99ff-7765ef5fb20a",
   "metadata": {},
   "outputs": [
    {
     "data": {
      "text/plain": [
       "(9240, 3)"
      ]
     },
     "execution_count": 9,
     "metadata": {},
     "output_type": "execute_result"
    }
   ],
   "source": [
    "trips_with_shape_geom.shape"
   ]
  },
  {
   "cell_type": "markdown",
   "id": "fc115ac6-2042-4565-9ac7-bd961339f8aa",
   "metadata": {},
   "source": [
    "#### Second time reading in the same file, streamline"
   ]
  },
  {
   "cell_type": "code",
   "execution_count": 10,
   "id": "beaddbc2-fd11-4021-bdf0-7eea81835226",
   "metadata": {},
   "outputs": [],
   "source": [
    "vp = dd.read_parquet(\n",
    "    f\"{SEGMENT_GCS}vp_usable_{analysis_date}\",\n",
    "    filters=[\n",
    "        [\n",
    "            (\"gtfs_dataset_name\", \"==\", operator),\n",
    "            (\"schedule_gtfs_dataset_key\", \"==\", gtfs_key),\n",
    "        ]\n",
    "    ],\n",
    ")"
   ]
  },
  {
   "cell_type": "markdown",
   "id": "384c1e89-0b57-49dd-aaa0-69ea03e25b23",
   "metadata": {},
   "source": [
    "### Full function"
   ]
  },
  {
   "cell_type": "code",
   "execution_count": 11,
   "id": "79fe772c-74db-49e7-b41d-e1daa3f23ee3",
   "metadata": {},
   "outputs": [],
   "source": [
    "def merge_vp_with_shape_and_count(\n",
    "    vp: dd.DataFrame, trips_with_shape_geom: gpd.GeoDataFrame\n",
    ") -> gpd.GeoDataFrame:\n",
    "    \"\"\"\n",
    "    Merge vp with crosswalk and buffered shapes.\n",
    "    Get vp count totals and vp within shape.\n",
    "    \"\"\"\n",
    "    # COMMENT BACK IN ONCE I MERGE WITH MAIN\n",
    "    # vp_gdf = wrangle_shapes.vp_as_gdf(vp)\n",
    "\n",
    "    vp_gdf = gpd.GeoDataFrame(\n",
    "        vp, geometry=gpd.points_from_xy(vp.x, vp.y), crs=WGS84\n",
    "    ).to_crs(PROJECT_CRS)\n",
    "\n",
    "    vp_gdf = vp_gdf.rename(\n",
    "        columns={\n",
    "            0: \"gtfs_dataset_name\",\n",
    "            1: \"schedule_gtfs_dataset_key\",\n",
    "            2: \"trip_id\",\n",
    "            3: \"trip_instance_key\",\n",
    "            4: \"location_timestamp\",\n",
    "            5: \"location_timestamp_local\",\n",
    "            6: \"x\",\n",
    "            7: \"y\",\n",
    "            8: \"vp_idx\",\n",
    "            9: \"gtfs_dataset_key\",\n",
    "            10: \"vp_dir_xnorm\",\n",
    "            11: \"vp_dir_ynorm\",\n",
    "            12: \"vp_primary_direction\",\n",
    "        }\n",
    "    )\n",
    "\n",
    "    vp2 = pd.merge(\n",
    "        vp_gdf, trips_with_shape_geom, on=\"trip_instance_key\", how=\"inner\"\n",
    "    ).reset_index(drop=True)\n",
    "\n",
    "    total_vp = vp_spatial_accuracy.total_vp_counts_by_trip(vp2)\n",
    "\n",
    "    vp2 = vp2.assign(is_within=vp2.geometry_x.within(vp2.geometry_y)).query(\n",
    "        \"is_within==True\"\n",
    "    )\n",
    "\n",
    "    vps_in_shape = (\n",
    "        vp2.groupby(\"trip_instance_key\", observed=True, group_keys=False)\n",
    "        .agg({\"location_timestamp_local\": \"count\"})\n",
    "        .reset_index()\n",
    "        .rename(columns={\"location_timestamp_local\": \"vp_in_shape\"})\n",
    "    )\n",
    "\n",
    "    count_df = pd.merge(total_vp, vps_in_shape, on=\"trip_instance_key\", how=\"left\")\n",
    "\n",
    "    count_df = count_df.assign(\n",
    "        vp_in_shape=count_df.vp_in_shape.fillna(0).astype(\"int32\"),\n",
    "        total_vp=count_df.total_vp.fillna(0).astype(\"int32\"),\n",
    "    )\n",
    "\n",
    "    count_df[\"total_vp_in_shape_pct\"] = count_df.vp_in_shape / count_df.total_vp * 100\n",
    "\n",
    "    return count_df"
   ]
  },
  {
   "cell_type": "code",
   "execution_count": 12,
   "id": "561287f4-8189-441c-881c-1f34fc43e7d5",
   "metadata": {},
   "outputs": [],
   "source": [
    "muni = merge_vp_with_shape_and_count(vp, trips_with_shape_geom)"
   ]
  },
  {
   "cell_type": "code",
   "execution_count": 13,
   "id": "bcaa5da2-21a5-4c87-825a-fa2637ef9b8f",
   "metadata": {},
   "outputs": [
    {
     "data": {
      "text/plain": [
       "count   9240.00\n",
       "mean     161.87\n",
       "std       64.06\n",
       "min        0.00\n",
       "25%      118.00\n",
       "50%      167.00\n",
       "75%      207.00\n",
       "max      481.00\n",
       "Name: vp_in_shape, dtype: float64"
      ]
     },
     "execution_count": 13,
     "metadata": {},
     "output_type": "execute_result"
    }
   ],
   "source": [
    "muni.vp_in_shape.describe()"
   ]
  },
  {
   "cell_type": "code",
   "execution_count": 14,
   "id": "3504f86b-08bd-4a8d-b810-e654dd911c06",
   "metadata": {},
   "outputs": [
    {
     "data": {
      "text/plain": [
       "9240"
      ]
     },
     "execution_count": 14,
     "metadata": {},
     "output_type": "execute_result"
    }
   ],
   "source": [
    "muni.trip_instance_key.nunique()"
   ]
  },
  {
   "cell_type": "code",
   "execution_count": 15,
   "id": "4b0f141c-e583-4bb2-a3a7-f059e27a66fc",
   "metadata": {},
   "outputs": [
    {
     "data": {
      "text/plain": [
       "count   9240.00\n",
       "mean       0.93\n",
       "std        0.14\n",
       "min        0.00\n",
       "25%        0.94\n",
       "50%        1.00\n",
       "75%        1.00\n",
       "max        1.00\n",
       "dtype: float64"
      ]
     },
     "execution_count": 15,
     "metadata": {},
     "output_type": "execute_result"
    }
   ],
   "source": [
    "(muni.vp_in_shape / muni.total_vp).describe()"
   ]
  },
  {
   "cell_type": "code",
   "execution_count": 16,
   "id": "0ca6716e-248c-4702-bcaa-f1dd054f0013",
   "metadata": {},
   "outputs": [
    {
     "data": {
      "text/plain": [
       "count   9240.00\n",
       "mean      93.34\n",
       "std       13.91\n",
       "min        0.00\n",
       "25%       94.15\n",
       "50%      100.00\n",
       "75%      100.00\n",
       "max      100.00\n",
       "Name: total_vp_in_shape_pct, dtype: float64"
      ]
     },
     "execution_count": 16,
     "metadata": {},
     "output_type": "execute_result"
    }
   ],
   "source": [
    "muni.total_vp_in_shape_pct.describe()"
   ]
  },
  {
   "cell_type": "markdown",
   "id": "19a20f72-8a90-4823-8cc5-32f91ae1286d",
   "metadata": {
    "tags": []
   },
   "source": [
    "## Update Completeness\n",
    "* https://github.com/cal-itp/data-analyses/blob/main/rt_predictions/01_update_completeness.ipynb\n",
    "\n",
    "#### Keep only relevant `trips instance keys`?\n",
    "* Trips have certain attributes: name, key, gtfs key, etc in addition to trip instance key\n",
    "* Start from `vp_usable` join to `shapes` as first pass and get total positions in, add a column that counts counts number of pings\n",
    "* Read dataset in once, derive a bunch of rows. \n",
    "* I have 100 vps for one trip -> turn the trip into one row with summary statistics\n",
    "* Pass output of dataset into three different ways\n",
    "* Each pass will summarize vp-usable from thousands of rows to just one per trip\n",
    "* Pass `vp_usable` into three different functions.\n",
    "* Final step: merge all on trips.\n",
    "* Each function is individual, can be pandas."
   ]
  },
  {
   "cell_type": "code",
   "execution_count": 17,
   "id": "b2e0fa2d-089d-49a5-ab20-a8ef65925795",
   "metadata": {},
   "outputs": [],
   "source": [
    "# Only use the trips with shapes.\n",
    "relevant_trips = list(muni.trip_instance_key.unique())"
   ]
  },
  {
   "cell_type": "markdown",
   "id": "0e0e963e-ce3a-43bd-b5eb-209af2524e0f",
   "metadata": {},
   "source": [
    "#### Third time reading in `vp_usable`"
   ]
  },
  {
   "cell_type": "markdown",
   "id": "e9360550-2b92-406e-a37e-48347fec849d",
   "metadata": {},
   "source": [
    "#### Density\n",
    "\n",
    "6ef4805f0104b95614b86a2b1c374d23\n",
    "* Minutes skipped: 6:12 to 6:18\n",
    "* 6:19-6:26\n",
    "* 6:28-7:33 etc etc\n",
    "* Trip started at 5:48, ended at 8:31 \n",
    "\n",
    "Can also check w/ 38247cbee93b6f85d58bf1812ae553b9\n",
    "* Began at 16:01:00, end at 17:00:000\n",
    "* Skips having data: jumps from 4:38 to 4:54\n",
    "    * Trip: know the min and the max \n",
    "    * Bin the minutes: everything else between 4:38 to 4:54 can't be binned. \n",
    "    * Dem: gap between max and min \n",
    "* Vp doesn't necessarily update every minute \n",
    "* TO DO\n",
    "    * Correct trip duration numerator: average pings per minute or ten minutes or five minutes...Help us understand coverage.  \n",
    "    * How to express time lapses: time deletas in pandas"
   ]
  },
  {
   "cell_type": "code",
   "execution_count": 18,
   "id": "845ad61c-eab0-40c9-9e50-09c35bd50a73",
   "metadata": {},
   "outputs": [],
   "source": [
    "completeness_cols = [\n",
    "    \"vp_idx\",\n",
    "    \"location_timestamp_local\",\n",
    "    \"trip_instance_key\",\n",
    "    \"gtfs_dataset_key\",\n",
    "]"
   ]
  },
  {
   "cell_type": "code",
   "execution_count": 19,
   "id": "88b571f2-624c-47aa-a154-286902fa4a96",
   "metadata": {},
   "outputs": [],
   "source": [
    "vp_filtered = pd.read_parquet(\n",
    "    f\"{SEGMENT_GCS}vp_usable_{analysis_date}\",\n",
    "    columns=completeness_cols,\n",
    "    filters=[\n",
    "        [\n",
    "            (\"gtfs_dataset_name\", \"==\", operator),\n",
    "            (\"schedule_gtfs_dataset_key\", \"==\", gtfs_key),\n",
    "            (\"trip_instance_key\", \"in\", relevant_trips),\n",
    "        ]\n",
    "    ],\n",
    ")"
   ]
  },
  {
   "cell_type": "code",
   "execution_count": 20,
   "id": "808807fc-f36d-4b31-abec-4aa01a6f56c0",
   "metadata": {},
   "outputs": [],
   "source": [
    "def pct_of_pings(df: pd.DataFrame):\n",
    "\n",
    "    # Determine which rows have 2+ pings per minute\n",
    "    df2 = df.assign(\n",
    "        atleast2_trip_updates=df.apply(\n",
    "            lambda x: 1 if x.number_of_pings_per_minute >= 2 else 0, axis=1\n",
    "        )\n",
    "    )\n",
    "\n",
    "    # Calculate total trip time\n",
    "    df2[\"max_time\"] = df2.location_timestamp_local\n",
    "    df3 = (\n",
    "        df2.groupby([\"trip_instance_key\"])\n",
    "        .agg(\n",
    "            {\n",
    "                \"location_timestamp_local\": \"min\",\n",
    "                \"max_time\": \"max\",\n",
    "                \"atleast2_trip_updates\": \"sum\",\n",
    "            }\n",
    "        )\n",
    "        .reset_index()\n",
    "        .rename(columns={\"location_timestamp_local\": \"min_time\"})\n",
    "    )\n",
    "\n",
    "    # Add an extra minute\n",
    "    df3[\"total_trip_time\"] = (df3.max_time - df3.min_time) / pd.Timedelta(minutes=1) + 1\n",
    "\n",
    "    # Find % of each trip in which one minute has 2+ pings\n",
    "    df3 = df3.assign(\n",
    "        pct_with_2_pings_per_min=df3.atleast2_trip_updates.divide(df3.total_trip_time)\n",
    "        * 100\n",
    "    )\n",
    "\n",
    "    return df3"
   ]
  },
  {
   "cell_type": "code",
   "execution_count": 21,
   "id": "2833ed78-8413-426e-ae13-7549159e4121",
   "metadata": {},
   "outputs": [],
   "source": [
    "def density_of_pings(df: pd.DataFrame):\n",
    "\n",
    "    # Count number of pings that occur\n",
    "    # on average per 5 minutes of the trip\n",
    "    df2 = (\n",
    "        df.groupby(\n",
    "            [\n",
    "                *[\"trip_instance_key\"],\n",
    "                pd.Grouper(key=\"location_timestamp_local\", freq=\"5Min\"),\n",
    "            ]\n",
    "        )\n",
    "        .sum()\n",
    "        .reset_index()\n",
    "        .rename(columns={\"number_of_pings_per_minute\": \"number_of_pings_per_5_min\"})\n",
    "    )\n",
    "\n",
    "    df3 = (\n",
    "        df2.groupby([\"trip_instance_key\"])\n",
    "        .agg({\"number_of_pings_per_5_min\": \"median\"})\n",
    "        .reset_index()\n",
    "    )\n",
    "\n",
    "    df3[\"avg_pings_per_5_min\"] = df3.number_of_pings_per_5_min / 5\n",
    "\n",
    "    return df3"
   ]
  },
  {
   "cell_type": "code",
   "execution_count": 22,
   "id": "40842cbd-d615-4c7e-ae00-b6659ef6bd7b",
   "metadata": {},
   "outputs": [],
   "source": [
    "def total_minutes_with_gtfs(df: pd.DataFrame):\n",
    "    \"\"\"\n",
    "    Total minutes of a trip that recorded any\n",
    "    vehicle positions.\n",
    "    \"\"\"\n",
    "    df2 = (\n",
    "        df.groupby([\"trip_instance_key\"])\n",
    "        .agg({\"gtfs_dataset_key\": \"count\"})\n",
    "        .rename(columns={\"gtfs_dataset_key\": \"total_minutes_w_gtfs\"})\n",
    "        .reset_index()\n",
    "    )\n",
    "    return df2"
   ]
  },
  {
   "cell_type": "code",
   "execution_count": 23,
   "id": "72b1805a-dd81-40c1-9b38-17db056be68e",
   "metadata": {},
   "outputs": [],
   "source": [
    "def update_completeness(df: pd.DataFrame):\n",
    "    # Find number of pings per minute for each trip\n",
    "    df = df.sort_values([\"vp_idx\"]).reset_index(drop=True)\n",
    "\n",
    "    df2 = (\n",
    "        df.groupby(\n",
    "            [\n",
    "                *[\"trip_instance_key\"],\n",
    "                pd.Grouper(key=\"location_timestamp_local\", freq=\"1Min\"),\n",
    "            ]\n",
    "        )\n",
    "        .count()\n",
    "        .reset_index()\n",
    "        .rename(columns={\"vp_idx\": \"number_of_pings_per_minute\"})\n",
    "    )\n",
    "\n",
    "    pings_df = pct_of_pings(df2)\n",
    "    density_df = density_of_pings(df2)\n",
    "    total_minutes_df = total_minutes_with_gtfs(df2)\n",
    "\n",
    "    m1 = pings_df.merge(density_df, on=\"trip_instance_key\", how=\"inner\").merge(\n",
    "        total_minutes_df, on=\"trip_instance_key\", how=\"inner\"\n",
    "    )\n",
    "\n",
    "    # m1[\"pct_of_trip_w_gtfs\"] = m1.total_minutes_w_gtfs / m1.total_trip_time * 100\n",
    "    m1 = m1.drop(columns=[\"min_time\", \"max_time\", \"number_of_pings_per_5_min\"])\n",
    "    return m1"
   ]
  },
  {
   "cell_type": "code",
   "execution_count": 24,
   "id": "6c260617-bda5-4b06-9ff7-b01407fc968d",
   "metadata": {},
   "outputs": [],
   "source": [
    "update_completeness_df = update_completeness(vp_filtered)"
   ]
  },
  {
   "cell_type": "code",
   "execution_count": 25,
   "id": "31544a58-1405-4fe5-b8a6-a91742645513",
   "metadata": {},
   "outputs": [
    {
     "data": {
      "text/html": [
       "<div>\n",
       "<style scoped>\n",
       "    .dataframe tbody tr th:only-of-type {\n",
       "        vertical-align: middle;\n",
       "    }\n",
       "\n",
       "    .dataframe tbody tr th {\n",
       "        vertical-align: top;\n",
       "    }\n",
       "\n",
       "    .dataframe thead th {\n",
       "        text-align: right;\n",
       "    }\n",
       "</style>\n",
       "<table border=\"1\" class=\"dataframe\">\n",
       "  <thead>\n",
       "    <tr style=\"text-align: right;\">\n",
       "      <th></th>\n",
       "      <th>trip_instance_key</th>\n",
       "      <th>atleast2_trip_updates</th>\n",
       "      <th>total_trip_time</th>\n",
       "      <th>pct_with_2_pings_per_min</th>\n",
       "      <th>avg_pings_per_5_min</th>\n",
       "      <th>total_minutes_w_gtfs</th>\n",
       "    </tr>\n",
       "  </thead>\n",
       "  <tbody>\n",
       "    <tr>\n",
       "      <th>7455</th>\n",
       "      <td>cf957f0cf035da1ce22c5dd5311f1df1</td>\n",
       "      <td>75</td>\n",
       "      <td>75.00</td>\n",
       "      <td>100.00</td>\n",
       "      <td>3.00</td>\n",
       "      <td>75</td>\n",
       "    </tr>\n",
       "    <tr>\n",
       "      <th>1667</th>\n",
       "      <td>2f796977ba5835faea59ae2f266ffa75</td>\n",
       "      <td>93</td>\n",
       "      <td>93.00</td>\n",
       "      <td>100.00</td>\n",
       "      <td>3.00</td>\n",
       "      <td>93</td>\n",
       "    </tr>\n",
       "    <tr>\n",
       "      <th>754</th>\n",
       "      <td>15289e832dbef429b4fca144e9eafcf9</td>\n",
       "      <td>50</td>\n",
       "      <td>50.00</td>\n",
       "      <td>100.00</td>\n",
       "      <td>3.00</td>\n",
       "      <td>50</td>\n",
       "    </tr>\n",
       "  </tbody>\n",
       "</table>\n",
       "</div>"
      ],
      "text/plain": [
       "                     trip_instance_key  atleast2_trip_updates  \\\n",
       "7455  cf957f0cf035da1ce22c5dd5311f1df1                     75   \n",
       "1667  2f796977ba5835faea59ae2f266ffa75                     93   \n",
       "754   15289e832dbef429b4fca144e9eafcf9                     50   \n",
       "\n",
       "      total_trip_time  pct_with_2_pings_per_min  avg_pings_per_5_min  \\\n",
       "7455            75.00                    100.00                 3.00   \n",
       "1667            93.00                    100.00                 3.00   \n",
       "754             50.00                    100.00                 3.00   \n",
       "\n",
       "      total_minutes_w_gtfs  \n",
       "7455                    75  \n",
       "1667                    93  \n",
       "754                     50  "
      ]
     },
     "execution_count": 25,
     "metadata": {},
     "output_type": "execute_result"
    }
   ],
   "source": [
    "update_completeness_df.sample(3)"
   ]
  },
  {
   "cell_type": "code",
   "execution_count": 27,
   "id": "263e407d-3d4f-4508-8efa-7d5818d245b1",
   "metadata": {},
   "outputs": [],
   "source": [
    "# update_completeness_df.pct_of_trip_w_gtfs.describe()"
   ]
  },
  {
   "cell_type": "code",
   "execution_count": 28,
   "id": "d5bc77a1-d2e9-4ff4-8fda-d5e7b7484149",
   "metadata": {},
   "outputs": [
    {
     "data": {
      "text/plain": [
       "count   9240.00\n",
       "mean       2.96\n",
       "std        0.18\n",
       "min        0.30\n",
       "25%        3.00\n",
       "50%        3.00\n",
       "75%        3.00\n",
       "max        3.00\n",
       "Name: avg_pings_per_5_min, dtype: float64"
      ]
     },
     "execution_count": 28,
     "metadata": {},
     "output_type": "execute_result"
    }
   ],
   "source": [
    "update_completeness_df.avg_pings_per_5_min.describe()"
   ]
  },
  {
   "cell_type": "code",
   "execution_count": 29,
   "id": "560d3543-cf1e-4b6d-8378-8a45ba0e2067",
   "metadata": {},
   "outputs": [
    {
     "data": {
      "text/plain": [
       "count   9240.00\n",
       "mean      97.50\n",
       "std        5.89\n",
       "min        2.04\n",
       "25%       97.62\n",
       "50%       98.67\n",
       "75%      100.00\n",
       "max      100.00\n",
       "Name: pct_with_2_pings_per_min, dtype: float64"
      ]
     },
     "execution_count": 29,
     "metadata": {},
     "output_type": "execute_result"
    }
   ],
   "source": [
    "update_completeness_df.pct_with_2_pings_per_min.describe()"
   ]
  },
  {
   "cell_type": "markdown",
   "id": "3b61450e-528c-4dab-9582-2bda3343e379",
   "metadata": {},
   "source": [
    "## How many minutes a trip took and the average speeds?"
   ]
  },
  {
   "cell_type": "code",
   "execution_count": 30,
   "id": "04575f1c-aad5-4329-a08e-27171b2feb44",
   "metadata": {},
   "outputs": [
    {
     "data": {
      "text/html": [
       "<div>\n",
       "<style scoped>\n",
       "    .dataframe tbody tr th:only-of-type {\n",
       "        vertical-align: middle;\n",
       "    }\n",
       "\n",
       "    .dataframe tbody tr th {\n",
       "        vertical-align: top;\n",
       "    }\n",
       "\n",
       "    .dataframe thead th {\n",
       "        text-align: right;\n",
       "    }\n",
       "</style>\n",
       "<table border=\"1\" class=\"dataframe\">\n",
       "  <thead>\n",
       "    <tr style=\"text-align: right;\">\n",
       "      <th></th>\n",
       "      <th>vp_idx</th>\n",
       "      <th>location_timestamp_local</th>\n",
       "      <th>trip_instance_key</th>\n",
       "      <th>gtfs_dataset_key</th>\n",
       "    </tr>\n",
       "  </thead>\n",
       "  <tbody>\n",
       "    <tr>\n",
       "      <th>11771165</th>\n",
       "      <td>11771165</td>\n",
       "      <td>2023-10-11 11:48:49</td>\n",
       "      <td>1f31a1602d6f0da057e1716ae7e300b2</td>\n",
       "      <td>c0e3039da063db95ebabd3fe4ee611a4</td>\n",
       "    </tr>\n",
       "  </tbody>\n",
       "</table>\n",
       "</div>"
      ],
      "text/plain": [
       "            vp_idx location_timestamp_local                 trip_instance_key  \\\n",
       "11771165  11771165      2023-10-11 11:48:49  1f31a1602d6f0da057e1716ae7e300b2   \n",
       "\n",
       "                          gtfs_dataset_key  \n",
       "11771165  c0e3039da063db95ebabd3fe4ee611a4  "
      ]
     },
     "execution_count": 30,
     "metadata": {},
     "output_type": "execute_result"
    }
   ],
   "source": [
    "vp_filtered.sample()"
   ]
  },
  {
   "cell_type": "code",
   "execution_count": 31,
   "id": "83ae24e8-3783-493e-93ed-38ee225a72d8",
   "metadata": {},
   "outputs": [],
   "source": [
    "crosswalk = (\n",
    "    vp_filtered[[\"gtfs_dataset_key\", \"trip_instance_key\"]]\n",
    "    .drop_duplicates()\n",
    "    .reset_index(drop=True)\n",
    ")"
   ]
  },
  {
   "cell_type": "code",
   "execution_count": 32,
   "id": "38e46c57-0403-4d1f-8a50-3bf8d332cc54",
   "metadata": {},
   "outputs": [
    {
     "data": {
      "text/plain": [
       "(9240, 2)"
      ]
     },
     "execution_count": 32,
     "metadata": {},
     "output_type": "execute_result"
    }
   ],
   "source": [
    "crosswalk.shape"
   ]
  },
  {
   "cell_type": "code",
   "execution_count": 33,
   "id": "d5535a0a-2c40-4ba6-8cc4-3e3ad90f9aef",
   "metadata": {},
   "outputs": [],
   "source": [
    "trip_speeds = pd.read_parquet(\n",
    "    f\"{SEGMENT_GCS}trip_summary/trip_speeds_{analysis_date}.parquet\",\n",
    "    columns=[\n",
    "        \"trip_instance_key\",\n",
    "        \"speed_mph\",\n",
    "        \"route_id\",\n",
    "        \"time_of_day\",\n",
    "        \"service_minutes\",\n",
    "        \"direction_id\",\n",
    "        \"route_name_used\",\n",
    "    ],\n",
    ")"
   ]
  },
  {
   "cell_type": "code",
   "execution_count": 34,
   "id": "582917fe-4838-45dd-b50e-2a6eba52e5b1",
   "metadata": {},
   "outputs": [
    {
     "data": {
      "text/html": [
       "<div>\n",
       "<style scoped>\n",
       "    .dataframe tbody tr th:only-of-type {\n",
       "        vertical-align: middle;\n",
       "    }\n",
       "\n",
       "    .dataframe tbody tr th {\n",
       "        vertical-align: top;\n",
       "    }\n",
       "\n",
       "    .dataframe thead th {\n",
       "        text-align: right;\n",
       "    }\n",
       "</style>\n",
       "<table border=\"1\" class=\"dataframe\">\n",
       "  <thead>\n",
       "    <tr style=\"text-align: right;\">\n",
       "      <th></th>\n",
       "      <th>trip_instance_key</th>\n",
       "      <th>speed_mph</th>\n",
       "      <th>route_id</th>\n",
       "      <th>time_of_day</th>\n",
       "      <th>service_minutes</th>\n",
       "      <th>direction_id</th>\n",
       "      <th>route_name_used</th>\n",
       "    </tr>\n",
       "  </thead>\n",
       "  <tbody>\n",
       "    <tr>\n",
       "      <th>52991</th>\n",
       "      <td>b2b20c73cb81f463b786f2363f6d69a9</td>\n",
       "      <td>9.71</td>\n",
       "      <td>45-13168</td>\n",
       "      <td>PM Peak</td>\n",
       "      <td>79.00</td>\n",
       "      <td>1</td>\n",
       "      <td>LINCOLN HEIGHTS-DTWN LA-HARBR FWY STA VIA BROADWAY</td>\n",
       "    </tr>\n",
       "  </tbody>\n",
       "</table>\n",
       "</div>"
      ],
      "text/plain": [
       "                      trip_instance_key  speed_mph  route_id time_of_day  \\\n",
       "52991  b2b20c73cb81f463b786f2363f6d69a9       9.71  45-13168     PM Peak   \n",
       "\n",
       "       service_minutes  direction_id  \\\n",
       "52991            79.00             1   \n",
       "\n",
       "                                          route_name_used  \n",
       "52991  LINCOLN HEIGHTS-DTWN LA-HARBR FWY STA VIA BROADWAY  "
      ]
     },
     "execution_count": 34,
     "metadata": {},
     "output_type": "execute_result"
    }
   ],
   "source": [
    "trip_speeds.sample()"
   ]
  },
  {
   "cell_type": "markdown",
   "id": "23df0f50-53f6-41fb-810d-74a0d708db70",
   "metadata": {},
   "source": [
    "### Average speed questions:\n",
    "* Are we still filtering out trips with overly high/low speeds?\n",
    "* What happens if a route doesn't have an id or used name? How do you merge it back?\n",
    "* DO I still use the average function?\n",
    "    * The results I get are kind of different"
   ]
  },
  {
   "cell_type": "code",
   "execution_count": 35,
   "id": "3bfe26dd-e0f8-4a8b-9ded-82822a1a9129",
   "metadata": {},
   "outputs": [],
   "source": [
    "# Filtered\n",
    "trip_speeds2 = trip_speeds.query(\"speed_mph <= 80\")"
   ]
  },
  {
   "cell_type": "code",
   "execution_count": 36,
   "id": "01c12556-c124-417d-b957-da1b3d2c48e5",
   "metadata": {},
   "outputs": [
    {
     "name": "stdout",
     "output_type": "stream",
     "text": [
      "<class 'pandas.core.frame.DataFrame'>\n",
      "Int64Index: 76255 entries, 0 to 76254\n",
      "Data columns (total 7 columns):\n",
      " #   Column             Non-Null Count  Dtype  \n",
      "---  ------             --------------  -----  \n",
      " 0   trip_instance_key  76255 non-null  object \n",
      " 1   speed_mph          76255 non-null  float64\n",
      " 2   route_id           74710 non-null  object \n",
      " 3   time_of_day        76255 non-null  object \n",
      " 4   service_minutes    76255 non-null  float64\n",
      " 5   direction_id       74710 non-null  Int64  \n",
      " 6   route_name_used    74710 non-null  object \n",
      "dtypes: Int64(1), float64(2), object(4)\n",
      "memory usage: 4.7+ MB\n"
     ]
    }
   ],
   "source": [
    "trip_speeds2.info()"
   ]
  },
  {
   "cell_type": "code",
   "execution_count": 37,
   "id": "28328fc4-7195-4c5a-a271-558507e40f01",
   "metadata": {},
   "outputs": [
    {
     "data": {
      "text/plain": [
       "count   76255.00\n",
       "mean       10.03\n",
       "std         5.94\n",
       "min         0.04\n",
       "25%         6.02\n",
       "50%         8.85\n",
       "75%        12.57\n",
       "max        79.56\n",
       "Name: speed_mph, dtype: float64"
      ]
     },
     "execution_count": 37,
     "metadata": {},
     "output_type": "execute_result"
    }
   ],
   "source": [
    "trip_speeds2.speed_mph.describe()"
   ]
  },
  {
   "cell_type": "code",
   "execution_count": 38,
   "id": "72f703d3-3dc6-4ee2-95ff-cf388807fb7d",
   "metadata": {},
   "outputs": [],
   "source": [
    "# trip_speeds2 = trip_speeds2.fillna('NA')"
   ]
  },
  {
   "cell_type": "code",
   "execution_count": 39,
   "id": "55c8f19f-81d6-4a02-b788-96cef65c616f",
   "metadata": {},
   "outputs": [
    {
     "data": {
      "text/plain": [
       "(76255, 76255)"
      ]
     },
     "execution_count": 39,
     "metadata": {},
     "output_type": "execute_result"
    }
   ],
   "source": [
    "len(trip_speeds2), len(trip_speeds)"
   ]
  },
  {
   "cell_type": "code",
   "execution_count": 40,
   "id": "aa6ebec0-a3bc-4a88-8728-e963cb517c6d",
   "metadata": {},
   "outputs": [
    {
     "data": {
      "text/plain": [
       "_merge    \n",
       "left_only     67113\n",
       "both           9142\n",
       "right_only       98\n",
       "dtype: int64"
      ]
     },
     "execution_count": 40,
     "metadata": {},
     "output_type": "execute_result"
    }
   ],
   "source": [
    "# HOW are there some that are right only??\n",
    "pd.merge(\n",
    "    trip_speeds2, crosswalk, on=[\"trip_instance_key\"], how=\"outer\", indicator=True\n",
    ")[[\"_merge\"]].value_counts()"
   ]
  },
  {
   "cell_type": "code",
   "execution_count": 41,
   "id": "3d643fb1-c33a-4af8-ad4b-9952faef70a1",
   "metadata": {},
   "outputs": [],
   "source": [
    "trip_speeds2 = pd.merge(trip_speeds2, crosswalk, on=[\"trip_instance_key\"], how=\"outer\")"
   ]
  },
  {
   "cell_type": "code",
   "execution_count": 42,
   "id": "c469de8d-2e39-4e6d-a895-f507d9fcc01e",
   "metadata": {},
   "outputs": [
    {
     "data": {
      "text/plain": [
       "(76353, 76255)"
      ]
     },
     "execution_count": 42,
     "metadata": {},
     "output_type": "execute_result"
    }
   ],
   "source": [
    "len(trip_speeds2), len(trip_speeds)"
   ]
  },
  {
   "cell_type": "code",
   "execution_count": 43,
   "id": "91642f4f-8eb4-465f-abfd-223ab4cf8d1e",
   "metadata": {},
   "outputs": [
    {
     "data": {
      "text/html": [
       "<div>\n",
       "<style scoped>\n",
       "    .dataframe tbody tr th:only-of-type {\n",
       "        vertical-align: middle;\n",
       "    }\n",
       "\n",
       "    .dataframe tbody tr th {\n",
       "        vertical-align: top;\n",
       "    }\n",
       "\n",
       "    .dataframe thead th {\n",
       "        text-align: right;\n",
       "    }\n",
       "</style>\n",
       "<table border=\"1\" class=\"dataframe\">\n",
       "  <thead>\n",
       "    <tr style=\"text-align: right;\">\n",
       "      <th></th>\n",
       "      <th>vp_idx</th>\n",
       "      <th>location_timestamp_local</th>\n",
       "      <th>trip_instance_key</th>\n",
       "      <th>gtfs_dataset_key</th>\n",
       "    </tr>\n",
       "  </thead>\n",
       "  <tbody>\n",
       "    <tr>\n",
       "      <th>11595213</th>\n",
       "      <td>11595213</td>\n",
       "      <td>2023-10-11 10:57:35</td>\n",
       "      <td>df819485ae9b6dcc8e74579480eeed57</td>\n",
       "      <td>c0e3039da063db95ebabd3fe4ee611a4</td>\n",
       "    </tr>\n",
       "  </tbody>\n",
       "</table>\n",
       "</div>"
      ],
      "text/plain": [
       "            vp_idx location_timestamp_local                 trip_instance_key  \\\n",
       "11595213  11595213      2023-10-11 10:57:35  df819485ae9b6dcc8e74579480eeed57   \n",
       "\n",
       "                          gtfs_dataset_key  \n",
       "11595213  c0e3039da063db95ebabd3fe4ee611a4  "
      ]
     },
     "execution_count": 43,
     "metadata": {},
     "output_type": "execute_result"
    }
   ],
   "source": [
    "vp_filtered.sample()"
   ]
  },
  {
   "cell_type": "code",
   "execution_count": 44,
   "id": "045c4869-8a6c-4d84-b0e3-11644cdec689",
   "metadata": {},
   "outputs": [],
   "source": [
    "trip_speeds2_muni = trip_speeds2.loc[\n",
    "    trip_speeds2.gtfs_dataset_key == \"c0e3039da063db95ebabd3fe4ee611a4\"\n",
    "]"
   ]
  },
  {
   "cell_type": "code",
   "execution_count": 45,
   "id": "5288e4f6-7d2c-449a-a38a-6e5f9b99dab7",
   "metadata": {},
   "outputs": [
    {
     "data": {
      "text/plain": [
       "(9240, 8)"
      ]
     },
     "execution_count": 45,
     "metadata": {},
     "output_type": "execute_result"
    }
   ],
   "source": [
    "trip_speeds2_muni.shape"
   ]
  },
  {
   "cell_type": "code",
   "execution_count": 46,
   "id": "5cfaca6c-a827-47b8-833e-0c7effecc678",
   "metadata": {},
   "outputs": [
    {
     "data": {
      "text/plain": [
       "9240"
      ]
     },
     "execution_count": 46,
     "metadata": {},
     "output_type": "execute_result"
    }
   ],
   "source": [
    "trip_speeds2_muni.trip_instance_key.nunique()"
   ]
  },
  {
   "cell_type": "code",
   "execution_count": 47,
   "id": "8922444c-b012-4f23-a77d-ee36801e75de",
   "metadata": {},
   "outputs": [],
   "source": [
    "# trip_speeds_all  = pd.read_parquet(f\"{SEGMENT_GCS}trip_summary/trip_speeds_{analysis_date}.parquet\",)"
   ]
  },
  {
   "cell_type": "code",
   "execution_count": 48,
   "id": "82ca8eb9-a117-4c15-af62-ce20f6009251",
   "metadata": {},
   "outputs": [],
   "source": [
    "# https://github.com/cal-itp/data-analyses/blob/main/rt_segment_speeds/scripts/avg_speeds_by_segment.py#L18C1-L48C17\n",
    "def calculate_avg_speeds(df: pd.DataFrame, group_cols: list) -> pd.DataFrame:\n",
    "    \"\"\"\n",
    "    Calculate the median, 20th, and 80th percentile speeds\n",
    "    by groups.\n",
    "    \"\"\"\n",
    "    # pd.groupby and pd.quantile is so slow\n",
    "    # create our own list of speeds and use np\n",
    "    df2 = (\n",
    "        df.groupby(group_cols, observed=True, group_keys=False)\n",
    "        .agg({\"speed_mph\": lambda x: sorted(list(x))})\n",
    "        .reset_index()\n",
    "        .rename(columns={\"speed_mph\": \"speed_mph_list\"})\n",
    "    )\n",
    "\n",
    "    df2 = df2.assign(\n",
    "        p50_mph=df2.apply(lambda x: np.percentile(x.speed_mph_list, 0.5), axis=1),\n",
    "        n_trips=df2.apply(lambda x: len(x.speed_mph_list), axis=1).astype(\"int\"),\n",
    "        p20_mph=df2.apply(lambda x: np.percentile(x.speed_mph_list, 0.2), axis=1),\n",
    "        p80_mph=df2.apply(lambda x: np.percentile(x.speed_mph_list, 0.8), axis=1),\n",
    "    )\n",
    "\n",
    "    stats = df2.drop(columns=\"speed_mph_list\")\n",
    "\n",
    "    # Clean up for map\n",
    "    speed_cols = [c for c in stats.columns if \"_mph\" in c]\n",
    "    stats[speed_cols] = stats[speed_cols].round(2)\n",
    "\n",
    "    return stats"
   ]
  },
  {
   "cell_type": "code",
   "execution_count": 49,
   "id": "e35ba5ef-3ce8-4d49-90da-ef6abecefbfe",
   "metadata": {},
   "outputs": [],
   "source": [
    "peak = calculate_avg_speeds(\n",
    "    trip_speeds2_muni[trip_speeds2_muni.time_of_day.isin([\"AM Peak\", \"PM Peak\"])],\n",
    "    [\"gtfs_dataset_key\", \"route_name_used\", \"route_id\"],\n",
    ")"
   ]
  },
  {
   "cell_type": "code",
   "execution_count": 50,
   "id": "1fb33c64-ff6d-407a-90c6-9683270fa31d",
   "metadata": {},
   "outputs": [],
   "source": [
    "peak2 = calculate_avg_speeds(\n",
    "    trip_speeds2_muni[trip_speeds2_muni.time_of_day.isin([\"AM Peak\", \"PM Peak\"])],\n",
    "    [\"trip_instance_key\", \"route_name_used\", \"route_id\"],\n",
    ")"
   ]
  },
  {
   "cell_type": "code",
   "execution_count": 51,
   "id": "50d72ff8-8d23-4ebd-8219-3c85fe1d244f",
   "metadata": {
    "scrolled": true,
    "tags": []
   },
   "outputs": [],
   "source": [
    "all_day = calculate_avg_speeds(\n",
    "    trip_speeds2_muni,\n",
    "    [\"gtfs_dataset_key\", \"route_name_used\", \"route_id\"],\n",
    ")"
   ]
  },
  {
   "cell_type": "code",
   "execution_count": 219,
   "id": "3519cb46-60b5-4ae0-bdf1-d46ca25ff30b",
   "metadata": {},
   "outputs": [
    {
     "data": {
      "text/plain": [
       "(9240, 8)"
      ]
     },
     "execution_count": 219,
     "metadata": {},
     "output_type": "execute_result"
    }
   ],
   "source": [
    "trip_speeds2_muni.shape"
   ]
  },
  {
   "cell_type": "code",
   "execution_count": 52,
   "id": "2049bbfb-be5d-47b4-bf7d-9985095ed51d",
   "metadata": {},
   "outputs": [
    {
     "data": {
      "text/html": [
       "<div>\n",
       "<style scoped>\n",
       "    .dataframe tbody tr th:only-of-type {\n",
       "        vertical-align: middle;\n",
       "    }\n",
       "\n",
       "    .dataframe tbody tr th {\n",
       "        vertical-align: top;\n",
       "    }\n",
       "\n",
       "    .dataframe thead th {\n",
       "        text-align: right;\n",
       "    }\n",
       "</style>\n",
       "<table border=\"1\" class=\"dataframe\">\n",
       "  <thead>\n",
       "    <tr style=\"text-align: right;\">\n",
       "      <th></th>\n",
       "      <th>gtfs_dataset_key</th>\n",
       "      <th>route_name_used</th>\n",
       "      <th>route_id</th>\n",
       "      <th>p50_mph</th>\n",
       "      <th>n_trips</th>\n",
       "      <th>p20_mph</th>\n",
       "      <th>p80_mph</th>\n",
       "    </tr>\n",
       "  </thead>\n",
       "  <tbody>\n",
       "    <tr>\n",
       "      <th>9</th>\n",
       "      <td>c0e3039da063db95ebabd3fe4ee611a4</td>\n",
       "      <td>5am-10pm daily</td>\n",
       "      <td>14R</td>\n",
       "      <td>3.46</td>\n",
       "      <td>261</td>\n",
       "      <td>3.01</td>\n",
       "      <td>3.48</td>\n",
       "    </tr>\n",
       "  </tbody>\n",
       "</table>\n",
       "</div>"
      ],
      "text/plain": [
       "                   gtfs_dataset_key route_name_used route_id  p50_mph  \\\n",
       "9  c0e3039da063db95ebabd3fe4ee611a4  5am-10pm daily      14R     3.46   \n",
       "\n",
       "   n_trips  p20_mph  p80_mph  \n",
       "9      261     3.01     3.48  "
      ]
     },
     "execution_count": 52,
     "metadata": {},
     "output_type": "execute_result"
    }
   ],
   "source": [
    "all_day.loc[(all_day.route_name_used == \"5am-10pm daily\") & (all_day.route_id == \"14R\")]"
   ]
  },
  {
   "cell_type": "code",
   "execution_count": 53,
   "id": "345472d1-39dd-4f89-bf3b-04dc826472b0",
   "metadata": {},
   "outputs": [],
   "source": [
    "stats = pd.concat(\n",
    "    [all_day.assign(time_of_day=\"all_day\"), peak.assign(time_of_day=\"peak\")], axis=0\n",
    ")"
   ]
  },
  {
   "cell_type": "code",
   "execution_count": 54,
   "id": "d6c74631-6e7d-43d2-ad0f-5c95f13c8aae",
   "metadata": {},
   "outputs": [
    {
     "data": {
      "text/html": [
       "<div>\n",
       "<style scoped>\n",
       "    .dataframe tbody tr th:only-of-type {\n",
       "        vertical-align: middle;\n",
       "    }\n",
       "\n",
       "    .dataframe tbody tr th {\n",
       "        vertical-align: top;\n",
       "    }\n",
       "\n",
       "    .dataframe thead th {\n",
       "        text-align: right;\n",
       "    }\n",
       "</style>\n",
       "<table border=\"1\" class=\"dataframe\">\n",
       "  <thead>\n",
       "    <tr style=\"text-align: right;\">\n",
       "      <th></th>\n",
       "      <th>gtfs_dataset_key</th>\n",
       "      <th>route_name_used</th>\n",
       "      <th>route_id</th>\n",
       "      <th>p50_mph</th>\n",
       "      <th>n_trips</th>\n",
       "      <th>p20_mph</th>\n",
       "      <th>p80_mph</th>\n",
       "      <th>time_of_day</th>\n",
       "    </tr>\n",
       "  </thead>\n",
       "  <tbody>\n",
       "    <tr>\n",
       "      <th>30</th>\n",
       "      <td>c0e3039da063db95ebabd3fe4ee611a4</td>\n",
       "      <td>6:30am-7pm daily</td>\n",
       "      <td>2</td>\n",
       "      <td>1.99</td>\n",
       "      <td>39</td>\n",
       "      <td>1.97</td>\n",
       "      <td>2.00</td>\n",
       "      <td>peak</td>\n",
       "    </tr>\n",
       "  </tbody>\n",
       "</table>\n",
       "</div>"
      ],
      "text/plain": [
       "                    gtfs_dataset_key   route_name_used route_id  p50_mph  \\\n",
       "30  c0e3039da063db95ebabd3fe4ee611a4  6:30am-7pm daily        2     1.99   \n",
       "\n",
       "    n_trips  p20_mph  p80_mph time_of_day  \n",
       "30       39     1.97     2.00        peak  "
      ]
     },
     "execution_count": 54,
     "metadata": {},
     "output_type": "execute_result"
    }
   ],
   "source": [
    "stats.sample()"
   ]
  },
  {
   "cell_type": "code",
   "execution_count": 223,
   "id": "68ce001a-56b7-49b4-825d-7bbf3494a0b8",
   "metadata": {},
   "outputs": [
    {
     "data": {
      "text/html": [
       "<div>\n",
       "<style scoped>\n",
       "    .dataframe tbody tr th:only-of-type {\n",
       "        vertical-align: middle;\n",
       "    }\n",
       "\n",
       "    .dataframe tbody tr th {\n",
       "        vertical-align: top;\n",
       "    }\n",
       "\n",
       "    .dataframe thead th {\n",
       "        text-align: right;\n",
       "    }\n",
       "</style>\n",
       "<table border=\"1\" class=\"dataframe\">\n",
       "  <thead>\n",
       "    <tr style=\"text-align: right;\">\n",
       "      <th></th>\n",
       "      <th>trip_instance_key</th>\n",
       "      <th>speed_mph</th>\n",
       "      <th>route_id</th>\n",
       "      <th>time_of_day</th>\n",
       "      <th>service_minutes</th>\n",
       "      <th>direction_id</th>\n",
       "      <th>route_name_used</th>\n",
       "      <th>gtfs_dataset_key</th>\n",
       "    </tr>\n",
       "  </thead>\n",
       "  <tbody>\n",
       "    <tr>\n",
       "      <th>69795</th>\n",
       "      <td>eaadaeebd44abcf317cbc098314a4b13</td>\n",
       "      <td>5.83</td>\n",
       "      <td>67</td>\n",
       "      <td>PM Peak</td>\n",
       "      <td>17.00</td>\n",
       "      <td>0</td>\n",
       "      <td>Weekdays 5am-10pm Weekends 6am-10pm</td>\n",
       "      <td>c0e3039da063db95ebabd3fe4ee611a4</td>\n",
       "    </tr>\n",
       "  </tbody>\n",
       "</table>\n",
       "</div>"
      ],
      "text/plain": [
       "                      trip_instance_key  speed_mph route_id time_of_day  \\\n",
       "69795  eaadaeebd44abcf317cbc098314a4b13       5.83       67     PM Peak   \n",
       "\n",
       "       service_minutes  direction_id                      route_name_used  \\\n",
       "69795            17.00             0  Weekdays 5am-10pm Weekends 6am-10pm   \n",
       "\n",
       "                       gtfs_dataset_key  \n",
       "69795  c0e3039da063db95ebabd3fe4ee611a4  "
      ]
     },
     "execution_count": 223,
     "metadata": {},
     "output_type": "execute_result"
    }
   ],
   "source": [
    "trip_speeds2_muni.sample()"
   ]
  },
  {
   "cell_type": "code",
   "execution_count": 222,
   "id": "8575e22a-ce46-445d-a3df-f2b7cacb7124",
   "metadata": {},
   "outputs": [
    {
     "data": {
      "text/plain": [
       "Index(['trip_instance_key', 'speed_mph', 'route_id', 'time_of_day',\n",
       "       'service_minutes', 'direction_id', 'route_name_used',\n",
       "       'gtfs_dataset_key'],\n",
       "      dtype='object')"
      ]
     },
     "execution_count": 222,
     "metadata": {},
     "output_type": "execute_result"
    }
   ],
   "source": [
    "trip_speeds2_muni.columns"
   ]
  },
  {
   "cell_type": "code",
   "execution_count": 221,
   "id": "dc7cf959-c1d2-4d3d-901f-4b8a4cfa18a3",
   "metadata": {},
   "outputs": [
    {
     "data": {
      "text/plain": [
       "Index(['trip_instance_key', 'speed_mph', 'route_id', 'time_of_day',\n",
       "       'service_minutes', 'direction_id', 'route_name_used',\n",
       "       'gtfs_dataset_key'],\n",
       "      dtype='object')"
      ]
     },
     "execution_count": 221,
     "metadata": {},
     "output_type": "execute_result"
    }
   ],
   "source": [
    "trip_speeds2_muni.columns"
   ]
  },
  {
   "cell_type": "code",
   "execution_count": 55,
   "id": "21b2ea68-20ee-4d71-9857-f9ff4ae65942",
   "metadata": {},
   "outputs": [],
   "source": [
    "stats2 = pd.merge(\n",
    "    stats,\n",
    "    trip_speeds2_muni.drop(columns=[\"time_of_day\"]),\n",
    "    on=[\"gtfs_dataset_key\", \"route_id\", \"route_name_used\"],\n",
    ")"
   ]
  },
  {
   "cell_type": "code",
   "execution_count": 56,
   "id": "bd95dad7-1a12-402d-b603-a7b95d1e47c7",
   "metadata": {},
   "outputs": [
    {
     "data": {
      "text/html": [
       "<div>\n",
       "<style scoped>\n",
       "    .dataframe tbody tr th:only-of-type {\n",
       "        vertical-align: middle;\n",
       "    }\n",
       "\n",
       "    .dataframe tbody tr th {\n",
       "        vertical-align: top;\n",
       "    }\n",
       "\n",
       "    .dataframe thead th {\n",
       "        text-align: right;\n",
       "    }\n",
       "</style>\n",
       "<table border=\"1\" class=\"dataframe\">\n",
       "  <thead>\n",
       "    <tr style=\"text-align: right;\">\n",
       "      <th></th>\n",
       "      <th>speed_mph</th>\n",
       "    </tr>\n",
       "  </thead>\n",
       "  <tbody>\n",
       "    <tr>\n",
       "      <th>count</th>\n",
       "      <td>347.00</td>\n",
       "    </tr>\n",
       "    <tr>\n",
       "      <th>mean</th>\n",
       "      <td>5.55</td>\n",
       "    </tr>\n",
       "    <tr>\n",
       "      <th>std</th>\n",
       "      <td>2.04</td>\n",
       "    </tr>\n",
       "    <tr>\n",
       "      <th>min</th>\n",
       "      <td>0.15</td>\n",
       "    </tr>\n",
       "    <tr>\n",
       "      <th>25%</th>\n",
       "      <td>3.72</td>\n",
       "    </tr>\n",
       "    <tr>\n",
       "      <th>50%</th>\n",
       "      <td>5.95</td>\n",
       "    </tr>\n",
       "    <tr>\n",
       "      <th>75%</th>\n",
       "      <td>6.85</td>\n",
       "    </tr>\n",
       "    <tr>\n",
       "      <th>max</th>\n",
       "      <td>15.97</td>\n",
       "    </tr>\n",
       "  </tbody>\n",
       "</table>\n",
       "</div>"
      ],
      "text/plain": [
       "       speed_mph\n",
       "count     347.00\n",
       "mean        5.55\n",
       "std         2.04\n",
       "min         0.15\n",
       "25%         3.72\n",
       "50%         5.95\n",
       "75%         6.85\n",
       "max        15.97"
      ]
     },
     "execution_count": 56,
     "metadata": {},
     "output_type": "execute_result"
    }
   ],
   "source": [
    "stats2.loc[(stats2.route_id == \"49\") & (stats2.time_of_day == \"peak\")][\n",
    "    [\"speed_mph\"]\n",
    "].describe()"
   ]
  },
  {
   "cell_type": "code",
   "execution_count": 57,
   "id": "ec15fb33-c108-4a62-94ca-06cde75a1d7d",
   "metadata": {
    "scrolled": true,
    "tags": []
   },
   "outputs": [],
   "source": [
    "# stats2.loc[(stats2.route_id == \"5R\") & (stats2.time_of_day != \"all_day\")]"
   ]
  },
  {
   "cell_type": "code",
   "execution_count": 58,
   "id": "41e1f98d-5f7a-4c1f-9b73-d5fc3d59c163",
   "metadata": {},
   "outputs": [
    {
     "data": {
      "text/plain": [
       "9142"
      ]
     },
     "execution_count": 58,
     "metadata": {},
     "output_type": "execute_result"
    }
   ],
   "source": [
    "stats2.trip_instance_key.nunique()"
   ]
  },
  {
   "cell_type": "code",
   "execution_count": 218,
   "id": "fb738124-ff73-42a1-879c-89e6f4036e2b",
   "metadata": {},
   "outputs": [
    {
     "data": {
      "text/plain": [
       "(18145, 12)"
      ]
     },
     "execution_count": 218,
     "metadata": {},
     "output_type": "execute_result"
    }
   ],
   "source": [
    "stats2.shape"
   ]
  },
  {
   "cell_type": "code",
   "execution_count": 59,
   "id": "05941ed7-6fdb-4f2b-af7f-efa4a385d177",
   "metadata": {},
   "outputs": [
    {
     "data": {
      "text/plain": [
       "Index(['gtfs_dataset_key', 'route_name_used', 'route_id', 'p50_mph', 'n_trips',\n",
       "       'p20_mph', 'p80_mph', 'time_of_day', 'trip_instance_key', 'speed_mph',\n",
       "       'service_minutes', 'direction_id'],\n",
       "      dtype='object')"
      ]
     },
     "execution_count": 59,
     "metadata": {},
     "output_type": "execute_result"
    }
   ],
   "source": [
    "stats2.columns"
   ]
  },
  {
   "cell_type": "code",
   "execution_count": 60,
   "id": "ddd3da96-0faa-45d1-9687-7e626c4107f7",
   "metadata": {},
   "outputs": [
    {
     "data": {
      "text/plain": [
       "Index(['trip_instance_key', 'atleast2_trip_updates', 'total_trip_time',\n",
       "       'pct_with_2_pings_per_min', 'avg_pings_per_5_min',\n",
       "       'total_minutes_w_gtfs'],\n",
       "      dtype='object')"
      ]
     },
     "execution_count": 60,
     "metadata": {},
     "output_type": "execute_result"
    }
   ],
   "source": [
    "update_completeness_df.columns"
   ]
  },
  {
   "cell_type": "markdown",
   "id": "69d4639b-a9e9-44d0-8398-3aca1a0a11ff",
   "metadata": {},
   "source": [
    "## Outer Join\n",
    "* Add scheduled trips:\n",
    "\n",
    "    * How to use map partitions\n",
    "        * https://github.com/cal-itp/data-analyses/blob/main/rt_segment_speeds/scripts/shapely_project_vp.py#L61\n",
    "    * https://github.com/cal-itp/data-analyses/blob/main/rt_segment_speeds/scripts/avg_speeds_by_segment.py\n",
    "    * https://github.com/cal-itp/data-analyses/blob/main/rt_segment_speeds/scripts/config.yml"
   ]
  },
  {
   "cell_type": "code",
   "execution_count": 212,
   "id": "503f963a-1ace-48d4-9040-4d6144f5a57e",
   "metadata": {},
   "outputs": [
    {
     "data": {
      "text/plain": [
       "(9240, 6)"
      ]
     },
     "execution_count": 212,
     "metadata": {},
     "output_type": "execute_result"
    }
   ],
   "source": [
    "update_completeness_df.shape"
   ]
  },
  {
   "cell_type": "code",
   "execution_count": 213,
   "id": "ec69af8b-b1e1-4c41-a68b-4d2c44ec00a1",
   "metadata": {},
   "outputs": [
    {
     "data": {
      "text/plain": [
       "(9240, 4)"
      ]
     },
     "execution_count": 213,
     "metadata": {},
     "output_type": "execute_result"
    }
   ],
   "source": [
    "muni.shape"
   ]
  },
  {
   "cell_type": "code",
   "execution_count": 214,
   "id": "f5123bd4-06fc-4f34-8d01-223d70b16008",
   "metadata": {},
   "outputs": [],
   "source": [
    "# Inner merge for now b/c only SF Muni\n",
    "m1 = muni.merge(update_completeness_df, on=\"trip_instance_key\", how=\"outer\")"
   ]
  },
  {
   "cell_type": "markdown",
   "id": "bea51126-981b-4896-95ec-08491db443d5",
   "metadata": {},
   "source": [
    "#### TO DO: stats2 merges to 18,000 rows from 9000 because of change in peak...find a way to get it back to normal"
   ]
  },
  {
   "cell_type": "code",
   "execution_count": 215,
   "id": "c1f10366-e07b-4aeb-87e7-62114113028f",
   "metadata": {},
   "outputs": [],
   "source": [
    "test = m1.merge(stats2, on = \"trip_instance_key\", how = \"inner\")"
   ]
  },
  {
   "cell_type": "code",
   "execution_count": 216,
   "id": "31531fc4-afc0-48ff-a56e-4fec5110f259",
   "metadata": {},
   "outputs": [
    {
     "data": {
      "text/plain": [
       "(18145, 20)"
      ]
     },
     "execution_count": 216,
     "metadata": {},
     "output_type": "execute_result"
    }
   ],
   "source": [
    "test.shape"
   ]
  },
  {
   "cell_type": "code",
   "execution_count": 210,
   "id": "1177264e-2da4-4047-896e-a3b91c1e87e7",
   "metadata": {},
   "outputs": [],
   "source": [
    "m1 = m1.drop(columns = ['gtfs_dataset_key'])"
   ]
  },
  {
   "cell_type": "code",
   "execution_count": 211,
   "id": "517493d4-8ced-4cde-88f4-fac76df7ef5a",
   "metadata": {},
   "outputs": [
    {
     "data": {
      "text/plain": [
       "(18145, 19)"
      ]
     },
     "execution_count": 211,
     "metadata": {},
     "output_type": "execute_result"
    }
   ],
   "source": [
    "m1.shape"
   ]
  },
  {
   "cell_type": "markdown",
   "id": "089c2b24-2f0b-4506-b715-ca72583daad0",
   "metadata": {},
   "source": [
    "## More Metrics\n",
    "### Trip Timeliness\n",
    "* A trip that was scheduled to run 46 minutes but took 43 minutes per GTFS is 5% faster\n",
    "* A trip scheduled to run 82 minutes but ran 138 minutes is 70% slower.\n",
    "* Median: a trip is around 35% longer than what it is scheduled to take\n",
    "* Instead of using minutes, which can be arbitrary. A trip that was scheduled for 30 minutes and runs 15 minutes late makes a bigger difference than a trip shceduled for 90 minutes and runs 15 minutes late. Trying to capture this nuance.\n",
    "\n",
    "To think about\n",
    "* A trip can be faster than scheduled, but some of the rows are dramatically faster (above 70%) because it collected only 15 minutes of data when the trip is scheduled for 50 minutes. Obviously the trip can't go that quickly...How to account for this?"
   ]
  },
  {
   "cell_type": "code",
   "execution_count": 105,
   "id": "3aafb239-55df-4d0d-902a-26fabdb847b7",
   "metadata": {},
   "outputs": [],
   "source": [
    "m1[\"trip_timeliness_pct\"] = (m1.total_trip_time / m1.service_minutes - 1) * 100"
   ]
  },
  {
   "cell_type": "code",
   "execution_count": 106,
   "id": "331c7c3b-09cb-4a69-9c28-08951a2f7077",
   "metadata": {},
   "outputs": [],
   "source": [
    "# (74/69 - 1) * 100"
   ]
  },
  {
   "cell_type": "code",
   "execution_count": 107,
   "id": "455caf5d-d5d1-4b79-a459-a0fd61b57e92",
   "metadata": {},
   "outputs": [],
   "source": [
    "m1.trip_timeliness_pct = (m1.trip_timeliness_pct / 5).fillna(0).round().astype(int) * 5"
   ]
  },
  {
   "cell_type": "code",
   "execution_count": 108,
   "id": "695ede69-835c-4d32-ac79-e8dec90ed51a",
   "metadata": {},
   "outputs": [
    {
     "data": {
      "text/plain": [
       "count   18145.00\n",
       "mean       42.31\n",
       "std        55.70\n",
       "min       -75.00\n",
       "25%        15.00\n",
       "50%        35.00\n",
       "75%        55.00\n",
       "max      1350.00\n",
       "Name: trip_timeliness_pct, dtype: float64"
      ]
     },
     "execution_count": 108,
     "metadata": {},
     "output_type": "execute_result"
    }
   ],
   "source": [
    "m1.trip_timeliness_pct.describe()"
   ]
  },
  {
   "cell_type": "code",
   "execution_count": 109,
   "id": "ea6ebd00-a5e0-45cb-9936-c064cbcb0c90",
   "metadata": {},
   "outputs": [
    {
     "data": {
      "text/plain": [
       "(1272, 22)"
      ]
     },
     "execution_count": 109,
     "metadata": {},
     "output_type": "execute_result"
    }
   ],
   "source": [
    "m1.loc[m1.trip_timeliness_pct < 0].shape"
   ]
  },
  {
   "cell_type": "code",
   "execution_count": 111,
   "id": "53f5f895-495c-4686-b892-ae87ff902631",
   "metadata": {},
   "outputs": [
    {
     "data": {
      "text/html": [
       "<div>\n",
       "<style scoped>\n",
       "    .dataframe tbody tr th:only-of-type {\n",
       "        vertical-align: middle;\n",
       "    }\n",
       "\n",
       "    .dataframe tbody tr th {\n",
       "        vertical-align: top;\n",
       "    }\n",
       "\n",
       "    .dataframe thead th {\n",
       "        text-align: right;\n",
       "    }\n",
       "</style>\n",
       "<table border=\"1\" class=\"dataframe\">\n",
       "  <thead>\n",
       "    <tr style=\"text-align: right;\">\n",
       "      <th></th>\n",
       "      <th>trip_instance_key</th>\n",
       "      <th>total_vp</th>\n",
       "      <th>vp_in_shape</th>\n",
       "      <th>total_vp_in_shape_pct</th>\n",
       "      <th>atleast2_trip_updates</th>\n",
       "      <th>total_trip_time</th>\n",
       "      <th>pct_with_2_pings_per_min</th>\n",
       "      <th>avg_pings_per_5_min</th>\n",
       "      <th>total_minutes_w_gtfs</th>\n",
       "      <th>route_name_used</th>\n",
       "      <th>route_id</th>\n",
       "      <th>p50_mph</th>\n",
       "      <th>n_trips</th>\n",
       "      <th>p20_mph</th>\n",
       "      <th>p80_mph</th>\n",
       "      <th>time_of_day</th>\n",
       "      <th>speed_mph</th>\n",
       "      <th>service_minutes</th>\n",
       "      <th>direction_id</th>\n",
       "      <th>trip_timeliness_pct</th>\n",
       "      <th>service_min_vs_total_trip_time</th>\n",
       "      <th>service_vs_total_trip_pct</th>\n",
       "    </tr>\n",
       "  </thead>\n",
       "  <tbody>\n",
       "    <tr>\n",
       "      <th>10456</th>\n",
       "      <td>94ead7250ffa9090c64d818ab1dd7357</td>\n",
       "      <td>33</td>\n",
       "      <td>33</td>\n",
       "      <td>100.00</td>\n",
       "      <td>11</td>\n",
       "      <td>11.00</td>\n",
       "      <td>100.00</td>\n",
       "      <td>1.80</td>\n",
       "      <td>11</td>\n",
       "      <td>9am-7pm daily</td>\n",
       "      <td>39</td>\n",
       "      <td>2.25</td>\n",
       "      <td>30</td>\n",
       "      <td>2.25</td>\n",
       "      <td>2.26</td>\n",
       "      <td>peak</td>\n",
       "      <td>4.85</td>\n",
       "      <td>16.00</td>\n",
       "      <td>1</td>\n",
       "      <td>-30</td>\n",
       "      <td>68.00</td>\n",
       "      <td>68.00</td>\n",
       "    </tr>\n",
       "  </tbody>\n",
       "</table>\n",
       "</div>"
      ],
      "text/plain": [
       "                      trip_instance_key  total_vp  vp_in_shape  \\\n",
       "10456  94ead7250ffa9090c64d818ab1dd7357        33           33   \n",
       "\n",
       "       total_vp_in_shape_pct  atleast2_trip_updates  total_trip_time  \\\n",
       "10456                 100.00                     11            11.00   \n",
       "\n",
       "       pct_with_2_pings_per_min  avg_pings_per_5_min  total_minutes_w_gtfs  \\\n",
       "10456                    100.00                 1.80                    11   \n",
       "\n",
       "      route_name_used route_id  p50_mph  n_trips  p20_mph  p80_mph  \\\n",
       "10456   9am-7pm daily       39     2.25       30     2.25     2.26   \n",
       "\n",
       "      time_of_day  speed_mph  service_minutes  direction_id  \\\n",
       "10456        peak       4.85            16.00             1   \n",
       "\n",
       "       trip_timeliness_pct  service_min_vs_total_trip_time  \\\n",
       "10456                  -30                           68.00   \n",
       "\n",
       "       service_vs_total_trip_pct  \n",
       "10456                      68.00  "
      ]
     },
     "execution_count": 111,
     "metadata": {},
     "output_type": "execute_result"
    }
   ],
   "source": [
    "m1.loc[m1.trip_timeliness_pct  < -10].sample()"
   ]
  },
  {
   "cell_type": "code",
   "execution_count": 112,
   "id": "2d6b71df-80e9-4fbd-8ac2-e1f55ba04929",
   "metadata": {},
   "outputs": [
    {
     "data": {
      "text/html": [
       "<div>\n",
       "<style scoped>\n",
       "    .dataframe tbody tr th:only-of-type {\n",
       "        vertical-align: middle;\n",
       "    }\n",
       "\n",
       "    .dataframe tbody tr th {\n",
       "        vertical-align: top;\n",
       "    }\n",
       "\n",
       "    .dataframe thead th {\n",
       "        text-align: right;\n",
       "    }\n",
       "</style>\n",
       "<table border=\"1\" class=\"dataframe\">\n",
       "  <thead>\n",
       "    <tr style=\"text-align: right;\">\n",
       "      <th></th>\n",
       "      <th>trip_timeliness_pct</th>\n",
       "      <th>total_trip_time</th>\n",
       "      <th>service_minutes</th>\n",
       "    </tr>\n",
       "  </thead>\n",
       "  <tbody>\n",
       "    <tr>\n",
       "      <th>0</th>\n",
       "      <td>-5</td>\n",
       "      <td>43.00</td>\n",
       "      <td>46.00</td>\n",
       "    </tr>\n",
       "    <tr>\n",
       "      <th>1</th>\n",
       "      <td>-5</td>\n",
       "      <td>43.00</td>\n",
       "      <td>46.00</td>\n",
       "    </tr>\n",
       "    <tr>\n",
       "      <th>2</th>\n",
       "      <td>5</td>\n",
       "      <td>52.00</td>\n",
       "      <td>49.00</td>\n",
       "    </tr>\n",
       "    <tr>\n",
       "      <th>3</th>\n",
       "      <td>5</td>\n",
       "      <td>52.00</td>\n",
       "      <td>49.00</td>\n",
       "    </tr>\n",
       "    <tr>\n",
       "      <th>4</th>\n",
       "      <td>70</td>\n",
       "      <td>138.00</td>\n",
       "      <td>82.00</td>\n",
       "    </tr>\n",
       "    <tr>\n",
       "      <th>5</th>\n",
       "      <td>70</td>\n",
       "      <td>138.00</td>\n",
       "      <td>82.00</td>\n",
       "    </tr>\n",
       "    <tr>\n",
       "      <th>6</th>\n",
       "      <td>20</td>\n",
       "      <td>69.00</td>\n",
       "      <td>57.00</td>\n",
       "    </tr>\n",
       "    <tr>\n",
       "      <th>7</th>\n",
       "      <td>20</td>\n",
       "      <td>69.00</td>\n",
       "      <td>57.00</td>\n",
       "    </tr>\n",
       "    <tr>\n",
       "      <th>8</th>\n",
       "      <td>40</td>\n",
       "      <td>76.00</td>\n",
       "      <td>55.00</td>\n",
       "    </tr>\n",
       "    <tr>\n",
       "      <th>9</th>\n",
       "      <td>40</td>\n",
       "      <td>76.00</td>\n",
       "      <td>55.00</td>\n",
       "    </tr>\n",
       "  </tbody>\n",
       "</table>\n",
       "</div>"
      ],
      "text/plain": [
       "   trip_timeliness_pct  total_trip_time  service_minutes\n",
       "0                   -5            43.00            46.00\n",
       "1                   -5            43.00            46.00\n",
       "2                    5            52.00            49.00\n",
       "3                    5            52.00            49.00\n",
       "4                   70           138.00            82.00\n",
       "5                   70           138.00            82.00\n",
       "6                   20            69.00            57.00\n",
       "7                   20            69.00            57.00\n",
       "8                   40            76.00            55.00\n",
       "9                   40            76.00            55.00"
      ]
     },
     "execution_count": 112,
     "metadata": {},
     "output_type": "execute_result"
    }
   ],
   "source": [
    "m1[[\"trip_timeliness_pct\", \"total_trip_time\", \"service_minutes\"]].head(10)"
   ]
  },
  {
   "cell_type": "code",
   "execution_count": 113,
   "id": "f53e0373-1dc0-49c4-8355-e9308ca4a7cc",
   "metadata": {},
   "outputs": [
    {
     "data": {
      "text/plain": [
       "1.6829268292682926"
      ]
     },
     "execution_count": 113,
     "metadata": {},
     "output_type": "execute_result"
    }
   ],
   "source": [
    "138/82"
   ]
  },
  {
   "cell_type": "code",
   "execution_count": 114,
   "id": "81324a69-9927-425c-80a9-a99b54a9974e",
   "metadata": {},
   "outputs": [],
   "source": [
    "# m1.loc[m1.trip_timeliness_pct == 1350]"
   ]
  },
  {
   "cell_type": "markdown",
   "id": "9fa0a0ae-af41-4804-a2ce-226bfd5d2ca0",
   "metadata": {},
   "source": [
    "### Metric: tracking missing minutes of data.\n",
    "* These trips below for the same operator were scheduled to run 40-50 minutes. Their total trip time is 11-16 minutes long. Each minute captured at least 2 pings, so it seems like nothing is going wrong with the GTFS data collection. However, this is not a complete collection of data.\n",
    "* Maybe redo the completeness??"
   ]
  },
  {
   "cell_type": "code",
   "execution_count": 115,
   "id": "6861b2bc-61b2-40fc-bc2a-a17dc3fccb96",
   "metadata": {},
   "outputs": [],
   "source": [
    "m1['service_vs_total_trip_pct'] = (m1.total_trip_time / m1.service_minutes * 100).astype(int)"
   ]
  },
  {
   "cell_type": "code",
   "execution_count": 116,
   "id": "f2a84b87-3fe7-4368-a922-3c4543793d45",
   "metadata": {},
   "outputs": [],
   "source": [
    "# Mask any value above 100 \n",
    "m1.service_vs_total_trip_pct = m1.service_vs_total_trip_pct.mask(m1.service_vs_total_trip_pct > 100).fillna(100)"
   ]
  },
  {
   "cell_type": "code",
   "execution_count": 117,
   "id": "92dfa5e4-71f2-496b-8c7d-cc80a3bb00ad",
   "metadata": {},
   "outputs": [
    {
     "data": {
      "text/plain": [
       "count   18145.00\n",
       "mean       98.98\n",
       "std         4.95\n",
       "min        26.00\n",
       "25%       100.00\n",
       "50%       100.00\n",
       "75%       100.00\n",
       "max       100.00\n",
       "Name: service_vs_total_trip_pct, dtype: float64"
      ]
     },
     "execution_count": 117,
     "metadata": {},
     "output_type": "execute_result"
    }
   ],
   "source": [
    "m1.service_vs_total_trip_pct.describe()"
   ]
  },
  {
   "cell_type": "code",
   "execution_count": 118,
   "id": "3cf0e073-2994-4655-89bf-d6e2efc851fd",
   "metadata": {},
   "outputs": [
    {
     "data": {
      "text/html": [
       "<div>\n",
       "<style scoped>\n",
       "    .dataframe tbody tr th:only-of-type {\n",
       "        vertical-align: middle;\n",
       "    }\n",
       "\n",
       "    .dataframe tbody tr th {\n",
       "        vertical-align: top;\n",
       "    }\n",
       "\n",
       "    .dataframe thead th {\n",
       "        text-align: right;\n",
       "    }\n",
       "</style>\n",
       "<table border=\"1\" class=\"dataframe\">\n",
       "  <thead>\n",
       "    <tr style=\"text-align: right;\">\n",
       "      <th></th>\n",
       "      <th>trip_instance_key</th>\n",
       "      <th>total_vp</th>\n",
       "      <th>vp_in_shape</th>\n",
       "      <th>total_vp_in_shape_pct</th>\n",
       "      <th>atleast2_trip_updates</th>\n",
       "      <th>total_trip_time</th>\n",
       "      <th>pct_with_2_pings_per_min</th>\n",
       "      <th>avg_pings_per_5_min</th>\n",
       "      <th>total_minutes_w_gtfs</th>\n",
       "      <th>route_name_used</th>\n",
       "      <th>route_id</th>\n",
       "      <th>p50_mph</th>\n",
       "      <th>n_trips</th>\n",
       "      <th>p20_mph</th>\n",
       "      <th>p80_mph</th>\n",
       "      <th>time_of_day</th>\n",
       "      <th>speed_mph</th>\n",
       "      <th>service_minutes</th>\n",
       "      <th>direction_id</th>\n",
       "      <th>trip_timeliness_pct</th>\n",
       "      <th>service_min_vs_total_trip_time</th>\n",
       "      <th>service_vs_total_trip_pct</th>\n",
       "    </tr>\n",
       "  </thead>\n",
       "  <tbody>\n",
       "    <tr>\n",
       "      <th>10373</th>\n",
       "      <td>9352e26ef303febc50a799f0a6885a20</td>\n",
       "      <td>40</td>\n",
       "      <td>40</td>\n",
       "      <td>100.00</td>\n",
       "      <td>13</td>\n",
       "      <td>14.00</td>\n",
       "      <td>92.86</td>\n",
       "      <td>2.20</td>\n",
       "      <td>14</td>\n",
       "      <td>7am-10pm daily</td>\n",
       "      <td>F</td>\n",
       "      <td>2.00</td>\n",
       "      <td>141</td>\n",
       "      <td>1.99</td>\n",
       "      <td>2.01</td>\n",
       "      <td>all_day</td>\n",
       "      <td>16.47</td>\n",
       "      <td>52.00</td>\n",
       "      <td>0</td>\n",
       "      <td>-75</td>\n",
       "      <td>26.00</td>\n",
       "      <td>26.00</td>\n",
       "    </tr>\n",
       "    <tr>\n",
       "      <th>10374</th>\n",
       "      <td>9352e26ef303febc50a799f0a6885a20</td>\n",
       "      <td>40</td>\n",
       "      <td>40</td>\n",
       "      <td>100.00</td>\n",
       "      <td>13</td>\n",
       "      <td>14.00</td>\n",
       "      <td>92.86</td>\n",
       "      <td>2.20</td>\n",
       "      <td>14</td>\n",
       "      <td>7am-10pm daily</td>\n",
       "      <td>F</td>\n",
       "      <td>2.06</td>\n",
       "      <td>71</td>\n",
       "      <td>2.04</td>\n",
       "      <td>2.08</td>\n",
       "      <td>peak</td>\n",
       "      <td>16.47</td>\n",
       "      <td>52.00</td>\n",
       "      <td>0</td>\n",
       "      <td>-75</td>\n",
       "      <td>26.00</td>\n",
       "      <td>26.00</td>\n",
       "    </tr>\n",
       "  </tbody>\n",
       "</table>\n",
       "</div>"
      ],
      "text/plain": [
       "                      trip_instance_key  total_vp  vp_in_shape  \\\n",
       "10373  9352e26ef303febc50a799f0a6885a20        40           40   \n",
       "10374  9352e26ef303febc50a799f0a6885a20        40           40   \n",
       "\n",
       "       total_vp_in_shape_pct  atleast2_trip_updates  total_trip_time  \\\n",
       "10373                 100.00                     13            14.00   \n",
       "10374                 100.00                     13            14.00   \n",
       "\n",
       "       pct_with_2_pings_per_min  avg_pings_per_5_min  total_minutes_w_gtfs  \\\n",
       "10373                     92.86                 2.20                    14   \n",
       "10374                     92.86                 2.20                    14   \n",
       "\n",
       "      route_name_used route_id  p50_mph  n_trips  p20_mph  p80_mph  \\\n",
       "10373  7am-10pm daily        F     2.00      141     1.99     2.01   \n",
       "10374  7am-10pm daily        F     2.06       71     2.04     2.08   \n",
       "\n",
       "      time_of_day  speed_mph  service_minutes  direction_id  \\\n",
       "10373     all_day      16.47            52.00             0   \n",
       "10374        peak      16.47            52.00             0   \n",
       "\n",
       "       trip_timeliness_pct  service_min_vs_total_trip_time  \\\n",
       "10373                  -75                           26.00   \n",
       "10374                  -75                           26.00   \n",
       "\n",
       "       service_vs_total_trip_pct  \n",
       "10373                      26.00  \n",
       "10374                      26.00  "
      ]
     },
     "execution_count": 118,
     "metadata": {},
     "output_type": "execute_result"
    }
   ],
   "source": [
    "m1.loc[m1.trip_timeliness_pct == -75]"
   ]
  },
  {
   "cell_type": "code",
   "execution_count": 119,
   "id": "57041815-9307-4475-bcb9-ca90f625d727",
   "metadata": {},
   "outputs": [
    {
     "data": {
      "text/plain": [
       "(1446, 22)"
      ]
     },
     "execution_count": 119,
     "metadata": {},
     "output_type": "execute_result"
    }
   ],
   "source": [
    "m1.loc[m1.service_vs_total_trip_pct != 100].shape"
   ]
  },
  {
   "cell_type": "markdown",
   "id": "1ba228ad-efe5-4e47-94d8-d712a7e179b5",
   "metadata": {},
   "source": [
    "* Figure out a way to distinguish between a trip going faster than scheduled versus missing a lot of GTFS data"
   ]
  },
  {
   "cell_type": "code",
   "execution_count": 120,
   "id": "a5a6c441-f136-4817-af9c-f3e117b9fc6a",
   "metadata": {},
   "outputs": [
    {
     "data": {
      "text/html": [
       "<div>\n",
       "<style scoped>\n",
       "    .dataframe tbody tr th:only-of-type {\n",
       "        vertical-align: middle;\n",
       "    }\n",
       "\n",
       "    .dataframe tbody tr th {\n",
       "        vertical-align: top;\n",
       "    }\n",
       "\n",
       "    .dataframe thead th {\n",
       "        text-align: right;\n",
       "    }\n",
       "</style>\n",
       "<table border=\"1\" class=\"dataframe\">\n",
       "  <thead>\n",
       "    <tr style=\"text-align: right;\">\n",
       "      <th></th>\n",
       "      <th>service_vs_total_trip_pct</th>\n",
       "      <th>total_trip_time</th>\n",
       "      <th>service_minutes</th>\n",
       "      <th>trip_timeliness_pct</th>\n",
       "    </tr>\n",
       "  </thead>\n",
       "  <tbody>\n",
       "    <tr>\n",
       "      <th>0</th>\n",
       "      <td>93.00</td>\n",
       "      <td>43.00</td>\n",
       "      <td>46.00</td>\n",
       "      <td>-5</td>\n",
       "    </tr>\n",
       "    <tr>\n",
       "      <th>1</th>\n",
       "      <td>93.00</td>\n",
       "      <td>43.00</td>\n",
       "      <td>46.00</td>\n",
       "      <td>-5</td>\n",
       "    </tr>\n",
       "    <tr>\n",
       "      <th>60</th>\n",
       "      <td>95.00</td>\n",
       "      <td>64.00</td>\n",
       "      <td>67.00</td>\n",
       "      <td>-5</td>\n",
       "    </tr>\n",
       "    <tr>\n",
       "      <th>61</th>\n",
       "      <td>95.00</td>\n",
       "      <td>64.00</td>\n",
       "      <td>67.00</td>\n",
       "      <td>-5</td>\n",
       "    </tr>\n",
       "    <tr>\n",
       "      <th>70</th>\n",
       "      <td>97.00</td>\n",
       "      <td>40.00</td>\n",
       "      <td>41.00</td>\n",
       "      <td>0</td>\n",
       "    </tr>\n",
       "    <tr>\n",
       "      <th>71</th>\n",
       "      <td>97.00</td>\n",
       "      <td>40.00</td>\n",
       "      <td>41.00</td>\n",
       "      <td>0</td>\n",
       "    </tr>\n",
       "    <tr>\n",
       "      <th>80</th>\n",
       "      <td>72.00</td>\n",
       "      <td>31.00</td>\n",
       "      <td>43.00</td>\n",
       "      <td>-30</td>\n",
       "    </tr>\n",
       "    <tr>\n",
       "      <th>81</th>\n",
       "      <td>72.00</td>\n",
       "      <td>31.00</td>\n",
       "      <td>43.00</td>\n",
       "      <td>-30</td>\n",
       "    </tr>\n",
       "    <tr>\n",
       "      <th>88</th>\n",
       "      <td>94.00</td>\n",
       "      <td>36.00</td>\n",
       "      <td>38.00</td>\n",
       "      <td>-5</td>\n",
       "    </tr>\n",
       "    <tr>\n",
       "      <th>89</th>\n",
       "      <td>94.00</td>\n",
       "      <td>36.00</td>\n",
       "      <td>38.00</td>\n",
       "      <td>-5</td>\n",
       "    </tr>\n",
       "  </tbody>\n",
       "</table>\n",
       "</div>"
      ],
      "text/plain": [
       "    service_vs_total_trip_pct  total_trip_time  service_minutes  \\\n",
       "0                       93.00            43.00            46.00   \n",
       "1                       93.00            43.00            46.00   \n",
       "60                      95.00            64.00            67.00   \n",
       "61                      95.00            64.00            67.00   \n",
       "70                      97.00            40.00            41.00   \n",
       "71                      97.00            40.00            41.00   \n",
       "80                      72.00            31.00            43.00   \n",
       "81                      72.00            31.00            43.00   \n",
       "88                      94.00            36.00            38.00   \n",
       "89                      94.00            36.00            38.00   \n",
       "\n",
       "    trip_timeliness_pct  \n",
       "0                    -5  \n",
       "1                    -5  \n",
       "60                   -5  \n",
       "61                   -5  \n",
       "70                    0  \n",
       "71                    0  \n",
       "80                  -30  \n",
       "81                  -30  \n",
       "88                   -5  \n",
       "89                   -5  "
      ]
     },
     "execution_count": 120,
     "metadata": {},
     "output_type": "execute_result"
    }
   ],
   "source": [
    "m1.loc[m1.service_vs_total_trip_pct != 100][['service_vs_total_trip_pct', 'total_trip_time', 'service_minutes', 'trip_timeliness_pct']].head(10)"
   ]
  },
  {
   "cell_type": "code",
   "execution_count": 122,
   "id": "d91c5afd-0373-44c3-9083-01f6faff6c30",
   "metadata": {},
   "outputs": [
    {
     "data": {
      "text/plain": [
       "(352, 22)"
      ]
     },
     "execution_count": 122,
     "metadata": {},
     "output_type": "execute_result"
    }
   ],
   "source": [
    "m1.loc[m1.service_vs_total_trip_pct < 85].shape"
   ]
  },
  {
   "cell_type": "markdown",
   "id": "dd4cec2c-367c-41ed-a945-97201e9fbe99",
   "metadata": {},
   "source": [
    "#### Idea\n",
    "* If a trip is more than x percent faster than scheduled service minutes..correct gtfs density\n",
    "    * However describe is giving overly \"dramatic\" results, like a trip that ran 14 minutes but scheduled for 18 is flagged \n",
    "    * Using 30% as an arbitrary threshold \n",
    "* Can delete service vs total trip pct since it's the very similar to timeliness??"
   ]
  },
  {
   "cell_type": "code",
   "execution_count": 110,
   "id": "75ed3452-a5e2-4970-83e7-787d6f10b37c",
   "metadata": {},
   "outputs": [
    {
     "data": {
      "text/html": [
       "<div>\n",
       "<style scoped>\n",
       "    .dataframe tbody tr th:only-of-type {\n",
       "        vertical-align: middle;\n",
       "    }\n",
       "\n",
       "    .dataframe tbody tr th {\n",
       "        vertical-align: top;\n",
       "    }\n",
       "\n",
       "    .dataframe thead th {\n",
       "        text-align: right;\n",
       "    }\n",
       "</style>\n",
       "<table border=\"1\" class=\"dataframe\">\n",
       "  <thead>\n",
       "    <tr style=\"text-align: right;\">\n",
       "      <th></th>\n",
       "      <th>trip_timeliness_pct</th>\n",
       "    </tr>\n",
       "  </thead>\n",
       "  <tbody>\n",
       "    <tr>\n",
       "      <th>count</th>\n",
       "      <td>1272.00</td>\n",
       "    </tr>\n",
       "    <tr>\n",
       "      <th>mean</th>\n",
       "      <td>-13.79</td>\n",
       "    </tr>\n",
       "    <tr>\n",
       "      <th>std</th>\n",
       "      <td>12.82</td>\n",
       "    </tr>\n",
       "    <tr>\n",
       "      <th>min</th>\n",
       "      <td>-75.00</td>\n",
       "    </tr>\n",
       "    <tr>\n",
       "      <th>25%</th>\n",
       "      <td>-15.00</td>\n",
       "    </tr>\n",
       "    <tr>\n",
       "      <th>50%</th>\n",
       "      <td>-10.00</td>\n",
       "    </tr>\n",
       "    <tr>\n",
       "      <th>75%</th>\n",
       "      <td>-5.00</td>\n",
       "    </tr>\n",
       "    <tr>\n",
       "      <th>max</th>\n",
       "      <td>-5.00</td>\n",
       "    </tr>\n",
       "  </tbody>\n",
       "</table>\n",
       "</div>"
      ],
      "text/plain": [
       "       trip_timeliness_pct\n",
       "count              1272.00\n",
       "mean                -13.79\n",
       "std                  12.82\n",
       "min                 -75.00\n",
       "25%                 -15.00\n",
       "50%                 -10.00\n",
       "75%                  -5.00\n",
       "max                  -5.00"
      ]
     },
     "execution_count": 110,
     "metadata": {},
     "output_type": "execute_result"
    }
   ],
   "source": [
    "m1.loc[m1.trip_timeliness_pct < 0][['trip_timeliness_pct']].describe()"
   ]
  },
  {
   "cell_type": "code",
   "execution_count": 144,
   "id": "89bfb048-57a3-4e0f-a3fd-1769dd65de96",
   "metadata": {},
   "outputs": [
    {
     "data": {
      "text/plain": [
       "trip_timeliness_pct\n",
       "-5                     529\n",
       "-10                    303\n",
       "-15                    150\n",
       "-20                     78\n",
       "-25                     50\n",
       "-35                     42\n",
       "-30                     42\n",
       "-40                     22\n",
       "-60                     16\n",
       "-55                     10\n",
       "-50                     10\n",
       "-45                      8\n",
       "-70                      6\n",
       "-65                      4\n",
       "-75                      2\n",
       "dtype: int64"
      ]
     },
     "execution_count": 144,
     "metadata": {},
     "output_type": "execute_result"
    }
   ],
   "source": [
    "m1.loc[m1.trip_timeliness_pct < 0][['trip_timeliness_pct']].value_counts()"
   ]
  },
  {
   "cell_type": "code",
   "execution_count": 181,
   "id": "08ada50d-65a4-4e77-a35e-a77525dade80",
   "metadata": {},
   "outputs": [
    {
     "data": {
      "text/html": [
       "<div>\n",
       "<style scoped>\n",
       "    .dataframe tbody tr th:only-of-type {\n",
       "        vertical-align: middle;\n",
       "    }\n",
       "\n",
       "    .dataframe tbody tr th {\n",
       "        vertical-align: top;\n",
       "    }\n",
       "\n",
       "    .dataframe thead th {\n",
       "        text-align: right;\n",
       "    }\n",
       "</style>\n",
       "<table border=\"1\" class=\"dataframe\">\n",
       "  <thead>\n",
       "    <tr style=\"text-align: right;\">\n",
       "      <th></th>\n",
       "      <th>service_vs_total_trip_pct</th>\n",
       "    </tr>\n",
       "  </thead>\n",
       "  <tbody>\n",
       "    <tr>\n",
       "      <th>count</th>\n",
       "      <td>1446.00</td>\n",
       "    </tr>\n",
       "    <tr>\n",
       "      <th>mean</th>\n",
       "      <td>87.26</td>\n",
       "    </tr>\n",
       "    <tr>\n",
       "      <th>std</th>\n",
       "      <td>12.60</td>\n",
       "    </tr>\n",
       "    <tr>\n",
       "      <th>min</th>\n",
       "      <td>26.00</td>\n",
       "    </tr>\n",
       "    <tr>\n",
       "      <th>25%</th>\n",
       "      <td>85.00</td>\n",
       "    </tr>\n",
       "    <tr>\n",
       "      <th>50%</th>\n",
       "      <td>92.00</td>\n",
       "    </tr>\n",
       "    <tr>\n",
       "      <th>75%</th>\n",
       "      <td>95.00</td>\n",
       "    </tr>\n",
       "    <tr>\n",
       "      <th>max</th>\n",
       "      <td>99.00</td>\n",
       "    </tr>\n",
       "  </tbody>\n",
       "</table>\n",
       "</div>"
      ],
      "text/plain": [
       "       service_vs_total_trip_pct\n",
       "count                    1446.00\n",
       "mean                       87.26\n",
       "std                        12.60\n",
       "min                        26.00\n",
       "25%                        85.00\n",
       "50%                        92.00\n",
       "75%                        95.00\n",
       "max                        99.00"
      ]
     },
     "execution_count": 181,
     "metadata": {},
     "output_type": "execute_result"
    }
   ],
   "source": [
    "m1.loc[m1.service_vs_total_trip_pct != 100][['service_vs_total_trip_pct']].describe()"
   ]
  },
  {
   "cell_type": "code",
   "execution_count": null,
   "id": "ca242cc6-49fe-45f5-b462-504be6df769e",
   "metadata": {},
   "outputs": [],
   "source": []
  },
  {
   "cell_type": "code",
   "execution_count": 190,
   "id": "b8a0aaca-5acc-49ab-848f-3311ff9de42e",
   "metadata": {},
   "outputs": [],
   "source": [
    "test1 = m1.loc[(m1.trip_timeliness_pct <= -35)]"
   ]
  },
  {
   "cell_type": "code",
   "execution_count": 191,
   "id": "1ef7917d-8660-4f8f-87d7-89ed7a241ae2",
   "metadata": {},
   "outputs": [
    {
     "data": {
      "text/plain": [
       "(120, 23)"
      ]
     },
     "execution_count": 191,
     "metadata": {},
     "output_type": "execute_result"
    }
   ],
   "source": [
    "test1.shape"
   ]
  },
  {
   "cell_type": "code",
   "execution_count": 192,
   "id": "fbb0de8d-d564-44a8-8a11-1bc6e7a7bdd3",
   "metadata": {},
   "outputs": [],
   "source": [
    "preview = ['total_vp_in_shape_pct',\n",
    "       'total_trip_time', 'pct_with_2_pings_per_min','total_minutes_w_gtfs', 'route_name_used',\n",
    "       'route_id',\n",
    "       'speed_mph', 'service_minutes','trip_timeliness_pct','service_vs_total_trip_pct','pct_trip_captured_by_gtfs']"
   ]
  },
  {
   "cell_type": "code",
   "execution_count": 193,
   "id": "b7b71aef-de77-439d-b83b-59570b1dd100",
   "metadata": {},
   "outputs": [
    {
     "data": {
      "text/plain": [
       "0.6666666666666666"
      ]
     },
     "execution_count": 193,
     "metadata": {},
     "output_type": "execute_result"
    }
   ],
   "source": [
    "16/24"
   ]
  },
  {
   "cell_type": "code",
   "execution_count": 194,
   "id": "991850a0-5498-4746-8b03-ef40149d138a",
   "metadata": {},
   "outputs": [
    {
     "name": "stderr",
     "output_type": "stream",
     "text": [
      "/tmp/ipykernel_731/2636450277.py:1: SettingWithCopyWarning: \n",
      "A value is trying to be set on a copy of a slice from a DataFrame.\n",
      "Try using .loc[row_indexer,col_indexer] = value instead\n",
      "\n",
      "See the caveats in the documentation: https://pandas.pydata.org/pandas-docs/stable/user_guide/indexing.html#returning-a-view-versus-a-copy\n",
      "  test1['pct_trip_captured_by_gtfs'] = (test1.total_minutes_w_gtfs / test1.service_minutes * 100).astype(int)\n"
     ]
    }
   ],
   "source": [
    "test1['pct_trip_captured_by_gtfs'] = (test1.total_minutes_w_gtfs / test1.service_minutes * 100).astype(int)"
   ]
  },
  {
   "cell_type": "code",
   "execution_count": 195,
   "id": "d7f638d0-5cbe-406f-a36e-58093ab607d8",
   "metadata": {},
   "outputs": [
    {
     "data": {
      "text/plain": [
       "Index(['trip_instance_key', 'total_vp', 'vp_in_shape', 'total_vp_in_shape_pct',\n",
       "       'atleast2_trip_updates', 'total_trip_time', 'pct_with_2_pings_per_min',\n",
       "       'avg_pings_per_5_min', 'total_minutes_w_gtfs', 'route_name_used',\n",
       "       'route_id', 'p50_mph', 'n_trips', 'p20_mph', 'p80_mph', 'time_of_day',\n",
       "       'speed_mph', 'service_minutes', 'direction_id', 'trip_timeliness_pct',\n",
       "       'service_min_vs_total_trip_time', 'service_vs_total_trip_pct',\n",
       "       'pct_trip_captured_by_gtfs'],\n",
       "      dtype='object')"
      ]
     },
     "execution_count": 195,
     "metadata": {},
     "output_type": "execute_result"
    }
   ],
   "source": [
    "test1.columns"
   ]
  },
  {
   "cell_type": "markdown",
   "id": "451561bd-7d69-4b1d-90b3-667ad7880e79",
   "metadata": {
    "tags": []
   },
   "source": [
    "test1[preview].sort_values(['trip_timeliness_pct'])"
   ]
  },
  {
   "cell_type": "markdown",
   "id": "8730cd44-0b9a-4618-a446-35611cb0eef3",
   "metadata": {},
   "source": [
    "#### How to apply this to the whole df and account for trips that did go realistically faster than scheduled.\n",
    "* Filter out the trips with missing data\n",
    "* Calculate the rt time vs scheduled time for trips with missing data\n",
    "* Delete those trips out of the original df\n",
    "* Do the same calculation for the remaining trips\n",
    "* Concat everythign together"
   ]
  },
  {
   "cell_type": "code",
   "execution_count": 196,
   "id": "1bc3d851-4ca7-4029-a712-1164dfe1f202",
   "metadata": {},
   "outputs": [],
   "source": [
    "trip_keys_list = list(test1.trip_instance_key.unique())"
   ]
  },
  {
   "cell_type": "code",
   "execution_count": 206,
   "id": "a5417b4d-ba15-49d1-8667-86ce0ebddd31",
   "metadata": {},
   "outputs": [],
   "source": [
    "# Delete out trip keys \n",
    "m2 = m1[~m1.isin(trip_keys_list)]"
   ]
  },
  {
   "cell_type": "code",
   "execution_count": 207,
   "id": "919a729d-8434-41ec-88a9-84bbe27c2044",
   "metadata": {},
   "outputs": [
    {
     "data": {
      "text/plain": [
       "((18145, 23), (18145, 23))"
      ]
     },
     "execution_count": 207,
     "metadata": {},
     "output_type": "execute_result"
    }
   ],
   "source": [
    "m2.shape, m1.shape"
   ]
  },
  {
   "cell_type": "code",
   "execution_count": 198,
   "id": "dfad9b1b-61ae-4d89-b095-3849d85852d5",
   "metadata": {},
   "outputs": [],
   "source": [
    "# Apply to whole df\n",
    "m1['pct_trip_captured_by_gtfs'] = (m1.total_minutes_w_gtfs / m1.service_minutes * 100).astype(int)"
   ]
  },
  {
   "cell_type": "code",
   "execution_count": 199,
   "id": "c1016b4b-a80f-408b-82a5-08fb22ad13b8",
   "metadata": {},
   "outputs": [],
   "source": [
    "# Mask\n",
    "m1.pct_trip_captured_by_gtfs = m1.pct_trip_captured_by_gtfs.mask(m1.pct_trip_captured_by_gtfs > 100).fillna(100)"
   ]
  },
  {
   "cell_type": "code",
   "execution_count": 200,
   "id": "f2f4dda0-e3a2-4a45-9982-0ef1e235e249",
   "metadata": {},
   "outputs": [
    {
     "data": {
      "text/plain": [
       "count   18145.00\n",
       "mean       98.76\n",
       "std         6.05\n",
       "min         5.00\n",
       "25%       100.00\n",
       "50%       100.00\n",
       "75%       100.00\n",
       "max       100.00\n",
       "Name: pct_trip_captured_by_gtfs, dtype: float64"
      ]
     },
     "execution_count": 200,
     "metadata": {},
     "output_type": "execute_result"
    }
   ],
   "source": [
    "m1['pct_trip_captured_by_gtfs'].describe()"
   ]
  },
  {
   "cell_type": "code",
   "execution_count": 201,
   "id": "16298f76-19b2-49b1-8a3c-ec9588db0771",
   "metadata": {},
   "outputs": [
    {
     "data": {
      "text/html": [
       "<div>\n",
       "<style scoped>\n",
       "    .dataframe tbody tr th:only-of-type {\n",
       "        vertical-align: middle;\n",
       "    }\n",
       "\n",
       "    .dataframe tbody tr th {\n",
       "        vertical-align: top;\n",
       "    }\n",
       "\n",
       "    .dataframe thead th {\n",
       "        text-align: right;\n",
       "    }\n",
       "</style>\n",
       "<table border=\"1\" class=\"dataframe\">\n",
       "  <thead>\n",
       "    <tr style=\"text-align: right;\">\n",
       "      <th></th>\n",
       "      <th>total_vp_in_shape_pct</th>\n",
       "      <th>total_trip_time</th>\n",
       "      <th>pct_with_2_pings_per_min</th>\n",
       "      <th>total_minutes_w_gtfs</th>\n",
       "      <th>route_name_used</th>\n",
       "      <th>route_id</th>\n",
       "      <th>speed_mph</th>\n",
       "      <th>service_minutes</th>\n",
       "      <th>trip_timeliness_pct</th>\n",
       "      <th>service_vs_total_trip_pct</th>\n",
       "      <th>pct_trip_captured_by_gtfs</th>\n",
       "    </tr>\n",
       "  </thead>\n",
       "  <tbody>\n",
       "    <tr>\n",
       "      <th>0</th>\n",
       "      <td>100.00</td>\n",
       "      <td>43.00</td>\n",
       "      <td>97.67</td>\n",
       "      <td>43</td>\n",
       "      <td>5am-10pm daily</td>\n",
       "      <td>14R</td>\n",
       "      <td>10.77</td>\n",
       "      <td>46.00</td>\n",
       "      <td>-5</td>\n",
       "      <td>93.00</td>\n",
       "      <td>93.00</td>\n",
       "    </tr>\n",
       "    <tr>\n",
       "      <th>1</th>\n",
       "      <td>100.00</td>\n",
       "      <td>43.00</td>\n",
       "      <td>97.67</td>\n",
       "      <td>43</td>\n",
       "      <td>5am-10pm daily</td>\n",
       "      <td>14R</td>\n",
       "      <td>10.77</td>\n",
       "      <td>46.00</td>\n",
       "      <td>-5</td>\n",
       "      <td>93.00</td>\n",
       "      <td>93.00</td>\n",
       "    </tr>\n",
       "    <tr>\n",
       "      <th>2</th>\n",
       "      <td>92.11</td>\n",
       "      <td>52.00</td>\n",
       "      <td>96.15</td>\n",
       "      <td>52</td>\n",
       "      <td>Weekdays 7am-7pm</td>\n",
       "      <td>5R</td>\n",
       "      <td>4.16</td>\n",
       "      <td>49.00</td>\n",
       "      <td>5</td>\n",
       "      <td>100.00</td>\n",
       "      <td>100.00</td>\n",
       "    </tr>\n",
       "    <tr>\n",
       "      <th>3</th>\n",
       "      <td>92.11</td>\n",
       "      <td>52.00</td>\n",
       "      <td>96.15</td>\n",
       "      <td>52</td>\n",
       "      <td>Weekdays 7am-7pm</td>\n",
       "      <td>5R</td>\n",
       "      <td>4.16</td>\n",
       "      <td>49.00</td>\n",
       "      <td>5</td>\n",
       "      <td>100.00</td>\n",
       "      <td>100.00</td>\n",
       "    </tr>\n",
       "    <tr>\n",
       "      <th>4</th>\n",
       "      <td>76.27</td>\n",
       "      <td>138.00</td>\n",
       "      <td>100.00</td>\n",
       "      <td>138</td>\n",
       "      <td>5am-12 midnight daily</td>\n",
       "      <td>43</td>\n",
       "      <td>3.77</td>\n",
       "      <td>82.00</td>\n",
       "      <td>70</td>\n",
       "      <td>100.00</td>\n",
       "      <td>100.00</td>\n",
       "    </tr>\n",
       "  </tbody>\n",
       "</table>\n",
       "</div>"
      ],
      "text/plain": [
       "   total_vp_in_shape_pct  total_trip_time  pct_with_2_pings_per_min  \\\n",
       "0                 100.00            43.00                     97.67   \n",
       "1                 100.00            43.00                     97.67   \n",
       "2                  92.11            52.00                     96.15   \n",
       "3                  92.11            52.00                     96.15   \n",
       "4                  76.27           138.00                    100.00   \n",
       "\n",
       "   total_minutes_w_gtfs        route_name_used route_id  speed_mph  \\\n",
       "0                    43         5am-10pm daily      14R      10.77   \n",
       "1                    43         5am-10pm daily      14R      10.77   \n",
       "2                    52       Weekdays 7am-7pm       5R       4.16   \n",
       "3                    52       Weekdays 7am-7pm       5R       4.16   \n",
       "4                   138  5am-12 midnight daily       43       3.77   \n",
       "\n",
       "   service_minutes  trip_timeliness_pct  service_vs_total_trip_pct  \\\n",
       "0            46.00                   -5                      93.00   \n",
       "1            46.00                   -5                      93.00   \n",
       "2            49.00                    5                     100.00   \n",
       "3            49.00                    5                     100.00   \n",
       "4            82.00                   70                     100.00   \n",
       "\n",
       "   pct_trip_captured_by_gtfs  \n",
       "0                      93.00  \n",
       "1                      93.00  \n",
       "2                     100.00  \n",
       "3                     100.00  \n",
       "4                     100.00  "
      ]
     },
     "execution_count": 201,
     "metadata": {},
     "output_type": "execute_result"
    }
   ],
   "source": [
    "m1.head()[preview]"
   ]
  },
  {
   "cell_type": "code",
   "execution_count": 202,
   "id": "cfb3a49e-8865-4cb7-91b3-5b3d4fb31b3a",
   "metadata": {},
   "outputs": [
    {
     "data": {
      "text/html": [
       "<div>\n",
       "<style scoped>\n",
       "    .dataframe tbody tr th:only-of-type {\n",
       "        vertical-align: middle;\n",
       "    }\n",
       "\n",
       "    .dataframe tbody tr th {\n",
       "        vertical-align: top;\n",
       "    }\n",
       "\n",
       "    .dataframe thead th {\n",
       "        text-align: right;\n",
       "    }\n",
       "</style>\n",
       "<table border=\"1\" class=\"dataframe\">\n",
       "  <thead>\n",
       "    <tr style=\"text-align: right;\">\n",
       "      <th></th>\n",
       "      <th>total_vp_in_shape_pct</th>\n",
       "      <th>total_trip_time</th>\n",
       "      <th>pct_with_2_pings_per_min</th>\n",
       "      <th>total_minutes_w_gtfs</th>\n",
       "      <th>route_name_used</th>\n",
       "      <th>route_id</th>\n",
       "      <th>speed_mph</th>\n",
       "      <th>service_minutes</th>\n",
       "      <th>trip_timeliness_pct</th>\n",
       "      <th>service_vs_total_trip_pct</th>\n",
       "      <th>pct_trip_captured_by_gtfs</th>\n",
       "    </tr>\n",
       "  </thead>\n",
       "  <tbody>\n",
       "    <tr>\n",
       "      <th>13413</th>\n",
       "      <td>100.00</td>\n",
       "      <td>49.00</td>\n",
       "      <td>2.04</td>\n",
       "      <td>2</td>\n",
       "      <td>5am-12 midnight daily</td>\n",
       "      <td>K</td>\n",
       "      <td>5.09</td>\n",
       "      <td>39.00</td>\n",
       "      <td>25</td>\n",
       "      <td>100.00</td>\n",
       "      <td>5.00</td>\n",
       "    </tr>\n",
       "    <tr>\n",
       "      <th>13414</th>\n",
       "      <td>100.00</td>\n",
       "      <td>49.00</td>\n",
       "      <td>2.04</td>\n",
       "      <td>2</td>\n",
       "      <td>5am-12 midnight daily</td>\n",
       "      <td>K</td>\n",
       "      <td>5.09</td>\n",
       "      <td>39.00</td>\n",
       "      <td>25</td>\n",
       "      <td>100.00</td>\n",
       "      <td>5.00</td>\n",
       "    </tr>\n",
       "  </tbody>\n",
       "</table>\n",
       "</div>"
      ],
      "text/plain": [
       "       total_vp_in_shape_pct  total_trip_time  pct_with_2_pings_per_min  \\\n",
       "13413                 100.00            49.00                      2.04   \n",
       "13414                 100.00            49.00                      2.04   \n",
       "\n",
       "       total_minutes_w_gtfs        route_name_used route_id  speed_mph  \\\n",
       "13413                     2  5am-12 midnight daily        K       5.09   \n",
       "13414                     2  5am-12 midnight daily        K       5.09   \n",
       "\n",
       "       service_minutes  trip_timeliness_pct  service_vs_total_trip_pct  \\\n",
       "13413            39.00                   25                     100.00   \n",
       "13414            39.00                   25                     100.00   \n",
       "\n",
       "       pct_trip_captured_by_gtfs  \n",
       "13413                       5.00  \n",
       "13414                       5.00  "
      ]
     },
     "execution_count": 202,
     "metadata": {},
     "output_type": "execute_result"
    }
   ],
   "source": [
    "m1.loc[m1['pct_trip_captured_by_gtfs'] == 5][preview]"
   ]
  },
  {
   "cell_type": "code",
   "execution_count": 203,
   "id": "7ce1758d-7129-4c5d-90c1-9bff080cb97e",
   "metadata": {},
   "outputs": [
    {
     "data": {
      "text/html": [
       "<div>\n",
       "<style scoped>\n",
       "    .dataframe tbody tr th:only-of-type {\n",
       "        vertical-align: middle;\n",
       "    }\n",
       "\n",
       "    .dataframe tbody tr th {\n",
       "        vertical-align: top;\n",
       "    }\n",
       "\n",
       "    .dataframe thead th {\n",
       "        text-align: right;\n",
       "    }\n",
       "</style>\n",
       "<table border=\"1\" class=\"dataframe\">\n",
       "  <thead>\n",
       "    <tr style=\"text-align: right;\">\n",
       "      <th></th>\n",
       "      <th>total_vp_in_shape_pct</th>\n",
       "      <th>total_trip_time</th>\n",
       "      <th>pct_with_2_pings_per_min</th>\n",
       "      <th>total_minutes_w_gtfs</th>\n",
       "      <th>route_name_used</th>\n",
       "      <th>route_id</th>\n",
       "      <th>speed_mph</th>\n",
       "      <th>service_minutes</th>\n",
       "      <th>trip_timeliness_pct</th>\n",
       "      <th>service_vs_total_trip_pct</th>\n",
       "      <th>pct_trip_captured_by_gtfs</th>\n",
       "    </tr>\n",
       "  </thead>\n",
       "  <tbody>\n",
       "    <tr>\n",
       "      <th>10373</th>\n",
       "      <td>100.00</td>\n",
       "      <td>14.00</td>\n",
       "      <td>92.86</td>\n",
       "      <td>14</td>\n",
       "      <td>7am-10pm daily</td>\n",
       "      <td>F</td>\n",
       "      <td>16.47</td>\n",
       "      <td>52.00</td>\n",
       "      <td>-75</td>\n",
       "      <td>26.00</td>\n",
       "      <td>26.00</td>\n",
       "    </tr>\n",
       "    <tr>\n",
       "      <th>10374</th>\n",
       "      <td>100.00</td>\n",
       "      <td>14.00</td>\n",
       "      <td>92.86</td>\n",
       "      <td>14</td>\n",
       "      <td>7am-10pm daily</td>\n",
       "      <td>F</td>\n",
       "      <td>16.47</td>\n",
       "      <td>52.00</td>\n",
       "      <td>-75</td>\n",
       "      <td>26.00</td>\n",
       "      <td>26.00</td>\n",
       "    </tr>\n",
       "  </tbody>\n",
       "</table>\n",
       "</div>"
      ],
      "text/plain": [
       "       total_vp_in_shape_pct  total_trip_time  pct_with_2_pings_per_min  \\\n",
       "10373                 100.00            14.00                     92.86   \n",
       "10374                 100.00            14.00                     92.86   \n",
       "\n",
       "       total_minutes_w_gtfs route_name_used route_id  speed_mph  \\\n",
       "10373                    14  7am-10pm daily        F      16.47   \n",
       "10374                    14  7am-10pm daily        F      16.47   \n",
       "\n",
       "       service_minutes  trip_timeliness_pct  service_vs_total_trip_pct  \\\n",
       "10373            52.00                  -75                      26.00   \n",
       "10374            52.00                  -75                      26.00   \n",
       "\n",
       "       pct_trip_captured_by_gtfs  \n",
       "10373                      26.00  \n",
       "10374                      26.00  "
      ]
     },
     "execution_count": 203,
     "metadata": {},
     "output_type": "execute_result"
    }
   ],
   "source": [
    "m1.loc[m1['trip_timeliness_pct'] == -75][preview]"
   ]
  },
  {
   "cell_type": "code",
   "execution_count": 204,
   "id": "279dc878-0a05-49ae-a315-42a01f94da44",
   "metadata": {
    "scrolled": true,
    "tags": []
   },
   "outputs": [],
   "source": [
    "# 7;55 to 8:10: 15 minutes\n",
    "# vp_filtered.loc[vp_filtered.trip_instance_key == \"3513c07b09c3da765ff43dd7317a7689\"]"
   ]
  }
 ],
 "metadata": {
  "kernelspec": {
   "display_name": "Python 3 (ipykernel)",
   "language": "python",
   "name": "python3"
  },
  "language_info": {
   "codemirror_mode": {
    "name": "ipython",
    "version": 3
   },
   "file_extension": ".py",
   "mimetype": "text/x-python",
   "name": "python",
   "nbconvert_exporter": "python",
   "pygments_lexer": "ipython3",
   "version": "3.9.13"
  }
 },
 "nbformat": 4,
 "nbformat_minor": 5
}
