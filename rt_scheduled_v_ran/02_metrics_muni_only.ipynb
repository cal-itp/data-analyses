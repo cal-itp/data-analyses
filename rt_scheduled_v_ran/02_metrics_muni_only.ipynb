{
 "cells": [
  {
   "cell_type": "markdown",
   "id": "c410afe6-22d7-4546-817c-fea818954108",
   "metadata": {},
   "source": [
    "# Migrate to VP Usable\n",
    "* https://github.com/cal-itp/data-analyses/issues/936\n",
    "* cd rt_segment_speeds && pip install -r requirements.txt && cd ..\n",
    "    * https://github.com/cal-itp/data-analyses/blob/main/Makefile#L49C2-L49C66\n",
    "    "
   ]
  },
  {
   "cell_type": "code",
   "execution_count": 1,
   "id": "8de007c5-4cdb-4285-9536-0a5f7b75b2de",
   "metadata": {},
   "outputs": [],
   "source": [
    "import datetime\n",
    "import dask.dataframe as dd\n",
    "import dask_geopandas as dg\n",
    "import dask\n",
    "import geopandas as gpd\n",
    "import pandas as pd\n",
    "from scripts import vp_spatial_accuracy\n",
    "from segment_speed_utils import helpers\n",
    "from calitp_data_analysis.geography_utils import WGS84\n",
    "from segment_speed_utils.project_vars import (\n",
    "    PROJECT_CRS,\n",
    "    SEGMENT_GCS,\n",
    "    analysis_date,\n",
    "    GCS_FILE_PATH,\n",
    "    COMPILED_CACHED_VIEWS,\n",
    "    RT_SCHED_GCS,\n",
    "    CONFIG_PATH\n",
    ")\n",
    "\n",
    "# For speeds c2\n",
    "from typing import Literal\n",
    "import numpy as np\n",
    "\n",
    "# for speeds c3\n",
    "# also import numpy \n",
    "from shared_utils.rt_utils import MPH_PER_MPS\n",
    "from calitp_data_analysis import utils\n",
    "from shared_utils import portfolio_utils, schedule_rt_utils\n",
    "from segment_speed_utils import helpers, sched_rt_utils, wrangle_shapes, segment_calcs"
   ]
  },
  {
   "cell_type": "code",
   "execution_count": 2,
   "id": "c5ba79eb-2d4e-4daa-9de6-3ab657ac0a15",
   "metadata": {},
   "outputs": [],
   "source": [
    "pd.options.display.max_columns = 100\n",
    "pd.options.display.float_format = \"{:.2f}\".format\n",
    "pd.set_option(\"display.max_rows\", None)\n",
    "pd.set_option(\"display.max_colwidth\", None)"
   ]
  },
  {
   "cell_type": "code",
   "execution_count": 3,
   "id": "d8c8f895-8b72-413a-8ec2-72e7e0ebf29f",
   "metadata": {},
   "outputs": [],
   "source": [
    "# calitp-analytics-data/data-analyses/rt_segment_speeds/vp_usable_2023-10-11\n",
    "operator = 'Bay Area 511 Muni VehiclePositions'\n",
    "gtfs_key = '7cc0cb1871dfd558f11a2885c145d144'"
   ]
  },
  {
   "cell_type": "markdown",
   "id": "a3863c86-7f53-4755-8444-534a2f11e59c",
   "metadata": {},
   "source": [
    "## Spatial Accuracy\n",
    "* Based on https://github.com/cal-itp/data-analyses/blob/main/rt_scheduled_v_ran/scripts/vp_spatial_accuracy.py\n",
    "### Grab_shape_keys_in_vp\n",
    "#### First time reading `vp_usable`"
   ]
  },
  {
   "cell_type": "code",
   "execution_count": 4,
   "id": "6bd6833a-7eb4-487a-bb3a-e445a2d1941d",
   "metadata": {},
   "outputs": [],
   "source": [
    "def grab_shape_keys_in_vp(analysis_date: str) -> pd.DataFrame:\n",
    "    \"\"\"\n",
    "    Subset raw vp and find unique trip_instance_keys.\n",
    "    Create crosswalk to link trip_instance_key to shape_array_key.\n",
    "    \"\"\"\n",
    "    vp_trip_df  = pd.read_parquet(f\"{SEGMENT_GCS}vp_usable_{analysis_date}\",\n",
    "        filters = [[('gtfs_dataset_name', \"==\", operator),\n",
    "                   ('schedule_gtfs_dataset_key', '==', gtfs_key)]],\n",
    "        columns = ['trip_instance_key'])\n",
    "    \n",
    "    vp_trip_df  = vp_trip_df.drop_duplicates().reset_index(drop = True)\n",
    "    \n",
    "    # Make sure we have a shape geometry too\n",
    "    # otherwise map_partitions will throw error\n",
    "    shapes = pd.read_parquet(\n",
    "        f\"{COMPILED_CACHED_VIEWS}routelines_{analysis_date}.parquet\",\n",
    "        columns = [\"shape_array_key\"],\n",
    "    ).dropna().drop_duplicates()\n",
    "    \n",
    "    trips_with_shape = helpers.import_scheduled_trips(\n",
    "        analysis_date,\n",
    "        columns = [\"trip_instance_key\", \"shape_array_key\"],\n",
    "        get_pandas = True\n",
    "    ).merge(\n",
    "        shapes,\n",
    "        on = \"shape_array_key\",\n",
    "        how = \"inner\"\n",
    "    ).merge(\n",
    "        vp_trip_df,\n",
    "        on = \"trip_instance_key\",\n",
    "        how = \"inner\"\n",
    "    ).drop_duplicates().dropna().reset_index(drop=True)\n",
    "\n",
    "    return trips_with_shape"
   ]
  },
  {
   "cell_type": "code",
   "execution_count": 5,
   "id": "8759e976-ea60-4604-945d-1ec9693b0495",
   "metadata": {},
   "outputs": [],
   "source": [
    "trips_with_shape = grab_shape_keys_in_vp(analysis_date)"
   ]
  },
  {
   "cell_type": "code",
   "execution_count": 6,
   "id": "bbbc85b4-a588-4f20-9822-eb4d5b4b3723",
   "metadata": {},
   "outputs": [
    {
     "data": {
      "text/plain": [
       "(9240, 2)"
      ]
     },
     "execution_count": 6,
     "metadata": {},
     "output_type": "execute_result"
    }
   ],
   "source": [
    "trips_with_shape.shape"
   ]
  },
  {
   "cell_type": "code",
   "execution_count": 7,
   "id": "34f69e0d-68c8-4b8e-8b82-8318672d0f4d",
   "metadata": {},
   "outputs": [
    {
     "data": {
      "text/html": [
       "<div>\n",
       "<style scoped>\n",
       "    .dataframe tbody tr th:only-of-type {\n",
       "        vertical-align: middle;\n",
       "    }\n",
       "\n",
       "    .dataframe tbody tr th {\n",
       "        vertical-align: top;\n",
       "    }\n",
       "\n",
       "    .dataframe thead th {\n",
       "        text-align: right;\n",
       "    }\n",
       "</style>\n",
       "<table border=\"1\" class=\"dataframe\">\n",
       "  <thead>\n",
       "    <tr style=\"text-align: right;\">\n",
       "      <th></th>\n",
       "      <th>trip_instance_key</th>\n",
       "      <th>shape_array_key</th>\n",
       "    </tr>\n",
       "  </thead>\n",
       "  <tbody>\n",
       "    <tr>\n",
       "      <th>0</th>\n",
       "      <td>12de3d260e9fe09fa878cb4cdb2d6898</td>\n",
       "      <td>749b225ca6691f77914e88577dc13e68</td>\n",
       "    </tr>\n",
       "    <tr>\n",
       "      <th>1</th>\n",
       "      <td>934aea5748bce830ffc2fa88dc01402a</td>\n",
       "      <td>749b225ca6691f77914e88577dc13e68</td>\n",
       "    </tr>\n",
       "    <tr>\n",
       "      <th>2</th>\n",
       "      <td>3d06fa8e68e4f38d3ccc7adfabb5c3d9</td>\n",
       "      <td>f1a7410fae06937b7183f6a553707915</td>\n",
       "    </tr>\n",
       "    <tr>\n",
       "      <th>3</th>\n",
       "      <td>34109ad8cfeca83cd459d42c7d51d602</td>\n",
       "      <td>f1a7410fae06937b7183f6a553707915</td>\n",
       "    </tr>\n",
       "    <tr>\n",
       "      <th>4</th>\n",
       "      <td>34acd907ae9d5eb5456d683d2458bbc6</td>\n",
       "      <td>f1a7410fae06937b7183f6a553707915</td>\n",
       "    </tr>\n",
       "  </tbody>\n",
       "</table>\n",
       "</div>"
      ],
      "text/plain": [
       "                  trip_instance_key                   shape_array_key\n",
       "0  12de3d260e9fe09fa878cb4cdb2d6898  749b225ca6691f77914e88577dc13e68\n",
       "1  934aea5748bce830ffc2fa88dc01402a  749b225ca6691f77914e88577dc13e68\n",
       "2  3d06fa8e68e4f38d3ccc7adfabb5c3d9  f1a7410fae06937b7183f6a553707915\n",
       "3  34109ad8cfeca83cd459d42c7d51d602  f1a7410fae06937b7183f6a553707915\n",
       "4  34acd907ae9d5eb5456d683d2458bbc6  f1a7410fae06937b7183f6a553707915"
      ]
     },
     "execution_count": 7,
     "metadata": {},
     "output_type": "execute_result"
    }
   ],
   "source": [
    "trips_with_shape.head()"
   ]
  },
  {
   "cell_type": "markdown",
   "id": "8be73ca3-7ca2-4616-9504-7defe86f3792",
   "metadata": {},
   "source": [
    "### Buffer shapes"
   ]
  },
  {
   "cell_type": "code",
   "execution_count": 8,
   "id": "ca9923a7-914f-43ce-a840-a15d41b43aee",
   "metadata": {},
   "outputs": [],
   "source": [
    "# This is trips_with_shape_geom\n",
    "trips_with_shape_geom =  vp_spatial_accuracy.buffer_shapes(analysis_date, \n",
    "                                trips_with_shape,\n",
    "                                35)"
   ]
  },
  {
   "cell_type": "code",
   "execution_count": 9,
   "id": "caf4dd49-4839-475d-99ff-7765ef5fb20a",
   "metadata": {},
   "outputs": [
    {
     "data": {
      "text/plain": [
       "(9240, 3)"
      ]
     },
     "execution_count": 9,
     "metadata": {},
     "output_type": "execute_result"
    }
   ],
   "source": [
    "trips_with_shape_geom.shape"
   ]
  },
  {
   "cell_type": "markdown",
   "id": "fc115ac6-2042-4565-9ac7-bd961339f8aa",
   "metadata": {},
   "source": [
    "#### Second time reading in the same file, streamline"
   ]
  },
  {
   "cell_type": "code",
   "execution_count": 10,
   "id": "beaddbc2-fd11-4021-bdf0-7eea81835226",
   "metadata": {},
   "outputs": [],
   "source": [
    "vp = dd.read_parquet(f\"{SEGMENT_GCS}vp_usable_{analysis_date}\",\n",
    "        filters = [[('gtfs_dataset_name', \"==\", operator),\n",
    "                   ('schedule_gtfs_dataset_key', '==', gtfs_key)]])"
   ]
  },
  {
   "cell_type": "markdown",
   "id": "384c1e89-0b57-49dd-aaa0-69ea03e25b23",
   "metadata": {},
   "source": [
    "### Full function"
   ]
  },
  {
   "cell_type": "code",
   "execution_count": 11,
   "id": "79fe772c-74db-49e7-b41d-e1daa3f23ee3",
   "metadata": {},
   "outputs": [],
   "source": [
    "def merge_vp_with_shape_and_count(\n",
    "    vp: dd.DataFrame,\n",
    "    trips_with_shape_geom: gpd.GeoDataFrame\n",
    ") -> gpd.GeoDataFrame:\n",
    "    \"\"\"\n",
    "    Merge vp with crosswalk and buffered shapes.\n",
    "    Get vp count totals and vp within shape.\n",
    "    \"\"\"\n",
    "    vp_gdf = gpd.GeoDataFrame(\n",
    "        vp,\n",
    "        geometry = gpd.points_from_xy(vp.x, vp.y),\n",
    "        crs = WGS84\n",
    "    ).to_crs(PROJECT_CRS)\n",
    "    \n",
    "    vp_gdf = vp_gdf.rename(columns = {\n",
    "    0:'gtfs_dataset_name',\n",
    "    1: 'schedule_gtfs_dataset_key', \n",
    "    2:'trip_id',\n",
    "    3:'trip_instance_key',\n",
    "    4: 'location_timestamp', \n",
    "    5: 'location_timestamp_local',\n",
    "    6:'x',\n",
    "    7:'y', \n",
    "    8:'vp_idx', \n",
    "    9:'gtfs_dataset_key', \n",
    "    10:'vp_dir_xnorm', \n",
    "    11:'vp_dir_ynorm',\n",
    "    12:'vp_primary_direction'})\n",
    "    \n",
    "    vp2 = pd.merge(\n",
    "        vp_gdf,\n",
    "        trips_with_shape_geom,\n",
    "        on = \"trip_instance_key\",\n",
    "        how = \"inner\"\n",
    "    ).reset_index(drop=True)\n",
    "    \n",
    "    total_vp = vp_spatial_accuracy.total_vp_counts_by_trip(vp2)\n",
    "    \n",
    "    vp2 = vp2.assign(\n",
    "        is_within = vp2.geometry_x.within(vp2.geometry_y)\n",
    "    ).query('is_within==True')\n",
    "    \n",
    "    vps_in_shape = (vp2.groupby(\"trip_instance_key\", \n",
    "                                observed = True, group_keys = False)\n",
    "                    .agg({\"location_timestamp_local\": \"count\"})\n",
    "                    .reset_index()\n",
    "                    .rename(columns = {\"location_timestamp_local\": \"vp_in_shape\"})\n",
    "                   )\n",
    "        \n",
    "    count_df = pd.merge(\n",
    "        total_vp,\n",
    "        vps_in_shape,\n",
    "        on = \"trip_instance_key\",\n",
    "        how = \"left\"\n",
    "    )\n",
    "    \n",
    "    count_df = count_df.assign(\n",
    "        vp_in_shape = count_df.vp_in_shape.fillna(0).astype(\"int32\"),\n",
    "        total_vp = count_df.total_vp.fillna(0).astype(\"int32\")\n",
    "    )\n",
    "    \n",
    "    return count_df"
   ]
  },
  {
   "cell_type": "code",
   "execution_count": 12,
   "id": "561287f4-8189-441c-881c-1f34fc43e7d5",
   "metadata": {},
   "outputs": [],
   "source": [
    "muni = merge_vp_with_shape_and_count(vp, trips_with_shape_geom)"
   ]
  },
  {
   "cell_type": "code",
   "execution_count": 13,
   "id": "bcaa5da2-21a5-4c87-825a-fa2637ef9b8f",
   "metadata": {},
   "outputs": [
    {
     "data": {
      "text/plain": [
       "count   9240.00\n",
       "mean     161.87\n",
       "std       64.06\n",
       "min        0.00\n",
       "25%      118.00\n",
       "50%      167.00\n",
       "75%      207.00\n",
       "max      481.00\n",
       "Name: vp_in_shape, dtype: float64"
      ]
     },
     "execution_count": 13,
     "metadata": {},
     "output_type": "execute_result"
    }
   ],
   "source": [
    "muni.vp_in_shape.describe()"
   ]
  },
  {
   "cell_type": "code",
   "execution_count": 14,
   "id": "3504f86b-08bd-4a8d-b810-e654dd911c06",
   "metadata": {},
   "outputs": [
    {
     "data": {
      "text/plain": [
       "9240"
      ]
     },
     "execution_count": 14,
     "metadata": {},
     "output_type": "execute_result"
    }
   ],
   "source": [
    "muni.trip_instance_key.nunique()"
   ]
  },
  {
   "cell_type": "markdown",
   "id": "b03b76bf-2ce3-4400-b072-f53c9f942deb",
   "metadata": {},
   "source": [
    "#### Add %?"
   ]
  },
  {
   "cell_type": "code",
   "execution_count": 15,
   "id": "4b0f141c-e583-4bb2-a3a7-f059e27a66fc",
   "metadata": {},
   "outputs": [
    {
     "data": {
      "text/plain": [
       "count   9240.00\n",
       "mean       0.93\n",
       "std        0.14\n",
       "min        0.00\n",
       "25%        0.94\n",
       "50%        1.00\n",
       "75%        1.00\n",
       "max        1.00\n",
       "dtype: float64"
      ]
     },
     "execution_count": 15,
     "metadata": {},
     "output_type": "execute_result"
    }
   ],
   "source": [
    "(muni.vp_in_shape/muni.total_vp).describe()"
   ]
  },
  {
   "cell_type": "code",
   "execution_count": 16,
   "id": "8c0cc4e8-d733-482d-a861-fe9aab76f4f3",
   "metadata": {},
   "outputs": [],
   "source": [
    "muni['total_vp_in_shape_percentage'] = muni.vp_in_shape/muni.total_vp"
   ]
  },
  {
   "cell_type": "code",
   "execution_count": 17,
   "id": "0ca6716e-248c-4702-bcaa-f1dd054f0013",
   "metadata": {},
   "outputs": [
    {
     "data": {
      "text/plain": [
       "count   9240.00\n",
       "mean       0.93\n",
       "std        0.14\n",
       "min        0.00\n",
       "25%        0.94\n",
       "50%        1.00\n",
       "75%        1.00\n",
       "max        1.00\n",
       "Name: total_vp_in_shape_percentage, dtype: float64"
      ]
     },
     "execution_count": 17,
     "metadata": {},
     "output_type": "execute_result"
    }
   ],
   "source": [
    "muni.total_vp_in_shape_percentage.describe()"
   ]
  },
  {
   "cell_type": "markdown",
   "id": "0a306082-dcfc-4a4a-bc3b-5ee90ae9517d",
   "metadata": {},
   "source": [
    "#### Question: We are keeping rows in which 0 vps are in the shape?\n",
    "* Yes\n",
    "* What's happening with these routes? Where are they traveling? In a route that isn't listed in the schedule? Explore further."
   ]
  },
  {
   "cell_type": "code",
   "execution_count": 18,
   "id": "eaa02c27-eda6-47ac-ae18-827f1616d73e",
   "metadata": {},
   "outputs": [],
   "source": [
    "# muni.loc[muni.vp_in_shape == 0]"
   ]
  },
  {
   "cell_type": "code",
   "execution_count": 19,
   "id": "8d2f9f03-6831-4d4b-9d00-5fd1ece00aa9",
   "metadata": {},
   "outputs": [
    {
     "data": {
      "text/html": [
       "<div>\n",
       "<style scoped>\n",
       "    .dataframe tbody tr th:only-of-type {\n",
       "        vertical-align: middle;\n",
       "    }\n",
       "\n",
       "    .dataframe tbody tr th {\n",
       "        vertical-align: top;\n",
       "    }\n",
       "\n",
       "    .dataframe thead th {\n",
       "        text-align: right;\n",
       "    }\n",
       "</style>\n",
       "<table border=\"1\" class=\"dataframe\">\n",
       "  <thead>\n",
       "    <tr style=\"text-align: right;\">\n",
       "      <th></th>\n",
       "      <th>trip_instance_key</th>\n",
       "      <th>total_vp</th>\n",
       "      <th>vp_in_shape</th>\n",
       "      <th>total_vp_in_shape_percentage</th>\n",
       "    </tr>\n",
       "  </thead>\n",
       "  <tbody>\n",
       "    <tr>\n",
       "      <th>6387</th>\n",
       "      <td>b1ec12da4a062fa65fa3524298274bcc</td>\n",
       "      <td>221</td>\n",
       "      <td>146</td>\n",
       "      <td>0.66</td>\n",
       "    </tr>\n",
       "    <tr>\n",
       "      <th>7580</th>\n",
       "      <td>d312a6001a448f716e73136832d1a310</td>\n",
       "      <td>125</td>\n",
       "      <td>125</td>\n",
       "      <td>1.00</td>\n",
       "    </tr>\n",
       "    <tr>\n",
       "      <th>7305</th>\n",
       "      <td>cba1dfac565b284265eeeaa26da5c2d9</td>\n",
       "      <td>169</td>\n",
       "      <td>169</td>\n",
       "      <td>1.00</td>\n",
       "    </tr>\n",
       "    <tr>\n",
       "      <th>7329</th>\n",
       "      <td>cc5308360703a702c6beaa58aaceca1d</td>\n",
       "      <td>225</td>\n",
       "      <td>217</td>\n",
       "      <td>0.96</td>\n",
       "    </tr>\n",
       "    <tr>\n",
       "      <th>3097</th>\n",
       "      <td>57337c021d92235c1f7775e1dc71d402</td>\n",
       "      <td>183</td>\n",
       "      <td>147</td>\n",
       "      <td>0.80</td>\n",
       "    </tr>\n",
       "  </tbody>\n",
       "</table>\n",
       "</div>"
      ],
      "text/plain": [
       "                     trip_instance_key  total_vp  vp_in_shape  \\\n",
       "6387  b1ec12da4a062fa65fa3524298274bcc       221          146   \n",
       "7580  d312a6001a448f716e73136832d1a310       125          125   \n",
       "7305  cba1dfac565b284265eeeaa26da5c2d9       169          169   \n",
       "7329  cc5308360703a702c6beaa58aaceca1d       225          217   \n",
       "3097  57337c021d92235c1f7775e1dc71d402       183          147   \n",
       "\n",
       "      total_vp_in_shape_percentage  \n",
       "6387                          0.66  \n",
       "7580                          1.00  \n",
       "7305                          1.00  \n",
       "7329                          0.96  \n",
       "3097                          0.80  "
      ]
     },
     "execution_count": 19,
     "metadata": {},
     "output_type": "execute_result"
    }
   ],
   "source": [
    "muni.sample(5)"
   ]
  },
  {
   "cell_type": "markdown",
   "id": "19a20f72-8a90-4823-8cc5-32f91ae1286d",
   "metadata": {
    "tags": []
   },
   "source": [
    "## Update Completeness\n",
    "* https://github.com/cal-itp/data-analyses/blob/main/rt_predictions/01_update_completeness.ipynb\n",
    "\n",
    "#### Keep only relevant `trips instance keys`?\n",
    "* Trips have certain attributes: name, key, gtfs key, etc in addition to trip instance key\n",
    "* Start from `vp_usable` join to `shapes` as first pass and get total positions in, add a column that counts counts number of pings\n",
    "* Read dataset in once, derive a bunch of rows. \n",
    "* I have 100 vps for one trip -> turn the trip into one row with summary statistics\n",
    "* Pass output of dataset into three different ways\n",
    "* Each pass will summarize vp-usable from thousands of rows to just one per trip\n",
    "* Pass `vp_usable` into three different functions.\n",
    "* Final step: merge all on trips.\n",
    "* Each function is individual, can be pandas."
   ]
  },
  {
   "cell_type": "code",
   "execution_count": 20,
   "id": "b2e0fa2d-089d-49a5-ab20-a8ef65925795",
   "metadata": {},
   "outputs": [],
   "source": [
    "# Only use the trips with shapes.\n",
    "relevant_trips = list(muni.trip_instance_key.unique())"
   ]
  },
  {
   "cell_type": "markdown",
   "id": "0e0e963e-ce3a-43bd-b5eb-209af2524e0f",
   "metadata": {},
   "source": [
    "#### Third time reading in `vp_usable`"
   ]
  },
  {
   "cell_type": "code",
   "execution_count": 21,
   "id": "845ad61c-eab0-40c9-9e50-09c35bd50a73",
   "metadata": {},
   "outputs": [],
   "source": [
    "completeness_cols = ['vp_idx',\n",
    "      'location_timestamp_local', 'trip_instance_key',\n",
    "      'gtfs_dataset_key']"
   ]
  },
  {
   "cell_type": "code",
   "execution_count": 22,
   "id": "88b571f2-624c-47aa-a154-286902fa4a96",
   "metadata": {},
   "outputs": [],
   "source": [
    "vp_filtered = dd.read_parquet(f\"{SEGMENT_GCS}vp_usable_{analysis_date}\",\n",
    "        columns = completeness_cols, \n",
    "        filters = [[('gtfs_dataset_name', \"==\", operator),\n",
    "                   ('schedule_gtfs_dataset_key', '==', gtfs_key),\n",
    "                   ('trip_instance_key', 'in', relevant_trips)]])"
   ]
  },
  {
   "cell_type": "code",
   "execution_count": 23,
   "id": "8b1174c1-b693-40fd-94c6-16152a2a3cd7",
   "metadata": {},
   "outputs": [],
   "source": [
    "update_completeness = vp_filtered.sort_values(['vp_idx']).reset_index(drop = True)"
   ]
  },
  {
   "cell_type": "code",
   "execution_count": 24,
   "id": "add7de33-bf89-4ab1-a907-a5f6f399821e",
   "metadata": {},
   "outputs": [],
   "source": [
    "two_cols = ['trip_instance_key','gtfs_dataset_key']"
   ]
  },
  {
   "cell_type": "code",
   "execution_count": 25,
   "id": "c9083d90-f232-4568-99f1-f92ccd98c5cc",
   "metadata": {},
   "outputs": [],
   "source": [
    "update_completeness = update_completeness.compute()"
   ]
  },
  {
   "cell_type": "code",
   "execution_count": 26,
   "id": "be48ea1f-b6e9-40b6-b121-2b9b744b86cb",
   "metadata": {},
   "outputs": [],
   "source": [
    "update_completeness2 = (update_completeness.groupby([\n",
    "        *['trip_instance_key'], \n",
    "         pd.Grouper(key = 'location_timestamp_local', freq = '1Min')\n",
    "    ])\n",
    "    .count()\n",
    "    .reset_index()\n",
    "    .rename(columns = {'vp_idx':'number_of_pings_per_minute'})\n",
    "        )"
   ]
  },
  {
   "cell_type": "markdown",
   "id": "f37c28a3-4f64-4d32-acdd-93f5b548fb17",
   "metadata": {},
   "source": [
    "#### At least 2 pings per minute"
   ]
  },
  {
   "cell_type": "code",
   "execution_count": 27,
   "id": "61617748-c555-4e88-b027-a7362cbb40f2",
   "metadata": {},
   "outputs": [],
   "source": [
    "at_least_2_pings = update_completeness2.assign(\n",
    "        atleast2_trip_updates = update_completeness2.apply(\n",
    "            lambda x: 1 if x[\"number_of_pings_per_minute\"] >= 2\n",
    "            else 0, axis=1)\n",
    "    )    \n",
    "    "
   ]
  },
  {
   "cell_type": "code",
   "execution_count": 28,
   "id": "f127aa0e-90f3-4946-a3c0-80c9b84aa101",
   "metadata": {},
   "outputs": [
    {
     "data": {
      "text/plain": [
       "1    534886\n",
       "0      6795\n",
       "Name: atleast2_trip_updates, dtype: int64"
      ]
     },
     "execution_count": 28,
     "metadata": {},
     "output_type": "execute_result"
    }
   ],
   "source": [
    "at_least_2_pings.atleast2_trip_updates.value_counts()"
   ]
  },
  {
   "cell_type": "code",
   "execution_count": 29,
   "id": "5965a48a-dec8-444f-8f69-714c64c885ab",
   "metadata": {},
   "outputs": [],
   "source": [
    "at_least_2_pings['max_time'] = at_least_2_pings.location_timestamp_local"
   ]
  },
  {
   "cell_type": "code",
   "execution_count": 30,
   "id": "d04cba0b-afd6-418a-a916-ea5fcea3f0a0",
   "metadata": {},
   "outputs": [],
   "source": [
    "at_least_2_pings = (at_least_2_pings\n",
    "                        .groupby(['trip_instance_key'])\n",
    "                        .agg({'location_timestamp_local':'min','max_time':'max', \n",
    "                             'atleast2_trip_updates':'sum'})\n",
    "                        .reset_index()\n",
    "                        .rename(columns = {'location_timestamp_local':'min_time'})\n",
    "                       )"
   ]
  },
  {
   "cell_type": "code",
   "execution_count": 31,
   "id": "cdbcc81c-1dc4-4111-808e-c3590568d163",
   "metadata": {},
   "outputs": [],
   "source": [
    "at_least_2_pings['total_trip_time'] = (at_least_2_pings.max_time - at_least_2_pings.min_time) / pd.Timedelta(minutes=1) + 1"
   ]
  },
  {
   "cell_type": "code",
   "execution_count": 32,
   "id": "e7f0c8e9-e523-4095-907a-331d29494ae1",
   "metadata": {},
   "outputs": [
    {
     "data": {
      "text/html": [
       "<div>\n",
       "<style scoped>\n",
       "    .dataframe tbody tr th:only-of-type {\n",
       "        vertical-align: middle;\n",
       "    }\n",
       "\n",
       "    .dataframe tbody tr th {\n",
       "        vertical-align: top;\n",
       "    }\n",
       "\n",
       "    .dataframe thead th {\n",
       "        text-align: right;\n",
       "    }\n",
       "</style>\n",
       "<table border=\"1\" class=\"dataframe\">\n",
       "  <thead>\n",
       "    <tr style=\"text-align: right;\">\n",
       "      <th></th>\n",
       "      <th>trip_instance_key</th>\n",
       "      <th>min_time</th>\n",
       "      <th>max_time</th>\n",
       "      <th>atleast2_trip_updates</th>\n",
       "      <th>total_trip_time</th>\n",
       "    </tr>\n",
       "  </thead>\n",
       "  <tbody>\n",
       "    <tr>\n",
       "      <th>8976</th>\n",
       "      <td>f95564edd65fe4358c24f55293e158ce</td>\n",
       "      <td>2023-10-11 09:00:00</td>\n",
       "      <td>2023-10-11 09:25:00</td>\n",
       "      <td>26</td>\n",
       "      <td>26.00</td>\n",
       "    </tr>\n",
       "  </tbody>\n",
       "</table>\n",
       "</div>"
      ],
      "text/plain": [
       "                     trip_instance_key            min_time  \\\n",
       "8976  f95564edd65fe4358c24f55293e158ce 2023-10-11 09:00:00   \n",
       "\n",
       "                max_time  atleast2_trip_updates  total_trip_time  \n",
       "8976 2023-10-11 09:25:00                     26            26.00  "
      ]
     },
     "execution_count": 32,
     "metadata": {},
     "output_type": "execute_result"
    }
   ],
   "source": [
    "at_least_2_pings.sample()"
   ]
  },
  {
   "cell_type": "code",
   "execution_count": 35,
   "id": "8d94dc4f-88c0-4817-92ae-5b8b9957ef54",
   "metadata": {},
   "outputs": [],
   "source": [
    "at_least_2_pings = at_least_2_pings.assign(\n",
    "        pct_with_2_pings_per_min = at_least_2_pings.atleast2_trip_updates.divide(\n",
    "            at_least_2_pings.total_trip_time)\n",
    "    ) "
   ]
  },
  {
   "cell_type": "code",
   "execution_count": 36,
   "id": "6e1b889d-6d97-43a2-bde6-e6f73cb10205",
   "metadata": {},
   "outputs": [
    {
     "data": {
      "text/plain": [
       "count   9240.00\n",
       "mean       0.98\n",
       "std        0.06\n",
       "min        0.02\n",
       "25%        0.98\n",
       "50%        0.99\n",
       "75%        1.00\n",
       "max        1.00\n",
       "Name: pct_update_complete, dtype: float64"
      ]
     },
     "execution_count": 36,
     "metadata": {},
     "output_type": "execute_result"
    }
   ],
   "source": [
    "at_least_2_pings.pct_update_complete.describe()"
   ]
  },
  {
   "cell_type": "code",
   "execution_count": 37,
   "id": "e686afef-2798-40c7-a175-d8a25b7edc48",
   "metadata": {},
   "outputs": [
    {
     "data": {
      "text/html": [
       "<div>\n",
       "<style scoped>\n",
       "    .dataframe tbody tr th:only-of-type {\n",
       "        vertical-align: middle;\n",
       "    }\n",
       "\n",
       "    .dataframe tbody tr th {\n",
       "        vertical-align: top;\n",
       "    }\n",
       "\n",
       "    .dataframe thead th {\n",
       "        text-align: right;\n",
       "    }\n",
       "</style>\n",
       "<table border=\"1\" class=\"dataframe\">\n",
       "  <thead>\n",
       "    <tr style=\"text-align: right;\">\n",
       "      <th></th>\n",
       "      <th>trip_instance_key</th>\n",
       "      <th>min_time</th>\n",
       "      <th>max_time</th>\n",
       "      <th>atleast2_trip_updates</th>\n",
       "      <th>total_trip_time</th>\n",
       "      <th>pct_update_complete</th>\n",
       "    </tr>\n",
       "  </thead>\n",
       "  <tbody>\n",
       "    <tr>\n",
       "      <th>1972</th>\n",
       "      <td>37622040815e89d063272bb6e37acc65</td>\n",
       "      <td>2023-10-11 05:31:00</td>\n",
       "      <td>2023-10-11 05:41:00</td>\n",
       "      <td>11</td>\n",
       "      <td>11.00</td>\n",
       "      <td>1.00</td>\n",
       "    </tr>\n",
       "  </tbody>\n",
       "</table>\n",
       "</div>"
      ],
      "text/plain": [
       "                     trip_instance_key            min_time  \\\n",
       "1972  37622040815e89d063272bb6e37acc65 2023-10-11 05:31:00   \n",
       "\n",
       "                max_time  atleast2_trip_updates  total_trip_time  \\\n",
       "1972 2023-10-11 05:41:00                     11            11.00   \n",
       "\n",
       "      pct_update_complete  \n",
       "1972                 1.00  "
      ]
     },
     "execution_count": 37,
     "metadata": {},
     "output_type": "execute_result"
    }
   ],
   "source": [
    "at_least_2_pings.loc[at_least_2_pings.trip_instance_key == \"37622040815e89d063272bb6e37acc65\"]"
   ]
  },
  {
   "cell_type": "markdown",
   "id": "e9360550-2b92-406e-a37e-48347fec849d",
   "metadata": {},
   "source": [
    "#### Density\n",
    "\n",
    "6ef4805f0104b95614b86a2b1c374d23\n",
    "* Minutes skipped: 6:12 to 6:18\n",
    "* 6:19-6:26\n",
    "* 6:28-7:33 etc etc\n",
    "* Trip started at 5:48, ended at 8:31 \n",
    "\n",
    "Can also check w/ 38247cbee93b6f85d58bf1812ae553b9\n",
    "* Began at 16:01:00, end at 17:00:000\n",
    "* Skips having data: jumps from 4:38 to 4:54\n",
    "    * Trip: know the min and the max \n",
    "    * Bin the minutes: everything else between 4:38 to 4:54 can't be binned. \n",
    "    * Dem: gap between max and min \n",
    "* Vp doesn't necessarily update every minute \n",
    "* TO DO\n",
    "    * Correct trip duration numerator: average pings per minute or ten minutes or five minutes...Help us understand coverage.  \n",
    "    * How to express time lapses: time deletas in pandas"
   ]
  },
  {
   "cell_type": "code",
   "execution_count": 38,
   "id": "41bee2ff-60ac-4fc6-bd3a-dbee4d529a53",
   "metadata": {},
   "outputs": [],
   "source": [
    "density_5_min = (update_completeness2.groupby([\n",
    "        *['trip_instance_key'], \n",
    "         pd.Grouper(key = 'location_timestamp_local', freq = '5Min')\n",
    "    ])\n",
    "    .sum()\n",
    "    .reset_index()\n",
    "    .rename(columns = {'number_of_pings_per_minute':'number_of_pings_per_5_min'})\n",
    "        )"
   ]
  },
  {
   "cell_type": "code",
   "execution_count": 39,
   "id": "ee2c3494-0629-46fb-bea7-5530a11e98c1",
   "metadata": {},
   "outputs": [],
   "source": [
    "density_5_min2 = density_5_min.groupby(['trip_instance_key']).agg({'number_of_pings_per_5_min':'median'}).reset_index()"
   ]
  },
  {
   "cell_type": "code",
   "execution_count": 40,
   "id": "d1e1ba41-f648-4674-ba3a-c40612e36303",
   "metadata": {},
   "outputs": [],
   "source": [
    "density_5_min2['avg_pings_per_5_min'] = density_5_min2.number_of_pings_per_5_min/5"
   ]
  },
  {
   "cell_type": "code",
   "execution_count": 41,
   "id": "5a4549a2-5656-444e-b959-b7991441244c",
   "metadata": {},
   "outputs": [
    {
     "data": {
      "text/html": [
       "<div>\n",
       "<style scoped>\n",
       "    .dataframe tbody tr th:only-of-type {\n",
       "        vertical-align: middle;\n",
       "    }\n",
       "\n",
       "    .dataframe tbody tr th {\n",
       "        vertical-align: top;\n",
       "    }\n",
       "\n",
       "    .dataframe thead th {\n",
       "        text-align: right;\n",
       "    }\n",
       "</style>\n",
       "<table border=\"1\" class=\"dataframe\">\n",
       "  <thead>\n",
       "    <tr style=\"text-align: right;\">\n",
       "      <th></th>\n",
       "      <th>trip_instance_key</th>\n",
       "      <th>number_of_pings_per_5_min</th>\n",
       "      <th>avg_pings_per_5_min</th>\n",
       "    </tr>\n",
       "  </thead>\n",
       "  <tbody>\n",
       "    <tr>\n",
       "      <th>954</th>\n",
       "      <td>1a7ccbfc37cbbdb7176bcac7c140be3e</td>\n",
       "      <td>15.00</td>\n",
       "      <td>3.00</td>\n",
       "    </tr>\n",
       "    <tr>\n",
       "      <th>7965</th>\n",
       "      <td>ddca3dd2ebb812be8287e9ad7c8c59c7</td>\n",
       "      <td>15.00</td>\n",
       "      <td>3.00</td>\n",
       "    </tr>\n",
       "    <tr>\n",
       "      <th>7322</th>\n",
       "      <td>cc09cf7d41b3868773583577f340f1ff</td>\n",
       "      <td>15.00</td>\n",
       "      <td>3.00</td>\n",
       "    </tr>\n",
       "  </tbody>\n",
       "</table>\n",
       "</div>"
      ],
      "text/plain": [
       "                     trip_instance_key  number_of_pings_per_5_min  \\\n",
       "954   1a7ccbfc37cbbdb7176bcac7c140be3e                      15.00   \n",
       "7965  ddca3dd2ebb812be8287e9ad7c8c59c7                      15.00   \n",
       "7322  cc09cf7d41b3868773583577f340f1ff                      15.00   \n",
       "\n",
       "      avg_pings_per_5_min  \n",
       "954                  3.00  \n",
       "7965                 3.00  \n",
       "7322                 3.00  "
      ]
     },
     "execution_count": 41,
     "metadata": {},
     "output_type": "execute_result"
    }
   ],
   "source": [
    "density_5_min2.sample(3)"
   ]
  },
  {
   "cell_type": "code",
   "execution_count": 42,
   "id": "72bc9f66-28d0-4032-add5-75d6b36d284d",
   "metadata": {
    "scrolled": true,
    "tags": []
   },
   "outputs": [],
   "source": [
    "# density_5_min.loc[density_5_min.trip_instance_key == \"e124441ba673de6b885c3a75cf22c7f0\"]"
   ]
  },
  {
   "cell_type": "code",
   "execution_count": 43,
   "id": "5aab6781-1c06-4046-96cb-1c703c81482f",
   "metadata": {},
   "outputs": [
    {
     "data": {
      "text/plain": [
       "count   9240.00\n",
       "mean       2.96\n",
       "std        0.18\n",
       "min        0.30\n",
       "25%        3.00\n",
       "50%        3.00\n",
       "75%        3.00\n",
       "max        3.00\n",
       "Name: avg_pings_per_5_min, dtype: float64"
      ]
     },
     "execution_count": 43,
     "metadata": {},
     "output_type": "execute_result"
    }
   ],
   "source": [
    "density_5_min2.avg_pings_per_5_min.describe()"
   ]
  },
  {
   "cell_type": "markdown",
   "id": "2efed51c-b180-4986-a10a-1e436c5959f2",
   "metadata": {},
   "source": [
    "#### Total minutes with GTFS"
   ]
  },
  {
   "cell_type": "code",
   "execution_count": 44,
   "id": "55d3b66e-d00c-4a9f-90a7-d917ec3adb8e",
   "metadata": {
    "tags": []
   },
   "outputs": [],
   "source": [
    "total_minutes_df = (update_completeness2\n",
    "                        .groupby(['trip_instance_key'])\n",
    "                        .agg({'gtfs_dataset_key':'count'})\n",
    "                        .rename(columns = {'gtfs_dataset_key':'total_minutes_w_gtfs'})\n",
    "                        .reset_index()\n",
    "                       )"
   ]
  },
  {
   "cell_type": "code",
   "execution_count": null,
   "id": "97dd21cb-3f6d-48f1-b715-f06b1765d502",
   "metadata": {},
   "outputs": [
    {
     "data": {
      "text/html": [
       "<div>\n",
       "<style scoped>\n",
       "    .dataframe tbody tr th:only-of-type {\n",
       "        vertical-align: middle;\n",
       "    }\n",
       "\n",
       "    .dataframe tbody tr th {\n",
       "        vertical-align: top;\n",
       "    }\n",
       "\n",
       "    .dataframe thead th {\n",
       "        text-align: right;\n",
       "    }\n",
       "</style>\n",
       "<table border=\"1\" class=\"dataframe\">\n",
       "  <thead>\n",
       "    <tr style=\"text-align: right;\">\n",
       "      <th></th>\n",
       "      <th>trip_instance_key</th>\n",
       "      <th>total_minutes_w_gtfs</th>\n",
       "    </tr>\n",
       "  </thead>\n",
       "  <tbody>\n",
       "    <tr>\n",
       "      <th>0</th>\n",
       "      <td>00068c2e2316950af50ffaa9584c7a46</td>\n",
       "      <td>43</td>\n",
       "    </tr>\n",
       "    <tr>\n",
       "      <th>1</th>\n",
       "      <td>000c62b70d9438b7951457a74a4c89b2</td>\n",
       "      <td>52</td>\n",
       "    </tr>\n",
       "    <tr>\n",
       "      <th>2</th>\n",
       "      <td>0010126e10a24f22fb36018ed0f79572</td>\n",
       "      <td>138</td>\n",
       "    </tr>\n",
       "    <tr>\n",
       "      <th>3</th>\n",
       "      <td>0013822d90020aa52bae3dab73d15fd0</td>\n",
       "      <td>69</td>\n",
       "    </tr>\n",
       "    <tr>\n",
       "      <th>4</th>\n",
       "      <td>001a66b1633388f4fe9eea5acf374481</td>\n",
       "      <td>76</td>\n",
       "    </tr>\n",
       "  </tbody>\n",
       "</table>\n",
       "</div>"
      ],
      "text/plain": [
       "                  trip_instance_key  total_minutes_w_gtfs\n",
       "0  00068c2e2316950af50ffaa9584c7a46                    43\n",
       "1  000c62b70d9438b7951457a74a4c89b2                    52\n",
       "2  0010126e10a24f22fb36018ed0f79572                   138\n",
       "3  0013822d90020aa52bae3dab73d15fd0                    69\n",
       "4  001a66b1633388f4fe9eea5acf374481                    76"
      ]
     },
     "execution_count": 45,
     "metadata": {},
     "output_type": "execute_result"
    }
   ],
   "source": [
    "total_minutes_df.head()"
   ]
  },
  {
   "cell_type": "code",
   "execution_count": 46,
   "id": "b5b74387-167f-4b35-a176-b80140876ebd",
   "metadata": {},
   "outputs": [],
   "source": [
    "update_completeness = pd.merge(at_least_2_pings, total_minutes_df, on = \"trip_instance_key\", how = \"inner\")"
   ]
  },
  {
   "cell_type": "code",
   "execution_count": 61,
   "id": "9a0facd5-c7f2-424c-8492-61f156d86842",
   "metadata": {},
   "outputs": [],
   "source": [
    "update_completeness['pct_of_trip_w_gtfs'] = update_completeness.total_minutes_w_gtfs/update_completeness.total_trip_time"
   ]
  },
  {
   "cell_type": "code",
   "execution_count": 62,
   "id": "c27baf21-9fec-419a-b577-0abd360b92de",
   "metadata": {},
   "outputs": [],
   "source": [
    "update_completeness2 = pd.merge(update_completeness, density_5_min2, on = \"trip_instance_key\", how = \"inner\")"
   ]
  },
  {
   "cell_type": "code",
   "execution_count": 63,
   "id": "a07f7199-f630-4013-8b36-3345c129f44a",
   "metadata": {},
   "outputs": [],
   "source": [
    "update_completeness2 = update_completeness2.drop(columns = ['min_time','max_time','number_of_pings_per_5_min']) "
   ]
  },
  {
   "cell_type": "code",
   "execution_count": 77,
   "id": "7b4e2446-865e-43e9-a8e8-d53e7af18a35",
   "metadata": {},
   "outputs": [
    {
     "data": {
      "text/html": [
       "<div>\n",
       "<style scoped>\n",
       "    .dataframe tbody tr th:only-of-type {\n",
       "        vertical-align: middle;\n",
       "    }\n",
       "\n",
       "    .dataframe tbody tr th {\n",
       "        vertical-align: top;\n",
       "    }\n",
       "\n",
       "    .dataframe thead th {\n",
       "        text-align: right;\n",
       "    }\n",
       "</style>\n",
       "<table border=\"1\" class=\"dataframe\">\n",
       "  <thead>\n",
       "    <tr style=\"text-align: right;\">\n",
       "      <th></th>\n",
       "      <th>trip_instance_key</th>\n",
       "      <th>atleast2_trip_updates</th>\n",
       "      <th>total_trip_time</th>\n",
       "      <th>pct_update_complete</th>\n",
       "      <th>total_minutes_w_gtfs</th>\n",
       "      <th>pct_of_trip_with_gtfs</th>\n",
       "      <th>pct_of_trip_w_gtfs</th>\n",
       "      <th>avg_pings_per_5_min</th>\n",
       "    </tr>\n",
       "  </thead>\n",
       "  <tbody>\n",
       "    <tr>\n",
       "      <th>8811</th>\n",
       "      <td>f5571c9636dac57a5891a1367323a55b</td>\n",
       "      <td>49</td>\n",
       "      <td>49.00</td>\n",
       "      <td>1.00</td>\n",
       "      <td>49</td>\n",
       "      <td>1.00</td>\n",
       "      <td>1.00</td>\n",
       "      <td>3.00</td>\n",
       "    </tr>\n",
       "    <tr>\n",
       "      <th>7124</th>\n",
       "      <td>c67d4cf779fcb442a04532ff36ab0808</td>\n",
       "      <td>50</td>\n",
       "      <td>51.00</td>\n",
       "      <td>0.98</td>\n",
       "      <td>51</td>\n",
       "      <td>1.00</td>\n",
       "      <td>1.00</td>\n",
       "      <td>3.00</td>\n",
       "    </tr>\n",
       "    <tr>\n",
       "      <th>2774</th>\n",
       "      <td>4e172af24879f967ed358d97031240de</td>\n",
       "      <td>57</td>\n",
       "      <td>57.00</td>\n",
       "      <td>1.00</td>\n",
       "      <td>57</td>\n",
       "      <td>1.00</td>\n",
       "      <td>1.00</td>\n",
       "      <td>3.00</td>\n",
       "    </tr>\n",
       "    <tr>\n",
       "      <th>6926</th>\n",
       "      <td>c10711bca9526b204542561daf52567e</td>\n",
       "      <td>64</td>\n",
       "      <td>64.00</td>\n",
       "      <td>1.00</td>\n",
       "      <td>64</td>\n",
       "      <td>1.00</td>\n",
       "      <td>1.00</td>\n",
       "      <td>3.00</td>\n",
       "    </tr>\n",
       "    <tr>\n",
       "      <th>35</th>\n",
       "      <td>00dd3fad34a4a153bc2b02645b80a78d</td>\n",
       "      <td>30</td>\n",
       "      <td>31.00</td>\n",
       "      <td>0.97</td>\n",
       "      <td>31</td>\n",
       "      <td>1.00</td>\n",
       "      <td>1.00</td>\n",
       "      <td>3.00</td>\n",
       "    </tr>\n",
       "  </tbody>\n",
       "</table>\n",
       "</div>"
      ],
      "text/plain": [
       "                     trip_instance_key  atleast2_trip_updates  \\\n",
       "8811  f5571c9636dac57a5891a1367323a55b                     49   \n",
       "7124  c67d4cf779fcb442a04532ff36ab0808                     50   \n",
       "2774  4e172af24879f967ed358d97031240de                     57   \n",
       "6926  c10711bca9526b204542561daf52567e                     64   \n",
       "35    00dd3fad34a4a153bc2b02645b80a78d                     30   \n",
       "\n",
       "      total_trip_time  pct_update_complete  total_minutes_w_gtfs  \\\n",
       "8811            49.00                 1.00                    49   \n",
       "7124            51.00                 0.98                    51   \n",
       "2774            57.00                 1.00                    57   \n",
       "6926            64.00                 1.00                    64   \n",
       "35              31.00                 0.97                    31   \n",
       "\n",
       "      pct_of_trip_with_gtfs  pct_of_trip_w_gtfs  avg_pings_per_5_min  \n",
       "8811                   1.00                1.00                 3.00  \n",
       "7124                   1.00                1.00                 3.00  \n",
       "2774                   1.00                1.00                 3.00  \n",
       "6926                   1.00                1.00                 3.00  \n",
       "35                     1.00                1.00                 3.00  "
      ]
     },
     "execution_count": 77,
     "metadata": {},
     "output_type": "execute_result"
    }
   ],
   "source": [
    "update_completeness2.sample(5)"
   ]
  },
  {
   "cell_type": "code",
   "execution_count": 65,
   "id": "263e407d-3d4f-4508-8efa-7d5818d245b1",
   "metadata": {},
   "outputs": [
    {
     "data": {
      "text/plain": [
       "count   9240.00\n",
       "mean       0.99\n",
       "std        0.05\n",
       "min        0.04\n",
       "25%        1.00\n",
       "50%        1.00\n",
       "75%        1.00\n",
       "max        1.00\n",
       "Name: pct_of_trip_w_gtfs, dtype: float64"
      ]
     },
     "execution_count": 65,
     "metadata": {},
     "output_type": "execute_result"
    }
   ],
   "source": [
    "update_completeness2.pct_of_trip_w_gtfs.describe()"
   ]
  },
  {
   "cell_type": "code",
   "execution_count": 74,
   "id": "d5bc77a1-d2e9-4ff4-8fda-d5e7b7484149",
   "metadata": {},
   "outputs": [
    {
     "data": {
      "text/plain": [
       "count   9240.00\n",
       "mean       2.96\n",
       "std        0.18\n",
       "min        0.30\n",
       "25%        3.00\n",
       "50%        3.00\n",
       "75%        3.00\n",
       "max        3.00\n",
       "Name: avg_pings_per_5_min, dtype: float64"
      ]
     },
     "execution_count": 74,
     "metadata": {},
     "output_type": "execute_result"
    }
   ],
   "source": [
    "update_completeness2.avg_pings_per_5_min.describe()"
   ]
  },
  {
   "cell_type": "code",
   "execution_count": 75,
   "id": "560d3543-cf1e-4b6d-8378-8a45ba0e2067",
   "metadata": {},
   "outputs": [
    {
     "data": {
      "text/plain": [
       "count   9240.00\n",
       "mean       0.98\n",
       "std        0.06\n",
       "min        0.02\n",
       "25%        0.98\n",
       "50%        0.99\n",
       "75%        1.00\n",
       "max        1.00\n",
       "Name: pct_update_complete, dtype: float64"
      ]
     },
     "execution_count": 75,
     "metadata": {},
     "output_type": "execute_result"
    }
   ],
   "source": [
    "update_completeness2.pct_with_2_pings_per_min.describe()"
   ]
  },
  {
   "cell_type": "markdown",
   "id": "3b61450e-528c-4dab-9582-2bda3343e379",
   "metadata": {},
   "source": [
    "## How many minutes a trip took and the average speeds?"
   ]
  },
  {
   "cell_type": "code",
   "execution_count": 67,
   "id": "e7da4b0a-720b-4008-afad-ecdcd162f917",
   "metadata": {},
   "outputs": [],
   "source": [
    "trip_speeds = pd.read_parquet(f\"{SEGMENT_GCS}trip_summary/trip_speeds_{analysis_date}.parquet\")"
   ]
  },
  {
   "cell_type": "code",
   "execution_count": null,
   "id": "d5535a0a-2c40-4ba6-8cc4-3e3ad90f9aef",
   "metadata": {},
   "outputs": [],
   "source": [
    "trip_speeds  = pd.read_parquet(f\"{SEGMENT_GCS}trip_summary/trip_speeds_{analysis_date}.parquet\",\n",
    "        columns = ['trip_instance_key', 'speed_mph'])"
   ]
  },
  {
   "cell_type": "code",
   "execution_count": 85,
   "id": "f3049523-a460-47a6-a442-c05352cb173a",
   "metadata": {},
   "outputs": [
    {
     "data": {
      "text/plain": [
       "Index(['trip_instance_key', 'meters_elapsed', 'sec_elapsed', 'speed_mph',\n",
       "       'rt_trip_min', 'schedule_gtfs_dataset_key', 'direction_id', 'route_id',\n",
       "       'common_shape_id', 'shape_array_key', 'route_name_used',\n",
       "       'service_hours', 'trip_first_departure_datetime_pacific', 'time_of_day',\n",
       "       'service_minutes'],\n",
       "      dtype='object')"
      ]
     },
     "execution_count": 85,
     "metadata": {},
     "output_type": "execute_result"
    }
   ],
   "source": [
    "trip_speeds.columns"
   ]
  },
  {
   "cell_type": "code",
   "execution_count": 68,
   "id": "ad90cd45-b6b0-4588-8df6-70de625c2edb",
   "metadata": {},
   "outputs": [
    {
     "data": {
      "text/plain": [
       "76255"
      ]
     },
     "execution_count": 68,
     "metadata": {},
     "output_type": "execute_result"
    }
   ],
   "source": [
    "trip_speeds.trip_instance_key.nunique()"
   ]
  },
  {
   "cell_type": "markdown",
   "id": "69d4639b-a9e9-44d0-8398-3aca1a0a11ff",
   "metadata": {},
   "source": [
    "## Outer Join\n",
    "#### Question: how to connect back to trip instance key?"
   ]
  },
  {
   "cell_type": "code",
   "execution_count": 69,
   "id": "41d4e8fd-33fa-4dfc-aa12-98c8abe16240",
   "metadata": {},
   "outputs": [
    {
     "data": {
      "text/plain": [
       "pandas.core.frame.DataFrame"
      ]
     },
     "execution_count": 69,
     "metadata": {},
     "output_type": "execute_result"
    }
   ],
   "source": [
    "# Spatial Accuracy\n",
    "type(muni)"
   ]
  },
  {
   "cell_type": "code",
   "execution_count": 70,
   "id": "dfb2e9c8-67d3-4a4d-b64a-eebac0f35bac",
   "metadata": {},
   "outputs": [
    {
     "data": {
      "text/plain": [
       "Index(['trip_instance_key', 'total_vp', 'vp_in_shape',\n",
       "       'total_vp_in_shape_percentage'],\n",
       "      dtype='object')"
      ]
     },
     "execution_count": 70,
     "metadata": {},
     "output_type": "execute_result"
    }
   ],
   "source": [
    "muni.columns"
   ]
  },
  {
   "cell_type": "code",
   "execution_count": 71,
   "id": "6b2780f0-a359-4fb1-9082-2c7d40ba42df",
   "metadata": {},
   "outputs": [
    {
     "data": {
      "text/plain": [
       "9240"
      ]
     },
     "execution_count": 71,
     "metadata": {},
     "output_type": "execute_result"
    }
   ],
   "source": [
    "muni.trip_instance_key.nunique()"
   ]
  },
  {
   "cell_type": "code",
   "execution_count": 72,
   "id": "05adc5b0-2a0b-4860-af3d-bda2349bff99",
   "metadata": {},
   "outputs": [
    {
     "data": {
      "text/html": [
       "<div>\n",
       "<style scoped>\n",
       "    .dataframe tbody tr th:only-of-type {\n",
       "        vertical-align: middle;\n",
       "    }\n",
       "\n",
       "    .dataframe tbody tr th {\n",
       "        vertical-align: top;\n",
       "    }\n",
       "\n",
       "    .dataframe thead th {\n",
       "        text-align: right;\n",
       "    }\n",
       "</style>\n",
       "<table border=\"1\" class=\"dataframe\">\n",
       "  <thead>\n",
       "    <tr style=\"text-align: right;\">\n",
       "      <th></th>\n",
       "      <th>trip_instance_key</th>\n",
       "      <th>total_vp</th>\n",
       "      <th>vp_in_shape</th>\n",
       "      <th>total_vp_in_shape_percentage</th>\n",
       "    </tr>\n",
       "  </thead>\n",
       "  <tbody>\n",
       "    <tr>\n",
       "      <th>0</th>\n",
       "      <td>00068c2e2316950af50ffaa9584c7a46</td>\n",
       "      <td>126</td>\n",
       "      <td>126</td>\n",
       "      <td>1.00</td>\n",
       "    </tr>\n",
       "    <tr>\n",
       "      <th>1</th>\n",
       "      <td>000c62b70d9438b7951457a74a4c89b2</td>\n",
       "      <td>152</td>\n",
       "      <td>140</td>\n",
       "      <td>0.92</td>\n",
       "    </tr>\n",
       "    <tr>\n",
       "      <th>2</th>\n",
       "      <td>0010126e10a24f22fb36018ed0f79572</td>\n",
       "      <td>413</td>\n",
       "      <td>315</td>\n",
       "      <td>0.76</td>\n",
       "    </tr>\n",
       "    <tr>\n",
       "      <th>3</th>\n",
       "      <td>0013822d90020aa52bae3dab73d15fd0</td>\n",
       "      <td>205</td>\n",
       "      <td>205</td>\n",
       "      <td>1.00</td>\n",
       "    </tr>\n",
       "    <tr>\n",
       "      <th>4</th>\n",
       "      <td>001a66b1633388f4fe9eea5acf374481</td>\n",
       "      <td>227</td>\n",
       "      <td>227</td>\n",
       "      <td>1.00</td>\n",
       "    </tr>\n",
       "  </tbody>\n",
       "</table>\n",
       "</div>"
      ],
      "text/plain": [
       "                  trip_instance_key  total_vp  vp_in_shape  \\\n",
       "0  00068c2e2316950af50ffaa9584c7a46       126          126   \n",
       "1  000c62b70d9438b7951457a74a4c89b2       152          140   \n",
       "2  0010126e10a24f22fb36018ed0f79572       413          315   \n",
       "3  0013822d90020aa52bae3dab73d15fd0       205          205   \n",
       "4  001a66b1633388f4fe9eea5acf374481       227          227   \n",
       "\n",
       "   total_vp_in_shape_percentage  \n",
       "0                          1.00  \n",
       "1                          0.92  \n",
       "2                          0.76  \n",
       "3                          1.00  \n",
       "4                          1.00  "
      ]
     },
     "execution_count": 72,
     "metadata": {},
     "output_type": "execute_result"
    }
   ],
   "source": [
    "muni.head()"
   ]
  },
  {
   "cell_type": "code",
   "execution_count": 78,
   "id": "a24dbf3a-e060-49b1-982b-2a583c98286a",
   "metadata": {},
   "outputs": [],
   "source": [
    "outer_merge1 = pd.merge(update_completeness2, muni, \n",
    "                        on = \"trip_instance_key\",\n",
    "                        how = \"outer\")"
   ]
  },
  {
   "cell_type": "code",
   "execution_count": 79,
   "id": "320cb842-c935-4c40-b7c9-6396c820da68",
   "metadata": {},
   "outputs": [
    {
     "data": {
      "text/html": [
       "<div>\n",
       "<style scoped>\n",
       "    .dataframe tbody tr th:only-of-type {\n",
       "        vertical-align: middle;\n",
       "    }\n",
       "\n",
       "    .dataframe tbody tr th {\n",
       "        vertical-align: top;\n",
       "    }\n",
       "\n",
       "    .dataframe thead th {\n",
       "        text-align: right;\n",
       "    }\n",
       "</style>\n",
       "<table border=\"1\" class=\"dataframe\">\n",
       "  <thead>\n",
       "    <tr style=\"text-align: right;\">\n",
       "      <th></th>\n",
       "      <th>trip_instance_key</th>\n",
       "      <th>atleast2_trip_updates</th>\n",
       "      <th>total_trip_time</th>\n",
       "      <th>pct_update_complete</th>\n",
       "      <th>total_minutes_w_gtfs</th>\n",
       "      <th>pct_of_trip_with_gtfs</th>\n",
       "      <th>pct_of_trip_w_gtfs</th>\n",
       "      <th>avg_pings_per_5_min</th>\n",
       "      <th>total_vp</th>\n",
       "      <th>vp_in_shape</th>\n",
       "      <th>total_vp_in_shape_percentage</th>\n",
       "    </tr>\n",
       "  </thead>\n",
       "  <tbody>\n",
       "    <tr>\n",
       "      <th>2992</th>\n",
       "      <td>544f67a3c2e17f8a605cbbaddeee2bd6</td>\n",
       "      <td>109</td>\n",
       "      <td>109.00</td>\n",
       "      <td>1.00</td>\n",
       "      <td>109</td>\n",
       "      <td>1.00</td>\n",
       "      <td>1.00</td>\n",
       "      <td>3.00</td>\n",
       "      <td>328</td>\n",
       "      <td>239</td>\n",
       "      <td>0.73</td>\n",
       "    </tr>\n",
       "  </tbody>\n",
       "</table>\n",
       "</div>"
      ],
      "text/plain": [
       "                     trip_instance_key  atleast2_trip_updates  \\\n",
       "2992  544f67a3c2e17f8a605cbbaddeee2bd6                    109   \n",
       "\n",
       "      total_trip_time  pct_update_complete  total_minutes_w_gtfs  \\\n",
       "2992           109.00                 1.00                   109   \n",
       "\n",
       "      pct_of_trip_with_gtfs  pct_of_trip_w_gtfs  avg_pings_per_5_min  \\\n",
       "2992                   1.00                1.00                 3.00   \n",
       "\n",
       "      total_vp  vp_in_shape  total_vp_in_shape_percentage  \n",
       "2992       328          239                          0.73  "
      ]
     },
     "execution_count": 79,
     "metadata": {},
     "output_type": "execute_result"
    }
   ],
   "source": [
    "outer_merge1.sample()"
   ]
  },
  {
   "cell_type": "code",
   "execution_count": 80,
   "id": "6906429a-0087-4b47-a24b-245a25bcf06a",
   "metadata": {},
   "outputs": [
    {
     "data": {
      "text/html": [
       "<div>\n",
       "<style scoped>\n",
       "    .dataframe tbody tr th:only-of-type {\n",
       "        vertical-align: middle;\n",
       "    }\n",
       "\n",
       "    .dataframe tbody tr th {\n",
       "        vertical-align: top;\n",
       "    }\n",
       "\n",
       "    .dataframe thead th {\n",
       "        text-align: right;\n",
       "    }\n",
       "</style>\n",
       "<table border=\"1\" class=\"dataframe\">\n",
       "  <thead>\n",
       "    <tr style=\"text-align: right;\">\n",
       "      <th></th>\n",
       "      <th>trip_instance_key</th>\n",
       "      <th>meters_elapsed</th>\n",
       "      <th>sec_elapsed</th>\n",
       "      <th>speed_mph</th>\n",
       "      <th>rt_trip_min</th>\n",
       "      <th>schedule_gtfs_dataset_key</th>\n",
       "      <th>direction_id</th>\n",
       "      <th>route_id</th>\n",
       "      <th>common_shape_id</th>\n",
       "      <th>shape_array_key</th>\n",
       "      <th>route_name_used</th>\n",
       "      <th>service_hours</th>\n",
       "      <th>trip_first_departure_datetime_pacific</th>\n",
       "      <th>time_of_day</th>\n",
       "      <th>service_minutes</th>\n",
       "    </tr>\n",
       "  </thead>\n",
       "  <tbody>\n",
       "    <tr>\n",
       "      <th>7926</th>\n",
       "      <td>1acf6e8b7f2881596d1c14aa76b5ad5f</td>\n",
       "      <td>9549.37</td>\n",
       "      <td>3622.00</td>\n",
       "      <td>5.90</td>\n",
       "      <td>60.37</td>\n",
       "      <td>9809d3f8121513057bc5cb8de7b54ce2</td>\n",
       "      <td>0</td>\n",
       "      <td>005-130</td>\n",
       "      <td>0050039</td>\n",
       "      <td>258c9367410a6170b12d1309c0170ed4</td>\n",
       "      <td>Monterey - Carmel Rancho</td>\n",
       "      <td>0.43</td>\n",
       "      <td>2023-10-11 13:44:00</td>\n",
       "      <td>Midday</td>\n",
       "      <td>26.00</td>\n",
       "    </tr>\n",
       "  </tbody>\n",
       "</table>\n",
       "</div>"
      ],
      "text/plain": [
       "                     trip_instance_key  meters_elapsed  sec_elapsed  \\\n",
       "7926  1acf6e8b7f2881596d1c14aa76b5ad5f         9549.37      3622.00   \n",
       "\n",
       "      speed_mph  rt_trip_min         schedule_gtfs_dataset_key  direction_id  \\\n",
       "7926       5.90        60.37  9809d3f8121513057bc5cb8de7b54ce2             0   \n",
       "\n",
       "     route_id common_shape_id                   shape_array_key  \\\n",
       "7926  005-130         0050039  258c9367410a6170b12d1309c0170ed4   \n",
       "\n",
       "               route_name_used  service_hours  \\\n",
       "7926  Monterey - Carmel Rancho           0.43   \n",
       "\n",
       "     trip_first_departure_datetime_pacific time_of_day  service_minutes  \n",
       "7926                   2023-10-11 13:44:00      Midday            26.00  "
      ]
     },
     "execution_count": 80,
     "metadata": {},
     "output_type": "execute_result"
    }
   ],
   "source": [
    "trip_speeds.sample()"
   ]
  },
  {
   "cell_type": "code",
   "execution_count": 81,
   "id": "5d3a24fd-362f-4a62-9fcf-c7f03b2770f3",
   "metadata": {},
   "outputs": [],
   "source": [
    "outer_merge2 = pd.merge(outer_merge1, trip_speeds, \n",
    "                        on = \"trip_instance_key\",\n",
    "                        how = \"inner\")"
   ]
  },
  {
   "cell_type": "code",
   "execution_count": 84,
   "id": "2d6b71df-80e9-4fbd-8ac2-e1f55ba04929",
   "metadata": {},
   "outputs": [
    {
     "data": {
      "text/html": [
       "<div>\n",
       "<style scoped>\n",
       "    .dataframe tbody tr th:only-of-type {\n",
       "        vertical-align: middle;\n",
       "    }\n",
       "\n",
       "    .dataframe tbody tr th {\n",
       "        vertical-align: top;\n",
       "    }\n",
       "\n",
       "    .dataframe thead th {\n",
       "        text-align: right;\n",
       "    }\n",
       "</style>\n",
       "<table border=\"1\" class=\"dataframe\">\n",
       "  <thead>\n",
       "    <tr style=\"text-align: right;\">\n",
       "      <th></th>\n",
       "      <th>trip_instance_key</th>\n",
       "      <th>atleast2_trip_updates</th>\n",
       "      <th>total_trip_time</th>\n",
       "      <th>pct_update_complete</th>\n",
       "      <th>total_minutes_w_gtfs</th>\n",
       "      <th>pct_of_trip_with_gtfs</th>\n",
       "      <th>pct_of_trip_w_gtfs</th>\n",
       "      <th>avg_pings_per_5_min</th>\n",
       "      <th>total_vp</th>\n",
       "      <th>vp_in_shape</th>\n",
       "      <th>total_vp_in_shape_percentage</th>\n",
       "      <th>meters_elapsed</th>\n",
       "      <th>sec_elapsed</th>\n",
       "      <th>speed_mph</th>\n",
       "      <th>rt_trip_min</th>\n",
       "      <th>schedule_gtfs_dataset_key</th>\n",
       "      <th>direction_id</th>\n",
       "      <th>route_id</th>\n",
       "      <th>common_shape_id</th>\n",
       "      <th>shape_array_key</th>\n",
       "      <th>route_name_used</th>\n",
       "      <th>service_hours</th>\n",
       "      <th>trip_first_departure_datetime_pacific</th>\n",
       "      <th>time_of_day</th>\n",
       "      <th>service_minutes</th>\n",
       "    </tr>\n",
       "  </thead>\n",
       "  <tbody>\n",
       "    <tr>\n",
       "      <th>8933</th>\n",
       "      <td>fa6dd9a0b27192b3265c8a682fcab577</td>\n",
       "      <td>44</td>\n",
       "      <td>46.00</td>\n",
       "      <td>0.96</td>\n",
       "      <td>46</td>\n",
       "      <td>1.00</td>\n",
       "      <td>1.00</td>\n",
       "      <td>3.00</td>\n",
       "      <td>134</td>\n",
       "      <td>121</td>\n",
       "      <td>0.90</td>\n",
       "      <td>4666.90</td>\n",
       "      <td>2407.00</td>\n",
       "      <td>4.34</td>\n",
       "      <td>40.12</td>\n",
       "      <td>7cc0cb1871dfd558f11a2885c145d144</td>\n",
       "      <td>1</td>\n",
       "      <td>1</td>\n",
       "      <td>152</td>\n",
       "      <td>e3fe7a7916a145078a6f6bd59cb42cc9</td>\n",
       "      <td>5am-12 midnight daily</td>\n",
       "      <td>0.45</td>\n",
       "      <td>2023-10-11 12:31:00</td>\n",
       "      <td>Midday</td>\n",
       "      <td>27.00</td>\n",
       "    </tr>\n",
       "    <tr>\n",
       "      <th>6892</th>\n",
       "      <td>c20d99bc2d6cd8497a025103a38bac8a</td>\n",
       "      <td>60</td>\n",
       "      <td>60.00</td>\n",
       "      <td>1.00</td>\n",
       "      <td>60</td>\n",
       "      <td>1.00</td>\n",
       "      <td>1.00</td>\n",
       "      <td>3.00</td>\n",
       "      <td>178</td>\n",
       "      <td>178</td>\n",
       "      <td>1.00</td>\n",
       "      <td>10465.34</td>\n",
       "      <td>6198.00</td>\n",
       "      <td>3.78</td>\n",
       "      <td>103.30</td>\n",
       "      <td>7cc0cb1871dfd558f11a2885c145d144</td>\n",
       "      <td>0</td>\n",
       "      <td>38R</td>\n",
       "      <td>13800</td>\n",
       "      <td>7cc77a4cdfa2a4fa0694addee4665b51</td>\n",
       "      <td>Weekdays 5am-10pm Weekends 6am-9pm</td>\n",
       "      <td>0.75</td>\n",
       "      <td>2023-10-11 09:42:00</td>\n",
       "      <td>AM Peak</td>\n",
       "      <td>45.00</td>\n",
       "    </tr>\n",
       "    <tr>\n",
       "      <th>2680</th>\n",
       "      <td>4c17c7b6c42aa6f0f38cb2c568f90ad7</td>\n",
       "      <td>70</td>\n",
       "      <td>70.00</td>\n",
       "      <td>1.00</td>\n",
       "      <td>70</td>\n",
       "      <td>1.00</td>\n",
       "      <td>1.00</td>\n",
       "      <td>3.00</td>\n",
       "      <td>210</td>\n",
       "      <td>201</td>\n",
       "      <td>0.96</td>\n",
       "      <td>10465.34</td>\n",
       "      <td>3550.00</td>\n",
       "      <td>6.59</td>\n",
       "      <td>59.17</td>\n",
       "      <td>7cc0cb1871dfd558f11a2885c145d144</td>\n",
       "      <td>0</td>\n",
       "      <td>38R</td>\n",
       "      <td>13800</td>\n",
       "      <td>7cc77a4cdfa2a4fa0694addee4665b51</td>\n",
       "      <td>Weekdays 5am-10pm Weekends 6am-9pm</td>\n",
       "      <td>0.82</td>\n",
       "      <td>2023-10-11 17:00:00</td>\n",
       "      <td>PM Peak</td>\n",
       "      <td>49.00</td>\n",
       "    </tr>\n",
       "    <tr>\n",
       "      <th>510</th>\n",
       "      <td>0ed3dd6cadda74a50f8e15cb06946c48</td>\n",
       "      <td>45</td>\n",
       "      <td>45.00</td>\n",
       "      <td>1.00</td>\n",
       "      <td>45</td>\n",
       "      <td>1.00</td>\n",
       "      <td>1.00</td>\n",
       "      <td>3.00</td>\n",
       "      <td>134</td>\n",
       "      <td>134</td>\n",
       "      <td>1.00</td>\n",
       "      <td>10586.49</td>\n",
       "      <td>5234.00</td>\n",
       "      <td>4.52</td>\n",
       "      <td>87.23</td>\n",
       "      <td>7cc0cb1871dfd558f11a2885c145d144</td>\n",
       "      <td>1</td>\n",
       "      <td>38</td>\n",
       "      <td>3851</td>\n",
       "      <td>e2f53e4455f4ed7d5aee6216c14c6e9f</td>\n",
       "      <td>24 hour service daily</td>\n",
       "      <td>0.60</td>\n",
       "      <td>2023-10-12 03:46:00</td>\n",
       "      <td>Owl</td>\n",
       "      <td>36.00</td>\n",
       "    </tr>\n",
       "    <tr>\n",
       "      <th>8939</th>\n",
       "      <td>fa8f89174e9ff2635fbe1ab6306bb7ea</td>\n",
       "      <td>45</td>\n",
       "      <td>46.00</td>\n",
       "      <td>0.98</td>\n",
       "      <td>46</td>\n",
       "      <td>1.00</td>\n",
       "      <td>1.00</td>\n",
       "      <td>3.00</td>\n",
       "      <td>136</td>\n",
       "      <td>136</td>\n",
       "      <td>1.00</td>\n",
       "      <td>11494.87</td>\n",
       "      <td>2399.00</td>\n",
       "      <td>10.72</td>\n",
       "      <td>39.98</td>\n",
       "      <td>7cc0cb1871dfd558f11a2885c145d144</td>\n",
       "      <td>1</td>\n",
       "      <td>31</td>\n",
       "      <td>3151</td>\n",
       "      <td>54882fdb83a0a8de4e0990b14c944a17</td>\n",
       "      <td>5am-10pm daily</td>\n",
       "      <td>0.67</td>\n",
       "      <td>2023-10-11 05:40:00</td>\n",
       "      <td>Early AM</td>\n",
       "      <td>40.00</td>\n",
       "    </tr>\n",
       "    <tr>\n",
       "      <th>1137</th>\n",
       "      <td>2060a6aad91dddc84ced6e13c71a2a8d</td>\n",
       "      <td>27</td>\n",
       "      <td>27.00</td>\n",
       "      <td>1.00</td>\n",
       "      <td>27</td>\n",
       "      <td>1.00</td>\n",
       "      <td>1.00</td>\n",
       "      <td>3.00</td>\n",
       "      <td>78</td>\n",
       "      <td>78</td>\n",
       "      <td>1.00</td>\n",
       "      <td>4800.46</td>\n",
       "      <td>1752.00</td>\n",
       "      <td>6.13</td>\n",
       "      <td>29.20</td>\n",
       "      <td>7cc0cb1871dfd558f11a2885c145d144</td>\n",
       "      <td>0</td>\n",
       "      <td>66</td>\n",
       "      <td>6600</td>\n",
       "      <td>adff56bb2094a25dfe271b847303b474</td>\n",
       "      <td>Weekdays 6am-10pm Weekends 8am-10pm</td>\n",
       "      <td>0.23</td>\n",
       "      <td>2023-10-11 20:00:00</td>\n",
       "      <td>Evening</td>\n",
       "      <td>14.00</td>\n",
       "    </tr>\n",
       "    <tr>\n",
       "      <th>6208</th>\n",
       "      <td>aec607702125277555d366f3074c1ac1</td>\n",
       "      <td>24</td>\n",
       "      <td>24.00</td>\n",
       "      <td>1.00</td>\n",
       "      <td>24</td>\n",
       "      <td>1.00</td>\n",
       "      <td>1.00</td>\n",
       "      <td>3.00</td>\n",
       "      <td>71</td>\n",
       "      <td>68</td>\n",
       "      <td>0.96</td>\n",
       "      <td>8457.75</td>\n",
       "      <td>2588.00</td>\n",
       "      <td>7.31</td>\n",
       "      <td>43.13</td>\n",
       "      <td>7cc0cb1871dfd558f11a2885c145d144</td>\n",
       "      <td>0</td>\n",
       "      <td>57</td>\n",
       "      <td>5700</td>\n",
       "      <td>55264d6b96faccc77a1a95feae549aa1</td>\n",
       "      <td>5am-10pm daily</td>\n",
       "      <td>0.40</td>\n",
       "      <td>2023-10-11 07:20:00</td>\n",
       "      <td>AM Peak</td>\n",
       "      <td>24.00</td>\n",
       "    </tr>\n",
       "    <tr>\n",
       "      <th>5521</th>\n",
       "      <td>9af084eef4a28299f51fd2c948db527b</td>\n",
       "      <td>60</td>\n",
       "      <td>60.00</td>\n",
       "      <td>1.00</td>\n",
       "      <td>60</td>\n",
       "      <td>1.00</td>\n",
       "      <td>1.00</td>\n",
       "      <td>3.00</td>\n",
       "      <td>178</td>\n",
       "      <td>178</td>\n",
       "      <td>1.00</td>\n",
       "      <td>8778.14</td>\n",
       "      <td>7014.00</td>\n",
       "      <td>2.80</td>\n",
       "      <td>116.90</td>\n",
       "      <td>7cc0cb1871dfd558f11a2885c145d144</td>\n",
       "      <td>0</td>\n",
       "      <td>27</td>\n",
       "      <td>2701</td>\n",
       "      <td>40f1c7440e22326c3d1e407eed291c71</td>\n",
       "      <td>5am-10pm daily</td>\n",
       "      <td>0.80</td>\n",
       "      <td>2023-10-11 17:00:00</td>\n",
       "      <td>PM Peak</td>\n",
       "      <td>48.00</td>\n",
       "    </tr>\n",
       "    <tr>\n",
       "      <th>5565</th>\n",
       "      <td>9c43bed79c9df53a6c4721b4cfba4f9f</td>\n",
       "      <td>40</td>\n",
       "      <td>40.00</td>\n",
       "      <td>1.00</td>\n",
       "      <td>40</td>\n",
       "      <td>1.00</td>\n",
       "      <td>1.00</td>\n",
       "      <td>3.00</td>\n",
       "      <td>117</td>\n",
       "      <td>117</td>\n",
       "      <td>1.00</td>\n",
       "      <td>12239.37</td>\n",
       "      <td>2318.00</td>\n",
       "      <td>11.81</td>\n",
       "      <td>38.63</td>\n",
       "      <td>7cc0cb1871dfd558f11a2885c145d144</td>\n",
       "      <td>0</td>\n",
       "      <td>K</td>\n",
       "      <td>9436</td>\n",
       "      <td>72a01bb089970160de498991fe5e858b</td>\n",
       "      <td>5am-12 midnight daily</td>\n",
       "      <td>0.57</td>\n",
       "      <td>2023-10-11 08:01:00</td>\n",
       "      <td>AM Peak</td>\n",
       "      <td>34.00</td>\n",
       "    </tr>\n",
       "    <tr>\n",
       "      <th>647</th>\n",
       "      <td>12c3036fb0e69db39ef1d31ad371a3b8</td>\n",
       "      <td>70</td>\n",
       "      <td>76.00</td>\n",
       "      <td>0.92</td>\n",
       "      <td>74</td>\n",
       "      <td>0.97</td>\n",
       "      <td>0.97</td>\n",
       "      <td>3.00</td>\n",
       "      <td>216</td>\n",
       "      <td>168</td>\n",
       "      <td>0.78</td>\n",
       "      <td>14418.18</td>\n",
       "      <td>5284.00</td>\n",
       "      <td>6.10</td>\n",
       "      <td>88.07</td>\n",
       "      <td>7cc0cb1871dfd558f11a2885c145d144</td>\n",
       "      <td>1</td>\n",
       "      <td>KBUS</td>\n",
       "      <td>232</td>\n",
       "      <td>1704e0d76f00ff2b3b6a3b81d72e66f5</td>\n",
       "      <td>Weekdays 5am-6am Weekends 5am-8am</td>\n",
       "      <td>0.85</td>\n",
       "      <td>2023-10-11 05:00:00</td>\n",
       "      <td>Early AM</td>\n",
       "      <td>51.00</td>\n",
       "    </tr>\n",
       "  </tbody>\n",
       "</table>\n",
       "</div>"
      ],
      "text/plain": [
       "                     trip_instance_key  atleast2_trip_updates  \\\n",
       "8933  fa6dd9a0b27192b3265c8a682fcab577                     44   \n",
       "6892  c20d99bc2d6cd8497a025103a38bac8a                     60   \n",
       "2680  4c17c7b6c42aa6f0f38cb2c568f90ad7                     70   \n",
       "510   0ed3dd6cadda74a50f8e15cb06946c48                     45   \n",
       "8939  fa8f89174e9ff2635fbe1ab6306bb7ea                     45   \n",
       "1137  2060a6aad91dddc84ced6e13c71a2a8d                     27   \n",
       "6208  aec607702125277555d366f3074c1ac1                     24   \n",
       "5521  9af084eef4a28299f51fd2c948db527b                     60   \n",
       "5565  9c43bed79c9df53a6c4721b4cfba4f9f                     40   \n",
       "647   12c3036fb0e69db39ef1d31ad371a3b8                     70   \n",
       "\n",
       "      total_trip_time  pct_update_complete  total_minutes_w_gtfs  \\\n",
       "8933            46.00                 0.96                    46   \n",
       "6892            60.00                 1.00                    60   \n",
       "2680            70.00                 1.00                    70   \n",
       "510             45.00                 1.00                    45   \n",
       "8939            46.00                 0.98                    46   \n",
       "1137            27.00                 1.00                    27   \n",
       "6208            24.00                 1.00                    24   \n",
       "5521            60.00                 1.00                    60   \n",
       "5565            40.00                 1.00                    40   \n",
       "647             76.00                 0.92                    74   \n",
       "\n",
       "      pct_of_trip_with_gtfs  pct_of_trip_w_gtfs  avg_pings_per_5_min  \\\n",
       "8933                   1.00                1.00                 3.00   \n",
       "6892                   1.00                1.00                 3.00   \n",
       "2680                   1.00                1.00                 3.00   \n",
       "510                    1.00                1.00                 3.00   \n",
       "8939                   1.00                1.00                 3.00   \n",
       "1137                   1.00                1.00                 3.00   \n",
       "6208                   1.00                1.00                 3.00   \n",
       "5521                   1.00                1.00                 3.00   \n",
       "5565                   1.00                1.00                 3.00   \n",
       "647                    0.97                0.97                 3.00   \n",
       "\n",
       "      total_vp  vp_in_shape  total_vp_in_shape_percentage  meters_elapsed  \\\n",
       "8933       134          121                          0.90         4666.90   \n",
       "6892       178          178                          1.00        10465.34   \n",
       "2680       210          201                          0.96        10465.34   \n",
       "510        134          134                          1.00        10586.49   \n",
       "8939       136          136                          1.00        11494.87   \n",
       "1137        78           78                          1.00         4800.46   \n",
       "6208        71           68                          0.96         8457.75   \n",
       "5521       178          178                          1.00         8778.14   \n",
       "5565       117          117                          1.00        12239.37   \n",
       "647        216          168                          0.78        14418.18   \n",
       "\n",
       "      sec_elapsed  speed_mph  rt_trip_min         schedule_gtfs_dataset_key  \\\n",
       "8933      2407.00       4.34        40.12  7cc0cb1871dfd558f11a2885c145d144   \n",
       "6892      6198.00       3.78       103.30  7cc0cb1871dfd558f11a2885c145d144   \n",
       "2680      3550.00       6.59        59.17  7cc0cb1871dfd558f11a2885c145d144   \n",
       "510       5234.00       4.52        87.23  7cc0cb1871dfd558f11a2885c145d144   \n",
       "8939      2399.00      10.72        39.98  7cc0cb1871dfd558f11a2885c145d144   \n",
       "1137      1752.00       6.13        29.20  7cc0cb1871dfd558f11a2885c145d144   \n",
       "6208      2588.00       7.31        43.13  7cc0cb1871dfd558f11a2885c145d144   \n",
       "5521      7014.00       2.80       116.90  7cc0cb1871dfd558f11a2885c145d144   \n",
       "5565      2318.00      11.81        38.63  7cc0cb1871dfd558f11a2885c145d144   \n",
       "647       5284.00       6.10        88.07  7cc0cb1871dfd558f11a2885c145d144   \n",
       "\n",
       "      direction_id route_id common_shape_id                   shape_array_key  \\\n",
       "8933             1        1             152  e3fe7a7916a145078a6f6bd59cb42cc9   \n",
       "6892             0      38R           13800  7cc77a4cdfa2a4fa0694addee4665b51   \n",
       "2680             0      38R           13800  7cc77a4cdfa2a4fa0694addee4665b51   \n",
       "510              1       38            3851  e2f53e4455f4ed7d5aee6216c14c6e9f   \n",
       "8939             1       31            3151  54882fdb83a0a8de4e0990b14c944a17   \n",
       "1137             0       66            6600  adff56bb2094a25dfe271b847303b474   \n",
       "6208             0       57            5700  55264d6b96faccc77a1a95feae549aa1   \n",
       "5521             0       27            2701  40f1c7440e22326c3d1e407eed291c71   \n",
       "5565             0        K            9436  72a01bb089970160de498991fe5e858b   \n",
       "647              1     KBUS             232  1704e0d76f00ff2b3b6a3b81d72e66f5   \n",
       "\n",
       "                          route_name_used  service_hours  \\\n",
       "8933                5am-12 midnight daily           0.45   \n",
       "6892   Weekdays 5am-10pm Weekends 6am-9pm           0.75   \n",
       "2680   Weekdays 5am-10pm Weekends 6am-9pm           0.82   \n",
       "510                 24 hour service daily           0.60   \n",
       "8939                       5am-10pm daily           0.67   \n",
       "1137  Weekdays 6am-10pm Weekends 8am-10pm           0.23   \n",
       "6208                       5am-10pm daily           0.40   \n",
       "5521                       5am-10pm daily           0.80   \n",
       "5565                5am-12 midnight daily           0.57   \n",
       "647     Weekdays 5am-6am Weekends 5am-8am           0.85   \n",
       "\n",
       "     trip_first_departure_datetime_pacific time_of_day  service_minutes  \n",
       "8933                   2023-10-11 12:31:00      Midday            27.00  \n",
       "6892                   2023-10-11 09:42:00     AM Peak            45.00  \n",
       "2680                   2023-10-11 17:00:00     PM Peak            49.00  \n",
       "510                    2023-10-12 03:46:00         Owl            36.00  \n",
       "8939                   2023-10-11 05:40:00    Early AM            40.00  \n",
       "1137                   2023-10-11 20:00:00     Evening            14.00  \n",
       "6208                   2023-10-11 07:20:00     AM Peak            24.00  \n",
       "5521                   2023-10-11 17:00:00     PM Peak            48.00  \n",
       "5565                   2023-10-11 08:01:00     AM Peak            34.00  \n",
       "647                    2023-10-11 05:00:00    Early AM            51.00  "
      ]
     },
     "execution_count": 84,
     "metadata": {},
     "output_type": "execute_result"
    }
   ],
   "source": [
    "outer_merge2.sample(10)"
   ]
  },
  {
   "cell_type": "code",
   "execution_count": 83,
   "id": "ef2f0a6f-6e63-4ec0-9aee-e37fd9553bd3",
   "metadata": {},
   "outputs": [
    {
     "name": "stdout",
     "output_type": "stream",
     "text": [
      "<class 'pandas.core.frame.DataFrame'>\n",
      "Int64Index: 9142 entries, 0 to 9141\n",
      "Data columns (total 25 columns):\n",
      " #   Column                                 Non-Null Count  Dtype         \n",
      "---  ------                                 --------------  -----         \n",
      " 0   trip_instance_key                      9142 non-null   object        \n",
      " 1   atleast2_trip_updates                  9142 non-null   int64         \n",
      " 2   total_trip_time                        9142 non-null   float64       \n",
      " 3   pct_update_complete                    9142 non-null   float64       \n",
      " 4   total_minutes_w_gtfs                   9142 non-null   int64         \n",
      " 5   pct_of_trip_with_gtfs                  9142 non-null   float64       \n",
      " 6   pct_of_trip_w_gtfs                     9142 non-null   float64       \n",
      " 7   avg_pings_per_5_min                    9142 non-null   float64       \n",
      " 8   total_vp                               9142 non-null   int32         \n",
      " 9   vp_in_shape                            9142 non-null   int32         \n",
      " 10  total_vp_in_shape_percentage           9142 non-null   float64       \n",
      " 11  meters_elapsed                         9142 non-null   float64       \n",
      " 12  sec_elapsed                            9142 non-null   float64       \n",
      " 13  speed_mph                              9142 non-null   float64       \n",
      " 14  rt_trip_min                            9142 non-null   float64       \n",
      " 15  schedule_gtfs_dataset_key              9142 non-null   object        \n",
      " 16  direction_id                           9142 non-null   Int64         \n",
      " 17  route_id                               9142 non-null   object        \n",
      " 18  common_shape_id                        9142 non-null   object        \n",
      " 19  shape_array_key                        9142 non-null   object        \n",
      " 20  route_name_used                        9142 non-null   object        \n",
      " 21  service_hours                          9142 non-null   float64       \n",
      " 22  trip_first_departure_datetime_pacific  9142 non-null   datetime64[ns]\n",
      " 23  time_of_day                            9142 non-null   object        \n",
      " 24  service_minutes                        9142 non-null   float64       \n",
      "dtypes: Int64(1), datetime64[ns](1), float64(12), int32(2), int64(2), object(7)\n",
      "memory usage: 1.8+ MB\n"
     ]
    }
   ],
   "source": [
    "outer_merge2.info()"
   ]
  }
 ],
 "metadata": {
  "kernelspec": {
   "display_name": "Python 3 (ipykernel)",
   "language": "python",
   "name": "python3"
  },
  "language_info": {
   "codemirror_mode": {
    "name": "ipython",
    "version": 3
   },
   "file_extension": ".py",
   "mimetype": "text/x-python",
   "name": "python",
   "nbconvert_exporter": "python",
   "pygments_lexer": "ipython3",
   "version": "3.9.13"
  }
 },
 "nbformat": 4,
 "nbformat_minor": 5
}
