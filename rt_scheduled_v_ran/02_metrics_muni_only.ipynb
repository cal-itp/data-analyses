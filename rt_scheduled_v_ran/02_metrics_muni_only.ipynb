{
 "cells": [
  {
   "cell_type": "markdown",
   "id": "c410afe6-22d7-4546-817c-fea818954108",
   "metadata": {
    "tags": []
   },
   "source": [
    "# Migrate to VP Usable\n",
    "* https://github.com/cal-itp/data-analyses/issues/936\n",
    "* cd rt_segment_speeds && pip install -r requirements.txt && cd ..\n",
    "    * https://github.com/cal-itp/data-analyses/blob/main/Makefile#L49C2-L49C66\n",
    "    "
   ]
  },
  {
   "cell_type": "code",
   "execution_count": 1,
   "id": "8de007c5-4cdb-4285-9536-0a5f7b75b2de",
   "metadata": {},
   "outputs": [],
   "source": [
    "import datetime\n",
    "\n",
    "import dask\n",
    "import dask.dataframe as dd\n",
    "import dask_geopandas as dg\n",
    "import geopandas as gpd\n",
    "import numpy as np\n",
    "import pandas as pd\n",
    "from calitp_data_analysis.geography_utils import WGS84\n",
    "from scripts import vp_spatial_accuracy\n",
    "from segment_speed_utils import helpers, wrangle_shapes\n",
    "from segment_speed_utils.project_vars import (\n",
    "    COMPILED_CACHED_VIEWS,\n",
    "    CONFIG_PATH,\n",
    "    GCS_FILE_PATH,\n",
    "    PROJECT_CRS,\n",
    "    RT_SCHED_GCS,\n",
    "    SEGMENT_GCS,\n",
    "    analysis_date,\n",
    ")"
   ]
  },
  {
   "cell_type": "code",
   "execution_count": 2,
   "id": "c5ba79eb-2d4e-4daa-9de6-3ab657ac0a15",
   "metadata": {},
   "outputs": [],
   "source": [
    "pd.options.display.max_columns = 100\n",
    "pd.options.display.float_format = \"{:.2f}\".format\n",
    "pd.set_option(\"display.max_rows\", None)\n",
    "pd.set_option(\"display.max_colwidth\", None)"
   ]
  },
  {
   "cell_type": "code",
   "execution_count": 3,
   "id": "d8c8f895-8b72-413a-8ec2-72e7e0ebf29f",
   "metadata": {},
   "outputs": [],
   "source": [
    "# calitp-analytics-data/data-analyses/rt_segment_speeds/vp_usable_2023-10-11\n",
    "operator = \"Bay Area 511 Muni VehiclePositions\"\n",
    "gtfs_key = \"7cc0cb1871dfd558f11a2885c145d144\""
   ]
  },
  {
   "cell_type": "markdown",
   "id": "a3863c86-7f53-4755-8444-534a2f11e59c",
   "metadata": {},
   "source": [
    "## Spatial Accuracy\n",
    "* Based on https://github.com/cal-itp/data-analyses/blob/main/rt_scheduled_v_ran/scripts/vp_spatial_accuracy.py\n",
    "### Grab_shape_keys_in_vp\n",
    "#### First time reading `vp_usable`"
   ]
  },
  {
   "cell_type": "code",
   "execution_count": 4,
   "id": "6bd6833a-7eb4-487a-bb3a-e445a2d1941d",
   "metadata": {},
   "outputs": [],
   "source": [
    "def grab_shape_keys_in_vp(analysis_date: str) -> pd.DataFrame:\n",
    "    \"\"\"\n",
    "    Subset raw vp and find unique trip_instance_keys.\n",
    "    Create crosswalk to link trip_instance_key to shape_array_key.\n",
    "    \"\"\"\n",
    "    vp_trip_df = pd.read_parquet(\n",
    "        f\"{SEGMENT_GCS}vp_usable_{analysis_date}\",\n",
    "        filters=[\n",
    "            [\n",
    "                (\"gtfs_dataset_name\", \"==\", operator),\n",
    "                (\"schedule_gtfs_dataset_key\", \"==\", gtfs_key),\n",
    "            ]\n",
    "        ],\n",
    "        columns=[\"trip_instance_key\"],\n",
    "    )\n",
    "\n",
    "    vp_trip_df = vp_trip_df.drop_duplicates().reset_index(drop=True)\n",
    "\n",
    "    # Make sure we have a shape geometry too\n",
    "    # otherwise map_partitions will throw error\n",
    "    shapes = (\n",
    "        pd.read_parquet(\n",
    "            f\"{COMPILED_CACHED_VIEWS}routelines_{analysis_date}.parquet\",\n",
    "            columns=[\"shape_array_key\"],\n",
    "        )\n",
    "        .dropna()\n",
    "        .drop_duplicates()\n",
    "    )\n",
    "\n",
    "    trips_with_shape = (\n",
    "        helpers.import_scheduled_trips(\n",
    "            analysis_date,\n",
    "            columns=[\"trip_instance_key\", \"shape_array_key\"],\n",
    "            get_pandas=True,\n",
    "        )\n",
    "        .merge(shapes, on=\"shape_array_key\", how=\"inner\")\n",
    "        .merge(vp_trip_df, on=\"trip_instance_key\", how=\"inner\")\n",
    "        .drop_duplicates()\n",
    "        .dropna()\n",
    "        .reset_index(drop=True)\n",
    "    )\n",
    "\n",
    "    return trips_with_shape"
   ]
  },
  {
   "cell_type": "code",
   "execution_count": 5,
   "id": "8759e976-ea60-4604-945d-1ec9693b0495",
   "metadata": {},
   "outputs": [],
   "source": [
    "trips_with_shape = grab_shape_keys_in_vp(analysis_date)"
   ]
  },
  {
   "cell_type": "code",
   "execution_count": 6,
   "id": "bbbc85b4-a588-4f20-9822-eb4d5b4b3723",
   "metadata": {},
   "outputs": [
    {
     "data": {
      "text/plain": [
       "(9240, 2)"
      ]
     },
     "execution_count": 6,
     "metadata": {},
     "output_type": "execute_result"
    }
   ],
   "source": [
    "trips_with_shape.shape"
   ]
  },
  {
   "cell_type": "code",
   "execution_count": 7,
   "id": "c37cb5b8-0c8e-4dc4-b6ea-2c9cd2aa4e0a",
   "metadata": {},
   "outputs": [
    {
     "name": "stdout",
     "output_type": "stream",
     "text": [
      "<class 'pandas.core.frame.DataFrame'>\n",
      "RangeIndex: 9240 entries, 0 to 9239\n",
      "Data columns (total 2 columns):\n",
      " #   Column             Non-Null Count  Dtype \n",
      "---  ------             --------------  ----- \n",
      " 0   trip_instance_key  9240 non-null   object\n",
      " 1   shape_array_key    9240 non-null   object\n",
      "dtypes: object(2)\n",
      "memory usage: 144.5+ KB\n"
     ]
    }
   ],
   "source": [
    "trips_with_shape.info()"
   ]
  },
  {
   "cell_type": "code",
   "execution_count": 8,
   "id": "34f69e0d-68c8-4b8e-8b82-8318672d0f4d",
   "metadata": {},
   "outputs": [
    {
     "data": {
      "text/html": [
       "<div>\n",
       "<style scoped>\n",
       "    .dataframe tbody tr th:only-of-type {\n",
       "        vertical-align: middle;\n",
       "    }\n",
       "\n",
       "    .dataframe tbody tr th {\n",
       "        vertical-align: top;\n",
       "    }\n",
       "\n",
       "    .dataframe thead th {\n",
       "        text-align: right;\n",
       "    }\n",
       "</style>\n",
       "<table border=\"1\" class=\"dataframe\">\n",
       "  <thead>\n",
       "    <tr style=\"text-align: right;\">\n",
       "      <th></th>\n",
       "      <th>trip_instance_key</th>\n",
       "      <th>shape_array_key</th>\n",
       "    </tr>\n",
       "  </thead>\n",
       "  <tbody>\n",
       "    <tr>\n",
       "      <th>0</th>\n",
       "      <td>12de3d260e9fe09fa878cb4cdb2d6898</td>\n",
       "      <td>749b225ca6691f77914e88577dc13e68</td>\n",
       "    </tr>\n",
       "    <tr>\n",
       "      <th>1</th>\n",
       "      <td>934aea5748bce830ffc2fa88dc01402a</td>\n",
       "      <td>749b225ca6691f77914e88577dc13e68</td>\n",
       "    </tr>\n",
       "    <tr>\n",
       "      <th>2</th>\n",
       "      <td>3d06fa8e68e4f38d3ccc7adfabb5c3d9</td>\n",
       "      <td>f1a7410fae06937b7183f6a553707915</td>\n",
       "    </tr>\n",
       "    <tr>\n",
       "      <th>3</th>\n",
       "      <td>34109ad8cfeca83cd459d42c7d51d602</td>\n",
       "      <td>f1a7410fae06937b7183f6a553707915</td>\n",
       "    </tr>\n",
       "    <tr>\n",
       "      <th>4</th>\n",
       "      <td>34acd907ae9d5eb5456d683d2458bbc6</td>\n",
       "      <td>f1a7410fae06937b7183f6a553707915</td>\n",
       "    </tr>\n",
       "  </tbody>\n",
       "</table>\n",
       "</div>"
      ],
      "text/plain": [
       "                  trip_instance_key                   shape_array_key\n",
       "0  12de3d260e9fe09fa878cb4cdb2d6898  749b225ca6691f77914e88577dc13e68\n",
       "1  934aea5748bce830ffc2fa88dc01402a  749b225ca6691f77914e88577dc13e68\n",
       "2  3d06fa8e68e4f38d3ccc7adfabb5c3d9  f1a7410fae06937b7183f6a553707915\n",
       "3  34109ad8cfeca83cd459d42c7d51d602  f1a7410fae06937b7183f6a553707915\n",
       "4  34acd907ae9d5eb5456d683d2458bbc6  f1a7410fae06937b7183f6a553707915"
      ]
     },
     "execution_count": 8,
     "metadata": {},
     "output_type": "execute_result"
    }
   ],
   "source": [
    "trips_with_shape.head()"
   ]
  },
  {
   "cell_type": "markdown",
   "id": "8be73ca3-7ca2-4616-9504-7defe86f3792",
   "metadata": {},
   "source": [
    "### Buffer shapes"
   ]
  },
  {
   "cell_type": "code",
   "execution_count": 9,
   "id": "ca9923a7-914f-43ce-a840-a15d41b43aee",
   "metadata": {},
   "outputs": [],
   "source": [
    "# This is trips_with_shape_geom\n",
    "trips_with_shape_geom = vp_spatial_accuracy.buffer_shapes(\n",
    "    analysis_date, trips_with_shape, 35\n",
    ")"
   ]
  },
  {
   "cell_type": "code",
   "execution_count": 10,
   "id": "caf4dd49-4839-475d-99ff-7765ef5fb20a",
   "metadata": {},
   "outputs": [
    {
     "data": {
      "text/plain": [
       "(9240, 3)"
      ]
     },
     "execution_count": 10,
     "metadata": {},
     "output_type": "execute_result"
    }
   ],
   "source": [
    "trips_with_shape_geom.shape"
   ]
  },
  {
   "cell_type": "code",
   "execution_count": 11,
   "id": "a4976da4-316e-4e32-9106-43ac14e97824",
   "metadata": {},
   "outputs": [
    {
     "name": "stdout",
     "output_type": "stream",
     "text": [
      "<class 'geopandas.geodataframe.GeoDataFrame'>\n",
      "Int64Index: 9240 entries, 0 to 9239\n",
      "Data columns (total 3 columns):\n",
      " #   Column             Non-Null Count  Dtype   \n",
      "---  ------             --------------  -----   \n",
      " 0   shape_array_key    9240 non-null   object  \n",
      " 1   geometry           9240 non-null   geometry\n",
      " 2   trip_instance_key  9240 non-null   object  \n",
      "dtypes: geometry(1), object(2)\n",
      "memory usage: 288.8+ KB\n"
     ]
    }
   ],
   "source": [
    "trips_with_shape_geom.info()"
   ]
  },
  {
   "cell_type": "code",
   "execution_count": 12,
   "id": "f470902d-1b94-4cbd-81b0-5f67494027fa",
   "metadata": {},
   "outputs": [
    {
     "data": {
      "text/plain": [
       "Index(['shape_array_key', 'geometry', 'trip_instance_key'], dtype='object')"
      ]
     },
     "execution_count": 12,
     "metadata": {},
     "output_type": "execute_result"
    }
   ],
   "source": [
    "trips_with_shape_geom.columns"
   ]
  },
  {
   "cell_type": "markdown",
   "id": "fc115ac6-2042-4565-9ac7-bd961339f8aa",
   "metadata": {},
   "source": [
    "#### Second time reading in the same file, streamline"
   ]
  },
  {
   "cell_type": "code",
   "execution_count": 13,
   "id": "beaddbc2-fd11-4021-bdf0-7eea81835226",
   "metadata": {},
   "outputs": [],
   "source": [
    "vp = dd.read_parquet(\n",
    "    f\"{SEGMENT_GCS}vp_usable_{analysis_date}\",\n",
    "    filters=[\n",
    "        [\n",
    "            (\"gtfs_dataset_name\", \"==\", operator),\n",
    "            (\"schedule_gtfs_dataset_key\", \"==\", gtfs_key),\n",
    "        ]\n",
    "    ],\n",
    ")"
   ]
  },
  {
   "cell_type": "markdown",
   "id": "384c1e89-0b57-49dd-aaa0-69ea03e25b23",
   "metadata": {},
   "source": [
    "### Full function"
   ]
  },
  {
   "cell_type": "code",
   "execution_count": 14,
   "id": "79fe772c-74db-49e7-b41d-e1daa3f23ee3",
   "metadata": {},
   "outputs": [],
   "source": [
    "def merge_vp_with_shape_and_count(\n",
    "    vp: dd.DataFrame, trips_with_shape_geom: gpd.GeoDataFrame\n",
    ") -> gpd.GeoDataFrame:\n",
    "    \"\"\"\n",
    "    Merge vp with crosswalk and buffered shapes.\n",
    "    Get vp count totals and vp within shape.\n",
    "    \"\"\"\n",
    "    # COMMENT BACK IN ONCE I MERGE WITH MAIN\n",
    "    # vp_gdf = wrangle_shapes.vp_as_gdf(vp)\n",
    "\n",
    "    vp_gdf = gpd.GeoDataFrame(\n",
    "        vp, geometry=gpd.points_from_xy(vp.x, vp.y), crs=WGS84\n",
    "    ).to_crs(PROJECT_CRS)\n",
    "\n",
    "    vp_gdf = vp_gdf.rename(\n",
    "        columns={\n",
    "            0: \"gtfs_dataset_name\",\n",
    "            1: \"schedule_gtfs_dataset_key\",\n",
    "            2: \"trip_id\",\n",
    "            3: \"trip_instance_key\",\n",
    "            4: \"location_timestamp\",\n",
    "            5: \"location_timestamp_local\",\n",
    "            6: \"x\",\n",
    "            7: \"y\",\n",
    "            8: \"vp_idx\",\n",
    "            9: \"gtfs_dataset_key\",\n",
    "            10: \"vp_dir_xnorm\",\n",
    "            11: \"vp_dir_ynorm\",\n",
    "            12: \"vp_primary_direction\",\n",
    "        }\n",
    "    )\n",
    "\n",
    "    vp2 = pd.merge(\n",
    "        vp_gdf, trips_with_shape_geom, on=\"trip_instance_key\", how=\"inner\"\n",
    "    ).reset_index(drop=True)\n",
    "\n",
    "    total_vp = vp_spatial_accuracy.total_vp_counts_by_trip(vp2)\n",
    "\n",
    "    vp2 = vp2.assign(is_within=vp2.geometry_x.within(vp2.geometry_y)).query(\n",
    "        \"is_within==True\"\n",
    "    )\n",
    "\n",
    "    vps_in_shape = (\n",
    "        vp2.groupby(\"trip_instance_key\", observed=True, group_keys=False)\n",
    "        .agg({\"location_timestamp_local\": \"count\"})\n",
    "        .reset_index()\n",
    "        .rename(columns={\"location_timestamp_local\": \"vp_in_shape\"})\n",
    "    )\n",
    "\n",
    "    count_df = pd.merge(total_vp, vps_in_shape, on=\"trip_instance_key\", how=\"left\")\n",
    "\n",
    "    count_df = count_df.assign(\n",
    "        vp_in_shape=count_df.vp_in_shape.fillna(0).astype(\"int32\"),\n",
    "        total_vp=count_df.total_vp.fillna(0).astype(\"int32\"),\n",
    "    )\n",
    "\n",
    "    count_df[\"total_vp_in_shape_pct\"] = count_df.vp_in_shape / count_df.total_vp * 100\n",
    "\n",
    "    return count_df"
   ]
  },
  {
   "cell_type": "code",
   "execution_count": 15,
   "id": "561287f4-8189-441c-881c-1f34fc43e7d5",
   "metadata": {},
   "outputs": [],
   "source": [
    "muni = merge_vp_with_shape_and_count(vp, trips_with_shape_geom)"
   ]
  },
  {
   "cell_type": "code",
   "execution_count": 16,
   "id": "bcaa5da2-21a5-4c87-825a-fa2637ef9b8f",
   "metadata": {},
   "outputs": [
    {
     "data": {
      "text/plain": [
       "count   9240.00\n",
       "mean     161.87\n",
       "std       64.06\n",
       "min        0.00\n",
       "25%      118.00\n",
       "50%      167.00\n",
       "75%      207.00\n",
       "max      481.00\n",
       "Name: vp_in_shape, dtype: float64"
      ]
     },
     "execution_count": 16,
     "metadata": {},
     "output_type": "execute_result"
    }
   ],
   "source": [
    "muni.vp_in_shape.describe()"
   ]
  },
  {
   "cell_type": "code",
   "execution_count": 17,
   "id": "d44351ef-4390-46a0-9008-47820d4e9285",
   "metadata": {},
   "outputs": [
    {
     "name": "stdout",
     "output_type": "stream",
     "text": [
      "<class 'pandas.core.frame.DataFrame'>\n",
      "Int64Index: 9240 entries, 0 to 9239\n",
      "Data columns (total 4 columns):\n",
      " #   Column                 Non-Null Count  Dtype  \n",
      "---  ------                 --------------  -----  \n",
      " 0   trip_instance_key      9240 non-null   object \n",
      " 1   total_vp               9240 non-null   int32  \n",
      " 2   vp_in_shape            9240 non-null   int32  \n",
      " 3   total_vp_in_shape_pct  9240 non-null   float64\n",
      "dtypes: float64(1), int32(2), object(1)\n",
      "memory usage: 288.8+ KB\n"
     ]
    }
   ],
   "source": [
    "muni.info()"
   ]
  },
  {
   "cell_type": "code",
   "execution_count": 18,
   "id": "3504f86b-08bd-4a8d-b810-e654dd911c06",
   "metadata": {},
   "outputs": [
    {
     "data": {
      "text/plain": [
       "9240"
      ]
     },
     "execution_count": 18,
     "metadata": {},
     "output_type": "execute_result"
    }
   ],
   "source": [
    "muni.trip_instance_key.nunique()"
   ]
  },
  {
   "cell_type": "code",
   "execution_count": 19,
   "id": "4b0f141c-e583-4bb2-a3a7-f059e27a66fc",
   "metadata": {},
   "outputs": [
    {
     "data": {
      "text/plain": [
       "count   9240.00\n",
       "mean       0.93\n",
       "std        0.14\n",
       "min        0.00\n",
       "25%        0.94\n",
       "50%        1.00\n",
       "75%        1.00\n",
       "max        1.00\n",
       "dtype: float64"
      ]
     },
     "execution_count": 19,
     "metadata": {},
     "output_type": "execute_result"
    }
   ],
   "source": [
    "(muni.vp_in_shape / muni.total_vp).describe()"
   ]
  },
  {
   "cell_type": "code",
   "execution_count": 20,
   "id": "0ca6716e-248c-4702-bcaa-f1dd054f0013",
   "metadata": {},
   "outputs": [
    {
     "data": {
      "text/plain": [
       "count   9240.00\n",
       "mean      93.34\n",
       "std       13.91\n",
       "min        0.00\n",
       "25%       94.15\n",
       "50%      100.00\n",
       "75%      100.00\n",
       "max      100.00\n",
       "Name: total_vp_in_shape_pct, dtype: float64"
      ]
     },
     "execution_count": 20,
     "metadata": {},
     "output_type": "execute_result"
    }
   ],
   "source": [
    "muni.total_vp_in_shape_pct.describe()"
   ]
  },
  {
   "cell_type": "markdown",
   "id": "19a20f72-8a90-4823-8cc5-32f91ae1286d",
   "metadata": {
    "tags": []
   },
   "source": [
    "## Update Completeness\n",
    "* https://github.com/cal-itp/data-analyses/blob/main/rt_predictions/01_update_completeness.ipynb\n",
    "\n",
    "#### Keep only relevant `trips instance keys`?\n",
    "* Trips have certain attributes: name, key, gtfs key, etc in addition to trip instance key\n",
    "* Start from `vp_usable` join to `shapes` as first pass and get total positions in, add a column that counts counts number of pings\n",
    "* Read dataset in once, derive a bunch of rows. \n",
    "* I have 100 vps for one trip -> turn the trip into one row with summary statistics\n",
    "* Pass output of dataset into three different ways\n",
    "* Each pass will summarize vp-usable from thousands of rows to just one per trip\n",
    "* Pass `vp_usable` into three different functions.\n",
    "* Final step: merge all on trips.\n",
    "* Each function is individual, can be pandas."
   ]
  },
  {
   "cell_type": "code",
   "execution_count": 21,
   "id": "b2e0fa2d-089d-49a5-ab20-a8ef65925795",
   "metadata": {},
   "outputs": [],
   "source": [
    "# Only use the trips with shapes.\n",
    "relevant_trips = list(muni.trip_instance_key.unique())"
   ]
  },
  {
   "cell_type": "markdown",
   "id": "0e0e963e-ce3a-43bd-b5eb-209af2524e0f",
   "metadata": {},
   "source": [
    "#### Third time reading in `vp_usable`"
   ]
  },
  {
   "cell_type": "markdown",
   "id": "e9360550-2b92-406e-a37e-48347fec849d",
   "metadata": {},
   "source": [
    "#### Density\n",
    "\n",
    "6ef4805f0104b95614b86a2b1c374d23\n",
    "* Minutes skipped: 6:12 to 6:18\n",
    "* 6:19-6:26\n",
    "* 6:28-7:33 etc etc\n",
    "* Trip started at 5:48, ended at 8:31 \n",
    "\n",
    "Can also check w/ 38247cbee93b6f85d58bf1812ae553b9\n",
    "* Began at 16:01:00, end at 17:00:000\n",
    "* Skips having data: jumps from 4:38 to 4:54\n",
    "    * Trip: know the min and the max \n",
    "    * Bin the minutes: everything else between 4:38 to 4:54 can't be binned. \n",
    "    * Dem: gap between max and min \n",
    "* Vp doesn't necessarily update every minute \n",
    "* TO DO\n",
    "    * Correct trip duration numerator: average pings per minute or ten minutes or five minutes...Help us understand coverage.  \n",
    "    * How to express time lapses: time deletas in pandas"
   ]
  },
  {
   "cell_type": "code",
   "execution_count": 22,
   "id": "845ad61c-eab0-40c9-9e50-09c35bd50a73",
   "metadata": {},
   "outputs": [],
   "source": [
    "completeness_cols = [\n",
    "    \"vp_idx\",\n",
    "    \"location_timestamp_local\",\n",
    "    \"trip_instance_key\",\n",
    "    \"gtfs_dataset_key\",\n",
    "]"
   ]
  },
  {
   "cell_type": "code",
   "execution_count": 23,
   "id": "88b571f2-624c-47aa-a154-286902fa4a96",
   "metadata": {},
   "outputs": [],
   "source": [
    "vp_filtered = pd.read_parquet(\n",
    "    f\"{SEGMENT_GCS}vp_usable_{analysis_date}\",\n",
    "    columns=completeness_cols,\n",
    "    filters=[\n",
    "        [\n",
    "            (\"gtfs_dataset_name\", \"==\", operator),\n",
    "            (\"schedule_gtfs_dataset_key\", \"==\", gtfs_key),\n",
    "            (\"trip_instance_key\", \"in\", relevant_trips),\n",
    "        ]\n",
    "    ],\n",
    ")"
   ]
  },
  {
   "cell_type": "code",
   "execution_count": 24,
   "id": "808807fc-f36d-4b31-abec-4aa01a6f56c0",
   "metadata": {},
   "outputs": [],
   "source": [
    "def pct_of_pings(df: pd.DataFrame):\n",
    "\n",
    "    # Determine which rows have 2+ pings per minute\n",
    "    df2 = df.assign(\n",
    "        atleast2_trip_updates=df.apply(\n",
    "            lambda x: 1 if x.number_of_pings_per_minute >= 2 else 0, axis=1\n",
    "        )\n",
    "    )\n",
    "\n",
    "    # Calculate total trip time\n",
    "    df2[\"max_time\"] = df2.location_timestamp_local\n",
    "    df3 = (\n",
    "        df2.groupby([\"trip_instance_key\"])\n",
    "        .agg(\n",
    "            {\n",
    "                \"location_timestamp_local\": \"min\",\n",
    "                \"max_time\": \"max\",\n",
    "                \"atleast2_trip_updates\": \"sum\",\n",
    "            }\n",
    "        )\n",
    "        .reset_index()\n",
    "        .rename(columns={\"location_timestamp_local\": \"min_time\"})\n",
    "    )\n",
    "\n",
    "    # Add an extra minute\n",
    "    df3[\"total_trip_time\"] = (df3.max_time - df3.min_time) / pd.Timedelta(minutes=1) + 1\n",
    "\n",
    "    # Find % of each trip in which one minute has 2+ pings\n",
    "    df3 = df3.assign(\n",
    "        pct_with_2_pings_per_min=df3.atleast2_trip_updates.divide(df3.total_trip_time)\n",
    "        * 100\n",
    "    )\n",
    "\n",
    "    return df3"
   ]
  },
  {
   "cell_type": "code",
   "execution_count": 25,
   "id": "2833ed78-8413-426e-ae13-7549159e4121",
   "metadata": {},
   "outputs": [],
   "source": [
    "def density_of_pings(df: pd.DataFrame):\n",
    "\n",
    "    # Count number of pings that occur\n",
    "    # on average per 5 minutes of the trip\n",
    "    df2 = (\n",
    "        df.groupby(\n",
    "            [\n",
    "                *[\"trip_instance_key\"],\n",
    "                pd.Grouper(key=\"location_timestamp_local\", freq=\"5Min\"),\n",
    "            ]\n",
    "        )\n",
    "        .sum()\n",
    "        .reset_index()\n",
    "        .rename(columns={\"number_of_pings_per_minute\": \"number_of_pings_per_5_min\"})\n",
    "    )\n",
    "\n",
    "    df3 = (\n",
    "        df2.groupby([\"trip_instance_key\"])\n",
    "        .agg({\"number_of_pings_per_5_min\": \"median\"})\n",
    "        .reset_index()\n",
    "    )\n",
    "\n",
    "    df3[\"avg_pings_per_5_min\"] = df3.number_of_pings_per_5_min / 5\n",
    "\n",
    "    return df3"
   ]
  },
  {
   "cell_type": "code",
   "execution_count": 26,
   "id": "40842cbd-d615-4c7e-ae00-b6659ef6bd7b",
   "metadata": {},
   "outputs": [],
   "source": [
    "def total_minutes_with_gtfs(df: pd.DataFrame):\n",
    "    \"\"\"\n",
    "    Total minutes of a trip that recorded any\n",
    "    vehicle positions.\n",
    "    \"\"\"\n",
    "    df2 = (\n",
    "        df.groupby([\"trip_instance_key\"])\n",
    "        .agg({\"gtfs_dataset_key\": \"count\"})\n",
    "        .rename(columns={\"gtfs_dataset_key\": \"total_minutes_w_gtfs\"})\n",
    "        .reset_index()\n",
    "    )\n",
    "    return df2"
   ]
  },
  {
   "cell_type": "code",
   "execution_count": 27,
   "id": "72b1805a-dd81-40c1-9b38-17db056be68e",
   "metadata": {},
   "outputs": [],
   "source": [
    "def update_completeness(df: pd.DataFrame):\n",
    "    # Find number of pings per minute for each trip\n",
    "    df = df.sort_values([\"vp_idx\"]).reset_index(drop=True)\n",
    "\n",
    "    df2 = (\n",
    "        df.groupby(\n",
    "            [\n",
    "                *[\"trip_instance_key\"],\n",
    "                pd.Grouper(key=\"location_timestamp_local\", freq=\"1Min\"),\n",
    "            ]\n",
    "        )\n",
    "        .count()\n",
    "        .reset_index()\n",
    "        .rename(columns={\"vp_idx\": \"number_of_pings_per_minute\"})\n",
    "    )\n",
    "\n",
    "    pings_df = pct_of_pings(df2)\n",
    "    density_df = density_of_pings(df2)\n",
    "    total_minutes_df = total_minutes_with_gtfs(df2)\n",
    "\n",
    "    m1 = pings_df.merge(density_df, on=\"trip_instance_key\", how=\"inner\").merge(\n",
    "        total_minutes_df, on=\"trip_instance_key\", how=\"inner\"\n",
    "    )\n",
    "\n",
    "    # m1[\"pct_of_trip_w_gtfs\"] = m1.total_minutes_w_gtfs / m1.total_trip_time * 100\n",
    "    m1 = m1.drop(columns=[\"min_time\", \"max_time\", \"number_of_pings_per_5_min\"])\n",
    "    return m1"
   ]
  },
  {
   "cell_type": "code",
   "execution_count": 28,
   "id": "6c260617-bda5-4b06-9ff7-b01407fc968d",
   "metadata": {},
   "outputs": [],
   "source": [
    "update_completeness_df = update_completeness(vp_filtered)"
   ]
  },
  {
   "cell_type": "code",
   "execution_count": 29,
   "id": "31544a58-1405-4fe5-b8a6-a91742645513",
   "metadata": {},
   "outputs": [
    {
     "data": {
      "text/html": [
       "<div>\n",
       "<style scoped>\n",
       "    .dataframe tbody tr th:only-of-type {\n",
       "        vertical-align: middle;\n",
       "    }\n",
       "\n",
       "    .dataframe tbody tr th {\n",
       "        vertical-align: top;\n",
       "    }\n",
       "\n",
       "    .dataframe thead th {\n",
       "        text-align: right;\n",
       "    }\n",
       "</style>\n",
       "<table border=\"1\" class=\"dataframe\">\n",
       "  <thead>\n",
       "    <tr style=\"text-align: right;\">\n",
       "      <th></th>\n",
       "      <th>trip_instance_key</th>\n",
       "      <th>atleast2_trip_updates</th>\n",
       "      <th>total_trip_time</th>\n",
       "      <th>pct_with_2_pings_per_min</th>\n",
       "      <th>avg_pings_per_5_min</th>\n",
       "      <th>total_minutes_w_gtfs</th>\n",
       "    </tr>\n",
       "  </thead>\n",
       "  <tbody>\n",
       "    <tr>\n",
       "      <th>1870</th>\n",
       "      <td>350860b22af18fe23c8fe1fc268293a9</td>\n",
       "      <td>86</td>\n",
       "      <td>86.00</td>\n",
       "      <td>100.00</td>\n",
       "      <td>3.00</td>\n",
       "      <td>86</td>\n",
       "    </tr>\n",
       "    <tr>\n",
       "      <th>2465</th>\n",
       "      <td>4479c2be170d782986df20ad8593fb12</td>\n",
       "      <td>58</td>\n",
       "      <td>58.00</td>\n",
       "      <td>100.00</td>\n",
       "      <td>3.00</td>\n",
       "      <td>58</td>\n",
       "    </tr>\n",
       "    <tr>\n",
       "      <th>2923</th>\n",
       "      <td>5263c231e44af7edbc241a8eece1b682</td>\n",
       "      <td>67</td>\n",
       "      <td>69.00</td>\n",
       "      <td>97.10</td>\n",
       "      <td>3.00</td>\n",
       "      <td>69</td>\n",
       "    </tr>\n",
       "  </tbody>\n",
       "</table>\n",
       "</div>"
      ],
      "text/plain": [
       "                     trip_instance_key  atleast2_trip_updates  \\\n",
       "1870  350860b22af18fe23c8fe1fc268293a9                     86   \n",
       "2465  4479c2be170d782986df20ad8593fb12                     58   \n",
       "2923  5263c231e44af7edbc241a8eece1b682                     67   \n",
       "\n",
       "      total_trip_time  pct_with_2_pings_per_min  avg_pings_per_5_min  \\\n",
       "1870            86.00                    100.00                 3.00   \n",
       "2465            58.00                    100.00                 3.00   \n",
       "2923            69.00                     97.10                 3.00   \n",
       "\n",
       "      total_minutes_w_gtfs  \n",
       "1870                    86  \n",
       "2465                    58  \n",
       "2923                    69  "
      ]
     },
     "execution_count": 29,
     "metadata": {},
     "output_type": "execute_result"
    }
   ],
   "source": [
    "update_completeness_df.sample(3)"
   ]
  },
  {
   "cell_type": "code",
   "execution_count": 33,
   "id": "ef6c629b-db8a-4394-a4be-50f2217629ee",
   "metadata": {},
   "outputs": [
    {
     "name": "stdout",
     "output_type": "stream",
     "text": [
      "<class 'pandas.core.frame.DataFrame'>\n",
      "Int64Index: 9240 entries, 0 to 9239\n",
      "Data columns (total 6 columns):\n",
      " #   Column                    Non-Null Count  Dtype  \n",
      "---  ------                    --------------  -----  \n",
      " 0   trip_instance_key         9240 non-null   object \n",
      " 1   atleast2_trip_updates     9240 non-null   int64  \n",
      " 2   total_trip_time           9240 non-null   float64\n",
      " 3   pct_with_2_pings_per_min  9240 non-null   float64\n",
      " 4   avg_pings_per_5_min       9240 non-null   float64\n",
      " 5   total_minutes_w_gtfs      9240 non-null   int64  \n",
      "dtypes: float64(3), int64(2), object(1)\n",
      "memory usage: 505.3+ KB\n"
     ]
    }
   ],
   "source": [
    "update_completeness_df.info()"
   ]
  },
  {
   "cell_type": "code",
   "execution_count": 31,
   "id": "263e407d-3d4f-4508-8efa-7d5818d245b1",
   "metadata": {},
   "outputs": [],
   "source": [
    "# update_completeness_df.pct_of_trip_w_gtfs.describe()"
   ]
  },
  {
   "cell_type": "code",
   "execution_count": 32,
   "id": "d5bc77a1-d2e9-4ff4-8fda-d5e7b7484149",
   "metadata": {},
   "outputs": [
    {
     "data": {
      "text/plain": [
       "count   9240.00\n",
       "mean       2.96\n",
       "std        0.18\n",
       "min        0.30\n",
       "25%        3.00\n",
       "50%        3.00\n",
       "75%        3.00\n",
       "max        3.00\n",
       "Name: avg_pings_per_5_min, dtype: float64"
      ]
     },
     "execution_count": 32,
     "metadata": {},
     "output_type": "execute_result"
    }
   ],
   "source": [
    "update_completeness_df.avg_pings_per_5_min.describe()"
   ]
  },
  {
   "cell_type": "code",
   "execution_count": null,
   "id": "560d3543-cf1e-4b6d-8378-8a45ba0e2067",
   "metadata": {},
   "outputs": [],
   "source": [
    "update_completeness_df.pct_with_2_pings_per_min.describe()"
   ]
  },
  {
   "cell_type": "markdown",
   "id": "3b61450e-528c-4dab-9582-2bda3343e379",
   "metadata": {},
   "source": [
    "## How many minutes a trip took and the average speeds?"
   ]
  },
  {
   "cell_type": "code",
   "execution_count": null,
   "id": "04575f1c-aad5-4329-a08e-27171b2feb44",
   "metadata": {},
   "outputs": [],
   "source": [
    "vp_filtered.sample()"
   ]
  },
  {
   "cell_type": "code",
   "execution_count": null,
   "id": "83ae24e8-3783-493e-93ed-38ee225a72d8",
   "metadata": {},
   "outputs": [],
   "source": [
    "crosswalk = (\n",
    "    vp_filtered[[\"gtfs_dataset_key\", \"trip_instance_key\"]]\n",
    "    .drop_duplicates()\n",
    "    .reset_index(drop=True)\n",
    ")"
   ]
  },
  {
   "cell_type": "code",
   "execution_count": null,
   "id": "38e46c57-0403-4d1f-8a50-3bf8d332cc54",
   "metadata": {},
   "outputs": [],
   "source": [
    "crosswalk.shape"
   ]
  },
  {
   "cell_type": "code",
   "execution_count": null,
   "id": "d5535a0a-2c40-4ba6-8cc4-3e3ad90f9aef",
   "metadata": {},
   "outputs": [],
   "source": [
    "trip_speeds = pd.read_parquet(\n",
    "    f\"{SEGMENT_GCS}trip_summary/trip_speeds_{analysis_date}.parquet\",\n",
    "    columns=[\n",
    "        \"trip_instance_key\",\n",
    "        \"speed_mph\",\n",
    "        \"route_id\",\n",
    "        \"time_of_day\",\n",
    "        \"service_minutes\",\n",
    "        \"direction_id\",\n",
    "        \"route_name_used\",\n",
    "    ],\n",
    ")"
   ]
  },
  {
   "cell_type": "code",
   "execution_count": null,
   "id": "582917fe-4838-45dd-b50e-2a6eba52e5b1",
   "metadata": {},
   "outputs": [],
   "source": [
    "trip_speeds.sample()"
   ]
  },
  {
   "cell_type": "markdown",
   "id": "23df0f50-53f6-41fb-810d-74a0d708db70",
   "metadata": {},
   "source": [
    "### Average speed questions:\n",
    "* Are we still filtering out trips with overly high/low speeds?\n",
    "* What happens if a route doesn't have an id or used name? How do you merge it back?\n",
    "* DO I still use the average function?\n",
    "    * The results I get are kind of different then when I average "
   ]
  },
  {
   "cell_type": "code",
   "execution_count": null,
   "id": "3bfe26dd-e0f8-4a8b-9ded-82822a1a9129",
   "metadata": {},
   "outputs": [],
   "source": [
    "# Filtered\n",
    "trip_speeds2 = trip_speeds.query(\"speed_mph <= 80\")"
   ]
  },
  {
   "cell_type": "code",
   "execution_count": null,
   "id": "92bb9dd7-584c-49ac-881e-99dd7240d49a",
   "metadata": {},
   "outputs": [],
   "source": [
    "len(trip_speeds), len(trip_speeds2)"
   ]
  },
  {
   "cell_type": "code",
   "execution_count": null,
   "id": "01c12556-c124-417d-b957-da1b3d2c48e5",
   "metadata": {},
   "outputs": [],
   "source": [
    "trip_speeds2.info()"
   ]
  },
  {
   "cell_type": "code",
   "execution_count": null,
   "id": "28328fc4-7195-4c5a-a271-558507e40f01",
   "metadata": {},
   "outputs": [],
   "source": [
    "trip_speeds2.speed_mph.describe()"
   ]
  },
  {
   "cell_type": "code",
   "execution_count": null,
   "id": "aa6ebec0-a3bc-4a88-8728-e963cb517c6d",
   "metadata": {},
   "outputs": [],
   "source": [
    "# HOW are there some that are right only??\n",
    "pd.merge(\n",
    "    trip_speeds2, crosswalk, on=[\"trip_instance_key\"], how=\"outer\", indicator=True\n",
    ")[[\"_merge\"]].value_counts()"
   ]
  },
  {
   "cell_type": "code",
   "execution_count": null,
   "id": "3d643fb1-c33a-4af8-ad4b-9952faef70a1",
   "metadata": {},
   "outputs": [],
   "source": [
    "trip_speeds2 = pd.merge(trip_speeds2, crosswalk, on=[\"trip_instance_key\"], how=\"outer\")"
   ]
  },
  {
   "cell_type": "code",
   "execution_count": null,
   "id": "c469de8d-2e39-4e6d-a895-f507d9fcc01e",
   "metadata": {},
   "outputs": [],
   "source": [
    "len(trip_speeds2), len(trip_speeds)"
   ]
  },
  {
   "cell_type": "code",
   "execution_count": null,
   "id": "91642f4f-8eb4-465f-abfd-223ab4cf8d1e",
   "metadata": {},
   "outputs": [],
   "source": [
    "vp_filtered.sample()"
   ]
  },
  {
   "cell_type": "code",
   "execution_count": null,
   "id": "045c4869-8a6c-4d84-b0e3-11644cdec689",
   "metadata": {},
   "outputs": [],
   "source": [
    "trip_speeds2_muni = trip_speeds2.loc[\n",
    "    trip_speeds2.gtfs_dataset_key == \"c0e3039da063db95ebabd3fe4ee611a4\"\n",
    "]"
   ]
  },
  {
   "cell_type": "code",
   "execution_count": null,
   "id": "5288e4f6-7d2c-449a-a38a-6e5f9b99dab7",
   "metadata": {},
   "outputs": [],
   "source": [
    "trip_speeds2_muni.shape"
   ]
  },
  {
   "cell_type": "code",
   "execution_count": null,
   "id": "5cfaca6c-a827-47b8-833e-0c7effecc678",
   "metadata": {},
   "outputs": [],
   "source": [
    "trip_speeds2_muni.trip_instance_key.nunique()"
   ]
  },
  {
   "cell_type": "code",
   "execution_count": null,
   "id": "8922444c-b012-4f23-a77d-ee36801e75de",
   "metadata": {},
   "outputs": [],
   "source": [
    "# trip_speeds_all  = pd.read_parquet(f\"{SEGMENT_GCS}trip_summary/trip_speeds_{analysis_date}.parquet\",)"
   ]
  },
  {
   "cell_type": "code",
   "execution_count": null,
   "id": "82ca8eb9-a117-4c15-af62-ce20f6009251",
   "metadata": {},
   "outputs": [],
   "source": [
    "# https://github.com/cal-itp/data-analyses/blob/main/rt_segment_speeds/scripts/avg_speeds_by_segment.py#L18C1-L48C17\n",
    "def calculate_avg_speeds(df: pd.DataFrame, group_cols: list) -> pd.DataFrame:\n",
    "    \"\"\"\n",
    "    Calculate the median, 20th, and 80th percentile speeds\n",
    "    by groups.\n",
    "    \"\"\"\n",
    "    # pd.groupby and pd.quantile is so slow\n",
    "    # create our own list of speeds and use np\n",
    "    df2 = (\n",
    "        df.groupby(group_cols, observed=True, group_keys=False)\n",
    "        .agg({\"speed_mph\": lambda x: sorted(list(x))})\n",
    "        .reset_index()\n",
    "        .rename(columns={\"speed_mph\": \"speed_mph_list\"})\n",
    "    )\n",
    "\n",
    "    df2 = df2.assign(\n",
    "        p50_mph=df2.apply(lambda x: np.percentile(x.speed_mph_list, 0.5), axis=1),\n",
    "        n_trips=df2.apply(lambda x: len(x.speed_mph_list), axis=1).astype(\"int\"),\n",
    "        p20_mph=df2.apply(lambda x: np.percentile(x.speed_mph_list, 0.2), axis=1),\n",
    "        p80_mph=df2.apply(lambda x: np.percentile(x.speed_mph_list, 0.8), axis=1),\n",
    "    )\n",
    "\n",
    "    stats = df2.drop(columns=\"speed_mph_list\")\n",
    "\n",
    "    # Clean up for map\n",
    "    speed_cols = [c for c in stats.columns if \"_mph\" in c]\n",
    "    stats[speed_cols] = stats[speed_cols].round(2)\n",
    "\n",
    "    return stats"
   ]
  },
  {
   "cell_type": "code",
   "execution_count": null,
   "id": "e35ba5ef-3ce8-4d49-90da-ef6abecefbfe",
   "metadata": {},
   "outputs": [],
   "source": [
    "peak = calculate_avg_speeds(\n",
    "    trip_speeds2_muni[trip_speeds2_muni.time_of_day.isin([\"AM Peak\", \"PM Peak\"])],\n",
    "    [\"gtfs_dataset_key\", \"route_name_used\", \"route_id\"],\n",
    ")"
   ]
  },
  {
   "cell_type": "code",
   "execution_count": null,
   "id": "50d72ff8-8d23-4ebd-8219-3c85fe1d244f",
   "metadata": {
    "scrolled": true,
    "tags": []
   },
   "outputs": [],
   "source": [
    "all_day = calculate_avg_speeds(\n",
    "    trip_speeds2_muni,\n",
    "    [\"gtfs_dataset_key\", \"route_name_used\", \"route_id\"],\n",
    ")"
   ]
  },
  {
   "cell_type": "code",
   "execution_count": null,
   "id": "3519cb46-60b5-4ae0-bdf1-d46ca25ff30b",
   "metadata": {},
   "outputs": [],
   "source": [
    "trip_speeds2_muni.shape"
   ]
  },
  {
   "cell_type": "code",
   "execution_count": null,
   "id": "eab2e164-8726-4e2d-a381-7f10480a2d55",
   "metadata": {},
   "outputs": [],
   "source": [
    "trip_speeds2_muni.time_of_day.unique()"
   ]
  },
  {
   "cell_type": "code",
   "execution_count": null,
   "id": "345472d1-39dd-4f89-bf3b-04dc826472b0",
   "metadata": {},
   "outputs": [],
   "source": [
    "stats = pd.concat(\n",
    "    [all_day.assign(time_of_day=\"all_day\"), peak.assign(time_of_day=\"peak\")], axis=0\n",
    ")"
   ]
  },
  {
   "cell_type": "code",
   "execution_count": null,
   "id": "d6c74631-6e7d-43d2-ad0f-5c95f13c8aae",
   "metadata": {},
   "outputs": [],
   "source": [
    "stats.sample()"
   ]
  },
  {
   "cell_type": "code",
   "execution_count": null,
   "id": "68ce001a-56b7-49b4-825d-7bbf3494a0b8",
   "metadata": {},
   "outputs": [],
   "source": [
    "trip_speeds2_muni.sample(3)"
   ]
  },
  {
   "cell_type": "code",
   "execution_count": null,
   "id": "21b2ea68-20ee-4d71-9857-f9ff4ae65942",
   "metadata": {},
   "outputs": [],
   "source": [
    "stats2 = pd.merge(\n",
    "    stats,\n",
    "    trip_speeds2_muni.drop(columns=[\"time_of_day\"]),\n",
    "    on=[\"gtfs_dataset_key\", \"route_id\", \"route_name_used\"],\n",
    ")"
   ]
  },
  {
   "cell_type": "code",
   "execution_count": null,
   "id": "bd95dad7-1a12-402d-b603-a7b95d1e47c7",
   "metadata": {},
   "outputs": [],
   "source": [
    "stats2.loc[(stats2.route_id == \"49\") & (stats2.time_of_day == \"peak\")][\n",
    "    [\"speed_mph\"]\n",
    "].describe()"
   ]
  },
  {
   "cell_type": "code",
   "execution_count": null,
   "id": "ec15fb33-c108-4a62-94ca-06cde75a1d7d",
   "metadata": {
    "scrolled": true,
    "tags": []
   },
   "outputs": [],
   "source": [
    "# stats2.loc[(stats2.route_id == \"5R\") & (stats2.time_of_day != \"all_day\")]"
   ]
  },
  {
   "cell_type": "code",
   "execution_count": null,
   "id": "41e1f98d-5f7a-4c1f-9b73-d5fc3d59c163",
   "metadata": {},
   "outputs": [],
   "source": [
    "stats2.trip_instance_key.nunique()"
   ]
  },
  {
   "cell_type": "code",
   "execution_count": null,
   "id": "fb738124-ff73-42a1-879c-89e6f4036e2b",
   "metadata": {},
   "outputs": [],
   "source": [
    "stats2.shape"
   ]
  },
  {
   "cell_type": "code",
   "execution_count": null,
   "id": "05941ed7-6fdb-4f2b-af7f-efa4a385d177",
   "metadata": {},
   "outputs": [],
   "source": [
    "stats2.columns"
   ]
  },
  {
   "cell_type": "code",
   "execution_count": null,
   "id": "ddd3da96-0faa-45d1-9687-7e626c4107f7",
   "metadata": {},
   "outputs": [],
   "source": [
    "update_completeness_df.columns"
   ]
  },
  {
   "cell_type": "markdown",
   "id": "69d4639b-a9e9-44d0-8398-3aca1a0a11ff",
   "metadata": {},
   "source": [
    "## Outer Join\n",
    "* Add scheduled trips:\n",
    "\n",
    "    * How to use map partitions\n",
    "        * https://github.com/cal-itp/data-analyses/blob/main/rt_segment_speeds/scripts/shapely_project_vp.py#L61\n",
    "    * https://github.com/cal-itp/data-analyses/blob/main/rt_segment_speeds/scripts/avg_speeds_by_segment.py\n",
    "    * https://github.com/cal-itp/data-analyses/blob/main/rt_segment_speeds/scripts/config.yml"
   ]
  },
  {
   "cell_type": "code",
   "execution_count": null,
   "id": "503f963a-1ace-48d4-9040-4d6144f5a57e",
   "metadata": {},
   "outputs": [],
   "source": [
    "update_completeness_df.shape"
   ]
  },
  {
   "cell_type": "code",
   "execution_count": null,
   "id": "ec69af8b-b1e1-4c41-a68b-4d2c44ec00a1",
   "metadata": {},
   "outputs": [],
   "source": [
    "muni.shape"
   ]
  },
  {
   "cell_type": "code",
   "execution_count": null,
   "id": "f5123bd4-06fc-4f34-8d01-223d70b16008",
   "metadata": {},
   "outputs": [],
   "source": [
    "# Inner merge for now b/c only SF Muni\n",
    "m1 = muni.merge(update_completeness_df, on=\"trip_instance_key\", how=\"outer\")"
   ]
  },
  {
   "cell_type": "markdown",
   "id": "bea51126-981b-4896-95ec-08491db443d5",
   "metadata": {},
   "source": [
    "#### TO DO: stats2 merges to 18,000 rows from 9000 because of change in peak...find a way to get it back to normal"
   ]
  },
  {
   "cell_type": "code",
   "execution_count": null,
   "id": "c1f10366-e07b-4aeb-87e7-62114113028f",
   "metadata": {},
   "outputs": [],
   "source": [
    "test = m1.merge(stats2, on = \"trip_instance_key\", how = \"inner\")"
   ]
  },
  {
   "cell_type": "code",
   "execution_count": null,
   "id": "31531fc4-afc0-48ff-a56e-4fec5110f259",
   "metadata": {},
   "outputs": [],
   "source": [
    "test.shape"
   ]
  },
  {
   "cell_type": "code",
   "execution_count": null,
   "id": "1177264e-2da4-4047-896e-a3b91c1e87e7",
   "metadata": {},
   "outputs": [],
   "source": [
    "# m1 = m1.drop(columns = ['gtfs_dataset_key'])"
   ]
  },
  {
   "cell_type": "code",
   "execution_count": null,
   "id": "517493d4-8ced-4cde-88f4-fac76df7ef5a",
   "metadata": {},
   "outputs": [],
   "source": [
    "m1.shape"
   ]
  },
  {
   "cell_type": "code",
   "execution_count": null,
   "id": "5f3b2e81-84ac-4e65-9582-b36b7d93bf6c",
   "metadata": {},
   "outputs": [],
   "source": [
    "m1.columns"
   ]
  },
  {
   "cell_type": "markdown",
   "id": "089c2b24-2f0b-4506-b715-ca72583daad0",
   "metadata": {},
   "source": [
    "## More Metrics\n",
    "### Trip Timeliness\n",
    "* A trip that was scheduled to run 46 minutes but took 43 minutes per GTFS is 5% faster\n",
    "* A trip scheduled to run 82 minutes but ran 138 minutes is 70% slower.\n",
    "* Median: a trip is around 35% longer than what it is scheduled to take\n",
    "* Instead of using minutes, which can be arbitrary. A trip that was scheduled for 30 minutes and runs 15 minutes late makes a bigger difference than a trip shceduled for 90 minutes and runs 15 minutes late. Trying to capture this nuance.\n",
    "\n",
    "To think about\n",
    "* A trip can be faster than scheduled, but some of the rows are dramatically faster (above 70%) because it collected only 15 minutes of data when the trip is scheduled for 50 minutes. Obviously the trip can't go that quickly...How to account for this?"
   ]
  },
  {
   "cell_type": "code",
   "execution_count": null,
   "id": "3aafb239-55df-4d0d-902a-26fabdb847b7",
   "metadata": {},
   "outputs": [],
   "source": [
    "m1[\"trip_timeliness_pct\"] = (m1.total_trip_time / m1.service_minutes - 1) * 100"
   ]
  },
  {
   "cell_type": "code",
   "execution_count": null,
   "id": "331c7c3b-09cb-4a69-9c28-08951a2f7077",
   "metadata": {},
   "outputs": [],
   "source": [
    "# (74/69 - 1) * 100"
   ]
  },
  {
   "cell_type": "code",
   "execution_count": null,
   "id": "455caf5d-d5d1-4b79-a459-a0fd61b57e92",
   "metadata": {},
   "outputs": [],
   "source": [
    "m1.trip_timeliness_pct = (m1.trip_timeliness_pct / 5).fillna(0).round().astype(int) * 5"
   ]
  },
  {
   "cell_type": "code",
   "execution_count": null,
   "id": "695ede69-835c-4d32-ac79-e8dec90ed51a",
   "metadata": {},
   "outputs": [],
   "source": [
    "m1.trip_timeliness_pct.describe()"
   ]
  },
  {
   "cell_type": "code",
   "execution_count": null,
   "id": "ea6ebd00-a5e0-45cb-9936-c064cbcb0c90",
   "metadata": {},
   "outputs": [],
   "source": [
    "m1.loc[m1.trip_timeliness_pct < 0].shape"
   ]
  },
  {
   "cell_type": "code",
   "execution_count": null,
   "id": "53f5f895-495c-4686-b892-ae87ff902631",
   "metadata": {},
   "outputs": [],
   "source": [
    "m1.loc[m1.trip_timeliness_pct  < -10].sample()"
   ]
  },
  {
   "cell_type": "code",
   "execution_count": null,
   "id": "2d6b71df-80e9-4fbd-8ac2-e1f55ba04929",
   "metadata": {},
   "outputs": [],
   "source": [
    "m1[[\"trip_timeliness_pct\", \"total_trip_time\", \"service_minutes\"]].head(10)"
   ]
  },
  {
   "cell_type": "code",
   "execution_count": null,
   "id": "f53e0373-1dc0-49c4-8355-e9308ca4a7cc",
   "metadata": {},
   "outputs": [],
   "source": [
    "138/82"
   ]
  },
  {
   "cell_type": "code",
   "execution_count": null,
   "id": "81324a69-9927-425c-80a9-a99b54a9974e",
   "metadata": {},
   "outputs": [],
   "source": [
    "# m1.loc[m1.trip_timeliness_pct == 1350]"
   ]
  },
  {
   "cell_type": "markdown",
   "id": "9fa0a0ae-af41-4804-a2ce-226bfd5d2ca0",
   "metadata": {},
   "source": [
    "### Metric: tracking missing minutes of data.\n",
    "* These trips below for the same operator were scheduled to run 40-50 minutes. Their total trip time is 11-16 minutes long. Each minute captured at least 2 pings, so it seems like nothing is going wrong with the GTFS data collection. However, this is not a complete collection of data.\n",
    "* Maybe redo the completeness??"
   ]
  },
  {
   "cell_type": "code",
   "execution_count": null,
   "id": "6861b2bc-61b2-40fc-bc2a-a17dc3fccb96",
   "metadata": {},
   "outputs": [],
   "source": [
    "m1['service_vs_total_trip_pct'] = (m1.total_trip_time / m1.service_minutes * 100).astype(int)"
   ]
  },
  {
   "cell_type": "code",
   "execution_count": null,
   "id": "f2a84b87-3fe7-4368-a922-3c4543793d45",
   "metadata": {},
   "outputs": [],
   "source": [
    "# Mask any value above 100 \n",
    "m1.service_vs_total_trip_pct = m1.service_vs_total_trip_pct.mask(m1.service_vs_total_trip_pct > 100).fillna(100)"
   ]
  },
  {
   "cell_type": "code",
   "execution_count": null,
   "id": "92dfa5e4-71f2-496b-8c7d-cc80a3bb00ad",
   "metadata": {},
   "outputs": [],
   "source": [
    "m1.service_vs_total_trip_pct.describe()"
   ]
  },
  {
   "cell_type": "code",
   "execution_count": null,
   "id": "3cf0e073-2994-4655-89bf-d6e2efc851fd",
   "metadata": {},
   "outputs": [],
   "source": [
    "m1.loc[m1.trip_timeliness_pct == -75]"
   ]
  },
  {
   "cell_type": "code",
   "execution_count": null,
   "id": "57041815-9307-4475-bcb9-ca90f625d727",
   "metadata": {},
   "outputs": [],
   "source": [
    "m1.loc[m1.service_vs_total_trip_pct != 100].shape"
   ]
  },
  {
   "cell_type": "markdown",
   "id": "1ba228ad-efe5-4e47-94d8-d712a7e179b5",
   "metadata": {},
   "source": [
    "* Figure out a way to distinguish between a trip going faster than scheduled versus missing a lot of GTFS data"
   ]
  },
  {
   "cell_type": "code",
   "execution_count": null,
   "id": "a5a6c441-f136-4817-af9c-f3e117b9fc6a",
   "metadata": {},
   "outputs": [],
   "source": [
    "m1.loc[m1.service_vs_total_trip_pct != 100][['service_vs_total_trip_pct', 'total_trip_time', 'service_minutes', 'trip_timeliness_pct']].head(10)"
   ]
  },
  {
   "cell_type": "code",
   "execution_count": null,
   "id": "d91c5afd-0373-44c3-9083-01f6faff6c30",
   "metadata": {},
   "outputs": [],
   "source": [
    "m1.loc[m1.service_vs_total_trip_pct < 85].shape"
   ]
  },
  {
   "cell_type": "markdown",
   "id": "dd4cec2c-367c-41ed-a945-97201e9fbe99",
   "metadata": {},
   "source": [
    "#### Idea\n",
    "* If a trip is more than x percent faster than scheduled service minutes..correct gtfs density\n",
    "    * However describe is giving overly \"dramatic\" results, like a trip that ran 14 minutes but scheduled for 18 is flagged \n",
    "    * Using 30% as an arbitrary threshold \n",
    "* Can delete service vs total trip pct since it's the very similar to timeliness??"
   ]
  },
  {
   "cell_type": "code",
   "execution_count": null,
   "id": "75ed3452-a5e2-4970-83e7-787d6f10b37c",
   "metadata": {},
   "outputs": [],
   "source": [
    "m1.loc[m1.trip_timeliness_pct < 0][['trip_timeliness_pct']].describe()"
   ]
  },
  {
   "cell_type": "code",
   "execution_count": null,
   "id": "89bfb048-57a3-4e0f-a3fd-1769dd65de96",
   "metadata": {},
   "outputs": [],
   "source": [
    "m1.loc[m1.trip_timeliness_pct < 0][['trip_timeliness_pct']].value_counts()"
   ]
  },
  {
   "cell_type": "code",
   "execution_count": null,
   "id": "08ada50d-65a4-4e77-a35e-a77525dade80",
   "metadata": {},
   "outputs": [],
   "source": [
    "m1.loc[m1.service_vs_total_trip_pct != 100][['service_vs_total_trip_pct']].describe()"
   ]
  },
  {
   "cell_type": "code",
   "execution_count": null,
   "id": "ca242cc6-49fe-45f5-b462-504be6df769e",
   "metadata": {},
   "outputs": [],
   "source": []
  },
  {
   "cell_type": "code",
   "execution_count": null,
   "id": "b8a0aaca-5acc-49ab-848f-3311ff9de42e",
   "metadata": {},
   "outputs": [],
   "source": [
    "test1 = m1.loc[(m1.trip_timeliness_pct <= -35)]"
   ]
  },
  {
   "cell_type": "code",
   "execution_count": null,
   "id": "1ef7917d-8660-4f8f-87d7-89ed7a241ae2",
   "metadata": {},
   "outputs": [],
   "source": [
    "test1.shape"
   ]
  },
  {
   "cell_type": "code",
   "execution_count": null,
   "id": "fbb0de8d-d564-44a8-8a11-1bc6e7a7bdd3",
   "metadata": {},
   "outputs": [],
   "source": [
    "preview = ['total_vp_in_shape_pct',\n",
    "       'total_trip_time', 'pct_with_2_pings_per_min','total_minutes_w_gtfs', 'route_name_used',\n",
    "       'route_id',\n",
    "       'speed_mph', 'service_minutes','trip_timeliness_pct','service_vs_total_trip_pct','pct_trip_captured_by_gtfs']"
   ]
  },
  {
   "cell_type": "code",
   "execution_count": null,
   "id": "b7b71aef-de77-439d-b83b-59570b1dd100",
   "metadata": {},
   "outputs": [],
   "source": [
    "16/24"
   ]
  },
  {
   "cell_type": "code",
   "execution_count": null,
   "id": "991850a0-5498-4746-8b03-ef40149d138a",
   "metadata": {},
   "outputs": [],
   "source": [
    "test1['pct_trip_captured_by_gtfs'] = (test1.total_minutes_w_gtfs / test1.service_minutes * 100).astype(int)"
   ]
  },
  {
   "cell_type": "code",
   "execution_count": null,
   "id": "d7f638d0-5cbe-406f-a36e-58093ab607d8",
   "metadata": {},
   "outputs": [],
   "source": [
    "test1.columns"
   ]
  },
  {
   "cell_type": "markdown",
   "id": "451561bd-7d69-4b1d-90b3-667ad7880e79",
   "metadata": {
    "tags": []
   },
   "source": [
    "test1[preview].sort_values(['trip_timeliness_pct'])"
   ]
  },
  {
   "cell_type": "markdown",
   "id": "8730cd44-0b9a-4618-a446-35611cb0eef3",
   "metadata": {},
   "source": [
    "#### How to apply this to the whole df and account for trips that did go realistically faster than scheduled.\n",
    "* Filter out the trips with missing data\n",
    "* Calculate the rt time vs scheduled time for trips with missing data\n",
    "* Delete those trips out of the original df\n",
    "* Do the same calculation for the remaining trips\n",
    "* Concat everythign together"
   ]
  },
  {
   "cell_type": "code",
   "execution_count": null,
   "id": "1bc3d851-4ca7-4029-a712-1164dfe1f202",
   "metadata": {},
   "outputs": [],
   "source": [
    "trip_keys_list = list(test1.trip_instance_key.unique())"
   ]
  },
  {
   "cell_type": "code",
   "execution_count": null,
   "id": "a5417b4d-ba15-49d1-8667-86ce0ebddd31",
   "metadata": {},
   "outputs": [],
   "source": [
    "# Delete out trip keys \n",
    "m2 = m1[~m1.isin(trip_keys_list)]"
   ]
  },
  {
   "cell_type": "code",
   "execution_count": null,
   "id": "919a729d-8434-41ec-88a9-84bbe27c2044",
   "metadata": {},
   "outputs": [],
   "source": [
    "m2.shape, m1.shape"
   ]
  },
  {
   "cell_type": "code",
   "execution_count": null,
   "id": "dfad9b1b-61ae-4d89-b095-3849d85852d5",
   "metadata": {},
   "outputs": [],
   "source": [
    "# Apply to whole df\n",
    "m1['pct_trip_captured_by_gtfs'] = (m1.total_minutes_w_gtfs / m1.service_minutes * 100).astype(int)"
   ]
  },
  {
   "cell_type": "code",
   "execution_count": null,
   "id": "c1016b4b-a80f-408b-82a5-08fb22ad13b8",
   "metadata": {},
   "outputs": [],
   "source": [
    "# Mask\n",
    "m1.pct_trip_captured_by_gtfs = m1.pct_trip_captured_by_gtfs.mask(m1.pct_trip_captured_by_gtfs > 100).fillna(100)"
   ]
  },
  {
   "cell_type": "code",
   "execution_count": null,
   "id": "f2f4dda0-e3a2-4a45-9982-0ef1e235e249",
   "metadata": {},
   "outputs": [],
   "source": [
    "m1['pct_trip_captured_by_gtfs'].describe()"
   ]
  },
  {
   "cell_type": "code",
   "execution_count": null,
   "id": "16298f76-19b2-49b1-8a3c-ec9588db0771",
   "metadata": {},
   "outputs": [],
   "source": [
    "m1.head()[preview]"
   ]
  },
  {
   "cell_type": "code",
   "execution_count": null,
   "id": "cfb3a49e-8865-4cb7-91b3-5b3d4fb31b3a",
   "metadata": {},
   "outputs": [],
   "source": [
    "m1.loc[m1['pct_trip_captured_by_gtfs'] == 5][preview]"
   ]
  },
  {
   "cell_type": "code",
   "execution_count": null,
   "id": "7ce1758d-7129-4c5d-90c1-9bff080cb97e",
   "metadata": {},
   "outputs": [],
   "source": [
    "m1.loc[m1['trip_timeliness_pct'] == -75][preview]"
   ]
  },
  {
   "cell_type": "code",
   "execution_count": null,
   "id": "279dc878-0a05-49ae-a315-42a01f94da44",
   "metadata": {
    "scrolled": true,
    "tags": []
   },
   "outputs": [],
   "source": [
    "# 7;55 to 8:10: 15 minutes\n",
    "# vp_filtered.loc[vp_filtered.trip_instance_key == \"3513c07b09c3da765ff43dd7317a7689\"]"
   ]
  }
 ],
 "metadata": {
  "kernelspec": {
   "display_name": "Python 3 (ipykernel)",
   "language": "python",
   "name": "python3"
  },
  "language_info": {
   "codemirror_mode": {
    "name": "ipython",
    "version": 3
   },
   "file_extension": ".py",
   "mimetype": "text/x-python",
   "name": "python",
   "nbconvert_exporter": "python",
   "pygments_lexer": "ipython3",
   "version": "3.9.13"
  }
 },
 "nbformat": 4,
 "nbformat_minor": 5
}
