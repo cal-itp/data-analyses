{
 "cells": [
  {
   "cell_type": "markdown",
   "id": "7c0cc07c-18bd-4daf-b7e4-5504240fd581",
   "metadata": {},
   "source": [
    "# Incoporating comments from [PR](https://github.com/cal-itp/data-analyses/pull/1266)\n",
    "<i>tidier way, and now there's no need to define and redefine your merge columns: (1) merge schedule with rt_vs_schedule. merge columns are schedule_gtfs_dataset_key and date, (2) merge in crosswalk that fills in organization info + NTD info. merge columns are schedule_gtfs_dataset_key and date.\n",
    "addressing this comment would need to be done in rt_scheduled_v_ran/scripts/rt_v_scheduled_operator.py...don't bring in organization stuff here! At this level, when things are created, it's all done using schedule_gtfs_dataset_key, and only when it's brought together in the next downstream step in gtfs_digest, crosswalk is merged in once for all.</i>"
   ]
  },
  {
   "cell_type": "code",
   "execution_count": 1,
   "id": "da3d397f-f42d-4cc2-9fa0-7f097edac922",
   "metadata": {},
   "outputs": [],
   "source": [
    "import geopandas as gpd\n",
    "import numpy as np\n",
    "import pandas as pd\n",
    "from segment_speed_utils import (\n",
    "    gtfs_schedule_wrangling,\n",
    "    helpers,\n",
    "    metrics,\n",
    "    time_series_utils,\n",
    ")\n",
    "from segment_speed_utils.project_vars import (\n",
    "    COMPILED_CACHED_VIEWS,\n",
    "    GTFS_DATA_DICT,\n",
    "    PROJECT_CRS,\n",
    "    RT_SCHED_GCS,\n",
    "    SCHED_GCS,\n",
    "    SEGMENT_GCS,\n",
    ")\n",
    "from shared_utils import catalog_utils, rt_dates, rt_utils"
   ]
  },
  {
   "cell_type": "code",
   "execution_count": 2,
   "id": "8202f5a0-a76f-4531-b325-7a3a4620bcd5",
   "metadata": {},
   "outputs": [],
   "source": [
    "pd.options.display.max_columns = 100\n",
    "pd.options.display.float_format = \"{:.2f}\".format\n",
    "pd.set_option(\"display.max_rows\", None)\n",
    "pd.set_option(\"display.max_colwidth\", None)"
   ]
  },
  {
   "cell_type": "code",
   "execution_count": 3,
   "id": "f92126fb-dea3-4a0f-bced-fdb374194efb",
   "metadata": {},
   "outputs": [
    {
     "data": {
      "text/plain": [
       "['2024-01-17',\n",
       " '2024-02-14',\n",
       " '2024-03-13',\n",
       " '2024-04-17',\n",
       " '2024-05-22',\n",
       " '2024-06-12',\n",
       " '2024-07-17',\n",
       " '2024-08-14',\n",
       " '2024-09-18',\n",
       " '2024-10-16',\n",
       " '2023-03-15',\n",
       " '2023-04-12',\n",
       " '2023-05-17',\n",
       " '2023-06-14',\n",
       " '2023-07-12',\n",
       " '2023-08-15',\n",
       " '2023-09-13',\n",
       " '2023-10-11',\n",
       " '2023-11-15',\n",
       " '2023-12-13']"
      ]
     },
     "execution_count": 3,
     "metadata": {},
     "output_type": "execute_result"
    }
   ],
   "source": [
    "rt_dates.y2024_dates + rt_dates.y2023_dates"
   ]
  },
  {
   "cell_type": "code",
   "execution_count": 4,
   "id": "cd2d5d7c-ab6e-41e7-a3ef-ffe661526e76",
   "metadata": {},
   "outputs": [],
   "source": [
    "dict_inputs = GTFS_DATA_DICT.rt_vs_schedule_tables"
   ]
  },
  {
   "cell_type": "code",
   "execution_count": 5,
   "id": "ac04a6cb-b33e-4a3c-b4de-7756cd9166f5",
   "metadata": {},
   "outputs": [
    {
     "data": {
      "text/plain": [
       "'gs://calitp-analytics-data/data-analyses/rt_vs_schedule/'"
      ]
     },
     "execution_count": 5,
     "metadata": {},
     "output_type": "execute_result"
    }
   ],
   "source": [
    "RT_SCHED_GCS"
   ]
  },
  {
   "cell_type": "code",
   "execution_count": 6,
   "id": "80de0d43-54d7-414c-8799-bfb8e77b83af",
   "metadata": {},
   "outputs": [],
   "source": [
    "analysis_date = \"2024-05-22\""
   ]
  },
  {
   "cell_type": "code",
   "execution_count": 7,
   "id": "0af083fe-0888-4835-9163-53f1b414a347",
   "metadata": {},
   "outputs": [],
   "source": [
    "TRIP_EXPORT = dict_inputs.vp_trip_metrics"
   ]
  },
  {
   "cell_type": "code",
   "execution_count": 8,
   "id": "dfe0aabb-d2ec-4178-be83-746f0238c005",
   "metadata": {},
   "outputs": [],
   "source": [
    "trip_df = pd.read_parquet(f\"{RT_SCHED_GCS}{TRIP_EXPORT}_{analysis_date}.parquet\")"
   ]
  },
  {
   "cell_type": "code",
   "execution_count": 9,
   "id": "d3eb9b8f-557d-490e-b5b6-21cfe1ae7f08",
   "metadata": {},
   "outputs": [
    {
     "data": {
      "text/html": [
       "<div>\n",
       "<style scoped>\n",
       "    .dataframe tbody tr th:only-of-type {\n",
       "        vertical-align: middle;\n",
       "    }\n",
       "\n",
       "    .dataframe tbody tr th {\n",
       "        vertical-align: top;\n",
       "    }\n",
       "\n",
       "    .dataframe thead th {\n",
       "        text-align: right;\n",
       "    }\n",
       "</style>\n",
       "<table border=\"1\" class=\"dataframe\">\n",
       "  <thead>\n",
       "    <tr style=\"text-align: right;\">\n",
       "      <th></th>\n",
       "      <th>schedule_gtfs_dataset_key</th>\n",
       "      <th>trip_instance_key</th>\n",
       "      <th>route_id</th>\n",
       "      <th>direction_id</th>\n",
       "      <th>scheduled_service_minutes</th>\n",
       "      <th>total_vp</th>\n",
       "      <th>rt_service_minutes</th>\n",
       "      <th>minutes_atleast1_vp</th>\n",
       "      <th>minutes_atleast2_vp</th>\n",
       "      <th>vp_in_shape</th>\n",
       "      <th>sched_rt_category</th>\n",
       "      <th>time_of_day</th>\n",
       "      <th>peak_offpeak</th>\n",
       "      <th>vp_per_minute</th>\n",
       "      <th>pct_in_shape</th>\n",
       "      <th>pct_rt_journey_atleast1_vp</th>\n",
       "      <th>pct_rt_journey_atleast2_vp</th>\n",
       "      <th>pct_sched_journey_atleast1_vp</th>\n",
       "      <th>pct_sched_journey_atleast2_vp</th>\n",
       "      <th>rt_sched_journey_difference</th>\n",
       "      <th>is_early</th>\n",
       "      <th>is_ontime</th>\n",
       "      <th>is_late</th>\n",
       "    </tr>\n",
       "  </thead>\n",
       "  <tbody>\n",
       "    <tr>\n",
       "      <th>0</th>\n",
       "      <td>d9d0325e50e50064e3cc8384b1751d67</td>\n",
       "      <td>000054ea29bb07adcfa0fc0f13c4a030</td>\n",
       "      <td>29</td>\n",
       "      <td>1.00</td>\n",
       "      <td>64.00</td>\n",
       "      <td>152</td>\n",
       "      <td>75.98</td>\n",
       "      <td>76</td>\n",
       "      <td>71</td>\n",
       "      <td>152</td>\n",
       "      <td>schedule_and_vp</td>\n",
       "      <td>Midday</td>\n",
       "      <td>offpeak</td>\n",
       "      <td>2.00</td>\n",
       "      <td>1.00</td>\n",
       "      <td>1.00</td>\n",
       "      <td>0.93</td>\n",
       "      <td>1.00</td>\n",
       "      <td>1.00</td>\n",
       "      <td>11.98</td>\n",
       "      <td>0</td>\n",
       "      <td>0</td>\n",
       "      <td>1</td>\n",
       "    </tr>\n",
       "  </tbody>\n",
       "</table>\n",
       "</div>"
      ],
      "text/plain": [
       "          schedule_gtfs_dataset_key                 trip_instance_key  \\\n",
       "0  d9d0325e50e50064e3cc8384b1751d67  000054ea29bb07adcfa0fc0f13c4a030   \n",
       "\n",
       "  route_id  direction_id  scheduled_service_minutes  total_vp  \\\n",
       "0       29          1.00                      64.00       152   \n",
       "\n",
       "   rt_service_minutes  minutes_atleast1_vp  minutes_atleast2_vp  vp_in_shape  \\\n",
       "0               75.98                   76                   71          152   \n",
       "\n",
       "  sched_rt_category time_of_day peak_offpeak  vp_per_minute  pct_in_shape  \\\n",
       "0   schedule_and_vp      Midday      offpeak           2.00          1.00   \n",
       "\n",
       "   pct_rt_journey_atleast1_vp  pct_rt_journey_atleast2_vp  \\\n",
       "0                        1.00                        0.93   \n",
       "\n",
       "   pct_sched_journey_atleast1_vp  pct_sched_journey_atleast2_vp  \\\n",
       "0                           1.00                           1.00   \n",
       "\n",
       "   rt_sched_journey_difference  is_early  is_ontime  is_late  \n",
       "0                        11.98         0          0        1  "
      ]
     },
     "execution_count": 9,
     "metadata": {},
     "output_type": "execute_result"
    }
   ],
   "source": [
    "trip_df.head(1)"
   ]
  },
  {
   "cell_type": "code",
   "execution_count": 10,
   "id": "d2422ca9-b4b3-4f32-b398-9f2ee3fbeca9",
   "metadata": {},
   "outputs": [],
   "source": [
    "OP_EXPORT = dict_inputs.vp_operator_metrics"
   ]
  },
  {
   "cell_type": "code",
   "execution_count": 11,
   "id": "162bca5d-1e1b-4392-88f9-1d2b43968607",
   "metadata": {},
   "outputs": [
    {
     "data": {
      "text/plain": [
       "'vp_operator/operator_metrics'"
      ]
     },
     "execution_count": 11,
     "metadata": {},
     "output_type": "execute_result"
    }
   ],
   "source": [
    "OP_EXPORT"
   ]
  },
  {
   "cell_type": "code",
   "execution_count": 12,
   "id": "6b5f28e4-30f6-425c-90a3-d8fc176725cd",
   "metadata": {},
   "outputs": [],
   "source": [
    "url = \"gs://calitp-analytics-data/data-analyses/rt_vs_schedule/vp_operator/operator_metrics_2024-05-22.parquet\""
   ]
  },
  {
   "cell_type": "code",
   "execution_count": 13,
   "id": "90914958-d45b-4054-becc-c7d55c3f639e",
   "metadata": {},
   "outputs": [],
   "source": [
    "may_rt_metrics = pd.read_parquet(url)"
   ]
  },
  {
   "cell_type": "code",
   "execution_count": 14,
   "id": "801ffe79-c07b-4eb0-a926-3b368ea5bb6b",
   "metadata": {},
   "outputs": [
    {
     "data": {
      "text/plain": [
       "'gs://calitp-analytics-data/data-analyses/gtfs_schedule/'"
      ]
     },
     "execution_count": 14,
     "metadata": {},
     "output_type": "execute_result"
    }
   ],
   "source": [
    "SCHED_GCS"
   ]
  },
  {
   "cell_type": "code",
   "execution_count": 15,
   "id": "2d84f7bd-08b7-4fcd-81a9-7fb511227963",
   "metadata": {},
   "outputs": [
    {
     "data": {
      "text/plain": [
       "'operator_profiles/operator_scheduled_stats'"
      ]
     },
     "execution_count": 15,
     "metadata": {},
     "output_type": "execute_result"
    }
   ],
   "source": [
    "GTFS_DATA_DICT.schedule_tables.operator_scheduled_stats"
   ]
  },
  {
   "cell_type": "code",
   "execution_count": 16,
   "id": "717ca7d3-7073-4259-83b3-e6d4fe0d7cb7",
   "metadata": {},
   "outputs": [],
   "source": [
    "may_op_scheduled = gpd.read_parquet(\"gs://calitp-analytics-data/data-analyses/gtfs_schedule/operator_profiles/operator_routes_2024-05-22.parquet\")"
   ]
  },
  {
   "cell_type": "code",
   "execution_count": 17,
   "id": "90ab1e16-5a8b-4fef-9768-28708023eaa3",
   "metadata": {},
   "outputs": [
    {
     "data": {
      "text/html": [
       "<div>\n",
       "<style scoped>\n",
       "    .dataframe tbody tr th:only-of-type {\n",
       "        vertical-align: middle;\n",
       "    }\n",
       "\n",
       "    .dataframe tbody tr th {\n",
       "        vertical-align: top;\n",
       "    }\n",
       "\n",
       "    .dataframe thead th {\n",
       "        text-align: right;\n",
       "    }\n",
       "</style>\n",
       "<table border=\"1\" class=\"dataframe\">\n",
       "  <thead>\n",
       "    <tr style=\"text-align: right;\">\n",
       "      <th></th>\n",
       "      <th>schedule_gtfs_dataset_key</th>\n",
       "      <th>vp_per_min_agency</th>\n",
       "      <th>spatial_accuracy_agency</th>\n",
       "    </tr>\n",
       "  </thead>\n",
       "  <tbody>\n",
       "    <tr>\n",
       "      <th>0</th>\n",
       "      <td>0139b1253130b33adcd4b3a4490530d2</td>\n",
       "      <td>2.45</td>\n",
       "      <td>63.42</td>\n",
       "    </tr>\n",
       "  </tbody>\n",
       "</table>\n",
       "</div>"
      ],
      "text/plain": [
       "          schedule_gtfs_dataset_key  vp_per_min_agency  \\\n",
       "0  0139b1253130b33adcd4b3a4490530d2               2.45   \n",
       "\n",
       "   spatial_accuracy_agency  \n",
       "0                    63.42  "
      ]
     },
     "execution_count": 17,
     "metadata": {},
     "output_type": "execute_result"
    }
   ],
   "source": [
    "may_rt_metrics.head(1)"
   ]
  },
  {
   "cell_type": "code",
   "execution_count": 18,
   "id": "f432d659-e6da-4c06-ae97-b01951394ff3",
   "metadata": {},
   "outputs": [
    {
     "data": {
      "text/plain": [
       "Index(['shape_array_key', 'geometry', 'feed_key', 'schedule_gtfs_dataset_key',\n",
       "       'route_id', 'direction_id', 'route_key', 'route_length',\n",
       "       'route_length_miles', 'is_downtown_local', 'is_local', 'is_coverage',\n",
       "       'is_rapid', 'is_express', 'is_rail', 'name',\n",
       "       'organization_source_record_id', 'organization_name'],\n",
       "      dtype='object')"
      ]
     },
     "execution_count": 18,
     "metadata": {},
     "output_type": "execute_result"
    }
   ],
   "source": [
    "may_op_scheduled.columns"
   ]
  },
  {
   "cell_type": "code",
   "execution_count": null,
   "id": "9a1c7532-1062-4591-87f7-bfe490d5aca5",
   "metadata": {},
   "outputs": [],
   "source": []
  }
 ],
 "metadata": {
  "kernelspec": {
   "display_name": "Python 3 (ipykernel)",
   "language": "python",
   "name": "python3"
  },
  "language_info": {
   "codemirror_mode": {
    "name": "ipython",
    "version": 3
   },
   "file_extension": ".py",
   "mimetype": "text/x-python",
   "name": "python",
   "nbconvert_exporter": "python",
   "pygments_lexer": "ipython3",
   "version": "3.9.13"
  }
 },
 "nbformat": 4,
 "nbformat_minor": 5
}
