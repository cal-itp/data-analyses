{
 "cells": [
  {
   "cell_type": "markdown",
   "id": "91553ad7-3a0e-4890-9807-522164c553f5",
   "metadata": {},
   "source": [
    "## Agency Grain Metrics\n",
    "* Add it to the pipeline in `rt_scheduled_v_ran/scripts/rt_v_scheduled_agency.py`\n",
    "* `cd data-analyses/rt_segment_speeds && pip install -r requirements.txt && cd ../_shared_utils && make setup_env && cd ../gtfs_digest`"
   ]
  },
  {
   "cell_type": "code",
   "execution_count": 1,
   "id": "f586303a-9775-4b42-8f99-81290515aa7c",
   "metadata": {},
   "outputs": [],
   "source": [
    "import geopandas as gpd\n",
    "import numpy as np\n",
    "import pandas as pd\n",
    "from segment_speed_utils import (\n",
    "    gtfs_schedule_wrangling,\n",
    "    helpers,\n",
    "    metrics,\n",
    "    time_series_utils,\n",
    ")\n",
    "from segment_speed_utils.project_vars import (\n",
    "    COMPILED_CACHED_VIEWS,\n",
    "    GTFS_DATA_DICT,\n",
    "    PROJECT_CRS,\n",
    "    RT_SCHED_GCS,\n",
    "    SCHED_GCS,\n",
    "    SEGMENT_GCS,\n",
    ")\n",
    "from shared_utils import catalog_utils, rt_dates, rt_utils"
   ]
  },
  {
   "cell_type": "code",
   "execution_count": 2,
   "id": "2a88fa23-caec-4cf7-845a-54a09fe7a81d",
   "metadata": {},
   "outputs": [],
   "source": [
    "pd.options.display.max_columns = 100\n",
    "pd.options.display.float_format = \"{:.2f}\".format\n",
    "pd.set_option(\"display.max_rows\", None)\n",
    "pd.set_option(\"display.max_colwidth\", None)"
   ]
  },
  {
   "cell_type": "markdown",
   "id": "baf7ddd3-fd43-458a-9479-71bc9f7935db",
   "metadata": {},
   "source": [
    "### Exploring\n",
    "* Need to filter for only (\"sched_rt_category\", \"==\", \"schedule_and_vp\") to get the same results as the one on analysis.calitp.org."
   ]
  },
  {
   "cell_type": "code",
   "execution_count": 3,
   "id": "78b859a7-7598-4719-a806-887b31a5daa9",
   "metadata": {},
   "outputs": [],
   "source": [
    "dict_inputs = GTFS_DATA_DICT.rt_vs_schedule_tables"
   ]
  },
  {
   "cell_type": "code",
   "execution_count": 4,
   "id": "b9cdee67-aafe-4e6a-adb9-5210e49bd82f",
   "metadata": {},
   "outputs": [
    {
     "data": {
      "text/plain": [
       "['2024-01-17',\n",
       " '2024-02-14',\n",
       " '2024-03-13',\n",
       " '2024-04-17',\n",
       " '2024-05-22',\n",
       " '2024-06-12',\n",
       " '2024-07-17',\n",
       " '2024-08-14',\n",
       " '2024-09-18']"
      ]
     },
     "execution_count": 4,
     "metadata": {},
     "output_type": "execute_result"
    }
   ],
   "source": [
    "rt_dates.y2024_dates"
   ]
  },
  {
   "cell_type": "code",
   "execution_count": 5,
   "id": "00b45e96-315f-4f74-af8c-74eb994057ab",
   "metadata": {},
   "outputs": [
    {
     "data": {
      "text/plain": [
       "'gs://calitp-analytics-data/data-analyses/rt_vs_schedule/'"
      ]
     },
     "execution_count": 5,
     "metadata": {},
     "output_type": "execute_result"
    }
   ],
   "source": [
    "RT_SCHED_GCS"
   ]
  },
  {
   "cell_type": "code",
   "execution_count": 6,
   "id": "a666f731-821a-4d7f-adc6-36ab7ee1428c",
   "metadata": {},
   "outputs": [],
   "source": [
    "ROUTE_EXPORT = dict_inputs.vp_route_direction_metrics"
   ]
  },
  {
   "cell_type": "code",
   "execution_count": 7,
   "id": "2d7af748-ceae-4a95-88e6-e24eb788a253",
   "metadata": {},
   "outputs": [
    {
     "data": {
      "text/plain": [
       "'vp_route_dir/route_direction_metrics'"
      ]
     },
     "execution_count": 7,
     "metadata": {},
     "output_type": "execute_result"
    }
   ],
   "source": [
    "ROUTE_EXPORT"
   ]
  },
  {
   "cell_type": "code",
   "execution_count": 8,
   "id": "386cab22-a872-4c9b-8eb4-970adede9c90",
   "metadata": {},
   "outputs": [],
   "source": [
    "analysis_date = \"2024-09-18\""
   ]
  },
  {
   "cell_type": "code",
   "execution_count": 9,
   "id": "bb39cfdf-43a3-46e4-b200-019eb08b2de3",
   "metadata": {},
   "outputs": [],
   "source": [
    "df = pd.read_parquet(f\"{RT_SCHED_GCS}{ROUTE_EXPORT}_{analysis_date}.parquet\")"
   ]
  },
  {
   "cell_type": "code",
   "execution_count": 10,
   "id": "69d44f05-44b3-41f1-8d69-c5ddc7fb3dcd",
   "metadata": {},
   "outputs": [],
   "source": [
    "df = df.loc[df[\"time_period\"] == \"all_day\"].reset_index(drop=True)"
   ]
  },
  {
   "cell_type": "code",
   "execution_count": 11,
   "id": "48a80998-a13b-4580-9778-ed67958a8e78",
   "metadata": {},
   "outputs": [
    {
     "data": {
      "text/html": [
       "<div>\n",
       "<style scoped>\n",
       "    .dataframe tbody tr th:only-of-type {\n",
       "        vertical-align: middle;\n",
       "    }\n",
       "\n",
       "    .dataframe tbody tr th {\n",
       "        vertical-align: top;\n",
       "    }\n",
       "\n",
       "    .dataframe thead th {\n",
       "        text-align: right;\n",
       "    }\n",
       "</style>\n",
       "<table border=\"1\" class=\"dataframe\">\n",
       "  <thead>\n",
       "    <tr style=\"text-align: right;\">\n",
       "      <th></th>\n",
       "      <th>2275</th>\n",
       "    </tr>\n",
       "  </thead>\n",
       "  <tbody>\n",
       "    <tr>\n",
       "      <th>schedule_gtfs_dataset_key</th>\n",
       "      <td>cc53a0dbf5df90e3009b9cb5d89d80ba</td>\n",
       "    </tr>\n",
       "    <tr>\n",
       "      <th>route_id</th>\n",
       "      <td>4867</td>\n",
       "    </tr>\n",
       "    <tr>\n",
       "      <th>direction_id</th>\n",
       "      <td>0.00</td>\n",
       "    </tr>\n",
       "    <tr>\n",
       "      <th>time_period</th>\n",
       "      <td>all_day</td>\n",
       "    </tr>\n",
       "    <tr>\n",
       "      <th>minutes_atleast1_vp</th>\n",
       "      <td>1629</td>\n",
       "    </tr>\n",
       "    <tr>\n",
       "      <th>minutes_atleast2_vp</th>\n",
       "      <td>1578</td>\n",
       "    </tr>\n",
       "    <tr>\n",
       "      <th>total_rt_service_minutes</th>\n",
       "      <td>1627.50</td>\n",
       "    </tr>\n",
       "    <tr>\n",
       "      <th>total_scheduled_service_minutes</th>\n",
       "      <td>1221.00</td>\n",
       "    </tr>\n",
       "    <tr>\n",
       "      <th>total_vp</th>\n",
       "      <td>4613</td>\n",
       "    </tr>\n",
       "    <tr>\n",
       "      <th>vp_in_shape</th>\n",
       "      <td>3491</td>\n",
       "    </tr>\n",
       "    <tr>\n",
       "      <th>is_early</th>\n",
       "      <td>1</td>\n",
       "    </tr>\n",
       "    <tr>\n",
       "      <th>is_ontime</th>\n",
       "      <td>5</td>\n",
       "    </tr>\n",
       "    <tr>\n",
       "      <th>is_late</th>\n",
       "      <td>31</td>\n",
       "    </tr>\n",
       "    <tr>\n",
       "      <th>n_vp_trips</th>\n",
       "      <td>37</td>\n",
       "    </tr>\n",
       "    <tr>\n",
       "      <th>vp_per_minute</th>\n",
       "      <td>2.83</td>\n",
       "    </tr>\n",
       "    <tr>\n",
       "      <th>pct_in_shape</th>\n",
       "      <td>0.76</td>\n",
       "    </tr>\n",
       "    <tr>\n",
       "      <th>pct_rt_journey_atleast1_vp</th>\n",
       "      <td>1.00</td>\n",
       "    </tr>\n",
       "    <tr>\n",
       "      <th>pct_rt_journey_atleast2_vp</th>\n",
       "      <td>0.97</td>\n",
       "    </tr>\n",
       "    <tr>\n",
       "      <th>pct_sched_journey_atleast1_vp</th>\n",
       "      <td>1.00</td>\n",
       "    </tr>\n",
       "    <tr>\n",
       "      <th>pct_sched_journey_atleast2_vp</th>\n",
       "      <td>1.00</td>\n",
       "    </tr>\n",
       "    <tr>\n",
       "      <th>rt_sched_journey_ratio</th>\n",
       "      <td>1.33</td>\n",
       "    </tr>\n",
       "    <tr>\n",
       "      <th>avg_rt_service_minutes</th>\n",
       "      <td>43.99</td>\n",
       "    </tr>\n",
       "    <tr>\n",
       "      <th>name</th>\n",
       "      <td>LA DOT Schedule</td>\n",
       "    </tr>\n",
       "    <tr>\n",
       "      <th>schedule_source_record_id</th>\n",
       "      <td>rec4C3jVlVMVmxiNr</td>\n",
       "    </tr>\n",
       "    <tr>\n",
       "      <th>base64_url</th>\n",
       "      <td>aHR0cHM6Ly9sYWRvdGJ1cy5jb20vZ3Rmcw==</td>\n",
       "    </tr>\n",
       "    <tr>\n",
       "      <th>organization_source_record_id</th>\n",
       "      <td>rec4pgjrmdhCh4z01</td>\n",
       "    </tr>\n",
       "    <tr>\n",
       "      <th>organization_name</th>\n",
       "      <td>City of Los Angeles</td>\n",
       "    </tr>\n",
       "    <tr>\n",
       "      <th>caltrans_district</th>\n",
       "      <td>07 - Los Angeles</td>\n",
       "    </tr>\n",
       "  </tbody>\n",
       "</table>\n",
       "</div>"
      ],
      "text/plain": [
       "                                                                 2275\n",
       "schedule_gtfs_dataset_key            cc53a0dbf5df90e3009b9cb5d89d80ba\n",
       "route_id                                                         4867\n",
       "direction_id                                                     0.00\n",
       "time_period                                                   all_day\n",
       "minutes_atleast1_vp                                              1629\n",
       "minutes_atleast2_vp                                              1578\n",
       "total_rt_service_minutes                                      1627.50\n",
       "total_scheduled_service_minutes                               1221.00\n",
       "total_vp                                                         4613\n",
       "vp_in_shape                                                      3491\n",
       "is_early                                                            1\n",
       "is_ontime                                                           5\n",
       "is_late                                                            31\n",
       "n_vp_trips                                                         37\n",
       "vp_per_minute                                                    2.83\n",
       "pct_in_shape                                                     0.76\n",
       "pct_rt_journey_atleast1_vp                                       1.00\n",
       "pct_rt_journey_atleast2_vp                                       0.97\n",
       "pct_sched_journey_atleast1_vp                                    1.00\n",
       "pct_sched_journey_atleast2_vp                                    1.00\n",
       "rt_sched_journey_ratio                                           1.33\n",
       "avg_rt_service_minutes                                          43.99\n",
       "name                                                  LA DOT Schedule\n",
       "schedule_source_record_id                           rec4C3jVlVMVmxiNr\n",
       "base64_url                       aHR0cHM6Ly9sYWRvdGJ1cy5jb20vZ3Rmcw==\n",
       "organization_source_record_id                       rec4pgjrmdhCh4z01\n",
       "organization_name                                 City of Los Angeles\n",
       "caltrans_district                                    07 - Los Angeles"
      ]
     },
     "execution_count": 11,
     "metadata": {},
     "output_type": "execute_result"
    }
   ],
   "source": [
    "df.sample().T"
   ]
  },
  {
   "cell_type": "code",
   "execution_count": 12,
   "id": "9da30f17-f428-4dad-a889-e86b2ce605f8",
   "metadata": {},
   "outputs": [],
   "source": [
    "groupby_cols = [\n",
    "    \"caltrans_district\",\n",
    "    \"organization_name\",\n",
    "    \"schedule_gtfs_dataset_key\",\n",
    "]"
   ]
  },
  {
   "cell_type": "code",
   "execution_count": 13,
   "id": "0d8b94cc-f6ee-4e91-b8c2-3f98048e81bf",
   "metadata": {},
   "outputs": [],
   "source": [
    "agg1 = (\n",
    "    df.groupby(groupby_cols)\n",
    "    .agg(\n",
    "        {\n",
    "            \"total_vp\": \"sum\",\n",
    "            \"vp_in_shape\": \"sum\",\n",
    "            \"total_rt_service_minutes\": \"sum\",\n",
    "        }\n",
    "    )\n",
    "    .reset_index()\n",
    ")"
   ]
  },
  {
   "cell_type": "code",
   "execution_count": 14,
   "id": "45a50735-5253-4434-99d2-2feb28431bd4",
   "metadata": {},
   "outputs": [],
   "source": [
    "agg1[\"vp_per_min_agency\"] = ((agg1.total_vp / agg1.total_rt_service_minutes)).round(2)\n",
    "agg1[\"spatial_accuracy_agency\"] = ((agg1.vp_in_shape / agg1.total_vp) * 100).round(2)"
   ]
  },
  {
   "cell_type": "code",
   "execution_count": 15,
   "id": "e7ff37d4-bb02-4ca1-af61-a71a01565322",
   "metadata": {},
   "outputs": [
    {
     "data": {
      "text/plain": [
       "0.6517265362899927"
      ]
     },
     "execution_count": 15,
     "metadata": {},
     "output_type": "execute_result"
    }
   ],
   "source": [
    "63718 / 97768"
   ]
  },
  {
   "cell_type": "code",
   "execution_count": 16,
   "id": "c886f721-ae63-4b23-8100-40fafc3587d4",
   "metadata": {},
   "outputs": [
    {
     "data": {
      "text/html": [
       "<div>\n",
       "<style scoped>\n",
       "    .dataframe tbody tr th:only-of-type {\n",
       "        vertical-align: middle;\n",
       "    }\n",
       "\n",
       "    .dataframe tbody tr th {\n",
       "        vertical-align: top;\n",
       "    }\n",
       "\n",
       "    .dataframe thead th {\n",
       "        text-align: right;\n",
       "    }\n",
       "</style>\n",
       "<table border=\"1\" class=\"dataframe\">\n",
       "  <thead>\n",
       "    <tr style=\"text-align: right;\">\n",
       "      <th></th>\n",
       "      <th>caltrans_district</th>\n",
       "      <th>organization_name</th>\n",
       "      <th>schedule_gtfs_dataset_key</th>\n",
       "      <th>total_vp</th>\n",
       "      <th>vp_in_shape</th>\n",
       "      <th>total_rt_service_minutes</th>\n",
       "      <th>vp_per_min_agency</th>\n",
       "      <th>spatial_accuracy_agency</th>\n",
       "    </tr>\n",
       "  </thead>\n",
       "  <tbody>\n",
       "    <tr>\n",
       "      <th>23</th>\n",
       "      <td>04 - Oakland</td>\n",
       "      <td>Marin County Transit District</td>\n",
       "      <td>015d67d5b75b5cf2b710bbadadfb75f5</td>\n",
       "      <td>97768</td>\n",
       "      <td>63718</td>\n",
       "      <td>36831.13</td>\n",
       "      <td>2.65</td>\n",
       "      <td>65.17</td>\n",
       "    </tr>\n",
       "  </tbody>\n",
       "</table>\n",
       "</div>"
      ],
      "text/plain": [
       "   caltrans_district              organization_name  \\\n",
       "23      04 - Oakland  Marin County Transit District   \n",
       "\n",
       "           schedule_gtfs_dataset_key  total_vp  vp_in_shape  \\\n",
       "23  015d67d5b75b5cf2b710bbadadfb75f5     97768        63718   \n",
       "\n",
       "    total_rt_service_minutes  vp_per_min_agency  spatial_accuracy_agency  \n",
       "23                  36831.13               2.65                    65.17  "
      ]
     },
     "execution_count": 16,
     "metadata": {},
     "output_type": "execute_result"
    }
   ],
   "source": [
    "agg1.loc[agg1.organization_name == \"Marin County Transit District\"]"
   ]
  },
  {
   "cell_type": "markdown",
   "id": "f5682445-84eb-485d-bb70-6651fc576ead",
   "metadata": {},
   "source": [
    "### Original"
   ]
  },
  {
   "cell_type": "code",
   "execution_count": 17,
   "id": "f1cf75d6-5fc0-45c5-a223-6bbe86b79992",
   "metadata": {},
   "outputs": [],
   "source": [
    "organization_name = \"Marin County Transit District\""
   ]
  },
  {
   "cell_type": "code",
   "execution_count": 18,
   "id": "7997ef5b-b7b9-4ef8-9dd0-a6a40ea28ba6",
   "metadata": {},
   "outputs": [],
   "source": [
    "schd_vp_url = f\"{GTFS_DATA_DICT.digest_tables.dir}{GTFS_DATA_DICT.digest_tables.route_schedule_vp}.parquet\"\n",
    "\n",
    "# Keep only rows that are found in both schedule and real time data\n",
    "vp_sched_df = pd.read_parquet(schd_vp_url)"
   ]
  },
  {
   "cell_type": "code",
   "execution_count": 19,
   "id": "c597a945-a110-472e-b0d6-7bec6ef91370",
   "metadata": {},
   "outputs": [],
   "source": [
    "vp_sched_df = vp_sched_df.loc[vp_sched_df[\"time_period\"] == \"all_day\"].reset_index(\n",
    "    drop=True\n",
    ")"
   ]
  },
  {
   "cell_type": "code",
   "execution_count": 20,
   "id": "5f5a8bb7-ef34-46cf-9930-afa9ea2c664e",
   "metadata": {},
   "outputs": [],
   "source": [
    "schedule_and_vp_only = vp_sched_df.loc[vp_sched_df.sched_rt_category == \"schedule_and_vp\"]"
   ]
  },
  {
   "cell_type": "code",
   "execution_count": 21,
   "id": "7cb49efb-784a-482f-a739-f024ca3eb91f",
   "metadata": {},
   "outputs": [],
   "source": [
    "vp_sched_df2 = (\n",
    "    vp_sched_df.groupby(\n",
    "        [\n",
    "            \"caltrans_district\",\n",
    "            \"organization_name\",\n",
    "            \"schedule_gtfs_dataset_key\",\n",
    "            \"service_date\",\n",
    "        ]\n",
    "    )\n",
    "    .agg(\n",
    "        {\n",
    "            \"total_vp\": \"sum\",\n",
    "            \"total_rt_service_minutes\": \"sum\",\n",
    "            \"vp_in_shape\": \"sum\",\n",
    "        }\n",
    "    )\n",
    "    .reset_index()\n",
    ")"
   ]
  },
  {
   "cell_type": "code",
   "execution_count": 22,
   "id": "c0538e01-a104-4f5b-aed0-8c023d23e060",
   "metadata": {
    "tags": []
   },
   "outputs": [
    {
     "data": {
      "text/html": [
       "<div>\n",
       "<style scoped>\n",
       "    .dataframe tbody tr th:only-of-type {\n",
       "        vertical-align: middle;\n",
       "    }\n",
       "\n",
       "    .dataframe tbody tr th {\n",
       "        vertical-align: top;\n",
       "    }\n",
       "\n",
       "    .dataframe thead th {\n",
       "        text-align: right;\n",
       "    }\n",
       "</style>\n",
       "<table border=\"1\" class=\"dataframe\">\n",
       "  <thead>\n",
       "    <tr style=\"text-align: right;\">\n",
       "      <th></th>\n",
       "      <th>caltrans_district</th>\n",
       "      <th>organization_name</th>\n",
       "      <th>schedule_gtfs_dataset_key</th>\n",
       "      <th>service_date</th>\n",
       "      <th>total_vp</th>\n",
       "      <th>total_rt_service_minutes</th>\n",
       "      <th>vp_in_shape</th>\n",
       "    </tr>\n",
       "  </thead>\n",
       "  <tbody>\n",
       "    <tr>\n",
       "      <th>956</th>\n",
       "      <td>04 - Oakland</td>\n",
       "      <td>Marin County Transit District</td>\n",
       "      <td>015d67d5b75b5cf2b710bbadadfb75f5</td>\n",
       "      <td>2024-09-18</td>\n",
       "      <td>97768</td>\n",
       "      <td>36831.13</td>\n",
       "      <td>63718</td>\n",
       "    </tr>\n",
       "  </tbody>\n",
       "</table>\n",
       "</div>"
      ],
      "text/plain": [
       "    caltrans_district              organization_name  \\\n",
       "956      04 - Oakland  Marin County Transit District   \n",
       "\n",
       "            schedule_gtfs_dataset_key service_date  total_vp  \\\n",
       "956  015d67d5b75b5cf2b710bbadadfb75f5   2024-09-18     97768   \n",
       "\n",
       "     total_rt_service_minutes  vp_in_shape  \n",
       "956                  36831.13        63718  "
      ]
     },
     "execution_count": 22,
     "metadata": {},
     "output_type": "execute_result"
    }
   ],
   "source": [
    "vp_sched_df2.loc[\n",
    "    (vp_sched_df2.organization_name == organization_name)\n",
    "    & (vp_sched_df2.service_date == \"2024-09-18\")\n",
    "]"
   ]
  },
  {
   "cell_type": "code",
   "execution_count": 23,
   "id": "ac36b3db-447b-4c21-abe3-0cbb3f35ec68",
   "metadata": {},
   "outputs": [],
   "source": [
    "vp_sched_df3 = (\n",
    "    schedule_and_vp_only.groupby([\"caltrans_district\", \"organization_name\", \"service_date\"])\n",
    "    .agg(\n",
    "        {\n",
    "            \"total_vp\": \"sum\",\n",
    "            \"total_rt_service_minutes\": \"sum\",\n",
    "            \"vp_in_shape\": \"sum\",\n",
    "        }\n",
    "    )\n",
    "    .reset_index()\n",
    ")"
   ]
  },
  {
   "cell_type": "code",
   "execution_count": 24,
   "id": "dd41cecb-69f1-4ea6-90c8-6a6118b63c41",
   "metadata": {},
   "outputs": [],
   "source": [
    "vp_sched_df3[\"vp_per_min_agency\"] = ((vp_sched_df3.total_vp / vp_sched_df3.total_rt_service_minutes)).round(2)\n",
    "vp_sched_df3[\"spatial_accuracy_agency\"] = ((vp_sched_df3.vp_in_shape / vp_sched_df3.total_vp) * 100).round(2)"
   ]
  },
  {
   "cell_type": "code",
   "execution_count": 25,
   "id": "e32a1f49-5483-466c-a208-1db84a2d0e70",
   "metadata": {},
   "outputs": [
    {
     "data": {
      "text/html": [
       "<div>\n",
       "<style scoped>\n",
       "    .dataframe tbody tr th:only-of-type {\n",
       "        vertical-align: middle;\n",
       "    }\n",
       "\n",
       "    .dataframe tbody tr th {\n",
       "        vertical-align: top;\n",
       "    }\n",
       "\n",
       "    .dataframe thead th {\n",
       "        text-align: right;\n",
       "    }\n",
       "</style>\n",
       "<table border=\"1\" class=\"dataframe\">\n",
       "  <thead>\n",
       "    <tr style=\"text-align: right;\">\n",
       "      <th></th>\n",
       "      <th>477</th>\n",
       "    </tr>\n",
       "  </thead>\n",
       "  <tbody>\n",
       "    <tr>\n",
       "      <th>caltrans_district</th>\n",
       "      <td>04 - Oakland</td>\n",
       "    </tr>\n",
       "    <tr>\n",
       "      <th>organization_name</th>\n",
       "      <td>Marin County Transit District</td>\n",
       "    </tr>\n",
       "    <tr>\n",
       "      <th>service_date</th>\n",
       "      <td>2024-09-18 00:00:00</td>\n",
       "    </tr>\n",
       "    <tr>\n",
       "      <th>total_vp</th>\n",
       "      <td>67420</td>\n",
       "    </tr>\n",
       "    <tr>\n",
       "      <th>total_rt_service_minutes</th>\n",
       "      <td>25282.30</td>\n",
       "    </tr>\n",
       "    <tr>\n",
       "      <th>vp_in_shape</th>\n",
       "      <td>61736</td>\n",
       "    </tr>\n",
       "    <tr>\n",
       "      <th>vp_per_min_agency</th>\n",
       "      <td>2.67</td>\n",
       "    </tr>\n",
       "    <tr>\n",
       "      <th>spatial_accuracy_agency</th>\n",
       "      <td>91.57</td>\n",
       "    </tr>\n",
       "  </tbody>\n",
       "</table>\n",
       "</div>"
      ],
      "text/plain": [
       "                                                    477\n",
       "caltrans_district                          04 - Oakland\n",
       "organization_name         Marin County Transit District\n",
       "service_date                        2024-09-18 00:00:00\n",
       "total_vp                                          67420\n",
       "total_rt_service_minutes                       25282.30\n",
       "vp_in_shape                                       61736\n",
       "vp_per_min_agency                                  2.67\n",
       "spatial_accuracy_agency                           91.57"
      ]
     },
     "execution_count": 25,
     "metadata": {},
     "output_type": "execute_result"
    }
   ],
   "source": [
    "vp_sched_df3.loc[\n",
    "    (vp_sched_df3.organization_name == organization_name)\n",
    "    & (vp_sched_df3.service_date == \"2024-09-18\")\n",
    "].T"
   ]
  },
  {
   "cell_type": "code",
   "execution_count": 26,
   "id": "08442ae2-cb81-493c-8ed8-839b70c26780",
   "metadata": {},
   "outputs": [
    {
     "data": {
      "text/plain": [
       "0.6517265362899927"
      ]
     },
     "execution_count": 26,
     "metadata": {},
     "output_type": "execute_result"
    }
   ],
   "source": [
    "63718 / 97768"
   ]
  }
 ],
 "metadata": {
  "kernelspec": {
   "display_name": "Python 3 (ipykernel)",
   "language": "python",
   "name": "python3"
  },
  "language_info": {
   "codemirror_mode": {
    "name": "ipython",
    "version": 3
   },
   "file_extension": ".py",
   "mimetype": "text/x-python",
   "name": "python",
   "nbconvert_exporter": "python",
   "pygments_lexer": "ipython3",
   "version": "3.9.13"
  }
 },
 "nbformat": 4,
 "nbformat_minor": 5
}
