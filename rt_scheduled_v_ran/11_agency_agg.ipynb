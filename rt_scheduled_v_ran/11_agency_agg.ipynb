{
 "cells": [
  {
   "cell_type": "markdown",
   "id": "91553ad7-3a0e-4890-9807-522164c553f5",
   "metadata": {},
   "source": [
    "## Agency Grain Metrics\n",
    "* Add it to the pipeline in `rt_scheduled_v_ran/scripts/rt_v_scheduled_agency.py`\n",
    "* `cd data-analyses/rt_segment_speeds && pip install -r requirements.txt && cd ../_shared_utils && make setup_env && cd ../gtfs_digest`"
   ]
  },
  {
   "cell_type": "code",
   "execution_count": 1,
   "id": "f586303a-9775-4b42-8f99-81290515aa7c",
   "metadata": {},
   "outputs": [],
   "source": [
    "import geopandas as gpd\n",
    "import numpy as np\n",
    "import pandas as pd\n",
    "from segment_speed_utils import (\n",
    "    gtfs_schedule_wrangling,\n",
    "    helpers,\n",
    "    metrics,\n",
    "    time_series_utils,\n",
    ")\n",
    "from segment_speed_utils.project_vars import (\n",
    "    COMPILED_CACHED_VIEWS,\n",
    "    GTFS_DATA_DICT,\n",
    "    PROJECT_CRS,\n",
    "    RT_SCHED_GCS,\n",
    "    SCHED_GCS,\n",
    "    SEGMENT_GCS,\n",
    ")\n",
    "from shared_utils import catalog_utils, rt_dates, rt_utils"
   ]
  },
  {
   "cell_type": "code",
   "execution_count": 2,
   "id": "2a88fa23-caec-4cf7-845a-54a09fe7a81d",
   "metadata": {},
   "outputs": [],
   "source": [
    "pd.options.display.max_columns = 100\n",
    "pd.options.display.float_format = \"{:.2f}\".format\n",
    "pd.set_option(\"display.max_rows\", None)\n",
    "pd.set_option(\"display.max_colwidth\", None)"
   ]
  },
  {
   "cell_type": "markdown",
   "id": "baf7ddd3-fd43-458a-9479-71bc9f7935db",
   "metadata": {},
   "source": [
    "### Exploring"
   ]
  },
  {
   "cell_type": "code",
   "execution_count": 3,
   "id": "00b45e96-315f-4f74-af8c-74eb994057ab",
   "metadata": {},
   "outputs": [
    {
     "data": {
      "text/plain": [
       "'gs://calitp-analytics-data/data-analyses/rt_vs_schedule/'"
      ]
     },
     "execution_count": 3,
     "metadata": {},
     "output_type": "execute_result"
    }
   ],
   "source": [
    "RT_SCHED_GCS"
   ]
  },
  {
   "cell_type": "code",
   "execution_count": 4,
   "id": "78b859a7-7598-4719-a806-887b31a5daa9",
   "metadata": {},
   "outputs": [],
   "source": [
    "dict_inputs = GTFS_DATA_DICT.rt_vs_schedule_tables"
   ]
  },
  {
   "cell_type": "code",
   "execution_count": 5,
   "id": "a666f731-821a-4d7f-adc6-36ab7ee1428c",
   "metadata": {},
   "outputs": [],
   "source": [
    "ROUTE_EXPORT = dict_inputs.vp_route_direction_metrics"
   ]
  },
  {
   "cell_type": "code",
   "execution_count": 6,
   "id": "2d7af748-ceae-4a95-88e6-e24eb788a253",
   "metadata": {},
   "outputs": [
    {
     "data": {
      "text/plain": [
       "'vp_route_dir/route_direction_metrics'"
      ]
     },
     "execution_count": 6,
     "metadata": {},
     "output_type": "execute_result"
    }
   ],
   "source": [
    "ROUTE_EXPORT"
   ]
  },
  {
   "cell_type": "code",
   "execution_count": 7,
   "id": "7d685df6-f33c-430b-a878-22f7ce894aa2",
   "metadata": {},
   "outputs": [
    {
     "data": {
      "text/plain": [
       "'vp_agency/agency_metrics'"
      ]
     },
     "execution_count": 7,
     "metadata": {},
     "output_type": "execute_result"
    }
   ],
   "source": [
    "dict_inputs.vp_agency_metrics"
   ]
  },
  {
   "cell_type": "code",
   "execution_count": 8,
   "id": "386cab22-a872-4c9b-8eb4-970adede9c90",
   "metadata": {},
   "outputs": [],
   "source": [
    "analysis_date = rt_dates.DATES[\"apr2024\"]"
   ]
  },
  {
   "cell_type": "code",
   "execution_count": 28,
   "id": "d07f3469-8630-41e5-a85f-dfc6e8dd544d",
   "metadata": {},
   "outputs": [
    {
     "data": {
      "text/plain": [
       "{'may2022': '2022-05-04',\n",
       " 'sep2022': '2022-09-14',\n",
       " 'sep2022a': '2022-09-21',\n",
       " 'oct2022': '2022-10-12',\n",
       " 'nov2022a': '2022-11-07',\n",
       " 'nov2022b': '2022-11-08',\n",
       " 'nov2022c': '2022-11-09',\n",
       " 'nov2022d': '2022-11-10',\n",
       " 'nov2022': '2022-11-16',\n",
       " 'mar2023': '2023-03-15',\n",
       " 'may2023': '2023-05-17',\n",
       " 'sep2023': '2023-09-13',\n",
       " 'oct2023a': '2023-10-09',\n",
       " 'oct2023b': '2023-10-10',\n",
       " 'oct2023': '2023-10-11',\n",
       " 'oct2023c': '2023-10-12',\n",
       " 'oct2023d': '2023-10-13',\n",
       " 'oct2023e': '2023-10-14',\n",
       " 'oct2023f': '2023-10-15',\n",
       " 'nov2023': '2023-11-15',\n",
       " 'mar2024': '2024-03-13',\n",
       " 'may2024': '2024-05-22',\n",
       " 'sep2024': '2024-09-18'}"
      ]
     },
     "execution_count": 28,
     "metadata": {},
     "output_type": "execute_result"
    }
   ],
   "source": [
    "{k: v for k, v in  rt_dates.DATES.items() if (k[:3], k[3:]) >= ('mar', '2023')}"
   ]
  },
  {
   "cell_type": "code",
   "execution_count": 9,
   "id": "bb39cfdf-43a3-46e4-b200-019eb08b2de3",
   "metadata": {},
   "outputs": [],
   "source": [
    "df = pd.read_parquet(f\"{RT_SCHED_GCS}{ROUTE_EXPORT}_{analysis_date}.parquet\")"
   ]
  },
  {
   "cell_type": "code",
   "execution_count": 10,
   "id": "69d44f05-44b3-41f1-8d69-c5ddc7fb3dcd",
   "metadata": {},
   "outputs": [],
   "source": [
    "df = df.loc[df[\"time_period\"] == \"all_day\"].reset_index(drop=True)"
   ]
  },
  {
   "cell_type": "code",
   "execution_count": 11,
   "id": "9da30f17-f428-4dad-a889-e86b2ce605f8",
   "metadata": {},
   "outputs": [],
   "source": [
    "groupby_cols = [\"caltrans_district\", \"organization_name\", \"schedule_gtfs_dataset_key\"]"
   ]
  },
  {
   "cell_type": "code",
   "execution_count": 12,
   "id": "0d8b94cc-f6ee-4e91-b8c2-3f98048e81bf",
   "metadata": {},
   "outputs": [],
   "source": [
    "agg1 = (\n",
    "    df.groupby(groupby_cols)\n",
    "    .agg(\n",
    "        {\n",
    "            \"total_vp\": \"sum\",\n",
    "            \"vp_in_shape\": \"sum\",\n",
    "            \"total_rt_service_minutes\": \"sum\",\n",
    "        }\n",
    "    )\n",
    "    .reset_index()\n",
    ")"
   ]
  },
  {
   "cell_type": "code",
   "execution_count": 13,
   "id": "45a50735-5253-4434-99d2-2feb28431bd4",
   "metadata": {},
   "outputs": [],
   "source": [
    "agg1[\"vp_per_min_agency\"] = ((agg1.total_vp / agg1.total_rt_service_minutes)).round(2)\n",
    "agg1[\"spatial_accuracy_agency\"] = ((agg1.vp_in_shape / agg1.total_vp) * 100).round(2)"
   ]
  },
  {
   "cell_type": "code",
   "execution_count": 14,
   "id": "c886f721-ae63-4b23-8100-40fafc3587d4",
   "metadata": {},
   "outputs": [
    {
     "data": {
      "text/html": [
       "<div>\n",
       "<style scoped>\n",
       "    .dataframe tbody tr th:only-of-type {\n",
       "        vertical-align: middle;\n",
       "    }\n",
       "\n",
       "    .dataframe tbody tr th {\n",
       "        vertical-align: top;\n",
       "    }\n",
       "\n",
       "    .dataframe thead th {\n",
       "        text-align: right;\n",
       "    }\n",
       "</style>\n",
       "<table border=\"1\" class=\"dataframe\">\n",
       "  <thead>\n",
       "    <tr style=\"text-align: right;\">\n",
       "      <th></th>\n",
       "      <th>32</th>\n",
       "    </tr>\n",
       "  </thead>\n",
       "  <tbody>\n",
       "    <tr>\n",
       "      <th>caltrans_district</th>\n",
       "      <td>04 - Oakland</td>\n",
       "    </tr>\n",
       "    <tr>\n",
       "      <th>organization_name</th>\n",
       "      <td>Santa Clara Valley Transportation Authority</td>\n",
       "    </tr>\n",
       "    <tr>\n",
       "      <th>schedule_gtfs_dataset_key</th>\n",
       "      <td>fb467982dcc77a7f9199bebe709bb700</td>\n",
       "    </tr>\n",
       "    <tr>\n",
       "      <th>total_vp</th>\n",
       "      <td>778638</td>\n",
       "    </tr>\n",
       "    <tr>\n",
       "      <th>vp_in_shape</th>\n",
       "      <td>739031</td>\n",
       "    </tr>\n",
       "    <tr>\n",
       "      <th>total_rt_service_minutes</th>\n",
       "      <td>303399.17</td>\n",
       "    </tr>\n",
       "    <tr>\n",
       "      <th>vp_per_min_agency</th>\n",
       "      <td>2.57</td>\n",
       "    </tr>\n",
       "    <tr>\n",
       "      <th>spatial_accuracy_agency</th>\n",
       "      <td>94.91</td>\n",
       "    </tr>\n",
       "  </tbody>\n",
       "</table>\n",
       "</div>"
      ],
      "text/plain": [
       "                                                                    32\n",
       "caltrans_district                                         04 - Oakland\n",
       "organization_name          Santa Clara Valley Transportation Authority\n",
       "schedule_gtfs_dataset_key             fb467982dcc77a7f9199bebe709bb700\n",
       "total_vp                                                        778638\n",
       "vp_in_shape                                                     739031\n",
       "total_rt_service_minutes                                     303399.17\n",
       "vp_per_min_agency                                                 2.57\n",
       "spatial_accuracy_agency                                          94.91"
      ]
     },
     "execution_count": 14,
     "metadata": {},
     "output_type": "execute_result"
    }
   ],
   "source": [
    "agg1.sample().T"
   ]
  },
  {
   "cell_type": "code",
   "execution_count": 15,
   "id": "3985f03a-bcd5-41f9-bcff-a5f3a1436603",
   "metadata": {},
   "outputs": [
    {
     "data": {
      "text/html": [
       "<div>\n",
       "<style scoped>\n",
       "    .dataframe tbody tr th:only-of-type {\n",
       "        vertical-align: middle;\n",
       "    }\n",
       "\n",
       "    .dataframe tbody tr th {\n",
       "        vertical-align: top;\n",
       "    }\n",
       "\n",
       "    .dataframe thead th {\n",
       "        text-align: right;\n",
       "    }\n",
       "</style>\n",
       "<table border=\"1\" class=\"dataframe\">\n",
       "  <thead>\n",
       "    <tr style=\"text-align: right;\">\n",
       "      <th></th>\n",
       "      <th>caltrans_district</th>\n",
       "      <th>organization_name</th>\n",
       "      <th>schedule_gtfs_dataset_key</th>\n",
       "      <th>total_vp</th>\n",
       "      <th>vp_in_shape</th>\n",
       "      <th>total_rt_service_minutes</th>\n",
       "      <th>vp_per_min_agency</th>\n",
       "      <th>spatial_accuracy_agency</th>\n",
       "    </tr>\n",
       "  </thead>\n",
       "  <tbody>\n",
       "    <tr>\n",
       "      <th>0</th>\n",
       "      <td>01 - Eureka</td>\n",
       "      <td>City of Eureka</td>\n",
       "      <td>a253a8d7acd57657bb98050f37dd6b0f</td>\n",
       "      <td>37981</td>\n",
       "      <td>18000</td>\n",
       "      <td>13102.61</td>\n",
       "      <td>2.90</td>\n",
       "      <td>47.39</td>\n",
       "    </tr>\n",
       "    <tr>\n",
       "      <th>1</th>\n",
       "      <td>01 - Eureka</td>\n",
       "      <td>Lake Transit Authority</td>\n",
       "      <td>0a3c0b21c85fb09f8db91599e14dd7f7</td>\n",
       "      <td>13320</td>\n",
       "      <td>12772</td>\n",
       "      <td>5433.32</td>\n",
       "      <td>2.45</td>\n",
       "      <td>95.89</td>\n",
       "    </tr>\n",
       "  </tbody>\n",
       "</table>\n",
       "</div>"
      ],
      "text/plain": [
       "  caltrans_district       organization_name         schedule_gtfs_dataset_key  \\\n",
       "0       01 - Eureka          City of Eureka  a253a8d7acd57657bb98050f37dd6b0f   \n",
       "1       01 - Eureka  Lake Transit Authority  0a3c0b21c85fb09f8db91599e14dd7f7   \n",
       "\n",
       "   total_vp  vp_in_shape  total_rt_service_minutes  vp_per_min_agency  \\\n",
       "0     37981        18000                  13102.61               2.90   \n",
       "1     13320        12772                   5433.32               2.45   \n",
       "\n",
       "   spatial_accuracy_agency  \n",
       "0                    47.39  \n",
       "1                    95.89  "
      ]
     },
     "execution_count": 15,
     "metadata": {},
     "output_type": "execute_result"
    }
   ],
   "source": [
    "agg1.head(2)"
   ]
  },
  {
   "cell_type": "markdown",
   "id": "b1d4b72a-e09d-41f0-bc13-c78e65bad8b0",
   "metadata": {},
   "source": [
    "### Functions "
   ]
  },
  {
   "cell_type": "code",
   "execution_count": 16,
   "id": "02a30975-d9d5-4174-8a5f-47c1e80970df",
   "metadata": {},
   "outputs": [],
   "source": [
    "def agency_metrics(analysis_date: str, dict_inputs: dict) -> pd.DataFrame:\n",
    "    # start = datetime.datetime.now()\n",
    "\n",
    "    ROUTE_EXPORT = dict_inputs.vp_route_direction_metrics\n",
    "    AGENCY_EXPORT = dict_inputs.vp_agency_metrics\n",
    "\n",
    "    # Read in dataframe.\n",
    "    df = pd.read_parquet(f\"{RT_SCHED_GCS}{ROUTE_EXPORT}_{analysis_date}.parquet\")\n",
    "\n",
    "    # Keep only all_day.\n",
    "    df = df.loc[df[\"time_period\"] == \"all_day\"].reset_index(drop=True)\n",
    "\n",
    "    # Aggregate\n",
    "    groupby_cols = [\n",
    "        \"caltrans_district\",\n",
    "        \"organization_name\",\n",
    "        \"schedule_gtfs_dataset_key\",\n",
    "    ]\n",
    "\n",
    "    sum_cols = [\"total_vp\", \"vp_in_shape\", \"total_rt_service_minutes\"]\n",
    "    agg1 = df.groupby(groupby_cols).agg({**{e: \"sum\" for e in sum_cols}}).reset_index()\n",
    "\n",
    "    agg1[\"vp_per_min_agency\"] = ((agg1.total_vp / agg1.total_rt_service_minutes)).round(\n",
    "        2\n",
    "    )\n",
    "    agg1[\"spatial_accuracy_agency\"] = ((agg1.vp_in_shape / agg1.total_vp) * 100).round(\n",
    "        2\n",
    "    )\n",
    "\n",
    "    agg1 = agg1.drop(columns=sum_cols)\n",
    "    # Save\n",
    "    agg1.to_parquet(f\"{RT_SCHED_GCS}{AGENCY_EXPORT}_TEST_{analysis_date}.parquet\")\n",
    "\n",
    "    # end = datetime.datetime.now()\n",
    "    # logger.info(f\"agency aggregation {analysis_date}: {end - start}\")\n",
    "\n",
    "    return agg1"
   ]
  },
  {
   "cell_type": "code",
   "execution_count": 17,
   "id": "7696d284-c8cb-4739-8131-dc873933994e",
   "metadata": {},
   "outputs": [],
   "source": [
    "analysis_date2 = rt_dates.DATES[\"apr2024\"]"
   ]
  },
  {
   "cell_type": "code",
   "execution_count": 18,
   "id": "815a5ad4-2422-44ed-86c2-2bd5c4eae693",
   "metadata": {},
   "outputs": [],
   "source": [
    "dict_inputs = GTFS_DATA_DICT.rt_vs_schedule_tables"
   ]
  },
  {
   "cell_type": "code",
   "execution_count": 19,
   "id": "85a4d3ea-cf58-44e7-901f-59414416e092",
   "metadata": {},
   "outputs": [],
   "source": [
    "apr_df = agency_metrics(\n",
    "    analysis_date2,\n",
    "    dict_inputs,\n",
    ")"
   ]
  },
  {
   "cell_type": "code",
   "execution_count": 20,
   "id": "0b62649f-15b6-459d-ab1d-b2627521abfe",
   "metadata": {},
   "outputs": [
    {
     "data": {
      "text/plain": [
       "0.8153321332404478"
      ]
     },
     "execution_count": 20,
     "metadata": {},
     "output_type": "execute_result"
    }
   ],
   "source": [
    "703396 / 862711"
   ]
  },
  {
   "cell_type": "code",
   "execution_count": 21,
   "id": "82ce25f9-3088-4d10-8427-f0fdf4f8c05f",
   "metadata": {},
   "outputs": [
    {
     "data": {
      "text/html": [
       "<div>\n",
       "<style scoped>\n",
       "    .dataframe tbody tr th:only-of-type {\n",
       "        vertical-align: middle;\n",
       "    }\n",
       "\n",
       "    .dataframe tbody tr th {\n",
       "        vertical-align: top;\n",
       "    }\n",
       "\n",
       "    .dataframe thead th {\n",
       "        text-align: right;\n",
       "    }\n",
       "</style>\n",
       "<table border=\"1\" class=\"dataframe\">\n",
       "  <thead>\n",
       "    <tr style=\"text-align: right;\">\n",
       "      <th></th>\n",
       "      <th>12</th>\n",
       "    </tr>\n",
       "  </thead>\n",
       "  <tbody>\n",
       "    <tr>\n",
       "      <th>caltrans_district</th>\n",
       "      <td>04 - Oakland</td>\n",
       "    </tr>\n",
       "    <tr>\n",
       "      <th>organization_name</th>\n",
       "      <td>Alameda-Contra Costa Transit District</td>\n",
       "    </tr>\n",
       "    <tr>\n",
       "      <th>schedule_gtfs_dataset_key</th>\n",
       "      <td>c499f905e33929a641f083dad55c521e</td>\n",
       "    </tr>\n",
       "    <tr>\n",
       "      <th>vp_per_min_agency</th>\n",
       "      <td>2.02</td>\n",
       "    </tr>\n",
       "    <tr>\n",
       "      <th>spatial_accuracy_agency</th>\n",
       "      <td>81.53</td>\n",
       "    </tr>\n",
       "  </tbody>\n",
       "</table>\n",
       "</div>"
      ],
      "text/plain": [
       "                                                              12\n",
       "caltrans_district                                   04 - Oakland\n",
       "organization_name          Alameda-Contra Costa Transit District\n",
       "schedule_gtfs_dataset_key       c499f905e33929a641f083dad55c521e\n",
       "vp_per_min_agency                                           2.02\n",
       "spatial_accuracy_agency                                    81.53"
      ]
     },
     "execution_count": 21,
     "metadata": {},
     "output_type": "execute_result"
    }
   ],
   "source": [
    "apr_df.loc[apr_df.organization_name == \"Alameda-Contra Costa Transit District\"].T"
   ]
  },
  {
   "cell_type": "code",
   "execution_count": 22,
   "id": "d006206a-48e0-49b4-ba68-cd279fd7f0dc",
   "metadata": {},
   "outputs": [
    {
     "data": {
      "text/html": [
       "<div>\n",
       "<style scoped>\n",
       "    .dataframe tbody tr th:only-of-type {\n",
       "        vertical-align: middle;\n",
       "    }\n",
       "\n",
       "    .dataframe tbody tr th {\n",
       "        vertical-align: top;\n",
       "    }\n",
       "\n",
       "    .dataframe thead th {\n",
       "        text-align: right;\n",
       "    }\n",
       "</style>\n",
       "<table border=\"1\" class=\"dataframe\">\n",
       "  <thead>\n",
       "    <tr style=\"text-align: right;\">\n",
       "      <th></th>\n",
       "      <th>34</th>\n",
       "    </tr>\n",
       "  </thead>\n",
       "  <tbody>\n",
       "    <tr>\n",
       "      <th>caltrans_district</th>\n",
       "      <td>04 - Oakland</td>\n",
       "    </tr>\n",
       "    <tr>\n",
       "      <th>organization_name</th>\n",
       "      <td>Sonoma-Marin Area Rail Transit District</td>\n",
       "    </tr>\n",
       "    <tr>\n",
       "      <th>schedule_gtfs_dataset_key</th>\n",
       "      <td>0881af3822466784992a49f1cc57d38f</td>\n",
       "    </tr>\n",
       "    <tr>\n",
       "      <th>vp_per_min_agency</th>\n",
       "      <td>3.01</td>\n",
       "    </tr>\n",
       "    <tr>\n",
       "      <th>spatial_accuracy_agency</th>\n",
       "      <td>99.61</td>\n",
       "    </tr>\n",
       "  </tbody>\n",
       "</table>\n",
       "</div>"
      ],
      "text/plain": [
       "                                                                34\n",
       "caltrans_district                                     04 - Oakland\n",
       "organization_name          Sonoma-Marin Area Rail Transit District\n",
       "schedule_gtfs_dataset_key         0881af3822466784992a49f1cc57d38f\n",
       "vp_per_min_agency                                             3.01\n",
       "spatial_accuracy_agency                                      99.61"
      ]
     },
     "execution_count": 22,
     "metadata": {},
     "output_type": "execute_result"
    }
   ],
   "source": [
    "apr_df.sample().T"
   ]
  },
  {
   "cell_type": "markdown",
   "id": "b3e76f4c-c933-490f-89bf-01369797e5b0",
   "metadata": {},
   "source": [
    "### Look at the files"
   ]
  },
  {
   "cell_type": "code",
   "execution_count": null,
   "id": "2038f4d6-1d3e-4331-b08f-aa2812a6b749",
   "metadata": {},
   "outputs": [],
   "source": []
  }
 ],
 "metadata": {
  "kernelspec": {
   "display_name": "Python 3 (ipykernel)",
   "language": "python",
   "name": "python3"
  },
  "language_info": {
   "codemirror_mode": {
    "name": "ipython",
    "version": 3
   },
   "file_extension": ".py",
   "mimetype": "text/x-python",
   "name": "python",
   "nbconvert_exporter": "python",
   "pygments_lexer": "ipython3",
   "version": "3.9.13"
  }
 },
 "nbformat": 4,
 "nbformat_minor": 5
}
