{
 "cells": [
  {
   "cell_type": "code",
   "execution_count": null,
   "id": "112e444a-2550-4356-991a-49778439c103",
   "metadata": {},
   "outputs": [],
   "source": [
    "import datetime\n",
    "import dask.dataframe as dd\n",
    "import dask_geopandas as dg\n",
    "import dask\n",
    "import geopandas as gpd\n",
    "import pandas as pd\n",
    "from scripts import vp_spatial_accuracy\n",
    "from segment_speed_utils import helpers\n",
    "from calitp_data_analysis.geography_utils import WGS84\n",
    "from segment_speed_utils.project_vars import (\n",
    "    PROJECT_CRS,\n",
    "    SEGMENT_GCS,\n",
    "    analysis_date,\n",
    "    GCS_FILE_PATH,\n",
    "    COMPILED_CACHED_VIEWS,\n",
    "    RT_SCHED_GCS,\n",
    "    CONFIG_PATH\n",
    ")\n",
    "\n",
    "# For speeds c2\n",
    "from typing import Literal\n",
    "import numpy as np\n",
    "\n",
    "# for speeds c3\n",
    "# also import numpy \n",
    "from shared_utils.rt_utils import MPH_PER_MPS\n",
    "from calitp_data_analysis import utils\n",
    "from shared_utils import portfolio_utils, schedule_rt_utils\n",
    "from segment_speed_utils import helpers, sched_rt_utils, wrangle_shapes, segment_calcs"
   ]
  }
 ],
 "metadata": {
  "kernelspec": {
   "display_name": "Python 3 (ipykernel)",
   "language": "python",
   "name": "python3"
  },
  "language_info": {
   "codemirror_mode": {
    "name": "ipython",
    "version": 3
   },
   "file_extension": ".py",
   "mimetype": "text/x-python",
   "name": "python",
   "nbconvert_exporter": "python",
   "pygments_lexer": "ipython3",
   "version": "3.9.13"
  }
 },
 "nbformat": 4,
 "nbformat_minor": 5
}
