{
 "cells": [
  {
   "cell_type": "code",
   "execution_count": 1,
   "id": "112e444a-2550-4356-991a-49778439c103",
   "metadata": {},
   "outputs": [],
   "source": [
    "import datetime\n",
    "import dask.dataframe as dd\n",
    "import dask_geopandas as dg\n",
    "import dask\n",
    "import geopandas as gpd\n",
    "import pandas as pd\n",
    "from scripts import vp_spatial_accuracy\n",
    "from segment_speed_utils import helpers\n",
    "from calitp_data_analysis.geography_utils import WGS84\n",
    "from segment_speed_utils.project_vars import (\n",
    "    PROJECT_CRS,\n",
    "    SEGMENT_GCS,\n",
    "    analysis_date,\n",
    "    GCS_FILE_PATH,\n",
    "    COMPILED_CACHED_VIEWS,\n",
    "    RT_SCHED_GCS,\n",
    "    CONFIG_PATH\n",
    ")\n",
    "\n",
    "from typing import Literal\n",
    "import numpy as np\n",
    "\n",
    "from shared_utils.rt_utils import MPH_PER_MPS\n",
    "from calitp_data_analysis import utils\n",
    "\n",
    "# cd rt_segment_speeds && pip install -r requirements.txt && cd\n",
    "from shared_utils import portfolio_utils, schedule_rt_utils\n",
    "from segment_speed_utils import helpers, sched_rt_utils, wrangle_shapes, segment_calcs"
   ]
  },
  {
   "cell_type": "code",
   "execution_count": null,
   "id": "a47f70d7-9e31-46f4-bd86-b3406c770f14",
   "metadata": {},
   "outputs": [],
   "source": [
    "pd.options.display.max_columns = 100\n",
    "pd.options.display.float_format = \"{:.2f}\".format\n",
    "pd.set_option(\"display.max_rows\", None)\n",
    "pd.set_option(\"display.max_colwidth\", None)"
   ]
  },
  {
   "cell_type": "markdown",
   "id": "42a83778-41bc-4248-a51a-f8ad9bd9d775",
   "metadata": {
    "jp-MarkdownHeadingCollapsed": true,
    "tags": []
   },
   "source": [
    "### All operators\n",
    "\n",
    "#### Links\n",
    "* https://github.com/cal-itp/data-analyses/blob/main/rt_segment_speeds/scripts/shapely_project_vp.py#L61\n",
    "\n",
    "#### Map partitions\n",
    "* Must specify data type\n",
    "* Exclude any cols I don't want in meta."
   ]
  },
  {
   "cell_type": "markdown",
   "id": "9c7482c1-2c6b-427a-9924-e1f0665d0937",
   "metadata": {},
   "source": [
    "### Spatial Accuracy\n",
    "* Should this be one big function?"
   ]
  },
  {
   "cell_type": "code",
   "execution_count": 2,
   "id": "02766c8a-c1ca-450b-9441-7df8a7189af0",
   "metadata": {},
   "outputs": [],
   "source": [
    "# 14,514,960 rows\n",
    "vp_usable= dd.read_parquet(\n",
    "      f\"{SEGMENT_GCS}vp_usable_{analysis_date}\"\n",
    ")"
   ]
  },
  {
   "cell_type": "code",
   "execution_count": null,
   "id": "e3139252-7ee1-45fd-8156-41ca15106b95",
   "metadata": {},
   "outputs": [],
   "source": [
    "# calitp-analytics-data/data-analyses/rt_segment_speeds/vp_usable_2023-10-11\n",
    "operator = \"Bay Area 511 Muni VehiclePositions\"\n",
    "gtfs_key = \"7cc0cb1871dfd558f11a2885c145d144\""
   ]
  },
  {
   "cell_type": "code",
   "execution_count": null,
   "id": "bc4aa89c-44a8-4b6f-b9d8-20a4766c4978",
   "metadata": {},
   "outputs": [],
   "source": [
    "\"\"\"\n",
    "vp_usable= dd.read_parquet(\n",
    "    f\"{SEGMENT_GCS}vp_usable_{analysis_date}\",\n",
    "    filters=[\n",
    "        [\n",
    "            (\"gtfs_dataset_name\", \"==\", operator),\n",
    "            (\"schedule_gtfs_dataset_key\", \"==\", gtfs_key),\n",
    "        ]\n",
    "    ],\n",
    ")\n",
    "\"\"\""
   ]
  },
  {
   "cell_type": "code",
   "execution_count": null,
   "id": "d2a2ad63-c340-4965-bc5b-4b7787b51212",
   "metadata": {},
   "outputs": [],
   "source": [
    "# vp_usable[['gtfs_dataset_name']].compute().nunique()"
   ]
  },
  {
   "cell_type": "code",
   "execution_count": null,
   "id": "37bbb7ac-92b3-488b-b7b9-754fdfdb4e8c",
   "metadata": {},
   "outputs": [],
   "source": [
    "def grab_shape_keys_in_vp(vp_usable: dd.DataFrame, analysis_date: str) -> pd.DataFrame:\n",
    "    \"\"\"\n",
    "    Subset raw vp and find unique trip_instance_keys.\n",
    "    Create crosswalk to link trip_instance_key to shape_array_key.\n",
    "    \"\"\"\n",
    "    vp_usable = vp_usable[['trip_instance_key']]\n",
    "    \n",
    "    vp_usable = vp_usable.drop_duplicates().reset_index(drop=True)\n",
    "\n",
    "    # Make sure we have a shape geometry too\n",
    "    # otherwise map_partitions will throw error\n",
    "    shapes = (\n",
    "        pd.read_parquet(\n",
    "            f\"{COMPILED_CACHED_VIEWS}routelines_{analysis_date}.parquet\",\n",
    "            columns=[\"shape_array_key\"],\n",
    "        )\n",
    "        .dropna()\n",
    "        .drop_duplicates()\n",
    "    )\n",
    "\n",
    "    trips_with_shape = (\n",
    "        helpers.import_scheduled_trips(\n",
    "            analysis_date,\n",
    "            columns=[\"trip_instance_key\", \"shape_array_key\"],\n",
    "            get_pandas=True,\n",
    "        )\n",
    "        .merge(shapes, on=\"shape_array_key\", how=\"inner\")\n",
    "        .merge(vp_usable, on=\"trip_instance_key\", how=\"inner\")\n",
    "        .drop_duplicates()\n",
    "        .dropna()\n",
    "        .reset_index(drop=True)\n",
    "    )\n",
    "    \n",
    "    trips_with_shape = trips_with_shape[[\"trip_instance_key\", \"shape_array_key\"]]\n",
    "\n",
    "    return trips_with_shape"
   ]
  },
  {
   "cell_type": "code",
   "execution_count": null,
   "id": "e38c2d99-d9f0-44f2-8ccc-cadd8fa10bc7",
   "metadata": {},
   "outputs": [],
   "source": [
    "trips_with_shape = vp_usable.map_partitions(\n",
    "        grab_shape_keys_in_vp,\n",
    "        analysis_date,\n",
    "        meta = {\"trip_instance_key\": \"object\",\n",
    "               \"shape_array_key\": \"object\"},\n",
    "        align_dataframes = False\n",
    "    ).persist()"
   ]
  },
  {
   "cell_type": "code",
   "execution_count": null,
   "id": "f04b996e-6120-4204-9a20-65c85f160a8b",
   "metadata": {},
   "outputs": [],
   "source": [
    "\n",
    "len(trips_with_shape)"
   ]
  },
  {
   "cell_type": "code",
   "execution_count": null,
   "id": "2b9a0065-e13e-4bf2-9f05-eceef68496d5",
   "metadata": {},
   "outputs": [],
   "source": [
    "def buffer_shapes2(\n",
    "    trips_with_shape_subset: pd.DataFrame,\n",
    "    analysis_date: str,\n",
    "    buffer_meters: int = 35,\n",
    "    **kwargs\n",
    ") -> gpd.GeoDataFrame:\n",
    "    \"\"\"\n",
    "    Filter scheduled shapes down to the shapes that appear in vp.\n",
    "    Buffer these.\n",
    "    \n",
    "    Attach the shape geometry for a subset of shapes or trips.\n",
    "    \"\"\"\n",
    "    subset = trips_with_shape.shape_array_key.unique()\n",
    "    subset = subset.compute().tolist()\n",
    "    \n",
    "    shapes = helpers.import_scheduled_shapes(\n",
    "        analysis_date,\n",
    "        columns = [\"shape_array_key\", \"geometry\"],\n",
    "        filters = [[(\"shape_array_key\", \"in\", subset)]],\n",
    "        crs = PROJECT_CRS,\n",
    "        get_pandas = True\n",
    "    )\n",
    "    \n",
    "    # to_crs takes awhile, so do a filtering on only shapes we need\n",
    "    shapes = shapes.assign(\n",
    "        geometry = shapes.geometry.buffer(buffer_meters)\n",
    "    )\n",
    "    \n",
    "    trips_with_shape_geom = pd.merge(\n",
    "        shapes,\n",
    "        trips_with_shape_subset,\n",
    "        on = \"shape_array_key\",\n",
    "        how = \"inner\"\n",
    "    )\n",
    "    \n",
    "    return trips_with_shape_geom\n"
   ]
  },
  {
   "cell_type": "code",
   "execution_count": null,
   "id": "bd89b61b-4388-4c8c-84a8-21d2154cfe9a",
   "metadata": {
    "scrolled": true,
    "tags": []
   },
   "outputs": [],
   "source": [
    "\"\"\"\n",
    "buffer_shapes = trips_with_shape.map_partitions(\n",
    "        buffer_shapes2,\n",
    "        analysis_date,\n",
    "        35,\n",
    "        meta = {\n",
    "               \"shape_array_key\": \"object\",\n",
    "               \"geometry\":\"geometry\",\n",
    "                \"trip_instance_key\": \"object\"},\n",
    "        align_dataframes = False\n",
    "    ).persist()\n",
    "    \"\"\""
   ]
  },
  {
   "cell_type": "code",
   "execution_count": null,
   "id": "92045c8c-3c9e-4097-b22c-0bdd459ea24b",
   "metadata": {},
   "outputs": [],
   "source": [
    "len(buffer_shapes)"
   ]
  },
  {
   "cell_type": "code",
   "execution_count": null,
   "id": "2246dcba-033c-4ba3-bc35-e1a7a9456572",
   "metadata": {},
   "outputs": [],
   "source": [
    "def merge_vp_with_shape_and_count(\n",
    "    vp: dd.DataFrame, trips_with_shape_geom: gpd.GeoDataFrame\n",
    ") -> gpd.GeoDataFrame:\n",
    "    \"\"\"\n",
    "    Merge vp with crosswalk and buffered shapes.\n",
    "    Get vp count totals and vp within shape.\n",
    "    \"\"\"\n",
    "    # COMMENT BACK IN ONCE I MERGE WITH MAIN\n",
    "    # vp_gdf = wrangle_shapes.vp_as_gdf(vp)\n",
    "\n",
    "    vp_gdf = gpd.GeoDataFrame(\n",
    "        vp, geometry=gpd.points_from_xy(vp.x, vp.y), crs=WGS84\n",
    "    ).to_crs(PROJECT_CRS)\n",
    "    \n",
    "    # NEW\n",
    "    trips_with_shape_geom = trips_with_shape_geom.set_geometry('geometry')\n",
    "    trips_with_shape_geom = trips_with_shape_geom.set_crs(PROJECT_CRS)\n",
    "    vp_gdf = vp_gdf.rename(\n",
    "        columns={\n",
    "            0: \"gtfs_dataset_name\",\n",
    "            1: \"schedule_gtfs_dataset_key\",\n",
    "            2: \"trip_id\",\n",
    "            3: \"trip_instance_key\",\n",
    "            4: \"location_timestamp\",\n",
    "            5: \"location_timestamp_local\",\n",
    "            6: \"x\",\n",
    "            7: \"y\",\n",
    "            8: \"vp_idx\",\n",
    "            9: \"gtfs_dataset_key\",\n",
    "            10: \"vp_dir_xnorm\",\n",
    "            11: \"vp_dir_ynorm\",\n",
    "            12: \"vp_primary_direction\",\n",
    "        }\n",
    "    )\n",
    "\n",
    "    vp2 = pd.merge(\n",
    "        vp_gdf, trips_with_shape_geom, on=\"trip_instance_key\", how=\"inner\"\n",
    "    ).reset_index(drop=True)\n",
    "\n",
    "    total_vp = vp_spatial_accuracy.total_vp_counts_by_trip(vp2)\n",
    "\n",
    "    vp2 = vp2.assign(is_within=vp2.geometry_x.within(vp2.geometry_y)).query(\n",
    "        \"is_within==True\"\n",
    "    )\n",
    "\n",
    "    vps_in_shape = (\n",
    "        vp2.groupby(\"trip_instance_key\", observed=True, group_keys=False)\n",
    "        .agg({\"location_timestamp_local\": \"count\"})\n",
    "        .reset_index()\n",
    "        .rename(columns={\"location_timestamp_local\": \"vp_in_shape\"})\n",
    "    )\n",
    "\n",
    "    count_df = pd.merge(total_vp, vps_in_shape, on=\"trip_instance_key\", how=\"left\")\n",
    "\n",
    "    count_df = count_df.assign(\n",
    "        vp_in_shape=count_df.vp_in_shape.fillna(0).astype(\"int32\"),\n",
    "        total_vp=count_df.total_vp.fillna(0).astype(\"int32\"),\n",
    "    )\n",
    "\n",
    "    count_df[\"total_vp_in_shape_pct\"] = count_df.vp_in_shape / count_df.total_vp * 100\n",
    "\n",
    "    return count_df"
   ]
  },
  {
   "cell_type": "code",
   "execution_count": null,
   "id": "7213c96a-abc8-43a8-996c-39915cb454ed",
   "metadata": {
    "scrolled": true,
    "tags": []
   },
   "outputs": [],
   "source": [
    "# The kernel for data-analyses/rt_scheduled_v_ran/03_metrics_all_ops.ipynb appears to have died. It will restart automatically.\n",
    "\"\"\"\n",
    "spatial_accuracy_df = vp_usable.map_partitions(\n",
    "        merge_vp_with_shape_and_count,\n",
    "        buffer_shapes,\n",
    "        meta = {'trip_instance_key':'object', \n",
    "                'total_vp':'int32', \n",
    "                'vp_in_shape':'int32',\n",
    "                 'total_vp_in_shape_pct':'float64'},\n",
    "        align_dataframes = False\n",
    "    ).persist()\n",
    "    \"\"\""
   ]
  },
  {
   "cell_type": "code",
   "execution_count": null,
   "id": "5ab1bacc-5fc9-4375-b060-0baff4691df8",
   "metadata": {},
   "outputs": [],
   "source": []
  },
  {
   "cell_type": "code",
   "execution_count": null,
   "id": "4f2f2548-3ea8-47f0-854d-15379e4f0f44",
   "metadata": {},
   "outputs": [],
   "source": [
    "def spatial_accuracy(vp_usable: dd.DataFrame, analysis_date:str):\n",
    "    trips_with_shape = grab_shape_keys_in_vp(vp_usable, analysis_date)\n",
    "    \n",
    "    trips_with_shape_geom = buffer_shapes2(trips_with_shape,analysis_date,  35)\n",
    "\n",
    "    spatial_accuracy = merge_vp_with_shape_and_count(vp_usable, trips_with_shape_geom)\n",
    "\n",
    "    return spatial_accuracy"
   ]
  },
  {
   "cell_type": "code",
   "execution_count": null,
   "id": "8587f9e1-bb80-4fce-997b-09c72cda18ee",
   "metadata": {
    "scrolled": true,
    "tags": []
   },
   "outputs": [],
   "source": [
    "spatial_accuracy_df = vp_usable.map_partitions(\n",
    "        spatial_accuracy,\n",
    "        analysis_date,\n",
    "        meta = {'trip_instance_key':'object', \n",
    "                'total_vp':'int32', \n",
    "                'vp_in_shape':'int32',\n",
    "                 'total_vp_in_shape_pct':'float64'},\n",
    "        align_dataframes = False\n",
    "    ).persist()"
   ]
  },
  {
   "cell_type": "code",
   "execution_count": null,
   "id": "82273999-60ee-41e4-a225-0b552a987db7",
   "metadata": {},
   "outputs": [],
   "source": [
    "len(spatial_accuracy_df)"
   ]
  },
  {
   "cell_type": "markdown",
   "id": "5a5ed00b-d06b-483b-88dc-aac433fc118a",
   "metadata": {},
   "source": [
    "### Update Completeness"
   ]
  },
  {
   "cell_type": "code",
   "execution_count": 3,
   "id": "f804c1c9-691d-49a7-84a0-18e95c494e39",
   "metadata": {},
   "outputs": [],
   "source": [
    "def pct_of_pings(df: pd.DataFrame):\n",
    "\n",
    "    # Determine which rows have 2+ pings per minute\n",
    "    df2 = df.assign(\n",
    "        atleast2_trip_updates=df.apply(\n",
    "            lambda x: 1 if x.number_of_pings_per_minute >= 2 else 0, axis=1\n",
    "        )\n",
    "    )\n",
    "\n",
    "    # Calculate total trip time\n",
    "    df2[\"max_time\"] = df2.location_timestamp_local\n",
    "    df3 = (\n",
    "        df2.groupby([\"trip_instance_key\"])\n",
    "        .agg(\n",
    "            {\n",
    "                \"location_timestamp_local\": \"min\",\n",
    "                \"max_time\": \"max\",\n",
    "                \"atleast2_trip_updates\": \"sum\",\n",
    "            }\n",
    "        )\n",
    "        .reset_index()\n",
    "        .rename(columns={\"location_timestamp_local\": \"min_time\"})\n",
    "    )\n",
    "\n",
    "    # Add an extra minute\n",
    "    df3[\"total_trip_time\"] = (df3.max_time - df3.min_time) / pd.Timedelta(minutes=1) + 1\n",
    "\n",
    "    # Find % of each trip in which one minute has 2+ pings\n",
    "    df3 = df3.assign(\n",
    "        pct_with_2_pings_per_min=df3.atleast2_trip_updates.divide(df3.total_trip_time)\n",
    "        * 100\n",
    "    )\n",
    "\n",
    "    return df3"
   ]
  },
  {
   "cell_type": "code",
   "execution_count": 7,
   "id": "8aac95fb-3db2-459a-9422-7b45eee7d33c",
   "metadata": {},
   "outputs": [],
   "source": [
    "# filter down columns to time\n",
    "vp_usable2 = vp_usable[[\"trip_instance_key\", \"vp_idx\", \"location_timestamp_local\"]]"
   ]
  },
  {
   "cell_type": "code",
   "execution_count": 12,
   "id": "35a72b1b-fed4-4fde-ac86-6035e81d925b",
   "metadata": {},
   "outputs": [],
   "source": [
    "def counting(vp_usable):\n",
    "    count = (vp_usable.groupby([\"trip_instance_key\",\n",
    "                   pd.Grouper(key=\"location_timestamp_local\", freq=\"5Min\")\n",
    "                  ], \n",
    "                  observed=True, group_keys=False)\n",
    "             .vp_idx.count()\n",
    "             .reset_index()\n",
    "            )\n",
    "    return count"
   ]
  },
  {
   "cell_type": "code",
   "execution_count": 13,
   "id": "1327b362-67c8-4666-b6c6-90a5eb4f662b",
   "metadata": {},
   "outputs": [
    {
     "data": {
      "text/html": [
       "<div>\n",
       "<style scoped>\n",
       "    .dataframe tbody tr th:only-of-type {\n",
       "        vertical-align: middle;\n",
       "    }\n",
       "\n",
       "    .dataframe tbody tr th {\n",
       "        vertical-align: top;\n",
       "    }\n",
       "\n",
       "    .dataframe thead th {\n",
       "        text-align: right;\n",
       "    }\n",
       "</style>\n",
       "<table border=\"1\" class=\"dataframe\">\n",
       "  <thead>\n",
       "    <tr style=\"text-align: right;\">\n",
       "      <th></th>\n",
       "      <th>trip_instance_key</th>\n",
       "      <th>location_timestamp_local</th>\n",
       "      <th>vp_idx</th>\n",
       "    </tr>\n",
       "  </thead>\n",
       "  <tbody>\n",
       "    <tr>\n",
       "      <th>0</th>\n",
       "      <td>01d684e5d18b56f09f2eb816241b77b1</td>\n",
       "      <td>2023-10-11 10:45:00</td>\n",
       "      <td>11</td>\n",
       "    </tr>\n",
       "    <tr>\n",
       "      <th>1</th>\n",
       "      <td>01d684e5d18b56f09f2eb816241b77b1</td>\n",
       "      <td>2023-10-11 10:50:00</td>\n",
       "      <td>13</td>\n",
       "    </tr>\n",
       "    <tr>\n",
       "      <th>2</th>\n",
       "      <td>01d684e5d18b56f09f2eb816241b77b1</td>\n",
       "      <td>2023-10-11 10:55:00</td>\n",
       "      <td>6</td>\n",
       "    </tr>\n",
       "    <tr>\n",
       "      <th>3</th>\n",
       "      <td>0828e4c01c7313d43981af8c2e198491</td>\n",
       "      <td>2023-10-11 11:50:00</td>\n",
       "      <td>5</td>\n",
       "    </tr>\n",
       "    <tr>\n",
       "      <th>4</th>\n",
       "      <td>0828e4c01c7313d43981af8c2e198491</td>\n",
       "      <td>2023-10-11 11:55:00</td>\n",
       "      <td>15</td>\n",
       "    </tr>\n",
       "    <tr>\n",
       "      <th>...</th>\n",
       "      <td>...</td>\n",
       "      <td>...</td>\n",
       "      <td>...</td>\n",
       "    </tr>\n",
       "    <tr>\n",
       "      <th>398</th>\n",
       "      <td>fe66e263bc41d1d08c807c4f9f3797be</td>\n",
       "      <td>2023-10-11 12:00:00</td>\n",
       "      <td>11</td>\n",
       "    </tr>\n",
       "    <tr>\n",
       "      <th>399</th>\n",
       "      <td>fe66e263bc41d1d08c807c4f9f3797be</td>\n",
       "      <td>2023-10-11 12:05:00</td>\n",
       "      <td>7</td>\n",
       "    </tr>\n",
       "    <tr>\n",
       "      <th>400</th>\n",
       "      <td>fe66e263bc41d1d08c807c4f9f3797be</td>\n",
       "      <td>2023-10-11 12:10:00</td>\n",
       "      <td>11</td>\n",
       "    </tr>\n",
       "    <tr>\n",
       "      <th>401</th>\n",
       "      <td>fe66e263bc41d1d08c807c4f9f3797be</td>\n",
       "      <td>2023-10-11 12:15:00</td>\n",
       "      <td>4</td>\n",
       "    </tr>\n",
       "    <tr>\n",
       "      <th>402</th>\n",
       "      <td>fe66e263bc41d1d08c807c4f9f3797be</td>\n",
       "      <td>2023-10-11 12:20:00</td>\n",
       "      <td>2</td>\n",
       "    </tr>\n",
       "  </tbody>\n",
       "</table>\n",
       "<p>1203824 rows × 3 columns</p>\n",
       "</div>"
      ],
      "text/plain": [
       "                    trip_instance_key location_timestamp_local  vp_idx\n",
       "0    01d684e5d18b56f09f2eb816241b77b1      2023-10-11 10:45:00      11\n",
       "1    01d684e5d18b56f09f2eb816241b77b1      2023-10-11 10:50:00      13\n",
       "2    01d684e5d18b56f09f2eb816241b77b1      2023-10-11 10:55:00       6\n",
       "3    0828e4c01c7313d43981af8c2e198491      2023-10-11 11:50:00       5\n",
       "4    0828e4c01c7313d43981af8c2e198491      2023-10-11 11:55:00      15\n",
       "..                                ...                      ...     ...\n",
       "398  fe66e263bc41d1d08c807c4f9f3797be      2023-10-11 12:00:00      11\n",
       "399  fe66e263bc41d1d08c807c4f9f3797be      2023-10-11 12:05:00       7\n",
       "400  fe66e263bc41d1d08c807c4f9f3797be      2023-10-11 12:10:00      11\n",
       "401  fe66e263bc41d1d08c807c4f9f3797be      2023-10-11 12:15:00       4\n",
       "402  fe66e263bc41d1d08c807c4f9f3797be      2023-10-11 12:20:00       2\n",
       "\n",
       "[1203824 rows x 3 columns]"
      ]
     },
     "execution_count": 13,
     "metadata": {},
     "output_type": "execute_result"
    }
   ],
   "source": [
    "vp_usable2.map_partitions(\n",
    "    counting,\n",
    "    meta = {\"trip_instance_key\": \"object\",\n",
    "           \"location_timestamp_local\": \"datetime64[ns]\",\n",
    "           \"vp_idx\": \"int\"},\n",
    "    align_dataframes = False\n",
    ").compute()"
   ]
  },
  {
   "cell_type": "code",
   "execution_count": 4,
   "id": "6bea8baa-515c-4e36-b160-5ff7b676047e",
   "metadata": {},
   "outputs": [],
   "source": [
    "def density_of_pings(df: pd.DataFrame):\n",
    "\n",
    "    # Count number of pings that occur\n",
    "    # on average per 5 minutes of the trip\n",
    "    df2 = (\n",
    "        df.groupby(\n",
    "            [\n",
    "                *[\"trip_instance_key\"],\n",
    "                pd.Grouper(key=\"location_timestamp_local\", freq=\"5Min\"),\n",
    "            ]\n",
    "        )\n",
    "        .sum()\n",
    "        .reset_index()\n",
    "        .rename(columns={\"number_of_pings_per_minute\": \"number_of_pings_per_5_min\"})\n",
    "    )\n",
    "\n",
    "    df3 = (\n",
    "        df2.groupby([\"trip_instance_key\"])\n",
    "        .agg({\"number_of_pings_per_5_min\": \"median\"})\n",
    "        .reset_index()\n",
    "    )\n",
    "\n",
    "    df3[\"avg_pings_per_5_min\"] = df3.number_of_pings_per_5_min / 5\n",
    "\n",
    "    return df3"
   ]
  },
  {
   "cell_type": "code",
   "execution_count": 5,
   "id": "8eca4ec7-e4c0-411b-936b-902b0d3f5560",
   "metadata": {},
   "outputs": [],
   "source": [
    "def total_minutes_with_gtfs(df: pd.DataFrame):\n",
    "    \"\"\"\n",
    "    Total minutes of a trip that recorded any\n",
    "    vehicle positions.\n",
    "    \"\"\"\n",
    "    df2 = (\n",
    "        df.groupby([\"trip_instance_key\"])\n",
    "        .agg({\"gtfs_dataset_key\": \"count\"})\n",
    "        .rename(columns={\"gtfs_dataset_key\": \"total_minutes_w_gtfs\"})\n",
    "        .reset_index()\n",
    "    )\n",
    "    return df2"
   ]
  },
  {
   "cell_type": "code",
   "execution_count": null,
   "id": "4ad8a096-858b-4db4-b417-a2b3ca295d4d",
   "metadata": {},
   "outputs": [],
   "source": [
    "def update_completeness(df: pd.DataFrame):\n",
    "    \n",
    "    complete_cols = [\n",
    "    \"vp_idx\",\n",
    "    \"location_timestamp_local\",\n",
    "    \"trip_instance_key\",\n",
    "    \"gtfs_dataset_key\"]\n",
    "    \n",
    "    df = df[complete_cols]\n",
    "    \n",
    "    # Find number of pings per minute for each trip\n",
    "    df = df.sort_values([\"vp_idx\"]).reset_index(drop=True)\n",
    "\n",
    "    df2 = (\n",
    "        df.groupby(\n",
    "            [\n",
    "                *[\"trip_instance_key\"],\n",
    "                pd.Grouper(key=\"location_timestamp_local\", freq=\"1Min\"),\n",
    "            ]\n",
    "        )\n",
    "        .count()\n",
    "        .reset_index()\n",
    "        .rename(columns={\"vp_idx\": \"number_of_pings_per_minute\"})\n",
    "    )\n",
    "\n",
    "    pings_df = pct_of_pings(df2)\n",
    "    density_df = density_of_pings(df2)\n",
    "    total_minutes_df = total_minutes_with_gtfs(df2)\n",
    "\n",
    "    m1 = pings_df.merge(density_df, on=\"trip_instance_key\", how=\"inner\").merge(\n",
    "        total_minutes_df, on=\"trip_instance_key\", how=\"inner\"\n",
    "    )\n",
    "\n",
    "    m1 = m1.drop(columns=[\"min_time\", \"max_time\", \"number_of_pings_per_5_min\"])\n",
    "    return m1\n"
   ]
  },
  {
   "cell_type": "code",
   "execution_count": null,
   "id": "82eb6310-1245-4a8b-b14c-0936091cd43a",
   "metadata": {},
   "outputs": [],
   "source": [
    "update_completeness_df = vp_usable.map_partitions(\n",
    "       update_completeness,\n",
    "        meta = {'trip_instance_key':'object', \n",
    "                'atleast2_trip_updates':'int64', \n",
    "                'total_trip_time':'float64',\n",
    "                 'pct_with_2_pings_per_min':'float64',\n",
    "               'avg_pings_per_5_min':'float64',\n",
    "               'total_minutes_w_gtfs':'float64'},\n",
    "        align_dataframes = False\n",
    "    ).persist()"
   ]
  },
  {
   "cell_type": "code",
   "execution_count": null,
   "id": "505acc89-3377-45bc-bd60-f3cdc75af518",
   "metadata": {},
   "outputs": [],
   "source": [
    "type(update_completeness_df)"
   ]
  },
  {
   "cell_type": "code",
   "execution_count": null,
   "id": "34a21ae5-9b71-4089-977b-93759ff03865",
   "metadata": {},
   "outputs": [],
   "source": [
    "len(update_completeness_df)"
   ]
  },
  {
   "cell_type": "code",
   "execution_count": null,
   "id": "eec762c4-0ff7-4b9f-a352-2381f6b1f0a2",
   "metadata": {},
   "outputs": [],
   "source": [
    "# update_completeness_df2 = update_completeness_df.compute()"
   ]
  },
  {
   "cell_type": "code",
   "execution_count": null,
   "id": "a1fd932d-3123-4782-b8f5-8a65ae261ed9",
   "metadata": {},
   "outputs": [],
   "source": [
    "# update_completeness_df2.head()"
   ]
  },
  {
   "cell_type": "markdown",
   "id": "37519050-7604-4873-a46a-23e8c99ff581",
   "metadata": {},
   "source": [
    "### Speeds"
   ]
  },
  {
   "cell_type": "code",
   "execution_count": 14,
   "id": "513d154a-09bf-4d4b-847b-c1b60dc5faa6",
   "metadata": {},
   "outputs": [],
   "source": [
    "trip_speeds = dd.read_parquet(\n",
    "    f\"{SEGMENT_GCS}trip_summary/trip_speeds_{analysis_date}.parquet\",\n",
    "    columns=[\n",
    "        \"trip_instance_key\",\n",
    "        \"speed_mph\",\n",
    "        \"route_id\",\n",
    "        \"time_of_day\",\n",
    "        \"service_minutes\",\n",
    "    ],\n",
    ")"
   ]
  },
  {
   "cell_type": "code",
   "execution_count": null,
   "id": "cc4fda4c-5329-4a65-9d94-3d13e4a453e1",
   "metadata": {},
   "outputs": [],
   "source": [
    "entire_df = (dd.merge(trip_speeds, spatial_accuracy_df, on=\"trip_instance_key\", how=\"outer\").merge(update_completeness_df,  on = \"trip_instance_key\", how = \"outer\"))\n"
   ]
  },
  {
   "cell_type": "code",
   "execution_count": null,
   "id": "fa97d025-319c-49b7-81c9-1a18765424b5",
   "metadata": {},
   "outputs": [],
   "source": [
    "entire_df.columns"
   ]
  },
  {
   "cell_type": "code",
   "execution_count": null,
   "id": "81b87771-8fef-48ea-a306-da5706e9c206",
   "metadata": {},
   "outputs": [],
   "source": [
    "type(entire_df)"
   ]
  },
  {
   "cell_type": "code",
   "execution_count": null,
   "id": "39d6387f-8654-470a-808c-5f3fdd796b48",
   "metadata": {},
   "outputs": [],
   "source": [
    "entire_df = entire_df.compute()"
   ]
  },
  {
   "cell_type": "markdown",
   "id": "b4257b97-ee7b-4c9f-b082-82388a88c338",
   "metadata": {},
   "source": [
    "### To do\n",
    "* Rename pct_with_2_pings_per_min\n",
    "* Rename atleast2_trip_updates to be something clearer\n",
    "* Delete total_vp and vp_in_shape\n",
    "\n",
    "\n",
    "Questions\n",
    "* Should I bring in gtfs schedule key in `trip_speeds`\n",
    "* What to do with rows with `nans` because I did outer joins?\n",
    "    * 12% of the row don't have speed_mph information\n",
    "\n",
    "Werid trips\n",
    "* ff14aa6f478c00075d8c78741cbd17cd has 12 service minutes but 55 total trip time."
   ]
  },
  {
   "cell_type": "code",
   "execution_count": null,
   "id": "16b5ab6d-da25-47d4-9caa-ec98ee9dc4e8",
   "metadata": {},
   "outputs": [],
   "source": [
    "entire_df = pd.read_parquet('./ah_test')"
   ]
  },
  {
   "cell_type": "code",
   "execution_count": null,
   "id": "327e8390-fad3-41ce-b185-873a960f9d13",
   "metadata": {},
   "outputs": [],
   "source": [
    "entire_df = entire_df.drop(columns = ['total_vp','vp_in_shape'])"
   ]
  },
  {
   "cell_type": "code",
   "execution_count": null,
   "id": "cd5b634b-f8ba-4b08-beda-75a57120afbe",
   "metadata": {},
   "outputs": [],
   "source": [
    "entire_df.sample(5)"
   ]
  },
  {
   "cell_type": "code",
   "execution_count": null,
   "id": "25f99bdd-3c67-4d09-9554-ec7c1fcb3b66",
   "metadata": {},
   "outputs": [],
   "source": [
    "entire_df.loc[entire_df.trip_instance_key == \"9323cb6c9e3babc5bc8420cd960affee\"]"
   ]
  },
  {
   "cell_type": "code",
   "execution_count": null,
   "id": "eee1ffec-8f68-419a-ba29-c7acb86eb13c",
   "metadata": {},
   "outputs": [],
   "source": [
    "entire_df.total_vp_in_shape_pct.describe()"
   ]
  },
  {
   "cell_type": "code",
   "execution_count": null,
   "id": "986998fa-91cf-4288-b2ee-ba62028bcc21",
   "metadata": {},
   "outputs": [],
   "source": [
    "entire_df.pct_with_2_pings_per_min.describe()"
   ]
  },
  {
   "cell_type": "markdown",
   "id": "c6ae6c09-817f-44cc-bea0-c92d0be066c8",
   "metadata": {},
   "source": [
    "### Trip Timeliness\n",
    "* Using % to measure timeliness\n",
    "    * A trip that is scheduled to run 30 minutes but has 34 minutes of gtfs data is 15% slower than it's \"supposed\" to be.\n",
    "* What to do with extreme values.\n",
    "    * Service minutes is 12, but trip time is 1,440 minutes."
   ]
  },
  {
   "cell_type": "code",
   "execution_count": null,
   "id": "a9562b67-3672-475d-8811-1f315334a454",
   "metadata": {},
   "outputs": [],
   "source": [
    "entire_df[\"trip_timeliness_pct\"] = (entire_df.total_trip_time / entire_df.service_minutes - 1) * 100"
   ]
  },
  {
   "cell_type": "code",
   "execution_count": null,
   "id": "4190fa11-c5ef-43e8-92c3-af8e0f9a9425",
   "metadata": {},
   "outputs": [],
   "source": [
    "# entire_df.trip_timeliness_pct = (entire_df.trip_timeliness_pct / 5).fillna(0).round().astype(int) * 5"
   ]
  },
  {
   "cell_type": "code",
   "execution_count": null,
   "id": "629466fe-f2ca-4f96-bd5f-599eb45cf2f3",
   "metadata": {},
   "outputs": [],
   "source": [
    "entire_df.trip_timeliness_pct.describe()"
   ]
  },
  {
   "cell_type": "code",
   "execution_count": null,
   "id": "6c992660-dce5-468d-8801-33bca6331cbc",
   "metadata": {},
   "outputs": [],
   "source": [
    "entire_df[[\"trip_timeliness_pct\", \"total_trip_time\", \"total_minutes_w_gtfs\",\"service_minutes\"]].sample(10)"
   ]
  },
  {
   "cell_type": "markdown",
   "id": "16ee7247-8c5c-4e1b-bd8c-0812a71d282c",
   "metadata": {},
   "source": [
    "### Metric: GTFS Coverage\n",
    "#### Comparing `total_trip_time` with `total_minutes_w_gtfs`\n",
    "* The trip can run from 11 am to 12 pm but skip recording data in between 11:30-11:45. \n",
    "    * Thus the total trip time would be one hour but minutes with gtfs would be 45 minutes.\n",
    "* On the otherhand, a trip can run for much longer (by accident)\n",
    "    * As seen  below in which the trip is 11,900% faster..."
   ]
  },
  {
   "cell_type": "code",
   "execution_count": null,
   "id": "735e8073-55b7-4ddc-89a9-79c172a60c66",
   "metadata": {},
   "outputs": [],
   "source": [
    "entire_df['gtfs_coverage_v_total_trip_time_pct'] = (entire_df.total_minutes_w_gtfs/entire_df.total_trip_time) * 100"
   ]
  },
  {
   "cell_type": "code",
   "execution_count": null,
   "id": "18443da5-8605-4a2f-aee6-fdaaa3adc035",
   "metadata": {},
   "outputs": [],
   "source": [
    "# Rounds up\n",
    "# entire_df['gtfs_coverage_v_total_trip_time_pct'] = (entire_df.gtfs_coverage_v_total_trip_time_pct / 5).fillna(0).round().astype(int) * 5"
   ]
  },
  {
   "cell_type": "code",
   "execution_count": null,
   "id": "5931fa39-0144-4e34-aa6d-af5e20b926a0",
   "metadata": {},
   "outputs": [],
   "source": [
    "entire_df['gtfs_coverage_v_total_trip_time_pct'].describe()"
   ]
  },
  {
   "cell_type": "code",
   "execution_count": null,
   "id": "7c7f090a-03e5-4e9b-92d4-afb01128a658",
   "metadata": {},
   "outputs": [],
   "source": [
    "entire_df.loc[entire_df['gtfs_coverage_v_total_trip_time_pct'] < 99].shape"
   ]
  },
  {
   "cell_type": "code",
   "execution_count": null,
   "id": "07bfd405-3793-4d72-80e8-1949b7448bdf",
   "metadata": {},
   "outputs": [],
   "source": [
    "entire_df.loc[entire_df['gtfs_coverage_v_total_trip_time_pct'] < 99].gtfs_coverage_v_total_trip_time_pct.describe()"
   ]
  },
  {
   "cell_type": "code",
   "execution_count": null,
   "id": "bd6f55e1-e7ef-4e24-9846-606c77a4b1c0",
   "metadata": {},
   "outputs": [],
   "source": [
    "len(entire_df)"
   ]
  },
  {
   "cell_type": "code",
   "execution_count": null,
   "id": "eb754a82-7a9c-4386-8116-a9084876c56f",
   "metadata": {},
   "outputs": [],
   "source": [
    "# entire_df[['gtfs_coverage_v_total_trip_time_rounded', 'gtfs_coverage_v_total_trip_time']].sample(10)"
   ]
  },
  {
   "cell_type": "markdown",
   "id": "9d01f764-2454-4ef9-9192-8c96489a35c4",
   "metadata": {},
   "source": [
    "##### One trip - extreme\n",
    "* First time stamp is at 7am on 10/11.\n",
    "* Last timestamp is 10/12 at 7am."
   ]
  },
  {
   "cell_type": "code",
   "execution_count": null,
   "id": "5ac5a470-5f86-4a70-9e52-2dd2a25e297d",
   "metadata": {},
   "outputs": [],
   "source": [
    "# 14,514,960 rows\n",
    "#vp_usable_pd = pd.read_parquet(\n",
    "#      f\"{SEGMENT_GCS}vp_usable_{analysis_date}\"\n",
    "#)"
   ]
  },
  {
   "cell_type": "code",
   "execution_count": null,
   "id": "075fdd99-a2b6-41c1-8e19-09db3a2f3281",
   "metadata": {
    "scrolled": true,
    "tags": []
   },
   "outputs": [],
   "source": [
    "# vp_usable_pd.loc[vp_usable_pd.trip_instance_key == \"a86db56c6c67f9ae4c1a4c828d5e9f91\"].sort_values(['location_timestamp'])"
   ]
  },
  {
   "cell_type": "code",
   "execution_count": null,
   "id": "edab3e1e-3845-4fed-b5fe-9cb520b607d7",
   "metadata": {},
   "outputs": [],
   "source": [
    "entire_df.loc[entire_df.trip_instance_key == \"a86db56c6c67f9ae4c1a4c828d5e9f91\"]"
   ]
  },
  {
   "cell_type": "code",
   "execution_count": null,
   "id": "84937065-3b31-4ac6-a482-b2c162fb73d9",
   "metadata": {},
   "outputs": [],
   "source": [
    "# entire_df = entire_df.fillna(0)"
   ]
  },
  {
   "cell_type": "markdown",
   "id": "3df33c90-6196-4458-8eda-b1878a927cb6",
   "metadata": {},
   "source": [
    "#### How does the time recorded by Vehicle Positions  compare to scheduled service minutes?\n",
    "* Too similar to trip timeliness?\n",
    "* Use total trip time or total minutes with gtfs?"
   ]
  },
  {
   "cell_type": "code",
   "execution_count": null,
   "id": "2606c112-ce6a-4836-a9ee-bfab934b5782",
   "metadata": {},
   "outputs": [],
   "source": [
    "entire_df['gtfs_coverage_v_scheduled_pct'] = (entire_df.total_minutes_w_gtfs / entire_df.service_minutes * 100)"
   ]
  },
  {
   "cell_type": "code",
   "execution_count": null,
   "id": "1566eb22-3017-4c0e-965e-88cf33d479be",
   "metadata": {},
   "outputs": [],
   "source": [
    "# Mask any value above 100 because often total trip time is slower than scheduled\n",
    "entire_df.gtfs_coverage_v_scheduled_pct = entire_df.gtfs_coverage_v_scheduled_pct.mask(entire_df.gtfs_coverage_v_scheduled_pct > 100).fillna(100)"
   ]
  },
  {
   "cell_type": "code",
   "execution_count": null,
   "id": "b84e3241-3e6a-4594-9dab-11a9d26e3281",
   "metadata": {},
   "outputs": [],
   "source": [
    "# Temporarily rounding so I can eyeball the distribution\n",
    "entire_df.gtfs_coverage_v_scheduled_pct = (entire_df.gtfs_coverage_v_scheduled_pct / 5).fillna(0).round().astype(int) * 5"
   ]
  },
  {
   "cell_type": "code",
   "execution_count": null,
   "id": "1b709ce4-8496-4932-a793-33b8ad352cb1",
   "metadata": {},
   "outputs": [],
   "source": [
    "entire_df.gtfs_coverage_v_scheduled_pct.describe()"
   ]
  },
  {
   "cell_type": "code",
   "execution_count": null,
   "id": "3b74e3a3-1721-430b-9865-4ec7b5760d0b",
   "metadata": {},
   "outputs": [],
   "source": [
    "entire_df.gtfs_coverage_v_scheduled_pct.value_counts()"
   ]
  },
  {
   "cell_type": "code",
   "execution_count": null,
   "id": "0bed7882-a77e-45af-ac51-84b83045adb8",
   "metadata": {},
   "outputs": [],
   "source": [
    "entire_df.loc[entire_df.trip_timeliness_pct == 11900]"
   ]
  },
  {
   "cell_type": "markdown",
   "id": "46fad802-a823-46e5-9ff2-1bd7458c9edb",
   "metadata": {},
   "source": [
    "#### Some trips are apparently more than 35% faster than their scheduled service minutes, which seems not very likely? \n",
    "* The example trips below\n",
    "    * Faster than service minutes by 45% and 75%.\n",
    "    * Every minute has more than 2 GTFS ping, so the data quality looks good"
   ]
  },
  {
   "cell_type": "code",
   "execution_count": null,
   "id": "cfde0797-bb1b-461f-9bda-0b3cba1ce3dc",
   "metadata": {},
   "outputs": [],
   "source": [
    "# Filter out\n",
    "faster_than_scheduled = entire_df.loc[entire_df.trip_timeliness_pct < 0]"
   ]
  },
  {
   "cell_type": "code",
   "execution_count": null,
   "id": "51f9d804-a003-4211-8595-16ea90972415",
   "metadata": {},
   "outputs": [],
   "source": [
    "faster_than_scheduled.trip_timeliness_pct.describe()"
   ]
  },
  {
   "cell_type": "code",
   "execution_count": null,
   "id": "88c151c7-2a26-4fe6-91a3-134957d51ae7",
   "metadata": {},
   "outputs": [],
   "source": [
    "preview = ['service_minutes','total_trip_time','trip_timeliness_pct']"
   ]
  },
  {
   "cell_type": "code",
   "execution_count": null,
   "id": "f6fb4aa7-aa42-4256-8215-d0c19e7bf801",
   "metadata": {},
   "outputs": [],
   "source": [
    "faster_than_scheduled[preview].sample(5)"
   ]
  },
  {
   "cell_type": "code",
   "execution_count": null,
   "id": "ceaef23c-12f8-40db-832c-45b141c9f9bb",
   "metadata": {},
   "outputs": [],
   "source": [
    "faster_than_scheduled.loc[faster_than_scheduled.trip_instance_key == \"d97697de370980ad54f378ac1ee49142\"][preview]"
   ]
  },
  {
   "cell_type": "code",
   "execution_count": null,
   "id": "c9e22ac0-b11a-4d34-9ec3-8a3dbbdc9ca6",
   "metadata": {},
   "outputs": [],
   "source": [
    "faster_than_scheduled.loc[faster_than_scheduled.trip_instance_key == \"2d639eaffc7c93b9e020a1e7bb93edfa\"][preview]"
   ]
  },
  {
   "cell_type": "code",
   "execution_count": null,
   "id": "db37a0ef-68ac-41bf-9954-af15ed41e986",
   "metadata": {},
   "outputs": [],
   "source": [
    "faster_than_scheduled.loc[faster_than_scheduled.trip_timeliness_pct == -35].sample(3)[preview]"
   ]
  }
 ],
 "metadata": {
  "kernelspec": {
   "display_name": "Python 3 (ipykernel)",
   "language": "python",
   "name": "python3"
  },
  "language_info": {
   "codemirror_mode": {
    "name": "ipython",
    "version": 3
   },
   "file_extension": ".py",
   "mimetype": "text/x-python",
   "name": "python",
   "nbconvert_exporter": "python",
   "pygments_lexer": "ipython3",
   "version": "3.9.13"
  }
 },
 "nbformat": 4,
 "nbformat_minor": 5
}
