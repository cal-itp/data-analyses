{
 "cells": [
  {
   "cell_type": "markdown",
   "id": "63b72e4f-ad51-4c17-90b5-e3667618a725",
   "metadata": {},
   "source": [
    "## Check out Results"
   ]
  },
  {
   "cell_type": "code",
   "execution_count": 1,
   "id": "420e44a4-aa22-4475-840f-6caf92fa7844",
   "metadata": {},
   "outputs": [],
   "source": [
    "import geopandas as gpd\n",
    "import pandas as pd"
   ]
  },
  {
   "cell_type": "code",
   "execution_count": 139,
   "id": "67351837-e385-464b-96b3-48fc13703af7",
   "metadata": {},
   "outputs": [],
   "source": [
    "# https://github.com/cal-itp/data-analyses/tree/main/rt_segment_speeds/segment_speed_utils\n",
    "from segment_speed_utils import gtfs_schedule_wrangling, helpers, wrangle_shapes\n",
    "from segment_speed_utils.project_vars import (\n",
    "    GCS_FILE_PATH,\n",
    "    PROJECT_CRS,\n",
    "    RT_SCHED_GCS,\n",
    "    SEGMENT_GCS,\n",
    "    analysis_date,\n",
    ")\n",
    "from shared_utils import geography_utils, portfolio_utils, rt_dates, schedule_rt_utils"
   ]
  },
  {
   "cell_type": "code",
   "execution_count": 3,
   "id": "c12b17b1-8c43-40c8-8a8d-579618452b06",
   "metadata": {},
   "outputs": [],
   "source": [
    "pd.options.display.max_columns = 100\n",
    "pd.options.display.float_format = \"{:.2f}\".format\n",
    "pd.set_option(\"display.max_rows\", None)\n",
    "pd.set_option(\"display.max_colwidth\", None)"
   ]
  },
  {
   "cell_type": "code",
   "execution_count": 4,
   "id": "be14001d-8599-4496-b267-d028174ebc78",
   "metadata": {},
   "outputs": [],
   "source": [
    "months = [\"dec\", \"nov\", \"oct\", \"sep\", \"aug\", \"jul\", \"jun\", \"may\", \"apr\", \"mar\"]\n",
    "\n",
    "analysis_date_list = [rt_dates.DATES[f\"{m}2023\"] for m in months]"
   ]
  },
  {
   "cell_type": "code",
   "execution_count": 5,
   "id": "78669969-8d99-4049-99cb-2f933016b2d9",
   "metadata": {},
   "outputs": [
    {
     "data": {
      "text/plain": [
       "['2023-12-13',\n",
       " '2023-11-15',\n",
       " '2023-10-11',\n",
       " '2023-09-13',\n",
       " '2023-08-15',\n",
       " '2023-07-12',\n",
       " '2023-06-14',\n",
       " '2023-05-17',\n",
       " '2023-04-12',\n",
       " '2023-03-15']"
      ]
     },
     "execution_count": 5,
     "metadata": {},
     "output_type": "execute_result"
    }
   ],
   "source": [
    "analysis_date_list"
   ]
  },
  {
   "cell_type": "code",
   "execution_count": 6,
   "id": "73a27c22-ba75-4804-9ce6-f0d114962b0c",
   "metadata": {},
   "outputs": [
    {
     "data": {
      "text/plain": [
       "'gs://calitp-analytics-data/data-analyses/rt_vs_schedule/trip_level_metrics/2023-12-13_metrics.parquet'"
      ]
     },
     "execution_count": 6,
     "metadata": {},
     "output_type": "execute_result"
    }
   ],
   "source": [
    "\"gs://calitp-analytics-data/data-analyses/rt_vs_schedule/trip_level_metrics/2023-12-13_metrics.parquet\""
   ]
  },
  {
   "cell_type": "markdown",
   "id": "45cd052f-1f2a-4434-8346-2c5a1e82683f",
   "metadata": {},
   "source": [
    "### Open all the files"
   ]
  },
  {
   "cell_type": "code",
   "execution_count": 7,
   "id": "05e483c3-b620-42f1-9243-d711777c1903",
   "metadata": {},
   "outputs": [],
   "source": [
    "def read_files_into_dataframes(dates: list) -> list:\n",
    "    \"\"\"\n",
    "    Read files with given dates into separate pandas DataFrames.\n",
    "\n",
    "    Parameters:\n",
    "    - dates (list): List of date strings in the format 'YYYY-MM-DD'.\n",
    "\n",
    "    Returns:\n",
    "    - dfs (dict): A dictionary of DataFrames with keys as DataFrame names.\n",
    "    \"\"\"\n",
    "    dfs = {}\n",
    "    GCS_PATH = (\n",
    "        \"gs://calitp-analytics-data/data-analyses/rt_vs_schedule/trip_level_metrics/\"\n",
    "    )\n",
    "\n",
    "    for date in dates:\n",
    "        file_path = f\"{GCS_PATH}{date}_metrics.parquet\"\n",
    "\n",
    "        # Read the file into a DataFrame\n",
    "        df = pd.read_parquet(file_path)\n",
    "\n",
    "        df_name = f\"df_{date.replace('-', '_')}\"\n",
    "        # Store the DataFrame in the dictionary\n",
    "        dfs[df_name] = df\n",
    "\n",
    "    return dfs"
   ]
  },
  {
   "cell_type": "code",
   "execution_count": 8,
   "id": "5703f90e-9ec1-4253-8392-e4df3a9dfda3",
   "metadata": {},
   "outputs": [],
   "source": [
    "dataframes = read_files_into_dataframes(analysis_date_list)"
   ]
  },
  {
   "cell_type": "code",
   "execution_count": 9,
   "id": "cccf51bb-4980-4d96-af0f-44259147f1fa",
   "metadata": {},
   "outputs": [
    {
     "data": {
      "text/plain": [
       "dict"
      ]
     },
     "execution_count": 9,
     "metadata": {},
     "output_type": "execute_result"
    }
   ],
   "source": [
    "type(dataframes)"
   ]
  },
  {
   "cell_type": "code",
   "execution_count": 10,
   "id": "077b3ff7-6707-43e6-b228-6d7fc174b306",
   "metadata": {},
   "outputs": [],
   "source": [
    "df_2023_12_13 = dataframes[\"df_2023_12_13\"]"
   ]
  },
  {
   "cell_type": "code",
   "execution_count": 11,
   "id": "531c6112-c633-412f-8350-ab01fc0a4c45",
   "metadata": {},
   "outputs": [],
   "source": [
    "df_2023_11_15 = dataframes[\"df_2023_11_15\"]\n",
    "df_2023_10_11 = dataframes[\"df_2023_10_11\"]\n",
    "df_2023_09_13 = dataframes[\"df_2023_09_13\"]\n",
    "df_2023_08_15 = dataframes[\"df_2023_08_15\"]\n",
    "df_2023_07_12 = dataframes[\"df_2023_07_12\"]\n",
    "df_2023_06_14 = dataframes[\"df_2023_06_14\"]\n",
    "df_2023_05_17 = dataframes[\"df_2023_05_17\"]\n",
    "df_2023_04_12 = dataframes[\"df_2023_04_12\"]\n",
    "df_2023_03_15 = dataframes[\"df_2023_03_15\"]"
   ]
  },
  {
   "cell_type": "code",
   "execution_count": 12,
   "id": "e4247b70-422f-466f-af12-060e92eb7d70",
   "metadata": {},
   "outputs": [],
   "source": [
    "all_dfs = [\n",
    "    df_2023_12_13,\n",
    "    df_2023_11_15,\n",
    "    df_2023_10_11,\n",
    "    df_2023_09_13,\n",
    "    df_2023_08_15,\n",
    "    df_2023_07_12,\n",
    "    df_2023_06_14,\n",
    "    df_2023_05_17,\n",
    "    df_2023_04_12,\n",
    "    df_2023_03_15,\n",
    "]"
   ]
  },
  {
   "cell_type": "code",
   "execution_count": 13,
   "id": "26185ced-9f3b-4266-a080-0eeed0c0a825",
   "metadata": {},
   "outputs": [],
   "source": [
    "def check_out(df: pd.DataFrame):\n",
    "    display(df.spatial_accuracy_pct.describe())\n",
    "    display(df.pings_per_min.describe())\n",
    "    display(df.rt_triptime_w_gtfs_pct.describe())\n",
    "    display(df.rt_v_scheduled_trip_time_pct.describe())"
   ]
  },
  {
   "cell_type": "code",
   "execution_count": 14,
   "id": "af7c69e1-e363-42f8-bf1c-f9ef2ba141e2",
   "metadata": {
    "scrolled": true,
    "tags": []
   },
   "outputs": [
    {
     "data": {
      "text/plain": [
       "count   74609.00\n",
       "mean       93.55\n",
       "std        13.20\n",
       "min         0.00\n",
       "25%        94.23\n",
       "50%        99.64\n",
       "75%       100.00\n",
       "max       100.00\n",
       "Name: spatial_accuracy_pct, dtype: float64"
      ]
     },
     "metadata": {},
     "output_type": "display_data"
    },
    {
     "data": {
      "text/plain": [
       "count   86128.00\n",
       "mean        2.44\n",
       "std         0.60\n",
       "min         0.00\n",
       "25%         2.05\n",
       "50%         2.67\n",
       "75%         2.94\n",
       "max         5.15\n",
       "Name: pings_per_min, dtype: float64"
      ]
     },
     "metadata": {},
     "output_type": "display_data"
    },
    {
     "data": {
      "text/plain": [
       "count   86128.00\n",
       "mean       95.94\n",
       "std        11.70\n",
       "min         0.10\n",
       "25%        98.36\n",
       "50%        99.65\n",
       "75%       100.00\n",
       "max       100.00\n",
       "Name: rt_triptime_w_gtfs_pct, dtype: float64"
      ]
     },
     "metadata": {},
     "output_type": "display_data"
    },
    {
     "data": {
      "text/plain": [
       "count   76878.00\n",
       "mean       44.40\n",
       "std       272.99\n",
       "min       -86.89\n",
       "25%        11.36\n",
       "50%        25.56\n",
       "75%        45.00\n",
       "max     18873.69\n",
       "Name: rt_v_scheduled_trip_time_pct, dtype: float64"
      ]
     },
     "metadata": {},
     "output_type": "display_data"
    },
    {
     "data": {
      "text/plain": [
       "count   74891.00\n",
       "mean       93.53\n",
       "std        13.12\n",
       "min         0.00\n",
       "25%        93.94\n",
       "50%        99.68\n",
       "75%       100.00\n",
       "max       100.00\n",
       "Name: spatial_accuracy_pct, dtype: float64"
      ]
     },
     "metadata": {},
     "output_type": "display_data"
    },
    {
     "data": {
      "text/plain": [
       "count   86832.00\n",
       "mean        2.51\n",
       "std         0.63\n",
       "min         0.00\n",
       "25%         2.09\n",
       "50%         2.86\n",
       "75%         2.96\n",
       "max         5.29\n",
       "Name: pings_per_min, dtype: float64"
      ]
     },
     "metadata": {},
     "output_type": "display_data"
    },
    {
     "data": {
      "text/plain": [
       "count   86832.00\n",
       "mean       95.68\n",
       "std        12.05\n",
       "min         0.45\n",
       "25%        98.40\n",
       "50%        99.67\n",
       "75%       100.00\n",
       "max       100.00\n",
       "Name: rt_triptime_w_gtfs_pct, dtype: float64"
      ]
     },
     "metadata": {},
     "output_type": "display_data"
    },
    {
     "data": {
      "text/plain": [
       "count   77194.00\n",
       "mean       42.53\n",
       "std       196.80\n",
       "min       -88.16\n",
       "25%        11.44\n",
       "50%        26.10\n",
       "75%        46.17\n",
       "max     11797.08\n",
       "Name: rt_v_scheduled_trip_time_pct, dtype: float64"
      ]
     },
     "metadata": {},
     "output_type": "display_data"
    },
    {
     "data": {
      "text/plain": [
       "count   73902.00\n",
       "mean       94.06\n",
       "std        12.62\n",
       "min         0.00\n",
       "25%        95.22\n",
       "50%       100.00\n",
       "75%       100.00\n",
       "max       100.00\n",
       "Name: spatial_accuracy_pct, dtype: float64"
      ]
     },
     "metadata": {},
     "output_type": "display_data"
    },
    {
     "data": {
      "text/plain": [
       "count   86486.00\n",
       "mean        2.48\n",
       "std         0.66\n",
       "min         0.00\n",
       "25%         1.93\n",
       "50%         2.87\n",
       "75%         2.97\n",
       "max         4.75\n",
       "Name: pings_per_min, dtype: float64"
      ]
     },
     "metadata": {},
     "output_type": "display_data"
    },
    {
     "data": {
      "text/plain": [
       "count   86486.00\n",
       "mean       96.36\n",
       "std        10.91\n",
       "min         0.14\n",
       "25%        98.51\n",
       "50%        99.69\n",
       "75%       100.00\n",
       "max       100.00\n",
       "Name: rt_triptime_w_gtfs_pct, dtype: float64"
      ]
     },
     "metadata": {},
     "output_type": "display_data"
    },
    {
     "data": {
      "text/plain": [
       "count   76255.00\n",
       "mean       43.72\n",
       "std       232.88\n",
       "min       -86.20\n",
       "25%        11.80\n",
       "50%        25.92\n",
       "75%        45.07\n",
       "max     11905.42\n",
       "Name: rt_v_scheduled_trip_time_pct, dtype: float64"
      ]
     },
     "metadata": {},
     "output_type": "display_data"
    },
    {
     "data": {
      "text/plain": [
       "count   65175.00\n",
       "mean       93.89\n",
       "std        13.05\n",
       "min         0.00\n",
       "25%        94.83\n",
       "50%       100.00\n",
       "75%       100.00\n",
       "max       100.00\n",
       "Name: spatial_accuracy_pct, dtype: float64"
      ]
     },
     "metadata": {},
     "output_type": "display_data"
    },
    {
     "data": {
      "text/plain": [
       "count   86133.00\n",
       "mean        2.46\n",
       "std         0.68\n",
       "min         0.01\n",
       "25%         1.92\n",
       "50%         2.85\n",
       "75%         2.96\n",
       "max         4.86\n",
       "Name: pings_per_min, dtype: float64"
      ]
     },
     "metadata": {},
     "output_type": "display_data"
    },
    {
     "data": {
      "text/plain": [
       "count   86133.00\n",
       "mean       96.03\n",
       "std        11.53\n",
       "min         0.71\n",
       "25%        98.36\n",
       "50%        99.66\n",
       "75%       100.00\n",
       "max       100.00\n",
       "Name: rt_triptime_w_gtfs_pct, dtype: float64"
      ]
     },
     "metadata": {},
     "output_type": "display_data"
    },
    {
     "data": {
      "text/plain": [
       "count   67169.00\n",
       "mean       42.21\n",
       "std       219.14\n",
       "min       -85.54\n",
       "25%        11.04\n",
       "50%        24.77\n",
       "75%        42.61\n",
       "max     11905.69\n",
       "Name: rt_v_scheduled_trip_time_pct, dtype: float64"
      ]
     },
     "metadata": {},
     "output_type": "display_data"
    },
    {
     "data": {
      "text/plain": [
       "count   72938.00\n",
       "mean       93.92\n",
       "std        12.79\n",
       "min         0.00\n",
       "25%        94.89\n",
       "50%       100.00\n",
       "75%       100.00\n",
       "max       100.00\n",
       "Name: spatial_accuracy_pct, dtype: float64"
      ]
     },
     "metadata": {},
     "output_type": "display_data"
    },
    {
     "data": {
      "text/plain": [
       "count   84422.00\n",
       "mean        2.44\n",
       "std         0.67\n",
       "min         0.00\n",
       "25%         1.92\n",
       "50%         2.81\n",
       "75%         2.96\n",
       "max         5.48\n",
       "Name: pings_per_min, dtype: float64"
      ]
     },
     "metadata": {},
     "output_type": "display_data"
    },
    {
     "data": {
      "text/plain": [
       "count   84422.00\n",
       "mean       95.73\n",
       "std        11.76\n",
       "min         0.42\n",
       "25%        98.10\n",
       "50%        99.62\n",
       "75%       100.00\n",
       "max       100.00\n",
       "Name: rt_triptime_w_gtfs_pct, dtype: float64"
      ]
     },
     "metadata": {},
     "output_type": "display_data"
    },
    {
     "data": {
      "text/plain": [
       "count   75286.00\n",
       "mean       43.46\n",
       "std       242.02\n",
       "min       -87.18\n",
       "25%        11.11\n",
       "50%        25.43\n",
       "75%        44.25\n",
       "max     11905.42\n",
       "Name: rt_v_scheduled_trip_time_pct, dtype: float64"
      ]
     },
     "metadata": {},
     "output_type": "display_data"
    },
    {
     "data": {
      "text/plain": [
       "count   67091.00\n",
       "mean       93.83\n",
       "std        13.15\n",
       "min         0.00\n",
       "25%        94.96\n",
       "50%       100.00\n",
       "75%       100.00\n",
       "max       100.00\n",
       "Name: spatial_accuracy_pct, dtype: float64"
      ]
     },
     "metadata": {},
     "output_type": "display_data"
    },
    {
     "data": {
      "text/plain": [
       "count   82044.00\n",
       "mean        2.49\n",
       "std         0.67\n",
       "min         0.00\n",
       "25%         1.95\n",
       "50%         2.90\n",
       "75%         2.97\n",
       "max         5.76\n",
       "Name: pings_per_min, dtype: float64"
      ]
     },
     "metadata": {},
     "output_type": "display_data"
    },
    {
     "data": {
      "text/plain": [
       "count   82044.00\n",
       "mean       96.17\n",
       "std        10.97\n",
       "min         0.43\n",
       "25%        98.28\n",
       "50%        99.65\n",
       "75%       100.00\n",
       "max       100.00\n",
       "Name: rt_triptime_w_gtfs_pct, dtype: float64"
      ]
     },
     "metadata": {},
     "output_type": "display_data"
    },
    {
     "data": {
      "text/plain": [
       "count   69488.00\n",
       "mean       56.85\n",
       "std       291.52\n",
       "min       -91.05\n",
       "25%        11.82\n",
       "50%        26.10\n",
       "75%        45.69\n",
       "max     17880.62\n",
       "Name: rt_v_scheduled_trip_time_pct, dtype: float64"
      ]
     },
     "metadata": {},
     "output_type": "display_data"
    },
    {
     "data": {
      "text/plain": [
       "count   64270.00\n",
       "mean       93.92\n",
       "std        12.67\n",
       "min         0.00\n",
       "25%        94.77\n",
       "50%       100.00\n",
       "75%       100.00\n",
       "max       100.00\n",
       "Name: spatial_accuracy_pct, dtype: float64"
      ]
     },
     "metadata": {},
     "output_type": "display_data"
    },
    {
     "data": {
      "text/plain": [
       "count   80331.00\n",
       "mean        2.51\n",
       "std         0.67\n",
       "min         0.01\n",
       "25%         1.98\n",
       "50%         2.90\n",
       "75%         2.96\n",
       "max         4.93\n",
       "Name: pings_per_min, dtype: float64"
      ]
     },
     "metadata": {},
     "output_type": "display_data"
    },
    {
     "data": {
      "text/plain": [
       "count   80331.00\n",
       "mean       95.66\n",
       "std        13.38\n",
       "min         0.28\n",
       "25%        98.43\n",
       "50%        99.67\n",
       "75%       100.00\n",
       "max       100.00\n",
       "Name: rt_triptime_w_gtfs_pct, dtype: float64"
      ]
     },
     "metadata": {},
     "output_type": "display_data"
    },
    {
     "data": {
      "text/plain": [
       "count   66748.00\n",
       "mean       63.20\n",
       "std       345.10\n",
       "min       -90.25\n",
       "25%        11.69\n",
       "50%        25.91\n",
       "75%        45.15\n",
       "max     12997.42\n",
       "Name: rt_v_scheduled_trip_time_pct, dtype: float64"
      ]
     },
     "metadata": {},
     "output_type": "display_data"
    },
    {
     "data": {
      "text/plain": [
       "count   65385.00\n",
       "mean       94.07\n",
       "std        12.45\n",
       "min         0.00\n",
       "25%        95.00\n",
       "50%       100.00\n",
       "75%       100.00\n",
       "max       100.00\n",
       "Name: spatial_accuracy_pct, dtype: float64"
      ]
     },
     "metadata": {},
     "output_type": "display_data"
    },
    {
     "data": {
      "text/plain": [
       "count   83606.00\n",
       "mean        2.47\n",
       "std         0.68\n",
       "min         0.00\n",
       "25%         1.95\n",
       "50%         2.86\n",
       "75%         2.95\n",
       "max         5.14\n",
       "Name: pings_per_min, dtype: float64"
      ]
     },
     "metadata": {},
     "output_type": "display_data"
    },
    {
     "data": {
      "text/plain": [
       "count   83606.00\n",
       "mean       95.22\n",
       "std        13.69\n",
       "min         0.27\n",
       "25%        97.76\n",
       "50%        99.51\n",
       "75%       100.00\n",
       "max       100.00\n",
       "Name: rt_triptime_w_gtfs_pct, dtype: float64"
      ]
     },
     "metadata": {},
     "output_type": "display_data"
    },
    {
     "data": {
      "text/plain": [
       "count   67864.00\n",
       "mean       60.61\n",
       "std       329.38\n",
       "min       -90.09\n",
       "25%        10.96\n",
       "50%        25.64\n",
       "75%        44.61\n",
       "max     17907.92\n",
       "Name: rt_v_scheduled_trip_time_pct, dtype: float64"
      ]
     },
     "metadata": {},
     "output_type": "display_data"
    },
    {
     "data": {
      "text/plain": [
       "count   71094.00\n",
       "mean       94.06\n",
       "std        12.64\n",
       "min         0.00\n",
       "25%        95.45\n",
       "50%       100.00\n",
       "75%       100.00\n",
       "max       100.00\n",
       "Name: spatial_accuracy_pct, dtype: float64"
      ]
     },
     "metadata": {},
     "output_type": "display_data"
    },
    {
     "data": {
      "text/plain": [
       "count   84516.00\n",
       "mean        2.45\n",
       "std         0.67\n",
       "min         0.01\n",
       "25%         1.91\n",
       "50%         2.83\n",
       "75%         2.95\n",
       "max         5.18\n",
       "Name: pings_per_min, dtype: float64"
      ]
     },
     "metadata": {},
     "output_type": "display_data"
    },
    {
     "data": {
      "text/plain": [
       "count   84516.00\n",
       "mean       94.99\n",
       "std        14.38\n",
       "min         0.56\n",
       "25%        97.88\n",
       "50%        99.53\n",
       "75%       100.00\n",
       "max       100.00\n",
       "Name: rt_triptime_w_gtfs_pct, dtype: float64"
      ]
     },
     "metadata": {},
     "output_type": "display_data"
    },
    {
     "data": {
      "text/plain": [
       "count   73471.00\n",
       "mean       61.42\n",
       "std       349.18\n",
       "min       -86.02\n",
       "25%        10.46\n",
       "50%        25.10\n",
       "75%        44.38\n",
       "max     15903.70\n",
       "Name: rt_v_scheduled_trip_time_pct, dtype: float64"
      ]
     },
     "metadata": {},
     "output_type": "display_data"
    },
    {
     "data": {
      "text/plain": [
       "count   69494.00\n",
       "mean       94.10\n",
       "std        12.34\n",
       "min         0.00\n",
       "25%        95.24\n",
       "50%       100.00\n",
       "75%       100.00\n",
       "max       100.00\n",
       "Name: spatial_accuracy_pct, dtype: float64"
      ]
     },
     "metadata": {},
     "output_type": "display_data"
    },
    {
     "data": {
      "text/plain": [
       "count   83620.00\n",
       "mean        2.46\n",
       "std         0.68\n",
       "min         0.00\n",
       "25%         1.91\n",
       "50%         2.86\n",
       "75%         2.96\n",
       "max         4.75\n",
       "Name: pings_per_min, dtype: float64"
      ]
     },
     "metadata": {},
     "output_type": "display_data"
    },
    {
     "data": {
      "text/plain": [
       "count   83620.00\n",
       "mean       94.96\n",
       "std        14.45\n",
       "min         0.28\n",
       "25%        97.99\n",
       "50%        99.58\n",
       "75%       100.00\n",
       "max       100.00\n",
       "Name: rt_triptime_w_gtfs_pct, dtype: float64"
      ]
     },
     "metadata": {},
     "output_type": "display_data"
    },
    {
     "data": {
      "text/plain": [
       "count   71797.00\n",
       "mean       60.68\n",
       "std       333.76\n",
       "min       -87.37\n",
       "25%        10.76\n",
       "50%        25.19\n",
       "75%        44.44\n",
       "max     17909.79\n",
       "Name: rt_v_scheduled_trip_time_pct, dtype: float64"
      ]
     },
     "metadata": {},
     "output_type": "display_data"
    }
   ],
   "source": [
    "for i in all_dfs:\n",
    "    check_out(i)"
   ]
  },
  {
   "cell_type": "markdown",
   "id": "b71376f9-2343-4d14-99f0-025c05b7c7b0",
   "metadata": {},
   "source": [
    "### Aggregating up to the route level"
   ]
  },
  {
   "cell_type": "markdown",
   "id": "90958a55-27ca-447f-8304-37773081c973",
   "metadata": {
    "tags": []
   },
   "source": [
    "#### Add missing cols\n",
    "* https://github.com/cal-itp/data-analyses/tree/main/rt_segment_speeds/segment_speed_utils"
   ]
  },
  {
   "cell_type": "code",
   "execution_count": 77,
   "id": "ed0f790a-f132-40d1-9daf-bafeecee82fd",
   "metadata": {},
   "outputs": [],
   "source": [
    "analysis_date = \"2023-12-13\""
   ]
  },
  {
   "cell_type": "markdown",
   "id": "3d08933b-cc48-46d1-b217-e5c07fc5685f",
   "metadata": {},
   "source": [
    "#### Why is shape_array_key deleted `most_common_shape_by_route_direction`"
   ]
  },
  {
   "cell_type": "code",
   "execution_count": 83,
   "id": "ac3e285d-6011-4da6-903a-d114d6587547",
   "metadata": {},
   "outputs": [],
   "source": [
    "def most_common_shape_by_route_direction(analysis_date: str) -> gpd.GeoDataFrame:\n",
    "    \"\"\"\n",
    "    Find shape_id with most trips for that route-direction.\n",
    "    Merge in shape geometry.\n",
    "    \"\"\"\n",
    "    route_dir_cols = [\"gtfs_dataset_key\", \"route_id\", \"direction_id\"]\n",
    "\n",
    "    keep_trip_cols = route_dir_cols + [\n",
    "        \"trip_instance_key\",\n",
    "        \"shape_id\",\n",
    "        \"shape_array_key\",\n",
    "    ]\n",
    "\n",
    "    trips = helpers.import_scheduled_trips(\n",
    "        analysis_date, columns=keep_trip_cols, get_pandas=True\n",
    "    ).rename(columns={\"schedule_gtfs_dataset_key\": \"gtfs_dataset_key\"})\n",
    "    sorting_order = [True for i in route_dir_cols]\n",
    "\n",
    "    most_common_shape = (\n",
    "        trips.groupby(\n",
    "            route_dir_cols + [\"shape_id\", \"shape_array_key\"],\n",
    "            observed=True,\n",
    "            group_keys=False,\n",
    "        )\n",
    "        .agg({\"trip_instance_key\": \"count\"})\n",
    "        .reset_index()\n",
    "        .sort_values(\n",
    "            route_dir_cols + [\"trip_instance_key\"], ascending=sorting_order + [False]\n",
    "        )\n",
    "        .drop_duplicates(subset=route_dir_cols)\n",
    "        .reset_index(drop=True)[route_dir_cols + [\"shape_id\", \"shape_array_key\"]]\n",
    "    ).rename(\n",
    "        columns={\n",
    "            \"gtfs_dataset_key\": \"schedule_gtfs_dataset_key\",\n",
    "            \"shape_id\": \"common_shape_id\",\n",
    "        }\n",
    "    )\n",
    "\n",
    "    shape_geom = helpers.import_scheduled_shapes(\n",
    "        analysis_date,\n",
    "        columns=[\"shape_array_key\", \"geometry\"],\n",
    "    )\n",
    "\n",
    "    common_shape_geom = pd.merge(\n",
    "        shape_geom, most_common_shape, on=\"shape_array_key\", how=\"inner\"\n",
    "    )\n",
    "\n",
    "    route_info = (\n",
    "        helpers.import_scheduled_trips(\n",
    "            analysis_date,\n",
    "            columns=[\n",
    "                \"gtfs_dataset_key\",\n",
    "                \"route_id\",\n",
    "                \"route_long_name\",\n",
    "                \"route_short_name\",\n",
    "                \"route_desc\",\n",
    "            ],\n",
    "        )\n",
    "        .drop_duplicates()\n",
    "        .pipe(portfolio_utils.add_route_name)\n",
    "        .drop(columns=[\"route_long_name\", \"route_short_name\", \"route_desc\"])\n",
    "    )\n",
    "\n",
    "    del shape_geom, most_common_shape\n",
    "\n",
    "    common_shape_geom2 = pd.merge(\n",
    "        common_shape_geom,\n",
    "        route_info.rename(columns={\"route_name_used\": \"route_name\"}),\n",
    "        on=[\"schedule_gtfs_dataset_key\", \"route_id\"],\n",
    "    )\n",
    "\n",
    "    return common_shape_geom2"
   ]
  },
  {
   "cell_type": "code",
   "execution_count": 84,
   "id": "989a09e4-2f5a-4065-94f0-fc6cee1b1126",
   "metadata": {},
   "outputs": [],
   "source": [
    "def add_scheduled_trip_columns(\n",
    "    df: pd.DataFrame, analysis_date: str, group_cols: list = [\"trip_instance_key\"]\n",
    ") -> pd.DataFrame:\n",
    "    \"\"\"\n",
    "    Merge RT trips (vehicle positions) to scheduled trips.\n",
    "    Add in the needed scheduled trip columns to take\n",
    "    route-direction-time_of_day averages.\n",
    "    \"\"\"\n",
    "    keep_cols = [\n",
    "        \"gtfs_dataset_key\",\n",
    "        \"direction_id\",\n",
    "        \"route_id\",\n",
    "        \"route_short_name\",\n",
    "        \"route_long_name\",\n",
    "        \"route_desc\",\n",
    "    ] + group_cols\n",
    "\n",
    "    crosswalk = helpers.import_scheduled_trips(\n",
    "        analysis_date, columns=keep_cols, get_pandas=True\n",
    "    )\n",
    "\n",
    "    common_keep_cols = [\n",
    "        \"schedule_gtfs_dataset_key\",\n",
    "        \"route_id\",\n",
    "        \"direction_id\",\n",
    "        \"shape_array_key\",\n",
    "    ]\n",
    "\n",
    "    # Drops shape_array_key gtfs_schedule_wrangling.most_common_shape_by_route_direction\n",
    "    # common_shape = gtfs_schedule_wrangling.most_common_shape_by_route_direction(analysis_date)[common_keep_cols]\n",
    "    common_shape = most_common_shape_by_route_direction(analysis_date)[common_keep_cols]\n",
    "\n",
    "    crosswalk2 = pd.merge(\n",
    "        crosswalk,\n",
    "        common_shape,\n",
    "        on=[\"schedule_gtfs_dataset_key\", \"route_id\", \"direction_id\"],\n",
    "        how=\"inner\",\n",
    "    ).astype({\"direction_id\": \"Int64\"})\n",
    "\n",
    "    crosswalk2 = portfolio_utils.add_route_name(crosswalk2).drop(\n",
    "        columns=[\"route_short_name\", \"route_long_name\", \"route_desc\"]\n",
    "    )\n",
    "\n",
    "    time_keep_cols = [\n",
    "        \"trip_instance_key\",\n",
    "        \"service_hours\",\n",
    "        \"trip_first_departure_datetime_pacific\",\n",
    "        \"time_of_day\",\n",
    "    ]\n",
    "    time_of_day = gtfs_schedule_wrangling.get_trip_time_buckets(analysis_date)[\n",
    "        time_keep_cols\n",
    "    ]\n",
    "\n",
    "    df2 = pd.merge(df, crosswalk2, on=\"trip_instance_key\", how=\"left\").merge(\n",
    "        time_of_day, on=\"trip_instance_key\", how=\"left\"\n",
    "    )\n",
    "\n",
    "    return df2"
   ]
  },
  {
   "cell_type": "code",
   "execution_count": 85,
   "id": "1fd1ba09-df71-4595-bddf-6649233cf02e",
   "metadata": {},
   "outputs": [
    {
     "data": {
      "text/plain": [
       "Index(['trip_instance_key', 'rt_service_min', 'min_w_atleast2_trip_updates',\n",
       "       'total_pings_for_trip', 'total_min_w_gtfs', 'total_vp', 'vp_in_shape',\n",
       "       'speed_mph', 'service_minutes', 'pings_per_min', 'spatial_accuracy_pct',\n",
       "       'rt_triptime_w_gtfs_pct', 'rt_v_scheduled_trip_time_pct'],\n",
       "      dtype='object')"
      ]
     },
     "execution_count": 85,
     "metadata": {},
     "output_type": "execute_result"
    }
   ],
   "source": [
    "df_2023_12_13.columns"
   ]
  },
  {
   "cell_type": "code",
   "execution_count": 86,
   "id": "6bde7bdc-56f3-465f-97d1-aaae357aea56",
   "metadata": {},
   "outputs": [
    {
     "data": {
      "text/plain": [
       "'2023-12-13'"
      ]
     },
     "execution_count": 86,
     "metadata": {},
     "output_type": "execute_result"
    }
   ],
   "source": [
    "analysis_date"
   ]
  },
  {
   "cell_type": "code",
   "execution_count": 87,
   "id": "7fabab72-c1a4-468f-83d6-b1e066014129",
   "metadata": {},
   "outputs": [],
   "source": [
    "dec_df2 = add_scheduled_trip_columns(\n",
    "    df_2023_12_13, analysis_date, [\"trip_instance_key\"]\n",
    ")"
   ]
  },
  {
   "cell_type": "code",
   "execution_count": 88,
   "id": "f04ec3f8-517a-4d2a-aad2-f1636838d98a",
   "metadata": {},
   "outputs": [
    {
     "name": "stdout",
     "output_type": "stream",
     "text": [
      "<class 'pandas.core.frame.DataFrame'>\n",
      "Int64Index: 86128 entries, 0 to 86127\n",
      "Data columns (total 21 columns):\n",
      " #   Column                                 Non-Null Count  Dtype         \n",
      "---  ------                                 --------------  -----         \n",
      " 0   trip_instance_key                      86128 non-null  object        \n",
      " 1   rt_service_min                         86128 non-null  float64       \n",
      " 2   min_w_atleast2_trip_updates            86128 non-null  int64         \n",
      " 3   total_pings_for_trip                   86128 non-null  int64         \n",
      " 4   total_min_w_gtfs                       86128 non-null  int64         \n",
      " 5   total_vp                               74609 non-null  float64       \n",
      " 6   vp_in_shape                            74609 non-null  float64       \n",
      " 7   speed_mph                              76878 non-null  float64       \n",
      " 8   service_minutes                        76878 non-null  float64       \n",
      " 9   pings_per_min                          86128 non-null  float64       \n",
      " 10  spatial_accuracy_pct                   74609 non-null  float64       \n",
      " 11  rt_triptime_w_gtfs_pct                 86128 non-null  float64       \n",
      " 12  rt_v_scheduled_trip_time_pct           76878 non-null  float64       \n",
      " 13  schedule_gtfs_dataset_key              76442 non-null  object        \n",
      " 14  direction_id                           76442 non-null  Int64         \n",
      " 15  route_id                               76442 non-null  object        \n",
      " 16  shape_array_key                        76442 non-null  object        \n",
      " 17  route_name_used                        76442 non-null  object        \n",
      " 18  service_hours                          77977 non-null  float64       \n",
      " 19  trip_first_departure_datetime_pacific  77977 non-null  datetime64[ns]\n",
      " 20  time_of_day                            77977 non-null  object        \n",
      "dtypes: Int64(1), datetime64[ns](1), float64(10), int64(3), object(6)\n",
      "memory usage: 14.5+ MB\n"
     ]
    }
   ],
   "source": [
    "dec_df2.info()"
   ]
  },
  {
   "cell_type": "code",
   "execution_count": 89,
   "id": "f78ec95e-86af-4722-8dd5-ab228148c337",
   "metadata": {},
   "outputs": [],
   "source": [
    "shapes = helpers.import_scheduled_shapes(\n",
    "    analysis_date,\n",
    "    columns=[\"shape_array_key\", \"geometry\"],\n",
    "    get_pandas=True,\n",
    "    crs=geography_utils.WGS84,\n",
    ")"
   ]
  },
  {
   "cell_type": "code",
   "execution_count": 90,
   "id": "9dbd05bb-9ead-41b8-ab43-b561bb276c92",
   "metadata": {},
   "outputs": [
    {
     "data": {
      "text/plain": [
       "Index(['shape_array_key', 'geometry'], dtype='object')"
      ]
     },
     "execution_count": 90,
     "metadata": {},
     "output_type": "execute_result"
    }
   ],
   "source": [
    "shapes.columns"
   ]
  },
  {
   "cell_type": "code",
   "execution_count": 125,
   "id": "52b9f3c3-429a-42cc-968d-6ef380baf5fc",
   "metadata": {},
   "outputs": [
    {
     "data": {
      "text/plain": [
       "(7286, 7285)"
      ]
     },
     "execution_count": 125,
     "metadata": {},
     "output_type": "execute_result"
    }
   ],
   "source": [
    "len(shapes), shapes.shape_array_key.nunique()"
   ]
  },
  {
   "cell_type": "code",
   "execution_count": 91,
   "id": "21db7580-cf79-4385-b9dc-80cd99206011",
   "metadata": {},
   "outputs": [],
   "source": [
    "def average_route_speeds_for_export(\n",
    "    df: pd.DataFrame,\n",
    "    analysis_date: str,\n",
    "    max_speed: int,\n",
    ") -> gpd.GeoDataFrame:\n",
    "    \"\"\"\n",
    "    Aggregate trip speeds to route-direction.\n",
    "    Attach shape geometry to most common shape_id.\n",
    "    \"\"\"\n",
    "    df2 = df.loc[df.speed_mph <= 70].reset_index(drop=True)\n",
    "\n",
    "    route_cols = [\n",
    "        \"schedule_gtfs_dataset_key\",\n",
    "        \"time_of_day\",\n",
    "        \"route_id\",\n",
    "        \"direction_id\",\n",
    "        \"route_name_used\",\n",
    "        \"shape_array_key\",\n",
    "    ]\n",
    "\n",
    "    mean_cols = [\n",
    "        \"service_minutes\",\n",
    "        \"rt_service_min\",\n",
    "        \"speed_mph\",\n",
    "        \"pings_per_min\",\n",
    "        \"total_vp\",\n",
    "        \"vp_in_shape\",\n",
    "        \"total_min_w_gtfs\",\n",
    "        \"min_w_atleast2_trip_updates\",\n",
    "    ]\n",
    "    count_cols = [\"trip_instance_key\"]\n",
    "\n",
    "    df3 = (\n",
    "        df2.groupby(route_cols)\n",
    "        .agg({**{e: \"mean\" for e in mean_cols}, **{e: \"count\" for e in count_cols}})\n",
    "        .reset_index()\n",
    "    )\n",
    "\n",
    "    df4 = df3.assign(\n",
    "        rt_service_min=df3.rt_service_min.round(1),\n",
    "        service_minutes=df3.service_minutes.round(1),\n",
    "        speed_mph=df3.speed_mph.round(1),\n",
    "        pings_per_min=df3.pings_per_min.round(1),\n",
    "        min_w_atleast2_trip_updates=df3.min_w_atleast2_trip_updates.round(1),\n",
    "        total_min_w_gtfs=df3.total_min_w_gtfs.round(1),\n",
    "    ).rename(\n",
    "        columns={\n",
    "            \"service_minutes\": \"avg_sched_trip_min\",\n",
    "            \"rt_service_min\": \"avg_rt_trip_min\",\n",
    "            \"trip_instance_key\": \"n_trips\",\n",
    "            \"route_name_used\": \"route_name\",\n",
    "            \"pings_per_min\": \"avg_pings_per_min\",\n",
    "            \"schedule_gtfs_dataset_key\": \"gtfs_dataset_key\",\n",
    "            \"total_min_w_gtfs\": \"avg_total_min_w_gtfs\",\n",
    "            \"min_w_atleast2_trip_updates\": \"avg_min_w_atleast2_trip_updates\",\n",
    "            \"speed_mph\": \"avg_speed_mph\",\n",
    "        }\n",
    "    )\n",
    "\n",
    "    org_crosswalk = schedule_rt_utils.sample_gtfs_dataset_key_to_organization_crosswalk(\n",
    "        df4,\n",
    "        analysis_date,\n",
    "        quartet_data=\"schedule\",\n",
    "        dim_gtfs_dataset_cols=[\"key\", \"base64_url\"],\n",
    "        dim_organization_cols=[\"source_record_id\", \"name\", \"caltrans_district\"],\n",
    "    )\n",
    "\n",
    "    df_with_org = pd.merge(\n",
    "        df4,\n",
    "        org_crosswalk.rename(columns={\"schedule_gtfs_dataset_key\": \"gtfs_dataset_key\"}),\n",
    "        on=\"gtfs_dataset_key\",\n",
    "        how=\"inner\",\n",
    "    )\n",
    "\n",
    "    shapes = helpers.import_scheduled_shapes(\n",
    "        analysis_date,\n",
    "        columns=[\"shape_array_key\", \"geometry\"],\n",
    "        get_pandas=True,\n",
    "        crs=geography_utils.WGS84,\n",
    "    )\n",
    "\n",
    "    df_with_shape = pd.merge(\n",
    "        shapes,\n",
    "        df_with_org,\n",
    "        on=\"shape_array_key\",  # once merged, can drop shape_array_key\n",
    "        how=\"inner\",\n",
    "    )\n",
    "\n",
    "    df_with_shape[\"avg_pct_vp_shape\"] = (\n",
    "        df_with_shape.vp_in_shape / df_with_shape.total_vp * 100\n",
    "    )\n",
    "\n",
    "    df_with_shape[\"avg_pct_rt_v_sched\"] = (\n",
    "        df_with_shape.avg_rt_trip_min / df_with_shape.avg_sched_trip_min - 1\n",
    "    ) * 100\n",
    "\n",
    "    df_with_shape[\"avg_rt_triptime_w_gtfs_pct\"] = (\n",
    "        df_with_shape.avg_total_min_w_gtfs / df_with_shape.avg_rt_trip_min\n",
    "    ) * 100\n",
    "\n",
    "    final_df = df_with_shape.drop(columns=[\"total_vp\", \"vp_in_shape\"])\n",
    "\n",
    "    agency_cols = [\"organization_source_record_id\", \"organization_name\"]\n",
    "    route_cols = [\n",
    "        \"route_id\",\n",
    "        \"route_name\",\n",
    "        \"direction_id\",\n",
    "    ]\n",
    "\n",
    "    col_order = (\n",
    "        agency_cols\n",
    "        + route_cols\n",
    "        + [\n",
    "            \"time_of_day\",\n",
    "            \"avg_speed_mph\",\n",
    "            \"n_trips\",\n",
    "            \"avg_sched_trip_min\",\n",
    "            \"avg_rt_trip_min\",\n",
    "            \"base64_url\",\n",
    "            \"caltrans_district\",\n",
    "            \"geometry\",\n",
    "            \"avg_pings_per_min\",\n",
    "            \"avg_pct_vp_shape\",\n",
    "            \"avg_pct_rt_v_sched\",\n",
    "            \"avg_rt_triptime_w_gtfs_pct\",\n",
    "            \"avg_min_w_atleast2_trip_updates\",\n",
    "        ]\n",
    "    )\n",
    "\n",
    "    final_df = df_with_shape.reindex(columns=col_order).rename(\n",
    "        columns={\n",
    "            \"organization_source_record_id\": \"org_id\",\n",
    "            \"organization_name\": \"agency\",\n",
    "            \"caltrans_district\": \"district_name\",\n",
    "        }\n",
    "    )\n",
    "\n",
    "    return df2, final_df"
   ]
  },
  {
   "cell_type": "code",
   "execution_count": 92,
   "id": "cdbf76f5-bd0b-4e2b-8fc8-15843c7dc3b6",
   "metadata": {},
   "outputs": [
    {
     "data": {
      "text/html": [
       "<div>\n",
       "<style scoped>\n",
       "    .dataframe tbody tr th:only-of-type {\n",
       "        vertical-align: middle;\n",
       "    }\n",
       "\n",
       "    .dataframe tbody tr th {\n",
       "        vertical-align: top;\n",
       "    }\n",
       "\n",
       "    .dataframe thead th {\n",
       "        text-align: right;\n",
       "    }\n",
       "</style>\n",
       "<table border=\"1\" class=\"dataframe\">\n",
       "  <thead>\n",
       "    <tr style=\"text-align: right;\">\n",
       "      <th></th>\n",
       "      <th>trip_instance_key</th>\n",
       "      <th>rt_service_min</th>\n",
       "      <th>min_w_atleast2_trip_updates</th>\n",
       "      <th>total_pings_for_trip</th>\n",
       "      <th>total_min_w_gtfs</th>\n",
       "      <th>total_vp</th>\n",
       "      <th>vp_in_shape</th>\n",
       "      <th>speed_mph</th>\n",
       "      <th>service_minutes</th>\n",
       "      <th>pings_per_min</th>\n",
       "      <th>spatial_accuracy_pct</th>\n",
       "      <th>rt_triptime_w_gtfs_pct</th>\n",
       "      <th>rt_v_scheduled_trip_time_pct</th>\n",
       "      <th>schedule_gtfs_dataset_key</th>\n",
       "      <th>direction_id</th>\n",
       "      <th>route_id</th>\n",
       "      <th>shape_array_key</th>\n",
       "      <th>route_name_used</th>\n",
       "      <th>service_hours</th>\n",
       "      <th>trip_first_departure_datetime_pacific</th>\n",
       "      <th>time_of_day</th>\n",
       "    </tr>\n",
       "  </thead>\n",
       "  <tbody>\n",
       "    <tr>\n",
       "      <th>0</th>\n",
       "      <td>5d25a4366c173007d9c29fdead0299d7</td>\n",
       "      <td>74.03</td>\n",
       "      <td>73</td>\n",
       "      <td>216</td>\n",
       "      <td>74</td>\n",
       "      <td>216.00</td>\n",
       "      <td>148.00</td>\n",
       "      <td>21.01</td>\n",
       "      <td>58.00</td>\n",
       "      <td>2.92</td>\n",
       "      <td>68.52</td>\n",
       "      <td>99.95</td>\n",
       "      <td>27.64</td>\n",
       "      <td>63029a23cb0e73f2a5d98a345c5e2e40</td>\n",
       "      <td>1</td>\n",
       "      <td>3428</td>\n",
       "      <td>0d0ca5bc40fb6266a03f400c3aa7e6cb</td>\n",
       "      <td></td>\n",
       "      <td>0.97</td>\n",
       "      <td>2023-12-13 05:34:00</td>\n",
       "      <td>Early AM</td>\n",
       "    </tr>\n",
       "    <tr>\n",
       "      <th>1</th>\n",
       "      <td>4b72b80fc9cfe5e613bab95585cbe7e4</td>\n",
       "      <td>23.45</td>\n",
       "      <td>21</td>\n",
       "      <td>59</td>\n",
       "      <td>23</td>\n",
       "      <td>59.00</td>\n",
       "      <td>19.00</td>\n",
       "      <td>54.95</td>\n",
       "      <td>58.00</td>\n",
       "      <td>2.52</td>\n",
       "      <td>32.20</td>\n",
       "      <td>98.08</td>\n",
       "      <td>-59.57</td>\n",
       "      <td>63029a23cb0e73f2a5d98a345c5e2e40</td>\n",
       "      <td>1</td>\n",
       "      <td>3428</td>\n",
       "      <td>0d0ca5bc40fb6266a03f400c3aa7e6cb</td>\n",
       "      <td></td>\n",
       "      <td>0.97</td>\n",
       "      <td>2023-12-13 06:34:00</td>\n",
       "      <td>Early AM</td>\n",
       "    </tr>\n",
       "  </tbody>\n",
       "</table>\n",
       "</div>"
      ],
      "text/plain": [
       "                  trip_instance_key  rt_service_min  \\\n",
       "0  5d25a4366c173007d9c29fdead0299d7           74.03   \n",
       "1  4b72b80fc9cfe5e613bab95585cbe7e4           23.45   \n",
       "\n",
       "   min_w_atleast2_trip_updates  total_pings_for_trip  total_min_w_gtfs  \\\n",
       "0                           73                   216                74   \n",
       "1                           21                    59                23   \n",
       "\n",
       "   total_vp  vp_in_shape  speed_mph  service_minutes  pings_per_min  \\\n",
       "0    216.00       148.00      21.01            58.00           2.92   \n",
       "1     59.00        19.00      54.95            58.00           2.52   \n",
       "\n",
       "   spatial_accuracy_pct  rt_triptime_w_gtfs_pct  rt_v_scheduled_trip_time_pct  \\\n",
       "0                 68.52                   99.95                         27.64   \n",
       "1                 32.20                   98.08                        -59.57   \n",
       "\n",
       "          schedule_gtfs_dataset_key  direction_id route_id  \\\n",
       "0  63029a23cb0e73f2a5d98a345c5e2e40             1     3428   \n",
       "1  63029a23cb0e73f2a5d98a345c5e2e40             1     3428   \n",
       "\n",
       "                    shape_array_key route_name_used  service_hours  \\\n",
       "0  0d0ca5bc40fb6266a03f400c3aa7e6cb                           0.97   \n",
       "1  0d0ca5bc40fb6266a03f400c3aa7e6cb                           0.97   \n",
       "\n",
       "  trip_first_departure_datetime_pacific time_of_day  \n",
       "0                   2023-12-13 05:34:00    Early AM  \n",
       "1                   2023-12-13 06:34:00    Early AM  "
      ]
     },
     "execution_count": 92,
     "metadata": {},
     "output_type": "execute_result"
    }
   ],
   "source": [
    "dec_df2.head(2)"
   ]
  },
  {
   "cell_type": "code",
   "execution_count": 93,
   "id": "fea7cda5-606c-4054-b189-58a12d250957",
   "metadata": {},
   "outputs": [
    {
     "data": {
      "text/plain": [
       "pandas.core.frame.DataFrame"
      ]
     },
     "execution_count": 93,
     "metadata": {},
     "output_type": "execute_result"
    }
   ],
   "source": [
    "type(dec_df2)"
   ]
  },
  {
   "cell_type": "code",
   "execution_count": 94,
   "id": "fe97ad8a-d0ce-40cd-982b-87877882693a",
   "metadata": {},
   "outputs": [],
   "source": [
    "dec_intermediary, dec_final = average_route_speeds_for_export(\n",
    "    dec_df2, analysis_date, 70\n",
    ")"
   ]
  },
  {
   "cell_type": "code",
   "execution_count": 95,
   "id": "58165517-e414-4843-8ece-b7631d4d7f27",
   "metadata": {},
   "outputs": [
    {
     "data": {
      "text/plain": [
       "count   11397.00\n",
       "mean        2.38\n",
       "std         0.56\n",
       "min         0.10\n",
       "25%         1.90\n",
       "50%         2.50\n",
       "75%         2.90\n",
       "max         3.50\n",
       "Name: avg_pings_per_min, dtype: float64"
      ]
     },
     "execution_count": 95,
     "metadata": {},
     "output_type": "execute_result"
    }
   ],
   "source": [
    "dec_final.avg_pings_per_min.describe()"
   ]
  },
  {
   "cell_type": "code",
   "execution_count": 96,
   "id": "e99b22b7-f6c7-4d69-8b65-da3c39c85f33",
   "metadata": {},
   "outputs": [
    {
     "data": {
      "text/plain": [
       "(11397, 18)"
      ]
     },
     "execution_count": 96,
     "metadata": {},
     "output_type": "execute_result"
    }
   ],
   "source": [
    "dec_final.shape"
   ]
  },
  {
   "cell_type": "code",
   "execution_count": 97,
   "id": "49867873-4a76-49c4-8c95-0918d7468f82",
   "metadata": {},
   "outputs": [
    {
     "data": {
      "text/html": [
       "<div>\n",
       "<style scoped>\n",
       "    .dataframe tbody tr th:only-of-type {\n",
       "        vertical-align: middle;\n",
       "    }\n",
       "\n",
       "    .dataframe tbody tr th {\n",
       "        vertical-align: top;\n",
       "    }\n",
       "\n",
       "    .dataframe thead th {\n",
       "        text-align: right;\n",
       "    }\n",
       "</style>\n",
       "<table border=\"1\" class=\"dataframe\">\n",
       "  <thead>\n",
       "    <tr style=\"text-align: right;\">\n",
       "      <th></th>\n",
       "      <th>org_id</th>\n",
       "      <th>agency</th>\n",
       "      <th>route_id</th>\n",
       "      <th>route_name</th>\n",
       "      <th>direction_id</th>\n",
       "      <th>time_of_day</th>\n",
       "      <th>avg_speed_mph</th>\n",
       "      <th>n_trips</th>\n",
       "      <th>avg_sched_trip_min</th>\n",
       "      <th>avg_rt_trip_min</th>\n",
       "      <th>district_name</th>\n",
       "      <th>avg_pings_per_min</th>\n",
       "      <th>avg_pct_vp_shape</th>\n",
       "      <th>avg_pct_rt_v_sched</th>\n",
       "      <th>avg_rt_triptime_w_gtfs_pct</th>\n",
       "      <th>avg_min_w_atleast2_trip_updates</th>\n",
       "    </tr>\n",
       "  </thead>\n",
       "  <tbody>\n",
       "    <tr>\n",
       "      <th>2868</th>\n",
       "      <td>recfma7GNR5lQTTTg</td>\n",
       "      <td>Orange County Transportation Authority</td>\n",
       "      <td>43</td>\n",
       "      <td>Fullerton - Costa Mesa via Harbor Blvd</td>\n",
       "      <td>0</td>\n",
       "      <td>Owl</td>\n",
       "      <td>12.00</td>\n",
       "      <td>1</td>\n",
       "      <td>79.00</td>\n",
       "      <td>91.00</td>\n",
       "      <td>12 - Irvine</td>\n",
       "      <td>3.00</td>\n",
       "      <td>98.52</td>\n",
       "      <td>15.19</td>\n",
       "      <td>100.00</td>\n",
       "      <td>90.00</td>\n",
       "    </tr>\n",
       "    <tr>\n",
       "      <th>375</th>\n",
       "      <td>recPnGkwdpnr8jmHB</td>\n",
       "      <td>Los Angeles County Metropolitan Transportation Authority</td>\n",
       "      <td>801</td>\n",
       "      <td>Metro A-Line</td>\n",
       "      <td>0</td>\n",
       "      <td>Early AM</td>\n",
       "      <td>19.50</td>\n",
       "      <td>20</td>\n",
       "      <td>109.20</td>\n",
       "      <td>136.20</td>\n",
       "      <td>07 - Los Angeles</td>\n",
       "      <td>2.00</td>\n",
       "      <td>92.28</td>\n",
       "      <td>24.73</td>\n",
       "      <td>89.43</td>\n",
       "      <td>90.60</td>\n",
       "    </tr>\n",
       "    <tr>\n",
       "      <th>7173</th>\n",
       "      <td>recPnGkwdpnr8jmHB</td>\n",
       "      <td>Los Angeles County Metropolitan Transportation Authority</td>\n",
       "      <td>92-13172</td>\n",
       "      <td>DWNTWN LA- SYLMAR STA VIA GLENDALE - GLENOAKS BLS</td>\n",
       "      <td>1</td>\n",
       "      <td>PM Peak</td>\n",
       "      <td>12.80</td>\n",
       "      <td>12</td>\n",
       "      <td>125.50</td>\n",
       "      <td>134.90</td>\n",
       "      <td>07 - Los Angeles</td>\n",
       "      <td>2.20</td>\n",
       "      <td>86.25</td>\n",
       "      <td>7.49</td>\n",
       "      <td>93.25</td>\n",
       "      <td>104.50</td>\n",
       "    </tr>\n",
       "  </tbody>\n",
       "</table>\n",
       "</div>"
      ],
      "text/plain": [
       "                 org_id  \\\n",
       "2868  recfma7GNR5lQTTTg   \n",
       "375   recPnGkwdpnr8jmHB   \n",
       "7173  recPnGkwdpnr8jmHB   \n",
       "\n",
       "                                                        agency  route_id  \\\n",
       "2868                    Orange County Transportation Authority        43   \n",
       "375   Los Angeles County Metropolitan Transportation Authority       801   \n",
       "7173  Los Angeles County Metropolitan Transportation Authority  92-13172   \n",
       "\n",
       "                                             route_name  direction_id  \\\n",
       "2868             Fullerton - Costa Mesa via Harbor Blvd             0   \n",
       "375                                        Metro A-Line             0   \n",
       "7173  DWNTWN LA- SYLMAR STA VIA GLENDALE - GLENOAKS BLS             1   \n",
       "\n",
       "     time_of_day  avg_speed_mph  n_trips  avg_sched_trip_min  avg_rt_trip_min  \\\n",
       "2868         Owl          12.00        1               79.00            91.00   \n",
       "375     Early AM          19.50       20              109.20           136.20   \n",
       "7173     PM Peak          12.80       12              125.50           134.90   \n",
       "\n",
       "         district_name  avg_pings_per_min  avg_pct_vp_shape  \\\n",
       "2868       12 - Irvine               3.00             98.52   \n",
       "375   07 - Los Angeles               2.00             92.28   \n",
       "7173  07 - Los Angeles               2.20             86.25   \n",
       "\n",
       "      avg_pct_rt_v_sched  avg_rt_triptime_w_gtfs_pct  \\\n",
       "2868               15.19                      100.00   \n",
       "375                24.73                       89.43   \n",
       "7173                7.49                       93.25   \n",
       "\n",
       "      avg_min_w_atleast2_trip_updates  \n",
       "2868                            90.00  \n",
       "375                             90.60  \n",
       "7173                           104.50  "
      ]
     },
     "execution_count": 97,
     "metadata": {},
     "output_type": "execute_result"
    }
   ],
   "source": [
    "dec_final.drop(columns=[\"geometry\", \"base64_url\"]).sample(3)"
   ]
  },
  {
   "cell_type": "markdown",
   "id": "e2f3b80c-b018-4216-806b-30c0733b728f",
   "metadata": {},
   "source": [
    "#### Add new columns"
   ]
  },
  {
   "cell_type": "markdown",
   "id": "620e4a8e-87c0-4a10-b27a-15a1d938f770",
   "metadata": {},
   "source": [
    "#####  Test peak_frequency and offpeak_frequency"
   ]
  },
  {
   "cell_type": "code",
   "execution_count": 140,
   "id": "3bbf297f-e58c-4697-8a31-7ec88425144e",
   "metadata": {},
   "outputs": [
    {
     "data": {
      "text/plain": [
       "'gs://calitp-analytics-data/data-analyses/rt_vs_schedule/'"
      ]
     },
     "execution_count": 140,
     "metadata": {},
     "output_type": "execute_result"
    }
   ],
   "source": [
    "RT_SCHED_GCS"
   ]
  },
  {
   "cell_type": "code",
   "execution_count": 158,
   "id": "f10a3c2c-4952-4add-9509-45c527bcac4c",
   "metadata": {},
   "outputs": [],
   "source": [
    "def load_frequency(analysis_date: str) -> pd.DataFrame:\n",
    "    freq_cols = [\n",
    "        \"shape_array_key\",\n",
    "        \"schedule_gtfs_dataset_key\",\n",
    "        \"offpeak_n_trips\",\n",
    "        \"peak_n_trips\",\n",
    "        \"offpeak_frequency\",\n",
    "        \"peak_frequency\",\n",
    "        \"pct_dense\",\n",
    "    ]\n",
    "    df = pd.read_parquet(\n",
    "        f\"{RT_SCHED_GCS}schedule_route_direction_metrics_{analysis_date}.parquet\"\n",
    "    )[freq_cols]\n",
    "    df[\"avg_frequency\"] = (\n",
    "        (df.offpeak_n_trips * df.offpeak_frequency)\n",
    "        + (df.peak_n_trips * df.peak_frequency)\n",
    "    ) / (df.offpeak_n_trips + df.peak_n_trips)\n",
    "    df = df.drop(\n",
    "        columns=[\n",
    "            \"offpeak_n_trips\",\n",
    "            \"peak_n_trips\",\n",
    "            \"offpeak_frequency\",\n",
    "            \"peak_frequency\",\n",
    "        ]\n",
    "    )\n",
    "    return df"
   ]
  },
  {
   "cell_type": "code",
   "execution_count": 159,
   "id": "f7b6c61a-47f7-4734-91be-499f80c1f795",
   "metadata": {},
   "outputs": [],
   "source": [
    "freq_dec = load_frequency(analysis_date)"
   ]
  },
  {
   "cell_type": "code",
   "execution_count": 161,
   "id": "ca10f951-bbc8-4474-acc8-6e4da8f43f6c",
   "metadata": {},
   "outputs": [
    {
     "data": {
      "text/html": [
       "<div>\n",
       "<style scoped>\n",
       "    .dataframe tbody tr th:only-of-type {\n",
       "        vertical-align: middle;\n",
       "    }\n",
       "\n",
       "    .dataframe tbody tr th {\n",
       "        vertical-align: top;\n",
       "    }\n",
       "\n",
       "    .dataframe thead th {\n",
       "        text-align: right;\n",
       "    }\n",
       "</style>\n",
       "<table border=\"1\" class=\"dataframe\">\n",
       "  <thead>\n",
       "    <tr style=\"text-align: right;\">\n",
       "      <th></th>\n",
       "      <th>shape_array_key</th>\n",
       "      <th>schedule_gtfs_dataset_key</th>\n",
       "      <th>pct_dense</th>\n",
       "      <th>avg_frequency</th>\n",
       "    </tr>\n",
       "  </thead>\n",
       "  <tbody>\n",
       "    <tr>\n",
       "      <th>3085</th>\n",
       "      <td>52e5a5b703231861cf3c2d7853e6505b</td>\n",
       "      <td>4c105bd9f414afe82dba2c3687cc1d88</td>\n",
       "      <td>0.03</td>\n",
       "      <td>1.10</td>\n",
       "    </tr>\n",
       "  </tbody>\n",
       "</table>\n",
       "</div>"
      ],
      "text/plain": [
       "                       shape_array_key         schedule_gtfs_dataset_key  \\\n",
       "3085  52e5a5b703231861cf3c2d7853e6505b  4c105bd9f414afe82dba2c3687cc1d88   \n",
       "\n",
       "      pct_dense  avg_frequency  \n",
       "3085       0.03           1.10  "
      ]
     },
     "execution_count": 161,
     "metadata": {},
     "output_type": "execute_result"
    }
   ],
   "source": [
    "freq_dec.sample()"
   ]
  },
  {
   "cell_type": "code",
   "execution_count": 163,
   "id": "e995b96b-3e44-4bc6-b5c0-e0216da651f9",
   "metadata": {},
   "outputs": [
    {
     "data": {
      "text/plain": [
       "3560"
      ]
     },
     "execution_count": 163,
     "metadata": {},
     "output_type": "execute_result"
    }
   ],
   "source": [
    "len(freq_dec)"
   ]
  },
  {
   "cell_type": "code",
   "execution_count": 162,
   "id": "166da9c3-dde0-48b0-892a-2f36c442d2eb",
   "metadata": {},
   "outputs": [
    {
     "data": {
      "text/plain": [
       "76838"
      ]
     },
     "execution_count": 162,
     "metadata": {},
     "output_type": "execute_result"
    }
   ],
   "source": [
    "len(dec_intermediary)"
   ]
  },
  {
   "cell_type": "code",
   "execution_count": 164,
   "id": "4aeaa128-a41e-4c33-9aa5-7bdeb7abda07",
   "metadata": {},
   "outputs": [
    {
     "data": {
      "text/plain": [
       "_merge    \n",
       "left_only     51049\n",
       "both          25789\n",
       "right_only     2672\n",
       "dtype: int64"
      ]
     },
     "execution_count": 164,
     "metadata": {},
     "output_type": "execute_result"
    }
   ],
   "source": [
    "pd.merge(\n",
    "    dec_intermediary, freq_dec, on=[\"shape_array_key\"], how=\"outer\", indicator=True\n",
    ")[[\"_merge\"]].value_counts()"
   ]
  },
  {
   "cell_type": "code",
   "execution_count": 166,
   "id": "76a88eaf-ede2-4276-9578-032d499bc388",
   "metadata": {},
   "outputs": [
    {
     "data": {
      "text/plain": [
       "_merge    \n",
       "left_only     51049\n",
       "both          25789\n",
       "right_only     2672\n",
       "dtype: int64"
      ]
     },
     "execution_count": 166,
     "metadata": {},
     "output_type": "execute_result"
    }
   ],
   "source": [
    "pd.merge(\n",
    "    dec_intermediary,\n",
    "    freq_dec,\n",
    "    on=[\"schedule_gtfs_dataset_key\", \"shape_array_key\"],\n",
    "    how=\"outer\",\n",
    "    indicator=True,\n",
    ")[[\"_merge\"]].value_counts()"
   ]
  },
  {
   "cell_type": "code",
   "execution_count": 167,
   "id": "a6bfec15-d0e5-4ec2-a51f-e6ff5c6dfef8",
   "metadata": {},
   "outputs": [
    {
     "data": {
      "text/html": [
       "<div>\n",
       "<style scoped>\n",
       "    .dataframe tbody tr th:only-of-type {\n",
       "        vertical-align: middle;\n",
       "    }\n",
       "\n",
       "    .dataframe tbody tr th {\n",
       "        vertical-align: top;\n",
       "    }\n",
       "\n",
       "    .dataframe thead th {\n",
       "        text-align: right;\n",
       "    }\n",
       "</style>\n",
       "<table border=\"1\" class=\"dataframe\">\n",
       "  <thead>\n",
       "    <tr style=\"text-align: right;\">\n",
       "      <th></th>\n",
       "      <th>trip_instance_key</th>\n",
       "      <th>rt_service_min</th>\n",
       "      <th>min_w_atleast2_trip_updates</th>\n",
       "      <th>total_pings_for_trip</th>\n",
       "      <th>total_min_w_gtfs</th>\n",
       "      <th>total_vp</th>\n",
       "      <th>vp_in_shape</th>\n",
       "      <th>speed_mph</th>\n",
       "      <th>service_minutes</th>\n",
       "      <th>pings_per_min</th>\n",
       "      <th>spatial_accuracy_pct</th>\n",
       "      <th>rt_triptime_w_gtfs_pct</th>\n",
       "      <th>rt_v_scheduled_trip_time_pct</th>\n",
       "      <th>schedule_gtfs_dataset_key</th>\n",
       "      <th>direction_id</th>\n",
       "      <th>route_id</th>\n",
       "      <th>shape_array_key</th>\n",
       "      <th>route_name_used</th>\n",
       "      <th>service_hours</th>\n",
       "      <th>trip_first_departure_datetime_pacific</th>\n",
       "      <th>time_of_day</th>\n",
       "    </tr>\n",
       "  </thead>\n",
       "  <tbody>\n",
       "    <tr>\n",
       "      <th>10887</th>\n",
       "      <td>30b526c933599a93473e74523b6a5462</td>\n",
       "      <td>86.83</td>\n",
       "      <td>65</td>\n",
       "      <td>150</td>\n",
       "      <td>78</td>\n",
       "      <td>150.00</td>\n",
       "      <td>145.00</td>\n",
       "      <td>19.23</td>\n",
       "      <td>80.00</td>\n",
       "      <td>1.73</td>\n",
       "      <td>96.67</td>\n",
       "      <td>89.83</td>\n",
       "      <td>8.54</td>\n",
       "      <td>9809d3f8121513057bc5cb8de7b54ce2</td>\n",
       "      <td>0</td>\n",
       "      <td>023-131</td>\n",
       "      <td>216cf9d9e3f57e245d4c3654865847b6</td>\n",
       "      <td>Salinas - King City</td>\n",
       "      <td>1.33</td>\n",
       "      <td>2023-12-13 10:50:00</td>\n",
       "      <td>Midday</td>\n",
       "    </tr>\n",
       "  </tbody>\n",
       "</table>\n",
       "</div>"
      ],
      "text/plain": [
       "                      trip_instance_key  rt_service_min  \\\n",
       "10887  30b526c933599a93473e74523b6a5462           86.83   \n",
       "\n",
       "       min_w_atleast2_trip_updates  total_pings_for_trip  total_min_w_gtfs  \\\n",
       "10887                           65                   150                78   \n",
       "\n",
       "       total_vp  vp_in_shape  speed_mph  service_minutes  pings_per_min  \\\n",
       "10887    150.00       145.00      19.23            80.00           1.73   \n",
       "\n",
       "       spatial_accuracy_pct  rt_triptime_w_gtfs_pct  \\\n",
       "10887                 96.67                   89.83   \n",
       "\n",
       "       rt_v_scheduled_trip_time_pct         schedule_gtfs_dataset_key  \\\n",
       "10887                          8.54  9809d3f8121513057bc5cb8de7b54ce2   \n",
       "\n",
       "       direction_id route_id                   shape_array_key  \\\n",
       "10887             0  023-131  216cf9d9e3f57e245d4c3654865847b6   \n",
       "\n",
       "           route_name_used  service_hours  \\\n",
       "10887  Salinas - King City           1.33   \n",
       "\n",
       "      trip_first_departure_datetime_pacific time_of_day  \n",
       "10887                   2023-12-13 10:50:00      Midday  "
      ]
     },
     "execution_count": 167,
     "metadata": {},
     "output_type": "execute_result"
    }
   ],
   "source": [
    "dec_intermediary.sample()"
   ]
  },
  {
   "cell_type": "markdown",
   "id": "a3acfeb1-54bf-4cee-9810-51c7e5fe0aa6",
   "metadata": {},
   "source": [
    "### Check results after aggregating up to route\n",
    "* How are the results sooo wrong with `265-13172`"
   ]
  },
  {
   "cell_type": "code",
   "execution_count": 116,
   "id": "aa2cc0c2-da7b-4ae1-9ac4-84c8d6d60e95",
   "metadata": {},
   "outputs": [],
   "source": [
    "def checkout_route(\n",
    "    og_df: pd.DataFrame,\n",
    "    route_agg: gpd.GeoDataFrame,\n",
    "    route_id: str,\n",
    "    time_of_day: str,\n",
    "    direction_id: int,\n",
    "):\n",
    "    print(\"final\")\n",
    "    display(\n",
    "        route_agg.loc[\n",
    "            (route_agg.route_id == route_id)\n",
    "            & (route_agg.time_of_day == time_of_day)\n",
    "            & (route_agg.direction_id == direction_id)\n",
    "        ].drop(columns=[\"geometry\", \"base64_url\"])\n",
    "    )\n",
    "    cols = [\n",
    "        \"trip_instance_key\",\n",
    "        \"time_of_day\",\n",
    "        \"speed_mph\",\n",
    "        \"rt_service_min\",\n",
    "        \"service_minutes\",\n",
    "        \"pings_per_min\",\n",
    "        \"total_min_w_gtfs\",\n",
    "        \"min_w_atleast2_trip_updates\",\n",
    "    ]\n",
    "\n",
    "    print(\"original\")\n",
    "    og_df2 = og_df.loc[\n",
    "        (og_df.route_id == route_id)\n",
    "        & (og_df.time_of_day == time_of_day)\n",
    "        & (og_df.direction_id == direction_id)\n",
    "    ]\n",
    "\n",
    "    print(f\"pings per min {og_df2.pings_per_min.mean()}\")\n",
    "    print(f\"speed_mph {og_df2.speed_mph.mean()}\")\n",
    "    print(f\"total_vp {og_df2.total_vp.mean()}\")\n",
    "    print(f\"vp_in_shape {og_df2.vp_in_shape.mean()}\")\n",
    "    print(f\"min w gtfs {og_df2.total_min_w_gtfs.mean()}\")\n",
    "    print(f\"min w at least 2 pings {og_df2.min_w_atleast2_trip_updates.mean()}\")\n",
    "    print(f\"avg vp in pct {og_df2.vp_in_shape.mean()/og_df2.total_vp.mean()}\")\n",
    "    display(og_df2[cols])"
   ]
  },
  {
   "cell_type": "markdown",
   "id": "c8aae146-3b5f-4189-ad0f-b011221b5442",
   "metadata": {},
   "source": [
    "#### scheduled trip min (renamed from service_mins) is completely lower."
   ]
  },
  {
   "cell_type": "code",
   "execution_count": 117,
   "id": "04ee1397-318c-4bb7-9f80-2a55b9c75055",
   "metadata": {},
   "outputs": [
    {
     "name": "stdout",
     "output_type": "stream",
     "text": [
      "final\n"
     ]
    },
    {
     "data": {
      "text/html": [
       "<div>\n",
       "<style scoped>\n",
       "    .dataframe tbody tr th:only-of-type {\n",
       "        vertical-align: middle;\n",
       "    }\n",
       "\n",
       "    .dataframe tbody tr th {\n",
       "        vertical-align: top;\n",
       "    }\n",
       "\n",
       "    .dataframe thead th {\n",
       "        text-align: right;\n",
       "    }\n",
       "</style>\n",
       "<table border=\"1\" class=\"dataframe\">\n",
       "  <thead>\n",
       "    <tr style=\"text-align: right;\">\n",
       "      <th></th>\n",
       "      <th>org_id</th>\n",
       "      <th>agency</th>\n",
       "      <th>route_id</th>\n",
       "      <th>route_name</th>\n",
       "      <th>direction_id</th>\n",
       "      <th>time_of_day</th>\n",
       "      <th>avg_speed_mph</th>\n",
       "      <th>n_trips</th>\n",
       "      <th>avg_sched_trip_min</th>\n",
       "      <th>avg_rt_trip_min</th>\n",
       "      <th>district_name</th>\n",
       "      <th>avg_pings_per_min</th>\n",
       "      <th>avg_pct_vp_shape</th>\n",
       "      <th>avg_pct_rt_v_sched</th>\n",
       "      <th>avg_rt_triptime_w_gtfs_pct</th>\n",
       "      <th>avg_min_w_atleast2_trip_updates</th>\n",
       "    </tr>\n",
       "  </thead>\n",
       "  <tbody>\n",
       "    <tr>\n",
       "      <th>6533</th>\n",
       "      <td>recPnGkwdpnr8jmHB</td>\n",
       "      <td>Los Angeles County Metropolitan Transportation Authority</td>\n",
       "      <td>265-13172</td>\n",
       "      <td>PICO RIVERA - LAKEWOOD CTR MALL VIA PARAMOUNT BL</td>\n",
       "      <td>0</td>\n",
       "      <td>Early AM</td>\n",
       "      <td>6.90</td>\n",
       "      <td>2</td>\n",
       "      <td>59.00</td>\n",
       "      <td>99.60</td>\n",
       "      <td>07 - Los Angeles</td>\n",
       "      <td>2.70</td>\n",
       "      <td>70.09</td>\n",
       "      <td>68.81</td>\n",
       "      <td>99.90</td>\n",
       "      <td>92.00</td>\n",
       "    </tr>\n",
       "  </tbody>\n",
       "</table>\n",
       "</div>"
      ],
      "text/plain": [
       "                 org_id  \\\n",
       "6533  recPnGkwdpnr8jmHB   \n",
       "\n",
       "                                                        agency   route_id  \\\n",
       "6533  Los Angeles County Metropolitan Transportation Authority  265-13172   \n",
       "\n",
       "                                            route_name  direction_id  \\\n",
       "6533  PICO RIVERA - LAKEWOOD CTR MALL VIA PARAMOUNT BL             0   \n",
       "\n",
       "     time_of_day  avg_speed_mph  n_trips  avg_sched_trip_min  avg_rt_trip_min  \\\n",
       "6533    Early AM           6.90        2               59.00            99.60   \n",
       "\n",
       "         district_name  avg_pings_per_min  avg_pct_vp_shape  \\\n",
       "6533  07 - Los Angeles               2.70             70.09   \n",
       "\n",
       "      avg_pct_rt_v_sched  avg_rt_triptime_w_gtfs_pct  \\\n",
       "6533               68.81                       99.90   \n",
       "\n",
       "      avg_min_w_atleast2_trip_updates  \n",
       "6533                            92.00  "
      ]
     },
     "metadata": {},
     "output_type": "display_data"
    },
    {
     "name": "stdout",
     "output_type": "stream",
     "text": [
      "original\n",
      "pings per min 2.6849179704528776\n",
      "speed_mph 6.887376703252869\n",
      "total_vp 267.5\n",
      "vp_in_shape 187.5\n",
      "min w gtfs 99.5\n",
      "min w at least 2 pings 92.0\n",
      "avg vp in pct 0.7009345794392523\n"
     ]
    },
    {
     "data": {
      "text/html": [
       "<div>\n",
       "<style scoped>\n",
       "    .dataframe tbody tr th:only-of-type {\n",
       "        vertical-align: middle;\n",
       "    }\n",
       "\n",
       "    .dataframe tbody tr th {\n",
       "        vertical-align: top;\n",
       "    }\n",
       "\n",
       "    .dataframe thead th {\n",
       "        text-align: right;\n",
       "    }\n",
       "</style>\n",
       "<table border=\"1\" class=\"dataframe\">\n",
       "  <thead>\n",
       "    <tr style=\"text-align: right;\">\n",
       "      <th></th>\n",
       "      <th>trip_instance_key</th>\n",
       "      <th>time_of_day</th>\n",
       "      <th>speed_mph</th>\n",
       "      <th>rt_service_min</th>\n",
       "      <th>service_minutes</th>\n",
       "      <th>pings_per_min</th>\n",
       "      <th>total_min_w_gtfs</th>\n",
       "      <th>min_w_atleast2_trip_updates</th>\n",
       "    </tr>\n",
       "  </thead>\n",
       "  <tbody>\n",
       "    <tr>\n",
       "      <th>24866</th>\n",
       "      <td>48a01217589c2faa46db395d6cf8317d</td>\n",
       "      <td>Early AM</td>\n",
       "      <td>9.40</td>\n",
       "      <td>95.02</td>\n",
       "      <td>58.00</td>\n",
       "      <td>2.65</td>\n",
       "      <td>95</td>\n",
       "      <td>87</td>\n",
       "    </tr>\n",
       "    <tr>\n",
       "      <th>24867</th>\n",
       "      <td>70674803a1c4416fc49f883bc3b2c18b</td>\n",
       "      <td>Early AM</td>\n",
       "      <td>4.38</td>\n",
       "      <td>104.13</td>\n",
       "      <td>60.00</td>\n",
       "      <td>2.72</td>\n",
       "      <td>104</td>\n",
       "      <td>97</td>\n",
       "    </tr>\n",
       "  </tbody>\n",
       "</table>\n",
       "</div>"
      ],
      "text/plain": [
       "                      trip_instance_key time_of_day  speed_mph  \\\n",
       "24866  48a01217589c2faa46db395d6cf8317d    Early AM       9.40   \n",
       "24867  70674803a1c4416fc49f883bc3b2c18b    Early AM       4.38   \n",
       "\n",
       "       rt_service_min  service_minutes  pings_per_min  total_min_w_gtfs  \\\n",
       "24866           95.02            58.00           2.65                95   \n",
       "24867          104.13            60.00           2.72               104   \n",
       "\n",
       "       min_w_atleast2_trip_updates  \n",
       "24866                           87  \n",
       "24867                           97  "
      ]
     },
     "metadata": {},
     "output_type": "display_data"
    }
   ],
   "source": [
    "route_265 = checkout_route(dec_intermediary, dec_final, \"265-13172\", \"Early AM\", 0)"
   ]
  },
  {
   "cell_type": "code",
   "execution_count": 118,
   "id": "7b878898-29f6-4b86-bbfd-a586682df078",
   "metadata": {},
   "outputs": [
    {
     "data": {
      "text/plain": [
       "0.7009345794392523"
      ]
     },
     "execution_count": 118,
     "metadata": {},
     "output_type": "execute_result"
    }
   ],
   "source": [
    "187.5 / 267.5"
   ]
  },
  {
   "cell_type": "code",
   "execution_count": 120,
   "id": "a3c23900-fdaa-476c-a490-dbc703df0c28",
   "metadata": {},
   "outputs": [
    {
     "name": "stdout",
     "output_type": "stream",
     "text": [
      "final\n"
     ]
    },
    {
     "data": {
      "text/html": [
       "<div>\n",
       "<style scoped>\n",
       "    .dataframe tbody tr th:only-of-type {\n",
       "        vertical-align: middle;\n",
       "    }\n",
       "\n",
       "    .dataframe tbody tr th {\n",
       "        vertical-align: top;\n",
       "    }\n",
       "\n",
       "    .dataframe thead th {\n",
       "        text-align: right;\n",
       "    }\n",
       "</style>\n",
       "<table border=\"1\" class=\"dataframe\">\n",
       "  <thead>\n",
       "    <tr style=\"text-align: right;\">\n",
       "      <th></th>\n",
       "      <th>org_id</th>\n",
       "      <th>agency</th>\n",
       "      <th>route_id</th>\n",
       "      <th>route_name</th>\n",
       "      <th>direction_id</th>\n",
       "      <th>time_of_day</th>\n",
       "      <th>avg_speed_mph</th>\n",
       "      <th>n_trips</th>\n",
       "      <th>avg_sched_trip_min</th>\n",
       "      <th>avg_rt_trip_min</th>\n",
       "      <th>district_name</th>\n",
       "      <th>avg_pings_per_min</th>\n",
       "      <th>avg_pct_vp_shape</th>\n",
       "      <th>avg_pct_rt_v_sched</th>\n",
       "      <th>avg_rt_triptime_w_gtfs_pct</th>\n",
       "      <th>avg_min_w_atleast2_trip_updates</th>\n",
       "    </tr>\n",
       "  </thead>\n",
       "  <tbody>\n",
       "    <tr>\n",
       "      <th>9012</th>\n",
       "      <td>rechaapWbeffO33OX</td>\n",
       "      <td>City and County of San Francisco</td>\n",
       "      <td>38R</td>\n",
       "      <td>Weekdays 5am-10pm Weekends 6am-9pm</td>\n",
       "      <td>1</td>\n",
       "      <td>AM Peak</td>\n",
       "      <td>6.70</td>\n",
       "      <td>30</td>\n",
       "      <td>43.90</td>\n",
       "      <td>58.90</td>\n",
       "      <td>04 - Oakland</td>\n",
       "      <td>3.00</td>\n",
       "      <td>88.33</td>\n",
       "      <td>34.17</td>\n",
       "      <td>100.17</td>\n",
       "      <td>58.30</td>\n",
       "    </tr>\n",
       "  </tbody>\n",
       "</table>\n",
       "</div>"
      ],
      "text/plain": [
       "                 org_id                            agency route_id  \\\n",
       "9012  rechaapWbeffO33OX  City and County of San Francisco      38R   \n",
       "\n",
       "                              route_name  direction_id time_of_day  \\\n",
       "9012  Weekdays 5am-10pm Weekends 6am-9pm             1     AM Peak   \n",
       "\n",
       "      avg_speed_mph  n_trips  avg_sched_trip_min  avg_rt_trip_min  \\\n",
       "9012           6.70       30               43.90            58.90   \n",
       "\n",
       "     district_name  avg_pings_per_min  avg_pct_vp_shape  avg_pct_rt_v_sched  \\\n",
       "9012  04 - Oakland               3.00             88.33               34.17   \n",
       "\n",
       "      avg_rt_triptime_w_gtfs_pct  avg_min_w_atleast2_trip_updates  \n",
       "9012                      100.17                            58.30  "
      ]
     },
     "metadata": {},
     "output_type": "display_data"
    },
    {
     "name": "stdout",
     "output_type": "stream",
     "text": [
      "original\n",
      "pings per min 2.961175851535439\n",
      "speed_mph 6.682525584870673\n",
      "total_vp 174.56666666666666\n",
      "vp_in_shape 154.2\n",
      "min w gtfs 58.96666666666667\n",
      "min w at least 2 pings 58.3\n",
      "avg vp in pct 0.8833301508497231\n"
     ]
    },
    {
     "data": {
      "text/html": [
       "<div>\n",
       "<style scoped>\n",
       "    .dataframe tbody tr th:only-of-type {\n",
       "        vertical-align: middle;\n",
       "    }\n",
       "\n",
       "    .dataframe tbody tr th {\n",
       "        vertical-align: top;\n",
       "    }\n",
       "\n",
       "    .dataframe thead th {\n",
       "        text-align: right;\n",
       "    }\n",
       "</style>\n",
       "<table border=\"1\" class=\"dataframe\">\n",
       "  <thead>\n",
       "    <tr style=\"text-align: right;\">\n",
       "      <th></th>\n",
       "      <th>trip_instance_key</th>\n",
       "      <th>time_of_day</th>\n",
       "      <th>speed_mph</th>\n",
       "      <th>rt_service_min</th>\n",
       "      <th>service_minutes</th>\n",
       "      <th>pings_per_min</th>\n",
       "      <th>total_min_w_gtfs</th>\n",
       "      <th>min_w_atleast2_trip_updates</th>\n",
       "    </tr>\n",
       "  </thead>\n",
       "  <tbody>\n",
       "    <tr>\n",
       "      <th>61610</th>\n",
       "      <td>76fa3ed3fd8ef28a446eedb4c1e94e6a</td>\n",
       "      <td>AM Peak</td>\n",
       "      <td>9.39</td>\n",
       "      <td>48.82</td>\n",
       "      <td>39.00</td>\n",
       "      <td>2.97</td>\n",
       "      <td>49</td>\n",
       "      <td>49</td>\n",
       "    </tr>\n",
       "    <tr>\n",
       "      <th>61611</th>\n",
       "      <td>47d8da2afbc3e4c78f9be4c6c53a7776</td>\n",
       "      <td>AM Peak</td>\n",
       "      <td>10.00</td>\n",
       "      <td>49.38</td>\n",
       "      <td>39.00</td>\n",
       "      <td>2.96</td>\n",
       "      <td>50</td>\n",
       "      <td>49</td>\n",
       "    </tr>\n",
       "    <tr>\n",
       "      <th>61612</th>\n",
       "      <td>40590ba21f73ae1775a4538e34e67cc3</td>\n",
       "      <td>AM Peak</td>\n",
       "      <td>5.34</td>\n",
       "      <td>97.67</td>\n",
       "      <td>41.00</td>\n",
       "      <td>2.98</td>\n",
       "      <td>98</td>\n",
       "      <td>97</td>\n",
       "    </tr>\n",
       "    <tr>\n",
       "      <th>61613</th>\n",
       "      <td>aa1b90f05357a29abc97fae90cd5bafe</td>\n",
       "      <td>AM Peak</td>\n",
       "      <td>9.73</td>\n",
       "      <td>49.45</td>\n",
       "      <td>41.00</td>\n",
       "      <td>2.95</td>\n",
       "      <td>49</td>\n",
       "      <td>49</td>\n",
       "    </tr>\n",
       "    <tr>\n",
       "      <th>61614</th>\n",
       "      <td>4d7cb7ddea2191f062c1ea3165df67c8</td>\n",
       "      <td>AM Peak</td>\n",
       "      <td>8.58</td>\n",
       "      <td>57.95</td>\n",
       "      <td>41.00</td>\n",
       "      <td>2.97</td>\n",
       "      <td>58</td>\n",
       "      <td>58</td>\n",
       "    </tr>\n",
       "    <tr>\n",
       "      <th>61615</th>\n",
       "      <td>d4e16623b6cf749d8e389b905ab44089</td>\n",
       "      <td>AM Peak</td>\n",
       "      <td>4.49</td>\n",
       "      <td>93.43</td>\n",
       "      <td>42.00</td>\n",
       "      <td>2.99</td>\n",
       "      <td>94</td>\n",
       "      <td>93</td>\n",
       "    </tr>\n",
       "    <tr>\n",
       "      <th>61616</th>\n",
       "      <td>ac9822b2d06b84790c10b7cbbf694410</td>\n",
       "      <td>AM Peak</td>\n",
       "      <td>7.10</td>\n",
       "      <td>67.83</td>\n",
       "      <td>42.00</td>\n",
       "      <td>2.96</td>\n",
       "      <td>68</td>\n",
       "      <td>67</td>\n",
       "    </tr>\n",
       "    <tr>\n",
       "      <th>61617</th>\n",
       "      <td>092c4f20368b13bc5c92fda4fb16bd93</td>\n",
       "      <td>AM Peak</td>\n",
       "      <td>3.77</td>\n",
       "      <td>54.93</td>\n",
       "      <td>43.00</td>\n",
       "      <td>2.97</td>\n",
       "      <td>55</td>\n",
       "      <td>54</td>\n",
       "    </tr>\n",
       "    <tr>\n",
       "      <th>61618</th>\n",
       "      <td>88cf8d5d7cd5d0c74a9b78d5e62fd8a3</td>\n",
       "      <td>AM Peak</td>\n",
       "      <td>7.06</td>\n",
       "      <td>52.62</td>\n",
       "      <td>43.00</td>\n",
       "      <td>2.96</td>\n",
       "      <td>52</td>\n",
       "      <td>52</td>\n",
       "    </tr>\n",
       "    <tr>\n",
       "      <th>61619</th>\n",
       "      <td>2845f0ae70ae06c3618d58fa99a1cdde</td>\n",
       "      <td>AM Peak</td>\n",
       "      <td>8.57</td>\n",
       "      <td>51.58</td>\n",
       "      <td>43.00</td>\n",
       "      <td>2.97</td>\n",
       "      <td>52</td>\n",
       "      <td>51</td>\n",
       "    </tr>\n",
       "    <tr>\n",
       "      <th>61620</th>\n",
       "      <td>118feb9aedabd1b9bb354ce493c07735</td>\n",
       "      <td>AM Peak</td>\n",
       "      <td>5.07</td>\n",
       "      <td>41.27</td>\n",
       "      <td>44.00</td>\n",
       "      <td>2.96</td>\n",
       "      <td>41</td>\n",
       "      <td>41</td>\n",
       "    </tr>\n",
       "    <tr>\n",
       "      <th>61621</th>\n",
       "      <td>adea377ad6e2ee6fb01e515724547b17</td>\n",
       "      <td>AM Peak</td>\n",
       "      <td>8.72</td>\n",
       "      <td>56.75</td>\n",
       "      <td>44.00</td>\n",
       "      <td>2.96</td>\n",
       "      <td>57</td>\n",
       "      <td>57</td>\n",
       "    </tr>\n",
       "    <tr>\n",
       "      <th>61622</th>\n",
       "      <td>08797b2f64712704fd8fff8e3c3d1dc2</td>\n",
       "      <td>AM Peak</td>\n",
       "      <td>8.72</td>\n",
       "      <td>52.38</td>\n",
       "      <td>45.00</td>\n",
       "      <td>2.96</td>\n",
       "      <td>52</td>\n",
       "      <td>52</td>\n",
       "    </tr>\n",
       "    <tr>\n",
       "      <th>61623</th>\n",
       "      <td>6366ccc0f17673ccd753214d9cb433ed</td>\n",
       "      <td>AM Peak</td>\n",
       "      <td>8.61</td>\n",
       "      <td>84.38</td>\n",
       "      <td>45.00</td>\n",
       "      <td>2.97</td>\n",
       "      <td>84</td>\n",
       "      <td>84</td>\n",
       "    </tr>\n",
       "    <tr>\n",
       "      <th>61624</th>\n",
       "      <td>bda28536257ad187c4469c6f188635a6</td>\n",
       "      <td>AM Peak</td>\n",
       "      <td>4.12</td>\n",
       "      <td>49.57</td>\n",
       "      <td>45.00</td>\n",
       "      <td>2.97</td>\n",
       "      <td>50</td>\n",
       "      <td>49</td>\n",
       "    </tr>\n",
       "    <tr>\n",
       "      <th>61625</th>\n",
       "      <td>585d84b16b4a418da661644e3a2314d1</td>\n",
       "      <td>AM Peak</td>\n",
       "      <td>8.28</td>\n",
       "      <td>70.50</td>\n",
       "      <td>45.00</td>\n",
       "      <td>2.98</td>\n",
       "      <td>71</td>\n",
       "      <td>70</td>\n",
       "    </tr>\n",
       "    <tr>\n",
       "      <th>61626</th>\n",
       "      <td>6789beb9af8dcb7d8b76afd9cce184a4</td>\n",
       "      <td>AM Peak</td>\n",
       "      <td>8.91</td>\n",
       "      <td>47.77</td>\n",
       "      <td>45.00</td>\n",
       "      <td>2.97</td>\n",
       "      <td>48</td>\n",
       "      <td>47</td>\n",
       "    </tr>\n",
       "    <tr>\n",
       "      <th>61627</th>\n",
       "      <td>f36bb7386e5681abb33b97cf5c69b9db</td>\n",
       "      <td>AM Peak</td>\n",
       "      <td>8.81</td>\n",
       "      <td>55.53</td>\n",
       "      <td>45.00</td>\n",
       "      <td>2.97</td>\n",
       "      <td>56</td>\n",
       "      <td>55</td>\n",
       "    </tr>\n",
       "    <tr>\n",
       "      <th>61628</th>\n",
       "      <td>d2a71fa9b476e583315b6f203ccf8c67</td>\n",
       "      <td>AM Peak</td>\n",
       "      <td>3.39</td>\n",
       "      <td>59.95</td>\n",
       "      <td>45.00</td>\n",
       "      <td>2.97</td>\n",
       "      <td>59</td>\n",
       "      <td>59</td>\n",
       "    </tr>\n",
       "    <tr>\n",
       "      <th>61629</th>\n",
       "      <td>82d0a21cfae4aa608861e3bb0172110c</td>\n",
       "      <td>AM Peak</td>\n",
       "      <td>7.36</td>\n",
       "      <td>54.80</td>\n",
       "      <td>45.00</td>\n",
       "      <td>2.81</td>\n",
       "      <td>52</td>\n",
       "      <td>52</td>\n",
       "    </tr>\n",
       "    <tr>\n",
       "      <th>61630</th>\n",
       "      <td>18792d0d435c7d031ea66115a3e985ee</td>\n",
       "      <td>AM Peak</td>\n",
       "      <td>4.51</td>\n",
       "      <td>45.50</td>\n",
       "      <td>45.00</td>\n",
       "      <td>2.97</td>\n",
       "      <td>46</td>\n",
       "      <td>45</td>\n",
       "    </tr>\n",
       "    <tr>\n",
       "      <th>61631</th>\n",
       "      <td>401e0c1fed455778f28834b60b66a4ff</td>\n",
       "      <td>AM Peak</td>\n",
       "      <td>3.23</td>\n",
       "      <td>63.07</td>\n",
       "      <td>45.00</td>\n",
       "      <td>2.97</td>\n",
       "      <td>63</td>\n",
       "      <td>63</td>\n",
       "    </tr>\n",
       "    <tr>\n",
       "      <th>61632</th>\n",
       "      <td>abb36fd3b7d6d95dccf23ed5709bce69</td>\n",
       "      <td>AM Peak</td>\n",
       "      <td>8.41</td>\n",
       "      <td>47.82</td>\n",
       "      <td>46.00</td>\n",
       "      <td>2.97</td>\n",
       "      <td>48</td>\n",
       "      <td>47</td>\n",
       "    </tr>\n",
       "    <tr>\n",
       "      <th>61633</th>\n",
       "      <td>743153cc91ad7ce0ff294a451347d87e</td>\n",
       "      <td>AM Peak</td>\n",
       "      <td>9.01</td>\n",
       "      <td>48.32</td>\n",
       "      <td>46.00</td>\n",
       "      <td>2.96</td>\n",
       "      <td>49</td>\n",
       "      <td>47</td>\n",
       "    </tr>\n",
       "    <tr>\n",
       "      <th>61634</th>\n",
       "      <td>addecf9d30d8193bae40b35b00ced394</td>\n",
       "      <td>AM Peak</td>\n",
       "      <td>3.39</td>\n",
       "      <td>59.93</td>\n",
       "      <td>47.00</td>\n",
       "      <td>2.97</td>\n",
       "      <td>60</td>\n",
       "      <td>60</td>\n",
       "    </tr>\n",
       "    <tr>\n",
       "      <th>61635</th>\n",
       "      <td>a95f1835bc54bdf7cf77b5bac056e103</td>\n",
       "      <td>AM Peak</td>\n",
       "      <td>3.60</td>\n",
       "      <td>56.57</td>\n",
       "      <td>47.00</td>\n",
       "      <td>2.97</td>\n",
       "      <td>57</td>\n",
       "      <td>56</td>\n",
       "    </tr>\n",
       "    <tr>\n",
       "      <th>61636</th>\n",
       "      <td>7dec1b76c7e8e141e19ecc2b780b202c</td>\n",
       "      <td>AM Peak</td>\n",
       "      <td>8.61</td>\n",
       "      <td>52.43</td>\n",
       "      <td>47.00</td>\n",
       "      <td>2.96</td>\n",
       "      <td>53</td>\n",
       "      <td>51</td>\n",
       "    </tr>\n",
       "    <tr>\n",
       "      <th>61637</th>\n",
       "      <td>02efbb740cfeced30c8fd237ab981723</td>\n",
       "      <td>AM Peak</td>\n",
       "      <td>4.29</td>\n",
       "      <td>47.77</td>\n",
       "      <td>47.00</td>\n",
       "      <td>2.95</td>\n",
       "      <td>48</td>\n",
       "      <td>47</td>\n",
       "    </tr>\n",
       "    <tr>\n",
       "      <th>61638</th>\n",
       "      <td>ff8e7fa939ecb40d43443bc1777eea65</td>\n",
       "      <td>AM Peak</td>\n",
       "      <td>3.37</td>\n",
       "      <td>59.90</td>\n",
       "      <td>47.00</td>\n",
       "      <td>2.95</td>\n",
       "      <td>60</td>\n",
       "      <td>59</td>\n",
       "    </tr>\n",
       "    <tr>\n",
       "      <th>66858</th>\n",
       "      <td>6058e1a8b5072b0ab2a6a6275aa125e7</td>\n",
       "      <td>AM Peak</td>\n",
       "      <td>6.07</td>\n",
       "      <td>89.63</td>\n",
       "      <td>39.00</td>\n",
       "      <td>2.98</td>\n",
       "      <td>90</td>\n",
       "      <td>89</td>\n",
       "    </tr>\n",
       "  </tbody>\n",
       "</table>\n",
       "</div>"
      ],
      "text/plain": [
       "                      trip_instance_key time_of_day  speed_mph  \\\n",
       "61610  76fa3ed3fd8ef28a446eedb4c1e94e6a     AM Peak       9.39   \n",
       "61611  47d8da2afbc3e4c78f9be4c6c53a7776     AM Peak      10.00   \n",
       "61612  40590ba21f73ae1775a4538e34e67cc3     AM Peak       5.34   \n",
       "61613  aa1b90f05357a29abc97fae90cd5bafe     AM Peak       9.73   \n",
       "61614  4d7cb7ddea2191f062c1ea3165df67c8     AM Peak       8.58   \n",
       "61615  d4e16623b6cf749d8e389b905ab44089     AM Peak       4.49   \n",
       "61616  ac9822b2d06b84790c10b7cbbf694410     AM Peak       7.10   \n",
       "61617  092c4f20368b13bc5c92fda4fb16bd93     AM Peak       3.77   \n",
       "61618  88cf8d5d7cd5d0c74a9b78d5e62fd8a3     AM Peak       7.06   \n",
       "61619  2845f0ae70ae06c3618d58fa99a1cdde     AM Peak       8.57   \n",
       "61620  118feb9aedabd1b9bb354ce493c07735     AM Peak       5.07   \n",
       "61621  adea377ad6e2ee6fb01e515724547b17     AM Peak       8.72   \n",
       "61622  08797b2f64712704fd8fff8e3c3d1dc2     AM Peak       8.72   \n",
       "61623  6366ccc0f17673ccd753214d9cb433ed     AM Peak       8.61   \n",
       "61624  bda28536257ad187c4469c6f188635a6     AM Peak       4.12   \n",
       "61625  585d84b16b4a418da661644e3a2314d1     AM Peak       8.28   \n",
       "61626  6789beb9af8dcb7d8b76afd9cce184a4     AM Peak       8.91   \n",
       "61627  f36bb7386e5681abb33b97cf5c69b9db     AM Peak       8.81   \n",
       "61628  d2a71fa9b476e583315b6f203ccf8c67     AM Peak       3.39   \n",
       "61629  82d0a21cfae4aa608861e3bb0172110c     AM Peak       7.36   \n",
       "61630  18792d0d435c7d031ea66115a3e985ee     AM Peak       4.51   \n",
       "61631  401e0c1fed455778f28834b60b66a4ff     AM Peak       3.23   \n",
       "61632  abb36fd3b7d6d95dccf23ed5709bce69     AM Peak       8.41   \n",
       "61633  743153cc91ad7ce0ff294a451347d87e     AM Peak       9.01   \n",
       "61634  addecf9d30d8193bae40b35b00ced394     AM Peak       3.39   \n",
       "61635  a95f1835bc54bdf7cf77b5bac056e103     AM Peak       3.60   \n",
       "61636  7dec1b76c7e8e141e19ecc2b780b202c     AM Peak       8.61   \n",
       "61637  02efbb740cfeced30c8fd237ab981723     AM Peak       4.29   \n",
       "61638  ff8e7fa939ecb40d43443bc1777eea65     AM Peak       3.37   \n",
       "66858  6058e1a8b5072b0ab2a6a6275aa125e7     AM Peak       6.07   \n",
       "\n",
       "       rt_service_min  service_minutes  pings_per_min  total_min_w_gtfs  \\\n",
       "61610           48.82            39.00           2.97                49   \n",
       "61611           49.38            39.00           2.96                50   \n",
       "61612           97.67            41.00           2.98                98   \n",
       "61613           49.45            41.00           2.95                49   \n",
       "61614           57.95            41.00           2.97                58   \n",
       "61615           93.43            42.00           2.99                94   \n",
       "61616           67.83            42.00           2.96                68   \n",
       "61617           54.93            43.00           2.97                55   \n",
       "61618           52.62            43.00           2.96                52   \n",
       "61619           51.58            43.00           2.97                52   \n",
       "61620           41.27            44.00           2.96                41   \n",
       "61621           56.75            44.00           2.96                57   \n",
       "61622           52.38            45.00           2.96                52   \n",
       "61623           84.38            45.00           2.97                84   \n",
       "61624           49.57            45.00           2.97                50   \n",
       "61625           70.50            45.00           2.98                71   \n",
       "61626           47.77            45.00           2.97                48   \n",
       "61627           55.53            45.00           2.97                56   \n",
       "61628           59.95            45.00           2.97                59   \n",
       "61629           54.80            45.00           2.81                52   \n",
       "61630           45.50            45.00           2.97                46   \n",
       "61631           63.07            45.00           2.97                63   \n",
       "61632           47.82            46.00           2.97                48   \n",
       "61633           48.32            46.00           2.96                49   \n",
       "61634           59.93            47.00           2.97                60   \n",
       "61635           56.57            47.00           2.97                57   \n",
       "61636           52.43            47.00           2.96                53   \n",
       "61637           47.77            47.00           2.95                48   \n",
       "61638           59.90            47.00           2.95                60   \n",
       "66858           89.63            39.00           2.98                90   \n",
       "\n",
       "       min_w_atleast2_trip_updates  \n",
       "61610                           49  \n",
       "61611                           49  \n",
       "61612                           97  \n",
       "61613                           49  \n",
       "61614                           58  \n",
       "61615                           93  \n",
       "61616                           67  \n",
       "61617                           54  \n",
       "61618                           52  \n",
       "61619                           51  \n",
       "61620                           41  \n",
       "61621                           57  \n",
       "61622                           52  \n",
       "61623                           84  \n",
       "61624                           49  \n",
       "61625                           70  \n",
       "61626                           47  \n",
       "61627                           55  \n",
       "61628                           59  \n",
       "61629                           52  \n",
       "61630                           45  \n",
       "61631                           63  \n",
       "61632                           47  \n",
       "61633                           47  \n",
       "61634                           60  \n",
       "61635                           56  \n",
       "61636                           51  \n",
       "61637                           47  \n",
       "61638                           59  \n",
       "66858                           89  "
      ]
     },
     "metadata": {},
     "output_type": "display_data"
    }
   ],
   "source": [
    "checkout_route(dec_intermediary, dec_final, \"38R\", \"AM Peak\", 1)"
   ]
  },
  {
   "cell_type": "code",
   "execution_count": 121,
   "id": "8168d872-49c3-44c2-bdc7-fa499124c5af",
   "metadata": {},
   "outputs": [
    {
     "name": "stdout",
     "output_type": "stream",
     "text": [
      "final\n"
     ]
    },
    {
     "data": {
      "text/html": [
       "<div>\n",
       "<style scoped>\n",
       "    .dataframe tbody tr th:only-of-type {\n",
       "        vertical-align: middle;\n",
       "    }\n",
       "\n",
       "    .dataframe tbody tr th {\n",
       "        vertical-align: top;\n",
       "    }\n",
       "\n",
       "    .dataframe thead th {\n",
       "        text-align: right;\n",
       "    }\n",
       "</style>\n",
       "<table border=\"1\" class=\"dataframe\">\n",
       "  <thead>\n",
       "    <tr style=\"text-align: right;\">\n",
       "      <th></th>\n",
       "      <th>org_id</th>\n",
       "      <th>agency</th>\n",
       "      <th>route_id</th>\n",
       "      <th>route_name</th>\n",
       "      <th>direction_id</th>\n",
       "      <th>time_of_day</th>\n",
       "      <th>avg_speed_mph</th>\n",
       "      <th>n_trips</th>\n",
       "      <th>avg_sched_trip_min</th>\n",
       "      <th>avg_rt_trip_min</th>\n",
       "      <th>district_name</th>\n",
       "      <th>avg_pings_per_min</th>\n",
       "      <th>avg_pct_vp_shape</th>\n",
       "      <th>avg_pct_rt_v_sched</th>\n",
       "      <th>avg_rt_triptime_w_gtfs_pct</th>\n",
       "      <th>avg_min_w_atleast2_trip_updates</th>\n",
       "    </tr>\n",
       "  </thead>\n",
       "  <tbody>\n",
       "    <tr>\n",
       "      <th>5973</th>\n",
       "      <td>recIKnsnTdKQ0vsiv</td>\n",
       "      <td>Western Contra Costa Transit Authority</td>\n",
       "      <td>Lynx</td>\n",
       "      <td>Rodeo/Hercules/San Francisco Transbay Terminal</td>\n",
       "      <td>1</td>\n",
       "      <td>AM Peak</td>\n",
       "      <td>13.40</td>\n",
       "      <td>6</td>\n",
       "      <td>50.00</td>\n",
       "      <td>60.70</td>\n",
       "      <td>04 - Oakland</td>\n",
       "      <td>2.80</td>\n",
       "      <td>NaN</td>\n",
       "      <td>21.40</td>\n",
       "      <td>98.02</td>\n",
       "      <td>57.70</td>\n",
       "    </tr>\n",
       "  </tbody>\n",
       "</table>\n",
       "</div>"
      ],
      "text/plain": [
       "                 org_id                                  agency route_id  \\\n",
       "5973  recIKnsnTdKQ0vsiv  Western Contra Costa Transit Authority     Lynx   \n",
       "\n",
       "                                          route_name  direction_id  \\\n",
       "5973  Rodeo/Hercules/San Francisco Transbay Terminal             1   \n",
       "\n",
       "     time_of_day  avg_speed_mph  n_trips  avg_sched_trip_min  avg_rt_trip_min  \\\n",
       "5973     AM Peak          13.40        6               50.00            60.70   \n",
       "\n",
       "     district_name  avg_pings_per_min  avg_pct_vp_shape  avg_pct_rt_v_sched  \\\n",
       "5973  04 - Oakland               2.80               NaN               21.40   \n",
       "\n",
       "      avg_rt_triptime_w_gtfs_pct  avg_min_w_atleast2_trip_updates  \n",
       "5973                       98.02                            57.70  "
      ]
     },
     "metadata": {},
     "output_type": "display_data"
    },
    {
     "name": "stdout",
     "output_type": "stream",
     "text": [
      "original\n",
      "pings per min 2.8253065827801014\n",
      "speed_mph 13.403813542450534\n",
      "total_vp nan\n",
      "vp_in_shape nan\n",
      "min w gtfs 59.5\n",
      "min w at least 2 pings 57.666666666666664\n",
      "avg vp in pct nan\n"
     ]
    },
    {
     "data": {
      "text/html": [
       "<div>\n",
       "<style scoped>\n",
       "    .dataframe tbody tr th:only-of-type {\n",
       "        vertical-align: middle;\n",
       "    }\n",
       "\n",
       "    .dataframe tbody tr th {\n",
       "        vertical-align: top;\n",
       "    }\n",
       "\n",
       "    .dataframe thead th {\n",
       "        text-align: right;\n",
       "    }\n",
       "</style>\n",
       "<table border=\"1\" class=\"dataframe\">\n",
       "  <thead>\n",
       "    <tr style=\"text-align: right;\">\n",
       "      <th></th>\n",
       "      <th>trip_instance_key</th>\n",
       "      <th>time_of_day</th>\n",
       "      <th>speed_mph</th>\n",
       "      <th>rt_service_min</th>\n",
       "      <th>service_minutes</th>\n",
       "      <th>pings_per_min</th>\n",
       "      <th>total_min_w_gtfs</th>\n",
       "      <th>min_w_atleast2_trip_updates</th>\n",
       "    </tr>\n",
       "  </thead>\n",
       "  <tbody>\n",
       "    <tr>\n",
       "      <th>12987</th>\n",
       "      <td>14c9fc6b379e1fe869ba37bfd79a8245</td>\n",
       "      <td>AM Peak</td>\n",
       "      <td>13.31</td>\n",
       "      <td>61.40</td>\n",
       "      <td>50.00</td>\n",
       "      <td>2.72</td>\n",
       "      <td>57</td>\n",
       "      <td>56</td>\n",
       "    </tr>\n",
       "    <tr>\n",
       "      <th>12990</th>\n",
       "      <td>2ee02fe17c9acad17ccb44eaaea4debe</td>\n",
       "      <td>AM Peak</td>\n",
       "      <td>12.69</td>\n",
       "      <td>63.18</td>\n",
       "      <td>50.00</td>\n",
       "      <td>2.90</td>\n",
       "      <td>63</td>\n",
       "      <td>62</td>\n",
       "    </tr>\n",
       "    <tr>\n",
       "      <th>12991</th>\n",
       "      <td>78a402dfe7d89e0b919a193ac59c69ae</td>\n",
       "      <td>AM Peak</td>\n",
       "      <td>12.61</td>\n",
       "      <td>63.18</td>\n",
       "      <td>50.00</td>\n",
       "      <td>2.82</td>\n",
       "      <td>62</td>\n",
       "      <td>60</td>\n",
       "    </tr>\n",
       "    <tr>\n",
       "      <th>12994</th>\n",
       "      <td>2bb4857e894a94d48a79620858c8384e</td>\n",
       "      <td>AM Peak</td>\n",
       "      <td>12.44</td>\n",
       "      <td>64.45</td>\n",
       "      <td>50.00</td>\n",
       "      <td>2.84</td>\n",
       "      <td>63</td>\n",
       "      <td>62</td>\n",
       "    </tr>\n",
       "    <tr>\n",
       "      <th>12997</th>\n",
       "      <td>b97a1995cd54253c58e82bb7c9ad3414</td>\n",
       "      <td>AM Peak</td>\n",
       "      <td>15.59</td>\n",
       "      <td>52.82</td>\n",
       "      <td>50.00</td>\n",
       "      <td>2.82</td>\n",
       "      <td>53</td>\n",
       "      <td>50</td>\n",
       "    </tr>\n",
       "    <tr>\n",
       "      <th>13004</th>\n",
       "      <td>baeeed7c3d6ab74ad9ff40f42a2f1da3</td>\n",
       "      <td>AM Peak</td>\n",
       "      <td>13.78</td>\n",
       "      <td>59.13</td>\n",
       "      <td>50.00</td>\n",
       "      <td>2.86</td>\n",
       "      <td>59</td>\n",
       "      <td>56</td>\n",
       "    </tr>\n",
       "  </tbody>\n",
       "</table>\n",
       "</div>"
      ],
      "text/plain": [
       "                      trip_instance_key time_of_day  speed_mph  \\\n",
       "12987  14c9fc6b379e1fe869ba37bfd79a8245     AM Peak      13.31   \n",
       "12990  2ee02fe17c9acad17ccb44eaaea4debe     AM Peak      12.69   \n",
       "12991  78a402dfe7d89e0b919a193ac59c69ae     AM Peak      12.61   \n",
       "12994  2bb4857e894a94d48a79620858c8384e     AM Peak      12.44   \n",
       "12997  b97a1995cd54253c58e82bb7c9ad3414     AM Peak      15.59   \n",
       "13004  baeeed7c3d6ab74ad9ff40f42a2f1da3     AM Peak      13.78   \n",
       "\n",
       "       rt_service_min  service_minutes  pings_per_min  total_min_w_gtfs  \\\n",
       "12987           61.40            50.00           2.72                57   \n",
       "12990           63.18            50.00           2.90                63   \n",
       "12991           63.18            50.00           2.82                62   \n",
       "12994           64.45            50.00           2.84                63   \n",
       "12997           52.82            50.00           2.82                53   \n",
       "13004           59.13            50.00           2.86                59   \n",
       "\n",
       "       min_w_atleast2_trip_updates  \n",
       "12987                           56  \n",
       "12990                           62  \n",
       "12991                           60  \n",
       "12994                           62  \n",
       "12997                           50  \n",
       "13004                           56  "
      ]
     },
     "metadata": {},
     "output_type": "display_data"
    }
   ],
   "source": [
    "checkout_route(dec_intermediary, dec_final, \"Lynx\", \"AM Peak\", 1)"
   ]
  },
  {
   "cell_type": "markdown",
   "id": "bfc98904-dbed-4302-8a9c-55adea3676b9",
   "metadata": {},
   "source": [
    "### Test aggregating with March"
   ]
  },
  {
   "cell_type": "code",
   "execution_count": 122,
   "id": "0fd73539-ea23-4b0a-9509-ae0162f512af",
   "metadata": {},
   "outputs": [],
   "source": [
    "mar_date = \"2023-03-15\""
   ]
  },
  {
   "cell_type": "code",
   "execution_count": 123,
   "id": "d491e2ca-9da1-4ccc-a86e-ff535b5d2ace",
   "metadata": {},
   "outputs": [
    {
     "ename": "NameError",
     "evalue": "name 'mar_df' is not defined",
     "output_type": "error",
     "traceback": [
      "\u001b[0;31m---------------------------------------------------------------------------\u001b[0m",
      "\u001b[0;31mNameError\u001b[0m                                 Traceback (most recent call last)",
      "Cell \u001b[0;32mIn[123], line 1\u001b[0m\n\u001b[0;32m----> 1\u001b[0m \u001b[43mmar_df\u001b[49m\u001b[38;5;241m.\u001b[39msample()\n",
      "\u001b[0;31mNameError\u001b[0m: name 'mar_df' is not defined"
     ]
    }
   ],
   "source": [
    "mar_df.sample()"
   ]
  },
  {
   "cell_type": "code",
   "execution_count": null,
   "id": "cd2a6ffd-03a9-432a-ae0d-ac15f795278e",
   "metadata": {},
   "outputs": [],
   "source": [
    "mar_df2 = add_scheduled_trip_columns(df_2023_03_15, mar_date, [\"trip_instance_key\"])"
   ]
  },
  {
   "cell_type": "code",
   "execution_count": null,
   "id": "f9a78bb6-f91e-42ad-85da-b954b606c050",
   "metadata": {},
   "outputs": [],
   "source": [
    "mar_df2.info()"
   ]
  },
  {
   "cell_type": "code",
   "execution_count": null,
   "id": "988731d1-b062-43e5-896d-8bad990fdf46",
   "metadata": {},
   "outputs": [],
   "source": [
    "mar_intermediary, mar_final = average_route_speeds_for_export(mar_df2, mar_date, 70)"
   ]
  },
  {
   "cell_type": "code",
   "execution_count": null,
   "id": "64960b35-b4ac-43e4-9e6f-594e349fe7e2",
   "metadata": {},
   "outputs": [],
   "source": [
    "mar_final.columns"
   ]
  },
  {
   "cell_type": "code",
   "execution_count": null,
   "id": "c70a9b62-f855-405b-9271-6b129b70cab9",
   "metadata": {},
   "outputs": [],
   "source": [
    "mar_final.sample(3).drop(columns=[\"base64_url\", \"geometry\"])"
   ]
  },
  {
   "cell_type": "code",
   "execution_count": null,
   "id": "bf6c84be-eb6d-4142-9ec7-2c737cd96517",
   "metadata": {},
   "outputs": [],
   "source": [
    "checkout_route(mar_intermediary, mar_final, \"4763\", \"PM Peak\", 0)"
   ]
  },
  {
   "cell_type": "code",
   "execution_count": null,
   "id": "1993266f-05df-4613-9573-29402822b9da",
   "metadata": {},
   "outputs": [],
   "source": [
    "checkout_route(mar_intermediary, mar_final, \"332\", \"Evening\", 0)"
   ]
  }
 ],
 "metadata": {
  "kernelspec": {
   "display_name": "Python 3 (ipykernel)",
   "language": "python",
   "name": "python3"
  },
  "language_info": {
   "codemirror_mode": {
    "name": "ipython",
    "version": 3
   },
   "file_extension": ".py",
   "mimetype": "text/x-python",
   "name": "python",
   "nbconvert_exporter": "python",
   "pygments_lexer": "ipython3",
   "version": "3.9.13"
  }
 },
 "nbformat": 4,
 "nbformat_minor": 5
}
