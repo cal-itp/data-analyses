{
 "cells": [
  {
   "cell_type": "markdown",
   "id": "63b72e4f-ad51-4c17-90b5-e3667618a725",
   "metadata": {},
   "source": [
    "## Check out Results"
   ]
  },
  {
   "cell_type": "code",
   "execution_count": 1,
   "id": "420e44a4-aa22-4475-840f-6caf92fa7844",
   "metadata": {},
   "outputs": [],
   "source": [
    "import geopandas as gpd\n",
    "import pandas as pd"
   ]
  },
  {
   "cell_type": "code",
   "execution_count": 2,
   "id": "67351837-e385-464b-96b3-48fc13703af7",
   "metadata": {},
   "outputs": [],
   "source": [
    "# https://github.com/cal-itp/data-analyses/tree/main/rt_segment_speeds/segment_speed_utils\n",
    "# cd rt_segment_speeds && pip install -r requirements.txt && cd ../_shared_utils && make setup_env\n",
    "from segment_speed_utils import gtfs_schedule_wrangling, helpers, wrangle_shapes\n",
    "from segment_speed_utils.project_vars import (\n",
    "    GCS_FILE_PATH,\n",
    "    PROJECT_CRS,\n",
    "    RT_SCHED_GCS,\n",
    "    SEGMENT_GCS,\n",
    "    analysis_date,\n",
    ")\n",
    "from shared_utils import geography_utils, portfolio_utils, rt_dates, schedule_rt_utils"
   ]
  },
  {
   "cell_type": "code",
   "execution_count": 3,
   "id": "c12b17b1-8c43-40c8-8a8d-579618452b06",
   "metadata": {},
   "outputs": [],
   "source": [
    "pd.options.display.max_columns = 100\n",
    "pd.options.display.float_format = \"{:.2f}\".format\n",
    "pd.set_option(\"display.max_rows\", None)\n",
    "pd.set_option(\"display.max_colwidth\", None)"
   ]
  },
  {
   "cell_type": "code",
   "execution_count": 4,
   "id": "be14001d-8599-4496-b267-d028174ebc78",
   "metadata": {},
   "outputs": [],
   "source": [
    "months = [\"dec\", \"nov\", \"oct\", \"sep\", \"aug\", \"jul\", \"jun\", \"may\", \"apr\", \"mar\"]\n",
    "\n",
    "analysis_date_list = [rt_dates.DATES[f\"{m}2023\"] for m in months]"
   ]
  },
  {
   "cell_type": "code",
   "execution_count": 5,
   "id": "78669969-8d99-4049-99cb-2f933016b2d9",
   "metadata": {},
   "outputs": [
    {
     "data": {
      "text/plain": [
       "['2023-12-13',\n",
       " '2023-11-15',\n",
       " '2023-10-11',\n",
       " '2023-09-13',\n",
       " '2023-08-15',\n",
       " '2023-07-12',\n",
       " '2023-06-14',\n",
       " '2023-05-17',\n",
       " '2023-04-12',\n",
       " '2023-03-15']"
      ]
     },
     "execution_count": 5,
     "metadata": {},
     "output_type": "execute_result"
    }
   ],
   "source": [
    "analysis_date_list"
   ]
  },
  {
   "cell_type": "markdown",
   "id": "45cd052f-1f2a-4434-8346-2c5a1e82683f",
   "metadata": {},
   "source": [
    "### Open all the files"
   ]
  },
  {
   "cell_type": "code",
   "execution_count": 6,
   "id": "05e483c3-b620-42f1-9243-d711777c1903",
   "metadata": {},
   "outputs": [],
   "source": [
    "def read_files_into_dataframes(dates: list) -> list:\n",
    "    \"\"\"\n",
    "    Read files with given dates into separate pandas DataFrames.\n",
    "\n",
    "    Parameters:\n",
    "    - dates (list): List of date strings in the format 'YYYY-MM-DD'.\n",
    "\n",
    "    Returns:\n",
    "    - dfs (dict): A dictionary of DataFrames with keys as DataFrame names.\n",
    "    \"\"\"\n",
    "    dfs = {}\n",
    "    GCS_PATH = (\n",
    "        \"gs://calitp-analytics-data/data-analyses/rt_vs_schedule/trip_level_metrics/\"\n",
    "    )\n",
    "\n",
    "    for date in dates:\n",
    "        file_path = f\"{GCS_PATH}{date}_metrics.parquet\"\n",
    "\n",
    "        # Read the file into a DataFrame\n",
    "        df = pd.read_parquet(file_path)\n",
    "\n",
    "        df_name = f\"df_{date.replace('-', '_')}\"\n",
    "        # Store the DataFrame in the dictionary\n",
    "        dfs[df_name] = df\n",
    "\n",
    "    return dfs"
   ]
  },
  {
   "cell_type": "code",
   "execution_count": 7,
   "id": "5703f90e-9ec1-4253-8392-e4df3a9dfda3",
   "metadata": {},
   "outputs": [],
   "source": [
    "dataframes = read_files_into_dataframes(analysis_date_list)"
   ]
  },
  {
   "cell_type": "code",
   "execution_count": 8,
   "id": "cccf51bb-4980-4d96-af0f-44259147f1fa",
   "metadata": {},
   "outputs": [
    {
     "data": {
      "text/plain": [
       "dict"
      ]
     },
     "execution_count": 8,
     "metadata": {},
     "output_type": "execute_result"
    }
   ],
   "source": [
    "type(dataframes)"
   ]
  },
  {
   "cell_type": "code",
   "execution_count": 9,
   "id": "077b3ff7-6707-43e6-b228-6d7fc174b306",
   "metadata": {},
   "outputs": [],
   "source": [
    "df_2023_12_13 = dataframes[\"df_2023_12_13\"]"
   ]
  },
  {
   "cell_type": "code",
   "execution_count": 10,
   "id": "531c6112-c633-412f-8350-ab01fc0a4c45",
   "metadata": {},
   "outputs": [],
   "source": [
    "df_2023_11_15 = dataframes[\"df_2023_11_15\"]\n",
    "df_2023_10_11 = dataframes[\"df_2023_10_11\"]\n",
    "df_2023_09_13 = dataframes[\"df_2023_09_13\"]\n",
    "df_2023_08_15 = dataframes[\"df_2023_08_15\"]\n",
    "df_2023_07_12 = dataframes[\"df_2023_07_12\"]\n",
    "df_2023_06_14 = dataframes[\"df_2023_06_14\"]\n",
    "df_2023_05_17 = dataframes[\"df_2023_05_17\"]\n",
    "df_2023_04_12 = dataframes[\"df_2023_04_12\"]\n",
    "df_2023_03_15 = dataframes[\"df_2023_03_15\"]"
   ]
  },
  {
   "cell_type": "code",
   "execution_count": 11,
   "id": "e4247b70-422f-466f-af12-060e92eb7d70",
   "metadata": {},
   "outputs": [],
   "source": [
    "all_dfs = [\n",
    "    df_2023_12_13,\n",
    "    df_2023_11_15,\n",
    "    df_2023_10_11,\n",
    "    df_2023_09_13,\n",
    "    df_2023_08_15,\n",
    "    df_2023_07_12,\n",
    "    df_2023_06_14,\n",
    "    df_2023_05_17,\n",
    "    df_2023_04_12,\n",
    "    df_2023_03_15,\n",
    "]"
   ]
  },
  {
   "cell_type": "code",
   "execution_count": 12,
   "id": "26185ced-9f3b-4266-a080-0eeed0c0a825",
   "metadata": {},
   "outputs": [],
   "source": [
    "def check_out(df: pd.DataFrame):\n",
    "    display(df.spatial_accuracy_pct.describe())\n",
    "    display(df.pings_per_min.describe())\n",
    "    display(df.rt_triptime_w_gtfs_pct.describe())\n",
    "    display(df.rt_v_scheduled_trip_time_pct.describe())"
   ]
  },
  {
   "cell_type": "code",
   "execution_count": 13,
   "id": "af7c69e1-e363-42f8-bf1c-f9ef2ba141e2",
   "metadata": {
    "scrolled": true,
    "tags": []
   },
   "outputs": [
    {
     "data": {
      "text/plain": [
       "count   74609.00\n",
       "mean       93.55\n",
       "std        13.20\n",
       "min         0.00\n",
       "25%        94.23\n",
       "50%        99.64\n",
       "75%       100.00\n",
       "max       100.00\n",
       "Name: spatial_accuracy_pct, dtype: float64"
      ]
     },
     "metadata": {},
     "output_type": "display_data"
    },
    {
     "data": {
      "text/plain": [
       "count   86128.00\n",
       "mean        2.44\n",
       "std         0.60\n",
       "min         0.00\n",
       "25%         2.05\n",
       "50%         2.67\n",
       "75%         2.94\n",
       "max         5.15\n",
       "Name: pings_per_min, dtype: float64"
      ]
     },
     "metadata": {},
     "output_type": "display_data"
    },
    {
     "data": {
      "text/plain": [
       "count   86128.00\n",
       "mean       95.94\n",
       "std        11.70\n",
       "min         0.10\n",
       "25%        98.36\n",
       "50%        99.65\n",
       "75%       100.00\n",
       "max       100.00\n",
       "Name: rt_triptime_w_gtfs_pct, dtype: float64"
      ]
     },
     "metadata": {},
     "output_type": "display_data"
    },
    {
     "data": {
      "text/plain": [
       "count   76878.00\n",
       "mean       44.40\n",
       "std       272.99\n",
       "min       -86.89\n",
       "25%        11.36\n",
       "50%        25.56\n",
       "75%        45.00\n",
       "max     18873.69\n",
       "Name: rt_v_scheduled_trip_time_pct, dtype: float64"
      ]
     },
     "metadata": {},
     "output_type": "display_data"
    },
    {
     "data": {
      "text/plain": [
       "count   74891.00\n",
       "mean       93.53\n",
       "std        13.12\n",
       "min         0.00\n",
       "25%        93.94\n",
       "50%        99.68\n",
       "75%       100.00\n",
       "max       100.00\n",
       "Name: spatial_accuracy_pct, dtype: float64"
      ]
     },
     "metadata": {},
     "output_type": "display_data"
    },
    {
     "data": {
      "text/plain": [
       "count   86832.00\n",
       "mean        2.51\n",
       "std         0.63\n",
       "min         0.00\n",
       "25%         2.09\n",
       "50%         2.86\n",
       "75%         2.96\n",
       "max         5.29\n",
       "Name: pings_per_min, dtype: float64"
      ]
     },
     "metadata": {},
     "output_type": "display_data"
    },
    {
     "data": {
      "text/plain": [
       "count   86832.00\n",
       "mean       95.68\n",
       "std        12.05\n",
       "min         0.45\n",
       "25%        98.40\n",
       "50%        99.67\n",
       "75%       100.00\n",
       "max       100.00\n",
       "Name: rt_triptime_w_gtfs_pct, dtype: float64"
      ]
     },
     "metadata": {},
     "output_type": "display_data"
    },
    {
     "data": {
      "text/plain": [
       "count   77194.00\n",
       "mean       42.53\n",
       "std       196.80\n",
       "min       -88.16\n",
       "25%        11.44\n",
       "50%        26.10\n",
       "75%        46.17\n",
       "max     11797.08\n",
       "Name: rt_v_scheduled_trip_time_pct, dtype: float64"
      ]
     },
     "metadata": {},
     "output_type": "display_data"
    },
    {
     "data": {
      "text/plain": [
       "count   73902.00\n",
       "mean       94.06\n",
       "std        12.62\n",
       "min         0.00\n",
       "25%        95.22\n",
       "50%       100.00\n",
       "75%       100.00\n",
       "max       100.00\n",
       "Name: spatial_accuracy_pct, dtype: float64"
      ]
     },
     "metadata": {},
     "output_type": "display_data"
    },
    {
     "data": {
      "text/plain": [
       "count   86486.00\n",
       "mean        2.48\n",
       "std         0.66\n",
       "min         0.00\n",
       "25%         1.93\n",
       "50%         2.87\n",
       "75%         2.97\n",
       "max         4.75\n",
       "Name: pings_per_min, dtype: float64"
      ]
     },
     "metadata": {},
     "output_type": "display_data"
    },
    {
     "data": {
      "text/plain": [
       "count   86486.00\n",
       "mean       96.36\n",
       "std        10.91\n",
       "min         0.14\n",
       "25%        98.51\n",
       "50%        99.69\n",
       "75%       100.00\n",
       "max       100.00\n",
       "Name: rt_triptime_w_gtfs_pct, dtype: float64"
      ]
     },
     "metadata": {},
     "output_type": "display_data"
    },
    {
     "data": {
      "text/plain": [
       "count   76255.00\n",
       "mean       43.72\n",
       "std       232.88\n",
       "min       -86.20\n",
       "25%        11.80\n",
       "50%        25.92\n",
       "75%        45.07\n",
       "max     11905.42\n",
       "Name: rt_v_scheduled_trip_time_pct, dtype: float64"
      ]
     },
     "metadata": {},
     "output_type": "display_data"
    },
    {
     "data": {
      "text/plain": [
       "count   65175.00\n",
       "mean       93.89\n",
       "std        13.05\n",
       "min         0.00\n",
       "25%        94.83\n",
       "50%       100.00\n",
       "75%       100.00\n",
       "max       100.00\n",
       "Name: spatial_accuracy_pct, dtype: float64"
      ]
     },
     "metadata": {},
     "output_type": "display_data"
    },
    {
     "data": {
      "text/plain": [
       "count   86133.00\n",
       "mean        2.46\n",
       "std         0.68\n",
       "min         0.01\n",
       "25%         1.92\n",
       "50%         2.85\n",
       "75%         2.96\n",
       "max         4.86\n",
       "Name: pings_per_min, dtype: float64"
      ]
     },
     "metadata": {},
     "output_type": "display_data"
    },
    {
     "data": {
      "text/plain": [
       "count   86133.00\n",
       "mean       96.03\n",
       "std        11.53\n",
       "min         0.71\n",
       "25%        98.36\n",
       "50%        99.66\n",
       "75%       100.00\n",
       "max       100.00\n",
       "Name: rt_triptime_w_gtfs_pct, dtype: float64"
      ]
     },
     "metadata": {},
     "output_type": "display_data"
    },
    {
     "data": {
      "text/plain": [
       "count   67169.00\n",
       "mean       42.21\n",
       "std       219.14\n",
       "min       -85.54\n",
       "25%        11.04\n",
       "50%        24.77\n",
       "75%        42.61\n",
       "max     11905.69\n",
       "Name: rt_v_scheduled_trip_time_pct, dtype: float64"
      ]
     },
     "metadata": {},
     "output_type": "display_data"
    },
    {
     "data": {
      "text/plain": [
       "count   72938.00\n",
       "mean       93.92\n",
       "std        12.79\n",
       "min         0.00\n",
       "25%        94.89\n",
       "50%       100.00\n",
       "75%       100.00\n",
       "max       100.00\n",
       "Name: spatial_accuracy_pct, dtype: float64"
      ]
     },
     "metadata": {},
     "output_type": "display_data"
    },
    {
     "data": {
      "text/plain": [
       "count   84422.00\n",
       "mean        2.44\n",
       "std         0.67\n",
       "min         0.00\n",
       "25%         1.92\n",
       "50%         2.81\n",
       "75%         2.96\n",
       "max         5.48\n",
       "Name: pings_per_min, dtype: float64"
      ]
     },
     "metadata": {},
     "output_type": "display_data"
    },
    {
     "data": {
      "text/plain": [
       "count   84422.00\n",
       "mean       95.73\n",
       "std        11.76\n",
       "min         0.42\n",
       "25%        98.10\n",
       "50%        99.62\n",
       "75%       100.00\n",
       "max       100.00\n",
       "Name: rt_triptime_w_gtfs_pct, dtype: float64"
      ]
     },
     "metadata": {},
     "output_type": "display_data"
    },
    {
     "data": {
      "text/plain": [
       "count   75286.00\n",
       "mean       43.46\n",
       "std       242.02\n",
       "min       -87.18\n",
       "25%        11.11\n",
       "50%        25.43\n",
       "75%        44.25\n",
       "max     11905.42\n",
       "Name: rt_v_scheduled_trip_time_pct, dtype: float64"
      ]
     },
     "metadata": {},
     "output_type": "display_data"
    },
    {
     "data": {
      "text/plain": [
       "count   67091.00\n",
       "mean       93.83\n",
       "std        13.15\n",
       "min         0.00\n",
       "25%        94.96\n",
       "50%       100.00\n",
       "75%       100.00\n",
       "max       100.00\n",
       "Name: spatial_accuracy_pct, dtype: float64"
      ]
     },
     "metadata": {},
     "output_type": "display_data"
    },
    {
     "data": {
      "text/plain": [
       "count   82044.00\n",
       "mean        2.49\n",
       "std         0.67\n",
       "min         0.00\n",
       "25%         1.95\n",
       "50%         2.90\n",
       "75%         2.97\n",
       "max         5.76\n",
       "Name: pings_per_min, dtype: float64"
      ]
     },
     "metadata": {},
     "output_type": "display_data"
    },
    {
     "data": {
      "text/plain": [
       "count   82044.00\n",
       "mean       96.17\n",
       "std        10.97\n",
       "min         0.43\n",
       "25%        98.28\n",
       "50%        99.65\n",
       "75%       100.00\n",
       "max       100.00\n",
       "Name: rt_triptime_w_gtfs_pct, dtype: float64"
      ]
     },
     "metadata": {},
     "output_type": "display_data"
    },
    {
     "data": {
      "text/plain": [
       "count   69488.00\n",
       "mean       56.85\n",
       "std       291.52\n",
       "min       -91.05\n",
       "25%        11.82\n",
       "50%        26.10\n",
       "75%        45.69\n",
       "max     17880.62\n",
       "Name: rt_v_scheduled_trip_time_pct, dtype: float64"
      ]
     },
     "metadata": {},
     "output_type": "display_data"
    },
    {
     "data": {
      "text/plain": [
       "count   64270.00\n",
       "mean       93.92\n",
       "std        12.67\n",
       "min         0.00\n",
       "25%        94.77\n",
       "50%       100.00\n",
       "75%       100.00\n",
       "max       100.00\n",
       "Name: spatial_accuracy_pct, dtype: float64"
      ]
     },
     "metadata": {},
     "output_type": "display_data"
    },
    {
     "data": {
      "text/plain": [
       "count   80331.00\n",
       "mean        2.51\n",
       "std         0.67\n",
       "min         0.01\n",
       "25%         1.98\n",
       "50%         2.90\n",
       "75%         2.96\n",
       "max         4.93\n",
       "Name: pings_per_min, dtype: float64"
      ]
     },
     "metadata": {},
     "output_type": "display_data"
    },
    {
     "data": {
      "text/plain": [
       "count   80331.00\n",
       "mean       95.66\n",
       "std        13.38\n",
       "min         0.28\n",
       "25%        98.43\n",
       "50%        99.67\n",
       "75%       100.00\n",
       "max       100.00\n",
       "Name: rt_triptime_w_gtfs_pct, dtype: float64"
      ]
     },
     "metadata": {},
     "output_type": "display_data"
    },
    {
     "data": {
      "text/plain": [
       "count   66748.00\n",
       "mean       63.20\n",
       "std       345.10\n",
       "min       -90.25\n",
       "25%        11.69\n",
       "50%        25.91\n",
       "75%        45.15\n",
       "max     12997.42\n",
       "Name: rt_v_scheduled_trip_time_pct, dtype: float64"
      ]
     },
     "metadata": {},
     "output_type": "display_data"
    },
    {
     "data": {
      "text/plain": [
       "count   65385.00\n",
       "mean       94.07\n",
       "std        12.45\n",
       "min         0.00\n",
       "25%        95.00\n",
       "50%       100.00\n",
       "75%       100.00\n",
       "max       100.00\n",
       "Name: spatial_accuracy_pct, dtype: float64"
      ]
     },
     "metadata": {},
     "output_type": "display_data"
    },
    {
     "data": {
      "text/plain": [
       "count   83606.00\n",
       "mean        2.47\n",
       "std         0.68\n",
       "min         0.00\n",
       "25%         1.95\n",
       "50%         2.86\n",
       "75%         2.95\n",
       "max         5.14\n",
       "Name: pings_per_min, dtype: float64"
      ]
     },
     "metadata": {},
     "output_type": "display_data"
    },
    {
     "data": {
      "text/plain": [
       "count   83606.00\n",
       "mean       95.22\n",
       "std        13.69\n",
       "min         0.27\n",
       "25%        97.76\n",
       "50%        99.51\n",
       "75%       100.00\n",
       "max       100.00\n",
       "Name: rt_triptime_w_gtfs_pct, dtype: float64"
      ]
     },
     "metadata": {},
     "output_type": "display_data"
    },
    {
     "data": {
      "text/plain": [
       "count   67864.00\n",
       "mean       60.61\n",
       "std       329.38\n",
       "min       -90.09\n",
       "25%        10.96\n",
       "50%        25.64\n",
       "75%        44.61\n",
       "max     17907.92\n",
       "Name: rt_v_scheduled_trip_time_pct, dtype: float64"
      ]
     },
     "metadata": {},
     "output_type": "display_data"
    },
    {
     "data": {
      "text/plain": [
       "count   71094.00\n",
       "mean       94.06\n",
       "std        12.64\n",
       "min         0.00\n",
       "25%        95.45\n",
       "50%       100.00\n",
       "75%       100.00\n",
       "max       100.00\n",
       "Name: spatial_accuracy_pct, dtype: float64"
      ]
     },
     "metadata": {},
     "output_type": "display_data"
    },
    {
     "data": {
      "text/plain": [
       "count   84516.00\n",
       "mean        2.45\n",
       "std         0.67\n",
       "min         0.01\n",
       "25%         1.91\n",
       "50%         2.83\n",
       "75%         2.95\n",
       "max         5.18\n",
       "Name: pings_per_min, dtype: float64"
      ]
     },
     "metadata": {},
     "output_type": "display_data"
    },
    {
     "data": {
      "text/plain": [
       "count   84516.00\n",
       "mean       94.99\n",
       "std        14.38\n",
       "min         0.56\n",
       "25%        97.88\n",
       "50%        99.53\n",
       "75%       100.00\n",
       "max       100.00\n",
       "Name: rt_triptime_w_gtfs_pct, dtype: float64"
      ]
     },
     "metadata": {},
     "output_type": "display_data"
    },
    {
     "data": {
      "text/plain": [
       "count   73471.00\n",
       "mean       61.42\n",
       "std       349.18\n",
       "min       -86.02\n",
       "25%        10.46\n",
       "50%        25.10\n",
       "75%        44.38\n",
       "max     15903.70\n",
       "Name: rt_v_scheduled_trip_time_pct, dtype: float64"
      ]
     },
     "metadata": {},
     "output_type": "display_data"
    },
    {
     "data": {
      "text/plain": [
       "count   69494.00\n",
       "mean       94.10\n",
       "std        12.34\n",
       "min         0.00\n",
       "25%        95.24\n",
       "50%       100.00\n",
       "75%       100.00\n",
       "max       100.00\n",
       "Name: spatial_accuracy_pct, dtype: float64"
      ]
     },
     "metadata": {},
     "output_type": "display_data"
    },
    {
     "data": {
      "text/plain": [
       "count   83620.00\n",
       "mean        2.46\n",
       "std         0.68\n",
       "min         0.00\n",
       "25%         1.91\n",
       "50%         2.86\n",
       "75%         2.96\n",
       "max         4.75\n",
       "Name: pings_per_min, dtype: float64"
      ]
     },
     "metadata": {},
     "output_type": "display_data"
    },
    {
     "data": {
      "text/plain": [
       "count   83620.00\n",
       "mean       94.96\n",
       "std        14.45\n",
       "min         0.28\n",
       "25%        97.99\n",
       "50%        99.58\n",
       "75%       100.00\n",
       "max       100.00\n",
       "Name: rt_triptime_w_gtfs_pct, dtype: float64"
      ]
     },
     "metadata": {},
     "output_type": "display_data"
    },
    {
     "data": {
      "text/plain": [
       "count   71797.00\n",
       "mean       60.68\n",
       "std       333.76\n",
       "min       -87.37\n",
       "25%        10.76\n",
       "50%        25.19\n",
       "75%        44.44\n",
       "max     17909.79\n",
       "Name: rt_v_scheduled_trip_time_pct, dtype: float64"
      ]
     },
     "metadata": {},
     "output_type": "display_data"
    }
   ],
   "source": [
    "for i in all_dfs:\n",
    "    check_out(i)"
   ]
  },
  {
   "cell_type": "markdown",
   "id": "b71376f9-2343-4d14-99f0-025c05b7c7b0",
   "metadata": {},
   "source": [
    "### Aggregating up to the route level\n",
    "* Should these functions to be added to my script `rt_v_scheduled_trip.py` so everythign is done in one swoop?"
   ]
  },
  {
   "cell_type": "markdown",
   "id": "90958a55-27ca-447f-8304-37773081c973",
   "metadata": {
    "tags": []
   },
   "source": [
    "#### Add missing cols\n",
    "* https://github.com/cal-itp/data-analyses/tree/main/rt_segment_speeds/segment_speed_utils"
   ]
  },
  {
   "cell_type": "code",
   "execution_count": 14,
   "id": "ed0f790a-f132-40d1-9daf-bafeecee82fd",
   "metadata": {},
   "outputs": [],
   "source": [
    "analysis_date = \"2023-12-13\""
   ]
  },
  {
   "cell_type": "markdown",
   "id": "3d08933b-cc48-46d1-b217-e5c07fc5685f",
   "metadata": {},
   "source": [
    "#### Function #1 \n",
    "##### Why is shape_array_key deleted `most_common_shape_by_route_direction`\n",
    "* https://github.com/cal-itp/data-analyses/blob/main/rt_segment_speeds/segment_speed_utils/gtfs_schedule_wrangling.py#L281-L286"
   ]
  },
  {
   "cell_type": "code",
   "execution_count": 15,
   "id": "0ba547e6-9d62-45be-9b57-1e86e9b2fcb2",
   "metadata": {},
   "outputs": [],
   "source": [
    " route_dir_cols = [\"gtfs_dataset_key\", \"route_id\", \"direction_id\"]"
   ]
  },
  {
   "cell_type": "code",
   "execution_count": 16,
   "id": "419a6e43-ab09-469d-9f48-ff99019f0ad8",
   "metadata": {},
   "outputs": [
    {
     "data": {
      "text/plain": [
       "[True, True, True]"
      ]
     },
     "execution_count": 16,
     "metadata": {},
     "output_type": "execute_result"
    }
   ],
   "source": [
    "[True for i in route_dir_cols]"
   ]
  },
  {
   "cell_type": "code",
   "execution_count": 17,
   "id": "ac3e285d-6011-4da6-903a-d114d6587547",
   "metadata": {},
   "outputs": [],
   "source": [
    "def most_common_shape_by_route_direction(analysis_date: str) -> gpd.GeoDataFrame:\n",
    "    \"\"\"\n",
    "    Find shape_id with most trips for that route-direction.\n",
    "    Merge in shape geometry.\n",
    "    \"\"\"\n",
    "    route_dir_cols = [\"gtfs_dataset_key\", \"route_id\", \"direction_id\"]\n",
    "\n",
    "    keep_trip_cols = route_dir_cols + [\n",
    "        \"trip_instance_key\",\n",
    "        \"shape_id\",\n",
    "        \"shape_array_key\",\n",
    "    ]\n",
    "\n",
    "    trips = helpers.import_scheduled_trips(\n",
    "        analysis_date, columns=keep_trip_cols, get_pandas=True\n",
    "    ).rename(columns={\"schedule_gtfs_dataset_key\": \"gtfs_dataset_key\"})\n",
    "    \n",
    "    sorting_order = [True for i in route_dir_cols]\n",
    "\n",
    "    most_common_shape = (\n",
    "        trips.groupby(\n",
    "            route_dir_cols + [\"shape_id\", \"shape_array_key\"],\n",
    "            observed=True,\n",
    "            group_keys=False,\n",
    "        )\n",
    "        .agg({\"trip_instance_key\": \"count\"})\n",
    "        .reset_index()\n",
    "        .sort_values(\n",
    "            route_dir_cols + [\"trip_instance_key\"], ascending=sorting_order + [False]\n",
    "        )\n",
    "        .drop_duplicates(subset=route_dir_cols)\n",
    "        .reset_index(drop=True)[route_dir_cols + [\"shape_id\", \"shape_array_key\"]]\n",
    "    ).rename(\n",
    "        columns={\n",
    "            \"gtfs_dataset_key\": \"schedule_gtfs_dataset_key\",\n",
    "            \"shape_id\": \"common_shape_id\",\n",
    "        }\n",
    "    )\n",
    "\n",
    "    shape_geom = helpers.import_scheduled_shapes(\n",
    "        analysis_date,\n",
    "        columns=[\"shape_array_key\", \"geometry\"],\n",
    "    )\n",
    "\n",
    "    common_shape_geom = pd.merge(\n",
    "        shape_geom, most_common_shape, on=\"shape_array_key\", how=\"inner\"\n",
    "    )\n",
    "\n",
    "    route_info = (\n",
    "        helpers.import_scheduled_trips(\n",
    "            analysis_date,\n",
    "            columns=[\n",
    "                \"gtfs_dataset_key\",\n",
    "                \"route_id\",\n",
    "                \"route_long_name\",\n",
    "                \"route_short_name\",\n",
    "                \"route_desc\",\n",
    "            ],\n",
    "        )\n",
    "        .drop_duplicates()\n",
    "        .pipe(portfolio_utils.add_route_name)\n",
    "        .drop(columns=[\"route_long_name\", \"route_short_name\", \"route_desc\"])\n",
    "    )\n",
    "\n",
    "    del shape_geom, most_common_shape\n",
    "\n",
    "    common_shape_geom2 = pd.merge(\n",
    "        common_shape_geom,\n",
    "        route_info.rename(columns={\"route_name_used\": \"route_name\"}),\n",
    "        on=[\"schedule_gtfs_dataset_key\", \"route_id\"],\n",
    "    )\n",
    "\n",
    "    return common_shape_geom2"
   ]
  },
  {
   "cell_type": "code",
   "execution_count": 18,
   "id": "989a09e4-2f5a-4065-94f0-fc6cee1b1126",
   "metadata": {},
   "outputs": [],
   "source": [
    "def add_scheduled_trip_columns(\n",
    "    df: pd.DataFrame, analysis_date: str, group_cols: list = [\"trip_instance_key\"]\n",
    ") -> pd.DataFrame:\n",
    "    \"\"\"\n",
    "    Merge RT trips (vehicle positions) to scheduled trips.\n",
    "    Add in the needed scheduled trip columns to take\n",
    "    route-direction-time_of_day averages.\n",
    "    \"\"\"\n",
    "    keep_cols = [\n",
    "        \"gtfs_dataset_key\",\n",
    "        \"direction_id\",\n",
    "        \"route_id\",\n",
    "        \"route_short_name\",\n",
    "        \"route_long_name\",\n",
    "        \"route_desc\",\n",
    "    ] + group_cols\n",
    "\n",
    "    crosswalk = helpers.import_scheduled_trips(\n",
    "        analysis_date, columns=keep_cols, get_pandas=True\n",
    "    )\n",
    "\n",
    "    common_keep_cols = [\n",
    "        \"schedule_gtfs_dataset_key\",\n",
    "        \"route_id\",\n",
    "        \"direction_id\",\n",
    "        \"shape_array_key\",\n",
    "    ]\n",
    "\n",
    "    # Drops shape_array_key gtfs_schedule_wrangling.most_common_shape_by_route_direction\n",
    "    # common_shape = gtfs_schedule_wrangling.most_common_shape_by_route_direction(analysis_date)[common_keep_cols]\n",
    "    common_shape = most_common_shape_by_route_direction(analysis_date)[common_keep_cols]\n",
    "\n",
    "    crosswalk2 = pd.merge(\n",
    "        crosswalk,\n",
    "        common_shape,\n",
    "        on=[\"schedule_gtfs_dataset_key\", \"route_id\", \"direction_id\"],\n",
    "        how=\"inner\",\n",
    "    ).astype({\"direction_id\": \"Int64\"})\n",
    "\n",
    "    crosswalk2 = portfolio_utils.add_route_name(crosswalk2).drop(\n",
    "        columns=[\"route_short_name\", \"route_long_name\", \"route_desc\"]\n",
    "    )\n",
    "\n",
    "    time_keep_cols = [\n",
    "        \"trip_instance_key\",\n",
    "        \"service_hours\",\n",
    "        \"trip_first_departure_datetime_pacific\",\n",
    "        \"time_of_day\",\n",
    "    ]\n",
    "    time_of_day = gtfs_schedule_wrangling.get_trip_time_buckets(analysis_date)[\n",
    "        time_keep_cols\n",
    "    ]\n",
    "\n",
    "    df2 = pd.merge(df, crosswalk2, on=\"trip_instance_key\", how=\"left\").merge(\n",
    "        time_of_day, on=\"trip_instance_key\", how=\"left\"\n",
    "    )\n",
    "\n",
    "    return df2"
   ]
  },
  {
   "cell_type": "code",
   "execution_count": 19,
   "id": "1fd1ba09-df71-4595-bddf-6649233cf02e",
   "metadata": {},
   "outputs": [
    {
     "data": {
      "text/plain": [
       "Index(['trip_instance_key', 'rt_service_min', 'min_w_atleast2_trip_updates',\n",
       "       'total_pings_for_trip', 'total_min_w_gtfs', 'total_vp', 'vp_in_shape',\n",
       "       'speed_mph', 'service_minutes', 'pings_per_min', 'spatial_accuracy_pct',\n",
       "       'rt_triptime_w_gtfs_pct', 'rt_v_scheduled_trip_time_pct'],\n",
       "      dtype='object')"
      ]
     },
     "execution_count": 19,
     "metadata": {},
     "output_type": "execute_result"
    }
   ],
   "source": [
    "df_2023_12_13.columns"
   ]
  },
  {
   "cell_type": "code",
   "execution_count": 20,
   "id": "6bde7bdc-56f3-465f-97d1-aaae357aea56",
   "metadata": {},
   "outputs": [
    {
     "data": {
      "text/plain": [
       "'2023-12-13'"
      ]
     },
     "execution_count": 20,
     "metadata": {},
     "output_type": "execute_result"
    }
   ],
   "source": [
    "analysis_date"
   ]
  },
  {
   "cell_type": "code",
   "execution_count": 44,
   "id": "7fabab72-c1a4-468f-83d6-b1e066014129",
   "metadata": {},
   "outputs": [],
   "source": [
    "dec_df2 = add_scheduled_trip_columns(\n",
    "    df_2023_12_13, analysis_date, [\"trip_instance_key\"]\n",
    ")"
   ]
  },
  {
   "cell_type": "markdown",
   "id": "e7fa491a-21c9-4c1c-9f70-4a36aacfb9a2",
   "metadata": {},
   "source": [
    "#### Function #2\n",
    "* Takes result from function #1"
   ]
  },
  {
   "cell_type": "markdown",
   "id": "e2f3b80c-b018-4216-806b-30c0733b728f",
   "metadata": {
    "tags": []
   },
   "source": [
    "##### Add avg frequency columns\n",
    "* https://github.com/cal-itp/data-analyses/blob/main/gtfs_funnel/route_typologies.py\n",
    "* Frequency = avg trips per hour"
   ]
  },
  {
   "cell_type": "code",
   "execution_count": 23,
   "id": "f10a3c2c-4952-4add-9509-45c527bcac4c",
   "metadata": {},
   "outputs": [],
   "source": [
    "def load_frequency(analysis_date: str) -> pd.DataFrame:\n",
    "    freq_cols = [\n",
    "        \"shape_array_key\",\n",
    "        \"schedule_gtfs_dataset_key\",\n",
    "        \"offpeak_n_trips\",\n",
    "        \"peak_n_trips\",\n",
    "        \"offpeak_frequency\",\n",
    "        \"peak_frequency\",\n",
    "        \"pct_dense\",\n",
    "    ]\n",
    "    df = pd.read_parquet(\n",
    "        f\"{RT_SCHED_GCS}schedule_route_direction_metrics_{analysis_date}.parquet\"\n",
    "    )[freq_cols]\n",
    "    df[\"avg_frequency\"] = (\n",
    "        (df.offpeak_n_trips * df.offpeak_frequency)\n",
    "        + (df.peak_n_trips * df.peak_frequency)\n",
    "    ) / (df.offpeak_n_trips + df.peak_n_trips)\n",
    "    df = df.drop(\n",
    "        columns=[\n",
    "            \"offpeak_n_trips\",\n",
    "            \"peak_n_trips\",\n",
    "            \"offpeak_frequency\",\n",
    "            \"peak_frequency\",\n",
    "        ]\n",
    "    )\n",
    "    return df"
   ]
  },
  {
   "cell_type": "code",
   "execution_count": 24,
   "id": "f7b6c61a-47f7-4734-91be-499f80c1f795",
   "metadata": {},
   "outputs": [],
   "source": [
    "freq_dec = load_frequency(analysis_date)"
   ]
  },
  {
   "cell_type": "code",
   "execution_count": 48,
   "id": "ca10f951-bbc8-4474-acc8-6e4da8f43f6c",
   "metadata": {},
   "outputs": [],
   "source": [
    "og_freq = pd.read_parquet(\n",
    "        f\"{RT_SCHED_GCS}schedule_route_direction_metrics_{analysis_date}.parquet\"\n",
    "    ).drop(columns = ['geometry'])"
   ]
  },
  {
   "cell_type": "code",
   "execution_count": 50,
   "id": "245a9426-913d-45dd-bf40-9d6f93ec4d78",
   "metadata": {},
   "outputs": [
    {
     "data": {
      "text/plain": [
       "1.69"
      ]
     },
     "execution_count": 50,
     "metadata": {},
     "output_type": "execute_result"
    }
   ],
   "source": [
    ".75+1.88/2"
   ]
  },
  {
   "cell_type": "code",
   "execution_count": 49,
   "id": "1b302325-0fb7-41ce-8cfa-f23e03055e50",
   "metadata": {},
   "outputs": [
    {
     "data": {
      "text/html": [
       "<div>\n",
       "<style scoped>\n",
       "    .dataframe tbody tr th:only-of-type {\n",
       "        vertical-align: middle;\n",
       "    }\n",
       "\n",
       "    .dataframe tbody tr th {\n",
       "        vertical-align: top;\n",
       "    }\n",
       "\n",
       "    .dataframe thead th {\n",
       "        text-align: right;\n",
       "    }\n",
       "</style>\n",
       "<table border=\"1\" class=\"dataframe\">\n",
       "  <thead>\n",
       "    <tr style=\"text-align: right;\">\n",
       "      <th></th>\n",
       "      <th>shape_array_key</th>\n",
       "      <th>schedule_gtfs_dataset_key</th>\n",
       "      <th>route_id</th>\n",
       "      <th>direction_id</th>\n",
       "      <th>common_shape_id</th>\n",
       "      <th>avg_stop_meters</th>\n",
       "      <th>avg_sched_service_min</th>\n",
       "      <th>offpeak_n_trips</th>\n",
       "      <th>peak_n_trips</th>\n",
       "      <th>offpeak_frequency</th>\n",
       "      <th>peak_frequency</th>\n",
       "      <th>pct_dense</th>\n",
       "    </tr>\n",
       "  </thead>\n",
       "  <tbody>\n",
       "    <tr>\n",
       "      <th>1452</th>\n",
       "      <td>9f3130b3a733883c0132b1031a424b78</td>\n",
       "      <td>cc53a0dbf5df90e3009b9cb5d89d80ba</td>\n",
       "      <td>563</td>\n",
       "      <td>0.00</td>\n",
       "      <td>13869</td>\n",
       "      <td>278.49</td>\n",
       "      <td>20.00</td>\n",
       "      <td>12.00</td>\n",
       "      <td>15.00</td>\n",
       "      <td>0.75</td>\n",
       "      <td>1.88</td>\n",
       "      <td>0.70</td>\n",
       "    </tr>\n",
       "  </tbody>\n",
       "</table>\n",
       "</div>"
      ],
      "text/plain": [
       "                       shape_array_key         schedule_gtfs_dataset_key  \\\n",
       "1452  9f3130b3a733883c0132b1031a424b78  cc53a0dbf5df90e3009b9cb5d89d80ba   \n",
       "\n",
       "     route_id  direction_id common_shape_id  avg_stop_meters  \\\n",
       "1452      563          0.00           13869           278.49   \n",
       "\n",
       "      avg_sched_service_min  offpeak_n_trips  peak_n_trips  offpeak_frequency  \\\n",
       "1452                  20.00            12.00         15.00               0.75   \n",
       "\n",
       "      peak_frequency  pct_dense  \n",
       "1452            1.88       0.70  "
      ]
     },
     "execution_count": 49,
     "metadata": {},
     "output_type": "execute_result"
    }
   ],
   "source": [
    "og_freq.sample()"
   ]
  },
  {
   "cell_type": "markdown",
   "id": "5603e1fb-8eb8-417c-90cc-3588d147a40c",
   "metadata": {},
   "source": [
    "##### Try to understand how frequency was pieced together"
   ]
  },
  {
   "cell_type": "code",
   "execution_count": 51,
   "id": "9368cfe5-bed5-4ac3-aac2-2dd75c730ac0",
   "metadata": {},
   "outputs": [],
   "source": [
    "def assemble_scheduled_trip_metrics(analysis_date: str):\n",
    "    \n",
    "    df = gpd.read_parquet(\n",
    "        f\"{RT_SCHED_GCS}stop_times_direction_{analysis_date}.parquet\"\n",
    "    )\n",
    "\n",
    "    trips_to_route = helpers.import_scheduled_trips(\n",
    "        analysis_date,\n",
    "        columns = [\"trip_instance_key\", \"route_id\", \"direction_id\"],\n",
    "        get_pandas = True\n",
    "    )\n",
    "    \n",
    "    time_of_day = (gtfs_schedule_wrangling.get_trip_time_buckets(analysis_date)   \n",
    "                   [[\"trip_instance_key\", \"time_of_day\", \n",
    "                     \"service_minutes\"]]\n",
    "                   .rename(columns = {\"service_minutes\": \"sched_service_min\"})\n",
    "              )\n",
    "    \n",
    "    trip_cols = [\"schedule_gtfs_dataset_key\", \"trip_instance_key\"]\n",
    "    \n",
    "    grouped_df = df.groupby(trip_cols, observed=True, group_keys=False)\n",
    "\n",
    "    # Get median / mean stop meters for the trip\n",
    "    # Attach time-of-day and route_id and direction_id\n",
    "    df2 = pd.merge(\n",
    "        grouped_df.agg({\"stop_meters\": \"median\"}).reset_index().rename(\n",
    "            columns = {\"stop_meters\": \"median_stop_meters\"}),\n",
    "        time_of_day,\n",
    "        on = \"trip_instance_key\",\n",
    "        how = \"left\"\n",
    "    ).merge(\n",
    "        trips_to_route,\n",
    "        on = \"trip_instance_key\",\n",
    "        how = \"inner\"\n",
    "    )\n",
    "    \n",
    "    df2 = df2.assign(\n",
    "        median_stop_meters = df2.median_stop_meters.round(2)\n",
    "    )\n",
    "    \n",
    "    return df2"
   ]
  },
  {
   "cell_type": "code",
   "execution_count": 52,
   "id": "a6650834-18fb-4997-9f14-9587e63a7222",
   "metadata": {},
   "outputs": [],
   "source": [
    "assemble_scheduled_trip_metrics_df = assemble_scheduled_trip_metrics(analysis_date)"
   ]
  },
  {
   "cell_type": "code",
   "execution_count": 53,
   "id": "034bdae7-4832-4b6c-b872-3d9f875e35a7",
   "metadata": {},
   "outputs": [
    {
     "data": {
      "text/html": [
       "<div>\n",
       "<style scoped>\n",
       "    .dataframe tbody tr th:only-of-type {\n",
       "        vertical-align: middle;\n",
       "    }\n",
       "\n",
       "    .dataframe tbody tr th {\n",
       "        vertical-align: top;\n",
       "    }\n",
       "\n",
       "    .dataframe thead th {\n",
       "        text-align: right;\n",
       "    }\n",
       "</style>\n",
       "<table border=\"1\" class=\"dataframe\">\n",
       "  <thead>\n",
       "    <tr style=\"text-align: right;\">\n",
       "      <th></th>\n",
       "      <th>schedule_gtfs_dataset_key</th>\n",
       "      <th>trip_instance_key</th>\n",
       "      <th>median_stop_meters</th>\n",
       "      <th>time_of_day</th>\n",
       "      <th>sched_service_min</th>\n",
       "      <th>route_id</th>\n",
       "      <th>direction_id</th>\n",
       "    </tr>\n",
       "  </thead>\n",
       "  <tbody>\n",
       "    <tr>\n",
       "      <th>14049</th>\n",
       "      <td>3f3f36b4c41cc6b5df3eb7f5d8ea6e3c</td>\n",
       "      <td>33408393e7418ac53c9b114518c93d18</td>\n",
       "      <td>322.57</td>\n",
       "      <td>Owl</td>\n",
       "      <td>84.00</td>\n",
       "      <td>4-13172</td>\n",
       "      <td>1.00</td>\n",
       "    </tr>\n",
       "  </tbody>\n",
       "</table>\n",
       "</div>"
      ],
      "text/plain": [
       "              schedule_gtfs_dataset_key                 trip_instance_key  \\\n",
       "14049  3f3f36b4c41cc6b5df3eb7f5d8ea6e3c  33408393e7418ac53c9b114518c93d18   \n",
       "\n",
       "       median_stop_meters time_of_day  sched_service_min route_id  \\\n",
       "14049              322.57         Owl              84.00  4-13172   \n",
       "\n",
       "       direction_id  \n",
       "14049          1.00  "
      ]
     },
     "execution_count": 53,
     "metadata": {},
     "output_type": "execute_result"
    }
   ],
   "source": [
    "assemble_scheduled_trip_metrics_df.sample()"
   ]
  },
  {
   "cell_type": "code",
   "execution_count": 55,
   "id": "3684749f-c9f2-4233-a411-9b2422182d3d",
   "metadata": {},
   "outputs": [],
   "source": [
    "def add_common_shape(analysis_date: str):\n",
    "    \"\"\"\n",
    "    For route-direction df, add common_shape_id (most frequent shape)\n",
    "    and attach that shape geometry\n",
    "    \"\"\"\n",
    "    common_shape = gtfs_schedule_wrangling.most_common_shape_by_route_direction(\n",
    "        analysis_date).pipe(\n",
    "        helpers.remove_shapes_outside_ca\n",
    "    )\n",
    "    \n",
    "    return common_shape"
   ]
  },
  {
   "cell_type": "code",
   "execution_count": 54,
   "id": "57efca22-e512-4a38-b048-20e253765854",
   "metadata": {},
   "outputs": [],
   "source": [
    "def schedule_metrics_by_route_direction(\n",
    "    df: pd.DataFrame,\n",
    "    analysis_date: str,\n",
    "    group_cols: list\n",
    ") -> pd.DataFrame:\n",
    "    \"\"\"\n",
    "    Aggregate trip-level metrics to route-direction, and \n",
    "    attach shape geometry for common_shape_id.\n",
    "    \"\"\"\n",
    "    \n",
    "    service_freq_df = gtfs_schedule_wrangling.aggregate_time_of_day_to_peak_offpeak(\n",
    "        df, group_cols)\n",
    "        \n",
    "    metrics_df = (df.groupby(group_cols, observed=True, group_keys=False)\n",
    "                  .agg({\n",
    "                      \"median_stop_meters\": \"mean\", \n",
    "                      # take mean of the median stop spacing for trip\n",
    "                      # does this make sense?\n",
    "                      # median is the single boiled down metric at the trip-level\n",
    "                      \"sched_service_min\": \"mean\",\n",
    "                  }).reset_index()\n",
    "                  .rename(columns = {\n",
    "                      \"median_stop_meters\": \"avg_stop_meters\",\n",
    "                      \"sched_service_min\": \"avg_sched_service_min\"\n",
    "                  })\n",
    "                 )\n",
    "\n",
    "    common_shape_for_route_dir = add_common_shape(analysis_date)\n",
    "\n",
    "    df = pd.merge(\n",
    "        common_shape_for_route_dir,\n",
    "        metrics_df,\n",
    "        on = group_cols,\n",
    "        how = \"inner\"\n",
    "    ).merge(\n",
    "        service_freq_df,\n",
    "        on = group_cols,\n",
    "        how = \"inner\"\n",
    "    )\n",
    "    \n",
    "    return df\n"
   ]
  },
  {
   "cell_type": "code",
   "execution_count": 56,
   "id": "c4f73a21-4807-4710-8359-814d49a42bb5",
   "metadata": {},
   "outputs": [],
   "source": [
    "route_cols = [\n",
    "            \"schedule_gtfs_dataset_key\", \n",
    "            \"route_id\", \n",
    "            \"direction_id\"\n",
    "        ]"
   ]
  },
  {
   "cell_type": "code",
   "execution_count": 67,
   "id": "b841548c-52a5-4035-8bda-d8752bba1f02",
   "metadata": {},
   "outputs": [],
   "source": [
    "# https://github.com/cal-itp/data-analyses/blob/main/rt_segment_speeds/segment_speed_utils/gtfs_schedule_wrangling.py\n",
    "service_freq_df = gtfs_schedule_wrangling.aggregate_time_of_day_to_peak_offpeak(\n",
    "        assemble_scheduled_trip_metrics_df, route_cols)"
   ]
  },
  {
   "cell_type": "code",
   "execution_count": 69,
   "id": "198f50de-5345-45dc-81ad-2489c77c7d56",
   "metadata": {},
   "outputs": [
    {
     "data": {
      "text/html": [
       "<div>\n",
       "<style scoped>\n",
       "    .dataframe tbody tr th:only-of-type {\n",
       "        vertical-align: middle;\n",
       "    }\n",
       "\n",
       "    .dataframe tbody tr th {\n",
       "        vertical-align: top;\n",
       "    }\n",
       "\n",
       "    .dataframe thead th {\n",
       "        text-align: right;\n",
       "    }\n",
       "</style>\n",
       "<table border=\"1\" class=\"dataframe\">\n",
       "  <thead>\n",
       "    <tr style=\"text-align: right;\">\n",
       "      <th></th>\n",
       "      <th>schedule_gtfs_dataset_key</th>\n",
       "      <th>route_id</th>\n",
       "      <th>direction_id</th>\n",
       "      <th>offpeak_n_trips</th>\n",
       "      <th>peak_n_trips</th>\n",
       "      <th>offpeak_frequency</th>\n",
       "      <th>peak_frequency</th>\n",
       "    </tr>\n",
       "  </thead>\n",
       "  <tbody>\n",
       "    <tr>\n",
       "      <th>732</th>\n",
       "      <td>3f3f36b4c41cc6b5df3eb7f5d8ea6e3c</td>\n",
       "      <td>246-13172</td>\n",
       "      <td>0.00</td>\n",
       "      <td>24.00</td>\n",
       "      <td>16.00</td>\n",
       "      <td>1.50</td>\n",
       "      <td>2.00</td>\n",
       "    </tr>\n",
       "    <tr>\n",
       "      <th>3813</th>\n",
       "      <td>ecd018ad66f497fb8f188ed5a71b284b</td>\n",
       "      <td>480</td>\n",
       "      <td>1.00</td>\n",
       "      <td>NaN</td>\n",
       "      <td>3.00</td>\n",
       "      <td>NaN</td>\n",
       "      <td>0.38</td>\n",
       "    </tr>\n",
       "    <tr>\n",
       "      <th>2926</th>\n",
       "      <td>c499f905e33929a641f083dad55c521e</td>\n",
       "      <td>62</td>\n",
       "      <td>1.00</td>\n",
       "      <td>33.00</td>\n",
       "      <td>24.00</td>\n",
       "      <td>2.06</td>\n",
       "      <td>3.00</td>\n",
       "    </tr>\n",
       "    <tr>\n",
       "      <th>1882</th>\n",
       "      <td>8eecb796518dafd3c1b971a99f8b8252</td>\n",
       "      <td>5700</td>\n",
       "      <td>1.00</td>\n",
       "      <td>1.00</td>\n",
       "      <td>NaN</td>\n",
       "      <td>0.06</td>\n",
       "      <td>NaN</td>\n",
       "    </tr>\n",
       "    <tr>\n",
       "      <th>2043</th>\n",
       "      <td>9b4c9cf681dfcc10dffe9523b43598bf</td>\n",
       "      <td>B7</td>\n",
       "      <td>1.00</td>\n",
       "      <td>1.00</td>\n",
       "      <td>5.00</td>\n",
       "      <td>0.06</td>\n",
       "      <td>0.62</td>\n",
       "    </tr>\n",
       "  </tbody>\n",
       "</table>\n",
       "</div>"
      ],
      "text/plain": [
       "             schedule_gtfs_dataset_key   route_id  direction_id  \\\n",
       "732   3f3f36b4c41cc6b5df3eb7f5d8ea6e3c  246-13172          0.00   \n",
       "3813  ecd018ad66f497fb8f188ed5a71b284b        480          1.00   \n",
       "2926  c499f905e33929a641f083dad55c521e         62          1.00   \n",
       "1882  8eecb796518dafd3c1b971a99f8b8252       5700          1.00   \n",
       "2043  9b4c9cf681dfcc10dffe9523b43598bf         B7          1.00   \n",
       "\n",
       "      offpeak_n_trips  peak_n_trips  offpeak_frequency  peak_frequency  \n",
       "732             24.00         16.00               1.50            2.00  \n",
       "3813              NaN          3.00                NaN            0.38  \n",
       "2926            33.00         24.00               2.06            3.00  \n",
       "1882             1.00           NaN               0.06             NaN  \n",
       "2043             1.00          5.00               0.06            0.62  "
      ]
     },
     "execution_count": 69,
     "metadata": {},
     "output_type": "execute_result"
    }
   ],
   "source": [
    "service_freq_df.sample(5)"
   ]
  },
  {
   "cell_type": "code",
   "execution_count": 57,
   "id": "8b4bfe50-6b76-4bed-a749-a32ae906914f",
   "metadata": {},
   "outputs": [],
   "source": [
    "schedule_metrics_by_route_direction_df = schedule_metrics_by_route_direction(assemble_scheduled_trip_metrics_df,\n",
    "                                                                            analysis_date, route_cols)"
   ]
  },
  {
   "cell_type": "code",
   "execution_count": 63,
   "id": "13917206-ebb4-4eca-9847-bc2e7dde74bd",
   "metadata": {},
   "outputs": [
    {
     "data": {
      "text/plain": [
       "Index(['geometry', 'schedule_gtfs_dataset_key', 'route_id', 'direction_id',\n",
       "       'common_shape_id', 'route_name', 'avg_stop_meters',\n",
       "       'avg_sched_service_min', 'offpeak_n_trips', 'peak_n_trips',\n",
       "       'offpeak_frequency', 'peak_frequency'],\n",
       "      dtype='object')"
      ]
     },
     "execution_count": 63,
     "metadata": {},
     "output_type": "execute_result"
    }
   ],
   "source": [
    "schedule_metrics_by_route_direction_df.columns"
   ]
  },
  {
   "cell_type": "code",
   "execution_count": 66,
   "id": "d8eb847f-0dab-479e-a2bf-606bd98005cd",
   "metadata": {},
   "outputs": [
    {
     "data": {
      "text/html": [
       "<div>\n",
       "<style scoped>\n",
       "    .dataframe tbody tr th:only-of-type {\n",
       "        vertical-align: middle;\n",
       "    }\n",
       "\n",
       "    .dataframe tbody tr th {\n",
       "        vertical-align: top;\n",
       "    }\n",
       "\n",
       "    .dataframe thead th {\n",
       "        text-align: right;\n",
       "    }\n",
       "</style>\n",
       "<table border=\"1\" class=\"dataframe\">\n",
       "  <thead>\n",
       "    <tr style=\"text-align: right;\">\n",
       "      <th></th>\n",
       "      <th>schedule_gtfs_dataset_key</th>\n",
       "      <th>trip_instance_key</th>\n",
       "      <th>median_stop_meters</th>\n",
       "      <th>time_of_day</th>\n",
       "      <th>sched_service_min</th>\n",
       "      <th>route_id</th>\n",
       "      <th>direction_id</th>\n",
       "    </tr>\n",
       "  </thead>\n",
       "  <tbody>\n",
       "    <tr>\n",
       "      <th>35206</th>\n",
       "      <td>7228eba069f2a0fad0ed8552410a544d</td>\n",
       "      <td>897126fba95f1b993ff3a966591916d1</td>\n",
       "      <td>810.02</td>\n",
       "      <td>AM Peak</td>\n",
       "      <td>50.00</td>\n",
       "      <td>1964</td>\n",
       "      <td>0.00</td>\n",
       "    </tr>\n",
       "  </tbody>\n",
       "</table>\n",
       "</div>"
      ],
      "text/plain": [
       "              schedule_gtfs_dataset_key                 trip_instance_key  \\\n",
       "35206  7228eba069f2a0fad0ed8552410a544d  897126fba95f1b993ff3a966591916d1   \n",
       "\n",
       "       median_stop_meters time_of_day  sched_service_min route_id  \\\n",
       "35206              810.02     AM Peak              50.00     1964   \n",
       "\n",
       "       direction_id  \n",
       "35206          0.00  "
      ]
     },
     "execution_count": 66,
     "metadata": {},
     "output_type": "execute_result"
    }
   ],
   "source": [
    "assemble_scheduled_trip_metrics_df.sample()"
   ]
  },
  {
   "cell_type": "code",
   "execution_count": 65,
   "id": "9897c32e-9cc6-4aa1-a267-ec8c3a3254f9",
   "metadata": {},
   "outputs": [
    {
     "data": {
      "text/html": [
       "<div>\n",
       "<style scoped>\n",
       "    .dataframe tbody tr th:only-of-type {\n",
       "        vertical-align: middle;\n",
       "    }\n",
       "\n",
       "    .dataframe tbody tr th {\n",
       "        vertical-align: top;\n",
       "    }\n",
       "\n",
       "    .dataframe thead th {\n",
       "        text-align: right;\n",
       "    }\n",
       "</style>\n",
       "<table border=\"1\" class=\"dataframe\">\n",
       "  <thead>\n",
       "    <tr style=\"text-align: right;\">\n",
       "      <th></th>\n",
       "      <th>schedule_gtfs_dataset_key</th>\n",
       "      <th>route_id</th>\n",
       "      <th>direction_id</th>\n",
       "      <th>common_shape_id</th>\n",
       "      <th>route_name</th>\n",
       "      <th>avg_stop_meters</th>\n",
       "      <th>avg_sched_service_min</th>\n",
       "      <th>offpeak_n_trips</th>\n",
       "      <th>peak_n_trips</th>\n",
       "      <th>offpeak_frequency</th>\n",
       "      <th>peak_frequency</th>\n",
       "    </tr>\n",
       "  </thead>\n",
       "  <tbody>\n",
       "    <tr>\n",
       "      <th>1547</th>\n",
       "      <td>43d8d305ee692724a532f30ea63a1cbe</td>\n",
       "      <td>35E</td>\n",
       "      <td>0.00</td>\n",
       "      <td>shp-35E-04</td>\n",
       "      <td>Hwy 9/Scotts Valley via Emeline</td>\n",
       "      <td>422.40</td>\n",
       "      <td>65.77</td>\n",
       "      <td>10.00</td>\n",
       "      <td>12.00</td>\n",
       "      <td>0.62</td>\n",
       "      <td>1.50</td>\n",
       "    </tr>\n",
       "    <tr>\n",
       "      <th>767</th>\n",
       "      <td>fe4aab1717eca5a2935c32c85a35a5bf</td>\n",
       "      <td>1</td>\n",
       "      <td>0.00</td>\n",
       "      <td>1</td>\n",
       "      <td></td>\n",
       "      <td>590.45</td>\n",
       "      <td>70.57</td>\n",
       "      <td>11.00</td>\n",
       "      <td>12.00</td>\n",
       "      <td>0.69</td>\n",
       "      <td>1.50</td>\n",
       "    </tr>\n",
       "    <tr>\n",
       "      <th>1983</th>\n",
       "      <td>f30efe350fbd22dcbfa4eeeb0def8e73</td>\n",
       "      <td>114</td>\n",
       "      <td>1.00</td>\n",
       "      <td>50</td>\n",
       "      <td>Hesperia - Fort Irwin</td>\n",
       "      <td>814.56</td>\n",
       "      <td>133.00</td>\n",
       "      <td>NaN</td>\n",
       "      <td>3.00</td>\n",
       "      <td>NaN</td>\n",
       "      <td>0.38</td>\n",
       "    </tr>\n",
       "  </tbody>\n",
       "</table>\n",
       "</div>"
      ],
      "text/plain": [
       "             schedule_gtfs_dataset_key route_id  direction_id common_shape_id  \\\n",
       "1547  43d8d305ee692724a532f30ea63a1cbe      35E          0.00      shp-35E-04   \n",
       "767   fe4aab1717eca5a2935c32c85a35a5bf        1          0.00               1   \n",
       "1983  f30efe350fbd22dcbfa4eeeb0def8e73      114          1.00              50   \n",
       "\n",
       "                           route_name  avg_stop_meters  avg_sched_service_min  \\\n",
       "1547  Hwy 9/Scotts Valley via Emeline           422.40                  65.77   \n",
       "767                                             590.45                  70.57   \n",
       "1983            Hesperia - Fort Irwin           814.56                 133.00   \n",
       "\n",
       "      offpeak_n_trips  peak_n_trips  offpeak_frequency  peak_frequency  \n",
       "1547            10.00         12.00               0.62            1.50  \n",
       "767             11.00         12.00               0.69            1.50  \n",
       "1983              NaN          3.00                NaN            0.38  "
      ]
     },
     "execution_count": 65,
     "metadata": {},
     "output_type": "execute_result"
    }
   ],
   "source": [
    "schedule_metrics_by_route_direction_df.sample(3).drop(columns = ['geometry'])"
   ]
  },
  {
   "cell_type": "markdown",
   "id": "8874ce25-56a7-49d3-96d0-7f1140ec52c1",
   "metadata": {},
   "source": [
    "##### Actual Function"
   ]
  },
  {
   "cell_type": "code",
   "execution_count": 30,
   "id": "21db7580-cf79-4385-b9dc-80cd99206011",
   "metadata": {},
   "outputs": [],
   "source": [
    "def average_route_speeds_for_export(\n",
    "    df: pd.DataFrame,\n",
    "    analysis_date: str,\n",
    "    max_speed: int,\n",
    ") -> gpd.GeoDataFrame:\n",
    "    \"\"\"\n",
    "    Aggregate trip speeds to route-direction.\n",
    "    Attach shape geometry to most common shape_id.\n",
    "    \"\"\"\n",
    "    df2 = df.loc[df.speed_mph <= 70].reset_index(drop=True)\n",
    "\n",
    "    route_cols = [\n",
    "        \"schedule_gtfs_dataset_key\",\n",
    "        \"time_of_day\",\n",
    "        \"route_id\",\n",
    "        \"direction_id\",\n",
    "        \"route_name_used\",\n",
    "        \"shape_array_key\",\n",
    "    ]\n",
    "\n",
    "    mean_cols = [\n",
    "        \"service_minutes\",\n",
    "        \"rt_service_min\",\n",
    "        \"speed_mph\",\n",
    "        \"pings_per_min\",\n",
    "        \"total_vp\",\n",
    "        \"vp_in_shape\",\n",
    "        \"total_min_w_gtfs\",\n",
    "        \"min_w_atleast2_trip_updates\",\n",
    "    ]\n",
    "    count_cols = [\"trip_instance_key\"]\n",
    "\n",
    "    df3 = (\n",
    "        df2.groupby(route_cols)\n",
    "        .agg({**{e: \"mean\" for e in mean_cols}, **{e: \"count\" for e in count_cols}})\n",
    "        .reset_index()\n",
    "    )\n",
    "\n",
    "    df4 = df3.assign(\n",
    "        rt_service_min=df3.rt_service_min.round(1),\n",
    "        service_minutes=df3.service_minutes.round(1),\n",
    "        speed_mph=df3.speed_mph.round(1),\n",
    "        pings_per_min=df3.pings_per_min.round(1),\n",
    "        min_w_atleast2_trip_updates=df3.min_w_atleast2_trip_updates.round(1),\n",
    "        total_min_w_gtfs=df3.total_min_w_gtfs.round(1),\n",
    "    ).rename(\n",
    "        columns={\n",
    "            \"service_minutes\": \"avg_sched_trip_min\",\n",
    "            \"rt_service_min\": \"avg_rt_trip_min\",\n",
    "            \"trip_instance_key\": \"n_trips\",\n",
    "            \"route_name_used\": \"route_name\",\n",
    "            \"pings_per_min\": \"avg_pings_per_min\",\n",
    "            \"schedule_gtfs_dataset_key\": \"gtfs_dataset_key\",\n",
    "            \"total_min_w_gtfs\": \"avg_total_min_w_gtfs\",\n",
    "            \"min_w_atleast2_trip_updates\": \"avg_min_w_atleast2_trip_updates\",\n",
    "            \"speed_mph\": \"avg_speed_mph\",\n",
    "        }\n",
    "    )\n",
    "\n",
    "    org_crosswalk = schedule_rt_utils.sample_gtfs_dataset_key_to_organization_crosswalk(\n",
    "        df4,\n",
    "        analysis_date,\n",
    "        quartet_data=\"schedule\",\n",
    "        dim_gtfs_dataset_cols=[\"key\", \"base64_url\"],\n",
    "        dim_organization_cols=[\"source_record_id\", \"name\", \"caltrans_district\"],\n",
    "    )\n",
    "\n",
    "    df_with_org = pd.merge(\n",
    "        df4,\n",
    "        org_crosswalk.rename(columns={\"schedule_gtfs_dataset_key\": \"gtfs_dataset_key\"}),\n",
    "        on=\"gtfs_dataset_key\",\n",
    "        how=\"inner\",\n",
    "    )\n",
    "\n",
    "    shapes = helpers.import_scheduled_shapes(\n",
    "        analysis_date,\n",
    "        columns=[\"shape_array_key\", \"geometry\"],\n",
    "        get_pandas=True,\n",
    "        crs=geography_utils.WGS84,\n",
    "    )\n",
    "\n",
    "    df_with_shape = pd.merge(\n",
    "        shapes,\n",
    "        df_with_org,\n",
    "        on=\"shape_array_key\",  # once merged, can drop shape_array_key\n",
    "        how=\"inner\",\n",
    "    )\n",
    "    \n",
    "    # Frequency of routes\n",
    "    frequency_routes_df = load_frequency(analysis_date)\n",
    "    \n",
    "    # Merge\n",
    "    df_with_shape = pd.merge(df_with_shape, frequency_routes_df, on=[\"shape_array_key\"], how = \"left\")\n",
    "    \n",
    "    # Add some metrics\n",
    "    df_with_shape[\"avg_pct_vp_shape\"] = (\n",
    "        df_with_shape.vp_in_shape / df_with_shape.total_vp * 100\n",
    "    )\n",
    "\n",
    "    df_with_shape[\"avg_pct_rt_v_sched\"] = (\n",
    "        df_with_shape.avg_rt_trip_min / df_with_shape.avg_sched_trip_min - 1\n",
    "    ) * 100\n",
    "\n",
    "    df_with_shape[\"avg_rt_triptime_w_gtfs_pct\"] = (\n",
    "        df_with_shape.avg_total_min_w_gtfs / df_with_shape.avg_rt_trip_min\n",
    "    ) * 100\n",
    "\n",
    "    # final_df = df_with_shape.drop(columns=[\"total_vp\", \"vp_in_shape\"])\n",
    "\n",
    "    agency_cols = [\"organization_source_record_id\", \"organization_name\"]\n",
    "    route_cols = [\n",
    "        \"route_id\",\n",
    "        \"route_name\",\n",
    "        \"direction_id\",\n",
    "        \"avg_frequency\"\n",
    "    ]\n",
    "\n",
    "    col_order = (\n",
    "        agency_cols\n",
    "        + route_cols\n",
    "        + [\n",
    "            \"time_of_day\",\n",
    "            \"avg_speed_mph\",\n",
    "            \"n_trips\",\n",
    "            \"avg_sched_trip_min\",\n",
    "            \"avg_rt_trip_min\",\n",
    "            \"base64_url\",\n",
    "            \"caltrans_district\",\n",
    "            \"geometry\",\n",
    "            \"avg_pings_per_min\",\n",
    "            \"avg_pct_vp_shape\",\n",
    "            \"avg_pct_rt_v_sched\",\n",
    "            \"avg_rt_triptime_w_gtfs_pct\",\n",
    "            \"avg_min_w_atleast2_trip_updates\",\n",
    "        ]\n",
    "    )\n",
    "\n",
    "    final_df = df_with_shape.reindex(columns=col_order).rename(\n",
    "        columns={\n",
    "            \"organization_source_record_id\": \"org_id\",\n",
    "            \"organization_name\": \"agency\",\n",
    "            \"caltrans_district\": \"district_name\",\n",
    "            \"avg_frequency\": \"avg_route_frequency\"\n",
    "        }\n",
    "    )\n",
    "    \n",
    "    # Delete out returning df2 for the final function\n",
    "    return df2, final_df"
   ]
  },
  {
   "cell_type": "code",
   "execution_count": 31,
   "id": "cdbf76f5-bd0b-4e2b-8fc8-15843c7dc3b6",
   "metadata": {},
   "outputs": [
    {
     "data": {
      "text/html": [
       "<div>\n",
       "<style scoped>\n",
       "    .dataframe tbody tr th:only-of-type {\n",
       "        vertical-align: middle;\n",
       "    }\n",
       "\n",
       "    .dataframe tbody tr th {\n",
       "        vertical-align: top;\n",
       "    }\n",
       "\n",
       "    .dataframe thead th {\n",
       "        text-align: right;\n",
       "    }\n",
       "</style>\n",
       "<table border=\"1\" class=\"dataframe\">\n",
       "  <thead>\n",
       "    <tr style=\"text-align: right;\">\n",
       "      <th></th>\n",
       "      <th>trip_instance_key</th>\n",
       "      <th>rt_service_min</th>\n",
       "      <th>min_w_atleast2_trip_updates</th>\n",
       "      <th>total_pings_for_trip</th>\n",
       "      <th>total_min_w_gtfs</th>\n",
       "      <th>total_vp</th>\n",
       "      <th>vp_in_shape</th>\n",
       "      <th>speed_mph</th>\n",
       "      <th>service_minutes</th>\n",
       "      <th>pings_per_min</th>\n",
       "      <th>spatial_accuracy_pct</th>\n",
       "      <th>rt_triptime_w_gtfs_pct</th>\n",
       "      <th>rt_v_scheduled_trip_time_pct</th>\n",
       "      <th>schedule_gtfs_dataset_key</th>\n",
       "      <th>direction_id</th>\n",
       "      <th>route_id</th>\n",
       "      <th>shape_array_key</th>\n",
       "      <th>route_name_used</th>\n",
       "      <th>service_hours</th>\n",
       "      <th>trip_first_departure_datetime_pacific</th>\n",
       "      <th>time_of_day</th>\n",
       "    </tr>\n",
       "  </thead>\n",
       "  <tbody>\n",
       "    <tr>\n",
       "      <th>0</th>\n",
       "      <td>5d25a4366c173007d9c29fdead0299d7</td>\n",
       "      <td>74.03</td>\n",
       "      <td>73</td>\n",
       "      <td>216</td>\n",
       "      <td>74</td>\n",
       "      <td>216.00</td>\n",
       "      <td>148.00</td>\n",
       "      <td>21.01</td>\n",
       "      <td>58.00</td>\n",
       "      <td>2.92</td>\n",
       "      <td>68.52</td>\n",
       "      <td>99.95</td>\n",
       "      <td>27.64</td>\n",
       "      <td>63029a23cb0e73f2a5d98a345c5e2e40</td>\n",
       "      <td>1</td>\n",
       "      <td>3428</td>\n",
       "      <td>0d0ca5bc40fb6266a03f400c3aa7e6cb</td>\n",
       "      <td></td>\n",
       "      <td>0.97</td>\n",
       "      <td>2023-12-13 05:34:00</td>\n",
       "      <td>Early AM</td>\n",
       "    </tr>\n",
       "    <tr>\n",
       "      <th>1</th>\n",
       "      <td>4b72b80fc9cfe5e613bab95585cbe7e4</td>\n",
       "      <td>23.45</td>\n",
       "      <td>21</td>\n",
       "      <td>59</td>\n",
       "      <td>23</td>\n",
       "      <td>59.00</td>\n",
       "      <td>19.00</td>\n",
       "      <td>54.95</td>\n",
       "      <td>58.00</td>\n",
       "      <td>2.52</td>\n",
       "      <td>32.20</td>\n",
       "      <td>98.08</td>\n",
       "      <td>-59.57</td>\n",
       "      <td>63029a23cb0e73f2a5d98a345c5e2e40</td>\n",
       "      <td>1</td>\n",
       "      <td>3428</td>\n",
       "      <td>0d0ca5bc40fb6266a03f400c3aa7e6cb</td>\n",
       "      <td></td>\n",
       "      <td>0.97</td>\n",
       "      <td>2023-12-13 06:34:00</td>\n",
       "      <td>Early AM</td>\n",
       "    </tr>\n",
       "  </tbody>\n",
       "</table>\n",
       "</div>"
      ],
      "text/plain": [
       "                  trip_instance_key  rt_service_min  \\\n",
       "0  5d25a4366c173007d9c29fdead0299d7           74.03   \n",
       "1  4b72b80fc9cfe5e613bab95585cbe7e4           23.45   \n",
       "\n",
       "   min_w_atleast2_trip_updates  total_pings_for_trip  total_min_w_gtfs  \\\n",
       "0                           73                   216                74   \n",
       "1                           21                    59                23   \n",
       "\n",
       "   total_vp  vp_in_shape  speed_mph  service_minutes  pings_per_min  \\\n",
       "0    216.00       148.00      21.01            58.00           2.92   \n",
       "1     59.00        19.00      54.95            58.00           2.52   \n",
       "\n",
       "   spatial_accuracy_pct  rt_triptime_w_gtfs_pct  rt_v_scheduled_trip_time_pct  \\\n",
       "0                 68.52                   99.95                         27.64   \n",
       "1                 32.20                   98.08                        -59.57   \n",
       "\n",
       "          schedule_gtfs_dataset_key  direction_id route_id  \\\n",
       "0  63029a23cb0e73f2a5d98a345c5e2e40             1     3428   \n",
       "1  63029a23cb0e73f2a5d98a345c5e2e40             1     3428   \n",
       "\n",
       "                    shape_array_key route_name_used  service_hours  \\\n",
       "0  0d0ca5bc40fb6266a03f400c3aa7e6cb                           0.97   \n",
       "1  0d0ca5bc40fb6266a03f400c3aa7e6cb                           0.97   \n",
       "\n",
       "  trip_first_departure_datetime_pacific time_of_day  \n",
       "0                   2023-12-13 05:34:00    Early AM  \n",
       "1                   2023-12-13 06:34:00    Early AM  "
      ]
     },
     "execution_count": 31,
     "metadata": {},
     "output_type": "execute_result"
    }
   ],
   "source": [
    "dec_df2.head(2)"
   ]
  },
  {
   "cell_type": "code",
   "execution_count": 32,
   "id": "fea7cda5-606c-4054-b189-58a12d250957",
   "metadata": {},
   "outputs": [
    {
     "data": {
      "text/plain": [
       "pandas.core.frame.DataFrame"
      ]
     },
     "execution_count": 32,
     "metadata": {},
     "output_type": "execute_result"
    }
   ],
   "source": [
    "type(dec_df2)"
   ]
  },
  {
   "cell_type": "code",
   "execution_count": 33,
   "id": "fe97ad8a-d0ce-40cd-982b-87877882693a",
   "metadata": {},
   "outputs": [],
   "source": [
    "dec_intermediary, dec_final = average_route_speeds_for_export(\n",
    "    dec_df2, analysis_date, 70\n",
    ")"
   ]
  },
  {
   "cell_type": "code",
   "execution_count": 34,
   "id": "58165517-e414-4843-8ece-b7631d4d7f27",
   "metadata": {},
   "outputs": [
    {
     "data": {
      "text/plain": [
       "count   11397.00\n",
       "mean        2.38\n",
       "std         0.56\n",
       "min         0.10\n",
       "25%         1.90\n",
       "50%         2.50\n",
       "75%         2.90\n",
       "max         3.50\n",
       "Name: avg_pings_per_min, dtype: float64"
      ]
     },
     "execution_count": 34,
     "metadata": {},
     "output_type": "execute_result"
    }
   ],
   "source": [
    "dec_final.avg_pings_per_min.describe()"
   ]
  },
  {
   "cell_type": "code",
   "execution_count": 35,
   "id": "e99b22b7-f6c7-4d69-8b65-da3c39c85f33",
   "metadata": {},
   "outputs": [
    {
     "data": {
      "text/plain": [
       "(11397, 19)"
      ]
     },
     "execution_count": 35,
     "metadata": {},
     "output_type": "execute_result"
    }
   ],
   "source": [
    "dec_final.shape"
   ]
  },
  {
   "cell_type": "code",
   "execution_count": 36,
   "id": "49867873-4a76-49c4-8c95-0918d7468f82",
   "metadata": {},
   "outputs": [
    {
     "data": {
      "text/html": [
       "<div>\n",
       "<style scoped>\n",
       "    .dataframe tbody tr th:only-of-type {\n",
       "        vertical-align: middle;\n",
       "    }\n",
       "\n",
       "    .dataframe tbody tr th {\n",
       "        vertical-align: top;\n",
       "    }\n",
       "\n",
       "    .dataframe thead th {\n",
       "        text-align: right;\n",
       "    }\n",
       "</style>\n",
       "<table border=\"1\" class=\"dataframe\">\n",
       "  <thead>\n",
       "    <tr style=\"text-align: right;\">\n",
       "      <th></th>\n",
       "      <th>org_id</th>\n",
       "      <th>agency</th>\n",
       "      <th>route_id</th>\n",
       "      <th>route_name</th>\n",
       "      <th>direction_id</th>\n",
       "      <th>avg_route_frequency</th>\n",
       "      <th>time_of_day</th>\n",
       "      <th>avg_speed_mph</th>\n",
       "      <th>n_trips</th>\n",
       "      <th>avg_sched_trip_min</th>\n",
       "      <th>avg_rt_trip_min</th>\n",
       "      <th>district_name</th>\n",
       "      <th>avg_pings_per_min</th>\n",
       "      <th>avg_pct_vp_shape</th>\n",
       "      <th>avg_pct_rt_v_sched</th>\n",
       "      <th>avg_rt_triptime_w_gtfs_pct</th>\n",
       "      <th>avg_min_w_atleast2_trip_updates</th>\n",
       "    </tr>\n",
       "  </thead>\n",
       "  <tbody>\n",
       "    <tr>\n",
       "      <th>8314</th>\n",
       "      <td>recSiaaMmBXW7fUZS</td>\n",
       "      <td>Stanislaus Regional Transit Authority</td>\n",
       "      <td>61</td>\n",
       "      <td></td>\n",
       "      <td>0</td>\n",
       "      <td>0.65</td>\n",
       "      <td>Early AM</td>\n",
       "      <td>13.40</td>\n",
       "      <td>1</td>\n",
       "      <td>28.00</td>\n",
       "      <td>56.20</td>\n",
       "      <td>10 - Stockton</td>\n",
       "      <td>3.00</td>\n",
       "      <td>81.33</td>\n",
       "      <td>100.71</td>\n",
       "      <td>99.64</td>\n",
       "      <td>56.00</td>\n",
       "    </tr>\n",
       "    <tr>\n",
       "      <th>8785</th>\n",
       "      <td>recJcXMNC5MUm2uDe</td>\n",
       "      <td>Victor Valley Transit Authority</td>\n",
       "      <td>3226</td>\n",
       "      <td>Barstow - Hinkley - Helendale</td>\n",
       "      <td>0</td>\n",
       "      <td>0.28</td>\n",
       "      <td>AM Peak</td>\n",
       "      <td>34.30</td>\n",
       "      <td>1</td>\n",
       "      <td>78.00</td>\n",
       "      <td>96.70</td>\n",
       "      <td>08 - San Bernardino</td>\n",
       "      <td>3.00</td>\n",
       "      <td>100.00</td>\n",
       "      <td>23.97</td>\n",
       "      <td>99.28</td>\n",
       "      <td>96.00</td>\n",
       "    </tr>\n",
       "    <tr>\n",
       "      <th>2224</th>\n",
       "      <td>recOZgevYf7Jimm9L</td>\n",
       "      <td>Alameda-Contra Costa Transit District</td>\n",
       "      <td>251</td>\n",
       "      <td>Paseo Padre - Thornton - Cherry</td>\n",
       "      <td>0</td>\n",
       "      <td>0.73</td>\n",
       "      <td>PM Peak</td>\n",
       "      <td>15.90</td>\n",
       "      <td>5</td>\n",
       "      <td>26.20</td>\n",
       "      <td>36.10</td>\n",
       "      <td>04 - Oakland</td>\n",
       "      <td>2.80</td>\n",
       "      <td>100.00</td>\n",
       "      <td>37.79</td>\n",
       "      <td>100.28</td>\n",
       "      <td>35.20</td>\n",
       "    </tr>\n",
       "  </tbody>\n",
       "</table>\n",
       "</div>"
      ],
      "text/plain": [
       "                 org_id                                 agency route_id  \\\n",
       "8314  recSiaaMmBXW7fUZS  Stanislaus Regional Transit Authority       61   \n",
       "8785  recJcXMNC5MUm2uDe        Victor Valley Transit Authority     3226   \n",
       "2224  recOZgevYf7Jimm9L  Alameda-Contra Costa Transit District      251   \n",
       "\n",
       "                           route_name  direction_id  avg_route_frequency  \\\n",
       "8314                                              0                 0.65   \n",
       "8785    Barstow - Hinkley - Helendale             0                 0.28   \n",
       "2224  Paseo Padre - Thornton - Cherry             0                 0.73   \n",
       "\n",
       "     time_of_day  avg_speed_mph  n_trips  avg_sched_trip_min  avg_rt_trip_min  \\\n",
       "8314    Early AM          13.40        1               28.00            56.20   \n",
       "8785     AM Peak          34.30        1               78.00            96.70   \n",
       "2224     PM Peak          15.90        5               26.20            36.10   \n",
       "\n",
       "            district_name  avg_pings_per_min  avg_pct_vp_shape  \\\n",
       "8314        10 - Stockton               3.00             81.33   \n",
       "8785  08 - San Bernardino               3.00            100.00   \n",
       "2224         04 - Oakland               2.80            100.00   \n",
       "\n",
       "      avg_pct_rt_v_sched  avg_rt_triptime_w_gtfs_pct  \\\n",
       "8314              100.71                       99.64   \n",
       "8785               23.97                       99.28   \n",
       "2224               37.79                      100.28   \n",
       "\n",
       "      avg_min_w_atleast2_trip_updates  \n",
       "8314                            56.00  \n",
       "8785                            96.00  \n",
       "2224                            35.20  "
      ]
     },
     "execution_count": 36,
     "metadata": {},
     "output_type": "execute_result"
    }
   ],
   "source": [
    "dec_final.drop(columns=[\"geometry\", \"base64_url\"]).sample(3)"
   ]
  },
  {
   "cell_type": "markdown",
   "id": "a3acfeb1-54bf-4cee-9810-51c7e5fe0aa6",
   "metadata": {},
   "source": [
    "### Check results after aggregating up to route\n",
    "* How are the results sooo wrong with `265-13172`"
   ]
  },
  {
   "cell_type": "code",
   "execution_count": 37,
   "id": "aa2cc0c2-da7b-4ae1-9ac4-84c8d6d60e95",
   "metadata": {},
   "outputs": [],
   "source": [
    "def checkout_route(\n",
    "    og_df: pd.DataFrame,\n",
    "    route_agg: gpd.GeoDataFrame,\n",
    "    route_id: str,\n",
    "    time_of_day: str,\n",
    "    direction_id: int,\n",
    "):\n",
    "    print(\"final\")\n",
    "    display(\n",
    "        route_agg.loc[\n",
    "            (route_agg.route_id == route_id)\n",
    "            & (route_agg.time_of_day == time_of_day)\n",
    "            & (route_agg.direction_id == direction_id)\n",
    "        ].drop(columns=[\"geometry\", \"base64_url\"])\n",
    "    )\n",
    "    cols = [\n",
    "        \"trip_instance_key\",\n",
    "        \"time_of_day\",\n",
    "        \"speed_mph\",\n",
    "        \"rt_service_min\",\n",
    "        \"service_minutes\",\n",
    "        \"pings_per_min\",\n",
    "        \"total_min_w_gtfs\",\n",
    "        \"min_w_atleast2_trip_updates\",\n",
    "    ]\n",
    "\n",
    "    print(\"original\")\n",
    "    og_df2 = og_df.loc[\n",
    "        (og_df.route_id == route_id)\n",
    "        & (og_df.time_of_day == time_of_day)\n",
    "        & (og_df.direction_id == direction_id)\n",
    "    ]\n",
    "\n",
    "    print(f\"pings per min {og_df2.pings_per_min.mean()}\")\n",
    "    print(f\"speed_mph {og_df2.speed_mph.mean()}\")\n",
    "    print(f\"total_vp {og_df2.total_vp.mean()}\")\n",
    "    print(f\"vp_in_shape {og_df2.vp_in_shape.mean()}\")\n",
    "    print(f\"min w gtfs {og_df2.total_min_w_gtfs.mean()}\")\n",
    "    print(f\"min w at least 2 pings {og_df2.min_w_atleast2_trip_updates.mean()}\")\n",
    "    print(f\"avg vp in pct {og_df2.vp_in_shape.mean()/og_df2.total_vp.mean()}\")\n",
    "    display(og_df2[cols])"
   ]
  },
  {
   "cell_type": "markdown",
   "id": "c8aae146-3b5f-4189-ad0f-b011221b5442",
   "metadata": {},
   "source": [
    "#### scheduled trip min (renamed from service_mins) is completely lower."
   ]
  },
  {
   "cell_type": "code",
   "execution_count": 38,
   "id": "04ee1397-318c-4bb7-9f80-2a55b9c75055",
   "metadata": {},
   "outputs": [
    {
     "name": "stdout",
     "output_type": "stream",
     "text": [
      "final\n"
     ]
    },
    {
     "data": {
      "text/html": [
       "<div>\n",
       "<style scoped>\n",
       "    .dataframe tbody tr th:only-of-type {\n",
       "        vertical-align: middle;\n",
       "    }\n",
       "\n",
       "    .dataframe tbody tr th {\n",
       "        vertical-align: top;\n",
       "    }\n",
       "\n",
       "    .dataframe thead th {\n",
       "        text-align: right;\n",
       "    }\n",
       "</style>\n",
       "<table border=\"1\" class=\"dataframe\">\n",
       "  <thead>\n",
       "    <tr style=\"text-align: right;\">\n",
       "      <th></th>\n",
       "      <th>org_id</th>\n",
       "      <th>agency</th>\n",
       "      <th>route_id</th>\n",
       "      <th>route_name</th>\n",
       "      <th>direction_id</th>\n",
       "      <th>avg_route_frequency</th>\n",
       "      <th>time_of_day</th>\n",
       "      <th>avg_speed_mph</th>\n",
       "      <th>n_trips</th>\n",
       "      <th>avg_sched_trip_min</th>\n",
       "      <th>avg_rt_trip_min</th>\n",
       "      <th>district_name</th>\n",
       "      <th>avg_pings_per_min</th>\n",
       "      <th>avg_pct_vp_shape</th>\n",
       "      <th>avg_pct_rt_v_sched</th>\n",
       "      <th>avg_rt_triptime_w_gtfs_pct</th>\n",
       "      <th>avg_min_w_atleast2_trip_updates</th>\n",
       "    </tr>\n",
       "  </thead>\n",
       "  <tbody>\n",
       "    <tr>\n",
       "      <th>6533</th>\n",
       "      <td>recPnGkwdpnr8jmHB</td>\n",
       "      <td>Los Angeles County Metropolitan Transportation Authority</td>\n",
       "      <td>265-13172</td>\n",
       "      <td>PICO RIVERA - LAKEWOOD CTR MALL VIA PARAMOUNT BL</td>\n",
       "      <td>0</td>\n",
       "      <td>0.83</td>\n",
       "      <td>Early AM</td>\n",
       "      <td>6.90</td>\n",
       "      <td>2</td>\n",
       "      <td>59.00</td>\n",
       "      <td>99.60</td>\n",
       "      <td>07 - Los Angeles</td>\n",
       "      <td>2.70</td>\n",
       "      <td>70.09</td>\n",
       "      <td>68.81</td>\n",
       "      <td>99.90</td>\n",
       "      <td>92.00</td>\n",
       "    </tr>\n",
       "  </tbody>\n",
       "</table>\n",
       "</div>"
      ],
      "text/plain": [
       "                 org_id  \\\n",
       "6533  recPnGkwdpnr8jmHB   \n",
       "\n",
       "                                                        agency   route_id  \\\n",
       "6533  Los Angeles County Metropolitan Transportation Authority  265-13172   \n",
       "\n",
       "                                            route_name  direction_id  \\\n",
       "6533  PICO RIVERA - LAKEWOOD CTR MALL VIA PARAMOUNT BL             0   \n",
       "\n",
       "      avg_route_frequency time_of_day  avg_speed_mph  n_trips  \\\n",
       "6533                 0.83    Early AM           6.90        2   \n",
       "\n",
       "      avg_sched_trip_min  avg_rt_trip_min     district_name  \\\n",
       "6533               59.00            99.60  07 - Los Angeles   \n",
       "\n",
       "      avg_pings_per_min  avg_pct_vp_shape  avg_pct_rt_v_sched  \\\n",
       "6533               2.70             70.09               68.81   \n",
       "\n",
       "      avg_rt_triptime_w_gtfs_pct  avg_min_w_atleast2_trip_updates  \n",
       "6533                       99.90                            92.00  "
      ]
     },
     "metadata": {},
     "output_type": "display_data"
    },
    {
     "name": "stdout",
     "output_type": "stream",
     "text": [
      "original\n",
      "pings per min 2.6849179704528776\n",
      "speed_mph 6.887376703252869\n",
      "total_vp 267.5\n",
      "vp_in_shape 187.5\n",
      "min w gtfs 99.5\n",
      "min w at least 2 pings 92.0\n",
      "avg vp in pct 0.7009345794392523\n"
     ]
    },
    {
     "data": {
      "text/html": [
       "<div>\n",
       "<style scoped>\n",
       "    .dataframe tbody tr th:only-of-type {\n",
       "        vertical-align: middle;\n",
       "    }\n",
       "\n",
       "    .dataframe tbody tr th {\n",
       "        vertical-align: top;\n",
       "    }\n",
       "\n",
       "    .dataframe thead th {\n",
       "        text-align: right;\n",
       "    }\n",
       "</style>\n",
       "<table border=\"1\" class=\"dataframe\">\n",
       "  <thead>\n",
       "    <tr style=\"text-align: right;\">\n",
       "      <th></th>\n",
       "      <th>trip_instance_key</th>\n",
       "      <th>time_of_day</th>\n",
       "      <th>speed_mph</th>\n",
       "      <th>rt_service_min</th>\n",
       "      <th>service_minutes</th>\n",
       "      <th>pings_per_min</th>\n",
       "      <th>total_min_w_gtfs</th>\n",
       "      <th>min_w_atleast2_trip_updates</th>\n",
       "    </tr>\n",
       "  </thead>\n",
       "  <tbody>\n",
       "    <tr>\n",
       "      <th>24866</th>\n",
       "      <td>48a01217589c2faa46db395d6cf8317d</td>\n",
       "      <td>Early AM</td>\n",
       "      <td>9.40</td>\n",
       "      <td>95.02</td>\n",
       "      <td>58.00</td>\n",
       "      <td>2.65</td>\n",
       "      <td>95</td>\n",
       "      <td>87</td>\n",
       "    </tr>\n",
       "    <tr>\n",
       "      <th>24867</th>\n",
       "      <td>70674803a1c4416fc49f883bc3b2c18b</td>\n",
       "      <td>Early AM</td>\n",
       "      <td>4.38</td>\n",
       "      <td>104.13</td>\n",
       "      <td>60.00</td>\n",
       "      <td>2.72</td>\n",
       "      <td>104</td>\n",
       "      <td>97</td>\n",
       "    </tr>\n",
       "  </tbody>\n",
       "</table>\n",
       "</div>"
      ],
      "text/plain": [
       "                      trip_instance_key time_of_day  speed_mph  \\\n",
       "24866  48a01217589c2faa46db395d6cf8317d    Early AM       9.40   \n",
       "24867  70674803a1c4416fc49f883bc3b2c18b    Early AM       4.38   \n",
       "\n",
       "       rt_service_min  service_minutes  pings_per_min  total_min_w_gtfs  \\\n",
       "24866           95.02            58.00           2.65                95   \n",
       "24867          104.13            60.00           2.72               104   \n",
       "\n",
       "       min_w_atleast2_trip_updates  \n",
       "24866                           87  \n",
       "24867                           97  "
      ]
     },
     "metadata": {},
     "output_type": "display_data"
    }
   ],
   "source": [
    "route_265 = checkout_route(dec_intermediary, dec_final, \"265-13172\", \"Early AM\", 0)"
   ]
  },
  {
   "cell_type": "code",
   "execution_count": 39,
   "id": "7b878898-29f6-4b86-bbfd-a586682df078",
   "metadata": {},
   "outputs": [
    {
     "data": {
      "text/plain": [
       "0.7009345794392523"
      ]
     },
     "execution_count": 39,
     "metadata": {},
     "output_type": "execute_result"
    }
   ],
   "source": [
    "187.5 / 267.5"
   ]
  },
  {
   "cell_type": "code",
   "execution_count": 40,
   "id": "a3c23900-fdaa-476c-a490-dbc703df0c28",
   "metadata": {},
   "outputs": [
    {
     "name": "stdout",
     "output_type": "stream",
     "text": [
      "final\n"
     ]
    },
    {
     "data": {
      "text/html": [
       "<div>\n",
       "<style scoped>\n",
       "    .dataframe tbody tr th:only-of-type {\n",
       "        vertical-align: middle;\n",
       "    }\n",
       "\n",
       "    .dataframe tbody tr th {\n",
       "        vertical-align: top;\n",
       "    }\n",
       "\n",
       "    .dataframe thead th {\n",
       "        text-align: right;\n",
       "    }\n",
       "</style>\n",
       "<table border=\"1\" class=\"dataframe\">\n",
       "  <thead>\n",
       "    <tr style=\"text-align: right;\">\n",
       "      <th></th>\n",
       "      <th>org_id</th>\n",
       "      <th>agency</th>\n",
       "      <th>route_id</th>\n",
       "      <th>route_name</th>\n",
       "      <th>direction_id</th>\n",
       "      <th>avg_route_frequency</th>\n",
       "      <th>time_of_day</th>\n",
       "      <th>avg_speed_mph</th>\n",
       "      <th>n_trips</th>\n",
       "      <th>avg_sched_trip_min</th>\n",
       "      <th>avg_rt_trip_min</th>\n",
       "      <th>district_name</th>\n",
       "      <th>avg_pings_per_min</th>\n",
       "      <th>avg_pct_vp_shape</th>\n",
       "      <th>avg_pct_rt_v_sched</th>\n",
       "      <th>avg_rt_triptime_w_gtfs_pct</th>\n",
       "      <th>avg_min_w_atleast2_trip_updates</th>\n",
       "    </tr>\n",
       "  </thead>\n",
       "  <tbody>\n",
       "    <tr>\n",
       "      <th>9012</th>\n",
       "      <td>rechaapWbeffO33OX</td>\n",
       "      <td>City and County of San Francisco</td>\n",
       "      <td>38R</td>\n",
       "      <td>Weekdays 5am-10pm Weekends 6am-9pm</td>\n",
       "      <td>1</td>\n",
       "      <td>7.02</td>\n",
       "      <td>AM Peak</td>\n",
       "      <td>6.70</td>\n",
       "      <td>30</td>\n",
       "      <td>43.90</td>\n",
       "      <td>58.90</td>\n",
       "      <td>04 - Oakland</td>\n",
       "      <td>3.00</td>\n",
       "      <td>88.33</td>\n",
       "      <td>34.17</td>\n",
       "      <td>100.17</td>\n",
       "      <td>58.30</td>\n",
       "    </tr>\n",
       "  </tbody>\n",
       "</table>\n",
       "</div>"
      ],
      "text/plain": [
       "                 org_id                            agency route_id  \\\n",
       "9012  rechaapWbeffO33OX  City and County of San Francisco      38R   \n",
       "\n",
       "                              route_name  direction_id  avg_route_frequency  \\\n",
       "9012  Weekdays 5am-10pm Weekends 6am-9pm             1                 7.02   \n",
       "\n",
       "     time_of_day  avg_speed_mph  n_trips  avg_sched_trip_min  avg_rt_trip_min  \\\n",
       "9012     AM Peak           6.70       30               43.90            58.90   \n",
       "\n",
       "     district_name  avg_pings_per_min  avg_pct_vp_shape  avg_pct_rt_v_sched  \\\n",
       "9012  04 - Oakland               3.00             88.33               34.17   \n",
       "\n",
       "      avg_rt_triptime_w_gtfs_pct  avg_min_w_atleast2_trip_updates  \n",
       "9012                      100.17                            58.30  "
      ]
     },
     "metadata": {},
     "output_type": "display_data"
    },
    {
     "name": "stdout",
     "output_type": "stream",
     "text": [
      "original\n",
      "pings per min 2.961175851535439\n",
      "speed_mph 6.682525584870673\n",
      "total_vp 174.56666666666666\n",
      "vp_in_shape 154.2\n",
      "min w gtfs 58.96666666666667\n",
      "min w at least 2 pings 58.3\n",
      "avg vp in pct 0.8833301508497231\n"
     ]
    },
    {
     "data": {
      "text/html": [
       "<div>\n",
       "<style scoped>\n",
       "    .dataframe tbody tr th:only-of-type {\n",
       "        vertical-align: middle;\n",
       "    }\n",
       "\n",
       "    .dataframe tbody tr th {\n",
       "        vertical-align: top;\n",
       "    }\n",
       "\n",
       "    .dataframe thead th {\n",
       "        text-align: right;\n",
       "    }\n",
       "</style>\n",
       "<table border=\"1\" class=\"dataframe\">\n",
       "  <thead>\n",
       "    <tr style=\"text-align: right;\">\n",
       "      <th></th>\n",
       "      <th>trip_instance_key</th>\n",
       "      <th>time_of_day</th>\n",
       "      <th>speed_mph</th>\n",
       "      <th>rt_service_min</th>\n",
       "      <th>service_minutes</th>\n",
       "      <th>pings_per_min</th>\n",
       "      <th>total_min_w_gtfs</th>\n",
       "      <th>min_w_atleast2_trip_updates</th>\n",
       "    </tr>\n",
       "  </thead>\n",
       "  <tbody>\n",
       "    <tr>\n",
       "      <th>61610</th>\n",
       "      <td>76fa3ed3fd8ef28a446eedb4c1e94e6a</td>\n",
       "      <td>AM Peak</td>\n",
       "      <td>9.39</td>\n",
       "      <td>48.82</td>\n",
       "      <td>39.00</td>\n",
       "      <td>2.97</td>\n",
       "      <td>49</td>\n",
       "      <td>49</td>\n",
       "    </tr>\n",
       "    <tr>\n",
       "      <th>61611</th>\n",
       "      <td>47d8da2afbc3e4c78f9be4c6c53a7776</td>\n",
       "      <td>AM Peak</td>\n",
       "      <td>10.00</td>\n",
       "      <td>49.38</td>\n",
       "      <td>39.00</td>\n",
       "      <td>2.96</td>\n",
       "      <td>50</td>\n",
       "      <td>49</td>\n",
       "    </tr>\n",
       "    <tr>\n",
       "      <th>61612</th>\n",
       "      <td>40590ba21f73ae1775a4538e34e67cc3</td>\n",
       "      <td>AM Peak</td>\n",
       "      <td>5.34</td>\n",
       "      <td>97.67</td>\n",
       "      <td>41.00</td>\n",
       "      <td>2.98</td>\n",
       "      <td>98</td>\n",
       "      <td>97</td>\n",
       "    </tr>\n",
       "    <tr>\n",
       "      <th>61613</th>\n",
       "      <td>aa1b90f05357a29abc97fae90cd5bafe</td>\n",
       "      <td>AM Peak</td>\n",
       "      <td>9.73</td>\n",
       "      <td>49.45</td>\n",
       "      <td>41.00</td>\n",
       "      <td>2.95</td>\n",
       "      <td>49</td>\n",
       "      <td>49</td>\n",
       "    </tr>\n",
       "    <tr>\n",
       "      <th>61614</th>\n",
       "      <td>4d7cb7ddea2191f062c1ea3165df67c8</td>\n",
       "      <td>AM Peak</td>\n",
       "      <td>8.58</td>\n",
       "      <td>57.95</td>\n",
       "      <td>41.00</td>\n",
       "      <td>2.97</td>\n",
       "      <td>58</td>\n",
       "      <td>58</td>\n",
       "    </tr>\n",
       "    <tr>\n",
       "      <th>61615</th>\n",
       "      <td>d4e16623b6cf749d8e389b905ab44089</td>\n",
       "      <td>AM Peak</td>\n",
       "      <td>4.49</td>\n",
       "      <td>93.43</td>\n",
       "      <td>42.00</td>\n",
       "      <td>2.99</td>\n",
       "      <td>94</td>\n",
       "      <td>93</td>\n",
       "    </tr>\n",
       "    <tr>\n",
       "      <th>61616</th>\n",
       "      <td>ac9822b2d06b84790c10b7cbbf694410</td>\n",
       "      <td>AM Peak</td>\n",
       "      <td>7.10</td>\n",
       "      <td>67.83</td>\n",
       "      <td>42.00</td>\n",
       "      <td>2.96</td>\n",
       "      <td>68</td>\n",
       "      <td>67</td>\n",
       "    </tr>\n",
       "    <tr>\n",
       "      <th>61617</th>\n",
       "      <td>092c4f20368b13bc5c92fda4fb16bd93</td>\n",
       "      <td>AM Peak</td>\n",
       "      <td>3.77</td>\n",
       "      <td>54.93</td>\n",
       "      <td>43.00</td>\n",
       "      <td>2.97</td>\n",
       "      <td>55</td>\n",
       "      <td>54</td>\n",
       "    </tr>\n",
       "    <tr>\n",
       "      <th>61618</th>\n",
       "      <td>88cf8d5d7cd5d0c74a9b78d5e62fd8a3</td>\n",
       "      <td>AM Peak</td>\n",
       "      <td>7.06</td>\n",
       "      <td>52.62</td>\n",
       "      <td>43.00</td>\n",
       "      <td>2.96</td>\n",
       "      <td>52</td>\n",
       "      <td>52</td>\n",
       "    </tr>\n",
       "    <tr>\n",
       "      <th>61619</th>\n",
       "      <td>2845f0ae70ae06c3618d58fa99a1cdde</td>\n",
       "      <td>AM Peak</td>\n",
       "      <td>8.57</td>\n",
       "      <td>51.58</td>\n",
       "      <td>43.00</td>\n",
       "      <td>2.97</td>\n",
       "      <td>52</td>\n",
       "      <td>51</td>\n",
       "    </tr>\n",
       "    <tr>\n",
       "      <th>61620</th>\n",
       "      <td>118feb9aedabd1b9bb354ce493c07735</td>\n",
       "      <td>AM Peak</td>\n",
       "      <td>5.07</td>\n",
       "      <td>41.27</td>\n",
       "      <td>44.00</td>\n",
       "      <td>2.96</td>\n",
       "      <td>41</td>\n",
       "      <td>41</td>\n",
       "    </tr>\n",
       "    <tr>\n",
       "      <th>61621</th>\n",
       "      <td>adea377ad6e2ee6fb01e515724547b17</td>\n",
       "      <td>AM Peak</td>\n",
       "      <td>8.72</td>\n",
       "      <td>56.75</td>\n",
       "      <td>44.00</td>\n",
       "      <td>2.96</td>\n",
       "      <td>57</td>\n",
       "      <td>57</td>\n",
       "    </tr>\n",
       "    <tr>\n",
       "      <th>61622</th>\n",
       "      <td>08797b2f64712704fd8fff8e3c3d1dc2</td>\n",
       "      <td>AM Peak</td>\n",
       "      <td>8.72</td>\n",
       "      <td>52.38</td>\n",
       "      <td>45.00</td>\n",
       "      <td>2.96</td>\n",
       "      <td>52</td>\n",
       "      <td>52</td>\n",
       "    </tr>\n",
       "    <tr>\n",
       "      <th>61623</th>\n",
       "      <td>6366ccc0f17673ccd753214d9cb433ed</td>\n",
       "      <td>AM Peak</td>\n",
       "      <td>8.61</td>\n",
       "      <td>84.38</td>\n",
       "      <td>45.00</td>\n",
       "      <td>2.97</td>\n",
       "      <td>84</td>\n",
       "      <td>84</td>\n",
       "    </tr>\n",
       "    <tr>\n",
       "      <th>61624</th>\n",
       "      <td>bda28536257ad187c4469c6f188635a6</td>\n",
       "      <td>AM Peak</td>\n",
       "      <td>4.12</td>\n",
       "      <td>49.57</td>\n",
       "      <td>45.00</td>\n",
       "      <td>2.97</td>\n",
       "      <td>50</td>\n",
       "      <td>49</td>\n",
       "    </tr>\n",
       "    <tr>\n",
       "      <th>61625</th>\n",
       "      <td>585d84b16b4a418da661644e3a2314d1</td>\n",
       "      <td>AM Peak</td>\n",
       "      <td>8.28</td>\n",
       "      <td>70.50</td>\n",
       "      <td>45.00</td>\n",
       "      <td>2.98</td>\n",
       "      <td>71</td>\n",
       "      <td>70</td>\n",
       "    </tr>\n",
       "    <tr>\n",
       "      <th>61626</th>\n",
       "      <td>6789beb9af8dcb7d8b76afd9cce184a4</td>\n",
       "      <td>AM Peak</td>\n",
       "      <td>8.91</td>\n",
       "      <td>47.77</td>\n",
       "      <td>45.00</td>\n",
       "      <td>2.97</td>\n",
       "      <td>48</td>\n",
       "      <td>47</td>\n",
       "    </tr>\n",
       "    <tr>\n",
       "      <th>61627</th>\n",
       "      <td>f36bb7386e5681abb33b97cf5c69b9db</td>\n",
       "      <td>AM Peak</td>\n",
       "      <td>8.81</td>\n",
       "      <td>55.53</td>\n",
       "      <td>45.00</td>\n",
       "      <td>2.97</td>\n",
       "      <td>56</td>\n",
       "      <td>55</td>\n",
       "    </tr>\n",
       "    <tr>\n",
       "      <th>61628</th>\n",
       "      <td>d2a71fa9b476e583315b6f203ccf8c67</td>\n",
       "      <td>AM Peak</td>\n",
       "      <td>3.39</td>\n",
       "      <td>59.95</td>\n",
       "      <td>45.00</td>\n",
       "      <td>2.97</td>\n",
       "      <td>59</td>\n",
       "      <td>59</td>\n",
       "    </tr>\n",
       "    <tr>\n",
       "      <th>61629</th>\n",
       "      <td>82d0a21cfae4aa608861e3bb0172110c</td>\n",
       "      <td>AM Peak</td>\n",
       "      <td>7.36</td>\n",
       "      <td>54.80</td>\n",
       "      <td>45.00</td>\n",
       "      <td>2.81</td>\n",
       "      <td>52</td>\n",
       "      <td>52</td>\n",
       "    </tr>\n",
       "    <tr>\n",
       "      <th>61630</th>\n",
       "      <td>18792d0d435c7d031ea66115a3e985ee</td>\n",
       "      <td>AM Peak</td>\n",
       "      <td>4.51</td>\n",
       "      <td>45.50</td>\n",
       "      <td>45.00</td>\n",
       "      <td>2.97</td>\n",
       "      <td>46</td>\n",
       "      <td>45</td>\n",
       "    </tr>\n",
       "    <tr>\n",
       "      <th>61631</th>\n",
       "      <td>401e0c1fed455778f28834b60b66a4ff</td>\n",
       "      <td>AM Peak</td>\n",
       "      <td>3.23</td>\n",
       "      <td>63.07</td>\n",
       "      <td>45.00</td>\n",
       "      <td>2.97</td>\n",
       "      <td>63</td>\n",
       "      <td>63</td>\n",
       "    </tr>\n",
       "    <tr>\n",
       "      <th>61632</th>\n",
       "      <td>abb36fd3b7d6d95dccf23ed5709bce69</td>\n",
       "      <td>AM Peak</td>\n",
       "      <td>8.41</td>\n",
       "      <td>47.82</td>\n",
       "      <td>46.00</td>\n",
       "      <td>2.97</td>\n",
       "      <td>48</td>\n",
       "      <td>47</td>\n",
       "    </tr>\n",
       "    <tr>\n",
       "      <th>61633</th>\n",
       "      <td>743153cc91ad7ce0ff294a451347d87e</td>\n",
       "      <td>AM Peak</td>\n",
       "      <td>9.01</td>\n",
       "      <td>48.32</td>\n",
       "      <td>46.00</td>\n",
       "      <td>2.96</td>\n",
       "      <td>49</td>\n",
       "      <td>47</td>\n",
       "    </tr>\n",
       "    <tr>\n",
       "      <th>61634</th>\n",
       "      <td>addecf9d30d8193bae40b35b00ced394</td>\n",
       "      <td>AM Peak</td>\n",
       "      <td>3.39</td>\n",
       "      <td>59.93</td>\n",
       "      <td>47.00</td>\n",
       "      <td>2.97</td>\n",
       "      <td>60</td>\n",
       "      <td>60</td>\n",
       "    </tr>\n",
       "    <tr>\n",
       "      <th>61635</th>\n",
       "      <td>a95f1835bc54bdf7cf77b5bac056e103</td>\n",
       "      <td>AM Peak</td>\n",
       "      <td>3.60</td>\n",
       "      <td>56.57</td>\n",
       "      <td>47.00</td>\n",
       "      <td>2.97</td>\n",
       "      <td>57</td>\n",
       "      <td>56</td>\n",
       "    </tr>\n",
       "    <tr>\n",
       "      <th>61636</th>\n",
       "      <td>7dec1b76c7e8e141e19ecc2b780b202c</td>\n",
       "      <td>AM Peak</td>\n",
       "      <td>8.61</td>\n",
       "      <td>52.43</td>\n",
       "      <td>47.00</td>\n",
       "      <td>2.96</td>\n",
       "      <td>53</td>\n",
       "      <td>51</td>\n",
       "    </tr>\n",
       "    <tr>\n",
       "      <th>61637</th>\n",
       "      <td>02efbb740cfeced30c8fd237ab981723</td>\n",
       "      <td>AM Peak</td>\n",
       "      <td>4.29</td>\n",
       "      <td>47.77</td>\n",
       "      <td>47.00</td>\n",
       "      <td>2.95</td>\n",
       "      <td>48</td>\n",
       "      <td>47</td>\n",
       "    </tr>\n",
       "    <tr>\n",
       "      <th>61638</th>\n",
       "      <td>ff8e7fa939ecb40d43443bc1777eea65</td>\n",
       "      <td>AM Peak</td>\n",
       "      <td>3.37</td>\n",
       "      <td>59.90</td>\n",
       "      <td>47.00</td>\n",
       "      <td>2.95</td>\n",
       "      <td>60</td>\n",
       "      <td>59</td>\n",
       "    </tr>\n",
       "    <tr>\n",
       "      <th>66858</th>\n",
       "      <td>6058e1a8b5072b0ab2a6a6275aa125e7</td>\n",
       "      <td>AM Peak</td>\n",
       "      <td>6.07</td>\n",
       "      <td>89.63</td>\n",
       "      <td>39.00</td>\n",
       "      <td>2.98</td>\n",
       "      <td>90</td>\n",
       "      <td>89</td>\n",
       "    </tr>\n",
       "  </tbody>\n",
       "</table>\n",
       "</div>"
      ],
      "text/plain": [
       "                      trip_instance_key time_of_day  speed_mph  \\\n",
       "61610  76fa3ed3fd8ef28a446eedb4c1e94e6a     AM Peak       9.39   \n",
       "61611  47d8da2afbc3e4c78f9be4c6c53a7776     AM Peak      10.00   \n",
       "61612  40590ba21f73ae1775a4538e34e67cc3     AM Peak       5.34   \n",
       "61613  aa1b90f05357a29abc97fae90cd5bafe     AM Peak       9.73   \n",
       "61614  4d7cb7ddea2191f062c1ea3165df67c8     AM Peak       8.58   \n",
       "61615  d4e16623b6cf749d8e389b905ab44089     AM Peak       4.49   \n",
       "61616  ac9822b2d06b84790c10b7cbbf694410     AM Peak       7.10   \n",
       "61617  092c4f20368b13bc5c92fda4fb16bd93     AM Peak       3.77   \n",
       "61618  88cf8d5d7cd5d0c74a9b78d5e62fd8a3     AM Peak       7.06   \n",
       "61619  2845f0ae70ae06c3618d58fa99a1cdde     AM Peak       8.57   \n",
       "61620  118feb9aedabd1b9bb354ce493c07735     AM Peak       5.07   \n",
       "61621  adea377ad6e2ee6fb01e515724547b17     AM Peak       8.72   \n",
       "61622  08797b2f64712704fd8fff8e3c3d1dc2     AM Peak       8.72   \n",
       "61623  6366ccc0f17673ccd753214d9cb433ed     AM Peak       8.61   \n",
       "61624  bda28536257ad187c4469c6f188635a6     AM Peak       4.12   \n",
       "61625  585d84b16b4a418da661644e3a2314d1     AM Peak       8.28   \n",
       "61626  6789beb9af8dcb7d8b76afd9cce184a4     AM Peak       8.91   \n",
       "61627  f36bb7386e5681abb33b97cf5c69b9db     AM Peak       8.81   \n",
       "61628  d2a71fa9b476e583315b6f203ccf8c67     AM Peak       3.39   \n",
       "61629  82d0a21cfae4aa608861e3bb0172110c     AM Peak       7.36   \n",
       "61630  18792d0d435c7d031ea66115a3e985ee     AM Peak       4.51   \n",
       "61631  401e0c1fed455778f28834b60b66a4ff     AM Peak       3.23   \n",
       "61632  abb36fd3b7d6d95dccf23ed5709bce69     AM Peak       8.41   \n",
       "61633  743153cc91ad7ce0ff294a451347d87e     AM Peak       9.01   \n",
       "61634  addecf9d30d8193bae40b35b00ced394     AM Peak       3.39   \n",
       "61635  a95f1835bc54bdf7cf77b5bac056e103     AM Peak       3.60   \n",
       "61636  7dec1b76c7e8e141e19ecc2b780b202c     AM Peak       8.61   \n",
       "61637  02efbb740cfeced30c8fd237ab981723     AM Peak       4.29   \n",
       "61638  ff8e7fa939ecb40d43443bc1777eea65     AM Peak       3.37   \n",
       "66858  6058e1a8b5072b0ab2a6a6275aa125e7     AM Peak       6.07   \n",
       "\n",
       "       rt_service_min  service_minutes  pings_per_min  total_min_w_gtfs  \\\n",
       "61610           48.82            39.00           2.97                49   \n",
       "61611           49.38            39.00           2.96                50   \n",
       "61612           97.67            41.00           2.98                98   \n",
       "61613           49.45            41.00           2.95                49   \n",
       "61614           57.95            41.00           2.97                58   \n",
       "61615           93.43            42.00           2.99                94   \n",
       "61616           67.83            42.00           2.96                68   \n",
       "61617           54.93            43.00           2.97                55   \n",
       "61618           52.62            43.00           2.96                52   \n",
       "61619           51.58            43.00           2.97                52   \n",
       "61620           41.27            44.00           2.96                41   \n",
       "61621           56.75            44.00           2.96                57   \n",
       "61622           52.38            45.00           2.96                52   \n",
       "61623           84.38            45.00           2.97                84   \n",
       "61624           49.57            45.00           2.97                50   \n",
       "61625           70.50            45.00           2.98                71   \n",
       "61626           47.77            45.00           2.97                48   \n",
       "61627           55.53            45.00           2.97                56   \n",
       "61628           59.95            45.00           2.97                59   \n",
       "61629           54.80            45.00           2.81                52   \n",
       "61630           45.50            45.00           2.97                46   \n",
       "61631           63.07            45.00           2.97                63   \n",
       "61632           47.82            46.00           2.97                48   \n",
       "61633           48.32            46.00           2.96                49   \n",
       "61634           59.93            47.00           2.97                60   \n",
       "61635           56.57            47.00           2.97                57   \n",
       "61636           52.43            47.00           2.96                53   \n",
       "61637           47.77            47.00           2.95                48   \n",
       "61638           59.90            47.00           2.95                60   \n",
       "66858           89.63            39.00           2.98                90   \n",
       "\n",
       "       min_w_atleast2_trip_updates  \n",
       "61610                           49  \n",
       "61611                           49  \n",
       "61612                           97  \n",
       "61613                           49  \n",
       "61614                           58  \n",
       "61615                           93  \n",
       "61616                           67  \n",
       "61617                           54  \n",
       "61618                           52  \n",
       "61619                           51  \n",
       "61620                           41  \n",
       "61621                           57  \n",
       "61622                           52  \n",
       "61623                           84  \n",
       "61624                           49  \n",
       "61625                           70  \n",
       "61626                           47  \n",
       "61627                           55  \n",
       "61628                           59  \n",
       "61629                           52  \n",
       "61630                           45  \n",
       "61631                           63  \n",
       "61632                           47  \n",
       "61633                           47  \n",
       "61634                           60  \n",
       "61635                           56  \n",
       "61636                           51  \n",
       "61637                           47  \n",
       "61638                           59  \n",
       "66858                           89  "
      ]
     },
     "metadata": {},
     "output_type": "display_data"
    }
   ],
   "source": [
    "checkout_route(dec_intermediary, dec_final, \"38R\", \"AM Peak\", 1)"
   ]
  },
  {
   "cell_type": "code",
   "execution_count": 41,
   "id": "8168d872-49c3-44c2-bdc7-fa499124c5af",
   "metadata": {},
   "outputs": [
    {
     "name": "stdout",
     "output_type": "stream",
     "text": [
      "final\n"
     ]
    },
    {
     "data": {
      "text/html": [
       "<div>\n",
       "<style scoped>\n",
       "    .dataframe tbody tr th:only-of-type {\n",
       "        vertical-align: middle;\n",
       "    }\n",
       "\n",
       "    .dataframe tbody tr th {\n",
       "        vertical-align: top;\n",
       "    }\n",
       "\n",
       "    .dataframe thead th {\n",
       "        text-align: right;\n",
       "    }\n",
       "</style>\n",
       "<table border=\"1\" class=\"dataframe\">\n",
       "  <thead>\n",
       "    <tr style=\"text-align: right;\">\n",
       "      <th></th>\n",
       "      <th>org_id</th>\n",
       "      <th>agency</th>\n",
       "      <th>route_id</th>\n",
       "      <th>route_name</th>\n",
       "      <th>direction_id</th>\n",
       "      <th>avg_route_frequency</th>\n",
       "      <th>time_of_day</th>\n",
       "      <th>avg_speed_mph</th>\n",
       "      <th>n_trips</th>\n",
       "      <th>avg_sched_trip_min</th>\n",
       "      <th>avg_rt_trip_min</th>\n",
       "      <th>district_name</th>\n",
       "      <th>avg_pings_per_min</th>\n",
       "      <th>avg_pct_vp_shape</th>\n",
       "      <th>avg_pct_rt_v_sched</th>\n",
       "      <th>avg_rt_triptime_w_gtfs_pct</th>\n",
       "      <th>avg_min_w_atleast2_trip_updates</th>\n",
       "    </tr>\n",
       "  </thead>\n",
       "  <tbody>\n",
       "    <tr>\n",
       "      <th>5973</th>\n",
       "      <td>recIKnsnTdKQ0vsiv</td>\n",
       "      <td>Western Contra Costa Transit Authority</td>\n",
       "      <td>Lynx</td>\n",
       "      <td>Rodeo/Hercules/San Francisco Transbay Terminal</td>\n",
       "      <td>1</td>\n",
       "      <td>NaN</td>\n",
       "      <td>AM Peak</td>\n",
       "      <td>13.40</td>\n",
       "      <td>6</td>\n",
       "      <td>50.00</td>\n",
       "      <td>60.70</td>\n",
       "      <td>04 - Oakland</td>\n",
       "      <td>2.80</td>\n",
       "      <td>NaN</td>\n",
       "      <td>21.40</td>\n",
       "      <td>98.02</td>\n",
       "      <td>57.70</td>\n",
       "    </tr>\n",
       "  </tbody>\n",
       "</table>\n",
       "</div>"
      ],
      "text/plain": [
       "                 org_id                                  agency route_id  \\\n",
       "5973  recIKnsnTdKQ0vsiv  Western Contra Costa Transit Authority     Lynx   \n",
       "\n",
       "                                          route_name  direction_id  \\\n",
       "5973  Rodeo/Hercules/San Francisco Transbay Terminal             1   \n",
       "\n",
       "      avg_route_frequency time_of_day  avg_speed_mph  n_trips  \\\n",
       "5973                  NaN     AM Peak          13.40        6   \n",
       "\n",
       "      avg_sched_trip_min  avg_rt_trip_min district_name  avg_pings_per_min  \\\n",
       "5973               50.00            60.70  04 - Oakland               2.80   \n",
       "\n",
       "      avg_pct_vp_shape  avg_pct_rt_v_sched  avg_rt_triptime_w_gtfs_pct  \\\n",
       "5973               NaN               21.40                       98.02   \n",
       "\n",
       "      avg_min_w_atleast2_trip_updates  \n",
       "5973                            57.70  "
      ]
     },
     "metadata": {},
     "output_type": "display_data"
    },
    {
     "name": "stdout",
     "output_type": "stream",
     "text": [
      "original\n",
      "pings per min 2.8253065827801014\n",
      "speed_mph 13.403813542450534\n",
      "total_vp nan\n",
      "vp_in_shape nan\n",
      "min w gtfs 59.5\n",
      "min w at least 2 pings 57.666666666666664\n",
      "avg vp in pct nan\n"
     ]
    },
    {
     "data": {
      "text/html": [
       "<div>\n",
       "<style scoped>\n",
       "    .dataframe tbody tr th:only-of-type {\n",
       "        vertical-align: middle;\n",
       "    }\n",
       "\n",
       "    .dataframe tbody tr th {\n",
       "        vertical-align: top;\n",
       "    }\n",
       "\n",
       "    .dataframe thead th {\n",
       "        text-align: right;\n",
       "    }\n",
       "</style>\n",
       "<table border=\"1\" class=\"dataframe\">\n",
       "  <thead>\n",
       "    <tr style=\"text-align: right;\">\n",
       "      <th></th>\n",
       "      <th>trip_instance_key</th>\n",
       "      <th>time_of_day</th>\n",
       "      <th>speed_mph</th>\n",
       "      <th>rt_service_min</th>\n",
       "      <th>service_minutes</th>\n",
       "      <th>pings_per_min</th>\n",
       "      <th>total_min_w_gtfs</th>\n",
       "      <th>min_w_atleast2_trip_updates</th>\n",
       "    </tr>\n",
       "  </thead>\n",
       "  <tbody>\n",
       "    <tr>\n",
       "      <th>12987</th>\n",
       "      <td>14c9fc6b379e1fe869ba37bfd79a8245</td>\n",
       "      <td>AM Peak</td>\n",
       "      <td>13.31</td>\n",
       "      <td>61.40</td>\n",
       "      <td>50.00</td>\n",
       "      <td>2.72</td>\n",
       "      <td>57</td>\n",
       "      <td>56</td>\n",
       "    </tr>\n",
       "    <tr>\n",
       "      <th>12990</th>\n",
       "      <td>2ee02fe17c9acad17ccb44eaaea4debe</td>\n",
       "      <td>AM Peak</td>\n",
       "      <td>12.69</td>\n",
       "      <td>63.18</td>\n",
       "      <td>50.00</td>\n",
       "      <td>2.90</td>\n",
       "      <td>63</td>\n",
       "      <td>62</td>\n",
       "    </tr>\n",
       "    <tr>\n",
       "      <th>12991</th>\n",
       "      <td>78a402dfe7d89e0b919a193ac59c69ae</td>\n",
       "      <td>AM Peak</td>\n",
       "      <td>12.61</td>\n",
       "      <td>63.18</td>\n",
       "      <td>50.00</td>\n",
       "      <td>2.82</td>\n",
       "      <td>62</td>\n",
       "      <td>60</td>\n",
       "    </tr>\n",
       "    <tr>\n",
       "      <th>12994</th>\n",
       "      <td>2bb4857e894a94d48a79620858c8384e</td>\n",
       "      <td>AM Peak</td>\n",
       "      <td>12.44</td>\n",
       "      <td>64.45</td>\n",
       "      <td>50.00</td>\n",
       "      <td>2.84</td>\n",
       "      <td>63</td>\n",
       "      <td>62</td>\n",
       "    </tr>\n",
       "    <tr>\n",
       "      <th>12997</th>\n",
       "      <td>b97a1995cd54253c58e82bb7c9ad3414</td>\n",
       "      <td>AM Peak</td>\n",
       "      <td>15.59</td>\n",
       "      <td>52.82</td>\n",
       "      <td>50.00</td>\n",
       "      <td>2.82</td>\n",
       "      <td>53</td>\n",
       "      <td>50</td>\n",
       "    </tr>\n",
       "    <tr>\n",
       "      <th>13004</th>\n",
       "      <td>baeeed7c3d6ab74ad9ff40f42a2f1da3</td>\n",
       "      <td>AM Peak</td>\n",
       "      <td>13.78</td>\n",
       "      <td>59.13</td>\n",
       "      <td>50.00</td>\n",
       "      <td>2.86</td>\n",
       "      <td>59</td>\n",
       "      <td>56</td>\n",
       "    </tr>\n",
       "  </tbody>\n",
       "</table>\n",
       "</div>"
      ],
      "text/plain": [
       "                      trip_instance_key time_of_day  speed_mph  \\\n",
       "12987  14c9fc6b379e1fe869ba37bfd79a8245     AM Peak      13.31   \n",
       "12990  2ee02fe17c9acad17ccb44eaaea4debe     AM Peak      12.69   \n",
       "12991  78a402dfe7d89e0b919a193ac59c69ae     AM Peak      12.61   \n",
       "12994  2bb4857e894a94d48a79620858c8384e     AM Peak      12.44   \n",
       "12997  b97a1995cd54253c58e82bb7c9ad3414     AM Peak      15.59   \n",
       "13004  baeeed7c3d6ab74ad9ff40f42a2f1da3     AM Peak      13.78   \n",
       "\n",
       "       rt_service_min  service_minutes  pings_per_min  total_min_w_gtfs  \\\n",
       "12987           61.40            50.00           2.72                57   \n",
       "12990           63.18            50.00           2.90                63   \n",
       "12991           63.18            50.00           2.82                62   \n",
       "12994           64.45            50.00           2.84                63   \n",
       "12997           52.82            50.00           2.82                53   \n",
       "13004           59.13            50.00           2.86                59   \n",
       "\n",
       "       min_w_atleast2_trip_updates  \n",
       "12987                           56  \n",
       "12990                           62  \n",
       "12991                           60  \n",
       "12994                           62  \n",
       "12997                           50  \n",
       "13004                           56  "
      ]
     },
     "metadata": {},
     "output_type": "display_data"
    }
   ],
   "source": [
    "checkout_route(dec_intermediary, dec_final, \"Lynx\", \"AM Peak\", 1)"
   ]
  },
  {
   "cell_type": "markdown",
   "id": "bfc98904-dbed-4302-8a9c-55adea3676b9",
   "metadata": {},
   "source": [
    "### Test aggregating with March"
   ]
  },
  {
   "cell_type": "code",
   "execution_count": 70,
   "id": "0fd73539-ea23-4b0a-9509-ae0162f512af",
   "metadata": {},
   "outputs": [],
   "source": [
    "mar_date = \"2023-03-15\""
   ]
  },
  {
   "cell_type": "code",
   "execution_count": 71,
   "id": "cd2a6ffd-03a9-432a-ae0d-ac15f795278e",
   "metadata": {},
   "outputs": [],
   "source": [
    "mar_df2 = add_scheduled_trip_columns(df_2023_03_15, mar_date, [\"trip_instance_key\"])"
   ]
  },
  {
   "cell_type": "code",
   "execution_count": 73,
   "id": "988731d1-b062-43e5-896d-8bad990fdf46",
   "metadata": {},
   "outputs": [],
   "source": [
    "mar_intermediary, mar_final = average_route_speeds_for_export(mar_df2, mar_date, 70)"
   ]
  },
  {
   "cell_type": "code",
   "execution_count": 74,
   "id": "64960b35-b4ac-43e4-9e6f-594e349fe7e2",
   "metadata": {},
   "outputs": [
    {
     "data": {
      "text/plain": [
       "Index(['org_id', 'agency', 'route_id', 'route_name', 'direction_id',\n",
       "       'avg_route_frequency', 'time_of_day', 'avg_speed_mph', 'n_trips',\n",
       "       'avg_sched_trip_min', 'avg_rt_trip_min', 'base64_url', 'district_name',\n",
       "       'geometry', 'avg_pings_per_min', 'avg_pct_vp_shape',\n",
       "       'avg_pct_rt_v_sched', 'avg_rt_triptime_w_gtfs_pct',\n",
       "       'avg_min_w_atleast2_trip_updates'],\n",
       "      dtype='object')"
      ]
     },
     "execution_count": 74,
     "metadata": {},
     "output_type": "execute_result"
    }
   ],
   "source": [
    "mar_final.columns"
   ]
  },
  {
   "cell_type": "code",
   "execution_count": 76,
   "id": "bf6c84be-eb6d-4142-9ec7-2c737cd96517",
   "metadata": {},
   "outputs": [
    {
     "name": "stdout",
     "output_type": "stream",
     "text": [
      "final\n"
     ]
    },
    {
     "data": {
      "text/html": [
       "<div>\n",
       "<style scoped>\n",
       "    .dataframe tbody tr th:only-of-type {\n",
       "        vertical-align: middle;\n",
       "    }\n",
       "\n",
       "    .dataframe tbody tr th {\n",
       "        vertical-align: top;\n",
       "    }\n",
       "\n",
       "    .dataframe thead th {\n",
       "        text-align: right;\n",
       "    }\n",
       "</style>\n",
       "<table border=\"1\" class=\"dataframe\">\n",
       "  <thead>\n",
       "    <tr style=\"text-align: right;\">\n",
       "      <th></th>\n",
       "      <th>org_id</th>\n",
       "      <th>agency</th>\n",
       "      <th>route_id</th>\n",
       "      <th>route_name</th>\n",
       "      <th>direction_id</th>\n",
       "      <th>avg_route_frequency</th>\n",
       "      <th>time_of_day</th>\n",
       "      <th>avg_speed_mph</th>\n",
       "      <th>n_trips</th>\n",
       "      <th>avg_sched_trip_min</th>\n",
       "      <th>avg_rt_trip_min</th>\n",
       "      <th>district_name</th>\n",
       "      <th>avg_pings_per_min</th>\n",
       "      <th>avg_pct_vp_shape</th>\n",
       "      <th>avg_pct_rt_v_sched</th>\n",
       "      <th>avg_rt_triptime_w_gtfs_pct</th>\n",
       "      <th>avg_min_w_atleast2_trip_updates</th>\n",
       "    </tr>\n",
       "  </thead>\n",
       "  <tbody>\n",
       "    <tr>\n",
       "      <th>3720</th>\n",
       "      <td>reckQmUdXUzHFmlVf</td>\n",
       "      <td>City of Ojai</td>\n",
       "      <td>4763</td>\n",
       "      <td>20</td>\n",
       "      <td>0</td>\n",
       "      <td>0.85</td>\n",
       "      <td>PM Peak</td>\n",
       "      <td>26.10</td>\n",
       "      <td>4</td>\n",
       "      <td>49.00</td>\n",
       "      <td>33.00</td>\n",
       "      <td>07 - Los Angeles</td>\n",
       "      <td>2.90</td>\n",
       "      <td>100.00</td>\n",
       "      <td>-32.65</td>\n",
       "      <td>100.61</td>\n",
       "      <td>32.20</td>\n",
       "    </tr>\n",
       "  </tbody>\n",
       "</table>\n",
       "</div>"
      ],
      "text/plain": [
       "                 org_id        agency route_id route_name  direction_id  \\\n",
       "3720  reckQmUdXUzHFmlVf  City of Ojai     4763         20             0   \n",
       "\n",
       "      avg_route_frequency time_of_day  avg_speed_mph  n_trips  \\\n",
       "3720                 0.85     PM Peak          26.10        4   \n",
       "\n",
       "      avg_sched_trip_min  avg_rt_trip_min     district_name  \\\n",
       "3720               49.00            33.00  07 - Los Angeles   \n",
       "\n",
       "      avg_pings_per_min  avg_pct_vp_shape  avg_pct_rt_v_sched  \\\n",
       "3720               2.90            100.00              -32.65   \n",
       "\n",
       "      avg_rt_triptime_w_gtfs_pct  avg_min_w_atleast2_trip_updates  \n",
       "3720                      100.61                            32.20  "
      ]
     },
     "metadata": {},
     "output_type": "display_data"
    },
    {
     "name": "stdout",
     "output_type": "stream",
     "text": [
      "original\n",
      "pings per min 2.909125279321039\n",
      "speed_mph 26.116502281263557\n",
      "total_vp 96.75\n",
      "vp_in_shape 96.75\n",
      "min w gtfs 33.25\n",
      "min w at least 2 pings 32.25\n",
      "avg vp in pct 1.0\n"
     ]
    },
    {
     "data": {
      "text/html": [
       "<div>\n",
       "<style scoped>\n",
       "    .dataframe tbody tr th:only-of-type {\n",
       "        vertical-align: middle;\n",
       "    }\n",
       "\n",
       "    .dataframe tbody tr th {\n",
       "        vertical-align: top;\n",
       "    }\n",
       "\n",
       "    .dataframe thead th {\n",
       "        text-align: right;\n",
       "    }\n",
       "</style>\n",
       "<table border=\"1\" class=\"dataframe\">\n",
       "  <thead>\n",
       "    <tr style=\"text-align: right;\">\n",
       "      <th></th>\n",
       "      <th>trip_instance_key</th>\n",
       "      <th>time_of_day</th>\n",
       "      <th>speed_mph</th>\n",
       "      <th>rt_service_min</th>\n",
       "      <th>service_minutes</th>\n",
       "      <th>pings_per_min</th>\n",
       "      <th>total_min_w_gtfs</th>\n",
       "      <th>min_w_atleast2_trip_updates</th>\n",
       "    </tr>\n",
       "  </thead>\n",
       "  <tbody>\n",
       "    <tr>\n",
       "      <th>36452</th>\n",
       "      <td>7ea7312469de416b5c96c2df46b07c85</td>\n",
       "      <td>PM Peak</td>\n",
       "      <td>46.12</td>\n",
       "      <td>16.67</td>\n",
       "      <td>34.00</td>\n",
       "      <td>2.88</td>\n",
       "      <td>16</td>\n",
       "      <td>16</td>\n",
       "    </tr>\n",
       "    <tr>\n",
       "      <th>36453</th>\n",
       "      <td>3d6760f1db43f24d68d2e780ac2be0db</td>\n",
       "      <td>PM Peak</td>\n",
       "      <td>15.04</td>\n",
       "      <td>49.05</td>\n",
       "      <td>54.00</td>\n",
       "      <td>2.94</td>\n",
       "      <td>50</td>\n",
       "      <td>48</td>\n",
       "    </tr>\n",
       "    <tr>\n",
       "      <th>37260</th>\n",
       "      <td>1af731c948711c3f047f29f922d24ee6</td>\n",
       "      <td>PM Peak</td>\n",
       "      <td>14.26</td>\n",
       "      <td>51.68</td>\n",
       "      <td>54.00</td>\n",
       "      <td>2.96</td>\n",
       "      <td>52</td>\n",
       "      <td>51</td>\n",
       "    </tr>\n",
       "    <tr>\n",
       "      <th>37278</th>\n",
       "      <td>49ce553a741ac1fcd734f035f299b81b</td>\n",
       "      <td>PM Peak</td>\n",
       "      <td>29.06</td>\n",
       "      <td>14.68</td>\n",
       "      <td>54.00</td>\n",
       "      <td>2.86</td>\n",
       "      <td>15</td>\n",
       "      <td>14</td>\n",
       "    </tr>\n",
       "  </tbody>\n",
       "</table>\n",
       "</div>"
      ],
      "text/plain": [
       "                      trip_instance_key time_of_day  speed_mph  \\\n",
       "36452  7ea7312469de416b5c96c2df46b07c85     PM Peak      46.12   \n",
       "36453  3d6760f1db43f24d68d2e780ac2be0db     PM Peak      15.04   \n",
       "37260  1af731c948711c3f047f29f922d24ee6     PM Peak      14.26   \n",
       "37278  49ce553a741ac1fcd734f035f299b81b     PM Peak      29.06   \n",
       "\n",
       "       rt_service_min  service_minutes  pings_per_min  total_min_w_gtfs  \\\n",
       "36452           16.67            34.00           2.88                16   \n",
       "36453           49.05            54.00           2.94                50   \n",
       "37260           51.68            54.00           2.96                52   \n",
       "37278           14.68            54.00           2.86                15   \n",
       "\n",
       "       min_w_atleast2_trip_updates  \n",
       "36452                           16  \n",
       "36453                           48  \n",
       "37260                           51  \n",
       "37278                           14  "
      ]
     },
     "metadata": {},
     "output_type": "display_data"
    }
   ],
   "source": [
    "checkout_route(mar_intermediary, mar_final, \"4763\", \"PM Peak\", 0)"
   ]
  },
  {
   "cell_type": "code",
   "execution_count": 77,
   "id": "1993266f-05df-4613-9573-29402822b9da",
   "metadata": {},
   "outputs": [
    {
     "name": "stdout",
     "output_type": "stream",
     "text": [
      "final\n"
     ]
    },
    {
     "data": {
      "text/html": [
       "<div>\n",
       "<style scoped>\n",
       "    .dataframe tbody tr th:only-of-type {\n",
       "        vertical-align: middle;\n",
       "    }\n",
       "\n",
       "    .dataframe tbody tr th {\n",
       "        vertical-align: top;\n",
       "    }\n",
       "\n",
       "    .dataframe thead th {\n",
       "        text-align: right;\n",
       "    }\n",
       "</style>\n",
       "<table border=\"1\" class=\"dataframe\">\n",
       "  <thead>\n",
       "    <tr style=\"text-align: right;\">\n",
       "      <th></th>\n",
       "      <th>org_id</th>\n",
       "      <th>agency</th>\n",
       "      <th>route_id</th>\n",
       "      <th>route_name</th>\n",
       "      <th>direction_id</th>\n",
       "      <th>avg_route_frequency</th>\n",
       "      <th>time_of_day</th>\n",
       "      <th>avg_speed_mph</th>\n",
       "      <th>n_trips</th>\n",
       "      <th>avg_sched_trip_min</th>\n",
       "      <th>avg_rt_trip_min</th>\n",
       "      <th>district_name</th>\n",
       "      <th>avg_pings_per_min</th>\n",
       "      <th>avg_pct_vp_shape</th>\n",
       "      <th>avg_pct_rt_v_sched</th>\n",
       "      <th>avg_rt_triptime_w_gtfs_pct</th>\n",
       "      <th>avg_min_w_atleast2_trip_updates</th>\n",
       "    </tr>\n",
       "  </thead>\n",
       "  <tbody>\n",
       "    <tr>\n",
       "      <th>1285</th>\n",
       "      <td>recRBcrX4ZvTyvSnm</td>\n",
       "      <td>North County Transit District</td>\n",
       "      <td>332</td>\n",
       "      <td>Vista TC - Buena Creek Station</td>\n",
       "      <td>0</td>\n",
       "      <td>1.52</td>\n",
       "      <td>Evening</td>\n",
       "      <td>16.00</td>\n",
       "      <td>2</td>\n",
       "      <td>32.00</td>\n",
       "      <td>46.20</td>\n",
       "      <td>11 - San Diego</td>\n",
       "      <td>2.60</td>\n",
       "      <td>100.00</td>\n",
       "      <td>44.38</td>\n",
       "      <td>99.57</td>\n",
       "      <td>43.00</td>\n",
       "    </tr>\n",
       "  </tbody>\n",
       "</table>\n",
       "</div>"
      ],
      "text/plain": [
       "                 org_id                         agency route_id  \\\n",
       "1285  recRBcrX4ZvTyvSnm  North County Transit District      332   \n",
       "\n",
       "                          route_name  direction_id  avg_route_frequency  \\\n",
       "1285  Vista TC - Buena Creek Station             0                 1.52   \n",
       "\n",
       "     time_of_day  avg_speed_mph  n_trips  avg_sched_trip_min  avg_rt_trip_min  \\\n",
       "1285     Evening          16.00        2               32.00            46.20   \n",
       "\n",
       "       district_name  avg_pings_per_min  avg_pct_vp_shape  avg_pct_rt_v_sched  \\\n",
       "1285  11 - San Diego               2.60            100.00               44.38   \n",
       "\n",
       "      avg_rt_triptime_w_gtfs_pct  avg_min_w_atleast2_trip_updates  \n",
       "1285                       99.57                            43.00  "
      ]
     },
     "metadata": {},
     "output_type": "display_data"
    },
    {
     "name": "stdout",
     "output_type": "stream",
     "text": [
      "original\n",
      "pings per min 2.5985041071389485\n",
      "speed_mph 15.952292627153918\n",
      "total_vp 120.0\n",
      "vp_in_shape 120.0\n",
      "min w gtfs 46.0\n",
      "min w at least 2 pings 43.0\n",
      "avg vp in pct 1.0\n"
     ]
    },
    {
     "data": {
      "text/html": [
       "<div>\n",
       "<style scoped>\n",
       "    .dataframe tbody tr th:only-of-type {\n",
       "        vertical-align: middle;\n",
       "    }\n",
       "\n",
       "    .dataframe tbody tr th {\n",
       "        vertical-align: top;\n",
       "    }\n",
       "\n",
       "    .dataframe thead th {\n",
       "        text-align: right;\n",
       "    }\n",
       "</style>\n",
       "<table border=\"1\" class=\"dataframe\">\n",
       "  <thead>\n",
       "    <tr style=\"text-align: right;\">\n",
       "      <th></th>\n",
       "      <th>trip_instance_key</th>\n",
       "      <th>time_of_day</th>\n",
       "      <th>speed_mph</th>\n",
       "      <th>rt_service_min</th>\n",
       "      <th>service_minutes</th>\n",
       "      <th>pings_per_min</th>\n",
       "      <th>total_min_w_gtfs</th>\n",
       "      <th>min_w_atleast2_trip_updates</th>\n",
       "    </tr>\n",
       "  </thead>\n",
       "  <tbody>\n",
       "    <tr>\n",
       "      <th>41418</th>\n",
       "      <td>e54c1ac191dc0b57df34834df825d0ad</td>\n",
       "      <td>Evening</td>\n",
       "      <td>10.83</td>\n",
       "      <td>47.10</td>\n",
       "      <td>31.00</td>\n",
       "      <td>2.59</td>\n",
       "      <td>47</td>\n",
       "      <td>43</td>\n",
       "    </tr>\n",
       "    <tr>\n",
       "      <th>41433</th>\n",
       "      <td>e1d2ca1ad28f5fe1a3ec9a772cfae369</td>\n",
       "      <td>Evening</td>\n",
       "      <td>21.07</td>\n",
       "      <td>45.27</td>\n",
       "      <td>33.00</td>\n",
       "      <td>2.61</td>\n",
       "      <td>45</td>\n",
       "      <td>43</td>\n",
       "    </tr>\n",
       "  </tbody>\n",
       "</table>\n",
       "</div>"
      ],
      "text/plain": [
       "                      trip_instance_key time_of_day  speed_mph  \\\n",
       "41418  e54c1ac191dc0b57df34834df825d0ad     Evening      10.83   \n",
       "41433  e1d2ca1ad28f5fe1a3ec9a772cfae369     Evening      21.07   \n",
       "\n",
       "       rt_service_min  service_minutes  pings_per_min  total_min_w_gtfs  \\\n",
       "41418           47.10            31.00           2.59                47   \n",
       "41433           45.27            33.00           2.61                45   \n",
       "\n",
       "       min_w_atleast2_trip_updates  \n",
       "41418                           43  \n",
       "41433                           43  "
      ]
     },
     "metadata": {},
     "output_type": "display_data"
    }
   ],
   "source": [
    "checkout_route(mar_intermediary, mar_final, \"332\", \"Evening\", 0)"
   ]
  }
 ],
 "metadata": {
  "kernelspec": {
   "display_name": "Python 3 (ipykernel)",
   "language": "python",
   "name": "python3"
  },
  "language_info": {
   "codemirror_mode": {
    "name": "ipython",
    "version": 3
   },
   "file_extension": ".py",
   "mimetype": "text/x-python",
   "name": "python",
   "nbconvert_exporter": "python",
   "pygments_lexer": "ipython3",
   "version": "3.9.13"
  }
 },
 "nbformat": 4,
 "nbformat_minor": 5
}
