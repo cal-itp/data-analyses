{
 "cells": [
  {
   "cell_type": "markdown",
   "id": "63b72e4f-ad51-4c17-90b5-e3667618a725",
   "metadata": {},
   "source": [
    "## Check out Results"
   ]
  },
  {
   "cell_type": "code",
   "execution_count": 1,
   "id": "420e44a4-aa22-4475-840f-6caf92fa7844",
   "metadata": {},
   "outputs": [],
   "source": [
    "import geopandas as gpd\n",
    "import pandas as pd"
   ]
  },
  {
   "cell_type": "code",
   "execution_count": 2,
   "id": "67351837-e385-464b-96b3-48fc13703af7",
   "metadata": {},
   "outputs": [],
   "source": [
    "from segment_speed_utils.project_vars import (\n",
    "    GCS_FILE_PATH,\n",
    "    PROJECT_CRS,\n",
    "    SEGMENT_GCS,\n",
    "    analysis_date,\n",
    ")\n",
    "from segment_speed_utils import helpers, wrangle_shapes,sched_rt_utils\n",
    "from shared_utils import schedule_rt_utils, portfolio_utils, geography_utils"
   ]
  },
  {
   "cell_type": "code",
   "execution_count": 3,
   "id": "c12b17b1-8c43-40c8-8a8d-579618452b06",
   "metadata": {},
   "outputs": [],
   "source": [
    "pd.options.display.max_columns = 100\n",
    "pd.options.display.float_format = \"{:.2f}\".format\n",
    "pd.set_option(\"display.max_rows\", None)\n",
    "pd.set_option(\"display.max_colwidth\", None)"
   ]
  },
  {
   "cell_type": "code",
   "execution_count": 4,
   "id": "2ebc71d7-342d-4b8f-b261-709b0cbfe013",
   "metadata": {},
   "outputs": [],
   "source": [
    "GCS_PATH = 'gs://calitp-analytics-data/data-analyses/rt_vs_schedule/trip_level_metrics/'"
   ]
  },
  {
   "cell_type": "code",
   "execution_count": 5,
   "id": "26185ced-9f3b-4266-a080-0eeed0c0a825",
   "metadata": {},
   "outputs": [],
   "source": [
    "def check_out(df:pd.DataFrame):\n",
    "    display(df.spatial_accuracy_pct.describe())\n",
    "    display(df.pings_per_min.describe())\n",
    "    display(df.rt_triptime_w_gtfs_pct.describe())\n",
    "    display(df.rt_v_scheduled_trip_time_pct.describe())"
   ]
  },
  {
   "cell_type": "code",
   "execution_count": 6,
   "id": "aba941a7-bc28-4501-9505-0fd064c24a0c",
   "metadata": {},
   "outputs": [],
   "source": [
    "mar_df = pd.read_parquet(f'{GCS_PATH}2023-03-15_metrics.parquet')"
   ]
  },
  {
   "cell_type": "code",
   "execution_count": 7,
   "id": "89ef7ad6-d728-45d1-a4ae-75203df93cc9",
   "metadata": {},
   "outputs": [
    {
     "data": {
      "text/plain": [
       "Index(['trip_instance_key', 'rt_service_min', 'min_w_atleast2_trip_updates',\n",
       "       'total_pings_for_trip', 'total_min_w_gtfs', 'total_vp', 'vp_in_shape',\n",
       "       'speed_mph', 'route_id', 'time_of_day', 'service_minutes',\n",
       "       'pings_per_min', 'spatial_accuracy_pct', 'rt_triptime_w_gtfs_pct',\n",
       "       'rt_v_scheduled_trip_time_pct'],\n",
       "      dtype='object')"
      ]
     },
     "execution_count": 7,
     "metadata": {},
     "output_type": "execute_result"
    }
   ],
   "source": [
    "mar_df.columns"
   ]
  },
  {
   "cell_type": "code",
   "execution_count": 8,
   "id": "af7c69e1-e363-42f8-bf1c-f9ef2ba141e2",
   "metadata": {},
   "outputs": [
    {
     "data": {
      "text/plain": [
       "count   69494.00\n",
       "mean       94.10\n",
       "std        12.34\n",
       "min         0.00\n",
       "25%        95.24\n",
       "50%       100.00\n",
       "75%       100.00\n",
       "max       100.00\n",
       "Name: spatial_accuracy_pct, dtype: float64"
      ]
     },
     "metadata": {},
     "output_type": "display_data"
    },
    {
     "data": {
      "text/plain": [
       "count   83620.00\n",
       "mean        2.46\n",
       "std         0.68\n",
       "min         0.00\n",
       "25%         1.91\n",
       "50%         2.86\n",
       "75%         2.96\n",
       "max         4.75\n",
       "Name: pings_per_min, dtype: float64"
      ]
     },
     "metadata": {},
     "output_type": "display_data"
    },
    {
     "data": {
      "text/plain": [
       "count   83620.00\n",
       "mean       95.20\n",
       "std        14.55\n",
       "min         0.28\n",
       "25%        97.99\n",
       "50%        99.58\n",
       "75%       100.25\n",
       "max       108.43\n",
       "Name: rt_triptime_w_gtfs_pct, dtype: float64"
      ]
     },
     "metadata": {},
     "output_type": "display_data"
    },
    {
     "data": {
      "text/plain": [
       "count   71797.00\n",
       "mean       60.68\n",
       "std       333.76\n",
       "min       -87.37\n",
       "25%        10.76\n",
       "50%        25.19\n",
       "75%        44.44\n",
       "max     17909.79\n",
       "Name: rt_v_scheduled_trip_time_pct, dtype: float64"
      ]
     },
     "metadata": {},
     "output_type": "display_data"
    }
   ],
   "source": [
    "check_out(mar_df)"
   ]
  },
  {
   "cell_type": "code",
   "execution_count": 9,
   "id": "26701c9c-669d-4e09-8c38-5ece391f5889",
   "metadata": {},
   "outputs": [],
   "source": [
    "apr_df = pd.read_parquet(f'{GCS_PATH}2023-04-12_metrics.parquet')"
   ]
  },
  {
   "cell_type": "code",
   "execution_count": 10,
   "id": "509ec31f-c521-4149-be35-b4548a9e1666",
   "metadata": {},
   "outputs": [
    {
     "data": {
      "text/plain": [
       "count   71094.00\n",
       "mean       94.06\n",
       "std        12.64\n",
       "min         0.00\n",
       "25%        95.45\n",
       "50%       100.00\n",
       "75%       100.00\n",
       "max       100.00\n",
       "Name: spatial_accuracy_pct, dtype: float64"
      ]
     },
     "metadata": {},
     "output_type": "display_data"
    },
    {
     "data": {
      "text/plain": [
       "count   84516.00\n",
       "mean        2.45\n",
       "std         0.67\n",
       "min         0.01\n",
       "25%         1.91\n",
       "50%         2.83\n",
       "75%         2.95\n",
       "max         5.18\n",
       "Name: pings_per_min, dtype: float64"
      ]
     },
     "metadata": {},
     "output_type": "display_data"
    },
    {
     "data": {
      "text/plain": [
       "count   84516.00\n",
       "mean       95.23\n",
       "std        14.48\n",
       "min         0.56\n",
       "25%        97.88\n",
       "50%        99.53\n",
       "75%       100.20\n",
       "max       108.11\n",
       "Name: rt_triptime_w_gtfs_pct, dtype: float64"
      ]
     },
     "metadata": {},
     "output_type": "display_data"
    },
    {
     "data": {
      "text/plain": [
       "count   73471.00\n",
       "mean       61.42\n",
       "std       349.18\n",
       "min       -86.02\n",
       "25%        10.46\n",
       "50%        25.10\n",
       "75%        44.38\n",
       "max     15903.70\n",
       "Name: rt_v_scheduled_trip_time_pct, dtype: float64"
      ]
     },
     "metadata": {},
     "output_type": "display_data"
    }
   ],
   "source": [
    "check_out(apr_df)"
   ]
  },
  {
   "cell_type": "code",
   "execution_count": 11,
   "id": "dcf7252b-eb12-4d76-bacf-ceb34d1e0c0a",
   "metadata": {},
   "outputs": [],
   "source": [
    "may_df = pd.read_parquet(f'{GCS_PATH}2023-05-17_metrics.parquet')"
   ]
  },
  {
   "cell_type": "code",
   "execution_count": 12,
   "id": "151c9d6f-ce92-4ab2-ad1c-525ca627dbfc",
   "metadata": {},
   "outputs": [
    {
     "data": {
      "text/plain": [
       "count   65385.00\n",
       "mean       94.07\n",
       "std        12.45\n",
       "min         0.00\n",
       "25%        95.00\n",
       "50%       100.00\n",
       "75%       100.00\n",
       "max       100.00\n",
       "Name: spatial_accuracy_pct, dtype: float64"
      ]
     },
     "metadata": {},
     "output_type": "display_data"
    },
    {
     "data": {
      "text/plain": [
       "count   83606.00\n",
       "mean        2.47\n",
       "std         0.68\n",
       "min         0.00\n",
       "25%         1.95\n",
       "50%         2.86\n",
       "75%         2.95\n",
       "max         5.14\n",
       "Name: pings_per_min, dtype: float64"
      ]
     },
     "metadata": {},
     "output_type": "display_data"
    },
    {
     "data": {
      "text/plain": [
       "count   83606.00\n",
       "mean       95.47\n",
       "std        13.78\n",
       "min         0.27\n",
       "25%        97.76\n",
       "50%        99.51\n",
       "75%       100.21\n",
       "max       108.43\n",
       "Name: rt_triptime_w_gtfs_pct, dtype: float64"
      ]
     },
     "metadata": {},
     "output_type": "display_data"
    },
    {
     "data": {
      "text/plain": [
       "count   67864.00\n",
       "mean       60.61\n",
       "std       329.38\n",
       "min       -90.09\n",
       "25%        10.96\n",
       "50%        25.64\n",
       "75%        44.61\n",
       "max     17907.92\n",
       "Name: rt_v_scheduled_trip_time_pct, dtype: float64"
      ]
     },
     "metadata": {},
     "output_type": "display_data"
    }
   ],
   "source": [
    "check_out(may_df)"
   ]
  },
  {
   "cell_type": "code",
   "execution_count": 13,
   "id": "976f786d-c3e5-44ae-991c-db7d95d5169a",
   "metadata": {},
   "outputs": [],
   "source": [
    "jun_df = pd.read_parquet(f'{GCS_PATH}2023-06-14_metrics.parquet')"
   ]
  },
  {
   "cell_type": "code",
   "execution_count": 14,
   "id": "c87d9f5e-ae39-4c4a-b313-037fc118dce4",
   "metadata": {},
   "outputs": [
    {
     "data": {
      "text/plain": [
       "count   64270.00\n",
       "mean       93.92\n",
       "std        12.67\n",
       "min         0.00\n",
       "25%        94.77\n",
       "50%       100.00\n",
       "75%       100.00\n",
       "max       100.00\n",
       "Name: spatial_accuracy_pct, dtype: float64"
      ]
     },
     "metadata": {},
     "output_type": "display_data"
    },
    {
     "data": {
      "text/plain": [
       "count   80331.00\n",
       "mean        2.51\n",
       "std         0.67\n",
       "min         0.01\n",
       "25%         1.98\n",
       "50%         2.90\n",
       "75%         2.96\n",
       "max         4.93\n",
       "Name: pings_per_min, dtype: float64"
      ]
     },
     "metadata": {},
     "output_type": "display_data"
    },
    {
     "data": {
      "text/plain": [
       "count   80331.00\n",
       "mean       95.92\n",
       "std        13.48\n",
       "min         0.28\n",
       "25%        98.43\n",
       "50%        99.67\n",
       "75%       100.28\n",
       "max       107.78\n",
       "Name: rt_triptime_w_gtfs_pct, dtype: float64"
      ]
     },
     "metadata": {},
     "output_type": "display_data"
    },
    {
     "data": {
      "text/plain": [
       "count   66748.00\n",
       "mean       63.20\n",
       "std       345.10\n",
       "min       -90.25\n",
       "25%        11.69\n",
       "50%        25.91\n",
       "75%        45.15\n",
       "max     12997.42\n",
       "Name: rt_v_scheduled_trip_time_pct, dtype: float64"
      ]
     },
     "metadata": {},
     "output_type": "display_data"
    }
   ],
   "source": [
    "check_out(jun_df)"
   ]
  },
  {
   "cell_type": "code",
   "execution_count": 15,
   "id": "e55cb702-f2fa-4350-bcd9-cb057a7edbdc",
   "metadata": {},
   "outputs": [],
   "source": [
    "jul_df = pd.read_parquet(f'{GCS_PATH}2023-07-12_metrics.parquet')"
   ]
  },
  {
   "cell_type": "code",
   "execution_count": 16,
   "id": "a287bc73-76ff-4235-8a72-671045bac935",
   "metadata": {},
   "outputs": [
    {
     "data": {
      "text/plain": [
       "count   67091.00\n",
       "mean       93.83\n",
       "std        13.15\n",
       "min         0.00\n",
       "25%        94.96\n",
       "50%       100.00\n",
       "75%       100.00\n",
       "max       100.00\n",
       "Name: spatial_accuracy_pct, dtype: float64"
      ]
     },
     "metadata": {},
     "output_type": "display_data"
    },
    {
     "data": {
      "text/plain": [
       "count   82044.00\n",
       "mean        2.49\n",
       "std         0.67\n",
       "min         0.00\n",
       "25%         1.95\n",
       "50%         2.90\n",
       "75%         2.97\n",
       "max         5.76\n",
       "Name: pings_per_min, dtype: float64"
      ]
     },
     "metadata": {},
     "output_type": "display_data"
    },
    {
     "data": {
      "text/plain": [
       "count   82044.00\n",
       "mean       96.42\n",
       "std        11.07\n",
       "min         0.43\n",
       "25%        98.28\n",
       "50%        99.65\n",
       "75%       100.25\n",
       "max       108.60\n",
       "Name: rt_triptime_w_gtfs_pct, dtype: float64"
      ]
     },
     "metadata": {},
     "output_type": "display_data"
    },
    {
     "data": {
      "text/plain": [
       "count   69488.00\n",
       "mean       56.85\n",
       "std       291.52\n",
       "min       -91.05\n",
       "25%        11.82\n",
       "50%        26.10\n",
       "75%        45.69\n",
       "max     17880.62\n",
       "Name: rt_v_scheduled_trip_time_pct, dtype: float64"
      ]
     },
     "metadata": {},
     "output_type": "display_data"
    }
   ],
   "source": [
    "check_out(jul_df)"
   ]
  },
  {
   "cell_type": "code",
   "execution_count": 17,
   "id": "21b4d1b8-598d-410a-9c73-69fb92d88c1b",
   "metadata": {},
   "outputs": [],
   "source": [
    "aug_df = pd.read_parquet(f'{GCS_PATH}2023-08-15_metrics.parquet')"
   ]
  },
  {
   "cell_type": "code",
   "execution_count": 18,
   "id": "1cda1e4d-25f7-4836-b8ab-7b7997edb446",
   "metadata": {},
   "outputs": [],
   "source": [
    "sept_df = pd.read_parquet(f'{GCS_PATH}2023-09-13_metrics.parquet')"
   ]
  },
  {
   "cell_type": "code",
   "execution_count": 19,
   "id": "497e04c0-1c33-4fdf-9cfc-94e2a925ebd3",
   "metadata": {},
   "outputs": [],
   "source": [
    "oct_df = pd.read_parquet(f'{GCS_PATH}2023-10-11_metrics.parquet')"
   ]
  },
  {
   "cell_type": "code",
   "execution_count": 20,
   "id": "07e73d1c-5b24-43a8-852e-35cff4f416e6",
   "metadata": {},
   "outputs": [],
   "source": [
    "nov_df = pd.read_parquet(f'{GCS_PATH}2023-11-15_metrics.parquet')"
   ]
  },
  {
   "cell_type": "code",
   "execution_count": 21,
   "id": "38f00976-c428-4c3c-a153-eb9035a709ef",
   "metadata": {},
   "outputs": [
    {
     "data": {
      "text/plain": [
       "count   74891.00\n",
       "mean       93.53\n",
       "std        13.12\n",
       "min         0.00\n",
       "25%        93.94\n",
       "50%        99.68\n",
       "75%       100.00\n",
       "max       100.00\n",
       "Name: spatial_accuracy_pct, dtype: float64"
      ]
     },
     "metadata": {},
     "output_type": "display_data"
    },
    {
     "data": {
      "text/plain": [
       "count   86832.00\n",
       "mean        2.51\n",
       "std         0.63\n",
       "min         0.00\n",
       "25%         2.09\n",
       "50%         2.86\n",
       "75%         2.96\n",
       "max         5.29\n",
       "Name: pings_per_min, dtype: float64"
      ]
     },
     "metadata": {},
     "output_type": "display_data"
    },
    {
     "data": {
      "text/plain": [
       "count   86832.00\n",
       "mean       95.93\n",
       "std        12.15\n",
       "min         0.45\n",
       "25%        98.40\n",
       "50%        99.67\n",
       "75%       100.26\n",
       "max       108.93\n",
       "Name: rt_triptime_w_gtfs_pct, dtype: float64"
      ]
     },
     "metadata": {},
     "output_type": "display_data"
    },
    {
     "data": {
      "text/plain": [
       "count   77194.00\n",
       "mean       42.53\n",
       "std       196.80\n",
       "min       -88.16\n",
       "25%        11.44\n",
       "50%        26.10\n",
       "75%        46.17\n",
       "max     11797.08\n",
       "Name: rt_v_scheduled_trip_time_pct, dtype: float64"
      ]
     },
     "metadata": {},
     "output_type": "display_data"
    }
   ],
   "source": [
    "check_out(nov_df)"
   ]
  },
  {
   "cell_type": "code",
   "execution_count": 22,
   "id": "8762a9c1-9a3b-490a-a447-4481b59d930c",
   "metadata": {},
   "outputs": [
    {
     "data": {
      "text/plain": [
       "30287"
      ]
     },
     "execution_count": 22,
     "metadata": {},
     "output_type": "execute_result"
    }
   ],
   "source": [
    "len(nov_df[nov_df.rt_triptime_w_gtfs_pct > 100])"
   ]
  },
  {
   "cell_type": "code",
   "execution_count": 23,
   "id": "e3d9b4a9-70e1-40aa-b2eb-f2e23b3a4d1f",
   "metadata": {},
   "outputs": [
    {
     "data": {
      "text/plain": [
       "86832"
      ]
     },
     "execution_count": 23,
     "metadata": {},
     "output_type": "execute_result"
    }
   ],
   "source": [
    "len(nov_df)"
   ]
  },
  {
   "cell_type": "code",
   "execution_count": 24,
   "id": "c2963bc8-5535-4dce-af95-767317c2201c",
   "metadata": {},
   "outputs": [
    {
     "name": "stdout",
     "output_type": "stream",
     "text": [
      "<class 'pandas.core.frame.DataFrame'>\n",
      "Int64Index: 86832 entries, 0 to 86831\n",
      "Data columns (total 15 columns):\n",
      " #   Column                        Non-Null Count  Dtype  \n",
      "---  ------                        --------------  -----  \n",
      " 0   trip_instance_key             86832 non-null  object \n",
      " 1   rt_service_min                86832 non-null  float64\n",
      " 2   min_w_atleast2_trip_updates   86832 non-null  int64  \n",
      " 3   total_pings_for_trip          86832 non-null  int64  \n",
      " 4   total_min_w_gtfs              86832 non-null  int64  \n",
      " 5   total_vp                      74891 non-null  float64\n",
      " 6   vp_in_shape                   74891 non-null  float64\n",
      " 7   speed_mph                     77194 non-null  float64\n",
      " 8   route_id                      75619 non-null  object \n",
      " 9   time_of_day                   77194 non-null  object \n",
      " 10  service_minutes               77194 non-null  float64\n",
      " 11  pings_per_min                 86832 non-null  float64\n",
      " 12  spatial_accuracy_pct          74891 non-null  float64\n",
      " 13  rt_triptime_w_gtfs_pct        86832 non-null  float64\n",
      " 14  rt_v_scheduled_trip_time_pct  77194 non-null  float64\n",
      "dtypes: float64(9), int64(3), object(3)\n",
      "memory usage: 10.6+ MB\n"
     ]
    }
   ],
   "source": [
    "nov_df.info()"
   ]
  },
  {
   "cell_type": "markdown",
   "id": "a227a3dd-7761-46d0-bcc2-2a1e0f18db09",
   "metadata": {},
   "source": [
    "### Test aggregating with November"
   ]
  },
  {
   "cell_type": "code",
   "execution_count": 25,
   "id": "cfb7de65-5c85-4b1f-821d-2cabea0a8184",
   "metadata": {},
   "outputs": [],
   "source": [
    "analysis_date = \"2023-11-15\""
   ]
  },
  {
   "cell_type": "code",
   "execution_count": 26,
   "id": "330395c9-176b-4ec0-a036-b1598f5d2b55",
   "metadata": {},
   "outputs": [],
   "source": [
    "nov_df.rt_triptime_w_gtfs_pct = nov_df.rt_triptime_w_gtfs_pct.mask(nov_df.rt_triptime_w_gtfs_pct > 100).fillna(100)"
   ]
  },
  {
   "cell_type": "code",
   "execution_count": 27,
   "id": "fc6630d9-bdfe-42f1-86e9-2979143aac97",
   "metadata": {},
   "outputs": [
    {
     "data": {
      "text/plain": [
       "Index(['trip_instance_key', 'rt_service_min', 'min_w_atleast2_trip_updates',\n",
       "       'total_pings_for_trip', 'total_min_w_gtfs', 'total_vp', 'vp_in_shape',\n",
       "       'speed_mph', 'route_id', 'time_of_day', 'service_minutes',\n",
       "       'pings_per_min', 'spatial_accuracy_pct', 'rt_triptime_w_gtfs_pct',\n",
       "       'rt_v_scheduled_trip_time_pct'],\n",
       "      dtype='object')"
      ]
     },
     "execution_count": 27,
     "metadata": {},
     "output_type": "execute_result"
    }
   ],
   "source": [
    "nov_df.columns"
   ]
  },
  {
   "cell_type": "code",
   "execution_count": 28,
   "id": "be0fb1be-060d-4311-856e-5699e15e0c8c",
   "metadata": {},
   "outputs": [],
   "source": [
    "nov_df2= nov_df.drop(columns = ['route_id','service_minutes', 'time_of_day'])"
   ]
  },
  {
   "cell_type": "code",
   "execution_count": 29,
   "id": "c88f5faa-f3a2-4373-ad93-96fe61c7bbf3",
   "metadata": {},
   "outputs": [
    {
     "data": {
      "text/plain": [
       "'gs://calitp-analytics-data/data-analyses/rt_segment_speeds/trip_summary/trip_speeds_2023-11-15.parquet'"
      ]
     },
     "execution_count": 29,
     "metadata": {},
     "output_type": "execute_result"
    }
   ],
   "source": [
    "f\"{SEGMENT_GCS}trip_summary/trip_speeds_2023-11-15.parquet\""
   ]
  },
  {
   "cell_type": "code",
   "execution_count": 30,
   "id": "dbffcd12-64f3-490e-8854-18f518e6d88e",
   "metadata": {},
   "outputs": [],
   "source": [
    "speeds = pd.read_parquet(\n",
    "    f\"{SEGMENT_GCS}trip_summary/trip_speeds_2023-11-15.parquet\")"
   ]
  },
  {
   "cell_type": "markdown",
   "id": "90958a55-27ca-447f-8304-37773081c973",
   "metadata": {},
   "source": [
    "#### https://github.com/cal-itp/data-analyses/blob/main/rt_segment_speeds/scripts/avg_speeds_by_segment.py#L135"
   ]
  },
  {
   "cell_type": "code",
   "execution_count": 31,
   "id": "84cc7f28-1289-4df1-8073-cd6e71ed77a6",
   "metadata": {},
   "outputs": [],
   "source": [
    "keep_cols = [\n",
    "        \"gtfs_dataset_key\",\n",
    "        \"direction_id\", \n",
    "        \"route_id\", \"route_short_name\", \"route_long_name\", \"route_desc\", \"trip_instance_key\"\n",
    "    ]\n",
    "        \n",
    "crosswalk = helpers.import_scheduled_trips(\n",
    "        analysis_date, \n",
    "        columns = keep_cols, \n",
    "        get_pandas = True\n",
    "    )"
   ]
  },
  {
   "cell_type": "code",
   "execution_count": 32,
   "id": "0b4b0f0d-cc15-4f3e-b8c7-df8579831539",
   "metadata": {},
   "outputs": [
    {
     "data": {
      "text/html": [
       "<div>\n",
       "<style scoped>\n",
       "    .dataframe tbody tr th:only-of-type {\n",
       "        vertical-align: middle;\n",
       "    }\n",
       "\n",
       "    .dataframe tbody tr th {\n",
       "        vertical-align: top;\n",
       "    }\n",
       "\n",
       "    .dataframe thead th {\n",
       "        text-align: right;\n",
       "    }\n",
       "</style>\n",
       "<table border=\"1\" class=\"dataframe\">\n",
       "  <thead>\n",
       "    <tr style=\"text-align: right;\">\n",
       "      <th></th>\n",
       "      <th>trip_instance_key</th>\n",
       "      <th>rt_service_min</th>\n",
       "      <th>min_w_atleast2_trip_updates</th>\n",
       "      <th>total_pings_for_trip</th>\n",
       "      <th>total_min_w_gtfs</th>\n",
       "      <th>total_vp</th>\n",
       "      <th>vp_in_shape</th>\n",
       "      <th>speed_mph</th>\n",
       "      <th>route_id</th>\n",
       "      <th>time_of_day</th>\n",
       "      <th>service_minutes</th>\n",
       "      <th>pings_per_min</th>\n",
       "      <th>spatial_accuracy_pct</th>\n",
       "      <th>rt_triptime_w_gtfs_pct</th>\n",
       "      <th>rt_v_scheduled_trip_time_pct</th>\n",
       "    </tr>\n",
       "  </thead>\n",
       "  <tbody>\n",
       "    <tr>\n",
       "      <th>0</th>\n",
       "      <td>a3647253d4cc8f847e972ed8c83d1b9b</td>\n",
       "      <td>22.62</td>\n",
       "      <td>22</td>\n",
       "      <td>65</td>\n",
       "      <td>23</td>\n",
       "      <td>NaN</td>\n",
       "      <td>NaN</td>\n",
       "      <td>NaN</td>\n",
       "      <td>None</td>\n",
       "      <td>None</td>\n",
       "      <td>NaN</td>\n",
       "      <td>2.87</td>\n",
       "      <td>NaN</td>\n",
       "      <td>100.00</td>\n",
       "      <td>NaN</td>\n",
       "    </tr>\n",
       "    <tr>\n",
       "      <th>1</th>\n",
       "      <td>7029f592047be84e5bb1d28d299be35d</td>\n",
       "      <td>16.93</td>\n",
       "      <td>16</td>\n",
       "      <td>48</td>\n",
       "      <td>17</td>\n",
       "      <td>NaN</td>\n",
       "      <td>NaN</td>\n",
       "      <td>NaN</td>\n",
       "      <td>None</td>\n",
       "      <td>None</td>\n",
       "      <td>NaN</td>\n",
       "      <td>2.83</td>\n",
       "      <td>NaN</td>\n",
       "      <td>100.00</td>\n",
       "      <td>NaN</td>\n",
       "    </tr>\n",
       "    <tr>\n",
       "      <th>2</th>\n",
       "      <td>1040196034fd380818a2cbcf1eafd9b8</td>\n",
       "      <td>40.95</td>\n",
       "      <td>40</td>\n",
       "      <td>118</td>\n",
       "      <td>41</td>\n",
       "      <td>NaN</td>\n",
       "      <td>NaN</td>\n",
       "      <td>NaN</td>\n",
       "      <td>None</td>\n",
       "      <td>None</td>\n",
       "      <td>NaN</td>\n",
       "      <td>2.88</td>\n",
       "      <td>NaN</td>\n",
       "      <td>100.00</td>\n",
       "      <td>NaN</td>\n",
       "    </tr>\n",
       "    <tr>\n",
       "      <th>3</th>\n",
       "      <td>5c6d43026fe5f02e5b31c18fcb8c0bf5</td>\n",
       "      <td>62.95</td>\n",
       "      <td>61</td>\n",
       "      <td>176</td>\n",
       "      <td>63</td>\n",
       "      <td>NaN</td>\n",
       "      <td>NaN</td>\n",
       "      <td>NaN</td>\n",
       "      <td>None</td>\n",
       "      <td>None</td>\n",
       "      <td>NaN</td>\n",
       "      <td>2.80</td>\n",
       "      <td>NaN</td>\n",
       "      <td>100.00</td>\n",
       "      <td>NaN</td>\n",
       "    </tr>\n",
       "    <tr>\n",
       "      <th>4</th>\n",
       "      <td>ee2f1fd83d87e85119f66014da5d74d5</td>\n",
       "      <td>14.07</td>\n",
       "      <td>13</td>\n",
       "      <td>37</td>\n",
       "      <td>15</td>\n",
       "      <td>NaN</td>\n",
       "      <td>NaN</td>\n",
       "      <td>NaN</td>\n",
       "      <td>None</td>\n",
       "      <td>None</td>\n",
       "      <td>NaN</td>\n",
       "      <td>2.63</td>\n",
       "      <td>NaN</td>\n",
       "      <td>100.00</td>\n",
       "      <td>NaN</td>\n",
       "    </tr>\n",
       "  </tbody>\n",
       "</table>\n",
       "</div>"
      ],
      "text/plain": [
       "                  trip_instance_key  rt_service_min  \\\n",
       "0  a3647253d4cc8f847e972ed8c83d1b9b           22.62   \n",
       "1  7029f592047be84e5bb1d28d299be35d           16.93   \n",
       "2  1040196034fd380818a2cbcf1eafd9b8           40.95   \n",
       "3  5c6d43026fe5f02e5b31c18fcb8c0bf5           62.95   \n",
       "4  ee2f1fd83d87e85119f66014da5d74d5           14.07   \n",
       "\n",
       "   min_w_atleast2_trip_updates  total_pings_for_trip  total_min_w_gtfs  \\\n",
       "0                           22                    65                23   \n",
       "1                           16                    48                17   \n",
       "2                           40                   118                41   \n",
       "3                           61                   176                63   \n",
       "4                           13                    37                15   \n",
       "\n",
       "   total_vp  vp_in_shape  speed_mph route_id time_of_day  service_minutes  \\\n",
       "0       NaN          NaN        NaN     None        None              NaN   \n",
       "1       NaN          NaN        NaN     None        None              NaN   \n",
       "2       NaN          NaN        NaN     None        None              NaN   \n",
       "3       NaN          NaN        NaN     None        None              NaN   \n",
       "4       NaN          NaN        NaN     None        None              NaN   \n",
       "\n",
       "   pings_per_min  spatial_accuracy_pct  rt_triptime_w_gtfs_pct  \\\n",
       "0           2.87                   NaN                  100.00   \n",
       "1           2.83                   NaN                  100.00   \n",
       "2           2.88                   NaN                  100.00   \n",
       "3           2.80                   NaN                  100.00   \n",
       "4           2.63                   NaN                  100.00   \n",
       "\n",
       "   rt_v_scheduled_trip_time_pct  \n",
       "0                           NaN  \n",
       "1                           NaN  \n",
       "2                           NaN  \n",
       "3                           NaN  \n",
       "4                           NaN  "
      ]
     },
     "execution_count": 32,
     "metadata": {},
     "output_type": "execute_result"
    }
   ],
   "source": [
    "nov_df.head()"
   ]
  },
  {
   "cell_type": "code",
   "execution_count": 33,
   "id": "1e89939b-1bca-4670-955f-013c16949ec9",
   "metadata": {},
   "outputs": [
    {
     "data": {
      "text/html": [
       "<div>\n",
       "<style scoped>\n",
       "    .dataframe tbody tr th:only-of-type {\n",
       "        vertical-align: middle;\n",
       "    }\n",
       "\n",
       "    .dataframe tbody tr th {\n",
       "        vertical-align: top;\n",
       "    }\n",
       "\n",
       "    .dataframe thead th {\n",
       "        text-align: right;\n",
       "    }\n",
       "</style>\n",
       "<table border=\"1\" class=\"dataframe\">\n",
       "  <thead>\n",
       "    <tr style=\"text-align: right;\">\n",
       "      <th></th>\n",
       "      <th>schedule_gtfs_dataset_key</th>\n",
       "      <th>direction_id</th>\n",
       "      <th>route_id</th>\n",
       "      <th>route_short_name</th>\n",
       "      <th>route_long_name</th>\n",
       "      <th>route_desc</th>\n",
       "      <th>trip_instance_key</th>\n",
       "    </tr>\n",
       "  </thead>\n",
       "  <tbody>\n",
       "    <tr>\n",
       "      <th>0</th>\n",
       "      <td>1770249a5a2e770ca90628434d4934b1</td>\n",
       "      <td>1.00</td>\n",
       "      <td>3402</td>\n",
       "      <td>Route 11</td>\n",
       "      <td>Route 11</td>\n",
       "      <td>PACIFIC VIEW MALL via TELEPHONE RD</td>\n",
       "      <td>ed6aa732d8c47e4df3a2f7ba9d24415c</td>\n",
       "    </tr>\n",
       "    <tr>\n",
       "      <th>1</th>\n",
       "      <td>1770249a5a2e770ca90628434d4934b1</td>\n",
       "      <td>1.00</td>\n",
       "      <td>3402</td>\n",
       "      <td>Route 11</td>\n",
       "      <td>Route 11</td>\n",
       "      <td>PACIFIC VIEW MALL via TELEPHONE RD</td>\n",
       "      <td>72b2c8bdebbf14039af7c57133cc23e5</td>\n",
       "    </tr>\n",
       "  </tbody>\n",
       "</table>\n",
       "</div>"
      ],
      "text/plain": [
       "          schedule_gtfs_dataset_key  direction_id route_id route_short_name  \\\n",
       "0  1770249a5a2e770ca90628434d4934b1          1.00     3402         Route 11   \n",
       "1  1770249a5a2e770ca90628434d4934b1          1.00     3402         Route 11   \n",
       "\n",
       "  route_long_name                          route_desc  \\\n",
       "0        Route 11  PACIFIC VIEW MALL via TELEPHONE RD   \n",
       "1        Route 11  PACIFIC VIEW MALL via TELEPHONE RD   \n",
       "\n",
       "                  trip_instance_key  \n",
       "0  ed6aa732d8c47e4df3a2f7ba9d24415c  \n",
       "1  72b2c8bdebbf14039af7c57133cc23e5  "
      ]
     },
     "execution_count": 33,
     "metadata": {},
     "output_type": "execute_result"
    }
   ],
   "source": [
    "crosswalk.head(2)"
   ]
  },
  {
   "cell_type": "code",
   "execution_count": 34,
   "id": "e862de9a-47dc-42e0-aec3-81645a09afea",
   "metadata": {},
   "outputs": [],
   "source": [
    "common_shape = sched_rt_utils.most_common_shape_by_route_direction(analysis_date)"
   ]
  },
  {
   "cell_type": "code",
   "execution_count": 35,
   "id": "1dec5d15-718e-467f-b7a6-cfc5ad594d6e",
   "metadata": {},
   "outputs": [
    {
     "data": {
      "text/plain": [
       "'2023-11-15'"
      ]
     },
     "execution_count": 35,
     "metadata": {},
     "output_type": "execute_result"
    }
   ],
   "source": [
    "analysis_date"
   ]
  },
  {
   "cell_type": "code",
   "execution_count": 36,
   "id": "d6578b42-82b3-4edf-b97b-b4092c6f17ba",
   "metadata": {},
   "outputs": [
    {
     "data": {
      "text/html": [
       "<div>\n",
       "<style scoped>\n",
       "    .dataframe tbody tr th:only-of-type {\n",
       "        vertical-align: middle;\n",
       "    }\n",
       "\n",
       "    .dataframe tbody tr th {\n",
       "        vertical-align: top;\n",
       "    }\n",
       "\n",
       "    .dataframe thead th {\n",
       "        text-align: right;\n",
       "    }\n",
       "</style>\n",
       "<table border=\"1\" class=\"dataframe\">\n",
       "  <thead>\n",
       "    <tr style=\"text-align: right;\">\n",
       "      <th></th>\n",
       "      <th>schedule_gtfs_dataset_key</th>\n",
       "      <th>route_id</th>\n",
       "      <th>direction_id</th>\n",
       "      <th>common_shape_id</th>\n",
       "      <th>shape_array_key</th>\n",
       "    </tr>\n",
       "  </thead>\n",
       "  <tbody>\n",
       "    <tr>\n",
       "      <th>0</th>\n",
       "      <td>014d0998350083249a9eb310635548c2</td>\n",
       "      <td>10866826</td>\n",
       "      <td>1.00</td>\n",
       "      <td>10866826:1</td>\n",
       "      <td>a7f294e50a9a8ff179d4c82cd9136625</td>\n",
       "    </tr>\n",
       "    <tr>\n",
       "      <th>1</th>\n",
       "      <td>014d0998350083249a9eb310635548c2</td>\n",
       "      <td>10866849</td>\n",
       "      <td>1.00</td>\n",
       "      <td>10866849:1</td>\n",
       "      <td>af9aea31d387f59024bf25fb1d9334a3</td>\n",
       "    </tr>\n",
       "  </tbody>\n",
       "</table>\n",
       "</div>"
      ],
      "text/plain": [
       "          schedule_gtfs_dataset_key  route_id  direction_id common_shape_id  \\\n",
       "0  014d0998350083249a9eb310635548c2  10866826          1.00      10866826:1   \n",
       "1  014d0998350083249a9eb310635548c2  10866849          1.00      10866849:1   \n",
       "\n",
       "                    shape_array_key  \n",
       "0  a7f294e50a9a8ff179d4c82cd9136625  \n",
       "1  af9aea31d387f59024bf25fb1d9334a3  "
      ]
     },
     "execution_count": 36,
     "metadata": {},
     "output_type": "execute_result"
    }
   ],
   "source": [
    "common_shape.head(2)"
   ]
  },
  {
   "cell_type": "code",
   "execution_count": 37,
   "id": "aba49709-75e1-43e2-84a0-953fc3219206",
   "metadata": {},
   "outputs": [],
   "source": [
    "crosswalk2 = pd.merge(\n",
    "        crosswalk,\n",
    "        common_shape,\n",
    "        on = [\"schedule_gtfs_dataset_key\", \"route_id\", \"direction_id\"],\n",
    "        how = \"inner\"\n",
    "    ).astype({\"direction_id\": \"Int64\"})"
   ]
  },
  {
   "cell_type": "code",
   "execution_count": 38,
   "id": "f23a0e8a-e7f3-411e-a6c0-784c87e559ed",
   "metadata": {},
   "outputs": [],
   "source": [
    "time_of_day = sched_rt_utils.get_trip_time_buckets(analysis_date)"
   ]
  },
  {
   "cell_type": "code",
   "execution_count": 39,
   "id": "99381d4c-b338-4e04-a351-b077c6b94224",
   "metadata": {},
   "outputs": [
    {
     "data": {
      "text/html": [
       "<div>\n",
       "<style scoped>\n",
       "    .dataframe tbody tr th:only-of-type {\n",
       "        vertical-align: middle;\n",
       "    }\n",
       "\n",
       "    .dataframe tbody tr th {\n",
       "        vertical-align: top;\n",
       "    }\n",
       "\n",
       "    .dataframe thead th {\n",
       "        text-align: right;\n",
       "    }\n",
       "</style>\n",
       "<table border=\"1\" class=\"dataframe\">\n",
       "  <thead>\n",
       "    <tr style=\"text-align: right;\">\n",
       "      <th></th>\n",
       "      <th>trip_instance_key</th>\n",
       "      <th>service_hours</th>\n",
       "      <th>trip_first_departure_datetime_pacific</th>\n",
       "      <th>time_of_day</th>\n",
       "      <th>service_minutes</th>\n",
       "    </tr>\n",
       "  </thead>\n",
       "  <tbody>\n",
       "    <tr>\n",
       "      <th>0</th>\n",
       "      <td>ed6aa732d8c47e4df3a2f7ba9d24415c</td>\n",
       "      <td>0.60</td>\n",
       "      <td>2023-11-15 15:10:00</td>\n",
       "      <td>PM Peak</td>\n",
       "      <td>36.00</td>\n",
       "    </tr>\n",
       "    <tr>\n",
       "      <th>1</th>\n",
       "      <td>72b2c8bdebbf14039af7c57133cc23e5</td>\n",
       "      <td>0.55</td>\n",
       "      <td>2023-11-15 16:40:00</td>\n",
       "      <td>PM Peak</td>\n",
       "      <td>33.00</td>\n",
       "    </tr>\n",
       "    <tr>\n",
       "      <th>2</th>\n",
       "      <td>e829a24393004fd97a0c6da2efd2b38b</td>\n",
       "      <td>0.53</td>\n",
       "      <td>2023-11-15 06:40:00</td>\n",
       "      <td>Early AM</td>\n",
       "      <td>32.00</td>\n",
       "    </tr>\n",
       "    <tr>\n",
       "      <th>3</th>\n",
       "      <td>05c66c28220d0a7982980194c8d479f6</td>\n",
       "      <td>0.55</td>\n",
       "      <td>2023-11-15 19:05:00</td>\n",
       "      <td>PM Peak</td>\n",
       "      <td>33.00</td>\n",
       "    </tr>\n",
       "    <tr>\n",
       "      <th>4</th>\n",
       "      <td>169af6136355af8248800d0c1c0916b7</td>\n",
       "      <td>0.55</td>\n",
       "      <td>2023-11-15 17:10:00</td>\n",
       "      <td>PM Peak</td>\n",
       "      <td>33.00</td>\n",
       "    </tr>\n",
       "  </tbody>\n",
       "</table>\n",
       "</div>"
      ],
      "text/plain": [
       "                  trip_instance_key  service_hours  \\\n",
       "0  ed6aa732d8c47e4df3a2f7ba9d24415c           0.60   \n",
       "1  72b2c8bdebbf14039af7c57133cc23e5           0.55   \n",
       "2  e829a24393004fd97a0c6da2efd2b38b           0.53   \n",
       "3  05c66c28220d0a7982980194c8d479f6           0.55   \n",
       "4  169af6136355af8248800d0c1c0916b7           0.55   \n",
       "\n",
       "  trip_first_departure_datetime_pacific time_of_day  service_minutes  \n",
       "0                   2023-11-15 15:10:00     PM Peak            36.00  \n",
       "1                   2023-11-15 16:40:00     PM Peak            33.00  \n",
       "2                   2023-11-15 06:40:00    Early AM            32.00  \n",
       "3                   2023-11-15 19:05:00     PM Peak            33.00  \n",
       "4                   2023-11-15 17:10:00     PM Peak            33.00  "
      ]
     },
     "execution_count": 39,
     "metadata": {},
     "output_type": "execute_result"
    }
   ],
   "source": [
    "time_of_day.head()"
   ]
  },
  {
   "cell_type": "code",
   "execution_count": 40,
   "id": "3defcf73-8930-48c7-ae05-7e3ec263887a",
   "metadata": {},
   "outputs": [],
   "source": [
    "crosswalk2 = portfolio_utils.add_route_name(\n",
    "        crosswalk2\n",
    "    ).drop(columns = [\"route_short_name\", \"route_long_name\", \"route_desc\"])\n"
   ]
  },
  {
   "cell_type": "code",
   "execution_count": 41,
   "id": "67e1a70f-d21c-4a9d-b4a3-2ebde459b4e1",
   "metadata": {},
   "outputs": [],
   "source": [
    "df = pd.merge(\n",
    "        nov_df2,\n",
    "        crosswalk2,\n",
    "        on = \"trip_instance_key\",\n",
    "        how = \"left\",\n",
    "    ).merge(\n",
    "        time_of_day,\n",
    "        on = \"trip_instance_key\",\n",
    "        how = \"left\"\n",
    "    )"
   ]
  },
  {
   "cell_type": "code",
   "execution_count": 42,
   "id": "4576ab1e-2bde-4420-8254-7c8e2a2700d5",
   "metadata": {},
   "outputs": [
    {
     "data": {
      "text/html": [
       "<div>\n",
       "<style scoped>\n",
       "    .dataframe tbody tr th:only-of-type {\n",
       "        vertical-align: middle;\n",
       "    }\n",
       "\n",
       "    .dataframe tbody tr th {\n",
       "        vertical-align: top;\n",
       "    }\n",
       "\n",
       "    .dataframe thead th {\n",
       "        text-align: right;\n",
       "    }\n",
       "</style>\n",
       "<table border=\"1\" class=\"dataframe\">\n",
       "  <thead>\n",
       "    <tr style=\"text-align: right;\">\n",
       "      <th></th>\n",
       "      <th>trip_instance_key</th>\n",
       "      <th>rt_service_min</th>\n",
       "      <th>min_w_atleast2_trip_updates</th>\n",
       "      <th>total_pings_for_trip</th>\n",
       "      <th>total_min_w_gtfs</th>\n",
       "      <th>total_vp</th>\n",
       "      <th>vp_in_shape</th>\n",
       "      <th>speed_mph</th>\n",
       "      <th>pings_per_min</th>\n",
       "      <th>spatial_accuracy_pct</th>\n",
       "      <th>rt_triptime_w_gtfs_pct</th>\n",
       "      <th>rt_v_scheduled_trip_time_pct</th>\n",
       "      <th>schedule_gtfs_dataset_key</th>\n",
       "      <th>direction_id</th>\n",
       "      <th>route_id</th>\n",
       "      <th>common_shape_id</th>\n",
       "      <th>shape_array_key</th>\n",
       "      <th>route_name_used</th>\n",
       "      <th>service_hours</th>\n",
       "      <th>trip_first_departure_datetime_pacific</th>\n",
       "      <th>time_of_day</th>\n",
       "      <th>service_minutes</th>\n",
       "    </tr>\n",
       "  </thead>\n",
       "  <tbody>\n",
       "    <tr>\n",
       "      <th>0</th>\n",
       "      <td>a3647253d4cc8f847e972ed8c83d1b9b</td>\n",
       "      <td>22.62</td>\n",
       "      <td>22</td>\n",
       "      <td>65</td>\n",
       "      <td>23</td>\n",
       "      <td>NaN</td>\n",
       "      <td>NaN</td>\n",
       "      <td>NaN</td>\n",
       "      <td>2.87</td>\n",
       "      <td>NaN</td>\n",
       "      <td>100.00</td>\n",
       "      <td>NaN</td>\n",
       "      <td>NaN</td>\n",
       "      <td>&lt;NA&gt;</td>\n",
       "      <td>NaN</td>\n",
       "      <td>NaN</td>\n",
       "      <td>NaN</td>\n",
       "      <td>NaN</td>\n",
       "      <td>NaN</td>\n",
       "      <td>NaT</td>\n",
       "      <td>NaN</td>\n",
       "      <td>NaN</td>\n",
       "    </tr>\n",
       "    <tr>\n",
       "      <th>1</th>\n",
       "      <td>7029f592047be84e5bb1d28d299be35d</td>\n",
       "      <td>16.93</td>\n",
       "      <td>16</td>\n",
       "      <td>48</td>\n",
       "      <td>17</td>\n",
       "      <td>NaN</td>\n",
       "      <td>NaN</td>\n",
       "      <td>NaN</td>\n",
       "      <td>2.83</td>\n",
       "      <td>NaN</td>\n",
       "      <td>100.00</td>\n",
       "      <td>NaN</td>\n",
       "      <td>NaN</td>\n",
       "      <td>&lt;NA&gt;</td>\n",
       "      <td>NaN</td>\n",
       "      <td>NaN</td>\n",
       "      <td>NaN</td>\n",
       "      <td>NaN</td>\n",
       "      <td>NaN</td>\n",
       "      <td>NaT</td>\n",
       "      <td>NaN</td>\n",
       "      <td>NaN</td>\n",
       "    </tr>\n",
       "    <tr>\n",
       "      <th>2</th>\n",
       "      <td>1040196034fd380818a2cbcf1eafd9b8</td>\n",
       "      <td>40.95</td>\n",
       "      <td>40</td>\n",
       "      <td>118</td>\n",
       "      <td>41</td>\n",
       "      <td>NaN</td>\n",
       "      <td>NaN</td>\n",
       "      <td>NaN</td>\n",
       "      <td>2.88</td>\n",
       "      <td>NaN</td>\n",
       "      <td>100.00</td>\n",
       "      <td>NaN</td>\n",
       "      <td>NaN</td>\n",
       "      <td>&lt;NA&gt;</td>\n",
       "      <td>NaN</td>\n",
       "      <td>NaN</td>\n",
       "      <td>NaN</td>\n",
       "      <td>NaN</td>\n",
       "      <td>NaN</td>\n",
       "      <td>NaT</td>\n",
       "      <td>NaN</td>\n",
       "      <td>NaN</td>\n",
       "    </tr>\n",
       "    <tr>\n",
       "      <th>3</th>\n",
       "      <td>5c6d43026fe5f02e5b31c18fcb8c0bf5</td>\n",
       "      <td>62.95</td>\n",
       "      <td>61</td>\n",
       "      <td>176</td>\n",
       "      <td>63</td>\n",
       "      <td>NaN</td>\n",
       "      <td>NaN</td>\n",
       "      <td>NaN</td>\n",
       "      <td>2.80</td>\n",
       "      <td>NaN</td>\n",
       "      <td>100.00</td>\n",
       "      <td>NaN</td>\n",
       "      <td>NaN</td>\n",
       "      <td>&lt;NA&gt;</td>\n",
       "      <td>NaN</td>\n",
       "      <td>NaN</td>\n",
       "      <td>NaN</td>\n",
       "      <td>NaN</td>\n",
       "      <td>NaN</td>\n",
       "      <td>NaT</td>\n",
       "      <td>NaN</td>\n",
       "      <td>NaN</td>\n",
       "    </tr>\n",
       "    <tr>\n",
       "      <th>4</th>\n",
       "      <td>ee2f1fd83d87e85119f66014da5d74d5</td>\n",
       "      <td>14.07</td>\n",
       "      <td>13</td>\n",
       "      <td>37</td>\n",
       "      <td>15</td>\n",
       "      <td>NaN</td>\n",
       "      <td>NaN</td>\n",
       "      <td>NaN</td>\n",
       "      <td>2.63</td>\n",
       "      <td>NaN</td>\n",
       "      <td>100.00</td>\n",
       "      <td>NaN</td>\n",
       "      <td>NaN</td>\n",
       "      <td>&lt;NA&gt;</td>\n",
       "      <td>NaN</td>\n",
       "      <td>NaN</td>\n",
       "      <td>NaN</td>\n",
       "      <td>NaN</td>\n",
       "      <td>NaN</td>\n",
       "      <td>NaT</td>\n",
       "      <td>NaN</td>\n",
       "      <td>NaN</td>\n",
       "    </tr>\n",
       "  </tbody>\n",
       "</table>\n",
       "</div>"
      ],
      "text/plain": [
       "                  trip_instance_key  rt_service_min  \\\n",
       "0  a3647253d4cc8f847e972ed8c83d1b9b           22.62   \n",
       "1  7029f592047be84e5bb1d28d299be35d           16.93   \n",
       "2  1040196034fd380818a2cbcf1eafd9b8           40.95   \n",
       "3  5c6d43026fe5f02e5b31c18fcb8c0bf5           62.95   \n",
       "4  ee2f1fd83d87e85119f66014da5d74d5           14.07   \n",
       "\n",
       "   min_w_atleast2_trip_updates  total_pings_for_trip  total_min_w_gtfs  \\\n",
       "0                           22                    65                23   \n",
       "1                           16                    48                17   \n",
       "2                           40                   118                41   \n",
       "3                           61                   176                63   \n",
       "4                           13                    37                15   \n",
       "\n",
       "   total_vp  vp_in_shape  speed_mph  pings_per_min  spatial_accuracy_pct  \\\n",
       "0       NaN          NaN        NaN           2.87                   NaN   \n",
       "1       NaN          NaN        NaN           2.83                   NaN   \n",
       "2       NaN          NaN        NaN           2.88                   NaN   \n",
       "3       NaN          NaN        NaN           2.80                   NaN   \n",
       "4       NaN          NaN        NaN           2.63                   NaN   \n",
       "\n",
       "   rt_triptime_w_gtfs_pct  rt_v_scheduled_trip_time_pct  \\\n",
       "0                  100.00                           NaN   \n",
       "1                  100.00                           NaN   \n",
       "2                  100.00                           NaN   \n",
       "3                  100.00                           NaN   \n",
       "4                  100.00                           NaN   \n",
       "\n",
       "  schedule_gtfs_dataset_key  direction_id route_id common_shape_id  \\\n",
       "0                       NaN          <NA>      NaN             NaN   \n",
       "1                       NaN          <NA>      NaN             NaN   \n",
       "2                       NaN          <NA>      NaN             NaN   \n",
       "3                       NaN          <NA>      NaN             NaN   \n",
       "4                       NaN          <NA>      NaN             NaN   \n",
       "\n",
       "  shape_array_key route_name_used  service_hours  \\\n",
       "0             NaN             NaN            NaN   \n",
       "1             NaN             NaN            NaN   \n",
       "2             NaN             NaN            NaN   \n",
       "3             NaN             NaN            NaN   \n",
       "4             NaN             NaN            NaN   \n",
       "\n",
       "  trip_first_departure_datetime_pacific time_of_day  service_minutes  \n",
       "0                                   NaT         NaN              NaN  \n",
       "1                                   NaT         NaN              NaN  \n",
       "2                                   NaT         NaN              NaN  \n",
       "3                                   NaT         NaN              NaN  \n",
       "4                                   NaT         NaN              NaN  "
      ]
     },
     "execution_count": 42,
     "metadata": {},
     "output_type": "execute_result"
    }
   ],
   "source": [
    "df.head()"
   ]
  },
  {
   "cell_type": "markdown",
   "id": "d2ff8a3d-d3f5-42b4-b096-24b33b9842ca",
   "metadata": {},
   "source": [
    "#### https://github.com/cal-itp/data-analyses/blob/main/rt_segment_speeds/scripts/export.py#L150\n",
    "* Should I still drop overly quick speeds?"
   ]
  },
  {
   "cell_type": "code",
   "execution_count": 43,
   "id": "6f9d6077-0551-42e0-830c-a262364770f0",
   "metadata": {},
   "outputs": [],
   "source": [
    "df2 = df.loc[df.speed_mph <= 70].reset_index(drop = True)"
   ]
  },
  {
   "cell_type": "code",
   "execution_count": 44,
   "id": "e7ce443a-b466-4d07-a613-cfc05a1b764d",
   "metadata": {},
   "outputs": [
    {
     "data": {
      "text/plain": [
       "(77170, 86832)"
      ]
     },
     "execution_count": 44,
     "metadata": {},
     "output_type": "execute_result"
    }
   ],
   "source": [
    "len(df2), len(df)"
   ]
  },
  {
   "cell_type": "code",
   "execution_count": 45,
   "id": "b3695f80-f817-4e3f-b882-5f37e0c277ae",
   "metadata": {},
   "outputs": [],
   "source": [
    "route_cols = [\n",
    "        \"schedule_gtfs_dataset_key\", \"time_of_day\",\n",
    "        \"route_id\", \"direction_id\",\n",
    "        \"route_name_used\",\n",
    "        \"common_shape_id\", \"shape_array_key\"\n",
    "    ]"
   ]
  },
  {
   "cell_type": "code",
   "execution_count": 46,
   "id": "7f232164-7199-4ee2-9231-acf633509d89",
   "metadata": {},
   "outputs": [
    {
     "data": {
      "text/html": [
       "<div>\n",
       "<style scoped>\n",
       "    .dataframe tbody tr th:only-of-type {\n",
       "        vertical-align: middle;\n",
       "    }\n",
       "\n",
       "    .dataframe tbody tr th {\n",
       "        vertical-align: top;\n",
       "    }\n",
       "\n",
       "    .dataframe thead th {\n",
       "        text-align: right;\n",
       "    }\n",
       "</style>\n",
       "<table border=\"1\" class=\"dataframe\">\n",
       "  <thead>\n",
       "    <tr style=\"text-align: right;\">\n",
       "      <th></th>\n",
       "      <th>trip_instance_key</th>\n",
       "      <th>rt_service_min</th>\n",
       "      <th>min_w_atleast2_trip_updates</th>\n",
       "      <th>total_pings_for_trip</th>\n",
       "      <th>total_min_w_gtfs</th>\n",
       "      <th>total_vp</th>\n",
       "      <th>vp_in_shape</th>\n",
       "      <th>speed_mph</th>\n",
       "      <th>pings_per_min</th>\n",
       "      <th>spatial_accuracy_pct</th>\n",
       "      <th>rt_triptime_w_gtfs_pct</th>\n",
       "      <th>rt_v_scheduled_trip_time_pct</th>\n",
       "      <th>schedule_gtfs_dataset_key</th>\n",
       "      <th>direction_id</th>\n",
       "      <th>route_id</th>\n",
       "      <th>common_shape_id</th>\n",
       "      <th>shape_array_key</th>\n",
       "      <th>route_name_used</th>\n",
       "      <th>service_hours</th>\n",
       "      <th>trip_first_departure_datetime_pacific</th>\n",
       "      <th>time_of_day</th>\n",
       "      <th>service_minutes</th>\n",
       "    </tr>\n",
       "  </thead>\n",
       "  <tbody>\n",
       "    <tr>\n",
       "      <th>62094</th>\n",
       "      <td>e77edc665d02c0c34d16290e6d3caad6</td>\n",
       "      <td>38.32</td>\n",
       "      <td>38</td>\n",
       "      <td>112</td>\n",
       "      <td>39</td>\n",
       "      <td>112.00</td>\n",
       "      <td>111.00</td>\n",
       "      <td>12.84</td>\n",
       "      <td>2.92</td>\n",
       "      <td>99.11</td>\n",
       "      <td>100.00</td>\n",
       "      <td>53.27</td>\n",
       "      <td>7cc0cb1871dfd558f11a2885c145d144</td>\n",
       "      <td>1</td>\n",
       "      <td>37</td>\n",
       "      <td>3751</td>\n",
       "      <td>347b53a6f1c73d92b970c56cee4aa2d1</td>\n",
       "      <td>Weekdays 6am-9pm Weekends 9am-9pm</td>\n",
       "      <td>0.42</td>\n",
       "      <td>2023-11-15 22:00:00</td>\n",
       "      <td>Evening</td>\n",
       "      <td>25.00</td>\n",
       "    </tr>\n",
       "    <tr>\n",
       "      <th>25552</th>\n",
       "      <td>ecb5631c1349a15c70b673e25fc54827</td>\n",
       "      <td>47.93</td>\n",
       "      <td>47</td>\n",
       "      <td>141</td>\n",
       "      <td>48</td>\n",
       "      <td>141.00</td>\n",
       "      <td>140.00</td>\n",
       "      <td>10.13</td>\n",
       "      <td>2.94</td>\n",
       "      <td>99.29</td>\n",
       "      <td>100.00</td>\n",
       "      <td>22.91</td>\n",
       "      <td>3f3f36b4c41cc6b5df3eb7f5d8ea6e3c</td>\n",
       "      <td>0</td>\n",
       "      <td>690-13168</td>\n",
       "      <td>6900006_JUNE23</td>\n",
       "      <td>1a819c320e5f644df0a9bbabc869b049</td>\n",
       "      <td>SYLMAR OLIVE VIEW HOSP. - SUNLAND VIA FOOTHILL BL</td>\n",
       "      <td>0.65</td>\n",
       "      <td>2023-11-15 16:32:00</td>\n",
       "      <td>PM Peak</td>\n",
       "      <td>39.00</td>\n",
       "    </tr>\n",
       "  </tbody>\n",
       "</table>\n",
       "</div>"
      ],
      "text/plain": [
       "                      trip_instance_key  rt_service_min  \\\n",
       "62094  e77edc665d02c0c34d16290e6d3caad6           38.32   \n",
       "25552  ecb5631c1349a15c70b673e25fc54827           47.93   \n",
       "\n",
       "       min_w_atleast2_trip_updates  total_pings_for_trip  total_min_w_gtfs  \\\n",
       "62094                           38                   112                39   \n",
       "25552                           47                   141                48   \n",
       "\n",
       "       total_vp  vp_in_shape  speed_mph  pings_per_min  spatial_accuracy_pct  \\\n",
       "62094    112.00       111.00      12.84           2.92                 99.11   \n",
       "25552    141.00       140.00      10.13           2.94                 99.29   \n",
       "\n",
       "       rt_triptime_w_gtfs_pct  rt_v_scheduled_trip_time_pct  \\\n",
       "62094                  100.00                         53.27   \n",
       "25552                  100.00                         22.91   \n",
       "\n",
       "              schedule_gtfs_dataset_key  direction_id   route_id  \\\n",
       "62094  7cc0cb1871dfd558f11a2885c145d144             1         37   \n",
       "25552  3f3f36b4c41cc6b5df3eb7f5d8ea6e3c             0  690-13168   \n",
       "\n",
       "      common_shape_id                   shape_array_key  \\\n",
       "62094            3751  347b53a6f1c73d92b970c56cee4aa2d1   \n",
       "25552  6900006_JUNE23  1a819c320e5f644df0a9bbabc869b049   \n",
       "\n",
       "                                         route_name_used  service_hours  \\\n",
       "62094                  Weekdays 6am-9pm Weekends 9am-9pm           0.42   \n",
       "25552  SYLMAR OLIVE VIEW HOSP. - SUNLAND VIA FOOTHILL BL           0.65   \n",
       "\n",
       "      trip_first_departure_datetime_pacific time_of_day  service_minutes  \n",
       "62094                   2023-11-15 22:00:00     Evening            25.00  \n",
       "25552                   2023-11-15 16:32:00     PM Peak            39.00  "
      ]
     },
     "execution_count": 46,
     "metadata": {},
     "output_type": "execute_result"
    }
   ],
   "source": [
    "df2.sample(2)"
   ]
  },
  {
   "cell_type": "code",
   "execution_count": 47,
   "id": "dcd9a500-aba4-42bd-bf15-b8d1f302fb00",
   "metadata": {},
   "outputs": [
    {
     "name": "stdout",
     "output_type": "stream",
     "text": [
      "<class 'pandas.core.frame.DataFrame'>\n",
      "RangeIndex: 77170 entries, 0 to 77169\n",
      "Data columns (total 22 columns):\n",
      " #   Column                                 Non-Null Count  Dtype         \n",
      "---  ------                                 --------------  -----         \n",
      " 0   trip_instance_key                      77170 non-null  object        \n",
      " 1   rt_service_min                         77170 non-null  float64       \n",
      " 2   min_w_atleast2_trip_updates            77170 non-null  int64         \n",
      " 3   total_pings_for_trip                   77170 non-null  int64         \n",
      " 4   total_min_w_gtfs                       77170 non-null  int64         \n",
      " 5   total_vp                               74245 non-null  float64       \n",
      " 6   vp_in_shape                            74245 non-null  float64       \n",
      " 7   speed_mph                              77170 non-null  float64       \n",
      " 8   pings_per_min                          77170 non-null  float64       \n",
      " 9   spatial_accuracy_pct                   74245 non-null  float64       \n",
      " 10  rt_triptime_w_gtfs_pct                 77170 non-null  float64       \n",
      " 11  rt_v_scheduled_trip_time_pct           77170 non-null  float64       \n",
      " 12  schedule_gtfs_dataset_key              75595 non-null  object        \n",
      " 13  direction_id                           75595 non-null  Int64         \n",
      " 14  route_id                               75595 non-null  object        \n",
      " 15  common_shape_id                        75595 non-null  object        \n",
      " 16  shape_array_key                        75595 non-null  object        \n",
      " 17  route_name_used                        75595 non-null  object        \n",
      " 18  service_hours                          77170 non-null  float64       \n",
      " 19  trip_first_departure_datetime_pacific  77170 non-null  datetime64[ns]\n",
      " 20  time_of_day                            77170 non-null  object        \n",
      " 21  service_minutes                        77170 non-null  float64       \n",
      "dtypes: Int64(1), datetime64[ns](1), float64(10), int64(3), object(7)\n",
      "memory usage: 13.0+ MB\n"
     ]
    }
   ],
   "source": [
    "df2.info()"
   ]
  },
  {
   "cell_type": "code",
   "execution_count": 48,
   "id": "e964a1f0-b66c-4d7f-92d0-c72e7c7bf39c",
   "metadata": {},
   "outputs": [],
   "source": [
    "df3 = (df2.groupby(route_cols)\n",
    "           .agg({\n",
    "               \"service_minutes\": \"mean\",\n",
    "               \"rt_service_min\": \"mean\",\n",
    "               \"speed_mph\": \"mean\",\n",
    "               \"pings_per_min\":\"mean\",\n",
    "               \"total_vp\":\"mean\",\n",
    "               \"vp_in_shape\":\"mean\",\n",
    "               \"trip_instance_key\": \"count\"\n",
    "           }).reset_index()\n",
    ")     "
   ]
  },
  {
   "cell_type": "code",
   "execution_count": 49,
   "id": "365803c0-a864-49ab-bb34-dcf2e936e867",
   "metadata": {},
   "outputs": [],
   "source": [
    "df4 = df3.assign(\n",
    "        rt_service_min = df2.rt_service_min.round(1),\n",
    "        service_minutes = df2.service_minutes.round(1),\n",
    "        speed_mph = df2.speed_mph.round(1)\n",
    "    ).rename(columns = {\n",
    "        \"service_minutes\": \"avg_sched_trip_min\",\n",
    "        \"rt_service_min\": \"avg_rt_trip_min\",\n",
    "        \"trip_instance_key\": \"n_trips\",\n",
    "        \"route_name_used\": \"route_name\",\n",
    "        \"schedule_gtfs_dataset_key\": \"gtfs_dataset_key\"\n",
    "    })"
   ]
  },
  {
   "cell_type": "code",
   "execution_count": 50,
   "id": "0660f4e2-0c92-4656-a967-95ac7a26b440",
   "metadata": {},
   "outputs": [],
   "source": [
    "org_crosswalk = (\n",
    "        schedule_rt_utils.sample_gtfs_dataset_key_to_organization_crosswalk(\n",
    "            df4,\n",
    "            analysis_date,\n",
    "            quartet_data = \"schedule\",\n",
    "            dim_gtfs_dataset_cols = [\"key\", \"base64_url\"],\n",
    "            dim_organization_cols = [\"source_record_id\", \n",
    "                                     \"name\", \"caltrans_district\"])\n",
    "    )"
   ]
  },
  {
   "cell_type": "code",
   "execution_count": 60,
   "id": "e43fa48f-cca4-4bfa-a8cd-971a7dc3f969",
   "metadata": {},
   "outputs": [
    {
     "data": {
      "text/plain": [
       "((82, 5), 82)"
      ]
     },
     "execution_count": 60,
     "metadata": {},
     "output_type": "execute_result"
    }
   ],
   "source": [
    "org_crosswalk.shape, org_crosswalk.schedule_gtfs_dataset_key.nunique()"
   ]
  },
  {
   "cell_type": "code",
   "execution_count": 59,
   "id": "b0e1f34e-94b6-417e-ba35-0aebeccd3cee",
   "metadata": {},
   "outputs": [
    {
     "data": {
      "text/html": [
       "<div>\n",
       "<style scoped>\n",
       "    .dataframe tbody tr th:only-of-type {\n",
       "        vertical-align: middle;\n",
       "    }\n",
       "\n",
       "    .dataframe tbody tr th {\n",
       "        vertical-align: top;\n",
       "    }\n",
       "\n",
       "    .dataframe thead th {\n",
       "        text-align: right;\n",
       "    }\n",
       "</style>\n",
       "<table border=\"1\" class=\"dataframe\">\n",
       "  <thead>\n",
       "    <tr style=\"text-align: right;\">\n",
       "      <th></th>\n",
       "      <th>schedule_gtfs_dataset_key</th>\n",
       "      <th>base64_url</th>\n",
       "      <th>organization_source_record_id</th>\n",
       "      <th>organization_name</th>\n",
       "      <th>caltrans_district</th>\n",
       "    </tr>\n",
       "  </thead>\n",
       "  <tbody>\n",
       "    <tr>\n",
       "      <th>0</th>\n",
       "      <td>015d67d5b75b5cf2b710bbadadfb75f5</td>\n",
       "      <td>aHR0cHM6Ly9hcGkuNTExLm9yZy90cmFuc2l0L2RhdGFmZWVkcz9vcGVyYXRvcl9pZD1NQQ==</td>\n",
       "      <td>recNOb7pqBRlQVG5e</td>\n",
       "      <td>Marin County Transit District</td>\n",
       "      <td>04 - Oakland</td>\n",
       "    </tr>\n",
       "    <tr>\n",
       "      <th>1</th>\n",
       "      <td>07d3b79f14cec8099119e1eb649f065b</td>\n",
       "      <td>aHR0cHM6Ly9kYXRhLnRyaWxsaXVtdHJhbnNpdC5jb20vZ3Rmcy90YWhvZS1jYS11cy90YWhvZS1jYS11cy56aXA=</td>\n",
       "      <td>rec3u4aMplqObcoTR</td>\n",
       "      <td>Tahoe Transportation District</td>\n",
       "      <td>03 - Marysville</td>\n",
       "    </tr>\n",
       "    <tr>\n",
       "      <th>2</th>\n",
       "      <td>0881af3822466784992a49f1cc57d38f</td>\n",
       "      <td>aHR0cHM6Ly9hcGkuNTExLm9yZy90cmFuc2l0L2RhdGFmZWVkcz9vcGVyYXRvcl9pZD1TQQ==</td>\n",
       "      <td>recUmm4gcNXaqrwpn</td>\n",
       "      <td>Sonoma-Marin Area Rail Transit District</td>\n",
       "      <td>04 - Oakland</td>\n",
       "    </tr>\n",
       "    <tr>\n",
       "      <th>3</th>\n",
       "      <td>09a703757d1ed14ca9580b1385e39315</td>\n",
       "      <td>aHR0cHM6Ly9yaWRlbGF3bmRhbGViZWF0LmNvbS9ndGZz</td>\n",
       "      <td>recj8LXdeSurpSRNU</td>\n",
       "      <td>City of Lawndale</td>\n",
       "      <td>07 - Los Angeles</td>\n",
       "    </tr>\n",
       "    <tr>\n",
       "      <th>4</th>\n",
       "      <td>09e16227fc42c4fe90204a9d11581034</td>\n",
       "      <td>aHR0cHM6Ly9hcGkuNTExLm9yZy90cmFuc2l0L2RhdGFmZWVkcz9vcGVyYXRvcl9pZD1TTw==</td>\n",
       "      <td>recRM3c9Zfaft4V2B</td>\n",
       "      <td>Cloverdale Transit</td>\n",
       "      <td>04 - Oakland</td>\n",
       "    </tr>\n",
       "  </tbody>\n",
       "</table>\n",
       "</div>"
      ],
      "text/plain": [
       "          schedule_gtfs_dataset_key  \\\n",
       "0  015d67d5b75b5cf2b710bbadadfb75f5   \n",
       "1  07d3b79f14cec8099119e1eb649f065b   \n",
       "2  0881af3822466784992a49f1cc57d38f   \n",
       "3  09a703757d1ed14ca9580b1385e39315   \n",
       "4  09e16227fc42c4fe90204a9d11581034   \n",
       "\n",
       "                                                                                 base64_url  \\\n",
       "0                  aHR0cHM6Ly9hcGkuNTExLm9yZy90cmFuc2l0L2RhdGFmZWVkcz9vcGVyYXRvcl9pZD1NQQ==   \n",
       "1  aHR0cHM6Ly9kYXRhLnRyaWxsaXVtdHJhbnNpdC5jb20vZ3Rmcy90YWhvZS1jYS11cy90YWhvZS1jYS11cy56aXA=   \n",
       "2                  aHR0cHM6Ly9hcGkuNTExLm9yZy90cmFuc2l0L2RhdGFmZWVkcz9vcGVyYXRvcl9pZD1TQQ==   \n",
       "3                                              aHR0cHM6Ly9yaWRlbGF3bmRhbGViZWF0LmNvbS9ndGZz   \n",
       "4                  aHR0cHM6Ly9hcGkuNTExLm9yZy90cmFuc2l0L2RhdGFmZWVkcz9vcGVyYXRvcl9pZD1TTw==   \n",
       "\n",
       "  organization_source_record_id                        organization_name  \\\n",
       "0             recNOb7pqBRlQVG5e            Marin County Transit District   \n",
       "1             rec3u4aMplqObcoTR            Tahoe Transportation District   \n",
       "2             recUmm4gcNXaqrwpn  Sonoma-Marin Area Rail Transit District   \n",
       "3             recj8LXdeSurpSRNU                         City of Lawndale   \n",
       "4             recRM3c9Zfaft4V2B                       Cloverdale Transit   \n",
       "\n",
       "  caltrans_district  \n",
       "0      04 - Oakland  \n",
       "1   03 - Marysville  \n",
       "2      04 - Oakland  \n",
       "3  07 - Los Angeles  \n",
       "4      04 - Oakland  "
      ]
     },
     "execution_count": 59,
     "metadata": {},
     "output_type": "execute_result"
    }
   ],
   "source": [
    "org_crosswalk.head()"
   ]
  },
  {
   "cell_type": "code",
   "execution_count": 51,
   "id": "71c0d174-736c-4093-a57f-1b39608fb2c2",
   "metadata": {},
   "outputs": [],
   "source": [
    "df_with_org = pd.merge(\n",
    "        df4,\n",
    "        org_crosswalk.rename(columns = {\n",
    "            \"schedule_gtfs_dataset_key\": \"gtfs_dataset_key\"}),\n",
    "        on = \"gtfs_dataset_key\",\n",
    "        how = \"inner\"\n",
    "    )"
   ]
  },
  {
   "cell_type": "code",
   "execution_count": 52,
   "id": "275988a7-0b45-4799-b8d5-7826913745f3",
   "metadata": {},
   "outputs": [
    {
     "data": {
      "text/plain": [
       "(11229, 18)"
      ]
     },
     "execution_count": 52,
     "metadata": {},
     "output_type": "execute_result"
    }
   ],
   "source": [
    "df_with_org.shape"
   ]
  },
  {
   "cell_type": "code",
   "execution_count": 53,
   "id": "3caa9bbc-51d2-4bc4-9d74-040f38ce67d5",
   "metadata": {},
   "outputs": [
    {
     "data": {
      "text/html": [
       "<div>\n",
       "<style scoped>\n",
       "    .dataframe tbody tr th:only-of-type {\n",
       "        vertical-align: middle;\n",
       "    }\n",
       "\n",
       "    .dataframe tbody tr th {\n",
       "        vertical-align: top;\n",
       "    }\n",
       "\n",
       "    .dataframe thead th {\n",
       "        text-align: right;\n",
       "    }\n",
       "</style>\n",
       "<table border=\"1\" class=\"dataframe\">\n",
       "  <thead>\n",
       "    <tr style=\"text-align: right;\">\n",
       "      <th></th>\n",
       "      <th>gtfs_dataset_key</th>\n",
       "      <th>time_of_day</th>\n",
       "      <th>route_id</th>\n",
       "      <th>direction_id</th>\n",
       "      <th>route_name</th>\n",
       "      <th>common_shape_id</th>\n",
       "      <th>shape_array_key</th>\n",
       "      <th>avg_sched_trip_min</th>\n",
       "      <th>avg_rt_trip_min</th>\n",
       "      <th>speed_mph</th>\n",
       "      <th>pings_per_min</th>\n",
       "      <th>total_vp</th>\n",
       "      <th>vp_in_shape</th>\n",
       "      <th>n_trips</th>\n",
       "      <th>base64_url</th>\n",
       "      <th>organization_source_record_id</th>\n",
       "      <th>organization_name</th>\n",
       "      <th>caltrans_district</th>\n",
       "    </tr>\n",
       "  </thead>\n",
       "  <tbody>\n",
       "    <tr>\n",
       "      <th>0</th>\n",
       "      <td>015d67d5b75b5cf2b710bbadadfb75f5</td>\n",
       "      <td>AM Peak</td>\n",
       "      <td>17</td>\n",
       "      <td>0</td>\n",
       "      <td>Downtown San Rafael - Sausalito</td>\n",
       "      <td>104</td>\n",
       "      <td>4362491ca6006e88a076e2eaaf693762</td>\n",
       "      <td>58.00</td>\n",
       "      <td>62.40</td>\n",
       "      <td>22.20</td>\n",
       "      <td>2.75</td>\n",
       "      <td>205.00</td>\n",
       "      <td>162.80</td>\n",
       "      <td>5</td>\n",
       "      <td>aHR0cHM6Ly9hcGkuNTExLm9yZy90cmFuc2l0L2RhdGFmZWVkcz9vcGVyYXRvcl9pZD1NQQ==</td>\n",
       "      <td>recNOb7pqBRlQVG5e</td>\n",
       "      <td>Marin County Transit District</td>\n",
       "      <td>04 - Oakland</td>\n",
       "    </tr>\n",
       "    <tr>\n",
       "      <th>1</th>\n",
       "      <td>015d67d5b75b5cf2b710bbadadfb75f5</td>\n",
       "      <td>AM Peak</td>\n",
       "      <td>17</td>\n",
       "      <td>1</td>\n",
       "      <td>Downtown San Rafael - Sausalito</td>\n",
       "      <td>109</td>\n",
       "      <td>fe2f063891238d0132d4543c537cf574</td>\n",
       "      <td>58.00</td>\n",
       "      <td>67.70</td>\n",
       "      <td>21.60</td>\n",
       "      <td>2.73</td>\n",
       "      <td>181.60</td>\n",
       "      <td>166.60</td>\n",
       "      <td>5</td>\n",
       "      <td>aHR0cHM6Ly9hcGkuNTExLm9yZy90cmFuc2l0L2RhdGFmZWVkcz9vcGVyYXRvcl9pZD1NQQ==</td>\n",
       "      <td>recNOb7pqBRlQVG5e</td>\n",
       "      <td>Marin County Transit District</td>\n",
       "      <td>04 - Oakland</td>\n",
       "    </tr>\n",
       "    <tr>\n",
       "      <th>2</th>\n",
       "      <td>015d67d5b75b5cf2b710bbadadfb75f5</td>\n",
       "      <td>AM Peak</td>\n",
       "      <td>219</td>\n",
       "      <td>0</td>\n",
       "      <td>Tiburon - Strawberry</td>\n",
       "      <td>56</td>\n",
       "      <td>168629b6e90c8b94b78dd60c8eeaf0ca</td>\n",
       "      <td>58.00</td>\n",
       "      <td>127.40</td>\n",
       "      <td>8.10</td>\n",
       "      <td>2.91</td>\n",
       "      <td>119.00</td>\n",
       "      <td>113.25</td>\n",
       "      <td>4</td>\n",
       "      <td>aHR0cHM6Ly9hcGkuNTExLm9yZy90cmFuc2l0L2RhdGFmZWVkcz9vcGVyYXRvcl9pZD1NQQ==</td>\n",
       "      <td>recNOb7pqBRlQVG5e</td>\n",
       "      <td>Marin County Transit District</td>\n",
       "      <td>04 - Oakland</td>\n",
       "    </tr>\n",
       "    <tr>\n",
       "      <th>3</th>\n",
       "      <td>015d67d5b75b5cf2b710bbadadfb75f5</td>\n",
       "      <td>AM Peak</td>\n",
       "      <td>219</td>\n",
       "      <td>1</td>\n",
       "      <td>Tiburon - Strawberry</td>\n",
       "      <td>58</td>\n",
       "      <td>6457a064626d1b0abdce22dd159fbb2d</td>\n",
       "      <td>58.00</td>\n",
       "      <td>152.00</td>\n",
       "      <td>9.40</td>\n",
       "      <td>2.93</td>\n",
       "      <td>86.75</td>\n",
       "      <td>85.75</td>\n",
       "      <td>4</td>\n",
       "      <td>aHR0cHM6Ly9hcGkuNTExLm9yZy90cmFuc2l0L2RhdGFmZWVkcz9vcGVyYXRvcl9pZD1NQQ==</td>\n",
       "      <td>recNOb7pqBRlQVG5e</td>\n",
       "      <td>Marin County Transit District</td>\n",
       "      <td>04 - Oakland</td>\n",
       "    </tr>\n",
       "    <tr>\n",
       "      <th>4</th>\n",
       "      <td>015d67d5b75b5cf2b710bbadadfb75f5</td>\n",
       "      <td>AM Peak</td>\n",
       "      <td>22</td>\n",
       "      <td>0</td>\n",
       "      <td>Downtown San Rafael - Marin City</td>\n",
       "      <td>50</td>\n",
       "      <td>0e10aded9dede712f3c623c5deae87a4</td>\n",
       "      <td>55.00</td>\n",
       "      <td>76.30</td>\n",
       "      <td>28.60</td>\n",
       "      <td>2.95</td>\n",
       "      <td>90.33</td>\n",
       "      <td>53.33</td>\n",
       "      <td>6</td>\n",
       "      <td>aHR0cHM6Ly9hcGkuNTExLm9yZy90cmFuc2l0L2RhdGFmZWVkcz9vcGVyYXRvcl9pZD1NQQ==</td>\n",
       "      <td>recNOb7pqBRlQVG5e</td>\n",
       "      <td>Marin County Transit District</td>\n",
       "      <td>04 - Oakland</td>\n",
       "    </tr>\n",
       "  </tbody>\n",
       "</table>\n",
       "</div>"
      ],
      "text/plain": [
       "                   gtfs_dataset_key time_of_day route_id  direction_id  \\\n",
       "0  015d67d5b75b5cf2b710bbadadfb75f5     AM Peak       17             0   \n",
       "1  015d67d5b75b5cf2b710bbadadfb75f5     AM Peak       17             1   \n",
       "2  015d67d5b75b5cf2b710bbadadfb75f5     AM Peak      219             0   \n",
       "3  015d67d5b75b5cf2b710bbadadfb75f5     AM Peak      219             1   \n",
       "4  015d67d5b75b5cf2b710bbadadfb75f5     AM Peak       22             0   \n",
       "\n",
       "                         route_name common_shape_id  \\\n",
       "0   Downtown San Rafael - Sausalito             104   \n",
       "1   Downtown San Rafael - Sausalito             109   \n",
       "2              Tiburon - Strawberry              56   \n",
       "3              Tiburon - Strawberry              58   \n",
       "4  Downtown San Rafael - Marin City              50   \n",
       "\n",
       "                    shape_array_key  avg_sched_trip_min  avg_rt_trip_min  \\\n",
       "0  4362491ca6006e88a076e2eaaf693762               58.00            62.40   \n",
       "1  fe2f063891238d0132d4543c537cf574               58.00            67.70   \n",
       "2  168629b6e90c8b94b78dd60c8eeaf0ca               58.00           127.40   \n",
       "3  6457a064626d1b0abdce22dd159fbb2d               58.00           152.00   \n",
       "4  0e10aded9dede712f3c623c5deae87a4               55.00            76.30   \n",
       "\n",
       "   speed_mph  pings_per_min  total_vp  vp_in_shape  n_trips  \\\n",
       "0      22.20           2.75    205.00       162.80        5   \n",
       "1      21.60           2.73    181.60       166.60        5   \n",
       "2       8.10           2.91    119.00       113.25        4   \n",
       "3       9.40           2.93     86.75        85.75        4   \n",
       "4      28.60           2.95     90.33        53.33        6   \n",
       "\n",
       "                                                                 base64_url  \\\n",
       "0  aHR0cHM6Ly9hcGkuNTExLm9yZy90cmFuc2l0L2RhdGFmZWVkcz9vcGVyYXRvcl9pZD1NQQ==   \n",
       "1  aHR0cHM6Ly9hcGkuNTExLm9yZy90cmFuc2l0L2RhdGFmZWVkcz9vcGVyYXRvcl9pZD1NQQ==   \n",
       "2  aHR0cHM6Ly9hcGkuNTExLm9yZy90cmFuc2l0L2RhdGFmZWVkcz9vcGVyYXRvcl9pZD1NQQ==   \n",
       "3  aHR0cHM6Ly9hcGkuNTExLm9yZy90cmFuc2l0L2RhdGFmZWVkcz9vcGVyYXRvcl9pZD1NQQ==   \n",
       "4  aHR0cHM6Ly9hcGkuNTExLm9yZy90cmFuc2l0L2RhdGFmZWVkcz9vcGVyYXRvcl9pZD1NQQ==   \n",
       "\n",
       "  organization_source_record_id              organization_name  \\\n",
       "0             recNOb7pqBRlQVG5e  Marin County Transit District   \n",
       "1             recNOb7pqBRlQVG5e  Marin County Transit District   \n",
       "2             recNOb7pqBRlQVG5e  Marin County Transit District   \n",
       "3             recNOb7pqBRlQVG5e  Marin County Transit District   \n",
       "4             recNOb7pqBRlQVG5e  Marin County Transit District   \n",
       "\n",
       "  caltrans_district  \n",
       "0      04 - Oakland  \n",
       "1      04 - Oakland  \n",
       "2      04 - Oakland  \n",
       "3      04 - Oakland  \n",
       "4      04 - Oakland  "
      ]
     },
     "execution_count": 53,
     "metadata": {},
     "output_type": "execute_result"
    }
   ],
   "source": [
    "df_with_org.head()"
   ]
  },
  {
   "cell_type": "code",
   "execution_count": 54,
   "id": "de3449eb-88c2-4d46-ae3a-94f881e8cade",
   "metadata": {},
   "outputs": [],
   "source": [
    "shapes = helpers.import_scheduled_shapes(\n",
    "        analysis_date,\n",
    "        columns = [\"shape_array_key\", \"geometry\"],\n",
    "        get_pandas = True,\n",
    "        crs = geography_utils.WGS84\n",
    "    )\n",
    "    "
   ]
  },
  {
   "cell_type": "code",
   "execution_count": 55,
   "id": "091ed4c9-6742-4a06-abdf-7b59abe7a948",
   "metadata": {},
   "outputs": [
    {
     "data": {
      "text/plain": [
       "(7303, 2)"
      ]
     },
     "execution_count": 55,
     "metadata": {},
     "output_type": "execute_result"
    }
   ],
   "source": [
    "shapes.shape"
   ]
  },
  {
   "cell_type": "code",
   "execution_count": 67,
   "id": "dc0f152d-19ac-4687-83e8-8d5fd225005b",
   "metadata": {},
   "outputs": [],
   "source": [
    "df_with_shape = pd.merge(\n",
    "        shapes,\n",
    "        df_with_org,\n",
    "        on = \"shape_array_key\", # once merged, can drop shape_array_key\n",
    "        how = \"inner\"\n",
    "    )"
   ]
  },
  {
   "cell_type": "code",
   "execution_count": 68,
   "id": "1d8bd521-7b7e-438e-9cdd-b23606acd644",
   "metadata": {},
   "outputs": [],
   "source": [
    "final_df['avg_pct_vp_shape'] = final_df.vp_in_shape / final_df.total_vp * 100"
   ]
  },
  {
   "cell_type": "code",
   "execution_count": 69,
   "id": "158662df-1735-4a1a-a4c5-7b3d00469311",
   "metadata": {},
   "outputs": [],
   "source": [
    "final_df['avg_pct_rt_v_sched'] = (final_df.avg_rt_trip_min / final_df.avg_sched_trip_min - 1) * 100"
   ]
  },
  {
   "cell_type": "code",
   "execution_count": 70,
   "id": "7020e160-7e18-4099-8a97-9114eef06652",
   "metadata": {},
   "outputs": [],
   "source": [
    "final_df = final_df.drop(columns = ['total_vp','vp_in_shape'])"
   ]
  },
  {
   "cell_type": "code",
   "execution_count": 71,
   "id": "2206947a-debc-4dcc-a459-913ec0b26443",
   "metadata": {},
   "outputs": [],
   "source": [
    "final_df = final_df.rename(columns = {'pings_per_min':'avg_pings_per_min'})"
   ]
  },
  {
   "cell_type": "code",
   "execution_count": 72,
   "id": "9400eb5b-0ff4-4b6a-ade3-8e0fedc29d5b",
   "metadata": {},
   "outputs": [],
   "source": [
    "final_df = final_df.rename(\n",
    "        columns = {\"organization_source_record_id\": \"org_id\",\n",
    "                   \"organization_name\": \"agency\", \n",
    "                   \"caltrans_district\": \"district_name\"\n",
    "                  })"
   ]
  },
  {
   "cell_type": "code",
   "execution_count": 74,
   "id": "11b580bd-f482-4a11-be00-7ef88068bac9",
   "metadata": {},
   "outputs": [
    {
     "data": {
      "text/plain": [
       "(11229, 19)"
      ]
     },
     "execution_count": 74,
     "metadata": {},
     "output_type": "execute_result"
    }
   ],
   "source": [
    "final_df.shape"
   ]
  },
  {
   "cell_type": "code",
   "execution_count": 75,
   "id": "58165517-e414-4843-8ece-b7631d4d7f27",
   "metadata": {},
   "outputs": [
    {
     "data": {
      "text/plain": [
       "count   11229.00\n",
       "mean        2.46\n",
       "std         0.55\n",
       "min         0.04\n",
       "25%         1.97\n",
       "50%         2.75\n",
       "75%         2.93\n",
       "max         3.10\n",
       "Name: avg_pings_per_min, dtype: float64"
      ]
     },
     "execution_count": 75,
     "metadata": {},
     "output_type": "execute_result"
    }
   ],
   "source": [
    "final_df.avg_pings_per_min.describe()"
   ]
  },
  {
   "cell_type": "code",
   "execution_count": 76,
   "id": "49867873-4a76-49c4-8c95-0918d7468f82",
   "metadata": {},
   "outputs": [
    {
     "data": {
      "text/html": [
       "<div>\n",
       "<style scoped>\n",
       "    .dataframe tbody tr th:only-of-type {\n",
       "        vertical-align: middle;\n",
       "    }\n",
       "\n",
       "    .dataframe tbody tr th {\n",
       "        vertical-align: top;\n",
       "    }\n",
       "\n",
       "    .dataframe thead th {\n",
       "        text-align: right;\n",
       "    }\n",
       "</style>\n",
       "<table border=\"1\" class=\"dataframe\">\n",
       "  <thead>\n",
       "    <tr style=\"text-align: right;\">\n",
       "      <th></th>\n",
       "      <th>shape_array_key</th>\n",
       "      <th>gtfs_dataset_key</th>\n",
       "      <th>time_of_day</th>\n",
       "      <th>route_id</th>\n",
       "      <th>direction_id</th>\n",
       "      <th>route_name</th>\n",
       "      <th>common_shape_id</th>\n",
       "      <th>avg_sched_trip_min</th>\n",
       "      <th>avg_rt_trip_min</th>\n",
       "      <th>speed_mph</th>\n",
       "      <th>avg_pings_per_min</th>\n",
       "      <th>n_trips</th>\n",
       "      <th>org_id</th>\n",
       "      <th>agency</th>\n",
       "      <th>district_name</th>\n",
       "      <th>avg_pct_vp_shape</th>\n",
       "      <th>avg_pct_rt_v_sched</th>\n",
       "    </tr>\n",
       "  </thead>\n",
       "  <tbody>\n",
       "    <tr>\n",
       "      <th>0</th>\n",
       "      <td>f73c9e5905f12d7392b4fff9a31c83ce</td>\n",
       "      <td>f1b35a50955aeb498533c1c6fdafbe44</td>\n",
       "      <td>AM Peak</td>\n",
       "      <td>51</td>\n",
       "      <td>0</td>\n",
       "      <td>LONG BEACH BLVD</td>\n",
       "      <td>510078</td>\n",
       "      <td>57.00</td>\n",
       "      <td>79.20</td>\n",
       "      <td>4.90</td>\n",
       "      <td>1.62</td>\n",
       "      <td>13</td>\n",
       "      <td>rec00qSzZL8KqiXAo</td>\n",
       "      <td>Long Beach Transit</td>\n",
       "      <td>07 - Los Angeles</td>\n",
       "      <td>92.61</td>\n",
       "      <td>38.95</td>\n",
       "    </tr>\n",
       "    <tr>\n",
       "      <th>1</th>\n",
       "      <td>f73c9e5905f12d7392b4fff9a31c83ce</td>\n",
       "      <td>f1b35a50955aeb498533c1c6fdafbe44</td>\n",
       "      <td>Early AM</td>\n",
       "      <td>51</td>\n",
       "      <td>0</td>\n",
       "      <td>LONG BEACH BLVD</td>\n",
       "      <td>510078</td>\n",
       "      <td>47.00</td>\n",
       "      <td>52.40</td>\n",
       "      <td>6.00</td>\n",
       "      <td>1.83</td>\n",
       "      <td>8</td>\n",
       "      <td>rec00qSzZL8KqiXAo</td>\n",
       "      <td>Long Beach Transit</td>\n",
       "      <td>07 - Los Angeles</td>\n",
       "      <td>87.61</td>\n",
       "      <td>11.49</td>\n",
       "    </tr>\n",
       "    <tr>\n",
       "      <th>2</th>\n",
       "      <td>f73c9e5905f12d7392b4fff9a31c83ce</td>\n",
       "      <td>f1b35a50955aeb498533c1c6fdafbe44</td>\n",
       "      <td>Evening</td>\n",
       "      <td>51</td>\n",
       "      <td>0</td>\n",
       "      <td>LONG BEACH BLVD</td>\n",
       "      <td>510078</td>\n",
       "      <td>44.00</td>\n",
       "      <td>68.60</td>\n",
       "      <td>4.80</td>\n",
       "      <td>1.87</td>\n",
       "      <td>4</td>\n",
       "      <td>rec00qSzZL8KqiXAo</td>\n",
       "      <td>Long Beach Transit</td>\n",
       "      <td>07 - Los Angeles</td>\n",
       "      <td>96.53</td>\n",
       "      <td>55.91</td>\n",
       "    </tr>\n",
       "    <tr>\n",
       "      <th>3</th>\n",
       "      <td>f73c9e5905f12d7392b4fff9a31c83ce</td>\n",
       "      <td>f1b35a50955aeb498533c1c6fdafbe44</td>\n",
       "      <td>Midday</td>\n",
       "      <td>51</td>\n",
       "      <td>0</td>\n",
       "      <td>LONG BEACH BLVD</td>\n",
       "      <td>510078</td>\n",
       "      <td>51.00</td>\n",
       "      <td>45.50</td>\n",
       "      <td>16.80</td>\n",
       "      <td>1.69</td>\n",
       "      <td>20</td>\n",
       "      <td>rec00qSzZL8KqiXAo</td>\n",
       "      <td>Long Beach Transit</td>\n",
       "      <td>07 - Los Angeles</td>\n",
       "      <td>96.03</td>\n",
       "      <td>-10.78</td>\n",
       "    </tr>\n",
       "    <tr>\n",
       "      <th>4</th>\n",
       "      <td>f73c9e5905f12d7392b4fff9a31c83ce</td>\n",
       "      <td>f1b35a50955aeb498533c1c6fdafbe44</td>\n",
       "      <td>PM Peak</td>\n",
       "      <td>51</td>\n",
       "      <td>0</td>\n",
       "      <td>LONG BEACH BLVD</td>\n",
       "      <td>510078</td>\n",
       "      <td>75.00</td>\n",
       "      <td>72.40</td>\n",
       "      <td>20.30</td>\n",
       "      <td>1.65</td>\n",
       "      <td>16</td>\n",
       "      <td>rec00qSzZL8KqiXAo</td>\n",
       "      <td>Long Beach Transit</td>\n",
       "      <td>07 - Los Angeles</td>\n",
       "      <td>95.01</td>\n",
       "      <td>-3.47</td>\n",
       "    </tr>\n",
       "  </tbody>\n",
       "</table>\n",
       "</div>"
      ],
      "text/plain": [
       "                    shape_array_key                  gtfs_dataset_key  \\\n",
       "0  f73c9e5905f12d7392b4fff9a31c83ce  f1b35a50955aeb498533c1c6fdafbe44   \n",
       "1  f73c9e5905f12d7392b4fff9a31c83ce  f1b35a50955aeb498533c1c6fdafbe44   \n",
       "2  f73c9e5905f12d7392b4fff9a31c83ce  f1b35a50955aeb498533c1c6fdafbe44   \n",
       "3  f73c9e5905f12d7392b4fff9a31c83ce  f1b35a50955aeb498533c1c6fdafbe44   \n",
       "4  f73c9e5905f12d7392b4fff9a31c83ce  f1b35a50955aeb498533c1c6fdafbe44   \n",
       "\n",
       "  time_of_day route_id  direction_id       route_name common_shape_id  \\\n",
       "0     AM Peak       51             0  LONG BEACH BLVD          510078   \n",
       "1    Early AM       51             0  LONG BEACH BLVD          510078   \n",
       "2     Evening       51             0  LONG BEACH BLVD          510078   \n",
       "3      Midday       51             0  LONG BEACH BLVD          510078   \n",
       "4     PM Peak       51             0  LONG BEACH BLVD          510078   \n",
       "\n",
       "   avg_sched_trip_min  avg_rt_trip_min  speed_mph  avg_pings_per_min  n_trips  \\\n",
       "0               57.00            79.20       4.90               1.62       13   \n",
       "1               47.00            52.40       6.00               1.83        8   \n",
       "2               44.00            68.60       4.80               1.87        4   \n",
       "3               51.00            45.50      16.80               1.69       20   \n",
       "4               75.00            72.40      20.30               1.65       16   \n",
       "\n",
       "              org_id              agency     district_name  avg_pct_vp_shape  \\\n",
       "0  rec00qSzZL8KqiXAo  Long Beach Transit  07 - Los Angeles             92.61   \n",
       "1  rec00qSzZL8KqiXAo  Long Beach Transit  07 - Los Angeles             87.61   \n",
       "2  rec00qSzZL8KqiXAo  Long Beach Transit  07 - Los Angeles             96.53   \n",
       "3  rec00qSzZL8KqiXAo  Long Beach Transit  07 - Los Angeles             96.03   \n",
       "4  rec00qSzZL8KqiXAo  Long Beach Transit  07 - Los Angeles             95.01   \n",
       "\n",
       "   avg_pct_rt_v_sched  \n",
       "0               38.95  \n",
       "1               11.49  \n",
       "2               55.91  \n",
       "3              -10.78  \n",
       "4               -3.47  "
      ]
     },
     "execution_count": 76,
     "metadata": {},
     "output_type": "execute_result"
    }
   ],
   "source": [
    "final_df.drop(columns = ['geometry', 'base64_url']).head()"
   ]
  }
 ],
 "metadata": {
  "kernelspec": {
   "display_name": "Python 3 (ipykernel)",
   "language": "python",
   "name": "python3"
  },
  "language_info": {
   "codemirror_mode": {
    "name": "ipython",
    "version": 3
   },
   "file_extension": ".py",
   "mimetype": "text/x-python",
   "name": "python",
   "nbconvert_exporter": "python",
   "pygments_lexer": "ipython3",
   "version": "3.9.13"
  }
 },
 "nbformat": 4,
 "nbformat_minor": 5
}
