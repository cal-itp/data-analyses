{
 "cells": [
  {
   "cell_type": "markdown",
   "id": "63b72e4f-ad51-4c17-90b5-e3667618a725",
   "metadata": {},
   "source": [
    "## Check out Results"
   ]
  },
  {
   "cell_type": "code",
   "execution_count": 1,
   "id": "420e44a4-aa22-4475-840f-6caf92fa7844",
   "metadata": {},
   "outputs": [],
   "source": [
    "import geopandas as gpd\n",
    "import pandas as pd"
   ]
  },
  {
   "cell_type": "code",
   "execution_count": 2,
   "id": "67351837-e385-464b-96b3-48fc13703af7",
   "metadata": {},
   "outputs": [],
   "source": [
    "from segment_speed_utils import helpers, sched_rt_utils, wrangle_shapes\n",
    "from segment_speed_utils.project_vars import (\n",
    "    GCS_FILE_PATH,\n",
    "    PROJECT_CRS,\n",
    "    SEGMENT_GCS,\n",
    "    analysis_date,\n",
    ")\n",
    "from shared_utils import geography_utils, portfolio_utils, rt_dates, schedule_rt_utils"
   ]
  },
  {
   "cell_type": "code",
   "execution_count": 3,
   "id": "c12b17b1-8c43-40c8-8a8d-579618452b06",
   "metadata": {},
   "outputs": [],
   "source": [
    "pd.options.display.max_columns = 100\n",
    "pd.options.display.float_format = \"{:.2f}\".format\n",
    "pd.set_option(\"display.max_rows\", None)\n",
    "pd.set_option(\"display.max_colwidth\", None)"
   ]
  },
  {
   "cell_type": "code",
   "execution_count": 4,
   "id": "2ebc71d7-342d-4b8f-b261-709b0cbfe013",
   "metadata": {},
   "outputs": [],
   "source": [
    "GCS_PATH = \"gs://calitp-analytics-data/data-analyses/rt_vs_schedule/trip_level_metrics/\""
   ]
  },
  {
   "cell_type": "code",
   "execution_count": 5,
   "id": "be14001d-8599-4496-b267-d028174ebc78",
   "metadata": {},
   "outputs": [],
   "source": [
    "months = [\"dec\", \"nov\", \"oct\", \"sep\", \"aug\", \"jul\", \"jun\", \"may\", \"apr\", \"mar\"]\n",
    "\n",
    "analysis_date_list = [rt_dates.DATES[f\"{m}2023\"] for m in months]"
   ]
  },
  {
   "cell_type": "code",
   "execution_count": 6,
   "id": "78669969-8d99-4049-99cb-2f933016b2d9",
   "metadata": {},
   "outputs": [
    {
     "data": {
      "text/plain": [
       "['2023-12-13',\n",
       " '2023-11-15',\n",
       " '2023-10-11',\n",
       " '2023-09-13',\n",
       " '2023-08-15',\n",
       " '2023-07-12',\n",
       " '2023-06-14',\n",
       " '2023-05-17',\n",
       " '2023-04-12',\n",
       " '2023-03-15']"
      ]
     },
     "execution_count": 6,
     "metadata": {},
     "output_type": "execute_result"
    }
   ],
   "source": [
    "analysis_date_list"
   ]
  },
  {
   "cell_type": "code",
   "execution_count": 7,
   "id": "26185ced-9f3b-4266-a080-0eeed0c0a825",
   "metadata": {},
   "outputs": [],
   "source": [
    "def check_out(df: pd.DataFrame):\n",
    "    display(df.spatial_accuracy_pct.describe())\n",
    "    display(df.pings_per_min.describe())\n",
    "    display(df.rt_triptime_w_gtfs_pct.describe())\n",
    "    display(df.rt_v_scheduled_trip_time_pct.describe())"
   ]
  },
  {
   "cell_type": "code",
   "execution_count": 8,
   "id": "aba941a7-bc28-4501-9505-0fd064c24a0c",
   "metadata": {},
   "outputs": [],
   "source": [
    "mar_df = pd.read_parquet(f\"{GCS_PATH}2023-03-15_metrics.parquet\")"
   ]
  },
  {
   "cell_type": "code",
   "execution_count": 9,
   "id": "af7c69e1-e363-42f8-bf1c-f9ef2ba141e2",
   "metadata": {},
   "outputs": [
    {
     "data": {
      "text/plain": [
       "count   69494.00\n",
       "mean       94.10\n",
       "std        12.34\n",
       "min         0.00\n",
       "25%        95.24\n",
       "50%       100.00\n",
       "75%       100.00\n",
       "max       100.00\n",
       "Name: spatial_accuracy_pct, dtype: float64"
      ]
     },
     "metadata": {},
     "output_type": "display_data"
    },
    {
     "data": {
      "text/plain": [
       "count   83620.00\n",
       "mean        2.46\n",
       "std         0.68\n",
       "min         0.00\n",
       "25%         1.91\n",
       "50%         2.86\n",
       "75%         2.96\n",
       "max         4.75\n",
       "Name: pings_per_min, dtype: float64"
      ]
     },
     "metadata": {},
     "output_type": "display_data"
    },
    {
     "data": {
      "text/plain": [
       "count   83620.00\n",
       "mean       95.20\n",
       "std        14.55\n",
       "min         0.28\n",
       "25%        97.99\n",
       "50%        99.58\n",
       "75%       100.25\n",
       "max       108.43\n",
       "Name: rt_triptime_w_gtfs_pct, dtype: float64"
      ]
     },
     "metadata": {},
     "output_type": "display_data"
    },
    {
     "data": {
      "text/plain": [
       "count   71797.00\n",
       "mean       60.68\n",
       "std       333.76\n",
       "min       -87.37\n",
       "25%        10.76\n",
       "50%        25.19\n",
       "75%        44.44\n",
       "max     17909.79\n",
       "Name: rt_v_scheduled_trip_time_pct, dtype: float64"
      ]
     },
     "metadata": {},
     "output_type": "display_data"
    }
   ],
   "source": [
    "check_out(mar_df)"
   ]
  },
  {
   "cell_type": "code",
   "execution_count": 10,
   "id": "26701c9c-669d-4e09-8c38-5ece391f5889",
   "metadata": {},
   "outputs": [],
   "source": [
    "apr_df = pd.read_parquet(f\"{GCS_PATH}2023-04-12_metrics.parquet\")"
   ]
  },
  {
   "cell_type": "code",
   "execution_count": 11,
   "id": "509ec31f-c521-4149-be35-b4548a9e1666",
   "metadata": {},
   "outputs": [
    {
     "data": {
      "text/plain": [
       "count   71094.00\n",
       "mean       94.06\n",
       "std        12.64\n",
       "min         0.00\n",
       "25%        95.45\n",
       "50%       100.00\n",
       "75%       100.00\n",
       "max       100.00\n",
       "Name: spatial_accuracy_pct, dtype: float64"
      ]
     },
     "metadata": {},
     "output_type": "display_data"
    },
    {
     "data": {
      "text/plain": [
       "count   84516.00\n",
       "mean        2.45\n",
       "std         0.67\n",
       "min         0.01\n",
       "25%         1.91\n",
       "50%         2.83\n",
       "75%         2.95\n",
       "max         5.18\n",
       "Name: pings_per_min, dtype: float64"
      ]
     },
     "metadata": {},
     "output_type": "display_data"
    },
    {
     "data": {
      "text/plain": [
       "count   84516.00\n",
       "mean       95.23\n",
       "std        14.48\n",
       "min         0.56\n",
       "25%        97.88\n",
       "50%        99.53\n",
       "75%       100.20\n",
       "max       108.11\n",
       "Name: rt_triptime_w_gtfs_pct, dtype: float64"
      ]
     },
     "metadata": {},
     "output_type": "display_data"
    },
    {
     "data": {
      "text/plain": [
       "count   73471.00\n",
       "mean       61.42\n",
       "std       349.18\n",
       "min       -86.02\n",
       "25%        10.46\n",
       "50%        25.10\n",
       "75%        44.38\n",
       "max     15903.70\n",
       "Name: rt_v_scheduled_trip_time_pct, dtype: float64"
      ]
     },
     "metadata": {},
     "output_type": "display_data"
    }
   ],
   "source": [
    "check_out(apr_df)"
   ]
  },
  {
   "cell_type": "code",
   "execution_count": 12,
   "id": "dcf7252b-eb12-4d76-bacf-ceb34d1e0c0a",
   "metadata": {},
   "outputs": [],
   "source": [
    "may_df = pd.read_parquet(f\"{GCS_PATH}2023-05-17_metrics.parquet\")"
   ]
  },
  {
   "cell_type": "code",
   "execution_count": 13,
   "id": "151c9d6f-ce92-4ab2-ad1c-525ca627dbfc",
   "metadata": {},
   "outputs": [
    {
     "data": {
      "text/plain": [
       "count   65385.00\n",
       "mean       94.07\n",
       "std        12.45\n",
       "min         0.00\n",
       "25%        95.00\n",
       "50%       100.00\n",
       "75%       100.00\n",
       "max       100.00\n",
       "Name: spatial_accuracy_pct, dtype: float64"
      ]
     },
     "metadata": {},
     "output_type": "display_data"
    },
    {
     "data": {
      "text/plain": [
       "count   83606.00\n",
       "mean        2.47\n",
       "std         0.68\n",
       "min         0.00\n",
       "25%         1.95\n",
       "50%         2.86\n",
       "75%         2.95\n",
       "max         5.14\n",
       "Name: pings_per_min, dtype: float64"
      ]
     },
     "metadata": {},
     "output_type": "display_data"
    },
    {
     "data": {
      "text/plain": [
       "count   83606.00\n",
       "mean       95.47\n",
       "std        13.78\n",
       "min         0.27\n",
       "25%        97.76\n",
       "50%        99.51\n",
       "75%       100.21\n",
       "max       108.43\n",
       "Name: rt_triptime_w_gtfs_pct, dtype: float64"
      ]
     },
     "metadata": {},
     "output_type": "display_data"
    },
    {
     "data": {
      "text/plain": [
       "count   67864.00\n",
       "mean       60.61\n",
       "std       329.38\n",
       "min       -90.09\n",
       "25%        10.96\n",
       "50%        25.64\n",
       "75%        44.61\n",
       "max     17907.92\n",
       "Name: rt_v_scheduled_trip_time_pct, dtype: float64"
      ]
     },
     "metadata": {},
     "output_type": "display_data"
    }
   ],
   "source": [
    "check_out(may_df)"
   ]
  },
  {
   "cell_type": "code",
   "execution_count": 14,
   "id": "976f786d-c3e5-44ae-991c-db7d95d5169a",
   "metadata": {},
   "outputs": [],
   "source": [
    "jun_df = pd.read_parquet(f\"{GCS_PATH}2023-06-14_metrics.parquet\")"
   ]
  },
  {
   "cell_type": "code",
   "execution_count": 15,
   "id": "c87d9f5e-ae39-4c4a-b313-037fc118dce4",
   "metadata": {},
   "outputs": [
    {
     "data": {
      "text/plain": [
       "count   64270.00\n",
       "mean       93.92\n",
       "std        12.67\n",
       "min         0.00\n",
       "25%        94.77\n",
       "50%       100.00\n",
       "75%       100.00\n",
       "max       100.00\n",
       "Name: spatial_accuracy_pct, dtype: float64"
      ]
     },
     "metadata": {},
     "output_type": "display_data"
    },
    {
     "data": {
      "text/plain": [
       "count   80331.00\n",
       "mean        2.51\n",
       "std         0.67\n",
       "min         0.01\n",
       "25%         1.98\n",
       "50%         2.90\n",
       "75%         2.96\n",
       "max         4.93\n",
       "Name: pings_per_min, dtype: float64"
      ]
     },
     "metadata": {},
     "output_type": "display_data"
    },
    {
     "data": {
      "text/plain": [
       "count   80331.00\n",
       "mean       95.92\n",
       "std        13.48\n",
       "min         0.28\n",
       "25%        98.43\n",
       "50%        99.67\n",
       "75%       100.28\n",
       "max       107.78\n",
       "Name: rt_triptime_w_gtfs_pct, dtype: float64"
      ]
     },
     "metadata": {},
     "output_type": "display_data"
    },
    {
     "data": {
      "text/plain": [
       "count   66748.00\n",
       "mean       63.20\n",
       "std       345.10\n",
       "min       -90.25\n",
       "25%        11.69\n",
       "50%        25.91\n",
       "75%        45.15\n",
       "max     12997.42\n",
       "Name: rt_v_scheduled_trip_time_pct, dtype: float64"
      ]
     },
     "metadata": {},
     "output_type": "display_data"
    }
   ],
   "source": [
    "check_out(jun_df)"
   ]
  },
  {
   "cell_type": "code",
   "execution_count": 16,
   "id": "e55cb702-f2fa-4350-bcd9-cb057a7edbdc",
   "metadata": {},
   "outputs": [],
   "source": [
    "jul_df = pd.read_parquet(f\"{GCS_PATH}2023-07-12_metrics.parquet\")"
   ]
  },
  {
   "cell_type": "code",
   "execution_count": 17,
   "id": "a287bc73-76ff-4235-8a72-671045bac935",
   "metadata": {},
   "outputs": [
    {
     "data": {
      "text/plain": [
       "count   67091.00\n",
       "mean       93.83\n",
       "std        13.15\n",
       "min         0.00\n",
       "25%        94.96\n",
       "50%       100.00\n",
       "75%       100.00\n",
       "max       100.00\n",
       "Name: spatial_accuracy_pct, dtype: float64"
      ]
     },
     "metadata": {},
     "output_type": "display_data"
    },
    {
     "data": {
      "text/plain": [
       "count   82044.00\n",
       "mean        2.49\n",
       "std         0.67\n",
       "min         0.00\n",
       "25%         1.95\n",
       "50%         2.90\n",
       "75%         2.97\n",
       "max         5.76\n",
       "Name: pings_per_min, dtype: float64"
      ]
     },
     "metadata": {},
     "output_type": "display_data"
    },
    {
     "data": {
      "text/plain": [
       "count   82044.00\n",
       "mean       96.42\n",
       "std        11.07\n",
       "min         0.43\n",
       "25%        98.28\n",
       "50%        99.65\n",
       "75%       100.25\n",
       "max       108.60\n",
       "Name: rt_triptime_w_gtfs_pct, dtype: float64"
      ]
     },
     "metadata": {},
     "output_type": "display_data"
    },
    {
     "data": {
      "text/plain": [
       "count   69488.00\n",
       "mean       56.85\n",
       "std       291.52\n",
       "min       -91.05\n",
       "25%        11.82\n",
       "50%        26.10\n",
       "75%        45.69\n",
       "max     17880.62\n",
       "Name: rt_v_scheduled_trip_time_pct, dtype: float64"
      ]
     },
     "metadata": {},
     "output_type": "display_data"
    }
   ],
   "source": [
    "check_out(jul_df)"
   ]
  },
  {
   "cell_type": "code",
   "execution_count": 18,
   "id": "21b4d1b8-598d-410a-9c73-69fb92d88c1b",
   "metadata": {},
   "outputs": [],
   "source": [
    "aug_df = pd.read_parquet(f\"{GCS_PATH}2023-08-15_metrics.parquet\")"
   ]
  },
  {
   "cell_type": "code",
   "execution_count": 19,
   "id": "1cda1e4d-25f7-4836-b8ab-7b7997edb446",
   "metadata": {},
   "outputs": [],
   "source": [
    "sept_df = pd.read_parquet(f\"{GCS_PATH}2023-09-13_metrics.parquet\")"
   ]
  },
  {
   "cell_type": "code",
   "execution_count": 20,
   "id": "497e04c0-1c33-4fdf-9cfc-94e2a925ebd3",
   "metadata": {},
   "outputs": [],
   "source": [
    "oct_df = pd.read_parquet(f\"{GCS_PATH}2023-10-11_metrics.parquet\")"
   ]
  },
  {
   "cell_type": "code",
   "execution_count": 21,
   "id": "07e73d1c-5b24-43a8-852e-35cff4f416e6",
   "metadata": {},
   "outputs": [],
   "source": [
    "nov_df = pd.read_parquet(f\"{GCS_PATH}2023-11-15_metrics.parquet\")"
   ]
  },
  {
   "cell_type": "code",
   "execution_count": 22,
   "id": "38f00976-c428-4c3c-a153-eb9035a709ef",
   "metadata": {},
   "outputs": [
    {
     "data": {
      "text/plain": [
       "count   74891.00\n",
       "mean       93.53\n",
       "std        13.12\n",
       "min         0.00\n",
       "25%        93.94\n",
       "50%        99.68\n",
       "75%       100.00\n",
       "max       100.00\n",
       "Name: spatial_accuracy_pct, dtype: float64"
      ]
     },
     "metadata": {},
     "output_type": "display_data"
    },
    {
     "data": {
      "text/plain": [
       "count   86832.00\n",
       "mean        2.51\n",
       "std         0.63\n",
       "min         0.00\n",
       "25%         2.09\n",
       "50%         2.86\n",
       "75%         2.96\n",
       "max         5.29\n",
       "Name: pings_per_min, dtype: float64"
      ]
     },
     "metadata": {},
     "output_type": "display_data"
    },
    {
     "data": {
      "text/plain": [
       "count   86832.00\n",
       "mean       95.93\n",
       "std        12.15\n",
       "min         0.45\n",
       "25%        98.40\n",
       "50%        99.67\n",
       "75%       100.26\n",
       "max       108.93\n",
       "Name: rt_triptime_w_gtfs_pct, dtype: float64"
      ]
     },
     "metadata": {},
     "output_type": "display_data"
    },
    {
     "data": {
      "text/plain": [
       "count   77194.00\n",
       "mean       42.53\n",
       "std       196.80\n",
       "min       -88.16\n",
       "25%        11.44\n",
       "50%        26.10\n",
       "75%        46.17\n",
       "max     11797.08\n",
       "Name: rt_v_scheduled_trip_time_pct, dtype: float64"
      ]
     },
     "metadata": {},
     "output_type": "display_data"
    }
   ],
   "source": [
    "check_out(nov_df)"
   ]
  },
  {
   "cell_type": "code",
   "execution_count": 23,
   "id": "8762a9c1-9a3b-490a-a447-4481b59d930c",
   "metadata": {},
   "outputs": [
    {
     "data": {
      "text/plain": [
       "30287"
      ]
     },
     "execution_count": 23,
     "metadata": {},
     "output_type": "execute_result"
    }
   ],
   "source": [
    "len(nov_df[nov_df.rt_triptime_w_gtfs_pct > 100])"
   ]
  },
  {
   "cell_type": "code",
   "execution_count": 24,
   "id": "e3d9b4a9-70e1-40aa-b2eb-f2e23b3a4d1f",
   "metadata": {},
   "outputs": [
    {
     "data": {
      "text/plain": [
       "86832"
      ]
     },
     "execution_count": 24,
     "metadata": {},
     "output_type": "execute_result"
    }
   ],
   "source": [
    "len(nov_df)"
   ]
  },
  {
   "cell_type": "code",
   "execution_count": 25,
   "id": "c2963bc8-5535-4dce-af95-767317c2201c",
   "metadata": {},
   "outputs": [
    {
     "name": "stdout",
     "output_type": "stream",
     "text": [
      "<class 'pandas.core.frame.DataFrame'>\n",
      "Int64Index: 86832 entries, 0 to 86831\n",
      "Data columns (total 15 columns):\n",
      " #   Column                        Non-Null Count  Dtype  \n",
      "---  ------                        --------------  -----  \n",
      " 0   trip_instance_key             86832 non-null  object \n",
      " 1   rt_service_min                86832 non-null  float64\n",
      " 2   min_w_atleast2_trip_updates   86832 non-null  int64  \n",
      " 3   total_pings_for_trip          86832 non-null  int64  \n",
      " 4   total_min_w_gtfs              86832 non-null  int64  \n",
      " 5   total_vp                      74891 non-null  float64\n",
      " 6   vp_in_shape                   74891 non-null  float64\n",
      " 7   speed_mph                     77194 non-null  float64\n",
      " 8   route_id                      75619 non-null  object \n",
      " 9   time_of_day                   77194 non-null  object \n",
      " 10  service_minutes               77194 non-null  float64\n",
      " 11  pings_per_min                 86832 non-null  float64\n",
      " 12  spatial_accuracy_pct          74891 non-null  float64\n",
      " 13  rt_triptime_w_gtfs_pct        86832 non-null  float64\n",
      " 14  rt_v_scheduled_trip_time_pct  77194 non-null  float64\n",
      "dtypes: float64(9), int64(3), object(3)\n",
      "memory usage: 10.6+ MB\n"
     ]
    }
   ],
   "source": [
    "nov_df.info()"
   ]
  },
  {
   "cell_type": "code",
   "execution_count": 26,
   "id": "b38de56d-57a5-4f5f-a214-5bcd9dde42f7",
   "metadata": {},
   "outputs": [
    {
     "data": {
      "text/plain": [
       "'2023-12-13'"
      ]
     },
     "execution_count": 26,
     "metadata": {},
     "output_type": "execute_result"
    }
   ],
   "source": [
    "analysis_date"
   ]
  },
  {
   "cell_type": "code",
   "execution_count": 27,
   "id": "873ac459-c77f-4887-a003-01b572facbda",
   "metadata": {},
   "outputs": [],
   "source": [
    "dec_df = pd.read_parquet(f\"{GCS_PATH}2023-12-13_metrics.parquet\")"
   ]
  },
  {
   "cell_type": "code",
   "execution_count": 28,
   "id": "bdc1e636-c102-43d6-a2b6-4150d0c8c4db",
   "metadata": {},
   "outputs": [
    {
     "data": {
      "text/plain": [
       "count   74609.00\n",
       "mean       93.55\n",
       "std        13.20\n",
       "min         0.00\n",
       "25%        94.23\n",
       "50%        99.64\n",
       "75%       100.00\n",
       "max       100.00\n",
       "Name: spatial_accuracy_pct, dtype: float64"
      ]
     },
     "metadata": {},
     "output_type": "display_data"
    },
    {
     "data": {
      "text/plain": [
       "count   86128.00\n",
       "mean        2.44\n",
       "std         0.60\n",
       "min         0.00\n",
       "25%         2.05\n",
       "50%         2.67\n",
       "75%         2.94\n",
       "max         5.15\n",
       "Name: pings_per_min, dtype: float64"
      ]
     },
     "metadata": {},
     "output_type": "display_data"
    },
    {
     "data": {
      "text/plain": [
       "count   86128.00\n",
       "mean       95.94\n",
       "std        11.70\n",
       "min         0.10\n",
       "25%        98.36\n",
       "50%        99.65\n",
       "75%       100.00\n",
       "max       100.00\n",
       "Name: rt_triptime_w_gtfs_pct, dtype: float64"
      ]
     },
     "metadata": {},
     "output_type": "display_data"
    },
    {
     "data": {
      "text/plain": [
       "count   76878.00\n",
       "mean       44.40\n",
       "std       272.99\n",
       "min       -86.89\n",
       "25%        11.36\n",
       "50%        25.56\n",
       "75%        45.00\n",
       "max     18873.69\n",
       "Name: rt_v_scheduled_trip_time_pct, dtype: float64"
      ]
     },
     "metadata": {},
     "output_type": "display_data"
    }
   ],
   "source": [
    "check_out(dec_df)"
   ]
  },
  {
   "cell_type": "code",
   "execution_count": 29,
   "id": "26e59c78-1e6b-428e-acd2-746b34be8311",
   "metadata": {},
   "outputs": [
    {
     "data": {
      "text/plain": [
       "Index(['trip_instance_key', 'rt_service_min', 'min_w_atleast2_trip_updates',\n",
       "       'total_pings_for_trip', 'total_min_w_gtfs', 'total_vp', 'vp_in_shape',\n",
       "       'speed_mph', 'service_minutes', 'pings_per_min', 'spatial_accuracy_pct',\n",
       "       'rt_triptime_w_gtfs_pct', 'rt_v_scheduled_trip_time_pct'],\n",
       "      dtype='object')"
      ]
     },
     "execution_count": 29,
     "metadata": {},
     "output_type": "execute_result"
    }
   ],
   "source": [
    "dec_df.columns"
   ]
  },
  {
   "cell_type": "code",
   "execution_count": 30,
   "id": "cb1def78-76b0-4d8f-9a74-258987c62ce2",
   "metadata": {},
   "outputs": [
    {
     "data": {
      "text/plain": [
       "count   76878.00\n",
       "mean       44.40\n",
       "std       272.99\n",
       "min       -86.89\n",
       "25%        11.36\n",
       "50%        25.56\n",
       "75%        45.00\n",
       "max     18873.69\n",
       "Name: rt_v_scheduled_trip_time_pct, dtype: float64"
      ]
     },
     "execution_count": 30,
     "metadata": {},
     "output_type": "execute_result"
    }
   ],
   "source": [
    "dec_df.rt_v_scheduled_trip_time_pct.describe()"
   ]
  },
  {
   "cell_type": "markdown",
   "id": "857348c6-fcfd-4569-a80d-fd1e400c84f9",
   "metadata": {},
   "source": [
    "### See why some trips have such crazy rt_v_scheduled_trip_time_pct"
   ]
  },
  {
   "cell_type": "code",
   "execution_count": 31,
   "id": "6bffdcf2-29cf-4c55-8465-75ee7e87fa1a",
   "metadata": {},
   "outputs": [],
   "source": [
    "preview_cols = [\"rt_service_min\", \"service_minutes\", \"rt_v_scheduled_trip_time_pct\"]"
   ]
  },
  {
   "cell_type": "code",
   "execution_count": 32,
   "id": "a92ed528-9953-4cdb-8801-4b89e39b8feb",
   "metadata": {},
   "outputs": [
    {
     "data": {
      "text/html": [
       "<div>\n",
       "<style scoped>\n",
       "    .dataframe tbody tr th:only-of-type {\n",
       "        vertical-align: middle;\n",
       "    }\n",
       "\n",
       "    .dataframe tbody tr th {\n",
       "        vertical-align: top;\n",
       "    }\n",
       "\n",
       "    .dataframe thead th {\n",
       "        text-align: right;\n",
       "    }\n",
       "</style>\n",
       "<table border=\"1\" class=\"dataframe\">\n",
       "  <thead>\n",
       "    <tr style=\"text-align: right;\">\n",
       "      <th></th>\n",
       "      <th>rt_service_min</th>\n",
       "      <th>service_minutes</th>\n",
       "      <th>rt_v_scheduled_trip_time_pct</th>\n",
       "    </tr>\n",
       "  </thead>\n",
       "  <tbody>\n",
       "    <tr>\n",
       "      <th>39613</th>\n",
       "      <td>1326.03</td>\n",
       "      <td>12.00</td>\n",
       "      <td>10950.28</td>\n",
       "    </tr>\n",
       "  </tbody>\n",
       "</table>\n",
       "</div>"
      ],
      "text/plain": [
       "       rt_service_min  service_minutes  rt_v_scheduled_trip_time_pct\n",
       "39613         1326.03            12.00                      10950.28"
      ]
     },
     "execution_count": 32,
     "metadata": {},
     "output_type": "execute_result"
    }
   ],
   "source": [
    "dec_df.loc[dec_df.rt_v_scheduled_trip_time_pct > 10000][preview_cols].sample()"
   ]
  },
  {
   "cell_type": "code",
   "execution_count": 33,
   "id": "f242545c-0270-46ba-8f9e-1414d215d146",
   "metadata": {},
   "outputs": [
    {
     "data": {
      "text/html": [
       "<div>\n",
       "<style scoped>\n",
       "    .dataframe tbody tr th:only-of-type {\n",
       "        vertical-align: middle;\n",
       "    }\n",
       "\n",
       "    .dataframe tbody tr th {\n",
       "        vertical-align: top;\n",
       "    }\n",
       "\n",
       "    .dataframe thead th {\n",
       "        text-align: right;\n",
       "    }\n",
       "</style>\n",
       "<table border=\"1\" class=\"dataframe\">\n",
       "  <thead>\n",
       "    <tr style=\"text-align: right;\">\n",
       "      <th></th>\n",
       "      <th>rt_service_min</th>\n",
       "      <th>service_minutes</th>\n",
       "      <th>rt_v_scheduled_trip_time_pct</th>\n",
       "    </tr>\n",
       "  </thead>\n",
       "  <tbody>\n",
       "    <tr>\n",
       "      <th>39307</th>\n",
       "      <td>1297.03</td>\n",
       "      <td>12.00</td>\n",
       "      <td>10708.61</td>\n",
       "    </tr>\n",
       "    <tr>\n",
       "      <th>39308</th>\n",
       "      <td>1309.60</td>\n",
       "      <td>12.00</td>\n",
       "      <td>10813.33</td>\n",
       "    </tr>\n",
       "    <tr>\n",
       "      <th>39309</th>\n",
       "      <td>1300.33</td>\n",
       "      <td>12.00</td>\n",
       "      <td>10736.11</td>\n",
       "    </tr>\n",
       "    <tr>\n",
       "      <th>39359</th>\n",
       "      <td>1390.38</td>\n",
       "      <td>12.00</td>\n",
       "      <td>11486.53</td>\n",
       "    </tr>\n",
       "    <tr>\n",
       "      <th>39360</th>\n",
       "      <td>1408.93</td>\n",
       "      <td>12.00</td>\n",
       "      <td>11641.11</td>\n",
       "    </tr>\n",
       "    <tr>\n",
       "      <th>39361</th>\n",
       "      <td>1402.70</td>\n",
       "      <td>12.00</td>\n",
       "      <td>11589.17</td>\n",
       "    </tr>\n",
       "    <tr>\n",
       "      <th>39462</th>\n",
       "      <td>1341.02</td>\n",
       "      <td>12.00</td>\n",
       "      <td>11075.14</td>\n",
       "    </tr>\n",
       "    <tr>\n",
       "      <th>39463</th>\n",
       "      <td>1363.98</td>\n",
       "      <td>12.00</td>\n",
       "      <td>11266.53</td>\n",
       "    </tr>\n",
       "    <tr>\n",
       "      <th>39464</th>\n",
       "      <td>1366.92</td>\n",
       "      <td>12.00</td>\n",
       "      <td>11290.97</td>\n",
       "    </tr>\n",
       "    <tr>\n",
       "      <th>39602</th>\n",
       "      <td>1364.30</td>\n",
       "      <td>12.00</td>\n",
       "      <td>11269.17</td>\n",
       "    </tr>\n",
       "    <tr>\n",
       "      <th>39603</th>\n",
       "      <td>1361.70</td>\n",
       "      <td>12.00</td>\n",
       "      <td>11247.50</td>\n",
       "    </tr>\n",
       "    <tr>\n",
       "      <th>39613</th>\n",
       "      <td>1326.03</td>\n",
       "      <td>12.00</td>\n",
       "      <td>10950.28</td>\n",
       "    </tr>\n",
       "    <tr>\n",
       "      <th>39636</th>\n",
       "      <td>1235.33</td>\n",
       "      <td>12.00</td>\n",
       "      <td>10194.44</td>\n",
       "    </tr>\n",
       "    <tr>\n",
       "      <th>39646</th>\n",
       "      <td>1215.97</td>\n",
       "      <td>12.00</td>\n",
       "      <td>10033.06</td>\n",
       "    </tr>\n",
       "    <tr>\n",
       "      <th>39647</th>\n",
       "      <td>1225.32</td>\n",
       "      <td>12.00</td>\n",
       "      <td>10110.97</td>\n",
       "    </tr>\n",
       "    <tr>\n",
       "      <th>39753</th>\n",
       "      <td>1328.27</td>\n",
       "      <td>12.00</td>\n",
       "      <td>10968.89</td>\n",
       "    </tr>\n",
       "    <tr>\n",
       "      <th>39754</th>\n",
       "      <td>1343.33</td>\n",
       "      <td>12.00</td>\n",
       "      <td>11094.44</td>\n",
       "    </tr>\n",
       "    <tr>\n",
       "      <th>39765</th>\n",
       "      <td>1333.98</td>\n",
       "      <td>12.00</td>\n",
       "      <td>11016.53</td>\n",
       "    </tr>\n",
       "    <tr>\n",
       "      <th>39783</th>\n",
       "      <td>1440.67</td>\n",
       "      <td>12.00</td>\n",
       "      <td>11905.56</td>\n",
       "    </tr>\n",
       "    <tr>\n",
       "      <th>39837</th>\n",
       "      <td>1440.67</td>\n",
       "      <td>12.00</td>\n",
       "      <td>11905.56</td>\n",
       "    </tr>\n",
       "    <tr>\n",
       "      <th>39861</th>\n",
       "      <td>1435.28</td>\n",
       "      <td>12.00</td>\n",
       "      <td>11860.69</td>\n",
       "    </tr>\n",
       "    <tr>\n",
       "      <th>39897</th>\n",
       "      <td>1440.67</td>\n",
       "      <td>12.00</td>\n",
       "      <td>11905.56</td>\n",
       "    </tr>\n",
       "    <tr>\n",
       "      <th>39954</th>\n",
       "      <td>1343.98</td>\n",
       "      <td>12.00</td>\n",
       "      <td>11099.86</td>\n",
       "    </tr>\n",
       "    <tr>\n",
       "      <th>39955</th>\n",
       "      <td>1374.97</td>\n",
       "      <td>12.00</td>\n",
       "      <td>11358.06</td>\n",
       "    </tr>\n",
       "    <tr>\n",
       "      <th>39956</th>\n",
       "      <td>1387.90</td>\n",
       "      <td>12.00</td>\n",
       "      <td>11465.83</td>\n",
       "    </tr>\n",
       "    <tr>\n",
       "      <th>40037</th>\n",
       "      <td>1423.93</td>\n",
       "      <td>12.00</td>\n",
       "      <td>11766.11</td>\n",
       "    </tr>\n",
       "    <tr>\n",
       "      <th>40089</th>\n",
       "      <td>1385.35</td>\n",
       "      <td>12.00</td>\n",
       "      <td>11444.58</td>\n",
       "    </tr>\n",
       "    <tr>\n",
       "      <th>40090</th>\n",
       "      <td>1388.03</td>\n",
       "      <td>12.00</td>\n",
       "      <td>11466.94</td>\n",
       "    </tr>\n",
       "    <tr>\n",
       "      <th>40091</th>\n",
       "      <td>1379.05</td>\n",
       "      <td>12.00</td>\n",
       "      <td>11392.08</td>\n",
       "    </tr>\n",
       "    <tr>\n",
       "      <th>40196</th>\n",
       "      <td>1440.67</td>\n",
       "      <td>12.00</td>\n",
       "      <td>11905.56</td>\n",
       "    </tr>\n",
       "    <tr>\n",
       "      <th>75715</th>\n",
       "      <td>7020.27</td>\n",
       "      <td>37.00</td>\n",
       "      <td>18873.69</td>\n",
       "    </tr>\n",
       "  </tbody>\n",
       "</table>\n",
       "</div>"
      ],
      "text/plain": [
       "       rt_service_min  service_minutes  rt_v_scheduled_trip_time_pct\n",
       "39307         1297.03            12.00                      10708.61\n",
       "39308         1309.60            12.00                      10813.33\n",
       "39309         1300.33            12.00                      10736.11\n",
       "39359         1390.38            12.00                      11486.53\n",
       "39360         1408.93            12.00                      11641.11\n",
       "39361         1402.70            12.00                      11589.17\n",
       "39462         1341.02            12.00                      11075.14\n",
       "39463         1363.98            12.00                      11266.53\n",
       "39464         1366.92            12.00                      11290.97\n",
       "39602         1364.30            12.00                      11269.17\n",
       "39603         1361.70            12.00                      11247.50\n",
       "39613         1326.03            12.00                      10950.28\n",
       "39636         1235.33            12.00                      10194.44\n",
       "39646         1215.97            12.00                      10033.06\n",
       "39647         1225.32            12.00                      10110.97\n",
       "39753         1328.27            12.00                      10968.89\n",
       "39754         1343.33            12.00                      11094.44\n",
       "39765         1333.98            12.00                      11016.53\n",
       "39783         1440.67            12.00                      11905.56\n",
       "39837         1440.67            12.00                      11905.56\n",
       "39861         1435.28            12.00                      11860.69\n",
       "39897         1440.67            12.00                      11905.56\n",
       "39954         1343.98            12.00                      11099.86\n",
       "39955         1374.97            12.00                      11358.06\n",
       "39956         1387.90            12.00                      11465.83\n",
       "40037         1423.93            12.00                      11766.11\n",
       "40089         1385.35            12.00                      11444.58\n",
       "40090         1388.03            12.00                      11466.94\n",
       "40091         1379.05            12.00                      11392.08\n",
       "40196         1440.67            12.00                      11905.56\n",
       "75715         7020.27            37.00                      18873.69"
      ]
     },
     "execution_count": 33,
     "metadata": {},
     "output_type": "execute_result"
    }
   ],
   "source": [
    "dec_df.loc[dec_df.rt_v_scheduled_trip_time_pct > 10000][preview_cols]"
   ]
  },
  {
   "cell_type": "markdown",
   "id": "a227a3dd-7761-46d0-bcc2-2a1e0f18db09",
   "metadata": {},
   "source": [
    "### Test aggregating with Dec"
   ]
  },
  {
   "cell_type": "markdown",
   "id": "90958a55-27ca-447f-8304-37773081c973",
   "metadata": {},
   "source": [
    "#### Step 1: add missing cols\n",
    "* https://github.com/cal-itp/data-analyses/blob/main/rt_segment_speeds/scripts/avg_speeds_by_segment.py#L135"
   ]
  },
  {
   "cell_type": "code",
   "execution_count": 34,
   "id": "84cc7f28-1289-4df1-8073-cd6e71ed77a6",
   "metadata": {},
   "outputs": [],
   "source": [
    "group_cols = [\"trip_instance_key\"]\n",
    "\n",
    "keep_cols = [\n",
    "    \"gtfs_dataset_key\",\n",
    "    \"direction_id\",\n",
    "    \"route_id\",\n",
    "    \"route_short_name\",\n",
    "    \"route_long_name\",\n",
    "    \"route_desc\",\n",
    "] + group_cols\n",
    "\n",
    "crosswalk = helpers.import_scheduled_trips(\n",
    "    analysis_date, columns=keep_cols, get_pandas=True\n",
    ")"
   ]
  },
  {
   "cell_type": "code",
   "execution_count": 35,
   "id": "0b4b0f0d-cc15-4f3e-b8c7-df8579831539",
   "metadata": {},
   "outputs": [
    {
     "data": {
      "text/html": [
       "<div>\n",
       "<style scoped>\n",
       "    .dataframe tbody tr th:only-of-type {\n",
       "        vertical-align: middle;\n",
       "    }\n",
       "\n",
       "    .dataframe tbody tr th {\n",
       "        vertical-align: top;\n",
       "    }\n",
       "\n",
       "    .dataframe thead th {\n",
       "        text-align: right;\n",
       "    }\n",
       "</style>\n",
       "<table border=\"1\" class=\"dataframe\">\n",
       "  <thead>\n",
       "    <tr style=\"text-align: right;\">\n",
       "      <th></th>\n",
       "      <th>trip_instance_key</th>\n",
       "      <th>rt_service_min</th>\n",
       "      <th>min_w_atleast2_trip_updates</th>\n",
       "      <th>total_pings_for_trip</th>\n",
       "      <th>total_min_w_gtfs</th>\n",
       "      <th>total_vp</th>\n",
       "      <th>vp_in_shape</th>\n",
       "      <th>speed_mph</th>\n",
       "      <th>service_minutes</th>\n",
       "      <th>pings_per_min</th>\n",
       "      <th>spatial_accuracy_pct</th>\n",
       "      <th>rt_triptime_w_gtfs_pct</th>\n",
       "      <th>rt_v_scheduled_trip_time_pct</th>\n",
       "    </tr>\n",
       "  </thead>\n",
       "  <tbody>\n",
       "    <tr>\n",
       "      <th>0</th>\n",
       "      <td>5d25a4366c173007d9c29fdead0299d7</td>\n",
       "      <td>74.03</td>\n",
       "      <td>73</td>\n",
       "      <td>216</td>\n",
       "      <td>74</td>\n",
       "      <td>216.00</td>\n",
       "      <td>148.00</td>\n",
       "      <td>21.01</td>\n",
       "      <td>58.00</td>\n",
       "      <td>2.92</td>\n",
       "      <td>68.52</td>\n",
       "      <td>99.95</td>\n",
       "      <td>27.64</td>\n",
       "    </tr>\n",
       "    <tr>\n",
       "      <th>1</th>\n",
       "      <td>4b72b80fc9cfe5e613bab95585cbe7e4</td>\n",
       "      <td>23.45</td>\n",
       "      <td>21</td>\n",
       "      <td>59</td>\n",
       "      <td>23</td>\n",
       "      <td>59.00</td>\n",
       "      <td>19.00</td>\n",
       "      <td>54.95</td>\n",
       "      <td>58.00</td>\n",
       "      <td>2.52</td>\n",
       "      <td>32.20</td>\n",
       "      <td>98.08</td>\n",
       "      <td>-59.57</td>\n",
       "    </tr>\n",
       "  </tbody>\n",
       "</table>\n",
       "</div>"
      ],
      "text/plain": [
       "                  trip_instance_key  rt_service_min  \\\n",
       "0  5d25a4366c173007d9c29fdead0299d7           74.03   \n",
       "1  4b72b80fc9cfe5e613bab95585cbe7e4           23.45   \n",
       "\n",
       "   min_w_atleast2_trip_updates  total_pings_for_trip  total_min_w_gtfs  \\\n",
       "0                           73                   216                74   \n",
       "1                           21                    59                23   \n",
       "\n",
       "   total_vp  vp_in_shape  speed_mph  service_minutes  pings_per_min  \\\n",
       "0    216.00       148.00      21.01            58.00           2.92   \n",
       "1     59.00        19.00      54.95            58.00           2.52   \n",
       "\n",
       "   spatial_accuracy_pct  rt_triptime_w_gtfs_pct  rt_v_scheduled_trip_time_pct  \n",
       "0                 68.52                   99.95                         27.64  \n",
       "1                 32.20                   98.08                        -59.57  "
      ]
     },
     "execution_count": 35,
     "metadata": {},
     "output_type": "execute_result"
    }
   ],
   "source": [
    "dec_df.head(2)"
   ]
  },
  {
   "cell_type": "code",
   "execution_count": 36,
   "id": "1e89939b-1bca-4670-955f-013c16949ec9",
   "metadata": {},
   "outputs": [
    {
     "data": {
      "text/html": [
       "<div>\n",
       "<style scoped>\n",
       "    .dataframe tbody tr th:only-of-type {\n",
       "        vertical-align: middle;\n",
       "    }\n",
       "\n",
       "    .dataframe tbody tr th {\n",
       "        vertical-align: top;\n",
       "    }\n",
       "\n",
       "    .dataframe thead th {\n",
       "        text-align: right;\n",
       "    }\n",
       "</style>\n",
       "<table border=\"1\" class=\"dataframe\">\n",
       "  <thead>\n",
       "    <tr style=\"text-align: right;\">\n",
       "      <th></th>\n",
       "      <th>schedule_gtfs_dataset_key</th>\n",
       "      <th>direction_id</th>\n",
       "      <th>route_id</th>\n",
       "      <th>route_short_name</th>\n",
       "      <th>route_long_name</th>\n",
       "      <th>route_desc</th>\n",
       "      <th>trip_instance_key</th>\n",
       "    </tr>\n",
       "  </thead>\n",
       "  <tbody>\n",
       "    <tr>\n",
       "      <th>0</th>\n",
       "      <td>1770249a5a2e770ca90628434d4934b1</td>\n",
       "      <td>1.00</td>\n",
       "      <td>3402</td>\n",
       "      <td>Route 11</td>\n",
       "      <td>Route 11</td>\n",
       "      <td>PACIFIC VIEW MALL via TELEPHONE RD</td>\n",
       "      <td>595914b0c046d093f4fd5f9e88ab5635</td>\n",
       "    </tr>\n",
       "    <tr>\n",
       "      <th>1</th>\n",
       "      <td>1770249a5a2e770ca90628434d4934b1</td>\n",
       "      <td>1.00</td>\n",
       "      <td>3402</td>\n",
       "      <td>Route 11</td>\n",
       "      <td>Route 11</td>\n",
       "      <td>PACIFIC VIEW MALL via TELEPHONE RD</td>\n",
       "      <td>5ad8f3475c016f517dcb2611ccd69764</td>\n",
       "    </tr>\n",
       "  </tbody>\n",
       "</table>\n",
       "</div>"
      ],
      "text/plain": [
       "          schedule_gtfs_dataset_key  direction_id route_id route_short_name  \\\n",
       "0  1770249a5a2e770ca90628434d4934b1          1.00     3402         Route 11   \n",
       "1  1770249a5a2e770ca90628434d4934b1          1.00     3402         Route 11   \n",
       "\n",
       "  route_long_name                          route_desc  \\\n",
       "0        Route 11  PACIFIC VIEW MALL via TELEPHONE RD   \n",
       "1        Route 11  PACIFIC VIEW MALL via TELEPHONE RD   \n",
       "\n",
       "                  trip_instance_key  \n",
       "0  595914b0c046d093f4fd5f9e88ab5635  \n",
       "1  5ad8f3475c016f517dcb2611ccd69764  "
      ]
     },
     "execution_count": 36,
     "metadata": {},
     "output_type": "execute_result"
    }
   ],
   "source": [
    "crosswalk.head(2)"
   ]
  },
  {
   "cell_type": "code",
   "execution_count": 37,
   "id": "7fabab72-c1a4-468f-83d6-b1e066014129",
   "metadata": {},
   "outputs": [],
   "source": [
    "# dec_df = dec_df.drop(columns=[\"service_minutes\"])"
   ]
  },
  {
   "cell_type": "code",
   "execution_count": 38,
   "id": "e12360a1-11fc-4e01-b2c9-2dbe0f49ee3d",
   "metadata": {},
   "outputs": [
    {
     "data": {
      "text/plain": [
       "'2023-12-13'"
      ]
     },
     "execution_count": 38,
     "metadata": {},
     "output_type": "execute_result"
    }
   ],
   "source": [
    "analysis_date"
   ]
  },
  {
   "cell_type": "markdown",
   "id": "ec25f2ca-bc4b-44aa-bf9c-4689c47eff29",
   "metadata": {},
   "source": [
    "#### Don't need `common_shape_id`"
   ]
  },
  {
   "cell_type": "code",
   "execution_count": 39,
   "id": "e862de9a-47dc-42e0-aec3-81645a09afea",
   "metadata": {},
   "outputs": [],
   "source": [
    "common_shape = sched_rt_utils.most_common_shape_by_route_direction(analysis_date)"
   ]
  },
  {
   "cell_type": "code",
   "execution_count": 40,
   "id": "d6578b42-82b3-4edf-b97b-b4092c6f17ba",
   "metadata": {},
   "outputs": [
    {
     "data": {
      "text/html": [
       "<div>\n",
       "<style scoped>\n",
       "    .dataframe tbody tr th:only-of-type {\n",
       "        vertical-align: middle;\n",
       "    }\n",
       "\n",
       "    .dataframe tbody tr th {\n",
       "        vertical-align: top;\n",
       "    }\n",
       "\n",
       "    .dataframe thead th {\n",
       "        text-align: right;\n",
       "    }\n",
       "</style>\n",
       "<table border=\"1\" class=\"dataframe\">\n",
       "  <thead>\n",
       "    <tr style=\"text-align: right;\">\n",
       "      <th></th>\n",
       "      <th>schedule_gtfs_dataset_key</th>\n",
       "      <th>route_id</th>\n",
       "      <th>direction_id</th>\n",
       "      <th>common_shape_id</th>\n",
       "      <th>shape_array_key</th>\n",
       "    </tr>\n",
       "  </thead>\n",
       "  <tbody>\n",
       "    <tr>\n",
       "      <th>0</th>\n",
       "      <td>014d0998350083249a9eb310635548c2</td>\n",
       "      <td>10866826</td>\n",
       "      <td>1.00</td>\n",
       "      <td>10866826:1</td>\n",
       "      <td>a7f294e50a9a8ff179d4c82cd9136625</td>\n",
       "    </tr>\n",
       "    <tr>\n",
       "      <th>1</th>\n",
       "      <td>014d0998350083249a9eb310635548c2</td>\n",
       "      <td>10866849</td>\n",
       "      <td>1.00</td>\n",
       "      <td>10866849:1</td>\n",
       "      <td>af9aea31d387f59024bf25fb1d9334a3</td>\n",
       "    </tr>\n",
       "  </tbody>\n",
       "</table>\n",
       "</div>"
      ],
      "text/plain": [
       "          schedule_gtfs_dataset_key  route_id  direction_id common_shape_id  \\\n",
       "0  014d0998350083249a9eb310635548c2  10866826          1.00      10866826:1   \n",
       "1  014d0998350083249a9eb310635548c2  10866849          1.00      10866849:1   \n",
       "\n",
       "                    shape_array_key  \n",
       "0  a7f294e50a9a8ff179d4c82cd9136625  \n",
       "1  af9aea31d387f59024bf25fb1d9334a3  "
      ]
     },
     "execution_count": 40,
     "metadata": {},
     "output_type": "execute_result"
    }
   ],
   "source": [
    "common_shape.head(2)"
   ]
  },
  {
   "cell_type": "code",
   "execution_count": 41,
   "id": "aba49709-75e1-43e2-84a0-953fc3219206",
   "metadata": {},
   "outputs": [],
   "source": [
    "crosswalk2 = pd.merge(\n",
    "    crosswalk,\n",
    "    common_shape,\n",
    "    on=[\"schedule_gtfs_dataset_key\", \"route_id\", \"direction_id\"],\n",
    "    how=\"inner\",\n",
    ").astype({\"direction_id\": \"Int64\"})"
   ]
  },
  {
   "cell_type": "code",
   "execution_count": 42,
   "id": "f23a0e8a-e7f3-411e-a6c0-784c87e559ed",
   "metadata": {},
   "outputs": [],
   "source": [
    "time_of_day = sched_rt_utils.get_trip_time_buckets(analysis_date)"
   ]
  },
  {
   "cell_type": "code",
   "execution_count": 43,
   "id": "51be9b61-db22-4c1f-8f96-6b339a16e991",
   "metadata": {},
   "outputs": [],
   "source": [
    "# Drop service mins since we already ahve this and it matches\n",
    "time_of_day = time_of_day.drop(columns=[\"service_minutes\"])"
   ]
  },
  {
   "cell_type": "code",
   "execution_count": 44,
   "id": "99381d4c-b338-4e04-a351-b077c6b94224",
   "metadata": {},
   "outputs": [
    {
     "data": {
      "text/html": [
       "<div>\n",
       "<style scoped>\n",
       "    .dataframe tbody tr th:only-of-type {\n",
       "        vertical-align: middle;\n",
       "    }\n",
       "\n",
       "    .dataframe tbody tr th {\n",
       "        vertical-align: top;\n",
       "    }\n",
       "\n",
       "    .dataframe thead th {\n",
       "        text-align: right;\n",
       "    }\n",
       "</style>\n",
       "<table border=\"1\" class=\"dataframe\">\n",
       "  <thead>\n",
       "    <tr style=\"text-align: right;\">\n",
       "      <th></th>\n",
       "      <th>trip_instance_key</th>\n",
       "      <th>service_hours</th>\n",
       "      <th>trip_first_departure_datetime_pacific</th>\n",
       "      <th>time_of_day</th>\n",
       "    </tr>\n",
       "  </thead>\n",
       "  <tbody>\n",
       "    <tr>\n",
       "      <th>0</th>\n",
       "      <td>595914b0c046d093f4fd5f9e88ab5635</td>\n",
       "      <td>0.55</td>\n",
       "      <td>2023-12-13 18:35:00</td>\n",
       "      <td>PM Peak</td>\n",
       "    </tr>\n",
       "    <tr>\n",
       "      <th>1</th>\n",
       "      <td>5ad8f3475c016f517dcb2611ccd69764</td>\n",
       "      <td>0.55</td>\n",
       "      <td>2023-12-13 19:05:00</td>\n",
       "      <td>PM Peak</td>\n",
       "    </tr>\n",
       "  </tbody>\n",
       "</table>\n",
       "</div>"
      ],
      "text/plain": [
       "                  trip_instance_key  service_hours  \\\n",
       "0  595914b0c046d093f4fd5f9e88ab5635           0.55   \n",
       "1  5ad8f3475c016f517dcb2611ccd69764           0.55   \n",
       "\n",
       "  trip_first_departure_datetime_pacific time_of_day  \n",
       "0                   2023-12-13 18:35:00     PM Peak  \n",
       "1                   2023-12-13 19:05:00     PM Peak  "
      ]
     },
     "execution_count": 44,
     "metadata": {},
     "output_type": "execute_result"
    }
   ],
   "source": [
    "time_of_day.head(2)"
   ]
  },
  {
   "cell_type": "code",
   "execution_count": 45,
   "id": "3defcf73-8930-48c7-ae05-7e3ec263887a",
   "metadata": {},
   "outputs": [],
   "source": [
    "crosswalk2 = portfolio_utils.add_route_name(crosswalk2).drop(\n",
    "    columns=[\"route_short_name\", \"route_long_name\", \"route_desc\"]\n",
    ")"
   ]
  },
  {
   "cell_type": "code",
   "execution_count": 46,
   "id": "67e1a70f-d21c-4a9d-b4a3-2ebde459b4e1",
   "metadata": {},
   "outputs": [],
   "source": [
    "df = pd.merge(\n",
    "    dec_df,\n",
    "    crosswalk2,\n",
    "    on=\"trip_instance_key\",\n",
    "    how=\"left\",\n",
    ").merge(time_of_day, on=\"trip_instance_key\", how=\"left\")"
   ]
  },
  {
   "cell_type": "code",
   "execution_count": 47,
   "id": "deb99704-52a5-4119-8d09-ddb4bc3ca13d",
   "metadata": {},
   "outputs": [],
   "source": [
    "# Test if servicve minutes match\n",
    "# df['matching_service_mins'] = df.service_minutes_x - df.service_minutes_y"
   ]
  },
  {
   "cell_type": "code",
   "execution_count": 48,
   "id": "777c0915-acc0-4fac-83e0-7ddc7a396e86",
   "metadata": {},
   "outputs": [],
   "source": [
    "# Yes it matchesp perfectly\n",
    "# df['matching_service_mins'].describe()"
   ]
  },
  {
   "cell_type": "code",
   "execution_count": 49,
   "id": "4576ab1e-2bde-4420-8254-7c8e2a2700d5",
   "metadata": {},
   "outputs": [
    {
     "data": {
      "text/html": [
       "<div>\n",
       "<style scoped>\n",
       "    .dataframe tbody tr th:only-of-type {\n",
       "        vertical-align: middle;\n",
       "    }\n",
       "\n",
       "    .dataframe tbody tr th {\n",
       "        vertical-align: top;\n",
       "    }\n",
       "\n",
       "    .dataframe thead th {\n",
       "        text-align: right;\n",
       "    }\n",
       "</style>\n",
       "<table border=\"1\" class=\"dataframe\">\n",
       "  <thead>\n",
       "    <tr style=\"text-align: right;\">\n",
       "      <th></th>\n",
       "      <th>trip_instance_key</th>\n",
       "      <th>rt_service_min</th>\n",
       "      <th>min_w_atleast2_trip_updates</th>\n",
       "      <th>total_pings_for_trip</th>\n",
       "      <th>total_min_w_gtfs</th>\n",
       "      <th>total_vp</th>\n",
       "      <th>vp_in_shape</th>\n",
       "      <th>speed_mph</th>\n",
       "      <th>service_minutes</th>\n",
       "      <th>pings_per_min</th>\n",
       "      <th>spatial_accuracy_pct</th>\n",
       "      <th>rt_triptime_w_gtfs_pct</th>\n",
       "      <th>rt_v_scheduled_trip_time_pct</th>\n",
       "      <th>schedule_gtfs_dataset_key</th>\n",
       "      <th>direction_id</th>\n",
       "      <th>route_id</th>\n",
       "      <th>common_shape_id</th>\n",
       "      <th>shape_array_key</th>\n",
       "      <th>route_name_used</th>\n",
       "      <th>service_hours</th>\n",
       "      <th>trip_first_departure_datetime_pacific</th>\n",
       "      <th>time_of_day</th>\n",
       "    </tr>\n",
       "  </thead>\n",
       "  <tbody>\n",
       "    <tr>\n",
       "      <th>0</th>\n",
       "      <td>5d25a4366c173007d9c29fdead0299d7</td>\n",
       "      <td>74.03</td>\n",
       "      <td>73</td>\n",
       "      <td>216</td>\n",
       "      <td>74</td>\n",
       "      <td>216.00</td>\n",
       "      <td>148.00</td>\n",
       "      <td>21.01</td>\n",
       "      <td>58.00</td>\n",
       "      <td>2.92</td>\n",
       "      <td>68.52</td>\n",
       "      <td>99.95</td>\n",
       "      <td>27.64</td>\n",
       "      <td>63029a23cb0e73f2a5d98a345c5e2e40</td>\n",
       "      <td>1</td>\n",
       "      <td>3428</td>\n",
       "      <td>8371</td>\n",
       "      <td>0d0ca5bc40fb6266a03f400c3aa7e6cb</td>\n",
       "      <td></td>\n",
       "      <td>0.97</td>\n",
       "      <td>2023-12-13 05:34:00</td>\n",
       "      <td>Early AM</td>\n",
       "    </tr>\n",
       "    <tr>\n",
       "      <th>1</th>\n",
       "      <td>4b72b80fc9cfe5e613bab95585cbe7e4</td>\n",
       "      <td>23.45</td>\n",
       "      <td>21</td>\n",
       "      <td>59</td>\n",
       "      <td>23</td>\n",
       "      <td>59.00</td>\n",
       "      <td>19.00</td>\n",
       "      <td>54.95</td>\n",
       "      <td>58.00</td>\n",
       "      <td>2.52</td>\n",
       "      <td>32.20</td>\n",
       "      <td>98.08</td>\n",
       "      <td>-59.57</td>\n",
       "      <td>63029a23cb0e73f2a5d98a345c5e2e40</td>\n",
       "      <td>1</td>\n",
       "      <td>3428</td>\n",
       "      <td>8371</td>\n",
       "      <td>0d0ca5bc40fb6266a03f400c3aa7e6cb</td>\n",
       "      <td></td>\n",
       "      <td>0.97</td>\n",
       "      <td>2023-12-13 06:34:00</td>\n",
       "      <td>Early AM</td>\n",
       "    </tr>\n",
       "    <tr>\n",
       "      <th>2</th>\n",
       "      <td>2f061fce31ec5f20f55a81177996db89</td>\n",
       "      <td>104.37</td>\n",
       "      <td>102</td>\n",
       "      <td>309</td>\n",
       "      <td>104</td>\n",
       "      <td>309.00</td>\n",
       "      <td>199.00</td>\n",
       "      <td>8.94</td>\n",
       "      <td>58.00</td>\n",
       "      <td>2.96</td>\n",
       "      <td>64.40</td>\n",
       "      <td>99.65</td>\n",
       "      <td>79.94</td>\n",
       "      <td>63029a23cb0e73f2a5d98a345c5e2e40</td>\n",
       "      <td>0</td>\n",
       "      <td>3428</td>\n",
       "      <td>13407</td>\n",
       "      <td>f05fbd11b7b08a3a09b24593b7a83497</td>\n",
       "      <td></td>\n",
       "      <td>0.97</td>\n",
       "      <td>2023-12-13 15:37:00</td>\n",
       "      <td>PM Peak</td>\n",
       "    </tr>\n",
       "    <tr>\n",
       "      <th>3</th>\n",
       "      <td>3732269c8694ba9a0bd4c44aed97abe0</td>\n",
       "      <td>141.95</td>\n",
       "      <td>140</td>\n",
       "      <td>422</td>\n",
       "      <td>142</td>\n",
       "      <td>422.00</td>\n",
       "      <td>188.00</td>\n",
       "      <td>9.38</td>\n",
       "      <td>58.00</td>\n",
       "      <td>2.97</td>\n",
       "      <td>44.55</td>\n",
       "      <td>100.00</td>\n",
       "      <td>144.74</td>\n",
       "      <td>63029a23cb0e73f2a5d98a345c5e2e40</td>\n",
       "      <td>0</td>\n",
       "      <td>3428</td>\n",
       "      <td>13407</td>\n",
       "      <td>f05fbd11b7b08a3a09b24593b7a83497</td>\n",
       "      <td></td>\n",
       "      <td>0.97</td>\n",
       "      <td>2023-12-13 16:37:00</td>\n",
       "      <td>PM Peak</td>\n",
       "    </tr>\n",
       "    <tr>\n",
       "      <th>4</th>\n",
       "      <td>101556fdfe31b5849787220373f21ed8</td>\n",
       "      <td>72.78</td>\n",
       "      <td>72</td>\n",
       "      <td>210</td>\n",
       "      <td>73</td>\n",
       "      <td>210.00</td>\n",
       "      <td>109.00</td>\n",
       "      <td>31.65</td>\n",
       "      <td>55.00</td>\n",
       "      <td>2.89</td>\n",
       "      <td>51.90</td>\n",
       "      <td>100.00</td>\n",
       "      <td>32.33</td>\n",
       "      <td>63029a23cb0e73f2a5d98a345c5e2e40</td>\n",
       "      <td>1</td>\n",
       "      <td>3429</td>\n",
       "      <td>8373</td>\n",
       "      <td>0f9dd50e2356a5299046fb0ed1a00a89</td>\n",
       "      <td></td>\n",
       "      <td>0.92</td>\n",
       "      <td>2023-12-13 05:55:00</td>\n",
       "      <td>Early AM</td>\n",
       "    </tr>\n",
       "  </tbody>\n",
       "</table>\n",
       "</div>"
      ],
      "text/plain": [
       "                  trip_instance_key  rt_service_min  \\\n",
       "0  5d25a4366c173007d9c29fdead0299d7           74.03   \n",
       "1  4b72b80fc9cfe5e613bab95585cbe7e4           23.45   \n",
       "2  2f061fce31ec5f20f55a81177996db89          104.37   \n",
       "3  3732269c8694ba9a0bd4c44aed97abe0          141.95   \n",
       "4  101556fdfe31b5849787220373f21ed8           72.78   \n",
       "\n",
       "   min_w_atleast2_trip_updates  total_pings_for_trip  total_min_w_gtfs  \\\n",
       "0                           73                   216                74   \n",
       "1                           21                    59                23   \n",
       "2                          102                   309               104   \n",
       "3                          140                   422               142   \n",
       "4                           72                   210                73   \n",
       "\n",
       "   total_vp  vp_in_shape  speed_mph  service_minutes  pings_per_min  \\\n",
       "0    216.00       148.00      21.01            58.00           2.92   \n",
       "1     59.00        19.00      54.95            58.00           2.52   \n",
       "2    309.00       199.00       8.94            58.00           2.96   \n",
       "3    422.00       188.00       9.38            58.00           2.97   \n",
       "4    210.00       109.00      31.65            55.00           2.89   \n",
       "\n",
       "   spatial_accuracy_pct  rt_triptime_w_gtfs_pct  rt_v_scheduled_trip_time_pct  \\\n",
       "0                 68.52                   99.95                         27.64   \n",
       "1                 32.20                   98.08                        -59.57   \n",
       "2                 64.40                   99.65                         79.94   \n",
       "3                 44.55                  100.00                        144.74   \n",
       "4                 51.90                  100.00                         32.33   \n",
       "\n",
       "          schedule_gtfs_dataset_key  direction_id route_id common_shape_id  \\\n",
       "0  63029a23cb0e73f2a5d98a345c5e2e40             1     3428            8371   \n",
       "1  63029a23cb0e73f2a5d98a345c5e2e40             1     3428            8371   \n",
       "2  63029a23cb0e73f2a5d98a345c5e2e40             0     3428           13407   \n",
       "3  63029a23cb0e73f2a5d98a345c5e2e40             0     3428           13407   \n",
       "4  63029a23cb0e73f2a5d98a345c5e2e40             1     3429            8373   \n",
       "\n",
       "                    shape_array_key route_name_used  service_hours  \\\n",
       "0  0d0ca5bc40fb6266a03f400c3aa7e6cb                           0.97   \n",
       "1  0d0ca5bc40fb6266a03f400c3aa7e6cb                           0.97   \n",
       "2  f05fbd11b7b08a3a09b24593b7a83497                           0.97   \n",
       "3  f05fbd11b7b08a3a09b24593b7a83497                           0.97   \n",
       "4  0f9dd50e2356a5299046fb0ed1a00a89                           0.92   \n",
       "\n",
       "  trip_first_departure_datetime_pacific time_of_day  \n",
       "0                   2023-12-13 05:34:00    Early AM  \n",
       "1                   2023-12-13 06:34:00    Early AM  \n",
       "2                   2023-12-13 15:37:00     PM Peak  \n",
       "3                   2023-12-13 16:37:00     PM Peak  \n",
       "4                   2023-12-13 05:55:00    Early AM  "
      ]
     },
     "execution_count": 49,
     "metadata": {},
     "output_type": "execute_result"
    }
   ],
   "source": [
    "df.head()"
   ]
  },
  {
   "cell_type": "code",
   "execution_count": 50,
   "id": "94f4812c-8166-4f8c-a3c9-aa4d6f34df9c",
   "metadata": {},
   "outputs": [
    {
     "data": {
      "text/plain": [
       "((86128, 22),)"
      ]
     },
     "execution_count": 50,
     "metadata": {},
     "output_type": "execute_result"
    }
   ],
   "source": [
    "df.shape,"
   ]
  },
  {
   "cell_type": "markdown",
   "id": "d2ff8a3d-d3f5-42b4-b096-24b33b9842ca",
   "metadata": {},
   "source": [
    "#### Aggregate avg speed by route\n",
    "* DO I need to use the other functions in the script\n",
    "* Do we still drop rows that are above 70 mph?\n",
    "* https://github.com/cal-itp/data-analyses/blob/main/rt_segment_speeds/scripts/export.py#L150\n"
   ]
  },
  {
   "cell_type": "code",
   "execution_count": 51,
   "id": "6f9d6077-0551-42e0-830c-a262364770f0",
   "metadata": {},
   "outputs": [],
   "source": [
    "df2 = df.loc[df.speed_mph <= 70].reset_index(drop=True)"
   ]
  },
  {
   "cell_type": "code",
   "execution_count": 52,
   "id": "e7ce443a-b466-4d07-a613-cfc05a1b764d",
   "metadata": {},
   "outputs": [
    {
     "data": {
      "text/plain": [
       "(76838, 86128)"
      ]
     },
     "execution_count": 52,
     "metadata": {},
     "output_type": "execute_result"
    }
   ],
   "source": [
    "len(df2), len(df)"
   ]
  },
  {
   "cell_type": "code",
   "execution_count": 53,
   "id": "b3695f80-f817-4e3f-b882-5f37e0c277ae",
   "metadata": {},
   "outputs": [],
   "source": [
    "route_cols = [\n",
    "    \"schedule_gtfs_dataset_key\",\n",
    "    \"time_of_day\",\n",
    "    \"route_id\",\n",
    "    \"direction_id\",\n",
    "    \"route_name_used\",\n",
    "    \"shape_array_key\",\n",
    "]"
   ]
  },
  {
   "cell_type": "code",
   "execution_count": 54,
   "id": "e964a1f0-b66c-4d7f-92d0-c72e7c7bf39c",
   "metadata": {},
   "outputs": [],
   "source": [
    "df3 = (\n",
    "    df2.groupby(route_cols)\n",
    "    .agg(\n",
    "        {\n",
    "            \"service_minutes\": \"mean\",\n",
    "            \"rt_service_min\": \"mean\",\n",
    "            \"speed_mph\": \"mean\",\n",
    "            \"pings_per_min\": \"mean\",\n",
    "            \"total_vp\": \"mean\",\n",
    "            \"vp_in_shape\": \"mean\",\n",
    "            \"trip_instance_key\": \"count\",\n",
    "        }\n",
    "    )\n",
    "    .reset_index()\n",
    ")"
   ]
  },
  {
   "cell_type": "code",
   "execution_count": 55,
   "id": "f086985e-076e-4b22-825e-bf230cecf2f9",
   "metadata": {},
   "outputs": [],
   "source": [
    "df3 = df3.assign(\n",
    "    rt_service_min=df3.rt_service_min.round(1),\n",
    "    service_minutes=df3.service_minutes.round(1),\n",
    "    speed_mph=df3.speed_mph.round(1),\n",
    "    pings_per_min=df3.pings_per_min.round(1),\n",
    ").rename(\n",
    "    columns={\n",
    "        \"service_minutes\": \"avg_sched_trip_min\",\n",
    "        \"rt_service_min\": \"avg_rt_trip_min\",\n",
    "        \"trip_instance_key\": \"n_trips\",\n",
    "        \"route_name_used\": \"route_name\",\n",
    "        \"pings_per_min\": \"avg_pings_per_min\",\n",
    "        \"schedule_gtfs_dataset_key\": \"gtfs_dataset_key\",\n",
    "    }\n",
    ")"
   ]
  },
  {
   "cell_type": "code",
   "execution_count": 56,
   "id": "8236bf29-abaa-466c-978c-10199ffa840c",
   "metadata": {},
   "outputs": [
    {
     "data": {
      "text/plain": [
       "'df3 = df3.rename(\\n    columns={\\n        \"service_minutes\": \"avg_sched_trip_min\",\\n        \"rt_service_min\": \"avg_rt_trip_min\",\\n        \"trip_instance_key\": \"n_trips\",\\n        \"route_name_used\": \"route_name\",\\n        \"pings_per_min\": \"avg_pings_per_min\",\\n        \"schedule_gtfs_dataset_key\": \"gtfs_dataset_key\",\\n    }\\n)'"
      ]
     },
     "execution_count": 56,
     "metadata": {},
     "output_type": "execute_result"
    }
   ],
   "source": [
    "\"\"\"df3 = df3.rename(\n",
    "    columns={\n",
    "        \"service_minutes\": \"avg_sched_trip_min\",\n",
    "        \"rt_service_min\": \"avg_rt_trip_min\",\n",
    "        \"trip_instance_key\": \"n_trips\",\n",
    "        \"route_name_used\": \"route_name\",\n",
    "        \"pings_per_min\": \"avg_pings_per_min\",\n",
    "        \"schedule_gtfs_dataset_key\": \"gtfs_dataset_key\",\n",
    "    }\n",
    ")\"\"\""
   ]
  },
  {
   "cell_type": "code",
   "execution_count": 57,
   "id": "2a6ff425-643d-426b-803b-b96399f986d3",
   "metadata": {},
   "outputs": [
    {
     "data": {
      "text/html": [
       "<div>\n",
       "<style scoped>\n",
       "    .dataframe tbody tr th:only-of-type {\n",
       "        vertical-align: middle;\n",
       "    }\n",
       "\n",
       "    .dataframe tbody tr th {\n",
       "        vertical-align: top;\n",
       "    }\n",
       "\n",
       "    .dataframe thead th {\n",
       "        text-align: right;\n",
       "    }\n",
       "</style>\n",
       "<table border=\"1\" class=\"dataframe\">\n",
       "  <thead>\n",
       "    <tr style=\"text-align: right;\">\n",
       "      <th></th>\n",
       "      <th>gtfs_dataset_key</th>\n",
       "      <th>time_of_day</th>\n",
       "      <th>route_id</th>\n",
       "      <th>direction_id</th>\n",
       "      <th>route_name</th>\n",
       "      <th>shape_array_key</th>\n",
       "      <th>avg_sched_trip_min</th>\n",
       "      <th>avg_rt_trip_min</th>\n",
       "      <th>speed_mph</th>\n",
       "      <th>avg_pings_per_min</th>\n",
       "      <th>total_vp</th>\n",
       "      <th>vp_in_shape</th>\n",
       "      <th>n_trips</th>\n",
       "    </tr>\n",
       "  </thead>\n",
       "  <tbody>\n",
       "    <tr>\n",
       "      <th>0</th>\n",
       "      <td>015d67d5b75b5cf2b710bbadadfb75f5</td>\n",
       "      <td>AM Peak</td>\n",
       "      <td>17</td>\n",
       "      <td>0</td>\n",
       "      <td>Downtown San Rafael - Sausalito</td>\n",
       "      <td>15dd7643b1198055544091c267b67397</td>\n",
       "      <td>55.60</td>\n",
       "      <td>57.50</td>\n",
       "      <td>15.20</td>\n",
       "      <td>2.80</td>\n",
       "      <td>151.00</td>\n",
       "      <td>142.80</td>\n",
       "      <td>5</td>\n",
       "    </tr>\n",
       "    <tr>\n",
       "      <th>1</th>\n",
       "      <td>015d67d5b75b5cf2b710bbadadfb75f5</td>\n",
       "      <td>AM Peak</td>\n",
       "      <td>17</td>\n",
       "      <td>1</td>\n",
       "      <td>Downtown San Rafael - Sausalito</td>\n",
       "      <td>de1df9489fe7de15f492c9308289102b</td>\n",
       "      <td>56.20</td>\n",
       "      <td>55.00</td>\n",
       "      <td>9.80</td>\n",
       "      <td>2.50</td>\n",
       "      <td>147.60</td>\n",
       "      <td>140.40</td>\n",
       "      <td>5</td>\n",
       "    </tr>\n",
       "  </tbody>\n",
       "</table>\n",
       "</div>"
      ],
      "text/plain": [
       "                   gtfs_dataset_key time_of_day route_id  direction_id  \\\n",
       "0  015d67d5b75b5cf2b710bbadadfb75f5     AM Peak       17             0   \n",
       "1  015d67d5b75b5cf2b710bbadadfb75f5     AM Peak       17             1   \n",
       "\n",
       "                        route_name                   shape_array_key  \\\n",
       "0  Downtown San Rafael - Sausalito  15dd7643b1198055544091c267b67397   \n",
       "1  Downtown San Rafael - Sausalito  de1df9489fe7de15f492c9308289102b   \n",
       "\n",
       "   avg_sched_trip_min  avg_rt_trip_min  speed_mph  avg_pings_per_min  \\\n",
       "0               55.60            57.50      15.20               2.80   \n",
       "1               56.20            55.00       9.80               2.50   \n",
       "\n",
       "   total_vp  vp_in_shape  n_trips  \n",
       "0    151.00       142.80        5  \n",
       "1    147.60       140.40        5  "
      ]
     },
     "execution_count": 57,
     "metadata": {},
     "output_type": "execute_result"
    }
   ],
   "source": [
    "df3.head(2)"
   ]
  },
  {
   "cell_type": "code",
   "execution_count": 58,
   "id": "0660f4e2-0c92-4656-a967-95ac7a26b440",
   "metadata": {},
   "outputs": [],
   "source": [
    "org_crosswalk = schedule_rt_utils.sample_gtfs_dataset_key_to_organization_crosswalk(\n",
    "    df3,\n",
    "    analysis_date,\n",
    "    quartet_data=\"schedule\",\n",
    "    dim_gtfs_dataset_cols=[\"key\", \"base64_url\"],\n",
    "    dim_organization_cols=[\"source_record_id\", \"name\", \"caltrans_district\"],\n",
    ")"
   ]
  },
  {
   "cell_type": "code",
   "execution_count": 59,
   "id": "b0e1f34e-94b6-417e-ba35-0aebeccd3cee",
   "metadata": {},
   "outputs": [
    {
     "data": {
      "text/html": [
       "<div>\n",
       "<style scoped>\n",
       "    .dataframe tbody tr th:only-of-type {\n",
       "        vertical-align: middle;\n",
       "    }\n",
       "\n",
       "    .dataframe tbody tr th {\n",
       "        vertical-align: top;\n",
       "    }\n",
       "\n",
       "    .dataframe thead th {\n",
       "        text-align: right;\n",
       "    }\n",
       "</style>\n",
       "<table border=\"1\" class=\"dataframe\">\n",
       "  <thead>\n",
       "    <tr style=\"text-align: right;\">\n",
       "      <th></th>\n",
       "      <th>schedule_gtfs_dataset_key</th>\n",
       "      <th>base64_url</th>\n",
       "      <th>organization_source_record_id</th>\n",
       "      <th>organization_name</th>\n",
       "      <th>caltrans_district</th>\n",
       "    </tr>\n",
       "  </thead>\n",
       "  <tbody>\n",
       "    <tr>\n",
       "      <th>0</th>\n",
       "      <td>015d67d5b75b5cf2b710bbadadfb75f5</td>\n",
       "      <td>aHR0cHM6Ly9hcGkuNTExLm9yZy90cmFuc2l0L2RhdGFmZWVkcz9vcGVyYXRvcl9pZD1NQQ==</td>\n",
       "      <td>recNOb7pqBRlQVG5e</td>\n",
       "      <td>Marin County Transit District</td>\n",
       "      <td>04 - Oakland</td>\n",
       "    </tr>\n",
       "    <tr>\n",
       "      <th>1</th>\n",
       "      <td>0881af3822466784992a49f1cc57d38f</td>\n",
       "      <td>aHR0cHM6Ly9hcGkuNTExLm9yZy90cmFuc2l0L2RhdGFmZWVkcz9vcGVyYXRvcl9pZD1TQQ==</td>\n",
       "      <td>recUmm4gcNXaqrwpn</td>\n",
       "      <td>Sonoma-Marin Area Rail Transit District</td>\n",
       "      <td>04 - Oakland</td>\n",
       "    </tr>\n",
       "    <tr>\n",
       "      <th>2</th>\n",
       "      <td>09a703757d1ed14ca9580b1385e39315</td>\n",
       "      <td>aHR0cHM6Ly9yaWRlbGF3bmRhbGViZWF0LmNvbS9ndGZz</td>\n",
       "      <td>recj8LXdeSurpSRNU</td>\n",
       "      <td>City of Lawndale</td>\n",
       "      <td>07 - Los Angeles</td>\n",
       "    </tr>\n",
       "    <tr>\n",
       "      <th>3</th>\n",
       "      <td>09e16227fc42c4fe90204a9d11581034</td>\n",
       "      <td>aHR0cHM6Ly9hcGkuNTExLm9yZy90cmFuc2l0L2RhdGFmZWVkcz9vcGVyYXRvcl9pZD1TTw==</td>\n",
       "      <td>recDupUxInMUgxeiz</td>\n",
       "      <td>Sonoma County</td>\n",
       "      <td>04 - Oakland</td>\n",
       "    </tr>\n",
       "    <tr>\n",
       "      <th>4</th>\n",
       "      <td>0a3c0b21c85fb09f8db91599e14dd7f7</td>\n",
       "      <td>aHR0cHM6Ly9kYXRhLnRyaWxsaXVtdHJhbnNpdC5jb20vZ3Rmcy9sYWtldHJhbnNpdC1jYS11cy9sYWtldHJhbnNpdC1jYS11cy56aXA=</td>\n",
       "      <td>recPwXKbGLL4aIqXV</td>\n",
       "      <td>Lake Transit Authority</td>\n",
       "      <td>01 - Eureka</td>\n",
       "    </tr>\n",
       "  </tbody>\n",
       "</table>\n",
       "</div>"
      ],
      "text/plain": [
       "          schedule_gtfs_dataset_key  \\\n",
       "0  015d67d5b75b5cf2b710bbadadfb75f5   \n",
       "1  0881af3822466784992a49f1cc57d38f   \n",
       "2  09a703757d1ed14ca9580b1385e39315   \n",
       "3  09e16227fc42c4fe90204a9d11581034   \n",
       "4  0a3c0b21c85fb09f8db91599e14dd7f7   \n",
       "\n",
       "                                                                                                 base64_url  \\\n",
       "0                                  aHR0cHM6Ly9hcGkuNTExLm9yZy90cmFuc2l0L2RhdGFmZWVkcz9vcGVyYXRvcl9pZD1NQQ==   \n",
       "1                                  aHR0cHM6Ly9hcGkuNTExLm9yZy90cmFuc2l0L2RhdGFmZWVkcz9vcGVyYXRvcl9pZD1TQQ==   \n",
       "2                                                              aHR0cHM6Ly9yaWRlbGF3bmRhbGViZWF0LmNvbS9ndGZz   \n",
       "3                                  aHR0cHM6Ly9hcGkuNTExLm9yZy90cmFuc2l0L2RhdGFmZWVkcz9vcGVyYXRvcl9pZD1TTw==   \n",
       "4  aHR0cHM6Ly9kYXRhLnRyaWxsaXVtdHJhbnNpdC5jb20vZ3Rmcy9sYWtldHJhbnNpdC1jYS11cy9sYWtldHJhbnNpdC1jYS11cy56aXA=   \n",
       "\n",
       "  organization_source_record_id                        organization_name  \\\n",
       "0             recNOb7pqBRlQVG5e            Marin County Transit District   \n",
       "1             recUmm4gcNXaqrwpn  Sonoma-Marin Area Rail Transit District   \n",
       "2             recj8LXdeSurpSRNU                         City of Lawndale   \n",
       "3             recDupUxInMUgxeiz                            Sonoma County   \n",
       "4             recPwXKbGLL4aIqXV                   Lake Transit Authority   \n",
       "\n",
       "  caltrans_district  \n",
       "0      04 - Oakland  \n",
       "1      04 - Oakland  \n",
       "2  07 - Los Angeles  \n",
       "3      04 - Oakland  \n",
       "4       01 - Eureka  "
      ]
     },
     "execution_count": 59,
     "metadata": {},
     "output_type": "execute_result"
    }
   ],
   "source": [
    "org_crosswalk.head()"
   ]
  },
  {
   "cell_type": "code",
   "execution_count": 60,
   "id": "71c0d174-736c-4093-a57f-1b39608fb2c2",
   "metadata": {},
   "outputs": [],
   "source": [
    "df_with_org = pd.merge(\n",
    "    df3,\n",
    "    org_crosswalk.rename(columns={\"schedule_gtfs_dataset_key\": \"gtfs_dataset_key\"}),\n",
    "    on=\"gtfs_dataset_key\",\n",
    "    how=\"inner\",\n",
    ")"
   ]
  },
  {
   "cell_type": "code",
   "execution_count": 61,
   "id": "275988a7-0b45-4799-b8d5-7826913745f3",
   "metadata": {},
   "outputs": [
    {
     "data": {
      "text/plain": [
       "(11397, 17)"
      ]
     },
     "execution_count": 61,
     "metadata": {},
     "output_type": "execute_result"
    }
   ],
   "source": [
    "df_with_org.shape"
   ]
  },
  {
   "cell_type": "code",
   "execution_count": 62,
   "id": "3caa9bbc-51d2-4bc4-9d74-040f38ce67d5",
   "metadata": {},
   "outputs": [
    {
     "data": {
      "text/html": [
       "<div>\n",
       "<style scoped>\n",
       "    .dataframe tbody tr th:only-of-type {\n",
       "        vertical-align: middle;\n",
       "    }\n",
       "\n",
       "    .dataframe tbody tr th {\n",
       "        vertical-align: top;\n",
       "    }\n",
       "\n",
       "    .dataframe thead th {\n",
       "        text-align: right;\n",
       "    }\n",
       "</style>\n",
       "<table border=\"1\" class=\"dataframe\">\n",
       "  <thead>\n",
       "    <tr style=\"text-align: right;\">\n",
       "      <th></th>\n",
       "      <th>gtfs_dataset_key</th>\n",
       "      <th>time_of_day</th>\n",
       "      <th>route_id</th>\n",
       "      <th>direction_id</th>\n",
       "      <th>route_name</th>\n",
       "      <th>shape_array_key</th>\n",
       "      <th>avg_sched_trip_min</th>\n",
       "      <th>avg_rt_trip_min</th>\n",
       "      <th>speed_mph</th>\n",
       "      <th>avg_pings_per_min</th>\n",
       "      <th>total_vp</th>\n",
       "      <th>vp_in_shape</th>\n",
       "      <th>n_trips</th>\n",
       "      <th>base64_url</th>\n",
       "      <th>organization_source_record_id</th>\n",
       "      <th>organization_name</th>\n",
       "      <th>caltrans_district</th>\n",
       "    </tr>\n",
       "  </thead>\n",
       "  <tbody>\n",
       "    <tr>\n",
       "      <th>0</th>\n",
       "      <td>015d67d5b75b5cf2b710bbadadfb75f5</td>\n",
       "      <td>AM Peak</td>\n",
       "      <td>17</td>\n",
       "      <td>0</td>\n",
       "      <td>Downtown San Rafael - Sausalito</td>\n",
       "      <td>15dd7643b1198055544091c267b67397</td>\n",
       "      <td>55.60</td>\n",
       "      <td>57.50</td>\n",
       "      <td>15.20</td>\n",
       "      <td>2.80</td>\n",
       "      <td>151.00</td>\n",
       "      <td>142.80</td>\n",
       "      <td>5</td>\n",
       "      <td>aHR0cHM6Ly9hcGkuNTExLm9yZy90cmFuc2l0L2RhdGFmZWVkcz9vcGVyYXRvcl9pZD1NQQ==</td>\n",
       "      <td>recNOb7pqBRlQVG5e</td>\n",
       "      <td>Marin County Transit District</td>\n",
       "      <td>04 - Oakland</td>\n",
       "    </tr>\n",
       "    <tr>\n",
       "      <th>1</th>\n",
       "      <td>015d67d5b75b5cf2b710bbadadfb75f5</td>\n",
       "      <td>AM Peak</td>\n",
       "      <td>17</td>\n",
       "      <td>1</td>\n",
       "      <td>Downtown San Rafael - Sausalito</td>\n",
       "      <td>de1df9489fe7de15f492c9308289102b</td>\n",
       "      <td>56.20</td>\n",
       "      <td>55.00</td>\n",
       "      <td>9.80</td>\n",
       "      <td>2.50</td>\n",
       "      <td>147.60</td>\n",
       "      <td>140.40</td>\n",
       "      <td>5</td>\n",
       "      <td>aHR0cHM6Ly9hcGkuNTExLm9yZy90cmFuc2l0L2RhdGFmZWVkcz9vcGVyYXRvcl9pZD1NQQ==</td>\n",
       "      <td>recNOb7pqBRlQVG5e</td>\n",
       "      <td>Marin County Transit District</td>\n",
       "      <td>04 - Oakland</td>\n",
       "    </tr>\n",
       "    <tr>\n",
       "      <th>2</th>\n",
       "      <td>015d67d5b75b5cf2b710bbadadfb75f5</td>\n",
       "      <td>AM Peak</td>\n",
       "      <td>219</td>\n",
       "      <td>0</td>\n",
       "      <td>Tiburon - Strawberry</td>\n",
       "      <td>1a27f5f0785ae953f5dfded42e6d4e0e</td>\n",
       "      <td>18.00</td>\n",
       "      <td>17.30</td>\n",
       "      <td>24.80</td>\n",
       "      <td>2.90</td>\n",
       "      <td>50.50</td>\n",
       "      <td>44.00</td>\n",
       "      <td>2</td>\n",
       "      <td>aHR0cHM6Ly9hcGkuNTExLm9yZy90cmFuc2l0L2RhdGFmZWVkcz9vcGVyYXRvcl9pZD1NQQ==</td>\n",
       "      <td>recNOb7pqBRlQVG5e</td>\n",
       "      <td>Marin County Transit District</td>\n",
       "      <td>04 - Oakland</td>\n",
       "    </tr>\n",
       "    <tr>\n",
       "      <th>3</th>\n",
       "      <td>015d67d5b75b5cf2b710bbadadfb75f5</td>\n",
       "      <td>AM Peak</td>\n",
       "      <td>219</td>\n",
       "      <td>1</td>\n",
       "      <td>Tiburon - Strawberry</td>\n",
       "      <td>a8c9fae8e07d7a553264d4de2ffb704d</td>\n",
       "      <td>19.30</td>\n",
       "      <td>27.60</td>\n",
       "      <td>9.80</td>\n",
       "      <td>2.90</td>\n",
       "      <td>80.67</td>\n",
       "      <td>79.00</td>\n",
       "      <td>3</td>\n",
       "      <td>aHR0cHM6Ly9hcGkuNTExLm9yZy90cmFuc2l0L2RhdGFmZWVkcz9vcGVyYXRvcl9pZD1NQQ==</td>\n",
       "      <td>recNOb7pqBRlQVG5e</td>\n",
       "      <td>Marin County Transit District</td>\n",
       "      <td>04 - Oakland</td>\n",
       "    </tr>\n",
       "    <tr>\n",
       "      <th>4</th>\n",
       "      <td>015d67d5b75b5cf2b710bbadadfb75f5</td>\n",
       "      <td>AM Peak</td>\n",
       "      <td>22</td>\n",
       "      <td>0</td>\n",
       "      <td>Downtown San Rafael - Marin City</td>\n",
       "      <td>5c1924a3c980f9ec07d63f216d3de7af</td>\n",
       "      <td>37.80</td>\n",
       "      <td>42.10</td>\n",
       "      <td>10.20</td>\n",
       "      <td>2.90</td>\n",
       "      <td>105.00</td>\n",
       "      <td>72.00</td>\n",
       "      <td>5</td>\n",
       "      <td>aHR0cHM6Ly9hcGkuNTExLm9yZy90cmFuc2l0L2RhdGFmZWVkcz9vcGVyYXRvcl9pZD1NQQ==</td>\n",
       "      <td>recNOb7pqBRlQVG5e</td>\n",
       "      <td>Marin County Transit District</td>\n",
       "      <td>04 - Oakland</td>\n",
       "    </tr>\n",
       "  </tbody>\n",
       "</table>\n",
       "</div>"
      ],
      "text/plain": [
       "                   gtfs_dataset_key time_of_day route_id  direction_id  \\\n",
       "0  015d67d5b75b5cf2b710bbadadfb75f5     AM Peak       17             0   \n",
       "1  015d67d5b75b5cf2b710bbadadfb75f5     AM Peak       17             1   \n",
       "2  015d67d5b75b5cf2b710bbadadfb75f5     AM Peak      219             0   \n",
       "3  015d67d5b75b5cf2b710bbadadfb75f5     AM Peak      219             1   \n",
       "4  015d67d5b75b5cf2b710bbadadfb75f5     AM Peak       22             0   \n",
       "\n",
       "                         route_name                   shape_array_key  \\\n",
       "0   Downtown San Rafael - Sausalito  15dd7643b1198055544091c267b67397   \n",
       "1   Downtown San Rafael - Sausalito  de1df9489fe7de15f492c9308289102b   \n",
       "2              Tiburon - Strawberry  1a27f5f0785ae953f5dfded42e6d4e0e   \n",
       "3              Tiburon - Strawberry  a8c9fae8e07d7a553264d4de2ffb704d   \n",
       "4  Downtown San Rafael - Marin City  5c1924a3c980f9ec07d63f216d3de7af   \n",
       "\n",
       "   avg_sched_trip_min  avg_rt_trip_min  speed_mph  avg_pings_per_min  \\\n",
       "0               55.60            57.50      15.20               2.80   \n",
       "1               56.20            55.00       9.80               2.50   \n",
       "2               18.00            17.30      24.80               2.90   \n",
       "3               19.30            27.60       9.80               2.90   \n",
       "4               37.80            42.10      10.20               2.90   \n",
       "\n",
       "   total_vp  vp_in_shape  n_trips  \\\n",
       "0    151.00       142.80        5   \n",
       "1    147.60       140.40        5   \n",
       "2     50.50        44.00        2   \n",
       "3     80.67        79.00        3   \n",
       "4    105.00        72.00        5   \n",
       "\n",
       "                                                                 base64_url  \\\n",
       "0  aHR0cHM6Ly9hcGkuNTExLm9yZy90cmFuc2l0L2RhdGFmZWVkcz9vcGVyYXRvcl9pZD1NQQ==   \n",
       "1  aHR0cHM6Ly9hcGkuNTExLm9yZy90cmFuc2l0L2RhdGFmZWVkcz9vcGVyYXRvcl9pZD1NQQ==   \n",
       "2  aHR0cHM6Ly9hcGkuNTExLm9yZy90cmFuc2l0L2RhdGFmZWVkcz9vcGVyYXRvcl9pZD1NQQ==   \n",
       "3  aHR0cHM6Ly9hcGkuNTExLm9yZy90cmFuc2l0L2RhdGFmZWVkcz9vcGVyYXRvcl9pZD1NQQ==   \n",
       "4  aHR0cHM6Ly9hcGkuNTExLm9yZy90cmFuc2l0L2RhdGFmZWVkcz9vcGVyYXRvcl9pZD1NQQ==   \n",
       "\n",
       "  organization_source_record_id              organization_name  \\\n",
       "0             recNOb7pqBRlQVG5e  Marin County Transit District   \n",
       "1             recNOb7pqBRlQVG5e  Marin County Transit District   \n",
       "2             recNOb7pqBRlQVG5e  Marin County Transit District   \n",
       "3             recNOb7pqBRlQVG5e  Marin County Transit District   \n",
       "4             recNOb7pqBRlQVG5e  Marin County Transit District   \n",
       "\n",
       "  caltrans_district  \n",
       "0      04 - Oakland  \n",
       "1      04 - Oakland  \n",
       "2      04 - Oakland  \n",
       "3      04 - Oakland  \n",
       "4      04 - Oakland  "
      ]
     },
     "execution_count": 62,
     "metadata": {},
     "output_type": "execute_result"
    }
   ],
   "source": [
    "df_with_org.head()"
   ]
  },
  {
   "cell_type": "code",
   "execution_count": 63,
   "id": "de3449eb-88c2-4d46-ae3a-94f881e8cade",
   "metadata": {},
   "outputs": [],
   "source": [
    "shapes = helpers.import_scheduled_shapes(\n",
    "    analysis_date,\n",
    "    columns=[\"shape_array_key\", \"geometry\"],\n",
    "    get_pandas=True,\n",
    "    crs=geography_utils.WGS84,\n",
    ")"
   ]
  },
  {
   "cell_type": "code",
   "execution_count": 64,
   "id": "091ed4c9-6742-4a06-abdf-7b59abe7a948",
   "metadata": {},
   "outputs": [
    {
     "data": {
      "text/plain": [
       "(7286, 2)"
      ]
     },
     "execution_count": 64,
     "metadata": {},
     "output_type": "execute_result"
    }
   ],
   "source": [
    "shapes.shape"
   ]
  },
  {
   "cell_type": "code",
   "execution_count": 65,
   "id": "dc0f152d-19ac-4687-83e8-8d5fd225005b",
   "metadata": {},
   "outputs": [],
   "source": [
    "df_with_shape = pd.merge(\n",
    "    shapes,\n",
    "    df_with_org,\n",
    "    on=\"shape_array_key\",  # once merged, can drop shape_array_key\n",
    "    how=\"inner\",\n",
    ")"
   ]
  },
  {
   "cell_type": "code",
   "execution_count": 66,
   "id": "1d8bd521-7b7e-438e-9cdd-b23606acd644",
   "metadata": {},
   "outputs": [],
   "source": [
    "df_with_shape[\"avg_pct_vp_shape\"] = (\n",
    "    df_with_shape.vp_in_shape / df_with_shape.total_vp * 100\n",
    ")"
   ]
  },
  {
   "cell_type": "code",
   "execution_count": 67,
   "id": "158662df-1735-4a1a-a4c5-7b3d00469311",
   "metadata": {},
   "outputs": [],
   "source": [
    "df_with_shape[\"avg_pct_rt_v_sched\"] = (\n",
    "    df_with_shape.avg_rt_trip_min / df_with_shape.avg_sched_trip_min - 1\n",
    ") * 100"
   ]
  },
  {
   "cell_type": "code",
   "execution_count": 68,
   "id": "7020e160-7e18-4099-8a97-9114eef06652",
   "metadata": {},
   "outputs": [],
   "source": [
    "final_df = df_with_shape.drop(columns=[\"total_vp\", \"vp_in_shape\"])"
   ]
  },
  {
   "cell_type": "code",
   "execution_count": 69,
   "id": "8079fc30-e2f2-459e-8446-120e97369dc5",
   "metadata": {},
   "outputs": [],
   "source": [
    "agency_cols = [\"organization_source_record_id\", \"organization_name\"]\n",
    "route_cols = [\n",
    "    \"route_id\",\n",
    "    \"route_name\",\n",
    "    \"direction_id\",\n",
    "]\n",
    "\n",
    "col_order = (\n",
    "    agency_cols\n",
    "    + route_cols\n",
    "    + [\n",
    "        \"time_of_day\",\n",
    "        \"speed_mph\",\n",
    "        \"n_trips\",\n",
    "        \"avg_sched_trip_min\",\n",
    "        \"avg_rt_trip_min\",\n",
    "        \"base64_url\",\n",
    "        \"caltrans_district\",\n",
    "        \"geometry\",\n",
    "        \"avg_pings_per_min\",\n",
    "        \"avg_pct_vp_shape\",\n",
    "        \"avg_pct_rt_v_sched\",\n",
    "    ]\n",
    ")"
   ]
  },
  {
   "cell_type": "code",
   "execution_count": 70,
   "id": "11b580bd-f482-4a11-be00-7ef88068bac9",
   "metadata": {},
   "outputs": [
    {
     "data": {
      "text/plain": [
       "(11397, 18)"
      ]
     },
     "execution_count": 70,
     "metadata": {},
     "output_type": "execute_result"
    }
   ],
   "source": [
    "final_df.shape"
   ]
  },
  {
   "cell_type": "code",
   "execution_count": 71,
   "id": "9400eb5b-0ff4-4b6a-ade3-8e0fedc29d5b",
   "metadata": {},
   "outputs": [],
   "source": [
    "final_df = df_with_shape.reindex(columns=col_order).rename(\n",
    "    columns={\n",
    "        \"organization_source_record_id\": \"org_id\",\n",
    "        \"organization_name\": \"agency\",\n",
    "        \"caltrans_district\": \"district_name\",\n",
    "    }\n",
    ")"
   ]
  },
  {
   "cell_type": "code",
   "execution_count": 72,
   "id": "fe97ad8a-d0ce-40cd-982b-87877882693a",
   "metadata": {},
   "outputs": [
    {
     "data": {
      "text/plain": [
       "Index(['org_id', 'agency', 'route_id', 'route_name', 'direction_id',\n",
       "       'time_of_day', 'speed_mph', 'n_trips', 'avg_sched_trip_min',\n",
       "       'avg_rt_trip_min', 'base64_url', 'district_name', 'geometry',\n",
       "       'avg_pings_per_min', 'avg_pct_vp_shape', 'avg_pct_rt_v_sched'],\n",
       "      dtype='object')"
      ]
     },
     "execution_count": 72,
     "metadata": {},
     "output_type": "execute_result"
    }
   ],
   "source": [
    "final_df.columns"
   ]
  },
  {
   "cell_type": "code",
   "execution_count": 73,
   "id": "58165517-e414-4843-8ece-b7631d4d7f27",
   "metadata": {},
   "outputs": [
    {
     "data": {
      "text/plain": [
       "count   11397.00\n",
       "mean        2.38\n",
       "std         0.56\n",
       "min         0.10\n",
       "25%         1.90\n",
       "50%         2.50\n",
       "75%         2.90\n",
       "max         3.50\n",
       "Name: avg_pings_per_min, dtype: float64"
      ]
     },
     "execution_count": 73,
     "metadata": {},
     "output_type": "execute_result"
    }
   ],
   "source": [
    "final_df.avg_pings_per_min.describe()"
   ]
  },
  {
   "cell_type": "code",
   "execution_count": 74,
   "id": "e99b22b7-f6c7-4d69-8b65-da3c39c85f33",
   "metadata": {},
   "outputs": [
    {
     "data": {
      "text/plain": [
       "(11397, 16)"
      ]
     },
     "execution_count": 74,
     "metadata": {},
     "output_type": "execute_result"
    }
   ],
   "source": [
    "final_df.shape"
   ]
  },
  {
   "cell_type": "code",
   "execution_count": 75,
   "id": "49867873-4a76-49c4-8c95-0918d7468f82",
   "metadata": {},
   "outputs": [
    {
     "data": {
      "text/html": [
       "<div>\n",
       "<style scoped>\n",
       "    .dataframe tbody tr th:only-of-type {\n",
       "        vertical-align: middle;\n",
       "    }\n",
       "\n",
       "    .dataframe tbody tr th {\n",
       "        vertical-align: top;\n",
       "    }\n",
       "\n",
       "    .dataframe thead th {\n",
       "        text-align: right;\n",
       "    }\n",
       "</style>\n",
       "<table border=\"1\" class=\"dataframe\">\n",
       "  <thead>\n",
       "    <tr style=\"text-align: right;\">\n",
       "      <th></th>\n",
       "      <th>org_id</th>\n",
       "      <th>agency</th>\n",
       "      <th>route_id</th>\n",
       "      <th>route_name</th>\n",
       "      <th>direction_id</th>\n",
       "      <th>time_of_day</th>\n",
       "      <th>speed_mph</th>\n",
       "      <th>n_trips</th>\n",
       "      <th>avg_sched_trip_min</th>\n",
       "      <th>avg_rt_trip_min</th>\n",
       "      <th>district_name</th>\n",
       "      <th>avg_pings_per_min</th>\n",
       "      <th>avg_pct_vp_shape</th>\n",
       "      <th>avg_pct_rt_v_sched</th>\n",
       "    </tr>\n",
       "  </thead>\n",
       "  <tbody>\n",
       "    <tr>\n",
       "      <th>5645</th>\n",
       "      <td>rec43oyrfhtPDdRHj</td>\n",
       "      <td>City of Rancho Cordova</td>\n",
       "      <td>084</td>\n",
       "      <td>WATT</td>\n",
       "      <td>1</td>\n",
       "      <td>PM Peak</td>\n",
       "      <td>6.40</td>\n",
       "      <td>8</td>\n",
       "      <td>65.20</td>\n",
       "      <td>87.60</td>\n",
       "      <td>03 - Marysville</td>\n",
       "      <td>1.80</td>\n",
       "      <td>100.00</td>\n",
       "      <td>34.36</td>\n",
       "    </tr>\n",
       "    <tr>\n",
       "      <th>9678</th>\n",
       "      <td>receZJ9sEnP9vy3g0</td>\n",
       "      <td>Monterey-Salinas Transit</td>\n",
       "      <td>020-131</td>\n",
       "      <td>Monterey - Salinas</td>\n",
       "      <td>0</td>\n",
       "      <td>AM Peak</td>\n",
       "      <td>10.90</td>\n",
       "      <td>6</td>\n",
       "      <td>50.20</td>\n",
       "      <td>56.50</td>\n",
       "      <td>05 - San Luis Obispo</td>\n",
       "      <td>1.90</td>\n",
       "      <td>99.69</td>\n",
       "      <td>12.55</td>\n",
       "    </tr>\n",
       "    <tr>\n",
       "      <th>7041</th>\n",
       "      <td>recPnGkwdpnr8jmHB</td>\n",
       "      <td>Los Angeles County Metropolitan Transportation Authority</td>\n",
       "      <td>754-13172</td>\n",
       "      <td>HOLLYWOOD - ATHENS VIA VERMONT AV</td>\n",
       "      <td>0</td>\n",
       "      <td>Midday</td>\n",
       "      <td>7.30</td>\n",
       "      <td>31</td>\n",
       "      <td>69.80</td>\n",
       "      <td>91.00</td>\n",
       "      <td>07 - Los Angeles</td>\n",
       "      <td>2.40</td>\n",
       "      <td>96.69</td>\n",
       "      <td>30.37</td>\n",
       "    </tr>\n",
       "  </tbody>\n",
       "</table>\n",
       "</div>"
      ],
      "text/plain": [
       "                 org_id  \\\n",
       "5645  rec43oyrfhtPDdRHj   \n",
       "9678  receZJ9sEnP9vy3g0   \n",
       "7041  recPnGkwdpnr8jmHB   \n",
       "\n",
       "                                                        agency   route_id  \\\n",
       "5645                                    City of Rancho Cordova        084   \n",
       "9678                                  Monterey-Salinas Transit    020-131   \n",
       "7041  Los Angeles County Metropolitan Transportation Authority  754-13172   \n",
       "\n",
       "                             route_name  direction_id time_of_day  speed_mph  \\\n",
       "5645                               WATT             1     PM Peak       6.40   \n",
       "9678                 Monterey - Salinas             0     AM Peak      10.90   \n",
       "7041  HOLLYWOOD - ATHENS VIA VERMONT AV             0      Midday       7.30   \n",
       "\n",
       "      n_trips  avg_sched_trip_min  avg_rt_trip_min         district_name  \\\n",
       "5645        8               65.20            87.60       03 - Marysville   \n",
       "9678        6               50.20            56.50  05 - San Luis Obispo   \n",
       "7041       31               69.80            91.00      07 - Los Angeles   \n",
       "\n",
       "      avg_pings_per_min  avg_pct_vp_shape  avg_pct_rt_v_sched  \n",
       "5645               1.80            100.00               34.36  \n",
       "9678               1.90             99.69               12.55  \n",
       "7041               2.40             96.69               30.37  "
      ]
     },
     "execution_count": 75,
     "metadata": {},
     "output_type": "execute_result"
    }
   ],
   "source": [
    "final_df.drop(columns=[\"geometry\", \"base64_url\"]).sample(3)"
   ]
  },
  {
   "cell_type": "markdown",
   "id": "a3acfeb1-54bf-4cee-9810-51c7e5fe0aa6",
   "metadata": {},
   "source": [
    "### Check results after aggregating up to route\n",
    "* How are the results sooo wrong with `265-13172`"
   ]
  },
  {
   "cell_type": "code",
   "execution_count": 76,
   "id": "aa2cc0c2-da7b-4ae1-9ac4-84c8d6d60e95",
   "metadata": {},
   "outputs": [],
   "source": [
    "def checkout_route(route_id: str, time_of_day: str, direction_id: int):\n",
    "    print(\"final\")\n",
    "    display(\n",
    "        final_df.loc[\n",
    "            (final_df.route_id == route_id)\n",
    "            & (final_df.time_of_day == time_of_day)\n",
    "            & (final_df.direction_id == direction_id)\n",
    "        ].drop(columns = ['geometry','base64_url'])\n",
    "    )\n",
    "    df2_cols = [\n",
    "        \"trip_instance_key\",\n",
    "        \"time_of_day\",\n",
    "        \"speed_mph\",\n",
    "        \"rt_service_min\",\n",
    "        \"service_minutes\",\n",
    "        \"pings_per_min\",\n",
    "    ]\n",
    "    print(\"df3\")\n",
    "    display(df3.loc[\n",
    "        (df3.route_id == route_id)\n",
    "        & (df3.time_of_day == time_of_day)\n",
    "        & (df3.direction_id == direction_id)\n",
    "    ])\n",
    "    \n",
    "    print(\"df2\")\n",
    "    df2_filtered = df2.loc[\n",
    "        (df2.route_id == route_id)\n",
    "        & (df2.time_of_day == time_of_day)\n",
    "        & (df2.direction_id == direction_id)\n",
    "    ]\n",
    "    \n",
    "    print(f\"pings per min {df2_filtered.pings_per_min.mean()}\")\n",
    "    print(f\"speed_mph {df2_filtered.speed_mph.mean()}\")\n",
    "    print(f\"total_vp {df2_filtered.total_vp.mean()}\")\n",
    "    print(f\"vp_in_shape {df2_filtered.vp_in_shape.mean()}\")\n",
    "    display(df2_filtered[df2_cols])\n",
    "    #print(\"original\")\n",
    "    #trip_instance_keys_keep = list(df2_filtered.trip_instance_key.unique())\n",
    "    #display(dec_df.loc[dec_df.trip_instance_key.isin(trip_instance_keys_keep)])\n",
    "    "
   ]
  },
  {
   "cell_type": "markdown",
   "id": "c8aae146-3b5f-4189-ad0f-b011221b5442",
   "metadata": {},
   "source": [
    "#### scheduled trip min (renamed from service_mins) is completely lower."
   ]
  },
  {
   "cell_type": "code",
   "execution_count": 77,
   "id": "04ee1397-318c-4bb7-9f80-2a55b9c75055",
   "metadata": {},
   "outputs": [
    {
     "name": "stdout",
     "output_type": "stream",
     "text": [
      "final\n"
     ]
    },
    {
     "data": {
      "text/html": [
       "<div>\n",
       "<style scoped>\n",
       "    .dataframe tbody tr th:only-of-type {\n",
       "        vertical-align: middle;\n",
       "    }\n",
       "\n",
       "    .dataframe tbody tr th {\n",
       "        vertical-align: top;\n",
       "    }\n",
       "\n",
       "    .dataframe thead th {\n",
       "        text-align: right;\n",
       "    }\n",
       "</style>\n",
       "<table border=\"1\" class=\"dataframe\">\n",
       "  <thead>\n",
       "    <tr style=\"text-align: right;\">\n",
       "      <th></th>\n",
       "      <th>org_id</th>\n",
       "      <th>agency</th>\n",
       "      <th>route_id</th>\n",
       "      <th>route_name</th>\n",
       "      <th>direction_id</th>\n",
       "      <th>time_of_day</th>\n",
       "      <th>speed_mph</th>\n",
       "      <th>n_trips</th>\n",
       "      <th>avg_sched_trip_min</th>\n",
       "      <th>avg_rt_trip_min</th>\n",
       "      <th>district_name</th>\n",
       "      <th>avg_pings_per_min</th>\n",
       "      <th>avg_pct_vp_shape</th>\n",
       "      <th>avg_pct_rt_v_sched</th>\n",
       "    </tr>\n",
       "  </thead>\n",
       "  <tbody>\n",
       "    <tr>\n",
       "      <th>6533</th>\n",
       "      <td>recPnGkwdpnr8jmHB</td>\n",
       "      <td>Los Angeles County Metropolitan Transportation Authority</td>\n",
       "      <td>265-13172</td>\n",
       "      <td>PICO RIVERA - LAKEWOOD CTR MALL VIA PARAMOUNT BL</td>\n",
       "      <td>0</td>\n",
       "      <td>Early AM</td>\n",
       "      <td>6.90</td>\n",
       "      <td>2</td>\n",
       "      <td>59.00</td>\n",
       "      <td>99.60</td>\n",
       "      <td>07 - Los Angeles</td>\n",
       "      <td>2.70</td>\n",
       "      <td>70.09</td>\n",
       "      <td>68.81</td>\n",
       "    </tr>\n",
       "  </tbody>\n",
       "</table>\n",
       "</div>"
      ],
      "text/plain": [
       "                 org_id  \\\n",
       "6533  recPnGkwdpnr8jmHB   \n",
       "\n",
       "                                                        agency   route_id  \\\n",
       "6533  Los Angeles County Metropolitan Transportation Authority  265-13172   \n",
       "\n",
       "                                            route_name  direction_id  \\\n",
       "6533  PICO RIVERA - LAKEWOOD CTR MALL VIA PARAMOUNT BL             0   \n",
       "\n",
       "     time_of_day  speed_mph  n_trips  avg_sched_trip_min  avg_rt_trip_min  \\\n",
       "6533    Early AM       6.90        2               59.00            99.60   \n",
       "\n",
       "         district_name  avg_pings_per_min  avg_pct_vp_shape  \\\n",
       "6533  07 - Los Angeles               2.70             70.09   \n",
       "\n",
       "      avg_pct_rt_v_sched  \n",
       "6533               68.81  "
      ]
     },
     "metadata": {},
     "output_type": "display_data"
    },
    {
     "name": "stdout",
     "output_type": "stream",
     "text": [
      "df3\n"
     ]
    },
    {
     "data": {
      "text/html": [
       "<div>\n",
       "<style scoped>\n",
       "    .dataframe tbody tr th:only-of-type {\n",
       "        vertical-align: middle;\n",
       "    }\n",
       "\n",
       "    .dataframe tbody tr th {\n",
       "        vertical-align: top;\n",
       "    }\n",
       "\n",
       "    .dataframe thead th {\n",
       "        text-align: right;\n",
       "    }\n",
       "</style>\n",
       "<table border=\"1\" class=\"dataframe\">\n",
       "  <thead>\n",
       "    <tr style=\"text-align: right;\">\n",
       "      <th></th>\n",
       "      <th>gtfs_dataset_key</th>\n",
       "      <th>time_of_day</th>\n",
       "      <th>route_id</th>\n",
       "      <th>direction_id</th>\n",
       "      <th>route_name</th>\n",
       "      <th>shape_array_key</th>\n",
       "      <th>avg_sched_trip_min</th>\n",
       "      <th>avg_rt_trip_min</th>\n",
       "      <th>speed_mph</th>\n",
       "      <th>avg_pings_per_min</th>\n",
       "      <th>total_vp</th>\n",
       "      <th>vp_in_shape</th>\n",
       "      <th>n_trips</th>\n",
       "    </tr>\n",
       "  </thead>\n",
       "  <tbody>\n",
       "    <tr>\n",
       "      <th>1733</th>\n",
       "      <td>3f3f36b4c41cc6b5df3eb7f5d8ea6e3c</td>\n",
       "      <td>Early AM</td>\n",
       "      <td>265-13172</td>\n",
       "      <td>0</td>\n",
       "      <td>PICO RIVERA - LAKEWOOD CTR MALL VIA PARAMOUNT BL</td>\n",
       "      <td>5c3d4b372420edebe33416aa0c6abe70</td>\n",
       "      <td>59.00</td>\n",
       "      <td>99.60</td>\n",
       "      <td>6.90</td>\n",
       "      <td>2.70</td>\n",
       "      <td>267.50</td>\n",
       "      <td>187.50</td>\n",
       "      <td>2</td>\n",
       "    </tr>\n",
       "  </tbody>\n",
       "</table>\n",
       "</div>"
      ],
      "text/plain": [
       "                      gtfs_dataset_key time_of_day   route_id  direction_id  \\\n",
       "1733  3f3f36b4c41cc6b5df3eb7f5d8ea6e3c    Early AM  265-13172             0   \n",
       "\n",
       "                                            route_name  \\\n",
       "1733  PICO RIVERA - LAKEWOOD CTR MALL VIA PARAMOUNT BL   \n",
       "\n",
       "                       shape_array_key  avg_sched_trip_min  avg_rt_trip_min  \\\n",
       "1733  5c3d4b372420edebe33416aa0c6abe70               59.00            99.60   \n",
       "\n",
       "      speed_mph  avg_pings_per_min  total_vp  vp_in_shape  n_trips  \n",
       "1733       6.90               2.70    267.50       187.50        2  "
      ]
     },
     "metadata": {},
     "output_type": "display_data"
    },
    {
     "name": "stdout",
     "output_type": "stream",
     "text": [
      "df2\n",
      "pings per min 2.6849179704528776\n",
      "speed_mph 6.887376703252869\n",
      "total_vp 267.5\n",
      "vp_in_shape 187.5\n"
     ]
    },
    {
     "data": {
      "text/html": [
       "<div>\n",
       "<style scoped>\n",
       "    .dataframe tbody tr th:only-of-type {\n",
       "        vertical-align: middle;\n",
       "    }\n",
       "\n",
       "    .dataframe tbody tr th {\n",
       "        vertical-align: top;\n",
       "    }\n",
       "\n",
       "    .dataframe thead th {\n",
       "        text-align: right;\n",
       "    }\n",
       "</style>\n",
       "<table border=\"1\" class=\"dataframe\">\n",
       "  <thead>\n",
       "    <tr style=\"text-align: right;\">\n",
       "      <th></th>\n",
       "      <th>trip_instance_key</th>\n",
       "      <th>time_of_day</th>\n",
       "      <th>speed_mph</th>\n",
       "      <th>rt_service_min</th>\n",
       "      <th>service_minutes</th>\n",
       "      <th>pings_per_min</th>\n",
       "    </tr>\n",
       "  </thead>\n",
       "  <tbody>\n",
       "    <tr>\n",
       "      <th>24866</th>\n",
       "      <td>48a01217589c2faa46db395d6cf8317d</td>\n",
       "      <td>Early AM</td>\n",
       "      <td>9.40</td>\n",
       "      <td>95.02</td>\n",
       "      <td>58.00</td>\n",
       "      <td>2.65</td>\n",
       "    </tr>\n",
       "    <tr>\n",
       "      <th>24867</th>\n",
       "      <td>70674803a1c4416fc49f883bc3b2c18b</td>\n",
       "      <td>Early AM</td>\n",
       "      <td>4.38</td>\n",
       "      <td>104.13</td>\n",
       "      <td>60.00</td>\n",
       "      <td>2.72</td>\n",
       "    </tr>\n",
       "  </tbody>\n",
       "</table>\n",
       "</div>"
      ],
      "text/plain": [
       "                      trip_instance_key time_of_day  speed_mph  \\\n",
       "24866  48a01217589c2faa46db395d6cf8317d    Early AM       9.40   \n",
       "24867  70674803a1c4416fc49f883bc3b2c18b    Early AM       4.38   \n",
       "\n",
       "       rt_service_min  service_minutes  pings_per_min  \n",
       "24866           95.02            58.00           2.65  \n",
       "24867          104.13            60.00           2.72  "
      ]
     },
     "metadata": {},
     "output_type": "display_data"
    }
   ],
   "source": [
    "route_265 = checkout_route(\"265-13172\", \"Early AM\", 0)"
   ]
  },
  {
   "cell_type": "code",
   "execution_count": 78,
   "id": "aa775538-5a7f-4500-bc5b-867e9b54d626",
   "metadata": {},
   "outputs": [
    {
     "name": "stdout",
     "output_type": "stream",
     "text": [
      "final\n"
     ]
    },
    {
     "data": {
      "text/html": [
       "<div>\n",
       "<style scoped>\n",
       "    .dataframe tbody tr th:only-of-type {\n",
       "        vertical-align: middle;\n",
       "    }\n",
       "\n",
       "    .dataframe tbody tr th {\n",
       "        vertical-align: top;\n",
       "    }\n",
       "\n",
       "    .dataframe thead th {\n",
       "        text-align: right;\n",
       "    }\n",
       "</style>\n",
       "<table border=\"1\" class=\"dataframe\">\n",
       "  <thead>\n",
       "    <tr style=\"text-align: right;\">\n",
       "      <th></th>\n",
       "      <th>org_id</th>\n",
       "      <th>agency</th>\n",
       "      <th>route_id</th>\n",
       "      <th>route_name</th>\n",
       "      <th>direction_id</th>\n",
       "      <th>time_of_day</th>\n",
       "      <th>speed_mph</th>\n",
       "      <th>n_trips</th>\n",
       "      <th>avg_sched_trip_min</th>\n",
       "      <th>avg_rt_trip_min</th>\n",
       "      <th>district_name</th>\n",
       "      <th>avg_pings_per_min</th>\n",
       "      <th>avg_pct_vp_shape</th>\n",
       "      <th>avg_pct_rt_v_sched</th>\n",
       "    </tr>\n",
       "  </thead>\n",
       "  <tbody>\n",
       "    <tr>\n",
       "      <th>193</th>\n",
       "      <td>rec3u4aMplqObcoTR</td>\n",
       "      <td>Tahoe Transportation District</td>\n",
       "      <td>5671</td>\n",
       "      <td>Valley Express Daily</td>\n",
       "      <td>1</td>\n",
       "      <td>Early AM</td>\n",
       "      <td>2.20</td>\n",
       "      <td>1</td>\n",
       "      <td>38.00</td>\n",
       "      <td>313.50</td>\n",
       "      <td>03 - Marysville</td>\n",
       "      <td>1.40</td>\n",
       "      <td>22.65</td>\n",
       "      <td>725.00</td>\n",
       "    </tr>\n",
       "  </tbody>\n",
       "</table>\n",
       "</div>"
      ],
      "text/plain": [
       "                org_id                         agency route_id  \\\n",
       "193  rec3u4aMplqObcoTR  Tahoe Transportation District     5671   \n",
       "\n",
       "               route_name  direction_id time_of_day  speed_mph  n_trips  \\\n",
       "193  Valley Express Daily             1    Early AM       2.20        1   \n",
       "\n",
       "     avg_sched_trip_min  avg_rt_trip_min    district_name  avg_pings_per_min  \\\n",
       "193               38.00           313.50  03 - Marysville               1.40   \n",
       "\n",
       "     avg_pct_vp_shape  avg_pct_rt_v_sched  \n",
       "193             22.65              725.00  "
      ]
     },
     "metadata": {},
     "output_type": "display_data"
    },
    {
     "name": "stdout",
     "output_type": "stream",
     "text": [
      "df3\n"
     ]
    },
    {
     "data": {
      "text/html": [
       "<div>\n",
       "<style scoped>\n",
       "    .dataframe tbody tr th:only-of-type {\n",
       "        vertical-align: middle;\n",
       "    }\n",
       "\n",
       "    .dataframe tbody tr th {\n",
       "        vertical-align: top;\n",
       "    }\n",
       "\n",
       "    .dataframe thead th {\n",
       "        text-align: right;\n",
       "    }\n",
       "</style>\n",
       "<table border=\"1\" class=\"dataframe\">\n",
       "  <thead>\n",
       "    <tr style=\"text-align: right;\">\n",
       "      <th></th>\n",
       "      <th>gtfs_dataset_key</th>\n",
       "      <th>time_of_day</th>\n",
       "      <th>route_id</th>\n",
       "      <th>direction_id</th>\n",
       "      <th>route_name</th>\n",
       "      <th>shape_array_key</th>\n",
       "      <th>avg_sched_trip_min</th>\n",
       "      <th>avg_rt_trip_min</th>\n",
       "      <th>speed_mph</th>\n",
       "      <th>avg_pings_per_min</th>\n",
       "      <th>total_vp</th>\n",
       "      <th>vp_in_shape</th>\n",
       "      <th>n_trips</th>\n",
       "    </tr>\n",
       "  </thead>\n",
       "  <tbody>\n",
       "    <tr>\n",
       "      <th>6840</th>\n",
       "      <td>c3499b856c717e5706299664fb1c5261</td>\n",
       "      <td>Early AM</td>\n",
       "      <td>5671</td>\n",
       "      <td>1</td>\n",
       "      <td>Valley Express Daily</td>\n",
       "      <td>d99540208939e6a891e7ec67e3bf8964</td>\n",
       "      <td>38.00</td>\n",
       "      <td>313.50</td>\n",
       "      <td>2.20</td>\n",
       "      <td>1.40</td>\n",
       "      <td>446.00</td>\n",
       "      <td>101.00</td>\n",
       "      <td>1</td>\n",
       "    </tr>\n",
       "  </tbody>\n",
       "</table>\n",
       "</div>"
      ],
      "text/plain": [
       "                      gtfs_dataset_key time_of_day route_id  direction_id  \\\n",
       "6840  c3499b856c717e5706299664fb1c5261    Early AM     5671             1   \n",
       "\n",
       "                route_name                   shape_array_key  \\\n",
       "6840  Valley Express Daily  d99540208939e6a891e7ec67e3bf8964   \n",
       "\n",
       "      avg_sched_trip_min  avg_rt_trip_min  speed_mph  avg_pings_per_min  \\\n",
       "6840               38.00           313.50       2.20               1.40   \n",
       "\n",
       "      total_vp  vp_in_shape  n_trips  \n",
       "6840    446.00       101.00        1  "
      ]
     },
     "metadata": {},
     "output_type": "display_data"
    },
    {
     "name": "stdout",
     "output_type": "stream",
     "text": [
      "df2\n",
      "pings per min 1.422723164442554\n",
      "speed_mph 2.158633017384419\n",
      "total_vp 446.0\n",
      "vp_in_shape 101.0\n"
     ]
    },
    {
     "data": {
      "text/html": [
       "<div>\n",
       "<style scoped>\n",
       "    .dataframe tbody tr th:only-of-type {\n",
       "        vertical-align: middle;\n",
       "    }\n",
       "\n",
       "    .dataframe tbody tr th {\n",
       "        vertical-align: top;\n",
       "    }\n",
       "\n",
       "    .dataframe thead th {\n",
       "        text-align: right;\n",
       "    }\n",
       "</style>\n",
       "<table border=\"1\" class=\"dataframe\">\n",
       "  <thead>\n",
       "    <tr style=\"text-align: right;\">\n",
       "      <th></th>\n",
       "      <th>trip_instance_key</th>\n",
       "      <th>time_of_day</th>\n",
       "      <th>speed_mph</th>\n",
       "      <th>rt_service_min</th>\n",
       "      <th>service_minutes</th>\n",
       "      <th>pings_per_min</th>\n",
       "    </tr>\n",
       "  </thead>\n",
       "  <tbody>\n",
       "    <tr>\n",
       "      <th>27758</th>\n",
       "      <td>6fadf197f5bb105ed916de0a337386ee</td>\n",
       "      <td>Early AM</td>\n",
       "      <td>2.16</td>\n",
       "      <td>313.48</td>\n",
       "      <td>38.00</td>\n",
       "      <td>1.42</td>\n",
       "    </tr>\n",
       "  </tbody>\n",
       "</table>\n",
       "</div>"
      ],
      "text/plain": [
       "                      trip_instance_key time_of_day  speed_mph  \\\n",
       "27758  6fadf197f5bb105ed916de0a337386ee    Early AM       2.16   \n",
       "\n",
       "       rt_service_min  service_minutes  pings_per_min  \n",
       "27758          313.48            38.00           1.42  "
      ]
     },
     "metadata": {},
     "output_type": "display_data"
    }
   ],
   "source": [
    "checkout_route(\"5671\", \"Early AM\", 1)"
   ]
  },
  {
   "cell_type": "code",
   "execution_count": 79,
   "id": "a3c23900-fdaa-476c-a490-dbc703df0c28",
   "metadata": {},
   "outputs": [
    {
     "name": "stdout",
     "output_type": "stream",
     "text": [
      "final\n"
     ]
    },
    {
     "data": {
      "text/html": [
       "<div>\n",
       "<style scoped>\n",
       "    .dataframe tbody tr th:only-of-type {\n",
       "        vertical-align: middle;\n",
       "    }\n",
       "\n",
       "    .dataframe tbody tr th {\n",
       "        vertical-align: top;\n",
       "    }\n",
       "\n",
       "    .dataframe thead th {\n",
       "        text-align: right;\n",
       "    }\n",
       "</style>\n",
       "<table border=\"1\" class=\"dataframe\">\n",
       "  <thead>\n",
       "    <tr style=\"text-align: right;\">\n",
       "      <th></th>\n",
       "      <th>org_id</th>\n",
       "      <th>agency</th>\n",
       "      <th>route_id</th>\n",
       "      <th>route_name</th>\n",
       "      <th>direction_id</th>\n",
       "      <th>time_of_day</th>\n",
       "      <th>speed_mph</th>\n",
       "      <th>n_trips</th>\n",
       "      <th>avg_sched_trip_min</th>\n",
       "      <th>avg_rt_trip_min</th>\n",
       "      <th>district_name</th>\n",
       "      <th>avg_pings_per_min</th>\n",
       "      <th>avg_pct_vp_shape</th>\n",
       "      <th>avg_pct_rt_v_sched</th>\n",
       "    </tr>\n",
       "  </thead>\n",
       "  <tbody>\n",
       "    <tr>\n",
       "      <th>9012</th>\n",
       "      <td>rechaapWbeffO33OX</td>\n",
       "      <td>City and County of San Francisco</td>\n",
       "      <td>38R</td>\n",
       "      <td>Weekdays 5am-10pm Weekends 6am-9pm</td>\n",
       "      <td>1</td>\n",
       "      <td>AM Peak</td>\n",
       "      <td>6.70</td>\n",
       "      <td>30</td>\n",
       "      <td>43.90</td>\n",
       "      <td>58.90</td>\n",
       "      <td>04 - Oakland</td>\n",
       "      <td>3.00</td>\n",
       "      <td>88.33</td>\n",
       "      <td>34.17</td>\n",
       "    </tr>\n",
       "  </tbody>\n",
       "</table>\n",
       "</div>"
      ],
      "text/plain": [
       "                 org_id                            agency route_id  \\\n",
       "9012  rechaapWbeffO33OX  City and County of San Francisco      38R   \n",
       "\n",
       "                              route_name  direction_id time_of_day  speed_mph  \\\n",
       "9012  Weekdays 5am-10pm Weekends 6am-9pm             1     AM Peak       6.70   \n",
       "\n",
       "      n_trips  avg_sched_trip_min  avg_rt_trip_min district_name  \\\n",
       "9012       30               43.90            58.90  04 - Oakland   \n",
       "\n",
       "      avg_pings_per_min  avg_pct_vp_shape  avg_pct_rt_v_sched  \n",
       "9012               3.00             88.33               34.17  "
      ]
     },
     "metadata": {},
     "output_type": "display_data"
    },
    {
     "name": "stdout",
     "output_type": "stream",
     "text": [
      "df3\n"
     ]
    },
    {
     "data": {
      "text/html": [
       "<div>\n",
       "<style scoped>\n",
       "    .dataframe tbody tr th:only-of-type {\n",
       "        vertical-align: middle;\n",
       "    }\n",
       "\n",
       "    .dataframe tbody tr th {\n",
       "        vertical-align: top;\n",
       "    }\n",
       "\n",
       "    .dataframe thead th {\n",
       "        text-align: right;\n",
       "    }\n",
       "</style>\n",
       "<table border=\"1\" class=\"dataframe\">\n",
       "  <thead>\n",
       "    <tr style=\"text-align: right;\">\n",
       "      <th></th>\n",
       "      <th>gtfs_dataset_key</th>\n",
       "      <th>time_of_day</th>\n",
       "      <th>route_id</th>\n",
       "      <th>direction_id</th>\n",
       "      <th>route_name</th>\n",
       "      <th>shape_array_key</th>\n",
       "      <th>avg_sched_trip_min</th>\n",
       "      <th>avg_rt_trip_min</th>\n",
       "      <th>speed_mph</th>\n",
       "      <th>avg_pings_per_min</th>\n",
       "      <th>total_vp</th>\n",
       "      <th>vp_in_shape</th>\n",
       "      <th>n_trips</th>\n",
       "    </tr>\n",
       "  </thead>\n",
       "  <tbody>\n",
       "    <tr>\n",
       "      <th>4102</th>\n",
       "      <td>7cc0cb1871dfd558f11a2885c145d144</td>\n",
       "      <td>AM Peak</td>\n",
       "      <td>38R</td>\n",
       "      <td>1</td>\n",
       "      <td>Weekdays 5am-10pm Weekends 6am-9pm</td>\n",
       "      <td>6e78cef03e15c5a71751030fc65e09b4</td>\n",
       "      <td>43.90</td>\n",
       "      <td>58.90</td>\n",
       "      <td>6.70</td>\n",
       "      <td>3.00</td>\n",
       "      <td>174.57</td>\n",
       "      <td>154.20</td>\n",
       "      <td>30</td>\n",
       "    </tr>\n",
       "  </tbody>\n",
       "</table>\n",
       "</div>"
      ],
      "text/plain": [
       "                      gtfs_dataset_key time_of_day route_id  direction_id  \\\n",
       "4102  7cc0cb1871dfd558f11a2885c145d144     AM Peak      38R             1   \n",
       "\n",
       "                              route_name                   shape_array_key  \\\n",
       "4102  Weekdays 5am-10pm Weekends 6am-9pm  6e78cef03e15c5a71751030fc65e09b4   \n",
       "\n",
       "      avg_sched_trip_min  avg_rt_trip_min  speed_mph  avg_pings_per_min  \\\n",
       "4102               43.90            58.90       6.70               3.00   \n",
       "\n",
       "      total_vp  vp_in_shape  n_trips  \n",
       "4102    174.57       154.20       30  "
      ]
     },
     "metadata": {},
     "output_type": "display_data"
    },
    {
     "name": "stdout",
     "output_type": "stream",
     "text": [
      "df2\n",
      "pings per min 2.961175851535439\n",
      "speed_mph 6.682525584870673\n",
      "total_vp 174.56666666666666\n",
      "vp_in_shape 154.2\n"
     ]
    },
    {
     "data": {
      "text/html": [
       "<div>\n",
       "<style scoped>\n",
       "    .dataframe tbody tr th:only-of-type {\n",
       "        vertical-align: middle;\n",
       "    }\n",
       "\n",
       "    .dataframe tbody tr th {\n",
       "        vertical-align: top;\n",
       "    }\n",
       "\n",
       "    .dataframe thead th {\n",
       "        text-align: right;\n",
       "    }\n",
       "</style>\n",
       "<table border=\"1\" class=\"dataframe\">\n",
       "  <thead>\n",
       "    <tr style=\"text-align: right;\">\n",
       "      <th></th>\n",
       "      <th>trip_instance_key</th>\n",
       "      <th>time_of_day</th>\n",
       "      <th>speed_mph</th>\n",
       "      <th>rt_service_min</th>\n",
       "      <th>service_minutes</th>\n",
       "      <th>pings_per_min</th>\n",
       "    </tr>\n",
       "  </thead>\n",
       "  <tbody>\n",
       "    <tr>\n",
       "      <th>61610</th>\n",
       "      <td>76fa3ed3fd8ef28a446eedb4c1e94e6a</td>\n",
       "      <td>AM Peak</td>\n",
       "      <td>9.39</td>\n",
       "      <td>48.82</td>\n",
       "      <td>39.00</td>\n",
       "      <td>2.97</td>\n",
       "    </tr>\n",
       "    <tr>\n",
       "      <th>61611</th>\n",
       "      <td>47d8da2afbc3e4c78f9be4c6c53a7776</td>\n",
       "      <td>AM Peak</td>\n",
       "      <td>10.00</td>\n",
       "      <td>49.38</td>\n",
       "      <td>39.00</td>\n",
       "      <td>2.96</td>\n",
       "    </tr>\n",
       "    <tr>\n",
       "      <th>61612</th>\n",
       "      <td>40590ba21f73ae1775a4538e34e67cc3</td>\n",
       "      <td>AM Peak</td>\n",
       "      <td>5.34</td>\n",
       "      <td>97.67</td>\n",
       "      <td>41.00</td>\n",
       "      <td>2.98</td>\n",
       "    </tr>\n",
       "    <tr>\n",
       "      <th>61613</th>\n",
       "      <td>aa1b90f05357a29abc97fae90cd5bafe</td>\n",
       "      <td>AM Peak</td>\n",
       "      <td>9.73</td>\n",
       "      <td>49.45</td>\n",
       "      <td>41.00</td>\n",
       "      <td>2.95</td>\n",
       "    </tr>\n",
       "    <tr>\n",
       "      <th>61614</th>\n",
       "      <td>4d7cb7ddea2191f062c1ea3165df67c8</td>\n",
       "      <td>AM Peak</td>\n",
       "      <td>8.58</td>\n",
       "      <td>57.95</td>\n",
       "      <td>41.00</td>\n",
       "      <td>2.97</td>\n",
       "    </tr>\n",
       "    <tr>\n",
       "      <th>61615</th>\n",
       "      <td>d4e16623b6cf749d8e389b905ab44089</td>\n",
       "      <td>AM Peak</td>\n",
       "      <td>4.49</td>\n",
       "      <td>93.43</td>\n",
       "      <td>42.00</td>\n",
       "      <td>2.99</td>\n",
       "    </tr>\n",
       "    <tr>\n",
       "      <th>61616</th>\n",
       "      <td>ac9822b2d06b84790c10b7cbbf694410</td>\n",
       "      <td>AM Peak</td>\n",
       "      <td>7.10</td>\n",
       "      <td>67.83</td>\n",
       "      <td>42.00</td>\n",
       "      <td>2.96</td>\n",
       "    </tr>\n",
       "    <tr>\n",
       "      <th>61617</th>\n",
       "      <td>092c4f20368b13bc5c92fda4fb16bd93</td>\n",
       "      <td>AM Peak</td>\n",
       "      <td>3.77</td>\n",
       "      <td>54.93</td>\n",
       "      <td>43.00</td>\n",
       "      <td>2.97</td>\n",
       "    </tr>\n",
       "    <tr>\n",
       "      <th>61618</th>\n",
       "      <td>88cf8d5d7cd5d0c74a9b78d5e62fd8a3</td>\n",
       "      <td>AM Peak</td>\n",
       "      <td>7.06</td>\n",
       "      <td>52.62</td>\n",
       "      <td>43.00</td>\n",
       "      <td>2.96</td>\n",
       "    </tr>\n",
       "    <tr>\n",
       "      <th>61619</th>\n",
       "      <td>2845f0ae70ae06c3618d58fa99a1cdde</td>\n",
       "      <td>AM Peak</td>\n",
       "      <td>8.57</td>\n",
       "      <td>51.58</td>\n",
       "      <td>43.00</td>\n",
       "      <td>2.97</td>\n",
       "    </tr>\n",
       "    <tr>\n",
       "      <th>61620</th>\n",
       "      <td>118feb9aedabd1b9bb354ce493c07735</td>\n",
       "      <td>AM Peak</td>\n",
       "      <td>5.07</td>\n",
       "      <td>41.27</td>\n",
       "      <td>44.00</td>\n",
       "      <td>2.96</td>\n",
       "    </tr>\n",
       "    <tr>\n",
       "      <th>61621</th>\n",
       "      <td>adea377ad6e2ee6fb01e515724547b17</td>\n",
       "      <td>AM Peak</td>\n",
       "      <td>8.72</td>\n",
       "      <td>56.75</td>\n",
       "      <td>44.00</td>\n",
       "      <td>2.96</td>\n",
       "    </tr>\n",
       "    <tr>\n",
       "      <th>61622</th>\n",
       "      <td>08797b2f64712704fd8fff8e3c3d1dc2</td>\n",
       "      <td>AM Peak</td>\n",
       "      <td>8.72</td>\n",
       "      <td>52.38</td>\n",
       "      <td>45.00</td>\n",
       "      <td>2.96</td>\n",
       "    </tr>\n",
       "    <tr>\n",
       "      <th>61623</th>\n",
       "      <td>6366ccc0f17673ccd753214d9cb433ed</td>\n",
       "      <td>AM Peak</td>\n",
       "      <td>8.61</td>\n",
       "      <td>84.38</td>\n",
       "      <td>45.00</td>\n",
       "      <td>2.97</td>\n",
       "    </tr>\n",
       "    <tr>\n",
       "      <th>61624</th>\n",
       "      <td>bda28536257ad187c4469c6f188635a6</td>\n",
       "      <td>AM Peak</td>\n",
       "      <td>4.12</td>\n",
       "      <td>49.57</td>\n",
       "      <td>45.00</td>\n",
       "      <td>2.97</td>\n",
       "    </tr>\n",
       "    <tr>\n",
       "      <th>61625</th>\n",
       "      <td>585d84b16b4a418da661644e3a2314d1</td>\n",
       "      <td>AM Peak</td>\n",
       "      <td>8.28</td>\n",
       "      <td>70.50</td>\n",
       "      <td>45.00</td>\n",
       "      <td>2.98</td>\n",
       "    </tr>\n",
       "    <tr>\n",
       "      <th>61626</th>\n",
       "      <td>6789beb9af8dcb7d8b76afd9cce184a4</td>\n",
       "      <td>AM Peak</td>\n",
       "      <td>8.91</td>\n",
       "      <td>47.77</td>\n",
       "      <td>45.00</td>\n",
       "      <td>2.97</td>\n",
       "    </tr>\n",
       "    <tr>\n",
       "      <th>61627</th>\n",
       "      <td>f36bb7386e5681abb33b97cf5c69b9db</td>\n",
       "      <td>AM Peak</td>\n",
       "      <td>8.81</td>\n",
       "      <td>55.53</td>\n",
       "      <td>45.00</td>\n",
       "      <td>2.97</td>\n",
       "    </tr>\n",
       "    <tr>\n",
       "      <th>61628</th>\n",
       "      <td>d2a71fa9b476e583315b6f203ccf8c67</td>\n",
       "      <td>AM Peak</td>\n",
       "      <td>3.39</td>\n",
       "      <td>59.95</td>\n",
       "      <td>45.00</td>\n",
       "      <td>2.97</td>\n",
       "    </tr>\n",
       "    <tr>\n",
       "      <th>61629</th>\n",
       "      <td>82d0a21cfae4aa608861e3bb0172110c</td>\n",
       "      <td>AM Peak</td>\n",
       "      <td>7.36</td>\n",
       "      <td>54.80</td>\n",
       "      <td>45.00</td>\n",
       "      <td>2.81</td>\n",
       "    </tr>\n",
       "    <tr>\n",
       "      <th>61630</th>\n",
       "      <td>18792d0d435c7d031ea66115a3e985ee</td>\n",
       "      <td>AM Peak</td>\n",
       "      <td>4.51</td>\n",
       "      <td>45.50</td>\n",
       "      <td>45.00</td>\n",
       "      <td>2.97</td>\n",
       "    </tr>\n",
       "    <tr>\n",
       "      <th>61631</th>\n",
       "      <td>401e0c1fed455778f28834b60b66a4ff</td>\n",
       "      <td>AM Peak</td>\n",
       "      <td>3.23</td>\n",
       "      <td>63.07</td>\n",
       "      <td>45.00</td>\n",
       "      <td>2.97</td>\n",
       "    </tr>\n",
       "    <tr>\n",
       "      <th>61632</th>\n",
       "      <td>abb36fd3b7d6d95dccf23ed5709bce69</td>\n",
       "      <td>AM Peak</td>\n",
       "      <td>8.41</td>\n",
       "      <td>47.82</td>\n",
       "      <td>46.00</td>\n",
       "      <td>2.97</td>\n",
       "    </tr>\n",
       "    <tr>\n",
       "      <th>61633</th>\n",
       "      <td>743153cc91ad7ce0ff294a451347d87e</td>\n",
       "      <td>AM Peak</td>\n",
       "      <td>9.01</td>\n",
       "      <td>48.32</td>\n",
       "      <td>46.00</td>\n",
       "      <td>2.96</td>\n",
       "    </tr>\n",
       "    <tr>\n",
       "      <th>61634</th>\n",
       "      <td>addecf9d30d8193bae40b35b00ced394</td>\n",
       "      <td>AM Peak</td>\n",
       "      <td>3.39</td>\n",
       "      <td>59.93</td>\n",
       "      <td>47.00</td>\n",
       "      <td>2.97</td>\n",
       "    </tr>\n",
       "    <tr>\n",
       "      <th>61635</th>\n",
       "      <td>a95f1835bc54bdf7cf77b5bac056e103</td>\n",
       "      <td>AM Peak</td>\n",
       "      <td>3.60</td>\n",
       "      <td>56.57</td>\n",
       "      <td>47.00</td>\n",
       "      <td>2.97</td>\n",
       "    </tr>\n",
       "    <tr>\n",
       "      <th>61636</th>\n",
       "      <td>7dec1b76c7e8e141e19ecc2b780b202c</td>\n",
       "      <td>AM Peak</td>\n",
       "      <td>8.61</td>\n",
       "      <td>52.43</td>\n",
       "      <td>47.00</td>\n",
       "      <td>2.96</td>\n",
       "    </tr>\n",
       "    <tr>\n",
       "      <th>61637</th>\n",
       "      <td>02efbb740cfeced30c8fd237ab981723</td>\n",
       "      <td>AM Peak</td>\n",
       "      <td>4.29</td>\n",
       "      <td>47.77</td>\n",
       "      <td>47.00</td>\n",
       "      <td>2.95</td>\n",
       "    </tr>\n",
       "    <tr>\n",
       "      <th>61638</th>\n",
       "      <td>ff8e7fa939ecb40d43443bc1777eea65</td>\n",
       "      <td>AM Peak</td>\n",
       "      <td>3.37</td>\n",
       "      <td>59.90</td>\n",
       "      <td>47.00</td>\n",
       "      <td>2.95</td>\n",
       "    </tr>\n",
       "    <tr>\n",
       "      <th>66858</th>\n",
       "      <td>6058e1a8b5072b0ab2a6a6275aa125e7</td>\n",
       "      <td>AM Peak</td>\n",
       "      <td>6.07</td>\n",
       "      <td>89.63</td>\n",
       "      <td>39.00</td>\n",
       "      <td>2.98</td>\n",
       "    </tr>\n",
       "  </tbody>\n",
       "</table>\n",
       "</div>"
      ],
      "text/plain": [
       "                      trip_instance_key time_of_day  speed_mph  \\\n",
       "61610  76fa3ed3fd8ef28a446eedb4c1e94e6a     AM Peak       9.39   \n",
       "61611  47d8da2afbc3e4c78f9be4c6c53a7776     AM Peak      10.00   \n",
       "61612  40590ba21f73ae1775a4538e34e67cc3     AM Peak       5.34   \n",
       "61613  aa1b90f05357a29abc97fae90cd5bafe     AM Peak       9.73   \n",
       "61614  4d7cb7ddea2191f062c1ea3165df67c8     AM Peak       8.58   \n",
       "61615  d4e16623b6cf749d8e389b905ab44089     AM Peak       4.49   \n",
       "61616  ac9822b2d06b84790c10b7cbbf694410     AM Peak       7.10   \n",
       "61617  092c4f20368b13bc5c92fda4fb16bd93     AM Peak       3.77   \n",
       "61618  88cf8d5d7cd5d0c74a9b78d5e62fd8a3     AM Peak       7.06   \n",
       "61619  2845f0ae70ae06c3618d58fa99a1cdde     AM Peak       8.57   \n",
       "61620  118feb9aedabd1b9bb354ce493c07735     AM Peak       5.07   \n",
       "61621  adea377ad6e2ee6fb01e515724547b17     AM Peak       8.72   \n",
       "61622  08797b2f64712704fd8fff8e3c3d1dc2     AM Peak       8.72   \n",
       "61623  6366ccc0f17673ccd753214d9cb433ed     AM Peak       8.61   \n",
       "61624  bda28536257ad187c4469c6f188635a6     AM Peak       4.12   \n",
       "61625  585d84b16b4a418da661644e3a2314d1     AM Peak       8.28   \n",
       "61626  6789beb9af8dcb7d8b76afd9cce184a4     AM Peak       8.91   \n",
       "61627  f36bb7386e5681abb33b97cf5c69b9db     AM Peak       8.81   \n",
       "61628  d2a71fa9b476e583315b6f203ccf8c67     AM Peak       3.39   \n",
       "61629  82d0a21cfae4aa608861e3bb0172110c     AM Peak       7.36   \n",
       "61630  18792d0d435c7d031ea66115a3e985ee     AM Peak       4.51   \n",
       "61631  401e0c1fed455778f28834b60b66a4ff     AM Peak       3.23   \n",
       "61632  abb36fd3b7d6d95dccf23ed5709bce69     AM Peak       8.41   \n",
       "61633  743153cc91ad7ce0ff294a451347d87e     AM Peak       9.01   \n",
       "61634  addecf9d30d8193bae40b35b00ced394     AM Peak       3.39   \n",
       "61635  a95f1835bc54bdf7cf77b5bac056e103     AM Peak       3.60   \n",
       "61636  7dec1b76c7e8e141e19ecc2b780b202c     AM Peak       8.61   \n",
       "61637  02efbb740cfeced30c8fd237ab981723     AM Peak       4.29   \n",
       "61638  ff8e7fa939ecb40d43443bc1777eea65     AM Peak       3.37   \n",
       "66858  6058e1a8b5072b0ab2a6a6275aa125e7     AM Peak       6.07   \n",
       "\n",
       "       rt_service_min  service_minutes  pings_per_min  \n",
       "61610           48.82            39.00           2.97  \n",
       "61611           49.38            39.00           2.96  \n",
       "61612           97.67            41.00           2.98  \n",
       "61613           49.45            41.00           2.95  \n",
       "61614           57.95            41.00           2.97  \n",
       "61615           93.43            42.00           2.99  \n",
       "61616           67.83            42.00           2.96  \n",
       "61617           54.93            43.00           2.97  \n",
       "61618           52.62            43.00           2.96  \n",
       "61619           51.58            43.00           2.97  \n",
       "61620           41.27            44.00           2.96  \n",
       "61621           56.75            44.00           2.96  \n",
       "61622           52.38            45.00           2.96  \n",
       "61623           84.38            45.00           2.97  \n",
       "61624           49.57            45.00           2.97  \n",
       "61625           70.50            45.00           2.98  \n",
       "61626           47.77            45.00           2.97  \n",
       "61627           55.53            45.00           2.97  \n",
       "61628           59.95            45.00           2.97  \n",
       "61629           54.80            45.00           2.81  \n",
       "61630           45.50            45.00           2.97  \n",
       "61631           63.07            45.00           2.97  \n",
       "61632           47.82            46.00           2.97  \n",
       "61633           48.32            46.00           2.96  \n",
       "61634           59.93            47.00           2.97  \n",
       "61635           56.57            47.00           2.97  \n",
       "61636           52.43            47.00           2.96  \n",
       "61637           47.77            47.00           2.95  \n",
       "61638           59.90            47.00           2.95  \n",
       "66858           89.63            39.00           2.98  "
      ]
     },
     "metadata": {},
     "output_type": "display_data"
    }
   ],
   "source": [
    "checkout_route(\"38R\", \"AM Peak\", 1)"
   ]
  },
  {
   "cell_type": "code",
   "execution_count": 80,
   "id": "8168d872-49c3-44c2-bdc7-fa499124c5af",
   "metadata": {},
   "outputs": [
    {
     "name": "stdout",
     "output_type": "stream",
     "text": [
      "final\n"
     ]
    },
    {
     "data": {
      "text/html": [
       "<div>\n",
       "<style scoped>\n",
       "    .dataframe tbody tr th:only-of-type {\n",
       "        vertical-align: middle;\n",
       "    }\n",
       "\n",
       "    .dataframe tbody tr th {\n",
       "        vertical-align: top;\n",
       "    }\n",
       "\n",
       "    .dataframe thead th {\n",
       "        text-align: right;\n",
       "    }\n",
       "</style>\n",
       "<table border=\"1\" class=\"dataframe\">\n",
       "  <thead>\n",
       "    <tr style=\"text-align: right;\">\n",
       "      <th></th>\n",
       "      <th>org_id</th>\n",
       "      <th>agency</th>\n",
       "      <th>route_id</th>\n",
       "      <th>route_name</th>\n",
       "      <th>direction_id</th>\n",
       "      <th>time_of_day</th>\n",
       "      <th>speed_mph</th>\n",
       "      <th>n_trips</th>\n",
       "      <th>avg_sched_trip_min</th>\n",
       "      <th>avg_rt_trip_min</th>\n",
       "      <th>district_name</th>\n",
       "      <th>avg_pings_per_min</th>\n",
       "      <th>avg_pct_vp_shape</th>\n",
       "      <th>avg_pct_rt_v_sched</th>\n",
       "    </tr>\n",
       "  </thead>\n",
       "  <tbody>\n",
       "    <tr>\n",
       "      <th>5973</th>\n",
       "      <td>recIKnsnTdKQ0vsiv</td>\n",
       "      <td>Western Contra Costa Transit Authority</td>\n",
       "      <td>Lynx</td>\n",
       "      <td>Rodeo/Hercules/San Francisco Transbay Terminal</td>\n",
       "      <td>1</td>\n",
       "      <td>AM Peak</td>\n",
       "      <td>13.40</td>\n",
       "      <td>6</td>\n",
       "      <td>50.00</td>\n",
       "      <td>60.70</td>\n",
       "      <td>04 - Oakland</td>\n",
       "      <td>2.80</td>\n",
       "      <td>NaN</td>\n",
       "      <td>21.40</td>\n",
       "    </tr>\n",
       "  </tbody>\n",
       "</table>\n",
       "</div>"
      ],
      "text/plain": [
       "                 org_id                                  agency route_id  \\\n",
       "5973  recIKnsnTdKQ0vsiv  Western Contra Costa Transit Authority     Lynx   \n",
       "\n",
       "                                          route_name  direction_id  \\\n",
       "5973  Rodeo/Hercules/San Francisco Transbay Terminal             1   \n",
       "\n",
       "     time_of_day  speed_mph  n_trips  avg_sched_trip_min  avg_rt_trip_min  \\\n",
       "5973     AM Peak      13.40        6               50.00            60.70   \n",
       "\n",
       "     district_name  avg_pings_per_min  avg_pct_vp_shape  avg_pct_rt_v_sched  \n",
       "5973  04 - Oakland               2.80               NaN               21.40  "
      ]
     },
     "metadata": {},
     "output_type": "display_data"
    },
    {
     "name": "stdout",
     "output_type": "stream",
     "text": [
      "df3\n"
     ]
    },
    {
     "data": {
      "text/html": [
       "<div>\n",
       "<style scoped>\n",
       "    .dataframe tbody tr th:only-of-type {\n",
       "        vertical-align: middle;\n",
       "    }\n",
       "\n",
       "    .dataframe tbody tr th {\n",
       "        vertical-align: top;\n",
       "    }\n",
       "\n",
       "    .dataframe thead th {\n",
       "        text-align: right;\n",
       "    }\n",
       "</style>\n",
       "<table border=\"1\" class=\"dataframe\">\n",
       "  <thead>\n",
       "    <tr style=\"text-align: right;\">\n",
       "      <th></th>\n",
       "      <th>gtfs_dataset_key</th>\n",
       "      <th>time_of_day</th>\n",
       "      <th>route_id</th>\n",
       "      <th>direction_id</th>\n",
       "      <th>route_name</th>\n",
       "      <th>shape_array_key</th>\n",
       "      <th>avg_sched_trip_min</th>\n",
       "      <th>avg_rt_trip_min</th>\n",
       "      <th>speed_mph</th>\n",
       "      <th>avg_pings_per_min</th>\n",
       "      <th>total_vp</th>\n",
       "      <th>vp_in_shape</th>\n",
       "      <th>n_trips</th>\n",
       "    </tr>\n",
       "  </thead>\n",
       "  <tbody>\n",
       "    <tr>\n",
       "      <th>3990</th>\n",
       "      <td>78b44303c1714f6c6a4801637c2a5c9d</td>\n",
       "      <td>AM Peak</td>\n",
       "      <td>Lynx</td>\n",
       "      <td>1</td>\n",
       "      <td>Rodeo/Hercules/San Francisco Transbay Terminal</td>\n",
       "      <td>810696deb677bfeb1d0b09047031a9c8</td>\n",
       "      <td>50.00</td>\n",
       "      <td>60.70</td>\n",
       "      <td>13.40</td>\n",
       "      <td>2.80</td>\n",
       "      <td>NaN</td>\n",
       "      <td>NaN</td>\n",
       "      <td>6</td>\n",
       "    </tr>\n",
       "  </tbody>\n",
       "</table>\n",
       "</div>"
      ],
      "text/plain": [
       "                      gtfs_dataset_key time_of_day route_id  direction_id  \\\n",
       "3990  78b44303c1714f6c6a4801637c2a5c9d     AM Peak     Lynx             1   \n",
       "\n",
       "                                          route_name  \\\n",
       "3990  Rodeo/Hercules/San Francisco Transbay Terminal   \n",
       "\n",
       "                       shape_array_key  avg_sched_trip_min  avg_rt_trip_min  \\\n",
       "3990  810696deb677bfeb1d0b09047031a9c8               50.00            60.70   \n",
       "\n",
       "      speed_mph  avg_pings_per_min  total_vp  vp_in_shape  n_trips  \n",
       "3990      13.40               2.80       NaN          NaN        6  "
      ]
     },
     "metadata": {},
     "output_type": "display_data"
    },
    {
     "name": "stdout",
     "output_type": "stream",
     "text": [
      "df2\n",
      "pings per min 2.8253065827801014\n",
      "speed_mph 13.403813542450534\n",
      "total_vp nan\n",
      "vp_in_shape nan\n"
     ]
    },
    {
     "data": {
      "text/html": [
       "<div>\n",
       "<style scoped>\n",
       "    .dataframe tbody tr th:only-of-type {\n",
       "        vertical-align: middle;\n",
       "    }\n",
       "\n",
       "    .dataframe tbody tr th {\n",
       "        vertical-align: top;\n",
       "    }\n",
       "\n",
       "    .dataframe thead th {\n",
       "        text-align: right;\n",
       "    }\n",
       "</style>\n",
       "<table border=\"1\" class=\"dataframe\">\n",
       "  <thead>\n",
       "    <tr style=\"text-align: right;\">\n",
       "      <th></th>\n",
       "      <th>trip_instance_key</th>\n",
       "      <th>time_of_day</th>\n",
       "      <th>speed_mph</th>\n",
       "      <th>rt_service_min</th>\n",
       "      <th>service_minutes</th>\n",
       "      <th>pings_per_min</th>\n",
       "    </tr>\n",
       "  </thead>\n",
       "  <tbody>\n",
       "    <tr>\n",
       "      <th>12987</th>\n",
       "      <td>14c9fc6b379e1fe869ba37bfd79a8245</td>\n",
       "      <td>AM Peak</td>\n",
       "      <td>13.31</td>\n",
       "      <td>61.40</td>\n",
       "      <td>50.00</td>\n",
       "      <td>2.72</td>\n",
       "    </tr>\n",
       "    <tr>\n",
       "      <th>12990</th>\n",
       "      <td>2ee02fe17c9acad17ccb44eaaea4debe</td>\n",
       "      <td>AM Peak</td>\n",
       "      <td>12.69</td>\n",
       "      <td>63.18</td>\n",
       "      <td>50.00</td>\n",
       "      <td>2.90</td>\n",
       "    </tr>\n",
       "    <tr>\n",
       "      <th>12991</th>\n",
       "      <td>78a402dfe7d89e0b919a193ac59c69ae</td>\n",
       "      <td>AM Peak</td>\n",
       "      <td>12.61</td>\n",
       "      <td>63.18</td>\n",
       "      <td>50.00</td>\n",
       "      <td>2.82</td>\n",
       "    </tr>\n",
       "    <tr>\n",
       "      <th>12994</th>\n",
       "      <td>2bb4857e894a94d48a79620858c8384e</td>\n",
       "      <td>AM Peak</td>\n",
       "      <td>12.44</td>\n",
       "      <td>64.45</td>\n",
       "      <td>50.00</td>\n",
       "      <td>2.84</td>\n",
       "    </tr>\n",
       "    <tr>\n",
       "      <th>12997</th>\n",
       "      <td>b97a1995cd54253c58e82bb7c9ad3414</td>\n",
       "      <td>AM Peak</td>\n",
       "      <td>15.59</td>\n",
       "      <td>52.82</td>\n",
       "      <td>50.00</td>\n",
       "      <td>2.82</td>\n",
       "    </tr>\n",
       "    <tr>\n",
       "      <th>13004</th>\n",
       "      <td>baeeed7c3d6ab74ad9ff40f42a2f1da3</td>\n",
       "      <td>AM Peak</td>\n",
       "      <td>13.78</td>\n",
       "      <td>59.13</td>\n",
       "      <td>50.00</td>\n",
       "      <td>2.86</td>\n",
       "    </tr>\n",
       "  </tbody>\n",
       "</table>\n",
       "</div>"
      ],
      "text/plain": [
       "                      trip_instance_key time_of_day  speed_mph  \\\n",
       "12987  14c9fc6b379e1fe869ba37bfd79a8245     AM Peak      13.31   \n",
       "12990  2ee02fe17c9acad17ccb44eaaea4debe     AM Peak      12.69   \n",
       "12991  78a402dfe7d89e0b919a193ac59c69ae     AM Peak      12.61   \n",
       "12994  2bb4857e894a94d48a79620858c8384e     AM Peak      12.44   \n",
       "12997  b97a1995cd54253c58e82bb7c9ad3414     AM Peak      15.59   \n",
       "13004  baeeed7c3d6ab74ad9ff40f42a2f1da3     AM Peak      13.78   \n",
       "\n",
       "       rt_service_min  service_minutes  pings_per_min  \n",
       "12987           61.40            50.00           2.72  \n",
       "12990           63.18            50.00           2.90  \n",
       "12991           63.18            50.00           2.82  \n",
       "12994           64.45            50.00           2.84  \n",
       "12997           52.82            50.00           2.82  \n",
       "13004           59.13            50.00           2.86  "
      ]
     },
     "metadata": {},
     "output_type": "display_data"
    }
   ],
   "source": [
    "checkout_route(\"Lynx\", \"AM Peak\", 1)"
   ]
  },
  {
   "cell_type": "markdown",
   "id": "470e444a-41ce-47c9-8e70-9866904e936e",
   "metadata": {},
   "source": [
    "#### Test grouping"
   ]
  },
  {
   "cell_type": "code",
   "execution_count": 81,
   "id": "b8a1b06b-0e81-4641-8545-b5af34f6b47e",
   "metadata": {},
   "outputs": [
    {
     "ename": "NameError",
     "evalue": "name 'stop' is not defined",
     "output_type": "error",
     "traceback": [
      "\u001b[0;31m---------------------------------------------------------------------------\u001b[0m",
      "\u001b[0;31mNameError\u001b[0m                                 Traceback (most recent call last)",
      "Cell \u001b[0;32mIn[81], line 1\u001b[0m\n\u001b[0;32m----> 1\u001b[0m \u001b[43mstop\u001b[49m\n",
      "\u001b[0;31mNameError\u001b[0m: name 'stop' is not defined"
     ]
    }
   ],
   "source": [
    "stop"
   ]
  },
  {
   "cell_type": "code",
   "execution_count": null,
   "id": "97d81b5c-5d47-405c-a9bd-2a51ffe00b73",
   "metadata": {},
   "outputs": [],
   "source": [
    "df2.columns"
   ]
  },
  {
   "cell_type": "code",
   "execution_count": null,
   "id": "4e6e3f60-5e14-4fe4-96b4-9df6be9db761",
   "metadata": {},
   "outputs": [],
   "source": [
    "route_groupby_cols = [\n",
    "    \"schedule_gtfs_dataset_key\",\n",
    "    \"time_of_day\",\n",
    "    \"route_id\",\n",
    "    \"direction_id\",\n",
    "    \"route_name_used\",\n",
    "    \"shape_array_key\",\n",
    "]"
   ]
  },
  {
   "cell_type": "code",
   "execution_count": null,
   "id": "e931b56b-1048-49f8-b0c8-4d9ea4fd34db",
   "metadata": {},
   "outputs": [],
   "source": [
    "route_groupby_cols"
   ]
  },
  {
   "cell_type": "code",
   "execution_count": null,
   "id": "3b18d789-a84f-42c6-addc-2f97b9e6fafc",
   "metadata": {},
   "outputs": [],
   "source": [
    "test1 = (\n",
    "    df2.groupby(route_groupby_cols, observed=False, group_keys=True)\n",
    "    .agg(\n",
    "        {\n",
    "            \"service_minutes\": \"mean\",\n",
    "            \"rt_service_min\": \"mean\",\n",
    "            \"speed_mph\": \"mean\",\n",
    "            \"pings_per_min\": \"mean\",\n",
    "            \"total_vp\": \"mean\",\n",
    "            \"vp_in_shape\": \"mean\",\n",
    "            \"trip_instance_key\": \"count\",\n",
    "        }\n",
    "    )\n",
    "    .reset_index()\n",
    ")"
   ]
  },
  {
   "cell_type": "code",
   "execution_count": null,
   "id": "429f3c5b-e1f6-40a0-86a3-586ad00685fb",
   "metadata": {},
   "outputs": [],
   "source": [
    "def checkout_test_groups(\n",
    "    df: pd.DataFrame, route_id: str, time_of_day: str, direction_id: int\n",
    "):\n",
    "    test_cols = [\n",
    "        \"trip_instance_key\",\n",
    "        \"service_minutes\",\n",
    "        \"rt_service_min\",\n",
    "        \"pings_per_min\",\n",
    "        \"speed_mph\",\n",
    "        \"total_vp\",\n",
    "        \"vp_in_shape\",\n",
    "    ]\n",
    "    display(\n",
    "        df.loc[\n",
    "            (df.route_id == route_id)\n",
    "            & (df.time_of_day == time_of_day)\n",
    "            & (df.direction_id == direction_id)\n",
    "        ][test_cols]\n",
    "    )\n",
    "    df2_cols = [\n",
    "        \"trip_instance_key\",\n",
    "        \"time_of_day\",\n",
    "        \"speed_mph\",\n",
    "        \"rt_service_min\",\n",
    "        \"service_minutes\",\n",
    "        \"pings_per_min\",\n",
    "        \"total_vp\",\n",
    "        \"vp_in_shape\",\n",
    "    ]\n",
    "    df2_filtered = df2.loc[\n",
    "        (df2.route_id == route_id)\n",
    "        & (df2.time_of_day == time_of_day)\n",
    "        & (df2.direction_id == direction_id)\n",
    "    ]\n",
    "    display(df2_filtered.pings_per_min.mean())\n",
    "    display(df2_filtered.speed_mph.mean())\n",
    "    display(df2_filtered.total_vp.mean())\n",
    "    display(df2_filtered.vp_in_shape.mean())\n",
    "    display(df2_filtered[df2_cols])"
   ]
  },
  {
   "cell_type": "code",
   "execution_count": null,
   "id": "ab2cc904-d02c-414b-ba2b-efcb351afa8f",
   "metadata": {},
   "outputs": [],
   "source": [
    "checkout_test_groups(test1, \"265-13172\", \"Early AM\", 0)"
   ]
  },
  {
   "cell_type": "code",
   "execution_count": null,
   "id": "7ad06e7a-f7fa-4604-b28e-c08802ce4883",
   "metadata": {},
   "outputs": [],
   "source": [
    "checkout_test_groups(test1, \"5671\", \"Early AM\", 1)"
   ]
  },
  {
   "cell_type": "code",
   "execution_count": null,
   "id": "79e3584a-ac1f-4ecc-9b69-8f4551b8b632",
   "metadata": {},
   "outputs": [],
   "source": [
    "checkout_test_groups(test1, \"Lynx\", \"AM Peak\", 1)"
   ]
  },
  {
   "cell_type": "code",
   "execution_count": null,
   "id": "f6043d40-9178-4547-97f2-6140585ea418",
   "metadata": {},
   "outputs": [],
   "source": [
    "checkout_test_groups(test1, \"38R\", \"AM Peak\", 1)"
   ]
  },
  {
   "cell_type": "code",
   "execution_count": null,
   "id": "bff53f95-8520-44f0-bc9c-96d5bc5a8323",
   "metadata": {},
   "outputs": [],
   "source": [
    "checkout_test_groups(test1, \"16611\", \"AM Peak\", 0)"
   ]
  }
 ],
 "metadata": {
  "kernelspec": {
   "display_name": "Python 3 (ipykernel)",
   "language": "python",
   "name": "python3"
  },
  "language_info": {
   "codemirror_mode": {
    "name": "ipython",
    "version": 3
   },
   "file_extension": ".py",
   "mimetype": "text/x-python",
   "name": "python",
   "nbconvert_exporter": "python",
   "pygments_lexer": "ipython3",
   "version": "3.9.13"
  }
 },
 "nbformat": 4,
 "nbformat_minor": 5
}
