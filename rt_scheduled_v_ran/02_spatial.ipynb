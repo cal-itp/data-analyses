{
 "cells": [
  {
   "cell_type": "markdown",
   "id": "c410afe6-22d7-4546-817c-fea818954108",
   "metadata": {},
   "source": [
    "# Migrate to VP Usable\n",
    "* https://github.com/cal-itp/data-analyses/issues/936\n",
    "* cd rt_segment_speeds && pip install -r requirements.txt && cd ..\n",
    "    * https://github.com/cal-itp/data-analyses/blob/main/Makefile#L49C2-L49C66\n",
    "    "
   ]
  },
  {
   "cell_type": "code",
   "execution_count": 1,
   "id": "8de007c5-4cdb-4285-9536-0a5f7b75b2de",
   "metadata": {},
   "outputs": [],
   "source": [
    "import datetime\n",
    "import dask.dataframe as dd\n",
    "import dask_geopandas as dg\n",
    "import dask\n",
    "import geopandas as gpd\n",
    "import pandas as pd\n",
    "from scripts import vp_spatial_accuracy\n",
    "from segment_speed_utils import helpers\n",
    "from calitp_data_analysis.geography_utils import WGS84\n",
    "from segment_speed_utils.project_vars import (\n",
    "    PROJECT_CRS,\n",
    "    SEGMENT_GCS,\n",
    "    analysis_date,\n",
    "    GCS_FILE_PATH,\n",
    "    COMPILED_CACHED_VIEWS,\n",
    "    RT_SCHED_GCS,\n",
    "    CONFIG_PATH\n",
    ")\n",
    "\n",
    "# For speeds c2\n",
    "from typing import Literal\n",
    "import numpy as np\n",
    "\n",
    "# for speeds c3\n",
    "# also import numpy \n",
    "from shared_utils.rt_utils import MPH_PER_MPS\n",
    "from calitp_data_analysis import utils\n",
    "from shared_utils import portfolio_utils, schedule_rt_utils\n",
    "from segment_speed_utils import helpers, sched_rt_utils, wrangle_shapes, segment_calcs"
   ]
  },
  {
   "cell_type": "code",
   "execution_count": 2,
   "id": "c5ba79eb-2d4e-4daa-9de6-3ab657ac0a15",
   "metadata": {},
   "outputs": [],
   "source": [
    "pd.options.display.max_columns = 100\n",
    "pd.options.display.float_format = \"{:.2f}\".format\n",
    "pd.set_option(\"display.max_rows\", None)\n",
    "pd.set_option(\"display.max_colwidth\", None)"
   ]
  },
  {
   "cell_type": "code",
   "execution_count": 3,
   "id": "d8c8f895-8b72-413a-8ec2-72e7e0ebf29f",
   "metadata": {},
   "outputs": [],
   "source": [
    "# calitp-analytics-data/data-analyses/rt_segment_speeds/vp_usable_2023-10-11\n",
    "operator = 'Bay Area 511 Muni VehiclePositions'\n",
    "gtfs_key = '7cc0cb1871dfd558f11a2885c145d144'"
   ]
  },
  {
   "cell_type": "markdown",
   "id": "a3863c86-7f53-4755-8444-534a2f11e59c",
   "metadata": {},
   "source": [
    "## Spatial Accuracy\n",
    "* Based on https://github.com/cal-itp/data-analyses/blob/main/rt_scheduled_v_ran/scripts/vp_spatial_accuracy.py\n",
    "### Grab_shape_keys_in_vp"
   ]
  },
  {
   "cell_type": "code",
   "execution_count": 4,
   "id": "6bd6833a-7eb4-487a-bb3a-e445a2d1941d",
   "metadata": {},
   "outputs": [],
   "source": [
    "def grab_shape_keys_in_vp(analysis_date: str) -> pd.DataFrame:\n",
    "    \"\"\"\n",
    "    Subset raw vp and find unique trip_instance_keys.\n",
    "    Create crosswalk to link trip_instance_key to shape_array_key.\n",
    "    \"\"\"\n",
    "    vp_trip_df  = pd.read_parquet(f\"{SEGMENT_GCS}vp_usable_{analysis_date}\",\n",
    "        filters = [[('gtfs_dataset_name', \"==\", operator),\n",
    "                   ('schedule_gtfs_dataset_key', '==', gtfs_key)]],\n",
    "        columns = ['trip_instance_key'])\n",
    "    \n",
    "    vp_trip_df  = vp_trip_df.drop_duplicates(subset=\"trip_instance_key\").reset_index(drop = True)\n",
    "    \n",
    "    # Make sure we have a shape geometry too\n",
    "    # otherwise map_partitions will throw error\n",
    "    shapes = pd.read_parquet(\n",
    "        f\"{COMPILED_CACHED_VIEWS}routelines_{analysis_date}.parquet\",\n",
    "        columns = [\"shape_array_key\"],\n",
    "    ).dropna().drop_duplicates()\n",
    "    \n",
    "    trips_with_shape = helpers.import_scheduled_trips(\n",
    "        analysis_date,\n",
    "        columns = [\"trip_instance_key\", \"shape_array_key\"],\n",
    "        get_pandas = True\n",
    "    ).merge(\n",
    "        shapes,\n",
    "        on = \"shape_array_key\",\n",
    "        how = \"inner\"\n",
    "    ).merge(\n",
    "        vp_trip_df,\n",
    "        on = \"trip_instance_key\",\n",
    "        how = \"inner\"\n",
    "    ).drop_duplicates().dropna().reset_index(drop=True)\n",
    "\n",
    "    return trips_with_shape"
   ]
  },
  {
   "cell_type": "code",
   "execution_count": 5,
   "id": "8759e976-ea60-4604-945d-1ec9693b0495",
   "metadata": {},
   "outputs": [],
   "source": [
    "trips_with_shape = grab_shape_keys_in_vp(analysis_date)"
   ]
  },
  {
   "cell_type": "code",
   "execution_count": 6,
   "id": "bbbc85b4-a588-4f20-9822-eb4d5b4b3723",
   "metadata": {},
   "outputs": [
    {
     "data": {
      "text/plain": [
       "(9240, 2)"
      ]
     },
     "execution_count": 6,
     "metadata": {},
     "output_type": "execute_result"
    }
   ],
   "source": [
    "trips_with_shape.shape"
   ]
  },
  {
   "cell_type": "code",
   "execution_count": 7,
   "id": "34f69e0d-68c8-4b8e-8b82-8318672d0f4d",
   "metadata": {},
   "outputs": [
    {
     "data": {
      "text/html": [
       "<div>\n",
       "<style scoped>\n",
       "    .dataframe tbody tr th:only-of-type {\n",
       "        vertical-align: middle;\n",
       "    }\n",
       "\n",
       "    .dataframe tbody tr th {\n",
       "        vertical-align: top;\n",
       "    }\n",
       "\n",
       "    .dataframe thead th {\n",
       "        text-align: right;\n",
       "    }\n",
       "</style>\n",
       "<table border=\"1\" class=\"dataframe\">\n",
       "  <thead>\n",
       "    <tr style=\"text-align: right;\">\n",
       "      <th></th>\n",
       "      <th>trip_instance_key</th>\n",
       "      <th>shape_array_key</th>\n",
       "    </tr>\n",
       "  </thead>\n",
       "  <tbody>\n",
       "    <tr>\n",
       "      <th>0</th>\n",
       "      <td>12de3d260e9fe09fa878cb4cdb2d6898</td>\n",
       "      <td>749b225ca6691f77914e88577dc13e68</td>\n",
       "    </tr>\n",
       "    <tr>\n",
       "      <th>1</th>\n",
       "      <td>934aea5748bce830ffc2fa88dc01402a</td>\n",
       "      <td>749b225ca6691f77914e88577dc13e68</td>\n",
       "    </tr>\n",
       "    <tr>\n",
       "      <th>2</th>\n",
       "      <td>3d06fa8e68e4f38d3ccc7adfabb5c3d9</td>\n",
       "      <td>f1a7410fae06937b7183f6a553707915</td>\n",
       "    </tr>\n",
       "    <tr>\n",
       "      <th>3</th>\n",
       "      <td>34109ad8cfeca83cd459d42c7d51d602</td>\n",
       "      <td>f1a7410fae06937b7183f6a553707915</td>\n",
       "    </tr>\n",
       "    <tr>\n",
       "      <th>4</th>\n",
       "      <td>34acd907ae9d5eb5456d683d2458bbc6</td>\n",
       "      <td>f1a7410fae06937b7183f6a553707915</td>\n",
       "    </tr>\n",
       "  </tbody>\n",
       "</table>\n",
       "</div>"
      ],
      "text/plain": [
       "                  trip_instance_key                   shape_array_key\n",
       "0  12de3d260e9fe09fa878cb4cdb2d6898  749b225ca6691f77914e88577dc13e68\n",
       "1  934aea5748bce830ffc2fa88dc01402a  749b225ca6691f77914e88577dc13e68\n",
       "2  3d06fa8e68e4f38d3ccc7adfabb5c3d9  f1a7410fae06937b7183f6a553707915\n",
       "3  34109ad8cfeca83cd459d42c7d51d602  f1a7410fae06937b7183f6a553707915\n",
       "4  34acd907ae9d5eb5456d683d2458bbc6  f1a7410fae06937b7183f6a553707915"
      ]
     },
     "execution_count": 7,
     "metadata": {},
     "output_type": "execute_result"
    }
   ],
   "source": [
    "trips_with_shape.head()"
   ]
  },
  {
   "cell_type": "markdown",
   "id": "8be73ca3-7ca2-4616-9504-7defe86f3792",
   "metadata": {},
   "source": [
    "### Buffer shapes"
   ]
  },
  {
   "cell_type": "code",
   "execution_count": 8,
   "id": "ca9923a7-914f-43ce-a840-a15d41b43aee",
   "metadata": {},
   "outputs": [],
   "source": [
    "# This is trips_with_shape_geom\n",
    "trips_with_shape_geom =  vp_spatial_accuracy.buffer_shapes(analysis_date, \n",
    "                                trips_with_shape,\n",
    "                                35)"
   ]
  },
  {
   "cell_type": "code",
   "execution_count": 9,
   "id": "caf4dd49-4839-475d-99ff-7765ef5fb20a",
   "metadata": {},
   "outputs": [
    {
     "data": {
      "text/plain": [
       "(9240, 3)"
      ]
     },
     "execution_count": 9,
     "metadata": {},
     "output_type": "execute_result"
    }
   ],
   "source": [
    "trips_with_shape_geom.shape"
   ]
  },
  {
   "cell_type": "code",
   "execution_count": 10,
   "id": "beaddbc2-fd11-4021-bdf0-7eea81835226",
   "metadata": {},
   "outputs": [],
   "source": [
    "vp = dd.read_parquet(f\"{SEGMENT_GCS}vp_usable_{analysis_date}\",\n",
    "        filters = [[('gtfs_dataset_name', \"==\", operator),\n",
    "                   ('schedule_gtfs_dataset_key', '==', gtfs_key)]])"
   ]
  },
  {
   "cell_type": "code",
   "execution_count": 11,
   "id": "79fe772c-74db-49e7-b41d-e1daa3f23ee3",
   "metadata": {},
   "outputs": [],
   "source": [
    "def merge_vp_with_shape_and_count(\n",
    "    vp: dd.DataFrame,\n",
    "    trips_with_shape_geom: gpd.GeoDataFrame\n",
    ") -> gpd.GeoDataFrame:\n",
    "    \"\"\"\n",
    "    Merge vp with crosswalk and buffered shapes.\n",
    "    Get vp count totals and vp within shape.\n",
    "    \"\"\"\n",
    "    vp_gdf = gpd.GeoDataFrame(\n",
    "        vp,\n",
    "        geometry = gpd.points_from_xy(vp.x, vp.y),\n",
    "        crs = WGS84\n",
    "    ).to_crs(PROJECT_CRS)\n",
    "    \n",
    "    vp_gdf = vp_gdf.rename(columns = {\n",
    "    0:'gtfs_dataset_name',\n",
    "    1: 'schedule_gtfs_dataset_key', \n",
    "    2:'trip_id',\n",
    "    3:'trip_instance_key',\n",
    "    4: 'location_timestamp', \n",
    "    5: 'location_timestamp_local',\n",
    "    6:'x',\n",
    "    7:'y', \n",
    "    8:'vp_idx', \n",
    "    9:'gtfs_dataset_key', \n",
    "    10:'vp_dir_xnorm', \n",
    "    11:'vp_dir_ynorm',\n",
    "    12:'vp_primary_direction'})\n",
    "    \n",
    "    vp2 = pd.merge(\n",
    "        vp_gdf,\n",
    "        trips_with_shape_geom,\n",
    "        on = \"trip_instance_key\",\n",
    "        how = \"inner\"\n",
    "    ).reset_index(drop=True)\n",
    "    \n",
    "    total_vp = vp_spatial_accuracy.total_vp_counts_by_trip(vp2)\n",
    "    \n",
    "    vp2 = vp2.assign(\n",
    "        is_within = vp2.geometry_x.within(vp2.geometry_y)\n",
    "    ).query('is_within==True')\n",
    "    \n",
    "    vps_in_shape = (vp2.groupby(\"trip_instance_key\", \n",
    "                                observed = True, group_keys = False)\n",
    "                    .agg({\"location_timestamp_local\": \"count\"})\n",
    "                    .reset_index()\n",
    "                    .rename(columns = {\"location_timestamp_local\": \"vp_in_shape\"})\n",
    "                   )\n",
    "        \n",
    "    count_df = pd.merge(\n",
    "        total_vp,\n",
    "        vps_in_shape,\n",
    "        on = \"trip_instance_key\",\n",
    "        how = \"left\"\n",
    "    )\n",
    "    \n",
    "    count_df = count_df.assign(\n",
    "        vp_in_shape = count_df.vp_in_shape.fillna(0).astype(\"int32\"),\n",
    "        total_vp = count_df.total_vp.fillna(0).astype(\"int32\")\n",
    "    )\n",
    "    \n",
    "    return count_df"
   ]
  },
  {
   "cell_type": "code",
   "execution_count": 12,
   "id": "561287f4-8189-441c-881c-1f34fc43e7d5",
   "metadata": {},
   "outputs": [],
   "source": [
    "muni = merge_vp_with_shape_and_count(vp, trips_with_shape_geom)"
   ]
  },
  {
   "cell_type": "code",
   "execution_count": 13,
   "id": "bcaa5da2-21a5-4c87-825a-fa2637ef9b8f",
   "metadata": {},
   "outputs": [
    {
     "data": {
      "text/plain": [
       "count   9240.00\n",
       "mean     161.87\n",
       "std       64.06\n",
       "min        0.00\n",
       "25%      118.00\n",
       "50%      167.00\n",
       "75%      207.00\n",
       "max      481.00\n",
       "Name: vp_in_shape, dtype: float64"
      ]
     },
     "execution_count": 13,
     "metadata": {},
     "output_type": "execute_result"
    }
   ],
   "source": [
    "muni.vp_in_shape.describe()"
   ]
  },
  {
   "cell_type": "code",
   "execution_count": 14,
   "id": "eaa02c27-eda6-47ac-ae18-827f1616d73e",
   "metadata": {},
   "outputs": [
    {
     "data": {
      "text/html": [
       "<div>\n",
       "<style scoped>\n",
       "    .dataframe tbody tr th:only-of-type {\n",
       "        vertical-align: middle;\n",
       "    }\n",
       "\n",
       "    .dataframe tbody tr th {\n",
       "        vertical-align: top;\n",
       "    }\n",
       "\n",
       "    .dataframe thead th {\n",
       "        text-align: right;\n",
       "    }\n",
       "</style>\n",
       "<table border=\"1\" class=\"dataframe\">\n",
       "  <thead>\n",
       "    <tr style=\"text-align: right;\">\n",
       "      <th></th>\n",
       "      <th>trip_instance_key</th>\n",
       "      <th>total_vp</th>\n",
       "      <th>vp_in_shape</th>\n",
       "    </tr>\n",
       "  </thead>\n",
       "  <tbody>\n",
       "    <tr>\n",
       "      <th>167</th>\n",
       "      <td>04ae6ea9655473bdcaf9b80d443558ae</td>\n",
       "      <td>111</td>\n",
       "      <td>0</td>\n",
       "    </tr>\n",
       "    <tr>\n",
       "      <th>351</th>\n",
       "      <td>0a1553b7a738967a422b7b8960560ded</td>\n",
       "      <td>75</td>\n",
       "      <td>0</td>\n",
       "    </tr>\n",
       "    <tr>\n",
       "      <th>408</th>\n",
       "      <td>0bc53a1063efae8a32eca4a9034d2a21</td>\n",
       "      <td>61</td>\n",
       "      <td>0</td>\n",
       "    </tr>\n",
       "    <tr>\n",
       "      <th>1128</th>\n",
       "      <td>1fe28ce8669a7f946f272faf80d80ce7</td>\n",
       "      <td>70</td>\n",
       "      <td>0</td>\n",
       "    </tr>\n",
       "    <tr>\n",
       "      <th>1981</th>\n",
       "      <td>37aed2e5ad125f8aede20922b38bf6b9</td>\n",
       "      <td>78</td>\n",
       "      <td>0</td>\n",
       "    </tr>\n",
       "    <tr>\n",
       "      <th>3022</th>\n",
       "      <td>54e54e2839a6945b1005322398a89ae9</td>\n",
       "      <td>132</td>\n",
       "      <td>0</td>\n",
       "    </tr>\n",
       "    <tr>\n",
       "      <th>3127</th>\n",
       "      <td>580684a7a6b43ce5130f60a441681713</td>\n",
       "      <td>46</td>\n",
       "      <td>0</td>\n",
       "    </tr>\n",
       "    <tr>\n",
       "      <th>3213</th>\n",
       "      <td>5a82f8c02f2036db77b1979f4ae228f5</td>\n",
       "      <td>41</td>\n",
       "      <td>0</td>\n",
       "    </tr>\n",
       "    <tr>\n",
       "      <th>3861</th>\n",
       "      <td>6cbdc2d321ca63df78bce01eeb06fe07</td>\n",
       "      <td>47</td>\n",
       "      <td>0</td>\n",
       "    </tr>\n",
       "    <tr>\n",
       "      <th>3937</th>\n",
       "      <td>6ee4a9165f47b59cb3e10b0125dd72e8</td>\n",
       "      <td>34</td>\n",
       "      <td>0</td>\n",
       "    </tr>\n",
       "    <tr>\n",
       "      <th>4562</th>\n",
       "      <td>7ff345e91303290951ef0665a57dc90e</td>\n",
       "      <td>55</td>\n",
       "      <td>0</td>\n",
       "    </tr>\n",
       "    <tr>\n",
       "      <th>5288</th>\n",
       "      <td>9351c60516ef43464d962a956d1b3806</td>\n",
       "      <td>96</td>\n",
       "      <td>0</td>\n",
       "    </tr>\n",
       "    <tr>\n",
       "      <th>5894</th>\n",
       "      <td>a40cc2271f048e2b72d94b051c6688cb</td>\n",
       "      <td>120</td>\n",
       "      <td>0</td>\n",
       "    </tr>\n",
       "    <tr>\n",
       "      <th>6119</th>\n",
       "      <td>aa82ee2a81331cbdf044a7d5280d436a</td>\n",
       "      <td>41</td>\n",
       "      <td>0</td>\n",
       "    </tr>\n",
       "    <tr>\n",
       "      <th>6758</th>\n",
       "      <td>bcb78da06a56761d2a3b8b16a3436f3d</td>\n",
       "      <td>101</td>\n",
       "      <td>0</td>\n",
       "    </tr>\n",
       "    <tr>\n",
       "      <th>7043</th>\n",
       "      <td>c3fc63ec2ff7a35c0f821659075be708</td>\n",
       "      <td>60</td>\n",
       "      <td>0</td>\n",
       "    </tr>\n",
       "    <tr>\n",
       "      <th>7543</th>\n",
       "      <td>d21ff3a0d37a484dc4f979d052652565</td>\n",
       "      <td>45</td>\n",
       "      <td>0</td>\n",
       "    </tr>\n",
       "    <tr>\n",
       "      <th>7734</th>\n",
       "      <td>d79da0eafb4ac5188f1cd14850a6f880</td>\n",
       "      <td>90</td>\n",
       "      <td>0</td>\n",
       "    </tr>\n",
       "    <tr>\n",
       "      <th>8431</th>\n",
       "      <td>ea8751445dcd6a175bd23ec5fc423d0c</td>\n",
       "      <td>44</td>\n",
       "      <td>0</td>\n",
       "    </tr>\n",
       "    <tr>\n",
       "      <th>8718</th>\n",
       "      <td>f298ef83aaa934eb6577fd2ca19d4ebd</td>\n",
       "      <td>82</td>\n",
       "      <td>0</td>\n",
       "    </tr>\n",
       "  </tbody>\n",
       "</table>\n",
       "</div>"
      ],
      "text/plain": [
       "                     trip_instance_key  total_vp  vp_in_shape\n",
       "167   04ae6ea9655473bdcaf9b80d443558ae       111            0\n",
       "351   0a1553b7a738967a422b7b8960560ded        75            0\n",
       "408   0bc53a1063efae8a32eca4a9034d2a21        61            0\n",
       "1128  1fe28ce8669a7f946f272faf80d80ce7        70            0\n",
       "1981  37aed2e5ad125f8aede20922b38bf6b9        78            0\n",
       "3022  54e54e2839a6945b1005322398a89ae9       132            0\n",
       "3127  580684a7a6b43ce5130f60a441681713        46            0\n",
       "3213  5a82f8c02f2036db77b1979f4ae228f5        41            0\n",
       "3861  6cbdc2d321ca63df78bce01eeb06fe07        47            0\n",
       "3937  6ee4a9165f47b59cb3e10b0125dd72e8        34            0\n",
       "4562  7ff345e91303290951ef0665a57dc90e        55            0\n",
       "5288  9351c60516ef43464d962a956d1b3806        96            0\n",
       "5894  a40cc2271f048e2b72d94b051c6688cb       120            0\n",
       "6119  aa82ee2a81331cbdf044a7d5280d436a        41            0\n",
       "6758  bcb78da06a56761d2a3b8b16a3436f3d       101            0\n",
       "7043  c3fc63ec2ff7a35c0f821659075be708        60            0\n",
       "7543  d21ff3a0d37a484dc4f979d052652565        45            0\n",
       "7734  d79da0eafb4ac5188f1cd14850a6f880        90            0\n",
       "8431  ea8751445dcd6a175bd23ec5fc423d0c        44            0\n",
       "8718  f298ef83aaa934eb6577fd2ca19d4ebd        82            0"
      ]
     },
     "execution_count": 14,
     "metadata": {},
     "output_type": "execute_result"
    }
   ],
   "source": [
    "muni.loc[muni.vp_in_shape == 0]"
   ]
  },
  {
   "cell_type": "code",
   "execution_count": 15,
   "id": "ad776dcd-700e-499e-b1c2-57c44d255153",
   "metadata": {},
   "outputs": [
    {
     "data": {
      "text/plain": [
       "trip_instance_key    9240\n",
       "dtype: int64"
      ]
     },
     "execution_count": 15,
     "metadata": {},
     "output_type": "execute_result"
    }
   ],
   "source": [
    "vp[['trip_instance_key']].compute().nunique()"
   ]
  },
  {
   "cell_type": "markdown",
   "id": "19a20f72-8a90-4823-8cc5-32f91ae1286d",
   "metadata": {
    "tags": []
   },
   "source": [
    "## Update Completeness\n",
    "* https://github.com/cal-itp/data-analyses/blob/main/rt_predictions/01_update_completeness.ipynb"
   ]
  },
  {
   "cell_type": "code",
   "execution_count": 16,
   "id": "21f152c6-27cb-44fd-9dce-d6698a42f568",
   "metadata": {},
   "outputs": [],
   "source": [
    "from segment_speed_utils.project_vars import PREDICTIONS_GCS"
   ]
  },
  {
   "cell_type": "code",
   "execution_count": 17,
   "id": "38b45588-6646-4080-bc7c-04f4e10f564b",
   "metadata": {},
   "outputs": [
    {
     "data": {
      "text/plain": [
       "'gs://calitp-analytics-data/data-analyses/rt_predictions/'"
      ]
     },
     "execution_count": 17,
     "metadata": {},
     "output_type": "execute_result"
    }
   ],
   "source": [
    "PREDICTIONS_GCS"
   ]
  },
  {
   "cell_type": "markdown",
   "id": "42e2b61b-92d4-40d8-8582-537a063e3833",
   "metadata": {},
   "source": [
    "### Translate to `vp_usable`"
   ]
  },
  {
   "cell_type": "code",
   "execution_count": 18,
   "id": "b2e0fa2d-089d-49a5-ab20-a8ef65925795",
   "metadata": {},
   "outputs": [],
   "source": [
    "# Only use the trips with shapes.\n",
    "relevant_trips = list(muni.trip_instance_key.unique())"
   ]
  },
  {
   "cell_type": "code",
   "execution_count": 19,
   "id": "88b571f2-624c-47aa-a154-286902fa4a96",
   "metadata": {},
   "outputs": [],
   "source": [
    "#vp_filtered = dd.read_parquet(f\"{SEGMENT_GCS}vp_usable_{analysis_date}\",\n",
    "#        filters = [[('gtfs_dataset_name', \"==\", operator),\n",
    "#                   ('schedule_gtfs_dataset_key', '==', gtfs_key),\n",
    "#                    ('trip_instance_key', 'in', relevant_trips)]])"
   ]
  },
  {
   "cell_type": "code",
   "execution_count": 20,
   "id": "02651fdf-c028-4817-97cf-8784895103af",
   "metadata": {},
   "outputs": [],
   "source": [
    "operators2 = ['Anaheim Resort VehiclePositions', 'Bay Area 511 Dumbarton Express VehiclePositions',\n",
    "             'Bay Area 511 Fairfield and Suisun Transit Vehicle Positions',\n",
    "             'Bear Vehicle Positions', 'Santa Cruz Vehicle Positions']"
   ]
  },
  {
   "cell_type": "code",
   "execution_count": 21,
   "id": "6a4cee91-dc7c-44ba-bb37-a5ff18f27e58",
   "metadata": {},
   "outputs": [],
   "source": [
    "operators = ['Anaheim Resort VehiclePositions', \n",
    "             'Bear Vehicle Positions', 'Santa Cruz Vehicle Positions']"
   ]
  },
  {
   "cell_type": "code",
   "execution_count": 22,
   "id": "42c31cc5-028c-44ab-b086-621e2c31321e",
   "metadata": {},
   "outputs": [],
   "source": [
    "# Trying with file back in March to compare\n",
    "vp_filtered = dd.read_parquet(f\"{SEGMENT_GCS}vp_usable_{analysis_date}\",\n",
    "        filters = [[('gtfs_dataset_name', \"in\", operators)]])"
   ]
  },
  {
   "cell_type": "code",
   "execution_count": 23,
   "id": "2999515a-a6b1-4921-a743-c44d56c5dabc",
   "metadata": {},
   "outputs": [
    {
     "data": {
      "text/html": [
       "<div>\n",
       "<style scoped>\n",
       "    .dataframe tbody tr th:only-of-type {\n",
       "        vertical-align: middle;\n",
       "    }\n",
       "\n",
       "    .dataframe tbody tr th {\n",
       "        vertical-align: top;\n",
       "    }\n",
       "\n",
       "    .dataframe thead th {\n",
       "        text-align: right;\n",
       "    }\n",
       "</style>\n",
       "<table border=\"1\" class=\"dataframe\">\n",
       "  <thead>\n",
       "    <tr style=\"text-align: right;\">\n",
       "      <th></th>\n",
       "      <th>location_timestamp</th>\n",
       "      <th>location_timestamp_local</th>\n",
       "    </tr>\n",
       "  </thead>\n",
       "  <tbody>\n",
       "    <tr>\n",
       "      <th>374035</th>\n",
       "      <td>2023-10-12 01:56:10+00:00</td>\n",
       "      <td>2023-10-11 18:56:10</td>\n",
       "    </tr>\n",
       "    <tr>\n",
       "      <th>374036</th>\n",
       "      <td>2023-10-12 01:57:50+00:00</td>\n",
       "      <td>2023-10-11 18:57:50</td>\n",
       "    </tr>\n",
       "    <tr>\n",
       "      <th>374037</th>\n",
       "      <td>2023-10-12 01:58:49+00:00</td>\n",
       "      <td>2023-10-11 18:58:49</td>\n",
       "    </tr>\n",
       "    <tr>\n",
       "      <th>374038</th>\n",
       "      <td>2023-10-12 01:59:49+00:00</td>\n",
       "      <td>2023-10-11 18:59:49</td>\n",
       "    </tr>\n",
       "    <tr>\n",
       "      <th>374039</th>\n",
       "      <td>2023-10-12 02:00:22+00:00</td>\n",
       "      <td>2023-10-11 19:00:22</td>\n",
       "    </tr>\n",
       "  </tbody>\n",
       "</table>\n",
       "</div>"
      ],
      "text/plain": [
       "              location_timestamp location_timestamp_local\n",
       "374035 2023-10-12 01:56:10+00:00      2023-10-11 18:56:10\n",
       "374036 2023-10-12 01:57:50+00:00      2023-10-11 18:57:50\n",
       "374037 2023-10-12 01:58:49+00:00      2023-10-11 18:58:49\n",
       "374038 2023-10-12 01:59:49+00:00      2023-10-11 18:59:49\n",
       "374039 2023-10-12 02:00:22+00:00      2023-10-11 19:00:22"
      ]
     },
     "execution_count": 23,
     "metadata": {},
     "output_type": "execute_result"
    }
   ],
   "source": [
    "vp_filtered[['location_timestamp','location_timestamp_local']].head()"
   ]
  },
  {
   "cell_type": "code",
   "execution_count": 24,
   "id": "922bbf9f-babe-41e2-b859-945fc6240660",
   "metadata": {},
   "outputs": [],
   "source": [
    "metric_timestamp_col = \"location_timestamp_local_sec\""
   ]
  },
  {
   "cell_type": "code",
   "execution_count": 25,
   "id": "204f6299-6bf6-4e70-8685-5f116880711d",
   "metadata": {},
   "outputs": [],
   "source": [
    "timestamp_col = \"location_timestamp_local\""
   ]
  },
  {
   "cell_type": "code",
   "execution_count": 26,
   "id": "4be500e4-7074-470d-b4a2-edcb7150b143",
   "metadata": {},
   "outputs": [],
   "source": [
    "vp_filtered = segment_calcs.convert_timestamp_to_seconds(vp_filtered, ['location_timestamp_local'])"
   ]
  },
  {
   "cell_type": "code",
   "execution_count": 27,
   "id": "7bce7517-efec-4a83-813c-a3bf83888d5c",
   "metadata": {},
   "outputs": [],
   "source": [
    "# vp_filtered.columns"
   ]
  },
  {
   "cell_type": "markdown",
   "id": "eaa2df75-06de-496b-a55e-9667e9001da2",
   "metadata": {},
   "source": [
    "* For now turn this into a normal dataframe because dask doesn't sort by multiple columns"
   ]
  },
  {
   "cell_type": "code",
   "execution_count": 28,
   "id": "45654961-f5db-4595-88e7-a72e45d4c473",
   "metadata": {},
   "outputs": [],
   "source": [
    "vp_filtered_df = vp_filtered.compute()"
   ]
  },
  {
   "cell_type": "code",
   "execution_count": 29,
   "id": "ff6a75da-9da4-4088-8787-3af91c74b0b3",
   "metadata": {},
   "outputs": [
    {
     "data": {
      "text/plain": [
       "Index(['gtfs_dataset_name', 'schedule_gtfs_dataset_key', 'trip_id',\n",
       "       'trip_instance_key', 'location_timestamp', 'location_timestamp_local',\n",
       "       'x', 'y', 'vp_idx', 'gtfs_dataset_key', 'vp_dir_xnorm', 'vp_dir_ynorm',\n",
       "       'vp_primary_direction', 'location_timestamp_local_sec'],\n",
       "      dtype='object')"
      ]
     },
     "execution_count": 29,
     "metadata": {},
     "output_type": "execute_result"
    }
   ],
   "source": [
    "vp_filtered_df.columns"
   ]
  },
  {
   "cell_type": "code",
   "execution_count": 30,
   "id": "b3bb4a2a-e75d-48aa-a73c-204ce88c97a9",
   "metadata": {},
   "outputs": [
    {
     "data": {
      "text/plain": [
       "array(['a8d5f90bfd689badb7e1deb041408e96',\n",
       "       '43d8d305ee692724a532f30ea63a1cbe',\n",
       "       'b7a6cd6a1a06406c35fa9abd16ad9754'], dtype=object)"
      ]
     },
     "execution_count": 30,
     "metadata": {},
     "output_type": "execute_result"
    }
   ],
   "source": [
    "vp_filtered_df.schedule_gtfs_dataset_key.unique()"
   ]
  },
  {
   "cell_type": "code",
   "execution_count": 31,
   "id": "0f5dc3a0-71ea-4626-8d66-15f162d60afd",
   "metadata": {},
   "outputs": [
    {
     "data": {
      "text/plain": [
       "3"
      ]
     },
     "execution_count": 31,
     "metadata": {},
     "output_type": "execute_result"
    }
   ],
   "source": [
    "vp_filtered_df.gtfs_dataset_key.nunique()"
   ]
  },
  {
   "cell_type": "markdown",
   "id": "b7198855-050b-40bc-8fe9-6951579c34ae",
   "metadata": {},
   "source": [
    "* Experiment more with stop_cols and understand the original cols chosen for this list"
   ]
  },
  {
   "cell_type": "code",
   "execution_count": 32,
   "id": "83f8bf47-df96-44cf-90e1-42b4e4f05460",
   "metadata": {},
   "outputs": [],
   "source": [
    "stop_cols = ['trip_instance_key', 'gtfs_dataset_key', \n",
    "            'gtfs_dataset_name',]"
   ]
  },
  {
   "cell_type": "code",
   "execution_count": 33,
   "id": "ff80ddc3-af5c-41dc-9f39-567b86d23e43",
   "metadata": {},
   "outputs": [
    {
     "data": {
      "text/plain": [
       "(1658, 1658)"
      ]
     },
     "execution_count": 33,
     "metadata": {},
     "output_type": "execute_result"
    }
   ],
   "source": [
    "vp_filtered_df.trip_id.nunique(), vp_filtered_df.trip_instance_key.nunique()"
   ]
  },
  {
   "cell_type": "code",
   "execution_count": 34,
   "id": "923e443f-ebc8-4251-a2e0-f87bf483d10b",
   "metadata": {},
   "outputs": [
    {
     "data": {
      "text/plain": [
       "((201184, 14), 201184)"
      ]
     },
     "execution_count": 34,
     "metadata": {},
     "output_type": "execute_result"
    }
   ],
   "source": [
    "vp_filtered_df.shape, vp_filtered_df.vp_idx.nunique()"
   ]
  },
  {
   "cell_type": "code",
   "execution_count": 35,
   "id": "8b1174c1-b693-40fd-94c6-16152a2a3cd7",
   "metadata": {},
   "outputs": [],
   "source": [
    "fresh_updates =(\n",
    "        (vp_filtered_df.sort_values(\n",
    "            stop_cols + [timestamp_col, metric_timestamp_col])\n",
    "         .drop_duplicates(subset = stop_cols + [metric_timestamp_col])\n",
    "        )[stop_cols + [timestamp_col, metric_timestamp_col]]\n",
    "        .assign(fresh = 1)\n",
    "    )"
   ]
  },
  {
   "cell_type": "code",
   "execution_count": 36,
   "id": "99d6d055-11be-4afb-8763-6697606b5fc1",
   "metadata": {},
   "outputs": [],
   "source": [
    "df_with_fresh_flag = pd.merge(\n",
    "        vp_filtered_df,\n",
    "        fresh_updates,\n",
    "        on = stop_cols + [\n",
    "            timestamp_col, metric_timestamp_col],\n",
    "        how = \"left\",\n",
    "    )"
   ]
  },
  {
   "cell_type": "code",
   "execution_count": 37,
   "id": "dcbc90bc-3752-48ec-8207-7bce956be5a5",
   "metadata": {},
   "outputs": [
    {
     "data": {
      "text/html": [
       "<div>\n",
       "<style scoped>\n",
       "    .dataframe tbody tr th:only-of-type {\n",
       "        vertical-align: middle;\n",
       "    }\n",
       "\n",
       "    .dataframe tbody tr th {\n",
       "        vertical-align: top;\n",
       "    }\n",
       "\n",
       "    .dataframe thead th {\n",
       "        text-align: right;\n",
       "    }\n",
       "</style>\n",
       "<table border=\"1\" class=\"dataframe\">\n",
       "  <thead>\n",
       "    <tr style=\"text-align: right;\">\n",
       "      <th></th>\n",
       "      <th>gtfs_dataset_name</th>\n",
       "      <th>schedule_gtfs_dataset_key</th>\n",
       "      <th>trip_id</th>\n",
       "      <th>trip_instance_key</th>\n",
       "      <th>location_timestamp</th>\n",
       "      <th>location_timestamp_local</th>\n",
       "      <th>x</th>\n",
       "      <th>y</th>\n",
       "      <th>vp_idx</th>\n",
       "      <th>gtfs_dataset_key</th>\n",
       "      <th>vp_dir_xnorm</th>\n",
       "      <th>vp_dir_ynorm</th>\n",
       "      <th>vp_primary_direction</th>\n",
       "      <th>location_timestamp_local_sec</th>\n",
       "      <th>fresh</th>\n",
       "    </tr>\n",
       "  </thead>\n",
       "  <tbody>\n",
       "    <tr>\n",
       "      <th>0</th>\n",
       "      <td>Bear Vehicle Positions</td>\n",
       "      <td>a8d5f90bfd689badb7e1deb041408e96</td>\n",
       "      <td>1</td>\n",
       "      <td>69a1a350dd6041284928921b28c34f60</td>\n",
       "      <td>2023-10-12 01:56:10+00:00</td>\n",
       "      <td>2023-10-11 18:56:10</td>\n",
       "      <td>-122.30</td>\n",
       "      <td>37.87</td>\n",
       "      <td>374035</td>\n",
       "      <td>1a5a0ff50ac6b3f4fa4ee1b7b9b7c205</td>\n",
       "      <td>NaN</td>\n",
       "      <td>NaN</td>\n",
       "      <td>Unknown</td>\n",
       "      <td>68170</td>\n",
       "      <td>1</td>\n",
       "    </tr>\n",
       "    <tr>\n",
       "      <th>1</th>\n",
       "      <td>Bear Vehicle Positions</td>\n",
       "      <td>a8d5f90bfd689badb7e1deb041408e96</td>\n",
       "      <td>1</td>\n",
       "      <td>69a1a350dd6041284928921b28c34f60</td>\n",
       "      <td>2023-10-12 01:57:50+00:00</td>\n",
       "      <td>2023-10-11 18:57:50</td>\n",
       "      <td>-122.30</td>\n",
       "      <td>37.87</td>\n",
       "      <td>374036</td>\n",
       "      <td>1a5a0ff50ac6b3f4fa4ee1b7b9b7c205</td>\n",
       "      <td>0.02</td>\n",
       "      <td>1.00</td>\n",
       "      <td>Northbound</td>\n",
       "      <td>68270</td>\n",
       "      <td>1</td>\n",
       "    </tr>\n",
       "  </tbody>\n",
       "</table>\n",
       "</div>"
      ],
      "text/plain": [
       "        gtfs_dataset_name         schedule_gtfs_dataset_key trip_id  \\\n",
       "0  Bear Vehicle Positions  a8d5f90bfd689badb7e1deb041408e96       1   \n",
       "1  Bear Vehicle Positions  a8d5f90bfd689badb7e1deb041408e96       1   \n",
       "\n",
       "                  trip_instance_key        location_timestamp  \\\n",
       "0  69a1a350dd6041284928921b28c34f60 2023-10-12 01:56:10+00:00   \n",
       "1  69a1a350dd6041284928921b28c34f60 2023-10-12 01:57:50+00:00   \n",
       "\n",
       "  location_timestamp_local       x     y  vp_idx  \\\n",
       "0      2023-10-11 18:56:10 -122.30 37.87  374035   \n",
       "1      2023-10-11 18:57:50 -122.30 37.87  374036   \n",
       "\n",
       "                   gtfs_dataset_key  vp_dir_xnorm  vp_dir_ynorm  \\\n",
       "0  1a5a0ff50ac6b3f4fa4ee1b7b9b7c205           NaN           NaN   \n",
       "1  1a5a0ff50ac6b3f4fa4ee1b7b9b7c205          0.02          1.00   \n",
       "\n",
       "  vp_primary_direction  location_timestamp_local_sec  fresh  \n",
       "0              Unknown                         68170      1  \n",
       "1           Northbound                         68270      1  "
      ]
     },
     "execution_count": 37,
     "metadata": {},
     "output_type": "execute_result"
    }
   ],
   "source": [
    "df_with_fresh_flag.head(2)"
   ]
  },
  {
   "cell_type": "code",
   "execution_count": 38,
   "id": "66e6a951-a7dc-4b23-a941-685eb7b24483",
   "metadata": {},
   "outputs": [],
   "source": [
    "df_with_fresh_flag.fresh = df_with_fresh_flag.fresh.fillna(0).astype(int)"
   ]
  },
  {
   "cell_type": "code",
   "execution_count": 39,
   "id": "3e46b76e-7edc-4ea7-b90d-d14a6aeaed99",
   "metadata": {},
   "outputs": [
    {
     "data": {
      "text/plain": [
       "40319     39282\n",
       "40594     72370\n",
       "167092    83615\n",
       "33655     67051\n",
       "91722     52757\n",
       "Name: location_timestamp_local_sec, dtype: int64"
      ]
     },
     "execution_count": 39,
     "metadata": {},
     "output_type": "execute_result"
    }
   ],
   "source": [
    "df_with_fresh_flag[metric_timestamp_col].sample(5)"
   ]
  },
  {
   "cell_type": "code",
   "execution_count": 40,
   "id": "15122358-df7e-4fcd-9692-a4d751b39a49",
   "metadata": {},
   "outputs": [
    {
     "data": {
      "text/plain": [
       "['trip_instance_key', 'gtfs_dataset_key', 'gtfs_dataset_name']"
      ]
     },
     "execution_count": 40,
     "metadata": {},
     "output_type": "execute_result"
    }
   ],
   "source": [
    "stop_cols"
   ]
  },
  {
   "cell_type": "code",
   "execution_count": 42,
   "id": "d796f172-6dba-49e0-99ba-1ae3812a16e4",
   "metadata": {},
   "outputs": [
    {
     "data": {
      "text/plain": [
       "(201184, 14)"
      ]
     },
     "execution_count": 42,
     "metadata": {},
     "output_type": "execute_result"
    }
   ],
   "source": [
    "vp_filtered_df.shape"
   ]
  },
  {
   "cell_type": "code",
   "execution_count": 41,
   "id": "5944843d-2ad7-4362-8a8f-8d38e2304dc1",
   "metadata": {},
   "outputs": [
    {
     "data": {
      "text/plain": [
       "(201184, 15)"
      ]
     },
     "execution_count": 41,
     "metadata": {},
     "output_type": "execute_result"
    }
   ],
   "source": [
    "df_with_fresh_flag.shape"
   ]
  },
  {
   "cell_type": "code",
   "execution_count": 43,
   "id": "1c84d4fa-3b32-4586-b30e-c999107c638d",
   "metadata": {},
   "outputs": [],
   "source": [
    "# df_with_fresh_flag2 = parse_hour_min(df_with_fresh_flag, [timestamp_col])"
   ]
  },
  {
   "cell_type": "code",
   "execution_count": 48,
   "id": "e76907e9-6a86-437c-920f-c751657ee22b",
   "metadata": {},
   "outputs": [],
   "source": [
    "grouped_df = df_with_fresh_flag.groupby([\n",
    "        *stop_cols, \n",
    "         pd.Grouper(key = timestamp_col, freq = '1Min')\n",
    "    ])"
   ]
  },
  {
   "cell_type": "code",
   "execution_count": 46,
   "id": "24897039-28d0-4a42-bb5e-7dda69b4ff85",
   "metadata": {},
   "outputs": [
    {
     "data": {
      "text/plain": [
       "pandas.core.groupby.generic.DataFrameGroupBy"
      ]
     },
     "execution_count": 46,
     "metadata": {},
     "output_type": "execute_result"
    }
   ],
   "source": [
    "type(grouped_df)"
   ]
  },
  {
   "cell_type": "code",
   "execution_count": 49,
   "id": "3c732818-48c3-4cc2-8070-2a140fd65d08",
   "metadata": {},
   "outputs": [],
   "source": [
    "grouped_df2 = grouped_df.agg({'fresh':'sum'}).reset_index()"
   ]
  },
  {
   "cell_type": "code",
   "execution_count": 52,
   "id": "61617748-c555-4e88-b027-a7362cbb40f2",
   "metadata": {},
   "outputs": [],
   "source": [
    "grouped_df2 = grouped_df2.assign(\n",
    "        atleast2_trip_updates = grouped_df2.apply(\n",
    "            lambda x: 1 if x[\"fresh\"] >= 2\n",
    "            else 0, axis=1)\n",
    "    )    \n",
    "    "
   ]
  },
  {
   "cell_type": "code",
   "execution_count": 67,
   "id": "f127aa0e-90f3-4946-a3c0-80c9b84aa101",
   "metadata": {},
   "outputs": [
    {
     "data": {
      "text/plain": [
       "0    21680423\n",
       "1       75853\n",
       "Name: atleast2_trip_updates, dtype: int64"
      ]
     },
     "execution_count": 67,
     "metadata": {},
     "output_type": "execute_result"
    }
   ],
   "source": [
    "grouped_df2.atleast2_trip_updates.value_counts()"
   ]
  },
  {
   "cell_type": "code",
   "execution_count": 68,
   "id": "5c82594b-446e-4225-8935-fd344999f053",
   "metadata": {},
   "outputs": [
    {
     "data": {
      "text/plain": [
       "'location_timestamp_local'"
      ]
     },
     "execution_count": 68,
     "metadata": {},
     "output_type": "execute_result"
    }
   ],
   "source": [
    "timestamp_col"
   ]
  },
  {
   "cell_type": "code",
   "execution_count": 53,
   "id": "079a4eb5-5708-407c-81a6-f88466e9e9df",
   "metadata": {},
   "outputs": [],
   "source": [
    "grouped_df3 = (grouped_df2.groupby(stop_cols)\n",
    "           .agg({\n",
    "               timestamp_col: \"size\",\n",
    "               \"atleast2_trip_updates\": \"sum\"})\n",
    "           .reset_index()\n",
    "          ).rename(columns = {\n",
    "            timestamp_col: \"trip_min_elapsed\"\n",
    "    })\n",
    "    "
   ]
  },
  {
   "cell_type": "code",
   "execution_count": 54,
   "id": "bf6654a0-01bf-4ae3-8158-133d9e5aeb91",
   "metadata": {},
   "outputs": [],
   "source": [
    "grouped_df3 = grouped_df3.assign(\n",
    "        pct_update_complete = grouped_df3.atleast2_trip_updates.divide(\n",
    "            grouped_df3.trip_min_elapsed)\n",
    "    ) "
   ]
  },
  {
   "cell_type": "code",
   "execution_count": 55,
   "id": "263b41a8-db11-437c-964a-9bf537c1ba80",
   "metadata": {},
   "outputs": [
    {
     "data": {
      "text/plain": [
       "(14922, 6)"
      ]
     },
     "execution_count": 55,
     "metadata": {},
     "output_type": "execute_result"
    }
   ],
   "source": [
    "grouped_df3.shape"
   ]
  },
  {
   "cell_type": "code",
   "execution_count": 64,
   "id": "4b58374a-1dfa-48db-b09d-d1ac471b7e3a",
   "metadata": {},
   "outputs": [
    {
     "data": {
      "text/plain": [
       "count   14922.00\n",
       "mean        5.08\n",
       "std        22.84\n",
       "min         0.00\n",
       "25%         0.00\n",
       "50%         0.00\n",
       "75%         0.00\n",
       "max       964.00\n",
       "Name: atleast2_trip_updates, dtype: float64"
      ]
     },
     "execution_count": 64,
     "metadata": {},
     "output_type": "execute_result"
    }
   ],
   "source": [
    "grouped_df3.atleast2_trip_updates.describe()"
   ]
  },
  {
   "cell_type": "code",
   "execution_count": 57,
   "id": "d16aa8d9-4480-4350-af9d-316b274cdb02",
   "metadata": {},
   "outputs": [],
   "source": [
    "cols = [\n",
    "    \"atleast2_trip_updates\", \n",
    "    \"trip_min_elapsed\",\n",
    "    \"pct_update_complete\"]"
   ]
  },
  {
   "cell_type": "code",
   "execution_count": 61,
   "id": "dbe5626f-ab7f-478c-ad23-3356d972c1af",
   "metadata": {},
   "outputs": [],
   "source": [
    "def describe_to_df(df, operator: str, metric_cols: list) -> pd.DataFrame:\n",
    "    \"\"\"\n",
    "    Convert df.column.describe() to a \n",
    "    horizontally concatted dataframe.\n",
    "    \"\"\"\n",
    "    # Filter for operator\n",
    "    df = df[df.gtfs_dataset_name == operator].reset_index(drop=True)\n",
    "    \n",
    "    operator = operator.replace('TripUpdates','').strip()\n",
    "    \n",
    "    final = pd.DataFrame()\n",
    "\n",
    "    for i in metric_cols:\n",
    "        df2 = pd.DataFrame({i: df[i].describe()})\n",
    "        final = pd.concat([final, df2], axis=1)\n",
    "\n",
    "    final = final.reset_index().rename(columns={\"index\": \"Measure\"})\n",
    "\n",
    "\n",
    "    final.Measure = final.Measure.str.title()\n",
    "    \n",
    "    # https://stackoverflow.com/questions/59535426/can-you-change-the-caption-font-size-using-pandas-styling\n",
    "    final = final.style.set_caption(f\"Summary for {operator}\").set_table_styles([{\n",
    "    'selector': 'caption',\n",
    "    'props': [\n",
    "        ('color', 'black'),\n",
    "        ('font-size', '16px')\n",
    "    ]}]).format(precision=1)\n",
    "\n",
    "    return final\n"
   ]
  },
  {
   "cell_type": "code",
   "execution_count": 59,
   "id": "17029b06-571e-4cdf-b218-2d3faa7d0e81",
   "metadata": {},
   "outputs": [
    {
     "data": {
      "text/plain": [
       "Index(['trip_instance_key', 'gtfs_dataset_key', 'gtfs_dataset_name',\n",
       "       'trip_min_elapsed', 'atleast2_trip_updates', 'pct_update_complete'],\n",
       "      dtype='object')"
      ]
     },
     "execution_count": 59,
     "metadata": {},
     "output_type": "execute_result"
    }
   ],
   "source": [
    "grouped_df3.columns"
   ]
  },
  {
   "cell_type": "code",
   "execution_count": 62,
   "id": "d3fa8ee5-dced-45d3-996f-2078916fa524",
   "metadata": {},
   "outputs": [
    {
     "data": {
      "text/html": [
       "<style type=\"text/css\">\n",
       "#T_45e09 caption {\n",
       "  color: black;\n",
       "  font-size: 16px;\n",
       "}\n",
       "</style>\n",
       "<table id=\"T_45e09\">\n",
       "  <caption>Summary for Anaheim Resort VehiclePositions</caption>\n",
       "  <thead>\n",
       "    <tr>\n",
       "      <th class=\"blank level0\" >&nbsp;</th>\n",
       "      <th id=\"T_45e09_level0_col0\" class=\"col_heading level0 col0\" >Measure</th>\n",
       "      <th id=\"T_45e09_level0_col1\" class=\"col_heading level0 col1\" >atleast2_trip_updates</th>\n",
       "      <th id=\"T_45e09_level0_col2\" class=\"col_heading level0 col2\" >trip_min_elapsed</th>\n",
       "      <th id=\"T_45e09_level0_col3\" class=\"col_heading level0 col3\" >pct_update_complete</th>\n",
       "    </tr>\n",
       "  </thead>\n",
       "  <tbody>\n",
       "    <tr>\n",
       "      <th id=\"T_45e09_level0_row0\" class=\"row_heading level0 row0\" >0</th>\n",
       "      <td id=\"T_45e09_row0_col0\" class=\"data row0 col0\" >Count</td>\n",
       "      <td id=\"T_45e09_row0_col1\" class=\"data row0 col1\" >4974.0</td>\n",
       "      <td id=\"T_45e09_row0_col2\" class=\"data row0 col2\" >4974.0</td>\n",
       "      <td id=\"T_45e09_row0_col3\" class=\"data row0 col3\" >4974.0</td>\n",
       "    </tr>\n",
       "    <tr>\n",
       "      <th id=\"T_45e09_level0_row1\" class=\"row_heading level0 row1\" >1</th>\n",
       "      <td id=\"T_45e09_row1_col0\" class=\"data row1 col0\" >Mean</td>\n",
       "      <td id=\"T_45e09_row1_col1\" class=\"data row1 col1\" >8.4</td>\n",
       "      <td id=\"T_45e09_row1_col2\" class=\"data row1 col2\" >1458.0</td>\n",
       "      <td id=\"T_45e09_row1_col3\" class=\"data row1 col3\" >0.0</td>\n",
       "    </tr>\n",
       "    <tr>\n",
       "      <th id=\"T_45e09_level0_row2\" class=\"row_heading level0 row2\" >2</th>\n",
       "      <td id=\"T_45e09_row2_col0\" class=\"data row2 col0\" >Std</td>\n",
       "      <td id=\"T_45e09_row2_col1\" class=\"data row2 col1\" >33.4</td>\n",
       "      <td id=\"T_45e09_row2_col2\" class=\"data row2 col2\" >0.0</td>\n",
       "      <td id=\"T_45e09_row2_col3\" class=\"data row2 col3\" >0.0</td>\n",
       "    </tr>\n",
       "    <tr>\n",
       "      <th id=\"T_45e09_level0_row3\" class=\"row_heading level0 row3\" >3</th>\n",
       "      <td id=\"T_45e09_row3_col0\" class=\"data row3 col0\" >Min</td>\n",
       "      <td id=\"T_45e09_row3_col1\" class=\"data row3 col1\" >0.0</td>\n",
       "      <td id=\"T_45e09_row3_col2\" class=\"data row3 col2\" >1458.0</td>\n",
       "      <td id=\"T_45e09_row3_col3\" class=\"data row3 col3\" >0.0</td>\n",
       "    </tr>\n",
       "    <tr>\n",
       "      <th id=\"T_45e09_level0_row4\" class=\"row_heading level0 row4\" >4</th>\n",
       "      <td id=\"T_45e09_row4_col0\" class=\"data row4 col0\" >25%</td>\n",
       "      <td id=\"T_45e09_row4_col1\" class=\"data row4 col1\" >0.0</td>\n",
       "      <td id=\"T_45e09_row4_col2\" class=\"data row4 col2\" >1458.0</td>\n",
       "      <td id=\"T_45e09_row4_col3\" class=\"data row4 col3\" >0.0</td>\n",
       "    </tr>\n",
       "    <tr>\n",
       "      <th id=\"T_45e09_level0_row5\" class=\"row_heading level0 row5\" >5</th>\n",
       "      <td id=\"T_45e09_row5_col0\" class=\"data row5 col0\" >50%</td>\n",
       "      <td id=\"T_45e09_row5_col1\" class=\"data row5 col1\" >0.0</td>\n",
       "      <td id=\"T_45e09_row5_col2\" class=\"data row5 col2\" >1458.0</td>\n",
       "      <td id=\"T_45e09_row5_col3\" class=\"data row5 col3\" >0.0</td>\n",
       "    </tr>\n",
       "    <tr>\n",
       "      <th id=\"T_45e09_level0_row6\" class=\"row_heading level0 row6\" >6</th>\n",
       "      <td id=\"T_45e09_row6_col0\" class=\"data row6 col0\" >75%</td>\n",
       "      <td id=\"T_45e09_row6_col1\" class=\"data row6 col1\" >0.0</td>\n",
       "      <td id=\"T_45e09_row6_col2\" class=\"data row6 col2\" >1458.0</td>\n",
       "      <td id=\"T_45e09_row6_col3\" class=\"data row6 col3\" >0.0</td>\n",
       "    </tr>\n",
       "    <tr>\n",
       "      <th id=\"T_45e09_level0_row7\" class=\"row_heading level0 row7\" >7</th>\n",
       "      <td id=\"T_45e09_row7_col0\" class=\"data row7 col0\" >Max</td>\n",
       "      <td id=\"T_45e09_row7_col1\" class=\"data row7 col1\" >964.0</td>\n",
       "      <td id=\"T_45e09_row7_col2\" class=\"data row7 col2\" >1458.0</td>\n",
       "      <td id=\"T_45e09_row7_col3\" class=\"data row7 col3\" >0.7</td>\n",
       "    </tr>\n",
       "  </tbody>\n",
       "</table>\n"
      ],
      "text/plain": [
       "<pandas.io.formats.style.Styler at 0x7fbed890e430>"
      ]
     },
     "metadata": {},
     "output_type": "display_data"
    },
    {
     "data": {
      "text/html": [
       "<style type=\"text/css\">\n",
       "#T_61927 caption {\n",
       "  color: black;\n",
       "  font-size: 16px;\n",
       "}\n",
       "</style>\n",
       "<table id=\"T_61927\">\n",
       "  <caption>Summary for Bear Vehicle Positions</caption>\n",
       "  <thead>\n",
       "    <tr>\n",
       "      <th class=\"blank level0\" >&nbsp;</th>\n",
       "      <th id=\"T_61927_level0_col0\" class=\"col_heading level0 col0\" >Measure</th>\n",
       "      <th id=\"T_61927_level0_col1\" class=\"col_heading level0 col1\" >atleast2_trip_updates</th>\n",
       "      <th id=\"T_61927_level0_col2\" class=\"col_heading level0 col2\" >trip_min_elapsed</th>\n",
       "      <th id=\"T_61927_level0_col3\" class=\"col_heading level0 col3\" >pct_update_complete</th>\n",
       "    </tr>\n",
       "  </thead>\n",
       "  <tbody>\n",
       "    <tr>\n",
       "      <th id=\"T_61927_level0_row0\" class=\"row_heading level0 row0\" >0</th>\n",
       "      <td id=\"T_61927_row0_col0\" class=\"data row0 col0\" >Count</td>\n",
       "      <td id=\"T_61927_row0_col1\" class=\"data row0 col1\" >4974.0</td>\n",
       "      <td id=\"T_61927_row0_col2\" class=\"data row0 col2\" >4974.0</td>\n",
       "      <td id=\"T_61927_row0_col3\" class=\"data row0 col3\" >4974.0</td>\n",
       "    </tr>\n",
       "    <tr>\n",
       "      <th id=\"T_61927_level0_row1\" class=\"row_heading level0 row1\" >1</th>\n",
       "      <td id=\"T_61927_row1_col0\" class=\"data row1 col0\" >Mean</td>\n",
       "      <td id=\"T_61927_row1_col1\" class=\"data row1 col1\" >0.3</td>\n",
       "      <td id=\"T_61927_row1_col2\" class=\"data row1 col2\" >1458.0</td>\n",
       "      <td id=\"T_61927_row1_col3\" class=\"data row1 col3\" >0.0</td>\n",
       "    </tr>\n",
       "    <tr>\n",
       "      <th id=\"T_61927_level0_row2\" class=\"row_heading level0 row2\" >2</th>\n",
       "      <td id=\"T_61927_row2_col0\" class=\"data row2 col0\" >Std</td>\n",
       "      <td id=\"T_61927_row2_col1\" class=\"data row2 col1\" >2.0</td>\n",
       "      <td id=\"T_61927_row2_col2\" class=\"data row2 col2\" >0.0</td>\n",
       "      <td id=\"T_61927_row2_col3\" class=\"data row2 col3\" >0.0</td>\n",
       "    </tr>\n",
       "    <tr>\n",
       "      <th id=\"T_61927_level0_row3\" class=\"row_heading level0 row3\" >3</th>\n",
       "      <td id=\"T_61927_row3_col0\" class=\"data row3 col0\" >Min</td>\n",
       "      <td id=\"T_61927_row3_col1\" class=\"data row3 col1\" >0.0</td>\n",
       "      <td id=\"T_61927_row3_col2\" class=\"data row3 col2\" >1458.0</td>\n",
       "      <td id=\"T_61927_row3_col3\" class=\"data row3 col3\" >0.0</td>\n",
       "    </tr>\n",
       "    <tr>\n",
       "      <th id=\"T_61927_level0_row4\" class=\"row_heading level0 row4\" >4</th>\n",
       "      <td id=\"T_61927_row4_col0\" class=\"data row4 col0\" >25%</td>\n",
       "      <td id=\"T_61927_row4_col1\" class=\"data row4 col1\" >0.0</td>\n",
       "      <td id=\"T_61927_row4_col2\" class=\"data row4 col2\" >1458.0</td>\n",
       "      <td id=\"T_61927_row4_col3\" class=\"data row4 col3\" >0.0</td>\n",
       "    </tr>\n",
       "    <tr>\n",
       "      <th id=\"T_61927_level0_row5\" class=\"row_heading level0 row5\" >5</th>\n",
       "      <td id=\"T_61927_row5_col0\" class=\"data row5 col0\" >50%</td>\n",
       "      <td id=\"T_61927_row5_col1\" class=\"data row5 col1\" >0.0</td>\n",
       "      <td id=\"T_61927_row5_col2\" class=\"data row5 col2\" >1458.0</td>\n",
       "      <td id=\"T_61927_row5_col3\" class=\"data row5 col3\" >0.0</td>\n",
       "    </tr>\n",
       "    <tr>\n",
       "      <th id=\"T_61927_level0_row6\" class=\"row_heading level0 row6\" >6</th>\n",
       "      <td id=\"T_61927_row6_col0\" class=\"data row6 col0\" >75%</td>\n",
       "      <td id=\"T_61927_row6_col1\" class=\"data row6 col1\" >0.0</td>\n",
       "      <td id=\"T_61927_row6_col2\" class=\"data row6 col2\" >1458.0</td>\n",
       "      <td id=\"T_61927_row6_col3\" class=\"data row6 col3\" >0.0</td>\n",
       "    </tr>\n",
       "    <tr>\n",
       "      <th id=\"T_61927_level0_row7\" class=\"row_heading level0 row7\" >7</th>\n",
       "      <td id=\"T_61927_row7_col0\" class=\"data row7 col0\" >Max</td>\n",
       "      <td id=\"T_61927_row7_col1\" class=\"data row7 col1\" >34.0</td>\n",
       "      <td id=\"T_61927_row7_col2\" class=\"data row7 col2\" >1458.0</td>\n",
       "      <td id=\"T_61927_row7_col3\" class=\"data row7 col3\" >0.0</td>\n",
       "    </tr>\n",
       "  </tbody>\n",
       "</table>\n"
      ],
      "text/plain": [
       "<pandas.io.formats.style.Styler at 0x7fbed890e430>"
      ]
     },
     "metadata": {},
     "output_type": "display_data"
    },
    {
     "data": {
      "text/html": [
       "<style type=\"text/css\">\n",
       "#T_2376e caption {\n",
       "  color: black;\n",
       "  font-size: 16px;\n",
       "}\n",
       "</style>\n",
       "<table id=\"T_2376e\">\n",
       "  <caption>Summary for Santa Cruz Vehicle Positions</caption>\n",
       "  <thead>\n",
       "    <tr>\n",
       "      <th class=\"blank level0\" >&nbsp;</th>\n",
       "      <th id=\"T_2376e_level0_col0\" class=\"col_heading level0 col0\" >Measure</th>\n",
       "      <th id=\"T_2376e_level0_col1\" class=\"col_heading level0 col1\" >atleast2_trip_updates</th>\n",
       "      <th id=\"T_2376e_level0_col2\" class=\"col_heading level0 col2\" >trip_min_elapsed</th>\n",
       "      <th id=\"T_2376e_level0_col3\" class=\"col_heading level0 col3\" >pct_update_complete</th>\n",
       "    </tr>\n",
       "  </thead>\n",
       "  <tbody>\n",
       "    <tr>\n",
       "      <th id=\"T_2376e_level0_row0\" class=\"row_heading level0 row0\" >0</th>\n",
       "      <td id=\"T_2376e_row0_col0\" class=\"data row0 col0\" >Count</td>\n",
       "      <td id=\"T_2376e_row0_col1\" class=\"data row0 col1\" >4974.0</td>\n",
       "      <td id=\"T_2376e_row0_col2\" class=\"data row0 col2\" >4974.0</td>\n",
       "      <td id=\"T_2376e_row0_col3\" class=\"data row0 col3\" >4974.0</td>\n",
       "    </tr>\n",
       "    <tr>\n",
       "      <th id=\"T_2376e_level0_row1\" class=\"row_heading level0 row1\" >1</th>\n",
       "      <td id=\"T_2376e_row1_col0\" class=\"data row1 col0\" >Mean</td>\n",
       "      <td id=\"T_2376e_row1_col1\" class=\"data row1 col1\" >6.5</td>\n",
       "      <td id=\"T_2376e_row1_col2\" class=\"data row1 col2\" >1458.0</td>\n",
       "      <td id=\"T_2376e_row1_col3\" class=\"data row1 col3\" >0.0</td>\n",
       "    </tr>\n",
       "    <tr>\n",
       "      <th id=\"T_2376e_level0_row2\" class=\"row_heading level0 row2\" >2</th>\n",
       "      <td id=\"T_2376e_row2_col0\" class=\"data row2 col0\" >Std</td>\n",
       "      <td id=\"T_2376e_row2_col1\" class=\"data row2 col1\" >20.2</td>\n",
       "      <td id=\"T_2376e_row2_col2\" class=\"data row2 col2\" >0.0</td>\n",
       "      <td id=\"T_2376e_row2_col3\" class=\"data row2 col3\" >0.0</td>\n",
       "    </tr>\n",
       "    <tr>\n",
       "      <th id=\"T_2376e_level0_row3\" class=\"row_heading level0 row3\" >3</th>\n",
       "      <td id=\"T_2376e_row3_col0\" class=\"data row3 col0\" >Min</td>\n",
       "      <td id=\"T_2376e_row3_col1\" class=\"data row3 col1\" >0.0</td>\n",
       "      <td id=\"T_2376e_row3_col2\" class=\"data row3 col2\" >1458.0</td>\n",
       "      <td id=\"T_2376e_row3_col3\" class=\"data row3 col3\" >0.0</td>\n",
       "    </tr>\n",
       "    <tr>\n",
       "      <th id=\"T_2376e_level0_row4\" class=\"row_heading level0 row4\" >4</th>\n",
       "      <td id=\"T_2376e_row4_col0\" class=\"data row4 col0\" >25%</td>\n",
       "      <td id=\"T_2376e_row4_col1\" class=\"data row4 col1\" >0.0</td>\n",
       "      <td id=\"T_2376e_row4_col2\" class=\"data row4 col2\" >1458.0</td>\n",
       "      <td id=\"T_2376e_row4_col3\" class=\"data row4 col3\" >0.0</td>\n",
       "    </tr>\n",
       "    <tr>\n",
       "      <th id=\"T_2376e_level0_row5\" class=\"row_heading level0 row5\" >5</th>\n",
       "      <td id=\"T_2376e_row5_col0\" class=\"data row5 col0\" >50%</td>\n",
       "      <td id=\"T_2376e_row5_col1\" class=\"data row5 col1\" >0.0</td>\n",
       "      <td id=\"T_2376e_row5_col2\" class=\"data row5 col2\" >1458.0</td>\n",
       "      <td id=\"T_2376e_row5_col3\" class=\"data row5 col3\" >0.0</td>\n",
       "    </tr>\n",
       "    <tr>\n",
       "      <th id=\"T_2376e_level0_row6\" class=\"row_heading level0 row6\" >6</th>\n",
       "      <td id=\"T_2376e_row6_col0\" class=\"data row6 col0\" >75%</td>\n",
       "      <td id=\"T_2376e_row6_col1\" class=\"data row6 col1\" >0.0</td>\n",
       "      <td id=\"T_2376e_row6_col2\" class=\"data row6 col2\" >1458.0</td>\n",
       "      <td id=\"T_2376e_row6_col3\" class=\"data row6 col3\" >0.0</td>\n",
       "    </tr>\n",
       "    <tr>\n",
       "      <th id=\"T_2376e_level0_row7\" class=\"row_heading level0 row7\" >7</th>\n",
       "      <td id=\"T_2376e_row7_col0\" class=\"data row7 col0\" >Max</td>\n",
       "      <td id=\"T_2376e_row7_col1\" class=\"data row7 col1\" >110.0</td>\n",
       "      <td id=\"T_2376e_row7_col2\" class=\"data row7 col2\" >1458.0</td>\n",
       "      <td id=\"T_2376e_row7_col3\" class=\"data row7 col3\" >0.1</td>\n",
       "    </tr>\n",
       "  </tbody>\n",
       "</table>\n"
      ],
      "text/plain": [
       "<pandas.io.formats.style.Styler at 0x7fbeeb2bfbb0>"
      ]
     },
     "metadata": {},
     "output_type": "display_data"
    }
   ],
   "source": [
    "for i in grouped_df3.gtfs_dataset_name.unique():\n",
    "    display(\n",
    "       describe_to_df(\n",
    "            grouped_df3,\n",
    "            i,\n",
    "            cols,\n",
    "        )\n",
    "    )"
   ]
  },
  {
   "cell_type": "code",
   "execution_count": null,
   "id": "286e6177-f9ec-46ee-8b2b-ce625051f333",
   "metadata": {},
   "outputs": [],
   "source": [
    "stop"
   ]
  },
  {
   "cell_type": "markdown",
   "id": "90cc9165-c83b-4d58-873d-25c98e992452",
   "metadata": {
    "tags": []
   },
   "source": [
    "### Break apart old function"
   ]
  },
  {
   "cell_type": "code",
   "execution_count": null,
   "id": "a4ec7a76-304a-4c42-b980-79561b0c511d",
   "metadata": {},
   "outputs": [],
   "source": [
    "from segment_speed_utils.project_vars import PREDICTIONS_GCS"
   ]
  },
  {
   "cell_type": "code",
   "execution_count": null,
   "id": "1cac0e24-2f86-4a58-ae60-c99d46ae6716",
   "metadata": {},
   "outputs": [],
   "source": [
    "df = pd.read_parquet(\n",
    "    f\"{PREDICTIONS_GCS}rt_sched_stop_times_2023-03-15.parquet\")\n",
    "df._gtfs_dataset_name.unique()"
   ]
  },
  {
   "cell_type": "code",
   "execution_count": null,
   "id": "8ff31cc6-4e0d-49fa-a093-f6af5492f8d0",
   "metadata": {},
   "outputs": [],
   "source": [
    "#prediction_cols = set(df.columns.tolist())\n",
    "#muni_cols = set(muni.columns.tolist())"
   ]
  },
  {
   "cell_type": "code",
   "execution_count": null,
   "id": "e6e7e276-c892-4063-9e4e-ca1e4d987bab",
   "metadata": {},
   "outputs": [],
   "source": [
    "#list(set(prediction_cols).intersection(muni_cols))"
   ]
  },
  {
   "cell_type": "code",
   "execution_count": null,
   "id": "4d680cbc-c573-4a8f-a79e-fe764e3cc00c",
   "metadata": {},
   "outputs": [],
   "source": [
    "#scheduled.sample()"
   ]
  },
  {
   "cell_type": "markdown",
   "id": "a87a769e-c5b8-4b24-8e22-f962d581d5a8",
   "metadata": {},
   "source": [
    "#### flag_first_trip_update_prediction_for_stop"
   ]
  },
  {
   "cell_type": "code",
   "execution_count": null,
   "id": "46cb1292-26d9-465f-9cde-c7f61f7ca70f",
   "metadata": {},
   "outputs": [],
   "source": [
    "timestamp_col = \"_extract_ts_local\"\n",
    "metric_timestamp_col = \"trip_update_timestamp_local\""
   ]
  },
  {
   "cell_type": "code",
   "execution_count": null,
   "id": "839fc7c1-32a4-4eb2-930a-1bf04519ae9b",
   "metadata": {},
   "outputs": [],
   "source": [
    "stop_cols = [\n",
    "        \"gtfs_dataset_key\", \"_gtfs_dataset_name\", \n",
    "        \"service_date\", \n",
    "        \"shape_id\", \"route_id\",\n",
    "        \"trip_id\", \n",
    "        \"stop_id\", \"stop_sequence\",\n",
    "        \"scheduled_arrival\", \"actual_stop_arrival_pacific\", \n",
    "    ]"
   ]
  },
  {
   "cell_type": "code",
   "execution_count": null,
   "id": "85a7031a-6cb8-4f92-8e61-935a2e77c481",
   "metadata": {},
   "outputs": [],
   "source": [
    "df[['_extract_ts_local','trip_update_timestamp_local']].sample(5)"
   ]
  },
  {
   "cell_type": "code",
   "execution_count": null,
   "id": "b9a22816-47c2-4b52-88ca-77c931856756",
   "metadata": {},
   "outputs": [],
   "source": [
    "def exclude_predictions_after_actual_stop_arrival(\n",
    "    df: pd.DataFrame,\n",
    "    timestamp_col: str\n",
    ") -> pd.DataFrame:\n",
    "    \"\"\"\n",
    "    Drop the predictions within a trip. Previous exclusion \n",
    "    only dropped predictions after trip ended.\n",
    "    Now, drop predictions for a stop after the stop has arrived.\n",
    "    \"\"\"\n",
    "    df2 = df[df[timestamp_col] <= df.actual_stop_arrival_pacific\n",
    "            ].reset_index(drop=True)\n",
    "    \n",
    "    return df2"
   ]
  },
  {
   "cell_type": "code",
   "execution_count": null,
   "id": "62bb559e-1482-44f0-a815-4af0c0f828a1",
   "metadata": {},
   "outputs": [],
   "source": [
    "df = exclude_predictions_after_actual_stop_arrival(df, timestamp_col)"
   ]
  },
  {
   "cell_type": "markdown",
   "id": "62132021-eec9-4a4d-9709-3b89fe3fa30a",
   "metadata": {},
   "source": [
    "#### this is flag_first_trip_update_prediction_for_stop"
   ]
  },
  {
   "cell_type": "code",
   "execution_count": null,
   "id": "59141283-7fb6-4c94-b63d-c625be4b1436",
   "metadata": {},
   "outputs": [],
   "source": [
    "df.shape"
   ]
  },
  {
   "cell_type": "code",
   "execution_count": null,
   "id": "6748e24f-986e-49ae-83e0-f634017806d4",
   "metadata": {},
   "outputs": [],
   "source": [
    "fresh_updates =(\n",
    "        (df.sort_values(\n",
    "            stop_cols + [timestamp_col, metric_timestamp_col])\n",
    "         .drop_duplicates(subset = stop_cols + [metric_timestamp_col])\n",
    "        )[stop_cols + [timestamp_col, metric_timestamp_col,\n",
    "                       \"predicted_pacific\"]]\n",
    "        .assign(fresh = 1)\n",
    "    )"
   ]
  },
  {
   "cell_type": "code",
   "execution_count": null,
   "id": "ae2b1b73-aa81-4a01-888e-ad72f83b2628",
   "metadata": {},
   "outputs": [],
   "source": [
    "fresh_updates.shape"
   ]
  },
  {
   "cell_type": "code",
   "execution_count": null,
   "id": "0313c9ce-69c5-42e9-b968-ab184dcd3982",
   "metadata": {},
   "outputs": [],
   "source": [
    "fresh_updates.head(2)"
   ]
  },
  {
   "cell_type": "code",
   "execution_count": null,
   "id": "bd542c77-a29d-4dc8-9ce4-d9dcbd1812d3",
   "metadata": {},
   "outputs": [],
   "source": [
    "fresh_updates.fresh.value_counts()"
   ]
  },
  {
   "cell_type": "code",
   "execution_count": null,
   "id": "171307e0-9955-465e-bdca-2572e68b6e8b",
   "metadata": {},
   "outputs": [],
   "source": [
    "fresh_updates.shape, df.shape"
   ]
  },
  {
   "cell_type": "code",
   "execution_count": null,
   "id": "a9851fef-be88-47f5-b291-15964f911905",
   "metadata": {},
   "outputs": [],
   "source": [
    "df_with_fresh_flag = pd.merge(\n",
    "        df,\n",
    "        fresh_updates,\n",
    "        on = stop_cols + [\n",
    "            timestamp_col, metric_timestamp_col, \n",
    "            \"predicted_pacific\"],\n",
    "        how = \"left\",\n",
    "    )"
   ]
  },
  {
   "cell_type": "code",
   "execution_count": null,
   "id": "e169530f-84ce-4287-938e-39b624edd833",
   "metadata": {},
   "outputs": [],
   "source": [
    "df_with_fresh_flag.head(2)"
   ]
  },
  {
   "cell_type": "code",
   "execution_count": null,
   "id": "eaadd152-1b30-49f6-8ce5-5575bf4c23c1",
   "metadata": {},
   "outputs": [],
   "source": [
    "df_with_fresh_flag.shape"
   ]
  },
  {
   "cell_type": "code",
   "execution_count": null,
   "id": "3b7ebd22-2ccb-4552-8975-18da53d4d26d",
   "metadata": {},
   "outputs": [],
   "source": [
    "df_with_fresh_flag = df_with_fresh_flag.assign(\n",
    "        fresh = df_with_fresh_flag.fresh.fillna(0).astype(int)\n",
    "    )\n",
    "    "
   ]
  },
  {
   "cell_type": "code",
   "execution_count": null,
   "id": "7f4aadb1-40da-420f-9b46-80aa2be0c169",
   "metadata": {},
   "outputs": [],
   "source": [
    "def parse_hour_min(\n",
    "    df: pd.DataFrame, \n",
    "    timestamp_col: list\n",
    ") -> pd.DataFrame:\n",
    "    \"\"\"\n",
    "    Parse out the hour and minute from some \n",
    "    timestamp_column (header_timestamp, trip_update_timestamp)\n",
    "    \"\"\"\n",
    "    for c in timestamp_col:\n",
    "        df = df.assign(\n",
    "            hour = df[c].dt.hour,\n",
    "            minute = df[c].dt.minute\n",
    "        ).rename(columns = {\n",
    "            \"hour\": f\"{c}_hour\", \n",
    "            \"minute\": f\"{c}_min\"})\n",
    "    \n",
    "    return df\n"
   ]
  },
  {
   "cell_type": "markdown",
   "id": "82592a8c-8960-454c-8cf8-0f20699ccf9d",
   "metadata": {},
   "source": [
    "#### Why parse the time?\n",
    "* new cols are _extract_ts_local_hour and _extract_ts_local_min"
   ]
  },
  {
   "cell_type": "code",
   "execution_count": null,
   "id": "5e58f353-a9d2-498f-82e3-bf324bfec81a",
   "metadata": {},
   "outputs": [],
   "source": [
    "df_with_fresh_flag2 = parse_hour_min(df_with_fresh_flag, [timestamp_col])"
   ]
  },
  {
   "cell_type": "code",
   "execution_count": null,
   "id": "c37b92b5-bf94-4404-8867-ac6335f88d70",
   "metadata": {},
   "outputs": [],
   "source": [
    "df_with_fresh_flag2.head(1)"
   ]
  },
  {
   "cell_type": "code",
   "execution_count": null,
   "id": "5ce3c13e-ebdb-4cda-a779-73c3915bf841",
   "metadata": {},
   "outputs": [],
   "source": [
    "df_with_fresh_flag.head(1)"
   ]
  },
  {
   "cell_type": "markdown",
   "id": "09d1727d-d57c-4f2f-83ba-8dad07e85f64",
   "metadata": {},
   "source": [
    "#### atleast2_updates_by_trip_stop\n",
    "* Having trouble previewing this to see it's correct.\n",
    "* Try to convert metric_timestamp_col to an integer to sum for the step below but it didn't work"
   ]
  },
  {
   "cell_type": "code",
   "execution_count": null,
   "id": "f6e73c74-2bfd-435e-813e-810e9a7de863",
   "metadata": {},
   "outputs": [],
   "source": [
    "# df_with_fresh_flag2['test'] = pd.to_datetime(df_with_fresh_flag2[metric_timestamp_col]).astype(int)/ 10**9"
   ]
  },
  {
   "cell_type": "code",
   "execution_count": null,
   "id": "5617c4d2-b0dd-4dee-93b2-b6254b436b94",
   "metadata": {},
   "outputs": [],
   "source": [
    "grouped_df = df_with_fresh_flag2.groupby([*stop_cols, \n",
    "         pd.Grouper(key = timestamp_col, freq = '1Min')\n",
    "    ])\n"
   ]
  },
  {
   "cell_type": "code",
   "execution_count": null,
   "id": "fa960a0e-778a-47a9-9c80-3075a8069a68",
   "metadata": {},
   "outputs": [],
   "source": [
    "type(grouped_df)"
   ]
  },
  {
   "cell_type": "markdown",
   "id": "65f0c20b-8ae8-43c5-884b-da2d81a3bda0",
   "metadata": {},
   "source": [
    "##### \"sum\" isn't working for metric_timestamp_col.\n",
    "* Need to change it to \"fresh\""
   ]
  },
  {
   "cell_type": "code",
   "execution_count": null,
   "id": "6596886e-c757-45fc-8fc6-3aad80f863b1",
   "metadata": {},
   "outputs": [],
   "source": [
    "metric_timestamp_col"
   ]
  },
  {
   "cell_type": "code",
   "execution_count": null,
   "id": "095b297a-6e9e-44c8-9d22-bce1df9ee2bc",
   "metadata": {},
   "outputs": [],
   "source": [
    "# Sum didn't work with metric_timestamp_col\n",
    "# Count \n",
    "df2 = (grouped_df\n",
    "           .agg({\"fresh\": \"sum\"})\n",
    "           .reset_index()\n",
    "    )"
   ]
  },
  {
   "cell_type": "code",
   "execution_count": null,
   "id": "d2855bda-f62d-495c-b1df-dbc0b747d533",
   "metadata": {},
   "outputs": [],
   "source": [
    "type(df2)"
   ]
  },
  {
   "cell_type": "code",
   "execution_count": null,
   "id": "897091d2-aa60-4dc4-ad5f-83d5fe42dda9",
   "metadata": {},
   "outputs": [],
   "source": [
    "df2 = df2.assign(\n",
    "        atleast2_trip_updates = df2.apply(\n",
    "            lambda x: 1 if x[\"fresh\"] >= 2\n",
    "            else 0, axis=1)\n",
    "    )    "
   ]
  },
  {
   "cell_type": "code",
   "execution_count": null,
   "id": "22b2dd78-84e2-492d-b1aa-cdd1b24fbf36",
   "metadata": {},
   "outputs": [],
   "source": [
    "df2.columns"
   ]
  },
  {
   "cell_type": "code",
   "execution_count": null,
   "id": "4d2a7813-d35c-47d9-a84b-f9a4a1ad8b3d",
   "metadata": {},
   "outputs": [],
   "source": [
    "df3 = (df2.groupby(stop_cols)\n",
    "           .agg({\n",
    "               timestamp_col: \"size\",\n",
    "               \"atleast2_trip_updates\": \"sum\"})\n",
    "           .reset_index()\n",
    "          ).rename(columns = {\n",
    "            timestamp_col: \"trip_min_elapsed\"\n",
    "    })\n",
    "    "
   ]
  },
  {
   "cell_type": "code",
   "execution_count": null,
   "id": "57de9b7c-c3c1-48c7-8bd9-0c6e0631159f",
   "metadata": {},
   "outputs": [],
   "source": [
    "df3.columns"
   ]
  },
  {
   "cell_type": "code",
   "execution_count": null,
   "id": "6f78b9b0-1290-49b6-a801-b25aa587aed4",
   "metadata": {},
   "outputs": [],
   "source": [
    "df3 = df3.assign(\n",
    "        pct_update_complete = df3.atleast2_trip_updates.divide(\n",
    "            df3.trip_min_elapsed)\n",
    "    ) \n",
    "    "
   ]
  },
  {
   "cell_type": "code",
   "execution_count": null,
   "id": "8324bf49-a2fe-4ef3-b21b-565f5f63d3bb",
   "metadata": {},
   "outputs": [],
   "source": [
    "df2.head(2)"
   ]
  },
  {
   "cell_type": "code",
   "execution_count": null,
   "id": "7041280e-0761-4959-97a5-c84b4a0df333",
   "metadata": {},
   "outputs": [],
   "source": [
    "df3.head(2)"
   ]
  },
  {
   "cell_type": "markdown",
   "id": "7747d701-c2e9-44c8-ae96-eabc2ac3a03e",
   "metadata": {},
   "source": [
    "#### Santa Cruz and Bear Trip Updates are different"
   ]
  },
  {
   "cell_type": "code",
   "execution_count": null,
   "id": "491a4cbe-fc71-47ff-8b8a-bfcb2f1b1967",
   "metadata": {},
   "outputs": [],
   "source": [
    "for i in df3._gtfs_dataset_name.unique():\n",
    "    display(\n",
    "       describe_to_df(\n",
    "            df3,\n",
    "            i,\n",
    "            cols,\n",
    "        )\n",
    "    )"
   ]
  },
  {
   "cell_type": "code",
   "execution_count": null,
   "id": "512f2287-82a6-42e6-9f12-888a899f863c",
   "metadata": {},
   "outputs": [],
   "source": [
    "stop"
   ]
  },
  {
   "cell_type": "markdown",
   "id": "3b61450e-528c-4dab-9582-2bda3343e379",
   "metadata": {},
   "source": [
    "## How many minutes a trip took and the average speeds?\n",
    "* Temporary place until I move the spatial stuff out"
   ]
  },
  {
   "cell_type": "code",
   "execution_count": null,
   "id": "36afb7b1-04f9-494b-a4d8-f85ddadc785b",
   "metadata": {},
   "outputs": [],
   "source": [
    "type(muni)"
   ]
  },
  {
   "cell_type": "code",
   "execution_count": null,
   "id": "a6d981cf-cb48-49c5-9d2a-a80644bb67df",
   "metadata": {},
   "outputs": [],
   "source": [
    "len(relevant_trips)"
   ]
  },
  {
   "cell_type": "code",
   "execution_count": null,
   "id": "230a0037-2a0d-48a0-950b-e191ab34deb3",
   "metadata": {},
   "outputs": [],
   "source": [
    "# Test if I can filter for relevant trips\n",
    "# Yes, can filter for only relevant trips up here? \n",
    "# https://github.com/cal-itp/data-analyses/blob/main/rt_scheduled_v_ran/scripts/vp_spatial_accuracy.py#L190-L193\n",
    "#trips_with_shape_trips = set(trips_with_shape.trip_instance_key.unique().tolist())\n",
    "#muni_trips = set(muni.trip_instance_key.unique().tolist())\n",
    "#trips_with_shape_trips - muni_trips"
   ]
  },
  {
   "cell_type": "code",
   "execution_count": null,
   "id": "17c5a52a-bedb-4232-aa38-5a9e5adb356d",
   "metadata": {},
   "outputs": [],
   "source": [
    "# muni_trips - trips_with_shape_trips"
   ]
  },
  {
   "cell_type": "code",
   "execution_count": null,
   "id": "89eaf6b5-d441-4d0d-9a02-4a17ce1b7c4e",
   "metadata": {},
   "outputs": [],
   "source": [
    "# len(vp_filtered)"
   ]
  },
  {
   "cell_type": "code",
   "execution_count": null,
   "id": "875978d8-6168-4f52-b101-91e09b6a099d",
   "metadata": {},
   "outputs": [],
   "source": [
    "# vp_filtered[['trip_instance_key']].compute().nunique()"
   ]
  },
  {
   "cell_type": "code",
   "execution_count": null,
   "id": "7807ccce-416c-4f03-a92a-2296edc1d19f",
   "metadata": {},
   "outputs": [],
   "source": [
    "vp_filtered.columns"
   ]
  },
  {
   "cell_type": "markdown",
   "id": "96335b84-31a9-4887-b97f-8ebc35610220",
   "metadata": {},
   "source": [
    "### C2 \n",
    "* https://github.com/cal-itp/data-analyses/blob/main/rt_segment_speeds/scripts/C2_triangulate_vp.py\n",
    "* Break it apart and check it out later to undersatnd what's happening"
   ]
  },
  {
   "cell_type": "code",
   "execution_count": null,
   "id": "de7fba7a-6796-4e64-884c-55d636be2c12",
   "metadata": {},
   "outputs": [],
   "source": [
    "def triangulate_vp(\n",
    "    ddf: dd.DataFrame, \n",
    "    group_cols: list = [\"trip_instance_key\"]\n",
    ") -> np.ndarray:\n",
    "    \"\"\"\n",
    "    Grab a sample of vehicle positions for each trip to triangulate distance.\n",
    "    These vp already sjoined onto the shape.\n",
    "    Roughly pick vp at equally spaced intervals.\n",
    "    \n",
    "    Dask aggregation can't group and use lambda to create list of possible \n",
    "    vp_idx.\n",
    "    \"\"\"        \n",
    "    grouped_ddf = ddf.groupby(group_cols, observed=True, group_keys=False)\n",
    "\n",
    "    min_df = (grouped_ddf\n",
    "              .agg({\"vp_idx\": \"min\"})\n",
    "              .rename(columns = {\"vp_idx\": \"min_vp_idx\"})\n",
    "             )\n",
    "\n",
    "    max_df = (grouped_ddf\n",
    "              .agg({\"vp_idx\": \"max\"})\n",
    "              .rename(columns = {\"vp_idx\": \"max_vp_idx\"})\n",
    "             )\n",
    "    \n",
    "    vp_range = dd.merge(\n",
    "        min_df,\n",
    "        max_df,\n",
    "        left_index = True,\n",
    "        right_index = True,\n",
    "        how = \"inner\"\n",
    "    )\n",
    "\n",
    "    vp_range = vp_range.persist()\n",
    "    \n",
    "    vp_range[\"range_diff\"] = vp_range.max_vp_idx - vp_range.min_vp_idx\n",
    "    \n",
    "    vp_range = vp_range.assign(\n",
    "        p25_vp_idx = (vp_range.range_diff * 0.25 + vp_range.min_vp_idx\n",
    "                     ).round(0).astype(\"int64\"),\n",
    "        p50_vp_idx = (vp_range.range_diff * 0.5 + vp_range.min_vp_idx\n",
    "                     ).round(0).astype(\"int64\"),\n",
    "        p75_vp_idx = (vp_range.range_diff * 0.75 + vp_range.min_vp_idx\n",
    "                     ).round(0).astype(\"int64\"),\n",
    "    )\n",
    "    \n",
    "    vp_idx_cols = [\n",
    "        \"min_vp_idx\", \n",
    "        \"p25_vp_idx\",\n",
    "        \"p50_vp_idx\", \n",
    "        \"p75_vp_idx\",\n",
    "        \"max_vp_idx\"\n",
    "    ]\n",
    "\n",
    "    results = vp_range[vp_idx_cols].compute().to_numpy().flatten()    \n",
    "    \n",
    "    results = list(results)\n",
    "    return results"
   ]
  },
  {
   "cell_type": "code",
   "execution_count": null,
   "id": "75d6fcc5-8c85-4c62-a063-62a7a73ecdc0",
   "metadata": {},
   "outputs": [],
   "source": [
    "triangulate_muni = triangulate_vp(vp_filtered, 'trip_instance_key')"
   ]
  },
  {
   "cell_type": "code",
   "execution_count": null,
   "id": "9093ef29-79fd-4ca2-9abb-897cd7f6768c",
   "metadata": {},
   "outputs": [],
   "source": [
    "vp_results = dd.read_parquet(f\"{SEGMENT_GCS}vp_usable_{analysis_date}\",\n",
    "        columns = [\n",
    "            \"gtfs_dataset_key\", \"trip_instance_key\",\n",
    "            \"location_timestamp_local\",\n",
    "            \"x\", \"y\", \"vp_idx\"],\n",
    "        filters = [[('gtfs_dataset_name', \"==\", operator),\n",
    "                   ('schedule_gtfs_dataset_key', '==', gtfs_key),\n",
    "                    ('vp_idx', 'in', triangulate_muni)]]).compute()"
   ]
  },
  {
   "cell_type": "code",
   "execution_count": null,
   "id": "b9ed5b3a-2e06-4389-84d9-dd39ea5042ad",
   "metadata": {},
   "outputs": [],
   "source": [
    "vp_results.sample(2)"
   ]
  },
  {
   "cell_type": "code",
   "execution_count": null,
   "id": "7c586115-3b28-4333-80f0-01aaea84c711",
   "metadata": {},
   "outputs": [],
   "source": [
    "len(vp_results.loc[vp_results.trip_instance_key == \"5e067d518df2c7d76b7465f1c7d0901e\"])"
   ]
  },
  {
   "cell_type": "code",
   "execution_count": null,
   "id": "a8c059c8-7b24-409b-abd0-8c99be8fd29c",
   "metadata": {},
   "outputs": [],
   "source": [
    "len(vp_filtered.loc[vp_filtered.trip_instance_key == \"5e067d518df2c7d76b7465f1c7d0901e\"])"
   ]
  },
  {
   "cell_type": "code",
   "execution_count": null,
   "id": "e8c60e57-1c5e-46bb-aa4b-7247f4f38a4d",
   "metadata": {},
   "outputs": [],
   "source": [
    "len(vp_results.loc[vp_results.trip_instance_key == \"37e64d454f8679b38b2d35ed0d256df0\"])"
   ]
  },
  {
   "cell_type": "code",
   "execution_count": null,
   "id": "055797b8-a395-4a71-aaa2-3202c521126a",
   "metadata": {},
   "outputs": [],
   "source": [
    "len(vp_filtered.loc[vp_filtered.trip_instance_key == \"37e64d454f8679b38b2d35ed0d256df0\"])"
   ]
  },
  {
   "cell_type": "markdown",
   "id": "65ce88c6-27b2-4329-9e20-e8cb26dd2806",
   "metadata": {},
   "source": [
    "* vp_results is a pandas df but merge_rt_scheduled requires dask dataframe...it still works!"
   ]
  },
  {
   "cell_type": "code",
   "execution_count": null,
   "id": "0a668b99-615a-4d27-99e6-3b989182a4cc",
   "metadata": {},
   "outputs": [],
   "source": [
    "type(vp_results)"
   ]
  },
  {
   "cell_type": "code",
   "execution_count": null,
   "id": "63c04621-ad68-4e3d-9cec-133dbf0aa3b0",
   "metadata": {},
   "outputs": [],
   "source": [
    "def merge_rt_scheduled_trips(\n",
    "    rt_trips: dd.DataFrame,\n",
    "    analysis_date: str,\n",
    "    group_cols: list = [\"trip_instance_key\"]) -> dd.DataFrame:\n",
    "    \"\"\"\n",
    "    Merge RT trips (vehicle positions) to scheduled trips \n",
    "    to get the shape_array_key.\n",
    "    Don't pull other scheduled trip columns now, wait until\n",
    "    after aggregation is done.\n",
    "    \"\"\"\n",
    "    trips = helpers.import_scheduled_trips(\n",
    "        analysis_date,\n",
    "        columns = group_cols + [\"shape_array_key\"],\n",
    "        get_pandas = True\n",
    "    )\n",
    "        \n",
    "    df = dd.merge(\n",
    "        rt_trips,\n",
    "        trips,\n",
    "        on = group_cols,\n",
    "        how = \"left\",\n",
    "    )\n",
    "    \n",
    "    return df"
   ]
  },
  {
   "cell_type": "code",
   "execution_count": null,
   "id": "866b83cc-c0d9-4fc5-b794-f995e8b760de",
   "metadata": {},
   "outputs": [],
   "source": [
    "vp_with_sched = (\n",
    "        merge_rt_scheduled_trips(\n",
    "            vp_results, \n",
    "            analysis_date, \n",
    "            group_cols = [\"trip_instance_key\"]\n",
    "        ).sort_values(\"vp_idx\")\n",
    "        .reset_index(drop=True)\n",
    "    )"
   ]
  },
  {
   "cell_type": "code",
   "execution_count": null,
   "id": "8b6f6495-aa13-4452-a2c9-bf8c1f7f49fd",
   "metadata": {},
   "outputs": [],
   "source": [
    "vp_with_sched.head()"
   ]
  },
  {
   "cell_type": "markdown",
   "id": "687e9c19-daf3-4384-942a-947728bb0680",
   "metadata": {
    "tags": []
   },
   "source": [
    "### C3\n",
    "https://github.com/cal-itp/data-analyses/blob/main/rt_segment_speeds/scripts/C3_trip_route_speed.py"
   ]
  },
  {
   "cell_type": "code",
   "execution_count": null,
   "id": "067650b7-5d05-44a5-8ba3-e9006bd33250",
   "metadata": {},
   "outputs": [],
   "source": [
    "vp_with_sched.sample(2)"
   ]
  },
  {
   "cell_type": "code",
   "execution_count": null,
   "id": "78c974a0-51f8-42a0-b256-1d8f7c22482e",
   "metadata": {},
   "outputs": [],
   "source": [
    "c3 = gpd.GeoDataFrame(\n",
    "        vp_with_sched,\n",
    "        geometry = gpd.points_from_xy(vp_with_sched.x, vp_with_sched.y, crs=WGS84)\n",
    "    ).to_crs(PROJECT_CRS).drop(columns = [\"x\", \"y\"])"
   ]
  },
  {
   "cell_type": "code",
   "execution_count": null,
   "id": "757667a0-e377-4afe-a136-7cfaf219f0df",
   "metadata": {},
   "outputs": [],
   "source": [
    "# c3.sample(10).drop(columns = ['location_timestamp_local']).explore('shape_array_key', marker_kwds= {'radius':25})"
   ]
  },
  {
   "cell_type": "code",
   "execution_count": null,
   "id": "23c64d78-3c7f-4b58-9ccd-18159d9e1a4e",
   "metadata": {},
   "outputs": [],
   "source": [
    "shapes_list = c3.shape_array_key.unique().tolist()"
   ]
  },
  {
   "cell_type": "code",
   "execution_count": null,
   "id": "b3bd3c05-7c1d-44e8-afe3-a28a7c6e6190",
   "metadata": {},
   "outputs": [],
   "source": [
    "shapes = helpers.import_scheduled_shapes(\n",
    "        analysis_date,\n",
    "        columns = [\"shape_array_key\",\"geometry\"],\n",
    "        filters = [[(\"shape_array_key\", \"in\", shapes_list)]],\n",
    "        get_pandas = True,\n",
    "        crs = PROJECT_CRS\n",
    "    )"
   ]
  },
  {
   "cell_type": "code",
   "execution_count": null,
   "id": "27c8fff8-f8a7-4906-a3f4-7faac4969bde",
   "metadata": {},
   "outputs": [],
   "source": [
    "c3_m = pd.merge(\n",
    "        c3,\n",
    "        shapes,\n",
    "        on = \"shape_array_key\",\n",
    "        how = \"inner\"\n",
    "    ).rename(columns = {\"geometry_x\": \"vp_geometry\", \n",
    "                        \"geometry_y\": \"shape_geometry\"}\n",
    "            ).set_geometry(\"vp_geometry\")"
   ]
  },
  {
   "cell_type": "code",
   "execution_count": null,
   "id": "7430576e-c571-45de-afb9-500c21336808",
   "metadata": {},
   "outputs": [],
   "source": [
    "shape_meters_geoseries = wrangle_shapes.project_point_geom_onto_linestring(\n",
    "        c3_m,\n",
    "        \"shape_geometry\",\n",
    "        \"vp_geometry\",\n",
    "    )\n"
   ]
  },
  {
   "cell_type": "code",
   "execution_count": null,
   "id": "5163eb06-c65a-4c30-b36c-c31eb01d3fbf",
   "metadata": {},
   "outputs": [],
   "source": [
    "shape_meters_geoseries.head()"
   ]
  },
  {
   "cell_type": "code",
   "execution_count": null,
   "id": "6631d594-78d7-494a-8bd2-86d2b0c19b1f",
   "metadata": {},
   "outputs": [],
   "source": [
    "c3_m[\"shape_meters\"] = shape_meters_geoseries"
   ]
  },
  {
   "cell_type": "code",
   "execution_count": null,
   "id": "f707a0d5-6b52-4c35-bb06-bf8b8f4f69ba",
   "metadata": {},
   "outputs": [],
   "source": [
    "def distance_and_seconds_elapsed(\n",
    "    df: pd.DataFrame, \n",
    "    group_cols: list\n",
    ") -> pd.DataFrame:\n",
    "    \"\"\"\n",
    "    If every trip has 3 vp, we want the change in time and distance\n",
    "    between 1st and 2nd, 2nd and 3rd.\n",
    "    Then, sum up the change in time and change by trip.\n",
    "    \"\"\"\n",
    "    dist_col = \"shape_meters\"\n",
    "    time_col = \"location_timestamp_local\"\n",
    "    sort_cols = group_cols + [\"vp_idx\"]\n",
    "    \n",
    "    # Get the change in distance, time for each row\n",
    "    df = df.assign(\n",
    "        prior_dist = (df.sort_values(sort_cols)\n",
    "                      .groupby(group_cols, \n",
    "                               observed=True, group_keys=False)\n",
    "                      [dist_col]\n",
    "                      .apply(lambda x: x.shift(1))\n",
    "                     ),\n",
    "        prior_time = (df.sort_values(sort_cols)\n",
    "                      .groupby(group_cols, \n",
    "                               observed=True, group_keys=False)\n",
    "                      [time_col]\n",
    "                      .apply(lambda x: x.shift(1))\n",
    "                     )   \n",
    "    )\n",
    "    \n",
    "    # distance should be positive, but sometimes it's not, \n",
    "    # so use absolute value\n",
    "    df = df.assign(\n",
    "        change_meters = abs(df[dist_col] - df.prior_dist),\n",
    "        change_sec = (df[time_col] - df.prior_time).divide(\n",
    "                       np.timedelta64(1, 's'))\n",
    "    )\n",
    "    \n",
    "    # For a trip, sum up the total change in distance and time \n",
    "    # Easier to calculate the speed this way, than\n",
    "    # taking a weighted average later\n",
    "    df2 = (df.groupby(group_cols, \n",
    "                     observed=True, group_keys=False)\n",
    "           .agg({\"change_meters\": \"sum\", \n",
    "                 \"change_sec\": \"sum\"})\n",
    "           .reset_index()\n",
    "          )\n",
    "    \n",
    "    df2 = df2.assign(\n",
    "        speed_mph = (df2.change_meters.divide(df2.change_sec) * \n",
    "                     MPH_PER_MPS)\n",
    "    )\n",
    "    \n",
    "    return df2\n"
   ]
  },
  {
   "cell_type": "code",
   "execution_count": null,
   "id": "1fabd6c3-2687-4137-b943-5d7d8823b392",
   "metadata": {},
   "outputs": [],
   "source": [
    "speed = distance_and_seconds_elapsed(\n",
    "        c3_m,\n",
    "        group_cols = [\"gtfs_dataset_key\", \"trip_instance_key\"]\n",
    "    )\n",
    "    "
   ]
  }
 ],
 "metadata": {
  "kernelspec": {
   "display_name": "Python 3 (ipykernel)",
   "language": "python",
   "name": "python3"
  },
  "language_info": {
   "codemirror_mode": {
    "name": "ipython",
    "version": 3
   },
   "file_extension": ".py",
   "mimetype": "text/x-python",
   "name": "python",
   "nbconvert_exporter": "python",
   "pygments_lexer": "ipython3",
   "version": "3.9.13"
  }
 },
 "nbformat": 4,
 "nbformat_minor": 5
}
