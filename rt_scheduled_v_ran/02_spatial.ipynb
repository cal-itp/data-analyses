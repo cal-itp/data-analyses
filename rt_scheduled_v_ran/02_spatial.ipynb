{
 "cells": [
  {
   "cell_type": "markdown",
   "id": "a3863c86-7f53-4755-8444-534a2f11e59c",
   "metadata": {},
   "source": [
    "## Spatial Accuracy\n",
    "* Based on https://github.com/cal-itp/data-analyses/blob/main/rt_scheduled_v_ran/scripts/vp_spatial_accuracy.py\n",
    "* https://github.com/cal-itp/data-analyses/blob/main/Makefile#L49C2-L49C66"
   ]
  },
  {
   "cell_type": "code",
   "execution_count": null,
   "id": "8de007c5-4cdb-4285-9536-0a5f7b75b2de",
   "metadata": {},
   "outputs": [],
   "source": [
    "import datetime\n",
    "import dask.dataframe as dd\n",
    "import dask_geopandas as dg\n",
    "import dask\n",
    "import geopandas as gpd\n",
    "import pandas as pd\n",
    "from scripts import vp_spatial_accuracy\n",
    "from segment_speed_utils import helpers\n",
    "from calitp_data_analysis.geography_utils import WGS84\n",
    "from segment_speed_utils.project_vars import (\n",
    "    PROJECT_CRS,\n",
    "    SEGMENT_GCS,\n",
    "    analysis_date,\n",
    "    GCS_FILE_PATH,\n",
    "    COMPILED_CACHED_VIEWS,\n",
    "    RT_SCHED_GCS,\n",
    "    CONFIG_PATH\n",
    ")\n",
    "\n",
    "# For speeds\n",
    "from typing import Literal\n",
    "import numpy as np"
   ]
  },
  {
   "cell_type": "code",
   "execution_count": null,
   "id": "c5ba79eb-2d4e-4daa-9de6-3ab657ac0a15",
   "metadata": {},
   "outputs": [],
   "source": [
    "pd.options.display.max_columns = 100\n",
    "pd.options.display.float_format = \"{:.2f}\".format\n",
    "pd.set_option(\"display.max_rows\", None)\n",
    "pd.set_option(\"display.max_colwidth\", None)"
   ]
  },
  {
   "cell_type": "code",
   "execution_count": null,
   "id": "d8c8f895-8b72-413a-8ec2-72e7e0ebf29f",
   "metadata": {},
   "outputs": [],
   "source": [
    "# calitp-analytics-data/data-analyses/rt_segment_speeds/vp_usable_2023-10-11\n",
    "operator = 'Bay Area 511 Muni VehiclePositions'\n",
    "gtfs_key = '7cc0cb1871dfd558f11a2885c145d144'"
   ]
  },
  {
   "cell_type": "markdown",
   "id": "c8c1ffa5-a6c2-496e-ba4f-c1f806f5d74e",
   "metadata": {},
   "source": [
    "### Grab_shape_keys_in_vp"
   ]
  },
  {
   "cell_type": "code",
   "execution_count": null,
   "id": "6bd6833a-7eb4-487a-bb3a-e445a2d1941d",
   "metadata": {},
   "outputs": [],
   "source": [
    "def grab_shape_keys_in_vp(analysis_date: str) -> pd.DataFrame:\n",
    "    \"\"\"\n",
    "    Subset raw vp and find unique trip_instance_keys.\n",
    "    Create crosswalk to link trip_instance_key to shape_array_key.\n",
    "    \"\"\"\n",
    "    vp_trip_df  = pd.read_parquet(f\"{SEGMENT_GCS}vp_usable_{analysis_date}\",\n",
    "        filters = [[('gtfs_dataset_name', \"==\", operator),\n",
    "                   ('schedule_gtfs_dataset_key', '==', gtfs_key)]],\n",
    "        columns = ['trip_instance_key'])\n",
    "    \n",
    "    vp_trip_df  = vp_trip_df.drop_duplicates(subset=\"trip_instance_key\").reset_index(drop = True)\n",
    "    \n",
    "    # Make sure we have a shape geometry too\n",
    "    # otherwise map_partitions will throw error\n",
    "    shapes = pd.read_parquet(\n",
    "        f\"{COMPILED_CACHED_VIEWS}routelines_{analysis_date}.parquet\",\n",
    "        columns = [\"shape_array_key\"],\n",
    "    ).dropna().drop_duplicates()\n",
    "    \n",
    "    trips_with_shape = helpers.import_scheduled_trips(\n",
    "        analysis_date,\n",
    "        columns = [\"trip_instance_key\", \"shape_array_key\"],\n",
    "        get_pandas = True\n",
    "    ).merge(\n",
    "        shapes,\n",
    "        on = \"shape_array_key\",\n",
    "        how = \"inner\"\n",
    "    ).merge(\n",
    "        vp_trip_df,\n",
    "        on = \"trip_instance_key\",\n",
    "        how = \"inner\"\n",
    "    ).drop_duplicates().dropna().reset_index(drop=True)\n",
    "\n",
    "    return trips_with_shape"
   ]
  },
  {
   "cell_type": "code",
   "execution_count": null,
   "id": "8759e976-ea60-4604-945d-1ec9693b0495",
   "metadata": {},
   "outputs": [],
   "source": [
    "trips_with_shape = grab_shape_keys_in_vp(analysis_date)"
   ]
  },
  {
   "cell_type": "code",
   "execution_count": null,
   "id": "bbbc85b4-a588-4f20-9822-eb4d5b4b3723",
   "metadata": {},
   "outputs": [],
   "source": [
    "trips_with_shape.shape"
   ]
  },
  {
   "cell_type": "code",
   "execution_count": null,
   "id": "73eb1609-a76e-415e-b55c-810e125bec4c",
   "metadata": {},
   "outputs": [],
   "source": [
    "# Try usin the original dataset\n",
    "def grab_shape_keys_in_vp2(analysis_date: str) -> pd.DataFrame:\n",
    "    \"\"\"\n",
    "    Subset raw vp and find unique trip_instance_keys.\n",
    "    Create crosswalk to link trip_instance_key to shape_array_key.\n",
    "    \"\"\"\n",
    "    vp_trip_df = pd.read_parquet(f\"{SEGMENT_GCS}vp_{analysis_date}.parquet\",\n",
    "        filters = [[('gtfs_dataset_name', \"==\", operator),\n",
    "                   ('schedule_gtfs_dataset_key', '==', gtfs_key)]])\n",
    "    \n",
    "    vp_trip_df  = vp_trip_df.drop_duplicates(subset=\"trip_instance_key\").reset_index(drop = True)\n",
    "    \n",
    "    # Make sure we have a shape geometry too\n",
    "    # otherwise map_partitions will throw error\n",
    "    shapes = pd.read_parquet(\n",
    "        f\"{COMPILED_CACHED_VIEWS}routelines_{analysis_date}.parquet\",\n",
    "        columns = [\"shape_array_key\"],\n",
    "    ).dropna().drop_duplicates()\n",
    "    \n",
    "    trips_with_shape = helpers.import_scheduled_trips(\n",
    "        analysis_date,\n",
    "        columns = [\"trip_instance_key\", \"shape_array_key\"],\n",
    "        get_pandas = True\n",
    "    ).merge(\n",
    "        shapes,\n",
    "        on = \"shape_array_key\",\n",
    "        how = \"inner\"\n",
    "    ).merge(\n",
    "        vp_trip_df,\n",
    "        on = \"trip_instance_key\",\n",
    "        how = \"inner\"\n",
    "    ).drop_duplicates().dropna().reset_index(drop=True)\n",
    "\n",
    "    return trips_with_shape"
   ]
  },
  {
   "cell_type": "code",
   "execution_count": null,
   "id": "c382e9df-5142-492c-84e2-c4e5156fcb5d",
   "metadata": {},
   "outputs": [],
   "source": [
    "# trips_with_shape_og = grab_shape_keys_in_vp2(analysis_date)"
   ]
  },
  {
   "cell_type": "code",
   "execution_count": null,
   "id": "b8100ff4-6d70-4dfd-a538-a029ab0c74ee",
   "metadata": {},
   "outputs": [],
   "source": [
    "# 9374 rows\n",
    "# trips_with_shape_og.shape"
   ]
  },
  {
   "cell_type": "markdown",
   "id": "8be73ca3-7ca2-4616-9504-7defe86f3792",
   "metadata": {},
   "source": [
    "### Buffer shapes"
   ]
  },
  {
   "cell_type": "code",
   "execution_count": null,
   "id": "ca9923a7-914f-43ce-a840-a15d41b43aee",
   "metadata": {},
   "outputs": [],
   "source": [
    "# This is trips_with_shape_geom\n",
    "trips_with_shape_geom =  vp_spatial_accuracy.buffer_shapes(analysis_date, \n",
    "                                trips_with_shape,\n",
    "                                35)"
   ]
  },
  {
   "cell_type": "code",
   "execution_count": null,
   "id": "2bf1faf1-031a-45c6-9001-675b4be113bd",
   "metadata": {},
   "outputs": [],
   "source": [
    "type(trips_with_shape_geom)"
   ]
  },
  {
   "cell_type": "code",
   "execution_count": null,
   "id": "caf4dd49-4839-475d-99ff-7765ef5fb20a",
   "metadata": {},
   "outputs": [],
   "source": [
    "trips_with_shape_geom.shape"
   ]
  },
  {
   "cell_type": "markdown",
   "id": "902b0475-32c9-4ff7-898a-430b81cffc05",
   "metadata": {},
   "source": [
    "### Actual function"
   ]
  },
  {
   "cell_type": "markdown",
   "id": "0e43b3e9-bb5b-429a-8f9e-0c8cea8d9870",
   "metadata": {},
   "source": [
    "#### Looking at original vp not `vp_usable`\n",
    "* Everything plots correctly"
   ]
  },
  {
   "cell_type": "code",
   "execution_count": null,
   "id": "bd486f0e-d9e7-47df-b144-8db21d9acfe3",
   "metadata": {},
   "outputs": [],
   "source": [
    "stop"
   ]
  },
  {
   "cell_type": "code",
   "execution_count": null,
   "id": "a79147e1-7a7e-4ca6-994b-16a348701a0e",
   "metadata": {},
   "outputs": [],
   "source": [
    "og_vp = dg.read_parquet(f\"{SEGMENT_GCS}vp_{analysis_date}.parquet\",\n",
    "        filters = [[('gtfs_dataset_name', \"==\", operator),\n",
    "                   ('schedule_gtfs_dataset_key', '==', gtfs_key)]])"
   ]
  },
  {
   "cell_type": "code",
   "execution_count": null,
   "id": "e92a237d-200b-4a12-a90a-5b59556283cf",
   "metadata": {},
   "outputs": [],
   "source": [
    "og_vp.head(1)"
   ]
  },
  {
   "cell_type": "code",
   "execution_count": null,
   "id": "0d8dc1a5-4a9b-4506-9f08-a3bbbcea473d",
   "metadata": {},
   "outputs": [],
   "source": [
    "# og_vp[['geometry','trip_instance_key']].head().explore('trip_instance_key',marker_kwds= {'radius':25})"
   ]
  },
  {
   "cell_type": "code",
   "execution_count": null,
   "id": "fe4dfb28-e768-4f56-82a9-405825ede515",
   "metadata": {},
   "outputs": [],
   "source": [
    "og_vp = og_vp.to_crs(PROJECT_CRS)"
   ]
  },
  {
   "cell_type": "code",
   "execution_count": null,
   "id": "4f56cd13-6f80-456c-a087-f4c591a65969",
   "metadata": {},
   "outputs": [],
   "source": [
    "og_vp = og_vp.assign(\n",
    "            x = og_vp.geometry.x,\n",
    "            y = og_vp.geometry.y\n",
    "        ).drop(columns = \"geometry\")"
   ]
  },
  {
   "cell_type": "code",
   "execution_count": null,
   "id": "5de5df69-1ab7-469e-bc9f-2e01d45fb816",
   "metadata": {},
   "outputs": [],
   "source": [
    "type(og_vp)"
   ]
  },
  {
   "cell_type": "code",
   "execution_count": null,
   "id": "47249f03-bf1f-4669-ab7f-af03fc22c479",
   "metadata": {},
   "outputs": [],
   "source": [
    "og_vp = gpd.GeoDataFrame(\n",
    "        og_vp,\n",
    "        geometry = gpd.points_from_xy(og_vp.x, og_vp.y),\n",
    "        crs = PROJECT_CRS\n",
    "    )"
   ]
  },
  {
   "cell_type": "code",
   "execution_count": null,
   "id": "cf8ed103-925d-449a-9969-cfa9d7ff7068",
   "metadata": {},
   "outputs": [],
   "source": [
    "og_vp.columns"
   ]
  },
  {
   "cell_type": "code",
   "execution_count": null,
   "id": "3812e508-e1b1-4ed2-a593-c30508b84bd6",
   "metadata": {},
   "outputs": [],
   "source": [
    "og_vp = og_vp.rename(columns = {\n",
    "    0:'gtfs_dataset_name',\n",
    "    1: 'schedule_gtfs_dataset_key', \n",
    "    2:'trip_id',\n",
    "    3:'trip_instance_key',\n",
    "    4: 'location_timestamp', \n",
    "    5: 'location_timestamp_local',\n",
    "    6:'x',\n",
    "    7:'y', \n",
    "    8:'vp_idx', \n",
    "    9:'gtfs_dataset_key', \n",
    "    10:'vp_dir_xnorm', \n",
    "    11:'vp_dir_ynorm',\n",
    "    12:'vp_primary_direction'})"
   ]
  },
  {
   "cell_type": "code",
   "execution_count": null,
   "id": "f6e22ed1-9b8a-48ba-81c6-0840803c0342",
   "metadata": {},
   "outputs": [],
   "source": [
    "og_vp.columns"
   ]
  },
  {
   "cell_type": "code",
   "execution_count": null,
   "id": "0e02ccc9-efc5-4012-83be-2b21cb19379e",
   "metadata": {},
   "outputs": [],
   "source": [
    "# og_vp[['trip_instance_key','geometry','x','y']].head(5).explore('trip_instance_key',marker_kwds= {'radius':25})"
   ]
  },
  {
   "cell_type": "code",
   "execution_count": null,
   "id": "78bf9df6-afc3-467d-bec9-5a4ac1ae7597",
   "metadata": {},
   "outputs": [],
   "source": [
    "og_vp2 = pd.merge(\n",
    "        og_vp,\n",
    "        buffered_shapes,\n",
    "        on = \"trip_instance_key\",\n",
    "        how = \"inner\"\n",
    "    ).reset_index(drop=True)"
   ]
  },
  {
   "cell_type": "code",
   "execution_count": null,
   "id": "69de6f62-7905-49fe-ab45-55a9c78ff732",
   "metadata": {},
   "outputs": [],
   "source": [
    "total_og_vp2 = vp_spatial_accuracy.total_vp_counts_by_trip(og_vp2)"
   ]
  },
  {
   "cell_type": "code",
   "execution_count": null,
   "id": "965cf222-cec0-4389-b453-a0b81dfff6b3",
   "metadata": {},
   "outputs": [],
   "source": [
    "og_vp2 = og_vp2.assign(\n",
    "        is_within = og_vp2.geometry_x.within(og_vp2.geometry_y)\n",
    "    ).query('is_within==True')"
   ]
  },
  {
   "cell_type": "code",
   "execution_count": null,
   "id": "6e008645-d3b3-4f05-be15-0dd52d307562",
   "metadata": {},
   "outputs": [],
   "source": [
    "og_vp2.is_within.value_counts()"
   ]
  },
  {
   "cell_type": "markdown",
   "id": "1af0ea62-3979-449e-a83a-5c4b0a67d687",
   "metadata": {},
   "source": [
    "#### Use vp_usable"
   ]
  },
  {
   "cell_type": "code",
   "execution_count": null,
   "id": "3cab0ba7-74a1-40c1-b22c-d257a24de9b0",
   "metadata": {},
   "outputs": [],
   "source": [
    "vp = dd.read_parquet(f\"{SEGMENT_GCS}vp_usable_{analysis_date}\",\n",
    "        filters = [[('gtfs_dataset_name', \"==\", operator),\n",
    "                   ('schedule_gtfs_dataset_key', '==', gtfs_key)]])"
   ]
  },
  {
   "cell_type": "code",
   "execution_count": null,
   "id": "eb1cbdc7-0761-4c90-aa50-044cc703112f",
   "metadata": {},
   "outputs": [],
   "source": [
    "total_vp_test = vp_spatial_accuracy.total_vp_counts_by_trip(vp)"
   ]
  },
  {
   "cell_type": "code",
   "execution_count": null,
   "id": "53cce310-9980-4108-8f76-2f03ada2b860",
   "metadata": {},
   "outputs": [],
   "source": [
    "total_vp_test.head()"
   ]
  },
  {
   "cell_type": "code",
   "execution_count": null,
   "id": "b0b7b059-c216-4730-b53e-bafb27e018fd",
   "metadata": {},
   "outputs": [],
   "source": [
    "len(total_vp_test)"
   ]
  },
  {
   "cell_type": "markdown",
   "id": "73c4f74e-67d3-4074-be0c-42aa332f7410",
   "metadata": {},
   "source": [
    "* For some reason the only point that shows up is all the way in Stanislaus County no matter what"
   ]
  },
  {
   "cell_type": "code",
   "execution_count": null,
   "id": "fe678f2f-651f-4f40-a1ab-29f9fd460ae3",
   "metadata": {},
   "outputs": [],
   "source": [
    "vp.head(2)"
   ]
  },
  {
   "cell_type": "code",
   "execution_count": null,
   "id": "45e66913-a7a6-4568-af5b-980c9ade943e",
   "metadata": {},
   "outputs": [],
   "source": [
    "# WGS84"
   ]
  },
  {
   "cell_type": "code",
   "execution_count": null,
   "id": "b6e5c86c-82a0-4612-979e-f4713e56696e",
   "metadata": {},
   "outputs": [],
   "source": [
    "vp_gdf = gpd.GeoDataFrame(\n",
    "        vp,\n",
    "        geometry = gpd.points_from_xy(vp.x, vp.y),\n",
    "        crs = WGS84\n",
    "    ).to_crs(PROJECT_CRS)"
   ]
  },
  {
   "cell_type": "code",
   "execution_count": null,
   "id": "d556c591-3686-4462-b5a9-432b772c7da3",
   "metadata": {},
   "outputs": [],
   "source": [
    "vp_gdf = vp_gdf.rename(columns = {\n",
    "    0:'gtfs_dataset_name',\n",
    "    1: 'schedule_gtfs_dataset_key', \n",
    "    2:'trip_id',\n",
    "    3:'trip_instance_key',\n",
    "    4: 'location_timestamp', \n",
    "    5: 'location_timestamp_local',\n",
    "    6:'x',\n",
    "    7:'y', \n",
    "    8:'vp_idx', \n",
    "    9:'gtfs_dataset_key', \n",
    "    10:'vp_dir_xnorm', \n",
    "    11:'vp_dir_ynorm',\n",
    "    12:'vp_primary_direction'})"
   ]
  },
  {
   "cell_type": "code",
   "execution_count": null,
   "id": "c2d389a3-6176-4dd1-8558-cb50ba4d574c",
   "metadata": {},
   "outputs": [],
   "source": [
    "# vp_gdf[['trip_instance_key','geometry','x','y']].tail(10).explore('trip_instance_key',marker_kwds= {'radius':25})"
   ]
  },
  {
   "cell_type": "code",
   "execution_count": null,
   "id": "86a2dfab-c2e2-4867-b3a1-84cb6ebf1b25",
   "metadata": {},
   "outputs": [],
   "source": [
    "# Testing to make sure the two CRS look the same\n",
    "# vp_gdf = vp_gdf.to_crs(PROJECT_CRS)"
   ]
  },
  {
   "cell_type": "code",
   "execution_count": null,
   "id": "0e1bfcc5-6a7d-497e-8b10-a84a7f483433",
   "metadata": {},
   "outputs": [],
   "source": [
    "# vp_gdf[['trip_instance_key','geometry','x','y']].tail(10).explore('trip_instance_key',marker_kwds= {'radius':25})"
   ]
  },
  {
   "cell_type": "markdown",
   "id": "ee0cb726-d271-4657-ae27-e6513631c430",
   "metadata": {
    "tags": []
   },
   "source": [
    "#### Troubleshoot: not all vp_idx appear on `og_vp` versus the `vp_usable`."
   ]
  },
  {
   "cell_type": "code",
   "execution_count": null,
   "id": "812427a0-8b0c-41ac-990c-8c522f5649f1",
   "metadata": {},
   "outputs": [],
   "source": [
    "analysis_date"
   ]
  },
  {
   "cell_type": "code",
   "execution_count": null,
   "id": "f72e2b5e-7d6d-4c9f-b671-948a805d2129",
   "metadata": {},
   "outputs": [],
   "source": [
    "# Try some other dates\n",
    "march = '2023-03-15'\n",
    "may = '2023-05-17'\n",
    "july = '2023-07-12'\n",
    "sept = '2023-09-13'"
   ]
  },
  {
   "cell_type": "code",
   "execution_count": null,
   "id": "1e297b9e-88fc-4a01-a838-d768dea82d86",
   "metadata": {},
   "outputs": [],
   "source": [
    "# pd.read_parquet(f\"{SEGMENT_GCS}vp_{march}.parquet\").sample(1)"
   ]
  },
  {
   "cell_type": "code",
   "execution_count": null,
   "id": "1782db7d-bf33-4302-8dd6-c7d56bd3b548",
   "metadata": {},
   "outputs": [],
   "source": [
    "# pd.read_parquet(f\"{SEGMENT_GCS}vp_{may}.parquet\").sample(1)"
   ]
  },
  {
   "cell_type": "code",
   "execution_count": null,
   "id": "4f251e06-6e82-400a-bd78-d0e33b1fc818",
   "metadata": {},
   "outputs": [],
   "source": [
    "# pd.read_parquet(f\"{SEGMENT_GCS}vp_{july}.parquet\").sample(1)"
   ]
  },
  {
   "cell_type": "code",
   "execution_count": null,
   "id": "c6d3bec5-8085-4738-b712-8bf930139fc8",
   "metadata": {},
   "outputs": [],
   "source": [
    "# pd.read_parquet(f\"{SEGMENT_GCS}vp_{sept}.parquet\").sample(1)"
   ]
  },
  {
   "cell_type": "code",
   "execution_count": null,
   "id": "35368b70-5797-4f8b-a29e-e0714ad3d0e6",
   "metadata": {},
   "outputs": [],
   "source": [
    "#vp_usable_vps = set(vp_gdf.vp_idx.unique().tolist())\n",
    "#og_vp_vps = set(og_vp.vp_idx.unique().tolist())\n",
    "#len(vp_usable_vps - og_vp_vps)"
   ]
  },
  {
   "cell_type": "code",
   "execution_count": null,
   "id": "66aedcbc-90f1-4e19-acda-fd4f1bc1e701",
   "metadata": {},
   "outputs": [],
   "source": [
    "#len(vp_usable_vps), len(og_vp_vps)"
   ]
  },
  {
   "cell_type": "code",
   "execution_count": null,
   "id": "295014d8-0073-4693-9c20-f3762c37782b",
   "metadata": {},
   "outputs": [],
   "source": [
    "#len(og_vp)-len(vp_gdf)"
   ]
  },
  {
   "cell_type": "code",
   "execution_count": null,
   "id": "499d16d5-457c-4e7f-9a0e-b10e242a483c",
   "metadata": {},
   "outputs": [],
   "source": [
    "#len(og_vp), len(vp_gdf)"
   ]
  },
  {
   "cell_type": "code",
   "execution_count": null,
   "id": "868fe401-bd97-443e-ae87-6c28d03fe644",
   "metadata": {},
   "outputs": [],
   "source": [
    "# Can't find the same vp_idx?? \n",
    "#og_vp.loc[og_vp.vp_idx == \"11412288\"]"
   ]
  },
  {
   "cell_type": "code",
   "execution_count": null,
   "id": "891d19fa-8482-44b3-9a1f-c5ae017c7829",
   "metadata": {},
   "outputs": [],
   "source": [
    "#og_vp.loc[og_vp.vp_idx == \"11412289\"]"
   ]
  },
  {
   "cell_type": "code",
   "execution_count": null,
   "id": "a20dc7e9-fd68-412d-a1c2-312655d6c456",
   "metadata": {},
   "outputs": [],
   "source": [
    "#vp_gdf.head(2)"
   ]
  },
  {
   "cell_type": "code",
   "execution_count": null,
   "id": "f25873cc-131d-4c07-be98-5b82f5a30a90",
   "metadata": {},
   "outputs": [],
   "source": [
    "# vp_gdf[['trip_instance_key','geometry','x','y']].sample(10).explore('trip_instance_key',marker_kwds= {'radius':25})"
   ]
  },
  {
   "cell_type": "markdown",
   "id": "f7a85cad-a636-4b15-80c0-3a510a32000b",
   "metadata": {},
   "source": [
    "##### Delete out `vp_idx` in October"
   ]
  },
  {
   "cell_type": "code",
   "execution_count": null,
   "id": "da845a0d-8c11-43f2-be64-3e8ade261eab",
   "metadata": {},
   "outputs": [],
   "source": [
    "og_vp = gpd.read_parquet(f\"{SEGMENT_GCS}vp_{analysis_date}.parquet\")"
   ]
  },
  {
   "cell_type": "code",
   "execution_count": null,
   "id": "a064dc32-c486-40d7-8249-b1dd907fdc28",
   "metadata": {},
   "outputs": [],
   "source": [
    "og_vp.head(2)"
   ]
  },
  {
   "cell_type": "code",
   "execution_count": null,
   "id": "b463fb1f-606a-48c1-8819-5a77b99fa0b9",
   "metadata": {},
   "outputs": [],
   "source": [
    "og_vp.gtfs_dataset_name.nunique()"
   ]
  },
  {
   "cell_type": "code",
   "execution_count": null,
   "id": "50468d53-b145-4e29-9a30-931fb272324c",
   "metadata": {},
   "outputs": [],
   "source": [
    "og_vp.shape"
   ]
  },
  {
   "cell_type": "markdown",
   "id": "9241a4d7-1181-449e-a13d-b6cb0c02516f",
   "metadata": {},
   "source": [
    "#### Continuing on with the function"
   ]
  },
  {
   "cell_type": "code",
   "execution_count": null,
   "id": "f2f87ddc-701d-4e65-aeef-c084a3264a78",
   "metadata": {},
   "outputs": [],
   "source": [
    "vp2 = pd.merge(\n",
    "        vp_gdf,\n",
    "        buffered_shapes,\n",
    "        on = \"trip_instance_key\",\n",
    "        how = \"inner\"\n",
    "    ).reset_index(drop=True)"
   ]
  },
  {
   "cell_type": "code",
   "execution_count": null,
   "id": "a513ff66-be33-4c18-b328-36815782d23e",
   "metadata": {},
   "outputs": [],
   "source": [
    "type(vp2)"
   ]
  },
  {
   "cell_type": "code",
   "execution_count": null,
   "id": "79e6d31e-125f-4cb2-b2bc-bcf68d5ed5d9",
   "metadata": {},
   "outputs": [],
   "source": [
    "total_vp = vp_spatial_accuracy.total_vp_counts_by_trip(vp2)"
   ]
  },
  {
   "cell_type": "code",
   "execution_count": null,
   "id": "8c5af85d-8259-4c68-ae70-d3347bee4671",
   "metadata": {},
   "outputs": [],
   "source": [
    "total_vp[['total_vp']].sample(5)"
   ]
  },
  {
   "cell_type": "code",
   "execution_count": null,
   "id": "ede6f3ec-d6b4-4638-90d4-6f0b578b6463",
   "metadata": {},
   "outputs": [],
   "source": [
    "vp2 = vp2.assign(\n",
    "       is_within = vp2.geometry_x.within(vp2.geometry_y)\n",
    "  )"
   ]
  },
  {
   "cell_type": "code",
   "execution_count": null,
   "id": "19bf53ac-bcfe-419b-8bfd-dad75e186aba",
   "metadata": {},
   "outputs": [],
   "source": [
    "# Out of curiousity\n",
    "vp2[['is_within']].value_counts()"
   ]
  },
  {
   "cell_type": "code",
   "execution_count": null,
   "id": "4ff235d6-e2dd-4070-84e9-d9e6164cad8f",
   "metadata": {},
   "outputs": [],
   "source": [
    "\n",
    "vp2 = vp2.query('is_within==True')"
   ]
  },
  {
   "cell_type": "code",
   "execution_count": null,
   "id": "947b0947-1462-4014-98b6-df15fd4088b8",
   "metadata": {},
   "outputs": [],
   "source": [
    "vps_in_shape = (vp2.groupby(\"trip_instance_key\", \n",
    "                                observed = True, group_keys = False)\n",
    "                    .agg({\"location_timestamp_local\": \"count\"})\n",
    "                    .reset_index()\n",
    "                    .rename(columns = {\"location_timestamp_local\": \"vp_in_shape\"})\n",
    "                   )\n",
    "        "
   ]
  },
  {
   "cell_type": "code",
   "execution_count": null,
   "id": "085f2991-0b96-4b17-8a4d-06643db02c03",
   "metadata": {},
   "outputs": [],
   "source": [
    "count_df = pd.merge(\n",
    "        total_vp,\n",
    "        vps_in_shape,\n",
    "        on = \"trip_instance_key\",\n",
    "        how = \"left\"\n",
    "    )"
   ]
  },
  {
   "cell_type": "code",
   "execution_count": null,
   "id": "6855c6b9-009f-4c84-a7b4-64f24bf3449b",
   "metadata": {},
   "outputs": [],
   "source": [
    "count_df.shape"
   ]
  },
  {
   "cell_type": "code",
   "execution_count": null,
   "id": "54564279-910a-49dd-841c-585fb29c51e0",
   "metadata": {},
   "outputs": [],
   "source": [
    "count_df.head()"
   ]
  },
  {
   "cell_type": "markdown",
   "id": "dad88d7b-567c-4039-a709-58e8afb82c06",
   "metadata": {
    "tags": []
   },
   "source": [
    "### Function"
   ]
  },
  {
   "cell_type": "code",
   "execution_count": null,
   "id": "beaddbc2-fd11-4021-bdf0-7eea81835226",
   "metadata": {},
   "outputs": [],
   "source": [
    "vp = dd.read_parquet(f\"{SEGMENT_GCS}vp_usable_{analysis_date}\",\n",
    "        filters = [[('gtfs_dataset_name', \"==\", operator),\n",
    "                   ('schedule_gtfs_dataset_key', '==', gtfs_key)]])"
   ]
  },
  {
   "cell_type": "code",
   "execution_count": null,
   "id": "79fe772c-74db-49e7-b41d-e1daa3f23ee3",
   "metadata": {},
   "outputs": [],
   "source": [
    "def merge_vp_with_shape_and_count(\n",
    "    vp: dd.DataFrame,\n",
    "    trips_with_shape_geom: gpd.GeoDataFrame\n",
    ") -> gpd.GeoDataFrame:\n",
    "    \"\"\"\n",
    "    Merge vp with crosswalk and buffered shapes.\n",
    "    Get vp count totals and vp within shape.\n",
    "    \"\"\"\n",
    "    vp_gdf = gpd.GeoDataFrame(\n",
    "        vp,\n",
    "        geometry = gpd.points_from_xy(vp.x, vp.y),\n",
    "        crs = WGS84\n",
    "    ).to_crs(PROJECT_CRS)\n",
    "    \n",
    "    vp_gdf = vp_gdf.rename(columns = {\n",
    "    0:'gtfs_dataset_name',\n",
    "    1: 'schedule_gtfs_dataset_key', \n",
    "    2:'trip_id',\n",
    "    3:'trip_instance_key',\n",
    "    4: 'location_timestamp', \n",
    "    5: 'location_timestamp_local',\n",
    "    6:'x',\n",
    "    7:'y', \n",
    "    8:'vp_idx', \n",
    "    9:'gtfs_dataset_key', \n",
    "    10:'vp_dir_xnorm', \n",
    "    11:'vp_dir_ynorm',\n",
    "    12:'vp_primary_direction'})\n",
    "    \n",
    "    vp2 = pd.merge(\n",
    "        vp_gdf,\n",
    "        trips_with_shape_geom,\n",
    "        on = \"trip_instance_key\",\n",
    "        how = \"inner\"\n",
    "    ).reset_index(drop=True)\n",
    "    \n",
    "    total_vp = vp_spatial_accuracy.total_vp_counts_by_trip(vp2)\n",
    "    \n",
    "    vp2 = vp2.assign(\n",
    "        is_within = vp2.geometry_x.within(vp2.geometry_y)\n",
    "    ).query('is_within==True')\n",
    "    \n",
    "    vps_in_shape = (vp2.groupby(\"trip_instance_key\", \n",
    "                                observed = True, group_keys = False)\n",
    "                    .agg({\"location_timestamp_local\": \"count\"})\n",
    "                    .reset_index()\n",
    "                    .rename(columns = {\"location_timestamp_local\": \"vp_in_shape\"})\n",
    "                   )\n",
    "        \n",
    "    count_df = pd.merge(\n",
    "        total_vp,\n",
    "        vps_in_shape,\n",
    "        on = \"trip_instance_key\",\n",
    "        how = \"left\"\n",
    "    )\n",
    "    \n",
    "    count_df = count_df.assign(\n",
    "        vp_in_shape = count_df.vp_in_shape.fillna(0).astype(\"int32\"),\n",
    "        total_vp = count_df.total_vp.fillna(0).astype(\"int32\")\n",
    "    )\n",
    "    \n",
    "    return count_df"
   ]
  },
  {
   "cell_type": "code",
   "execution_count": null,
   "id": "561287f4-8189-441c-881c-1f34fc43e7d5",
   "metadata": {},
   "outputs": [],
   "source": [
    "muni = merge_vp_with_shape_and_count(vp, trips_with_shape_geom)"
   ]
  },
  {
   "cell_type": "code",
   "execution_count": null,
   "id": "87d7bfb5-8438-4af1-9582-969defcff853",
   "metadata": {},
   "outputs": [],
   "source": [
    "muni.sample(10)"
   ]
  },
  {
   "cell_type": "markdown",
   "id": "3b61450e-528c-4dab-9582-2bda3343e379",
   "metadata": {},
   "source": [
    "## How many minutes a trip took and the average speeds?\n",
    "* Temporary place until I move the spatial stuff out\n",
    "* https://github.com/cal-itp/data-analyses/blob/main/rt_segment_speeds/scripts/C2_triangulate_vp.py"
   ]
  },
  {
   "cell_type": "code",
   "execution_count": null,
   "id": "b2e0fa2d-089d-49a5-ab20-a8ef65925795",
   "metadata": {},
   "outputs": [],
   "source": [
    "# Only use the trips with shapes.\n",
    "relevant_trips = list(muni.trip_instance_key.unique())"
   ]
  },
  {
   "cell_type": "code",
   "execution_count": null,
   "id": "36afb7b1-04f9-494b-a4d8-f85ddadc785b",
   "metadata": {},
   "outputs": [],
   "source": [
    "type(muni)"
   ]
  },
  {
   "cell_type": "code",
   "execution_count": null,
   "id": "a6d981cf-cb48-49c5-9d2a-a80644bb67df",
   "metadata": {},
   "outputs": [],
   "source": [
    "len(relevant_trips)"
   ]
  },
  {
   "cell_type": "code",
   "execution_count": null,
   "id": "230a0037-2a0d-48a0-950b-e191ab34deb3",
   "metadata": {},
   "outputs": [],
   "source": [
    "# Test if I can filter for relevant trips\n",
    "# Yes, can filter for only relevant trips up here? \n",
    "# https://github.com/cal-itp/data-analyses/blob/main/rt_scheduled_v_ran/scripts/vp_spatial_accuracy.py#L190-L193\n",
    "trips_with_shape_trips = set(trips_with_shape.trip_instance_key.unique().tolist())\n",
    "muni_trips = set(muni.trip_instance_key.unique().tolist())\n",
    "trips_with_shape_trips - muni_trips"
   ]
  },
  {
   "cell_type": "code",
   "execution_count": null,
   "id": "17c5a52a-bedb-4232-aa38-5a9e5adb356d",
   "metadata": {},
   "outputs": [],
   "source": [
    "muni_trips - trips_with_shape_trips"
   ]
  },
  {
   "cell_type": "code",
   "execution_count": null,
   "id": "88b571f2-624c-47aa-a154-286902fa4a96",
   "metadata": {},
   "outputs": [],
   "source": [
    "vp_filtered = dd.read_parquet(f\"{SEGMENT_GCS}vp_usable_{analysis_date}\",\n",
    "        filters = [[('gtfs_dataset_name', \"==\", operator),\n",
    "                   ('schedule_gtfs_dataset_key', '==', gtfs_key),\n",
    "                    ('trip_instance_key', 'in', relevant_trips)]])"
   ]
  },
  {
   "cell_type": "code",
   "execution_count": null,
   "id": "89eaf6b5-d441-4d0d-9a02-4a17ce1b7c4e",
   "metadata": {},
   "outputs": [],
   "source": [
    "# len(vp_filtered)"
   ]
  },
  {
   "cell_type": "code",
   "execution_count": null,
   "id": "875978d8-6168-4f52-b101-91e09b6a099d",
   "metadata": {},
   "outputs": [],
   "source": [
    "# vp_filtered[['trip_instance_key']].compute().nunique()"
   ]
  },
  {
   "cell_type": "markdown",
   "id": "cc99b0d1-4528-44ee-8eed-419ceaef779b",
   "metadata": {},
   "source": [
    "### Stop_seg_dict\n",
    "* Also no more `grouping_col`? https://github.com/cal-itp/data-analyses/blob/main/rt_segment_speeds/scripts/C2_triangulate_vp.py#L94\n",
    "    * https://github.com/cal-itp/data-analyses/blob/main/rt_segment_speeds/scripts/config.yml\n",
    "* How to use function from `rt_segment_speeds/scripts/A3_valid_vehicle_positions.py`?"
   ]
  },
  {
   "cell_type": "code",
   "execution_count": null,
   "id": "4eaf588f-4301-4c09-935d-feb6d657063b",
   "metadata": {},
   "outputs": [],
   "source": [
    "# Not working\n",
    "# STOP_SEG_DICT = helpers.get_parameters('/rt_segment_speeds/scripts/config.yml', \"stop_segments\")"
   ]
  },
  {
   "cell_type": "code",
   "execution_count": null,
   "id": "b0e09067-fe06-4e17-8995-36dbcf813399",
   "metadata": {},
   "outputs": [],
   "source": [
    "def merge_usable_vp_with_sjoin_vpidx(\n",
    "    usable_vp_file: str,\n",
    "    sjoin_results_file: str,\n",
    "    sjoin_filtering: tuple = None,\n",
    "    **kwargs\n",
    ") -> dd.DataFrame:\n",
    "    \"\"\"\n",
    "    Grab all the usable vp (with lat/lon columns), filter it down to\n",
    "    normal or special cases, and merge it\n",
    "    against the sjoin results (which only has vp_idx + segment_identifier_cols).\n",
    "    \"\"\"\n",
    "    # First, grab all the usable vp (with lat/lon columns)\n",
    "    usable_vp = dd.read_parquet(\n",
    "        f\"{SEGMENT_GCS}{usable_vp_file}\", \n",
    "        **kwargs\n",
    "    ).repartition(npartitions=100)\n",
    "            \n",
    "    # Grab our results of vp_idx joined to segments\n",
    "    vp_to_seg = dd.read_parquet(\n",
    "        f\"{SEGMENT_GCS}vp_sjoin/{sjoin_results_file}\",\n",
    "        filters = sjoin_filtering,\n",
    "    )\n",
    "    \n",
    "    usable_vp_full_info = dd.merge(\n",
    "        usable_vp,\n",
    "        vp_to_seg,\n",
    "        on = \"vp_idx\",\n",
    "        how = \"inner\"\n",
    "    )\n",
    "    \n",
    "    return usable_vp_full_info"
   ]
  },
  {
   "cell_type": "code",
   "execution_count": null,
   "id": "693ecca2-d4a9-46d2-9bbf-0b982508017b",
   "metadata": {},
   "outputs": [],
   "source": [
    "temp_dict = {\n",
    "    'stage1': \"vp_usable\",\n",
    "    'stage2': \"nearest_vp\",\n",
    "    'stage3': \"stop_arrivals\",\n",
    "    'stage4': \"speed_stop_segments\",\n",
    "    'segment_identifier_cols': [\"shape_array_key\", \"stop_sequence\"],\n",
    "   'timestamp_col': \"location_timestamp_local\",\n",
    "    'time_min_cutoff': 10,\n",
    "    'pct_segment_minimum': 0.3}"
   ]
  },
  {
   "cell_type": "code",
   "execution_count": null,
   "id": "1f04c15e-a261-4262-a287-6affcbd7676e",
   "metadata": {},
   "outputs": [],
   "source": [
    "temp_dict['stage1']"
   ]
  },
  {
   "cell_type": "code",
   "execution_count": null,
   "id": "51125bc7-1042-43cd-9763-8b9c11580092",
   "metadata": {},
   "outputs": [],
   "source": [
    "def subset_usable_vp(usable_vp_w_shapes:pd.DataFrame, dict_inputs: dict) -> np.ndarray:\n",
    "    \"\"\"\n",
    "    Subset all the usable vp and keep a sample of triangulated\n",
    "    vp per trip.\n",
    "    \"\"\"\n",
    "    SEGMENT_FILE = f'{dict_inputs[\"segments_file\"]}_{analysis_date}'\n",
    "    SJOIN_FILE = f'{dict_inputs[\"stage2\"]}_{analysis_date}'\n",
    "    # USABLE_FILE = f'{dict_inputs[\"stage1\"]}_{analysis_date}'\n",
    "    GROUPING_COL = dict_inputs[\"segment_identifier_cols\"]\n",
    "    \n",
    "    all_shapes = pd.read_parquet(\n",
    "        f\"{SEGMENT_GCS}{SEGMENT_FILE}.parquet\",\n",
    "        columns = [\"shape_array_key\"]\n",
    "    ).shape_array_key.unique().tolist()\n",
    "    \n",
    "    # Use this function to attach the crosswalk of sjoin results\n",
    "    # back to usable_vp\n",
    "    ddf = merge_usable_vp_with_sjoin_vpidx(\n",
    "        usable_vp_w_shapes,\n",
    "        SJOIN_FILE,\n",
    "        sjoin_filtering = [(GROUPING_COL, \"in\", all_shapes)],\n",
    "        columns = [\"trip_instance_key\", \"vp_idx\"]\n",
    "    )\n",
    "    \n",
    "    # Results are just vp_idx as np array\n",
    "    results = triangulate_vp(\n",
    "        ddf, \n",
    "        [\"trip_instance_key\"]\n",
    "    )\n",
    "    \n",
    "    return results"
   ]
  },
  {
   "cell_type": "code",
   "execution_count": null,
   "id": "de7fba7a-6796-4e64-884c-55d636be2c12",
   "metadata": {},
   "outputs": [],
   "source": [
    "results = subset_usable_vp(muni, temp_dict)"
   ]
  }
 ],
 "metadata": {
  "kernelspec": {
   "display_name": "Python 3 (ipykernel)",
   "language": "python",
   "name": "python3"
  },
  "language_info": {
   "codemirror_mode": {
    "name": "ipython",
    "version": 3
   },
   "file_extension": ".py",
   "mimetype": "text/x-python",
   "name": "python",
   "nbconvert_exporter": "python",
   "pygments_lexer": "ipython3",
   "version": "3.9.13"
  }
 },
 "nbformat": 4,
 "nbformat_minor": 5
}
