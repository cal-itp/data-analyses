{
 "cells": [
  {
   "cell_type": "markdown",
   "id": "c410afe6-22d7-4546-817c-fea818954108",
   "metadata": {},
   "source": [
    "# Migrate to VP Usable\n",
    "* https://github.com/cal-itp/data-analyses/issues/936\n",
    "* cd rt_segment_speeds && pip install -r requirements.txt && cd ..\n",
    "    * https://github.com/cal-itp/data-analyses/blob/main/Makefile#L49C2-L49C66\n",
    "    "
   ]
  },
  {
   "cell_type": "code",
   "execution_count": 1,
   "id": "8de007c5-4cdb-4285-9536-0a5f7b75b2de",
   "metadata": {},
   "outputs": [],
   "source": [
    "import datetime\n",
    "import dask.dataframe as dd\n",
    "import dask_geopandas as dg\n",
    "import dask\n",
    "import geopandas as gpd\n",
    "import pandas as pd\n",
    "from scripts import vp_spatial_accuracy\n",
    "from segment_speed_utils import helpers\n",
    "from calitp_data_analysis.geography_utils import WGS84\n",
    "from segment_speed_utils.project_vars import (\n",
    "    PROJECT_CRS,\n",
    "    SEGMENT_GCS,\n",
    "    analysis_date,\n",
    "    GCS_FILE_PATH,\n",
    "    COMPILED_CACHED_VIEWS,\n",
    "    RT_SCHED_GCS,\n",
    "    CONFIG_PATH\n",
    ")\n",
    "\n",
    "# For speeds c2\n",
    "from typing import Literal\n",
    "import numpy as np\n",
    "\n",
    "# for speeds c3\n",
    "# also import numpy \n",
    "from shared_utils.rt_utils import MPH_PER_MPS\n",
    "from calitp_data_analysis import utils\n",
    "from shared_utils import portfolio_utils, schedule_rt_utils\n",
    "from segment_speed_utils import helpers, sched_rt_utils, wrangle_shapes, segment_calcs"
   ]
  },
  {
   "cell_type": "code",
   "execution_count": 2,
   "id": "c5ba79eb-2d4e-4daa-9de6-3ab657ac0a15",
   "metadata": {},
   "outputs": [],
   "source": [
    "pd.options.display.max_columns = 100\n",
    "pd.options.display.float_format = \"{:.2f}\".format\n",
    "pd.set_option(\"display.max_rows\", None)\n",
    "pd.set_option(\"display.max_colwidth\", None)"
   ]
  },
  {
   "cell_type": "code",
   "execution_count": 3,
   "id": "d8c8f895-8b72-413a-8ec2-72e7e0ebf29f",
   "metadata": {},
   "outputs": [],
   "source": [
    "# calitp-analytics-data/data-analyses/rt_segment_speeds/vp_usable_2023-10-11\n",
    "operator = 'Bay Area 511 Muni VehiclePositions'\n",
    "gtfs_key = '7cc0cb1871dfd558f11a2885c145d144'"
   ]
  },
  {
   "cell_type": "markdown",
   "id": "a3863c86-7f53-4755-8444-534a2f11e59c",
   "metadata": {},
   "source": [
    "## Spatial Accuracy\n",
    "* Based on https://github.com/cal-itp/data-analyses/blob/main/rt_scheduled_v_ran/scripts/vp_spatial_accuracy.py\n",
    "### Grab_shape_keys_in_vp"
   ]
  },
  {
   "cell_type": "code",
   "execution_count": 4,
   "id": "6bd6833a-7eb4-487a-bb3a-e445a2d1941d",
   "metadata": {},
   "outputs": [],
   "source": [
    "def grab_shape_keys_in_vp(analysis_date: str) -> pd.DataFrame:\n",
    "    \"\"\"\n",
    "    Subset raw vp and find unique trip_instance_keys.\n",
    "    Create crosswalk to link trip_instance_key to shape_array_key.\n",
    "    \"\"\"\n",
    "    vp_trip_df  = pd.read_parquet(f\"{SEGMENT_GCS}vp_usable_{analysis_date}\",\n",
    "        filters = [[('gtfs_dataset_name', \"==\", operator),\n",
    "                   ('schedule_gtfs_dataset_key', '==', gtfs_key)]],\n",
    "        columns = ['trip_instance_key'])\n",
    "    \n",
    "    vp_trip_df  = vp_trip_df.drop_duplicates(subset=\"trip_instance_key\").reset_index(drop = True)\n",
    "    \n",
    "    # Make sure we have a shape geometry too\n",
    "    # otherwise map_partitions will throw error\n",
    "    shapes = pd.read_parquet(\n",
    "        f\"{COMPILED_CACHED_VIEWS}routelines_{analysis_date}.parquet\",\n",
    "        columns = [\"shape_array_key\"],\n",
    "    ).dropna().drop_duplicates()\n",
    "    \n",
    "    trips_with_shape = helpers.import_scheduled_trips(\n",
    "        analysis_date,\n",
    "        columns = [\"trip_instance_key\", \"shape_array_key\"],\n",
    "        get_pandas = True\n",
    "    ).merge(\n",
    "        shapes,\n",
    "        on = \"shape_array_key\",\n",
    "        how = \"inner\"\n",
    "    ).merge(\n",
    "        vp_trip_df,\n",
    "        on = \"trip_instance_key\",\n",
    "        how = \"inner\"\n",
    "    ).drop_duplicates().dropna().reset_index(drop=True)\n",
    "\n",
    "    return trips_with_shape"
   ]
  },
  {
   "cell_type": "code",
   "execution_count": 5,
   "id": "8759e976-ea60-4604-945d-1ec9693b0495",
   "metadata": {},
   "outputs": [],
   "source": [
    "trips_with_shape = grab_shape_keys_in_vp(analysis_date)"
   ]
  },
  {
   "cell_type": "code",
   "execution_count": 6,
   "id": "bbbc85b4-a588-4f20-9822-eb4d5b4b3723",
   "metadata": {},
   "outputs": [
    {
     "data": {
      "text/plain": [
       "(9240, 2)"
      ]
     },
     "execution_count": 6,
     "metadata": {},
     "output_type": "execute_result"
    }
   ],
   "source": [
    "trips_with_shape.shape"
   ]
  },
  {
   "cell_type": "code",
   "execution_count": 7,
   "id": "34f69e0d-68c8-4b8e-8b82-8318672d0f4d",
   "metadata": {},
   "outputs": [
    {
     "data": {
      "text/html": [
       "<div>\n",
       "<style scoped>\n",
       "    .dataframe tbody tr th:only-of-type {\n",
       "        vertical-align: middle;\n",
       "    }\n",
       "\n",
       "    .dataframe tbody tr th {\n",
       "        vertical-align: top;\n",
       "    }\n",
       "\n",
       "    .dataframe thead th {\n",
       "        text-align: right;\n",
       "    }\n",
       "</style>\n",
       "<table border=\"1\" class=\"dataframe\">\n",
       "  <thead>\n",
       "    <tr style=\"text-align: right;\">\n",
       "      <th></th>\n",
       "      <th>trip_instance_key</th>\n",
       "      <th>shape_array_key</th>\n",
       "    </tr>\n",
       "  </thead>\n",
       "  <tbody>\n",
       "    <tr>\n",
       "      <th>0</th>\n",
       "      <td>12de3d260e9fe09fa878cb4cdb2d6898</td>\n",
       "      <td>749b225ca6691f77914e88577dc13e68</td>\n",
       "    </tr>\n",
       "    <tr>\n",
       "      <th>1</th>\n",
       "      <td>934aea5748bce830ffc2fa88dc01402a</td>\n",
       "      <td>749b225ca6691f77914e88577dc13e68</td>\n",
       "    </tr>\n",
       "    <tr>\n",
       "      <th>2</th>\n",
       "      <td>3d06fa8e68e4f38d3ccc7adfabb5c3d9</td>\n",
       "      <td>f1a7410fae06937b7183f6a553707915</td>\n",
       "    </tr>\n",
       "    <tr>\n",
       "      <th>3</th>\n",
       "      <td>34109ad8cfeca83cd459d42c7d51d602</td>\n",
       "      <td>f1a7410fae06937b7183f6a553707915</td>\n",
       "    </tr>\n",
       "    <tr>\n",
       "      <th>4</th>\n",
       "      <td>34acd907ae9d5eb5456d683d2458bbc6</td>\n",
       "      <td>f1a7410fae06937b7183f6a553707915</td>\n",
       "    </tr>\n",
       "  </tbody>\n",
       "</table>\n",
       "</div>"
      ],
      "text/plain": [
       "                  trip_instance_key                   shape_array_key\n",
       "0  12de3d260e9fe09fa878cb4cdb2d6898  749b225ca6691f77914e88577dc13e68\n",
       "1  934aea5748bce830ffc2fa88dc01402a  749b225ca6691f77914e88577dc13e68\n",
       "2  3d06fa8e68e4f38d3ccc7adfabb5c3d9  f1a7410fae06937b7183f6a553707915\n",
       "3  34109ad8cfeca83cd459d42c7d51d602  f1a7410fae06937b7183f6a553707915\n",
       "4  34acd907ae9d5eb5456d683d2458bbc6  f1a7410fae06937b7183f6a553707915"
      ]
     },
     "execution_count": 7,
     "metadata": {},
     "output_type": "execute_result"
    }
   ],
   "source": [
    "trips_with_shape.head()"
   ]
  },
  {
   "cell_type": "markdown",
   "id": "8be73ca3-7ca2-4616-9504-7defe86f3792",
   "metadata": {},
   "source": [
    "### Buffer shapes"
   ]
  },
  {
   "cell_type": "code",
   "execution_count": 8,
   "id": "ca9923a7-914f-43ce-a840-a15d41b43aee",
   "metadata": {},
   "outputs": [],
   "source": [
    "# This is trips_with_shape_geom\n",
    "trips_with_shape_geom =  vp_spatial_accuracy.buffer_shapes(analysis_date, \n",
    "                                trips_with_shape,\n",
    "                                35)"
   ]
  },
  {
   "cell_type": "code",
   "execution_count": 9,
   "id": "caf4dd49-4839-475d-99ff-7765ef5fb20a",
   "metadata": {},
   "outputs": [
    {
     "data": {
      "text/plain": [
       "(9240, 3)"
      ]
     },
     "execution_count": 9,
     "metadata": {},
     "output_type": "execute_result"
    }
   ],
   "source": [
    "trips_with_shape_geom.shape"
   ]
  },
  {
   "cell_type": "code",
   "execution_count": 10,
   "id": "beaddbc2-fd11-4021-bdf0-7eea81835226",
   "metadata": {},
   "outputs": [],
   "source": [
    "vp = dd.read_parquet(f\"{SEGMENT_GCS}vp_usable_{analysis_date}\",\n",
    "        filters = [[('gtfs_dataset_name', \"==\", operator),\n",
    "                   ('schedule_gtfs_dataset_key', '==', gtfs_key)]])"
   ]
  },
  {
   "cell_type": "code",
   "execution_count": 11,
   "id": "6053ea36-1f85-4a1a-b10b-019f6d870986",
   "metadata": {},
   "outputs": [
    {
     "data": {
      "text/plain": [
       "trip_instance_key    9240\n",
       "dtype: int64"
      ]
     },
     "execution_count": 11,
     "metadata": {},
     "output_type": "execute_result"
    }
   ],
   "source": [
    "vp[['trip_instance_key']].compute().nunique()"
   ]
  },
  {
   "cell_type": "code",
   "execution_count": 12,
   "id": "79fe772c-74db-49e7-b41d-e1daa3f23ee3",
   "metadata": {},
   "outputs": [],
   "source": [
    "def merge_vp_with_shape_and_count(\n",
    "    vp: dd.DataFrame,\n",
    "    trips_with_shape_geom: gpd.GeoDataFrame\n",
    ") -> gpd.GeoDataFrame:\n",
    "    \"\"\"\n",
    "    Merge vp with crosswalk and buffered shapes.\n",
    "    Get vp count totals and vp within shape.\n",
    "    \"\"\"\n",
    "    vp_gdf = gpd.GeoDataFrame(\n",
    "        vp,\n",
    "        geometry = gpd.points_from_xy(vp.x, vp.y),\n",
    "        crs = WGS84\n",
    "    ).to_crs(PROJECT_CRS)\n",
    "    \n",
    "    vp_gdf = vp_gdf.rename(columns = {\n",
    "    0:'gtfs_dataset_name',\n",
    "    1: 'schedule_gtfs_dataset_key', \n",
    "    2:'trip_id',\n",
    "    3:'trip_instance_key',\n",
    "    4: 'location_timestamp', \n",
    "    5: 'location_timestamp_local',\n",
    "    6:'x',\n",
    "    7:'y', \n",
    "    8:'vp_idx', \n",
    "    9:'gtfs_dataset_key', \n",
    "    10:'vp_dir_xnorm', \n",
    "    11:'vp_dir_ynorm',\n",
    "    12:'vp_primary_direction'})\n",
    "    \n",
    "    vp2 = pd.merge(\n",
    "        vp_gdf,\n",
    "        trips_with_shape_geom,\n",
    "        on = \"trip_instance_key\",\n",
    "        how = \"inner\"\n",
    "    ).reset_index(drop=True)\n",
    "    \n",
    "    total_vp = vp_spatial_accuracy.total_vp_counts_by_trip(vp2)\n",
    "    \n",
    "    vp2 = vp2.assign(\n",
    "        is_within = vp2.geometry_x.within(vp2.geometry_y)\n",
    "    ).query('is_within==True')\n",
    "    \n",
    "    vps_in_shape = (vp2.groupby(\"trip_instance_key\", \n",
    "                                observed = True, group_keys = False)\n",
    "                    .agg({\"location_timestamp_local\": \"count\"})\n",
    "                    .reset_index()\n",
    "                    .rename(columns = {\"location_timestamp_local\": \"vp_in_shape\"})\n",
    "                   )\n",
    "        \n",
    "    count_df = pd.merge(\n",
    "        total_vp,\n",
    "        vps_in_shape,\n",
    "        on = \"trip_instance_key\",\n",
    "        how = \"left\"\n",
    "    )\n",
    "    \n",
    "    count_df = count_df.assign(\n",
    "        vp_in_shape = count_df.vp_in_shape.fillna(0).astype(\"int32\"),\n",
    "        total_vp = count_df.total_vp.fillna(0).astype(\"int32\")\n",
    "    )\n",
    "    \n",
    "    return count_df"
   ]
  },
  {
   "cell_type": "code",
   "execution_count": 13,
   "id": "561287f4-8189-441c-881c-1f34fc43e7d5",
   "metadata": {},
   "outputs": [],
   "source": [
    "muni = merge_vp_with_shape_and_count(vp, trips_with_shape_geom)"
   ]
  },
  {
   "cell_type": "code",
   "execution_count": 14,
   "id": "bcaa5da2-21a5-4c87-825a-fa2637ef9b8f",
   "metadata": {},
   "outputs": [
    {
     "data": {
      "text/plain": [
       "count   9240.00\n",
       "mean     161.87\n",
       "std       64.06\n",
       "min        0.00\n",
       "25%      118.00\n",
       "50%      167.00\n",
       "75%      207.00\n",
       "max      481.00\n",
       "Name: vp_in_shape, dtype: float64"
      ]
     },
     "execution_count": 14,
     "metadata": {},
     "output_type": "execute_result"
    }
   ],
   "source": [
    "muni.vp_in_shape.describe()"
   ]
  },
  {
   "cell_type": "code",
   "execution_count": 15,
   "id": "3504f86b-08bd-4a8d-b810-e654dd911c06",
   "metadata": {},
   "outputs": [
    {
     "data": {
      "text/plain": [
       "9240"
      ]
     },
     "execution_count": 15,
     "metadata": {},
     "output_type": "execute_result"
    }
   ],
   "source": [
    "muni.trip_instance_key.nunique()"
   ]
  },
  {
   "cell_type": "code",
   "execution_count": 16,
   "id": "eaa02c27-eda6-47ac-ae18-827f1616d73e",
   "metadata": {},
   "outputs": [
    {
     "data": {
      "text/html": [
       "<div>\n",
       "<style scoped>\n",
       "    .dataframe tbody tr th:only-of-type {\n",
       "        vertical-align: middle;\n",
       "    }\n",
       "\n",
       "    .dataframe tbody tr th {\n",
       "        vertical-align: top;\n",
       "    }\n",
       "\n",
       "    .dataframe thead th {\n",
       "        text-align: right;\n",
       "    }\n",
       "</style>\n",
       "<table border=\"1\" class=\"dataframe\">\n",
       "  <thead>\n",
       "    <tr style=\"text-align: right;\">\n",
       "      <th></th>\n",
       "      <th>trip_instance_key</th>\n",
       "      <th>total_vp</th>\n",
       "      <th>vp_in_shape</th>\n",
       "    </tr>\n",
       "  </thead>\n",
       "  <tbody>\n",
       "    <tr>\n",
       "      <th>167</th>\n",
       "      <td>04ae6ea9655473bdcaf9b80d443558ae</td>\n",
       "      <td>111</td>\n",
       "      <td>0</td>\n",
       "    </tr>\n",
       "    <tr>\n",
       "      <th>351</th>\n",
       "      <td>0a1553b7a738967a422b7b8960560ded</td>\n",
       "      <td>75</td>\n",
       "      <td>0</td>\n",
       "    </tr>\n",
       "    <tr>\n",
       "      <th>408</th>\n",
       "      <td>0bc53a1063efae8a32eca4a9034d2a21</td>\n",
       "      <td>61</td>\n",
       "      <td>0</td>\n",
       "    </tr>\n",
       "    <tr>\n",
       "      <th>1128</th>\n",
       "      <td>1fe28ce8669a7f946f272faf80d80ce7</td>\n",
       "      <td>70</td>\n",
       "      <td>0</td>\n",
       "    </tr>\n",
       "    <tr>\n",
       "      <th>1981</th>\n",
       "      <td>37aed2e5ad125f8aede20922b38bf6b9</td>\n",
       "      <td>78</td>\n",
       "      <td>0</td>\n",
       "    </tr>\n",
       "    <tr>\n",
       "      <th>3022</th>\n",
       "      <td>54e54e2839a6945b1005322398a89ae9</td>\n",
       "      <td>132</td>\n",
       "      <td>0</td>\n",
       "    </tr>\n",
       "    <tr>\n",
       "      <th>3127</th>\n",
       "      <td>580684a7a6b43ce5130f60a441681713</td>\n",
       "      <td>46</td>\n",
       "      <td>0</td>\n",
       "    </tr>\n",
       "    <tr>\n",
       "      <th>3213</th>\n",
       "      <td>5a82f8c02f2036db77b1979f4ae228f5</td>\n",
       "      <td>41</td>\n",
       "      <td>0</td>\n",
       "    </tr>\n",
       "    <tr>\n",
       "      <th>3861</th>\n",
       "      <td>6cbdc2d321ca63df78bce01eeb06fe07</td>\n",
       "      <td>47</td>\n",
       "      <td>0</td>\n",
       "    </tr>\n",
       "    <tr>\n",
       "      <th>3937</th>\n",
       "      <td>6ee4a9165f47b59cb3e10b0125dd72e8</td>\n",
       "      <td>34</td>\n",
       "      <td>0</td>\n",
       "    </tr>\n",
       "    <tr>\n",
       "      <th>4562</th>\n",
       "      <td>7ff345e91303290951ef0665a57dc90e</td>\n",
       "      <td>55</td>\n",
       "      <td>0</td>\n",
       "    </tr>\n",
       "    <tr>\n",
       "      <th>5288</th>\n",
       "      <td>9351c60516ef43464d962a956d1b3806</td>\n",
       "      <td>96</td>\n",
       "      <td>0</td>\n",
       "    </tr>\n",
       "    <tr>\n",
       "      <th>5894</th>\n",
       "      <td>a40cc2271f048e2b72d94b051c6688cb</td>\n",
       "      <td>120</td>\n",
       "      <td>0</td>\n",
       "    </tr>\n",
       "    <tr>\n",
       "      <th>6119</th>\n",
       "      <td>aa82ee2a81331cbdf044a7d5280d436a</td>\n",
       "      <td>41</td>\n",
       "      <td>0</td>\n",
       "    </tr>\n",
       "    <tr>\n",
       "      <th>6758</th>\n",
       "      <td>bcb78da06a56761d2a3b8b16a3436f3d</td>\n",
       "      <td>101</td>\n",
       "      <td>0</td>\n",
       "    </tr>\n",
       "    <tr>\n",
       "      <th>7043</th>\n",
       "      <td>c3fc63ec2ff7a35c0f821659075be708</td>\n",
       "      <td>60</td>\n",
       "      <td>0</td>\n",
       "    </tr>\n",
       "    <tr>\n",
       "      <th>7543</th>\n",
       "      <td>d21ff3a0d37a484dc4f979d052652565</td>\n",
       "      <td>45</td>\n",
       "      <td>0</td>\n",
       "    </tr>\n",
       "    <tr>\n",
       "      <th>7734</th>\n",
       "      <td>d79da0eafb4ac5188f1cd14850a6f880</td>\n",
       "      <td>90</td>\n",
       "      <td>0</td>\n",
       "    </tr>\n",
       "    <tr>\n",
       "      <th>8431</th>\n",
       "      <td>ea8751445dcd6a175bd23ec5fc423d0c</td>\n",
       "      <td>44</td>\n",
       "      <td>0</td>\n",
       "    </tr>\n",
       "    <tr>\n",
       "      <th>8718</th>\n",
       "      <td>f298ef83aaa934eb6577fd2ca19d4ebd</td>\n",
       "      <td>82</td>\n",
       "      <td>0</td>\n",
       "    </tr>\n",
       "  </tbody>\n",
       "</table>\n",
       "</div>"
      ],
      "text/plain": [
       "                     trip_instance_key  total_vp  vp_in_shape\n",
       "167   04ae6ea9655473bdcaf9b80d443558ae       111            0\n",
       "351   0a1553b7a738967a422b7b8960560ded        75            0\n",
       "408   0bc53a1063efae8a32eca4a9034d2a21        61            0\n",
       "1128  1fe28ce8669a7f946f272faf80d80ce7        70            0\n",
       "1981  37aed2e5ad125f8aede20922b38bf6b9        78            0\n",
       "3022  54e54e2839a6945b1005322398a89ae9       132            0\n",
       "3127  580684a7a6b43ce5130f60a441681713        46            0\n",
       "3213  5a82f8c02f2036db77b1979f4ae228f5        41            0\n",
       "3861  6cbdc2d321ca63df78bce01eeb06fe07        47            0\n",
       "3937  6ee4a9165f47b59cb3e10b0125dd72e8        34            0\n",
       "4562  7ff345e91303290951ef0665a57dc90e        55            0\n",
       "5288  9351c60516ef43464d962a956d1b3806        96            0\n",
       "5894  a40cc2271f048e2b72d94b051c6688cb       120            0\n",
       "6119  aa82ee2a81331cbdf044a7d5280d436a        41            0\n",
       "6758  bcb78da06a56761d2a3b8b16a3436f3d       101            0\n",
       "7043  c3fc63ec2ff7a35c0f821659075be708        60            0\n",
       "7543  d21ff3a0d37a484dc4f979d052652565        45            0\n",
       "7734  d79da0eafb4ac5188f1cd14850a6f880        90            0\n",
       "8431  ea8751445dcd6a175bd23ec5fc423d0c        44            0\n",
       "8718  f298ef83aaa934eb6577fd2ca19d4ebd        82            0"
      ]
     },
     "execution_count": 16,
     "metadata": {},
     "output_type": "execute_result"
    }
   ],
   "source": [
    "muni.loc[muni.vp_in_shape == 0]"
   ]
  },
  {
   "cell_type": "code",
   "execution_count": 17,
   "id": "ad776dcd-700e-499e-b1c2-57c44d255153",
   "metadata": {},
   "outputs": [
    {
     "data": {
      "text/plain": [
       "trip_instance_key    9240\n",
       "dtype: int64"
      ]
     },
     "execution_count": 17,
     "metadata": {},
     "output_type": "execute_result"
    }
   ],
   "source": [
    "vp[['trip_instance_key']].compute().nunique()"
   ]
  },
  {
   "cell_type": "markdown",
   "id": "19a20f72-8a90-4823-8cc5-32f91ae1286d",
   "metadata": {
    "tags": []
   },
   "source": [
    "## Update Completeness\n",
    "* https://github.com/cal-itp/data-analyses/blob/main/rt_predictions/01_update_completeness.ipynb"
   ]
  },
  {
   "cell_type": "code",
   "execution_count": 18,
   "id": "21f152c6-27cb-44fd-9dce-d6698a42f568",
   "metadata": {},
   "outputs": [],
   "source": [
    "from segment_speed_utils.project_vars import PREDICTIONS_GCS"
   ]
  },
  {
   "cell_type": "code",
   "execution_count": 19,
   "id": "38b45588-6646-4080-bc7c-04f4e10f564b",
   "metadata": {},
   "outputs": [
    {
     "data": {
      "text/plain": [
       "'gs://calitp-analytics-data/data-analyses/rt_predictions/'"
      ]
     },
     "execution_count": 19,
     "metadata": {},
     "output_type": "execute_result"
    }
   ],
   "source": [
    "PREDICTIONS_GCS"
   ]
  },
  {
   "cell_type": "markdown",
   "id": "42e2b61b-92d4-40d8-8582-537a063e3833",
   "metadata": {},
   "source": [
    "### Translate to `vp_usable`"
   ]
  },
  {
   "cell_type": "code",
   "execution_count": 20,
   "id": "b2e0fa2d-089d-49a5-ab20-a8ef65925795",
   "metadata": {},
   "outputs": [],
   "source": [
    "# Only use the trips with shapes.\n",
    "relevant_trips = list(muni.trip_instance_key.unique())"
   ]
  },
  {
   "cell_type": "code",
   "execution_count": 21,
   "id": "845ad61c-eab0-40c9-9e50-09c35bd50a73",
   "metadata": {},
   "outputs": [],
   "source": [
    "completeness_cols = ['vp_idx',\n",
    "      'location_timestamp_local', 'trip_instance_key',\n",
    "      'gtfs_dataset_key']"
   ]
  },
  {
   "cell_type": "code",
   "execution_count": 22,
   "id": "88b571f2-624c-47aa-a154-286902fa4a96",
   "metadata": {},
   "outputs": [],
   "source": [
    "vp_filtered = dd.read_parquet(f\"{SEGMENT_GCS}vp_usable_{analysis_date}\",\n",
    "        columns = completeness_cols, \n",
    "        filters = [[('gtfs_dataset_name', \"==\", operator),\n",
    "                   ('schedule_gtfs_dataset_key', '==', gtfs_key),\n",
    "                   ('trip_instance_key', 'in', relevant_trips)]])"
   ]
  },
  {
   "cell_type": "code",
   "execution_count": 23,
   "id": "287cf22c-66cc-4d6c-b790-2c5c42a01d28",
   "metadata": {},
   "outputs": [
    {
     "data": {
      "text/plain": [
       "Index(['vp_idx', 'location_timestamp_local', 'trip_instance_key',\n",
       "       'gtfs_dataset_key'],\n",
       "      dtype='object')"
      ]
     },
     "execution_count": 23,
     "metadata": {},
     "output_type": "execute_result"
    }
   ],
   "source": [
    "vp_filtered.columns"
   ]
  },
  {
   "cell_type": "code",
   "execution_count": 24,
   "id": "8b1174c1-b693-40fd-94c6-16152a2a3cd7",
   "metadata": {},
   "outputs": [],
   "source": [
    "fresh_updates =vp_filtered.sort_values(['vp_idx'])"
   ]
  },
  {
   "cell_type": "code",
   "execution_count": 25,
   "id": "add7de33-bf89-4ab1-a907-a5f6f399821e",
   "metadata": {},
   "outputs": [],
   "source": [
    "two_cols = ['trip_instance_key','gtfs_dataset_key']"
   ]
  },
  {
   "cell_type": "code",
   "execution_count": 26,
   "id": "c9083d90-f232-4568-99f1-f92ccd98c5cc",
   "metadata": {},
   "outputs": [],
   "source": [
    "fresh_updates_df = fresh_updates.compute()"
   ]
  },
  {
   "cell_type": "code",
   "execution_count": 27,
   "id": "c9cd0c00-bdda-45c3-bb81-cc0556475501",
   "metadata": {},
   "outputs": [],
   "source": [
    "fresh_updates_df = fresh_updates_df.assign(fresh = 1)"
   ]
  },
  {
   "cell_type": "code",
   "execution_count": 28,
   "id": "4f59af64-2ffb-4b69-88b0-b982f17057ee",
   "metadata": {},
   "outputs": [
    {
     "data": {
      "text/plain": [
       "\"fresh_updates2 = (fresh_updates_df.groupby([\\n        *two_cols, \\n         pd.Grouper(key = 'location_timestamp_local', freq = '1Min')\\n    ])\\n    .count()\\n    .reset_index()\\n    .rename(columns = {'vp_idx':'number_of_pings_per_minute'})\\n                    )\""
      ]
     },
     "execution_count": 28,
     "metadata": {},
     "output_type": "execute_result"
    }
   ],
   "source": [
    "\"\"\"fresh_updates2 = (fresh_updates_df.groupby([\n",
    "        *two_cols, \n",
    "         pd.Grouper(key = 'location_timestamp_local', freq = '1Min')\n",
    "    ])\n",
    "    .count()\n",
    "    .reset_index()\n",
    "    .rename(columns = {'vp_idx':'number_of_pings_per_minute'})\n",
    "                    )\"\"\""
   ]
  },
  {
   "cell_type": "code",
   "execution_count": 29,
   "id": "201eab8e-893c-4a29-be9f-a1a81cafbbde",
   "metadata": {
    "scrolled": true,
    "tags": []
   },
   "outputs": [],
   "source": [
    "test_group1 = (fresh_updates_df.groupby([\n",
    "        *two_cols, \n",
    "         pd.Grouper(key = 'location_timestamp_local', freq = '1Min')\n",
    "    ])\n",
    "    .count()).reset_index()"
   ]
  },
  {
   "cell_type": "code",
   "execution_count": 30,
   "id": "be48ea1f-b6e9-40b6-b121-2b9b744b86cb",
   "metadata": {},
   "outputs": [],
   "source": [
    "test_group2 = (fresh_updates_df.groupby([\n",
    "        *['trip_instance_key'], \n",
    "         pd.Grouper(key = 'location_timestamp_local', freq = '1Min')\n",
    "    ])\n",
    "    .count()\n",
    "    .reset_index()\n",
    "    .rename(columns = {'vp_idx':'number_of_pings_per_minute'})\n",
    "        )"
   ]
  },
  {
   "cell_type": "code",
   "execution_count": 31,
   "id": "ceba371f-8362-40fc-b25a-e5c867e34809",
   "metadata": {},
   "outputs": [],
   "source": [
    "test_group3 = (fresh_updates_df.groupby([\n",
    "        *['trip_instance_key', 'gtfs_dataset_key'], \n",
    "         pd.Grouper(key = 'location_timestamp_local', freq = '1Min')\n",
    "    ])\n",
    "    .count()\n",
    "    .reset_index()\n",
    "    .rename(columns = {'vp_idx':'number_of_pings_per_minute'})\n",
    "        )"
   ]
  },
  {
   "cell_type": "markdown",
   "id": "b9fa09c7-6406-4c72-9a61-e925fce8fa8d",
   "metadata": {},
   "source": [
    "### Checks"
   ]
  },
  {
   "cell_type": "code",
   "execution_count": 32,
   "id": "2b697668-d7e7-4803-a289-0fe8c2e681d1",
   "metadata": {},
   "outputs": [
    {
     "data": {
      "text/html": [
       "<div>\n",
       "<style scoped>\n",
       "    .dataframe tbody tr th:only-of-type {\n",
       "        vertical-align: middle;\n",
       "    }\n",
       "\n",
       "    .dataframe tbody tr th {\n",
       "        vertical-align: top;\n",
       "    }\n",
       "\n",
       "    .dataframe thead th {\n",
       "        text-align: right;\n",
       "    }\n",
       "</style>\n",
       "<table border=\"1\" class=\"dataframe\">\n",
       "  <thead>\n",
       "    <tr style=\"text-align: right;\">\n",
       "      <th></th>\n",
       "      <th>trip_instance_key</th>\n",
       "      <th>gtfs_dataset_key</th>\n",
       "      <th>location_timestamp_local</th>\n",
       "      <th>vp_idx</th>\n",
       "      <th>fresh</th>\n",
       "    </tr>\n",
       "  </thead>\n",
       "  <tbody>\n",
       "    <tr>\n",
       "      <th>9945560</th>\n",
       "      <td>ab15d6fda7115825603d29b574f3a8b7</td>\n",
       "      <td>c0e3039da063db95ebabd3fe4ee611a4</td>\n",
       "      <td>2023-10-11 10:44:00</td>\n",
       "      <td>3</td>\n",
       "      <td>3</td>\n",
       "    </tr>\n",
       "  </tbody>\n",
       "</table>\n",
       "</div>"
      ],
      "text/plain": [
       "                        trip_instance_key                  gtfs_dataset_key  \\\n",
       "9945560  ab15d6fda7115825603d29b574f3a8b7  c0e3039da063db95ebabd3fe4ee611a4   \n",
       "\n",
       "        location_timestamp_local  vp_idx  fresh  \n",
       "9945560      2023-10-11 10:44:00       3      3  "
      ]
     },
     "execution_count": 32,
     "metadata": {},
     "output_type": "execute_result"
    }
   ],
   "source": [
    "test_group1.sample()"
   ]
  },
  {
   "cell_type": "code",
   "execution_count": 33,
   "id": "074357ed-2e23-45c9-913e-8e5092534627",
   "metadata": {},
   "outputs": [
    {
     "data": {
      "text/html": [
       "<div>\n",
       "<style scoped>\n",
       "    .dataframe tbody tr th:only-of-type {\n",
       "        vertical-align: middle;\n",
       "    }\n",
       "\n",
       "    .dataframe tbody tr th {\n",
       "        vertical-align: top;\n",
       "    }\n",
       "\n",
       "    .dataframe thead th {\n",
       "        text-align: right;\n",
       "    }\n",
       "</style>\n",
       "<table border=\"1\" class=\"dataframe\">\n",
       "  <thead>\n",
       "    <tr style=\"text-align: right;\">\n",
       "      <th></th>\n",
       "      <th>trip_instance_key</th>\n",
       "      <th>location_timestamp_local</th>\n",
       "      <th>number_of_pings_per_minute</th>\n",
       "      <th>gtfs_dataset_key</th>\n",
       "      <th>fresh</th>\n",
       "    </tr>\n",
       "  </thead>\n",
       "  <tbody>\n",
       "    <tr>\n",
       "      <th>54592</th>\n",
       "      <td>1979f2da580305edbe42c58457499ed1</td>\n",
       "      <td>2023-10-11 05:41:00</td>\n",
       "      <td>3</td>\n",
       "      <td>3</td>\n",
       "      <td>3</td>\n",
       "    </tr>\n",
       "  </tbody>\n",
       "</table>\n",
       "</div>"
      ],
      "text/plain": [
       "                      trip_instance_key location_timestamp_local  \\\n",
       "54592  1979f2da580305edbe42c58457499ed1      2023-10-11 05:41:00   \n",
       "\n",
       "       number_of_pings_per_minute  gtfs_dataset_key  fresh  \n",
       "54592                           3                 3      3  "
      ]
     },
     "execution_count": 33,
     "metadata": {},
     "output_type": "execute_result"
    }
   ],
   "source": [
    "test_group2.sample()"
   ]
  },
  {
   "cell_type": "code",
   "execution_count": 34,
   "id": "c4ebc93f-d794-4e04-8dee-b59f31e0de89",
   "metadata": {},
   "outputs": [
    {
     "data": {
      "text/html": [
       "<div>\n",
       "<style scoped>\n",
       "    .dataframe tbody tr th:only-of-type {\n",
       "        vertical-align: middle;\n",
       "    }\n",
       "\n",
       "    .dataframe tbody tr th {\n",
       "        vertical-align: top;\n",
       "    }\n",
       "\n",
       "    .dataframe thead th {\n",
       "        text-align: right;\n",
       "    }\n",
       "</style>\n",
       "<table border=\"1\" class=\"dataframe\">\n",
       "  <thead>\n",
       "    <tr style=\"text-align: right;\">\n",
       "      <th></th>\n",
       "      <th>trip_instance_key</th>\n",
       "      <th>location_timestamp_local</th>\n",
       "      <th>number_of_pings_per_minute</th>\n",
       "      <th>gtfs_dataset_key</th>\n",
       "      <th>fresh</th>\n",
       "    </tr>\n",
       "  </thead>\n",
       "  <tbody>\n",
       "    <tr>\n",
       "      <th>72124</th>\n",
       "      <td>224955f470277311c7eb73e019d0d030</td>\n",
       "      <td>2023-10-11 20:21:00</td>\n",
       "      <td>3</td>\n",
       "      <td>3</td>\n",
       "      <td>3</td>\n",
       "    </tr>\n",
       "  </tbody>\n",
       "</table>\n",
       "</div>"
      ],
      "text/plain": [
       "                      trip_instance_key location_timestamp_local  \\\n",
       "72124  224955f470277311c7eb73e019d0d030      2023-10-11 20:21:00   \n",
       "\n",
       "       number_of_pings_per_minute  gtfs_dataset_key  fresh  \n",
       "72124                           3                 3      3  "
      ]
     },
     "execution_count": 34,
     "metadata": {},
     "output_type": "execute_result"
    }
   ],
   "source": [
    "test_group2.sample()"
   ]
  },
  {
   "cell_type": "code",
   "execution_count": 35,
   "id": "c4f0f887-0bf1-4acd-9204-ce4180517fff",
   "metadata": {},
   "outputs": [
    {
     "data": {
      "text/plain": [
       "count   541681.00\n",
       "mean         2.96\n",
       "std          0.47\n",
       "min          1.00\n",
       "25%          3.00\n",
       "50%          3.00\n",
       "75%          3.00\n",
       "max          4.00\n",
       "Name: fresh, dtype: float64"
      ]
     },
     "execution_count": 35,
     "metadata": {},
     "output_type": "execute_result"
    }
   ],
   "source": [
    "test_group2.fresh.describe()"
   ]
  },
  {
   "cell_type": "code",
   "execution_count": 36,
   "id": "b11cec7e-b766-44cb-90bc-4584efecd7b5",
   "metadata": {},
   "outputs": [
    {
     "data": {
      "text/plain": [
       "count   14978040.00\n",
       "mean           0.11\n",
       "std            0.56\n",
       "min            0.00\n",
       "25%            0.00\n",
       "50%            0.00\n",
       "75%            0.00\n",
       "max            4.00\n",
       "Name: fresh, dtype: float64"
      ]
     },
     "execution_count": 36,
     "metadata": {},
     "output_type": "execute_result"
    }
   ],
   "source": [
    "test_group3.fresh.describe()"
   ]
  },
  {
   "cell_type": "code",
   "execution_count": 37,
   "id": "61617748-c555-4e88-b027-a7362cbb40f2",
   "metadata": {},
   "outputs": [],
   "source": [
    "test_group2 = test_group2.assign(\n",
    "        atleast2_trip_updates = test_group2.apply(\n",
    "            lambda x: 1 if x[\"fresh\"] >= 2\n",
    "            else 0, axis=1)\n",
    "    )    \n",
    "    "
   ]
  },
  {
   "cell_type": "code",
   "execution_count": 38,
   "id": "3e18e269-c820-4cdf-9a1c-52b1187816bc",
   "metadata": {},
   "outputs": [
    {
     "data": {
      "text/plain": [
       "count   541681.00\n",
       "mean         0.99\n",
       "std          0.11\n",
       "min          0.00\n",
       "25%          1.00\n",
       "50%          1.00\n",
       "75%          1.00\n",
       "max          1.00\n",
       "Name: atleast2_trip_updates, dtype: float64"
      ]
     },
     "execution_count": 38,
     "metadata": {},
     "output_type": "execute_result"
    }
   ],
   "source": [
    "test_group2.atleast2_trip_updates.describe()"
   ]
  },
  {
   "cell_type": "code",
   "execution_count": 39,
   "id": "f127aa0e-90f3-4946-a3c0-80c9b84aa101",
   "metadata": {},
   "outputs": [
    {
     "data": {
      "text/plain": [
       "1    534886\n",
       "0      6795\n",
       "Name: atleast2_trip_updates, dtype: int64"
      ]
     },
     "execution_count": 39,
     "metadata": {},
     "output_type": "execute_result"
    }
   ],
   "source": [
    "test_group2.atleast2_trip_updates.value_counts()"
   ]
  },
  {
   "cell_type": "markdown",
   "id": "ccd85839-5d29-4c0b-be92-bc6c86d3999a",
   "metadata": {},
   "source": [
    "### Trip minutes is wrong\n",
    "* Check w/ 38247cbee93b6f85d58bf1812ae553b9\n",
    "* Began at 16:01:00, end at 17:00:000\n",
    "* Skips having data: jumps from 4:38 to 4:54"
   ]
  },
  {
   "cell_type": "code",
   "execution_count": 40,
   "id": "079a4eb5-5708-407c-81a6-f88466e9e9df",
   "metadata": {},
   "outputs": [],
   "source": [
    "test_group2_grouped = (test_group2.groupby(two_cols)\n",
    "           .agg({\n",
    "               \"location_timestamp_local\": \"size\",\n",
    "               \"atleast2_trip_updates\": \"sum\"})\n",
    "           .reset_index()\n",
    "          ).rename(columns = {\n",
    "            \"location_timestamp_local\": \"trip_min_elapsed\"\n",
    "    })\n",
    "    "
   ]
  },
  {
   "cell_type": "code",
   "execution_count": 41,
   "id": "45f51f48-df0b-42ed-9f25-07534f2c2514",
   "metadata": {},
   "outputs": [
    {
     "data": {
      "text/html": [
       "<div>\n",
       "<style scoped>\n",
       "    .dataframe tbody tr th:only-of-type {\n",
       "        vertical-align: middle;\n",
       "    }\n",
       "\n",
       "    .dataframe tbody tr th {\n",
       "        vertical-align: top;\n",
       "    }\n",
       "\n",
       "    .dataframe thead th {\n",
       "        text-align: right;\n",
       "    }\n",
       "</style>\n",
       "<table border=\"1\" class=\"dataframe\">\n",
       "  <thead>\n",
       "    <tr style=\"text-align: right;\">\n",
       "      <th></th>\n",
       "      <th>trip_instance_key</th>\n",
       "      <th>gtfs_dataset_key</th>\n",
       "      <th>trip_min_elapsed</th>\n",
       "      <th>atleast2_trip_updates</th>\n",
       "    </tr>\n",
       "  </thead>\n",
       "  <tbody>\n",
       "    <tr>\n",
       "      <th>7113</th>\n",
       "      <td>38247cbee93b6f85d58bf1812ae553b9</td>\n",
       "      <td>2</td>\n",
       "      <td>7</td>\n",
       "      <td>7</td>\n",
       "    </tr>\n",
       "    <tr>\n",
       "      <th>7114</th>\n",
       "      <td>38247cbee93b6f85d58bf1812ae553b9</td>\n",
       "      <td>3</td>\n",
       "      <td>33</td>\n",
       "      <td>33</td>\n",
       "    </tr>\n",
       "    <tr>\n",
       "      <th>7115</th>\n",
       "      <td>38247cbee93b6f85d58bf1812ae553b9</td>\n",
       "      <td>4</td>\n",
       "      <td>5</td>\n",
       "      <td>5</td>\n",
       "    </tr>\n",
       "  </tbody>\n",
       "</table>\n",
       "</div>"
      ],
      "text/plain": [
       "                     trip_instance_key  gtfs_dataset_key  trip_min_elapsed  \\\n",
       "7113  38247cbee93b6f85d58bf1812ae553b9                 2                 7   \n",
       "7114  38247cbee93b6f85d58bf1812ae553b9                 3                33   \n",
       "7115  38247cbee93b6f85d58bf1812ae553b9                 4                 5   \n",
       "\n",
       "      atleast2_trip_updates  \n",
       "7113                      7  \n",
       "7114                     33  \n",
       "7115                      5  "
      ]
     },
     "execution_count": 41,
     "metadata": {},
     "output_type": "execute_result"
    }
   ],
   "source": [
    "test_group2_grouped.loc[test_group2_grouped.trip_instance_key == \"38247cbee93b6f85d58bf1812ae553b9\"]"
   ]
  },
  {
   "cell_type": "code",
   "execution_count": 42,
   "id": "22448e29-bdeb-4342-adbb-153785af414f",
   "metadata": {},
   "outputs": [],
   "source": [
    "test_group2_grouped2 = (test_group2.groupby(two_cols)\n",
    "           .agg({\n",
    "               \"location_timestamp_local\": \"count\",\n",
    "               \"atleast2_trip_updates\": \"sum\"})\n",
    "           .reset_index()\n",
    "          ).rename(columns = {\n",
    "            \"location_timestamp_local\": \"trip_min_elapsed\"\n",
    "    })"
   ]
  },
  {
   "cell_type": "code",
   "execution_count": 43,
   "id": "ede7e9ab-9155-44b7-a732-ecb9f37daf64",
   "metadata": {},
   "outputs": [
    {
     "data": {
      "text/html": [
       "<div>\n",
       "<style scoped>\n",
       "    .dataframe tbody tr th:only-of-type {\n",
       "        vertical-align: middle;\n",
       "    }\n",
       "\n",
       "    .dataframe tbody tr th {\n",
       "        vertical-align: top;\n",
       "    }\n",
       "\n",
       "    .dataframe thead th {\n",
       "        text-align: right;\n",
       "    }\n",
       "</style>\n",
       "<table border=\"1\" class=\"dataframe\">\n",
       "  <thead>\n",
       "    <tr style=\"text-align: right;\">\n",
       "      <th></th>\n",
       "      <th>trip_instance_key</th>\n",
       "      <th>gtfs_dataset_key</th>\n",
       "      <th>trip_min_elapsed</th>\n",
       "      <th>atleast2_trip_updates</th>\n",
       "    </tr>\n",
       "  </thead>\n",
       "  <tbody>\n",
       "    <tr>\n",
       "      <th>7113</th>\n",
       "      <td>38247cbee93b6f85d58bf1812ae553b9</td>\n",
       "      <td>2</td>\n",
       "      <td>7</td>\n",
       "      <td>7</td>\n",
       "    </tr>\n",
       "    <tr>\n",
       "      <th>7114</th>\n",
       "      <td>38247cbee93b6f85d58bf1812ae553b9</td>\n",
       "      <td>3</td>\n",
       "      <td>33</td>\n",
       "      <td>33</td>\n",
       "    </tr>\n",
       "    <tr>\n",
       "      <th>7115</th>\n",
       "      <td>38247cbee93b6f85d58bf1812ae553b9</td>\n",
       "      <td>4</td>\n",
       "      <td>5</td>\n",
       "      <td>5</td>\n",
       "    </tr>\n",
       "  </tbody>\n",
       "</table>\n",
       "</div>"
      ],
      "text/plain": [
       "                     trip_instance_key  gtfs_dataset_key  trip_min_elapsed  \\\n",
       "7113  38247cbee93b6f85d58bf1812ae553b9                 2                 7   \n",
       "7114  38247cbee93b6f85d58bf1812ae553b9                 3                33   \n",
       "7115  38247cbee93b6f85d58bf1812ae553b9                 4                 5   \n",
       "\n",
       "      atleast2_trip_updates  \n",
       "7113                      7  \n",
       "7114                     33  \n",
       "7115                      5  "
      ]
     },
     "execution_count": 43,
     "metadata": {},
     "output_type": "execute_result"
    }
   ],
   "source": [
    "test_group2_grouped2.loc[test_group2_grouped2.trip_instance_key == \"38247cbee93b6f85d58bf1812ae553b9\"]"
   ]
  },
  {
   "cell_type": "code",
   "execution_count": 44,
   "id": "460a7304-afd9-48a6-8a58-30f1e87074e6",
   "metadata": {},
   "outputs": [],
   "source": [
    "test_group2_grouped3 = (test_group2.groupby(['trip_instance_key'])\n",
    "           .agg({\n",
    "               \"location_timestamp_local\": \"count\",\n",
    "               \"atleast2_trip_updates\": \"sum\"})\n",
    "           .reset_index()\n",
    "          ).rename(columns = {\n",
    "            \"location_timestamp_local\": \"trip_min_elapsed\"\n",
    "    })"
   ]
  },
  {
   "cell_type": "code",
   "execution_count": 45,
   "id": "b7c3cd05-945f-48d4-9bb7-e71593781a44",
   "metadata": {},
   "outputs": [
    {
     "data": {
      "text/html": [
       "<div>\n",
       "<style scoped>\n",
       "    .dataframe tbody tr th:only-of-type {\n",
       "        vertical-align: middle;\n",
       "    }\n",
       "\n",
       "    .dataframe tbody tr th {\n",
       "        vertical-align: top;\n",
       "    }\n",
       "\n",
       "    .dataframe thead th {\n",
       "        text-align: right;\n",
       "    }\n",
       "</style>\n",
       "<table border=\"1\" class=\"dataframe\">\n",
       "  <thead>\n",
       "    <tr style=\"text-align: right;\">\n",
       "      <th></th>\n",
       "      <th>trip_instance_key</th>\n",
       "      <th>trip_min_elapsed</th>\n",
       "      <th>atleast2_trip_updates</th>\n",
       "    </tr>\n",
       "  </thead>\n",
       "  <tbody>\n",
       "    <tr>\n",
       "      <th>2002</th>\n",
       "      <td>38247cbee93b6f85d58bf1812ae553b9</td>\n",
       "      <td>45</td>\n",
       "      <td>45</td>\n",
       "    </tr>\n",
       "  </tbody>\n",
       "</table>\n",
       "</div>"
      ],
      "text/plain": [
       "                     trip_instance_key  trip_min_elapsed  \\\n",
       "2002  38247cbee93b6f85d58bf1812ae553b9                45   \n",
       "\n",
       "      atleast2_trip_updates  \n",
       "2002                     45  "
      ]
     },
     "execution_count": 45,
     "metadata": {},
     "output_type": "execute_result"
    }
   ],
   "source": [
    "test_group2_grouped3.loc[test_group2_grouped3.trip_instance_key == \"38247cbee93b6f85d58bf1812ae553b9\"]"
   ]
  },
  {
   "cell_type": "markdown",
   "id": "d0523ce0-6eac-46dc-92f4-d858ef2f31a4",
   "metadata": {},
   "source": [
    "#### 4 works the best"
   ]
  },
  {
   "cell_type": "code",
   "execution_count": 60,
   "id": "5965a48a-dec8-444f-8f69-714c64c885ab",
   "metadata": {},
   "outputs": [],
   "source": [
    "test_group2['max_time'] = test_group2.location_timestamp_local"
   ]
  },
  {
   "cell_type": "code",
   "execution_count": 70,
   "id": "d04cba0b-afd6-418a-a916-ea5fcea3f0a0",
   "metadata": {},
   "outputs": [],
   "source": [
    "test_group2_grouped4 = (test_group2\n",
    "                        .groupby(['trip_instance_key'])\n",
    "                        .agg({'location_timestamp_local':'min','max_time':'max', \n",
    "                             'atleast2_trip_updates':'sum'})\n",
    "                        .reset_index()\n",
    "                        .rename(columns = {'location_timestamp_local':'min_time'})\n",
    "                       )"
   ]
  },
  {
   "cell_type": "code",
   "execution_count": 71,
   "id": "cdbcc81c-1dc4-4111-808e-c3590568d163",
   "metadata": {},
   "outputs": [],
   "source": [
    "test_group2_grouped4['trip_min_elapsed'] = (test_group2_grouped4.max_time - test_group2_grouped4.min_time) / pd.Timedelta(minutes=1)"
   ]
  },
  {
   "cell_type": "code",
   "execution_count": 72,
   "id": "753d1d27-8813-4cdf-bf9f-dc5193f908f7",
   "metadata": {},
   "outputs": [
    {
     "data": {
      "text/html": [
       "<div>\n",
       "<style scoped>\n",
       "    .dataframe tbody tr th:only-of-type {\n",
       "        vertical-align: middle;\n",
       "    }\n",
       "\n",
       "    .dataframe tbody tr th {\n",
       "        vertical-align: top;\n",
       "    }\n",
       "\n",
       "    .dataframe thead th {\n",
       "        text-align: right;\n",
       "    }\n",
       "</style>\n",
       "<table border=\"1\" class=\"dataframe\">\n",
       "  <thead>\n",
       "    <tr style=\"text-align: right;\">\n",
       "      <th></th>\n",
       "      <th>trip_instance_key</th>\n",
       "      <th>min_time</th>\n",
       "      <th>max_time</th>\n",
       "      <th>atleast2_trip_updates</th>\n",
       "      <th>trip_min_elapsed</th>\n",
       "    </tr>\n",
       "  </thead>\n",
       "  <tbody>\n",
       "    <tr>\n",
       "      <th>2002</th>\n",
       "      <td>38247cbee93b6f85d58bf1812ae553b9</td>\n",
       "      <td>2023-10-11 16:01:00</td>\n",
       "      <td>2023-10-11 17:00:00</td>\n",
       "      <td>45</td>\n",
       "      <td>59.00</td>\n",
       "    </tr>\n",
       "  </tbody>\n",
       "</table>\n",
       "</div>"
      ],
      "text/plain": [
       "                     trip_instance_key            min_time  \\\n",
       "2002  38247cbee93b6f85d58bf1812ae553b9 2023-10-11 16:01:00   \n",
       "\n",
       "                max_time  atleast2_trip_updates  trip_min_elapsed  \n",
       "2002 2023-10-11 17:00:00                     45             59.00  "
      ]
     },
     "execution_count": 72,
     "metadata": {},
     "output_type": "execute_result"
    }
   ],
   "source": [
    "test_group2_grouped4.loc[test_group2_grouped4.trip_instance_key == \"38247cbee93b6f85d58bf1812ae553b9\"]"
   ]
  },
  {
   "cell_type": "code",
   "execution_count": 74,
   "id": "bf6654a0-01bf-4ae3-8158-133d9e5aeb91",
   "metadata": {},
   "outputs": [],
   "source": [
    "test_group2_grouped4 = test_group2_grouped4.assign(\n",
    "        pct_update_complete = test_group2_grouped4.atleast2_trip_updates.divide(\n",
    "            test_group2_grouped4.trip_min_elapsed)\n",
    "    ) "
   ]
  },
  {
   "cell_type": "markdown",
   "id": "c73ddbb4-f2a5-4f2c-9287-27595153c93a",
   "metadata": {},
   "source": [
    "* 568caf4acf76125fb5db063f8737e5a8 = began at 8:32 am, end at 9:45. \n",
    "* b063e289ac71ce8cac8f3e34895a7a1e = began at 5:03, end at 6:26"
   ]
  },
  {
   "cell_type": "code",
   "execution_count": 75,
   "id": "8882db93-20e7-4d89-bbad-a84b389609fe",
   "metadata": {},
   "outputs": [
    {
     "data": {
      "text/plain": [
       "(9240, 6)"
      ]
     },
     "execution_count": 75,
     "metadata": {},
     "output_type": "execute_result"
    }
   ],
   "source": [
    "test_group2_grouped4.shape"
   ]
  },
  {
   "cell_type": "code",
   "execution_count": 76,
   "id": "c0c0cc0a-dc4e-403a-b0c4-7b7238ca2115",
   "metadata": {},
   "outputs": [
    {
     "data": {
      "text/plain": [
       "count   9240.00\n",
       "mean      58.18\n",
       "std       22.27\n",
       "min       10.00\n",
       "25%       43.00\n",
       "50%       60.00\n",
       "75%       73.00\n",
       "max      196.00\n",
       "Name: trip_min_elapsed, dtype: float64"
      ]
     },
     "execution_count": 76,
     "metadata": {},
     "output_type": "execute_result"
    }
   ],
   "source": [
    "test_group2_grouped4.trip_min_elapsed.describe()"
   ]
  },
  {
   "cell_type": "code",
   "execution_count": 77,
   "id": "8c270b1b-7483-457b-98e1-1075bd7a15a5",
   "metadata": {},
   "outputs": [
    {
     "data": {
      "text/plain": [
       "count   9240.00\n",
       "mean       1.00\n",
       "std        0.06\n",
       "min        0.02\n",
       "25%        1.00\n",
       "50%        1.00\n",
       "75%        1.02\n",
       "max        1.10\n",
       "Name: pct_update_complete, dtype: float64"
      ]
     },
     "execution_count": 77,
     "metadata": {},
     "output_type": "execute_result"
    }
   ],
   "source": [
    "test_group2_grouped4.pct_update_complete.describe()"
   ]
  },
  {
   "cell_type": "code",
   "execution_count": 89,
   "id": "fe15a4b6-7c37-4219-8b83-ef4cd8c0aae8",
   "metadata": {},
   "outputs": [
    {
     "data": {
      "text/plain": [
       "count   9240.00\n",
       "mean      58.18\n",
       "std       22.27\n",
       "min       10.00\n",
       "25%       43.00\n",
       "50%       60.00\n",
       "75%       73.00\n",
       "max      196.00\n",
       "Name: trip_min_elapsed, dtype: float64"
      ]
     },
     "execution_count": 89,
     "metadata": {},
     "output_type": "execute_result"
    }
   ],
   "source": [
    "test_group2_grouped4.trip_min_elapsed.describe()"
   ]
  },
  {
   "cell_type": "markdown",
   "id": "12805755-8e1c-44f1-bd4b-bf0308757367",
   "metadata": {},
   "source": [
    "### Tests\n",
    "* Why are some trips experiencing pct-update-complete greater than 100%??"
   ]
  },
  {
   "cell_type": "code",
   "execution_count": 83,
   "id": "60cfbabc-e181-4004-9e08-9ff7b80fceae",
   "metadata": {},
   "outputs": [
    {
     "data": {
      "text/plain": [
       "10"
      ]
     },
     "execution_count": 83,
     "metadata": {},
     "output_type": "execute_result"
    }
   ],
   "source": [
    "len(test_group2_grouped4.loc[test_group2_grouped4.pct_update_complete == 1.1])"
   ]
  },
  {
   "cell_type": "code",
   "execution_count": 82,
   "id": "ca5b2186-0b89-47fa-8d34-437b6f26849e",
   "metadata": {},
   "outputs": [
    {
     "data": {
      "text/html": [
       "<div>\n",
       "<style scoped>\n",
       "    .dataframe tbody tr th:only-of-type {\n",
       "        vertical-align: middle;\n",
       "    }\n",
       "\n",
       "    .dataframe tbody tr th {\n",
       "        vertical-align: top;\n",
       "    }\n",
       "\n",
       "    .dataframe thead th {\n",
       "        text-align: right;\n",
       "    }\n",
       "</style>\n",
       "<table border=\"1\" class=\"dataframe\">\n",
       "  <thead>\n",
       "    <tr style=\"text-align: right;\">\n",
       "      <th></th>\n",
       "      <th>trip_instance_key</th>\n",
       "      <th>min_time</th>\n",
       "      <th>max_time</th>\n",
       "      <th>atleast2_trip_updates</th>\n",
       "      <th>trip_min_elapsed</th>\n",
       "      <th>pct_update_complete</th>\n",
       "    </tr>\n",
       "  </thead>\n",
       "  <tbody>\n",
       "    <tr>\n",
       "      <th>1972</th>\n",
       "      <td>37622040815e89d063272bb6e37acc65</td>\n",
       "      <td>2023-10-11 05:31:00</td>\n",
       "      <td>2023-10-11 05:41:00</td>\n",
       "      <td>11</td>\n",
       "      <td>10.00</td>\n",
       "      <td>1.10</td>\n",
       "    </tr>\n",
       "  </tbody>\n",
       "</table>\n",
       "</div>"
      ],
      "text/plain": [
       "                     trip_instance_key            min_time  \\\n",
       "1972  37622040815e89d063272bb6e37acc65 2023-10-11 05:31:00   \n",
       "\n",
       "                max_time  atleast2_trip_updates  trip_min_elapsed  \\\n",
       "1972 2023-10-11 05:41:00                     11             10.00   \n",
       "\n",
       "      pct_update_complete  \n",
       "1972                 1.10  "
      ]
     },
     "execution_count": 82,
     "metadata": {},
     "output_type": "execute_result"
    }
   ],
   "source": [
    "test_group2_grouped4.loc[test_group2_grouped4.pct_update_complete == 1.1].sample()"
   ]
  },
  {
   "cell_type": "code",
   "execution_count": 100,
   "id": "cf956fae-8ffa-4b57-988b-a8ac54b589ea",
   "metadata": {},
   "outputs": [],
   "source": [
    "# How many cols have larger atleast2_trip_updates compared to trip-min_elapsed\n",
    "test_group2_grouped4['larger'] =test_group2_grouped4.trip_min_elapsed -  test_group2_grouped4.atleast2_trip_updates "
   ]
  },
  {
   "cell_type": "code",
   "execution_count": 101,
   "id": "d8659d98-012a-4b2d-9825-e605df194cad",
   "metadata": {},
   "outputs": [
    {
     "data": {
      "text/plain": [
       "count   9240.00\n",
       "mean       0.29\n",
       "std        3.82\n",
       "min       -1.00\n",
       "25%       -1.00\n",
       "50%        0.00\n",
       "75%        0.00\n",
       "max      105.00\n",
       "Name: larger, dtype: float64"
      ]
     },
     "execution_count": 101,
     "metadata": {},
     "output_type": "execute_result"
    }
   ],
   "source": [
    "test_group2_grouped4.larger.describe()"
   ]
  },
  {
   "cell_type": "code",
   "execution_count": 107,
   "id": "53cb5d9e-be40-4989-a3b6-af2131c30075",
   "metadata": {},
   "outputs": [],
   "source": [
    "def mask_overly_large_min(row):\n",
    "    if row.atleast2_trip_updates > row.trip_min_elapsed:\n",
    "        return row.trip_min_elapsed\n",
    "    else:\n",
    "        return row.atleast2_trip_updates"
   ]
  },
  {
   "cell_type": "code",
   "execution_count": 108,
   "id": "827559b6-f997-4842-a324-4d0f169b7607",
   "metadata": {},
   "outputs": [],
   "source": [
    "# Apply the function\n",
    "test_group2_grouped4[\"test_mask\"] = test_group2_grouped4.apply(mask_overly_large_min, axis=1)"
   ]
  },
  {
   "cell_type": "code",
   "execution_count": 113,
   "id": "bc39796b-aeea-4e95-b542-23d6eb5d87b3",
   "metadata": {},
   "outputs": [
    {
     "data": {
      "text/html": [
       "<div>\n",
       "<style scoped>\n",
       "    .dataframe tbody tr th:only-of-type {\n",
       "        vertical-align: middle;\n",
       "    }\n",
       "\n",
       "    .dataframe tbody tr th {\n",
       "        vertical-align: top;\n",
       "    }\n",
       "\n",
       "    .dataframe thead th {\n",
       "        text-align: right;\n",
       "    }\n",
       "</style>\n",
       "<table border=\"1\" class=\"dataframe\">\n",
       "  <thead>\n",
       "    <tr style=\"text-align: right;\">\n",
       "      <th></th>\n",
       "      <th>trip_instance_key</th>\n",
       "      <th>min_time</th>\n",
       "      <th>max_time</th>\n",
       "      <th>atleast2_trip_updates</th>\n",
       "      <th>trip_min_elapsed</th>\n",
       "      <th>pct_update_complete</th>\n",
       "      <th>larger</th>\n",
       "      <th>test_mask</th>\n",
       "    </tr>\n",
       "  </thead>\n",
       "  <tbody>\n",
       "    <tr>\n",
       "      <th>8211</th>\n",
       "      <td>e4b7661d54ea8d861cff3e35e4caec28</td>\n",
       "      <td>2023-10-11 02:19:00</td>\n",
       "      <td>2023-10-11 02:42:00</td>\n",
       "      <td>24</td>\n",
       "      <td>23.00</td>\n",
       "      <td>1.04</td>\n",
       "      <td>-1.00</td>\n",
       "      <td>23.00</td>\n",
       "    </tr>\n",
       "    <tr>\n",
       "      <th>2374</th>\n",
       "      <td>4258fcb5df6feb5288d0b64e58d9f85a</td>\n",
       "      <td>2023-10-11 04:40:00</td>\n",
       "      <td>2023-10-11 05:15:00</td>\n",
       "      <td>36</td>\n",
       "      <td>35.00</td>\n",
       "      <td>1.03</td>\n",
       "      <td>-1.00</td>\n",
       "      <td>35.00</td>\n",
       "    </tr>\n",
       "  </tbody>\n",
       "</table>\n",
       "</div>"
      ],
      "text/plain": [
       "                     trip_instance_key            min_time  \\\n",
       "8211  e4b7661d54ea8d861cff3e35e4caec28 2023-10-11 02:19:00   \n",
       "2374  4258fcb5df6feb5288d0b64e58d9f85a 2023-10-11 04:40:00   \n",
       "\n",
       "                max_time  atleast2_trip_updates  trip_min_elapsed  \\\n",
       "8211 2023-10-11 02:42:00                     24             23.00   \n",
       "2374 2023-10-11 05:15:00                     36             35.00   \n",
       "\n",
       "      pct_update_complete  larger  test_mask  \n",
       "8211                 1.04   -1.00      23.00  \n",
       "2374                 1.03   -1.00      35.00  "
      ]
     },
     "execution_count": 113,
     "metadata": {},
     "output_type": "execute_result"
    }
   ],
   "source": [
    "test_group2_grouped4.loc[test_group2_grouped4.larger == -1].sample(2)"
   ]
  },
  {
   "cell_type": "code",
   "execution_count": 114,
   "id": "a166daf8-1449-4979-8cbf-5031d7a7755c",
   "metadata": {},
   "outputs": [
    {
     "data": {
      "text/html": [
       "<div>\n",
       "<style scoped>\n",
       "    .dataframe tbody tr th:only-of-type {\n",
       "        vertical-align: middle;\n",
       "    }\n",
       "\n",
       "    .dataframe tbody tr th {\n",
       "        vertical-align: top;\n",
       "    }\n",
       "\n",
       "    .dataframe thead th {\n",
       "        text-align: right;\n",
       "    }\n",
       "</style>\n",
       "<table border=\"1\" class=\"dataframe\">\n",
       "  <thead>\n",
       "    <tr style=\"text-align: right;\">\n",
       "      <th></th>\n",
       "      <th>trip_instance_key</th>\n",
       "      <th>min_time</th>\n",
       "      <th>max_time</th>\n",
       "      <th>atleast2_trip_updates</th>\n",
       "      <th>trip_min_elapsed</th>\n",
       "      <th>pct_update_complete</th>\n",
       "      <th>larger</th>\n",
       "      <th>test_mask</th>\n",
       "    </tr>\n",
       "  </thead>\n",
       "  <tbody>\n",
       "    <tr>\n",
       "      <th>5039</th>\n",
       "      <td>8cc5578efefd252ced8bae2d3e75cfff</td>\n",
       "      <td>2023-10-11 13:51:00</td>\n",
       "      <td>2023-10-11 14:29:00</td>\n",
       "      <td>35</td>\n",
       "      <td>38.00</td>\n",
       "      <td>0.92</td>\n",
       "      <td>3.00</td>\n",
       "      <td>35.00</td>\n",
       "    </tr>\n",
       "    <tr>\n",
       "      <th>429</th>\n",
       "      <td>0c22f6a2911a877afe1b8311fa877228</td>\n",
       "      <td>2023-10-11 09:48:00</td>\n",
       "      <td>2023-10-11 10:40:00</td>\n",
       "      <td>49</td>\n",
       "      <td>52.00</td>\n",
       "      <td>0.94</td>\n",
       "      <td>3.00</td>\n",
       "      <td>49.00</td>\n",
       "    </tr>\n",
       "  </tbody>\n",
       "</table>\n",
       "</div>"
      ],
      "text/plain": [
       "                     trip_instance_key            min_time  \\\n",
       "5039  8cc5578efefd252ced8bae2d3e75cfff 2023-10-11 13:51:00   \n",
       "429   0c22f6a2911a877afe1b8311fa877228 2023-10-11 09:48:00   \n",
       "\n",
       "                max_time  atleast2_trip_updates  trip_min_elapsed  \\\n",
       "5039 2023-10-11 14:29:00                     35             38.00   \n",
       "429  2023-10-11 10:40:00                     49             52.00   \n",
       "\n",
       "      pct_update_complete  larger  test_mask  \n",
       "5039                 0.92    3.00      35.00  \n",
       "429                  0.94    3.00      49.00  "
      ]
     },
     "execution_count": 114,
     "metadata": {},
     "output_type": "execute_result"
    }
   ],
   "source": [
    "test_group2_grouped4.loc[test_group2_grouped4.larger == 3].sample(2)"
   ]
  },
  {
   "cell_type": "code",
   "execution_count": 112,
   "id": "b0fc6fff-5b8c-44af-9c0b-c3974087c5c4",
   "metadata": {},
   "outputs": [
    {
     "data": {
      "text/plain": [
       "0.00    42.19\n",
       "-1.00   40.05\n",
       "1.00    10.76\n",
       "2.00     1.53\n",
       "3.00     1.07\n",
       "Name: larger, dtype: float64"
      ]
     },
     "execution_count": 112,
     "metadata": {},
     "output_type": "execute_result"
    }
   ],
   "source": [
    "test_group2_grouped4.larger.value_counts().head()/len(test_group2_grouped4)*100"
   ]
  },
  {
   "cell_type": "markdown",
   "id": "52c81121-29bb-41ca-bd3a-cfe2b60f7989",
   "metadata": {},
   "source": [
    "#### 37622040815e89d063272bb6e37acc65\n",
    "* The trip is ten minutes but there are eleven rows."
   ]
  },
  {
   "cell_type": "code",
   "execution_count": 86,
   "id": "749f3055-f199-4905-854b-cf208c969f26",
   "metadata": {},
   "outputs": [
    {
     "data": {
      "text/html": [
       "<div>\n",
       "<style scoped>\n",
       "    .dataframe tbody tr th:only-of-type {\n",
       "        vertical-align: middle;\n",
       "    }\n",
       "\n",
       "    .dataframe tbody tr th {\n",
       "        vertical-align: top;\n",
       "    }\n",
       "\n",
       "    .dataframe thead th {\n",
       "        text-align: right;\n",
       "    }\n",
       "</style>\n",
       "<table border=\"1\" class=\"dataframe\">\n",
       "  <thead>\n",
       "    <tr style=\"text-align: right;\">\n",
       "      <th></th>\n",
       "      <th>trip_instance_key</th>\n",
       "      <th>min_time</th>\n",
       "      <th>max_time</th>\n",
       "      <th>atleast2_trip_updates</th>\n",
       "      <th>trip_min_elapsed</th>\n",
       "      <th>pct_update_complete</th>\n",
       "    </tr>\n",
       "  </thead>\n",
       "  <tbody>\n",
       "    <tr>\n",
       "      <th>1972</th>\n",
       "      <td>37622040815e89d063272bb6e37acc65</td>\n",
       "      <td>2023-10-11 05:31:00</td>\n",
       "      <td>2023-10-11 05:41:00</td>\n",
       "      <td>11</td>\n",
       "      <td>10.00</td>\n",
       "      <td>1.10</td>\n",
       "    </tr>\n",
       "  </tbody>\n",
       "</table>\n",
       "</div>"
      ],
      "text/plain": [
       "                     trip_instance_key            min_time  \\\n",
       "1972  37622040815e89d063272bb6e37acc65 2023-10-11 05:31:00   \n",
       "\n",
       "                max_time  atleast2_trip_updates  trip_min_elapsed  \\\n",
       "1972 2023-10-11 05:41:00                     11             10.00   \n",
       "\n",
       "      pct_update_complete  \n",
       "1972                 1.10  "
      ]
     },
     "execution_count": 86,
     "metadata": {},
     "output_type": "execute_result"
    }
   ],
   "source": [
    "test_group2_grouped4.loc[test_group2_grouped4.trip_instance_key == \"37622040815e89d063272bb6e37acc65\"]"
   ]
  },
  {
   "cell_type": "code",
   "execution_count": 88,
   "id": "d109f168-9183-489d-9815-f179cc26e217",
   "metadata": {},
   "outputs": [
    {
     "data": {
      "text/plain": [
       "32"
      ]
     },
     "execution_count": 88,
     "metadata": {},
     "output_type": "execute_result"
    }
   ],
   "source": [
    "len(fresh_updates_df.loc[fresh_updates_df.trip_instance_key == \"37622040815e89d063272bb6e37acc65\"])"
   ]
  },
  {
   "cell_type": "code",
   "execution_count": 94,
   "id": "6fb218dd-2960-46ae-8d5d-96e31bd7d866",
   "metadata": {},
   "outputs": [],
   "source": [
    "# fresh_updates_df.loc[fresh_updates_df.trip_instance_key == \"37622040815e89d063272bb6e37acc65\"]"
   ]
  },
  {
   "cell_type": "code",
   "execution_count": 92,
   "id": "714e610c-018f-406c-abc9-8c69de0ff7a5",
   "metadata": {},
   "outputs": [
    {
     "data": {
      "text/plain": [
       "11"
      ]
     },
     "execution_count": 92,
     "metadata": {},
     "output_type": "execute_result"
    }
   ],
   "source": [
    "len(test_group2.loc[test_group2.trip_instance_key == \"37622040815e89d063272bb6e37acc65\"])"
   ]
  },
  {
   "cell_type": "code",
   "execution_count": 95,
   "id": "2d37d2a7-627e-4c65-b1e6-e992ab364cd2",
   "metadata": {},
   "outputs": [],
   "source": [
    "# test_group2.loc[test_group2.trip_instance_key == \"37622040815e89d063272bb6e37acc65\"]"
   ]
  },
  {
   "cell_type": "code",
   "execution_count": 85,
   "id": "7226a73b-6b2f-4d7a-a775-f0edf73b2702",
   "metadata": {
    "tags": []
   },
   "outputs": [
    {
     "data": {
      "text/plain": [
       "32"
      ]
     },
     "execution_count": 85,
     "metadata": {},
     "output_type": "execute_result"
    }
   ],
   "source": [
    "len(fresh_updates_df.loc[fresh_updates_df.trip_instance_key == \"37622040815e89d063272bb6e37acc65\"])"
   ]
  },
  {
   "cell_type": "markdown",
   "id": "6b54ee94-48e6-42ed-a87f-97ba04293589",
   "metadata": {
    "tags": []
   },
   "source": [
    "#### 568caf4acf76125fb5db063f8737e5a8"
   ]
  },
  {
   "cell_type": "code",
   "execution_count": 119,
   "id": "f505e963-6dd7-4624-a2a0-324ade8c04b8",
   "metadata": {},
   "outputs": [
    {
     "data": {
      "text/html": [
       "<div>\n",
       "<style scoped>\n",
       "    .dataframe tbody tr th:only-of-type {\n",
       "        vertical-align: middle;\n",
       "    }\n",
       "\n",
       "    .dataframe tbody tr th {\n",
       "        vertical-align: top;\n",
       "    }\n",
       "\n",
       "    .dataframe thead th {\n",
       "        text-align: right;\n",
       "    }\n",
       "</style>\n",
       "<table border=\"1\" class=\"dataframe\">\n",
       "  <thead>\n",
       "    <tr style=\"text-align: right;\">\n",
       "      <th></th>\n",
       "      <th>trip_instance_key</th>\n",
       "      <th>min_time</th>\n",
       "      <th>max_time</th>\n",
       "      <th>atleast2_trip_updates</th>\n",
       "      <th>trip_min_elapsed</th>\n",
       "      <th>pct_update_complete</th>\n",
       "      <th>larger</th>\n",
       "      <th>test_mask</th>\n",
       "    </tr>\n",
       "  </thead>\n",
       "  <tbody>\n",
       "    <tr>\n",
       "      <th>3077</th>\n",
       "      <td>568caf4acf76125fb5db063f8737e5a8</td>\n",
       "      <td>2023-10-11 08:32:00</td>\n",
       "      <td>2023-10-11 09:45:00</td>\n",
       "      <td>74</td>\n",
       "      <td>73.00</td>\n",
       "      <td>1.01</td>\n",
       "      <td>-1.00</td>\n",
       "      <td>73.00</td>\n",
       "    </tr>\n",
       "  </tbody>\n",
       "</table>\n",
       "</div>"
      ],
      "text/plain": [
       "                     trip_instance_key            min_time  \\\n",
       "3077  568caf4acf76125fb5db063f8737e5a8 2023-10-11 08:32:00   \n",
       "\n",
       "                max_time  atleast2_trip_updates  trip_min_elapsed  \\\n",
       "3077 2023-10-11 09:45:00                     74             73.00   \n",
       "\n",
       "      pct_update_complete  larger  test_mask  \n",
       "3077                 1.01   -1.00      73.00  "
      ]
     },
     "execution_count": 119,
     "metadata": {},
     "output_type": "execute_result"
    }
   ],
   "source": [
    "test_group2_grouped4.loc[test_group2_grouped4.trip_instance_key == \"568caf4acf76125fb5db063f8737e5a8\"]"
   ]
  },
  {
   "cell_type": "markdown",
   "id": "94c9d565-7253-48a8-af25-a40f2310132a",
   "metadata": {
    "tags": []
   },
   "source": [
    "#### 38247cbee93b6f85d58bf1812ae553b9"
   ]
  },
  {
   "cell_type": "code",
   "execution_count": 118,
   "id": "f2fb203b-971c-42d2-b84d-604af05c99a7",
   "metadata": {},
   "outputs": [
    {
     "data": {
      "text/html": [
       "<div>\n",
       "<style scoped>\n",
       "    .dataframe tbody tr th:only-of-type {\n",
       "        vertical-align: middle;\n",
       "    }\n",
       "\n",
       "    .dataframe tbody tr th {\n",
       "        vertical-align: top;\n",
       "    }\n",
       "\n",
       "    .dataframe thead th {\n",
       "        text-align: right;\n",
       "    }\n",
       "</style>\n",
       "<table border=\"1\" class=\"dataframe\">\n",
       "  <thead>\n",
       "    <tr style=\"text-align: right;\">\n",
       "      <th></th>\n",
       "      <th>trip_instance_key</th>\n",
       "      <th>min_time</th>\n",
       "      <th>max_time</th>\n",
       "      <th>atleast2_trip_updates</th>\n",
       "      <th>trip_min_elapsed</th>\n",
       "      <th>pct_update_complete</th>\n",
       "      <th>larger</th>\n",
       "      <th>test_mask</th>\n",
       "    </tr>\n",
       "  </thead>\n",
       "  <tbody>\n",
       "    <tr>\n",
       "      <th>2002</th>\n",
       "      <td>38247cbee93b6f85d58bf1812ae553b9</td>\n",
       "      <td>2023-10-11 16:01:00</td>\n",
       "      <td>2023-10-11 17:00:00</td>\n",
       "      <td>45</td>\n",
       "      <td>59.00</td>\n",
       "      <td>0.76</td>\n",
       "      <td>14.00</td>\n",
       "      <td>45.00</td>\n",
       "    </tr>\n",
       "  </tbody>\n",
       "</table>\n",
       "</div>"
      ],
      "text/plain": [
       "                     trip_instance_key            min_time  \\\n",
       "2002  38247cbee93b6f85d58bf1812ae553b9 2023-10-11 16:01:00   \n",
       "\n",
       "                max_time  atleast2_trip_updates  trip_min_elapsed  \\\n",
       "2002 2023-10-11 17:00:00                     45             59.00   \n",
       "\n",
       "      pct_update_complete  larger  test_mask  \n",
       "2002                 0.76   14.00      45.00  "
      ]
     },
     "execution_count": 118,
     "metadata": {},
     "output_type": "execute_result"
    }
   ],
   "source": [
    "test_group2_grouped4.loc[test_group2_grouped4.trip_instance_key == \"38247cbee93b6f85d58bf1812ae553b9\"]"
   ]
  },
  {
   "cell_type": "markdown",
   "id": "3b61450e-528c-4dab-9582-2bda3343e379",
   "metadata": {},
   "source": [
    "## How many minutes a trip took and the average speeds?\n",
    "* Temporary place until I move the spatial stuff out"
   ]
  },
  {
   "cell_type": "code",
   "execution_count": null,
   "id": "36afb7b1-04f9-494b-a4d8-f85ddadc785b",
   "metadata": {},
   "outputs": [],
   "source": [
    "type(muni)"
   ]
  },
  {
   "cell_type": "code",
   "execution_count": null,
   "id": "a6d981cf-cb48-49c5-9d2a-a80644bb67df",
   "metadata": {},
   "outputs": [],
   "source": [
    "len(relevant_trips)"
   ]
  },
  {
   "cell_type": "code",
   "execution_count": null,
   "id": "230a0037-2a0d-48a0-950b-e191ab34deb3",
   "metadata": {},
   "outputs": [],
   "source": [
    "# Test if I can filter for relevant trips\n",
    "# Yes, can filter for only relevant trips up here? \n",
    "# https://github.com/cal-itp/data-analyses/blob/main/rt_scheduled_v_ran/scripts/vp_spatial_accuracy.py#L190-L193\n",
    "#trips_with_shape_trips = set(trips_with_shape.trip_instance_key.unique().tolist())\n",
    "#muni_trips = set(muni.trip_instance_key.unique().tolist())\n",
    "#trips_with_shape_trips - muni_trips"
   ]
  },
  {
   "cell_type": "code",
   "execution_count": null,
   "id": "17c5a52a-bedb-4232-aa38-5a9e5adb356d",
   "metadata": {},
   "outputs": [],
   "source": [
    "# muni_trips - trips_with_shape_trips"
   ]
  },
  {
   "cell_type": "code",
   "execution_count": null,
   "id": "89eaf6b5-d441-4d0d-9a02-4a17ce1b7c4e",
   "metadata": {},
   "outputs": [],
   "source": [
    "# len(vp_filtered)"
   ]
  },
  {
   "cell_type": "code",
   "execution_count": null,
   "id": "875978d8-6168-4f52-b101-91e09b6a099d",
   "metadata": {},
   "outputs": [],
   "source": [
    "# vp_filtered[['trip_instance_key']].compute().nunique()"
   ]
  },
  {
   "cell_type": "code",
   "execution_count": null,
   "id": "7807ccce-416c-4f03-a92a-2296edc1d19f",
   "metadata": {},
   "outputs": [],
   "source": [
    "vp_filtered.columns"
   ]
  },
  {
   "cell_type": "markdown",
   "id": "96335b84-31a9-4887-b97f-8ebc35610220",
   "metadata": {},
   "source": [
    "### C2 \n",
    "* https://github.com/cal-itp/data-analyses/blob/main/rt_segment_speeds/scripts/C2_triangulate_vp.py\n",
    "* Break it apart and check it out later to undersatnd what's happening"
   ]
  },
  {
   "cell_type": "code",
   "execution_count": null,
   "id": "de7fba7a-6796-4e64-884c-55d636be2c12",
   "metadata": {},
   "outputs": [],
   "source": [
    "def triangulate_vp(\n",
    "    ddf: dd.DataFrame, \n",
    "    group_cols: list = [\"trip_instance_key\"]\n",
    ") -> np.ndarray:\n",
    "    \"\"\"\n",
    "    Grab a sample of vehicle positions for each trip to triangulate distance.\n",
    "    These vp already sjoined onto the shape.\n",
    "    Roughly pick vp at equally spaced intervals.\n",
    "    \n",
    "    Dask aggregation can't group and use lambda to create list of possible \n",
    "    vp_idx.\n",
    "    \"\"\"        \n",
    "    grouped_ddf = ddf.groupby(group_cols, observed=True, group_keys=False)\n",
    "\n",
    "    min_df = (grouped_ddf\n",
    "              .agg({\"vp_idx\": \"min\"})\n",
    "              .rename(columns = {\"vp_idx\": \"min_vp_idx\"})\n",
    "             )\n",
    "\n",
    "    max_df = (grouped_ddf\n",
    "              .agg({\"vp_idx\": \"max\"})\n",
    "              .rename(columns = {\"vp_idx\": \"max_vp_idx\"})\n",
    "             )\n",
    "    \n",
    "    vp_range = dd.merge(\n",
    "        min_df,\n",
    "        max_df,\n",
    "        left_index = True,\n",
    "        right_index = True,\n",
    "        how = \"inner\"\n",
    "    )\n",
    "\n",
    "    vp_range = vp_range.persist()\n",
    "    \n",
    "    vp_range[\"range_diff\"] = vp_range.max_vp_idx - vp_range.min_vp_idx\n",
    "    \n",
    "    vp_range = vp_range.assign(\n",
    "        p25_vp_idx = (vp_range.range_diff * 0.25 + vp_range.min_vp_idx\n",
    "                     ).round(0).astype(\"int64\"),\n",
    "        p50_vp_idx = (vp_range.range_diff * 0.5 + vp_range.min_vp_idx\n",
    "                     ).round(0).astype(\"int64\"),\n",
    "        p75_vp_idx = (vp_range.range_diff * 0.75 + vp_range.min_vp_idx\n",
    "                     ).round(0).astype(\"int64\"),\n",
    "    )\n",
    "    \n",
    "    vp_idx_cols = [\n",
    "        \"min_vp_idx\", \n",
    "        \"p25_vp_idx\",\n",
    "        \"p50_vp_idx\", \n",
    "        \"p75_vp_idx\",\n",
    "        \"max_vp_idx\"\n",
    "    ]\n",
    "\n",
    "    results = vp_range[vp_idx_cols].compute().to_numpy().flatten()    \n",
    "    \n",
    "    results = list(results)\n",
    "    return results"
   ]
  },
  {
   "cell_type": "code",
   "execution_count": null,
   "id": "75d6fcc5-8c85-4c62-a063-62a7a73ecdc0",
   "metadata": {},
   "outputs": [],
   "source": [
    "triangulate_muni = triangulate_vp(vp_filtered, 'trip_instance_key')"
   ]
  },
  {
   "cell_type": "code",
   "execution_count": null,
   "id": "9093ef29-79fd-4ca2-9abb-897cd7f6768c",
   "metadata": {},
   "outputs": [],
   "source": [
    "vp_results = dd.read_parquet(f\"{SEGMENT_GCS}vp_usable_{analysis_date}\",\n",
    "        columns = [\n",
    "            \"gtfs_dataset_key\", \"trip_instance_key\",\n",
    "            \"location_timestamp_local\",\n",
    "            \"x\", \"y\", \"vp_idx\"],\n",
    "        filters = [[('gtfs_dataset_name', \"==\", operator),\n",
    "                   ('schedule_gtfs_dataset_key', '==', gtfs_key),\n",
    "                    ('vp_idx', 'in', triangulate_muni)]]).compute()"
   ]
  },
  {
   "cell_type": "code",
   "execution_count": null,
   "id": "b9ed5b3a-2e06-4389-84d9-dd39ea5042ad",
   "metadata": {},
   "outputs": [],
   "source": [
    "vp_results.sample(2)"
   ]
  },
  {
   "cell_type": "code",
   "execution_count": null,
   "id": "7c586115-3b28-4333-80f0-01aaea84c711",
   "metadata": {},
   "outputs": [],
   "source": [
    "len(vp_results.loc[vp_results.trip_instance_key == \"5e067d518df2c7d76b7465f1c7d0901e\"])"
   ]
  },
  {
   "cell_type": "code",
   "execution_count": null,
   "id": "a8c059c8-7b24-409b-abd0-8c99be8fd29c",
   "metadata": {},
   "outputs": [],
   "source": [
    "len(vp_filtered.loc[vp_filtered.trip_instance_key == \"5e067d518df2c7d76b7465f1c7d0901e\"])"
   ]
  },
  {
   "cell_type": "code",
   "execution_count": null,
   "id": "e8c60e57-1c5e-46bb-aa4b-7247f4f38a4d",
   "metadata": {},
   "outputs": [],
   "source": [
    "len(vp_results.loc[vp_results.trip_instance_key == \"37e64d454f8679b38b2d35ed0d256df0\"])"
   ]
  },
  {
   "cell_type": "code",
   "execution_count": null,
   "id": "055797b8-a395-4a71-aaa2-3202c521126a",
   "metadata": {},
   "outputs": [],
   "source": [
    "len(vp_filtered.loc[vp_filtered.trip_instance_key == \"37e64d454f8679b38b2d35ed0d256df0\"])"
   ]
  },
  {
   "cell_type": "markdown",
   "id": "65ce88c6-27b2-4329-9e20-e8cb26dd2806",
   "metadata": {},
   "source": [
    "* vp_results is a pandas df but merge_rt_scheduled requires dask dataframe...it still works!"
   ]
  },
  {
   "cell_type": "code",
   "execution_count": null,
   "id": "0a668b99-615a-4d27-99e6-3b989182a4cc",
   "metadata": {},
   "outputs": [],
   "source": [
    "type(vp_results)"
   ]
  },
  {
   "cell_type": "code",
   "execution_count": null,
   "id": "63c04621-ad68-4e3d-9cec-133dbf0aa3b0",
   "metadata": {},
   "outputs": [],
   "source": [
    "def merge_rt_scheduled_trips(\n",
    "    rt_trips: dd.DataFrame,\n",
    "    analysis_date: str,\n",
    "    group_cols: list = [\"trip_instance_key\"]) -> dd.DataFrame:\n",
    "    \"\"\"\n",
    "    Merge RT trips (vehicle positions) to scheduled trips \n",
    "    to get the shape_array_key.\n",
    "    Don't pull other scheduled trip columns now, wait until\n",
    "    after aggregation is done.\n",
    "    \"\"\"\n",
    "    trips = helpers.import_scheduled_trips(\n",
    "        analysis_date,\n",
    "        columns = group_cols + [\"shape_array_key\"],\n",
    "        get_pandas = True\n",
    "    )\n",
    "        \n",
    "    df = dd.merge(\n",
    "        rt_trips,\n",
    "        trips,\n",
    "        on = group_cols,\n",
    "        how = \"left\",\n",
    "    )\n",
    "    \n",
    "    return df"
   ]
  },
  {
   "cell_type": "code",
   "execution_count": null,
   "id": "866b83cc-c0d9-4fc5-b794-f995e8b760de",
   "metadata": {},
   "outputs": [],
   "source": [
    "vp_with_sched = (\n",
    "        merge_rt_scheduled_trips(\n",
    "            vp_results, \n",
    "            analysis_date, \n",
    "            group_cols = [\"trip_instance_key\"]\n",
    "        ).sort_values(\"vp_idx\")\n",
    "        .reset_index(drop=True)\n",
    "    )"
   ]
  },
  {
   "cell_type": "code",
   "execution_count": null,
   "id": "8b6f6495-aa13-4452-a2c9-bf8c1f7f49fd",
   "metadata": {},
   "outputs": [],
   "source": [
    "vp_with_sched.head()"
   ]
  },
  {
   "cell_type": "markdown",
   "id": "687e9c19-daf3-4384-942a-947728bb0680",
   "metadata": {
    "tags": []
   },
   "source": [
    "### C3\n",
    "https://github.com/cal-itp/data-analyses/blob/main/rt_segment_speeds/scripts/C3_trip_route_speed.py"
   ]
  },
  {
   "cell_type": "code",
   "execution_count": null,
   "id": "067650b7-5d05-44a5-8ba3-e9006bd33250",
   "metadata": {},
   "outputs": [],
   "source": [
    "vp_with_sched.sample(2)"
   ]
  },
  {
   "cell_type": "code",
   "execution_count": null,
   "id": "78c974a0-51f8-42a0-b256-1d8f7c22482e",
   "metadata": {},
   "outputs": [],
   "source": [
    "c3 = gpd.GeoDataFrame(\n",
    "        vp_with_sched,\n",
    "        geometry = gpd.points_from_xy(vp_with_sched.x, vp_with_sched.y, crs=WGS84)\n",
    "    ).to_crs(PROJECT_CRS).drop(columns = [\"x\", \"y\"])"
   ]
  },
  {
   "cell_type": "code",
   "execution_count": null,
   "id": "757667a0-e377-4afe-a136-7cfaf219f0df",
   "metadata": {},
   "outputs": [],
   "source": [
    "# c3.sample(10).drop(columns = ['location_timestamp_local']).explore('shape_array_key', marker_kwds= {'radius':25})"
   ]
  },
  {
   "cell_type": "code",
   "execution_count": null,
   "id": "23c64d78-3c7f-4b58-9ccd-18159d9e1a4e",
   "metadata": {},
   "outputs": [],
   "source": [
    "shapes_list = c3.shape_array_key.unique().tolist()"
   ]
  },
  {
   "cell_type": "code",
   "execution_count": null,
   "id": "b3bd3c05-7c1d-44e8-afe3-a28a7c6e6190",
   "metadata": {},
   "outputs": [],
   "source": [
    "shapes = helpers.import_scheduled_shapes(\n",
    "        analysis_date,\n",
    "        columns = [\"shape_array_key\",\"geometry\"],\n",
    "        filters = [[(\"shape_array_key\", \"in\", shapes_list)]],\n",
    "        get_pandas = True,\n",
    "        crs = PROJECT_CRS\n",
    "    )"
   ]
  },
  {
   "cell_type": "code",
   "execution_count": null,
   "id": "27c8fff8-f8a7-4906-a3f4-7faac4969bde",
   "metadata": {},
   "outputs": [],
   "source": [
    "c3_m = pd.merge(\n",
    "        c3,\n",
    "        shapes,\n",
    "        on = \"shape_array_key\",\n",
    "        how = \"inner\"\n",
    "    ).rename(columns = {\"geometry_x\": \"vp_geometry\", \n",
    "                        \"geometry_y\": \"shape_geometry\"}\n",
    "            ).set_geometry(\"vp_geometry\")"
   ]
  },
  {
   "cell_type": "code",
   "execution_count": null,
   "id": "7430576e-c571-45de-afb9-500c21336808",
   "metadata": {},
   "outputs": [],
   "source": [
    "shape_meters_geoseries = wrangle_shapes.project_point_geom_onto_linestring(\n",
    "        c3_m,\n",
    "        \"shape_geometry\",\n",
    "        \"vp_geometry\",\n",
    "    )\n"
   ]
  },
  {
   "cell_type": "code",
   "execution_count": null,
   "id": "5163eb06-c65a-4c30-b36c-c31eb01d3fbf",
   "metadata": {},
   "outputs": [],
   "source": [
    "shape_meters_geoseries.head()"
   ]
  },
  {
   "cell_type": "code",
   "execution_count": null,
   "id": "6631d594-78d7-494a-8bd2-86d2b0c19b1f",
   "metadata": {},
   "outputs": [],
   "source": [
    "c3_m[\"shape_meters\"] = shape_meters_geoseries"
   ]
  },
  {
   "cell_type": "code",
   "execution_count": null,
   "id": "f707a0d5-6b52-4c35-bb06-bf8b8f4f69ba",
   "metadata": {},
   "outputs": [],
   "source": [
    "def distance_and_seconds_elapsed(\n",
    "    df: pd.DataFrame, \n",
    "    group_cols: list\n",
    ") -> pd.DataFrame:\n",
    "    \"\"\"\n",
    "    If every trip has 3 vp, we want the change in time and distance\n",
    "    between 1st and 2nd, 2nd and 3rd.\n",
    "    Then, sum up the change in time and change by trip.\n",
    "    \"\"\"\n",
    "    dist_col = \"shape_meters\"\n",
    "    time_col = \"location_timestamp_local\"\n",
    "    sort_cols = group_cols + [\"vp_idx\"]\n",
    "    \n",
    "    # Get the change in distance, time for each row\n",
    "    df = df.assign(\n",
    "        prior_dist = (df.sort_values(sort_cols)\n",
    "                      .groupby(group_cols, \n",
    "                               observed=True, group_keys=False)\n",
    "                      [dist_col]\n",
    "                      .apply(lambda x: x.shift(1))\n",
    "                     ),\n",
    "        prior_time = (df.sort_values(sort_cols)\n",
    "                      .groupby(group_cols, \n",
    "                               observed=True, group_keys=False)\n",
    "                      [time_col]\n",
    "                      .apply(lambda x: x.shift(1))\n",
    "                     )   \n",
    "    )\n",
    "    \n",
    "    # distance should be positive, but sometimes it's not, \n",
    "    # so use absolute value\n",
    "    df = df.assign(\n",
    "        change_meters = abs(df[dist_col] - df.prior_dist),\n",
    "        change_sec = (df[time_col] - df.prior_time).divide(\n",
    "                       np.timedelta64(1, 's'))\n",
    "    )\n",
    "    \n",
    "    # For a trip, sum up the total change in distance and time \n",
    "    # Easier to calculate the speed this way, than\n",
    "    # taking a weighted average later\n",
    "    df2 = (df.groupby(group_cols, \n",
    "                     observed=True, group_keys=False)\n",
    "           .agg({\"change_meters\": \"sum\", \n",
    "                 \"change_sec\": \"sum\"})\n",
    "           .reset_index()\n",
    "          )\n",
    "    \n",
    "    df2 = df2.assign(\n",
    "        speed_mph = (df2.change_meters.divide(df2.change_sec) * \n",
    "                     MPH_PER_MPS)\n",
    "    )\n",
    "    \n",
    "    return df2\n"
   ]
  },
  {
   "cell_type": "code",
   "execution_count": null,
   "id": "1fabd6c3-2687-4137-b943-5d7d8823b392",
   "metadata": {},
   "outputs": [],
   "source": [
    "speed = distance_and_seconds_elapsed(\n",
    "        c3_m,\n",
    "        group_cols = [\"gtfs_dataset_key\", \"trip_instance_key\"]\n",
    "    )\n",
    "    "
   ]
  }
 ],
 "metadata": {
  "kernelspec": {
   "display_name": "Python 3 (ipykernel)",
   "language": "python",
   "name": "python3"
  },
  "language_info": {
   "codemirror_mode": {
    "name": "ipython",
    "version": 3
   },
   "file_extension": ".py",
   "mimetype": "text/x-python",
   "name": "python",
   "nbconvert_exporter": "python",
   "pygments_lexer": "ipython3",
   "version": "3.9.13"
  }
 },
 "nbformat": 4,
 "nbformat_minor": 5
}
