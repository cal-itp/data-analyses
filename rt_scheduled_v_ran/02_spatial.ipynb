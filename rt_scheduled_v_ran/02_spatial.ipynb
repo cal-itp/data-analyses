{
 "cells": [
  {
   "cell_type": "markdown",
   "id": "c410afe6-22d7-4546-817c-fea818954108",
   "metadata": {},
   "source": [
    "# Migrate to VP Usable\n",
    "* https://github.com/cal-itp/data-analyses/issues/936\n",
    "* cd rt_segment_speeds && pip install -r requirements.txt && cd ..\n",
    "    * https://github.com/cal-itp/data-analyses/blob/main/Makefile#L49C2-L49C66\n",
    "    "
   ]
  },
  {
   "cell_type": "code",
   "execution_count": 1,
   "id": "8de007c5-4cdb-4285-9536-0a5f7b75b2de",
   "metadata": {},
   "outputs": [],
   "source": [
    "import datetime\n",
    "import dask.dataframe as dd\n",
    "import dask_geopandas as dg\n",
    "import dask\n",
    "import geopandas as gpd\n",
    "import pandas as pd\n",
    "from scripts import vp_spatial_accuracy\n",
    "from segment_speed_utils import helpers\n",
    "from calitp_data_analysis.geography_utils import WGS84\n",
    "from segment_speed_utils.project_vars import (\n",
    "    PROJECT_CRS,\n",
    "    SEGMENT_GCS,\n",
    "    analysis_date,\n",
    "    GCS_FILE_PATH,\n",
    "    COMPILED_CACHED_VIEWS,\n",
    "    RT_SCHED_GCS,\n",
    "    CONFIG_PATH\n",
    ")\n",
    "\n",
    "# For speeds c2\n",
    "from typing import Literal\n",
    "import numpy as np\n",
    "\n",
    "# for speeds c3\n",
    "# also import numpy \n",
    "from shared_utils.rt_utils import MPH_PER_MPS\n",
    "from calitp_data_analysis import utils\n",
    "from shared_utils import portfolio_utils, schedule_rt_utils\n",
    "from segment_speed_utils import helpers, sched_rt_utils, wrangle_shapes"
   ]
  },
  {
   "cell_type": "code",
   "execution_count": 2,
   "id": "c5ba79eb-2d4e-4daa-9de6-3ab657ac0a15",
   "metadata": {},
   "outputs": [],
   "source": [
    "pd.options.display.max_columns = 100\n",
    "pd.options.display.float_format = \"{:.2f}\".format\n",
    "pd.set_option(\"display.max_rows\", None)\n",
    "pd.set_option(\"display.max_colwidth\", None)"
   ]
  },
  {
   "cell_type": "code",
   "execution_count": 3,
   "id": "d8c8f895-8b72-413a-8ec2-72e7e0ebf29f",
   "metadata": {},
   "outputs": [],
   "source": [
    "# calitp-analytics-data/data-analyses/rt_segment_speeds/vp_usable_2023-10-11\n",
    "operator = 'Bay Area 511 Muni VehiclePositions'\n",
    "gtfs_key = '7cc0cb1871dfd558f11a2885c145d144'"
   ]
  },
  {
   "cell_type": "markdown",
   "id": "a3863c86-7f53-4755-8444-534a2f11e59c",
   "metadata": {},
   "source": [
    "## Spatial Accuracy\n",
    "* Based on https://github.com/cal-itp/data-analyses/blob/main/rt_scheduled_v_ran/scripts/vp_spatial_accuracy.py\n",
    "### Grab_shape_keys_in_vp"
   ]
  },
  {
   "cell_type": "code",
   "execution_count": 4,
   "id": "6bd6833a-7eb4-487a-bb3a-e445a2d1941d",
   "metadata": {},
   "outputs": [],
   "source": [
    "def grab_shape_keys_in_vp(analysis_date: str) -> pd.DataFrame:\n",
    "    \"\"\"\n",
    "    Subset raw vp and find unique trip_instance_keys.\n",
    "    Create crosswalk to link trip_instance_key to shape_array_key.\n",
    "    \"\"\"\n",
    "    vp_trip_df  = pd.read_parquet(f\"{SEGMENT_GCS}vp_usable_{analysis_date}\",\n",
    "        filters = [[('gtfs_dataset_name', \"==\", operator),\n",
    "                   ('schedule_gtfs_dataset_key', '==', gtfs_key)]],\n",
    "        columns = ['trip_instance_key'])\n",
    "    \n",
    "    vp_trip_df  = vp_trip_df.drop_duplicates(subset=\"trip_instance_key\").reset_index(drop = True)\n",
    "    \n",
    "    # Make sure we have a shape geometry too\n",
    "    # otherwise map_partitions will throw error\n",
    "    shapes = pd.read_parquet(\n",
    "        f\"{COMPILED_CACHED_VIEWS}routelines_{analysis_date}.parquet\",\n",
    "        columns = [\"shape_array_key\"],\n",
    "    ).dropna().drop_duplicates()\n",
    "    \n",
    "    trips_with_shape = helpers.import_scheduled_trips(\n",
    "        analysis_date,\n",
    "        columns = [\"trip_instance_key\", \"shape_array_key\"],\n",
    "        get_pandas = True\n",
    "    ).merge(\n",
    "        shapes,\n",
    "        on = \"shape_array_key\",\n",
    "        how = \"inner\"\n",
    "    ).merge(\n",
    "        vp_trip_df,\n",
    "        on = \"trip_instance_key\",\n",
    "        how = \"inner\"\n",
    "    ).drop_duplicates().dropna().reset_index(drop=True)\n",
    "\n",
    "    return trips_with_shape"
   ]
  },
  {
   "cell_type": "code",
   "execution_count": 5,
   "id": "8759e976-ea60-4604-945d-1ec9693b0495",
   "metadata": {},
   "outputs": [],
   "source": [
    "trips_with_shape = grab_shape_keys_in_vp(analysis_date)"
   ]
  },
  {
   "cell_type": "code",
   "execution_count": 6,
   "id": "bbbc85b4-a588-4f20-9822-eb4d5b4b3723",
   "metadata": {},
   "outputs": [
    {
     "data": {
      "text/plain": [
       "(9240, 2)"
      ]
     },
     "execution_count": 6,
     "metadata": {},
     "output_type": "execute_result"
    }
   ],
   "source": [
    "trips_with_shape.shape"
   ]
  },
  {
   "cell_type": "code",
   "execution_count": 7,
   "id": "34f69e0d-68c8-4b8e-8b82-8318672d0f4d",
   "metadata": {},
   "outputs": [
    {
     "data": {
      "text/html": [
       "<div>\n",
       "<style scoped>\n",
       "    .dataframe tbody tr th:only-of-type {\n",
       "        vertical-align: middle;\n",
       "    }\n",
       "\n",
       "    .dataframe tbody tr th {\n",
       "        vertical-align: top;\n",
       "    }\n",
       "\n",
       "    .dataframe thead th {\n",
       "        text-align: right;\n",
       "    }\n",
       "</style>\n",
       "<table border=\"1\" class=\"dataframe\">\n",
       "  <thead>\n",
       "    <tr style=\"text-align: right;\">\n",
       "      <th></th>\n",
       "      <th>trip_instance_key</th>\n",
       "      <th>shape_array_key</th>\n",
       "    </tr>\n",
       "  </thead>\n",
       "  <tbody>\n",
       "    <tr>\n",
       "      <th>0</th>\n",
       "      <td>12de3d260e9fe09fa878cb4cdb2d6898</td>\n",
       "      <td>749b225ca6691f77914e88577dc13e68</td>\n",
       "    </tr>\n",
       "    <tr>\n",
       "      <th>1</th>\n",
       "      <td>934aea5748bce830ffc2fa88dc01402a</td>\n",
       "      <td>749b225ca6691f77914e88577dc13e68</td>\n",
       "    </tr>\n",
       "    <tr>\n",
       "      <th>2</th>\n",
       "      <td>3d06fa8e68e4f38d3ccc7adfabb5c3d9</td>\n",
       "      <td>f1a7410fae06937b7183f6a553707915</td>\n",
       "    </tr>\n",
       "    <tr>\n",
       "      <th>3</th>\n",
       "      <td>34109ad8cfeca83cd459d42c7d51d602</td>\n",
       "      <td>f1a7410fae06937b7183f6a553707915</td>\n",
       "    </tr>\n",
       "    <tr>\n",
       "      <th>4</th>\n",
       "      <td>34acd907ae9d5eb5456d683d2458bbc6</td>\n",
       "      <td>f1a7410fae06937b7183f6a553707915</td>\n",
       "    </tr>\n",
       "  </tbody>\n",
       "</table>\n",
       "</div>"
      ],
      "text/plain": [
       "                  trip_instance_key                   shape_array_key\n",
       "0  12de3d260e9fe09fa878cb4cdb2d6898  749b225ca6691f77914e88577dc13e68\n",
       "1  934aea5748bce830ffc2fa88dc01402a  749b225ca6691f77914e88577dc13e68\n",
       "2  3d06fa8e68e4f38d3ccc7adfabb5c3d9  f1a7410fae06937b7183f6a553707915\n",
       "3  34109ad8cfeca83cd459d42c7d51d602  f1a7410fae06937b7183f6a553707915\n",
       "4  34acd907ae9d5eb5456d683d2458bbc6  f1a7410fae06937b7183f6a553707915"
      ]
     },
     "execution_count": 7,
     "metadata": {},
     "output_type": "execute_result"
    }
   ],
   "source": [
    "trips_with_shape.head()"
   ]
  },
  {
   "cell_type": "markdown",
   "id": "8be73ca3-7ca2-4616-9504-7defe86f3792",
   "metadata": {},
   "source": [
    "### Buffer shapes"
   ]
  },
  {
   "cell_type": "code",
   "execution_count": 8,
   "id": "ca9923a7-914f-43ce-a840-a15d41b43aee",
   "metadata": {},
   "outputs": [],
   "source": [
    "# This is trips_with_shape_geom\n",
    "trips_with_shape_geom =  vp_spatial_accuracy.buffer_shapes(analysis_date, \n",
    "                                trips_with_shape,\n",
    "                                35)"
   ]
  },
  {
   "cell_type": "code",
   "execution_count": 9,
   "id": "caf4dd49-4839-475d-99ff-7765ef5fb20a",
   "metadata": {},
   "outputs": [
    {
     "data": {
      "text/plain": [
       "(9240, 3)"
      ]
     },
     "execution_count": 9,
     "metadata": {},
     "output_type": "execute_result"
    }
   ],
   "source": [
    "trips_with_shape_geom.shape"
   ]
  },
  {
   "cell_type": "code",
   "execution_count": 10,
   "id": "beaddbc2-fd11-4021-bdf0-7eea81835226",
   "metadata": {},
   "outputs": [],
   "source": [
    "vp = dd.read_parquet(f\"{SEGMENT_GCS}vp_usable_{analysis_date}\",\n",
    "        filters = [[('gtfs_dataset_name', \"==\", operator),\n",
    "                   ('schedule_gtfs_dataset_key', '==', gtfs_key)]])"
   ]
  },
  {
   "cell_type": "code",
   "execution_count": 11,
   "id": "79fe772c-74db-49e7-b41d-e1daa3f23ee3",
   "metadata": {},
   "outputs": [],
   "source": [
    "def merge_vp_with_shape_and_count(\n",
    "    vp: dd.DataFrame,\n",
    "    trips_with_shape_geom: gpd.GeoDataFrame\n",
    ") -> gpd.GeoDataFrame:\n",
    "    \"\"\"\n",
    "    Merge vp with crosswalk and buffered shapes.\n",
    "    Get vp count totals and vp within shape.\n",
    "    \"\"\"\n",
    "    vp_gdf = gpd.GeoDataFrame(\n",
    "        vp,\n",
    "        geometry = gpd.points_from_xy(vp.x, vp.y),\n",
    "        crs = WGS84\n",
    "    ).to_crs(PROJECT_CRS)\n",
    "    \n",
    "    vp_gdf = vp_gdf.rename(columns = {\n",
    "    0:'gtfs_dataset_name',\n",
    "    1: 'schedule_gtfs_dataset_key', \n",
    "    2:'trip_id',\n",
    "    3:'trip_instance_key',\n",
    "    4: 'location_timestamp', \n",
    "    5: 'location_timestamp_local',\n",
    "    6:'x',\n",
    "    7:'y', \n",
    "    8:'vp_idx', \n",
    "    9:'gtfs_dataset_key', \n",
    "    10:'vp_dir_xnorm', \n",
    "    11:'vp_dir_ynorm',\n",
    "    12:'vp_primary_direction'})\n",
    "    \n",
    "    vp2 = pd.merge(\n",
    "        vp_gdf,\n",
    "        trips_with_shape_geom,\n",
    "        on = \"trip_instance_key\",\n",
    "        how = \"inner\"\n",
    "    ).reset_index(drop=True)\n",
    "    \n",
    "    total_vp = vp_spatial_accuracy.total_vp_counts_by_trip(vp2)\n",
    "    \n",
    "    vp2 = vp2.assign(\n",
    "        is_within = vp2.geometry_x.within(vp2.geometry_y)\n",
    "    ).query('is_within==True')\n",
    "    \n",
    "    vps_in_shape = (vp2.groupby(\"trip_instance_key\", \n",
    "                                observed = True, group_keys = False)\n",
    "                    .agg({\"location_timestamp_local\": \"count\"})\n",
    "                    .reset_index()\n",
    "                    .rename(columns = {\"location_timestamp_local\": \"vp_in_shape\"})\n",
    "                   )\n",
    "        \n",
    "    count_df = pd.merge(\n",
    "        total_vp,\n",
    "        vps_in_shape,\n",
    "        on = \"trip_instance_key\",\n",
    "        how = \"left\"\n",
    "    )\n",
    "    \n",
    "    count_df = count_df.assign(\n",
    "        vp_in_shape = count_df.vp_in_shape.fillna(0).astype(\"int32\"),\n",
    "        total_vp = count_df.total_vp.fillna(0).astype(\"int32\")\n",
    "    )\n",
    "    \n",
    "    return count_df"
   ]
  },
  {
   "cell_type": "code",
   "execution_count": 12,
   "id": "561287f4-8189-441c-881c-1f34fc43e7d5",
   "metadata": {},
   "outputs": [],
   "source": [
    "muni = merge_vp_with_shape_and_count(vp, trips_with_shape_geom)"
   ]
  },
  {
   "cell_type": "code",
   "execution_count": 13,
   "id": "bcaa5da2-21a5-4c87-825a-fa2637ef9b8f",
   "metadata": {},
   "outputs": [
    {
     "data": {
      "text/plain": [
       "count   9240.00\n",
       "mean     161.87\n",
       "std       64.06\n",
       "min        0.00\n",
       "25%      118.00\n",
       "50%      167.00\n",
       "75%      207.00\n",
       "max      481.00\n",
       "Name: vp_in_shape, dtype: float64"
      ]
     },
     "execution_count": 13,
     "metadata": {},
     "output_type": "execute_result"
    }
   ],
   "source": [
    "muni.vp_in_shape.describe()"
   ]
  },
  {
   "cell_type": "code",
   "execution_count": 14,
   "id": "eaa02c27-eda6-47ac-ae18-827f1616d73e",
   "metadata": {},
   "outputs": [
    {
     "data": {
      "text/html": [
       "<div>\n",
       "<style scoped>\n",
       "    .dataframe tbody tr th:only-of-type {\n",
       "        vertical-align: middle;\n",
       "    }\n",
       "\n",
       "    .dataframe tbody tr th {\n",
       "        vertical-align: top;\n",
       "    }\n",
       "\n",
       "    .dataframe thead th {\n",
       "        text-align: right;\n",
       "    }\n",
       "</style>\n",
       "<table border=\"1\" class=\"dataframe\">\n",
       "  <thead>\n",
       "    <tr style=\"text-align: right;\">\n",
       "      <th></th>\n",
       "      <th>trip_instance_key</th>\n",
       "      <th>total_vp</th>\n",
       "      <th>vp_in_shape</th>\n",
       "    </tr>\n",
       "  </thead>\n",
       "  <tbody>\n",
       "    <tr>\n",
       "      <th>167</th>\n",
       "      <td>04ae6ea9655473bdcaf9b80d443558ae</td>\n",
       "      <td>111</td>\n",
       "      <td>0</td>\n",
       "    </tr>\n",
       "    <tr>\n",
       "      <th>351</th>\n",
       "      <td>0a1553b7a738967a422b7b8960560ded</td>\n",
       "      <td>75</td>\n",
       "      <td>0</td>\n",
       "    </tr>\n",
       "    <tr>\n",
       "      <th>408</th>\n",
       "      <td>0bc53a1063efae8a32eca4a9034d2a21</td>\n",
       "      <td>61</td>\n",
       "      <td>0</td>\n",
       "    </tr>\n",
       "    <tr>\n",
       "      <th>1128</th>\n",
       "      <td>1fe28ce8669a7f946f272faf80d80ce7</td>\n",
       "      <td>70</td>\n",
       "      <td>0</td>\n",
       "    </tr>\n",
       "    <tr>\n",
       "      <th>1981</th>\n",
       "      <td>37aed2e5ad125f8aede20922b38bf6b9</td>\n",
       "      <td>78</td>\n",
       "      <td>0</td>\n",
       "    </tr>\n",
       "    <tr>\n",
       "      <th>3022</th>\n",
       "      <td>54e54e2839a6945b1005322398a89ae9</td>\n",
       "      <td>132</td>\n",
       "      <td>0</td>\n",
       "    </tr>\n",
       "    <tr>\n",
       "      <th>3127</th>\n",
       "      <td>580684a7a6b43ce5130f60a441681713</td>\n",
       "      <td>46</td>\n",
       "      <td>0</td>\n",
       "    </tr>\n",
       "    <tr>\n",
       "      <th>3213</th>\n",
       "      <td>5a82f8c02f2036db77b1979f4ae228f5</td>\n",
       "      <td>41</td>\n",
       "      <td>0</td>\n",
       "    </tr>\n",
       "    <tr>\n",
       "      <th>3861</th>\n",
       "      <td>6cbdc2d321ca63df78bce01eeb06fe07</td>\n",
       "      <td>47</td>\n",
       "      <td>0</td>\n",
       "    </tr>\n",
       "    <tr>\n",
       "      <th>3937</th>\n",
       "      <td>6ee4a9165f47b59cb3e10b0125dd72e8</td>\n",
       "      <td>34</td>\n",
       "      <td>0</td>\n",
       "    </tr>\n",
       "    <tr>\n",
       "      <th>4562</th>\n",
       "      <td>7ff345e91303290951ef0665a57dc90e</td>\n",
       "      <td>55</td>\n",
       "      <td>0</td>\n",
       "    </tr>\n",
       "    <tr>\n",
       "      <th>5288</th>\n",
       "      <td>9351c60516ef43464d962a956d1b3806</td>\n",
       "      <td>96</td>\n",
       "      <td>0</td>\n",
       "    </tr>\n",
       "    <tr>\n",
       "      <th>5894</th>\n",
       "      <td>a40cc2271f048e2b72d94b051c6688cb</td>\n",
       "      <td>120</td>\n",
       "      <td>0</td>\n",
       "    </tr>\n",
       "    <tr>\n",
       "      <th>6119</th>\n",
       "      <td>aa82ee2a81331cbdf044a7d5280d436a</td>\n",
       "      <td>41</td>\n",
       "      <td>0</td>\n",
       "    </tr>\n",
       "    <tr>\n",
       "      <th>6758</th>\n",
       "      <td>bcb78da06a56761d2a3b8b16a3436f3d</td>\n",
       "      <td>101</td>\n",
       "      <td>0</td>\n",
       "    </tr>\n",
       "    <tr>\n",
       "      <th>7043</th>\n",
       "      <td>c3fc63ec2ff7a35c0f821659075be708</td>\n",
       "      <td>60</td>\n",
       "      <td>0</td>\n",
       "    </tr>\n",
       "    <tr>\n",
       "      <th>7543</th>\n",
       "      <td>d21ff3a0d37a484dc4f979d052652565</td>\n",
       "      <td>45</td>\n",
       "      <td>0</td>\n",
       "    </tr>\n",
       "    <tr>\n",
       "      <th>7734</th>\n",
       "      <td>d79da0eafb4ac5188f1cd14850a6f880</td>\n",
       "      <td>90</td>\n",
       "      <td>0</td>\n",
       "    </tr>\n",
       "    <tr>\n",
       "      <th>8431</th>\n",
       "      <td>ea8751445dcd6a175bd23ec5fc423d0c</td>\n",
       "      <td>44</td>\n",
       "      <td>0</td>\n",
       "    </tr>\n",
       "    <tr>\n",
       "      <th>8718</th>\n",
       "      <td>f298ef83aaa934eb6577fd2ca19d4ebd</td>\n",
       "      <td>82</td>\n",
       "      <td>0</td>\n",
       "    </tr>\n",
       "  </tbody>\n",
       "</table>\n",
       "</div>"
      ],
      "text/plain": [
       "                     trip_instance_key  total_vp  vp_in_shape\n",
       "167   04ae6ea9655473bdcaf9b80d443558ae       111            0\n",
       "351   0a1553b7a738967a422b7b8960560ded        75            0\n",
       "408   0bc53a1063efae8a32eca4a9034d2a21        61            0\n",
       "1128  1fe28ce8669a7f946f272faf80d80ce7        70            0\n",
       "1981  37aed2e5ad125f8aede20922b38bf6b9        78            0\n",
       "3022  54e54e2839a6945b1005322398a89ae9       132            0\n",
       "3127  580684a7a6b43ce5130f60a441681713        46            0\n",
       "3213  5a82f8c02f2036db77b1979f4ae228f5        41            0\n",
       "3861  6cbdc2d321ca63df78bce01eeb06fe07        47            0\n",
       "3937  6ee4a9165f47b59cb3e10b0125dd72e8        34            0\n",
       "4562  7ff345e91303290951ef0665a57dc90e        55            0\n",
       "5288  9351c60516ef43464d962a956d1b3806        96            0\n",
       "5894  a40cc2271f048e2b72d94b051c6688cb       120            0\n",
       "6119  aa82ee2a81331cbdf044a7d5280d436a        41            0\n",
       "6758  bcb78da06a56761d2a3b8b16a3436f3d       101            0\n",
       "7043  c3fc63ec2ff7a35c0f821659075be708        60            0\n",
       "7543  d21ff3a0d37a484dc4f979d052652565        45            0\n",
       "7734  d79da0eafb4ac5188f1cd14850a6f880        90            0\n",
       "8431  ea8751445dcd6a175bd23ec5fc423d0c        44            0\n",
       "8718  f298ef83aaa934eb6577fd2ca19d4ebd        82            0"
      ]
     },
     "execution_count": 14,
     "metadata": {},
     "output_type": "execute_result"
    }
   ],
   "source": [
    "muni.loc[muni.vp_in_shape == 0]"
   ]
  },
  {
   "cell_type": "code",
   "execution_count": 15,
   "id": "ad776dcd-700e-499e-b1c2-57c44d255153",
   "metadata": {},
   "outputs": [
    {
     "data": {
      "text/plain": [
       "trip_instance_key    9240\n",
       "dtype: int64"
      ]
     },
     "execution_count": 15,
     "metadata": {},
     "output_type": "execute_result"
    }
   ],
   "source": [
    "vp[['trip_instance_key']].compute().nunique()"
   ]
  },
  {
   "cell_type": "markdown",
   "id": "19a20f72-8a90-4823-8cc5-32f91ae1286d",
   "metadata": {
    "tags": [],
    "toc-hr-collapsed": true
   },
   "source": [
    "## Update Completeness\n",
    "* https://github.com/cal-itp/data-analyses/blob/main/rt_predictions/01_update_completeness.ipynb"
   ]
  },
  {
   "cell_type": "code",
   "execution_count": 16,
   "id": "21f152c6-27cb-44fd-9dce-d6698a42f568",
   "metadata": {},
   "outputs": [],
   "source": [
    "from segment_speed_utils.project_vars import PREDICTIONS_GCS"
   ]
  },
  {
   "cell_type": "code",
   "execution_count": 17,
   "id": "38b45588-6646-4080-bc7c-04f4e10f564b",
   "metadata": {},
   "outputs": [
    {
     "data": {
      "text/plain": [
       "'gs://calitp-analytics-data/data-analyses/rt_predictions/'"
      ]
     },
     "execution_count": 17,
     "metadata": {},
     "output_type": "execute_result"
    }
   ],
   "source": [
    "PREDICTIONS_GCS"
   ]
  },
  {
   "cell_type": "code",
   "execution_count": 18,
   "id": "3a721d73-92fb-4062-91d4-9a1460bb6149",
   "metadata": {},
   "outputs": [
    {
     "data": {
      "text/plain": [
       "'gs://calitp-analytics-data/data-analyses/rt_delay/compiled_cached_views/'"
      ]
     },
     "execution_count": 18,
     "metadata": {},
     "output_type": "execute_result"
    }
   ],
   "source": [
    "COMPILED_CACHED_VIEWS"
   ]
  },
  {
   "cell_type": "code",
   "execution_count": 19,
   "id": "7f5c2279-b2c1-4416-8f7b-bbef94242564",
   "metadata": {},
   "outputs": [],
   "source": [
    "scheduled_url = f\"{COMPILED_CACHED_VIEWS}trips_{analysis_date}.parquet\""
   ]
  },
  {
   "cell_type": "code",
   "execution_count": 20,
   "id": "8256a634-2820-4147-90d8-291b477a7c54",
   "metadata": {},
   "outputs": [],
   "source": [
    "scheduled = pd.read_parquet(scheduled_url)"
   ]
  },
  {
   "cell_type": "code",
   "execution_count": 21,
   "id": "5f2f4964-8f05-4eb0-b0bc-39351a063f3c",
   "metadata": {},
   "outputs": [
    {
     "data": {
      "text/plain": [
       "Index(['feed_key', 'gtfs_dataset_key', 'name', 'regional_feed_type',\n",
       "       'service_date', 'trip_start_date_pacific', 'trip_id',\n",
       "       'trip_instance_key', 'route_key', 'route_id', 'route_type',\n",
       "       'route_short_name', 'route_long_name', 'route_desc', 'direction_id',\n",
       "       'shape_array_key', 'shape_id', 'trip_first_departure_datetime_pacific',\n",
       "       'trip_last_arrival_datetime_pacific', 'service_hours',\n",
       "       'trip_start_date_local_tz', 'trip_first_departure_datetime_local_tz',\n",
       "       'trip_last_arrival_datetime_local_tz'],\n",
       "      dtype='object')"
      ]
     },
     "execution_count": 21,
     "metadata": {},
     "output_type": "execute_result"
    }
   ],
   "source": [
    "scheduled.columns"
   ]
  },
  {
   "cell_type": "markdown",
   "id": "90cc9165-c83b-4d58-873d-25c98e992452",
   "metadata": {},
   "source": [
    "### Break apart old function"
   ]
  },
  {
   "cell_type": "code",
   "execution_count": 22,
   "id": "1cac0e24-2f86-4a58-ae60-c99d46ae6716",
   "metadata": {},
   "outputs": [
    {
     "data": {
      "text/plain": [
       "array(['Anaheim Resort TripUpdates',\n",
       "       'Bay Area 511 Dumbarton Express TripUpdates',\n",
       "       'Bay Area 511 Fairfield and Suisun Transit TripUpdates',\n",
       "       'Santa Cruz Trip Updates', 'Bear Trip Updates'], dtype=object)"
      ]
     },
     "execution_count": 22,
     "metadata": {},
     "output_type": "execute_result"
    }
   ],
   "source": [
    "df = pd.read_parquet(\n",
    "    f\"{PREDICTIONS_GCS}rt_sched_stop_times_2023-03-15.parquet\")\n",
    "df._gtfs_dataset_name.unique()"
   ]
  },
  {
   "cell_type": "code",
   "execution_count": 23,
   "id": "8ff31cc6-4e0d-49fa-a093-f6af5492f8d0",
   "metadata": {},
   "outputs": [
    {
     "data": {
      "text/plain": [
       "{'_extract_ts_local',\n",
       " '_gtfs_dataset_name',\n",
       " '_trip_update_message_age',\n",
       " 'actual_stop_arrival_pacific',\n",
       " 'predicted_pacific',\n",
       " 'schedule_relationship',\n",
       " 'scheduled_arrival',\n",
       " 'stop_id',\n",
       " 'stop_sequence',\n",
       " 'trip_start_time',\n",
       " 'trip_update_timestamp_local'}"
      ]
     },
     "execution_count": 23,
     "metadata": {},
     "output_type": "execute_result"
    }
   ],
   "source": [
    "prediction_cols = set(df.columns.tolist())\n",
    "scheduled_cols = set(scheduled.columns.tolist())\n",
    "prediction_cols - scheduled_cols"
   ]
  },
  {
   "cell_type": "code",
   "execution_count": 24,
   "id": "4d680cbc-c573-4a8f-a79e-fe764e3cc00c",
   "metadata": {},
   "outputs": [
    {
     "data": {
      "text/html": [
       "<div>\n",
       "<style scoped>\n",
       "    .dataframe tbody tr th:only-of-type {\n",
       "        vertical-align: middle;\n",
       "    }\n",
       "\n",
       "    .dataframe tbody tr th {\n",
       "        vertical-align: top;\n",
       "    }\n",
       "\n",
       "    .dataframe thead th {\n",
       "        text-align: right;\n",
       "    }\n",
       "</style>\n",
       "<table border=\"1\" class=\"dataframe\">\n",
       "  <thead>\n",
       "    <tr style=\"text-align: right;\">\n",
       "      <th></th>\n",
       "      <th>feed_key</th>\n",
       "      <th>gtfs_dataset_key</th>\n",
       "      <th>name</th>\n",
       "      <th>regional_feed_type</th>\n",
       "      <th>service_date</th>\n",
       "      <th>trip_start_date_pacific</th>\n",
       "      <th>trip_id</th>\n",
       "      <th>trip_instance_key</th>\n",
       "      <th>route_key</th>\n",
       "      <th>route_id</th>\n",
       "      <th>route_type</th>\n",
       "      <th>route_short_name</th>\n",
       "      <th>route_long_name</th>\n",
       "      <th>route_desc</th>\n",
       "      <th>direction_id</th>\n",
       "      <th>shape_array_key</th>\n",
       "      <th>shape_id</th>\n",
       "      <th>trip_first_departure_datetime_pacific</th>\n",
       "      <th>trip_last_arrival_datetime_pacific</th>\n",
       "      <th>service_hours</th>\n",
       "      <th>trip_start_date_local_tz</th>\n",
       "      <th>trip_first_departure_datetime_local_tz</th>\n",
       "      <th>trip_last_arrival_datetime_local_tz</th>\n",
       "    </tr>\n",
       "  </thead>\n",
       "  <tbody>\n",
       "    <tr>\n",
       "      <th>5315</th>\n",
       "      <td>e9996c3f773f360545f6aa9f937962a0</td>\n",
       "      <td>ecb6e412d4745e9ebbfb9df814e336f2</td>\n",
       "      <td>North County Schedule</td>\n",
       "      <td>None</td>\n",
       "      <td>2023-10-11</td>\n",
       "      <td>2023-10-11</td>\n",
       "      <td>17256079</td>\n",
       "      <td>dff416927b63ab0eb3345e1219e64986</td>\n",
       "      <td>718b8fb90c1facbf3914a96ecb68b99f</td>\n",
       "      <td>392</td>\n",
       "      <td>3</td>\n",
       "      <td>392</td>\n",
       "      <td>Oceanside TC - 14 Area</td>\n",
       "      <td>None</td>\n",
       "      <td>1.00</td>\n",
       "      <td>a0ffb5ee9c811a243aeda8a469ac473e</td>\n",
       "      <td>3920035</td>\n",
       "      <td>2023-10-11 08:44:00</td>\n",
       "      <td>2023-10-11 09:33:00</td>\n",
       "      <td>0.82</td>\n",
       "      <td>2023-10-11</td>\n",
       "      <td>2023-10-11 08:44:00</td>\n",
       "      <td>2023-10-11 09:33:00</td>\n",
       "    </tr>\n",
       "  </tbody>\n",
       "</table>\n",
       "</div>"
      ],
      "text/plain": [
       "                              feed_key                  gtfs_dataset_key  \\\n",
       "5315  e9996c3f773f360545f6aa9f937962a0  ecb6e412d4745e9ebbfb9df814e336f2   \n",
       "\n",
       "                       name regional_feed_type service_date  \\\n",
       "5315  North County Schedule               None   2023-10-11   \n",
       "\n",
       "     trip_start_date_pacific   trip_id                 trip_instance_key  \\\n",
       "5315              2023-10-11  17256079  dff416927b63ab0eb3345e1219e64986   \n",
       "\n",
       "                             route_key route_id route_type route_short_name  \\\n",
       "5315  718b8fb90c1facbf3914a96ecb68b99f      392          3              392   \n",
       "\n",
       "             route_long_name route_desc  direction_id  \\\n",
       "5315  Oceanside TC - 14 Area       None          1.00   \n",
       "\n",
       "                       shape_array_key shape_id  \\\n",
       "5315  a0ffb5ee9c811a243aeda8a469ac473e  3920035   \n",
       "\n",
       "     trip_first_departure_datetime_pacific trip_last_arrival_datetime_pacific  \\\n",
       "5315                   2023-10-11 08:44:00                2023-10-11 09:33:00   \n",
       "\n",
       "      service_hours trip_start_date_local_tz  \\\n",
       "5315           0.82               2023-10-11   \n",
       "\n",
       "     trip_first_departure_datetime_local_tz  \\\n",
       "5315                    2023-10-11 08:44:00   \n",
       "\n",
       "     trip_last_arrival_datetime_local_tz  \n",
       "5315                 2023-10-11 09:33:00  "
      ]
     },
     "execution_count": 24,
     "metadata": {},
     "output_type": "execute_result"
    }
   ],
   "source": [
    "scheduled.sample()"
   ]
  },
  {
   "cell_type": "code",
   "execution_count": 25,
   "id": "85a7031a-6cb8-4f92-8e61-935a2e77c481",
   "metadata": {},
   "outputs": [
    {
     "data": {
      "text/html": [
       "<div>\n",
       "<style scoped>\n",
       "    .dataframe tbody tr th:only-of-type {\n",
       "        vertical-align: middle;\n",
       "    }\n",
       "\n",
       "    .dataframe tbody tr th {\n",
       "        vertical-align: top;\n",
       "    }\n",
       "\n",
       "    .dataframe thead th {\n",
       "        text-align: right;\n",
       "    }\n",
       "</style>\n",
       "<table border=\"1\" class=\"dataframe\">\n",
       "  <thead>\n",
       "    <tr style=\"text-align: right;\">\n",
       "      <th></th>\n",
       "      <th>gtfs_dataset_key</th>\n",
       "      <th>_gtfs_dataset_name</th>\n",
       "      <th>service_date</th>\n",
       "      <th>trip_id</th>\n",
       "      <th>trip_start_time</th>\n",
       "      <th>_trip_update_message_age</th>\n",
       "      <th>stop_id</th>\n",
       "      <th>stop_sequence</th>\n",
       "      <th>schedule_relationship</th>\n",
       "      <th>_extract_ts_local</th>\n",
       "      <th>trip_update_timestamp_local</th>\n",
       "      <th>shape_id</th>\n",
       "      <th>route_id</th>\n",
       "      <th>scheduled_arrival</th>\n",
       "      <th>actual_stop_arrival_pacific</th>\n",
       "      <th>predicted_pacific</th>\n",
       "    </tr>\n",
       "  </thead>\n",
       "  <tbody>\n",
       "    <tr>\n",
       "      <th>840788</th>\n",
       "      <td>9255cb4744d73d4a39f512180a7cf63a</td>\n",
       "      <td>Bay Area 511 Fairfield and Suisun Transit TripUpdates</td>\n",
       "      <td>2023-03-15</td>\n",
       "      <td>t_5525686_b_79892_tn_5</td>\n",
       "      <td>2023-03-15 11:15:00</td>\n",
       "      <td>9</td>\n",
       "      <td>75552</td>\n",
       "      <td>12.00</td>\n",
       "      <td>SCHEDULED</td>\n",
       "      <td>2023-03-15 11:23:40</td>\n",
       "      <td>2023-03-15 11:23:31</td>\n",
       "      <td>p_1432449</td>\n",
       "      <td>6</td>\n",
       "      <td>NaT</td>\n",
       "      <td>2023-03-15 11:28:09</td>\n",
       "      <td>2023-03-15 11:26:26</td>\n",
       "    </tr>\n",
       "  </tbody>\n",
       "</table>\n",
       "</div>"
      ],
      "text/plain": [
       "                        gtfs_dataset_key  \\\n",
       "840788  9255cb4744d73d4a39f512180a7cf63a   \n",
       "\n",
       "                                           _gtfs_dataset_name service_date  \\\n",
       "840788  Bay Area 511 Fairfield and Suisun Transit TripUpdates   2023-03-15   \n",
       "\n",
       "                       trip_id     trip_start_time  _trip_update_message_age  \\\n",
       "840788  t_5525686_b_79892_tn_5 2023-03-15 11:15:00                         9   \n",
       "\n",
       "       stop_id  stop_sequence schedule_relationship   _extract_ts_local  \\\n",
       "840788   75552          12.00             SCHEDULED 2023-03-15 11:23:40   \n",
       "\n",
       "       trip_update_timestamp_local   shape_id route_id scheduled_arrival  \\\n",
       "840788         2023-03-15 11:23:31  p_1432449        6               NaT   \n",
       "\n",
       "       actual_stop_arrival_pacific   predicted_pacific  \n",
       "840788         2023-03-15 11:28:09 2023-03-15 11:26:26  "
      ]
     },
     "execution_count": 25,
     "metadata": {},
     "output_type": "execute_result"
    }
   ],
   "source": [
    "df.sample()"
   ]
  },
  {
   "cell_type": "markdown",
   "id": "a87a769e-c5b8-4b24-8e22-f962d581d5a8",
   "metadata": {},
   "source": [
    "#### flag_first_trip_update_prediction_for_stop"
   ]
  },
  {
   "cell_type": "code",
   "execution_count": 27,
   "id": "46cb1292-26d9-465f-9cde-c7f61f7ca70f",
   "metadata": {},
   "outputs": [],
   "source": [
    "timestamp_col = \"_extract_ts_local\"\n",
    "metric_timestamp_col = \"trip_update_timestamp_local\""
   ]
  },
  {
   "cell_type": "code",
   "execution_count": 28,
   "id": "839fc7c1-32a4-4eb2-930a-1bf04519ae9b",
   "metadata": {},
   "outputs": [],
   "source": [
    "stop_cols = [\n",
    "        \"gtfs_dataset_key\", \"_gtfs_dataset_name\", \n",
    "        \"service_date\", \n",
    "        \"shape_id\", \"route_id\",\n",
    "        \"trip_id\", \n",
    "        \"stop_id\", \"stop_sequence\",\n",
    "        \"scheduled_arrival\", \"actual_stop_arrival_pacific\", \n",
    "    ]"
   ]
  },
  {
   "cell_type": "code",
   "execution_count": 29,
   "id": "b9a22816-47c2-4b52-88ca-77c931856756",
   "metadata": {},
   "outputs": [],
   "source": [
    "def exclude_predictions_after_actual_stop_arrival(\n",
    "    df: pd.DataFrame,\n",
    "    timestamp_col: str\n",
    ") -> pd.DataFrame:\n",
    "    \"\"\"\n",
    "    Drop the predictions within a trip. Previous exclusion \n",
    "    only dropped predictions after trip ended.\n",
    "    Now, drop predictions for a stop after the stop has arrived.\n",
    "    \"\"\"\n",
    "    df2 = df[df[timestamp_col] <= df.actual_stop_arrival_pacific\n",
    "            ].reset_index(drop=True)\n",
    "    \n",
    "    return df2"
   ]
  },
  {
   "cell_type": "code",
   "execution_count": 30,
   "id": "62bb559e-1482-44f0-a815-4af0c0f828a1",
   "metadata": {},
   "outputs": [],
   "source": [
    "df = exclude_predictions_after_actual_stop_arrival(df, timestamp_col)"
   ]
  },
  {
   "cell_type": "code",
   "execution_count": 31,
   "id": "6748e24f-986e-49ae-83e0-f634017806d4",
   "metadata": {},
   "outputs": [],
   "source": [
    "fresh_updates =(\n",
    "        (df.sort_values(\n",
    "            stop_cols + [timestamp_col, metric_timestamp_col])\n",
    "         .drop_duplicates(subset = stop_cols + [metric_timestamp_col])\n",
    "        )[stop_cols + [timestamp_col, metric_timestamp_col,\n",
    "                       \"predicted_pacific\"]]\n",
    "        .assign(fresh = 1)\n",
    "    )"
   ]
  },
  {
   "cell_type": "code",
   "execution_count": 32,
   "id": "0313c9ce-69c5-42e9-b968-ab184dcd3982",
   "metadata": {},
   "outputs": [
    {
     "data": {
      "text/html": [
       "<div>\n",
       "<style scoped>\n",
       "    .dataframe tbody tr th:only-of-type {\n",
       "        vertical-align: middle;\n",
       "    }\n",
       "\n",
       "    .dataframe tbody tr th {\n",
       "        vertical-align: top;\n",
       "    }\n",
       "\n",
       "    .dataframe thead th {\n",
       "        text-align: right;\n",
       "    }\n",
       "</style>\n",
       "<table border=\"1\" class=\"dataframe\">\n",
       "  <thead>\n",
       "    <tr style=\"text-align: right;\">\n",
       "      <th></th>\n",
       "      <th>gtfs_dataset_key</th>\n",
       "      <th>_gtfs_dataset_name</th>\n",
       "      <th>service_date</th>\n",
       "      <th>shape_id</th>\n",
       "      <th>route_id</th>\n",
       "      <th>trip_id</th>\n",
       "      <th>stop_id</th>\n",
       "      <th>stop_sequence</th>\n",
       "      <th>scheduled_arrival</th>\n",
       "      <th>actual_stop_arrival_pacific</th>\n",
       "      <th>_extract_ts_local</th>\n",
       "      <th>trip_update_timestamp_local</th>\n",
       "      <th>predicted_pacific</th>\n",
       "      <th>fresh</th>\n",
       "    </tr>\n",
       "  </thead>\n",
       "  <tbody>\n",
       "    <tr>\n",
       "      <th>93974</th>\n",
       "      <td>262d7b27183fa8d174ab8fc83ad5848f</td>\n",
       "      <td>Anaheim Resort TripUpdates</td>\n",
       "      <td>2023-03-15</td>\n",
       "      <td>063c940e-ae42-4473-b9d8-c36083d3ec23</td>\n",
       "      <td>8f305689-4315-445e-abea-920dbbf0be5e</td>\n",
       "      <td>3662f00e-b8d2-4e8b-8905-c1a5624ce879:1</td>\n",
       "      <td>1100</td>\n",
       "      <td>1.00</td>\n",
       "      <td>2023-03-15 19:00:00</td>\n",
       "      <td>2023-03-15 20:35:37</td>\n",
       "      <td>2023-03-15 19:59:40</td>\n",
       "      <td>2023-03-15 19:59:35</td>\n",
       "      <td>2023-03-15 19:00:00</td>\n",
       "      <td>1</td>\n",
       "    </tr>\n",
       "    <tr>\n",
       "      <th>93966</th>\n",
       "      <td>262d7b27183fa8d174ab8fc83ad5848f</td>\n",
       "      <td>Anaheim Resort TripUpdates</td>\n",
       "      <td>2023-03-15</td>\n",
       "      <td>063c940e-ae42-4473-b9d8-c36083d3ec23</td>\n",
       "      <td>8f305689-4315-445e-abea-920dbbf0be5e</td>\n",
       "      <td>3662f00e-b8d2-4e8b-8905-c1a5624ce879:1</td>\n",
       "      <td>1100</td>\n",
       "      <td>1.00</td>\n",
       "      <td>2023-03-15 19:00:00</td>\n",
       "      <td>2023-03-15 20:35:37</td>\n",
       "      <td>2023-03-15 20:00:00</td>\n",
       "      <td>2023-03-15 19:59:56</td>\n",
       "      <td>2023-03-15 19:00:00</td>\n",
       "      <td>1</td>\n",
       "    </tr>\n",
       "  </tbody>\n",
       "</table>\n",
       "</div>"
      ],
      "text/plain": [
       "                       gtfs_dataset_key          _gtfs_dataset_name  \\\n",
       "93974  262d7b27183fa8d174ab8fc83ad5848f  Anaheim Resort TripUpdates   \n",
       "93966  262d7b27183fa8d174ab8fc83ad5848f  Anaheim Resort TripUpdates   \n",
       "\n",
       "      service_date                              shape_id  \\\n",
       "93974   2023-03-15  063c940e-ae42-4473-b9d8-c36083d3ec23   \n",
       "93966   2023-03-15  063c940e-ae42-4473-b9d8-c36083d3ec23   \n",
       "\n",
       "                                   route_id  \\\n",
       "93974  8f305689-4315-445e-abea-920dbbf0be5e   \n",
       "93966  8f305689-4315-445e-abea-920dbbf0be5e   \n",
       "\n",
       "                                      trip_id stop_id  stop_sequence  \\\n",
       "93974  3662f00e-b8d2-4e8b-8905-c1a5624ce879:1    1100           1.00   \n",
       "93966  3662f00e-b8d2-4e8b-8905-c1a5624ce879:1    1100           1.00   \n",
       "\n",
       "        scheduled_arrival actual_stop_arrival_pacific   _extract_ts_local  \\\n",
       "93974 2023-03-15 19:00:00         2023-03-15 20:35:37 2023-03-15 19:59:40   \n",
       "93966 2023-03-15 19:00:00         2023-03-15 20:35:37 2023-03-15 20:00:00   \n",
       "\n",
       "      trip_update_timestamp_local   predicted_pacific  fresh  \n",
       "93974         2023-03-15 19:59:35 2023-03-15 19:00:00      1  \n",
       "93966         2023-03-15 19:59:56 2023-03-15 19:00:00      1  "
      ]
     },
     "execution_count": 32,
     "metadata": {},
     "output_type": "execute_result"
    }
   ],
   "source": [
    "fresh_updates.head(2)"
   ]
  },
  {
   "cell_type": "code",
   "execution_count": 33,
   "id": "a9851fef-be88-47f5-b291-15964f911905",
   "metadata": {},
   "outputs": [],
   "source": [
    "df_with_fresh_flag = pd.merge(\n",
    "        df,\n",
    "        fresh_updates,\n",
    "        on = stop_cols + [\n",
    "            timestamp_col, metric_timestamp_col, \n",
    "            \"predicted_pacific\"],\n",
    "        how = \"left\",\n",
    "    )"
   ]
  },
  {
   "cell_type": "code",
   "execution_count": 34,
   "id": "e169530f-84ce-4287-938e-39b624edd833",
   "metadata": {},
   "outputs": [
    {
     "data": {
      "text/html": [
       "<div>\n",
       "<style scoped>\n",
       "    .dataframe tbody tr th:only-of-type {\n",
       "        vertical-align: middle;\n",
       "    }\n",
       "\n",
       "    .dataframe tbody tr th {\n",
       "        vertical-align: top;\n",
       "    }\n",
       "\n",
       "    .dataframe thead th {\n",
       "        text-align: right;\n",
       "    }\n",
       "</style>\n",
       "<table border=\"1\" class=\"dataframe\">\n",
       "  <thead>\n",
       "    <tr style=\"text-align: right;\">\n",
       "      <th></th>\n",
       "      <th>gtfs_dataset_key</th>\n",
       "      <th>_gtfs_dataset_name</th>\n",
       "      <th>service_date</th>\n",
       "      <th>trip_id</th>\n",
       "      <th>trip_start_time</th>\n",
       "      <th>_trip_update_message_age</th>\n",
       "      <th>stop_id</th>\n",
       "      <th>stop_sequence</th>\n",
       "      <th>schedule_relationship</th>\n",
       "      <th>_extract_ts_local</th>\n",
       "      <th>trip_update_timestamp_local</th>\n",
       "      <th>shape_id</th>\n",
       "      <th>route_id</th>\n",
       "      <th>scheduled_arrival</th>\n",
       "      <th>actual_stop_arrival_pacific</th>\n",
       "      <th>predicted_pacific</th>\n",
       "      <th>fresh</th>\n",
       "    </tr>\n",
       "  </thead>\n",
       "  <tbody>\n",
       "    <tr>\n",
       "      <th>0</th>\n",
       "      <td>262d7b27183fa8d174ab8fc83ad5848f</td>\n",
       "      <td>Anaheim Resort TripUpdates</td>\n",
       "      <td>2023-03-15</td>\n",
       "      <td>6b6e3f4d-3c89-41d7-8d88-bc5668fc8e27:11</td>\n",
       "      <td>2023-03-15 17:30:00</td>\n",
       "      <td>6</td>\n",
       "      <td>c24c75f6-8397-4d8c-a4e5-72444083a9c8</td>\n",
       "      <td>2.00</td>\n",
       "      <td>SCHEDULED</td>\n",
       "      <td>2023-03-15 21:16:20</td>\n",
       "      <td>2023-03-15 21:16:14</td>\n",
       "      <td>cae6cda4-863b-48b5-b64f-554972b9d110</td>\n",
       "      <td>8f305689-4315-445e-abea-920dbbf0be5e</td>\n",
       "      <td>2023-03-15 17:37:00</td>\n",
       "      <td>2023-03-15 21:17:38</td>\n",
       "      <td>2023-03-15 21:16:09</td>\n",
       "      <td>1.00</td>\n",
       "    </tr>\n",
       "    <tr>\n",
       "      <th>1</th>\n",
       "      <td>262d7b27183fa8d174ab8fc83ad5848f</td>\n",
       "      <td>Anaheim Resort TripUpdates</td>\n",
       "      <td>2023-03-15</td>\n",
       "      <td>6b6e3f4d-3c89-41d7-8d88-bc5668fc8e27:11</td>\n",
       "      <td>2023-03-15 17:30:00</td>\n",
       "      <td>5</td>\n",
       "      <td>c24c75f6-8397-4d8c-a4e5-72444083a9c8</td>\n",
       "      <td>2.00</td>\n",
       "      <td>SCHEDULED</td>\n",
       "      <td>2023-03-15 21:16:00</td>\n",
       "      <td>2023-03-15 21:15:55</td>\n",
       "      <td>cae6cda4-863b-48b5-b64f-554972b9d110</td>\n",
       "      <td>8f305689-4315-445e-abea-920dbbf0be5e</td>\n",
       "      <td>2023-03-15 17:37:00</td>\n",
       "      <td>2023-03-15 21:17:38</td>\n",
       "      <td>2023-03-15 21:16:09</td>\n",
       "      <td>1.00</td>\n",
       "    </tr>\n",
       "  </tbody>\n",
       "</table>\n",
       "</div>"
      ],
      "text/plain": [
       "                   gtfs_dataset_key          _gtfs_dataset_name service_date  \\\n",
       "0  262d7b27183fa8d174ab8fc83ad5848f  Anaheim Resort TripUpdates   2023-03-15   \n",
       "1  262d7b27183fa8d174ab8fc83ad5848f  Anaheim Resort TripUpdates   2023-03-15   \n",
       "\n",
       "                                   trip_id     trip_start_time  \\\n",
       "0  6b6e3f4d-3c89-41d7-8d88-bc5668fc8e27:11 2023-03-15 17:30:00   \n",
       "1  6b6e3f4d-3c89-41d7-8d88-bc5668fc8e27:11 2023-03-15 17:30:00   \n",
       "\n",
       "   _trip_update_message_age                               stop_id  \\\n",
       "0                         6  c24c75f6-8397-4d8c-a4e5-72444083a9c8   \n",
       "1                         5  c24c75f6-8397-4d8c-a4e5-72444083a9c8   \n",
       "\n",
       "   stop_sequence schedule_relationship   _extract_ts_local  \\\n",
       "0           2.00             SCHEDULED 2023-03-15 21:16:20   \n",
       "1           2.00             SCHEDULED 2023-03-15 21:16:00   \n",
       "\n",
       "  trip_update_timestamp_local                              shape_id  \\\n",
       "0         2023-03-15 21:16:14  cae6cda4-863b-48b5-b64f-554972b9d110   \n",
       "1         2023-03-15 21:15:55  cae6cda4-863b-48b5-b64f-554972b9d110   \n",
       "\n",
       "                               route_id   scheduled_arrival  \\\n",
       "0  8f305689-4315-445e-abea-920dbbf0be5e 2023-03-15 17:37:00   \n",
       "1  8f305689-4315-445e-abea-920dbbf0be5e 2023-03-15 17:37:00   \n",
       "\n",
       "  actual_stop_arrival_pacific   predicted_pacific  fresh  \n",
       "0         2023-03-15 21:17:38 2023-03-15 21:16:09   1.00  \n",
       "1         2023-03-15 21:17:38 2023-03-15 21:16:09   1.00  "
      ]
     },
     "execution_count": 34,
     "metadata": {},
     "output_type": "execute_result"
    }
   ],
   "source": [
    "df_with_fresh_flag.head(2)"
   ]
  },
  {
   "cell_type": "code",
   "execution_count": 35,
   "id": "3b7ebd22-2ccb-4552-8975-18da53d4d26d",
   "metadata": {},
   "outputs": [],
   "source": [
    "df_with_fresh_flag = df_with_fresh_flag.assign(\n",
    "        fresh = df_with_fresh_flag.fresh.fillna(0).astype(int)\n",
    "    )\n",
    "    "
   ]
  },
  {
   "cell_type": "code",
   "execution_count": 36,
   "id": "7f4aadb1-40da-420f-9b46-80aa2be0c169",
   "metadata": {},
   "outputs": [],
   "source": [
    "def parse_hour_min(\n",
    "    df: pd.DataFrame, \n",
    "    timestamp_col: list\n",
    ") -> pd.DataFrame:\n",
    "    \"\"\"\n",
    "    Parse out the hour and minute from some \n",
    "    timestamp_column (header_timestamp, trip_update_timestamp)\n",
    "    \"\"\"\n",
    "    for c in timestamp_col:\n",
    "        df = df.assign(\n",
    "            hour = df[c].dt.hour,\n",
    "            minute = df[c].dt.minute\n",
    "        ).rename(columns = {\n",
    "            \"hour\": f\"{c}_hour\", \n",
    "            \"minute\": f\"{c}_min\"})\n",
    "    \n",
    "    return df\n"
   ]
  },
  {
   "cell_type": "code",
   "execution_count": 37,
   "id": "5e58f353-a9d2-498f-82e3-bf324bfec81a",
   "metadata": {},
   "outputs": [],
   "source": [
    "df_with_fresh_flag2 = parse_hour_min(df_with_fresh_flag, [timestamp_col])"
   ]
  },
  {
   "cell_type": "code",
   "execution_count": 38,
   "id": "c37b92b5-bf94-4404-8867-ac6335f88d70",
   "metadata": {},
   "outputs": [
    {
     "data": {
      "text/html": [
       "<div>\n",
       "<style scoped>\n",
       "    .dataframe tbody tr th:only-of-type {\n",
       "        vertical-align: middle;\n",
       "    }\n",
       "\n",
       "    .dataframe tbody tr th {\n",
       "        vertical-align: top;\n",
       "    }\n",
       "\n",
       "    .dataframe thead th {\n",
       "        text-align: right;\n",
       "    }\n",
       "</style>\n",
       "<table border=\"1\" class=\"dataframe\">\n",
       "  <thead>\n",
       "    <tr style=\"text-align: right;\">\n",
       "      <th></th>\n",
       "      <th>gtfs_dataset_key</th>\n",
       "      <th>_gtfs_dataset_name</th>\n",
       "      <th>service_date</th>\n",
       "      <th>trip_id</th>\n",
       "      <th>trip_start_time</th>\n",
       "      <th>_trip_update_message_age</th>\n",
       "      <th>stop_id</th>\n",
       "      <th>stop_sequence</th>\n",
       "      <th>schedule_relationship</th>\n",
       "      <th>_extract_ts_local</th>\n",
       "      <th>trip_update_timestamp_local</th>\n",
       "      <th>shape_id</th>\n",
       "      <th>route_id</th>\n",
       "      <th>scheduled_arrival</th>\n",
       "      <th>actual_stop_arrival_pacific</th>\n",
       "      <th>predicted_pacific</th>\n",
       "      <th>fresh</th>\n",
       "      <th>_extract_ts_local_hour</th>\n",
       "      <th>_extract_ts_local_min</th>\n",
       "    </tr>\n",
       "  </thead>\n",
       "  <tbody>\n",
       "    <tr>\n",
       "      <th>0</th>\n",
       "      <td>262d7b27183fa8d174ab8fc83ad5848f</td>\n",
       "      <td>Anaheim Resort TripUpdates</td>\n",
       "      <td>2023-03-15</td>\n",
       "      <td>6b6e3f4d-3c89-41d7-8d88-bc5668fc8e27:11</td>\n",
       "      <td>2023-03-15 17:30:00</td>\n",
       "      <td>6</td>\n",
       "      <td>c24c75f6-8397-4d8c-a4e5-72444083a9c8</td>\n",
       "      <td>2.00</td>\n",
       "      <td>SCHEDULED</td>\n",
       "      <td>2023-03-15 21:16:20</td>\n",
       "      <td>2023-03-15 21:16:14</td>\n",
       "      <td>cae6cda4-863b-48b5-b64f-554972b9d110</td>\n",
       "      <td>8f305689-4315-445e-abea-920dbbf0be5e</td>\n",
       "      <td>2023-03-15 17:37:00</td>\n",
       "      <td>2023-03-15 21:17:38</td>\n",
       "      <td>2023-03-15 21:16:09</td>\n",
       "      <td>1</td>\n",
       "      <td>21</td>\n",
       "      <td>16</td>\n",
       "    </tr>\n",
       "  </tbody>\n",
       "</table>\n",
       "</div>"
      ],
      "text/plain": [
       "                   gtfs_dataset_key          _gtfs_dataset_name service_date  \\\n",
       "0  262d7b27183fa8d174ab8fc83ad5848f  Anaheim Resort TripUpdates   2023-03-15   \n",
       "\n",
       "                                   trip_id     trip_start_time  \\\n",
       "0  6b6e3f4d-3c89-41d7-8d88-bc5668fc8e27:11 2023-03-15 17:30:00   \n",
       "\n",
       "   _trip_update_message_age                               stop_id  \\\n",
       "0                         6  c24c75f6-8397-4d8c-a4e5-72444083a9c8   \n",
       "\n",
       "   stop_sequence schedule_relationship   _extract_ts_local  \\\n",
       "0           2.00             SCHEDULED 2023-03-15 21:16:20   \n",
       "\n",
       "  trip_update_timestamp_local                              shape_id  \\\n",
       "0         2023-03-15 21:16:14  cae6cda4-863b-48b5-b64f-554972b9d110   \n",
       "\n",
       "                               route_id   scheduled_arrival  \\\n",
       "0  8f305689-4315-445e-abea-920dbbf0be5e 2023-03-15 17:37:00   \n",
       "\n",
       "  actual_stop_arrival_pacific   predicted_pacific  fresh  \\\n",
       "0         2023-03-15 21:17:38 2023-03-15 21:16:09      1   \n",
       "\n",
       "   _extract_ts_local_hour  _extract_ts_local_min  \n",
       "0                      21                     16  "
      ]
     },
     "execution_count": 38,
     "metadata": {},
     "output_type": "execute_result"
    }
   ],
   "source": [
    "df_with_fresh_flag2.head(1)"
   ]
  },
  {
   "cell_type": "code",
   "execution_count": 39,
   "id": "5ce3c13e-ebdb-4cda-a779-73c3915bf841",
   "metadata": {},
   "outputs": [
    {
     "data": {
      "text/html": [
       "<div>\n",
       "<style scoped>\n",
       "    .dataframe tbody tr th:only-of-type {\n",
       "        vertical-align: middle;\n",
       "    }\n",
       "\n",
       "    .dataframe tbody tr th {\n",
       "        vertical-align: top;\n",
       "    }\n",
       "\n",
       "    .dataframe thead th {\n",
       "        text-align: right;\n",
       "    }\n",
       "</style>\n",
       "<table border=\"1\" class=\"dataframe\">\n",
       "  <thead>\n",
       "    <tr style=\"text-align: right;\">\n",
       "      <th></th>\n",
       "      <th>gtfs_dataset_key</th>\n",
       "      <th>_gtfs_dataset_name</th>\n",
       "      <th>service_date</th>\n",
       "      <th>trip_id</th>\n",
       "      <th>trip_start_time</th>\n",
       "      <th>_trip_update_message_age</th>\n",
       "      <th>stop_id</th>\n",
       "      <th>stop_sequence</th>\n",
       "      <th>schedule_relationship</th>\n",
       "      <th>_extract_ts_local</th>\n",
       "      <th>trip_update_timestamp_local</th>\n",
       "      <th>shape_id</th>\n",
       "      <th>route_id</th>\n",
       "      <th>scheduled_arrival</th>\n",
       "      <th>actual_stop_arrival_pacific</th>\n",
       "      <th>predicted_pacific</th>\n",
       "      <th>fresh</th>\n",
       "    </tr>\n",
       "  </thead>\n",
       "  <tbody>\n",
       "    <tr>\n",
       "      <th>0</th>\n",
       "      <td>262d7b27183fa8d174ab8fc83ad5848f</td>\n",
       "      <td>Anaheim Resort TripUpdates</td>\n",
       "      <td>2023-03-15</td>\n",
       "      <td>6b6e3f4d-3c89-41d7-8d88-bc5668fc8e27:11</td>\n",
       "      <td>2023-03-15 17:30:00</td>\n",
       "      <td>6</td>\n",
       "      <td>c24c75f6-8397-4d8c-a4e5-72444083a9c8</td>\n",
       "      <td>2.00</td>\n",
       "      <td>SCHEDULED</td>\n",
       "      <td>2023-03-15 21:16:20</td>\n",
       "      <td>2023-03-15 21:16:14</td>\n",
       "      <td>cae6cda4-863b-48b5-b64f-554972b9d110</td>\n",
       "      <td>8f305689-4315-445e-abea-920dbbf0be5e</td>\n",
       "      <td>2023-03-15 17:37:00</td>\n",
       "      <td>2023-03-15 21:17:38</td>\n",
       "      <td>2023-03-15 21:16:09</td>\n",
       "      <td>1</td>\n",
       "    </tr>\n",
       "  </tbody>\n",
       "</table>\n",
       "</div>"
      ],
      "text/plain": [
       "                   gtfs_dataset_key          _gtfs_dataset_name service_date  \\\n",
       "0  262d7b27183fa8d174ab8fc83ad5848f  Anaheim Resort TripUpdates   2023-03-15   \n",
       "\n",
       "                                   trip_id     trip_start_time  \\\n",
       "0  6b6e3f4d-3c89-41d7-8d88-bc5668fc8e27:11 2023-03-15 17:30:00   \n",
       "\n",
       "   _trip_update_message_age                               stop_id  \\\n",
       "0                         6  c24c75f6-8397-4d8c-a4e5-72444083a9c8   \n",
       "\n",
       "   stop_sequence schedule_relationship   _extract_ts_local  \\\n",
       "0           2.00             SCHEDULED 2023-03-15 21:16:20   \n",
       "\n",
       "  trip_update_timestamp_local                              shape_id  \\\n",
       "0         2023-03-15 21:16:14  cae6cda4-863b-48b5-b64f-554972b9d110   \n",
       "\n",
       "                               route_id   scheduled_arrival  \\\n",
       "0  8f305689-4315-445e-abea-920dbbf0be5e 2023-03-15 17:37:00   \n",
       "\n",
       "  actual_stop_arrival_pacific   predicted_pacific  fresh  \n",
       "0         2023-03-15 21:17:38 2023-03-15 21:16:09      1  "
      ]
     },
     "execution_count": 39,
     "metadata": {},
     "output_type": "execute_result"
    }
   ],
   "source": [
    "df_with_fresh_flag.head(1)"
   ]
  },
  {
   "cell_type": "markdown",
   "id": "09d1727d-d57c-4f2f-83ba-8dad07e85f64",
   "metadata": {},
   "source": [
    "#### atleast2_updates_by_trip_stop"
   ]
  },
  {
   "cell_type": "code",
   "execution_count": 40,
   "id": "5617c4d2-b0dd-4dee-93b2-b6254b436b94",
   "metadata": {},
   "outputs": [],
   "source": [
    "grouped_df = df_with_fresh_flag2.groupby([*stop_cols, \n",
    "         pd.Grouper(key = timestamp_col, freq = '1Min')\n",
    "    ])\n"
   ]
  },
  {
   "cell_type": "code",
   "execution_count": 41,
   "id": "fa960a0e-778a-47a9-9c80-3075a8069a68",
   "metadata": {},
   "outputs": [
    {
     "data": {
      "text/plain": [
       "pandas.core.groupby.generic.DataFrameGroupBy"
      ]
     },
     "execution_count": 41,
     "metadata": {},
     "output_type": "execute_result"
    }
   ],
   "source": [
    "type(grouped_df)"
   ]
  },
  {
   "cell_type": "markdown",
   "id": "65f0c20b-8ae8-43c5-884b-da2d81a3bda0",
   "metadata": {},
   "source": [
    "#### \"sum\" isn't working."
   ]
  },
  {
   "cell_type": "code",
   "execution_count": 46,
   "id": "095b297a-6e9e-44c8-9d22-bce1df9ee2bc",
   "metadata": {},
   "outputs": [],
   "source": [
    "# Sum didn't work with metric_timestamp_col\n",
    "# Count yieled a different result for two of the providers\n",
    "df2 = (grouped_df\n",
    "           .agg({\"_trip_update_message_age\": \"sum\"})\n",
    "           .reset_index()\n",
    "    )"
   ]
  },
  {
   "cell_type": "code",
   "execution_count": 43,
   "id": "d2855bda-f62d-495c-b1df-dbc0b747d533",
   "metadata": {},
   "outputs": [
    {
     "data": {
      "text/plain": [
       "pandas.core.frame.DataFrame"
      ]
     },
     "execution_count": 43,
     "metadata": {},
     "output_type": "execute_result"
    }
   ],
   "source": [
    "type(df2)"
   ]
  },
  {
   "cell_type": "code",
   "execution_count": 44,
   "id": "897091d2-aa60-4dc4-ad5f-83d5fe42dda9",
   "metadata": {},
   "outputs": [
    {
     "ename": "NameError",
     "evalue": "name 'metric_col' is not defined",
     "output_type": "error",
     "traceback": [
      "\u001b[0;31m---------------------------------------------------------------------------\u001b[0m",
      "\u001b[0;31mNameError\u001b[0m                                 Traceback (most recent call last)",
      "Cell \u001b[0;32mIn[44], line 2\u001b[0m\n\u001b[1;32m      1\u001b[0m df2 \u001b[38;5;241m=\u001b[39m df2\u001b[38;5;241m.\u001b[39massign(\n\u001b[0;32m----> 2\u001b[0m         atleast2_trip_updates \u001b[38;5;241m=\u001b[39m \u001b[43mdf2\u001b[49m\u001b[38;5;241;43m.\u001b[39;49m\u001b[43mapply\u001b[49m\u001b[43m(\u001b[49m\n\u001b[1;32m      3\u001b[0m \u001b[43m            \u001b[49m\u001b[38;5;28;43;01mlambda\u001b[39;49;00m\u001b[43m \u001b[49m\u001b[43mx\u001b[49m\u001b[43m:\u001b[49m\u001b[43m \u001b[49m\u001b[38;5;241;43m1\u001b[39;49m\u001b[43m \u001b[49m\u001b[38;5;28;43;01mif\u001b[39;49;00m\u001b[43m \u001b[49m\u001b[43mx\u001b[49m\u001b[43m[\u001b[49m\u001b[43mmetric_col\u001b[49m\u001b[43m]\u001b[49m\u001b[43m \u001b[49m\u001b[38;5;241;43m>\u001b[39;49m\u001b[38;5;241;43m=\u001b[39;49m\u001b[43m \u001b[49m\u001b[38;5;241;43m2\u001b[39;49m\n\u001b[1;32m      4\u001b[0m \u001b[43m            \u001b[49m\u001b[38;5;28;43;01melse\u001b[39;49;00m\u001b[43m \u001b[49m\u001b[38;5;241;43m0\u001b[39;49m\u001b[43m,\u001b[49m\u001b[43m \u001b[49m\u001b[43maxis\u001b[49m\u001b[38;5;241;43m=\u001b[39;49m\u001b[38;5;241;43m1\u001b[39;49m\u001b[43m)\u001b[49m\n\u001b[1;32m      5\u001b[0m     )    \n",
      "File \u001b[0;32m/opt/conda/lib/python3.9/site-packages/pandas/core/frame.py:9568\u001b[0m, in \u001b[0;36mDataFrame.apply\u001b[0;34m(self, func, axis, raw, result_type, args, **kwargs)\u001b[0m\n\u001b[1;32m   9557\u001b[0m \u001b[38;5;28;01mfrom\u001b[39;00m \u001b[38;5;21;01mpandas\u001b[39;00m\u001b[38;5;21;01m.\u001b[39;00m\u001b[38;5;21;01mcore\u001b[39;00m\u001b[38;5;21;01m.\u001b[39;00m\u001b[38;5;21;01mapply\u001b[39;00m \u001b[38;5;28;01mimport\u001b[39;00m frame_apply\n\u001b[1;32m   9559\u001b[0m op \u001b[38;5;241m=\u001b[39m frame_apply(\n\u001b[1;32m   9560\u001b[0m     \u001b[38;5;28mself\u001b[39m,\n\u001b[1;32m   9561\u001b[0m     func\u001b[38;5;241m=\u001b[39mfunc,\n\u001b[0;32m   (...)\u001b[0m\n\u001b[1;32m   9566\u001b[0m     kwargs\u001b[38;5;241m=\u001b[39mkwargs,\n\u001b[1;32m   9567\u001b[0m )\n\u001b[0;32m-> 9568\u001b[0m \u001b[38;5;28;01mreturn\u001b[39;00m \u001b[43mop\u001b[49m\u001b[38;5;241;43m.\u001b[39;49m\u001b[43mapply\u001b[49m\u001b[43m(\u001b[49m\u001b[43m)\u001b[49m\u001b[38;5;241m.\u001b[39m__finalize__(\u001b[38;5;28mself\u001b[39m, method\u001b[38;5;241m=\u001b[39m\u001b[38;5;124m\"\u001b[39m\u001b[38;5;124mapply\u001b[39m\u001b[38;5;124m\"\u001b[39m)\n",
      "File \u001b[0;32m/opt/conda/lib/python3.9/site-packages/pandas/core/apply.py:764\u001b[0m, in \u001b[0;36mFrameApply.apply\u001b[0;34m(self)\u001b[0m\n\u001b[1;32m    761\u001b[0m \u001b[38;5;28;01melif\u001b[39;00m \u001b[38;5;28mself\u001b[39m\u001b[38;5;241m.\u001b[39mraw:\n\u001b[1;32m    762\u001b[0m     \u001b[38;5;28;01mreturn\u001b[39;00m \u001b[38;5;28mself\u001b[39m\u001b[38;5;241m.\u001b[39mapply_raw()\n\u001b[0;32m--> 764\u001b[0m \u001b[38;5;28;01mreturn\u001b[39;00m \u001b[38;5;28;43mself\u001b[39;49m\u001b[38;5;241;43m.\u001b[39;49m\u001b[43mapply_standard\u001b[49m\u001b[43m(\u001b[49m\u001b[43m)\u001b[49m\n",
      "File \u001b[0;32m/opt/conda/lib/python3.9/site-packages/pandas/core/apply.py:891\u001b[0m, in \u001b[0;36mFrameApply.apply_standard\u001b[0;34m(self)\u001b[0m\n\u001b[1;32m    890\u001b[0m \u001b[38;5;28;01mdef\u001b[39;00m \u001b[38;5;21mapply_standard\u001b[39m(\u001b[38;5;28mself\u001b[39m):\n\u001b[0;32m--> 891\u001b[0m     results, res_index \u001b[38;5;241m=\u001b[39m \u001b[38;5;28;43mself\u001b[39;49m\u001b[38;5;241;43m.\u001b[39;49m\u001b[43mapply_series_generator\u001b[49m\u001b[43m(\u001b[49m\u001b[43m)\u001b[49m\n\u001b[1;32m    893\u001b[0m     \u001b[38;5;66;03m# wrap results\u001b[39;00m\n\u001b[1;32m    894\u001b[0m     \u001b[38;5;28;01mreturn\u001b[39;00m \u001b[38;5;28mself\u001b[39m\u001b[38;5;241m.\u001b[39mwrap_results(results, res_index)\n",
      "File \u001b[0;32m/opt/conda/lib/python3.9/site-packages/pandas/core/apply.py:907\u001b[0m, in \u001b[0;36mFrameApply.apply_series_generator\u001b[0;34m(self)\u001b[0m\n\u001b[1;32m    904\u001b[0m \u001b[38;5;28;01mwith\u001b[39;00m option_context(\u001b[38;5;124m\"\u001b[39m\u001b[38;5;124mmode.chained_assignment\u001b[39m\u001b[38;5;124m\"\u001b[39m, \u001b[38;5;28;01mNone\u001b[39;00m):\n\u001b[1;32m    905\u001b[0m     \u001b[38;5;28;01mfor\u001b[39;00m i, v \u001b[38;5;129;01min\u001b[39;00m \u001b[38;5;28menumerate\u001b[39m(series_gen):\n\u001b[1;32m    906\u001b[0m         \u001b[38;5;66;03m# ignore SettingWithCopy here in case the user mutates\u001b[39;00m\n\u001b[0;32m--> 907\u001b[0m         results[i] \u001b[38;5;241m=\u001b[39m \u001b[38;5;28;43mself\u001b[39;49m\u001b[38;5;241;43m.\u001b[39;49m\u001b[43mf\u001b[49m\u001b[43m(\u001b[49m\u001b[43mv\u001b[49m\u001b[43m)\u001b[49m\n\u001b[1;32m    908\u001b[0m         \u001b[38;5;28;01mif\u001b[39;00m \u001b[38;5;28misinstance\u001b[39m(results[i], ABCSeries):\n\u001b[1;32m    909\u001b[0m             \u001b[38;5;66;03m# If we have a view on v, we need to make a copy because\u001b[39;00m\n\u001b[1;32m    910\u001b[0m             \u001b[38;5;66;03m#  series_generator will swap out the underlying data\u001b[39;00m\n\u001b[1;32m    911\u001b[0m             results[i] \u001b[38;5;241m=\u001b[39m results[i]\u001b[38;5;241m.\u001b[39mcopy(deep\u001b[38;5;241m=\u001b[39m\u001b[38;5;28;01mFalse\u001b[39;00m)\n",
      "Cell \u001b[0;32mIn[44], line 3\u001b[0m, in \u001b[0;36m<lambda>\u001b[0;34m(x)\u001b[0m\n\u001b[1;32m      1\u001b[0m df2 \u001b[38;5;241m=\u001b[39m df2\u001b[38;5;241m.\u001b[39massign(\n\u001b[1;32m      2\u001b[0m         atleast2_trip_updates \u001b[38;5;241m=\u001b[39m df2\u001b[38;5;241m.\u001b[39mapply(\n\u001b[0;32m----> 3\u001b[0m             \u001b[38;5;28;01mlambda\u001b[39;00m x: \u001b[38;5;241m1\u001b[39m \u001b[38;5;28;01mif\u001b[39;00m x[\u001b[43mmetric_col\u001b[49m] \u001b[38;5;241m>\u001b[39m\u001b[38;5;241m=\u001b[39m \u001b[38;5;241m2\u001b[39m\n\u001b[1;32m      4\u001b[0m             \u001b[38;5;28;01melse\u001b[39;00m \u001b[38;5;241m0\u001b[39m, axis\u001b[38;5;241m=\u001b[39m\u001b[38;5;241m1\u001b[39m)\n\u001b[1;32m      5\u001b[0m     )    \n",
      "\u001b[0;31mNameError\u001b[0m: name 'metric_col' is not defined"
     ]
    }
   ],
   "source": [
    "df2 = df2.assign(\n",
    "        atleast2_trip_updates = df2.apply(\n",
    "            lambda x: 1 if x[metric_col] >= 2\n",
    "            else 0, axis=1)\n",
    "    )    "
   ]
  },
  {
   "cell_type": "code",
   "execution_count": null,
   "id": "22b2dd78-84e2-492d-b1aa-cdd1b24fbf36",
   "metadata": {},
   "outputs": [],
   "source": [
    "stop_cols"
   ]
  },
  {
   "cell_type": "code",
   "execution_count": null,
   "id": "4d2a7813-d35c-47d9-a84b-f9a4a1ad8b3d",
   "metadata": {},
   "outputs": [],
   "source": [
    "df3 = (df2.groupby(stop_cols)\n",
    "           .agg({\n",
    "               timestamp_col: \"size\",\n",
    "               \"atleast2_trip_updates\": \"sum\"})\n",
    "           .reset_index()\n",
    "          ).rename(columns = {\n",
    "            timestamp_col: \"trip_min_elapsed\"\n",
    "    })\n",
    "    "
   ]
  },
  {
   "cell_type": "code",
   "execution_count": null,
   "id": "6f78b9b0-1290-49b6-a801-b25aa587aed4",
   "metadata": {},
   "outputs": [],
   "source": [
    "df3 = df3.assign(\n",
    "        pct_update_complete = df3.atleast2_trip_updates.divide(\n",
    "            df3.trip_min_elapsed)\n",
    "    ) \n",
    "    "
   ]
  },
  {
   "cell_type": "code",
   "execution_count": null,
   "id": "8324bf49-a2fe-4ef3-b21b-565f5f63d3bb",
   "metadata": {},
   "outputs": [],
   "source": [
    "df2.head(2)"
   ]
  },
  {
   "cell_type": "code",
   "execution_count": null,
   "id": "7041280e-0761-4959-97a5-c84b4a0df333",
   "metadata": {},
   "outputs": [],
   "source": [
    "df3.head(2)"
   ]
  },
  {
   "cell_type": "code",
   "execution_count": null,
   "id": "d43ae024-be37-465b-b3c1-72da71c8a55e",
   "metadata": {},
   "outputs": [],
   "source": [
    "cols = [\n",
    "    \"atleast2_trip_updates\", \n",
    "    \"trip_min_elapsed\",\n",
    "    \"pct_update_complete\"]"
   ]
  },
  {
   "cell_type": "code",
   "execution_count": null,
   "id": "fe52ea2d-38ad-415b-8fec-164ddf468780",
   "metadata": {},
   "outputs": [],
   "source": [
    "def describe_to_df(df, operator: str, metric_cols: list) -> pd.DataFrame:\n",
    "    \"\"\"\n",
    "    Convert df.column.describe() to a \n",
    "    horizontally concatted dataframe.\n",
    "    \"\"\"\n",
    "    # Filter for operator\n",
    "    df = df[df._gtfs_dataset_name == operator].reset_index(drop=True)\n",
    "    \n",
    "    operator = operator.replace('TripUpdates','').strip()\n",
    "    \n",
    "    final = pd.DataFrame()\n",
    "\n",
    "    for i in metric_cols:\n",
    "        df2 = pd.DataFrame({i: df[i].describe()})\n",
    "        final = pd.concat([final, df2], axis=1)\n",
    "\n",
    "    final = final.reset_index().rename(columns={\"index\": \"Measure\"})\n",
    "\n",
    "\n",
    "    final.Measure = final.Measure.str.title()\n",
    "    \n",
    "    # https://stackoverflow.com/questions/59535426/can-you-change-the-caption-font-size-using-pandas-styling\n",
    "    final = final.style.set_caption(f\"Summary for {operator}\").set_table_styles([{\n",
    "    'selector': 'caption',\n",
    "    'props': [\n",
    "        ('color', 'black'),\n",
    "        ('font-size', '16px')\n",
    "    ]}]).format(precision=1)\n",
    "\n",
    "    return final\n"
   ]
  },
  {
   "cell_type": "markdown",
   "id": "7747d701-c2e9-44c8-ae96-eabc2ac3a03e",
   "metadata": {},
   "source": [
    "#### Santa Cruz and Bear Trip Updates are different"
   ]
  },
  {
   "cell_type": "code",
   "execution_count": null,
   "id": "491a4cbe-fc71-47ff-8b8a-bfcb2f1b1967",
   "metadata": {},
   "outputs": [],
   "source": [
    "for i in df3._gtfs_dataset_name.unique():\n",
    "    display(\n",
    "       describe_to_df(\n",
    "            df3,\n",
    "            i,\n",
    "            cols,\n",
    "        )\n",
    "    )"
   ]
  },
  {
   "cell_type": "code",
   "execution_count": null,
   "id": "b5aab3c0-e998-4486-acab-fd65b476977d",
   "metadata": {},
   "outputs": [],
   "source": [
    "stop"
   ]
  },
  {
   "cell_type": "markdown",
   "id": "3b61450e-528c-4dab-9582-2bda3343e379",
   "metadata": {},
   "source": [
    "## How many minutes a trip took and the average speeds?\n",
    "* Temporary place until I move the spatial stuff out"
   ]
  },
  {
   "cell_type": "code",
   "execution_count": null,
   "id": "b2e0fa2d-089d-49a5-ab20-a8ef65925795",
   "metadata": {},
   "outputs": [],
   "source": [
    "# Only use the trips with shapes.\n",
    "relevant_trips = list(muni.trip_instance_key.unique())"
   ]
  },
  {
   "cell_type": "code",
   "execution_count": null,
   "id": "36afb7b1-04f9-494b-a4d8-f85ddadc785b",
   "metadata": {},
   "outputs": [],
   "source": [
    "type(muni)"
   ]
  },
  {
   "cell_type": "code",
   "execution_count": null,
   "id": "a6d981cf-cb48-49c5-9d2a-a80644bb67df",
   "metadata": {},
   "outputs": [],
   "source": [
    "len(relevant_trips)"
   ]
  },
  {
   "cell_type": "code",
   "execution_count": null,
   "id": "230a0037-2a0d-48a0-950b-e191ab34deb3",
   "metadata": {},
   "outputs": [],
   "source": [
    "# Test if I can filter for relevant trips\n",
    "# Yes, can filter for only relevant trips up here? \n",
    "# https://github.com/cal-itp/data-analyses/blob/main/rt_scheduled_v_ran/scripts/vp_spatial_accuracy.py#L190-L193\n",
    "#trips_with_shape_trips = set(trips_with_shape.trip_instance_key.unique().tolist())\n",
    "#muni_trips = set(muni.trip_instance_key.unique().tolist())\n",
    "#trips_with_shape_trips - muni_trips"
   ]
  },
  {
   "cell_type": "code",
   "execution_count": null,
   "id": "17c5a52a-bedb-4232-aa38-5a9e5adb356d",
   "metadata": {},
   "outputs": [],
   "source": [
    "# muni_trips - trips_with_shape_trips"
   ]
  },
  {
   "cell_type": "code",
   "execution_count": null,
   "id": "88b571f2-624c-47aa-a154-286902fa4a96",
   "metadata": {},
   "outputs": [],
   "source": [
    "vp_filtered = dd.read_parquet(f\"{SEGMENT_GCS}vp_usable_{analysis_date}\",\n",
    "        filters = [[('gtfs_dataset_name', \"==\", operator),\n",
    "                   ('schedule_gtfs_dataset_key', '==', gtfs_key),\n",
    "                    ('trip_instance_key', 'in', relevant_trips)]])"
   ]
  },
  {
   "cell_type": "code",
   "execution_count": null,
   "id": "89eaf6b5-d441-4d0d-9a02-4a17ce1b7c4e",
   "metadata": {},
   "outputs": [],
   "source": [
    "# len(vp_filtered)"
   ]
  },
  {
   "cell_type": "code",
   "execution_count": null,
   "id": "875978d8-6168-4f52-b101-91e09b6a099d",
   "metadata": {},
   "outputs": [],
   "source": [
    "# vp_filtered[['trip_instance_key']].compute().nunique()"
   ]
  },
  {
   "cell_type": "code",
   "execution_count": null,
   "id": "7807ccce-416c-4f03-a92a-2296edc1d19f",
   "metadata": {},
   "outputs": [],
   "source": [
    "vp_filtered.columns"
   ]
  },
  {
   "cell_type": "markdown",
   "id": "96335b84-31a9-4887-b97f-8ebc35610220",
   "metadata": {},
   "source": [
    "### C2 \n",
    "* https://github.com/cal-itp/data-analyses/blob/main/rt_segment_speeds/scripts/C2_triangulate_vp.py\n",
    "* Break it apart and check it out later to undersatnd what's happening"
   ]
  },
  {
   "cell_type": "code",
   "execution_count": null,
   "id": "de7fba7a-6796-4e64-884c-55d636be2c12",
   "metadata": {},
   "outputs": [],
   "source": [
    "def triangulate_vp(\n",
    "    ddf: dd.DataFrame, \n",
    "    group_cols: list = [\"trip_instance_key\"]\n",
    ") -> np.ndarray:\n",
    "    \"\"\"\n",
    "    Grab a sample of vehicle positions for each trip to triangulate distance.\n",
    "    These vp already sjoined onto the shape.\n",
    "    Roughly pick vp at equally spaced intervals.\n",
    "    \n",
    "    Dask aggregation can't group and use lambda to create list of possible \n",
    "    vp_idx.\n",
    "    \"\"\"        \n",
    "    grouped_ddf = ddf.groupby(group_cols, observed=True, group_keys=False)\n",
    "\n",
    "    min_df = (grouped_ddf\n",
    "              .agg({\"vp_idx\": \"min\"})\n",
    "              .rename(columns = {\"vp_idx\": \"min_vp_idx\"})\n",
    "             )\n",
    "\n",
    "    max_df = (grouped_ddf\n",
    "              .agg({\"vp_idx\": \"max\"})\n",
    "              .rename(columns = {\"vp_idx\": \"max_vp_idx\"})\n",
    "             )\n",
    "    \n",
    "    vp_range = dd.merge(\n",
    "        min_df,\n",
    "        max_df,\n",
    "        left_index = True,\n",
    "        right_index = True,\n",
    "        how = \"inner\"\n",
    "    )\n",
    "\n",
    "    vp_range = vp_range.persist()\n",
    "    \n",
    "    vp_range[\"range_diff\"] = vp_range.max_vp_idx - vp_range.min_vp_idx\n",
    "    \n",
    "    vp_range = vp_range.assign(\n",
    "        p25_vp_idx = (vp_range.range_diff * 0.25 + vp_range.min_vp_idx\n",
    "                     ).round(0).astype(\"int64\"),\n",
    "        p50_vp_idx = (vp_range.range_diff * 0.5 + vp_range.min_vp_idx\n",
    "                     ).round(0).astype(\"int64\"),\n",
    "        p75_vp_idx = (vp_range.range_diff * 0.75 + vp_range.min_vp_idx\n",
    "                     ).round(0).astype(\"int64\"),\n",
    "    )\n",
    "    \n",
    "    vp_idx_cols = [\n",
    "        \"min_vp_idx\", \n",
    "        \"p25_vp_idx\",\n",
    "        \"p50_vp_idx\", \n",
    "        \"p75_vp_idx\",\n",
    "        \"max_vp_idx\"\n",
    "    ]\n",
    "\n",
    "    results = vp_range[vp_idx_cols].compute().to_numpy().flatten()    \n",
    "    \n",
    "    results = list(results)\n",
    "    return results"
   ]
  },
  {
   "cell_type": "code",
   "execution_count": null,
   "id": "75d6fcc5-8c85-4c62-a063-62a7a73ecdc0",
   "metadata": {},
   "outputs": [],
   "source": [
    "triangulate_muni = triangulate_vp(vp_filtered, 'trip_instance_key')"
   ]
  },
  {
   "cell_type": "code",
   "execution_count": null,
   "id": "9093ef29-79fd-4ca2-9abb-897cd7f6768c",
   "metadata": {},
   "outputs": [],
   "source": [
    "vp_results = dd.read_parquet(f\"{SEGMENT_GCS}vp_usable_{analysis_date}\",\n",
    "        columns = [\n",
    "            \"gtfs_dataset_key\", \"trip_instance_key\",\n",
    "            \"location_timestamp_local\",\n",
    "            \"x\", \"y\", \"vp_idx\"],\n",
    "        filters = [[('gtfs_dataset_name', \"==\", operator),\n",
    "                   ('schedule_gtfs_dataset_key', '==', gtfs_key),\n",
    "                    ('vp_idx', 'in', triangulate_muni)]]).compute()"
   ]
  },
  {
   "cell_type": "code",
   "execution_count": null,
   "id": "b9ed5b3a-2e06-4389-84d9-dd39ea5042ad",
   "metadata": {},
   "outputs": [],
   "source": [
    "vp_results.sample(2)"
   ]
  },
  {
   "cell_type": "code",
   "execution_count": null,
   "id": "7c586115-3b28-4333-80f0-01aaea84c711",
   "metadata": {},
   "outputs": [],
   "source": [
    "len(vp_results.loc[vp_results.trip_instance_key == \"5e067d518df2c7d76b7465f1c7d0901e\"])"
   ]
  },
  {
   "cell_type": "code",
   "execution_count": null,
   "id": "a8c059c8-7b24-409b-abd0-8c99be8fd29c",
   "metadata": {},
   "outputs": [],
   "source": [
    "len(vp_filtered.loc[vp_filtered.trip_instance_key == \"5e067d518df2c7d76b7465f1c7d0901e\"])"
   ]
  },
  {
   "cell_type": "code",
   "execution_count": null,
   "id": "e8c60e57-1c5e-46bb-aa4b-7247f4f38a4d",
   "metadata": {},
   "outputs": [],
   "source": [
    "len(vp_results.loc[vp_results.trip_instance_key == \"37e64d454f8679b38b2d35ed0d256df0\"])"
   ]
  },
  {
   "cell_type": "code",
   "execution_count": null,
   "id": "055797b8-a395-4a71-aaa2-3202c521126a",
   "metadata": {},
   "outputs": [],
   "source": [
    "len(vp_filtered.loc[vp_filtered.trip_instance_key == \"37e64d454f8679b38b2d35ed0d256df0\"])"
   ]
  },
  {
   "cell_type": "markdown",
   "id": "65ce88c6-27b2-4329-9e20-e8cb26dd2806",
   "metadata": {},
   "source": [
    "* vp_results is a pandas df but merge_rt_scheduled requires dask dataframe...it still works!"
   ]
  },
  {
   "cell_type": "code",
   "execution_count": null,
   "id": "0a668b99-615a-4d27-99e6-3b989182a4cc",
   "metadata": {},
   "outputs": [],
   "source": [
    "type(vp_results)"
   ]
  },
  {
   "cell_type": "code",
   "execution_count": null,
   "id": "63c04621-ad68-4e3d-9cec-133dbf0aa3b0",
   "metadata": {},
   "outputs": [],
   "source": [
    "def merge_rt_scheduled_trips(\n",
    "    rt_trips: dd.DataFrame,\n",
    "    analysis_date: str,\n",
    "    group_cols: list = [\"trip_instance_key\"]) -> dd.DataFrame:\n",
    "    \"\"\"\n",
    "    Merge RT trips (vehicle positions) to scheduled trips \n",
    "    to get the shape_array_key.\n",
    "    Don't pull other scheduled trip columns now, wait until\n",
    "    after aggregation is done.\n",
    "    \"\"\"\n",
    "    trips = helpers.import_scheduled_trips(\n",
    "        analysis_date,\n",
    "        columns = group_cols + [\"shape_array_key\"],\n",
    "        get_pandas = True\n",
    "    )\n",
    "        \n",
    "    df = dd.merge(\n",
    "        rt_trips,\n",
    "        trips,\n",
    "        on = group_cols,\n",
    "        how = \"left\",\n",
    "    )\n",
    "    \n",
    "    return df"
   ]
  },
  {
   "cell_type": "code",
   "execution_count": null,
   "id": "866b83cc-c0d9-4fc5-b794-f995e8b760de",
   "metadata": {},
   "outputs": [],
   "source": [
    "vp_with_sched = (\n",
    "        merge_rt_scheduled_trips(\n",
    "            vp_results, \n",
    "            analysis_date, \n",
    "            group_cols = [\"trip_instance_key\"]\n",
    "        ).sort_values(\"vp_idx\")\n",
    "        .reset_index(drop=True)\n",
    "    )"
   ]
  },
  {
   "cell_type": "code",
   "execution_count": null,
   "id": "8b6f6495-aa13-4452-a2c9-bf8c1f7f49fd",
   "metadata": {},
   "outputs": [],
   "source": [
    "vp_with_sched.head()"
   ]
  },
  {
   "cell_type": "markdown",
   "id": "687e9c19-daf3-4384-942a-947728bb0680",
   "metadata": {
    "tags": []
   },
   "source": [
    "### C3\n",
    "https://github.com/cal-itp/data-analyses/blob/main/rt_segment_speeds/scripts/C3_trip_route_speed.py"
   ]
  },
  {
   "cell_type": "code",
   "execution_count": null,
   "id": "067650b7-5d05-44a5-8ba3-e9006bd33250",
   "metadata": {},
   "outputs": [],
   "source": [
    "vp_with_sched.sample(2)"
   ]
  },
  {
   "cell_type": "code",
   "execution_count": null,
   "id": "78c974a0-51f8-42a0-b256-1d8f7c22482e",
   "metadata": {},
   "outputs": [],
   "source": [
    "c3 = gpd.GeoDataFrame(\n",
    "        vp_with_sched,\n",
    "        geometry = gpd.points_from_xy(vp_with_sched.x, vp_with_sched.y, crs=WGS84)\n",
    "    ).to_crs(PROJECT_CRS).drop(columns = [\"x\", \"y\"])"
   ]
  },
  {
   "cell_type": "code",
   "execution_count": null,
   "id": "757667a0-e377-4afe-a136-7cfaf219f0df",
   "metadata": {},
   "outputs": [],
   "source": [
    "# c3.sample(10).drop(columns = ['location_timestamp_local']).explore('shape_array_key', marker_kwds= {'radius':25})"
   ]
  },
  {
   "cell_type": "code",
   "execution_count": null,
   "id": "23c64d78-3c7f-4b58-9ccd-18159d9e1a4e",
   "metadata": {},
   "outputs": [],
   "source": [
    "shapes_list = c3.shape_array_key.unique().tolist()"
   ]
  },
  {
   "cell_type": "code",
   "execution_count": null,
   "id": "b3bd3c05-7c1d-44e8-afe3-a28a7c6e6190",
   "metadata": {},
   "outputs": [],
   "source": [
    "shapes = helpers.import_scheduled_shapes(\n",
    "        analysis_date,\n",
    "        columns = [\"shape_array_key\",\"geometry\"],\n",
    "        filters = [[(\"shape_array_key\", \"in\", shapes_list)]],\n",
    "        get_pandas = True,\n",
    "        crs = PROJECT_CRS\n",
    "    )"
   ]
  },
  {
   "cell_type": "code",
   "execution_count": null,
   "id": "27c8fff8-f8a7-4906-a3f4-7faac4969bde",
   "metadata": {},
   "outputs": [],
   "source": [
    "c3_m = pd.merge(\n",
    "        c3,\n",
    "        shapes,\n",
    "        on = \"shape_array_key\",\n",
    "        how = \"inner\"\n",
    "    ).rename(columns = {\"geometry_x\": \"vp_geometry\", \n",
    "                        \"geometry_y\": \"shape_geometry\"}\n",
    "            ).set_geometry(\"vp_geometry\")"
   ]
  },
  {
   "cell_type": "code",
   "execution_count": null,
   "id": "7430576e-c571-45de-afb9-500c21336808",
   "metadata": {},
   "outputs": [],
   "source": [
    "shape_meters_geoseries = wrangle_shapes.project_point_geom_onto_linestring(\n",
    "        c3_m,\n",
    "        \"shape_geometry\",\n",
    "        \"vp_geometry\",\n",
    "    )\n"
   ]
  },
  {
   "cell_type": "code",
   "execution_count": null,
   "id": "5163eb06-c65a-4c30-b36c-c31eb01d3fbf",
   "metadata": {},
   "outputs": [],
   "source": [
    "shape_meters_geoseries.head()"
   ]
  },
  {
   "cell_type": "code",
   "execution_count": null,
   "id": "6631d594-78d7-494a-8bd2-86d2b0c19b1f",
   "metadata": {},
   "outputs": [],
   "source": [
    "c3_m[\"shape_meters\"] = shape_meters_geoseries"
   ]
  },
  {
   "cell_type": "code",
   "execution_count": null,
   "id": "f707a0d5-6b52-4c35-bb06-bf8b8f4f69ba",
   "metadata": {},
   "outputs": [],
   "source": [
    "def distance_and_seconds_elapsed(\n",
    "    df: pd.DataFrame, \n",
    "    group_cols: list\n",
    ") -> pd.DataFrame:\n",
    "    \"\"\"\n",
    "    If every trip has 3 vp, we want the change in time and distance\n",
    "    between 1st and 2nd, 2nd and 3rd.\n",
    "    Then, sum up the change in time and change by trip.\n",
    "    \"\"\"\n",
    "    dist_col = \"shape_meters\"\n",
    "    time_col = \"location_timestamp_local\"\n",
    "    sort_cols = group_cols + [\"vp_idx\"]\n",
    "    \n",
    "    # Get the change in distance, time for each row\n",
    "    df = df.assign(\n",
    "        prior_dist = (df.sort_values(sort_cols)\n",
    "                      .groupby(group_cols, \n",
    "                               observed=True, group_keys=False)\n",
    "                      [dist_col]\n",
    "                      .apply(lambda x: x.shift(1))\n",
    "                     ),\n",
    "        prior_time = (df.sort_values(sort_cols)\n",
    "                      .groupby(group_cols, \n",
    "                               observed=True, group_keys=False)\n",
    "                      [time_col]\n",
    "                      .apply(lambda x: x.shift(1))\n",
    "                     )   \n",
    "    )\n",
    "    \n",
    "    # distance should be positive, but sometimes it's not, \n",
    "    # so use absolute value\n",
    "    df = df.assign(\n",
    "        change_meters = abs(df[dist_col] - df.prior_dist),\n",
    "        change_sec = (df[time_col] - df.prior_time).divide(\n",
    "                       np.timedelta64(1, 's'))\n",
    "    )\n",
    "    \n",
    "    # For a trip, sum up the total change in distance and time \n",
    "    # Easier to calculate the speed this way, than\n",
    "    # taking a weighted average later\n",
    "    df2 = (df.groupby(group_cols, \n",
    "                     observed=True, group_keys=False)\n",
    "           .agg({\"change_meters\": \"sum\", \n",
    "                 \"change_sec\": \"sum\"})\n",
    "           .reset_index()\n",
    "          )\n",
    "    \n",
    "    df2 = df2.assign(\n",
    "        speed_mph = (df2.change_meters.divide(df2.change_sec) * \n",
    "                     MPH_PER_MPS)\n",
    "    )\n",
    "    \n",
    "    return df2\n"
   ]
  },
  {
   "cell_type": "code",
   "execution_count": null,
   "id": "1fabd6c3-2687-4137-b943-5d7d8823b392",
   "metadata": {},
   "outputs": [],
   "source": [
    "speed = distance_and_seconds_elapsed(\n",
    "        c3_m,\n",
    "        group_cols = [\"gtfs_dataset_key\", \"trip_instance_key\"]\n",
    "    )\n",
    "    "
   ]
  }
 ],
 "metadata": {
  "kernelspec": {
   "display_name": "Python 3 (ipykernel)",
   "language": "python",
   "name": "python3"
  },
  "language_info": {
   "codemirror_mode": {
    "name": "ipython",
    "version": 3
   },
   "file_extension": ".py",
   "mimetype": "text/x-python",
   "name": "python",
   "nbconvert_exporter": "python",
   "pygments_lexer": "ipython3",
   "version": "3.9.13"
  }
 },
 "nbformat": 4,
 "nbformat_minor": 5
}
