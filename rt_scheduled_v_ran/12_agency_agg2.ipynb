{
 "cells": [
  {
   "cell_type": "markdown",
   "id": "257a475b-714f-4000-9f2e-0376a3951acd",
   "metadata": {},
   "source": [
    "## Agency Grain Metrics\n",
    "* Starting from `vp_trips` this time. \n",
    "* Add it to the pipeline in `rt_scheduled_v_ran/scripts/rt_v_scheduled_agency.py`\n",
    "* `cd data-analyses/rt_segment_speeds && pip install -r requirements.txt && cd ../_shared_utils && make setup_env && cd ../gtfs_digest`"
   ]
  },
  {
   "cell_type": "code",
   "execution_count": 1,
   "id": "343294c0-3ae5-440a-92fc-43d20408b701",
   "metadata": {},
   "outputs": [],
   "source": [
    "import geopandas as gpd\n",
    "import numpy as np\n",
    "import pandas as pd\n",
    "from segment_speed_utils import (\n",
    "    gtfs_schedule_wrangling,\n",
    "    helpers,\n",
    "    metrics,\n",
    "    time_series_utils,\n",
    ")\n",
    "from segment_speed_utils.project_vars import (\n",
    "    COMPILED_CACHED_VIEWS,\n",
    "    GTFS_DATA_DICT,\n",
    "    PROJECT_CRS,\n",
    "    RT_SCHED_GCS,\n",
    "    SCHED_GCS,\n",
    "    SEGMENT_GCS,\n",
    ")\n",
    "from shared_utils import catalog_utils, rt_dates, rt_utils"
   ]
  },
  {
   "cell_type": "code",
   "execution_count": 2,
   "id": "04beb077-3365-4290-a933-12a0ce750e53",
   "metadata": {},
   "outputs": [],
   "source": [
    "pd.options.display.max_columns = 100\n",
    "pd.options.display.float_format = \"{:.2f}\".format\n",
    "pd.set_option(\"display.max_rows\", None)\n",
    "pd.set_option(\"display.max_colwidth\", None)"
   ]
  },
  {
   "cell_type": "code",
   "execution_count": 3,
   "id": "dbfba5e1-ad13-46bb-9921-74762549d9e5",
   "metadata": {},
   "outputs": [],
   "source": [
    "dict_inputs = GTFS_DATA_DICT.rt_vs_schedule_tables"
   ]
  },
  {
   "cell_type": "code",
   "execution_count": 4,
   "id": "ee546f20-6c03-459c-ac6f-61738f66a895",
   "metadata": {},
   "outputs": [
    {
     "data": {
      "text/plain": [
       "{'dir': '${gcs_paths.RT_SCHED_GCS}', 'stop_times_direction': 'stop_times_direction', 'sched_trip_metrics': 'schedule_trip/schedule_trip_metrics', 'sched_route_direction_metrics': 'schedule_route_dir/schedule_route_direction_metrics', 'vp_trip_metrics': 'vp_trip/trip_metrics', 'vp_route_direction_metrics': 'vp_route_dir/route_direction_metrics', 'vp_operator_metrics': 'vp_operator/operator_metrics', 'schedule_rt_stop_times': 'schedule_rt_stop_times', 'early_trip_minutes': -5, 'late_trip_minutes': 5}"
      ]
     },
     "execution_count": 4,
     "metadata": {},
     "output_type": "execute_result"
    }
   ],
   "source": [
    "dict_inputs"
   ]
  },
  {
   "cell_type": "code",
   "execution_count": 5,
   "id": "0b3cfc74-2a10-434c-84ae-d723ad6396d0",
   "metadata": {},
   "outputs": [
    {
     "data": {
      "text/plain": [
       "['2024-01-17',\n",
       " '2024-02-14',\n",
       " '2024-03-13',\n",
       " '2024-04-17',\n",
       " '2024-05-22',\n",
       " '2024-06-12',\n",
       " '2024-07-17',\n",
       " '2024-08-14',\n",
       " '2024-09-18']"
      ]
     },
     "execution_count": 5,
     "metadata": {},
     "output_type": "execute_result"
    }
   ],
   "source": [
    "rt_dates.y2024_dates"
   ]
  },
  {
   "cell_type": "code",
   "execution_count": 6,
   "id": "8e7e816e-6a65-46a0-941d-e4231289e203",
   "metadata": {},
   "outputs": [],
   "source": [
    "TRIP_EXPORT = dict_inputs.vp_trip_metrics"
   ]
  },
  {
   "cell_type": "code",
   "execution_count": 7,
   "id": "c3bf9359-318b-406c-b668-278c128e5292",
   "metadata": {},
   "outputs": [],
   "source": [
    "crosswalk_cols = [\n",
    "    \"schedule_gtfs_dataset_key\",\n",
    "    \"name\",\n",
    "    \"organization_name\",\n",
    "    \"caltrans_district\",]"
   ]
  },
  {
   "cell_type": "code",
   "execution_count": 8,
   "id": "2a51515c-37d0-4c0a-8cb4-e265d1434755",
   "metadata": {},
   "outputs": [],
   "source": [
    "analysis_date = \"2024-09-18\""
   ]
  },
  {
   "cell_type": "code",
   "execution_count": 9,
   "id": "8d2be580-0e06-43a6-8c34-ce8fd06ea2e9",
   "metadata": {},
   "outputs": [],
   "source": [
    "df = pd.read_parquet(f\"{RT_SCHED_GCS}{TRIP_EXPORT}_{analysis_date}.parquet\")"
   ]
  },
  {
   "cell_type": "code",
   "execution_count": 10,
   "id": "c4c2e26b-9878-4566-98d8-1ff71237617e",
   "metadata": {},
   "outputs": [],
   "source": [
    "df2 = gtfs_schedule_wrangling.merge_operator_identifiers(\n",
    "        df,\n",
    "        [analysis_date],\n",
    "        columns = crosswalk_cols)"
   ]
  },
  {
   "cell_type": "markdown",
   "id": "76a66216-0acc-4f89-b940-aa8d89bf476c",
   "metadata": {},
   "source": [
    "### What time of day do I use?\n",
    "`df.loc[df[\"time_period\"] == \"all_day\"]` is not available."
   ]
  },
  {
   "cell_type": "code",
   "execution_count": 11,
   "id": "3eef5b7d-5b36-459c-b1d8-b2f953ab54e6",
   "metadata": {},
   "outputs": [
    {
     "data": {
      "text/plain": [
       "array(['AM Peak', 'Evening', 'PM Peak', 'Early AM', 'Midday', 'Owl'],\n",
       "      dtype=object)"
      ]
     },
     "execution_count": 11,
     "metadata": {},
     "output_type": "execute_result"
    }
   ],
   "source": [
    "df2.time_of_day.unique()"
   ]
  },
  {
   "cell_type": "code",
   "execution_count": 12,
   "id": "fdea269f-50d9-47b4-ba4c-eaae7c5fd06c",
   "metadata": {},
   "outputs": [
    {
     "data": {
      "text/plain": [
       "array(['peak', 'offpeak'], dtype=object)"
      ]
     },
     "execution_count": 12,
     "metadata": {},
     "output_type": "execute_result"
    }
   ],
   "source": [
    "df2.peak_offpeak.unique()"
   ]
  },
  {
   "cell_type": "code",
   "execution_count": 13,
   "id": "8e00f7f5-49c7-4a29-90b0-fe924a40c01d",
   "metadata": {},
   "outputs": [
    {
     "data": {
      "text/html": [
       "<div>\n",
       "<style scoped>\n",
       "    .dataframe tbody tr th:only-of-type {\n",
       "        vertical-align: middle;\n",
       "    }\n",
       "\n",
       "    .dataframe tbody tr th {\n",
       "        vertical-align: top;\n",
       "    }\n",
       "\n",
       "    .dataframe thead th {\n",
       "        text-align: right;\n",
       "    }\n",
       "</style>\n",
       "<table border=\"1\" class=\"dataframe\">\n",
       "  <thead>\n",
       "    <tr style=\"text-align: right;\">\n",
       "      <th></th>\n",
       "      <th>schedule_gtfs_dataset_key</th>\n",
       "      <th>trip_instance_key</th>\n",
       "      <th>route_id</th>\n",
       "      <th>direction_id</th>\n",
       "      <th>scheduled_service_minutes</th>\n",
       "      <th>total_vp</th>\n",
       "      <th>rt_service_minutes</th>\n",
       "      <th>minutes_atleast1_vp</th>\n",
       "      <th>minutes_atleast2_vp</th>\n",
       "      <th>vp_in_shape</th>\n",
       "      <th>sched_rt_category</th>\n",
       "      <th>time_of_day</th>\n",
       "      <th>peak_offpeak</th>\n",
       "      <th>vp_per_minute</th>\n",
       "      <th>pct_in_shape</th>\n",
       "      <th>pct_rt_journey_atleast1_vp</th>\n",
       "      <th>pct_rt_journey_atleast2_vp</th>\n",
       "      <th>pct_sched_journey_atleast1_vp</th>\n",
       "      <th>pct_sched_journey_atleast2_vp</th>\n",
       "      <th>rt_sched_journey_difference</th>\n",
       "      <th>is_early</th>\n",
       "      <th>is_ontime</th>\n",
       "      <th>is_late</th>\n",
       "      <th>name</th>\n",
       "      <th>organization_name</th>\n",
       "      <th>caltrans_district</th>\n",
       "    </tr>\n",
       "  </thead>\n",
       "  <tbody>\n",
       "    <tr>\n",
       "      <th>0</th>\n",
       "      <td>7cc0cb1871dfd558f11a2885c145d144</td>\n",
       "      <td>000213c9d5753f9565b679d8ab84929f</td>\n",
       "      <td>2</td>\n",
       "      <td>1.00</td>\n",
       "      <td>29.00</td>\n",
       "      <td>200</td>\n",
       "      <td>66.25</td>\n",
       "      <td>68</td>\n",
       "      <td>66</td>\n",
       "      <td>195</td>\n",
       "      <td>schedule_and_vp</td>\n",
       "      <td>AM Peak</td>\n",
       "      <td>peak</td>\n",
       "      <td>3.02</td>\n",
       "      <td>0.97</td>\n",
       "      <td>1.00</td>\n",
       "      <td>1.00</td>\n",
       "      <td>1.00</td>\n",
       "      <td>1.00</td>\n",
       "      <td>37.25</td>\n",
       "      <td>0</td>\n",
       "      <td>0</td>\n",
       "      <td>1</td>\n",
       "      <td>Bay Area 511 Muni Schedule</td>\n",
       "      <td>City and County of San Francisco</td>\n",
       "      <td>04 - Oakland</td>\n",
       "    </tr>\n",
       "  </tbody>\n",
       "</table>\n",
       "</div>"
      ],
      "text/plain": [
       "          schedule_gtfs_dataset_key                 trip_instance_key  \\\n",
       "0  7cc0cb1871dfd558f11a2885c145d144  000213c9d5753f9565b679d8ab84929f   \n",
       "\n",
       "  route_id  direction_id  scheduled_service_minutes  total_vp  \\\n",
       "0        2          1.00                      29.00       200   \n",
       "\n",
       "   rt_service_minutes  minutes_atleast1_vp  minutes_atleast2_vp  vp_in_shape  \\\n",
       "0               66.25                   68                   66          195   \n",
       "\n",
       "  sched_rt_category time_of_day peak_offpeak  vp_per_minute  pct_in_shape  \\\n",
       "0   schedule_and_vp     AM Peak         peak           3.02          0.97   \n",
       "\n",
       "   pct_rt_journey_atleast1_vp  pct_rt_journey_atleast2_vp  \\\n",
       "0                        1.00                        1.00   \n",
       "\n",
       "   pct_sched_journey_atleast1_vp  pct_sched_journey_atleast2_vp  \\\n",
       "0                           1.00                           1.00   \n",
       "\n",
       "   rt_sched_journey_difference  is_early  is_ontime  is_late  \\\n",
       "0                        37.25         0          0        1   \n",
       "\n",
       "                         name                 organization_name  \\\n",
       "0  Bay Area 511 Muni Schedule  City and County of San Francisco   \n",
       "\n",
       "  caltrans_district  \n",
       "0      04 - Oakland  "
      ]
     },
     "execution_count": 13,
     "metadata": {},
     "output_type": "execute_result"
    }
   ],
   "source": [
    "df2.head(1)"
   ]
  },
  {
   "cell_type": "code",
   "execution_count": 14,
   "id": "7a575da4-2efc-44f4-9c56-9d3277d806a6",
   "metadata": {},
   "outputs": [],
   "source": [
    "groupby_cols = [\n",
    "    \"caltrans_district\",\n",
    "    \"organization_name\",\n",
    "    \"schedule_gtfs_dataset_key\",\n",
    "]"
   ]
  },
  {
   "cell_type": "code",
   "execution_count": 15,
   "id": "42c7e971-23e7-40b9-9386-47c5b1b47b9d",
   "metadata": {},
   "outputs": [],
   "source": [
    "agg1 = (\n",
    "    df2.groupby(groupby_cols)\n",
    "    .agg(\n",
    "        {\n",
    "            \"total_vp\": \"sum\",\n",
    "            \"vp_in_shape\": \"sum\",\n",
    "            \"rt_service_minutes\": \"sum\",\n",
    "        }\n",
    "    )\n",
    "    .reset_index()\n",
    ")"
   ]
  },
  {
   "cell_type": "code",
   "execution_count": 16,
   "id": "a738e9fd-143a-497c-b7af-a0884e7346d7",
   "metadata": {},
   "outputs": [],
   "source": [
    "agg1[\"vp_per_min_agency\"] = ((agg1.total_vp / agg1.rt_service_minutes)).round(2)\n",
    "agg1[\"spatial_accuracy_agency\"] = ((agg1.vp_in_shape / agg1.total_vp) * 100).round(2)"
   ]
  },
  {
   "cell_type": "code",
   "execution_count": 17,
   "id": "c0c61998-c937-432e-bcf3-4850eb300c60",
   "metadata": {},
   "outputs": [
    {
     "data": {
      "text/html": [
       "<div>\n",
       "<style scoped>\n",
       "    .dataframe tbody tr th:only-of-type {\n",
       "        vertical-align: middle;\n",
       "    }\n",
       "\n",
       "    .dataframe tbody tr th {\n",
       "        vertical-align: top;\n",
       "    }\n",
       "\n",
       "    .dataframe thead th {\n",
       "        text-align: right;\n",
       "    }\n",
       "</style>\n",
       "<table border=\"1\" class=\"dataframe\">\n",
       "  <thead>\n",
       "    <tr style=\"text-align: right;\">\n",
       "      <th></th>\n",
       "      <th>caltrans_district</th>\n",
       "      <th>organization_name</th>\n",
       "      <th>schedule_gtfs_dataset_key</th>\n",
       "      <th>total_vp</th>\n",
       "      <th>vp_in_shape</th>\n",
       "      <th>rt_service_minutes</th>\n",
       "      <th>vp_per_min_agency</th>\n",
       "      <th>spatial_accuracy_agency</th>\n",
       "    </tr>\n",
       "  </thead>\n",
       "  <tbody>\n",
       "    <tr>\n",
       "      <th>0</th>\n",
       "      <td>01 - Eureka</td>\n",
       "      <td>City of Arcata</td>\n",
       "      <td>a253a8d7acd57657bb98050f37dd6b0f</td>\n",
       "      <td>38142</td>\n",
       "      <td>17935</td>\n",
       "      <td>13367.50</td>\n",
       "      <td>2.85</td>\n",
       "      <td>47.02</td>\n",
       "    </tr>\n",
       "    <tr>\n",
       "      <th>1</th>\n",
       "      <td>01 - Eureka</td>\n",
       "      <td>City of Eureka</td>\n",
       "      <td>a253a8d7acd57657bb98050f37dd6b0f</td>\n",
       "      <td>38142</td>\n",
       "      <td>17935</td>\n",
       "      <td>13367.50</td>\n",
       "      <td>2.85</td>\n",
       "      <td>47.02</td>\n",
       "    </tr>\n",
       "    <tr>\n",
       "      <th>2</th>\n",
       "      <td>01 - Eureka</td>\n",
       "      <td>Humboldt Transit Authority</td>\n",
       "      <td>a253a8d7acd57657bb98050f37dd6b0f</td>\n",
       "      <td>38142</td>\n",
       "      <td>17935</td>\n",
       "      <td>13367.50</td>\n",
       "      <td>2.85</td>\n",
       "      <td>47.02</td>\n",
       "    </tr>\n",
       "    <tr>\n",
       "      <th>3</th>\n",
       "      <td>01 - Eureka</td>\n",
       "      <td>Lake Transit Authority</td>\n",
       "      <td>0a3c0b21c85fb09f8db91599e14dd7f7</td>\n",
       "      <td>11572</td>\n",
       "      <td>11223</td>\n",
       "      <td>5015.75</td>\n",
       "      <td>2.31</td>\n",
       "      <td>96.98</td>\n",
       "    </tr>\n",
       "    <tr>\n",
       "      <th>4</th>\n",
       "      <td>01 - Eureka</td>\n",
       "      <td>Mendocino Transit Authority</td>\n",
       "      <td>770072d7a8d356b529ef34fe01715bcb</td>\n",
       "      <td>16196</td>\n",
       "      <td>13702</td>\n",
       "      <td>6699.27</td>\n",
       "      <td>2.42</td>\n",
       "      <td>84.60</td>\n",
       "    </tr>\n",
       "  </tbody>\n",
       "</table>\n",
       "</div>"
      ],
      "text/plain": [
       "  caltrans_district            organization_name  \\\n",
       "0       01 - Eureka               City of Arcata   \n",
       "1       01 - Eureka               City of Eureka   \n",
       "2       01 - Eureka   Humboldt Transit Authority   \n",
       "3       01 - Eureka       Lake Transit Authority   \n",
       "4       01 - Eureka  Mendocino Transit Authority   \n",
       "\n",
       "          schedule_gtfs_dataset_key  total_vp  vp_in_shape  \\\n",
       "0  a253a8d7acd57657bb98050f37dd6b0f     38142        17935   \n",
       "1  a253a8d7acd57657bb98050f37dd6b0f     38142        17935   \n",
       "2  a253a8d7acd57657bb98050f37dd6b0f     38142        17935   \n",
       "3  0a3c0b21c85fb09f8db91599e14dd7f7     11572        11223   \n",
       "4  770072d7a8d356b529ef34fe01715bcb     16196        13702   \n",
       "\n",
       "   rt_service_minutes  vp_per_min_agency  spatial_accuracy_agency  \n",
       "0            13367.50               2.85                    47.02  \n",
       "1            13367.50               2.85                    47.02  \n",
       "2            13367.50               2.85                    47.02  \n",
       "3             5015.75               2.31                    96.98  \n",
       "4             6699.27               2.42                    84.60  "
      ]
     },
     "execution_count": 17,
     "metadata": {},
     "output_type": "execute_result"
    }
   ],
   "source": [
    "agg1.head()"
   ]
  },
  {
   "cell_type": "code",
   "execution_count": 18,
   "id": "ee228e7c-6479-4b9f-be77-367f50ea46e7",
   "metadata": {},
   "outputs": [
    {
     "data": {
      "text/html": [
       "<div>\n",
       "<style scoped>\n",
       "    .dataframe tbody tr th:only-of-type {\n",
       "        vertical-align: middle;\n",
       "    }\n",
       "\n",
       "    .dataframe tbody tr th {\n",
       "        vertical-align: top;\n",
       "    }\n",
       "\n",
       "    .dataframe thead th {\n",
       "        text-align: right;\n",
       "    }\n",
       "</style>\n",
       "<table border=\"1\" class=\"dataframe\">\n",
       "  <thead>\n",
       "    <tr style=\"text-align: right;\">\n",
       "      <th></th>\n",
       "      <th>28</th>\n",
       "    </tr>\n",
       "  </thead>\n",
       "  <tbody>\n",
       "    <tr>\n",
       "      <th>caltrans_district</th>\n",
       "      <td>04 - Oakland</td>\n",
       "    </tr>\n",
       "    <tr>\n",
       "      <th>organization_name</th>\n",
       "      <td>Marin County Transit District</td>\n",
       "    </tr>\n",
       "    <tr>\n",
       "      <th>schedule_gtfs_dataset_key</th>\n",
       "      <td>015d67d5b75b5cf2b710bbadadfb75f5</td>\n",
       "    </tr>\n",
       "    <tr>\n",
       "      <th>total_vp</th>\n",
       "      <td>97768</td>\n",
       "    </tr>\n",
       "    <tr>\n",
       "      <th>vp_in_shape</th>\n",
       "      <td>63718</td>\n",
       "    </tr>\n",
       "    <tr>\n",
       "      <th>rt_service_minutes</th>\n",
       "      <td>36831.13</td>\n",
       "    </tr>\n",
       "    <tr>\n",
       "      <th>vp_per_min_agency</th>\n",
       "      <td>2.65</td>\n",
       "    </tr>\n",
       "    <tr>\n",
       "      <th>spatial_accuracy_agency</th>\n",
       "      <td>65.17</td>\n",
       "    </tr>\n",
       "  </tbody>\n",
       "</table>\n",
       "</div>"
      ],
      "text/plain": [
       "                                                         28\n",
       "caltrans_district                              04 - Oakland\n",
       "organization_name             Marin County Transit District\n",
       "schedule_gtfs_dataset_key  015d67d5b75b5cf2b710bbadadfb75f5\n",
       "total_vp                                              97768\n",
       "vp_in_shape                                           63718\n",
       "rt_service_minutes                                 36831.13\n",
       "vp_per_min_agency                                      2.65\n",
       "spatial_accuracy_agency                               65.17"
      ]
     },
     "execution_count": 18,
     "metadata": {},
     "output_type": "execute_result"
    }
   ],
   "source": [
    "agg1.loc[agg1.organization_name == \"Marin County Transit District\"].T"
   ]
  }
 ],
 "metadata": {
  "kernelspec": {
   "display_name": "Python 3 (ipykernel)",
   "language": "python",
   "name": "python3"
  },
  "language_info": {
   "codemirror_mode": {
    "name": "ipython",
    "version": 3
   },
   "file_extension": ".py",
   "mimetype": "text/x-python",
   "name": "python",
   "nbconvert_exporter": "python",
   "pygments_lexer": "ipython3",
   "version": "3.9.13"
  }
 },
 "nbformat": 4,
 "nbformat_minor": 5
}
