{
 "cells": [
  {
   "cell_type": "code",
   "execution_count": 1,
   "id": "e3cc1e6c-f7c8-4ed7-b02c-fb83af68c106",
   "metadata": {},
   "outputs": [],
   "source": [
    "import pandas as pd\n",
    "\n",
    "from segment_speed_utils import helpers\n",
    "from shared_utils import rt_dates\n",
    "from segment_speed_utils.project_vars import RT_SCHED_GCS"
   ]
  },
  {
   "cell_type": "code",
   "execution_count": 2,
   "id": "8f6d09bb-e5fe-4f8c-9179-85d9bb9097e8",
   "metadata": {},
   "outputs": [],
   "source": [
    "def get_daily_stats(analysis_date: str):\n",
    "    scheduled_trips = helpers.import_scheduled_trips(\n",
    "        analysis_date,\n",
    "        columns = [\"gtfs_dataset_key\", \"trip_instance_key\"],\n",
    "        get_pandas = True\n",
    "    )\n",
    "\n",
    "    vp_trips = pd.read_parquet(\n",
    "        f\"{RT_SCHED_GCS}vp_trip/trip_metrics/trip_{analysis_date}.parquet\"\n",
    "    )\n",
    "\n",
    "    df = pd.merge(\n",
    "        scheduled_trips,\n",
    "        vp_trips,\n",
    "        on = [\"schedule_gtfs_dataset_key\", \"trip_instance_key\"],\n",
    "        how = \"outer\",\n",
    "        indicator = True\n",
    "    )\n",
    "\n",
    "    print(df._merge.value_counts(normalize=True))"
   ]
  },
  {
   "cell_type": "code",
   "execution_count": 3,
   "id": "7c4f7005-158e-453f-a63a-88ecf61a7f71",
   "metadata": {},
   "outputs": [
    {
     "name": "stdout",
     "output_type": "stream",
     "text": [
      "2024-01-17\n",
      "both          0.686273\n",
      "left_only     0.219728\n",
      "right_only    0.093999\n",
      "Name: _merge, dtype: float64\n",
      "2024-02-14\n",
      "both          0.692545\n",
      "left_only     0.239297\n",
      "right_only    0.068158\n",
      "Name: _merge, dtype: float64\n",
      "2023-12-13\n",
      "both          0.705866\n",
      "left_only     0.220349\n",
      "right_only    0.073785\n",
      "Name: _merge, dtype: float64\n"
     ]
    }
   ],
   "source": [
    "analysis_date_list = rt_dates.y2024_dates + [\n",
    "    rt_dates.DATES[\"dec2023\"]\n",
    "    \n",
    "]\n",
    "\n",
    "for analysis_date in analysis_date_list:\n",
    "    print(analysis_date)\n",
    "    get_daily_stats(analysis_date)"
   ]
  },
  {
   "cell_type": "code",
   "execution_count": null,
   "id": "ad6c8bd6-ff2c-44ff-a64a-096ae00e2d21",
   "metadata": {},
   "outputs": [],
   "source": []
  },
  {
   "cell_type": "code",
   "execution_count": null,
   "id": "5871829e-292d-4964-8542-0131ff336760",
   "metadata": {},
   "outputs": [],
   "source": []
  }
 ],
 "metadata": {
  "kernelspec": {
   "display_name": "Python 3 (ipykernel)",
   "language": "python",
   "name": "python3"
  },
  "language_info": {
   "codemirror_mode": {
    "name": "ipython",
    "version": 3
   },
   "file_extension": ".py",
   "mimetype": "text/x-python",
   "name": "python",
   "nbconvert_exporter": "python",
   "pygments_lexer": "ipython3",
   "version": "3.9.13"
  }
 },
 "nbformat": 4,
 "nbformat_minor": 5
}
