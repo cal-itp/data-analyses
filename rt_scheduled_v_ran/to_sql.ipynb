{
 "cells": [
  {
   "cell_type": "markdown",
   "id": "43a129a0-c37c-4be9-9495-a6b473e8fdd8",
   "metadata": {},
   "source": [
    "# To SQL"
   ]
  },
  {
   "cell_type": "code",
   "execution_count": 10,
   "id": "7c47e306-a7fb-4fe5-a6c3-b2beaae170fc",
   "metadata": {},
   "outputs": [],
   "source": [
    "import os\n",
    "os.environ[\"CALITP_BQ_MAX_BYTES\"] = str(800_000_000_000) ## 800GB?\n",
    "\n",
    "from calitp.tables import tbl\n",
    "\n",
    "from calitp import query_sql, magics\n",
    "import branca\n",
    "\n",
    "import shared_utils\n",
    "\n",
    "from siuba import *\n",
    "import pandas as pd\n",
    "\n",
    "import datetime as dt\n",
    "import time\n",
    "from zoneinfo import ZoneInfo\n",
    "\n",
    "import importlib\n",
    "\n",
    "import gcsfs\n",
    "fs = gcsfs.GCSFileSystem()\n",
    "\n",
    "from tqdm import tqdm_notebook\n",
    "from tqdm.notebook import trange, tqdm\n",
    "\n",
    "from IPython.display import display, Markdown\n",
    "\n",
    "import utils"
   ]
  },
  {
   "cell_type": "code",
   "execution_count": 11,
   "id": "18d11342-4377-48b4-b3ef-aa60f51aece1",
   "metadata": {},
   "outputs": [],
   "source": [
    "analysis_date_start = '2022-05-01'\n",
    "analysis_date_end = '2022-05-31'"
   ]
  },
  {
   "cell_type": "code",
   "execution_count": 12,
   "id": "97e7fc02-72d2-424a-91b6-c93f9d712b03",
   "metadata": {},
   "outputs": [],
   "source": [
    "#function to change to SQL\n",
    "def get_pct_ran_df(itp_id, list_of_dates, gtfs_daily, rt):\n",
    "    \n",
    "    pcts = []\n",
    "    \n",
    "    # loop through list of dates\n",
    "    for single_date in list_of_dates:\n",
    "        \n",
    "        #filter for single day\n",
    "        \n",
    "        gtfs_daily2 = (gtfs_daily>>filter(_.service_date == single_date))\n",
    "        rt2 = (rt>>filter(_.date == single_date))\n",
    "        \n",
    "        #outer join schedule and rt data \n",
    "        sched_rt_df = (pd.merge(gtfs_daily2, rt2, how='outer', on='trip_id', indicator='have_rt'))\n",
    "\n",
    "        \n",
    "        day_pct_ran = {}\n",
    "        day_pct_ran['date'] = single_date\n",
    "        if ((len(sched_rt_df))!=0):\n",
    "            day_pct_ran['pct_trips_ran'] = ((len(sched_rt_df>>filter(_.have_rt=='both')))/(len(gtfs_daily2)))\n",
    "        elif ((len(sched_rt_df))==0):\n",
    "            day_pct_ran['pct_trips_ran'] = ''\n",
    "        pct_ran = pd.DataFrame([day_pct_ran])\n",
    "        \n",
    "        # add columns with counts \n",
    "        pct_ran['n_have_rt'] = (len(sched_rt_df>>filter(_.have_rt=='both')))\n",
    "        pct_ran['n_missing_rt'] = (len(sched_rt_df>>filter(_.have_rt=='right_only')))\n",
    "        pct_ran['unmatched_rt'] = (len(sched_rt_df>>filter(_.have_rt=='left_only')))\n",
    "        \n",
    "        # add columns for number of unique trip_ids\n",
    "        pct_ran['nunique_sched'] = (gtfs_daily2.trip_id.nunique())\n",
    "        pct_ran['nunique_rt'] = (rt2.trip_id.nunique())\n",
    "\n",
    "        pcts.append(pct_ran)                                                    \n",
    "        #code help from: https://stackoverflow.com/questions/28669482/appending-pandas-dataframes-generated-in-a-for-loop\n",
    "   \n",
    "    #add each date together \n",
    "    pcts = pd.concat(pcts)\n",
    "    \n",
    "    #arrange by date\n",
    "    pcts = pcts>>arrange(_.date)\n",
    "    return pd.DataFrame(pcts)\n"
   ]
  },
  {
   "cell_type": "code",
   "execution_count": 16,
   "id": "9bd097f1-cc1c-45f4-be1f-bc720f79e7ce",
   "metadata": {},
   "outputs": [
    {
     "name": "stderr",
     "output_type": "stream",
     "text": [
      "/opt/conda/lib/python3.10/site-packages/google/auth/_default.py:79: UserWarning: Your application has authenticated using end user credentials from Google Cloud SDK without a quota project. You might receive a \"quota exceeded\" or \"API not enabled\" error. We recommend you rerun `gcloud auth application-default login` and make sure a quota project is added. Or you can use service accounts instead. For more information about service accounts, see https://cloud.google.com/docs/authentication/\n"
     ]
    },
    {
     "data": {
      "text/html": [
       "<div>\n",
       "<style scoped>\n",
       "    .dataframe tbody tr th:only-of-type {\n",
       "        vertical-align: middle;\n",
       "    }\n",
       "\n",
       "    .dataframe tbody tr th {\n",
       "        vertical-align: top;\n",
       "    }\n",
       "\n",
       "    .dataframe thead th {\n",
       "        text-align: right;\n",
       "    }\n",
       "</style>\n",
       "<table border=\"1\" class=\"dataframe\">\n",
       "  <thead>\n",
       "    <tr style=\"text-align: right;\">\n",
       "      <th></th>\n",
       "      <th>calitp_itp_id</th>\n",
       "      <th>calitp_url_number</th>\n",
       "      <th>date</th>\n",
       "      <th>trip_id</th>\n",
       "      <th>vehicle_id</th>\n",
       "    </tr>\n",
       "  </thead>\n",
       "  <tbody>\n",
       "    <tr>\n",
       "      <th>0</th>\n",
       "      <td>300</td>\n",
       "      <td>0</td>\n",
       "      <td>2022-05-01</td>\n",
       "      <td>882742</td>\n",
       "      <td>1301</td>\n",
       "    </tr>\n",
       "    <tr>\n",
       "      <th>1</th>\n",
       "      <td>300</td>\n",
       "      <td>0</td>\n",
       "      <td>2022-05-01</td>\n",
       "      <td>882736</td>\n",
       "      <td>1301</td>\n",
       "    </tr>\n",
       "    <tr>\n",
       "      <th>2</th>\n",
       "      <td>300</td>\n",
       "      <td>0</td>\n",
       "      <td>2022-05-01</td>\n",
       "      <td>882739</td>\n",
       "      <td>1301</td>\n",
       "    </tr>\n",
       "    <tr>\n",
       "      <th>3</th>\n",
       "      <td>300</td>\n",
       "      <td>0</td>\n",
       "      <td>2022-05-01</td>\n",
       "      <td>882771</td>\n",
       "      <td>1301</td>\n",
       "    </tr>\n",
       "    <tr>\n",
       "      <th>4</th>\n",
       "      <td>300</td>\n",
       "      <td>0</td>\n",
       "      <td>2022-05-01</td>\n",
       "      <td>882761</td>\n",
       "      <td>1301</td>\n",
       "    </tr>\n",
       "    <tr>\n",
       "      <th>...</th>\n",
       "      <td>...</td>\n",
       "      <td>...</td>\n",
       "      <td>...</td>\n",
       "      <td>...</td>\n",
       "      <td>...</td>\n",
       "    </tr>\n",
       "    <tr>\n",
       "      <th>38896</th>\n",
       "      <td>300</td>\n",
       "      <td>0</td>\n",
       "      <td>2022-05-31</td>\n",
       "      <td>881885</td>\n",
       "      <td>5316</td>\n",
       "    </tr>\n",
       "    <tr>\n",
       "      <th>38897</th>\n",
       "      <td>300</td>\n",
       "      <td>0</td>\n",
       "      <td>2022-05-31</td>\n",
       "      <td>883406</td>\n",
       "      <td>5316</td>\n",
       "    </tr>\n",
       "    <tr>\n",
       "      <th>38898</th>\n",
       "      <td>300</td>\n",
       "      <td>0</td>\n",
       "      <td>2022-05-31</td>\n",
       "      <td>883414</td>\n",
       "      <td>5316</td>\n",
       "    </tr>\n",
       "    <tr>\n",
       "      <th>38899</th>\n",
       "      <td>300</td>\n",
       "      <td>0</td>\n",
       "      <td>2022-05-31</td>\n",
       "      <td>883385</td>\n",
       "      <td>5316</td>\n",
       "    </tr>\n",
       "    <tr>\n",
       "      <th>38900</th>\n",
       "      <td>300</td>\n",
       "      <td>0</td>\n",
       "      <td>2022-05-31</td>\n",
       "      <td>883422</td>\n",
       "      <td>5316</td>\n",
       "    </tr>\n",
       "  </tbody>\n",
       "</table>\n",
       "<p>38901 rows × 5 columns</p>\n",
       "</div>"
      ],
      "text/plain": [
       "       calitp_itp_id  calitp_url_number        date trip_id vehicle_id\n",
       "0                300                  0  2022-05-01  882742       1301\n",
       "1                300                  0  2022-05-01  882736       1301\n",
       "2                300                  0  2022-05-01  882739       1301\n",
       "3                300                  0  2022-05-01  882771       1301\n",
       "4                300                  0  2022-05-01  882761       1301\n",
       "...              ...                ...         ...     ...        ...\n",
       "38896            300                  0  2022-05-31  881885       5316\n",
       "38897            300                  0  2022-05-31  883406       5316\n",
       "38898            300                  0  2022-05-31  883414       5316\n",
       "38899            300                  0  2022-05-31  883385       5316\n",
       "38900            300                  0  2022-05-31  883422       5316\n",
       "\n",
       "[38901 rows x 5 columns]"
      ]
     },
     "execution_count": 16,
     "metadata": {},
     "output_type": "execute_result"
    }
   ],
   "source": [
    "%%sql\n",
    "WITH rt_trips AS(\n",
    "SELECT * \n",
    "FROM `cal-itp-data-infra-staging.natalie_views.test_rt_trips`\n",
    "WHERE date BETWEEN '2022-05-01' AND '2022-05-31'\n",
    ")\n",
    "\n",
    "SELECT *,\n",
    "FROM rt_trips\n"
   ]
  },
  {
   "cell_type": "code",
   "execution_count": null,
   "id": "5679ab23-e5a5-4038-9f54-e3f37d512b0f",
   "metadata": {},
   "outputs": [],
   "source": []
  },
  {
   "cell_type": "code",
   "execution_count": null,
   "id": "3cfb2e1a-66bd-49a9-86c4-da888173c4e6",
   "metadata": {},
   "outputs": [],
   "source": []
  },
  {
   "cell_type": "code",
   "execution_count": null,
   "id": "3eaa2f2a-e9b3-49d4-9cbe-22fc0737637f",
   "metadata": {},
   "outputs": [],
   "source": []
  },
  {
   "cell_type": "code",
   "execution_count": null,
   "id": "3a319d48-7cf0-4efd-97e9-e7e29ec85265",
   "metadata": {},
   "outputs": [],
   "source": []
  },
  {
   "cell_type": "code",
   "execution_count": null,
   "id": "2c6ab2dc-8ca0-4322-a6e9-751013da52a7",
   "metadata": {},
   "outputs": [],
   "source": []
  },
  {
   "cell_type": "code",
   "execution_count": null,
   "id": "b57ca4f8-3049-4681-bcac-e9d6a6cbd617",
   "metadata": {},
   "outputs": [],
   "source": []
  },
  {
   "cell_type": "code",
   "execution_count": null,
   "id": "144f3d3b-3edb-4ceb-99b0-94c040c8407f",
   "metadata": {},
   "outputs": [],
   "source": []
  },
  {
   "cell_type": "code",
   "execution_count": null,
   "id": "4cfc4911-a6b4-4f80-a82f-105d4dcb63fb",
   "metadata": {},
   "outputs": [],
   "source": []
  },
  {
   "cell_type": "code",
   "execution_count": null,
   "id": "1f7968f5-31df-436c-9328-6aa2ba0bdc13",
   "metadata": {},
   "outputs": [],
   "source": []
  },
  {
   "cell_type": "code",
   "execution_count": null,
   "id": "d8b48559-83d2-4cfe-969f-85cbfa7bcdb3",
   "metadata": {},
   "outputs": [],
   "source": []
  },
  {
   "cell_type": "code",
   "execution_count": null,
   "id": "bbdc4bd7-1408-425c-b339-2268e42db6ab",
   "metadata": {},
   "outputs": [],
   "source": []
  },
  {
   "cell_type": "code",
   "execution_count": null,
   "id": "f6f205db-c7b7-466a-a0d4-fbe8a0c922ca",
   "metadata": {},
   "outputs": [],
   "source": []
  },
  {
   "cell_type": "code",
   "execution_count": null,
   "id": "64c12acc-e724-42f1-856c-b9ce442945b4",
   "metadata": {},
   "outputs": [],
   "source": []
  },
  {
   "cell_type": "code",
   "execution_count": null,
   "id": "256189ff-1f35-4d3c-ab6b-69456a0e68dc",
   "metadata": {},
   "outputs": [],
   "source": []
  },
  {
   "cell_type": "code",
   "execution_count": null,
   "id": "57fbf4e6-0fd4-47f9-a8eb-d0e39b26c61a",
   "metadata": {},
   "outputs": [],
   "source": []
  },
  {
   "cell_type": "code",
   "execution_count": null,
   "id": "47c8c89b-bea8-456a-983f-5f1d700ab04f",
   "metadata": {},
   "outputs": [],
   "source": []
  },
  {
   "cell_type": "code",
   "execution_count": null,
   "id": "5d38187b-b525-4afd-b8e0-2d9547388a88",
   "metadata": {},
   "outputs": [],
   "source": []
  },
  {
   "cell_type": "code",
   "execution_count": null,
   "id": "389d2400-b7c5-446c-8d8c-839964f44f95",
   "metadata": {},
   "outputs": [],
   "source": []
  },
  {
   "cell_type": "code",
   "execution_count": null,
   "id": "40e10851-379c-453f-8fb9-f38fc4c49161",
   "metadata": {},
   "outputs": [],
   "source": []
  },
  {
   "cell_type": "code",
   "execution_count": null,
   "id": "5f4c6eee-bd14-4c6d-81cc-1cd4d9b03dfe",
   "metadata": {},
   "outputs": [],
   "source": []
  },
  {
   "cell_type": "code",
   "execution_count": null,
   "id": "cbbbf0c3-69b5-437f-b690-c5face386697",
   "metadata": {},
   "outputs": [],
   "source": []
  },
  {
   "cell_type": "code",
   "execution_count": null,
   "id": "9d456d99-94ed-42a9-8f71-0d483f4a87e6",
   "metadata": {},
   "outputs": [],
   "source": []
  },
  {
   "cell_type": "code",
   "execution_count": null,
   "id": "9812e667-272d-4a19-a264-9ccbf80fcff2",
   "metadata": {},
   "outputs": [],
   "source": []
  },
  {
   "cell_type": "code",
   "execution_count": null,
   "id": "9a7f7550-e549-4967-8ef0-69e93b20deca",
   "metadata": {},
   "outputs": [],
   "source": []
  },
  {
   "cell_type": "code",
   "execution_count": null,
   "id": "f4894ea9-f987-41ed-99f5-0ef1dbdb42a0",
   "metadata": {},
   "outputs": [],
   "source": []
  },
  {
   "cell_type": "code",
   "execution_count": null,
   "id": "d44f5a58-e1ec-4b59-bb85-136d7d67d956",
   "metadata": {},
   "outputs": [],
   "source": []
  },
  {
   "cell_type": "code",
   "execution_count": null,
   "id": "16db8fc9-d70b-43cb-a8f3-71f6f72400a2",
   "metadata": {},
   "outputs": [],
   "source": []
  }
 ],
 "metadata": {
  "kernelspec": {
   "display_name": "Python 3 (ipykernel)",
   "language": "python",
   "name": "python3"
  },
  "language_info": {
   "codemirror_mode": {
    "name": "ipython",
    "version": 3
   },
   "file_extension": ".py",
   "mimetype": "text/x-python",
   "name": "python",
   "nbconvert_exporter": "python",
   "pygments_lexer": "ipython3",
   "version": "3.10.4"
  },
  "widgets": {
   "application/vnd.jupyter.widget-state+json": {
    "state": {},
    "version_major": 2,
    "version_minor": 0
   }
  }
 },
 "nbformat": 4,
 "nbformat_minor": 5
}
