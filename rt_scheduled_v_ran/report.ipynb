{
 "cells": [
  {
   "cell_type": "markdown",
   "id": "fd4516a5-6a64-4ff4-a037-a51dc06027ab",
   "metadata": {},
   "source": [
    "# {agency_name} Vehicle Position Data Available for Scheduled Data"
   ]
  },
  {
   "cell_type": "markdown",
   "id": "4ac0270d-08ae-443a-beb0-e7000179fbf7",
   "metadata": {},
   "source": [
    "An analysis of {agency_name} measuring how much RealTime GTFS Vehicle Positions data is available from their GTFS Scheduled data. This analysis compares Scheduled and Vehicle Position data for each day by routes, aggregating the number of present trips. Note: trip_updates data is a pending addition to the data to account for any missing trips. This measure does not aim to rate an agency's reliability, rather measure GTFS feed publication. (text subject to change)"
   ]
  },
  {
   "cell_type": "code",
   "execution_count": 1,
   "id": "84cbcb9a-ed64-4262-915a-d899b3a56d0a",
   "metadata": {},
   "outputs": [],
   "source": [
    "%%capture\n",
    "\n",
    "import utils\n",
    "import shared_utils\n",
    "from dla_utils import _dla_utils as dla_utils\n",
    "from shared_utils import styleguide, altair_utils, portfolio_utils\n",
    "\n",
    "from siuba import *\n",
    "import pandas as pd\n",
    "\n",
    "from IPython.display import display, Markdown, HTML\n",
    "\n",
    "import altair as alt\n"
   ]
  },
  {
   "cell_type": "code",
   "execution_count": 2,
   "id": "72d2bc4c-a7e3-4223-b708-1166877d6200",
   "metadata": {},
   "outputs": [],
   "source": [
    "#agency is defined as the single operator (a unique calitp_itp_id) used to subset the data"
   ]
  },
  {
   "cell_type": "code",
   "execution_count": 3,
   "id": "c0219c74-fcd2-49f2-b5c2-e14ea9368356",
   "metadata": {
    "tags": [
     "parameter"
    ]
   },
   "outputs": [],
   "source": [
    "#parameter cell\n",
    "calitp_id = 300"
   ]
  },
  {
   "cell_type": "code",
   "execution_count": 4,
   "id": "1fbcc81b-6de1-49a3-b03f-3a23296b5d03",
   "metadata": {},
   "outputs": [],
   "source": [
    "rt_sched = utils.read_data()\n"
   ]
  },
  {
   "cell_type": "code",
   "execution_count": 5,
   "id": "e1af3c46-8c26-4c44-b9ce-c021df9a187c",
   "metadata": {},
   "outputs": [],
   "source": [
    "rt_sched['calitp_deleted_at'] = pd.to_datetime(rt_sched['calitp_deleted_at'])\n"
   ]
  },
  {
   "cell_type": "code",
   "execution_count": 6,
   "id": "0aec0ad8-ab1f-4566-8c02-f6b779ee635f",
   "metadata": {},
   "outputs": [],
   "source": [
    "cats_day = ['Monday', 'Tuesday', 'Wednesday', 'Thursday', 'Friday', 'Saturday', 'Sunday']\n",
    "cats_month = ['January', 'February', 'March', 'April', 'May', 'June', 'July', 'August', 'September', 'October', 'November', 'December']"
   ]
  },
  {
   "cell_type": "code",
   "execution_count": 7,
   "id": "35e6f8e8-9bb0-4e4d-a5f0-157e794310c0",
   "metadata": {},
   "outputs": [],
   "source": [
    "## for now filtering down these columns so we do not have the bad \n",
    "## moving to utils in the read_data()\n",
    "\n",
    "# rt_sched = rt_sched[((rt_sched[\"calitp_itp_id\"]==290) & (rt_sched[\"calitp_url_number\"]==1)) | ((rt_sched[\"calitp_itp_id\"]==300))]"
   ]
  },
  {
   "cell_type": "code",
   "execution_count": 8,
   "id": "f356aff2-a461-4f90-9a50-3aafeaf5209f",
   "metadata": {},
   "outputs": [],
   "source": [
    "#getting df with daily pct \n",
    "rt_sched_date = utils.agg_by_date(rt_sched, 'num_sched', 'num_vp')"
   ]
  },
  {
   "cell_type": "code",
   "execution_count": 9,
   "id": "cfd84a69-57c5-4a16-a642-0f4706f7924e",
   "metadata": {},
   "outputs": [],
   "source": [
    "agency = rt_sched>>filter(_.calitp_itp_id == calitp_id)"
   ]
  },
  {
   "cell_type": "code",
   "execution_count": 10,
   "id": "c9f9fd7f-505d-4dd1-95c5-a29cc709b79b",
   "metadata": {},
   "outputs": [],
   "source": [
    "#getting df with daily pct for single agency\n",
    "agency_date = utils.agg_by_date(agency, 'num_sched', 'num_vp')"
   ]
  },
  {
   "cell_type": "code",
   "execution_count": 11,
   "id": "0e2c6000-e2f8-4802-901c-722e82ce5a7f",
   "metadata": {},
   "outputs": [
    {
     "data": {
      "text/html": [
       "<strong>Big Blue Bus Monthly Average Percent Scheduled Trips vs. Vehicle Position </strong>"
      ],
      "text/plain": [
       "<IPython.core.display.HTML object>"
      ]
     },
     "metadata": {},
     "output_type": "display_data"
    }
   ],
   "source": [
    "display(HTML(f\"<strong>{(agency.iloc[0]['agency_name'])} \"\n",
    "             f\"Monthly Average Percent Scheduled Trips vs. Vehicle Position </strong>\"))"
   ]
  },
  {
   "cell_type": "code",
   "execution_count": 12,
   "id": "542289ba-5488-4b7c-ad9c-77e7ccf082ea",
   "metadata": {},
   "outputs": [
    {
     "data": {
      "text/html": [
       "<style type=\"text/css\">\n",
       "#T_f0ef5 th {\n",
       "  text-align: center;\n",
       "}\n",
       "#T_f0ef5_row0_col0, #T_f0ef5_row0_col1, #T_f0ef5_row1_col0, #T_f0ef5_row1_col1 {\n",
       "  text-align: center;\n",
       "}\n",
       "</style>\n",
       "<table id=\"T_f0ef5\">\n",
       "  <thead>\n",
       "    <tr>\n",
       "      <th id=\"T_f0ef5_level0_col0\" class=\"col_heading level0 col0\" >Month</th>\n",
       "      <th id=\"T_f0ef5_level0_col1\" class=\"col_heading level0 col1\" >Average Percent</th>\n",
       "    </tr>\n",
       "  </thead>\n",
       "  <tbody>\n",
       "    <tr>\n",
       "      <td id=\"T_f0ef5_row0_col0\" class=\"data row0 col0\" >May</td>\n",
       "      <td id=\"T_f0ef5_row0_col1\" class=\"data row0 col1\" >82.88%</td>\n",
       "    </tr>\n",
       "    <tr>\n",
       "      <td id=\"T_f0ef5_row1_col0\" class=\"data row1 col0\" >June</td>\n",
       "      <td id=\"T_f0ef5_row1_col1\" class=\"data row1 col1\" >84.64%</td>\n",
       "    </tr>\n",
       "  </tbody>\n",
       "</table>\n"
      ],
      "text/plain": [
       "<IPython.core.display.HTML object>"
      ]
     },
     "metadata": {},
     "output_type": "display_data"
    }
   ],
   "source": [
    "agency_month = (utils.get_agg_pct(agency, groupings = ['month'], sum_sched = 'num_sched', sum_vp = 'num_vp'))\n",
    "agency_month['average_percent'] = agency_month['avg'].astype(float).map(\"{:.2%}\".format)\n",
    "display(HTML(dla_utils.pretify_tables(agency_month>>select(_.month, _.average_percent))))"
   ]
  },
  {
   "cell_type": "code",
   "execution_count": null,
   "id": "5b7ce7f6-52df-4fc0-9bbb-b53de4a64ad3",
   "metadata": {},
   "outputs": [],
   "source": []
  },
  {
   "cell_type": "code",
   "execution_count": 13,
   "id": "4e3d88f4-94ff-4aad-a07a-ab84b5746780",
   "metadata": {
    "tags": []
   },
   "outputs": [],
   "source": [
    "avg_route = (utils.get_agg_pct(agency, groupings = ['route_short_name'], sum_sched = 'num_sched', sum_vp = 'num_vp'))"
   ]
  },
  {
   "cell_type": "code",
   "execution_count": 14,
   "id": "d276d9e1-d9da-4c33-b24b-22a36cb902a1",
   "metadata": {
    "tags": []
   },
   "outputs": [],
   "source": [
    "avg_route['avg_pct'] = avg_route['avg'].astype(float).map(\"{:.2%}\".format)\n",
    "avg_route = avg_route.rename(columns={'route_short_name':'Route Short Name','avg_pct':'Route Average Percent with VP Trip Data'})"
   ]
  },
  {
   "cell_type": "code",
   "execution_count": 15,
   "id": "2ed23d01-24a2-4aff-b29a-2c52584e2c44",
   "metadata": {},
   "outputs": [
    {
     "data": {
      "text/html": [
       "Out of the <strong>19 routes operating</strong>, there are <strong>9 routes</strong> with over 90% of vehicle position data for scheduled trips"
      ],
      "text/plain": [
       "<IPython.core.display.HTML object>"
      ]
     },
     "metadata": {},
     "output_type": "display_data"
    }
   ],
   "source": [
    "display(HTML(f\"Out of the <strong>{len(avg_route)} routes operating</strong>, there are \"\n",
    "             f\"<strong>{len(avg_route>>arrange(_.avg)>>filter(_.avg>=.90))} routes</strong> \"\n",
    "             f\"with over 90% of vehicle position data for scheduled trips\"))"
   ]
  },
  {
   "cell_type": "code",
   "execution_count": 16,
   "id": "85c08f43-198c-4eb0-99f2-7598c57f2bf7",
   "metadata": {},
   "outputs": [
    {
     "data": {
      "text/html": [
       "<style type=\"text/css\">\n",
       "#T_e23ab th {\n",
       "  text-align: center;\n",
       "}\n",
       "#T_e23ab_row0_col0, #T_e23ab_row0_col1, #T_e23ab_row1_col0, #T_e23ab_row1_col1, #T_e23ab_row2_col0, #T_e23ab_row2_col1, #T_e23ab_row3_col0, #T_e23ab_row3_col1, #T_e23ab_row4_col0, #T_e23ab_row4_col1, #T_e23ab_row5_col0, #T_e23ab_row5_col1, #T_e23ab_row6_col0, #T_e23ab_row6_col1, #T_e23ab_row7_col0, #T_e23ab_row7_col1, #T_e23ab_row8_col0, #T_e23ab_row8_col1, #T_e23ab_row9_col0, #T_e23ab_row9_col1, #T_e23ab_row10_col0, #T_e23ab_row10_col1, #T_e23ab_row11_col0, #T_e23ab_row11_col1, #T_e23ab_row12_col0, #T_e23ab_row12_col1, #T_e23ab_row13_col0, #T_e23ab_row13_col1, #T_e23ab_row14_col0, #T_e23ab_row14_col1, #T_e23ab_row15_col0, #T_e23ab_row15_col1, #T_e23ab_row16_col0, #T_e23ab_row16_col1, #T_e23ab_row17_col0, #T_e23ab_row17_col1, #T_e23ab_row18_col0, #T_e23ab_row18_col1 {\n",
       "  text-align: center;\n",
       "}\n",
       "</style>\n",
       "<table id=\"T_e23ab\">\n",
       "  <thead>\n",
       "    <tr>\n",
       "      <th id=\"T_e23ab_level0_col0\" class=\"col_heading level0 col0\" >Route Short Name</th>\n",
       "      <th id=\"T_e23ab_level0_col1\" class=\"col_heading level0 col1\" >Route Average Percent With Vp Trip Data</th>\n",
       "    </tr>\n",
       "  </thead>\n",
       "  <tbody>\n",
       "    <tr>\n",
       "      <td id=\"T_e23ab_row0_col0\" class=\"data row0 col0\" >1</td>\n",
       "      <td id=\"T_e23ab_row0_col1\" class=\"data row0 col1\" >86.09%</td>\n",
       "    </tr>\n",
       "    <tr>\n",
       "      <td id=\"T_e23ab_row1_col0\" class=\"data row1 col0\" >3</td>\n",
       "      <td id=\"T_e23ab_row1_col1\" class=\"data row1 col1\" >83.75%</td>\n",
       "    </tr>\n",
       "    <tr>\n",
       "      <td id=\"T_e23ab_row2_col0\" class=\"data row2 col0\" >7</td>\n",
       "      <td id=\"T_e23ab_row2_col1\" class=\"data row2 col1\" >84.36%</td>\n",
       "    </tr>\n",
       "    <tr>\n",
       "      <td id=\"T_e23ab_row3_col0\" class=\"data row3 col0\" >9</td>\n",
       "      <td id=\"T_e23ab_row3_col1\" class=\"data row3 col1\" >87.09%</td>\n",
       "    </tr>\n",
       "    <tr>\n",
       "      <td id=\"T_e23ab_row4_col0\" class=\"data row4 col0\" >R12</td>\n",
       "      <td id=\"T_e23ab_row4_col1\" class=\"data row4 col1\" >86.92%</td>\n",
       "    </tr>\n",
       "    <tr>\n",
       "      <td id=\"T_e23ab_row5_col0\" class=\"data row5 col0\" >14</td>\n",
       "      <td id=\"T_e23ab_row5_col1\" class=\"data row5 col1\" >89.35%</td>\n",
       "    </tr>\n",
       "    <tr>\n",
       "      <td id=\"T_e23ab_row6_col0\" class=\"data row6 col0\" >18</td>\n",
       "      <td id=\"T_e23ab_row6_col1\" class=\"data row6 col1\" >88.72%</td>\n",
       "    </tr>\n",
       "    <tr>\n",
       "      <td id=\"T_e23ab_row7_col0\" class=\"data row7 col0\" >41</td>\n",
       "      <td id=\"T_e23ab_row7_col1\" class=\"data row7 col1\" >93.93%</td>\n",
       "    </tr>\n",
       "    <tr>\n",
       "      <td id=\"T_e23ab_row8_col0\" class=\"data row8 col0\" >44</td>\n",
       "      <td id=\"T_e23ab_row8_col1\" class=\"data row8 col1\" >0.00%</td>\n",
       "    </tr>\n",
       "    <tr>\n",
       "      <td id=\"T_e23ab_row9_col0\" class=\"data row9 col0\" >R10</td>\n",
       "      <td id=\"T_e23ab_row9_col1\" class=\"data row9 col1\" >90.70%</td>\n",
       "    </tr>\n",
       "    <tr>\n",
       "      <td id=\"T_e23ab_row10_col0\" class=\"data row10 col0\" >5</td>\n",
       "      <td id=\"T_e23ab_row10_col1\" class=\"data row10 col1\" >94.67%</td>\n",
       "    </tr>\n",
       "    <tr>\n",
       "      <td id=\"T_e23ab_row11_col0\" class=\"data row11 col0\" >15</td>\n",
       "      <td id=\"T_e23ab_row11_col1\" class=\"data row11 col1\" >94.14%</td>\n",
       "    </tr>\n",
       "    <tr>\n",
       "      <td id=\"T_e23ab_row12_col0\" class=\"data row12 col0\" >43</td>\n",
       "      <td id=\"T_e23ab_row12_col1\" class=\"data row12 col1\" >94.75%</td>\n",
       "    </tr>\n",
       "    <tr>\n",
       "      <td id=\"T_e23ab_row13_col0\" class=\"data row13 col0\" >17</td>\n",
       "      <td id=\"T_e23ab_row13_col1\" class=\"data row13 col1\" >90.61%</td>\n",
       "    </tr>\n",
       "    <tr>\n",
       "      <td id=\"T_e23ab_row14_col0\" class=\"data row14 col0\" >R3</td>\n",
       "      <td id=\"T_e23ab_row14_col1\" class=\"data row14 col1\" >94.66%</td>\n",
       "    </tr>\n",
       "    <tr>\n",
       "      <td id=\"T_e23ab_row15_col0\" class=\"data row15 col0\" >16</td>\n",
       "      <td id=\"T_e23ab_row15_col1\" class=\"data row15 col1\" >94.96%</td>\n",
       "    </tr>\n",
       "    <tr>\n",
       "      <td id=\"T_e23ab_row16_col0\" class=\"data row16 col0\" >8</td>\n",
       "      <td id=\"T_e23ab_row16_col1\" class=\"data row16 col1\" >84.73%</td>\n",
       "    </tr>\n",
       "    <tr>\n",
       "      <td id=\"T_e23ab_row17_col0\" class=\"data row17 col0\" >2</td>\n",
       "      <td id=\"T_e23ab_row17_col1\" class=\"data row17 col1\" >84.13%</td>\n",
       "    </tr>\n",
       "    <tr>\n",
       "      <td id=\"T_e23ab_row18_col0\" class=\"data row18 col0\" >R7</td>\n",
       "      <td id=\"T_e23ab_row18_col1\" class=\"data row18 col1\" >91.37%</td>\n",
       "    </tr>\n",
       "  </tbody>\n",
       "</table>\n"
      ],
      "text/plain": [
       "<IPython.core.display.HTML object>"
      ]
     },
     "metadata": {},
     "output_type": "display_data"
    }
   ],
   "source": [
    "display(HTML(dla_utils.pretify_tables(avg_route>>select(_['Route Short Name'],_['Route Average Percent with VP Trip Data']))))"
   ]
  },
  {
   "cell_type": "code",
   "execution_count": null,
   "id": "e4d1b71f-0ded-44b0-94bc-f5617dac3460",
   "metadata": {},
   "outputs": [],
   "source": []
  },
  {
   "cell_type": "code",
   "execution_count": null,
   "id": "baf959c2-7299-467f-b340-6d5e1d533a39",
   "metadata": {},
   "outputs": [],
   "source": []
  },
  {
   "cell_type": "code",
   "execution_count": 17,
   "id": "1322d58c-bd71-401e-92af-37da25d9a0d9",
   "metadata": {},
   "outputs": [
    {
     "data": {
      "text/html": [
       "<h2>Agency Performance</h2>"
      ],
      "text/plain": [
       "<IPython.core.display.HTML object>"
      ]
     },
     "metadata": {},
     "output_type": "display_data"
    }
   ],
   "source": [
    "display(HTML(\"<h2>Agency Performance</h2>\"))"
   ]
  },
  {
   "cell_type": "code",
   "execution_count": 18,
   "id": "7087872f-1090-4ad2-b000-dc27985f9256",
   "metadata": {},
   "outputs": [],
   "source": [
    "agency_avg = (utils.get_agg_pct(agency, groupings = ['agency_name'], sum_sched = 'num_sched', sum_vp = 'num_vp'))\n",
    "overall_avg =((rt_sched >>summarize(tot_sched =_.num_sched.sum(), tot_vp = _.num_vp.sum())) >> mutate(avg = _.tot_vp/_.tot_sched))"
   ]
  },
  {
   "cell_type": "code",
   "execution_count": 19,
   "id": "e29a89a1-bf22-4c13-8d09-f4a025210036",
   "metadata": {},
   "outputs": [
    {
     "data": {
      "text/html": [
       "Compared to the total operator average of <strong>78.39%</strong>, Big Blue Bus has a total average of <strong>83.75%</strong> for vehicle position data for scheduled trips"
      ],
      "text/plain": [
       "<IPython.core.display.HTML object>"
      ]
     },
     "metadata": {},
     "output_type": "display_data"
    }
   ],
   "source": [
    "(display(HTML(f'Compared to the total operator average of <strong>{(\"{:.2%}\".format(overall_avg.iloc[0][\"avg\"]))}</strong>, '\n",
    "            f'{(agency.iloc[0][\"agency_name\"])} has a total average of '\n",
    "            f'<strong>{(\"{:.2%}\".format(agency_avg.iloc[0][\"avg\"]))}</strong> for vehicle position data for scheduled trips')))"
   ]
  },
  {
   "cell_type": "code",
   "execution_count": 20,
   "id": "a730e8d8-9d7a-4935-adc5-9daa7198b61e",
   "metadata": {},
   "outputs": [
    {
     "data": {
      "text/html": [
       "<strong>Big Blue Bus Average Compared to Overall Average</strong>"
      ],
      "text/plain": [
       "<IPython.core.display.HTML object>"
      ]
     },
     "metadata": {},
     "output_type": "display_data"
    },
    {
     "data": {
      "text/html": [
       "\n",
       "<div id=\"altair-viz-fc2cc2470609498fa73e5541b04549a0\"></div>\n",
       "<script type=\"text/javascript\">\n",
       "  var VEGA_DEBUG = (typeof VEGA_DEBUG == \"undefined\") ? {} : VEGA_DEBUG;\n",
       "  (function(spec, embedOpt){\n",
       "    let outputDiv = document.currentScript.previousElementSibling;\n",
       "    if (outputDiv.id !== \"altair-viz-fc2cc2470609498fa73e5541b04549a0\") {\n",
       "      outputDiv = document.getElementById(\"altair-viz-fc2cc2470609498fa73e5541b04549a0\");\n",
       "    }\n",
       "    const paths = {\n",
       "      \"vega\": \"https://cdn.jsdelivr.net/npm//vega@5?noext\",\n",
       "      \"vega-lib\": \"https://cdn.jsdelivr.net/npm//vega-lib?noext\",\n",
       "      \"vega-lite\": \"https://cdn.jsdelivr.net/npm//vega-lite@4.17.0?noext\",\n",
       "      \"vega-embed\": \"https://cdn.jsdelivr.net/npm//vega-embed@6?noext\",\n",
       "    };\n",
       "\n",
       "    function maybeLoadScript(lib, version) {\n",
       "      var key = `${lib.replace(\"-\", \"\")}_version`;\n",
       "      return (VEGA_DEBUG[key] == version) ?\n",
       "        Promise.resolve(paths[lib]) :\n",
       "        new Promise(function(resolve, reject) {\n",
       "          var s = document.createElement('script');\n",
       "          document.getElementsByTagName(\"head\")[0].appendChild(s);\n",
       "          s.async = true;\n",
       "          s.onload = () => {\n",
       "            VEGA_DEBUG[key] = version;\n",
       "            return resolve(paths[lib]);\n",
       "          };\n",
       "          s.onerror = () => reject(`Error loading script: ${paths[lib]}`);\n",
       "          s.src = paths[lib];\n",
       "        });\n",
       "    }\n",
       "\n",
       "    function showError(err) {\n",
       "      outputDiv.innerHTML = `<div class=\"error\" style=\"color:red;\">${err}</div>`;\n",
       "      throw err;\n",
       "    }\n",
       "\n",
       "    function displayChart(vegaEmbed) {\n",
       "      vegaEmbed(outputDiv, spec, embedOpt)\n",
       "        .catch(err => showError(`Javascript Error: ${err.message}<br>This usually means there's a typo in your chart specification. See the javascript console for the full traceback.`));\n",
       "    }\n",
       "\n",
       "    if(typeof define === \"function\" && define.amd) {\n",
       "      requirejs.config({paths});\n",
       "      require([\"vega-embed\"], displayChart, err => showError(`Error loading script: ${err.message}`));\n",
       "    } else {\n",
       "      maybeLoadScript(\"vega\", \"5\")\n",
       "        .then(() => maybeLoadScript(\"vega-lite\", \"4.17.0\"))\n",
       "        .then(() => maybeLoadScript(\"vega-embed\", \"6\"))\n",
       "        .catch(showError)\n",
       "        .then(() => displayChart(vegaEmbed));\n",
       "    }\n",
       "  })({\"config\": {\"view\": {\"continuousWidth\": 400, \"continuousHeight\": 300}}, \"data\": {\"name\": \"data-82f65f5644bf4905620469f7f64dea61\"}, \"mark\": \"trail\", \"encoding\": {\"color\": {\"field\": \"Averages\", \"type\": \"nominal\"}, \"size\": {\"field\": \"Percent with Vehicle Position Data\", \"type\": \"quantitative\"}, \"tooltip\": [{\"field\": \"service_date\", \"title\": \"Service Date\", \"type\": \"temporal\"}, {\"field\": \"Percent with Vehicle Position Data\", \"title\": \"Percent With Vehicle Position Data\", \"type\": \"quantitative\"}], \"x\": {\"field\": \"service_date\", \"sort\": \"x\", \"title\": \"Service Date\", \"type\": \"temporal\"}, \"y\": {\"axis\": {\"format\": \"%\"}, \"field\": \"Percent with Vehicle Position Data\", \"title\": \"Percent With Vehicle Position Data\", \"type\": \"quantitative\"}}, \"width\": 550, \"$schema\": \"https://vega.github.io/schema/vega-lite/v4.17.0.json\", \"datasets\": {\"data-82f65f5644bf4905620469f7f64dea61\": [{\"service_date\": \"2022-05-01T00:00:00\", \"Averages\": \"Total Average\", \"Percent with Vehicle Position Data\": 0.6905537459283387}, {\"service_date\": \"2022-05-02T00:00:00\", \"Averages\": \"Total Average\", \"Percent with Vehicle Position Data\": 0.7117786027674654}, {\"service_date\": \"2022-05-03T00:00:00\", \"Averages\": \"Total Average\", \"Percent with Vehicle Position Data\": 0.9291258859264259}, {\"service_date\": \"2022-05-04T00:00:00\", \"Averages\": \"Total Average\", \"Percent with Vehicle Position Data\": 0.46583641871423764}, {\"service_date\": \"2022-05-05T00:00:00\", \"Averages\": \"Total Average\", \"Percent with Vehicle Position Data\": 0.8071597433299561}, {\"service_date\": \"2022-05-06T00:00:00\", \"Averages\": \"Total Average\", \"Percent with Vehicle Position Data\": 0.9244245963586396}, {\"service_date\": \"2022-05-07T00:00:00\", \"Averages\": \"Total Average\", \"Percent with Vehicle Position Data\": 0.69375}, {\"service_date\": \"2022-05-08T00:00:00\", \"Averages\": \"Total Average\", \"Percent with Vehicle Position Data\": 0.6638436482084691}, {\"service_date\": \"2022-05-09T00:00:00\", \"Averages\": \"Total Average\", \"Percent with Vehicle Position Data\": 0.6965912926088423}, {\"service_date\": \"2022-05-10T00:00:00\", \"Averages\": \"Total Average\", \"Percent with Vehicle Position Data\": 0.9267634154573068}, {\"service_date\": \"2022-05-11T00:00:00\", \"Averages\": \"Total Average\", \"Percent with Vehicle Position Data\": 0.9279703803433188}, {\"service_date\": \"2022-05-12T00:00:00\", \"Averages\": \"Total Average\", \"Percent with Vehicle Position Data\": 0.9351570415400202}, {\"service_date\": \"2022-05-13T00:00:00\", \"Averages\": \"Total Average\", \"Percent with Vehicle Position Data\": 0.934386808656819}, {\"service_date\": \"2022-05-14T00:00:00\", \"Averages\": \"Total Average\", \"Percent with Vehicle Position Data\": 0.6954545454545454}, {\"service_date\": \"2022-05-15T00:00:00\", \"Averages\": \"Total Average\", \"Percent with Vehicle Position Data\": 0.6912052117263844}, {\"service_date\": \"2022-05-16T00:00:00\", \"Averages\": \"Total Average\", \"Percent with Vehicle Position Data\": 0.6965912926088423}, {\"service_date\": \"2022-05-17T00:00:00\", \"Averages\": \"Total Average\", \"Percent with Vehicle Position Data\": 0.9325008437394533}, {\"service_date\": \"2022-05-18T00:00:00\", \"Averages\": \"Total Average\", \"Percent with Vehicle Position Data\": 0.9336923594749242}, {\"service_date\": \"2022-05-19T00:00:00\", \"Averages\": \"Total Average\", \"Percent with Vehicle Position Data\": 0.9324552516041877}, {\"service_date\": \"2022-05-20T00:00:00\", \"Averages\": \"Total Average\", \"Percent with Vehicle Position Data\": 0.9484713156990725}, {\"service_date\": \"2022-05-21T00:00:00\", \"Averages\": \"Total Average\", \"Percent with Vehicle Position Data\": 0.7113636363636363}, {\"service_date\": \"2022-05-22T00:00:00\", \"Averages\": \"Total Average\", \"Percent with Vehicle Position Data\": 0.7022801302931596}, {\"service_date\": \"2022-05-23T00:00:00\", \"Averages\": \"Total Average\", \"Percent with Vehicle Position Data\": 0.7117786027674654}, {\"service_date\": \"2022-05-24T00:00:00\", \"Averages\": \"Total Average\", \"Percent with Vehicle Position Data\": 0.9179885251434357}, {\"service_date\": \"2022-05-25T00:00:00\", \"Averages\": \"Total Average\", \"Percent with Vehicle Position Data\": 0.9141703130259172}, {\"service_date\": \"2022-05-26T00:00:00\", \"Averages\": \"Total Average\", \"Percent with Vehicle Position Data\": 0.9304289091523134}, {\"service_date\": \"2022-05-27T00:00:00\", \"Averages\": \"Total Average\", \"Percent with Vehicle Position Data\": 0.9272227943700653}, {\"service_date\": \"2022-05-28T00:00:00\", \"Averages\": \"Total Average\", \"Percent with Vehicle Position Data\": 0.7}, {\"service_date\": \"2022-05-29T00:00:00\", \"Averages\": \"Total Average\", \"Percent with Vehicle Position Data\": 0.7172638436482085}, {\"service_date\": \"2022-05-30T00:00:00\", \"Averages\": \"Total Average\", \"Percent with Vehicle Position Data\": 0.9596091205211726}, {\"service_date\": \"2022-05-31T00:00:00\", \"Averages\": \"Total Average\", \"Percent with Vehicle Position Data\": 0.7158285521430983}, {\"service_date\": \"2022-06-01T00:00:00\", \"Averages\": \"Total Average\", \"Percent with Vehicle Position Data\": 0.9340289464826658}, {\"service_date\": \"2022-06-02T00:00:00\", \"Averages\": \"Total Average\", \"Percent with Vehicle Position Data\": 0.9294157379263762}, {\"service_date\": \"2022-06-03T00:00:00\", \"Averages\": \"Total Average\", \"Percent with Vehicle Position Data\": 0.907526155923051}, {\"service_date\": \"2022-06-04T00:00:00\", \"Averages\": \"Total Average\", \"Percent with Vehicle Position Data\": 0.7017045454545454}, {\"service_date\": \"2022-06-05T00:00:00\", \"Averages\": \"Total Average\", \"Percent with Vehicle Position Data\": 0.7159609120521173}, {\"service_date\": \"2022-06-06T00:00:00\", \"Averages\": \"Total Average\", \"Percent with Vehicle Position Data\": 0.7057036787040162}, {\"service_date\": \"2022-06-07T00:00:00\", \"Averages\": \"Total Average\", \"Percent with Vehicle Position Data\": 0.9179885251434357}, {\"service_date\": \"2022-06-08T00:00:00\", \"Averages\": \"Total Average\", \"Percent with Vehicle Position Data\": 0.6671154493436553}, {\"service_date\": \"2022-06-09T00:00:00\", \"Averages\": \"Total Average\", \"Percent with Vehicle Position Data\": 0.7316661034133153}, {\"service_date\": \"2022-06-10T00:00:00\", \"Averages\": \"Total Average\", \"Percent with Vehicle Position Data\": 0.7233676975945017}, {\"service_date\": \"2022-06-11T00:00:00\", \"Averages\": \"Total Average\", \"Percent with Vehicle Position Data\": 0.5181818181818182}, {\"service_date\": \"2022-06-12T00:00:00\", \"Averages\": \"Total Average\", \"Percent with Vehicle Position Data\": 0.532899022801303}, {\"service_date\": \"2022-06-13T00:00:00\", \"Averages\": \"Total Average\", \"Percent with Vehicle Position Data\": 0.5746621621621621}, {\"service_date\": \"2022-06-14T00:00:00\", \"Averages\": \"Total Average\", \"Percent with Vehicle Position Data\": 0.7287162162162162}, {\"service_date\": \"2022-06-15T00:00:00\", \"Averages\": \"Total Average\", \"Percent with Vehicle Position Data\": 0.7601256983240223}, {\"service_date\": \"2022-06-16T00:00:00\", \"Averages\": \"Total Average\", \"Percent with Vehicle Position Data\": 0.7690960056061668}, {\"service_date\": \"2022-06-17T00:00:00\", \"Averages\": \"Total Average\", \"Percent with Vehicle Position Data\": 0.7762605042016807}, {\"service_date\": \"2022-06-18T00:00:00\", \"Averages\": \"Total Average\", \"Percent with Vehicle Position Data\": 0.5454545454545454}, {\"service_date\": \"2022-06-19T00:00:00\", \"Averages\": \"Total Average\", \"Percent with Vehicle Position Data\": 0.495754408883083}, {\"service_date\": \"2022-06-20T00:00:00\", \"Averages\": \"Total Average\", \"Percent with Vehicle Position Data\": 0.5307664627563872}, {\"service_date\": \"2022-06-21T00:00:00\", \"Averages\": \"Total Average\", \"Percent with Vehicle Position Data\": 0.705649514213746}, {\"service_date\": \"2022-06-22T00:00:00\", \"Averages\": \"Total Average\", \"Percent with Vehicle Position Data\": 0.7006117308384311}, {\"service_date\": \"2022-06-23T00:00:00\", \"Averages\": \"Total Average\", \"Percent with Vehicle Position Data\": 0.7049298308744153}, {\"service_date\": \"2022-06-24T00:00:00\", \"Averages\": \"Total Average\", \"Percent with Vehicle Position Data\": 0.6563512054695934}, {\"service_date\": \"2022-06-25T00:00:00\", \"Averages\": \"Total Average\", \"Percent with Vehicle Position Data\": 0.6896355353075171}, {\"service_date\": \"2022-06-26T00:00:00\", \"Averages\": \"Total Average\", \"Percent with Vehicle Position Data\": 0.6825604180274331}, {\"service_date\": \"2022-06-27T00:00:00\", \"Averages\": \"Total Average\", \"Percent with Vehicle Position Data\": 0.7016912558474271}, {\"service_date\": \"2022-06-28T00:00:00\", \"Averages\": \"Total Average\", \"Percent with Vehicle Position Data\": 0.9535804246131702}, {\"service_date\": \"2022-06-29T00:00:00\", \"Averages\": \"Total Average\", \"Percent with Vehicle Position Data\": 0.9596977329974811}, {\"service_date\": \"2022-06-30T00:00:00\", \"Averages\": \"Total Average\", \"Percent with Vehicle Position Data\": 0.9593378913278158}, {\"service_date\": \"2022-05-01T00:00:00\", \"Averages\": \"Big Blue Bus Average\", \"Percent with Vehicle Position Data\": 0.6831168831168831}, {\"service_date\": \"2022-05-02T00:00:00\", \"Averages\": \"Big Blue Bus Average\", \"Percent with Vehicle Position Data\": 0.7031662269129287}, {\"service_date\": \"2022-05-03T00:00:00\", \"Averages\": \"Big Blue Bus Average\", \"Percent with Vehicle Position Data\": 0.9003957783641161}, {\"service_date\": \"2022-05-04T00:00:00\", \"Averages\": \"Big Blue Bus Average\", \"Percent with Vehicle Position Data\": 0.9109498680738787}, {\"service_date\": \"2022-05-05T00:00:00\", \"Averages\": \"Big Blue Bus Average\", \"Percent with Vehicle Position Data\": 0.8858839050131926}, {\"service_date\": \"2022-05-06T00:00:00\", \"Averages\": \"Big Blue Bus Average\", \"Percent with Vehicle Position Data\": 0.8845628415300546}, {\"service_date\": \"2022-05-07T00:00:00\", \"Averages\": \"Big Blue Bus Average\", \"Percent with Vehicle Position Data\": 0.6942528735632184}, {\"service_date\": \"2022-05-08T00:00:00\", \"Averages\": \"Big Blue Bus Average\", \"Percent with Vehicle Position Data\": 0.6506493506493507}, {\"service_date\": \"2022-05-09T00:00:00\", \"Averages\": \"Big Blue Bus Average\", \"Percent with Vehicle Position Data\": 0.6945910290237467}, {\"service_date\": \"2022-05-10T00:00:00\", \"Averages\": \"Big Blue Bus Average\", \"Percent with Vehicle Position Data\": 0.9102902374670184}, {\"service_date\": \"2022-05-11T00:00:00\", \"Averages\": \"Big Blue Bus Average\", \"Percent with Vehicle Position Data\": 0.9109498680738787}, {\"service_date\": \"2022-05-12T00:00:00\", \"Averages\": \"Big Blue Bus Average\", \"Percent with Vehicle Position Data\": 0.9102902374670184}, {\"service_date\": \"2022-05-13T00:00:00\", \"Averages\": \"Big Blue Bus Average\", \"Percent with Vehicle Position Data\": 0.9173497267759563}, {\"service_date\": \"2022-05-14T00:00:00\", \"Averages\": \"Big Blue Bus Average\", \"Percent with Vehicle Position Data\": 0.6896551724137931}, {\"service_date\": \"2022-05-15T00:00:00\", \"Averages\": \"Big Blue Bus Average\", \"Percent with Vehicle Position Data\": 0.6831168831168831}, {\"service_date\": \"2022-05-16T00:00:00\", \"Averages\": \"Big Blue Bus Average\", \"Percent with Vehicle Position Data\": 0.6781002638522428}, {\"service_date\": \"2022-05-17T00:00:00\", \"Averages\": \"Big Blue Bus Average\", \"Percent with Vehicle Position Data\": 0.9056728232189973}, {\"service_date\": \"2022-05-18T00:00:00\", \"Averages\": \"Big Blue Bus Average\", \"Percent with Vehicle Position Data\": 0.908311345646438}, {\"service_date\": \"2022-05-19T00:00:00\", \"Averages\": \"Big Blue Bus Average\", \"Percent with Vehicle Position Data\": 0.9017150395778364}, {\"service_date\": \"2022-05-20T00:00:00\", \"Averages\": \"Big Blue Bus Average\", \"Percent with Vehicle Position Data\": 0.9330601092896175}, {\"service_date\": \"2022-05-21T00:00:00\", \"Averages\": \"Big Blue Bus Average\", \"Percent with Vehicle Position Data\": 0.7298850574712644}, {\"service_date\": \"2022-05-22T00:00:00\", \"Averages\": \"Big Blue Bus Average\", \"Percent with Vehicle Position Data\": 0.7051948051948052}, {\"service_date\": \"2022-05-23T00:00:00\", \"Averages\": \"Big Blue Bus Average\", \"Percent with Vehicle Position Data\": 0.716358839050132}, {\"service_date\": \"2022-05-24T00:00:00\", \"Averages\": \"Big Blue Bus Average\", \"Percent with Vehicle Position Data\": 0.9036939313984169}, {\"service_date\": \"2022-05-25T00:00:00\", \"Averages\": \"Big Blue Bus Average\", \"Percent with Vehicle Position Data\": 0.8891820580474934}, {\"service_date\": \"2022-05-26T00:00:00\", \"Averages\": \"Big Blue Bus Average\", \"Percent with Vehicle Position Data\": 0.9195250659630607}, {\"service_date\": \"2022-05-27T00:00:00\", \"Averages\": \"Big Blue Bus Average\", \"Percent with Vehicle Position Data\": 0.9004092769440655}, {\"service_date\": \"2022-05-28T00:00:00\", \"Averages\": \"Big Blue Bus Average\", \"Percent with Vehicle Position Data\": 0.7034482758620689}, {\"service_date\": \"2022-05-29T00:00:00\", \"Averages\": \"Big Blue Bus Average\", \"Percent with Vehicle Position Data\": 0.7220779220779221}, {\"service_date\": \"2022-05-30T00:00:00\", \"Averages\": \"Big Blue Bus Average\", \"Percent with Vehicle Position Data\": 0.9623376623376624}, {\"service_date\": \"2022-05-31T00:00:00\", \"Averages\": \"Big Blue Bus Average\", \"Percent with Vehicle Position Data\": 0.7038258575197889}, {\"service_date\": \"2022-06-01T00:00:00\", \"Averages\": \"Big Blue Bus Average\", \"Percent with Vehicle Position Data\": 0.9010554089709762}, {\"service_date\": \"2022-06-02T00:00:00\", \"Averages\": \"Big Blue Bus Average\", \"Percent with Vehicle Position Data\": 0.8970976253298153}, {\"service_date\": \"2022-06-03T00:00:00\", \"Averages\": \"Big Blue Bus Average\", \"Percent with Vehicle Position Data\": 0.8535620052770448}, {\"service_date\": \"2022-06-04T00:00:00\", \"Averages\": \"Big Blue Bus Average\", \"Percent with Vehicle Position Data\": 0.7011494252873564}, {\"service_date\": \"2022-06-05T00:00:00\", \"Averages\": \"Big Blue Bus Average\", \"Percent with Vehicle Position Data\": 0.7194805194805195}, {\"service_date\": \"2022-06-06T00:00:00\", \"Averages\": \"Big Blue Bus Average\", \"Percent with Vehicle Position Data\": 0.6886543535620053}, {\"service_date\": \"2022-06-07T00:00:00\", \"Averages\": \"Big Blue Bus Average\", \"Percent with Vehicle Position Data\": 0.8825857519788918}, {\"service_date\": \"2022-06-08T00:00:00\", \"Averages\": \"Big Blue Bus Average\", \"Percent with Vehicle Position Data\": 0.8720316622691293}, {\"service_date\": \"2022-06-09T00:00:00\", \"Averages\": \"Big Blue Bus Average\", \"Percent with Vehicle Position Data\": 0.8830911492734478}, {\"service_date\": \"2022-06-10T00:00:00\", \"Averages\": \"Big Blue Bus Average\", \"Percent with Vehicle Position Data\": 0.8838004101161996}, {\"service_date\": \"2022-06-11T00:00:00\", \"Averages\": \"Big Blue Bus Average\", \"Percent with Vehicle Position Data\": 0.671264367816092}, {\"service_date\": \"2022-06-12T00:00:00\", \"Averages\": \"Big Blue Bus Average\", \"Percent with Vehicle Position Data\": 0.6922077922077922}, {\"service_date\": \"2022-06-13T00:00:00\", \"Averages\": \"Big Blue Bus Average\", \"Percent with Vehicle Position Data\": 0.7005948446794448}, {\"service_date\": \"2022-06-14T00:00:00\", \"Averages\": \"Big Blue Bus Average\", \"Percent with Vehicle Position Data\": 0.8830138797091871}, {\"service_date\": \"2022-06-15T00:00:00\", \"Averages\": \"Big Blue Bus Average\", \"Percent with Vehicle Position Data\": 0.9517388218594748}, {\"service_date\": \"2022-06-16T00:00:00\", \"Averages\": \"Big Blue Bus Average\", \"Percent with Vehicle Position Data\": 0.9808374733853797}, {\"service_date\": \"2022-06-17T00:00:00\", \"Averages\": \"Big Blue Bus Average\", \"Percent with Vehicle Position Data\": 0.99361249112846}, {\"service_date\": \"2022-06-18T00:00:00\", \"Averages\": \"Big Blue Bus Average\", \"Percent with Vehicle Position Data\": 0.7275862068965517}, {\"service_date\": \"2022-06-19T00:00:00\", \"Averages\": \"Big Blue Bus Average\", \"Percent with Vehicle Position Data\": 0.6805194805194805}, {\"service_date\": \"2022-06-20T00:00:00\", \"Averages\": \"Big Blue Bus Average\", \"Percent with Vehicle Position Data\": 0.7371663244353183}, {\"service_date\": \"2022-06-21T00:00:00\", \"Averages\": \"Big Blue Bus Average\", \"Percent with Vehicle Position Data\": 0.945242984257358}, {\"service_date\": \"2022-06-22T00:00:00\", \"Averages\": \"Big Blue Bus Average\", \"Percent with Vehicle Position Data\": 0.9418206707734429}, {\"service_date\": \"2022-06-23T00:00:00\", \"Averages\": \"Big Blue Bus Average\", \"Percent with Vehicle Position Data\": 0.947296372347707}, {\"service_date\": \"2022-06-24T00:00:00\", \"Averages\": \"Big Blue Bus Average\", \"Percent with Vehicle Position Data\": 0.9034907597535934}, {\"service_date\": \"2022-06-25T00:00:00\", \"Averages\": \"Big Blue Bus Average\", \"Percent with Vehicle Position Data\": 0.667816091954023}, {\"service_date\": \"2022-06-26T00:00:00\", \"Averages\": \"Big Blue Bus Average\", \"Percent with Vehicle Position Data\": 0.6467532467532467}, {\"service_date\": \"2022-06-27T00:00:00\", \"Averages\": \"Big Blue Bus Average\", \"Percent with Vehicle Position Data\": 0.6933607118412046}, {\"service_date\": \"2022-06-28T00:00:00\", \"Averages\": \"Big Blue Bus Average\", \"Percent with Vehicle Position Data\": 0.9301848049281314}, {\"service_date\": \"2022-06-29T00:00:00\", \"Averages\": \"Big Blue Bus Average\", \"Percent with Vehicle Position Data\": 0.9356605065023956}, {\"service_date\": \"2022-06-30T00:00:00\", \"Averages\": \"Big Blue Bus Average\", \"Percent with Vehicle Position Data\": 0.9404517453798767}]}}, {\"mode\": \"vega-lite\"});\n",
       "</script>"
      ],
      "text/plain": [
       "alt.Chart(...)"
      ]
     },
     "execution_count": 20,
     "metadata": {},
     "output_type": "execute_result"
    }
   ],
   "source": [
    "display(HTML(f\"<strong>{(agency.iloc[0]['agency_name'])} Average Compared to Overall Average</strong>\"))\n",
    "\n",
    "(utils.total_average_with_1op_chart(rt_sched, 300)).mark_trail().encode(size='Percent with Vehicle Position Data:Q')"
   ]
  },
  {
   "cell_type": "code",
   "execution_count": null,
   "id": "9d054ae8-e842-497c-a394-7f7765441031",
   "metadata": {},
   "outputs": [],
   "source": []
  },
  {
   "cell_type": "code",
   "execution_count": 21,
   "id": "0dcd1e98-819d-4f04-acc7-759d73d27a35",
   "metadata": {},
   "outputs": [],
   "source": [
    "agency_day_long = agency_date.copy()\n",
    "agency_day_long = agency_day_long.rename(columns={ 'total_num_sched':'Total Number Scheduled Trips',\n",
    "                                            'total_num_vp':'Total Number Vehicle Position Trips'})\n",
    "agency_day_long =  (agency_day_long>>select(_.agency_name,\n",
    "                            _.calitp_itp_id,\n",
    "                            _.service_date,\n",
    "                         _['Total Number Scheduled Trips'],\n",
    "                         _['Total Number Vehicle Position Trips']\n",
    "                        ) \n",
    "             >> gather('measure',\n",
    "                       'value',\n",
    "                       _['Total Number Scheduled Trips'],\n",
    "                       _['Total Number Vehicle Position Trips']\n",
    "                      )\n",
    "            )"
   ]
  },
  {
   "cell_type": "code",
   "execution_count": 22,
   "id": "1a2076bc-9211-44d5-882c-5adcd0d6d93a",
   "metadata": {},
   "outputs": [
    {
     "data": {
      "text/html": [
       "<strong>Number of Big Blue Bus Scheduled and Vehicle Postion Trips</strong>"
      ],
      "text/plain": [
       "<IPython.core.display.HTML object>"
      ]
     },
     "metadata": {},
     "output_type": "display_data"
    },
    {
     "data": {
      "text/html": [
       "\n",
       "<div id=\"altair-viz-4853fab2b26b49f9bf75e69576bf124b\"></div>\n",
       "<script type=\"text/javascript\">\n",
       "  var VEGA_DEBUG = (typeof VEGA_DEBUG == \"undefined\") ? {} : VEGA_DEBUG;\n",
       "  (function(spec, embedOpt){\n",
       "    let outputDiv = document.currentScript.previousElementSibling;\n",
       "    if (outputDiv.id !== \"altair-viz-4853fab2b26b49f9bf75e69576bf124b\") {\n",
       "      outputDiv = document.getElementById(\"altair-viz-4853fab2b26b49f9bf75e69576bf124b\");\n",
       "    }\n",
       "    const paths = {\n",
       "      \"vega\": \"https://cdn.jsdelivr.net/npm//vega@5?noext\",\n",
       "      \"vega-lib\": \"https://cdn.jsdelivr.net/npm//vega-lib?noext\",\n",
       "      \"vega-lite\": \"https://cdn.jsdelivr.net/npm//vega-lite@4.17.0?noext\",\n",
       "      \"vega-embed\": \"https://cdn.jsdelivr.net/npm//vega-embed@6?noext\",\n",
       "    };\n",
       "\n",
       "    function maybeLoadScript(lib, version) {\n",
       "      var key = `${lib.replace(\"-\", \"\")}_version`;\n",
       "      return (VEGA_DEBUG[key] == version) ?\n",
       "        Promise.resolve(paths[lib]) :\n",
       "        new Promise(function(resolve, reject) {\n",
       "          var s = document.createElement('script');\n",
       "          document.getElementsByTagName(\"head\")[0].appendChild(s);\n",
       "          s.async = true;\n",
       "          s.onload = () => {\n",
       "            VEGA_DEBUG[key] = version;\n",
       "            return resolve(paths[lib]);\n",
       "          };\n",
       "          s.onerror = () => reject(`Error loading script: ${paths[lib]}`);\n",
       "          s.src = paths[lib];\n",
       "        });\n",
       "    }\n",
       "\n",
       "    function showError(err) {\n",
       "      outputDiv.innerHTML = `<div class=\"error\" style=\"color:red;\">${err}</div>`;\n",
       "      throw err;\n",
       "    }\n",
       "\n",
       "    function displayChart(vegaEmbed) {\n",
       "      vegaEmbed(outputDiv, spec, embedOpt)\n",
       "        .catch(err => showError(`Javascript Error: ${err.message}<br>This usually means there's a typo in your chart specification. See the javascript console for the full traceback.`));\n",
       "    }\n",
       "\n",
       "    if(typeof define === \"function\" && define.amd) {\n",
       "      requirejs.config({paths});\n",
       "      require([\"vega-embed\"], displayChart, err => showError(`Error loading script: ${err.message}`));\n",
       "    } else {\n",
       "      maybeLoadScript(\"vega\", \"5\")\n",
       "        .then(() => maybeLoadScript(\"vega-lite\", \"4.17.0\"))\n",
       "        .then(() => maybeLoadScript(\"vega-embed\", \"6\"))\n",
       "        .catch(showError)\n",
       "        .then(() => displayChart(vegaEmbed));\n",
       "    }\n",
       "  })({\"config\": {\"view\": {\"continuousWidth\": 400, \"continuousHeight\": 300}}, \"data\": {\"name\": \"data-e2aa6b5ff73549a96bfc886f82f47916\"}, \"mark\": {\"type\": \"bar\", \"size\": 8}, \"encoding\": {\"color\": {\"field\": \"measure\", \"type\": \"nominal\"}, \"tooltip\": [{\"field\": \"service_date\", \"title\": \"Service Date\", \"type\": \"temporal\"}, {\"field\": \"value\", \"title\": \"Value\", \"type\": \"quantitative\"}], \"x\": {\"field\": \"service_date\", \"sort\": \"x\", \"title\": \"Service Date\", \"type\": \"temporal\"}, \"y\": {\"field\": \"value\", \"stack\": null, \"type\": \"quantitative\"}}, \"width\": 800, \"$schema\": \"https://vega.github.io/schema/vega-lite/v4.17.0.json\", \"datasets\": {\"data-e2aa6b5ff73549a96bfc886f82f47916\": [{\"agency_name\": \"Big Blue Bus\", \"calitp_itp_id\": 300, \"service_date\": \"2022-05-01T00:00:00\", \"measure\": \"Total Number Scheduled Trips\", \"value\": 770}, {\"agency_name\": \"Big Blue Bus\", \"calitp_itp_id\": 300, \"service_date\": \"2022-05-02T00:00:00\", \"measure\": \"Total Number Scheduled Trips\", \"value\": 1516}, {\"agency_name\": \"Big Blue Bus\", \"calitp_itp_id\": 300, \"service_date\": \"2022-05-03T00:00:00\", \"measure\": \"Total Number Scheduled Trips\", \"value\": 1516}, {\"agency_name\": \"Big Blue Bus\", \"calitp_itp_id\": 300, \"service_date\": \"2022-05-04T00:00:00\", \"measure\": \"Total Number Scheduled Trips\", \"value\": 1516}, {\"agency_name\": \"Big Blue Bus\", \"calitp_itp_id\": 300, \"service_date\": \"2022-05-05T00:00:00\", \"measure\": \"Total Number Scheduled Trips\", \"value\": 1516}, {\"agency_name\": \"Big Blue Bus\", \"calitp_itp_id\": 300, \"service_date\": \"2022-05-06T00:00:00\", \"measure\": \"Total Number Scheduled Trips\", \"value\": 1464}, {\"agency_name\": \"Big Blue Bus\", \"calitp_itp_id\": 300, \"service_date\": \"2022-05-07T00:00:00\", \"measure\": \"Total Number Scheduled Trips\", \"value\": 870}, {\"agency_name\": \"Big Blue Bus\", \"calitp_itp_id\": 300, \"service_date\": \"2022-05-08T00:00:00\", \"measure\": \"Total Number Scheduled Trips\", \"value\": 770}, {\"agency_name\": \"Big Blue Bus\", \"calitp_itp_id\": 300, \"service_date\": \"2022-05-09T00:00:00\", \"measure\": \"Total Number Scheduled Trips\", \"value\": 1516}, {\"agency_name\": \"Big Blue Bus\", \"calitp_itp_id\": 300, \"service_date\": \"2022-05-10T00:00:00\", \"measure\": \"Total Number Scheduled Trips\", \"value\": 1516}, {\"agency_name\": \"Big Blue Bus\", \"calitp_itp_id\": 300, \"service_date\": \"2022-05-11T00:00:00\", \"measure\": \"Total Number Scheduled Trips\", \"value\": 1516}, {\"agency_name\": \"Big Blue Bus\", \"calitp_itp_id\": 300, \"service_date\": \"2022-05-12T00:00:00\", \"measure\": \"Total Number Scheduled Trips\", \"value\": 1516}, {\"agency_name\": \"Big Blue Bus\", \"calitp_itp_id\": 300, \"service_date\": \"2022-05-13T00:00:00\", \"measure\": \"Total Number Scheduled Trips\", \"value\": 1464}, {\"agency_name\": \"Big Blue Bus\", \"calitp_itp_id\": 300, \"service_date\": \"2022-05-14T00:00:00\", \"measure\": \"Total Number Scheduled Trips\", \"value\": 870}, {\"agency_name\": \"Big Blue Bus\", \"calitp_itp_id\": 300, \"service_date\": \"2022-05-15T00:00:00\", \"measure\": \"Total Number Scheduled Trips\", \"value\": 770}, {\"agency_name\": \"Big Blue Bus\", \"calitp_itp_id\": 300, \"service_date\": \"2022-05-16T00:00:00\", \"measure\": \"Total Number Scheduled Trips\", \"value\": 1516}, {\"agency_name\": \"Big Blue Bus\", \"calitp_itp_id\": 300, \"service_date\": \"2022-05-17T00:00:00\", \"measure\": \"Total Number Scheduled Trips\", \"value\": 1516}, {\"agency_name\": \"Big Blue Bus\", \"calitp_itp_id\": 300, \"service_date\": \"2022-05-18T00:00:00\", \"measure\": \"Total Number Scheduled Trips\", \"value\": 1516}, {\"agency_name\": \"Big Blue Bus\", \"calitp_itp_id\": 300, \"service_date\": \"2022-05-19T00:00:00\", \"measure\": \"Total Number Scheduled Trips\", \"value\": 1516}, {\"agency_name\": \"Big Blue Bus\", \"calitp_itp_id\": 300, \"service_date\": \"2022-05-20T00:00:00\", \"measure\": \"Total Number Scheduled Trips\", \"value\": 1464}, {\"agency_name\": \"Big Blue Bus\", \"calitp_itp_id\": 300, \"service_date\": \"2022-05-21T00:00:00\", \"measure\": \"Total Number Scheduled Trips\", \"value\": 870}, {\"agency_name\": \"Big Blue Bus\", \"calitp_itp_id\": 300, \"service_date\": \"2022-05-22T00:00:00\", \"measure\": \"Total Number Scheduled Trips\", \"value\": 770}, {\"agency_name\": \"Big Blue Bus\", \"calitp_itp_id\": 300, \"service_date\": \"2022-05-23T00:00:00\", \"measure\": \"Total Number Scheduled Trips\", \"value\": 1516}, {\"agency_name\": \"Big Blue Bus\", \"calitp_itp_id\": 300, \"service_date\": \"2022-05-24T00:00:00\", \"measure\": \"Total Number Scheduled Trips\", \"value\": 1516}, {\"agency_name\": \"Big Blue Bus\", \"calitp_itp_id\": 300, \"service_date\": \"2022-05-25T00:00:00\", \"measure\": \"Total Number Scheduled Trips\", \"value\": 1516}, {\"agency_name\": \"Big Blue Bus\", \"calitp_itp_id\": 300, \"service_date\": \"2022-05-26T00:00:00\", \"measure\": \"Total Number Scheduled Trips\", \"value\": 1516}, {\"agency_name\": \"Big Blue Bus\", \"calitp_itp_id\": 300, \"service_date\": \"2022-05-27T00:00:00\", \"measure\": \"Total Number Scheduled Trips\", \"value\": 1466}, {\"agency_name\": \"Big Blue Bus\", \"calitp_itp_id\": 300, \"service_date\": \"2022-05-28T00:00:00\", \"measure\": \"Total Number Scheduled Trips\", \"value\": 870}, {\"agency_name\": \"Big Blue Bus\", \"calitp_itp_id\": 300, \"service_date\": \"2022-05-29T00:00:00\", \"measure\": \"Total Number Scheduled Trips\", \"value\": 770}, {\"agency_name\": \"Big Blue Bus\", \"calitp_itp_id\": 300, \"service_date\": \"2022-05-30T00:00:00\", \"measure\": \"Total Number Scheduled Trips\", \"value\": 770}, {\"agency_name\": \"Big Blue Bus\", \"calitp_itp_id\": 300, \"service_date\": \"2022-05-31T00:00:00\", \"measure\": \"Total Number Scheduled Trips\", \"value\": 1516}, {\"agency_name\": \"Big Blue Bus\", \"calitp_itp_id\": 300, \"service_date\": \"2022-06-01T00:00:00\", \"measure\": \"Total Number Scheduled Trips\", \"value\": 1516}, {\"agency_name\": \"Big Blue Bus\", \"calitp_itp_id\": 300, \"service_date\": \"2022-06-02T00:00:00\", \"measure\": \"Total Number Scheduled Trips\", \"value\": 1516}, {\"agency_name\": \"Big Blue Bus\", \"calitp_itp_id\": 300, \"service_date\": \"2022-06-03T00:00:00\", \"measure\": \"Total Number Scheduled Trips\", \"value\": 1516}, {\"agency_name\": \"Big Blue Bus\", \"calitp_itp_id\": 300, \"service_date\": \"2022-06-04T00:00:00\", \"measure\": \"Total Number Scheduled Trips\", \"value\": 870}, {\"agency_name\": \"Big Blue Bus\", \"calitp_itp_id\": 300, \"service_date\": \"2022-06-05T00:00:00\", \"measure\": \"Total Number Scheduled Trips\", \"value\": 770}, {\"agency_name\": \"Big Blue Bus\", \"calitp_itp_id\": 300, \"service_date\": \"2022-06-06T00:00:00\", \"measure\": \"Total Number Scheduled Trips\", \"value\": 1516}, {\"agency_name\": \"Big Blue Bus\", \"calitp_itp_id\": 300, \"service_date\": \"2022-06-07T00:00:00\", \"measure\": \"Total Number Scheduled Trips\", \"value\": 1516}, {\"agency_name\": \"Big Blue Bus\", \"calitp_itp_id\": 300, \"service_date\": \"2022-06-08T00:00:00\", \"measure\": \"Total Number Scheduled Trips\", \"value\": 1516}, {\"agency_name\": \"Big Blue Bus\", \"calitp_itp_id\": 300, \"service_date\": \"2022-06-09T00:00:00\", \"measure\": \"Total Number Scheduled Trips\", \"value\": 1514}, {\"agency_name\": \"Big Blue Bus\", \"calitp_itp_id\": 300, \"service_date\": \"2022-06-10T00:00:00\", \"measure\": \"Total Number Scheduled Trips\", \"value\": 1463}, {\"agency_name\": \"Big Blue Bus\", \"calitp_itp_id\": 300, \"service_date\": \"2022-06-11T00:00:00\", \"measure\": \"Total Number Scheduled Trips\", \"value\": 870}, {\"agency_name\": \"Big Blue Bus\", \"calitp_itp_id\": 300, \"service_date\": \"2022-06-12T00:00:00\", \"measure\": \"Total Number Scheduled Trips\", \"value\": 770}, {\"agency_name\": \"Big Blue Bus\", \"calitp_itp_id\": 300, \"service_date\": \"2022-06-13T00:00:00\", \"measure\": \"Total Number Scheduled Trips\", \"value\": 1513}, {\"agency_name\": \"Big Blue Bus\", \"calitp_itp_id\": 300, \"service_date\": \"2022-06-14T00:00:00\", \"measure\": \"Total Number Scheduled Trips\", \"value\": 1513}, {\"agency_name\": \"Big Blue Bus\", \"calitp_itp_id\": 300, \"service_date\": \"2022-06-15T00:00:00\", \"measure\": \"Total Number Scheduled Trips\", \"value\": 1409}, {\"agency_name\": \"Big Blue Bus\", \"calitp_itp_id\": 300, \"service_date\": \"2022-06-16T00:00:00\", \"measure\": \"Total Number Scheduled Trips\", \"value\": 1409}, {\"agency_name\": \"Big Blue Bus\", \"calitp_itp_id\": 300, \"service_date\": \"2022-06-17T00:00:00\", \"measure\": \"Total Number Scheduled Trips\", \"value\": 1409}, {\"agency_name\": \"Big Blue Bus\", \"calitp_itp_id\": 300, \"service_date\": \"2022-06-18T00:00:00\", \"measure\": \"Total Number Scheduled Trips\", \"value\": 870}, {\"agency_name\": \"Big Blue Bus\", \"calitp_itp_id\": 300, \"service_date\": \"2022-06-19T00:00:00\", \"measure\": \"Total Number Scheduled Trips\", \"value\": 770}, {\"agency_name\": \"Big Blue Bus\", \"calitp_itp_id\": 300, \"service_date\": \"2022-06-20T00:00:00\", \"measure\": \"Total Number Scheduled Trips\", \"value\": 1461}, {\"agency_name\": \"Big Blue Bus\", \"calitp_itp_id\": 300, \"service_date\": \"2022-06-21T00:00:00\", \"measure\": \"Total Number Scheduled Trips\", \"value\": 1461}, {\"agency_name\": \"Big Blue Bus\", \"calitp_itp_id\": 300, \"service_date\": \"2022-06-22T00:00:00\", \"measure\": \"Total Number Scheduled Trips\", \"value\": 1461}, {\"agency_name\": \"Big Blue Bus\", \"calitp_itp_id\": 300, \"service_date\": \"2022-06-23T00:00:00\", \"measure\": \"Total Number Scheduled Trips\", \"value\": 1461}, {\"agency_name\": \"Big Blue Bus\", \"calitp_itp_id\": 300, \"service_date\": \"2022-06-24T00:00:00\", \"measure\": \"Total Number Scheduled Trips\", \"value\": 1461}, {\"agency_name\": \"Big Blue Bus\", \"calitp_itp_id\": 300, \"service_date\": \"2022-06-25T00:00:00\", \"measure\": \"Total Number Scheduled Trips\", \"value\": 870}, {\"agency_name\": \"Big Blue Bus\", \"calitp_itp_id\": 300, \"service_date\": \"2022-06-26T00:00:00\", \"measure\": \"Total Number Scheduled Trips\", \"value\": 770}, {\"agency_name\": \"Big Blue Bus\", \"calitp_itp_id\": 300, \"service_date\": \"2022-06-27T00:00:00\", \"measure\": \"Total Number Scheduled Trips\", \"value\": 1461}, {\"agency_name\": \"Big Blue Bus\", \"calitp_itp_id\": 300, \"service_date\": \"2022-06-28T00:00:00\", \"measure\": \"Total Number Scheduled Trips\", \"value\": 1461}, {\"agency_name\": \"Big Blue Bus\", \"calitp_itp_id\": 300, \"service_date\": \"2022-06-29T00:00:00\", \"measure\": \"Total Number Scheduled Trips\", \"value\": 1461}, {\"agency_name\": \"Big Blue Bus\", \"calitp_itp_id\": 300, \"service_date\": \"2022-06-30T00:00:00\", \"measure\": \"Total Number Scheduled Trips\", \"value\": 1461}, {\"agency_name\": \"Big Blue Bus\", \"calitp_itp_id\": 300, \"service_date\": \"2022-05-01T00:00:00\", \"measure\": \"Total Number Vehicle Position Trips\", \"value\": 526}, {\"agency_name\": \"Big Blue Bus\", \"calitp_itp_id\": 300, \"service_date\": \"2022-05-02T00:00:00\", \"measure\": \"Total Number Vehicle Position Trips\", \"value\": 1066}, {\"agency_name\": \"Big Blue Bus\", \"calitp_itp_id\": 300, \"service_date\": \"2022-05-03T00:00:00\", \"measure\": \"Total Number Vehicle Position Trips\", \"value\": 1365}, {\"agency_name\": \"Big Blue Bus\", \"calitp_itp_id\": 300, \"service_date\": \"2022-05-04T00:00:00\", \"measure\": \"Total Number Vehicle Position Trips\", \"value\": 1381}, {\"agency_name\": \"Big Blue Bus\", \"calitp_itp_id\": 300, \"service_date\": \"2022-05-05T00:00:00\", \"measure\": \"Total Number Vehicle Position Trips\", \"value\": 1343}, {\"agency_name\": \"Big Blue Bus\", \"calitp_itp_id\": 300, \"service_date\": \"2022-05-06T00:00:00\", \"measure\": \"Total Number Vehicle Position Trips\", \"value\": 1295}, {\"agency_name\": \"Big Blue Bus\", \"calitp_itp_id\": 300, \"service_date\": \"2022-05-07T00:00:00\", \"measure\": \"Total Number Vehicle Position Trips\", \"value\": 604}, {\"agency_name\": \"Big Blue Bus\", \"calitp_itp_id\": 300, \"service_date\": \"2022-05-08T00:00:00\", \"measure\": \"Total Number Vehicle Position Trips\", \"value\": 501}, {\"agency_name\": \"Big Blue Bus\", \"calitp_itp_id\": 300, \"service_date\": \"2022-05-09T00:00:00\", \"measure\": \"Total Number Vehicle Position Trips\", \"value\": 1053}, {\"agency_name\": \"Big Blue Bus\", \"calitp_itp_id\": 300, \"service_date\": \"2022-05-10T00:00:00\", \"measure\": \"Total Number Vehicle Position Trips\", \"value\": 1380}, {\"agency_name\": \"Big Blue Bus\", \"calitp_itp_id\": 300, \"service_date\": \"2022-05-11T00:00:00\", \"measure\": \"Total Number Vehicle Position Trips\", \"value\": 1381}, {\"agency_name\": \"Big Blue Bus\", \"calitp_itp_id\": 300, \"service_date\": \"2022-05-12T00:00:00\", \"measure\": \"Total Number Vehicle Position Trips\", \"value\": 1380}, {\"agency_name\": \"Big Blue Bus\", \"calitp_itp_id\": 300, \"service_date\": \"2022-05-13T00:00:00\", \"measure\": \"Total Number Vehicle Position Trips\", \"value\": 1343}, {\"agency_name\": \"Big Blue Bus\", \"calitp_itp_id\": 300, \"service_date\": \"2022-05-14T00:00:00\", \"measure\": \"Total Number Vehicle Position Trips\", \"value\": 600}, {\"agency_name\": \"Big Blue Bus\", \"calitp_itp_id\": 300, \"service_date\": \"2022-05-15T00:00:00\", \"measure\": \"Total Number Vehicle Position Trips\", \"value\": 526}, {\"agency_name\": \"Big Blue Bus\", \"calitp_itp_id\": 300, \"service_date\": \"2022-05-16T00:00:00\", \"measure\": \"Total Number Vehicle Position Trips\", \"value\": 1028}, {\"agency_name\": \"Big Blue Bus\", \"calitp_itp_id\": 300, \"service_date\": \"2022-05-17T00:00:00\", \"measure\": \"Total Number Vehicle Position Trips\", \"value\": 1373}, {\"agency_name\": \"Big Blue Bus\", \"calitp_itp_id\": 300, \"service_date\": \"2022-05-18T00:00:00\", \"measure\": \"Total Number Vehicle Position Trips\", \"value\": 1377}, {\"agency_name\": \"Big Blue Bus\", \"calitp_itp_id\": 300, \"service_date\": \"2022-05-19T00:00:00\", \"measure\": \"Total Number Vehicle Position Trips\", \"value\": 1367}, {\"agency_name\": \"Big Blue Bus\", \"calitp_itp_id\": 300, \"service_date\": \"2022-05-20T00:00:00\", \"measure\": \"Total Number Vehicle Position Trips\", \"value\": 1366}, {\"agency_name\": \"Big Blue Bus\", \"calitp_itp_id\": 300, \"service_date\": \"2022-05-21T00:00:00\", \"measure\": \"Total Number Vehicle Position Trips\", \"value\": 635}, {\"agency_name\": \"Big Blue Bus\", \"calitp_itp_id\": 300, \"service_date\": \"2022-05-22T00:00:00\", \"measure\": \"Total Number Vehicle Position Trips\", \"value\": 543}, {\"agency_name\": \"Big Blue Bus\", \"calitp_itp_id\": 300, \"service_date\": \"2022-05-23T00:00:00\", \"measure\": \"Total Number Vehicle Position Trips\", \"value\": 1086}, {\"agency_name\": \"Big Blue Bus\", \"calitp_itp_id\": 300, \"service_date\": \"2022-05-24T00:00:00\", \"measure\": \"Total Number Vehicle Position Trips\", \"value\": 1370}, {\"agency_name\": \"Big Blue Bus\", \"calitp_itp_id\": 300, \"service_date\": \"2022-05-25T00:00:00\", \"measure\": \"Total Number Vehicle Position Trips\", \"value\": 1348}, {\"agency_name\": \"Big Blue Bus\", \"calitp_itp_id\": 300, \"service_date\": \"2022-05-26T00:00:00\", \"measure\": \"Total Number Vehicle Position Trips\", \"value\": 1394}, {\"agency_name\": \"Big Blue Bus\", \"calitp_itp_id\": 300, \"service_date\": \"2022-05-27T00:00:00\", \"measure\": \"Total Number Vehicle Position Trips\", \"value\": 1320}, {\"agency_name\": \"Big Blue Bus\", \"calitp_itp_id\": 300, \"service_date\": \"2022-05-28T00:00:00\", \"measure\": \"Total Number Vehicle Position Trips\", \"value\": 612}, {\"agency_name\": \"Big Blue Bus\", \"calitp_itp_id\": 300, \"service_date\": \"2022-05-29T00:00:00\", \"measure\": \"Total Number Vehicle Position Trips\", \"value\": 556}, {\"agency_name\": \"Big Blue Bus\", \"calitp_itp_id\": 300, \"service_date\": \"2022-05-30T00:00:00\", \"measure\": \"Total Number Vehicle Position Trips\", \"value\": 741}, {\"agency_name\": \"Big Blue Bus\", \"calitp_itp_id\": 300, \"service_date\": \"2022-05-31T00:00:00\", \"measure\": \"Total Number Vehicle Position Trips\", \"value\": 1067}, {\"agency_name\": \"Big Blue Bus\", \"calitp_itp_id\": 300, \"service_date\": \"2022-06-01T00:00:00\", \"measure\": \"Total Number Vehicle Position Trips\", \"value\": 1366}, {\"agency_name\": \"Big Blue Bus\", \"calitp_itp_id\": 300, \"service_date\": \"2022-06-02T00:00:00\", \"measure\": \"Total Number Vehicle Position Trips\", \"value\": 1360}, {\"agency_name\": \"Big Blue Bus\", \"calitp_itp_id\": 300, \"service_date\": \"2022-06-03T00:00:00\", \"measure\": \"Total Number Vehicle Position Trips\", \"value\": 1294}, {\"agency_name\": \"Big Blue Bus\", \"calitp_itp_id\": 300, \"service_date\": \"2022-06-04T00:00:00\", \"measure\": \"Total Number Vehicle Position Trips\", \"value\": 610}, {\"agency_name\": \"Big Blue Bus\", \"calitp_itp_id\": 300, \"service_date\": \"2022-06-05T00:00:00\", \"measure\": \"Total Number Vehicle Position Trips\", \"value\": 554}, {\"agency_name\": \"Big Blue Bus\", \"calitp_itp_id\": 300, \"service_date\": \"2022-06-06T00:00:00\", \"measure\": \"Total Number Vehicle Position Trips\", \"value\": 1044}, {\"agency_name\": \"Big Blue Bus\", \"calitp_itp_id\": 300, \"service_date\": \"2022-06-07T00:00:00\", \"measure\": \"Total Number Vehicle Position Trips\", \"value\": 1338}, {\"agency_name\": \"Big Blue Bus\", \"calitp_itp_id\": 300, \"service_date\": \"2022-06-08T00:00:00\", \"measure\": \"Total Number Vehicle Position Trips\", \"value\": 1322}, {\"agency_name\": \"Big Blue Bus\", \"calitp_itp_id\": 300, \"service_date\": \"2022-06-09T00:00:00\", \"measure\": \"Total Number Vehicle Position Trips\", \"value\": 1337}, {\"agency_name\": \"Big Blue Bus\", \"calitp_itp_id\": 300, \"service_date\": \"2022-06-10T00:00:00\", \"measure\": \"Total Number Vehicle Position Trips\", \"value\": 1293}, {\"agency_name\": \"Big Blue Bus\", \"calitp_itp_id\": 300, \"service_date\": \"2022-06-11T00:00:00\", \"measure\": \"Total Number Vehicle Position Trips\", \"value\": 584}, {\"agency_name\": \"Big Blue Bus\", \"calitp_itp_id\": 300, \"service_date\": \"2022-06-12T00:00:00\", \"measure\": \"Total Number Vehicle Position Trips\", \"value\": 533}, {\"agency_name\": \"Big Blue Bus\", \"calitp_itp_id\": 300, \"service_date\": \"2022-06-13T00:00:00\", \"measure\": \"Total Number Vehicle Position Trips\", \"value\": 1060}, {\"agency_name\": \"Big Blue Bus\", \"calitp_itp_id\": 300, \"service_date\": \"2022-06-14T00:00:00\", \"measure\": \"Total Number Vehicle Position Trips\", \"value\": 1336}, {\"agency_name\": \"Big Blue Bus\", \"calitp_itp_id\": 300, \"service_date\": \"2022-06-15T00:00:00\", \"measure\": \"Total Number Vehicle Position Trips\", \"value\": 1341}, {\"agency_name\": \"Big Blue Bus\", \"calitp_itp_id\": 300, \"service_date\": \"2022-06-16T00:00:00\", \"measure\": \"Total Number Vehicle Position Trips\", \"value\": 1382}, {\"agency_name\": \"Big Blue Bus\", \"calitp_itp_id\": 300, \"service_date\": \"2022-06-17T00:00:00\", \"measure\": \"Total Number Vehicle Position Trips\", \"value\": 1400}, {\"agency_name\": \"Big Blue Bus\", \"calitp_itp_id\": 300, \"service_date\": \"2022-06-18T00:00:00\", \"measure\": \"Total Number Vehicle Position Trips\", \"value\": 633}, {\"agency_name\": \"Big Blue Bus\", \"calitp_itp_id\": 300, \"service_date\": \"2022-06-19T00:00:00\", \"measure\": \"Total Number Vehicle Position Trips\", \"value\": 524}, {\"agency_name\": \"Big Blue Bus\", \"calitp_itp_id\": 300, \"service_date\": \"2022-06-20T00:00:00\", \"measure\": \"Total Number Vehicle Position Trips\", \"value\": 1077}, {\"agency_name\": \"Big Blue Bus\", \"calitp_itp_id\": 300, \"service_date\": \"2022-06-21T00:00:00\", \"measure\": \"Total Number Vehicle Position Trips\", \"value\": 1381}, {\"agency_name\": \"Big Blue Bus\", \"calitp_itp_id\": 300, \"service_date\": \"2022-06-22T00:00:00\", \"measure\": \"Total Number Vehicle Position Trips\", \"value\": 1376}, {\"agency_name\": \"Big Blue Bus\", \"calitp_itp_id\": 300, \"service_date\": \"2022-06-23T00:00:00\", \"measure\": \"Total Number Vehicle Position Trips\", \"value\": 1384}, {\"agency_name\": \"Big Blue Bus\", \"calitp_itp_id\": 300, \"service_date\": \"2022-06-24T00:00:00\", \"measure\": \"Total Number Vehicle Position Trips\", \"value\": 1320}, {\"agency_name\": \"Big Blue Bus\", \"calitp_itp_id\": 300, \"service_date\": \"2022-06-25T00:00:00\", \"measure\": \"Total Number Vehicle Position Trips\", \"value\": 581}, {\"agency_name\": \"Big Blue Bus\", \"calitp_itp_id\": 300, \"service_date\": \"2022-06-26T00:00:00\", \"measure\": \"Total Number Vehicle Position Trips\", \"value\": 498}, {\"agency_name\": \"Big Blue Bus\", \"calitp_itp_id\": 300, \"service_date\": \"2022-06-27T00:00:00\", \"measure\": \"Total Number Vehicle Position Trips\", \"value\": 1013}, {\"agency_name\": \"Big Blue Bus\", \"calitp_itp_id\": 300, \"service_date\": \"2022-06-28T00:00:00\", \"measure\": \"Total Number Vehicle Position Trips\", \"value\": 1359}, {\"agency_name\": \"Big Blue Bus\", \"calitp_itp_id\": 300, \"service_date\": \"2022-06-29T00:00:00\", \"measure\": \"Total Number Vehicle Position Trips\", \"value\": 1367}, {\"agency_name\": \"Big Blue Bus\", \"calitp_itp_id\": 300, \"service_date\": \"2022-06-30T00:00:00\", \"measure\": \"Total Number Vehicle Position Trips\", \"value\": 1374}]}}, {\"mode\": \"vega-lite\"});\n",
       "</script>"
      ],
      "text/plain": [
       "alt.Chart(...)"
      ]
     },
     "execution_count": 22,
     "metadata": {},
     "output_type": "execute_result"
    }
   ],
   "source": [
    "display(HTML(f\"<strong>Number of {(agency.iloc[0]['agency_name'])} Scheduled and Vehicle Postion Trips</strong>\"))\n",
    "\n",
    "(utils.bar_chart_over_time((agency_day_long),\n",
    "                           'service_date','value','measure',',f', 'x', '')).encode(y=alt.Y('value', stack = None,)).properties(width=800)"
   ]
  },
  {
   "cell_type": "code",
   "execution_count": 90,
   "id": "286a3ed5-8a2b-475e-876e-14e81123c60a",
   "metadata": {},
   "outputs": [
    {
     "data": {
      "text/html": [
       "<strong>Big Blue Bus Percent of Scheduled Trips with RT Vehicle Position Data</strong>"
      ],
      "text/plain": [
       "<IPython.core.display.HTML object>"
      ]
     },
     "metadata": {},
     "output_type": "display_data"
    },
    {
     "data": {
      "text/markdown": [
       "<strong><span style='color:red'>Red Line </span></strong> represents  Big Blue Bus average"
      ],
      "text/plain": [
       "<IPython.core.display.Markdown object>"
      ]
     },
     "metadata": {},
     "output_type": "display_data"
    },
    {
     "data": {
      "text/html": [
       "\n",
       "<div id=\"altair-viz-da959eb880c44b16b3f8ef91395c5218\"></div>\n",
       "<script type=\"text/javascript\">\n",
       "  var VEGA_DEBUG = (typeof VEGA_DEBUG == \"undefined\") ? {} : VEGA_DEBUG;\n",
       "  (function(spec, embedOpt){\n",
       "    let outputDiv = document.currentScript.previousElementSibling;\n",
       "    if (outputDiv.id !== \"altair-viz-da959eb880c44b16b3f8ef91395c5218\") {\n",
       "      outputDiv = document.getElementById(\"altair-viz-da959eb880c44b16b3f8ef91395c5218\");\n",
       "    }\n",
       "    const paths = {\n",
       "      \"vega\": \"https://cdn.jsdelivr.net/npm//vega@5?noext\",\n",
       "      \"vega-lib\": \"https://cdn.jsdelivr.net/npm//vega-lib?noext\",\n",
       "      \"vega-lite\": \"https://cdn.jsdelivr.net/npm//vega-lite@4.17.0?noext\",\n",
       "      \"vega-embed\": \"https://cdn.jsdelivr.net/npm//vega-embed@6?noext\",\n",
       "    };\n",
       "\n",
       "    function maybeLoadScript(lib, version) {\n",
       "      var key = `${lib.replace(\"-\", \"\")}_version`;\n",
       "      return (VEGA_DEBUG[key] == version) ?\n",
       "        Promise.resolve(paths[lib]) :\n",
       "        new Promise(function(resolve, reject) {\n",
       "          var s = document.createElement('script');\n",
       "          document.getElementsByTagName(\"head\")[0].appendChild(s);\n",
       "          s.async = true;\n",
       "          s.onload = () => {\n",
       "            VEGA_DEBUG[key] = version;\n",
       "            return resolve(paths[lib]);\n",
       "          };\n",
       "          s.onerror = () => reject(`Error loading script: ${paths[lib]}`);\n",
       "          s.src = paths[lib];\n",
       "        });\n",
       "    }\n",
       "\n",
       "    function showError(err) {\n",
       "      outputDiv.innerHTML = `<div class=\"error\" style=\"color:red;\">${err}</div>`;\n",
       "      throw err;\n",
       "    }\n",
       "\n",
       "    function displayChart(vegaEmbed) {\n",
       "      vegaEmbed(outputDiv, spec, embedOpt)\n",
       "        .catch(err => showError(`Javascript Error: ${err.message}<br>This usually means there's a typo in your chart specification. See the javascript console for the full traceback.`));\n",
       "    }\n",
       "\n",
       "    if(typeof define === \"function\" && define.amd) {\n",
       "      requirejs.config({paths});\n",
       "      require([\"vega-embed\"], displayChart, err => showError(`Error loading script: ${err.message}`));\n",
       "    } else {\n",
       "      maybeLoadScript(\"vega\", \"5\")\n",
       "        .then(() => maybeLoadScript(\"vega-lite\", \"4.17.0\"))\n",
       "        .then(() => maybeLoadScript(\"vega-embed\", \"6\"))\n",
       "        .catch(showError)\n",
       "        .then(() => displayChart(vegaEmbed));\n",
       "    }\n",
       "  })({\"config\": {\"view\": {\"continuousWidth\": 400, \"continuousHeight\": 300}}, \"layer\": [{\"mark\": {\"type\": \"bar\", \"size\": 8}, \"encoding\": {\"color\": {\"field\": \"weekday\", \"type\": \"nominal\"}, \"tooltip\": [{\"field\": \"service_date\", \"title\": \"Service Date\", \"type\": \"temporal\"}, {\"field\": \"pct_w_vp\", \"title\": \"Pct W Vp\", \"type\": \"quantitative\"}], \"x\": {\"field\": \"service_date\", \"sort\": \"x\", \"title\": \"Service Date\", \"type\": \"temporal\"}, \"y\": {\"axis\": {\"format\": \"%\"}, \"field\": \"pct_w_vp\", \"title\": \"Percent of Scheduled Trips with Vehicle Postions\", \"type\": \"quantitative\"}}, \"width\": 800}, {\"mark\": {\"type\": \"rule\", \"color\": \"red\"}, \"encoding\": {\"y\": {\"aggregate\": \"mean\", \"axis\": {\"format\": \"%\"}, \"field\": \"pct_w_vp\", \"type\": \"quantitative\"}}}], \"data\": {\"name\": \"data-22af8eef9a09301db1e093e0d1c5e673\"}, \"$schema\": \"https://vega.github.io/schema/vega-lite/v4.17.0.json\", \"datasets\": {\"data-22af8eef9a09301db1e093e0d1c5e673\": [{\"calitp_itp_id\": 300, \"agency_name\": \"Big Blue Bus\", \"calitp_url_number\": 0, \"service_date\": \"2022-05-01T00:00:00\", \"weekday\": \"Sunday\", \"month\": \"May\", \"total_num_sched\": 770, \"total_num_vp\": 526, \"pct_w_vp\": 0.6831168831168831}, {\"calitp_itp_id\": 300, \"agency_name\": \"Big Blue Bus\", \"calitp_url_number\": 0, \"service_date\": \"2022-05-02T00:00:00\", \"weekday\": \"Monday\", \"month\": \"May\", \"total_num_sched\": 1516, \"total_num_vp\": 1066, \"pct_w_vp\": 0.7031662269129287}, {\"calitp_itp_id\": 300, \"agency_name\": \"Big Blue Bus\", \"calitp_url_number\": 0, \"service_date\": \"2022-05-03T00:00:00\", \"weekday\": \"Tuesday\", \"month\": \"May\", \"total_num_sched\": 1516, \"total_num_vp\": 1365, \"pct_w_vp\": 0.9003957783641161}, {\"calitp_itp_id\": 300, \"agency_name\": \"Big Blue Bus\", \"calitp_url_number\": 0, \"service_date\": \"2022-05-04T00:00:00\", \"weekday\": \"Wednesday\", \"month\": \"May\", \"total_num_sched\": 1516, \"total_num_vp\": 1381, \"pct_w_vp\": 0.9109498680738787}, {\"calitp_itp_id\": 300, \"agency_name\": \"Big Blue Bus\", \"calitp_url_number\": 0, \"service_date\": \"2022-05-05T00:00:00\", \"weekday\": \"Thursday\", \"month\": \"May\", \"total_num_sched\": 1516, \"total_num_vp\": 1343, \"pct_w_vp\": 0.8858839050131926}, {\"calitp_itp_id\": 300, \"agency_name\": \"Big Blue Bus\", \"calitp_url_number\": 0, \"service_date\": \"2022-05-06T00:00:00\", \"weekday\": \"Friday\", \"month\": \"May\", \"total_num_sched\": 1464, \"total_num_vp\": 1295, \"pct_w_vp\": 0.8845628415300546}, {\"calitp_itp_id\": 300, \"agency_name\": \"Big Blue Bus\", \"calitp_url_number\": 0, \"service_date\": \"2022-05-07T00:00:00\", \"weekday\": \"Saturday\", \"month\": \"May\", \"total_num_sched\": 870, \"total_num_vp\": 604, \"pct_w_vp\": 0.6942528735632184}, {\"calitp_itp_id\": 300, \"agency_name\": \"Big Blue Bus\", \"calitp_url_number\": 0, \"service_date\": \"2022-05-08T00:00:00\", \"weekday\": \"Sunday\", \"month\": \"May\", \"total_num_sched\": 770, \"total_num_vp\": 501, \"pct_w_vp\": 0.6506493506493507}, {\"calitp_itp_id\": 300, \"agency_name\": \"Big Blue Bus\", \"calitp_url_number\": 0, \"service_date\": \"2022-05-09T00:00:00\", \"weekday\": \"Monday\", \"month\": \"May\", \"total_num_sched\": 1516, \"total_num_vp\": 1053, \"pct_w_vp\": 0.6945910290237467}, {\"calitp_itp_id\": 300, \"agency_name\": \"Big Blue Bus\", \"calitp_url_number\": 0, \"service_date\": \"2022-05-10T00:00:00\", \"weekday\": \"Tuesday\", \"month\": \"May\", \"total_num_sched\": 1516, \"total_num_vp\": 1380, \"pct_w_vp\": 0.9102902374670184}, {\"calitp_itp_id\": 300, \"agency_name\": \"Big Blue Bus\", \"calitp_url_number\": 0, \"service_date\": \"2022-05-11T00:00:00\", \"weekday\": \"Wednesday\", \"month\": \"May\", \"total_num_sched\": 1516, \"total_num_vp\": 1381, \"pct_w_vp\": 0.9109498680738787}, {\"calitp_itp_id\": 300, \"agency_name\": \"Big Blue Bus\", \"calitp_url_number\": 0, \"service_date\": \"2022-05-12T00:00:00\", \"weekday\": \"Thursday\", \"month\": \"May\", \"total_num_sched\": 1516, \"total_num_vp\": 1380, \"pct_w_vp\": 0.9102902374670184}, {\"calitp_itp_id\": 300, \"agency_name\": \"Big Blue Bus\", \"calitp_url_number\": 0, \"service_date\": \"2022-05-13T00:00:00\", \"weekday\": \"Friday\", \"month\": \"May\", \"total_num_sched\": 1464, \"total_num_vp\": 1343, \"pct_w_vp\": 0.9173497267759563}, {\"calitp_itp_id\": 300, \"agency_name\": \"Big Blue Bus\", \"calitp_url_number\": 0, \"service_date\": \"2022-05-14T00:00:00\", \"weekday\": \"Saturday\", \"month\": \"May\", \"total_num_sched\": 870, \"total_num_vp\": 600, \"pct_w_vp\": 0.6896551724137931}, {\"calitp_itp_id\": 300, \"agency_name\": \"Big Blue Bus\", \"calitp_url_number\": 0, \"service_date\": \"2022-05-15T00:00:00\", \"weekday\": \"Sunday\", \"month\": \"May\", \"total_num_sched\": 770, \"total_num_vp\": 526, \"pct_w_vp\": 0.6831168831168831}, {\"calitp_itp_id\": 300, \"agency_name\": \"Big Blue Bus\", \"calitp_url_number\": 0, \"service_date\": \"2022-05-16T00:00:00\", \"weekday\": \"Monday\", \"month\": \"May\", \"total_num_sched\": 1516, \"total_num_vp\": 1028, \"pct_w_vp\": 0.6781002638522428}, {\"calitp_itp_id\": 300, \"agency_name\": \"Big Blue Bus\", \"calitp_url_number\": 0, \"service_date\": \"2022-05-17T00:00:00\", \"weekday\": \"Tuesday\", \"month\": \"May\", \"total_num_sched\": 1516, \"total_num_vp\": 1373, \"pct_w_vp\": 0.9056728232189973}, {\"calitp_itp_id\": 300, \"agency_name\": \"Big Blue Bus\", \"calitp_url_number\": 0, \"service_date\": \"2022-05-18T00:00:00\", \"weekday\": \"Wednesday\", \"month\": \"May\", \"total_num_sched\": 1516, \"total_num_vp\": 1377, \"pct_w_vp\": 0.908311345646438}, {\"calitp_itp_id\": 300, \"agency_name\": \"Big Blue Bus\", \"calitp_url_number\": 0, \"service_date\": \"2022-05-19T00:00:00\", \"weekday\": \"Thursday\", \"month\": \"May\", \"total_num_sched\": 1516, \"total_num_vp\": 1367, \"pct_w_vp\": 0.9017150395778364}, {\"calitp_itp_id\": 300, \"agency_name\": \"Big Blue Bus\", \"calitp_url_number\": 0, \"service_date\": \"2022-05-20T00:00:00\", \"weekday\": \"Friday\", \"month\": \"May\", \"total_num_sched\": 1464, \"total_num_vp\": 1366, \"pct_w_vp\": 0.9330601092896175}, {\"calitp_itp_id\": 300, \"agency_name\": \"Big Blue Bus\", \"calitp_url_number\": 0, \"service_date\": \"2022-05-21T00:00:00\", \"weekday\": \"Saturday\", \"month\": \"May\", \"total_num_sched\": 870, \"total_num_vp\": 635, \"pct_w_vp\": 0.7298850574712644}, {\"calitp_itp_id\": 300, \"agency_name\": \"Big Blue Bus\", \"calitp_url_number\": 0, \"service_date\": \"2022-05-22T00:00:00\", \"weekday\": \"Sunday\", \"month\": \"May\", \"total_num_sched\": 770, \"total_num_vp\": 543, \"pct_w_vp\": 0.7051948051948052}, {\"calitp_itp_id\": 300, \"agency_name\": \"Big Blue Bus\", \"calitp_url_number\": 0, \"service_date\": \"2022-05-23T00:00:00\", \"weekday\": \"Monday\", \"month\": \"May\", \"total_num_sched\": 1516, \"total_num_vp\": 1086, \"pct_w_vp\": 0.716358839050132}, {\"calitp_itp_id\": 300, \"agency_name\": \"Big Blue Bus\", \"calitp_url_number\": 0, \"service_date\": \"2022-05-24T00:00:00\", \"weekday\": \"Tuesday\", \"month\": \"May\", \"total_num_sched\": 1516, \"total_num_vp\": 1370, \"pct_w_vp\": 0.9036939313984169}, {\"calitp_itp_id\": 300, \"agency_name\": \"Big Blue Bus\", \"calitp_url_number\": 0, \"service_date\": \"2022-05-25T00:00:00\", \"weekday\": \"Wednesday\", \"month\": \"May\", \"total_num_sched\": 1516, \"total_num_vp\": 1348, \"pct_w_vp\": 0.8891820580474934}, {\"calitp_itp_id\": 300, \"agency_name\": \"Big Blue Bus\", \"calitp_url_number\": 0, \"service_date\": \"2022-05-26T00:00:00\", \"weekday\": \"Thursday\", \"month\": \"May\", \"total_num_sched\": 1516, \"total_num_vp\": 1394, \"pct_w_vp\": 0.9195250659630607}, {\"calitp_itp_id\": 300, \"agency_name\": \"Big Blue Bus\", \"calitp_url_number\": 0, \"service_date\": \"2022-05-27T00:00:00\", \"weekday\": \"Friday\", \"month\": \"May\", \"total_num_sched\": 1466, \"total_num_vp\": 1320, \"pct_w_vp\": 0.9004092769440655}, {\"calitp_itp_id\": 300, \"agency_name\": \"Big Blue Bus\", \"calitp_url_number\": 0, \"service_date\": \"2022-05-28T00:00:00\", \"weekday\": \"Saturday\", \"month\": \"May\", \"total_num_sched\": 870, \"total_num_vp\": 612, \"pct_w_vp\": 0.7034482758620689}, {\"calitp_itp_id\": 300, \"agency_name\": \"Big Blue Bus\", \"calitp_url_number\": 0, \"service_date\": \"2022-05-29T00:00:00\", \"weekday\": \"Sunday\", \"month\": \"May\", \"total_num_sched\": 770, \"total_num_vp\": 556, \"pct_w_vp\": 0.7220779220779221}, {\"calitp_itp_id\": 300, \"agency_name\": \"Big Blue Bus\", \"calitp_url_number\": 0, \"service_date\": \"2022-05-30T00:00:00\", \"weekday\": \"Monday\", \"month\": \"May\", \"total_num_sched\": 770, \"total_num_vp\": 741, \"pct_w_vp\": 0.9623376623376624}, {\"calitp_itp_id\": 300, \"agency_name\": \"Big Blue Bus\", \"calitp_url_number\": 0, \"service_date\": \"2022-05-31T00:00:00\", \"weekday\": \"Tuesday\", \"month\": \"May\", \"total_num_sched\": 1516, \"total_num_vp\": 1067, \"pct_w_vp\": 0.7038258575197889}, {\"calitp_itp_id\": 300, \"agency_name\": \"Big Blue Bus\", \"calitp_url_number\": 0, \"service_date\": \"2022-06-01T00:00:00\", \"weekday\": \"Wednesday\", \"month\": \"June\", \"total_num_sched\": 1516, \"total_num_vp\": 1366, \"pct_w_vp\": 0.9010554089709762}, {\"calitp_itp_id\": 300, \"agency_name\": \"Big Blue Bus\", \"calitp_url_number\": 0, \"service_date\": \"2022-06-02T00:00:00\", \"weekday\": \"Thursday\", \"month\": \"June\", \"total_num_sched\": 1516, \"total_num_vp\": 1360, \"pct_w_vp\": 0.8970976253298153}, {\"calitp_itp_id\": 300, \"agency_name\": \"Big Blue Bus\", \"calitp_url_number\": 0, \"service_date\": \"2022-06-03T00:00:00\", \"weekday\": \"Friday\", \"month\": \"June\", \"total_num_sched\": 1516, \"total_num_vp\": 1294, \"pct_w_vp\": 0.8535620052770448}, {\"calitp_itp_id\": 300, \"agency_name\": \"Big Blue Bus\", \"calitp_url_number\": 0, \"service_date\": \"2022-06-04T00:00:00\", \"weekday\": \"Saturday\", \"month\": \"June\", \"total_num_sched\": 870, \"total_num_vp\": 610, \"pct_w_vp\": 0.7011494252873564}, {\"calitp_itp_id\": 300, \"agency_name\": \"Big Blue Bus\", \"calitp_url_number\": 0, \"service_date\": \"2022-06-05T00:00:00\", \"weekday\": \"Sunday\", \"month\": \"June\", \"total_num_sched\": 770, \"total_num_vp\": 554, \"pct_w_vp\": 0.7194805194805195}, {\"calitp_itp_id\": 300, \"agency_name\": \"Big Blue Bus\", \"calitp_url_number\": 0, \"service_date\": \"2022-06-06T00:00:00\", \"weekday\": \"Monday\", \"month\": \"June\", \"total_num_sched\": 1516, \"total_num_vp\": 1044, \"pct_w_vp\": 0.6886543535620053}, {\"calitp_itp_id\": 300, \"agency_name\": \"Big Blue Bus\", \"calitp_url_number\": 0, \"service_date\": \"2022-06-07T00:00:00\", \"weekday\": \"Tuesday\", \"month\": \"June\", \"total_num_sched\": 1516, \"total_num_vp\": 1338, \"pct_w_vp\": 0.8825857519788918}, {\"calitp_itp_id\": 300, \"agency_name\": \"Big Blue Bus\", \"calitp_url_number\": 0, \"service_date\": \"2022-06-08T00:00:00\", \"weekday\": \"Wednesday\", \"month\": \"June\", \"total_num_sched\": 1516, \"total_num_vp\": 1322, \"pct_w_vp\": 0.8720316622691293}, {\"calitp_itp_id\": 300, \"agency_name\": \"Big Blue Bus\", \"calitp_url_number\": 0, \"service_date\": \"2022-06-09T00:00:00\", \"weekday\": \"Thursday\", \"month\": \"June\", \"total_num_sched\": 1514, \"total_num_vp\": 1337, \"pct_w_vp\": 0.8830911492734478}, {\"calitp_itp_id\": 300, \"agency_name\": \"Big Blue Bus\", \"calitp_url_number\": 0, \"service_date\": \"2022-06-10T00:00:00\", \"weekday\": \"Friday\", \"month\": \"June\", \"total_num_sched\": 1463, \"total_num_vp\": 1293, \"pct_w_vp\": 0.8838004101161996}, {\"calitp_itp_id\": 300, \"agency_name\": \"Big Blue Bus\", \"calitp_url_number\": 0, \"service_date\": \"2022-06-11T00:00:00\", \"weekday\": \"Saturday\", \"month\": \"June\", \"total_num_sched\": 870, \"total_num_vp\": 584, \"pct_w_vp\": 0.671264367816092}, {\"calitp_itp_id\": 300, \"agency_name\": \"Big Blue Bus\", \"calitp_url_number\": 0, \"service_date\": \"2022-06-12T00:00:00\", \"weekday\": \"Sunday\", \"month\": \"June\", \"total_num_sched\": 770, \"total_num_vp\": 533, \"pct_w_vp\": 0.6922077922077922}, {\"calitp_itp_id\": 300, \"agency_name\": \"Big Blue Bus\", \"calitp_url_number\": 0, \"service_date\": \"2022-06-13T00:00:00\", \"weekday\": \"Monday\", \"month\": \"June\", \"total_num_sched\": 1513, \"total_num_vp\": 1060, \"pct_w_vp\": 0.7005948446794448}, {\"calitp_itp_id\": 300, \"agency_name\": \"Big Blue Bus\", \"calitp_url_number\": 0, \"service_date\": \"2022-06-14T00:00:00\", \"weekday\": \"Tuesday\", \"month\": \"June\", \"total_num_sched\": 1513, \"total_num_vp\": 1336, \"pct_w_vp\": 0.8830138797091871}, {\"calitp_itp_id\": 300, \"agency_name\": \"Big Blue Bus\", \"calitp_url_number\": 0, \"service_date\": \"2022-06-15T00:00:00\", \"weekday\": \"Wednesday\", \"month\": \"June\", \"total_num_sched\": 1409, \"total_num_vp\": 1341, \"pct_w_vp\": 0.9517388218594748}, {\"calitp_itp_id\": 300, \"agency_name\": \"Big Blue Bus\", \"calitp_url_number\": 0, \"service_date\": \"2022-06-16T00:00:00\", \"weekday\": \"Thursday\", \"month\": \"June\", \"total_num_sched\": 1409, \"total_num_vp\": 1382, \"pct_w_vp\": 0.9808374733853797}, {\"calitp_itp_id\": 300, \"agency_name\": \"Big Blue Bus\", \"calitp_url_number\": 0, \"service_date\": \"2022-06-17T00:00:00\", \"weekday\": \"Friday\", \"month\": \"June\", \"total_num_sched\": 1409, \"total_num_vp\": 1400, \"pct_w_vp\": 0.99361249112846}, {\"calitp_itp_id\": 300, \"agency_name\": \"Big Blue Bus\", \"calitp_url_number\": 0, \"service_date\": \"2022-06-18T00:00:00\", \"weekday\": \"Saturday\", \"month\": \"June\", \"total_num_sched\": 870, \"total_num_vp\": 633, \"pct_w_vp\": 0.7275862068965517}, {\"calitp_itp_id\": 300, \"agency_name\": \"Big Blue Bus\", \"calitp_url_number\": 0, \"service_date\": \"2022-06-19T00:00:00\", \"weekday\": \"Sunday\", \"month\": \"June\", \"total_num_sched\": 770, \"total_num_vp\": 524, \"pct_w_vp\": 0.6805194805194805}, {\"calitp_itp_id\": 300, \"agency_name\": \"Big Blue Bus\", \"calitp_url_number\": 0, \"service_date\": \"2022-06-20T00:00:00\", \"weekday\": \"Monday\", \"month\": \"June\", \"total_num_sched\": 1461, \"total_num_vp\": 1077, \"pct_w_vp\": 0.7371663244353183}, {\"calitp_itp_id\": 300, \"agency_name\": \"Big Blue Bus\", \"calitp_url_number\": 0, \"service_date\": \"2022-06-21T00:00:00\", \"weekday\": \"Tuesday\", \"month\": \"June\", \"total_num_sched\": 1461, \"total_num_vp\": 1381, \"pct_w_vp\": 0.945242984257358}, {\"calitp_itp_id\": 300, \"agency_name\": \"Big Blue Bus\", \"calitp_url_number\": 0, \"service_date\": \"2022-06-22T00:00:00\", \"weekday\": \"Wednesday\", \"month\": \"June\", \"total_num_sched\": 1461, \"total_num_vp\": 1376, \"pct_w_vp\": 0.9418206707734429}, {\"calitp_itp_id\": 300, \"agency_name\": \"Big Blue Bus\", \"calitp_url_number\": 0, \"service_date\": \"2022-06-23T00:00:00\", \"weekday\": \"Thursday\", \"month\": \"June\", \"total_num_sched\": 1461, \"total_num_vp\": 1384, \"pct_w_vp\": 0.947296372347707}, {\"calitp_itp_id\": 300, \"agency_name\": \"Big Blue Bus\", \"calitp_url_number\": 0, \"service_date\": \"2022-06-24T00:00:00\", \"weekday\": \"Friday\", \"month\": \"June\", \"total_num_sched\": 1461, \"total_num_vp\": 1320, \"pct_w_vp\": 0.9034907597535934}, {\"calitp_itp_id\": 300, \"agency_name\": \"Big Blue Bus\", \"calitp_url_number\": 0, \"service_date\": \"2022-06-25T00:00:00\", \"weekday\": \"Saturday\", \"month\": \"June\", \"total_num_sched\": 870, \"total_num_vp\": 581, \"pct_w_vp\": 0.667816091954023}, {\"calitp_itp_id\": 300, \"agency_name\": \"Big Blue Bus\", \"calitp_url_number\": 0, \"service_date\": \"2022-06-26T00:00:00\", \"weekday\": \"Sunday\", \"month\": \"June\", \"total_num_sched\": 770, \"total_num_vp\": 498, \"pct_w_vp\": 0.6467532467532467}, {\"calitp_itp_id\": 300, \"agency_name\": \"Big Blue Bus\", \"calitp_url_number\": 0, \"service_date\": \"2022-06-27T00:00:00\", \"weekday\": \"Monday\", \"month\": \"June\", \"total_num_sched\": 1461, \"total_num_vp\": 1013, \"pct_w_vp\": 0.6933607118412046}, {\"calitp_itp_id\": 300, \"agency_name\": \"Big Blue Bus\", \"calitp_url_number\": 0, \"service_date\": \"2022-06-28T00:00:00\", \"weekday\": \"Tuesday\", \"month\": \"June\", \"total_num_sched\": 1461, \"total_num_vp\": 1359, \"pct_w_vp\": 0.9301848049281314}, {\"calitp_itp_id\": 300, \"agency_name\": \"Big Blue Bus\", \"calitp_url_number\": 0, \"service_date\": \"2022-06-29T00:00:00\", \"weekday\": \"Wednesday\", \"month\": \"June\", \"total_num_sched\": 1461, \"total_num_vp\": 1367, \"pct_w_vp\": 0.9356605065023956}, {\"calitp_itp_id\": 300, \"agency_name\": \"Big Blue Bus\", \"calitp_url_number\": 0, \"service_date\": \"2022-06-30T00:00:00\", \"weekday\": \"Thursday\", \"month\": \"June\", \"total_num_sched\": 1461, \"total_num_vp\": 1374, \"pct_w_vp\": 0.9404517453798767}]}}, {\"mode\": \"vega-lite\"});\n",
       "</script>"
      ],
      "text/plain": [
       "alt.LayerChart(...)"
      ]
     },
     "execution_count": 90,
     "metadata": {},
     "output_type": "execute_result"
    }
   ],
   "source": [
    "display(HTML(f\"<strong>{(agency.iloc[0]['agency_name'])} Percent of Scheduled Trips with RT Vehicle Position Data</strong>\"))\n",
    "display(Markdown(f\"<strong><span style='color:red'>Red Line </span></strong> represents \"\n",
    "                 f\" {(agency.iloc[0]['agency_name'])} average\"))\n",
    "\n",
    "bar = (utils.bar_chart_over_time((agency_date),\n",
    "                           'service_date', 'pct_w_vp', 'weekday','%', 'x', '')).mark_bar(size=8).properties(width=800)\n",
    "#mean line\n",
    "rule = alt.Chart(agency_date).mark_rule(color='red').encode(y=alt.Y('mean(pct_w_vp):Q', axis=alt.Axis(format='%')))\n",
    "\n",
    "bar + rule"
   ]
  },
  {
   "cell_type": "code",
   "execution_count": 24,
   "id": "d2967794-6e99-46f9-9950-7ad00173ac8d",
   "metadata": {
    "tags": []
   },
   "outputs": [],
   "source": [
    "# avg_week_month = utils.get_agg_pct((agency_date),\n",
    "#                groupings = ['agency_name', 'calitp_itp_id', 'month', 'weekday'],\n",
    "#                sum_sched ='total_num_sched',\n",
    "#                sum_vp = 'total_num_vp')"
   ]
  },
  {
   "cell_type": "code",
   "execution_count": 25,
   "id": "dbff3870-0b18-4f17-808d-f64b1973db40",
   "metadata": {
    "tags": []
   },
   "outputs": [],
   "source": [
    "# display(HTML(f\"<strong>{(agency.iloc[0]['agency_name'])} Average Percent of Scheduled Trips with RT Vehicle Position Data by Day</strong>\"))\n",
    "# utils.bar_chart_over_time(avg_week_month,\n",
    "#                           'avg',\n",
    "#                           'weekday',\n",
    "#                           'weekday',\n",
    "#                           '', \n",
    "#                           cats_day, \n",
    "#                           '').encode(x=alt.X('avg:Q', title=utils.labeling('avg'), axis=alt.Axis(format='%')),\n",
    "#                                                                                                                          row =alt.Row(\"month\", sort=cats_month)).mark_bar(size=30)"
   ]
  },
  {
   "cell_type": "code",
   "execution_count": null,
   "id": "6adf93dd-dfbe-41b4-90b7-a62564c3eccf",
   "metadata": {},
   "outputs": [],
   "source": []
  },
  {
   "cell_type": "code",
   "execution_count": 26,
   "id": "de859296-af1c-4aca-b41b-2152f47726fc",
   "metadata": {},
   "outputs": [
    {
     "data": {
      "text/html": [
       "<h3>Route Analysis</h3>"
      ],
      "text/plain": [
       "<IPython.core.display.HTML object>"
      ]
     },
     "metadata": {},
     "output_type": "display_data"
    }
   ],
   "source": [
    "display(HTML(\"<h3>Route Analysis</h3>\"))"
   ]
  },
  {
   "cell_type": "code",
   "execution_count": 27,
   "id": "b1c22722-ddf8-448f-b289-2e39c8b32fb5",
   "metadata": {},
   "outputs": [],
   "source": [
    "agency_short = agency>>select(_.agency_name, _.route_id,\n",
    "                              _.route_short_name, _.service_date, _.pct_w_vp)"
   ]
  },
  {
   "cell_type": "code",
   "execution_count": 28,
   "id": "138bf062-da45-4310-a59f-b10f35615636",
   "metadata": {},
   "outputs": [
    {
     "data": {
      "text/html": [
       "<strong>Big Blue Bus Average Percent of Scheduled Trips with Vehicle Postions Data by Route Over Time</strong>"
      ],
      "text/plain": [
       "<IPython.core.display.HTML object>"
      ]
     },
     "metadata": {},
     "output_type": "display_data"
    },
    {
     "data": {
      "text/markdown": [
       "To utilize the multi-select, use `shift` when clicking routes in the legend"
      ],
      "text/plain": [
       "<IPython.core.display.Markdown object>"
      ]
     },
     "metadata": {},
     "output_type": "display_data"
    },
    {
     "data": {
      "text/html": [
       "\n",
       "<div id=\"altair-viz-0b97f43ee20740a1878df2ff37cd946d\"></div>\n",
       "<script type=\"text/javascript\">\n",
       "  var VEGA_DEBUG = (typeof VEGA_DEBUG == \"undefined\") ? {} : VEGA_DEBUG;\n",
       "  (function(spec, embedOpt){\n",
       "    let outputDiv = document.currentScript.previousElementSibling;\n",
       "    if (outputDiv.id !== \"altair-viz-0b97f43ee20740a1878df2ff37cd946d\") {\n",
       "      outputDiv = document.getElementById(\"altair-viz-0b97f43ee20740a1878df2ff37cd946d\");\n",
       "    }\n",
       "    const paths = {\n",
       "      \"vega\": \"https://cdn.jsdelivr.net/npm//vega@5?noext\",\n",
       "      \"vega-lib\": \"https://cdn.jsdelivr.net/npm//vega-lib?noext\",\n",
       "      \"vega-lite\": \"https://cdn.jsdelivr.net/npm//vega-lite@4.17.0?noext\",\n",
       "      \"vega-embed\": \"https://cdn.jsdelivr.net/npm//vega-embed@6?noext\",\n",
       "    };\n",
       "\n",
       "    function maybeLoadScript(lib, version) {\n",
       "      var key = `${lib.replace(\"-\", \"\")}_version`;\n",
       "      return (VEGA_DEBUG[key] == version) ?\n",
       "        Promise.resolve(paths[lib]) :\n",
       "        new Promise(function(resolve, reject) {\n",
       "          var s = document.createElement('script');\n",
       "          document.getElementsByTagName(\"head\")[0].appendChild(s);\n",
       "          s.async = true;\n",
       "          s.onload = () => {\n",
       "            VEGA_DEBUG[key] = version;\n",
       "            return resolve(paths[lib]);\n",
       "          };\n",
       "          s.onerror = () => reject(`Error loading script: ${paths[lib]}`);\n",
       "          s.src = paths[lib];\n",
       "        });\n",
       "    }\n",
       "\n",
       "    function showError(err) {\n",
       "      outputDiv.innerHTML = `<div class=\"error\" style=\"color:red;\">${err}</div>`;\n",
       "      throw err;\n",
       "    }\n",
       "\n",
       "    function displayChart(vegaEmbed) {\n",
       "      vegaEmbed(outputDiv, spec, embedOpt)\n",
       "        .catch(err => showError(`Javascript Error: ${err.message}<br>This usually means there's a typo in your chart specification. See the javascript console for the full traceback.`));\n",
       "    }\n",
       "\n",
       "    if(typeof define === \"function\" && define.amd) {\n",
       "      requirejs.config({paths});\n",
       "      require([\"vega-embed\"], displayChart, err => showError(`Error loading script: ${err.message}`));\n",
       "    } else {\n",
       "      maybeLoadScript(\"vega\", \"5\")\n",
       "        .then(() => maybeLoadScript(\"vega-lite\", \"4.17.0\"))\n",
       "        .then(() => maybeLoadScript(\"vega-embed\", \"6\"))\n",
       "        .catch(showError)\n",
       "        .then(() => displayChart(vegaEmbed));\n",
       "    }\n",
       "  })({\"config\": {\"view\": {\"continuousWidth\": 400, \"continuousHeight\": 300}}, \"data\": {\"name\": \"data-4ce13c72e4e16ff7187d758c2ec9e3b6\"}, \"mark\": \"line\", \"encoding\": {\"color\": {\"field\": \"route_short_name\", \"title\": [\"Route Name\"], \"type\": \"nominal\"}, \"opacity\": {\"condition\": {\"value\": 1, \"selection\": \"selector001\"}, \"value\": 0}, \"strokeDash\": {\"field\": \"route_short_name\", \"type\": \"nominal\"}, \"tooltip\": [{\"field\": \"route_short_name\", \"title\": \"Route Short Name\", \"type\": \"nominal\"}, {\"field\": \"service_date\", \"title\": \"Service Date\", \"type\": \"temporal\"}, {\"field\": \"service_date\", \"title\": \"Service Date\", \"type\": \"temporal\"}], \"x\": {\"field\": \"service_date\", \"title\": \"Service Date\", \"type\": \"temporal\"}, \"y\": {\"axis\": {\"format\": \"%\"}, \"field\": \"pct_w_vp\", \"title\": \"Percent with Vehicle Positions\", \"type\": \"quantitative\"}}, \"selection\": {\"selector001\": {\"type\": \"multi\", \"fields\": [\"route_short_name\"], \"bind\": \"legend\"}}, \"width\": 700, \"$schema\": \"https://vega.github.io/schema/vega-lite/v4.17.0.json\", \"datasets\": {\"data-4ce13c72e4e16ff7187d758c2ec9e3b6\": [{\"agency_name\": \"Big Blue Bus\", \"route_id\": \"3479\", \"route_short_name\": \"1\", \"service_date\": \"2022-05-29T00:00:00\", \"pct_w_vp\": 0.6982758620689655}, {\"agency_name\": \"Big Blue Bus\", \"route_id\": \"3479\", \"route_short_name\": \"1\", \"service_date\": \"2022-05-30T00:00:00\", \"pct_w_vp\": 1.0}, {\"agency_name\": \"Big Blue Bus\", \"route_id\": \"3479\", \"route_short_name\": \"1\", \"service_date\": \"2022-05-21T00:00:00\", \"pct_w_vp\": 0.7099236641221374}, {\"agency_name\": \"Big Blue Bus\", \"route_id\": \"3479\", \"route_short_name\": \"1\", \"service_date\": \"2022-06-12T00:00:00\", \"pct_w_vp\": 0.6896551724137931}, {\"agency_name\": \"Big Blue Bus\", \"route_id\": \"3479\", \"route_short_name\": \"1\", \"service_date\": \"2022-06-11T00:00:00\", \"pct_w_vp\": 0.5725190839694656}, {\"agency_name\": \"Big Blue Bus\", \"route_id\": \"3479\", \"route_short_name\": \"1\", \"service_date\": \"2022-06-05T00:00:00\", \"pct_w_vp\": 0.7068965517241379}, {\"agency_name\": \"Big Blue Bus\", \"route_id\": \"3479\", \"route_short_name\": \"1\", \"service_date\": \"2022-06-04T00:00:00\", \"pct_w_vp\": 0.7022900763358778}, {\"agency_name\": \"Big Blue Bus\", \"route_id\": \"3479\", \"route_short_name\": \"1\", \"service_date\": \"2022-05-22T00:00:00\", \"pct_w_vp\": 0.646551724137931}, {\"agency_name\": \"Big Blue Bus\", \"route_id\": \"3479\", \"route_short_name\": \"1\", \"service_date\": \"2022-05-15T00:00:00\", \"pct_w_vp\": 0.6810344827586207}, {\"agency_name\": \"Big Blue Bus\", \"route_id\": \"3479\", \"route_short_name\": \"1\", \"service_date\": \"2022-06-25T00:00:00\", \"pct_w_vp\": 0.648854961832061}, {\"agency_name\": \"Big Blue Bus\", \"route_id\": \"3479\", \"route_short_name\": \"1\", \"service_date\": \"2022-05-01T00:00:00\", \"pct_w_vp\": 0.6724137931034483}, {\"agency_name\": \"Big Blue Bus\", \"route_id\": \"3479\", \"route_short_name\": \"1\", \"service_date\": \"2022-06-19T00:00:00\", \"pct_w_vp\": 0.5431034482758621}, {\"agency_name\": \"Big Blue Bus\", \"route_id\": \"3479\", \"route_short_name\": \"1\", \"service_date\": \"2022-06-26T00:00:00\", \"pct_w_vp\": 0.6293103448275862}, {\"agency_name\": \"Big Blue Bus\", \"route_id\": \"3479\", \"route_short_name\": \"1\", \"service_date\": \"2022-06-18T00:00:00\", \"pct_w_vp\": 0.7175572519083969}, {\"agency_name\": \"Big Blue Bus\", \"route_id\": \"3479\", \"route_short_name\": \"1\", \"service_date\": \"2022-05-08T00:00:00\", \"pct_w_vp\": 0.6206896551724138}, {\"agency_name\": \"Big Blue Bus\", \"route_id\": \"3479\", \"route_short_name\": \"1\", \"service_date\": \"2022-05-14T00:00:00\", \"pct_w_vp\": 0.6183206106870229}, {\"agency_name\": \"Big Blue Bus\", \"route_id\": \"3479\", \"route_short_name\": \"1\", \"service_date\": \"2022-05-07T00:00:00\", \"pct_w_vp\": 0.6030534351145038}, {\"agency_name\": \"Big Blue Bus\", \"route_id\": \"3479\", \"route_short_name\": \"1\", \"service_date\": \"2022-05-28T00:00:00\", \"pct_w_vp\": 0.6946564885496184}, {\"agency_name\": \"Big Blue Bus\", \"route_id\": \"3481\", \"route_short_name\": \"3\", \"service_date\": \"2022-05-14T00:00:00\", \"pct_w_vp\": 0.6870229007633588}, {\"agency_name\": \"Big Blue Bus\", \"route_id\": \"3481\", \"route_short_name\": \"3\", \"service_date\": \"2022-05-28T00:00:00\", \"pct_w_vp\": 0.6717557251908397}, {\"agency_name\": \"Big Blue Bus\", \"route_id\": \"3481\", \"route_short_name\": \"3\", \"service_date\": \"2022-05-29T00:00:00\", \"pct_w_vp\": 0.689922480620155}, {\"agency_name\": \"Big Blue Bus\", \"route_id\": \"3481\", \"route_short_name\": \"3\", \"service_date\": \"2022-05-21T00:00:00\", \"pct_w_vp\": 0.6946564885496184}, {\"agency_name\": \"Big Blue Bus\", \"route_id\": \"3481\", \"route_short_name\": \"3\", \"service_date\": \"2022-05-01T00:00:00\", \"pct_w_vp\": 0.5813953488372093}, {\"agency_name\": \"Big Blue Bus\", \"route_id\": \"3481\", \"route_short_name\": \"3\", \"service_date\": \"2022-05-30T00:00:00\", \"pct_w_vp\": 0.9767441860465116}, {\"agency_name\": \"Big Blue Bus\", \"route_id\": \"3481\", \"route_short_name\": \"3\", \"service_date\": \"2022-05-22T00:00:00\", \"pct_w_vp\": 0.689922480620155}, {\"agency_name\": \"Big Blue Bus\", \"route_id\": \"3481\", \"route_short_name\": \"3\", \"service_date\": \"2022-05-08T00:00:00\", \"pct_w_vp\": 0.6821705426356589}, {\"agency_name\": \"Big Blue Bus\", \"route_id\": \"3481\", \"route_short_name\": \"3\", \"service_date\": \"2022-06-25T00:00:00\", \"pct_w_vp\": 0.5648854961832062}, {\"agency_name\": \"Big Blue Bus\", \"route_id\": \"3481\", \"route_short_name\": \"3\", \"service_date\": \"2022-05-15T00:00:00\", \"pct_w_vp\": 0.6201550387596899}, {\"agency_name\": \"Big Blue Bus\", \"route_id\": \"3481\", \"route_short_name\": \"3\", \"service_date\": \"2022-06-04T00:00:00\", \"pct_w_vp\": 0.6106870229007634}, {\"agency_name\": \"Big Blue Bus\", \"route_id\": \"3481\", \"route_short_name\": \"3\", \"service_date\": \"2022-06-26T00:00:00\", \"pct_w_vp\": 0.6046511627906976}, {\"agency_name\": \"Big Blue Bus\", \"route_id\": \"3481\", \"route_short_name\": \"3\", \"service_date\": \"2022-06-12T00:00:00\", \"pct_w_vp\": 0.6821705426356589}, {\"agency_name\": \"Big Blue Bus\", \"route_id\": \"3481\", \"route_short_name\": \"3\", \"service_date\": \"2022-05-07T00:00:00\", \"pct_w_vp\": 0.6335877862595419}, {\"agency_name\": \"Big Blue Bus\", \"route_id\": \"3481\", \"route_short_name\": \"3\", \"service_date\": \"2022-06-11T00:00:00\", \"pct_w_vp\": 0.5954198473282443}, {\"agency_name\": \"Big Blue Bus\", \"route_id\": \"3481\", \"route_short_name\": \"3\", \"service_date\": \"2022-06-19T00:00:00\", \"pct_w_vp\": 0.5968992248062015}, {\"agency_name\": \"Big Blue Bus\", \"route_id\": \"3481\", \"route_short_name\": \"3\", \"service_date\": \"2022-06-05T00:00:00\", \"pct_w_vp\": 0.6821705426356589}, {\"agency_name\": \"Big Blue Bus\", \"route_id\": \"3481\", \"route_short_name\": \"3\", \"service_date\": \"2022-06-18T00:00:00\", \"pct_w_vp\": 0.6870229007633588}, {\"agency_name\": \"Big Blue Bus\", \"route_id\": \"3485\", \"route_short_name\": \"7\", \"service_date\": \"2022-06-12T00:00:00\", \"pct_w_vp\": 0.664}, {\"agency_name\": \"Big Blue Bus\", \"route_id\": \"3485\", \"route_short_name\": \"7\", \"service_date\": \"2022-06-05T00:00:00\", \"pct_w_vp\": 0.704}, {\"agency_name\": \"Big Blue Bus\", \"route_id\": \"3485\", \"route_short_name\": \"7\", \"service_date\": \"2022-05-21T00:00:00\", \"pct_w_vp\": 0.6940298507462687}, {\"agency_name\": \"Big Blue Bus\", \"route_id\": \"3485\", \"route_short_name\": \"7\", \"service_date\": \"2022-05-15T00:00:00\", \"pct_w_vp\": 0.6}, {\"agency_name\": \"Big Blue Bus\", \"route_id\": \"3485\", \"route_short_name\": \"7\", \"service_date\": \"2022-06-19T00:00:00\", \"pct_w_vp\": 0.688}, {\"agency_name\": \"Big Blue Bus\", \"route_id\": \"3485\", \"route_short_name\": \"7\", \"service_date\": \"2022-06-04T00:00:00\", \"pct_w_vp\": 0.6791044776119403}, {\"agency_name\": \"Big Blue Bus\", \"route_id\": \"3485\", \"route_short_name\": \"7\", \"service_date\": \"2022-05-22T00:00:00\", \"pct_w_vp\": 0.696}, {\"agency_name\": \"Big Blue Bus\", \"route_id\": \"3485\", \"route_short_name\": \"7\", \"service_date\": \"2022-06-11T00:00:00\", \"pct_w_vp\": 0.6716417910447762}, {\"agency_name\": \"Big Blue Bus\", \"route_id\": \"3485\", \"route_short_name\": \"7\", \"service_date\": \"2022-05-07T00:00:00\", \"pct_w_vp\": 0.6865671641791045}, {\"agency_name\": \"Big Blue Bus\", \"route_id\": \"3485\", \"route_short_name\": \"7\", \"service_date\": \"2022-06-18T00:00:00\", \"pct_w_vp\": 0.7014925373134329}, {\"agency_name\": \"Big Blue Bus\", \"route_id\": \"3485\", \"route_short_name\": \"7\", \"service_date\": \"2022-05-08T00:00:00\", \"pct_w_vp\": 0.648}, {\"agency_name\": \"Big Blue Bus\", \"route_id\": \"3485\", \"route_short_name\": \"7\", \"service_date\": \"2022-05-01T00:00:00\", \"pct_w_vp\": 0.696}, {\"agency_name\": \"Big Blue Bus\", \"route_id\": \"3485\", \"route_short_name\": \"7\", \"service_date\": \"2022-05-28T00:00:00\", \"pct_w_vp\": 0.6791044776119403}, {\"agency_name\": \"Big Blue Bus\", \"route_id\": \"3485\", \"route_short_name\": \"7\", \"service_date\": \"2022-05-30T00:00:00\", \"pct_w_vp\": 0.952}, {\"agency_name\": \"Big Blue Bus\", \"route_id\": \"3485\", \"route_short_name\": \"7\", \"service_date\": \"2022-05-29T00:00:00\", \"pct_w_vp\": 0.712}, {\"agency_name\": \"Big Blue Bus\", \"route_id\": \"3485\", \"route_short_name\": \"7\", \"service_date\": \"2022-05-14T00:00:00\", \"pct_w_vp\": 0.7014925373134329}, {\"agency_name\": \"Big Blue Bus\", \"route_id\": \"3485\", \"route_short_name\": \"7\", \"service_date\": \"2022-06-25T00:00:00\", \"pct_w_vp\": 0.6492537313432836}, {\"agency_name\": \"Big Blue Bus\", \"route_id\": \"3485\", \"route_short_name\": \"7\", \"service_date\": \"2022-06-26T00:00:00\", \"pct_w_vp\": 0.528}, {\"agency_name\": \"Big Blue Bus\", \"route_id\": \"3487\", \"route_short_name\": \"9\", \"service_date\": \"2022-06-25T00:00:00\", \"pct_w_vp\": 0.7272727272727273}, {\"agency_name\": \"Big Blue Bus\", \"route_id\": \"3487\", \"route_short_name\": \"9\", \"service_date\": \"2022-06-19T00:00:00\", \"pct_w_vp\": 0.631578947368421}, {\"agency_name\": \"Big Blue Bus\", \"route_id\": \"3487\", \"route_short_name\": \"9\", \"service_date\": \"2022-05-28T00:00:00\", \"pct_w_vp\": 0.5}, {\"agency_name\": \"Big Blue Bus\", \"route_id\": \"3487\", \"route_short_name\": \"9\", \"service_date\": \"2022-05-30T00:00:00\", \"pct_w_vp\": 0.9473684210526315}, {\"agency_name\": \"Big Blue Bus\", \"route_id\": \"3487\", \"route_short_name\": \"9\", \"service_date\": \"2022-05-29T00:00:00\", \"pct_w_vp\": 0.6842105263157895}, {\"agency_name\": \"Big Blue Bus\", \"route_id\": \"3487\", \"route_short_name\": \"9\", \"service_date\": \"2022-06-11T00:00:00\", \"pct_w_vp\": 0.7272727272727273}, {\"agency_name\": \"Big Blue Bus\", \"route_id\": \"3487\", \"route_short_name\": \"9\", \"service_date\": \"2022-05-15T00:00:00\", \"pct_w_vp\": 0.7631578947368421}, {\"agency_name\": \"Big Blue Bus\", \"route_id\": \"3487\", \"route_short_name\": \"9\", \"service_date\": \"2022-05-22T00:00:00\", \"pct_w_vp\": 0.7631578947368421}, {\"agency_name\": \"Big Blue Bus\", \"route_id\": \"3487\", \"route_short_name\": \"9\", \"service_date\": \"2022-06-26T00:00:00\", \"pct_w_vp\": 0.7368421052631579}, {\"agency_name\": \"Big Blue Bus\", \"route_id\": \"3487\", \"route_short_name\": \"9\", \"service_date\": \"2022-06-12T00:00:00\", \"pct_w_vp\": 0.7631578947368421}, {\"agency_name\": \"Big Blue Bus\", \"route_id\": \"3487\", \"route_short_name\": \"9\", \"service_date\": \"2022-05-07T00:00:00\", \"pct_w_vp\": 0.7272727272727273}, {\"agency_name\": \"Big Blue Bus\", \"route_id\": \"3487\", \"route_short_name\": \"9\", \"service_date\": \"2022-05-01T00:00:00\", \"pct_w_vp\": 0.5526315789473685}, {\"agency_name\": \"Big Blue Bus\", \"route_id\": \"3487\", \"route_short_name\": \"9\", \"service_date\": \"2022-05-14T00:00:00\", \"pct_w_vp\": 0.75}, {\"agency_name\": \"Big Blue Bus\", \"route_id\": \"3487\", \"route_short_name\": \"9\", \"service_date\": \"2022-06-04T00:00:00\", \"pct_w_vp\": 0.75}, {\"agency_name\": \"Big Blue Bus\", \"route_id\": \"3487\", \"route_short_name\": \"9\", \"service_date\": \"2022-06-18T00:00:00\", \"pct_w_vp\": 0.75}, {\"agency_name\": \"Big Blue Bus\", \"route_id\": \"3487\", \"route_short_name\": \"9\", \"service_date\": \"2022-05-21T00:00:00\", \"pct_w_vp\": 0.75}, {\"agency_name\": \"Big Blue Bus\", \"route_id\": \"3487\", \"route_short_name\": \"9\", \"service_date\": \"2022-06-05T00:00:00\", \"pct_w_vp\": 0.7631578947368421}, {\"agency_name\": \"Big Blue Bus\", \"route_id\": \"3487\", \"route_short_name\": \"9\", \"service_date\": \"2022-05-08T00:00:00\", \"pct_w_vp\": 0.7631578947368421}, {\"agency_name\": \"Big Blue Bus\", \"route_id\": \"3489\", \"route_short_name\": \"R12\", \"service_date\": \"2022-05-29T00:00:00\", \"pct_w_vp\": 0.7215189873417721}, {\"agency_name\": \"Big Blue Bus\", \"route_id\": \"3489\", \"route_short_name\": \"R12\", \"service_date\": \"2022-05-28T00:00:00\", \"pct_w_vp\": 0.7283950617283951}, {\"agency_name\": \"Big Blue Bus\", \"route_id\": \"3489\", \"route_short_name\": \"R12\", \"service_date\": \"2022-06-26T00:00:00\", \"pct_w_vp\": 0.569620253164557}, {\"agency_name\": \"Big Blue Bus\", \"route_id\": \"3489\", \"route_short_name\": \"R12\", \"service_date\": \"2022-06-19T00:00:00\", \"pct_w_vp\": 0.7215189873417721}, {\"agency_name\": \"Big Blue Bus\", \"route_id\": \"3489\", \"route_short_name\": \"R12\", \"service_date\": \"2022-05-22T00:00:00\", \"pct_w_vp\": 0.7215189873417721}, {\"agency_name\": \"Big Blue Bus\", \"route_id\": \"3489\", \"route_short_name\": \"R12\", \"service_date\": \"2022-05-08T00:00:00\", \"pct_w_vp\": 0.4936708860759494}, {\"agency_name\": \"Big Blue Bus\", \"route_id\": \"3489\", \"route_short_name\": \"R12\", \"service_date\": \"2022-05-30T00:00:00\", \"pct_w_vp\": 1.0}, {\"agency_name\": \"Big Blue Bus\", \"route_id\": \"3489\", \"route_short_name\": \"R12\", \"service_date\": \"2022-06-04T00:00:00\", \"pct_w_vp\": 0.6790123456790124}, {\"agency_name\": \"Big Blue Bus\", \"route_id\": \"3489\", \"route_short_name\": \"R12\", \"service_date\": \"2022-05-01T00:00:00\", \"pct_w_vp\": 0.7215189873417721}, {\"agency_name\": \"Big Blue Bus\", \"route_id\": \"3489\", \"route_short_name\": \"R12\", \"service_date\": \"2022-06-05T00:00:00\", \"pct_w_vp\": 0.7215189873417721}, {\"agency_name\": \"Big Blue Bus\", \"route_id\": \"3489\", \"route_short_name\": \"R12\", \"service_date\": \"2022-05-14T00:00:00\", \"pct_w_vp\": 0.6049382716049383}, {\"agency_name\": \"Big Blue Bus\", \"route_id\": \"3489\", \"route_short_name\": \"R12\", \"service_date\": \"2022-06-18T00:00:00\", \"pct_w_vp\": 0.7160493827160493}, {\"agency_name\": \"Big Blue Bus\", \"route_id\": \"3489\", \"route_short_name\": \"R12\", \"service_date\": \"2022-05-15T00:00:00\", \"pct_w_vp\": 0.6582278481012658}, {\"agency_name\": \"Big Blue Bus\", \"route_id\": \"3489\", \"route_short_name\": \"R12\", \"service_date\": \"2022-05-07T00:00:00\", \"pct_w_vp\": 0.691358024691358}, {\"agency_name\": \"Big Blue Bus\", \"route_id\": \"3489\", \"route_short_name\": \"R12\", \"service_date\": \"2022-06-25T00:00:00\", \"pct_w_vp\": 0.7283950617283951}, {\"agency_name\": \"Big Blue Bus\", \"route_id\": \"3489\", \"route_short_name\": \"R12\", \"service_date\": \"2022-05-21T00:00:00\", \"pct_w_vp\": 0.7283950617283951}, {\"agency_name\": \"Big Blue Bus\", \"route_id\": \"3489\", \"route_short_name\": \"R12\", \"service_date\": \"2022-06-12T00:00:00\", \"pct_w_vp\": 0.7215189873417721}, {\"agency_name\": \"Big Blue Bus\", \"route_id\": \"3489\", \"route_short_name\": \"R12\", \"service_date\": \"2022-06-11T00:00:00\", \"pct_w_vp\": 0.6790123456790124}, {\"agency_name\": \"Big Blue Bus\", \"route_id\": \"3490\", \"route_short_name\": \"14\", \"service_date\": \"2022-06-18T00:00:00\", \"pct_w_vp\": 0.7951807228915663}, {\"agency_name\": \"Big Blue Bus\", \"route_id\": \"3490\", \"route_short_name\": \"14\", \"service_date\": \"2022-06-04T00:00:00\", \"pct_w_vp\": 0.7228915662650602}, {\"agency_name\": \"Big Blue Bus\", \"route_id\": \"3490\", \"route_short_name\": \"14\", \"service_date\": \"2022-05-21T00:00:00\", \"pct_w_vp\": 0.7710843373493976}, {\"agency_name\": \"Big Blue Bus\", \"route_id\": \"3490\", \"route_short_name\": \"14\", \"service_date\": \"2022-06-25T00:00:00\", \"pct_w_vp\": 0.7710843373493976}, {\"agency_name\": \"Big Blue Bus\", \"route_id\": \"3490\", \"route_short_name\": \"14\", \"service_date\": \"2022-05-28T00:00:00\", \"pct_w_vp\": 0.7951807228915663}, {\"agency_name\": \"Big Blue Bus\", \"route_id\": \"3490\", \"route_short_name\": \"14\", \"service_date\": \"2022-05-07T00:00:00\", \"pct_w_vp\": 0.7710843373493976}, {\"agency_name\": \"Big Blue Bus\", \"route_id\": \"3490\", \"route_short_name\": \"14\", \"service_date\": \"2022-05-14T00:00:00\", \"pct_w_vp\": 0.7951807228915663}, {\"agency_name\": \"Big Blue Bus\", \"route_id\": \"3490\", \"route_short_name\": \"14\", \"service_date\": \"2022-05-27T00:00:00\", \"pct_w_vp\": 0.963302752293578}, {\"agency_name\": \"Big Blue Bus\", \"route_id\": \"3490\", \"route_short_name\": \"14\", \"service_date\": \"2022-06-10T00:00:00\", \"pct_w_vp\": 0.7706422018348624}, {\"agency_name\": \"Big Blue Bus\", \"route_id\": \"3490\", \"route_short_name\": \"14\", \"service_date\": \"2022-06-11T00:00:00\", \"pct_w_vp\": 0.7951807228915663}, {\"agency_name\": \"Big Blue Bus\", \"route_id\": \"3494\", \"route_short_name\": \"18\", \"service_date\": \"2022-06-12T00:00:00\", \"pct_w_vp\": 0.8571428571428571}, {\"agency_name\": \"Big Blue Bus\", \"route_id\": \"3494\", \"route_short_name\": \"18\", \"service_date\": \"2022-06-19T00:00:00\", \"pct_w_vp\": 0.8095238095238095}, {\"agency_name\": \"Big Blue Bus\", \"route_id\": \"3494\", \"route_short_name\": \"18\", \"service_date\": \"2022-06-23T00:00:00\", \"pct_w_vp\": 0.9038461538461539}, {\"agency_name\": \"Big Blue Bus\", \"route_id\": \"3494\", \"route_short_name\": \"18\", \"service_date\": \"2022-06-17T00:00:00\", \"pct_w_vp\": 1.0}, {\"agency_name\": \"Big Blue Bus\", \"route_id\": \"3494\", \"route_short_name\": \"18\", \"service_date\": \"2022-06-15T00:00:00\", \"pct_w_vp\": 0.9615384615384616}, {\"agency_name\": \"Big Blue Bus\", \"route_id\": \"3494\", \"route_short_name\": \"18\", \"service_date\": \"2022-06-27T00:00:00\", \"pct_w_vp\": 0.7884615384615384}, {\"agency_name\": \"Big Blue Bus\", \"route_id\": \"3494\", \"route_short_name\": \"18\", \"service_date\": \"2022-06-20T00:00:00\", \"pct_w_vp\": 0.8076923076923077}, {\"agency_name\": \"Big Blue Bus\", \"route_id\": \"3494\", \"route_short_name\": \"18\", \"service_date\": \"2022-06-16T00:00:00\", \"pct_w_vp\": 1.0}, {\"agency_name\": \"Big Blue Bus\", \"route_id\": \"3494\", \"route_short_name\": \"18\", \"service_date\": \"2022-06-22T00:00:00\", \"pct_w_vp\": 1.0}, {\"agency_name\": \"Big Blue Bus\", \"route_id\": \"3494\", \"route_short_name\": \"18\", \"service_date\": \"2022-06-14T00:00:00\", \"pct_w_vp\": 0.7884615384615384}, {\"agency_name\": \"Big Blue Bus\", \"route_id\": \"3494\", \"route_short_name\": \"18\", \"service_date\": \"2022-06-30T00:00:00\", \"pct_w_vp\": 1.0}, {\"agency_name\": \"Big Blue Bus\", \"route_id\": \"3494\", \"route_short_name\": \"18\", \"service_date\": \"2022-06-21T00:00:00\", \"pct_w_vp\": 1.0}, {\"agency_name\": \"Big Blue Bus\", \"route_id\": \"3494\", \"route_short_name\": \"18\", \"service_date\": \"2022-05-29T00:00:00\", \"pct_w_vp\": 0.8571428571428571}, {\"agency_name\": \"Big Blue Bus\", \"route_id\": \"3494\", \"route_short_name\": \"18\", \"service_date\": \"2022-05-15T00:00:00\", \"pct_w_vp\": 0.8809523809523809}, {\"agency_name\": \"Big Blue Bus\", \"route_id\": \"3494\", \"route_short_name\": \"18\", \"service_date\": \"2022-06-13T00:00:00\", \"pct_w_vp\": 0.5769230769230769}, {\"agency_name\": \"Big Blue Bus\", \"route_id\": \"3494\", \"route_short_name\": \"18\", \"service_date\": \"2022-05-30T00:00:00\", \"pct_w_vp\": 1.0}, {\"agency_name\": \"Big Blue Bus\", \"route_id\": \"3494\", \"route_short_name\": \"18\", \"service_date\": \"2022-05-22T00:00:00\", \"pct_w_vp\": 0.8571428571428571}, {\"agency_name\": \"Big Blue Bus\", \"route_id\": \"3494\", \"route_short_name\": \"18\", \"service_date\": \"2022-06-29T00:00:00\", \"pct_w_vp\": 0.9807692307692307}, {\"agency_name\": \"Big Blue Bus\", \"route_id\": \"3494\", \"route_short_name\": \"18\", \"service_date\": \"2022-05-08T00:00:00\", \"pct_w_vp\": 0.8571428571428571}, {\"agency_name\": \"Big Blue Bus\", \"route_id\": \"3494\", \"route_short_name\": \"18\", \"service_date\": \"2022-05-01T00:00:00\", \"pct_w_vp\": 0.8095238095238095}, {\"agency_name\": \"Big Blue Bus\", \"route_id\": \"3494\", \"route_short_name\": \"18\", \"service_date\": \"2022-06-28T00:00:00\", \"pct_w_vp\": 0.9230769230769231}, {\"agency_name\": \"Big Blue Bus\", \"route_id\": \"3494\", \"route_short_name\": \"18\", \"service_date\": \"2022-06-24T00:00:00\", \"pct_w_vp\": 0.9038461538461539}, {\"agency_name\": \"Big Blue Bus\", \"route_id\": \"3494\", \"route_short_name\": \"18\", \"service_date\": \"2022-06-05T00:00:00\", \"pct_w_vp\": 0.8571428571428571}, {\"agency_name\": \"Big Blue Bus\", \"route_id\": \"3494\", \"route_short_name\": \"18\", \"service_date\": \"2022-06-26T00:00:00\", \"pct_w_vp\": 0.8571428571428571}, {\"agency_name\": \"Big Blue Bus\", \"route_id\": \"3494\", \"route_short_name\": \"18\", \"service_date\": \"2022-06-10T00:00:00\", \"pct_w_vp\": 1.0}, {\"agency_name\": \"Big Blue Bus\", \"route_id\": \"3498\", \"route_short_name\": \"41\", \"service_date\": \"2022-05-14T00:00:00\", \"pct_w_vp\": 0.8947368421052632}, {\"agency_name\": \"Big Blue Bus\", \"route_id\": \"3498\", \"route_short_name\": \"41\", \"service_date\": \"2022-06-11T00:00:00\", \"pct_w_vp\": 0.8947368421052632}, {\"agency_name\": \"Big Blue Bus\", \"route_id\": \"3498\", \"route_short_name\": \"41\", \"service_date\": \"2022-06-04T00:00:00\", \"pct_w_vp\": 0.8947368421052632}, {\"agency_name\": \"Big Blue Bus\", \"route_id\": \"3498\", \"route_short_name\": \"41\", \"service_date\": \"2022-05-07T00:00:00\", \"pct_w_vp\": 0.8947368421052632}, {\"agency_name\": \"Big Blue Bus\", \"route_id\": \"3498\", \"route_short_name\": \"41\", \"service_date\": \"2022-06-18T00:00:00\", \"pct_w_vp\": 0.8947368421052632}, {\"agency_name\": \"Big Blue Bus\", \"route_id\": \"3498\", \"route_short_name\": \"41\", \"service_date\": \"2022-06-25T00:00:00\", \"pct_w_vp\": 0.8947368421052632}, {\"agency_name\": \"Big Blue Bus\", \"route_id\": \"3498\", \"route_short_name\": \"41\", \"service_date\": \"2022-05-28T00:00:00\", \"pct_w_vp\": 0.8947368421052632}, {\"agency_name\": \"Big Blue Bus\", \"route_id\": \"3498\", \"route_short_name\": \"41\", \"service_date\": \"2022-05-21T00:00:00\", \"pct_w_vp\": 0.8947368421052632}, {\"agency_name\": \"Big Blue Bus\", \"route_id\": \"3501\", \"route_short_name\": \"44\", \"service_date\": \"2022-05-12T00:00:00\", \"pct_w_vp\": 0.0}, {\"agency_name\": \"Big Blue Bus\", \"route_id\": \"3501\", \"route_short_name\": \"44\", \"service_date\": \"2022-05-19T00:00:00\", \"pct_w_vp\": 0.0}, {\"agency_name\": \"Big Blue Bus\", \"route_id\": \"3501\", \"route_short_name\": \"44\", \"service_date\": \"2022-06-20T00:00:00\", \"pct_w_vp\": 0.0}, {\"agency_name\": \"Big Blue Bus\", \"route_id\": \"3501\", \"route_short_name\": \"44\", \"service_date\": \"2022-06-10T00:00:00\", \"pct_w_vp\": 0.0}, {\"agency_name\": \"Big Blue Bus\", \"route_id\": \"3501\", \"route_short_name\": \"44\", \"service_date\": \"2022-05-11T00:00:00\", \"pct_w_vp\": 0.0}, {\"agency_name\": \"Big Blue Bus\", \"route_id\": \"3501\", \"route_short_name\": \"44\", \"service_date\": \"2022-05-03T00:00:00\", \"pct_w_vp\": 0.0}, {\"agency_name\": \"Big Blue Bus\", \"route_id\": \"3501\", \"route_short_name\": \"44\", \"service_date\": \"2022-05-31T00:00:00\", \"pct_w_vp\": 0.0}, {\"agency_name\": \"Big Blue Bus\", \"route_id\": \"3501\", \"route_short_name\": \"44\", \"service_date\": \"2022-06-22T00:00:00\", \"pct_w_vp\": 0.0}, {\"agency_name\": \"Big Blue Bus\", \"route_id\": \"3501\", \"route_short_name\": \"44\", \"service_date\": \"2022-05-17T00:00:00\", \"pct_w_vp\": 0.0}, {\"agency_name\": \"Big Blue Bus\", \"route_id\": \"3501\", \"route_short_name\": \"44\", \"service_date\": \"2022-06-21T00:00:00\", \"pct_w_vp\": 0.0}, {\"agency_name\": \"Big Blue Bus\", \"route_id\": \"3501\", \"route_short_name\": \"44\", \"service_date\": \"2022-05-20T00:00:00\", \"pct_w_vp\": 0.0}, {\"agency_name\": \"Big Blue Bus\", \"route_id\": \"3501\", \"route_short_name\": \"44\", \"service_date\": \"2022-05-26T00:00:00\", \"pct_w_vp\": 0.0}, {\"agency_name\": \"Big Blue Bus\", \"route_id\": \"3501\", \"route_short_name\": \"44\", \"service_date\": \"2022-05-09T00:00:00\", \"pct_w_vp\": 0.0}, {\"agency_name\": \"Big Blue Bus\", \"route_id\": \"3501\", \"route_short_name\": \"44\", \"service_date\": \"2022-06-09T00:00:00\", \"pct_w_vp\": 0.0}, {\"agency_name\": \"Big Blue Bus\", \"route_id\": \"3501\", \"route_short_name\": \"44\", \"service_date\": \"2022-05-27T00:00:00\", \"pct_w_vp\": 0.0}, {\"agency_name\": \"Big Blue Bus\", \"route_id\": \"3501\", \"route_short_name\": \"44\", \"service_date\": \"2022-05-05T00:00:00\", \"pct_w_vp\": 0.0}, {\"agency_name\": \"Big Blue Bus\", \"route_id\": \"3501\", \"route_short_name\": \"44\", \"service_date\": \"2022-05-04T00:00:00\", \"pct_w_vp\": 0.0}, {\"agency_name\": \"Big Blue Bus\", \"route_id\": \"3501\", \"route_short_name\": \"44\", \"service_date\": \"2022-05-23T00:00:00\", \"pct_w_vp\": 0.0}, {\"agency_name\": \"Big Blue Bus\", \"route_id\": \"3501\", \"route_short_name\": \"44\", \"service_date\": \"2022-06-28T00:00:00\", \"pct_w_vp\": 0.0}, {\"agency_name\": \"Big Blue Bus\", \"route_id\": \"3501\", \"route_short_name\": \"44\", \"service_date\": \"2022-05-24T00:00:00\", \"pct_w_vp\": 0.0}, {\"agency_name\": \"Big Blue Bus\", \"route_id\": \"3501\", \"route_short_name\": \"44\", \"service_date\": \"2022-06-03T00:00:00\", \"pct_w_vp\": 0.0}, {\"agency_name\": \"Big Blue Bus\", \"route_id\": \"3501\", \"route_short_name\": \"44\", \"service_date\": \"2022-05-16T00:00:00\", \"pct_w_vp\": 0.0}, {\"agency_name\": \"Big Blue Bus\", \"route_id\": \"3501\", \"route_short_name\": \"44\", \"service_date\": \"2022-05-10T00:00:00\", \"pct_w_vp\": 0.0}, {\"agency_name\": \"Big Blue Bus\", \"route_id\": \"3501\", \"route_short_name\": \"44\", \"service_date\": \"2022-05-02T00:00:00\", \"pct_w_vp\": 0.0}, {\"agency_name\": \"Big Blue Bus\", \"route_id\": \"3501\", \"route_short_name\": \"44\", \"service_date\": \"2022-06-29T00:00:00\", \"pct_w_vp\": 0.0}, {\"agency_name\": \"Big Blue Bus\", \"route_id\": \"3501\", \"route_short_name\": \"44\", \"service_date\": \"2022-05-13T00:00:00\", \"pct_w_vp\": 0.0}, {\"agency_name\": \"Big Blue Bus\", \"route_id\": \"3501\", \"route_short_name\": \"44\", \"service_date\": \"2022-06-14T00:00:00\", \"pct_w_vp\": 0.0}, {\"agency_name\": \"Big Blue Bus\", \"route_id\": \"3501\", \"route_short_name\": \"44\", \"service_date\": \"2022-06-07T00:00:00\", \"pct_w_vp\": 0.0}, {\"agency_name\": \"Big Blue Bus\", \"route_id\": \"3501\", \"route_short_name\": \"44\", \"service_date\": \"2022-06-27T00:00:00\", \"pct_w_vp\": 0.0}, {\"agency_name\": \"Big Blue Bus\", \"route_id\": \"3501\", \"route_short_name\": \"44\", \"service_date\": \"2022-06-06T00:00:00\", \"pct_w_vp\": 0.0}, {\"agency_name\": \"Big Blue Bus\", \"route_id\": \"3501\", \"route_short_name\": \"44\", \"service_date\": \"2022-06-08T00:00:00\", \"pct_w_vp\": 0.0}, {\"agency_name\": \"Big Blue Bus\", \"route_id\": \"3501\", \"route_short_name\": \"44\", \"service_date\": \"2022-06-01T00:00:00\", \"pct_w_vp\": 0.0}, {\"agency_name\": \"Big Blue Bus\", \"route_id\": \"3501\", \"route_short_name\": \"44\", \"service_date\": \"2022-05-18T00:00:00\", \"pct_w_vp\": 0.0}, {\"agency_name\": \"Big Blue Bus\", \"route_id\": \"3501\", \"route_short_name\": \"44\", \"service_date\": \"2022-05-25T00:00:00\", \"pct_w_vp\": 0.0}, {\"agency_name\": \"Big Blue Bus\", \"route_id\": \"3501\", \"route_short_name\": \"44\", \"service_date\": \"2022-06-24T00:00:00\", \"pct_w_vp\": 0.0}, {\"agency_name\": \"Big Blue Bus\", \"route_id\": \"3501\", \"route_short_name\": \"44\", \"service_date\": \"2022-06-23T00:00:00\", \"pct_w_vp\": 0.0}, {\"agency_name\": \"Big Blue Bus\", \"route_id\": \"3501\", \"route_short_name\": \"44\", \"service_date\": \"2022-06-13T00:00:00\", \"pct_w_vp\": 0.0}, {\"agency_name\": \"Big Blue Bus\", \"route_id\": \"3501\", \"route_short_name\": \"44\", \"service_date\": \"2022-05-06T00:00:00\", \"pct_w_vp\": 0.0}, {\"agency_name\": \"Big Blue Bus\", \"route_id\": \"3501\", \"route_short_name\": \"44\", \"service_date\": \"2022-06-02T00:00:00\", \"pct_w_vp\": 0.0}, {\"agency_name\": \"Big Blue Bus\", \"route_id\": \"3501\", \"route_short_name\": \"44\", \"service_date\": \"2022-06-30T00:00:00\", \"pct_w_vp\": 0.0}, {\"agency_name\": \"Big Blue Bus\", \"route_id\": \"3488\", \"route_short_name\": \"R10\", \"service_date\": \"2022-05-17T00:00:00\", \"pct_w_vp\": 1.0}, {\"agency_name\": \"Big Blue Bus\", \"route_id\": \"3488\", \"route_short_name\": \"R10\", \"service_date\": \"2022-06-23T00:00:00\", \"pct_w_vp\": 0.8333333333333334}, {\"agency_name\": \"Big Blue Bus\", \"route_id\": \"3488\", \"route_short_name\": \"R10\", \"service_date\": \"2022-06-01T00:00:00\", \"pct_w_vp\": 1.0}, {\"agency_name\": \"Big Blue Bus\", \"route_id\": \"3488\", \"route_short_name\": \"R10\", \"service_date\": \"2022-05-27T00:00:00\", \"pct_w_vp\": 1.0}, {\"agency_name\": \"Big Blue Bus\", \"route_id\": \"3488\", \"route_short_name\": \"R10\", \"service_date\": \"2022-06-13T00:00:00\", \"pct_w_vp\": 0.6666666666666666}, {\"agency_name\": \"Big Blue Bus\", \"route_id\": \"3488\", \"route_short_name\": \"R10\", \"service_date\": \"2022-05-12T00:00:00\", \"pct_w_vp\": 0.8333333333333334}, {\"agency_name\": \"Big Blue Bus\", \"route_id\": \"3488\", \"route_short_name\": \"R10\", \"service_date\": \"2022-06-28T00:00:00\", \"pct_w_vp\": 1.0}, {\"agency_name\": \"Big Blue Bus\", \"route_id\": \"3488\", \"route_short_name\": \"R10\", \"service_date\": \"2022-05-24T00:00:00\", \"pct_w_vp\": 0.8333333333333334}, {\"agency_name\": \"Big Blue Bus\", \"route_id\": \"3488\", \"route_short_name\": \"R10\", \"service_date\": \"2022-05-06T00:00:00\", \"pct_w_vp\": 1.0}, {\"agency_name\": \"Big Blue Bus\", \"route_id\": \"3488\", \"route_short_name\": \"R10\", \"service_date\": \"2022-06-09T00:00:00\", \"pct_w_vp\": 1.0}, {\"agency_name\": \"Big Blue Bus\", \"route_id\": \"3488\", \"route_short_name\": \"R10\", \"service_date\": \"2022-05-13T00:00:00\", \"pct_w_vp\": 1.0}, {\"agency_name\": \"Big Blue Bus\", \"route_id\": \"3488\", \"route_short_name\": \"R10\", \"service_date\": \"2022-05-18T00:00:00\", \"pct_w_vp\": 0.8333333333333334}, {\"agency_name\": \"Big Blue Bus\", \"route_id\": \"3488\", \"route_short_name\": \"R10\", \"service_date\": \"2022-06-30T00:00:00\", \"pct_w_vp\": 1.0}, {\"agency_name\": \"Big Blue Bus\", \"route_id\": \"3488\", \"route_short_name\": \"R10\", \"service_date\": \"2022-05-20T00:00:00\", \"pct_w_vp\": 1.0}, {\"agency_name\": \"Big Blue Bus\", \"route_id\": \"3488\", \"route_short_name\": \"R10\", \"service_date\": \"2022-06-07T00:00:00\", \"pct_w_vp\": 1.0}, {\"agency_name\": \"Big Blue Bus\", \"route_id\": \"3488\", \"route_short_name\": \"R10\", \"service_date\": \"2022-05-23T00:00:00\", \"pct_w_vp\": 0.6666666666666666}, {\"agency_name\": \"Big Blue Bus\", \"route_id\": \"3488\", \"route_short_name\": \"R10\", \"service_date\": \"2022-06-16T00:00:00\", \"pct_w_vp\": 1.0}, {\"agency_name\": \"Big Blue Bus\", \"route_id\": \"3488\", \"route_short_name\": \"R10\", \"service_date\": \"2022-06-27T00:00:00\", \"pct_w_vp\": 0.6666666666666666}, {\"agency_name\": \"Big Blue Bus\", \"route_id\": \"3488\", \"route_short_name\": \"R10\", \"service_date\": \"2022-05-05T00:00:00\", \"pct_w_vp\": 0.8333333333333334}, {\"agency_name\": \"Big Blue Bus\", \"route_id\": \"3488\", \"route_short_name\": \"R10\", \"service_date\": \"2022-06-02T00:00:00\", \"pct_w_vp\": 1.0}, {\"agency_name\": \"Big Blue Bus\", \"route_id\": \"3488\", \"route_short_name\": \"R10\", \"service_date\": \"2022-06-15T00:00:00\", \"pct_w_vp\": 1.0}, {\"agency_name\": \"Big Blue Bus\", \"route_id\": \"3488\", \"route_short_name\": \"R10\", \"service_date\": \"2022-05-10T00:00:00\", \"pct_w_vp\": 1.0}, {\"agency_name\": \"Big Blue Bus\", \"route_id\": \"3488\", \"route_short_name\": \"R10\", \"service_date\": \"2022-06-03T00:00:00\", \"pct_w_vp\": 1.0}, {\"agency_name\": \"Big Blue Bus\", \"route_id\": \"3488\", \"route_short_name\": \"R10\", \"service_date\": \"2022-06-24T00:00:00\", \"pct_w_vp\": 0.8333333333333334}, {\"agency_name\": \"Big Blue Bus\", \"route_id\": \"3488\", \"route_short_name\": \"R10\", \"service_date\": \"2022-06-06T00:00:00\", \"pct_w_vp\": 0.6666666666666666}, {\"agency_name\": \"Big Blue Bus\", \"route_id\": \"3488\", \"route_short_name\": \"R10\", \"service_date\": \"2022-05-11T00:00:00\", \"pct_w_vp\": 1.0}, {\"agency_name\": \"Big Blue Bus\", \"route_id\": \"3488\", \"route_short_name\": \"R10\", \"service_date\": \"2022-06-21T00:00:00\", \"pct_w_vp\": 1.0}, {\"agency_name\": \"Big Blue Bus\", \"route_id\": \"3488\", \"route_short_name\": \"R10\", \"service_date\": \"2022-06-20T00:00:00\", \"pct_w_vp\": 0.8333333333333334}, {\"agency_name\": \"Big Blue Bus\", \"route_id\": \"3488\", \"route_short_name\": \"R10\", \"service_date\": \"2022-06-29T00:00:00\", \"pct_w_vp\": 1.0}, {\"agency_name\": \"Big Blue Bus\", \"route_id\": \"3488\", \"route_short_name\": \"R10\", \"service_date\": \"2022-05-31T00:00:00\", \"pct_w_vp\": 0.6666666666666666}, {\"agency_name\": \"Big Blue Bus\", \"route_id\": \"3488\", \"route_short_name\": \"R10\", \"service_date\": \"2022-05-19T00:00:00\", \"pct_w_vp\": 1.0}, {\"agency_name\": \"Big Blue Bus\", \"route_id\": \"3488\", \"route_short_name\": \"R10\", \"service_date\": \"2022-06-22T00:00:00\", \"pct_w_vp\": 1.0}, {\"agency_name\": \"Big Blue Bus\", \"route_id\": \"3488\", \"route_short_name\": \"R10\", \"service_date\": \"2022-05-25T00:00:00\", \"pct_w_vp\": 0.8333333333333334}, {\"agency_name\": \"Big Blue Bus\", \"route_id\": \"3488\", \"route_short_name\": \"R10\", \"service_date\": \"2022-06-10T00:00:00\", \"pct_w_vp\": 1.0}, {\"agency_name\": \"Big Blue Bus\", \"route_id\": \"3488\", \"route_short_name\": \"R10\", \"service_date\": \"2022-05-03T00:00:00\", \"pct_w_vp\": 0.8333333333333334}, {\"agency_name\": \"Big Blue Bus\", \"route_id\": \"3488\", \"route_short_name\": \"R10\", \"service_date\": \"2022-05-16T00:00:00\", \"pct_w_vp\": 0.6666666666666666}, {\"agency_name\": \"Big Blue Bus\", \"route_id\": \"3488\", \"route_short_name\": \"R10\", \"service_date\": \"2022-06-14T00:00:00\", \"pct_w_vp\": 1.0}, {\"agency_name\": \"Big Blue Bus\", \"route_id\": \"3488\", \"route_short_name\": \"R10\", \"service_date\": \"2022-05-09T00:00:00\", \"pct_w_vp\": 0.8333333333333334}, {\"agency_name\": \"Big Blue Bus\", \"route_id\": \"3488\", \"route_short_name\": \"R10\", \"service_date\": \"2022-06-08T00:00:00\", \"pct_w_vp\": 1.0}, {\"agency_name\": \"Big Blue Bus\", \"route_id\": \"3488\", \"route_short_name\": \"R10\", \"service_date\": \"2022-05-26T00:00:00\", \"pct_w_vp\": 1.0}, {\"agency_name\": \"Big Blue Bus\", \"route_id\": \"3488\", \"route_short_name\": \"R10\", \"service_date\": \"2022-05-02T00:00:00\", \"pct_w_vp\": 0.6666666666666666}, {\"agency_name\": \"Big Blue Bus\", \"route_id\": \"3488\", \"route_short_name\": \"R10\", \"service_date\": \"2022-06-17T00:00:00\", \"pct_w_vp\": 1.0}, {\"agency_name\": \"Big Blue Bus\", \"route_id\": \"3488\", \"route_short_name\": \"R10\", \"service_date\": \"2022-05-04T00:00:00\", \"pct_w_vp\": 1.0}, {\"agency_name\": \"Big Blue Bus\", \"route_id\": \"3483\", \"route_short_name\": \"5\", \"service_date\": \"2022-05-09T00:00:00\", \"pct_w_vp\": 0.9166666666666666}, {\"agency_name\": \"Big Blue Bus\", \"route_id\": \"3483\", \"route_short_name\": \"5\", \"service_date\": \"2022-06-24T00:00:00\", \"pct_w_vp\": 0.9583333333333334}, {\"agency_name\": \"Big Blue Bus\", \"route_id\": \"3483\", \"route_short_name\": \"5\", \"service_date\": \"2022-05-05T00:00:00\", \"pct_w_vp\": 1.0}, {\"agency_name\": \"Big Blue Bus\", \"route_id\": \"3483\", \"route_short_name\": \"5\", \"service_date\": \"2022-05-11T00:00:00\", \"pct_w_vp\": 1.0}, {\"agency_name\": \"Big Blue Bus\", \"route_id\": \"3483\", \"route_short_name\": \"5\", \"service_date\": \"2022-05-25T00:00:00\", \"pct_w_vp\": 0.75}, {\"agency_name\": \"Big Blue Bus\", \"route_id\": \"3483\", \"route_short_name\": \"5\", \"service_date\": \"2022-06-03T00:00:00\", \"pct_w_vp\": 0.9583333333333334}, {\"agency_name\": \"Big Blue Bus\", \"route_id\": \"3483\", \"route_short_name\": \"5\", \"service_date\": \"2022-06-21T00:00:00\", \"pct_w_vp\": 1.0}, {\"agency_name\": \"Big Blue Bus\", \"route_id\": \"3483\", \"route_short_name\": \"5\", \"service_date\": \"2022-05-31T00:00:00\", \"pct_w_vp\": 0.9166666666666666}, {\"agency_name\": \"Big Blue Bus\", \"route_id\": \"3483\", \"route_short_name\": \"5\", \"service_date\": \"2022-06-07T00:00:00\", \"pct_w_vp\": 1.0}, {\"agency_name\": \"Big Blue Bus\", \"route_id\": \"3483\", \"route_short_name\": \"5\", \"service_date\": \"2022-06-28T00:00:00\", \"pct_w_vp\": 0.875}, {\"agency_name\": \"Big Blue Bus\", \"route_id\": \"3483\", \"route_short_name\": \"5\", \"service_date\": \"2022-06-20T00:00:00\", \"pct_w_vp\": 0.875}, {\"agency_name\": \"Big Blue Bus\", \"route_id\": \"3483\", \"route_short_name\": \"5\", \"service_date\": \"2022-06-14T00:00:00\", \"pct_w_vp\": 1.0}, {\"agency_name\": \"Big Blue Bus\", \"route_id\": \"3483\", \"route_short_name\": \"5\", \"service_date\": \"2022-05-02T00:00:00\", \"pct_w_vp\": 0.8333333333333334}, {\"agency_name\": \"Big Blue Bus\", \"route_id\": \"3483\", \"route_short_name\": \"5\", \"service_date\": \"2022-06-22T00:00:00\", \"pct_w_vp\": 1.0}, {\"agency_name\": \"Big Blue Bus\", \"route_id\": \"3483\", \"route_short_name\": \"5\", \"service_date\": \"2022-05-19T00:00:00\", \"pct_w_vp\": 1.0}, {\"agency_name\": \"Big Blue Bus\", \"route_id\": \"3483\", \"route_short_name\": \"5\", \"service_date\": \"2022-06-01T00:00:00\", \"pct_w_vp\": 1.0}, {\"agency_name\": \"Big Blue Bus\", \"route_id\": \"3483\", \"route_short_name\": \"5\", \"service_date\": \"2022-06-29T00:00:00\", \"pct_w_vp\": 1.0}, {\"agency_name\": \"Big Blue Bus\", \"route_id\": \"3483\", \"route_short_name\": \"5\", \"service_date\": \"2022-05-17T00:00:00\", \"pct_w_vp\": 0.9166666666666666}, {\"agency_name\": \"Big Blue Bus\", \"route_id\": \"3483\", \"route_short_name\": \"5\", \"service_date\": \"2022-05-27T00:00:00\", \"pct_w_vp\": 1.0}, {\"agency_name\": \"Big Blue Bus\", \"route_id\": \"3483\", \"route_short_name\": \"5\", \"service_date\": \"2022-05-10T00:00:00\", \"pct_w_vp\": 0.9166666666666666}, {\"agency_name\": \"Big Blue Bus\", \"route_id\": \"3483\", \"route_short_name\": \"5\", \"service_date\": \"2022-06-08T00:00:00\", \"pct_w_vp\": 1.0}, {\"agency_name\": \"Big Blue Bus\", \"route_id\": \"3483\", \"route_short_name\": \"5\", \"service_date\": \"2022-06-13T00:00:00\", \"pct_w_vp\": 0.9166666666666666}, {\"agency_name\": \"Big Blue Bus\", \"route_id\": \"3483\", \"route_short_name\": \"5\", \"service_date\": \"2022-05-13T00:00:00\", \"pct_w_vp\": 1.0}, {\"agency_name\": \"Big Blue Bus\", \"route_id\": \"3483\", \"route_short_name\": \"5\", \"service_date\": \"2022-05-18T00:00:00\", \"pct_w_vp\": 1.0}, {\"agency_name\": \"Big Blue Bus\", \"route_id\": \"3483\", \"route_short_name\": \"5\", \"service_date\": \"2022-06-02T00:00:00\", \"pct_w_vp\": 0.8333333333333334}, {\"agency_name\": \"Big Blue Bus\", \"route_id\": \"3483\", \"route_short_name\": \"5\", \"service_date\": \"2022-05-03T00:00:00\", \"pct_w_vp\": 1.0}, {\"agency_name\": \"Big Blue Bus\", \"route_id\": \"3483\", \"route_short_name\": \"5\", \"service_date\": \"2022-06-23T00:00:00\", \"pct_w_vp\": 1.0}, {\"agency_name\": \"Big Blue Bus\", \"route_id\": \"3483\", \"route_short_name\": \"5\", \"service_date\": \"2022-05-04T00:00:00\", \"pct_w_vp\": 1.0}, {\"agency_name\": \"Big Blue Bus\", \"route_id\": \"3483\", \"route_short_name\": \"5\", \"service_date\": \"2022-06-27T00:00:00\", \"pct_w_vp\": 0.875}, {\"agency_name\": \"Big Blue Bus\", \"route_id\": \"3483\", \"route_short_name\": \"5\", \"service_date\": \"2022-06-15T00:00:00\", \"pct_w_vp\": 0.9583333333333334}, {\"agency_name\": \"Big Blue Bus\", \"route_id\": \"3483\", \"route_short_name\": \"5\", \"service_date\": \"2022-05-24T00:00:00\", \"pct_w_vp\": 0.9583333333333334}, {\"agency_name\": \"Big Blue Bus\", \"route_id\": \"3483\", \"route_short_name\": \"5\", \"service_date\": \"2022-06-10T00:00:00\", \"pct_w_vp\": 0.8333333333333334}, {\"agency_name\": \"Big Blue Bus\", \"route_id\": \"3483\", \"route_short_name\": \"5\", \"service_date\": \"2022-05-06T00:00:00\", \"pct_w_vp\": 1.0}, {\"agency_name\": \"Big Blue Bus\", \"route_id\": \"3483\", \"route_short_name\": \"5\", \"service_date\": \"2022-06-09T00:00:00\", \"pct_w_vp\": 1.0}, {\"agency_name\": \"Big Blue Bus\", \"route_id\": \"3483\", \"route_short_name\": \"5\", \"service_date\": \"2022-05-23T00:00:00\", \"pct_w_vp\": 0.9166666666666666}, {\"agency_name\": \"Big Blue Bus\", \"route_id\": \"3483\", \"route_short_name\": \"5\", \"service_date\": \"2022-05-12T00:00:00\", \"pct_w_vp\": 1.0}, {\"agency_name\": \"Big Blue Bus\", \"route_id\": \"3483\", \"route_short_name\": \"5\", \"service_date\": \"2022-06-17T00:00:00\", \"pct_w_vp\": 1.0}, {\"agency_name\": \"Big Blue Bus\", \"route_id\": \"3483\", \"route_short_name\": \"5\", \"service_date\": \"2022-06-16T00:00:00\", \"pct_w_vp\": 1.0}, {\"agency_name\": \"Big Blue Bus\", \"route_id\": \"3483\", \"route_short_name\": \"5\", \"service_date\": \"2022-06-06T00:00:00\", \"pct_w_vp\": 0.875}, {\"agency_name\": \"Big Blue Bus\", \"route_id\": \"3483\", \"route_short_name\": \"5\", \"service_date\": \"2022-05-26T00:00:00\", \"pct_w_vp\": 0.875}, {\"agency_name\": \"Big Blue Bus\", \"route_id\": \"3483\", \"route_short_name\": \"5\", \"service_date\": \"2022-05-20T00:00:00\", \"pct_w_vp\": 0.9583333333333334}, {\"agency_name\": \"Big Blue Bus\", \"route_id\": \"3483\", \"route_short_name\": \"5\", \"service_date\": \"2022-06-30T00:00:00\", \"pct_w_vp\": 0.9583333333333334}, {\"agency_name\": \"Big Blue Bus\", \"route_id\": \"3483\", \"route_short_name\": \"5\", \"service_date\": \"2022-05-16T00:00:00\", \"pct_w_vp\": 0.8333333333333334}, {\"agency_name\": \"Big Blue Bus\", \"route_id\": \"3491\", \"route_short_name\": \"15\", \"service_date\": \"2022-06-23T00:00:00\", \"pct_w_vp\": 1.0}, {\"agency_name\": \"Big Blue Bus\", \"route_id\": \"3491\", \"route_short_name\": \"15\", \"service_date\": \"2022-06-08T00:00:00\", \"pct_w_vp\": 1.0}, {\"agency_name\": \"Big Blue Bus\", \"route_id\": \"3491\", \"route_short_name\": \"15\", \"service_date\": \"2022-06-30T00:00:00\", \"pct_w_vp\": 1.0}, {\"agency_name\": \"Big Blue Bus\", \"route_id\": \"3491\", \"route_short_name\": \"15\", \"service_date\": \"2022-05-13T00:00:00\", \"pct_w_vp\": 1.0}, {\"agency_name\": \"Big Blue Bus\", \"route_id\": \"3491\", \"route_short_name\": \"15\", \"service_date\": \"2022-05-10T00:00:00\", \"pct_w_vp\": 1.0}, {\"agency_name\": \"Big Blue Bus\", \"route_id\": \"3491\", \"route_short_name\": \"15\", \"service_date\": \"2022-05-19T00:00:00\", \"pct_w_vp\": 1.0}, {\"agency_name\": \"Big Blue Bus\", \"route_id\": \"3491\", \"route_short_name\": \"15\", \"service_date\": \"2022-06-01T00:00:00\", \"pct_w_vp\": 1.0}, {\"agency_name\": \"Big Blue Bus\", \"route_id\": \"3491\", \"route_short_name\": \"15\", \"service_date\": \"2022-05-03T00:00:00\", \"pct_w_vp\": 1.0}, {\"agency_name\": \"Big Blue Bus\", \"route_id\": \"3491\", \"route_short_name\": \"15\", \"service_date\": \"2022-05-18T00:00:00\", \"pct_w_vp\": 1.0}, {\"agency_name\": \"Big Blue Bus\", \"route_id\": \"3491\", \"route_short_name\": \"15\", \"service_date\": \"2022-06-02T00:00:00\", \"pct_w_vp\": 1.0}, {\"agency_name\": \"Big Blue Bus\", \"route_id\": \"3491\", \"route_short_name\": \"15\", \"service_date\": \"2022-06-10T00:00:00\", \"pct_w_vp\": 0.9259259259259259}, {\"agency_name\": \"Big Blue Bus\", \"route_id\": \"3491\", \"route_short_name\": \"15\", \"service_date\": \"2022-06-16T00:00:00\", \"pct_w_vp\": 1.0}, {\"agency_name\": \"Big Blue Bus\", \"route_id\": \"3491\", \"route_short_name\": \"15\", \"service_date\": \"2022-05-04T00:00:00\", \"pct_w_vp\": 1.0}, {\"agency_name\": \"Big Blue Bus\", \"route_id\": \"3491\", \"route_short_name\": \"15\", \"service_date\": \"2022-06-28T00:00:00\", \"pct_w_vp\": 1.0}, {\"agency_name\": \"Big Blue Bus\", \"route_id\": \"3491\", \"route_short_name\": \"15\", \"service_date\": \"2022-06-20T00:00:00\", \"pct_w_vp\": 0.8888888888888888}, {\"agency_name\": \"Big Blue Bus\", \"route_id\": \"3491\", \"route_short_name\": \"15\", \"service_date\": \"2022-05-25T00:00:00\", \"pct_w_vp\": 1.0}, {\"agency_name\": \"Big Blue Bus\", \"route_id\": \"3491\", \"route_short_name\": \"15\", \"service_date\": \"2022-05-17T00:00:00\", \"pct_w_vp\": 1.0}, {\"agency_name\": \"Big Blue Bus\", \"route_id\": \"3491\", \"route_short_name\": \"15\", \"service_date\": \"2022-06-14T00:00:00\", \"pct_w_vp\": 1.0}, {\"agency_name\": \"Big Blue Bus\", \"route_id\": \"3491\", \"route_short_name\": \"15\", \"service_date\": \"2022-05-24T00:00:00\", \"pct_w_vp\": 1.0}, {\"agency_name\": \"Big Blue Bus\", \"route_id\": \"3491\", \"route_short_name\": \"15\", \"service_date\": \"2022-06-27T00:00:00\", \"pct_w_vp\": 0.8888888888888888}, {\"agency_name\": \"Big Blue Bus\", \"route_id\": \"3491\", \"route_short_name\": \"15\", \"service_date\": \"2022-06-13T00:00:00\", \"pct_w_vp\": 0.8888888888888888}, {\"agency_name\": \"Big Blue Bus\", \"route_id\": \"3491\", \"route_short_name\": \"15\", \"service_date\": \"2022-05-31T00:00:00\", \"pct_w_vp\": 0.8888888888888888}, {\"agency_name\": \"Big Blue Bus\", \"route_id\": \"3491\", \"route_short_name\": \"15\", \"service_date\": \"2022-05-12T00:00:00\", \"pct_w_vp\": 1.0}, {\"agency_name\": \"Big Blue Bus\", \"route_id\": \"3491\", \"route_short_name\": \"15\", \"service_date\": \"2022-05-06T00:00:00\", \"pct_w_vp\": 1.0}, {\"agency_name\": \"Big Blue Bus\", \"route_id\": \"3491\", \"route_short_name\": \"15\", \"service_date\": \"2022-05-20T00:00:00\", \"pct_w_vp\": 0.8518518518518519}, {\"agency_name\": \"Big Blue Bus\", \"route_id\": \"3491\", \"route_short_name\": \"15\", \"service_date\": \"2022-05-02T00:00:00\", \"pct_w_vp\": 0.8518518518518519}, {\"agency_name\": \"Big Blue Bus\", \"route_id\": \"3491\", \"route_short_name\": \"15\", \"service_date\": \"2022-06-06T00:00:00\", \"pct_w_vp\": 0.8888888888888888}, {\"agency_name\": \"Big Blue Bus\", \"route_id\": \"3491\", \"route_short_name\": \"15\", \"service_date\": \"2022-06-03T00:00:00\", \"pct_w_vp\": 0.18518518518518517}, {\"agency_name\": \"Big Blue Bus\", \"route_id\": \"3491\", \"route_short_name\": \"15\", \"service_date\": \"2022-06-22T00:00:00\", \"pct_w_vp\": 1.0}, {\"agency_name\": \"Big Blue Bus\", \"route_id\": \"3491\", \"route_short_name\": \"15\", \"service_date\": \"2022-05-23T00:00:00\", \"pct_w_vp\": 0.8518518518518519}, {\"agency_name\": \"Big Blue Bus\", \"route_id\": \"3491\", \"route_short_name\": \"15\", \"service_date\": \"2022-06-24T00:00:00\", \"pct_w_vp\": 1.0}, {\"agency_name\": \"Big Blue Bus\", \"route_id\": \"3491\", \"route_short_name\": \"15\", \"service_date\": \"2022-05-26T00:00:00\", \"pct_w_vp\": 1.0}, {\"agency_name\": \"Big Blue Bus\", \"route_id\": \"3491\", \"route_short_name\": \"15\", \"service_date\": \"2022-06-29T00:00:00\", \"pct_w_vp\": 1.0}, {\"agency_name\": \"Big Blue Bus\", \"route_id\": \"3491\", \"route_short_name\": \"15\", \"service_date\": \"2022-06-15T00:00:00\", \"pct_w_vp\": 1.0}, {\"agency_name\": \"Big Blue Bus\", \"route_id\": \"3491\", \"route_short_name\": \"15\", \"service_date\": \"2022-05-11T00:00:00\", \"pct_w_vp\": 1.0}, {\"agency_name\": \"Big Blue Bus\", \"route_id\": \"3491\", \"route_short_name\": \"15\", \"service_date\": \"2022-05-27T00:00:00\", \"pct_w_vp\": 1.0}, {\"agency_name\": \"Big Blue Bus\", \"route_id\": \"3491\", \"route_short_name\": \"15\", \"service_date\": \"2022-06-21T00:00:00\", \"pct_w_vp\": 0.8148148148148148}, {\"agency_name\": \"Big Blue Bus\", \"route_id\": \"3491\", \"route_short_name\": \"15\", \"service_date\": \"2022-05-16T00:00:00\", \"pct_w_vp\": 0.7037037037037037}, {\"agency_name\": \"Big Blue Bus\", \"route_id\": \"3491\", \"route_short_name\": \"15\", \"service_date\": \"2022-06-07T00:00:00\", \"pct_w_vp\": 1.0}, {\"agency_name\": \"Big Blue Bus\", \"route_id\": \"3491\", \"route_short_name\": \"15\", \"service_date\": \"2022-06-17T00:00:00\", \"pct_w_vp\": 1.0}, {\"agency_name\": \"Big Blue Bus\", \"route_id\": \"3491\", \"route_short_name\": \"15\", \"service_date\": \"2022-06-09T00:00:00\", \"pct_w_vp\": 1.0}, {\"agency_name\": \"Big Blue Bus\", \"route_id\": \"3491\", \"route_short_name\": \"15\", \"service_date\": \"2022-05-09T00:00:00\", \"pct_w_vp\": 0.8518518518518519}, {\"agency_name\": \"Big Blue Bus\", \"route_id\": \"3491\", \"route_short_name\": \"15\", \"service_date\": \"2022-05-05T00:00:00\", \"pct_w_vp\": 1.0}, {\"agency_name\": \"Big Blue Bus\", \"route_id\": \"3500\", \"route_short_name\": \"43\", \"service_date\": \"2022-06-24T00:00:00\", \"pct_w_vp\": 0.8857142857142857}, {\"agency_name\": \"Big Blue Bus\", \"route_id\": \"3500\", \"route_short_name\": \"43\", \"service_date\": \"2022-06-14T00:00:00\", \"pct_w_vp\": 1.0}, {\"agency_name\": \"Big Blue Bus\", \"route_id\": \"3500\", \"route_short_name\": \"43\", \"service_date\": \"2022-06-27T00:00:00\", \"pct_w_vp\": 0.8571428571428571}, {\"agency_name\": \"Big Blue Bus\", \"route_id\": \"3500\", \"route_short_name\": \"43\", \"service_date\": \"2022-06-08T00:00:00\", \"pct_w_vp\": 1.0}, {\"agency_name\": \"Big Blue Bus\", \"route_id\": \"3500\", \"route_short_name\": \"43\", \"service_date\": \"2022-06-15T00:00:00\", \"pct_w_vp\": 1.0}, {\"agency_name\": \"Big Blue Bus\", \"route_id\": \"3500\", \"route_short_name\": \"43\", \"service_date\": \"2022-05-05T00:00:00\", \"pct_w_vp\": 1.0}, {\"agency_name\": \"Big Blue Bus\", \"route_id\": \"3500\", \"route_short_name\": \"43\", \"service_date\": \"2022-06-01T00:00:00\", \"pct_w_vp\": 1.0}, {\"agency_name\": \"Big Blue Bus\", \"route_id\": \"3500\", \"route_short_name\": \"43\", \"service_date\": \"2022-05-10T00:00:00\", \"pct_w_vp\": 1.0}, {\"agency_name\": \"Big Blue Bus\", \"route_id\": \"3500\", \"route_short_name\": \"43\", \"service_date\": \"2022-06-23T00:00:00\", \"pct_w_vp\": 1.0}, {\"agency_name\": \"Big Blue Bus\", \"route_id\": \"3500\", \"route_short_name\": \"43\", \"service_date\": \"2022-06-17T00:00:00\", \"pct_w_vp\": 1.0}, {\"agency_name\": \"Big Blue Bus\", \"route_id\": \"3500\", \"route_short_name\": \"43\", \"service_date\": \"2022-06-07T00:00:00\", \"pct_w_vp\": 1.0}, {\"agency_name\": \"Big Blue Bus\", \"route_id\": \"3500\", \"route_short_name\": \"43\", \"service_date\": \"2022-05-13T00:00:00\", \"pct_w_vp\": 0.8}, {\"agency_name\": \"Big Blue Bus\", \"route_id\": \"3500\", \"route_short_name\": \"43\", \"service_date\": \"2022-05-02T00:00:00\", \"pct_w_vp\": 0.8571428571428571}, {\"agency_name\": \"Big Blue Bus\", \"route_id\": \"3500\", \"route_short_name\": \"43\", \"service_date\": \"2022-06-03T00:00:00\", \"pct_w_vp\": 0.8}, {\"agency_name\": \"Big Blue Bus\", \"route_id\": \"3500\", \"route_short_name\": \"43\", \"service_date\": \"2022-06-20T00:00:00\", \"pct_w_vp\": 0.8571428571428571}, {\"agency_name\": \"Big Blue Bus\", \"route_id\": \"3500\", \"route_short_name\": \"43\", \"service_date\": \"2022-06-29T00:00:00\", \"pct_w_vp\": 1.0}, {\"agency_name\": \"Big Blue Bus\", \"route_id\": \"3500\", \"route_short_name\": \"43\", \"service_date\": \"2022-05-18T00:00:00\", \"pct_w_vp\": 1.0}, {\"agency_name\": \"Big Blue Bus\", \"route_id\": \"3500\", \"route_short_name\": \"43\", \"service_date\": \"2022-05-27T00:00:00\", \"pct_w_vp\": 1.0}, {\"agency_name\": \"Big Blue Bus\", \"route_id\": \"3500\", \"route_short_name\": \"43\", \"service_date\": \"2022-05-20T00:00:00\", \"pct_w_vp\": 0.9142857142857143}, {\"agency_name\": \"Big Blue Bus\", \"route_id\": \"3500\", \"route_short_name\": \"43\", \"service_date\": \"2022-05-09T00:00:00\", \"pct_w_vp\": 0.8571428571428571}, {\"agency_name\": \"Big Blue Bus\", \"route_id\": \"3500\", \"route_short_name\": \"43\", \"service_date\": \"2022-05-19T00:00:00\", \"pct_w_vp\": 1.0}, {\"agency_name\": \"Big Blue Bus\", \"route_id\": \"3500\", \"route_short_name\": \"43\", \"service_date\": \"2022-05-25T00:00:00\", \"pct_w_vp\": 0.9142857142857143}, {\"agency_name\": \"Big Blue Bus\", \"route_id\": \"3500\", \"route_short_name\": \"43\", \"service_date\": \"2022-06-16T00:00:00\", \"pct_w_vp\": 1.0}, {\"agency_name\": \"Big Blue Bus\", \"route_id\": \"3500\", \"route_short_name\": \"43\", \"service_date\": \"2022-05-26T00:00:00\", \"pct_w_vp\": 1.0}, {\"agency_name\": \"Big Blue Bus\", \"route_id\": \"3500\", \"route_short_name\": \"43\", \"service_date\": \"2022-05-03T00:00:00\", \"pct_w_vp\": 1.0}, {\"agency_name\": \"Big Blue Bus\", \"route_id\": \"3500\", \"route_short_name\": \"43\", \"service_date\": \"2022-06-30T00:00:00\", \"pct_w_vp\": 1.0}, {\"agency_name\": \"Big Blue Bus\", \"route_id\": \"3500\", \"route_short_name\": \"43\", \"service_date\": \"2022-05-11T00:00:00\", \"pct_w_vp\": 1.0}, {\"agency_name\": \"Big Blue Bus\", \"route_id\": \"3500\", \"route_short_name\": \"43\", \"service_date\": \"2022-05-17T00:00:00\", \"pct_w_vp\": 0.9428571428571428}, {\"agency_name\": \"Big Blue Bus\", \"route_id\": \"3500\", \"route_short_name\": \"43\", \"service_date\": \"2022-06-10T00:00:00\", \"pct_w_vp\": 0.8}, {\"agency_name\": \"Big Blue Bus\", \"route_id\": \"3500\", \"route_short_name\": \"43\", \"service_date\": \"2022-05-04T00:00:00\", \"pct_w_vp\": 1.0}, {\"agency_name\": \"Big Blue Bus\", \"route_id\": \"3500\", \"route_short_name\": \"43\", \"service_date\": \"2022-06-28T00:00:00\", \"pct_w_vp\": 0.9714285714285714}, {\"agency_name\": \"Big Blue Bus\", \"route_id\": \"3500\", \"route_short_name\": \"43\", \"service_date\": \"2022-05-31T00:00:00\", \"pct_w_vp\": 0.8571428571428571}, {\"agency_name\": \"Big Blue Bus\", \"route_id\": \"3500\", \"route_short_name\": \"43\", \"service_date\": \"2022-05-24T00:00:00\", \"pct_w_vp\": 1.0}, {\"agency_name\": \"Big Blue Bus\", \"route_id\": \"3500\", \"route_short_name\": \"43\", \"service_date\": \"2022-05-06T00:00:00\", \"pct_w_vp\": 1.0}, {\"agency_name\": \"Big Blue Bus\", \"route_id\": \"3500\", \"route_short_name\": \"43\", \"service_date\": \"2022-05-16T00:00:00\", \"pct_w_vp\": 0.8571428571428571}, {\"agency_name\": \"Big Blue Bus\", \"route_id\": \"3500\", \"route_short_name\": \"43\", \"service_date\": \"2022-06-02T00:00:00\", \"pct_w_vp\": 1.0}, {\"agency_name\": \"Big Blue Bus\", \"route_id\": \"3500\", \"route_short_name\": \"43\", \"service_date\": \"2022-06-06T00:00:00\", \"pct_w_vp\": 0.8571428571428571}, {\"agency_name\": \"Big Blue Bus\", \"route_id\": \"3500\", \"route_short_name\": \"43\", \"service_date\": \"2022-06-21T00:00:00\", \"pct_w_vp\": 1.0}, {\"agency_name\": \"Big Blue Bus\", \"route_id\": \"3500\", \"route_short_name\": \"43\", \"service_date\": \"2022-05-23T00:00:00\", \"pct_w_vp\": 0.8571428571428571}, {\"agency_name\": \"Big Blue Bus\", \"route_id\": \"3500\", \"route_short_name\": \"43\", \"service_date\": \"2022-05-12T00:00:00\", \"pct_w_vp\": 1.0}, {\"agency_name\": \"Big Blue Bus\", \"route_id\": \"3500\", \"route_short_name\": \"43\", \"service_date\": \"2022-06-13T00:00:00\", \"pct_w_vp\": 0.8571428571428571}, {\"agency_name\": \"Big Blue Bus\", \"route_id\": \"3500\", \"route_short_name\": \"43\", \"service_date\": \"2022-06-09T00:00:00\", \"pct_w_vp\": 1.0}, {\"agency_name\": \"Big Blue Bus\", \"route_id\": \"3500\", \"route_short_name\": \"43\", \"service_date\": \"2022-06-22T00:00:00\", \"pct_w_vp\": 1.0}, {\"agency_name\": \"Big Blue Bus\", \"route_id\": \"3498\", \"route_short_name\": \"41\", \"service_date\": \"2022-06-10T00:00:00\", \"pct_w_vp\": 0.7692307692307693}, {\"agency_name\": \"Big Blue Bus\", \"route_id\": \"3498\", \"route_short_name\": \"41\", \"service_date\": \"2022-06-13T00:00:00\", \"pct_w_vp\": 0.7948717948717948}, {\"agency_name\": \"Big Blue Bus\", \"route_id\": \"3498\", \"route_short_name\": \"41\", \"service_date\": \"2022-06-08T00:00:00\", \"pct_w_vp\": 1.0}, {\"agency_name\": \"Big Blue Bus\", \"route_id\": \"3498\", \"route_short_name\": \"41\", \"service_date\": \"2022-06-15T00:00:00\", \"pct_w_vp\": 1.0}, {\"agency_name\": \"Big Blue Bus\", \"route_id\": \"3498\", \"route_short_name\": \"41\", \"service_date\": \"2022-06-03T00:00:00\", \"pct_w_vp\": 0.8974358974358975}, {\"agency_name\": \"Big Blue Bus\", \"route_id\": \"3498\", \"route_short_name\": \"41\", \"service_date\": \"2022-06-16T00:00:00\", \"pct_w_vp\": 1.0}, {\"agency_name\": \"Big Blue Bus\", \"route_id\": \"3498\", \"route_short_name\": \"41\", \"service_date\": \"2022-05-24T00:00:00\", \"pct_w_vp\": 1.0}, {\"agency_name\": \"Big Blue Bus\", \"route_id\": \"3498\", \"route_short_name\": \"41\", \"service_date\": \"2022-06-17T00:00:00\", \"pct_w_vp\": 1.0}, {\"agency_name\": \"Big Blue Bus\", \"route_id\": \"3498\", \"route_short_name\": \"41\", \"service_date\": \"2022-05-16T00:00:00\", \"pct_w_vp\": 0.8461538461538461}, {\"agency_name\": \"Big Blue Bus\", \"route_id\": \"3498\", \"route_short_name\": \"41\", \"service_date\": \"2022-06-14T00:00:00\", \"pct_w_vp\": 0.9743589743589743}, {\"agency_name\": \"Big Blue Bus\", \"route_id\": \"3498\", \"route_short_name\": \"41\", \"service_date\": \"2022-06-27T00:00:00\", \"pct_w_vp\": 0.8461538461538461}, {\"agency_name\": \"Big Blue Bus\", \"route_id\": \"3498\", \"route_short_name\": \"41\", \"service_date\": \"2022-05-05T00:00:00\", \"pct_w_vp\": 1.0}, {\"agency_name\": \"Big Blue Bus\", \"route_id\": \"3498\", \"route_short_name\": \"41\", \"service_date\": \"2022-05-03T00:00:00\", \"pct_w_vp\": 0.8461538461538461}, {\"agency_name\": \"Big Blue Bus\", \"route_id\": \"3498\", \"route_short_name\": \"41\", \"service_date\": \"2022-05-04T00:00:00\", \"pct_w_vp\": 1.0}, {\"agency_name\": \"Big Blue Bus\", \"route_id\": \"3498\", \"route_short_name\": \"41\", \"service_date\": \"2022-06-06T00:00:00\", \"pct_w_vp\": 0.8461538461538461}, {\"agency_name\": \"Big Blue Bus\", \"route_id\": \"3498\", \"route_short_name\": \"41\", \"service_date\": \"2022-06-23T00:00:00\", \"pct_w_vp\": 1.0}, {\"agency_name\": \"Big Blue Bus\", \"route_id\": \"3498\", \"route_short_name\": \"41\", \"service_date\": \"2022-06-01T00:00:00\", \"pct_w_vp\": 1.0}, {\"agency_name\": \"Big Blue Bus\", \"route_id\": \"3498\", \"route_short_name\": \"41\", \"service_date\": \"2022-05-09T00:00:00\", \"pct_w_vp\": 0.717948717948718}, {\"agency_name\": \"Big Blue Bus\", \"route_id\": \"3498\", \"route_short_name\": \"41\", \"service_date\": \"2022-06-07T00:00:00\", \"pct_w_vp\": 0.8717948717948718}, {\"agency_name\": \"Big Blue Bus\", \"route_id\": \"3498\", \"route_short_name\": \"41\", \"service_date\": \"2022-05-19T00:00:00\", \"pct_w_vp\": 1.0}, {\"agency_name\": \"Big Blue Bus\", \"route_id\": \"3498\", \"route_short_name\": \"41\", \"service_date\": \"2022-06-22T00:00:00\", \"pct_w_vp\": 1.0}, {\"agency_name\": \"Big Blue Bus\", \"route_id\": \"3498\", \"route_short_name\": \"41\", \"service_date\": \"2022-05-12T00:00:00\", \"pct_w_vp\": 1.0}, {\"agency_name\": \"Big Blue Bus\", \"route_id\": \"3498\", \"route_short_name\": \"41\", \"service_date\": \"2022-05-23T00:00:00\", \"pct_w_vp\": 0.8461538461538461}, {\"agency_name\": \"Big Blue Bus\", \"route_id\": \"3498\", \"route_short_name\": \"41\", \"service_date\": \"2022-05-17T00:00:00\", \"pct_w_vp\": 1.0}, {\"agency_name\": \"Big Blue Bus\", \"route_id\": \"3498\", \"route_short_name\": \"41\", \"service_date\": \"2022-06-28T00:00:00\", \"pct_w_vp\": 1.0}, {\"agency_name\": \"Big Blue Bus\", \"route_id\": \"3498\", \"route_short_name\": \"41\", \"service_date\": \"2022-05-27T00:00:00\", \"pct_w_vp\": 1.0}, {\"agency_name\": \"Big Blue Bus\", \"route_id\": \"3498\", \"route_short_name\": \"41\", \"service_date\": \"2022-05-06T00:00:00\", \"pct_w_vp\": 0.8461538461538461}, {\"agency_name\": \"Big Blue Bus\", \"route_id\": \"3498\", \"route_short_name\": \"41\", \"service_date\": \"2022-05-25T00:00:00\", \"pct_w_vp\": 1.0}, {\"agency_name\": \"Big Blue Bus\", \"route_id\": \"3498\", \"route_short_name\": \"41\", \"service_date\": \"2022-05-13T00:00:00\", \"pct_w_vp\": 1.0}, {\"agency_name\": \"Big Blue Bus\", \"route_id\": \"3498\", \"route_short_name\": \"41\", \"service_date\": \"2022-06-09T00:00:00\", \"pct_w_vp\": 1.0}, {\"agency_name\": \"Big Blue Bus\", \"route_id\": \"3498\", \"route_short_name\": \"41\", \"service_date\": \"2022-06-30T00:00:00\", \"pct_w_vp\": 1.0}, {\"agency_name\": \"Big Blue Bus\", \"route_id\": \"3498\", \"route_short_name\": \"41\", \"service_date\": \"2022-05-02T00:00:00\", \"pct_w_vp\": 0.8205128205128205}, {\"agency_name\": \"Big Blue Bus\", \"route_id\": \"3498\", \"route_short_name\": \"41\", \"service_date\": \"2022-05-10T00:00:00\", \"pct_w_vp\": 1.0}, {\"agency_name\": \"Big Blue Bus\", \"route_id\": \"3498\", \"route_short_name\": \"41\", \"service_date\": \"2022-06-02T00:00:00\", \"pct_w_vp\": 1.0}, {\"agency_name\": \"Big Blue Bus\", \"route_id\": \"3498\", \"route_short_name\": \"41\", \"service_date\": \"2022-06-20T00:00:00\", \"pct_w_vp\": 0.8461538461538461}, {\"agency_name\": \"Big Blue Bus\", \"route_id\": \"3498\", \"route_short_name\": \"41\", \"service_date\": \"2022-06-21T00:00:00\", \"pct_w_vp\": 1.0}, {\"agency_name\": \"Big Blue Bus\", \"route_id\": \"3498\", \"route_short_name\": \"41\", \"service_date\": \"2022-06-29T00:00:00\", \"pct_w_vp\": 1.0}, {\"agency_name\": \"Big Blue Bus\", \"route_id\": \"3498\", \"route_short_name\": \"41\", \"service_date\": \"2022-05-26T00:00:00\", \"pct_w_vp\": 1.0}, {\"agency_name\": \"Big Blue Bus\", \"route_id\": \"3498\", \"route_short_name\": \"41\", \"service_date\": \"2022-05-31T00:00:00\", \"pct_w_vp\": 0.8461538461538461}, {\"agency_name\": \"Big Blue Bus\", \"route_id\": \"3498\", \"route_short_name\": \"41\", \"service_date\": \"2022-05-11T00:00:00\", \"pct_w_vp\": 1.0}, {\"agency_name\": \"Big Blue Bus\", \"route_id\": \"3498\", \"route_short_name\": \"41\", \"service_date\": \"2022-05-18T00:00:00\", \"pct_w_vp\": 0.9743589743589743}, {\"agency_name\": \"Big Blue Bus\", \"route_id\": \"3498\", \"route_short_name\": \"41\", \"service_date\": \"2022-05-20T00:00:00\", \"pct_w_vp\": 0.9743589743589743}, {\"agency_name\": \"Big Blue Bus\", \"route_id\": \"3498\", \"route_short_name\": \"41\", \"service_date\": \"2022-06-24T00:00:00\", \"pct_w_vp\": 1.0}, {\"agency_name\": \"Big Blue Bus\", \"route_id\": \"3493\", \"route_short_name\": \"17\", \"service_date\": \"2022-06-26T00:00:00\", \"pct_w_vp\": 0.8}, {\"agency_name\": \"Big Blue Bus\", \"route_id\": \"3493\", \"route_short_name\": \"17\", \"service_date\": \"2022-05-22T00:00:00\", \"pct_w_vp\": 0.78}, {\"agency_name\": \"Big Blue Bus\", \"route_id\": \"3493\", \"route_short_name\": \"17\", \"service_date\": \"2022-06-12T00:00:00\", \"pct_w_vp\": 0.76}, {\"agency_name\": \"Big Blue Bus\", \"route_id\": \"3493\", \"route_short_name\": \"17\", \"service_date\": \"2022-05-15T00:00:00\", \"pct_w_vp\": 0.78}, {\"agency_name\": \"Big Blue Bus\", \"route_id\": \"3493\", \"route_short_name\": \"17\", \"service_date\": \"2022-05-08T00:00:00\", \"pct_w_vp\": 0.68}, {\"agency_name\": \"Big Blue Bus\", \"route_id\": \"3493\", \"route_short_name\": \"17\", \"service_date\": \"2022-05-30T00:00:00\", \"pct_w_vp\": 1.0}, {\"agency_name\": \"Big Blue Bus\", \"route_id\": \"3493\", \"route_short_name\": \"17\", \"service_date\": \"2022-05-29T00:00:00\", \"pct_w_vp\": 0.8}, {\"agency_name\": \"Big Blue Bus\", \"route_id\": \"3493\", \"route_short_name\": \"17\", \"service_date\": \"2022-05-01T00:00:00\", \"pct_w_vp\": 0.8}, {\"agency_name\": \"Big Blue Bus\", \"route_id\": \"3493\", \"route_short_name\": \"17\", \"service_date\": \"2022-06-05T00:00:00\", \"pct_w_vp\": 0.8}, {\"agency_name\": \"Big Blue Bus\", \"route_id\": \"3493\", \"route_short_name\": \"17\", \"service_date\": \"2022-06-19T00:00:00\", \"pct_w_vp\": 0.8}, {\"agency_name\": \"Big Blue Bus\", \"route_id\": \"3494\", \"route_short_name\": \"18\", \"service_date\": \"2022-05-14T00:00:00\", \"pct_w_vp\": 0.58}, {\"agency_name\": \"Big Blue Bus\", \"route_id\": \"3494\", \"route_short_name\": \"18\", \"service_date\": \"2022-06-11T00:00:00\", \"pct_w_vp\": 0.68}, {\"agency_name\": \"Big Blue Bus\", \"route_id\": \"3494\", \"route_short_name\": \"18\", \"service_date\": \"2022-06-25T00:00:00\", \"pct_w_vp\": 0.72}, {\"agency_name\": \"Big Blue Bus\", \"route_id\": \"3494\", \"route_short_name\": \"18\", \"service_date\": \"2022-05-28T00:00:00\", \"pct_w_vp\": 0.78}, {\"agency_name\": \"Big Blue Bus\", \"route_id\": \"3494\", \"route_short_name\": \"18\", \"service_date\": \"2022-06-04T00:00:00\", \"pct_w_vp\": 0.78}, {\"agency_name\": \"Big Blue Bus\", \"route_id\": \"3494\", \"route_short_name\": \"18\", \"service_date\": \"2022-05-07T00:00:00\", \"pct_w_vp\": 0.78}, {\"agency_name\": \"Big Blue Bus\", \"route_id\": \"3494\", \"route_short_name\": \"18\", \"service_date\": \"2022-06-18T00:00:00\", \"pct_w_vp\": 0.78}, {\"agency_name\": \"Big Blue Bus\", \"route_id\": \"3494\", \"route_short_name\": \"18\", \"service_date\": \"2022-05-21T00:00:00\", \"pct_w_vp\": 0.78}, {\"agency_name\": \"Big Blue Bus\", \"route_id\": \"3495\", \"route_short_name\": \"R3\", \"service_date\": \"2022-06-23T00:00:00\", \"pct_w_vp\": 1.0}, {\"agency_name\": \"Big Blue Bus\", \"route_id\": \"3495\", \"route_short_name\": \"R3\", \"service_date\": \"2022-06-16T00:00:00\", \"pct_w_vp\": 1.0}, {\"agency_name\": \"Big Blue Bus\", \"route_id\": \"3495\", \"route_short_name\": \"R3\", \"service_date\": \"2022-05-17T00:00:00\", \"pct_w_vp\": 1.0}, {\"agency_name\": \"Big Blue Bus\", \"route_id\": \"3495\", \"route_short_name\": \"R3\", \"service_date\": \"2022-05-19T00:00:00\", \"pct_w_vp\": 1.0}, {\"agency_name\": \"Big Blue Bus\", \"route_id\": \"3495\", \"route_short_name\": \"R3\", \"service_date\": \"2022-05-24T00:00:00\", \"pct_w_vp\": 0.9215686274509803}, {\"agency_name\": \"Big Blue Bus\", \"route_id\": \"3495\", \"route_short_name\": \"R3\", \"service_date\": \"2022-06-06T00:00:00\", \"pct_w_vp\": 0.8431372549019608}, {\"agency_name\": \"Big Blue Bus\", \"route_id\": \"3495\", \"route_short_name\": \"R3\", \"service_date\": \"2022-05-10T00:00:00\", \"pct_w_vp\": 0.9607843137254902}, {\"agency_name\": \"Big Blue Bus\", \"route_id\": \"3495\", \"route_short_name\": \"R3\", \"service_date\": \"2022-06-24T00:00:00\", \"pct_w_vp\": 0.9607843137254902}, {\"agency_name\": \"Big Blue Bus\", \"route_id\": \"3495\", \"route_short_name\": \"R3\", \"service_date\": \"2022-06-10T00:00:00\", \"pct_w_vp\": 0.9411764705882353}, {\"agency_name\": \"Big Blue Bus\", \"route_id\": \"3495\", \"route_short_name\": \"R3\", \"service_date\": \"2022-05-02T00:00:00\", \"pct_w_vp\": 0.9019607843137255}, {\"agency_name\": \"Big Blue Bus\", \"route_id\": \"3495\", \"route_short_name\": \"R3\", \"service_date\": \"2022-05-09T00:00:00\", \"pct_w_vp\": 0.8823529411764706}, {\"agency_name\": \"Big Blue Bus\", \"route_id\": \"3495\", \"route_short_name\": \"R3\", \"service_date\": \"2022-05-06T00:00:00\", \"pct_w_vp\": 0.9607843137254902}, {\"agency_name\": \"Big Blue Bus\", \"route_id\": \"3495\", \"route_short_name\": \"R3\", \"service_date\": \"2022-06-17T00:00:00\", \"pct_w_vp\": 1.0}, {\"agency_name\": \"Big Blue Bus\", \"route_id\": \"3495\", \"route_short_name\": \"R3\", \"service_date\": \"2022-05-20T00:00:00\", \"pct_w_vp\": 0.9607843137254902}, {\"agency_name\": \"Big Blue Bus\", \"route_id\": \"3495\", \"route_short_name\": \"R3\", \"service_date\": \"2022-05-05T00:00:00\", \"pct_w_vp\": 0.9607843137254902}, {\"agency_name\": \"Big Blue Bus\", \"route_id\": \"3495\", \"route_short_name\": \"R3\", \"service_date\": \"2022-06-30T00:00:00\", \"pct_w_vp\": 0.9803921568627451}, {\"agency_name\": \"Big Blue Bus\", \"route_id\": \"3495\", \"route_short_name\": \"R3\", \"service_date\": \"2022-05-12T00:00:00\", \"pct_w_vp\": 0.9803921568627451}, {\"agency_name\": \"Big Blue Bus\", \"route_id\": \"3495\", \"route_short_name\": \"R3\", \"service_date\": \"2022-06-27T00:00:00\", \"pct_w_vp\": 0.7058823529411765}, {\"agency_name\": \"Big Blue Bus\", \"route_id\": \"3495\", \"route_short_name\": \"R3\", \"service_date\": \"2022-05-04T00:00:00\", \"pct_w_vp\": 1.0}, {\"agency_name\": \"Big Blue Bus\", \"route_id\": \"3495\", \"route_short_name\": \"R3\", \"service_date\": \"2022-06-21T00:00:00\", \"pct_w_vp\": 1.0}, {\"agency_name\": \"Big Blue Bus\", \"route_id\": \"3495\", \"route_short_name\": \"R3\", \"service_date\": \"2022-06-22T00:00:00\", \"pct_w_vp\": 0.9411764705882353}, {\"agency_name\": \"Big Blue Bus\", \"route_id\": \"3495\", \"route_short_name\": \"R3\", \"service_date\": \"2022-05-23T00:00:00\", \"pct_w_vp\": 0.9607843137254902}, {\"agency_name\": \"Big Blue Bus\", \"route_id\": \"3495\", \"route_short_name\": \"R3\", \"service_date\": \"2022-06-15T00:00:00\", \"pct_w_vp\": 0.9411764705882353}, {\"agency_name\": \"Big Blue Bus\", \"route_id\": \"3495\", \"route_short_name\": \"R3\", \"service_date\": \"2022-06-28T00:00:00\", \"pct_w_vp\": 0.9803921568627451}, {\"agency_name\": \"Big Blue Bus\", \"route_id\": \"3495\", \"route_short_name\": \"R3\", \"service_date\": \"2022-06-14T00:00:00\", \"pct_w_vp\": 1.0}, {\"agency_name\": \"Big Blue Bus\", \"route_id\": \"3495\", \"route_short_name\": \"R3\", \"service_date\": \"2022-05-25T00:00:00\", \"pct_w_vp\": 0.9803921568627451}, {\"agency_name\": \"Big Blue Bus\", \"route_id\": \"3495\", \"route_short_name\": \"R3\", \"service_date\": \"2022-06-07T00:00:00\", \"pct_w_vp\": 1.0}, {\"agency_name\": \"Big Blue Bus\", \"route_id\": \"3495\", \"route_short_name\": \"R3\", \"service_date\": \"2022-06-13T00:00:00\", \"pct_w_vp\": 0.9215686274509803}, {\"agency_name\": \"Big Blue Bus\", \"route_id\": \"3495\", \"route_short_name\": \"R3\", \"service_date\": \"2022-05-18T00:00:00\", \"pct_w_vp\": 1.0}, {\"agency_name\": \"Big Blue Bus\", \"route_id\": \"3495\", \"route_short_name\": \"R3\", \"service_date\": \"2022-05-11T00:00:00\", \"pct_w_vp\": 0.9215686274509803}, {\"agency_name\": \"Big Blue Bus\", \"route_id\": \"3495\", \"route_short_name\": \"R3\", \"service_date\": \"2022-05-27T00:00:00\", \"pct_w_vp\": 0.8431372549019608}, {\"agency_name\": \"Big Blue Bus\", \"route_id\": \"3495\", \"route_short_name\": \"R3\", \"service_date\": \"2022-05-03T00:00:00\", \"pct_w_vp\": 0.9607843137254902}, {\"agency_name\": \"Big Blue Bus\", \"route_id\": \"3495\", \"route_short_name\": \"R3\", \"service_date\": \"2022-05-26T00:00:00\", \"pct_w_vp\": 0.9803921568627451}, {\"agency_name\": \"Big Blue Bus\", \"route_id\": \"3495\", \"route_short_name\": \"R3\", \"service_date\": \"2022-05-31T00:00:00\", \"pct_w_vp\": 0.8823529411764706}, {\"agency_name\": \"Big Blue Bus\", \"route_id\": \"3495\", \"route_short_name\": \"R3\", \"service_date\": \"2022-06-02T00:00:00\", \"pct_w_vp\": 0.9803921568627451}, {\"agency_name\": \"Big Blue Bus\", \"route_id\": \"3495\", \"route_short_name\": \"R3\", \"service_date\": \"2022-06-08T00:00:00\", \"pct_w_vp\": 0.9411764705882353}, {\"agency_name\": \"Big Blue Bus\", \"route_id\": \"3495\", \"route_short_name\": \"R3\", \"service_date\": \"2022-06-29T00:00:00\", \"pct_w_vp\": 0.9411764705882353}, {\"agency_name\": \"Big Blue Bus\", \"route_id\": \"3495\", \"route_short_name\": \"R3\", \"service_date\": \"2022-06-01T00:00:00\", \"pct_w_vp\": 1.0}, {\"agency_name\": \"Big Blue Bus\", \"route_id\": \"3495\", \"route_short_name\": \"R3\", \"service_date\": \"2022-05-16T00:00:00\", \"pct_w_vp\": 0.8823529411764706}, {\"agency_name\": \"Big Blue Bus\", \"route_id\": \"3495\", \"route_short_name\": \"R3\", \"service_date\": \"2022-06-09T00:00:00\", \"pct_w_vp\": 0.9803921568627451}, {\"agency_name\": \"Big Blue Bus\", \"route_id\": \"3495\", \"route_short_name\": \"R3\", \"service_date\": \"2022-06-03T00:00:00\", \"pct_w_vp\": 0.9607843137254902}, {\"agency_name\": \"Big Blue Bus\", \"route_id\": \"3495\", \"route_short_name\": \"R3\", \"service_date\": \"2022-06-20T00:00:00\", \"pct_w_vp\": 0.8627450980392157}, {\"agency_name\": \"Big Blue Bus\", \"route_id\": \"3495\", \"route_short_name\": \"R3\", \"service_date\": \"2022-05-13T00:00:00\", \"pct_w_vp\": 0.8823529411764706}, {\"agency_name\": \"Big Blue Bus\", \"route_id\": \"3493\", \"route_short_name\": \"17\", \"service_date\": \"2022-05-21T00:00:00\", \"pct_w_vp\": 0.8113207547169812}, {\"agency_name\": \"Big Blue Bus\", \"route_id\": \"3493\", \"route_short_name\": \"17\", \"service_date\": \"2022-05-14T00:00:00\", \"pct_w_vp\": 0.6981132075471698}, {\"agency_name\": \"Big Blue Bus\", \"route_id\": \"3493\", \"route_short_name\": \"17\", \"service_date\": \"2022-05-07T00:00:00\", \"pct_w_vp\": 0.8113207547169812}, {\"agency_name\": \"Big Blue Bus\", \"route_id\": \"3493\", \"route_short_name\": \"17\", \"service_date\": \"2022-06-11T00:00:00\", \"pct_w_vp\": 0.7735849056603774}, {\"agency_name\": \"Big Blue Bus\", \"route_id\": \"3493\", \"route_short_name\": \"17\", \"service_date\": \"2022-06-18T00:00:00\", \"pct_w_vp\": 0.7735849056603774}, {\"agency_name\": \"Big Blue Bus\", \"route_id\": \"3493\", \"route_short_name\": \"17\", \"service_date\": \"2022-06-04T00:00:00\", \"pct_w_vp\": 0.8113207547169812}, {\"agency_name\": \"Big Blue Bus\", \"route_id\": \"3493\", \"route_short_name\": \"17\", \"service_date\": \"2022-05-28T00:00:00\", \"pct_w_vp\": 0.8113207547169812}, {\"agency_name\": \"Big Blue Bus\", \"route_id\": \"3493\", \"route_short_name\": \"17\", \"service_date\": \"2022-06-25T00:00:00\", \"pct_w_vp\": 0.7169811320754716}, {\"agency_name\": \"Big Blue Bus\", \"route_id\": \"3494\", \"route_short_name\": \"18\", \"service_date\": \"2022-05-25T00:00:00\", \"pct_w_vp\": 0.9811320754716981}, {\"agency_name\": \"Big Blue Bus\", \"route_id\": \"3494\", \"route_short_name\": \"18\", \"service_date\": \"2022-05-19T00:00:00\", \"pct_w_vp\": 0.9622641509433962}, {\"agency_name\": \"Big Blue Bus\", \"route_id\": \"3494\", \"route_short_name\": \"18\", \"service_date\": \"2022-05-13T00:00:00\", \"pct_w_vp\": 0.9811320754716981}, {\"agency_name\": \"Big Blue Bus\", \"route_id\": \"3494\", \"route_short_name\": \"18\", \"service_date\": \"2022-05-04T00:00:00\", \"pct_w_vp\": 1.0}, {\"agency_name\": \"Big Blue Bus\", \"route_id\": \"3494\", \"route_short_name\": \"18\", \"service_date\": \"2022-05-05T00:00:00\", \"pct_w_vp\": 1.0}, {\"agency_name\": \"Big Blue Bus\", \"route_id\": \"3494\", \"route_short_name\": \"18\", \"service_date\": \"2022-05-02T00:00:00\", \"pct_w_vp\": 0.8113207547169812}, {\"agency_name\": \"Big Blue Bus\", \"route_id\": \"3494\", \"route_short_name\": \"18\", \"service_date\": \"2022-06-09T00:00:00\", \"pct_w_vp\": 0.9622641509433962}, {\"agency_name\": \"Big Blue Bus\", \"route_id\": \"3494\", \"route_short_name\": \"18\", \"service_date\": \"2022-05-24T00:00:00\", \"pct_w_vp\": 1.0}, {\"agency_name\": \"Big Blue Bus\", \"route_id\": \"3494\", \"route_short_name\": \"18\", \"service_date\": \"2022-06-01T00:00:00\", \"pct_w_vp\": 0.9622641509433962}, {\"agency_name\": \"Big Blue Bus\", \"route_id\": \"3494\", \"route_short_name\": \"18\", \"service_date\": \"2022-05-23T00:00:00\", \"pct_w_vp\": 0.8113207547169812}, {\"agency_name\": \"Big Blue Bus\", \"route_id\": \"3494\", \"route_short_name\": \"18\", \"service_date\": \"2022-05-10T00:00:00\", \"pct_w_vp\": 0.9622641509433962}, {\"agency_name\": \"Big Blue Bus\", \"route_id\": \"3494\", \"route_short_name\": \"18\", \"service_date\": \"2022-05-27T00:00:00\", \"pct_w_vp\": 0.9622641509433962}, {\"agency_name\": \"Big Blue Bus\", \"route_id\": \"3494\", \"route_short_name\": \"18\", \"service_date\": \"2022-05-09T00:00:00\", \"pct_w_vp\": 0.7924528301886793}, {\"agency_name\": \"Big Blue Bus\", \"route_id\": \"3494\", \"route_short_name\": \"18\", \"service_date\": \"2022-05-11T00:00:00\", \"pct_w_vp\": 1.0}, {\"agency_name\": \"Big Blue Bus\", \"route_id\": \"3494\", \"route_short_name\": \"18\", \"service_date\": \"2022-05-31T00:00:00\", \"pct_w_vp\": 0.6226415094339622}, {\"agency_name\": \"Big Blue Bus\", \"route_id\": \"3494\", \"route_short_name\": \"18\", \"service_date\": \"2022-06-02T00:00:00\", \"pct_w_vp\": 0.9622641509433962}, {\"agency_name\": \"Big Blue Bus\", \"route_id\": \"3494\", \"route_short_name\": \"18\", \"service_date\": \"2022-05-12T00:00:00\", \"pct_w_vp\": 1.0}, {\"agency_name\": \"Big Blue Bus\", \"route_id\": \"3494\", \"route_short_name\": \"18\", \"service_date\": \"2022-05-17T00:00:00\", \"pct_w_vp\": 1.0}, {\"agency_name\": \"Big Blue Bus\", \"route_id\": \"3494\", \"route_short_name\": \"18\", \"service_date\": \"2022-05-03T00:00:00\", \"pct_w_vp\": 1.0}, {\"agency_name\": \"Big Blue Bus\", \"route_id\": \"3494\", \"route_short_name\": \"18\", \"service_date\": \"2022-05-18T00:00:00\", \"pct_w_vp\": 0.9245283018867925}, {\"agency_name\": \"Big Blue Bus\", \"route_id\": \"3494\", \"route_short_name\": \"18\", \"service_date\": \"2022-06-03T00:00:00\", \"pct_w_vp\": 0.8867924528301887}, {\"agency_name\": \"Big Blue Bus\", \"route_id\": \"3494\", \"route_short_name\": \"18\", \"service_date\": \"2022-05-20T00:00:00\", \"pct_w_vp\": 1.0}, {\"agency_name\": \"Big Blue Bus\", \"route_id\": \"3494\", \"route_short_name\": \"18\", \"service_date\": \"2022-05-06T00:00:00\", \"pct_w_vp\": 1.0}, {\"agency_name\": \"Big Blue Bus\", \"route_id\": \"3494\", \"route_short_name\": \"18\", \"service_date\": \"2022-06-07T00:00:00\", \"pct_w_vp\": 0.9056603773584906}, {\"agency_name\": \"Big Blue Bus\", \"route_id\": \"3494\", \"route_short_name\": \"18\", \"service_date\": \"2022-06-06T00:00:00\", \"pct_w_vp\": 0.6792452830188679}, {\"agency_name\": \"Big Blue Bus\", \"route_id\": \"3494\", \"route_short_name\": \"18\", \"service_date\": \"2022-05-16T00:00:00\", \"pct_w_vp\": 0.8113207547169812}, {\"agency_name\": \"Big Blue Bus\", \"route_id\": \"3494\", \"route_short_name\": \"18\", \"service_date\": \"2022-06-08T00:00:00\", \"pct_w_vp\": 0.8679245283018868}, {\"agency_name\": \"Big Blue Bus\", \"route_id\": \"3494\", \"route_short_name\": \"18\", \"service_date\": \"2022-05-26T00:00:00\", \"pct_w_vp\": 1.0}, {\"agency_name\": \"Big Blue Bus\", \"route_id\": \"3492\", \"route_short_name\": \"16\", \"service_date\": \"2022-05-04T00:00:00\", \"pct_w_vp\": 0.9629629629629629}, {\"agency_name\": \"Big Blue Bus\", \"route_id\": \"3492\", \"route_short_name\": \"16\", \"service_date\": \"2022-05-31T00:00:00\", \"pct_w_vp\": 0.8888888888888888}, {\"agency_name\": \"Big Blue Bus\", \"route_id\": \"3492\", \"route_short_name\": \"16\", \"service_date\": \"2022-05-25T00:00:00\", \"pct_w_vp\": 1.0}, {\"agency_name\": \"Big Blue Bus\", \"route_id\": \"3492\", \"route_short_name\": \"16\", \"service_date\": \"2022-05-20T00:00:00\", \"pct_w_vp\": 1.0}, {\"agency_name\": \"Big Blue Bus\", \"route_id\": \"3492\", \"route_short_name\": \"16\", \"service_date\": \"2022-06-08T00:00:00\", \"pct_w_vp\": 1.0}, {\"agency_name\": \"Big Blue Bus\", \"route_id\": \"3492\", \"route_short_name\": \"16\", \"service_date\": \"2022-05-17T00:00:00\", \"pct_w_vp\": 1.0}, {\"agency_name\": \"Big Blue Bus\", \"route_id\": \"3492\", \"route_short_name\": \"16\", \"service_date\": \"2022-05-09T00:00:00\", \"pct_w_vp\": 0.6851851851851852}, {\"agency_name\": \"Big Blue Bus\", \"route_id\": \"3492\", \"route_short_name\": \"16\", \"service_date\": \"2022-05-13T00:00:00\", \"pct_w_vp\": 1.0}, {\"agency_name\": \"Big Blue Bus\", \"route_id\": \"3492\", \"route_short_name\": \"16\", \"service_date\": \"2022-06-03T00:00:00\", \"pct_w_vp\": 1.0}, {\"agency_name\": \"Big Blue Bus\", \"route_id\": \"3492\", \"route_short_name\": \"16\", \"service_date\": \"2022-06-17T00:00:00\", \"pct_w_vp\": 1.0}, {\"agency_name\": \"Big Blue Bus\", \"route_id\": \"3492\", \"route_short_name\": \"16\", \"service_date\": \"2022-06-10T00:00:00\", \"pct_w_vp\": 0.9814814814814815}, {\"agency_name\": \"Big Blue Bus\", \"route_id\": \"3492\", \"route_short_name\": \"16\", \"service_date\": \"2022-06-27T00:00:00\", \"pct_w_vp\": 0.9074074074074074}, {\"agency_name\": \"Big Blue Bus\", \"route_id\": \"3492\", \"route_short_name\": \"16\", \"service_date\": \"2022-05-02T00:00:00\", \"pct_w_vp\": 0.9074074074074074}, {\"agency_name\": \"Big Blue Bus\", \"route_id\": \"3492\", \"route_short_name\": \"16\", \"service_date\": \"2022-06-20T00:00:00\", \"pct_w_vp\": 0.8518518518518519}, {\"agency_name\": \"Big Blue Bus\", \"route_id\": \"3492\", \"route_short_name\": \"16\", \"service_date\": \"2022-05-05T00:00:00\", \"pct_w_vp\": 1.0}, {\"agency_name\": \"Big Blue Bus\", \"route_id\": \"3492\", \"route_short_name\": \"16\", \"service_date\": \"2022-06-02T00:00:00\", \"pct_w_vp\": 1.0}, {\"agency_name\": \"Big Blue Bus\", \"route_id\": \"3492\", \"route_short_name\": \"16\", \"service_date\": \"2022-06-14T00:00:00\", \"pct_w_vp\": 0.9814814814814815}, {\"agency_name\": \"Big Blue Bus\", \"route_id\": \"3492\", \"route_short_name\": \"16\", \"service_date\": \"2022-06-23T00:00:00\", \"pct_w_vp\": 1.0}, {\"agency_name\": \"Big Blue Bus\", \"route_id\": \"3492\", \"route_short_name\": \"16\", \"service_date\": \"2022-06-22T00:00:00\", \"pct_w_vp\": 1.0}, {\"agency_name\": \"Big Blue Bus\", \"route_id\": \"3492\", \"route_short_name\": \"16\", \"service_date\": \"2022-05-19T00:00:00\", \"pct_w_vp\": 1.0}, {\"agency_name\": \"Big Blue Bus\", \"route_id\": \"3492\", \"route_short_name\": \"16\", \"service_date\": \"2022-05-06T00:00:00\", \"pct_w_vp\": 0.9629629629629629}, {\"agency_name\": \"Big Blue Bus\", \"route_id\": \"3492\", \"route_short_name\": \"16\", \"service_date\": \"2022-06-24T00:00:00\", \"pct_w_vp\": 1.0}, {\"agency_name\": \"Big Blue Bus\", \"route_id\": \"3492\", \"route_short_name\": \"16\", \"service_date\": \"2022-06-29T00:00:00\", \"pct_w_vp\": 1.0}, {\"agency_name\": \"Big Blue Bus\", \"route_id\": \"3492\", \"route_short_name\": \"16\", \"service_date\": \"2022-05-12T00:00:00\", \"pct_w_vp\": 1.0}, {\"agency_name\": \"Big Blue Bus\", \"route_id\": \"3492\", \"route_short_name\": \"16\", \"service_date\": \"2022-05-27T00:00:00\", \"pct_w_vp\": 1.0}, {\"agency_name\": \"Big Blue Bus\", \"route_id\": \"3492\", \"route_short_name\": \"16\", \"service_date\": \"2022-06-15T00:00:00\", \"pct_w_vp\": 0.9814814814814815}, {\"agency_name\": \"Big Blue Bus\", \"route_id\": \"3492\", \"route_short_name\": \"16\", \"service_date\": \"2022-05-11T00:00:00\", \"pct_w_vp\": 0.9814814814814815}, {\"agency_name\": \"Big Blue Bus\", \"route_id\": \"3492\", \"route_short_name\": \"16\", \"service_date\": \"2022-06-09T00:00:00\", \"pct_w_vp\": 0.7962962962962963}, {\"agency_name\": \"Big Blue Bus\", \"route_id\": \"3492\", \"route_short_name\": \"16\", \"service_date\": \"2022-05-24T00:00:00\", \"pct_w_vp\": 1.0}, {\"agency_name\": \"Big Blue Bus\", \"route_id\": \"3492\", \"route_short_name\": \"16\", \"service_date\": \"2022-05-18T00:00:00\", \"pct_w_vp\": 1.0}, {\"agency_name\": \"Big Blue Bus\", \"route_id\": \"3492\", \"route_short_name\": \"16\", \"service_date\": \"2022-06-30T00:00:00\", \"pct_w_vp\": 0.9814814814814815}, {\"agency_name\": \"Big Blue Bus\", \"route_id\": \"3492\", \"route_short_name\": \"16\", \"service_date\": \"2022-05-26T00:00:00\", \"pct_w_vp\": 1.0}, {\"agency_name\": \"Big Blue Bus\", \"route_id\": \"3492\", \"route_short_name\": \"16\", \"service_date\": \"2022-06-21T00:00:00\", \"pct_w_vp\": 1.0}, {\"agency_name\": \"Big Blue Bus\", \"route_id\": \"3492\", \"route_short_name\": \"16\", \"service_date\": \"2022-06-28T00:00:00\", \"pct_w_vp\": 1.0}, {\"agency_name\": \"Big Blue Bus\", \"route_id\": \"3492\", \"route_short_name\": \"16\", \"service_date\": \"2022-06-01T00:00:00\", \"pct_w_vp\": 0.9444444444444444}, {\"agency_name\": \"Big Blue Bus\", \"route_id\": \"3492\", \"route_short_name\": \"16\", \"service_date\": \"2022-06-16T00:00:00\", \"pct_w_vp\": 0.9814814814814815}, {\"agency_name\": \"Big Blue Bus\", \"route_id\": \"3492\", \"route_short_name\": \"16\", \"service_date\": \"2022-06-13T00:00:00\", \"pct_w_vp\": 0.8888888888888888}, {\"agency_name\": \"Big Blue Bus\", \"route_id\": \"3492\", \"route_short_name\": \"16\", \"service_date\": \"2022-05-03T00:00:00\", \"pct_w_vp\": 0.8888888888888888}, {\"agency_name\": \"Big Blue Bus\", \"route_id\": \"3492\", \"route_short_name\": \"16\", \"service_date\": \"2022-05-23T00:00:00\", \"pct_w_vp\": 0.8888888888888888}, {\"agency_name\": \"Big Blue Bus\", \"route_id\": \"3492\", \"route_short_name\": \"16\", \"service_date\": \"2022-06-07T00:00:00\", \"pct_w_vp\": 0.9629629629629629}, {\"agency_name\": \"Big Blue Bus\", \"route_id\": \"3492\", \"route_short_name\": \"16\", \"service_date\": \"2022-06-06T00:00:00\", \"pct_w_vp\": 0.7037037037037037}, {\"agency_name\": \"Big Blue Bus\", \"route_id\": \"3492\", \"route_short_name\": \"16\", \"service_date\": \"2022-05-10T00:00:00\", \"pct_w_vp\": 0.9629629629629629}, {\"agency_name\": \"Big Blue Bus\", \"route_id\": \"3492\", \"route_short_name\": \"16\", \"service_date\": \"2022-05-16T00:00:00\", \"pct_w_vp\": 0.7407407407407407}, {\"agency_name\": \"Big Blue Bus\", \"route_id\": \"3490\", \"route_short_name\": \"14\", \"service_date\": \"2022-05-22T00:00:00\", \"pct_w_vp\": 0.7894736842105263}, {\"agency_name\": \"Big Blue Bus\", \"route_id\": \"3490\", \"route_short_name\": \"14\", \"service_date\": \"2022-05-08T00:00:00\", \"pct_w_vp\": 0.631578947368421}, {\"agency_name\": \"Big Blue Bus\", \"route_id\": \"3490\", \"route_short_name\": \"14\", \"service_date\": \"2022-06-26T00:00:00\", \"pct_w_vp\": 0.7894736842105263}, {\"agency_name\": \"Big Blue Bus\", \"route_id\": \"3490\", \"route_short_name\": \"14\", \"service_date\": \"2022-06-12T00:00:00\", \"pct_w_vp\": 0.5614035087719298}, {\"agency_name\": \"Big Blue Bus\", \"route_id\": \"3490\", \"route_short_name\": \"14\", \"service_date\": \"2022-05-15T00:00:00\", \"pct_w_vp\": 0.8070175438596491}, {\"agency_name\": \"Big Blue Bus\", \"route_id\": \"3490\", \"route_short_name\": \"14\", \"service_date\": \"2022-05-30T00:00:00\", \"pct_w_vp\": 0.7543859649122807}, {\"agency_name\": \"Big Blue Bus\", \"route_id\": \"3490\", \"route_short_name\": \"14\", \"service_date\": \"2022-06-05T00:00:00\", \"pct_w_vp\": 0.8070175438596491}, {\"agency_name\": \"Big Blue Bus\", \"route_id\": \"3490\", \"route_short_name\": \"14\", \"service_date\": \"2022-05-01T00:00:00\", \"pct_w_vp\": 0.7894736842105263}, {\"agency_name\": \"Big Blue Bus\", \"route_id\": \"3490\", \"route_short_name\": \"14\", \"service_date\": \"2022-05-29T00:00:00\", \"pct_w_vp\": 0.8070175438596491}, {\"agency_name\": \"Big Blue Bus\", \"route_id\": \"3490\", \"route_short_name\": \"14\", \"service_date\": \"2022-06-19T00:00:00\", \"pct_w_vp\": 0.8070175438596491}, {\"agency_name\": \"Big Blue Bus\", \"route_id\": \"3486\", \"route_short_name\": \"8\", \"service_date\": \"2022-05-08T00:00:00\", \"pct_w_vp\": 0.5757575757575758}, {\"agency_name\": \"Big Blue Bus\", \"route_id\": \"3486\", \"route_short_name\": \"8\", \"service_date\": \"2022-06-26T00:00:00\", \"pct_w_vp\": 0.6212121212121212}, {\"agency_name\": \"Big Blue Bus\", \"route_id\": \"3486\", \"route_short_name\": \"8\", \"service_date\": \"2022-05-15T00:00:00\", \"pct_w_vp\": 0.6666666666666666}, {\"agency_name\": \"Big Blue Bus\", \"route_id\": \"3486\", \"route_short_name\": \"8\", \"service_date\": \"2022-05-29T00:00:00\", \"pct_w_vp\": 0.6666666666666666}, {\"agency_name\": \"Big Blue Bus\", \"route_id\": \"3486\", \"route_short_name\": \"8\", \"service_date\": \"2022-06-12T00:00:00\", \"pct_w_vp\": 0.6515151515151515}, {\"agency_name\": \"Big Blue Bus\", \"route_id\": \"3486\", \"route_short_name\": \"8\", \"service_date\": \"2022-05-30T00:00:00\", \"pct_w_vp\": 1.0}, {\"agency_name\": \"Big Blue Bus\", \"route_id\": \"3486\", \"route_short_name\": \"8\", \"service_date\": \"2022-06-19T00:00:00\", \"pct_w_vp\": 0.7272727272727273}, {\"agency_name\": \"Big Blue Bus\", \"route_id\": \"3486\", \"route_short_name\": \"8\", \"service_date\": \"2022-05-01T00:00:00\", \"pct_w_vp\": 0.7272727272727273}, {\"agency_name\": \"Big Blue Bus\", \"route_id\": \"3486\", \"route_short_name\": \"8\", \"service_date\": \"2022-06-05T00:00:00\", \"pct_w_vp\": 0.6060606060606061}, {\"agency_name\": \"Big Blue Bus\", \"route_id\": \"3486\", \"route_short_name\": \"8\", \"service_date\": \"2022-05-22T00:00:00\", \"pct_w_vp\": 0.7272727272727273}, {\"agency_name\": \"Big Blue Bus\", \"route_id\": \"3487\", \"route_short_name\": \"9\", \"service_date\": \"2022-06-21T00:00:00\", \"pct_w_vp\": 0.8939393939393939}, {\"agency_name\": \"Big Blue Bus\", \"route_id\": \"3487\", \"route_short_name\": \"9\", \"service_date\": \"2022-06-17T00:00:00\", \"pct_w_vp\": 0.9545454545454546}, {\"agency_name\": \"Big Blue Bus\", \"route_id\": \"3487\", \"route_short_name\": \"9\", \"service_date\": \"2022-06-29T00:00:00\", \"pct_w_vp\": 1.0}, {\"agency_name\": \"Big Blue Bus\", \"route_id\": \"3487\", \"route_short_name\": \"9\", \"service_date\": \"2022-06-20T00:00:00\", \"pct_w_vp\": 0.7272727272727273}, {\"agency_name\": \"Big Blue Bus\", \"route_id\": \"3487\", \"route_short_name\": \"9\", \"service_date\": \"2022-06-13T00:00:00\", \"pct_w_vp\": 0.7121212121212122}, {\"agency_name\": \"Big Blue Bus\", \"route_id\": \"3487\", \"route_short_name\": \"9\", \"service_date\": \"2022-06-14T00:00:00\", \"pct_w_vp\": 0.8939393939393939}, {\"agency_name\": \"Big Blue Bus\", \"route_id\": \"3487\", \"route_short_name\": \"9\", \"service_date\": \"2022-06-28T00:00:00\", \"pct_w_vp\": 0.9848484848484849}, {\"agency_name\": \"Big Blue Bus\", \"route_id\": \"3487\", \"route_short_name\": \"9\", \"service_date\": \"2022-06-09T00:00:00\", \"pct_w_vp\": 0.9848484848484849}, {\"agency_name\": \"Big Blue Bus\", \"route_id\": \"3487\", \"route_short_name\": \"9\", \"service_date\": \"2022-06-16T00:00:00\", \"pct_w_vp\": 1.0}, {\"agency_name\": \"Big Blue Bus\", \"route_id\": \"3487\", \"route_short_name\": \"9\", \"service_date\": \"2022-06-27T00:00:00\", \"pct_w_vp\": 0.7424242424242424}, {\"agency_name\": \"Big Blue Bus\", \"route_id\": \"3487\", \"route_short_name\": \"9\", \"service_date\": \"2022-06-23T00:00:00\", \"pct_w_vp\": 1.0}, {\"agency_name\": \"Big Blue Bus\", \"route_id\": \"3487\", \"route_short_name\": \"9\", \"service_date\": \"2022-06-10T00:00:00\", \"pct_w_vp\": 0.9393939393939394}, {\"agency_name\": \"Big Blue Bus\", \"route_id\": \"3487\", \"route_short_name\": \"9\", \"service_date\": \"2022-06-15T00:00:00\", \"pct_w_vp\": 0.9393939393939394}, {\"agency_name\": \"Big Blue Bus\", \"route_id\": \"3487\", \"route_short_name\": \"9\", \"service_date\": \"2022-06-24T00:00:00\", \"pct_w_vp\": 0.9545454545454546}, {\"agency_name\": \"Big Blue Bus\", \"route_id\": \"3487\", \"route_short_name\": \"9\", \"service_date\": \"2022-06-30T00:00:00\", \"pct_w_vp\": 1.0}, {\"agency_name\": \"Big Blue Bus\", \"route_id\": \"3487\", \"route_short_name\": \"9\", \"service_date\": \"2022-06-22T00:00:00\", \"pct_w_vp\": 1.0}, {\"agency_name\": \"Big Blue Bus\", \"route_id\": \"3480\", \"route_short_name\": \"2\", \"service_date\": \"2022-06-19T00:00:00\", \"pct_w_vp\": 0.7205882352941176}, {\"agency_name\": \"Big Blue Bus\", \"route_id\": \"3480\", \"route_short_name\": \"2\", \"service_date\": \"2022-05-08T00:00:00\", \"pct_w_vp\": 0.7058823529411765}, {\"agency_name\": \"Big Blue Bus\", \"route_id\": \"3480\", \"route_short_name\": \"2\", \"service_date\": \"2022-06-05T00:00:00\", \"pct_w_vp\": 0.7058823529411765}, {\"agency_name\": \"Big Blue Bus\", \"route_id\": \"3480\", \"route_short_name\": \"2\", \"service_date\": \"2022-05-01T00:00:00\", \"pct_w_vp\": 0.6029411764705882}, {\"agency_name\": \"Big Blue Bus\", \"route_id\": \"3480\", \"route_short_name\": \"2\", \"service_date\": \"2022-06-26T00:00:00\", \"pct_w_vp\": 0.6764705882352942}, {\"agency_name\": \"Big Blue Bus\", \"route_id\": \"3480\", \"route_short_name\": \"2\", \"service_date\": \"2022-05-29T00:00:00\", \"pct_w_vp\": 0.7058823529411765}, {\"agency_name\": \"Big Blue Bus\", \"route_id\": \"3480\", \"route_short_name\": \"2\", \"service_date\": \"2022-05-22T00:00:00\", \"pct_w_vp\": 0.5588235294117647}, {\"agency_name\": \"Big Blue Bus\", \"route_id\": \"3480\", \"route_short_name\": \"2\", \"service_date\": \"2022-05-30T00:00:00\", \"pct_w_vp\": 0.9411764705882353}, {\"agency_name\": \"Big Blue Bus\", \"route_id\": \"3480\", \"route_short_name\": \"2\", \"service_date\": \"2022-06-12T00:00:00\", \"pct_w_vp\": 0.6911764705882353}, {\"agency_name\": \"Big Blue Bus\", \"route_id\": \"3480\", \"route_short_name\": \"2\", \"service_date\": \"2022-05-15T00:00:00\", \"pct_w_vp\": 0.6617647058823529}, {\"agency_name\": \"Big Blue Bus\", \"route_id\": \"3486\", \"route_short_name\": \"8\", \"service_date\": \"2022-05-28T00:00:00\", \"pct_w_vp\": 0.6029411764705882}, {\"agency_name\": \"Big Blue Bus\", \"route_id\": \"3486\", \"route_short_name\": \"8\", \"service_date\": \"2022-05-14T00:00:00\", \"pct_w_vp\": 0.7058823529411765}, {\"agency_name\": \"Big Blue Bus\", \"route_id\": \"3486\", \"route_short_name\": \"8\", \"service_date\": \"2022-05-21T00:00:00\", \"pct_w_vp\": 0.7205882352941176}, {\"agency_name\": \"Big Blue Bus\", \"route_id\": \"3486\", \"route_short_name\": \"8\", \"service_date\": \"2022-05-07T00:00:00\", \"pct_w_vp\": 0.6764705882352942}, {\"agency_name\": \"Big Blue Bus\", \"route_id\": \"3486\", \"route_short_name\": \"8\", \"service_date\": \"2022-06-18T00:00:00\", \"pct_w_vp\": 0.6911764705882353}, {\"agency_name\": \"Big Blue Bus\", \"route_id\": \"3486\", \"route_short_name\": \"8\", \"service_date\": \"2022-06-25T00:00:00\", \"pct_w_vp\": 0.6617647058823529}, {\"agency_name\": \"Big Blue Bus\", \"route_id\": \"3486\", \"route_short_name\": \"8\", \"service_date\": \"2022-06-11T00:00:00\", \"pct_w_vp\": 0.6470588235294118}, {\"agency_name\": \"Big Blue Bus\", \"route_id\": \"3486\", \"route_short_name\": \"8\", \"service_date\": \"2022-06-04T00:00:00\", \"pct_w_vp\": 0.6764705882352942}, {\"agency_name\": \"Big Blue Bus\", \"route_id\": \"3487\", \"route_short_name\": \"9\", \"service_date\": \"2022-05-17T00:00:00\", \"pct_w_vp\": 0.8823529411764706}, {\"agency_name\": \"Big Blue Bus\", \"route_id\": \"3487\", \"route_short_name\": \"9\", \"service_date\": \"2022-05-04T00:00:00\", \"pct_w_vp\": 0.9117647058823529}, {\"agency_name\": \"Big Blue Bus\", \"route_id\": \"3487\", \"route_short_name\": \"9\", \"service_date\": \"2022-06-06T00:00:00\", \"pct_w_vp\": 0.7058823529411765}, {\"agency_name\": \"Big Blue Bus\", \"route_id\": \"3487\", \"route_short_name\": \"9\", \"service_date\": \"2022-05-16T00:00:00\", \"pct_w_vp\": 0.6323529411764706}, {\"agency_name\": \"Big Blue Bus\", \"route_id\": \"3487\", \"route_short_name\": \"9\", \"service_date\": \"2022-05-31T00:00:00\", \"pct_w_vp\": 0.7352941176470589}, {\"agency_name\": \"Big Blue Bus\", \"route_id\": \"3487\", \"route_short_name\": \"9\", \"service_date\": \"2022-05-20T00:00:00\", \"pct_w_vp\": 1.0}, {\"agency_name\": \"Big Blue Bus\", \"route_id\": \"3487\", \"route_short_name\": \"9\", \"service_date\": \"2022-05-12T00:00:00\", \"pct_w_vp\": 0.9852941176470589}, {\"agency_name\": \"Big Blue Bus\", \"route_id\": \"3487\", \"route_short_name\": \"9\", \"service_date\": \"2022-05-25T00:00:00\", \"pct_w_vp\": 0.9264705882352942}, {\"agency_name\": \"Big Blue Bus\", \"route_id\": \"3487\", \"route_short_name\": \"9\", \"service_date\": \"2022-05-09T00:00:00\", \"pct_w_vp\": 0.7352941176470589}, {\"agency_name\": \"Big Blue Bus\", \"route_id\": \"3487\", \"route_short_name\": \"9\", \"service_date\": \"2022-05-24T00:00:00\", \"pct_w_vp\": 1.0}, {\"agency_name\": \"Big Blue Bus\", \"route_id\": \"3487\", \"route_short_name\": \"9\", \"service_date\": \"2022-06-07T00:00:00\", \"pct_w_vp\": 0.9117647058823529}, {\"agency_name\": \"Big Blue Bus\", \"route_id\": \"3487\", \"route_short_name\": \"9\", \"service_date\": \"2022-05-19T00:00:00\", \"pct_w_vp\": 1.0}, {\"agency_name\": \"Big Blue Bus\", \"route_id\": \"3487\", \"route_short_name\": \"9\", \"service_date\": \"2022-06-03T00:00:00\", \"pct_w_vp\": 0.9411764705882353}, {\"agency_name\": \"Big Blue Bus\", \"route_id\": \"3487\", \"route_short_name\": \"9\", \"service_date\": \"2022-06-01T00:00:00\", \"pct_w_vp\": 0.9852941176470589}, {\"agency_name\": \"Big Blue Bus\", \"route_id\": \"3487\", \"route_short_name\": \"9\", \"service_date\": \"2022-05-10T00:00:00\", \"pct_w_vp\": 1.0}, {\"agency_name\": \"Big Blue Bus\", \"route_id\": \"3487\", \"route_short_name\": \"9\", \"service_date\": \"2022-05-06T00:00:00\", \"pct_w_vp\": 0.9411764705882353}, {\"agency_name\": \"Big Blue Bus\", \"route_id\": \"3487\", \"route_short_name\": \"9\", \"service_date\": \"2022-05-02T00:00:00\", \"pct_w_vp\": 0.7794117647058824}, {\"agency_name\": \"Big Blue Bus\", \"route_id\": \"3487\", \"route_short_name\": \"9\", \"service_date\": \"2022-05-18T00:00:00\", \"pct_w_vp\": 1.0}, {\"agency_name\": \"Big Blue Bus\", \"route_id\": \"3487\", \"route_short_name\": \"9\", \"service_date\": \"2022-05-27T00:00:00\", \"pct_w_vp\": 0.9705882352941176}, {\"agency_name\": \"Big Blue Bus\", \"route_id\": \"3487\", \"route_short_name\": \"9\", \"service_date\": \"2022-05-26T00:00:00\", \"pct_w_vp\": 1.0}, {\"agency_name\": \"Big Blue Bus\", \"route_id\": \"3487\", \"route_short_name\": \"9\", \"service_date\": \"2022-05-13T00:00:00\", \"pct_w_vp\": 0.8676470588235294}, {\"agency_name\": \"Big Blue Bus\", \"route_id\": \"3487\", \"route_short_name\": \"9\", \"service_date\": \"2022-05-05T00:00:00\", \"pct_w_vp\": 0.8529411764705882}, {\"agency_name\": \"Big Blue Bus\", \"route_id\": \"3487\", \"route_short_name\": \"9\", \"service_date\": \"2022-06-08T00:00:00\", \"pct_w_vp\": 0.8382352941176471}, {\"agency_name\": \"Big Blue Bus\", \"route_id\": \"3487\", \"route_short_name\": \"9\", \"service_date\": \"2022-05-03T00:00:00\", \"pct_w_vp\": 1.0}, {\"agency_name\": \"Big Blue Bus\", \"route_id\": \"3487\", \"route_short_name\": \"9\", \"service_date\": \"2022-06-02T00:00:00\", \"pct_w_vp\": 0.9411764705882353}, {\"agency_name\": \"Big Blue Bus\", \"route_id\": \"3487\", \"route_short_name\": \"9\", \"service_date\": \"2022-05-23T00:00:00\", \"pct_w_vp\": 0.7794117647058824}, {\"agency_name\": \"Big Blue Bus\", \"route_id\": \"3487\", \"route_short_name\": \"9\", \"service_date\": \"2022-05-11T00:00:00\", \"pct_w_vp\": 1.0}, {\"agency_name\": \"Big Blue Bus\", \"route_id\": \"3486\", \"route_short_name\": \"8\", \"service_date\": \"2022-05-12T00:00:00\", \"pct_w_vp\": 1.0}, {\"agency_name\": \"Big Blue Bus\", \"route_id\": \"3486\", \"route_short_name\": \"8\", \"service_date\": \"2022-05-11T00:00:00\", \"pct_w_vp\": 1.0}, {\"agency_name\": \"Big Blue Bus\", \"route_id\": \"3486\", \"route_short_name\": \"8\", \"service_date\": \"2022-05-05T00:00:00\", \"pct_w_vp\": 1.0}, {\"agency_name\": \"Big Blue Bus\", \"route_id\": \"3486\", \"route_short_name\": \"8\", \"service_date\": \"2022-05-06T00:00:00\", \"pct_w_vp\": 0.9859154929577465}, {\"agency_name\": \"Big Blue Bus\", \"route_id\": \"3486\", \"route_short_name\": \"8\", \"service_date\": \"2022-05-13T00:00:00\", \"pct_w_vp\": 1.0}, {\"agency_name\": \"Big Blue Bus\", \"route_id\": \"3486\", \"route_short_name\": \"8\", \"service_date\": \"2022-05-17T00:00:00\", \"pct_w_vp\": 0.8732394366197183}, {\"agency_name\": \"Big Blue Bus\", \"route_id\": \"3486\", \"route_short_name\": \"8\", \"service_date\": \"2022-06-03T00:00:00\", \"pct_w_vp\": 0.9295774647887324}, {\"agency_name\": \"Big Blue Bus\", \"route_id\": \"3486\", \"route_short_name\": \"8\", \"service_date\": \"2022-06-24T00:00:00\", \"pct_w_vp\": 0.9014084507042254}, {\"agency_name\": \"Big Blue Bus\", \"route_id\": \"3486\", \"route_short_name\": \"8\", \"service_date\": \"2022-05-20T00:00:00\", \"pct_w_vp\": 0.9436619718309859}, {\"agency_name\": \"Big Blue Bus\", \"route_id\": \"3486\", \"route_short_name\": \"8\", \"service_date\": \"2022-06-02T00:00:00\", \"pct_w_vp\": 1.0}, {\"agency_name\": \"Big Blue Bus\", \"route_id\": \"3486\", \"route_short_name\": \"8\", \"service_date\": \"2022-05-27T00:00:00\", \"pct_w_vp\": 1.0}, {\"agency_name\": \"Big Blue Bus\", \"route_id\": \"3486\", \"route_short_name\": \"8\", \"service_date\": \"2022-05-09T00:00:00\", \"pct_w_vp\": 0.647887323943662}, {\"agency_name\": \"Big Blue Bus\", \"route_id\": \"3486\", \"route_short_name\": \"8\", \"service_date\": \"2022-06-07T00:00:00\", \"pct_w_vp\": 0.971830985915493}, {\"agency_name\": \"Big Blue Bus\", \"route_id\": \"3486\", \"route_short_name\": \"8\", \"service_date\": \"2022-05-24T00:00:00\", \"pct_w_vp\": 0.9154929577464789}, {\"agency_name\": \"Big Blue Bus\", \"route_id\": \"3486\", \"route_short_name\": \"8\", \"service_date\": \"2022-05-25T00:00:00\", \"pct_w_vp\": 1.0}, {\"agency_name\": \"Big Blue Bus\", \"route_id\": \"3486\", \"route_short_name\": \"8\", \"service_date\": \"2022-05-23T00:00:00\", \"pct_w_vp\": 0.704225352112676}, {\"agency_name\": \"Big Blue Bus\", \"route_id\": \"3486\", \"route_short_name\": \"8\", \"service_date\": \"2022-05-10T00:00:00\", \"pct_w_vp\": 0.9577464788732394}, {\"agency_name\": \"Big Blue Bus\", \"route_id\": \"3486\", \"route_short_name\": \"8\", \"service_date\": \"2022-06-09T00:00:00\", \"pct_w_vp\": 1.0}, {\"agency_name\": \"Big Blue Bus\", \"route_id\": \"3486\", \"route_short_name\": \"8\", \"service_date\": \"2022-05-03T00:00:00\", \"pct_w_vp\": 0.9154929577464789}, {\"agency_name\": \"Big Blue Bus\", \"route_id\": \"3486\", \"route_short_name\": \"8\", \"service_date\": \"2022-06-20T00:00:00\", \"pct_w_vp\": 0.6901408450704225}, {\"agency_name\": \"Big Blue Bus\", \"route_id\": \"3486\", \"route_short_name\": \"8\", \"service_date\": \"2022-05-02T00:00:00\", \"pct_w_vp\": 0.6056338028169014}, {\"agency_name\": \"Big Blue Bus\", \"route_id\": \"3486\", \"route_short_name\": \"8\", \"service_date\": \"2022-05-26T00:00:00\", \"pct_w_vp\": 0.9859154929577465}, {\"agency_name\": \"Big Blue Bus\", \"route_id\": \"3486\", \"route_short_name\": \"8\", \"service_date\": \"2022-06-27T00:00:00\", \"pct_w_vp\": 0.6901408450704225}, {\"agency_name\": \"Big Blue Bus\", \"route_id\": \"3486\", \"route_short_name\": \"8\", \"service_date\": \"2022-06-14T00:00:00\", \"pct_w_vp\": 1.0}, {\"agency_name\": \"Big Blue Bus\", \"route_id\": \"3486\", \"route_short_name\": \"8\", \"service_date\": \"2022-05-31T00:00:00\", \"pct_w_vp\": 0.704225352112676}, {\"agency_name\": \"Big Blue Bus\", \"route_id\": \"3486\", \"route_short_name\": \"8\", \"service_date\": \"2022-06-13T00:00:00\", \"pct_w_vp\": 0.704225352112676}, {\"agency_name\": \"Big Blue Bus\", \"route_id\": \"3486\", \"route_short_name\": \"8\", \"service_date\": \"2022-05-16T00:00:00\", \"pct_w_vp\": 0.6619718309859155}, {\"agency_name\": \"Big Blue Bus\", \"route_id\": \"3486\", \"route_short_name\": \"8\", \"service_date\": \"2022-05-04T00:00:00\", \"pct_w_vp\": 1.0}, {\"agency_name\": \"Big Blue Bus\", \"route_id\": \"3486\", \"route_short_name\": \"8\", \"service_date\": \"2022-06-10T00:00:00\", \"pct_w_vp\": 0.9014084507042254}, {\"agency_name\": \"Big Blue Bus\", \"route_id\": \"3486\", \"route_short_name\": \"8\", \"service_date\": \"2022-06-22T00:00:00\", \"pct_w_vp\": 1.0}, {\"agency_name\": \"Big Blue Bus\", \"route_id\": \"3486\", \"route_short_name\": \"8\", \"service_date\": \"2022-06-23T00:00:00\", \"pct_w_vp\": 1.0}, {\"agency_name\": \"Big Blue Bus\", \"route_id\": \"3486\", \"route_short_name\": \"8\", \"service_date\": \"2022-06-21T00:00:00\", \"pct_w_vp\": 1.0}, {\"agency_name\": \"Big Blue Bus\", \"route_id\": \"3486\", \"route_short_name\": \"8\", \"service_date\": \"2022-05-19T00:00:00\", \"pct_w_vp\": 0.9014084507042254}, {\"agency_name\": \"Big Blue Bus\", \"route_id\": \"3486\", \"route_short_name\": \"8\", \"service_date\": \"2022-05-18T00:00:00\", \"pct_w_vp\": 1.0}, {\"agency_name\": \"Big Blue Bus\", \"route_id\": \"3486\", \"route_short_name\": \"8\", \"service_date\": \"2022-06-06T00:00:00\", \"pct_w_vp\": 0.676056338028169}, {\"agency_name\": \"Big Blue Bus\", \"route_id\": \"3486\", \"route_short_name\": \"8\", \"service_date\": \"2022-06-28T00:00:00\", \"pct_w_vp\": 0.9436619718309859}, {\"agency_name\": \"Big Blue Bus\", \"route_id\": \"3486\", \"route_short_name\": \"8\", \"service_date\": \"2022-06-01T00:00:00\", \"pct_w_vp\": 1.0}, {\"agency_name\": \"Big Blue Bus\", \"route_id\": \"3486\", \"route_short_name\": \"8\", \"service_date\": \"2022-06-16T00:00:00\", \"pct_w_vp\": 1.0}, {\"agency_name\": \"Big Blue Bus\", \"route_id\": \"3486\", \"route_short_name\": \"8\", \"service_date\": \"2022-06-15T00:00:00\", \"pct_w_vp\": 1.0}, {\"agency_name\": \"Big Blue Bus\", \"route_id\": \"3486\", \"route_short_name\": \"8\", \"service_date\": \"2022-06-08T00:00:00\", \"pct_w_vp\": 0.9859154929577465}, {\"agency_name\": \"Big Blue Bus\", \"route_id\": \"3486\", \"route_short_name\": \"8\", \"service_date\": \"2022-06-17T00:00:00\", \"pct_w_vp\": 1.0}, {\"agency_name\": \"Big Blue Bus\", \"route_id\": \"3486\", \"route_short_name\": \"8\", \"service_date\": \"2022-06-30T00:00:00\", \"pct_w_vp\": 0.971830985915493}, {\"agency_name\": \"Big Blue Bus\", \"route_id\": \"3486\", \"route_short_name\": \"8\", \"service_date\": \"2022-06-29T00:00:00\", \"pct_w_vp\": 1.0}, {\"agency_name\": \"Big Blue Bus\", \"route_id\": \"3480\", \"route_short_name\": \"2\", \"service_date\": \"2022-05-28T00:00:00\", \"pct_w_vp\": 0.7236842105263158}, {\"agency_name\": \"Big Blue Bus\", \"route_id\": \"3480\", \"route_short_name\": \"2\", \"service_date\": \"2022-06-25T00:00:00\", \"pct_w_vp\": 0.5789473684210527}, {\"agency_name\": \"Big Blue Bus\", \"route_id\": \"3480\", \"route_short_name\": \"2\", \"service_date\": \"2022-05-07T00:00:00\", \"pct_w_vp\": 0.6973684210526315}, {\"agency_name\": \"Big Blue Bus\", \"route_id\": \"3480\", \"route_short_name\": \"2\", \"service_date\": \"2022-06-04T00:00:00\", \"pct_w_vp\": 0.7105263157894737}, {\"agency_name\": \"Big Blue Bus\", \"route_id\": \"3480\", \"route_short_name\": \"2\", \"service_date\": \"2022-06-11T00:00:00\", \"pct_w_vp\": 0.6842105263157895}, {\"agency_name\": \"Big Blue Bus\", \"route_id\": \"3480\", \"route_short_name\": \"2\", \"service_date\": \"2022-05-21T00:00:00\", \"pct_w_vp\": 0.7105263157894737}, {\"agency_name\": \"Big Blue Bus\", \"route_id\": \"3480\", \"route_short_name\": \"2\", \"service_date\": \"2022-05-14T00:00:00\", \"pct_w_vp\": 0.7368421052631579}, {\"agency_name\": \"Big Blue Bus\", \"route_id\": \"3480\", \"route_short_name\": \"2\", \"service_date\": \"2022-06-18T00:00:00\", \"pct_w_vp\": 0.7105263157894737}, {\"agency_name\": \"Big Blue Bus\", \"route_id\": \"3496\", \"route_short_name\": \"R7\", \"service_date\": \"2022-06-29T00:00:00\", \"pct_w_vp\": 1.0}, {\"agency_name\": \"Big Blue Bus\", \"route_id\": \"3496\", \"route_short_name\": \"R7\", \"service_date\": \"2022-05-25T00:00:00\", \"pct_w_vp\": 0.8421052631578947}, {\"agency_name\": \"Big Blue Bus\", \"route_id\": \"3496\", \"route_short_name\": \"R7\", \"service_date\": \"2022-05-16T00:00:00\", \"pct_w_vp\": 0.75}, {\"agency_name\": \"Big Blue Bus\", \"route_id\": \"3496\", \"route_short_name\": \"R7\", \"service_date\": \"2022-06-17T00:00:00\", \"pct_w_vp\": 0.9736842105263158}, {\"agency_name\": \"Big Blue Bus\", \"route_id\": \"3496\", \"route_short_name\": \"R7\", \"service_date\": \"2022-05-26T00:00:00\", \"pct_w_vp\": 0.9473684210526315}, {\"agency_name\": \"Big Blue Bus\", \"route_id\": \"3496\", \"route_short_name\": \"R7\", \"service_date\": \"2022-06-01T00:00:00\", \"pct_w_vp\": 0.9605263157894737}, {\"agency_name\": \"Big Blue Bus\", \"route_id\": \"3496\", \"route_short_name\": \"R7\", \"service_date\": \"2022-06-09T00:00:00\", \"pct_w_vp\": 0.8157894736842105}, {\"agency_name\": \"Big Blue Bus\", \"route_id\": \"3496\", \"route_short_name\": \"R7\", \"service_date\": \"2022-06-27T00:00:00\", \"pct_w_vp\": 0.7631578947368421}, {\"agency_name\": \"Big Blue Bus\", \"route_id\": \"3496\", \"route_short_name\": \"R7\", \"service_date\": \"2022-06-03T00:00:00\", \"pct_w_vp\": 0.9342105263157895}, {\"agency_name\": \"Big Blue Bus\", \"route_id\": \"3496\", \"route_short_name\": \"R7\", \"service_date\": \"2022-06-06T00:00:00\", \"pct_w_vp\": 0.7763157894736842}, {\"agency_name\": \"Big Blue Bus\", \"route_id\": \"3496\", \"route_short_name\": \"R7\", \"service_date\": \"2022-06-07T00:00:00\", \"pct_w_vp\": 1.0}, {\"agency_name\": \"Big Blue Bus\", \"route_id\": \"3496\", \"route_short_name\": \"R7\", \"service_date\": \"2022-05-31T00:00:00\", \"pct_w_vp\": 0.8026315789473685}, {\"agency_name\": \"Big Blue Bus\", \"route_id\": \"3496\", \"route_short_name\": \"R7\", \"service_date\": \"2022-06-08T00:00:00\", \"pct_w_vp\": 0.8289473684210527}, {\"agency_name\": \"Big Blue Bus\", \"route_id\": \"3496\", \"route_short_name\": \"R7\", \"service_date\": \"2022-05-10T00:00:00\", \"pct_w_vp\": 0.9342105263157895}, {\"agency_name\": \"Big Blue Bus\", \"route_id\": \"3496\", \"route_short_name\": \"R7\", \"service_date\": \"2022-05-11T00:00:00\", \"pct_w_vp\": 0.9736842105263158}, {\"agency_name\": \"Big Blue Bus\", \"route_id\": \"3496\", \"route_short_name\": \"R7\", \"service_date\": \"2022-06-24T00:00:00\", \"pct_w_vp\": 0.8421052631578947}, {\"agency_name\": \"Big Blue Bus\", \"route_id\": \"3496\", \"route_short_name\": \"R7\", \"service_date\": \"2022-05-13T00:00:00\", \"pct_w_vp\": 0.8947368421052632}, {\"agency_name\": \"Big Blue Bus\", \"route_id\": \"3496\", \"route_short_name\": \"R7\", \"service_date\": \"2022-06-30T00:00:00\", \"pct_w_vp\": 1.0}, {\"agency_name\": \"Big Blue Bus\", \"route_id\": \"3496\", \"route_short_name\": \"R7\", \"service_date\": \"2022-05-20T00:00:00\", \"pct_w_vp\": 1.0}, {\"agency_name\": \"Big Blue Bus\", \"route_id\": \"3496\", \"route_short_name\": \"R7\", \"service_date\": \"2022-05-23T00:00:00\", \"pct_w_vp\": 0.7631578947368421}, {\"agency_name\": \"Big Blue Bus\", \"route_id\": \"3496\", \"route_short_name\": \"R7\", \"service_date\": \"2022-06-15T00:00:00\", \"pct_w_vp\": 0.9736842105263158}, {\"agency_name\": \"Big Blue Bus\", \"route_id\": \"3496\", \"route_short_name\": \"R7\", \"service_date\": \"2022-06-14T00:00:00\", \"pct_w_vp\": 0.9342105263157895}, {\"agency_name\": \"Big Blue Bus\", \"route_id\": \"3496\", \"route_short_name\": \"R7\", \"service_date\": \"2022-06-21T00:00:00\", \"pct_w_vp\": 0.9868421052631579}, {\"agency_name\": \"Big Blue Bus\", \"route_id\": \"3496\", \"route_short_name\": \"R7\", \"service_date\": \"2022-05-19T00:00:00\", \"pct_w_vp\": 1.0}, {\"agency_name\": \"Big Blue Bus\", \"route_id\": \"3496\", \"route_short_name\": \"R7\", \"service_date\": \"2022-05-09T00:00:00\", \"pct_w_vp\": 0.8552631578947368}, {\"agency_name\": \"Big Blue Bus\", \"route_id\": \"3496\", \"route_short_name\": \"R7\", \"service_date\": \"2022-05-27T00:00:00\", \"pct_w_vp\": 0.8421052631578947}, {\"agency_name\": \"Big Blue Bus\", \"route_id\": \"3496\", \"route_short_name\": \"R7\", \"service_date\": \"2022-06-20T00:00:00\", \"pct_w_vp\": 0.8552631578947368}, {\"agency_name\": \"Big Blue Bus\", \"route_id\": \"3496\", \"route_short_name\": \"R7\", \"service_date\": \"2022-05-12T00:00:00\", \"pct_w_vp\": 0.9868421052631579}, {\"agency_name\": \"Big Blue Bus\", \"route_id\": \"3496\", \"route_short_name\": \"R7\", \"service_date\": \"2022-06-16T00:00:00\", \"pct_w_vp\": 0.9605263157894737}, {\"agency_name\": \"Big Blue Bus\", \"route_id\": \"3496\", \"route_short_name\": \"R7\", \"service_date\": \"2022-05-03T00:00:00\", \"pct_w_vp\": 0.9605263157894737}, {\"agency_name\": \"Big Blue Bus\", \"route_id\": \"3496\", \"route_short_name\": \"R7\", \"service_date\": \"2022-05-05T00:00:00\", \"pct_w_vp\": 1.0}, {\"agency_name\": \"Big Blue Bus\", \"route_id\": \"3496\", \"route_short_name\": \"R7\", \"service_date\": \"2022-06-02T00:00:00\", \"pct_w_vp\": 0.9736842105263158}, {\"agency_name\": \"Big Blue Bus\", \"route_id\": \"3496\", \"route_short_name\": \"R7\", \"service_date\": \"2022-06-22T00:00:00\", \"pct_w_vp\": 0.9473684210526315}, {\"agency_name\": \"Big Blue Bus\", \"route_id\": \"3496\", \"route_short_name\": \"R7\", \"service_date\": \"2022-05-04T00:00:00\", \"pct_w_vp\": 1.0}, {\"agency_name\": \"Big Blue Bus\", \"route_id\": \"3496\", \"route_short_name\": \"R7\", \"service_date\": \"2022-05-06T00:00:00\", \"pct_w_vp\": 0.8947368421052632}, {\"agency_name\": \"Big Blue Bus\", \"route_id\": \"3496\", \"route_short_name\": \"R7\", \"service_date\": \"2022-06-10T00:00:00\", \"pct_w_vp\": 0.9210526315789473}, {\"agency_name\": \"Big Blue Bus\", \"route_id\": \"3496\", \"route_short_name\": \"R7\", \"service_date\": \"2022-05-24T00:00:00\", \"pct_w_vp\": 0.9473684210526315}, {\"agency_name\": \"Big Blue Bus\", \"route_id\": \"3496\", \"route_short_name\": \"R7\", \"service_date\": \"2022-06-23T00:00:00\", \"pct_w_vp\": 0.9342105263157895}, {\"agency_name\": \"Big Blue Bus\", \"route_id\": \"3496\", \"route_short_name\": \"R7\", \"service_date\": \"2022-05-18T00:00:00\", \"pct_w_vp\": 0.9736842105263158}, {\"agency_name\": \"Big Blue Bus\", \"route_id\": \"3496\", \"route_short_name\": \"R7\", \"service_date\": \"2022-06-13T00:00:00\", \"pct_w_vp\": 0.8552631578947368}, {\"agency_name\": \"Big Blue Bus\", \"route_id\": \"3496\", \"route_short_name\": \"R7\", \"service_date\": \"2022-05-17T00:00:00\", \"pct_w_vp\": 0.8947368421052632}, {\"agency_name\": \"Big Blue Bus\", \"route_id\": \"3496\", \"route_short_name\": \"R7\", \"service_date\": \"2022-06-28T00:00:00\", \"pct_w_vp\": 0.9342105263157895}, {\"agency_name\": \"Big Blue Bus\", \"route_id\": \"3496\", \"route_short_name\": \"R7\", \"service_date\": \"2022-05-02T00:00:00\", \"pct_w_vp\": 0.8552631578947368}, {\"agency_name\": \"Big Blue Bus\", \"route_id\": \"3480\", \"route_short_name\": \"2\", \"service_date\": \"2022-05-06T00:00:00\", \"pct_w_vp\": 0.9634146341463414}, {\"agency_name\": \"Big Blue Bus\", \"route_id\": \"3480\", \"route_short_name\": \"2\", \"service_date\": \"2022-06-29T00:00:00\", \"pct_w_vp\": 1.0}, {\"agency_name\": \"Big Blue Bus\", \"route_id\": \"3480\", \"route_short_name\": \"2\", \"service_date\": \"2022-06-03T00:00:00\", \"pct_w_vp\": 0.8536585365853658}, {\"agency_name\": \"Big Blue Bus\", \"route_id\": \"3480\", \"route_short_name\": \"2\", \"service_date\": \"2022-05-03T00:00:00\", \"pct_w_vp\": 1.0}, {\"agency_name\": \"Big Blue Bus\", \"route_id\": \"3480\", \"route_short_name\": \"2\", \"service_date\": \"2022-05-09T00:00:00\", \"pct_w_vp\": 0.6585365853658537}, {\"agency_name\": \"Big Blue Bus\", \"route_id\": \"3480\", \"route_short_name\": \"2\", \"service_date\": \"2022-06-28T00:00:00\", \"pct_w_vp\": 0.975609756097561}, {\"agency_name\": \"Big Blue Bus\", \"route_id\": \"3480\", \"route_short_name\": \"2\", \"service_date\": \"2022-06-10T00:00:00\", \"pct_w_vp\": 0.8536585365853658}, {\"agency_name\": \"Big Blue Bus\", \"route_id\": \"3480\", \"route_short_name\": \"2\", \"service_date\": \"2022-06-30T00:00:00\", \"pct_w_vp\": 1.0}, {\"agency_name\": \"Big Blue Bus\", \"route_id\": \"3480\", \"route_short_name\": \"2\", \"service_date\": \"2022-06-13T00:00:00\", \"pct_w_vp\": 0.6951219512195121}, {\"agency_name\": \"Big Blue Bus\", \"route_id\": \"3480\", \"route_short_name\": \"2\", \"service_date\": \"2022-06-14T00:00:00\", \"pct_w_vp\": 0.9634146341463414}, {\"agency_name\": \"Big Blue Bus\", \"route_id\": \"3480\", \"route_short_name\": \"2\", \"service_date\": \"2022-06-08T00:00:00\", \"pct_w_vp\": 0.8902439024390244}, {\"agency_name\": \"Big Blue Bus\", \"route_id\": \"3480\", \"route_short_name\": \"2\", \"service_date\": \"2022-06-06T00:00:00\", \"pct_w_vp\": 0.7073170731707317}, {\"agency_name\": \"Big Blue Bus\", \"route_id\": \"3480\", \"route_short_name\": \"2\", \"service_date\": \"2022-06-02T00:00:00\", \"pct_w_vp\": 0.9024390243902439}, {\"agency_name\": \"Big Blue Bus\", \"route_id\": \"3480\", \"route_short_name\": \"2\", \"service_date\": \"2022-06-20T00:00:00\", \"pct_w_vp\": 0.6707317073170732}, {\"agency_name\": \"Big Blue Bus\", \"route_id\": \"3480\", \"route_short_name\": \"2\", \"service_date\": \"2022-06-16T00:00:00\", \"pct_w_vp\": 1.0}, {\"agency_name\": \"Big Blue Bus\", \"route_id\": \"3480\", \"route_short_name\": \"2\", \"service_date\": \"2022-06-01T00:00:00\", \"pct_w_vp\": 0.8902439024390244}, {\"agency_name\": \"Big Blue Bus\", \"route_id\": \"3480\", \"route_short_name\": \"2\", \"service_date\": \"2022-06-21T00:00:00\", \"pct_w_vp\": 0.9634146341463414}, {\"agency_name\": \"Big Blue Bus\", \"route_id\": \"3480\", \"route_short_name\": \"2\", \"service_date\": \"2022-05-12T00:00:00\", \"pct_w_vp\": 0.9634146341463414}, {\"agency_name\": \"Big Blue Bus\", \"route_id\": \"3480\", \"route_short_name\": \"2\", \"service_date\": \"2022-06-22T00:00:00\", \"pct_w_vp\": 0.975609756097561}, {\"agency_name\": \"Big Blue Bus\", \"route_id\": \"3480\", \"route_short_name\": \"2\", \"service_date\": \"2022-06-09T00:00:00\", \"pct_w_vp\": 0.9512195121951219}, {\"agency_name\": \"Big Blue Bus\", \"route_id\": \"3480\", \"route_short_name\": \"2\", \"service_date\": \"2022-05-04T00:00:00\", \"pct_w_vp\": 0.9878048780487805}, {\"agency_name\": \"Big Blue Bus\", \"route_id\": \"3480\", \"route_short_name\": \"2\", \"service_date\": \"2022-06-23T00:00:00\", \"pct_w_vp\": 1.0}, {\"agency_name\": \"Big Blue Bus\", \"route_id\": \"3480\", \"route_short_name\": \"2\", \"service_date\": \"2022-05-02T00:00:00\", \"pct_w_vp\": 0.6951219512195121}, {\"agency_name\": \"Big Blue Bus\", \"route_id\": \"3480\", \"route_short_name\": \"2\", \"service_date\": \"2022-06-15T00:00:00\", \"pct_w_vp\": 0.8902439024390244}, {\"agency_name\": \"Big Blue Bus\", \"route_id\": \"3480\", \"route_short_name\": \"2\", \"service_date\": \"2022-05-18T00:00:00\", \"pct_w_vp\": 0.9390243902439024}, {\"agency_name\": \"Big Blue Bus\", \"route_id\": \"3480\", \"route_short_name\": \"2\", \"service_date\": \"2022-05-13T00:00:00\", \"pct_w_vp\": 0.9878048780487805}, {\"agency_name\": \"Big Blue Bus\", \"route_id\": \"3480\", \"route_short_name\": \"2\", \"service_date\": \"2022-06-27T00:00:00\", \"pct_w_vp\": 0.6951219512195121}, {\"agency_name\": \"Big Blue Bus\", \"route_id\": \"3480\", \"route_short_name\": \"2\", \"service_date\": \"2022-05-26T00:00:00\", \"pct_w_vp\": 1.0}, {\"agency_name\": \"Big Blue Bus\", \"route_id\": \"3480\", \"route_short_name\": \"2\", \"service_date\": \"2022-05-16T00:00:00\", \"pct_w_vp\": 0.6219512195121951}, {\"agency_name\": \"Big Blue Bus\", \"route_id\": \"3480\", \"route_short_name\": \"2\", \"service_date\": \"2022-05-27T00:00:00\", \"pct_w_vp\": 0.975609756097561}, {\"agency_name\": \"Big Blue Bus\", \"route_id\": \"3480\", \"route_short_name\": \"2\", \"service_date\": \"2022-05-11T00:00:00\", \"pct_w_vp\": 0.9878048780487805}, {\"agency_name\": \"Big Blue Bus\", \"route_id\": \"3480\", \"route_short_name\": \"2\", \"service_date\": \"2022-05-20T00:00:00\", \"pct_w_vp\": 0.9634146341463414}, {\"agency_name\": \"Big Blue Bus\", \"route_id\": \"3480\", \"route_short_name\": \"2\", \"service_date\": \"2022-05-10T00:00:00\", \"pct_w_vp\": 0.926829268292683}, {\"agency_name\": \"Big Blue Bus\", \"route_id\": \"3480\", \"route_short_name\": \"2\", \"service_date\": \"2022-05-19T00:00:00\", \"pct_w_vp\": 0.975609756097561}, {\"agency_name\": \"Big Blue Bus\", \"route_id\": \"3480\", \"route_short_name\": \"2\", \"service_date\": \"2022-05-31T00:00:00\", \"pct_w_vp\": 0.6951219512195121}, {\"agency_name\": \"Big Blue Bus\", \"route_id\": \"3480\", \"route_short_name\": \"2\", \"service_date\": \"2022-06-17T00:00:00\", \"pct_w_vp\": 1.0}, {\"agency_name\": \"Big Blue Bus\", \"route_id\": \"3480\", \"route_short_name\": \"2\", \"service_date\": \"2022-06-24T00:00:00\", \"pct_w_vp\": 0.9512195121951219}, {\"agency_name\": \"Big Blue Bus\", \"route_id\": \"3480\", \"route_short_name\": \"2\", \"service_date\": \"2022-05-17T00:00:00\", \"pct_w_vp\": 0.9146341463414634}, {\"agency_name\": \"Big Blue Bus\", \"route_id\": \"3480\", \"route_short_name\": \"2\", \"service_date\": \"2022-05-24T00:00:00\", \"pct_w_vp\": 0.9878048780487805}, {\"agency_name\": \"Big Blue Bus\", \"route_id\": \"3480\", \"route_short_name\": \"2\", \"service_date\": \"2022-05-05T00:00:00\", \"pct_w_vp\": 0.9146341463414634}, {\"agency_name\": \"Big Blue Bus\", \"route_id\": \"3480\", \"route_short_name\": \"2\", \"service_date\": \"2022-05-23T00:00:00\", \"pct_w_vp\": 0.7073170731707317}, {\"agency_name\": \"Big Blue Bus\", \"route_id\": \"3480\", \"route_short_name\": \"2\", \"service_date\": \"2022-05-25T00:00:00\", \"pct_w_vp\": 0.8658536585365854}, {\"agency_name\": \"Big Blue Bus\", \"route_id\": \"3480\", \"route_short_name\": \"2\", \"service_date\": \"2022-06-07T00:00:00\", \"pct_w_vp\": 0.9024390243902439}, {\"agency_name\": \"Big Blue Bus\", \"route_id\": \"3493\", \"route_short_name\": \"17\", \"service_date\": \"2022-06-06T00:00:00\", \"pct_w_vp\": 0.7954545454545454}, {\"agency_name\": \"Big Blue Bus\", \"route_id\": \"3493\", \"route_short_name\": \"17\", \"service_date\": \"2022-06-13T00:00:00\", \"pct_w_vp\": 0.8068181818181818}, {\"agency_name\": \"Big Blue Bus\", \"route_id\": \"3493\", \"route_short_name\": \"17\", \"service_date\": \"2022-06-15T00:00:00\", \"pct_w_vp\": 0.9659090909090909}, {\"agency_name\": \"Big Blue Bus\", \"route_id\": \"3493\", \"route_short_name\": \"17\", \"service_date\": \"2022-05-20T00:00:00\", \"pct_w_vp\": 0.9772727272727273}, {\"agency_name\": \"Big Blue Bus\", \"route_id\": \"3493\", \"route_short_name\": \"17\", \"service_date\": \"2022-05-03T00:00:00\", \"pct_w_vp\": 0.9090909090909091}, {\"agency_name\": \"Big Blue Bus\", \"route_id\": \"3493\", \"route_short_name\": \"17\", \"service_date\": \"2022-05-19T00:00:00\", \"pct_w_vp\": 0.9545454545454546}, {\"agency_name\": \"Big Blue Bus\", \"route_id\": \"3493\", \"route_short_name\": \"17\", \"service_date\": \"2022-06-09T00:00:00\", \"pct_w_vp\": 0.9886363636363636}, {\"agency_name\": \"Big Blue Bus\", \"route_id\": \"3493\", \"route_short_name\": \"17\", \"service_date\": \"2022-05-11T00:00:00\", \"pct_w_vp\": 0.9886363636363636}, {\"agency_name\": \"Big Blue Bus\", \"route_id\": \"3493\", \"route_short_name\": \"17\", \"service_date\": \"2022-06-08T00:00:00\", \"pct_w_vp\": 0.9545454545454546}, {\"agency_name\": \"Big Blue Bus\", \"route_id\": \"3493\", \"route_short_name\": \"17\", \"service_date\": \"2022-05-06T00:00:00\", \"pct_w_vp\": 0.9204545454545454}, {\"agency_name\": \"Big Blue Bus\", \"route_id\": \"3493\", \"route_short_name\": \"17\", \"service_date\": \"2022-06-30T00:00:00\", \"pct_w_vp\": 1.0}, {\"agency_name\": \"Big Blue Bus\", \"route_id\": \"3493\", \"route_short_name\": \"17\", \"service_date\": \"2022-06-29T00:00:00\", \"pct_w_vp\": 0.9772727272727273}, {\"agency_name\": \"Big Blue Bus\", \"route_id\": \"3493\", \"route_short_name\": \"17\", \"service_date\": \"2022-06-23T00:00:00\", \"pct_w_vp\": 0.9659090909090909}, {\"agency_name\": \"Big Blue Bus\", \"route_id\": \"3493\", \"route_short_name\": \"17\", \"service_date\": \"2022-06-17T00:00:00\", \"pct_w_vp\": 1.0}, {\"agency_name\": \"Big Blue Bus\", \"route_id\": \"3493\", \"route_short_name\": \"17\", \"service_date\": \"2022-05-09T00:00:00\", \"pct_w_vp\": 0.7954545454545454}, {\"agency_name\": \"Big Blue Bus\", \"route_id\": \"3493\", \"route_short_name\": \"17\", \"service_date\": \"2022-05-02T00:00:00\", \"pct_w_vp\": 0.7840909090909091}, {\"agency_name\": \"Big Blue Bus\", \"route_id\": \"3493\", \"route_short_name\": \"17\", \"service_date\": \"2022-06-21T00:00:00\", \"pct_w_vp\": 1.0}, {\"agency_name\": \"Big Blue Bus\", \"route_id\": \"3493\", \"route_short_name\": \"17\", \"service_date\": \"2022-05-27T00:00:00\", \"pct_w_vp\": 1.0}, {\"agency_name\": \"Big Blue Bus\", \"route_id\": \"3493\", \"route_short_name\": \"17\", \"service_date\": \"2022-06-20T00:00:00\", \"pct_w_vp\": 0.7954545454545454}, {\"agency_name\": \"Big Blue Bus\", \"route_id\": \"3493\", \"route_short_name\": \"17\", \"service_date\": \"2022-06-10T00:00:00\", \"pct_w_vp\": 0.9318181818181818}, {\"agency_name\": \"Big Blue Bus\", \"route_id\": \"3493\", \"route_short_name\": \"17\", \"service_date\": \"2022-06-16T00:00:00\", \"pct_w_vp\": 1.0}, {\"agency_name\": \"Big Blue Bus\", \"route_id\": \"3493\", \"route_short_name\": \"17\", \"service_date\": \"2022-05-13T00:00:00\", \"pct_w_vp\": 1.0}, {\"agency_name\": \"Big Blue Bus\", \"route_id\": \"3493\", \"route_short_name\": \"17\", \"service_date\": \"2022-06-07T00:00:00\", \"pct_w_vp\": 0.9545454545454546}, {\"agency_name\": \"Big Blue Bus\", \"route_id\": \"3493\", \"route_short_name\": \"17\", \"service_date\": \"2022-05-12T00:00:00\", \"pct_w_vp\": 0.9204545454545454}, {\"agency_name\": \"Big Blue Bus\", \"route_id\": \"3493\", \"route_short_name\": \"17\", \"service_date\": \"2022-06-14T00:00:00\", \"pct_w_vp\": 0.9772727272727273}, {\"agency_name\": \"Big Blue Bus\", \"route_id\": \"3493\", \"route_short_name\": \"17\", \"service_date\": \"2022-06-03T00:00:00\", \"pct_w_vp\": 0.9886363636363636}, {\"agency_name\": \"Big Blue Bus\", \"route_id\": \"3493\", \"route_short_name\": \"17\", \"service_date\": \"2022-05-26T00:00:00\", \"pct_w_vp\": 1.0}, {\"agency_name\": \"Big Blue Bus\", \"route_id\": \"3493\", \"route_short_name\": \"17\", \"service_date\": \"2022-05-04T00:00:00\", \"pct_w_vp\": 0.9886363636363636}, {\"agency_name\": \"Big Blue Bus\", \"route_id\": \"3493\", \"route_short_name\": \"17\", \"service_date\": \"2022-05-05T00:00:00\", \"pct_w_vp\": 0.9659090909090909}, {\"agency_name\": \"Big Blue Bus\", \"route_id\": \"3493\", \"route_short_name\": \"17\", \"service_date\": \"2022-05-10T00:00:00\", \"pct_w_vp\": 1.0}, {\"agency_name\": \"Big Blue Bus\", \"route_id\": \"3493\", \"route_short_name\": \"17\", \"service_date\": \"2022-06-24T00:00:00\", \"pct_w_vp\": 0.8863636363636364}, {\"agency_name\": \"Big Blue Bus\", \"route_id\": \"3493\", \"route_short_name\": \"17\", \"service_date\": \"2022-05-24T00:00:00\", \"pct_w_vp\": 1.0}, {\"agency_name\": \"Big Blue Bus\", \"route_id\": \"3493\", \"route_short_name\": \"17\", \"service_date\": \"2022-05-23T00:00:00\", \"pct_w_vp\": 0.7840909090909091}, {\"agency_name\": \"Big Blue Bus\", \"route_id\": \"3493\", \"route_short_name\": \"17\", \"service_date\": \"2022-06-01T00:00:00\", \"pct_w_vp\": 0.9545454545454546}, {\"agency_name\": \"Big Blue Bus\", \"route_id\": \"3493\", \"route_short_name\": \"17\", \"service_date\": \"2022-06-02T00:00:00\", \"pct_w_vp\": 1.0}, {\"agency_name\": \"Big Blue Bus\", \"route_id\": \"3493\", \"route_short_name\": \"17\", \"service_date\": \"2022-05-31T00:00:00\", \"pct_w_vp\": 0.7954545454545454}, {\"agency_name\": \"Big Blue Bus\", \"route_id\": \"3493\", \"route_short_name\": \"17\", \"service_date\": \"2022-05-16T00:00:00\", \"pct_w_vp\": 0.7613636363636364}, {\"agency_name\": \"Big Blue Bus\", \"route_id\": \"3493\", \"route_short_name\": \"17\", \"service_date\": \"2022-05-18T00:00:00\", \"pct_w_vp\": 0.9545454545454546}, {\"agency_name\": \"Big Blue Bus\", \"route_id\": \"3493\", \"route_short_name\": \"17\", \"service_date\": \"2022-06-22T00:00:00\", \"pct_w_vp\": 1.0}, {\"agency_name\": \"Big Blue Bus\", \"route_id\": \"3493\", \"route_short_name\": \"17\", \"service_date\": \"2022-06-28T00:00:00\", \"pct_w_vp\": 1.0}, {\"agency_name\": \"Big Blue Bus\", \"route_id\": \"3493\", \"route_short_name\": \"17\", \"service_date\": \"2022-05-25T00:00:00\", \"pct_w_vp\": 1.0}, {\"agency_name\": \"Big Blue Bus\", \"route_id\": \"3493\", \"route_short_name\": \"17\", \"service_date\": \"2022-05-17T00:00:00\", \"pct_w_vp\": 0.9772727272727273}, {\"agency_name\": \"Big Blue Bus\", \"route_id\": \"3493\", \"route_short_name\": \"17\", \"service_date\": \"2022-06-27T00:00:00\", \"pct_w_vp\": 0.7727272727272727}, {\"agency_name\": \"Big Blue Bus\", \"route_id\": \"3490\", \"route_short_name\": \"14\", \"service_date\": \"2022-06-06T00:00:00\", \"pct_w_vp\": 0.7757009345794392}, {\"agency_name\": \"Big Blue Bus\", \"route_id\": \"3490\", \"route_short_name\": \"14\", \"service_date\": \"2022-05-31T00:00:00\", \"pct_w_vp\": 0.8130841121495327}, {\"agency_name\": \"Big Blue Bus\", \"route_id\": \"3490\", \"route_short_name\": \"14\", \"service_date\": \"2022-05-03T00:00:00\", \"pct_w_vp\": 0.9813084112149533}, {\"agency_name\": \"Big Blue Bus\", \"route_id\": \"3490\", \"route_short_name\": \"14\", \"service_date\": \"2022-05-26T00:00:00\", \"pct_w_vp\": 1.0}, {\"agency_name\": \"Big Blue Bus\", \"route_id\": \"3490\", \"route_short_name\": \"14\", \"service_date\": \"2022-06-09T00:00:00\", \"pct_w_vp\": 0.9719626168224299}, {\"agency_name\": \"Big Blue Bus\", \"route_id\": \"3490\", \"route_short_name\": \"14\", \"service_date\": \"2022-05-10T00:00:00\", \"pct_w_vp\": 1.0}, {\"agency_name\": \"Big Blue Bus\", \"route_id\": \"3490\", \"route_short_name\": \"14\", \"service_date\": \"2022-05-06T00:00:00\", \"pct_w_vp\": 0.8691588785046729}, {\"agency_name\": \"Big Blue Bus\", \"route_id\": \"3490\", \"route_short_name\": \"14\", \"service_date\": \"2022-06-13T00:00:00\", \"pct_w_vp\": 0.8130841121495327}, {\"agency_name\": \"Big Blue Bus\", \"route_id\": \"3490\", \"route_short_name\": \"14\", \"service_date\": \"2022-05-17T00:00:00\", \"pct_w_vp\": 0.9906542056074766}, {\"agency_name\": \"Big Blue Bus\", \"route_id\": \"3490\", \"route_short_name\": \"14\", \"service_date\": \"2022-05-18T00:00:00\", \"pct_w_vp\": 0.9626168224299065}, {\"agency_name\": \"Big Blue Bus\", \"route_id\": \"3490\", \"route_short_name\": \"14\", \"service_date\": \"2022-05-12T00:00:00\", \"pct_w_vp\": 1.0}, {\"agency_name\": \"Big Blue Bus\", \"route_id\": \"3490\", \"route_short_name\": \"14\", \"service_date\": \"2022-06-20T00:00:00\", \"pct_w_vp\": 0.8037383177570093}, {\"agency_name\": \"Big Blue Bus\", \"route_id\": \"3490\", \"route_short_name\": \"14\", \"service_date\": \"2022-05-11T00:00:00\", \"pct_w_vp\": 0.9626168224299065}, {\"agency_name\": \"Big Blue Bus\", \"route_id\": \"3490\", \"route_short_name\": \"14\", \"service_date\": \"2022-05-09T00:00:00\", \"pct_w_vp\": 0.8130841121495327}, {\"agency_name\": \"Big Blue Bus\", \"route_id\": \"3490\", \"route_short_name\": \"14\", \"service_date\": \"2022-06-28T00:00:00\", \"pct_w_vp\": 1.0}, {\"agency_name\": \"Big Blue Bus\", \"route_id\": \"3490\", \"route_short_name\": \"14\", \"service_date\": \"2022-05-04T00:00:00\", \"pct_w_vp\": 1.0}, {\"agency_name\": \"Big Blue Bus\", \"route_id\": \"3490\", \"route_short_name\": \"14\", \"service_date\": \"2022-06-02T00:00:00\", \"pct_w_vp\": 0.9906542056074766}, {\"agency_name\": \"Big Blue Bus\", \"route_id\": \"3490\", \"route_short_name\": \"14\", \"service_date\": \"2022-05-24T00:00:00\", \"pct_w_vp\": 0.9813084112149533}, {\"agency_name\": \"Big Blue Bus\", \"route_id\": \"3490\", \"route_short_name\": \"14\", \"service_date\": \"2022-06-07T00:00:00\", \"pct_w_vp\": 0.9345794392523364}, {\"agency_name\": \"Big Blue Bus\", \"route_id\": \"3490\", \"route_short_name\": \"14\", \"service_date\": \"2022-06-29T00:00:00\", \"pct_w_vp\": 1.0}, {\"agency_name\": \"Big Blue Bus\", \"route_id\": \"3490\", \"route_short_name\": \"14\", \"service_date\": \"2022-05-20T00:00:00\", \"pct_w_vp\": 0.9345794392523364}, {\"agency_name\": \"Big Blue Bus\", \"route_id\": \"3490\", \"route_short_name\": \"14\", \"service_date\": \"2022-06-08T00:00:00\", \"pct_w_vp\": 0.9719626168224299}, {\"agency_name\": \"Big Blue Bus\", \"route_id\": \"3490\", \"route_short_name\": \"14\", \"service_date\": \"2022-06-27T00:00:00\", \"pct_w_vp\": 0.794392523364486}, {\"agency_name\": \"Big Blue Bus\", \"route_id\": \"3490\", \"route_short_name\": \"14\", \"service_date\": \"2022-05-05T00:00:00\", \"pct_w_vp\": 1.0}, {\"agency_name\": \"Big Blue Bus\", \"route_id\": \"3490\", \"route_short_name\": \"14\", \"service_date\": \"2022-06-30T00:00:00\", \"pct_w_vp\": 1.0}, {\"agency_name\": \"Big Blue Bus\", \"route_id\": \"3490\", \"route_short_name\": \"14\", \"service_date\": \"2022-05-16T00:00:00\", \"pct_w_vp\": 0.8130841121495327}, {\"agency_name\": \"Big Blue Bus\", \"route_id\": \"3490\", \"route_short_name\": \"14\", \"service_date\": \"2022-05-13T00:00:00\", \"pct_w_vp\": 0.9719626168224299}, {\"agency_name\": \"Big Blue Bus\", \"route_id\": \"3490\", \"route_short_name\": \"14\", \"service_date\": \"2022-06-14T00:00:00\", \"pct_w_vp\": 0.9532710280373832}, {\"agency_name\": \"Big Blue Bus\", \"route_id\": \"3490\", \"route_short_name\": \"14\", \"service_date\": \"2022-06-03T00:00:00\", \"pct_w_vp\": 0.8317757009345794}, {\"agency_name\": \"Big Blue Bus\", \"route_id\": \"3490\", \"route_short_name\": \"14\", \"service_date\": \"2022-06-16T00:00:00\", \"pct_w_vp\": 0.9626168224299065}, {\"agency_name\": \"Big Blue Bus\", \"route_id\": \"3490\", \"route_short_name\": \"14\", \"service_date\": \"2022-06-24T00:00:00\", \"pct_w_vp\": 0.9719626168224299}, {\"agency_name\": \"Big Blue Bus\", \"route_id\": \"3490\", \"route_short_name\": \"14\", \"service_date\": \"2022-05-19T00:00:00\", \"pct_w_vp\": 0.9065420560747663}, {\"agency_name\": \"Big Blue Bus\", \"route_id\": \"3490\", \"route_short_name\": \"14\", \"service_date\": \"2022-05-25T00:00:00\", \"pct_w_vp\": 1.0}, {\"agency_name\": \"Big Blue Bus\", \"route_id\": \"3490\", \"route_short_name\": \"14\", \"service_date\": \"2022-06-01T00:00:00\", \"pct_w_vp\": 1.0}, {\"agency_name\": \"Big Blue Bus\", \"route_id\": \"3490\", \"route_short_name\": \"14\", \"service_date\": \"2022-05-23T00:00:00\", \"pct_w_vp\": 0.794392523364486}, {\"agency_name\": \"Big Blue Bus\", \"route_id\": \"3490\", \"route_short_name\": \"14\", \"service_date\": \"2022-06-23T00:00:00\", \"pct_w_vp\": 1.0}, {\"agency_name\": \"Big Blue Bus\", \"route_id\": \"3490\", \"route_short_name\": \"14\", \"service_date\": \"2022-06-22T00:00:00\", \"pct_w_vp\": 0.9626168224299065}, {\"agency_name\": \"Big Blue Bus\", \"route_id\": \"3490\", \"route_short_name\": \"14\", \"service_date\": \"2022-05-02T00:00:00\", \"pct_w_vp\": 0.7102803738317757}, {\"agency_name\": \"Big Blue Bus\", \"route_id\": \"3490\", \"route_short_name\": \"14\", \"service_date\": \"2022-06-15T00:00:00\", \"pct_w_vp\": 0.9345794392523364}, {\"agency_name\": \"Big Blue Bus\", \"route_id\": \"3490\", \"route_short_name\": \"14\", \"service_date\": \"2022-06-21T00:00:00\", \"pct_w_vp\": 1.0}, {\"agency_name\": \"Big Blue Bus\", \"route_id\": \"3490\", \"route_short_name\": \"14\", \"service_date\": \"2022-06-17T00:00:00\", \"pct_w_vp\": 0.9719626168224299}, {\"agency_name\": \"Big Blue Bus\", \"route_id\": \"3481\", \"route_short_name\": \"3\", \"service_date\": \"2022-06-24T00:00:00\", \"pct_w_vp\": 0.9586206896551724}, {\"agency_name\": \"Big Blue Bus\", \"route_id\": \"3481\", \"route_short_name\": \"3\", \"service_date\": \"2022-06-28T00:00:00\", \"pct_w_vp\": 0.9793103448275862}, {\"agency_name\": \"Big Blue Bus\", \"route_id\": \"3481\", \"route_short_name\": \"3\", \"service_date\": \"2022-06-27T00:00:00\", \"pct_w_vp\": 0.6344827586206897}, {\"agency_name\": \"Big Blue Bus\", \"route_id\": \"3481\", \"route_short_name\": \"3\", \"service_date\": \"2022-05-09T00:00:00\", \"pct_w_vp\": 0.696551724137931}, {\"agency_name\": \"Big Blue Bus\", \"route_id\": \"3481\", \"route_short_name\": \"3\", \"service_date\": \"2022-05-17T00:00:00\", \"pct_w_vp\": 1.0}, {\"agency_name\": \"Big Blue Bus\", \"route_id\": \"3481\", \"route_short_name\": \"3\", \"service_date\": \"2022-05-12T00:00:00\", \"pct_w_vp\": 0.9172413793103448}, {\"agency_name\": \"Big Blue Bus\", \"route_id\": \"3481\", \"route_short_name\": \"3\", \"service_date\": \"2022-05-02T00:00:00\", \"pct_w_vp\": 0.696551724137931}, {\"agency_name\": \"Big Blue Bus\", \"route_id\": \"3481\", \"route_short_name\": \"3\", \"service_date\": \"2022-06-30T00:00:00\", \"pct_w_vp\": 0.9724137931034482}, {\"agency_name\": \"Big Blue Bus\", \"route_id\": \"3481\", \"route_short_name\": \"3\", \"service_date\": \"2022-06-29T00:00:00\", \"pct_w_vp\": 0.9862068965517241}, {\"agency_name\": \"Big Blue Bus\", \"route_id\": \"3481\", \"route_short_name\": \"3\", \"service_date\": \"2022-05-24T00:00:00\", \"pct_w_vp\": 0.9586206896551724}, {\"agency_name\": \"Big Blue Bus\", \"route_id\": \"3481\", \"route_short_name\": \"3\", \"service_date\": \"2022-06-22T00:00:00\", \"pct_w_vp\": 0.993103448275862}, {\"agency_name\": \"Big Blue Bus\", \"route_id\": \"3481\", \"route_short_name\": \"3\", \"service_date\": \"2022-06-02T00:00:00\", \"pct_w_vp\": 0.993103448275862}, {\"agency_name\": \"Big Blue Bus\", \"route_id\": \"3481\", \"route_short_name\": \"3\", \"service_date\": \"2022-05-18T00:00:00\", \"pct_w_vp\": 1.0}, {\"agency_name\": \"Big Blue Bus\", \"route_id\": \"3481\", \"route_short_name\": \"3\", \"service_date\": \"2022-05-19T00:00:00\", \"pct_w_vp\": 0.9862068965517241}, {\"agency_name\": \"Big Blue Bus\", \"route_id\": \"3481\", \"route_short_name\": \"3\", \"service_date\": \"2022-05-10T00:00:00\", \"pct_w_vp\": 0.9724137931034482}, {\"agency_name\": \"Big Blue Bus\", \"route_id\": \"3481\", \"route_short_name\": \"3\", \"service_date\": \"2022-05-03T00:00:00\", \"pct_w_vp\": 0.9655172413793104}, {\"agency_name\": \"Big Blue Bus\", \"route_id\": \"3481\", \"route_short_name\": \"3\", \"service_date\": \"2022-05-05T00:00:00\", \"pct_w_vp\": 0.903448275862069}, {\"agency_name\": \"Big Blue Bus\", \"route_id\": \"3481\", \"route_short_name\": \"3\", \"service_date\": \"2022-06-21T00:00:00\", \"pct_w_vp\": 0.9862068965517241}, {\"agency_name\": \"Big Blue Bus\", \"route_id\": \"3481\", \"route_short_name\": \"3\", \"service_date\": \"2022-05-04T00:00:00\", \"pct_w_vp\": 0.9655172413793104}, {\"agency_name\": \"Big Blue Bus\", \"route_id\": \"3481\", \"route_short_name\": \"3\", \"service_date\": \"2022-06-06T00:00:00\", \"pct_w_vp\": 0.6689655172413793}, {\"agency_name\": \"Big Blue Bus\", \"route_id\": \"3481\", \"route_short_name\": \"3\", \"service_date\": \"2022-06-01T00:00:00\", \"pct_w_vp\": 1.0}, {\"agency_name\": \"Big Blue Bus\", \"route_id\": \"3481\", \"route_short_name\": \"3\", \"service_date\": \"2022-05-25T00:00:00\", \"pct_w_vp\": 0.9379310344827586}, {\"agency_name\": \"Big Blue Bus\", \"route_id\": \"3481\", \"route_short_name\": \"3\", \"service_date\": \"2022-06-15T00:00:00\", \"pct_w_vp\": 0.9586206896551724}, {\"agency_name\": \"Big Blue Bus\", \"route_id\": \"3481\", \"route_short_name\": \"3\", \"service_date\": \"2022-05-16T00:00:00\", \"pct_w_vp\": 0.6827586206896552}, {\"agency_name\": \"Big Blue Bus\", \"route_id\": \"3481\", \"route_short_name\": \"3\", \"service_date\": \"2022-05-13T00:00:00\", \"pct_w_vp\": 0.8758620689655172}, {\"agency_name\": \"Big Blue Bus\", \"route_id\": \"3481\", \"route_short_name\": \"3\", \"service_date\": \"2022-05-06T00:00:00\", \"pct_w_vp\": 0.9241379310344827}, {\"agency_name\": \"Big Blue Bus\", \"route_id\": \"3481\", \"route_short_name\": \"3\", \"service_date\": \"2022-05-20T00:00:00\", \"pct_w_vp\": 0.9586206896551724}, {\"agency_name\": \"Big Blue Bus\", \"route_id\": \"3481\", \"route_short_name\": \"3\", \"service_date\": \"2022-06-08T00:00:00\", \"pct_w_vp\": 0.9241379310344827}, {\"agency_name\": \"Big Blue Bus\", \"route_id\": \"3481\", \"route_short_name\": \"3\", \"service_date\": \"2022-06-10T00:00:00\", \"pct_w_vp\": 0.9517241379310345}, {\"agency_name\": \"Big Blue Bus\", \"route_id\": \"3481\", \"route_short_name\": \"3\", \"service_date\": \"2022-06-23T00:00:00\", \"pct_w_vp\": 0.9655172413793104}, {\"agency_name\": \"Big Blue Bus\", \"route_id\": \"3481\", \"route_short_name\": \"3\", \"service_date\": \"2022-06-09T00:00:00\", \"pct_w_vp\": 0.903448275862069}, {\"agency_name\": \"Big Blue Bus\", \"route_id\": \"3481\", \"route_short_name\": \"3\", \"service_date\": \"2022-06-20T00:00:00\", \"pct_w_vp\": 0.7103448275862069}, {\"agency_name\": \"Big Blue Bus\", \"route_id\": \"3481\", \"route_short_name\": \"3\", \"service_date\": \"2022-06-16T00:00:00\", \"pct_w_vp\": 0.9793103448275862}, {\"agency_name\": \"Big Blue Bus\", \"route_id\": \"3481\", \"route_short_name\": \"3\", \"service_date\": \"2022-05-27T00:00:00\", \"pct_w_vp\": 0.8482758620689655}, {\"agency_name\": \"Big Blue Bus\", \"route_id\": \"3481\", \"route_short_name\": \"3\", \"service_date\": \"2022-06-13T00:00:00\", \"pct_w_vp\": 0.7103448275862069}, {\"agency_name\": \"Big Blue Bus\", \"route_id\": \"3481\", \"route_short_name\": \"3\", \"service_date\": \"2022-05-23T00:00:00\", \"pct_w_vp\": 0.7310344827586207}, {\"agency_name\": \"Big Blue Bus\", \"route_id\": \"3481\", \"route_short_name\": \"3\", \"service_date\": \"2022-06-14T00:00:00\", \"pct_w_vp\": 0.9586206896551724}, {\"agency_name\": \"Big Blue Bus\", \"route_id\": \"3481\", \"route_short_name\": \"3\", \"service_date\": \"2022-05-31T00:00:00\", \"pct_w_vp\": 0.7034482758620689}, {\"agency_name\": \"Big Blue Bus\", \"route_id\": \"3481\", \"route_short_name\": \"3\", \"service_date\": \"2022-06-17T00:00:00\", \"pct_w_vp\": 0.993103448275862}, {\"agency_name\": \"Big Blue Bus\", \"route_id\": \"3481\", \"route_short_name\": \"3\", \"service_date\": \"2022-06-03T00:00:00\", \"pct_w_vp\": 0.9172413793103448}, {\"agency_name\": \"Big Blue Bus\", \"route_id\": \"3481\", \"route_short_name\": \"3\", \"service_date\": \"2022-05-11T00:00:00\", \"pct_w_vp\": 0.9724137931034482}, {\"agency_name\": \"Big Blue Bus\", \"route_id\": \"3481\", \"route_short_name\": \"3\", \"service_date\": \"2022-06-07T00:00:00\", \"pct_w_vp\": 0.9862068965517241}, {\"agency_name\": \"Big Blue Bus\", \"route_id\": \"3481\", \"route_short_name\": \"3\", \"service_date\": \"2022-05-26T00:00:00\", \"pct_w_vp\": 0.9862068965517241}, {\"agency_name\": \"Big Blue Bus\", \"route_id\": \"3485\", \"route_short_name\": \"7\", \"service_date\": \"2022-06-10T00:00:00\", \"pct_w_vp\": 0.9607843137254902}, {\"agency_name\": \"Big Blue Bus\", \"route_id\": \"3485\", \"route_short_name\": \"7\", \"service_date\": \"2022-06-27T00:00:00\", \"pct_w_vp\": 0.673202614379085}, {\"agency_name\": \"Big Blue Bus\", \"route_id\": \"3485\", \"route_short_name\": \"7\", \"service_date\": \"2022-06-09T00:00:00\", \"pct_w_vp\": 0.954248366013072}, {\"agency_name\": \"Big Blue Bus\", \"route_id\": \"3485\", \"route_short_name\": \"7\", \"service_date\": \"2022-05-06T00:00:00\", \"pct_w_vp\": 0.9411764705882353}, {\"agency_name\": \"Big Blue Bus\", \"route_id\": \"3485\", \"route_short_name\": \"7\", \"service_date\": \"2022-05-11T00:00:00\", \"pct_w_vp\": 0.9215686274509803}, {\"agency_name\": \"Big Blue Bus\", \"route_id\": \"3485\", \"route_short_name\": \"7\", \"service_date\": \"2022-05-02T00:00:00\", \"pct_w_vp\": 0.6797385620915033}, {\"agency_name\": \"Big Blue Bus\", \"route_id\": \"3485\", \"route_short_name\": \"7\", \"service_date\": \"2022-05-18T00:00:00\", \"pct_w_vp\": 0.9673202614379085}, {\"agency_name\": \"Big Blue Bus\", \"route_id\": \"3485\", \"route_short_name\": \"7\", \"service_date\": \"2022-06-29T00:00:00\", \"pct_w_vp\": 0.9477124183006536}, {\"agency_name\": \"Big Blue Bus\", \"route_id\": \"3485\", \"route_short_name\": \"7\", \"service_date\": \"2022-05-05T00:00:00\", \"pct_w_vp\": 0.9673202614379085}, {\"agency_name\": \"Big Blue Bus\", \"route_id\": \"3485\", \"route_short_name\": \"7\", \"service_date\": \"2022-05-27T00:00:00\", \"pct_w_vp\": 0.8562091503267973}, {\"agency_name\": \"Big Blue Bus\", \"route_id\": \"3485\", \"route_short_name\": \"7\", \"service_date\": \"2022-05-31T00:00:00\", \"pct_w_vp\": 0.6993464052287581}, {\"agency_name\": \"Big Blue Bus\", \"route_id\": \"3485\", \"route_short_name\": \"7\", \"service_date\": \"2022-06-28T00:00:00\", \"pct_w_vp\": 0.934640522875817}, {\"agency_name\": \"Big Blue Bus\", \"route_id\": \"3485\", \"route_short_name\": \"7\", \"service_date\": \"2022-06-21T00:00:00\", \"pct_w_vp\": 0.9607843137254902}, {\"agency_name\": \"Big Blue Bus\", \"route_id\": \"3485\", \"route_short_name\": \"7\", \"service_date\": \"2022-05-10T00:00:00\", \"pct_w_vp\": 1.0}, {\"agency_name\": \"Big Blue Bus\", \"route_id\": \"3485\", \"route_short_name\": \"7\", \"service_date\": \"2022-05-24T00:00:00\", \"pct_w_vp\": 0.9477124183006536}, {\"agency_name\": \"Big Blue Bus\", \"route_id\": \"3485\", \"route_short_name\": \"7\", \"service_date\": \"2022-05-17T00:00:00\", \"pct_w_vp\": 1.0}, {\"agency_name\": \"Big Blue Bus\", \"route_id\": \"3485\", \"route_short_name\": \"7\", \"service_date\": \"2022-05-09T00:00:00\", \"pct_w_vp\": 0.7058823529411765}, {\"agency_name\": \"Big Blue Bus\", \"route_id\": \"3485\", \"route_short_name\": \"7\", \"service_date\": \"2022-06-16T00:00:00\", \"pct_w_vp\": 0.9150326797385621}, {\"agency_name\": \"Big Blue Bus\", \"route_id\": \"3485\", \"route_short_name\": \"7\", \"service_date\": \"2022-05-16T00:00:00\", \"pct_w_vp\": 0.6797385620915033}, {\"agency_name\": \"Big Blue Bus\", \"route_id\": \"3485\", \"route_short_name\": \"7\", \"service_date\": \"2022-06-23T00:00:00\", \"pct_w_vp\": 0.9869281045751634}, {\"agency_name\": \"Big Blue Bus\", \"route_id\": \"3485\", \"route_short_name\": \"7\", \"service_date\": \"2022-05-26T00:00:00\", \"pct_w_vp\": 0.954248366013072}, {\"agency_name\": \"Big Blue Bus\", \"route_id\": \"3485\", \"route_short_name\": \"7\", \"service_date\": \"2022-06-03T00:00:00\", \"pct_w_vp\": 0.9803921568627451}, {\"agency_name\": \"Big Blue Bus\", \"route_id\": \"3485\", \"route_short_name\": \"7\", \"service_date\": \"2022-06-02T00:00:00\", \"pct_w_vp\": 0.9019607843137255}, {\"agency_name\": \"Big Blue Bus\", \"route_id\": \"3485\", \"route_short_name\": \"7\", \"service_date\": \"2022-06-22T00:00:00\", \"pct_w_vp\": 0.9607843137254902}, {\"agency_name\": \"Big Blue Bus\", \"route_id\": \"3485\", \"route_short_name\": \"7\", \"service_date\": \"2022-06-08T00:00:00\", \"pct_w_vp\": 0.8823529411764706}, {\"agency_name\": \"Big Blue Bus\", \"route_id\": \"3485\", \"route_short_name\": \"7\", \"service_date\": \"2022-06-17T00:00:00\", \"pct_w_vp\": 1.0}, {\"agency_name\": \"Big Blue Bus\", \"route_id\": \"3485\", \"route_short_name\": \"7\", \"service_date\": \"2022-06-13T00:00:00\", \"pct_w_vp\": 0.6797385620915033}, {\"agency_name\": \"Big Blue Bus\", \"route_id\": \"3485\", \"route_short_name\": \"7\", \"service_date\": \"2022-06-24T00:00:00\", \"pct_w_vp\": 0.934640522875817}, {\"agency_name\": \"Big Blue Bus\", \"route_id\": \"3485\", \"route_short_name\": \"7\", \"service_date\": \"2022-06-07T00:00:00\", \"pct_w_vp\": 0.9869281045751634}, {\"agency_name\": \"Big Blue Bus\", \"route_id\": \"3485\", \"route_short_name\": \"7\", \"service_date\": \"2022-05-25T00:00:00\", \"pct_w_vp\": 0.9215686274509803}, {\"agency_name\": \"Big Blue Bus\", \"route_id\": \"3485\", \"route_short_name\": \"7\", \"service_date\": \"2022-05-19T00:00:00\", \"pct_w_vp\": 0.9738562091503268}, {\"agency_name\": \"Big Blue Bus\", \"route_id\": \"3485\", \"route_short_name\": \"7\", \"service_date\": \"2022-05-04T00:00:00\", \"pct_w_vp\": 0.9673202614379085}, {\"agency_name\": \"Big Blue Bus\", \"route_id\": \"3485\", \"route_short_name\": \"7\", \"service_date\": \"2022-05-12T00:00:00\", \"pct_w_vp\": 0.9607843137254902}, {\"agency_name\": \"Big Blue Bus\", \"route_id\": \"3485\", \"route_short_name\": \"7\", \"service_date\": \"2022-06-15T00:00:00\", \"pct_w_vp\": 0.9607843137254902}, {\"agency_name\": \"Big Blue Bus\", \"route_id\": \"3485\", \"route_short_name\": \"7\", \"service_date\": \"2022-05-23T00:00:00\", \"pct_w_vp\": 0.6928104575163399}, {\"agency_name\": \"Big Blue Bus\", \"route_id\": \"3485\", \"route_short_name\": \"7\", \"service_date\": \"2022-06-20T00:00:00\", \"pct_w_vp\": 0.7058823529411765}, {\"agency_name\": \"Big Blue Bus\", \"route_id\": \"3485\", \"route_short_name\": \"7\", \"service_date\": \"2022-05-13T00:00:00\", \"pct_w_vp\": 0.9869281045751634}, {\"agency_name\": \"Big Blue Bus\", \"route_id\": \"3485\", \"route_short_name\": \"7\", \"service_date\": \"2022-06-06T00:00:00\", \"pct_w_vp\": 0.7124183006535948}, {\"agency_name\": \"Big Blue Bus\", \"route_id\": \"3485\", \"route_short_name\": \"7\", \"service_date\": \"2022-06-01T00:00:00\", \"pct_w_vp\": 0.9673202614379085}, {\"agency_name\": \"Big Blue Bus\", \"route_id\": \"3485\", \"route_short_name\": \"7\", \"service_date\": \"2022-05-20T00:00:00\", \"pct_w_vp\": 1.0}, {\"agency_name\": \"Big Blue Bus\", \"route_id\": \"3485\", \"route_short_name\": \"7\", \"service_date\": \"2022-06-30T00:00:00\", \"pct_w_vp\": 0.9673202614379085}, {\"agency_name\": \"Big Blue Bus\", \"route_id\": \"3485\", \"route_short_name\": \"7\", \"service_date\": \"2022-06-14T00:00:00\", \"pct_w_vp\": 0.9215686274509803}, {\"agency_name\": \"Big Blue Bus\", \"route_id\": \"3485\", \"route_short_name\": \"7\", \"service_date\": \"2022-05-03T00:00:00\", \"pct_w_vp\": 0.9477124183006536}, {\"agency_name\": \"Big Blue Bus\", \"route_id\": \"3489\", \"route_short_name\": \"R12\", \"service_date\": \"2022-05-05T00:00:00\", \"pct_w_vp\": 0.9150326797385621}, {\"agency_name\": \"Big Blue Bus\", \"route_id\": \"3489\", \"route_short_name\": \"R12\", \"service_date\": \"2022-06-13T00:00:00\", \"pct_w_vp\": 0.6862745098039216}, {\"agency_name\": \"Big Blue Bus\", \"route_id\": \"3489\", \"route_short_name\": \"R12\", \"service_date\": \"2022-06-20T00:00:00\", \"pct_w_vp\": 0.7516339869281046}, {\"agency_name\": \"Big Blue Bus\", \"route_id\": \"3489\", \"route_short_name\": \"R12\", \"service_date\": \"2022-05-25T00:00:00\", \"pct_w_vp\": 0.9869281045751634}, {\"agency_name\": \"Big Blue Bus\", \"route_id\": \"3489\", \"route_short_name\": \"R12\", \"service_date\": \"2022-06-23T00:00:00\", \"pct_w_vp\": 1.0}, {\"agency_name\": \"Big Blue Bus\", \"route_id\": \"3489\", \"route_short_name\": \"R12\", \"service_date\": \"2022-05-23T00:00:00\", \"pct_w_vp\": 0.7581699346405228}, {\"agency_name\": \"Big Blue Bus\", \"route_id\": \"3489\", \"route_short_name\": \"R12\", \"service_date\": \"2022-05-09T00:00:00\", \"pct_w_vp\": 0.7320261437908496}, {\"agency_name\": \"Big Blue Bus\", \"route_id\": \"3489\", \"route_short_name\": \"R12\", \"service_date\": \"2022-06-22T00:00:00\", \"pct_w_vp\": 0.9673202614379085}, {\"agency_name\": \"Big Blue Bus\", \"route_id\": \"3489\", \"route_short_name\": \"R12\", \"service_date\": \"2022-05-13T00:00:00\", \"pct_w_vp\": 0.9215686274509803}, {\"agency_name\": \"Big Blue Bus\", \"route_id\": \"3489\", \"route_short_name\": \"R12\", \"service_date\": \"2022-06-08T00:00:00\", \"pct_w_vp\": 1.0}, {\"agency_name\": \"Big Blue Bus\", \"route_id\": \"3489\", \"route_short_name\": \"R12\", \"service_date\": \"2022-06-30T00:00:00\", \"pct_w_vp\": 0.8823529411764706}, {\"agency_name\": \"Big Blue Bus\", \"route_id\": \"3489\", \"route_short_name\": \"R12\", \"service_date\": \"2022-06-16T00:00:00\", \"pct_w_vp\": 1.0}, {\"agency_name\": \"Big Blue Bus\", \"route_id\": \"3489\", \"route_short_name\": \"R12\", \"service_date\": \"2022-06-09T00:00:00\", \"pct_w_vp\": 0.9738562091503268}, {\"agency_name\": \"Big Blue Bus\", \"route_id\": \"3489\", \"route_short_name\": \"R12\", \"service_date\": \"2022-05-12T00:00:00\", \"pct_w_vp\": 1.0}, {\"agency_name\": \"Big Blue Bus\", \"route_id\": \"3489\", \"route_short_name\": \"R12\", \"service_date\": \"2022-06-17T00:00:00\", \"pct_w_vp\": 1.0}, {\"agency_name\": \"Big Blue Bus\", \"route_id\": \"3489\", \"route_short_name\": \"R12\", \"service_date\": \"2022-05-10T00:00:00\", \"pct_w_vp\": 0.9738562091503268}, {\"agency_name\": \"Big Blue Bus\", \"route_id\": \"3489\", \"route_short_name\": \"R12\", \"service_date\": \"2022-06-24T00:00:00\", \"pct_w_vp\": 0.9150326797385621}, {\"agency_name\": \"Big Blue Bus\", \"route_id\": \"3489\", \"route_short_name\": \"R12\", \"service_date\": \"2022-06-14T00:00:00\", \"pct_w_vp\": 0.9477124183006536}, {\"agency_name\": \"Big Blue Bus\", \"route_id\": \"3489\", \"route_short_name\": \"R12\", \"service_date\": \"2022-05-27T00:00:00\", \"pct_w_vp\": 0.8888888888888888}, {\"agency_name\": \"Big Blue Bus\", \"route_id\": \"3489\", \"route_short_name\": \"R12\", \"service_date\": \"2022-06-02T00:00:00\", \"pct_w_vp\": 0.9738562091503268}, {\"agency_name\": \"Big Blue Bus\", \"route_id\": \"3489\", \"route_short_name\": \"R12\", \"service_date\": \"2022-06-27T00:00:00\", \"pct_w_vp\": 0.6601307189542484}, {\"agency_name\": \"Big Blue Bus\", \"route_id\": \"3489\", \"route_short_name\": \"R12\", \"service_date\": \"2022-06-01T00:00:00\", \"pct_w_vp\": 0.934640522875817}, {\"agency_name\": \"Big Blue Bus\", \"route_id\": \"3489\", \"route_short_name\": \"R12\", \"service_date\": \"2022-05-11T00:00:00\", \"pct_w_vp\": 0.9934640522875817}, {\"agency_name\": \"Big Blue Bus\", \"route_id\": \"3489\", \"route_short_name\": \"R12\", \"service_date\": \"2022-06-03T00:00:00\", \"pct_w_vp\": 0.9150326797385621}, {\"agency_name\": \"Big Blue Bus\", \"route_id\": \"3489\", \"route_short_name\": \"R12\", \"service_date\": \"2022-05-06T00:00:00\", \"pct_w_vp\": 0.7973856209150327}, {\"agency_name\": \"Big Blue Bus\", \"route_id\": \"3489\", \"route_short_name\": \"R12\", \"service_date\": \"2022-05-03T00:00:00\", \"pct_w_vp\": 1.0}, {\"agency_name\": \"Big Blue Bus\", \"route_id\": \"3489\", \"route_short_name\": \"R12\", \"service_date\": \"2022-06-10T00:00:00\", \"pct_w_vp\": 1.0}, {\"agency_name\": \"Big Blue Bus\", \"route_id\": \"3489\", \"route_short_name\": \"R12\", \"service_date\": \"2022-06-07T00:00:00\", \"pct_w_vp\": 0.8496732026143791}, {\"agency_name\": \"Big Blue Bus\", \"route_id\": \"3489\", \"route_short_name\": \"R12\", \"service_date\": \"2022-06-15T00:00:00\", \"pct_w_vp\": 0.9411764705882353}, {\"agency_name\": \"Big Blue Bus\", \"route_id\": \"3489\", \"route_short_name\": \"R12\", \"service_date\": \"2022-05-04T00:00:00\", \"pct_w_vp\": 0.9934640522875817}, {\"agency_name\": \"Big Blue Bus\", \"route_id\": \"3489\", \"route_short_name\": \"R12\", \"service_date\": \"2022-05-02T00:00:00\", \"pct_w_vp\": 0.7647058823529411}, {\"agency_name\": \"Big Blue Bus\", \"route_id\": \"3489\", \"route_short_name\": \"R12\", \"service_date\": \"2022-06-29T00:00:00\", \"pct_w_vp\": 0.9019607843137255}, {\"agency_name\": \"Big Blue Bus\", \"route_id\": \"3489\", \"route_short_name\": \"R12\", \"service_date\": \"2022-06-06T00:00:00\", \"pct_w_vp\": 0.7124183006535948}, {\"agency_name\": \"Big Blue Bus\", \"route_id\": \"3489\", \"route_short_name\": \"R12\", \"service_date\": \"2022-05-26T00:00:00\", \"pct_w_vp\": 1.0}, {\"agency_name\": \"Big Blue Bus\", \"route_id\": \"3489\", \"route_short_name\": \"R12\", \"service_date\": \"2022-05-31T00:00:00\", \"pct_w_vp\": 0.7450980392156863}, {\"agency_name\": \"Big Blue Bus\", \"route_id\": \"3489\", \"route_short_name\": \"R12\", \"service_date\": \"2022-06-21T00:00:00\", \"pct_w_vp\": 0.9738562091503268}, {\"agency_name\": \"Big Blue Bus\", \"route_id\": \"3489\", \"route_short_name\": \"R12\", \"service_date\": \"2022-05-17T00:00:00\", \"pct_w_vp\": 1.0}, {\"agency_name\": \"Big Blue Bus\", \"route_id\": \"3489\", \"route_short_name\": \"R12\", \"service_date\": \"2022-05-18T00:00:00\", \"pct_w_vp\": 0.9673202614379085}, {\"agency_name\": \"Big Blue Bus\", \"route_id\": \"3489\", \"route_short_name\": \"R12\", \"service_date\": \"2022-05-20T00:00:00\", \"pct_w_vp\": 0.934640522875817}, {\"agency_name\": \"Big Blue Bus\", \"route_id\": \"3489\", \"route_short_name\": \"R12\", \"service_date\": \"2022-05-19T00:00:00\", \"pct_w_vp\": 0.9803921568627451}, {\"agency_name\": \"Big Blue Bus\", \"route_id\": \"3489\", \"route_short_name\": \"R12\", \"service_date\": \"2022-05-16T00:00:00\", \"pct_w_vp\": 0.7058823529411765}, {\"agency_name\": \"Big Blue Bus\", \"route_id\": \"3489\", \"route_short_name\": \"R12\", \"service_date\": \"2022-05-24T00:00:00\", \"pct_w_vp\": 1.0}, {\"agency_name\": \"Big Blue Bus\", \"route_id\": \"3489\", \"route_short_name\": \"R12\", \"service_date\": \"2022-06-28T00:00:00\", \"pct_w_vp\": 0.9150326797385621}, {\"agency_name\": \"Big Blue Bus\", \"route_id\": \"3479\", \"route_short_name\": \"1\", \"service_date\": \"2022-06-02T00:00:00\", \"pct_w_vp\": 0.9444444444444444}, {\"agency_name\": \"Big Blue Bus\", \"route_id\": \"3479\", \"route_short_name\": \"1\", \"service_date\": \"2022-05-02T00:00:00\", \"pct_w_vp\": 0.7444444444444445}, {\"agency_name\": \"Big Blue Bus\", \"route_id\": \"3479\", \"route_short_name\": \"1\", \"service_date\": \"2022-06-23T00:00:00\", \"pct_w_vp\": 0.9777777777777777}, {\"agency_name\": \"Big Blue Bus\", \"route_id\": \"3479\", \"route_short_name\": \"1\", \"service_date\": \"2022-05-24T00:00:00\", \"pct_w_vp\": 0.95}, {\"agency_name\": \"Big Blue Bus\", \"route_id\": \"3479\", \"route_short_name\": \"1\", \"service_date\": \"2022-06-09T00:00:00\", \"pct_w_vp\": 0.9388888888888889}, {\"agency_name\": \"Big Blue Bus\", \"route_id\": \"3479\", \"route_short_name\": \"1\", \"service_date\": \"2022-06-16T00:00:00\", \"pct_w_vp\": 0.9833333333333333}, {\"agency_name\": \"Big Blue Bus\", \"route_id\": \"3479\", \"route_short_name\": \"1\", \"service_date\": \"2022-05-20T00:00:00\", \"pct_w_vp\": 0.9833333333333333}, {\"agency_name\": \"Big Blue Bus\", \"route_id\": \"3479\", \"route_short_name\": \"1\", \"service_date\": \"2022-05-10T00:00:00\", \"pct_w_vp\": 0.9888888888888889}, {\"agency_name\": \"Big Blue Bus\", \"route_id\": \"3479\", \"route_short_name\": \"1\", \"service_date\": \"2022-05-25T00:00:00\", \"pct_w_vp\": 0.9944444444444445}, {\"agency_name\": \"Big Blue Bus\", \"route_id\": \"3479\", \"route_short_name\": \"1\", \"service_date\": \"2022-06-28T00:00:00\", \"pct_w_vp\": 0.9833333333333333}, {\"agency_name\": \"Big Blue Bus\", \"route_id\": \"3479\", \"route_short_name\": \"1\", \"service_date\": \"2022-06-20T00:00:00\", \"pct_w_vp\": 0.7388888888888889}, {\"agency_name\": \"Big Blue Bus\", \"route_id\": \"3479\", \"route_short_name\": \"1\", \"service_date\": \"2022-06-06T00:00:00\", \"pct_w_vp\": 0.7444444444444445}, {\"agency_name\": \"Big Blue Bus\", \"route_id\": \"3479\", \"route_short_name\": \"1\", \"service_date\": \"2022-06-24T00:00:00\", \"pct_w_vp\": 0.9555555555555556}, {\"agency_name\": \"Big Blue Bus\", \"route_id\": \"3479\", \"route_short_name\": \"1\", \"service_date\": \"2022-05-13T00:00:00\", \"pct_w_vp\": 0.9888888888888889}, {\"agency_name\": \"Big Blue Bus\", \"route_id\": \"3479\", \"route_short_name\": \"1\", \"service_date\": \"2022-06-13T00:00:00\", \"pct_w_vp\": 0.75}, {\"agency_name\": \"Big Blue Bus\", \"route_id\": \"3479\", \"route_short_name\": \"1\", \"service_date\": \"2022-06-07T00:00:00\", \"pct_w_vp\": 0.9555555555555556}, {\"agency_name\": \"Big Blue Bus\", \"route_id\": \"3479\", \"route_short_name\": \"1\", \"service_date\": \"2022-05-18T00:00:00\", \"pct_w_vp\": 0.9777777777777777}, {\"agency_name\": \"Big Blue Bus\", \"route_id\": \"3479\", \"route_short_name\": \"1\", \"service_date\": \"2022-05-19T00:00:00\", \"pct_w_vp\": 0.9388888888888889}, {\"agency_name\": \"Big Blue Bus\", \"route_id\": \"3479\", \"route_short_name\": \"1\", \"service_date\": \"2022-06-29T00:00:00\", \"pct_w_vp\": 0.9388888888888889}, {\"agency_name\": \"Big Blue Bus\", \"route_id\": \"3479\", \"route_short_name\": \"1\", \"service_date\": \"2022-05-12T00:00:00\", \"pct_w_vp\": 1.0}, {\"agency_name\": \"Big Blue Bus\", \"route_id\": \"3479\", \"route_short_name\": \"1\", \"service_date\": \"2022-05-06T00:00:00\", \"pct_w_vp\": 0.8944444444444445}, {\"agency_name\": \"Big Blue Bus\", \"route_id\": \"3479\", \"route_short_name\": \"1\", \"service_date\": \"2022-05-05T00:00:00\", \"pct_w_vp\": 0.9222222222222223}, {\"agency_name\": \"Big Blue Bus\", \"route_id\": \"3479\", \"route_short_name\": \"1\", \"service_date\": \"2022-05-31T00:00:00\", \"pct_w_vp\": 0.7222222222222222}, {\"agency_name\": \"Big Blue Bus\", \"route_id\": \"3479\", \"route_short_name\": \"1\", \"service_date\": \"2022-06-30T00:00:00\", \"pct_w_vp\": 0.9833333333333333}, {\"agency_name\": \"Big Blue Bus\", \"route_id\": \"3479\", \"route_short_name\": \"1\", \"service_date\": \"2022-06-15T00:00:00\", \"pct_w_vp\": 0.9166666666666666}, {\"agency_name\": \"Big Blue Bus\", \"route_id\": \"3479\", \"route_short_name\": \"1\", \"service_date\": \"2022-05-26T00:00:00\", \"pct_w_vp\": 1.0}, {\"agency_name\": \"Big Blue Bus\", \"route_id\": \"3479\", \"route_short_name\": \"1\", \"service_date\": \"2022-05-11T00:00:00\", \"pct_w_vp\": 0.9944444444444445}, {\"agency_name\": \"Big Blue Bus\", \"route_id\": \"3479\", \"route_short_name\": \"1\", \"service_date\": \"2022-05-16T00:00:00\", \"pct_w_vp\": 0.7277777777777777}, {\"agency_name\": \"Big Blue Bus\", \"route_id\": \"3479\", \"route_short_name\": \"1\", \"service_date\": \"2022-06-10T00:00:00\", \"pct_w_vp\": 0.8944444444444445}, {\"agency_name\": \"Big Blue Bus\", \"route_id\": \"3479\", \"route_short_name\": \"1\", \"service_date\": \"2022-05-23T00:00:00\", \"pct_w_vp\": 0.7388888888888889}, {\"agency_name\": \"Big Blue Bus\", \"route_id\": \"3479\", \"route_short_name\": \"1\", \"service_date\": \"2022-06-03T00:00:00\", \"pct_w_vp\": 0.9833333333333333}, {\"agency_name\": \"Big Blue Bus\", \"route_id\": \"3479\", \"route_short_name\": \"1\", \"service_date\": \"2022-05-17T00:00:00\", \"pct_w_vp\": 1.0}, {\"agency_name\": \"Big Blue Bus\", \"route_id\": \"3479\", \"route_short_name\": \"1\", \"service_date\": \"2022-05-27T00:00:00\", \"pct_w_vp\": 0.9833333333333333}, {\"agency_name\": \"Big Blue Bus\", \"route_id\": \"3479\", \"route_short_name\": \"1\", \"service_date\": \"2022-05-09T00:00:00\", \"pct_w_vp\": 0.7111111111111111}, {\"agency_name\": \"Big Blue Bus\", \"route_id\": \"3479\", \"route_short_name\": \"1\", \"service_date\": \"2022-06-22T00:00:00\", \"pct_w_vp\": 0.9555555555555556}, {\"agency_name\": \"Big Blue Bus\", \"route_id\": \"3479\", \"route_short_name\": \"1\", \"service_date\": \"2022-05-04T00:00:00\", \"pct_w_vp\": 0.9444444444444444}, {\"agency_name\": \"Big Blue Bus\", \"route_id\": \"3479\", \"route_short_name\": \"1\", \"service_date\": \"2022-05-03T00:00:00\", \"pct_w_vp\": 1.0}, {\"agency_name\": \"Big Blue Bus\", \"route_id\": \"3479\", \"route_short_name\": \"1\", \"service_date\": \"2022-06-01T00:00:00\", \"pct_w_vp\": 0.95}, {\"agency_name\": \"Big Blue Bus\", \"route_id\": \"3479\", \"route_short_name\": \"1\", \"service_date\": \"2022-06-14T00:00:00\", \"pct_w_vp\": 0.9333333333333333}, {\"agency_name\": \"Big Blue Bus\", \"route_id\": \"3479\", \"route_short_name\": \"1\", \"service_date\": \"2022-06-27T00:00:00\", \"pct_w_vp\": 0.6277777777777778}, {\"agency_name\": \"Big Blue Bus\", \"route_id\": \"3479\", \"route_short_name\": \"1\", \"service_date\": \"2022-06-17T00:00:00\", \"pct_w_vp\": 1.0}, {\"agency_name\": \"Big Blue Bus\", \"route_id\": \"3479\", \"route_short_name\": \"1\", \"service_date\": \"2022-06-21T00:00:00\", \"pct_w_vp\": 1.0}, {\"agency_name\": \"Big Blue Bus\", \"route_id\": \"3479\", \"route_short_name\": \"1\", \"service_date\": \"2022-06-08T00:00:00\", \"pct_w_vp\": 0.9444444444444444}]}}, {\"mode\": \"vega-lite\"});\n",
       "</script>"
      ],
      "text/plain": [
       "alt.Chart(...)"
      ]
     },
     "execution_count": 28,
     "metadata": {},
     "output_type": "execute_result"
    }
   ],
   "source": [
    "display(HTML(f\"<strong>{(agency.iloc[0]['agency_name'])} \"\n",
    "             f\"Average Percent of Scheduled Trips with Vehicle Postions Data \"\n",
    "             f\"by Route Over Time</strong>\"))\n",
    "display(Markdown(\"To utilize the multi-select, use `shift` when clicking routes in the legend\"))\n",
    "\n",
    "line = alt.Chart(agency_short).mark_line().encode(\n",
    "    x=alt.X('service_date', title=utils.labeling('service_date')),\n",
    "    y=alt.Y('pct_w_vp', title=('Percent with Vehicle Positions'), axis=alt.Axis(format='%')),\n",
    "    color=alt.Color('route_short_name', title=['Route Name']),\n",
    "    strokeDash='route_short_name')\n",
    "\n",
    "line_chart = utils.add_tooltip(line, 'route_short_name','service_date', 'pct_w_vp')\n",
    "line_chart = utils.add_chart_selection(line_chart, 'route_short_name')\n",
    "line_chart.properties(width=700)"
   ]
  },
  {
   "cell_type": "code",
   "execution_count": null,
   "id": "269da230-9d99-4b39-8a02-51ff82059fc9",
   "metadata": {},
   "outputs": [],
   "source": []
  },
  {
   "cell_type": "code",
   "execution_count": 29,
   "id": "332ed017-d30d-4f7e-aa12-33d928558d3a",
   "metadata": {
    "tags": []
   },
   "outputs": [],
   "source": [
    "agency_route_weekday = utils.get_agg_pct(agency,\n",
    "                groupings = ['route_short_name', 'weekday'],\n",
    "                sum_sched= 'num_sched',\n",
    "                sum_vp = 'num_vp',\n",
    "               )"
   ]
  },
  {
   "cell_type": "code",
   "execution_count": 30,
   "id": "43759c22-dc0e-480f-bfd5-30d4518b28e9",
   "metadata": {},
   "outputs": [],
   "source": [
    "weekend_routes = (agency_route_weekday>>filter(_.weekday=='Saturday')>>count(_.route_short_name)).route_short_name.tolist()"
   ]
  },
  {
   "cell_type": "code",
   "execution_count": 31,
   "id": "50e934d6-faf1-41a6-a731-8a1f8b2a2568",
   "metadata": {},
   "outputs": [],
   "source": [
    "agency_route_weekday['weekend_service'] = agency_route_weekday['route_short_name'].isin(weekend_routes)"
   ]
  },
  {
   "cell_type": "code",
   "execution_count": 32,
   "id": "b61c5028-5399-413c-a9dd-51d44af54e15",
   "metadata": {},
   "outputs": [],
   "source": [
    "cats_day = ['Monday', 'Tuesday', 'Wednesday', 'Thursday', 'Friday', 'Saturday', 'Sunday']\n",
    "cats_month = ['January', 'February', 'March', 'April', 'May', 'June', 'July', 'August', 'September', 'October', 'November', 'December']"
   ]
  },
  {
   "cell_type": "code",
   "execution_count": 33,
   "id": "a88759d4-c6a9-4311-89ae-9ed282ae4a60",
   "metadata": {},
   "outputs": [
    {
     "data": {
      "text/html": [
       "<strong>Big Blue Bus Weekday Average Percent of Scheduled Trips with RT Vehicle Position Data</strong>"
      ],
      "text/plain": [
       "<IPython.core.display.HTML object>"
      ]
     },
     "metadata": {},
     "output_type": "display_data"
    },
    {
     "data": {
      "text/markdown": [
       "To utilize the multi-select, use `shift` when clicking routes in the legend"
      ],
      "text/plain": [
       "<IPython.core.display.Markdown object>"
      ]
     },
     "metadata": {},
     "output_type": "display_data"
    },
    {
     "data": {
      "text/html": [
       "\n",
       "<div id=\"altair-viz-8f83fa0990c44d239402773bcc1f7c5f\"></div>\n",
       "<script type=\"text/javascript\">\n",
       "  var VEGA_DEBUG = (typeof VEGA_DEBUG == \"undefined\") ? {} : VEGA_DEBUG;\n",
       "  (function(spec, embedOpt){\n",
       "    let outputDiv = document.currentScript.previousElementSibling;\n",
       "    if (outputDiv.id !== \"altair-viz-8f83fa0990c44d239402773bcc1f7c5f\") {\n",
       "      outputDiv = document.getElementById(\"altair-viz-8f83fa0990c44d239402773bcc1f7c5f\");\n",
       "    }\n",
       "    const paths = {\n",
       "      \"vega\": \"https://cdn.jsdelivr.net/npm//vega@5?noext\",\n",
       "      \"vega-lib\": \"https://cdn.jsdelivr.net/npm//vega-lib?noext\",\n",
       "      \"vega-lite\": \"https://cdn.jsdelivr.net/npm//vega-lite@4.17.0?noext\",\n",
       "      \"vega-embed\": \"https://cdn.jsdelivr.net/npm//vega-embed@6?noext\",\n",
       "    };\n",
       "\n",
       "    function maybeLoadScript(lib, version) {\n",
       "      var key = `${lib.replace(\"-\", \"\")}_version`;\n",
       "      return (VEGA_DEBUG[key] == version) ?\n",
       "        Promise.resolve(paths[lib]) :\n",
       "        new Promise(function(resolve, reject) {\n",
       "          var s = document.createElement('script');\n",
       "          document.getElementsByTagName(\"head\")[0].appendChild(s);\n",
       "          s.async = true;\n",
       "          s.onload = () => {\n",
       "            VEGA_DEBUG[key] = version;\n",
       "            return resolve(paths[lib]);\n",
       "          };\n",
       "          s.onerror = () => reject(`Error loading script: ${paths[lib]}`);\n",
       "          s.src = paths[lib];\n",
       "        });\n",
       "    }\n",
       "\n",
       "    function showError(err) {\n",
       "      outputDiv.innerHTML = `<div class=\"error\" style=\"color:red;\">${err}</div>`;\n",
       "      throw err;\n",
       "    }\n",
       "\n",
       "    function displayChart(vegaEmbed) {\n",
       "      vegaEmbed(outputDiv, spec, embedOpt)\n",
       "        .catch(err => showError(`Javascript Error: ${err.message}<br>This usually means there's a typo in your chart specification. See the javascript console for the full traceback.`));\n",
       "    }\n",
       "\n",
       "    if(typeof define === \"function\" && define.amd) {\n",
       "      requirejs.config({paths});\n",
       "      require([\"vega-embed\"], displayChart, err => showError(`Error loading script: ${err.message}`));\n",
       "    } else {\n",
       "      maybeLoadScript(\"vega\", \"5\")\n",
       "        .then(() => maybeLoadScript(\"vega-lite\", \"4.17.0\"))\n",
       "        .then(() => maybeLoadScript(\"vega-embed\", \"6\"))\n",
       "        .catch(showError)\n",
       "        .then(() => displayChart(vegaEmbed));\n",
       "    }\n",
       "  })({\"config\": {\"view\": {\"continuousWidth\": 400, \"continuousHeight\": 300}}, \"hconcat\": [{\"data\": {\"name\": \"data-f34e03a107f2fa3cff9b01cabd153191\"}, \"mark\": {\"type\": \"line\", \"point\": {\"filled\": false, \"fill\": \"white\"}}, \"encoding\": {\"color\": {\"field\": \"route_short_name\", \"type\": \"nominal\"}, \"opacity\": {\"condition\": {\"value\": 1, \"selection\": \"selector002\"}, \"value\": 0}, \"tooltip\": [{\"field\": \"route_short_name\", \"title\": \"Route Short Name\", \"type\": \"nominal\"}, {\"field\": \"weekday\", \"title\": \"Weekday\", \"type\": \"nominal\"}, {\"field\": \"weekday\", \"title\": \"Weekday\", \"type\": \"nominal\"}], \"x\": {\"field\": \"weekday\", \"sort\": [\"Monday\", \"Tuesday\", \"Wednesday\", \"Thursday\", \"Friday\", \"Saturday\", \"Sunday\"], \"title\": \"Weekday\", \"type\": \"nominal\"}, \"y\": {\"axis\": {\"format\": \"%\"}, \"field\": \"avg\", \"title\": \"Average\", \"type\": \"quantitative\"}}, \"selection\": {\"selector002\": {\"type\": \"multi\", \"fields\": [\"route_short_name\"], \"bind\": \"legend\"}}, \"width\": 500}, {\"data\": {\"name\": \"data-a3146a489c2a1695ea11196e39db2627\"}, \"mark\": {\"type\": \"line\", \"point\": {\"filled\": false, \"fill\": \"white\"}}, \"encoding\": {\"color\": {\"field\": \"route_short_name\", \"type\": \"nominal\"}, \"opacity\": {\"condition\": {\"value\": 1, \"selection\": \"selector003\"}, \"value\": 0}, \"tooltip\": [{\"field\": \"route_short_name\", \"title\": \"Route Short Name\", \"type\": \"nominal\"}, {\"field\": \"weekday\", \"title\": \"Weekday\", \"type\": \"nominal\"}, {\"field\": \"weekday\", \"title\": \"Weekday\", \"type\": \"nominal\"}], \"x\": {\"field\": \"weekday\", \"sort\": [\"Monday\", \"Tuesday\", \"Wednesday\", \"Thursday\", \"Friday\", \"Saturday\", \"Sunday\"], \"title\": \"Weekday\", \"type\": \"nominal\"}, \"y\": {\"axis\": {\"format\": \"%\"}, \"field\": \"avg\", \"title\": \"Average\", \"type\": \"quantitative\"}}, \"selection\": {\"selector003\": {\"type\": \"multi\", \"fields\": [\"route_short_name\"], \"bind\": \"legend\"}}, \"width\": 500}], \"$schema\": \"https://vega.github.io/schema/vega-lite/v4.17.0.json\", \"datasets\": {\"data-f34e03a107f2fa3cff9b01cabd153191\": [{\"route_short_name\": \"44\", \"weekday\": \"Thursday\", \"num_sched\": 728, \"num_vp\": 0, \"avg\": 0.0, \"weekend_service\": false}, {\"route_short_name\": \"44\", \"weekday\": \"Monday\", \"num_sched\": 728, \"num_vp\": 0, \"avg\": 0.0, \"weekend_service\": false}, {\"route_short_name\": \"44\", \"weekday\": \"Friday\", \"num_sched\": 416, \"num_vp\": 0, \"avg\": 0.0, \"weekend_service\": false}, {\"route_short_name\": \"44\", \"weekday\": \"Wednesday\", \"num_sched\": 728, \"num_vp\": 0, \"avg\": 0.0, \"weekend_service\": false}, {\"route_short_name\": \"44\", \"weekday\": \"Tuesday\", \"num_sched\": 832, \"num_vp\": 0, \"avg\": 0.0, \"weekend_service\": false}, {\"route_short_name\": \"R10\", \"weekday\": \"Tuesday\", \"num_sched\": 54, \"num_vp\": 50, \"avg\": 0.9259259259259259, \"weekend_service\": false}, {\"route_short_name\": \"R10\", \"weekday\": \"Thursday\", \"num_sched\": 54, \"num_vp\": 51, \"avg\": 0.9444444444444444, \"weekend_service\": false}, {\"route_short_name\": \"R10\", \"weekday\": \"Wednesday\", \"num_sched\": 54, \"num_vp\": 52, \"avg\": 0.9629629629629629, \"weekend_service\": false}, {\"route_short_name\": \"R10\", \"weekday\": \"Friday\", \"num_sched\": 48, \"num_vp\": 47, \"avg\": 0.9791666666666666, \"weekend_service\": false}, {\"route_short_name\": \"R10\", \"weekday\": \"Monday\", \"num_sched\": 48, \"num_vp\": 34, \"avg\": 0.7083333333333334, \"weekend_service\": false}, {\"route_short_name\": \"5\", \"weekday\": \"Monday\", \"num_sched\": 192, \"num_vp\": 169, \"avg\": 0.8802083333333334, \"weekend_service\": false}, {\"route_short_name\": \"5\", \"weekday\": \"Friday\", \"num_sched\": 192, \"num_vp\": 185, \"avg\": 0.9635416666666666, \"weekend_service\": false}, {\"route_short_name\": \"5\", \"weekday\": \"Thursday\", \"num_sched\": 216, \"num_vp\": 208, \"avg\": 0.9629629629629629, \"weekend_service\": false}, {\"route_short_name\": \"5\", \"weekday\": \"Wednesday\", \"num_sched\": 216, \"num_vp\": 209, \"avg\": 0.9675925925925926, \"weekend_service\": false}, {\"route_short_name\": \"5\", \"weekday\": \"Tuesday\", \"num_sched\": 216, \"num_vp\": 206, \"avg\": 0.9537037037037037, \"weekend_service\": false}, {\"route_short_name\": \"15\", \"weekday\": \"Thursday\", \"num_sched\": 243, \"num_vp\": 243, \"avg\": 1.0, \"weekend_service\": false}, {\"route_short_name\": \"15\", \"weekday\": \"Wednesday\", \"num_sched\": 243, \"num_vp\": 243, \"avg\": 1.0, \"weekend_service\": false}, {\"route_short_name\": \"15\", \"weekday\": \"Friday\", \"num_sched\": 216, \"num_vp\": 188, \"avg\": 0.8703703703703703, \"weekend_service\": false}, {\"route_short_name\": \"15\", \"weekday\": \"Tuesday\", \"num_sched\": 243, \"num_vp\": 235, \"avg\": 0.9670781893004116, \"weekend_service\": false}, {\"route_short_name\": \"15\", \"weekday\": \"Monday\", \"num_sched\": 216, \"num_vp\": 184, \"avg\": 0.8518518518518519, \"weekend_service\": false}, {\"route_short_name\": \"43\", \"weekday\": \"Friday\", \"num_sched\": 280, \"num_vp\": 252, \"avg\": 0.9, \"weekend_service\": false}, {\"route_short_name\": \"43\", \"weekday\": \"Tuesday\", \"num_sched\": 315, \"num_vp\": 307, \"avg\": 0.9746031746031746, \"weekend_service\": false}, {\"route_short_name\": \"43\", \"weekday\": \"Monday\", \"num_sched\": 280, \"num_vp\": 240, \"avg\": 0.8571428571428571, \"weekend_service\": false}, {\"route_short_name\": \"43\", \"weekday\": \"Wednesday\", \"num_sched\": 315, \"num_vp\": 312, \"avg\": 0.9904761904761905, \"weekend_service\": false}, {\"route_short_name\": \"43\", \"weekday\": \"Thursday\", \"num_sched\": 315, \"num_vp\": 315, \"avg\": 1.0, \"weekend_service\": false}, {\"route_short_name\": \"R3\", \"weekday\": \"Thursday\", \"num_sched\": 459, \"num_vp\": 452, \"avg\": 0.9847494553376906, \"weekend_service\": false}, {\"route_short_name\": \"R3\", \"weekday\": \"Tuesday\", \"num_sched\": 459, \"num_vp\": 444, \"avg\": 0.9673202614379085, \"weekend_service\": false}, {\"route_short_name\": \"R3\", \"weekday\": \"Monday\", \"num_sched\": 408, \"num_vp\": 355, \"avg\": 0.8700980392156863, \"weekend_service\": false}, {\"route_short_name\": \"R3\", \"weekday\": \"Friday\", \"num_sched\": 408, \"num_vp\": 383, \"avg\": 0.9387254901960784, \"weekend_service\": false}, {\"route_short_name\": \"R3\", \"weekday\": \"Wednesday\", \"num_sched\": 459, \"num_vp\": 442, \"avg\": 0.9629629629629629, \"weekend_service\": false}, {\"route_short_name\": \"16\", \"weekday\": \"Wednesday\", \"num_sched\": 486, \"num_vp\": 479, \"avg\": 0.98559670781893, \"weekend_service\": false}, {\"route_short_name\": \"16\", \"weekday\": \"Tuesday\", \"num_sched\": 486, \"num_vp\": 469, \"avg\": 0.9650205761316872, \"weekend_service\": false}, {\"route_short_name\": \"16\", \"weekday\": \"Friday\", \"num_sched\": 432, \"num_vp\": 429, \"avg\": 0.9930555555555556, \"weekend_service\": false}, {\"route_short_name\": \"16\", \"weekday\": \"Monday\", \"num_sched\": 432, \"num_vp\": 355, \"avg\": 0.8217592592592593, \"weekend_service\": false}, {\"route_short_name\": \"16\", \"weekday\": \"Thursday\", \"num_sched\": 486, \"num_vp\": 473, \"avg\": 0.9732510288065843, \"weekend_service\": false}, {\"route_short_name\": \"R7\", \"weekday\": \"Wednesday\", \"num_sched\": 684, \"num_vp\": 646, \"avg\": 0.9444444444444444, \"weekend_service\": false}, {\"route_short_name\": \"R7\", \"weekday\": \"Monday\", \"num_sched\": 608, \"num_vp\": 492, \"avg\": 0.8092105263157895, \"weekend_service\": false}, {\"route_short_name\": \"R7\", \"weekday\": \"Friday\", \"num_sched\": 608, \"num_vp\": 555, \"avg\": 0.912828947368421, \"weekend_service\": false}, {\"route_short_name\": \"R7\", \"weekday\": \"Thursday\", \"num_sched\": 684, \"num_vp\": 655, \"avg\": 0.9576023391812866, \"weekend_service\": false}, {\"route_short_name\": \"R7\", \"weekday\": \"Tuesday\", \"num_sched\": 684, \"num_vp\": 638, \"avg\": 0.9327485380116959, \"weekend_service\": false}], \"data-a3146a489c2a1695ea11196e39db2627\": [{\"route_short_name\": \"1\", \"weekday\": \"Sunday\", \"num_sched\": 1044, \"num_vp\": 683, \"avg\": 0.6542145593869731, \"weekend_service\": true}, {\"route_short_name\": \"1\", \"weekday\": \"Monday\", \"num_sched\": 1556, \"num_vp\": 1157, \"avg\": 0.743573264781491, \"weekend_service\": true}, {\"route_short_name\": \"1\", \"weekday\": \"Saturday\", \"num_sched\": 1048, \"num_vp\": 690, \"avg\": 0.6583969465648855, \"weekend_service\": true}, {\"route_short_name\": \"3\", \"weekday\": \"Saturday\", \"num_sched\": 1048, \"num_vp\": 674, \"avg\": 0.6431297709923665, \"weekend_service\": true}, {\"route_short_name\": \"3\", \"weekday\": \"Sunday\", \"num_sched\": 1161, \"num_vp\": 752, \"avg\": 0.6477174849267873, \"weekend_service\": true}, {\"route_short_name\": \"3\", \"weekday\": \"Monday\", \"num_sched\": 1289, \"num_vp\": 928, \"avg\": 0.7199379363847944, \"weekend_service\": true}, {\"route_short_name\": \"7\", \"weekday\": \"Sunday\", \"num_sched\": 1125, \"num_vp\": 742, \"avg\": 0.6595555555555556, \"weekend_service\": true}, {\"route_short_name\": \"7\", \"weekday\": \"Saturday\", \"num_sched\": 1072, \"num_vp\": 732, \"avg\": 0.6828358208955224, \"weekend_service\": true}, {\"route_short_name\": \"7\", \"weekday\": \"Monday\", \"num_sched\": 1349, \"num_vp\": 965, \"avg\": 0.7153446997776131, \"weekend_service\": true}, {\"route_short_name\": \"9\", \"weekday\": \"Saturday\", \"num_sched\": 352, \"num_vp\": 250, \"avg\": 0.7102272727272727, \"weekend_service\": true}, {\"route_short_name\": \"9\", \"weekday\": \"Sunday\", \"num_sched\": 342, \"num_vp\": 244, \"avg\": 0.7134502923976608, \"weekend_service\": true}, {\"route_short_name\": \"9\", \"weekday\": \"Monday\", \"num_sched\": 576, \"num_vp\": 427, \"avg\": 0.7413194444444444, \"weekend_service\": true}, {\"route_short_name\": \"R12\", \"weekday\": \"Sunday\", \"num_sched\": 711, \"num_vp\": 478, \"avg\": 0.6722925457102672, \"weekend_service\": true}, {\"route_short_name\": \"R12\", \"weekday\": \"Saturday\", \"num_sched\": 648, \"num_vp\": 450, \"avg\": 0.6944444444444444, \"weekend_service\": true}, {\"route_short_name\": \"R12\", \"weekday\": \"Monday\", \"num_sched\": 1303, \"num_vp\": 962, \"avg\": 0.7382962394474291, \"weekend_service\": true}, {\"route_short_name\": \"14\", \"weekday\": \"Saturday\", \"num_sched\": 664, \"num_vp\": 516, \"avg\": 0.7771084337349398, \"weekend_service\": true}, {\"route_short_name\": \"14\", \"weekday\": \"Friday\", \"num_sched\": 860, \"num_vp\": 783, \"avg\": 0.9104651162790698, \"weekend_service\": true}, {\"route_short_name\": \"18\", \"weekday\": \"Sunday\", \"num_sched\": 378, \"num_vp\": 321, \"avg\": 0.8492063492063492, \"weekend_service\": true}, {\"route_short_name\": \"18\", \"weekday\": \"Thursday\", \"num_sched\": 474, \"num_vp\": 463, \"avg\": 0.9767932489451476, \"weekend_service\": true}, {\"route_short_name\": \"18\", \"weekday\": \"Friday\", \"num_sched\": 421, \"num_vp\": 407, \"avg\": 0.9667458432304038, \"weekend_service\": true}, {\"route_short_name\": \"18\", \"weekday\": \"Wednesday\", \"num_sched\": 474, \"num_vp\": 457, \"avg\": 0.9641350210970464, \"weekend_service\": true}, {\"route_short_name\": \"18\", \"weekday\": \"Monday\", \"num_sched\": 463, \"num_vp\": 362, \"avg\": 0.7818574514038877, \"weekend_service\": true}, {\"route_short_name\": \"18\", \"weekday\": \"Tuesday\", \"num_sched\": 474, \"num_vp\": 432, \"avg\": 0.9113924050632911, \"weekend_service\": true}, {\"route_short_name\": \"41\", \"weekday\": \"Saturday\", \"num_sched\": 152, \"num_vp\": 136, \"avg\": 0.8947368421052632, \"weekend_service\": true}, {\"route_short_name\": \"41\", \"weekday\": \"Friday\", \"num_sched\": 312, \"num_vp\": 292, \"avg\": 0.9358974358974359, \"weekend_service\": true}, {\"route_short_name\": \"41\", \"weekday\": \"Monday\", \"num_sched\": 312, \"num_vp\": 256, \"avg\": 0.8205128205128205, \"weekend_service\": true}, {\"route_short_name\": \"41\", \"weekday\": \"Wednesday\", \"num_sched\": 351, \"num_vp\": 350, \"avg\": 0.9971509971509972, \"weekend_service\": true}, {\"route_short_name\": \"41\", \"weekday\": \"Thursday\", \"num_sched\": 351, \"num_vp\": 351, \"avg\": 1.0, \"weekend_service\": true}, {\"route_short_name\": \"41\", \"weekday\": \"Tuesday\", \"num_sched\": 351, \"num_vp\": 333, \"avg\": 0.9487179487179487, \"weekend_service\": true}, {\"route_short_name\": \"17\", \"weekday\": \"Sunday\", \"num_sched\": 450, \"num_vp\": 350, \"avg\": 0.7777777777777778, \"weekend_service\": true}, {\"route_short_name\": \"17\", \"weekday\": \"Monday\", \"num_sched\": 754, \"num_vp\": 604, \"avg\": 0.8010610079575596, \"weekend_service\": true}, {\"route_short_name\": \"18\", \"weekday\": \"Saturday\", \"num_sched\": 400, \"num_vp\": 294, \"avg\": 0.735, \"weekend_service\": true}, {\"route_short_name\": \"17\", \"weekday\": \"Saturday\", \"num_sched\": 424, \"num_vp\": 329, \"avg\": 0.7759433962264151, \"weekend_service\": true}, {\"route_short_name\": \"14\", \"weekday\": \"Sunday\", \"num_sched\": 513, \"num_vp\": 387, \"avg\": 0.7543859649122807, \"weekend_service\": true}, {\"route_short_name\": \"14\", \"weekday\": \"Monday\", \"num_sched\": 913, \"num_vp\": 719, \"avg\": 0.787513691128149, \"weekend_service\": true}, {\"route_short_name\": \"8\", \"weekday\": \"Sunday\", \"num_sched\": 594, \"num_vp\": 394, \"avg\": 0.6632996632996633, \"weekend_service\": true}, {\"route_short_name\": \"8\", \"weekday\": \"Monday\", \"num_sched\": 634, \"num_vp\": 448, \"avg\": 0.7066246056782335, \"weekend_service\": true}, {\"route_short_name\": \"9\", \"weekday\": \"Tuesday\", \"num_sched\": 606, \"num_vp\": 559, \"avg\": 0.9224422442244224, \"weekend_service\": true}, {\"route_short_name\": \"9\", \"weekday\": \"Friday\", \"num_sched\": 538, \"num_vp\": 509, \"avg\": 0.9460966542750929, \"weekend_service\": true}, {\"route_short_name\": \"9\", \"weekday\": \"Wednesday\", \"num_sched\": 606, \"num_vp\": 579, \"avg\": 0.9554455445544554, \"weekend_service\": true}, {\"route_short_name\": \"9\", \"weekday\": \"Thursday\", \"num_sched\": 604, \"num_vp\": 588, \"avg\": 0.9735099337748344, \"weekend_service\": true}, {\"route_short_name\": \"2\", \"weekday\": \"Sunday\", \"num_sched\": 612, \"num_vp\": 410, \"avg\": 0.6699346405228758, \"weekend_service\": true}, {\"route_short_name\": \"2\", \"weekday\": \"Monday\", \"num_sched\": 724, \"num_vp\": 511, \"avg\": 0.7058011049723757, \"weekend_service\": true}, {\"route_short_name\": \"8\", \"weekday\": \"Saturday\", \"num_sched\": 544, \"num_vp\": 366, \"avg\": 0.6727941176470589, \"weekend_service\": true}, {\"route_short_name\": \"8\", \"weekday\": \"Thursday\", \"num_sched\": 639, \"num_vp\": 629, \"avg\": 0.9843505477308294, \"weekend_service\": true}, {\"route_short_name\": \"8\", \"weekday\": \"Wednesday\", \"num_sched\": 639, \"num_vp\": 638, \"avg\": 0.9984350547730829, \"weekend_service\": true}, {\"route_short_name\": \"8\", \"weekday\": \"Friday\", \"num_sched\": 568, \"num_vp\": 544, \"avg\": 0.9577464788732394, \"weekend_service\": true}, {\"route_short_name\": \"8\", \"weekday\": \"Tuesday\", \"num_sched\": 639, \"num_vp\": 588, \"avg\": 0.92018779342723, \"weekend_service\": true}, {\"route_short_name\": \"2\", \"weekday\": \"Saturday\", \"num_sched\": 608, \"num_vp\": 422, \"avg\": 0.694078947368421, \"weekend_service\": true}, {\"route_short_name\": \"2\", \"weekday\": \"Friday\", \"num_sched\": 656, \"num_vp\": 619, \"avg\": 0.9435975609756098, \"weekend_service\": true}, {\"route_short_name\": \"2\", \"weekday\": \"Wednesday\", \"num_sched\": 738, \"num_vp\": 691, \"avg\": 0.9363143631436315, \"weekend_service\": true}, {\"route_short_name\": \"2\", \"weekday\": \"Tuesday\", \"num_sched\": 738, \"num_vp\": 683, \"avg\": 0.9254742547425474, \"weekend_service\": true}, {\"route_short_name\": \"2\", \"weekday\": \"Thursday\", \"num_sched\": 738, \"num_vp\": 714, \"avg\": 0.967479674796748, \"weekend_service\": true}, {\"route_short_name\": \"17\", \"weekday\": \"Wednesday\", \"num_sched\": 792, \"num_vp\": 773, \"avg\": 0.976010101010101, \"weekend_service\": true}, {\"route_short_name\": \"17\", \"weekday\": \"Friday\", \"num_sched\": 704, \"num_vp\": 678, \"avg\": 0.9630681818181818, \"weekend_service\": true}, {\"route_short_name\": \"17\", \"weekday\": \"Tuesday\", \"num_sched\": 792, \"num_vp\": 758, \"avg\": 0.9570707070707071, \"weekend_service\": true}, {\"route_short_name\": \"17\", \"weekday\": \"Thursday\", \"num_sched\": 792, \"num_vp\": 774, \"avg\": 0.9772727272727273, \"weekend_service\": true}, {\"route_short_name\": \"14\", \"weekday\": \"Tuesday\", \"num_sched\": 963, \"num_vp\": 926, \"avg\": 0.9615784008307373, \"weekend_service\": true}, {\"route_short_name\": \"14\", \"weekday\": \"Thursday\", \"num_sched\": 963, \"num_vp\": 945, \"avg\": 0.9813084112149533, \"weekend_service\": true}, {\"route_short_name\": \"14\", \"weekday\": \"Wednesday\", \"num_sched\": 963, \"num_vp\": 941, \"avg\": 0.9771547248182763, \"weekend_service\": true}, {\"route_short_name\": \"3\", \"weekday\": \"Friday\", \"num_sched\": 1160, \"num_vp\": 1077, \"avg\": 0.928448275862069, \"weekend_service\": true}, {\"route_short_name\": \"3\", \"weekday\": \"Tuesday\", \"num_sched\": 1305, \"num_vp\": 1234, \"avg\": 0.9455938697318008, \"weekend_service\": true}, {\"route_short_name\": \"3\", \"weekday\": \"Thursday\", \"num_sched\": 1305, \"num_vp\": 1248, \"avg\": 0.9563218390804598, \"weekend_service\": true}, {\"route_short_name\": \"3\", \"weekday\": \"Wednesday\", \"num_sched\": 1305, \"num_vp\": 1267, \"avg\": 0.9708812260536398, \"weekend_service\": true}, {\"route_short_name\": \"7\", \"weekday\": \"Friday\", \"num_sched\": 1224, \"num_vp\": 1172, \"avg\": 0.9575163398692811, \"weekend_service\": true}, {\"route_short_name\": \"7\", \"weekday\": \"Thursday\", \"num_sched\": 1377, \"num_vp\": 1313, \"avg\": 0.953522149600581, \"weekend_service\": true}, {\"route_short_name\": \"7\", \"weekday\": \"Wednesday\", \"num_sched\": 1377, \"num_vp\": 1300, \"avg\": 0.944081336238199, \"weekend_service\": true}, {\"route_short_name\": \"7\", \"weekday\": \"Tuesday\", \"num_sched\": 1377, \"num_vp\": 1285, \"avg\": 0.9331880900508351, \"weekend_service\": true}, {\"route_short_name\": \"R12\", \"weekday\": \"Thursday\", \"num_sched\": 1377, \"num_vp\": 1335, \"avg\": 0.9694989106753813, \"weekend_service\": true}, {\"route_short_name\": \"R12\", \"weekday\": \"Wednesday\", \"num_sched\": 1377, \"num_vp\": 1329, \"avg\": 0.9651416122004357, \"weekend_service\": true}, {\"route_short_name\": \"R12\", \"weekday\": \"Friday\", \"num_sched\": 1224, \"num_vp\": 1128, \"avg\": 0.9215686274509803, \"weekend_service\": true}, {\"route_short_name\": \"R12\", \"weekday\": \"Tuesday\", \"num_sched\": 1377, \"num_vp\": 1286, \"avg\": 0.9339143064633261, \"weekend_service\": true}, {\"route_short_name\": \"1\", \"weekday\": \"Thursday\", \"num_sched\": 1620, \"num_vp\": 1564, \"avg\": 0.9654320987654321, \"weekend_service\": true}, {\"route_short_name\": \"1\", \"weekday\": \"Tuesday\", \"num_sched\": 1620, \"num_vp\": 1536, \"avg\": 0.9481481481481482, \"weekend_service\": true}, {\"route_short_name\": \"1\", \"weekday\": \"Friday\", \"num_sched\": 1440, \"num_vp\": 1383, \"avg\": 0.9604166666666667, \"weekend_service\": true}, {\"route_short_name\": \"1\", \"weekday\": \"Wednesday\", \"num_sched\": 1620, \"num_vp\": 1551, \"avg\": 0.9574074074074074, \"weekend_service\": true}]}}, {\"mode\": \"vega-lite\"});\n",
       "</script>"
      ],
      "text/plain": [
       "alt.HConcatChart(...)"
      ]
     },
     "execution_count": 33,
     "metadata": {},
     "output_type": "execute_result"
    }
   ],
   "source": [
    "display(HTML(f\"<strong>{(agency.iloc[0]['agency_name'])} Weekday Average Percent of Scheduled Trips with RT Vehicle Position Data</strong>\"))\n",
    "display(Markdown(\"To utilize the multi-select, use `shift` when clicking routes in the legend\"))\n",
    "\n",
    "weekday = (utils.bar_chart_over_time((agency_route_weekday>>filter(_.weekend_service==False)),\n",
    "                          'weekday', 'avg', 'route_short_name', '%', cats_day, \"\").mark_line(point={\"filled\": False, \"fill\": \"white\"})).properties(width=500)\n",
    "weekday = utils.add_chart_selection(weekday, 'route_short_name')\n",
    "weekday = utils.add_tooltip(weekday, \"route_short_name\", \"weekday\",\"avg\")\n",
    "\n",
    "weekend = (utils.bar_chart_over_time((agency_route_weekday>>filter(_.weekend_service==True)),\n",
    "                          'weekday', 'avg', 'route_short_name', '%', cats_day, \"\").mark_line(point={\"filled\": False, \"fill\": \"white\"})).properties(width=500)\n",
    "weekend = utils.add_chart_selection(weekend, 'route_short_name')\n",
    "weekend = utils.add_tooltip(weekend, \"route_short_name\", \"weekday\",\"avg\")\n",
    "\n",
    "(weekday | weekend)"
   ]
  },
  {
   "cell_type": "code",
   "execution_count": null,
   "id": "5e1f9104-bdde-4625-9001-7df9eea6a151",
   "metadata": {},
   "outputs": [],
   "source": []
  },
  {
   "cell_type": "code",
   "execution_count": null,
   "id": "7f111387-f8db-4dac-9f50-0128b91c1874",
   "metadata": {},
   "outputs": [],
   "source": []
  },
  {
   "cell_type": "code",
   "execution_count": null,
   "id": "5878c861-9c91-481f-9c46-d052b6d218d6",
   "metadata": {},
   "outputs": [],
   "source": []
  },
  {
   "cell_type": "code",
   "execution_count": 34,
   "id": "9b0feafc-c96b-4f03-8e2e-b61c303ed1ff",
   "metadata": {},
   "outputs": [],
   "source": [
    "agency_route_month = utils.get_agg_pct(agency,\n",
    "                groupings = ['route_short_name', 'month'],\n",
    "                sum_sched= 'num_sched',\n",
    "                sum_vp = 'num_vp',\n",
    "               )"
   ]
  },
  {
   "cell_type": "code",
   "execution_count": 35,
   "id": "2d836b18-47ad-4a3e-a5ed-855267942a50",
   "metadata": {},
   "outputs": [],
   "source": [
    "# display(HTML(f\"<strong>{(agency.iloc[0]['agency_name'])} Monthly Average Percent of Scheduled Trips with RT Vehicle Position Data by Route</strong>\"))\n",
    "# utils.bar_chart_over_time(agency_route_month,\n",
    "#                           'month', \n",
    "#                           'avg',\n",
    "#                           'month',\n",
    "#                           '%', \n",
    "#                           cats_month,\n",
    "#                           '').encode(column='route_short_name').mark_bar().encode(\n",
    "#     color=alt.Color('month', scale=alt.Scale(range=altair_utils.CALITP_CATEGORY_BRIGHT_COLORS))).properties(width=450)"
   ]
  },
  {
   "cell_type": "code",
   "execution_count": 36,
   "id": "8f04c3ee-ea9b-4637-8032-91b6300db394",
   "metadata": {},
   "outputs": [],
   "source": [
    "#OR"
   ]
  },
  {
   "cell_type": "code",
   "execution_count": 78,
   "id": "5335fa36-e2ff-46ed-9512-0192c561b7fd",
   "metadata": {},
   "outputs": [],
   "source": [
    "# display(HTML(f\"<strong>{(agency.iloc[0]['agency_name'])} Monthly Average Percent of Scheduled Trips with RT Vehicle Position Data by Route</strong>\"))\n",
    "# utils.bar_chart_over_time(agency_route_month,\n",
    "#                           'route_short_name', \n",
    "#                           'avg',\n",
    "#                           'month',\n",
    "#                           '%', \n",
    "#                           cats_month,\n",
    "#                           '').encode(column='month').mark_bar().encode(\n",
    "#     color=alt.Color('route_short_name', scale=alt.Scale(range=altair_utils.CALITP_CATEGORY_BRIGHT_COLORS))).properties(width=450)"
   ]
  },
  {
   "cell_type": "code",
   "execution_count": 75,
   "id": "03a81c6d-cdc6-4292-97a0-43902e2fc334",
   "metadata": {},
   "outputs": [],
   "source": [
    "agency_route_month['avg_pct'] = agency_route_month['avg'].astype(float).map(\"{:.2%}\".format)\n",
    "route_stat = (agency_route_month>> select(_.route_short_name,\n",
    "                           _.month,\n",
    "                           _.avg_pct) \n",
    " >> group_by(_.route_short_name)\n",
    " >> spread(_.month, _.avg_pct)).apply(lambda x: x) "
   ]
  },
  {
   "cell_type": "code",
   "execution_count": 77,
   "id": "48059aaa-9b1f-4296-97ee-cfb4b28ae0bc",
   "metadata": {},
   "outputs": [
    {
     "data": {
      "text/html": [
       "<strong>Monthly Average Percent of Scheduled Trips with RT Vehicle Position Data by Route</strong>"
      ],
      "text/plain": [
       "<IPython.core.display.HTML object>"
      ]
     },
     "metadata": {},
     "output_type": "display_data"
    }
   ],
   "source": [
    "display(HTML(\"<strong>Monthly Average Percent of Scheduled Trips with RT Vehicle Position Data by Route</strong>\"))"
   ]
  },
  {
   "cell_type": "code",
   "execution_count": 76,
   "id": "6f9edf6e-f179-4986-b56e-92e4c6111f7b",
   "metadata": {},
   "outputs": [
    {
     "data": {
      "text/html": [
       "<style type=\"text/css\">\n",
       "#T_a09c7 th {\n",
       "  text-align: center;\n",
       "}\n",
       "#T_a09c7_row0_col0, #T_a09c7_row0_col1, #T_a09c7_row0_col2, #T_a09c7_row1_col0, #T_a09c7_row1_col1, #T_a09c7_row1_col2, #T_a09c7_row2_col0, #T_a09c7_row2_col1, #T_a09c7_row2_col2, #T_a09c7_row3_col0, #T_a09c7_row3_col1, #T_a09c7_row3_col2, #T_a09c7_row4_col0, #T_a09c7_row4_col1, #T_a09c7_row4_col2, #T_a09c7_row5_col0, #T_a09c7_row5_col1, #T_a09c7_row5_col2, #T_a09c7_row6_col0, #T_a09c7_row6_col1, #T_a09c7_row6_col2, #T_a09c7_row7_col0, #T_a09c7_row7_col1, #T_a09c7_row7_col2, #T_a09c7_row8_col0, #T_a09c7_row8_col1, #T_a09c7_row8_col2, #T_a09c7_row9_col0, #T_a09c7_row9_col1, #T_a09c7_row9_col2, #T_a09c7_row10_col0, #T_a09c7_row10_col1, #T_a09c7_row10_col2, #T_a09c7_row11_col0, #T_a09c7_row11_col1, #T_a09c7_row11_col2, #T_a09c7_row12_col0, #T_a09c7_row12_col1, #T_a09c7_row12_col2, #T_a09c7_row13_col0, #T_a09c7_row13_col1, #T_a09c7_row13_col2, #T_a09c7_row14_col0, #T_a09c7_row14_col1, #T_a09c7_row14_col2, #T_a09c7_row15_col0, #T_a09c7_row15_col1, #T_a09c7_row15_col2, #T_a09c7_row16_col0, #T_a09c7_row16_col1, #T_a09c7_row16_col2, #T_a09c7_row17_col0, #T_a09c7_row17_col1, #T_a09c7_row17_col2, #T_a09c7_row18_col0, #T_a09c7_row18_col1, #T_a09c7_row18_col2 {\n",
       "  text-align: center;\n",
       "}\n",
       "</style>\n",
       "<table id=\"T_a09c7\">\n",
       "  <thead>\n",
       "    <tr>\n",
       "      <th id=\"T_a09c7_level0_col0\" class=\"col_heading level0 col0\" >Route Short Name</th>\n",
       "      <th id=\"T_a09c7_level0_col1\" class=\"col_heading level0 col1\" >June</th>\n",
       "      <th id=\"T_a09c7_level0_col2\" class=\"col_heading level0 col2\" >May</th>\n",
       "    </tr>\n",
       "  </thead>\n",
       "  <tbody>\n",
       "    <tr>\n",
       "      <td id=\"T_a09c7_row0_col0\" class=\"data row0 col0\" >1</td>\n",
       "      <td id=\"T_a09c7_row0_col1\" class=\"data row0 col1\" >86.14%</td>\n",
       "      <td id=\"T_a09c7_row0_col2\" class=\"data row0 col2\" >86.04%</td>\n",
       "    </tr>\n",
       "    <tr>\n",
       "      <td id=\"T_a09c7_row1_col0\" class=\"data row1 col0\" >14</td>\n",
       "      <td id=\"T_a09c7_row1_col1\" class=\"data row1 col1\" >89.54%</td>\n",
       "      <td id=\"T_a09c7_row1_col2\" class=\"data row1 col2\" >89.15%</td>\n",
       "    </tr>\n",
       "    <tr>\n",
       "      <td id=\"T_a09c7_row2_col0\" class=\"data row2 col0\" >15</td>\n",
       "      <td id=\"T_a09c7_row2_col1\" class=\"data row2 col1\" >93.10%</td>\n",
       "      <td id=\"T_a09c7_row2_col2\" class=\"data row2 col2\" >95.24%</td>\n",
       "    </tr>\n",
       "    <tr>\n",
       "      <td id=\"T_a09c7_row3_col0\" class=\"data row3 col0\" >16</td>\n",
       "      <td id=\"T_a09c7_row3_col1\" class=\"data row3 col1\" >95.29%</td>\n",
       "      <td id=\"T_a09c7_row3_col2\" class=\"data row3 col2\" >94.62%</td>\n",
       "    </tr>\n",
       "    <tr>\n",
       "      <td id=\"T_a09c7_row4_col0\" class=\"data row4 col0\" >17</td>\n",
       "      <td id=\"T_a09c7_row4_col1\" class=\"data row4 col1\" >91.31%</td>\n",
       "      <td id=\"T_a09c7_row4_col2\" class=\"data row4 col2\" >89.92%</td>\n",
       "    </tr>\n",
       "    <tr>\n",
       "      <td id=\"T_a09c7_row5_col0\" class=\"data row5 col0\" >18</td>\n",
       "      <td id=\"T_a09c7_row5_col1\" class=\"data row5 col1\" >87.49%</td>\n",
       "      <td id=\"T_a09c7_row5_col2\" class=\"data row5 col2\" >89.90%</td>\n",
       "    </tr>\n",
       "    <tr>\n",
       "      <td id=\"T_a09c7_row6_col0\" class=\"data row6 col0\" >2</td>\n",
       "      <td id=\"T_a09c7_row6_col1\" class=\"data row6 col1\" >84.54%</td>\n",
       "      <td id=\"T_a09c7_row6_col2\" class=\"data row6 col2\" >83.73%</td>\n",
       "    </tr>\n",
       "    <tr>\n",
       "      <td id=\"T_a09c7_row7_col0\" class=\"data row7 col0\" >3</td>\n",
       "      <td id=\"T_a09c7_row7_col1\" class=\"data row7 col1\" >84.44%</td>\n",
       "      <td id=\"T_a09c7_row7_col2\" class=\"data row7 col2\" >83.08%</td>\n",
       "    </tr>\n",
       "    <tr>\n",
       "      <td id=\"T_a09c7_row8_col0\" class=\"data row8 col0\" >41</td>\n",
       "      <td id=\"T_a09c7_row8_col1\" class=\"data row8 col1\" >94.33%</td>\n",
       "      <td id=\"T_a09c7_row8_col2\" class=\"data row8 col2\" >93.52%</td>\n",
       "    </tr>\n",
       "    <tr>\n",
       "      <td id=\"T_a09c7_row9_col0\" class=\"data row9 col0\" >43</td>\n",
       "      <td id=\"T_a09c7_row9_col1\" class=\"data row9 col1\" >94.94%</td>\n",
       "      <td id=\"T_a09c7_row9_col2\" class=\"data row9 col2\" >94.56%</td>\n",
       "    </tr>\n",
       "    <tr>\n",
       "      <td id=\"T_a09c7_row10_col0\" class=\"data row10 col0\" >44</td>\n",
       "      <td id=\"T_a09c7_row10_col1\" class=\"data row10 col1\" >0.00%</td>\n",
       "      <td id=\"T_a09c7_row10_col2\" class=\"data row10 col2\" >0.00%</td>\n",
       "    </tr>\n",
       "    <tr>\n",
       "      <td id=\"T_a09c7_row11_col0\" class=\"data row11 col0\" >5</td>\n",
       "      <td id=\"T_a09c7_row11_col1\" class=\"data row11 col1\" >95.08%</td>\n",
       "      <td id=\"T_a09c7_row11_col2\" class=\"data row11 col2\" >94.25%</td>\n",
       "    </tr>\n",
       "    <tr>\n",
       "      <td id=\"T_a09c7_row12_col0\" class=\"data row12 col0\" >7</td>\n",
       "      <td id=\"T_a09c7_row12_col1\" class=\"data row12 col1\" >84.71%</td>\n",
       "      <td id=\"T_a09c7_row12_col2\" class=\"data row12 col2\" >84.02%</td>\n",
       "    </tr>\n",
       "    <tr>\n",
       "      <td id=\"T_a09c7_row13_col0\" class=\"data row13 col0\" >8</td>\n",
       "      <td id=\"T_a09c7_row13_col1\" class=\"data row13 col1\" >85.80%</td>\n",
       "      <td id=\"T_a09c7_row13_col2\" class=\"data row13 col2\" >83.70%</td>\n",
       "    </tr>\n",
       "    <tr>\n",
       "      <td id=\"T_a09c7_row14_col0\" class=\"data row14 col0\" >9</td>\n",
       "      <td id=\"T_a09c7_row14_col1\" class=\"data row14 col1\" >87.83%</td>\n",
       "      <td id=\"T_a09c7_row14_col2\" class=\"data row14 col2\" >86.35%</td>\n",
       "    </tr>\n",
       "    <tr>\n",
       "      <td id=\"T_a09c7_row15_col0\" class=\"data row15 col0\" >R10</td>\n",
       "      <td id=\"T_a09c7_row15_col1\" class=\"data row15 col1\" >93.18%</td>\n",
       "      <td id=\"T_a09c7_row15_col2\" class=\"data row15 col2\" >88.10%</td>\n",
       "    </tr>\n",
       "    <tr>\n",
       "      <td id=\"T_a09c7_row16_col0\" class=\"data row16 col0\" >R12</td>\n",
       "      <td id=\"T_a09c7_row16_col1\" class=\"data row16 col1\" >87.07%</td>\n",
       "      <td id=\"T_a09c7_row16_col2\" class=\"data row16 col2\" >86.76%</td>\n",
       "    </tr>\n",
       "    <tr>\n",
       "      <td id=\"T_a09c7_row17_col0\" class=\"data row17 col0\" >R3</td>\n",
       "      <td id=\"T_a09c7_row17_col1\" class=\"data row17 col1\" >94.92%</td>\n",
       "      <td id=\"T_a09c7_row17_col2\" class=\"data row17 col2\" >94.40%</td>\n",
       "    </tr>\n",
       "    <tr>\n",
       "      <td id=\"T_a09c7_row18_col0\" class=\"data row18 col0\" >R7</td>\n",
       "      <td id=\"T_a09c7_row18_col1\" class=\"data row18 col1\" >91.69%</td>\n",
       "      <td id=\"T_a09c7_row18_col2\" class=\"data row18 col2\" >91.04%</td>\n",
       "    </tr>\n",
       "  </tbody>\n",
       "</table>\n"
      ],
      "text/plain": [
       "<IPython.core.display.HTML object>"
      ]
     },
     "metadata": {},
     "output_type": "display_data"
    }
   ],
   "source": [
    "display(HTML(dla_utils.pretify_tables(route_stat)))"
   ]
  },
  {
   "cell_type": "code",
   "execution_count": null,
   "id": "0e9145f4-fea2-4be5-9d39-e728fb686a24",
   "metadata": {},
   "outputs": [],
   "source": []
  },
  {
   "cell_type": "code",
   "execution_count": null,
   "id": "c91b9d63-bb19-4771-bb74-01cc1913447c",
   "metadata": {},
   "outputs": [],
   "source": []
  },
  {
   "cell_type": "code",
   "execution_count": 38,
   "id": "f92b6af4-7731-491a-8fa7-33cfc402204d",
   "metadata": {},
   "outputs": [
    {
     "data": {
      "text/html": [
       "<h3>By District</h3>"
      ],
      "text/plain": [
       "<IPython.core.display.HTML object>"
      ]
     },
     "metadata": {},
     "output_type": "display_data"
    }
   ],
   "source": [
    "display(HTML(\"<h3>By District</h3>\"))"
   ]
  },
  {
   "cell_type": "code",
   "execution_count": 39,
   "id": "22ca7b2b-f177-4e25-99a4-c6075908d673",
   "metadata": {},
   "outputs": [],
   "source": [
    "dist_avg = utils.get_agg_pct(rt_sched, groupings='caltrans_district', sum_sched='num_sched', sum_vp='num_vp')\n",
    "dist_avg = dist_avg.rename(columns={'caltrans_district':'Caltrans District', 'avg':'Average'})"
   ]
  },
  {
   "cell_type": "code",
   "execution_count": 79,
   "id": "75333fa4-575f-4ab7-8d6b-fa6c3255bd72",
   "metadata": {},
   "outputs": [
    {
     "data": {
      "text/html": [
       "<div>\n",
       "<style scoped>\n",
       "    .dataframe tbody tr th:only-of-type {\n",
       "        vertical-align: middle;\n",
       "    }\n",
       "\n",
       "    .dataframe tbody tr th {\n",
       "        vertical-align: top;\n",
       "    }\n",
       "\n",
       "    .dataframe thead th {\n",
       "        text-align: right;\n",
       "    }\n",
       "</style>\n",
       "<table border=\"1\" class=\"dataframe\">\n",
       "  <thead>\n",
       "    <tr style=\"text-align: right;\">\n",
       "      <th></th>\n",
       "      <th>Caltrans District</th>\n",
       "      <th>num_sched</th>\n",
       "      <th>num_vp</th>\n",
       "      <th>Average</th>\n",
       "    </tr>\n",
       "  </thead>\n",
       "  <tbody>\n",
       "    <tr>\n",
       "      <th>0</th>\n",
       "      <td>04 - Oakland</td>\n",
       "      <td>75860</td>\n",
       "      <td>55245</td>\n",
       "      <td>0.73</td>\n",
       "    </tr>\n",
       "    <tr>\n",
       "      <th>1</th>\n",
       "      <td>07 - Los Angeles</td>\n",
       "      <td>78765</td>\n",
       "      <td>65968</td>\n",
       "      <td>0.84</td>\n",
       "    </tr>\n",
       "  </tbody>\n",
       "</table>\n",
       "</div>"
      ],
      "text/plain": [
       "  Caltrans District  num_sched  num_vp  Average\n",
       "0      04 - Oakland      75860   55245     0.73\n",
       "1  07 - Los Angeles      78765   65968     0.84"
      ]
     },
     "execution_count": 79,
     "metadata": {},
     "output_type": "execute_result"
    }
   ],
   "source": [
    "dist_avg"
   ]
  },
  {
   "cell_type": "code",
   "execution_count": 40,
   "id": "ac7774e2-149a-4d64-bf85-072745a5340d",
   "metadata": {},
   "outputs": [
    {
     "data": {
      "text/html": [
       "<div>\n",
       "<style scoped>\n",
       "    .dataframe tbody tr th:only-of-type {\n",
       "        vertical-align: middle;\n",
       "    }\n",
       "\n",
       "    .dataframe tbody tr th {\n",
       "        vertical-align: top;\n",
       "    }\n",
       "\n",
       "    .dataframe thead th {\n",
       "        text-align: right;\n",
       "    }\n",
       "</style>\n",
       "<table border=\"1\" class=\"dataframe\">\n",
       "  <thead>\n",
       "    <tr style=\"text-align: right;\">\n",
       "      <th></th>\n",
       "      <th>agency_name</th>\n",
       "      <th>num_sched</th>\n",
       "      <th>num_vp</th>\n",
       "      <th>avg</th>\n",
       "    </tr>\n",
       "  </thead>\n",
       "  <tbody>\n",
       "    <tr>\n",
       "      <th>0</th>\n",
       "      <td>Big Blue Bus</td>\n",
       "      <td>78765</td>\n",
       "      <td>65968</td>\n",
       "      <td>0.84</td>\n",
       "    </tr>\n",
       "  </tbody>\n",
       "</table>\n",
       "</div>"
      ],
      "text/plain": [
       "    agency_name  num_sched  num_vp  avg\n",
       "0  Big Blue Bus      78765   65968 0.84"
      ]
     },
     "execution_count": 40,
     "metadata": {},
     "output_type": "execute_result"
    }
   ],
   "source": [
    "agency_avg"
   ]
  },
  {
   "cell_type": "code",
   "execution_count": 88,
   "id": "4c0f8b76-9eed-4665-8e3b-53e02bc2147a",
   "metadata": {},
   "outputs": [
    {
     "data": {
      "text/html": [
       "<strong>Average Percent of Scheduled Trips with RT Vehicle Position Data by District</strong>"
      ],
      "text/plain": [
       "<IPython.core.display.HTML object>"
      ]
     },
     "metadata": {},
     "output_type": "display_data"
    },
    {
     "data": {
      "text/markdown": [
       "<strong><span style='color:red'>Red Line </span></strong> represents  Big Blue Bus average"
      ],
      "text/plain": [
       "<IPython.core.display.Markdown object>"
      ]
     },
     "metadata": {},
     "output_type": "display_data"
    },
    {
     "data": {
      "text/html": [
       "\n",
       "<div id=\"altair-viz-1fa08a0abe2943a6b66bdd43000a5e54\"></div>\n",
       "<script type=\"text/javascript\">\n",
       "  var VEGA_DEBUG = (typeof VEGA_DEBUG == \"undefined\") ? {} : VEGA_DEBUG;\n",
       "  (function(spec, embedOpt){\n",
       "    let outputDiv = document.currentScript.previousElementSibling;\n",
       "    if (outputDiv.id !== \"altair-viz-1fa08a0abe2943a6b66bdd43000a5e54\") {\n",
       "      outputDiv = document.getElementById(\"altair-viz-1fa08a0abe2943a6b66bdd43000a5e54\");\n",
       "    }\n",
       "    const paths = {\n",
       "      \"vega\": \"https://cdn.jsdelivr.net/npm//vega@5?noext\",\n",
       "      \"vega-lib\": \"https://cdn.jsdelivr.net/npm//vega-lib?noext\",\n",
       "      \"vega-lite\": \"https://cdn.jsdelivr.net/npm//vega-lite@4.17.0?noext\",\n",
       "      \"vega-embed\": \"https://cdn.jsdelivr.net/npm//vega-embed@6?noext\",\n",
       "    };\n",
       "\n",
       "    function maybeLoadScript(lib, version) {\n",
       "      var key = `${lib.replace(\"-\", \"\")}_version`;\n",
       "      return (VEGA_DEBUG[key] == version) ?\n",
       "        Promise.resolve(paths[lib]) :\n",
       "        new Promise(function(resolve, reject) {\n",
       "          var s = document.createElement('script');\n",
       "          document.getElementsByTagName(\"head\")[0].appendChild(s);\n",
       "          s.async = true;\n",
       "          s.onload = () => {\n",
       "            VEGA_DEBUG[key] = version;\n",
       "            return resolve(paths[lib]);\n",
       "          };\n",
       "          s.onerror = () => reject(`Error loading script: ${paths[lib]}`);\n",
       "          s.src = paths[lib];\n",
       "        });\n",
       "    }\n",
       "\n",
       "    function showError(err) {\n",
       "      outputDiv.innerHTML = `<div class=\"error\" style=\"color:red;\">${err}</div>`;\n",
       "      throw err;\n",
       "    }\n",
       "\n",
       "    function displayChart(vegaEmbed) {\n",
       "      vegaEmbed(outputDiv, spec, embedOpt)\n",
       "        .catch(err => showError(`Javascript Error: ${err.message}<br>This usually means there's a typo in your chart specification. See the javascript console for the full traceback.`));\n",
       "    }\n",
       "\n",
       "    if(typeof define === \"function\" && define.amd) {\n",
       "      requirejs.config({paths});\n",
       "      require([\"vega-embed\"], displayChart, err => showError(`Error loading script: ${err.message}`));\n",
       "    } else {\n",
       "      maybeLoadScript(\"vega\", \"5\")\n",
       "        .then(() => maybeLoadScript(\"vega-lite\", \"4.17.0\"))\n",
       "        .then(() => maybeLoadScript(\"vega-embed\", \"6\"))\n",
       "        .catch(showError)\n",
       "        .then(() => displayChart(vegaEmbed));\n",
       "    }\n",
       "  })({\"config\": {\"view\": {\"continuousWidth\": 400, \"continuousHeight\": 300}}, \"layer\": [{\"data\": {\"name\": \"data-432e66aed594eebb343c54726be652bb\"}, \"mark\": {\"type\": \"bar\", \"size\": 200}, \"encoding\": {\"color\": {\"field\": \"Caltrans District\", \"type\": \"nominal\"}, \"tooltip\": [{\"field\": \"Caltrans District\", \"title\": \"Caltrans District\", \"type\": \"nominal\"}, {\"field\": \"Average\", \"title\": \"Average\", \"type\": \"quantitative\"}], \"x\": {\"field\": \"Caltrans District\", \"sort\": \"x\", \"title\": \"Caltrans District\", \"type\": \"nominal\"}, \"y\": {\"axis\": {\"format\": \"%\"}, \"field\": \"Average\", \"title\": \"Average\", \"type\": \"quantitative\"}}, \"width\": 550}, {\"data\": {\"name\": \"data-ab22f7fa2823b29b98841815c49363a7\"}, \"mark\": {\"type\": \"rule\", \"color\": \"red\", \"size\": 2}, \"encoding\": {\"y\": {\"field\": \"avg\", \"type\": \"quantitative\"}}}], \"$schema\": \"https://vega.github.io/schema/vega-lite/v4.17.0.json\", \"datasets\": {\"data-432e66aed594eebb343c54726be652bb\": [{\"Caltrans District\": \"04 - Oakland\", \"num_sched\": 75860, \"num_vp\": 55245, \"Average\": 0.7282494068020037}, {\"Caltrans District\": \"07 - Los Angeles\", \"num_sched\": 78765, \"num_vp\": 65968, \"Average\": 0.8375293594870818}], \"data-ab22f7fa2823b29b98841815c49363a7\": [{\"agency_name\": \"Big Blue Bus\", \"num_sched\": 78765, \"num_vp\": 65968, \"avg\": 0.8375293594870818}]}}, {\"mode\": \"vega-lite\"});\n",
       "</script>"
      ],
      "text/plain": [
       "alt.LayerChart(...)"
      ]
     },
     "execution_count": 88,
     "metadata": {},
     "output_type": "execute_result"
    }
   ],
   "source": [
    "display(HTML(f\"<strong>Average Percent of Scheduled Trips with RT Vehicle Position Data by District</strong>\"))\n",
    "display(Markdown(f\"<strong><span style='color:red'>Red Line </span></strong> represents \"\n",
    "                 f\" {(agency.iloc[0]['agency_name'])} average\"))\n",
    "\n",
    "bar = (utils.bar_chart_over_time(dist_avg, 'Caltrans District', 'Average', 'Caltrans District', '%', 'x', '')).mark_bar(size=200)\n",
    "\n",
    "rule = alt.Chart(agency_avg).mark_rule(color='red',size=2).encode(y=alt.Y('avg:Q'))\n",
    "\n",
    "bar + rule"
   ]
  },
  {
   "cell_type": "code",
   "execution_count": null,
   "id": "5a42d49c-bce3-4bf7-835c-b5402d90b039",
   "metadata": {},
   "outputs": [],
   "source": []
  },
  {
   "cell_type": "code",
   "execution_count": null,
   "id": "76e13e89-7ee5-422f-a310-a145d2b46a98",
   "metadata": {},
   "outputs": [],
   "source": []
  },
  {
   "cell_type": "code",
   "execution_count": null,
   "id": "dc5d1ec4-433c-4834-bb4a-8c59b1b47f5c",
   "metadata": {},
   "outputs": [],
   "source": []
  }
 ],
 "metadata": {
  "kernelspec": {
   "display_name": "Python 3 (ipykernel)",
   "language": "python",
   "name": "python3"
  },
  "language_info": {
   "codemirror_mode": {
    "name": "ipython",
    "version": 3
   },
   "file_extension": ".py",
   "mimetype": "text/x-python",
   "name": "python",
   "nbconvert_exporter": "python",
   "pygments_lexer": "ipython3",
   "version": "3.10.5"
  },
  "widgets": {
   "application/vnd.jupyter.widget-state+json": {
    "state": {},
    "version_major": 2,
    "version_minor": 0
   }
  }
 },
 "nbformat": 4,
 "nbformat_minor": 5
}
