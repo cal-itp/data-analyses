{
 "cells": [
  {
   "cell_type": "markdown",
   "id": "fd4516a5-6a64-4ff4-a037-a51dc06027ab",
   "metadata": {},
   "source": [
    "# {} Vehicle Position Data Available for Scheduled Data"
   ]
  },
  {
   "cell_type": "code",
   "execution_count": 1,
   "id": "84cbcb9a-ed64-4262-915a-d899b3a56d0a",
   "metadata": {},
   "outputs": [
    {
     "name": "stderr",
     "output_type": "stream",
     "text": [
      "/opt/conda/lib/python3.10/site-packages/geopandas/_compat.py:112: UserWarning: The Shapely GEOS version (3.10.3-CAPI-1.16.1) is incompatible with the GEOS version PyGEOS was compiled with (3.10.1-CAPI-1.16.0). Conversions between both will be slow.\n",
      "  warnings.warn(\n"
     ]
    }
   ],
   "source": [
    "import utils\n",
    "import shared_utils\n",
    "from dla_utils import _dla_utils as dla_utils\n",
    "\n",
    "from siuba import *\n",
    "import pandas as pd\n",
    "\n",
    "from IPython.display import display, Markdown\n",
    "\n",
    "import altair as alt"
   ]
  },
  {
   "cell_type": "code",
   "execution_count": 2,
   "id": "72d2bc4c-a7e3-4223-b708-1166877d6200",
   "metadata": {},
   "outputs": [],
   "source": [
    "#agency is defined as the single operator (a unique calitp_itp_id) used to subset the data"
   ]
  },
  {
   "cell_type": "code",
   "execution_count": 3,
   "id": "c0219c74-fcd2-49f2-b5c2-e14ea9368356",
   "metadata": {
    "tags": [
     "parameter"
    ]
   },
   "outputs": [],
   "source": [
    "#parameter cell\n",
    "calitp_id = 300"
   ]
  },
  {
   "cell_type": "code",
   "execution_count": 4,
   "id": "1fbcc81b-6de1-49a3-b03f-3a23296b5d03",
   "metadata": {},
   "outputs": [],
   "source": [
    "rt_sched = utils.read_data()\n"
   ]
  },
  {
   "cell_type": "code",
   "execution_count": 5,
   "id": "e1af3c46-8c26-4c44-b9ce-c021df9a187c",
   "metadata": {},
   "outputs": [],
   "source": [
    "rt_sched['calitp_deleted_at'] = pd.to_datetime(rt_sched['calitp_deleted_at'])\n"
   ]
  },
  {
   "cell_type": "code",
   "execution_count": 20,
   "id": "35e6f8e8-9bb0-4e4d-a5f0-157e794310c0",
   "metadata": {},
   "outputs": [],
   "source": [
    "## for now filtering down these columns so we do not have the bad \n",
    "## moving to utils in the read_data()\n",
    "\n",
    "# rt_sched = rt_sched[((rt_sched[\"calitp_itp_id\"]==290) & (rt_sched[\"calitp_url_number\"]==1)) | ((rt_sched[\"calitp_itp_id\"]==300))]"
   ]
  },
  {
   "cell_type": "code",
   "execution_count": 7,
   "id": "f356aff2-a461-4f90-9a50-3aafeaf5209f",
   "metadata": {},
   "outputs": [],
   "source": [
    "#getting df with daily pct \n",
    "rt_sched_date = utils.agg_by_date(rt_sched, 'num_sched', 'num_vp')"
   ]
  },
  {
   "cell_type": "code",
   "execution_count": 8,
   "id": "cfd84a69-57c5-4a16-a642-0f4706f7924e",
   "metadata": {},
   "outputs": [],
   "source": [
    "agency = rt_sched>>filter(_.calitp_itp_id == calitp_id)"
   ]
  },
  {
   "cell_type": "code",
   "execution_count": 9,
   "id": "c9f9fd7f-505d-4dd1-95c5-a29cc709b79b",
   "metadata": {},
   "outputs": [],
   "source": [
    "#getting df with daily pct for single agency\n",
    "agency_date = utils.agg_by_date(agency, 'num_sched', 'num_vp')"
   ]
  },
  {
   "cell_type": "code",
   "execution_count": 10,
   "id": "ed3fa7a4-d074-4d03-8eb1-baa706259fa0",
   "metadata": {},
   "outputs": [
    {
     "data": {
      "text/html": [
       "<div>\n",
       "<style scoped>\n",
       "    .dataframe tbody tr th:only-of-type {\n",
       "        vertical-align: middle;\n",
       "    }\n",
       "\n",
       "    .dataframe tbody tr th {\n",
       "        vertical-align: top;\n",
       "    }\n",
       "\n",
       "    .dataframe thead th {\n",
       "        text-align: right;\n",
       "    }\n",
       "</style>\n",
       "<table border=\"1\" class=\"dataframe\">\n",
       "  <thead>\n",
       "    <tr style=\"text-align: right;\">\n",
       "      <th></th>\n",
       "      <th>calitp_itp_id</th>\n",
       "      <th>agency_name</th>\n",
       "      <th>calitp_url_number</th>\n",
       "      <th>service_date</th>\n",
       "      <th>weekday</th>\n",
       "      <th>month</th>\n",
       "      <th>total_num_sched</th>\n",
       "      <th>total_num_vp</th>\n",
       "      <th>pct_w_vp</th>\n",
       "    </tr>\n",
       "  </thead>\n",
       "  <tbody>\n",
       "    <tr>\n",
       "      <th>0</th>\n",
       "      <td>300</td>\n",
       "      <td>Big Blue Bus</td>\n",
       "      <td>0</td>\n",
       "      <td>2022-05-01</td>\n",
       "      <td>Sunday</td>\n",
       "      <td>May</td>\n",
       "      <td>770</td>\n",
       "      <td>526</td>\n",
       "      <td>0.68</td>\n",
       "    </tr>\n",
       "    <tr>\n",
       "      <th>1</th>\n",
       "      <td>300</td>\n",
       "      <td>Big Blue Bus</td>\n",
       "      <td>0</td>\n",
       "      <td>2022-05-02</td>\n",
       "      <td>Monday</td>\n",
       "      <td>May</td>\n",
       "      <td>1516</td>\n",
       "      <td>1066</td>\n",
       "      <td>0.70</td>\n",
       "    </tr>\n",
       "    <tr>\n",
       "      <th>2</th>\n",
       "      <td>300</td>\n",
       "      <td>Big Blue Bus</td>\n",
       "      <td>0</td>\n",
       "      <td>2022-05-03</td>\n",
       "      <td>Tuesday</td>\n",
       "      <td>May</td>\n",
       "      <td>1516</td>\n",
       "      <td>1365</td>\n",
       "      <td>0.90</td>\n",
       "    </tr>\n",
       "    <tr>\n",
       "      <th>3</th>\n",
       "      <td>300</td>\n",
       "      <td>Big Blue Bus</td>\n",
       "      <td>0</td>\n",
       "      <td>2022-05-04</td>\n",
       "      <td>Wednesday</td>\n",
       "      <td>May</td>\n",
       "      <td>1516</td>\n",
       "      <td>1381</td>\n",
       "      <td>0.91</td>\n",
       "    </tr>\n",
       "    <tr>\n",
       "      <th>4</th>\n",
       "      <td>300</td>\n",
       "      <td>Big Blue Bus</td>\n",
       "      <td>0</td>\n",
       "      <td>2022-05-05</td>\n",
       "      <td>Thursday</td>\n",
       "      <td>May</td>\n",
       "      <td>1516</td>\n",
       "      <td>1343</td>\n",
       "      <td>0.89</td>\n",
       "    </tr>\n",
       "  </tbody>\n",
       "</table>\n",
       "</div>"
      ],
      "text/plain": [
       "   calitp_itp_id   agency_name  calitp_url_number service_date    weekday  \\\n",
       "0            300  Big Blue Bus                  0   2022-05-01     Sunday   \n",
       "1            300  Big Blue Bus                  0   2022-05-02     Monday   \n",
       "2            300  Big Blue Bus                  0   2022-05-03    Tuesday   \n",
       "3            300  Big Blue Bus                  0   2022-05-04  Wednesday   \n",
       "4            300  Big Blue Bus                  0   2022-05-05   Thursday   \n",
       "\n",
       "  month  total_num_sched  total_num_vp  pct_w_vp  \n",
       "0   May              770           526      0.68  \n",
       "1   May             1516          1066      0.70  \n",
       "2   May             1516          1365      0.90  \n",
       "3   May             1516          1381      0.91  \n",
       "4   May             1516          1343      0.89  "
      ]
     },
     "execution_count": 10,
     "metadata": {},
     "output_type": "execute_result"
    }
   ],
   "source": [
    "agency_date.head()"
   ]
  },
  {
   "cell_type": "code",
   "execution_count": 14,
   "id": "4e3d88f4-94ff-4aad-a07a-ab84b5746780",
   "metadata": {
    "tags": []
   },
   "outputs": [
    {
     "data": {
      "text/html": [
       "<div>\n",
       "<style scoped>\n",
       "    .dataframe tbody tr th:only-of-type {\n",
       "        vertical-align: middle;\n",
       "    }\n",
       "\n",
       "    .dataframe tbody tr th {\n",
       "        vertical-align: top;\n",
       "    }\n",
       "\n",
       "    .dataframe thead th {\n",
       "        text-align: right;\n",
       "    }\n",
       "</style>\n",
       "<table border=\"1\" class=\"dataframe\">\n",
       "  <thead>\n",
       "    <tr style=\"text-align: right;\">\n",
       "      <th></th>\n",
       "      <th>calitp_itp_id</th>\n",
       "      <th>num_sched</th>\n",
       "      <th>num_vp</th>\n",
       "      <th>avg</th>\n",
       "    </tr>\n",
       "  </thead>\n",
       "  <tbody>\n",
       "    <tr>\n",
       "      <th>0</th>\n",
       "      <td>290</td>\n",
       "      <td>75860</td>\n",
       "      <td>55245</td>\n",
       "      <td>0.73</td>\n",
       "    </tr>\n",
       "    <tr>\n",
       "      <th>1</th>\n",
       "      <td>300</td>\n",
       "      <td>78765</td>\n",
       "      <td>65968</td>\n",
       "      <td>0.84</td>\n",
       "    </tr>\n",
       "  </tbody>\n",
       "</table>\n",
       "</div>"
      ],
      "text/plain": [
       "   calitp_itp_id  num_sched  num_vp  avg\n",
       "0            290      75860   55245 0.73\n",
       "1            300      78765   65968 0.84"
      ]
     },
     "execution_count": 14,
     "metadata": {},
     "output_type": "execute_result"
    }
   ],
   "source": [
    "utils.get_agg_pct(rt_sched,\n",
    "                groupings = ['calitp_itp_id'],\n",
    "                sum_sched = 'num_sched',\n",
    "                sum_vp = 'num_vp')"
   ]
  },
  {
   "cell_type": "code",
   "execution_count": null,
   "id": "310a822e-9bf5-4e30-a786-ca565bf0a1b1",
   "metadata": {},
   "outputs": [
    {
     "data": {
      "text/html": [
       "<div>\n",
       "<style scoped>\n",
       "    .dataframe tbody tr th:only-of-type {\n",
       "        vertical-align: middle;\n",
       "    }\n",
       "\n",
       "    .dataframe tbody tr th {\n",
       "        vertical-align: top;\n",
       "    }\n",
       "\n",
       "    .dataframe thead th {\n",
       "        text-align: right;\n",
       "    }\n",
       "</style>\n",
       "<table border=\"1\" class=\"dataframe\">\n",
       "  <thead>\n",
       "    <tr style=\"text-align: right;\">\n",
       "      <th></th>\n",
       "      <th>tot_sched</th>\n",
       "      <th>tot_vp</th>\n",
       "      <th>avg</th>\n",
       "    </tr>\n",
       "  </thead>\n",
       "  <tbody>\n",
       "    <tr>\n",
       "      <th>0</th>\n",
       "      <td>154625</td>\n",
       "      <td>121213</td>\n",
       "      <td>0.78</td>\n",
       "    </tr>\n",
       "  </tbody>\n",
       "</table>\n",
       "</div>"
      ],
      "text/plain": [
       "   tot_sched  tot_vp  avg\n",
       "0     154625  121213 0.78"
      ]
     },
     "execution_count": 16,
     "metadata": {},
     "output_type": "execute_result"
    }
   ],
   "source": [
    "# average vp for sched trips for all operators over all days\n",
    "((rt_sched >>summarize(tot_sched =_.num_sched.sum(),\n",
    "                       tot_vp = _.num_vp.sum())) >> mutate(avg = _.tot_vp/_.tot_sched))"
   ]
  },
  {
   "cell_type": "code",
   "execution_count": null,
   "id": "2a847ae4-0b67-471c-8aae-4bb1cc23aba7",
   "metadata": {},
   "outputs": [],
   "source": []
  },
  {
   "cell_type": "code",
   "execution_count": 18,
   "id": "a730e8d8-9d7a-4935-adc5-9daa7198b61e",
   "metadata": {},
   "outputs": [
    {
     "data": {
      "text/html": [
       "\n",
       "<div id=\"altair-viz-22c2cb98815e45e5a5b0a5b018d42df5\"></div>\n",
       "<script type=\"text/javascript\">\n",
       "  var VEGA_DEBUG = (typeof VEGA_DEBUG == \"undefined\") ? {} : VEGA_DEBUG;\n",
       "  (function(spec, embedOpt){\n",
       "    let outputDiv = document.currentScript.previousElementSibling;\n",
       "    if (outputDiv.id !== \"altair-viz-22c2cb98815e45e5a5b0a5b018d42df5\") {\n",
       "      outputDiv = document.getElementById(\"altair-viz-22c2cb98815e45e5a5b0a5b018d42df5\");\n",
       "    }\n",
       "    const paths = {\n",
       "      \"vega\": \"https://cdn.jsdelivr.net/npm//vega@5?noext\",\n",
       "      \"vega-lib\": \"https://cdn.jsdelivr.net/npm//vega-lib?noext\",\n",
       "      \"vega-lite\": \"https://cdn.jsdelivr.net/npm//vega-lite@4.17.0?noext\",\n",
       "      \"vega-embed\": \"https://cdn.jsdelivr.net/npm//vega-embed@6?noext\",\n",
       "    };\n",
       "\n",
       "    function maybeLoadScript(lib, version) {\n",
       "      var key = `${lib.replace(\"-\", \"\")}_version`;\n",
       "      return (VEGA_DEBUG[key] == version) ?\n",
       "        Promise.resolve(paths[lib]) :\n",
       "        new Promise(function(resolve, reject) {\n",
       "          var s = document.createElement('script');\n",
       "          document.getElementsByTagName(\"head\")[0].appendChild(s);\n",
       "          s.async = true;\n",
       "          s.onload = () => {\n",
       "            VEGA_DEBUG[key] = version;\n",
       "            return resolve(paths[lib]);\n",
       "          };\n",
       "          s.onerror = () => reject(`Error loading script: ${paths[lib]}`);\n",
       "          s.src = paths[lib];\n",
       "        });\n",
       "    }\n",
       "\n",
       "    function showError(err) {\n",
       "      outputDiv.innerHTML = `<div class=\"error\" style=\"color:red;\">${err}</div>`;\n",
       "      throw err;\n",
       "    }\n",
       "\n",
       "    function displayChart(vegaEmbed) {\n",
       "      vegaEmbed(outputDiv, spec, embedOpt)\n",
       "        .catch(err => showError(`Javascript Error: ${err.message}<br>This usually means there's a typo in your chart specification. See the javascript console for the full traceback.`));\n",
       "    }\n",
       "\n",
       "    if(typeof define === \"function\" && define.amd) {\n",
       "      requirejs.config({paths});\n",
       "      require([\"vega-embed\"], displayChart, err => showError(`Error loading script: ${err.message}`));\n",
       "    } else {\n",
       "      maybeLoadScript(\"vega\", \"5\")\n",
       "        .then(() => maybeLoadScript(\"vega-lite\", \"4.17.0\"))\n",
       "        .then(() => maybeLoadScript(\"vega-embed\", \"6\"))\n",
       "        .catch(showError)\n",
       "        .then(() => displayChart(vegaEmbed));\n",
       "    }\n",
       "  })({\"config\": {\"view\": {\"continuousWidth\": 400, \"continuousHeight\": 300}, \"axis\": {\"domainColor\": \"#cbcbcb\", \"grid\": true, \"gridColor\": \"#cbcbcb\", \"gridWidth\": 1, \"labelColor\": \"#474747\", \"labelFont\": \"Nunito Sans\", \"labelFontSize\": 10, \"labelPadding\": 4, \"tickColor\": \"#cbcbcb\", \"tickSize\": 10, \"titleColor\": \"#333\", \"titleFont\": \"Raleway\", \"titleFontSize\": 12, \"titlePadding\": 10}, \"axisBand\": {\"grid\": false}, \"background\": \"white\", \"font\": \"Raleway\", \"header\": {\"labelFont\": \"Nunito Sans\", \"titleFont\": \"Raleway\"}, \"legend\": {\"labelColor\": \"#333\", \"labelFont\": \"Nunito Sans\", \"labelFontSize\": 11, \"labelLimit\": 0, \"padding\": 1, \"symbolSize\": 30, \"symbolType\": \"square\", \"titleColor\": \"#333\", \"titleFont\": \"Raleway\", \"titleFontSize\": 14, \"titlePadding\": 10}, \"title\": {\"anchor\": \"middle\", \"font\": \"Raleway\", \"fontSize\": 18, \"fontWeight\": 300, \"offset\": 20}}, \"data\": {\"name\": \"data-82f65f5644bf4905620469f7f64dea61\"}, \"mark\": \"line\", \"encoding\": {\"color\": {\"field\": \"Averages\", \"type\": \"nominal\"}, \"tooltip\": [{\"field\": \"service_date\", \"title\": \"Service Date\", \"type\": \"temporal\"}, {\"field\": \"Percent with Vehicle Position Data\", \"title\": \"Percent With Vehicle Position Data\", \"type\": \"quantitative\"}], \"x\": {\"field\": \"service_date\", \"sort\": \"x\", \"title\": \"Service Date\", \"type\": \"temporal\"}, \"y\": {\"axis\": {\"format\": \"%\"}, \"field\": \"Percent with Vehicle Position Data\", \"stack\": null, \"title\": \"Percent With Vehicle Position Data\", \"type\": \"quantitative\"}}, \"height\": 250, \"title\": \"Big Blue Bus Average Compared to Overall Average\", \"width\": 550, \"$schema\": \"https://vega.github.io/schema/vega-lite/v4.17.0.json\", \"datasets\": {\"data-82f65f5644bf4905620469f7f64dea61\": [{\"service_date\": \"2022-05-01T00:00:00\", \"Averages\": \"Total Average\", \"Percent with Vehicle Position Data\": 0.6905537459283387}, {\"service_date\": \"2022-05-02T00:00:00\", \"Averages\": \"Total Average\", \"Percent with Vehicle Position Data\": 0.7117786027674654}, {\"service_date\": \"2022-05-03T00:00:00\", \"Averages\": \"Total Average\", \"Percent with Vehicle Position Data\": 0.9291258859264259}, {\"service_date\": \"2022-05-04T00:00:00\", \"Averages\": \"Total Average\", \"Percent with Vehicle Position Data\": 0.46583641871423764}, {\"service_date\": \"2022-05-05T00:00:00\", \"Averages\": \"Total Average\", \"Percent with Vehicle Position Data\": 0.8071597433299561}, {\"service_date\": \"2022-05-06T00:00:00\", \"Averages\": \"Total Average\", \"Percent with Vehicle Position Data\": 0.9244245963586396}, {\"service_date\": \"2022-05-07T00:00:00\", \"Averages\": \"Total Average\", \"Percent with Vehicle Position Data\": 0.69375}, {\"service_date\": \"2022-05-08T00:00:00\", \"Averages\": \"Total Average\", \"Percent with Vehicle Position Data\": 0.6638436482084691}, {\"service_date\": \"2022-05-09T00:00:00\", \"Averages\": \"Total Average\", \"Percent with Vehicle Position Data\": 0.6965912926088423}, {\"service_date\": \"2022-05-10T00:00:00\", \"Averages\": \"Total Average\", \"Percent with Vehicle Position Data\": 0.9267634154573068}, {\"service_date\": \"2022-05-11T00:00:00\", \"Averages\": \"Total Average\", \"Percent with Vehicle Position Data\": 0.9279703803433188}, {\"service_date\": \"2022-05-12T00:00:00\", \"Averages\": \"Total Average\", \"Percent with Vehicle Position Data\": 0.9351570415400202}, {\"service_date\": \"2022-05-13T00:00:00\", \"Averages\": \"Total Average\", \"Percent with Vehicle Position Data\": 0.934386808656819}, {\"service_date\": \"2022-05-14T00:00:00\", \"Averages\": \"Total Average\", \"Percent with Vehicle Position Data\": 0.6954545454545454}, {\"service_date\": \"2022-05-15T00:00:00\", \"Averages\": \"Total Average\", \"Percent with Vehicle Position Data\": 0.6912052117263844}, {\"service_date\": \"2022-05-16T00:00:00\", \"Averages\": \"Total Average\", \"Percent with Vehicle Position Data\": 0.6965912926088423}, {\"service_date\": \"2022-05-17T00:00:00\", \"Averages\": \"Total Average\", \"Percent with Vehicle Position Data\": 0.9325008437394533}, {\"service_date\": \"2022-05-18T00:00:00\", \"Averages\": \"Total Average\", \"Percent with Vehicle Position Data\": 0.9336923594749242}, {\"service_date\": \"2022-05-19T00:00:00\", \"Averages\": \"Total Average\", \"Percent with Vehicle Position Data\": 0.9324552516041877}, {\"service_date\": \"2022-05-20T00:00:00\", \"Averages\": \"Total Average\", \"Percent with Vehicle Position Data\": 0.9484713156990725}, {\"service_date\": \"2022-05-21T00:00:00\", \"Averages\": \"Total Average\", \"Percent with Vehicle Position Data\": 0.7113636363636363}, {\"service_date\": \"2022-05-22T00:00:00\", \"Averages\": \"Total Average\", \"Percent with Vehicle Position Data\": 0.7022801302931596}, {\"service_date\": \"2022-05-23T00:00:00\", \"Averages\": \"Total Average\", \"Percent with Vehicle Position Data\": 0.7117786027674654}, {\"service_date\": \"2022-05-24T00:00:00\", \"Averages\": \"Total Average\", \"Percent with Vehicle Position Data\": 0.9179885251434357}, {\"service_date\": \"2022-05-25T00:00:00\", \"Averages\": \"Total Average\", \"Percent with Vehicle Position Data\": 0.9141703130259172}, {\"service_date\": \"2022-05-26T00:00:00\", \"Averages\": \"Total Average\", \"Percent with Vehicle Position Data\": 0.9304289091523134}, {\"service_date\": \"2022-05-27T00:00:00\", \"Averages\": \"Total Average\", \"Percent with Vehicle Position Data\": 0.9272227943700653}, {\"service_date\": \"2022-05-28T00:00:00\", \"Averages\": \"Total Average\", \"Percent with Vehicle Position Data\": 0.7}, {\"service_date\": \"2022-05-29T00:00:00\", \"Averages\": \"Total Average\", \"Percent with Vehicle Position Data\": 0.7172638436482085}, {\"service_date\": \"2022-05-30T00:00:00\", \"Averages\": \"Total Average\", \"Percent with Vehicle Position Data\": 0.9596091205211726}, {\"service_date\": \"2022-05-31T00:00:00\", \"Averages\": \"Total Average\", \"Percent with Vehicle Position Data\": 0.7158285521430983}, {\"service_date\": \"2022-06-01T00:00:00\", \"Averages\": \"Total Average\", \"Percent with Vehicle Position Data\": 0.9340289464826658}, {\"service_date\": \"2022-06-02T00:00:00\", \"Averages\": \"Total Average\", \"Percent with Vehicle Position Data\": 0.9294157379263762}, {\"service_date\": \"2022-06-03T00:00:00\", \"Averages\": \"Total Average\", \"Percent with Vehicle Position Data\": 0.907526155923051}, {\"service_date\": \"2022-06-04T00:00:00\", \"Averages\": \"Total Average\", \"Percent with Vehicle Position Data\": 0.7017045454545454}, {\"service_date\": \"2022-06-05T00:00:00\", \"Averages\": \"Total Average\", \"Percent with Vehicle Position Data\": 0.7159609120521173}, {\"service_date\": \"2022-06-06T00:00:00\", \"Averages\": \"Total Average\", \"Percent with Vehicle Position Data\": 0.7057036787040162}, {\"service_date\": \"2022-06-07T00:00:00\", \"Averages\": \"Total Average\", \"Percent with Vehicle Position Data\": 0.9179885251434357}, {\"service_date\": \"2022-06-08T00:00:00\", \"Averages\": \"Total Average\", \"Percent with Vehicle Position Data\": 0.6671154493436553}, {\"service_date\": \"2022-06-09T00:00:00\", \"Averages\": \"Total Average\", \"Percent with Vehicle Position Data\": 0.7316661034133153}, {\"service_date\": \"2022-06-10T00:00:00\", \"Averages\": \"Total Average\", \"Percent with Vehicle Position Data\": 0.7233676975945017}, {\"service_date\": \"2022-06-11T00:00:00\", \"Averages\": \"Total Average\", \"Percent with Vehicle Position Data\": 0.5181818181818182}, {\"service_date\": \"2022-06-12T00:00:00\", \"Averages\": \"Total Average\", \"Percent with Vehicle Position Data\": 0.532899022801303}, {\"service_date\": \"2022-06-13T00:00:00\", \"Averages\": \"Total Average\", \"Percent with Vehicle Position Data\": 0.5746621621621621}, {\"service_date\": \"2022-06-14T00:00:00\", \"Averages\": \"Total Average\", \"Percent with Vehicle Position Data\": 0.7287162162162162}, {\"service_date\": \"2022-06-15T00:00:00\", \"Averages\": \"Total Average\", \"Percent with Vehicle Position Data\": 0.7601256983240223}, {\"service_date\": \"2022-06-16T00:00:00\", \"Averages\": \"Total Average\", \"Percent with Vehicle Position Data\": 0.7690960056061668}, {\"service_date\": \"2022-06-17T00:00:00\", \"Averages\": \"Total Average\", \"Percent with Vehicle Position Data\": 0.7762605042016807}, {\"service_date\": \"2022-06-18T00:00:00\", \"Averages\": \"Total Average\", \"Percent with Vehicle Position Data\": 0.5454545454545454}, {\"service_date\": \"2022-06-19T00:00:00\", \"Averages\": \"Total Average\", \"Percent with Vehicle Position Data\": 0.495754408883083}, {\"service_date\": \"2022-06-20T00:00:00\", \"Averages\": \"Total Average\", \"Percent with Vehicle Position Data\": 0.5307664627563872}, {\"service_date\": \"2022-06-21T00:00:00\", \"Averages\": \"Total Average\", \"Percent with Vehicle Position Data\": 0.705649514213746}, {\"service_date\": \"2022-06-22T00:00:00\", \"Averages\": \"Total Average\", \"Percent with Vehicle Position Data\": 0.7006117308384311}, {\"service_date\": \"2022-06-23T00:00:00\", \"Averages\": \"Total Average\", \"Percent with Vehicle Position Data\": 0.7049298308744153}, {\"service_date\": \"2022-06-24T00:00:00\", \"Averages\": \"Total Average\", \"Percent with Vehicle Position Data\": 0.6563512054695934}, {\"service_date\": \"2022-06-25T00:00:00\", \"Averages\": \"Total Average\", \"Percent with Vehicle Position Data\": 0.6896355353075171}, {\"service_date\": \"2022-06-26T00:00:00\", \"Averages\": \"Total Average\", \"Percent with Vehicle Position Data\": 0.6825604180274331}, {\"service_date\": \"2022-06-27T00:00:00\", \"Averages\": \"Total Average\", \"Percent with Vehicle Position Data\": 0.7016912558474271}, {\"service_date\": \"2022-06-28T00:00:00\", \"Averages\": \"Total Average\", \"Percent with Vehicle Position Data\": 0.9535804246131702}, {\"service_date\": \"2022-06-29T00:00:00\", \"Averages\": \"Total Average\", \"Percent with Vehicle Position Data\": 0.9596977329974811}, {\"service_date\": \"2022-06-30T00:00:00\", \"Averages\": \"Total Average\", \"Percent with Vehicle Position Data\": 0.9593378913278158}, {\"service_date\": \"2022-05-01T00:00:00\", \"Averages\": \"Big Blue Bus Average\", \"Percent with Vehicle Position Data\": 0.6831168831168831}, {\"service_date\": \"2022-05-02T00:00:00\", \"Averages\": \"Big Blue Bus Average\", \"Percent with Vehicle Position Data\": 0.7031662269129287}, {\"service_date\": \"2022-05-03T00:00:00\", \"Averages\": \"Big Blue Bus Average\", \"Percent with Vehicle Position Data\": 0.9003957783641161}, {\"service_date\": \"2022-05-04T00:00:00\", \"Averages\": \"Big Blue Bus Average\", \"Percent with Vehicle Position Data\": 0.9109498680738787}, {\"service_date\": \"2022-05-05T00:00:00\", \"Averages\": \"Big Blue Bus Average\", \"Percent with Vehicle Position Data\": 0.8858839050131926}, {\"service_date\": \"2022-05-06T00:00:00\", \"Averages\": \"Big Blue Bus Average\", \"Percent with Vehicle Position Data\": 0.8845628415300546}, {\"service_date\": \"2022-05-07T00:00:00\", \"Averages\": \"Big Blue Bus Average\", \"Percent with Vehicle Position Data\": 0.6942528735632184}, {\"service_date\": \"2022-05-08T00:00:00\", \"Averages\": \"Big Blue Bus Average\", \"Percent with Vehicle Position Data\": 0.6506493506493507}, {\"service_date\": \"2022-05-09T00:00:00\", \"Averages\": \"Big Blue Bus Average\", \"Percent with Vehicle Position Data\": 0.6945910290237467}, {\"service_date\": \"2022-05-10T00:00:00\", \"Averages\": \"Big Blue Bus Average\", \"Percent with Vehicle Position Data\": 0.9102902374670184}, {\"service_date\": \"2022-05-11T00:00:00\", \"Averages\": \"Big Blue Bus Average\", \"Percent with Vehicle Position Data\": 0.9109498680738787}, {\"service_date\": \"2022-05-12T00:00:00\", \"Averages\": \"Big Blue Bus Average\", \"Percent with Vehicle Position Data\": 0.9102902374670184}, {\"service_date\": \"2022-05-13T00:00:00\", \"Averages\": \"Big Blue Bus Average\", \"Percent with Vehicle Position Data\": 0.9173497267759563}, {\"service_date\": \"2022-05-14T00:00:00\", \"Averages\": \"Big Blue Bus Average\", \"Percent with Vehicle Position Data\": 0.6896551724137931}, {\"service_date\": \"2022-05-15T00:00:00\", \"Averages\": \"Big Blue Bus Average\", \"Percent with Vehicle Position Data\": 0.6831168831168831}, {\"service_date\": \"2022-05-16T00:00:00\", \"Averages\": \"Big Blue Bus Average\", \"Percent with Vehicle Position Data\": 0.6781002638522428}, {\"service_date\": \"2022-05-17T00:00:00\", \"Averages\": \"Big Blue Bus Average\", \"Percent with Vehicle Position Data\": 0.9056728232189973}, {\"service_date\": \"2022-05-18T00:00:00\", \"Averages\": \"Big Blue Bus Average\", \"Percent with Vehicle Position Data\": 0.908311345646438}, {\"service_date\": \"2022-05-19T00:00:00\", \"Averages\": \"Big Blue Bus Average\", \"Percent with Vehicle Position Data\": 0.9017150395778364}, {\"service_date\": \"2022-05-20T00:00:00\", \"Averages\": \"Big Blue Bus Average\", \"Percent with Vehicle Position Data\": 0.9330601092896175}, {\"service_date\": \"2022-05-21T00:00:00\", \"Averages\": \"Big Blue Bus Average\", \"Percent with Vehicle Position Data\": 0.7298850574712644}, {\"service_date\": \"2022-05-22T00:00:00\", \"Averages\": \"Big Blue Bus Average\", \"Percent with Vehicle Position Data\": 0.7051948051948052}, {\"service_date\": \"2022-05-23T00:00:00\", \"Averages\": \"Big Blue Bus Average\", \"Percent with Vehicle Position Data\": 0.716358839050132}, {\"service_date\": \"2022-05-24T00:00:00\", \"Averages\": \"Big Blue Bus Average\", \"Percent with Vehicle Position Data\": 0.9036939313984169}, {\"service_date\": \"2022-05-25T00:00:00\", \"Averages\": \"Big Blue Bus Average\", \"Percent with Vehicle Position Data\": 0.8891820580474934}, {\"service_date\": \"2022-05-26T00:00:00\", \"Averages\": \"Big Blue Bus Average\", \"Percent with Vehicle Position Data\": 0.9195250659630607}, {\"service_date\": \"2022-05-27T00:00:00\", \"Averages\": \"Big Blue Bus Average\", \"Percent with Vehicle Position Data\": 0.9004092769440655}, {\"service_date\": \"2022-05-28T00:00:00\", \"Averages\": \"Big Blue Bus Average\", \"Percent with Vehicle Position Data\": 0.7034482758620689}, {\"service_date\": \"2022-05-29T00:00:00\", \"Averages\": \"Big Blue Bus Average\", \"Percent with Vehicle Position Data\": 0.7220779220779221}, {\"service_date\": \"2022-05-30T00:00:00\", \"Averages\": \"Big Blue Bus Average\", \"Percent with Vehicle Position Data\": 0.9623376623376624}, {\"service_date\": \"2022-05-31T00:00:00\", \"Averages\": \"Big Blue Bus Average\", \"Percent with Vehicle Position Data\": 0.7038258575197889}, {\"service_date\": \"2022-06-01T00:00:00\", \"Averages\": \"Big Blue Bus Average\", \"Percent with Vehicle Position Data\": 0.9010554089709762}, {\"service_date\": \"2022-06-02T00:00:00\", \"Averages\": \"Big Blue Bus Average\", \"Percent with Vehicle Position Data\": 0.8970976253298153}, {\"service_date\": \"2022-06-03T00:00:00\", \"Averages\": \"Big Blue Bus Average\", \"Percent with Vehicle Position Data\": 0.8535620052770448}, {\"service_date\": \"2022-06-04T00:00:00\", \"Averages\": \"Big Blue Bus Average\", \"Percent with Vehicle Position Data\": 0.7011494252873564}, {\"service_date\": \"2022-06-05T00:00:00\", \"Averages\": \"Big Blue Bus Average\", \"Percent with Vehicle Position Data\": 0.7194805194805195}, {\"service_date\": \"2022-06-06T00:00:00\", \"Averages\": \"Big Blue Bus Average\", \"Percent with Vehicle Position Data\": 0.6886543535620053}, {\"service_date\": \"2022-06-07T00:00:00\", \"Averages\": \"Big Blue Bus Average\", \"Percent with Vehicle Position Data\": 0.8825857519788918}, {\"service_date\": \"2022-06-08T00:00:00\", \"Averages\": \"Big Blue Bus Average\", \"Percent with Vehicle Position Data\": 0.8720316622691293}, {\"service_date\": \"2022-06-09T00:00:00\", \"Averages\": \"Big Blue Bus Average\", \"Percent with Vehicle Position Data\": 0.8830911492734478}, {\"service_date\": \"2022-06-10T00:00:00\", \"Averages\": \"Big Blue Bus Average\", \"Percent with Vehicle Position Data\": 0.8838004101161996}, {\"service_date\": \"2022-06-11T00:00:00\", \"Averages\": \"Big Blue Bus Average\", \"Percent with Vehicle Position Data\": 0.671264367816092}, {\"service_date\": \"2022-06-12T00:00:00\", \"Averages\": \"Big Blue Bus Average\", \"Percent with Vehicle Position Data\": 0.6922077922077922}, {\"service_date\": \"2022-06-13T00:00:00\", \"Averages\": \"Big Blue Bus Average\", \"Percent with Vehicle Position Data\": 0.7005948446794448}, {\"service_date\": \"2022-06-14T00:00:00\", \"Averages\": \"Big Blue Bus Average\", \"Percent with Vehicle Position Data\": 0.8830138797091871}, {\"service_date\": \"2022-06-15T00:00:00\", \"Averages\": \"Big Blue Bus Average\", \"Percent with Vehicle Position Data\": 0.9517388218594748}, {\"service_date\": \"2022-06-16T00:00:00\", \"Averages\": \"Big Blue Bus Average\", \"Percent with Vehicle Position Data\": 0.9808374733853797}, {\"service_date\": \"2022-06-17T00:00:00\", \"Averages\": \"Big Blue Bus Average\", \"Percent with Vehicle Position Data\": 0.99361249112846}, {\"service_date\": \"2022-06-18T00:00:00\", \"Averages\": \"Big Blue Bus Average\", \"Percent with Vehicle Position Data\": 0.7275862068965517}, {\"service_date\": \"2022-06-19T00:00:00\", \"Averages\": \"Big Blue Bus Average\", \"Percent with Vehicle Position Data\": 0.6805194805194805}, {\"service_date\": \"2022-06-20T00:00:00\", \"Averages\": \"Big Blue Bus Average\", \"Percent with Vehicle Position Data\": 0.7371663244353183}, {\"service_date\": \"2022-06-21T00:00:00\", \"Averages\": \"Big Blue Bus Average\", \"Percent with Vehicle Position Data\": 0.945242984257358}, {\"service_date\": \"2022-06-22T00:00:00\", \"Averages\": \"Big Blue Bus Average\", \"Percent with Vehicle Position Data\": 0.9418206707734429}, {\"service_date\": \"2022-06-23T00:00:00\", \"Averages\": \"Big Blue Bus Average\", \"Percent with Vehicle Position Data\": 0.947296372347707}, {\"service_date\": \"2022-06-24T00:00:00\", \"Averages\": \"Big Blue Bus Average\", \"Percent with Vehicle Position Data\": 0.9034907597535934}, {\"service_date\": \"2022-06-25T00:00:00\", \"Averages\": \"Big Blue Bus Average\", \"Percent with Vehicle Position Data\": 0.667816091954023}, {\"service_date\": \"2022-06-26T00:00:00\", \"Averages\": \"Big Blue Bus Average\", \"Percent with Vehicle Position Data\": 0.6467532467532467}, {\"service_date\": \"2022-06-27T00:00:00\", \"Averages\": \"Big Blue Bus Average\", \"Percent with Vehicle Position Data\": 0.6933607118412046}, {\"service_date\": \"2022-06-28T00:00:00\", \"Averages\": \"Big Blue Bus Average\", \"Percent with Vehicle Position Data\": 0.9301848049281314}, {\"service_date\": \"2022-06-29T00:00:00\", \"Averages\": \"Big Blue Bus Average\", \"Percent with Vehicle Position Data\": 0.9356605065023956}, {\"service_date\": \"2022-06-30T00:00:00\", \"Averages\": \"Big Blue Bus Average\", \"Percent with Vehicle Position Data\": 0.9404517453798767}]}}, {\"mode\": \"vega-lite\"});\n",
       "</script>"
      ],
      "text/plain": [
       "alt.Chart(...)"
      ]
     },
     "execution_count": 18,
     "metadata": {},
     "output_type": "execute_result"
    }
   ],
   "source": [
    "utils.total_average_with_1op_chart(rt_sched, 300)"
   ]
  },
  {
   "cell_type": "code",
   "execution_count": null,
   "id": "0dcd1e98-819d-4f04-acc7-759d73d27a35",
   "metadata": {},
   "outputs": [],
   "source": []
  },
  {
   "cell_type": "code",
   "execution_count": 19,
   "id": "1feac532-aada-4b4b-b7b2-6c0b8f8077a2",
   "metadata": {},
   "outputs": [
    {
     "data": {
      "text/html": [
       "\n",
       "<div id=\"altair-viz-0527efadb1474ec39e6607750f7169de\"></div>\n",
       "<script type=\"text/javascript\">\n",
       "  var VEGA_DEBUG = (typeof VEGA_DEBUG == \"undefined\") ? {} : VEGA_DEBUG;\n",
       "  (function(spec, embedOpt){\n",
       "    let outputDiv = document.currentScript.previousElementSibling;\n",
       "    if (outputDiv.id !== \"altair-viz-0527efadb1474ec39e6607750f7169de\") {\n",
       "      outputDiv = document.getElementById(\"altair-viz-0527efadb1474ec39e6607750f7169de\");\n",
       "    }\n",
       "    const paths = {\n",
       "      \"vega\": \"https://cdn.jsdelivr.net/npm//vega@5?noext\",\n",
       "      \"vega-lib\": \"https://cdn.jsdelivr.net/npm//vega-lib?noext\",\n",
       "      \"vega-lite\": \"https://cdn.jsdelivr.net/npm//vega-lite@4.17.0?noext\",\n",
       "      \"vega-embed\": \"https://cdn.jsdelivr.net/npm//vega-embed@6?noext\",\n",
       "    };\n",
       "\n",
       "    function maybeLoadScript(lib, version) {\n",
       "      var key = `${lib.replace(\"-\", \"\")}_version`;\n",
       "      return (VEGA_DEBUG[key] == version) ?\n",
       "        Promise.resolve(paths[lib]) :\n",
       "        new Promise(function(resolve, reject) {\n",
       "          var s = document.createElement('script');\n",
       "          document.getElementsByTagName(\"head\")[0].appendChild(s);\n",
       "          s.async = true;\n",
       "          s.onload = () => {\n",
       "            VEGA_DEBUG[key] = version;\n",
       "            return resolve(paths[lib]);\n",
       "          };\n",
       "          s.onerror = () => reject(`Error loading script: ${paths[lib]}`);\n",
       "          s.src = paths[lib];\n",
       "        });\n",
       "    }\n",
       "\n",
       "    function showError(err) {\n",
       "      outputDiv.innerHTML = `<div class=\"error\" style=\"color:red;\">${err}</div>`;\n",
       "      throw err;\n",
       "    }\n",
       "\n",
       "    function displayChart(vegaEmbed) {\n",
       "      vegaEmbed(outputDiv, spec, embedOpt)\n",
       "        .catch(err => showError(`Javascript Error: ${err.message}<br>This usually means there's a typo in your chart specification. See the javascript console for the full traceback.`));\n",
       "    }\n",
       "\n",
       "    if(typeof define === \"function\" && define.amd) {\n",
       "      requirejs.config({paths});\n",
       "      require([\"vega-embed\"], displayChart, err => showError(`Error loading script: ${err.message}`));\n",
       "    } else {\n",
       "      maybeLoadScript(\"vega\", \"5\")\n",
       "        .then(() => maybeLoadScript(\"vega-lite\", \"4.17.0\"))\n",
       "        .then(() => maybeLoadScript(\"vega-embed\", \"6\"))\n",
       "        .catch(showError)\n",
       "        .then(() => displayChart(vegaEmbed));\n",
       "    }\n",
       "  })({\"config\": {\"view\": {\"continuousWidth\": 400, \"continuousHeight\": 300}}, \"layer\": [{\"mark\": {\"type\": \"bar\", \"size\": 8}, \"encoding\": {\"color\": {\"field\": \"weekday\", \"legend\": {\"title\": \"Percent of Scheduled Trips with Vehicle Postions\"}, \"type\": \"nominal\"}, \"x\": {\"field\": \"service_date\", \"sort\": \"x\", \"title\": \"Service Date\", \"type\": \"temporal\"}, \"y\": {\"field\": \"pct_w_vp\", \"title\": \"Percent of Scheduled Trips with Vehicle Postions\", \"type\": \"quantitative\"}}, \"title\": \"Big Blue Bus Percent of Scheduled Trips with RT Vehicle Position Data\"}, {\"mark\": {\"type\": \"rule\", \"color\": \"red\"}, \"encoding\": {\"y\": {\"aggregate\": \"mean\", \"axis\": {\"format\": \"%\"}, \"field\": \"pct_w_vp\", \"type\": \"quantitative\"}}}], \"data\": {\"name\": \"data-22af8eef9a09301db1e093e0d1c5e673\"}, \"width\": 800, \"$schema\": \"https://vega.github.io/schema/vega-lite/v4.17.0.json\", \"datasets\": {\"data-22af8eef9a09301db1e093e0d1c5e673\": [{\"calitp_itp_id\": 300, \"agency_name\": \"Big Blue Bus\", \"calitp_url_number\": 0, \"service_date\": \"2022-05-01T00:00:00\", \"weekday\": \"Sunday\", \"month\": \"May\", \"total_num_sched\": 770, \"total_num_vp\": 526, \"pct_w_vp\": 0.6831168831168831}, {\"calitp_itp_id\": 300, \"agency_name\": \"Big Blue Bus\", \"calitp_url_number\": 0, \"service_date\": \"2022-05-02T00:00:00\", \"weekday\": \"Monday\", \"month\": \"May\", \"total_num_sched\": 1516, \"total_num_vp\": 1066, \"pct_w_vp\": 0.7031662269129287}, {\"calitp_itp_id\": 300, \"agency_name\": \"Big Blue Bus\", \"calitp_url_number\": 0, \"service_date\": \"2022-05-03T00:00:00\", \"weekday\": \"Tuesday\", \"month\": \"May\", \"total_num_sched\": 1516, \"total_num_vp\": 1365, \"pct_w_vp\": 0.9003957783641161}, {\"calitp_itp_id\": 300, \"agency_name\": \"Big Blue Bus\", \"calitp_url_number\": 0, \"service_date\": \"2022-05-04T00:00:00\", \"weekday\": \"Wednesday\", \"month\": \"May\", \"total_num_sched\": 1516, \"total_num_vp\": 1381, \"pct_w_vp\": 0.9109498680738787}, {\"calitp_itp_id\": 300, \"agency_name\": \"Big Blue Bus\", \"calitp_url_number\": 0, \"service_date\": \"2022-05-05T00:00:00\", \"weekday\": \"Thursday\", \"month\": \"May\", \"total_num_sched\": 1516, \"total_num_vp\": 1343, \"pct_w_vp\": 0.8858839050131926}, {\"calitp_itp_id\": 300, \"agency_name\": \"Big Blue Bus\", \"calitp_url_number\": 0, \"service_date\": \"2022-05-06T00:00:00\", \"weekday\": \"Friday\", \"month\": \"May\", \"total_num_sched\": 1464, \"total_num_vp\": 1295, \"pct_w_vp\": 0.8845628415300546}, {\"calitp_itp_id\": 300, \"agency_name\": \"Big Blue Bus\", \"calitp_url_number\": 0, \"service_date\": \"2022-05-07T00:00:00\", \"weekday\": \"Saturday\", \"month\": \"May\", \"total_num_sched\": 870, \"total_num_vp\": 604, \"pct_w_vp\": 0.6942528735632184}, {\"calitp_itp_id\": 300, \"agency_name\": \"Big Blue Bus\", \"calitp_url_number\": 0, \"service_date\": \"2022-05-08T00:00:00\", \"weekday\": \"Sunday\", \"month\": \"May\", \"total_num_sched\": 770, \"total_num_vp\": 501, \"pct_w_vp\": 0.6506493506493507}, {\"calitp_itp_id\": 300, \"agency_name\": \"Big Blue Bus\", \"calitp_url_number\": 0, \"service_date\": \"2022-05-09T00:00:00\", \"weekday\": \"Monday\", \"month\": \"May\", \"total_num_sched\": 1516, \"total_num_vp\": 1053, \"pct_w_vp\": 0.6945910290237467}, {\"calitp_itp_id\": 300, \"agency_name\": \"Big Blue Bus\", \"calitp_url_number\": 0, \"service_date\": \"2022-05-10T00:00:00\", \"weekday\": \"Tuesday\", \"month\": \"May\", \"total_num_sched\": 1516, \"total_num_vp\": 1380, \"pct_w_vp\": 0.9102902374670184}, {\"calitp_itp_id\": 300, \"agency_name\": \"Big Blue Bus\", \"calitp_url_number\": 0, \"service_date\": \"2022-05-11T00:00:00\", \"weekday\": \"Wednesday\", \"month\": \"May\", \"total_num_sched\": 1516, \"total_num_vp\": 1381, \"pct_w_vp\": 0.9109498680738787}, {\"calitp_itp_id\": 300, \"agency_name\": \"Big Blue Bus\", \"calitp_url_number\": 0, \"service_date\": \"2022-05-12T00:00:00\", \"weekday\": \"Thursday\", \"month\": \"May\", \"total_num_sched\": 1516, \"total_num_vp\": 1380, \"pct_w_vp\": 0.9102902374670184}, {\"calitp_itp_id\": 300, \"agency_name\": \"Big Blue Bus\", \"calitp_url_number\": 0, \"service_date\": \"2022-05-13T00:00:00\", \"weekday\": \"Friday\", \"month\": \"May\", \"total_num_sched\": 1464, \"total_num_vp\": 1343, \"pct_w_vp\": 0.9173497267759563}, {\"calitp_itp_id\": 300, \"agency_name\": \"Big Blue Bus\", \"calitp_url_number\": 0, \"service_date\": \"2022-05-14T00:00:00\", \"weekday\": \"Saturday\", \"month\": \"May\", \"total_num_sched\": 870, \"total_num_vp\": 600, \"pct_w_vp\": 0.6896551724137931}, {\"calitp_itp_id\": 300, \"agency_name\": \"Big Blue Bus\", \"calitp_url_number\": 0, \"service_date\": \"2022-05-15T00:00:00\", \"weekday\": \"Sunday\", \"month\": \"May\", \"total_num_sched\": 770, \"total_num_vp\": 526, \"pct_w_vp\": 0.6831168831168831}, {\"calitp_itp_id\": 300, \"agency_name\": \"Big Blue Bus\", \"calitp_url_number\": 0, \"service_date\": \"2022-05-16T00:00:00\", \"weekday\": \"Monday\", \"month\": \"May\", \"total_num_sched\": 1516, \"total_num_vp\": 1028, \"pct_w_vp\": 0.6781002638522428}, {\"calitp_itp_id\": 300, \"agency_name\": \"Big Blue Bus\", \"calitp_url_number\": 0, \"service_date\": \"2022-05-17T00:00:00\", \"weekday\": \"Tuesday\", \"month\": \"May\", \"total_num_sched\": 1516, \"total_num_vp\": 1373, \"pct_w_vp\": 0.9056728232189973}, {\"calitp_itp_id\": 300, \"agency_name\": \"Big Blue Bus\", \"calitp_url_number\": 0, \"service_date\": \"2022-05-18T00:00:00\", \"weekday\": \"Wednesday\", \"month\": \"May\", \"total_num_sched\": 1516, \"total_num_vp\": 1377, \"pct_w_vp\": 0.908311345646438}, {\"calitp_itp_id\": 300, \"agency_name\": \"Big Blue Bus\", \"calitp_url_number\": 0, \"service_date\": \"2022-05-19T00:00:00\", \"weekday\": \"Thursday\", \"month\": \"May\", \"total_num_sched\": 1516, \"total_num_vp\": 1367, \"pct_w_vp\": 0.9017150395778364}, {\"calitp_itp_id\": 300, \"agency_name\": \"Big Blue Bus\", \"calitp_url_number\": 0, \"service_date\": \"2022-05-20T00:00:00\", \"weekday\": \"Friday\", \"month\": \"May\", \"total_num_sched\": 1464, \"total_num_vp\": 1366, \"pct_w_vp\": 0.9330601092896175}, {\"calitp_itp_id\": 300, \"agency_name\": \"Big Blue Bus\", \"calitp_url_number\": 0, \"service_date\": \"2022-05-21T00:00:00\", \"weekday\": \"Saturday\", \"month\": \"May\", \"total_num_sched\": 870, \"total_num_vp\": 635, \"pct_w_vp\": 0.7298850574712644}, {\"calitp_itp_id\": 300, \"agency_name\": \"Big Blue Bus\", \"calitp_url_number\": 0, \"service_date\": \"2022-05-22T00:00:00\", \"weekday\": \"Sunday\", \"month\": \"May\", \"total_num_sched\": 770, \"total_num_vp\": 543, \"pct_w_vp\": 0.7051948051948052}, {\"calitp_itp_id\": 300, \"agency_name\": \"Big Blue Bus\", \"calitp_url_number\": 0, \"service_date\": \"2022-05-23T00:00:00\", \"weekday\": \"Monday\", \"month\": \"May\", \"total_num_sched\": 1516, \"total_num_vp\": 1086, \"pct_w_vp\": 0.716358839050132}, {\"calitp_itp_id\": 300, \"agency_name\": \"Big Blue Bus\", \"calitp_url_number\": 0, \"service_date\": \"2022-05-24T00:00:00\", \"weekday\": \"Tuesday\", \"month\": \"May\", \"total_num_sched\": 1516, \"total_num_vp\": 1370, \"pct_w_vp\": 0.9036939313984169}, {\"calitp_itp_id\": 300, \"agency_name\": \"Big Blue Bus\", \"calitp_url_number\": 0, \"service_date\": \"2022-05-25T00:00:00\", \"weekday\": \"Wednesday\", \"month\": \"May\", \"total_num_sched\": 1516, \"total_num_vp\": 1348, \"pct_w_vp\": 0.8891820580474934}, {\"calitp_itp_id\": 300, \"agency_name\": \"Big Blue Bus\", \"calitp_url_number\": 0, \"service_date\": \"2022-05-26T00:00:00\", \"weekday\": \"Thursday\", \"month\": \"May\", \"total_num_sched\": 1516, \"total_num_vp\": 1394, \"pct_w_vp\": 0.9195250659630607}, {\"calitp_itp_id\": 300, \"agency_name\": \"Big Blue Bus\", \"calitp_url_number\": 0, \"service_date\": \"2022-05-27T00:00:00\", \"weekday\": \"Friday\", \"month\": \"May\", \"total_num_sched\": 1466, \"total_num_vp\": 1320, \"pct_w_vp\": 0.9004092769440655}, {\"calitp_itp_id\": 300, \"agency_name\": \"Big Blue Bus\", \"calitp_url_number\": 0, \"service_date\": \"2022-05-28T00:00:00\", \"weekday\": \"Saturday\", \"month\": \"May\", \"total_num_sched\": 870, \"total_num_vp\": 612, \"pct_w_vp\": 0.7034482758620689}, {\"calitp_itp_id\": 300, \"agency_name\": \"Big Blue Bus\", \"calitp_url_number\": 0, \"service_date\": \"2022-05-29T00:00:00\", \"weekday\": \"Sunday\", \"month\": \"May\", \"total_num_sched\": 770, \"total_num_vp\": 556, \"pct_w_vp\": 0.7220779220779221}, {\"calitp_itp_id\": 300, \"agency_name\": \"Big Blue Bus\", \"calitp_url_number\": 0, \"service_date\": \"2022-05-30T00:00:00\", \"weekday\": \"Monday\", \"month\": \"May\", \"total_num_sched\": 770, \"total_num_vp\": 741, \"pct_w_vp\": 0.9623376623376624}, {\"calitp_itp_id\": 300, \"agency_name\": \"Big Blue Bus\", \"calitp_url_number\": 0, \"service_date\": \"2022-05-31T00:00:00\", \"weekday\": \"Tuesday\", \"month\": \"May\", \"total_num_sched\": 1516, \"total_num_vp\": 1067, \"pct_w_vp\": 0.7038258575197889}, {\"calitp_itp_id\": 300, \"agency_name\": \"Big Blue Bus\", \"calitp_url_number\": 0, \"service_date\": \"2022-06-01T00:00:00\", \"weekday\": \"Wednesday\", \"month\": \"June\", \"total_num_sched\": 1516, \"total_num_vp\": 1366, \"pct_w_vp\": 0.9010554089709762}, {\"calitp_itp_id\": 300, \"agency_name\": \"Big Blue Bus\", \"calitp_url_number\": 0, \"service_date\": \"2022-06-02T00:00:00\", \"weekday\": \"Thursday\", \"month\": \"June\", \"total_num_sched\": 1516, \"total_num_vp\": 1360, \"pct_w_vp\": 0.8970976253298153}, {\"calitp_itp_id\": 300, \"agency_name\": \"Big Blue Bus\", \"calitp_url_number\": 0, \"service_date\": \"2022-06-03T00:00:00\", \"weekday\": \"Friday\", \"month\": \"June\", \"total_num_sched\": 1516, \"total_num_vp\": 1294, \"pct_w_vp\": 0.8535620052770448}, {\"calitp_itp_id\": 300, \"agency_name\": \"Big Blue Bus\", \"calitp_url_number\": 0, \"service_date\": \"2022-06-04T00:00:00\", \"weekday\": \"Saturday\", \"month\": \"June\", \"total_num_sched\": 870, \"total_num_vp\": 610, \"pct_w_vp\": 0.7011494252873564}, {\"calitp_itp_id\": 300, \"agency_name\": \"Big Blue Bus\", \"calitp_url_number\": 0, \"service_date\": \"2022-06-05T00:00:00\", \"weekday\": \"Sunday\", \"month\": \"June\", \"total_num_sched\": 770, \"total_num_vp\": 554, \"pct_w_vp\": 0.7194805194805195}, {\"calitp_itp_id\": 300, \"agency_name\": \"Big Blue Bus\", \"calitp_url_number\": 0, \"service_date\": \"2022-06-06T00:00:00\", \"weekday\": \"Monday\", \"month\": \"June\", \"total_num_sched\": 1516, \"total_num_vp\": 1044, \"pct_w_vp\": 0.6886543535620053}, {\"calitp_itp_id\": 300, \"agency_name\": \"Big Blue Bus\", \"calitp_url_number\": 0, \"service_date\": \"2022-06-07T00:00:00\", \"weekday\": \"Tuesday\", \"month\": \"June\", \"total_num_sched\": 1516, \"total_num_vp\": 1338, \"pct_w_vp\": 0.8825857519788918}, {\"calitp_itp_id\": 300, \"agency_name\": \"Big Blue Bus\", \"calitp_url_number\": 0, \"service_date\": \"2022-06-08T00:00:00\", \"weekday\": \"Wednesday\", \"month\": \"June\", \"total_num_sched\": 1516, \"total_num_vp\": 1322, \"pct_w_vp\": 0.8720316622691293}, {\"calitp_itp_id\": 300, \"agency_name\": \"Big Blue Bus\", \"calitp_url_number\": 0, \"service_date\": \"2022-06-09T00:00:00\", \"weekday\": \"Thursday\", \"month\": \"June\", \"total_num_sched\": 1514, \"total_num_vp\": 1337, \"pct_w_vp\": 0.8830911492734478}, {\"calitp_itp_id\": 300, \"agency_name\": \"Big Blue Bus\", \"calitp_url_number\": 0, \"service_date\": \"2022-06-10T00:00:00\", \"weekday\": \"Friday\", \"month\": \"June\", \"total_num_sched\": 1463, \"total_num_vp\": 1293, \"pct_w_vp\": 0.8838004101161996}, {\"calitp_itp_id\": 300, \"agency_name\": \"Big Blue Bus\", \"calitp_url_number\": 0, \"service_date\": \"2022-06-11T00:00:00\", \"weekday\": \"Saturday\", \"month\": \"June\", \"total_num_sched\": 870, \"total_num_vp\": 584, \"pct_w_vp\": 0.671264367816092}, {\"calitp_itp_id\": 300, \"agency_name\": \"Big Blue Bus\", \"calitp_url_number\": 0, \"service_date\": \"2022-06-12T00:00:00\", \"weekday\": \"Sunday\", \"month\": \"June\", \"total_num_sched\": 770, \"total_num_vp\": 533, \"pct_w_vp\": 0.6922077922077922}, {\"calitp_itp_id\": 300, \"agency_name\": \"Big Blue Bus\", \"calitp_url_number\": 0, \"service_date\": \"2022-06-13T00:00:00\", \"weekday\": \"Monday\", \"month\": \"June\", \"total_num_sched\": 1513, \"total_num_vp\": 1060, \"pct_w_vp\": 0.7005948446794448}, {\"calitp_itp_id\": 300, \"agency_name\": \"Big Blue Bus\", \"calitp_url_number\": 0, \"service_date\": \"2022-06-14T00:00:00\", \"weekday\": \"Tuesday\", \"month\": \"June\", \"total_num_sched\": 1513, \"total_num_vp\": 1336, \"pct_w_vp\": 0.8830138797091871}, {\"calitp_itp_id\": 300, \"agency_name\": \"Big Blue Bus\", \"calitp_url_number\": 0, \"service_date\": \"2022-06-15T00:00:00\", \"weekday\": \"Wednesday\", \"month\": \"June\", \"total_num_sched\": 1409, \"total_num_vp\": 1341, \"pct_w_vp\": 0.9517388218594748}, {\"calitp_itp_id\": 300, \"agency_name\": \"Big Blue Bus\", \"calitp_url_number\": 0, \"service_date\": \"2022-06-16T00:00:00\", \"weekday\": \"Thursday\", \"month\": \"June\", \"total_num_sched\": 1409, \"total_num_vp\": 1382, \"pct_w_vp\": 0.9808374733853797}, {\"calitp_itp_id\": 300, \"agency_name\": \"Big Blue Bus\", \"calitp_url_number\": 0, \"service_date\": \"2022-06-17T00:00:00\", \"weekday\": \"Friday\", \"month\": \"June\", \"total_num_sched\": 1409, \"total_num_vp\": 1400, \"pct_w_vp\": 0.99361249112846}, {\"calitp_itp_id\": 300, \"agency_name\": \"Big Blue Bus\", \"calitp_url_number\": 0, \"service_date\": \"2022-06-18T00:00:00\", \"weekday\": \"Saturday\", \"month\": \"June\", \"total_num_sched\": 870, \"total_num_vp\": 633, \"pct_w_vp\": 0.7275862068965517}, {\"calitp_itp_id\": 300, \"agency_name\": \"Big Blue Bus\", \"calitp_url_number\": 0, \"service_date\": \"2022-06-19T00:00:00\", \"weekday\": \"Sunday\", \"month\": \"June\", \"total_num_sched\": 770, \"total_num_vp\": 524, \"pct_w_vp\": 0.6805194805194805}, {\"calitp_itp_id\": 300, \"agency_name\": \"Big Blue Bus\", \"calitp_url_number\": 0, \"service_date\": \"2022-06-20T00:00:00\", \"weekday\": \"Monday\", \"month\": \"June\", \"total_num_sched\": 1461, \"total_num_vp\": 1077, \"pct_w_vp\": 0.7371663244353183}, {\"calitp_itp_id\": 300, \"agency_name\": \"Big Blue Bus\", \"calitp_url_number\": 0, \"service_date\": \"2022-06-21T00:00:00\", \"weekday\": \"Tuesday\", \"month\": \"June\", \"total_num_sched\": 1461, \"total_num_vp\": 1381, \"pct_w_vp\": 0.945242984257358}, {\"calitp_itp_id\": 300, \"agency_name\": \"Big Blue Bus\", \"calitp_url_number\": 0, \"service_date\": \"2022-06-22T00:00:00\", \"weekday\": \"Wednesday\", \"month\": \"June\", \"total_num_sched\": 1461, \"total_num_vp\": 1376, \"pct_w_vp\": 0.9418206707734429}, {\"calitp_itp_id\": 300, \"agency_name\": \"Big Blue Bus\", \"calitp_url_number\": 0, \"service_date\": \"2022-06-23T00:00:00\", \"weekday\": \"Thursday\", \"month\": \"June\", \"total_num_sched\": 1461, \"total_num_vp\": 1384, \"pct_w_vp\": 0.947296372347707}, {\"calitp_itp_id\": 300, \"agency_name\": \"Big Blue Bus\", \"calitp_url_number\": 0, \"service_date\": \"2022-06-24T00:00:00\", \"weekday\": \"Friday\", \"month\": \"June\", \"total_num_sched\": 1461, \"total_num_vp\": 1320, \"pct_w_vp\": 0.9034907597535934}, {\"calitp_itp_id\": 300, \"agency_name\": \"Big Blue Bus\", \"calitp_url_number\": 0, \"service_date\": \"2022-06-25T00:00:00\", \"weekday\": \"Saturday\", \"month\": \"June\", \"total_num_sched\": 870, \"total_num_vp\": 581, \"pct_w_vp\": 0.667816091954023}, {\"calitp_itp_id\": 300, \"agency_name\": \"Big Blue Bus\", \"calitp_url_number\": 0, \"service_date\": \"2022-06-26T00:00:00\", \"weekday\": \"Sunday\", \"month\": \"June\", \"total_num_sched\": 770, \"total_num_vp\": 498, \"pct_w_vp\": 0.6467532467532467}, {\"calitp_itp_id\": 300, \"agency_name\": \"Big Blue Bus\", \"calitp_url_number\": 0, \"service_date\": \"2022-06-27T00:00:00\", \"weekday\": \"Monday\", \"month\": \"June\", \"total_num_sched\": 1461, \"total_num_vp\": 1013, \"pct_w_vp\": 0.6933607118412046}, {\"calitp_itp_id\": 300, \"agency_name\": \"Big Blue Bus\", \"calitp_url_number\": 0, \"service_date\": \"2022-06-28T00:00:00\", \"weekday\": \"Tuesday\", \"month\": \"June\", \"total_num_sched\": 1461, \"total_num_vp\": 1359, \"pct_w_vp\": 0.9301848049281314}, {\"calitp_itp_id\": 300, \"agency_name\": \"Big Blue Bus\", \"calitp_url_number\": 0, \"service_date\": \"2022-06-29T00:00:00\", \"weekday\": \"Wednesday\", \"month\": \"June\", \"total_num_sched\": 1461, \"total_num_vp\": 1367, \"pct_w_vp\": 0.9356605065023956}, {\"calitp_itp_id\": 300, \"agency_name\": \"Big Blue Bus\", \"calitp_url_number\": 0, \"service_date\": \"2022-06-30T00:00:00\", \"weekday\": \"Thursday\", \"month\": \"June\", \"total_num_sched\": 1461, \"total_num_vp\": 1374, \"pct_w_vp\": 0.9404517453798767}]}}, {\"mode\": \"vega-lite\"});\n",
       "</script>"
      ],
      "text/plain": [
       "alt.LayerChart(...)"
      ]
     },
     "execution_count": 19,
     "metadata": {},
     "output_type": "execute_result"
    }
   ],
   "source": [
    "bar = (alt.Chart(agency_date)\n",
    "        .mark_bar(size=8)\n",
    "        .encode(\n",
    "            x=alt.X('service_date:T', title=utils.labeling('service_date'), sort=(\"x\")),\n",
    "            y=alt.Y('pct_w_vp:Q', title=utils.labeling('pct_w_vp')),\n",
    "            color=alt.Color(\n",
    "                'weekday',\n",
    "                #scale=alt.Scale(range=altair_utils.CALITP_DIVERGING_COLORS),\n",
    "                legend=alt.Legend(title=(utils.labeling('pct_w_vp'))))\n",
    "        ).properties(title= \"Big Blue Bus Percent of Scheduled Trips with RT Vehicle Position Data\"))\n",
    "\n",
    "# # mean line\n",
    "rule = alt.Chart(agency_date\n",
    "                ).mark_rule(color='red'\n",
    "                           ).encode(y=alt.Y('mean(pct_w_vp):Q', axis=alt.Axis(format='%')))\n",
    "\n",
    "(bar + rule).properties(width=800)"
   ]
  },
  {
   "cell_type": "code",
   "execution_count": null,
   "id": "e3253e23-c6db-4d3e-a3a9-12ad212ec687",
   "metadata": {},
   "outputs": [],
   "source": []
  },
  {
   "cell_type": "code",
   "execution_count": null,
   "id": "de859296-af1c-4aca-b41b-2152f47726fc",
   "metadata": {},
   "outputs": [],
   "source": []
  },
  {
   "cell_type": "code",
   "execution_count": null,
   "id": "e24434f8-ccf0-4fa6-834b-859d521346ce",
   "metadata": {},
   "outputs": [],
   "source": []
  },
  {
   "cell_type": "code",
   "execution_count": null,
   "id": "2d836b18-47ad-4a3e-a5ed-855267942a50",
   "metadata": {},
   "outputs": [],
   "source": []
  },
  {
   "cell_type": "code",
   "execution_count": null,
   "id": "5335fa36-e2ff-46ed-9512-0192c561b7fd",
   "metadata": {},
   "outputs": [],
   "source": []
  },
  {
   "cell_type": "code",
   "execution_count": null,
   "id": "d21cca72-6dfd-40ca-9a67-6dc63d707506",
   "metadata": {},
   "outputs": [],
   "source": []
  }
 ],
 "metadata": {
  "kernelspec": {
   "display_name": "Python 3 (ipykernel)",
   "language": "python",
   "name": "python3"
  },
  "language_info": {
   "codemirror_mode": {
    "name": "ipython",
    "version": 3
   },
   "file_extension": ".py",
   "mimetype": "text/x-python",
   "name": "python",
   "nbconvert_exporter": "python",
   "pygments_lexer": "ipython3",
   "version": "3.10.5"
  },
  "widgets": {
   "application/vnd.jupyter.widget-state+json": {
    "state": {},
    "version_major": 2,
    "version_minor": 0
   }
  }
 },
 "nbformat": 4,
 "nbformat_minor": 5
}
