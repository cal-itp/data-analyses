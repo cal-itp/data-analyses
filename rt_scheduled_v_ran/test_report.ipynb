{
 "cells": [
  {
   "cell_type": "markdown",
   "id": "fd4516a5-6a64-4ff4-a037-a51dc06027ab",
   "metadata": {},
   "source": [
    "# {} Vehicle Position Data Available for Scheduled Data"
   ]
  },
  {
   "cell_type": "code",
   "execution_count": 1,
   "id": "84cbcb9a-ed64-4262-915a-d899b3a56d0a",
   "metadata": {},
   "outputs": [
    {
     "name": "stderr",
     "output_type": "stream",
     "text": [
      "/opt/conda/lib/python3.10/site-packages/geopandas/_compat.py:112: UserWarning: The Shapely GEOS version (3.10.3-CAPI-1.16.1) is incompatible with the GEOS version PyGEOS was compiled with (3.10.1-CAPI-1.16.0). Conversions between both will be slow.\n",
      "  warnings.warn(\n"
     ]
    }
   ],
   "source": [
    "import utils\n",
    "import shared_utils\n",
    "from dla_utils import _dla_utils as dla_utils\n",
    "\n",
    "from siuba import *\n",
    "import pandas as pd\n",
    "\n",
    "from IPython.display import display, Markdown\n"
   ]
  },
  {
   "cell_type": "code",
   "execution_count": 2,
   "id": "72d2bc4c-a7e3-4223-b708-1166877d6200",
   "metadata": {},
   "outputs": [],
   "source": [
    "#agency is defined as the single operator (a unique calitp_itp_id) used to subset the data"
   ]
  },
  {
   "cell_type": "code",
   "execution_count": 3,
   "id": "c0219c74-fcd2-49f2-b5c2-e14ea9368356",
   "metadata": {
    "tags": [
     "parameter"
    ]
   },
   "outputs": [],
   "source": [
    "#parameter cell\n",
    "calitp_id = 300"
   ]
  },
  {
   "cell_type": "code",
   "execution_count": 4,
   "id": "1fbcc81b-6de1-49a3-b03f-3a23296b5d03",
   "metadata": {},
   "outputs": [],
   "source": [
    "rt_sched = utils.read_data()\n"
   ]
  },
  {
   "cell_type": "code",
   "execution_count": 5,
   "id": "e1af3c46-8c26-4c44-b9ce-c021df9a187c",
   "metadata": {},
   "outputs": [],
   "source": [
    "rt_sched['calitp_deleted_at'] = pd.to_datetime(rt_sched['calitp_deleted_at'])\n"
   ]
  },
  {
   "cell_type": "code",
   "execution_count": 6,
   "id": "35e6f8e8-9bb0-4e4d-a5f0-157e794310c0",
   "metadata": {},
   "outputs": [],
   "source": [
    "#for now filtering down these columns so we do not have the bad \n",
    "#rt_sched = rt_sched[((rt_sched[\"calitp_itp_id\"]==290) & (rt_sched[\"calitp_url_number\"]==1)) | ((rt_sched[\"calitp_itp_id\"]==300))]\n"
   ]
  },
  {
   "cell_type": "code",
   "execution_count": 7,
   "id": "1cfcc8fb-7eda-4d8e-b4d3-4be1bbbb6df4",
   "metadata": {},
   "outputs": [
    {
     "data": {
      "text/html": [
       "<div>\n",
       "<style scoped>\n",
       "    .dataframe tbody tr th:only-of-type {\n",
       "        vertical-align: middle;\n",
       "    }\n",
       "\n",
       "    .dataframe tbody tr th {\n",
       "        vertical-align: top;\n",
       "    }\n",
       "\n",
       "    .dataframe thead th {\n",
       "        text-align: right;\n",
       "    }\n",
       "</style>\n",
       "<table border=\"1\" class=\"dataframe\">\n",
       "  <thead>\n",
       "    <tr style=\"text-align: right;\">\n",
       "      <th></th>\n",
       "      <th>calitp_itp_id</th>\n",
       "      <th>agency_name</th>\n",
       "      <th>calitp_url_number</th>\n",
       "      <th>route_id</th>\n",
       "      <th>route_short_name</th>\n",
       "      <th>service_date</th>\n",
       "      <th>calitp_extracted_at</th>\n",
       "      <th>calitp_deleted_at</th>\n",
       "      <th>num_sched</th>\n",
       "      <th>num_vp</th>\n",
       "      <th>pct_w_vp</th>\n",
       "      <th>weekday</th>\n",
       "      <th>month</th>\n",
       "    </tr>\n",
       "  </thead>\n",
       "  <tbody>\n",
       "    <tr>\n",
       "      <th>0</th>\n",
       "      <td>290</td>\n",
       "      <td>SamTrans</td>\n",
       "      <td>1</td>\n",
       "      <td>17</td>\n",
       "      <td>17</td>\n",
       "      <td>2022-06-27</td>\n",
       "      <td>2021-04-16</td>\n",
       "      <td>2022-08-08</td>\n",
       "      <td>33</td>\n",
       "      <td>25</td>\n",
       "      <td>0.76</td>\n",
       "      <td>Monday</td>\n",
       "      <td>June</td>\n",
       "    </tr>\n",
       "    <tr>\n",
       "      <th>1</th>\n",
       "      <td>290</td>\n",
       "      <td>SamTrans</td>\n",
       "      <td>1</td>\n",
       "      <td>17</td>\n",
       "      <td>17</td>\n",
       "      <td>2022-06-08</td>\n",
       "      <td>2021-04-16</td>\n",
       "      <td>2022-08-08</td>\n",
       "      <td>33</td>\n",
       "      <td>25</td>\n",
       "      <td>0.76</td>\n",
       "      <td>Wednesday</td>\n",
       "      <td>June</td>\n",
       "    </tr>\n",
       "    <tr>\n",
       "      <th>2</th>\n",
       "      <td>290</td>\n",
       "      <td>SamTrans</td>\n",
       "      <td>1</td>\n",
       "      <td>17</td>\n",
       "      <td>17</td>\n",
       "      <td>2022-06-06</td>\n",
       "      <td>2021-04-16</td>\n",
       "      <td>2022-08-08</td>\n",
       "      <td>33</td>\n",
       "      <td>25</td>\n",
       "      <td>0.76</td>\n",
       "      <td>Monday</td>\n",
       "      <td>June</td>\n",
       "    </tr>\n",
       "    <tr>\n",
       "      <th>3</th>\n",
       "      <td>290</td>\n",
       "      <td>SamTrans</td>\n",
       "      <td>1</td>\n",
       "      <td>17</td>\n",
       "      <td>17</td>\n",
       "      <td>2022-05-31</td>\n",
       "      <td>2021-04-16</td>\n",
       "      <td>2022-08-08</td>\n",
       "      <td>33</td>\n",
       "      <td>25</td>\n",
       "      <td>0.76</td>\n",
       "      <td>Tuesday</td>\n",
       "      <td>May</td>\n",
       "    </tr>\n",
       "    <tr>\n",
       "      <th>4</th>\n",
       "      <td>290</td>\n",
       "      <td>SamTrans</td>\n",
       "      <td>1</td>\n",
       "      <td>17</td>\n",
       "      <td>17</td>\n",
       "      <td>2022-06-13</td>\n",
       "      <td>2021-04-16</td>\n",
       "      <td>2022-08-08</td>\n",
       "      <td>33</td>\n",
       "      <td>25</td>\n",
       "      <td>0.76</td>\n",
       "      <td>Monday</td>\n",
       "      <td>June</td>\n",
       "    </tr>\n",
       "  </tbody>\n",
       "</table>\n",
       "</div>"
      ],
      "text/plain": [
       "   calitp_itp_id agency_name  calitp_url_number route_id route_short_name  \\\n",
       "0            290    SamTrans                  1       17               17   \n",
       "1            290    SamTrans                  1       17               17   \n",
       "2            290    SamTrans                  1       17               17   \n",
       "3            290    SamTrans                  1       17               17   \n",
       "4            290    SamTrans                  1       17               17   \n",
       "\n",
       "  service_date calitp_extracted_at calitp_deleted_at  num_sched  num_vp  \\\n",
       "0   2022-06-27          2021-04-16        2022-08-08         33      25   \n",
       "1   2022-06-08          2021-04-16        2022-08-08         33      25   \n",
       "2   2022-06-06          2021-04-16        2022-08-08         33      25   \n",
       "3   2022-05-31          2021-04-16        2022-08-08         33      25   \n",
       "4   2022-06-13          2021-04-16        2022-08-08         33      25   \n",
       "\n",
       "   pct_w_vp    weekday month  \n",
       "0      0.76     Monday  June  \n",
       "1      0.76  Wednesday  June  \n",
       "2      0.76     Monday  June  \n",
       "3      0.76    Tuesday   May  \n",
       "4      0.76     Monday  June  "
      ]
     },
     "execution_count": 7,
     "metadata": {},
     "output_type": "execute_result"
    }
   ],
   "source": [
    "rt_sched.head()"
   ]
  },
  {
   "cell_type": "code",
   "execution_count": 8,
   "id": "92e688cb-c48e-4ff1-bff8-7b80a6760ba1",
   "metadata": {},
   "outputs": [
    {
     "data": {
      "text/html": [
       "<div>\n",
       "<style scoped>\n",
       "    .dataframe tbody tr th:only-of-type {\n",
       "        vertical-align: middle;\n",
       "    }\n",
       "\n",
       "    .dataframe tbody tr th {\n",
       "        vertical-align: top;\n",
       "    }\n",
       "\n",
       "    .dataframe thead th {\n",
       "        text-align: right;\n",
       "    }\n",
       "</style>\n",
       "<table border=\"1\" class=\"dataframe\">\n",
       "  <thead>\n",
       "    <tr style=\"text-align: right;\">\n",
       "      <th></th>\n",
       "      <th>calitp_itp_id</th>\n",
       "      <th>agency_name</th>\n",
       "      <th>calitp_url_number</th>\n",
       "      <th>route_id</th>\n",
       "      <th>route_short_name</th>\n",
       "      <th>service_date</th>\n",
       "      <th>calitp_extracted_at</th>\n",
       "      <th>calitp_deleted_at</th>\n",
       "      <th>num_sched</th>\n",
       "      <th>num_vp</th>\n",
       "      <th>pct_w_vp</th>\n",
       "      <th>weekday</th>\n",
       "      <th>month</th>\n",
       "    </tr>\n",
       "  </thead>\n",
       "  <tbody>\n",
       "  </tbody>\n",
       "</table>\n",
       "</div>"
      ],
      "text/plain": [
       "Empty DataFrame\n",
       "Columns: [calitp_itp_id, agency_name, calitp_url_number, route_id, route_short_name, service_date, calitp_extracted_at, calitp_deleted_at, num_sched, num_vp, pct_w_vp, weekday, month]\n",
       "Index: []"
      ]
     },
     "execution_count": 8,
     "metadata": {},
     "output_type": "execute_result"
    }
   ],
   "source": [
    "rt_sched>>filter(_.agency_name.isnull())"
   ]
  },
  {
   "cell_type": "code",
   "execution_count": 9,
   "id": "a227cd84-0bc4-4597-915b-9c6af44a943f",
   "metadata": {},
   "outputs": [
    {
     "name": "stdout",
     "output_type": "stream",
     "text": [
      "<class 'pandas.core.frame.DataFrame'>\n",
      "Int64Index: 3950 entries, 0 to 6897\n",
      "Data columns (total 13 columns):\n",
      " #   Column               Non-Null Count  Dtype         \n",
      "---  ------               --------------  -----         \n",
      " 0   calitp_itp_id        3950 non-null   int64         \n",
      " 1   agency_name          3950 non-null   object        \n",
      " 2   calitp_url_number    3950 non-null   int64         \n",
      " 3   route_id             3950 non-null   object        \n",
      " 4   route_short_name     3950 non-null   object        \n",
      " 5   service_date         3950 non-null   datetime64[ns]\n",
      " 6   calitp_extracted_at  3950 non-null   object        \n",
      " 7   calitp_deleted_at    3950 non-null   datetime64[ns]\n",
      " 8   num_sched            3950 non-null   int64         \n",
      " 9   num_vp               3950 non-null   int64         \n",
      " 10  pct_w_vp             3950 non-null   float64       \n",
      " 11  weekday              3950 non-null   object        \n",
      " 12  month                3950 non-null   object        \n",
      "dtypes: datetime64[ns](2), float64(1), int64(4), object(6)\n",
      "memory usage: 432.0+ KB\n"
     ]
    }
   ],
   "source": [
    "rt_sched.info()"
   ]
  },
  {
   "cell_type": "code",
   "execution_count": 10,
   "id": "f356aff2-a461-4f90-9a50-3aafeaf5209f",
   "metadata": {},
   "outputs": [],
   "source": [
    "#getting df with daily pct \n",
    "rt_sched_date = utils.agg_by_date(rt_sched, 'num_sched', 'num_vp')"
   ]
  },
  {
   "cell_type": "code",
   "execution_count": 19,
   "id": "cfd84a69-57c5-4a16-a642-0f4706f7924e",
   "metadata": {},
   "outputs": [],
   "source": [
    "agency = rt_sched>>filter(_.calitp_itp_id == calitp_id)"
   ]
  },
  {
   "cell_type": "code",
   "execution_count": 20,
   "id": "c9f9fd7f-505d-4dd1-95c5-a29cc709b79b",
   "metadata": {},
   "outputs": [],
   "source": [
    "#getting df with daily pct for single agency\n",
    "agency_date = utils.agg_by_date(agency, 'num_sched', 'num_vp')"
   ]
  },
  {
   "cell_type": "code",
   "execution_count": 21,
   "id": "ed3fa7a4-d074-4d03-8eb1-baa706259fa0",
   "metadata": {},
   "outputs": [
    {
     "data": {
      "text/html": [
       "<div>\n",
       "<style scoped>\n",
       "    .dataframe tbody tr th:only-of-type {\n",
       "        vertical-align: middle;\n",
       "    }\n",
       "\n",
       "    .dataframe tbody tr th {\n",
       "        vertical-align: top;\n",
       "    }\n",
       "\n",
       "    .dataframe thead th {\n",
       "        text-align: right;\n",
       "    }\n",
       "</style>\n",
       "<table border=\"1\" class=\"dataframe\">\n",
       "  <thead>\n",
       "    <tr style=\"text-align: right;\">\n",
       "      <th></th>\n",
       "      <th>calitp_itp_id</th>\n",
       "      <th>agency_name</th>\n",
       "      <th>calitp_url_number</th>\n",
       "      <th>service_date</th>\n",
       "      <th>weekday</th>\n",
       "      <th>month</th>\n",
       "      <th>total_num_sched</th>\n",
       "      <th>total_num_vp</th>\n",
       "      <th>pct_w_vp</th>\n",
       "    </tr>\n",
       "  </thead>\n",
       "  <tbody>\n",
       "    <tr>\n",
       "      <th>0</th>\n",
       "      <td>300</td>\n",
       "      <td>Big Blue Bus</td>\n",
       "      <td>0</td>\n",
       "      <td>2022-05-01</td>\n",
       "      <td>Sunday</td>\n",
       "      <td>May</td>\n",
       "      <td>770</td>\n",
       "      <td>526</td>\n",
       "      <td>0.68</td>\n",
       "    </tr>\n",
       "    <tr>\n",
       "      <th>1</th>\n",
       "      <td>300</td>\n",
       "      <td>Big Blue Bus</td>\n",
       "      <td>0</td>\n",
       "      <td>2022-05-02</td>\n",
       "      <td>Monday</td>\n",
       "      <td>May</td>\n",
       "      <td>1516</td>\n",
       "      <td>1066</td>\n",
       "      <td>0.70</td>\n",
       "    </tr>\n",
       "    <tr>\n",
       "      <th>2</th>\n",
       "      <td>300</td>\n",
       "      <td>Big Blue Bus</td>\n",
       "      <td>0</td>\n",
       "      <td>2022-05-03</td>\n",
       "      <td>Tuesday</td>\n",
       "      <td>May</td>\n",
       "      <td>1516</td>\n",
       "      <td>1365</td>\n",
       "      <td>0.90</td>\n",
       "    </tr>\n",
       "    <tr>\n",
       "      <th>3</th>\n",
       "      <td>300</td>\n",
       "      <td>Big Blue Bus</td>\n",
       "      <td>0</td>\n",
       "      <td>2022-05-04</td>\n",
       "      <td>Wednesday</td>\n",
       "      <td>May</td>\n",
       "      <td>1516</td>\n",
       "      <td>1381</td>\n",
       "      <td>0.91</td>\n",
       "    </tr>\n",
       "    <tr>\n",
       "      <th>4</th>\n",
       "      <td>300</td>\n",
       "      <td>Big Blue Bus</td>\n",
       "      <td>0</td>\n",
       "      <td>2022-05-05</td>\n",
       "      <td>Thursday</td>\n",
       "      <td>May</td>\n",
       "      <td>1516</td>\n",
       "      <td>1343</td>\n",
       "      <td>0.89</td>\n",
       "    </tr>\n",
       "  </tbody>\n",
       "</table>\n",
       "</div>"
      ],
      "text/plain": [
       "   calitp_itp_id   agency_name  calitp_url_number service_date    weekday  \\\n",
       "0            300  Big Blue Bus                  0   2022-05-01     Sunday   \n",
       "1            300  Big Blue Bus                  0   2022-05-02     Monday   \n",
       "2            300  Big Blue Bus                  0   2022-05-03    Tuesday   \n",
       "3            300  Big Blue Bus                  0   2022-05-04  Wednesday   \n",
       "4            300  Big Blue Bus                  0   2022-05-05   Thursday   \n",
       "\n",
       "  month  total_num_sched  total_num_vp  pct_w_vp  \n",
       "0   May              770           526      0.68  \n",
       "1   May             1516          1066      0.70  \n",
       "2   May             1516          1365      0.90  \n",
       "3   May             1516          1381      0.91  \n",
       "4   May             1516          1343      0.89  "
      ]
     },
     "execution_count": 21,
     "metadata": {},
     "output_type": "execute_result"
    }
   ],
   "source": [
    "agency_date.head()"
   ]
  },
  {
   "cell_type": "code",
   "execution_count": 22,
   "id": "26fd7549-d853-4f3f-bafc-c2bc7520d04e",
   "metadata": {},
   "outputs": [
    {
     "data": {
      "text/html": [
       "<div>\n",
       "<style scoped>\n",
       "    .dataframe tbody tr th:only-of-type {\n",
       "        vertical-align: middle;\n",
       "    }\n",
       "\n",
       "    .dataframe tbody tr th {\n",
       "        vertical-align: top;\n",
       "    }\n",
       "\n",
       "    .dataframe thead th {\n",
       "        text-align: right;\n",
       "    }\n",
       "</style>\n",
       "<table border=\"1\" class=\"dataframe\">\n",
       "  <thead>\n",
       "    <tr style=\"text-align: right;\">\n",
       "      <th></th>\n",
       "      <th>calitp_itp_id</th>\n",
       "      <th>avg</th>\n",
       "    </tr>\n",
       "  </thead>\n",
       "  <tbody>\n",
       "    <tr>\n",
       "      <th>0</th>\n",
       "      <td>300</td>\n",
       "      <td>0.82</td>\n",
       "    </tr>\n",
       "  </tbody>\n",
       "</table>\n",
       "</div>"
      ],
      "text/plain": [
       "   calitp_itp_id  avg\n",
       "0            300 0.82"
      ]
     },
     "execution_count": 22,
     "metadata": {},
     "output_type": "execute_result"
    }
   ],
   "source": [
    "utils.groupby_onecol(agency_date, 'calitp_itp_id', 'pct_w_vp')"
   ]
  },
  {
   "cell_type": "code",
   "execution_count": 23,
   "id": "f11c43c3-1b53-48f4-b90f-5c2dd289774c",
   "metadata": {},
   "outputs": [
    {
     "data": {
      "text/html": [
       "<div>\n",
       "<style scoped>\n",
       "    .dataframe tbody tr th:only-of-type {\n",
       "        vertical-align: middle;\n",
       "    }\n",
       "\n",
       "    .dataframe tbody tr th {\n",
       "        vertical-align: top;\n",
       "    }\n",
       "\n",
       "    .dataframe thead th {\n",
       "        text-align: right;\n",
       "    }\n",
       "</style>\n",
       "<table border=\"1\" class=\"dataframe\">\n",
       "  <thead>\n",
       "    <tr style=\"text-align: right;\">\n",
       "      <th></th>\n",
       "      <th>calitp_itp_id</th>\n",
       "      <th>avg</th>\n",
       "    </tr>\n",
       "  </thead>\n",
       "  <tbody>\n",
       "    <tr>\n",
       "      <th>0</th>\n",
       "      <td>300</td>\n",
       "      <td>0.85</td>\n",
       "    </tr>\n",
       "  </tbody>\n",
       "</table>\n",
       "</div>"
      ],
      "text/plain": [
       "   calitp_itp_id  avg\n",
       "0            300 0.85"
      ]
     },
     "execution_count": 23,
     "metadata": {},
     "output_type": "execute_result"
    }
   ],
   "source": [
    "utils.groupby_onecol(agency, 'calitp_itp_id', 'pct_w_vp')"
   ]
  },
  {
   "cell_type": "code",
   "execution_count": 16,
   "id": "36eafce5-f788-46fe-9cd7-0488f8e7cee1",
   "metadata": {},
   "outputs": [
    {
     "data": {
      "text/html": [
       "<div>\n",
       "<style scoped>\n",
       "    .dataframe tbody tr th:only-of-type {\n",
       "        vertical-align: middle;\n",
       "    }\n",
       "\n",
       "    .dataframe tbody tr th {\n",
       "        vertical-align: top;\n",
       "    }\n",
       "\n",
       "    .dataframe thead th {\n",
       "        text-align: right;\n",
       "    }\n",
       "</style>\n",
       "<table border=\"1\" class=\"dataframe\">\n",
       "  <thead>\n",
       "    <tr style=\"text-align: right;\">\n",
       "      <th></th>\n",
       "      <th>calitp_itp_id</th>\n",
       "      <th>avg</th>\n",
       "    </tr>\n",
       "  </thead>\n",
       "  <tbody>\n",
       "    <tr>\n",
       "      <th>0</th>\n",
       "      <td>290</td>\n",
       "      <td>0.72</td>\n",
       "    </tr>\n",
       "    <tr>\n",
       "      <th>1</th>\n",
       "      <td>300</td>\n",
       "      <td>0.82</td>\n",
       "    </tr>\n",
       "  </tbody>\n",
       "</table>\n",
       "</div>"
      ],
      "text/plain": [
       "   calitp_itp_id  avg\n",
       "0            290 0.72\n",
       "1            300 0.82"
      ]
     },
     "execution_count": 16,
     "metadata": {},
     "output_type": "execute_result"
    }
   ],
   "source": [
    "utils.groupby_onecol(rt_sched_date, 'calitp_itp_id', 'pct_w_vp')"
   ]
  },
  {
   "cell_type": "code",
   "execution_count": 17,
   "id": "be9a6c0f-9c39-4dff-ab7a-8f813306e374",
   "metadata": {},
   "outputs": [
    {
     "data": {
      "text/html": [
       "<div>\n",
       "<style scoped>\n",
       "    .dataframe tbody tr th:only-of-type {\n",
       "        vertical-align: middle;\n",
       "    }\n",
       "\n",
       "    .dataframe tbody tr th {\n",
       "        vertical-align: top;\n",
       "    }\n",
       "\n",
       "    .dataframe thead th {\n",
       "        text-align: right;\n",
       "    }\n",
       "</style>\n",
       "<table border=\"1\" class=\"dataframe\">\n",
       "  <thead>\n",
       "    <tr style=\"text-align: right;\">\n",
       "      <th></th>\n",
       "      <th>calitp_itp_id</th>\n",
       "      <th>avg</th>\n",
       "    </tr>\n",
       "  </thead>\n",
       "  <tbody>\n",
       "    <tr>\n",
       "      <th>0</th>\n",
       "      <td>290</td>\n",
       "      <td>0.80</td>\n",
       "    </tr>\n",
       "    <tr>\n",
       "      <th>1</th>\n",
       "      <td>300</td>\n",
       "      <td>0.85</td>\n",
       "    </tr>\n",
       "  </tbody>\n",
       "</table>\n",
       "</div>"
      ],
      "text/plain": [
       "   calitp_itp_id  avg\n",
       "0            290 0.80\n",
       "1            300 0.85"
      ]
     },
     "execution_count": 17,
     "metadata": {},
     "output_type": "execute_result"
    }
   ],
   "source": [
    "utils.groupby_onecol(rt_sched, 'calitp_itp_id', 'pct_w_vp')"
   ]
  },
  {
   "cell_type": "code",
   "execution_count": 18,
   "id": "b33e7ad2-761c-4947-a3ea-ff958abc34dc",
   "metadata": {},
   "outputs": [
    {
     "data": {
      "text/html": [
       "<div>\n",
       "<style scoped>\n",
       "    .dataframe tbody tr th:only-of-type {\n",
       "        vertical-align: middle;\n",
       "    }\n",
       "\n",
       "    .dataframe tbody tr th {\n",
       "        vertical-align: top;\n",
       "    }\n",
       "\n",
       "    .dataframe thead th {\n",
       "        text-align: right;\n",
       "    }\n",
       "</style>\n",
       "<table border=\"1\" class=\"dataframe\">\n",
       "  <thead>\n",
       "    <tr style=\"text-align: right;\">\n",
       "      <th></th>\n",
       "      <th>calitp_itp_id</th>\n",
       "      <th>agency_name</th>\n",
       "      <th>calitp_url_number</th>\n",
       "      <th>route_id</th>\n",
       "      <th>route_short_name</th>\n",
       "      <th>service_date</th>\n",
       "      <th>calitp_extracted_at</th>\n",
       "      <th>calitp_deleted_at</th>\n",
       "      <th>num_sched</th>\n",
       "      <th>num_vp</th>\n",
       "      <th>pct_w_vp</th>\n",
       "      <th>weekday</th>\n",
       "      <th>month</th>\n",
       "    </tr>\n",
       "  </thead>\n",
       "  <tbody>\n",
       "    <tr>\n",
       "      <th>5689</th>\n",
       "      <td>290</td>\n",
       "      <td>SamTrans</td>\n",
       "      <td>1</td>\n",
       "      <td>294</td>\n",
       "      <td>294</td>\n",
       "      <td>2022-06-23</td>\n",
       "      <td>2021-04-16</td>\n",
       "      <td>2022-08-08</td>\n",
       "      <td>24</td>\n",
       "      <td>4</td>\n",
       "      <td>0.17</td>\n",
       "      <td>Thursday</td>\n",
       "      <td>June</td>\n",
       "    </tr>\n",
       "  </tbody>\n",
       "</table>\n",
       "</div>"
      ],
      "text/plain": [
       "      calitp_itp_id agency_name  calitp_url_number route_id route_short_name  \\\n",
       "5689            290    SamTrans                  1      294              294   \n",
       "\n",
       "     service_date calitp_extracted_at calitp_deleted_at  num_sched  num_vp  \\\n",
       "5689   2022-06-23          2021-04-16        2022-08-08         24       4   \n",
       "\n",
       "      pct_w_vp   weekday month  \n",
       "5689      0.17  Thursday  June  "
      ]
     },
     "execution_count": 18,
     "metadata": {},
     "output_type": "execute_result"
    }
   ],
   "source": [
    "rt_sched.sample()"
   ]
  },
  {
   "cell_type": "code",
   "execution_count": null,
   "id": "310a822e-9bf5-4e30-a786-ca565bf0a1b1",
   "metadata": {},
   "outputs": [],
   "source": []
  },
  {
   "cell_type": "code",
   "execution_count": null,
   "id": "153e9bc5-8188-4520-99b7-db41365a99f6",
   "metadata": {},
   "outputs": [],
   "source": []
  },
  {
   "cell_type": "code",
   "execution_count": null,
   "id": "a730e8d8-9d7a-4935-adc5-9daa7198b61e",
   "metadata": {},
   "outputs": [],
   "source": []
  },
  {
   "cell_type": "code",
   "execution_count": null,
   "id": "52ec27e8-b845-410b-b823-307823287dfd",
   "metadata": {},
   "outputs": [],
   "source": []
  },
  {
   "cell_type": "code",
   "execution_count": null,
   "id": "d3693d47-7280-4c92-bf57-12f5f6f90ae6",
   "metadata": {},
   "outputs": [],
   "source": []
  },
  {
   "cell_type": "code",
   "execution_count": null,
   "id": "21e7affb-3f4d-4681-88db-cac1544c5fe5",
   "metadata": {},
   "outputs": [],
   "source": []
  },
  {
   "cell_type": "code",
   "execution_count": null,
   "id": "d21cca72-6dfd-40ca-9a67-6dc63d707506",
   "metadata": {},
   "outputs": [],
   "source": []
  }
 ],
 "metadata": {
  "kernelspec": {
   "display_name": "Python 3 (ipykernel)",
   "language": "python",
   "name": "python3"
  },
  "language_info": {
   "codemirror_mode": {
    "name": "ipython",
    "version": 3
   },
   "file_extension": ".py",
   "mimetype": "text/x-python",
   "name": "python",
   "nbconvert_exporter": "python",
   "pygments_lexer": "ipython3",
   "version": "3.10.5"
  },
  "widgets": {
   "application/vnd.jupyter.widget-state+json": {
    "state": {},
    "version_major": 2,
    "version_minor": 0
   }
  }
 },
 "nbformat": 4,
 "nbformat_minor": 5
}
