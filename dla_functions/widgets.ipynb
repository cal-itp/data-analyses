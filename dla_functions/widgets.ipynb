{
 "cells": [
  {
   "cell_type": "markdown",
   "id": "a1278408-22e4-4062-9039-905ff99652ba",
   "metadata": {},
   "source": [
    "# Widget work\n",
    "\n",
    "* Log entries show the print statements correctly\n",
    "* Notebook doesn't render changes in `ipywidgets` when a selection is made in the dropdown\n",
    "\n",
    "\n",
    "Helpful notebooks: [here](https://github.com/CityOfLosAngeles/planning-entitlements/blob/master/notebooks/D1-entitlement-demographics.ipynb) and [here](https://github.com/CityOfLosAngeles/planning-entitlements/blob/master/notebooks/D2-entitlement-regression.ipynb)"
   ]
  },
  {
   "cell_type": "code",
   "execution_count": null,
   "id": "e980c36e-6554-4704-aae1-b6ea8b27c508",
   "metadata": {},
   "outputs": [],
   "source": [
    "# Run this maybe to help with rendering. --ran, still doesn't help with interactivity\n",
    "#!jupyter nbextension enable --py widgetsnbextension"
   ]
  },
  {
   "cell_type": "code",
   "execution_count": 1,
   "id": "ab48e732-d517-4b06-95f4-52ba15fcdba3",
   "metadata": {},
   "outputs": [],
   "source": [
    "import ipywidgets\n",
    "import pandas as pd\n",
    "\n",
    "import _clean_data\n",
    "\n",
    "from IPython.display import Markdown\n",
    "from IPython.core.display import display\n",
    "\n",
    "#df = _clean_data.make_clean_data()\n",
    "#df.to_parquet(\"./data.parquet\")\n",
    "df = pd.read_parquet(\"./data.parquet\")"
   ]
  },
  {
   "cell_type": "code",
   "execution_count": 2,
   "id": "17d96adc-e73c-4524-b382-0dfdd39ec931",
   "metadata": {},
   "outputs": [],
   "source": [
    "def summarize_and_plot(df, select_col, place):\n",
    "    subset = df[df[select_col]==place]\n",
    "\n",
    "    display(Markdown(f\"**Summary Statistics for {place}**\"))\n",
    "    display(Markdown(f\"The number of obligations {place} has is {len(subset)}\"))"
   ]
  },
  {
   "cell_type": "code",
   "execution_count": 3,
   "id": "91c2f6e8-671e-4874-9c87-d65a555b4ef4",
   "metadata": {},
   "outputs": [
    {
     "data": {
      "application/vnd.jupyter.widget-view+json": {
       "model_id": "9d2fbf65846343f79e120b971f2414b2",
       "version_major": 2,
       "version_minor": 0
      },
      "text/plain": [
       "Dropdown(description='Agency', options=('Access Services', 'Agoura Hills', 'Ala-Con Costa T', 'Alameda', 'Alam…"
      ]
     },
     "metadata": {},
     "output_type": "display_data"
    },
    {
     "data": {
      "application/vnd.jupyter.widget-view+json": {
       "model_id": "85b06126a77d4b0583fc00a15751dc37",
       "version_major": 2,
       "version_minor": 0
      },
      "text/plain": [
       "Output()"
      ]
     },
     "metadata": {},
     "output_type": "display_data"
    },
    {
     "data": {
      "text/markdown": [
       "**Summary Statistics for Access Services**"
      ],
      "text/plain": [
       "<IPython.core.display.Markdown object>"
      ]
     },
     "metadata": {},
     "output_type": "display_data"
    },
    {
     "data": {
      "text/markdown": [
       "The number of obligations Access Services has is 17"
      ],
      "text/plain": [
       "<IPython.core.display.Markdown object>"
      ]
     },
     "metadata": {},
     "output_type": "display_data"
    }
   ],
   "source": [
    "select_col = \"agency\"\n",
    "\n",
    "dropdown = ipywidgets.Dropdown(\n",
    "    description=f\"{select_col.title()}\",\n",
    "    options=df[select_col].sort_values().unique().tolist(),\n",
    ")\n",
    "output = ipywidgets.Output()\n",
    "\n",
    "display(dropdown)\n",
    "display(output)\n",
    "\n",
    "def on_selection(*args):\n",
    "    summarize_and_plot(df, select_col, dropdown.value)\n",
    "\n",
    "dropdown.observe(on_selection, names=\"value\")\n",
    "on_selection()"
   ]
  },
  {
   "cell_type": "markdown",
   "id": "52d32f33-2d7d-4881-bdc8-2963c65853c9",
   "metadata": {},
   "source": [
    "![error](./error.PNG)"
   ]
  },
  {
   "cell_type": "code",
   "execution_count": 4,
   "id": "49bc454e-2e70-4adf-a24a-edfc2f63ff0e",
   "metadata": {},
   "outputs": [],
   "source": [
    "## Think about how to wrap above interactive widget into a function\n",
    "# Be able to select agency, county, district, etc\n",
    "def interactive_widget(df, select_col):\n",
    "\n",
    "    dropdown = ipywidgets.Dropdown(\n",
    "        description=f\"{select_col.title()}\",\n",
    "        options=df[select_col].sort_values().unique().tolist(),\n",
    "    )\n",
    "    output = ipywidgets.Output()\n",
    "\n",
    "    display(dropdown)\n",
    "    display(output)\n",
    "\n",
    "    def on_selection(*args):\n",
    "        #with output:\n",
    "            #output.clear_output(wait=True)\n",
    "        summarize_and_plot(df, select_col, dropdown.value)\n",
    "\n",
    "    dropdown.observe(on_selection, names=\"value\")\n",
    "    on_selection()\n"
   ]
  },
  {
   "cell_type": "code",
   "execution_count": 5,
   "id": "3db00a29-f1f3-44ae-b0cd-16bb5b134b61",
   "metadata": {},
   "outputs": [
    {
     "data": {
      "application/vnd.jupyter.widget-view+json": {
       "model_id": "e75bc3506a434e319d7df6eade43e23c",
       "version_major": 2,
       "version_minor": 0
      },
      "text/plain": [
       "Dropdown(description='Dist', options=(0, 1, 2, 3, 4, 5, 6, 7, 8, 9, 10, 11, 12), value=0)"
      ]
     },
     "metadata": {},
     "output_type": "display_data"
    },
    {
     "data": {
      "application/vnd.jupyter.widget-view+json": {
       "model_id": "df30b33000914ae9a2a6be8a173b716f",
       "version_major": 2,
       "version_minor": 0
      },
      "text/plain": [
       "Output()"
      ]
     },
     "metadata": {},
     "output_type": "display_data"
    },
    {
     "data": {
      "text/markdown": [
       "**Summary Statistics for 0**"
      ],
      "text/plain": [
       "<IPython.core.display.Markdown object>"
      ]
     },
     "metadata": {},
     "output_type": "display_data"
    },
    {
     "data": {
      "text/markdown": [
       "The number of obligations 0 has is 4"
      ],
      "text/plain": [
       "<IPython.core.display.Markdown object>"
      ]
     },
     "metadata": {},
     "output_type": "display_data"
    }
   ],
   "source": [
    "interactive_widget(df, \"dist\")"
   ]
  },
  {
   "cell_type": "code",
   "execution_count": null,
   "id": "7c550248-0902-4a53-9c2b-22aa0534ab26",
   "metadata": {},
   "outputs": [],
   "source": []
  }
 ],
 "metadata": {
  "kernelspec": {
   "display_name": "Python 3 (ipykernel)",
   "language": "python",
   "name": "python3"
  },
  "language_info": {
   "codemirror_mode": {
    "name": "ipython",
    "version": 3
   },
   "file_extension": ".py",
   "mimetype": "text/x-python",
   "name": "python",
   "nbconvert_exporter": "python",
   "pygments_lexer": "ipython3",
   "version": "3.9.7"
  }
 },
 "nbformat": 4,
 "nbformat_minor": 5
}
