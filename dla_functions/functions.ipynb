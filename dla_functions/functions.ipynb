{
 "cells": [
  {
   "cell_type": "markdown",
   "id": "835c9e7b-7df8-4a88-9367-69376c4881c3",
   "metadata": {},
   "source": [
    "# DLA functions"
   ]
  },
  {
   "cell_type": "code",
   "execution_count": 1,
   "id": "3b978ffc-d1a9-4675-817d-465ee33a2249",
   "metadata": {},
   "outputs": [
    {
     "name": "stderr",
     "output_type": "stream",
     "text": [
      "/opt/conda/lib/python3.9/site-packages/geopandas/_compat.py:111: UserWarning: The Shapely GEOS version (3.9.1-CAPI-1.14.2) is incompatible with the GEOS version PyGEOS was compiled with (3.10.1-CAPI-1.16.0). Conversions between both will be slow.\n",
      "  warnings.warn(\n"
     ]
    },
    {
     "data": {
      "text/plain": [
       "ThemeRegistry.enable('calitp_theme')"
      ]
     },
     "execution_count": 1,
     "metadata": {},
     "output_type": "execute_result"
    }
   ],
   "source": [
    "import altair as alt\n",
    "import pandas as pd\n",
    "\n",
    "from siuba import *\n",
    "\n",
    "import _clean_data\n",
    "from shared_utils import geography_utils, styleguide\n",
    "from shared_utils import calitp_color_palette as cp\n",
    "\n",
    "alt.themes.register(\"calitp_theme\", styleguide.calitp_theme)\n",
    "# enable\n",
    "alt.themes.enable(\"calitp_theme\")"
   ]
  },
  {
   "cell_type": "code",
   "execution_count": 2,
   "id": "1e42978e-eb4b-473f-98e2-25b03a416c0b",
   "metadata": {},
   "outputs": [],
   "source": [
    "'''\n",
    "df = _clean_data.make_clean_data()\n",
    "df.to_parquet(\"./data.parquet\")\n",
    "'''\n",
    "\n",
    "df = pd.read_parquet(\"./data.parquet\")"
   ]
  },
  {
   "cell_type": "markdown",
   "id": "35d92938-eb82-4a30-ac9f-a21c5f637619",
   "metadata": {},
   "source": [
    "## Aggregation\n",
    "\n",
    "* Aggregate by some group, get count\n",
    "* Also sort in descending order"
   ]
  },
  {
   "cell_type": "code",
   "execution_count": 3,
   "id": "ea3d8ca1-021e-46df-9ddb-c1026becb316",
   "metadata": {},
   "outputs": [
    {
     "data": {
      "text/html": [
       "<div>\n",
       "<style scoped>\n",
       "    .dataframe tbody tr th:only-of-type {\n",
       "        vertical-align: middle;\n",
       "    }\n",
       "\n",
       "    .dataframe tbody tr th {\n",
       "        vertical-align: top;\n",
       "    }\n",
       "\n",
       "    .dataframe thead th {\n",
       "        text-align: right;\n",
       "    }\n",
       "</style>\n",
       "<table border=\"1\" class=\"dataframe\">\n",
       "  <thead>\n",
       "    <tr style=\"text-align: right;\">\n",
       "      <th></th>\n",
       "      <th>dist</th>\n",
       "      <th>total_requested</th>\n",
       "      <th>project_no</th>\n",
       "      <th>prefix</th>\n",
       "      <th>primary_agency_name</th>\n",
       "    </tr>\n",
       "  </thead>\n",
       "  <tbody>\n",
       "    <tr>\n",
       "      <th>0</th>\n",
       "      <td>1</td>\n",
       "      <td>1.751416e+08</td>\n",
       "      <td>1161</td>\n",
       "      <td>25</td>\n",
       "      <td>20</td>\n",
       "    </tr>\n",
       "    <tr>\n",
       "      <th>1</th>\n",
       "      <td>3</td>\n",
       "      <td>1.561961e+09</td>\n",
       "      <td>2517</td>\n",
       "      <td>98</td>\n",
       "      <td>62</td>\n",
       "    </tr>\n",
       "    <tr>\n",
       "      <th>2</th>\n",
       "      <td>4</td>\n",
       "      <td>2.820382e+09</td>\n",
       "      <td>3248</td>\n",
       "      <td>110</td>\n",
       "      <td>151</td>\n",
       "    </tr>\n",
       "    <tr>\n",
       "      <th>3</th>\n",
       "      <td>6</td>\n",
       "      <td>1.597301e+09</td>\n",
       "      <td>3084</td>\n",
       "      <td>71</td>\n",
       "      <td>55</td>\n",
       "    </tr>\n",
       "    <tr>\n",
       "      <th>4</th>\n",
       "      <td>7</td>\n",
       "      <td>4.264832e+09</td>\n",
       "      <td>2787</td>\n",
       "      <td>107</td>\n",
       "      <td>108</td>\n",
       "    </tr>\n",
       "  </tbody>\n",
       "</table>\n",
       "</div>"
      ],
      "text/plain": [
       "   dist  total_requested  project_no  prefix  primary_agency_name\n",
       "0     1     1.751416e+08        1161      25                   20\n",
       "1     3     1.561961e+09        2517      98                   62\n",
       "2     4     2.820382e+09        3248     110                  151\n",
       "3     6     1.597301e+09        3084      71                   55\n",
       "4     7     4.264832e+09        2787     107                  108"
      ]
     },
     "execution_count": 3,
     "metadata": {},
     "output_type": "execute_result"
    }
   ],
   "source": [
    "# How to use the geography_utils function to return 1 df, no merging needed\n",
    "dist_years1 = geography_utils.aggregate_by_geography(\n",
    "    df, \n",
    "    group_cols = [\"dist\"],\n",
    "    sum_cols = [\"total_requested\"],\n",
    "    count_cols = [\"project_no\"],\n",
    "    nunique_cols = [\"primary_agency_name\", \"prefix\"],\n",
    ")\n",
    "\n",
    "dist_years1.head()\n",
    "#dist_agencyn = (df >> group_by(_.dist) >> summarize(n=_.primary_agency_name.nunique()) >> arrange(-_.n))\n",
    "#dist_prefixn = (df >> group_by(_.dist) >> summarize(n=_.prefix.nunique()) >> arrange(-_.n))\n",
    "#sum_funds = df>>group_by(_.dist)>>summarize(n=_.total_requested.sum()) >> arrange(-_.n)\n"
   ]
  },
  {
   "cell_type": "code",
   "execution_count": 4,
   "id": "9f218827-a81e-48c7-b086-94801da8b5c1",
   "metadata": {},
   "outputs": [
    {
     "data": {
      "text/html": [
       "<div>\n",
       "<style scoped>\n",
       "    .dataframe tbody tr th:only-of-type {\n",
       "        vertical-align: middle;\n",
       "    }\n",
       "\n",
       "    .dataframe tbody tr th {\n",
       "        vertical-align: top;\n",
       "    }\n",
       "\n",
       "    .dataframe thead th {\n",
       "        text-align: right;\n",
       "    }\n",
       "</style>\n",
       "<table border=\"1\" class=\"dataframe\">\n",
       "  <thead>\n",
       "    <tr style=\"text-align: right;\">\n",
       "      <th></th>\n",
       "      <th>prepared_y</th>\n",
       "      <th>dist</th>\n",
       "      <th>total_requested</th>\n",
       "      <th>project_no</th>\n",
       "      <th>prefix</th>\n",
       "      <th>primary_agency_name</th>\n",
       "    </tr>\n",
       "  </thead>\n",
       "  <tbody>\n",
       "    <tr>\n",
       "      <th>120</th>\n",
       "      <td>2021.0</td>\n",
       "      <td>0</td>\n",
       "      <td>-1.140550e+03</td>\n",
       "      <td>1.0</td>\n",
       "      <td>1.0</td>\n",
       "      <td>1.0</td>\n",
       "    </tr>\n",
       "    <tr>\n",
       "      <th>106</th>\n",
       "      <td>2021.0</td>\n",
       "      <td>1</td>\n",
       "      <td>1.217239e+07</td>\n",
       "      <td>96.0</td>\n",
       "      <td>13.0</td>\n",
       "      <td>9.0</td>\n",
       "    </tr>\n",
       "    <tr>\n",
       "      <th>107</th>\n",
       "      <td>2021.0</td>\n",
       "      <td>2</td>\n",
       "      <td>7.705425e+06</td>\n",
       "      <td>75.0</td>\n",
       "      <td>15.0</td>\n",
       "      <td>13.0</td>\n",
       "    </tr>\n",
       "    <tr>\n",
       "      <th>108</th>\n",
       "      <td>2021.0</td>\n",
       "      <td>3</td>\n",
       "      <td>2.378141e+08</td>\n",
       "      <td>248.0</td>\n",
       "      <td>34.0</td>\n",
       "      <td>45.0</td>\n",
       "    </tr>\n",
       "    <tr>\n",
       "      <th>109</th>\n",
       "      <td>2021.0</td>\n",
       "      <td>4</td>\n",
       "      <td>1.602708e+08</td>\n",
       "      <td>336.0</td>\n",
       "      <td>37.0</td>\n",
       "      <td>91.0</td>\n",
       "    </tr>\n",
       "  </tbody>\n",
       "</table>\n",
       "</div>"
      ],
      "text/plain": [
       "     prepared_y  dist  total_requested  project_no  prefix  \\\n",
       "120      2021.0     0    -1.140550e+03         1.0     1.0   \n",
       "106      2021.0     1     1.217239e+07        96.0    13.0   \n",
       "107      2021.0     2     7.705425e+06        75.0    15.0   \n",
       "108      2021.0     3     2.378141e+08       248.0    34.0   \n",
       "109      2021.0     4     1.602708e+08       336.0    37.0   \n",
       "\n",
       "     primary_agency_name  \n",
       "120                  1.0  \n",
       "106                  9.0  \n",
       "107                 13.0  \n",
       "108                 45.0  \n",
       "109                 91.0  "
      ]
     },
     "execution_count": 4,
     "metadata": {},
     "output_type": "execute_result"
    }
   ],
   "source": [
    "dist_years2 = geography_utils.aggregate_by_geography(\n",
    "    df, \n",
    "    group_cols = [\"prepared_y\", \"dist\"],\n",
    "    sum_cols = [\"total_requested\"],\n",
    "    count_cols = [\"project_no\"],\n",
    "    nunique_cols = [\"primary_agency_name\", \"prefix\"]\n",
    ").sort_values([\"prepared_y\", \"dist\"], ascending=[False, True])\n",
    "\n",
    "dist_years2.head()"
   ]
  },
  {
   "cell_type": "markdown",
   "id": "08b7ae08-756c-44c9-87d6-52858209f35f",
   "metadata": {},
   "source": [
    "## Put it together"
   ]
  },
  {
   "cell_type": "code",
   "execution_count": 5,
   "id": "fcef8046-0c62-4b5e-a676-84a1a60dd2c7",
   "metadata": {},
   "outputs": [],
   "source": [
    "def aggregate_datasets(df, aggregate_by=[\"dist\"]):\n",
    "    \"\"\"\n",
    "    Parameters:\n",
    "    df: pandas.DataFrame \n",
    "        Cleaned data, the result of _clean_data functions.\n",
    "    aggregate_by: list.\n",
    "        List of functions to group by\n",
    "        Ex: district, county, MPO, RTPA\n",
    "    \n",
    "    Returns: two pandas.DataFrames.\n",
    "            Metrics calculated: \n",
    "            sum of total requested, # unique agencies, # unique prefixes\n",
    "            \n",
    "            first df: aggregated to group (each row is district)\n",
    "            second df: aggregated to year-group (each row is district-year)\n",
    "    \"\"\"\n",
    "    \n",
    "    by_geography = (\n",
    "        geography_utils.aggregate_by_geography(\n",
    "            df[df[aggregate_by].notna()], \n",
    "            group_cols = [aggregate_by],\n",
    "            sum_cols = [\"total_requested\"],\n",
    "            nunique_cols = [\"primary_agency_name\", \"prefix\"]\n",
    "            ).sort_values([\"primary_agency_name\"], ascending=False)\n",
    "    )\n",
    "    \n",
    "    by_geography_year = (\n",
    "        geography_utils.aggregate_by_geography(\n",
    "            df[(df[aggregate_by].notna()) & (df.prepared_y.notna())], \n",
    "            group_cols = [\"prepared_y\", aggregate_by],\n",
    "            sum_cols = [\"total_requested\"],\n",
    "            nunique_cols = [\"primary_agency_name\", \"prefix\"]\n",
    "        ).sort_values([\"prepared_y\", aggregate_by], ascending=[False, True])\n",
    "    )\n",
    "        \n",
    "    return by_geography, by_geography_year\n",
    "  \n",
    "    \n",
    "# Do it all at once\n",
    "# df = _clean_data.make_clean_data()\n",
    "# OR, df = catalog.CLEANED_UP_DATASET.read()\n",
    "df = pd.read_parquet(\"./data.parquet\")\n",
    "\n",
    "\n",
    "dist_years1, dist_years2 = aggregate_datasets(df, aggregate_by=\"dist\")\n",
    "mpo_years1, mpo_years2 = aggregate_datasets(df, aggregate_by=\"mpo\")\n",
    "agency_years1, agency_years2 = aggregate_datasets(df, aggregate_by=\"agency\")"
   ]
  },
  {
   "cell_type": "markdown",
   "id": "f2fee1f2-3f99-45d0-913e-f01c0cec40ad",
   "metadata": {},
   "source": [
    "## Chart Functions"
   ]
  },
  {
   "cell_type": "code",
   "execution_count": 6,
   "id": "48a5ba79-7b72-4eaa-acb6-827dabd8852a",
   "metadata": {},
   "outputs": [
    {
     "data": {
      "text/html": [
       "<style>\n",
       "@import url('https://fonts.googleapis.com/css?family=Raleway');\n",
       "@import url('https://fonts.googleapis.com/css?family=Nunito+Sans');\n",
       "@import url('https://fonts.googleapis.com/css?family=Bitter');\n",
       "</style>\n"
      ],
      "text/plain": [
       "<IPython.core.display.HTML object>"
      ]
     },
     "metadata": {},
     "output_type": "display_data"
    }
   ],
   "source": [
    "%%html\n",
    "<style>\n",
    "@import url('https://fonts.googleapis.com/css?family=Raleway');\n",
    "@import url('https://fonts.googleapis.com/css?family=Nunito+Sans');\n",
    "@import url('https://fonts.googleapis.com/css?family=Bitter');\n",
    "</style>"
   ]
  },
  {
   "cell_type": "markdown",
   "id": "0a98373e-475f-4f6d-9659-9c9ee52c4eab",
   "metadata": {},
   "source": [
    "With `altair`, you can reuse bits of the code to build a chart.\n",
    "\n",
    "If there's a \"base\", some piece that is used over and over for a bar chart or a line chart, you can put that piece in its own function. Future functions can invoke that function, then add additional components, similar to how `.properties()`, `.configure_title()`, etc are added."
   ]
  },
  {
   "cell_type": "code",
   "execution_count": 7,
   "id": "318a11ad-3c13-40f0-b88d-50cbb6b334c6",
   "metadata": {},
   "outputs": [],
   "source": [
    "# Rename columns and then wrangle further for labeling with a function \n",
    "dist_years1 = dist_years1.rename(columns = {\n",
    "    \"primary_agency_name\": \"n_agencies\",\n",
    "    \"prefix\": \"unique_prefixes\",\n",
    "})\n",
    "\n",
    "# Or, use a dictionary to store all the various labeling needed\n",
    "# Can use this to address other labeling, esp for random places\n",
    "# Or, put this dictionary within \n",
    "LABEL_DICT = {\n",
    "    \"prepared_y\": \"Year\",\n",
    "    \"dist\": \"District\",\n",
    "    \"total_requested\": \"Total Requested\",\n",
    "}\n",
    "\n",
    "# Then, use a function to clean up labels \n",
    "def labeling(word):\n",
    "    # Add specific use cases where it's not just first letter capitalized\n",
    "    if (word == \"mpo\") or (word == \"rtpa\"):\n",
    "        word = word.upper()\n",
    "    elif word in LABEL_DICT.keys():\n",
    "        word = LABEL_DICT[word]\n",
    "    else:\n",
    "        word = word.replace('n_', 'Number of ').title()\n",
    "        word = word.replace('unique_', \"Number of Unique \").title()\n",
    "        word = word.replace('_', ' ').title()\n",
    "    \n",
    "    return word\n"
   ]
  },
  {
   "cell_type": "code",
   "execution_count": 8,
   "id": "d832ed8b-d70c-4a56-8f7d-5321dc626c52",
   "metadata": {},
   "outputs": [
    {
     "name": "stdout",
     "output_type": "stream",
     "text": [
      "MPO\n",
      "District\n",
      "Total Requested\n"
     ]
    }
   ],
   "source": [
    "print(labeling(\"mpo\"))\n",
    "print(labeling(\"dist\"))\n",
    "print(labeling(\"total_requested\"))"
   ]
  },
  {
   "cell_type": "code",
   "execution_count": 9,
   "id": "a44286dd-b5d1-4d77-99d2-0aafecc1c96e",
   "metadata": {},
   "outputs": [],
   "source": [
    "def base_bar(df, x_col, y_col):\n",
    "    chart = (alt.Chart(df)\n",
    "             .mark_bar()\n",
    "             .encode(\n",
    "                 x=alt.X(f\"{x_col}:N\", title=labeling(x_col)),\n",
    "                 # Pass the labeling function here. Columns need to be renamed to use this.\n",
    "                 y=alt.Y(f\"{y_col}:Q\", title=labeling(y_col)),\n",
    "             )\n",
    "            )\n",
    "    \n",
    "    return chart\n",
    "\n",
    "\n",
    "def stacked_bar_chart(df, x_col, y_col, color_col, chart_title):\n",
    "    base = base_bar(df, x_col, y_col)\n",
    "    \n",
    "    chart = (base.encode(\n",
    "                 color=alt.Color(f\"{color_col}:N\", \n",
    "                                 scale=alt.Scale(\n",
    "                                     range=cp.CALITP_CATEGORY_BRIGHT_COLORS),\n",
    "                                 legend=alt.Legend(\n",
    "                                     title=labeling(color_col))\n",
    "                                )\n",
    "             ).properties(title=chart_title)\n",
    "    )\n",
    "    \n",
    "    return chart"
   ]
  },
  {
   "cell_type": "code",
   "execution_count": 10,
   "id": "4494e3a5-4da5-4293-88e8-2bff0897c879",
   "metadata": {},
   "outputs": [
    {
     "data": {
      "text/html": [
       "\n",
       "<div id=\"altair-viz-9fa25e1ca8bc4a55bb8c0386ecade8ab\"></div>\n",
       "<script type=\"text/javascript\">\n",
       "  var VEGA_DEBUG = (typeof VEGA_DEBUG == \"undefined\") ? {} : VEGA_DEBUG;\n",
       "  (function(spec, embedOpt){\n",
       "    let outputDiv = document.currentScript.previousElementSibling;\n",
       "    if (outputDiv.id !== \"altair-viz-9fa25e1ca8bc4a55bb8c0386ecade8ab\") {\n",
       "      outputDiv = document.getElementById(\"altair-viz-9fa25e1ca8bc4a55bb8c0386ecade8ab\");\n",
       "    }\n",
       "    const paths = {\n",
       "      \"vega\": \"https://cdn.jsdelivr.net/npm//vega@5?noext\",\n",
       "      \"vega-lib\": \"https://cdn.jsdelivr.net/npm//vega-lib?noext\",\n",
       "      \"vega-lite\": \"https://cdn.jsdelivr.net/npm//vega-lite@4.17.0?noext\",\n",
       "      \"vega-embed\": \"https://cdn.jsdelivr.net/npm//vega-embed@6?noext\",\n",
       "    };\n",
       "\n",
       "    function maybeLoadScript(lib, version) {\n",
       "      var key = `${lib.replace(\"-\", \"\")}_version`;\n",
       "      return (VEGA_DEBUG[key] == version) ?\n",
       "        Promise.resolve(paths[lib]) :\n",
       "        new Promise(function(resolve, reject) {\n",
       "          var s = document.createElement('script');\n",
       "          document.getElementsByTagName(\"head\")[0].appendChild(s);\n",
       "          s.async = true;\n",
       "          s.onload = () => {\n",
       "            VEGA_DEBUG[key] = version;\n",
       "            return resolve(paths[lib]);\n",
       "          };\n",
       "          s.onerror = () => reject(`Error loading script: ${paths[lib]}`);\n",
       "          s.src = paths[lib];\n",
       "        });\n",
       "    }\n",
       "\n",
       "    function showError(err) {\n",
       "      outputDiv.innerHTML = `<div class=\"error\" style=\"color:red;\">${err}</div>`;\n",
       "      throw err;\n",
       "    }\n",
       "\n",
       "    function displayChart(vegaEmbed) {\n",
       "      vegaEmbed(outputDiv, spec, embedOpt)\n",
       "        .catch(err => showError(`Javascript Error: ${err.message}<br>This usually means there's a typo in your chart specification. See the javascript console for the full traceback.`));\n",
       "    }\n",
       "\n",
       "    if(typeof define === \"function\" && define.amd) {\n",
       "      requirejs.config({paths});\n",
       "      require([\"vega-embed\"], displayChart, err => showError(`Error loading script: ${err.message}`));\n",
       "    } else {\n",
       "      maybeLoadScript(\"vega\", \"5\")\n",
       "        .then(() => maybeLoadScript(\"vega-lite\", \"4.17.0\"))\n",
       "        .then(() => maybeLoadScript(\"vega-embed\", \"6\"))\n",
       "        .catch(showError)\n",
       "        .then(() => displayChart(vegaEmbed));\n",
       "    }\n",
       "  })({\"width\": 400, \"height\": 250, \"background\": \"white\", \"config\": {\"title\": {\"fontSize\": 18, \"font\": \"Raleway\", \"anchor\": \"middle\", \"fontColor\": \"#333\", \"fontWeight\": \"bold\", \"offset\": 20}, \"header\": {\"labelFont\": \"Nunito Sans\", \"titleFont\": \"Raleway\"}, \"axis\": {\"domain\": true, \"domainColor\": \"#cbcbcb\", \"grid\": true, \"gridColor\": \"#cbcbcb\", \"gridWidth\": 1, \"labelColor\": \"#474747\", \"labelFontSize\": 10, \"titleColor\": \"#333\", \"tickColor\": \"#cbcbcb\", \"tickSize\": 10, \"titleFontSize\": 12, \"titlePadding\": 10, \"labelPadding\": 4}, \"axisBand\": {\"grid\": false}, \"range\": {\"category_bright\": [\"#2EA8CE\", \"#EB9F3C\", \"#F4D837\", \"#51BF9D\", \"#8CBCCB\", \"#9487C0\"], \"category_bold\": [\"#136C97\", \"#E16B26\", \"#F6BF16\", \"#00896B\", \"#7790A3\", \"#5B559C\"], \"diverging\": [\"#E16B26\", \"#EB9F3C\", \"#f6e7e1\", \"#8CBCCB\", \"#2EA8CE\", \"#136C97\"], \"sequential\": [\"#B9D6DF\", \"#8CBCCB\", \"#2EA8CE\", \"#136C97\", \"#0B405B\"]}, \"legend\": {\"labelFont\": \"Nunito Sans\", \"labelFontSize\": 11, \"symbolType\": \"square\", \"symbolSize\": 30, \"titleFont\": \"Raleway\", \"titleFontSize\": 14, \"titlePadding\": 10, \"padding\": 1, \"orient\": \"right\", \"labelLimit\": 0}, \"view\": {\"stroke\": \"transparent\"}, \"group\": {\"fill\": \"white\"}, \"arc\": {\"fill\": \"#8CBCCB\"}, \"area\": {\"fill\": \"#8CBCCB\"}, \"line\": {\"stroke\": \"#8CBCCB\", \"strokeWidth\": 2}, \"trail\": {\"color\": \"#8CBCCB\", \"stroke\": \"#8CBCCB\", \"strokeWidth\": 0, \"size\": 1}, \"path\": {\"stroke\": \"#8CBCCB\", \"strokeWidth\": 0.5}, \"rect\": {\"fill\": \"#8CBCCB\"}, \"point\": {\"filled\": true, \"shape\": \"circle\"}, \"shape\": {\"stroke\": \"#8CBCCB\"}, \"text\": {\"font\": \"Nunito Sans\", \"color\": \"#8CBCCB\", \"fontSize\": 11, \"align\": \"center\", \"fontWeight\": 400, \"size\": 11}, \"bar\": {\"binSpacing\": 2, \"fill\": \"#8CBCCB\", \"stroke\": false}}, \"data\": {\"name\": \"data-0997ccdee64013cd892067774e246708\"}, \"mark\": \"bar\", \"encoding\": {\"x\": {\"field\": \"prepared_y\", \"title\": \"Year\", \"type\": \"nominal\"}, \"y\": {\"field\": \"primary_agency_name\", \"title\": \"Primary Agency Name\", \"type\": \"quantitative\"}}, \"title\": \"New Chart Title\", \"$schema\": \"https://vega.github.io/schema/vega-lite/v4.17.0.json\", \"datasets\": {\"data-0997ccdee64013cd892067774e246708\": [{\"prepared_y\": 2021.0, \"dist\": 0, \"total_requested\": -1140.55, \"prefix\": 1, \"primary_agency_name\": 1}, {\"prepared_y\": 2021.0, \"dist\": 1, \"total_requested\": 12172393.78, \"prefix\": 13, \"primary_agency_name\": 9}, {\"prepared_y\": 2021.0, \"dist\": 2, \"total_requested\": 7705425.46, \"prefix\": 15, \"primary_agency_name\": 13}, {\"prepared_y\": 2021.0, \"dist\": 3, \"total_requested\": 237814056.60999998, \"prefix\": 34, \"primary_agency_name\": 45}, {\"prepared_y\": 2021.0, \"dist\": 4, \"total_requested\": 160270818.6, \"prefix\": 37, \"primary_agency_name\": 91}, {\"prepared_y\": 2021.0, \"dist\": 5, \"total_requested\": 34817814.54, \"prefix\": 17, \"primary_agency_name\": 13}, {\"prepared_y\": 2021.0, \"dist\": 6, \"total_requested\": 120713722.61, \"prefix\": 21, \"primary_agency_name\": 39}, {\"prepared_y\": 2021.0, \"dist\": 7, \"total_requested\": 633692575.55, \"prefix\": 41, \"primary_agency_name\": 62}, {\"prepared_y\": 2021.0, \"dist\": 8, \"total_requested\": 109192946.05, \"prefix\": 37, \"primary_agency_name\": 43}, {\"prepared_y\": 2021.0, \"dist\": 9, \"total_requested\": 1666528.6400000001, \"prefix\": 7, \"primary_agency_name\": 7}, {\"prepared_y\": 2021.0, \"dist\": 10, \"total_requested\": 52975882.79, \"prefix\": 25, \"primary_agency_name\": 35}, {\"prepared_y\": 2021.0, \"dist\": 11, \"total_requested\": 50960061.87000001, \"prefix\": 27, \"primary_agency_name\": 20}, {\"prepared_y\": 2021.0, \"dist\": 12, \"total_requested\": 210861962.29, \"prefix\": 14, \"primary_agency_name\": 18}, {\"prepared_y\": 2020.0, \"dist\": 1, \"total_requested\": 20413349.31, \"prefix\": 14, \"primary_agency_name\": 12}, {\"prepared_y\": 2020.0, \"dist\": 2, \"total_requested\": 28309222.169999998, \"prefix\": 12, \"primary_agency_name\": 10}, {\"prepared_y\": 2020.0, \"dist\": 3, \"total_requested\": 238918235.92000002, \"prefix\": 38, \"primary_agency_name\": 43}, {\"prepared_y\": 2020.0, \"dist\": 4, \"total_requested\": 381602319.18, \"prefix\": 34, \"primary_agency_name\": 89}, {\"prepared_y\": 2020.0, \"dist\": 5, \"total_requested\": 95153064.33, \"prefix\": 21, \"primary_agency_name\": 21}, {\"prepared_y\": 2020.0, \"dist\": 6, \"total_requested\": 91835932.91, \"prefix\": 27, \"primary_agency_name\": 42}, {\"prepared_y\": 2020.0, \"dist\": 7, \"total_requested\": 958805173.73, \"prefix\": 44, \"primary_agency_name\": 60}, {\"prepared_y\": 2020.0, \"dist\": 8, \"total_requested\": 418671909.18, \"prefix\": 31, \"primary_agency_name\": 45}, {\"prepared_y\": 2020.0, \"dist\": 9, \"total_requested\": 5540564.69, \"prefix\": 9, \"primary_agency_name\": 6}, {\"prepared_y\": 2020.0, \"dist\": 10, \"total_requested\": 350173497.15, \"prefix\": 25, \"primary_agency_name\": 38}, {\"prepared_y\": 2020.0, \"dist\": 11, \"total_requested\": 151733018.07999998, \"prefix\": 28, \"primary_agency_name\": 23}, {\"prepared_y\": 2020.0, \"dist\": 12, \"total_requested\": 21481113.26, \"prefix\": 19, \"primary_agency_name\": 16}, {\"prepared_y\": 2019.0, \"dist\": 1, \"total_requested\": 29233687.63, \"prefix\": 11, \"primary_agency_name\": 12}, {\"prepared_y\": 2019.0, \"dist\": 2, \"total_requested\": 13776756.11, \"prefix\": 15, \"primary_agency_name\": 12}, {\"prepared_y\": 2019.0, \"dist\": 3, \"total_requested\": 211567234.92000002, \"prefix\": 51, \"primary_agency_name\": 46}, {\"prepared_y\": 2019.0, \"dist\": 4, \"total_requested\": 319675519.69, \"prefix\": 41, \"primary_agency_name\": 93}, {\"prepared_y\": 2019.0, \"dist\": 5, \"total_requested\": 103054464.03999999, \"prefix\": 26, \"primary_agency_name\": 22}, {\"prepared_y\": 2019.0, \"dist\": 6, \"total_requested\": 78681786.07000001, \"prefix\": 28, \"primary_agency_name\": 40}, {\"prepared_y\": 2019.0, \"dist\": 7, \"total_requested\": 398693493.87, \"prefix\": 37, \"primary_agency_name\": 67}, {\"prepared_y\": 2019.0, \"dist\": 8, \"total_requested\": 262190726.27, \"prefix\": 36, \"primary_agency_name\": 46}, {\"prepared_y\": 2019.0, \"dist\": 9, \"total_requested\": 5810423.34, \"prefix\": 10, \"primary_agency_name\": 6}, {\"prepared_y\": 2019.0, \"dist\": 10, \"total_requested\": 146082897.87, \"prefix\": 31, \"primary_agency_name\": 44}, {\"prepared_y\": 2019.0, \"dist\": 11, \"total_requested\": 69392790.82000001, \"prefix\": 22, \"primary_agency_name\": 22}, {\"prepared_y\": 2019.0, \"dist\": 12, \"total_requested\": 125096564.38, \"prefix\": 18, \"primary_agency_name\": 21}, {\"prepared_y\": 2018.0, \"dist\": 1, \"total_requested\": 14714058.9, \"prefix\": 15, \"primary_agency_name\": 11}, {\"prepared_y\": 2018.0, \"dist\": 2, \"total_requested\": 62505826.3, \"prefix\": 14, \"primary_agency_name\": 11}, {\"prepared_y\": 2018.0, \"dist\": 3, \"total_requested\": 190472825.93, \"prefix\": 38, \"primary_agency_name\": 47}, {\"prepared_y\": 2018.0, \"dist\": 4, \"total_requested\": 374039033.36, \"prefix\": 51, \"primary_agency_name\": 97}, {\"prepared_y\": 2018.0, \"dist\": 5, \"total_requested\": 47110261.15, \"prefix\": 27, \"primary_agency_name\": 27}, {\"prepared_y\": 2018.0, \"dist\": 6, \"total_requested\": 348440483.51, \"prefix\": 27, \"primary_agency_name\": 42}, {\"prepared_y\": 2018.0, \"dist\": 7, \"total_requested\": 334612369.11, \"prefix\": 39, \"primary_agency_name\": 63}, {\"prepared_y\": 2018.0, \"dist\": 8, \"total_requested\": 461226046.44, \"prefix\": 42, \"primary_agency_name\": 48}, {\"prepared_y\": 2018.0, \"dist\": 9, \"total_requested\": 8539437.52, \"prefix\": 10, \"primary_agency_name\": 6}, {\"prepared_y\": 2018.0, \"dist\": 10, \"total_requested\": 90357990.92, \"prefix\": 27, \"primary_agency_name\": 44}, {\"prepared_y\": 2018.0, \"dist\": 11, \"total_requested\": 109554198.54, \"prefix\": 29, \"primary_agency_name\": 21}, {\"prepared_y\": 2018.0, \"dist\": 12, \"total_requested\": -70409847.44, \"prefix\": 19, \"primary_agency_name\": 28}, {\"prepared_y\": 2017.0, \"dist\": 0, \"total_requested\": 1377000.0, \"prefix\": 1, \"primary_agency_name\": 1}, {\"prepared_y\": 2017.0, \"dist\": 1, \"total_requested\": 26847379.990000002, \"prefix\": 16, \"primary_agency_name\": 10}, {\"prepared_y\": 2017.0, \"dist\": 2, \"total_requested\": 17699884.67, \"prefix\": 14, \"primary_agency_name\": 15}, {\"prepared_y\": 2017.0, \"dist\": 3, \"total_requested\": 201490921.47, \"prefix\": 42, \"primary_agency_name\": 44}, {\"prepared_y\": 2017.0, \"dist\": 4, \"total_requested\": 333171620.13, \"prefix\": 43, \"primary_agency_name\": 98}, {\"prepared_y\": 2017.0, \"dist\": 5, \"total_requested\": 46088042.73, \"prefix\": 26, \"primary_agency_name\": 24}, {\"prepared_y\": 2017.0, \"dist\": 6, \"total_requested\": 172277677.04, \"prefix\": 29, \"primary_agency_name\": 41}, {\"prepared_y\": 2017.0, \"dist\": 7, \"total_requested\": 299707091.05, \"prefix\": 39, \"primary_agency_name\": 73}, {\"prepared_y\": 2017.0, \"dist\": 8, \"total_requested\": 522544663.39000005, \"prefix\": 32, \"primary_agency_name\": 43}, {\"prepared_y\": 2017.0, \"dist\": 9, \"total_requested\": 677178.63, \"prefix\": 6, \"primary_agency_name\": 6}, {\"prepared_y\": 2017.0, \"dist\": 10, \"total_requested\": 115556868.5, \"prefix\": 26, \"primary_agency_name\": 39}, {\"prepared_y\": 2017.0, \"dist\": 11, \"total_requested\": 153790118.85999998, \"prefix\": 22, \"primary_agency_name\": 25}, {\"prepared_y\": 2017.0, \"dist\": 12, \"total_requested\": 72520626.42999999, \"prefix\": 15, \"primary_agency_name\": 13}, {\"prepared_y\": 2016.0, \"dist\": 0, \"total_requested\": 1777000.0, \"prefix\": 2, \"primary_agency_name\": 1}, {\"prepared_y\": 2016.0, \"dist\": 1, \"total_requested\": 32590144.68, \"prefix\": 17, \"primary_agency_name\": 13}, {\"prepared_y\": 2016.0, \"dist\": 2, \"total_requested\": 23224613.79, \"prefix\": 12, \"primary_agency_name\": 12}, {\"prepared_y\": 2016.0, \"dist\": 3, \"total_requested\": 162393401.73, \"prefix\": 44, \"primary_agency_name\": 47}, {\"prepared_y\": 2016.0, \"dist\": 4, \"total_requested\": 502320621.82, \"prefix\": 50, \"primary_agency_name\": 113}, {\"prepared_y\": 2016.0, \"dist\": 5, \"total_requested\": 51970294.92, \"prefix\": 33, \"primary_agency_name\": 27}, {\"prepared_y\": 2016.0, \"dist\": 6, \"total_requested\": 164472940.85, \"prefix\": 30, \"primary_agency_name\": 47}, {\"prepared_y\": 2016.0, \"dist\": 7, \"total_requested\": 490366212.28999996, \"prefix\": 43, \"primary_agency_name\": 76}, {\"prepared_y\": 2016.0, \"dist\": 8, \"total_requested\": 171263279.83, \"prefix\": 38, \"primary_agency_name\": 46}, {\"prepared_y\": 2016.0, \"dist\": 9, \"total_requested\": 8181578.31, \"prefix\": 9, \"primary_agency_name\": 6}, {\"prepared_y\": 2016.0, \"dist\": 10, \"total_requested\": 123437079.25, \"prefix\": 23, \"primary_agency_name\": 39}, {\"prepared_y\": 2016.0, \"dist\": 11, \"total_requested\": 359905282.95, \"prefix\": 29, \"primary_agency_name\": 23}, {\"prepared_y\": 2016.0, \"dist\": 12, \"total_requested\": 2318857396.71, \"prefix\": 16, \"primary_agency_name\": 29}, {\"prepared_y\": 2015.0, \"dist\": 1, \"total_requested\": 12862681.18, \"prefix\": 13, \"primary_agency_name\": 14}, {\"prepared_y\": 2015.0, \"dist\": 2, \"total_requested\": 34064187.089999996, \"prefix\": 13, \"primary_agency_name\": 15}, {\"prepared_y\": 2015.0, \"dist\": 3, \"total_requested\": 114306557.12, \"prefix\": 36, \"primary_agency_name\": 46}, {\"prepared_y\": 2015.0, \"dist\": 4, \"total_requested\": 448655372.86, \"prefix\": 48, \"primary_agency_name\": 109}, {\"prepared_y\": 2015.0, \"dist\": 5, \"total_requested\": 50155629.73, \"prefix\": 38, \"primary_agency_name\": 29}, {\"prepared_y\": 2015.0, \"dist\": 6, \"total_requested\": 145371422.17000002, \"prefix\": 32, \"primary_agency_name\": 49}, {\"prepared_y\": 2015.0, \"dist\": 7, \"total_requested\": 585936360.08, \"prefix\": 41, \"primary_agency_name\": 85}, {\"prepared_y\": 2015.0, \"dist\": 8, \"total_requested\": 345236913.57, \"prefix\": 39, \"primary_agency_name\": 44}, {\"prepared_y\": 2015.0, \"dist\": 9, \"total_requested\": 7736025.58, \"prefix\": 9, \"primary_agency_name\": 7}, {\"prepared_y\": 2015.0, \"dist\": 10, \"total_requested\": 76113056.95, \"prefix\": 29, \"primary_agency_name\": 40}, {\"prepared_y\": 2015.0, \"dist\": 11, \"total_requested\": 196077466.16, \"prefix\": 28, \"primary_agency_name\": 21}, {\"prepared_y\": 2015.0, \"dist\": 12, \"total_requested\": 99384925.61, \"prefix\": 16, \"primary_agency_name\": 18}, {\"prepared_y\": 2014.0, \"dist\": 1, \"total_requested\": 25526974.87, \"prefix\": 12, \"primary_agency_name\": 12}, {\"prepared_y\": 2014.0, \"dist\": 2, \"total_requested\": 38135712.27, \"prefix\": 14, \"primary_agency_name\": 13}, {\"prepared_y\": 2014.0, \"dist\": 3, \"total_requested\": 182470406.22, \"prefix\": 34, \"primary_agency_name\": 43}, {\"prepared_y\": 2014.0, \"dist\": 4, \"total_requested\": 229278385.0, \"prefix\": 52, \"primary_agency_name\": 108}, {\"prepared_y\": 2014.0, \"dist\": 5, \"total_requested\": 58930427.26, \"prefix\": 35, \"primary_agency_name\": 29}, {\"prepared_y\": 2014.0, \"dist\": 6, \"total_requested\": 453751027.6, \"prefix\": 36, \"primary_agency_name\": 44}, {\"prepared_y\": 2014.0, \"dist\": 7, \"total_requested\": 585146074.79, \"prefix\": 42, \"primary_agency_name\": 77}, {\"prepared_y\": 2014.0, \"dist\": 8, \"total_requested\": 276105987.74, \"prefix\": 36, \"primary_agency_name\": 45}, {\"prepared_y\": 2014.0, \"dist\": 9, \"total_requested\": 10374502.19, \"prefix\": 8, \"primary_agency_name\": 7}, {\"prepared_y\": 2014.0, \"dist\": 10, \"total_requested\": 114193397.2, \"prefix\": 30, \"primary_agency_name\": 42}, {\"prepared_y\": 2014.0, \"dist\": 11, \"total_requested\": 61749532.44, \"prefix\": 29, \"primary_agency_name\": 25}, {\"prepared_y\": 2014.0, \"dist\": 12, \"total_requested\": 79217320.63, \"prefix\": 17, \"primary_agency_name\": 25}, {\"prepared_y\": 2013.0, \"dist\": 1, \"total_requested\": 780972.0, \"prefix\": 3, \"primary_agency_name\": 3}, {\"prepared_y\": 2013.0, \"dist\": 2, \"total_requested\": 3461116.6, \"prefix\": 6, \"primary_agency_name\": 6}, {\"prepared_y\": 2013.0, \"dist\": 3, \"total_requested\": 21777253.42, \"prefix\": 11, \"primary_agency_name\": 10}, {\"prepared_y\": 2013.0, \"dist\": 4, \"total_requested\": 57966808.58, \"prefix\": 15, \"primary_agency_name\": 28}, {\"prepared_y\": 2013.0, \"dist\": 5, \"total_requested\": 5342628.83, \"prefix\": 6, \"primary_agency_name\": 3}, {\"prepared_y\": 2013.0, \"dist\": 6, \"total_requested\": 21756083.32, \"prefix\": 10, \"primary_agency_name\": 17}, {\"prepared_y\": 2013.0, \"dist\": 7, \"total_requested\": -23007554.770000003, \"prefix\": 20, \"primary_agency_name\": 18}, {\"prepared_y\": 2013.0, \"dist\": 8, \"total_requested\": 29065265.52, \"prefix\": 13, \"primary_agency_name\": 12}, {\"prepared_y\": 2013.0, \"dist\": 9, \"total_requested\": 7548982.61, \"prefix\": 3, \"primary_agency_name\": 3}, {\"prepared_y\": 2013.0, \"dist\": 10, \"total_requested\": 243494.0, \"prefix\": 4, \"primary_agency_name\": 5}, {\"prepared_y\": 2013.0, \"dist\": 11, \"total_requested\": 4317169.63, \"prefix\": 7, \"primary_agency_name\": 8}, {\"prepared_y\": 2013.0, \"dist\": 12, \"total_requested\": 1136274.38, \"prefix\": 9, \"primary_agency_name\": 9}, {\"prepared_y\": 2012.0, \"dist\": 4, \"total_requested\": 10376579.05, \"prefix\": 2, \"primary_agency_name\": 3}, {\"prepared_y\": 2012.0, \"dist\": 7, \"total_requested\": -123505.0, \"prefix\": 1, \"primary_agency_name\": 1}, {\"prepared_y\": 2012.0, \"dist\": 8, \"total_requested\": -2388520.0, \"prefix\": 2, \"primary_agency_name\": 2}, {\"prepared_y\": 2011.0, \"dist\": 4, \"total_requested\": 3173.04, \"prefix\": 1, \"primary_agency_name\": 1}, {\"prepared_y\": 2011.0, \"dist\": 8, \"total_requested\": -3652620.0, \"prefix\": 3, \"primary_agency_name\": 2}, {\"prepared_y\": 2011.0, \"dist\": 11, \"total_requested\": 1224000.0, \"prefix\": 1, \"primary_agency_name\": 1}, {\"prepared_y\": 2010.0, \"dist\": 8, \"total_requested\": 385000.0, \"prefix\": 1, \"primary_agency_name\": 1}]}}, {\"mode\": \"vega-lite\"});\n",
       "</script>"
      ],
      "text/plain": [
       "alt.Chart(...)"
      ]
     },
     "execution_count": 10,
     "metadata": {},
     "output_type": "execute_result"
    }
   ],
   "source": [
    "base_bar(dist_years2, x_col=\"prepared_y\", \n",
    "          y_col=\"primary_agency_name\").properties(\n",
    "    title=\"New Chart Title\"\n",
    ")"
   ]
  },
  {
   "cell_type": "code",
   "execution_count": 11,
   "id": "ae4f3f25-9547-4b5c-940e-c695fea411be",
   "metadata": {},
   "outputs": [
    {
     "data": {
      "text/html": [
       "\n",
       "<div id=\"altair-viz-fb8721b1ba9c4f9881f9c45271c6b9b0\"></div>\n",
       "<script type=\"text/javascript\">\n",
       "  var VEGA_DEBUG = (typeof VEGA_DEBUG == \"undefined\") ? {} : VEGA_DEBUG;\n",
       "  (function(spec, embedOpt){\n",
       "    let outputDiv = document.currentScript.previousElementSibling;\n",
       "    if (outputDiv.id !== \"altair-viz-fb8721b1ba9c4f9881f9c45271c6b9b0\") {\n",
       "      outputDiv = document.getElementById(\"altair-viz-fb8721b1ba9c4f9881f9c45271c6b9b0\");\n",
       "    }\n",
       "    const paths = {\n",
       "      \"vega\": \"https://cdn.jsdelivr.net/npm//vega@5?noext\",\n",
       "      \"vega-lib\": \"https://cdn.jsdelivr.net/npm//vega-lib?noext\",\n",
       "      \"vega-lite\": \"https://cdn.jsdelivr.net/npm//vega-lite@4.17.0?noext\",\n",
       "      \"vega-embed\": \"https://cdn.jsdelivr.net/npm//vega-embed@6?noext\",\n",
       "    };\n",
       "\n",
       "    function maybeLoadScript(lib, version) {\n",
       "      var key = `${lib.replace(\"-\", \"\")}_version`;\n",
       "      return (VEGA_DEBUG[key] == version) ?\n",
       "        Promise.resolve(paths[lib]) :\n",
       "        new Promise(function(resolve, reject) {\n",
       "          var s = document.createElement('script');\n",
       "          document.getElementsByTagName(\"head\")[0].appendChild(s);\n",
       "          s.async = true;\n",
       "          s.onload = () => {\n",
       "            VEGA_DEBUG[key] = version;\n",
       "            return resolve(paths[lib]);\n",
       "          };\n",
       "          s.onerror = () => reject(`Error loading script: ${paths[lib]}`);\n",
       "          s.src = paths[lib];\n",
       "        });\n",
       "    }\n",
       "\n",
       "    function showError(err) {\n",
       "      outputDiv.innerHTML = `<div class=\"error\" style=\"color:red;\">${err}</div>`;\n",
       "      throw err;\n",
       "    }\n",
       "\n",
       "    function displayChart(vegaEmbed) {\n",
       "      vegaEmbed(outputDiv, spec, embedOpt)\n",
       "        .catch(err => showError(`Javascript Error: ${err.message}<br>This usually means there's a typo in your chart specification. See the javascript console for the full traceback.`));\n",
       "    }\n",
       "\n",
       "    if(typeof define === \"function\" && define.amd) {\n",
       "      requirejs.config({paths});\n",
       "      require([\"vega-embed\"], displayChart, err => showError(`Error loading script: ${err.message}`));\n",
       "    } else {\n",
       "      maybeLoadScript(\"vega\", \"5\")\n",
       "        .then(() => maybeLoadScript(\"vega-lite\", \"4.17.0\"))\n",
       "        .then(() => maybeLoadScript(\"vega-embed\", \"6\"))\n",
       "        .catch(showError)\n",
       "        .then(() => displayChart(vegaEmbed));\n",
       "    }\n",
       "  })({\"width\": 400, \"height\": 250, \"background\": \"white\", \"config\": {\"title\": {\"fontSize\": 18, \"font\": \"Raleway\", \"anchor\": \"middle\", \"fontColor\": \"#333\", \"fontWeight\": \"bold\", \"offset\": 20}, \"header\": {\"labelFont\": \"Nunito Sans\", \"titleFont\": \"Raleway\"}, \"axis\": {\"domain\": true, \"domainColor\": \"#cbcbcb\", \"grid\": true, \"gridColor\": \"#cbcbcb\", \"gridWidth\": 1, \"labelColor\": \"#474747\", \"labelFontSize\": 10, \"titleColor\": \"#333\", \"tickColor\": \"#cbcbcb\", \"tickSize\": 10, \"titleFontSize\": 12, \"titlePadding\": 10, \"labelPadding\": 4}, \"axisBand\": {\"grid\": false}, \"range\": {\"category_bright\": [\"#2EA8CE\", \"#EB9F3C\", \"#F4D837\", \"#51BF9D\", \"#8CBCCB\", \"#9487C0\"], \"category_bold\": [\"#136C97\", \"#E16B26\", \"#F6BF16\", \"#00896B\", \"#7790A3\", \"#5B559C\"], \"diverging\": [\"#E16B26\", \"#EB9F3C\", \"#f6e7e1\", \"#8CBCCB\", \"#2EA8CE\", \"#136C97\"], \"sequential\": [\"#B9D6DF\", \"#8CBCCB\", \"#2EA8CE\", \"#136C97\", \"#0B405B\"]}, \"legend\": {\"labelFont\": \"Nunito Sans\", \"labelFontSize\": 11, \"symbolType\": \"square\", \"symbolSize\": 30, \"titleFont\": \"Raleway\", \"titleFontSize\": 14, \"titlePadding\": 10, \"padding\": 1, \"orient\": \"right\", \"labelLimit\": 0}, \"view\": {\"stroke\": \"transparent\"}, \"group\": {\"fill\": \"white\"}, \"arc\": {\"fill\": \"#8CBCCB\"}, \"area\": {\"fill\": \"#8CBCCB\"}, \"line\": {\"stroke\": \"#8CBCCB\", \"strokeWidth\": 2}, \"trail\": {\"color\": \"#8CBCCB\", \"stroke\": \"#8CBCCB\", \"strokeWidth\": 0, \"size\": 1}, \"path\": {\"stroke\": \"#8CBCCB\", \"strokeWidth\": 0.5}, \"rect\": {\"fill\": \"#8CBCCB\"}, \"point\": {\"filled\": true, \"shape\": \"circle\"}, \"shape\": {\"stroke\": \"#8CBCCB\"}, \"text\": {\"font\": \"Nunito Sans\", \"color\": \"#8CBCCB\", \"fontSize\": 11, \"align\": \"center\", \"fontWeight\": 400, \"size\": 11}, \"bar\": {\"binSpacing\": 2, \"fill\": \"#8CBCCB\", \"stroke\": false}}, \"data\": {\"name\": \"data-0997ccdee64013cd892067774e246708\"}, \"mark\": \"bar\", \"encoding\": {\"color\": {\"field\": \"dist\", \"legend\": {\"title\": \"District\"}, \"scale\": {\"range\": [\"#2EA8CE\", \"#EB9F3C\", \"#F4D837\", \"#51BF9D\", \"#8CBCCB\", \"#9487C0\"]}, \"type\": \"nominal\"}, \"x\": {\"field\": \"prepared_y\", \"title\": \"Year\", \"type\": \"nominal\"}, \"y\": {\"field\": \"primary_agency_name\", \"title\": \"Primary Agency Name\", \"type\": \"quantitative\"}}, \"title\": \"Number of Obligations by District\", \"$schema\": \"https://vega.github.io/schema/vega-lite/v4.17.0.json\", \"datasets\": {\"data-0997ccdee64013cd892067774e246708\": [{\"prepared_y\": 2021.0, \"dist\": 0, \"total_requested\": -1140.55, \"prefix\": 1, \"primary_agency_name\": 1}, {\"prepared_y\": 2021.0, \"dist\": 1, \"total_requested\": 12172393.78, \"prefix\": 13, \"primary_agency_name\": 9}, {\"prepared_y\": 2021.0, \"dist\": 2, \"total_requested\": 7705425.46, \"prefix\": 15, \"primary_agency_name\": 13}, {\"prepared_y\": 2021.0, \"dist\": 3, \"total_requested\": 237814056.60999998, \"prefix\": 34, \"primary_agency_name\": 45}, {\"prepared_y\": 2021.0, \"dist\": 4, \"total_requested\": 160270818.6, \"prefix\": 37, \"primary_agency_name\": 91}, {\"prepared_y\": 2021.0, \"dist\": 5, \"total_requested\": 34817814.54, \"prefix\": 17, \"primary_agency_name\": 13}, {\"prepared_y\": 2021.0, \"dist\": 6, \"total_requested\": 120713722.61, \"prefix\": 21, \"primary_agency_name\": 39}, {\"prepared_y\": 2021.0, \"dist\": 7, \"total_requested\": 633692575.55, \"prefix\": 41, \"primary_agency_name\": 62}, {\"prepared_y\": 2021.0, \"dist\": 8, \"total_requested\": 109192946.05, \"prefix\": 37, \"primary_agency_name\": 43}, {\"prepared_y\": 2021.0, \"dist\": 9, \"total_requested\": 1666528.6400000001, \"prefix\": 7, \"primary_agency_name\": 7}, {\"prepared_y\": 2021.0, \"dist\": 10, \"total_requested\": 52975882.79, \"prefix\": 25, \"primary_agency_name\": 35}, {\"prepared_y\": 2021.0, \"dist\": 11, \"total_requested\": 50960061.87000001, \"prefix\": 27, \"primary_agency_name\": 20}, {\"prepared_y\": 2021.0, \"dist\": 12, \"total_requested\": 210861962.29, \"prefix\": 14, \"primary_agency_name\": 18}, {\"prepared_y\": 2020.0, \"dist\": 1, \"total_requested\": 20413349.31, \"prefix\": 14, \"primary_agency_name\": 12}, {\"prepared_y\": 2020.0, \"dist\": 2, \"total_requested\": 28309222.169999998, \"prefix\": 12, \"primary_agency_name\": 10}, {\"prepared_y\": 2020.0, \"dist\": 3, \"total_requested\": 238918235.92000002, \"prefix\": 38, \"primary_agency_name\": 43}, {\"prepared_y\": 2020.0, \"dist\": 4, \"total_requested\": 381602319.18, \"prefix\": 34, \"primary_agency_name\": 89}, {\"prepared_y\": 2020.0, \"dist\": 5, \"total_requested\": 95153064.33, \"prefix\": 21, \"primary_agency_name\": 21}, {\"prepared_y\": 2020.0, \"dist\": 6, \"total_requested\": 91835932.91, \"prefix\": 27, \"primary_agency_name\": 42}, {\"prepared_y\": 2020.0, \"dist\": 7, \"total_requested\": 958805173.73, \"prefix\": 44, \"primary_agency_name\": 60}, {\"prepared_y\": 2020.0, \"dist\": 8, \"total_requested\": 418671909.18, \"prefix\": 31, \"primary_agency_name\": 45}, {\"prepared_y\": 2020.0, \"dist\": 9, \"total_requested\": 5540564.69, \"prefix\": 9, \"primary_agency_name\": 6}, {\"prepared_y\": 2020.0, \"dist\": 10, \"total_requested\": 350173497.15, \"prefix\": 25, \"primary_agency_name\": 38}, {\"prepared_y\": 2020.0, \"dist\": 11, \"total_requested\": 151733018.07999998, \"prefix\": 28, \"primary_agency_name\": 23}, {\"prepared_y\": 2020.0, \"dist\": 12, \"total_requested\": 21481113.26, \"prefix\": 19, \"primary_agency_name\": 16}, {\"prepared_y\": 2019.0, \"dist\": 1, \"total_requested\": 29233687.63, \"prefix\": 11, \"primary_agency_name\": 12}, {\"prepared_y\": 2019.0, \"dist\": 2, \"total_requested\": 13776756.11, \"prefix\": 15, \"primary_agency_name\": 12}, {\"prepared_y\": 2019.0, \"dist\": 3, \"total_requested\": 211567234.92000002, \"prefix\": 51, \"primary_agency_name\": 46}, {\"prepared_y\": 2019.0, \"dist\": 4, \"total_requested\": 319675519.69, \"prefix\": 41, \"primary_agency_name\": 93}, {\"prepared_y\": 2019.0, \"dist\": 5, \"total_requested\": 103054464.03999999, \"prefix\": 26, \"primary_agency_name\": 22}, {\"prepared_y\": 2019.0, \"dist\": 6, \"total_requested\": 78681786.07000001, \"prefix\": 28, \"primary_agency_name\": 40}, {\"prepared_y\": 2019.0, \"dist\": 7, \"total_requested\": 398693493.87, \"prefix\": 37, \"primary_agency_name\": 67}, {\"prepared_y\": 2019.0, \"dist\": 8, \"total_requested\": 262190726.27, \"prefix\": 36, \"primary_agency_name\": 46}, {\"prepared_y\": 2019.0, \"dist\": 9, \"total_requested\": 5810423.34, \"prefix\": 10, \"primary_agency_name\": 6}, {\"prepared_y\": 2019.0, \"dist\": 10, \"total_requested\": 146082897.87, \"prefix\": 31, \"primary_agency_name\": 44}, {\"prepared_y\": 2019.0, \"dist\": 11, \"total_requested\": 69392790.82000001, \"prefix\": 22, \"primary_agency_name\": 22}, {\"prepared_y\": 2019.0, \"dist\": 12, \"total_requested\": 125096564.38, \"prefix\": 18, \"primary_agency_name\": 21}, {\"prepared_y\": 2018.0, \"dist\": 1, \"total_requested\": 14714058.9, \"prefix\": 15, \"primary_agency_name\": 11}, {\"prepared_y\": 2018.0, \"dist\": 2, \"total_requested\": 62505826.3, \"prefix\": 14, \"primary_agency_name\": 11}, {\"prepared_y\": 2018.0, \"dist\": 3, \"total_requested\": 190472825.93, \"prefix\": 38, \"primary_agency_name\": 47}, {\"prepared_y\": 2018.0, \"dist\": 4, \"total_requested\": 374039033.36, \"prefix\": 51, \"primary_agency_name\": 97}, {\"prepared_y\": 2018.0, \"dist\": 5, \"total_requested\": 47110261.15, \"prefix\": 27, \"primary_agency_name\": 27}, {\"prepared_y\": 2018.0, \"dist\": 6, \"total_requested\": 348440483.51, \"prefix\": 27, \"primary_agency_name\": 42}, {\"prepared_y\": 2018.0, \"dist\": 7, \"total_requested\": 334612369.11, \"prefix\": 39, \"primary_agency_name\": 63}, {\"prepared_y\": 2018.0, \"dist\": 8, \"total_requested\": 461226046.44, \"prefix\": 42, \"primary_agency_name\": 48}, {\"prepared_y\": 2018.0, \"dist\": 9, \"total_requested\": 8539437.52, \"prefix\": 10, \"primary_agency_name\": 6}, {\"prepared_y\": 2018.0, \"dist\": 10, \"total_requested\": 90357990.92, \"prefix\": 27, \"primary_agency_name\": 44}, {\"prepared_y\": 2018.0, \"dist\": 11, \"total_requested\": 109554198.54, \"prefix\": 29, \"primary_agency_name\": 21}, {\"prepared_y\": 2018.0, \"dist\": 12, \"total_requested\": -70409847.44, \"prefix\": 19, \"primary_agency_name\": 28}, {\"prepared_y\": 2017.0, \"dist\": 0, \"total_requested\": 1377000.0, \"prefix\": 1, \"primary_agency_name\": 1}, {\"prepared_y\": 2017.0, \"dist\": 1, \"total_requested\": 26847379.990000002, \"prefix\": 16, \"primary_agency_name\": 10}, {\"prepared_y\": 2017.0, \"dist\": 2, \"total_requested\": 17699884.67, \"prefix\": 14, \"primary_agency_name\": 15}, {\"prepared_y\": 2017.0, \"dist\": 3, \"total_requested\": 201490921.47, \"prefix\": 42, \"primary_agency_name\": 44}, {\"prepared_y\": 2017.0, \"dist\": 4, \"total_requested\": 333171620.13, \"prefix\": 43, \"primary_agency_name\": 98}, {\"prepared_y\": 2017.0, \"dist\": 5, \"total_requested\": 46088042.73, \"prefix\": 26, \"primary_agency_name\": 24}, {\"prepared_y\": 2017.0, \"dist\": 6, \"total_requested\": 172277677.04, \"prefix\": 29, \"primary_agency_name\": 41}, {\"prepared_y\": 2017.0, \"dist\": 7, \"total_requested\": 299707091.05, \"prefix\": 39, \"primary_agency_name\": 73}, {\"prepared_y\": 2017.0, \"dist\": 8, \"total_requested\": 522544663.39000005, \"prefix\": 32, \"primary_agency_name\": 43}, {\"prepared_y\": 2017.0, \"dist\": 9, \"total_requested\": 677178.63, \"prefix\": 6, \"primary_agency_name\": 6}, {\"prepared_y\": 2017.0, \"dist\": 10, \"total_requested\": 115556868.5, \"prefix\": 26, \"primary_agency_name\": 39}, {\"prepared_y\": 2017.0, \"dist\": 11, \"total_requested\": 153790118.85999998, \"prefix\": 22, \"primary_agency_name\": 25}, {\"prepared_y\": 2017.0, \"dist\": 12, \"total_requested\": 72520626.42999999, \"prefix\": 15, \"primary_agency_name\": 13}, {\"prepared_y\": 2016.0, \"dist\": 0, \"total_requested\": 1777000.0, \"prefix\": 2, \"primary_agency_name\": 1}, {\"prepared_y\": 2016.0, \"dist\": 1, \"total_requested\": 32590144.68, \"prefix\": 17, \"primary_agency_name\": 13}, {\"prepared_y\": 2016.0, \"dist\": 2, \"total_requested\": 23224613.79, \"prefix\": 12, \"primary_agency_name\": 12}, {\"prepared_y\": 2016.0, \"dist\": 3, \"total_requested\": 162393401.73, \"prefix\": 44, \"primary_agency_name\": 47}, {\"prepared_y\": 2016.0, \"dist\": 4, \"total_requested\": 502320621.82, \"prefix\": 50, \"primary_agency_name\": 113}, {\"prepared_y\": 2016.0, \"dist\": 5, \"total_requested\": 51970294.92, \"prefix\": 33, \"primary_agency_name\": 27}, {\"prepared_y\": 2016.0, \"dist\": 6, \"total_requested\": 164472940.85, \"prefix\": 30, \"primary_agency_name\": 47}, {\"prepared_y\": 2016.0, \"dist\": 7, \"total_requested\": 490366212.28999996, \"prefix\": 43, \"primary_agency_name\": 76}, {\"prepared_y\": 2016.0, \"dist\": 8, \"total_requested\": 171263279.83, \"prefix\": 38, \"primary_agency_name\": 46}, {\"prepared_y\": 2016.0, \"dist\": 9, \"total_requested\": 8181578.31, \"prefix\": 9, \"primary_agency_name\": 6}, {\"prepared_y\": 2016.0, \"dist\": 10, \"total_requested\": 123437079.25, \"prefix\": 23, \"primary_agency_name\": 39}, {\"prepared_y\": 2016.0, \"dist\": 11, \"total_requested\": 359905282.95, \"prefix\": 29, \"primary_agency_name\": 23}, {\"prepared_y\": 2016.0, \"dist\": 12, \"total_requested\": 2318857396.71, \"prefix\": 16, \"primary_agency_name\": 29}, {\"prepared_y\": 2015.0, \"dist\": 1, \"total_requested\": 12862681.18, \"prefix\": 13, \"primary_agency_name\": 14}, {\"prepared_y\": 2015.0, \"dist\": 2, \"total_requested\": 34064187.089999996, \"prefix\": 13, \"primary_agency_name\": 15}, {\"prepared_y\": 2015.0, \"dist\": 3, \"total_requested\": 114306557.12, \"prefix\": 36, \"primary_agency_name\": 46}, {\"prepared_y\": 2015.0, \"dist\": 4, \"total_requested\": 448655372.86, \"prefix\": 48, \"primary_agency_name\": 109}, {\"prepared_y\": 2015.0, \"dist\": 5, \"total_requested\": 50155629.73, \"prefix\": 38, \"primary_agency_name\": 29}, {\"prepared_y\": 2015.0, \"dist\": 6, \"total_requested\": 145371422.17000002, \"prefix\": 32, \"primary_agency_name\": 49}, {\"prepared_y\": 2015.0, \"dist\": 7, \"total_requested\": 585936360.08, \"prefix\": 41, \"primary_agency_name\": 85}, {\"prepared_y\": 2015.0, \"dist\": 8, \"total_requested\": 345236913.57, \"prefix\": 39, \"primary_agency_name\": 44}, {\"prepared_y\": 2015.0, \"dist\": 9, \"total_requested\": 7736025.58, \"prefix\": 9, \"primary_agency_name\": 7}, {\"prepared_y\": 2015.0, \"dist\": 10, \"total_requested\": 76113056.95, \"prefix\": 29, \"primary_agency_name\": 40}, {\"prepared_y\": 2015.0, \"dist\": 11, \"total_requested\": 196077466.16, \"prefix\": 28, \"primary_agency_name\": 21}, {\"prepared_y\": 2015.0, \"dist\": 12, \"total_requested\": 99384925.61, \"prefix\": 16, \"primary_agency_name\": 18}, {\"prepared_y\": 2014.0, \"dist\": 1, \"total_requested\": 25526974.87, \"prefix\": 12, \"primary_agency_name\": 12}, {\"prepared_y\": 2014.0, \"dist\": 2, \"total_requested\": 38135712.27, \"prefix\": 14, \"primary_agency_name\": 13}, {\"prepared_y\": 2014.0, \"dist\": 3, \"total_requested\": 182470406.22, \"prefix\": 34, \"primary_agency_name\": 43}, {\"prepared_y\": 2014.0, \"dist\": 4, \"total_requested\": 229278385.0, \"prefix\": 52, \"primary_agency_name\": 108}, {\"prepared_y\": 2014.0, \"dist\": 5, \"total_requested\": 58930427.26, \"prefix\": 35, \"primary_agency_name\": 29}, {\"prepared_y\": 2014.0, \"dist\": 6, \"total_requested\": 453751027.6, \"prefix\": 36, \"primary_agency_name\": 44}, {\"prepared_y\": 2014.0, \"dist\": 7, \"total_requested\": 585146074.79, \"prefix\": 42, \"primary_agency_name\": 77}, {\"prepared_y\": 2014.0, \"dist\": 8, \"total_requested\": 276105987.74, \"prefix\": 36, \"primary_agency_name\": 45}, {\"prepared_y\": 2014.0, \"dist\": 9, \"total_requested\": 10374502.19, \"prefix\": 8, \"primary_agency_name\": 7}, {\"prepared_y\": 2014.0, \"dist\": 10, \"total_requested\": 114193397.2, \"prefix\": 30, \"primary_agency_name\": 42}, {\"prepared_y\": 2014.0, \"dist\": 11, \"total_requested\": 61749532.44, \"prefix\": 29, \"primary_agency_name\": 25}, {\"prepared_y\": 2014.0, \"dist\": 12, \"total_requested\": 79217320.63, \"prefix\": 17, \"primary_agency_name\": 25}, {\"prepared_y\": 2013.0, \"dist\": 1, \"total_requested\": 780972.0, \"prefix\": 3, \"primary_agency_name\": 3}, {\"prepared_y\": 2013.0, \"dist\": 2, \"total_requested\": 3461116.6, \"prefix\": 6, \"primary_agency_name\": 6}, {\"prepared_y\": 2013.0, \"dist\": 3, \"total_requested\": 21777253.42, \"prefix\": 11, \"primary_agency_name\": 10}, {\"prepared_y\": 2013.0, \"dist\": 4, \"total_requested\": 57966808.58, \"prefix\": 15, \"primary_agency_name\": 28}, {\"prepared_y\": 2013.0, \"dist\": 5, \"total_requested\": 5342628.83, \"prefix\": 6, \"primary_agency_name\": 3}, {\"prepared_y\": 2013.0, \"dist\": 6, \"total_requested\": 21756083.32, \"prefix\": 10, \"primary_agency_name\": 17}, {\"prepared_y\": 2013.0, \"dist\": 7, \"total_requested\": -23007554.770000003, \"prefix\": 20, \"primary_agency_name\": 18}, {\"prepared_y\": 2013.0, \"dist\": 8, \"total_requested\": 29065265.52, \"prefix\": 13, \"primary_agency_name\": 12}, {\"prepared_y\": 2013.0, \"dist\": 9, \"total_requested\": 7548982.61, \"prefix\": 3, \"primary_agency_name\": 3}, {\"prepared_y\": 2013.0, \"dist\": 10, \"total_requested\": 243494.0, \"prefix\": 4, \"primary_agency_name\": 5}, {\"prepared_y\": 2013.0, \"dist\": 11, \"total_requested\": 4317169.63, \"prefix\": 7, \"primary_agency_name\": 8}, {\"prepared_y\": 2013.0, \"dist\": 12, \"total_requested\": 1136274.38, \"prefix\": 9, \"primary_agency_name\": 9}, {\"prepared_y\": 2012.0, \"dist\": 4, \"total_requested\": 10376579.05, \"prefix\": 2, \"primary_agency_name\": 3}, {\"prepared_y\": 2012.0, \"dist\": 7, \"total_requested\": -123505.0, \"prefix\": 1, \"primary_agency_name\": 1}, {\"prepared_y\": 2012.0, \"dist\": 8, \"total_requested\": -2388520.0, \"prefix\": 2, \"primary_agency_name\": 2}, {\"prepared_y\": 2011.0, \"dist\": 4, \"total_requested\": 3173.04, \"prefix\": 1, \"primary_agency_name\": 1}, {\"prepared_y\": 2011.0, \"dist\": 8, \"total_requested\": -3652620.0, \"prefix\": 3, \"primary_agency_name\": 2}, {\"prepared_y\": 2011.0, \"dist\": 11, \"total_requested\": 1224000.0, \"prefix\": 1, \"primary_agency_name\": 1}, {\"prepared_y\": 2010.0, \"dist\": 8, \"total_requested\": 385000.0, \"prefix\": 1, \"primary_agency_name\": 1}]}}, {\"mode\": \"vega-lite\"});\n",
       "</script>"
      ],
      "text/plain": [
       "alt.Chart(...)"
      ]
     },
     "execution_count": 11,
     "metadata": {},
     "output_type": "execute_result"
    }
   ],
   "source": [
    "stacked_bar_chart(dist_years2, x_col=\"prepared_y\", \n",
    "          y_col=\"primary_agency_name\", color_col=\"dist\",\n",
    "          chart_title=\"Number of Obligations by District\")"
   ]
  },
  {
   "cell_type": "code",
   "execution_count": 12,
   "id": "f451fd37-f9eb-4f35-88cf-67678a015c6a",
   "metadata": {},
   "outputs": [
    {
     "data": {
      "text/html": [
       "\n",
       "<div id=\"altair-viz-8d7813085d0b494b802ff390995582b5\"></div>\n",
       "<script type=\"text/javascript\">\n",
       "  var VEGA_DEBUG = (typeof VEGA_DEBUG == \"undefined\") ? {} : VEGA_DEBUG;\n",
       "  (function(spec, embedOpt){\n",
       "    let outputDiv = document.currentScript.previousElementSibling;\n",
       "    if (outputDiv.id !== \"altair-viz-8d7813085d0b494b802ff390995582b5\") {\n",
       "      outputDiv = document.getElementById(\"altair-viz-8d7813085d0b494b802ff390995582b5\");\n",
       "    }\n",
       "    const paths = {\n",
       "      \"vega\": \"https://cdn.jsdelivr.net/npm//vega@5?noext\",\n",
       "      \"vega-lib\": \"https://cdn.jsdelivr.net/npm//vega-lib?noext\",\n",
       "      \"vega-lite\": \"https://cdn.jsdelivr.net/npm//vega-lite@4.17.0?noext\",\n",
       "      \"vega-embed\": \"https://cdn.jsdelivr.net/npm//vega-embed@6?noext\",\n",
       "    };\n",
       "\n",
       "    function maybeLoadScript(lib, version) {\n",
       "      var key = `${lib.replace(\"-\", \"\")}_version`;\n",
       "      return (VEGA_DEBUG[key] == version) ?\n",
       "        Promise.resolve(paths[lib]) :\n",
       "        new Promise(function(resolve, reject) {\n",
       "          var s = document.createElement('script');\n",
       "          document.getElementsByTagName(\"head\")[0].appendChild(s);\n",
       "          s.async = true;\n",
       "          s.onload = () => {\n",
       "            VEGA_DEBUG[key] = version;\n",
       "            return resolve(paths[lib]);\n",
       "          };\n",
       "          s.onerror = () => reject(`Error loading script: ${paths[lib]}`);\n",
       "          s.src = paths[lib];\n",
       "        });\n",
       "    }\n",
       "\n",
       "    function showError(err) {\n",
       "      outputDiv.innerHTML = `<div class=\"error\" style=\"color:red;\">${err}</div>`;\n",
       "      throw err;\n",
       "    }\n",
       "\n",
       "    function displayChart(vegaEmbed) {\n",
       "      vegaEmbed(outputDiv, spec, embedOpt)\n",
       "        .catch(err => showError(`Javascript Error: ${err.message}<br>This usually means there's a typo in your chart specification. See the javascript console for the full traceback.`));\n",
       "    }\n",
       "\n",
       "    if(typeof define === \"function\" && define.amd) {\n",
       "      requirejs.config({paths});\n",
       "      require([\"vega-embed\"], displayChart, err => showError(`Error loading script: ${err.message}`));\n",
       "    } else {\n",
       "      maybeLoadScript(\"vega\", \"5\")\n",
       "        .then(() => maybeLoadScript(\"vega-lite\", \"4.17.0\"))\n",
       "        .then(() => maybeLoadScript(\"vega-embed\", \"6\"))\n",
       "        .catch(showError)\n",
       "        .then(() => displayChart(vegaEmbed));\n",
       "    }\n",
       "  })({\"width\": 400, \"height\": 250, \"background\": \"white\", \"config\": {\"title\": {\"fontSize\": 18, \"font\": \"Raleway\", \"anchor\": \"middle\", \"fontColor\": \"#333\", \"fontWeight\": \"bold\", \"offset\": 20}, \"header\": {\"labelFont\": \"Nunito Sans\", \"titleFont\": \"Raleway\"}, \"axis\": {\"domain\": true, \"domainColor\": \"#cbcbcb\", \"grid\": true, \"gridColor\": \"#cbcbcb\", \"gridWidth\": 1, \"labelColor\": \"#474747\", \"labelFontSize\": 10, \"titleColor\": \"#333\", \"tickColor\": \"#cbcbcb\", \"tickSize\": 10, \"titleFontSize\": 12, \"titlePadding\": 10, \"labelPadding\": 4}, \"axisBand\": {\"grid\": false}, \"range\": {\"category_bright\": [\"#2EA8CE\", \"#EB9F3C\", \"#F4D837\", \"#51BF9D\", \"#8CBCCB\", \"#9487C0\"], \"category_bold\": [\"#136C97\", \"#E16B26\", \"#F6BF16\", \"#00896B\", \"#7790A3\", \"#5B559C\"], \"diverging\": [\"#E16B26\", \"#EB9F3C\", \"#f6e7e1\", \"#8CBCCB\", \"#2EA8CE\", \"#136C97\"], \"sequential\": [\"#B9D6DF\", \"#8CBCCB\", \"#2EA8CE\", \"#136C97\", \"#0B405B\"]}, \"legend\": {\"labelFont\": \"Nunito Sans\", \"labelFontSize\": 11, \"symbolType\": \"square\", \"symbolSize\": 30, \"titleFont\": \"Raleway\", \"titleFontSize\": 14, \"titlePadding\": 10, \"padding\": 1, \"orient\": \"right\", \"labelLimit\": 0}, \"view\": {\"stroke\": \"transparent\"}, \"group\": {\"fill\": \"white\"}, \"arc\": {\"fill\": \"#8CBCCB\"}, \"area\": {\"fill\": \"#8CBCCB\"}, \"line\": {\"stroke\": \"#8CBCCB\", \"strokeWidth\": 2}, \"trail\": {\"color\": \"#8CBCCB\", \"stroke\": \"#8CBCCB\", \"strokeWidth\": 0, \"size\": 1}, \"path\": {\"stroke\": \"#8CBCCB\", \"strokeWidth\": 0.5}, \"rect\": {\"fill\": \"#8CBCCB\"}, \"point\": {\"filled\": true, \"shape\": \"circle\"}, \"shape\": {\"stroke\": \"#8CBCCB\"}, \"text\": {\"font\": \"Nunito Sans\", \"color\": \"#8CBCCB\", \"fontSize\": 11, \"align\": \"center\", \"fontWeight\": 400, \"size\": 11}, \"bar\": {\"binSpacing\": 2, \"fill\": \"#8CBCCB\", \"stroke\": false}}, \"data\": {\"name\": \"data-4e2c86c8482efc172e32d1aac2f9a236\"}, \"mark\": \"bar\", \"encoding\": {\"x\": {\"field\": \"dist\", \"title\": \"District\", \"type\": \"nominal\"}, \"y\": {\"field\": \"unique_prefixes\", \"title\": \"Unique Prefixes\", \"type\": \"quantitative\"}}, \"title\": \"Number of Unique Prefixes by District\", \"$schema\": \"https://vega.github.io/schema/vega-lite/v4.17.0.json\", \"datasets\": {\"data-4e2c86c8482efc172e32d1aac2f9a236\": [{\"dist\": 4, \"total_requested\": 2820381522.31, \"unique_prefixes\": 110, \"n_agencies\": 151}, {\"dist\": 7, \"total_requested\": 4264832122.16, \"unique_prefixes\": 107, \"n_agencies\": 108}, {\"dist\": 8, \"total_requested\": 2589841597.99, \"unique_prefixes\": 92, \"n_agencies\": 64}, {\"dist\": 3, \"total_requested\": 1561960671.34, \"unique_prefixes\": 98, \"n_agencies\": 62}, {\"dist\": 10, \"total_requested\": 1069134164.63, \"unique_prefixes\": 65, \"n_agencies\": 56}, {\"dist\": 6, \"total_requested\": 1597301076.08, \"unique_prefixes\": 71, \"n_agencies\": 55}, {\"dist\": 5, \"total_requested\": 492622627.53, \"unique_prefixes\": 63, \"n_agencies\": 39}, {\"dist\": 12, \"total_requested\": 2858146336.25, \"unique_prefixes\": 41, \"n_agencies\": 36}, {\"dist\": 11, \"total_requested\": 1159054839.35, \"unique_prefixes\": 70, \"n_agencies\": 31}, {\"dist\": 2, \"total_requested\": 228882744.46, \"unique_prefixes\": 31, \"n_agencies\": 25}, {\"dist\": 1, \"total_requested\": 175141642.34, \"unique_prefixes\": 25, \"n_agencies\": 20}, {\"dist\": 9, \"total_requested\": 56075221.51, \"unique_prefixes\": 16, \"n_agencies\": 9}, {\"dist\": 0, \"total_requested\": 3152859.45, \"unique_prefixes\": 2, \"n_agencies\": 1}]}}, {\"mode\": \"vega-lite\"});\n",
       "</script>"
      ],
      "text/plain": [
       "alt.Chart(...)"
      ]
     },
     "execution_count": 12,
     "metadata": {},
     "output_type": "execute_result"
    }
   ],
   "source": [
    "base_bar(dist_years1, x_col=\"dist\", \n",
    "         y_col=\"unique_prefixes\").properties(\n",
    "    title=\"Number of Unique Prefixes by District\")"
   ]
  },
  {
   "cell_type": "code",
   "execution_count": 13,
   "id": "37e83385-6870-471f-a9de-efd5f48fe6d9",
   "metadata": {},
   "outputs": [
    {
     "data": {
      "text/html": [
       "\n",
       "<div id=\"altair-viz-b339444995f14136a5f60c4a24bc5c38\"></div>\n",
       "<script type=\"text/javascript\">\n",
       "  var VEGA_DEBUG = (typeof VEGA_DEBUG == \"undefined\") ? {} : VEGA_DEBUG;\n",
       "  (function(spec, embedOpt){\n",
       "    let outputDiv = document.currentScript.previousElementSibling;\n",
       "    if (outputDiv.id !== \"altair-viz-b339444995f14136a5f60c4a24bc5c38\") {\n",
       "      outputDiv = document.getElementById(\"altair-viz-b339444995f14136a5f60c4a24bc5c38\");\n",
       "    }\n",
       "    const paths = {\n",
       "      \"vega\": \"https://cdn.jsdelivr.net/npm//vega@5?noext\",\n",
       "      \"vega-lib\": \"https://cdn.jsdelivr.net/npm//vega-lib?noext\",\n",
       "      \"vega-lite\": \"https://cdn.jsdelivr.net/npm//vega-lite@4.17.0?noext\",\n",
       "      \"vega-embed\": \"https://cdn.jsdelivr.net/npm//vega-embed@6?noext\",\n",
       "    };\n",
       "\n",
       "    function maybeLoadScript(lib, version) {\n",
       "      var key = `${lib.replace(\"-\", \"\")}_version`;\n",
       "      return (VEGA_DEBUG[key] == version) ?\n",
       "        Promise.resolve(paths[lib]) :\n",
       "        new Promise(function(resolve, reject) {\n",
       "          var s = document.createElement('script');\n",
       "          document.getElementsByTagName(\"head\")[0].appendChild(s);\n",
       "          s.async = true;\n",
       "          s.onload = () => {\n",
       "            VEGA_DEBUG[key] = version;\n",
       "            return resolve(paths[lib]);\n",
       "          };\n",
       "          s.onerror = () => reject(`Error loading script: ${paths[lib]}`);\n",
       "          s.src = paths[lib];\n",
       "        });\n",
       "    }\n",
       "\n",
       "    function showError(err) {\n",
       "      outputDiv.innerHTML = `<div class=\"error\" style=\"color:red;\">${err}</div>`;\n",
       "      throw err;\n",
       "    }\n",
       "\n",
       "    function displayChart(vegaEmbed) {\n",
       "      vegaEmbed(outputDiv, spec, embedOpt)\n",
       "        .catch(err => showError(`Javascript Error: ${err.message}<br>This usually means there's a typo in your chart specification. See the javascript console for the full traceback.`));\n",
       "    }\n",
       "\n",
       "    if(typeof define === \"function\" && define.amd) {\n",
       "      requirejs.config({paths});\n",
       "      require([\"vega-embed\"], displayChart, err => showError(`Error loading script: ${err.message}`));\n",
       "    } else {\n",
       "      maybeLoadScript(\"vega\", \"5\")\n",
       "        .then(() => maybeLoadScript(\"vega-lite\", \"4.17.0\"))\n",
       "        .then(() => maybeLoadScript(\"vega-embed\", \"6\"))\n",
       "        .catch(showError)\n",
       "        .then(() => displayChart(vegaEmbed));\n",
       "    }\n",
       "  })({\"width\": 400, \"height\": 250, \"background\": \"white\", \"config\": {\"title\": {\"fontSize\": 18, \"font\": \"Raleway\", \"anchor\": \"middle\", \"fontColor\": \"#333\", \"fontWeight\": \"bold\", \"offset\": 20}, \"header\": {\"labelFont\": \"Nunito Sans\", \"titleFont\": \"Raleway\"}, \"axis\": {\"domain\": true, \"domainColor\": \"#cbcbcb\", \"grid\": true, \"gridColor\": \"#cbcbcb\", \"gridWidth\": 1, \"labelColor\": \"#474747\", \"labelFontSize\": 10, \"titleColor\": \"#333\", \"tickColor\": \"#cbcbcb\", \"tickSize\": 10, \"titleFontSize\": 12, \"titlePadding\": 10, \"labelPadding\": 4}, \"axisBand\": {\"grid\": false}, \"range\": {\"category_bright\": [\"#2EA8CE\", \"#EB9F3C\", \"#F4D837\", \"#51BF9D\", \"#8CBCCB\", \"#9487C0\"], \"category_bold\": [\"#136C97\", \"#E16B26\", \"#F6BF16\", \"#00896B\", \"#7790A3\", \"#5B559C\"], \"diverging\": [\"#E16B26\", \"#EB9F3C\", \"#f6e7e1\", \"#8CBCCB\", \"#2EA8CE\", \"#136C97\"], \"sequential\": [\"#B9D6DF\", \"#8CBCCB\", \"#2EA8CE\", \"#136C97\", \"#0B405B\"]}, \"legend\": {\"labelFont\": \"Nunito Sans\", \"labelFontSize\": 11, \"symbolType\": \"square\", \"symbolSize\": 30, \"titleFont\": \"Raleway\", \"titleFontSize\": 14, \"titlePadding\": 10, \"padding\": 1, \"orient\": \"right\", \"labelLimit\": 0}, \"view\": {\"stroke\": \"transparent\"}, \"group\": {\"fill\": \"white\"}, \"arc\": {\"fill\": \"#8CBCCB\"}, \"area\": {\"fill\": \"#8CBCCB\"}, \"line\": {\"stroke\": \"#8CBCCB\", \"strokeWidth\": 2}, \"trail\": {\"color\": \"#8CBCCB\", \"stroke\": \"#8CBCCB\", \"strokeWidth\": 0, \"size\": 1}, \"path\": {\"stroke\": \"#8CBCCB\", \"strokeWidth\": 0.5}, \"rect\": {\"fill\": \"#8CBCCB\"}, \"point\": {\"filled\": true, \"shape\": \"circle\"}, \"shape\": {\"stroke\": \"#8CBCCB\"}, \"text\": {\"font\": \"Nunito Sans\", \"color\": \"#8CBCCB\", \"fontSize\": 11, \"align\": \"center\", \"fontWeight\": 400, \"size\": 11}, \"bar\": {\"binSpacing\": 2, \"fill\": \"#8CBCCB\", \"stroke\": false}}, \"data\": {\"name\": \"data-8fcd6fec57819ffed8efeb675c92ad07\"}, \"mark\": \"bar\", \"encoding\": {\"x\": {\"field\": \"mpo\", \"title\": \"MPO\", \"type\": \"nominal\"}, \"y\": {\"field\": \"prefix\", \"title\": \"Prefix\", \"type\": \"quantitative\"}}, \"title\": \"Number of Unique Prefixes by MPO\", \"$schema\": \"https://vega.github.io/schema/vega-lite/v4.17.0.json\", \"datasets\": {\"data-8fcd6fec57819ffed8efeb675c92ad07\": [{\"mpo\": \"SCAG\", \"total_requested\": 8795052945.36, \"prefix\": 166, \"primary_agency_name\": 262}, {\"mpo\": \"MTC\", \"total_requested\": 2815618237.9, \"prefix\": 109, \"primary_agency_name\": 146}, {\"mpo\": \"NON-MPO\", \"total_requested\": 1953122497.18, \"prefix\": 87, \"primary_agency_name\": 123}, {\"mpo\": \"STANCOG\", \"total_requested\": 631044530.43, \"prefix\": 42, \"primary_agency_name\": 90}, {\"mpo\": \"SANDAG\", \"total_requested\": -34846720.53, \"prefix\": 36, \"primary_agency_name\": 74}, {\"mpo\": \"SJCOG\", \"total_requested\": 77797089.47, \"prefix\": 26, \"primary_agency_name\": 73}, {\"mpo\": \"MCAG\", \"total_requested\": 68366380.05, \"prefix\": 26, \"primary_agency_name\": 50}, {\"mpo\": \"KCOG\", \"total_requested\": 1021265070.26, \"prefix\": 48, \"primary_agency_name\": 44}, {\"mpo\": \"SACOG\", \"total_requested\": 1370403655.48, \"prefix\": 81, \"primary_agency_name\": 38}, {\"mpo\": \"CFCG\", \"total_requested\": 388754085.07, \"prefix\": 37, \"primary_agency_name\": 24}, {\"mpo\": \"COFCG\", \"total_requested\": -8082258.51, \"prefix\": 10, \"primary_agency_name\": 22}, {\"mpo\": \"SDAG\", \"total_requested\": 636433884.63, \"prefix\": 50, \"primary_agency_name\": 18}, {\"mpo\": \"AMBAG\", \"total_requested\": 202368947.29, \"prefix\": 41, \"primary_agency_name\": 16}, {\"mpo\": \"ER NONE\", \"total_requested\": 2278606.12, \"prefix\": 7, \"primary_agency_name\": 15}, {\"mpo\": \"SJCG\", \"total_requested\": 244898911.96, \"prefix\": 28, \"primary_agency_name\": 13}, {\"mpo\": \"TCAG\", \"total_requested\": 154402756.93, \"prefix\": 22, \"primary_agency_name\": 12}, {\"mpo\": \"SLAC\", \"total_requested\": 95666858.26, \"prefix\": 29, \"primary_agency_name\": 10}, {\"mpo\": \"STACOG\", \"total_requested\": -1656783.57, \"prefix\": 9, \"primary_agency_name\": 10}, {\"mpo\": \"SBCG\", \"total_requested\": 184076681.09, \"prefix\": 27, \"primary_agency_name\": 9}, {\"mpo\": \"MCTC\", \"total_requested\": 25151080.79, \"prefix\": 16, \"primary_agency_name\": 9}, {\"mpo\": \"BCAG\", \"total_requested\": 122121891.65, \"prefix\": 22, \"primary_agency_name\": 8}, {\"mpo\": \"KCAG\", \"total_requested\": 25922454.04, \"prefix\": 13, \"primary_agency_name\": 7}, {\"mpo\": \"STPA\", \"total_requested\": 68027494.55, \"prefix\": 18, \"primary_agency_name\": 5}, {\"mpo\": \"TMPO\", \"total_requested\": 30271474.5, \"prefix\": 10, \"primary_agency_name\": 4}, {\"mpo\": \"STNCOG\", \"total_requested\": 1818643.0, \"prefix\": 3, \"primary_agency_name\": 3}, {\"mpo\": \"FCOG\", \"total_requested\": 1948789.84, \"prefix\": 2, \"primary_agency_name\": 2}, {\"mpo\": \"MNOLTC\", \"total_requested\": 0.0, \"prefix\": 1, \"primary_agency_name\": 1}, {\"mpo\": \"SHASTA\", \"total_requested\": 218000.0, \"prefix\": 1, \"primary_agency_name\": 1}, {\"mpo\": \"FSTIP\", \"total_requested\": -29901.84, \"prefix\": 1, \"primary_agency_name\": 1}, {\"mpo\": \"SANDA\", \"total_requested\": 188924.0, \"prefix\": 1, \"primary_agency_name\": 1}, {\"mpo\": \"SLOCOG\", \"total_requested\": 3572000.0, \"prefix\": 1, \"primary_agency_name\": 1}]}}, {\"mode\": \"vega-lite\"});\n",
       "</script>"
      ],
      "text/plain": [
       "alt.Chart(...)"
      ]
     },
     "execution_count": 13,
     "metadata": {},
     "output_type": "execute_result"
    }
   ],
   "source": [
    "base_bar(mpo_years1, x_col=\"mpo\", \n",
    "         y_col=\"prefix\").properties(\n",
    "    title=\"Number of Unique Prefixes by MPO\")"
   ]
  },
  {
   "cell_type": "code",
   "execution_count": 14,
   "id": "b21977d9-d557-4af3-9ec9-ee55a36f31b4",
   "metadata": {},
   "outputs": [],
   "source": [
    "from plotnine import *\n",
    "\n",
    "import ipywidgets as widgets\n",
    "from ipywidgets import *\n",
    "from IPython.display import Markdown\n",
    "from IPython.core.display import display"
   ]
  },
  {
   "cell_type": "code",
   "execution_count": 15,
   "id": "5d36e75a-65d6-409a-be0e-17725a75ca1c",
   "metadata": {},
   "outputs": [],
   "source": [
    "def summarize_and_plot(df, select_col, place):\n",
    "    subset = df[df[select_col]==place].rename(\n",
    "        columns = {\n",
    "            \"fed_requested\": \"Federal\",\n",
    "            \"ac_requested\": \"AC\",\n",
    "            \"total_requested\": \"Total\",\n",
    "        }\n",
    "    )\n",
    "\n",
    "    display(Markdown(f\"**Summary Statistics for {place}**\"))\n",
    "    display(Markdown(f\"The number of obligations {place} has is {len(subset)}\"))\n",
    "    '''\n",
    "    display(Markdown(\n",
    "        f\"The number of prefix codes {place} uses is {subset.prefix.nunique()}\"))\n",
    "\n",
    "    pd.set_option(\"display.max_columns\", None)\n",
    "\n",
    "    funds = subset[['Federal','AC','Total']].describe()\n",
    "    display(funds.style.format(precision=2, na_rep='MISSING', thousands=\",\"))\n",
    "\n",
    "    display(Markdown(f\"**Top Project Types in {place}**\"))\n",
    "\n",
    "    work_df = subset >> count(_.type_of_work) >> arrange(-_.n)\n",
    "    display(work_df.head(5))\n",
    "    '''"
   ]
  },
  {
   "cell_type": "code",
   "execution_count": 16,
   "id": "37c2c7f6-4a1d-4bf5-baff-5c7684d9f3c5",
   "metadata": {},
   "outputs": [],
   "source": [
    "import ipywidgets\n",
    "\n",
    "def interactive_widget(df, select_col):\n",
    "    \n",
    "    dropdown = ipywidgets.Dropdown(\n",
    "        description=f\"{select_col.title()}\",\n",
    "        options=df[select_col].sort_values().unique().tolist()\n",
    "    )\n",
    "    output = ipywidgets.Output()\n",
    "\n",
    "    display(dropdown)\n",
    "    display(output)\n",
    "\n",
    "        \n",
    "    def on_selection(*args):\n",
    "        summarize_and_plot(df, select_col, dropdown.value)\n",
    "\n",
    "    dropdown.observe(on_selection, names=[\"values\"])\n",
    "    on_selection()\n"
   ]
  },
  {
   "cell_type": "code",
   "execution_count": 17,
   "id": "576e518f-1050-43ab-800d-8714d2352474",
   "metadata": {},
   "outputs": [
    {
     "data": {
      "application/vnd.jupyter.widget-view+json": {
       "model_id": "90b52caa66384036bcb948cf6d83c909",
       "version_major": 2,
       "version_minor": 0
      },
      "text/plain": [
       "Dropdown(description='Agency', options=('Access Services', 'Agoura Hills', 'Ala-Con Costa T', 'Alameda', 'Alam…"
      ]
     },
     "metadata": {},
     "output_type": "display_data"
    },
    {
     "data": {
      "application/vnd.jupyter.widget-view+json": {
       "model_id": "48ffb3799a9a4f79951a6b2dba7eb076",
       "version_major": 2,
       "version_minor": 0
      },
      "text/plain": [
       "Output()"
      ]
     },
     "metadata": {},
     "output_type": "display_data"
    },
    {
     "data": {
      "text/markdown": [
       "**Summary Statistics for Access Services**"
      ],
      "text/plain": [
       "<IPython.core.display.Markdown object>"
      ]
     },
     "metadata": {},
     "output_type": "display_data"
    },
    {
     "data": {
      "text/markdown": [
       "The number of obligations Access Services has is 17"
      ],
      "text/plain": [
       "<IPython.core.display.Markdown object>"
      ]
     },
     "metadata": {},
     "output_type": "display_data"
    }
   ],
   "source": [
    "interactive_widget(df, \"agency\")"
   ]
  },
  {
   "cell_type": "code",
   "execution_count": 20,
   "id": "0415482f-420f-4c5a-962f-fb7f1ca4fed6",
   "metadata": {},
   "outputs": [
    {
     "data": {
      "application/vnd.jupyter.widget-view+json": {
       "model_id": "821c6c8bae4e4301a5668ecc3715911f",
       "version_major": 2,
       "version_minor": 0
      },
      "text/plain": [
       "Dropdown(description='Agency', options=('Access Services', 'Agoura Hills', 'Ala-Con Costa T', 'Alameda', 'Alam…"
      ]
     },
     "metadata": {},
     "output_type": "display_data"
    },
    {
     "data": {
      "application/vnd.jupyter.widget-view+json": {
       "model_id": "9a9e3f5252a74ebea4e8307934b74d70",
       "version_major": 2,
       "version_minor": 0
      },
      "text/plain": [
       "Output()"
      ]
     },
     "metadata": {},
     "output_type": "display_data"
    },
    {
     "data": {
      "text/markdown": [
       "**Summary Statistics for Access Services**"
      ],
      "text/plain": [
       "<IPython.core.display.Markdown object>"
      ]
     },
     "metadata": {},
     "output_type": "display_data"
    },
    {
     "data": {
      "text/markdown": [
       "The number of obligations Access Services has is 17"
      ],
      "text/plain": [
       "<IPython.core.display.Markdown object>"
      ]
     },
     "metadata": {},
     "output_type": "display_data"
    }
   ],
   "source": [
    "select_col = \"agency\"\n",
    "\n",
    "dropdown = ipywidgets.Dropdown(\n",
    "    description=f\"{select_col.title()}\",\n",
    "    options=df[select_col].sort_values().unique().tolist()\n",
    ")\n",
    "output = ipywidgets.Output()\n",
    "\n",
    "display(dropdown)\n",
    "display(output)\n",
    "\n",
    "\n",
    "def on_selection(*args):\n",
    "    summarize_and_plot(df, select_col, dropdown.value)\n",
    "\n",
    "\n",
    "dropdown.observe(on_selection, names=[\"values\"])\n",
    "on_selection()\n"
   ]
  },
  {
   "cell_type": "code",
   "execution_count": null,
   "id": "31476aab-849c-43ae-9fb9-be6e2fd0960b",
   "metadata": {},
   "outputs": [],
   "source": [
    "'''\n",
    "@interact\n",
    "\n",
    "def dla_get_prefix(place=df.agency.sort_values().unique().tolist()):\n",
    "\n",
    "    agencies = df[df.agency==place]\n",
    "\n",
    "    prefix_count_n = agencies >> count(_.prefix)\n",
    "\n",
    "    display(Markdown(f\"**Summary Statistics for {place}**\"))\n",
    "    display(Markdown(f\"The number of obligations {place} has is {len(agencies)}\"))\n",
    "\n",
    "    display(Markdown(f\"The number of prefix codes {place} uses is {len(prefix_count_n)}\"))\n",
    "\n",
    "    # for the table- using one as some agencies only have one entry\n",
    "    pd.set_option(\"display.max_columns\", None)\n",
    "    display(df[df.agency == place][['fed_requested','ac_requested','total_requested']].describe())\n",
    "\n",
    "    display(Markdown(f\"**Top Project Types in {place}**\"))\n",
    "    display((df[df.agency == place] >> count(_.type_of_work) >> arrange(-_.n)).head(5)) \n",
    "    # graphs \n",
    "'''"
   ]
  },
  {
   "cell_type": "code",
   "execution_count": null,
   "id": "1b543fc8-c299-4af1-9799-6b2286b77b14",
   "metadata": {},
   "outputs": [],
   "source": []
  }
 ],
 "metadata": {
  "kernelspec": {
   "display_name": "Python 3 (ipykernel)",
   "language": "python",
   "name": "python3"
  },
  "language_info": {
   "codemirror_mode": {
    "name": "ipython",
    "version": 3
   },
   "file_extension": ".py",
   "mimetype": "text/x-python",
   "name": "python",
   "nbconvert_exporter": "python",
   "pygments_lexer": "ipython3",
   "version": "3.9.7"
  }
 },
 "nbformat": 4,
 "nbformat_minor": 5
}
