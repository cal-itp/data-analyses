{
 "cells": [
  {
   "cell_type": "markdown",
   "id": "4a185ba3-7efc-4ee8-9025-46d3421342d9",
   "metadata": {},
   "source": [
    "## Route ID 172, Operator 127 Test\n",
    "* Santa Rosa - San Francisco"
   ]
  },
  {
   "cell_type": "code",
   "execution_count": 1,
   "id": "256344db-9baf-4f9d-b4cd-f763111200b3",
   "metadata": {},
   "outputs": [
    {
     "name": "stderr",
     "output_type": "stream",
     "text": [
      "/opt/conda/lib/python3.9/site-packages/geopandas/_compat.py:123: UserWarning: The Shapely GEOS version (3.10.3-CAPI-1.16.1) is incompatible with the GEOS version PyGEOS was compiled with (3.10.1-CAPI-1.16.0). Conversions between both will be slow.\n",
      "  warnings.warn(\n"
     ]
    }
   ],
   "source": [
    "import geopandas as gpd\n",
    "import pandas as pd\n",
    "from calitp.sql import to_snakecase\n",
    "from shared_utils import geography_utils"
   ]
  },
  {
   "cell_type": "code",
   "execution_count": 2,
   "id": "75cfd4fa-d8f9-4968-b020-d98cb8dad48e",
   "metadata": {},
   "outputs": [],
   "source": [
    "pd.options.display.max_columns = 100\n",
    "pd.options.display.float_format = \"{:.2f}\".format\n",
    "pd.set_option(\"display.max_rows\", None)\n",
    "pd.set_option(\"display.max_colwidth\", None)"
   ]
  },
  {
   "cell_type": "code",
   "execution_count": 3,
   "id": "dbeed960-23c1-407e-b178-268d06267c97",
   "metadata": {},
   "outputs": [],
   "source": [
    "GCS_DASK_PATH = \"gs://calitp-analytics-data/data-analyses/dask_test/\"\n",
    "GCS_RT_PATH = \"gs://calitp-analytics-data/data-analyses/rt_delay/\""
   ]
  },
  {
   "cell_type": "code",
   "execution_count": 4,
   "id": "f379a4b8-e826-4f78-8d38-69962a50c648",
   "metadata": {},
   "outputs": [],
   "source": [
    "analysis_date = \"2022-10-12\""
   ]
  },
  {
   "cell_type": "code",
   "execution_count": 5,
   "id": "9a2a0438-07f3-4e77-a86b-a228a6b60b2d",
   "metadata": {},
   "outputs": [],
   "source": [
    "agency = 282"
   ]
  },
  {
   "cell_type": "code",
   "execution_count": 6,
   "id": "a4100c30-e8b7-4051-9a9b-d65cdb214905",
   "metadata": {},
   "outputs": [],
   "source": [
    "route_id = \"30\""
   ]
  },
  {
   "cell_type": "code",
   "execution_count": 7,
   "id": "eac94d77-d29d-42e8-a47c-36ac160e579e",
   "metadata": {},
   "outputs": [],
   "source": [
    "# Shapes for Route 30\n",
    "shape_ids_for_route_30 = [\n",
    "    \"204815\",\n",
    "    \"204818\",\n",
    "    \"204821\",\n",
    "    \"204814\",\n",
    "    \"204822\",\n",
    "    \"204812\",\n",
    "    \"204817\",\n",
    "    \"204811\",\n",
    "    \"204823\",\n",
    "    \"204824\",\n",
    "    \"204826\",\n",
    "    \"204816\",\n",
    "]"
   ]
  },
  {
   "cell_type": "markdown",
   "id": "4f32b6e3-f6bb-4bf4-9e6f-9ebc17bbf184",
   "metadata": {},
   "source": [
    "### Route Map"
   ]
  },
  {
   "cell_type": "code",
   "execution_count": 8,
   "id": "5638b785-d003-4248-ae43-7597e67d39c4",
   "metadata": {},
   "outputs": [],
   "source": [
    "# Tells me actual route length for each shape id.\n",
    "routelines = gpd.read_parquet(\n",
    "    f\"{GCS_RT_PATH}compiled_cached_views/routelines_{analysis_date}.parquet\"\n",
    ")"
   ]
  },
  {
   "cell_type": "code",
   "execution_count": 9,
   "id": "69063228-721e-4f8e-a30f-63d8993ff566",
   "metadata": {
    "scrolled": true,
    "tags": []
   },
   "outputs": [],
   "source": [
    "# Filter for specific route & agency\n",
    "routelines = (\n",
    "    routelines[\n",
    "        (\n",
    "            (routelines.calitp_itp_id == agency)\n",
    "            & (routelines.shape_id.isin(shape_ids_for_route_30))\n",
    "        )\n",
    "    ]\n",
    "    .drop(columns=[\"calitp_url_number\"])\n",
    "    .reset_index(drop=True)\n",
    "    .drop_duplicates()\n",
    ")"
   ]
  },
  {
   "cell_type": "code",
   "execution_count": 10,
   "id": "9e9134c5-b822-4a1a-8207-7b6f34f1638e",
   "metadata": {},
   "outputs": [],
   "source": [
    "# Calculate length of geometry\n",
    "routelines = routelines.assign(\n",
    "    actual_route_length=(\n",
    "        routelines.geometry.to_crs(geography_utils.CA_NAD83Albers).length\n",
    "    )\n",
    ")"
   ]
  },
  {
   "cell_type": "code",
   "execution_count": 11,
   "id": "c9fa5c18-638e-4010-a377-312369d481ab",
   "metadata": {},
   "outputs": [
    {
     "data": {
      "text/plain": [
       "12"
      ]
     },
     "execution_count": 11,
     "metadata": {},
     "output_type": "execute_result"
    }
   ],
   "source": [
    "len(routelines)"
   ]
  },
  {
   "cell_type": "code",
   "execution_count": 12,
   "id": "7f39651d-e5a4-4244-b2c3-6f1b63f32ec8",
   "metadata": {},
   "outputs": [
    {
     "data": {
      "text/plain": [
       "12"
      ]
     },
     "execution_count": 12,
     "metadata": {},
     "output_type": "execute_result"
    }
   ],
   "source": [
    "routelines.shape_id.nunique()"
   ]
  },
  {
   "cell_type": "code",
   "execution_count": 13,
   "id": "4fe71b8b-be06-4559-bfcd-a69438d39dc2",
   "metadata": {},
   "outputs": [
    {
     "data": {
      "text/plain": [
       "<AxesSubplot:>"
      ]
     },
     "execution_count": 13,
     "metadata": {},
     "output_type": "execute_result"
    },
    {
     "data": {
      "image/png": "[encoded data removed]",
      "text/plain": [
       "<Figure size 640x480 with 1 Axes>"
      ]
     },
     "metadata": {},
     "output_type": "display_data"
    }
   ],
   "source": [
    "routelines.plot()"
   ]
  },
  {
   "cell_type": "markdown",
   "id": "89583a49-0b08-4fc3-9d23-c82cb9aec977",
   "metadata": {},
   "source": [
    "### Trip Map\n",
    "* https://pandas.pydata.org/docs/reference/api/pandas.to_datetime.html"
   ]
  },
  {
   "cell_type": "code",
   "execution_count": 14,
   "id": "c73436b6-d9d5-41d8-9a73-47253e4c39c8",
   "metadata": {},
   "outputs": [],
   "source": [
    "trips = pd.read_parquet(\n",
    "    f\"{GCS_RT_PATH}compiled_cached_views/trips_{analysis_date}_v1.parquet\"\n",
    ").drop(columns = [\"calitp_url_number\", \"trip_key\"])"
   ]
  },
  {
   "cell_type": "code",
   "execution_count": 15,
   "id": "fe964614-25f2-4abb-9368-f249c49ed6bb",
   "metadata": {},
   "outputs": [],
   "source": [
    "trips = trips.assign(\n",
    "    departure_time=pd.to_datetime(trips.trip_first_departure_ts, unit=\"s\"),\n",
    "    end_time=pd.to_datetime(trips.trip_last_arrival_ts, unit=\"s\"),\n",
    ")"
   ]
  },
  {
   "cell_type": "code",
   "execution_count": 16,
   "id": "e65c2f09-06f0-4992-b257-62e690d036fd",
   "metadata": {},
   "outputs": [],
   "source": [
    "# Find only rows for route 30\n",
    "trips_282 = trips[\n",
    "    ((trips.calitp_itp_id == agency) & (trips.route_id == route_id))\n",
    "].reset_index(drop=True)"
   ]
  },
  {
   "cell_type": "code",
   "execution_count": 17,
   "id": "d74de777-1c2a-41fb-a207-28cf66d8a43d",
   "metadata": {},
   "outputs": [
    {
     "data": {
      "text/plain": [
       "(564, 13)"
      ]
     },
     "execution_count": 17,
     "metadata": {},
     "output_type": "execute_result"
    }
   ],
   "source": [
    "trips_282.shape"
   ]
  },
  {
   "cell_type": "markdown",
   "id": "05909d7e-3aca-422a-b820-8fe79b731046",
   "metadata": {},
   "source": [
    "* `Calitp_deleted_at` is different between the same trip ids.\n",
    "* `Departure_time` not displaying time? "
   ]
  },
  {
   "cell_type": "code",
   "execution_count": 18,
   "id": "35f836a1-46ad-4f62-88fa-1a704bde6113",
   "metadata": {},
   "outputs": [
    {
     "data": {
      "text/html": [
       "<div>\n",
       "<style scoped>\n",
       "    .dataframe tbody tr th:only-of-type {\n",
       "        vertical-align: middle;\n",
       "    }\n",
       "\n",
       "    .dataframe tbody tr th {\n",
       "        vertical-align: top;\n",
       "    }\n",
       "\n",
       "    .dataframe thead th {\n",
       "        text-align: right;\n",
       "    }\n",
       "</style>\n",
       "<table border=\"1\" class=\"dataframe\">\n",
       "  <thead>\n",
       "    <tr style=\"text-align: right;\">\n",
       "      <th></th>\n",
       "      <th>calitp_itp_id</th>\n",
       "      <th>service_date</th>\n",
       "      <th>trip_id</th>\n",
       "      <th>route_id</th>\n",
       "      <th>direction_id</th>\n",
       "      <th>shape_id</th>\n",
       "      <th>calitp_extracted_at</th>\n",
       "      <th>calitp_deleted_at</th>\n",
       "      <th>trip_first_departure_ts</th>\n",
       "      <th>trip_last_arrival_ts</th>\n",
       "      <th>service_hours</th>\n",
       "      <th>departure_time</th>\n",
       "      <th>end_time</th>\n",
       "    </tr>\n",
       "  </thead>\n",
       "  <tbody>\n",
       "    <tr>\n",
       "      <th>78</th>\n",
       "      <td>282</td>\n",
       "      <td>2022-10-12</td>\n",
       "      <td>11136193</td>\n",
       "      <td>30</td>\n",
       "      <td>0</td>\n",
       "      <td>204812</td>\n",
       "      <td>2022-09-25</td>\n",
       "      <td>2099-01-01</td>\n",
       "      <td>86400</td>\n",
       "      <td>88560</td>\n",
       "      <td>0.60</td>\n",
       "      <td>1970-01-02</td>\n",
       "      <td>1970-01-02 00:36:00</td>\n",
       "    </tr>\n",
       "    <tr>\n",
       "      <th>483</th>\n",
       "      <td>282</td>\n",
       "      <td>2022-10-12</td>\n",
       "      <td>11136193</td>\n",
       "      <td>30</td>\n",
       "      <td>0</td>\n",
       "      <td>204812</td>\n",
       "      <td>2022-09-26</td>\n",
       "      <td>2022-11-17</td>\n",
       "      <td>86400</td>\n",
       "      <td>88560</td>\n",
       "      <td>0.60</td>\n",
       "      <td>1970-01-02</td>\n",
       "      <td>1970-01-02 00:36:00</td>\n",
       "    </tr>\n",
       "  </tbody>\n",
       "</table>\n",
       "</div>"
      ],
      "text/plain": [
       "     calitp_itp_id service_date   trip_id route_id direction_id shape_id  \\\n",
       "78             282   2022-10-12  11136193       30            0   204812   \n",
       "483            282   2022-10-12  11136193       30            0   204812   \n",
       "\n",
       "    calitp_extracted_at calitp_deleted_at  trip_first_departure_ts  \\\n",
       "78           2022-09-25        2099-01-01                    86400   \n",
       "483          2022-09-26        2022-11-17                    86400   \n",
       "\n",
       "     trip_last_arrival_ts  service_hours departure_time            end_time  \n",
       "78                  88560           0.60     1970-01-02 1970-01-02 00:36:00  \n",
       "483                 88560           0.60     1970-01-02 1970-01-02 00:36:00  "
      ]
     },
     "execution_count": 18,
     "metadata": {},
     "output_type": "execute_result"
    }
   ],
   "source": [
    "trips_282.loc[trips_282.trip_id == '11136193']"
   ]
  },
  {
   "cell_type": "code",
   "execution_count": 19,
   "id": "71c2755c-c336-45aa-b676-02814e35e6b9",
   "metadata": {},
   "outputs": [],
   "source": [
    "datetime_cols = [\n",
    "    \"service_date\",\n",
    "    \"calitp_extracted_at\",\n",
    "    \"calitp_deleted_at\",\n",
    "    \"trip_first_departure_ts\",\n",
    "    \"trip_last_arrival_ts\",\n",
    "    \"service_hours\",\n",
    "    \"departure_time\",\n",
    "    \"end_time\",\n",
    "]"
   ]
  },
  {
   "cell_type": "markdown",
   "id": "279f70f2-d667-416d-86f8-a167aa5c7623",
   "metadata": {},
   "source": [
    "* After dropping the columns above, the # of rows drops to 282. "
   ]
  },
  {
   "cell_type": "code",
   "execution_count": 20,
   "id": "4a1e4a62-ff24-47d8-844e-fc3b27b78199",
   "metadata": {},
   "outputs": [],
   "source": [
    "trips_282_no_time = trips_282.drop(columns=datetime_cols)"
   ]
  },
  {
   "cell_type": "code",
   "execution_count": 21,
   "id": "04f0e60e-a738-406d-8fdb-b43fede72b3b",
   "metadata": {},
   "outputs": [
    {
     "data": {
      "text/plain": [
       "282"
      ]
     },
     "execution_count": 21,
     "metadata": {},
     "output_type": "execute_result"
    }
   ],
   "source": [
    "len(trips_282_no_time.drop_duplicates())"
   ]
  },
  {
   "cell_type": "code",
   "execution_count": 22,
   "id": "978c8317-290b-4d9d-a435-ae710845d4a5",
   "metadata": {},
   "outputs": [],
   "source": [
    "trips_282_no_dups = trips_282_no_time.drop_duplicates().reset_index(drop=True)"
   ]
  },
  {
   "cell_type": "code",
   "execution_count": 23,
   "id": "5cd36c84-ffa2-46e4-803e-68a07a4708a1",
   "metadata": {},
   "outputs": [],
   "source": [
    "# Read in crosswalk for route_dir_identifier.\n",
    "crosswalk = pd.read_parquet(\n",
    "    f\"{GCS_DASK_PATH}segments_route_direction_crosswalk.parquet\"\n",
    ")"
   ]
  },
  {
   "cell_type": "code",
   "execution_count": 24,
   "id": "8ec2a608-9bad-40bc-aa10-002cb1b20701",
   "metadata": {},
   "outputs": [],
   "source": [
    "# Join to crosswalk before joining routlines to grab geometry\n",
    "trips_m_crosswalk = trips_282_no_dups.merge(\n",
    "    crosswalk, how=\"inner\", on=[\"calitp_itp_id\", \"route_id\", \"direction_id\"]\n",
    ")"
   ]
  },
  {
   "cell_type": "code",
   "execution_count": 25,
   "id": "bb0c6173-d487-4e49-889d-0e7bf84cc463",
   "metadata": {},
   "outputs": [
    {
     "data": {
      "text/html": [
       "<div>\n",
       "<style scoped>\n",
       "    .dataframe tbody tr th:only-of-type {\n",
       "        vertical-align: middle;\n",
       "    }\n",
       "\n",
       "    .dataframe tbody tr th {\n",
       "        vertical-align: top;\n",
       "    }\n",
       "\n",
       "    .dataframe thead th {\n",
       "        text-align: right;\n",
       "    }\n",
       "</style>\n",
       "<table border=\"1\" class=\"dataframe\">\n",
       "  <thead>\n",
       "    <tr style=\"text-align: right;\">\n",
       "      <th></th>\n",
       "      <th>calitp_itp_id</th>\n",
       "      <th>trip_id</th>\n",
       "      <th>route_id</th>\n",
       "      <th>direction_id</th>\n",
       "      <th>shape_id</th>\n",
       "      <th>route_dir_identifier</th>\n",
       "    </tr>\n",
       "  </thead>\n",
       "  <tbody>\n",
       "    <tr>\n",
       "      <th>0</th>\n",
       "      <td>282</td>\n",
       "      <td>11136210</td>\n",
       "      <td>30</td>\n",
       "      <td>0</td>\n",
       "      <td>204815</td>\n",
       "      <td>3971062270</td>\n",
       "    </tr>\n",
       "    <tr>\n",
       "      <th>1</th>\n",
       "      <td>282</td>\n",
       "      <td>11136289</td>\n",
       "      <td>30</td>\n",
       "      <td>0</td>\n",
       "      <td>204814</td>\n",
       "      <td>3971062270</td>\n",
       "    </tr>\n",
       "  </tbody>\n",
       "</table>\n",
       "</div>"
      ],
      "text/plain": [
       "   calitp_itp_id   trip_id route_id direction_id shape_id  \\\n",
       "0            282  11136210       30            0   204815   \n",
       "1            282  11136289       30            0   204814   \n",
       "\n",
       "   route_dir_identifier  \n",
       "0            3971062270  \n",
       "1            3971062270  "
      ]
     },
     "execution_count": 25,
     "metadata": {},
     "output_type": "execute_result"
    }
   ],
   "source": [
    "trips_m_crosswalk.head(2)"
   ]
  },
  {
   "cell_type": "code",
   "execution_count": 26,
   "id": "18a693d5-0ae4-4767-a533-ee1abb9c78a5",
   "metadata": {},
   "outputs": [],
   "source": [
    "# Merge routes for geometry, actual route length,\n",
    "m1 = routelines.merge(\n",
    "    trips_m_crosswalk,\n",
    "    how=\"inner\",\n",
    "    on=[\"calitp_itp_id\", \"shape_id\"],\n",
    ")"
   ]
  },
  {
   "cell_type": "markdown",
   "id": "dcb87095-ccec-42e4-933f-042640255bc4",
   "metadata": {},
   "source": [
    "#### how many rows in the trips table for that route? when you plot (choosetrip_id column to plot) it on a map, how many do you see?\n",
    "* 282 trip ids. \n",
    "* 232 rows.\n",
    "* Always plotting shape_id underneath, just the coloring is different."
   ]
  },
  {
   "cell_type": "code",
   "execution_count": 27,
   "id": "28e5c15d-1c2c-4b41-811b-aefa71528bb8",
   "metadata": {},
   "outputs": [
    {
     "data": {
      "text/plain": [
       "282"
      ]
     },
     "execution_count": 27,
     "metadata": {},
     "output_type": "execute_result"
    }
   ],
   "source": [
    "len(m1)"
   ]
  },
  {
   "cell_type": "code",
   "execution_count": 28,
   "id": "8d846396-72e6-48b0-9e15-1ce60bf115e6",
   "metadata": {},
   "outputs": [
    {
     "data": {
      "text/plain": [
       "282"
      ]
     },
     "execution_count": 28,
     "metadata": {},
     "output_type": "execute_result"
    }
   ],
   "source": [
    "m1.trip_id.nunique()"
   ]
  },
  {
   "cell_type": "code",
   "execution_count": 29,
   "id": "32072d59-8545-4be2-85f9-8a72a580ab3f",
   "metadata": {},
   "outputs": [],
   "source": [
    "# m1.loc[m1.trip_id == \"11136191\"]"
   ]
  },
  {
   "cell_type": "code",
   "execution_count": 30,
   "id": "e3d6f98e-099f-4835-bc6f-923e43b729c0",
   "metadata": {},
   "outputs": [
    {
     "data": {
      "text/plain": [
       "'m1.explore(\\n    \"trip_id\",\\n    cmap=\"tab10\",\\n    style_kwds={\"weight\": 6},\\n    height=400,\\n    width=600,\\n    legend=False,\\n)'"
      ]
     },
     "execution_count": 30,
     "metadata": {},
     "output_type": "execute_result"
    }
   ],
   "source": [
    "\"\"\"m1.explore(\n",
    "    \"trip_id\",\n",
    "    cmap=\"tab10\",\n",
    "    style_kwds={\"weight\": 6},\n",
    "    height=400,\n",
    "    width=600,\n",
    "    legend=False,\n",
    ")\"\"\""
   ]
  },
  {
   "cell_type": "markdown",
   "id": "1cccb798-bdc0-49e4-981f-129833203c3d",
   "metadata": {
    "tags": []
   },
   "source": [
    "#### how many unique route_ids? when you plot route_id on a map, how many do you see?\n",
    "* Just one for both questions."
   ]
  },
  {
   "cell_type": "code",
   "execution_count": 31,
   "id": "141268e9-26af-426b-ac22-1ed617508cbd",
   "metadata": {},
   "outputs": [
    {
     "data": {
      "text/plain": [
       "1"
      ]
     },
     "execution_count": 31,
     "metadata": {},
     "output_type": "execute_result"
    }
   ],
   "source": [
    "m1.route_id.nunique()"
   ]
  },
  {
   "cell_type": "code",
   "execution_count": 32,
   "id": "5aa28dfd-7a5b-40d3-9060-f5014b09c079",
   "metadata": {},
   "outputs": [
    {
     "data": {
      "text/plain": [
       "'m1.explore(\\n    \"route_id\",\\n    cmap=\"tab10\",\\n    style_kwds={\"weight\": 6},\\n    height=400,\\n    width=600,\\n    legend=True,\\n)'"
      ]
     },
     "execution_count": 32,
     "metadata": {},
     "output_type": "execute_result"
    }
   ],
   "source": [
    "\"\"\"m1.explore(\n",
    "    \"route_id\",\n",
    "    cmap=\"tab10\",\n",
    "    style_kwds={\"weight\": 6},\n",
    "    height=400,\n",
    "    width=600,\n",
    "    legend=True,\n",
    ")\"\"\""
   ]
  },
  {
   "cell_type": "code",
   "execution_count": 33,
   "id": "41417be1-c5e3-4072-b013-c7fc4378a8c1",
   "metadata": {},
   "outputs": [],
   "source": [
    "# m1.loc[m1.route_dir_identifier == 483822386].explore(\"trip_id\",cmap = 'tab10', style_kwds = {'weight':6}, height=400, width = 600, legend  = True)"
   ]
  },
  {
   "cell_type": "code",
   "execution_count": 34,
   "id": "861d8496-d853-4326-a2df-0d0a04ba2682",
   "metadata": {},
   "outputs": [],
   "source": [
    "# m1.loc[m1.route_dir_identifier == 1808907172].explore(\"trip_id\",cmap = 'tab10', style_kwds = {'weight':6}, height=400, width = 600, legend  = True)"
   ]
  },
  {
   "cell_type": "markdown",
   "id": "bb673c35-8fd7-4c50-9a44-273b151dfb20",
   "metadata": {},
   "source": [
    "### Shapes \n",
    "* Direction 1: going towards Financial District.\n",
    "* Direction 0: going towards Presidio."
   ]
  },
  {
   "cell_type": "code",
   "execution_count": 35,
   "id": "d2f96304-9380-42d2-9188-184db1c78d05",
   "metadata": {},
   "outputs": [],
   "source": [
    "longest_shape = gpd.read_parquet(f\"{GCS_DASK_PATH}longest_shape_segments.parquet\")"
   ]
  },
  {
   "cell_type": "code",
   "execution_count": 36,
   "id": "cc98caa3-5ac1-48f0-9769-6056544c28c7",
   "metadata": {
    "tags": []
   },
   "outputs": [
    {
     "data": {
      "text/html": [
       "<div>\n",
       "<style scoped>\n",
       "    .dataframe tbody tr th:only-of-type {\n",
       "        vertical-align: middle;\n",
       "    }\n",
       "\n",
       "    .dataframe tbody tr th {\n",
       "        vertical-align: top;\n",
       "    }\n",
       "\n",
       "    .dataframe thead th {\n",
       "        text-align: right;\n",
       "    }\n",
       "</style>\n",
       "<table border=\"1\" class=\"dataframe\">\n",
       "  <thead>\n",
       "    <tr style=\"text-align: right;\">\n",
       "      <th></th>\n",
       "      <th>calitp_itp_id</th>\n",
       "      <th>calitp_url_number</th>\n",
       "      <th>route_id</th>\n",
       "      <th>direction_id</th>\n",
       "      <th>longest_shape_id</th>\n",
       "      <th>route_dir_identifier</th>\n",
       "      <th>route_length</th>\n",
       "      <th>segment_sequence</th>\n",
       "    </tr>\n",
       "  </thead>\n",
       "  <tbody>\n",
       "    <tr>\n",
       "      <th>124539</th>\n",
       "      <td>474</td>\n",
       "      <td>0</td>\n",
       "      <td>C40</td>\n",
       "      <td>0</td>\n",
       "      <td>p_499962</td>\n",
       "      <td>3754085292</td>\n",
       "      <td>48475.01</td>\n",
       "      <td>45</td>\n",
       "    </tr>\n",
       "    <tr>\n",
       "      <th>4075</th>\n",
       "      <td>4</td>\n",
       "      <td>0</td>\n",
       "      <td>V</td>\n",
       "      <td>1</td>\n",
       "      <td>shp-V-07</td>\n",
       "      <td>1629253302</td>\n",
       "      <td>26678.73</td>\n",
       "      <td>1</td>\n",
       "    </tr>\n",
       "    <tr>\n",
       "      <th>55956</th>\n",
       "      <td>226</td>\n",
       "      <td>0</td>\n",
       "      <td>308</td>\n",
       "      <td>0</td>\n",
       "      <td>3080067</td>\n",
       "      <td>854638093</td>\n",
       "      <td>30753.61</td>\n",
       "      <td>27</td>\n",
       "    </tr>\n",
       "    <tr>\n",
       "      <th>1110</th>\n",
       "      <td>4</td>\n",
       "      <td>0</td>\n",
       "      <td>605</td>\n",
       "      <td>1</td>\n",
       "      <td>shp-605-01</td>\n",
       "      <td>2420599098</td>\n",
       "      <td>15876.60</td>\n",
       "      <td>0</td>\n",
       "    </tr>\n",
       "    <tr>\n",
       "      <th>9069</th>\n",
       "      <td>48</td>\n",
       "      <td>0</td>\n",
       "      <td>8eb7348e-e35c-4c55-84e8-6d9ea4bfa017</td>\n",
       "      <td>0</td>\n",
       "      <td>5e310d4c-e4b7-4fc8-909f-adf61a956f1b</td>\n",
       "      <td>3409065998</td>\n",
       "      <td>11821.71</td>\n",
       "      <td>10</td>\n",
       "    </tr>\n",
       "  </tbody>\n",
       "</table>\n",
       "</div>"
      ],
      "text/plain": [
       "        calitp_itp_id  calitp_url_number  \\\n",
       "124539            474                  0   \n",
       "4075                4                  0   \n",
       "55956             226                  0   \n",
       "1110                4                  0   \n",
       "9069               48                  0   \n",
       "\n",
       "                                    route_id direction_id  \\\n",
       "124539                                   C40            0   \n",
       "4075                                       V            1   \n",
       "55956                                    308            0   \n",
       "1110                                     605            1   \n",
       "9069    8eb7348e-e35c-4c55-84e8-6d9ea4bfa017            0   \n",
       "\n",
       "                            longest_shape_id  route_dir_identifier  \\\n",
       "124539                              p_499962            3754085292   \n",
       "4075                                shp-V-07            1629253302   \n",
       "55956                                3080067             854638093   \n",
       "1110                              shp-605-01            2420599098   \n",
       "9069    5e310d4c-e4b7-4fc8-909f-adf61a956f1b            3409065998   \n",
       "\n",
       "        route_length segment_sequence  \n",
       "124539      48475.01               45  \n",
       "4075        26678.73                1  \n",
       "55956       30753.61               27  \n",
       "1110        15876.60                0  \n",
       "9069        11821.71               10  "
      ]
     },
     "execution_count": 36,
     "metadata": {},
     "output_type": "execute_result"
    }
   ],
   "source": [
    "longest_shape.drop(columns=[\"geometry\", \"geometry_arrowized\"]).sample(5)"
   ]
  },
  {
   "cell_type": "code",
   "execution_count": 37,
   "id": "7ddb08d2-2891-44ea-af26-d9551f8ba4ba",
   "metadata": {},
   "outputs": [],
   "source": [
    "m2 = (m1.drop(columns=[\"geometry\"]).merge(\n",
    "        longest_shape,\n",
    "        how=\"inner\",\n",
    "        on=[\"calitp_itp_id\", \"direction_id\", \"route_id\", \"route_dir_identifier\"],\n",
    "    )\n",
    "    .drop_duplicates()\n",
    "    .reset_index(drop=True)\n",
    ")"
   ]
  },
  {
   "cell_type": "code",
   "execution_count": 38,
   "id": "6139a51c-3327-41ef-9de2-ef8fd82f15dc",
   "metadata": {},
   "outputs": [
    {
     "data": {
      "text/plain": [
       "1410"
      ]
     },
     "execution_count": 38,
     "metadata": {},
     "output_type": "execute_result"
    }
   ],
   "source": [
    "len(m2)"
   ]
  },
  {
   "cell_type": "code",
   "execution_count": 39,
   "id": "b2497a6e-8a0d-4dc8-a85b-f4e4e0e9fd00",
   "metadata": {},
   "outputs": [],
   "source": [
    "m2[\"longest_vs_actual_route\"] = m2.actual_route_length / m2.route_length * 100"
   ]
  },
  {
   "cell_type": "code",
   "execution_count": 40,
   "id": "25701e10-92a1-47d1-870a-05b522453343",
   "metadata": {},
   "outputs": [],
   "source": [
    "m3 = m2.set_geometry(\"geometry_arrowized\")"
   ]
  },
  {
   "cell_type": "code",
   "execution_count": 41,
   "id": "5818b0fd-83d0-4ea9-952b-fb507129b692",
   "metadata": {
    "tags": []
   },
   "outputs": [
    {
     "data": {
      "text/html": [
       "<div>\n",
       "<style scoped>\n",
       "    .dataframe tbody tr th:only-of-type {\n",
       "        vertical-align: middle;\n",
       "    }\n",
       "\n",
       "    .dataframe tbody tr th {\n",
       "        vertical-align: top;\n",
       "    }\n",
       "\n",
       "    .dataframe thead th {\n",
       "        text-align: right;\n",
       "    }\n",
       "</style>\n",
       "<table border=\"1\" class=\"dataframe\">\n",
       "  <thead>\n",
       "    <tr style=\"text-align: right;\">\n",
       "      <th></th>\n",
       "      <th>calitp_itp_id</th>\n",
       "      <th>shape_id</th>\n",
       "      <th>actual_route_length</th>\n",
       "      <th>trip_id</th>\n",
       "      <th>route_id</th>\n",
       "      <th>direction_id</th>\n",
       "      <th>route_dir_identifier</th>\n",
       "      <th>calitp_url_number</th>\n",
       "      <th>longest_shape_id</th>\n",
       "      <th>route_length</th>\n",
       "      <th>segment_sequence</th>\n",
       "      <th>longest_vs_actual_route</th>\n",
       "    </tr>\n",
       "  </thead>\n",
       "  <tbody>\n",
       "    <tr>\n",
       "      <th>0</th>\n",
       "      <td>282</td>\n",
       "      <td>204812</td>\n",
       "      <td>8141.77</td>\n",
       "      <td>11136194</td>\n",
       "      <td>30</td>\n",
       "      <td>0</td>\n",
       "      <td>3971062270</td>\n",
       "      <td>0</td>\n",
       "      <td>204811</td>\n",
       "      <td>3415.07</td>\n",
       "      <td>0</td>\n",
       "      <td>238.41</td>\n",
       "    </tr>\n",
       "    <tr>\n",
       "      <th>1</th>\n",
       "      <td>282</td>\n",
       "      <td>204812</td>\n",
       "      <td>8141.77</td>\n",
       "      <td>11136194</td>\n",
       "      <td>30</td>\n",
       "      <td>0</td>\n",
       "      <td>3971062270</td>\n",
       "      <td>0</td>\n",
       "      <td>204811</td>\n",
       "      <td>3415.07</td>\n",
       "      <td>1</td>\n",
       "      <td>238.41</td>\n",
       "    </tr>\n",
       "  </tbody>\n",
       "</table>\n",
       "</div>"
      ],
      "text/plain": [
       "   calitp_itp_id shape_id  actual_route_length   trip_id route_id  \\\n",
       "0            282   204812              8141.77  11136194       30   \n",
       "1            282   204812              8141.77  11136194       30   \n",
       "\n",
       "  direction_id  route_dir_identifier  calitp_url_number longest_shape_id  \\\n",
       "0            0            3971062270                  0           204811   \n",
       "1            0            3971062270                  0           204811   \n",
       "\n",
       "   route_length segment_sequence  longest_vs_actual_route  \n",
       "0       3415.07                0                   238.41  \n",
       "1       3415.07                1                   238.41  "
      ]
     },
     "execution_count": 41,
     "metadata": {},
     "output_type": "execute_result"
    }
   ],
   "source": [
    "m3.drop(columns=[\"geometry\", \"geometry_arrowized\"]).head(2)"
   ]
  },
  {
   "cell_type": "code",
   "execution_count": 42,
   "id": "e53ce84c-f836-4fda-96b9-179effcff57e",
   "metadata": {},
   "outputs": [
    {
     "data": {
      "text/plain": [
       "(geopandas.geodataframe.GeoDataFrame, pandas.core.frame.DataFrame)"
      ]
     },
     "execution_count": 42,
     "metadata": {},
     "output_type": "execute_result"
    }
   ],
   "source": [
    "type(m3), type(m2)"
   ]
  },
  {
   "cell_type": "markdown",
   "id": "bb8b40e9-d1d6-45a5-8787-58287eb1fe98",
   "metadata": {
    "tags": []
   },
   "source": [
    "#### How many unique shape_ids? when you plot shape_id on a map, how many do you see?\n",
    "* 12 shape ids.\n",
    "* I can see 2 shape ids on the map (barely).\n",
    "* However, all 12 are plotted."
   ]
  },
  {
   "cell_type": "code",
   "execution_count": 43,
   "id": "1a743a6b-52e8-4a48-af74-0b0cc1729316",
   "metadata": {},
   "outputs": [
    {
     "data": {
      "text/plain": [
       "12"
      ]
     },
     "execution_count": 43,
     "metadata": {},
     "output_type": "execute_result"
    }
   ],
   "source": [
    "m3.shape_id.nunique()"
   ]
  },
  {
   "cell_type": "code",
   "execution_count": 44,
   "id": "23c2cbbf-2cd1-4eb7-b71b-c3cd71a78b76",
   "metadata": {},
   "outputs": [
    {
     "data": {
      "text/plain": [
       "'m3.explore(\\n    \"shape_id\",\\n    cmap=\"tab10\",\\n    style_kwds={\"weight\": 6},\\n    legend=True,\\n    width=800,\\n    height=400,\\n)'"
      ]
     },
     "execution_count": 44,
     "metadata": {},
     "output_type": "execute_result"
    }
   ],
   "source": [
    "\"\"\"m3.explore(\n",
    "    \"shape_id\",\n",
    "    cmap=\"tab10\",\n",
    "    style_kwds={\"weight\": 6},\n",
    "    legend=True,\n",
    "    width=800,\n",
    "    height=400,\n",
    ")\"\"\""
   ]
  },
  {
   "cell_type": "code",
   "execution_count": 45,
   "id": "ad9fe90b-62ff-48bb-86fe-ba9abbb69403",
   "metadata": {},
   "outputs": [
    {
     "data": {
      "text/plain": [
       "'m3.loc[m3.shape_id == \"204821\"].explore(\\n    \"shape_id\",\\n    cmap=\"tab10\",\\n    style_kwds={\"weight\": 6},\\n    legend=True,\\n    width=800,\\n    height=400,\\n)'"
      ]
     },
     "execution_count": 45,
     "metadata": {},
     "output_type": "execute_result"
    }
   ],
   "source": [
    "\"\"\"m3.loc[m3.shape_id == \"204821\"].explore(\n",
    "    \"shape_id\",\n",
    "    cmap=\"tab10\",\n",
    "    style_kwds={\"weight\": 6},\n",
    "    legend=True,\n",
    "    width=800,\n",
    "    height=400,\n",
    ")\"\"\""
   ]
  },
  {
   "cell_type": "markdown",
   "id": "0d7d16b8-6659-44d5-a22a-850ddc52f0ec",
   "metadata": {},
   "source": [
    "#### how many unique direction_ids? when you plot direction_id, how many do you see?\n",
    "* 2 direction ids. \n",
    "* Looks a lot like what happens when plotting on `shape_id` column."
   ]
  },
  {
   "cell_type": "code",
   "execution_count": 46,
   "id": "1e574a18-79d4-4940-8e27-3db95463f934",
   "metadata": {},
   "outputs": [
    {
     "data": {
      "text/plain": [
       "2"
      ]
     },
     "execution_count": 46,
     "metadata": {},
     "output_type": "execute_result"
    }
   ],
   "source": [
    "m3.direction_id.nunique()"
   ]
  },
  {
   "cell_type": "code",
   "execution_count": 47,
   "id": "e3bb319c-5ff4-4975-b4bc-1eaeea665559",
   "metadata": {},
   "outputs": [
    {
     "data": {
      "text/plain": [
       "'m3.explore(\\n    \"direction_id\",\\n    cmap=\"tab10\",\\n    style_kwds={\"weight\": 6},\\n    legend=True,\\n    width=800,\\n    height=400,\\n)'"
      ]
     },
     "execution_count": 47,
     "metadata": {},
     "output_type": "execute_result"
    }
   ],
   "source": [
    "\"\"\"m3.explore(\n",
    "    \"direction_id\",\n",
    "    cmap=\"tab10\",\n",
    "    style_kwds={\"weight\": 6},\n",
    "    legend=True,\n",
    "    width=800,\n",
    "    height=400,\n",
    ")\"\"\""
   ]
  },
  {
   "cell_type": "code",
   "execution_count": 48,
   "id": "ac441f9f-54ce-459c-96b9-08ddebadab99",
   "metadata": {},
   "outputs": [
    {
     "data": {
      "text/plain": [
       "'\\nm3.explore(\\n    \"segment_sequence\",\\n    cmap=\"tab10\",\\n    style_kwds={\"weight\": 6},\\n    legend=False,\\n    width=800,\\n    height=400,\\n)'"
      ]
     },
     "execution_count": 48,
     "metadata": {},
     "output_type": "execute_result"
    }
   ],
   "source": [
    "\"\"\"\n",
    "m3.explore(\n",
    "    \"segment_sequence\",\n",
    "    cmap=\"tab10\",\n",
    "    style_kwds={\"weight\": 6},\n",
    "    legend=False,\n",
    "    width=800,\n",
    "    height=400,\n",
    ")\"\"\""
   ]
  },
  {
   "cell_type": "code",
   "execution_count": 49,
   "id": "9f54c1db-c8cb-4a52-9e77-d848d7075dde",
   "metadata": {},
   "outputs": [],
   "source": [
    "# m3.loc[m3.direction_id == \"0\"].explore(\"segment_sequence\", cmap = 'tab10', style_kwds = {'weight':6}, legend = False, width = 800, height = 400)"
   ]
  },
  {
   "cell_type": "code",
   "execution_count": 50,
   "id": "60f8cad5-1acf-4434-9383-a5672771acca",
   "metadata": {},
   "outputs": [],
   "source": [
    "# m3.loc[m3.direction_id == \"1\"].explore(\"segment_sequence\", cmap = 'tab20', style_kwds = {'weight':6}, legend = False, width = 800, height = 400)"
   ]
  },
  {
   "cell_type": "code",
   "execution_count": 51,
   "id": "e99005a7-f0b1-46f1-ac15-e9fdb120e419",
   "metadata": {},
   "outputs": [],
   "source": [
    "def find_operator_info(df):\n",
    "    df = df.sort_values([\"calitp_itp_id\", \"trip_id\", \"segment_sequence\"])\n",
    "\n",
    "    merge_cols = [\n",
    "        \"calitp_itp_id\",\n",
    "        \"trip_id\",\n",
    "        \"route_dir_identifier\",\n",
    "    ]\n",
    "\n",
    "    # Get start time.\n",
    "    start_time_trip = (\n",
    "        df.groupby(merge_cols)\n",
    "        .agg({\"vehicle_timestamp\": \"min\"})\n",
    "        .rename(columns={\"vehicle_timestamp\": \"start\"})\n",
    "        .reset_index()\n",
    "    )\n",
    "\n",
    "    # Get end time.\n",
    "    end_time_trip = (\n",
    "        df.groupby(merge_cols)\n",
    "        .agg({\"vehicle_timestamp\": \"max\"})\n",
    "        .rename(columns={\"vehicle_timestamp\": \"end\"})\n",
    "        .reset_index()\n",
    "    )\n",
    "\n",
    "    # Count number of segments.\n",
    "    segment_counts = (\n",
    "        df.groupby(merge_cols)\n",
    "        .agg({\"segment_sequence\": \"nunique\"})\n",
    "        .reset_index()\n",
    "        .rename(columns={\"segment_sequence\": \"number_of_segments\"})\n",
    "    )\n",
    "\n",
    "    # Merge\n",
    "    m1 = start_time_trip.merge(end_time_trip, how=\"inner\", on=merge_cols).merge(\n",
    "        segment_counts, how=\"left\", on=merge_cols\n",
    "    )\n",
    "\n",
    "    # Calculate time elapsed\n",
    "    # https://stackoverflow.com/questions/51491724/calculate-difference-of-2-dates-in-minutes-in-pandas\n",
    "    m1[\"minutes_elapsed\"] = (m1.end - m1.start).dt.total_seconds() / 60\n",
    "\n",
    "    return m1"
   ]
  },
  {
   "cell_type": "code",
   "execution_count": 52,
   "id": "4bc95806-85c5-4d51-ad3c-6d7666da8fe7",
   "metadata": {},
   "outputs": [],
   "source": [
    "# Use pandas.read_parquet/read_feather() instead.\n",
    "operator = pd.read_parquet(\n",
    "    f\"{GCS_DASK_PATH}vp_sjoin/vp_segment_{agency}_{analysis_date}.parquet\"\n",
    ")"
   ]
  },
  {
   "cell_type": "code",
   "execution_count": 53,
   "id": "7f4f2046-dcbb-43f5-8cd6-d88ac0438502",
   "metadata": {},
   "outputs": [],
   "source": [
    "operator_info = find_operator_info(operator)"
   ]
  },
  {
   "cell_type": "code",
   "execution_count": 54,
   "id": "fa34211d-18b2-42cc-8e2e-3a99d7351510",
   "metadata": {},
   "outputs": [
    {
     "data": {
      "text/plain": [
       "8518"
      ]
     },
     "execution_count": 54,
     "metadata": {},
     "output_type": "execute_result"
    }
   ],
   "source": [
    "len(operator_info)"
   ]
  },
  {
   "cell_type": "code",
   "execution_count": 55,
   "id": "e05467af-98ac-4fd2-93eb-699757344a8b",
   "metadata": {},
   "outputs": [
    {
     "data": {
      "text/html": [
       "<div>\n",
       "<style scoped>\n",
       "    .dataframe tbody tr th:only-of-type {\n",
       "        vertical-align: middle;\n",
       "    }\n",
       "\n",
       "    .dataframe tbody tr th {\n",
       "        vertical-align: top;\n",
       "    }\n",
       "\n",
       "    .dataframe thead th {\n",
       "        text-align: right;\n",
       "    }\n",
       "</style>\n",
       "<table border=\"1\" class=\"dataframe\">\n",
       "  <thead>\n",
       "    <tr style=\"text-align: right;\">\n",
       "      <th></th>\n",
       "      <th>calitp_itp_id</th>\n",
       "      <th>trip_id</th>\n",
       "      <th>route_dir_identifier</th>\n",
       "      <th>start</th>\n",
       "      <th>end</th>\n",
       "      <th>number_of_segments</th>\n",
       "      <th>minutes_elapsed</th>\n",
       "    </tr>\n",
       "  </thead>\n",
       "  <tbody>\n",
       "    <tr>\n",
       "      <th>0</th>\n",
       "      <td>282</td>\n",
       "      <td>11108746</td>\n",
       "      <td>4013410901</td>\n",
       "      <td>2022-10-12 15:05:36</td>\n",
       "      <td>2022-10-12 15:47:45</td>\n",
       "      <td>9</td>\n",
       "      <td>42.15</td>\n",
       "    </tr>\n",
       "    <tr>\n",
       "      <th>1</th>\n",
       "      <td>282</td>\n",
       "      <td>11108747</td>\n",
       "      <td>4013410901</td>\n",
       "      <td>2022-10-12 14:57:24</td>\n",
       "      <td>2022-10-12 15:41:44</td>\n",
       "      <td>9</td>\n",
       "      <td>44.33</td>\n",
       "    </tr>\n",
       "    <tr>\n",
       "      <th>2</th>\n",
       "      <td>282</td>\n",
       "      <td>11108748</td>\n",
       "      <td>4013410901</td>\n",
       "      <td>2022-10-12 14:49:23</td>\n",
       "      <td>2022-10-12 15:31:16</td>\n",
       "      <td>10</td>\n",
       "      <td>41.88</td>\n",
       "    </tr>\n",
       "    <tr>\n",
       "      <th>3</th>\n",
       "      <td>282</td>\n",
       "      <td>11108749</td>\n",
       "      <td>4013410901</td>\n",
       "      <td>2022-10-12 14:45:02</td>\n",
       "      <td>2022-10-12 15:27:16</td>\n",
       "      <td>10</td>\n",
       "      <td>42.23</td>\n",
       "    </tr>\n",
       "    <tr>\n",
       "      <th>4</th>\n",
       "      <td>282</td>\n",
       "      <td>11108750</td>\n",
       "      <td>4013410901</td>\n",
       "      <td>2022-10-12 14:36:35</td>\n",
       "      <td>2022-10-12 15:23:40</td>\n",
       "      <td>9</td>\n",
       "      <td>47.08</td>\n",
       "    </tr>\n",
       "  </tbody>\n",
       "</table>\n",
       "</div>"
      ],
      "text/plain": [
       "   calitp_itp_id   trip_id  route_dir_identifier               start  \\\n",
       "0            282  11108746            4013410901 2022-10-12 15:05:36   \n",
       "1            282  11108747            4013410901 2022-10-12 14:57:24   \n",
       "2            282  11108748            4013410901 2022-10-12 14:49:23   \n",
       "3            282  11108749            4013410901 2022-10-12 14:45:02   \n",
       "4            282  11108750            4013410901 2022-10-12 14:36:35   \n",
       "\n",
       "                  end  number_of_segments  minutes_elapsed  \n",
       "0 2022-10-12 15:47:45                   9            42.15  \n",
       "1 2022-10-12 15:41:44                   9            44.33  \n",
       "2 2022-10-12 15:31:16                  10            41.88  \n",
       "3 2022-10-12 15:27:16                  10            42.23  \n",
       "4 2022-10-12 15:23:40                   9            47.08  "
      ]
     },
     "execution_count": 55,
     "metadata": {},
     "output_type": "execute_result"
    }
   ],
   "source": [
    "operator_info.head()"
   ]
  },
  {
   "cell_type": "code",
   "execution_count": 56,
   "id": "8a9d9f66-99ec-40cd-91a1-3c7a025bd1bf",
   "metadata": {},
   "outputs": [],
   "source": [
    "# Count number of segments in `longest_shape`.\n",
    "m3_test = (\n",
    "    m3.groupby(\n",
    "        [\n",
    "            \"calitp_itp_id\",\n",
    "            \"trip_id\",\n",
    "            \"route_dir_identifier\",\n",
    "            \"shape_id\",\n",
    "            \"longest_shape_id\",\n",
    "            \"longest_vs_actual_route\",\n",
    "        ]\n",
    "    )\n",
    "    .agg({\"segment_sequence\": \"count\"})\n",
    "    .rename(columns = {'segment_sequence':'total_segments'})\n",
    "    .reset_index()\n",
    ")"
   ]
  },
  {
   "cell_type": "code",
   "execution_count": 57,
   "id": "1d76fc4b-3934-4611-a5d7-93b2f58ec776",
   "metadata": {
    "tags": []
   },
   "outputs": [
    {
     "data": {
      "text/html": [
       "<div>\n",
       "<style scoped>\n",
       "    .dataframe tbody tr th:only-of-type {\n",
       "        vertical-align: middle;\n",
       "    }\n",
       "\n",
       "    .dataframe tbody tr th {\n",
       "        vertical-align: top;\n",
       "    }\n",
       "\n",
       "    .dataframe thead th {\n",
       "        text-align: right;\n",
       "    }\n",
       "</style>\n",
       "<table border=\"1\" class=\"dataframe\">\n",
       "  <thead>\n",
       "    <tr style=\"text-align: right;\">\n",
       "      <th></th>\n",
       "      <th>calitp_itp_id</th>\n",
       "      <th>trip_id</th>\n",
       "      <th>route_dir_identifier</th>\n",
       "      <th>shape_id</th>\n",
       "      <th>longest_shape_id</th>\n",
       "      <th>longest_vs_actual_route</th>\n",
       "      <th>total_segments</th>\n",
       "    </tr>\n",
       "  </thead>\n",
       "  <tbody>\n",
       "    <tr>\n",
       "      <th>0</th>\n",
       "      <td>282</td>\n",
       "      <td>11136191</td>\n",
       "      <td>3971062270</td>\n",
       "      <td>204811</td>\n",
       "      <td>204811</td>\n",
       "      <td>100.00</td>\n",
       "      <td>4</td>\n",
       "    </tr>\n",
       "    <tr>\n",
       "      <th>1</th>\n",
       "      <td>282</td>\n",
       "      <td>11136192</td>\n",
       "      <td>3971062270</td>\n",
       "      <td>204814</td>\n",
       "      <td>204811</td>\n",
       "      <td>143.93</td>\n",
       "      <td>4</td>\n",
       "    </tr>\n",
       "    <tr>\n",
       "      <th>2</th>\n",
       "      <td>282</td>\n",
       "      <td>11136193</td>\n",
       "      <td>3971062270</td>\n",
       "      <td>204812</td>\n",
       "      <td>204811</td>\n",
       "      <td>238.41</td>\n",
       "      <td>4</td>\n",
       "    </tr>\n",
       "    <tr>\n",
       "      <th>3</th>\n",
       "      <td>282</td>\n",
       "      <td>11136194</td>\n",
       "      <td>3971062270</td>\n",
       "      <td>204812</td>\n",
       "      <td>204811</td>\n",
       "      <td>238.41</td>\n",
       "      <td>4</td>\n",
       "    </tr>\n",
       "    <tr>\n",
       "      <th>4</th>\n",
       "      <td>282</td>\n",
       "      <td>11136195</td>\n",
       "      <td>3971062270</td>\n",
       "      <td>204812</td>\n",
       "      <td>204811</td>\n",
       "      <td>238.41</td>\n",
       "      <td>4</td>\n",
       "    </tr>\n",
       "  </tbody>\n",
       "</table>\n",
       "</div>"
      ],
      "text/plain": [
       "   calitp_itp_id   trip_id  route_dir_identifier shape_id longest_shape_id  \\\n",
       "0            282  11136191            3971062270   204811           204811   \n",
       "1            282  11136192            3971062270   204814           204811   \n",
       "2            282  11136193            3971062270   204812           204811   \n",
       "3            282  11136194            3971062270   204812           204811   \n",
       "4            282  11136195            3971062270   204812           204811   \n",
       "\n",
       "   longest_vs_actual_route  total_segments  \n",
       "0                   100.00               4  \n",
       "1                   143.93               4  \n",
       "2                   238.41               4  \n",
       "3                   238.41               4  \n",
       "4                   238.41               4  "
      ]
     },
     "execution_count": 57,
     "metadata": {},
     "output_type": "execute_result"
    }
   ],
   "source": [
    "m3_test.head()"
   ]
  },
  {
   "cell_type": "code",
   "execution_count": 59,
   "id": "9871bc16-63b6-42f8-be8e-3fcb7fb55d76",
   "metadata": {},
   "outputs": [],
   "source": [
    "# Merge \n",
    "m4 = operator_info[\n",
    "    [\n",
    "        \"calitp_itp_id\",\n",
    "        \"trip_id\",\n",
    "        \"route_dir_identifier\",\n",
    "        \"number_of_segments\",\n",
    "        \"minutes_elapsed\",\n",
    "    ]\n",
    "].merge(\n",
    "    m3_test,\n",
    "    how=\"inner\",\n",
    "    on=[\"calitp_itp_id\", \"trip_id\", \"route_dir_identifier\"],\n",
    ")"
   ]
  },
  {
   "cell_type": "markdown",
   "id": "2b6087de-669f-423a-a868-e271a93463f7",
   "metadata": {},
   "source": [
    "#### Help: normal for trip_ids to be dropped? Why are the `longest_vs_actual_route` so funky?"
   ]
  },
  {
   "cell_type": "code",
   "execution_count": 60,
   "id": "bfca501f-a151-4d39-a6ed-7efaf89ee559",
   "metadata": {
    "tags": []
   },
   "outputs": [
    {
     "data": {
      "text/plain": [
       "(279, 9)"
      ]
     },
     "execution_count": 60,
     "metadata": {},
     "output_type": "execute_result"
    }
   ],
   "source": [
    "m4.shape"
   ]
  },
  {
   "cell_type": "code",
   "execution_count": 64,
   "id": "5f06d371-85d4-4642-ac4a-fa6584021558",
   "metadata": {},
   "outputs": [
    {
     "data": {
      "text/plain": [
       "279"
      ]
     },
     "execution_count": 64,
     "metadata": {},
     "output_type": "execute_result"
    }
   ],
   "source": [
    "m4.trip_id.nunique()"
   ]
  },
  {
   "cell_type": "code",
   "execution_count": 61,
   "id": "5095dd8b-5287-49d3-b0b7-b417c4ebfc27",
   "metadata": {},
   "outputs": [],
   "source": [
    "# Find the total number of segments in the specific operator file\n",
    "# vs. what was recorded in `longest_shape`\n",
    "m4[\"segment_proportion\"] = ((m4.number_of_segments / m4.total_segments) * 100).astype(\n",
    "    \"int64\"\n",
    ")"
   ]
  },
  {
   "cell_type": "code",
   "execution_count": 62,
   "id": "69d9bb2a-8d59-4646-a8b2-f35054678f85",
   "metadata": {},
   "outputs": [
    {
     "data": {
      "text/plain": [
       "(2, 12)"
      ]
     },
     "execution_count": 62,
     "metadata": {},
     "output_type": "execute_result"
    }
   ],
   "source": [
    "m4.longest_shape_id.nunique(), m4.shape_id.nunique()"
   ]
  },
  {
   "cell_type": "code",
   "execution_count": 63,
   "id": "91a25609-8796-491a-9105-5014c90e2735",
   "metadata": {
    "tags": []
   },
   "outputs": [
    {
     "data": {
      "text/html": [
       "<div>\n",
       "<style scoped>\n",
       "    .dataframe tbody tr th:only-of-type {\n",
       "        vertical-align: middle;\n",
       "    }\n",
       "\n",
       "    .dataframe tbody tr th {\n",
       "        vertical-align: top;\n",
       "    }\n",
       "\n",
       "    .dataframe thead th {\n",
       "        text-align: right;\n",
       "    }\n",
       "</style>\n",
       "<table border=\"1\" class=\"dataframe\">\n",
       "  <thead>\n",
       "    <tr style=\"text-align: right;\">\n",
       "      <th></th>\n",
       "      <th>calitp_itp_id</th>\n",
       "      <th>trip_id</th>\n",
       "      <th>route_dir_identifier</th>\n",
       "      <th>number_of_segments</th>\n",
       "      <th>minutes_elapsed</th>\n",
       "      <th>shape_id</th>\n",
       "      <th>longest_shape_id</th>\n",
       "      <th>longest_vs_actual_route</th>\n",
       "      <th>total_segments</th>\n",
       "      <th>segment_proportion</th>\n",
       "    </tr>\n",
       "  </thead>\n",
       "  <tbody>\n",
       "    <tr>\n",
       "      <th>55</th>\n",
       "      <td>282</td>\n",
       "      <td>11136247</td>\n",
       "      <td>3971062270</td>\n",
       "      <td>4</td>\n",
       "      <td>21.15</td>\n",
       "      <td>204815</td>\n",
       "      <td>204811</td>\n",
       "      <td>262.49</td>\n",
       "      <td>4</td>\n",
       "      <td>100</td>\n",
       "    </tr>\n",
       "    <tr>\n",
       "      <th>200</th>\n",
       "      <td>282</td>\n",
       "      <td>11136393</td>\n",
       "      <td>2612439400</td>\n",
       "      <td>4</td>\n",
       "      <td>23.08</td>\n",
       "      <td>204821</td>\n",
       "      <td>204817</td>\n",
       "      <td>89.02</td>\n",
       "      <td>6</td>\n",
       "      <td>66</td>\n",
       "    </tr>\n",
       "    <tr>\n",
       "      <th>121</th>\n",
       "      <td>282</td>\n",
       "      <td>11136313</td>\n",
       "      <td>3971062270</td>\n",
       "      <td>4</td>\n",
       "      <td>21.07</td>\n",
       "      <td>204814</td>\n",
       "      <td>204811</td>\n",
       "      <td>143.93</td>\n",
       "      <td>4</td>\n",
       "      <td>100</td>\n",
       "    </tr>\n",
       "    <tr>\n",
       "      <th>245</th>\n",
       "      <td>282</td>\n",
       "      <td>11136439</td>\n",
       "      <td>2612439400</td>\n",
       "      <td>5</td>\n",
       "      <td>24.57</td>\n",
       "      <td>204824</td>\n",
       "      <td>204817</td>\n",
       "      <td>139.59</td>\n",
       "      <td>6</td>\n",
       "      <td>83</td>\n",
       "    </tr>\n",
       "    <tr>\n",
       "      <th>202</th>\n",
       "      <td>282</td>\n",
       "      <td>11136395</td>\n",
       "      <td>2612439400</td>\n",
       "      <td>4</td>\n",
       "      <td>22.25</td>\n",
       "      <td>204821</td>\n",
       "      <td>204817</td>\n",
       "      <td>89.02</td>\n",
       "      <td>6</td>\n",
       "      <td>66</td>\n",
       "    </tr>\n",
       "    <tr>\n",
       "      <th>82</th>\n",
       "      <td>282</td>\n",
       "      <td>11136274</td>\n",
       "      <td>3971062270</td>\n",
       "      <td>4</td>\n",
       "      <td>24.25</td>\n",
       "      <td>204815</td>\n",
       "      <td>204811</td>\n",
       "      <td>262.49</td>\n",
       "      <td>4</td>\n",
       "      <td>100</td>\n",
       "    </tr>\n",
       "    <tr>\n",
       "      <th>134</th>\n",
       "      <td>282</td>\n",
       "      <td>11136326</td>\n",
       "      <td>3971062270</td>\n",
       "      <td>4</td>\n",
       "      <td>18.02</td>\n",
       "      <td>204814</td>\n",
       "      <td>204811</td>\n",
       "      <td>143.93</td>\n",
       "      <td>4</td>\n",
       "      <td>100</td>\n",
       "    </tr>\n",
       "    <tr>\n",
       "      <th>218</th>\n",
       "      <td>282</td>\n",
       "      <td>11136411</td>\n",
       "      <td>2612439400</td>\n",
       "      <td>4</td>\n",
       "      <td>21.18</td>\n",
       "      <td>204821</td>\n",
       "      <td>204817</td>\n",
       "      <td>89.02</td>\n",
       "      <td>6</td>\n",
       "      <td>66</td>\n",
       "    </tr>\n",
       "    <tr>\n",
       "      <th>84</th>\n",
       "      <td>282</td>\n",
       "      <td>11136276</td>\n",
       "      <td>3971062270</td>\n",
       "      <td>4</td>\n",
       "      <td>20.72</td>\n",
       "      <td>204815</td>\n",
       "      <td>204811</td>\n",
       "      <td>262.49</td>\n",
       "      <td>4</td>\n",
       "      <td>100</td>\n",
       "    </tr>\n",
       "    <tr>\n",
       "      <th>263</th>\n",
       "      <td>282</td>\n",
       "      <td>11136457</td>\n",
       "      <td>2612439400</td>\n",
       "      <td>6</td>\n",
       "      <td>31.58</td>\n",
       "      <td>204822</td>\n",
       "      <td>204817</td>\n",
       "      <td>165.26</td>\n",
       "      <td>6</td>\n",
       "      <td>100</td>\n",
       "    </tr>\n",
       "  </tbody>\n",
       "</table>\n",
       "</div>"
      ],
      "text/plain": [
       "     calitp_itp_id   trip_id  route_dir_identifier  number_of_segments  \\\n",
       "55             282  11136247            3971062270                   4   \n",
       "200            282  11136393            2612439400                   4   \n",
       "121            282  11136313            3971062270                   4   \n",
       "245            282  11136439            2612439400                   5   \n",
       "202            282  11136395            2612439400                   4   \n",
       "82             282  11136274            3971062270                   4   \n",
       "134            282  11136326            3971062270                   4   \n",
       "218            282  11136411            2612439400                   4   \n",
       "84             282  11136276            3971062270                   4   \n",
       "263            282  11136457            2612439400                   6   \n",
       "\n",
       "     minutes_elapsed shape_id longest_shape_id  longest_vs_actual_route  \\\n",
       "55             21.15   204815           204811                   262.49   \n",
       "200            23.08   204821           204817                    89.02   \n",
       "121            21.07   204814           204811                   143.93   \n",
       "245            24.57   204824           204817                   139.59   \n",
       "202            22.25   204821           204817                    89.02   \n",
       "82             24.25   204815           204811                   262.49   \n",
       "134            18.02   204814           204811                   143.93   \n",
       "218            21.18   204821           204817                    89.02   \n",
       "84             20.72   204815           204811                   262.49   \n",
       "263            31.58   204822           204817                   165.26   \n",
       "\n",
       "     total_segments  segment_proportion  \n",
       "55                4                 100  \n",
       "200               6                  66  \n",
       "121               4                 100  \n",
       "245               6                  83  \n",
       "202               6                  66  \n",
       "82                4                 100  \n",
       "134               4                 100  \n",
       "218               6                  66  \n",
       "84                4                 100  \n",
       "263               6                 100  "
      ]
     },
     "execution_count": 63,
     "metadata": {},
     "output_type": "execute_result"
    }
   ],
   "source": [
    "m4.sample(10)"
   ]
  }
 ],
 "metadata": {
  "kernelspec": {
   "display_name": "Python 3 (ipykernel)",
   "language": "python",
   "name": "python3"
  },
  "language_info": {
   "codemirror_mode": {
    "name": "ipython",
    "version": 3
   },
   "file_extension": ".py",
   "mimetype": "text/x-python",
   "name": "python",
   "nbconvert_exporter": "python",
   "pygments_lexer": "ipython3",
   "version": "3.9.13"
  }
 },
 "nbformat": 4,
 "nbformat_minor": 5
}
