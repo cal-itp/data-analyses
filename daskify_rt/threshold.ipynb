{
 "cells": [
  {
   "cell_type": "markdown",
   "id": "503781ab-a3cb-4092-ab73-ea76ffd696c3",
   "metadata": {},
   "source": [
    "## RT trip diagnostics: thresholds for usable trips \n",
    "### Other Questions\n",
    "* Should thresholds be on the operator or the operator-route ID level?\n",
    "* How to figure out whether a segment is acceptable or not?\n",
    "* Is the `proportion_route_length` tied with usable segments?"
   ]
  },
  {
   "cell_type": "code",
   "execution_count": 217,
   "id": "1faeb7ff-1ebc-4ced-afb0-c813f863d3d8",
   "metadata": {},
   "outputs": [],
   "source": [
    "import dask.dataframe as dd\n",
    "import dask_geopandas as dg\n",
    "import geopandas as gpd\n",
    "import pandas as pd\n",
    "from calitp.sql import to_snakecase\n",
    "from shared_utils import geography_utils, utils, calitp_color_palette as cp, styleguide\n",
    "\n",
    "# Charts\n",
    "import altair as alt"
   ]
  },
  {
   "cell_type": "code",
   "execution_count": 2,
   "id": "9f13f204-138e-4b10-94a8-ead22461dad0",
   "metadata": {},
   "outputs": [],
   "source": [
    "# Save files to GCS\n",
    "from calitp.storage import get_fs\n",
    "fs = get_fs()"
   ]
  },
  {
   "cell_type": "code",
   "execution_count": 3,
   "id": "35a36bc4-4f66-4285-8025-a5eaccc3a266",
   "metadata": {},
   "outputs": [],
   "source": [
    "# Record start and end time\n",
    "import datetime\n",
    "from loguru import logger"
   ]
  },
  {
   "cell_type": "code",
   "execution_count": 4,
   "id": "f6233726-eb99-4f7e-9a90-842872f36ed7",
   "metadata": {},
   "outputs": [],
   "source": [
    "pd.options.display.max_columns = 100\n",
    "pd.options.display.float_format = \"{:.2f}\".format\n",
    "pd.set_option(\"display.max_rows\", None)\n",
    "pd.set_option(\"display.max_colwidth\", None)"
   ]
  },
  {
   "cell_type": "markdown",
   "id": "b26bf5e4-5ced-43dd-b792-12fa0e2376c0",
   "metadata": {},
   "source": [
    "### Load Files"
   ]
  },
  {
   "cell_type": "code",
   "execution_count": 5,
   "id": "2f333522-803a-4b60-b4af-b2edd0a274df",
   "metadata": {},
   "outputs": [],
   "source": [
    "GCS_DASK_PATH = \"gs://calitp-analytics-data/data-analyses/dask_test/\""
   ]
  },
  {
   "cell_type": "code",
   "execution_count": 6,
   "id": "3c8140f4-9219-4ef4-92b7-bd99eb8d0a38",
   "metadata": {},
   "outputs": [],
   "source": [
    "GCS_RT_PATH = \"gs://calitp-analytics-data/data-analyses/rt_delay/\""
   ]
  },
  {
   "cell_type": "code",
   "execution_count": 7,
   "id": "cdd7ae15-7777-4c40-94be-f441f68f9b6a",
   "metadata": {},
   "outputs": [],
   "source": [
    "analysis_date = \"2022-10-12\""
   ]
  },
  {
   "cell_type": "code",
   "execution_count": 8,
   "id": "adf9ac8a-43e9-4a1c-b27c-fd3e1f247fc5",
   "metadata": {},
   "outputs": [],
   "source": [
    "# RT data Read in route lines\n",
    "# Tells me actual route length for each shape id.\n",
    "routelines = gpd.read_parquet(\n",
    "    f\"{GCS_RT_PATH}compiled_cached_views/routelines_{analysis_date}.parquet\"\n",
    ")"
   ]
  },
  {
   "cell_type": "code",
   "execution_count": 9,
   "id": "901cc048-6ab1-4efd-9a30-9eafd17ba217",
   "metadata": {},
   "outputs": [
    {
     "data": {
      "text/plain": [
       "(9430, 6353)"
      ]
     },
     "execution_count": 9,
     "metadata": {},
     "output_type": "execute_result"
    }
   ],
   "source": [
    "len(routelines), routelines.shape_id.nunique()"
   ]
  },
  {
   "cell_type": "code",
   "execution_count": 10,
   "id": "71bf8792-7290-4d1f-b8ab-01e1a5ecefbb",
   "metadata": {},
   "outputs": [],
   "source": [
    "# RT data Read in Trips \n",
    "# Gives me trips ran for a particular day across all oeprators. \n",
    "trips = pd.read_parquet(\n",
    "    f\"{GCS_RT_PATH}compiled_cached_views/trips_{analysis_date}.parquet\"\n",
    ")"
   ]
  },
  {
   "cell_type": "code",
   "execution_count": 11,
   "id": "2ac62fbb-d527-41fc-8c7c-06f0def4765d",
   "metadata": {},
   "outputs": [
    {
     "data": {
      "text/plain": [
       "120136"
      ]
     },
     "execution_count": 11,
     "metadata": {},
     "output_type": "execute_result"
    }
   ],
   "source": [
    "len(trips)"
   ]
  },
  {
   "cell_type": "markdown",
   "id": "445b31d5-480e-4e7e-89cc-84bd56518218",
   "metadata": {},
   "source": [
    "* The `route_dir_identifier` is used for segments to cut segments\n",
    "for both directions the route runs."
   ]
  },
  {
   "cell_type": "code",
   "execution_count": 12,
   "id": "1b40dfcd-7a35-4780-9fff-d64fae60a97b",
   "metadata": {},
   "outputs": [],
   "source": [
    "# Read in longest_shape of each route\n",
    "# Schedule data, source of truth.\n",
    "longest_shape = gpd.read_parquet(f\"{GCS_DASK_PATH}longest_shape_segments.parquet\")"
   ]
  },
  {
   "cell_type": "code",
   "execution_count": 13,
   "id": "01705ac8-aa58-4076-b6eb-0f2657a80e46",
   "metadata": {
    "tags": []
   },
   "outputs": [],
   "source": [
    "# longest_shape.groupby(['calitp_itp_id','route_id','longest_shape_id']).agg({'segment_sequence':'nunique'}).head()"
   ]
  },
  {
   "cell_type": "code",
   "execution_count": 14,
   "id": "9db30746-9af9-473f-b068-443bd3623b3a",
   "metadata": {
    "tags": []
   },
   "outputs": [],
   "source": [
    "# longest_shape.sort_values(['calitp_itp_id', 'route_id']).head(25).drop(columns=[\"geometry\", \"geometry_arrowized\"])"
   ]
  },
  {
   "cell_type": "code",
   "execution_count": 15,
   "id": "287990c4-5e89-4247-8827-dd07aebed17b",
   "metadata": {},
   "outputs": [],
   "source": [
    "crosswalk = pd.read_parquet(\n",
    "    f\"{GCS_DASK_PATH}segments_route_direction_crosswalk.parquet\"\n",
    ")"
   ]
  },
  {
   "cell_type": "code",
   "execution_count": 16,
   "id": "7ddaf111-2652-4162-85fc-bd4e884bfb48",
   "metadata": {},
   "outputs": [],
   "source": [
    "# Use pandas.read_parquet/read_feather() instead.\n",
    "operator_4 = pd.read_parquet(\n",
    "    f\"{GCS_DASK_PATH}vp_sjoin/vp_segment_4_{analysis_date}.parquet\"\n",
    ")"
   ]
  },
  {
   "cell_type": "markdown",
   "id": "30ea0f95-de9d-4b1e-92bd-95111ba0e2d7",
   "metadata": {
    "tags": []
   },
   "source": [
    "### Task 1\n",
    "* Using GTFS schedule data, by route_id-shape_id, calculate the route_length of each shape_id as a proportion of the longest shape_id. \n",
    "* For <b>each route_id</b>, what's the shortest shape_id length, in proportion to the longest shape_id's length. if it's 100%, then all shape_ids are equal length for that route. if it's 50%, there's a short trip that exists that only runs 50% of the length and turns around.\n",
    "\n",
    "<b>How</b>\n",
    "* Need table `trips` from compile cached views -> shape ID and route ID and direction ID -> merge in segments crosswalk with route direction identifier \n",
    "* Shapes table -> attach route dir identifier\n",
    "* Merge in longest shape line using  routes and direction take the fraction. "
   ]
  },
  {
   "cell_type": "markdown",
   "id": "af681217-dbf7-449e-987d-18f9617074c7",
   "metadata": {},
   "source": [
    "#### Step 1. Merge `trips` with `crosswalk`\n",
    "* Why do we take away `trip_id` from `trips`? "
   ]
  },
  {
   "cell_type": "code",
   "execution_count": 17,
   "id": "6187daa4-8dc1-49e3-ac20-303fa358b301",
   "metadata": {},
   "outputs": [],
   "source": [
    "# Subset\n",
    "trips2 = trips[\n",
    "    [\n",
    "        \"calitp_itp_id\",\n",
    "        \"route_id\",\n",
    "        \"direction_id\",\n",
    "        \"shape_id\",\n",
    "    ]\n",
    "]"
   ]
  },
  {
   "cell_type": "code",
   "execution_count": 18,
   "id": "914b5817-1080-4f3f-a284-422fcb471f5a",
   "metadata": {},
   "outputs": [
    {
     "data": {
      "text/plain": [
       "(120136, 5150)"
      ]
     },
     "execution_count": 18,
     "metadata": {},
     "output_type": "execute_result"
    }
   ],
   "source": [
    "len(trips2), len(crosswalk)"
   ]
  },
  {
   "cell_type": "code",
   "execution_count": 162,
   "id": "f3c7d217-6580-4c25-9ad2-e52265a6888d",
   "metadata": {},
   "outputs": [
    {
     "data": {
      "text/plain": [
       "True"
      ]
     },
     "execution_count": 162,
     "metadata": {},
     "output_type": "execute_result"
    }
   ],
   "source": [
    "trips.calitp_itp_id.nunique() == routelines.calitp_itp_id.nunique() == crosswalk.calitp_itp_id.nunique()"
   ]
  },
  {
   "cell_type": "code",
   "execution_count": 158,
   "id": "49749757-585b-441a-b1f6-ddc4c7623f69",
   "metadata": {},
   "outputs": [
    {
     "data": {
      "text/html": [
       "<div>\n",
       "<style scoped>\n",
       "    .dataframe tbody tr th:only-of-type {\n",
       "        vertical-align: middle;\n",
       "    }\n",
       "\n",
       "    .dataframe tbody tr th {\n",
       "        vertical-align: top;\n",
       "    }\n",
       "\n",
       "    .dataframe thead th {\n",
       "        text-align: right;\n",
       "    }\n",
       "</style>\n",
       "<table border=\"1\" class=\"dataframe\">\n",
       "  <thead>\n",
       "    <tr style=\"text-align: right;\">\n",
       "      <th></th>\n",
       "      <th>calitp_itp_id</th>\n",
       "      <th>calitp_url_number</th>\n",
       "      <th>service_date</th>\n",
       "      <th>trip_key</th>\n",
       "      <th>trip_id</th>\n",
       "      <th>route_id</th>\n",
       "      <th>direction_id</th>\n",
       "      <th>shape_id</th>\n",
       "      <th>calitp_extracted_at</th>\n",
       "      <th>calitp_deleted_at</th>\n",
       "      <th>route_short_name</th>\n",
       "      <th>route_long_name</th>\n",
       "      <th>route_desc</th>\n",
       "      <th>route_type</th>\n",
       "    </tr>\n",
       "  </thead>\n",
       "  <tbody>\n",
       "    <tr>\n",
       "      <th>0</th>\n",
       "      <td>4</td>\n",
       "      <td>0</td>\n",
       "      <td>2022-10-12</td>\n",
       "      <td>-8276973624288086181</td>\n",
       "      <td>5204040</td>\n",
       "      <td>U</td>\n",
       "      <td>1</td>\n",
       "      <td>shp-U-06</td>\n",
       "      <td>2022-08-07</td>\n",
       "      <td>2099-01-01</td>\n",
       "      <td>U</td>\n",
       "      <td>Stanford - Dumbarton - Fremont</td>\n",
       "      <td>None</td>\n",
       "      <td>3</td>\n",
       "    </tr>\n",
       "    <tr>\n",
       "      <th>1</th>\n",
       "      <td>4</td>\n",
       "      <td>0</td>\n",
       "      <td>2022-10-12</td>\n",
       "      <td>-8528689834062779863</td>\n",
       "      <td>12137020</td>\n",
       "      <td>U</td>\n",
       "      <td>1</td>\n",
       "      <td>shp-U-06</td>\n",
       "      <td>2022-08-07</td>\n",
       "      <td>2099-01-01</td>\n",
       "      <td>U</td>\n",
       "      <td>Stanford - Dumbarton - Fremont</td>\n",
       "      <td>None</td>\n",
       "      <td>3</td>\n",
       "    </tr>\n",
       "  </tbody>\n",
       "</table>\n",
       "</div>"
      ],
      "text/plain": [
       "   calitp_itp_id  calitp_url_number service_date             trip_key  \\\n",
       "0              4                  0   2022-10-12 -8276973624288086181   \n",
       "1              4                  0   2022-10-12 -8528689834062779863   \n",
       "\n",
       "    trip_id route_id direction_id  shape_id calitp_extracted_at  \\\n",
       "0   5204040        U            1  shp-U-06          2022-08-07   \n",
       "1  12137020        U            1  shp-U-06          2022-08-07   \n",
       "\n",
       "  calitp_deleted_at route_short_name                 route_long_name  \\\n",
       "0        2099-01-01                U  Stanford - Dumbarton - Fremont   \n",
       "1        2099-01-01                U  Stanford - Dumbarton - Fremont   \n",
       "\n",
       "  route_desc route_type  \n",
       "0       None          3  \n",
       "1       None          3  "
      ]
     },
     "execution_count": 158,
     "metadata": {},
     "output_type": "execute_result"
    }
   ],
   "source": [
    "trips.head(2)"
   ]
  },
  {
   "cell_type": "code",
   "execution_count": 20,
   "id": "79547185-44d8-4b5c-a3b3-56d28f1bafd4",
   "metadata": {},
   "outputs": [
    {
     "data": {
      "text/html": [
       "<div>\n",
       "<style scoped>\n",
       "    .dataframe tbody tr th:only-of-type {\n",
       "        vertical-align: middle;\n",
       "    }\n",
       "\n",
       "    .dataframe tbody tr th {\n",
       "        vertical-align: top;\n",
       "    }\n",
       "\n",
       "    .dataframe thead th {\n",
       "        text-align: right;\n",
       "    }\n",
       "</style>\n",
       "<table border=\"1\" class=\"dataframe\">\n",
       "  <thead>\n",
       "    <tr style=\"text-align: right;\">\n",
       "      <th></th>\n",
       "      <th>calitp_itp_id</th>\n",
       "      <th>route_id</th>\n",
       "      <th>direction_id</th>\n",
       "      <th>shape_id</th>\n",
       "    </tr>\n",
       "  </thead>\n",
       "  <tbody>\n",
       "    <tr>\n",
       "      <th>0</th>\n",
       "      <td>4</td>\n",
       "      <td>U</td>\n",
       "      <td>1</td>\n",
       "      <td>shp-U-06</td>\n",
       "    </tr>\n",
       "    <tr>\n",
       "      <th>1</th>\n",
       "      <td>4</td>\n",
       "      <td>U</td>\n",
       "      <td>1</td>\n",
       "      <td>shp-U-06</td>\n",
       "    </tr>\n",
       "  </tbody>\n",
       "</table>\n",
       "</div>"
      ],
      "text/plain": [
       "   calitp_itp_id route_id direction_id  shape_id\n",
       "0              4        U            1  shp-U-06\n",
       "1              4        U            1  shp-U-06"
      ]
     },
     "execution_count": 20,
     "metadata": {},
     "output_type": "execute_result"
    }
   ],
   "source": [
    "trips2.head(2)"
   ]
  },
  {
   "cell_type": "code",
   "execution_count": 21,
   "id": "595fb91c-5c38-4573-a869-38d2d70d408d",
   "metadata": {},
   "outputs": [
    {
     "data": {
      "text/html": [
       "<div>\n",
       "<style scoped>\n",
       "    .dataframe tbody tr th:only-of-type {\n",
       "        vertical-align: middle;\n",
       "    }\n",
       "\n",
       "    .dataframe tbody tr th {\n",
       "        vertical-align: top;\n",
       "    }\n",
       "\n",
       "    .dataframe thead th {\n",
       "        text-align: right;\n",
       "    }\n",
       "</style>\n",
       "<table border=\"1\" class=\"dataframe\">\n",
       "  <thead>\n",
       "    <tr style=\"text-align: right;\">\n",
       "      <th></th>\n",
       "      <th>calitp_itp_id</th>\n",
       "      <th>route_id</th>\n",
       "      <th>direction_id</th>\n",
       "      <th>route_dir_identifier</th>\n",
       "    </tr>\n",
       "  </thead>\n",
       "  <tbody>\n",
       "    <tr>\n",
       "      <th>0</th>\n",
       "      <td>372</td>\n",
       "      <td>4ba918e5-58c0-4d4a-9f55-5cadb8564bff</td>\n",
       "      <td>0</td>\n",
       "      <td>255544</td>\n",
       "    </tr>\n",
       "    <tr>\n",
       "      <th>1</th>\n",
       "      <td>293</td>\n",
       "      <td>7</td>\n",
       "      <td>0</td>\n",
       "      <td>1269889</td>\n",
       "    </tr>\n",
       "  </tbody>\n",
       "</table>\n",
       "</div>"
      ],
      "text/plain": [
       "   calitp_itp_id                              route_id direction_id  \\\n",
       "0            372  4ba918e5-58c0-4d4a-9f55-5cadb8564bff            0   \n",
       "1            293                                     7            0   \n",
       "\n",
       "   route_dir_identifier  \n",
       "0                255544  \n",
       "1               1269889  "
      ]
     },
     "execution_count": 21,
     "metadata": {},
     "output_type": "execute_result"
    }
   ],
   "source": [
    "crosswalk.head(2)"
   ]
  },
  {
   "cell_type": "markdown",
   "id": "01553e1d-64f9-4f41-90e6-c539506f0554",
   "metadata": {},
   "source": [
    "##### Help. Is it correct to drop the duplicates?\n",
    "* We dropped the columns that make each row unique (trip_id, calitp_extracted_at, calitp_deleted_at). "
   ]
  },
  {
   "cell_type": "code",
   "execution_count": 22,
   "id": "9878eef6-3760-438c-8427-7a2083dcff00",
   "metadata": {},
   "outputs": [
    {
     "data": {
      "text/plain": [
       "(8199, 120136)"
      ]
     },
     "execution_count": 22,
     "metadata": {},
     "output_type": "execute_result"
    }
   ],
   "source": [
    "len(trips2.drop_duplicates()), len(trips2)"
   ]
  },
  {
   "cell_type": "code",
   "execution_count": 23,
   "id": "5afd66c3-5ea4-45c0-9a8b-e97c89d05405",
   "metadata": {},
   "outputs": [],
   "source": [
    "trips2 = (trips2.drop_duplicates()).reset_index(drop=True)"
   ]
  },
  {
   "cell_type": "markdown",
   "id": "be2300e9-55fd-4ec4-94fb-17dfa07f5719",
   "metadata": {},
   "source": [
    "* 366 more values in `trips` than `crosswalk` even tho `Cal ITP ID.nunique()` yields the same number."
   ]
  },
  {
   "cell_type": "code",
   "execution_count": 164,
   "id": "eab2de44-79e6-48ae-90e5-c41483f712e6",
   "metadata": {},
   "outputs": [
    {
     "data": {
      "text/plain": [
       "_merge    \n",
       "both          7833\n",
       "left_only      366\n",
       "right_only      74\n",
       "dtype: int64"
      ]
     },
     "execution_count": 164,
     "metadata": {},
     "output_type": "execute_result"
    }
   ],
   "source": [
    "trips2.merge(\n",
    "    crosswalk,\n",
    "    how=\"outer\",\n",
    "    on=[\"calitp_itp_id\", \"route_id\", \"direction_id\"],\n",
    "    indicator=True,\n",
    ")[[\"_merge\"]].value_counts()"
   ]
  },
  {
   "cell_type": "code",
   "execution_count": 25,
   "id": "1849e6aa-0008-456c-885f-3018ad3581fc",
   "metadata": {},
   "outputs": [],
   "source": [
    "trips_m_crosswalk = trips2.merge(\n",
    "    crosswalk, how=\"inner\", on=[\"calitp_itp_id\", \"route_id\", \"direction_id\"]\n",
    ")"
   ]
  },
  {
   "cell_type": "code",
   "execution_count": 26,
   "id": "1672001c-a0da-4751-9f2a-f32c1601666c",
   "metadata": {},
   "outputs": [
    {
     "data": {
      "text/html": [
       "<div>\n",
       "<style scoped>\n",
       "    .dataframe tbody tr th:only-of-type {\n",
       "        vertical-align: middle;\n",
       "    }\n",
       "\n",
       "    .dataframe tbody tr th {\n",
       "        vertical-align: top;\n",
       "    }\n",
       "\n",
       "    .dataframe thead th {\n",
       "        text-align: right;\n",
       "    }\n",
       "</style>\n",
       "<table border=\"1\" class=\"dataframe\">\n",
       "  <thead>\n",
       "    <tr style=\"text-align: right;\">\n",
       "      <th></th>\n",
       "      <th>calitp_itp_id</th>\n",
       "      <th>route_id</th>\n",
       "      <th>direction_id</th>\n",
       "      <th>shape_id</th>\n",
       "      <th>route_dir_identifier</th>\n",
       "    </tr>\n",
       "  </thead>\n",
       "  <tbody>\n",
       "    <tr>\n",
       "      <th>0</th>\n",
       "      <td>4</td>\n",
       "      <td>U</td>\n",
       "      <td>1</td>\n",
       "      <td>shp-U-06</td>\n",
       "      <td>1244740981</td>\n",
       "    </tr>\n",
       "    <tr>\n",
       "      <th>1</th>\n",
       "      <td>4</td>\n",
       "      <td>U</td>\n",
       "      <td>0</td>\n",
       "      <td>shp-U-07</td>\n",
       "      <td>1026952675</td>\n",
       "    </tr>\n",
       "    <tr>\n",
       "      <th>2</th>\n",
       "      <td>4</td>\n",
       "      <td>212</td>\n",
       "      <td>1</td>\n",
       "      <td>shp-212-07</td>\n",
       "      <td>1369834141</td>\n",
       "    </tr>\n",
       "    <tr>\n",
       "      <th>3</th>\n",
       "      <td>4</td>\n",
       "      <td>212</td>\n",
       "      <td>0</td>\n",
       "      <td>shp-212-57</td>\n",
       "      <td>648098315</td>\n",
       "    </tr>\n",
       "    <tr>\n",
       "      <th>4</th>\n",
       "      <td>4</td>\n",
       "      <td>67</td>\n",
       "      <td>0</td>\n",
       "      <td>shp-67-57</td>\n",
       "      <td>3358964048</td>\n",
       "    </tr>\n",
       "  </tbody>\n",
       "</table>\n",
       "</div>"
      ],
      "text/plain": [
       "   calitp_itp_id route_id direction_id    shape_id  route_dir_identifier\n",
       "0              4        U            1    shp-U-06            1244740981\n",
       "1              4        U            0    shp-U-07            1026952675\n",
       "2              4      212            1  shp-212-07            1369834141\n",
       "3              4      212            0  shp-212-57             648098315\n",
       "4              4       67            0   shp-67-57            3358964048"
      ]
     },
     "execution_count": 26,
     "metadata": {},
     "output_type": "execute_result"
    }
   ],
   "source": [
    "trips_m_crosswalk.head()"
   ]
  },
  {
   "cell_type": "code",
   "execution_count": 169,
   "id": "e20545da-3147-45e1-9427-ea98bb3b4c29",
   "metadata": {
    "tags": []
   },
   "outputs": [
    {
     "data": {
      "text/plain": [
       "count   6002.00\n",
       "mean       1.31\n",
       "std        0.94\n",
       "min        1.00\n",
       "25%        1.00\n",
       "50%        1.00\n",
       "75%        1.00\n",
       "max        9.00\n",
       "Name: shape_id, dtype: float64"
      ]
     },
     "execution_count": 169,
     "metadata": {},
     "output_type": "execute_result"
    }
   ],
   "source": [
    "trips_m_crosswalk.shape_id.value_counts().describe()"
   ]
  },
  {
   "cell_type": "markdown",
   "id": "1ab233bc-9ebc-44de-842a-4e8a964b76a4",
   "metadata": {
    "tags": []
   },
   "source": [
    "#### Step 2. Shapes table -> attach route dir identifier "
   ]
  },
  {
   "cell_type": "code",
   "execution_count": 27,
   "id": "d1b829d0-8ae3-47f7-af61-ae4cc7cf4942",
   "metadata": {},
   "outputs": [],
   "source": [
    "routelines = routelines.drop(columns=[\"calitp_url_number\"])"
   ]
  },
  {
   "cell_type": "code",
   "execution_count": 28,
   "id": "40da8022-21d9-49f1-9515-edf8a5a63537",
   "metadata": {},
   "outputs": [],
   "source": [
    "# Calculate length of geometry\n",
    "routelines = routelines.assign(\n",
    "    actual_route_length=(\n",
    "        routelines.geometry.to_crs(geography_utils.CA_StatePlane).length\n",
    "    )\n",
    ")"
   ]
  },
  {
   "cell_type": "markdown",
   "id": "a47484f4-15e3-491c-a89c-0649ac2bdbd8",
   "metadata": {},
   "source": [
    "##### Help. Why are there duplicates? \n",
    "* Each route will have at least 2 shape IDS. \n",
    "* How come Cal ITP 4 yields two of the same ID's with the same route lengths?\n",
    "* Is it right to drop them?"
   ]
  },
  {
   "cell_type": "code",
   "execution_count": 29,
   "id": "b2286b70-510a-4e58-a90b-006e2020bcf2",
   "metadata": {
    "tags": []
   },
   "outputs": [
    {
     "data": {
      "text/html": [
       "<div>\n",
       "<style scoped>\n",
       "    .dataframe tbody tr th:only-of-type {\n",
       "        vertical-align: middle;\n",
       "    }\n",
       "\n",
       "    .dataframe tbody tr th {\n",
       "        vertical-align: top;\n",
       "    }\n",
       "\n",
       "    .dataframe thead th {\n",
       "        text-align: right;\n",
       "    }\n",
       "</style>\n",
       "<table border=\"1\" class=\"dataframe\">\n",
       "  <thead>\n",
       "    <tr style=\"text-align: right;\">\n",
       "      <th></th>\n",
       "      <th>calitp_itp_id</th>\n",
       "      <th>shape_id</th>\n",
       "      <th>actual_route_length</th>\n",
       "    </tr>\n",
       "  </thead>\n",
       "  <tbody>\n",
       "    <tr>\n",
       "      <th>111</th>\n",
       "      <td>4</td>\n",
       "      <td>shp-U-06</td>\n",
       "      <td>111927.21</td>\n",
       "    </tr>\n",
       "    <tr>\n",
       "      <th>622</th>\n",
       "      <td>4</td>\n",
       "      <td>shp-U-06</td>\n",
       "      <td>111927.21</td>\n",
       "    </tr>\n",
       "  </tbody>\n",
       "</table>\n",
       "</div>"
      ],
      "text/plain": [
       "     calitp_itp_id  shape_id  actual_route_length\n",
       "111              4  shp-U-06            111927.21\n",
       "622              4  shp-U-06            111927.21"
      ]
     },
     "execution_count": 29,
     "metadata": {},
     "output_type": "execute_result"
    }
   ],
   "source": [
    "routelines.loc[routelines.shape_id == \"shp-U-06\"].drop(columns=[\"geometry\"])"
   ]
  },
  {
   "cell_type": "code",
   "execution_count": 30,
   "id": "4b1a1e42-f4dc-4226-a2f3-63b92f996c7a",
   "metadata": {},
   "outputs": [
    {
     "data": {
      "text/plain": [
       "2           11\n",
       "20          10\n",
       "5           10\n",
       "16          10\n",
       "86          10\n",
       "13          10\n",
       "p_531955     9\n",
       "p_531884     9\n",
       "p_531873     9\n",
       "p_531875     9\n",
       "p_531923     9\n",
       "p_532031     9\n",
       "p_531918     9\n",
       "p_531919     9\n",
       "p_531921     9\n",
       "Name: shape_id, dtype: int64"
      ]
     },
     "execution_count": 30,
     "metadata": {},
     "output_type": "execute_result"
    }
   ],
   "source": [
    "routelines.shape_id.value_counts().head(15)"
   ]
  },
  {
   "cell_type": "code",
   "execution_count": 31,
   "id": "8a5e50f5-6f7d-4907-984b-85c636763f71",
   "metadata": {},
   "outputs": [
    {
     "data": {
      "text/plain": [
       "9430"
      ]
     },
     "execution_count": 31,
     "metadata": {},
     "output_type": "execute_result"
    }
   ],
   "source": [
    "# Original routelines with duplicates. \n",
    "len(routelines)"
   ]
  },
  {
   "cell_type": "code",
   "execution_count": 32,
   "id": "eb97d31f-6754-41c6-9c15-e4db97b433d7",
   "metadata": {},
   "outputs": [
    {
     "data": {
      "text/plain": [
       "8133"
      ]
     },
     "execution_count": 32,
     "metadata": {},
     "output_type": "execute_result"
    }
   ],
   "source": [
    "# Length if duplicates are dropped\n",
    "len(routelines.drop_duplicates())"
   ]
  },
  {
   "cell_type": "code",
   "execution_count": 33,
   "id": "1f22f7ff-1720-48aa-aca1-d09d36d9c238",
   "metadata": {},
   "outputs": [],
   "source": [
    "routelines = (routelines.drop_duplicates()).reset_index(drop=True)"
   ]
  },
  {
   "cell_type": "code",
   "execution_count": 34,
   "id": "88cc7c53-1c07-49cd-b1af-7c8e5c1b4832",
   "metadata": {},
   "outputs": [
    {
     "data": {
      "text/html": [
       "<div>\n",
       "<style scoped>\n",
       "    .dataframe tbody tr th:only-of-type {\n",
       "        vertical-align: middle;\n",
       "    }\n",
       "\n",
       "    .dataframe tbody tr th {\n",
       "        vertical-align: top;\n",
       "    }\n",
       "\n",
       "    .dataframe thead th {\n",
       "        text-align: right;\n",
       "    }\n",
       "</style>\n",
       "<table border=\"1\" class=\"dataframe\">\n",
       "  <thead>\n",
       "    <tr style=\"text-align: right;\">\n",
       "      <th></th>\n",
       "      <th>calitp_itp_id</th>\n",
       "      <th>shape_id</th>\n",
       "      <th>actual_route_length</th>\n",
       "    </tr>\n",
       "  </thead>\n",
       "  <tbody>\n",
       "    <tr>\n",
       "      <th>111</th>\n",
       "      <td>4</td>\n",
       "      <td>shp-U-06</td>\n",
       "      <td>111927.21</td>\n",
       "    </tr>\n",
       "  </tbody>\n",
       "</table>\n",
       "</div>"
      ],
      "text/plain": [
       "     calitp_itp_id  shape_id  actual_route_length\n",
       "111              4  shp-U-06            111927.21"
      ]
     },
     "execution_count": 34,
     "metadata": {},
     "output_type": "execute_result"
    }
   ],
   "source": [
    "routelines.loc[routelines.shape_id == \"shp-U-06\"].drop(columns=[\"geometry\"])"
   ]
  },
  {
   "cell_type": "code",
   "execution_count": 35,
   "id": "d2b7fffa-a8c2-4303-95a5-5b4887db9e0d",
   "metadata": {},
   "outputs": [
    {
     "data": {
      "text/plain": [
       "_merge    \n",
       "both          8529\n",
       "left_only      363\n",
       "right_only       0\n",
       "dtype: int64"
      ]
     },
     "execution_count": 35,
     "metadata": {},
     "output_type": "execute_result"
    }
   ],
   "source": [
    "routelines.merge(\n",
    "    trips_m_crosswalk, how=\"outer\", on=[\"calitp_itp_id\", \"shape_id\"], indicator=True\n",
    ")[[\"_merge\"]].value_counts()"
   ]
  },
  {
   "cell_type": "code",
   "execution_count": 36,
   "id": "5b527f4e-dca0-48c0-8bff-9c8860f511e8",
   "metadata": {},
   "outputs": [],
   "source": [
    "routelines_m_trips = routelines.merge(\n",
    "    trips_m_crosswalk,\n",
    "    how=\"inner\",\n",
    "    on=[\"calitp_itp_id\", \"shape_id\"],\n",
    ")"
   ]
  },
  {
   "cell_type": "code",
   "execution_count": 38,
   "id": "01b1e289-ee9d-4282-8a20-0d9ddc82c4e1",
   "metadata": {},
   "outputs": [
    {
     "data": {
      "text/plain": [
       "(8529, 7833, 8133)"
      ]
     },
     "execution_count": 38,
     "metadata": {},
     "output_type": "execute_result"
    }
   ],
   "source": [
    "len(routelines_m_trips), len(trips_m_crosswalk), len(routelines)"
   ]
  },
  {
   "cell_type": "code",
   "execution_count": 39,
   "id": "6922728a-3c6a-4e4b-b6df-e3f6ae2275ab",
   "metadata": {
    "tags": []
   },
   "outputs": [
    {
     "data": {
      "text/html": [
       "<div>\n",
       "<style scoped>\n",
       "    .dataframe tbody tr th:only-of-type {\n",
       "        vertical-align: middle;\n",
       "    }\n",
       "\n",
       "    .dataframe tbody tr th {\n",
       "        vertical-align: top;\n",
       "    }\n",
       "\n",
       "    .dataframe thead th {\n",
       "        text-align: right;\n",
       "    }\n",
       "</style>\n",
       "<table border=\"1\" class=\"dataframe\">\n",
       "  <thead>\n",
       "    <tr style=\"text-align: right;\">\n",
       "      <th></th>\n",
       "      <th>calitp_itp_id</th>\n",
       "      <th>shape_id</th>\n",
       "      <th>actual_route_length</th>\n",
       "      <th>route_id</th>\n",
       "      <th>direction_id</th>\n",
       "      <th>route_dir_identifier</th>\n",
       "    </tr>\n",
       "  </thead>\n",
       "  <tbody>\n",
       "    <tr>\n",
       "      <th>1</th>\n",
       "      <td>4</td>\n",
       "      <td>shp-U-07</td>\n",
       "      <td>111849.47</td>\n",
       "      <td>U</td>\n",
       "      <td>0</td>\n",
       "      <td>1026952675</td>\n",
       "    </tr>\n",
       "    <tr>\n",
       "      <th>111</th>\n",
       "      <td>4</td>\n",
       "      <td>shp-U-06</td>\n",
       "      <td>111927.21</td>\n",
       "      <td>U</td>\n",
       "      <td>1</td>\n",
       "      <td>1244740981</td>\n",
       "    </tr>\n",
       "  </tbody>\n",
       "</table>\n",
       "</div>"
      ],
      "text/plain": [
       "     calitp_itp_id  shape_id  actual_route_length route_id direction_id  \\\n",
       "1                4  shp-U-07            111849.47        U            0   \n",
       "111              4  shp-U-06            111927.21        U            1   \n",
       "\n",
       "     route_dir_identifier  \n",
       "1              1026952675  \n",
       "111            1244740981  "
      ]
     },
     "execution_count": 39,
     "metadata": {},
     "output_type": "execute_result"
    }
   ],
   "source": [
    "routelines_m_trips.loc[routelines_m_trips.route_id == \"U\"].drop(columns=[\"geometry\"])"
   ]
  },
  {
   "cell_type": "markdown",
   "id": "73bec028-a8b9-4967-80a1-7970155d3f12",
   "metadata": {},
   "source": [
    "#### Step 3. Merge in longest shape line on routes and direction."
   ]
  },
  {
   "cell_type": "code",
   "execution_count": 40,
   "id": "4ad11571-f463-4b2a-8ae8-951ae3b5ca0a",
   "metadata": {},
   "outputs": [
    {
     "data": {
      "text/plain": [
       "True"
      ]
     },
     "execution_count": 40,
     "metadata": {},
     "output_type": "execute_result"
    }
   ],
   "source": [
    "routelines_m_trips.crs == longest_shape.crs"
   ]
  },
  {
   "cell_type": "code",
   "execution_count": null,
   "id": "255163a6-3dc6-422d-a332-05471e283c98",
   "metadata": {},
   "outputs": [],
   "source": [
    "# longest_shape = longest_shape.rename(columns={\"route_length\": \"longest_route_length\"})"
   ]
  },
  {
   "cell_type": "markdown",
   "id": "e2287c59-d2de-4e65-8cad-9211638c3911",
   "metadata": {},
   "source": [
    "##### Help.  Do I have to aggregate longest_shape because the `longest shape id` is broken down by segment and doesn't total up to the `not_longest_route_length`? \n",
    "* Route 1244740981 is broken out to 35 segments. \n",
    "* Above in `routelines_m_trips` filtered for 1244740981 I can see the actual route length is 111,849.47 meters. However, the longest route length per sequence in `longest_shape` for the same route_dir_identifier is only 34,070.90 meters. \n",
    "* Do I also sum up total segments in `longest_shape` per `longest_shape_id`? "
   ]
  },
  {
   "cell_type": "code",
   "execution_count": 43,
   "id": "9ef18604-71d7-4aef-858b-dc36eff8116c",
   "metadata": {
    "tags": []
   },
   "outputs": [
    {
     "data": {
      "text/html": [
       "<div>\n",
       "<style scoped>\n",
       "    .dataframe tbody tr th:only-of-type {\n",
       "        vertical-align: middle;\n",
       "    }\n",
       "\n",
       "    .dataframe tbody tr th {\n",
       "        vertical-align: top;\n",
       "    }\n",
       "\n",
       "    .dataframe thead th {\n",
       "        text-align: right;\n",
       "    }\n",
       "</style>\n",
       "<table border=\"1\" class=\"dataframe\">\n",
       "  <thead>\n",
       "    <tr style=\"text-align: right;\">\n",
       "      <th></th>\n",
       "      <th>calitp_itp_id</th>\n",
       "      <th>calitp_url_number</th>\n",
       "      <th>route_id</th>\n",
       "      <th>direction_id</th>\n",
       "      <th>longest_shape_id</th>\n",
       "      <th>route_dir_identifier</th>\n",
       "      <th>route_length</th>\n",
       "      <th>segment_sequence</th>\n",
       "    </tr>\n",
       "  </thead>\n",
       "  <tbody>\n",
       "    <tr>\n",
       "      <th>4012</th>\n",
       "      <td>4</td>\n",
       "      <td>0</td>\n",
       "      <td>U</td>\n",
       "      <td>1</td>\n",
       "      <td>shp-U-06</td>\n",
       "      <td>1244740981</td>\n",
       "      <td>34070.90</td>\n",
       "      <td>0</td>\n",
       "    </tr>\n",
       "    <tr>\n",
       "      <th>4013</th>\n",
       "      <td>4</td>\n",
       "      <td>0</td>\n",
       "      <td>U</td>\n",
       "      <td>1</td>\n",
       "      <td>shp-U-06</td>\n",
       "      <td>1244740981</td>\n",
       "      <td>34070.90</td>\n",
       "      <td>1</td>\n",
       "    </tr>\n",
       "    <tr>\n",
       "      <th>4014</th>\n",
       "      <td>4</td>\n",
       "      <td>0</td>\n",
       "      <td>U</td>\n",
       "      <td>1</td>\n",
       "      <td>shp-U-06</td>\n",
       "      <td>1244740981</td>\n",
       "      <td>34070.90</td>\n",
       "      <td>2</td>\n",
       "    </tr>\n",
       "    <tr>\n",
       "      <th>4015</th>\n",
       "      <td>4</td>\n",
       "      <td>0</td>\n",
       "      <td>U</td>\n",
       "      <td>1</td>\n",
       "      <td>shp-U-06</td>\n",
       "      <td>1244740981</td>\n",
       "      <td>34070.90</td>\n",
       "      <td>3</td>\n",
       "    </tr>\n",
       "    <tr>\n",
       "      <th>4016</th>\n",
       "      <td>4</td>\n",
       "      <td>0</td>\n",
       "      <td>U</td>\n",
       "      <td>1</td>\n",
       "      <td>shp-U-06</td>\n",
       "      <td>1244740981</td>\n",
       "      <td>34070.90</td>\n",
       "      <td>4</td>\n",
       "    </tr>\n",
       "  </tbody>\n",
       "</table>\n",
       "</div>"
      ],
      "text/plain": [
       "      calitp_itp_id  calitp_url_number route_id direction_id longest_shape_id  \\\n",
       "4012              4                  0        U            1         shp-U-06   \n",
       "4013              4                  0        U            1         shp-U-06   \n",
       "4014              4                  0        U            1         shp-U-06   \n",
       "4015              4                  0        U            1         shp-U-06   \n",
       "4016              4                  0        U            1         shp-U-06   \n",
       "\n",
       "      route_dir_identifier  route_length segment_sequence  \n",
       "4012            1244740981      34070.90                0  \n",
       "4013            1244740981      34070.90                1  \n",
       "4014            1244740981      34070.90                2  \n",
       "4015            1244740981      34070.90                3  \n",
       "4016            1244740981      34070.90                4  "
      ]
     },
     "execution_count": 43,
     "metadata": {},
     "output_type": "execute_result"
    }
   ],
   "source": [
    "longest_shape.loc[longest_shape.route_dir_identifier == 1244740981].drop(\n",
    "    columns=[\"geometry\", \"geometry_arrowized\"]\n",
    ").head()"
   ]
  },
  {
   "cell_type": "code",
   "execution_count": 170,
   "id": "3ed4932e-f8a0-4d26-a3e6-89719e581e52",
   "metadata": {},
   "outputs": [
    {
     "data": {
      "text/plain": [
       "route_length   1192481.63\n",
       "dtype: float64"
      ]
     },
     "execution_count": 170,
     "metadata": {},
     "output_type": "execute_result"
    }
   ],
   "source": [
    "longest_shape.loc[longest_shape.route_dir_identifier == 1244740981][['route_length']].sum()"
   ]
  },
  {
   "cell_type": "code",
   "execution_count": 44,
   "id": "06e5f0c9-74e6-4bab-99dd-725949dcbc23",
   "metadata": {},
   "outputs": [],
   "source": [
    "# Have to aggregate longest_shape, take away calitp url & segments.\n",
    "longest_shape_agg = (\n",
    "    longest_shape.groupby(\n",
    "        [\n",
    "            \"calitp_itp_id\",\n",
    "            \"route_id\",\n",
    "            \"direction_id\",\n",
    "            \"longest_shape_id\",\n",
    "            \"route_dir_identifier\",\n",
    "        ]\n",
    "    ).agg({\"route_length\": \"sum\",\n",
    "          \"segment_sequence\":\"nunique\"})\n",
    "    .rename(columns = {'route_length':'longest_route_length',\n",
    "                       'segment_sequence':'total_segments'})\n",
    ").reset_index()"
   ]
  },
  {
   "cell_type": "markdown",
   "id": "5fe3f3bc-5966-4770-b65a-74d99894d415",
   "metadata": {},
   "source": [
    "* Now the longest length for 1244740981 is 1,192,481.63. Doesn't match routelines_m_trips filtered for 1244740981, where the actual route length is 111,849.47 meters. "
   ]
  },
  {
   "cell_type": "code",
   "execution_count": 45,
   "id": "71246ab6-3f87-49eb-ac03-ebee4f05ca0a",
   "metadata": {},
   "outputs": [
    {
     "data": {
      "text/html": [
       "<div>\n",
       "<style scoped>\n",
       "    .dataframe tbody tr th:only-of-type {\n",
       "        vertical-align: middle;\n",
       "    }\n",
       "\n",
       "    .dataframe tbody tr th {\n",
       "        vertical-align: top;\n",
       "    }\n",
       "\n",
       "    .dataframe thead th {\n",
       "        text-align: right;\n",
       "    }\n",
       "</style>\n",
       "<table border=\"1\" class=\"dataframe\">\n",
       "  <thead>\n",
       "    <tr style=\"text-align: right;\">\n",
       "      <th></th>\n",
       "      <th>calitp_itp_id</th>\n",
       "      <th>route_id</th>\n",
       "      <th>direction_id</th>\n",
       "      <th>longest_shape_id</th>\n",
       "      <th>route_dir_identifier</th>\n",
       "      <th>longest_route_length</th>\n",
       "      <th>total_segments</th>\n",
       "    </tr>\n",
       "  </thead>\n",
       "  <tbody>\n",
       "    <tr>\n",
       "      <th>244</th>\n",
       "      <td>4</td>\n",
       "      <td>U</td>\n",
       "      <td>1</td>\n",
       "      <td>shp-U-06</td>\n",
       "      <td>1244740981</td>\n",
       "      <td>1192481.63</td>\n",
       "      <td>35</td>\n",
       "    </tr>\n",
       "  </tbody>\n",
       "</table>\n",
       "</div>"
      ],
      "text/plain": [
       "     calitp_itp_id route_id direction_id longest_shape_id  \\\n",
       "244              4        U            1         shp-U-06   \n",
       "\n",
       "     route_dir_identifier  longest_route_length  total_segments  \n",
       "244            1244740981            1192481.63              35  "
      ]
     },
     "execution_count": 45,
     "metadata": {},
     "output_type": "execute_result"
    }
   ],
   "source": [
    "longest_shape_agg.loc[longest_shape_agg.route_dir_identifier == 1244740981]"
   ]
  },
  {
   "cell_type": "code",
   "execution_count": 46,
   "id": "76b9c85c-dadd-41d0-a543-bd95af39b009",
   "metadata": {},
   "outputs": [
    {
     "data": {
      "text/plain": [
       "(8529, 126896, 5150)"
      ]
     },
     "execution_count": 46,
     "metadata": {},
     "output_type": "execute_result"
    }
   ],
   "source": [
    "len(routelines_m_trips), len(longest_shape), len(longest_shape_agg)"
   ]
  },
  {
   "cell_type": "code",
   "execution_count": 47,
   "id": "0f9cb05d-c21a-4cb8-8e7f-de2e7e594f66",
   "metadata": {},
   "outputs": [
    {
     "data": {
      "text/plain": [
       "_merge    \n",
       "both          8529\n",
       "right_only      74\n",
       "left_only        0\n",
       "dtype: int64"
      ]
     },
     "execution_count": 47,
     "metadata": {},
     "output_type": "execute_result"
    }
   ],
   "source": [
    "# Right only has 74 more rows...\n",
    "routelines_m_trips.merge(\n",
    "    longest_shape_agg,\n",
    "    how=\"outer\",\n",
    "    on=[\"calitp_itp_id\", \"direction_id\", \"route_id\", \"route_dir_identifier\"],\n",
    "    indicator=True,\n",
    ")[[\"_merge\"]].value_counts()"
   ]
  },
  {
   "cell_type": "code",
   "execution_count": 48,
   "id": "2f5fe764-b2a2-4774-ad3f-7bad94f712d9",
   "metadata": {},
   "outputs": [],
   "source": [
    "routelines_final = routelines_m_trips.merge(\n",
    "    longest_shape_agg,\n",
    "    how=\"inner\",\n",
    "    on=[\"calitp_itp_id\", \"direction_id\", \"route_id\", \"route_dir_identifier\"],\n",
    ")"
   ]
  },
  {
   "cell_type": "code",
   "execution_count": 49,
   "id": "3e28ed5a-4acf-4335-9659-3530813ad795",
   "metadata": {},
   "outputs": [],
   "source": [
    "# Calculate out proportion of route length against longest.\n",
    "routelines_final[\"proportion_route_length\"] = (\n",
    "    routelines_final[\"actual_route_length\"] / routelines_final[\"longest_route_length\"]\n",
    ") * 100"
   ]
  },
  {
   "cell_type": "code",
   "execution_count": 50,
   "id": "c45b087a-7538-4ac2-a420-b966116bac6f",
   "metadata": {},
   "outputs": [
    {
     "data": {
      "text/plain": [
       "count   8529.00\n",
       "mean      33.32\n",
       "std      144.08\n",
       "min        0.07\n",
       "25%        9.81\n",
       "50%       18.23\n",
       "75%       32.45\n",
       "max     7015.79\n",
       "Name: proportion_route_length, dtype: float64"
      ]
     },
     "execution_count": 50,
     "metadata": {},
     "output_type": "execute_result"
    }
   ],
   "source": [
    "routelines_final.proportion_route_length.describe()"
   ]
  },
  {
   "cell_type": "code",
   "execution_count": 51,
   "id": "19714a62-565d-43c7-af3d-0b82e243239c",
   "metadata": {},
   "outputs": [
    {
     "data": {
      "text/html": [
       "<div>\n",
       "<style scoped>\n",
       "    .dataframe tbody tr th:only-of-type {\n",
       "        vertical-align: middle;\n",
       "    }\n",
       "\n",
       "    .dataframe tbody tr th {\n",
       "        vertical-align: top;\n",
       "    }\n",
       "\n",
       "    .dataframe thead th {\n",
       "        text-align: right;\n",
       "    }\n",
       "</style>\n",
       "<table border=\"1\" class=\"dataframe\">\n",
       "  <thead>\n",
       "    <tr style=\"text-align: right;\">\n",
       "      <th></th>\n",
       "      <th>calitp_itp_id</th>\n",
       "      <th>shape_id</th>\n",
       "      <th>actual_route_length</th>\n",
       "      <th>route_id</th>\n",
       "      <th>direction_id</th>\n",
       "      <th>route_dir_identifier</th>\n",
       "      <th>longest_shape_id</th>\n",
       "      <th>longest_route_length</th>\n",
       "      <th>total_segments</th>\n",
       "      <th>proportion_route_length</th>\n",
       "    </tr>\n",
       "  </thead>\n",
       "  <tbody>\n",
       "    <tr>\n",
       "      <th>137</th>\n",
       "      <td>4</td>\n",
       "      <td>shp-U-06</td>\n",
       "      <td>111927.21</td>\n",
       "      <td>U</td>\n",
       "      <td>1</td>\n",
       "      <td>1244740981</td>\n",
       "      <td>shp-U-06</td>\n",
       "      <td>1192481.63</td>\n",
       "      <td>35</td>\n",
       "      <td>9.39</td>\n",
       "    </tr>\n",
       "  </tbody>\n",
       "</table>\n",
       "</div>"
      ],
      "text/plain": [
       "     calitp_itp_id  shape_id  actual_route_length route_id direction_id  \\\n",
       "137              4  shp-U-06            111927.21        U            1   \n",
       "\n",
       "     route_dir_identifier longest_shape_id  longest_route_length  \\\n",
       "137            1244740981         shp-U-06            1192481.63   \n",
       "\n",
       "     total_segments  proportion_route_length  \n",
       "137              35                     9.39  "
      ]
     },
     "execution_count": 51,
     "metadata": {},
     "output_type": "execute_result"
    }
   ],
   "source": [
    "routelines_final.loc[routelines_final.route_dir_identifier == 1244740981].drop(columns=[\"geometry\"]).head()"
   ]
  },
  {
   "cell_type": "markdown",
   "id": "319681c5-9f85-4e85-83ac-1b211d6d0189",
   "metadata": {},
   "source": [
    "### Task 2\n",
    "* Testing with Agency 4. \n",
    "* Calculate time of trips?\n",
    "\n",
    "<b> Answered questions </b>\n",
    "* How come there are so many different timestamps within a 30 second increments of each either within the same segment? GTFS pings every 30 seconds."
   ]
  },
  {
   "cell_type": "code",
   "execution_count": 52,
   "id": "3c057b6d-9b02-4e02-8932-8af2c12f769d",
   "metadata": {},
   "outputs": [],
   "source": [
    "def find_operator_info(df):\n",
    "    df = df.sort_values([\"calitp_itp_id\", \"trip_id\", \"segment_sequence\"])\n",
    "    crosswalk = pd.read_parquet(\n",
    "        f\"{GCS_DASK_PATH}segments_route_direction_crosswalk.parquet\"\n",
    "    )\n",
    "\n",
    "    merge_cols = [\n",
    "        \"calitp_itp_id\",\n",
    "        \"trip_id\",\n",
    "        \"route_dir_identifier\",\n",
    "    ]\n",
    "\n",
    "    # Get start time.\n",
    "    start_time_trip = (\n",
    "        df.groupby(merge_cols)\n",
    "        .agg({\"vehicle_timestamp\": \"min\"})\n",
    "        .rename(columns={\"vehicle_timestamp\": \"start\"})\n",
    "        .reset_index()\n",
    "    )\n",
    "\n",
    "    # Get end time.\n",
    "    end_time_trip = (\n",
    "        df.groupby(merge_cols)\n",
    "        .agg({\"vehicle_timestamp\": \"max\"})\n",
    "        .rename(columns={\"vehicle_timestamp\": \"end\"})\n",
    "        .reset_index()\n",
    "    )\n",
    "\n",
    "    # Count number of segments.\n",
    "    segment_counts = (\n",
    "        df.groupby(merge_cols)\n",
    "        .agg({\"segment_sequence\": \"nunique\"})\n",
    "        .reset_index()\n",
    "        .rename(columns={\"segment_sequence\": \"number_of_segments\"})\n",
    "    )\n",
    "\n",
    "    # Merge\n",
    "    m1 = start_time_trip.merge(end_time_trip, how=\"inner\", on=merge_cols).merge(\n",
    "        segment_counts, how=\"left\", on=merge_cols\n",
    "    )\n",
    "    \n",
    "    # Calculate time elapsed\n",
    "    # https://stackoverflow.com/questions/51491724/calculate-difference-of-2-dates-in-minutes-in-pandas\n",
    "    m1[\"minutes_elapsed\"] = (m1.end - m1.start).dt.total_seconds() / 60\n",
    "\n",
    "    return m1"
   ]
  },
  {
   "cell_type": "code",
   "execution_count": 109,
   "id": "615b08ee-1bb5-4d29-ab05-8537c28096f5",
   "metadata": {},
   "outputs": [
    {
     "data": {
      "text/html": [
       "<div>\n",
       "<style scoped>\n",
       "    .dataframe tbody tr th:only-of-type {\n",
       "        vertical-align: middle;\n",
       "    }\n",
       "\n",
       "    .dataframe tbody tr th {\n",
       "        vertical-align: top;\n",
       "    }\n",
       "\n",
       "    .dataframe thead th {\n",
       "        text-align: right;\n",
       "    }\n",
       "</style>\n",
       "<table border=\"1\" class=\"dataframe\">\n",
       "  <thead>\n",
       "    <tr style=\"text-align: right;\">\n",
       "      <th></th>\n",
       "      <th>calitp_itp_id</th>\n",
       "      <th>calitp_url_number</th>\n",
       "      <th>vehicle_timestamp</th>\n",
       "      <th>trip_id</th>\n",
       "      <th>route_dir_identifier</th>\n",
       "      <th>segment_sequence</th>\n",
       "      <th>lon</th>\n",
       "      <th>lat</th>\n",
       "    </tr>\n",
       "  </thead>\n",
       "  <tbody>\n",
       "    <tr>\n",
       "      <th>0</th>\n",
       "      <td>4</td>\n",
       "      <td>0</td>\n",
       "      <td>2022-10-12 03:57:57</td>\n",
       "      <td>1002020</td>\n",
       "      <td>2062080730</td>\n",
       "      <td>0</td>\n",
       "      <td>-199410.89</td>\n",
       "      <td>-20669.41</td>\n",
       "    </tr>\n",
       "    <tr>\n",
       "      <th>1</th>\n",
       "      <td>4</td>\n",
       "      <td>0</td>\n",
       "      <td>2022-10-12 03:58:12</td>\n",
       "      <td>1002020</td>\n",
       "      <td>2062080730</td>\n",
       "      <td>0</td>\n",
       "      <td>-199423.82</td>\n",
       "      <td>-20695.24</td>\n",
       "    </tr>\n",
       "  </tbody>\n",
       "</table>\n",
       "</div>"
      ],
      "text/plain": [
       "   calitp_itp_id  calitp_url_number   vehicle_timestamp  trip_id  \\\n",
       "0              4                  0 2022-10-12 03:57:57  1002020   \n",
       "1              4                  0 2022-10-12 03:58:12  1002020   \n",
       "\n",
       "   route_dir_identifier segment_sequence        lon       lat  \n",
       "0            2062080730                0 -199410.89 -20669.41  \n",
       "1            2062080730                0 -199423.82 -20695.24  "
      ]
     },
     "execution_count": 109,
     "metadata": {},
     "output_type": "execute_result"
    }
   ],
   "source": [
    "operator_4.head(2)"
   ]
  },
  {
   "cell_type": "code",
   "execution_count": 53,
   "id": "3f035cc9-ac21-417f-8960-62f50c764bd6",
   "metadata": {},
   "outputs": [],
   "source": [
    "operator_4_metrics = find_operator_info(operator_4)"
   ]
  },
  {
   "cell_type": "code",
   "execution_count": 54,
   "id": "7792ceef-ec71-441b-8b19-fc1a6c939415",
   "metadata": {},
   "outputs": [
    {
     "data": {
      "text/html": [
       "<div>\n",
       "<style scoped>\n",
       "    .dataframe tbody tr th:only-of-type {\n",
       "        vertical-align: middle;\n",
       "    }\n",
       "\n",
       "    .dataframe tbody tr th {\n",
       "        vertical-align: top;\n",
       "    }\n",
       "\n",
       "    .dataframe thead th {\n",
       "        text-align: right;\n",
       "    }\n",
       "</style>\n",
       "<table border=\"1\" class=\"dataframe\">\n",
       "  <thead>\n",
       "    <tr style=\"text-align: right;\">\n",
       "      <th></th>\n",
       "      <th>calitp_itp_id</th>\n",
       "      <th>trip_id</th>\n",
       "      <th>route_dir_identifier</th>\n",
       "      <th>start</th>\n",
       "      <th>end</th>\n",
       "      <th>number_of_segments</th>\n",
       "      <th>minutes_elapsed</th>\n",
       "    </tr>\n",
       "  </thead>\n",
       "  <tbody>\n",
       "    <tr>\n",
       "      <th>0</th>\n",
       "      <td>4</td>\n",
       "      <td>10000020</td>\n",
       "      <td>4214183996</td>\n",
       "      <td>2022-10-12 21:55:01</td>\n",
       "      <td>2022-10-12 22:24:54</td>\n",
       "      <td>7</td>\n",
       "      <td>29.88</td>\n",
       "    </tr>\n",
       "    <tr>\n",
       "      <th>1</th>\n",
       "      <td>4</td>\n",
       "      <td>1000020</td>\n",
       "      <td>2437991552</td>\n",
       "      <td>2022-10-12 16:21:29</td>\n",
       "      <td>2022-10-12 16:32:23</td>\n",
       "      <td>4</td>\n",
       "      <td>10.90</td>\n",
       "    </tr>\n",
       "  </tbody>\n",
       "</table>\n",
       "</div>"
      ],
      "text/plain": [
       "   calitp_itp_id   trip_id  route_dir_identifier               start  \\\n",
       "0              4  10000020            4214183996 2022-10-12 21:55:01   \n",
       "1              4   1000020            2437991552 2022-10-12 16:21:29   \n",
       "\n",
       "                  end  number_of_segments  minutes_elapsed  \n",
       "0 2022-10-12 22:24:54                   7            29.88  \n",
       "1 2022-10-12 16:32:23                   4            10.90  "
      ]
     },
     "execution_count": 54,
     "metadata": {},
     "output_type": "execute_result"
    }
   ],
   "source": [
    "operator_4_metrics.head(2)"
   ]
  },
  {
   "cell_type": "code",
   "execution_count": 55,
   "id": "2b56f8dc-01e2-4b03-b71d-3a76656cc646",
   "metadata": {},
   "outputs": [],
   "source": [
    "m2 = operator_4_metrics[['calitp_itp_id', 'trip_id', 'route_dir_identifier','number_of_segments', 'minutes_elapsed']].merge(\n",
    "    routelines_final,\n",
    "    how=\"inner\",\n",
    "    on=[\"calitp_itp_id\", \"route_dir_identifier\"],\n",
    ")"
   ]
  },
  {
   "cell_type": "code",
   "execution_count": 56,
   "id": "a6ba150c-5451-4e6e-8380-c8a2b76d7ec3",
   "metadata": {},
   "outputs": [
    {
     "data": {
      "text/plain": [
       "(5202, 7217)"
      ]
     },
     "execution_count": 56,
     "metadata": {},
     "output_type": "execute_result"
    }
   ],
   "source": [
    "len(operator_4_metrics), len(m2)"
   ]
  },
  {
   "cell_type": "code",
   "execution_count": 58,
   "id": "44f22bd6-f524-4c90-aa3e-d4e489d316a7",
   "metadata": {},
   "outputs": [],
   "source": [
    "# Drop some columns for now to check out\n",
    "m2 = m2.drop(columns = ['geometry', 'actual_route_length','longest_route_length'])"
   ]
  },
  {
   "cell_type": "code",
   "execution_count": 183,
   "id": "b4b81857-fe11-4cc0-9270-ea5dc0af5f72",
   "metadata": {},
   "outputs": [],
   "source": [
    "# Find the total number of segments in the specific operator file \n",
    "# vs. what was recorded in `longest_shape`\n",
    "m2['segment_proportion'] =((m2.number_of_segments/m2.total_segments)*100).astype('int64')"
   ]
  },
  {
   "cell_type": "code",
   "execution_count": 184,
   "id": "f5ebc9a8-37f2-4314-a3a1-6ae1d05d24f8",
   "metadata": {
    "tags": []
   },
   "outputs": [
    {
     "data": {
      "text/html": [
       "<div>\n",
       "<style scoped>\n",
       "    .dataframe tbody tr th:only-of-type {\n",
       "        vertical-align: middle;\n",
       "    }\n",
       "\n",
       "    .dataframe tbody tr th {\n",
       "        vertical-align: top;\n",
       "    }\n",
       "\n",
       "    .dataframe thead th {\n",
       "        text-align: right;\n",
       "    }\n",
       "</style>\n",
       "<table border=\"1\" class=\"dataframe\">\n",
       "  <thead>\n",
       "    <tr style=\"text-align: right;\">\n",
       "      <th></th>\n",
       "      <th>calitp_itp_id</th>\n",
       "      <th>trip_id</th>\n",
       "      <th>route_dir_identifier</th>\n",
       "      <th>number_of_segments</th>\n",
       "      <th>minutes_elapsed</th>\n",
       "      <th>shape_id</th>\n",
       "      <th>route_id</th>\n",
       "      <th>direction_id</th>\n",
       "      <th>longest_shape_id</th>\n",
       "      <th>total_segments</th>\n",
       "      <th>proportion_route_length</th>\n",
       "      <th>segment_proportion</th>\n",
       "      <th>trip_duration_categories</th>\n",
       "      <th>shape_id_categories</th>\n",
       "    </tr>\n",
       "  </thead>\n",
       "  <tbody>\n",
       "    <tr>\n",
       "      <th>7150</th>\n",
       "      <td>4</td>\n",
       "      <td>3360020</td>\n",
       "      <td>370892320</td>\n",
       "      <td>27</td>\n",
       "      <td>49.25</td>\n",
       "      <td>shp-V-53</td>\n",
       "      <td>V</td>\n",
       "      <td>0</td>\n",
       "      <td>shp-V-53</td>\n",
       "      <td>27</td>\n",
       "      <td>12.17</td>\n",
       "      <td>100</td>\n",
       "      <td>Medium Trip &lt; 66 min</td>\n",
       "      <td>Low Proportion &lt;14%</td>\n",
       "    </tr>\n",
       "    <tr>\n",
       "      <th>7151</th>\n",
       "      <td>4</td>\n",
       "      <td>9325020</td>\n",
       "      <td>370892320</td>\n",
       "      <td>27</td>\n",
       "      <td>51.33</td>\n",
       "      <td>shp-V-53</td>\n",
       "      <td>V</td>\n",
       "      <td>0</td>\n",
       "      <td>shp-V-53</td>\n",
       "      <td>27</td>\n",
       "      <td>12.17</td>\n",
       "      <td>100</td>\n",
       "      <td>Medium Trip &lt; 66 min</td>\n",
       "      <td>Low Proportion &lt;14%</td>\n",
       "    </tr>\n",
       "    <tr>\n",
       "      <th>6924</th>\n",
       "      <td>4</td>\n",
       "      <td>12446020</td>\n",
       "      <td>2013749239</td>\n",
       "      <td>27</td>\n",
       "      <td>47.55</td>\n",
       "      <td>shp-W-06</td>\n",
       "      <td>W</td>\n",
       "      <td>1</td>\n",
       "      <td>shp-W-06</td>\n",
       "      <td>28</td>\n",
       "      <td>11.74</td>\n",
       "      <td>96</td>\n",
       "      <td>Medium Trip &lt; 66 min</td>\n",
       "      <td>Low Proportion &lt;14%</td>\n",
       "    </tr>\n",
       "    <tr>\n",
       "      <th>6923</th>\n",
       "      <td>4</td>\n",
       "      <td>11838040</td>\n",
       "      <td>2013749239</td>\n",
       "      <td>27</td>\n",
       "      <td>52.78</td>\n",
       "      <td>shp-W-06</td>\n",
       "      <td>W</td>\n",
       "      <td>1</td>\n",
       "      <td>shp-W-06</td>\n",
       "      <td>28</td>\n",
       "      <td>11.74</td>\n",
       "      <td>96</td>\n",
       "      <td>Medium Trip &lt; 66 min</td>\n",
       "      <td>Low Proportion &lt;14%</td>\n",
       "    </tr>\n",
       "    <tr>\n",
       "      <th>6927</th>\n",
       "      <td>4</td>\n",
       "      <td>6452040</td>\n",
       "      <td>2013749239</td>\n",
       "      <td>27</td>\n",
       "      <td>54.10</td>\n",
       "      <td>shp-W-06</td>\n",
       "      <td>W</td>\n",
       "      <td>1</td>\n",
       "      <td>shp-W-06</td>\n",
       "      <td>28</td>\n",
       "      <td>11.74</td>\n",
       "      <td>96</td>\n",
       "      <td>Medium Trip &lt; 66 min</td>\n",
       "      <td>Low Proportion &lt;14%</td>\n",
       "    </tr>\n",
       "    <tr>\n",
       "      <th>6926</th>\n",
       "      <td>4</td>\n",
       "      <td>485020</td>\n",
       "      <td>2013749239</td>\n",
       "      <td>26</td>\n",
       "      <td>56.07</td>\n",
       "      <td>shp-W-06</td>\n",
       "      <td>W</td>\n",
       "      <td>1</td>\n",
       "      <td>shp-W-06</td>\n",
       "      <td>28</td>\n",
       "      <td>11.74</td>\n",
       "      <td>92</td>\n",
       "      <td>Medium Trip &lt; 66 min</td>\n",
       "      <td>Low Proportion &lt;14%</td>\n",
       "    </tr>\n",
       "    <tr>\n",
       "      <th>6928</th>\n",
       "      <td>4</td>\n",
       "      <td>6825020</td>\n",
       "      <td>2013749239</td>\n",
       "      <td>27</td>\n",
       "      <td>56.77</td>\n",
       "      <td>shp-W-06</td>\n",
       "      <td>W</td>\n",
       "      <td>1</td>\n",
       "      <td>shp-W-06</td>\n",
       "      <td>28</td>\n",
       "      <td>11.74</td>\n",
       "      <td>96</td>\n",
       "      <td>Medium Trip &lt; 66 min</td>\n",
       "      <td>Low Proportion &lt;14%</td>\n",
       "    </tr>\n",
       "    <tr>\n",
       "      <th>6925</th>\n",
       "      <td>4</td>\n",
       "      <td>2436040</td>\n",
       "      <td>2013749239</td>\n",
       "      <td>27</td>\n",
       "      <td>57.63</td>\n",
       "      <td>shp-W-06</td>\n",
       "      <td>W</td>\n",
       "      <td>1</td>\n",
       "      <td>shp-W-06</td>\n",
       "      <td>28</td>\n",
       "      <td>11.74</td>\n",
       "      <td>96</td>\n",
       "      <td>Medium Trip &lt; 66 min</td>\n",
       "      <td>Low Proportion &lt;14%</td>\n",
       "    </tr>\n",
       "    <tr>\n",
       "      <th>6769</th>\n",
       "      <td>4</td>\n",
       "      <td>9140020</td>\n",
       "      <td>251686753</td>\n",
       "      <td>29</td>\n",
       "      <td>47.18</td>\n",
       "      <td>shp-W-07</td>\n",
       "      <td>W</td>\n",
       "      <td>0</td>\n",
       "      <td>shp-W-07</td>\n",
       "      <td>29</td>\n",
       "      <td>11.33</td>\n",
       "      <td>100</td>\n",
       "      <td>Medium Trip &lt; 66 min</td>\n",
       "      <td>Low Proportion &lt;14%</td>\n",
       "    </tr>\n",
       "    <tr>\n",
       "      <th>6768</th>\n",
       "      <td>4</td>\n",
       "      <td>11396020</td>\n",
       "      <td>251686753</td>\n",
       "      <td>28</td>\n",
       "      <td>50.98</td>\n",
       "      <td>shp-W-07</td>\n",
       "      <td>W</td>\n",
       "      <td>0</td>\n",
       "      <td>shp-W-07</td>\n",
       "      <td>29</td>\n",
       "      <td>11.33</td>\n",
       "      <td>96</td>\n",
       "      <td>Medium Trip &lt; 66 min</td>\n",
       "      <td>Low Proportion &lt;14%</td>\n",
       "    </tr>\n",
       "  </tbody>\n",
       "</table>\n",
       "</div>"
      ],
      "text/plain": [
       "      calitp_itp_id   trip_id  route_dir_identifier  number_of_segments  \\\n",
       "7150              4   3360020             370892320                  27   \n",
       "7151              4   9325020             370892320                  27   \n",
       "6924              4  12446020            2013749239                  27   \n",
       "6923              4  11838040            2013749239                  27   \n",
       "6927              4   6452040            2013749239                  27   \n",
       "6926              4    485020            2013749239                  26   \n",
       "6928              4   6825020            2013749239                  27   \n",
       "6925              4   2436040            2013749239                  27   \n",
       "6769              4   9140020             251686753                  29   \n",
       "6768              4  11396020             251686753                  28   \n",
       "\n",
       "      minutes_elapsed  shape_id route_id direction_id longest_shape_id  \\\n",
       "7150            49.25  shp-V-53        V            0         shp-V-53   \n",
       "7151            51.33  shp-V-53        V            0         shp-V-53   \n",
       "6924            47.55  shp-W-06        W            1         shp-W-06   \n",
       "6923            52.78  shp-W-06        W            1         shp-W-06   \n",
       "6927            54.10  shp-W-06        W            1         shp-W-06   \n",
       "6926            56.07  shp-W-06        W            1         shp-W-06   \n",
       "6928            56.77  shp-W-06        W            1         shp-W-06   \n",
       "6925            57.63  shp-W-06        W            1         shp-W-06   \n",
       "6769            47.18  shp-W-07        W            0         shp-W-07   \n",
       "6768            50.98  shp-W-07        W            0         shp-W-07   \n",
       "\n",
       "      total_segments  proportion_route_length  segment_proportion  \\\n",
       "7150              27                    12.17                 100   \n",
       "7151              27                    12.17                 100   \n",
       "6924              28                    11.74                  96   \n",
       "6923              28                    11.74                  96   \n",
       "6927              28                    11.74                  96   \n",
       "6926              28                    11.74                  92   \n",
       "6928              28                    11.74                  96   \n",
       "6925              28                    11.74                  96   \n",
       "6769              29                    11.33                 100   \n",
       "6768              29                    11.33                  96   \n",
       "\n",
       "     trip_duration_categories  shape_id_categories  \n",
       "7150     Medium Trip < 66 min  Low Proportion <14%  \n",
       "7151     Medium Trip < 66 min  Low Proportion <14%  \n",
       "6924     Medium Trip < 66 min  Low Proportion <14%  \n",
       "6923     Medium Trip < 66 min  Low Proportion <14%  \n",
       "6927     Medium Trip < 66 min  Low Proportion <14%  \n",
       "6926     Medium Trip < 66 min  Low Proportion <14%  \n",
       "6928     Medium Trip < 66 min  Low Proportion <14%  \n",
       "6925     Medium Trip < 66 min  Low Proportion <14%  \n",
       "6769     Medium Trip < 66 min  Low Proportion <14%  \n",
       "6768     Medium Trip < 66 min  Low Proportion <14%  "
      ]
     },
     "execution_count": 184,
     "metadata": {},
     "output_type": "execute_result"
    }
   ],
   "source": [
    "m2.sort_values(['route_id','shape_id', 'minutes_elapsed']).tail(10)"
   ]
  },
  {
   "cell_type": "markdown",
   "id": "3a81f5c1-68ae-48de-ace3-73a74490063e",
   "metadata": {},
   "source": [
    "##### Help.  Why is for 1244740981 not yielding any results, even in the original dataframe?\n",
    "* 2 more route ids when filtering out the `routelines_final` df for ITP ID 4 compared with the `vp_sjoin/vp_segment_4`\n",
    "* Wondering why that is."
   ]
  },
  {
   "cell_type": "code",
   "execution_count": 185,
   "id": "d4ac4d75-b29d-436b-bb8d-d92638f9fec9",
   "metadata": {},
   "outputs": [
    {
     "data": {
      "text/html": [
       "<div>\n",
       "<style scoped>\n",
       "    .dataframe tbody tr th:only-of-type {\n",
       "        vertical-align: middle;\n",
       "    }\n",
       "\n",
       "    .dataframe tbody tr th {\n",
       "        vertical-align: top;\n",
       "    }\n",
       "\n",
       "    .dataframe thead th {\n",
       "        text-align: right;\n",
       "    }\n",
       "</style>\n",
       "<table border=\"1\" class=\"dataframe\">\n",
       "  <thead>\n",
       "    <tr style=\"text-align: right;\">\n",
       "      <th></th>\n",
       "      <th>calitp_itp_id</th>\n",
       "      <th>calitp_url_number</th>\n",
       "      <th>vehicle_timestamp</th>\n",
       "      <th>trip_id</th>\n",
       "      <th>route_dir_identifier</th>\n",
       "      <th>segment_sequence</th>\n",
       "      <th>lon</th>\n",
       "      <th>lat</th>\n",
       "    </tr>\n",
       "  </thead>\n",
       "  <tbody>\n",
       "  </tbody>\n",
       "</table>\n",
       "</div>"
      ],
      "text/plain": [
       "Empty DataFrame\n",
       "Columns: [calitp_itp_id, calitp_url_number, vehicle_timestamp, trip_id, route_dir_identifier, segment_sequence, lon, lat]\n",
       "Index: []"
      ]
     },
     "execution_count": 185,
     "metadata": {},
     "output_type": "execute_result"
    }
   ],
   "source": [
    "operator_4.loc[operator_4.route_dir_identifier == 1244740981]"
   ]
  },
  {
   "cell_type": "code",
   "execution_count": 186,
   "id": "c4882b64-c753-4d6c-857f-82b3625f44f8",
   "metadata": {
    "scrolled": true,
    "tags": []
   },
   "outputs": [],
   "source": [
    "# Can't find 1244740981 in this list. \n",
    "# operator_4.route_dir_identifier.unique().tolist()"
   ]
  },
  {
   "cell_type": "code",
   "execution_count": 187,
   "id": "cc96cc89-3c0a-444d-b7a7-128c3da90030",
   "metadata": {},
   "outputs": [
    {
     "data": {
      "text/plain": [
       "route_id    129\n",
       "dtype: int64"
      ]
     },
     "execution_count": 187,
     "metadata": {},
     "output_type": "execute_result"
    }
   ],
   "source": [
    "# Total route ids using longest_shape/trips/routelines. \n",
    "routelines_final.loc[routelines_final.calitp_itp_id == 4][['route_id']].nunique()"
   ]
  },
  {
   "cell_type": "code",
   "execution_count": 188,
   "id": "73385a6a-71b8-46ad-a8f8-1ad1cb2d2d57",
   "metadata": {},
   "outputs": [
    {
     "data": {
      "text/plain": [
       "127"
      ]
     },
     "execution_count": 188,
     "metadata": {},
     "output_type": "execute_result"
    }
   ],
   "source": [
    "m2.route_id.nunique()"
   ]
  },
  {
   "cell_type": "code",
   "execution_count": 189,
   "id": "6100b941-6025-4a6c-a982-634392c40bee",
   "metadata": {
    "scrolled": true,
    "tags": []
   },
   "outputs": [],
   "source": [
    "merged_routeid = set(m2.route_id.unique().tolist())"
   ]
  },
  {
   "cell_type": "code",
   "execution_count": 190,
   "id": "9b571d5d-0cba-4a67-addb-b37af57b23a2",
   "metadata": {
    "scrolled": true,
    "tags": []
   },
   "outputs": [],
   "source": [
    "routelines_routeid = set(routelines_final.route_id.unique().tolist())"
   ]
  },
  {
   "cell_type": "code",
   "execution_count": 191,
   "id": "56efe490-a7e7-4c58-bdfb-ae97e130efb4",
   "metadata": {
    "tags": []
   },
   "outputs": [],
   "source": [
    "# merged_routeid - routelines_final"
   ]
  },
  {
   "cell_type": "markdown",
   "id": "26707fcb-68f7-4f5a-8b4c-8f7220d40900",
   "metadata": {},
   "source": [
    "### Ask\n",
    "* For each operator, what's the % of RT trip_ids that would remain after those thresholds are used? Make a chart function that takes a single operator. Produce charts for all operators. Is the time or geographic coverage that's driving this excluding of trips? What is a recommended threshold to use?\n",
    "* For short trips, do they tend to be 50% of the longest route length? 40% 30%? "
   ]
  },
  {
   "cell_type": "code",
   "execution_count": 192,
   "id": "2589195f-c00a-464c-b066-90325d54a76b",
   "metadata": {},
   "outputs": [
    {
     "data": {
      "text/plain": [
       "count   7217.00\n",
       "mean      33.25\n",
       "std       48.82\n",
       "min        3.88\n",
       "25%       14.93\n",
       "50%       20.54\n",
       "75%       32.87\n",
       "max      383.27\n",
       "Name: proportion_route_length, dtype: float64"
      ]
     },
     "execution_count": 192,
     "metadata": {},
     "output_type": "execute_result"
    }
   ],
   "source": [
    "m2.proportion_route_length.describe()"
   ]
  },
  {
   "cell_type": "code",
   "execution_count": 193,
   "id": "40e87845-6b6e-4e6c-8b16-0f4c9ff1745e",
   "metadata": {},
   "outputs": [
    {
     "data": {
      "text/plain": [
       "count   7217.00\n",
       "mean      91.35\n",
       "std      235.41\n",
       "min        0.17\n",
       "25%       37.18\n",
       "50%       52.32\n",
       "75%       66.35\n",
       "max     1531.98\n",
       "Name: minutes_elapsed, dtype: float64"
      ]
     },
     "execution_count": 193,
     "metadata": {},
     "output_type": "execute_result"
    }
   ],
   "source": [
    "m2.minutes_elapsed.describe()"
   ]
  },
  {
   "cell_type": "code",
   "execution_count": 194,
   "id": "8037b58d-63a0-4894-bf7d-0e43415c2298",
   "metadata": {},
   "outputs": [],
   "source": [
    "p25_time = m2.minutes_elapsed.quantile(0.25).astype(int)\n",
    "p50_time = m2.minutes_elapsed.quantile(0.50).astype(int)\n",
    "p75_time = m2.minutes_elapsed.quantile(0.75).astype(int)"
   ]
  },
  {
   "cell_type": "code",
   "execution_count": 195,
   "id": "8a39770b-ab03-4187-ac76-8a0adcdc9317",
   "metadata": {},
   "outputs": [
    {
     "data": {
      "text/plain": [
       "(37, 52, 66)"
      ]
     },
     "execution_count": 195,
     "metadata": {},
     "output_type": "execute_result"
    }
   ],
   "source": [
    "p25_time, p50_time, p75_time"
   ]
  },
  {
   "cell_type": "code",
   "execution_count": 196,
   "id": "6da4e978-6ec9-490a-9f02-d2b655fc9ecf",
   "metadata": {},
   "outputs": [],
   "source": [
    "def trip_duration (row):\n",
    "    if ((row.minutes_elapsed > 0) and (row.minutes_elapsed <= p25_time)):\n",
    "         return f\"Short Trip < {p25_time} min\"\n",
    "    elif ((row.minutes_elapsed > p25_time) and (row.minutes_elapsed <= p75_time)):\n",
    "         return f\"Medium Trip < {p75_time} min\"\n",
    "    else:\n",
    "        return \"Long Trip\""
   ]
  },
  {
   "cell_type": "code",
   "execution_count": 197,
   "id": "dbefc934-cc4c-4964-85a0-cf71357683f6",
   "metadata": {},
   "outputs": [],
   "source": [
    "m2[\"trip_duration_categories\"] = m2.apply(lambda x: trip_duration(x), axis=1)"
   ]
  },
  {
   "cell_type": "code",
   "execution_count": 198,
   "id": "570d529d-0fe3-4905-9901-b8f97ce77364",
   "metadata": {},
   "outputs": [
    {
     "data": {
      "text/plain": [
       "Medium Trip < 66 min    3595\n",
       "Long Trip               1833\n",
       "Short Trip < 37 min     1789\n",
       "Name: trip_duration_categories, dtype: int64"
      ]
     },
     "execution_count": 198,
     "metadata": {},
     "output_type": "execute_result"
    }
   ],
   "source": [
    "m2.trip_duration_categories.value_counts()"
   ]
  },
  {
   "cell_type": "code",
   "execution_count": 199,
   "id": "feda1f87-f2b8-49f3-b624-45ccc26b7bb8",
   "metadata": {},
   "outputs": [
    {
     "name": "stdout",
     "output_type": "stream",
     "text": [
      "5428\n",
      "3646\n",
      "1833\n"
     ]
    }
   ],
   "source": [
    "for i in [p25_time, p50_time,p75_time]: \n",
    "    print(len(m2.loc[m2.minutes_elapsed >= i]))"
   ]
  },
  {
   "cell_type": "code",
   "execution_count": 200,
   "id": "271ba605-3759-438d-ae48-7e35f9fff25a",
   "metadata": {},
   "outputs": [],
   "source": [
    "p25_length = m2.proportion_route_length.quantile(0.25).astype(int)\n",
    "p75_length = m2.proportion_route_length.quantile(0.75).astype(int)"
   ]
  },
  {
   "cell_type": "code",
   "execution_count": 201,
   "id": "d7cd3873-77f0-4367-9172-3679669849ef",
   "metadata": {},
   "outputs": [
    {
     "data": {
      "text/plain": [
       "(14, 32)"
      ]
     },
     "execution_count": 201,
     "metadata": {},
     "output_type": "execute_result"
    }
   ],
   "source": [
    "p25_length, p75_length"
   ]
  },
  {
   "cell_type": "markdown",
   "id": "b5f16185-5bec-4153-8c84-b1922493ca55",
   "metadata": {},
   "source": [
    "* Flag what's usable\n",
    "* Need two aggregatiosn, one for trips that are usable, one for shape_ids."
   ]
  },
  {
   "cell_type": "code",
   "execution_count": 202,
   "id": "56770e74-7b5b-4978-87a7-6e6234940f44",
   "metadata": {},
   "outputs": [],
   "source": [
    "def shape_id_comparison(row):\n",
    "    if ((row.proportion_route_length > 0) and (row.proportion_route_length <= p25_length)):\n",
    "         return f\"Low Proportion <{p25_length}%\"\n",
    "    elif ((row.proportion_route_length > p25_length) and (row.proportion_route_length <= p75_length)):\n",
    "         return f\"Medium Proportion <{p75_length}%\"\n",
    "    else:\n",
    "        return \"Substantial Proportion\""
   ]
  },
  {
   "cell_type": "code",
   "execution_count": 203,
   "id": "9cfacf3f-38a5-4ed3-9974-0e5ced53aaa1",
   "metadata": {},
   "outputs": [],
   "source": [
    "m2[\"shape_id_categories\"] = m2.apply(lambda x: shape_id_comparison(x), axis=1)"
   ]
  },
  {
   "cell_type": "code",
   "execution_count": 205,
   "id": "2e119d0d-ee75-4fd9-8cfe-e131d8694f2f",
   "metadata": {},
   "outputs": [],
   "source": [
    "agg1 = m2.groupby(['trip_duration_categories']).agg({'total_segments':'sum'}).rename(columns = {'total_segments':'grand_total_segments'}).reset_index()"
   ]
  },
  {
   "cell_type": "code",
   "execution_count": 220,
   "id": "06728edb-6074-4a90-979d-f35a17a55d4b",
   "metadata": {},
   "outputs": [],
   "source": [
    "agg2 = m2.groupby(['trip_duration_categories','shape_id_categories']).agg({'trip_id':'nunique', 'total_segments':'sum'}).rename(columns = {'trip_id':'total_trips'}).reset_index()"
   ]
  },
  {
   "cell_type": "code",
   "execution_count": 221,
   "id": "83b0e454-f8a4-4a95-8803-c75e90d9a116",
   "metadata": {},
   "outputs": [
    {
     "data": {
      "text/html": [
       "<div>\n",
       "<style scoped>\n",
       "    .dataframe tbody tr th:only-of-type {\n",
       "        vertical-align: middle;\n",
       "    }\n",
       "\n",
       "    .dataframe tbody tr th {\n",
       "        vertical-align: top;\n",
       "    }\n",
       "\n",
       "    .dataframe thead th {\n",
       "        text-align: right;\n",
       "    }\n",
       "</style>\n",
       "<table border=\"1\" class=\"dataframe\">\n",
       "  <thead>\n",
       "    <tr style=\"text-align: right;\">\n",
       "      <th></th>\n",
       "      <th>total_segments</th>\n",
       "    </tr>\n",
       "    <tr>\n",
       "      <th>shape_id_categories</th>\n",
       "      <th></th>\n",
       "    </tr>\n",
       "  </thead>\n",
       "  <tbody>\n",
       "    <tr>\n",
       "      <th>Low Proportion &lt;14%</th>\n",
       "      <td>27049</td>\n",
       "    </tr>\n",
       "    <tr>\n",
       "      <th>Medium Proportion &lt;32%</th>\n",
       "      <td>68245</td>\n",
       "    </tr>\n",
       "    <tr>\n",
       "      <th>Substantial Proportion</th>\n",
       "      <td>16879</td>\n",
       "    </tr>\n",
       "  </tbody>\n",
       "</table>\n",
       "</div>"
      ],
      "text/plain": [
       "                        total_segments\n",
       "shape_id_categories                   \n",
       "Low Proportion <14%              27049\n",
       "Medium Proportion <32%           68245\n",
       "Substantial Proportion           16879"
      ]
     },
     "execution_count": 221,
     "metadata": {},
     "output_type": "execute_result"
    }
   ],
   "source": [
    "m2.groupby(['shape_id_categories', ]).agg({'total_segments':'sum'})"
   ]
  },
  {
   "cell_type": "code",
   "execution_count": 208,
   "id": "7d3da1e1-ea41-4c8f-8c5e-8fa245832b64",
   "metadata": {},
   "outputs": [],
   "source": [
    "test = agg1.merge(agg2, on = [\"trip_duration_categories\"])"
   ]
  },
  {
   "cell_type": "code",
   "execution_count": 213,
   "id": "f9df5a57-10cc-4c09-b1a2-810ba0e636e7",
   "metadata": {},
   "outputs": [],
   "source": [
    "test = test.assign(segment_portions= ((test.total_segments/test.grand_total_segments)*100).astype('int').astype('str') + '%')"
   ]
  },
  {
   "cell_type": "code",
   "execution_count": 214,
   "id": "3c0158d0-7755-44a7-99b6-c3ea0700ad10",
   "metadata": {},
   "outputs": [
    {
     "data": {
      "text/html": [
       "<div>\n",
       "<style scoped>\n",
       "    .dataframe tbody tr th:only-of-type {\n",
       "        vertical-align: middle;\n",
       "    }\n",
       "\n",
       "    .dataframe tbody tr th {\n",
       "        vertical-align: top;\n",
       "    }\n",
       "\n",
       "    .dataframe thead th {\n",
       "        text-align: right;\n",
       "    }\n",
       "</style>\n",
       "<table border=\"1\" class=\"dataframe\">\n",
       "  <thead>\n",
       "    <tr style=\"text-align: right;\">\n",
       "      <th></th>\n",
       "      <th>trip_duration_categories</th>\n",
       "      <th>grand_total_segments</th>\n",
       "      <th>shape_id_categories</th>\n",
       "      <th>total_trips</th>\n",
       "      <th>total_segments</th>\n",
       "      <th>grand_total_trips</th>\n",
       "      <th>segment_portions</th>\n",
       "    </tr>\n",
       "  </thead>\n",
       "  <tbody>\n",
       "    <tr>\n",
       "      <th>0</th>\n",
       "      <td>Long Trip</td>\n",
       "      <td>39325</td>\n",
       "      <td>Low Proportion &lt;14%</td>\n",
       "      <td>440</td>\n",
       "      <td>14111</td>\n",
       "      <td>1371</td>\n",
       "      <td>35%</td>\n",
       "    </tr>\n",
       "    <tr>\n",
       "      <th>1</th>\n",
       "      <td>Long Trip</td>\n",
       "      <td>39325</td>\n",
       "      <td>Medium Proportion &lt;32%</td>\n",
       "      <td>1116</td>\n",
       "      <td>24765</td>\n",
       "      <td>1371</td>\n",
       "      <td>62%</td>\n",
       "    </tr>\n",
       "    <tr>\n",
       "      <th>2</th>\n",
       "      <td>Long Trip</td>\n",
       "      <td>39325</td>\n",
       "      <td>Substantial Proportion</td>\n",
       "      <td>34</td>\n",
       "      <td>449</td>\n",
       "      <td>1371</td>\n",
       "      <td>1%</td>\n",
       "    </tr>\n",
       "    <tr>\n",
       "      <th>3</th>\n",
       "      <td>Medium Trip &lt; 66 min</td>\n",
       "      <td>56594</td>\n",
       "      <td>Low Proportion &lt;14%</td>\n",
       "      <td>413</td>\n",
       "      <td>11697</td>\n",
       "      <td>2644</td>\n",
       "      <td>20%</td>\n",
       "    </tr>\n",
       "    <tr>\n",
       "      <th>4</th>\n",
       "      <td>Medium Trip &lt; 66 min</td>\n",
       "      <td>56594</td>\n",
       "      <td>Medium Proportion &lt;32%</td>\n",
       "      <td>2073</td>\n",
       "      <td>38198</td>\n",
       "      <td>2644</td>\n",
       "      <td>67%</td>\n",
       "    </tr>\n",
       "    <tr>\n",
       "      <th>5</th>\n",
       "      <td>Medium Trip &lt; 66 min</td>\n",
       "      <td>56594</td>\n",
       "      <td>Substantial Proportion</td>\n",
       "      <td>507</td>\n",
       "      <td>6699</td>\n",
       "      <td>2644</td>\n",
       "      <td>11%</td>\n",
       "    </tr>\n",
       "    <tr>\n",
       "      <th>6</th>\n",
       "      <td>Short Trip &lt; 37 min</td>\n",
       "      <td>16254</td>\n",
       "      <td>Low Proportion &lt;14%</td>\n",
       "      <td>40</td>\n",
       "      <td>1241</td>\n",
       "      <td>1187</td>\n",
       "      <td>7%</td>\n",
       "    </tr>\n",
       "    <tr>\n",
       "      <th>7</th>\n",
       "      <td>Short Trip &lt; 37 min</td>\n",
       "      <td>16254</td>\n",
       "      <td>Medium Proportion &lt;32%</td>\n",
       "      <td>344</td>\n",
       "      <td>5282</td>\n",
       "      <td>1187</td>\n",
       "      <td>32%</td>\n",
       "    </tr>\n",
       "    <tr>\n",
       "      <th>8</th>\n",
       "      <td>Short Trip &lt; 37 min</td>\n",
       "      <td>16254</td>\n",
       "      <td>Substantial Proportion</td>\n",
       "      <td>919</td>\n",
       "      <td>9731</td>\n",
       "      <td>1187</td>\n",
       "      <td>59%</td>\n",
       "    </tr>\n",
       "  </tbody>\n",
       "</table>\n",
       "</div>"
      ],
      "text/plain": [
       "  trip_duration_categories  grand_total_segments     shape_id_categories  \\\n",
       "0                Long Trip                 39325     Low Proportion <14%   \n",
       "1                Long Trip                 39325  Medium Proportion <32%   \n",
       "2                Long Trip                 39325  Substantial Proportion   \n",
       "3     Medium Trip < 66 min                 56594     Low Proportion <14%   \n",
       "4     Medium Trip < 66 min                 56594  Medium Proportion <32%   \n",
       "5     Medium Trip < 66 min                 56594  Substantial Proportion   \n",
       "6      Short Trip < 37 min                 16254     Low Proportion <14%   \n",
       "7      Short Trip < 37 min                 16254  Medium Proportion <32%   \n",
       "8      Short Trip < 37 min                 16254  Substantial Proportion   \n",
       "\n",
       "   total_trips  total_segments  grand_total_trips segment_portions  \n",
       "0          440           14111               1371              35%  \n",
       "1         1116           24765               1371              62%  \n",
       "2           34             449               1371               1%  \n",
       "3          413           11697               2644              20%  \n",
       "4         2073           38198               2644              67%  \n",
       "5          507            6699               2644              11%  \n",
       "6           40            1241               1187               7%  \n",
       "7          344            5282               1187              32%  \n",
       "8          919            9731               1187              59%  "
      ]
     },
     "execution_count": 214,
     "metadata": {},
     "output_type": "execute_result"
    }
   ],
   "source": [
    "test"
   ]
  },
  {
   "cell_type": "code",
   "execution_count": 218,
   "id": "2793514d-f928-484e-9179-f35b517e193d",
   "metadata": {},
   "outputs": [],
   "source": [
    "def chart_with_dropdown(\n",
    "    df,\n",
    "    dropdown_list: list,\n",
    "    dropdown_field: str,\n",
    "    x_axis_chart1: str,\n",
    "    y_axis_chart1: str,\n",
    "    color_col1: str,\n",
    "    chart1_tooltip_cols: list,\n",
    "    chart_title: str,\n",
    "):\n",
    "    \"\"\"A bar chart controlled by a dropdown filter.\n",
    "    Args:\n",
    "        df: the dataframe\n",
    "        dropdown_list(list): a list of all the values in the dropdown menu,\n",
    "        dropdown_field(str): column where the dropdown menu's values are drawn from,\n",
    "        x_axis_chart1(str): x axis value for chart 1 - encode as Q or N,\n",
    "        y_axis_chart1(str): y axis value for chart 1 - encode as Q or N,\n",
    "        color_col1(str): column to color the graphs for chart 1,\n",
    "        chart1_tooltip_cols(list): list of all the columns to populate the tooltip,\n",
    "        chart_title(str):chart title,\n",
    "    \"\"\"\n",
    "    # Create drop down menu\n",
    "    input_dropdown = alt.binding_select(options=dropdown_list, name=\"Select \")\n",
    "\n",
    "    # The column tied to the drop down menu\n",
    "    selection = alt.selection_single(fields=[dropdown_field], bind=input_dropdown)\n",
    "\n",
    "    chart1 = (\n",
    "        alt.Chart(df)\n",
    "        .mark_bar()\n",
    "        .encode(\n",
    "            x=x_axis_chart1,\n",
    "            y=(y_axis_chart1),\n",
    "            color=alt.Color(\n",
    "                color_col1, scale=alt.Scale(range=cp.CALITP_CATEGORY_BRIGHT_COLORS)\n",
    "                , legend = None\n",
    "            ),\n",
    "            tooltip=chart1_tooltip_cols,\n",
    "        )\n",
    "        .properties(title=chart_title)\n",
    "        .add_selection(selection)\n",
    "        .transform_filter(selection)\n",
    "    )\n",
    "\n",
    "    chart1 = styleguide.preset_chart_config(chart1)\n",
    "\n",
    "    return chart1"
   ]
  },
  {
   "cell_type": "code",
   "execution_count": null,
   "id": "1c843191-2b8e-4918-a4fc-c3af38ee220f",
   "metadata": {},
   "outputs": [],
   "source": [
    "chart_with_dropdown("
   ]
  },
  {
   "cell_type": "markdown",
   "id": "bf25021e-8b11-4ad1-a5f5-290750cefa65",
   "metadata": {},
   "source": [
    "### Already Answered Notes/Questions\n",
    "* What is the calitp url number? What does 0 or 1 mean? V1, operator has different feeds. \n",
    "    * 0 could be primary, 1 is backup. This column will be deleted in V2. \n",
    "* Do you think that most shape IDS are going to be less than 100% of the length of the longest shape ID? \n",
    "    * Not necessarily, shape ID can be a short version of the trip.\n",
    "* What’s the difference between direction ID and route dir identifier? What does the 0 and 1 mean in direction ID?\n",
    "    * We don't know where the bus is going, so just do 0 and 1.\n",
    "    * Route dir identifier: captures route info and direction it is going to capture all the trips. Helps with groupby. \n",
    "    * We don't want to stick with trip id, we need to get to route level. \n",
    "    * Don't want to lose info on the direction. \n",
    "    * Have to distinguish direction or else it'll look like the bus is going backwards when plotting.\n",
    "    * RT data comes with direction id and can get which direction it ran in from schedule data. \n",
    "    * Attach route, join coordinate data to segments. \n",
    "    * Use segments and average out trips that occurred on that segment. \n",
    "* Ask about graph on Slack. \n",
    "* Should I use this `get_routelines` from `A1_vehicle_positions`. \n",
    "    * Just read it directly from GCS, don't need buffer.\n",
    "* Why would the same route ID for the other direction have more segments? \n",
    "   * Can have a layover. \n",
    "   * A segment must be 1000 meters or less."
   ]
  }
 ],
 "metadata": {
  "kernelspec": {
   "display_name": "Python 3 (ipykernel)",
   "language": "python",
   "name": "python3"
  },
  "language_info": {
   "codemirror_mode": {
    "name": "ipython",
    "version": 3
   },
   "file_extension": ".py",
   "mimetype": "text/x-python",
   "name": "python",
   "nbconvert_exporter": "python",
   "pygments_lexer": "ipython3",
   "version": "3.9.13"
  }
 },
 "nbformat": 4,
 "nbformat_minor": 5
}
