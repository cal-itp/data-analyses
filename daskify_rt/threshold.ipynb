{
 "cells": [
  {
   "cell_type": "markdown",
   "id": "adf5df97-0182-498a-bd35-303ac84e9611",
   "metadata": {},
   "source": [
    "## RT trip diagnostics: thresholds for usable trips "
   ]
  },
  {
   "cell_type": "code",
   "execution_count": 223,
   "id": "1faeb7ff-1ebc-4ced-afb0-c813f863d3d8",
   "metadata": {},
   "outputs": [],
   "source": [
    "import dask.dataframe as dd\n",
    "import dask_geopandas as dg\n",
    "import geopandas as gpd\n",
    "import pandas as pd\n",
    "from calitp.sql import to_snakecase\n",
    "from shared_utils import geography_utils, utils"
   ]
  },
  {
   "cell_type": "code",
   "execution_count": 224,
   "id": "9f13f204-138e-4b10-94a8-ead22461dad0",
   "metadata": {},
   "outputs": [],
   "source": [
    "# Save files to GCS\n",
    "from calitp.storage import get_fs\n",
    "\n",
    "fs = get_fs()"
   ]
  },
  {
   "cell_type": "code",
   "execution_count": 225,
   "id": "35a36bc4-4f66-4285-8025-a5eaccc3a266",
   "metadata": {},
   "outputs": [],
   "source": [
    "# Record start and end time\n",
    "import datetime\n",
    "\n",
    "from loguru import logger"
   ]
  },
  {
   "cell_type": "code",
   "execution_count": 226,
   "id": "f6233726-eb99-4f7e-9a90-842872f36ed7",
   "metadata": {},
   "outputs": [],
   "source": [
    "pd.options.display.max_columns = 100\n",
    "pd.options.display.float_format = \"{:.2f}\".format\n",
    "pd.set_option(\"display.max_rows\", None)\n",
    "pd.set_option(\"display.max_colwidth\", None)"
   ]
  },
  {
   "cell_type": "markdown",
   "id": "b26bf5e4-5ced-43dd-b792-12fa0e2376c0",
   "metadata": {},
   "source": [
    "### Look at files"
   ]
  },
  {
   "cell_type": "code",
   "execution_count": 227,
   "id": "2f333522-803a-4b60-b4af-b2edd0a274df",
   "metadata": {},
   "outputs": [],
   "source": [
    "GCS_DASK_PATH = \"gs://calitp-analytics-data/data-analyses/dask_test/\""
   ]
  },
  {
   "cell_type": "code",
   "execution_count": 228,
   "id": "3c8140f4-9219-4ef4-92b7-bd99eb8d0a38",
   "metadata": {},
   "outputs": [],
   "source": [
    "GCS_RT_PATH = \"gs://calitp-analytics-data/data-analyses/rt_delay/\""
   ]
  },
  {
   "cell_type": "code",
   "execution_count": 229,
   "id": "cdd7ae15-7777-4c40-94be-f441f68f9b6a",
   "metadata": {},
   "outputs": [],
   "source": [
    "analysis_date = \"2022-10-12\""
   ]
  },
  {
   "cell_type": "code",
   "execution_count": 230,
   "id": "adf9ac8a-43e9-4a1c-b27c-fd3e1f247fc5",
   "metadata": {},
   "outputs": [],
   "source": [
    "# Read in route lines\n",
    "routelines = gpd.read_parquet(\n",
    "    f\"{GCS_RT_PATH}compiled_cached_views/routelines_{analysis_date}.parquet\"\n",
    ")"
   ]
  },
  {
   "cell_type": "code",
   "execution_count": 231,
   "id": "901cc048-6ab1-4efd-9a30-9eafd17ba217",
   "metadata": {},
   "outputs": [
    {
     "data": {
      "text/plain": [
       "(9430, 6353, 175)"
      ]
     },
     "execution_count": 231,
     "metadata": {},
     "output_type": "execute_result"
    }
   ],
   "source": [
    "len(routelines), routelines.shape_id.nunique(), routelines.calitp_itp_id.nunique()"
   ]
  },
  {
   "cell_type": "code",
   "execution_count": 232,
   "id": "2ac62fbb-d527-41fc-8c7c-06f0def4765d",
   "metadata": {},
   "outputs": [
    {
     "data": {
      "text/html": [
       "<div>\n",
       "<style scoped>\n",
       "    .dataframe tbody tr th:only-of-type {\n",
       "        vertical-align: middle;\n",
       "    }\n",
       "\n",
       "    .dataframe tbody tr th {\n",
       "        vertical-align: top;\n",
       "    }\n",
       "\n",
       "    .dataframe thead th {\n",
       "        text-align: right;\n",
       "    }\n",
       "</style>\n",
       "<table border=\"1\" class=\"dataframe\">\n",
       "  <thead>\n",
       "    <tr style=\"text-align: right;\">\n",
       "      <th></th>\n",
       "      <th>calitp_itp_id</th>\n",
       "      <th>calitp_url_number</th>\n",
       "      <th>shape_id</th>\n",
       "    </tr>\n",
       "  </thead>\n",
       "  <tbody>\n",
       "    <tr>\n",
       "      <th>7903</th>\n",
       "      <td>310</td>\n",
       "      <td>1</td>\n",
       "      <td>10</td>\n",
       "    </tr>\n",
       "  </tbody>\n",
       "</table>\n",
       "</div>"
      ],
      "text/plain": [
       "      calitp_itp_id  calitp_url_number shape_id\n",
       "7903            310                  1       10"
      ]
     },
     "execution_count": 232,
     "metadata": {},
     "output_type": "execute_result"
    }
   ],
   "source": [
    "routelines.sample().drop(columns=[\"geometry\"])"
   ]
  },
  {
   "cell_type": "code",
   "execution_count": 233,
   "id": "1b40dfcd-7a35-4780-9fff-d64fae60a97b",
   "metadata": {},
   "outputs": [],
   "source": [
    "# Read in longest_shape of each route\n",
    "longest_shape = gpd.read_parquet(f\"{GCS_DASK_PATH}longest_shape_segments.parquet\")"
   ]
  },
  {
   "cell_type": "code",
   "execution_count": 234,
   "id": "926e8e22-4e79-4d05-8a67-6cf4e8334798",
   "metadata": {},
   "outputs": [
    {
     "data": {
      "text/plain": [
       "(126896, 3960, 175)"
      ]
     },
     "execution_count": 234,
     "metadata": {},
     "output_type": "execute_result"
    }
   ],
   "source": [
    "len(\n",
    "    longest_shape\n",
    "), longest_shape.longest_shape_id.nunique(), longest_shape.calitp_itp_id.nunique()"
   ]
  },
  {
   "cell_type": "code",
   "execution_count": 235,
   "id": "9db30746-9af9-473f-b068-443bd3623b3a",
   "metadata": {},
   "outputs": [
    {
     "data": {
      "text/html": [
       "<div>\n",
       "<style scoped>\n",
       "    .dataframe tbody tr th:only-of-type {\n",
       "        vertical-align: middle;\n",
       "    }\n",
       "\n",
       "    .dataframe tbody tr th {\n",
       "        vertical-align: top;\n",
       "    }\n",
       "\n",
       "    .dataframe thead th {\n",
       "        text-align: right;\n",
       "    }\n",
       "</style>\n",
       "<table border=\"1\" class=\"dataframe\">\n",
       "  <thead>\n",
       "    <tr style=\"text-align: right;\">\n",
       "      <th></th>\n",
       "      <th>calitp_itp_id</th>\n",
       "      <th>calitp_url_number</th>\n",
       "      <th>route_id</th>\n",
       "      <th>direction_id</th>\n",
       "      <th>longest_shape_id</th>\n",
       "      <th>route_dir_identifier</th>\n",
       "      <th>route_length</th>\n",
       "      <th>segment_sequence</th>\n",
       "    </tr>\n",
       "  </thead>\n",
       "  <tbody>\n",
       "    <tr>\n",
       "      <th>88806</th>\n",
       "      <td>294</td>\n",
       "      <td>0</td>\n",
       "      <td>101</td>\n",
       "      <td>0</td>\n",
       "      <td>105886</td>\n",
       "      <td>1497132652</td>\n",
       "      <td>41734.59</td>\n",
       "      <td>8</td>\n",
       "    </tr>\n",
       "  </tbody>\n",
       "</table>\n",
       "</div>"
      ],
      "text/plain": [
       "       calitp_itp_id  calitp_url_number route_id direction_id  \\\n",
       "88806            294                  0      101            0   \n",
       "\n",
       "      longest_shape_id  route_dir_identifier  route_length segment_sequence  \n",
       "88806           105886            1497132652      41734.59                8  "
      ]
     },
     "execution_count": 235,
     "metadata": {},
     "output_type": "execute_result"
    }
   ],
   "source": [
    "longest_shape.sample().drop(columns=[\"geometry\", \"geometry_arrowized\"])"
   ]
  },
  {
   "cell_type": "code",
   "execution_count": 236,
   "id": "287990c4-5e89-4247-8827-dd07aebed17b",
   "metadata": {},
   "outputs": [],
   "source": [
    "# Says missing geospatial data\n",
    "segments_crosswalks = pd.read_parquet(\n",
    "    f\"{GCS_DASK_PATH}segments_route_direction_crosswalk.parquet\"\n",
    ")"
   ]
  },
  {
   "cell_type": "code",
   "execution_count": 237,
   "id": "5676995f-912c-4a08-af06-9a9400d10c87",
   "metadata": {},
   "outputs": [
    {
     "data": {
      "text/plain": [
       "5150"
      ]
     },
     "execution_count": 237,
     "metadata": {},
     "output_type": "execute_result"
    }
   ],
   "source": [
    "len(segments_crosswalks)"
   ]
  },
  {
   "cell_type": "code",
   "execution_count": 238,
   "id": "c04f426f-bbd2-4b9e-b613-e35f7a615671",
   "metadata": {},
   "outputs": [
    {
     "data": {
      "text/html": [
       "<div>\n",
       "<style scoped>\n",
       "    .dataframe tbody tr th:only-of-type {\n",
       "        vertical-align: middle;\n",
       "    }\n",
       "\n",
       "    .dataframe tbody tr th {\n",
       "        vertical-align: top;\n",
       "    }\n",
       "\n",
       "    .dataframe thead th {\n",
       "        text-align: right;\n",
       "    }\n",
       "</style>\n",
       "<table border=\"1\" class=\"dataframe\">\n",
       "  <thead>\n",
       "    <tr style=\"text-align: right;\">\n",
       "      <th></th>\n",
       "      <th>calitp_itp_id</th>\n",
       "      <th>route_id</th>\n",
       "      <th>direction_id</th>\n",
       "      <th>route_dir_identifier</th>\n",
       "    </tr>\n",
       "  </thead>\n",
       "  <tbody>\n",
       "    <tr>\n",
       "      <th>2105</th>\n",
       "      <td>323</td>\n",
       "      <td>Ventura County Line</td>\n",
       "      <td>1</td>\n",
       "      <td>1840695654</td>\n",
       "    </tr>\n",
       "  </tbody>\n",
       "</table>\n",
       "</div>"
      ],
      "text/plain": [
       "      calitp_itp_id             route_id direction_id  route_dir_identifier\n",
       "2105            323  Ventura County Line            1            1840695654"
      ]
     },
     "execution_count": 238,
     "metadata": {},
     "output_type": "execute_result"
    }
   ],
   "source": [
    "segments_crosswalks.sample()"
   ]
  },
  {
   "cell_type": "code",
   "execution_count": 239,
   "id": "7ddaf111-2652-4162-85fc-bd4e884bfb48",
   "metadata": {},
   "outputs": [],
   "source": [
    "# Read in one segment for ONE itp id first\n",
    "# when using gpd.read_parquert() says\n",
    "# Missing geo metadata in Parquet/Feather file.\n",
    "# Use pandas.read_parquet/read_feather() instead.\n",
    "segment_148 = pd.read_parquet(\n",
    "    f\"{GCS_DASK_PATH}vp_sjoin/vp_segment_148_{analysis_date}.parquet\"\n",
    ")"
   ]
  },
  {
   "cell_type": "code",
   "execution_count": 240,
   "id": "060eadb4-1525-47f8-8887-ee64832dfde6",
   "metadata": {},
   "outputs": [],
   "source": [
    "# segment_148 = gpd.GeoDataFrame(\n",
    "#    segment_148, geometry=gpd.points_from_xy(segment_148.lon, segment_148.lat))"
   ]
  },
  {
   "cell_type": "code",
   "execution_count": 241,
   "id": "aac59b99-6cd5-425d-8bd4-1d217f59bc08",
   "metadata": {},
   "outputs": [
    {
     "data": {
      "text/plain": [
       "22692"
      ]
     },
     "execution_count": 241,
     "metadata": {},
     "output_type": "execute_result"
    }
   ],
   "source": [
    "len(segment_148)"
   ]
  },
  {
   "cell_type": "code",
   "execution_count": 242,
   "id": "365fd82a-34b3-4cf5-9996-32c601cef3da",
   "metadata": {},
   "outputs": [],
   "source": [
    "segment_148 = segment_148.sort_values([\"calitp_itp_id\", \"trip_id\", \"segment_sequence\"])"
   ]
  },
  {
   "cell_type": "code",
   "execution_count": 243,
   "id": "88103cf4-6e75-4a10-b60e-d805769625d3",
   "metadata": {},
   "outputs": [
    {
     "data": {
      "text/html": [
       "<div>\n",
       "<style scoped>\n",
       "    .dataframe tbody tr th:only-of-type {\n",
       "        vertical-align: middle;\n",
       "    }\n",
       "\n",
       "    .dataframe tbody tr th {\n",
       "        vertical-align: top;\n",
       "    }\n",
       "\n",
       "    .dataframe thead th {\n",
       "        text-align: right;\n",
       "    }\n",
       "</style>\n",
       "<table border=\"1\" class=\"dataframe\">\n",
       "  <thead>\n",
       "    <tr style=\"text-align: right;\">\n",
       "      <th></th>\n",
       "      <th>calitp_itp_id</th>\n",
       "      <th>calitp_url_number</th>\n",
       "      <th>vehicle_timestamp</th>\n",
       "      <th>trip_id</th>\n",
       "      <th>route_dir_identifier</th>\n",
       "      <th>segment_sequence</th>\n",
       "      <th>lon</th>\n",
       "      <th>lat</th>\n",
       "    </tr>\n",
       "  </thead>\n",
       "  <tbody>\n",
       "    <tr>\n",
       "      <th>263</th>\n",
       "      <td>148</td>\n",
       "      <td>0</td>\n",
       "      <td>2022-10-12 11:33:50</td>\n",
       "      <td>930</td>\n",
       "      <td>1342713973</td>\n",
       "      <td>0</td>\n",
       "      <td>30415.83</td>\n",
       "      <td>-187927.38</td>\n",
       "    </tr>\n",
       "  </tbody>\n",
       "</table>\n",
       "</div>"
      ],
      "text/plain": [
       "     calitp_itp_id  calitp_url_number   vehicle_timestamp trip_id  \\\n",
       "263            148                  0 2022-10-12 11:33:50     930   \n",
       "\n",
       "     route_dir_identifier segment_sequence      lon        lat  \n",
       "263            1342713973                0 30415.83 -187927.38  "
      ]
     },
     "execution_count": 243,
     "metadata": {},
     "output_type": "execute_result"
    }
   ],
   "source": [
    "segment_148.sample()"
   ]
  },
  {
   "cell_type": "markdown",
   "id": "30ea0f95-de9d-4b1e-92bd-95111ba0e2d7",
   "metadata": {
    "tags": []
   },
   "source": [
    "### Task 1\n",
    "* Using GTFS schedule data, by route_id-shape_id, calculate the route_length of each shape_id as a proportion of the longest shape_id. \n",
    "* For each route_id, what's the shortest shape_id length, in proportion to the longest shape_id's length. if it's 100%, then all shape_ids are equal length for that route. if it's 50%, there's a short trip that exists that only runs 50% of the length and turns around.\n",
    "\n",
    "Notes\n",
    "* Is it correct to join on `shape_id` and `longest_shape_id`."
   ]
  },
  {
   "cell_type": "code",
   "execution_count": 244,
   "id": "4ad11571-f463-4b2a-8ae8-951ae3b5ca0a",
   "metadata": {},
   "outputs": [
    {
     "data": {
      "text/plain": [
       "True"
      ]
     },
     "execution_count": 244,
     "metadata": {},
     "output_type": "execute_result"
    }
   ],
   "source": [
    "routelines.crs == longest_shape.crs"
   ]
  },
  {
   "cell_type": "code",
   "execution_count": 245,
   "id": "40da8022-21d9-49f1-9515-edf8a5a63537",
   "metadata": {},
   "outputs": [],
   "source": [
    "# Calculate length of geometry\n",
    "routelines = routelines.assign(\n",
    "    route_length=(routelines.geometry.to_crs(geography_utils.CA_StatePlane).length)\n",
    ")"
   ]
  },
  {
   "cell_type": "code",
   "execution_count": 246,
   "id": "b2286b70-510a-4e58-a90b-006e2020bcf2",
   "metadata": {
    "scrolled": true,
    "tags": []
   },
   "outputs": [],
   "source": [
    "# routelines.drop(columns = [\"geometry\"]).sort_values([\"calitp_itp_id\",\"shape_id\"]).head(200)"
   ]
  },
  {
   "cell_type": "code",
   "execution_count": 247,
   "id": "6b3a7507-91e4-49ae-a536-afdd2d2f8cec",
   "metadata": {},
   "outputs": [],
   "source": [
    "# Dissolve so only one row for each calitp_id/shape_id.\n",
    "routelines_diss = routelines.dissolve(\n",
    "    by=[\n",
    "        \"calitp_itp_id\",\n",
    "        \"shape_id\",\n",
    "    ],\n",
    "    aggfunc={\n",
    "        \"route_length\": \"sum\",\n",
    "    },\n",
    ").reset_index()"
   ]
  },
  {
   "cell_type": "code",
   "execution_count": 248,
   "id": "29860d6e-9248-4e9b-bcc4-c93477c33d09",
   "metadata": {},
   "outputs": [
    {
     "data": {
      "text/plain": [
       "(6353, 7685)"
      ]
     },
     "execution_count": 248,
     "metadata": {},
     "output_type": "execute_result"
    }
   ],
   "source": [
    "routelines_diss.shape_id.nunique(), len(routelines_diss)"
   ]
  },
  {
   "cell_type": "code",
   "execution_count": 249,
   "id": "4694a61e-658e-4a5b-ab0f-adea5f98d560",
   "metadata": {},
   "outputs": [],
   "source": [
    "# Dissolve so only one row for each calitp_id/shape_id/route_id\n",
    "longest_shape_diss = longest_shape.dissolve(\n",
    "    by=[\"calitp_itp_id\", \"longest_shape_id\", \"route_id\", \"route_dir_identifier\"],\n",
    "    aggfunc={\n",
    "        \"route_length\": \"sum\",\n",
    "    },\n",
    ").reset_index()"
   ]
  },
  {
   "cell_type": "code",
   "execution_count": 250,
   "id": "cbf4231d-3f3a-4488-91ac-5f329a7a3f7f",
   "metadata": {
    "scrolled": true,
    "tags": []
   },
   "outputs": [],
   "source": [
    "# longest_shape.drop(columns = [\"geometry\", \"geometry_arrowized\"]).sort_values([\"calitp_itp_id\",\"route_id\"]).head(200)"
   ]
  },
  {
   "cell_type": "code",
   "execution_count": 251,
   "id": "bf85d583-727f-44b8-b6fe-e6bd4bb7a1b6",
   "metadata": {},
   "outputs": [
    {
     "data": {
      "text/plain": [
       "5150"
      ]
     },
     "execution_count": 251,
     "metadata": {},
     "output_type": "execute_result"
    }
   ],
   "source": [
    "len(longest_shape_diss)"
   ]
  },
  {
   "cell_type": "code",
   "execution_count": 252,
   "id": "9cefbdaf-90a8-4b87-917e-8621bc3e0287",
   "metadata": {},
   "outputs": [],
   "source": [
    "# routelines_diss.drop(columns = [\"geometry\"]).sort_values(\"calitp_itp_id\").head(100)"
   ]
  },
  {
   "cell_type": "code",
   "execution_count": 253,
   "id": "0f9cb05d-c21a-4cb8-8e7f-de2e7e594f66",
   "metadata": {},
   "outputs": [],
   "source": [
    "# Do an inner merge.\n",
    "m1 = routelines_diss.merge(\n",
    "    longest_shape_diss,\n",
    "    how=\"inner\",\n",
    "    left_on=[\"calitp_itp_id\", \"shape_id\"],\n",
    "    right_on=[\"calitp_itp_id\", \"longest_shape_id\"],\n",
    "    suffixes=(\"_routelines\", \"_longest_line\"),\n",
    ")"
   ]
  },
  {
   "cell_type": "code",
   "execution_count": 254,
   "id": "b00e5cfa-1c4b-4566-9e61-a46d6475c39e",
   "metadata": {},
   "outputs": [
    {
     "data": {
      "text/plain": [
       "5150"
      ]
     },
     "execution_count": 254,
     "metadata": {},
     "output_type": "execute_result"
    }
   ],
   "source": [
    "len(m1)"
   ]
  },
  {
   "cell_type": "code",
   "execution_count": 255,
   "id": "2ddc020c-6f2c-4105-bbad-853cbe333752",
   "metadata": {},
   "outputs": [],
   "source": [
    "# Make sure this is a gdf\n",
    "m1 = m1.set_geometry(\"geometry_routelines\")"
   ]
  },
  {
   "cell_type": "code",
   "execution_count": 256,
   "id": "3e28ed5a-4acf-4335-9659-3530813ad795",
   "metadata": {},
   "outputs": [],
   "source": [
    "# Calculate out proportion of route length against longest.\n",
    "m1[\"proportion_route_length\"] = (\n",
    "    m1[\"route_length_routelines\"] / m1[\"route_length_longest_line\"]\n",
    ") * 100"
   ]
  },
  {
   "cell_type": "code",
   "execution_count": 257,
   "id": "c45b087a-7538-4ac2-a420-b966116bac6f",
   "metadata": {},
   "outputs": [
    {
     "data": {
      "text/plain": [
       "count   5150.00\n",
       "mean      32.88\n",
       "std       32.66\n",
       "min        1.06\n",
       "25%       12.62\n",
       "50%       23.43\n",
       "75%       41.06\n",
       "max      657.58\n",
       "Name: proportion_route_length, dtype: float64"
      ]
     },
     "execution_count": 257,
     "metadata": {},
     "output_type": "execute_result"
    }
   ],
   "source": [
    "m1.proportion_route_length.describe()"
   ]
  },
  {
   "cell_type": "code",
   "execution_count": 258,
   "id": "ed3b273c-e797-42ed-b6e4-ee1e12fc5bce",
   "metadata": {
    "scrolled": true,
    "tags": []
   },
   "outputs": [],
   "source": [
    "# m1.drop(columns = ['geometry_routelines','geometry_longest_line']).sort_values([\"calitp_itp_id\", \"route_id\", \"proportion_route_length\"]).head(100)"
   ]
  },
  {
   "cell_type": "markdown",
   "id": "319681c5-9f85-4e85-83ac-1b211d6d0189",
   "metadata": {},
   "source": [
    "### Task 2\n",
    "* Testing with 148 Kings County Area Public Transit Agency\n",
    "* Calculate time of trips?\n",
    "\n",
    "\n",
    "Questions \n",
    "* How to define short trips - between segments? Or the entire trip as a whole? \n",
    "    * If trip as a whole, then just subtract the last segment minus 0?\n",
    "* Are we trying to exclude short trips?"
   ]
  },
  {
   "cell_type": "code",
   "execution_count": 259,
   "id": "6c6fba48-8462-43de-86ef-a382badb728d",
   "metadata": {},
   "outputs": [
    {
     "data": {
      "text/plain": [
       "22692"
      ]
     },
     "execution_count": 259,
     "metadata": {},
     "output_type": "execute_result"
    }
   ],
   "source": [
    "len(segment_148)"
   ]
  },
  {
   "cell_type": "code",
   "execution_count": 260,
   "id": "24aef2a0-ef40-495b-b589-dfa13c69d9e9",
   "metadata": {},
   "outputs": [],
   "source": [
    "segment_148_min = (\n",
    "    segment_148.groupby([\"calitp_itp_id\", \"trip_id\", \"route_dir_identifier\",])\n",
    "    .agg({\"vehicle_timestamp\": \"min\"})\n",
    "    .rename(columns={\"vehicle_timestamp\": \"min_time\"})\n",
    "    .reset_index()\n",
    ")"
   ]
  },
  {
   "cell_type": "code",
   "execution_count": 261,
   "id": "f18faacb-c51a-492c-a291-ec0f30985427",
   "metadata": {},
   "outputs": [],
   "source": [
    "segment_148_max = (\n",
    "    segment_148.groupby([\"calitp_itp_id\", \"trip_id\", \"route_dir_identifier\",])\n",
    "    .agg({\"vehicle_timestamp\": \"max\"})\n",
    "    .rename(columns={\"vehicle_timestamp\": \"max_time\"})\n",
    "    .reset_index()\n",
    ")"
   ]
  },
  {
   "cell_type": "code",
   "execution_count": 262,
   "id": "2369716d-111b-4058-abed-bd0b00376616",
   "metadata": {},
   "outputs": [],
   "source": [
    "segment_148_m = segment_148_max.merge(\n",
    "    segment_148_min,\n",
    "    how=\"inner\",\n",
    "    on=[\"calitp_itp_id\", \"trip_id\", \"route_dir_identifier\"],\n",
    ")"
   ]
  },
  {
   "cell_type": "code",
   "execution_count": 263,
   "id": "6850b018-2841-4217-8a51-22cac1408d18",
   "metadata": {},
   "outputs": [],
   "source": [
    "# https://stackoverflow.com/questions/51491724/calculate-difference-of-2-dates-in-minutes-in-pandas\n",
    "segment_148_m['minutes_elapsed'] = (segment_148_m.max_time - segment_148_m.min_time).dt.total_seconds() / 60"
   ]
  },
  {
   "cell_type": "code",
   "execution_count": 264,
   "id": "efbcdf22-5180-4785-ac55-98cef017ca57",
   "metadata": {},
   "outputs": [
    {
     "data": {
      "text/plain": [
       "count   232.00\n",
       "mean     40.54\n",
       "std      27.08\n",
       "min      21.00\n",
       "25%      28.48\n",
       "50%      30.00\n",
       "75%      32.50\n",
       "max     189.50\n",
       "Name: minutes_elapsed, dtype: float64"
      ]
     },
     "execution_count": 264,
     "metadata": {},
     "output_type": "execute_result"
    }
   ],
   "source": [
    "segment_148_m.minutes_elapsed.describe()"
   ]
  },
  {
   "cell_type": "code",
   "execution_count": 265,
   "id": "da0d8537-e3cc-4b0b-811d-b6a14060a146",
   "metadata": {},
   "outputs": [
    {
     "data": {
      "text/plain": [
       "14"
      ]
     },
     "execution_count": 265,
     "metadata": {},
     "output_type": "execute_result"
    }
   ],
   "source": [
    "segment_148_m.route_dir_identifier.nunique()"
   ]
  },
  {
   "cell_type": "code",
   "execution_count": 266,
   "id": "8ade213b-1658-4473-83d6-8c43b9bf288d",
   "metadata": {},
   "outputs": [
    {
     "data": {
      "text/plain": [
       "count   232.00\n",
       "mean     40.54\n",
       "std      27.08\n",
       "min      21.00\n",
       "25%      28.48\n",
       "50%      30.00\n",
       "75%      32.50\n",
       "max     189.50\n",
       "Name: minutes_elapsed, dtype: float64"
      ]
     },
     "execution_count": 266,
     "metadata": {},
     "output_type": "execute_result"
    }
   ],
   "source": [
    "segment_148_m.minutes_elapsed.describe()"
   ]
  },
  {
   "cell_type": "code",
   "execution_count": 267,
   "id": "a9cd40d5-9364-406f-acd5-cb9c0ca7ccba",
   "metadata": {},
   "outputs": [],
   "source": [
    "# Maybe anything below 25% percentile is a short trip to throw away\n",
    "p25 = segment_148_m.minutes_elapsed.quantile(0.25).astype(float)"
   ]
  },
  {
   "cell_type": "code",
   "execution_count": 268,
   "id": "4497bd74-7439-4723-b0fa-e7911e7981c1",
   "metadata": {},
   "outputs": [],
   "source": [
    "segment_148_filtered = (segment_148_m.loc[segment_148_m.minutes_elapsed > p25]).reset_index(drop = True)"
   ]
  },
  {
   "cell_type": "code",
   "execution_count": 269,
   "id": "419aae93-1c50-47b8-a426-76a5071eba28",
   "metadata": {},
   "outputs": [
    {
     "data": {
      "text/plain": [
       "'0.7327586206896551% of rows are left'"
      ]
     },
     "execution_count": 269,
     "metadata": {},
     "output_type": "execute_result"
    }
   ],
   "source": [
    "f\"{len(segment_148_filtered)/len(segment_148_m)}% of rows are left\""
   ]
  },
  {
   "cell_type": "code",
   "execution_count": 270,
   "id": "fdb13f5e-9a89-41d5-9f57-80db07f241cb",
   "metadata": {
    "tags": []
   },
   "outputs": [
    {
     "data": {
      "text/plain": [
       "(170, 6)"
      ]
     },
     "execution_count": 270,
     "metadata": {},
     "output_type": "execute_result"
    }
   ],
   "source": [
    "segment_148_filtered.shape"
   ]
  },
  {
   "cell_type": "code",
   "execution_count": 271,
   "id": "347f3120-a3b4-494a-9b79-432a5ceaa685",
   "metadata": {},
   "outputs": [
    {
     "data": {
      "text/plain": [
       "Index(['calitp_itp_id', 'trip_id', 'route_dir_identifier', 'max_time',\n",
       "       'min_time', 'minutes_elapsed'],\n",
       "      dtype='object')"
      ]
     },
     "execution_count": 271,
     "metadata": {},
     "output_type": "execute_result"
    }
   ],
   "source": [
    "segment_148_filtered.columns"
   ]
  },
  {
   "cell_type": "code",
   "execution_count": 272,
   "id": "977b86b7-4c9b-4038-ba4a-90f14f6dcd77",
   "metadata": {},
   "outputs": [
    {
     "data": {
      "text/plain": [
       "Index(['calitp_itp_id', 'shape_id', 'geometry_routelines',\n",
       "       'route_length_routelines', 'longest_shape_id', 'route_id',\n",
       "       'route_dir_identifier', 'geometry_longest_line',\n",
       "       'route_length_longest_line', 'proportion_route_length'],\n",
       "      dtype='object')"
      ]
     },
     "execution_count": 272,
     "metadata": {},
     "output_type": "execute_result"
    }
   ],
   "source": [
    "m1.columns"
   ]
  },
  {
   "cell_type": "code",
   "execution_count": 273,
   "id": "f0c5a869-95b2-4309-9410-fed4ebf5ec40",
   "metadata": {},
   "outputs": [
    {
     "data": {
      "text/plain": [
       "Index(['calitp_itp_id', 'route_id', 'direction_id', 'route_dir_identifier'], dtype='object')"
      ]
     },
     "execution_count": 273,
     "metadata": {},
     "output_type": "execute_result"
    }
   ],
   "source": [
    "segments_crosswalks.columns"
   ]
  },
  {
   "cell_type": "code",
   "execution_count": 275,
   "id": "fa2fa009-81ce-4517-89ee-9c85b0c97130",
   "metadata": {},
   "outputs": [],
   "source": [
    "segment_148_filtered = segment_148_filtered.merge(\n",
    "    segments_crosswalks,\n",
    "    how=\"inner\",\n",
    "    on=['calitp_itp_id','route_dir_identifier'],\n",
    ")"
   ]
  },
  {
   "cell_type": "code",
   "execution_count": null,
   "id": "6ce15852-8628-4b7d-ac8e-3cc1894634ec",
   "metadata": {
    "scrolled": true,
    "tags": []
   },
   "outputs": [],
   "source": [
    "# segment_148_filtered"
   ]
  },
  {
   "cell_type": "code",
   "execution_count": 277,
   "id": "a24395e5-982f-4f76-ae48-d08a5933267f",
   "metadata": {},
   "outputs": [],
   "source": [
    "m2 = segment_148_filtered.merge(\n",
    "    m1,\n",
    "    how=\"inner\",\n",
    "    on=['calitp_itp_id','route_dir_identifier', \"route_id\"],\n",
    "    indicator = True\n",
    ")"
   ]
  },
  {
   "cell_type": "code",
   "execution_count": null,
   "id": "b1ac291e-f41d-4a3b-bf70-906d9a5724a8",
   "metadata": {
    "scrolled": true,
    "tags": []
   },
   "outputs": [],
   "source": [
    "# m2.drop(columns = ['geometry_routelines','geometry_longest_line'])"
   ]
  },
  {
   "cell_type": "markdown",
   "id": "ca45c1d2-fc5a-46f2-b7ed-029d67bc8af6",
   "metadata": {},
   "source": [
    "### Questions \n",
    "* For each operator, what's the % of RT trip_ids that would remain after those thresholds are used? Make a chart function that takes a single operator. Produce charts for all operators. Is the time or geographic coverage that's driving this excluding of trips? What is a recommended threshold to use?\n",
    "* For short trips, do they tend to be 50% of the longest route length? 40% 30%? Have this handy to inform question 1.\n"
   ]
  }
 ],
 "metadata": {
  "kernelspec": {
   "display_name": "Python 3 (ipykernel)",
   "language": "python",
   "name": "python3"
  },
  "language_info": {
   "codemirror_mode": {
    "name": "ipython",
    "version": 3
   },
   "file_extension": ".py",
   "mimetype": "text/x-python",
   "name": "python",
   "nbconvert_exporter": "python",
   "pygments_lexer": "ipython3",
   "version": "3.9.13"
  }
 },
 "nbformat": 4,
 "nbformat_minor": 5
}
