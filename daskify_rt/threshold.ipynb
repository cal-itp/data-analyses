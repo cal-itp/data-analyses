{
 "cells": [
  {
   "cell_type": "markdown",
   "id": "adf5df97-0182-498a-bd35-303ac84e9611",
   "metadata": {},
   "source": [
    "## RT trip diagnostics: thresholds for usable trips "
   ]
  },
  {
   "cell_type": "code",
   "execution_count": 1,
   "id": "1faeb7ff-1ebc-4ced-afb0-c813f863d3d8",
   "metadata": {},
   "outputs": [
    {
     "name": "stderr",
     "output_type": "stream",
     "text": [
      "/opt/conda/lib/python3.9/site-packages/geopandas/_compat.py:123: UserWarning: The Shapely GEOS version (3.10.3-CAPI-1.16.1) is incompatible with the GEOS version PyGEOS was compiled with (3.10.1-CAPI-1.16.0). Conversions between both will be slow.\n",
      "  warnings.warn(\n"
     ]
    }
   ],
   "source": [
    "import dask.dataframe as dd\n",
    "import dask_geopandas as dg\n",
    "import geopandas as gpd\n",
    "import pandas as pd\n",
    "from calitp.sql import to_snakecase\n",
    "from shared_utils import geography_utils, utils"
   ]
  },
  {
   "cell_type": "code",
   "execution_count": 2,
   "id": "9f13f204-138e-4b10-94a8-ead22461dad0",
   "metadata": {},
   "outputs": [],
   "source": [
    "# Save files to GCS\n",
    "from calitp.storage import get_fs\n",
    "\n",
    "fs = get_fs()"
   ]
  },
  {
   "cell_type": "code",
   "execution_count": 3,
   "id": "35a36bc4-4f66-4285-8025-a5eaccc3a266",
   "metadata": {},
   "outputs": [],
   "source": [
    "# Record start and end time\n",
    "import datetime\n",
    "\n",
    "from loguru import logger"
   ]
  },
  {
   "cell_type": "code",
   "execution_count": 4,
   "id": "f6233726-eb99-4f7e-9a90-842872f36ed7",
   "metadata": {},
   "outputs": [],
   "source": [
    "pd.options.display.max_columns = 100\n",
    "pd.options.display.float_format = \"{:.2f}\".format\n",
    "pd.set_option(\"display.max_rows\", None)\n",
    "pd.set_option(\"display.max_colwidth\", None)"
   ]
  },
  {
   "cell_type": "markdown",
   "id": "b26bf5e4-5ced-43dd-b792-12fa0e2376c0",
   "metadata": {},
   "source": [
    "### Look at files"
   ]
  },
  {
   "cell_type": "code",
   "execution_count": 5,
   "id": "2f333522-803a-4b60-b4af-b2edd0a274df",
   "metadata": {},
   "outputs": [],
   "source": [
    "GCS_DASK_PATH = \"gs://calitp-analytics-data/data-analyses/dask_test/\""
   ]
  },
  {
   "cell_type": "code",
   "execution_count": 6,
   "id": "3c8140f4-9219-4ef4-92b7-bd99eb8d0a38",
   "metadata": {},
   "outputs": [],
   "source": [
    "GCS_RT_PATH = \"gs://calitp-analytics-data/data-analyses/rt_delay/\""
   ]
  },
  {
   "cell_type": "code",
   "execution_count": 7,
   "id": "cdd7ae15-7777-4c40-94be-f441f68f9b6a",
   "metadata": {},
   "outputs": [],
   "source": [
    "analysis_date = \"2022-10-12\""
   ]
  },
  {
   "cell_type": "code",
   "execution_count": 8,
   "id": "adf9ac8a-43e9-4a1c-b27c-fd3e1f247fc5",
   "metadata": {},
   "outputs": [],
   "source": [
    "# Read in route lines\n",
    "routelines = gpd.read_parquet(\n",
    "    f\"{GCS_RT_PATH}compiled_cached_views/routelines_{analysis_date}.parquet\"\n",
    ")"
   ]
  },
  {
   "cell_type": "code",
   "execution_count": 9,
   "id": "901cc048-6ab1-4efd-9a30-9eafd17ba217",
   "metadata": {},
   "outputs": [
    {
     "data": {
      "text/plain": [
       "(9430, 6353, 175)"
      ]
     },
     "execution_count": 9,
     "metadata": {},
     "output_type": "execute_result"
    }
   ],
   "source": [
    "len(routelines), routelines.shape_id.nunique(), routelines.calitp_itp_id.nunique()"
   ]
  },
  {
   "cell_type": "code",
   "execution_count": 10,
   "id": "2ac62fbb-d527-41fc-8c7c-06f0def4765d",
   "metadata": {},
   "outputs": [
    {
     "data": {
      "text/html": [
       "<div>\n",
       "<style scoped>\n",
       "    .dataframe tbody tr th:only-of-type {\n",
       "        vertical-align: middle;\n",
       "    }\n",
       "\n",
       "    .dataframe tbody tr th {\n",
       "        vertical-align: top;\n",
       "    }\n",
       "\n",
       "    .dataframe thead th {\n",
       "        text-align: right;\n",
       "    }\n",
       "</style>\n",
       "<table border=\"1\" class=\"dataframe\">\n",
       "  <thead>\n",
       "    <tr style=\"text-align: right;\">\n",
       "      <th></th>\n",
       "      <th>calitp_itp_id</th>\n",
       "      <th>calitp_url_number</th>\n",
       "      <th>shape_id</th>\n",
       "    </tr>\n",
       "  </thead>\n",
       "  <tbody>\n",
       "    <tr>\n",
       "      <th>1500</th>\n",
       "      <td>76</td>\n",
       "      <td>0</td>\n",
       "      <td>p_498594</td>\n",
       "    </tr>\n",
       "  </tbody>\n",
       "</table>\n",
       "</div>"
      ],
      "text/plain": [
       "      calitp_itp_id  calitp_url_number  shape_id\n",
       "1500             76                  0  p_498594"
      ]
     },
     "execution_count": 10,
     "metadata": {},
     "output_type": "execute_result"
    }
   ],
   "source": [
    "routelines.sample().drop(columns=[\"geometry\"])"
   ]
  },
  {
   "cell_type": "code",
   "execution_count": 11,
   "id": "1b40dfcd-7a35-4780-9fff-d64fae60a97b",
   "metadata": {},
   "outputs": [],
   "source": [
    "# Read in longest_shape of each route\n",
    "longest_shape = gpd.read_parquet(f\"{GCS_DASK_PATH}longest_shape_segments.parquet\")"
   ]
  },
  {
   "cell_type": "code",
   "execution_count": 12,
   "id": "926e8e22-4e79-4d05-8a67-6cf4e8334798",
   "metadata": {},
   "outputs": [
    {
     "data": {
      "text/plain": [
       "(126896, 3960, 175)"
      ]
     },
     "execution_count": 12,
     "metadata": {},
     "output_type": "execute_result"
    }
   ],
   "source": [
    "len(\n",
    "    longest_shape\n",
    "), longest_shape.longest_shape_id.nunique(), longest_shape.calitp_itp_id.nunique()"
   ]
  },
  {
   "cell_type": "code",
   "execution_count": 13,
   "id": "9db30746-9af9-473f-b068-443bd3623b3a",
   "metadata": {},
   "outputs": [
    {
     "data": {
      "text/html": [
       "<div>\n",
       "<style scoped>\n",
       "    .dataframe tbody tr th:only-of-type {\n",
       "        vertical-align: middle;\n",
       "    }\n",
       "\n",
       "    .dataframe tbody tr th {\n",
       "        vertical-align: top;\n",
       "    }\n",
       "\n",
       "    .dataframe thead th {\n",
       "        text-align: right;\n",
       "    }\n",
       "</style>\n",
       "<table border=\"1\" class=\"dataframe\">\n",
       "  <thead>\n",
       "    <tr style=\"text-align: right;\">\n",
       "      <th></th>\n",
       "      <th>calitp_itp_id</th>\n",
       "      <th>calitp_url_number</th>\n",
       "      <th>route_id</th>\n",
       "      <th>direction_id</th>\n",
       "      <th>longest_shape_id</th>\n",
       "      <th>route_dir_identifier</th>\n",
       "      <th>route_length</th>\n",
       "      <th>segment_sequence</th>\n",
       "    </tr>\n",
       "  </thead>\n",
       "  <tbody>\n",
       "    <tr>\n",
       "      <th>41060</th>\n",
       "      <td>182</td>\n",
       "      <td>0</td>\n",
       "      <td>150-13157</td>\n",
       "      <td>1</td>\n",
       "      <td>1500197_JUNE22</td>\n",
       "      <td>4257327450</td>\n",
       "      <td>20749.79</td>\n",
       "      <td>19</td>\n",
       "    </tr>\n",
       "  </tbody>\n",
       "</table>\n",
       "</div>"
      ],
      "text/plain": [
       "       calitp_itp_id  calitp_url_number   route_id direction_id  \\\n",
       "41060            182                  0  150-13157            1   \n",
       "\n",
       "      longest_shape_id  route_dir_identifier  route_length segment_sequence  \n",
       "41060   1500197_JUNE22            4257327450      20749.79               19  "
      ]
     },
     "execution_count": 13,
     "metadata": {},
     "output_type": "execute_result"
    }
   ],
   "source": [
    "longest_shape.sample().drop(columns=[\"geometry\", \"geometry_arrowized\"])"
   ]
  },
  {
   "cell_type": "code",
   "execution_count": 14,
   "id": "287990c4-5e89-4247-8827-dd07aebed17b",
   "metadata": {},
   "outputs": [],
   "source": [
    "# Says missing geospatial data\n",
    "segments_crosswalks = pd.read_parquet(\n",
    "    f\"{GCS_DASK_PATH}segments_route_direction_crosswalk.parquet\"\n",
    ")"
   ]
  },
  {
   "cell_type": "code",
   "execution_count": 15,
   "id": "5676995f-912c-4a08-af06-9a9400d10c87",
   "metadata": {},
   "outputs": [
    {
     "data": {
      "text/plain": [
       "5150"
      ]
     },
     "execution_count": 15,
     "metadata": {},
     "output_type": "execute_result"
    }
   ],
   "source": [
    "len(segments_crosswalks)"
   ]
  },
  {
   "cell_type": "code",
   "execution_count": 16,
   "id": "c04f426f-bbd2-4b9e-b613-e35f7a615671",
   "metadata": {},
   "outputs": [
    {
     "data": {
      "text/html": [
       "<div>\n",
       "<style scoped>\n",
       "    .dataframe tbody tr th:only-of-type {\n",
       "        vertical-align: middle;\n",
       "    }\n",
       "\n",
       "    .dataframe tbody tr th {\n",
       "        vertical-align: top;\n",
       "    }\n",
       "\n",
       "    .dataframe thead th {\n",
       "        text-align: right;\n",
       "    }\n",
       "</style>\n",
       "<table border=\"1\" class=\"dataframe\">\n",
       "  <thead>\n",
       "    <tr style=\"text-align: right;\">\n",
       "      <th></th>\n",
       "      <th>calitp_itp_id</th>\n",
       "      <th>route_id</th>\n",
       "      <th>direction_id</th>\n",
       "      <th>route_dir_identifier</th>\n",
       "    </tr>\n",
       "  </thead>\n",
       "  <tbody>\n",
       "    <tr>\n",
       "      <th>5022</th>\n",
       "      <td>228</td>\n",
       "      <td>1</td>\n",
       "      <td>1</td>\n",
       "      <td>4196048753</td>\n",
       "    </tr>\n",
       "  </tbody>\n",
       "</table>\n",
       "</div>"
      ],
      "text/plain": [
       "      calitp_itp_id route_id direction_id  route_dir_identifier\n",
       "5022            228        1            1            4196048753"
      ]
     },
     "execution_count": 16,
     "metadata": {},
     "output_type": "execute_result"
    }
   ],
   "source": [
    "segments_crosswalks.sample()"
   ]
  },
  {
   "cell_type": "code",
   "execution_count": 68,
   "id": "7ddaf111-2652-4162-85fc-bd4e884bfb48",
   "metadata": {},
   "outputs": [],
   "source": [
    "# Read in one segment for ONE itp id\n",
    "# when using gpd.read_parquert() says\n",
    "# Missing geo metadata in Parquet/Feather file.\n",
    "# Use pandas.read_parquet/read_feather() instead.\n",
    "segment_148 = pd.read_parquet(\n",
    "    f\"{GCS_DASK_PATH}vp_sjoin/vp_segment_148_{analysis_date}.parquet\"\n",
    ")"
   ]
  },
  {
   "cell_type": "code",
   "execution_count": null,
   "id": "060eadb4-1525-47f8-8887-ee64832dfde6",
   "metadata": {},
   "outputs": [],
   "source": [
    "# segment_148 = gpd.GeoDataFrame(\n",
    "#    segment_148, geometry=gpd.points_from_xy(segment_148.lon, segment_148.lat))"
   ]
  },
  {
   "cell_type": "code",
   "execution_count": 70,
   "id": "aac59b99-6cd5-425d-8bd4-1d217f59bc08",
   "metadata": {},
   "outputs": [
    {
     "data": {
      "text/plain": [
       "22692"
      ]
     },
     "execution_count": 70,
     "metadata": {},
     "output_type": "execute_result"
    }
   ],
   "source": [
    "len(segment_148)"
   ]
  },
  {
   "cell_type": "code",
   "execution_count": 80,
   "id": "365fd82a-34b3-4cf5-9996-32c601cef3da",
   "metadata": {},
   "outputs": [],
   "source": [
    "segment_148 = segment_148.sort_values([\"calitp_itp_id\", \"trip_id\", \"segment_sequence\"])"
   ]
  },
  {
   "cell_type": "code",
   "execution_count": 92,
   "id": "88103cf4-6e75-4a10-b60e-d805769625d3",
   "metadata": {},
   "outputs": [
    {
     "data": {
      "text/html": [
       "<div>\n",
       "<style scoped>\n",
       "    .dataframe tbody tr th:only-of-type {\n",
       "        vertical-align: middle;\n",
       "    }\n",
       "\n",
       "    .dataframe tbody tr th {\n",
       "        vertical-align: top;\n",
       "    }\n",
       "\n",
       "    .dataframe thead th {\n",
       "        text-align: right;\n",
       "    }\n",
       "</style>\n",
       "<table border=\"1\" class=\"dataframe\">\n",
       "  <thead>\n",
       "    <tr style=\"text-align: right;\">\n",
       "      <th></th>\n",
       "      <th>calitp_itp_id</th>\n",
       "      <th>calitp_url_number</th>\n",
       "      <th>vehicle_timestamp</th>\n",
       "      <th>trip_id</th>\n",
       "      <th>route_dir_identifier</th>\n",
       "      <th>segment_sequence</th>\n",
       "      <th>lon</th>\n",
       "      <th>lat</th>\n",
       "      <th>max_timestamp</th>\n",
       "    </tr>\n",
       "  </thead>\n",
       "  <tbody>\n",
       "    <tr>\n",
       "      <th>1437</th>\n",
       "      <td>148</td>\n",
       "      <td>0</td>\n",
       "      <td>2022-10-12 13:41:20</td>\n",
       "      <td>934</td>\n",
       "      <td>1342713973</td>\n",
       "      <td>4</td>\n",
       "      <td>27716.41</td>\n",
       "      <td>-187610.45</td>\n",
       "      <td>2022-10-12 13:41:20</td>\n",
       "    </tr>\n",
       "  </tbody>\n",
       "</table>\n",
       "</div>"
      ],
      "text/plain": [
       "      calitp_itp_id  calitp_url_number   vehicle_timestamp trip_id  \\\n",
       "1437            148                  0 2022-10-12 13:41:20     934   \n",
       "\n",
       "      route_dir_identifier segment_sequence      lon        lat  \\\n",
       "1437            1342713973                4 27716.41 -187610.45   \n",
       "\n",
       "           max_timestamp  \n",
       "1437 2022-10-12 13:41:20  "
      ]
     },
     "execution_count": 92,
     "metadata": {},
     "output_type": "execute_result"
    }
   ],
   "source": [
    "segment_148.sample()"
   ]
  },
  {
   "cell_type": "markdown",
   "id": "30ea0f95-de9d-4b1e-92bd-95111ba0e2d7",
   "metadata": {
    "tags": []
   },
   "source": [
    "### Task 1\n",
    "* Using GTFS schedule data, by route_id-shape_id, calculate the route_length of each shape_id as a proportion of the longest shape_id. "
   ]
  },
  {
   "cell_type": "code",
   "execution_count": 20,
   "id": "40da8022-21d9-49f1-9515-edf8a5a63537",
   "metadata": {},
   "outputs": [],
   "source": [
    "# Calculate length of geometry\n",
    "routelines = routelines.assign(\n",
    "    route_length=(routelines.geometry.to_crs(geography_utils.CA_StatePlane).length)\n",
    ")"
   ]
  },
  {
   "cell_type": "code",
   "execution_count": 21,
   "id": "6b3a7507-91e4-49ae-a536-afdd2d2f8cec",
   "metadata": {},
   "outputs": [],
   "source": [
    "# Dissolve so only one row for each calitp_id/shape_id.\n",
    "routelines_diss = routelines.dissolve(\n",
    "    by=[\n",
    "        \"calitp_itp_id\",\n",
    "        \"shape_id\",\n",
    "    ],\n",
    "    aggfunc={\n",
    "        \"route_length\": \"sum\",\n",
    "    },\n",
    ").reset_index()"
   ]
  },
  {
   "cell_type": "code",
   "execution_count": 27,
   "id": "29860d6e-9248-4e9b-bcc4-c93477c33d09",
   "metadata": {},
   "outputs": [
    {
     "data": {
      "text/plain": [
       "(6353, 7685)"
      ]
     },
     "execution_count": 27,
     "metadata": {},
     "output_type": "execute_result"
    }
   ],
   "source": [
    "routelines_diss.shape_id.nunique(), len(routelines_diss)"
   ]
  },
  {
   "cell_type": "code",
   "execution_count": 36,
   "id": "4694a61e-658e-4a5b-ab0f-adea5f98d560",
   "metadata": {},
   "outputs": [],
   "source": [
    "# Dissolve so only one row for each calitp_id/shape_id/route_id\n",
    "longest_shape_diss = longest_shape.dissolve(\n",
    "    by=[\"calitp_itp_id\", \"longest_shape_id\", \"route_id\"],\n",
    "    aggfunc={\n",
    "        \"route_length\": \"sum\",\n",
    "    },\n",
    ").reset_index()"
   ]
  },
  {
   "cell_type": "code",
   "execution_count": 38,
   "id": "bf85d583-727f-44b8-b6fe-e6bd4bb7a1b6",
   "metadata": {},
   "outputs": [
    {
     "data": {
      "text/plain": [
       "5150"
      ]
     },
     "execution_count": 38,
     "metadata": {},
     "output_type": "execute_result"
    }
   ],
   "source": [
    "len(longest_shape_diss)"
   ]
  },
  {
   "cell_type": "code",
   "execution_count": 28,
   "id": "9cefbdaf-90a8-4b87-917e-8621bc3e0287",
   "metadata": {},
   "outputs": [],
   "source": [
    "# routelines_diss.drop(columns = [\"geometry\"]).sort_values(\"calitp_itp_id\").head(100)"
   ]
  },
  {
   "cell_type": "code",
   "execution_count": 42,
   "id": "0f9cb05d-c21a-4cb8-8e7f-de2e7e594f66",
   "metadata": {},
   "outputs": [],
   "source": [
    "# Do an inner merge.\n",
    "m1 = routelines_diss.merge(\n",
    "    longest_shape_diss,\n",
    "    how=\"inner\",\n",
    "    left_on=[\"calitp_itp_id\", \"shape_id\"],\n",
    "    right_on=[\"calitp_itp_id\", \"longest_shape_id\"],\n",
    "    suffixes=(\"_routelines\", \"_longest_line\"),\n",
    ")"
   ]
  },
  {
   "cell_type": "code",
   "execution_count": 46,
   "id": "2ddc020c-6f2c-4105-bbad-853cbe333752",
   "metadata": {},
   "outputs": [],
   "source": [
    "# Make sure this is a gdf\n",
    "m1 = m1.set_geometry(\"geometry_routelines\")"
   ]
  },
  {
   "cell_type": "code",
   "execution_count": 53,
   "id": "3e28ed5a-4acf-4335-9659-3530813ad795",
   "metadata": {},
   "outputs": [],
   "source": [
    "# Calculate out proportion of route length against longest.\n",
    "m1[\"proportion_route_length\"] = (\n",
    "    m1[\"route_length_routelines\"] / m1[\"route_length_longest_line\"]\n",
    ") * 100"
   ]
  },
  {
   "cell_type": "code",
   "execution_count": 55,
   "id": "ed3b273c-e797-42ed-b6e4-ee1e12fc5bce",
   "metadata": {},
   "outputs": [],
   "source": [
    "# m1.drop(columns = ['geometry_routelines','geometry_longest_line']).head(100)"
   ]
  },
  {
   "cell_type": "code",
   "execution_count": 56,
   "id": "c45b087a-7538-4ac2-a420-b966116bac6f",
   "metadata": {},
   "outputs": [
    {
     "data": {
      "text/plain": [
       "count   5150.00\n",
       "mean      32.88\n",
       "std       32.66\n",
       "min        1.06\n",
       "25%       12.62\n",
       "50%       23.43\n",
       "75%       41.06\n",
       "max      657.58\n",
       "Name: proportion_route_length, dtype: float64"
      ]
     },
     "execution_count": 56,
     "metadata": {},
     "output_type": "execute_result"
    }
   ],
   "source": [
    "m1.proportion_route_length.describe()"
   ]
  },
  {
   "cell_type": "markdown",
   "id": "319681c5-9f85-4e85-83ac-1b211d6d0189",
   "metadata": {},
   "source": [
    "### Task 2\n",
    "* Testing with 148 Kings County Area Public Transit Agency\n",
    "* Calculate time of trips?\n",
    "\n",
    "\n",
    "Questions \n",
    "* How to define short trips - between segments? Or the entire trip as a whole? \n",
    "    * If trip as a whole, then just subtract the last segment minus 0?\n",
    "* Are we trying to exclude short trips?"
   ]
  },
  {
   "cell_type": "code",
   "execution_count": 171,
   "id": "6c6fba48-8462-43de-86ef-a382badb728d",
   "metadata": {},
   "outputs": [
    {
     "data": {
      "text/plain": [
       "22692"
      ]
     },
     "execution_count": 171,
     "metadata": {},
     "output_type": "execute_result"
    }
   ],
   "source": [
    "len(segment_148)"
   ]
  },
  {
   "cell_type": "code",
   "execution_count": 172,
   "id": "24aef2a0-ef40-495b-b589-dfa13c69d9e9",
   "metadata": {},
   "outputs": [],
   "source": [
    "segment_148_min = (\n",
    "    segment_148.groupby([\"calitp_itp_id\", \"trip_id\", \"route_dir_identifier\",])\n",
    "    .agg({\"vehicle_timestamp\": \"min\"})\n",
    "    .rename(columns={\"vehicle_timestamp\": \"min_time\"})\n",
    "    .reset_index()\n",
    ")"
   ]
  },
  {
   "cell_type": "code",
   "execution_count": 174,
   "id": "f18faacb-c51a-492c-a291-ec0f30985427",
   "metadata": {},
   "outputs": [],
   "source": [
    "segment_148_max = (\n",
    "    segment_148.groupby([\"calitp_itp_id\", \"trip_id\", \"route_dir_identifier\",])\n",
    "    .agg({\"vehicle_timestamp\": \"max\"})\n",
    "    .rename(columns={\"vehicle_timestamp\": \"max_time\"})\n",
    "    .reset_index()\n",
    ")"
   ]
  },
  {
   "cell_type": "code",
   "execution_count": 175,
   "id": "2369716d-111b-4058-abed-bd0b00376616",
   "metadata": {},
   "outputs": [],
   "source": [
    "segment_148_m = segment_148_max.merge(\n",
    "    segment_148_min,\n",
    "    how=\"inner\",\n",
    "    on=[\"calitp_itp_id\", \"trip_id\", \"route_dir_identifier\"],\n",
    ")"
   ]
  },
  {
   "cell_type": "code",
   "execution_count": 176,
   "id": "6850b018-2841-4217-8a51-22cac1408d18",
   "metadata": {},
   "outputs": [],
   "source": [
    "# https://stackoverflow.com/questions/51491724/calculate-difference-of-2-dates-in-minutes-in-pandas\n",
    "segment_148_m['minutes_elapsed'] = (segment_148_m.max_time - segment_148_m.min_time).dt.total_seconds() / 60"
   ]
  },
  {
   "cell_type": "code",
   "execution_count": 177,
   "id": "efbcdf22-5180-4785-ac55-98cef017ca57",
   "metadata": {},
   "outputs": [
    {
     "data": {
      "text/plain": [
       "count   232.00\n",
       "mean     40.54\n",
       "std      27.08\n",
       "min      21.00\n",
       "25%      28.48\n",
       "50%      30.00\n",
       "75%      32.50\n",
       "max     189.50\n",
       "Name: minutes_elapsed, dtype: float64"
      ]
     },
     "execution_count": 177,
     "metadata": {},
     "output_type": "execute_result"
    }
   ],
   "source": [
    "segment_148_m.minutes_elapsed.describe()"
   ]
  },
  {
   "cell_type": "code",
   "execution_count": 178,
   "id": "da0d8537-e3cc-4b0b-811d-b6a14060a146",
   "metadata": {},
   "outputs": [
    {
     "data": {
      "text/plain": [
       "14"
      ]
     },
     "execution_count": 178,
     "metadata": {},
     "output_type": "execute_result"
    }
   ],
   "source": [
    "segment_148_m.route_dir_identifier.nunique()"
   ]
  },
  {
   "cell_type": "code",
   "execution_count": 179,
   "id": "8ade213b-1658-4473-83d6-8c43b9bf288d",
   "metadata": {},
   "outputs": [
    {
     "data": {
      "text/plain": [
       "count   232.00\n",
       "mean     40.54\n",
       "std      27.08\n",
       "min      21.00\n",
       "25%      28.48\n",
       "50%      30.00\n",
       "75%      32.50\n",
       "max     189.50\n",
       "Name: minutes_elapsed, dtype: float64"
      ]
     },
     "execution_count": 179,
     "metadata": {},
     "output_type": "execute_result"
    }
   ],
   "source": [
    "segment_148_m.minutes_elapsed.describe()"
   ]
  },
  {
   "cell_type": "code",
   "execution_count": 180,
   "id": "a9cd40d5-9364-406f-acd5-cb9c0ca7ccba",
   "metadata": {},
   "outputs": [],
   "source": [
    "# Maybe anything below 25% percentile is a short trip to throw away\n",
    "p25 = segment_148_m.minutes_elapsed.quantile(0.25).astype(float)"
   ]
  },
  {
   "cell_type": "code",
   "execution_count": 181,
   "id": "4497bd74-7439-4723-b0fa-e7911e7981c1",
   "metadata": {},
   "outputs": [],
   "source": [
    "segment_148_filtered = (segment_148_m.loc[segment_148_m.minutes_elapsed > p25]).reset_index(drop = True)"
   ]
  },
  {
   "cell_type": "code",
   "execution_count": 182,
   "id": "419aae93-1c50-47b8-a426-76a5071eba28",
   "metadata": {},
   "outputs": [
    {
     "data": {
      "text/plain": [
       "'0.7327586206896551% of rows are left'"
      ]
     },
     "execution_count": 182,
     "metadata": {},
     "output_type": "execute_result"
    }
   ],
   "source": [
    "f\"{len(segment_148_filtered)/len(segment_148_m)}% of rows are left\""
   ]
  },
  {
   "cell_type": "code",
   "execution_count": 185,
   "id": "fdb13f5e-9a89-41d5-9f57-80db07f241cb",
   "metadata": {
    "scrolled": true,
    "tags": []
   },
   "outputs": [
    {
     "data": {
      "text/html": [
       "<div>\n",
       "<style scoped>\n",
       "    .dataframe tbody tr th:only-of-type {\n",
       "        vertical-align: middle;\n",
       "    }\n",
       "\n",
       "    .dataframe tbody tr th {\n",
       "        vertical-align: top;\n",
       "    }\n",
       "\n",
       "    .dataframe thead th {\n",
       "        text-align: right;\n",
       "    }\n",
       "</style>\n",
       "<table border=\"1\" class=\"dataframe\">\n",
       "  <thead>\n",
       "    <tr style=\"text-align: right;\">\n",
       "      <th></th>\n",
       "      <th>calitp_itp_id</th>\n",
       "      <th>trip_id</th>\n",
       "      <th>route_dir_identifier</th>\n",
       "      <th>max_time</th>\n",
       "      <th>min_time</th>\n",
       "      <th>minutes_elapsed</th>\n",
       "    </tr>\n",
       "  </thead>\n",
       "  <tbody>\n",
       "    <tr>\n",
       "      <th>0</th>\n",
       "      <td>148</td>\n",
       "      <td>100</td>\n",
       "      <td>4023814891</td>\n",
       "      <td>2022-10-12 18:57:26</td>\n",
       "      <td>2022-10-12 18:26:26</td>\n",
       "      <td>31.00</td>\n",
       "    </tr>\n",
       "    <tr>\n",
       "      <th>1</th>\n",
       "      <td>148</td>\n",
       "      <td>102</td>\n",
       "      <td>4023814891</td>\n",
       "      <td>2022-10-12 19:55:26</td>\n",
       "      <td>2022-10-12 19:23:56</td>\n",
       "      <td>31.50</td>\n",
       "    </tr>\n",
       "    <tr>\n",
       "      <th>2</th>\n",
       "      <td>148</td>\n",
       "      <td>104</td>\n",
       "      <td>3304839464</td>\n",
       "      <td>2022-10-12 07:39:17</td>\n",
       "      <td>2022-10-12 07:09:16</td>\n",
       "      <td>30.02</td>\n",
       "    </tr>\n",
       "    <tr>\n",
       "      <th>3</th>\n",
       "      <td>148</td>\n",
       "      <td>105</td>\n",
       "      <td>3304839464</td>\n",
       "      <td>2022-10-12 08:09:17</td>\n",
       "      <td>2022-10-12 07:39:47</td>\n",
       "      <td>29.50</td>\n",
       "    </tr>\n",
       "    <tr>\n",
       "      <th>4</th>\n",
       "      <td>148</td>\n",
       "      <td>106</td>\n",
       "      <td>3304839464</td>\n",
       "      <td>2022-10-12 08:41:17</td>\n",
       "      <td>2022-10-12 08:09:47</td>\n",
       "      <td>31.50</td>\n",
       "    </tr>\n",
       "  </tbody>\n",
       "</table>\n",
       "</div>"
      ],
      "text/plain": [
       "   calitp_itp_id trip_id  route_dir_identifier            max_time  \\\n",
       "0            148     100            4023814891 2022-10-12 18:57:26   \n",
       "1            148     102            4023814891 2022-10-12 19:55:26   \n",
       "2            148     104            3304839464 2022-10-12 07:39:17   \n",
       "3            148     105            3304839464 2022-10-12 08:09:17   \n",
       "4            148     106            3304839464 2022-10-12 08:41:17   \n",
       "\n",
       "             min_time  minutes_elapsed  \n",
       "0 2022-10-12 18:26:26            31.00  \n",
       "1 2022-10-12 19:23:56            31.50  \n",
       "2 2022-10-12 07:09:16            30.02  \n",
       "3 2022-10-12 07:39:47            29.50  \n",
       "4 2022-10-12 08:09:47            31.50  "
      ]
     },
     "execution_count": 185,
     "metadata": {},
     "output_type": "execute_result"
    }
   ],
   "source": [
    "segment_148_filtered.head()"
   ]
  },
  {
   "cell_type": "markdown",
   "id": "ca45c1d2-fc5a-46f2-b7ed-029d67bc8af6",
   "metadata": {},
   "source": [
    "### Questions \n",
    "* For each operator, what's the % of RT trip_ids that would remain after those thresholds are used? Make a chart function that takes a single operator. Produce charts for all operators. Is the time or geographic coverage that's driving this excluding of trips? What is a recommended threshold to use?\n",
    "* For short trips, do they tend to be 50% of the longest route length? 40% 30%? Have this handy to inform question 1.\n"
   ]
  }
 ],
 "metadata": {
  "kernelspec": {
   "display_name": "Python 3 (ipykernel)",
   "language": "python",
   "name": "python3"
  },
  "language_info": {
   "codemirror_mode": {
    "name": "ipython",
    "version": 3
   },
   "file_extension": ".py",
   "mimetype": "text/x-python",
   "name": "python",
   "nbconvert_exporter": "python",
   "pygments_lexer": "ipython3",
   "version": "3.9.13"
  }
 },
 "nbformat": 4,
 "nbformat_minor": 5
}
