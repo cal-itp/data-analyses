{
 "cells": [
  {
   "cell_type": "markdown",
   "id": "503781ab-a3cb-4092-ab73-ea76ffd696c3",
   "metadata": {},
   "source": [
    "## RT trip diagnostics: thresholds for usable trips \n",
    "### Other Questions\n",
    "* Should thresholds be on the operator or the operator-route ID level?\n",
    "* How to figure out whether a segment is acceptable or not?\n",
    "* Is the `proportion_route_length` tied with usable segments?"
   ]
  },
  {
   "cell_type": "code",
   "execution_count": 76,
   "id": "1faeb7ff-1ebc-4ced-afb0-c813f863d3d8",
   "metadata": {},
   "outputs": [],
   "source": [
    "# Charts\n",
    "import altair as alt\n",
    "import dask.dataframe as dd\n",
    "import dask_geopandas as dg\n",
    "import geopandas as gpd\n",
    "import pandas as pd\n",
    "from calitp.sql import to_snakecase\n",
    "from shared_utils import calitp_color_palette as cp\n",
    "from shared_utils import geography_utils, styleguide, utils"
   ]
  },
  {
   "cell_type": "code",
   "execution_count": 77,
   "id": "9f13f204-138e-4b10-94a8-ead22461dad0",
   "metadata": {},
   "outputs": [],
   "source": [
    "# Save files to GCS\n",
    "from calitp.storage import get_fs\n",
    "fs = get_fs()"
   ]
  },
  {
   "cell_type": "code",
   "execution_count": 78,
   "id": "35a36bc4-4f66-4285-8025-a5eaccc3a266",
   "metadata": {},
   "outputs": [],
   "source": [
    "# Record start and end time\n",
    "import datetime\n",
    "from loguru import logger"
   ]
  },
  {
   "cell_type": "code",
   "execution_count": 79,
   "id": "f6233726-eb99-4f7e-9a90-842872f36ed7",
   "metadata": {},
   "outputs": [],
   "source": [
    "pd.options.display.max_columns = 100\n",
    "pd.options.display.float_format = \"{:.2f}\".format\n",
    "pd.set_option(\"display.max_rows\", None)\n",
    "pd.set_option(\"display.max_colwidth\", None)"
   ]
  },
  {
   "cell_type": "markdown",
   "id": "b26bf5e4-5ced-43dd-b792-12fa0e2376c0",
   "metadata": {},
   "source": [
    "### Load Files"
   ]
  },
  {
   "cell_type": "code",
   "execution_count": 80,
   "id": "2f333522-803a-4b60-b4af-b2edd0a274df",
   "metadata": {},
   "outputs": [],
   "source": [
    "GCS_DASK_PATH = \"gs://calitp-analytics-data/data-analyses/dask_test/\"\n",
    "GCS_RT_PATH = \"gs://calitp-analytics-data/data-analyses/rt_delay/\""
   ]
  },
  {
   "cell_type": "code",
   "execution_count": 81,
   "id": "cdd7ae15-7777-4c40-94be-f441f68f9b6a",
   "metadata": {},
   "outputs": [],
   "source": [
    "analysis_date = \"2022-10-12\""
   ]
  },
  {
   "cell_type": "code",
   "execution_count": 82,
   "id": "adf9ac8a-43e9-4a1c-b27c-fd3e1f247fc5",
   "metadata": {},
   "outputs": [],
   "source": [
    "# Tells me actual route length for each shape id.\n",
    "routelines = gpd.read_parquet(\n",
    "    f\"{GCS_RT_PATH}compiled_cached_views/routelines_{analysis_date}.parquet\"\n",
    ")"
   ]
  },
  {
   "cell_type": "code",
   "execution_count": 83,
   "id": "901cc048-6ab1-4efd-9a30-9eafd17ba217",
   "metadata": {},
   "outputs": [],
   "source": [
    "# len(routelines), routelines.shape_id.nunique()"
   ]
  },
  {
   "cell_type": "code",
   "execution_count": 84,
   "id": "71bf8792-7290-4d1f-b8ab-01e1a5ecefbb",
   "metadata": {},
   "outputs": [],
   "source": [
    "# RT data Read in Trips\n",
    "# Gives me trips ran for a particular day across all oeprators.\n",
    "trips = pd.read_parquet(\n",
    "    f\"{GCS_RT_PATH}compiled_cached_views/trips_{analysis_date}.parquet\"\n",
    ")"
   ]
  },
  {
   "cell_type": "code",
   "execution_count": 85,
   "id": "2ac62fbb-d527-41fc-8c7c-06f0def4765d",
   "metadata": {},
   "outputs": [],
   "source": [
    "# len(trips)"
   ]
  },
  {
   "cell_type": "code",
   "execution_count": 86,
   "id": "1b40dfcd-7a35-4780-9fff-d64fae60a97b",
   "metadata": {},
   "outputs": [],
   "source": [
    "# Read in longest_shape of each route\n",
    "# Schedule data, source of truth.\n",
    "longest_shape = gpd.read_parquet(f\"{GCS_DASK_PATH}longest_shape_segments.parquet\")"
   ]
  },
  {
   "cell_type": "code",
   "execution_count": 87,
   "id": "01705ac8-aa58-4076-b6eb-0f2657a80e46",
   "metadata": {
    "tags": []
   },
   "outputs": [],
   "source": [
    "# longest_shape.groupby(['calitp_itp_id','route_id','longest_shape_id']).agg({'segment_sequence':'nunique'}).head()"
   ]
  },
  {
   "cell_type": "code",
   "execution_count": 88,
   "id": "9db30746-9af9-473f-b068-443bd3623b3a",
   "metadata": {
    "tags": []
   },
   "outputs": [],
   "source": [
    "# longest_shape.sort_values(['calitp_itp_id', 'route_id']).head(25).drop(columns=[\"geometry\", \"geometry_arrowized\"])"
   ]
  },
  {
   "cell_type": "code",
   "execution_count": 89,
   "id": "287990c4-5e89-4247-8827-dd07aebed17b",
   "metadata": {},
   "outputs": [],
   "source": [
    "crosswalk = pd.read_parquet(\n",
    "    f\"{GCS_DASK_PATH}segments_route_direction_crosswalk.parquet\"\n",
    ")"
   ]
  },
  {
   "cell_type": "code",
   "execution_count": 90,
   "id": "7ddaf111-2652-4162-85fc-bd4e884bfb48",
   "metadata": {},
   "outputs": [],
   "source": [
    "# Use pandas.read_parquet/read_feather() instead.\n",
    "operator_4 = pd.read_parquet(\n",
    "    f\"{GCS_DASK_PATH}vp_sjoin/vp_segment_4_{analysis_date}.parquet\"\n",
    ")"
   ]
  },
  {
   "cell_type": "markdown",
   "id": "30ea0f95-de9d-4b1e-92bd-95111ba0e2d7",
   "metadata": {
    "tags": []
   },
   "source": [
    "### Task 1\n",
    "* Using GTFS schedule data, by route_id-shape_id, calculate the route_length of each shape_id as a proportion of the longest shape_id. \n",
    "* For <b>each route_id</b>, what's the shortest shape_id length, in proportion to the longest shape_id's length. if it's 100%, then all shape_ids are equal length for that route. if it's 50%, there's a short trip that exists that only runs 50% of the length and turns around.\n",
    "\n",
    "<b>How</b>\n",
    "* Need table `trips` from compile cached views -> shape ID and route ID and direction ID -> merge in segments crosswalk with route direction identifier \n",
    "* Shapes table -> attach route dir identifier\n",
    "* Merge in longest shape line using  routes and direction take the fraction. "
   ]
  },
  {
   "cell_type": "markdown",
   "id": "af681217-dbf7-449e-987d-18f9617074c7",
   "metadata": {},
   "source": [
    "#### Step 1. Merge `trips` with `crosswalk`\n",
    "##### Help: Why do we take away `trip_id` from `trips`? "
   ]
  },
  {
   "cell_type": "code",
   "execution_count": 91,
   "id": "6187daa4-8dc1-49e3-ac20-303fa358b301",
   "metadata": {},
   "outputs": [],
   "source": [
    "# Subset\n",
    "trips2 = trips[\n",
    "    [\n",
    "        \"calitp_itp_id\",\n",
    "        \"route_id\",\n",
    "        \"direction_id\",\n",
    "        \"shape_id\",\n",
    "    ]\n",
    "]"
   ]
  },
  {
   "cell_type": "code",
   "execution_count": 92,
   "id": "914b5817-1080-4f3f-a284-422fcb471f5a",
   "metadata": {},
   "outputs": [
    {
     "data": {
      "text/plain": [
       "(120136, 5150)"
      ]
     },
     "execution_count": 92,
     "metadata": {},
     "output_type": "execute_result"
    }
   ],
   "source": [
    "len(trips2), len(crosswalk)"
   ]
  },
  {
   "cell_type": "code",
   "execution_count": 93,
   "id": "79547185-44d8-4b5c-a3b3-56d28f1bafd4",
   "metadata": {},
   "outputs": [
    {
     "data": {
      "text/html": [
       "<div>\n",
       "<style scoped>\n",
       "    .dataframe tbody tr th:only-of-type {\n",
       "        vertical-align: middle;\n",
       "    }\n",
       "\n",
       "    .dataframe tbody tr th {\n",
       "        vertical-align: top;\n",
       "    }\n",
       "\n",
       "    .dataframe thead th {\n",
       "        text-align: right;\n",
       "    }\n",
       "</style>\n",
       "<table border=\"1\" class=\"dataframe\">\n",
       "  <thead>\n",
       "    <tr style=\"text-align: right;\">\n",
       "      <th></th>\n",
       "      <th>calitp_itp_id</th>\n",
       "      <th>route_id</th>\n",
       "      <th>direction_id</th>\n",
       "      <th>shape_id</th>\n",
       "    </tr>\n",
       "  </thead>\n",
       "  <tbody>\n",
       "    <tr>\n",
       "      <th>0</th>\n",
       "      <td>4</td>\n",
       "      <td>U</td>\n",
       "      <td>1</td>\n",
       "      <td>shp-U-06</td>\n",
       "    </tr>\n",
       "    <tr>\n",
       "      <th>1</th>\n",
       "      <td>4</td>\n",
       "      <td>U</td>\n",
       "      <td>1</td>\n",
       "      <td>shp-U-06</td>\n",
       "    </tr>\n",
       "  </tbody>\n",
       "</table>\n",
       "</div>"
      ],
      "text/plain": [
       "   calitp_itp_id route_id direction_id  shape_id\n",
       "0              4        U            1  shp-U-06\n",
       "1              4        U            1  shp-U-06"
      ]
     },
     "execution_count": 93,
     "metadata": {},
     "output_type": "execute_result"
    }
   ],
   "source": [
    "trips2.head(2)"
   ]
  },
  {
   "cell_type": "code",
   "execution_count": 94,
   "id": "595fb91c-5c38-4573-a869-38d2d70d408d",
   "metadata": {},
   "outputs": [
    {
     "data": {
      "text/html": [
       "<div>\n",
       "<style scoped>\n",
       "    .dataframe tbody tr th:only-of-type {\n",
       "        vertical-align: middle;\n",
       "    }\n",
       "\n",
       "    .dataframe tbody tr th {\n",
       "        vertical-align: top;\n",
       "    }\n",
       "\n",
       "    .dataframe thead th {\n",
       "        text-align: right;\n",
       "    }\n",
       "</style>\n",
       "<table border=\"1\" class=\"dataframe\">\n",
       "  <thead>\n",
       "    <tr style=\"text-align: right;\">\n",
       "      <th></th>\n",
       "      <th>calitp_itp_id</th>\n",
       "      <th>route_id</th>\n",
       "      <th>direction_id</th>\n",
       "      <th>route_dir_identifier</th>\n",
       "    </tr>\n",
       "  </thead>\n",
       "  <tbody>\n",
       "    <tr>\n",
       "      <th>0</th>\n",
       "      <td>372</td>\n",
       "      <td>4ba918e5-58c0-4d4a-9f55-5cadb8564bff</td>\n",
       "      <td>0</td>\n",
       "      <td>255544</td>\n",
       "    </tr>\n",
       "    <tr>\n",
       "      <th>1</th>\n",
       "      <td>293</td>\n",
       "      <td>7</td>\n",
       "      <td>0</td>\n",
       "      <td>1269889</td>\n",
       "    </tr>\n",
       "  </tbody>\n",
       "</table>\n",
       "</div>"
      ],
      "text/plain": [
       "   calitp_itp_id                              route_id direction_id  \\\n",
       "0            372  4ba918e5-58c0-4d4a-9f55-5cadb8564bff            0   \n",
       "1            293                                     7            0   \n",
       "\n",
       "   route_dir_identifier  \n",
       "0                255544  \n",
       "1               1269889  "
      ]
     },
     "execution_count": 94,
     "metadata": {},
     "output_type": "execute_result"
    }
   ],
   "source": [
    "crosswalk.head(2)"
   ]
  },
  {
   "cell_type": "code",
   "execution_count": 95,
   "id": "5afd66c3-5ea4-45c0-9a8b-e97c89d05405",
   "metadata": {},
   "outputs": [],
   "source": [
    "trips2 = (trips2.drop_duplicates()).reset_index(drop=True)"
   ]
  },
  {
   "cell_type": "markdown",
   "id": "be2300e9-55fd-4ec4-94fb-17dfa07f5719",
   "metadata": {},
   "source": [
    "* 366 more values in `trips` than `crosswalk` even though `Cal ITP ID.nunique()` yields the same number."
   ]
  },
  {
   "cell_type": "code",
   "execution_count": 96,
   "id": "eab2de44-79e6-48ae-90e5-c41483f712e6",
   "metadata": {},
   "outputs": [
    {
     "data": {
      "text/plain": [
       "_merge    \n",
       "both          7833\n",
       "left_only      366\n",
       "right_only      74\n",
       "dtype: int64"
      ]
     },
     "execution_count": 96,
     "metadata": {},
     "output_type": "execute_result"
    }
   ],
   "source": [
    "trips2.merge(\n",
    "    crosswalk,\n",
    "    how=\"outer\",\n",
    "    on=[\"calitp_itp_id\", \"route_id\", \"direction_id\"],\n",
    "    indicator=True,\n",
    ")[[\"_merge\"]].value_counts()"
   ]
  },
  {
   "cell_type": "code",
   "execution_count": 97,
   "id": "1849e6aa-0008-456c-885f-3018ad3581fc",
   "metadata": {},
   "outputs": [],
   "source": [
    "trips_m_crosswalk = trips2.merge(\n",
    "    crosswalk, how=\"inner\", on=[\"calitp_itp_id\", \"route_id\", \"direction_id\"]\n",
    ")"
   ]
  },
  {
   "cell_type": "code",
   "execution_count": 98,
   "id": "1672001c-a0da-4751-9f2a-f32c1601666c",
   "metadata": {},
   "outputs": [
    {
     "data": {
      "text/html": [
       "<div>\n",
       "<style scoped>\n",
       "    .dataframe tbody tr th:only-of-type {\n",
       "        vertical-align: middle;\n",
       "    }\n",
       "\n",
       "    .dataframe tbody tr th {\n",
       "        vertical-align: top;\n",
       "    }\n",
       "\n",
       "    .dataframe thead th {\n",
       "        text-align: right;\n",
       "    }\n",
       "</style>\n",
       "<table border=\"1\" class=\"dataframe\">\n",
       "  <thead>\n",
       "    <tr style=\"text-align: right;\">\n",
       "      <th></th>\n",
       "      <th>calitp_itp_id</th>\n",
       "      <th>route_id</th>\n",
       "      <th>direction_id</th>\n",
       "      <th>shape_id</th>\n",
       "      <th>route_dir_identifier</th>\n",
       "    </tr>\n",
       "  </thead>\n",
       "  <tbody>\n",
       "    <tr>\n",
       "      <th>0</th>\n",
       "      <td>4</td>\n",
       "      <td>U</td>\n",
       "      <td>1</td>\n",
       "      <td>shp-U-06</td>\n",
       "      <td>1244740981</td>\n",
       "    </tr>\n",
       "    <tr>\n",
       "      <th>1</th>\n",
       "      <td>4</td>\n",
       "      <td>U</td>\n",
       "      <td>0</td>\n",
       "      <td>shp-U-07</td>\n",
       "      <td>1026952675</td>\n",
       "    </tr>\n",
       "    <tr>\n",
       "      <th>2</th>\n",
       "      <td>4</td>\n",
       "      <td>212</td>\n",
       "      <td>1</td>\n",
       "      <td>shp-212-07</td>\n",
       "      <td>1369834141</td>\n",
       "    </tr>\n",
       "    <tr>\n",
       "      <th>3</th>\n",
       "      <td>4</td>\n",
       "      <td>212</td>\n",
       "      <td>0</td>\n",
       "      <td>shp-212-57</td>\n",
       "      <td>648098315</td>\n",
       "    </tr>\n",
       "    <tr>\n",
       "      <th>4</th>\n",
       "      <td>4</td>\n",
       "      <td>67</td>\n",
       "      <td>0</td>\n",
       "      <td>shp-67-57</td>\n",
       "      <td>3358964048</td>\n",
       "    </tr>\n",
       "  </tbody>\n",
       "</table>\n",
       "</div>"
      ],
      "text/plain": [
       "   calitp_itp_id route_id direction_id    shape_id  route_dir_identifier\n",
       "0              4        U            1    shp-U-06            1244740981\n",
       "1              4        U            0    shp-U-07            1026952675\n",
       "2              4      212            1  shp-212-07            1369834141\n",
       "3              4      212            0  shp-212-57             648098315\n",
       "4              4       67            0   shp-67-57            3358964048"
      ]
     },
     "execution_count": 98,
     "metadata": {},
     "output_type": "execute_result"
    }
   ],
   "source": [
    "trips_m_crosswalk.head()"
   ]
  },
  {
   "cell_type": "markdown",
   "id": "1ab233bc-9ebc-44de-842a-4e8a964b76a4",
   "metadata": {
    "tags": []
   },
   "source": [
    "#### Step 2. Shapes table -> attach route dir identifier \n",
    "* Drop duplicates in routelines b/c of `calitp_url_number`. "
   ]
  },
  {
   "cell_type": "code",
   "execution_count": 99,
   "id": "4ad11571-f463-4b2a-8ae8-951ae3b5ca0a",
   "metadata": {},
   "outputs": [
    {
     "data": {
      "text/plain": [
       "True"
      ]
     },
     "execution_count": 99,
     "metadata": {},
     "output_type": "execute_result"
    }
   ],
   "source": [
    "routelines.crs == longest_shape.crs"
   ]
  },
  {
   "cell_type": "code",
   "execution_count": 139,
   "id": "8244ff55-f469-4198-8e71-b6a7e0ebee53",
   "metadata": {},
   "outputs": [
    {
     "data": {
      "text/plain": [
       "<Derived Projected CRS: EPSG:3310>\n",
       "Name: NAD83 / California Albers\n",
       "Axis Info [cartesian]:\n",
       "- X[east]: Easting (metre)\n",
       "- Y[north]: Northing (metre)\n",
       "Area of Use:\n",
       "- name: United States (USA) - California.\n",
       "- bounds: (-124.45, 32.53, -114.12, 42.01)\n",
       "Coordinate Operation:\n",
       "- name: California Albers\n",
       "- method: Albers Equal Area\n",
       "Datum: North American Datum 1983\n",
       "- Ellipsoid: GRS 1980\n",
       "- Prime Meridian: Greenwich"
      ]
     },
     "execution_count": 139,
     "metadata": {},
     "output_type": "execute_result"
    }
   ],
   "source": [
    "routelines.crs"
   ]
  },
  {
   "cell_type": "code",
   "execution_count": 100,
   "id": "d1b829d0-8ae3-47f7-af61-ae4cc7cf4942",
   "metadata": {},
   "outputs": [],
   "source": [
    "# Drop CalITP since it's no longer needed\n",
    "routelines = routelines.drop(columns=[\"calitp_url_number\"])"
   ]
  },
  {
   "cell_type": "code",
   "execution_count": 101,
   "id": "1f22f7ff-1720-48aa-aca1-d09d36d9c238",
   "metadata": {},
   "outputs": [],
   "source": [
    "routelines = (routelines.drop_duplicates()).reset_index(drop=True)"
   ]
  },
  {
   "cell_type": "code",
   "execution_count": 102,
   "id": "5ceb40bd-94c1-43d6-ad84-e3d894653c75",
   "metadata": {},
   "outputs": [
    {
     "data": {
      "text/plain": [
       "8133"
      ]
     },
     "execution_count": 102,
     "metadata": {},
     "output_type": "execute_result"
    }
   ],
   "source": [
    "len(routelines)"
   ]
  },
  {
   "cell_type": "code",
   "execution_count": 103,
   "id": "40da8022-21d9-49f1-9515-edf8a5a63537",
   "metadata": {},
   "outputs": [],
   "source": [
    "# Calculate length of geometry\n",
    "routelines = routelines.assign(\n",
    "    actual_route_length=(\n",
    "        routelines.geometry.to_crs(geography_utils.CA_NAD83Albers).length\n",
    "    )\n",
    ")"
   ]
  },
  {
   "cell_type": "code",
   "execution_count": 106,
   "id": "d2b7fffa-a8c2-4303-95a5-5b4887db9e0d",
   "metadata": {},
   "outputs": [
    {
     "data": {
      "text/plain": [
       "_merge    \n",
       "both          8529\n",
       "left_only      363\n",
       "right_only       0\n",
       "dtype: int64"
      ]
     },
     "execution_count": 106,
     "metadata": {},
     "output_type": "execute_result"
    }
   ],
   "source": [
    "routelines.merge(\n",
    "    trips_m_crosswalk, how=\"outer\", on=[\"calitp_itp_id\", \"shape_id\"], indicator=True\n",
    ")[[\"_merge\"]].value_counts()"
   ]
  },
  {
   "cell_type": "code",
   "execution_count": 107,
   "id": "5b527f4e-dca0-48c0-8bff-9c8860f511e8",
   "metadata": {},
   "outputs": [],
   "source": [
    "routelines_m_trips = routelines.merge(\n",
    "    trips_m_crosswalk,\n",
    "    how=\"inner\",\n",
    "    on=[\"calitp_itp_id\", \"shape_id\"],\n",
    ")"
   ]
  },
  {
   "cell_type": "code",
   "execution_count": 108,
   "id": "01b1e289-ee9d-4282-8a20-0d9ddc82c4e1",
   "metadata": {},
   "outputs": [
    {
     "data": {
      "text/plain": [
       "(8529, 7833, 8133)"
      ]
     },
     "execution_count": 108,
     "metadata": {},
     "output_type": "execute_result"
    }
   ],
   "source": [
    "len(routelines_m_trips), len(trips_m_crosswalk), len(routelines)"
   ]
  },
  {
   "cell_type": "code",
   "execution_count": 109,
   "id": "6922728a-3c6a-4e4b-b6df-e3f6ae2275ab",
   "metadata": {
    "tags": []
   },
   "outputs": [
    {
     "data": {
      "text/html": [
       "<div>\n",
       "<style scoped>\n",
       "    .dataframe tbody tr th:only-of-type {\n",
       "        vertical-align: middle;\n",
       "    }\n",
       "\n",
       "    .dataframe tbody tr th {\n",
       "        vertical-align: top;\n",
       "    }\n",
       "\n",
       "    .dataframe thead th {\n",
       "        text-align: right;\n",
       "    }\n",
       "</style>\n",
       "<table border=\"1\" class=\"dataframe\">\n",
       "  <thead>\n",
       "    <tr style=\"text-align: right;\">\n",
       "      <th></th>\n",
       "      <th>calitp_itp_id</th>\n",
       "      <th>shape_id</th>\n",
       "      <th>actual_route_length</th>\n",
       "      <th>route_id</th>\n",
       "      <th>direction_id</th>\n",
       "      <th>route_dir_identifier</th>\n",
       "    </tr>\n",
       "  </thead>\n",
       "  <tbody>\n",
       "    <tr>\n",
       "      <th>1</th>\n",
       "      <td>4</td>\n",
       "      <td>shp-U-07</td>\n",
       "      <td>34049.63</td>\n",
       "      <td>U</td>\n",
       "      <td>0</td>\n",
       "      <td>1026952675</td>\n",
       "    </tr>\n",
       "    <tr>\n",
       "      <th>111</th>\n",
       "      <td>4</td>\n",
       "      <td>shp-U-06</td>\n",
       "      <td>34070.90</td>\n",
       "      <td>U</td>\n",
       "      <td>1</td>\n",
       "      <td>1244740981</td>\n",
       "    </tr>\n",
       "  </tbody>\n",
       "</table>\n",
       "</div>"
      ],
      "text/plain": [
       "     calitp_itp_id  shape_id  actual_route_length route_id direction_id  \\\n",
       "1                4  shp-U-07             34049.63        U            0   \n",
       "111              4  shp-U-06             34070.90        U            1   \n",
       "\n",
       "     route_dir_identifier  \n",
       "1              1026952675  \n",
       "111            1244740981  "
      ]
     },
     "execution_count": 109,
     "metadata": {},
     "output_type": "execute_result"
    }
   ],
   "source": [
    "routelines_m_trips.loc[routelines_m_trips.route_id == \"U\"].drop(columns=[\"geometry\"])"
   ]
  },
  {
   "cell_type": "markdown",
   "id": "73bec028-a8b9-4967-80a1-7970155d3f12",
   "metadata": {},
   "source": [
    "#### Step 3. Merge in longest shape line on routes and direction.\n",
    "* Which geometry to keep?"
   ]
  },
  {
   "cell_type": "code",
   "execution_count": 122,
   "id": "255163a6-3dc6-422d-a332-05471e283c98",
   "metadata": {},
   "outputs": [],
   "source": [
    "longest_shape = longest_shape.rename(columns={\"route_length\": \"longest_route_length\"})"
   ]
  },
  {
   "cell_type": "code",
   "execution_count": 121,
   "id": "31581ef0-56a5-4c51-b24b-3d5abe9074af",
   "metadata": {},
   "outputs": [],
   "source": [
    "#route_u.explore(\"segment_sequence\", cmap = \"tab10\",\n",
    "#                style_kwds = {'weight': 10}, legend = False, height = 400, width = 800)"
   ]
  },
  {
   "cell_type": "code",
   "execution_count": 125,
   "id": "2f5fe764-b2a2-4774-ad3f-7bad94f712d9",
   "metadata": {},
   "outputs": [],
   "source": [
    "routelines_final = routelines_m_trips.merge(\n",
    "    longest_shape,\n",
    "    how=\"inner\",\n",
    "    on=[\"calitp_itp_id\", \"direction_id\", \"route_id\", \"route_dir_identifier\"],\n",
    ")"
   ]
  },
  {
   "cell_type": "code",
   "execution_count": 135,
   "id": "3e28ed5a-4acf-4335-9659-3530813ad795",
   "metadata": {},
   "outputs": [],
   "source": [
    "# Calculate out proportion of route length against longest.\n",
    "routelines_final[\"proportion_route_length\"] = ((\n",
    "    routelines_final[\"actual_route_length\"] / routelines_final[\"longest_route_length\"]\n",
    ") * 100).astype(int)"
   ]
  },
  {
   "cell_type": "code",
   "execution_count": 141,
   "id": "c45b087a-7538-4ac2-a420-b966116bac6f",
   "metadata": {
    "tags": []
   },
   "outputs": [
    {
     "data": {
      "text/plain": [
       "31835"
      ]
     },
     "execution_count": 141,
     "metadata": {},
     "output_type": "execute_result"
    }
   ],
   "source": [
    "len(routelines_final.loc[routelines_final.proportion_route_length > 100])"
   ]
  },
  {
   "cell_type": "code",
   "execution_count": 138,
   "id": "9cdb138f-fd18-4b12-9388-68729d78708a",
   "metadata": {},
   "outputs": [],
   "source": [
    "# routelines_final.proportion_route_length.value_counts()"
   ]
  },
  {
   "cell_type": "code",
   "execution_count": 132,
   "id": "19714a62-565d-43c7-af3d-0b82e243239c",
   "metadata": {},
   "outputs": [
    {
     "data": {
      "text/html": [
       "<div>\n",
       "<style scoped>\n",
       "    .dataframe tbody tr th:only-of-type {\n",
       "        vertical-align: middle;\n",
       "    }\n",
       "\n",
       "    .dataframe tbody tr th {\n",
       "        vertical-align: top;\n",
       "    }\n",
       "\n",
       "    .dataframe thead th {\n",
       "        text-align: right;\n",
       "    }\n",
       "</style>\n",
       "<table border=\"1\" class=\"dataframe\">\n",
       "  <thead>\n",
       "    <tr style=\"text-align: right;\">\n",
       "      <th></th>\n",
       "      <th>calitp_itp_id</th>\n",
       "      <th>shape_id</th>\n",
       "      <th>actual_route_length</th>\n",
       "      <th>route_id</th>\n",
       "      <th>direction_id</th>\n",
       "      <th>route_dir_identifier</th>\n",
       "      <th>calitp_url_number</th>\n",
       "      <th>longest_shape_id</th>\n",
       "      <th>longest_route_length</th>\n",
       "      <th>segment_sequence</th>\n",
       "      <th>proportion_route_length</th>\n",
       "    </tr>\n",
       "  </thead>\n",
       "  <tbody>\n",
       "    <tr>\n",
       "      <th>2170</th>\n",
       "      <td>4</td>\n",
       "      <td>shp-U-06</td>\n",
       "      <td>34070.90</td>\n",
       "      <td>U</td>\n",
       "      <td>1</td>\n",
       "      <td>1244740981</td>\n",
       "      <td>0</td>\n",
       "      <td>shp-U-06</td>\n",
       "      <td>34070.90</td>\n",
       "      <td>0</td>\n",
       "      <td>100.00</td>\n",
       "    </tr>\n",
       "    <tr>\n",
       "      <th>2171</th>\n",
       "      <td>4</td>\n",
       "      <td>shp-U-06</td>\n",
       "      <td>34070.90</td>\n",
       "      <td>U</td>\n",
       "      <td>1</td>\n",
       "      <td>1244740981</td>\n",
       "      <td>0</td>\n",
       "      <td>shp-U-06</td>\n",
       "      <td>34070.90</td>\n",
       "      <td>1</td>\n",
       "      <td>100.00</td>\n",
       "    </tr>\n",
       "    <tr>\n",
       "      <th>2172</th>\n",
       "      <td>4</td>\n",
       "      <td>shp-U-06</td>\n",
       "      <td>34070.90</td>\n",
       "      <td>U</td>\n",
       "      <td>1</td>\n",
       "      <td>1244740981</td>\n",
       "      <td>0</td>\n",
       "      <td>shp-U-06</td>\n",
       "      <td>34070.90</td>\n",
       "      <td>2</td>\n",
       "      <td>100.00</td>\n",
       "    </tr>\n",
       "    <tr>\n",
       "      <th>2173</th>\n",
       "      <td>4</td>\n",
       "      <td>shp-U-06</td>\n",
       "      <td>34070.90</td>\n",
       "      <td>U</td>\n",
       "      <td>1</td>\n",
       "      <td>1244740981</td>\n",
       "      <td>0</td>\n",
       "      <td>shp-U-06</td>\n",
       "      <td>34070.90</td>\n",
       "      <td>3</td>\n",
       "      <td>100.00</td>\n",
       "    </tr>\n",
       "    <tr>\n",
       "      <th>2174</th>\n",
       "      <td>4</td>\n",
       "      <td>shp-U-06</td>\n",
       "      <td>34070.90</td>\n",
       "      <td>U</td>\n",
       "      <td>1</td>\n",
       "      <td>1244740981</td>\n",
       "      <td>0</td>\n",
       "      <td>shp-U-06</td>\n",
       "      <td>34070.90</td>\n",
       "      <td>4</td>\n",
       "      <td>100.00</td>\n",
       "    </tr>\n",
       "  </tbody>\n",
       "</table>\n",
       "</div>"
      ],
      "text/plain": [
       "      calitp_itp_id  shape_id  actual_route_length route_id direction_id  \\\n",
       "2170              4  shp-U-06             34070.90        U            1   \n",
       "2171              4  shp-U-06             34070.90        U            1   \n",
       "2172              4  shp-U-06             34070.90        U            1   \n",
       "2173              4  shp-U-06             34070.90        U            1   \n",
       "2174              4  shp-U-06             34070.90        U            1   \n",
       "\n",
       "      route_dir_identifier  calitp_url_number longest_shape_id  \\\n",
       "2170            1244740981                  0         shp-U-06   \n",
       "2171            1244740981                  0         shp-U-06   \n",
       "2172            1244740981                  0         shp-U-06   \n",
       "2173            1244740981                  0         shp-U-06   \n",
       "2174            1244740981                  0         shp-U-06   \n",
       "\n",
       "      longest_route_length segment_sequence  proportion_route_length  \n",
       "2170              34070.90                0                   100.00  \n",
       "2171              34070.90                1                   100.00  \n",
       "2172              34070.90                2                   100.00  \n",
       "2173              34070.90                3                   100.00  \n",
       "2174              34070.90                4                   100.00  "
      ]
     },
     "execution_count": 132,
     "metadata": {},
     "output_type": "execute_result"
    }
   ],
   "source": [
    "routelines_final.loc[routelines_final.route_dir_identifier == 1244740981].drop(\n",
    "    columns=[\"geometry_x\",\"geometry_y\",\"geometry_arrowized\"]\n",
    ").head()"
   ]
  },
  {
   "cell_type": "code",
   "execution_count": 133,
   "id": "0f24134f-7294-4905-98cd-05048ab605d1",
   "metadata": {},
   "outputs": [
    {
     "data": {
      "text/plain": [
       "(219200, 219200)"
      ]
     },
     "execution_count": 133,
     "metadata": {},
     "output_type": "execute_result"
    }
   ],
   "source": [
    "len(routelines_final), len(routelines_final.drop_duplicates())"
   ]
  },
  {
   "cell_type": "markdown",
   "id": "319681c5-9f85-4e85-83ac-1b211d6d0189",
   "metadata": {},
   "source": [
    "### Task 2\n",
    "* Testing with Agency 4. \n",
    "* Calculate time of trips?\n"
   ]
  },
  {
   "cell_type": "code",
   "execution_count": null,
   "id": "3c057b6d-9b02-4e02-8932-8af2c12f769d",
   "metadata": {},
   "outputs": [],
   "source": [
    "def find_operator_info(df):\n",
    "    df = df.sort_values([\"calitp_itp_id\", \"trip_id\", \"segment_sequence\"])\n",
    "\n",
    "    merge_cols = [\n",
    "        \"calitp_itp_id\",\n",
    "        \"trip_id\",\n",
    "        \"route_dir_identifier\",\n",
    "    ]\n",
    "\n",
    "    # Get start time.\n",
    "    start_time_trip = (\n",
    "        df.groupby(merge_cols)\n",
    "        .agg({\"vehicle_timestamp\": \"min\"})\n",
    "        .rename(columns={\"vehicle_timestamp\": \"start\"})\n",
    "        .reset_index()\n",
    "    )\n",
    "\n",
    "    # Get end time.\n",
    "    end_time_trip = (\n",
    "        df.groupby(merge_cols)\n",
    "        .agg({\"vehicle_timestamp\": \"max\"})\n",
    "        .rename(columns={\"vehicle_timestamp\": \"end\"})\n",
    "        .reset_index()\n",
    "    )\n",
    "\n",
    "    # Count number of segments.\n",
    "    segment_counts = (\n",
    "        df.groupby(merge_cols)\n",
    "        .agg({\"segment_sequence\": \"nunique\"})\n",
    "        .reset_index()\n",
    "        .rename(columns={\"segment_sequence\": \"number_of_segments\"})\n",
    "    )\n",
    "\n",
    "    # Merge\n",
    "    m1 = start_time_trip.merge(end_time_trip, how=\"inner\", on=merge_cols).merge(\n",
    "        segment_counts, how=\"left\", on=merge_cols\n",
    "    )\n",
    "\n",
    "    # Calculate time elapsed\n",
    "    # https://stackoverflow.com/questions/51491724/calculate-difference-of-2-dates-in-minutes-in-pandas\n",
    "    m1[\"minutes_elapsed\"] = (m1.end - m1.start).dt.total_seconds() / 60\n",
    "\n",
    "    return m1"
   ]
  },
  {
   "cell_type": "code",
   "execution_count": null,
   "id": "615b08ee-1bb5-4d29-ab05-8537c28096f5",
   "metadata": {},
   "outputs": [],
   "source": [
    "operator_4.head(2)"
   ]
  },
  {
   "cell_type": "code",
   "execution_count": null,
   "id": "3f035cc9-ac21-417f-8960-62f50c764bd6",
   "metadata": {},
   "outputs": [],
   "source": [
    "operator_4_metrics = find_operator_info(operator_4)"
   ]
  },
  {
   "cell_type": "code",
   "execution_count": null,
   "id": "7792ceef-ec71-441b-8b19-fc1a6c939415",
   "metadata": {},
   "outputs": [],
   "source": [
    "operator_4_metrics.head(2)"
   ]
  },
  {
   "cell_type": "code",
   "execution_count": null,
   "id": "2b56f8dc-01e2-4b03-b71d-3a76656cc646",
   "metadata": {},
   "outputs": [],
   "source": [
    "# Merge\n",
    "m2 = operator_4_metrics[\n",
    "    [\n",
    "        \"calitp_itp_id\",\n",
    "        \"trip_id\",\n",
    "        \"route_dir_identifier\",\n",
    "        \"number_of_segments\",\n",
    "        \"minutes_elapsed\",\n",
    "    ]\n",
    "].merge(\n",
    "    routelines_final,\n",
    "    how=\"inner\",\n",
    "    on=[\"calitp_itp_id\", \"route_dir_identifier\"],\n",
    ")"
   ]
  },
  {
   "cell_type": "code",
   "execution_count": null,
   "id": "a6ba150c-5451-4e6e-8380-c8a2b76d7ec3",
   "metadata": {},
   "outputs": [],
   "source": [
    "len(operator_4_metrics), len(m2)"
   ]
  },
  {
   "cell_type": "code",
   "execution_count": null,
   "id": "44f22bd6-f524-4c90-aa3e-d4e489d316a7",
   "metadata": {},
   "outputs": [],
   "source": [
    "# Drop some columns for now to check out\n",
    "m2 = m2.drop(columns=[\"geometry\", \"actual_route_length\", \"longest_route_length\"])"
   ]
  },
  {
   "cell_type": "code",
   "execution_count": null,
   "id": "b4b81857-fe11-4cc0-9270-ea5dc0af5f72",
   "metadata": {},
   "outputs": [],
   "source": [
    "# Find the total number of segments in the specific operator file\n",
    "# vs. what was recorded in `longest_shape`\n",
    "m2[\"segment_proportion\"] = ((m2.number_of_segments / m2.total_segments) * 100).astype(\n",
    "    \"int64\"\n",
    ")"
   ]
  },
  {
   "cell_type": "code",
   "execution_count": null,
   "id": "2d0cbbe9-3741-4d33-965b-3dee6d064835",
   "metadata": {},
   "outputs": [],
   "source": [
    "reorg_cols = [\n",
    "    \"calitp_itp_id\",\n",
    "    \"route_id\",\n",
    "    \"route_dir_identifier\",\n",
    "    \"direction_id\",\n",
    "    \"trip_id\",\n",
    "    \"shape_id\",\n",
    "    \"longest_shape_id\",\n",
    "    \"number_of_segments\",\n",
    "    \"total_segments\",\n",
    "    \"segment_proportion\",\n",
    "    \"proportion_route_length\",\n",
    "    \"minutes_elapsed\",\n",
    "]"
   ]
  },
  {
   "cell_type": "code",
   "execution_count": null,
   "id": "13697260-59c8-4da6-a4dc-fa0a20e49a28",
   "metadata": {},
   "outputs": [],
   "source": [
    "m2 = m2[reorg_cols]"
   ]
  },
  {
   "cell_type": "code",
   "execution_count": null,
   "id": "f5ebc9a8-37f2-4314-a3a1-6ae1d05d24f8",
   "metadata": {
    "tags": []
   },
   "outputs": [],
   "source": [
    "m2.sort_values([\"route_id\", \"shape_id\", \"minutes_elapsed\"]).tail(10)"
   ]
  },
  {
   "cell_type": "markdown",
   "id": "3a81f5c1-68ae-48de-ace3-73a74490063e",
   "metadata": {},
   "source": [
    "##### Help.  Why is for 1244740981 not yielding any results, even in the original dataframe?\n",
    "* 2 more route ids when filtering out the `routelines_final` df for ITP ID 4 compared with the `vp_sjoin/vp_segment_4`\n",
    "* Wondering why that is."
   ]
  },
  {
   "cell_type": "code",
   "execution_count": null,
   "id": "c98aeb4a-2374-4032-bed5-3fa2d28e06aa",
   "metadata": {},
   "outputs": [],
   "source": [
    "m2.loc[m2.route_id == \"U\"]"
   ]
  },
  {
   "cell_type": "code",
   "execution_count": null,
   "id": "d4ac4d75-b29d-436b-bb8d-d92638f9fec9",
   "metadata": {},
   "outputs": [],
   "source": [
    "operator_4.loc[operator_4.route_dir_identifier == 1244740981]"
   ]
  },
  {
   "cell_type": "code",
   "execution_count": null,
   "id": "c4882b64-c753-4d6c-857f-82b3625f44f8",
   "metadata": {
    "scrolled": true,
    "tags": []
   },
   "outputs": [],
   "source": [
    "# Can't find 1244740981 in this list.\n",
    "# operator_4.route_dir_identifier.unique().tolist()"
   ]
  },
  {
   "cell_type": "code",
   "execution_count": null,
   "id": "cc96cc89-3c0a-444d-b7a7-128c3da90030",
   "metadata": {},
   "outputs": [],
   "source": [
    "# Total route ids using longest_shape/trips/routelines.\n",
    "routelines_final.loc[routelines_final.calitp_itp_id == 4][[\"route_id\"]].nunique()"
   ]
  },
  {
   "cell_type": "code",
   "execution_count": null,
   "id": "73385a6a-71b8-46ad-a8f8-1ad1cb2d2d57",
   "metadata": {},
   "outputs": [],
   "source": [
    "m2.route_id.nunique()"
   ]
  },
  {
   "cell_type": "code",
   "execution_count": null,
   "id": "6100b941-6025-4a6c-a982-634392c40bee",
   "metadata": {
    "scrolled": true,
    "tags": []
   },
   "outputs": [],
   "source": [
    "merged_routeid = set(m2.route_id.unique().tolist())"
   ]
  },
  {
   "cell_type": "code",
   "execution_count": null,
   "id": "9b571d5d-0cba-4a67-addb-b37af57b23a2",
   "metadata": {
    "scrolled": true,
    "tags": []
   },
   "outputs": [],
   "source": [
    "routelines_routeid = set(routelines_final.route_id.unique().tolist())"
   ]
  },
  {
   "cell_type": "code",
   "execution_count": null,
   "id": "56efe490-a7e7-4c58-bdfb-ae97e130efb4",
   "metadata": {
    "tags": []
   },
   "outputs": [],
   "source": [
    "merged_routeid - routelines_routeid"
   ]
  },
  {
   "cell_type": "code",
   "execution_count": null,
   "id": "c065e394-fa4c-4ed1-b216-7148efd606c3",
   "metadata": {
    "scrolled": true,
    "tags": []
   },
   "outputs": [],
   "source": [
    "# routelines_routeid - merged_routeid"
   ]
  },
  {
   "cell_type": "markdown",
   "id": "26707fcb-68f7-4f5a-8b4c-8f7220d40900",
   "metadata": {},
   "source": [
    "### Ask\n",
    "Github\n",
    "* For each operator, what's the % of RT trip_ids that would remain after those thresholds are used? Make a chart function that takes a single operator. Produce charts for all operators. Is the time or geographic coverage that's driving this excluding of trips? What is a recommended threshold to use?\n",
    "* For short trips, do they tend to be 50% of the longest route length? 40% 30%? \n",
    "\n",
    "Meeting\n",
    "* Filter out for trips that provide useful information before attaching segments to it. \n",
    "* How many shape ID's for that route are usable? \n",
    "* What's the typical threshold of the actual length of the route versus the longest length we have on record?\n",
    "* Example: How many 10 minute unique trip IDs will remain and segments will remain after filtering ones that don't provide insights?\n",
    "* % of segments that actually show up reflects how much of a trip was recorded in GTFS. "
   ]
  },
  {
   "cell_type": "code",
   "execution_count": null,
   "id": "2589195f-c00a-464c-b066-90325d54a76b",
   "metadata": {},
   "outputs": [],
   "source": [
    "m2.proportion_route_length.describe()"
   ]
  },
  {
   "cell_type": "code",
   "execution_count": null,
   "id": "40e87845-6b6e-4e6c-8b16-0f4c9ff1745e",
   "metadata": {},
   "outputs": [],
   "source": [
    "m2.minutes_elapsed.describe()"
   ]
  },
  {
   "cell_type": "code",
   "execution_count": null,
   "id": "8037b58d-63a0-4894-bf7d-0e43415c2298",
   "metadata": {},
   "outputs": [],
   "source": [
    "p25_time = m2.minutes_elapsed.quantile(0.25).astype(int)\n",
    "p50_time = m2.minutes_elapsed.quantile(0.50).astype(int)\n",
    "p75_time = m2.minutes_elapsed.quantile(0.75).astype(int)"
   ]
  },
  {
   "cell_type": "code",
   "execution_count": null,
   "id": "8a39770b-ab03-4187-ac76-8a0adcdc9317",
   "metadata": {},
   "outputs": [],
   "source": [
    "p25_time, p50_time, p75_time"
   ]
  },
  {
   "cell_type": "code",
   "execution_count": null,
   "id": "6da4e978-6ec9-490a-9f02-d2b655fc9ecf",
   "metadata": {},
   "outputs": [],
   "source": [
    "def trip_duration(row):\n",
    "    if (row.minutes_elapsed > 0) and (row.minutes_elapsed <= p25_time):\n",
    "        return f\"Short Trip <= {p25_time} min\"\n",
    "    elif (row.minutes_elapsed > p25_time) and (row.minutes_elapsed <= p75_time):\n",
    "        return f\"Medium Trip <= {p75_time} min\"\n",
    "    else:\n",
    "        return f\"Long Trip > {p75_time} min\""
   ]
  },
  {
   "cell_type": "code",
   "execution_count": null,
   "id": "dbefc934-cc4c-4964-85a0-cf71357683f6",
   "metadata": {},
   "outputs": [],
   "source": [
    "m2[\"trip_duration_categories\"] = m2.apply(lambda x: trip_duration(x), axis=1)"
   ]
  },
  {
   "cell_type": "code",
   "execution_count": null,
   "id": "570d529d-0fe3-4905-9901-b8f97ce77364",
   "metadata": {},
   "outputs": [],
   "source": [
    "m2.trip_duration_categories.value_counts()"
   ]
  },
  {
   "cell_type": "code",
   "execution_count": null,
   "id": "feda1f87-f2b8-49f3-b624-45ccc26b7bb8",
   "metadata": {},
   "outputs": [],
   "source": [
    "for i in [p25_time, p50_time, p75_time]:\n",
    "    print(len(m2.loc[m2.minutes_elapsed >= i]))"
   ]
  },
  {
   "cell_type": "code",
   "execution_count": null,
   "id": "271ba605-3759-438d-ae48-7e35f9fff25a",
   "metadata": {},
   "outputs": [],
   "source": [
    "p25_length = m2.proportion_route_length.quantile(0.25).astype(int)\n",
    "p75_length = m2.proportion_route_length.quantile(0.75).astype(int)"
   ]
  },
  {
   "cell_type": "code",
   "execution_count": null,
   "id": "d7cd3873-77f0-4367-9172-3679669849ef",
   "metadata": {},
   "outputs": [],
   "source": [
    "p25_length, p75_length"
   ]
  },
  {
   "cell_type": "markdown",
   "id": "b5f16185-5bec-4153-8c84-b1922493ca55",
   "metadata": {},
   "source": [
    "* Flag what's usable\n",
    "* Need two aggregatiosn, one for trips that are usable, one for shape_ids."
   ]
  },
  {
   "cell_type": "code",
   "execution_count": null,
   "id": "56770e74-7b5b-4978-87a7-6e6234940f44",
   "metadata": {},
   "outputs": [],
   "source": [
    "def shape_id_comparison(row):\n",
    "    if (row.proportion_route_length > 0) and (\n",
    "        row.proportion_route_length <= p25_length\n",
    "    ):\n",
    "        return f\" <= {p25_length}%\"\n",
    "    elif (row.proportion_route_length > p25_length) and (\n",
    "        row.proportion_route_length <= p75_length\n",
    "    ):\n",
    "        return f\"<= {p75_length}%\"\n",
    "    else:\n",
    "        return f\"> {p75_length}%\""
   ]
  },
  {
   "cell_type": "code",
   "execution_count": null,
   "id": "9cfacf3f-38a5-4ed3-9974-0e5ced53aaa1",
   "metadata": {},
   "outputs": [],
   "source": [
    "m2[\"shapeid_vs_longest_shapeid_length\"] = m2.apply(\n",
    "    lambda x: shape_id_comparison(x), axis=1\n",
    ")"
   ]
  },
  {
   "cell_type": "code",
   "execution_count": null,
   "id": "ce52754e-01fd-4dc3-82f7-088330cf344d",
   "metadata": {},
   "outputs": [],
   "source": [
    "def usable(row):\n",
    "    if row.shapeid_vs_longest_shapeid_length == (f\" <= {p25_length}%\"):\n",
    "        return \"Unusable\"\n",
    "    else:\n",
    "        return \"Usable\""
   ]
  },
  {
   "cell_type": "code",
   "execution_count": null,
   "id": "92c8ec4a-c369-40c6-af09-7081a6f6a0dc",
   "metadata": {},
   "outputs": [],
   "source": [
    "m2[\"usable_y_n\"] = m2.apply(lambda x: usable(x), axis=1)"
   ]
  },
  {
   "cell_type": "code",
   "execution_count": null,
   "id": "5a6856cd-e0b5-4e4c-b866-9313356dc0b5",
   "metadata": {},
   "outputs": [],
   "source": [
    "m2[\"usable_y_n\"].value_counts()"
   ]
  },
  {
   "cell_type": "code",
   "execution_count": null,
   "id": "2e119d0d-ee75-4fd9-8cfe-e131d8694f2f",
   "metadata": {},
   "outputs": [],
   "source": [
    "summary = (\n",
    "    m2.groupby([\"trip_duration_categories\", \"usable_y_n\"])\n",
    "    .agg({\"total_segments\": \"sum\", \"trip_id\": \"count\"})\n",
    "    .rename(columns={\"total_segments\": \"total_segments\", \"trip_id\": \"total_trips\"})\n",
    "    .reset_index()\n",
    ")"
   ]
  },
  {
   "cell_type": "code",
   "execution_count": null,
   "id": "ebee04e0-6375-41a4-a9d3-30b50a26836e",
   "metadata": {},
   "outputs": [],
   "source": [
    "grand_total = (\n",
    "    m2.groupby([\"trip_duration_categories\"])\n",
    "    .agg({\"total_segments\": \"sum\", \"trip_id\": \"count\"})\n",
    "    .rename(\n",
    "        columns={\n",
    "            \"total_segments\": \"grand_total_segments\",\n",
    "            \"trip_id\": \"grand_total_trips\",\n",
    "        }\n",
    "    )\n",
    "    .reset_index()\n",
    ")"
   ]
  },
  {
   "cell_type": "code",
   "execution_count": null,
   "id": "4c7e4a05-2472-4786-a43d-80f14cbb1175",
   "metadata": {},
   "outputs": [],
   "source": [
    "summary_m = summary.merge(grand_total, on=[\"trip_duration_categories\"])"
   ]
  },
  {
   "cell_type": "code",
   "execution_count": null,
   "id": "f73dca20-4c98-40ad-a7c5-688cf5498aee",
   "metadata": {},
   "outputs": [],
   "source": [
    "summary_m = summary_m.assign(\n",
    "    percent_usable_segments=summary_m.total_segments\n",
    "    / summary_m.grand_total_segments\n",
    "    * 100,\n",
    "    percent_usable_trips=summary_m.total_trips / summary_m.grand_total_trips * 100,\n",
    ")"
   ]
  },
  {
   "cell_type": "code",
   "execution_count": null,
   "id": "7e4f4222-b19e-493e-bc52-2aed0876b50d",
   "metadata": {},
   "outputs": [],
   "source": [
    "summary_m"
   ]
  },
  {
   "cell_type": "code",
   "execution_count": null,
   "id": "19dd81c2-5028-40bc-899b-c7e30f266360",
   "metadata": {},
   "outputs": [],
   "source": [
    "def chart_with_dropdown(\n",
    "    df,\n",
    "    dropdown_list: list,\n",
    "    dropdown_field: str,\n",
    "    x_axis_chart1: str,\n",
    "    y_axis_chart1: str,\n",
    "    color_col1: str,\n",
    "    chart1_tooltip_cols: list,\n",
    "    chart_title: str,\n",
    "):\n",
    "    \"\"\"A bar chart controlled by a dropdown filter.\n",
    "    Args:\n",
    "        df: the dataframe\n",
    "        dropdown_list(list): a list of all the values in the dropdown menu,\n",
    "        dropdown_field(str): column where the dropdown menu's values are drawn from,\n",
    "        x_axis_chart1(str): x axis value for chart 1 - encode as Q or N,\n",
    "        y_axis_chart1(str): y axis value for chart 1 - encode as Q or N,\n",
    "        color_col1(str): column to color the graphs for chart 1,\n",
    "        chart1_tooltip_cols(list): list of all the columns to populate the tooltip,\n",
    "        chart_title(str):chart title,\n",
    "    \"\"\"\n",
    "    # Create drop down menu\n",
    "    input_dropdown = alt.binding_select(options=dropdown_list, name=\"Select \")\n",
    "\n",
    "    # The column tied to the drop down menu\n",
    "    selection = alt.selection_single(fields=[dropdown_field], bind=input_dropdown)\n",
    "\n",
    "    chart1 = (\n",
    "        alt.Chart(df)\n",
    "        .mark_bar()\n",
    "        .encode(\n",
    "            x=x_axis_chart1,\n",
    "            y=(y_axis_chart1),\n",
    "            color=alt.Color(\n",
    "                color_col1,\n",
    "                scale=alt.Scale(range=cp.CALITP_CATEGORY_BRIGHT_COLORS),\n",
    "                legend=None,\n",
    "            ),\n",
    "            tooltip=chart1_tooltip_cols,\n",
    "        )\n",
    "        .properties(title=chart_title)\n",
    "        .add_selection(selection)\n",
    "        .transform_filter(selection)\n",
    "    )\n",
    "\n",
    "    chart1 = styleguide.preset_chart_config(chart1)\n",
    "\n",
    "    return chart1"
   ]
  },
  {
   "cell_type": "markdown",
   "id": "bf25021e-8b11-4ad1-a5f5-290750cefa65",
   "metadata": {},
   "source": [
    "### Already Answered Notes/Questions\n",
    "* What is the calitp url number? What does 0 or 1 mean? V1, operator has different feeds. \n",
    "    * 0 could be primary, 1 is backup. This column will be deleted in V2. \n",
    "* Do you think that most shape IDS are going to be less than 100% of the length of the longest shape ID? \n",
    "    * Not necessarily, shape ID can be a short version of the trip.\n",
    "* What’s the difference between direction ID and route dir identifier? What does the 0 and 1 mean in direction ID?\n",
    "    * We don't know where the bus is going, so just do 0 and 1.\n",
    "    * Route dir identifier: captures route info and direction it is going to capture all the trips. Helps with groupby. \n",
    "    * We don't want to stick with trip id, we need to get to route level. \n",
    "    * Don't want to lose info on the direction. \n",
    "    * Have to distinguish direction or else it'll look like the bus is going backwards when plotting.\n",
    "    * RT data comes with direction id and can get which direction it ran in from schedule data. \n",
    "    * Attach route, join coordinate data to segments. \n",
    "    * Use segments and average out trips that occurred on that segment. \n",
    "* Ask about graph on Slack. \n",
    "* Should I use this `get_routelines` from `A1_vehicle_positions`. \n",
    "    * Just read it directly from GCS, don't need buffer.\n",
    "* Why would the same route ID for the other direction have more segments? \n",
    "   * Can have a layover. \n",
    "   * A segment must be 1000 meters or less.\n",
    "* The `route_dir_identifier` is used for segments to cut segments\n",
    "for both directions the route runs.\n",
    "\n",
    "* How come there are so many different timestamps within a 30 second increments of each either within the same segment? GTFS pings every 30 seconds."
   ]
  }
 ],
 "metadata": {
  "kernelspec": {
   "display_name": "Python 3 (ipykernel)",
   "language": "python",
   "name": "python3"
  },
  "language_info": {
   "codemirror_mode": {
    "name": "ipython",
    "version": 3
   },
   "file_extension": ".py",
   "mimetype": "text/x-python",
   "name": "python",
   "nbconvert_exporter": "python",
   "pygments_lexer": "ipython3",
   "version": "3.9.13"
  }
 },
 "nbformat": 4,
 "nbformat_minor": 5
}
