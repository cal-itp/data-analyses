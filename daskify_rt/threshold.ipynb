{
 "cells": [
  {
   "cell_type": "markdown",
   "id": "503781ab-a3cb-4092-ab73-ea76ffd696c3",
   "metadata": {},
   "source": [
    "## RT trip diagnostics: thresholds for usable trips \n",
    "### Other Questions\n",
    "* Should thresholds be on the operator or the operator-route ID level?\n",
    "* How to figure out whether a segment is acceptable or not?\n",
    "* Is the `proportion_route_length` tied with usable segments?"
   ]
  },
  {
   "cell_type": "code",
   "execution_count": 1,
   "id": "1faeb7ff-1ebc-4ced-afb0-c813f863d3d8",
   "metadata": {},
   "outputs": [
    {
     "name": "stderr",
     "output_type": "stream",
     "text": [
      "/opt/conda/lib/python3.9/site-packages/geopandas/_compat.py:123: UserWarning: The Shapely GEOS version (3.10.3-CAPI-1.16.1) is incompatible with the GEOS version PyGEOS was compiled with (3.10.1-CAPI-1.16.0). Conversions between both will be slow.\n",
      "  warnings.warn(\n"
     ]
    }
   ],
   "source": [
    "# Charts\n",
    "import altair as alt\n",
    "import dask.dataframe as dd\n",
    "import dask_geopandas as dg\n",
    "import geopandas as gpd\n",
    "import pandas as pd\n",
    "from calitp.sql import to_snakecase\n",
    "from shared_utils import calitp_color_palette as cp\n",
    "from shared_utils import geography_utils, styleguide, utils"
   ]
  },
  {
   "cell_type": "code",
   "execution_count": 2,
   "id": "9f13f204-138e-4b10-94a8-ead22461dad0",
   "metadata": {},
   "outputs": [],
   "source": [
    "# Save files to GCS\n",
    "from calitp.storage import get_fs\n",
    "\n",
    "fs = get_fs()"
   ]
  },
  {
   "cell_type": "code",
   "execution_count": 3,
   "id": "35a36bc4-4f66-4285-8025-a5eaccc3a266",
   "metadata": {},
   "outputs": [],
   "source": [
    "# Record start and end time\n",
    "import datetime\n",
    "\n",
    "from loguru import logger"
   ]
  },
  {
   "cell_type": "code",
   "execution_count": 4,
   "id": "f6233726-eb99-4f7e-9a90-842872f36ed7",
   "metadata": {},
   "outputs": [],
   "source": [
    "pd.options.display.max_columns = 100\n",
    "pd.options.display.float_format = \"{:.2f}\".format\n",
    "pd.set_option(\"display.max_rows\", None)\n",
    "pd.set_option(\"display.max_colwidth\", None)"
   ]
  },
  {
   "cell_type": "markdown",
   "id": "b26bf5e4-5ced-43dd-b792-12fa0e2376c0",
   "metadata": {},
   "source": [
    "### Load Files"
   ]
  },
  {
   "cell_type": "code",
   "execution_count": 5,
   "id": "2f333522-803a-4b60-b4af-b2edd0a274df",
   "metadata": {},
   "outputs": [],
   "source": [
    "GCS_DASK_PATH = \"gs://calitp-analytics-data/data-analyses/dask_test/\"\n",
    "GCS_RT_PATH = \"gs://calitp-analytics-data/data-analyses/rt_delay/\""
   ]
  },
  {
   "cell_type": "code",
   "execution_count": 6,
   "id": "cdd7ae15-7777-4c40-94be-f441f68f9b6a",
   "metadata": {},
   "outputs": [],
   "source": [
    "analysis_date = \"2022-10-12\""
   ]
  },
  {
   "cell_type": "code",
   "execution_count": 7,
   "id": "adf9ac8a-43e9-4a1c-b27c-fd3e1f247fc5",
   "metadata": {},
   "outputs": [],
   "source": [
    "# Tells me actual route length for each shape id.\n",
    "routelines = gpd.read_parquet(\n",
    "    f\"{GCS_RT_PATH}compiled_cached_views/routelines_{analysis_date}.parquet\"\n",
    ")"
   ]
  },
  {
   "cell_type": "code",
   "execution_count": 8,
   "id": "71bf8792-7290-4d1f-b8ab-01e1a5ecefbb",
   "metadata": {},
   "outputs": [],
   "source": [
    "# RT data Read in Trips\n",
    "# Gives me trips ran for a particular day across all oeprators.\n",
    "trips = pd.read_parquet(\n",
    "    f\"{GCS_RT_PATH}compiled_cached_views/trips_{analysis_date}.parquet\"\n",
    ")"
   ]
  },
  {
   "cell_type": "code",
   "execution_count": 9,
   "id": "1b40dfcd-7a35-4780-9fff-d64fae60a97b",
   "metadata": {},
   "outputs": [],
   "source": [
    "# Read in longest_shape of each route\n",
    "# Schedule data, source of truth.\n",
    "longest_shape = gpd.read_parquet(f\"{GCS_DASK_PATH}longest_shape_segments.parquet\")"
   ]
  },
  {
   "cell_type": "code",
   "execution_count": 10,
   "id": "01705ac8-aa58-4076-b6eb-0f2657a80e46",
   "metadata": {
    "tags": []
   },
   "outputs": [],
   "source": [
    "# longest_shape.groupby(['calitp_itp_id','route_id','longest_shape_id']).agg({'segment_sequence':'nunique'}).head()"
   ]
  },
  {
   "cell_type": "code",
   "execution_count": 11,
   "id": "9db30746-9af9-473f-b068-443bd3623b3a",
   "metadata": {
    "tags": []
   },
   "outputs": [],
   "source": [
    "# longest_shape.sort_values(['calitp_itp_id', 'route_id']).head(25).drop(columns=[\"geometry\", \"geometry_arrowized\"])"
   ]
  },
  {
   "cell_type": "code",
   "execution_count": 12,
   "id": "287990c4-5e89-4247-8827-dd07aebed17b",
   "metadata": {},
   "outputs": [],
   "source": [
    "crosswalk = pd.read_parquet(\n",
    "    f\"{GCS_DASK_PATH}segments_route_direction_crosswalk.parquet\"\n",
    ")"
   ]
  },
  {
   "cell_type": "code",
   "execution_count": 13,
   "id": "7ddaf111-2652-4162-85fc-bd4e884bfb48",
   "metadata": {},
   "outputs": [],
   "source": [
    "operator_4 = pd.read_parquet(\n",
    "    f\"{GCS_DASK_PATH}vp_sjoin/vp_segment_4_{analysis_date}.parquet\"\n",
    ")"
   ]
  },
  {
   "cell_type": "markdown",
   "id": "30ea0f95-de9d-4b1e-92bd-95111ba0e2d7",
   "metadata": {
    "tags": []
   },
   "source": [
    "### Task 1\n",
    "* Using GTFS schedule data, by route_id-shape_id, calculate the route_length of each shape_id as a proportion of the longest shape_id. \n",
    "* For <b>each route_id</b>, what's the shortest shape_id length, in proportion to the longest shape_id's length. if it's 100%, then all shape_ids are equal length for that route. if it's 50%, there's a short trip that exists that only runs 50% of the length and turns around.\n",
    "\n",
    "<b>How</b>\n",
    "* Need table `trips` from compile cached views -> shape ID and route ID and direction ID -> merge in segments crosswalk with route direction identifier \n",
    "* Shapes table -> attach route dir identifier\n",
    "* Merge in longest shape line using  routes and direction take the fraction. "
   ]
  },
  {
   "cell_type": "markdown",
   "id": "af681217-dbf7-449e-987d-18f9617074c7",
   "metadata": {},
   "source": [
    "#### Step 1. Merge `trips` with `crosswalk`\n",
    "##### Help: Why do we take away `trip_id` from `trips`? "
   ]
  },
  {
   "cell_type": "code",
   "execution_count": 14,
   "id": "6187daa4-8dc1-49e3-ac20-303fa358b301",
   "metadata": {},
   "outputs": [],
   "source": [
    "# Subset\n",
    "trips2 = trips[\n",
    "    [\n",
    "        \"calitp_itp_id\",\n",
    "        \"route_id\",\n",
    "        \"direction_id\",\n",
    "        \"shape_id\",\n",
    "    ]\n",
    "]"
   ]
  },
  {
   "cell_type": "code",
   "execution_count": 15,
   "id": "914b5817-1080-4f3f-a284-422fcb471f5a",
   "metadata": {},
   "outputs": [
    {
     "data": {
      "text/plain": [
       "(120136, 5150, 120136)"
      ]
     },
     "execution_count": 15,
     "metadata": {},
     "output_type": "execute_result"
    }
   ],
   "source": [
    "len(trips2), len(crosswalk), len(trips)"
   ]
  },
  {
   "cell_type": "code",
   "execution_count": 16,
   "id": "79547185-44d8-4b5c-a3b3-56d28f1bafd4",
   "metadata": {},
   "outputs": [
    {
     "data": {
      "text/html": [
       "<div>\n",
       "<style scoped>\n",
       "    .dataframe tbody tr th:only-of-type {\n",
       "        vertical-align: middle;\n",
       "    }\n",
       "\n",
       "    .dataframe tbody tr th {\n",
       "        vertical-align: top;\n",
       "    }\n",
       "\n",
       "    .dataframe thead th {\n",
       "        text-align: right;\n",
       "    }\n",
       "</style>\n",
       "<table border=\"1\" class=\"dataframe\">\n",
       "  <thead>\n",
       "    <tr style=\"text-align: right;\">\n",
       "      <th></th>\n",
       "      <th>calitp_itp_id</th>\n",
       "      <th>route_id</th>\n",
       "      <th>direction_id</th>\n",
       "      <th>shape_id</th>\n",
       "    </tr>\n",
       "  </thead>\n",
       "  <tbody>\n",
       "    <tr>\n",
       "      <th>0</th>\n",
       "      <td>4</td>\n",
       "      <td>U</td>\n",
       "      <td>1</td>\n",
       "      <td>shp-U-06</td>\n",
       "    </tr>\n",
       "    <tr>\n",
       "      <th>1</th>\n",
       "      <td>4</td>\n",
       "      <td>U</td>\n",
       "      <td>1</td>\n",
       "      <td>shp-U-06</td>\n",
       "    </tr>\n",
       "  </tbody>\n",
       "</table>\n",
       "</div>"
      ],
      "text/plain": [
       "   calitp_itp_id route_id direction_id  shape_id\n",
       "0              4        U            1  shp-U-06\n",
       "1              4        U            1  shp-U-06"
      ]
     },
     "execution_count": 16,
     "metadata": {},
     "output_type": "execute_result"
    }
   ],
   "source": [
    "trips2.head(2)"
   ]
  },
  {
   "cell_type": "code",
   "execution_count": 17,
   "id": "595fb91c-5c38-4573-a869-38d2d70d408d",
   "metadata": {},
   "outputs": [
    {
     "data": {
      "text/html": [
       "<div>\n",
       "<style scoped>\n",
       "    .dataframe tbody tr th:only-of-type {\n",
       "        vertical-align: middle;\n",
       "    }\n",
       "\n",
       "    .dataframe tbody tr th {\n",
       "        vertical-align: top;\n",
       "    }\n",
       "\n",
       "    .dataframe thead th {\n",
       "        text-align: right;\n",
       "    }\n",
       "</style>\n",
       "<table border=\"1\" class=\"dataframe\">\n",
       "  <thead>\n",
       "    <tr style=\"text-align: right;\">\n",
       "      <th></th>\n",
       "      <th>calitp_itp_id</th>\n",
       "      <th>route_id</th>\n",
       "      <th>direction_id</th>\n",
       "      <th>route_dir_identifier</th>\n",
       "    </tr>\n",
       "  </thead>\n",
       "  <tbody>\n",
       "    <tr>\n",
       "      <th>0</th>\n",
       "      <td>372</td>\n",
       "      <td>4ba918e5-58c0-4d4a-9f55-5cadb8564bff</td>\n",
       "      <td>0</td>\n",
       "      <td>255544</td>\n",
       "    </tr>\n",
       "    <tr>\n",
       "      <th>1</th>\n",
       "      <td>293</td>\n",
       "      <td>7</td>\n",
       "      <td>0</td>\n",
       "      <td>1269889</td>\n",
       "    </tr>\n",
       "  </tbody>\n",
       "</table>\n",
       "</div>"
      ],
      "text/plain": [
       "   calitp_itp_id                              route_id direction_id  \\\n",
       "0            372  4ba918e5-58c0-4d4a-9f55-5cadb8564bff            0   \n",
       "1            293                                     7            0   \n",
       "\n",
       "   route_dir_identifier  \n",
       "0                255544  \n",
       "1               1269889  "
      ]
     },
     "execution_count": 17,
     "metadata": {},
     "output_type": "execute_result"
    }
   ],
   "source": [
    "crosswalk.head(2)"
   ]
  },
  {
   "cell_type": "code",
   "execution_count": 18,
   "id": "5afd66c3-5ea4-45c0-9a8b-e97c89d05405",
   "metadata": {},
   "outputs": [],
   "source": [
    "trips2 = (trips2.drop_duplicates()).reset_index(drop=True)"
   ]
  },
  {
   "cell_type": "code",
   "execution_count": 19,
   "id": "8d5cf643-23da-4484-839a-f309cb692979",
   "metadata": {},
   "outputs": [
    {
     "data": {
      "text/plain": [
       "8199"
      ]
     },
     "execution_count": 19,
     "metadata": {},
     "output_type": "execute_result"
    }
   ],
   "source": [
    "len(trips2)"
   ]
  },
  {
   "cell_type": "markdown",
   "id": "be2300e9-55fd-4ec4-94fb-17dfa07f5719",
   "metadata": {},
   "source": [
    "* 366 more values in `trips` than `crosswalk` even though `Cal ITP ID.nunique()` yields the same number."
   ]
  },
  {
   "cell_type": "code",
   "execution_count": 20,
   "id": "eab2de44-79e6-48ae-90e5-c41483f712e6",
   "metadata": {},
   "outputs": [
    {
     "data": {
      "text/plain": [
       "_merge    \n",
       "both          7833\n",
       "left_only      366\n",
       "right_only      74\n",
       "dtype: int64"
      ]
     },
     "execution_count": 20,
     "metadata": {},
     "output_type": "execute_result"
    }
   ],
   "source": [
    "trips2.merge(\n",
    "    crosswalk,\n",
    "    how=\"outer\",\n",
    "    on=[\"calitp_itp_id\", \"route_id\", \"direction_id\"],\n",
    "    indicator=True,\n",
    ")[[\"_merge\"]].value_counts()"
   ]
  },
  {
   "cell_type": "code",
   "execution_count": 21,
   "id": "1849e6aa-0008-456c-885f-3018ad3581fc",
   "metadata": {},
   "outputs": [],
   "source": [
    "trips_m_crosswalk = trips2.merge(\n",
    "    crosswalk, how=\"inner\", on=[\"calitp_itp_id\", \"route_id\", \"direction_id\"]\n",
    ")"
   ]
  },
  {
   "cell_type": "code",
   "execution_count": 22,
   "id": "1672001c-a0da-4751-9f2a-f32c1601666c",
   "metadata": {},
   "outputs": [
    {
     "data": {
      "text/html": [
       "<div>\n",
       "<style scoped>\n",
       "    .dataframe tbody tr th:only-of-type {\n",
       "        vertical-align: middle;\n",
       "    }\n",
       "\n",
       "    .dataframe tbody tr th {\n",
       "        vertical-align: top;\n",
       "    }\n",
       "\n",
       "    .dataframe thead th {\n",
       "        text-align: right;\n",
       "    }\n",
       "</style>\n",
       "<table border=\"1\" class=\"dataframe\">\n",
       "  <thead>\n",
       "    <tr style=\"text-align: right;\">\n",
       "      <th></th>\n",
       "      <th>calitp_itp_id</th>\n",
       "      <th>route_id</th>\n",
       "      <th>direction_id</th>\n",
       "      <th>shape_id</th>\n",
       "      <th>route_dir_identifier</th>\n",
       "    </tr>\n",
       "  </thead>\n",
       "  <tbody>\n",
       "    <tr>\n",
       "      <th>0</th>\n",
       "      <td>4</td>\n",
       "      <td>U</td>\n",
       "      <td>1</td>\n",
       "      <td>shp-U-06</td>\n",
       "      <td>1244740981</td>\n",
       "    </tr>\n",
       "    <tr>\n",
       "      <th>1</th>\n",
       "      <td>4</td>\n",
       "      <td>U</td>\n",
       "      <td>0</td>\n",
       "      <td>shp-U-07</td>\n",
       "      <td>1026952675</td>\n",
       "    </tr>\n",
       "    <tr>\n",
       "      <th>2</th>\n",
       "      <td>4</td>\n",
       "      <td>212</td>\n",
       "      <td>1</td>\n",
       "      <td>shp-212-07</td>\n",
       "      <td>1369834141</td>\n",
       "    </tr>\n",
       "    <tr>\n",
       "      <th>3</th>\n",
       "      <td>4</td>\n",
       "      <td>212</td>\n",
       "      <td>0</td>\n",
       "      <td>shp-212-57</td>\n",
       "      <td>648098315</td>\n",
       "    </tr>\n",
       "    <tr>\n",
       "      <th>4</th>\n",
       "      <td>4</td>\n",
       "      <td>67</td>\n",
       "      <td>0</td>\n",
       "      <td>shp-67-57</td>\n",
       "      <td>3358964048</td>\n",
       "    </tr>\n",
       "  </tbody>\n",
       "</table>\n",
       "</div>"
      ],
      "text/plain": [
       "   calitp_itp_id route_id direction_id    shape_id  route_dir_identifier\n",
       "0              4        U            1    shp-U-06            1244740981\n",
       "1              4        U            0    shp-U-07            1026952675\n",
       "2              4      212            1  shp-212-07            1369834141\n",
       "3              4      212            0  shp-212-57             648098315\n",
       "4              4       67            0   shp-67-57            3358964048"
      ]
     },
     "execution_count": 22,
     "metadata": {},
     "output_type": "execute_result"
    }
   ],
   "source": [
    "trips_m_crosswalk.head()"
   ]
  },
  {
   "cell_type": "markdown",
   "id": "1ab233bc-9ebc-44de-842a-4e8a964b76a4",
   "metadata": {
    "tags": []
   },
   "source": [
    "#### Step 2. Shapes table -> attach route dir identifier \n",
    "* Drop duplicates in routelines b/c of `calitp_url_number`. "
   ]
  },
  {
   "cell_type": "code",
   "execution_count": 23,
   "id": "4ad11571-f463-4b2a-8ae8-951ae3b5ca0a",
   "metadata": {},
   "outputs": [
    {
     "data": {
      "text/plain": [
       "True"
      ]
     },
     "execution_count": 23,
     "metadata": {},
     "output_type": "execute_result"
    }
   ],
   "source": [
    "routelines.crs == longest_shape.crs"
   ]
  },
  {
   "cell_type": "code",
   "execution_count": 24,
   "id": "d1b829d0-8ae3-47f7-af61-ae4cc7cf4942",
   "metadata": {},
   "outputs": [],
   "source": [
    "# Drop CalITP since it's no longer needed\n",
    "routelines = routelines.drop(columns=[\"calitp_url_number\"])"
   ]
  },
  {
   "cell_type": "code",
   "execution_count": 25,
   "id": "1f22f7ff-1720-48aa-aca1-d09d36d9c238",
   "metadata": {},
   "outputs": [],
   "source": [
    "routelines = (routelines.drop_duplicates()).reset_index(drop=True)"
   ]
  },
  {
   "cell_type": "code",
   "execution_count": 26,
   "id": "5ceb40bd-94c1-43d6-ad84-e3d894653c75",
   "metadata": {},
   "outputs": [
    {
     "data": {
      "text/plain": [
       "8133"
      ]
     },
     "execution_count": 26,
     "metadata": {},
     "output_type": "execute_result"
    }
   ],
   "source": [
    "len(routelines)"
   ]
  },
  {
   "cell_type": "code",
   "execution_count": 27,
   "id": "09e7094f-60b7-4618-b9ab-ebe179c51746",
   "metadata": {},
   "outputs": [
    {
     "data": {
      "text/plain": [
       "<Derived Projected CRS: EPSG:3310>\n",
       "Name: NAD83 / California Albers\n",
       "Axis Info [cartesian]:\n",
       "- X[east]: Easting (metre)\n",
       "- Y[north]: Northing (metre)\n",
       "Area of Use:\n",
       "- name: United States (USA) - California.\n",
       "- bounds: (-124.45, 32.53, -114.12, 42.01)\n",
       "Coordinate Operation:\n",
       "- name: California Albers\n",
       "- method: Albers Equal Area\n",
       "Datum: North American Datum 1983\n",
       "- Ellipsoid: GRS 1980\n",
       "- Prime Meridian: Greenwich"
      ]
     },
     "execution_count": 27,
     "metadata": {},
     "output_type": "execute_result"
    }
   ],
   "source": [
    "routelines.crs"
   ]
  },
  {
   "cell_type": "code",
   "execution_count": 28,
   "id": "3aed0356-3ca3-47e0-bea7-dc8e6bc05c8a",
   "metadata": {},
   "outputs": [
    {
     "data": {
      "text/plain": [
       "'EPSG:3310'"
      ]
     },
     "execution_count": 28,
     "metadata": {},
     "output_type": "execute_result"
    }
   ],
   "source": [
    "geography_utils.CA_NAD83Albers"
   ]
  },
  {
   "cell_type": "code",
   "execution_count": 29,
   "id": "40da8022-21d9-49f1-9515-edf8a5a63537",
   "metadata": {},
   "outputs": [],
   "source": [
    "# Calculate length of geometry\n",
    "routelines = routelines.assign(\n",
    "    actual_route_length=(\n",
    "        routelines.geometry.to_crs(geography_utils.CA_NAD83Albers).length\n",
    "    )\n",
    ")"
   ]
  },
  {
   "cell_type": "code",
   "execution_count": 30,
   "id": "d2b7fffa-a8c2-4303-95a5-5b4887db9e0d",
   "metadata": {},
   "outputs": [
    {
     "data": {
      "text/plain": [
       "_merge    \n",
       "both          8529\n",
       "left_only      363\n",
       "right_only       0\n",
       "dtype: int64"
      ]
     },
     "execution_count": 30,
     "metadata": {},
     "output_type": "execute_result"
    }
   ],
   "source": [
    "routelines.merge(\n",
    "    trips_m_crosswalk, how=\"outer\", on=[\"calitp_itp_id\", \"shape_id\"], indicator=True\n",
    ")[[\"_merge\"]].value_counts()"
   ]
  },
  {
   "cell_type": "code",
   "execution_count": 31,
   "id": "5b527f4e-dca0-48c0-8bff-9c8860f511e8",
   "metadata": {},
   "outputs": [],
   "source": [
    "routelines_m_trips = routelines.merge(\n",
    "    trips_m_crosswalk,\n",
    "    how=\"inner\",\n",
    "    on=[\"calitp_itp_id\", \"shape_id\"],\n",
    ")"
   ]
  },
  {
   "cell_type": "code",
   "execution_count": 32,
   "id": "01b1e289-ee9d-4282-8a20-0d9ddc82c4e1",
   "metadata": {},
   "outputs": [
    {
     "data": {
      "text/plain": [
       "(8529, 7833, 8133)"
      ]
     },
     "execution_count": 32,
     "metadata": {},
     "output_type": "execute_result"
    }
   ],
   "source": [
    "len(routelines_m_trips), len(trips_m_crosswalk), len(routelines)"
   ]
  },
  {
   "cell_type": "code",
   "execution_count": 33,
   "id": "6922728a-3c6a-4e4b-b6df-e3f6ae2275ab",
   "metadata": {
    "tags": []
   },
   "outputs": [
    {
     "data": {
      "text/html": [
       "<div>\n",
       "<style scoped>\n",
       "    .dataframe tbody tr th:only-of-type {\n",
       "        vertical-align: middle;\n",
       "    }\n",
       "\n",
       "    .dataframe tbody tr th {\n",
       "        vertical-align: top;\n",
       "    }\n",
       "\n",
       "    .dataframe thead th {\n",
       "        text-align: right;\n",
       "    }\n",
       "</style>\n",
       "<table border=\"1\" class=\"dataframe\">\n",
       "  <thead>\n",
       "    <tr style=\"text-align: right;\">\n",
       "      <th></th>\n",
       "      <th>calitp_itp_id</th>\n",
       "      <th>shape_id</th>\n",
       "      <th>actual_route_length</th>\n",
       "      <th>route_id</th>\n",
       "      <th>direction_id</th>\n",
       "      <th>route_dir_identifier</th>\n",
       "    </tr>\n",
       "  </thead>\n",
       "  <tbody>\n",
       "    <tr>\n",
       "      <th>1</th>\n",
       "      <td>4</td>\n",
       "      <td>shp-U-07</td>\n",
       "      <td>34049.63</td>\n",
       "      <td>U</td>\n",
       "      <td>0</td>\n",
       "      <td>1026952675</td>\n",
       "    </tr>\n",
       "    <tr>\n",
       "      <th>111</th>\n",
       "      <td>4</td>\n",
       "      <td>shp-U-06</td>\n",
       "      <td>34070.90</td>\n",
       "      <td>U</td>\n",
       "      <td>1</td>\n",
       "      <td>1244740981</td>\n",
       "    </tr>\n",
       "  </tbody>\n",
       "</table>\n",
       "</div>"
      ],
      "text/plain": [
       "     calitp_itp_id  shape_id  actual_route_length route_id direction_id  \\\n",
       "1                4  shp-U-07             34049.63        U            0   \n",
       "111              4  shp-U-06             34070.90        U            1   \n",
       "\n",
       "     route_dir_identifier  \n",
       "1              1026952675  \n",
       "111            1244740981  "
      ]
     },
     "execution_count": 33,
     "metadata": {},
     "output_type": "execute_result"
    }
   ],
   "source": [
    "routelines_m_trips.loc[routelines_m_trips.route_id == \"U\"].drop(columns=[\"geometry\"])"
   ]
  },
  {
   "cell_type": "markdown",
   "id": "73bec028-a8b9-4967-80a1-7970155d3f12",
   "metadata": {},
   "source": [
    "#### Step 3. Merge in longest shape line on routes and direction.\n",
    "* Which geometry to keep?"
   ]
  },
  {
   "cell_type": "code",
   "execution_count": 34,
   "id": "255163a6-3dc6-422d-a332-05471e283c98",
   "metadata": {},
   "outputs": [],
   "source": [
    "longest_shape = longest_shape.rename(columns={\"route_length\": \"longest_route_length\"})"
   ]
  },
  {
   "cell_type": "code",
   "execution_count": 35,
   "id": "31581ef0-56a5-4c51-b24b-3d5abe9074af",
   "metadata": {},
   "outputs": [],
   "source": [
    "# route_u.explore(\"segment_sequence\", cmap = \"tab10\",\n",
    "#                style_kwds = {'weight': 10}, legend = False, height = 400, width = 800)"
   ]
  },
  {
   "cell_type": "code",
   "execution_count": 36,
   "id": "2f5fe764-b2a2-4774-ad3f-7bad94f712d9",
   "metadata": {},
   "outputs": [],
   "source": [
    "routelines_final = routelines_m_trips.merge(\n",
    "    longest_shape.drop(columns=[\"geometry\"]),\n",
    "    how=\"inner\",\n",
    "    on=[\"calitp_itp_id\", \"direction_id\", \"route_id\", \"route_dir_identifier\"],\n",
    ")"
   ]
  },
  {
   "cell_type": "code",
   "execution_count": 37,
   "id": "3e28ed5a-4acf-4335-9659-3530813ad795",
   "metadata": {},
   "outputs": [],
   "source": [
    "# Calculate out proportion of route length against longest.\n",
    "routelines_final[\"proportion_route_length\"] = (\n",
    "    (routelines_final[\"actual_route_length\"] / routelines_final[\"longest_route_length\"])\n",
    "    * 100\n",
    ").astype(int)"
   ]
  },
  {
   "cell_type": "code",
   "execution_count": 38,
   "id": "eb82828f-27c4-42aa-bcf0-69f08834a9af",
   "metadata": {},
   "outputs": [
    {
     "data": {
      "text/plain": [
       "219200"
      ]
     },
     "execution_count": 38,
     "metadata": {},
     "output_type": "execute_result"
    }
   ],
   "source": [
    "len(routelines_final)"
   ]
  },
  {
   "cell_type": "code",
   "execution_count": 39,
   "id": "c6c3d526-0334-49c0-8aec-71cddc0d311c",
   "metadata": {},
   "outputs": [
    {
     "data": {
      "text/plain": [
       "Index(['calitp_itp_id', 'shape_id', 'geometry', 'actual_route_length',\n",
       "       'route_id', 'direction_id', 'route_dir_identifier', 'calitp_url_number',\n",
       "       'longest_shape_id', 'longest_route_length', 'segment_sequence',\n",
       "       'geometry_arrowized', 'proportion_route_length'],\n",
       "      dtype='object')"
      ]
     },
     "execution_count": 39,
     "metadata": {},
     "output_type": "execute_result"
    }
   ],
   "source": [
    "routelines_final.columns"
   ]
  },
  {
   "cell_type": "code",
   "execution_count": 40,
   "id": "f6640cfa-9458-48a1-bd1c-c9c680694151",
   "metadata": {},
   "outputs": [],
   "source": [
    "# Count total segments a route_id could have\n",
    "routelines_final_test = (\n",
    "    routelines_final.groupby(\n",
    "        [\n",
    "            \"route_id\",\n",
    "            \"calitp_itp_id\",\n",
    "            \"route_dir_identifier\",\n",
    "            \"shape_id\",\n",
    "            \"longest_shape_id\",\n",
    "            \"proportion_route_length\",\n",
    "        ]\n",
    "    )\n",
    "    .agg({\"segment_sequence\": \"count\"})\n",
    "    .reset_index()\n",
    ")"
   ]
  },
  {
   "cell_type": "code",
   "execution_count": 41,
   "id": "19714a62-565d-43c7-af3d-0b82e243239c",
   "metadata": {},
   "outputs": [],
   "source": [
    "# routelines_final_test.loc[routelines_final_test.route_dir_identifier == 1244740981].drop(\n",
    "#    columns=[\"geometry\",\"geometry_arrowized\"]\n",
    "# ).head()"
   ]
  },
  {
   "cell_type": "code",
   "execution_count": 42,
   "id": "0f24134f-7294-4905-98cd-05048ab605d1",
   "metadata": {},
   "outputs": [
    {
     "data": {
      "text/plain": [
       "(8022, 8022)"
      ]
     },
     "execution_count": 42,
     "metadata": {},
     "output_type": "execute_result"
    }
   ],
   "source": [
    "len(routelines_final_test), len(routelines_final_test.drop_duplicates())"
   ]
  },
  {
   "cell_type": "markdown",
   "id": "319681c5-9f85-4e85-83ac-1b211d6d0189",
   "metadata": {},
   "source": [
    "### Task 2\n",
    "* Testing with Agency 4. \n",
    "* Calculate time of trips?\n"
   ]
  },
  {
   "cell_type": "code",
   "execution_count": 43,
   "id": "3c057b6d-9b02-4e02-8932-8af2c12f769d",
   "metadata": {},
   "outputs": [],
   "source": [
    "def find_operator_info(df):\n",
    "    df = df.sort_values([\"calitp_itp_id\", \"trip_id\", \"segment_sequence\"])\n",
    "\n",
    "    merge_cols = [\n",
    "        \"calitp_itp_id\",\n",
    "        \"trip_id\",\n",
    "        \"route_dir_identifier\",\n",
    "    ]\n",
    "\n",
    "    # Get start time.\n",
    "    start_time_trip = (\n",
    "        df.groupby(merge_cols)\n",
    "        .agg({\"vehicle_timestamp\": \"min\"})\n",
    "        .rename(columns={\"vehicle_timestamp\": \"start\"})\n",
    "        .reset_index()\n",
    "    )\n",
    "\n",
    "    # Get end time.\n",
    "    end_time_trip = (\n",
    "        df.groupby(merge_cols)\n",
    "        .agg({\"vehicle_timestamp\": \"max\"})\n",
    "        .rename(columns={\"vehicle_timestamp\": \"end\"})\n",
    "        .reset_index()\n",
    "    )\n",
    "\n",
    "    # Count number of segments.\n",
    "    segment_counts = (\n",
    "        df.groupby(merge_cols)\n",
    "        .agg({\"segment_sequence\": \"nunique\"})\n",
    "        .reset_index()\n",
    "        .rename(columns={\"segment_sequence\": \"number_of_segments\"})\n",
    "    )\n",
    "\n",
    "    # Merge\n",
    "    m1 = start_time_trip.merge(end_time_trip, how=\"inner\", on=merge_cols).merge(\n",
    "        segment_counts, how=\"left\", on=merge_cols\n",
    "    )\n",
    "\n",
    "    # Calculate time elapsed\n",
    "    # https://stackoverflow.com/questions/51491724/calculate-difference-of-2-dates-in-minutes-in-pandas\n",
    "    m1[\"minutes_elapsed\"] = (m1.end - m1.start).dt.total_seconds() / 60\n",
    "\n",
    "    return m1"
   ]
  },
  {
   "cell_type": "code",
   "execution_count": 44,
   "id": "615b08ee-1bb5-4d29-ab05-8537c28096f5",
   "metadata": {},
   "outputs": [
    {
     "data": {
      "text/html": [
       "<div>\n",
       "<style scoped>\n",
       "    .dataframe tbody tr th:only-of-type {\n",
       "        vertical-align: middle;\n",
       "    }\n",
       "\n",
       "    .dataframe tbody tr th {\n",
       "        vertical-align: top;\n",
       "    }\n",
       "\n",
       "    .dataframe thead th {\n",
       "        text-align: right;\n",
       "    }\n",
       "</style>\n",
       "<table border=\"1\" class=\"dataframe\">\n",
       "  <thead>\n",
       "    <tr style=\"text-align: right;\">\n",
       "      <th></th>\n",
       "      <th>calitp_itp_id</th>\n",
       "      <th>calitp_url_number</th>\n",
       "      <th>vehicle_timestamp</th>\n",
       "      <th>trip_id</th>\n",
       "      <th>route_dir_identifier</th>\n",
       "      <th>segment_sequence</th>\n",
       "      <th>lon</th>\n",
       "      <th>lat</th>\n",
       "    </tr>\n",
       "  </thead>\n",
       "  <tbody>\n",
       "    <tr>\n",
       "      <th>0</th>\n",
       "      <td>4</td>\n",
       "      <td>0</td>\n",
       "      <td>2022-10-12 03:57:57</td>\n",
       "      <td>1002020</td>\n",
       "      <td>2062080730</td>\n",
       "      <td>0</td>\n",
       "      <td>-199410.89</td>\n",
       "      <td>-20669.41</td>\n",
       "    </tr>\n",
       "    <tr>\n",
       "      <th>1</th>\n",
       "      <td>4</td>\n",
       "      <td>0</td>\n",
       "      <td>2022-10-12 03:58:12</td>\n",
       "      <td>1002020</td>\n",
       "      <td>2062080730</td>\n",
       "      <td>0</td>\n",
       "      <td>-199423.82</td>\n",
       "      <td>-20695.24</td>\n",
       "    </tr>\n",
       "  </tbody>\n",
       "</table>\n",
       "</div>"
      ],
      "text/plain": [
       "   calitp_itp_id  calitp_url_number   vehicle_timestamp  trip_id  \\\n",
       "0              4                  0 2022-10-12 03:57:57  1002020   \n",
       "1              4                  0 2022-10-12 03:58:12  1002020   \n",
       "\n",
       "   route_dir_identifier segment_sequence        lon       lat  \n",
       "0            2062080730                0 -199410.89 -20669.41  \n",
       "1            2062080730                0 -199423.82 -20695.24  "
      ]
     },
     "execution_count": 44,
     "metadata": {},
     "output_type": "execute_result"
    }
   ],
   "source": [
    "operator_4.head(2)"
   ]
  },
  {
   "cell_type": "code",
   "execution_count": 45,
   "id": "3f035cc9-ac21-417f-8960-62f50c764bd6",
   "metadata": {},
   "outputs": [],
   "source": [
    "operator_4_metrics = find_operator_info(operator_4)"
   ]
  },
  {
   "cell_type": "code",
   "execution_count": 46,
   "id": "7792ceef-ec71-441b-8b19-fc1a6c939415",
   "metadata": {},
   "outputs": [
    {
     "data": {
      "text/html": [
       "<div>\n",
       "<style scoped>\n",
       "    .dataframe tbody tr th:only-of-type {\n",
       "        vertical-align: middle;\n",
       "    }\n",
       "\n",
       "    .dataframe tbody tr th {\n",
       "        vertical-align: top;\n",
       "    }\n",
       "\n",
       "    .dataframe thead th {\n",
       "        text-align: right;\n",
       "    }\n",
       "</style>\n",
       "<table border=\"1\" class=\"dataframe\">\n",
       "  <thead>\n",
       "    <tr style=\"text-align: right;\">\n",
       "      <th></th>\n",
       "      <th>calitp_itp_id</th>\n",
       "      <th>trip_id</th>\n",
       "      <th>route_dir_identifier</th>\n",
       "      <th>start</th>\n",
       "      <th>end</th>\n",
       "      <th>number_of_segments</th>\n",
       "      <th>minutes_elapsed</th>\n",
       "    </tr>\n",
       "  </thead>\n",
       "  <tbody>\n",
       "    <tr>\n",
       "      <th>0</th>\n",
       "      <td>4</td>\n",
       "      <td>10000020</td>\n",
       "      <td>4214183996</td>\n",
       "      <td>2022-10-12 21:55:01</td>\n",
       "      <td>2022-10-12 22:24:54</td>\n",
       "      <td>7</td>\n",
       "      <td>29.88</td>\n",
       "    </tr>\n",
       "    <tr>\n",
       "      <th>1</th>\n",
       "      <td>4</td>\n",
       "      <td>1000020</td>\n",
       "      <td>2437991552</td>\n",
       "      <td>2022-10-12 16:21:29</td>\n",
       "      <td>2022-10-12 16:32:23</td>\n",
       "      <td>4</td>\n",
       "      <td>10.90</td>\n",
       "    </tr>\n",
       "  </tbody>\n",
       "</table>\n",
       "</div>"
      ],
      "text/plain": [
       "   calitp_itp_id   trip_id  route_dir_identifier               start  \\\n",
       "0              4  10000020            4214183996 2022-10-12 21:55:01   \n",
       "1              4   1000020            2437991552 2022-10-12 16:21:29   \n",
       "\n",
       "                  end  number_of_segments  minutes_elapsed  \n",
       "0 2022-10-12 22:24:54                   7            29.88  \n",
       "1 2022-10-12 16:32:23                   4            10.90  "
      ]
     },
     "execution_count": 46,
     "metadata": {},
     "output_type": "execute_result"
    }
   ],
   "source": [
    "operator_4_metrics.head(2)"
   ]
  },
  {
   "cell_type": "code",
   "execution_count": 47,
   "id": "9179c858-d98d-43b5-ae65-8afa0dedf5eb",
   "metadata": {},
   "outputs": [
    {
     "data": {
      "text/html": [
       "<div>\n",
       "<style scoped>\n",
       "    .dataframe tbody tr th:only-of-type {\n",
       "        vertical-align: middle;\n",
       "    }\n",
       "\n",
       "    .dataframe tbody tr th {\n",
       "        vertical-align: top;\n",
       "    }\n",
       "\n",
       "    .dataframe thead th {\n",
       "        text-align: right;\n",
       "    }\n",
       "</style>\n",
       "<table border=\"1\" class=\"dataframe\">\n",
       "  <thead>\n",
       "    <tr style=\"text-align: right;\">\n",
       "      <th></th>\n",
       "      <th>route_id</th>\n",
       "      <th>calitp_itp_id</th>\n",
       "      <th>route_dir_identifier</th>\n",
       "      <th>shape_id</th>\n",
       "      <th>longest_shape_id</th>\n",
       "      <th>proportion_route_length</th>\n",
       "      <th>segment_sequence</th>\n",
       "    </tr>\n",
       "  </thead>\n",
       "  <tbody>\n",
       "    <tr>\n",
       "      <th>0</th>\n",
       "      <td>001</td>\n",
       "      <td>208</td>\n",
       "      <td>58701248</td>\n",
       "      <td>1104</td>\n",
       "      <td>1104</td>\n",
       "      <td>100</td>\n",
       "      <td>8</td>\n",
       "    </tr>\n",
       "    <tr>\n",
       "      <th>1</th>\n",
       "      <td>001</td>\n",
       "      <td>208</td>\n",
       "      <td>58701248</td>\n",
       "      <td>1106</td>\n",
       "      <td>1104</td>\n",
       "      <td>59</td>\n",
       "      <td>8</td>\n",
       "    </tr>\n",
       "  </tbody>\n",
       "</table>\n",
       "</div>"
      ],
      "text/plain": [
       "  route_id  calitp_itp_id  route_dir_identifier shape_id longest_shape_id  \\\n",
       "0      001            208              58701248     1104             1104   \n",
       "1      001            208              58701248     1106             1104   \n",
       "\n",
       "   proportion_route_length  segment_sequence  \n",
       "0                      100                 8  \n",
       "1                       59                 8  "
      ]
     },
     "execution_count": 47,
     "metadata": {},
     "output_type": "execute_result"
    }
   ],
   "source": [
    "routelines_final_test.head(2)"
   ]
  },
  {
   "cell_type": "code",
   "execution_count": 48,
   "id": "2b56f8dc-01e2-4b03-b71d-3a76656cc646",
   "metadata": {},
   "outputs": [],
   "source": [
    "# Merge\n",
    "m2 = operator_4_metrics[\n",
    "    [\n",
    "        \"calitp_itp_id\",\n",
    "        \"trip_id\",\n",
    "        \"route_dir_identifier\",\n",
    "        \"number_of_segments\",\n",
    "        \"minutes_elapsed\",\n",
    "    ]\n",
    "].merge(\n",
    "    routelines_final_test,\n",
    "    how=\"inner\",\n",
    "    on=[\"calitp_itp_id\", \"route_dir_identifier\"],\n",
    ")"
   ]
  },
  {
   "cell_type": "code",
   "execution_count": 49,
   "id": "a6ba150c-5451-4e6e-8380-c8a2b76d7ec3",
   "metadata": {},
   "outputs": [
    {
     "data": {
      "text/plain": [
       "(5202, 7217)"
      ]
     },
     "execution_count": 49,
     "metadata": {},
     "output_type": "execute_result"
    }
   ],
   "source": [
    "len(operator_4_metrics), len(m2)"
   ]
  },
  {
   "cell_type": "code",
   "execution_count": 50,
   "id": "44f22bd6-f524-4c90-aa3e-d4e489d316a7",
   "metadata": {},
   "outputs": [],
   "source": [
    "# Drop some columns for now to check out\n",
    "# m2 = m2.drop(columns=[ \"actual_route_length\", \"longest_route_length\"])"
   ]
  },
  {
   "cell_type": "code",
   "execution_count": 51,
   "id": "b4b81857-fe11-4cc0-9270-ea5dc0af5f72",
   "metadata": {},
   "outputs": [],
   "source": [
    "# Find the total number of segments in the specific operator file\n",
    "# vs. what was recorded in `longest_shape`\n",
    "m2[\"segment_proportion\"] = ((m2.number_of_segments / m2.segment_sequence) * 100).astype(\n",
    "    \"int64\"\n",
    ")"
   ]
  },
  {
   "cell_type": "code",
   "execution_count": 52,
   "id": "f5ebc9a8-37f2-4314-a3a1-6ae1d05d24f8",
   "metadata": {
    "tags": []
   },
   "outputs": [
    {
     "data": {
      "text/html": [
       "<div>\n",
       "<style scoped>\n",
       "    .dataframe tbody tr th:only-of-type {\n",
       "        vertical-align: middle;\n",
       "    }\n",
       "\n",
       "    .dataframe tbody tr th {\n",
       "        vertical-align: top;\n",
       "    }\n",
       "\n",
       "    .dataframe thead th {\n",
       "        text-align: right;\n",
       "    }\n",
       "</style>\n",
       "<table border=\"1\" class=\"dataframe\">\n",
       "  <thead>\n",
       "    <tr style=\"text-align: right;\">\n",
       "      <th></th>\n",
       "      <th>calitp_itp_id</th>\n",
       "      <th>trip_id</th>\n",
       "      <th>route_dir_identifier</th>\n",
       "      <th>number_of_segments</th>\n",
       "      <th>minutes_elapsed</th>\n",
       "      <th>route_id</th>\n",
       "      <th>shape_id</th>\n",
       "      <th>longest_shape_id</th>\n",
       "      <th>proportion_route_length</th>\n",
       "      <th>segment_sequence</th>\n",
       "      <th>segment_proportion</th>\n",
       "    </tr>\n",
       "  </thead>\n",
       "  <tbody>\n",
       "    <tr>\n",
       "      <th>4408</th>\n",
       "      <td>4</td>\n",
       "      <td>10239020</td>\n",
       "      <td>2487841604</td>\n",
       "      <td>10</td>\n",
       "      <td>45.73</td>\n",
       "      <td>51B</td>\n",
       "      <td>shp-51B-16</td>\n",
       "      <td>shp-51B-16</td>\n",
       "      <td>100</td>\n",
       "      <td>10</td>\n",
       "      <td>100</td>\n",
       "    </tr>\n",
       "  </tbody>\n",
       "</table>\n",
       "</div>"
      ],
      "text/plain": [
       "      calitp_itp_id   trip_id  route_dir_identifier  number_of_segments  \\\n",
       "4408              4  10239020            2487841604                  10   \n",
       "\n",
       "      minutes_elapsed route_id    shape_id longest_shape_id  \\\n",
       "4408            45.73      51B  shp-51B-16       shp-51B-16   \n",
       "\n",
       "      proportion_route_length  segment_sequence  segment_proportion  \n",
       "4408                      100                10                 100  "
      ]
     },
     "execution_count": 52,
     "metadata": {},
     "output_type": "execute_result"
    }
   ],
   "source": [
    "m2.sample()"
   ]
  },
  {
   "cell_type": "code",
   "execution_count": 53,
   "id": "8df2648e-fcba-47f5-a356-46b63827ab3b",
   "metadata": {},
   "outputs": [
    {
     "data": {
      "text/plain": [
       "100    5971\n",
       "94      269\n",
       "54      144\n",
       "90      116\n",
       "50      113\n",
       "Name: segment_proportion, dtype: int64"
      ]
     },
     "execution_count": 53,
     "metadata": {},
     "output_type": "execute_result"
    }
   ],
   "source": [
    "m2.segment_proportion.value_counts().head()"
   ]
  },
  {
   "cell_type": "markdown",
   "id": "3a81f5c1-68ae-48de-ace3-73a74490063e",
   "metadata": {},
   "source": [
    "##### Help.  Why is for 1244740981 not yielding any results, even in the original dataframe?\n",
    "* 2 more route ids when filtering out the `routelines_final` df for ITP ID 4 compared with the `vp_sjoin/vp_segment_4`\n",
    "* Wondering why that is."
   ]
  },
  {
   "cell_type": "code",
   "execution_count": 54,
   "id": "c98aeb4a-2374-4032-bed5-3fa2d28e06aa",
   "metadata": {},
   "outputs": [
    {
     "data": {
      "text/html": [
       "<div>\n",
       "<style scoped>\n",
       "    .dataframe tbody tr th:only-of-type {\n",
       "        vertical-align: middle;\n",
       "    }\n",
       "\n",
       "    .dataframe tbody tr th {\n",
       "        vertical-align: top;\n",
       "    }\n",
       "\n",
       "    .dataframe thead th {\n",
       "        text-align: right;\n",
       "    }\n",
       "</style>\n",
       "<table border=\"1\" class=\"dataframe\">\n",
       "  <thead>\n",
       "    <tr style=\"text-align: right;\">\n",
       "      <th></th>\n",
       "      <th>calitp_itp_id</th>\n",
       "      <th>trip_id</th>\n",
       "      <th>route_dir_identifier</th>\n",
       "      <th>number_of_segments</th>\n",
       "      <th>minutes_elapsed</th>\n",
       "      <th>route_id</th>\n",
       "      <th>shape_id</th>\n",
       "      <th>longest_shape_id</th>\n",
       "      <th>proportion_route_length</th>\n",
       "      <th>segment_sequence</th>\n",
       "      <th>segment_proportion</th>\n",
       "    </tr>\n",
       "  </thead>\n",
       "  <tbody>\n",
       "  </tbody>\n",
       "</table>\n",
       "</div>"
      ],
      "text/plain": [
       "Empty DataFrame\n",
       "Columns: [calitp_itp_id, trip_id, route_dir_identifier, number_of_segments, minutes_elapsed, route_id, shape_id, longest_shape_id, proportion_route_length, segment_sequence, segment_proportion]\n",
       "Index: []"
      ]
     },
     "execution_count": 54,
     "metadata": {},
     "output_type": "execute_result"
    }
   ],
   "source": [
    "m2.loc[m2.route_id == \"U\"]"
   ]
  },
  {
   "cell_type": "markdown",
   "id": "9c73e8f5-a58f-45bf-a4c7-674f2082e628",
   "metadata": {
    "tags": []
   },
   "source": [
    "##### Help. Other Questions\n",
    "* Why are there different shape ids for the same route trip and route_dir_identifier? \n",
    "* Why would all these segments be missing if the route length is 100% "
   ]
  },
  {
   "cell_type": "code",
   "execution_count": 55,
   "id": "d4ac4d75-b29d-436b-bb8d-d92638f9fec9",
   "metadata": {
    "tags": []
   },
   "outputs": [
    {
     "data": {
      "text/html": [
       "<div>\n",
       "<style scoped>\n",
       "    .dataframe tbody tr th:only-of-type {\n",
       "        vertical-align: middle;\n",
       "    }\n",
       "\n",
       "    .dataframe tbody tr th {\n",
       "        vertical-align: top;\n",
       "    }\n",
       "\n",
       "    .dataframe thead th {\n",
       "        text-align: right;\n",
       "    }\n",
       "</style>\n",
       "<table border=\"1\" class=\"dataframe\">\n",
       "  <thead>\n",
       "    <tr style=\"text-align: right;\">\n",
       "      <th></th>\n",
       "      <th>calitp_itp_id</th>\n",
       "      <th>trip_id</th>\n",
       "      <th>route_dir_identifier</th>\n",
       "      <th>number_of_segments</th>\n",
       "      <th>minutes_elapsed</th>\n",
       "      <th>route_id</th>\n",
       "      <th>shape_id</th>\n",
       "      <th>longest_shape_id</th>\n",
       "      <th>proportion_route_length</th>\n",
       "      <th>segment_sequence</th>\n",
       "      <th>segment_proportion</th>\n",
       "    </tr>\n",
       "  </thead>\n",
       "  <tbody>\n",
       "    <tr>\n",
       "      <th>4297</th>\n",
       "      <td>4</td>\n",
       "      <td>9281020</td>\n",
       "      <td>4105021223</td>\n",
       "      <td>16</td>\n",
       "      <td>53.90</td>\n",
       "      <td>1T</td>\n",
       "      <td>shp-1T-06</td>\n",
       "      <td>shp-1T-04</td>\n",
       "      <td>94</td>\n",
       "      <td>17</td>\n",
       "      <td>94</td>\n",
       "    </tr>\n",
       "    <tr>\n",
       "      <th>4168</th>\n",
       "      <td>4</td>\n",
       "      <td>4370020</td>\n",
       "      <td>4105021223</td>\n",
       "      <td>16</td>\n",
       "      <td>55.33</td>\n",
       "      <td>1T</td>\n",
       "      <td>shp-1T-06</td>\n",
       "      <td>shp-1T-04</td>\n",
       "      <td>94</td>\n",
       "      <td>17</td>\n",
       "      <td>94</td>\n",
       "    </tr>\n",
       "    <tr>\n",
       "      <th>4044</th>\n",
       "      <td>4</td>\n",
       "      <td>11976020</td>\n",
       "      <td>4105021223</td>\n",
       "      <td>16</td>\n",
       "      <td>56.87</td>\n",
       "      <td>1T</td>\n",
       "      <td>shp-1T-05</td>\n",
       "      <td>shp-1T-04</td>\n",
       "      <td>94</td>\n",
       "      <td>17</td>\n",
       "      <td>94</td>\n",
       "    </tr>\n",
       "    <tr>\n",
       "      <th>4229</th>\n",
       "      <td>4</td>\n",
       "      <td>6714020</td>\n",
       "      <td>4105021223</td>\n",
       "      <td>16</td>\n",
       "      <td>59.13</td>\n",
       "      <td>1T</td>\n",
       "      <td>shp-1T-04</td>\n",
       "      <td>shp-1T-04</td>\n",
       "      <td>100</td>\n",
       "      <td>17</td>\n",
       "      <td>94</td>\n",
       "    </tr>\n",
       "    <tr>\n",
       "      <th>4079</th>\n",
       "      <td>4</td>\n",
       "      <td>13484020</td>\n",
       "      <td>4105021223</td>\n",
       "      <td>17</td>\n",
       "      <td>40.32</td>\n",
       "      <td>1T</td>\n",
       "      <td>shp-1T-04</td>\n",
       "      <td>shp-1T-04</td>\n",
       "      <td>100</td>\n",
       "      <td>17</td>\n",
       "      <td>100</td>\n",
       "    </tr>\n",
       "  </tbody>\n",
       "</table>\n",
       "</div>"
      ],
      "text/plain": [
       "      calitp_itp_id   trip_id  route_dir_identifier  number_of_segments  \\\n",
       "4297              4   9281020            4105021223                  16   \n",
       "4168              4   4370020            4105021223                  16   \n",
       "4044              4  11976020            4105021223                  16   \n",
       "4229              4   6714020            4105021223                  16   \n",
       "4079              4  13484020            4105021223                  17   \n",
       "\n",
       "      minutes_elapsed route_id   shape_id longest_shape_id  \\\n",
       "4297            53.90       1T  shp-1T-06        shp-1T-04   \n",
       "4168            55.33       1T  shp-1T-06        shp-1T-04   \n",
       "4044            56.87       1T  shp-1T-05        shp-1T-04   \n",
       "4229            59.13       1T  shp-1T-04        shp-1T-04   \n",
       "4079            40.32       1T  shp-1T-04        shp-1T-04   \n",
       "\n",
       "      proportion_route_length  segment_sequence  segment_proportion  \n",
       "4297                       94                17                  94  \n",
       "4168                       94                17                  94  \n",
       "4044                       94                17                  94  \n",
       "4229                      100                17                  94  \n",
       "4079                      100                17                 100  "
      ]
     },
     "execution_count": 55,
     "metadata": {},
     "output_type": "execute_result"
    }
   ],
   "source": [
    "m2.loc[m2.route_dir_identifier == 4105021223].sample(5)"
   ]
  },
  {
   "cell_type": "code",
   "execution_count": 56,
   "id": "9d6a2218-8508-4b45-be3d-391501e84f4d",
   "metadata": {},
   "outputs": [
    {
     "data": {
      "text/html": [
       "<div>\n",
       "<style scoped>\n",
       "    .dataframe tbody tr th:only-of-type {\n",
       "        vertical-align: middle;\n",
       "    }\n",
       "\n",
       "    .dataframe tbody tr th {\n",
       "        vertical-align: top;\n",
       "    }\n",
       "\n",
       "    .dataframe thead th {\n",
       "        text-align: right;\n",
       "    }\n",
       "</style>\n",
       "<table border=\"1\" class=\"dataframe\">\n",
       "  <thead>\n",
       "    <tr style=\"text-align: right;\">\n",
       "      <th></th>\n",
       "      <th>calitp_itp_id</th>\n",
       "      <th>trip_id</th>\n",
       "      <th>route_dir_identifier</th>\n",
       "      <th>number_of_segments</th>\n",
       "      <th>minutes_elapsed</th>\n",
       "      <th>route_id</th>\n",
       "      <th>shape_id</th>\n",
       "      <th>longest_shape_id</th>\n",
       "      <th>proportion_route_length</th>\n",
       "      <th>segment_sequence</th>\n",
       "      <th>segment_proportion</th>\n",
       "    </tr>\n",
       "  </thead>\n",
       "  <tbody>\n",
       "    <tr>\n",
       "      <th>4223</th>\n",
       "      <td>4</td>\n",
       "      <td>6566020</td>\n",
       "      <td>4105021223</td>\n",
       "      <td>1</td>\n",
       "      <td>46.17</td>\n",
       "      <td>1T</td>\n",
       "      <td>shp-1T-04</td>\n",
       "      <td>shp-1T-04</td>\n",
       "      <td>100</td>\n",
       "      <td>17</td>\n",
       "      <td>5</td>\n",
       "    </tr>\n",
       "    <tr>\n",
       "      <th>4224</th>\n",
       "      <td>4</td>\n",
       "      <td>6566020</td>\n",
       "      <td>4105021223</td>\n",
       "      <td>1</td>\n",
       "      <td>46.17</td>\n",
       "      <td>1T</td>\n",
       "      <td>shp-1T-05</td>\n",
       "      <td>shp-1T-04</td>\n",
       "      <td>94</td>\n",
       "      <td>17</td>\n",
       "      <td>5</td>\n",
       "    </tr>\n",
       "    <tr>\n",
       "      <th>4225</th>\n",
       "      <td>4</td>\n",
       "      <td>6566020</td>\n",
       "      <td>4105021223</td>\n",
       "      <td>1</td>\n",
       "      <td>46.17</td>\n",
       "      <td>1T</td>\n",
       "      <td>shp-1T-06</td>\n",
       "      <td>shp-1T-04</td>\n",
       "      <td>94</td>\n",
       "      <td>17</td>\n",
       "      <td>5</td>\n",
       "    </tr>\n",
       "  </tbody>\n",
       "</table>\n",
       "</div>"
      ],
      "text/plain": [
       "      calitp_itp_id  trip_id  route_dir_identifier  number_of_segments  \\\n",
       "4223              4  6566020            4105021223                   1   \n",
       "4224              4  6566020            4105021223                   1   \n",
       "4225              4  6566020            4105021223                   1   \n",
       "\n",
       "      minutes_elapsed route_id   shape_id longest_shape_id  \\\n",
       "4223            46.17       1T  shp-1T-04        shp-1T-04   \n",
       "4224            46.17       1T  shp-1T-05        shp-1T-04   \n",
       "4225            46.17       1T  shp-1T-06        shp-1T-04   \n",
       "\n",
       "      proportion_route_length  segment_sequence  segment_proportion  \n",
       "4223                      100                17                   5  \n",
       "4224                       94                17                   5  \n",
       "4225                       94                17                   5  "
      ]
     },
     "execution_count": 56,
     "metadata": {},
     "output_type": "execute_result"
    }
   ],
   "source": [
    "m2.loc[m2.trip_id == \"6566020\"]"
   ]
  },
  {
   "cell_type": "code",
   "execution_count": 57,
   "id": "b343ad65-01e9-4950-894b-7a95df8e1e23",
   "metadata": {},
   "outputs": [
    {
     "data": {
      "text/html": [
       "<div>\n",
       "<style scoped>\n",
       "    .dataframe tbody tr th:only-of-type {\n",
       "        vertical-align: middle;\n",
       "    }\n",
       "\n",
       "    .dataframe tbody tr th {\n",
       "        vertical-align: top;\n",
       "    }\n",
       "\n",
       "    .dataframe thead th {\n",
       "        text-align: right;\n",
       "    }\n",
       "</style>\n",
       "<table border=\"1\" class=\"dataframe\">\n",
       "  <thead>\n",
       "    <tr style=\"text-align: right;\">\n",
       "      <th></th>\n",
       "      <th>calitp_itp_id</th>\n",
       "      <th>calitp_url_number</th>\n",
       "      <th>vehicle_timestamp</th>\n",
       "      <th>trip_id</th>\n",
       "      <th>route_dir_identifier</th>\n",
       "      <th>segment_sequence</th>\n",
       "      <th>lon</th>\n",
       "      <th>lat</th>\n",
       "    </tr>\n",
       "  </thead>\n",
       "  <tbody>\n",
       "    <tr>\n",
       "      <th>21089</th>\n",
       "      <td>4</td>\n",
       "      <td>0</td>\n",
       "      <td>2022-10-12 11:38:34</td>\n",
       "      <td>6566020</td>\n",
       "      <td>4105021223</td>\n",
       "      <td>0</td>\n",
       "      <td>-190130.83</td>\n",
       "      <td>-30605.36</td>\n",
       "    </tr>\n",
       "    <tr>\n",
       "      <th>21090</th>\n",
       "      <td>4</td>\n",
       "      <td>0</td>\n",
       "      <td>2022-10-12 11:39:04</td>\n",
       "      <td>6566020</td>\n",
       "      <td>4105021223</td>\n",
       "      <td>0</td>\n",
       "      <td>-190130.83</td>\n",
       "      <td>-30605.36</td>\n",
       "    </tr>\n",
       "    <tr>\n",
       "      <th>21091</th>\n",
       "      <td>4</td>\n",
       "      <td>0</td>\n",
       "      <td>2022-10-12 11:39:34</td>\n",
       "      <td>6566020</td>\n",
       "      <td>4105021223</td>\n",
       "      <td>0</td>\n",
       "      <td>-190130.83</td>\n",
       "      <td>-30605.36</td>\n",
       "    </tr>\n",
       "    <tr>\n",
       "      <th>21092</th>\n",
       "      <td>4</td>\n",
       "      <td>0</td>\n",
       "      <td>2022-10-12 11:39:50</td>\n",
       "      <td>6566020</td>\n",
       "      <td>4105021223</td>\n",
       "      <td>0</td>\n",
       "      <td>-190130.83</td>\n",
       "      <td>-30605.36</td>\n",
       "    </tr>\n",
       "    <tr>\n",
       "      <th>21093</th>\n",
       "      <td>4</td>\n",
       "      <td>0</td>\n",
       "      <td>2022-10-12 11:40:05</td>\n",
       "      <td>6566020</td>\n",
       "      <td>4105021223</td>\n",
       "      <td>0</td>\n",
       "      <td>-190130.83</td>\n",
       "      <td>-30605.36</td>\n",
       "    </tr>\n",
       "  </tbody>\n",
       "</table>\n",
       "</div>"
      ],
      "text/plain": [
       "       calitp_itp_id  calitp_url_number   vehicle_timestamp  trip_id  \\\n",
       "21089              4                  0 2022-10-12 11:38:34  6566020   \n",
       "21090              4                  0 2022-10-12 11:39:04  6566020   \n",
       "21091              4                  0 2022-10-12 11:39:34  6566020   \n",
       "21092              4                  0 2022-10-12 11:39:50  6566020   \n",
       "21093              4                  0 2022-10-12 11:40:05  6566020   \n",
       "\n",
       "       route_dir_identifier segment_sequence        lon       lat  \n",
       "21089            4105021223                0 -190130.83 -30605.36  \n",
       "21090            4105021223                0 -190130.83 -30605.36  \n",
       "21091            4105021223                0 -190130.83 -30605.36  \n",
       "21092            4105021223                0 -190130.83 -30605.36  \n",
       "21093            4105021223                0 -190130.83 -30605.36  "
      ]
     },
     "execution_count": 57,
     "metadata": {},
     "output_type": "execute_result"
    }
   ],
   "source": [
    "operator_4.loc[operator_4.trip_id == \"6566020\"].head()"
   ]
  },
  {
   "cell_type": "code",
   "execution_count": 58,
   "id": "4f754700-966f-4367-bf38-1f08509ee8a6",
   "metadata": {},
   "outputs": [
    {
     "data": {
      "text/html": [
       "<div>\n",
       "<style scoped>\n",
       "    .dataframe tbody tr th:only-of-type {\n",
       "        vertical-align: middle;\n",
       "    }\n",
       "\n",
       "    .dataframe tbody tr th {\n",
       "        vertical-align: top;\n",
       "    }\n",
       "\n",
       "    .dataframe thead th {\n",
       "        text-align: right;\n",
       "    }\n",
       "</style>\n",
       "<table border=\"1\" class=\"dataframe\">\n",
       "  <thead>\n",
       "    <tr style=\"text-align: right;\">\n",
       "      <th></th>\n",
       "      <th>calitp_itp_id</th>\n",
       "      <th>trip_id</th>\n",
       "      <th>route_dir_identifier</th>\n",
       "      <th>start</th>\n",
       "      <th>end</th>\n",
       "      <th>number_of_segments</th>\n",
       "      <th>minutes_elapsed</th>\n",
       "    </tr>\n",
       "  </thead>\n",
       "  <tbody>\n",
       "    <tr>\n",
       "      <th>3852</th>\n",
       "      <td>4</td>\n",
       "      <td>6566020</td>\n",
       "      <td>4105021223</td>\n",
       "      <td>2022-10-12 11:38:34</td>\n",
       "      <td>2022-10-12 12:24:44</td>\n",
       "      <td>1</td>\n",
       "      <td>46.17</td>\n",
       "    </tr>\n",
       "  </tbody>\n",
       "</table>\n",
       "</div>"
      ],
      "text/plain": [
       "      calitp_itp_id  trip_id  route_dir_identifier               start  \\\n",
       "3852              4  6566020            4105021223 2022-10-12 11:38:34   \n",
       "\n",
       "                     end  number_of_segments  minutes_elapsed  \n",
       "3852 2022-10-12 12:24:44                   1            46.17  "
      ]
     },
     "execution_count": 58,
     "metadata": {},
     "output_type": "execute_result"
    }
   ],
   "source": [
    "operator_4_metrics.loc[operator_4_metrics.trip_id == \"6566020\"]"
   ]
  },
  {
   "cell_type": "code",
   "execution_count": 59,
   "id": "c4882b64-c753-4d6c-857f-82b3625f44f8",
   "metadata": {
    "scrolled": true,
    "tags": []
   },
   "outputs": [],
   "source": [
    "# Can't find 1244740981 in this list.\n",
    "# operator_4.route_dir_identifier.unique().tolist()"
   ]
  },
  {
   "cell_type": "code",
   "execution_count": 60,
   "id": "cc96cc89-3c0a-444d-b7a7-128c3da90030",
   "metadata": {},
   "outputs": [
    {
     "data": {
      "text/plain": [
       "route_id    129\n",
       "dtype: int64"
      ]
     },
     "execution_count": 60,
     "metadata": {},
     "output_type": "execute_result"
    }
   ],
   "source": [
    "# Total route ids using longest_shape/trips/routelines.\n",
    "routelines_final.loc[routelines_final.calitp_itp_id == 4][[\"route_id\"]].nunique()"
   ]
  },
  {
   "cell_type": "code",
   "execution_count": 61,
   "id": "73385a6a-71b8-46ad-a8f8-1ad1cb2d2d57",
   "metadata": {},
   "outputs": [
    {
     "data": {
      "text/plain": [
       "127"
      ]
     },
     "execution_count": 61,
     "metadata": {},
     "output_type": "execute_result"
    }
   ],
   "source": [
    "m2.route_id.nunique()"
   ]
  },
  {
   "cell_type": "code",
   "execution_count": 62,
   "id": "6100b941-6025-4a6c-a982-634392c40bee",
   "metadata": {
    "scrolled": true,
    "tags": []
   },
   "outputs": [],
   "source": [
    "merged_routeid = set(m2.route_id.unique().tolist())"
   ]
  },
  {
   "cell_type": "code",
   "execution_count": 63,
   "id": "9b571d5d-0cba-4a67-addb-b37af57b23a2",
   "metadata": {
    "scrolled": true,
    "tags": []
   },
   "outputs": [],
   "source": [
    "routelines_routeid = set(routelines_final.route_id.unique().tolist())"
   ]
  },
  {
   "cell_type": "code",
   "execution_count": 64,
   "id": "56efe490-a7e7-4c58-bdfb-ae97e130efb4",
   "metadata": {
    "tags": []
   },
   "outputs": [
    {
     "data": {
      "text/plain": [
       "set()"
      ]
     },
     "execution_count": 64,
     "metadata": {},
     "output_type": "execute_result"
    }
   ],
   "source": [
    "merged_routeid - routelines_routeid"
   ]
  },
  {
   "cell_type": "code",
   "execution_count": 65,
   "id": "c065e394-fa4c-4ed1-b216-7148efd606c3",
   "metadata": {
    "scrolled": true,
    "tags": []
   },
   "outputs": [],
   "source": [
    "# routelines_routeid - merged_routeid"
   ]
  },
  {
   "cell_type": "markdown",
   "id": "26707fcb-68f7-4f5a-8b4c-8f7220d40900",
   "metadata": {},
   "source": [
    "### Ask\n",
    "Github\n",
    "* For each operator, what's the % of RT trip_ids that would remain after those thresholds are used? Make a chart function that takes a single operator. Produce charts for all operators. Is the time or geographic coverage that's driving this excluding of trips? What is a recommended threshold to use?\n",
    "* For short trips, do they tend to be 50% of the longest route length? 40% 30%? \n",
    "\n",
    "Meeting\n",
    "* Filter out for trips that provide useful information before attaching segments to it. \n",
    "* How many shape ID's for that route are usable? \n",
    "* What's the typical threshold of the actual length of the route versus the longest length we have on record?\n",
    "* Example: How many 10 minute unique trip IDs will remain and segments will remain after filtering ones that don't provide insights?\n",
    "* % of segments that actually show up reflects how much of a trip was recorded in GTFS. "
   ]
  },
  {
   "cell_type": "code",
   "execution_count": 66,
   "id": "e0c987b0-43eb-43e2-8bae-5ddb1454b3d3",
   "metadata": {},
   "outputs": [
    {
     "data": {
      "text/plain": [
       "7217"
      ]
     },
     "execution_count": 66,
     "metadata": {},
     "output_type": "execute_result"
    }
   ],
   "source": [
    "len(m2)"
   ]
  },
  {
   "cell_type": "code",
   "execution_count": 67,
   "id": "4441580b-1bf1-4a51-aaad-8d2af7cd62d1",
   "metadata": {},
   "outputs": [
    {
     "data": {
      "text/plain": [
       "100   72.34\n",
       "94     2.88\n",
       "51     2.79\n",
       "121    1.76\n",
       "33     1.48\n",
       "111    1.41\n",
       "48     1.33\n",
       "83     1.25\n",
       "206    1.11\n",
       "507    1.11\n",
       "77     0.94\n",
       "81     0.93\n",
       "204    0.87\n",
       "147    0.87\n",
       "466    0.79\n",
       "Name: proportion_route_length, dtype: float64"
      ]
     },
     "execution_count": 67,
     "metadata": {},
     "output_type": "execute_result"
    }
   ],
   "source": [
    "(m2.proportion_route_length.value_counts() / len(m2) * 100).head(15)"
   ]
  },
  {
   "cell_type": "code",
   "execution_count": 68,
   "id": "40071754-83b2-42ce-86c4-4cff85c67a63",
   "metadata": {
    "tags": []
   },
   "outputs": [
    {
     "data": {
      "text/plain": [
       "100   82.74\n",
       "94     3.73\n",
       "54     2.00\n",
       "90     1.61\n",
       "50     1.57\n",
       "95     1.30\n",
       "93     0.53\n",
       "80     0.53\n",
       "91     0.48\n",
       "88     0.48\n",
       "87     0.29\n",
       "73     0.26\n",
       "96     0.25\n",
       "75     0.24\n",
       "86     0.22\n",
       "Name: segment_proportion, dtype: float64"
      ]
     },
     "execution_count": 68,
     "metadata": {},
     "output_type": "execute_result"
    }
   ],
   "source": [
    "(m2.segment_proportion.value_counts() / len(m2) * 100).head(15)"
   ]
  },
  {
   "cell_type": "code",
   "execution_count": 69,
   "id": "40e87845-6b6e-4e6c-8b16-0f4c9ff1745e",
   "metadata": {},
   "outputs": [
    {
     "data": {
      "text/plain": [
       "count   7217.00\n",
       "mean      91.35\n",
       "std      235.41\n",
       "min        0.17\n",
       "25%       37.18\n",
       "50%       52.32\n",
       "75%       66.35\n",
       "max     1531.98\n",
       "Name: minutes_elapsed, dtype: float64"
      ]
     },
     "execution_count": 69,
     "metadata": {},
     "output_type": "execute_result"
    }
   ],
   "source": [
    "m2.minutes_elapsed.describe()"
   ]
  },
  {
   "cell_type": "code",
   "execution_count": 70,
   "id": "8037b58d-63a0-4894-bf7d-0e43415c2298",
   "metadata": {},
   "outputs": [],
   "source": [
    "p25_time = m2.minutes_elapsed.quantile(0.25).astype(int)\n",
    "p50_time = m2.minutes_elapsed.quantile(0.50).astype(int)\n",
    "p75_time = m2.minutes_elapsed.quantile(0.75).astype(int)"
   ]
  },
  {
   "cell_type": "code",
   "execution_count": 71,
   "id": "6da4e978-6ec9-490a-9f02-d2b655fc9ecf",
   "metadata": {},
   "outputs": [],
   "source": [
    "def trip_duration(row):\n",
    "    if (row.minutes_elapsed > 0) and (row.minutes_elapsed <= p25_time):\n",
    "        return f\"Short Trip <= {p25_time} min\"\n",
    "    elif (row.minutes_elapsed > p25_time) and (row.minutes_elapsed <= p75_time):\n",
    "        return f\"Medium Trip <= {p75_time} min\"\n",
    "    else:\n",
    "        return f\"Long Trip > {p75_time} min\""
   ]
  },
  {
   "cell_type": "code",
   "execution_count": 72,
   "id": "dbefc934-cc4c-4964-85a0-cf71357683f6",
   "metadata": {},
   "outputs": [],
   "source": [
    "m2[\"trip_duration_categories\"] = m2.apply(lambda x: trip_duration(x), axis=1)"
   ]
  },
  {
   "cell_type": "code",
   "execution_count": 73,
   "id": "570d529d-0fe3-4905-9901-b8f97ce77364",
   "metadata": {},
   "outputs": [
    {
     "data": {
      "text/plain": [
       "Medium Trip <= 66 min    3595\n",
       "Long Trip > 66 min       1833\n",
       "Short Trip <= 37 min     1789\n",
       "Name: trip_duration_categories, dtype: int64"
      ]
     },
     "execution_count": 73,
     "metadata": {},
     "output_type": "execute_result"
    }
   ],
   "source": [
    "m2.trip_duration_categories.value_counts()"
   ]
  },
  {
   "cell_type": "code",
   "execution_count": 74,
   "id": "38a4b6d7-98a5-4edb-8ddd-be2e371cfeda",
   "metadata": {},
   "outputs": [],
   "source": [
    "test = m2.loc[m2.segment_proportion < 100][[\"segment_proportion\"]]"
   ]
  },
  {
   "cell_type": "code",
   "execution_count": 75,
   "id": "2589195f-c00a-464c-b066-90325d54a76b",
   "metadata": {},
   "outputs": [
    {
     "data": {
      "text/html": [
       "<div>\n",
       "<style scoped>\n",
       "    .dataframe tbody tr th:only-of-type {\n",
       "        vertical-align: middle;\n",
       "    }\n",
       "\n",
       "    .dataframe tbody tr th {\n",
       "        vertical-align: top;\n",
       "    }\n",
       "\n",
       "    .dataframe thead th {\n",
       "        text-align: right;\n",
       "    }\n",
       "</style>\n",
       "<table border=\"1\" class=\"dataframe\">\n",
       "  <thead>\n",
       "    <tr style=\"text-align: right;\">\n",
       "      <th></th>\n",
       "      <th>segment_proportion</th>\n",
       "    </tr>\n",
       "  </thead>\n",
       "  <tbody>\n",
       "    <tr>\n",
       "      <th>count</th>\n",
       "      <td>1246.00</td>\n",
       "    </tr>\n",
       "    <tr>\n",
       "      <th>mean</th>\n",
       "      <td>74.98</td>\n",
       "    </tr>\n",
       "    <tr>\n",
       "      <th>std</th>\n",
       "      <td>22.53</td>\n",
       "    </tr>\n",
       "    <tr>\n",
       "      <th>min</th>\n",
       "      <td>3.00</td>\n",
       "    </tr>\n",
       "    <tr>\n",
       "      <th>25%</th>\n",
       "      <td>54.00</td>\n",
       "    </tr>\n",
       "    <tr>\n",
       "      <th>50%</th>\n",
       "      <td>88.00</td>\n",
       "    </tr>\n",
       "    <tr>\n",
       "      <th>75%</th>\n",
       "      <td>94.00</td>\n",
       "    </tr>\n",
       "    <tr>\n",
       "      <th>max</th>\n",
       "      <td>98.00</td>\n",
       "    </tr>\n",
       "  </tbody>\n",
       "</table>\n",
       "</div>"
      ],
      "text/plain": [
       "       segment_proportion\n",
       "count             1246.00\n",
       "mean                74.98\n",
       "std                 22.53\n",
       "min                  3.00\n",
       "25%                 54.00\n",
       "50%                 88.00\n",
       "75%                 94.00\n",
       "max                 98.00"
      ]
     },
     "execution_count": 75,
     "metadata": {},
     "output_type": "execute_result"
    }
   ],
   "source": [
    "test.describe()"
   ]
  },
  {
   "cell_type": "code",
   "execution_count": 76,
   "id": "271ba605-3759-438d-ae48-7e35f9fff25a",
   "metadata": {},
   "outputs": [],
   "source": [
    "p25_length = test.segment_proportion.quantile(0.25).astype(int)\n",
    "p75_length = test.segment_proportion.quantile(0.75).astype(int)"
   ]
  },
  {
   "cell_type": "markdown",
   "id": "b5f16185-5bec-4153-8c84-b1922493ca55",
   "metadata": {},
   "source": [
    "* Flag what's usable\n",
    "* Need two aggregatiosn, one for trips that are usable, one for shape_ids."
   ]
  },
  {
   "cell_type": "code",
   "execution_count": 77,
   "id": "56770e74-7b5b-4978-87a7-6e6234940f44",
   "metadata": {},
   "outputs": [],
   "source": [
    "def shape_id_comparison(row):\n",
    "    if (row.segment_proportion > 0) and (row.segment_proportion <= p25_length):\n",
    "        return f\" <={p25_length}% of segments appear\"\n",
    "    elif (row.segment_proportion > p25_length) and (\n",
    "        row.segment_proportion <= p75_length\n",
    "    ):\n",
    "        return f\"<= {p75_length}% of segments appear\"\n",
    "    else:\n",
    "        return f\">= {p75_length}% of segments appear\""
   ]
  },
  {
   "cell_type": "code",
   "execution_count": 78,
   "id": "9cfacf3f-38a5-4ed3-9974-0e5ced53aaa1",
   "metadata": {},
   "outputs": [],
   "source": [
    "m2[\"shapeid_vs_longest_shapeid_length\"] = m2.apply(\n",
    "    lambda x: shape_id_comparison(x), axis=1\n",
    ")"
   ]
  },
  {
   "cell_type": "code",
   "execution_count": 79,
   "id": "5b45cd81-7560-4605-b147-ac523e83d890",
   "metadata": {},
   "outputs": [
    {
     "data": {
      "text/plain": [
       ">= 94% of segments appear    6093\n",
       "<= 94% of segments appear     740\n",
       " <=54% of segments appear     384\n",
       "Name: shapeid_vs_longest_shapeid_length, dtype: int64"
      ]
     },
     "execution_count": 79,
     "metadata": {},
     "output_type": "execute_result"
    }
   ],
   "source": [
    "m2.shapeid_vs_longest_shapeid_length.value_counts()"
   ]
  },
  {
   "cell_type": "code",
   "execution_count": 80,
   "id": "3c224f89-3bd7-4c7c-ae46-bd33c27cd1e0",
   "metadata": {},
   "outputs": [
    {
     "data": {
      "text/html": [
       "<div>\n",
       "<style scoped>\n",
       "    .dataframe tbody tr th:only-of-type {\n",
       "        vertical-align: middle;\n",
       "    }\n",
       "\n",
       "    .dataframe tbody tr th {\n",
       "        vertical-align: top;\n",
       "    }\n",
       "\n",
       "    .dataframe thead th {\n",
       "        text-align: right;\n",
       "    }\n",
       "</style>\n",
       "<table border=\"1\" class=\"dataframe\">\n",
       "  <thead>\n",
       "    <tr style=\"text-align: right;\">\n",
       "      <th></th>\n",
       "      <th>calitp_itp_id</th>\n",
       "      <th>trip_id</th>\n",
       "      <th>route_dir_identifier</th>\n",
       "      <th>number_of_segments</th>\n",
       "      <th>minutes_elapsed</th>\n",
       "      <th>route_id</th>\n",
       "      <th>shape_id</th>\n",
       "      <th>longest_shape_id</th>\n",
       "      <th>proportion_route_length</th>\n",
       "      <th>segment_sequence</th>\n",
       "      <th>segment_proportion</th>\n",
       "      <th>trip_duration_categories</th>\n",
       "      <th>shapeid_vs_longest_shapeid_length</th>\n",
       "    </tr>\n",
       "  </thead>\n",
       "  <tbody>\n",
       "    <tr>\n",
       "      <th>4223</th>\n",
       "      <td>4</td>\n",
       "      <td>6566020</td>\n",
       "      <td>4105021223</td>\n",
       "      <td>1</td>\n",
       "      <td>46.17</td>\n",
       "      <td>1T</td>\n",
       "      <td>shp-1T-04</td>\n",
       "      <td>shp-1T-04</td>\n",
       "      <td>100</td>\n",
       "      <td>17</td>\n",
       "      <td>5</td>\n",
       "      <td>Medium Trip &lt;= 66 min</td>\n",
       "      <td>&lt;=54% of segments appear</td>\n",
       "    </tr>\n",
       "    <tr>\n",
       "      <th>4224</th>\n",
       "      <td>4</td>\n",
       "      <td>6566020</td>\n",
       "      <td>4105021223</td>\n",
       "      <td>1</td>\n",
       "      <td>46.17</td>\n",
       "      <td>1T</td>\n",
       "      <td>shp-1T-05</td>\n",
       "      <td>shp-1T-04</td>\n",
       "      <td>94</td>\n",
       "      <td>17</td>\n",
       "      <td>5</td>\n",
       "      <td>Medium Trip &lt;= 66 min</td>\n",
       "      <td>&lt;=54% of segments appear</td>\n",
       "    </tr>\n",
       "    <tr>\n",
       "      <th>4225</th>\n",
       "      <td>4</td>\n",
       "      <td>6566020</td>\n",
       "      <td>4105021223</td>\n",
       "      <td>1</td>\n",
       "      <td>46.17</td>\n",
       "      <td>1T</td>\n",
       "      <td>shp-1T-06</td>\n",
       "      <td>shp-1T-04</td>\n",
       "      <td>94</td>\n",
       "      <td>17</td>\n",
       "      <td>5</td>\n",
       "      <td>Medium Trip &lt;= 66 min</td>\n",
       "      <td>&lt;=54% of segments appear</td>\n",
       "    </tr>\n",
       "  </tbody>\n",
       "</table>\n",
       "</div>"
      ],
      "text/plain": [
       "      calitp_itp_id  trip_id  route_dir_identifier  number_of_segments  \\\n",
       "4223              4  6566020            4105021223                   1   \n",
       "4224              4  6566020            4105021223                   1   \n",
       "4225              4  6566020            4105021223                   1   \n",
       "\n",
       "      minutes_elapsed route_id   shape_id longest_shape_id  \\\n",
       "4223            46.17       1T  shp-1T-04        shp-1T-04   \n",
       "4224            46.17       1T  shp-1T-05        shp-1T-04   \n",
       "4225            46.17       1T  shp-1T-06        shp-1T-04   \n",
       "\n",
       "      proportion_route_length  segment_sequence  segment_proportion  \\\n",
       "4223                      100                17                   5   \n",
       "4224                       94                17                   5   \n",
       "4225                       94                17                   5   \n",
       "\n",
       "     trip_duration_categories shapeid_vs_longest_shapeid_length  \n",
       "4223    Medium Trip <= 66 min          <=54% of segments appear  \n",
       "4224    Medium Trip <= 66 min          <=54% of segments appear  \n",
       "4225    Medium Trip <= 66 min          <=54% of segments appear  "
      ]
     },
     "execution_count": 80,
     "metadata": {},
     "output_type": "execute_result"
    }
   ],
   "source": [
    "m2.loc[m2.trip_id == \"6566020\"]"
   ]
  },
  {
   "cell_type": "code",
   "execution_count": 81,
   "id": "30048c66-e3b6-4a5c-ba4c-36a6378da209",
   "metadata": {},
   "outputs": [
    {
     "data": {
      "text/plain": [
       "(7217, 7217)"
      ]
     },
     "execution_count": 81,
     "metadata": {},
     "output_type": "execute_result"
    }
   ],
   "source": [
    "len(m2), len(m2.drop_duplicates())"
   ]
  },
  {
   "cell_type": "markdown",
   "id": "df7e4a5d-fe29-41bc-810e-00350c529927",
   "metadata": {},
   "source": [
    "##### How to incorporate time element?\n",
    "* Same route_dir_identifier falls into a few different categories? Shouldn't they all be around the same duration in terms of minutes?\n",
    "* How could the time vary so drastically when the # of segments match up?"
   ]
  },
  {
   "cell_type": "code",
   "execution_count": 82,
   "id": "a0e624a2-6a67-41ae-911e-bd4885a26e75",
   "metadata": {},
   "outputs": [
    {
     "data": {
      "text/plain": [
       "count     50.00\n",
       "mean     104.93\n",
       "std      277.94\n",
       "min       29.53\n",
       "25%       49.58\n",
       "50%       49.99\n",
       "75%       50.23\n",
       "max     1459.13\n",
       "Name: minutes_elapsed, dtype: float64"
      ]
     },
     "execution_count": 82,
     "metadata": {},
     "output_type": "execute_result"
    }
   ],
   "source": [
    "m2.loc[m2.route_dir_identifier == 2184919314].minutes_elapsed.describe()"
   ]
  },
  {
   "cell_type": "code",
   "execution_count": 83,
   "id": "23016e27-c9d0-4365-a797-c1210c06aaa3",
   "metadata": {},
   "outputs": [
    {
     "data": {
      "text/html": [
       "<div>\n",
       "<style scoped>\n",
       "    .dataframe tbody tr th:only-of-type {\n",
       "        vertical-align: middle;\n",
       "    }\n",
       "\n",
       "    .dataframe tbody tr th {\n",
       "        vertical-align: top;\n",
       "    }\n",
       "\n",
       "    .dataframe thead th {\n",
       "        text-align: right;\n",
       "    }\n",
       "</style>\n",
       "<table border=\"1\" class=\"dataframe\">\n",
       "  <thead>\n",
       "    <tr style=\"text-align: right;\">\n",
       "      <th></th>\n",
       "      <th>trip_id</th>\n",
       "      <th>minutes_elapsed</th>\n",
       "      <th>trip_duration_categories</th>\n",
       "    </tr>\n",
       "  </thead>\n",
       "  <tbody>\n",
       "    <tr>\n",
       "      <th>465</th>\n",
       "      <td>10006020</td>\n",
       "      <td>50.23</td>\n",
       "      <td>Medium Trip &lt;= 66 min</td>\n",
       "    </tr>\n",
       "    <tr>\n",
       "      <th>466</th>\n",
       "      <td>10072020</td>\n",
       "      <td>49.08</td>\n",
       "      <td>Medium Trip &lt;= 66 min</td>\n",
       "    </tr>\n",
       "    <tr>\n",
       "      <th>467</th>\n",
       "      <td>10218020</td>\n",
       "      <td>50.10</td>\n",
       "      <td>Medium Trip &lt;= 66 min</td>\n",
       "    </tr>\n",
       "    <tr>\n",
       "      <th>468</th>\n",
       "      <td>10474020</td>\n",
       "      <td>49.68</td>\n",
       "      <td>Medium Trip &lt;= 66 min</td>\n",
       "    </tr>\n",
       "    <tr>\n",
       "      <th>469</th>\n",
       "      <td>1069020</td>\n",
       "      <td>49.72</td>\n",
       "      <td>Medium Trip &lt;= 66 min</td>\n",
       "    </tr>\n",
       "    <tr>\n",
       "      <th>470</th>\n",
       "      <td>1087020</td>\n",
       "      <td>49.98</td>\n",
       "      <td>Medium Trip &lt;= 66 min</td>\n",
       "    </tr>\n",
       "    <tr>\n",
       "      <th>471</th>\n",
       "      <td>11394020</td>\n",
       "      <td>36.10</td>\n",
       "      <td>Short Trip &lt;= 37 min</td>\n",
       "    </tr>\n",
       "    <tr>\n",
       "      <th>472</th>\n",
       "      <td>11479020</td>\n",
       "      <td>49.88</td>\n",
       "      <td>Medium Trip &lt;= 66 min</td>\n",
       "    </tr>\n",
       "    <tr>\n",
       "      <th>473</th>\n",
       "      <td>12259020</td>\n",
       "      <td>55.05</td>\n",
       "      <td>Medium Trip &lt;= 66 min</td>\n",
       "    </tr>\n",
       "    <tr>\n",
       "      <th>474</th>\n",
       "      <td>12460020</td>\n",
       "      <td>49.98</td>\n",
       "      <td>Medium Trip &lt;= 66 min</td>\n",
       "    </tr>\n",
       "  </tbody>\n",
       "</table>\n",
       "</div>"
      ],
      "text/plain": [
       "      trip_id  minutes_elapsed trip_duration_categories\n",
       "465  10006020            50.23    Medium Trip <= 66 min\n",
       "466  10072020            49.08    Medium Trip <= 66 min\n",
       "467  10218020            50.10    Medium Trip <= 66 min\n",
       "468  10474020            49.68    Medium Trip <= 66 min\n",
       "469   1069020            49.72    Medium Trip <= 66 min\n",
       "470   1087020            49.98    Medium Trip <= 66 min\n",
       "471  11394020            36.10     Short Trip <= 37 min\n",
       "472  11479020            49.88    Medium Trip <= 66 min\n",
       "473  12259020            55.05    Medium Trip <= 66 min\n",
       "474  12460020            49.98    Medium Trip <= 66 min"
      ]
     },
     "execution_count": 83,
     "metadata": {},
     "output_type": "execute_result"
    }
   ],
   "source": [
    "m2.loc[m2.route_dir_identifier == 2184919314][\n",
    "    [\"trip_id\", \"minutes_elapsed\", \"trip_duration_categories\"]\n",
    "].head(10)"
   ]
  },
  {
   "cell_type": "code",
   "execution_count": 84,
   "id": "3444000c-c075-4c23-be46-c3becc5478c7",
   "metadata": {
    "tags": []
   },
   "outputs": [
    {
     "ename": "KeyError",
     "evalue": "'usable_y_n'",
     "output_type": "error",
     "traceback": [
      "\u001b[0;31m---------------------------------------------------------------------------\u001b[0m",
      "\u001b[0;31mKeyError\u001b[0m                                  Traceback (most recent call last)",
      "Cell \u001b[0;32mIn[84], line 1\u001b[0m\n\u001b[0;32m----> 1\u001b[0m \u001b[43mm2\u001b[49m\u001b[38;5;241;43m.\u001b[39;49m\u001b[43mgroupby\u001b[49m\u001b[43m(\u001b[49m\n\u001b[1;32m      2\u001b[0m \u001b[43m    \u001b[49m\u001b[43m[\u001b[49m\n\u001b[1;32m      3\u001b[0m \u001b[43m        \u001b[49m\u001b[38;5;124;43m\"\u001b[39;49m\u001b[38;5;124;43mroute_id\u001b[39;49m\u001b[38;5;124;43m\"\u001b[39;49m\u001b[43m,\u001b[49m\n\u001b[1;32m      4\u001b[0m \u001b[43m        \u001b[49m\u001b[38;5;124;43m\"\u001b[39;49m\u001b[38;5;124;43mtrip_duration_categories\u001b[39;49m\u001b[38;5;124;43m\"\u001b[39;49m\u001b[43m,\u001b[49m\n\u001b[1;32m      5\u001b[0m \u001b[43m        \u001b[49m\u001b[38;5;124;43m\"\u001b[39;49m\u001b[38;5;124;43mroute_dir_identifier\u001b[39;49m\u001b[38;5;124;43m\"\u001b[39;49m\u001b[43m,\u001b[49m\n\u001b[1;32m      6\u001b[0m \u001b[43m        \u001b[49m\u001b[38;5;124;43m\"\u001b[39;49m\u001b[38;5;124;43musable_y_n\u001b[39;49m\u001b[38;5;124;43m\"\u001b[39;49m\u001b[43m,\u001b[49m\n\u001b[1;32m      7\u001b[0m \u001b[43m    \u001b[49m\u001b[43m]\u001b[49m\n\u001b[1;32m      8\u001b[0m \u001b[43m)\u001b[49m\u001b[38;5;241m.\u001b[39magg({\u001b[38;5;124m\"\u001b[39m\u001b[38;5;124mtrip_id\u001b[39m\u001b[38;5;124m\"\u001b[39m: \u001b[38;5;124m\"\u001b[39m\u001b[38;5;124mcount\u001b[39m\u001b[38;5;124m\"\u001b[39m})\u001b[38;5;241m.\u001b[39mhead(\u001b[38;5;241m10\u001b[39m)\n",
      "File \u001b[0;32m/opt/conda/lib/python3.9/site-packages/pandas/core/frame.py:7631\u001b[0m, in \u001b[0;36mDataFrame.groupby\u001b[0;34m(self, by, axis, level, as_index, sort, group_keys, squeeze, observed, dropna)\u001b[0m\n\u001b[1;32m   7627\u001b[0m axis \u001b[38;5;241m=\u001b[39m \u001b[38;5;28mself\u001b[39m\u001b[38;5;241m.\u001b[39m_get_axis_number(axis)\n\u001b[1;32m   7629\u001b[0m \u001b[38;5;66;03m# error: Argument \"squeeze\" to \"DataFrameGroupBy\" has incompatible type\u001b[39;00m\n\u001b[1;32m   7630\u001b[0m \u001b[38;5;66;03m# \"Union[bool, NoDefault]\"; expected \"bool\"\u001b[39;00m\n\u001b[0;32m-> 7631\u001b[0m \u001b[38;5;28;01mreturn\u001b[39;00m \u001b[43mDataFrameGroupBy\u001b[49m\u001b[43m(\u001b[49m\n\u001b[1;32m   7632\u001b[0m \u001b[43m    \u001b[49m\u001b[43mobj\u001b[49m\u001b[38;5;241;43m=\u001b[39;49m\u001b[38;5;28;43mself\u001b[39;49m\u001b[43m,\u001b[49m\n\u001b[1;32m   7633\u001b[0m \u001b[43m    \u001b[49m\u001b[43mkeys\u001b[49m\u001b[38;5;241;43m=\u001b[39;49m\u001b[43mby\u001b[49m\u001b[43m,\u001b[49m\n\u001b[1;32m   7634\u001b[0m \u001b[43m    \u001b[49m\u001b[43maxis\u001b[49m\u001b[38;5;241;43m=\u001b[39;49m\u001b[43maxis\u001b[49m\u001b[43m,\u001b[49m\n\u001b[1;32m   7635\u001b[0m \u001b[43m    \u001b[49m\u001b[43mlevel\u001b[49m\u001b[38;5;241;43m=\u001b[39;49m\u001b[43mlevel\u001b[49m\u001b[43m,\u001b[49m\n\u001b[1;32m   7636\u001b[0m \u001b[43m    \u001b[49m\u001b[43mas_index\u001b[49m\u001b[38;5;241;43m=\u001b[39;49m\u001b[43mas_index\u001b[49m\u001b[43m,\u001b[49m\n\u001b[1;32m   7637\u001b[0m \u001b[43m    \u001b[49m\u001b[43msort\u001b[49m\u001b[38;5;241;43m=\u001b[39;49m\u001b[43msort\u001b[49m\u001b[43m,\u001b[49m\n\u001b[1;32m   7638\u001b[0m \u001b[43m    \u001b[49m\u001b[43mgroup_keys\u001b[49m\u001b[38;5;241;43m=\u001b[39;49m\u001b[43mgroup_keys\u001b[49m\u001b[43m,\u001b[49m\n\u001b[1;32m   7639\u001b[0m \u001b[43m    \u001b[49m\u001b[43msqueeze\u001b[49m\u001b[38;5;241;43m=\u001b[39;49m\u001b[43msqueeze\u001b[49m\u001b[43m,\u001b[49m\u001b[43m  \u001b[49m\u001b[38;5;66;43;03m# type: ignore[arg-type]\u001b[39;49;00m\n\u001b[1;32m   7640\u001b[0m \u001b[43m    \u001b[49m\u001b[43mobserved\u001b[49m\u001b[38;5;241;43m=\u001b[39;49m\u001b[43mobserved\u001b[49m\u001b[43m,\u001b[49m\n\u001b[1;32m   7641\u001b[0m \u001b[43m    \u001b[49m\u001b[43mdropna\u001b[49m\u001b[38;5;241;43m=\u001b[39;49m\u001b[43mdropna\u001b[49m\u001b[43m,\u001b[49m\n\u001b[1;32m   7642\u001b[0m \u001b[43m\u001b[49m\u001b[43m)\u001b[49m\n",
      "File \u001b[0;32m/opt/conda/lib/python3.9/site-packages/pandas/core/groupby/groupby.py:889\u001b[0m, in \u001b[0;36mGroupBy.__init__\u001b[0;34m(self, obj, keys, axis, level, grouper, exclusions, selection, as_index, sort, group_keys, squeeze, observed, mutated, dropna)\u001b[0m\n\u001b[1;32m    886\u001b[0m \u001b[38;5;28;01mif\u001b[39;00m grouper \u001b[38;5;129;01mis\u001b[39;00m \u001b[38;5;28;01mNone\u001b[39;00m:\n\u001b[1;32m    887\u001b[0m     \u001b[38;5;28;01mfrom\u001b[39;00m \u001b[38;5;21;01mpandas\u001b[39;00m\u001b[38;5;21;01m.\u001b[39;00m\u001b[38;5;21;01mcore\u001b[39;00m\u001b[38;5;21;01m.\u001b[39;00m\u001b[38;5;21;01mgroupby\u001b[39;00m\u001b[38;5;21;01m.\u001b[39;00m\u001b[38;5;21;01mgrouper\u001b[39;00m \u001b[38;5;28;01mimport\u001b[39;00m get_grouper\n\u001b[0;32m--> 889\u001b[0m     grouper, exclusions, obj \u001b[38;5;241m=\u001b[39m \u001b[43mget_grouper\u001b[49m\u001b[43m(\u001b[49m\n\u001b[1;32m    890\u001b[0m \u001b[43m        \u001b[49m\u001b[43mobj\u001b[49m\u001b[43m,\u001b[49m\n\u001b[1;32m    891\u001b[0m \u001b[43m        \u001b[49m\u001b[43mkeys\u001b[49m\u001b[43m,\u001b[49m\n\u001b[1;32m    892\u001b[0m \u001b[43m        \u001b[49m\u001b[43maxis\u001b[49m\u001b[38;5;241;43m=\u001b[39;49m\u001b[43maxis\u001b[49m\u001b[43m,\u001b[49m\n\u001b[1;32m    893\u001b[0m \u001b[43m        \u001b[49m\u001b[43mlevel\u001b[49m\u001b[38;5;241;43m=\u001b[39;49m\u001b[43mlevel\u001b[49m\u001b[43m,\u001b[49m\n\u001b[1;32m    894\u001b[0m \u001b[43m        \u001b[49m\u001b[43msort\u001b[49m\u001b[38;5;241;43m=\u001b[39;49m\u001b[43msort\u001b[49m\u001b[43m,\u001b[49m\n\u001b[1;32m    895\u001b[0m \u001b[43m        \u001b[49m\u001b[43mobserved\u001b[49m\u001b[38;5;241;43m=\u001b[39;49m\u001b[43mobserved\u001b[49m\u001b[43m,\u001b[49m\n\u001b[1;32m    896\u001b[0m \u001b[43m        \u001b[49m\u001b[43mmutated\u001b[49m\u001b[38;5;241;43m=\u001b[39;49m\u001b[38;5;28;43mself\u001b[39;49m\u001b[38;5;241;43m.\u001b[39;49m\u001b[43mmutated\u001b[49m\u001b[43m,\u001b[49m\n\u001b[1;32m    897\u001b[0m \u001b[43m        \u001b[49m\u001b[43mdropna\u001b[49m\u001b[38;5;241;43m=\u001b[39;49m\u001b[38;5;28;43mself\u001b[39;49m\u001b[38;5;241;43m.\u001b[39;49m\u001b[43mdropna\u001b[49m\u001b[43m,\u001b[49m\n\u001b[1;32m    898\u001b[0m \u001b[43m    \u001b[49m\u001b[43m)\u001b[49m\n\u001b[1;32m    900\u001b[0m \u001b[38;5;28mself\u001b[39m\u001b[38;5;241m.\u001b[39mobj \u001b[38;5;241m=\u001b[39m obj\n\u001b[1;32m    901\u001b[0m \u001b[38;5;28mself\u001b[39m\u001b[38;5;241m.\u001b[39maxis \u001b[38;5;241m=\u001b[39m obj\u001b[38;5;241m.\u001b[39m_get_axis_number(axis)\n",
      "File \u001b[0;32m/opt/conda/lib/python3.9/site-packages/pandas/core/groupby/grouper.py:862\u001b[0m, in \u001b[0;36mget_grouper\u001b[0;34m(obj, key, axis, level, sort, observed, mutated, validate, dropna)\u001b[0m\n\u001b[1;32m    860\u001b[0m         in_axis, level, gpr \u001b[38;5;241m=\u001b[39m \u001b[38;5;28;01mFalse\u001b[39;00m, gpr, \u001b[38;5;28;01mNone\u001b[39;00m\n\u001b[1;32m    861\u001b[0m     \u001b[38;5;28;01melse\u001b[39;00m:\n\u001b[0;32m--> 862\u001b[0m         \u001b[38;5;28;01mraise\u001b[39;00m \u001b[38;5;167;01mKeyError\u001b[39;00m(gpr)\n\u001b[1;32m    863\u001b[0m \u001b[38;5;28;01melif\u001b[39;00m \u001b[38;5;28misinstance\u001b[39m(gpr, Grouper) \u001b[38;5;129;01mand\u001b[39;00m gpr\u001b[38;5;241m.\u001b[39mkey \u001b[38;5;129;01mis\u001b[39;00m \u001b[38;5;129;01mnot\u001b[39;00m \u001b[38;5;28;01mNone\u001b[39;00m:\n\u001b[1;32m    864\u001b[0m     \u001b[38;5;66;03m# Add key to exclusions\u001b[39;00m\n\u001b[1;32m    865\u001b[0m     exclusions\u001b[38;5;241m.\u001b[39madd(gpr\u001b[38;5;241m.\u001b[39mkey)\n",
      "\u001b[0;31mKeyError\u001b[0m: 'usable_y_n'"
     ]
    }
   ],
   "source": [
    "m2.groupby(\n",
    "    [\n",
    "        \"route_id\",\n",
    "        \"trip_duration_categories\",\n",
    "        \"route_dir_identifier\",\n",
    "        \"usable_y_n\",\n",
    "    ]\n",
    ").agg({\"trip_id\": \"count\"}).head(10)"
   ]
  },
  {
   "cell_type": "code",
   "execution_count": null,
   "id": "ce52754e-01fd-4dc3-82f7-088330cf344d",
   "metadata": {},
   "outputs": [],
   "source": [
    "def usable(row):\n",
    "    if row.shapeid_vs_longest_shapeid_length == (\n",
    "        f\" <={p25_length}% of segments appear\"\n",
    "    ):\n",
    "        return \"Unusable\"\n",
    "    else:\n",
    "        return \"Usable\""
   ]
  },
  {
   "cell_type": "code",
   "execution_count": null,
   "id": "92c8ec4a-c369-40c6-af09-7081a6f6a0dc",
   "metadata": {},
   "outputs": [],
   "source": [
    "m2[\"usable_y_n\"] = m2.apply(lambda x: usable(x), axis=1)"
   ]
  },
  {
   "cell_type": "markdown",
   "id": "bf25021e-8b11-4ad1-a5f5-290750cefa65",
   "metadata": {},
   "source": [
    "### Already Answered Notes/Questions\n",
    "* What is the calitp url number? What does 0 or 1 mean? V1, operator has different feeds. \n",
    "    * 0 could be primary, 1 is backup. This column will be deleted in V2. \n",
    "* Do you think that most shape IDS are going to be less than 100% of the length of the longest shape ID? \n",
    "    * Not necessarily, shape ID can be a short version of the trip.\n",
    "* What’s the difference between direction ID and route dir identifier? What does the 0 and 1 mean in direction ID?\n",
    "    * We don't know where the bus is going, so just do 0 and 1.\n",
    "    * Route dir identifier: captures route info and direction it is going to capture all the trips. Helps with groupby. \n",
    "    * We don't want to stick with trip id, we need to get to route level. \n",
    "    * Don't want to lose info on the direction. \n",
    "    * Have to distinguish direction or else it'll look like the bus is going backwards when plotting.\n",
    "    * RT data comes with direction id and can get which direction it ran in from schedule data. \n",
    "    * Attach route, join coordinate data to segments. \n",
    "    * Use segments and average out trips that occurred on that segment. \n",
    "* Ask about graph on Slack. \n",
    "* Should I use this `get_routelines` from `A1_vehicle_positions`. \n",
    "    * Just read it directly from GCS, don't need buffer.\n",
    "* Why would the same route ID for the other direction have more segments? \n",
    "   * Can have a layover. \n",
    "   * A segment must be 1000 meters or less.\n",
    "* The `route_dir_identifier` is used for segments to cut segments\n",
    "for both directions the route runs.\n",
    "\n",
    "* How come there are so many different timestamps within a 30 second increments of each either within the same segment? GTFS pings every 30 seconds."
   ]
  }
 ],
 "metadata": {
  "kernelspec": {
   "display_name": "Python 3 (ipykernel)",
   "language": "python",
   "name": "python3"
  },
  "language_info": {
   "codemirror_mode": {
    "name": "ipython",
    "version": 3
   },
   "file_extension": ".py",
   "mimetype": "text/x-python",
   "name": "python",
   "nbconvert_exporter": "python",
   "pygments_lexer": "ipython3",
   "version": "3.9.13"
  }
 },
 "nbformat": 4,
 "nbformat_minor": 5
}
