{
 "cells": [
  {
   "cell_type": "markdown",
   "id": "adf5df97-0182-498a-bd35-303ac84e9611",
   "metadata": {},
   "source": [
    "## RT trip diagnostics: thresholds for usable trips \n",
    "Notes/Questions\n",
    "* What is the calitp url number? What does 0 or 1 mean?\n",
    "* Do you think that most shape IDS are going to be less than 100% of the length of the longest shape ID? \n",
    "* What defines a usable trip and a usable segment?\n",
    "* What’s the difference between direction ID and route dir identifier? What does the 0 and 1 mean in direction ID?\n",
    "* Segments represent a 1,000 m segment cut from the route's shape (longest shape in each direction). it current does reflect something about a route, but in the future, road segments will be used. What’s the difference between segment and road segment?\n",
    "* Ask about graph on Slack.\n"
   ]
  },
  {
   "cell_type": "code",
   "execution_count": 1,
   "id": "1faeb7ff-1ebc-4ced-afb0-c813f863d3d8",
   "metadata": {},
   "outputs": [
    {
     "name": "stderr",
     "output_type": "stream",
     "text": [
      "/opt/conda/lib/python3.9/site-packages/geopandas/_compat.py:123: UserWarning: The Shapely GEOS version (3.10.3-CAPI-1.16.1) is incompatible with the GEOS version PyGEOS was compiled with (3.10.1-CAPI-1.16.0). Conversions between both will be slow.\n",
      "  warnings.warn(\n"
     ]
    }
   ],
   "source": [
    "import dask.dataframe as dd\n",
    "import dask_geopandas as dg\n",
    "import geopandas as gpd\n",
    "import pandas as pd\n",
    "from calitp.sql import to_snakecase\n",
    "from shared_utils import geography_utils, utils"
   ]
  },
  {
   "cell_type": "code",
   "execution_count": 2,
   "id": "9f13f204-138e-4b10-94a8-ead22461dad0",
   "metadata": {},
   "outputs": [],
   "source": [
    "# Save files to GCS\n",
    "from calitp.storage import get_fs\n",
    "fs = get_fs()"
   ]
  },
  {
   "cell_type": "code",
   "execution_count": 3,
   "id": "35a36bc4-4f66-4285-8025-a5eaccc3a266",
   "metadata": {},
   "outputs": [],
   "source": [
    "# Record start and end time\n",
    "import datetime\n",
    "from loguru import logger"
   ]
  },
  {
   "cell_type": "code",
   "execution_count": 4,
   "id": "f6233726-eb99-4f7e-9a90-842872f36ed7",
   "metadata": {},
   "outputs": [],
   "source": [
    "pd.options.display.max_columns = 100\n",
    "pd.options.display.float_format = \"{:.2f}\".format\n",
    "pd.set_option(\"display.max_rows\", None)\n",
    "pd.set_option(\"display.max_colwidth\", None)"
   ]
  },
  {
   "cell_type": "markdown",
   "id": "b26bf5e4-5ced-43dd-b792-12fa0e2376c0",
   "metadata": {},
   "source": [
    "### Look at files"
   ]
  },
  {
   "cell_type": "code",
   "execution_count": 5,
   "id": "2f333522-803a-4b60-b4af-b2edd0a274df",
   "metadata": {},
   "outputs": [],
   "source": [
    "GCS_DASK_PATH = \"gs://calitp-analytics-data/data-analyses/dask_test/\""
   ]
  },
  {
   "cell_type": "code",
   "execution_count": 6,
   "id": "3c8140f4-9219-4ef4-92b7-bd99eb8d0a38",
   "metadata": {},
   "outputs": [],
   "source": [
    "GCS_RT_PATH = \"gs://calitp-analytics-data/data-analyses/rt_delay/\""
   ]
  },
  {
   "cell_type": "code",
   "execution_count": 7,
   "id": "cdd7ae15-7777-4c40-94be-f441f68f9b6a",
   "metadata": {},
   "outputs": [],
   "source": [
    "analysis_date = \"2022-10-12\""
   ]
  },
  {
   "cell_type": "markdown",
   "id": "91272b41-ae41-4252-ae41-ec4caf246252",
   "metadata": {},
   "source": [
    "* Should I use this `get_routelines` from `A1_vehicle_positions`"
   ]
  },
  {
   "cell_type": "code",
   "execution_count": 8,
   "id": "adf9ac8a-43e9-4a1c-b27c-fd3e1f247fc5",
   "metadata": {},
   "outputs": [],
   "source": [
    "# Read in route lines\n",
    "routelines = gpd.read_parquet(\n",
    "    f\"{GCS_RT_PATH}compiled_cached_views/routelines_{analysis_date}.parquet\"\n",
    ")"
   ]
  },
  {
   "cell_type": "code",
   "execution_count": 82,
   "id": "901cc048-6ab1-4efd-9a30-9eafd17ba217",
   "metadata": {},
   "outputs": [
    {
     "data": {
      "text/plain": [
       "(9430, 6353)"
      ]
     },
     "execution_count": 82,
     "metadata": {},
     "output_type": "execute_result"
    }
   ],
   "source": [
    "len(routelines), routelines.shape_id.nunique()"
   ]
  },
  {
   "cell_type": "code",
   "execution_count": 81,
   "id": "2ac62fbb-d527-41fc-8c7c-06f0def4765d",
   "metadata": {},
   "outputs": [],
   "source": [
    "# routelines.sample().drop(columns=[\"geometry\"])"
   ]
  },
  {
   "cell_type": "markdown",
   "id": "da062cf3-4525-435e-8e4a-afa557fa490a",
   "metadata": {},
   "source": [
    "* The `route_dir_identifier` is used for segments to cut segments\n",
    "for both directions the route runs.\n",
    "* Why would the same route ID for the other direction have more segments?"
   ]
  },
  {
   "cell_type": "code",
   "execution_count": 11,
   "id": "1b40dfcd-7a35-4780-9fff-d64fae60a97b",
   "metadata": {},
   "outputs": [],
   "source": [
    "# Read in longest_shape of each route\n",
    "longest_shape = gpd.read_parquet(f\"{GCS_DASK_PATH}longest_shape_segments.parquet\")"
   ]
  },
  {
   "cell_type": "code",
   "execution_count": 12,
   "id": "926e8e22-4e79-4d05-8a67-6cf4e8334798",
   "metadata": {},
   "outputs": [
    {
     "data": {
      "text/plain": [
       "(126896, 3960, 175)"
      ]
     },
     "execution_count": 12,
     "metadata": {},
     "output_type": "execute_result"
    }
   ],
   "source": [
    "len(\n",
    "    longest_shape\n",
    "), longest_shape.longest_shape_id.nunique(), longest_shape.calitp_itp_id.nunique()"
   ]
  },
  {
   "cell_type": "code",
   "execution_count": 66,
   "id": "01705ac8-aa58-4076-b6eb-0f2657a80e46",
   "metadata": {
    "scrolled": true,
    "tags": []
   },
   "outputs": [],
   "source": [
    "# longest_shape.groupby(['calitp_itp_id','route_id','longest_shape_id']).agg({'segment_sequence':'nunique'})"
   ]
  },
  {
   "cell_type": "code",
   "execution_count": 64,
   "id": "9db30746-9af9-473f-b068-443bd3623b3a",
   "metadata": {
    "tags": []
   },
   "outputs": [],
   "source": [
    "# longest_shape.sort_values(['calitp_itp_id', 'route_id']).head(25).drop(columns=[\"geometry\", \"geometry_arrowized\"])"
   ]
  },
  {
   "cell_type": "code",
   "execution_count": 80,
   "id": "7d503458-8765-40d7-a28f-22596d6cbed6",
   "metadata": {},
   "outputs": [],
   "source": [
    "# longest_shape.sort_values(['calitp_itp_id', 'route_id']).head(1).drop(columns=[\"geometry\", \"geometry_arrowized\"])"
   ]
  },
  {
   "cell_type": "code",
   "execution_count": 14,
   "id": "287990c4-5e89-4247-8827-dd07aebed17b",
   "metadata": {},
   "outputs": [],
   "source": [
    "# Says missing geospatial data\n",
    "segments_crosswalks = pd.read_parquet(\n",
    "    f\"{GCS_DASK_PATH}segments_route_direction_crosswalk.parquet\"\n",
    ")"
   ]
  },
  {
   "cell_type": "code",
   "execution_count": 15,
   "id": "5676995f-912c-4a08-af06-9a9400d10c87",
   "metadata": {},
   "outputs": [
    {
     "data": {
      "text/plain": [
       "5150"
      ]
     },
     "execution_count": 15,
     "metadata": {},
     "output_type": "execute_result"
    }
   ],
   "source": [
    "len(segments_crosswalks)"
   ]
  },
  {
   "cell_type": "code",
   "execution_count": 16,
   "id": "c04f426f-bbd2-4b9e-b613-e35f7a615671",
   "metadata": {},
   "outputs": [
    {
     "data": {
      "text/html": [
       "<div>\n",
       "<style scoped>\n",
       "    .dataframe tbody tr th:only-of-type {\n",
       "        vertical-align: middle;\n",
       "    }\n",
       "\n",
       "    .dataframe tbody tr th {\n",
       "        vertical-align: top;\n",
       "    }\n",
       "\n",
       "    .dataframe thead th {\n",
       "        text-align: right;\n",
       "    }\n",
       "</style>\n",
       "<table border=\"1\" class=\"dataframe\">\n",
       "  <thead>\n",
       "    <tr style=\"text-align: right;\">\n",
       "      <th></th>\n",
       "      <th>calitp_itp_id</th>\n",
       "      <th>route_id</th>\n",
       "      <th>direction_id</th>\n",
       "      <th>route_dir_identifier</th>\n",
       "    </tr>\n",
       "  </thead>\n",
       "  <tbody>\n",
       "    <tr>\n",
       "      <th>4240</th>\n",
       "      <td>182</td>\n",
       "      <td>4-13157</td>\n",
       "      <td>1</td>\n",
       "      <td>3559130268</td>\n",
       "    </tr>\n",
       "  </tbody>\n",
       "</table>\n",
       "</div>"
      ],
      "text/plain": [
       "      calitp_itp_id route_id direction_id  route_dir_identifier\n",
       "4240            182  4-13157            1            3559130268"
      ]
     },
     "execution_count": 16,
     "metadata": {},
     "output_type": "execute_result"
    }
   ],
   "source": [
    "segments_crosswalks.sample()"
   ]
  },
  {
   "cell_type": "code",
   "execution_count": 17,
   "id": "7ddaf111-2652-4162-85fc-bd4e884bfb48",
   "metadata": {},
   "outputs": [],
   "source": [
    "# Read in one segment for ONE itp id first\n",
    "# when using gpd.read_parquert() says\n",
    "# Missing geo metadata in Parquet/Feather file.\n",
    "# Use pandas.read_parquet/read_feather() instead.\n",
    "segment_148 = pd.read_parquet(\n",
    "    f\"{GCS_DASK_PATH}vp_sjoin/vp_segment_148_{analysis_date}.parquet\"\n",
    ")"
   ]
  },
  {
   "cell_type": "code",
   "execution_count": 18,
   "id": "060eadb4-1525-47f8-8887-ee64832dfde6",
   "metadata": {},
   "outputs": [],
   "source": [
    "# segment_148 = gpd.GeoDataFrame(\n",
    "#    segment_148, geometry=gpd.points_from_xy(segment_148.lon, segment_148.lat))"
   ]
  },
  {
   "cell_type": "code",
   "execution_count": 19,
   "id": "aac59b99-6cd5-425d-8bd4-1d217f59bc08",
   "metadata": {},
   "outputs": [
    {
     "data": {
      "text/plain": [
       "22692"
      ]
     },
     "execution_count": 19,
     "metadata": {},
     "output_type": "execute_result"
    }
   ],
   "source": [
    "len(segment_148)"
   ]
  },
  {
   "cell_type": "code",
   "execution_count": 20,
   "id": "365fd82a-34b3-4cf5-9996-32c601cef3da",
   "metadata": {},
   "outputs": [],
   "source": [
    "segment_148 = segment_148.sort_values([\"calitp_itp_id\", \"trip_id\", \"segment_sequence\"])"
   ]
  },
  {
   "cell_type": "code",
   "execution_count": 21,
   "id": "88103cf4-6e75-4a10-b60e-d805769625d3",
   "metadata": {},
   "outputs": [
    {
     "data": {
      "text/html": [
       "<div>\n",
       "<style scoped>\n",
       "    .dataframe tbody tr th:only-of-type {\n",
       "        vertical-align: middle;\n",
       "    }\n",
       "\n",
       "    .dataframe tbody tr th {\n",
       "        vertical-align: top;\n",
       "    }\n",
       "\n",
       "    .dataframe thead th {\n",
       "        text-align: right;\n",
       "    }\n",
       "</style>\n",
       "<table border=\"1\" class=\"dataframe\">\n",
       "  <thead>\n",
       "    <tr style=\"text-align: right;\">\n",
       "      <th></th>\n",
       "      <th>calitp_itp_id</th>\n",
       "      <th>calitp_url_number</th>\n",
       "      <th>vehicle_timestamp</th>\n",
       "      <th>trip_id</th>\n",
       "      <th>route_dir_identifier</th>\n",
       "      <th>segment_sequence</th>\n",
       "      <th>lon</th>\n",
       "      <th>lat</th>\n",
       "    </tr>\n",
       "  </thead>\n",
       "  <tbody>\n",
       "    <tr>\n",
       "      <th>1587</th>\n",
       "      <td>148</td>\n",
       "      <td>0</td>\n",
       "      <td>2022-10-12 13:15:20</td>\n",
       "      <td>933</td>\n",
       "      <td>1342713973</td>\n",
       "      <td>6</td>\n",
       "      <td>27708.54</td>\n",
       "      <td>-186019.68</td>\n",
       "    </tr>\n",
       "  </tbody>\n",
       "</table>\n",
       "</div>"
      ],
      "text/plain": [
       "      calitp_itp_id  calitp_url_number   vehicle_timestamp trip_id  \\\n",
       "1587            148                  0 2022-10-12 13:15:20     933   \n",
       "\n",
       "      route_dir_identifier segment_sequence      lon        lat  \n",
       "1587            1342713973                6 27708.54 -186019.68  "
      ]
     },
     "execution_count": 21,
     "metadata": {},
     "output_type": "execute_result"
    }
   ],
   "source": [
    "segment_148.sample()"
   ]
  },
  {
   "cell_type": "markdown",
   "id": "30ea0f95-de9d-4b1e-92bd-95111ba0e2d7",
   "metadata": {
    "tags": []
   },
   "source": [
    "### Task 1\n",
    "* Using GTFS schedule data, by route_id-shape_id, calculate the route_length of each shape_id as a proportion of the longest shape_id. \n",
    "* For each route_id, what's the shortest shape_id length, in proportion to the longest shape_id's length. if it's 100%, then all shape_ids are equal length for that route. if it's 50%, there's a short trip that exists that only runs 50% of the length and turns around.\n",
    "\n",
    "Notes\n",
    "* Is it correct to join on `shape_id` and `longest_shape_id`."
   ]
  },
  {
   "cell_type": "code",
   "execution_count": 22,
   "id": "4ad11571-f463-4b2a-8ae8-951ae3b5ca0a",
   "metadata": {},
   "outputs": [
    {
     "data": {
      "text/plain": [
       "True"
      ]
     },
     "execution_count": 22,
     "metadata": {},
     "output_type": "execute_result"
    }
   ],
   "source": [
    "routelines.crs == longest_shape.crs"
   ]
  },
  {
   "cell_type": "code",
   "execution_count": 23,
   "id": "40da8022-21d9-49f1-9515-edf8a5a63537",
   "metadata": {},
   "outputs": [],
   "source": [
    "# Calculate length of geometry\n",
    "routelines = routelines.assign(\n",
    "    route_length=(routelines.geometry.to_crs(geography_utils.CA_StatePlane).length)\n",
    ")"
   ]
  },
  {
   "cell_type": "markdown",
   "id": "f81702ff-0443-410d-a669-5c5420df3840",
   "metadata": {},
   "source": [
    "* What do the Cal ITP url numbers signify?"
   ]
  },
  {
   "cell_type": "code",
   "execution_count": 24,
   "id": "ca20f31a-7546-4b1a-8cef-5098830db487",
   "metadata": {},
   "outputs": [
    {
     "data": {
      "text/plain": [
       "0    7348\n",
       "1    2011\n",
       "2      71\n",
       "Name: calitp_url_number, dtype: int64"
      ]
     },
     "execution_count": 24,
     "metadata": {},
     "output_type": "execute_result"
    }
   ],
   "source": [
    "routelines.calitp_url_number.value_counts()"
   ]
  },
  {
   "cell_type": "code",
   "execution_count": 68,
   "id": "b2286b70-510a-4e58-a90b-006e2020bcf2",
   "metadata": {
    "tags": []
   },
   "outputs": [
    {
     "data": {
      "text/html": [
       "<div>\n",
       "<style scoped>\n",
       "    .dataframe tbody tr th:only-of-type {\n",
       "        vertical-align: middle;\n",
       "    }\n",
       "\n",
       "    .dataframe tbody tr th {\n",
       "        vertical-align: top;\n",
       "    }\n",
       "\n",
       "    .dataframe thead th {\n",
       "        text-align: right;\n",
       "    }\n",
       "</style>\n",
       "<table border=\"1\" class=\"dataframe\">\n",
       "  <thead>\n",
       "    <tr style=\"text-align: right;\">\n",
       "      <th></th>\n",
       "      <th>calitp_itp_id</th>\n",
       "      <th>calitp_url_number</th>\n",
       "      <th>shape_id</th>\n",
       "      <th>route_length</th>\n",
       "    </tr>\n",
       "  </thead>\n",
       "  <tbody>\n",
       "    <tr>\n",
       "      <th>45</th>\n",
       "      <td>4</td>\n",
       "      <td>0</td>\n",
       "      <td>shp-10-09</td>\n",
       "      <td>40538.08</td>\n",
       "    </tr>\n",
       "    <tr>\n",
       "      <th>578</th>\n",
       "      <td>4</td>\n",
       "      <td>1</td>\n",
       "      <td>shp-10-09</td>\n",
       "      <td>40538.08</td>\n",
       "    </tr>\n",
       "    <tr>\n",
       "      <th>61</th>\n",
       "      <td>4</td>\n",
       "      <td>0</td>\n",
       "      <td>shp-10-10</td>\n",
       "      <td>38768.87</td>\n",
       "    </tr>\n",
       "    <tr>\n",
       "      <th>427</th>\n",
       "      <td>4</td>\n",
       "      <td>1</td>\n",
       "      <td>shp-10-10</td>\n",
       "      <td>38768.87</td>\n",
       "    </tr>\n",
       "    <tr>\n",
       "      <th>75</th>\n",
       "      <td>4</td>\n",
       "      <td>0</td>\n",
       "      <td>shp-12-14</td>\n",
       "      <td>57472.16</td>\n",
       "    </tr>\n",
       "    <tr>\n",
       "      <th>517</th>\n",
       "      <td>4</td>\n",
       "      <td>1</td>\n",
       "      <td>shp-12-14</td>\n",
       "      <td>57472.16</td>\n",
       "    </tr>\n",
       "  </tbody>\n",
       "</table>\n",
       "</div>"
      ],
      "text/plain": [
       "     calitp_itp_id  calitp_url_number   shape_id  route_length\n",
       "45               4                  0  shp-10-09      40538.08\n",
       "578              4                  1  shp-10-09      40538.08\n",
       "61               4                  0  shp-10-10      38768.87\n",
       "427              4                  1  shp-10-10      38768.87\n",
       "75               4                  0  shp-12-14      57472.16\n",
       "517              4                  1  shp-12-14      57472.16"
      ]
     },
     "execution_count": 68,
     "metadata": {},
     "output_type": "execute_result"
    }
   ],
   "source": [
    "routelines.drop(columns = [\"geometry\"]).sort_values([\"calitp_itp_id\",\"shape_id\"]).head(6)"
   ]
  },
  {
   "cell_type": "code",
   "execution_count": 26,
   "id": "6b3a7507-91e4-49ae-a536-afdd2d2f8cec",
   "metadata": {},
   "outputs": [],
   "source": [
    "# Dissolve so only one row for each calitp_id/shape_id.\n",
    "# I want the route length for both directions?\n",
    "routelines_diss = routelines.dissolve(by=[\n",
    "        \"calitp_itp_id\",\n",
    "        \"shape_id\",\n",
    "    ],\n",
    "    aggfunc={\n",
    "        \"route_length\": \"sum\",\n",
    "    },\n",
    ").reset_index()"
   ]
  },
  {
   "cell_type": "code",
   "execution_count": 27,
   "id": "29860d6e-9248-4e9b-bcc4-c93477c33d09",
   "metadata": {},
   "outputs": [
    {
     "data": {
      "text/plain": [
       "(6353, 7685, 9430)"
      ]
     },
     "execution_count": 27,
     "metadata": {},
     "output_type": "execute_result"
    }
   ],
   "source": [
    "routelines_diss.shape_id.nunique(), len(routelines_diss), len(routelines)"
   ]
  },
  {
   "cell_type": "code",
   "execution_count": 70,
   "id": "b1aa3672-a07f-4feb-8b15-3f2f376da69d",
   "metadata": {},
   "outputs": [
    {
     "data": {
      "text/html": [
       "<div>\n",
       "<style scoped>\n",
       "    .dataframe tbody tr th:only-of-type {\n",
       "        vertical-align: middle;\n",
       "    }\n",
       "\n",
       "    .dataframe tbody tr th {\n",
       "        vertical-align: top;\n",
       "    }\n",
       "\n",
       "    .dataframe thead th {\n",
       "        text-align: right;\n",
       "    }\n",
       "</style>\n",
       "<table border=\"1\" class=\"dataframe\">\n",
       "  <thead>\n",
       "    <tr style=\"text-align: right;\">\n",
       "      <th></th>\n",
       "      <th>calitp_itp_id</th>\n",
       "      <th>shape_id</th>\n",
       "      <th>route_length</th>\n",
       "    </tr>\n",
       "  </thead>\n",
       "  <tbody>\n",
       "    <tr>\n",
       "      <th>0</th>\n",
       "      <td>4</td>\n",
       "      <td>shp-10-09</td>\n",
       "      <td>81076.17</td>\n",
       "    </tr>\n",
       "    <tr>\n",
       "      <th>1</th>\n",
       "      <td>4</td>\n",
       "      <td>shp-10-10</td>\n",
       "      <td>77537.73</td>\n",
       "    </tr>\n",
       "    <tr>\n",
       "      <th>2</th>\n",
       "      <td>4</td>\n",
       "      <td>shp-12-14</td>\n",
       "      <td>114944.32</td>\n",
       "    </tr>\n",
       "    <tr>\n",
       "      <th>3</th>\n",
       "      <td>4</td>\n",
       "      <td>shp-12-56</td>\n",
       "      <td>119300.58</td>\n",
       "    </tr>\n",
       "    <tr>\n",
       "      <th>4</th>\n",
       "      <td>4</td>\n",
       "      <td>shp-14-14</td>\n",
       "      <td>24129.03</td>\n",
       "    </tr>\n",
       "  </tbody>\n",
       "</table>\n",
       "</div>"
      ],
      "text/plain": [
       "   calitp_itp_id   shape_id  route_length\n",
       "0              4  shp-10-09      81076.17\n",
       "1              4  shp-10-10      77537.73\n",
       "2              4  shp-12-14     114944.32\n",
       "3              4  shp-12-56     119300.58\n",
       "4              4  shp-14-14      24129.03"
      ]
     },
     "execution_count": 70,
     "metadata": {},
     "output_type": "execute_result"
    }
   ],
   "source": [
    "routelines_diss.drop(columns = [\"geometry\"]).sort_values([\"calitp_itp_id\",\"shape_id\"]).head()"
   ]
  },
  {
   "cell_type": "code",
   "execution_count": 73,
   "id": "cbf4231d-3f3a-4488-91ac-5f329a7a3f7f",
   "metadata": {
    "scrolled": true,
    "tags": []
   },
   "outputs": [],
   "source": [
    "# longest_shape.drop(columns = [\"geometry\", \"geometry_arrowized\"]).sort_values([\"calitp_itp_id\",\"longest_shape_id\"]).head(25)"
   ]
  },
  {
   "cell_type": "code",
   "execution_count": 72,
   "id": "4694a61e-658e-4a5b-ab0f-adea5f98d560",
   "metadata": {},
   "outputs": [],
   "source": [
    "# Dissolve so only one row for each calitp_id/shape_id/route_id\n",
    "# Don't care about segment necessarily?\n",
    "longest_shape_diss = longest_shape.dissolve(\n",
    "    by=[\"calitp_itp_id\", \"route_id\", \"longest_shape_id\",\"route_dir_identifier\"],\n",
    "    aggfunc={\n",
    "        \"route_length\": \"sum\",\n",
    "    },\n",
    ").reset_index()"
   ]
  },
  {
   "cell_type": "code",
   "execution_count": 31,
   "id": "9cefbdaf-90a8-4b87-917e-8621bc3e0287",
   "metadata": {},
   "outputs": [],
   "source": [
    "# longest_shape_diss.drop(columns = [\"geometry\"]).sort_values([\"calitp_itp_id\", \"route_id\"]).head(10)"
   ]
  },
  {
   "cell_type": "code",
   "execution_count": 32,
   "id": "0f9cb05d-c21a-4cb8-8e7f-de2e7e594f66",
   "metadata": {},
   "outputs": [],
   "source": [
    "# Do an inner merge? Or should it be left merge?\n",
    "m1 = routelines_diss.merge(\n",
    "    longest_shape_diss,\n",
    "    how=\"inner\",\n",
    "    left_on=[\"calitp_itp_id\", \"shape_id\"],\n",
    "    right_on=[\"calitp_itp_id\", \"longest_shape_id\"],\n",
    "    suffixes=(\"_routelines\", \"_longest_line\"),\n",
    ")"
   ]
  },
  {
   "cell_type": "code",
   "execution_count": 76,
   "id": "2d745c17-e0fb-40d5-beac-23c2ec341ca6",
   "metadata": {},
   "outputs": [
    {
     "data": {
      "text/plain": [
       "(5150, 7685, 5150)"
      ]
     },
     "execution_count": 76,
     "metadata": {},
     "output_type": "execute_result"
    }
   ],
   "source": [
    "len(longest_shape_diss), len(routelines_diss), len(m1)"
   ]
  },
  {
   "cell_type": "code",
   "execution_count": 33,
   "id": "2ddc020c-6f2c-4105-bbad-853cbe333752",
   "metadata": {},
   "outputs": [],
   "source": [
    "# Make sure this is a gdf? Is this important?\n",
    "m1 = m1.set_geometry(\"geometry_routelines\")"
   ]
  },
  {
   "cell_type": "code",
   "execution_count": 34,
   "id": "3e28ed5a-4acf-4335-9659-3530813ad795",
   "metadata": {},
   "outputs": [],
   "source": [
    "# Calculate out proportion of route length against longest.\n",
    "m1[\"proportion_route_length\"] = (\n",
    "    m1[\"route_length_routelines\"] / m1[\"route_length_longest_line\"]\n",
    ") * 100"
   ]
  },
  {
   "cell_type": "code",
   "execution_count": 35,
   "id": "c45b087a-7538-4ac2-a420-b966116bac6f",
   "metadata": {},
   "outputs": [
    {
     "data": {
      "text/plain": [
       "count   5150.00\n",
       "mean      32.88\n",
       "std       32.66\n",
       "min        1.06\n",
       "25%       12.62\n",
       "50%       23.43\n",
       "75%       41.06\n",
       "max      657.58\n",
       "Name: proportion_route_length, dtype: float64"
      ]
     },
     "execution_count": 35,
     "metadata": {},
     "output_type": "execute_result"
    }
   ],
   "source": [
    "m1.proportion_route_length.describe()"
   ]
  },
  {
   "cell_type": "code",
   "execution_count": 78,
   "id": "ed3b273c-e797-42ed-b6e4-ee1e12fc5bce",
   "metadata": {
    "tags": []
   },
   "outputs": [
    {
     "data": {
      "text/html": [
       "<div>\n",
       "<style scoped>\n",
       "    .dataframe tbody tr th:only-of-type {\n",
       "        vertical-align: middle;\n",
       "    }\n",
       "\n",
       "    .dataframe tbody tr th {\n",
       "        vertical-align: top;\n",
       "    }\n",
       "\n",
       "    .dataframe thead th {\n",
       "        text-align: right;\n",
       "    }\n",
       "</style>\n",
       "<table border=\"1\" class=\"dataframe\">\n",
       "  <thead>\n",
       "    <tr style=\"text-align: right;\">\n",
       "      <th></th>\n",
       "      <th>calitp_itp_id</th>\n",
       "      <th>shape_id</th>\n",
       "      <th>route_length_routelines</th>\n",
       "      <th>longest_shape_id</th>\n",
       "      <th>route_id</th>\n",
       "      <th>route_dir_identifier</th>\n",
       "      <th>route_length_longest_line</th>\n",
       "      <th>proportion_route_length</th>\n",
       "    </tr>\n",
       "  </thead>\n",
       "  <tbody>\n",
       "    <tr>\n",
       "      <th>5148</th>\n",
       "      <td>485</td>\n",
       "      <td>101</td>\n",
       "      <td>9353.86</td>\n",
       "      <td>101</td>\n",
       "      <td>Treasure Island – Yerba Buena Island</td>\n",
       "      <td>2504319577</td>\n",
       "      <td>8544.38</td>\n",
       "      <td>109.47</td>\n",
       "    </tr>\n",
       "    <tr>\n",
       "      <th>5149</th>\n",
       "      <td>485</td>\n",
       "      <td>102</td>\n",
       "      <td>9353.86</td>\n",
       "      <td>102</td>\n",
       "      <td>Treasure Island – Yerba Buena Island</td>\n",
       "      <td>3796095695</td>\n",
       "      <td>8544.38</td>\n",
       "      <td>109.47</td>\n",
       "    </tr>\n",
       "    <tr>\n",
       "      <th>5129</th>\n",
       "      <td>484</td>\n",
       "      <td>706_shp</td>\n",
       "      <td>300744.53</td>\n",
       "      <td>706_shp</td>\n",
       "      <td>90</td>\n",
       "      <td>1695780991</td>\n",
       "      <td>8414633.84</td>\n",
       "      <td>3.57</td>\n",
       "    </tr>\n",
       "    <tr>\n",
       "      <th>5131</th>\n",
       "      <td>484</td>\n",
       "      <td>735_shp</td>\n",
       "      <td>300464.01</td>\n",
       "      <td>735_shp</td>\n",
       "      <td>90</td>\n",
       "      <td>303341801</td>\n",
       "      <td>8406798.34</td>\n",
       "      <td>3.57</td>\n",
       "    </tr>\n",
       "    <tr>\n",
       "      <th>5097</th>\n",
       "      <td>484</td>\n",
       "      <td>628_shp</td>\n",
       "      <td>183383.62</td>\n",
       "      <td>628_shp</td>\n",
       "      <td>80</td>\n",
       "      <td>1691482696</td>\n",
       "      <td>3126727.93</td>\n",
       "      <td>5.87</td>\n",
       "    </tr>\n",
       "  </tbody>\n",
       "</table>\n",
       "</div>"
      ],
      "text/plain": [
       "      calitp_itp_id shape_id  route_length_routelines longest_shape_id  \\\n",
       "5148            485      101                  9353.86              101   \n",
       "5149            485      102                  9353.86              102   \n",
       "5129            484  706_shp                300744.53          706_shp   \n",
       "5131            484  735_shp                300464.01          735_shp   \n",
       "5097            484  628_shp                183383.62          628_shp   \n",
       "\n",
       "                                  route_id  route_dir_identifier  \\\n",
       "5148  Treasure Island – Yerba Buena Island            2504319577   \n",
       "5149  Treasure Island – Yerba Buena Island            3796095695   \n",
       "5129                                    90            1695780991   \n",
       "5131                                    90             303341801   \n",
       "5097                                    80            1691482696   \n",
       "\n",
       "      route_length_longest_line  proportion_route_length  \n",
       "5148                    8544.38                   109.47  \n",
       "5149                    8544.38                   109.47  \n",
       "5129                 8414633.84                     3.57  \n",
       "5131                 8406798.34                     3.57  \n",
       "5097                 3126727.93                     5.87  "
      ]
     },
     "execution_count": 78,
     "metadata": {},
     "output_type": "execute_result"
    }
   ],
   "source": [
    "m1.drop(columns = ['geometry_routelines','geometry_longest_line']).sort_values([\"calitp_itp_id\", \"route_id\"], ascending = False).head()"
   ]
  },
  {
   "cell_type": "markdown",
   "id": "319681c5-9f85-4e85-83ac-1b211d6d0189",
   "metadata": {},
   "source": [
    "### Task 2\n",
    "* Testing with 148 Kings County Area Public Transit Agency\n",
    "* Calculate time of trips?"
   ]
  },
  {
   "cell_type": "code",
   "execution_count": 136,
   "id": "6c6fba48-8462-43de-86ef-a382badb728d",
   "metadata": {},
   "outputs": [
    {
     "data": {
      "text/plain": [
       "22692"
      ]
     },
     "execution_count": 136,
     "metadata": {},
     "output_type": "execute_result"
    }
   ],
   "source": [
    "len(segment_148)"
   ]
  },
  {
   "cell_type": "markdown",
   "id": "9d28817d-4183-4428-9796-b3650af1d16c",
   "metadata": {},
   "source": [
    "* How come there are so many different timestamps within a 30 second increments of each either within the same segment?"
   ]
  },
  {
   "cell_type": "code",
   "execution_count": 137,
   "id": "fce2a7d7-d722-4afb-908d-32b90fd07a60",
   "metadata": {
    "tags": []
   },
   "outputs": [
    {
     "data": {
      "text/html": [
       "<div>\n",
       "<style scoped>\n",
       "    .dataframe tbody tr th:only-of-type {\n",
       "        vertical-align: middle;\n",
       "    }\n",
       "\n",
       "    .dataframe tbody tr th {\n",
       "        vertical-align: top;\n",
       "    }\n",
       "\n",
       "    .dataframe thead th {\n",
       "        text-align: right;\n",
       "    }\n",
       "</style>\n",
       "<table border=\"1\" class=\"dataframe\">\n",
       "  <thead>\n",
       "    <tr style=\"text-align: right;\">\n",
       "      <th></th>\n",
       "      <th>calitp_itp_id</th>\n",
       "      <th>calitp_url_number</th>\n",
       "      <th>vehicle_timestamp</th>\n",
       "      <th>trip_id</th>\n",
       "      <th>route_dir_identifier</th>\n",
       "      <th>segment_sequence</th>\n",
       "      <th>lon</th>\n",
       "      <th>lat</th>\n",
       "    </tr>\n",
       "  </thead>\n",
       "  <tbody>\n",
       "    <tr>\n",
       "      <th>287</th>\n",
       "      <td>148</td>\n",
       "      <td>0</td>\n",
       "      <td>2022-10-12 18:26:26</td>\n",
       "      <td>100</td>\n",
       "      <td>4023814891</td>\n",
       "      <td>0</td>\n",
       "      <td>31139.56</td>\n",
       "      <td>-187848.08</td>\n",
       "    </tr>\n",
       "    <tr>\n",
       "      <th>288</th>\n",
       "      <td>148</td>\n",
       "      <td>0</td>\n",
       "      <td>2022-10-12 18:26:56</td>\n",
       "      <td>100</td>\n",
       "      <td>4023814891</td>\n",
       "      <td>0</td>\n",
       "      <td>31133.83</td>\n",
       "      <td>-187776.98</td>\n",
       "    </tr>\n",
       "  </tbody>\n",
       "</table>\n",
       "</div>"
      ],
      "text/plain": [
       "     calitp_itp_id  calitp_url_number   vehicle_timestamp trip_id  \\\n",
       "287            148                  0 2022-10-12 18:26:26     100   \n",
       "288            148                  0 2022-10-12 18:26:56     100   \n",
       "\n",
       "     route_dir_identifier segment_sequence      lon        lat  \n",
       "287            4023814891                0 31139.56 -187848.08  \n",
       "288            4023814891                0 31133.83 -187776.98  "
      ]
     },
     "execution_count": 137,
     "metadata": {},
     "output_type": "execute_result"
    }
   ],
   "source": [
    "segment_148.sort_values([\"trip_id\", \"segment_sequence\"]).head(2)"
   ]
  },
  {
   "cell_type": "code",
   "execution_count": 138,
   "id": "ce5acdb9-9e75-4c1d-8dd0-d23177be9507",
   "metadata": {},
   "outputs": [],
   "source": [
    "merge_cols = [\"calitp_itp_id\", \"trip_id\", \"route_dir_identifier\",]"
   ]
  },
  {
   "cell_type": "code",
   "execution_count": 139,
   "id": "24aef2a0-ef40-495b-b589-dfa13c69d9e9",
   "metadata": {},
   "outputs": [],
   "source": [
    "# Get the minimum time of the vehicle stamp.\n",
    "# For the trip_ID and direction. \n",
    "segment_148_min = (\n",
    "    segment_148.groupby(merge_cols)\n",
    "    .agg({\"vehicle_timestamp\": \"min\"})\n",
    "    .rename(columns={\"vehicle_timestamp\": \"min_time\"})\n",
    "    .reset_index()\n",
    ")"
   ]
  },
  {
   "cell_type": "code",
   "execution_count": 140,
   "id": "f18faacb-c51a-492c-a291-ec0f30985427",
   "metadata": {},
   "outputs": [],
   "source": [
    "# Get the max time of the vehicle stamp.\n",
    "segment_148_max = (\n",
    "    segment_148.groupby(merge_cols)\n",
    "    .agg({\"vehicle_timestamp\": \"max\"})\n",
    "    .rename(columns={\"vehicle_timestamp\": \"max_time\"})\n",
    "    .reset_index()\n",
    ")"
   ]
  },
  {
   "cell_type": "code",
   "execution_count": 141,
   "id": "d2963a18-ff8d-44e8-bee2-67828153aabe",
   "metadata": {},
   "outputs": [],
   "source": [
    "# Count number of segments\n",
    "segment_counts_148 = (segment_148.groupby(merge_cols)\n",
    "    .agg({\"segment_sequence\": \"nunique\"})\n",
    "    .reset_index()\n",
    "    .rename(columns = {\"segment_sequence\":\"number_of_segments\"})\n",
    "                     )"
   ]
  },
  {
   "cell_type": "code",
   "execution_count": 142,
   "id": "2369716d-111b-4058-abed-bd0b00376616",
   "metadata": {},
   "outputs": [],
   "source": [
    "segment_148_m = segment_148_max.merge(\n",
    "    segment_148_min,\n",
    "    how=\"inner\",\n",
    "    on=merge_cols,\n",
    ").merge(\n",
    "    segment_counts_148,\n",
    "    how=\"left\",\n",
    "    on=merge_cols)"
   ]
  },
  {
   "cell_type": "code",
   "execution_count": 143,
   "id": "3919c939-c62c-4cdc-a920-3ddff2068de8",
   "metadata": {
    "scrolled": true,
    "tags": []
   },
   "outputs": [],
   "source": [
    "# segment_148_m.sort_values([\"trip_id\"]).head(25)"
   ]
  },
  {
   "cell_type": "code",
   "execution_count": 144,
   "id": "6850b018-2841-4217-8a51-22cac1408d18",
   "metadata": {},
   "outputs": [],
   "source": [
    "# https://stackoverflow.com/questions/51491724/calculate-difference-of-2-dates-in-minutes-in-pandas\n",
    "segment_148_m['minutes_elapsed'] = (segment_148_m.max_time - segment_148_m.min_time).dt.total_seconds() / 60"
   ]
  },
  {
   "cell_type": "code",
   "execution_count": 146,
   "id": "daab78b8-8580-4b44-82b8-b20b832ca59c",
   "metadata": {},
   "outputs": [
    {
     "data": {
      "text/html": [
       "<div>\n",
       "<style scoped>\n",
       "    .dataframe tbody tr th:only-of-type {\n",
       "        vertical-align: middle;\n",
       "    }\n",
       "\n",
       "    .dataframe tbody tr th {\n",
       "        vertical-align: top;\n",
       "    }\n",
       "\n",
       "    .dataframe thead th {\n",
       "        text-align: right;\n",
       "    }\n",
       "</style>\n",
       "<table border=\"1\" class=\"dataframe\">\n",
       "  <thead>\n",
       "    <tr style=\"text-align: right;\">\n",
       "      <th></th>\n",
       "      <th>calitp_itp_id</th>\n",
       "      <th>trip_id</th>\n",
       "      <th>route_dir_identifier</th>\n",
       "      <th>max_time</th>\n",
       "      <th>min_time</th>\n",
       "      <th>number_of_segments</th>\n",
       "      <th>minutes_elapsed</th>\n",
       "    </tr>\n",
       "  </thead>\n",
       "  <tbody>\n",
       "    <tr>\n",
       "      <th>0</th>\n",
       "      <td>148</td>\n",
       "      <td>100</td>\n",
       "      <td>4023814891</td>\n",
       "      <td>2022-10-12 18:57:26</td>\n",
       "      <td>2022-10-12 18:26:26</td>\n",
       "      <td>10</td>\n",
       "      <td>31.00</td>\n",
       "    </tr>\n",
       "    <tr>\n",
       "      <th>1</th>\n",
       "      <td>148</td>\n",
       "      <td>101</td>\n",
       "      <td>4023814891</td>\n",
       "      <td>2022-10-12 19:23:26</td>\n",
       "      <td>2022-10-12 18:57:56</td>\n",
       "      <td>10</td>\n",
       "      <td>25.50</td>\n",
       "    </tr>\n",
       "  </tbody>\n",
       "</table>\n",
       "</div>"
      ],
      "text/plain": [
       "   calitp_itp_id trip_id  route_dir_identifier            max_time  \\\n",
       "0            148     100            4023814891 2022-10-12 18:57:26   \n",
       "1            148     101            4023814891 2022-10-12 19:23:26   \n",
       "\n",
       "             min_time  number_of_segments  minutes_elapsed  \n",
       "0 2022-10-12 18:26:26                  10            31.00  \n",
       "1 2022-10-12 18:57:56                  10            25.50  "
      ]
     },
     "execution_count": 146,
     "metadata": {},
     "output_type": "execute_result"
    }
   ],
   "source": [
    "segment_148_m.head(2)"
   ]
  },
  {
   "cell_type": "code",
   "execution_count": 147,
   "id": "d93358b3-0f04-4ff4-9704-8bdb6506b584",
   "metadata": {},
   "outputs": [
    {
     "data": {
      "text/plain": [
       "232"
      ]
     },
     "execution_count": 147,
     "metadata": {},
     "output_type": "execute_result"
    }
   ],
   "source": [
    "len(segment_148_m)"
   ]
  },
  {
   "cell_type": "code",
   "execution_count": 148,
   "id": "06b1f91e-c8b2-4ed1-a8b0-339d3fd79699",
   "metadata": {},
   "outputs": [
    {
     "data": {
      "text/plain": [
       "(True, True)"
      ]
     },
     "execution_count": 148,
     "metadata": {},
     "output_type": "execute_result"
    }
   ],
   "source": [
    "segment_148_m.trip_id.nunique() == segment_148.trip_id.nunique(), segment_148_m.route_dir_identifier.nunique() == segment_148.route_dir_identifier.nunique()"
   ]
  },
  {
   "cell_type": "code",
   "execution_count": 149,
   "id": "fa2fa009-81ce-4517-89ee-9c85b0c97130",
   "metadata": {},
   "outputs": [],
   "source": [
    "# Merge to get calitp_itp_id\troute_id\tdirection_id\troute_dir_identifier info\n",
    "segment_148_m = segment_148_m.merge(\n",
    "    segments_crosswalks,\n",
    "    how=\"inner\",\n",
    "    on=['calitp_itp_id','route_dir_identifier'],\n",
    ")"
   ]
  },
  {
   "cell_type": "code",
   "execution_count": 150,
   "id": "a24395e5-982f-4f76-ae48-d08a5933267f",
   "metadata": {},
   "outputs": [],
   "source": [
    "# Merge with the shape ID proportion df.\n",
    "m2 = segment_148_m.merge(\n",
    "    m1,\n",
    "    how=\"inner\",\n",
    "    on=['calitp_itp_id','route_dir_identifier', \"route_id\"],\n",
    "    indicator = True\n",
    ")"
   ]
  },
  {
   "cell_type": "code",
   "execution_count": 151,
   "id": "d0748337-4196-4af9-817f-be3d688428fd",
   "metadata": {},
   "outputs": [
    {
     "data": {
      "text/plain": [
       "(232, 232)"
      ]
     },
     "execution_count": 151,
     "metadata": {},
     "output_type": "execute_result"
    }
   ],
   "source": [
    "len(m2), len(segment_148_m)"
   ]
  },
  {
   "cell_type": "code",
   "execution_count": 152,
   "id": "b9085c85-f56b-4592-b7bf-f9870d458394",
   "metadata": {},
   "outputs": [],
   "source": [
    "col_order = ['calitp_itp_id',  'route_id', 'trip_id', 'number_of_segments', 'route_dir_identifier', 'max_time',\n",
    "       'min_time', 'minutes_elapsed','direction_id', 'shape_id', 'longest_shape_id',\n",
    "               'proportion_route_length']"
   ]
  },
  {
   "cell_type": "code",
   "execution_count": 153,
   "id": "87f91af4-13b8-4719-abe4-06f3325737ea",
   "metadata": {},
   "outputs": [],
   "source": [
    "# Change col order & drop unnecessary ones.\n",
    "m2 = m2[col_order]"
   ]
  },
  {
   "cell_type": "code",
   "execution_count": 155,
   "id": "2018947b-7eae-4217-b100-ab2f2a0d2078",
   "metadata": {},
   "outputs": [
    {
     "data": {
      "text/plain": [
       "232"
      ]
     },
     "execution_count": 155,
     "metadata": {},
     "output_type": "execute_result"
    }
   ],
   "source": [
    "len(m2)"
   ]
  },
  {
   "cell_type": "code",
   "execution_count": 161,
   "id": "b1ac291e-f41d-4a3b-bf70-906d9a5724a8",
   "metadata": {
    "tags": []
   },
   "outputs": [
    {
     "data": {
      "text/html": [
       "<div>\n",
       "<style scoped>\n",
       "    .dataframe tbody tr th:only-of-type {\n",
       "        vertical-align: middle;\n",
       "    }\n",
       "\n",
       "    .dataframe tbody tr th {\n",
       "        vertical-align: top;\n",
       "    }\n",
       "\n",
       "    .dataframe thead th {\n",
       "        text-align: right;\n",
       "    }\n",
       "</style>\n",
       "<table border=\"1\" class=\"dataframe\">\n",
       "  <thead>\n",
       "    <tr style=\"text-align: right;\">\n",
       "      <th></th>\n",
       "      <th>calitp_itp_id</th>\n",
       "      <th>route_id</th>\n",
       "      <th>trip_id</th>\n",
       "      <th>number_of_segments</th>\n",
       "      <th>route_dir_identifier</th>\n",
       "      <th>max_time</th>\n",
       "      <th>min_time</th>\n",
       "      <th>minutes_elapsed</th>\n",
       "      <th>direction_id</th>\n",
       "      <th>shape_id</th>\n",
       "      <th>longest_shape_id</th>\n",
       "      <th>proportion_route_length</th>\n",
       "    </tr>\n",
       "  </thead>\n",
       "  <tbody>\n",
       "    <tr>\n",
       "      <th>0</th>\n",
       "      <td>148</td>\n",
       "      <td>1</td>\n",
       "      <td>100</td>\n",
       "      <td>10</td>\n",
       "      <td>4023814891</td>\n",
       "      <td>2022-10-12 18:57:26</td>\n",
       "      <td>2022-10-12 18:26:26</td>\n",
       "      <td>31.00</td>\n",
       "      <td>0</td>\n",
       "      <td>42</td>\n",
       "      <td>42</td>\n",
       "      <td>32.79</td>\n",
       "    </tr>\n",
       "    <tr>\n",
       "      <th>1</th>\n",
       "      <td>148</td>\n",
       "      <td>1</td>\n",
       "      <td>101</td>\n",
       "      <td>10</td>\n",
       "      <td>4023814891</td>\n",
       "      <td>2022-10-12 19:23:26</td>\n",
       "      <td>2022-10-12 18:57:56</td>\n",
       "      <td>25.50</td>\n",
       "      <td>0</td>\n",
       "      <td>42</td>\n",
       "      <td>42</td>\n",
       "      <td>32.79</td>\n",
       "    </tr>\n",
       "    <tr>\n",
       "      <th>2</th>\n",
       "      <td>148</td>\n",
       "      <td>1</td>\n",
       "      <td>102</td>\n",
       "      <td>10</td>\n",
       "      <td>4023814891</td>\n",
       "      <td>2022-10-12 19:55:26</td>\n",
       "      <td>2022-10-12 19:23:56</td>\n",
       "      <td>31.50</td>\n",
       "      <td>0</td>\n",
       "      <td>42</td>\n",
       "      <td>42</td>\n",
       "      <td>32.79</td>\n",
       "    </tr>\n",
       "    <tr>\n",
       "      <th>3</th>\n",
       "      <td>148</td>\n",
       "      <td>1</td>\n",
       "      <td>76</td>\n",
       "      <td>10</td>\n",
       "      <td>4023814891</td>\n",
       "      <td>2022-10-12 06:54:55</td>\n",
       "      <td>2022-10-12 06:18:55</td>\n",
       "      <td>36.00</td>\n",
       "      <td>0</td>\n",
       "      <td>42</td>\n",
       "      <td>42</td>\n",
       "      <td>32.79</td>\n",
       "    </tr>\n",
       "    <tr>\n",
       "      <th>4</th>\n",
       "      <td>148</td>\n",
       "      <td>1</td>\n",
       "      <td>77</td>\n",
       "      <td>10</td>\n",
       "      <td>4023814891</td>\n",
       "      <td>2022-10-12 07:23:56</td>\n",
       "      <td>2022-10-12 06:55:25</td>\n",
       "      <td>28.52</td>\n",
       "      <td>0</td>\n",
       "      <td>42</td>\n",
       "      <td>42</td>\n",
       "      <td>32.79</td>\n",
       "    </tr>\n",
       "  </tbody>\n",
       "</table>\n",
       "</div>"
      ],
      "text/plain": [
       "   calitp_itp_id route_id trip_id  number_of_segments  route_dir_identifier  \\\n",
       "0            148        1     100                  10            4023814891   \n",
       "1            148        1     101                  10            4023814891   \n",
       "2            148        1     102                  10            4023814891   \n",
       "3            148        1      76                  10            4023814891   \n",
       "4            148        1      77                  10            4023814891   \n",
       "\n",
       "             max_time            min_time  minutes_elapsed direction_id  \\\n",
       "0 2022-10-12 18:57:26 2022-10-12 18:26:26            31.00            0   \n",
       "1 2022-10-12 19:23:26 2022-10-12 18:57:56            25.50            0   \n",
       "2 2022-10-12 19:55:26 2022-10-12 19:23:56            31.50            0   \n",
       "3 2022-10-12 06:54:55 2022-10-12 06:18:55            36.00            0   \n",
       "4 2022-10-12 07:23:56 2022-10-12 06:55:25            28.52            0   \n",
       "\n",
       "  shape_id longest_shape_id  proportion_route_length  \n",
       "0       42               42                    32.79  \n",
       "1       42               42                    32.79  \n",
       "2       42               42                    32.79  \n",
       "3       42               42                    32.79  \n",
       "4       42               42                    32.79  "
      ]
     },
     "execution_count": 161,
     "metadata": {},
     "output_type": "execute_result"
    }
   ],
   "source": [
    "(m2.sort_values(by = [\"route_id\", \"trip_id\"])).head()"
   ]
  },
  {
   "cell_type": "markdown",
   "id": "ca45c1d2-fc5a-46f2-b7ed-029d67bc8af6",
   "metadata": {},
   "source": [
    "### Questions \n",
    "* For each operator, what's the % of RT trip_ids that would remain after those thresholds are used? Make a chart function that takes a single operator. Produce charts for all operators. Is the time or geographic coverage that's driving this excluding of trips? What is a recommended threshold to use?\n",
    "* For short trips, do they tend to be 50% of the longest route length? 40% 30%? Have this handy to inform question 1.\n"
   ]
  },
  {
   "cell_type": "code",
   "execution_count": 145,
   "id": "efbcdf22-5180-4785-ac55-98cef017ca57",
   "metadata": {},
   "outputs": [
    {
     "data": {
      "text/plain": [
       "count   232.00\n",
       "mean     40.54\n",
       "std      27.08\n",
       "min      21.00\n",
       "25%      28.48\n",
       "50%      30.00\n",
       "75%      32.50\n",
       "max     189.50\n",
       "Name: minutes_elapsed, dtype: float64"
      ]
     },
     "execution_count": 145,
     "metadata": {},
     "output_type": "execute_result"
    }
   ],
   "source": [
    "segment_148_m.minutes_elapsed.describe()"
   ]
  },
  {
   "cell_type": "code",
   "execution_count": 164,
   "id": "8037b58d-63a0-4894-bf7d-0e43415c2298",
   "metadata": {},
   "outputs": [],
   "source": [
    "threshold = 40"
   ]
  },
  {
   "cell_type": "code",
   "execution_count": 165,
   "id": "14493f40-40e5-4ebb-9fbe-1c55b727c5cf",
   "metadata": {},
   "outputs": [],
   "source": [
    "usable = (segment_148_m.loc[segment_148_m.minutes_elapsed > threshold]).reset_index(drop = True)"
   ]
  },
  {
   "cell_type": "code",
   "execution_count": 166,
   "id": "e077f324-44c6-420e-988d-a482ad69300c",
   "metadata": {},
   "outputs": [],
   "source": [
    "unusable = (segment_148_m.loc[segment_148_m.minutes_elapsed < threshold]).reset_index(drop = True)"
   ]
  },
  {
   "cell_type": "code",
   "execution_count": 167,
   "id": "10d5036c-ae8a-4dcd-a919-418a4ea7defc",
   "metadata": {},
   "outputs": [
    {
     "data": {
      "text/plain": [
       "(192, 40)"
      ]
     },
     "execution_count": 167,
     "metadata": {},
     "output_type": "execute_result"
    }
   ],
   "source": [
    "len(unusable), len(usable)"
   ]
  },
  {
   "cell_type": "code",
   "execution_count": null,
   "id": "feda1f87-f2b8-49f3-b624-45ccc26b7bb8",
   "metadata": {},
   "outputs": [],
   "source": []
  }
 ],
 "metadata": {
  "kernelspec": {
   "display_name": "Python 3 (ipykernel)",
   "language": "python",
   "name": "python3"
  },
  "language_info": {
   "codemirror_mode": {
    "name": "ipython",
    "version": 3
   },
   "file_extension": ".py",
   "mimetype": "text/x-python",
   "name": "python",
   "nbconvert_exporter": "python",
   "pygments_lexer": "ipython3",
   "version": "3.9.13"
  }
 },
 "nbformat": 4,
 "nbformat_minor": 5
}
