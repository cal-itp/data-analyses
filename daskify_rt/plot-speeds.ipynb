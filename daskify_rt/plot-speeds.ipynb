{
 "cells": [
  {
   "cell_type": "markdown",
   "id": "8e469eec-03e7-4f34-8c3e-e3934735e1c7",
   "metadata": {},
   "source": [
    "# Plot speeds by segments"
   ]
  },
  {
   "cell_type": "code",
   "execution_count": null,
   "id": "9f04613d-8fa7-44d1-8827-3c55e2351ab0",
   "metadata": {},
   "outputs": [],
   "source": [
    "import dask.dataframe as dd\n",
    "import geopandas as gpd\n",
    "import pandas as pd\n",
    "import warnings\n",
    "\n",
    "from shared_utils import rt_utils\n",
    "\n",
    "GCS_FILE_PATH = \"gs://calitp-analytics-data/data-analyses/\"\n",
    "DASK_TEST = f\"{GCS_FILE_PATH}dask_test/\"\n",
    "\n",
    "analysis_date = \"2022-10-12\"\n",
    "\n",
    "warnings.filterwarnings(\"ignore\")"
   ]
  },
  {
   "cell_type": "code",
   "execution_count": null,
   "id": "96b9b53d-6bbc-408d-813f-1306fb6d04fe",
   "metadata": {},
   "outputs": [],
   "source": [
    "def avg_speeds_with_segment_geom(\n",
    "    analysis_date: str, \n",
    "    max_speed_cutoff: int = 70\n",
    ") -> gpd.GeoDataFrame: \n",
    "    \"\"\"\n",
    "    Import the segment-trip table. \n",
    "    Average the speed_mph across all trips present in the segment.\n",
    "    \"\"\"\n",
    "    # Test on BBB for now and get arrowizing right - double check \n",
    "    # where it's running in both directions that you can see both lines\n",
    "    df = dd.read_parquet(\n",
    "        f\"{DASK_TEST}speeds_{analysis_date}/\")\n",
    "    \n",
    "    # Take the average after dropping unusually high speeds\n",
    "    segment_cols = [\"calitp_itp_id\", \"route_dir_identifier\", \n",
    "                    \"segment_sequence\"]\n",
    "    \n",
    "    avg_speeds = (df[(df.speed_mph <= max_speed_cutoff)].compute()\n",
    "        .groupby(segment_cols)\n",
    "        .agg({\n",
    "            \"speed_mph\": \"mean\",\n",
    "            \"trip_id\": \"nunique\"\n",
    "        }).reset_index()\n",
    "    )\n",
    "    \n",
    "    # Clean up for map\n",
    "    avg_speeds = avg_speeds.assign(\n",
    "        speed_mph = avg_speeds.speed_mph.round(2),\n",
    "    ).rename(columns = {\"trip_id\": \"n_trips\"})\n",
    "    \n",
    "    # Merge in segment geometry\n",
    "    segments = gpd.read_parquet(\n",
    "        f\"{DASK_TEST}longest_shape_segments.parquet\",\n",
    "        columns = segment_cols + [\"geometry\", \"geometry_arrowized\"]\n",
    "    ).drop_duplicates().reset_index(drop=True)\n",
    "    \n",
    "    segments2 = segments.set_geometry(\"geometry_arrowized\")\n",
    "    segments2.crs = segments.crs\n",
    "    \n",
    "    gdf = pd.merge(\n",
    "        segments2[~segments2.geometry_arrowized.is_empty], \n",
    "        avg_speeds,\n",
    "        on = segment_cols,\n",
    "        how = \"inner\"\n",
    "    )\n",
    "    \n",
    "    return gdf"
   ]
  },
  {
   "cell_type": "code",
   "execution_count": null,
   "id": "356fa070-ed53-4740-a0cd-06abc624d93f",
   "metadata": {},
   "outputs": [],
   "source": [
    "gdf = avg_speeds_with_segment_geom(\n",
    "    analysis_date, \n",
    "    max_speed_cutoff = 70\n",
    ")"
   ]
  },
  {
   "cell_type": "code",
   "execution_count": null,
   "id": "0ae01433-865d-4820-94fe-a62a6c4c6376",
   "metadata": {},
   "outputs": [],
   "source": [
    "for s in range(30, 75, 5):\n",
    "    print(f\"# rows with over {s} mph: {len(gdf[gdf.speed_mph > s])}\")"
   ]
  },
  {
   "cell_type": "code",
   "execution_count": null,
   "id": "757ea5bc-8fe9-44fd-b002-5cc6e87ae547",
   "metadata": {},
   "outputs": [],
   "source": [
    "import branca\n",
    "\n",
    "ZERO_FIFTY_COLORSCALE = branca.colormap.step.RdYlGn_10.scale(\n",
    "    vmin=0, \n",
    "    vmax=50\n",
    ")\n"
   ]
  },
  {
   "cell_type": "code",
   "execution_count": null,
   "id": "ba31f6c6-bb3b-4128-9061-ed89db670643",
   "metadata": {},
   "outputs": [],
   "source": [
    "gdf.explore(\n",
    "    \"speed_mph\",\n",
    "    tiles = \"CartoDB Positron\",\n",
    "    cmap = ZERO_FIFTY_COLORSCALE\n",
    ")"
   ]
  },
  {
   "cell_type": "code",
   "execution_count": null,
   "id": "326a0bb8-a95f-42fb-ba6d-b5a01f2864d8",
   "metadata": {},
   "outputs": [],
   "source": []
  }
 ],
 "metadata": {
  "kernelspec": {
   "display_name": "Python 3 (ipykernel)",
   "language": "python",
   "name": "python3"
  },
  "language_info": {
   "codemirror_mode": {
    "name": "ipython",
    "version": 3
   },
   "file_extension": ".py",
   "mimetype": "text/x-python",
   "name": "python",
   "nbconvert_exporter": "python",
   "pygments_lexer": "ipython3",
   "version": "3.9.13"
  }
 },
 "nbformat": 4,
 "nbformat_minor": 5
}
