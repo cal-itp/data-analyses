{
 "cells": [
  {
   "cell_type": "code",
   "execution_count": 1,
   "id": "8e6fa594-813c-4790-b8c4-b0f138323117",
   "metadata": {},
   "outputs": [
    {
     "name": "stderr",
     "output_type": "stream",
     "text": [
      "/opt/conda/lib/python3.9/site-packages/geopandas/_compat.py:123: UserWarning: The Shapely GEOS version (3.10.3-CAPI-1.16.1) is incompatible with the GEOS version PyGEOS was compiled with (3.10.1-CAPI-1.16.0). Conversions between both will be slow.\n",
      "  warnings.warn(\n"
     ]
    }
   ],
   "source": [
    "import dask.dataframe as dd\n",
    "import dask_geopandas as dg\n",
    "\n",
    "import pandas as pd\n",
    "import geopandas as gpd\n",
    "from siuba import *\n",
    "\n",
    "import shared_utils\n",
    "\n",
    "import gcsfs\n",
    "fs = gcsfs.GCSFileSystem()"
   ]
  },
  {
   "cell_type": "code",
   "execution_count": 2,
   "id": "63982e00-9b8f-4305-afc7-2ffde3df4531",
   "metadata": {},
   "outputs": [],
   "source": [
    "analysis_date = shared_utils.rt_dates.DATES['oct2022']"
   ]
  },
  {
   "cell_type": "code",
   "execution_count": 3,
   "id": "81c9c177-1bc6-4ffe-9cd2-b50280598cfd",
   "metadata": {},
   "outputs": [
    {
     "data": {
      "text/plain": [
       "'2022-10-12'"
      ]
     },
     "execution_count": 3,
     "metadata": {},
     "output_type": "execute_result"
    }
   ],
   "source": [
    "analysis_date"
   ]
  },
  {
   "cell_type": "code",
   "execution_count": 12,
   "id": "990f689a-7d99-44d3-baea-079832c50c6a",
   "metadata": {},
   "outputs": [],
   "source": [
    "bbb = 'gs://calitp-analytics-data/data-analyses/dask_test/speeds_by_operator/speeds_300_2022-10-12.parquet'"
   ]
  },
  {
   "cell_type": "code",
   "execution_count": 13,
   "id": "8ea3c2e4-e36a-4f32-ac8c-9ad4f121a2d9",
   "metadata": {},
   "outputs": [],
   "source": [
    "bbb_test = pd.read_parquet(bbb)"
   ]
  },
  {
   "cell_type": "code",
   "execution_count": 14,
   "id": "c8f5a61d-b779-451a-9fae-45164507a1cd",
   "metadata": {},
   "outputs": [
    {
     "data": {
      "text/html": [
       "<div>\n",
       "<style scoped>\n",
       "    .dataframe tbody tr th:only-of-type {\n",
       "        vertical-align: middle;\n",
       "    }\n",
       "\n",
       "    .dataframe tbody tr th {\n",
       "        vertical-align: top;\n",
       "    }\n",
       "\n",
       "    .dataframe thead th {\n",
       "        text-align: right;\n",
       "    }\n",
       "</style>\n",
       "<table border=\"1\" class=\"dataframe\">\n",
       "  <thead>\n",
       "    <tr style=\"text-align: right;\">\n",
       "      <th></th>\n",
       "      <th>calitp_itp_id</th>\n",
       "      <th>trip_id</th>\n",
       "      <th>route_dir_identifier</th>\n",
       "      <th>segment_sequence</th>\n",
       "      <th>min_time</th>\n",
       "      <th>max_time</th>\n",
       "      <th>min_dist</th>\n",
       "      <th>max_dist</th>\n",
       "      <th>meters_elapsed</th>\n",
       "      <th>sec_elapsed</th>\n",
       "      <th>speed_mph</th>\n",
       "    </tr>\n",
       "  </thead>\n",
       "  <tbody>\n",
       "    <tr>\n",
       "      <th>0</th>\n",
       "      <td>300</td>\n",
       "      <td>886311</td>\n",
       "      <td>1211914915</td>\n",
       "      <td>0</td>\n",
       "      <td>2022-10-12 05:10:53</td>\n",
       "      <td>2022-10-12 05:13:51</td>\n",
       "      <td>320.993700</td>\n",
       "      <td>474.533425</td>\n",
       "      <td>153.539726</td>\n",
       "      <td>178.0</td>\n",
       "      <td>1.929598</td>\n",
       "    </tr>\n",
       "    <tr>\n",
       "      <th>1</th>\n",
       "      <td>300</td>\n",
       "      <td>886366</td>\n",
       "      <td>1211914915</td>\n",
       "      <td>0</td>\n",
       "      <td>2022-10-12 13:33:20</td>\n",
       "      <td>2022-10-12 14:02:37</td>\n",
       "      <td>312.623304</td>\n",
       "      <td>766.547469</td>\n",
       "      <td>453.924165</td>\n",
       "      <td>1757.0</td>\n",
       "      <td>0.577933</td>\n",
       "    </tr>\n",
       "    <tr>\n",
       "      <th>2</th>\n",
       "      <td>300</td>\n",
       "      <td>886364</td>\n",
       "      <td>1211914915</td>\n",
       "      <td>0</td>\n",
       "      <td>2022-10-12 14:16:04</td>\n",
       "      <td>2022-10-12 14:20:53</td>\n",
       "      <td>319.716535</td>\n",
       "      <td>904.145313</td>\n",
       "      <td>584.428778</td>\n",
       "      <td>289.0</td>\n",
       "      <td>4.523762</td>\n",
       "    </tr>\n",
       "  </tbody>\n",
       "</table>\n",
       "</div>"
      ],
      "text/plain": [
       "   calitp_itp_id trip_id  route_dir_identifier segment_sequence  \\\n",
       "0            300  886311            1211914915                0   \n",
       "1            300  886366            1211914915                0   \n",
       "2            300  886364            1211914915                0   \n",
       "\n",
       "             min_time            max_time    min_dist    max_dist  \\\n",
       "0 2022-10-12 05:10:53 2022-10-12 05:13:51  320.993700  474.533425   \n",
       "1 2022-10-12 13:33:20 2022-10-12 14:02:37  312.623304  766.547469   \n",
       "2 2022-10-12 14:16:04 2022-10-12 14:20:53  319.716535  904.145313   \n",
       "\n",
       "   meters_elapsed  sec_elapsed  speed_mph  \n",
       "0      153.539726        178.0   1.929598  \n",
       "1      453.924165       1757.0   0.577933  \n",
       "2      584.428778        289.0   4.523762  "
      ]
     },
     "execution_count": 14,
     "metadata": {},
     "output_type": "execute_result"
    }
   ],
   "source": [
    "bbb_test >> head(3)"
   ]
  },
  {
   "cell_type": "code",
   "execution_count": 15,
   "id": "05e73946-9dc3-40df-8f8d-290f178ae761",
   "metadata": {},
   "outputs": [
    {
     "data": {
      "text/html": [
       "<div>\n",
       "<style scoped>\n",
       "    .dataframe tbody tr th:only-of-type {\n",
       "        vertical-align: middle;\n",
       "    }\n",
       "\n",
       "    .dataframe tbody tr th {\n",
       "        vertical-align: top;\n",
       "    }\n",
       "\n",
       "    .dataframe thead th {\n",
       "        text-align: right;\n",
       "    }\n",
       "</style>\n",
       "<table border=\"1\" class=\"dataframe\">\n",
       "  <thead>\n",
       "    <tr style=\"text-align: right;\">\n",
       "      <th></th>\n",
       "      <th>calitp_itp_id</th>\n",
       "      <th>trip_id</th>\n",
       "      <th>route_dir_identifier</th>\n",
       "      <th>segment_sequence</th>\n",
       "      <th>min_time</th>\n",
       "      <th>max_time</th>\n",
       "      <th>min_dist</th>\n",
       "      <th>max_dist</th>\n",
       "      <th>meters_elapsed</th>\n",
       "      <th>sec_elapsed</th>\n",
       "      <th>speed_mph</th>\n",
       "    </tr>\n",
       "  </thead>\n",
       "  <tbody>\n",
       "  </tbody>\n",
       "</table>\n",
       "</div>"
      ],
      "text/plain": [
       "Empty DataFrame\n",
       "Columns: [calitp_itp_id, trip_id, route_dir_identifier, segment_sequence, min_time, max_time, min_dist, max_dist, meters_elapsed, sec_elapsed, speed_mph]\n",
       "Index: []"
      ]
     },
     "execution_count": 15,
     "metadata": {},
     "output_type": "execute_result"
    }
   ],
   "source": [
    "bbb_test >> filter(_.min_dist.isna()) "
   ]
  },
  {
   "cell_type": "code",
   "execution_count": 16,
   "id": "451ea1ff-e12b-4b27-b527-92fad21b4db6",
   "metadata": {},
   "outputs": [
    {
     "data": {
      "text/plain": [
       "False    18313\n",
       "Name: min_dist, dtype: int64"
      ]
     },
     "execution_count": 16,
     "metadata": {},
     "output_type": "execute_result"
    }
   ],
   "source": [
    "bbb_test.min_dist.isna().value_counts()"
   ]
  },
  {
   "cell_type": "code",
   "execution_count": 17,
   "id": "c85e35d9-d521-4c69-a431-a480ce69bef0",
   "metadata": {},
   "outputs": [
    {
     "data": {
      "text/plain": [
       "False    18313\n",
       "Name: max_dist, dtype: int64"
      ]
     },
     "execution_count": 17,
     "metadata": {},
     "output_type": "execute_result"
    }
   ],
   "source": [
    "bbb_test.max_dist.isna().value_counts()"
   ]
  },
  {
   "cell_type": "code",
   "execution_count": 10,
   "id": "bcc8ee62-06d9-462b-bb9d-9fd16571ad50",
   "metadata": {},
   "outputs": [],
   "source": [
    "partition_speeds = 'gs://calitp-analytics-data/data-analyses/dask_test/speeds_2022-10-12'"
   ]
  },
  {
   "cell_type": "code",
   "execution_count": 11,
   "id": "e3b531d0-5767-4614-a01a-dbcb721e0a4b",
   "metadata": {},
   "outputs": [],
   "source": [
    "ddf = dd.read_parquet(partition_speeds)"
   ]
  },
  {
   "cell_type": "code",
   "execution_count": 20,
   "id": "b97792d4-141a-4364-b3d8-5e3be816199e",
   "metadata": {},
   "outputs": [
    {
     "data": {
      "text/html": [
       "<div><strong>Dask DataFrame Structure:</strong></div>\n",
       "<div>\n",
       "<style scoped>\n",
       "    .dataframe tbody tr th:only-of-type {\n",
       "        vertical-align: middle;\n",
       "    }\n",
       "\n",
       "    .dataframe tbody tr th {\n",
       "        vertical-align: top;\n",
       "    }\n",
       "\n",
       "    .dataframe thead th {\n",
       "        text-align: right;\n",
       "    }\n",
       "</style>\n",
       "<table border=\"1\" class=\"dataframe\">\n",
       "  <thead>\n",
       "    <tr style=\"text-align: right;\">\n",
       "      <th></th>\n",
       "      <th>calitp_itp_id</th>\n",
       "      <th>trip_id</th>\n",
       "      <th>route_dir_identifier</th>\n",
       "      <th>segment_sequence</th>\n",
       "      <th>min_time</th>\n",
       "      <th>max_time</th>\n",
       "      <th>min_dist</th>\n",
       "      <th>max_dist</th>\n",
       "      <th>meters_elapsed</th>\n",
       "      <th>sec_elapsed</th>\n",
       "      <th>speed_mph</th>\n",
       "    </tr>\n",
       "    <tr>\n",
       "      <th>npartitions=8</th>\n",
       "      <th></th>\n",
       "      <th></th>\n",
       "      <th></th>\n",
       "      <th></th>\n",
       "      <th></th>\n",
       "      <th></th>\n",
       "      <th></th>\n",
       "      <th></th>\n",
       "      <th></th>\n",
       "      <th></th>\n",
       "      <th></th>\n",
       "    </tr>\n",
       "  </thead>\n",
       "  <tbody>\n",
       "    <tr>\n",
       "      <th></th>\n",
       "      <td>int64</td>\n",
       "      <td>object</td>\n",
       "      <td>int64</td>\n",
       "      <td>object</td>\n",
       "      <td>datetime64[ns]</td>\n",
       "      <td>datetime64[ns]</td>\n",
       "      <td>float64</td>\n",
       "      <td>float64</td>\n",
       "      <td>float64</td>\n",
       "      <td>float64</td>\n",
       "      <td>float64</td>\n",
       "    </tr>\n",
       "    <tr>\n",
       "      <th></th>\n",
       "      <td>...</td>\n",
       "      <td>...</td>\n",
       "      <td>...</td>\n",
       "      <td>...</td>\n",
       "      <td>...</td>\n",
       "      <td>...</td>\n",
       "      <td>...</td>\n",
       "      <td>...</td>\n",
       "      <td>...</td>\n",
       "      <td>...</td>\n",
       "      <td>...</td>\n",
       "    </tr>\n",
       "    <tr>\n",
       "      <th>...</th>\n",
       "      <td>...</td>\n",
       "      <td>...</td>\n",
       "      <td>...</td>\n",
       "      <td>...</td>\n",
       "      <td>...</td>\n",
       "      <td>...</td>\n",
       "      <td>...</td>\n",
       "      <td>...</td>\n",
       "      <td>...</td>\n",
       "      <td>...</td>\n",
       "      <td>...</td>\n",
       "    </tr>\n",
       "    <tr>\n",
       "      <th></th>\n",
       "      <td>...</td>\n",
       "      <td>...</td>\n",
       "      <td>...</td>\n",
       "      <td>...</td>\n",
       "      <td>...</td>\n",
       "      <td>...</td>\n",
       "      <td>...</td>\n",
       "      <td>...</td>\n",
       "      <td>...</td>\n",
       "      <td>...</td>\n",
       "      <td>...</td>\n",
       "    </tr>\n",
       "    <tr>\n",
       "      <th></th>\n",
       "      <td>...</td>\n",
       "      <td>...</td>\n",
       "      <td>...</td>\n",
       "      <td>...</td>\n",
       "      <td>...</td>\n",
       "      <td>...</td>\n",
       "      <td>...</td>\n",
       "      <td>...</td>\n",
       "      <td>...</td>\n",
       "      <td>...</td>\n",
       "      <td>...</td>\n",
       "    </tr>\n",
       "  </tbody>\n",
       "</table>\n",
       "</div>\n",
       "<div>Dask Name: read-parquet, 1 graph layer</div>"
      ],
      "text/plain": [
       "Dask DataFrame Structure:\n",
       "              calitp_itp_id trip_id route_dir_identifier segment_sequence        min_time        max_time min_dist max_dist meters_elapsed sec_elapsed speed_mph\n",
       "npartitions=8                                                                                                                                                   \n",
       "                      int64  object                int64           object  datetime64[ns]  datetime64[ns]  float64  float64        float64     float64   float64\n",
       "                        ...     ...                  ...              ...             ...             ...      ...      ...            ...         ...       ...\n",
       "...                     ...     ...                  ...              ...             ...             ...      ...      ...            ...         ...       ...\n",
       "                        ...     ...                  ...              ...             ...             ...      ...      ...            ...         ...       ...\n",
       "                        ...     ...                  ...              ...             ...             ...      ...      ...            ...         ...       ...\n",
       "Dask Name: read-parquet, 1 graph layer"
      ]
     },
     "execution_count": 20,
     "metadata": {},
     "output_type": "execute_result"
    }
   ],
   "source": [
    "ddf"
   ]
  },
  {
   "cell_type": "code",
   "execution_count": 24,
   "id": "cbf41d67-f97e-4afa-8dee-7d548bcd91f6",
   "metadata": {},
   "outputs": [
    {
     "data": {
      "text/plain": [
       "False    2997770\n",
       "Name: min_time, dtype: int64"
      ]
     },
     "execution_count": 24,
     "metadata": {},
     "output_type": "execute_result"
    }
   ],
   "source": [
    "ddf.isna().min_time.value_counts().compute()"
   ]
  },
  {
   "cell_type": "code",
   "execution_count": 25,
   "id": "2d118ff2-4af7-4277-9514-36c3807979f1",
   "metadata": {},
   "outputs": [
    {
     "data": {
      "text/plain": [
       "False    2997770\n",
       "Name: max_time, dtype: int64"
      ]
     },
     "execution_count": 25,
     "metadata": {},
     "output_type": "execute_result"
    }
   ],
   "source": [
    "ddf.isna().max_time.value_counts().compute()"
   ]
  },
  {
   "cell_type": "code",
   "execution_count": 27,
   "id": "2f3c43a6-70c9-44f2-9d02-ff2a983fb3dc",
   "metadata": {},
   "outputs": [
    {
     "name": "stdout",
     "output_type": "stream",
     "text": [
      "<class 'dask.dataframe.core.DataFrame'>\n",
      "Columns: 11 entries, calitp_itp_id to speed_mph\n",
      "dtypes: datetime64[ns](2), object(2), float64(5), int64(2)"
     ]
    }
   ],
   "source": [
    "ddf.info()"
   ]
  },
  {
   "cell_type": "code",
   "execution_count": 29,
   "id": "594989b7-b267-43c5-91f4-bc5010c76001",
   "metadata": {},
   "outputs": [
    {
     "data": {
      "text/plain": [
       "calitp_itp_id                             372\n",
       "trip_id                 t_888225_b_18260_tn_0\n",
       "route_dir_identifier               4292940365\n",
       "segment_sequence                           99\n",
       "min_time                  2022-10-13 01:59:59\n",
       "max_time                  2022-10-13 01:59:59\n",
       "min_dist                               1000.0\n",
       "max_dist                               1000.0\n",
       "meters_elapsed                         1000.0\n",
       "sec_elapsed                           92579.0\n",
       "speed_mph                         1015.786997\n",
       "dtype: object"
      ]
     },
     "execution_count": 29,
     "metadata": {},
     "output_type": "execute_result"
    }
   ],
   "source": [
    "ddf.max().compute()"
   ]
  },
  {
   "cell_type": "code",
   "execution_count": 30,
   "id": "28ee6b0c-e956-4152-987a-16eb98bdee63",
   "metadata": {},
   "outputs": [
    {
     "data": {
      "text/plain": [
       "calitp_itp_id                             4\n",
       "trip_id                         -1925972613\n",
       "route_dir_identifier                 255544\n",
       "segment_sequence                          0\n",
       "min_time                2022-10-12 00:00:01\n",
       "max_time                2022-10-12 00:00:01\n",
       "min_dist                                0.0\n",
       "max_dist                                0.0\n",
       "meters_elapsed                          0.0\n",
       "sec_elapsed                             0.0\n",
       "speed_mph                               0.0\n",
       "dtype: object"
      ]
     },
     "execution_count": 30,
     "metadata": {},
     "output_type": "execute_result"
    }
   ],
   "source": [
    "ddf.min().compute()"
   ]
  },
  {
   "cell_type": "code",
   "execution_count": 31,
   "id": "6bae469b-b489-43a7-a367-84118a1d5dd2",
   "metadata": {},
   "outputs": [
    {
     "data": {
      "text/html": [
       "<div>\n",
       "<style scoped>\n",
       "    .dataframe tbody tr th:only-of-type {\n",
       "        vertical-align: middle;\n",
       "    }\n",
       "\n",
       "    .dataframe tbody tr th {\n",
       "        vertical-align: top;\n",
       "    }\n",
       "\n",
       "    .dataframe thead th {\n",
       "        text-align: right;\n",
       "    }\n",
       "</style>\n",
       "<table border=\"1\" class=\"dataframe\">\n",
       "  <thead>\n",
       "    <tr style=\"text-align: right;\">\n",
       "      <th></th>\n",
       "      <th>calitp_itp_id</th>\n",
       "      <th>trip_id</th>\n",
       "      <th>route_dir_identifier</th>\n",
       "      <th>segment_sequence</th>\n",
       "      <th>min_time</th>\n",
       "      <th>max_time</th>\n",
       "      <th>min_dist</th>\n",
       "      <th>max_dist</th>\n",
       "      <th>meters_elapsed</th>\n",
       "      <th>sec_elapsed</th>\n",
       "      <th>speed_mph</th>\n",
       "    </tr>\n",
       "  </thead>\n",
       "  <tbody>\n",
       "    <tr>\n",
       "      <th>21</th>\n",
       "      <td>182</td>\n",
       "      <td>56368815</td>\n",
       "      <td>750250299</td>\n",
       "      <td>40</td>\n",
       "      <td>2022-10-12 02:11:53</td>\n",
       "      <td>2022-10-12 03:24:20</td>\n",
       "      <td>367.200156</td>\n",
       "      <td>367.200156</td>\n",
       "      <td>0.0</td>\n",
       "      <td>4347.0</td>\n",
       "      <td>0.0</td>\n",
       "    </tr>\n",
       "    <tr>\n",
       "      <th>29</th>\n",
       "      <td>314</td>\n",
       "      <td>t_1995375_b_33395_tn_0</td>\n",
       "      <td>135703609</td>\n",
       "      <td>16</td>\n",
       "      <td>2022-10-12 15:12:25</td>\n",
       "      <td>2022-10-12 15:12:51</td>\n",
       "      <td>12.657005</td>\n",
       "      <td>12.657005</td>\n",
       "      <td>0.0</td>\n",
       "      <td>26.0</td>\n",
       "      <td>0.0</td>\n",
       "    </tr>\n",
       "    <tr>\n",
       "      <th>52</th>\n",
       "      <td>182</td>\n",
       "      <td>56368737</td>\n",
       "      <td>750250299</td>\n",
       "      <td>40</td>\n",
       "      <td>2022-10-12 11:33:38</td>\n",
       "      <td>2022-10-12 11:33:38</td>\n",
       "      <td>468.726611</td>\n",
       "      <td>468.726611</td>\n",
       "      <td>0.0</td>\n",
       "      <td>0.0</td>\n",
       "      <td>NaN</td>\n",
       "    </tr>\n",
       "    <tr>\n",
       "      <th>66</th>\n",
       "      <td>127</td>\n",
       "      <td>7993455</td>\n",
       "      <td>1169424098</td>\n",
       "      <td>69</td>\n",
       "      <td>2022-10-12 23:03:19</td>\n",
       "      <td>2022-10-12 23:03:19</td>\n",
       "      <td>492.506816</td>\n",
       "      <td>492.506816</td>\n",
       "      <td>0.0</td>\n",
       "      <td>0.0</td>\n",
       "      <td>NaN</td>\n",
       "    </tr>\n",
       "    <tr>\n",
       "      <th>67</th>\n",
       "      <td>361</td>\n",
       "      <td>60125</td>\n",
       "      <td>2274799623</td>\n",
       "      <td>7</td>\n",
       "      <td>2022-10-12 18:21:50</td>\n",
       "      <td>2022-10-12 18:21:50</td>\n",
       "      <td>885.204806</td>\n",
       "      <td>885.204806</td>\n",
       "      <td>0.0</td>\n",
       "      <td>0.0</td>\n",
       "      <td>NaN</td>\n",
       "    </tr>\n",
       "    <tr>\n",
       "      <th>...</th>\n",
       "      <td>...</td>\n",
       "      <td>...</td>\n",
       "      <td>...</td>\n",
       "      <td>...</td>\n",
       "      <td>...</td>\n",
       "      <td>...</td>\n",
       "      <td>...</td>\n",
       "      <td>...</td>\n",
       "      <td>...</td>\n",
       "      <td>...</td>\n",
       "      <td>...</td>\n",
       "    </tr>\n",
       "    <tr>\n",
       "      <th>2997763</th>\n",
       "      <td>182</td>\n",
       "      <td>10128000290945-JUNE22</td>\n",
       "      <td>3831692572</td>\n",
       "      <td>20</td>\n",
       "      <td>2022-10-12 10:12:54</td>\n",
       "      <td>2022-10-12 10:12:54</td>\n",
       "      <td>1000.000000</td>\n",
       "      <td>1000.000000</td>\n",
       "      <td>0.0</td>\n",
       "      <td>0.0</td>\n",
       "      <td>NaN</td>\n",
       "    </tr>\n",
       "    <tr>\n",
       "      <th>2997764</th>\n",
       "      <td>182</td>\n",
       "      <td>10128000290604-JUNE22</td>\n",
       "      <td>3831692572</td>\n",
       "      <td>20</td>\n",
       "      <td>2022-10-12 06:33:40</td>\n",
       "      <td>2022-10-12 06:33:40</td>\n",
       "      <td>1000.000000</td>\n",
       "      <td>1000.000000</td>\n",
       "      <td>0.0</td>\n",
       "      <td>0.0</td>\n",
       "      <td>NaN</td>\n",
       "    </tr>\n",
       "    <tr>\n",
       "      <th>2997765</th>\n",
       "      <td>182</td>\n",
       "      <td>10210002931246-JUNE22</td>\n",
       "      <td>1008563139</td>\n",
       "      <td>25</td>\n",
       "      <td>2022-10-12 14:18:44</td>\n",
       "      <td>2022-10-12 14:18:44</td>\n",
       "      <td>113.919028</td>\n",
       "      <td>113.919028</td>\n",
       "      <td>0.0</td>\n",
       "      <td>0.0</td>\n",
       "      <td>NaN</td>\n",
       "    </tr>\n",
       "    <tr>\n",
       "      <th>2997767</th>\n",
       "      <td>182</td>\n",
       "      <td>10534001551456-JUNE22</td>\n",
       "      <td>1954369222</td>\n",
       "      <td>5</td>\n",
       "      <td>2022-10-12 15:51:39</td>\n",
       "      <td>2022-10-12 15:51:39</td>\n",
       "      <td>455.034062</td>\n",
       "      <td>455.034062</td>\n",
       "      <td>0.0</td>\n",
       "      <td>0.0</td>\n",
       "      <td>NaN</td>\n",
       "    </tr>\n",
       "    <tr>\n",
       "      <th>2997769</th>\n",
       "      <td>182</td>\n",
       "      <td>10662000071053-JUNE22</td>\n",
       "      <td>3656550597</td>\n",
       "      <td>4</td>\n",
       "      <td>2022-10-12 11:09:13</td>\n",
       "      <td>2022-10-12 11:09:13</td>\n",
       "      <td>1000.000000</td>\n",
       "      <td>1000.000000</td>\n",
       "      <td>0.0</td>\n",
       "      <td>0.0</td>\n",
       "      <td>NaN</td>\n",
       "    </tr>\n",
       "  </tbody>\n",
       "</table>\n",
       "<p>531716 rows × 11 columns</p>\n",
       "</div>"
      ],
      "text/plain": [
       "         calitp_itp_id                 trip_id  route_dir_identifier  \\\n",
       "21                 182                56368815             750250299   \n",
       "29                 314  t_1995375_b_33395_tn_0             135703609   \n",
       "52                 182                56368737             750250299   \n",
       "66                 127                 7993455            1169424098   \n",
       "67                 361                   60125            2274799623   \n",
       "...                ...                     ...                   ...   \n",
       "2997763            182   10128000290945-JUNE22            3831692572   \n",
       "2997764            182   10128000290604-JUNE22            3831692572   \n",
       "2997765            182   10210002931246-JUNE22            1008563139   \n",
       "2997767            182   10534001551456-JUNE22            1954369222   \n",
       "2997769            182   10662000071053-JUNE22            3656550597   \n",
       "\n",
       "        segment_sequence            min_time            max_time     min_dist  \\\n",
       "21                    40 2022-10-12 02:11:53 2022-10-12 03:24:20   367.200156   \n",
       "29                    16 2022-10-12 15:12:25 2022-10-12 15:12:51    12.657005   \n",
       "52                    40 2022-10-12 11:33:38 2022-10-12 11:33:38   468.726611   \n",
       "66                    69 2022-10-12 23:03:19 2022-10-12 23:03:19   492.506816   \n",
       "67                     7 2022-10-12 18:21:50 2022-10-12 18:21:50   885.204806   \n",
       "...                  ...                 ...                 ...          ...   \n",
       "2997763               20 2022-10-12 10:12:54 2022-10-12 10:12:54  1000.000000   \n",
       "2997764               20 2022-10-12 06:33:40 2022-10-12 06:33:40  1000.000000   \n",
       "2997765               25 2022-10-12 14:18:44 2022-10-12 14:18:44   113.919028   \n",
       "2997767                5 2022-10-12 15:51:39 2022-10-12 15:51:39   455.034062   \n",
       "2997769                4 2022-10-12 11:09:13 2022-10-12 11:09:13  1000.000000   \n",
       "\n",
       "            max_dist  meters_elapsed  sec_elapsed  speed_mph  \n",
       "21        367.200156             0.0       4347.0        0.0  \n",
       "29         12.657005             0.0         26.0        0.0  \n",
       "52        468.726611             0.0          0.0        NaN  \n",
       "66        492.506816             0.0          0.0        NaN  \n",
       "67        885.204806             0.0          0.0        NaN  \n",
       "...              ...             ...          ...        ...  \n",
       "2997763  1000.000000             0.0          0.0        NaN  \n",
       "2997764  1000.000000             0.0          0.0        NaN  \n",
       "2997765   113.919028             0.0          0.0        NaN  \n",
       "2997767   455.034062             0.0          0.0        NaN  \n",
       "2997769  1000.000000             0.0          0.0        NaN  \n",
       "\n",
       "[531716 rows x 11 columns]"
      ]
     },
     "execution_count": 31,
     "metadata": {},
     "output_type": "execute_result"
    }
   ],
   "source": [
    "ddf[ddf.meters_elapsed == 0.0].compute()"
   ]
  },
  {
   "cell_type": "markdown",
   "id": "01aa22ee-4a14-4542-8eb6-fb10daac8314",
   "metadata": {},
   "source": [
    "## Notes\n",
    "\n",
    "* insufficient data segments aren't min_dist/max_dist nan, they're min_dist == max_dist\n",
    "* if min_time also == max_time, speed_mph is nan, otherwise speed_mph is 0.0"
   ]
  },
  {
   "cell_type": "code",
   "execution_count": null,
   "id": "957379b0-81a4-43d0-aa78-4897b448deac",
   "metadata": {},
   "outputs": [],
   "source": []
  }
 ],
 "metadata": {
  "kernelspec": {
   "display_name": "Python 3 (ipykernel)",
   "language": "python",
   "name": "python3"
  },
  "language_info": {
   "codemirror_mode": {
    "name": "ipython",
    "version": 3
   },
   "file_extension": ".py",
   "mimetype": "text/x-python",
   "name": "python",
   "nbconvert_exporter": "python",
   "pygments_lexer": "ipython3",
   "version": "3.9.13"
  },
  "widgets": {
   "application/vnd.jupyter.widget-state+json": {
    "state": {},
    "version_major": 2,
    "version_minor": 0
   }
  }
 },
 "nbformat": 4,
 "nbformat_minor": 5
}
