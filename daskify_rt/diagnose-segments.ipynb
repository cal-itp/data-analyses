{
 "cells": [
  {
   "cell_type": "code",
   "execution_count": 1,
   "id": "8e6fa594-813c-4790-b8c4-b0f138323117",
   "metadata": {},
   "outputs": [
    {
     "name": "stderr",
     "output_type": "stream",
     "text": [
      "/opt/conda/lib/python3.9/site-packages/geopandas/_compat.py:123: UserWarning: The Shapely GEOS version (3.10.3-CAPI-1.16.1) is incompatible with the GEOS version PyGEOS was compiled with (3.10.1-CAPI-1.16.0). Conversions between both will be slow.\n",
      "  warnings.warn(\n"
     ]
    }
   ],
   "source": [
    "import dask.dataframe as dd\n",
    "import dask_geopandas as dg\n",
    "\n",
    "import pandas as pd\n",
    "import geopandas as gpd\n",
    "from siuba import *\n",
    "\n",
    "import shared_utils\n",
    "\n",
    "import gcsfs\n",
    "fs = gcsfs.GCSFileSystem()"
   ]
  },
  {
   "cell_type": "code",
   "execution_count": 2,
   "id": "63982e00-9b8f-4305-afc7-2ffde3df4531",
   "metadata": {},
   "outputs": [],
   "source": [
    "analysis_date = shared_utils.rt_dates.DATES['oct2022']"
   ]
  },
  {
   "cell_type": "code",
   "execution_count": 3,
   "id": "81c9c177-1bc6-4ffe-9cd2-b50280598cfd",
   "metadata": {},
   "outputs": [
    {
     "data": {
      "text/plain": [
       "'2022-10-12'"
      ]
     },
     "execution_count": 3,
     "metadata": {},
     "output_type": "execute_result"
    }
   ],
   "source": [
    "analysis_date"
   ]
  },
  {
   "cell_type": "code",
   "execution_count": 20,
   "id": "990f689a-7d99-44d3-baea-079832c50c6a",
   "metadata": {},
   "outputs": [],
   "source": [
    "bbb = 'gs://calitp-analytics-data/data-analyses/dask_test/speeds_by_operator/speeds_4_2022-10-12.parquet'"
   ]
  },
  {
   "cell_type": "code",
   "execution_count": 21,
   "id": "8ea3c2e4-e36a-4f32-ac8c-9ad4f121a2d9",
   "metadata": {},
   "outputs": [],
   "source": [
    "bbb_test = pd.read_parquet(bbb)"
   ]
  },
  {
   "cell_type": "code",
   "execution_count": 22,
   "id": "c8f5a61d-b779-451a-9fae-45164507a1cd",
   "metadata": {},
   "outputs": [
    {
     "data": {
      "text/html": [
       "<div>\n",
       "<style scoped>\n",
       "    .dataframe tbody tr th:only-of-type {\n",
       "        vertical-align: middle;\n",
       "    }\n",
       "\n",
       "    .dataframe tbody tr th {\n",
       "        vertical-align: top;\n",
       "    }\n",
       "\n",
       "    .dataframe thead th {\n",
       "        text-align: right;\n",
       "    }\n",
       "</style>\n",
       "<table border=\"1\" class=\"dataframe\">\n",
       "  <thead>\n",
       "    <tr style=\"text-align: right;\">\n",
       "      <th></th>\n",
       "      <th>calitp_itp_id</th>\n",
       "      <th>trip_id</th>\n",
       "      <th>route_dir_identifier</th>\n",
       "      <th>segment_sequence</th>\n",
       "      <th>min_time</th>\n",
       "      <th>max_time</th>\n",
       "      <th>min_dist</th>\n",
       "      <th>max_dist</th>\n",
       "      <th>meters_elapsed</th>\n",
       "      <th>sec_elapsed</th>\n",
       "      <th>speed_mph</th>\n",
       "    </tr>\n",
       "  </thead>\n",
       "  <tbody>\n",
       "    <tr>\n",
       "      <th>0</th>\n",
       "      <td>4</td>\n",
       "      <td>1002020</td>\n",
       "      <td>2062080730</td>\n",
       "      <td>0</td>\n",
       "      <td>2022-10-12 03:57:57</td>\n",
       "      <td>2022-10-12 04:03:03</td>\n",
       "      <td>59.829328</td>\n",
       "      <td>939.252609</td>\n",
       "      <td>879.423281</td>\n",
       "      <td>306.0</td>\n",
       "      <td>6.428987</td>\n",
       "    </tr>\n",
       "    <tr>\n",
       "      <th>1</th>\n",
       "      <td>4</td>\n",
       "      <td>9317020</td>\n",
       "      <td>2062080730</td>\n",
       "      <td>0</td>\n",
       "      <td>2022-10-12 02:09:47</td>\n",
       "      <td>2022-10-12 02:16:18</td>\n",
       "      <td>52.782097</td>\n",
       "      <td>940.117003</td>\n",
       "      <td>887.334906</td>\n",
       "      <td>391.0</td>\n",
       "      <td>5.076645</td>\n",
       "    </tr>\n",
       "    <tr>\n",
       "      <th>2</th>\n",
       "      <td>4</td>\n",
       "      <td>10947020</td>\n",
       "      <td>2062080730</td>\n",
       "      <td>0</td>\n",
       "      <td>2022-10-12 04:07:31</td>\n",
       "      <td>2022-10-12 04:14:12</td>\n",
       "      <td>52.782097</td>\n",
       "      <td>960.731098</td>\n",
       "      <td>907.949001</td>\n",
       "      <td>401.0</td>\n",
       "      <td>5.065042</td>\n",
       "    </tr>\n",
       "  </tbody>\n",
       "</table>\n",
       "</div>"
      ],
      "text/plain": [
       "   calitp_itp_id   trip_id  route_dir_identifier segment_sequence  \\\n",
       "0              4   1002020            2062080730                0   \n",
       "1              4   9317020            2062080730                0   \n",
       "2              4  10947020            2062080730                0   \n",
       "\n",
       "             min_time            max_time   min_dist    max_dist  \\\n",
       "0 2022-10-12 03:57:57 2022-10-12 04:03:03  59.829328  939.252609   \n",
       "1 2022-10-12 02:09:47 2022-10-12 02:16:18  52.782097  940.117003   \n",
       "2 2022-10-12 04:07:31 2022-10-12 04:14:12  52.782097  960.731098   \n",
       "\n",
       "   meters_elapsed  sec_elapsed  speed_mph  \n",
       "0      879.423281        306.0   6.428987  \n",
       "1      887.334906        391.0   5.076645  \n",
       "2      907.949001        401.0   5.065042  "
      ]
     },
     "execution_count": 22,
     "metadata": {},
     "output_type": "execute_result"
    }
   ],
   "source": [
    "bbb_test >> head(3)"
   ]
  },
  {
   "cell_type": "code",
   "execution_count": 23,
   "id": "05e73946-9dc3-40df-8f8d-290f178ae761",
   "metadata": {},
   "outputs": [
    {
     "data": {
      "text/html": [
       "<div>\n",
       "<style scoped>\n",
       "    .dataframe tbody tr th:only-of-type {\n",
       "        vertical-align: middle;\n",
       "    }\n",
       "\n",
       "    .dataframe tbody tr th {\n",
       "        vertical-align: top;\n",
       "    }\n",
       "\n",
       "    .dataframe thead th {\n",
       "        text-align: right;\n",
       "    }\n",
       "</style>\n",
       "<table border=\"1\" class=\"dataframe\">\n",
       "  <thead>\n",
       "    <tr style=\"text-align: right;\">\n",
       "      <th></th>\n",
       "      <th>calitp_itp_id</th>\n",
       "      <th>trip_id</th>\n",
       "      <th>route_dir_identifier</th>\n",
       "      <th>segment_sequence</th>\n",
       "      <th>min_time</th>\n",
       "      <th>max_time</th>\n",
       "      <th>min_dist</th>\n",
       "      <th>max_dist</th>\n",
       "      <th>meters_elapsed</th>\n",
       "      <th>sec_elapsed</th>\n",
       "      <th>speed_mph</th>\n",
       "    </tr>\n",
       "  </thead>\n",
       "  <tbody>\n",
       "  </tbody>\n",
       "</table>\n",
       "</div>"
      ],
      "text/plain": [
       "Empty DataFrame\n",
       "Columns: [calitp_itp_id, trip_id, route_dir_identifier, segment_sequence, min_time, max_time, min_dist, max_dist, meters_elapsed, sec_elapsed, speed_mph]\n",
       "Index: []"
      ]
     },
     "execution_count": 23,
     "metadata": {},
     "output_type": "execute_result"
    }
   ],
   "source": [
    "bbb_test >> filter(_.min_dist.isna()) "
   ]
  },
  {
   "cell_type": "code",
   "execution_count": 24,
   "id": "451ea1ff-e12b-4b27-b527-92fad21b4db6",
   "metadata": {},
   "outputs": [
    {
     "data": {
      "text/plain": [
       "False    79574\n",
       "Name: min_dist, dtype: int64"
      ]
     },
     "execution_count": 24,
     "metadata": {},
     "output_type": "execute_result"
    }
   ],
   "source": [
    "bbb_test.min_dist.isna().value_counts()"
   ]
  },
  {
   "cell_type": "code",
   "execution_count": 25,
   "id": "c85e35d9-d521-4c69-a431-a480ce69bef0",
   "metadata": {},
   "outputs": [
    {
     "data": {
      "text/plain": [
       "False    79574\n",
       "Name: max_dist, dtype: int64"
      ]
     },
     "execution_count": 25,
     "metadata": {},
     "output_type": "execute_result"
    }
   ],
   "source": [
    "bbb_test.max_dist.isna().value_counts()"
   ]
  },
  {
   "cell_type": "code",
   "execution_count": 27,
   "id": "bcc8ee62-06d9-462b-bb9d-9fd16571ad50",
   "metadata": {},
   "outputs": [],
   "source": [
    "partition_speeds = 'gs://calitp-analytics-data/data-analyses/dask_test/speeds_2022-10-12'"
   ]
  },
  {
   "cell_type": "code",
   "execution_count": 29,
   "id": "e3b531d0-5767-4614-a01a-dbcb721e0a4b",
   "metadata": {},
   "outputs": [],
   "source": [
    "ddf = dd.read_parquet(partition_speeds)"
   ]
  },
  {
   "cell_type": "code",
   "execution_count": null,
   "id": "b97792d4-141a-4364-b3d8-5e3be816199e",
   "metadata": {},
   "outputs": [],
   "source": []
  }
 ],
 "metadata": {
  "kernelspec": {
   "display_name": "Python 3 (ipykernel)",
   "language": "python",
   "name": "python3"
  },
  "language_info": {
   "codemirror_mode": {
    "name": "ipython",
    "version": 3
   },
   "file_extension": ".py",
   "mimetype": "text/x-python",
   "name": "python",
   "nbconvert_exporter": "python",
   "pygments_lexer": "ipython3",
   "version": "3.9.13"
  },
  "widgets": {
   "application/vnd.jupyter.widget-state+json": {
    "state": {},
    "version_major": 2,
    "version_minor": 0
   }
  }
 },
 "nbformat": 4,
 "nbformat_minor": 5
}
