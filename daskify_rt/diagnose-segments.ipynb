{
 "cells": [
  {
   "cell_type": "code",
   "execution_count": 1,
   "id": "8e6fa594-813c-4790-b8c4-b0f138323117",
   "metadata": {},
   "outputs": [
    {
     "name": "stderr",
     "output_type": "stream",
     "text": [
      "/opt/conda/lib/python3.9/site-packages/geopandas/_compat.py:123: UserWarning: The Shapely GEOS version (3.10.3-CAPI-1.16.1) is incompatible with the GEOS version PyGEOS was compiled with (3.10.1-CAPI-1.16.0). Conversions between both will be slow.\n",
      "  warnings.warn(\n"
     ]
    }
   ],
   "source": [
    "import dask.dataframe as dd\n",
    "import dask_geopandas as dg\n",
    "\n",
    "import pandas as pd\n",
    "import geopandas as gpd\n",
    "from siuba import *\n",
    "\n",
    "import shared_utils\n",
    "\n",
    "import gcsfs\n",
    "fs = gcsfs.GCSFileSystem()"
   ]
  },
  {
   "cell_type": "code",
   "execution_count": 34,
   "id": "63982e00-9b8f-4305-afc7-2ffde3df4531",
   "metadata": {},
   "outputs": [],
   "source": [
    "analysis_date = shared_utils.rt_dates.DATES['jan2023']"
   ]
  },
  {
   "cell_type": "code",
   "execution_count": 35,
   "id": "81c9c177-1bc6-4ffe-9cd2-b50280598cfd",
   "metadata": {},
   "outputs": [
    {
     "data": {
      "text/plain": [
       "'2023-01-18'"
      ]
     },
     "execution_count": 35,
     "metadata": {},
     "output_type": "execute_result"
    }
   ],
   "source": [
    "analysis_date"
   ]
  },
  {
   "cell_type": "code",
   "execution_count": 37,
   "id": "bcc8ee62-06d9-462b-bb9d-9fd16571ad50",
   "metadata": {},
   "outputs": [],
   "source": [
    "partition_speeds = f'gs://calitp-analytics-data/data-analyses/rt_segment_speeds/speeds_{analysis_date}'"
   ]
  },
  {
   "cell_type": "code",
   "execution_count": 38,
   "id": "e3b531d0-5767-4614-a01a-dbcb721e0a4b",
   "metadata": {},
   "outputs": [],
   "source": [
    "ddf = dd.read_parquet(partition_speeds)"
   ]
  },
  {
   "cell_type": "code",
   "execution_count": 39,
   "id": "b97792d4-141a-4364-b3d8-5e3be816199e",
   "metadata": {},
   "outputs": [
    {
     "data": {
      "text/html": [
       "<div><strong>Dask DataFrame Structure:</strong></div>\n",
       "<div>\n",
       "<style scoped>\n",
       "    .dataframe tbody tr th:only-of-type {\n",
       "        vertical-align: middle;\n",
       "    }\n",
       "\n",
       "    .dataframe tbody tr th {\n",
       "        vertical-align: top;\n",
       "    }\n",
       "\n",
       "    .dataframe thead th {\n",
       "        text-align: right;\n",
       "    }\n",
       "</style>\n",
       "<table border=\"1\" class=\"dataframe\">\n",
       "  <thead>\n",
       "    <tr style=\"text-align: right;\">\n",
       "      <th></th>\n",
       "      <th>gtfs_dataset_key</th>\n",
       "      <th>_gtfs_dataset_name</th>\n",
       "      <th>trip_id</th>\n",
       "      <th>route_dir_identifier</th>\n",
       "      <th>segment_sequence</th>\n",
       "      <th>min_time</th>\n",
       "      <th>max_time</th>\n",
       "      <th>min_dist</th>\n",
       "      <th>max_dist</th>\n",
       "      <th>meters_elapsed</th>\n",
       "      <th>sec_elapsed</th>\n",
       "      <th>speed_mph</th>\n",
       "    </tr>\n",
       "    <tr>\n",
       "      <th>npartitions=6</th>\n",
       "      <th></th>\n",
       "      <th></th>\n",
       "      <th></th>\n",
       "      <th></th>\n",
       "      <th></th>\n",
       "      <th></th>\n",
       "      <th></th>\n",
       "      <th></th>\n",
       "      <th></th>\n",
       "      <th></th>\n",
       "      <th></th>\n",
       "      <th></th>\n",
       "    </tr>\n",
       "  </thead>\n",
       "  <tbody>\n",
       "    <tr>\n",
       "      <th></th>\n",
       "      <td>object</td>\n",
       "      <td>object</td>\n",
       "      <td>object</td>\n",
       "      <td>int64</td>\n",
       "      <td>object</td>\n",
       "      <td>datetime64[ns, UTC]</td>\n",
       "      <td>datetime64[ns, UTC]</td>\n",
       "      <td>float64</td>\n",
       "      <td>float64</td>\n",
       "      <td>float64</td>\n",
       "      <td>float64</td>\n",
       "      <td>float64</td>\n",
       "    </tr>\n",
       "    <tr>\n",
       "      <th></th>\n",
       "      <td>...</td>\n",
       "      <td>...</td>\n",
       "      <td>...</td>\n",
       "      <td>...</td>\n",
       "      <td>...</td>\n",
       "      <td>...</td>\n",
       "      <td>...</td>\n",
       "      <td>...</td>\n",
       "      <td>...</td>\n",
       "      <td>...</td>\n",
       "      <td>...</td>\n",
       "      <td>...</td>\n",
       "    </tr>\n",
       "    <tr>\n",
       "      <th>...</th>\n",
       "      <td>...</td>\n",
       "      <td>...</td>\n",
       "      <td>...</td>\n",
       "      <td>...</td>\n",
       "      <td>...</td>\n",
       "      <td>...</td>\n",
       "      <td>...</td>\n",
       "      <td>...</td>\n",
       "      <td>...</td>\n",
       "      <td>...</td>\n",
       "      <td>...</td>\n",
       "      <td>...</td>\n",
       "    </tr>\n",
       "    <tr>\n",
       "      <th></th>\n",
       "      <td>...</td>\n",
       "      <td>...</td>\n",
       "      <td>...</td>\n",
       "      <td>...</td>\n",
       "      <td>...</td>\n",
       "      <td>...</td>\n",
       "      <td>...</td>\n",
       "      <td>...</td>\n",
       "      <td>...</td>\n",
       "      <td>...</td>\n",
       "      <td>...</td>\n",
       "      <td>...</td>\n",
       "    </tr>\n",
       "    <tr>\n",
       "      <th></th>\n",
       "      <td>...</td>\n",
       "      <td>...</td>\n",
       "      <td>...</td>\n",
       "      <td>...</td>\n",
       "      <td>...</td>\n",
       "      <td>...</td>\n",
       "      <td>...</td>\n",
       "      <td>...</td>\n",
       "      <td>...</td>\n",
       "      <td>...</td>\n",
       "      <td>...</td>\n",
       "      <td>...</td>\n",
       "    </tr>\n",
       "  </tbody>\n",
       "</table>\n",
       "</div>\n",
       "<div>Dask Name: read-parquet, 1 graph layer</div>"
      ],
      "text/plain": [
       "Dask DataFrame Structure:\n",
       "              gtfs_dataset_key _gtfs_dataset_name trip_id route_dir_identifier segment_sequence             min_time             max_time min_dist max_dist meters_elapsed sec_elapsed speed_mph\n",
       "npartitions=6                                                                                                                                                                                   \n",
       "                        object             object  object                int64           object  datetime64[ns, UTC]  datetime64[ns, UTC]  float64  float64        float64     float64   float64\n",
       "                           ...                ...     ...                  ...              ...                  ...                  ...      ...      ...            ...         ...       ...\n",
       "...                        ...                ...     ...                  ...              ...                  ...                  ...      ...      ...            ...         ...       ...\n",
       "                           ...                ...     ...                  ...              ...                  ...                  ...      ...      ...            ...         ...       ...\n",
       "                           ...                ...     ...                  ...              ...                  ...                  ...      ...      ...            ...         ...       ...\n",
       "Dask Name: read-parquet, 1 graph layer"
      ]
     },
     "execution_count": 39,
     "metadata": {},
     "output_type": "execute_result"
    }
   ],
   "source": [
    "ddf"
   ]
  },
  {
   "cell_type": "code",
   "execution_count": 40,
   "id": "cbf41d67-f97e-4afa-8dee-7d548bcd91f6",
   "metadata": {},
   "outputs": [
    {
     "data": {
      "text/plain": [
       "False    1311292\n",
       "Name: min_time, dtype: int64"
      ]
     },
     "execution_count": 40,
     "metadata": {},
     "output_type": "execute_result"
    }
   ],
   "source": [
    "ddf.isna().min_time.value_counts().compute()"
   ]
  },
  {
   "cell_type": "code",
   "execution_count": 41,
   "id": "2d118ff2-4af7-4277-9514-36c3807979f1",
   "metadata": {},
   "outputs": [
    {
     "data": {
      "text/plain": [
       "False    1311292\n",
       "Name: max_time, dtype: int64"
      ]
     },
     "execution_count": 41,
     "metadata": {},
     "output_type": "execute_result"
    }
   ],
   "source": [
    "ddf.isna().max_time.value_counts().compute()"
   ]
  },
  {
   "cell_type": "code",
   "execution_count": 42,
   "id": "2f3c43a6-70c9-44f2-9d02-ff2a983fb3dc",
   "metadata": {},
   "outputs": [
    {
     "name": "stdout",
     "output_type": "stream",
     "text": [
      "<class 'dask.dataframe.core.DataFrame'>\n",
      "Columns: 12 entries, gtfs_dataset_key to speed_mph\n",
      "dtypes: datetime64[ns, UTC](2), object(4), float64(5), int64(1)"
     ]
    }
   ],
   "source": [
    "ddf.info()"
   ]
  },
  {
   "cell_type": "code",
   "execution_count": 43,
   "id": "594989b7-b267-43c5-91f4-bc5010c76001",
   "metadata": {},
   "outputs": [
    {
     "data": {
      "text/plain": [
       "gtfs_dataset_key        f1497340b654f3ce925f8b8c2f83e1c2\n",
       "_gtfs_dataset_name             Yolobus Vehicle Positions\n",
       "trip_id                              t_97725_b_2397_tn_9\n",
       "route_dir_identifier                          4292426728\n",
       "segment_sequence                                      99\n",
       "min_time                       2023-01-18 23:59:42+00:00\n",
       "max_time                       2023-01-18 23:59:43+00:00\n",
       "min_dist                                          1000.0\n",
       "max_dist                                          1000.0\n",
       "meters_elapsed                                    1000.0\n",
       "sec_elapsed                                     174950.0\n",
       "speed_mph                                     983.242342\n",
       "dtype: object"
      ]
     },
     "execution_count": 43,
     "metadata": {},
     "output_type": "execute_result"
    }
   ],
   "source": [
    "ddf.max().compute()"
   ]
  },
  {
   "cell_type": "code",
   "execution_count": 44,
   "id": "28ee6b0c-e956-4152-987a-16eb98bdee63",
   "metadata": {},
   "outputs": [
    {
     "data": {
      "text/plain": [
       "gtfs_dataset_key                         02af2d11f5bd44434c581540e9e857d8\n",
       "_gtfs_dataset_name      Antelope Valley Transit Authority Vehicle Posi...\n",
       "trip_id                              0049829c-505d-42db-965b-9ebd61bf1280\n",
       "route_dir_identifier                                              1525250\n",
       "segment_sequence                                                        0\n",
       "min_time                                        2023-01-16 18:01:21+00:00\n",
       "max_time                                        2023-01-17 01:46:02+00:00\n",
       "min_dist                                                              0.0\n",
       "max_dist                                                              0.0\n",
       "meters_elapsed                                                        0.0\n",
       "sec_elapsed                                                           0.0\n",
       "speed_mph                                                             0.0\n",
       "dtype: object"
      ]
     },
     "execution_count": 44,
     "metadata": {},
     "output_type": "execute_result"
    }
   ],
   "source": [
    "ddf.min().compute()"
   ]
  },
  {
   "cell_type": "code",
   "execution_count": 45,
   "id": "6bae469b-b489-43a7-a367-84118a1d5dd2",
   "metadata": {},
   "outputs": [],
   "source": [
    "no_motion = ddf[ddf.meters_elapsed == 0.0].compute()"
   ]
  },
  {
   "cell_type": "code",
   "execution_count": 46,
   "id": "89157357-1377-4684-bee7-79e854383e53",
   "metadata": {},
   "outputs": [
    {
     "data": {
      "text/html": [
       "<div>\n",
       "<style scoped>\n",
       "    .dataframe tbody tr th:only-of-type {\n",
       "        vertical-align: middle;\n",
       "    }\n",
       "\n",
       "    .dataframe tbody tr th {\n",
       "        vertical-align: top;\n",
       "    }\n",
       "\n",
       "    .dataframe thead th {\n",
       "        text-align: right;\n",
       "    }\n",
       "</style>\n",
       "<table border=\"1\" class=\"dataframe\">\n",
       "  <thead>\n",
       "    <tr style=\"text-align: right;\">\n",
       "      <th></th>\n",
       "      <th>gtfs_dataset_key</th>\n",
       "      <th>_gtfs_dataset_name</th>\n",
       "      <th>trip_id</th>\n",
       "      <th>route_dir_identifier</th>\n",
       "      <th>segment_sequence</th>\n",
       "      <th>min_time</th>\n",
       "      <th>max_time</th>\n",
       "      <th>min_dist</th>\n",
       "      <th>max_dist</th>\n",
       "      <th>meters_elapsed</th>\n",
       "      <th>sec_elapsed</th>\n",
       "      <th>speed_mph</th>\n",
       "    </tr>\n",
       "  </thead>\n",
       "  <tbody>\n",
       "    <tr>\n",
       "      <th>63</th>\n",
       "      <td>02af2d11f5bd44434c581540e9e857d8</td>\n",
       "      <td>LA DOT VehiclePositions</td>\n",
       "      <td>45-2086817</td>\n",
       "      <td>3142909629</td>\n",
       "      <td>19</td>\n",
       "      <td>2023-01-18 00:26:19+00:00</td>\n",
       "      <td>2023-01-18 00:26:19+00:00</td>\n",
       "      <td>482.207808</td>\n",
       "      <td>482.207808</td>\n",
       "      <td>0.0</td>\n",
       "      <td>0.0</td>\n",
       "      <td>NaN</td>\n",
       "    </tr>\n",
       "    <tr>\n",
       "      <th>156</th>\n",
       "      <td>02af2d11f5bd44434c581540e9e857d8</td>\n",
       "      <td>LA DOT VehiclePositions</td>\n",
       "      <td>45-2086824</td>\n",
       "      <td>3142909629</td>\n",
       "      <td>27</td>\n",
       "      <td>2023-01-18 02:39:38+00:00</td>\n",
       "      <td>2023-01-18 02:39:38+00:00</td>\n",
       "      <td>452.950162</td>\n",
       "      <td>452.950162</td>\n",
       "      <td>0.0</td>\n",
       "      <td>0.0</td>\n",
       "      <td>NaN</td>\n",
       "    </tr>\n",
       "    <tr>\n",
       "      <th>159</th>\n",
       "      <td>02af2d11f5bd44434c581540e9e857d8</td>\n",
       "      <td>LA DOT VehiclePositions</td>\n",
       "      <td>45-2086821</td>\n",
       "      <td>3142909629</td>\n",
       "      <td>27</td>\n",
       "      <td>2023-01-18 01:29:39+00:00</td>\n",
       "      <td>2023-01-18 01:29:39+00:00</td>\n",
       "      <td>482.337272</td>\n",
       "      <td>482.337272</td>\n",
       "      <td>0.0</td>\n",
       "      <td>0.0</td>\n",
       "      <td>NaN</td>\n",
       "    </tr>\n",
       "  </tbody>\n",
       "</table>\n",
       "</div>"
      ],
      "text/plain": [
       "                     gtfs_dataset_key       _gtfs_dataset_name     trip_id  \\\n",
       "63   02af2d11f5bd44434c581540e9e857d8  LA DOT VehiclePositions  45-2086817   \n",
       "156  02af2d11f5bd44434c581540e9e857d8  LA DOT VehiclePositions  45-2086824   \n",
       "159  02af2d11f5bd44434c581540e9e857d8  LA DOT VehiclePositions  45-2086821   \n",
       "\n",
       "     route_dir_identifier segment_sequence                  min_time  \\\n",
       "63             3142909629               19 2023-01-18 00:26:19+00:00   \n",
       "156            3142909629               27 2023-01-18 02:39:38+00:00   \n",
       "159            3142909629               27 2023-01-18 01:29:39+00:00   \n",
       "\n",
       "                     max_time    min_dist    max_dist  meters_elapsed  \\\n",
       "63  2023-01-18 00:26:19+00:00  482.207808  482.207808             0.0   \n",
       "156 2023-01-18 02:39:38+00:00  452.950162  452.950162             0.0   \n",
       "159 2023-01-18 01:29:39+00:00  482.337272  482.337272             0.0   \n",
       "\n",
       "     sec_elapsed  speed_mph  \n",
       "63           0.0        NaN  \n",
       "156          0.0        NaN  \n",
       "159          0.0        NaN  "
      ]
     },
     "execution_count": 46,
     "metadata": {},
     "output_type": "execute_result"
    }
   ],
   "source": [
    "no_motion >> head(3)"
   ]
  },
  {
   "cell_type": "code",
   "execution_count": 61,
   "id": "b6b01613-24c5-4c98-81c5-4edc78f2d8f5",
   "metadata": {},
   "outputs": [
    {
     "data": {
      "text/plain": [
       "True     68646\n",
       "False    16735\n",
       "Name: speed_mph, dtype: int64"
      ]
     },
     "execution_count": 61,
     "metadata": {},
     "output_type": "execute_result"
    }
   ],
   "source": [
    "no_motion.isna().speed_mph.value_counts()"
   ]
  },
  {
   "cell_type": "code",
   "execution_count": 51,
   "id": "1a475f89-aceb-4ba6-99d7-f004309eac30",
   "metadata": {},
   "outputs": [
    {
     "data": {
      "text/html": [
       "<div>\n",
       "<style scoped>\n",
       "    .dataframe tbody tr th:only-of-type {\n",
       "        vertical-align: middle;\n",
       "    }\n",
       "\n",
       "    .dataframe tbody tr th {\n",
       "        vertical-align: top;\n",
       "    }\n",
       "\n",
       "    .dataframe thead th {\n",
       "        text-align: right;\n",
       "    }\n",
       "</style>\n",
       "<table border=\"1\" class=\"dataframe\">\n",
       "  <thead>\n",
       "    <tr style=\"text-align: right;\">\n",
       "      <th></th>\n",
       "      <th>_gtfs_dataset_name</th>\n",
       "      <th>n</th>\n",
       "    </tr>\n",
       "  </thead>\n",
       "  <tbody>\n",
       "    <tr>\n",
       "      <th>40</th>\n",
       "      <td>LA Metro Bus Vehicle Positions</td>\n",
       "      <td>22260</td>\n",
       "    </tr>\n",
       "    <tr>\n",
       "      <th>55</th>\n",
       "      <td>San Diego Vehicle Positions</td>\n",
       "      <td>9128</td>\n",
       "    </tr>\n",
       "    <tr>\n",
       "      <th>11</th>\n",
       "      <td>Bay Area 511 Muni VehiclePositions</td>\n",
       "      <td>4847</td>\n",
       "    </tr>\n",
       "    <tr>\n",
       "      <th>41</th>\n",
       "      <td>LA Metro Rail Vehicle Positions</td>\n",
       "      <td>4635</td>\n",
       "    </tr>\n",
       "    <tr>\n",
       "      <th>34</th>\n",
       "      <td>Foothill Vehicle Positions</td>\n",
       "      <td>3858</td>\n",
       "    </tr>\n",
       "    <tr>\n",
       "      <th>...</th>\n",
       "      <td>...</td>\n",
       "      <td>...</td>\n",
       "    </tr>\n",
       "    <tr>\n",
       "      <th>51</th>\n",
       "      <td>PresidiGo VehiclePositions</td>\n",
       "      <td>23</td>\n",
       "    </tr>\n",
       "    <tr>\n",
       "      <th>68</th>\n",
       "      <td>WeHo Vehicle Positions</td>\n",
       "      <td>17</td>\n",
       "    </tr>\n",
       "    <tr>\n",
       "      <th>60</th>\n",
       "      <td>Tahoe Transportation Vehicle Positions</td>\n",
       "      <td>12</td>\n",
       "    </tr>\n",
       "    <tr>\n",
       "      <th>28</th>\n",
       "      <td>BruinBus Vehicle Positions</td>\n",
       "      <td>5</td>\n",
       "    </tr>\n",
       "    <tr>\n",
       "      <th>48</th>\n",
       "      <td>Norwalk Vehicle Positions</td>\n",
       "      <td>4</td>\n",
       "    </tr>\n",
       "  </tbody>\n",
       "</table>\n",
       "<p>70 rows × 2 columns</p>\n",
       "</div>"
      ],
      "text/plain": [
       "                        _gtfs_dataset_name      n\n",
       "40          LA Metro Bus Vehicle Positions  22260\n",
       "55             San Diego Vehicle Positions   9128\n",
       "11      Bay Area 511 Muni VehiclePositions   4847\n",
       "41         LA Metro Rail Vehicle Positions   4635\n",
       "34              Foothill Vehicle Positions   3858\n",
       "..                                     ...    ...\n",
       "51              PresidiGo VehiclePositions     23\n",
       "68                  WeHo Vehicle Positions     17\n",
       "60  Tahoe Transportation Vehicle Positions     12\n",
       "28              BruinBus Vehicle Positions      5\n",
       "48               Norwalk Vehicle Positions      4\n",
       "\n",
       "[70 rows x 2 columns]"
      ]
     },
     "execution_count": 51,
     "metadata": {},
     "output_type": "execute_result"
    }
   ],
   "source": [
    "no_motion >> count(_._gtfs_dataset_name) >> arrange (-_.n)"
   ]
  },
  {
   "cell_type": "markdown",
   "id": "01aa22ee-4a14-4542-8eb6-fb10daac8314",
   "metadata": {},
   "source": [
    "## Notes\n",
    "\n",
    "* insufficient data segments aren't min_dist/max_dist nan, they're min_dist == max_dist\n",
    "* if min_time also == max_time, speed_mph is nan, otherwise speed_mph is 0.0\n",
    "    * about 75% nan, 25% zero speeds\n",
    "    * zero speeds -- breakdowns, end of trips, etc...??\n",
    "* approximately _6%_ of segments have insufficient data based on 1/18/23 data\n",
    "    * much higher, ~30%, in prior 10/12/22 data"
   ]
  },
  {
   "cell_type": "code",
   "execution_count": 47,
   "id": "019abdf8-ca35-4d64-8de8-3541d956a6fe",
   "metadata": {},
   "outputs": [
    {
     "data": {
      "text/plain": [
       "85381"
      ]
     },
     "execution_count": 47,
     "metadata": {},
     "output_type": "execute_result"
    }
   ],
   "source": [
    "no_motion_count = no_motion.shape[0]\n",
    "no_motion_count"
   ]
  },
  {
   "cell_type": "code",
   "execution_count": 48,
   "id": "957379b0-81a4-43d0-aa78-4897b448deac",
   "metadata": {},
   "outputs": [
    {
     "data": {
      "text/plain": [
       "1311292"
      ]
     },
     "execution_count": 48,
     "metadata": {},
     "output_type": "execute_result"
    }
   ],
   "source": [
    "all_count = ddf.shape[0].compute()\n",
    "all_count"
   ]
  },
  {
   "cell_type": "code",
   "execution_count": 49,
   "id": "3ff24657-351a-468a-ad64-d81c66af5205",
   "metadata": {},
   "outputs": [
    {
     "data": {
      "text/plain": [
       "0.0651121184297624"
      ]
     },
     "execution_count": 49,
     "metadata": {},
     "output_type": "execute_result"
    }
   ],
   "source": [
    "no_motion_count / all_count"
   ]
  },
  {
   "cell_type": "markdown",
   "id": "e2c622bc-2ec8-4b0c-9f41-18757f752ed1",
   "metadata": {},
   "source": [
    "## Speeds?"
   ]
  },
  {
   "cell_type": "code",
   "execution_count": 55,
   "id": "9188b36f-e2dc-41ea-9881-01a6d2c8cd7c",
   "metadata": {},
   "outputs": [],
   "source": [
    "all_speeds = ddf.speed_mph.compute()"
   ]
  },
  {
   "cell_type": "code",
   "execution_count": 57,
   "id": "f87951a8-cf6c-4658-b2db-ce466a84cd33",
   "metadata": {},
   "outputs": [],
   "source": [
    "to_chart = all_speeds[all_speeds < 100]"
   ]
  },
  {
   "cell_type": "code",
   "execution_count": 58,
   "id": "25a843b0-f412-42fb-a17e-709b7fdd85df",
   "metadata": {},
   "outputs": [
    {
     "data": {
      "text/plain": [
       "<AxesSubplot:>"
      ]
     },
     "execution_count": 58,
     "metadata": {},
     "output_type": "execute_result"
    },
    {
     "data": {
      "image/png": "[encoded data removed]",
      "text/plain": [
       "<Figure size 640x480 with 1 Axes>"
      ]
     },
     "metadata": {},
     "output_type": "display_data"
    }
   ],
   "source": [
    "to_chart.hist()"
   ]
  },
  {
   "cell_type": "code",
   "execution_count": null,
   "id": "e8c24d2a-f058-42b4-9e09-06caaa310241",
   "metadata": {},
   "outputs": [],
   "source": []
  }
 ],
 "metadata": {
  "kernelspec": {
   "display_name": "Python 3 (ipykernel)",
   "language": "python",
   "name": "python3"
  },
  "language_info": {
   "codemirror_mode": {
    "name": "ipython",
    "version": 3
   },
   "file_extension": ".py",
   "mimetype": "text/x-python",
   "name": "python",
   "nbconvert_exporter": "python",
   "pygments_lexer": "ipython3",
   "version": "3.9.13"
  },
  "widgets": {
   "application/vnd.jupyter.widget-state+json": {
    "state": {},
    "version_major": 2,
    "version_minor": 0
   }
  }
 },
 "nbformat": 4,
 "nbformat_minor": 5
}
