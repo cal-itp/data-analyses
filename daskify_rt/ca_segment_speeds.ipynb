{
 "cells": [
  {
   "cell_type": "markdown",
   "id": "8e469eec-03e7-4f34-8c3e-e3934735e1c7",
   "metadata": {},
   "source": [
    "# Goal: Statewide Daily Speeds by Segments\n",
    "\n",
    "* v1 warehouse (10/12/22)\n",
    "* calculate time-of-day averages"
   ]
  },
  {
   "cell_type": "code",
   "execution_count": null,
   "id": "9f04613d-8fa7-44d1-8827-3c55e2351ab0",
   "metadata": {},
   "outputs": [],
   "source": [
    "import warnings\n",
    "warnings.filterwarnings(\"ignore\")\n",
    "\n",
    "import branca\n",
    "import dask.dataframe as dd\n",
    "import geopandas as gpd\n",
    "import pandas as pd\n",
    "\n",
    "#from shared_utils import rt_utils\n",
    "\n",
    "GCS_FILE_PATH = \"gs://calitp-analytics-data/data-analyses/\"\n",
    "DASK_TEST = f\"{GCS_FILE_PATH}dask_test/\"\n",
    "\n",
    "analysis_date = \"2022-10-12\"\n",
    "\n",
    "\n",
    "ZERO_FIFTY_COLORSCALE = branca.colormap.step.RdYlGn_10.scale(\n",
    "    vmin=0, \n",
    "    vmax=50\n",
    ")"
   ]
  },
  {
   "cell_type": "code",
   "execution_count": null,
   "id": "96b9b53d-6bbc-408d-813f-1306fb6d04fe",
   "metadata": {},
   "outputs": [],
   "source": [
    "def avg_speeds_with_segment_geom(\n",
    "    analysis_date: str, \n",
    "    max_speed_cutoff: int = 70\n",
    ") -> gpd.GeoDataFrame: \n",
    "    \"\"\"\n",
    "    Import the segment-trip table. \n",
    "    Average the speed_mph across all trips present in the segment.\n",
    "    \"\"\"\n",
    "    # Test on BBB for now and get arrowizing right - double check \n",
    "    # where it's running in both directions that you can see both lines\n",
    "    df = dd.read_parquet(\n",
    "        f\"{DASK_TEST}speeds_{analysis_date}/\")\n",
    "    \n",
    "    # Take the average after dropping unusually high speeds\n",
    "    segment_cols = [\"calitp_itp_id\", \"route_dir_identifier\", \n",
    "                    \"segment_sequence\"]\n",
    "    \n",
    "    avg_speeds = (df[(df.speed_mph <= max_speed_cutoff)].compute()\n",
    "        .groupby(segment_cols)\n",
    "        .agg({\n",
    "            \"speed_mph\": \"mean\",\n",
    "            \"trip_id\": \"nunique\"\n",
    "        }).reset_index()\n",
    "    )\n",
    "    \n",
    "    # Clean up for map\n",
    "    avg_speeds = avg_speeds.assign(\n",
    "        speed_mph = avg_speeds.speed_mph.round(2),\n",
    "    ).rename(columns = {\"trip_id\": \"n_trips\"})\n",
    "    \n",
    "    # Merge in segment geometry\n",
    "    segments = gpd.read_parquet(\n",
    "        f\"{DASK_TEST}longest_shape_segments.parquet\",\n",
    "        columns = segment_cols + [\"geometry\", \"geometry_arrowized\"]\n",
    "    ).drop_duplicates().reset_index(drop=True)\n",
    "    \n",
    "    segments2 = segments.set_geometry(\"geometry_arrowized\")\n",
    "    segments2.crs = segments.crs\n",
    "    \n",
    "    gdf = pd.merge(\n",
    "        segments2[~segments2.geometry_arrowized.is_empty], \n",
    "        avg_speeds,\n",
    "        on = segment_cols,\n",
    "        how = \"inner\"\n",
    "    )\n",
    "    \n",
    "    return gdf"
   ]
  },
  {
   "cell_type": "code",
   "execution_count": null,
   "id": "eb940c3b-cdc8-40a9-885d-bc7e6013bd9a",
   "metadata": {},
   "outputs": [],
   "source": [
    "URL = \"https://caltrans-gis.dot.ca.gov/arcgis/rest/services/CHboundary/District_Tiger_Lines/FeatureServer/0/query?outFields=*&where=1%3D1&f=geojson\"\n",
    "caltrans_districts = gpd.read_file(URL)[\n",
    "    [\"DISTRICT\", \"geometry\"]]"
   ]
  },
  {
   "cell_type": "code",
   "execution_count": null,
   "id": "356fa070-ed53-4740-a0cd-06abc624d93f",
   "metadata": {},
   "outputs": [],
   "source": [
    "gdf = avg_speeds_with_segment_geom(\n",
    "    analysis_date, \n",
    "    max_speed_cutoff = 70\n",
    ")"
   ]
  },
  {
   "cell_type": "code",
   "execution_count": null,
   "id": "1a209889-0e75-4f05-8393-2a2fbfba17c4",
   "metadata": {},
   "outputs": [],
   "source": [
    "gdf2 = gpd.sjoin(\n",
    "        gdf, \n",
    "        caltrans_districts.to_crs(gdf.crs),\n",
    "        how = \"inner\",\n",
    "        predicate = \"intersects\"\n",
    "    ).drop(columns = \"index_right\")"
   ]
  },
  {
   "cell_type": "code",
   "execution_count": null,
   "id": "0ae01433-865d-4820-94fe-a62a6c4c6376",
   "metadata": {},
   "outputs": [],
   "source": [
    "#for s in range(30, 75, 5):\n",
    "#    print(f\"# rows with over {s} mph: {len(gdf[gdf.speed_mph > s])}\")"
   ]
  },
  {
   "cell_type": "code",
   "execution_count": null,
   "id": "113b8300-6992-497f-977e-5bdac9650d15",
   "metadata": {},
   "outputs": [],
   "source": [
    "def make_map(gdf: gpd.GeoDataFrame, district: int):\n",
    "    subset = gdf[gdf.DISTRICT == district\n",
    "                ].drop(columns = \"geometry\")\n",
    "    \n",
    "    if len(subset) > 0:\n",
    "        m = subset.explore(\n",
    "            \"speed_mph\",\n",
    "            tiles = \"CartoDB Positron\",\n",
    "            cmap = ZERO_FIFTY_COLORSCALE\n",
    "        )\n",
    "\n",
    "        display(m)\n",
    "    else:\n",
    "        print(f\"No RT trip info available in district {district}.\")"
   ]
  },
  {
   "cell_type": "markdown",
   "id": "97fba8c6-f1e2-45b3-a7d3-dc336a1eabad",
   "metadata": {},
   "source": [
    "## District 1"
   ]
  },
  {
   "cell_type": "code",
   "execution_count": null,
   "id": "e92ff10b-ff10-4900-b503-e64848ee8f54",
   "metadata": {},
   "outputs": [],
   "source": [
    "d = 1\n",
    "make_map(gdf2, d)"
   ]
  },
  {
   "cell_type": "markdown",
   "id": "4dfadcf3-305c-41d2-b2db-497ff3f6b889",
   "metadata": {},
   "source": [
    "## District 2"
   ]
  },
  {
   "cell_type": "code",
   "execution_count": null,
   "id": "012b32c8-7db4-4a65-9d99-a85b50a83799",
   "metadata": {},
   "outputs": [],
   "source": [
    "d = 2\n",
    "make_map(gdf2, d)"
   ]
  },
  {
   "cell_type": "markdown",
   "id": "ea6a12af-954b-4f6d-818d-ff29731ada8f",
   "metadata": {},
   "source": [
    "## District 3"
   ]
  },
  {
   "cell_type": "code",
   "execution_count": null,
   "id": "d69dac93-5fed-4cbd-89a7-a6092048b49d",
   "metadata": {},
   "outputs": [],
   "source": [
    "d = 3\n",
    "make_map(gdf2, d)"
   ]
  },
  {
   "cell_type": "markdown",
   "id": "63ab9f01-c8df-4356-a625-381061541d03",
   "metadata": {},
   "source": [
    "## District 4"
   ]
  },
  {
   "cell_type": "code",
   "execution_count": null,
   "id": "86d945b6-dfbc-43ea-9ab8-70b4233d251d",
   "metadata": {},
   "outputs": [],
   "source": [
    "d = 4\n",
    "make_map(gdf2, d)"
   ]
  },
  {
   "cell_type": "markdown",
   "id": "b0cdd64d-0fcf-49fb-9074-baf47c1f752c",
   "metadata": {},
   "source": [
    "## District 5"
   ]
  },
  {
   "cell_type": "code",
   "execution_count": null,
   "id": "adf84bde-ba07-4747-8bf6-e3ac19e014d3",
   "metadata": {},
   "outputs": [],
   "source": [
    "d = 5\n",
    "make_map(gdf2, d)"
   ]
  },
  {
   "cell_type": "markdown",
   "id": "f3cdbcd8-85a0-4268-844c-85a2f82bb3c0",
   "metadata": {},
   "source": [
    "## District 6"
   ]
  },
  {
   "cell_type": "code",
   "execution_count": null,
   "id": "6d077236-cc7a-4a57-b0a2-18669ee4b0ef",
   "metadata": {},
   "outputs": [],
   "source": [
    "d = 6\n",
    "make_map(gdf2, d)"
   ]
  },
  {
   "cell_type": "markdown",
   "id": "09296410-a025-4ce5-864d-12877e59208e",
   "metadata": {},
   "source": [
    "## District 7"
   ]
  },
  {
   "cell_type": "code",
   "execution_count": null,
   "id": "ac0b094d-2384-4c6c-afba-3a4585c02500",
   "metadata": {},
   "outputs": [],
   "source": [
    "d = 7\n",
    "make_map(gdf2, d)"
   ]
  },
  {
   "cell_type": "markdown",
   "id": "315096cf-adb5-4619-96ec-21c194a02607",
   "metadata": {},
   "source": [
    "## District 8"
   ]
  },
  {
   "cell_type": "code",
   "execution_count": null,
   "id": "64d3dd7f-be89-4126-b3cc-9e7638891abc",
   "metadata": {},
   "outputs": [],
   "source": [
    "d = 8\n",
    "make_map(gdf2, d)"
   ]
  },
  {
   "cell_type": "markdown",
   "id": "a1e497c3-e702-4e98-9a89-9ab59644c20a",
   "metadata": {},
   "source": [
    "## District 9"
   ]
  },
  {
   "cell_type": "code",
   "execution_count": null,
   "id": "e88fc57e-a775-42fa-b45d-7ba206c46940",
   "metadata": {},
   "outputs": [],
   "source": [
    "d = 9\n",
    "make_map(gdf2, d)"
   ]
  },
  {
   "cell_type": "markdown",
   "id": "861acaea-61e8-4ac7-9a1d-f91e640a6cab",
   "metadata": {},
   "source": [
    "## District 10"
   ]
  },
  {
   "cell_type": "code",
   "execution_count": null,
   "id": "e643e533-f9cf-40da-af43-2cc46afe73ce",
   "metadata": {},
   "outputs": [],
   "source": [
    "d = 10\n",
    "make_map(gdf2, d)"
   ]
  },
  {
   "cell_type": "markdown",
   "id": "ab4433e7-4445-4f69-95a4-40a9dabd64d6",
   "metadata": {},
   "source": [
    "## District 11"
   ]
  },
  {
   "cell_type": "code",
   "execution_count": null,
   "id": "62aa1344-5c27-48ba-b755-a6f7d2927762",
   "metadata": {},
   "outputs": [],
   "source": [
    "d = 11\n",
    "make_map(gdf2, d)"
   ]
  },
  {
   "cell_type": "markdown",
   "id": "8f7bc19f-a199-4efe-a62b-dfe09d5bd90d",
   "metadata": {},
   "source": [
    "## District 12"
   ]
  },
  {
   "cell_type": "code",
   "execution_count": null,
   "id": "a9d477c8-d364-41c9-9f48-d1dd59996782",
   "metadata": {},
   "outputs": [],
   "source": [
    "d = 12\n",
    "make_map(gdf2, d)"
   ]
  },
  {
   "cell_type": "code",
   "execution_count": null,
   "id": "29397c96-d823-484b-9e58-98e308eeef0a",
   "metadata": {},
   "outputs": [],
   "source": []
  }
 ],
 "metadata": {
  "kernelspec": {
   "display_name": "Python 3 (ipykernel)",
   "language": "python",
   "name": "python3"
  },
  "language_info": {
   "codemirror_mode": {
    "name": "ipython",
    "version": 3
   },
   "file_extension": ".py",
   "mimetype": "text/x-python",
   "name": "python",
   "nbconvert_exporter": "python",
   "pygments_lexer": "ipython3",
   "version": "3.9.13"
  }
 },
 "nbformat": 4,
 "nbformat_minor": 5
}
