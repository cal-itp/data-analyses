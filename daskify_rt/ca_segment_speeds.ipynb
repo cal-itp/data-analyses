{
 "cells": [
  {
   "cell_type": "markdown",
   "id": "2ac2d210-7493-49c0-9fc4-baddc4978814",
   "metadata": {},
   "source": []
  },
  {
   "cell_type": "code",
   "execution_count": null,
   "id": "9f04613d-8fa7-44d1-8827-3c55e2351ab0",
   "metadata": {},
   "outputs": [],
   "source": [
    "%%capture\n",
    "import warnings\n",
    "warnings.filterwarnings(\"ignore\")\n",
    "\n",
    "import branca\n",
    "import calitp.magics\n",
    "import geopandas as gpd\n",
    "import pandas as pd\n",
    "\n",
    "GCS_FILE_PATH = \"gs://calitp-analytics-data/data-analyses/\"\n",
    "DASK_TEST = f\"{GCS_FILE_PATH}dask_test/\"\n",
    "\n",
    "analysis_date = \"2022-10-12\"\n",
    "\n",
    "ZERO_FIFTY_COLORSCALE = branca.colormap.step.RdYlGn_10.scale(\n",
    "    vmin=0, \n",
    "    vmax=50\n",
    ")\n",
    "\n",
    "district_name_dict = {\n",
    "    1: \"District 1 - Eureka\", \n",
    "    2: \"District 2 - Redding\", \n",
    "    3: \"District 3 - Marysville\", \n",
    "    4: \"District 4 - Oakland\", \n",
    "    5: \"District 5 - San Luis Obispo\", \n",
    "    6: \"District 6 - Fresno\", \n",
    "    7: \"District 7 - Los Angeles\", \n",
    "    8: \"District 8 - San Bernardino\", \n",
    "    9: \"District 9 - Bishop\", \n",
    "    10: \"District 10 - Stockton\", \n",
    "    11: \"District 11 - San Diego\", \n",
    "    12: \"District 12 - Irvine\", \n",
    "}"
   ]
  },
  {
   "cell_type": "code",
   "execution_count": null,
   "id": "4e37258d-b752-467f-948c-6a2d5391e8b0",
   "metadata": {},
   "outputs": [],
   "source": [
    "# Read in data\n",
    "\n",
    "gdf = gpd.read_parquet(f\"{DASK_TEST}avg_speeds_{analysis_date}.parquet\")\n",
    "gdf = gdf[gdf.district==district].reset_index(drop=True)\n",
    "\n",
    "# Use dict to key into district name because D9 is missing data\n",
    "district_name = district_name_dict[district]"
   ]
  },
  {
   "cell_type": "code",
   "execution_count": null,
   "id": "7a222bbd-4fb0-43f4-b189-63edc35ce1f8",
   "metadata": {},
   "outputs": [],
   "source": [
    "%%capture_parameters\n",
    "district, district_name"
   ]
  },
  {
   "cell_type": "markdown",
   "id": "0dda7c36-29f0-457f-9932-f2277d2c8ea1",
   "metadata": {},
   "source": [
    "# {district_name}\n",
    "\n",
    "* Goal: statewide map\n",
    "* v1 warehouse (10/12/22)\n",
    "* calculate time-of-day averages"
   ]
  },
  {
   "cell_type": "code",
   "execution_count": null,
   "id": "0ae01433-865d-4820-94fe-a62a6c4c6376",
   "metadata": {},
   "outputs": [],
   "source": [
    "#for s in range(30, 75, 5):\n",
    "#    print(f\"# rows with over {s} mph: {len(gdf[gdf.speed_mph > s])}\")"
   ]
  },
  {
   "cell_type": "code",
   "execution_count": null,
   "id": "113b8300-6992-497f-977e-5bdac9650d15",
   "metadata": {},
   "outputs": [],
   "source": [
    "def make_map(gdf: gpd.GeoDataFrame, district: int):\n",
    "    if len(gdf) > 0:\n",
    "        m = gdf.explore(\n",
    "            \"speed_mph\",\n",
    "            tiles = \"CartoDB Positron\",\n",
    "            cmap = ZERO_FIFTY_COLORSCALE\n",
    "        )\n",
    "\n",
    "        display(m)\n",
    "    else:\n",
    "        print(f\"No RT trip info available in district {district}.\")"
   ]
  },
  {
   "cell_type": "code",
   "execution_count": null,
   "id": "e92ff10b-ff10-4900-b503-e64848ee8f54",
   "metadata": {},
   "outputs": [],
   "source": [
    "make_map(gdf, district)"
   ]
  }
 ],
 "metadata": {
  "kernelspec": {
   "display_name": "Python 3 (ipykernel)",
   "language": "python",
   "name": "python3"
  },
  "language_info": {
   "codemirror_mode": {
    "name": "ipython",
    "version": 3
   },
   "file_extension": ".py",
   "mimetype": "text/x-python",
   "name": "python",
   "nbconvert_exporter": "python",
   "pygments_lexer": "ipython3",
   "version": "3.9.13"
  }
 },
 "nbformat": 4,
 "nbformat_minor": 5
}
