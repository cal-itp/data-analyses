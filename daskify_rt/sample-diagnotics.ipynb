{
 "cells": [
  {
   "cell_type": "code",
   "execution_count": 1,
   "id": "3a0b92f6-f1af-4c4e-8950-049fcf9573d0",
   "metadata": {},
   "outputs": [
    {
     "name": "stderr",
     "output_type": "stream",
     "text": [
      "/opt/conda/lib/python3.9/site-packages/geopandas/_compat.py:123: UserWarning: The Shapely GEOS version (3.10.3-CAPI-1.16.1) is incompatible with the GEOS version PyGEOS was compiled with (3.10.1-CAPI-1.16.0). Conversions between both will be slow.\n",
      "  warnings.warn(\n"
     ]
    }
   ],
   "source": [
    "import dask.dataframe as dd\n",
    "import dask_geopandas as dg\n",
    "import gcsfs\n",
    "import geopandas as gpd\n",
    "import numpy as np\n",
    "import pandas as pd\n",
    "\n",
    "from dask import delayed, compute\n",
    "from shared_utils import rt_utils\n",
    "\n",
    "GCS_FILE_PATH = \"gs://calitp-analytics-data/data-analyses/\"\n",
    "DASK_TEST = f\"{GCS_FILE_PATH}dask_test/\"\n",
    "COMPILED_CACHED_VIEWS = f\"{GCS_FILE_PATH}rt_delay/compiled_cached_views/\"\n",
    "\n",
    "analysis_date = \"2022-10-12\"\n",
    "fs = gcsfs.GCSFileSystem()"
   ]
  },
  {
   "cell_type": "code",
   "execution_count": null,
   "id": "66f39f54-8e0d-4d7c-8bdd-cde16711dfc2",
   "metadata": {},
   "outputs": [],
   "source": [
    "'''\n",
    "trip_stats_files = fs.ls(f\"{DASK_TEST}trip_diagnostics/\")\n",
    "\n",
    "full_df = pd.DataFrame()\n",
    "\n",
    "for f in trip_stats_files:\n",
    "    df = pd.read_parquet(f\"gs://{f}\")\n",
    "    full_df = pd.concat([full_df, df], axis=0)\n",
    "\n",
    "full_df = full_df.reset_index(drop=True)\n",
    "\n",
    "full_df.to_parquet(f\"{DASK_TEST}trip_diagnostics_{analysis_date}.parquet\")\n",
    "'''"
   ]
  },
  {
   "cell_type": "code",
   "execution_count": 2,
   "id": "7a43b46a-c4da-42e9-8504-0f5bbb2786c0",
   "metadata": {},
   "outputs": [],
   "source": [
    "def merge_trip_diagnostics_with_total_segments():\n",
    "    trip_diagnostics = pd.read_parquet(\n",
    "        f\"{DASK_TEST}trip_diagnostics_{analysis_date}.parquet\", \n",
    "        filters = [[(\"calitp_itp_id\", \"==\", 300)]]\n",
    "    )\n",
    "    \n",
    "    \n",
    "    segments = gpd.read_parquet(\n",
    "        f\"{DASK_TEST}longest_shape_segments.parquet\")\n",
    "    \n",
    "    total_segments_by_shape = (segments.groupby(\n",
    "            [\"calitp_itp_id\", \"route_dir_identifier\"])\n",
    "            .segment_sequence.nunique()\n",
    "            .reset_index()\n",
    "            .rename(columns = {\"segment_sequence\": \"total_segments\"})\n",
    "           )\n",
    "    \n",
    "    df = pd.merge(\n",
    "        trip_diagnostics,\n",
    "        total_segments_by_shape,\n",
    "        on = [\"calitp_itp_id\", \"route_dir_identifier\"],\n",
    "        how = \"inner\",\n",
    "        validate = \"m:1\",\n",
    "    )\n",
    "    \n",
    "    df = df.assign(\n",
    "        pct_vp_segments = df.num_segments_with_vp.divide(df.total_segments),\n",
    "        trip_time = (df.trip_end - df.trip_start) / np.timedelta64(1, 's'),\n",
    "        total_trips = df.groupby(\"calitp_itp_id\").trip_id.transform(\"nunique\"),\n",
    "    )\n",
    "    \n",
    "    return df"
   ]
  },
  {
   "cell_type": "code",
   "execution_count": 3,
   "id": "a750966c-8bbd-4717-ac6f-41eb1db7db3b",
   "metadata": {},
   "outputs": [],
   "source": [
    "df = merge_trip_diagnostics_with_total_segments()"
   ]
  },
  {
   "cell_type": "code",
   "execution_count": 10,
   "id": "9cb71bc2-0f91-4ac9-803e-858114a76dc2",
   "metadata": {},
   "outputs": [],
   "source": [
    "def summary_valid_trips_by_cutoff(\n",
    "    df, time_cutoffs: list, segment_cutoffs: list): \n",
    "\n",
    "    final = pd.DataFrame()\n",
    "\n",
    "    for t in time_cutoffs:\n",
    "        for s in segment_cutoffs:\n",
    "            valid = (df[(df.trip_time >= t) & (df.pct_vp_segments >= s)]\n",
    "                     .groupby([\"calitp_itp_id\", \"total_trips\"])\n",
    "                     .trip_id.nunique()\n",
    "                     .reset_index()\n",
    "                     .rename(columns = {\"trip_id\": \"n_trips\"})\n",
    "                    )\n",
    "\n",
    "            valid = valid.assign(\n",
    "                trip_cutoff = t,\n",
    "                segment_cutoff = s,\n",
    "                cutoff = f\"{t}+ min & {s*100}%+ segments\"\n",
    "            )\n",
    "\n",
    "            final = pd.concat([final, valid], axis=0)\n",
    "    \n",
    "    \n",
    "    final = final.assign(\n",
    "        pct_usable_trips = final.n_trips.divide(final.total_trips)\n",
    "    )\n",
    "    \n",
    "    return final"
   ]
  },
  {
   "cell_type": "code",
   "execution_count": 11,
   "id": "d34bdcf2-3305-4321-a2a8-dc4ce115df68",
   "metadata": {},
   "outputs": [],
   "source": [
    "TIME_CUTOFFS = [5, 10, 15]\n",
    "SEGMENT_CUTOFFS = [0.1, 0.2, 0.25, 0.3, 0.4, 0.5, 0.6, 0.7, 0.75]\n",
    "\n",
    "valid_stats = summary_valid_trips_by_cutoff(\n",
    "    df, TIME_CUTOFFS, SEGMENT_CUTOFFS)"
   ]
  },
  {
   "cell_type": "code",
   "execution_count": 20,
   "id": "c30a67ac-1e45-4293-a458-213b2dab4f53",
   "metadata": {},
   "outputs": [],
   "source": [
    "import altair as alt\n",
    "from shared_utils import styleguide\n",
    "from shared_utils import calitp_color_palette as cp"
   ]
  },
  {
   "cell_type": "code",
   "execution_count": 23,
   "id": "b556ca60-c9c2-4316-8450-96f27a5d12ce",
   "metadata": {},
   "outputs": [
    {
     "data": {
      "text/html": [
       "\n",
       "<div id=\"altair-viz-87cf2b09da384d359844b3c57a2b2c70\"></div>\n",
       "<script type=\"text/javascript\">\n",
       "  var VEGA_DEBUG = (typeof VEGA_DEBUG == \"undefined\") ? {} : VEGA_DEBUG;\n",
       "  (function(spec, embedOpt){\n",
       "    let outputDiv = document.currentScript.previousElementSibling;\n",
       "    if (outputDiv.id !== \"altair-viz-87cf2b09da384d359844b3c57a2b2c70\") {\n",
       "      outputDiv = document.getElementById(\"altair-viz-87cf2b09da384d359844b3c57a2b2c70\");\n",
       "    }\n",
       "    const paths = {\n",
       "      \"vega\": \"https://cdn.jsdelivr.net/npm//vega@5?noext\",\n",
       "      \"vega-lib\": \"https://cdn.jsdelivr.net/npm//vega-lib?noext\",\n",
       "      \"vega-lite\": \"https://cdn.jsdelivr.net/npm//vega-lite@4.17.0?noext\",\n",
       "      \"vega-embed\": \"https://cdn.jsdelivr.net/npm//vega-embed@6?noext\",\n",
       "    };\n",
       "\n",
       "    function maybeLoadScript(lib, version) {\n",
       "      var key = `${lib.replace(\"-\", \"\")}_version`;\n",
       "      return (VEGA_DEBUG[key] == version) ?\n",
       "        Promise.resolve(paths[lib]) :\n",
       "        new Promise(function(resolve, reject) {\n",
       "          var s = document.createElement('script');\n",
       "          document.getElementsByTagName(\"head\")[0].appendChild(s);\n",
       "          s.async = true;\n",
       "          s.onload = () => {\n",
       "            VEGA_DEBUG[key] = version;\n",
       "            return resolve(paths[lib]);\n",
       "          };\n",
       "          s.onerror = () => reject(`Error loading script: ${paths[lib]}`);\n",
       "          s.src = paths[lib];\n",
       "        });\n",
       "    }\n",
       "\n",
       "    function showError(err) {\n",
       "      outputDiv.innerHTML = `<div class=\"error\" style=\"color:red;\">${err}</div>`;\n",
       "      throw err;\n",
       "    }\n",
       "\n",
       "    function displayChart(vegaEmbed) {\n",
       "      vegaEmbed(outputDiv, spec, embedOpt)\n",
       "        .catch(err => showError(`Javascript Error: ${err.message}<br>This usually means there's a typo in your chart specification. See the javascript console for the full traceback.`));\n",
       "    }\n",
       "\n",
       "    if(typeof define === \"function\" && define.amd) {\n",
       "      requirejs.config({paths});\n",
       "      require([\"vega-embed\"], displayChart, err => showError(`Error loading script: ${err.message}`));\n",
       "    } else {\n",
       "      maybeLoadScript(\"vega\", \"5\")\n",
       "        .then(() => maybeLoadScript(\"vega-lite\", \"4.17.0\"))\n",
       "        .then(() => maybeLoadScript(\"vega-embed\", \"6\"))\n",
       "        .catch(showError)\n",
       "        .then(() => displayChart(vegaEmbed));\n",
       "    }\n",
       "  })({\"config\": {\"view\": {\"continuousWidth\": 400, \"continuousHeight\": 300}, \"axis\": {\"domainColor\": \"#cbcbcb\", \"grid\": true, \"gridColor\": \"#cbcbcb\", \"gridWidth\": 1, \"labelColor\": \"#474747\", \"labelFont\": \"Nunito Sans\", \"labelFontSize\": 10, \"labelPadding\": 4, \"tickColor\": \"#cbcbcb\", \"tickSize\": 10, \"titleColor\": \"#333\", \"titleFont\": \"Raleway\", \"titleFontSize\": 12, \"titlePadding\": 10}, \"axisBand\": {\"grid\": false}, \"background\": \"white\", \"font\": \"Raleway\", \"header\": {\"labelFont\": \"Nunito Sans\", \"titleFont\": \"Raleway\"}, \"legend\": {\"labelColor\": \"#333\", \"labelFont\": \"Nunito Sans\", \"labelFontSize\": 11, \"labelLimit\": 0, \"padding\": 1, \"symbolSize\": 30, \"symbolType\": \"square\", \"titleColor\": \"#333\", \"titleFont\": \"Raleway\", \"titleFontSize\": 14, \"titlePadding\": 10}, \"title\": {\"anchor\": \"middle\", \"font\": \"Raleway\", \"fontSize\": 18, \"fontWeight\": 300, \"offset\": 20}}, \"data\": {\"name\": \"data-209311d229b6406fef1a53f6d3b6280c\"}, \"mark\": \"bar\", \"encoding\": {\"x\": {\"field\": \"pct_usable_trips\", \"title\": \"% usable trips\", \"type\": \"quantitative\"}, \"y\": {\"field\": \"cutoff\", \"sort\": {\"field\": \"pct_usable_trips\", \"order\": \"descending\"}, \"title\": \"cutoffs used\", \"type\": \"nominal\"}}, \"height\": 250, \"width\": 400, \"$schema\": \"https://vega.github.io/schema/vega-lite/v4.17.0.json\", \"datasets\": {\"data-209311d229b6406fef1a53f6d3b6280c\": [{\"calitp_itp_id\": 300, \"total_trips\": 1338, \"n_trips\": 1327, \"trip_cutoff\": 5, \"segment_cutoff\": 0.1, \"cutoff\": \"5+ min & 10.0%+ segments\", \"pct_usable_trips\": 0.9917787742899851}, {\"calitp_itp_id\": 300, \"total_trips\": 1338, \"n_trips\": 1315, \"trip_cutoff\": 5, \"segment_cutoff\": 0.2, \"cutoff\": \"5+ min & 20.0%+ segments\", \"pct_usable_trips\": 0.9828101644245142}, {\"calitp_itp_id\": 300, \"total_trips\": 1338, \"n_trips\": 1314, \"trip_cutoff\": 5, \"segment_cutoff\": 0.25, \"cutoff\": \"5+ min & 25.0%+ segments\", \"pct_usable_trips\": 0.9820627802690582}, {\"calitp_itp_id\": 300, \"total_trips\": 1338, \"n_trips\": 1310, \"trip_cutoff\": 5, \"segment_cutoff\": 0.3, \"cutoff\": \"5+ min & 30.0%+ segments\", \"pct_usable_trips\": 0.9790732436472347}, {\"calitp_itp_id\": 300, \"total_trips\": 1338, \"n_trips\": 1303, \"trip_cutoff\": 5, \"segment_cutoff\": 0.4, \"cutoff\": \"5+ min & 40.0%+ segments\", \"pct_usable_trips\": 0.9738415545590433}, {\"calitp_itp_id\": 300, \"total_trips\": 1338, \"n_trips\": 1292, \"trip_cutoff\": 5, \"segment_cutoff\": 0.5, \"cutoff\": \"5+ min & 50.0%+ segments\", \"pct_usable_trips\": 0.9656203288490284}, {\"calitp_itp_id\": 300, \"total_trips\": 1338, \"n_trips\": 1224, \"trip_cutoff\": 5, \"segment_cutoff\": 0.6, \"cutoff\": \"5+ min & 60.0%+ segments\", \"pct_usable_trips\": 0.9147982062780269}, {\"calitp_itp_id\": 300, \"total_trips\": 1338, \"n_trips\": 1129, \"trip_cutoff\": 5, \"segment_cutoff\": 0.7, \"cutoff\": \"5+ min & 70.0%+ segments\", \"pct_usable_trips\": 0.843796711509716}, {\"calitp_itp_id\": 300, \"total_trips\": 1338, \"n_trips\": 1079, \"trip_cutoff\": 5, \"segment_cutoff\": 0.75, \"cutoff\": \"5+ min & 75.0%+ segments\", \"pct_usable_trips\": 0.8064275037369207}, {\"calitp_itp_id\": 300, \"total_trips\": 1338, \"n_trips\": 1327, \"trip_cutoff\": 10, \"segment_cutoff\": 0.1, \"cutoff\": \"10+ min & 10.0%+ segments\", \"pct_usable_trips\": 0.9917787742899851}, {\"calitp_itp_id\": 300, \"total_trips\": 1338, \"n_trips\": 1315, \"trip_cutoff\": 10, \"segment_cutoff\": 0.2, \"cutoff\": \"10+ min & 20.0%+ segments\", \"pct_usable_trips\": 0.9828101644245142}, {\"calitp_itp_id\": 300, \"total_trips\": 1338, \"n_trips\": 1314, \"trip_cutoff\": 10, \"segment_cutoff\": 0.25, \"cutoff\": \"10+ min & 25.0%+ segments\", \"pct_usable_trips\": 0.9820627802690582}, {\"calitp_itp_id\": 300, \"total_trips\": 1338, \"n_trips\": 1310, \"trip_cutoff\": 10, \"segment_cutoff\": 0.3, \"cutoff\": \"10+ min & 30.0%+ segments\", \"pct_usable_trips\": 0.9790732436472347}, {\"calitp_itp_id\": 300, \"total_trips\": 1338, \"n_trips\": 1303, \"trip_cutoff\": 10, \"segment_cutoff\": 0.4, \"cutoff\": \"10+ min & 40.0%+ segments\", \"pct_usable_trips\": 0.9738415545590433}, {\"calitp_itp_id\": 300, \"total_trips\": 1338, \"n_trips\": 1292, \"trip_cutoff\": 10, \"segment_cutoff\": 0.5, \"cutoff\": \"10+ min & 50.0%+ segments\", \"pct_usable_trips\": 0.9656203288490284}, {\"calitp_itp_id\": 300, \"total_trips\": 1338, \"n_trips\": 1224, \"trip_cutoff\": 10, \"segment_cutoff\": 0.6, \"cutoff\": \"10+ min & 60.0%+ segments\", \"pct_usable_trips\": 0.9147982062780269}, {\"calitp_itp_id\": 300, \"total_trips\": 1338, \"n_trips\": 1129, \"trip_cutoff\": 10, \"segment_cutoff\": 0.7, \"cutoff\": \"10+ min & 70.0%+ segments\", \"pct_usable_trips\": 0.843796711509716}, {\"calitp_itp_id\": 300, \"total_trips\": 1338, \"n_trips\": 1079, \"trip_cutoff\": 10, \"segment_cutoff\": 0.75, \"cutoff\": \"10+ min & 75.0%+ segments\", \"pct_usable_trips\": 0.8064275037369207}, {\"calitp_itp_id\": 300, \"total_trips\": 1338, \"n_trips\": 1327, \"trip_cutoff\": 15, \"segment_cutoff\": 0.1, \"cutoff\": \"15+ min & 10.0%+ segments\", \"pct_usable_trips\": 0.9917787742899851}, {\"calitp_itp_id\": 300, \"total_trips\": 1338, \"n_trips\": 1315, \"trip_cutoff\": 15, \"segment_cutoff\": 0.2, \"cutoff\": \"15+ min & 20.0%+ segments\", \"pct_usable_trips\": 0.9828101644245142}, {\"calitp_itp_id\": 300, \"total_trips\": 1338, \"n_trips\": 1314, \"trip_cutoff\": 15, \"segment_cutoff\": 0.25, \"cutoff\": \"15+ min & 25.0%+ segments\", \"pct_usable_trips\": 0.9820627802690582}, {\"calitp_itp_id\": 300, \"total_trips\": 1338, \"n_trips\": 1310, \"trip_cutoff\": 15, \"segment_cutoff\": 0.3, \"cutoff\": \"15+ min & 30.0%+ segments\", \"pct_usable_trips\": 0.9790732436472347}, {\"calitp_itp_id\": 300, \"total_trips\": 1338, \"n_trips\": 1303, \"trip_cutoff\": 15, \"segment_cutoff\": 0.4, \"cutoff\": \"15+ min & 40.0%+ segments\", \"pct_usable_trips\": 0.9738415545590433}, {\"calitp_itp_id\": 300, \"total_trips\": 1338, \"n_trips\": 1292, \"trip_cutoff\": 15, \"segment_cutoff\": 0.5, \"cutoff\": \"15+ min & 50.0%+ segments\", \"pct_usable_trips\": 0.9656203288490284}, {\"calitp_itp_id\": 300, \"total_trips\": 1338, \"n_trips\": 1224, \"trip_cutoff\": 15, \"segment_cutoff\": 0.6, \"cutoff\": \"15+ min & 60.0%+ segments\", \"pct_usable_trips\": 0.9147982062780269}, {\"calitp_itp_id\": 300, \"total_trips\": 1338, \"n_trips\": 1129, \"trip_cutoff\": 15, \"segment_cutoff\": 0.7, \"cutoff\": \"15+ min & 70.0%+ segments\", \"pct_usable_trips\": 0.843796711509716}, {\"calitp_itp_id\": 300, \"total_trips\": 1338, \"n_trips\": 1079, \"trip_cutoff\": 15, \"segment_cutoff\": 0.75, \"cutoff\": \"15+ min & 75.0%+ segments\", \"pct_usable_trips\": 0.8064275037369207}]}}, {\"mode\": \"vega-lite\"});\n",
       "</script>"
      ],
      "text/plain": [
       "alt.Chart(...)"
      ]
     },
     "execution_count": 23,
     "metadata": {},
     "output_type": "execute_result"
    }
   ],
   "source": [
    "chart = (alt.Chart(valid_stats)\n",
    " .mark_bar()\n",
    " .encode(\n",
    "     x=alt.X(\"pct_usable_trips:Q\", title=\"% usable trips\"),\n",
    "     y=alt.Y(\"cutoff:N\", title=\"cutoffs used\",\n",
    "             sort=alt.SortField(\n",
    "                 \"pct_usable_trips\", order=\"descending\")),\n",
    " )\n",
    ")\n",
    "\n",
    "styleguide.preset_chart_config(chart)"
   ]
  },
  {
   "cell_type": "code",
   "execution_count": null,
   "id": "7e4d0109-0937-4281-812b-ad21a31228ba",
   "metadata": {},
   "outputs": [],
   "source": [
    "#results_ddfs = [compute(i)[0] for i in results]"
   ]
  },
  {
   "cell_type": "code",
   "execution_count": null,
   "id": "870f70ac-d453-49a4-af5a-f72d1ebf65e8",
   "metadata": {},
   "outputs": [],
   "source": []
  },
  {
   "cell_type": "code",
   "execution_count": null,
   "id": "79af0c49-9625-4760-9eed-5c5b6899fd0f",
   "metadata": {},
   "outputs": [],
   "source": []
  },
  {
   "cell_type": "code",
   "execution_count": null,
   "id": "31f85dc9-bac7-423c-baa4-419f0dd04aa9",
   "metadata": {},
   "outputs": [],
   "source": []
  },
  {
   "cell_type": "code",
   "execution_count": null,
   "id": "3f0b97b3-5e2d-4e06-990b-f25aebaff241",
   "metadata": {},
   "outputs": [],
   "source": []
  },
  {
   "cell_type": "code",
   "execution_count": null,
   "id": "0ac5a91b-b643-4259-8f85-c4f460ab73fa",
   "metadata": {},
   "outputs": [],
   "source": [
    "ddf = (dd.multi.concat(results_ddfs, axis=0)\n",
    "       .repartition(npartitions = 3)\n",
    "      )"
   ]
  },
  {
   "cell_type": "code",
   "execution_count": null,
   "id": "510c33b2-6674-4c0e-b38c-e4d9baca7af9",
   "metadata": {},
   "outputs": [],
   "source": [
    "ddf.to_parquet(\"./data/trip_stats/\")"
   ]
  },
  {
   "cell_type": "code",
   "execution_count": null,
   "id": "19517684-8d70-43da-b0a9-e9a5faeceeb1",
   "metadata": {},
   "outputs": [],
   "source": []
  },
  {
   "cell_type": "code",
   "execution_count": null,
   "id": "38885b41-41f9-404e-a714-d6ac8fcf1298",
   "metadata": {},
   "outputs": [],
   "source": []
  },
  {
   "cell_type": "code",
   "execution_count": null,
   "id": "0a873a2f-ebb0-416d-9629-1d991d7e00be",
   "metadata": {},
   "outputs": [],
   "source": [
    "df = pd.read_parquet(\"./data/trip_stats.parquet\")"
   ]
  },
  {
   "cell_type": "code",
   "execution_count": null,
   "id": "f80069fa-3e44-4361-9cc7-5e993f4be883",
   "metadata": {},
   "outputs": [],
   "source": [
    "#trip_stats_df = get_trip_stats(delayed_df)\n",
    "delayed_dfs = [import_data(f).persist() for f in vp_seg_files]"
   ]
  },
  {
   "cell_type": "code",
   "execution_count": null,
   "id": "f00d6005-1139-4417-8457-318eb00333f6",
   "metadata": {},
   "outputs": [],
   "source": [
    "trip_stats_dfs = [get_trip_stats(df) for df in delayed_dfs]"
   ]
  },
  {
   "cell_type": "code",
   "execution_count": null,
   "id": "a38cce12-7666-43fd-a2e7-9ae53fc312e5",
   "metadata": {},
   "outputs": [],
   "source": [
    "trip_stats_computes = [compute(i)[0] for i in trip_stats_dfs]"
   ]
  },
  {
   "cell_type": "code",
   "execution_count": null,
   "id": "28d02ece-8338-4273-ad62-d58d2c37c2b3",
   "metadata": {},
   "outputs": [],
   "source": [
    "result_ddf = dd.multi.concat(trip_stats_computes, axis=0)"
   ]
  },
  {
   "cell_type": "code",
   "execution_count": null,
   "id": "9d7045a0-c149-4134-b0d2-0bef4dfae5ba",
   "metadata": {},
   "outputs": [],
   "source": [
    "result_ddf = result_ddf.repartition(npartitions=3)\n",
    "result_ddf.to_parquet(\"./data/trip_stats/\")"
   ]
  },
  {
   "cell_type": "code",
   "execution_count": null,
   "id": "a9aea7ed-06cf-45e3-8dc5-46f7085411d7",
   "metadata": {},
   "outputs": [],
   "source": []
  },
  {
   "cell_type": "code",
   "execution_count": null,
   "id": "f6c6ac25-cc2a-4c08-87c4-5a4bf6a1471b",
   "metadata": {},
   "outputs": [],
   "source": []
  },
  {
   "cell_type": "code",
   "execution_count": null,
   "id": "ed3995c1-2027-4631-a1b5-bad0c6f4c9d1",
   "metadata": {},
   "outputs": [],
   "source": []
  },
  {
   "cell_type": "code",
   "execution_count": null,
   "id": "04b7abb4-6700-496a-9b00-79e26e978505",
   "metadata": {},
   "outputs": [],
   "source": [
    "ddf = dd.from_delayed(delayed_dfs)\n",
    "# this needs to take pandas dfs?"
   ]
  },
  {
   "cell_type": "code",
   "execution_count": null,
   "id": "99fbe263-39da-484a-847b-930fe0535a85",
   "metadata": {},
   "outputs": [],
   "source": []
  },
  {
   "cell_type": "code",
   "execution_count": null,
   "id": "c1bef2a3-886d-44e1-b86b-3d7a837e49a1",
   "metadata": {},
   "outputs": [],
   "source": [
    "segments = dg.read_parquet(f\"{DASK_TEST}longest_shape_segments.parquet\")\n",
    "total_segments_by_shape = (segments.groupby([\"calitp_itp_id\", \"route_dir_identifier\"])\n",
    "            .segment_sequence.nunique()\n",
    "            .reset_index()\n",
    "            .rename(columns = {\"segment_sequence\": \"total_segments\"})\n",
    "           )\n"
   ]
  },
  {
   "cell_type": "code",
   "execution_count": null,
   "id": "a0bfb450-195f-4274-bb33-68c2e242b196",
   "metadata": {},
   "outputs": [],
   "source": []
  },
  {
   "cell_type": "code",
   "execution_count": null,
   "id": "eb6a6f3c-379d-4706-9ff2-bbb54608a36e",
   "metadata": {},
   "outputs": [],
   "source": []
  },
  {
   "cell_type": "code",
   "execution_count": null,
   "id": "13d5acd2-6f40-4edb-84bd-5a5e0cb22635",
   "metadata": {},
   "outputs": [],
   "source": []
  },
  {
   "cell_type": "code",
   "execution_count": null,
   "id": "f78db8d6-dd6b-4b1f-8311-7e4dd56266ca",
   "metadata": {},
   "outputs": [],
   "source": []
  },
  {
   "cell_type": "code",
   "execution_count": null,
   "id": "86f56e71-c2b8-4a3e-8dd2-c24e9ce9d821",
   "metadata": {},
   "outputs": [],
   "source": []
  },
  {
   "cell_type": "code",
   "execution_count": null,
   "id": "62b00869-f8b1-495d-8ff3-31774a6ed2a0",
   "metadata": {},
   "outputs": [],
   "source": [
    "trip_stats.visualize()"
   ]
  },
  {
   "cell_type": "code",
   "execution_count": null,
   "id": "805c8dbd-7fc5-4497-ad1b-b16dc266c0a9",
   "metadata": {},
   "outputs": [],
   "source": [
    "trip_stats.compute()"
   ]
  }
 ],
 "metadata": {
  "kernelspec": {
   "display_name": "Python 3 (ipykernel)",
   "language": "python",
   "name": "python3"
  },
  "language_info": {
   "codemirror_mode": {
    "name": "ipython",
    "version": 3
   },
   "file_extension": ".py",
   "mimetype": "text/x-python",
   "name": "python",
   "nbconvert_exporter": "python",
   "pygments_lexer": "ipython3",
   "version": "3.9.13"
  }
 },
 "nbformat": 4,
 "nbformat_minor": 5
}
