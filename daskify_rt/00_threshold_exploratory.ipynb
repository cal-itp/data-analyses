{
 "cells": [
  {
   "cell_type": "markdown",
   "id": "503781ab-a3cb-4092-ab73-ea76ffd696c3",
   "metadata": {},
   "source": [
    "## RT trip diagnostics: thresholds for usable trips \n",
    "### To Do\n",
    "* Add operator name to itp_id."
   ]
  },
  {
   "cell_type": "code",
   "execution_count": 1,
   "id": "1faeb7ff-1ebc-4ced-afb0-c813f863d3d8",
   "metadata": {
    "scrolled": true,
    "tags": []
   },
   "outputs": [
    {
     "name": "stderr",
     "output_type": "stream",
     "text": [
      "/opt/conda/lib/python3.9/site-packages/geopandas/_compat.py:123: UserWarning: The Shapely GEOS version (3.10.3-CAPI-1.16.1) is incompatible with the GEOS version PyGEOS was compiled with (3.10.1-CAPI-1.16.0). Conversions between both will be slow.\n",
      "  warnings.warn(\n"
     ]
    }
   ],
   "source": [
    "import altair as alt\n",
    "import dask.dataframe as dd\n",
    "import dask_geopandas as dg\n",
    "import geopandas as gpd\n",
    "import numpy as np\n",
    "import pandas as pd\n",
    "from calitp.sql import to_snakecase\n",
    "\n",
    "# from shared_utils import calitp_color_palette as cp\n",
    "# from shared_utils import geography_utils, styleguide, utils"
   ]
  },
  {
   "cell_type": "code",
   "execution_count": 2,
   "id": "9f13f204-138e-4b10-94a8-ead22461dad0",
   "metadata": {},
   "outputs": [],
   "source": [
    "# Save files to GCS\n",
    "from calitp.storage import get_fs\n",
    "\n",
    "fs = get_fs()"
   ]
  },
  {
   "cell_type": "code",
   "execution_count": 3,
   "id": "35a36bc4-4f66-4285-8025-a5eaccc3a266",
   "metadata": {},
   "outputs": [],
   "source": [
    "# Record start and end time\n",
    "import datetime\n",
    "\n",
    "from loguru import logger"
   ]
  },
  {
   "cell_type": "code",
   "execution_count": 4,
   "id": "a18b7f72-6ca7-4e95-a2a6-5cafb03702eb",
   "metadata": {},
   "outputs": [],
   "source": [
    "import intake\n",
    "\n",
    "catalog = intake.open_catalog(\"./catalog_threshold.yml\")"
   ]
  },
  {
   "cell_type": "code",
   "execution_count": 5,
   "id": "f6233726-eb99-4f7e-9a90-842872f36ed7",
   "metadata": {},
   "outputs": [],
   "source": [
    "pd.options.display.max_columns = 100\n",
    "pd.options.display.float_format = \"{:.2f}\".format\n",
    "pd.set_option(\"display.max_rows\", None)\n",
    "pd.set_option(\"display.max_colwidth\", None)"
   ]
  },
  {
   "cell_type": "markdown",
   "id": "b26bf5e4-5ced-43dd-b792-12fa0e2376c0",
   "metadata": {},
   "source": [
    "### Load Files"
   ]
  },
  {
   "cell_type": "code",
   "execution_count": 6,
   "id": "2f333522-803a-4b60-b4af-b2edd0a274df",
   "metadata": {},
   "outputs": [],
   "source": [
    "GCS_DASK_PATH = \"gs://calitp-analytics-data/data-analyses/dask_test/\"\n",
    "GCS_RT_PATH = \"gs://calitp-analytics-data/data-analyses/rt_delay/\""
   ]
  },
  {
   "cell_type": "code",
   "execution_count": 7,
   "id": "cdd7ae15-7777-4c40-94be-f441f68f9b6a",
   "metadata": {},
   "outputs": [],
   "source": [
    "analysis_date = \"2022-10-12\""
   ]
  },
  {
   "cell_type": "code",
   "execution_count": 8,
   "id": "54f14c56-e931-4c9f-8a8b-be7d90f813a0",
   "metadata": {},
   "outputs": [],
   "source": [
    "agency = 282"
   ]
  },
  {
   "cell_type": "code",
   "execution_count": 9,
   "id": "7ddaf111-2652-4162-85fc-bd4e884bfb48",
   "metadata": {},
   "outputs": [],
   "source": [
    "# operator = pd.read_parquet(\n",
    "#    f\"{GCS_DASK_PATH}vp_sjoin/vp_segment_{agency}_{analysis_date}.parquet\"\n",
    "# )"
   ]
  },
  {
   "cell_type": "markdown",
   "id": "30ea0f95-de9d-4b1e-92bd-95111ba0e2d7",
   "metadata": {
    "tags": []
   },
   "source": [
    "### Task 1\n",
    "* Using GTFS schedule data, by route_id-shape_id, calculate the route_length of each shape_id as a proportion of the longest shape_id. \n",
    "* For <b>each route_id</b>, what's the shortest shape_id length, in proportion to the longest shape_id's length. if it's 100%, then all shape_ids are equal length for that route. if it's 50%, there's a short trip that exists that only runs 50% of the length and turns around.\n",
    "\n",
    "<b>How</b>\n",
    "* Need table `trips` from compile cached views -> shape ID and route ID and direction ID -> merge in segments crosswalk with route direction identifier \n",
    "* Shapes table -> attach route dir identifier\n",
    "* Merge in longest shape line using  routes and direction take the fraction. "
   ]
  },
  {
   "cell_type": "code",
   "execution_count": 10,
   "id": "5eebc5f1-4825-48f0-b25b-76ab44b7b2c9",
   "metadata": {},
   "outputs": [],
   "source": [
    "def clean_trips():\n",
    "    df = catalog.trips.read()\n",
    "\n",
    "    subset = [\n",
    "        \"calitp_itp_id\",\n",
    "        \"route_id\",\n",
    "        \"direction_id\",\n",
    "        \"shape_id\",\n",
    "    ]\n",
    "\n",
    "    df = df[subset]\n",
    "\n",
    "    df = df.drop_duplicates().reset_index(drop=True)\n",
    "\n",
    "    return df"
   ]
  },
  {
   "cell_type": "code",
   "execution_count": 11,
   "id": "e777c75d-c670-45b1-b85d-a92d276e418a",
   "metadata": {},
   "outputs": [],
   "source": [
    "def clean_routelines():\n",
    "    df = catalog.route_lines.read()\n",
    "\n",
    "    # Drop CalITP since it's no longer needed\n",
    "    df = df.drop(columns=[\"calitp_url_number\"])\n",
    "\n",
    "    df = (df.drop_duplicates()).reset_index(drop=True)\n",
    "\n",
    "    # Calculate length of geometry\n",
    "    df = df.assign(actual_route_length=(df.geometry.length))\n",
    "\n",
    "    return df"
   ]
  },
  {
   "cell_type": "code",
   "execution_count": 12,
   "id": "ed4cb6ab-98a3-4de0-beaf-27782914b5e4",
   "metadata": {},
   "outputs": [],
   "source": [
    "def clean_longest_shape():\n",
    "    df = catalog.longest_shape.read()\n",
    "\n",
    "    df = df.rename(columns={\"route_length\": \"longest_route_length\"})\n",
    "\n",
    "    return df"
   ]
  },
  {
   "cell_type": "code",
   "execution_count": 13,
   "id": "c66d520b-588c-4724-a07b-3a4abe9fdb67",
   "metadata": {},
   "outputs": [],
   "source": [
    "def merge_trips_routes_longest_shape():\n",
    "    trips = clean_trips()\n",
    "    crosswalk = catalog.crosswalk.read()\n",
    "    routelines = clean_routelines()\n",
    "    longest_shape = clean_longest_shape()\n",
    "\n",
    "    m1 = (\n",
    "        trips.merge(\n",
    "            crosswalk, how=\"inner\", on=[\"calitp_itp_id\", \"route_id\", \"direction_id\"]\n",
    "        )\n",
    "        .merge(routelines, how=\"inner\", on=[\"calitp_itp_id\", \"shape_id\"])\n",
    "        .merge(\n",
    "            longest_shape.drop(columns=[\"geometry\"]),\n",
    "            how=\"inner\",\n",
    "            on=[\"calitp_itp_id\", \"direction_id\", \"route_id\", \"route_dir_identifier\"],\n",
    "        )\n",
    "    )\n",
    "\n",
    "    # Calculate out proportion of route length against longest.\n",
    "    m1[\"route_length_percentage\"] = (\n",
    "        (m1[\"actual_route_length\"] / m1[\"longest_route_length\"]) * 100\n",
    "    ).astype(int)\n",
    "\n",
    "    # Count number of segments that appear in the longest shape.\n",
    "    m1 = (\n",
    "        m1.groupby(\n",
    "            [\n",
    "                \"route_id\",\n",
    "                \"calitp_itp_id\",\n",
    "                \"route_dir_identifier\",\n",
    "                \"shape_id\",\n",
    "                \"longest_shape_id\",\n",
    "                \"route_length_percentage\",\n",
    "            ]\n",
    "        )\n",
    "        .agg({\"segment_sequence\": \"count\"})\n",
    "        .rename(columns={\"segment_sequence\": \"total_segments\"})\n",
    "        .reset_index()\n",
    "    )\n",
    "\n",
    "    return m1"
   ]
  },
  {
   "cell_type": "code",
   "execution_count": 14,
   "id": "9a491c0f-b98c-4ee5-a782-e701c56ed6e7",
   "metadata": {},
   "outputs": [],
   "source": [
    "trips_routes_shape = merge_trips_routes_longest_shape()"
   ]
  },
  {
   "cell_type": "code",
   "execution_count": 15,
   "id": "860575a2-5e5d-4672-bf13-926250016bb1",
   "metadata": {},
   "outputs": [
    {
     "data": {
      "text/plain": [
       "(8231, 7)"
      ]
     },
     "execution_count": 15,
     "metadata": {},
     "output_type": "execute_result"
    }
   ],
   "source": [
    "trips_routes_shape.shape"
   ]
  },
  {
   "cell_type": "code",
   "execution_count": 16,
   "id": "423daea7-d13e-47a1-a9fd-1293289bb78a",
   "metadata": {},
   "outputs": [],
   "source": [
    "agg1 = (\n",
    "    trips_routes_shape.groupby([\"calitp_itp_id\", \"route_id\", \"shape_id\"])\n",
    "    .agg({\"route_length_percentage\": \"max\"})\n",
    "    .reset_index()\n",
    ")"
   ]
  },
  {
   "cell_type": "code",
   "execution_count": 17,
   "id": "f13552b3-d5f5-4b26-b79c-d28130fb7c26",
   "metadata": {},
   "outputs": [
    {
     "data": {
      "text/plain": [
       "(7832, 4)"
      ]
     },
     "execution_count": 17,
     "metadata": {},
     "output_type": "execute_result"
    }
   ],
   "source": [
    "agg1.shape"
   ]
  },
  {
   "cell_type": "code",
   "execution_count": 18,
   "id": "d760e754-fa65-4b38-be6b-8af8bed590d7",
   "metadata": {},
   "outputs": [
    {
     "data": {
      "text/html": [
       "<div>\n",
       "<style scoped>\n",
       "    .dataframe tbody tr th:only-of-type {\n",
       "        vertical-align: middle;\n",
       "    }\n",
       "\n",
       "    .dataframe tbody tr th {\n",
       "        vertical-align: top;\n",
       "    }\n",
       "\n",
       "    .dataframe thead th {\n",
       "        text-align: right;\n",
       "    }\n",
       "</style>\n",
       "<table border=\"1\" class=\"dataframe\">\n",
       "  <thead>\n",
       "    <tr style=\"text-align: right;\">\n",
       "      <th></th>\n",
       "      <th>calitp_itp_id</th>\n",
       "      <th>route_id</th>\n",
       "      <th>shape_id</th>\n",
       "      <th>route_length_percentage</th>\n",
       "    </tr>\n",
       "  </thead>\n",
       "  <tbody>\n",
       "    <tr>\n",
       "      <th>0</th>\n",
       "      <td>4</td>\n",
       "      <td>10</td>\n",
       "      <td>shp-10-09</td>\n",
       "      <td>100</td>\n",
       "    </tr>\n",
       "    <tr>\n",
       "      <th>1</th>\n",
       "      <td>4</td>\n",
       "      <td>10</td>\n",
       "      <td>shp-10-10</td>\n",
       "      <td>100</td>\n",
       "    </tr>\n",
       "    <tr>\n",
       "      <th>2</th>\n",
       "      <td>4</td>\n",
       "      <td>12</td>\n",
       "      <td>shp-12-14</td>\n",
       "      <td>100</td>\n",
       "    </tr>\n",
       "    <tr>\n",
       "      <th>3</th>\n",
       "      <td>4</td>\n",
       "      <td>12</td>\n",
       "      <td>shp-12-56</td>\n",
       "      <td>100</td>\n",
       "    </tr>\n",
       "    <tr>\n",
       "      <th>4</th>\n",
       "      <td>4</td>\n",
       "      <td>14</td>\n",
       "      <td>shp-14-14</td>\n",
       "      <td>21</td>\n",
       "    </tr>\n",
       "  </tbody>\n",
       "</table>\n",
       "</div>"
      ],
      "text/plain": [
       "   calitp_itp_id route_id   shape_id  route_length_percentage\n",
       "0              4       10  shp-10-09                      100\n",
       "1              4       10  shp-10-10                      100\n",
       "2              4       12  shp-12-14                      100\n",
       "3              4       12  shp-12-56                      100\n",
       "4              4       14  shp-14-14                       21"
      ]
     },
     "execution_count": 18,
     "metadata": {},
     "output_type": "execute_result"
    }
   ],
   "source": [
    "agg1.head()"
   ]
  },
  {
   "cell_type": "code",
   "execution_count": 19,
   "id": "e794dcfe-6b30-4890-b3cf-5a71f33da671",
   "metadata": {},
   "outputs": [],
   "source": [
    "dropdown = agg1.calitp_itp_id.unique().tolist()"
   ]
  },
  {
   "cell_type": "code",
   "execution_count": 20,
   "id": "edc548eb-8c20-4a05-a7a5-3cb4f262dae6",
   "metadata": {},
   "outputs": [
    {
     "data": {
      "text/plain": [
       "DataTransformerRegistry.enable('default')"
      ]
     },
     "execution_count": 20,
     "metadata": {},
     "output_type": "execute_result"
    }
   ],
   "source": [
    "alt.data_transformers.disable_max_rows()"
   ]
  },
  {
   "cell_type": "code",
   "execution_count": 21,
   "id": "c7ecc6d7-54f4-448a-96ab-ae1ced5d3f93",
   "metadata": {},
   "outputs": [],
   "source": [
    "# Create drop down menu\n",
    "input_dropdown = alt.binding_select(options=dropdown, name='Operator')\n",
    "\n",
    "# The column tied to the drop down menu\n",
    "selection = alt.selection_single(fields=['calitp_itp_id'], bind=input_dropdown)\n",
    "\n",
    "chart1 = (\n",
    "        alt.Chart(agg1.loc[agg1.calitp_itp_id == 282])\n",
    "        .mark_bar()\n",
    "        .encode(\n",
    "            x='route_length_percentage:Q',\n",
    "            y='shape_id:N',\n",
    "            color=alt.Color(\n",
    "                'route_id:N', legend = None\n",
    "            ),\n",
    "            tooltip=['route_id','shape_id', 'calitp_itp_id','route_length_percentage'],\n",
    "        )\n",
    "        .properties(title=\"test\")\n",
    "        .add_selection(selection)\n",
    "        .transform_filter(selection)\n",
    "    )\n"
   ]
  },
  {
   "cell_type": "code",
   "execution_count": 22,
   "id": "42898900-2de2-4700-875a-73745da9f2fd",
   "metadata": {
    "tags": []
   },
   "outputs": [],
   "source": [
    "# chart1"
   ]
  },
  {
   "cell_type": "markdown",
   "id": "4ee055fe-0a1a-4c77-b60a-bbd28c20f7de",
   "metadata": {},
   "source": [
    "### Cut Off by Trips "
   ]
  },
  {
   "cell_type": "code",
   "execution_count": 23,
   "id": "3c057b6d-9b02-4e02-8932-8af2c12f769d",
   "metadata": {},
   "outputs": [],
   "source": [
    "def merge_trip_diagnostics_with_total_segments():\n",
    "    trip_diagnostics = pd.read_parquet(\n",
    "        \"gs://calitp-analytics-data/data-analyses/rt_segment_speeds/trip_diagnostics_2022-10-12.parquet\",\n",
    "    )\n",
    "\n",
    "    segments = catalog.longest_shape.read()\n",
    "\n",
    "    total_segments_by_shape = (\n",
    "        segments.groupby([\"calitp_itp_id\", \"route_dir_identifier\"])\n",
    "        .segment_sequence.nunique()\n",
    "        .reset_index()\n",
    "        .rename(columns={\"segment_sequence\": \"total_segments\"})\n",
    "    )\n",
    "\n",
    "    df = pd.merge(\n",
    "        trip_diagnostics,\n",
    "        total_segments_by_shape,\n",
    "        on=[\"calitp_itp_id\", \"route_dir_identifier\"],\n",
    "        how=\"inner\",\n",
    "        validate=\"m:1\",\n",
    "    )\n",
    "\n",
    "    df = df.assign(\n",
    "        pct_vp_segments=df.num_segments_with_vp.divide(df.total_segments),\n",
    "        trip_time=((df.trip_end - df.trip_start) / np.timedelta64(1, \"s\") / 60).astype(\n",
    "            int\n",
    "        ),\n",
    "        total_trips=df.groupby(\"calitp_itp_id\").trip_id.transform(\"nunique\"),\n",
    "    )\n",
    "\n",
    "    return df"
   ]
  },
  {
   "cell_type": "code",
   "execution_count": 26,
   "id": "f1817a2d-540a-4209-8fb2-218cf5b9948c",
   "metadata": {},
   "outputs": [],
   "source": [
    "all_operators = merge_trip_diagnostics_with_total_segments()"
   ]
  },
  {
   "cell_type": "code",
   "execution_count": 27,
   "id": "7ba1e541-65ed-4101-a703-8139fbf5bd26",
   "metadata": {},
   "outputs": [],
   "source": [
    "operator_282_trips = all_operators.loc[\n",
    "    all_operators.calitp_itp_id == 282\n",
    "].reset_index(drop=True)"
   ]
  },
  {
   "cell_type": "code",
   "execution_count": 28,
   "id": "b731e380-7b3e-4fee-a45b-bc9dcda231de",
   "metadata": {},
   "outputs": [
    {
     "data": {
      "text/plain": [
       "8578"
      ]
     },
     "execution_count": 28,
     "metadata": {},
     "output_type": "execute_result"
    }
   ],
   "source": [
    "operator_282_trips.trip_id.nunique()"
   ]
  },
  {
   "cell_type": "code",
   "execution_count": 29,
   "id": "ecc7f582-fe72-45b7-a1f0-1556c1dd1b38",
   "metadata": {},
   "outputs": [
    {
     "data": {
      "text/html": [
       "<div>\n",
       "<style scoped>\n",
       "    .dataframe tbody tr th:only-of-type {\n",
       "        vertical-align: middle;\n",
       "    }\n",
       "\n",
       "    .dataframe tbody tr th {\n",
       "        vertical-align: top;\n",
       "    }\n",
       "\n",
       "    .dataframe thead th {\n",
       "        text-align: right;\n",
       "    }\n",
       "</style>\n",
       "<table border=\"1\" class=\"dataframe\">\n",
       "  <thead>\n",
       "    <tr style=\"text-align: right;\">\n",
       "      <th></th>\n",
       "      <th>calitp_itp_id</th>\n",
       "      <th>trip_id</th>\n",
       "      <th>route_dir_identifier</th>\n",
       "      <th>trip_start</th>\n",
       "      <th>trip_end</th>\n",
       "      <th>num_segments_with_vp</th>\n",
       "      <th>total_segments</th>\n",
       "      <th>pct_vp_segments</th>\n",
       "      <th>trip_time</th>\n",
       "      <th>total_trips</th>\n",
       "    </tr>\n",
       "  </thead>\n",
       "  <tbody>\n",
       "    <tr>\n",
       "      <th>0</th>\n",
       "      <td>282</td>\n",
       "      <td>11108746</td>\n",
       "      <td>4013410901</td>\n",
       "      <td>2022-10-12 15:05:36</td>\n",
       "      <td>2022-10-12 15:47:45</td>\n",
       "      <td>9</td>\n",
       "      <td>10</td>\n",
       "      <td>0.90</td>\n",
       "      <td>42</td>\n",
       "      <td>8578</td>\n",
       "    </tr>\n",
       "    <tr>\n",
       "      <th>1</th>\n",
       "      <td>282</td>\n",
       "      <td>11108747</td>\n",
       "      <td>4013410901</td>\n",
       "      <td>2022-10-12 14:57:24</td>\n",
       "      <td>2022-10-12 15:41:44</td>\n",
       "      <td>9</td>\n",
       "      <td>10</td>\n",
       "      <td>0.90</td>\n",
       "      <td>44</td>\n",
       "      <td>8578</td>\n",
       "    </tr>\n",
       "    <tr>\n",
       "      <th>2</th>\n",
       "      <td>282</td>\n",
       "      <td>11108748</td>\n",
       "      <td>4013410901</td>\n",
       "      <td>2022-10-12 14:49:23</td>\n",
       "      <td>2022-10-12 15:31:16</td>\n",
       "      <td>10</td>\n",
       "      <td>10</td>\n",
       "      <td>1.00</td>\n",
       "      <td>41</td>\n",
       "      <td>8578</td>\n",
       "    </tr>\n",
       "    <tr>\n",
       "      <th>3</th>\n",
       "      <td>282</td>\n",
       "      <td>11108749</td>\n",
       "      <td>4013410901</td>\n",
       "      <td>2022-10-12 14:45:02</td>\n",
       "      <td>2022-10-12 15:27:16</td>\n",
       "      <td>10</td>\n",
       "      <td>10</td>\n",
       "      <td>1.00</td>\n",
       "      <td>42</td>\n",
       "      <td>8578</td>\n",
       "    </tr>\n",
       "    <tr>\n",
       "      <th>4</th>\n",
       "      <td>282</td>\n",
       "      <td>11108750</td>\n",
       "      <td>4013410901</td>\n",
       "      <td>2022-10-12 14:36:35</td>\n",
       "      <td>2022-10-12 15:23:40</td>\n",
       "      <td>9</td>\n",
       "      <td>10</td>\n",
       "      <td>0.90</td>\n",
       "      <td>47</td>\n",
       "      <td>8578</td>\n",
       "    </tr>\n",
       "  </tbody>\n",
       "</table>\n",
       "</div>"
      ],
      "text/plain": [
       "   calitp_itp_id   trip_id  route_dir_identifier          trip_start  \\\n",
       "0            282  11108746            4013410901 2022-10-12 15:05:36   \n",
       "1            282  11108747            4013410901 2022-10-12 14:57:24   \n",
       "2            282  11108748            4013410901 2022-10-12 14:49:23   \n",
       "3            282  11108749            4013410901 2022-10-12 14:45:02   \n",
       "4            282  11108750            4013410901 2022-10-12 14:36:35   \n",
       "\n",
       "             trip_end  num_segments_with_vp  total_segments  pct_vp_segments  \\\n",
       "0 2022-10-12 15:47:45                     9              10             0.90   \n",
       "1 2022-10-12 15:41:44                     9              10             0.90   \n",
       "2 2022-10-12 15:31:16                    10              10             1.00   \n",
       "3 2022-10-12 15:27:16                    10              10             1.00   \n",
       "4 2022-10-12 15:23:40                     9              10             0.90   \n",
       "\n",
       "   trip_time  total_trips  \n",
       "0         42         8578  \n",
       "1         44         8578  \n",
       "2         41         8578  \n",
       "3         42         8578  \n",
       "4         47         8578  "
      ]
     },
     "execution_count": 29,
     "metadata": {},
     "output_type": "execute_result"
    }
   ],
   "source": [
    "operator_282_trips.head()"
   ]
  },
  {
   "cell_type": "code",
   "execution_count": 30,
   "id": "f8981af1-1c17-4057-affa-916ad6dcb619",
   "metadata": {},
   "outputs": [],
   "source": [
    "def summary_valid_trips_by_cutoff(df, time_cutoffs: list, segment_cutoffs: list):\n",
    "\n",
    "    final = pd.DataFrame()\n",
    "\n",
    "    for t in time_cutoffs:\n",
    "        for s in segment_cutoffs:\n",
    "            valid = (\n",
    "                df[(df.trip_time >= t) & (df.pct_vp_segments >= s)]\n",
    "                .groupby([\"calitp_itp_id\", \"total_trips\"])\n",
    "                .trip_id.nunique()\n",
    "                .reset_index()\n",
    "                .rename(columns={\"trip_id\": \"n_trips\"})\n",
    "            )\n",
    "\n",
    "            valid = valid.assign(\n",
    "                trip_cutoff=t, segment_cutoff=s, cutoff=f\"{t}+ min & {s*100}%+ segments\"\n",
    "            )\n",
    "\n",
    "            final = pd.concat([final, valid], axis=0)\n",
    "\n",
    "    final = final.assign(pct_usable_trips=final.n_trips.divide(final.total_trips))\n",
    "\n",
    "    return final"
   ]
  },
  {
   "cell_type": "code",
   "execution_count": 31,
   "id": "33c1fc4d-fab4-4c1f-8434-4672bfa7cf87",
   "metadata": {},
   "outputs": [],
   "source": [
    "TIME_CUTOFFS = [5, 10, 15]\n",
    "SEGMENT_CUTOFFS = [0.1, 0.2, 0.25, 0.3, 0.4, 0.5, 0.6, 0.7, 0.75]"
   ]
  },
  {
   "cell_type": "code",
   "execution_count": 32,
   "id": "0b7a8152-29c1-4ff5-9091-eab753bc6671",
   "metadata": {},
   "outputs": [],
   "source": [
    "valid_stats = summary_valid_trips_by_cutoff(\n",
    "    all_operators, TIME_CUTOFFS, SEGMENT_CUTOFFS\n",
    ")"
   ]
  },
  {
   "cell_type": "code",
   "execution_count": 33,
   "id": "59403a70-8830-45a9-b02e-5d5b02a81b8f",
   "metadata": {},
   "outputs": [
    {
     "data": {
      "text/plain": [
       "Index(['calitp_itp_id', 'total_trips', 'n_trips', 'trip_cutoff',\n",
       "       'segment_cutoff', 'cutoff', 'pct_usable_trips'],\n",
       "      dtype='object')"
      ]
     },
     "execution_count": 33,
     "metadata": {},
     "output_type": "execute_result"
    }
   ],
   "source": [
    "valid_stats.columns"
   ]
  },
  {
   "cell_type": "code",
   "execution_count": 34,
   "id": "d221ec66-e13e-4b12-b521-48feeede34a4",
   "metadata": {},
   "outputs": [],
   "source": [
    "def operator_tripchart(df, chart_title:str):\n",
    "    # Create drop down menu 1\n",
    "    input_dropdown = alt.binding_select(options=df.calitp_itp_id.unique().tolist(), name='Operator')\n",
    "    selection1 = alt.selection_single(fields=['calitp_itp_id'], bind=input_dropdown)\n",
    "    \n",
    "    # Dropdown menu 1\n",
    "    seg_dropdown = alt.binding_select(options=df.segment_cutoff.unique().tolist(), name='Segment')\n",
    "    selection2 = alt.selection_single(fields=['segment_cutoff'], bind=seg_dropdown)\n",
    "    \n",
    "    # Dropdown 2 \n",
    "    triptime_dropdown = alt.binding_select(options=df.trip_cutoff.unique().tolist(), name='Time')\n",
    "    selection3 = alt.selection_single(fields=['trip_cutoff'], bind=triptime_dropdown)\n",
    "    \n",
    "    chart = (\n",
    "        alt.Chart(df)\n",
    "        .mark_bar()\n",
    "        .encode(\n",
    "            x='pct_usable_trips:Q',\n",
    "            y='cutoff:N',\n",
    "            color=alt.Color(\n",
    "                'pct_usable_trips'\n",
    "            ),\n",
    "            tooltip=[\"cutoff\", \"calitp_itp_id\",\"pct_usable_trips\", \"n_trips\"],\n",
    "        )\n",
    "        .properties(title=chart_title)\n",
    "        .add_selection(selection1)\n",
    "        .transform_filter(selection1)\n",
    "    )\n",
    "    \n",
    "    chart = chart.add_selection(selection2).transform_filter(selection2)\n",
    "    chart = chart.add_selection(selection3).transform_filter(selection3)\n",
    "    return chart"
   ]
  },
  {
   "cell_type": "code",
   "execution_count": 35,
   "id": "535efa94-9037-4e54-b7dd-486a68641f88",
   "metadata": {},
   "outputs": [],
   "source": [
    "chart1 = operator_tripchart(valid_stats, '% Usable Trips by Operator')"
   ]
  },
  {
   "cell_type": "code",
   "execution_count": 36,
   "id": "0ef75601-ace9-45fb-8f51-85cea4832c16",
   "metadata": {},
   "outputs": [
    {
     "data": {
      "text/html": [
       "\n",
       "<div id=\"altair-viz-da24dad9d6b24629b96e3763a59ec534\"></div>\n",
       "<script type=\"text/javascript\">\n",
       "  var VEGA_DEBUG = (typeof VEGA_DEBUG == \"undefined\") ? {} : VEGA_DEBUG;\n",
       "  (function(spec, embedOpt){\n",
       "    let outputDiv = document.currentScript.previousElementSibling;\n",
       "    if (outputDiv.id !== \"altair-viz-da24dad9d6b24629b96e3763a59ec534\") {\n",
       "      outputDiv = document.getElementById(\"altair-viz-da24dad9d6b24629b96e3763a59ec534\");\n",
       "    }\n",
       "    const paths = {\n",
       "      \"vega\": \"https://cdn.jsdelivr.net/npm//vega@5?noext\",\n",
       "      \"vega-lib\": \"https://cdn.jsdelivr.net/npm//vega-lib?noext\",\n",
       "      \"vega-lite\": \"https://cdn.jsdelivr.net/npm//vega-lite@4.17.0?noext\",\n",
       "      \"vega-embed\": \"https://cdn.jsdelivr.net/npm//vega-embed@6?noext\",\n",
       "    };\n",
       "\n",
       "    function maybeLoadScript(lib, version) {\n",
       "      var key = `${lib.replace(\"-\", \"\")}_version`;\n",
       "      return (VEGA_DEBUG[key] == version) ?\n",
       "        Promise.resolve(paths[lib]) :\n",
       "        new Promise(function(resolve, reject) {\n",
       "          var s = document.createElement('script');\n",
       "          document.getElementsByTagName(\"head\")[0].appendChild(s);\n",
       "          s.async = true;\n",
       "          s.onload = () => {\n",
       "            VEGA_DEBUG[key] = version;\n",
       "            return resolve(paths[lib]);\n",
       "          };\n",
       "          s.onerror = () => reject(`Error loading script: ${paths[lib]}`);\n",
       "          s.src = paths[lib];\n",
       "        });\n",
       "    }\n",
       "\n",
       "    function showError(err) {\n",
       "      outputDiv.innerHTML = `<div class=\"error\" style=\"color:red;\">${err}</div>`;\n",
       "      throw err;\n",
       "    }\n",
       "\n",
       "    function displayChart(vegaEmbed) {\n",
       "      vegaEmbed(outputDiv, spec, embedOpt)\n",
       "        .catch(err => showError(`Javascript Error: ${err.message}<br>This usually means there's a typo in your chart specification. See the javascript console for the full traceback.`));\n",
       "    }\n",
       "\n",
       "    if(typeof define === \"function\" && define.amd) {\n",
       "      requirejs.config({paths});\n",
       "      require([\"vega-embed\"], displayChart, err => showError(`Error loading script: ${err.message}`));\n",
       "    } else {\n",
       "      maybeLoadScript(\"vega\", \"5\")\n",
       "        .then(() => maybeLoadScript(\"vega-lite\", \"4.17.0\"))\n",
       "        .then(() => maybeLoadScript(\"vega-embed\", \"6\"))\n",
       "        .catch(showError)\n",
       "        .then(() => displayChart(vegaEmbed));\n",
       "    }\n",
       "  })({\"config\": {\"view\": {\"continuousWidth\": 400, \"continuousHeight\": 300}}, \"data\": {\"name\": \"data-6128377eaee29b040115dc5a1cd2266f\"}, \"mark\": \"bar\", \"encoding\": {\"color\": {\"field\": \"pct_usable_trips\", \"type\": \"quantitative\"}, \"tooltip\": [{\"field\": \"cutoff\", \"type\": \"nominal\"}, {\"field\": \"calitp_itp_id\", \"type\": \"quantitative\"}, {\"field\": \"pct_usable_trips\", \"type\": \"quantitative\"}, {\"field\": \"n_trips\", \"type\": \"quantitative\"}], \"x\": {\"field\": \"pct_usable_trips\", \"type\": \"quantitative\"}, \"y\": {\"field\": \"cutoff\", \"type\": \"nominal\"}}, \"selection\": {\"selector002\": {\"type\": \"single\", \"fields\": [\"calitp_itp_id\"], \"bind\": {\"input\": \"select\", \"options\": [4, 30, 45, 75, 110, 126, 127, 135, 148, 159, 167, 182, 188, 194, 218, 221, 226, 235, 243, 246, 247, 259, 269, 273, 282, 284, 290, 293, 294, 295, 300, 301, 310, 314, 315, 336, 349, 350, 361, 372], \"name\": \"Operator\"}}, \"selector003\": {\"type\": \"single\", \"fields\": [\"segment_cutoff\"], \"bind\": {\"input\": \"select\", \"options\": [0.1, 0.2, 0.25, 0.3, 0.4, 0.5, 0.6, 0.7, 0.75], \"name\": \"Segment\"}}, \"selector004\": {\"type\": \"single\", \"fields\": [\"trip_cutoff\"], \"bind\": {\"input\": \"select\", \"options\": [5, 10, 15], \"name\": \"Time\"}}}, \"title\": \"% Usable Trips by Operator\", \"transform\": [{\"filter\": {\"selection\": \"selector002\"}}, {\"filter\": {\"selection\": \"selector003\"}}, {\"filter\": {\"selection\": \"selector004\"}}], \"$schema\": \"https://vega.github.io/schema/vega-lite/v4.17.0.json\", \"datasets\": {\"data-6128377eaee29b040115dc5a1cd2266f\": [{\"calitp_itp_id\": 4, \"total_trips\": 5206, \"n_trips\": 5190, \"trip_cutoff\": 5, \"segment_cutoff\": 0.1, \"cutoff\": \"5+ min & 10.0%+ segments\", \"pct_usable_trips\": 0.996926623127161}, {\"calitp_itp_id\": 30, \"total_trips\": 44, \"n_trips\": 44, \"trip_cutoff\": 5, \"segment_cutoff\": 0.1, \"cutoff\": \"5+ min & 10.0%+ segments\", \"pct_usable_trips\": 1.0}, {\"calitp_itp_id\": 45, \"total_trips\": 91, \"n_trips\": 90, \"trip_cutoff\": 5, \"segment_cutoff\": 0.1, \"cutoff\": \"5+ min & 10.0%+ segments\", \"pct_usable_trips\": 0.989010989010989}, {\"calitp_itp_id\": 75, \"total_trips\": 112, \"n_trips\": 110, \"trip_cutoff\": 5, \"segment_cutoff\": 0.1, \"cutoff\": \"5+ min & 10.0%+ segments\", \"pct_usable_trips\": 0.9821428571428571}, {\"calitp_itp_id\": 110, \"total_trips\": 278, \"n_trips\": 278, \"trip_cutoff\": 5, \"segment_cutoff\": 0.1, \"cutoff\": \"5+ min & 10.0%+ segments\", \"pct_usable_trips\": 1.0}, {\"calitp_itp_id\": 126, \"total_trips\": 566, \"n_trips\": 566, \"trip_cutoff\": 5, \"segment_cutoff\": 0.1, \"cutoff\": \"5+ min & 10.0%+ segments\", \"pct_usable_trips\": 1.0}, {\"calitp_itp_id\": 127, \"total_trips\": 203, \"n_trips\": 203, \"trip_cutoff\": 5, \"segment_cutoff\": 0.1, \"cutoff\": \"5+ min & 10.0%+ segments\", \"pct_usable_trips\": 1.0}, {\"calitp_itp_id\": 135, \"total_trips\": 115, \"n_trips\": 106, \"trip_cutoff\": 5, \"segment_cutoff\": 0.1, \"cutoff\": \"5+ min & 10.0%+ segments\", \"pct_usable_trips\": 0.9217391304347826}, {\"calitp_itp_id\": 148, \"total_trips\": 232, \"n_trips\": 232, \"trip_cutoff\": 5, \"segment_cutoff\": 0.1, \"cutoff\": \"5+ min & 10.0%+ segments\", \"pct_usable_trips\": 1.0}, {\"calitp_itp_id\": 159, \"total_trips\": 73, \"n_trips\": 64, \"trip_cutoff\": 5, \"segment_cutoff\": 0.1, \"cutoff\": \"5+ min & 10.0%+ segments\", \"pct_usable_trips\": 0.8767123287671232}, {\"calitp_itp_id\": 167, \"total_trips\": 405, \"n_trips\": 404, \"trip_cutoff\": 5, \"segment_cutoff\": 0.1, \"cutoff\": \"5+ min & 10.0%+ segments\", \"pct_usable_trips\": 0.9975308641975309}, {\"calitp_itp_id\": 182, \"total_trips\": 13858, \"n_trips\": 13697, \"trip_cutoff\": 5, \"segment_cutoff\": 0.1, \"cutoff\": \"5+ min & 10.0%+ segments\", \"pct_usable_trips\": 0.9883821619281281}, {\"calitp_itp_id\": 188, \"total_trips\": 20, \"n_trips\": 20, \"trip_cutoff\": 5, \"segment_cutoff\": 0.1, \"cutoff\": \"5+ min & 10.0%+ segments\", \"pct_usable_trips\": 1.0}, {\"calitp_itp_id\": 194, \"total_trips\": 584, \"n_trips\": 576, \"trip_cutoff\": 5, \"segment_cutoff\": 0.1, \"cutoff\": \"5+ min & 10.0%+ segments\", \"pct_usable_trips\": 0.9863013698630136}, {\"calitp_itp_id\": 218, \"total_trips\": 149, \"n_trips\": 138, \"trip_cutoff\": 5, \"segment_cutoff\": 0.1, \"cutoff\": \"5+ min & 10.0%+ segments\", \"pct_usable_trips\": 0.9261744966442953}, {\"calitp_itp_id\": 221, \"total_trips\": 104, \"n_trips\": 96, \"trip_cutoff\": 5, \"segment_cutoff\": 0.1, \"cutoff\": \"5+ min & 10.0%+ segments\", \"pct_usable_trips\": 0.9230769230769231}, {\"calitp_itp_id\": 226, \"total_trips\": 1293, \"n_trips\": 1292, \"trip_cutoff\": 5, \"segment_cutoff\": 0.1, \"cutoff\": \"5+ min & 10.0%+ segments\", \"pct_usable_trips\": 0.9992266047950503}, {\"calitp_itp_id\": 235, \"total_trips\": 3175, \"n_trips\": 3171, \"trip_cutoff\": 5, \"segment_cutoff\": 0.1, \"cutoff\": \"5+ min & 10.0%+ segments\", \"pct_usable_trips\": 0.998740157480315}, {\"calitp_itp_id\": 243, \"total_trips\": 315, \"n_trips\": 314, \"trip_cutoff\": 5, \"segment_cutoff\": 0.1, \"cutoff\": \"5+ min & 10.0%+ segments\", \"pct_usable_trips\": 0.9968253968253968}, {\"calitp_itp_id\": 246, \"total_trips\": 79, \"n_trips\": 78, \"trip_cutoff\": 5, \"segment_cutoff\": 0.1, \"cutoff\": \"5+ min & 10.0%+ segments\", \"pct_usable_trips\": 0.9873417721518988}, {\"calitp_itp_id\": 247, \"total_trips\": 186, \"n_trips\": 160, \"trip_cutoff\": 5, \"segment_cutoff\": 0.1, \"cutoff\": \"5+ min & 10.0%+ segments\", \"pct_usable_trips\": 0.8602150537634409}, {\"calitp_itp_id\": 259, \"total_trips\": 253, \"n_trips\": 253, \"trip_cutoff\": 5, \"segment_cutoff\": 0.1, \"cutoff\": \"5+ min & 10.0%+ segments\", \"pct_usable_trips\": 1.0}, {\"calitp_itp_id\": 269, \"total_trips\": 1097, \"n_trips\": 1094, \"trip_cutoff\": 5, \"segment_cutoff\": 0.1, \"cutoff\": \"5+ min & 10.0%+ segments\", \"pct_usable_trips\": 0.9972652689152234}, {\"calitp_itp_id\": 273, \"total_trips\": 1775, \"n_trips\": 1757, \"trip_cutoff\": 5, \"segment_cutoff\": 0.1, \"cutoff\": \"5+ min & 10.0%+ segments\", \"pct_usable_trips\": 0.9898591549295774}, {\"calitp_itp_id\": 282, \"total_trips\": 8578, \"n_trips\": 8438, \"trip_cutoff\": 5, \"segment_cutoff\": 0.1, \"cutoff\": \"5+ min & 10.0%+ segments\", \"pct_usable_trips\": 0.9836791792958731}, {\"calitp_itp_id\": 284, \"total_trips\": 852, \"n_trips\": 843, \"trip_cutoff\": 5, \"segment_cutoff\": 0.1, \"cutoff\": \"5+ min & 10.0%+ segments\", \"pct_usable_trips\": 0.9894366197183099}, {\"calitp_itp_id\": 290, \"total_trips\": 1372, \"n_trips\": 1361, \"trip_cutoff\": 5, \"segment_cutoff\": 0.1, \"cutoff\": \"5+ min & 10.0%+ segments\", \"pct_usable_trips\": 0.9919825072886297}, {\"calitp_itp_id\": 293, \"total_trips\": 940, \"n_trips\": 930, \"trip_cutoff\": 5, \"segment_cutoff\": 0.1, \"cutoff\": \"5+ min & 10.0%+ segments\", \"pct_usable_trips\": 0.9893617021276596}, {\"calitp_itp_id\": 294, \"total_trips\": 3512, \"n_trips\": 3450, \"trip_cutoff\": 5, \"segment_cutoff\": 0.1, \"cutoff\": \"5+ min & 10.0%+ segments\", \"pct_usable_trips\": 0.9823462414578588}, {\"calitp_itp_id\": 295, \"total_trips\": 416, \"n_trips\": 412, \"trip_cutoff\": 5, \"segment_cutoff\": 0.1, \"cutoff\": \"5+ min & 10.0%+ segments\", \"pct_usable_trips\": 0.9903846153846154}, {\"calitp_itp_id\": 300, \"total_trips\": 1338, \"n_trips\": 1327, \"trip_cutoff\": 5, \"segment_cutoff\": 0.1, \"cutoff\": \"5+ min & 10.0%+ segments\", \"pct_usable_trips\": 0.9917787742899851}, {\"calitp_itp_id\": 301, \"total_trips\": 517, \"n_trips\": 516, \"trip_cutoff\": 5, \"segment_cutoff\": 0.1, \"cutoff\": \"5+ min & 10.0%+ segments\", \"pct_usable_trips\": 0.9980657640232108}, {\"calitp_itp_id\": 310, \"total_trips\": 401, \"n_trips\": 394, \"trip_cutoff\": 5, \"segment_cutoff\": 0.1, \"cutoff\": \"5+ min & 10.0%+ segments\", \"pct_usable_trips\": 0.9825436408977556}, {\"calitp_itp_id\": 314, \"total_trips\": 166, \"n_trips\": 158, \"trip_cutoff\": 5, \"segment_cutoff\": 0.1, \"cutoff\": \"5+ min & 10.0%+ segments\", \"pct_usable_trips\": 0.9518072289156626}, {\"calitp_itp_id\": 315, \"total_trips\": 38, \"n_trips\": 38, \"trip_cutoff\": 5, \"segment_cutoff\": 0.1, \"cutoff\": \"5+ min & 10.0%+ segments\", \"pct_usable_trips\": 1.0}, {\"calitp_itp_id\": 336, \"total_trips\": 490, \"n_trips\": 486, \"trip_cutoff\": 5, \"segment_cutoff\": 0.1, \"cutoff\": \"5+ min & 10.0%+ segments\", \"pct_usable_trips\": 0.9918367346938776}, {\"calitp_itp_id\": 349, \"total_trips\": 270, \"n_trips\": 267, \"trip_cutoff\": 5, \"segment_cutoff\": 0.1, \"cutoff\": \"5+ min & 10.0%+ segments\", \"pct_usable_trips\": 0.9888888888888889}, {\"calitp_itp_id\": 350, \"total_trips\": 219, \"n_trips\": 216, \"trip_cutoff\": 5, \"segment_cutoff\": 0.1, \"cutoff\": \"5+ min & 10.0%+ segments\", \"pct_usable_trips\": 0.9863013698630136}, {\"calitp_itp_id\": 361, \"total_trips\": 525, \"n_trips\": 520, \"trip_cutoff\": 5, \"segment_cutoff\": 0.1, \"cutoff\": \"5+ min & 10.0%+ segments\", \"pct_usable_trips\": 0.9904761904761905}, {\"calitp_itp_id\": 372, \"total_trips\": 161, \"n_trips\": 156, \"trip_cutoff\": 5, \"segment_cutoff\": 0.1, \"cutoff\": \"5+ min & 10.0%+ segments\", \"pct_usable_trips\": 0.968944099378882}, {\"calitp_itp_id\": 4, \"total_trips\": 5206, \"n_trips\": 5179, \"trip_cutoff\": 5, \"segment_cutoff\": 0.2, \"cutoff\": \"5+ min & 20.0%+ segments\", \"pct_usable_trips\": 0.9948136765270841}, {\"calitp_itp_id\": 30, \"total_trips\": 44, \"n_trips\": 44, \"trip_cutoff\": 5, \"segment_cutoff\": 0.2, \"cutoff\": \"5+ min & 20.0%+ segments\", \"pct_usable_trips\": 1.0}, {\"calitp_itp_id\": 45, \"total_trips\": 91, \"n_trips\": 89, \"trip_cutoff\": 5, \"segment_cutoff\": 0.2, \"cutoff\": \"5+ min & 20.0%+ segments\", \"pct_usable_trips\": 0.978021978021978}, {\"calitp_itp_id\": 75, \"total_trips\": 112, \"n_trips\": 110, \"trip_cutoff\": 5, \"segment_cutoff\": 0.2, \"cutoff\": \"5+ min & 20.0%+ segments\", \"pct_usable_trips\": 0.9821428571428571}, {\"calitp_itp_id\": 110, \"total_trips\": 278, \"n_trips\": 278, \"trip_cutoff\": 5, \"segment_cutoff\": 0.2, \"cutoff\": \"5+ min & 20.0%+ segments\", \"pct_usable_trips\": 1.0}, {\"calitp_itp_id\": 126, \"total_trips\": 566, \"n_trips\": 566, \"trip_cutoff\": 5, \"segment_cutoff\": 0.2, \"cutoff\": \"5+ min & 20.0%+ segments\", \"pct_usable_trips\": 1.0}, {\"calitp_itp_id\": 127, \"total_trips\": 203, \"n_trips\": 203, \"trip_cutoff\": 5, \"segment_cutoff\": 0.2, \"cutoff\": \"5+ min & 20.0%+ segments\", \"pct_usable_trips\": 1.0}, {\"calitp_itp_id\": 135, \"total_trips\": 115, \"n_trips\": 106, \"trip_cutoff\": 5, \"segment_cutoff\": 0.2, \"cutoff\": \"5+ min & 20.0%+ segments\", \"pct_usable_trips\": 0.9217391304347826}, {\"calitp_itp_id\": 148, \"total_trips\": 232, \"n_trips\": 232, \"trip_cutoff\": 5, \"segment_cutoff\": 0.2, \"cutoff\": \"5+ min & 20.0%+ segments\", \"pct_usable_trips\": 1.0}, {\"calitp_itp_id\": 159, \"total_trips\": 73, \"n_trips\": 63, \"trip_cutoff\": 5, \"segment_cutoff\": 0.2, \"cutoff\": \"5+ min & 20.0%+ segments\", \"pct_usable_trips\": 0.863013698630137}, {\"calitp_itp_id\": 167, \"total_trips\": 405, \"n_trips\": 404, \"trip_cutoff\": 5, \"segment_cutoff\": 0.2, \"cutoff\": \"5+ min & 20.0%+ segments\", \"pct_usable_trips\": 0.9975308641975309}, {\"calitp_itp_id\": 182, \"total_trips\": 13858, \"n_trips\": 13405, \"trip_cutoff\": 5, \"segment_cutoff\": 0.2, \"cutoff\": \"5+ min & 20.0%+ segments\", \"pct_usable_trips\": 0.9673113003319382}, {\"calitp_itp_id\": 188, \"total_trips\": 20, \"n_trips\": 20, \"trip_cutoff\": 5, \"segment_cutoff\": 0.2, \"cutoff\": \"5+ min & 20.0%+ segments\", \"pct_usable_trips\": 1.0}, {\"calitp_itp_id\": 194, \"total_trips\": 584, \"n_trips\": 534, \"trip_cutoff\": 5, \"segment_cutoff\": 0.2, \"cutoff\": \"5+ min & 20.0%+ segments\", \"pct_usable_trips\": 0.9143835616438356}, {\"calitp_itp_id\": 218, \"total_trips\": 149, \"n_trips\": 134, \"trip_cutoff\": 5, \"segment_cutoff\": 0.2, \"cutoff\": \"5+ min & 20.0%+ segments\", \"pct_usable_trips\": 0.8993288590604027}, {\"calitp_itp_id\": 221, \"total_trips\": 104, \"n_trips\": 95, \"trip_cutoff\": 5, \"segment_cutoff\": 0.2, \"cutoff\": \"5+ min & 20.0%+ segments\", \"pct_usable_trips\": 0.9134615384615384}, {\"calitp_itp_id\": 226, \"total_trips\": 1293, \"n_trips\": 1292, \"trip_cutoff\": 5, \"segment_cutoff\": 0.2, \"cutoff\": \"5+ min & 20.0%+ segments\", \"pct_usable_trips\": 0.9992266047950503}, {\"calitp_itp_id\": 235, \"total_trips\": 3175, \"n_trips\": 3170, \"trip_cutoff\": 5, \"segment_cutoff\": 0.2, \"cutoff\": \"5+ min & 20.0%+ segments\", \"pct_usable_trips\": 0.9984251968503937}, {\"calitp_itp_id\": 243, \"total_trips\": 315, \"n_trips\": 314, \"trip_cutoff\": 5, \"segment_cutoff\": 0.2, \"cutoff\": \"5+ min & 20.0%+ segments\", \"pct_usable_trips\": 0.9968253968253968}, {\"calitp_itp_id\": 246, \"total_trips\": 79, \"n_trips\": 78, \"trip_cutoff\": 5, \"segment_cutoff\": 0.2, \"cutoff\": \"5+ min & 20.0%+ segments\", \"pct_usable_trips\": 0.9873417721518988}, {\"calitp_itp_id\": 247, \"total_trips\": 186, \"n_trips\": 158, \"trip_cutoff\": 5, \"segment_cutoff\": 0.2, \"cutoff\": \"5+ min & 20.0%+ segments\", \"pct_usable_trips\": 0.8494623655913979}, {\"calitp_itp_id\": 259, \"total_trips\": 253, \"n_trips\": 253, \"trip_cutoff\": 5, \"segment_cutoff\": 0.2, \"cutoff\": \"5+ min & 20.0%+ segments\", \"pct_usable_trips\": 1.0}, {\"calitp_itp_id\": 269, \"total_trips\": 1097, \"n_trips\": 1094, \"trip_cutoff\": 5, \"segment_cutoff\": 0.2, \"cutoff\": \"5+ min & 20.0%+ segments\", \"pct_usable_trips\": 0.9972652689152234}, {\"calitp_itp_id\": 273, \"total_trips\": 1775, \"n_trips\": 1753, \"trip_cutoff\": 5, \"segment_cutoff\": 0.2, \"cutoff\": \"5+ min & 20.0%+ segments\", \"pct_usable_trips\": 0.9876056338028169}, {\"calitp_itp_id\": 282, \"total_trips\": 8578, \"n_trips\": 8397, \"trip_cutoff\": 5, \"segment_cutoff\": 0.2, \"cutoff\": \"5+ min & 20.0%+ segments\", \"pct_usable_trips\": 0.9788995103753789}, {\"calitp_itp_id\": 284, \"total_trips\": 852, \"n_trips\": 842, \"trip_cutoff\": 5, \"segment_cutoff\": 0.2, \"cutoff\": \"5+ min & 20.0%+ segments\", \"pct_usable_trips\": 0.9882629107981221}, {\"calitp_itp_id\": 290, \"total_trips\": 1372, \"n_trips\": 1357, \"trip_cutoff\": 5, \"segment_cutoff\": 0.2, \"cutoff\": \"5+ min & 20.0%+ segments\", \"pct_usable_trips\": 0.989067055393586}, {\"calitp_itp_id\": 293, \"total_trips\": 940, \"n_trips\": 928, \"trip_cutoff\": 5, \"segment_cutoff\": 0.2, \"cutoff\": \"5+ min & 20.0%+ segments\", \"pct_usable_trips\": 0.9872340425531915}, {\"calitp_itp_id\": 294, \"total_trips\": 3512, \"n_trips\": 3441, \"trip_cutoff\": 5, \"segment_cutoff\": 0.2, \"cutoff\": \"5+ min & 20.0%+ segments\", \"pct_usable_trips\": 0.9797835990888383}, {\"calitp_itp_id\": 295, \"total_trips\": 416, \"n_trips\": 412, \"trip_cutoff\": 5, \"segment_cutoff\": 0.2, \"cutoff\": \"5+ min & 20.0%+ segments\", \"pct_usable_trips\": 0.9903846153846154}, {\"calitp_itp_id\": 300, \"total_trips\": 1338, \"n_trips\": 1317, \"trip_cutoff\": 5, \"segment_cutoff\": 0.2, \"cutoff\": \"5+ min & 20.0%+ segments\", \"pct_usable_trips\": 0.984304932735426}, {\"calitp_itp_id\": 301, \"total_trips\": 517, \"n_trips\": 516, \"trip_cutoff\": 5, \"segment_cutoff\": 0.2, \"cutoff\": \"5+ min & 20.0%+ segments\", \"pct_usable_trips\": 0.9980657640232108}, {\"calitp_itp_id\": 310, \"total_trips\": 401, \"n_trips\": 390, \"trip_cutoff\": 5, \"segment_cutoff\": 0.2, \"cutoff\": \"5+ min & 20.0%+ segments\", \"pct_usable_trips\": 0.972568578553616}, {\"calitp_itp_id\": 314, \"total_trips\": 166, \"n_trips\": 155, \"trip_cutoff\": 5, \"segment_cutoff\": 0.2, \"cutoff\": \"5+ min & 20.0%+ segments\", \"pct_usable_trips\": 0.9337349397590361}, {\"calitp_itp_id\": 315, \"total_trips\": 38, \"n_trips\": 38, \"trip_cutoff\": 5, \"segment_cutoff\": 0.2, \"cutoff\": \"5+ min & 20.0%+ segments\", \"pct_usable_trips\": 1.0}, {\"calitp_itp_id\": 336, \"total_trips\": 490, \"n_trips\": 485, \"trip_cutoff\": 5, \"segment_cutoff\": 0.2, \"cutoff\": \"5+ min & 20.0%+ segments\", \"pct_usable_trips\": 0.9897959183673469}, {\"calitp_itp_id\": 349, \"total_trips\": 270, \"n_trips\": 266, \"trip_cutoff\": 5, \"segment_cutoff\": 0.2, \"cutoff\": \"5+ min & 20.0%+ segments\", \"pct_usable_trips\": 0.9851851851851852}, {\"calitp_itp_id\": 350, \"total_trips\": 219, \"n_trips\": 216, \"trip_cutoff\": 5, \"segment_cutoff\": 0.2, \"cutoff\": \"5+ min & 20.0%+ segments\", \"pct_usable_trips\": 0.9863013698630136}, {\"calitp_itp_id\": 361, \"total_trips\": 525, \"n_trips\": 519, \"trip_cutoff\": 5, \"segment_cutoff\": 0.2, \"cutoff\": \"5+ min & 20.0%+ segments\", \"pct_usable_trips\": 0.9885714285714285}, {\"calitp_itp_id\": 372, \"total_trips\": 161, \"n_trips\": 152, \"trip_cutoff\": 5, \"segment_cutoff\": 0.2, \"cutoff\": \"5+ min & 20.0%+ segments\", \"pct_usable_trips\": 0.9440993788819876}, {\"calitp_itp_id\": 4, \"total_trips\": 5206, \"n_trips\": 5173, \"trip_cutoff\": 5, \"segment_cutoff\": 0.25, \"cutoff\": \"5+ min & 25.0%+ segments\", \"pct_usable_trips\": 0.9936611601997695}, {\"calitp_itp_id\": 30, \"total_trips\": 44, \"n_trips\": 43, \"trip_cutoff\": 5, \"segment_cutoff\": 0.25, \"cutoff\": \"5+ min & 25.0%+ segments\", \"pct_usable_trips\": 0.9772727272727273}, {\"calitp_itp_id\": 45, \"total_trips\": 91, \"n_trips\": 87, \"trip_cutoff\": 5, \"segment_cutoff\": 0.25, \"cutoff\": \"5+ min & 25.0%+ segments\", \"pct_usable_trips\": 0.9560439560439561}, {\"calitp_itp_id\": 75, \"total_trips\": 112, \"n_trips\": 110, \"trip_cutoff\": 5, \"segment_cutoff\": 0.25, \"cutoff\": \"5+ min & 25.0%+ segments\", \"pct_usable_trips\": 0.9821428571428571}, {\"calitp_itp_id\": 110, \"total_trips\": 278, \"n_trips\": 278, \"trip_cutoff\": 5, \"segment_cutoff\": 0.25, \"cutoff\": \"5+ min & 25.0%+ segments\", \"pct_usable_trips\": 1.0}, {\"calitp_itp_id\": 126, \"total_trips\": 566, \"n_trips\": 566, \"trip_cutoff\": 5, \"segment_cutoff\": 0.25, \"cutoff\": \"5+ min & 25.0%+ segments\", \"pct_usable_trips\": 1.0}, {\"calitp_itp_id\": 127, \"total_trips\": 203, \"n_trips\": 203, \"trip_cutoff\": 5, \"segment_cutoff\": 0.25, \"cutoff\": \"5+ min & 25.0%+ segments\", \"pct_usable_trips\": 1.0}, {\"calitp_itp_id\": 135, \"total_trips\": 115, \"n_trips\": 106, \"trip_cutoff\": 5, \"segment_cutoff\": 0.25, \"cutoff\": \"5+ min & 25.0%+ segments\", \"pct_usable_trips\": 0.9217391304347826}, {\"calitp_itp_id\": 148, \"total_trips\": 232, \"n_trips\": 232, \"trip_cutoff\": 5, \"segment_cutoff\": 0.25, \"cutoff\": \"5+ min & 25.0%+ segments\", \"pct_usable_trips\": 1.0}, {\"calitp_itp_id\": 159, \"total_trips\": 73, \"n_trips\": 63, \"trip_cutoff\": 5, \"segment_cutoff\": 0.25, \"cutoff\": \"5+ min & 25.0%+ segments\", \"pct_usable_trips\": 0.863013698630137}, {\"calitp_itp_id\": 167, \"total_trips\": 405, \"n_trips\": 403, \"trip_cutoff\": 5, \"segment_cutoff\": 0.25, \"cutoff\": \"5+ min & 25.0%+ segments\", \"pct_usable_trips\": 0.9950617283950617}, {\"calitp_itp_id\": 182, \"total_trips\": 13858, \"n_trips\": 13360, \"trip_cutoff\": 5, \"segment_cutoff\": 0.25, \"cutoff\": \"5+ min & 25.0%+ segments\", \"pct_usable_trips\": 0.9640640785106076}, {\"calitp_itp_id\": 188, \"total_trips\": 20, \"n_trips\": 20, \"trip_cutoff\": 5, \"segment_cutoff\": 0.25, \"cutoff\": \"5+ min & 25.0%+ segments\", \"pct_usable_trips\": 1.0}, {\"calitp_itp_id\": 194, \"total_trips\": 584, \"n_trips\": 533, \"trip_cutoff\": 5, \"segment_cutoff\": 0.25, \"cutoff\": \"5+ min & 25.0%+ segments\", \"pct_usable_trips\": 0.9126712328767124}, {\"calitp_itp_id\": 218, \"total_trips\": 149, \"n_trips\": 134, \"trip_cutoff\": 5, \"segment_cutoff\": 0.25, \"cutoff\": \"5+ min & 25.0%+ segments\", \"pct_usable_trips\": 0.8993288590604027}, {\"calitp_itp_id\": 221, \"total_trips\": 104, \"n_trips\": 95, \"trip_cutoff\": 5, \"segment_cutoff\": 0.25, \"cutoff\": \"5+ min & 25.0%+ segments\", \"pct_usable_trips\": 0.9134615384615384}, {\"calitp_itp_id\": 226, \"total_trips\": 1293, \"n_trips\": 1291, \"trip_cutoff\": 5, \"segment_cutoff\": 0.25, \"cutoff\": \"5+ min & 25.0%+ segments\", \"pct_usable_trips\": 0.9984532095901005}, {\"calitp_itp_id\": 235, \"total_trips\": 3175, \"n_trips\": 3169, \"trip_cutoff\": 5, \"segment_cutoff\": 0.25, \"cutoff\": \"5+ min & 25.0%+ segments\", \"pct_usable_trips\": 0.9981102362204725}, {\"calitp_itp_id\": 243, \"total_trips\": 315, \"n_trips\": 314, \"trip_cutoff\": 5, \"segment_cutoff\": 0.25, \"cutoff\": \"5+ min & 25.0%+ segments\", \"pct_usable_trips\": 0.9968253968253968}, {\"calitp_itp_id\": 246, \"total_trips\": 79, \"n_trips\": 78, \"trip_cutoff\": 5, \"segment_cutoff\": 0.25, \"cutoff\": \"5+ min & 25.0%+ segments\", \"pct_usable_trips\": 0.9873417721518988}, {\"calitp_itp_id\": 247, \"total_trips\": 186, \"n_trips\": 157, \"trip_cutoff\": 5, \"segment_cutoff\": 0.25, \"cutoff\": \"5+ min & 25.0%+ segments\", \"pct_usable_trips\": 0.8440860215053764}, {\"calitp_itp_id\": 259, \"total_trips\": 253, \"n_trips\": 253, \"trip_cutoff\": 5, \"segment_cutoff\": 0.25, \"cutoff\": \"5+ min & 25.0%+ segments\", \"pct_usable_trips\": 1.0}, {\"calitp_itp_id\": 269, \"total_trips\": 1097, \"n_trips\": 1093, \"trip_cutoff\": 5, \"segment_cutoff\": 0.25, \"cutoff\": \"5+ min & 25.0%+ segments\", \"pct_usable_trips\": 0.9963536918869644}, {\"calitp_itp_id\": 273, \"total_trips\": 1775, \"n_trips\": 1750, \"trip_cutoff\": 5, \"segment_cutoff\": 0.25, \"cutoff\": \"5+ min & 25.0%+ segments\", \"pct_usable_trips\": 0.9859154929577465}, {\"calitp_itp_id\": 282, \"total_trips\": 8578, \"n_trips\": 8335, \"trip_cutoff\": 5, \"segment_cutoff\": 0.25, \"cutoff\": \"5+ min & 25.0%+ segments\", \"pct_usable_trips\": 0.9716717183492656}, {\"calitp_itp_id\": 284, \"total_trips\": 852, \"n_trips\": 842, \"trip_cutoff\": 5, \"segment_cutoff\": 0.25, \"cutoff\": \"5+ min & 25.0%+ segments\", \"pct_usable_trips\": 0.9882629107981221}, {\"calitp_itp_id\": 290, \"total_trips\": 1372, \"n_trips\": 1356, \"trip_cutoff\": 5, \"segment_cutoff\": 0.25, \"cutoff\": \"5+ min & 25.0%+ segments\", \"pct_usable_trips\": 0.9883381924198251}, {\"calitp_itp_id\": 293, \"total_trips\": 940, \"n_trips\": 928, \"trip_cutoff\": 5, \"segment_cutoff\": 0.25, \"cutoff\": \"5+ min & 25.0%+ segments\", \"pct_usable_trips\": 0.9872340425531915}, {\"calitp_itp_id\": 294, \"total_trips\": 3512, \"n_trips\": 3437, \"trip_cutoff\": 5, \"segment_cutoff\": 0.25, \"cutoff\": \"5+ min & 25.0%+ segments\", \"pct_usable_trips\": 0.9786446469248291}, {\"calitp_itp_id\": 295, \"total_trips\": 416, \"n_trips\": 412, \"trip_cutoff\": 5, \"segment_cutoff\": 0.25, \"cutoff\": \"5+ min & 25.0%+ segments\", \"pct_usable_trips\": 0.9903846153846154}, {\"calitp_itp_id\": 300, \"total_trips\": 1338, \"n_trips\": 1314, \"trip_cutoff\": 5, \"segment_cutoff\": 0.25, \"cutoff\": \"5+ min & 25.0%+ segments\", \"pct_usable_trips\": 0.9820627802690582}, {\"calitp_itp_id\": 301, \"total_trips\": 517, \"n_trips\": 516, \"trip_cutoff\": 5, \"segment_cutoff\": 0.25, \"cutoff\": \"5+ min & 25.0%+ segments\", \"pct_usable_trips\": 0.9980657640232108}, {\"calitp_itp_id\": 310, \"total_trips\": 401, \"n_trips\": 390, \"trip_cutoff\": 5, \"segment_cutoff\": 0.25, \"cutoff\": \"5+ min & 25.0%+ segments\", \"pct_usable_trips\": 0.972568578553616}, {\"calitp_itp_id\": 314, \"total_trips\": 166, \"n_trips\": 152, \"trip_cutoff\": 5, \"segment_cutoff\": 0.25, \"cutoff\": \"5+ min & 25.0%+ segments\", \"pct_usable_trips\": 0.9156626506024096}, {\"calitp_itp_id\": 315, \"total_trips\": 38, \"n_trips\": 37, \"trip_cutoff\": 5, \"segment_cutoff\": 0.25, \"cutoff\": \"5+ min & 25.0%+ segments\", \"pct_usable_trips\": 0.9736842105263158}, {\"calitp_itp_id\": 336, \"total_trips\": 490, \"n_trips\": 485, \"trip_cutoff\": 5, \"segment_cutoff\": 0.25, \"cutoff\": \"5+ min & 25.0%+ segments\", \"pct_usable_trips\": 0.9897959183673469}, {\"calitp_itp_id\": 349, \"total_trips\": 270, \"n_trips\": 266, \"trip_cutoff\": 5, \"segment_cutoff\": 0.25, \"cutoff\": \"5+ min & 25.0%+ segments\", \"pct_usable_trips\": 0.9851851851851852}, {\"calitp_itp_id\": 350, \"total_trips\": 219, \"n_trips\": 216, \"trip_cutoff\": 5, \"segment_cutoff\": 0.25, \"cutoff\": \"5+ min & 25.0%+ segments\", \"pct_usable_trips\": 0.9863013698630136}, {\"calitp_itp_id\": 361, \"total_trips\": 525, \"n_trips\": 519, \"trip_cutoff\": 5, \"segment_cutoff\": 0.25, \"cutoff\": \"5+ min & 25.0%+ segments\", \"pct_usable_trips\": 0.9885714285714285}, {\"calitp_itp_id\": 372, \"total_trips\": 161, \"n_trips\": 149, \"trip_cutoff\": 5, \"segment_cutoff\": 0.25, \"cutoff\": \"5+ min & 25.0%+ segments\", \"pct_usable_trips\": 0.9254658385093167}, {\"calitp_itp_id\": 4, \"total_trips\": 5206, \"n_trips\": 5170, \"trip_cutoff\": 5, \"segment_cutoff\": 0.3, \"cutoff\": \"5+ min & 30.0%+ segments\", \"pct_usable_trips\": 0.9930849020361122}, {\"calitp_itp_id\": 30, \"total_trips\": 44, \"n_trips\": 43, \"trip_cutoff\": 5, \"segment_cutoff\": 0.3, \"cutoff\": \"5+ min & 30.0%+ segments\", \"pct_usable_trips\": 0.9772727272727273}, {\"calitp_itp_id\": 45, \"total_trips\": 91, \"n_trips\": 87, \"trip_cutoff\": 5, \"segment_cutoff\": 0.3, \"cutoff\": \"5+ min & 30.0%+ segments\", \"pct_usable_trips\": 0.9560439560439561}, {\"calitp_itp_id\": 75, \"total_trips\": 112, \"n_trips\": 110, \"trip_cutoff\": 5, \"segment_cutoff\": 0.3, \"cutoff\": \"5+ min & 30.0%+ segments\", \"pct_usable_trips\": 0.9821428571428571}, {\"calitp_itp_id\": 110, \"total_trips\": 278, \"n_trips\": 278, \"trip_cutoff\": 5, \"segment_cutoff\": 0.3, \"cutoff\": \"5+ min & 30.0%+ segments\", \"pct_usable_trips\": 1.0}, {\"calitp_itp_id\": 126, \"total_trips\": 566, \"n_trips\": 564, \"trip_cutoff\": 5, \"segment_cutoff\": 0.3, \"cutoff\": \"5+ min & 30.0%+ segments\", \"pct_usable_trips\": 0.9964664310954063}, {\"calitp_itp_id\": 127, \"total_trips\": 203, \"n_trips\": 202, \"trip_cutoff\": 5, \"segment_cutoff\": 0.3, \"cutoff\": \"5+ min & 30.0%+ segments\", \"pct_usable_trips\": 0.9950738916256158}, {\"calitp_itp_id\": 135, \"total_trips\": 115, \"n_trips\": 105, \"trip_cutoff\": 5, \"segment_cutoff\": 0.3, \"cutoff\": \"5+ min & 30.0%+ segments\", \"pct_usable_trips\": 0.9130434782608695}, {\"calitp_itp_id\": 148, \"total_trips\": 232, \"n_trips\": 232, \"trip_cutoff\": 5, \"segment_cutoff\": 0.3, \"cutoff\": \"5+ min & 30.0%+ segments\", \"pct_usable_trips\": 1.0}, {\"calitp_itp_id\": 159, \"total_trips\": 73, \"n_trips\": 63, \"trip_cutoff\": 5, \"segment_cutoff\": 0.3, \"cutoff\": \"5+ min & 30.0%+ segments\", \"pct_usable_trips\": 0.863013698630137}, {\"calitp_itp_id\": 167, \"total_trips\": 405, \"n_trips\": 401, \"trip_cutoff\": 5, \"segment_cutoff\": 0.3, \"cutoff\": \"5+ min & 30.0%+ segments\", \"pct_usable_trips\": 0.9901234567901235}, {\"calitp_itp_id\": 182, \"total_trips\": 13858, \"n_trips\": 13312, \"trip_cutoff\": 5, \"segment_cutoff\": 0.3, \"cutoff\": \"5+ min & 30.0%+ segments\", \"pct_usable_trips\": 0.9606003752345216}, {\"calitp_itp_id\": 188, \"total_trips\": 20, \"n_trips\": 20, \"trip_cutoff\": 5, \"segment_cutoff\": 0.3, \"cutoff\": \"5+ min & 30.0%+ segments\", \"pct_usable_trips\": 1.0}, {\"calitp_itp_id\": 194, \"total_trips\": 584, \"n_trips\": 529, \"trip_cutoff\": 5, \"segment_cutoff\": 0.3, \"cutoff\": \"5+ min & 30.0%+ segments\", \"pct_usable_trips\": 0.9058219178082192}, {\"calitp_itp_id\": 218, \"total_trips\": 149, \"n_trips\": 134, \"trip_cutoff\": 5, \"segment_cutoff\": 0.3, \"cutoff\": \"5+ min & 30.0%+ segments\", \"pct_usable_trips\": 0.8993288590604027}, {\"calitp_itp_id\": 221, \"total_trips\": 104, \"n_trips\": 95, \"trip_cutoff\": 5, \"segment_cutoff\": 0.3, \"cutoff\": \"5+ min & 30.0%+ segments\", \"pct_usable_trips\": 0.9134615384615384}, {\"calitp_itp_id\": 226, \"total_trips\": 1293, \"n_trips\": 1291, \"trip_cutoff\": 5, \"segment_cutoff\": 0.3, \"cutoff\": \"5+ min & 30.0%+ segments\", \"pct_usable_trips\": 0.9984532095901005}, {\"calitp_itp_id\": 235, \"total_trips\": 3175, \"n_trips\": 3163, \"trip_cutoff\": 5, \"segment_cutoff\": 0.3, \"cutoff\": \"5+ min & 30.0%+ segments\", \"pct_usable_trips\": 0.9962204724409449}, {\"calitp_itp_id\": 243, \"total_trips\": 315, \"n_trips\": 312, \"trip_cutoff\": 5, \"segment_cutoff\": 0.3, \"cutoff\": \"5+ min & 30.0%+ segments\", \"pct_usable_trips\": 0.9904761904761905}, {\"calitp_itp_id\": 246, \"total_trips\": 79, \"n_trips\": 78, \"trip_cutoff\": 5, \"segment_cutoff\": 0.3, \"cutoff\": \"5+ min & 30.0%+ segments\", \"pct_usable_trips\": 0.9873417721518988}, {\"calitp_itp_id\": 247, \"total_trips\": 186, \"n_trips\": 157, \"trip_cutoff\": 5, \"segment_cutoff\": 0.3, \"cutoff\": \"5+ min & 30.0%+ segments\", \"pct_usable_trips\": 0.8440860215053764}, {\"calitp_itp_id\": 259, \"total_trips\": 253, \"n_trips\": 253, \"trip_cutoff\": 5, \"segment_cutoff\": 0.3, \"cutoff\": \"5+ min & 30.0%+ segments\", \"pct_usable_trips\": 1.0}, {\"calitp_itp_id\": 269, \"total_trips\": 1097, \"n_trips\": 1091, \"trip_cutoff\": 5, \"segment_cutoff\": 0.3, \"cutoff\": \"5+ min & 30.0%+ segments\", \"pct_usable_trips\": 0.9945305378304466}, {\"calitp_itp_id\": 273, \"total_trips\": 1775, \"n_trips\": 1746, \"trip_cutoff\": 5, \"segment_cutoff\": 0.3, \"cutoff\": \"5+ min & 30.0%+ segments\", \"pct_usable_trips\": 0.9836619718309859}, {\"calitp_itp_id\": 282, \"total_trips\": 8578, \"n_trips\": 8299, \"trip_cutoff\": 5, \"segment_cutoff\": 0.3, \"cutoff\": \"5+ min & 30.0%+ segments\", \"pct_usable_trips\": 0.9674749358824901}, {\"calitp_itp_id\": 284, \"total_trips\": 852, \"n_trips\": 840, \"trip_cutoff\": 5, \"segment_cutoff\": 0.3, \"cutoff\": \"5+ min & 30.0%+ segments\", \"pct_usable_trips\": 0.9859154929577465}, {\"calitp_itp_id\": 290, \"total_trips\": 1372, \"n_trips\": 1355, \"trip_cutoff\": 5, \"segment_cutoff\": 0.3, \"cutoff\": \"5+ min & 30.0%+ segments\", \"pct_usable_trips\": 0.9876093294460642}, {\"calitp_itp_id\": 293, \"total_trips\": 940, \"n_trips\": 927, \"trip_cutoff\": 5, \"segment_cutoff\": 0.3, \"cutoff\": \"5+ min & 30.0%+ segments\", \"pct_usable_trips\": 0.9861702127659574}, {\"calitp_itp_id\": 294, \"total_trips\": 3512, \"n_trips\": 3432, \"trip_cutoff\": 5, \"segment_cutoff\": 0.3, \"cutoff\": \"5+ min & 30.0%+ segments\", \"pct_usable_trips\": 0.9772209567198178}, {\"calitp_itp_id\": 295, \"total_trips\": 416, \"n_trips\": 411, \"trip_cutoff\": 5, \"segment_cutoff\": 0.3, \"cutoff\": \"5+ min & 30.0%+ segments\", \"pct_usable_trips\": 0.9879807692307693}, {\"calitp_itp_id\": 300, \"total_trips\": 1338, \"n_trips\": 1310, \"trip_cutoff\": 5, \"segment_cutoff\": 0.3, \"cutoff\": \"5+ min & 30.0%+ segments\", \"pct_usable_trips\": 0.9790732436472347}, {\"calitp_itp_id\": 301, \"total_trips\": 517, \"n_trips\": 516, \"trip_cutoff\": 5, \"segment_cutoff\": 0.3, \"cutoff\": \"5+ min & 30.0%+ segments\", \"pct_usable_trips\": 0.9980657640232108}, {\"calitp_itp_id\": 310, \"total_trips\": 401, \"n_trips\": 389, \"trip_cutoff\": 5, \"segment_cutoff\": 0.3, \"cutoff\": \"5+ min & 30.0%+ segments\", \"pct_usable_trips\": 0.970074812967581}, {\"calitp_itp_id\": 314, \"total_trips\": 166, \"n_trips\": 151, \"trip_cutoff\": 5, \"segment_cutoff\": 0.3, \"cutoff\": \"5+ min & 30.0%+ segments\", \"pct_usable_trips\": 0.9096385542168675}, {\"calitp_itp_id\": 315, \"total_trips\": 38, \"n_trips\": 37, \"trip_cutoff\": 5, \"segment_cutoff\": 0.3, \"cutoff\": \"5+ min & 30.0%+ segments\", \"pct_usable_trips\": 0.9736842105263158}, {\"calitp_itp_id\": 336, \"total_trips\": 490, \"n_trips\": 485, \"trip_cutoff\": 5, \"segment_cutoff\": 0.3, \"cutoff\": \"5+ min & 30.0%+ segments\", \"pct_usable_trips\": 0.9897959183673469}, {\"calitp_itp_id\": 349, \"total_trips\": 270, \"n_trips\": 266, \"trip_cutoff\": 5, \"segment_cutoff\": 0.3, \"cutoff\": \"5+ min & 30.0%+ segments\", \"pct_usable_trips\": 0.9851851851851852}, {\"calitp_itp_id\": 350, \"total_trips\": 219, \"n_trips\": 216, \"trip_cutoff\": 5, \"segment_cutoff\": 0.3, \"cutoff\": \"5+ min & 30.0%+ segments\", \"pct_usable_trips\": 0.9863013698630136}, {\"calitp_itp_id\": 361, \"total_trips\": 525, \"n_trips\": 518, \"trip_cutoff\": 5, \"segment_cutoff\": 0.3, \"cutoff\": \"5+ min & 30.0%+ segments\", \"pct_usable_trips\": 0.9866666666666667}, {\"calitp_itp_id\": 372, \"total_trips\": 161, \"n_trips\": 149, \"trip_cutoff\": 5, \"segment_cutoff\": 0.3, \"cutoff\": \"5+ min & 30.0%+ segments\", \"pct_usable_trips\": 0.9254658385093167}, {\"calitp_itp_id\": 4, \"total_trips\": 5206, \"n_trips\": 5148, \"trip_cutoff\": 5, \"segment_cutoff\": 0.4, \"cutoff\": \"5+ min & 40.0%+ segments\", \"pct_usable_trips\": 0.9888590088359586}, {\"calitp_itp_id\": 30, \"total_trips\": 44, \"n_trips\": 40, \"trip_cutoff\": 5, \"segment_cutoff\": 0.4, \"cutoff\": \"5+ min & 40.0%+ segments\", \"pct_usable_trips\": 0.9090909090909091}, {\"calitp_itp_id\": 45, \"total_trips\": 91, \"n_trips\": 87, \"trip_cutoff\": 5, \"segment_cutoff\": 0.4, \"cutoff\": \"5+ min & 40.0%+ segments\", \"pct_usable_trips\": 0.9560439560439561}, {\"calitp_itp_id\": 75, \"total_trips\": 112, \"n_trips\": 110, \"trip_cutoff\": 5, \"segment_cutoff\": 0.4, \"cutoff\": \"5+ min & 40.0%+ segments\", \"pct_usable_trips\": 0.9821428571428571}, {\"calitp_itp_id\": 110, \"total_trips\": 278, \"n_trips\": 278, \"trip_cutoff\": 5, \"segment_cutoff\": 0.4, \"cutoff\": \"5+ min & 40.0%+ segments\", \"pct_usable_trips\": 1.0}, {\"calitp_itp_id\": 126, \"total_trips\": 566, \"n_trips\": 563, \"trip_cutoff\": 5, \"segment_cutoff\": 0.4, \"cutoff\": \"5+ min & 40.0%+ segments\", \"pct_usable_trips\": 0.9946996466431095}, {\"calitp_itp_id\": 127, \"total_trips\": 203, \"n_trips\": 195, \"trip_cutoff\": 5, \"segment_cutoff\": 0.4, \"cutoff\": \"5+ min & 40.0%+ segments\", \"pct_usable_trips\": 0.9605911330049262}, {\"calitp_itp_id\": 135, \"total_trips\": 115, \"n_trips\": 102, \"trip_cutoff\": 5, \"segment_cutoff\": 0.4, \"cutoff\": \"5+ min & 40.0%+ segments\", \"pct_usable_trips\": 0.8869565217391304}, {\"calitp_itp_id\": 148, \"total_trips\": 232, \"n_trips\": 231, \"trip_cutoff\": 5, \"segment_cutoff\": 0.4, \"cutoff\": \"5+ min & 40.0%+ segments\", \"pct_usable_trips\": 0.9956896551724138}, {\"calitp_itp_id\": 159, \"total_trips\": 73, \"n_trips\": 62, \"trip_cutoff\": 5, \"segment_cutoff\": 0.4, \"cutoff\": \"5+ min & 40.0%+ segments\", \"pct_usable_trips\": 0.8493150684931506}, {\"calitp_itp_id\": 167, \"total_trips\": 405, \"n_trips\": 397, \"trip_cutoff\": 5, \"segment_cutoff\": 0.4, \"cutoff\": \"5+ min & 40.0%+ segments\", \"pct_usable_trips\": 0.980246913580247}, {\"calitp_itp_id\": 182, \"total_trips\": 13858, \"n_trips\": 13183, \"trip_cutoff\": 5, \"segment_cutoff\": 0.4, \"cutoff\": \"5+ min & 40.0%+ segments\", \"pct_usable_trips\": 0.9512916726800404}, {\"calitp_itp_id\": 188, \"total_trips\": 20, \"n_trips\": 20, \"trip_cutoff\": 5, \"segment_cutoff\": 0.4, \"cutoff\": \"5+ min & 40.0%+ segments\", \"pct_usable_trips\": 1.0}, {\"calitp_itp_id\": 194, \"total_trips\": 584, \"n_trips\": 498, \"trip_cutoff\": 5, \"segment_cutoff\": 0.4, \"cutoff\": \"5+ min & 40.0%+ segments\", \"pct_usable_trips\": 0.8527397260273972}, {\"calitp_itp_id\": 218, \"total_trips\": 149, \"n_trips\": 133, \"trip_cutoff\": 5, \"segment_cutoff\": 0.4, \"cutoff\": \"5+ min & 40.0%+ segments\", \"pct_usable_trips\": 0.8926174496644296}, {\"calitp_itp_id\": 221, \"total_trips\": 104, \"n_trips\": 92, \"trip_cutoff\": 5, \"segment_cutoff\": 0.4, \"cutoff\": \"5+ min & 40.0%+ segments\", \"pct_usable_trips\": 0.8846153846153846}, {\"calitp_itp_id\": 226, \"total_trips\": 1293, \"n_trips\": 1289, \"trip_cutoff\": 5, \"segment_cutoff\": 0.4, \"cutoff\": \"5+ min & 40.0%+ segments\", \"pct_usable_trips\": 0.9969064191802011}, {\"calitp_itp_id\": 235, \"total_trips\": 3175, \"n_trips\": 3160, \"trip_cutoff\": 5, \"segment_cutoff\": 0.4, \"cutoff\": \"5+ min & 40.0%+ segments\", \"pct_usable_trips\": 0.9952755905511811}, {\"calitp_itp_id\": 243, \"total_trips\": 315, \"n_trips\": 310, \"trip_cutoff\": 5, \"segment_cutoff\": 0.4, \"cutoff\": \"5+ min & 40.0%+ segments\", \"pct_usable_trips\": 0.9841269841269841}, {\"calitp_itp_id\": 246, \"total_trips\": 79, \"n_trips\": 78, \"trip_cutoff\": 5, \"segment_cutoff\": 0.4, \"cutoff\": \"5+ min & 40.0%+ segments\", \"pct_usable_trips\": 0.9873417721518988}, {\"calitp_itp_id\": 247, \"total_trips\": 186, \"n_trips\": 157, \"trip_cutoff\": 5, \"segment_cutoff\": 0.4, \"cutoff\": \"5+ min & 40.0%+ segments\", \"pct_usable_trips\": 0.8440860215053764}, {\"calitp_itp_id\": 259, \"total_trips\": 253, \"n_trips\": 253, \"trip_cutoff\": 5, \"segment_cutoff\": 0.4, \"cutoff\": \"5+ min & 40.0%+ segments\", \"pct_usable_trips\": 1.0}, {\"calitp_itp_id\": 269, \"total_trips\": 1097, \"n_trips\": 1089, \"trip_cutoff\": 5, \"segment_cutoff\": 0.4, \"cutoff\": \"5+ min & 40.0%+ segments\", \"pct_usable_trips\": 0.9927073837739289}, {\"calitp_itp_id\": 273, \"total_trips\": 1775, \"n_trips\": 1742, \"trip_cutoff\": 5, \"segment_cutoff\": 0.4, \"cutoff\": \"5+ min & 40.0%+ segments\", \"pct_usable_trips\": 0.9814084507042253}, {\"calitp_itp_id\": 282, \"total_trips\": 8578, \"n_trips\": 8220, \"trip_cutoff\": 5, \"segment_cutoff\": 0.4, \"cutoff\": \"5+ min & 40.0%+ segments\", \"pct_usable_trips\": 0.9582653299137328}, {\"calitp_itp_id\": 284, \"total_trips\": 852, \"n_trips\": 837, \"trip_cutoff\": 5, \"segment_cutoff\": 0.4, \"cutoff\": \"5+ min & 40.0%+ segments\", \"pct_usable_trips\": 0.9823943661971831}, {\"calitp_itp_id\": 290, \"total_trips\": 1372, \"n_trips\": 1350, \"trip_cutoff\": 5, \"segment_cutoff\": 0.4, \"cutoff\": \"5+ min & 40.0%+ segments\", \"pct_usable_trips\": 0.9839650145772595}, {\"calitp_itp_id\": 293, \"total_trips\": 940, \"n_trips\": 926, \"trip_cutoff\": 5, \"segment_cutoff\": 0.4, \"cutoff\": \"5+ min & 40.0%+ segments\", \"pct_usable_trips\": 0.9851063829787234}, {\"calitp_itp_id\": 294, \"total_trips\": 3512, \"n_trips\": 3422, \"trip_cutoff\": 5, \"segment_cutoff\": 0.4, \"cutoff\": \"5+ min & 40.0%+ segments\", \"pct_usable_trips\": 0.974373576309795}, {\"calitp_itp_id\": 295, \"total_trips\": 416, \"n_trips\": 407, \"trip_cutoff\": 5, \"segment_cutoff\": 0.4, \"cutoff\": \"5+ min & 40.0%+ segments\", \"pct_usable_trips\": 0.9783653846153846}, {\"calitp_itp_id\": 300, \"total_trips\": 1338, \"n_trips\": 1304, \"trip_cutoff\": 5, \"segment_cutoff\": 0.4, \"cutoff\": \"5+ min & 40.0%+ segments\", \"pct_usable_trips\": 0.9745889387144993}, {\"calitp_itp_id\": 301, \"total_trips\": 517, \"n_trips\": 516, \"trip_cutoff\": 5, \"segment_cutoff\": 0.4, \"cutoff\": \"5+ min & 40.0%+ segments\", \"pct_usable_trips\": 0.9980657640232108}, {\"calitp_itp_id\": 310, \"total_trips\": 401, \"n_trips\": 383, \"trip_cutoff\": 5, \"segment_cutoff\": 0.4, \"cutoff\": \"5+ min & 40.0%+ segments\", \"pct_usable_trips\": 0.9551122194513716}, {\"calitp_itp_id\": 314, \"total_trips\": 166, \"n_trips\": 148, \"trip_cutoff\": 5, \"segment_cutoff\": 0.4, \"cutoff\": \"5+ min & 40.0%+ segments\", \"pct_usable_trips\": 0.891566265060241}, {\"calitp_itp_id\": 315, \"total_trips\": 38, \"n_trips\": 37, \"trip_cutoff\": 5, \"segment_cutoff\": 0.4, \"cutoff\": \"5+ min & 40.0%+ segments\", \"pct_usable_trips\": 0.9736842105263158}, {\"calitp_itp_id\": 336, \"total_trips\": 490, \"n_trips\": 480, \"trip_cutoff\": 5, \"segment_cutoff\": 0.4, \"cutoff\": \"5+ min & 40.0%+ segments\", \"pct_usable_trips\": 0.9795918367346939}, {\"calitp_itp_id\": 349, \"total_trips\": 270, \"n_trips\": 266, \"trip_cutoff\": 5, \"segment_cutoff\": 0.4, \"cutoff\": \"5+ min & 40.0%+ segments\", \"pct_usable_trips\": 0.9851851851851852}, {\"calitp_itp_id\": 350, \"total_trips\": 219, \"n_trips\": 215, \"trip_cutoff\": 5, \"segment_cutoff\": 0.4, \"cutoff\": \"5+ min & 40.0%+ segments\", \"pct_usable_trips\": 0.9817351598173516}, {\"calitp_itp_id\": 361, \"total_trips\": 525, \"n_trips\": 517, \"trip_cutoff\": 5, \"segment_cutoff\": 0.4, \"cutoff\": \"5+ min & 40.0%+ segments\", \"pct_usable_trips\": 0.9847619047619047}, {\"calitp_itp_id\": 372, \"total_trips\": 161, \"n_trips\": 149, \"trip_cutoff\": 5, \"segment_cutoff\": 0.4, \"cutoff\": \"5+ min & 40.0%+ segments\", \"pct_usable_trips\": 0.9254658385093167}, {\"calitp_itp_id\": 4, \"total_trips\": 5206, \"n_trips\": 5127, \"trip_cutoff\": 5, \"segment_cutoff\": 0.5, \"cutoff\": \"5+ min & 50.0%+ segments\", \"pct_usable_trips\": 0.9848252016903573}, {\"calitp_itp_id\": 30, \"total_trips\": 44, \"n_trips\": 40, \"trip_cutoff\": 5, \"segment_cutoff\": 0.5, \"cutoff\": \"5+ min & 50.0%+ segments\", \"pct_usable_trips\": 0.9090909090909091}, {\"calitp_itp_id\": 45, \"total_trips\": 91, \"n_trips\": 87, \"trip_cutoff\": 5, \"segment_cutoff\": 0.5, \"cutoff\": \"5+ min & 50.0%+ segments\", \"pct_usable_trips\": 0.9560439560439561}, {\"calitp_itp_id\": 75, \"total_trips\": 112, \"n_trips\": 110, \"trip_cutoff\": 5, \"segment_cutoff\": 0.5, \"cutoff\": \"5+ min & 50.0%+ segments\", \"pct_usable_trips\": 0.9821428571428571}, {\"calitp_itp_id\": 110, \"total_trips\": 278, \"n_trips\": 265, \"trip_cutoff\": 5, \"segment_cutoff\": 0.5, \"cutoff\": \"5+ min & 50.0%+ segments\", \"pct_usable_trips\": 0.9532374100719424}, {\"calitp_itp_id\": 126, \"total_trips\": 566, \"n_trips\": 553, \"trip_cutoff\": 5, \"segment_cutoff\": 0.5, \"cutoff\": \"5+ min & 50.0%+ segments\", \"pct_usable_trips\": 0.9770318021201413}, {\"calitp_itp_id\": 127, \"total_trips\": 203, \"n_trips\": 195, \"trip_cutoff\": 5, \"segment_cutoff\": 0.5, \"cutoff\": \"5+ min & 50.0%+ segments\", \"pct_usable_trips\": 0.9605911330049262}, {\"calitp_itp_id\": 135, \"total_trips\": 115, \"n_trips\": 100, \"trip_cutoff\": 5, \"segment_cutoff\": 0.5, \"cutoff\": \"5+ min & 50.0%+ segments\", \"pct_usable_trips\": 0.8695652173913043}, {\"calitp_itp_id\": 148, \"total_trips\": 232, \"n_trips\": 231, \"trip_cutoff\": 5, \"segment_cutoff\": 0.5, \"cutoff\": \"5+ min & 50.0%+ segments\", \"pct_usable_trips\": 0.9956896551724138}, {\"calitp_itp_id\": 159, \"total_trips\": 73, \"n_trips\": 62, \"trip_cutoff\": 5, \"segment_cutoff\": 0.5, \"cutoff\": \"5+ min & 50.0%+ segments\", \"pct_usable_trips\": 0.8493150684931506}, {\"calitp_itp_id\": 167, \"total_trips\": 405, \"n_trips\": 394, \"trip_cutoff\": 5, \"segment_cutoff\": 0.5, \"cutoff\": \"5+ min & 50.0%+ segments\", \"pct_usable_trips\": 0.9728395061728395}, {\"calitp_itp_id\": 182, \"total_trips\": 13858, \"n_trips\": 12807, \"trip_cutoff\": 5, \"segment_cutoff\": 0.5, \"cutoff\": \"5+ min & 50.0%+ segments\", \"pct_usable_trips\": 0.9241593303507}, {\"calitp_itp_id\": 188, \"total_trips\": 20, \"n_trips\": 20, \"trip_cutoff\": 5, \"segment_cutoff\": 0.5, \"cutoff\": \"5+ min & 50.0%+ segments\", \"pct_usable_trips\": 1.0}, {\"calitp_itp_id\": 194, \"total_trips\": 584, \"n_trips\": 491, \"trip_cutoff\": 5, \"segment_cutoff\": 0.5, \"cutoff\": \"5+ min & 50.0%+ segments\", \"pct_usable_trips\": 0.8407534246575342}, {\"calitp_itp_id\": 218, \"total_trips\": 149, \"n_trips\": 131, \"trip_cutoff\": 5, \"segment_cutoff\": 0.5, \"cutoff\": \"5+ min & 50.0%+ segments\", \"pct_usable_trips\": 0.8791946308724832}, {\"calitp_itp_id\": 221, \"total_trips\": 104, \"n_trips\": 92, \"trip_cutoff\": 5, \"segment_cutoff\": 0.5, \"cutoff\": \"5+ min & 50.0%+ segments\", \"pct_usable_trips\": 0.8846153846153846}, {\"calitp_itp_id\": 226, \"total_trips\": 1293, \"n_trips\": 1283, \"trip_cutoff\": 5, \"segment_cutoff\": 0.5, \"cutoff\": \"5+ min & 50.0%+ segments\", \"pct_usable_trips\": 0.9922660479505027}, {\"calitp_itp_id\": 235, \"total_trips\": 3175, \"n_trips\": 3157, \"trip_cutoff\": 5, \"segment_cutoff\": 0.5, \"cutoff\": \"5+ min & 50.0%+ segments\", \"pct_usable_trips\": 0.9943307086614174}, {\"calitp_itp_id\": 243, \"total_trips\": 315, \"n_trips\": 309, \"trip_cutoff\": 5, \"segment_cutoff\": 0.5, \"cutoff\": \"5+ min & 50.0%+ segments\", \"pct_usable_trips\": 0.9809523809523809}, {\"calitp_itp_id\": 246, \"total_trips\": 79, \"n_trips\": 66, \"trip_cutoff\": 5, \"segment_cutoff\": 0.5, \"cutoff\": \"5+ min & 50.0%+ segments\", \"pct_usable_trips\": 0.8354430379746836}, {\"calitp_itp_id\": 247, \"total_trips\": 186, \"n_trips\": 154, \"trip_cutoff\": 5, \"segment_cutoff\": 0.5, \"cutoff\": \"5+ min & 50.0%+ segments\", \"pct_usable_trips\": 0.8279569892473119}, {\"calitp_itp_id\": 259, \"total_trips\": 253, \"n_trips\": 253, \"trip_cutoff\": 5, \"segment_cutoff\": 0.5, \"cutoff\": \"5+ min & 50.0%+ segments\", \"pct_usable_trips\": 1.0}, {\"calitp_itp_id\": 269, \"total_trips\": 1097, \"n_trips\": 1086, \"trip_cutoff\": 5, \"segment_cutoff\": 0.5, \"cutoff\": \"5+ min & 50.0%+ segments\", \"pct_usable_trips\": 0.9899726526891522}, {\"calitp_itp_id\": 273, \"total_trips\": 1775, \"n_trips\": 1734, \"trip_cutoff\": 5, \"segment_cutoff\": 0.5, \"cutoff\": \"5+ min & 50.0%+ segments\", \"pct_usable_trips\": 0.9769014084507043}, {\"calitp_itp_id\": 282, \"total_trips\": 8578, \"n_trips\": 8094, \"trip_cutoff\": 5, \"segment_cutoff\": 0.5, \"cutoff\": \"5+ min & 50.0%+ segments\", \"pct_usable_trips\": 0.9435765912800187}, {\"calitp_itp_id\": 284, \"total_trips\": 852, \"n_trips\": 833, \"trip_cutoff\": 5, \"segment_cutoff\": 0.5, \"cutoff\": \"5+ min & 50.0%+ segments\", \"pct_usable_trips\": 0.9776995305164319}, {\"calitp_itp_id\": 290, \"total_trips\": 1372, \"n_trips\": 1327, \"trip_cutoff\": 5, \"segment_cutoff\": 0.5, \"cutoff\": \"5+ min & 50.0%+ segments\", \"pct_usable_trips\": 0.967201166180758}, {\"calitp_itp_id\": 293, \"total_trips\": 940, \"n_trips\": 920, \"trip_cutoff\": 5, \"segment_cutoff\": 0.5, \"cutoff\": \"5+ min & 50.0%+ segments\", \"pct_usable_trips\": 0.9787234042553191}, {\"calitp_itp_id\": 294, \"total_trips\": 3512, \"n_trips\": 3403, \"trip_cutoff\": 5, \"segment_cutoff\": 0.5, \"cutoff\": \"5+ min & 50.0%+ segments\", \"pct_usable_trips\": 0.9689635535307517}, {\"calitp_itp_id\": 295, \"total_trips\": 416, \"n_trips\": 405, \"trip_cutoff\": 5, \"segment_cutoff\": 0.5, \"cutoff\": \"5+ min & 50.0%+ segments\", \"pct_usable_trips\": 0.9735576923076923}, {\"calitp_itp_id\": 300, \"total_trips\": 1338, \"n_trips\": 1295, \"trip_cutoff\": 5, \"segment_cutoff\": 0.5, \"cutoff\": \"5+ min & 50.0%+ segments\", \"pct_usable_trips\": 0.9678624813153961}, {\"calitp_itp_id\": 301, \"total_trips\": 517, \"n_trips\": 510, \"trip_cutoff\": 5, \"segment_cutoff\": 0.5, \"cutoff\": \"5+ min & 50.0%+ segments\", \"pct_usable_trips\": 0.9864603481624759}, {\"calitp_itp_id\": 310, \"total_trips\": 401, \"n_trips\": 355, \"trip_cutoff\": 5, \"segment_cutoff\": 0.5, \"cutoff\": \"5+ min & 50.0%+ segments\", \"pct_usable_trips\": 0.885286783042394}, {\"calitp_itp_id\": 314, \"total_trips\": 166, \"n_trips\": 141, \"trip_cutoff\": 5, \"segment_cutoff\": 0.5, \"cutoff\": \"5+ min & 50.0%+ segments\", \"pct_usable_trips\": 0.8493975903614458}, {\"calitp_itp_id\": 315, \"total_trips\": 38, \"n_trips\": 37, \"trip_cutoff\": 5, \"segment_cutoff\": 0.5, \"cutoff\": \"5+ min & 50.0%+ segments\", \"pct_usable_trips\": 0.9736842105263158}, {\"calitp_itp_id\": 336, \"total_trips\": 490, \"n_trips\": 476, \"trip_cutoff\": 5, \"segment_cutoff\": 0.5, \"cutoff\": \"5+ min & 50.0%+ segments\", \"pct_usable_trips\": 0.9714285714285714}, {\"calitp_itp_id\": 349, \"total_trips\": 270, \"n_trips\": 266, \"trip_cutoff\": 5, \"segment_cutoff\": 0.5, \"cutoff\": \"5+ min & 50.0%+ segments\", \"pct_usable_trips\": 0.9851851851851852}, {\"calitp_itp_id\": 350, \"total_trips\": 219, \"n_trips\": 215, \"trip_cutoff\": 5, \"segment_cutoff\": 0.5, \"cutoff\": \"5+ min & 50.0%+ segments\", \"pct_usable_trips\": 0.9817351598173516}, {\"calitp_itp_id\": 361, \"total_trips\": 525, \"n_trips\": 516, \"trip_cutoff\": 5, \"segment_cutoff\": 0.5, \"cutoff\": \"5+ min & 50.0%+ segments\", \"pct_usable_trips\": 0.9828571428571429}, {\"calitp_itp_id\": 372, \"total_trips\": 161, \"n_trips\": 148, \"trip_cutoff\": 5, \"segment_cutoff\": 0.5, \"cutoff\": \"5+ min & 50.0%+ segments\", \"pct_usable_trips\": 0.9192546583850931}, {\"calitp_itp_id\": 4, \"total_trips\": 5206, \"n_trips\": 4998, \"trip_cutoff\": 5, \"segment_cutoff\": 0.6, \"cutoff\": \"5+ min & 60.0%+ segments\", \"pct_usable_trips\": 0.9600461006530926}, {\"calitp_itp_id\": 30, \"total_trips\": 44, \"n_trips\": 40, \"trip_cutoff\": 5, \"segment_cutoff\": 0.6, \"cutoff\": \"5+ min & 60.0%+ segments\", \"pct_usable_trips\": 0.9090909090909091}, {\"calitp_itp_id\": 45, \"total_trips\": 91, \"n_trips\": 87, \"trip_cutoff\": 5, \"segment_cutoff\": 0.6, \"cutoff\": \"5+ min & 60.0%+ segments\", \"pct_usable_trips\": 0.9560439560439561}, {\"calitp_itp_id\": 75, \"total_trips\": 112, \"n_trips\": 110, \"trip_cutoff\": 5, \"segment_cutoff\": 0.6, \"cutoff\": \"5+ min & 60.0%+ segments\", \"pct_usable_trips\": 0.9821428571428571}, {\"calitp_itp_id\": 110, \"total_trips\": 278, \"n_trips\": 250, \"trip_cutoff\": 5, \"segment_cutoff\": 0.6, \"cutoff\": \"5+ min & 60.0%+ segments\", \"pct_usable_trips\": 0.8992805755395683}, {\"calitp_itp_id\": 126, \"total_trips\": 566, \"n_trips\": 529, \"trip_cutoff\": 5, \"segment_cutoff\": 0.6, \"cutoff\": \"5+ min & 60.0%+ segments\", \"pct_usable_trips\": 0.9346289752650176}, {\"calitp_itp_id\": 127, \"total_trips\": 203, \"n_trips\": 195, \"trip_cutoff\": 5, \"segment_cutoff\": 0.6, \"cutoff\": \"5+ min & 60.0%+ segments\", \"pct_usable_trips\": 0.9605911330049262}, {\"calitp_itp_id\": 135, \"total_trips\": 115, \"n_trips\": 91, \"trip_cutoff\": 5, \"segment_cutoff\": 0.6, \"cutoff\": \"5+ min & 60.0%+ segments\", \"pct_usable_trips\": 0.7913043478260869}, {\"calitp_itp_id\": 148, \"total_trips\": 232, \"n_trips\": 231, \"trip_cutoff\": 5, \"segment_cutoff\": 0.6, \"cutoff\": \"5+ min & 60.0%+ segments\", \"pct_usable_trips\": 0.9956896551724138}, {\"calitp_itp_id\": 159, \"total_trips\": 73, \"n_trips\": 62, \"trip_cutoff\": 5, \"segment_cutoff\": 0.6, \"cutoff\": \"5+ min & 60.0%+ segments\", \"pct_usable_trips\": 0.8493150684931506}, {\"calitp_itp_id\": 167, \"total_trips\": 405, \"n_trips\": 387, \"trip_cutoff\": 5, \"segment_cutoff\": 0.6, \"cutoff\": \"5+ min & 60.0%+ segments\", \"pct_usable_trips\": 0.9555555555555556}, {\"calitp_itp_id\": 182, \"total_trips\": 13858, \"n_trips\": 12279, \"trip_cutoff\": 5, \"segment_cutoff\": 0.6, \"cutoff\": \"5+ min & 60.0%+ segments\", \"pct_usable_trips\": 0.8860585943137538}, {\"calitp_itp_id\": 188, \"total_trips\": 20, \"n_trips\": 20, \"trip_cutoff\": 5, \"segment_cutoff\": 0.6, \"cutoff\": \"5+ min & 60.0%+ segments\", \"pct_usable_trips\": 1.0}, {\"calitp_itp_id\": 194, \"total_trips\": 584, \"n_trips\": 483, \"trip_cutoff\": 5, \"segment_cutoff\": 0.6, \"cutoff\": \"5+ min & 60.0%+ segments\", \"pct_usable_trips\": 0.827054794520548}, {\"calitp_itp_id\": 218, \"total_trips\": 149, \"n_trips\": 130, \"trip_cutoff\": 5, \"segment_cutoff\": 0.6, \"cutoff\": \"5+ min & 60.0%+ segments\", \"pct_usable_trips\": 0.87248322147651}, {\"calitp_itp_id\": 221, \"total_trips\": 104, \"n_trips\": 90, \"trip_cutoff\": 5, \"segment_cutoff\": 0.6, \"cutoff\": \"5+ min & 60.0%+ segments\", \"pct_usable_trips\": 0.8653846153846154}, {\"calitp_itp_id\": 226, \"total_trips\": 1293, \"n_trips\": 1276, \"trip_cutoff\": 5, \"segment_cutoff\": 0.6, \"cutoff\": \"5+ min & 60.0%+ segments\", \"pct_usable_trips\": 0.9868522815158546}, {\"calitp_itp_id\": 235, \"total_trips\": 3175, \"n_trips\": 3097, \"trip_cutoff\": 5, \"segment_cutoff\": 0.6, \"cutoff\": \"5+ min & 60.0%+ segments\", \"pct_usable_trips\": 0.9754330708661417}, {\"calitp_itp_id\": 243, \"total_trips\": 315, \"n_trips\": 305, \"trip_cutoff\": 5, \"segment_cutoff\": 0.6, \"cutoff\": \"5+ min & 60.0%+ segments\", \"pct_usable_trips\": 0.9682539682539683}, {\"calitp_itp_id\": 246, \"total_trips\": 79, \"n_trips\": 62, \"trip_cutoff\": 5, \"segment_cutoff\": 0.6, \"cutoff\": \"5+ min & 60.0%+ segments\", \"pct_usable_trips\": 0.7848101265822784}, {\"calitp_itp_id\": 247, \"total_trips\": 186, \"n_trips\": 152, \"trip_cutoff\": 5, \"segment_cutoff\": 0.6, \"cutoff\": \"5+ min & 60.0%+ segments\", \"pct_usable_trips\": 0.8172043010752689}, {\"calitp_itp_id\": 259, \"total_trips\": 253, \"n_trips\": 253, \"trip_cutoff\": 5, \"segment_cutoff\": 0.6, \"cutoff\": \"5+ min & 60.0%+ segments\", \"pct_usable_trips\": 1.0}, {\"calitp_itp_id\": 269, \"total_trips\": 1097, \"n_trips\": 1083, \"trip_cutoff\": 5, \"segment_cutoff\": 0.6, \"cutoff\": \"5+ min & 60.0%+ segments\", \"pct_usable_trips\": 0.9872379216043756}, {\"calitp_itp_id\": 273, \"total_trips\": 1775, \"n_trips\": 1728, \"trip_cutoff\": 5, \"segment_cutoff\": 0.6, \"cutoff\": \"5+ min & 60.0%+ segments\", \"pct_usable_trips\": 0.9735211267605633}, {\"calitp_itp_id\": 282, \"total_trips\": 8578, \"n_trips\": 7761, \"trip_cutoff\": 5, \"segment_cutoff\": 0.6, \"cutoff\": \"5+ min & 60.0%+ segments\", \"pct_usable_trips\": 0.9047563534623455}, {\"calitp_itp_id\": 284, \"total_trips\": 852, \"n_trips\": 824, \"trip_cutoff\": 5, \"segment_cutoff\": 0.6, \"cutoff\": \"5+ min & 60.0%+ segments\", \"pct_usable_trips\": 0.9671361502347418}, {\"calitp_itp_id\": 290, \"total_trips\": 1372, \"n_trips\": 1251, \"trip_cutoff\": 5, \"segment_cutoff\": 0.6, \"cutoff\": \"5+ min & 60.0%+ segments\", \"pct_usable_trips\": 0.9118075801749271}, {\"calitp_itp_id\": 293, \"total_trips\": 940, \"n_trips\": 909, \"trip_cutoff\": 5, \"segment_cutoff\": 0.6, \"cutoff\": \"5+ min & 60.0%+ segments\", \"pct_usable_trips\": 0.9670212765957447}, {\"calitp_itp_id\": 294, \"total_trips\": 3512, \"n_trips\": 3372, \"trip_cutoff\": 5, \"segment_cutoff\": 0.6, \"cutoff\": \"5+ min & 60.0%+ segments\", \"pct_usable_trips\": 0.9601366742596811}, {\"calitp_itp_id\": 295, \"total_trips\": 416, \"n_trips\": 403, \"trip_cutoff\": 5, \"segment_cutoff\": 0.6, \"cutoff\": \"5+ min & 60.0%+ segments\", \"pct_usable_trips\": 0.96875}, {\"calitp_itp_id\": 300, \"total_trips\": 1338, \"n_trips\": 1243, \"trip_cutoff\": 5, \"segment_cutoff\": 0.6, \"cutoff\": \"5+ min & 60.0%+ segments\", \"pct_usable_trips\": 0.9289985052316891}, {\"calitp_itp_id\": 301, \"total_trips\": 517, \"n_trips\": 461, \"trip_cutoff\": 5, \"segment_cutoff\": 0.6, \"cutoff\": \"5+ min & 60.0%+ segments\", \"pct_usable_trips\": 0.8916827852998066}, {\"calitp_itp_id\": 310, \"total_trips\": 401, \"n_trips\": 340, \"trip_cutoff\": 5, \"segment_cutoff\": 0.6, \"cutoff\": \"5+ min & 60.0%+ segments\", \"pct_usable_trips\": 0.8478802992518704}, {\"calitp_itp_id\": 314, \"total_trips\": 166, \"n_trips\": 133, \"trip_cutoff\": 5, \"segment_cutoff\": 0.6, \"cutoff\": \"5+ min & 60.0%+ segments\", \"pct_usable_trips\": 0.8012048192771084}, {\"calitp_itp_id\": 315, \"total_trips\": 38, \"n_trips\": 37, \"trip_cutoff\": 5, \"segment_cutoff\": 0.6, \"cutoff\": \"5+ min & 60.0%+ segments\", \"pct_usable_trips\": 0.9736842105263158}, {\"calitp_itp_id\": 336, \"total_trips\": 490, \"n_trips\": 476, \"trip_cutoff\": 5, \"segment_cutoff\": 0.6, \"cutoff\": \"5+ min & 60.0%+ segments\", \"pct_usable_trips\": 0.9714285714285714}, {\"calitp_itp_id\": 349, \"total_trips\": 270, \"n_trips\": 266, \"trip_cutoff\": 5, \"segment_cutoff\": 0.6, \"cutoff\": \"5+ min & 60.0%+ segments\", \"pct_usable_trips\": 0.9851851851851852}, {\"calitp_itp_id\": 350, \"total_trips\": 219, \"n_trips\": 215, \"trip_cutoff\": 5, \"segment_cutoff\": 0.6, \"cutoff\": \"5+ min & 60.0%+ segments\", \"pct_usable_trips\": 0.9817351598173516}, {\"calitp_itp_id\": 361, \"total_trips\": 525, \"n_trips\": 515, \"trip_cutoff\": 5, \"segment_cutoff\": 0.6, \"cutoff\": \"5+ min & 60.0%+ segments\", \"pct_usable_trips\": 0.9809523809523809}, {\"calitp_itp_id\": 372, \"total_trips\": 161, \"n_trips\": 146, \"trip_cutoff\": 5, \"segment_cutoff\": 0.6, \"cutoff\": \"5+ min & 60.0%+ segments\", \"pct_usable_trips\": 0.906832298136646}, {\"calitp_itp_id\": 4, \"total_trips\": 5206, \"n_trips\": 4953, \"trip_cutoff\": 5, \"segment_cutoff\": 0.7, \"cutoff\": \"5+ min & 70.0%+ segments\", \"pct_usable_trips\": 0.9514022281982328}, {\"calitp_itp_id\": 30, \"total_trips\": 44, \"n_trips\": 39, \"trip_cutoff\": 5, \"segment_cutoff\": 0.7, \"cutoff\": \"5+ min & 70.0%+ segments\", \"pct_usable_trips\": 0.8863636363636364}, {\"calitp_itp_id\": 45, \"total_trips\": 91, \"n_trips\": 87, \"trip_cutoff\": 5, \"segment_cutoff\": 0.7, \"cutoff\": \"5+ min & 70.0%+ segments\", \"pct_usable_trips\": 0.9560439560439561}, {\"calitp_itp_id\": 75, \"total_trips\": 112, \"n_trips\": 108, \"trip_cutoff\": 5, \"segment_cutoff\": 0.7, \"cutoff\": \"5+ min & 70.0%+ segments\", \"pct_usable_trips\": 0.9642857142857143}, {\"calitp_itp_id\": 110, \"total_trips\": 278, \"n_trips\": 248, \"trip_cutoff\": 5, \"segment_cutoff\": 0.7, \"cutoff\": \"5+ min & 70.0%+ segments\", \"pct_usable_trips\": 0.8920863309352518}, {\"calitp_itp_id\": 126, \"total_trips\": 566, \"n_trips\": 514, \"trip_cutoff\": 5, \"segment_cutoff\": 0.7, \"cutoff\": \"5+ min & 70.0%+ segments\", \"pct_usable_trips\": 0.9081272084805654}, {\"calitp_itp_id\": 127, \"total_trips\": 203, \"n_trips\": 195, \"trip_cutoff\": 5, \"segment_cutoff\": 0.7, \"cutoff\": \"5+ min & 70.0%+ segments\", \"pct_usable_trips\": 0.9605911330049262}, {\"calitp_itp_id\": 135, \"total_trips\": 115, \"n_trips\": 84, \"trip_cutoff\": 5, \"segment_cutoff\": 0.7, \"cutoff\": \"5+ min & 70.0%+ segments\", \"pct_usable_trips\": 0.7304347826086957}, {\"calitp_itp_id\": 148, \"total_trips\": 232, \"n_trips\": 231, \"trip_cutoff\": 5, \"segment_cutoff\": 0.7, \"cutoff\": \"5+ min & 70.0%+ segments\", \"pct_usable_trips\": 0.9956896551724138}, {\"calitp_itp_id\": 159, \"total_trips\": 73, \"n_trips\": 60, \"trip_cutoff\": 5, \"segment_cutoff\": 0.7, \"cutoff\": \"5+ min & 70.0%+ segments\", \"pct_usable_trips\": 0.821917808219178}, {\"calitp_itp_id\": 167, \"total_trips\": 405, \"n_trips\": 381, \"trip_cutoff\": 5, \"segment_cutoff\": 0.7, \"cutoff\": \"5+ min & 70.0%+ segments\", \"pct_usable_trips\": 0.9407407407407408}, {\"calitp_itp_id\": 182, \"total_trips\": 13858, \"n_trips\": 11067, \"trip_cutoff\": 5, \"segment_cutoff\": 0.7, \"cutoff\": \"5+ min & 70.0%+ segments\", \"pct_usable_trips\": 0.7986000865925819}, {\"calitp_itp_id\": 188, \"total_trips\": 20, \"n_trips\": 19, \"trip_cutoff\": 5, \"segment_cutoff\": 0.7, \"cutoff\": \"5+ min & 70.0%+ segments\", \"pct_usable_trips\": 0.95}, {\"calitp_itp_id\": 194, \"total_trips\": 584, \"n_trips\": 466, \"trip_cutoff\": 5, \"segment_cutoff\": 0.7, \"cutoff\": \"5+ min & 70.0%+ segments\", \"pct_usable_trips\": 0.797945205479452}, {\"calitp_itp_id\": 218, \"total_trips\": 149, \"n_trips\": 129, \"trip_cutoff\": 5, \"segment_cutoff\": 0.7, \"cutoff\": \"5+ min & 70.0%+ segments\", \"pct_usable_trips\": 0.8657718120805369}, {\"calitp_itp_id\": 221, \"total_trips\": 104, \"n_trips\": 87, \"trip_cutoff\": 5, \"segment_cutoff\": 0.7, \"cutoff\": \"5+ min & 70.0%+ segments\", \"pct_usable_trips\": 0.8365384615384616}, {\"calitp_itp_id\": 226, \"total_trips\": 1293, \"n_trips\": 1248, \"trip_cutoff\": 5, \"segment_cutoff\": 0.7, \"cutoff\": \"5+ min & 70.0%+ segments\", \"pct_usable_trips\": 0.9651972157772621}, {\"calitp_itp_id\": 235, \"total_trips\": 3175, \"n_trips\": 2907, \"trip_cutoff\": 5, \"segment_cutoff\": 0.7, \"cutoff\": \"5+ min & 70.0%+ segments\", \"pct_usable_trips\": 0.9155905511811023}, {\"calitp_itp_id\": 243, \"total_trips\": 315, \"n_trips\": 304, \"trip_cutoff\": 5, \"segment_cutoff\": 0.7, \"cutoff\": \"5+ min & 70.0%+ segments\", \"pct_usable_trips\": 0.9650793650793651}, {\"calitp_itp_id\": 246, \"total_trips\": 79, \"n_trips\": 47, \"trip_cutoff\": 5, \"segment_cutoff\": 0.7, \"cutoff\": \"5+ min & 70.0%+ segments\", \"pct_usable_trips\": 0.5949367088607594}, {\"calitp_itp_id\": 247, \"total_trips\": 186, \"n_trips\": 150, \"trip_cutoff\": 5, \"segment_cutoff\": 0.7, \"cutoff\": \"5+ min & 70.0%+ segments\", \"pct_usable_trips\": 0.8064516129032258}, {\"calitp_itp_id\": 259, \"total_trips\": 253, \"n_trips\": 253, \"trip_cutoff\": 5, \"segment_cutoff\": 0.7, \"cutoff\": \"5+ min & 70.0%+ segments\", \"pct_usable_trips\": 1.0}, {\"calitp_itp_id\": 269, \"total_trips\": 1097, \"n_trips\": 1077, \"trip_cutoff\": 5, \"segment_cutoff\": 0.7, \"cutoff\": \"5+ min & 70.0%+ segments\", \"pct_usable_trips\": 0.9817684594348223}, {\"calitp_itp_id\": 273, \"total_trips\": 1775, \"n_trips\": 1722, \"trip_cutoff\": 5, \"segment_cutoff\": 0.7, \"cutoff\": \"5+ min & 70.0%+ segments\", \"pct_usable_trips\": 0.9701408450704225}, {\"calitp_itp_id\": 282, \"total_trips\": 8578, \"n_trips\": 7507, \"trip_cutoff\": 5, \"segment_cutoff\": 0.7, \"cutoff\": \"5+ min & 70.0%+ segments\", \"pct_usable_trips\": 0.8751457216134297}, {\"calitp_itp_id\": 284, \"total_trips\": 852, \"n_trips\": 768, \"trip_cutoff\": 5, \"segment_cutoff\": 0.7, \"cutoff\": \"5+ min & 70.0%+ segments\", \"pct_usable_trips\": 0.9014084507042254}, {\"calitp_itp_id\": 290, \"total_trips\": 1372, \"n_trips\": 1224, \"trip_cutoff\": 5, \"segment_cutoff\": 0.7, \"cutoff\": \"5+ min & 70.0%+ segments\", \"pct_usable_trips\": 0.892128279883382}, {\"calitp_itp_id\": 293, \"total_trips\": 940, \"n_trips\": 889, \"trip_cutoff\": 5, \"segment_cutoff\": 0.7, \"cutoff\": \"5+ min & 70.0%+ segments\", \"pct_usable_trips\": 0.9457446808510638}, {\"calitp_itp_id\": 294, \"total_trips\": 3512, \"n_trips\": 3291, \"trip_cutoff\": 5, \"segment_cutoff\": 0.7, \"cutoff\": \"5+ min & 70.0%+ segments\", \"pct_usable_trips\": 0.9370728929384966}, {\"calitp_itp_id\": 295, \"total_trips\": 416, \"n_trips\": 394, \"trip_cutoff\": 5, \"segment_cutoff\": 0.7, \"cutoff\": \"5+ min & 70.0%+ segments\", \"pct_usable_trips\": 0.9471153846153846}, {\"calitp_itp_id\": 300, \"total_trips\": 1338, \"n_trips\": 1142, \"trip_cutoff\": 5, \"segment_cutoff\": 0.7, \"cutoff\": \"5+ min & 70.0%+ segments\", \"pct_usable_trips\": 0.8535127055306427}, {\"calitp_itp_id\": 301, \"total_trips\": 517, \"n_trips\": 403, \"trip_cutoff\": 5, \"segment_cutoff\": 0.7, \"cutoff\": \"5+ min & 70.0%+ segments\", \"pct_usable_trips\": 0.7794970986460348}, {\"calitp_itp_id\": 310, \"total_trips\": 401, \"n_trips\": 323, \"trip_cutoff\": 5, \"segment_cutoff\": 0.7, \"cutoff\": \"5+ min & 70.0%+ segments\", \"pct_usable_trips\": 0.8054862842892768}, {\"calitp_itp_id\": 314, \"total_trips\": 166, \"n_trips\": 125, \"trip_cutoff\": 5, \"segment_cutoff\": 0.7, \"cutoff\": \"5+ min & 70.0%+ segments\", \"pct_usable_trips\": 0.7530120481927711}, {\"calitp_itp_id\": 315, \"total_trips\": 38, \"n_trips\": 34, \"trip_cutoff\": 5, \"segment_cutoff\": 0.7, \"cutoff\": \"5+ min & 70.0%+ segments\", \"pct_usable_trips\": 0.8947368421052632}, {\"calitp_itp_id\": 336, \"total_trips\": 490, \"n_trips\": 468, \"trip_cutoff\": 5, \"segment_cutoff\": 0.7, \"cutoff\": \"5+ min & 70.0%+ segments\", \"pct_usable_trips\": 0.9551020408163265}, {\"calitp_itp_id\": 349, \"total_trips\": 270, \"n_trips\": 263, \"trip_cutoff\": 5, \"segment_cutoff\": 0.7, \"cutoff\": \"5+ min & 70.0%+ segments\", \"pct_usable_trips\": 0.9740740740740741}, {\"calitp_itp_id\": 350, \"total_trips\": 219, \"n_trips\": 214, \"trip_cutoff\": 5, \"segment_cutoff\": 0.7, \"cutoff\": \"5+ min & 70.0%+ segments\", \"pct_usable_trips\": 0.9771689497716894}, {\"calitp_itp_id\": 361, \"total_trips\": 525, \"n_trips\": 515, \"trip_cutoff\": 5, \"segment_cutoff\": 0.7, \"cutoff\": \"5+ min & 70.0%+ segments\", \"pct_usable_trips\": 0.9809523809523809}, {\"calitp_itp_id\": 372, \"total_trips\": 161, \"n_trips\": 145, \"trip_cutoff\": 5, \"segment_cutoff\": 0.7, \"cutoff\": \"5+ min & 70.0%+ segments\", \"pct_usable_trips\": 0.9006211180124224}, {\"calitp_itp_id\": 4, \"total_trips\": 5206, \"n_trips\": 4928, \"trip_cutoff\": 5, \"segment_cutoff\": 0.75, \"cutoff\": \"5+ min & 75.0%+ segments\", \"pct_usable_trips\": 0.9466000768344218}, {\"calitp_itp_id\": 30, \"total_trips\": 44, \"n_trips\": 32, \"trip_cutoff\": 5, \"segment_cutoff\": 0.75, \"cutoff\": \"5+ min & 75.0%+ segments\", \"pct_usable_trips\": 0.7272727272727273}, {\"calitp_itp_id\": 45, \"total_trips\": 91, \"n_trips\": 87, \"trip_cutoff\": 5, \"segment_cutoff\": 0.75, \"cutoff\": \"5+ min & 75.0%+ segments\", \"pct_usable_trips\": 0.9560439560439561}, {\"calitp_itp_id\": 75, \"total_trips\": 112, \"n_trips\": 108, \"trip_cutoff\": 5, \"segment_cutoff\": 0.75, \"cutoff\": \"5+ min & 75.0%+ segments\", \"pct_usable_trips\": 0.9642857142857143}, {\"calitp_itp_id\": 110, \"total_trips\": 278, \"n_trips\": 248, \"trip_cutoff\": 5, \"segment_cutoff\": 0.75, \"cutoff\": \"5+ min & 75.0%+ segments\", \"pct_usable_trips\": 0.8920863309352518}, {\"calitp_itp_id\": 126, \"total_trips\": 566, \"n_trips\": 513, \"trip_cutoff\": 5, \"segment_cutoff\": 0.75, \"cutoff\": \"5+ min & 75.0%+ segments\", \"pct_usable_trips\": 0.9063604240282686}, {\"calitp_itp_id\": 127, \"total_trips\": 203, \"n_trips\": 195, \"trip_cutoff\": 5, \"segment_cutoff\": 0.75, \"cutoff\": \"5+ min & 75.0%+ segments\", \"pct_usable_trips\": 0.9605911330049262}, {\"calitp_itp_id\": 135, \"total_trips\": 115, \"n_trips\": 82, \"trip_cutoff\": 5, \"segment_cutoff\": 0.75, \"cutoff\": \"5+ min & 75.0%+ segments\", \"pct_usable_trips\": 0.7130434782608696}, {\"calitp_itp_id\": 148, \"total_trips\": 232, \"n_trips\": 231, \"trip_cutoff\": 5, \"segment_cutoff\": 0.75, \"cutoff\": \"5+ min & 75.0%+ segments\", \"pct_usable_trips\": 0.9956896551724138}, {\"calitp_itp_id\": 159, \"total_trips\": 73, \"n_trips\": 60, \"trip_cutoff\": 5, \"segment_cutoff\": 0.75, \"cutoff\": \"5+ min & 75.0%+ segments\", \"pct_usable_trips\": 0.821917808219178}, {\"calitp_itp_id\": 167, \"total_trips\": 405, \"n_trips\": 379, \"trip_cutoff\": 5, \"segment_cutoff\": 0.75, \"cutoff\": \"5+ min & 75.0%+ segments\", \"pct_usable_trips\": 0.9358024691358025}, {\"calitp_itp_id\": 182, \"total_trips\": 13858, \"n_trips\": 10322, \"trip_cutoff\": 5, \"segment_cutoff\": 0.75, \"cutoff\": \"5+ min & 75.0%+ segments\", \"pct_usable_trips\": 0.7448405253283302}, {\"calitp_itp_id\": 188, \"total_trips\": 20, \"n_trips\": 19, \"trip_cutoff\": 5, \"segment_cutoff\": 0.75, \"cutoff\": \"5+ min & 75.0%+ segments\", \"pct_usable_trips\": 0.95}, {\"calitp_itp_id\": 194, \"total_trips\": 584, \"n_trips\": 456, \"trip_cutoff\": 5, \"segment_cutoff\": 0.75, \"cutoff\": \"5+ min & 75.0%+ segments\", \"pct_usable_trips\": 0.7808219178082192}, {\"calitp_itp_id\": 218, \"total_trips\": 149, \"n_trips\": 128, \"trip_cutoff\": 5, \"segment_cutoff\": 0.75, \"cutoff\": \"5+ min & 75.0%+ segments\", \"pct_usable_trips\": 0.8590604026845637}, {\"calitp_itp_id\": 221, \"total_trips\": 104, \"n_trips\": 83, \"trip_cutoff\": 5, \"segment_cutoff\": 0.75, \"cutoff\": \"5+ min & 75.0%+ segments\", \"pct_usable_trips\": 0.7980769230769231}, {\"calitp_itp_id\": 226, \"total_trips\": 1293, \"n_trips\": 1235, \"trip_cutoff\": 5, \"segment_cutoff\": 0.75, \"cutoff\": \"5+ min & 75.0%+ segments\", \"pct_usable_trips\": 0.9551430781129157}, {\"calitp_itp_id\": 235, \"total_trips\": 3175, \"n_trips\": 2877, \"trip_cutoff\": 5, \"segment_cutoff\": 0.75, \"cutoff\": \"5+ min & 75.0%+ segments\", \"pct_usable_trips\": 0.9061417322834646}, {\"calitp_itp_id\": 243, \"total_trips\": 315, \"n_trips\": 304, \"trip_cutoff\": 5, \"segment_cutoff\": 0.75, \"cutoff\": \"5+ min & 75.0%+ segments\", \"pct_usable_trips\": 0.9650793650793651}, {\"calitp_itp_id\": 246, \"total_trips\": 79, \"n_trips\": 34, \"trip_cutoff\": 5, \"segment_cutoff\": 0.75, \"cutoff\": \"5+ min & 75.0%+ segments\", \"pct_usable_trips\": 0.43037974683544306}, {\"calitp_itp_id\": 247, \"total_trips\": 186, \"n_trips\": 145, \"trip_cutoff\": 5, \"segment_cutoff\": 0.75, \"cutoff\": \"5+ min & 75.0%+ segments\", \"pct_usable_trips\": 0.7795698924731183}, {\"calitp_itp_id\": 259, \"total_trips\": 253, \"n_trips\": 253, \"trip_cutoff\": 5, \"segment_cutoff\": 0.75, \"cutoff\": \"5+ min & 75.0%+ segments\", \"pct_usable_trips\": 1.0}, {\"calitp_itp_id\": 269, \"total_trips\": 1097, \"n_trips\": 1073, \"trip_cutoff\": 5, \"segment_cutoff\": 0.75, \"cutoff\": \"5+ min & 75.0%+ segments\", \"pct_usable_trips\": 0.9781221513217867}, {\"calitp_itp_id\": 273, \"total_trips\": 1775, \"n_trips\": 1712, \"trip_cutoff\": 5, \"segment_cutoff\": 0.75, \"cutoff\": \"5+ min & 75.0%+ segments\", \"pct_usable_trips\": 0.9645070422535211}, {\"calitp_itp_id\": 282, \"total_trips\": 8578, \"n_trips\": 7462, \"trip_cutoff\": 5, \"segment_cutoff\": 0.75, \"cutoff\": \"5+ min & 75.0%+ segments\", \"pct_usable_trips\": 0.8698997435299604}, {\"calitp_itp_id\": 284, \"total_trips\": 852, \"n_trips\": 753, \"trip_cutoff\": 5, \"segment_cutoff\": 0.75, \"cutoff\": \"5+ min & 75.0%+ segments\", \"pct_usable_trips\": 0.8838028169014085}, {\"calitp_itp_id\": 290, \"total_trips\": 1372, \"n_trips\": 1206, \"trip_cutoff\": 5, \"segment_cutoff\": 0.75, \"cutoff\": \"5+ min & 75.0%+ segments\", \"pct_usable_trips\": 0.8790087463556852}, {\"calitp_itp_id\": 293, \"total_trips\": 940, \"n_trips\": 847, \"trip_cutoff\": 5, \"segment_cutoff\": 0.75, \"cutoff\": \"5+ min & 75.0%+ segments\", \"pct_usable_trips\": 0.9010638297872341}, {\"calitp_itp_id\": 294, \"total_trips\": 3512, \"n_trips\": 3208, \"trip_cutoff\": 5, \"segment_cutoff\": 0.75, \"cutoff\": \"5+ min & 75.0%+ segments\", \"pct_usable_trips\": 0.9134396355353075}, {\"calitp_itp_id\": 295, \"total_trips\": 416, \"n_trips\": 386, \"trip_cutoff\": 5, \"segment_cutoff\": 0.75, \"cutoff\": \"5+ min & 75.0%+ segments\", \"pct_usable_trips\": 0.9278846153846154}, {\"calitp_itp_id\": 300, \"total_trips\": 1338, \"n_trips\": 1085, \"trip_cutoff\": 5, \"segment_cutoff\": 0.75, \"cutoff\": \"5+ min & 75.0%+ segments\", \"pct_usable_trips\": 0.8109118086696562}, {\"calitp_itp_id\": 301, \"total_trips\": 517, \"n_trips\": 379, \"trip_cutoff\": 5, \"segment_cutoff\": 0.75, \"cutoff\": \"5+ min & 75.0%+ segments\", \"pct_usable_trips\": 0.7330754352030948}, {\"calitp_itp_id\": 310, \"total_trips\": 401, \"n_trips\": 322, \"trip_cutoff\": 5, \"segment_cutoff\": 0.75, \"cutoff\": \"5+ min & 75.0%+ segments\", \"pct_usable_trips\": 0.8029925187032418}, {\"calitp_itp_id\": 314, \"total_trips\": 166, \"n_trips\": 121, \"trip_cutoff\": 5, \"segment_cutoff\": 0.75, \"cutoff\": \"5+ min & 75.0%+ segments\", \"pct_usable_trips\": 0.7289156626506024}, {\"calitp_itp_id\": 315, \"total_trips\": 38, \"n_trips\": 34, \"trip_cutoff\": 5, \"segment_cutoff\": 0.75, \"cutoff\": \"5+ min & 75.0%+ segments\", \"pct_usable_trips\": 0.8947368421052632}, {\"calitp_itp_id\": 336, \"total_trips\": 490, \"n_trips\": 465, \"trip_cutoff\": 5, \"segment_cutoff\": 0.75, \"cutoff\": \"5+ min & 75.0%+ segments\", \"pct_usable_trips\": 0.9489795918367347}, {\"calitp_itp_id\": 349, \"total_trips\": 270, \"n_trips\": 263, \"trip_cutoff\": 5, \"segment_cutoff\": 0.75, \"cutoff\": \"5+ min & 75.0%+ segments\", \"pct_usable_trips\": 0.9740740740740741}, {\"calitp_itp_id\": 350, \"total_trips\": 219, \"n_trips\": 214, \"trip_cutoff\": 5, \"segment_cutoff\": 0.75, \"cutoff\": \"5+ min & 75.0%+ segments\", \"pct_usable_trips\": 0.9771689497716894}, {\"calitp_itp_id\": 361, \"total_trips\": 525, \"n_trips\": 514, \"trip_cutoff\": 5, \"segment_cutoff\": 0.75, \"cutoff\": \"5+ min & 75.0%+ segments\", \"pct_usable_trips\": 0.979047619047619}, {\"calitp_itp_id\": 372, \"total_trips\": 161, \"n_trips\": 143, \"trip_cutoff\": 5, \"segment_cutoff\": 0.75, \"cutoff\": \"5+ min & 75.0%+ segments\", \"pct_usable_trips\": 0.8881987577639752}, {\"calitp_itp_id\": 4, \"total_trips\": 5206, \"n_trips\": 5180, \"trip_cutoff\": 10, \"segment_cutoff\": 0.1, \"cutoff\": \"10+ min & 10.0%+ segments\", \"pct_usable_trips\": 0.9950057625816365}, {\"calitp_itp_id\": 30, \"total_trips\": 44, \"n_trips\": 43, \"trip_cutoff\": 10, \"segment_cutoff\": 0.1, \"cutoff\": \"10+ min & 10.0%+ segments\", \"pct_usable_trips\": 0.9772727272727273}, {\"calitp_itp_id\": 45, \"total_trips\": 91, \"n_trips\": 90, \"trip_cutoff\": 10, \"segment_cutoff\": 0.1, \"cutoff\": \"10+ min & 10.0%+ segments\", \"pct_usable_trips\": 0.989010989010989}, {\"calitp_itp_id\": 75, \"total_trips\": 112, \"n_trips\": 108, \"trip_cutoff\": 10, \"segment_cutoff\": 0.1, \"cutoff\": \"10+ min & 10.0%+ segments\", \"pct_usable_trips\": 0.9642857142857143}, {\"calitp_itp_id\": 110, \"total_trips\": 278, \"n_trips\": 277, \"trip_cutoff\": 10, \"segment_cutoff\": 0.1, \"cutoff\": \"10+ min & 10.0%+ segments\", \"pct_usable_trips\": 0.9964028776978417}, {\"calitp_itp_id\": 126, \"total_trips\": 566, \"n_trips\": 565, \"trip_cutoff\": 10, \"segment_cutoff\": 0.1, \"cutoff\": \"10+ min & 10.0%+ segments\", \"pct_usable_trips\": 0.9982332155477032}, {\"calitp_itp_id\": 127, \"total_trips\": 203, \"n_trips\": 203, \"trip_cutoff\": 10, \"segment_cutoff\": 0.1, \"cutoff\": \"10+ min & 10.0%+ segments\", \"pct_usable_trips\": 1.0}, {\"calitp_itp_id\": 135, \"total_trips\": 115, \"n_trips\": 105, \"trip_cutoff\": 10, \"segment_cutoff\": 0.1, \"cutoff\": \"10+ min & 10.0%+ segments\", \"pct_usable_trips\": 0.9130434782608695}, {\"calitp_itp_id\": 148, \"total_trips\": 232, \"n_trips\": 232, \"trip_cutoff\": 10, \"segment_cutoff\": 0.1, \"cutoff\": \"10+ min & 10.0%+ segments\", \"pct_usable_trips\": 1.0}, {\"calitp_itp_id\": 159, \"total_trips\": 73, \"n_trips\": 63, \"trip_cutoff\": 10, \"segment_cutoff\": 0.1, \"cutoff\": \"10+ min & 10.0%+ segments\", \"pct_usable_trips\": 0.863013698630137}, {\"calitp_itp_id\": 167, \"total_trips\": 405, \"n_trips\": 404, \"trip_cutoff\": 10, \"segment_cutoff\": 0.1, \"cutoff\": \"10+ min & 10.0%+ segments\", \"pct_usable_trips\": 0.9975308641975309}, {\"calitp_itp_id\": 182, \"total_trips\": 13858, \"n_trips\": 13616, \"trip_cutoff\": 10, \"segment_cutoff\": 0.1, \"cutoff\": \"10+ min & 10.0%+ segments\", \"pct_usable_trips\": 0.982537162649733}, {\"calitp_itp_id\": 188, \"total_trips\": 20, \"n_trips\": 20, \"trip_cutoff\": 10, \"segment_cutoff\": 0.1, \"cutoff\": \"10+ min & 10.0%+ segments\", \"pct_usable_trips\": 1.0}, {\"calitp_itp_id\": 194, \"total_trips\": 584, \"n_trips\": 568, \"trip_cutoff\": 10, \"segment_cutoff\": 0.1, \"cutoff\": \"10+ min & 10.0%+ segments\", \"pct_usable_trips\": 0.9726027397260274}, {\"calitp_itp_id\": 218, \"total_trips\": 149, \"n_trips\": 136, \"trip_cutoff\": 10, \"segment_cutoff\": 0.1, \"cutoff\": \"10+ min & 10.0%+ segments\", \"pct_usable_trips\": 0.912751677852349}, {\"calitp_itp_id\": 221, \"total_trips\": 104, \"n_trips\": 96, \"trip_cutoff\": 10, \"segment_cutoff\": 0.1, \"cutoff\": \"10+ min & 10.0%+ segments\", \"pct_usable_trips\": 0.9230769230769231}, {\"calitp_itp_id\": 226, \"total_trips\": 1293, \"n_trips\": 1291, \"trip_cutoff\": 10, \"segment_cutoff\": 0.1, \"cutoff\": \"10+ min & 10.0%+ segments\", \"pct_usable_trips\": 0.9984532095901005}, {\"calitp_itp_id\": 235, \"total_trips\": 3175, \"n_trips\": 3166, \"trip_cutoff\": 10, \"segment_cutoff\": 0.1, \"cutoff\": \"10+ min & 10.0%+ segments\", \"pct_usable_trips\": 0.9971653543307086}, {\"calitp_itp_id\": 243, \"total_trips\": 315, \"n_trips\": 313, \"trip_cutoff\": 10, \"segment_cutoff\": 0.1, \"cutoff\": \"10+ min & 10.0%+ segments\", \"pct_usable_trips\": 0.9936507936507937}, {\"calitp_itp_id\": 246, \"total_trips\": 79, \"n_trips\": 78, \"trip_cutoff\": 10, \"segment_cutoff\": 0.1, \"cutoff\": \"10+ min & 10.0%+ segments\", \"pct_usable_trips\": 0.9873417721518988}, {\"calitp_itp_id\": 247, \"total_trips\": 186, \"n_trips\": 133, \"trip_cutoff\": 10, \"segment_cutoff\": 0.1, \"cutoff\": \"10+ min & 10.0%+ segments\", \"pct_usable_trips\": 0.7150537634408602}, {\"calitp_itp_id\": 259, \"total_trips\": 253, \"n_trips\": 250, \"trip_cutoff\": 10, \"segment_cutoff\": 0.1, \"cutoff\": \"10+ min & 10.0%+ segments\", \"pct_usable_trips\": 0.9881422924901185}, {\"calitp_itp_id\": 269, \"total_trips\": 1097, \"n_trips\": 1094, \"trip_cutoff\": 10, \"segment_cutoff\": 0.1, \"cutoff\": \"10+ min & 10.0%+ segments\", \"pct_usable_trips\": 0.9972652689152234}, {\"calitp_itp_id\": 273, \"total_trips\": 1775, \"n_trips\": 1728, \"trip_cutoff\": 10, \"segment_cutoff\": 0.1, \"cutoff\": \"10+ min & 10.0%+ segments\", \"pct_usable_trips\": 0.9735211267605633}, {\"calitp_itp_id\": 282, \"total_trips\": 8578, \"n_trips\": 8249, \"trip_cutoff\": 10, \"segment_cutoff\": 0.1, \"cutoff\": \"10+ min & 10.0%+ segments\", \"pct_usable_trips\": 0.9616460713453019}, {\"calitp_itp_id\": 284, \"total_trips\": 852, \"n_trips\": 838, \"trip_cutoff\": 10, \"segment_cutoff\": 0.1, \"cutoff\": \"10+ min & 10.0%+ segments\", \"pct_usable_trips\": 0.9835680751173709}, {\"calitp_itp_id\": 290, \"total_trips\": 1372, \"n_trips\": 1354, \"trip_cutoff\": 10, \"segment_cutoff\": 0.1, \"cutoff\": \"10+ min & 10.0%+ segments\", \"pct_usable_trips\": 0.9868804664723032}, {\"calitp_itp_id\": 293, \"total_trips\": 940, \"n_trips\": 880, \"trip_cutoff\": 10, \"segment_cutoff\": 0.1, \"cutoff\": \"10+ min & 10.0%+ segments\", \"pct_usable_trips\": 0.9361702127659575}, {\"calitp_itp_id\": 294, \"total_trips\": 3512, \"n_trips\": 3421, \"trip_cutoff\": 10, \"segment_cutoff\": 0.1, \"cutoff\": \"10+ min & 10.0%+ segments\", \"pct_usable_trips\": 0.9740888382687927}, {\"calitp_itp_id\": 295, \"total_trips\": 416, \"n_trips\": 411, \"trip_cutoff\": 10, \"segment_cutoff\": 0.1, \"cutoff\": \"10+ min & 10.0%+ segments\", \"pct_usable_trips\": 0.9879807692307693}, {\"calitp_itp_id\": 300, \"total_trips\": 1338, \"n_trips\": 1325, \"trip_cutoff\": 10, \"segment_cutoff\": 0.1, \"cutoff\": \"10+ min & 10.0%+ segments\", \"pct_usable_trips\": 0.9902840059790733}, {\"calitp_itp_id\": 301, \"total_trips\": 517, \"n_trips\": 489, \"trip_cutoff\": 10, \"segment_cutoff\": 0.1, \"cutoff\": \"10+ min & 10.0%+ segments\", \"pct_usable_trips\": 0.9458413926499033}, {\"calitp_itp_id\": 310, \"total_trips\": 401, \"n_trips\": 388, \"trip_cutoff\": 10, \"segment_cutoff\": 0.1, \"cutoff\": \"10+ min & 10.0%+ segments\", \"pct_usable_trips\": 0.9675810473815462}, {\"calitp_itp_id\": 314, \"total_trips\": 166, \"n_trips\": 156, \"trip_cutoff\": 10, \"segment_cutoff\": 0.1, \"cutoff\": \"10+ min & 10.0%+ segments\", \"pct_usable_trips\": 0.9397590361445783}, {\"calitp_itp_id\": 315, \"total_trips\": 38, \"n_trips\": 38, \"trip_cutoff\": 10, \"segment_cutoff\": 0.1, \"cutoff\": \"10+ min & 10.0%+ segments\", \"pct_usable_trips\": 1.0}, {\"calitp_itp_id\": 336, \"total_trips\": 490, \"n_trips\": 485, \"trip_cutoff\": 10, \"segment_cutoff\": 0.1, \"cutoff\": \"10+ min & 10.0%+ segments\", \"pct_usable_trips\": 0.9897959183673469}, {\"calitp_itp_id\": 349, \"total_trips\": 270, \"n_trips\": 235, \"trip_cutoff\": 10, \"segment_cutoff\": 0.1, \"cutoff\": \"10+ min & 10.0%+ segments\", \"pct_usable_trips\": 0.8703703703703703}, {\"calitp_itp_id\": 350, \"total_trips\": 219, \"n_trips\": 215, \"trip_cutoff\": 10, \"segment_cutoff\": 0.1, \"cutoff\": \"10+ min & 10.0%+ segments\", \"pct_usable_trips\": 0.9817351598173516}, {\"calitp_itp_id\": 361, \"total_trips\": 525, \"n_trips\": 520, \"trip_cutoff\": 10, \"segment_cutoff\": 0.1, \"cutoff\": \"10+ min & 10.0%+ segments\", \"pct_usable_trips\": 0.9904761904761905}, {\"calitp_itp_id\": 372, \"total_trips\": 161, \"n_trips\": 153, \"trip_cutoff\": 10, \"segment_cutoff\": 0.1, \"cutoff\": \"10+ min & 10.0%+ segments\", \"pct_usable_trips\": 0.9503105590062112}, {\"calitp_itp_id\": 4, \"total_trips\": 5206, \"n_trips\": 5171, \"trip_cutoff\": 10, \"segment_cutoff\": 0.2, \"cutoff\": \"10+ min & 20.0%+ segments\", \"pct_usable_trips\": 0.9932769880906647}, {\"calitp_itp_id\": 30, \"total_trips\": 44, \"n_trips\": 43, \"trip_cutoff\": 10, \"segment_cutoff\": 0.2, \"cutoff\": \"10+ min & 20.0%+ segments\", \"pct_usable_trips\": 0.9772727272727273}, {\"calitp_itp_id\": 45, \"total_trips\": 91, \"n_trips\": 89, \"trip_cutoff\": 10, \"segment_cutoff\": 0.2, \"cutoff\": \"10+ min & 20.0%+ segments\", \"pct_usable_trips\": 0.978021978021978}, {\"calitp_itp_id\": 75, \"total_trips\": 112, \"n_trips\": 108, \"trip_cutoff\": 10, \"segment_cutoff\": 0.2, \"cutoff\": \"10+ min & 20.0%+ segments\", \"pct_usable_trips\": 0.9642857142857143}, {\"calitp_itp_id\": 110, \"total_trips\": 278, \"n_trips\": 277, \"trip_cutoff\": 10, \"segment_cutoff\": 0.2, \"cutoff\": \"10+ min & 20.0%+ segments\", \"pct_usable_trips\": 0.9964028776978417}, {\"calitp_itp_id\": 126, \"total_trips\": 566, \"n_trips\": 565, \"trip_cutoff\": 10, \"segment_cutoff\": 0.2, \"cutoff\": \"10+ min & 20.0%+ segments\", \"pct_usable_trips\": 0.9982332155477032}, {\"calitp_itp_id\": 127, \"total_trips\": 203, \"n_trips\": 203, \"trip_cutoff\": 10, \"segment_cutoff\": 0.2, \"cutoff\": \"10+ min & 20.0%+ segments\", \"pct_usable_trips\": 1.0}, {\"calitp_itp_id\": 135, \"total_trips\": 115, \"n_trips\": 105, \"trip_cutoff\": 10, \"segment_cutoff\": 0.2, \"cutoff\": \"10+ min & 20.0%+ segments\", \"pct_usable_trips\": 0.9130434782608695}, {\"calitp_itp_id\": 148, \"total_trips\": 232, \"n_trips\": 232, \"trip_cutoff\": 10, \"segment_cutoff\": 0.2, \"cutoff\": \"10+ min & 20.0%+ segments\", \"pct_usable_trips\": 1.0}, {\"calitp_itp_id\": 159, \"total_trips\": 73, \"n_trips\": 62, \"trip_cutoff\": 10, \"segment_cutoff\": 0.2, \"cutoff\": \"10+ min & 20.0%+ segments\", \"pct_usable_trips\": 0.8493150684931506}, {\"calitp_itp_id\": 167, \"total_trips\": 405, \"n_trips\": 404, \"trip_cutoff\": 10, \"segment_cutoff\": 0.2, \"cutoff\": \"10+ min & 20.0%+ segments\", \"pct_usable_trips\": 0.9975308641975309}, {\"calitp_itp_id\": 182, \"total_trips\": 13858, \"n_trips\": 13333, \"trip_cutoff\": 10, \"segment_cutoff\": 0.2, \"cutoff\": \"10+ min & 20.0%+ segments\", \"pct_usable_trips\": 0.9621157454178092}, {\"calitp_itp_id\": 188, \"total_trips\": 20, \"n_trips\": 20, \"trip_cutoff\": 10, \"segment_cutoff\": 0.2, \"cutoff\": \"10+ min & 20.0%+ segments\", \"pct_usable_trips\": 1.0}, {\"calitp_itp_id\": 194, \"total_trips\": 584, \"n_trips\": 531, \"trip_cutoff\": 10, \"segment_cutoff\": 0.2, \"cutoff\": \"10+ min & 20.0%+ segments\", \"pct_usable_trips\": 0.9092465753424658}, {\"calitp_itp_id\": 218, \"total_trips\": 149, \"n_trips\": 132, \"trip_cutoff\": 10, \"segment_cutoff\": 0.2, \"cutoff\": \"10+ min & 20.0%+ segments\", \"pct_usable_trips\": 0.8859060402684564}, {\"calitp_itp_id\": 221, \"total_trips\": 104, \"n_trips\": 95, \"trip_cutoff\": 10, \"segment_cutoff\": 0.2, \"cutoff\": \"10+ min & 20.0%+ segments\", \"pct_usable_trips\": 0.9134615384615384}, {\"calitp_itp_id\": 226, \"total_trips\": 1293, \"n_trips\": 1291, \"trip_cutoff\": 10, \"segment_cutoff\": 0.2, \"cutoff\": \"10+ min & 20.0%+ segments\", \"pct_usable_trips\": 0.9984532095901005}, {\"calitp_itp_id\": 235, \"total_trips\": 3175, \"n_trips\": 3165, \"trip_cutoff\": 10, \"segment_cutoff\": 0.2, \"cutoff\": \"10+ min & 20.0%+ segments\", \"pct_usable_trips\": 0.9968503937007874}, {\"calitp_itp_id\": 243, \"total_trips\": 315, \"n_trips\": 313, \"trip_cutoff\": 10, \"segment_cutoff\": 0.2, \"cutoff\": \"10+ min & 20.0%+ segments\", \"pct_usable_trips\": 0.9936507936507937}, {\"calitp_itp_id\": 246, \"total_trips\": 79, \"n_trips\": 78, \"trip_cutoff\": 10, \"segment_cutoff\": 0.2, \"cutoff\": \"10+ min & 20.0%+ segments\", \"pct_usable_trips\": 0.9873417721518988}, {\"calitp_itp_id\": 247, \"total_trips\": 186, \"n_trips\": 132, \"trip_cutoff\": 10, \"segment_cutoff\": 0.2, \"cutoff\": \"10+ min & 20.0%+ segments\", \"pct_usable_trips\": 0.7096774193548387}, {\"calitp_itp_id\": 259, \"total_trips\": 253, \"n_trips\": 250, \"trip_cutoff\": 10, \"segment_cutoff\": 0.2, \"cutoff\": \"10+ min & 20.0%+ segments\", \"pct_usable_trips\": 0.9881422924901185}, {\"calitp_itp_id\": 269, \"total_trips\": 1097, \"n_trips\": 1094, \"trip_cutoff\": 10, \"segment_cutoff\": 0.2, \"cutoff\": \"10+ min & 20.0%+ segments\", \"pct_usable_trips\": 0.9972652689152234}, {\"calitp_itp_id\": 273, \"total_trips\": 1775, \"n_trips\": 1721, \"trip_cutoff\": 10, \"segment_cutoff\": 0.2, \"cutoff\": \"10+ min & 20.0%+ segments\", \"pct_usable_trips\": 0.9695774647887324}, {\"calitp_itp_id\": 282, \"total_trips\": 8578, \"n_trips\": 8233, \"trip_cutoff\": 10, \"segment_cutoff\": 0.2, \"cutoff\": \"10+ min & 20.0%+ segments\", \"pct_usable_trips\": 0.9597808346934017}, {\"calitp_itp_id\": 284, \"total_trips\": 852, \"n_trips\": 837, \"trip_cutoff\": 10, \"segment_cutoff\": 0.2, \"cutoff\": \"10+ min & 20.0%+ segments\", \"pct_usable_trips\": 0.9823943661971831}, {\"calitp_itp_id\": 290, \"total_trips\": 1372, \"n_trips\": 1353, \"trip_cutoff\": 10, \"segment_cutoff\": 0.2, \"cutoff\": \"10+ min & 20.0%+ segments\", \"pct_usable_trips\": 0.9861516034985423}, {\"calitp_itp_id\": 293, \"total_trips\": 940, \"n_trips\": 878, \"trip_cutoff\": 10, \"segment_cutoff\": 0.2, \"cutoff\": \"10+ min & 20.0%+ segments\", \"pct_usable_trips\": 0.9340425531914893}, {\"calitp_itp_id\": 294, \"total_trips\": 3512, \"n_trips\": 3413, \"trip_cutoff\": 10, \"segment_cutoff\": 0.2, \"cutoff\": \"10+ min & 20.0%+ segments\", \"pct_usable_trips\": 0.9718109339407744}, {\"calitp_itp_id\": 295, \"total_trips\": 416, \"n_trips\": 411, \"trip_cutoff\": 10, \"segment_cutoff\": 0.2, \"cutoff\": \"10+ min & 20.0%+ segments\", \"pct_usable_trips\": 0.9879807692307693}, {\"calitp_itp_id\": 300, \"total_trips\": 1338, \"n_trips\": 1315, \"trip_cutoff\": 10, \"segment_cutoff\": 0.2, \"cutoff\": \"10+ min & 20.0%+ segments\", \"pct_usable_trips\": 0.9828101644245142}, {\"calitp_itp_id\": 301, \"total_trips\": 517, \"n_trips\": 489, \"trip_cutoff\": 10, \"segment_cutoff\": 0.2, \"cutoff\": \"10+ min & 20.0%+ segments\", \"pct_usable_trips\": 0.9458413926499033}, {\"calitp_itp_id\": 310, \"total_trips\": 401, \"n_trips\": 387, \"trip_cutoff\": 10, \"segment_cutoff\": 0.2, \"cutoff\": \"10+ min & 20.0%+ segments\", \"pct_usable_trips\": 0.9650872817955112}, {\"calitp_itp_id\": 314, \"total_trips\": 166, \"n_trips\": 153, \"trip_cutoff\": 10, \"segment_cutoff\": 0.2, \"cutoff\": \"10+ min & 20.0%+ segments\", \"pct_usable_trips\": 0.9216867469879518}, {\"calitp_itp_id\": 315, \"total_trips\": 38, \"n_trips\": 38, \"trip_cutoff\": 10, \"segment_cutoff\": 0.2, \"cutoff\": \"10+ min & 20.0%+ segments\", \"pct_usable_trips\": 1.0}, {\"calitp_itp_id\": 336, \"total_trips\": 490, \"n_trips\": 484, \"trip_cutoff\": 10, \"segment_cutoff\": 0.2, \"cutoff\": \"10+ min & 20.0%+ segments\", \"pct_usable_trips\": 0.9877551020408163}, {\"calitp_itp_id\": 349, \"total_trips\": 270, \"n_trips\": 234, \"trip_cutoff\": 10, \"segment_cutoff\": 0.2, \"cutoff\": \"10+ min & 20.0%+ segments\", \"pct_usable_trips\": 0.8666666666666667}, {\"calitp_itp_id\": 350, \"total_trips\": 219, \"n_trips\": 215, \"trip_cutoff\": 10, \"segment_cutoff\": 0.2, \"cutoff\": \"10+ min & 20.0%+ segments\", \"pct_usable_trips\": 0.9817351598173516}, {\"calitp_itp_id\": 361, \"total_trips\": 525, \"n_trips\": 519, \"trip_cutoff\": 10, \"segment_cutoff\": 0.2, \"cutoff\": \"10+ min & 20.0%+ segments\", \"pct_usable_trips\": 0.9885714285714285}, {\"calitp_itp_id\": 372, \"total_trips\": 161, \"n_trips\": 151, \"trip_cutoff\": 10, \"segment_cutoff\": 0.2, \"cutoff\": \"10+ min & 20.0%+ segments\", \"pct_usable_trips\": 0.937888198757764}, {\"calitp_itp_id\": 4, \"total_trips\": 5206, \"n_trips\": 5166, \"trip_cutoff\": 10, \"segment_cutoff\": 0.25, \"cutoff\": \"10+ min & 25.0%+ segments\", \"pct_usable_trips\": 0.9923165578179024}, {\"calitp_itp_id\": 30, \"total_trips\": 44, \"n_trips\": 42, \"trip_cutoff\": 10, \"segment_cutoff\": 0.25, \"cutoff\": \"10+ min & 25.0%+ segments\", \"pct_usable_trips\": 0.9545454545454546}, {\"calitp_itp_id\": 45, \"total_trips\": 91, \"n_trips\": 87, \"trip_cutoff\": 10, \"segment_cutoff\": 0.25, \"cutoff\": \"10+ min & 25.0%+ segments\", \"pct_usable_trips\": 0.9560439560439561}, {\"calitp_itp_id\": 75, \"total_trips\": 112, \"n_trips\": 108, \"trip_cutoff\": 10, \"segment_cutoff\": 0.25, \"cutoff\": \"10+ min & 25.0%+ segments\", \"pct_usable_trips\": 0.9642857142857143}, {\"calitp_itp_id\": 110, \"total_trips\": 278, \"n_trips\": 277, \"trip_cutoff\": 10, \"segment_cutoff\": 0.25, \"cutoff\": \"10+ min & 25.0%+ segments\", \"pct_usable_trips\": 0.9964028776978417}, {\"calitp_itp_id\": 126, \"total_trips\": 566, \"n_trips\": 565, \"trip_cutoff\": 10, \"segment_cutoff\": 0.25, \"cutoff\": \"10+ min & 25.0%+ segments\", \"pct_usable_trips\": 0.9982332155477032}, {\"calitp_itp_id\": 127, \"total_trips\": 203, \"n_trips\": 203, \"trip_cutoff\": 10, \"segment_cutoff\": 0.25, \"cutoff\": \"10+ min & 25.0%+ segments\", \"pct_usable_trips\": 1.0}, {\"calitp_itp_id\": 135, \"total_trips\": 115, \"n_trips\": 105, \"trip_cutoff\": 10, \"segment_cutoff\": 0.25, \"cutoff\": \"10+ min & 25.0%+ segments\", \"pct_usable_trips\": 0.9130434782608695}, {\"calitp_itp_id\": 148, \"total_trips\": 232, \"n_trips\": 232, \"trip_cutoff\": 10, \"segment_cutoff\": 0.25, \"cutoff\": \"10+ min & 25.0%+ segments\", \"pct_usable_trips\": 1.0}, {\"calitp_itp_id\": 159, \"total_trips\": 73, \"n_trips\": 62, \"trip_cutoff\": 10, \"segment_cutoff\": 0.25, \"cutoff\": \"10+ min & 25.0%+ segments\", \"pct_usable_trips\": 0.8493150684931506}, {\"calitp_itp_id\": 167, \"total_trips\": 405, \"n_trips\": 403, \"trip_cutoff\": 10, \"segment_cutoff\": 0.25, \"cutoff\": \"10+ min & 25.0%+ segments\", \"pct_usable_trips\": 0.9950617283950617}, {\"calitp_itp_id\": 182, \"total_trips\": 13858, \"n_trips\": 13290, \"trip_cutoff\": 10, \"segment_cutoff\": 0.25, \"cutoff\": \"10+ min & 25.0%+ segments\", \"pct_usable_trips\": 0.9590128445663155}, {\"calitp_itp_id\": 188, \"total_trips\": 20, \"n_trips\": 20, \"trip_cutoff\": 10, \"segment_cutoff\": 0.25, \"cutoff\": \"10+ min & 25.0%+ segments\", \"pct_usable_trips\": 1.0}, {\"calitp_itp_id\": 194, \"total_trips\": 584, \"n_trips\": 530, \"trip_cutoff\": 10, \"segment_cutoff\": 0.25, \"cutoff\": \"10+ min & 25.0%+ segments\", \"pct_usable_trips\": 0.9075342465753424}, {\"calitp_itp_id\": 218, \"total_trips\": 149, \"n_trips\": 132, \"trip_cutoff\": 10, \"segment_cutoff\": 0.25, \"cutoff\": \"10+ min & 25.0%+ segments\", \"pct_usable_trips\": 0.8859060402684564}, {\"calitp_itp_id\": 221, \"total_trips\": 104, \"n_trips\": 95, \"trip_cutoff\": 10, \"segment_cutoff\": 0.25, \"cutoff\": \"10+ min & 25.0%+ segments\", \"pct_usable_trips\": 0.9134615384615384}, {\"calitp_itp_id\": 226, \"total_trips\": 1293, \"n_trips\": 1290, \"trip_cutoff\": 10, \"segment_cutoff\": 0.25, \"cutoff\": \"10+ min & 25.0%+ segments\", \"pct_usable_trips\": 0.9976798143851509}, {\"calitp_itp_id\": 235, \"total_trips\": 3175, \"n_trips\": 3165, \"trip_cutoff\": 10, \"segment_cutoff\": 0.25, \"cutoff\": \"10+ min & 25.0%+ segments\", \"pct_usable_trips\": 0.9968503937007874}, {\"calitp_itp_id\": 243, \"total_trips\": 315, \"n_trips\": 313, \"trip_cutoff\": 10, \"segment_cutoff\": 0.25, \"cutoff\": \"10+ min & 25.0%+ segments\", \"pct_usable_trips\": 0.9936507936507937}, {\"calitp_itp_id\": 246, \"total_trips\": 79, \"n_trips\": 78, \"trip_cutoff\": 10, \"segment_cutoff\": 0.25, \"cutoff\": \"10+ min & 25.0%+ segments\", \"pct_usable_trips\": 0.9873417721518988}, {\"calitp_itp_id\": 247, \"total_trips\": 186, \"n_trips\": 131, \"trip_cutoff\": 10, \"segment_cutoff\": 0.25, \"cutoff\": \"10+ min & 25.0%+ segments\", \"pct_usable_trips\": 0.7043010752688172}, {\"calitp_itp_id\": 259, \"total_trips\": 253, \"n_trips\": 250, \"trip_cutoff\": 10, \"segment_cutoff\": 0.25, \"cutoff\": \"10+ min & 25.0%+ segments\", \"pct_usable_trips\": 0.9881422924901185}, {\"calitp_itp_id\": 269, \"total_trips\": 1097, \"n_trips\": 1093, \"trip_cutoff\": 10, \"segment_cutoff\": 0.25, \"cutoff\": \"10+ min & 25.0%+ segments\", \"pct_usable_trips\": 0.9963536918869644}, {\"calitp_itp_id\": 273, \"total_trips\": 1775, \"n_trips\": 1719, \"trip_cutoff\": 10, \"segment_cutoff\": 0.25, \"cutoff\": \"10+ min & 25.0%+ segments\", \"pct_usable_trips\": 0.9684507042253521}, {\"calitp_itp_id\": 282, \"total_trips\": 8578, \"n_trips\": 8205, \"trip_cutoff\": 10, \"segment_cutoff\": 0.25, \"cutoff\": \"10+ min & 25.0%+ segments\", \"pct_usable_trips\": 0.9565166705525764}, {\"calitp_itp_id\": 284, \"total_trips\": 852, \"n_trips\": 837, \"trip_cutoff\": 10, \"segment_cutoff\": 0.25, \"cutoff\": \"10+ min & 25.0%+ segments\", \"pct_usable_trips\": 0.9823943661971831}, {\"calitp_itp_id\": 290, \"total_trips\": 1372, \"n_trips\": 1353, \"trip_cutoff\": 10, \"segment_cutoff\": 0.25, \"cutoff\": \"10+ min & 25.0%+ segments\", \"pct_usable_trips\": 0.9861516034985423}, {\"calitp_itp_id\": 293, \"total_trips\": 940, \"n_trips\": 878, \"trip_cutoff\": 10, \"segment_cutoff\": 0.25, \"cutoff\": \"10+ min & 25.0%+ segments\", \"pct_usable_trips\": 0.9340425531914893}, {\"calitp_itp_id\": 294, \"total_trips\": 3512, \"n_trips\": 3409, \"trip_cutoff\": 10, \"segment_cutoff\": 0.25, \"cutoff\": \"10+ min & 25.0%+ segments\", \"pct_usable_trips\": 0.9706719817767654}, {\"calitp_itp_id\": 295, \"total_trips\": 416, \"n_trips\": 411, \"trip_cutoff\": 10, \"segment_cutoff\": 0.25, \"cutoff\": \"10+ min & 25.0%+ segments\", \"pct_usable_trips\": 0.9879807692307693}, {\"calitp_itp_id\": 300, \"total_trips\": 1338, \"n_trips\": 1312, \"trip_cutoff\": 10, \"segment_cutoff\": 0.25, \"cutoff\": \"10+ min & 25.0%+ segments\", \"pct_usable_trips\": 0.9805680119581465}, {\"calitp_itp_id\": 301, \"total_trips\": 517, \"n_trips\": 489, \"trip_cutoff\": 10, \"segment_cutoff\": 0.25, \"cutoff\": \"10+ min & 25.0%+ segments\", \"pct_usable_trips\": 0.9458413926499033}, {\"calitp_itp_id\": 310, \"total_trips\": 401, \"n_trips\": 387, \"trip_cutoff\": 10, \"segment_cutoff\": 0.25, \"cutoff\": \"10+ min & 25.0%+ segments\", \"pct_usable_trips\": 0.9650872817955112}, {\"calitp_itp_id\": 314, \"total_trips\": 166, \"n_trips\": 150, \"trip_cutoff\": 10, \"segment_cutoff\": 0.25, \"cutoff\": \"10+ min & 25.0%+ segments\", \"pct_usable_trips\": 0.9036144578313253}, {\"calitp_itp_id\": 315, \"total_trips\": 38, \"n_trips\": 37, \"trip_cutoff\": 10, \"segment_cutoff\": 0.25, \"cutoff\": \"10+ min & 25.0%+ segments\", \"pct_usable_trips\": 0.9736842105263158}, {\"calitp_itp_id\": 336, \"total_trips\": 490, \"n_trips\": 484, \"trip_cutoff\": 10, \"segment_cutoff\": 0.25, \"cutoff\": \"10+ min & 25.0%+ segments\", \"pct_usable_trips\": 0.9877551020408163}, {\"calitp_itp_id\": 349, \"total_trips\": 270, \"n_trips\": 234, \"trip_cutoff\": 10, \"segment_cutoff\": 0.25, \"cutoff\": \"10+ min & 25.0%+ segments\", \"pct_usable_trips\": 0.8666666666666667}, {\"calitp_itp_id\": 350, \"total_trips\": 219, \"n_trips\": 215, \"trip_cutoff\": 10, \"segment_cutoff\": 0.25, \"cutoff\": \"10+ min & 25.0%+ segments\", \"pct_usable_trips\": 0.9817351598173516}, {\"calitp_itp_id\": 361, \"total_trips\": 525, \"n_trips\": 519, \"trip_cutoff\": 10, \"segment_cutoff\": 0.25, \"cutoff\": \"10+ min & 25.0%+ segments\", \"pct_usable_trips\": 0.9885714285714285}, {\"calitp_itp_id\": 372, \"total_trips\": 161, \"n_trips\": 149, \"trip_cutoff\": 10, \"segment_cutoff\": 0.25, \"cutoff\": \"10+ min & 25.0%+ segments\", \"pct_usable_trips\": 0.9254658385093167}, {\"calitp_itp_id\": 4, \"total_trips\": 5206, \"n_trips\": 5163, \"trip_cutoff\": 10, \"segment_cutoff\": 0.3, \"cutoff\": \"10+ min & 30.0%+ segments\", \"pct_usable_trips\": 0.9917402996542451}, {\"calitp_itp_id\": 30, \"total_trips\": 44, \"n_trips\": 42, \"trip_cutoff\": 10, \"segment_cutoff\": 0.3, \"cutoff\": \"10+ min & 30.0%+ segments\", \"pct_usable_trips\": 0.9545454545454546}, {\"calitp_itp_id\": 45, \"total_trips\": 91, \"n_trips\": 87, \"trip_cutoff\": 10, \"segment_cutoff\": 0.3, \"cutoff\": \"10+ min & 30.0%+ segments\", \"pct_usable_trips\": 0.9560439560439561}, {\"calitp_itp_id\": 75, \"total_trips\": 112, \"n_trips\": 108, \"trip_cutoff\": 10, \"segment_cutoff\": 0.3, \"cutoff\": \"10+ min & 30.0%+ segments\", \"pct_usable_trips\": 0.9642857142857143}, {\"calitp_itp_id\": 110, \"total_trips\": 278, \"n_trips\": 277, \"trip_cutoff\": 10, \"segment_cutoff\": 0.3, \"cutoff\": \"10+ min & 30.0%+ segments\", \"pct_usable_trips\": 0.9964028776978417}, {\"calitp_itp_id\": 126, \"total_trips\": 566, \"n_trips\": 563, \"trip_cutoff\": 10, \"segment_cutoff\": 0.3, \"cutoff\": \"10+ min & 30.0%+ segments\", \"pct_usable_trips\": 0.9946996466431095}, {\"calitp_itp_id\": 127, \"total_trips\": 203, \"n_trips\": 202, \"trip_cutoff\": 10, \"segment_cutoff\": 0.3, \"cutoff\": \"10+ min & 30.0%+ segments\", \"pct_usable_trips\": 0.9950738916256158}, {\"calitp_itp_id\": 135, \"total_trips\": 115, \"n_trips\": 104, \"trip_cutoff\": 10, \"segment_cutoff\": 0.3, \"cutoff\": \"10+ min & 30.0%+ segments\", \"pct_usable_trips\": 0.9043478260869565}, {\"calitp_itp_id\": 148, \"total_trips\": 232, \"n_trips\": 232, \"trip_cutoff\": 10, \"segment_cutoff\": 0.3, \"cutoff\": \"10+ min & 30.0%+ segments\", \"pct_usable_trips\": 1.0}, {\"calitp_itp_id\": 159, \"total_trips\": 73, \"n_trips\": 62, \"trip_cutoff\": 10, \"segment_cutoff\": 0.3, \"cutoff\": \"10+ min & 30.0%+ segments\", \"pct_usable_trips\": 0.8493150684931506}, {\"calitp_itp_id\": 167, \"total_trips\": 405, \"n_trips\": 401, \"trip_cutoff\": 10, \"segment_cutoff\": 0.3, \"cutoff\": \"10+ min & 30.0%+ segments\", \"pct_usable_trips\": 0.9901234567901235}, {\"calitp_itp_id\": 182, \"total_trips\": 13858, \"n_trips\": 13242, \"trip_cutoff\": 10, \"segment_cutoff\": 0.3, \"cutoff\": \"10+ min & 30.0%+ segments\", \"pct_usable_trips\": 0.9555491412902295}, {\"calitp_itp_id\": 188, \"total_trips\": 20, \"n_trips\": 20, \"trip_cutoff\": 10, \"segment_cutoff\": 0.3, \"cutoff\": \"10+ min & 30.0%+ segments\", \"pct_usable_trips\": 1.0}, {\"calitp_itp_id\": 194, \"total_trips\": 584, \"n_trips\": 528, \"trip_cutoff\": 10, \"segment_cutoff\": 0.3, \"cutoff\": \"10+ min & 30.0%+ segments\", \"pct_usable_trips\": 0.9041095890410958}, {\"calitp_itp_id\": 218, \"total_trips\": 149, \"n_trips\": 132, \"trip_cutoff\": 10, \"segment_cutoff\": 0.3, \"cutoff\": \"10+ min & 30.0%+ segments\", \"pct_usable_trips\": 0.8859060402684564}, {\"calitp_itp_id\": 221, \"total_trips\": 104, \"n_trips\": 95, \"trip_cutoff\": 10, \"segment_cutoff\": 0.3, \"cutoff\": \"10+ min & 30.0%+ segments\", \"pct_usable_trips\": 0.9134615384615384}, {\"calitp_itp_id\": 226, \"total_trips\": 1293, \"n_trips\": 1290, \"trip_cutoff\": 10, \"segment_cutoff\": 0.3, \"cutoff\": \"10+ min & 30.0%+ segments\", \"pct_usable_trips\": 0.9976798143851509}, {\"calitp_itp_id\": 235, \"total_trips\": 3175, \"n_trips\": 3159, \"trip_cutoff\": 10, \"segment_cutoff\": 0.3, \"cutoff\": \"10+ min & 30.0%+ segments\", \"pct_usable_trips\": 0.9949606299212599}, {\"calitp_itp_id\": 243, \"total_trips\": 315, \"n_trips\": 311, \"trip_cutoff\": 10, \"segment_cutoff\": 0.3, \"cutoff\": \"10+ min & 30.0%+ segments\", \"pct_usable_trips\": 0.9873015873015873}, {\"calitp_itp_id\": 246, \"total_trips\": 79, \"n_trips\": 78, \"trip_cutoff\": 10, \"segment_cutoff\": 0.3, \"cutoff\": \"10+ min & 30.0%+ segments\", \"pct_usable_trips\": 0.9873417721518988}, {\"calitp_itp_id\": 247, \"total_trips\": 186, \"n_trips\": 131, \"trip_cutoff\": 10, \"segment_cutoff\": 0.3, \"cutoff\": \"10+ min & 30.0%+ segments\", \"pct_usable_trips\": 0.7043010752688172}, {\"calitp_itp_id\": 259, \"total_trips\": 253, \"n_trips\": 250, \"trip_cutoff\": 10, \"segment_cutoff\": 0.3, \"cutoff\": \"10+ min & 30.0%+ segments\", \"pct_usable_trips\": 0.9881422924901185}, {\"calitp_itp_id\": 269, \"total_trips\": 1097, \"n_trips\": 1091, \"trip_cutoff\": 10, \"segment_cutoff\": 0.3, \"cutoff\": \"10+ min & 30.0%+ segments\", \"pct_usable_trips\": 0.9945305378304466}, {\"calitp_itp_id\": 273, \"total_trips\": 1775, \"n_trips\": 1716, \"trip_cutoff\": 10, \"segment_cutoff\": 0.3, \"cutoff\": \"10+ min & 30.0%+ segments\", \"pct_usable_trips\": 0.9667605633802817}, {\"calitp_itp_id\": 282, \"total_trips\": 8578, \"n_trips\": 8179, \"trip_cutoff\": 10, \"segment_cutoff\": 0.3, \"cutoff\": \"10+ min & 30.0%+ segments\", \"pct_usable_trips\": 0.9534856609932385}, {\"calitp_itp_id\": 284, \"total_trips\": 852, \"n_trips\": 837, \"trip_cutoff\": 10, \"segment_cutoff\": 0.3, \"cutoff\": \"10+ min & 30.0%+ segments\", \"pct_usable_trips\": 0.9823943661971831}, {\"calitp_itp_id\": 290, \"total_trips\": 1372, \"n_trips\": 1352, \"trip_cutoff\": 10, \"segment_cutoff\": 0.3, \"cutoff\": \"10+ min & 30.0%+ segments\", \"pct_usable_trips\": 0.9854227405247813}, {\"calitp_itp_id\": 293, \"total_trips\": 940, \"n_trips\": 878, \"trip_cutoff\": 10, \"segment_cutoff\": 0.3, \"cutoff\": \"10+ min & 30.0%+ segments\", \"pct_usable_trips\": 0.9340425531914893}, {\"calitp_itp_id\": 294, \"total_trips\": 3512, \"n_trips\": 3405, \"trip_cutoff\": 10, \"segment_cutoff\": 0.3, \"cutoff\": \"10+ min & 30.0%+ segments\", \"pct_usable_trips\": 0.9695330296127562}, {\"calitp_itp_id\": 295, \"total_trips\": 416, \"n_trips\": 410, \"trip_cutoff\": 10, \"segment_cutoff\": 0.3, \"cutoff\": \"10+ min & 30.0%+ segments\", \"pct_usable_trips\": 0.9855769230769231}, {\"calitp_itp_id\": 300, \"total_trips\": 1338, \"n_trips\": 1308, \"trip_cutoff\": 10, \"segment_cutoff\": 0.3, \"cutoff\": \"10+ min & 30.0%+ segments\", \"pct_usable_trips\": 0.9775784753363229}, {\"calitp_itp_id\": 301, \"total_trips\": 517, \"n_trips\": 489, \"trip_cutoff\": 10, \"segment_cutoff\": 0.3, \"cutoff\": \"10+ min & 30.0%+ segments\", \"pct_usable_trips\": 0.9458413926499033}, {\"calitp_itp_id\": 310, \"total_trips\": 401, \"n_trips\": 387, \"trip_cutoff\": 10, \"segment_cutoff\": 0.3, \"cutoff\": \"10+ min & 30.0%+ segments\", \"pct_usable_trips\": 0.9650872817955112}, {\"calitp_itp_id\": 314, \"total_trips\": 166, \"n_trips\": 150, \"trip_cutoff\": 10, \"segment_cutoff\": 0.3, \"cutoff\": \"10+ min & 30.0%+ segments\", \"pct_usable_trips\": 0.9036144578313253}, {\"calitp_itp_id\": 315, \"total_trips\": 38, \"n_trips\": 37, \"trip_cutoff\": 10, \"segment_cutoff\": 0.3, \"cutoff\": \"10+ min & 30.0%+ segments\", \"pct_usable_trips\": 0.9736842105263158}, {\"calitp_itp_id\": 336, \"total_trips\": 490, \"n_trips\": 484, \"trip_cutoff\": 10, \"segment_cutoff\": 0.3, \"cutoff\": \"10+ min & 30.0%+ segments\", \"pct_usable_trips\": 0.9877551020408163}, {\"calitp_itp_id\": 349, \"total_trips\": 270, \"n_trips\": 234, \"trip_cutoff\": 10, \"segment_cutoff\": 0.3, \"cutoff\": \"10+ min & 30.0%+ segments\", \"pct_usable_trips\": 0.8666666666666667}, {\"calitp_itp_id\": 350, \"total_trips\": 219, \"n_trips\": 215, \"trip_cutoff\": 10, \"segment_cutoff\": 0.3, \"cutoff\": \"10+ min & 30.0%+ segments\", \"pct_usable_trips\": 0.9817351598173516}, {\"calitp_itp_id\": 361, \"total_trips\": 525, \"n_trips\": 518, \"trip_cutoff\": 10, \"segment_cutoff\": 0.3, \"cutoff\": \"10+ min & 30.0%+ segments\", \"pct_usable_trips\": 0.9866666666666667}, {\"calitp_itp_id\": 372, \"total_trips\": 161, \"n_trips\": 149, \"trip_cutoff\": 10, \"segment_cutoff\": 0.3, \"cutoff\": \"10+ min & 30.0%+ segments\", \"pct_usable_trips\": 0.9254658385093167}, {\"calitp_itp_id\": 4, \"total_trips\": 5206, \"n_trips\": 5142, \"trip_cutoff\": 10, \"segment_cutoff\": 0.4, \"cutoff\": \"10+ min & 40.0%+ segments\", \"pct_usable_trips\": 0.9877064925086438}, {\"calitp_itp_id\": 30, \"total_trips\": 44, \"n_trips\": 39, \"trip_cutoff\": 10, \"segment_cutoff\": 0.4, \"cutoff\": \"10+ min & 40.0%+ segments\", \"pct_usable_trips\": 0.8863636363636364}, {\"calitp_itp_id\": 45, \"total_trips\": 91, \"n_trips\": 87, \"trip_cutoff\": 10, \"segment_cutoff\": 0.4, \"cutoff\": \"10+ min & 40.0%+ segments\", \"pct_usable_trips\": 0.9560439560439561}, {\"calitp_itp_id\": 75, \"total_trips\": 112, \"n_trips\": 108, \"trip_cutoff\": 10, \"segment_cutoff\": 0.4, \"cutoff\": \"10+ min & 40.0%+ segments\", \"pct_usable_trips\": 0.9642857142857143}, {\"calitp_itp_id\": 110, \"total_trips\": 278, \"n_trips\": 277, \"trip_cutoff\": 10, \"segment_cutoff\": 0.4, \"cutoff\": \"10+ min & 40.0%+ segments\", \"pct_usable_trips\": 0.9964028776978417}, {\"calitp_itp_id\": 126, \"total_trips\": 566, \"n_trips\": 562, \"trip_cutoff\": 10, \"segment_cutoff\": 0.4, \"cutoff\": \"10+ min & 40.0%+ segments\", \"pct_usable_trips\": 0.9929328621908127}, {\"calitp_itp_id\": 127, \"total_trips\": 203, \"n_trips\": 195, \"trip_cutoff\": 10, \"segment_cutoff\": 0.4, \"cutoff\": \"10+ min & 40.0%+ segments\", \"pct_usable_trips\": 0.9605911330049262}, {\"calitp_itp_id\": 135, \"total_trips\": 115, \"n_trips\": 102, \"trip_cutoff\": 10, \"segment_cutoff\": 0.4, \"cutoff\": \"10+ min & 40.0%+ segments\", \"pct_usable_trips\": 0.8869565217391304}, {\"calitp_itp_id\": 148, \"total_trips\": 232, \"n_trips\": 231, \"trip_cutoff\": 10, \"segment_cutoff\": 0.4, \"cutoff\": \"10+ min & 40.0%+ segments\", \"pct_usable_trips\": 0.9956896551724138}, {\"calitp_itp_id\": 159, \"total_trips\": 73, \"n_trips\": 61, \"trip_cutoff\": 10, \"segment_cutoff\": 0.4, \"cutoff\": \"10+ min & 40.0%+ segments\", \"pct_usable_trips\": 0.8356164383561644}, {\"calitp_itp_id\": 167, \"total_trips\": 405, \"n_trips\": 397, \"trip_cutoff\": 10, \"segment_cutoff\": 0.4, \"cutoff\": \"10+ min & 40.0%+ segments\", \"pct_usable_trips\": 0.980246913580247}, {\"calitp_itp_id\": 182, \"total_trips\": 13858, \"n_trips\": 13113, \"trip_cutoff\": 10, \"segment_cutoff\": 0.4, \"cutoff\": \"10+ min & 40.0%+ segments\", \"pct_usable_trips\": 0.9462404387357483}, {\"calitp_itp_id\": 188, \"total_trips\": 20, \"n_trips\": 20, \"trip_cutoff\": 10, \"segment_cutoff\": 0.4, \"cutoff\": \"10+ min & 40.0%+ segments\", \"pct_usable_trips\": 1.0}, {\"calitp_itp_id\": 194, \"total_trips\": 584, \"n_trips\": 497, \"trip_cutoff\": 10, \"segment_cutoff\": 0.4, \"cutoff\": \"10+ min & 40.0%+ segments\", \"pct_usable_trips\": 0.851027397260274}, {\"calitp_itp_id\": 218, \"total_trips\": 149, \"n_trips\": 131, \"trip_cutoff\": 10, \"segment_cutoff\": 0.4, \"cutoff\": \"10+ min & 40.0%+ segments\", \"pct_usable_trips\": 0.8791946308724832}, {\"calitp_itp_id\": 221, \"total_trips\": 104, \"n_trips\": 92, \"trip_cutoff\": 10, \"segment_cutoff\": 0.4, \"cutoff\": \"10+ min & 40.0%+ segments\", \"pct_usable_trips\": 0.8846153846153846}, {\"calitp_itp_id\": 226, \"total_trips\": 1293, \"n_trips\": 1288, \"trip_cutoff\": 10, \"segment_cutoff\": 0.4, \"cutoff\": \"10+ min & 40.0%+ segments\", \"pct_usable_trips\": 0.9961330239752514}, {\"calitp_itp_id\": 235, \"total_trips\": 3175, \"n_trips\": 3157, \"trip_cutoff\": 10, \"segment_cutoff\": 0.4, \"cutoff\": \"10+ min & 40.0%+ segments\", \"pct_usable_trips\": 0.9943307086614174}, {\"calitp_itp_id\": 243, \"total_trips\": 315, \"n_trips\": 310, \"trip_cutoff\": 10, \"segment_cutoff\": 0.4, \"cutoff\": \"10+ min & 40.0%+ segments\", \"pct_usable_trips\": 0.9841269841269841}, {\"calitp_itp_id\": 246, \"total_trips\": 79, \"n_trips\": 78, \"trip_cutoff\": 10, \"segment_cutoff\": 0.4, \"cutoff\": \"10+ min & 40.0%+ segments\", \"pct_usable_trips\": 0.9873417721518988}, {\"calitp_itp_id\": 247, \"total_trips\": 186, \"n_trips\": 131, \"trip_cutoff\": 10, \"segment_cutoff\": 0.4, \"cutoff\": \"10+ min & 40.0%+ segments\", \"pct_usable_trips\": 0.7043010752688172}, {\"calitp_itp_id\": 259, \"total_trips\": 253, \"n_trips\": 250, \"trip_cutoff\": 10, \"segment_cutoff\": 0.4, \"cutoff\": \"10+ min & 40.0%+ segments\", \"pct_usable_trips\": 0.9881422924901185}, {\"calitp_itp_id\": 269, \"total_trips\": 1097, \"n_trips\": 1089, \"trip_cutoff\": 10, \"segment_cutoff\": 0.4, \"cutoff\": \"10+ min & 40.0%+ segments\", \"pct_usable_trips\": 0.9927073837739289}, {\"calitp_itp_id\": 273, \"total_trips\": 1775, \"n_trips\": 1712, \"trip_cutoff\": 10, \"segment_cutoff\": 0.4, \"cutoff\": \"10+ min & 40.0%+ segments\", \"pct_usable_trips\": 0.9645070422535211}, {\"calitp_itp_id\": 282, \"total_trips\": 8578, \"n_trips\": 8114, \"trip_cutoff\": 10, \"segment_cutoff\": 0.4, \"cutoff\": \"10+ min & 40.0%+ segments\", \"pct_usable_trips\": 0.945908137094894}, {\"calitp_itp_id\": 284, \"total_trips\": 852, \"n_trips\": 834, \"trip_cutoff\": 10, \"segment_cutoff\": 0.4, \"cutoff\": \"10+ min & 40.0%+ segments\", \"pct_usable_trips\": 0.9788732394366197}, {\"calitp_itp_id\": 290, \"total_trips\": 1372, \"n_trips\": 1347, \"trip_cutoff\": 10, \"segment_cutoff\": 0.4, \"cutoff\": \"10+ min & 40.0%+ segments\", \"pct_usable_trips\": 0.9817784256559767}, {\"calitp_itp_id\": 293, \"total_trips\": 940, \"n_trips\": 877, \"trip_cutoff\": 10, \"segment_cutoff\": 0.4, \"cutoff\": \"10+ min & 40.0%+ segments\", \"pct_usable_trips\": 0.9329787234042554}, {\"calitp_itp_id\": 294, \"total_trips\": 3512, \"n_trips\": 3398, \"trip_cutoff\": 10, \"segment_cutoff\": 0.4, \"cutoff\": \"10+ min & 40.0%+ segments\", \"pct_usable_trips\": 0.9675398633257403}, {\"calitp_itp_id\": 295, \"total_trips\": 416, \"n_trips\": 406, \"trip_cutoff\": 10, \"segment_cutoff\": 0.4, \"cutoff\": \"10+ min & 40.0%+ segments\", \"pct_usable_trips\": 0.9759615384615384}, {\"calitp_itp_id\": 300, \"total_trips\": 1338, \"n_trips\": 1303, \"trip_cutoff\": 10, \"segment_cutoff\": 0.4, \"cutoff\": \"10+ min & 40.0%+ segments\", \"pct_usable_trips\": 0.9738415545590433}, {\"calitp_itp_id\": 301, \"total_trips\": 517, \"n_trips\": 489, \"trip_cutoff\": 10, \"segment_cutoff\": 0.4, \"cutoff\": \"10+ min & 40.0%+ segments\", \"pct_usable_trips\": 0.9458413926499033}, {\"calitp_itp_id\": 310, \"total_trips\": 401, \"n_trips\": 382, \"trip_cutoff\": 10, \"segment_cutoff\": 0.4, \"cutoff\": \"10+ min & 40.0%+ segments\", \"pct_usable_trips\": 0.9526184538653366}, {\"calitp_itp_id\": 314, \"total_trips\": 166, \"n_trips\": 148, \"trip_cutoff\": 10, \"segment_cutoff\": 0.4, \"cutoff\": \"10+ min & 40.0%+ segments\", \"pct_usable_trips\": 0.891566265060241}, {\"calitp_itp_id\": 315, \"total_trips\": 38, \"n_trips\": 37, \"trip_cutoff\": 10, \"segment_cutoff\": 0.4, \"cutoff\": \"10+ min & 40.0%+ segments\", \"pct_usable_trips\": 0.9736842105263158}, {\"calitp_itp_id\": 336, \"total_trips\": 490, \"n_trips\": 479, \"trip_cutoff\": 10, \"segment_cutoff\": 0.4, \"cutoff\": \"10+ min & 40.0%+ segments\", \"pct_usable_trips\": 0.9775510204081632}, {\"calitp_itp_id\": 349, \"total_trips\": 270, \"n_trips\": 234, \"trip_cutoff\": 10, \"segment_cutoff\": 0.4, \"cutoff\": \"10+ min & 40.0%+ segments\", \"pct_usable_trips\": 0.8666666666666667}, {\"calitp_itp_id\": 350, \"total_trips\": 219, \"n_trips\": 215, \"trip_cutoff\": 10, \"segment_cutoff\": 0.4, \"cutoff\": \"10+ min & 40.0%+ segments\", \"pct_usable_trips\": 0.9817351598173516}, {\"calitp_itp_id\": 361, \"total_trips\": 525, \"n_trips\": 517, \"trip_cutoff\": 10, \"segment_cutoff\": 0.4, \"cutoff\": \"10+ min & 40.0%+ segments\", \"pct_usable_trips\": 0.9847619047619047}, {\"calitp_itp_id\": 372, \"total_trips\": 161, \"n_trips\": 149, \"trip_cutoff\": 10, \"segment_cutoff\": 0.4, \"cutoff\": \"10+ min & 40.0%+ segments\", \"pct_usable_trips\": 0.9254658385093167}, {\"calitp_itp_id\": 4, \"total_trips\": 5206, \"n_trips\": 5121, \"trip_cutoff\": 10, \"segment_cutoff\": 0.5, \"cutoff\": \"10+ min & 50.0%+ segments\", \"pct_usable_trips\": 0.9836726853630426}, {\"calitp_itp_id\": 30, \"total_trips\": 44, \"n_trips\": 39, \"trip_cutoff\": 10, \"segment_cutoff\": 0.5, \"cutoff\": \"10+ min & 50.0%+ segments\", \"pct_usable_trips\": 0.8863636363636364}, {\"calitp_itp_id\": 45, \"total_trips\": 91, \"n_trips\": 87, \"trip_cutoff\": 10, \"segment_cutoff\": 0.5, \"cutoff\": \"10+ min & 50.0%+ segments\", \"pct_usable_trips\": 0.9560439560439561}, {\"calitp_itp_id\": 75, \"total_trips\": 112, \"n_trips\": 108, \"trip_cutoff\": 10, \"segment_cutoff\": 0.5, \"cutoff\": \"10+ min & 50.0%+ segments\", \"pct_usable_trips\": 0.9642857142857143}, {\"calitp_itp_id\": 110, \"total_trips\": 278, \"n_trips\": 265, \"trip_cutoff\": 10, \"segment_cutoff\": 0.5, \"cutoff\": \"10+ min & 50.0%+ segments\", \"pct_usable_trips\": 0.9532374100719424}, {\"calitp_itp_id\": 126, \"total_trips\": 566, \"n_trips\": 553, \"trip_cutoff\": 10, \"segment_cutoff\": 0.5, \"cutoff\": \"10+ min & 50.0%+ segments\", \"pct_usable_trips\": 0.9770318021201413}, {\"calitp_itp_id\": 127, \"total_trips\": 203, \"n_trips\": 195, \"trip_cutoff\": 10, \"segment_cutoff\": 0.5, \"cutoff\": \"10+ min & 50.0%+ segments\", \"pct_usable_trips\": 0.9605911330049262}, {\"calitp_itp_id\": 135, \"total_trips\": 115, \"n_trips\": 100, \"trip_cutoff\": 10, \"segment_cutoff\": 0.5, \"cutoff\": \"10+ min & 50.0%+ segments\", \"pct_usable_trips\": 0.8695652173913043}, {\"calitp_itp_id\": 148, \"total_trips\": 232, \"n_trips\": 231, \"trip_cutoff\": 10, \"segment_cutoff\": 0.5, \"cutoff\": \"10+ min & 50.0%+ segments\", \"pct_usable_trips\": 0.9956896551724138}, {\"calitp_itp_id\": 159, \"total_trips\": 73, \"n_trips\": 61, \"trip_cutoff\": 10, \"segment_cutoff\": 0.5, \"cutoff\": \"10+ min & 50.0%+ segments\", \"pct_usable_trips\": 0.8356164383561644}, {\"calitp_itp_id\": 167, \"total_trips\": 405, \"n_trips\": 394, \"trip_cutoff\": 10, \"segment_cutoff\": 0.5, \"cutoff\": \"10+ min & 50.0%+ segments\", \"pct_usable_trips\": 0.9728395061728395}, {\"calitp_itp_id\": 182, \"total_trips\": 13858, \"n_trips\": 12739, \"trip_cutoff\": 10, \"segment_cutoff\": 0.5, \"cutoff\": \"10+ min & 50.0%+ segments\", \"pct_usable_trips\": 0.9192524173762447}, {\"calitp_itp_id\": 188, \"total_trips\": 20, \"n_trips\": 20, \"trip_cutoff\": 10, \"segment_cutoff\": 0.5, \"cutoff\": \"10+ min & 50.0%+ segments\", \"pct_usable_trips\": 1.0}, {\"calitp_itp_id\": 194, \"total_trips\": 584, \"n_trips\": 490, \"trip_cutoff\": 10, \"segment_cutoff\": 0.5, \"cutoff\": \"10+ min & 50.0%+ segments\", \"pct_usable_trips\": 0.839041095890411}, {\"calitp_itp_id\": 218, \"total_trips\": 149, \"n_trips\": 129, \"trip_cutoff\": 10, \"segment_cutoff\": 0.5, \"cutoff\": \"10+ min & 50.0%+ segments\", \"pct_usable_trips\": 0.8657718120805369}, {\"calitp_itp_id\": 221, \"total_trips\": 104, \"n_trips\": 92, \"trip_cutoff\": 10, \"segment_cutoff\": 0.5, \"cutoff\": \"10+ min & 50.0%+ segments\", \"pct_usable_trips\": 0.8846153846153846}, {\"calitp_itp_id\": 226, \"total_trips\": 1293, \"n_trips\": 1282, \"trip_cutoff\": 10, \"segment_cutoff\": 0.5, \"cutoff\": \"10+ min & 50.0%+ segments\", \"pct_usable_trips\": 0.991492652745553}, {\"calitp_itp_id\": 235, \"total_trips\": 3175, \"n_trips\": 3154, \"trip_cutoff\": 10, \"segment_cutoff\": 0.5, \"cutoff\": \"10+ min & 50.0%+ segments\", \"pct_usable_trips\": 0.9933858267716535}, {\"calitp_itp_id\": 243, \"total_trips\": 315, \"n_trips\": 309, \"trip_cutoff\": 10, \"segment_cutoff\": 0.5, \"cutoff\": \"10+ min & 50.0%+ segments\", \"pct_usable_trips\": 0.9809523809523809}, {\"calitp_itp_id\": 246, \"total_trips\": 79, \"n_trips\": 66, \"trip_cutoff\": 10, \"segment_cutoff\": 0.5, \"cutoff\": \"10+ min & 50.0%+ segments\", \"pct_usable_trips\": 0.8354430379746836}, {\"calitp_itp_id\": 247, \"total_trips\": 186, \"n_trips\": 131, \"trip_cutoff\": 10, \"segment_cutoff\": 0.5, \"cutoff\": \"10+ min & 50.0%+ segments\", \"pct_usable_trips\": 0.7043010752688172}, {\"calitp_itp_id\": 259, \"total_trips\": 253, \"n_trips\": 250, \"trip_cutoff\": 10, \"segment_cutoff\": 0.5, \"cutoff\": \"10+ min & 50.0%+ segments\", \"pct_usable_trips\": 0.9881422924901185}, {\"calitp_itp_id\": 269, \"total_trips\": 1097, \"n_trips\": 1086, \"trip_cutoff\": 10, \"segment_cutoff\": 0.5, \"cutoff\": \"10+ min & 50.0%+ segments\", \"pct_usable_trips\": 0.9899726526891522}, {\"calitp_itp_id\": 273, \"total_trips\": 1775, \"n_trips\": 1707, \"trip_cutoff\": 10, \"segment_cutoff\": 0.5, \"cutoff\": \"10+ min & 50.0%+ segments\", \"pct_usable_trips\": 0.9616901408450704}, {\"calitp_itp_id\": 282, \"total_trips\": 8578, \"n_trips\": 7989, \"trip_cutoff\": 10, \"segment_cutoff\": 0.5, \"cutoff\": \"10+ min & 50.0%+ segments\", \"pct_usable_trips\": 0.9313359757519235}, {\"calitp_itp_id\": 284, \"total_trips\": 852, \"n_trips\": 830, \"trip_cutoff\": 10, \"segment_cutoff\": 0.5, \"cutoff\": \"10+ min & 50.0%+ segments\", \"pct_usable_trips\": 0.9741784037558685}, {\"calitp_itp_id\": 290, \"total_trips\": 1372, \"n_trips\": 1325, \"trip_cutoff\": 10, \"segment_cutoff\": 0.5, \"cutoff\": \"10+ min & 50.0%+ segments\", \"pct_usable_trips\": 0.9657434402332361}, {\"calitp_itp_id\": 293, \"total_trips\": 940, \"n_trips\": 871, \"trip_cutoff\": 10, \"segment_cutoff\": 0.5, \"cutoff\": \"10+ min & 50.0%+ segments\", \"pct_usable_trips\": 0.926595744680851}, {\"calitp_itp_id\": 294, \"total_trips\": 3512, \"n_trips\": 3381, \"trip_cutoff\": 10, \"segment_cutoff\": 0.5, \"cutoff\": \"10+ min & 50.0%+ segments\", \"pct_usable_trips\": 0.9626993166287016}, {\"calitp_itp_id\": 295, \"total_trips\": 416, \"n_trips\": 404, \"trip_cutoff\": 10, \"segment_cutoff\": 0.5, \"cutoff\": \"10+ min & 50.0%+ segments\", \"pct_usable_trips\": 0.9711538461538461}, {\"calitp_itp_id\": 300, \"total_trips\": 1338, \"n_trips\": 1294, \"trip_cutoff\": 10, \"segment_cutoff\": 0.5, \"cutoff\": \"10+ min & 50.0%+ segments\", \"pct_usable_trips\": 0.9671150971599403}, {\"calitp_itp_id\": 301, \"total_trips\": 517, \"n_trips\": 486, \"trip_cutoff\": 10, \"segment_cutoff\": 0.5, \"cutoff\": \"10+ min & 50.0%+ segments\", \"pct_usable_trips\": 0.9400386847195358}, {\"calitp_itp_id\": 310, \"total_trips\": 401, \"n_trips\": 354, \"trip_cutoff\": 10, \"segment_cutoff\": 0.5, \"cutoff\": \"10+ min & 50.0%+ segments\", \"pct_usable_trips\": 0.8827930174563591}, {\"calitp_itp_id\": 314, \"total_trips\": 166, \"n_trips\": 141, \"trip_cutoff\": 10, \"segment_cutoff\": 0.5, \"cutoff\": \"10+ min & 50.0%+ segments\", \"pct_usable_trips\": 0.8493975903614458}, {\"calitp_itp_id\": 315, \"total_trips\": 38, \"n_trips\": 37, \"trip_cutoff\": 10, \"segment_cutoff\": 0.5, \"cutoff\": \"10+ min & 50.0%+ segments\", \"pct_usable_trips\": 0.9736842105263158}, {\"calitp_itp_id\": 336, \"total_trips\": 490, \"n_trips\": 476, \"trip_cutoff\": 10, \"segment_cutoff\": 0.5, \"cutoff\": \"10+ min & 50.0%+ segments\", \"pct_usable_trips\": 0.9714285714285714}, {\"calitp_itp_id\": 349, \"total_trips\": 270, \"n_trips\": 234, \"trip_cutoff\": 10, \"segment_cutoff\": 0.5, \"cutoff\": \"10+ min & 50.0%+ segments\", \"pct_usable_trips\": 0.8666666666666667}, {\"calitp_itp_id\": 350, \"total_trips\": 219, \"n_trips\": 215, \"trip_cutoff\": 10, \"segment_cutoff\": 0.5, \"cutoff\": \"10+ min & 50.0%+ segments\", \"pct_usable_trips\": 0.9817351598173516}, {\"calitp_itp_id\": 361, \"total_trips\": 525, \"n_trips\": 516, \"trip_cutoff\": 10, \"segment_cutoff\": 0.5, \"cutoff\": \"10+ min & 50.0%+ segments\", \"pct_usable_trips\": 0.9828571428571429}, {\"calitp_itp_id\": 372, \"total_trips\": 161, \"n_trips\": 148, \"trip_cutoff\": 10, \"segment_cutoff\": 0.5, \"cutoff\": \"10+ min & 50.0%+ segments\", \"pct_usable_trips\": 0.9192546583850931}, {\"calitp_itp_id\": 4, \"total_trips\": 5206, \"n_trips\": 4992, \"trip_cutoff\": 10, \"segment_cutoff\": 0.6, \"cutoff\": \"10+ min & 60.0%+ segments\", \"pct_usable_trips\": 0.958893584325778}, {\"calitp_itp_id\": 30, \"total_trips\": 44, \"n_trips\": 39, \"trip_cutoff\": 10, \"segment_cutoff\": 0.6, \"cutoff\": \"10+ min & 60.0%+ segments\", \"pct_usable_trips\": 0.8863636363636364}, {\"calitp_itp_id\": 45, \"total_trips\": 91, \"n_trips\": 87, \"trip_cutoff\": 10, \"segment_cutoff\": 0.6, \"cutoff\": \"10+ min & 60.0%+ segments\", \"pct_usable_trips\": 0.9560439560439561}, {\"calitp_itp_id\": 75, \"total_trips\": 112, \"n_trips\": 108, \"trip_cutoff\": 10, \"segment_cutoff\": 0.6, \"cutoff\": \"10+ min & 60.0%+ segments\", \"pct_usable_trips\": 0.9642857142857143}, {\"calitp_itp_id\": 110, \"total_trips\": 278, \"n_trips\": 250, \"trip_cutoff\": 10, \"segment_cutoff\": 0.6, \"cutoff\": \"10+ min & 60.0%+ segments\", \"pct_usable_trips\": 0.8992805755395683}, {\"calitp_itp_id\": 126, \"total_trips\": 566, \"n_trips\": 529, \"trip_cutoff\": 10, \"segment_cutoff\": 0.6, \"cutoff\": \"10+ min & 60.0%+ segments\", \"pct_usable_trips\": 0.9346289752650176}, {\"calitp_itp_id\": 127, \"total_trips\": 203, \"n_trips\": 195, \"trip_cutoff\": 10, \"segment_cutoff\": 0.6, \"cutoff\": \"10+ min & 60.0%+ segments\", \"pct_usable_trips\": 0.9605911330049262}, {\"calitp_itp_id\": 135, \"total_trips\": 115, \"n_trips\": 91, \"trip_cutoff\": 10, \"segment_cutoff\": 0.6, \"cutoff\": \"10+ min & 60.0%+ segments\", \"pct_usable_trips\": 0.7913043478260869}, {\"calitp_itp_id\": 148, \"total_trips\": 232, \"n_trips\": 231, \"trip_cutoff\": 10, \"segment_cutoff\": 0.6, \"cutoff\": \"10+ min & 60.0%+ segments\", \"pct_usable_trips\": 0.9956896551724138}, {\"calitp_itp_id\": 159, \"total_trips\": 73, \"n_trips\": 61, \"trip_cutoff\": 10, \"segment_cutoff\": 0.6, \"cutoff\": \"10+ min & 60.0%+ segments\", \"pct_usable_trips\": 0.8356164383561644}, {\"calitp_itp_id\": 167, \"total_trips\": 405, \"n_trips\": 387, \"trip_cutoff\": 10, \"segment_cutoff\": 0.6, \"cutoff\": \"10+ min & 60.0%+ segments\", \"pct_usable_trips\": 0.9555555555555556}, {\"calitp_itp_id\": 182, \"total_trips\": 13858, \"n_trips\": 12211, \"trip_cutoff\": 10, \"segment_cutoff\": 0.6, \"cutoff\": \"10+ min & 60.0%+ segments\", \"pct_usable_trips\": 0.8811516813392986}, {\"calitp_itp_id\": 188, \"total_trips\": 20, \"n_trips\": 20, \"trip_cutoff\": 10, \"segment_cutoff\": 0.6, \"cutoff\": \"10+ min & 60.0%+ segments\", \"pct_usable_trips\": 1.0}, {\"calitp_itp_id\": 194, \"total_trips\": 584, \"n_trips\": 483, \"trip_cutoff\": 10, \"segment_cutoff\": 0.6, \"cutoff\": \"10+ min & 60.0%+ segments\", \"pct_usable_trips\": 0.827054794520548}, {\"calitp_itp_id\": 218, \"total_trips\": 149, \"n_trips\": 128, \"trip_cutoff\": 10, \"segment_cutoff\": 0.6, \"cutoff\": \"10+ min & 60.0%+ segments\", \"pct_usable_trips\": 0.8590604026845637}, {\"calitp_itp_id\": 221, \"total_trips\": 104, \"n_trips\": 90, \"trip_cutoff\": 10, \"segment_cutoff\": 0.6, \"cutoff\": \"10+ min & 60.0%+ segments\", \"pct_usable_trips\": 0.8653846153846154}, {\"calitp_itp_id\": 226, \"total_trips\": 1293, \"n_trips\": 1275, \"trip_cutoff\": 10, \"segment_cutoff\": 0.6, \"cutoff\": \"10+ min & 60.0%+ segments\", \"pct_usable_trips\": 0.9860788863109049}, {\"calitp_itp_id\": 235, \"total_trips\": 3175, \"n_trips\": 3094, \"trip_cutoff\": 10, \"segment_cutoff\": 0.6, \"cutoff\": \"10+ min & 60.0%+ segments\", \"pct_usable_trips\": 0.9744881889763779}, {\"calitp_itp_id\": 243, \"total_trips\": 315, \"n_trips\": 305, \"trip_cutoff\": 10, \"segment_cutoff\": 0.6, \"cutoff\": \"10+ min & 60.0%+ segments\", \"pct_usable_trips\": 0.9682539682539683}, {\"calitp_itp_id\": 246, \"total_trips\": 79, \"n_trips\": 62, \"trip_cutoff\": 10, \"segment_cutoff\": 0.6, \"cutoff\": \"10+ min & 60.0%+ segments\", \"pct_usable_trips\": 0.7848101265822784}, {\"calitp_itp_id\": 247, \"total_trips\": 186, \"n_trips\": 130, \"trip_cutoff\": 10, \"segment_cutoff\": 0.6, \"cutoff\": \"10+ min & 60.0%+ segments\", \"pct_usable_trips\": 0.6989247311827957}, {\"calitp_itp_id\": 259, \"total_trips\": 253, \"n_trips\": 250, \"trip_cutoff\": 10, \"segment_cutoff\": 0.6, \"cutoff\": \"10+ min & 60.0%+ segments\", \"pct_usable_trips\": 0.9881422924901185}, {\"calitp_itp_id\": 269, \"total_trips\": 1097, \"n_trips\": 1083, \"trip_cutoff\": 10, \"segment_cutoff\": 0.6, \"cutoff\": \"10+ min & 60.0%+ segments\", \"pct_usable_trips\": 0.9872379216043756}, {\"calitp_itp_id\": 273, \"total_trips\": 1775, \"n_trips\": 1701, \"trip_cutoff\": 10, \"segment_cutoff\": 0.6, \"cutoff\": \"10+ min & 60.0%+ segments\", \"pct_usable_trips\": 0.9583098591549296}, {\"calitp_itp_id\": 282, \"total_trips\": 8578, \"n_trips\": 7666, \"trip_cutoff\": 10, \"segment_cutoff\": 0.6, \"cutoff\": \"10+ min & 60.0%+ segments\", \"pct_usable_trips\": 0.893681510841688}, {\"calitp_itp_id\": 284, \"total_trips\": 852, \"n_trips\": 821, \"trip_cutoff\": 10, \"segment_cutoff\": 0.6, \"cutoff\": \"10+ min & 60.0%+ segments\", \"pct_usable_trips\": 0.9636150234741784}, {\"calitp_itp_id\": 290, \"total_trips\": 1372, \"n_trips\": 1249, \"trip_cutoff\": 10, \"segment_cutoff\": 0.6, \"cutoff\": \"10+ min & 60.0%+ segments\", \"pct_usable_trips\": 0.9103498542274052}, {\"calitp_itp_id\": 293, \"total_trips\": 940, \"n_trips\": 861, \"trip_cutoff\": 10, \"segment_cutoff\": 0.6, \"cutoff\": \"10+ min & 60.0%+ segments\", \"pct_usable_trips\": 0.9159574468085107}, {\"calitp_itp_id\": 294, \"total_trips\": 3512, \"n_trips\": 3350, \"trip_cutoff\": 10, \"segment_cutoff\": 0.6, \"cutoff\": \"10+ min & 60.0%+ segments\", \"pct_usable_trips\": 0.9538724373576309}, {\"calitp_itp_id\": 295, \"total_trips\": 416, \"n_trips\": 402, \"trip_cutoff\": 10, \"segment_cutoff\": 0.6, \"cutoff\": \"10+ min & 60.0%+ segments\", \"pct_usable_trips\": 0.9663461538461539}, {\"calitp_itp_id\": 300, \"total_trips\": 1338, \"n_trips\": 1242, \"trip_cutoff\": 10, \"segment_cutoff\": 0.6, \"cutoff\": \"10+ min & 60.0%+ segments\", \"pct_usable_trips\": 0.9282511210762332}, {\"calitp_itp_id\": 301, \"total_trips\": 517, \"n_trips\": 438, \"trip_cutoff\": 10, \"segment_cutoff\": 0.6, \"cutoff\": \"10+ min & 60.0%+ segments\", \"pct_usable_trips\": 0.8471953578336557}, {\"calitp_itp_id\": 310, \"total_trips\": 401, \"n_trips\": 340, \"trip_cutoff\": 10, \"segment_cutoff\": 0.6, \"cutoff\": \"10+ min & 60.0%+ segments\", \"pct_usable_trips\": 0.8478802992518704}, {\"calitp_itp_id\": 314, \"total_trips\": 166, \"n_trips\": 133, \"trip_cutoff\": 10, \"segment_cutoff\": 0.6, \"cutoff\": \"10+ min & 60.0%+ segments\", \"pct_usable_trips\": 0.8012048192771084}, {\"calitp_itp_id\": 315, \"total_trips\": 38, \"n_trips\": 37, \"trip_cutoff\": 10, \"segment_cutoff\": 0.6, \"cutoff\": \"10+ min & 60.0%+ segments\", \"pct_usable_trips\": 0.9736842105263158}, {\"calitp_itp_id\": 336, \"total_trips\": 490, \"n_trips\": 476, \"trip_cutoff\": 10, \"segment_cutoff\": 0.6, \"cutoff\": \"10+ min & 60.0%+ segments\", \"pct_usable_trips\": 0.9714285714285714}, {\"calitp_itp_id\": 349, \"total_trips\": 270, \"n_trips\": 234, \"trip_cutoff\": 10, \"segment_cutoff\": 0.6, \"cutoff\": \"10+ min & 60.0%+ segments\", \"pct_usable_trips\": 0.8666666666666667}, {\"calitp_itp_id\": 350, \"total_trips\": 219, \"n_trips\": 215, \"trip_cutoff\": 10, \"segment_cutoff\": 0.6, \"cutoff\": \"10+ min & 60.0%+ segments\", \"pct_usable_trips\": 0.9817351598173516}, {\"calitp_itp_id\": 361, \"total_trips\": 525, \"n_trips\": 515, \"trip_cutoff\": 10, \"segment_cutoff\": 0.6, \"cutoff\": \"10+ min & 60.0%+ segments\", \"pct_usable_trips\": 0.9809523809523809}, {\"calitp_itp_id\": 372, \"total_trips\": 161, \"n_trips\": 146, \"trip_cutoff\": 10, \"segment_cutoff\": 0.6, \"cutoff\": \"10+ min & 60.0%+ segments\", \"pct_usable_trips\": 0.906832298136646}, {\"calitp_itp_id\": 4, \"total_trips\": 5206, \"n_trips\": 4952, \"trip_cutoff\": 10, \"segment_cutoff\": 0.7, \"cutoff\": \"10+ min & 70.0%+ segments\", \"pct_usable_trips\": 0.9512101421436804}, {\"calitp_itp_id\": 30, \"total_trips\": 44, \"n_trips\": 39, \"trip_cutoff\": 10, \"segment_cutoff\": 0.7, \"cutoff\": \"10+ min & 70.0%+ segments\", \"pct_usable_trips\": 0.8863636363636364}, {\"calitp_itp_id\": 45, \"total_trips\": 91, \"n_trips\": 87, \"trip_cutoff\": 10, \"segment_cutoff\": 0.7, \"cutoff\": \"10+ min & 70.0%+ segments\", \"pct_usable_trips\": 0.9560439560439561}, {\"calitp_itp_id\": 75, \"total_trips\": 112, \"n_trips\": 106, \"trip_cutoff\": 10, \"segment_cutoff\": 0.7, \"cutoff\": \"10+ min & 70.0%+ segments\", \"pct_usable_trips\": 0.9464285714285714}, {\"calitp_itp_id\": 110, \"total_trips\": 278, \"n_trips\": 248, \"trip_cutoff\": 10, \"segment_cutoff\": 0.7, \"cutoff\": \"10+ min & 70.0%+ segments\", \"pct_usable_trips\": 0.8920863309352518}, {\"calitp_itp_id\": 126, \"total_trips\": 566, \"n_trips\": 514, \"trip_cutoff\": 10, \"segment_cutoff\": 0.7, \"cutoff\": \"10+ min & 70.0%+ segments\", \"pct_usable_trips\": 0.9081272084805654}, {\"calitp_itp_id\": 127, \"total_trips\": 203, \"n_trips\": 195, \"trip_cutoff\": 10, \"segment_cutoff\": 0.7, \"cutoff\": \"10+ min & 70.0%+ segments\", \"pct_usable_trips\": 0.9605911330049262}, {\"calitp_itp_id\": 135, \"total_trips\": 115, \"n_trips\": 84, \"trip_cutoff\": 10, \"segment_cutoff\": 0.7, \"cutoff\": \"10+ min & 70.0%+ segments\", \"pct_usable_trips\": 0.7304347826086957}, {\"calitp_itp_id\": 148, \"total_trips\": 232, \"n_trips\": 231, \"trip_cutoff\": 10, \"segment_cutoff\": 0.7, \"cutoff\": \"10+ min & 70.0%+ segments\", \"pct_usable_trips\": 0.9956896551724138}, {\"calitp_itp_id\": 159, \"total_trips\": 73, \"n_trips\": 60, \"trip_cutoff\": 10, \"segment_cutoff\": 0.7, \"cutoff\": \"10+ min & 70.0%+ segments\", \"pct_usable_trips\": 0.821917808219178}, {\"calitp_itp_id\": 167, \"total_trips\": 405, \"n_trips\": 381, \"trip_cutoff\": 10, \"segment_cutoff\": 0.7, \"cutoff\": \"10+ min & 70.0%+ segments\", \"pct_usable_trips\": 0.9407407407407408}, {\"calitp_itp_id\": 182, \"total_trips\": 13858, \"n_trips\": 11003, \"trip_cutoff\": 10, \"segment_cutoff\": 0.7, \"cutoff\": \"10+ min & 70.0%+ segments\", \"pct_usable_trips\": 0.7939818155578006}, {\"calitp_itp_id\": 188, \"total_trips\": 20, \"n_trips\": 19, \"trip_cutoff\": 10, \"segment_cutoff\": 0.7, \"cutoff\": \"10+ min & 70.0%+ segments\", \"pct_usable_trips\": 0.95}, {\"calitp_itp_id\": 194, \"total_trips\": 584, \"n_trips\": 466, \"trip_cutoff\": 10, \"segment_cutoff\": 0.7, \"cutoff\": \"10+ min & 70.0%+ segments\", \"pct_usable_trips\": 0.797945205479452}, {\"calitp_itp_id\": 218, \"total_trips\": 149, \"n_trips\": 127, \"trip_cutoff\": 10, \"segment_cutoff\": 0.7, \"cutoff\": \"10+ min & 70.0%+ segments\", \"pct_usable_trips\": 0.8523489932885906}, {\"calitp_itp_id\": 221, \"total_trips\": 104, \"n_trips\": 87, \"trip_cutoff\": 10, \"segment_cutoff\": 0.7, \"cutoff\": \"10+ min & 70.0%+ segments\", \"pct_usable_trips\": 0.8365384615384616}, {\"calitp_itp_id\": 226, \"total_trips\": 1293, \"n_trips\": 1247, \"trip_cutoff\": 10, \"segment_cutoff\": 0.7, \"cutoff\": \"10+ min & 70.0%+ segments\", \"pct_usable_trips\": 0.9644238205723125}, {\"calitp_itp_id\": 235, \"total_trips\": 3175, \"n_trips\": 2905, \"trip_cutoff\": 10, \"segment_cutoff\": 0.7, \"cutoff\": \"10+ min & 70.0%+ segments\", \"pct_usable_trips\": 0.9149606299212598}, {\"calitp_itp_id\": 243, \"total_trips\": 315, \"n_trips\": 304, \"trip_cutoff\": 10, \"segment_cutoff\": 0.7, \"cutoff\": \"10+ min & 70.0%+ segments\", \"pct_usable_trips\": 0.9650793650793651}, {\"calitp_itp_id\": 246, \"total_trips\": 79, \"n_trips\": 47, \"trip_cutoff\": 10, \"segment_cutoff\": 0.7, \"cutoff\": \"10+ min & 70.0%+ segments\", \"pct_usable_trips\": 0.5949367088607594}, {\"calitp_itp_id\": 247, \"total_trips\": 186, \"n_trips\": 129, \"trip_cutoff\": 10, \"segment_cutoff\": 0.7, \"cutoff\": \"10+ min & 70.0%+ segments\", \"pct_usable_trips\": 0.6935483870967742}, {\"calitp_itp_id\": 259, \"total_trips\": 253, \"n_trips\": 250, \"trip_cutoff\": 10, \"segment_cutoff\": 0.7, \"cutoff\": \"10+ min & 70.0%+ segments\", \"pct_usable_trips\": 0.9881422924901185}, {\"calitp_itp_id\": 269, \"total_trips\": 1097, \"n_trips\": 1077, \"trip_cutoff\": 10, \"segment_cutoff\": 0.7, \"cutoff\": \"10+ min & 70.0%+ segments\", \"pct_usable_trips\": 0.9817684594348223}, {\"calitp_itp_id\": 273, \"total_trips\": 1775, \"n_trips\": 1685, \"trip_cutoff\": 10, \"segment_cutoff\": 0.7, \"cutoff\": \"10+ min & 70.0%+ segments\", \"pct_usable_trips\": 0.9492957746478873}, {\"calitp_itp_id\": 282, \"total_trips\": 8578, \"n_trips\": 7444, \"trip_cutoff\": 10, \"segment_cutoff\": 0.7, \"cutoff\": \"10+ min & 70.0%+ segments\", \"pct_usable_trips\": 0.8678013522965726}, {\"calitp_itp_id\": 284, \"total_trips\": 852, \"n_trips\": 765, \"trip_cutoff\": 10, \"segment_cutoff\": 0.7, \"cutoff\": \"10+ min & 70.0%+ segments\", \"pct_usable_trips\": 0.897887323943662}, {\"calitp_itp_id\": 290, \"total_trips\": 1372, \"n_trips\": 1222, \"trip_cutoff\": 10, \"segment_cutoff\": 0.7, \"cutoff\": \"10+ min & 70.0%+ segments\", \"pct_usable_trips\": 0.89067055393586}, {\"calitp_itp_id\": 293, \"total_trips\": 940, \"n_trips\": 844, \"trip_cutoff\": 10, \"segment_cutoff\": 0.7, \"cutoff\": \"10+ min & 70.0%+ segments\", \"pct_usable_trips\": 0.8978723404255319}, {\"calitp_itp_id\": 294, \"total_trips\": 3512, \"n_trips\": 3269, \"trip_cutoff\": 10, \"segment_cutoff\": 0.7, \"cutoff\": \"10+ min & 70.0%+ segments\", \"pct_usable_trips\": 0.9308086560364465}, {\"calitp_itp_id\": 295, \"total_trips\": 416, \"n_trips\": 393, \"trip_cutoff\": 10, \"segment_cutoff\": 0.7, \"cutoff\": \"10+ min & 70.0%+ segments\", \"pct_usable_trips\": 0.9447115384615384}, {\"calitp_itp_id\": 300, \"total_trips\": 1338, \"n_trips\": 1141, \"trip_cutoff\": 10, \"segment_cutoff\": 0.7, \"cutoff\": \"10+ min & 70.0%+ segments\", \"pct_usable_trips\": 0.8527653213751868}, {\"calitp_itp_id\": 301, \"total_trips\": 517, \"n_trips\": 385, \"trip_cutoff\": 10, \"segment_cutoff\": 0.7, \"cutoff\": \"10+ min & 70.0%+ segments\", \"pct_usable_trips\": 0.7446808510638298}, {\"calitp_itp_id\": 310, \"total_trips\": 401, \"n_trips\": 323, \"trip_cutoff\": 10, \"segment_cutoff\": 0.7, \"cutoff\": \"10+ min & 70.0%+ segments\", \"pct_usable_trips\": 0.8054862842892768}, {\"calitp_itp_id\": 314, \"total_trips\": 166, \"n_trips\": 125, \"trip_cutoff\": 10, \"segment_cutoff\": 0.7, \"cutoff\": \"10+ min & 70.0%+ segments\", \"pct_usable_trips\": 0.7530120481927711}, {\"calitp_itp_id\": 315, \"total_trips\": 38, \"n_trips\": 34, \"trip_cutoff\": 10, \"segment_cutoff\": 0.7, \"cutoff\": \"10+ min & 70.0%+ segments\", \"pct_usable_trips\": 0.8947368421052632}, {\"calitp_itp_id\": 336, \"total_trips\": 490, \"n_trips\": 468, \"trip_cutoff\": 10, \"segment_cutoff\": 0.7, \"cutoff\": \"10+ min & 70.0%+ segments\", \"pct_usable_trips\": 0.9551020408163265}, {\"calitp_itp_id\": 349, \"total_trips\": 270, \"n_trips\": 233, \"trip_cutoff\": 10, \"segment_cutoff\": 0.7, \"cutoff\": \"10+ min & 70.0%+ segments\", \"pct_usable_trips\": 0.8629629629629629}, {\"calitp_itp_id\": 350, \"total_trips\": 219, \"n_trips\": 214, \"trip_cutoff\": 10, \"segment_cutoff\": 0.7, \"cutoff\": \"10+ min & 70.0%+ segments\", \"pct_usable_trips\": 0.9771689497716894}, {\"calitp_itp_id\": 361, \"total_trips\": 525, \"n_trips\": 515, \"trip_cutoff\": 10, \"segment_cutoff\": 0.7, \"cutoff\": \"10+ min & 70.0%+ segments\", \"pct_usable_trips\": 0.9809523809523809}, {\"calitp_itp_id\": 372, \"total_trips\": 161, \"n_trips\": 145, \"trip_cutoff\": 10, \"segment_cutoff\": 0.7, \"cutoff\": \"10+ min & 70.0%+ segments\", \"pct_usable_trips\": 0.9006211180124224}, {\"calitp_itp_id\": 4, \"total_trips\": 5206, \"n_trips\": 4927, \"trip_cutoff\": 10, \"segment_cutoff\": 0.75, \"cutoff\": \"10+ min & 75.0%+ segments\", \"pct_usable_trips\": 0.9464079907798694}, {\"calitp_itp_id\": 30, \"total_trips\": 44, \"n_trips\": 32, \"trip_cutoff\": 10, \"segment_cutoff\": 0.75, \"cutoff\": \"10+ min & 75.0%+ segments\", \"pct_usable_trips\": 0.7272727272727273}, {\"calitp_itp_id\": 45, \"total_trips\": 91, \"n_trips\": 87, \"trip_cutoff\": 10, \"segment_cutoff\": 0.75, \"cutoff\": \"10+ min & 75.0%+ segments\", \"pct_usable_trips\": 0.9560439560439561}, {\"calitp_itp_id\": 75, \"total_trips\": 112, \"n_trips\": 106, \"trip_cutoff\": 10, \"segment_cutoff\": 0.75, \"cutoff\": \"10+ min & 75.0%+ segments\", \"pct_usable_trips\": 0.9464285714285714}, {\"calitp_itp_id\": 110, \"total_trips\": 278, \"n_trips\": 248, \"trip_cutoff\": 10, \"segment_cutoff\": 0.75, \"cutoff\": \"10+ min & 75.0%+ segments\", \"pct_usable_trips\": 0.8920863309352518}, {\"calitp_itp_id\": 126, \"total_trips\": 566, \"n_trips\": 513, \"trip_cutoff\": 10, \"segment_cutoff\": 0.75, \"cutoff\": \"10+ min & 75.0%+ segments\", \"pct_usable_trips\": 0.9063604240282686}, {\"calitp_itp_id\": 127, \"total_trips\": 203, \"n_trips\": 195, \"trip_cutoff\": 10, \"segment_cutoff\": 0.75, \"cutoff\": \"10+ min & 75.0%+ segments\", \"pct_usable_trips\": 0.9605911330049262}, {\"calitp_itp_id\": 135, \"total_trips\": 115, \"n_trips\": 82, \"trip_cutoff\": 10, \"segment_cutoff\": 0.75, \"cutoff\": \"10+ min & 75.0%+ segments\", \"pct_usable_trips\": 0.7130434782608696}, {\"calitp_itp_id\": 148, \"total_trips\": 232, \"n_trips\": 231, \"trip_cutoff\": 10, \"segment_cutoff\": 0.75, \"cutoff\": \"10+ min & 75.0%+ segments\", \"pct_usable_trips\": 0.9956896551724138}, {\"calitp_itp_id\": 159, \"total_trips\": 73, \"n_trips\": 60, \"trip_cutoff\": 10, \"segment_cutoff\": 0.75, \"cutoff\": \"10+ min & 75.0%+ segments\", \"pct_usable_trips\": 0.821917808219178}, {\"calitp_itp_id\": 167, \"total_trips\": 405, \"n_trips\": 379, \"trip_cutoff\": 10, \"segment_cutoff\": 0.75, \"cutoff\": \"10+ min & 75.0%+ segments\", \"pct_usable_trips\": 0.9358024691358025}, {\"calitp_itp_id\": 182, \"total_trips\": 13858, \"n_trips\": 10260, \"trip_cutoff\": 10, \"segment_cutoff\": 0.75, \"cutoff\": \"10+ min & 75.0%+ segments\", \"pct_usable_trips\": 0.7403665752633858}, {\"calitp_itp_id\": 188, \"total_trips\": 20, \"n_trips\": 19, \"trip_cutoff\": 10, \"segment_cutoff\": 0.75, \"cutoff\": \"10+ min & 75.0%+ segments\", \"pct_usable_trips\": 0.95}, {\"calitp_itp_id\": 194, \"total_trips\": 584, \"n_trips\": 456, \"trip_cutoff\": 10, \"segment_cutoff\": 0.75, \"cutoff\": \"10+ min & 75.0%+ segments\", \"pct_usable_trips\": 0.7808219178082192}, {\"calitp_itp_id\": 218, \"total_trips\": 149, \"n_trips\": 126, \"trip_cutoff\": 10, \"segment_cutoff\": 0.75, \"cutoff\": \"10+ min & 75.0%+ segments\", \"pct_usable_trips\": 0.8456375838926175}, {\"calitp_itp_id\": 221, \"total_trips\": 104, \"n_trips\": 83, \"trip_cutoff\": 10, \"segment_cutoff\": 0.75, \"cutoff\": \"10+ min & 75.0%+ segments\", \"pct_usable_trips\": 0.7980769230769231}, {\"calitp_itp_id\": 226, \"total_trips\": 1293, \"n_trips\": 1234, \"trip_cutoff\": 10, \"segment_cutoff\": 0.75, \"cutoff\": \"10+ min & 75.0%+ segments\", \"pct_usable_trips\": 0.954369682907966}, {\"calitp_itp_id\": 235, \"total_trips\": 3175, \"n_trips\": 2875, \"trip_cutoff\": 10, \"segment_cutoff\": 0.75, \"cutoff\": \"10+ min & 75.0%+ segments\", \"pct_usable_trips\": 0.905511811023622}, {\"calitp_itp_id\": 243, \"total_trips\": 315, \"n_trips\": 304, \"trip_cutoff\": 10, \"segment_cutoff\": 0.75, \"cutoff\": \"10+ min & 75.0%+ segments\", \"pct_usable_trips\": 0.9650793650793651}, {\"calitp_itp_id\": 246, \"total_trips\": 79, \"n_trips\": 34, \"trip_cutoff\": 10, \"segment_cutoff\": 0.75, \"cutoff\": \"10+ min & 75.0%+ segments\", \"pct_usable_trips\": 0.43037974683544306}, {\"calitp_itp_id\": 247, \"total_trips\": 186, \"n_trips\": 124, \"trip_cutoff\": 10, \"segment_cutoff\": 0.75, \"cutoff\": \"10+ min & 75.0%+ segments\", \"pct_usable_trips\": 0.6666666666666666}, {\"calitp_itp_id\": 259, \"total_trips\": 253, \"n_trips\": 250, \"trip_cutoff\": 10, \"segment_cutoff\": 0.75, \"cutoff\": \"10+ min & 75.0%+ segments\", \"pct_usable_trips\": 0.9881422924901185}, {\"calitp_itp_id\": 269, \"total_trips\": 1097, \"n_trips\": 1073, \"trip_cutoff\": 10, \"segment_cutoff\": 0.75, \"cutoff\": \"10+ min & 75.0%+ segments\", \"pct_usable_trips\": 0.9781221513217867}, {\"calitp_itp_id\": 273, \"total_trips\": 1775, \"n_trips\": 1673, \"trip_cutoff\": 10, \"segment_cutoff\": 0.75, \"cutoff\": \"10+ min & 75.0%+ segments\", \"pct_usable_trips\": 0.9425352112676056}, {\"calitp_itp_id\": 282, \"total_trips\": 8578, \"n_trips\": 7399, \"trip_cutoff\": 10, \"segment_cutoff\": 0.75, \"cutoff\": \"10+ min & 75.0%+ segments\", \"pct_usable_trips\": 0.8625553742131032}, {\"calitp_itp_id\": 284, \"total_trips\": 852, \"n_trips\": 751, \"trip_cutoff\": 10, \"segment_cutoff\": 0.75, \"cutoff\": \"10+ min & 75.0%+ segments\", \"pct_usable_trips\": 0.8814553990610329}, {\"calitp_itp_id\": 290, \"total_trips\": 1372, \"n_trips\": 1204, \"trip_cutoff\": 10, \"segment_cutoff\": 0.75, \"cutoff\": \"10+ min & 75.0%+ segments\", \"pct_usable_trips\": 0.8775510204081632}, {\"calitp_itp_id\": 293, \"total_trips\": 940, \"n_trips\": 802, \"trip_cutoff\": 10, \"segment_cutoff\": 0.75, \"cutoff\": \"10+ min & 75.0%+ segments\", \"pct_usable_trips\": 0.8531914893617021}, {\"calitp_itp_id\": 294, \"total_trips\": 3512, \"n_trips\": 3186, \"trip_cutoff\": 10, \"segment_cutoff\": 0.75, \"cutoff\": \"10+ min & 75.0%+ segments\", \"pct_usable_trips\": 0.9071753986332574}, {\"calitp_itp_id\": 295, \"total_trips\": 416, \"n_trips\": 385, \"trip_cutoff\": 10, \"segment_cutoff\": 0.75, \"cutoff\": \"10+ min & 75.0%+ segments\", \"pct_usable_trips\": 0.9254807692307693}, {\"calitp_itp_id\": 300, \"total_trips\": 1338, \"n_trips\": 1084, \"trip_cutoff\": 10, \"segment_cutoff\": 0.75, \"cutoff\": \"10+ min & 75.0%+ segments\", \"pct_usable_trips\": 0.8101644245142003}, {\"calitp_itp_id\": 301, \"total_trips\": 517, \"n_trips\": 362, \"trip_cutoff\": 10, \"segment_cutoff\": 0.75, \"cutoff\": \"10+ min & 75.0%+ segments\", \"pct_usable_trips\": 0.7001934235976789}, {\"calitp_itp_id\": 310, \"total_trips\": 401, \"n_trips\": 322, \"trip_cutoff\": 10, \"segment_cutoff\": 0.75, \"cutoff\": \"10+ min & 75.0%+ segments\", \"pct_usable_trips\": 0.8029925187032418}, {\"calitp_itp_id\": 314, \"total_trips\": 166, \"n_trips\": 121, \"trip_cutoff\": 10, \"segment_cutoff\": 0.75, \"cutoff\": \"10+ min & 75.0%+ segments\", \"pct_usable_trips\": 0.7289156626506024}, {\"calitp_itp_id\": 315, \"total_trips\": 38, \"n_trips\": 34, \"trip_cutoff\": 10, \"segment_cutoff\": 0.75, \"cutoff\": \"10+ min & 75.0%+ segments\", \"pct_usable_trips\": 0.8947368421052632}, {\"calitp_itp_id\": 336, \"total_trips\": 490, \"n_trips\": 465, \"trip_cutoff\": 10, \"segment_cutoff\": 0.75, \"cutoff\": \"10+ min & 75.0%+ segments\", \"pct_usable_trips\": 0.9489795918367347}, {\"calitp_itp_id\": 349, \"total_trips\": 270, \"n_trips\": 233, \"trip_cutoff\": 10, \"segment_cutoff\": 0.75, \"cutoff\": \"10+ min & 75.0%+ segments\", \"pct_usable_trips\": 0.8629629629629629}, {\"calitp_itp_id\": 350, \"total_trips\": 219, \"n_trips\": 214, \"trip_cutoff\": 10, \"segment_cutoff\": 0.75, \"cutoff\": \"10+ min & 75.0%+ segments\", \"pct_usable_trips\": 0.9771689497716894}, {\"calitp_itp_id\": 361, \"total_trips\": 525, \"n_trips\": 514, \"trip_cutoff\": 10, \"segment_cutoff\": 0.75, \"cutoff\": \"10+ min & 75.0%+ segments\", \"pct_usable_trips\": 0.979047619047619}, {\"calitp_itp_id\": 372, \"total_trips\": 161, \"n_trips\": 143, \"trip_cutoff\": 10, \"segment_cutoff\": 0.75, \"cutoff\": \"10+ min & 75.0%+ segments\", \"pct_usable_trips\": 0.8881987577639752}, {\"calitp_itp_id\": 4, \"total_trips\": 5206, \"n_trips\": 5138, \"trip_cutoff\": 15, \"segment_cutoff\": 0.1, \"cutoff\": \"15+ min & 10.0%+ segments\", \"pct_usable_trips\": 0.9869381482904341}, {\"calitp_itp_id\": 30, \"total_trips\": 44, \"n_trips\": 42, \"trip_cutoff\": 15, \"segment_cutoff\": 0.1, \"cutoff\": \"15+ min & 10.0%+ segments\", \"pct_usable_trips\": 0.9545454545454546}, {\"calitp_itp_id\": 45, \"total_trips\": 91, \"n_trips\": 89, \"trip_cutoff\": 15, \"segment_cutoff\": 0.1, \"cutoff\": \"15+ min & 10.0%+ segments\", \"pct_usable_trips\": 0.978021978021978}, {\"calitp_itp_id\": 75, \"total_trips\": 112, \"n_trips\": 108, \"trip_cutoff\": 15, \"segment_cutoff\": 0.1, \"cutoff\": \"15+ min & 10.0%+ segments\", \"pct_usable_trips\": 0.9642857142857143}, {\"calitp_itp_id\": 110, \"total_trips\": 278, \"n_trips\": 275, \"trip_cutoff\": 15, \"segment_cutoff\": 0.1, \"cutoff\": \"15+ min & 10.0%+ segments\", \"pct_usable_trips\": 0.9892086330935251}, {\"calitp_itp_id\": 126, \"total_trips\": 566, \"n_trips\": 564, \"trip_cutoff\": 15, \"segment_cutoff\": 0.1, \"cutoff\": \"15+ min & 10.0%+ segments\", \"pct_usable_trips\": 0.9964664310954063}, {\"calitp_itp_id\": 127, \"total_trips\": 203, \"n_trips\": 203, \"trip_cutoff\": 15, \"segment_cutoff\": 0.1, \"cutoff\": \"15+ min & 10.0%+ segments\", \"pct_usable_trips\": 1.0}, {\"calitp_itp_id\": 135, \"total_trips\": 115, \"n_trips\": 105, \"trip_cutoff\": 15, \"segment_cutoff\": 0.1, \"cutoff\": \"15+ min & 10.0%+ segments\", \"pct_usable_trips\": 0.9130434782608695}, {\"calitp_itp_id\": 148, \"total_trips\": 232, \"n_trips\": 232, \"trip_cutoff\": 15, \"segment_cutoff\": 0.1, \"cutoff\": \"15+ min & 10.0%+ segments\", \"pct_usable_trips\": 1.0}, {\"calitp_itp_id\": 159, \"total_trips\": 73, \"n_trips\": 62, \"trip_cutoff\": 15, \"segment_cutoff\": 0.1, \"cutoff\": \"15+ min & 10.0%+ segments\", \"pct_usable_trips\": 0.8493150684931506}, {\"calitp_itp_id\": 167, \"total_trips\": 405, \"n_trips\": 402, \"trip_cutoff\": 15, \"segment_cutoff\": 0.1, \"cutoff\": \"15+ min & 10.0%+ segments\", \"pct_usable_trips\": 0.9925925925925926}, {\"calitp_itp_id\": 182, \"total_trips\": 13858, \"n_trips\": 13459, \"trip_cutoff\": 15, \"segment_cutoff\": 0.1, \"cutoff\": \"15+ min & 10.0%+ segments\", \"pct_usable_trips\": 0.971207966517535}, {\"calitp_itp_id\": 188, \"total_trips\": 20, \"n_trips\": 20, \"trip_cutoff\": 15, \"segment_cutoff\": 0.1, \"cutoff\": \"15+ min & 10.0%+ segments\", \"pct_usable_trips\": 1.0}, {\"calitp_itp_id\": 194, \"total_trips\": 584, \"n_trips\": 537, \"trip_cutoff\": 15, \"segment_cutoff\": 0.1, \"cutoff\": \"15+ min & 10.0%+ segments\", \"pct_usable_trips\": 0.9195205479452054}, {\"calitp_itp_id\": 218, \"total_trips\": 149, \"n_trips\": 126, \"trip_cutoff\": 15, \"segment_cutoff\": 0.1, \"cutoff\": \"15+ min & 10.0%+ segments\", \"pct_usable_trips\": 0.8456375838926175}, {\"calitp_itp_id\": 221, \"total_trips\": 104, \"n_trips\": 95, \"trip_cutoff\": 15, \"segment_cutoff\": 0.1, \"cutoff\": \"15+ min & 10.0%+ segments\", \"pct_usable_trips\": 0.9134615384615384}, {\"calitp_itp_id\": 226, \"total_trips\": 1293, \"n_trips\": 1286, \"trip_cutoff\": 15, \"segment_cutoff\": 0.1, \"cutoff\": \"15+ min & 10.0%+ segments\", \"pct_usable_trips\": 0.9945862335653519}, {\"calitp_itp_id\": 235, \"total_trips\": 3175, \"n_trips\": 3142, \"trip_cutoff\": 15, \"segment_cutoff\": 0.1, \"cutoff\": \"15+ min & 10.0%+ segments\", \"pct_usable_trips\": 0.9896062992125985}, {\"calitp_itp_id\": 243, \"total_trips\": 315, \"n_trips\": 308, \"trip_cutoff\": 15, \"segment_cutoff\": 0.1, \"cutoff\": \"15+ min & 10.0%+ segments\", \"pct_usable_trips\": 0.9777777777777777}, {\"calitp_itp_id\": 246, \"total_trips\": 79, \"n_trips\": 78, \"trip_cutoff\": 15, \"segment_cutoff\": 0.1, \"cutoff\": \"15+ min & 10.0%+ segments\", \"pct_usable_trips\": 0.9873417721518988}, {\"calitp_itp_id\": 247, \"total_trips\": 186, \"n_trips\": 85, \"trip_cutoff\": 15, \"segment_cutoff\": 0.1, \"cutoff\": \"15+ min & 10.0%+ segments\", \"pct_usable_trips\": 0.45698924731182794}, {\"calitp_itp_id\": 259, \"total_trips\": 253, \"n_trips\": 207, \"trip_cutoff\": 15, \"segment_cutoff\": 0.1, \"cutoff\": \"15+ min & 10.0%+ segments\", \"pct_usable_trips\": 0.8181818181818182}, {\"calitp_itp_id\": 269, \"total_trips\": 1097, \"n_trips\": 1094, \"trip_cutoff\": 15, \"segment_cutoff\": 0.1, \"cutoff\": \"15+ min & 10.0%+ segments\", \"pct_usable_trips\": 0.9972652689152234}, {\"calitp_itp_id\": 273, \"total_trips\": 1775, \"n_trips\": 1680, \"trip_cutoff\": 15, \"segment_cutoff\": 0.1, \"cutoff\": \"15+ min & 10.0%+ segments\", \"pct_usable_trips\": 0.9464788732394366}, {\"calitp_itp_id\": 282, \"total_trips\": 8578, \"n_trips\": 7645, \"trip_cutoff\": 15, \"segment_cutoff\": 0.1, \"cutoff\": \"15+ min & 10.0%+ segments\", \"pct_usable_trips\": 0.891233387736069}, {\"calitp_itp_id\": 284, \"total_trips\": 852, \"n_trips\": 817, \"trip_cutoff\": 15, \"segment_cutoff\": 0.1, \"cutoff\": \"15+ min & 10.0%+ segments\", \"pct_usable_trips\": 0.9589201877934272}, {\"calitp_itp_id\": 290, \"total_trips\": 1372, \"n_trips\": 1346, \"trip_cutoff\": 15, \"segment_cutoff\": 0.1, \"cutoff\": \"15+ min & 10.0%+ segments\", \"pct_usable_trips\": 0.9810495626822158}, {\"calitp_itp_id\": 293, \"total_trips\": 940, \"n_trips\": 771, \"trip_cutoff\": 15, \"segment_cutoff\": 0.1, \"cutoff\": \"15+ min & 10.0%+ segments\", \"pct_usable_trips\": 0.8202127659574469}, {\"calitp_itp_id\": 294, \"total_trips\": 3512, \"n_trips\": 3387, \"trip_cutoff\": 15, \"segment_cutoff\": 0.1, \"cutoff\": \"15+ min & 10.0%+ segments\", \"pct_usable_trips\": 0.9644077448747153}, {\"calitp_itp_id\": 295, \"total_trips\": 416, \"n_trips\": 405, \"trip_cutoff\": 15, \"segment_cutoff\": 0.1, \"cutoff\": \"15+ min & 10.0%+ segments\", \"pct_usable_trips\": 0.9735576923076923}, {\"calitp_itp_id\": 300, \"total_trips\": 1338, \"n_trips\": 1309, \"trip_cutoff\": 15, \"segment_cutoff\": 0.1, \"cutoff\": \"15+ min & 10.0%+ segments\", \"pct_usable_trips\": 0.9783258594917787}, {\"calitp_itp_id\": 301, \"total_trips\": 517, \"n_trips\": 388, \"trip_cutoff\": 15, \"segment_cutoff\": 0.1, \"cutoff\": \"15+ min & 10.0%+ segments\", \"pct_usable_trips\": 0.7504835589941973}, {\"calitp_itp_id\": 310, \"total_trips\": 401, \"n_trips\": 367, \"trip_cutoff\": 15, \"segment_cutoff\": 0.1, \"cutoff\": \"15+ min & 10.0%+ segments\", \"pct_usable_trips\": 0.9152119700748129}, {\"calitp_itp_id\": 314, \"total_trips\": 166, \"n_trips\": 154, \"trip_cutoff\": 15, \"segment_cutoff\": 0.1, \"cutoff\": \"15+ min & 10.0%+ segments\", \"pct_usable_trips\": 0.927710843373494}, {\"calitp_itp_id\": 315, \"total_trips\": 38, \"n_trips\": 38, \"trip_cutoff\": 15, \"segment_cutoff\": 0.1, \"cutoff\": \"15+ min & 10.0%+ segments\", \"pct_usable_trips\": 1.0}, {\"calitp_itp_id\": 336, \"total_trips\": 490, \"n_trips\": 481, \"trip_cutoff\": 15, \"segment_cutoff\": 0.1, \"cutoff\": \"15+ min & 10.0%+ segments\", \"pct_usable_trips\": 0.9816326530612245}, {\"calitp_itp_id\": 349, \"total_trips\": 270, \"n_trips\": 173, \"trip_cutoff\": 15, \"segment_cutoff\": 0.1, \"cutoff\": \"15+ min & 10.0%+ segments\", \"pct_usable_trips\": 0.6407407407407407}, {\"calitp_itp_id\": 350, \"total_trips\": 219, \"n_trips\": 214, \"trip_cutoff\": 15, \"segment_cutoff\": 0.1, \"cutoff\": \"15+ min & 10.0%+ segments\", \"pct_usable_trips\": 0.9771689497716894}, {\"calitp_itp_id\": 361, \"total_trips\": 525, \"n_trips\": 517, \"trip_cutoff\": 15, \"segment_cutoff\": 0.1, \"cutoff\": \"15+ min & 10.0%+ segments\", \"pct_usable_trips\": 0.9847619047619047}, {\"calitp_itp_id\": 372, \"total_trips\": 161, \"n_trips\": 152, \"trip_cutoff\": 15, \"segment_cutoff\": 0.1, \"cutoff\": \"15+ min & 10.0%+ segments\", \"pct_usable_trips\": 0.9440993788819876}, {\"calitp_itp_id\": 4, \"total_trips\": 5206, \"n_trips\": 5131, \"trip_cutoff\": 15, \"segment_cutoff\": 0.2, \"cutoff\": \"15+ min & 20.0%+ segments\", \"pct_usable_trips\": 0.9855935459085671}, {\"calitp_itp_id\": 30, \"total_trips\": 44, \"n_trips\": 42, \"trip_cutoff\": 15, \"segment_cutoff\": 0.2, \"cutoff\": \"15+ min & 20.0%+ segments\", \"pct_usable_trips\": 0.9545454545454546}, {\"calitp_itp_id\": 45, \"total_trips\": 91, \"n_trips\": 88, \"trip_cutoff\": 15, \"segment_cutoff\": 0.2, \"cutoff\": \"15+ min & 20.0%+ segments\", \"pct_usable_trips\": 0.967032967032967}, {\"calitp_itp_id\": 75, \"total_trips\": 112, \"n_trips\": 108, \"trip_cutoff\": 15, \"segment_cutoff\": 0.2, \"cutoff\": \"15+ min & 20.0%+ segments\", \"pct_usable_trips\": 0.9642857142857143}, {\"calitp_itp_id\": 110, \"total_trips\": 278, \"n_trips\": 275, \"trip_cutoff\": 15, \"segment_cutoff\": 0.2, \"cutoff\": \"15+ min & 20.0%+ segments\", \"pct_usable_trips\": 0.9892086330935251}, {\"calitp_itp_id\": 126, \"total_trips\": 566, \"n_trips\": 564, \"trip_cutoff\": 15, \"segment_cutoff\": 0.2, \"cutoff\": \"15+ min & 20.0%+ segments\", \"pct_usable_trips\": 0.9964664310954063}, {\"calitp_itp_id\": 127, \"total_trips\": 203, \"n_trips\": 203, \"trip_cutoff\": 15, \"segment_cutoff\": 0.2, \"cutoff\": \"15+ min & 20.0%+ segments\", \"pct_usable_trips\": 1.0}, {\"calitp_itp_id\": 135, \"total_trips\": 115, \"n_trips\": 105, \"trip_cutoff\": 15, \"segment_cutoff\": 0.2, \"cutoff\": \"15+ min & 20.0%+ segments\", \"pct_usable_trips\": 0.9130434782608695}, {\"calitp_itp_id\": 148, \"total_trips\": 232, \"n_trips\": 232, \"trip_cutoff\": 15, \"segment_cutoff\": 0.2, \"cutoff\": \"15+ min & 20.0%+ segments\", \"pct_usable_trips\": 1.0}, {\"calitp_itp_id\": 159, \"total_trips\": 73, \"n_trips\": 62, \"trip_cutoff\": 15, \"segment_cutoff\": 0.2, \"cutoff\": \"15+ min & 20.0%+ segments\", \"pct_usable_trips\": 0.8493150684931506}, {\"calitp_itp_id\": 167, \"total_trips\": 405, \"n_trips\": 402, \"trip_cutoff\": 15, \"segment_cutoff\": 0.2, \"cutoff\": \"15+ min & 20.0%+ segments\", \"pct_usable_trips\": 0.9925925925925926}, {\"calitp_itp_id\": 182, \"total_trips\": 13858, \"n_trips\": 13186, \"trip_cutoff\": 15, \"segment_cutoff\": 0.2, \"cutoff\": \"15+ min & 20.0%+ segments\", \"pct_usable_trips\": 0.9515081541347958}, {\"calitp_itp_id\": 188, \"total_trips\": 20, \"n_trips\": 20, \"trip_cutoff\": 15, \"segment_cutoff\": 0.2, \"cutoff\": \"15+ min & 20.0%+ segments\", \"pct_usable_trips\": 1.0}, {\"calitp_itp_id\": 194, \"total_trips\": 584, \"n_trips\": 520, \"trip_cutoff\": 15, \"segment_cutoff\": 0.2, \"cutoff\": \"15+ min & 20.0%+ segments\", \"pct_usable_trips\": 0.8904109589041096}, {\"calitp_itp_id\": 218, \"total_trips\": 149, \"n_trips\": 123, \"trip_cutoff\": 15, \"segment_cutoff\": 0.2, \"cutoff\": \"15+ min & 20.0%+ segments\", \"pct_usable_trips\": 0.825503355704698}, {\"calitp_itp_id\": 221, \"total_trips\": 104, \"n_trips\": 94, \"trip_cutoff\": 15, \"segment_cutoff\": 0.2, \"cutoff\": \"15+ min & 20.0%+ segments\", \"pct_usable_trips\": 0.9038461538461539}, {\"calitp_itp_id\": 226, \"total_trips\": 1293, \"n_trips\": 1286, \"trip_cutoff\": 15, \"segment_cutoff\": 0.2, \"cutoff\": \"15+ min & 20.0%+ segments\", \"pct_usable_trips\": 0.9945862335653519}, {\"calitp_itp_id\": 235, \"total_trips\": 3175, \"n_trips\": 3142, \"trip_cutoff\": 15, \"segment_cutoff\": 0.2, \"cutoff\": \"15+ min & 20.0%+ segments\", \"pct_usable_trips\": 0.9896062992125985}, {\"calitp_itp_id\": 243, \"total_trips\": 315, \"n_trips\": 308, \"trip_cutoff\": 15, \"segment_cutoff\": 0.2, \"cutoff\": \"15+ min & 20.0%+ segments\", \"pct_usable_trips\": 0.9777777777777777}, {\"calitp_itp_id\": 246, \"total_trips\": 79, \"n_trips\": 78, \"trip_cutoff\": 15, \"segment_cutoff\": 0.2, \"cutoff\": \"15+ min & 20.0%+ segments\", \"pct_usable_trips\": 0.9873417721518988}, {\"calitp_itp_id\": 247, \"total_trips\": 186, \"n_trips\": 85, \"trip_cutoff\": 15, \"segment_cutoff\": 0.2, \"cutoff\": \"15+ min & 20.0%+ segments\", \"pct_usable_trips\": 0.45698924731182794}, {\"calitp_itp_id\": 259, \"total_trips\": 253, \"n_trips\": 207, \"trip_cutoff\": 15, \"segment_cutoff\": 0.2, \"cutoff\": \"15+ min & 20.0%+ segments\", \"pct_usable_trips\": 0.8181818181818182}, {\"calitp_itp_id\": 269, \"total_trips\": 1097, \"n_trips\": 1094, \"trip_cutoff\": 15, \"segment_cutoff\": 0.2, \"cutoff\": \"15+ min & 20.0%+ segments\", \"pct_usable_trips\": 0.9972652689152234}, {\"calitp_itp_id\": 273, \"total_trips\": 1775, \"n_trips\": 1673, \"trip_cutoff\": 15, \"segment_cutoff\": 0.2, \"cutoff\": \"15+ min & 20.0%+ segments\", \"pct_usable_trips\": 0.9425352112676056}, {\"calitp_itp_id\": 282, \"total_trips\": 8578, \"n_trips\": 7633, \"trip_cutoff\": 15, \"segment_cutoff\": 0.2, \"cutoff\": \"15+ min & 20.0%+ segments\", \"pct_usable_trips\": 0.8898344602471439}, {\"calitp_itp_id\": 284, \"total_trips\": 852, \"n_trips\": 816, \"trip_cutoff\": 15, \"segment_cutoff\": 0.2, \"cutoff\": \"15+ min & 20.0%+ segments\", \"pct_usable_trips\": 0.9577464788732394}, {\"calitp_itp_id\": 290, \"total_trips\": 1372, \"n_trips\": 1345, \"trip_cutoff\": 15, \"segment_cutoff\": 0.2, \"cutoff\": \"15+ min & 20.0%+ segments\", \"pct_usable_trips\": 0.9803206997084548}, {\"calitp_itp_id\": 293, \"total_trips\": 940, \"n_trips\": 769, \"trip_cutoff\": 15, \"segment_cutoff\": 0.2, \"cutoff\": \"15+ min & 20.0%+ segments\", \"pct_usable_trips\": 0.8180851063829787}, {\"calitp_itp_id\": 294, \"total_trips\": 3512, \"n_trips\": 3381, \"trip_cutoff\": 15, \"segment_cutoff\": 0.2, \"cutoff\": \"15+ min & 20.0%+ segments\", \"pct_usable_trips\": 0.9626993166287016}, {\"calitp_itp_id\": 295, \"total_trips\": 416, \"n_trips\": 405, \"trip_cutoff\": 15, \"segment_cutoff\": 0.2, \"cutoff\": \"15+ min & 20.0%+ segments\", \"pct_usable_trips\": 0.9735576923076923}, {\"calitp_itp_id\": 300, \"total_trips\": 1338, \"n_trips\": 1299, \"trip_cutoff\": 15, \"segment_cutoff\": 0.2, \"cutoff\": \"15+ min & 20.0%+ segments\", \"pct_usable_trips\": 0.9708520179372198}, {\"calitp_itp_id\": 301, \"total_trips\": 517, \"n_trips\": 388, \"trip_cutoff\": 15, \"segment_cutoff\": 0.2, \"cutoff\": \"15+ min & 20.0%+ segments\", \"pct_usable_trips\": 0.7504835589941973}, {\"calitp_itp_id\": 310, \"total_trips\": 401, \"n_trips\": 367, \"trip_cutoff\": 15, \"segment_cutoff\": 0.2, \"cutoff\": \"15+ min & 20.0%+ segments\", \"pct_usable_trips\": 0.9152119700748129}, {\"calitp_itp_id\": 314, \"total_trips\": 166, \"n_trips\": 151, \"trip_cutoff\": 15, \"segment_cutoff\": 0.2, \"cutoff\": \"15+ min & 20.0%+ segments\", \"pct_usable_trips\": 0.9096385542168675}, {\"calitp_itp_id\": 315, \"total_trips\": 38, \"n_trips\": 38, \"trip_cutoff\": 15, \"segment_cutoff\": 0.2, \"cutoff\": \"15+ min & 20.0%+ segments\", \"pct_usable_trips\": 1.0}, {\"calitp_itp_id\": 336, \"total_trips\": 490, \"n_trips\": 480, \"trip_cutoff\": 15, \"segment_cutoff\": 0.2, \"cutoff\": \"15+ min & 20.0%+ segments\", \"pct_usable_trips\": 0.9795918367346939}, {\"calitp_itp_id\": 349, \"total_trips\": 270, \"n_trips\": 172, \"trip_cutoff\": 15, \"segment_cutoff\": 0.2, \"cutoff\": \"15+ min & 20.0%+ segments\", \"pct_usable_trips\": 0.6370370370370371}, {\"calitp_itp_id\": 350, \"total_trips\": 219, \"n_trips\": 214, \"trip_cutoff\": 15, \"segment_cutoff\": 0.2, \"cutoff\": \"15+ min & 20.0%+ segments\", \"pct_usable_trips\": 0.9771689497716894}, {\"calitp_itp_id\": 361, \"total_trips\": 525, \"n_trips\": 516, \"trip_cutoff\": 15, \"segment_cutoff\": 0.2, \"cutoff\": \"15+ min & 20.0%+ segments\", \"pct_usable_trips\": 0.9828571428571429}, {\"calitp_itp_id\": 372, \"total_trips\": 161, \"n_trips\": 150, \"trip_cutoff\": 15, \"segment_cutoff\": 0.2, \"cutoff\": \"15+ min & 20.0%+ segments\", \"pct_usable_trips\": 0.9316770186335404}, {\"calitp_itp_id\": 4, \"total_trips\": 5206, \"n_trips\": 5128, \"trip_cutoff\": 15, \"segment_cutoff\": 0.25, \"cutoff\": \"15+ min & 25.0%+ segments\", \"pct_usable_trips\": 0.9850172877449097}, {\"calitp_itp_id\": 30, \"total_trips\": 44, \"n_trips\": 41, \"trip_cutoff\": 15, \"segment_cutoff\": 0.25, \"cutoff\": \"15+ min & 25.0%+ segments\", \"pct_usable_trips\": 0.9318181818181818}, {\"calitp_itp_id\": 45, \"total_trips\": 91, \"n_trips\": 87, \"trip_cutoff\": 15, \"segment_cutoff\": 0.25, \"cutoff\": \"15+ min & 25.0%+ segments\", \"pct_usable_trips\": 0.9560439560439561}, {\"calitp_itp_id\": 75, \"total_trips\": 112, \"n_trips\": 108, \"trip_cutoff\": 15, \"segment_cutoff\": 0.25, \"cutoff\": \"15+ min & 25.0%+ segments\", \"pct_usable_trips\": 0.9642857142857143}, {\"calitp_itp_id\": 110, \"total_trips\": 278, \"n_trips\": 275, \"trip_cutoff\": 15, \"segment_cutoff\": 0.25, \"cutoff\": \"15+ min & 25.0%+ segments\", \"pct_usable_trips\": 0.9892086330935251}, {\"calitp_itp_id\": 126, \"total_trips\": 566, \"n_trips\": 564, \"trip_cutoff\": 15, \"segment_cutoff\": 0.25, \"cutoff\": \"15+ min & 25.0%+ segments\", \"pct_usable_trips\": 0.9964664310954063}, {\"calitp_itp_id\": 127, \"total_trips\": 203, \"n_trips\": 203, \"trip_cutoff\": 15, \"segment_cutoff\": 0.25, \"cutoff\": \"15+ min & 25.0%+ segments\", \"pct_usable_trips\": 1.0}, {\"calitp_itp_id\": 135, \"total_trips\": 115, \"n_trips\": 105, \"trip_cutoff\": 15, \"segment_cutoff\": 0.25, \"cutoff\": \"15+ min & 25.0%+ segments\", \"pct_usable_trips\": 0.9130434782608695}, {\"calitp_itp_id\": 148, \"total_trips\": 232, \"n_trips\": 232, \"trip_cutoff\": 15, \"segment_cutoff\": 0.25, \"cutoff\": \"15+ min & 25.0%+ segments\", \"pct_usable_trips\": 1.0}, {\"calitp_itp_id\": 159, \"total_trips\": 73, \"n_trips\": 62, \"trip_cutoff\": 15, \"segment_cutoff\": 0.25, \"cutoff\": \"15+ min & 25.0%+ segments\", \"pct_usable_trips\": 0.8493150684931506}, {\"calitp_itp_id\": 167, \"total_trips\": 405, \"n_trips\": 401, \"trip_cutoff\": 15, \"segment_cutoff\": 0.25, \"cutoff\": \"15+ min & 25.0%+ segments\", \"pct_usable_trips\": 0.9901234567901235}, {\"calitp_itp_id\": 182, \"total_trips\": 13858, \"n_trips\": 13146, \"trip_cutoff\": 15, \"segment_cutoff\": 0.25, \"cutoff\": \"15+ min & 25.0%+ segments\", \"pct_usable_trips\": 0.9486217347380574}, {\"calitp_itp_id\": 188, \"total_trips\": 20, \"n_trips\": 20, \"trip_cutoff\": 15, \"segment_cutoff\": 0.25, \"cutoff\": \"15+ min & 25.0%+ segments\", \"pct_usable_trips\": 1.0}, {\"calitp_itp_id\": 194, \"total_trips\": 584, \"n_trips\": 519, \"trip_cutoff\": 15, \"segment_cutoff\": 0.25, \"cutoff\": \"15+ min & 25.0%+ segments\", \"pct_usable_trips\": 0.8886986301369864}, {\"calitp_itp_id\": 218, \"total_trips\": 149, \"n_trips\": 123, \"trip_cutoff\": 15, \"segment_cutoff\": 0.25, \"cutoff\": \"15+ min & 25.0%+ segments\", \"pct_usable_trips\": 0.825503355704698}, {\"calitp_itp_id\": 221, \"total_trips\": 104, \"n_trips\": 94, \"trip_cutoff\": 15, \"segment_cutoff\": 0.25, \"cutoff\": \"15+ min & 25.0%+ segments\", \"pct_usable_trips\": 0.9038461538461539}, {\"calitp_itp_id\": 226, \"total_trips\": 1293, \"n_trips\": 1285, \"trip_cutoff\": 15, \"segment_cutoff\": 0.25, \"cutoff\": \"15+ min & 25.0%+ segments\", \"pct_usable_trips\": 0.9938128383604021}, {\"calitp_itp_id\": 235, \"total_trips\": 3175, \"n_trips\": 3142, \"trip_cutoff\": 15, \"segment_cutoff\": 0.25, \"cutoff\": \"15+ min & 25.0%+ segments\", \"pct_usable_trips\": 0.9896062992125985}, {\"calitp_itp_id\": 243, \"total_trips\": 315, \"n_trips\": 308, \"trip_cutoff\": 15, \"segment_cutoff\": 0.25, \"cutoff\": \"15+ min & 25.0%+ segments\", \"pct_usable_trips\": 0.9777777777777777}, {\"calitp_itp_id\": 246, \"total_trips\": 79, \"n_trips\": 78, \"trip_cutoff\": 15, \"segment_cutoff\": 0.25, \"cutoff\": \"15+ min & 25.0%+ segments\", \"pct_usable_trips\": 0.9873417721518988}, {\"calitp_itp_id\": 247, \"total_trips\": 186, \"n_trips\": 85, \"trip_cutoff\": 15, \"segment_cutoff\": 0.25, \"cutoff\": \"15+ min & 25.0%+ segments\", \"pct_usable_trips\": 0.45698924731182794}, {\"calitp_itp_id\": 259, \"total_trips\": 253, \"n_trips\": 207, \"trip_cutoff\": 15, \"segment_cutoff\": 0.25, \"cutoff\": \"15+ min & 25.0%+ segments\", \"pct_usable_trips\": 0.8181818181818182}, {\"calitp_itp_id\": 269, \"total_trips\": 1097, \"n_trips\": 1093, \"trip_cutoff\": 15, \"segment_cutoff\": 0.25, \"cutoff\": \"15+ min & 25.0%+ segments\", \"pct_usable_trips\": 0.9963536918869644}, {\"calitp_itp_id\": 273, \"total_trips\": 1775, \"n_trips\": 1672, \"trip_cutoff\": 15, \"segment_cutoff\": 0.25, \"cutoff\": \"15+ min & 25.0%+ segments\", \"pct_usable_trips\": 0.9419718309859155}, {\"calitp_itp_id\": 282, \"total_trips\": 8578, \"n_trips\": 7610, \"trip_cutoff\": 15, \"segment_cutoff\": 0.25, \"cutoff\": \"15+ min & 25.0%+ segments\", \"pct_usable_trips\": 0.8871531825600373}, {\"calitp_itp_id\": 284, \"total_trips\": 852, \"n_trips\": 816, \"trip_cutoff\": 15, \"segment_cutoff\": 0.25, \"cutoff\": \"15+ min & 25.0%+ segments\", \"pct_usable_trips\": 0.9577464788732394}, {\"calitp_itp_id\": 290, \"total_trips\": 1372, \"n_trips\": 1345, \"trip_cutoff\": 15, \"segment_cutoff\": 0.25, \"cutoff\": \"15+ min & 25.0%+ segments\", \"pct_usable_trips\": 0.9803206997084548}, {\"calitp_itp_id\": 293, \"total_trips\": 940, \"n_trips\": 769, \"trip_cutoff\": 15, \"segment_cutoff\": 0.25, \"cutoff\": \"15+ min & 25.0%+ segments\", \"pct_usable_trips\": 0.8180851063829787}, {\"calitp_itp_id\": 294, \"total_trips\": 3512, \"n_trips\": 3379, \"trip_cutoff\": 15, \"segment_cutoff\": 0.25, \"cutoff\": \"15+ min & 25.0%+ segments\", \"pct_usable_trips\": 0.962129840546697}, {\"calitp_itp_id\": 295, \"total_trips\": 416, \"n_trips\": 405, \"trip_cutoff\": 15, \"segment_cutoff\": 0.25, \"cutoff\": \"15+ min & 25.0%+ segments\", \"pct_usable_trips\": 0.9735576923076923}, {\"calitp_itp_id\": 300, \"total_trips\": 1338, \"n_trips\": 1297, \"trip_cutoff\": 15, \"segment_cutoff\": 0.25, \"cutoff\": \"15+ min & 25.0%+ segments\", \"pct_usable_trips\": 0.9693572496263079}, {\"calitp_itp_id\": 301, \"total_trips\": 517, \"n_trips\": 388, \"trip_cutoff\": 15, \"segment_cutoff\": 0.25, \"cutoff\": \"15+ min & 25.0%+ segments\", \"pct_usable_trips\": 0.7504835589941973}, {\"calitp_itp_id\": 310, \"total_trips\": 401, \"n_trips\": 367, \"trip_cutoff\": 15, \"segment_cutoff\": 0.25, \"cutoff\": \"15+ min & 25.0%+ segments\", \"pct_usable_trips\": 0.9152119700748129}, {\"calitp_itp_id\": 314, \"total_trips\": 166, \"n_trips\": 148, \"trip_cutoff\": 15, \"segment_cutoff\": 0.25, \"cutoff\": \"15+ min & 25.0%+ segments\", \"pct_usable_trips\": 0.891566265060241}, {\"calitp_itp_id\": 315, \"total_trips\": 38, \"n_trips\": 37, \"trip_cutoff\": 15, \"segment_cutoff\": 0.25, \"cutoff\": \"15+ min & 25.0%+ segments\", \"pct_usable_trips\": 0.9736842105263158}, {\"calitp_itp_id\": 336, \"total_trips\": 490, \"n_trips\": 480, \"trip_cutoff\": 15, \"segment_cutoff\": 0.25, \"cutoff\": \"15+ min & 25.0%+ segments\", \"pct_usable_trips\": 0.9795918367346939}, {\"calitp_itp_id\": 349, \"total_trips\": 270, \"n_trips\": 172, \"trip_cutoff\": 15, \"segment_cutoff\": 0.25, \"cutoff\": \"15+ min & 25.0%+ segments\", \"pct_usable_trips\": 0.6370370370370371}, {\"calitp_itp_id\": 350, \"total_trips\": 219, \"n_trips\": 214, \"trip_cutoff\": 15, \"segment_cutoff\": 0.25, \"cutoff\": \"15+ min & 25.0%+ segments\", \"pct_usable_trips\": 0.9771689497716894}, {\"calitp_itp_id\": 361, \"total_trips\": 525, \"n_trips\": 516, \"trip_cutoff\": 15, \"segment_cutoff\": 0.25, \"cutoff\": \"15+ min & 25.0%+ segments\", \"pct_usable_trips\": 0.9828571428571429}, {\"calitp_itp_id\": 372, \"total_trips\": 161, \"n_trips\": 149, \"trip_cutoff\": 15, \"segment_cutoff\": 0.25, \"cutoff\": \"15+ min & 25.0%+ segments\", \"pct_usable_trips\": 0.9254658385093167}, {\"calitp_itp_id\": 4, \"total_trips\": 5206, \"n_trips\": 5125, \"trip_cutoff\": 15, \"segment_cutoff\": 0.3, \"cutoff\": \"15+ min & 30.0%+ segments\", \"pct_usable_trips\": 0.9844410295812523}, {\"calitp_itp_id\": 30, \"total_trips\": 44, \"n_trips\": 41, \"trip_cutoff\": 15, \"segment_cutoff\": 0.3, \"cutoff\": \"15+ min & 30.0%+ segments\", \"pct_usable_trips\": 0.9318181818181818}, {\"calitp_itp_id\": 45, \"total_trips\": 91, \"n_trips\": 87, \"trip_cutoff\": 15, \"segment_cutoff\": 0.3, \"cutoff\": \"15+ min & 30.0%+ segments\", \"pct_usable_trips\": 0.9560439560439561}, {\"calitp_itp_id\": 75, \"total_trips\": 112, \"n_trips\": 108, \"trip_cutoff\": 15, \"segment_cutoff\": 0.3, \"cutoff\": \"15+ min & 30.0%+ segments\", \"pct_usable_trips\": 0.9642857142857143}, {\"calitp_itp_id\": 110, \"total_trips\": 278, \"n_trips\": 275, \"trip_cutoff\": 15, \"segment_cutoff\": 0.3, \"cutoff\": \"15+ min & 30.0%+ segments\", \"pct_usable_trips\": 0.9892086330935251}, {\"calitp_itp_id\": 126, \"total_trips\": 566, \"n_trips\": 563, \"trip_cutoff\": 15, \"segment_cutoff\": 0.3, \"cutoff\": \"15+ min & 30.0%+ segments\", \"pct_usable_trips\": 0.9946996466431095}, {\"calitp_itp_id\": 127, \"total_trips\": 203, \"n_trips\": 202, \"trip_cutoff\": 15, \"segment_cutoff\": 0.3, \"cutoff\": \"15+ min & 30.0%+ segments\", \"pct_usable_trips\": 0.9950738916256158}, {\"calitp_itp_id\": 135, \"total_trips\": 115, \"n_trips\": 104, \"trip_cutoff\": 15, \"segment_cutoff\": 0.3, \"cutoff\": \"15+ min & 30.0%+ segments\", \"pct_usable_trips\": 0.9043478260869565}, {\"calitp_itp_id\": 148, \"total_trips\": 232, \"n_trips\": 232, \"trip_cutoff\": 15, \"segment_cutoff\": 0.3, \"cutoff\": \"15+ min & 30.0%+ segments\", \"pct_usable_trips\": 1.0}, {\"calitp_itp_id\": 159, \"total_trips\": 73, \"n_trips\": 62, \"trip_cutoff\": 15, \"segment_cutoff\": 0.3, \"cutoff\": \"15+ min & 30.0%+ segments\", \"pct_usable_trips\": 0.8493150684931506}, {\"calitp_itp_id\": 167, \"total_trips\": 405, \"n_trips\": 400, \"trip_cutoff\": 15, \"segment_cutoff\": 0.3, \"cutoff\": \"15+ min & 30.0%+ segments\", \"pct_usable_trips\": 0.9876543209876543}, {\"calitp_itp_id\": 182, \"total_trips\": 13858, \"n_trips\": 13099, \"trip_cutoff\": 15, \"segment_cutoff\": 0.3, \"cutoff\": \"15+ min & 30.0%+ segments\", \"pct_usable_trips\": 0.9452301919468898}, {\"calitp_itp_id\": 188, \"total_trips\": 20, \"n_trips\": 20, \"trip_cutoff\": 15, \"segment_cutoff\": 0.3, \"cutoff\": \"15+ min & 30.0%+ segments\", \"pct_usable_trips\": 1.0}, {\"calitp_itp_id\": 194, \"total_trips\": 584, \"n_trips\": 519, \"trip_cutoff\": 15, \"segment_cutoff\": 0.3, \"cutoff\": \"15+ min & 30.0%+ segments\", \"pct_usable_trips\": 0.8886986301369864}, {\"calitp_itp_id\": 218, \"total_trips\": 149, \"n_trips\": 123, \"trip_cutoff\": 15, \"segment_cutoff\": 0.3, \"cutoff\": \"15+ min & 30.0%+ segments\", \"pct_usable_trips\": 0.825503355704698}, {\"calitp_itp_id\": 221, \"total_trips\": 104, \"n_trips\": 94, \"trip_cutoff\": 15, \"segment_cutoff\": 0.3, \"cutoff\": \"15+ min & 30.0%+ segments\", \"pct_usable_trips\": 0.9038461538461539}, {\"calitp_itp_id\": 226, \"total_trips\": 1293, \"n_trips\": 1285, \"trip_cutoff\": 15, \"segment_cutoff\": 0.3, \"cutoff\": \"15+ min & 30.0%+ segments\", \"pct_usable_trips\": 0.9938128383604021}, {\"calitp_itp_id\": 235, \"total_trips\": 3175, \"n_trips\": 3136, \"trip_cutoff\": 15, \"segment_cutoff\": 0.3, \"cutoff\": \"15+ min & 30.0%+ segments\", \"pct_usable_trips\": 0.9877165354330709}, {\"calitp_itp_id\": 243, \"total_trips\": 315, \"n_trips\": 307, \"trip_cutoff\": 15, \"segment_cutoff\": 0.3, \"cutoff\": \"15+ min & 30.0%+ segments\", \"pct_usable_trips\": 0.9746031746031746}, {\"calitp_itp_id\": 246, \"total_trips\": 79, \"n_trips\": 78, \"trip_cutoff\": 15, \"segment_cutoff\": 0.3, \"cutoff\": \"15+ min & 30.0%+ segments\", \"pct_usable_trips\": 0.9873417721518988}, {\"calitp_itp_id\": 247, \"total_trips\": 186, \"n_trips\": 85, \"trip_cutoff\": 15, \"segment_cutoff\": 0.3, \"cutoff\": \"15+ min & 30.0%+ segments\", \"pct_usable_trips\": 0.45698924731182794}, {\"calitp_itp_id\": 259, \"total_trips\": 253, \"n_trips\": 207, \"trip_cutoff\": 15, \"segment_cutoff\": 0.3, \"cutoff\": \"15+ min & 30.0%+ segments\", \"pct_usable_trips\": 0.8181818181818182}, {\"calitp_itp_id\": 269, \"total_trips\": 1097, \"n_trips\": 1091, \"trip_cutoff\": 15, \"segment_cutoff\": 0.3, \"cutoff\": \"15+ min & 30.0%+ segments\", \"pct_usable_trips\": 0.9945305378304466}, {\"calitp_itp_id\": 273, \"total_trips\": 1775, \"n_trips\": 1670, \"trip_cutoff\": 15, \"segment_cutoff\": 0.3, \"cutoff\": \"15+ min & 30.0%+ segments\", \"pct_usable_trips\": 0.9408450704225352}, {\"calitp_itp_id\": 282, \"total_trips\": 8578, \"n_trips\": 7588, \"trip_cutoff\": 15, \"segment_cutoff\": 0.3, \"cutoff\": \"15+ min & 30.0%+ segments\", \"pct_usable_trips\": 0.8845884821636745}, {\"calitp_itp_id\": 284, \"total_trips\": 852, \"n_trips\": 816, \"trip_cutoff\": 15, \"segment_cutoff\": 0.3, \"cutoff\": \"15+ min & 30.0%+ segments\", \"pct_usable_trips\": 0.9577464788732394}, {\"calitp_itp_id\": 290, \"total_trips\": 1372, \"n_trips\": 1344, \"trip_cutoff\": 15, \"segment_cutoff\": 0.3, \"cutoff\": \"15+ min & 30.0%+ segments\", \"pct_usable_trips\": 0.9795918367346939}, {\"calitp_itp_id\": 293, \"total_trips\": 940, \"n_trips\": 769, \"trip_cutoff\": 15, \"segment_cutoff\": 0.3, \"cutoff\": \"15+ min & 30.0%+ segments\", \"pct_usable_trips\": 0.8180851063829787}, {\"calitp_itp_id\": 294, \"total_trips\": 3512, \"n_trips\": 3375, \"trip_cutoff\": 15, \"segment_cutoff\": 0.3, \"cutoff\": \"15+ min & 30.0%+ segments\", \"pct_usable_trips\": 0.960990888382688}, {\"calitp_itp_id\": 295, \"total_trips\": 416, \"n_trips\": 404, \"trip_cutoff\": 15, \"segment_cutoff\": 0.3, \"cutoff\": \"15+ min & 30.0%+ segments\", \"pct_usable_trips\": 0.9711538461538461}, {\"calitp_itp_id\": 300, \"total_trips\": 1338, \"n_trips\": 1293, \"trip_cutoff\": 15, \"segment_cutoff\": 0.3, \"cutoff\": \"15+ min & 30.0%+ segments\", \"pct_usable_trips\": 0.9663677130044843}, {\"calitp_itp_id\": 301, \"total_trips\": 517, \"n_trips\": 388, \"trip_cutoff\": 15, \"segment_cutoff\": 0.3, \"cutoff\": \"15+ min & 30.0%+ segments\", \"pct_usable_trips\": 0.7504835589941973}, {\"calitp_itp_id\": 310, \"total_trips\": 401, \"n_trips\": 367, \"trip_cutoff\": 15, \"segment_cutoff\": 0.3, \"cutoff\": \"15+ min & 30.0%+ segments\", \"pct_usable_trips\": 0.9152119700748129}, {\"calitp_itp_id\": 314, \"total_trips\": 166, \"n_trips\": 148, \"trip_cutoff\": 15, \"segment_cutoff\": 0.3, \"cutoff\": \"15+ min & 30.0%+ segments\", \"pct_usable_trips\": 0.891566265060241}, {\"calitp_itp_id\": 315, \"total_trips\": 38, \"n_trips\": 37, \"trip_cutoff\": 15, \"segment_cutoff\": 0.3, \"cutoff\": \"15+ min & 30.0%+ segments\", \"pct_usable_trips\": 0.9736842105263158}, {\"calitp_itp_id\": 336, \"total_trips\": 490, \"n_trips\": 480, \"trip_cutoff\": 15, \"segment_cutoff\": 0.3, \"cutoff\": \"15+ min & 30.0%+ segments\", \"pct_usable_trips\": 0.9795918367346939}, {\"calitp_itp_id\": 349, \"total_trips\": 270, \"n_trips\": 172, \"trip_cutoff\": 15, \"segment_cutoff\": 0.3, \"cutoff\": \"15+ min & 30.0%+ segments\", \"pct_usable_trips\": 0.6370370370370371}, {\"calitp_itp_id\": 350, \"total_trips\": 219, \"n_trips\": 214, \"trip_cutoff\": 15, \"segment_cutoff\": 0.3, \"cutoff\": \"15+ min & 30.0%+ segments\", \"pct_usable_trips\": 0.9771689497716894}, {\"calitp_itp_id\": 361, \"total_trips\": 525, \"n_trips\": 516, \"trip_cutoff\": 15, \"segment_cutoff\": 0.3, \"cutoff\": \"15+ min & 30.0%+ segments\", \"pct_usable_trips\": 0.9828571428571429}, {\"calitp_itp_id\": 372, \"total_trips\": 161, \"n_trips\": 149, \"trip_cutoff\": 15, \"segment_cutoff\": 0.3, \"cutoff\": \"15+ min & 30.0%+ segments\", \"pct_usable_trips\": 0.9254658385093167}, {\"calitp_itp_id\": 4, \"total_trips\": 5206, \"n_trips\": 5111, \"trip_cutoff\": 15, \"segment_cutoff\": 0.4, \"cutoff\": \"15+ min & 40.0%+ segments\", \"pct_usable_trips\": 0.9817518248175182}, {\"calitp_itp_id\": 30, \"total_trips\": 44, \"n_trips\": 38, \"trip_cutoff\": 15, \"segment_cutoff\": 0.4, \"cutoff\": \"15+ min & 40.0%+ segments\", \"pct_usable_trips\": 0.8636363636363636}, {\"calitp_itp_id\": 45, \"total_trips\": 91, \"n_trips\": 87, \"trip_cutoff\": 15, \"segment_cutoff\": 0.4, \"cutoff\": \"15+ min & 40.0%+ segments\", \"pct_usable_trips\": 0.9560439560439561}, {\"calitp_itp_id\": 75, \"total_trips\": 112, \"n_trips\": 108, \"trip_cutoff\": 15, \"segment_cutoff\": 0.4, \"cutoff\": \"15+ min & 40.0%+ segments\", \"pct_usable_trips\": 0.9642857142857143}, {\"calitp_itp_id\": 110, \"total_trips\": 278, \"n_trips\": 275, \"trip_cutoff\": 15, \"segment_cutoff\": 0.4, \"cutoff\": \"15+ min & 40.0%+ segments\", \"pct_usable_trips\": 0.9892086330935251}, {\"calitp_itp_id\": 126, \"total_trips\": 566, \"n_trips\": 562, \"trip_cutoff\": 15, \"segment_cutoff\": 0.4, \"cutoff\": \"15+ min & 40.0%+ segments\", \"pct_usable_trips\": 0.9929328621908127}, {\"calitp_itp_id\": 127, \"total_trips\": 203, \"n_trips\": 195, \"trip_cutoff\": 15, \"segment_cutoff\": 0.4, \"cutoff\": \"15+ min & 40.0%+ segments\", \"pct_usable_trips\": 0.9605911330049262}, {\"calitp_itp_id\": 135, \"total_trips\": 115, \"n_trips\": 102, \"trip_cutoff\": 15, \"segment_cutoff\": 0.4, \"cutoff\": \"15+ min & 40.0%+ segments\", \"pct_usable_trips\": 0.8869565217391304}, {\"calitp_itp_id\": 148, \"total_trips\": 232, \"n_trips\": 231, \"trip_cutoff\": 15, \"segment_cutoff\": 0.4, \"cutoff\": \"15+ min & 40.0%+ segments\", \"pct_usable_trips\": 0.9956896551724138}, {\"calitp_itp_id\": 159, \"total_trips\": 73, \"n_trips\": 61, \"trip_cutoff\": 15, \"segment_cutoff\": 0.4, \"cutoff\": \"15+ min & 40.0%+ segments\", \"pct_usable_trips\": 0.8356164383561644}, {\"calitp_itp_id\": 167, \"total_trips\": 405, \"n_trips\": 396, \"trip_cutoff\": 15, \"segment_cutoff\": 0.4, \"cutoff\": \"15+ min & 40.0%+ segments\", \"pct_usable_trips\": 0.9777777777777777}, {\"calitp_itp_id\": 182, \"total_trips\": 13858, \"n_trips\": 12972, \"trip_cutoff\": 15, \"segment_cutoff\": 0.4, \"cutoff\": \"15+ min & 40.0%+ segments\", \"pct_usable_trips\": 0.9360658103622457}, {\"calitp_itp_id\": 188, \"total_trips\": 20, \"n_trips\": 20, \"trip_cutoff\": 15, \"segment_cutoff\": 0.4, \"cutoff\": \"15+ min & 40.0%+ segments\", \"pct_usable_trips\": 1.0}, {\"calitp_itp_id\": 194, \"total_trips\": 584, \"n_trips\": 490, \"trip_cutoff\": 15, \"segment_cutoff\": 0.4, \"cutoff\": \"15+ min & 40.0%+ segments\", \"pct_usable_trips\": 0.839041095890411}, {\"calitp_itp_id\": 218, \"total_trips\": 149, \"n_trips\": 122, \"trip_cutoff\": 15, \"segment_cutoff\": 0.4, \"cutoff\": \"15+ min & 40.0%+ segments\", \"pct_usable_trips\": 0.8187919463087249}, {\"calitp_itp_id\": 221, \"total_trips\": 104, \"n_trips\": 92, \"trip_cutoff\": 15, \"segment_cutoff\": 0.4, \"cutoff\": \"15+ min & 40.0%+ segments\", \"pct_usable_trips\": 0.8846153846153846}, {\"calitp_itp_id\": 226, \"total_trips\": 1293, \"n_trips\": 1283, \"trip_cutoff\": 15, \"segment_cutoff\": 0.4, \"cutoff\": \"15+ min & 40.0%+ segments\", \"pct_usable_trips\": 0.9922660479505027}, {\"calitp_itp_id\": 235, \"total_trips\": 3175, \"n_trips\": 3134, \"trip_cutoff\": 15, \"segment_cutoff\": 0.4, \"cutoff\": \"15+ min & 40.0%+ segments\", \"pct_usable_trips\": 0.9870866141732283}, {\"calitp_itp_id\": 243, \"total_trips\": 315, \"n_trips\": 307, \"trip_cutoff\": 15, \"segment_cutoff\": 0.4, \"cutoff\": \"15+ min & 40.0%+ segments\", \"pct_usable_trips\": 0.9746031746031746}, {\"calitp_itp_id\": 246, \"total_trips\": 79, \"n_trips\": 78, \"trip_cutoff\": 15, \"segment_cutoff\": 0.4, \"cutoff\": \"15+ min & 40.0%+ segments\", \"pct_usable_trips\": 0.9873417721518988}, {\"calitp_itp_id\": 247, \"total_trips\": 186, \"n_trips\": 85, \"trip_cutoff\": 15, \"segment_cutoff\": 0.4, \"cutoff\": \"15+ min & 40.0%+ segments\", \"pct_usable_trips\": 0.45698924731182794}, {\"calitp_itp_id\": 259, \"total_trips\": 253, \"n_trips\": 207, \"trip_cutoff\": 15, \"segment_cutoff\": 0.4, \"cutoff\": \"15+ min & 40.0%+ segments\", \"pct_usable_trips\": 0.8181818181818182}, {\"calitp_itp_id\": 269, \"total_trips\": 1097, \"n_trips\": 1089, \"trip_cutoff\": 15, \"segment_cutoff\": 0.4, \"cutoff\": \"15+ min & 40.0%+ segments\", \"pct_usable_trips\": 0.9927073837739289}, {\"calitp_itp_id\": 273, \"total_trips\": 1775, \"n_trips\": 1667, \"trip_cutoff\": 15, \"segment_cutoff\": 0.4, \"cutoff\": \"15+ min & 40.0%+ segments\", \"pct_usable_trips\": 0.9391549295774648}, {\"calitp_itp_id\": 282, \"total_trips\": 8578, \"n_trips\": 7532, \"trip_cutoff\": 15, \"segment_cutoff\": 0.4, \"cutoff\": \"15+ min & 40.0%+ segments\", \"pct_usable_trips\": 0.8780601538820237}, {\"calitp_itp_id\": 284, \"total_trips\": 852, \"n_trips\": 814, \"trip_cutoff\": 15, \"segment_cutoff\": 0.4, \"cutoff\": \"15+ min & 40.0%+ segments\", \"pct_usable_trips\": 0.9553990610328639}, {\"calitp_itp_id\": 290, \"total_trips\": 1372, \"n_trips\": 1340, \"trip_cutoff\": 15, \"segment_cutoff\": 0.4, \"cutoff\": \"15+ min & 40.0%+ segments\", \"pct_usable_trips\": 0.9766763848396501}, {\"calitp_itp_id\": 293, \"total_trips\": 940, \"n_trips\": 769, \"trip_cutoff\": 15, \"segment_cutoff\": 0.4, \"cutoff\": \"15+ min & 40.0%+ segments\", \"pct_usable_trips\": 0.8180851063829787}, {\"calitp_itp_id\": 294, \"total_trips\": 3512, \"n_trips\": 3369, \"trip_cutoff\": 15, \"segment_cutoff\": 0.4, \"cutoff\": \"15+ min & 40.0%+ segments\", \"pct_usable_trips\": 0.9592824601366743}, {\"calitp_itp_id\": 295, \"total_trips\": 416, \"n_trips\": 400, \"trip_cutoff\": 15, \"segment_cutoff\": 0.4, \"cutoff\": \"15+ min & 40.0%+ segments\", \"pct_usable_trips\": 0.9615384615384616}, {\"calitp_itp_id\": 300, \"total_trips\": 1338, \"n_trips\": 1288, \"trip_cutoff\": 15, \"segment_cutoff\": 0.4, \"cutoff\": \"15+ min & 40.0%+ segments\", \"pct_usable_trips\": 0.9626307922272048}, {\"calitp_itp_id\": 301, \"total_trips\": 517, \"n_trips\": 388, \"trip_cutoff\": 15, \"segment_cutoff\": 0.4, \"cutoff\": \"15+ min & 40.0%+ segments\", \"pct_usable_trips\": 0.7504835589941973}, {\"calitp_itp_id\": 310, \"total_trips\": 401, \"n_trips\": 362, \"trip_cutoff\": 15, \"segment_cutoff\": 0.4, \"cutoff\": \"15+ min & 40.0%+ segments\", \"pct_usable_trips\": 0.9027431421446384}, {\"calitp_itp_id\": 314, \"total_trips\": 166, \"n_trips\": 146, \"trip_cutoff\": 15, \"segment_cutoff\": 0.4, \"cutoff\": \"15+ min & 40.0%+ segments\", \"pct_usable_trips\": 0.8795180722891566}, {\"calitp_itp_id\": 315, \"total_trips\": 38, \"n_trips\": 37, \"trip_cutoff\": 15, \"segment_cutoff\": 0.4, \"cutoff\": \"15+ min & 40.0%+ segments\", \"pct_usable_trips\": 0.9736842105263158}, {\"calitp_itp_id\": 336, \"total_trips\": 490, \"n_trips\": 475, \"trip_cutoff\": 15, \"segment_cutoff\": 0.4, \"cutoff\": \"15+ min & 40.0%+ segments\", \"pct_usable_trips\": 0.9693877551020408}, {\"calitp_itp_id\": 349, \"total_trips\": 270, \"n_trips\": 172, \"trip_cutoff\": 15, \"segment_cutoff\": 0.4, \"cutoff\": \"15+ min & 40.0%+ segments\", \"pct_usable_trips\": 0.6370370370370371}, {\"calitp_itp_id\": 350, \"total_trips\": 219, \"n_trips\": 214, \"trip_cutoff\": 15, \"segment_cutoff\": 0.4, \"cutoff\": \"15+ min & 40.0%+ segments\", \"pct_usable_trips\": 0.9771689497716894}, {\"calitp_itp_id\": 361, \"total_trips\": 525, \"n_trips\": 515, \"trip_cutoff\": 15, \"segment_cutoff\": 0.4, \"cutoff\": \"15+ min & 40.0%+ segments\", \"pct_usable_trips\": 0.9809523809523809}, {\"calitp_itp_id\": 372, \"total_trips\": 161, \"n_trips\": 149, \"trip_cutoff\": 15, \"segment_cutoff\": 0.4, \"cutoff\": \"15+ min & 40.0%+ segments\", \"pct_usable_trips\": 0.9254658385093167}, {\"calitp_itp_id\": 4, \"total_trips\": 5206, \"n_trips\": 5091, \"trip_cutoff\": 15, \"segment_cutoff\": 0.5, \"cutoff\": \"15+ min & 50.0%+ segments\", \"pct_usable_trips\": 0.9779101037264695}, {\"calitp_itp_id\": 30, \"total_trips\": 44, \"n_trips\": 38, \"trip_cutoff\": 15, \"segment_cutoff\": 0.5, \"cutoff\": \"15+ min & 50.0%+ segments\", \"pct_usable_trips\": 0.8636363636363636}, {\"calitp_itp_id\": 45, \"total_trips\": 91, \"n_trips\": 87, \"trip_cutoff\": 15, \"segment_cutoff\": 0.5, \"cutoff\": \"15+ min & 50.0%+ segments\", \"pct_usable_trips\": 0.9560439560439561}, {\"calitp_itp_id\": 75, \"total_trips\": 112, \"n_trips\": 108, \"trip_cutoff\": 15, \"segment_cutoff\": 0.5, \"cutoff\": \"15+ min & 50.0%+ segments\", \"pct_usable_trips\": 0.9642857142857143}, {\"calitp_itp_id\": 110, \"total_trips\": 278, \"n_trips\": 263, \"trip_cutoff\": 15, \"segment_cutoff\": 0.5, \"cutoff\": \"15+ min & 50.0%+ segments\", \"pct_usable_trips\": 0.9460431654676259}, {\"calitp_itp_id\": 126, \"total_trips\": 566, \"n_trips\": 553, \"trip_cutoff\": 15, \"segment_cutoff\": 0.5, \"cutoff\": \"15+ min & 50.0%+ segments\", \"pct_usable_trips\": 0.9770318021201413}, {\"calitp_itp_id\": 127, \"total_trips\": 203, \"n_trips\": 195, \"trip_cutoff\": 15, \"segment_cutoff\": 0.5, \"cutoff\": \"15+ min & 50.0%+ segments\", \"pct_usable_trips\": 0.9605911330049262}, {\"calitp_itp_id\": 135, \"total_trips\": 115, \"n_trips\": 100, \"trip_cutoff\": 15, \"segment_cutoff\": 0.5, \"cutoff\": \"15+ min & 50.0%+ segments\", \"pct_usable_trips\": 0.8695652173913043}, {\"calitp_itp_id\": 148, \"total_trips\": 232, \"n_trips\": 231, \"trip_cutoff\": 15, \"segment_cutoff\": 0.5, \"cutoff\": \"15+ min & 50.0%+ segments\", \"pct_usable_trips\": 0.9956896551724138}, {\"calitp_itp_id\": 159, \"total_trips\": 73, \"n_trips\": 61, \"trip_cutoff\": 15, \"segment_cutoff\": 0.5, \"cutoff\": \"15+ min & 50.0%+ segments\", \"pct_usable_trips\": 0.8356164383561644}, {\"calitp_itp_id\": 167, \"total_trips\": 405, \"n_trips\": 393, \"trip_cutoff\": 15, \"segment_cutoff\": 0.5, \"cutoff\": \"15+ min & 50.0%+ segments\", \"pct_usable_trips\": 0.9703703703703703}, {\"calitp_itp_id\": 182, \"total_trips\": 13858, \"n_trips\": 12601, \"trip_cutoff\": 15, \"segment_cutoff\": 0.5, \"cutoff\": \"15+ min & 50.0%+ segments\", \"pct_usable_trips\": 0.9092942704574974}, {\"calitp_itp_id\": 188, \"total_trips\": 20, \"n_trips\": 20, \"trip_cutoff\": 15, \"segment_cutoff\": 0.5, \"cutoff\": \"15+ min & 50.0%+ segments\", \"pct_usable_trips\": 1.0}, {\"calitp_itp_id\": 194, \"total_trips\": 584, \"n_trips\": 483, \"trip_cutoff\": 15, \"segment_cutoff\": 0.5, \"cutoff\": \"15+ min & 50.0%+ segments\", \"pct_usable_trips\": 0.827054794520548}, {\"calitp_itp_id\": 218, \"total_trips\": 149, \"n_trips\": 121, \"trip_cutoff\": 15, \"segment_cutoff\": 0.5, \"cutoff\": \"15+ min & 50.0%+ segments\", \"pct_usable_trips\": 0.8120805369127517}, {\"calitp_itp_id\": 221, \"total_trips\": 104, \"n_trips\": 92, \"trip_cutoff\": 15, \"segment_cutoff\": 0.5, \"cutoff\": \"15+ min & 50.0%+ segments\", \"pct_usable_trips\": 0.8846153846153846}, {\"calitp_itp_id\": 226, \"total_trips\": 1293, \"n_trips\": 1277, \"trip_cutoff\": 15, \"segment_cutoff\": 0.5, \"cutoff\": \"15+ min & 50.0%+ segments\", \"pct_usable_trips\": 0.9876256767208044}, {\"calitp_itp_id\": 235, \"total_trips\": 3175, \"n_trips\": 3131, \"trip_cutoff\": 15, \"segment_cutoff\": 0.5, \"cutoff\": \"15+ min & 50.0%+ segments\", \"pct_usable_trips\": 0.9861417322834646}, {\"calitp_itp_id\": 243, \"total_trips\": 315, \"n_trips\": 306, \"trip_cutoff\": 15, \"segment_cutoff\": 0.5, \"cutoff\": \"15+ min & 50.0%+ segments\", \"pct_usable_trips\": 0.9714285714285714}, {\"calitp_itp_id\": 246, \"total_trips\": 79, \"n_trips\": 66, \"trip_cutoff\": 15, \"segment_cutoff\": 0.5, \"cutoff\": \"15+ min & 50.0%+ segments\", \"pct_usable_trips\": 0.8354430379746836}, {\"calitp_itp_id\": 247, \"total_trips\": 186, \"n_trips\": 85, \"trip_cutoff\": 15, \"segment_cutoff\": 0.5, \"cutoff\": \"15+ min & 50.0%+ segments\", \"pct_usable_trips\": 0.45698924731182794}, {\"calitp_itp_id\": 259, \"total_trips\": 253, \"n_trips\": 207, \"trip_cutoff\": 15, \"segment_cutoff\": 0.5, \"cutoff\": \"15+ min & 50.0%+ segments\", \"pct_usable_trips\": 0.8181818181818182}, {\"calitp_itp_id\": 269, \"total_trips\": 1097, \"n_trips\": 1086, \"trip_cutoff\": 15, \"segment_cutoff\": 0.5, \"cutoff\": \"15+ min & 50.0%+ segments\", \"pct_usable_trips\": 0.9899726526891522}, {\"calitp_itp_id\": 273, \"total_trips\": 1775, \"n_trips\": 1662, \"trip_cutoff\": 15, \"segment_cutoff\": 0.5, \"cutoff\": \"15+ min & 50.0%+ segments\", \"pct_usable_trips\": 0.9363380281690141}, {\"calitp_itp_id\": 282, \"total_trips\": 8578, \"n_trips\": 7421, \"trip_cutoff\": 15, \"segment_cutoff\": 0.5, \"cutoff\": \"15+ min & 50.0%+ segments\", \"pct_usable_trips\": 0.865120074609466}, {\"calitp_itp_id\": 284, \"total_trips\": 852, \"n_trips\": 811, \"trip_cutoff\": 15, \"segment_cutoff\": 0.5, \"cutoff\": \"15+ min & 50.0%+ segments\", \"pct_usable_trips\": 0.9518779342723005}, {\"calitp_itp_id\": 290, \"total_trips\": 1372, \"n_trips\": 1318, \"trip_cutoff\": 15, \"segment_cutoff\": 0.5, \"cutoff\": \"15+ min & 50.0%+ segments\", \"pct_usable_trips\": 0.9606413994169096}, {\"calitp_itp_id\": 293, \"total_trips\": 940, \"n_trips\": 764, \"trip_cutoff\": 15, \"segment_cutoff\": 0.5, \"cutoff\": \"15+ min & 50.0%+ segments\", \"pct_usable_trips\": 0.8127659574468085}, {\"calitp_itp_id\": 294, \"total_trips\": 3512, \"n_trips\": 3352, \"trip_cutoff\": 15, \"segment_cutoff\": 0.5, \"cutoff\": \"15+ min & 50.0%+ segments\", \"pct_usable_trips\": 0.9544419134396356}, {\"calitp_itp_id\": 295, \"total_trips\": 416, \"n_trips\": 398, \"trip_cutoff\": 15, \"segment_cutoff\": 0.5, \"cutoff\": \"15+ min & 50.0%+ segments\", \"pct_usable_trips\": 0.9567307692307693}, {\"calitp_itp_id\": 300, \"total_trips\": 1338, \"n_trips\": 1281, \"trip_cutoff\": 15, \"segment_cutoff\": 0.5, \"cutoff\": \"15+ min & 50.0%+ segments\", \"pct_usable_trips\": 0.9573991031390134}, {\"calitp_itp_id\": 301, \"total_trips\": 517, \"n_trips\": 387, \"trip_cutoff\": 15, \"segment_cutoff\": 0.5, \"cutoff\": \"15+ min & 50.0%+ segments\", \"pct_usable_trips\": 0.7485493230174082}, {\"calitp_itp_id\": 310, \"total_trips\": 401, \"n_trips\": 334, \"trip_cutoff\": 15, \"segment_cutoff\": 0.5, \"cutoff\": \"15+ min & 50.0%+ segments\", \"pct_usable_trips\": 0.8329177057356608}, {\"calitp_itp_id\": 314, \"total_trips\": 166, \"n_trips\": 139, \"trip_cutoff\": 15, \"segment_cutoff\": 0.5, \"cutoff\": \"15+ min & 50.0%+ segments\", \"pct_usable_trips\": 0.8373493975903614}, {\"calitp_itp_id\": 315, \"total_trips\": 38, \"n_trips\": 37, \"trip_cutoff\": 15, \"segment_cutoff\": 0.5, \"cutoff\": \"15+ min & 50.0%+ segments\", \"pct_usable_trips\": 0.9736842105263158}, {\"calitp_itp_id\": 336, \"total_trips\": 490, \"n_trips\": 473, \"trip_cutoff\": 15, \"segment_cutoff\": 0.5, \"cutoff\": \"15+ min & 50.0%+ segments\", \"pct_usable_trips\": 0.9653061224489796}, {\"calitp_itp_id\": 349, \"total_trips\": 270, \"n_trips\": 172, \"trip_cutoff\": 15, \"segment_cutoff\": 0.5, \"cutoff\": \"15+ min & 50.0%+ segments\", \"pct_usable_trips\": 0.6370370370370371}, {\"calitp_itp_id\": 350, \"total_trips\": 219, \"n_trips\": 214, \"trip_cutoff\": 15, \"segment_cutoff\": 0.5, \"cutoff\": \"15+ min & 50.0%+ segments\", \"pct_usable_trips\": 0.9771689497716894}, {\"calitp_itp_id\": 361, \"total_trips\": 525, \"n_trips\": 515, \"trip_cutoff\": 15, \"segment_cutoff\": 0.5, \"cutoff\": \"15+ min & 50.0%+ segments\", \"pct_usable_trips\": 0.9809523809523809}, {\"calitp_itp_id\": 372, \"total_trips\": 161, \"n_trips\": 148, \"trip_cutoff\": 15, \"segment_cutoff\": 0.5, \"cutoff\": \"15+ min & 50.0%+ segments\", \"pct_usable_trips\": 0.9192546583850931}, {\"calitp_itp_id\": 4, \"total_trips\": 5206, \"n_trips\": 4963, \"trip_cutoff\": 15, \"segment_cutoff\": 0.6, \"cutoff\": \"15+ min & 60.0%+ segments\", \"pct_usable_trips\": 0.9533230887437572}, {\"calitp_itp_id\": 30, \"total_trips\": 44, \"n_trips\": 38, \"trip_cutoff\": 15, \"segment_cutoff\": 0.6, \"cutoff\": \"15+ min & 60.0%+ segments\", \"pct_usable_trips\": 0.8636363636363636}, {\"calitp_itp_id\": 45, \"total_trips\": 91, \"n_trips\": 87, \"trip_cutoff\": 15, \"segment_cutoff\": 0.6, \"cutoff\": \"15+ min & 60.0%+ segments\", \"pct_usable_trips\": 0.9560439560439561}, {\"calitp_itp_id\": 75, \"total_trips\": 112, \"n_trips\": 108, \"trip_cutoff\": 15, \"segment_cutoff\": 0.6, \"cutoff\": \"15+ min & 60.0%+ segments\", \"pct_usable_trips\": 0.9642857142857143}, {\"calitp_itp_id\": 110, \"total_trips\": 278, \"n_trips\": 248, \"trip_cutoff\": 15, \"segment_cutoff\": 0.6, \"cutoff\": \"15+ min & 60.0%+ segments\", \"pct_usable_trips\": 0.8920863309352518}, {\"calitp_itp_id\": 126, \"total_trips\": 566, \"n_trips\": 529, \"trip_cutoff\": 15, \"segment_cutoff\": 0.6, \"cutoff\": \"15+ min & 60.0%+ segments\", \"pct_usable_trips\": 0.9346289752650176}, {\"calitp_itp_id\": 127, \"total_trips\": 203, \"n_trips\": 195, \"trip_cutoff\": 15, \"segment_cutoff\": 0.6, \"cutoff\": \"15+ min & 60.0%+ segments\", \"pct_usable_trips\": 0.9605911330049262}, {\"calitp_itp_id\": 135, \"total_trips\": 115, \"n_trips\": 91, \"trip_cutoff\": 15, \"segment_cutoff\": 0.6, \"cutoff\": \"15+ min & 60.0%+ segments\", \"pct_usable_trips\": 0.7913043478260869}, {\"calitp_itp_id\": 148, \"total_trips\": 232, \"n_trips\": 231, \"trip_cutoff\": 15, \"segment_cutoff\": 0.6, \"cutoff\": \"15+ min & 60.0%+ segments\", \"pct_usable_trips\": 0.9956896551724138}, {\"calitp_itp_id\": 159, \"total_trips\": 73, \"n_trips\": 61, \"trip_cutoff\": 15, \"segment_cutoff\": 0.6, \"cutoff\": \"15+ min & 60.0%+ segments\", \"pct_usable_trips\": 0.8356164383561644}, {\"calitp_itp_id\": 167, \"total_trips\": 405, \"n_trips\": 386, \"trip_cutoff\": 15, \"segment_cutoff\": 0.6, \"cutoff\": \"15+ min & 60.0%+ segments\", \"pct_usable_trips\": 0.9530864197530864}, {\"calitp_itp_id\": 182, \"total_trips\": 13858, \"n_trips\": 12075, \"trip_cutoff\": 15, \"segment_cutoff\": 0.6, \"cutoff\": \"15+ min & 60.0%+ segments\", \"pct_usable_trips\": 0.8713378553903882}, {\"calitp_itp_id\": 188, \"total_trips\": 20, \"n_trips\": 20, \"trip_cutoff\": 15, \"segment_cutoff\": 0.6, \"cutoff\": \"15+ min & 60.0%+ segments\", \"pct_usable_trips\": 1.0}, {\"calitp_itp_id\": 194, \"total_trips\": 584, \"n_trips\": 477, \"trip_cutoff\": 15, \"segment_cutoff\": 0.6, \"cutoff\": \"15+ min & 60.0%+ segments\", \"pct_usable_trips\": 0.8167808219178082}, {\"calitp_itp_id\": 218, \"total_trips\": 149, \"n_trips\": 120, \"trip_cutoff\": 15, \"segment_cutoff\": 0.6, \"cutoff\": \"15+ min & 60.0%+ segments\", \"pct_usable_trips\": 0.8053691275167785}, {\"calitp_itp_id\": 221, \"total_trips\": 104, \"n_trips\": 90, \"trip_cutoff\": 15, \"segment_cutoff\": 0.6, \"cutoff\": \"15+ min & 60.0%+ segments\", \"pct_usable_trips\": 0.8653846153846154}, {\"calitp_itp_id\": 226, \"total_trips\": 1293, \"n_trips\": 1271, \"trip_cutoff\": 15, \"segment_cutoff\": 0.6, \"cutoff\": \"15+ min & 60.0%+ segments\", \"pct_usable_trips\": 0.982985305491106}, {\"calitp_itp_id\": 235, \"total_trips\": 3175, \"n_trips\": 3071, \"trip_cutoff\": 15, \"segment_cutoff\": 0.6, \"cutoff\": \"15+ min & 60.0%+ segments\", \"pct_usable_trips\": 0.9672440944881889}, {\"calitp_itp_id\": 243, \"total_trips\": 315, \"n_trips\": 304, \"trip_cutoff\": 15, \"segment_cutoff\": 0.6, \"cutoff\": \"15+ min & 60.0%+ segments\", \"pct_usable_trips\": 0.9650793650793651}, {\"calitp_itp_id\": 246, \"total_trips\": 79, \"n_trips\": 62, \"trip_cutoff\": 15, \"segment_cutoff\": 0.6, \"cutoff\": \"15+ min & 60.0%+ segments\", \"pct_usable_trips\": 0.7848101265822784}, {\"calitp_itp_id\": 247, \"total_trips\": 186, \"n_trips\": 85, \"trip_cutoff\": 15, \"segment_cutoff\": 0.6, \"cutoff\": \"15+ min & 60.0%+ segments\", \"pct_usable_trips\": 0.45698924731182794}, {\"calitp_itp_id\": 259, \"total_trips\": 253, \"n_trips\": 207, \"trip_cutoff\": 15, \"segment_cutoff\": 0.6, \"cutoff\": \"15+ min & 60.0%+ segments\", \"pct_usable_trips\": 0.8181818181818182}, {\"calitp_itp_id\": 269, \"total_trips\": 1097, \"n_trips\": 1083, \"trip_cutoff\": 15, \"segment_cutoff\": 0.6, \"cutoff\": \"15+ min & 60.0%+ segments\", \"pct_usable_trips\": 0.9872379216043756}, {\"calitp_itp_id\": 273, \"total_trips\": 1775, \"n_trips\": 1657, \"trip_cutoff\": 15, \"segment_cutoff\": 0.6, \"cutoff\": \"15+ min & 60.0%+ segments\", \"pct_usable_trips\": 0.9335211267605634}, {\"calitp_itp_id\": 282, \"total_trips\": 8578, \"n_trips\": 7113, \"trip_cutoff\": 15, \"segment_cutoff\": 0.6, \"cutoff\": \"15+ min & 60.0%+ segments\", \"pct_usable_trips\": 0.8292142690603871}, {\"calitp_itp_id\": 284, \"total_trips\": 852, \"n_trips\": 802, \"trip_cutoff\": 15, \"segment_cutoff\": 0.6, \"cutoff\": \"15+ min & 60.0%+ segments\", \"pct_usable_trips\": 0.9413145539906104}, {\"calitp_itp_id\": 290, \"total_trips\": 1372, \"n_trips\": 1243, \"trip_cutoff\": 15, \"segment_cutoff\": 0.6, \"cutoff\": \"15+ min & 60.0%+ segments\", \"pct_usable_trips\": 0.9059766763848397}, {\"calitp_itp_id\": 293, \"total_trips\": 940, \"n_trips\": 757, \"trip_cutoff\": 15, \"segment_cutoff\": 0.6, \"cutoff\": \"15+ min & 60.0%+ segments\", \"pct_usable_trips\": 0.8053191489361702}, {\"calitp_itp_id\": 294, \"total_trips\": 3512, \"n_trips\": 3322, \"trip_cutoff\": 15, \"segment_cutoff\": 0.6, \"cutoff\": \"15+ min & 60.0%+ segments\", \"pct_usable_trips\": 0.9458997722095672}, {\"calitp_itp_id\": 295, \"total_trips\": 416, \"n_trips\": 396, \"trip_cutoff\": 15, \"segment_cutoff\": 0.6, \"cutoff\": \"15+ min & 60.0%+ segments\", \"pct_usable_trips\": 0.9519230769230769}, {\"calitp_itp_id\": 300, \"total_trips\": 1338, \"n_trips\": 1233, \"trip_cutoff\": 15, \"segment_cutoff\": 0.6, \"cutoff\": \"15+ min & 60.0%+ segments\", \"pct_usable_trips\": 0.92152466367713}, {\"calitp_itp_id\": 301, \"total_trips\": 517, \"n_trips\": 352, \"trip_cutoff\": 15, \"segment_cutoff\": 0.6, \"cutoff\": \"15+ min & 60.0%+ segments\", \"pct_usable_trips\": 0.6808510638297872}, {\"calitp_itp_id\": 310, \"total_trips\": 401, \"n_trips\": 320, \"trip_cutoff\": 15, \"segment_cutoff\": 0.6, \"cutoff\": \"15+ min & 60.0%+ segments\", \"pct_usable_trips\": 0.7980049875311721}, {\"calitp_itp_id\": 314, \"total_trips\": 166, \"n_trips\": 131, \"trip_cutoff\": 15, \"segment_cutoff\": 0.6, \"cutoff\": \"15+ min & 60.0%+ segments\", \"pct_usable_trips\": 0.7891566265060241}, {\"calitp_itp_id\": 315, \"total_trips\": 38, \"n_trips\": 37, \"trip_cutoff\": 15, \"segment_cutoff\": 0.6, \"cutoff\": \"15+ min & 60.0%+ segments\", \"pct_usable_trips\": 0.9736842105263158}, {\"calitp_itp_id\": 336, \"total_trips\": 490, \"n_trips\": 473, \"trip_cutoff\": 15, \"segment_cutoff\": 0.6, \"cutoff\": \"15+ min & 60.0%+ segments\", \"pct_usable_trips\": 0.9653061224489796}, {\"calitp_itp_id\": 349, \"total_trips\": 270, \"n_trips\": 172, \"trip_cutoff\": 15, \"segment_cutoff\": 0.6, \"cutoff\": \"15+ min & 60.0%+ segments\", \"pct_usable_trips\": 0.6370370370370371}, {\"calitp_itp_id\": 350, \"total_trips\": 219, \"n_trips\": 214, \"trip_cutoff\": 15, \"segment_cutoff\": 0.6, \"cutoff\": \"15+ min & 60.0%+ segments\", \"pct_usable_trips\": 0.9771689497716894}, {\"calitp_itp_id\": 361, \"total_trips\": 525, \"n_trips\": 514, \"trip_cutoff\": 15, \"segment_cutoff\": 0.6, \"cutoff\": \"15+ min & 60.0%+ segments\", \"pct_usable_trips\": 0.979047619047619}, {\"calitp_itp_id\": 372, \"total_trips\": 161, \"n_trips\": 146, \"trip_cutoff\": 15, \"segment_cutoff\": 0.6, \"cutoff\": \"15+ min & 60.0%+ segments\", \"pct_usable_trips\": 0.906832298136646}, {\"calitp_itp_id\": 4, \"total_trips\": 5206, \"n_trips\": 4940, \"trip_cutoff\": 15, \"segment_cutoff\": 0.7, \"cutoff\": \"15+ min & 70.0%+ segments\", \"pct_usable_trips\": 0.948905109489051}, {\"calitp_itp_id\": 30, \"total_trips\": 44, \"n_trips\": 38, \"trip_cutoff\": 15, \"segment_cutoff\": 0.7, \"cutoff\": \"15+ min & 70.0%+ segments\", \"pct_usable_trips\": 0.8636363636363636}, {\"calitp_itp_id\": 45, \"total_trips\": 91, \"n_trips\": 87, \"trip_cutoff\": 15, \"segment_cutoff\": 0.7, \"cutoff\": \"15+ min & 70.0%+ segments\", \"pct_usable_trips\": 0.9560439560439561}, {\"calitp_itp_id\": 75, \"total_trips\": 112, \"n_trips\": 106, \"trip_cutoff\": 15, \"segment_cutoff\": 0.7, \"cutoff\": \"15+ min & 70.0%+ segments\", \"pct_usable_trips\": 0.9464285714285714}, {\"calitp_itp_id\": 110, \"total_trips\": 278, \"n_trips\": 247, \"trip_cutoff\": 15, \"segment_cutoff\": 0.7, \"cutoff\": \"15+ min & 70.0%+ segments\", \"pct_usable_trips\": 0.8884892086330936}, {\"calitp_itp_id\": 126, \"total_trips\": 566, \"n_trips\": 514, \"trip_cutoff\": 15, \"segment_cutoff\": 0.7, \"cutoff\": \"15+ min & 70.0%+ segments\", \"pct_usable_trips\": 0.9081272084805654}, {\"calitp_itp_id\": 127, \"total_trips\": 203, \"n_trips\": 195, \"trip_cutoff\": 15, \"segment_cutoff\": 0.7, \"cutoff\": \"15+ min & 70.0%+ segments\", \"pct_usable_trips\": 0.9605911330049262}, {\"calitp_itp_id\": 135, \"total_trips\": 115, \"n_trips\": 84, \"trip_cutoff\": 15, \"segment_cutoff\": 0.7, \"cutoff\": \"15+ min & 70.0%+ segments\", \"pct_usable_trips\": 0.7304347826086957}, {\"calitp_itp_id\": 148, \"total_trips\": 232, \"n_trips\": 231, \"trip_cutoff\": 15, \"segment_cutoff\": 0.7, \"cutoff\": \"15+ min & 70.0%+ segments\", \"pct_usable_trips\": 0.9956896551724138}, {\"calitp_itp_id\": 159, \"total_trips\": 73, \"n_trips\": 60, \"trip_cutoff\": 15, \"segment_cutoff\": 0.7, \"cutoff\": \"15+ min & 70.0%+ segments\", \"pct_usable_trips\": 0.821917808219178}, {\"calitp_itp_id\": 167, \"total_trips\": 405, \"n_trips\": 380, \"trip_cutoff\": 15, \"segment_cutoff\": 0.7, \"cutoff\": \"15+ min & 70.0%+ segments\", \"pct_usable_trips\": 0.9382716049382716}, {\"calitp_itp_id\": 182, \"total_trips\": 13858, \"n_trips\": 10874, \"trip_cutoff\": 15, \"segment_cutoff\": 0.7, \"cutoff\": \"15+ min & 70.0%+ segments\", \"pct_usable_trips\": 0.7846731130033194}, {\"calitp_itp_id\": 188, \"total_trips\": 20, \"n_trips\": 19, \"trip_cutoff\": 15, \"segment_cutoff\": 0.7, \"cutoff\": \"15+ min & 70.0%+ segments\", \"pct_usable_trips\": 0.95}, {\"calitp_itp_id\": 194, \"total_trips\": 584, \"n_trips\": 460, \"trip_cutoff\": 15, \"segment_cutoff\": 0.7, \"cutoff\": \"15+ min & 70.0%+ segments\", \"pct_usable_trips\": 0.7876712328767124}, {\"calitp_itp_id\": 218, \"total_trips\": 149, \"n_trips\": 119, \"trip_cutoff\": 15, \"segment_cutoff\": 0.7, \"cutoff\": \"15+ min & 70.0%+ segments\", \"pct_usable_trips\": 0.7986577181208053}, {\"calitp_itp_id\": 221, \"total_trips\": 104, \"n_trips\": 87, \"trip_cutoff\": 15, \"segment_cutoff\": 0.7, \"cutoff\": \"15+ min & 70.0%+ segments\", \"pct_usable_trips\": 0.8365384615384616}, {\"calitp_itp_id\": 226, \"total_trips\": 1293, \"n_trips\": 1243, \"trip_cutoff\": 15, \"segment_cutoff\": 0.7, \"cutoff\": \"15+ min & 70.0%+ segments\", \"pct_usable_trips\": 0.9613302397525135}, {\"calitp_itp_id\": 235, \"total_trips\": 3175, \"n_trips\": 2882, \"trip_cutoff\": 15, \"segment_cutoff\": 0.7, \"cutoff\": \"15+ min & 70.0%+ segments\", \"pct_usable_trips\": 0.9077165354330708}, {\"calitp_itp_id\": 243, \"total_trips\": 315, \"n_trips\": 304, \"trip_cutoff\": 15, \"segment_cutoff\": 0.7, \"cutoff\": \"15+ min & 70.0%+ segments\", \"pct_usable_trips\": 0.9650793650793651}, {\"calitp_itp_id\": 246, \"total_trips\": 79, \"n_trips\": 47, \"trip_cutoff\": 15, \"segment_cutoff\": 0.7, \"cutoff\": \"15+ min & 70.0%+ segments\", \"pct_usable_trips\": 0.5949367088607594}, {\"calitp_itp_id\": 247, \"total_trips\": 186, \"n_trips\": 84, \"trip_cutoff\": 15, \"segment_cutoff\": 0.7, \"cutoff\": \"15+ min & 70.0%+ segments\", \"pct_usable_trips\": 0.45161290322580644}, {\"calitp_itp_id\": 259, \"total_trips\": 253, \"n_trips\": 207, \"trip_cutoff\": 15, \"segment_cutoff\": 0.7, \"cutoff\": \"15+ min & 70.0%+ segments\", \"pct_usable_trips\": 0.8181818181818182}, {\"calitp_itp_id\": 269, \"total_trips\": 1097, \"n_trips\": 1077, \"trip_cutoff\": 15, \"segment_cutoff\": 0.7, \"cutoff\": \"15+ min & 70.0%+ segments\", \"pct_usable_trips\": 0.9817684594348223}, {\"calitp_itp_id\": 273, \"total_trips\": 1775, \"n_trips\": 1636, \"trip_cutoff\": 15, \"segment_cutoff\": 0.7, \"cutoff\": \"15+ min & 70.0%+ segments\", \"pct_usable_trips\": 0.9216901408450704}, {\"calitp_itp_id\": 282, \"total_trips\": 8578, \"n_trips\": 6941, \"trip_cutoff\": 15, \"segment_cutoff\": 0.7, \"cutoff\": \"15+ min & 70.0%+ segments\", \"pct_usable_trips\": 0.8091629750524598}, {\"calitp_itp_id\": 284, \"total_trips\": 852, \"n_trips\": 746, \"trip_cutoff\": 15, \"segment_cutoff\": 0.7, \"cutoff\": \"15+ min & 70.0%+ segments\", \"pct_usable_trips\": 0.8755868544600939}, {\"calitp_itp_id\": 290, \"total_trips\": 1372, \"n_trips\": 1216, \"trip_cutoff\": 15, \"segment_cutoff\": 0.7, \"cutoff\": \"15+ min & 70.0%+ segments\", \"pct_usable_trips\": 0.8862973760932945}, {\"calitp_itp_id\": 293, \"total_trips\": 940, \"n_trips\": 740, \"trip_cutoff\": 15, \"segment_cutoff\": 0.7, \"cutoff\": \"15+ min & 70.0%+ segments\", \"pct_usable_trips\": 0.7872340425531915}, {\"calitp_itp_id\": 294, \"total_trips\": 3512, \"n_trips\": 3242, \"trip_cutoff\": 15, \"segment_cutoff\": 0.7, \"cutoff\": \"15+ min & 70.0%+ segments\", \"pct_usable_trips\": 0.923120728929385}, {\"calitp_itp_id\": 295, \"total_trips\": 416, \"n_trips\": 387, \"trip_cutoff\": 15, \"segment_cutoff\": 0.7, \"cutoff\": \"15+ min & 70.0%+ segments\", \"pct_usable_trips\": 0.9302884615384616}, {\"calitp_itp_id\": 300, \"total_trips\": 1338, \"n_trips\": 1141, \"trip_cutoff\": 15, \"segment_cutoff\": 0.7, \"cutoff\": \"15+ min & 70.0%+ segments\", \"pct_usable_trips\": 0.8527653213751868}, {\"calitp_itp_id\": 301, \"total_trips\": 517, \"n_trips\": 327, \"trip_cutoff\": 15, \"segment_cutoff\": 0.7, \"cutoff\": \"15+ min & 70.0%+ segments\", \"pct_usable_trips\": 0.632495164410058}, {\"calitp_itp_id\": 310, \"total_trips\": 401, \"n_trips\": 303, \"trip_cutoff\": 15, \"segment_cutoff\": 0.7, \"cutoff\": \"15+ min & 70.0%+ segments\", \"pct_usable_trips\": 0.7556109725685786}, {\"calitp_itp_id\": 314, \"total_trips\": 166, \"n_trips\": 123, \"trip_cutoff\": 15, \"segment_cutoff\": 0.7, \"cutoff\": \"15+ min & 70.0%+ segments\", \"pct_usable_trips\": 0.7409638554216867}, {\"calitp_itp_id\": 315, \"total_trips\": 38, \"n_trips\": 34, \"trip_cutoff\": 15, \"segment_cutoff\": 0.7, \"cutoff\": \"15+ min & 70.0%+ segments\", \"pct_usable_trips\": 0.8947368421052632}, {\"calitp_itp_id\": 336, \"total_trips\": 490, \"n_trips\": 465, \"trip_cutoff\": 15, \"segment_cutoff\": 0.7, \"cutoff\": \"15+ min & 70.0%+ segments\", \"pct_usable_trips\": 0.9489795918367347}, {\"calitp_itp_id\": 349, \"total_trips\": 270, \"n_trips\": 171, \"trip_cutoff\": 15, \"segment_cutoff\": 0.7, \"cutoff\": \"15+ min & 70.0%+ segments\", \"pct_usable_trips\": 0.6333333333333333}, {\"calitp_itp_id\": 350, \"total_trips\": 219, \"n_trips\": 213, \"trip_cutoff\": 15, \"segment_cutoff\": 0.7, \"cutoff\": \"15+ min & 70.0%+ segments\", \"pct_usable_trips\": 0.9726027397260274}, {\"calitp_itp_id\": 361, \"total_trips\": 525, \"n_trips\": 514, \"trip_cutoff\": 15, \"segment_cutoff\": 0.7, \"cutoff\": \"15+ min & 70.0%+ segments\", \"pct_usable_trips\": 0.979047619047619}, {\"calitp_itp_id\": 372, \"total_trips\": 161, \"n_trips\": 145, \"trip_cutoff\": 15, \"segment_cutoff\": 0.7, \"cutoff\": \"15+ min & 70.0%+ segments\", \"pct_usable_trips\": 0.9006211180124224}, {\"calitp_itp_id\": 4, \"total_trips\": 5206, \"n_trips\": 4915, \"trip_cutoff\": 15, \"segment_cutoff\": 0.75, \"cutoff\": \"15+ min & 75.0%+ segments\", \"pct_usable_trips\": 0.9441029581252401}, {\"calitp_itp_id\": 30, \"total_trips\": 44, \"n_trips\": 31, \"trip_cutoff\": 15, \"segment_cutoff\": 0.75, \"cutoff\": \"15+ min & 75.0%+ segments\", \"pct_usable_trips\": 0.7045454545454546}, {\"calitp_itp_id\": 45, \"total_trips\": 91, \"n_trips\": 87, \"trip_cutoff\": 15, \"segment_cutoff\": 0.75, \"cutoff\": \"15+ min & 75.0%+ segments\", \"pct_usable_trips\": 0.9560439560439561}, {\"calitp_itp_id\": 75, \"total_trips\": 112, \"n_trips\": 106, \"trip_cutoff\": 15, \"segment_cutoff\": 0.75, \"cutoff\": \"15+ min & 75.0%+ segments\", \"pct_usable_trips\": 0.9464285714285714}, {\"calitp_itp_id\": 110, \"total_trips\": 278, \"n_trips\": 247, \"trip_cutoff\": 15, \"segment_cutoff\": 0.75, \"cutoff\": \"15+ min & 75.0%+ segments\", \"pct_usable_trips\": 0.8884892086330936}, {\"calitp_itp_id\": 126, \"total_trips\": 566, \"n_trips\": 513, \"trip_cutoff\": 15, \"segment_cutoff\": 0.75, \"cutoff\": \"15+ min & 75.0%+ segments\", \"pct_usable_trips\": 0.9063604240282686}, {\"calitp_itp_id\": 127, \"total_trips\": 203, \"n_trips\": 195, \"trip_cutoff\": 15, \"segment_cutoff\": 0.75, \"cutoff\": \"15+ min & 75.0%+ segments\", \"pct_usable_trips\": 0.9605911330049262}, {\"calitp_itp_id\": 135, \"total_trips\": 115, \"n_trips\": 82, \"trip_cutoff\": 15, \"segment_cutoff\": 0.75, \"cutoff\": \"15+ min & 75.0%+ segments\", \"pct_usable_trips\": 0.7130434782608696}, {\"calitp_itp_id\": 148, \"total_trips\": 232, \"n_trips\": 231, \"trip_cutoff\": 15, \"segment_cutoff\": 0.75, \"cutoff\": \"15+ min & 75.0%+ segments\", \"pct_usable_trips\": 0.9956896551724138}, {\"calitp_itp_id\": 159, \"total_trips\": 73, \"n_trips\": 60, \"trip_cutoff\": 15, \"segment_cutoff\": 0.75, \"cutoff\": \"15+ min & 75.0%+ segments\", \"pct_usable_trips\": 0.821917808219178}, {\"calitp_itp_id\": 167, \"total_trips\": 405, \"n_trips\": 378, \"trip_cutoff\": 15, \"segment_cutoff\": 0.75, \"cutoff\": \"15+ min & 75.0%+ segments\", \"pct_usable_trips\": 0.9333333333333333}, {\"calitp_itp_id\": 182, \"total_trips\": 13858, \"n_trips\": 10134, \"trip_cutoff\": 15, \"segment_cutoff\": 0.75, \"cutoff\": \"15+ min & 75.0%+ segments\", \"pct_usable_trips\": 0.7312743541636599}, {\"calitp_itp_id\": 188, \"total_trips\": 20, \"n_trips\": 19, \"trip_cutoff\": 15, \"segment_cutoff\": 0.75, \"cutoff\": \"15+ min & 75.0%+ segments\", \"pct_usable_trips\": 0.95}, {\"calitp_itp_id\": 194, \"total_trips\": 584, \"n_trips\": 452, \"trip_cutoff\": 15, \"segment_cutoff\": 0.75, \"cutoff\": \"15+ min & 75.0%+ segments\", \"pct_usable_trips\": 0.773972602739726}, {\"calitp_itp_id\": 218, \"total_trips\": 149, \"n_trips\": 118, \"trip_cutoff\": 15, \"segment_cutoff\": 0.75, \"cutoff\": \"15+ min & 75.0%+ segments\", \"pct_usable_trips\": 0.7919463087248322}, {\"calitp_itp_id\": 221, \"total_trips\": 104, \"n_trips\": 83, \"trip_cutoff\": 15, \"segment_cutoff\": 0.75, \"cutoff\": \"15+ min & 75.0%+ segments\", \"pct_usable_trips\": 0.7980769230769231}, {\"calitp_itp_id\": 226, \"total_trips\": 1293, \"n_trips\": 1230, \"trip_cutoff\": 15, \"segment_cutoff\": 0.75, \"cutoff\": \"15+ min & 75.0%+ segments\", \"pct_usable_trips\": 0.951276102088167}, {\"calitp_itp_id\": 235, \"total_trips\": 3175, \"n_trips\": 2852, \"trip_cutoff\": 15, \"segment_cutoff\": 0.75, \"cutoff\": \"15+ min & 75.0%+ segments\", \"pct_usable_trips\": 0.898267716535433}, {\"calitp_itp_id\": 243, \"total_trips\": 315, \"n_trips\": 304, \"trip_cutoff\": 15, \"segment_cutoff\": 0.75, \"cutoff\": \"15+ min & 75.0%+ segments\", \"pct_usable_trips\": 0.9650793650793651}, {\"calitp_itp_id\": 246, \"total_trips\": 79, \"n_trips\": 34, \"trip_cutoff\": 15, \"segment_cutoff\": 0.75, \"cutoff\": \"15+ min & 75.0%+ segments\", \"pct_usable_trips\": 0.43037974683544306}, {\"calitp_itp_id\": 247, \"total_trips\": 186, \"n_trips\": 80, \"trip_cutoff\": 15, \"segment_cutoff\": 0.75, \"cutoff\": \"15+ min & 75.0%+ segments\", \"pct_usable_trips\": 0.43010752688172044}, {\"calitp_itp_id\": 259, \"total_trips\": 253, \"n_trips\": 207, \"trip_cutoff\": 15, \"segment_cutoff\": 0.75, \"cutoff\": \"15+ min & 75.0%+ segments\", \"pct_usable_trips\": 0.8181818181818182}, {\"calitp_itp_id\": 269, \"total_trips\": 1097, \"n_trips\": 1073, \"trip_cutoff\": 15, \"segment_cutoff\": 0.75, \"cutoff\": \"15+ min & 75.0%+ segments\", \"pct_usable_trips\": 0.9781221513217867}, {\"calitp_itp_id\": 273, \"total_trips\": 1775, \"n_trips\": 1625, \"trip_cutoff\": 15, \"segment_cutoff\": 0.75, \"cutoff\": \"15+ min & 75.0%+ segments\", \"pct_usable_trips\": 0.9154929577464789}, {\"calitp_itp_id\": 282, \"total_trips\": 8578, \"n_trips\": 6897, \"trip_cutoff\": 15, \"segment_cutoff\": 0.75, \"cutoff\": \"15+ min & 75.0%+ segments\", \"pct_usable_trips\": 0.8040335742597342}, {\"calitp_itp_id\": 284, \"total_trips\": 852, \"n_trips\": 733, \"trip_cutoff\": 15, \"segment_cutoff\": 0.75, \"cutoff\": \"15+ min & 75.0%+ segments\", \"pct_usable_trips\": 0.8603286384976526}, {\"calitp_itp_id\": 290, \"total_trips\": 1372, \"n_trips\": 1199, \"trip_cutoff\": 15, \"segment_cutoff\": 0.75, \"cutoff\": \"15+ min & 75.0%+ segments\", \"pct_usable_trips\": 0.8739067055393586}, {\"calitp_itp_id\": 293, \"total_trips\": 940, \"n_trips\": 707, \"trip_cutoff\": 15, \"segment_cutoff\": 0.75, \"cutoff\": \"15+ min & 75.0%+ segments\", \"pct_usable_trips\": 0.752127659574468}, {\"calitp_itp_id\": 294, \"total_trips\": 3512, \"n_trips\": 3161, \"trip_cutoff\": 15, \"segment_cutoff\": 0.75, \"cutoff\": \"15+ min & 75.0%+ segments\", \"pct_usable_trips\": 0.9000569476082004}, {\"calitp_itp_id\": 295, \"total_trips\": 416, \"n_trips\": 380, \"trip_cutoff\": 15, \"segment_cutoff\": 0.75, \"cutoff\": \"15+ min & 75.0%+ segments\", \"pct_usable_trips\": 0.9134615384615384}, {\"calitp_itp_id\": 300, \"total_trips\": 1338, \"n_trips\": 1084, \"trip_cutoff\": 15, \"segment_cutoff\": 0.75, \"cutoff\": \"15+ min & 75.0%+ segments\", \"pct_usable_trips\": 0.8101644245142003}, {\"calitp_itp_id\": 301, \"total_trips\": 517, \"n_trips\": 308, \"trip_cutoff\": 15, \"segment_cutoff\": 0.75, \"cutoff\": \"15+ min & 75.0%+ segments\", \"pct_usable_trips\": 0.5957446808510638}, {\"calitp_itp_id\": 310, \"total_trips\": 401, \"n_trips\": 302, \"trip_cutoff\": 15, \"segment_cutoff\": 0.75, \"cutoff\": \"15+ min & 75.0%+ segments\", \"pct_usable_trips\": 0.7531172069825436}, {\"calitp_itp_id\": 314, \"total_trips\": 166, \"n_trips\": 119, \"trip_cutoff\": 15, \"segment_cutoff\": 0.75, \"cutoff\": \"15+ min & 75.0%+ segments\", \"pct_usable_trips\": 0.7168674698795181}, {\"calitp_itp_id\": 315, \"total_trips\": 38, \"n_trips\": 34, \"trip_cutoff\": 15, \"segment_cutoff\": 0.75, \"cutoff\": \"15+ min & 75.0%+ segments\", \"pct_usable_trips\": 0.8947368421052632}, {\"calitp_itp_id\": 336, \"total_trips\": 490, \"n_trips\": 462, \"trip_cutoff\": 15, \"segment_cutoff\": 0.75, \"cutoff\": \"15+ min & 75.0%+ segments\", \"pct_usable_trips\": 0.9428571428571428}, {\"calitp_itp_id\": 349, \"total_trips\": 270, \"n_trips\": 171, \"trip_cutoff\": 15, \"segment_cutoff\": 0.75, \"cutoff\": \"15+ min & 75.0%+ segments\", \"pct_usable_trips\": 0.6333333333333333}, {\"calitp_itp_id\": 350, \"total_trips\": 219, \"n_trips\": 213, \"trip_cutoff\": 15, \"segment_cutoff\": 0.75, \"cutoff\": \"15+ min & 75.0%+ segments\", \"pct_usable_trips\": 0.9726027397260274}, {\"calitp_itp_id\": 361, \"total_trips\": 525, \"n_trips\": 514, \"trip_cutoff\": 15, \"segment_cutoff\": 0.75, \"cutoff\": \"15+ min & 75.0%+ segments\", \"pct_usable_trips\": 0.979047619047619}, {\"calitp_itp_id\": 372, \"total_trips\": 161, \"n_trips\": 143, \"trip_cutoff\": 15, \"segment_cutoff\": 0.75, \"cutoff\": \"15+ min & 75.0%+ segments\", \"pct_usable_trips\": 0.8881987577639752}]}}, {\"mode\": \"vega-lite\"});\n",
       "</script>"
      ],
      "text/plain": [
       "alt.Chart(...)"
      ]
     },
     "execution_count": 36,
     "metadata": {},
     "output_type": "execute_result"
    }
   ],
   "source": [
    "chart1"
   ]
  },
  {
   "cell_type": "code",
   "execution_count": 37,
   "id": "b4b81857-fe11-4cc0-9270-ea5dc0af5f72",
   "metadata": {},
   "outputs": [
    {
     "ename": "NameError",
     "evalue": "name 'm2' is not defined",
     "output_type": "error",
     "traceback": [
      "\u001b[0;31m---------------------------------------------------------------------------\u001b[0m",
      "\u001b[0;31mNameError\u001b[0m                                 Traceback (most recent call last)",
      "Cell \u001b[0;32mIn[37], line 3\u001b[0m\n\u001b[1;32m      1\u001b[0m \u001b[38;5;66;03m# Find the total number of segments in the specific operator file\u001b[39;00m\n\u001b[1;32m      2\u001b[0m \u001b[38;5;66;03m# vs. what was recorded in `longest_shape`\u001b[39;00m\n\u001b[0;32m----> 3\u001b[0m m2[\u001b[38;5;124m\"\u001b[39m\u001b[38;5;124msegment_proportion\u001b[39m\u001b[38;5;124m\"\u001b[39m] \u001b[38;5;241m=\u001b[39m ((\u001b[43mm2\u001b[49m\u001b[38;5;241m.\u001b[39mnumber_of_segments \u001b[38;5;241m/\u001b[39m m2\u001b[38;5;241m.\u001b[39msegment_sequence) \u001b[38;5;241m*\u001b[39m \u001b[38;5;241m100\u001b[39m)\u001b[38;5;241m.\u001b[39mastype(\n\u001b[1;32m      4\u001b[0m     \u001b[38;5;124m\"\u001b[39m\u001b[38;5;124mint64\u001b[39m\u001b[38;5;124m\"\u001b[39m\n\u001b[1;32m      5\u001b[0m )\n",
      "\u001b[0;31mNameError\u001b[0m: name 'm2' is not defined"
     ]
    }
   ],
   "source": [
    "# Find the total number of segments in the specific operator file\n",
    "# vs. what was recorded in `longest_shape`\n",
    "m2[\"segment_proportion\"] = ((m2.number_of_segments / m2.segment_sequence) * 100).astype(\n",
    "    \"int64\"\n",
    ")"
   ]
  },
  {
   "cell_type": "code",
   "execution_count": null,
   "id": "f5ebc9a8-37f2-4314-a3a1-6ae1d05d24f8",
   "metadata": {
    "tags": []
   },
   "outputs": [],
   "source": [
    "m2.sample()"
   ]
  },
  {
   "cell_type": "code",
   "execution_count": null,
   "id": "8df2648e-fcba-47f5-a356-46b63827ab3b",
   "metadata": {},
   "outputs": [],
   "source": [
    "m2.segment_proportion.value_counts().head()"
   ]
  },
  {
   "cell_type": "code",
   "execution_count": null,
   "id": "c98aeb4a-2374-4032-bed5-3fa2d28e06aa",
   "metadata": {},
   "outputs": [],
   "source": [
    "m2.loc[m2.route_id == \"U\"]"
   ]
  },
  {
   "cell_type": "code",
   "execution_count": null,
   "id": "fffbd488-73b5-4ed2-a7ac-a60f20547141",
   "metadata": {},
   "outputs": [],
   "source": [
    "m2.loc[m2.route_dir_identifier == 4105021223].shape_id.nunique()"
   ]
  },
  {
   "cell_type": "code",
   "execution_count": null,
   "id": "1dff260d-aa00-40d6-9e71-572d02b8207b",
   "metadata": {},
   "outputs": [],
   "source": [
    "m2.loc[m2.route_dir_identifier == 4105021223].longest_shape_id.nunique()"
   ]
  },
  {
   "cell_type": "code",
   "execution_count": null,
   "id": "73413c04-40a9-4db9-ae31-63a2d4128ecc",
   "metadata": {},
   "outputs": [],
   "source": [
    "m2.loc[m2.route_dir_identifier == 4105021223].trip_id.nunique()"
   ]
  },
  {
   "cell_type": "code",
   "execution_count": null,
   "id": "d4ac4d75-b29d-436b-bb8d-d92638f9fec9",
   "metadata": {
    "tags": []
   },
   "outputs": [],
   "source": [
    "m2.loc[m2.route_dir_identifier == 4105021223].sample(5)"
   ]
  },
  {
   "cell_type": "code",
   "execution_count": null,
   "id": "9d6a2218-8508-4b45-be3d-391501e84f4d",
   "metadata": {},
   "outputs": [],
   "source": [
    "m2.loc[m2.trip_id == \"6566020\"]"
   ]
  },
  {
   "cell_type": "code",
   "execution_count": null,
   "id": "b343ad65-01e9-4950-894b-7a95df8e1e23",
   "metadata": {},
   "outputs": [],
   "source": [
    "operator_4.loc[operator_4.trip_id == \"6566020\"].head()"
   ]
  },
  {
   "cell_type": "code",
   "execution_count": null,
   "id": "4f754700-966f-4367-bf38-1f08509ee8a6",
   "metadata": {},
   "outputs": [],
   "source": [
    "operator_4_metrics.loc[operator_4_metrics.trip_id == \"6566020\"]"
   ]
  },
  {
   "cell_type": "code",
   "execution_count": null,
   "id": "c4882b64-c753-4d6c-857f-82b3625f44f8",
   "metadata": {
    "scrolled": true,
    "tags": []
   },
   "outputs": [],
   "source": [
    "# Can't find 1244740981 in this list.\n",
    "# operator_4.route_dir_identifier.unique().tolist()"
   ]
  },
  {
   "cell_type": "code",
   "execution_count": null,
   "id": "cc96cc89-3c0a-444d-b7a7-128c3da90030",
   "metadata": {},
   "outputs": [],
   "source": [
    "# Total route ids using longest_shape/trips/routelines.\n",
    "routelines_final.loc[routelines_final.calitp_itp_id == 4][[\"route_id\"]].nunique()"
   ]
  },
  {
   "cell_type": "code",
   "execution_count": null,
   "id": "73385a6a-71b8-46ad-a8f8-1ad1cb2d2d57",
   "metadata": {},
   "outputs": [],
   "source": [
    "m2.route_id.nunique()"
   ]
  },
  {
   "cell_type": "code",
   "execution_count": null,
   "id": "6100b941-6025-4a6c-a982-634392c40bee",
   "metadata": {
    "scrolled": true,
    "tags": []
   },
   "outputs": [],
   "source": [
    "merged_routeid = set(m2.route_id.unique().tolist())"
   ]
  },
  {
   "cell_type": "code",
   "execution_count": null,
   "id": "9b571d5d-0cba-4a67-addb-b37af57b23a2",
   "metadata": {
    "scrolled": true,
    "tags": []
   },
   "outputs": [],
   "source": [
    "routelines_routeid = set(routelines_final.route_id.unique().tolist())"
   ]
  },
  {
   "cell_type": "code",
   "execution_count": null,
   "id": "56efe490-a7e7-4c58-bdfb-ae97e130efb4",
   "metadata": {
    "tags": []
   },
   "outputs": [],
   "source": [
    "merged_routeid - routelines_routeid"
   ]
  },
  {
   "cell_type": "code",
   "execution_count": null,
   "id": "c065e394-fa4c-4ed1-b216-7148efd606c3",
   "metadata": {
    "scrolled": true,
    "tags": []
   },
   "outputs": [],
   "source": [
    "# routelines_routeid - merged_routeid"
   ]
  },
  {
   "cell_type": "markdown",
   "id": "9a8a86a9-6cf1-432e-91d9-85849c9eb987",
   "metadata": {
    "tags": []
   },
   "source": [
    "### Cut Off by Routes \n",
    "* Test with Muni"
   ]
  },
  {
   "cell_type": "code",
   "execution_count": 38,
   "id": "d23f3638-2b93-4f07-ac5d-7dc41fcebc11",
   "metadata": {},
   "outputs": [],
   "source": [
    "def operator_routes(df, chart_title:str):\n",
    "    # Create drop down menu 1\n",
    "    input_dropdown = alt.binding_select(options=df.route_id.unique().tolist(), name='Route')\n",
    "    selection1 = alt.selection_single(fields=['route_id'], bind=input_dropdown)\n",
    "    \n",
    "    # Dropdown menu 2\n",
    "    seg_dropdown = alt.binding_select(options=df.segment_cutoff.unique().tolist(), name='Segment')\n",
    "    selection2 = alt.selection_single(fields=['segment_cutoff'], bind=seg_dropdown)\n",
    "    \n",
    "    # Dropdown 3 \n",
    "    triptime_dropdown = alt.binding_select(options=df.trip_cutoff.unique().tolist(), name='Time')\n",
    "    selection3 = alt.selection_single(fields=['trip_cutoff'], bind=triptime_dropdown)\n",
    "    \n",
    "    # Dropdown 4 \n",
    "    operator_dropdown = alt.binding_select(options=df.calitp_itp_id.unique().tolist(), name='Operator')\n",
    "    selection4 = alt.selection_single(fields=['calitp_itp_id'], bind=operator_dropdown)\n",
    "    \n",
    "    chart = (\n",
    "        alt.Chart(df)\n",
    "        .mark_bar()\n",
    "        .encode(\n",
    "            x='usable_trip_percentage:Q',\n",
    "            y='cutoff:N',\n",
    "            color=alt.Color(\n",
    "                'usable_trip_percentage'\n",
    "            ),\n",
    "            tooltip=[\"cutoff\", \"route_id\", \"usable_trip_percentage\", \"n_trips\"],\n",
    "        )\n",
    "        .properties(title=chart_title)\n",
    "        .add_selection(selection1)\n",
    "        .transform_filter(selection1)\n",
    "    )\n",
    "    \n",
    "    chart = chart.add_selection(selection2).transform_filter(selection2)\n",
    "    \n",
    "    chart = chart.add_selection(selection3).transform_filter(selection3)\n",
    "    \n",
    "    chart = chart.add_selection(selection4).transform_filter(selection4)\n",
    "    \n",
    "    return chart "
   ]
  },
  {
   "cell_type": "code",
   "execution_count": 39,
   "id": "e872b1e8-35db-4a19-a459-8e3e76b8c65e",
   "metadata": {},
   "outputs": [],
   "source": [
    "trip_diagnostics = pd.read_parquet(\n",
    "    \"gs://calitp-analytics-data/data-analyses/rt_segment_speeds/trip_diagnostics_2022-10-12.parquet\",\n",
    ")"
   ]
  },
  {
   "cell_type": "code",
   "execution_count": 40,
   "id": "1a7dbd5d-d762-4a56-bd40-e594a5c91088",
   "metadata": {},
   "outputs": [],
   "source": [
    "#operator_282 = trip_diagnostics.loc[trip_diagnostics.calitp_itp_id == 282].reset_index(\n",
    "#    drop=True\n",
    "#)"
   ]
  },
  {
   "cell_type": "code",
   "execution_count": 41,
   "id": "eac25644-0a29-4d6b-b9ab-3394fed55a02",
   "metadata": {},
   "outputs": [],
   "source": [
    "#operator_282.shape"
   ]
  },
  {
   "cell_type": "code",
   "execution_count": 42,
   "id": "0b77b114-5d00-4be0-bfb1-5dde3710e1aa",
   "metadata": {},
   "outputs": [],
   "source": [
    "#operator_282.head()"
   ]
  },
  {
   "cell_type": "code",
   "execution_count": 43,
   "id": "d5ccf47b-9546-425a-94cc-60788845a71e",
   "metadata": {},
   "outputs": [],
   "source": [
    "m1 = trip_diagnostics.merge(\n",
    "    trips_routes_shape.drop(columns=[\"route_length_percentage\"]),\n",
    "    how=\"inner\",\n",
    "    on=[\"calitp_itp_id\", \"route_dir_identifier\"],\n",
    ")"
   ]
  },
  {
   "cell_type": "code",
   "execution_count": 44,
   "id": "15266e22-ea8b-47b8-819e-647c15626919",
   "metadata": {},
   "outputs": [
    {
     "data": {
      "text/plain": [
       "((173714, 10), (8231, 7))"
      ]
     },
     "execution_count": 44,
     "metadata": {},
     "output_type": "execute_result"
    }
   ],
   "source": [
    "m1.shape, trips_routes_shape.shape"
   ]
  },
  {
   "cell_type": "code",
   "execution_count": 45,
   "id": "4e9dcd9b-b6dc-4dd9-8f27-0707d85d020c",
   "metadata": {},
   "outputs": [],
   "source": [
    "m1 = m1.assign(\n",
    "    pct_vp_segments=m1.num_segments_with_vp.divide(m1.total_segments),\n",
    "    trip_time=((m1.trip_end - m1.trip_start) / np.timedelta64(1, \"s\") / 60).astype(int),\n",
    "    total_trips=m1.groupby(\"route_id\").trip_id.transform(\"nunique\"),\n",
    ")"
   ]
  },
  {
   "cell_type": "code",
   "execution_count": 46,
   "id": "1e550061-9013-4db7-bb6c-93a57bb065ac",
   "metadata": {},
   "outputs": [
    {
     "data": {
      "text/plain": [
       "819"
      ]
     },
     "execution_count": 46,
     "metadata": {},
     "output_type": "execute_result"
    }
   ],
   "source": [
    "m1.route_id.nunique()"
   ]
  },
  {
   "cell_type": "code",
   "execution_count": 47,
   "id": "45174b72-64f4-41e9-b3c5-37913969592c",
   "metadata": {},
   "outputs": [],
   "source": [
    "test = pd.DataFrame()"
   ]
  },
  {
   "cell_type": "code",
   "execution_count": 48,
   "id": "302ddf0c-62bd-4329-9c7e-73f16ad30c4c",
   "metadata": {},
   "outputs": [],
   "source": [
    "for t in [5, 10, 15]:\n",
    "    for s in [0.1, 0.2, 0.25, 0.3, 0.4, 0.5, 0.6, 0.7, 0.75]:\n",
    "        valid = (\n",
    "            m1[(m1.trip_time >= t) & (m1.pct_vp_segments >= s)]\n",
    "            .groupby([\"calitp_itp_id\", \"route_id\", \"total_trips\"])\n",
    "            .trip_id.nunique()\n",
    "            .reset_index()\n",
    "            .rename(columns={\"trip_id\": \"n_trips\"})\n",
    "        )\n",
    "\n",
    "        valid = valid.assign(\n",
    "            trip_cutoff=t, segment_cutoff=s, cutoff=f\"{t}+ min & {s*100}%+ segments\"\n",
    "        )\n",
    "\n",
    "        test = pd.concat([test, valid], axis=0)\n",
    "        test[\"usable_trip_percentage\"] = (\n",
    "            (test.n_trips / test.total_trips) * 100\n",
    "        ).astype(int)"
   ]
  },
  {
   "cell_type": "code",
   "execution_count": 49,
   "id": "a2ef1cbb-87e6-4b90-b81b-7942d5f4f580",
   "metadata": {
    "tags": []
   },
   "outputs": [
    {
     "data": {
      "text/plain": [
       "(31653, 8)"
      ]
     },
     "execution_count": 49,
     "metadata": {},
     "output_type": "execute_result"
    }
   ],
   "source": [
    "test.shape"
   ]
  },
  {
   "cell_type": "code",
   "execution_count": 50,
   "id": "5a4a6da5-85e7-4a5b-a00f-ceb2c58cac58",
   "metadata": {},
   "outputs": [
    {
     "data": {
      "text/html": [
       "<div>\n",
       "<style scoped>\n",
       "    .dataframe tbody tr th:only-of-type {\n",
       "        vertical-align: middle;\n",
       "    }\n",
       "\n",
       "    .dataframe tbody tr th {\n",
       "        vertical-align: top;\n",
       "    }\n",
       "\n",
       "    .dataframe thead th {\n",
       "        text-align: right;\n",
       "    }\n",
       "</style>\n",
       "<table border=\"1\" class=\"dataframe\">\n",
       "  <thead>\n",
       "    <tr style=\"text-align: right;\">\n",
       "      <th></th>\n",
       "      <th>calitp_itp_id</th>\n",
       "      <th>route_id</th>\n",
       "      <th>total_trips</th>\n",
       "      <th>n_trips</th>\n",
       "      <th>trip_cutoff</th>\n",
       "      <th>segment_cutoff</th>\n",
       "      <th>cutoff</th>\n",
       "      <th>usable_trip_percentage</th>\n",
       "    </tr>\n",
       "  </thead>\n",
       "  <tbody>\n",
       "    <tr>\n",
       "      <th>285</th>\n",
       "      <td>182</td>\n",
       "      <td>212-13157</td>\n",
       "      <td>146</td>\n",
       "      <td>145</td>\n",
       "      <td>10</td>\n",
       "      <td>0.50</td>\n",
       "      <td>10+ min &amp; 50.0%+ segments</td>\n",
       "      <td>99</td>\n",
       "    </tr>\n",
       "  </tbody>\n",
       "</table>\n",
       "</div>"
      ],
      "text/plain": [
       "     calitp_itp_id   route_id  total_trips  n_trips  trip_cutoff  \\\n",
       "285            182  212-13157          146      145           10   \n",
       "\n",
       "     segment_cutoff                     cutoff  usable_trip_percentage  \n",
       "285            0.50  10+ min & 50.0%+ segments                      99  "
      ]
     },
     "execution_count": 50,
     "metadata": {},
     "output_type": "execute_result"
    }
   ],
   "source": [
    "test.sample()"
   ]
  },
  {
   "cell_type": "code",
   "execution_count": 51,
   "id": "3812a045-d108-4d46-a9ca-5aa9fe40e777",
   "metadata": {},
   "outputs": [],
   "source": [
    "# Check that results below make sense.\n",
    "# route_38[(route_38['pct_vp_segments'] > 0.70 ) & (route_38['trip_time'] > 5)][['trip_id']].nunique()"
   ]
  },
  {
   "cell_type": "code",
   "execution_count": 52,
   "id": "6a4c250e-1fe1-48be-a2ca-7be3cbe0b09e",
   "metadata": {},
   "outputs": [],
   "source": [
    "test_chart = operator_routes(test, 'Muni by Route')"
   ]
  },
  {
   "cell_type": "code",
   "execution_count": 55,
   "id": "1d620c40-13bf-4d8f-9fd0-75195bcf834e",
   "metadata": {},
   "outputs": [],
   "source": [
    "# test_chart"
   ]
  },
  {
   "cell_type": "markdown",
   "id": "00557614-711a-457c-a91d-28d785d4e13d",
   "metadata": {},
   "source": [
    "### Notes\n",
    "Github\n",
    "* For each operator, what's the % of RT trip_ids that would remain after those thresholds are used? Make a chart function that takes a single operator. Produce charts for all operators. Is the time or geographic coverage that's driving this excluding of trips? What is a recommended threshold to use?\n",
    "* For short trips, do they tend to be 50% of the longest route length? 40% 30%? \n",
    "\n",
    "Meeting\n",
    "* Filter out for trips that provide useful information before attaching segments to it. \n",
    "* How many shape ID's for that route are usable? \n",
    "* What's the typical threshold of the actual length of the route versus the longest length we have on record?\n",
    "* Example: How many 10 minute unique trip IDs will remain and segments will remain after filtering ones that don't provide insights?\n",
    "* % of segments that actually show up reflects how much of a trip was recorded in GTFS. \n",
    "\n",
    "Already Answered Notes/Questions\n",
    "* What is the calitp url number? What does 0 or 1 mean? V1, operator has different feeds. \n",
    "    * 0 could be primary, 1 is backup. This column will be deleted in V2. \n",
    "* Do you think that most shape IDS are going to be less than 100% of the length of the longest shape ID? \n",
    "    * Not necessarily, shape ID can be a short version of the trip.\n",
    "* What’s the difference between direction ID and route dir identifier? What does the 0 and 1 mean in direction ID?\n",
    "    * We don't know where the bus is going, so just do 0 and 1.\n",
    "    * Route dir identifier: captures route info and direction it is going to capture all the trips. Helps with groupby. \n",
    "    * We don't want to stick with trip id, we need to get to route level. \n",
    "    * Don't want to lose info on the direction. \n",
    "    * Have to distinguish direction or else it'll look like the bus is going backwards when plotting.\n",
    "    * RT data comes with direction id and can get which direction it ran in from schedule data. \n",
    "    * Attach route, join coordinate data to segments. \n",
    "    * Use segments and average out trips that occurred on that segment. \n",
    "* Ask about graph on Slack. \n",
    "* Should I use this `get_routelines` from `A1_vehicle_positions`. \n",
    "    * Just read it directly from GCS, don't need buffer.\n",
    "* Why would the same route ID for the other direction have more segments? \n",
    "   * Can have a layover. \n",
    "   * A segment must be 1000 meters or less.\n",
    "* The `route_dir_identifier` is used for segments to cut segments\n",
    "for both directions the route runs.\n",
    "\n",
    "* How come there are so many different timestamps within a 30 second increments of each either within the same segment? GTFS pings every 30 seconds."
   ]
  },
  {
   "cell_type": "code",
   "execution_count": null,
   "id": "e0c987b0-43eb-43e2-8bae-5ddb1454b3d3",
   "metadata": {},
   "outputs": [],
   "source": [
    "len(m2)"
   ]
  },
  {
   "cell_type": "code",
   "execution_count": null,
   "id": "4441580b-1bf1-4a51-aaad-8d2af7cd62d1",
   "metadata": {},
   "outputs": [],
   "source": [
    "(m2.proportion_route_length.value_counts() / len(m2) * 100).head(15)"
   ]
  },
  {
   "cell_type": "code",
   "execution_count": null,
   "id": "40071754-83b2-42ce-86c4-4cff85c67a63",
   "metadata": {
    "tags": []
   },
   "outputs": [],
   "source": [
    "(m2.segment_proportion.value_counts() / len(m2) * 100).head(15)"
   ]
  },
  {
   "cell_type": "code",
   "execution_count": null,
   "id": "40e87845-6b6e-4e6c-8b16-0f4c9ff1745e",
   "metadata": {},
   "outputs": [],
   "source": [
    "m2.minutes_elapsed.describe()"
   ]
  },
  {
   "cell_type": "code",
   "execution_count": null,
   "id": "8037b58d-63a0-4894-bf7d-0e43415c2298",
   "metadata": {},
   "outputs": [],
   "source": [
    "p25_time = m2.minutes_elapsed.quantile(0.25).astype(int)\n",
    "p50_time = m2.minutes_elapsed.quantile(0.50).astype(int)\n",
    "p75_time = m2.minutes_elapsed.quantile(0.75).astype(int)"
   ]
  },
  {
   "cell_type": "code",
   "execution_count": null,
   "id": "6da4e978-6ec9-490a-9f02-d2b655fc9ecf",
   "metadata": {},
   "outputs": [],
   "source": [
    "def trip_duration(row):\n",
    "    if (row.minutes_elapsed > 0) and (row.minutes_elapsed <= p25_time):\n",
    "        return f\"Short Trip <= {p25_time} min\"\n",
    "    elif (row.minutes_elapsed > p25_time) and (row.minutes_elapsed <= p75_time):\n",
    "        return f\"Medium Trip <= {p75_time} min\"\n",
    "    else:\n",
    "        return f\"Long Trip > {p75_time} min\""
   ]
  },
  {
   "cell_type": "code",
   "execution_count": null,
   "id": "dbefc934-cc4c-4964-85a0-cf71357683f6",
   "metadata": {},
   "outputs": [],
   "source": [
    "m2[\"trip_duration_categories\"] = m2.apply(lambda x: trip_duration(x), axis=1)"
   ]
  },
  {
   "cell_type": "code",
   "execution_count": null,
   "id": "570d529d-0fe3-4905-9901-b8f97ce77364",
   "metadata": {},
   "outputs": [],
   "source": [
    "m2.trip_duration_categories.value_counts()"
   ]
  },
  {
   "cell_type": "code",
   "execution_count": null,
   "id": "38a4b6d7-98a5-4edb-8ddd-be2e371cfeda",
   "metadata": {},
   "outputs": [],
   "source": [
    "test = m2.loc[m2.segment_proportion < 100][[\"segment_proportion\"]]"
   ]
  },
  {
   "cell_type": "code",
   "execution_count": null,
   "id": "2589195f-c00a-464c-b066-90325d54a76b",
   "metadata": {},
   "outputs": [],
   "source": [
    "test.describe()"
   ]
  },
  {
   "cell_type": "code",
   "execution_count": null,
   "id": "271ba605-3759-438d-ae48-7e35f9fff25a",
   "metadata": {},
   "outputs": [],
   "source": [
    "p25_length = test.segment_proportion.quantile(0.25).astype(int)\n",
    "p75_length = test.segment_proportion.quantile(0.75).astype(int)"
   ]
  },
  {
   "cell_type": "code",
   "execution_count": null,
   "id": "56770e74-7b5b-4978-87a7-6e6234940f44",
   "metadata": {},
   "outputs": [],
   "source": [
    "def shape_id_comparison(row):\n",
    "    if (row.segment_proportion > 0) and (row.segment_proportion <= p25_length):\n",
    "        return f\" <={p25_length}% of segments appear\"\n",
    "    elif (row.segment_proportion > p25_length) and (\n",
    "        row.segment_proportion <= p75_length\n",
    "    ):\n",
    "        return f\"<= {p75_length}% of segments appear\"\n",
    "    else:\n",
    "        return f\">= {p75_length}% of segments appear\""
   ]
  },
  {
   "cell_type": "code",
   "execution_count": null,
   "id": "9cfacf3f-38a5-4ed3-9974-0e5ced53aaa1",
   "metadata": {},
   "outputs": [],
   "source": [
    "m2[\"shapeid_vs_longest_shapeid_length\"] = m2.apply(\n",
    "    lambda x: shape_id_comparison(x), axis=1\n",
    ")"
   ]
  },
  {
   "cell_type": "code",
   "execution_count": null,
   "id": "5b45cd81-7560-4605-b147-ac523e83d890",
   "metadata": {},
   "outputs": [],
   "source": [
    "m2.shapeid_vs_longest_shapeid_length.value_counts()"
   ]
  },
  {
   "cell_type": "code",
   "execution_count": null,
   "id": "3c224f89-3bd7-4c7c-ae46-bd33c27cd1e0",
   "metadata": {},
   "outputs": [],
   "source": [
    "m2.loc[m2.trip_id == \"6566020\"]"
   ]
  },
  {
   "cell_type": "code",
   "execution_count": null,
   "id": "30048c66-e3b6-4a5c-ba4c-36a6378da209",
   "metadata": {},
   "outputs": [],
   "source": [
    "len(m2), len(m2.drop_duplicates())"
   ]
  },
  {
   "cell_type": "code",
   "execution_count": null,
   "id": "a0e624a2-6a67-41ae-911e-bd4885a26e75",
   "metadata": {},
   "outputs": [],
   "source": [
    "m2.loc[m2.route_dir_identifier == 2184919314].minutes_elapsed.describe()"
   ]
  },
  {
   "cell_type": "code",
   "execution_count": null,
   "id": "23016e27-c9d0-4365-a797-c1210c06aaa3",
   "metadata": {},
   "outputs": [],
   "source": [
    "m2.loc[m2.route_dir_identifier == 2184919314][\n",
    "    [\"trip_id\", \"minutes_elapsed\", \"trip_duration_categories\"]\n",
    "].head(10)"
   ]
  },
  {
   "cell_type": "code",
   "execution_count": null,
   "id": "ce52754e-01fd-4dc3-82f7-088330cf344d",
   "metadata": {},
   "outputs": [],
   "source": [
    "def usable(row):\n",
    "    if row.shapeid_vs_longest_shapeid_length == (\n",
    "        f\" <={p25_length}% of segments appear\"\n",
    "    ):\n",
    "        return \"Unusable\"\n",
    "    else:\n",
    "        return \"Usable\""
   ]
  },
  {
   "cell_type": "code",
   "execution_count": null,
   "id": "92c8ec4a-c369-40c6-af09-7081a6f6a0dc",
   "metadata": {},
   "outputs": [],
   "source": [
    "m2[\"usable_y_n\"] = m2.apply(lambda x: usable(x), axis=1)"
   ]
  }
 ],
 "metadata": {
  "kernelspec": {
   "display_name": "Python 3 (ipykernel)",
   "language": "python",
   "name": "python3"
  },
  "language_info": {
   "codemirror_mode": {
    "name": "ipython",
    "version": 3
   },
   "file_extension": ".py",
   "mimetype": "text/x-python",
   "name": "python",
   "nbconvert_exporter": "python",
   "pygments_lexer": "ipython3",
   "version": "3.9.13"
  }
 },
 "nbformat": 4,
 "nbformat_minor": 5
}
