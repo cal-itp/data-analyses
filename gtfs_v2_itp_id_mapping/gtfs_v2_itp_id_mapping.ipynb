{
 "cells": [
  {
   "cell_type": "markdown",
   "id": "408301ee-f7aa-4102-83c9-56e7126f0366",
   "metadata": {},
   "source": [
    "# Mapping warehouse v2 GTFS data to ITP IDs\n",
    "\n",
    "Laurie / November 2022\n",
    "\n",
    "Investigate:\n",
    "* How many datasets map to multiple organizations? \n",
    "* How many organizations map to multiple datasets?\n",
    "* How many ITP IDs are assigned in v1 and not assigned in v2?\n",
    "* Coverage in v2 vs. v1: cases where v1 has all 4 feed types but v2 does not.\n",
    "* How many datasets end up with a different ITP ID in v2 than in v1?\n",
    "\n",
    "Overall goal: **How best to assign ITP IDs to GTFS datasets in the v2 pipeline?**"
   ]
  },
  {
   "cell_type": "code",
   "execution_count": null,
   "id": "e899bd0b-9652-4660-92eb-ea32755a0daf",
   "metadata": {},
   "outputs": [],
   "source": [
    "import pandas as pd\n",
    "import pandas_gbq\n",
    "import base64\n",
    "import datetime\n"
   ]
  },
  {
   "cell_type": "code",
   "execution_count": null,
   "id": "517d3244-2027-4abb-a65c-b2c27f0ca910",
   "metadata": {},
   "outputs": [],
   "source": [
    "feeds_raw  = pd.read_gbq(\n",
    "    \"\"\"\n",
    "    select \n",
    "        key AS dt_feed_key,\n",
    "        feed_key AS schedule_feed_key,\n",
    "        gtfs_dataset_key,\n",
    "        null AS schedule_to_use_for_rt_validation_gtfs_dataset_key\n",
    "    from `cal-itp-data-infra-staging`.`laurie_mart_gtfs`.`fct_daily_schedule_feeds`\n",
    "    where date = '2022-10-31'\n",
    "    UNION ALL\n",
    "    select \n",
    "        key AS dt_feed_key,\n",
    "        schedule_feed_key,\n",
    "        gtfs_dataset_key,\n",
    "        schedule_to_use_for_rt_validation_gtfs_dataset_key\n",
    "    from `cal-itp-data-infra-staging`.`laurie_mart_gtfs`.`fct_daily_rt_feed_files`\n",
    "    where date = '2022-10-31'\n",
    "    \"\"\", project_id = 'cal-itp-data-infra-staging')"
   ]
  },
  {
   "cell_type": "code",
   "execution_count": null,
   "id": "e82e5bfe-82b8-40bb-a75f-48cf2e288514",
   "metadata": {},
   "outputs": [],
   "source": [
    "gtfs_datasets_raw  = pd.read_gbq(\n",
    "    \"\"\"\n",
    "    select *\n",
    "    from `cal-itp-data-infra`.`mart_transit_database`.`dim_gtfs_datasets`\n",
    "    \"\"\", project_id = 'cal-itp-data-infra')"
   ]
  },
  {
   "cell_type": "code",
   "execution_count": null,
   "id": "58ae47df-d68c-4049-8421-63c10bc37f0d",
   "metadata": {},
   "outputs": [],
   "source": [
    "gtfs_service_data_raw  = pd.read_gbq(\n",
    "    \"\"\"\n",
    "    select *\n",
    "    from `cal-itp-data-infra`.`mart_transit_database`.`dim_gtfs_service_data`\n",
    "    \"\"\", project_id = 'cal-itp-data-infra')"
   ]
  },
  {
   "cell_type": "code",
   "execution_count": null,
   "id": "117245ab-1d83-4c41-9843-fc7f61f82d18",
   "metadata": {},
   "outputs": [],
   "source": [
    "services_raw  = pd.read_gbq(\n",
    "    \"\"\"\n",
    "    select *\n",
    "    from `cal-itp-data-infra`.`mart_transit_database`.`dim_services`\n",
    "    \"\"\", project_id = 'cal-itp-data-infra')"
   ]
  },
  {
   "cell_type": "code",
   "execution_count": null,
   "id": "d3bc4f82-8ef0-44c0-b67c-73ac0d2f3517",
   "metadata": {},
   "outputs": [],
   "source": [
    "organizations_raw  = pd.read_gbq(\n",
    "    \"\"\"\n",
    "    select *\n",
    "    from `cal-itp-data-infra`.`mart_transit_database`.`dim_organizations`\n",
    "    \"\"\", project_id = 'cal-itp-data-infra')"
   ]
  },
  {
   "cell_type": "code",
   "execution_count": null,
   "id": "c357cbeb-ad14-4a4b-ba7a-933c57793585",
   "metadata": {},
   "outputs": [],
   "source": [
    "service_organization_bridge_raw  = pd.read_gbq(\n",
    "    \"\"\"\n",
    "    select *\n",
    "    from `cal-itp-data-infra`.`mart_transit_database`.`bridge_organizations_x_services_managed`\n",
    "    \"\"\", project_id = 'cal-itp-data-infra')"
   ]
  },
  {
   "cell_type": "code",
   "execution_count": null,
   "id": "630429e6-645c-43ee-9cd2-db76bd8c3e5d",
   "metadata": {},
   "outputs": [],
   "source": [
    "old_itp_mapping_raw  = pd.read_gbq(\n",
    "    \"\"\"\n",
    "    select t1.*,\n",
    "    t2.calitp_itp_id,\n",
    "    t2.calitp_url_number,\n",
    "    t2.calitp_feed_name\n",
    "    from `cal-itp-data-infra-staging.views.gtfs_schedule_fact_daily_feeds` t1\n",
    "    left join `cal-itp-data-infra-staging.views.gtfs_schedule_dim_feeds` t2\n",
    "        using(feed_key)\n",
    "    where date = '2022-10-31'\n",
    "    \"\"\", project_id = 'cal-itp-data-infra')"
   ]
  },
  {
   "cell_type": "code",
   "execution_count": null,
   "id": "7ee1b467-e23d-40b1-a767-e88c305fb8d3",
   "metadata": {},
   "outputs": [],
   "source": [
    "# copy for manipulation\n",
    "feeds = feeds_raw.copy()\n",
    "gtfs_datasets = gtfs_datasets_raw.copy()\n",
    "gtfs_service_data = gtfs_service_data_raw.copy()\n",
    "services = services_raw.copy()\n",
    "organizations = organizations_raw.copy()\n",
    "service_organization_bridge = service_organization_bridge_raw.copy()"
   ]
  },
  {
   "cell_type": "code",
   "execution_count": null,
   "id": "6acba0f2-fdbd-4168-be2a-6021056dab27",
   "metadata": {},
   "outputs": [],
   "source": [
    "# map feeds to airtable datasets\n",
    "feeds_to_datasets = feeds.merge(gtfs_datasets[['name', 'key', 'base64_url', 'data']], how = 'left', right_on = 'key', left_on = 'gtfs_dataset_key', suffixes = ['_feed', '_dataset'])"
   ]
  },
  {
   "cell_type": "code",
   "execution_count": null,
   "id": "601cc91e-0c3c-44d1-aabb-240ce92ef940",
   "metadata": {},
   "outputs": [],
   "source": [
    "# do the naive thing: dataset --> service --> organization\n",
    "feeds_to_services = feeds_to_datasets.merge(\n",
    "    gtfs_service_data[['service_key', 'gtfs_dataset_key', 'category', 'reference_static_gtfs_service_data_key']],\n",
    "    how = 'left', on = 'gtfs_dataset_key', suffixes = ['', '_gsd'])"
   ]
  },
  {
   "cell_type": "code",
   "execution_count": null,
   "id": "4d245f2b-c8f1-4267-91ca-3a1f2cb9ef8a",
   "metadata": {},
   "outputs": [],
   "source": [
    "feeds_to_organizations = feeds_to_services.merge(service_organization_bridge, how = 'left', on = 'service_key', suffixes = ['', '_sobridge']).merge(organizations[['key', 'itp_id']], how = 'left', left_on = 'organization_key', right_on = 'key', suffixes = ['', '_org'])"
   ]
  },
  {
   "cell_type": "code",
   "execution_count": null,
   "id": "166b40c6-aefa-4530-b815-f7fd7c030538",
   "metadata": {},
   "outputs": [],
   "source": [
    "feeds_to_organizations.loc[feeds_to_organizations.category != \"primary\", \"itp_id\"] = None"
   ]
  },
  {
   "cell_type": "code",
   "execution_count": null,
   "id": "de0768c9-8214-4995-b70a-0d3f14baa93c",
   "metadata": {},
   "outputs": [],
   "source": [
    "# look for one feed with multiple itp ids\n",
    "itp_ids_per_feed = feeds_to_organizations[feeds_to_organizations.category == \"primary\"].groupby(by = ['dt_feed_key', 'name'])['itp_id'].nunique().reset_index()"
   ]
  },
  {
   "cell_type": "code",
   "execution_count": null,
   "id": "01310ef8-ce36-436c-af7b-83a07d553a01",
   "metadata": {},
   "outputs": [],
   "source": [
    "multiple_itp_ids_per_feed = itp_ids_per_feed[itp_ids_per_feed.itp_id > 1].copy()\n",
    "multiple_itp_ids_per_feed['feed_with_multiple_itp_ids'] = True"
   ]
  },
  {
   "cell_type": "code",
   "execution_count": null,
   "id": "fa65deea-3523-4980-a8fd-a593ace1ea2c",
   "metadata": {},
   "outputs": [],
   "source": [
    "# now the other direction: ITP IDs that end up with multiple datasets\n",
    "feeds_per_itp_id = feeds_to_organizations[feeds_to_organizations.category == \"primary\"].groupby(by = ['itp_id', 'data'])['dt_feed_key'].nunique().reset_index()"
   ]
  },
  {
   "cell_type": "code",
   "execution_count": null,
   "id": "978e4508-2b8b-4b5a-8064-c00c1cb881ee",
   "metadata": {},
   "outputs": [],
   "source": [
    "multiple_feeds_per_itp_id = feeds_per_itp_id[feeds_per_itp_id.dt_feed_key > 1].copy()\n",
    "multiple_feeds_per_itp_id['itp_id_with_multiple_feeds'] = True"
   ]
  },
  {
   "cell_type": "code",
   "execution_count": null,
   "id": "74d09b3f-1ac8-4542-b576-a6d590030066",
   "metadata": {},
   "outputs": [],
   "source": [
    "# add flags to the core table\n",
    "feeds_to_organizations = feeds_to_organizations.merge(multiple_itp_ids_per_feed[['dt_feed_key','feed_with_multiple_itp_ids']], how = 'left', on = 'dt_feed_key')\n",
    "feeds_to_organizations['feed_with_multiple_itp_ids'].fillna(False, inplace=True)\n",
    "\n",
    "feeds_to_organizations = feeds_to_organizations.merge(multiple_feeds_per_itp_id[['itp_id', 'data','itp_id_with_multiple_feeds']], how = 'left', on = ['itp_id', 'data'])\n",
    "feeds_to_organizations['itp_id_with_multiple_feeds'].fillna(False, inplace=True)"
   ]
  },
  {
   "cell_type": "code",
   "execution_count": null,
   "id": "446a1680-533a-42ea-b608-22934363cff5",
   "metadata": {},
   "outputs": [],
   "source": [
    "# fill in key for schedule so we can do some grouping by associated feeds\n",
    "feeds_to_organizations.loc[feeds_to_organizations.data == 'GTFS Schedule', 'schedule_to_use_for_rt_validation_gtfs_dataset_key'] = feeds_to_organizations.loc[feeds_to_organizations.data == 'GTFS Schedule', 'gtfs_dataset_key']"
   ]
  },
  {
   "cell_type": "code",
   "execution_count": null,
   "id": "2e03cb35-89cd-4c53-9c6c-46d4923a7cf7",
   "metadata": {},
   "outputs": [],
   "source": [
    "feeds_to_organizations = feeds_to_organizations.merge(feeds_to_organizations[['gtfs_dataset_key', 'name']].drop_duplicates(), how = 'left',\n",
    "                                                     left_on = 'schedule_to_use_for_rt_validation_gtfs_dataset_key', right_on = 'gtfs_dataset_key', suffixes = ['', '_ref_sched'])"
   ]
  },
  {
   "cell_type": "code",
   "execution_count": null,
   "id": "4765b290-ec8e-4f61-9383-908d931f3822",
   "metadata": {},
   "outputs": [],
   "source": [
    "feeds_to_organizations_map = feeds_to_organizations[['itp_id', 'name_ref_sched', 'category', 'data','base64_url']].drop_duplicates()"
   ]
  },
  {
   "cell_type": "code",
   "execution_count": null,
   "id": "1fc0b988-8e64-4610-ae6d-a6051b919f24",
   "metadata": {},
   "outputs": [],
   "source": [
    "feeds_to_organizations_map"
   ]
  },
  {
   "cell_type": "markdown",
   "id": "2e6171ab-62d6-400b-a129-809cea7e593b",
   "metadata": {},
   "source": [
    "TODO:\n",
    "\n",
    "- Will need to manually construct quartets through joins -- can't use pandas pivot because there are dups on `'itp_id', 'name_ref_sched', 'category'`\n",
    "- Make a wide version which can be compared with v1 -- try joining on all columns then look for discrepancies... "
   ]
  },
  {
   "cell_type": "code",
   "execution_count": null,
   "id": "7dd554cd-0304-460e-ac63-0ca5c64c4527",
   "metadata": {},
   "outputs": [],
   "source": [
    "feeds_to_organizations_itp_map = feeds_to_organizations_itp_map.pi"
   ]
  },
  {
   "cell_type": "code",
   "execution_count": null,
   "id": "7f0a8b2a-c51a-4895-a4de-4cd319a9593b",
   "metadata": {},
   "outputs": [],
   "source": [
    "feeds_to_organizations_dedupe = feeds_to_organizations[['name', 'category', '']]"
   ]
  },
  {
   "cell_type": "code",
   "execution_count": null,
   "id": "34a4a8e1-9ef3-4a39-8d2d-d6a6c67a1233",
   "metadata": {},
   "outputs": [],
   "source": [
    "# make long so each url on own row\n",
    "old_itp_mapping = old_itp_mapping_raw.melt(id_vars = ['calitp_itp_id', 'calitp_url_number', 'calitp_feed_name'], value_vars = ['raw_gtfs_schedule_url', 'raw_gtfs_rt_vehicle_positions_url', 'raw_gtfs_rt_service_alerts_url',\n",
    "       'raw_gtfs_rt_trip_updates_url'], var_name = 'type', value_name = 'url')"
   ]
  },
  {
   "cell_type": "code",
   "execution_count": null,
   "id": "d5a3a8d9-2894-46f0-87aa-1937ff29ebe0",
   "metadata": {},
   "outputs": [],
   "source": [
    "# filter out nonexistent datasets, like rows that don't have RT\n",
    "old_itp_mapping = old_itp_mapping[old_itp_mapping.url.notnull()].copy()"
   ]
  },
  {
   "cell_type": "code",
   "execution_count": null,
   "id": "a4bb3254-7f8f-4515-abf0-771c4a2479a2",
   "metadata": {},
   "outputs": [],
   "source": [
    "# have to replace urls with templating to allow for joins\n",
    "old_itp_mapping['url_to_join'] = old_itp_mapping.url.copy()\n",
    "old_itp_mapping['url_to_join'] = old_itp_mapping['url_to_join'].str.replace('api_key={{ MTC_511_API_KEY}}','',regex=False)\n",
    "old_itp_mapping['url_to__join'] = old_itp_mapping['url_to_join'].str.replace('https://api.511.org/transit/servicealerts?','https://api.511.org/transit/servicealerts',regex=False)\n",
    "old_itp_mapping['url_to_join'] = old_itp_mapping['url_to_join'].str.replace('?&','?',regex=False)\n",
    "old_itp_mapping['url_to_join'] = old_itp_mapping['url_to_join'].str.replace('?token={{ AC_TRANSIT_API_KEY }}','',regex=False)\n",
    "old_itp_mapping['url_to_join'] = old_itp_mapping['url_to_join'].str.replace('?apiKey={{ TORRANCE_TRANSIT_API_KEY }}','',regex=False)\n",
    "old_itp_mapping['url_to_join'] = old_itp_mapping['url_to_join'].str.replace('?key={{ SD_MTS_VP_TU_API_KEY}}','',regex=False)\n",
    "old_itp_mapping['url_to_join'] = old_itp_mapping['url_to_join'].str.replace('?apiKey={{ SD_MTS_SA_API_KEY}}','',regex=False)\n",
    "old_itp_mapping['url_to_join'] = old_itp_mapping['url_to_join'].str.replace('?apiKey={{ CULVER_CITY_API_KEY }}','',regex=False)"
   ]
  },
  {
   "cell_type": "code",
   "execution_count": null,
   "id": "af1439da-8529-4da6-bf7c-dbd0a1a8284a",
   "metadata": {},
   "outputs": [],
   "source": [
    "data_type_map= {'raw_gtfs_schedule_url': 'GTFS Schedule',\n",
    "                'raw_gtfs_rt_vehicle_positions_url': 'GTFS VehiclePositions',\n",
    "                'raw_gtfs_rt_service_alerts_url': 'GTFS Alerts',\n",
    "                'raw_gtfs_rt_trip_updates_url': 'GTFS TripUpdates'}"
   ]
  },
  {
   "cell_type": "code",
   "execution_count": null,
   "id": "80e0a983-fd11-4faa-833a-f5dc24210c34",
   "metadata": {},
   "outputs": [],
   "source": [
    "old_itp_mapping['type'] = old_itp_mapping.type.map(data_type_map)"
   ]
  },
  {
   "cell_type": "code",
   "execution_count": null,
   "id": "2fb2d42e-aa76-46e6-9474-3b2c7a6bec1a",
   "metadata": {},
   "outputs": [],
   "source": [
    "# convert to float for join (comes in as int)\n",
    "old_itp_mapping.calitp_itp_id = old_itp_mapping.calitp_itp_id.astype(float)"
   ]
  },
  {
   "cell_type": "code",
   "execution_count": null,
   "id": "7de89191-8bcd-43c2-ac62-d5c40407cbac",
   "metadata": {},
   "outputs": [],
   "source": [
    "# core columns; drop duplicates because if there are multiple services but they all map to same organization, that isn't actually a problem \n",
    "v2_map = feeds_to_organizations[['dt_feed_key','name', 'base64_url', 'organization_name','data','category', 'itp_id', 'feed_with_multiple_itp_ids', 'itp_id_with_multiple_feeds']].drop_duplicates()"
   ]
  },
  {
   "cell_type": "code",
   "execution_count": null,
   "id": "542d55ea-218c-448a-9586-1211e2b47710",
   "metadata": {},
   "outputs": [],
   "source": [
    "v2_map['decoded_url'] = v2_map.base64_url.apply(lambda x: base64.urlsafe_b64decode(x).decode())"
   ]
  },
  {
   "cell_type": "code",
   "execution_count": null,
   "id": "64491644-2df7-4cbd-81bd-52fdf5073ece",
   "metadata": {},
   "outputs": [],
   "source": [
    "# how many cases where same schedule is used for validation by multiple sets of rt?\n",
    "feeds_to_organizations.groupby(by = 'reference_static_gtfs_service_data_key')['dt_feed_key'].nunique().reset_index().sort_values(by = 'dt_feed_key', ascending = False)"
   ]
  },
  {
   "cell_type": "code",
   "execution_count": null,
   "id": "4a95b4d0-8780-471a-899e-14f1f0a9db1c",
   "metadata": {},
   "outputs": [],
   "source": [
    "feeds_to_organizations[feeds_to_organizations.reference_static_gtfs_service_data_key.isin(['recEvfRIonwtIzAJI', 'recdmcXbBgn9jFe6u'])]"
   ]
  },
  {
   "cell_type": "code",
   "execution_count": null,
   "id": "7a44b37a-ba68-4c39-a3ce-f04001c540da",
   "metadata": {},
   "outputs": [],
   "source": []
  },
  {
   "cell_type": "code",
   "execution_count": null,
   "id": "66516e5e-d77b-4f8b-bee3-a8792619868b",
   "metadata": {},
   "outputs": [],
   "source": []
  },
  {
   "cell_type": "code",
   "execution_count": null,
   "id": "ca527742-9623-470c-9bc8-4beec9541811",
   "metadata": {},
   "outputs": [],
   "source": [
    "compare = v2_map.merge(old_itp_mapping, how = 'outer', left_on = ['decoded_url', 'itp_id'], right_on = ['url_to_join', 'calitp_itp_id'])"
   ]
  },
  {
   "cell_type": "code",
   "execution_count": null,
   "id": "359feddf-b585-4f18-b6f9-471df9334511",
   "metadata": {},
   "outputs": [],
   "source": [
    "compare.rename(columns = {'itp_id': 'v2_itp_id', 'calitp_itp_id': 'v1_itp_id', 'name': 'gtfs_dataset_name'},inplace = True)"
   ]
  },
  {
   "cell_type": "code",
   "execution_count": null,
   "id": "47fd2e2b-0884-40c5-8f8a-320085136031",
   "metadata": {},
   "outputs": [],
   "source": [
    "itp_mapping = compare[['v2_itp_id', 'v1_itp_id']].drop_duplicates()"
   ]
  },
  {
   "cell_type": "code",
   "execution_count": null,
   "id": "45400f8d-6454-4d77-8ded-244bc34b9b4a",
   "metadata": {},
   "outputs": [],
   "source": [
    "old_to_new = itp_mapping.groupby('v1_itp_id')['v2_itp_id'].nunique().reset_index().rename(columns = {'v2_itp_id': 'ct_v2_itp_ids'})"
   ]
  },
  {
   "cell_type": "code",
   "execution_count": null,
   "id": "92be9588-ca83-4c2e-9662-9ad71d26a1ce",
   "metadata": {},
   "outputs": [],
   "source": [
    "compare = compare.merge(old_to_new, how = 'left', on = 'v1_itp_id')"
   ]
  },
  {
   "cell_type": "code",
   "execution_count": null,
   "id": "c74e913f-0384-4ddb-b3f3-bea41d634c0b",
   "metadata": {},
   "outputs": [],
   "source": [
    "new_to_old = itp_mapping.groupby('v2_itp_id')['v1_itp_id'].nunique().reset_index().rename(columns = {'v1_itp_id': 'ct_v1_itp_ids'})"
   ]
  },
  {
   "cell_type": "code",
   "execution_count": null,
   "id": "0f0c8d75-d5be-4e56-932a-5fd841dcc6f6",
   "metadata": {},
   "outputs": [],
   "source": [
    "compare = compare.merge(new_to_old, how = 'left', on = 'v2_itp_id')"
   ]
  },
  {
   "cell_type": "code",
   "execution_count": null,
   "id": "d6365ccd-872c-4a31-950b-41f1785d4eac",
   "metadata": {},
   "outputs": [],
   "source": [
    "compare.to_csv('compare_itp_id_assignments.csv', index = False)"
   ]
  },
  {
   "cell_type": "code",
   "execution_count": null,
   "id": "7e896c34-7cd1-4f68-bc23-8a81df5c8f86",
   "metadata": {},
   "outputs": [],
   "source": []
  },
  {
   "cell_type": "code",
   "execution_count": null,
   "id": "ac9502e0-a72a-4ee5-8f8e-33d18ad570e7",
   "metadata": {},
   "outputs": [],
   "source": []
  },
  {
   "cell_type": "code",
   "execution_count": null,
   "id": "24de17c9-3564-4d1a-b178-d1640d4f820b",
   "metadata": {},
   "outputs": [],
   "source": [
    "len(compare[compare.v2_itp_id.notnull() & compare.v1_itp_id.notnull()])"
   ]
  },
  {
   "cell_type": "code",
   "execution_count": null,
   "id": "45c7fa61-af8c-4d59-b0bf-8dfd7a5c6219",
   "metadata": {},
   "outputs": [],
   "source": [
    "len(compare[(compare.v2_itp_id.isnull() | compare.v1_itp_id.isnull()) & ((compare.category == \"primary\") | (compare.calitp_url_number == 0))])"
   ]
  },
  {
   "cell_type": "code",
   "execution_count": null,
   "id": "30cbcfb5-2f36-4f2f-bda3-8caf24f607b7",
   "metadata": {},
   "outputs": [],
   "source": [
    "compare[(compare.v2_itp_id.isnull() | compare.v1_itp_id.isnull()) & ((compare.category == \"primary\") | (compare.category.isnull()))]"
   ]
  },
  {
   "cell_type": "code",
   "execution_count": null,
   "id": "6dce4c67-424b-44f2-a6a0-ad40e021241f",
   "metadata": {},
   "outputs": [],
   "source": [
    "compare.to_csv('compare_itp_id_assignments.csv', index = False)"
   ]
  },
  {
   "cell_type": "code",
   "execution_count": null,
   "id": "3bebd710-b39a-4fb1-84d9-7ae0843dc072",
   "metadata": {},
   "outputs": [],
   "source": []
  }
 ],
 "metadata": {
  "kernelspec": {
   "display_name": "Python 3 (ipykernel)",
   "language": "python",
   "name": "python3"
  },
  "language_info": {
   "codemirror_mode": {
    "name": "ipython",
    "version": 3
   },
   "file_extension": ".py",
   "mimetype": "text/x-python",
   "name": "python",
   "nbconvert_exporter": "python",
   "pygments_lexer": "ipython3",
   "version": "3.10.6"
  }
 },
 "nbformat": 4,
 "nbformat_minor": 5
}
