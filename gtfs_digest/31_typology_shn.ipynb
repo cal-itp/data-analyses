{
 "cells": [
  {
   "cell_type": "markdown",
   "id": "bcff88ab-e6fe-4d33-bc26-6381f3e700d5",
   "metadata": {},
   "source": [
    "# SHN and Route Typology\n",
    "* https://docs.google.com/spreadsheets/d/1gmRmVC4phwA3EunOhI4-aJ7uF5R2nZhIhPV2h3FM25w/edit?gid=0#gid=0\n",
    "\n",
    "## Questions\n",
    "* Is `route_typology` refreshed January of each year?\n",
    "* Do I need to go back to 2023 and add back the route typologies? Or can I just add route typologies from August onward?\n",
    "* Best way to troubleshoot why a dataframe increases in rows after a merge?\n",
    "* What's the difference between `shape_id` in `open_data/create_routes` vs `common_shape_id` in `route_typology_df?`"
   ]
  },
  {
   "cell_type": "code",
   "execution_count": 1,
   "id": "ef73c496-a633-47fc-8953-8005239865e2",
   "metadata": {
    "tags": []
   },
   "outputs": [],
   "source": [
    "import geopandas as gpd\n",
    "import google.auth\n",
    "import numpy as np\n",
    "import pandas as pd\n",
    "\n",
    "credentials, project = google.auth.default()\n",
    "\n",
    "import gcsfs\n",
    "\n",
    "fs = gcsfs.GCSFileSystem()"
   ]
  },
  {
   "cell_type": "code",
   "execution_count": 2,
   "id": "7195d5e7-f8aa-47bf-a5ef-df9e1ec83fc4",
   "metadata": {
    "tags": []
   },
   "outputs": [],
   "source": [
    "from calitp_data_analysis import geography_utils, utils\n",
    "from segment_speed_utils import gtfs_schedule_wrangling, helpers\n",
    "from shared_utils import (\n",
    "    catalog_utils,\n",
    "    dask_utils,\n",
    "    gtfs_utils_v2,\n",
    "    portfolio_utils,\n",
    "    publish_utils,\n",
    "    rt_dates,\n",
    "    rt_utils,\n",
    ")\n",
    "from update_vars import GTFS_DATA_DICT, RT_SCHED_GCS, SCHED_GCS, SEGMENT_GCS"
   ]
  },
  {
   "cell_type": "code",
   "execution_count": 3,
   "id": "9142e68b-dadb-4382-9830-2c38d5447a03",
   "metadata": {
    "tags": []
   },
   "outputs": [],
   "source": [
    "pd.options.display.max_columns = 100\n",
    "pd.options.display.float_format = \"{:.2f}\".format\n",
    "pd.set_option(\"display.max_rows\", None)\n",
    "pd.set_option(\"display.max_colwidth\", None)"
   ]
  },
  {
   "cell_type": "markdown",
   "id": "f047e696-a38f-4b32-b368-cf80c5abe2fe",
   "metadata": {},
   "source": [
    "## Bring in final result from `open_data/create_routes` -> published each month for the latest date."
   ]
  },
  {
   "cell_type": "code",
   "execution_count": 4,
   "id": "9f972d1d-2580-46b9-be9c-f3c852c94379",
   "metadata": {
    "tags": []
   },
   "outputs": [],
   "source": [
    "open_data_url = \"gs://calitp-analytics-data/data-analyses/traffic_ops/ca_transit_routes_2025-07-16.parquet\""
   ]
  },
  {
   "cell_type": "code",
   "execution_count": 5,
   "id": "71f29688-493d-4199-8511-02993c66ba44",
   "metadata": {
    "tags": []
   },
   "outputs": [],
   "source": [
    "open_data = gpd.read_parquet(\n",
    "   open_data_url,\n",
    "  storage_options={\"token\": credentials.token},\n",
    ")"
   ]
  },
  {
   "cell_type": "code",
   "execution_count": 6,
   "id": "b921a48b-a3fe-4fd3-a4c8-0023c33ddd97",
   "metadata": {
    "tags": []
   },
   "outputs": [],
   "source": [
    "# open_data.columns"
   ]
  },
  {
   "cell_type": "code",
   "execution_count": 7,
   "id": "32009804-ebc1-4c4b-ac15-5ddc5eb07616",
   "metadata": {
    "tags": []
   },
   "outputs": [],
   "source": [
    "#open_data = gpd.read_parquet(\n",
    " #   \"gs://calitp-analytics-data/data-analyses/traffic_ops/ca_transit_routes.parquet\",\n",
    "#    storage_options={\"token\": credentials.token},\n",
    "#)"
   ]
  },
  {
   "cell_type": "code",
   "execution_count": 8,
   "id": "4eb651cf-ace7-4ba2-a6a2-df93db6ef526",
   "metadata": {
    "tags": []
   },
   "outputs": [],
   "source": [
    "#open_data.columns"
   ]
  },
  {
   "cell_type": "code",
   "execution_count": 9,
   "id": "e82bdf4d-4d43-4ed6-ab40-e886630c0a8c",
   "metadata": {
    "tags": []
   },
   "outputs": [],
   "source": [
    "#open_data.drop(columns=[\"geometry\"]).sample(3)"
   ]
  },
  {
   "cell_type": "markdown",
   "id": "9fefdbaf-bf0a-4ea1-acc3-2ffbcd6bce9a",
   "metadata": {},
   "source": [
    "## Bring in results from `route_typology` [here](https://github.com/cal-itp/data-analyses/blob/087474dd0be3ea1ec3195f72ee8435cc08845b30/gtfs_funnel/route_typologies.py#L256) -> on a year grain "
   ]
  },
  {
   "cell_type": "code",
   "execution_count": 10,
   "id": "40478109-c0b1-485d-a872-bc7d3d0a3de2",
   "metadata": {
    "tags": []
   },
   "outputs": [
    {
     "data": {
      "text/plain": [
       "'gs://calitp-analytics-data/data-analyses/gtfs_schedule/'"
      ]
     },
     "execution_count": 10,
     "metadata": {},
     "output_type": "execute_result"
    }
   ],
   "source": [
    "SCHED_GCS"
   ]
  },
  {
   "cell_type": "code",
   "execution_count": 11,
   "id": "fbc7baf5-9ecb-45e7-8731-5874023a1b19",
   "metadata": {
    "tags": []
   },
   "outputs": [
    {
     "data": {
      "text/plain": [
       "'nacto_typologies/route_typologies'"
      ]
     },
     "execution_count": 11,
     "metadata": {},
     "output_type": "execute_result"
    }
   ],
   "source": [
    "GTFS_DATA_DICT.schedule_tables.route_typologies"
   ]
  },
  {
   "cell_type": "code",
   "execution_count": 12,
   "id": "781a1a1c-8727-409c-a1c5-ca371f4e1382",
   "metadata": {
    "tags": []
   },
   "outputs": [],
   "source": [
    "route_typology_2025 = \"gs://calitp-analytics-data/data-analyses/gtfs_schedule/nacto_typologies/route_typologies_2025.parquet\""
   ]
  },
  {
   "cell_type": "code",
   "execution_count": 13,
   "id": "7c4b8261-20ae-46b0-ab27-cba87b18962c",
   "metadata": {
    "tags": []
   },
   "outputs": [],
   "source": [
    "route_typology_df = pd.read_parquet(route_typology_2025).drop(\n",
    "    columns=[\n",
    "        \"route_long_name\",\n",
    "        \"route_short_name\",\n",
    "        \"combined_name\",\n",
    "    ]\n",
    ")"
   ]
  },
  {
   "cell_type": "code",
   "execution_count": 14,
   "id": "11fe880c-230e-438b-b501-2a949e5fdf12",
   "metadata": {
    "tags": []
   },
   "outputs": [
    {
     "data": {
      "text/plain": [
       "Index(['schedule_gtfs_dataset_key', 'name', 'route_id', 'route_type',\n",
       "       'is_express', 'is_rapid', 'is_rail', 'is_ferry', 'is_local',\n",
       "       'common_shape_id', 'is_coverage', 'is_downtown_local'],\n",
       "      dtype='object')"
      ]
     },
     "execution_count": 14,
     "metadata": {},
     "output_type": "execute_result"
    }
   ],
   "source": [
    "route_typology_df.columns"
   ]
  },
  {
   "cell_type": "code",
   "execution_count": 15,
   "id": "9689e2ab-a2be-486e-b7d8-1177a1912859",
   "metadata": {
    "tags": []
   },
   "outputs": [
    {
     "data": {
      "text/html": [
       "<div>\n",
       "<style scoped>\n",
       "    .dataframe tbody tr th:only-of-type {\n",
       "        vertical-align: middle;\n",
       "    }\n",
       "\n",
       "    .dataframe tbody tr th {\n",
       "        vertical-align: top;\n",
       "    }\n",
       "\n",
       "    .dataframe thead th {\n",
       "        text-align: right;\n",
       "    }\n",
       "</style>\n",
       "<table border=\"1\" class=\"dataframe\">\n",
       "  <thead>\n",
       "    <tr style=\"text-align: right;\">\n",
       "      <th></th>\n",
       "      <th>schedule_gtfs_dataset_key</th>\n",
       "      <th>name</th>\n",
       "      <th>route_id</th>\n",
       "      <th>route_type</th>\n",
       "      <th>is_express</th>\n",
       "      <th>is_rapid</th>\n",
       "      <th>is_rail</th>\n",
       "      <th>is_ferry</th>\n",
       "      <th>is_local</th>\n",
       "      <th>common_shape_id</th>\n",
       "      <th>is_coverage</th>\n",
       "      <th>is_downtown_local</th>\n",
       "    </tr>\n",
       "  </thead>\n",
       "  <tbody>\n",
       "    <tr>\n",
       "      <th>858</th>\n",
       "      <td>4c105bd9f414afe82dba2c3687cc1d88</td>\n",
       "      <td>GET Schedule</td>\n",
       "      <td>81</td>\n",
       "      <td>3</td>\n",
       "      <td>0</td>\n",
       "      <td>1</td>\n",
       "      <td>0</td>\n",
       "      <td>0</td>\n",
       "      <td>0</td>\n",
       "      <td>51</td>\n",
       "      <td>1</td>\n",
       "      <td>0</td>\n",
       "    </tr>\n",
       "  </tbody>\n",
       "</table>\n",
       "</div>"
      ],
      "text/plain": [
       "            schedule_gtfs_dataset_key          name route_id route_type  \\\n",
       "858  4c105bd9f414afe82dba2c3687cc1d88  GET Schedule       81          3   \n",
       "\n",
       "     is_express  is_rapid  is_rail  is_ferry  is_local common_shape_id  \\\n",
       "858           0         1        0         0         0              51   \n",
       "\n",
       "     is_coverage  is_downtown_local  \n",
       "858            1                  0  "
      ]
     },
     "execution_count": 15,
     "metadata": {},
     "output_type": "execute_result"
    }
   ],
   "source": [
    "route_typology_df.sample()"
   ]
  },
  {
   "cell_type": "code",
   "execution_count": 16,
   "id": "7bf2e946-c99c-4539-b869-84c617542c30",
   "metadata": {
    "tags": []
   },
   "outputs": [
    {
     "data": {
      "text/plain": [
       "3    9486\n",
       "2     391\n",
       "0     242\n",
       "4      88\n",
       "5      32\n",
       "1      28\n",
       "Name: route_type, dtype: int64"
      ]
     },
     "execution_count": 16,
     "metadata": {},
     "output_type": "execute_result"
    }
   ],
   "source": [
    "open_data.route_type.value_counts()"
   ]
  },
  {
   "cell_type": "code",
   "execution_count": 17,
   "id": "89ed21ec-32cb-484d-b076-21cf546551eb",
   "metadata": {
    "tags": []
   },
   "outputs": [
    {
     "data": {
      "text/plain": [
       "3    2968\n",
       "2      70\n",
       "0      25\n",
       "1      14\n",
       "4      14\n",
       "5       3\n",
       "Name: route_type, dtype: int64"
      ]
     },
     "execution_count": 17,
     "metadata": {},
     "output_type": "execute_result"
    }
   ],
   "source": [
    "route_typology_df.route_type.value_counts()"
   ]
  },
  {
   "cell_type": "code",
   "execution_count": null,
   "id": "f3368443-4527-468b-a482-6ffbdf5abc05",
   "metadata": {},
   "outputs": [],
   "source": []
  },
  {
   "cell_type": "code",
   "execution_count": 18,
   "id": "cacd641b-1709-4f0a-9ca7-a122c95ddb1c",
   "metadata": {
    "tags": []
   },
   "outputs": [
    {
     "data": {
      "text/plain": [
       "(1949, 3094)"
      ]
     },
     "execution_count": 18,
     "metadata": {},
     "output_type": "execute_result"
    }
   ],
   "source": [
    "route_typology_df.route_id.nunique(), len(route_typology_df)"
   ]
  },
  {
   "cell_type": "markdown",
   "id": "dbfd6a01-71c1-4733-a193-546b49662c30",
   "metadata": {},
   "source": [
    "## Merge them."
   ]
  },
  {
   "cell_type": "markdown",
   "id": "3d34c30c-54ae-4c12-9e46-19d54ee9e907",
   "metadata": {},
   "source": [
    "### Few matches when `shape_id` is added -> what's the difference between `shape_id` and `common_shape_id`"
   ]
  },
  {
   "cell_type": "code",
   "execution_count": 19,
   "id": "34df783c-ef0a-4077-8736-40d9253c1a27",
   "metadata": {
    "tags": []
   },
   "outputs": [
    {
     "data": {
      "text/plain": [
       "Index(['n_trips', 'geometry', 'schedule_gtfs_dataset_key', 'route_id',\n",
       "       'route_type', 'shape_id', 'route_name_used', 'name', 'base64_url',\n",
       "       'organization_source_record_id', 'organization_name',\n",
       "       'caltrans_district', 'route_length_feet'],\n",
       "      dtype='object')"
      ]
     },
     "execution_count": 19,
     "metadata": {},
     "output_type": "execute_result"
    }
   ],
   "source": [
    "open_data.columns"
   ]
  },
  {
   "cell_type": "code",
   "execution_count": 20,
   "id": "2008bbf7-8845-4925-98eb-1959dd64e064",
   "metadata": {
    "tags": []
   },
   "outputs": [],
   "source": [
    "m1 = pd.merge(\n",
    "    open_data,\n",
    "    route_typology_df,\n",
    "    left_on=[\"schedule_gtfs_dataset_key\", \"name\", \"route_id\", \"shape_id\"],\n",
    "    right_on=[\"schedule_gtfs_dataset_key\", \"name\", \"route_id\", \"common_shape_id\"],\n",
    "    how=\"outer\",\n",
    "    indicator=True,\n",
    ")"
   ]
  },
  {
   "cell_type": "code",
   "execution_count": 21,
   "id": "c2ad1df9-5a6f-4e85-86ed-78aac9405376",
   "metadata": {
    "tags": []
   },
   "outputs": [
    {
     "data": {
      "text/plain": [
       "left_only     8728\n",
       "right_only    2039\n",
       "both          1567\n",
       "Name: _merge, dtype: int64"
      ]
     },
     "execution_count": 21,
     "metadata": {},
     "output_type": "execute_result"
    }
   ],
   "source": [
    "m1._merge.value_counts()"
   ]
  },
  {
   "cell_type": "code",
   "execution_count": 22,
   "id": "9c07f41c-6e72-4577-ac6a-15cd3bcc6397",
   "metadata": {
    "tags": []
   },
   "outputs": [],
   "source": [
    "open_data_shape_id = open_data[[\"shape_id\"]]"
   ]
  },
  {
   "cell_type": "code",
   "execution_count": 23,
   "id": "bad48327-065a-451d-a0e9-91594d22b888",
   "metadata": {
    "tags": []
   },
   "outputs": [],
   "source": [
    "route_typology_df_id = route_typology_df[[\"common_shape_id\"]].rename(\n",
    "    columns={\"common_shape_id\": \"shape_id\"}\n",
    ")"
   ]
  },
  {
   "cell_type": "code",
   "execution_count": 24,
   "id": "b5d634af-bcb1-470c-a3b5-8f1d29e910a4",
   "metadata": {
    "tags": []
   },
   "outputs": [],
   "source": [
    "shape_id_m1 = pd.merge(\n",
    "    open_data_shape_id, route_typology_df_id, how=\"outer\", indicator=True\n",
    ")"
   ]
  },
  {
   "cell_type": "code",
   "execution_count": 25,
   "id": "516f91fe-4885-4be7-b5d3-1fae26ad5917",
   "metadata": {
    "tags": []
   },
   "outputs": [
    {
     "data": {
      "text/plain": [
       "left_only     8295\n",
       "both          2695\n",
       "right_only    1823\n",
       "Name: _merge, dtype: int64"
      ]
     },
     "execution_count": 25,
     "metadata": {},
     "output_type": "execute_result"
    }
   ],
   "source": [
    "shape_id_m1._merge.value_counts()"
   ]
  },
  {
   "cell_type": "markdown",
   "id": "ac2d5a4d-b087-40c5-a5f1-bd62a012da0e",
   "metadata": {},
   "source": [
    "### More matches when only merging on a couple of columns."
   ]
  },
  {
   "cell_type": "code",
   "execution_count": 26,
   "id": "0c84dfe5-4b51-4e56-926f-b373f76a4b61",
   "metadata": {
    "tags": []
   },
   "outputs": [],
   "source": [
    "m2 = pd.merge(\n",
    "    open_data,\n",
    "    route_typology_df,\n",
    "    left_on=[\"schedule_gtfs_dataset_key\", \"name\", \"route_id\"],\n",
    "    right_on=[\"schedule_gtfs_dataset_key\", \"name\", \"route_id\"],\n",
    "    how=\"outer\",\n",
    "    indicator=True,\n",
    ")"
   ]
  },
  {
   "cell_type": "code",
   "execution_count": 27,
   "id": "5a038ea1-85d2-4076-a81b-35ca60a377f5",
   "metadata": {
    "tags": []
   },
   "outputs": [
    {
     "data": {
      "text/plain": [
       "both          7415\n",
       "left_only     3062\n",
       "right_only    1364\n",
       "Name: _merge, dtype: int64"
      ]
     },
     "execution_count": 27,
     "metadata": {},
     "output_type": "execute_result"
    }
   ],
   "source": [
    "m2._merge.value_counts()"
   ]
  },
  {
   "cell_type": "code",
   "execution_count": 28,
   "id": "e8d39f1e-1514-4272-a375-f6edc5953353",
   "metadata": {
    "tags": []
   },
   "outputs": [],
   "source": [
    "m3 = pd.merge(\n",
    "    open_data,\n",
    "    route_typology_df,\n",
    "    left_on=[\"schedule_gtfs_dataset_key\", \"name\", \"route_id\", \"route_type\"],\n",
    "    right_on=[\"schedule_gtfs_dataset_key\", \"name\", \"route_id\", \"route_type\"],\n",
    "    how=\"outer\",\n",
    "    indicator=True,\n",
    ")"
   ]
  },
  {
   "cell_type": "code",
   "execution_count": 29,
   "id": "ad1f92d2-ad76-49a5-a24a-a00179438929",
   "metadata": {
    "tags": []
   },
   "outputs": [
    {
     "data": {
      "text/plain": [
       "both          7415\n",
       "left_only     3062\n",
       "right_only    1364\n",
       "Name: _merge, dtype: int64"
      ]
     },
     "execution_count": 29,
     "metadata": {},
     "output_type": "execute_result"
    }
   ],
   "source": [
    "m3._merge.value_counts()"
   ]
  },
  {
   "cell_type": "code",
   "execution_count": 30,
   "id": "c3f4d244-b842-4bd3-a0c6-74091052a009",
   "metadata": {
    "tags": []
   },
   "outputs": [
    {
     "name": "stdout",
     "output_type": "stream",
     "text": [
      "<class 'geopandas.geodataframe.GeoDataFrame'>\n",
      "Int64Index: 11841 entries, 0 to 11840\n",
      "Data columns (total 22 columns):\n",
      " #   Column                         Non-Null Count  Dtype   \n",
      "---  ------                         --------------  -----   \n",
      " 0   n_trips                        10477 non-null  float64 \n",
      " 1   geometry                       10477 non-null  geometry\n",
      " 2   schedule_gtfs_dataset_key      11841 non-null  object  \n",
      " 3   route_id                       11841 non-null  object  \n",
      " 4   route_type                     11841 non-null  object  \n",
      " 5   shape_id                       10477 non-null  object  \n",
      " 6   route_name_used                10477 non-null  object  \n",
      " 7   name                           11841 non-null  object  \n",
      " 8   base64_url                     10477 non-null  object  \n",
      " 9   organization_source_record_id  10477 non-null  object  \n",
      " 10  organization_name              10477 non-null  object  \n",
      " 11  caltrans_district              10477 non-null  object  \n",
      " 12  route_length_feet              10477 non-null  float64 \n",
      " 13  is_express                     8779 non-null   float64 \n",
      " 14  is_rapid                       8779 non-null   float64 \n",
      " 15  is_rail                        8779 non-null   float64 \n",
      " 16  is_ferry                       8779 non-null   float64 \n",
      " 17  is_local                       8779 non-null   float64 \n",
      " 18  common_shape_id                7479 non-null   object  \n",
      " 19  is_coverage                    8779 non-null   float64 \n",
      " 20  is_downtown_local              8779 non-null   float64 \n",
      " 21  _merge                         11841 non-null  category\n",
      "dtypes: category(1), float64(9), geometry(1), object(11)\n",
      "memory usage: 2.0+ MB\n"
     ]
    }
   ],
   "source": [
    "m3.info()"
   ]
  },
  {
   "cell_type": "markdown",
   "id": "7c0b92ac-cdca-4f5a-8dbc-e2228b5c50be",
   "metadata": {},
   "source": [
    "### How are a bunch of rows added? "
   ]
  },
  {
   "cell_type": "code",
   "execution_count": 31,
   "id": "0ba85d55-b323-4440-9a36-402d1e12ea90",
   "metadata": {
    "tags": []
   },
   "outputs": [],
   "source": [
    "m3 = pd.merge(\n",
    "    open_data,\n",
    "    route_typology_df,\n",
    "    on=[\"schedule_gtfs_dataset_key\", \"name\", \"route_id\", \"route_type\"],\n",
    "    how=\"left\",\n",
    ")"
   ]
  },
  {
   "cell_type": "code",
   "execution_count": 32,
   "id": "b248c908-83c1-40d2-8fad-fab39685b011",
   "metadata": {
    "tags": []
   },
   "outputs": [
    {
     "data": {
      "text/plain": [
       "(geopandas.geodataframe.GeoDataFrame, 10477, 10267)"
      ]
     },
     "execution_count": 32,
     "metadata": {},
     "output_type": "execute_result"
    }
   ],
   "source": [
    "type(m3), len(m3), len(open_data)"
   ]
  },
  {
   "cell_type": "markdown",
   "id": "925e2062-da88-4dc9-a4d6-1cb818b578d9",
   "metadata": {},
   "source": [
    "## Check?"
   ]
  },
  {
   "cell_type": "code",
   "execution_count": 33,
   "id": "a5ddb9b4-2a40-4b17-83dc-97b96a3c2e8b",
   "metadata": {
    "tags": []
   },
   "outputs": [
    {
     "data": {
      "text/html": [
       "<div>\n",
       "<style scoped>\n",
       "    .dataframe tbody tr th:only-of-type {\n",
       "        vertical-align: middle;\n",
       "    }\n",
       "\n",
       "    .dataframe tbody tr th {\n",
       "        vertical-align: top;\n",
       "    }\n",
       "\n",
       "    .dataframe thead th {\n",
       "        text-align: right;\n",
       "    }\n",
       "</style>\n",
       "<table border=\"1\" class=\"dataframe\">\n",
       "  <thead>\n",
       "    <tr style=\"text-align: right;\">\n",
       "      <th></th>\n",
       "      <th>7526</th>\n",
       "      <th>8004</th>\n",
       "      <th>8911</th>\n",
       "    </tr>\n",
       "  </thead>\n",
       "  <tbody>\n",
       "    <tr>\n",
       "      <th>n_trips</th>\n",
       "      <td>1</td>\n",
       "      <td>1</td>\n",
       "      <td>27</td>\n",
       "    </tr>\n",
       "    <tr>\n",
       "      <th>schedule_gtfs_dataset_key</th>\n",
       "      <td>a37760dde6b9fdcb76b82e57afab7274</td>\n",
       "      <td>ac2951bfaa7ecf6b80ba9e50aef1ae86</td>\n",
       "      <td>d3ec92741001094ed14a27847c72e9d0</td>\n",
       "    </tr>\n",
       "    <tr>\n",
       "      <th>route_id</th>\n",
       "      <td>US0600</td>\n",
       "      <td>14216</td>\n",
       "      <td>45</td>\n",
       "    </tr>\n",
       "    <tr>\n",
       "      <th>route_type</th>\n",
       "      <td>3</td>\n",
       "      <td>3</td>\n",
       "      <td>3</td>\n",
       "    </tr>\n",
       "    <tr>\n",
       "      <th>shape_id</th>\n",
       "      <td>4a37db9f9d21e197a03589ff62c6569d</td>\n",
       "      <td>p_1438985</td>\n",
       "      <td>74</td>\n",
       "    </tr>\n",
       "    <tr>\n",
       "      <th>route_name_used</th>\n",
       "      <td>Greyhound US0600</td>\n",
       "      <td>1</td>\n",
       "      <td>45</td>\n",
       "    </tr>\n",
       "    <tr>\n",
       "      <th>name</th>\n",
       "      <td>Flixbus Schedule</td>\n",
       "      <td>Nevada County Schedule</td>\n",
       "      <td>GET Schedule</td>\n",
       "    </tr>\n",
       "    <tr>\n",
       "      <th>organization_source_record_id</th>\n",
       "      <td>recLW3EuIHTqTjdds</td>\n",
       "      <td>reczUcQgqgtMpkpKC</td>\n",
       "      <td>recIh3vq8jwuuJlvL</td>\n",
       "    </tr>\n",
       "    <tr>\n",
       "      <th>organization_name</th>\n",
       "      <td>Greyhound</td>\n",
       "      <td>Nevada County</td>\n",
       "      <td>Golden Empire Transit District</td>\n",
       "    </tr>\n",
       "    <tr>\n",
       "      <th>caltrans_district</th>\n",
       "      <td>07 - Los Angeles / Ventura</td>\n",
       "      <td>03 - Marysville / Sacramento</td>\n",
       "      <td>06 - Fresno / Bakersfield</td>\n",
       "    </tr>\n",
       "    <tr>\n",
       "      <th>route_length_feet</th>\n",
       "      <td>3638373.16</td>\n",
       "      <td>45443.07</td>\n",
       "      <td>88989.10</td>\n",
       "    </tr>\n",
       "    <tr>\n",
       "      <th>is_express</th>\n",
       "      <td>0.00</td>\n",
       "      <td>0.00</td>\n",
       "      <td>NaN</td>\n",
       "    </tr>\n",
       "    <tr>\n",
       "      <th>is_rapid</th>\n",
       "      <td>0.00</td>\n",
       "      <td>0.00</td>\n",
       "      <td>NaN</td>\n",
       "    </tr>\n",
       "    <tr>\n",
       "      <th>is_rail</th>\n",
       "      <td>0.00</td>\n",
       "      <td>0.00</td>\n",
       "      <td>NaN</td>\n",
       "    </tr>\n",
       "    <tr>\n",
       "      <th>is_ferry</th>\n",
       "      <td>0.00</td>\n",
       "      <td>0.00</td>\n",
       "      <td>NaN</td>\n",
       "    </tr>\n",
       "    <tr>\n",
       "      <th>is_local</th>\n",
       "      <td>1.00</td>\n",
       "      <td>0.00</td>\n",
       "      <td>NaN</td>\n",
       "    </tr>\n",
       "    <tr>\n",
       "      <th>common_shape_id</th>\n",
       "      <td>73d1ffda75696a5a9501be3612c89884</td>\n",
       "      <td>p_898885</td>\n",
       "      <td>NaN</td>\n",
       "    </tr>\n",
       "    <tr>\n",
       "      <th>is_coverage</th>\n",
       "      <td>0.00</td>\n",
       "      <td>1.00</td>\n",
       "      <td>NaN</td>\n",
       "    </tr>\n",
       "    <tr>\n",
       "      <th>is_downtown_local</th>\n",
       "      <td>0.00</td>\n",
       "      <td>0.00</td>\n",
       "      <td>NaN</td>\n",
       "    </tr>\n",
       "  </tbody>\n",
       "</table>\n",
       "</div>"
      ],
      "text/plain": [
       "                                                           7526  \\\n",
       "n_trips                                                       1   \n",
       "schedule_gtfs_dataset_key      a37760dde6b9fdcb76b82e57afab7274   \n",
       "route_id                                                 US0600   \n",
       "route_type                                                    3   \n",
       "shape_id                       4a37db9f9d21e197a03589ff62c6569d   \n",
       "route_name_used                                Greyhound US0600   \n",
       "name                                           Flixbus Schedule   \n",
       "organization_source_record_id                 recLW3EuIHTqTjdds   \n",
       "organization_name                                     Greyhound   \n",
       "caltrans_district                    07 - Los Angeles / Ventura   \n",
       "route_length_feet                                    3638373.16   \n",
       "is_express                                                 0.00   \n",
       "is_rapid                                                   0.00   \n",
       "is_rail                                                    0.00   \n",
       "is_ferry                                                   0.00   \n",
       "is_local                                                   1.00   \n",
       "common_shape_id                73d1ffda75696a5a9501be3612c89884   \n",
       "is_coverage                                                0.00   \n",
       "is_downtown_local                                          0.00   \n",
       "\n",
       "                                                           8004  \\\n",
       "n_trips                                                       1   \n",
       "schedule_gtfs_dataset_key      ac2951bfaa7ecf6b80ba9e50aef1ae86   \n",
       "route_id                                                  14216   \n",
       "route_type                                                    3   \n",
       "shape_id                                              p_1438985   \n",
       "route_name_used                                               1   \n",
       "name                                     Nevada County Schedule   \n",
       "organization_source_record_id                 reczUcQgqgtMpkpKC   \n",
       "organization_name                                 Nevada County   \n",
       "caltrans_district                  03 - Marysville / Sacramento   \n",
       "route_length_feet                                      45443.07   \n",
       "is_express                                                 0.00   \n",
       "is_rapid                                                   0.00   \n",
       "is_rail                                                    0.00   \n",
       "is_ferry                                                   0.00   \n",
       "is_local                                                   0.00   \n",
       "common_shape_id                                        p_898885   \n",
       "is_coverage                                                1.00   \n",
       "is_downtown_local                                          0.00   \n",
       "\n",
       "                                                           8911  \n",
       "n_trips                                                      27  \n",
       "schedule_gtfs_dataset_key      d3ec92741001094ed14a27847c72e9d0  \n",
       "route_id                                                     45  \n",
       "route_type                                                    3  \n",
       "shape_id                                                     74  \n",
       "route_name_used                                              45  \n",
       "name                                               GET Schedule  \n",
       "organization_source_record_id                 recIh3vq8jwuuJlvL  \n",
       "organization_name                Golden Empire Transit District  \n",
       "caltrans_district                     06 - Fresno / Bakersfield  \n",
       "route_length_feet                                      88989.10  \n",
       "is_express                                                  NaN  \n",
       "is_rapid                                                    NaN  \n",
       "is_rail                                                     NaN  \n",
       "is_ferry                                                    NaN  \n",
       "is_local                                                    NaN  \n",
       "common_shape_id                                             NaN  \n",
       "is_coverage                                                 NaN  \n",
       "is_downtown_local                                           NaN  "
      ]
     },
     "execution_count": 33,
     "metadata": {},
     "output_type": "execute_result"
    }
   ],
   "source": [
    "m3.sample(3).drop(columns=[\"geometry\", \"base64_url\"]).T"
   ]
  },
  {
   "cell_type": "code",
   "execution_count": 34,
   "id": "b2f5072d-9db2-4969-a4a9-762ac9df00ab",
   "metadata": {
    "tags": []
   },
   "outputs": [
    {
     "name": "stdout",
     "output_type": "stream",
     "text": [
      "<class 'geopandas.geodataframe.GeoDataFrame'>\n",
      "Int64Index: 10477 entries, 0 to 10476\n",
      "Data columns (total 21 columns):\n",
      " #   Column                         Non-Null Count  Dtype   \n",
      "---  ------                         --------------  -----   \n",
      " 0   n_trips                        10477 non-null  int64   \n",
      " 1   geometry                       10477 non-null  geometry\n",
      " 2   schedule_gtfs_dataset_key      10477 non-null  object  \n",
      " 3   route_id                       10477 non-null  object  \n",
      " 4   route_type                     10477 non-null  object  \n",
      " 5   shape_id                       10477 non-null  object  \n",
      " 6   route_name_used                10477 non-null  object  \n",
      " 7   name                           10477 non-null  object  \n",
      " 8   base64_url                     10477 non-null  object  \n",
      " 9   organization_source_record_id  10477 non-null  object  \n",
      " 10  organization_name              10477 non-null  object  \n",
      " 11  caltrans_district              10477 non-null  object  \n",
      " 12  route_length_feet              10477 non-null  float64 \n",
      " 13  is_express                     7415 non-null   float64 \n",
      " 14  is_rapid                       7415 non-null   float64 \n",
      " 15  is_rail                        7415 non-null   float64 \n",
      " 16  is_ferry                       7415 non-null   float64 \n",
      " 17  is_local                       7415 non-null   float64 \n",
      " 18  common_shape_id                6211 non-null   object  \n",
      " 19  is_coverage                    7415 non-null   float64 \n",
      " 20  is_downtown_local              7415 non-null   float64 \n",
      "dtypes: float64(8), geometry(1), int64(1), object(11)\n",
      "memory usage: 1.8+ MB\n"
     ]
    }
   ],
   "source": [
    "m3.info()"
   ]
  },
  {
   "cell_type": "markdown",
   "id": "0ec12566-3132-4ac1-8443-7a6f34a3a377",
   "metadata": {},
   "source": [
    "## Attach SHS"
   ]
  },
  {
   "cell_type": "code",
   "execution_count": 35,
   "id": "fcbf36cb-cd21-4074-a101-29c5c6b09068",
   "metadata": {
    "tags": []
   },
   "outputs": [],
   "source": [
    "def routes_shn_intersection(\n",
    "    routes_gdf: gpd.GeoDataFrame, buffer_amount: int\n",
    ") -> gpd.GeoDataFrame:\n",
    "    \"\"\"\n",
    "    Overlay the most recent transit routes with a buffered version\n",
    "    of the SHN\n",
    "    \"\"\"\n",
    "    GCS_FILE_PATH = \"gs://calitp-analytics-data/data-analyses/shared_data/\"\n",
    "\n",
    "    # Read in buffered shn here or re buffer if we don't have it available.\n",
    "    HWY_FILE = f\"{GCS_FILE_PATH}shn_buffered_{buffer_amount}_ft_shn_dissolved_by_ct_district_route.parquet\"\n",
    "\n",
    "    if fs.exists(HWY_FILE):\n",
    "        shn_routes_gdf = gpd.read_parquet(\n",
    "            HWY_FILE, storage_options={\"token\": credentials.token}\n",
    "        )\n",
    "    else:\n",
    "        shn_routes_gdf = shared_data.buffer_shn(buffer_amount)\n",
    "\n",
    "    # Process the most recent transit route geographies and ensure the\n",
    "    # CRS matches the SHN routes' GDF so the overlay doesn't go wonky.\n",
    "    routes_gdf = routes_gdf.to_crs(shn_routes_gdf.crs)\n",
    "\n",
    "    # Overlay transit routes with the SHN geographies.\n",
    "    gdf = gpd.overlay(\n",
    "        routes_gdf, shn_routes_gdf, how=\"intersection\", keep_geom_type=True\n",
    "    )\n",
    "\n",
    "    # Calcuate the percent of the transit route that runs on a highway, round it up and\n",
    "    # multiply it by 100. Drop the geometry because we want the original transit route\n",
    "    # shapes.\n",
    "    gdf = gdf.assign(\n",
    "        pct_route_on_hwy=(gdf.geometry.length / gdf.route_length_feet).round(3) * 100,\n",
    "    )\n",
    "    # Subset\n",
    "    gdf2 = gdf[\n",
    "        [\n",
    "            \"district\",\n",
    "            \"shn_route\",\n",
    "            \"pct_route_on_hwy\",\n",
    "            \"n_trips\",\n",
    "            \"schedule_gtfs_dataset_key\",\n",
    "            \"route_id\",\n",
    "            \"route_type\",\n",
    "            \"shape_id\",\n",
    "            \"route_name_used\",\n",
    "            \"name\",\n",
    "            \"organization_name\",\n",
    "        ]\n",
    "    ]\n",
    "\n",
    "    # Clean up\n",
    "    gdf2.district = gdf2.district.fillna(0).astype(int)\n",
    "\n",
    "    gdf2 = gdf2.rename(\n",
    "        columns={\n",
    "            \"pct_route_on_hwy\": \"pct_route_on_hwy_across_districts\",\n",
    "            \"district\": \"shn_districts\",\n",
    "        }\n",
    "    )\n",
    "    return gdf2"
   ]
  },
  {
   "cell_type": "code",
   "execution_count": 36,
   "id": "a10cfe73-0fac-4c42-8465-8ca9cb45d8af",
   "metadata": {
    "tags": []
   },
   "outputs": [],
   "source": [
    "def group_route_district(df: pd.DataFrame, pct_route_on_hwy_agg: str) -> pd.DataFrame:\n",
    "    \"\"\"\n",
    "    Aggregate by adding all the districts and SHN to a single row, rather than\n",
    "    multiple and sum up the total % of SHN a transit route intersects with.\n",
    "\n",
    "    df: the dataframe you want to aggregate\n",
    "    pct_route_on_hwy_agg: whether you want to find the max, min, sum, etc on the column\n",
    "    \"pct_route_on_hwy_across_districts\"\n",
    "    \"\"\"\n",
    "\n",
    "    agg1 = (\n",
    "        df.groupby(\n",
    "            [\n",
    "                \"n_trips\",\n",
    "                \"schedule_gtfs_dataset_key\",\n",
    "                \"route_id\",\n",
    "                \"route_type\",\n",
    "                \"shape_id\",\n",
    "                \"route_name_used\",\n",
    "                \"name\",\n",
    "                \"organization_name\",\n",
    "            ],\n",
    "            as_index=False,\n",
    "        )[[\"shn_route\", \"shn_districts\", \"pct_route_on_hwy_across_districts\"]]\n",
    "        .agg(\n",
    "            {\n",
    "                \"shn_route\": lambda x: \", \".join(set(x.astype(str))),\n",
    "                \"shn_districts\": lambda x: \", \".join(set(x.astype(str))),\n",
    "                \"pct_route_on_hwy_across_districts\": pct_route_on_hwy_agg,\n",
    "            }\n",
    "        )\n",
    "        .reset_index(drop=True)\n",
    "    )\n",
    "\n",
    "    # Clean up\n",
    "    agg1.pct_route_on_hwy_across_districts = (\n",
    "        agg1.pct_route_on_hwy_across_districts.astype(float).round(2)\n",
    "    )\n",
    "\n",
    "    return agg1"
   ]
  },
  {
   "cell_type": "code",
   "execution_count": 37,
   "id": "4fad1a06-3170-468e-b24b-d1846ca745c8",
   "metadata": {
    "tags": []
   },
   "outputs": [],
   "source": [
    "def add_shn_information(gdf: gpd.GeoDataFrame, buffer_amt: int) -> pd.DataFrame:\n",
    "    \"\"\"\n",
    "    Prepare the gdf to join with the existing transit_routes\n",
    "    dataframe that is published on the Open Data Portal\n",
    "    \"\"\"\n",
    "    # Drop duplicates\n",
    "    gdf = gdf.drop_duplicates()\n",
    "    # Overlay\n",
    "    intersecting = routes_shn_intersection(gdf, buffer_amt)\n",
    "    # Group the dataframe so that one route only has one\n",
    "    # row instead of multiple rows after finding its\n",
    "    # intersection with any SHN routes.\n",
    "    print(intersecting.columns)\n",
    "    agg1 = group_route_district(intersecting, \"sum\")\n",
    "\n",
    "    # Merge the dataframe with all the SHS info with the original\n",
    "    # gdf so we can get the original transit route geometries &\n",
    "    # any routes that don't intersect with the state highway routes.\n",
    "    m1 = pd.merge(gdf, agg1, how=\"left\")\n",
    "\n",
    "    # Add yes/no column to signify if a transit route intersects\n",
    "    # with a SHN route\n",
    "    agg1[\"on_shs\"] = np.where(agg1[\"pct_route_on_hwy_across_districts\"] == 0, \"N\", \"Y\")\n",
    "\n",
    "    # Clean up rows that are tagged as \"on_shs==N\" but still have values\n",
    "    # that appear.\n",
    "    agg1.loc[\n",
    "        (agg1[\"on_shs\"] == \"N\") & (agg1[\"shn_districts\"] != \"0\"),\n",
    "        [\"shn_districts\", \"shn_route\"],\n",
    "    ] = np.nan\n",
    "    # Join back the dataframe above with the original transit route dataframes\n",
    "    # so we can have the original transit route geographies.\n",
    "    m1 = pd.merge(\n",
    "        gdf,\n",
    "        agg1,\n",
    "        on=[\n",
    "            \"n_trips\",\n",
    "            \"schedule_gtfs_dataset_key\",\n",
    "            \"route_id\",\n",
    "            \"route_type\",\n",
    "            \"shape_id\",\n",
    "            \"route_name_used\",\n",
    "            \"name\",\n",
    "            \"organization_name\"\n",
    "        ],\n",
    "        how=\"left\",\n",
    "    )\n",
    "    # Clean up rows that are tagged as \"on_shs==N\" but still have values\n",
    "    # that appear.\n",
    "    m1.loc[\n",
    "        (m1[\"on_shs\"] == \"N\") & (m1[\"shn_districts\"] != \"0\"),\n",
    "        [\"shn_districts\", \"shn_route\"],\n",
    "    ] = np.nan\n",
    "    return m1"
   ]
  },
  {
   "cell_type": "code",
   "execution_count": 38,
   "id": "f7a6595e-1226-4788-b98f-c94480a39b9c",
   "metadata": {
    "tags": []
   },
   "outputs": [
    {
     "name": "stderr",
     "output_type": "stream",
     "text": [
      "/tmp/ipykernel_1717/300753211.py:53: SettingWithCopyWarning: \n",
      "A value is trying to be set on a copy of a slice from a DataFrame.\n",
      "Try using .loc[row_indexer,col_indexer] = value instead\n",
      "\n",
      "See the caveats in the documentation: https://pandas.pydata.org/pandas-docs/stable/user_guide/indexing.html#returning-a-view-versus-a-copy\n",
      "  gdf2.district = gdf2.district.fillna(0).astype(int)\n"
     ]
    },
    {
     "name": "stdout",
     "output_type": "stream",
     "text": [
      "Index(['shn_districts', 'shn_route', 'pct_route_on_hwy_across_districts',\n",
      "       'n_trips', 'schedule_gtfs_dataset_key', 'route_id', 'route_type',\n",
      "       'shape_id', 'route_name_used', 'name', 'organization_name'],\n",
      "      dtype='object')\n"
     ]
    }
   ],
   "source": [
    "shn_typology = add_shn_information(m3, 50)"
   ]
  },
  {
   "cell_type": "code",
   "execution_count": 39,
   "id": "6297ae42-6962-4e47-a70d-99e4247826b9",
   "metadata": {
    "tags": []
   },
   "outputs": [
    {
     "data": {
      "text/plain": [
       "Index(['n_trips', 'geometry', 'schedule_gtfs_dataset_key', 'route_id',\n",
       "       'route_type', 'shape_id', 'route_name_used', 'name', 'base64_url',\n",
       "       'organization_source_record_id', 'organization_name',\n",
       "       'caltrans_district', 'route_length_feet', 'is_express', 'is_rapid',\n",
       "       'is_rail', 'is_ferry', 'is_local', 'common_shape_id', 'is_coverage',\n",
       "       'is_downtown_local', 'shn_route', 'shn_districts',\n",
       "       'pct_route_on_hwy_across_districts', 'on_shs'],\n",
       "      dtype='object')"
      ]
     },
     "execution_count": 39,
     "metadata": {},
     "output_type": "execute_result"
    }
   ],
   "source": [
    "shn_typology.columns"
   ]
  },
  {
   "cell_type": "code",
   "execution_count": 41,
   "id": "da46223f-a4f5-4b03-9268-e66c4a5c2fd5",
   "metadata": {
    "tags": []
   },
   "outputs": [
    {
     "data": {
      "text/html": [
       "<div>\n",
       "<style scoped>\n",
       "    .dataframe tbody tr th:only-of-type {\n",
       "        vertical-align: middle;\n",
       "    }\n",
       "\n",
       "    .dataframe tbody tr th {\n",
       "        vertical-align: top;\n",
       "    }\n",
       "\n",
       "    .dataframe thead th {\n",
       "        text-align: right;\n",
       "    }\n",
       "</style>\n",
       "<table border=\"1\" class=\"dataframe\">\n",
       "  <thead>\n",
       "    <tr style=\"text-align: right;\">\n",
       "      <th></th>\n",
       "      <th>3166</th>\n",
       "      <th>1140</th>\n",
       "      <th>3518</th>\n",
       "    </tr>\n",
       "  </thead>\n",
       "  <tbody>\n",
       "    <tr>\n",
       "      <th>n_trips</th>\n",
       "      <td>2</td>\n",
       "      <td>21</td>\n",
       "      <td>30</td>\n",
       "    </tr>\n",
       "    <tr>\n",
       "      <th>schedule_gtfs_dataset_key</th>\n",
       "      <td>3364ec074ca85001da3abd78be2ae521</td>\n",
       "      <td>131be0ff0e953b7b292a1548fed19c6d</td>\n",
       "      <td>5456c80d420043e15c8eb7368a8a4d89</td>\n",
       "    </tr>\n",
       "    <tr>\n",
       "      <th>route_id</th>\n",
       "      <td>985</td>\n",
       "      <td>7</td>\n",
       "      <td>141</td>\n",
       "    </tr>\n",
       "    <tr>\n",
       "      <th>route_type</th>\n",
       "      <td>3</td>\n",
       "      <td>3</td>\n",
       "      <td>3</td>\n",
       "    </tr>\n",
       "    <tr>\n",
       "      <th>shape_id</th>\n",
       "      <td>S2_985_9_15</td>\n",
       "      <td>6567</td>\n",
       "      <td>1410355</td>\n",
       "    </tr>\n",
       "    <tr>\n",
       "      <th>route_name_used</th>\n",
       "      <td>985</td>\n",
       "      <td>7</td>\n",
       "      <td>141</td>\n",
       "    </tr>\n",
       "    <tr>\n",
       "      <th>name</th>\n",
       "      <td>San Diego Schedule</td>\n",
       "      <td>SunLine Avail Schedule</td>\n",
       "      <td>Bay Area 511 SamTrans Schedule</td>\n",
       "    </tr>\n",
       "    <tr>\n",
       "      <th>organization_source_record_id</th>\n",
       "      <td>recZALk4vysuoTVjF</td>\n",
       "      <td>recAsbHMwQWB7cri8</td>\n",
       "      <td>recw3mRsmKDTNnVlT</td>\n",
       "    </tr>\n",
       "    <tr>\n",
       "      <th>organization_name</th>\n",
       "      <td>San Diego Metropolitan Transit System</td>\n",
       "      <td>SunLine Transit Agency</td>\n",
       "      <td>San Mateo County Transit District</td>\n",
       "    </tr>\n",
       "    <tr>\n",
       "      <th>caltrans_district</th>\n",
       "      <td>11 - San Diego</td>\n",
       "      <td>08 - San Bernardino / Riverside</td>\n",
       "      <td>04 - Bay Area / Oakland</td>\n",
       "    </tr>\n",
       "    <tr>\n",
       "      <th>route_length_feet</th>\n",
       "      <td>19310.64</td>\n",
       "      <td>51077.13</td>\n",
       "      <td>36422.70</td>\n",
       "    </tr>\n",
       "    <tr>\n",
       "      <th>is_express</th>\n",
       "      <td>NaN</td>\n",
       "      <td>NaN</td>\n",
       "      <td>0.00</td>\n",
       "    </tr>\n",
       "    <tr>\n",
       "      <th>is_rapid</th>\n",
       "      <td>NaN</td>\n",
       "      <td>NaN</td>\n",
       "      <td>0.00</td>\n",
       "    </tr>\n",
       "    <tr>\n",
       "      <th>is_rail</th>\n",
       "      <td>NaN</td>\n",
       "      <td>NaN</td>\n",
       "      <td>0.00</td>\n",
       "    </tr>\n",
       "    <tr>\n",
       "      <th>is_ferry</th>\n",
       "      <td>NaN</td>\n",
       "      <td>NaN</td>\n",
       "      <td>0.00</td>\n",
       "    </tr>\n",
       "    <tr>\n",
       "      <th>is_local</th>\n",
       "      <td>NaN</td>\n",
       "      <td>NaN</td>\n",
       "      <td>0.00</td>\n",
       "    </tr>\n",
       "    <tr>\n",
       "      <th>common_shape_id</th>\n",
       "      <td>NaN</td>\n",
       "      <td>NaN</td>\n",
       "      <td>1410323</td>\n",
       "    </tr>\n",
       "    <tr>\n",
       "      <th>is_coverage</th>\n",
       "      <td>NaN</td>\n",
       "      <td>NaN</td>\n",
       "      <td>0.00</td>\n",
       "    </tr>\n",
       "    <tr>\n",
       "      <th>is_downtown_local</th>\n",
       "      <td>NaN</td>\n",
       "      <td>NaN</td>\n",
       "      <td>1.00</td>\n",
       "    </tr>\n",
       "    <tr>\n",
       "      <th>shn_route</th>\n",
       "      <td>NaN</td>\n",
       "      <td>NaN</td>\n",
       "      <td>82, 35, 280</td>\n",
       "    </tr>\n",
       "    <tr>\n",
       "      <th>shn_districts</th>\n",
       "      <td>NaN</td>\n",
       "      <td>NaN</td>\n",
       "      <td>4</td>\n",
       "    </tr>\n",
       "    <tr>\n",
       "      <th>pct_route_on_hwy_across_districts</th>\n",
       "      <td>NaN</td>\n",
       "      <td>NaN</td>\n",
       "      <td>1.20</td>\n",
       "    </tr>\n",
       "    <tr>\n",
       "      <th>on_shs</th>\n",
       "      <td>NaN</td>\n",
       "      <td>NaN</td>\n",
       "      <td>Y</td>\n",
       "    </tr>\n",
       "  </tbody>\n",
       "</table>\n",
       "</div>"
      ],
      "text/plain": [
       "                                                                    3166  \\\n",
       "n_trips                                                                2   \n",
       "schedule_gtfs_dataset_key               3364ec074ca85001da3abd78be2ae521   \n",
       "route_id                                                             985   \n",
       "route_type                                                             3   \n",
       "shape_id                                                     S2_985_9_15   \n",
       "route_name_used                                                      985   \n",
       "name                                                  San Diego Schedule   \n",
       "organization_source_record_id                          recZALk4vysuoTVjF   \n",
       "organization_name                  San Diego Metropolitan Transit System   \n",
       "caltrans_district                                         11 - San Diego   \n",
       "route_length_feet                                               19310.64   \n",
       "is_express                                                           NaN   \n",
       "is_rapid                                                             NaN   \n",
       "is_rail                                                              NaN   \n",
       "is_ferry                                                             NaN   \n",
       "is_local                                                             NaN   \n",
       "common_shape_id                                                      NaN   \n",
       "is_coverage                                                          NaN   \n",
       "is_downtown_local                                                    NaN   \n",
       "shn_route                                                            NaN   \n",
       "shn_districts                                                        NaN   \n",
       "pct_route_on_hwy_across_districts                                    NaN   \n",
       "on_shs                                                               NaN   \n",
       "\n",
       "                                                               1140  \\\n",
       "n_trips                                                          21   \n",
       "schedule_gtfs_dataset_key          131be0ff0e953b7b292a1548fed19c6d   \n",
       "route_id                                                          7   \n",
       "route_type                                                        3   \n",
       "shape_id                                                       6567   \n",
       "route_name_used                                                   7   \n",
       "name                                         SunLine Avail Schedule   \n",
       "organization_source_record_id                     recAsbHMwQWB7cri8   \n",
       "organization_name                            SunLine Transit Agency   \n",
       "caltrans_district                   08 - San Bernardino / Riverside   \n",
       "route_length_feet                                          51077.13   \n",
       "is_express                                                      NaN   \n",
       "is_rapid                                                        NaN   \n",
       "is_rail                                                         NaN   \n",
       "is_ferry                                                        NaN   \n",
       "is_local                                                        NaN   \n",
       "common_shape_id                                                 NaN   \n",
       "is_coverage                                                     NaN   \n",
       "is_downtown_local                                               NaN   \n",
       "shn_route                                                       NaN   \n",
       "shn_districts                                                   NaN   \n",
       "pct_route_on_hwy_across_districts                               NaN   \n",
       "on_shs                                                          NaN   \n",
       "\n",
       "                                                                3518  \n",
       "n_trips                                                           30  \n",
       "schedule_gtfs_dataset_key           5456c80d420043e15c8eb7368a8a4d89  \n",
       "route_id                                                         141  \n",
       "route_type                                                         3  \n",
       "shape_id                                                     1410355  \n",
       "route_name_used                                                  141  \n",
       "name                                  Bay Area 511 SamTrans Schedule  \n",
       "organization_source_record_id                      recw3mRsmKDTNnVlT  \n",
       "organization_name                  San Mateo County Transit District  \n",
       "caltrans_district                            04 - Bay Area / Oakland  \n",
       "route_length_feet                                           36422.70  \n",
       "is_express                                                      0.00  \n",
       "is_rapid                                                        0.00  \n",
       "is_rail                                                         0.00  \n",
       "is_ferry                                                        0.00  \n",
       "is_local                                                        0.00  \n",
       "common_shape_id                                              1410323  \n",
       "is_coverage                                                     0.00  \n",
       "is_downtown_local                                               1.00  \n",
       "shn_route                                                82, 35, 280  \n",
       "shn_districts                                                      4  \n",
       "pct_route_on_hwy_across_districts                               1.20  \n",
       "on_shs                                                             Y  "
      ]
     },
     "execution_count": 41,
     "metadata": {},
     "output_type": "execute_result"
    }
   ],
   "source": [
    "shn_typology.drop(columns = [\"geometry\",\"base64_url\"]).sample(3).T"
   ]
  }
 ],
 "metadata": {
  "kernelspec": {
   "display_name": "Python 3 (ipykernel)",
   "language": "python",
   "name": "python3"
  },
  "language_info": {
   "codemirror_mode": {
    "name": "ipython",
    "version": 3
   },
   "file_extension": ".py",
   "mimetype": "text/x-python",
   "name": "python",
   "nbconvert_exporter": "python",
   "pygments_lexer": "ipython3",
   "version": "3.11.10"
  }
 },
 "nbformat": 4,
 "nbformat_minor": 5
}
