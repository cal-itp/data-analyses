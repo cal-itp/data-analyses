{
 "cells": [
  {
   "cell_type": "markdown",
   "id": "bcff88ab-e6fe-4d33-bc26-6381f3e700d5",
   "metadata": {},
   "source": [
    "# SHN and Route Typology\n",
    "* https://docs.google.com/spreadsheets/d/1gmRmVC4phwA3EunOhI4-aJ7uF5R2nZhIhPV2h3FM25w/edit?gid=0#gid=0\n",
    "\n",
    "## Questions\n",
    "* Is `route_typology` refreshed January of each year?\n",
    "* Do I need to go back to 2023 and add back the route typologies? Or can I just add route typologies from August onward?\n",
    "* Best way to troubleshoot why a dataframe increases in rows after a merge?\n",
    "* What's the difference between `shape_id` in `open_data/create_routes` vs `common_shape_id` in `route_typology_df?`\n",
    "\n",
    "## Steps\n",
    "1. start with: open data routes (1 day? most recent date...for the most part, operator-service_date-route-shape). \n",
    "bring in route typology (which is a route's designation for that year) can be merged onto open data, needs an aggregation here to operator-route. this should be merged onto open data routes with a m:1 merge  (open data routes on left, route typology on right, merge on route)\n",
    "2. to the above, you want to be able to tag those routes as being on shn or not. open data routes will have columns for is_on_shn, route_typology (is_express, is_rapid, is_rail, etc).\n",
    "3. newer research task: the comparison of \"what do you miss when you only sample Wed) is using merge_data.concatenate_schedule_data_by_route_direction(use a week here, instead of Wed), and you're doing this at some point, and this is when you start with gtfs_digest/merge_dataand this stuff is exploratory in a notebook"
   ]
  },
  {
   "cell_type": "code",
   "execution_count": 1,
   "id": "ef73c496-a633-47fc-8953-8005239865e2",
   "metadata": {
    "tags": []
   },
   "outputs": [],
   "source": [
    "import geopandas as gpd\n",
    "import google.auth\n",
    "import numpy as np\n",
    "import pandas as pd\n",
    "\n",
    "credentials, project = google.auth.default()\n",
    "\n",
    "import gcsfs\n",
    "\n",
    "fs = gcsfs.GCSFileSystem()\n",
    "import yaml"
   ]
  },
  {
   "cell_type": "code",
   "execution_count": 2,
   "id": "7195d5e7-f8aa-47bf-a5ef-df9e1ec83fc4",
   "metadata": {
    "tags": []
   },
   "outputs": [],
   "source": [
    "from calitp_data_analysis import geography_utils, utils\n",
    "from segment_speed_utils import gtfs_schedule_wrangling, helpers, time_series_utils\n",
    "from shared_utils import (\n",
    "    catalog_utils,\n",
    "    dask_utils,\n",
    "    gtfs_utils_v2,\n",
    "    portfolio_utils,\n",
    "    publish_utils,\n",
    "    rt_dates,\n",
    "    rt_utils,\n",
    ")\n",
    "from update_vars import GTFS_DATA_DICT, RT_SCHED_GCS, SCHED_GCS, SEGMENT_GCS"
   ]
  },
  {
   "cell_type": "code",
   "execution_count": 3,
   "id": "6e8839bd-caef-413a-9cc5-b1fcf9869b4f",
   "metadata": {
    "tags": []
   },
   "outputs": [],
   "source": [
    "TRAFFIC_OPS_GCS = f\"{GTFS_DATA_DICT.gcs_paths.GCS}traffic_ops/\""
   ]
  },
  {
   "cell_type": "code",
   "execution_count": 4,
   "id": "9142e68b-dadb-4382-9830-2c38d5447a03",
   "metadata": {
    "tags": []
   },
   "outputs": [],
   "source": [
    "pd.options.display.max_columns = 100\n",
    "pd.options.display.float_format = \"{:.2f}\".format\n",
    "pd.set_option(\"display.max_rows\", None)\n",
    "pd.set_option(\"display.max_colwidth\", None)"
   ]
  },
  {
   "cell_type": "code",
   "execution_count": 5,
   "id": "a7039e0d-31da-40e7-8839-385b86e1f95a",
   "metadata": {
    "tags": []
   },
   "outputs": [],
   "source": [
    "bart_org_name = \"San Francisco Bay Area Rapid Transit District\"\n",
    "bart_gtfs_dataset_name = \"Bay Area 511 BART Schedule\""
   ]
  },
  {
   "cell_type": "code",
   "execution_count": 6,
   "id": "cdcab468-84e5-4bdc-a72c-0c7f7762d221",
   "metadata": {
    "tags": []
   },
   "outputs": [],
   "source": [
    "analysis_date = rt_dates.DATES[\"jul2025\"]"
   ]
  },
  {
   "cell_type": "markdown",
   "id": "63a16f8e-2394-4fe4-85ce-4a742640ec9b",
   "metadata": {},
   "source": [
    "* Insert route typology before organization name is merged in. \n",
    "* When I'm still working with feed key/gtfs schedule that's when I want to start adding things. \n",
    "* Move my merge to just name and route_id that will be a lot cleaner. "
   ]
  },
  {
   "cell_type": "code",
   "execution_count": 7,
   "id": "4232592c-0c0e-4e8e-8e59-9b5c58fec747",
   "metadata": {
    "tags": []
   },
   "outputs": [],
   "source": [
    "ca_transit_routes = gpd.read_parquet(\n",
    "    f\"gs://calitp-analytics-data/data-analyses/traffic_ops/ca_transit_routes.parquet\",\n",
    "    filters=[[(\"agency\", \"==\", bart_org_name)]],\n",
    "    storage_options={\"token\": credentials.token},\n",
    ")"
   ]
  },
  {
   "cell_type": "markdown",
   "id": "6a1f4ec0-fc93-4601-a087-4a6aaaf87afb",
   "metadata": {},
   "source": [
    "* Make sure the year is something I consider.\n",
    "* Can concat all of the year to see which ones can merge on. \n",
    "* Because we patch previous dates in, we might be missing stuff if we only grab 2025. \n",
    "* After dataframe has been patched with `patch_previous_dates`, see what's left.\n",
    "* `standardize_operator_info_for_exports` needs to be moved out and added on after I add in the SHN and route typologies. \n",
    "* All organization name renaming stuff needs to move to the end. \n",
    "* Read only what I need."
   ]
  },
  {
   "cell_type": "code",
   "execution_count": 8,
   "id": "730cfdca-f1f5-4a1c-8d2f-1d5c3bd07d44",
   "metadata": {
    "tags": []
   },
   "outputs": [],
   "source": [
    "year = \"2025\"\n",
    "route_typologies = pd.read_parquet(\n",
    "    \"gs://calitp-analytics-data/data-analyses/gtfs_schedule/\"\n",
    "    f\"nacto_typologies/route_typologies_{year}.parquet\",\n",
    "    filters=[[(\"name\", \"==\", bart_gtfs_dataset_name)]],\n",
    ")"
   ]
  },
  {
   "cell_type": "code",
   "execution_count": 9,
   "id": "4b97dacc-3a93-4ebf-b17c-367bc6930dde",
   "metadata": {
    "tags": []
   },
   "outputs": [
    {
     "data": {
      "text/html": [
       "<div>\n",
       "<style scoped>\n",
       "    .dataframe tbody tr th:only-of-type {\n",
       "        vertical-align: middle;\n",
       "    }\n",
       "\n",
       "    .dataframe tbody tr th {\n",
       "        vertical-align: top;\n",
       "    }\n",
       "\n",
       "    .dataframe thead th {\n",
       "        text-align: right;\n",
       "    }\n",
       "</style>\n",
       "<table border=\"1\" class=\"dataframe\">\n",
       "  <thead>\n",
       "    <tr style=\"text-align: right;\">\n",
       "      <th></th>\n",
       "      <th>org_id</th>\n",
       "      <th>agency</th>\n",
       "      <th>route_id</th>\n",
       "      <th>route_type</th>\n",
       "      <th>route_name</th>\n",
       "      <th>shape_id</th>\n",
       "      <th>n_trips</th>\n",
       "      <th>base64_url</th>\n",
       "    </tr>\n",
       "  </thead>\n",
       "  <tbody>\n",
       "    <tr>\n",
       "      <th>0</th>\n",
       "      <td>recoQLeNRISCKF8I0</td>\n",
       "      <td>San Francisco Bay Area Rapid Transit District</td>\n",
       "      <td>Blue-N</td>\n",
       "      <td>1</td>\n",
       "      <td>Blue-N</td>\n",
       "      <td>012A_shp</td>\n",
       "      <td>58</td>\n",
       "      <td>aHR0cHM6Ly9hcGkuNTExLm9yZy90cmFuc2l0L2RhdGFmZWVkcz9vcGVyYXRvcl9pZD1CQQ==</td>\n",
       "    </tr>\n",
       "  </tbody>\n",
       "</table>\n",
       "</div>"
      ],
      "text/plain": [
       "              org_id                                         agency route_id  \\\n",
       "0  recoQLeNRISCKF8I0  San Francisco Bay Area Rapid Transit District   Blue-N   \n",
       "\n",
       "  route_type route_name  shape_id  n_trips  \\\n",
       "0          1     Blue-N  012A_shp       58   \n",
       "\n",
       "                                                                 base64_url  \n",
       "0  aHR0cHM6Ly9hcGkuNTExLm9yZy90cmFuc2l0L2RhdGFmZWVkcz9vcGVyYXRvcl9pZD1CQQ==  "
      ]
     },
     "execution_count": 9,
     "metadata": {},
     "output_type": "execute_result"
    }
   ],
   "source": [
    "ca_transit_routes.head(1).drop(columns=[\"geometry\"])"
   ]
  },
  {
   "cell_type": "code",
   "execution_count": 10,
   "id": "9b49cd6a-4609-4abe-9e0f-0c15c4d5db05",
   "metadata": {
    "tags": []
   },
   "outputs": [
    {
     "data": {
      "text/html": [
       "<div>\n",
       "<style scoped>\n",
       "    .dataframe tbody tr th:only-of-type {\n",
       "        vertical-align: middle;\n",
       "    }\n",
       "\n",
       "    .dataframe tbody tr th {\n",
       "        vertical-align: top;\n",
       "    }\n",
       "\n",
       "    .dataframe thead th {\n",
       "        text-align: right;\n",
       "    }\n",
       "</style>\n",
       "<table border=\"1\" class=\"dataframe\">\n",
       "  <thead>\n",
       "    <tr style=\"text-align: right;\">\n",
       "      <th></th>\n",
       "      <th>schedule_gtfs_dataset_key</th>\n",
       "      <th>name</th>\n",
       "      <th>route_id</th>\n",
       "      <th>route_type</th>\n",
       "      <th>route_long_name</th>\n",
       "      <th>route_short_name</th>\n",
       "      <th>combined_name</th>\n",
       "      <th>is_express</th>\n",
       "      <th>is_rapid</th>\n",
       "      <th>is_rail</th>\n",
       "      <th>is_ferry</th>\n",
       "      <th>is_local</th>\n",
       "      <th>common_shape_id</th>\n",
       "      <th>is_coverage</th>\n",
       "      <th>is_downtown_local</th>\n",
       "    </tr>\n",
       "  </thead>\n",
       "  <tbody>\n",
       "    <tr>\n",
       "      <th>0</th>\n",
       "      <td>8a1405af8da1379acc062e346187ac98</td>\n",
       "      <td>Bay Area 511 BART Schedule</td>\n",
       "      <td>Beige-N</td>\n",
       "      <td>1</td>\n",
       "      <td>Oakland Airport to Coliseum</td>\n",
       "      <td>Beige-N</td>\n",
       "      <td>Beige-N__Oakland Airport to Coliseum</td>\n",
       "      <td>0</td>\n",
       "      <td>0</td>\n",
       "      <td>1</td>\n",
       "      <td>0</td>\n",
       "      <td>0</td>\n",
       "      <td>None</td>\n",
       "      <td>0</td>\n",
       "      <td>0</td>\n",
       "    </tr>\n",
       "  </tbody>\n",
       "</table>\n",
       "</div>"
      ],
      "text/plain": [
       "          schedule_gtfs_dataset_key                        name route_id  \\\n",
       "0  8a1405af8da1379acc062e346187ac98  Bay Area 511 BART Schedule  Beige-N   \n",
       "\n",
       "  route_type              route_long_name route_short_name  \\\n",
       "0          1  Oakland Airport to Coliseum          Beige-N   \n",
       "\n",
       "                          combined_name  is_express  is_rapid  is_rail  \\\n",
       "0  Beige-N__Oakland Airport to Coliseum           0         0        1   \n",
       "\n",
       "   is_ferry  is_local common_shape_id  is_coverage  is_downtown_local  \n",
       "0         0         0            None            0                  0  "
      ]
     },
     "execution_count": 10,
     "metadata": {},
     "output_type": "execute_result"
    }
   ],
   "source": [
    "route_typologies.head(1)"
   ]
  },
  {
   "cell_type": "markdown",
   "id": "282582e1-3446-4a05-b5ea-6454dac36256",
   "metadata": {},
   "source": [
    "* Always use `name` and `route_id`\n",
    "* `route_typologies` is not always filled in for everythign we have.\n",
    "* There are a number of reasons, Tiffany samples the dates and only runs it quarterly.\n",
    "* Merging something daily to quarterly doesn't always work the best.\n",
    "* Don't use organization_name. \n",
    "* Get rid of all the shape_id variations for intersecting.\n",
    "    * WE just have to publish all of the `shape_id` because there are truly different variations.\n",
    "    * \n",
    "\n",
    "Steps\n",
    "1. Patch missing data\n",
    "2. Merge `route_typologies` with `open_data` on the left\n",
    "3. Check that I'm not missing too many.\n",
    "4. Add in SHN stuff.\n",
    "    * Can dedup `name, route_id,` keep one `shape_id` with the longest route length in a separate dataframe as the \"representative\" shape. \n",
    "    * Use that `shape_id` for doing the intersection between transit route x SHN to determine the column we are creating.\n",
    "    * Merge this new dataframe back to the original dataframe. \n",
    "5. Add in `standardize_org_name` function\n",
    "6. Add in `finalize_export_df` "
   ]
  },
  {
   "cell_type": "code",
   "execution_count": 11,
   "id": "90fc8634-19ab-4c50-ad2c-ef7afe237183",
   "metadata": {
    "tags": []
   },
   "outputs": [
    {
     "data": {
      "text/plain": [
       "both          24\n",
       "left_only      2\n",
       "right_only     0\n",
       "Name: _merge, dtype: int64"
      ]
     },
     "execution_count": 11,
     "metadata": {},
     "output_type": "execute_result"
    }
   ],
   "source": [
    "test_m1 = pd.merge(\n",
    "    ca_transit_routes.assign(name=bart_gtfs_dataset_name),\n",
    "    route_typologies,\n",
    "    on=[\"name\", \"route_id\"],\n",
    "    how=\"left\",\n",
    "    indicator=True,\n",
    ")\n",
    "test_m1._merge.value_counts()"
   ]
  },
  {
   "cell_type": "markdown",
   "id": "dbfd6a01-71c1-4733-a193-546b49662c30",
   "metadata": {},
   "source": [
    "## Step 1: Concat all the years for `route_typologies`"
   ]
  },
  {
   "cell_type": "code",
   "execution_count": 12,
   "id": "8d47fa0a-2419-454d-a111-12258633ee2d",
   "metadata": {
    "tags": []
   },
   "outputs": [],
   "source": [
    "ROUTE_TYPOLOGIES_FILE = GTFS_DATA_DICT.schedule_tables.route_typologies"
   ]
  },
  {
   "cell_type": "code",
   "execution_count": 13,
   "id": "b5abad8d-0059-4819-aa41-a72220f3aa63",
   "metadata": {
    "tags": []
   },
   "outputs": [],
   "source": [
    "route_typology_paths = [\n",
    "    f\"{SCHED_GCS}{ROUTE_TYPOLOGIES_FILE}\" for year in rt_dates.years_available\n",
    "]"
   ]
  },
  {
   "cell_type": "code",
   "execution_count": 14,
   "id": "1d55dedc-b31b-4340-bd12-1340e36e9e84",
   "metadata": {
    "tags": []
   },
   "outputs": [
    {
     "data": {
      "text/plain": [
       "[2023, 2024, 2025]"
      ]
     },
     "execution_count": 14,
     "metadata": {},
     "output_type": "execute_result"
    }
   ],
   "source": [
    "rt_dates.years_available"
   ]
  },
  {
   "cell_type": "code",
   "execution_count": 15,
   "id": "423adb23-4697-4bcf-b036-3b5c3d823fce",
   "metadata": {
    "tags": []
   },
   "outputs": [
    {
     "data": {
      "text/plain": [
       "['gs://calitp-analytics-data/data-analyses/gtfs_schedule/nacto_typologies/route_typologies',\n",
       " 'gs://calitp-analytics-data/data-analyses/gtfs_schedule/nacto_typologies/route_typologies',\n",
       " 'gs://calitp-analytics-data/data-analyses/gtfs_schedule/nacto_typologies/route_typologies']"
      ]
     },
     "execution_count": 15,
     "metadata": {},
     "output_type": "execute_result"
    }
   ],
   "source": [
    "route_typology_paths"
   ]
  },
  {
   "cell_type": "code",
   "execution_count": 16,
   "id": "5b8203c3-d6a5-4eab-a942-22cc372e9260",
   "metadata": {
    "tags": []
   },
   "outputs": [],
   "source": [
    "route_typology_df = dask_utils.get_ddf(\n",
    "    route_typology_paths,\n",
    "    rt_dates.years_available,\n",
    "    data_type=\"df\",\n",
    "    get_pandas=True,\n",
    "    columns=[\n",
    "        \"name\",\n",
    "        \"route_id\",\n",
    "        # \"route_type\",\n",
    "        \"schedule_gtfs_dataset_key\",\n",
    "        \"is_express\",\n",
    "        \"is_ferry\",\n",
    "        \"is_rail\",\n",
    "        \"is_coverage\",\n",
    "        \"is_local\",\n",
    "        \"is_downtown_local\",\n",
    "        \"is_rapid\",\n",
    "    ],\n",
    "    add_date=False,\n",
    "    add_year=True,\n",
    ")"
   ]
  },
  {
   "cell_type": "code",
   "execution_count": 17,
   "id": "3bfcad16-28f6-4a39-a9d0-6c006ca6c490",
   "metadata": {
    "tags": []
   },
   "outputs": [
    {
     "data": {
      "text/html": [
       "<div>\n",
       "<style scoped>\n",
       "    .dataframe tbody tr th:only-of-type {\n",
       "        vertical-align: middle;\n",
       "    }\n",
       "\n",
       "    .dataframe tbody tr th {\n",
       "        vertical-align: top;\n",
       "    }\n",
       "\n",
       "    .dataframe thead th {\n",
       "        text-align: right;\n",
       "    }\n",
       "</style>\n",
       "<table border=\"1\" class=\"dataframe\">\n",
       "  <thead>\n",
       "    <tr style=\"text-align: right;\">\n",
       "      <th></th>\n",
       "      <th>name</th>\n",
       "      <th>route_id</th>\n",
       "      <th>schedule_gtfs_dataset_key</th>\n",
       "      <th>is_express</th>\n",
       "      <th>is_ferry</th>\n",
       "      <th>is_rail</th>\n",
       "      <th>is_coverage</th>\n",
       "      <th>is_local</th>\n",
       "      <th>is_downtown_local</th>\n",
       "      <th>is_rapid</th>\n",
       "      <th>year</th>\n",
       "    </tr>\n",
       "  </thead>\n",
       "  <tbody>\n",
       "    <tr>\n",
       "      <th>0</th>\n",
       "      <td>TCRTA TripShot Schedule</td>\n",
       "      <td>0177a66b-9f33-407d-a72e-776429fb73d4</td>\n",
       "      <td>0139b1253130b33adcd4b3a4490530d2</td>\n",
       "      <td>0</td>\n",
       "      <td>0</td>\n",
       "      <td>0</td>\n",
       "      <td>1</td>\n",
       "      <td>0</td>\n",
       "      <td>0</td>\n",
       "      <td>1</td>\n",
       "      <td>2023</td>\n",
       "    </tr>\n",
       "    <tr>\n",
       "      <th>1</th>\n",
       "      <td>TCRTA TripShot Schedule</td>\n",
       "      <td>0ad6c6aa-1939-45a0-a3a8-02ebe8e19092</td>\n",
       "      <td>0139b1253130b33adcd4b3a4490530d2</td>\n",
       "      <td>0</td>\n",
       "      <td>0</td>\n",
       "      <td>0</td>\n",
       "      <td>1</td>\n",
       "      <td>0</td>\n",
       "      <td>0</td>\n",
       "      <td>1</td>\n",
       "      <td>2023</td>\n",
       "    </tr>\n",
       "  </tbody>\n",
       "</table>\n",
       "</div>"
      ],
      "text/plain": [
       "                      name                              route_id  \\\n",
       "0  TCRTA TripShot Schedule  0177a66b-9f33-407d-a72e-776429fb73d4   \n",
       "1  TCRTA TripShot Schedule  0ad6c6aa-1939-45a0-a3a8-02ebe8e19092   \n",
       "\n",
       "          schedule_gtfs_dataset_key  is_express  is_ferry  is_rail  \\\n",
       "0  0139b1253130b33adcd4b3a4490530d2           0         0        0   \n",
       "1  0139b1253130b33adcd4b3a4490530d2           0         0        0   \n",
       "\n",
       "   is_coverage  is_local  is_downtown_local  is_rapid  year  \n",
       "0            1         0                  0         1  2023  \n",
       "1            1         0                  0         1  2023  "
      ]
     },
     "execution_count": 17,
     "metadata": {},
     "output_type": "execute_result"
    }
   ],
   "source": [
    "route_typology_df.head(2)"
   ]
  },
  {
   "cell_type": "code",
   "execution_count": 18,
   "id": "ded3858b-fee8-404e-bccf-201e8b0e40b3",
   "metadata": {
    "tags": []
   },
   "outputs": [
    {
     "data": {
      "text/plain": [
       "Index(['name', 'route_id', 'schedule_gtfs_dataset_key', 'is_express',\n",
       "       'is_ferry', 'is_rail', 'is_coverage', 'is_local', 'is_downtown_local',\n",
       "       'is_rapid', 'year'],\n",
       "      dtype='object')"
      ]
     },
     "execution_count": 18,
     "metadata": {},
     "output_type": "execute_result"
    }
   ],
   "source": [
    "route_typology_df.columns"
   ]
  },
  {
   "cell_type": "code",
   "execution_count": 19,
   "id": "cc370a6f-1568-4cc8-8e7e-1a3a64adc6bc",
   "metadata": {
    "tags": []
   },
   "outputs": [
    {
     "data": {
      "text/plain": [
       "12353"
      ]
     },
     "execution_count": 19,
     "metadata": {},
     "output_type": "execute_result"
    }
   ],
   "source": [
    "len(route_typology_df)"
   ]
  },
  {
   "cell_type": "markdown",
   "id": "56c73c5b-d096-4407-84af-8a74c8d9bfd2",
   "metadata": {},
   "source": [
    "* Need to drop duplicates for `route_typology_df` for routes that do appear repeatedly over the years."
   ]
  },
  {
   "cell_type": "code",
   "execution_count": 20,
   "id": "f45ebc52-fca7-4c57-a748-827fbf0d05b2",
   "metadata": {
    "tags": []
   },
   "outputs": [],
   "source": [
    "route_typology_df2 = route_typology_df.sort_values(\n",
    "    by=[\"year\"], ascending=False\n",
    ").drop_duplicates(\n",
    "    subset=[\n",
    "        \"name\",\n",
    "        \"route_id\",\n",
    "        # \"route_type\",\n",
    "        \"schedule_gtfs_dataset_key\",\n",
    "        \"is_express\",\n",
    "        \"is_ferry\",\n",
    "        \"is_rail\",\n",
    "        \"is_coverage\",\n",
    "        \"is_local\",\n",
    "        \"is_downtown_local\",\n",
    "        \"is_rapid\",\n",
    "    ]\n",
    ")"
   ]
  },
  {
   "cell_type": "code",
   "execution_count": 21,
   "id": "23c4aed6-3c86-49d9-9ba1-ffcf5a73a59d",
   "metadata": {
    "tags": []
   },
   "outputs": [
    {
     "data": {
      "text/plain": [
       "2023    3195\n",
       "2025    3000\n",
       "2024    1911\n",
       "Name: year, dtype: int64"
      ]
     },
     "execution_count": 21,
     "metadata": {},
     "output_type": "execute_result"
    }
   ],
   "source": [
    "route_typology_df2.year.value_counts()"
   ]
  },
  {
   "cell_type": "code",
   "execution_count": 22,
   "id": "8d023aca-e39b-489e-84b0-17f45116220c",
   "metadata": {
    "tags": []
   },
   "outputs": [
    {
     "data": {
      "text/plain": [
       "8106"
      ]
     },
     "execution_count": 22,
     "metadata": {},
     "output_type": "execute_result"
    }
   ],
   "source": [
    "len(route_typology_df2)"
   ]
  },
  {
   "cell_type": "markdown",
   "id": "d9cec21e-711c-48f7-8a43-035a76b33e30",
   "metadata": {},
   "source": [
    "## Step 2: Patch missing data (remove `standardize org name`) function"
   ]
  },
  {
   "cell_type": "code",
   "execution_count": 23,
   "id": "997f231d-2806-47e5-b5af-8b0ee8249161",
   "metadata": {
    "tags": []
   },
   "outputs": [],
   "source": [
    "trips = helpers.import_scheduled_trips(analysis_date, get_pandas=True).dropna(\n",
    "    subset=\"shape_array_key\"\n",
    ")"
   ]
  },
  {
   "cell_type": "code",
   "execution_count": 24,
   "id": "10559d8e-f4a3-4677-8cac-57c177a22095",
   "metadata": {
    "tags": []
   },
   "outputs": [
    {
     "data": {
      "text/plain": [
       "Index(['schedule_gtfs_dataset_key', 'name', 'trip_id', 'shape_id',\n",
       "       'shape_array_key', 'route_id', 'route_key', 'direction_id',\n",
       "       'route_short_name'],\n",
       "      dtype='object')"
      ]
     },
     "execution_count": 24,
     "metadata": {},
     "output_type": "execute_result"
    }
   ],
   "source": [
    "trips.columns"
   ]
  },
  {
   "cell_type": "code",
   "execution_count": 25,
   "id": "c09ca700-3a49-4101-8304-f776c38082ec",
   "metadata": {
    "tags": []
   },
   "outputs": [],
   "source": [
    "def create_routes_file_for_export(date: str) -> gpd.GeoDataFrame:\n",
    "    \"\"\"\n",
    "    Create a shapes (with associated route info) file for export.\n",
    "    This allows users to plot the various shapes,\n",
    "    transit path options, and select between variations for\n",
    "    a given route.\n",
    "    \"\"\"\n",
    "    # Read in local parquets\n",
    "    trips = helpers.import_scheduled_trips(\n",
    "        date,\n",
    "        columns=[\n",
    "            \"name\",\n",
    "            \"gtfs_dataset_key\",\n",
    "            \"route_id\",\n",
    "            \"route_type\",\n",
    "            \"shape_id\",\n",
    "            \"shape_array_key\",\n",
    "            \"route_long_name\",\n",
    "            \"route_short_name\",\n",
    "            \"route_desc\",\n",
    "        ],\n",
    "        get_pandas=True,\n",
    "    ).dropna(subset=\"shape_array_key\")\n",
    "\n",
    "    shapes = helpers.import_scheduled_shapes(\n",
    "        date,\n",
    "        columns=[\"shape_array_key\", \"n_trips\", \"geometry\"],\n",
    "        get_pandas=True,\n",
    "        crs=geography_utils.WGS84,\n",
    "    ).dropna(subset=\"shape_array_key\")\n",
    "\n",
    "    df = (\n",
    "        pd.merge(shapes, trips, on=\"shape_array_key\", how=\"inner\")\n",
    "        .drop_duplicates(subset=\"shape_array_key\")\n",
    "        .drop(columns=\"shape_array_key\")\n",
    "    )\n",
    "\n",
    "    drop_cols = [\"route_short_name\", \"route_long_name\", \"route_desc\"]\n",
    "    route_shape_cols = [\"schedule_gtfs_dataset_key\", \"route_id\", \"shape_id\"]\n",
    "\n",
    "    routes_assembled = (\n",
    "        portfolio_utils.add_route_name(df)\n",
    "        .drop(columns=drop_cols)\n",
    "        .sort_values(route_shape_cols)\n",
    "        .drop_duplicates(subset=route_shape_cols)\n",
    "        .reset_index(drop=True)\n",
    "    )\n",
    "\n",
    "    routes_assembled = routes_assembled.assign(\n",
    "        route_length_feet=routes_assembled.geometry.to_crs(\n",
    "            geography_utils.CA_NAD83Albers_ft\n",
    "        ).length\n",
    "    )\n",
    "    return routes_assembled"
   ]
  },
  {
   "cell_type": "code",
   "execution_count": 26,
   "id": "0e7a63aa-9eaa-485b-bec2-f3e58fb8e39d",
   "metadata": {
    "tags": []
   },
   "outputs": [],
   "source": [
    "routes = create_routes_file_for_export(analysis_date)"
   ]
  },
  {
   "cell_type": "code",
   "execution_count": 27,
   "id": "49442166-684f-4686-baf2-c6e06354869f",
   "metadata": {
    "tags": []
   },
   "outputs": [],
   "source": [
    "def patch_previous_dates(\n",
    "    current_routes: gpd.GeoDataFrame,\n",
    "    current_date: str,\n",
    "    published_operators_yaml: str = \"../gtfs_funnel/published_operators.yml\",\n",
    ") -> gpd.GeoDataFrame:\n",
    "    \"\"\"\n",
    "    Compare to the yaml for what operators we want, and\n",
    "    patch in previous dates for the 10 or so operators\n",
    "    that do not have data for this current date.\n",
    "    \"\"\"\n",
    "    # Read in the published operators file\n",
    "    with open(published_operators_yaml) as f:\n",
    "        published_operators_dict = yaml.safe_load(f)\n",
    "\n",
    "    # Convert the published operators file into a dict mapping dates to an iterable of operators\n",
    "    patch_operators_dict = {\n",
    "        str(date): operator_list\n",
    "        for date, operator_list in published_operators_dict.items()\n",
    "        if str(date)\n",
    "        != current_date  # Exclude the current (analysis) date, since that does not need to be patched\n",
    "    }\n",
    "\n",
    "    partial_dfs = []\n",
    "\n",
    "    # For each date and corresponding iterable of operators, get the data from the last time they appeared\n",
    "    for one_date, operator_list in patch_operators_dict.items():\n",
    "        df_to_add = publish_utils.subset_table_from_previous_date(\n",
    "            gcs_bucket=TRAFFIC_OPS_GCS,\n",
    "            filename=f\"ca_transit_routes\",\n",
    "            operator_and_dates_dict=patch_operators_dict,\n",
    "            date=one_date,\n",
    "            crosswalk_col=\"schedule_gtfs_dataset_key\",\n",
    "            data_type=\"gdf\",\n",
    "        )\n",
    "\n",
    "        partial_dfs.append(df_to_add)\n",
    "\n",
    "    patch_routes = pd.concat(partial_dfs, axis=0, ignore_index=True)\n",
    "\n",
    "    # Concat the current data to the \"backfill\" data\n",
    "    published_routes = pd.concat(\n",
    "        [current_routes, patch_routes], axis=0, ignore_index=True\n",
    "    )\n",
    "\n",
    "    return published_routes"
   ]
  },
  {
   "cell_type": "code",
   "execution_count": 28,
   "id": "710f12e9-ce3c-444e-b676-69fb956a7bfa",
   "metadata": {
    "tags": []
   },
   "outputs": [
    {
     "data": {
      "text/html": [
       "<div>\n",
       "<style scoped>\n",
       "    .dataframe tbody tr th:only-of-type {\n",
       "        vertical-align: middle;\n",
       "    }\n",
       "\n",
       "    .dataframe tbody tr th {\n",
       "        vertical-align: top;\n",
       "    }\n",
       "\n",
       "    .dataframe thead th {\n",
       "        text-align: right;\n",
       "    }\n",
       "</style>\n",
       "<table border=\"1\" class=\"dataframe\">\n",
       "  <thead>\n",
       "    <tr style=\"text-align: right;\">\n",
       "      <th></th>\n",
       "      <th>n_trips</th>\n",
       "      <th>name</th>\n",
       "      <th>schedule_gtfs_dataset_key</th>\n",
       "      <th>route_id</th>\n",
       "      <th>route_type</th>\n",
       "      <th>shape_id</th>\n",
       "      <th>route_name_used</th>\n",
       "      <th>route_length_feet</th>\n",
       "    </tr>\n",
       "  </thead>\n",
       "  <tbody>\n",
       "    <tr>\n",
       "      <th>6179</th>\n",
       "      <td>15</td>\n",
       "      <td>Foothill Schedule</td>\n",
       "      <td>f74424acf8c41e4c1e9fd42838c4875c</td>\n",
       "      <td>195</td>\n",
       "      <td>3</td>\n",
       "      <td>14404_shp</td>\n",
       "      <td>195</td>\n",
       "      <td>54509.81</td>\n",
       "    </tr>\n",
       "  </tbody>\n",
       "</table>\n",
       "</div>"
      ],
      "text/plain": [
       "      n_trips               name         schedule_gtfs_dataset_key route_id  \\\n",
       "6179       15  Foothill Schedule  f74424acf8c41e4c1e9fd42838c4875c      195   \n",
       "\n",
       "     route_type   shape_id route_name_used  route_length_feet  \n",
       "6179          3  14404_shp             195           54509.81  "
      ]
     },
     "execution_count": 28,
     "metadata": {},
     "output_type": "execute_result"
    }
   ],
   "source": [
    "routes.sample().drop(columns=[\"geometry\"])"
   ]
  },
  {
   "cell_type": "code",
   "execution_count": 29,
   "id": "0f53edc8-a918-436a-b6dd-962afa7dd237",
   "metadata": {
    "tags": []
   },
   "outputs": [
    {
     "data": {
      "text/plain": [
       "6616"
      ]
     },
     "execution_count": 29,
     "metadata": {},
     "output_type": "execute_result"
    }
   ],
   "source": [
    "len(routes)"
   ]
  },
  {
   "cell_type": "code",
   "execution_count": 30,
   "id": "2b619db5-bb6c-438e-8b49-2e81a515e340",
   "metadata": {
    "tags": []
   },
   "outputs": [],
   "source": [
    "published_routes = patch_previous_dates(\n",
    "    routes,\n",
    "    analysis_date,\n",
    ")"
   ]
  },
  {
   "cell_type": "code",
   "execution_count": 31,
   "id": "b2262232-3839-4485-a3b3-8cc1113c8c73",
   "metadata": {
    "tags": []
   },
   "outputs": [
    {
     "data": {
      "text/plain": [
       "7442"
      ]
     },
     "execution_count": 31,
     "metadata": {},
     "output_type": "execute_result"
    }
   ],
   "source": [
    "len(published_routes)"
   ]
  },
  {
   "cell_type": "markdown",
   "id": "defc7d74-c827-4b8f-9566-9c89c1272646",
   "metadata": {},
   "source": [
    "## Step 3: Merge `route_typologies` with `open_data`"
   ]
  },
  {
   "cell_type": "code",
   "execution_count": 32,
   "id": "7b614001-f21e-424a-ba5e-59d319f317f8",
   "metadata": {
    "tags": []
   },
   "outputs": [],
   "source": [
    "m1 = pd.merge(\n",
    "    published_routes,\n",
    "    route_typology_df2,\n",
    "    on=[\"name\", \"route_id\", \"schedule_gtfs_dataset_key\"],\n",
    "    how=\"left\",\n",
    "    indicator=True,\n",
    ")"
   ]
  },
  {
   "cell_type": "code",
   "execution_count": 33,
   "id": "9496e794-a05b-41c8-b3c6-7c17d49e2ffc",
   "metadata": {
    "tags": []
   },
   "outputs": [
    {
     "data": {
      "text/plain": [
       "both          6344\n",
       "left_only     2114\n",
       "right_only       0\n",
       "Name: _merge, dtype: int64"
      ]
     },
     "execution_count": 33,
     "metadata": {},
     "output_type": "execute_result"
    }
   ],
   "source": [
    "m1._merge.value_counts()"
   ]
  },
  {
   "cell_type": "code",
   "execution_count": 34,
   "id": "3e331962-efe6-4de9-937d-2fe283631948",
   "metadata": {
    "tags": []
   },
   "outputs": [
    {
     "data": {
      "text/plain": [
       "1016"
      ]
     },
     "execution_count": 34,
     "metadata": {},
     "output_type": "execute_result"
    }
   ],
   "source": [
    "len(m1) - len(published_routes)"
   ]
  },
  {
   "cell_type": "code",
   "execution_count": 35,
   "id": "5b53e4b4-e468-4e79-8ea7-55d8d34d32b2",
   "metadata": {
    "tags": []
   },
   "outputs": [],
   "source": [
    "m2 = pd.merge(\n",
    "    published_routes,\n",
    "    route_typology_df2,\n",
    "    on=[\"name\", \"route_id\"],\n",
    "    how=\"left\",\n",
    "    indicator=True,\n",
    ")"
   ]
  },
  {
   "cell_type": "code",
   "execution_count": 36,
   "id": "d7cb17bc-159f-412c-b0ab-ccb23620c970",
   "metadata": {
    "tags": []
   },
   "outputs": [
    {
     "data": {
      "text/plain": [
       "both          13259\n",
       "left_only       923\n",
       "right_only        0\n",
       "Name: _merge, dtype: int64"
      ]
     },
     "execution_count": 36,
     "metadata": {},
     "output_type": "execute_result"
    }
   ],
   "source": [
    "m2._merge.value_counts()"
   ]
  },
  {
   "cell_type": "markdown",
   "id": "c99d1703-969a-42cd-9197-244bd0ccaacb",
   "metadata": {},
   "source": [
    "* Adding `route_type` doesn't really improve things."
   ]
  },
  {
   "cell_type": "markdown",
   "id": "f593d91f-7b41-49e5-bca1-c36a7aa5c34d",
   "metadata": {},
   "source": [
    "## Step 4: Add in SHN \n",
    "* Keep only the `shape_id` with the longest length"
   ]
  },
  {
   "cell_type": "code",
   "execution_count": 37,
   "id": "ff17e927-0bba-4ad2-bb14-06574d921903",
   "metadata": {
    "tags": []
   },
   "outputs": [
    {
     "data": {
      "text/plain": [
       "Index(['n_trips', 'geometry', 'name', 'schedule_gtfs_dataset_key', 'route_id',\n",
       "       'route_type', 'shape_id', 'route_name_used', 'route_length_feet',\n",
       "       'base64_url', 'organization_source_record_id', 'organization_name',\n",
       "       'caltrans_district', 'is_express', 'is_ferry', 'is_rail', 'is_coverage',\n",
       "       'is_local', 'is_downtown_local', 'is_rapid', 'year', '_merge'],\n",
       "      dtype='object')"
      ]
     },
     "execution_count": 37,
     "metadata": {},
     "output_type": "execute_result"
    }
   ],
   "source": [
    "m1.columns"
   ]
  },
  {
   "cell_type": "code",
   "execution_count": 38,
   "id": "4167de35-22d4-4bd0-889b-036912d4519c",
   "metadata": {
    "tags": []
   },
   "outputs": [],
   "source": [
    "longest_shape = m1.sort_values(\n",
    "    by=[\"name\", \"route_id\", \"route_length_feet\"], ascending=[True, True, False]\n",
    ")[[\"name\", \"route_id\", \"route_length_feet\", \"geometry\"]].drop_duplicates(\n",
    "    subset=[\"name\", \"route_id\"]\n",
    ")"
   ]
  },
  {
   "cell_type": "code",
   "execution_count": 39,
   "id": "e1984bd6-af7c-499a-8232-f1b07e0995c0",
   "metadata": {
    "tags": []
   },
   "outputs": [
    {
     "data": {
      "text/plain": [
       "2661"
      ]
     },
     "execution_count": 39,
     "metadata": {},
     "output_type": "execute_result"
    }
   ],
   "source": [
    "len(longest_shape)"
   ]
  },
  {
   "cell_type": "code",
   "execution_count": 54,
   "id": "fcbf36cb-cd21-4074-a101-29c5c6b09068",
   "metadata": {
    "tags": []
   },
   "outputs": [],
   "source": [
    "def routes_shn_intersection(\n",
    "    routes_gdf: gpd.GeoDataFrame, buffer_amount: int\n",
    ") -> gpd.GeoDataFrame:\n",
    "    \"\"\"\n",
    "    Overlay the most recent transit routes with a buffered version\n",
    "    of the SHN\n",
    "    \"\"\"\n",
    "    GCS_FILE_PATH = \"gs://calitp-analytics-data/data-analyses/shared_data/\"\n",
    "\n",
    "    # Read in buffered shn here or re buffer if we don't have it available.\n",
    "    HWY_FILE = f\"{GCS_FILE_PATH}shn_buffered_{buffer_amount}_ft_shn_dissolved_by_ct_district_route.parquet\"\n",
    "\n",
    "    if fs.exists(HWY_FILE):\n",
    "        shn_routes_gdf = gpd.read_parquet(\n",
    "            HWY_FILE, storage_options={\"token\": credentials.token}\n",
    "        )\n",
    "    else:\n",
    "        shn_routes_gdf = shared_data.buffer_shn(buffer_amount)\n",
    "\n",
    "    # Process the most recent transit route geographies and ensure the\n",
    "    # CRS matches the SHN routes' GDF so the overlay doesn't go wonky.\n",
    "    routes_gdf = routes_gdf.to_crs(shn_routes_gdf.crs)\n",
    "\n",
    "    # Overlay transit routes with the SHN geographies.\n",
    "    gdf = gpd.overlay(\n",
    "        routes_gdf, shn_routes_gdf, how=\"intersection\", keep_geom_type=True\n",
    "    )\n",
    "\n",
    "    # Calcuate the percent of the transit route that runs on a highway, round it up and\n",
    "    # multiply it by 100. Drop the geometry because we want the original transit route\n",
    "    # shapes.\n",
    "    gdf = gdf.assign(\n",
    "        pct_route_on_hwy=(gdf.geometry.length / gdf.route_length_feet).round(3) * 100,\n",
    "    )\n",
    "    # Subset\n",
    "    gdf2 = gdf[\n",
    "        [\n",
    "            \"name\",\n",
    "            \"pct_route_on_hwy\",\n",
    "            \"route_id\",\n",
    "            \"shape_id\", # maybe comment out later\n",
    "            \"district\",\n",
    "            \"shn_route\",\n",
    "        ]\n",
    "    ]\n",
    "\n",
    "    # Clean up\n",
    "    gdf2.district = gdf2.district.fillna(0).astype(int)\n",
    "\n",
    "    gdf2 = gdf2.rename(\n",
    "        columns={\n",
    "            \"pct_route_on_hwy\": \"pct_route_on_hwy_across_districts\",\n",
    "            \"district\": \"shn_districts\",\n",
    "        }\n",
    "    )\n",
    "    return gdf2"
   ]
  },
  {
   "cell_type": "code",
   "execution_count": 56,
   "id": "f1aa589d-078d-4472-87f0-8a5e21dc5300",
   "metadata": {
    "tags": []
   },
   "outputs": [
    {
     "name": "stderr",
     "output_type": "stream",
     "text": [
      "/tmp/ipykernel_565/3546707445.py:48: SettingWithCopyWarning: \n",
      "A value is trying to be set on a copy of a slice from a DataFrame.\n",
      "Try using .loc[row_indexer,col_indexer] = value instead\n",
      "\n",
      "See the caveats in the documentation: https://pandas.pydata.org/pandas-docs/stable/user_guide/indexing.html#returning-a-view-versus-a-copy\n",
      "  gdf2.district = gdf2.district.fillna(0).astype(int)\n"
     ]
    }
   ],
   "source": [
    "shn_routes = routes_shn_intersection(m1, 50)"
   ]
  },
  {
   "cell_type": "code",
   "execution_count": 57,
   "id": "686b77de-dc4d-4f4c-88e7-b713e72fdd2a",
   "metadata": {
    "tags": []
   },
   "outputs": [
    {
     "data": {
      "text/html": [
       "<div>\n",
       "<style scoped>\n",
       "    .dataframe tbody tr th:only-of-type {\n",
       "        vertical-align: middle;\n",
       "    }\n",
       "\n",
       "    .dataframe tbody tr th {\n",
       "        vertical-align: top;\n",
       "    }\n",
       "\n",
       "    .dataframe thead th {\n",
       "        text-align: right;\n",
       "    }\n",
       "</style>\n",
       "<table border=\"1\" class=\"dataframe\">\n",
       "  <thead>\n",
       "    <tr style=\"text-align: right;\">\n",
       "      <th></th>\n",
       "      <th>name</th>\n",
       "      <th>pct_route_on_hwy_across_districts</th>\n",
       "      <th>route_id</th>\n",
       "      <th>shape_id</th>\n",
       "      <th>shn_districts</th>\n",
       "      <th>shn_route</th>\n",
       "    </tr>\n",
       "  </thead>\n",
       "  <tbody>\n",
       "    <tr>\n",
       "      <th>7151</th>\n",
       "      <td>Big Blue Bus Schedule</td>\n",
       "      <td>0.20</td>\n",
       "      <td>16</td>\n",
       "      <td>shp-016-51</td>\n",
       "      <td>7</td>\n",
       "      <td>2</td>\n",
       "    </tr>\n",
       "    <tr>\n",
       "      <th>5275</th>\n",
       "      <td>LA Metro Bus Schedule</td>\n",
       "      <td>0.20</td>\n",
       "      <td>236-13188</td>\n",
       "      <td>2360136_JUNE25</td>\n",
       "      <td>7</td>\n",
       "      <td>5</td>\n",
       "    </tr>\n",
       "    <tr>\n",
       "      <th>995</th>\n",
       "      <td>Bay Area 511 Muni Schedule</td>\n",
       "      <td>0.70</td>\n",
       "      <td>12</td>\n",
       "      <td>1256</td>\n",
       "      <td>4</td>\n",
       "      <td>101</td>\n",
       "    </tr>\n",
       "    <tr>\n",
       "      <th>14345</th>\n",
       "      <td>Flixbus Schedule</td>\n",
       "      <td>0.00</td>\n",
       "      <td>2017</td>\n",
       "      <td>cea2d568e77875df73d3b78b6c496ee3</td>\n",
       "      <td>12</td>\n",
       "      <td>1</td>\n",
       "    </tr>\n",
       "    <tr>\n",
       "      <th>15242</th>\n",
       "      <td>San Diego Schedule</td>\n",
       "      <td>0.50</td>\n",
       "      <td>7</td>\n",
       "      <td>S2_7_0_277</td>\n",
       "      <td>11</td>\n",
       "      <td>805</td>\n",
       "    </tr>\n",
       "  </tbody>\n",
       "</table>\n",
       "</div>"
      ],
      "text/plain": [
       "                             name  pct_route_on_hwy_across_districts  \\\n",
       "7151        Big Blue Bus Schedule                               0.20   \n",
       "5275        LA Metro Bus Schedule                               0.20   \n",
       "995    Bay Area 511 Muni Schedule                               0.70   \n",
       "14345            Flixbus Schedule                               0.00   \n",
       "15242          San Diego Schedule                               0.50   \n",
       "\n",
       "        route_id                          shape_id  shn_districts shn_route  \n",
       "7151          16                        shp-016-51              7         2  \n",
       "5275   236-13188                    2360136_JUNE25              7         5  \n",
       "995           12                              1256              4       101  \n",
       "14345       2017  cea2d568e77875df73d3b78b6c496ee3             12         1  \n",
       "15242          7                        S2_7_0_277             11       805  "
      ]
     },
     "execution_count": 57,
     "metadata": {},
     "output_type": "execute_result"
    }
   ],
   "source": [
    "shn_routes.sample(5)"
   ]
  },
  {
   "cell_type": "code",
   "execution_count": 58,
   "id": "7d32eb36-cb09-416e-a3e9-70a1185e2d1f",
   "metadata": {
    "tags": []
   },
   "outputs": [
    {
     "data": {
      "text/plain": [
       "count   19950.00\n",
       "mean        6.73\n",
       "std        16.01\n",
       "min         0.00\n",
       "25%         0.10\n",
       "50%         0.40\n",
       "75%         2.70\n",
       "max        99.20\n",
       "Name: pct_route_on_hwy_across_districts, dtype: float64"
      ]
     },
     "execution_count": 58,
     "metadata": {},
     "output_type": "execute_result"
    }
   ],
   "source": [
    "shn_routes.pct_route_on_hwy_across_districts.describe()"
   ]
  },
  {
   "cell_type": "code",
   "execution_count": 59,
   "id": "a10cfe73-0fac-4c42-8465-8ca9cb45d8af",
   "metadata": {
    "tags": []
   },
   "outputs": [],
   "source": [
    "def group_route_district(df: pd.DataFrame, pct_route_on_hwy_agg: str) -> pd.DataFrame:\n",
    "    \"\"\"\n",
    "    Aggregate by adding all the districts and SHN to a single row, rather than\n",
    "    multiple and sum up the total % of SHN a transit route intersects with.\n",
    "\n",
    "    df: the dataframe you want to aggregate\n",
    "    pct_route_on_hwy_agg: whether you want to find the max, min, sum, etc on the column\n",
    "    \"pct_route_on_hwy_across_districts\"\n",
    "    \"\"\"\n",
    "\n",
    "    agg1 = (\n",
    "        df.groupby(\n",
    "            [\n",
    "                \"name\",\n",
    "                \"route_id\",\n",
    "                \"shape_id\" # maybe comment out later\n",
    "            ],\n",
    "            as_index=False,\n",
    "        )[[\"shn_route\", \"shn_districts\", \"pct_route_on_hwy_across_districts\"]]\n",
    "        .agg(\n",
    "            {\n",
    "                \"shn_route\": lambda x: \", \".join(set(x.astype(str))),\n",
    "                \"shn_districts\": lambda x: \", \".join(set(x.astype(str))),\n",
    "                \"pct_route_on_hwy_across_districts\": pct_route_on_hwy_agg,\n",
    "            }\n",
    "        )\n",
    "        .reset_index(drop=True)\n",
    "    )\n",
    "\n",
    "    # Clean up\n",
    "    agg1.pct_route_on_hwy_across_districts = (\n",
    "        agg1.pct_route_on_hwy_across_districts.astype(float).round(2)\n",
    "    )\n",
    "\n",
    "    return agg1"
   ]
  },
  {
   "cell_type": "code",
   "execution_count": 60,
   "id": "249a3728-e3f9-4b3b-a199-64be83b1c4da",
   "metadata": {
    "tags": []
   },
   "outputs": [],
   "source": [
    "grouped = group_route_district(shn_routes, \"sum\")"
   ]
  },
  {
   "cell_type": "code",
   "execution_count": 61,
   "id": "27788cb4-ef5e-4c63-81b3-da2c380f9066",
   "metadata": {
    "tags": []
   },
   "outputs": [
    {
     "data": {
      "text/html": [
       "<div>\n",
       "<style scoped>\n",
       "    .dataframe tbody tr th:only-of-type {\n",
       "        vertical-align: middle;\n",
       "    }\n",
       "\n",
       "    .dataframe tbody tr th {\n",
       "        vertical-align: top;\n",
       "    }\n",
       "\n",
       "    .dataframe thead th {\n",
       "        text-align: right;\n",
       "    }\n",
       "</style>\n",
       "<table border=\"1\" class=\"dataframe\">\n",
       "  <thead>\n",
       "    <tr style=\"text-align: right;\">\n",
       "      <th></th>\n",
       "      <th>name</th>\n",
       "      <th>route_id</th>\n",
       "      <th>shape_id</th>\n",
       "      <th>shn_route</th>\n",
       "      <th>shn_districts</th>\n",
       "      <th>pct_route_on_hwy_across_districts</th>\n",
       "    </tr>\n",
       "  </thead>\n",
       "  <tbody>\n",
       "    <tr>\n",
       "      <th>4313</th>\n",
       "      <td>SBMTD Schedule</td>\n",
       "      <td>5</td>\n",
       "      <td>shp-5-55</td>\n",
       "      <td>101</td>\n",
       "      <td>5</td>\n",
       "      <td>0.50</td>\n",
       "    </tr>\n",
       "    <tr>\n",
       "      <th>4348</th>\n",
       "      <td>SLORTA Schedule</td>\n",
       "      <td>21</td>\n",
       "      <td>9</td>\n",
       "      <td>101, 1</td>\n",
       "      <td>5</td>\n",
       "      <td>33.70</td>\n",
       "    </tr>\n",
       "    <tr>\n",
       "      <th>2833</th>\n",
       "      <td>LA Metro Bus Schedule</td>\n",
       "      <td>246-13188</td>\n",
       "      <td>2460082_JUNE25</td>\n",
       "      <td>110, 47, 405, 1</td>\n",
       "      <td>7</td>\n",
       "      <td>6.50</td>\n",
       "    </tr>\n",
       "    <tr>\n",
       "      <th>4299</th>\n",
       "      <td>SBMTD Schedule</td>\n",
       "      <td>25</td>\n",
       "      <td>shp-25-03</td>\n",
       "      <td>101</td>\n",
       "      <td>5</td>\n",
       "      <td>1.30</td>\n",
       "    </tr>\n",
       "    <tr>\n",
       "      <th>1653</th>\n",
       "      <td>Big Blue Bus Swiftly Schedule</td>\n",
       "      <td>3908</td>\n",
       "      <td>27519</td>\n",
       "      <td>405, 10, 1</td>\n",
       "      <td>7</td>\n",
       "      <td>1.20</td>\n",
       "    </tr>\n",
       "    <tr>\n",
       "      <th>3334</th>\n",
       "      <td>Madera Metro Schedule</td>\n",
       "      <td>76873</td>\n",
       "      <td>p_1436527</td>\n",
       "      <td>145, 99</td>\n",
       "      <td>6</td>\n",
       "      <td>0.00</td>\n",
       "    </tr>\n",
       "    <tr>\n",
       "      <th>5043</th>\n",
       "      <td>Stanford Schedule</td>\n",
       "      <td>3</td>\n",
       "      <td>3:4</td>\n",
       "      <td>82</td>\n",
       "      <td>4</td>\n",
       "      <td>17.60</td>\n",
       "    </tr>\n",
       "    <tr>\n",
       "      <th>457</th>\n",
       "      <td>Bay Area 511 Capitol Corridor Schedule</td>\n",
       "      <td>SF</td>\n",
       "      <td>ejnn</td>\n",
       "      <td>580, 80, 880</td>\n",
       "      <td>4</td>\n",
       "      <td>138.40</td>\n",
       "    </tr>\n",
       "    <tr>\n",
       "      <th>3554</th>\n",
       "      <td>Monterey Salinas Schedule</td>\n",
       "      <td>094</td>\n",
       "      <td>0940061</td>\n",
       "      <td>218, 68, 1</td>\n",
       "      <td>5</td>\n",
       "      <td>13.40</td>\n",
       "    </tr>\n",
       "    <tr>\n",
       "      <th>283</th>\n",
       "      <td>Bay Area 511 AC Transit Schedule</td>\n",
       "      <td>376</td>\n",
       "      <td>shp-376-51</td>\n",
       "      <td>123, 80</td>\n",
       "      <td>4</td>\n",
       "      <td>6.60</td>\n",
       "    </tr>\n",
       "  </tbody>\n",
       "</table>\n",
       "</div>"
      ],
      "text/plain": [
       "                                        name   route_id        shape_id  \\\n",
       "4313                          SBMTD Schedule          5        shp-5-55   \n",
       "4348                         SLORTA Schedule         21               9   \n",
       "2833                   LA Metro Bus Schedule  246-13188  2460082_JUNE25   \n",
       "4299                          SBMTD Schedule         25       shp-25-03   \n",
       "1653           Big Blue Bus Swiftly Schedule       3908           27519   \n",
       "3334                   Madera Metro Schedule      76873       p_1436527   \n",
       "5043                       Stanford Schedule          3             3:4   \n",
       "457   Bay Area 511 Capitol Corridor Schedule         SF            ejnn   \n",
       "3554               Monterey Salinas Schedule        094         0940061   \n",
       "283         Bay Area 511 AC Transit Schedule        376      shp-376-51   \n",
       "\n",
       "            shn_route shn_districts  pct_route_on_hwy_across_districts  \n",
       "4313              101             5                               0.50  \n",
       "4348           101, 1             5                              33.70  \n",
       "2833  110, 47, 405, 1             7                               6.50  \n",
       "4299              101             5                               1.30  \n",
       "1653       405, 10, 1             7                               1.20  \n",
       "3334          145, 99             6                               0.00  \n",
       "5043               82             4                              17.60  \n",
       "457      580, 80, 880             4                             138.40  \n",
       "3554       218, 68, 1             5                              13.40  \n",
       "283           123, 80             4                               6.60  "
      ]
     },
     "execution_count": 61,
     "metadata": {},
     "output_type": "execute_result"
    }
   ],
   "source": [
    "grouped.sample(10)"
   ]
  },
  {
   "cell_type": "code",
   "execution_count": 62,
   "id": "818d3997-8180-4ebe-acb5-0a800e91a3ca",
   "metadata": {
    "tags": []
   },
   "outputs": [
    {
     "data": {
      "text/plain": [
       "count   5679.00\n",
       "mean      23.63\n",
       "std       37.80\n",
       "min        0.00\n",
       "25%        0.80\n",
       "50%        2.60\n",
       "75%       37.35\n",
       "max      275.70\n",
       "Name: pct_route_on_hwy_across_districts, dtype: float64"
      ]
     },
     "execution_count": 62,
     "metadata": {},
     "output_type": "execute_result"
    }
   ],
   "source": [
    "grouped.pct_route_on_hwy_across_districts.describe()"
   ]
  },
  {
   "cell_type": "code",
   "execution_count": null,
   "id": "bc552614-844c-416a-a559-22d7418886d5",
   "metadata": {
    "tags": []
   },
   "outputs": [],
   "source": [
    "m1.columns"
   ]
  },
  {
   "cell_type": "code",
   "execution_count": null,
   "id": "dc952556-999f-4e3f-a91a-4e80632d6287",
   "metadata": {
    "tags": []
   },
   "outputs": [],
   "source": [
    "grouped.columns"
   ]
  },
  {
   "cell_type": "code",
   "execution_count": null,
   "id": "69357d49-b333-49cb-99a1-c488b28c71f8",
   "metadata": {
    "tags": []
   },
   "outputs": [],
   "source": [
    "len(grouped)"
   ]
  },
  {
   "cell_type": "code",
   "execution_count": null,
   "id": "5cee0fd0-7d7a-47f3-9381-0bad534998b8",
   "metadata": {
    "tags": []
   },
   "outputs": [],
   "source": [
    "# Merge back with the original dataframe\n",
    "shn_typology = pd.merge(m1, grouped, on=[\"route_id\", \"name\"], how=\"left\")"
   ]
  },
  {
   "cell_type": "code",
   "execution_count": null,
   "id": "4a3e50fb-09f6-4b3b-83bd-c71147f6daf3",
   "metadata": {},
   "outputs": [],
   "source": [
    "len(shn_typology), len(m1)"
   ]
  },
  {
   "cell_type": "code",
   "execution_count": null,
   "id": "4fad1a06-3170-468e-b24b-d1846ca745c8",
   "metadata": {
    "tags": []
   },
   "outputs": [],
   "source": [
    "def add_shn_information(gdf: gpd.GeoDataFrame, buffer_amt: int) -> pd.DataFrame:\n",
    "    \"\"\"\n",
    "    Prepare the gdf to join with the existing transit_routes\n",
    "    dataframe that is published on the Open Data Portal\n",
    "    \"\"\"\n",
    "    # Retain only the longest shape for each name-route_id combo\n",
    "    # so finding the intersection with SHN won't take as long\n",
    "    \"\"\"\n",
    "    longest_shape = gdf.sort_values(\n",
    "        by=[\"name\", \"route_id\", \"route_length_feet\"], ascending=[True, True, False]\n",
    "    )[[\"name\", \"route_id\", \"route_length_feet\", \"geometry\"]].drop_duplicates(\n",
    "        subset=[\"name\", \"route_id\"]\n",
    "    )\n",
    "    \"\"\"\n",
    "    # Overlay\n",
    "    intersecting = routes_shn_intersection(gdf, buffer_amt)\n",
    "    \n",
    "    # Group the dataframe so that one route only has one\n",
    "    # row instead of multiple rows after finding its\n",
    "    # intersection with any SHN routes.\n",
    "    # print(intersecting.columns)\n",
    "    agg1 = group_route_district(intersecting, \"sum\")\n",
    "\n",
    "    # Merge the dataframe with all the SHS info with the original\n",
    "    # gdf so we can get the original transit route geometries &\n",
    "    # any routes that don't intersect with the state highway routes.\n",
    "    m1 = pd.merge(gdf, agg1, on=[\"route_id\", \"name\"], how=\"left\")\n",
    "\n",
    "    # Add yes/no column to signify if a transit route intersects\n",
    "    # with a SHN route\n",
    "    m1[\"on_shs\"] = np.where(m1[\"pct_route_on_hwy_across_districts\"] == 0, \"N\", \"Y\")\n",
    "\n",
    "    # Clean up rows that are tagged as \"on_shs==N\" but still have values\n",
    "    # that appear.\n",
    "    m1.loc[\n",
    "       (m1[\"on_shs\"] == \"N\") & (m1[\"shn_districts\"] != \"0\"),\n",
    "        [\"shn_districts\", \"shn_route\"],\n",
    "    ] = np.nan\n",
    "   \n",
    "    return m1"
   ]
  },
  {
   "cell_type": "code",
   "execution_count": null,
   "id": "f7a6595e-1226-4788-b98f-c94480a39b9c",
   "metadata": {
    "tags": []
   },
   "outputs": [],
   "source": [
    "shn_typology = add_shn_information(m1, 50)"
   ]
  },
  {
   "cell_type": "code",
   "execution_count": null,
   "id": "3d1bcf65-c142-4aaf-a8d2-4d2ecef29e38",
   "metadata": {
    "tags": []
   },
   "outputs": [],
   "source": [
    "type(shn_typology)"
   ]
  },
  {
   "cell_type": "code",
   "execution_count": null,
   "id": "d4ce8c9e-51e0-4130-a69b-375e297c670e",
   "metadata": {
    "tags": []
   },
   "outputs": [],
   "source": [
    "len(shn_typology)"
   ]
  },
  {
   "cell_type": "code",
   "execution_count": null,
   "id": "edb56550-7726-46c1-8646-449aa2a8664c",
   "metadata": {
    "tags": []
   },
   "outputs": [],
   "source": [
    "shn_typology.on_shs.value_counts()"
   ]
  },
  {
   "cell_type": "code",
   "execution_count": null,
   "id": "f41d0d39-9b7c-498a-ae18-ee1c876f363b",
   "metadata": {
    "tags": []
   },
   "outputs": [],
   "source": [
    "shn_typology.loc[(shn_typology.name == \"Antelope Valley Transit Authority Schedule\")\n",
    "                & (shn_typology.route_id == \"50\")].drop(columns = [\"geometry\", \"schedule_gtfs_dataset_key\"]).T"
   ]
  },
  {
   "cell_type": "code",
   "execution_count": null,
   "id": "3139230c-ca02-446e-abed-9b9e67478db5",
   "metadata": {
    "tags": []
   },
   "outputs": [],
   "source": [
    "shn_typology.drop(columns = [\"geometry\", \"schedule_gtfs_dataset_key\"]).sample(3).T"
   ]
  },
  {
   "cell_type": "markdown",
   "id": "765ea2b6-48ce-41fa-8f59-2d24a7abd33e",
   "metadata": {
    "tags": []
   },
   "source": [
    "## Step 5: Add back `standardize_org_name`"
   ]
  },
  {
   "cell_type": "markdown",
   "id": "32c04691-df8e-4c9a-8e07-6ae71e421c73",
   "metadata": {},
   "source": [
    "## Step 6: Add in `finalize_export_df`"
   ]
  }
 ],
 "metadata": {
  "kernelspec": {
   "display_name": "Python 3 (ipykernel)",
   "language": "python",
   "name": "python3"
  },
  "language_info": {
   "codemirror_mode": {
    "name": "ipython",
    "version": 3
   },
   "file_extension": ".py",
   "mimetype": "text/x-python",
   "name": "python",
   "nbconvert_exporter": "python",
   "pygments_lexer": "ipython3",
   "version": "3.11.10"
  }
 },
 "nbformat": 4,
 "nbformat_minor": 5
}
