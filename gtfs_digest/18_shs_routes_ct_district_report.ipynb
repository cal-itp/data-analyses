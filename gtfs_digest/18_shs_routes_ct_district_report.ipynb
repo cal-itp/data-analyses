{
 "cells": [
  {
   "cell_type": "markdown",
   "id": "41619139-2e85-4914-a0c0-cb390c36b94c",
   "metadata": {},
   "source": [
    "# Transit On the SHN \n",
    "* [GH Issue](https://github.com/cal-itp/data-analyses/issues/1477)\n"
   ]
  },
  {
   "cell_type": "code",
   "execution_count": null,
   "id": "f6b01cd8-ccda-4d2a-9c64-9cca36e0713c",
   "metadata": {},
   "outputs": [],
   "source": [
    "import geopandas as gpd\n",
    "import google.auth\n",
    "import pandas as pd\n",
    "\n",
    "credentials, project = google.auth.default()\n",
    "\n",
    "import gcsfs\n",
    "\n",
    "fs = gcsfs.GCSFileSystem()"
   ]
  },
  {
   "cell_type": "code",
   "execution_count": null,
   "id": "ec246873-6121-4544-8d62-f71dec06352e",
   "metadata": {
    "tags": []
   },
   "outputs": [],
   "source": [
    "\n",
    "\n",
    "from calitp_data_analysis import geography_utils, utils\n",
    "from segment_speed_utils import gtfs_schedule_wrangling, helpers\n",
    "from shared_utils import (\n",
    "    catalog_utils,\n",
    "    dask_utils,\n",
    "    gtfs_utils_v2,\n",
    "    portfolio_utils,\n",
    "    publish_utils,\n",
    "    rt_dates,\n",
    "    rt_utils,\n",
    ")\n",
    "from update_vars import GTFS_DATA_DICT, RT_SCHED_GCS, SCHED_GCS, SEGMENT_GCS\n",
    "\n"
   ]
  },
  {
   "cell_type": "code",
   "execution_count": null,
   "id": "ffeaad35-64a6-4b16-a93d-ac4a0759288a",
   "metadata": {
    "tags": []
   },
   "outputs": [],
   "source": [
    "pd.options.display.max_columns = 100\n",
    "pd.options.display.float_format = \"{:.2f}\".format\n",
    "pd.set_option(\"display.max_rows\", None)\n",
    "pd.set_option(\"display.max_colwidth\", None)"
   ]
  },
  {
   "cell_type": "code",
   "execution_count": null,
   "id": "1771ea96-ce3b-415f-88f5-8ed54a9b6a5c",
   "metadata": {
    "tags": []
   },
   "outputs": [],
   "source": [
    "def process_transit_routes() -> gpd.GeoDataFrame:\n",
    "    \"\"\"\n",
    "    Select the most recent transit route to \n",
    "    figure out how much of it intersects with \n",
    "    the state highway network.\n",
    "    \"\"\"\n",
    "    # Load in the route shapes.\n",
    "    OPERATOR_ROUTE = GTFS_DATA_DICT.digest_tables.operator_routes_map\n",
    "\n",
    "    subset = [\n",
    "        \"service_date\",\n",
    "        \"geometry\",\n",
    "        \"portfolio_organization_name\",\n",
    "        \"recent_combined_name\",\n",
    "        \"schedule_gtfs_dataset_key\",\n",
    "    ]\n",
    "    op_geography_df = gpd.read_parquet(\n",
    "        f\"{RT_SCHED_GCS}{OPERATOR_ROUTE}.parquet\",\n",
    "        storage_options={\"token\": credentials.token},\n",
    "    )[subset]\n",
    "    \n",
    "    # Keep the row for each portfolio_organization_name/recent_combined_name\n",
    "    # that is the most recent. \n",
    "    most_recent_routes = publish_utils.filter_to_recent_date(\n",
    "        df=op_geography_df,\n",
    "        group_cols=[\n",
    "            \"portfolio_organization_name\",\n",
    "        ],\n",
    "    )\n",
    "\n",
    "    # Calculate the length of route, ensuring that it is in feet.\n",
    "    most_recent_routes = most_recent_routes.assign(\n",
    "        route_length_feet=most_recent_routes.geometry.to_crs(\n",
    "            geography_utils.CA_NAD83Albers_ft\n",
    "        ).length\n",
    "    )\n",
    "\n",
    "    # Drop any duplicates. \n",
    "    # This will probably be taken out once the 1:m recent_combined_name\n",
    "    # to route_id issue is resolved.\n",
    "    most_recent_routes = most_recent_routes.drop_duplicates(\n",
    "        subset=[\"portfolio_organization_name\", \"recent_combined_name\", \"service_date\"]\n",
    "    )\n",
    "    return most_recent_routes"
   ]
  },
  {
   "cell_type": "code",
   "execution_count": null,
   "id": "dc878ec3-d196-4e85-bd5d-9960874476ed",
   "metadata": {
    "tags": []
   },
   "outputs": [],
   "source": [
    "transit_routes = process_transit_routes()"
   ]
  },
  {
   "cell_type": "code",
   "execution_count": null,
   "id": "c7a5c057-9789-447c-a0e4-20ca56bddea0",
   "metadata": {
    "tags": []
   },
   "outputs": [],
   "source": [
    "transit_routes.drop(columns=[\"geometry\"]).sample(3)"
   ]
  },
  {
   "cell_type": "code",
   "execution_count": null,
   "id": "b0490311-308d-4894-9776-301cb4cad658",
   "metadata": {
    "tags": []
   },
   "outputs": [],
   "source": [
    "len(transit_routes)"
   ]
  },
  {
   "cell_type": "code",
   "execution_count": null,
   "id": "15c7b3ee-b927-49ed-a5be-43918c97bfdf",
   "metadata": {
    "tags": []
   },
   "outputs": [],
   "source": [
    "transit_routes.recent_combined_name.value_counts().head()"
   ]
  },
  {
   "cell_type": "code",
   "execution_count": null,
   "id": "c190ae33-bf44-4e94-a614-b4f01ead288b",
   "metadata": {
    "tags": []
   },
   "outputs": [],
   "source": [
    "transit_routes.portfolio_organization_name.value_counts().head()"
   ]
  },
  {
   "cell_type": "markdown",
   "id": "458212e5-3cb6-476b-8768-3a2d6d4ce494",
   "metadata": {
    "tags": []
   },
   "source": [
    "## Load in SHS \n"
   ]
  },
  {
   "cell_type": "code",
   "execution_count": null,
   "id": "3e081d5e-43f5-4298-b98a-cd89390117be",
   "metadata": {
    "tags": []
   },
   "outputs": [],
   "source": [
    "def dissolve_shn() -> gpd.GeoDataFrame:\n",
    "    \"\"\"\n",
    "    Dissolve State Highway Network so there will only be one row for each\n",
    "    route name and route type\n",
    "    \"\"\"\n",
    "    # Read in the dataset and change the CRS to one to feet.\n",
    "    SHN_FILE = catalog_utils.get_catalog(\n",
    "        \"shared_data_catalog\"\n",
    "    ).state_highway_network.urlpath\n",
    "\n",
    "    shn = gpd.read_parquet(\n",
    "        SHN_FILE,\n",
    "        storage_options={\"token\": credentials.token},\n",
    "    ).to_crs(geography_utils.CA_NAD83Albers_ft)\n",
    "\n",
    "    # Dissolve by route which represents the the route's name and drop the other columns\n",
    "    # because they are no longer relevant.\n",
    "    shn_dissolved = (\n",
    "        shn.dissolve(by=[\"Route\"])\n",
    "        .reset_index()\n",
    "        .drop(columns=[\"County\", \"District\", \"Direction\", \"RouteType\"])\n",
    "    )\n",
    "\n",
    "    # Rename because I don't want any confusion between SHN route and \n",
    "    # transit route.\n",
    "    shn_dissolved = shn_dissolved.rename(columns={\"Route\": \"shn_route\"})\n",
    "\n",
    "    # Find the length of each highway.\n",
    "    shn_dissolved = shn_dissolved.assign(\n",
    "        highway_feet=shn_dissolved.geometry.length,\n",
    "        shn_route=shn_dissolved.shn_route.astype(int),\n",
    "    )\n",
    "    \n",
    "    # Save this out so I don't have to dissolve it each time.\n",
    "    shn_dissolved.to_parquet(\n",
    "        \"gs://calitp-analytics-data/data-analyses/state_highway_network/shn_dissolved.parquet\",\n",
    "        filesystem=fs,\n",
    "    )\n",
    "    return shn_dissolved"
   ]
  },
  {
   "cell_type": "code",
   "execution_count": null,
   "id": "b2d43e08-f0d0-4c17-b55b-2c7d509c2ddb",
   "metadata": {
    "tags": []
   },
   "outputs": [],
   "source": [
    "# dissolved = dissolve_shn()"
   ]
  },
  {
   "cell_type": "code",
   "execution_count": null,
   "id": "4d2d3727-e2f7-4eae-af62-539c96cba02f",
   "metadata": {
    "scrolled": true,
    "tags": []
   },
   "outputs": [],
   "source": [
    "# shn_dissolved.loc[shn_dissolved.shn_route == 210].drop(columns=[\"geometry\"])"
   ]
  },
  {
   "cell_type": "code",
   "execution_count": null,
   "id": "045892dc-1094-42ec-9267-a1800387f1bf",
   "metadata": {
    "tags": []
   },
   "outputs": [],
   "source": [
    "# shn_dissolved.loc[shn_dissolved.shn_route == 110].drop(columns=[\"geometry\"])"
   ]
  },
  {
   "cell_type": "code",
   "execution_count": null,
   "id": "9d5c54c5-b055-4251-baea-20a45b47c41c",
   "metadata": {
    "scrolled": true,
    "tags": []
   },
   "outputs": [],
   "source": [
    "# shn_dissolved.loc[shn_dissolved.Route == 210].explore()"
   ]
  },
  {
   "cell_type": "code",
   "execution_count": null,
   "id": "a0f23cb6-4a7c-4a86-b0d3-3bcad379a9f2",
   "metadata": {
    "tags": []
   },
   "outputs": [],
   "source": [
    "# shn_dissolved.loc[shn_dissolved.Route == 110].explore()"
   ]
  },
  {
   "cell_type": "code",
   "execution_count": null,
   "id": "0be8698f-226a-40e3-ab00-394b5c205123",
   "metadata": {
    "tags": []
   },
   "outputs": [],
   "source": [
    "# len(dissolved)"
   ]
  },
  {
   "cell_type": "code",
   "execution_count": null,
   "id": "d3dc507a-7bb1-4d6b-81b2-b2e1b250cd05",
   "metadata": {
    "tags": []
   },
   "outputs": [],
   "source": [
    "def buffer_shn(buffer_amount: int) -> gpd.GeoDataFrame:\n",
    "    \"\"\"\n",
    "    Add a buffer to the SHN before overlaying it with \n",
    "    transit routes. \n",
    "    \"\"\"\n",
    "    GCS_FILE_PATH = \"gs://calitp-analytics-data/data-analyses/state_highway_network/\"\n",
    "\n",
    "    # Read in the dissolved SHN file \n",
    "    shn_df = gpd.read_parquet(\n",
    "        f\"{GCS_FILE_PATH}shn_dissolved.parquet\",\n",
    "        storage_options={\"token\": credentials.token},\n",
    "    )\n",
    "\n",
    "    # Buffer the state highway.\n",
    "    shn_df_buffered = shn_df.assign(\n",
    "        geometry=shn_df.geometry.buffer(buffer_amount),\n",
    "    )\n",
    "\n",
    "    # Save it out so we won't have to buffer over again and\n",
    "    # can just read it in. \n",
    "    shn_df_buffered.to_parquet(\n",
    "        f\"{GCS_FILE_PATH}shn_buffered_{buffer_amount}_ft.parquet\", \n",
    "        filesystem=fs\n",
    "    )\n",
    "\n",
    "    return shn_df_buffered"
   ]
  },
  {
   "cell_type": "code",
   "execution_count": null,
   "id": "495541e6-2344-4dab-95e9-00d9c66be124",
   "metadata": {
    "tags": []
   },
   "outputs": [],
   "source": [
    "SHN_HWY_BUFFER_FEET = 50\n",
    "PARALLEL_HWY_BUFFER_FEET = geography_utils.FEET_PER_MI * 0.5"
   ]
  },
  {
   "cell_type": "code",
   "execution_count": null,
   "id": "0598e1da-3f56-4415-b68b-63e12ff5109d",
   "metadata": {
    "tags": []
   },
   "outputs": [],
   "source": [
    "# intersecting_buffer.shape"
   ]
  },
  {
   "cell_type": "code",
   "execution_count": null,
   "id": "7011b56d-a411-4178-8d9d-5aed53dae8b2",
   "metadata": {
    "tags": []
   },
   "outputs": [],
   "source": [
    "# buffered_df = buffer_shn(SHN_HWY_BUFFER_FEET)"
   ]
  },
  {
   "cell_type": "code",
   "execution_count": null,
   "id": "95d188c3-bdd6-4405-874b-f257a4a0d213",
   "metadata": {
    "tags": []
   },
   "outputs": [],
   "source": [
    "# buffered_df.columns"
   ]
  },
  {
   "cell_type": "markdown",
   "id": "87361842-5147-4802-bc32-063cd249b5f0",
   "metadata": {},
   "source": [
    "## Overlay"
   ]
  },
  {
   "cell_type": "code",
   "execution_count": null,
   "id": "e58e7e81-684e-46b9-96cb-3c9f0643e113",
   "metadata": {
    "tags": []
   },
   "outputs": [],
   "source": [
    "def routes_shn_intersection(\n",
    "    buffer_amount: int,\n",
    ") -> gpd.GeoDataFrame:\n",
    "    \"\"\"\n",
    "    Overlay the most recent transit routes with a buffered version\n",
    "    of the SHN \n",
    "    \"\"\"\n",
    "    GCS_FILE_PATH = \"gs://calitp-analytics-data/data-analyses/state_highway_network/\"\n",
    "\n",
    "    # Read in buffered shn here or re buffer if we don't have it available. \n",
    "    HWY_FILE = f\"{GCS_FILE_PATH}shn_buffered_{buffer_amount}_ft.parquet\"\n",
    "\n",
    "    if fs.exists(HWY_FILE):\n",
    "        shn_routes_gdf = gpd.read_parquet(\n",
    "            HWY_FILE, storage_options={\"token\": credentials.token}\n",
    "        )\n",
    "    else:\n",
    "        shn_routes_gdf = buffer_shn(buffer_amount)\n",
    "\n",
    "    # Process the most recent transit route geographies and ensure the \n",
    "    # CRS matches the SHN routes' GDF so the overlay doesn't go wonky. \n",
    "    transit_routes_gdf = process_transit_routes().to_crs(shn_routes_gdf.crs)\n",
    "\n",
    "    # Overlay transit routes with the SHN geographies. \n",
    "    gdf = gpd.overlay(\n",
    "        transit_routes_gdf, shn_routes_gdf, how=\"intersection\", keep_geom_type=True\n",
    "    )\n",
    "\n",
    "    # Calcuate the percent of the transit route that runs on a highway, round it up and \n",
    "    # multiply it by 100. Drop the geometry because we want the original transit route\n",
    "    # shapes. \n",
    "    gdf = gdf.assign(\n",
    "        pct_route_on_hwy=(gdf.geometry.length / gdf.route_length_feet).round(3) * 100,\n",
    "    ).drop(\n",
    "        columns=[\n",
    "            \"geometry\",\n",
    "        ]\n",
    "    )\n",
    "\n",
    "    # Join back the dataframe above with the original transit route dataframes\n",
    "    # so we can have the original transit route geographies. \n",
    "    gdf2 = pd.merge(\n",
    "        transit_routes_gdf,\n",
    "        gdf,\n",
    "        on=[\n",
    "            \"service_date\",\n",
    "            \"portfolio_organization_name\",\n",
    "            \"recent_combined_name\",\n",
    "            \"schedule_gtfs_dataset_key\",\n",
    "            \"route_length_feet\",\n",
    "        ],\n",
    "        how=\"inner\",\n",
    "    )\n",
    "\n",
    "    return gdf2"
   ]
  },
  {
   "cell_type": "code",
   "execution_count": null,
   "id": "385b204c-1215-4fdb-8063-023618b85077",
   "metadata": {
    "tags": []
   },
   "outputs": [],
   "source": [
    "intersecting = routes_shn_intersection(SHN_HWY_BUFFER_FEET)"
   ]
  },
  {
   "cell_type": "code",
   "execution_count": null,
   "id": "1dfaf6d4-a7e7-44ef-84fb-6bd2f691a615",
   "metadata": {
    "tags": []
   },
   "outputs": [],
   "source": [
    "intersecting.pct_route_on_hwy.describe()"
   ]
  },
  {
   "cell_type": "code",
   "execution_count": null,
   "id": "adcd5ca9-25b5-4aac-a4cd-0a7a9d98532f",
   "metadata": {
    "tags": []
   },
   "outputs": [],
   "source": [
    "# transit_routes_gdf = process_transit_routes()"
   ]
  },
  {
   "cell_type": "code",
   "execution_count": null,
   "id": "5bdbb646-9217-4acb-906c-b230933e62fe",
   "metadata": {
    "tags": []
   },
   "outputs": [],
   "source": [
    "# len(intersecting)"
   ]
  },
  {
   "cell_type": "code",
   "execution_count": null,
   "id": "de6248ff-8a6b-4dc3-bb10-9feb28a2510b",
   "metadata": {
    "tags": []
   },
   "outputs": [],
   "source": [
    "# intersecting.loc[intersecting.pct_route_on_hwy != 0].recent_combined_name.nunique()"
   ]
  },
  {
   "cell_type": "markdown",
   "id": "9f9296aa-d0a9-45c3-b8a9-43872d1614dd",
   "metadata": {},
   "source": [
    "## Create final dataframes"
   ]
  },
  {
   "cell_type": "code",
   "execution_count": null,
   "id": "31c72996-a662-4278-9bad-f71f9d4c440e",
   "metadata": {
    "tags": []
   },
   "outputs": [],
   "source": [
    "def final_transit_route_shs_outputs(gdf: gpd.GeoDataFrame, pct_route_intersection: int):\n",
    "    \"\"\"\n",
    "    Take the gdf with the transit routes overlaid with state highway\n",
    "    network routes, aggregate it to find the pct filter it to meet a certain threshold, and\n",
    "    clean it into dataframes to use for display. \n",
    "    \"\"\"\n",
    "    # Aggregate to find the total pct of a transit route because\n",
    "    # a route can intersect with one or more state highway\n",
    "    # so there will only be one row for one transit route instead of\n",
    "    # many rows for one transit route.\n",
    "    map_gdf = (\n",
    "        gdf.groupby(\n",
    "            [\n",
    "                \"portfolio_organization_name\",\n",
    "                \"recent_combined_name\",\n",
    "            ]\n",
    "        )\n",
    "        .agg({\"pct_route_on_hwy\": \"sum\"})\n",
    "        .reset_index()\n",
    "    )\n",
    "\n",
    "    # Filter out for any pct_route_on_hwy that we deem too low. \n",
    "    map_gdf = map_gdf.loc[map_gdf.pct_route_on_hwy > pct_route_intersection]\n",
    "    \n",
    "    # Join back to get the original transit route geometries and the names of the \n",
    "    # state highways these routes intersect with. This gdf will be used to \n",
    "    # display a map.\n",
    "    map_gdf2 = pd.merge(\n",
    "        gdf[\n",
    "            [\"portfolio_organization_name\", \"recent_combined_name\", \"geometry\"]\n",
    "        ].drop_duplicates(),\n",
    "        map_gdf,\n",
    "        on=[\"portfolio_organization_name\", \"recent_combined_name\"],\n",
    "    )\n",
    "    # We want a text table to display.\n",
    "    # For transit routes that intersect with multiple highways, join the highways\n",
    "    # together so there will be one row for each unique route.\n",
    "    text_df = pd.merge(\n",
    "        gdf.drop(columns=[\"pct_route_on_hwy\"]), map_gdf2.drop(columns = [\"geometry\"]), how=\"inner\"\n",
    "    )\n",
    "    text_df = (\n",
    "        (\n",
    "            text_df.groupby(\n",
    "                [\n",
    "                    \"portfolio_organization_name\",\n",
    "                    \"recent_combined_name\",\n",
    "                    \"schedule_gtfs_dataset_key\",\n",
    "                    \"pct_route_on_hwy\",\n",
    "                ],\n",
    "                as_index=False,\n",
    "            )\n",
    "        )[\"shn_route\"]\n",
    "        .agg(lambda x: \", \".join(set(x.astype(str))))\n",
    "        .reset_index(drop=True)\n",
    "    )\n",
    "\n",
    "    return map_gdf2, text_df"
   ]
  },
  {
   "cell_type": "code",
   "execution_count": null,
   "id": "9ce2810a-c58d-4f0e-8a06-d10e39cac140",
   "metadata": {
    "tags": []
   },
   "outputs": [],
   "source": [
    "map_gdf, text_df = final_transit_route_shs_outputs(intersecting, 20)"
   ]
  },
  {
   "cell_type": "markdown",
   "id": "b11f2a17-cbfd-43b1-9f52-381aa7cac8d7",
   "metadata": {},
   "source": [
    "## Sample Map\n",
    "* This will be displayed by each Caltrans District as opposed to this sample which shows all the routes across the state that touch a state highway."
   ]
  },
  {
   "cell_type": "code",
   "execution_count": null,
   "id": "aa0e7234-950e-453b-9b8a-2c2b5ce51ddf",
   "metadata": {
    "tags": []
   },
   "outputs": [],
   "source": [
    "len(map_gdf)"
   ]
  },
  {
   "cell_type": "markdown",
   "id": "fee82333-2d3d-420c-ba47-b424634dc5d0",
   "metadata": {},
   "source": [
    "* Read in the buffered SHN file and dissolve it again so it's only one row, since we don't care about each individual state route."
   ]
  },
  {
   "cell_type": "code",
   "execution_count": null,
   "id": "9b0224b6-fbec-4ece-9105-7c0ff4659b60",
   "metadata": {
    "tags": []
   },
   "outputs": [],
   "source": [
    "GCS_FILE_PATH = \"gs://calitp-analytics-data/data-analyses/state_highway_network/\"\n",
    "\n",
    "# Read in buffered shn here or re buffer\n",
    "HWY_FILE = f\"{GCS_FILE_PATH}shn_buffered_{SHN_HWY_BUFFER_FEET}_ft.parquet\""
   ]
  },
  {
   "cell_type": "code",
   "execution_count": null,
   "id": "cfb4fbe1-abf0-47f7-84ad-715272cd07fa",
   "metadata": {
    "tags": []
   },
   "outputs": [],
   "source": [
    "shn_gdf = gpd.read_parquet(HWY_FILE, storage_options={\"token\": credentials.token})"
   ]
  },
  {
   "cell_type": "code",
   "execution_count": null,
   "id": "b40e60f9-d716-4dac-b038-9329667003a2",
   "metadata": {
    "tags": []
   },
   "outputs": [],
   "source": [
    "len(shn_gdf)"
   ]
  },
  {
   "cell_type": "code",
   "execution_count": null,
   "id": "784c6f22-2e5c-4096-8196-b90e06b70393",
   "metadata": {
    "tags": []
   },
   "outputs": [],
   "source": [
    "shn_gdf2 = shn_gdf.dissolve()"
   ]
  },
  {
   "cell_type": "code",
   "execution_count": null,
   "id": "aa3d418c-cecd-4606-8265-b8db2d80c623",
   "metadata": {
    "tags": []
   },
   "outputs": [],
   "source": [
    "len(shn_gdf2)"
   ]
  },
  {
   "cell_type": "code",
   "execution_count": null,
   "id": "bf641b85-801b-45fe-8702-44758f1fdabe",
   "metadata": {
    "tags": []
   },
   "outputs": [],
   "source": [
    "m = shn_gdf2.explore(height=250, width=500, name=\"shs\")"
   ]
  },
  {
   "cell_type": "code",
   "execution_count": null,
   "id": "973623a7-b4e1-4719-9449-d79cad9ce189",
   "metadata": {
    "tags": []
   },
   "outputs": [],
   "source": [
    "m = map_gdf.explore(\"recent_combined_name\", m=m, name=\"transit_routes\")"
   ]
  },
  {
   "cell_type": "code",
   "execution_count": null,
   "id": "13168275-fdc3-4374-a13f-a48c6b569447",
   "metadata": {
    "tags": []
   },
   "outputs": [],
   "source": [
    " m"
   ]
  },
  {
   "cell_type": "markdown",
   "id": "cfaab31a-f770-4c72-bedc-5e6201cdfabe",
   "metadata": {
    "tags": []
   },
   "source": [
    "### Sample Text Table"
   ]
  },
  {
   "cell_type": "code",
   "execution_count": null,
   "id": "9f908efe-e646-492b-b4e9-52747ae2a79b",
   "metadata": {
    "scrolled": true,
    "tags": []
   },
   "outputs": [],
   "source": [
    "text_df.sort_values(by = [\"pct_route_on_hwy\"], ascending = False)"
   ]
  }
 ],
 "metadata": {
  "kernelspec": {
   "display_name": "Python 3 (ipykernel)",
   "language": "python",
   "name": "python3"
  },
  "language_info": {
   "codemirror_mode": {
    "name": "ipython",
    "version": 3
   },
   "file_extension": ".py",
   "mimetype": "text/x-python",
   "name": "python",
   "nbconvert_exporter": "python",
   "pygments_lexer": "ipython3",
   "version": "3.11.10"
  }
 },
 "nbformat": 4,
 "nbformat_minor": 5
}
