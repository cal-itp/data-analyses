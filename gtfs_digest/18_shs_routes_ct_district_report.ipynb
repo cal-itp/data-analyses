{
 "cells": [
  {
   "cell_type": "markdown",
   "id": "41619139-2e85-4914-a0c0-cb390c36b94c",
   "metadata": {},
   "source": [
    "# Transit On the SHN \n",
    "* [GH Issue](https://github.com/cal-itp/data-analyses/issues/1477)\n"
   ]
  },
  {
   "cell_type": "code",
   "execution_count": null,
   "id": "f6b01cd8-ccda-4d2a-9c64-9cca36e0713c",
   "metadata": {},
   "outputs": [],
   "source": [
    "import geopandas as gpd\n",
    "import google.auth\n",
    "import numpy as np\n",
    "import pandas as pd\n",
    "\n",
    "credentials, project = google.auth.default()\n",
    "\n",
    "import gcsfs\n",
    "\n",
    "fs = gcsfs.GCSFileSystem()"
   ]
  },
  {
   "cell_type": "code",
   "execution_count": null,
   "id": "ec246873-6121-4544-8d62-f71dec06352e",
   "metadata": {
    "tags": []
   },
   "outputs": [],
   "source": [
    "from calitp_data_analysis import geography_utils, utils\n",
    "from segment_speed_utils import gtfs_schedule_wrangling, helpers\n",
    "from shared_utils import (\n",
    "    catalog_utils,\n",
    "    dask_utils,\n",
    "    gtfs_utils_v2,\n",
    "    portfolio_utils,\n",
    "    publish_utils,\n",
    "    rt_dates,\n",
    "    rt_utils,\n",
    ")\n",
    "from update_vars import GTFS_DATA_DICT, RT_SCHED_GCS, SCHED_GCS, SEGMENT_GCS"
   ]
  },
  {
   "cell_type": "code",
   "execution_count": null,
   "id": "ffeaad35-64a6-4b16-a93d-ac4a0759288a",
   "metadata": {
    "tags": []
   },
   "outputs": [],
   "source": [
    "pd.options.display.max_columns = 100\n",
    "pd.options.display.float_format = \"{:.2f}\".format\n",
    "pd.set_option(\"display.max_rows\", None)\n",
    "pd.set_option(\"display.max_colwidth\", None)"
   ]
  },
  {
   "cell_type": "code",
   "execution_count": null,
   "id": "1771ea96-ce3b-415f-88f5-8ed54a9b6a5c",
   "metadata": {
    "tags": []
   },
   "outputs": [],
   "source": [
    "def process_transit_routes() -> gpd.GeoDataFrame:\n",
    "    \"\"\"\n",
    "    Select the most recent transit route to\n",
    "    figure out how much of it intersects with\n",
    "    the state highway network.\n",
    "    \"\"\"\n",
    "    # Load in the route shapes.\n",
    "    OPERATOR_ROUTE = GTFS_DATA_DICT.digest_tables.operator_routes_map\n",
    "\n",
    "    subset = [\n",
    "        \"service_date\",\n",
    "        \"geometry\",\n",
    "        \"portfolio_organization_name\",\n",
    "        \"recent_combined_name\",\n",
    "        # \"route_id\",\n",
    "    ]\n",
    "    op_geography_df = gpd.read_parquet(\n",
    "        f\"{RT_SCHED_GCS}{OPERATOR_ROUTE}.parquet\",\n",
    "        storage_options={\"token\": credentials.token},\n",
    "    )[subset]\n",
    "\n",
    "    # Keep the row for each portfolio_organization_name/recent_combined_name\n",
    "    # that is the most recent.\n",
    "    most_recent_routes = publish_utils.filter_to_recent_date(\n",
    "        df=op_geography_df,\n",
    "        group_cols=[\n",
    "            \"portfolio_organization_name\",\n",
    "        ],\n",
    "    )\n",
    "\n",
    "    # Calculate the length of route, ensuring that it is in feet.\n",
    "    most_recent_routes = most_recent_routes.assign(\n",
    "        route_length_feet=most_recent_routes.geometry.to_crs(\n",
    "            geography_utils.CA_NAD83Albers_ft\n",
    "        ).length\n",
    "    )\n",
    "\n",
    "    # Drop any duplicates.\n",
    "    # This will probably be taken out once the 1:m recent_combined_name\n",
    "    # to route_id issue is resolved.\n",
    "    most_recent_routes = most_recent_routes.drop_duplicates(\n",
    "        subset=[\"portfolio_organization_name\", \"recent_combined_name\", \"service_date\"]\n",
    "    )\n",
    "    return most_recent_routes"
   ]
  },
  {
   "cell_type": "code",
   "execution_count": null,
   "id": "dc878ec3-d196-4e85-bd5d-9960874476ed",
   "metadata": {
    "tags": []
   },
   "outputs": [],
   "source": [
    "# transit_routes = process_transit_routes()"
   ]
  },
  {
   "cell_type": "code",
   "execution_count": null,
   "id": "c7a5c057-9789-447c-a0e4-20ca56bddea0",
   "metadata": {
    "tags": []
   },
   "outputs": [],
   "source": [
    "# transit_routes.drop(columns=[\"geometry\"]).sample(3)"
   ]
  },
  {
   "cell_type": "code",
   "execution_count": null,
   "id": "b0490311-308d-4894-9776-301cb4cad658",
   "metadata": {
    "tags": []
   },
   "outputs": [],
   "source": [
    "# len(transit_routes)"
   ]
  },
  {
   "cell_type": "code",
   "execution_count": null,
   "id": "15c7b3ee-b927-49ed-a5be-43918c97bfdf",
   "metadata": {
    "tags": []
   },
   "outputs": [],
   "source": [
    "# transit_routes.recent_combined_name.value_counts().head()"
   ]
  },
  {
   "cell_type": "code",
   "execution_count": null,
   "id": "c190ae33-bf44-4e94-a614-b4f01ead288b",
   "metadata": {
    "tags": []
   },
   "outputs": [],
   "source": [
    "# transit_routes.portfolio_organization_name.value_counts().head()"
   ]
  },
  {
   "cell_type": "markdown",
   "id": "458212e5-3cb6-476b-8768-3a2d6d4ce494",
   "metadata": {
    "tags": []
   },
   "source": [
    "## Load in SHS \n"
   ]
  },
  {
   "cell_type": "code",
   "execution_count": null,
   "id": "3e081d5e-43f5-4298-b98a-cd89390117be",
   "metadata": {
    "tags": []
   },
   "outputs": [],
   "source": [
    "def dissolve_shn(columns_to_dissolve: list, file_name: str) -> gpd.GeoDataFrame:\n",
    "    \"\"\"\n",
    "    Dissolve State Highway Network so there will only be one row for each\n",
    "    route name and route type\n",
    "    \"\"\"\n",
    "    # Read in the dataset and change the CRS to one to feet.\n",
    "    SHN_FILE = catalog_utils.get_catalog(\n",
    "        \"shared_data_catalog\"\n",
    "    ).state_highway_network.urlpath\n",
    "\n",
    "    shn = gpd.read_parquet(\n",
    "        SHN_FILE,\n",
    "        storage_options={\"token\": credentials.token},\n",
    "    ).to_crs(geography_utils.CA_NAD83Albers_ft)\n",
    "\n",
    "    # Dissolve by route which represents the the route's name and drop the other columns\n",
    "    # because they are no longer relevant.\n",
    "    shn_dissolved = (shn.dissolve(by=columns_to_dissolve).reset_index())[\n",
    "        columns_to_dissolve + [\"geometry\"]\n",
    "    ]\n",
    "\n",
    "    # Rename because I don't want any confusion between SHN route and\n",
    "    # transit route.\n",
    "    shn_dissolved = shn_dissolved.rename(columns={\"Route\": \"shn_route\"})\n",
    "\n",
    "    # Find the length of each highway.\n",
    "    shn_dissolved = shn_dissolved.assign(\n",
    "        highway_feet=shn_dissolved.geometry.length,\n",
    "        shn_route=shn_dissolved.shn_route.astype(int),\n",
    "    )\n",
    "\n",
    "    # Save this out so I don't have to dissolve it each time.\n",
    "    shn_dissolved.to_parquet(\n",
    "        f\"gs://calitp-analytics-data/data-analyses/state_highway_network/shn_dissolved_by_{file_name}.parquet\",\n",
    "        filesystem=fs,\n",
    "    )\n",
    "    return shn_dissolved"
   ]
  },
  {
   "cell_type": "code",
   "execution_count": null,
   "id": "b2d43e08-f0d0-4c17-b55b-2c7d509c2ddb",
   "metadata": {
    "tags": []
   },
   "outputs": [],
   "source": [
    "# dissolved_route = dissolve_shn([\"Route\",\"District\"], \"ct_district_route\")"
   ]
  },
  {
   "cell_type": "code",
   "execution_count": null,
   "id": "4d2d3727-e2f7-4eae-af62-539c96cba02f",
   "metadata": {
    "scrolled": true,
    "tags": []
   },
   "outputs": [],
   "source": [
    "# shn_dissolved.loc[shn_dissolved.shn_route == 210].drop(columns=[\"geometry\"])"
   ]
  },
  {
   "cell_type": "code",
   "execution_count": null,
   "id": "045892dc-1094-42ec-9267-a1800387f1bf",
   "metadata": {
    "tags": []
   },
   "outputs": [],
   "source": [
    "# shn_dissolved.loc[shn_dissolved.shn_route == 110].drop(columns=[\"geometry\"])"
   ]
  },
  {
   "cell_type": "code",
   "execution_count": null,
   "id": "9d5c54c5-b055-4251-baea-20a45b47c41c",
   "metadata": {
    "scrolled": true,
    "tags": []
   },
   "outputs": [],
   "source": [
    "# shn_dissolved.loc[shn_dissolved.Route == 210].explore()"
   ]
  },
  {
   "cell_type": "code",
   "execution_count": null,
   "id": "a0f23cb6-4a7c-4a86-b0d3-3bcad379a9f2",
   "metadata": {
    "tags": []
   },
   "outputs": [],
   "source": [
    "# shn_dissolved.loc[shn_dissolved.Route == 110].explore()"
   ]
  },
  {
   "cell_type": "code",
   "execution_count": null,
   "id": "0be8698f-226a-40e3-ab00-394b5c205123",
   "metadata": {
    "tags": []
   },
   "outputs": [],
   "source": [
    "# len(dissolved)"
   ]
  },
  {
   "cell_type": "code",
   "execution_count": null,
   "id": "d3dc507a-7bb1-4d6b-81b2-b2e1b250cd05",
   "metadata": {
    "tags": []
   },
   "outputs": [],
   "source": [
    "def buffer_shn(buffer_amount: int, file_name: str) -> gpd.GeoDataFrame:\n",
    "    \"\"\"\n",
    "    Add a buffer to the SHN before overlaying it with\n",
    "    transit routes.\n",
    "    \"\"\"\n",
    "    GCS_FILE_PATH = \"gs://calitp-analytics-data/data-analyses/state_highway_network/\"\n",
    "\n",
    "    # Read in the dissolved SHN file\n",
    "    shn_df = gpd.read_parquet(\n",
    "        f\"{GCS_FILE_PATH}shn_dissolved_by_{file_name}.parquet\",\n",
    "        storage_options={\"token\": credentials.token},\n",
    "    )\n",
    "\n",
    "    # Buffer the state highway.\n",
    "    shn_df_buffered = shn_df.assign(\n",
    "        geometry=shn_df.geometry.buffer(buffer_amount),\n",
    "    )\n",
    "\n",
    "    # Save it out so we won't have to buffer over again and\n",
    "    # can just read it in.\n",
    "    shn_df_buffered.to_parquet(\n",
    "        f\"{GCS_FILE_PATH}shn_buffered_{buffer_amount}_ft_{file_name}.parquet\",\n",
    "        filesystem=fs,\n",
    "    )\n",
    "\n",
    "    return shn_df_buffered"
   ]
  },
  {
   "cell_type": "code",
   "execution_count": null,
   "id": "495541e6-2344-4dab-95e9-00d9c66be124",
   "metadata": {
    "tags": []
   },
   "outputs": [],
   "source": [
    "SHN_HWY_BUFFER_FEET = 50\n",
    "PARALLEL_HWY_BUFFER_FEET = geography_utils.FEET_PER_MI * 0.5"
   ]
  },
  {
   "cell_type": "code",
   "execution_count": null,
   "id": "0598e1da-3f56-4415-b68b-63e12ff5109d",
   "metadata": {
    "tags": []
   },
   "outputs": [],
   "source": [
    "# intersecting_buffer.shape"
   ]
  },
  {
   "cell_type": "code",
   "execution_count": null,
   "id": "7011b56d-a411-4178-8d9d-5aed53dae8b2",
   "metadata": {
    "tags": []
   },
   "outputs": [],
   "source": [
    "# buffered_df = buffer_shn(SHN_HWY_BUFFER_FEET, \"ct_district_route\")"
   ]
  },
  {
   "cell_type": "code",
   "execution_count": null,
   "id": "5fa7355f-ef54-42dc-adef-90bba2afdc34",
   "metadata": {
    "tags": []
   },
   "outputs": [],
   "source": [
    "# buffered_df.loc[buffered_df.shn_route == 5].explore()"
   ]
  },
  {
   "cell_type": "code",
   "execution_count": null,
   "id": "673b6c64-1667-4e19-bcad-231293cb643e",
   "metadata": {
    "tags": []
   },
   "outputs": [],
   "source": [
    "shn_district_df = gpd.read_parquet(\n",
    "    f\"gs://calitp-analytics-data/data-analyses/state_highway_network/shn_buffered_50_ft_ct_district_route.parquet\",\n",
    "    storage_options={\"token\": credentials.token},\n",
    ")"
   ]
  },
  {
   "cell_type": "code",
   "execution_count": null,
   "id": "857a24b9-c5fd-4808-9dc3-0d0953ccc53e",
   "metadata": {
    "tags": []
   },
   "outputs": [],
   "source": [
    "shn_district_df.shape"
   ]
  },
  {
   "cell_type": "code",
   "execution_count": null,
   "id": "95d188c3-bdd6-4405-874b-f257a4a0d213",
   "metadata": {
    "tags": []
   },
   "outputs": [],
   "source": [
    "# buffered_df.columns"
   ]
  },
  {
   "cell_type": "markdown",
   "id": "87361842-5147-4802-bc32-063cd249b5f0",
   "metadata": {},
   "source": [
    "## Overlay"
   ]
  },
  {
   "cell_type": "code",
   "execution_count": null,
   "id": "e58e7e81-684e-46b9-96cb-3c9f0643e113",
   "metadata": {
    "tags": []
   },
   "outputs": [],
   "source": [
    "def routes_shn_intersection(buffer_amount: int, file_name: str) -> gpd.GeoDataFrame:\n",
    "    \"\"\"\n",
    "    Overlay the most recent transit routes with a buffered version\n",
    "    of the SHN\n",
    "    \"\"\"\n",
    "    GCS_FILE_PATH = \"gs://calitp-analytics-data/data-analyses/state_highway_network/\"\n",
    "\n",
    "    # Read in buffered shn here or re buffer if we don't have it available.\n",
    "    HWY_FILE = f\"{GCS_FILE_PATH}shn_buffered_{buffer_amount}_ft_{file_name}.parquet\"\n",
    "\n",
    "    if fs.exists(HWY_FILE):\n",
    "        shn_routes_gdf = gpd.read_parquet(\n",
    "            HWY_FILE, storage_options={\"token\": credentials.token}\n",
    "        )\n",
    "    else:\n",
    "        shn_routes_gdf = buffer_shn(buffer_amount)\n",
    "\n",
    "    # Process the most recent transit route geographies and ensure the\n",
    "    # CRS matches the SHN routes' GDF so the overlay doesn't go wonky.\n",
    "    transit_routes_gdf = process_transit_routes().to_crs(shn_routes_gdf.crs)\n",
    "\n",
    "    # Overlay transit routes with the SHN geographies.\n",
    "    gdf = gpd.overlay(\n",
    "        transit_routes_gdf, shn_routes_gdf, how=\"intersection\", keep_geom_type=True\n",
    "    )\n",
    "\n",
    "    # Calcuate the percent of the transit route that runs on a highway, round it up and\n",
    "    # multiply it by 100. Drop the geometry because we want the original transit route\n",
    "    # shapes.\n",
    "    gdf = gdf.assign(\n",
    "        pct_route_on_hwy=(gdf.geometry.length / gdf.route_length_feet).round(3) * 100,\n",
    "    ).drop(\n",
    "        columns=[\n",
    "            \"geometry\",\n",
    "        ]\n",
    "    )\n",
    "\n",
    "    # Join back the dataframe above with the original transit route dataframes\n",
    "    # so we can have the original transit route geographies.\n",
    "    gdf2 = pd.merge(\n",
    "        transit_routes_gdf,\n",
    "        gdf,\n",
    "        on=[\n",
    "            \"service_date\",\n",
    "            \"portfolio_organization_name\",\n",
    "            \"recent_combined_name\",\n",
    "            \"route_length_feet\",\n",
    "        ],\n",
    "        how=\"left\",\n",
    "    )\n",
    "\n",
    "    return gdf2"
   ]
  },
  {
   "cell_type": "code",
   "execution_count": null,
   "id": "385b204c-1215-4fdb-8063-023618b85077",
   "metadata": {
    "tags": []
   },
   "outputs": [],
   "source": [
    "intersecting = routes_shn_intersection(SHN_HWY_BUFFER_FEET, \"ct_district_route\")"
   ]
  },
  {
   "cell_type": "code",
   "execution_count": null,
   "id": "1dfaf6d4-a7e7-44ef-84fb-6bd2f691a615",
   "metadata": {
    "tags": []
   },
   "outputs": [],
   "source": [
    "intersecting.pct_route_on_hwy.describe()"
   ]
  },
  {
   "cell_type": "code",
   "execution_count": null,
   "id": "2eb8c505-2d6c-4416-a31a-b974cafb1ff9",
   "metadata": {
    "tags": []
   },
   "outputs": [],
   "source": [
    "intersecting.recent_combined_name.value_counts().describe()"
   ]
  },
  {
   "cell_type": "code",
   "execution_count": null,
   "id": "60baeb61-115c-48cd-988e-12358b077cba",
   "metadata": {
    "tags": []
   },
   "outputs": [],
   "source": [
    "# Find routes that cross multiple districts\n",
    "multi_district_routes = (\n",
    "    intersecting.groupby([\"portfolio_organization_name\", \"recent_combined_name\"])\n",
    "    .agg({\"District\": \"nunique\"})\n",
    "    .reset_index()\n",
    ")"
   ]
  },
  {
   "cell_type": "code",
   "execution_count": null,
   "id": "7c8af6ad-1e43-4da4-88b9-e64bddd8de02",
   "metadata": {
    "tags": []
   },
   "outputs": [],
   "source": [
    "multi_district_routes.sort_values(by=[\"District\"], ascending=False).head(20)"
   ]
  },
  {
   "cell_type": "code",
   "execution_count": null,
   "id": "fcbcdff2-22f5-4db9-9b37-880ecbab2621",
   "metadata": {
    "tags": []
   },
   "outputs": [],
   "source": [
    "bakersfield_route = intersecting.loc[\n",
    "    intersecting.recent_combined_name == \"100 Bakersfield - Lancaster\"\n",
    "]"
   ]
  },
  {
   "cell_type": "code",
   "execution_count": null,
   "id": "eab02039-73a9-40fd-a806-caff9691738c",
   "metadata": {
    "tags": []
   },
   "outputs": [],
   "source": [
    "bakersfield_route.District.unique()"
   ]
  },
  {
   "cell_type": "code",
   "execution_count": null,
   "id": "1fecd99c-44f3-47cd-9327-ba679e3c8d10",
   "metadata": {
    "tags": []
   },
   "outputs": [],
   "source": [
    "# bakersfield_route.drop(columns = [\"service_date\"]).explore()"
   ]
  },
  {
   "cell_type": "code",
   "execution_count": null,
   "id": "5004cbb9-f740-494a-b335-dcf0e7f977cd",
   "metadata": {
    "tags": []
   },
   "outputs": [],
   "source": [
    "intersecting.loc[\n",
    "    intersecting.recent_combined_name == \"100 Bakersfield - Lancaster\"\n",
    "].pct_route_on_hwy.sum()"
   ]
  },
  {
   "cell_type": "markdown",
   "id": "dd3cb6cc-131f-4948-b1e4-0b79528ef3c8",
   "metadata": {},
   "source": [
    "## Create final dataframe to add to Transit Routes dataset on the Open Data Portal [here](https://data.ca.gov/dataset/california-transit-routes/resource/3ea7eb11-4fc6-45ed-88f5-b599e38c6b19)"
   ]
  },
  {
   "cell_type": "code",
   "execution_count": null,
   "id": "6c49e959-ff7a-49c6-9294-ab21824c3f92",
   "metadata": {
    "tags": []
   },
   "outputs": [],
   "source": [
    "def group_route_district(df: pd.DataFrame, pct_route_on_hwy_agg: str) -> pd.DataFrame:\n",
    "    agg1 = (\n",
    "        df.groupby(\n",
    "            [\n",
    "                \"portfolio_organization_name\",\n",
    "                \"recent_combined_name\",\n",
    "            ],\n",
    "            as_index=False,\n",
    "        )[[\"shn_route\", \"District\", \"pct_route_on_hwy\"]]\n",
    "        .agg(\n",
    "            {\n",
    "                \"shn_route\": lambda x: \", \".join(set(x.astype(str))),\n",
    "                \"District\": lambda x: \", \".join(set(x.astype(str))),\n",
    "                \"pct_route_on_hwy\": pct_route_on_hwy_agg,\n",
    "            }\n",
    "        )\n",
    "        .reset_index(drop=True)\n",
    "    )\n",
    "    return agg1"
   ]
  },
  {
   "cell_type": "code",
   "execution_count": null,
   "id": "49ef0c20-a178-41aa-ac2b-3c2ee10a5105",
   "metadata": {},
   "outputs": [],
   "source": [
    "# group_route_district()"
   ]
  },
  {
   "cell_type": "code",
   "execution_count": null,
   "id": "2a0f3f1c-5906-43db-a1c4-a3c44a514349",
   "metadata": {},
   "outputs": [],
   "source": [
    "def create_on_shs_column(df):\n",
    "    df[\"on_shs\"] = np.where(df[\"pct_route_on_hwy\"] == 0, \"N\", \"Y\")\n",
    "    return df"
   ]
  },
  {
   "cell_type": "code",
   "execution_count": null,
   "id": "8257de8b-8a94-477c-9e4b-9aed7a8a446b",
   "metadata": {
    "tags": []
   },
   "outputs": [],
   "source": [
    "def prep_open_data_portal(gdf: gpd.GeoDataFrame) -> pd.DataFrame:\n",
    "    \"\"\"\n",
    "    Prepare the gdf to join with the existing transit_routes\n",
    "    dataframe that is published on the Open Data Portal\n",
    "    \"\"\"\n",
    "    # Group the dataframe so that one route only has one\n",
    "    # row instead of multiple rows after finding its\n",
    "    # intersection with any SHN routes.\n",
    "    # Sum up the percentage of a transit route that\n",
    "    # intersects with the highway.\n",
    "    agg1 = group_route_district(gdf, \"sum\")\n",
    "\n",
    "    # Add yes/no column to signify if a transit route intersects\n",
    "    # with a SHN route\n",
    "    agg1 = create_on_shs_column(agg1)\n",
    "    return agg1"
   ]
  },
  {
   "cell_type": "code",
   "execution_count": null,
   "id": "b555caba-52fc-4253-bea1-8e1da0f7bd1e",
   "metadata": {
    "tags": []
   },
   "outputs": [],
   "source": [
    "open_data_portal_df = prep_open_data_portal(intersecting)"
   ]
  },
  {
   "cell_type": "code",
   "execution_count": null,
   "id": "2a79984b-1f0f-4ca3-99b2-7e1fbdbce1c7",
   "metadata": {
    "tags": []
   },
   "outputs": [],
   "source": [
    "open_data_portal_df.on_shs.value_counts()"
   ]
  },
  {
   "cell_type": "code",
   "execution_count": null,
   "id": "5af04ee4-5d19-4443-947e-e20c7108a74a",
   "metadata": {
    "tags": []
   },
   "outputs": [],
   "source": [
    "open_data_portal_df.loc[open_data_portal_df.on_shs == \"Y\"].pct_route_on_hwy.describe()"
   ]
  },
  {
   "cell_type": "code",
   "execution_count": null,
   "id": "39020051-ccba-46f5-b612-588bdc5c9410",
   "metadata": {
    "tags": []
   },
   "outputs": [],
   "source": [
    "open_data_portal_df.loc[open_data_portal_df.on_shs == \"N\"].pct_route_on_hwy.describe()"
   ]
  },
  {
   "cell_type": "code",
   "execution_count": null,
   "id": "36226282-1c27-4677-8b8e-f0f60cfdc216",
   "metadata": {
    "tags": []
   },
   "outputs": [],
   "source": [
    "open_data_portal_df.sample(10)"
   ]
  },
  {
   "cell_type": "markdown",
   "id": "9f9296aa-d0a9-45c3-b8a9-43872d1614dd",
   "metadata": {},
   "source": [
    "## Create final dataframes for portfolio"
   ]
  },
  {
   "cell_type": "code",
   "execution_count": null,
   "id": "49c144fd-c909-464d-a8ac-790ddc608201",
   "metadata": {
    "tags": []
   },
   "outputs": [],
   "source": [
    "open_data_portal_df.District.unique()"
   ]
  },
  {
   "cell_type": "code",
   "execution_count": null,
   "id": "b8bbd0d5-6d96-4e31-8c61-9ccbc1699ee3",
   "metadata": {
    "tags": []
   },
   "outputs": [],
   "source": [
    "def categorize_percentiles(df):\n",
    "    bins = [20, 41, 61, 81, np.inf]\n",
    "    labels = ['20-40', '41-60', '61-80', '81-100']\n",
    "    df['percentile_route'] = pd.cut(df['pct_route_on_hwy'], \n",
    "                                    bins=bins, labels=labels, right=False).astype(str)\n",
    "    return df"
   ]
  },
  {
   "cell_type": "code",
   "execution_count": null,
   "id": "31c72996-a662-4278-9bad-f71f9d4c440e",
   "metadata": {
    "tags": []
   },
   "outputs": [],
   "source": [
    "def final_transit_route_shs_outputs(\n",
    "    intersecting_gdf: gpd.GeoDataFrame,\n",
    "    open_data_df: pd.DataFrame,\n",
    "    pct_route_intersection: int,\n",
    "    district: str,\n",
    "):\n",
    "    \"\"\"\n",
    "    Take the dataframes from prep_open_data_portal and routes_shn_intersection.\n",
    "    Prepare them for display on the GTFS Caltrans District Digest.\n",
    "\n",
    "    intersecting_gdf: geodataframe created by\n",
    "    open_data_df: dataframe created by\n",
    "    pct_route_intersection: cutoff of the % of the transit route intersecting with the SHN\n",
    "    district: the Caltrans district we are interested in.\n",
    "    \"\"\"\n",
    "    # Filter out for any pct_route_on_hwy that we deem too low & for the relevant district.\n",
    "    open_data_df = open_data_df.loc[\n",
    "        (open_data_df.pct_route_on_hwy > pct_route_intersection)\n",
    "        & (open_data_df.District.str.contains(district))\n",
    "    ]\n",
    "    intersecting_gdf.District = intersecting_gdf.District.astype(str)\n",
    "    intersecting_gdf = intersecting_gdf.loc[\n",
    "        intersecting_gdf.District.str.contains(district)\n",
    "    ]\n",
    "\n",
    "    # Join back to get the original transit route geometries and the names of the\n",
    "    # state highways these routes intersect with. This gdf will be used to\n",
    "    # display a map.\n",
    "    map_gdf = pd.merge(\n",
    "        intersecting_gdf[\n",
    "            [\"portfolio_organization_name\", \"recent_combined_name\", \"geometry\"]\n",
    "        ].drop_duplicates(),\n",
    "        open_data_df,\n",
    "        on=[\"portfolio_organization_name\", \"recent_combined_name\"],\n",
    "    )\n",
    "\n",
    "    # Add column for color scale when mapping \n",
    "    map_gdf = categorize_percentiles(map_gdf)\n",
    "    # We want a text table to display.\n",
    "    # Have to rejoin and to find only the SHN routes that are in the district\n",
    "    # we are interested in.\n",
    "    text_table_df = pd.merge(\n",
    "        intersecting_gdf[\n",
    "            [\n",
    "                \"portfolio_organization_name\",\n",
    "                \"recent_combined_name\",\n",
    "                \"shn_route\",\n",
    "                \"District\",\n",
    "            ]\n",
    "        ],\n",
    "        open_data_df[\n",
    "            [\"portfolio_organization_name\", \"recent_combined_name\", \"pct_route_on_hwy\"]\n",
    "        ],\n",
    "        on=[\"portfolio_organization_name\", \"recent_combined_name\"],\n",
    "    )\n",
    "\n",
    "    # Now we have to aggregate again so each route will only have one row with the\n",
    "    # district and SHN route info delinated by commas if there are multiple values.\n",
    "    text_table = group_route_district(text_table_df, \"max\")\n",
    "\n",
    "    # Rename for clarity\n",
    "    text_table = text_table.rename(\n",
    "        columns={\n",
    "            \"shn_route\": f\"shn_routes_in_d_{district}\",\n",
    "            \"pct_route_on_hwy\": \"pct_route_on_hwy_across_districts\",\n",
    "        }\n",
    "    )\n",
    "    return map_gdf, text_table"
   ]
  },
  {
   "cell_type": "markdown",
   "id": "b3454e29-3b17-49c6-b692-5467a1211058",
   "metadata": {},
   "source": [
    "### Example using 100 Bakersfield - Lancaster which crosses D6, D7, D9"
   ]
  },
  {
   "cell_type": "code",
   "execution_count": null,
   "id": "9ce2810a-c58d-4f0e-8a06-d10e39cac140",
   "metadata": {
    "tags": []
   },
   "outputs": [],
   "source": [
    "map_gdf_d7, text_df_d7 = final_transit_route_shs_outputs(\n",
    "    intersecting, open_data_portal_df, 20, \"7\"\n",
    ")"
   ]
  },
  {
   "cell_type": "code",
   "execution_count": null,
   "id": "62a9b9ef-c6a9-4fd1-be7e-fdf826276600",
   "metadata": {
    "tags": []
   },
   "outputs": [],
   "source": [
    "map_gdf_d9, text_df_d9 = final_transit_route_shs_outputs(\n",
    "    intersecting, open_data_portal_df, 20, \"9\"\n",
    ")"
   ]
  },
  {
   "cell_type": "code",
   "execution_count": null,
   "id": "2e44da32-07ba-45bb-b675-3c06b69ca4d4",
   "metadata": {
    "tags": []
   },
   "outputs": [],
   "source": [
    "text_df_d7.loc[text_df_d7.recent_combined_name == \"100 Bakersfield - Lancaster\"]"
   ]
  },
  {
   "cell_type": "code",
   "execution_count": null,
   "id": "71a3d332-54b7-41cb-ba6f-840cf615972c",
   "metadata": {
    "tags": []
   },
   "outputs": [],
   "source": [
    "text_df_d6.loc[text_df_d6.recent_combined_name == \"100 Bakersfield - Lancaster\"]"
   ]
  },
  {
   "cell_type": "code",
   "execution_count": null,
   "id": "c9cca9da-a6f4-43a0-be1f-68e1e29e050b",
   "metadata": {
    "tags": []
   },
   "outputs": [],
   "source": [
    "text_df_d9.loc[text_df_d9.recent_combined_name == \"100 Bakersfield - Lancaster\"]"
   ]
  },
  {
   "cell_type": "markdown",
   "id": "b11f2a17-cbfd-43b1-9f52-381aa7cac8d7",
   "metadata": {},
   "source": [
    "## Sample Map\n",
    "* This will be displayed by each Caltrans District as opposed to this sample which shows all the routes across the state that touch a state highway."
   ]
  },
  {
   "cell_type": "markdown",
   "id": "fee82333-2d3d-420c-ba47-b424634dc5d0",
   "metadata": {},
   "source": [
    "* Read in the buffered SHN file and dissolve it again so it's only one row, since we don't care about each individual state route.\n",
    "* Amanda, note to self: should save this out to GCS because there's no point in dissolving over & over again\n",
    "* Bug in geopandas [documented here](https://github.com/geopandas/geopandas/issues/3194), you can't specify a column and color."
   ]
  },
  {
   "cell_type": "code",
   "execution_count": null,
   "id": "9b0224b6-fbec-4ece-9105-7c0ff4659b60",
   "metadata": {
    "tags": []
   },
   "outputs": [],
   "source": [
    "GCS_FILE_PATH = \"gs://calitp-analytics-data/data-analyses/state_highway_network/\"\n",
    "\n",
    "# Read in buffered shn here or re buffer\n",
    "HWY_FILE = (\n",
    "    f\"{GCS_FILE_PATH}shn_buffered_{SHN_HWY_BUFFER_FEET}_ft_ct_district_route.parquet\"\n",
    ")"
   ]
  },
  {
   "cell_type": "code",
   "execution_count": null,
   "id": "cfb4fbe1-abf0-47f7-84ad-715272cd07fa",
   "metadata": {
    "tags": []
   },
   "outputs": [],
   "source": [
    "shn_gdf = gpd.read_parquet(HWY_FILE, storage_options={\"token\": credentials.token})"
   ]
  },
  {
   "cell_type": "code",
   "execution_count": null,
   "id": "b40e60f9-d716-4dac-b038-9329667003a2",
   "metadata": {
    "tags": []
   },
   "outputs": [],
   "source": [
    "len(shn_gdf)"
   ]
  },
  {
   "cell_type": "code",
   "execution_count": null,
   "id": "784c6f22-2e5c-4096-8196-b90e06b70393",
   "metadata": {
    "tags": []
   },
   "outputs": [],
   "source": [
    "shn_gdf2 = shn_gdf.dissolve(\"District\").reset_index()"
   ]
  },
  {
   "cell_type": "code",
   "execution_count": null,
   "id": "aa3d418c-cecd-4606-8265-b8db2d80c623",
   "metadata": {
    "tags": []
   },
   "outputs": [],
   "source": [
    "len(shn_gdf2)"
   ]
  },
  {
   "cell_type": "code",
   "execution_count": null,
   "id": "120b5b9a-a74d-4d5c-b729-867b0699d7f9",
   "metadata": {
    "tags": []
   },
   "outputs": [],
   "source": [
    "shn_gdf2.columns"
   ]
  },
  {
   "cell_type": "code",
   "execution_count": null,
   "id": "eefd3209-e7e8-462c-b815-eb9413e09eba",
   "metadata": {
    "tags": []
   },
   "outputs": [],
   "source": [
    "shn_gdf2.District.unique()"
   ]
  },
  {
   "cell_type": "code",
   "execution_count": null,
   "id": "bf641b85-801b-45fe-8702-44758f1fdabe",
   "metadata": {
    "tags": []
   },
   "outputs": [],
   "source": [
    "m = shn_gdf2.loc[shn_gdf2.District == 7].explore(\n",
    "    height=500,\n",
    "    width=1000,\n",
    "    style_kwds={\"color\": \"#9DA4A6\", \"weight\": 6, \"opacity\": 0.5},\n",
    "    tiles=\"CartoDB positron\",\n",
    "    name=\"shs\",\n",
    ")"
   ]
  },
  {
   "cell_type": "code",
   "execution_count": null,
   "id": "61725848-1990-477b-bdfc-d8f8b29a1ae0",
   "metadata": {
    "tags": []
   },
   "outputs": [],
   "source": [
    "cmap_colors = [ \"#93c3db\", \"#144c87\", \"#8c1024\", \"#e4846c\",]"
   ]
  },
  {
   "cell_type": "code",
   "execution_count": null,
   "id": "94249045-af30-4fa0-b5d3-c795962c70d3",
   "metadata": {
    "tags": []
   },
   "outputs": [],
   "source": [
    "map_gdf_d7.explore(\"percentile_route\", m=m, categorical = True, cmap = cmap_colors, legend = True)"
   ]
  },
  {
   "cell_type": "markdown",
   "id": "cfaab31a-f770-4c72-bedc-5e6201cdfabe",
   "metadata": {
    "tags": []
   },
   "source": [
    "### Sample Text Table"
   ]
  },
  {
   "cell_type": "code",
   "execution_count": null,
   "id": "c668f18c-f69a-458c-bbdf-9f4816236d44",
   "metadata": {
    "tags": []
   },
   "outputs": [],
   "source": [
    "text_df_d7.sort_values(by = [\"pct_route_on_hwy_across_districts\"], ascending = False).head()"
   ]
  }
 ],
 "metadata": {
  "kernelspec": {
   "display_name": "Python 3 (ipykernel)",
   "language": "python",
   "name": "python3"
  },
  "language_info": {
   "codemirror_mode": {
    "name": "ipython",
    "version": 3
   },
   "file_extension": ".py",
   "mimetype": "text/x-python",
   "name": "python",
   "nbconvert_exporter": "python",
   "pygments_lexer": "ipython3",
   "version": "3.11.10"
  }
 },
 "nbformat": 4,
 "nbformat_minor": 5
}
