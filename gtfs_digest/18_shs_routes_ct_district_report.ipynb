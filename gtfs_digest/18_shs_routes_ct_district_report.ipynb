{
 "cells": [
  {
   "cell_type": "markdown",
   "id": "41619139-2e85-4914-a0c0-cb390c36b94c",
   "metadata": {},
   "source": [
    "# Transit On the SHN \n",
    "* [GH Issue](https://github.com/cal-itp/data-analyses/issues/1477)\n"
   ]
  },
  {
   "cell_type": "code",
   "execution_count": 2,
   "id": "f6b01cd8-ccda-4d2a-9c64-9cca36e0713c",
   "metadata": {},
   "outputs": [],
   "source": [
    "import geopandas as gpd\n",
    "import google.auth\n",
    "import numpy as np\n",
    "import pandas as pd\n",
    "\n",
    "credentials, project = google.auth.default()\n",
    "\n",
    "import gcsfs\n",
    "\n",
    "fs = gcsfs.GCSFileSystem()"
   ]
  },
  {
   "cell_type": "code",
   "execution_count": 3,
   "id": "ec246873-6121-4544-8d62-f71dec06352e",
   "metadata": {
    "tags": []
   },
   "outputs": [],
   "source": [
    "from calitp_data_analysis import geography_utils, utils\n",
    "from segment_speed_utils import gtfs_schedule_wrangling, helpers\n",
    "from shared_utils import (\n",
    "    catalog_utils,\n",
    "    dask_utils,\n",
    "    gtfs_utils_v2,\n",
    "    portfolio_utils,\n",
    "    publish_utils,\n",
    "    rt_dates,\n",
    "    rt_utils,\n",
    ")\n",
    "from update_vars import GTFS_DATA_DICT, RT_SCHED_GCS, SCHED_GCS, SEGMENT_GCS"
   ]
  },
  {
   "cell_type": "code",
   "execution_count": 4,
   "id": "ffeaad35-64a6-4b16-a93d-ac4a0759288a",
   "metadata": {
    "tags": []
   },
   "outputs": [],
   "source": [
    "pd.options.display.max_columns = 100\n",
    "pd.options.display.float_format = \"{:.2f}\".format\n",
    "pd.set_option(\"display.max_rows\", None)\n",
    "pd.set_option(\"display.max_colwidth\", None)"
   ]
  },
  {
   "cell_type": "code",
   "execution_count": 5,
   "id": "1771ea96-ce3b-415f-88f5-8ed54a9b6a5c",
   "metadata": {
    "tags": []
   },
   "outputs": [],
   "source": [
    "def process_transit_routes() -> gpd.GeoDataFrame:\n",
    "    \"\"\"\n",
    "    Select the most recent transit route to\n",
    "    figure out how much of it intersects with\n",
    "    the state highway network.\n",
    "    \"\"\"\n",
    "    # Load in the route shapes.\n",
    "    OPERATOR_ROUTE = GTFS_DATA_DICT.digest_tables.operator_routes_map\n",
    "\n",
    "    subset = [\n",
    "        \"service_date\",\n",
    "        \"geometry\",\n",
    "        \"portfolio_organization_name\",\n",
    "        \"recent_combined_name\",\n",
    "        # \"route_id\",\n",
    "    ]\n",
    "    op_geography_df = gpd.read_parquet(\n",
    "        f\"{RT_SCHED_GCS}{OPERATOR_ROUTE}.parquet\",\n",
    "        storage_options={\"token\": credentials.token},\n",
    "    )[subset]\n",
    "\n",
    "    # Keep the row for each portfolio_organization_name/recent_combined_name\n",
    "    # that is the most recent.\n",
    "    most_recent_routes = publish_utils.filter_to_recent_date(\n",
    "        df=op_geography_df,\n",
    "        group_cols=[\n",
    "            \"portfolio_organization_name\",\n",
    "        ],\n",
    "    )\n",
    "\n",
    "    # Calculate the length of route, ensuring that it is in feet.\n",
    "    most_recent_routes = most_recent_routes.assign(\n",
    "        route_length_feet=most_recent_routes.geometry.to_crs(\n",
    "            geography_utils.CA_NAD83Albers_ft\n",
    "        ).length\n",
    "    )\n",
    "\n",
    "    # Drop any duplicates.\n",
    "    # This will probably be taken out once the 1:m recent_combined_name\n",
    "    # to route_id issue is resolved.\n",
    "    most_recent_routes = most_recent_routes.drop_duplicates(\n",
    "        subset=[\"portfolio_organization_name\", \"recent_combined_name\", \"service_date\"]\n",
    "    )\n",
    "    return most_recent_routes"
   ]
  },
  {
   "cell_type": "code",
   "execution_count": 6,
   "id": "dc878ec3-d196-4e85-bd5d-9960874476ed",
   "metadata": {
    "tags": []
   },
   "outputs": [],
   "source": [
    "# transit_routes = process_transit_routes()"
   ]
  },
  {
   "cell_type": "code",
   "execution_count": 7,
   "id": "c7a5c057-9789-447c-a0e4-20ca56bddea0",
   "metadata": {
    "tags": []
   },
   "outputs": [],
   "source": [
    "# transit_routes.drop(columns=[\"geometry\"]).sample(3)"
   ]
  },
  {
   "cell_type": "code",
   "execution_count": 8,
   "id": "b0490311-308d-4894-9776-301cb4cad658",
   "metadata": {
    "tags": []
   },
   "outputs": [],
   "source": [
    "# len(transit_routes)"
   ]
  },
  {
   "cell_type": "code",
   "execution_count": 9,
   "id": "15c7b3ee-b927-49ed-a5be-43918c97bfdf",
   "metadata": {
    "tags": []
   },
   "outputs": [],
   "source": [
    "# transit_routes.recent_combined_name.value_counts().head()"
   ]
  },
  {
   "cell_type": "code",
   "execution_count": 10,
   "id": "c190ae33-bf44-4e94-a614-b4f01ead288b",
   "metadata": {
    "tags": []
   },
   "outputs": [],
   "source": [
    "# transit_routes.portfolio_organization_name.value_counts().head()"
   ]
  },
  {
   "cell_type": "markdown",
   "id": "458212e5-3cb6-476b-8768-3a2d6d4ce494",
   "metadata": {
    "tags": []
   },
   "source": [
    "## Load in SHS \n"
   ]
  },
  {
   "cell_type": "code",
   "execution_count": 11,
   "id": "3e081d5e-43f5-4298-b98a-cd89390117be",
   "metadata": {
    "tags": []
   },
   "outputs": [],
   "source": [
    "def dissolve_shn(columns_to_dissolve: list, file_name: str) -> gpd.GeoDataFrame:\n",
    "    \"\"\"\n",
    "    Dissolve State Highway Network so there will only be one row for each\n",
    "    route name and route type\n",
    "    \"\"\"\n",
    "    # Read in the dataset and change the CRS to one to feet.\n",
    "    SHN_FILE = catalog_utils.get_catalog(\n",
    "        \"shared_data_catalog\"\n",
    "    ).state_highway_network.urlpath\n",
    "\n",
    "    shn = gpd.read_parquet(\n",
    "        SHN_FILE,\n",
    "        storage_options={\"token\": credentials.token},\n",
    "    ).to_crs(geography_utils.CA_NAD83Albers_ft)\n",
    "\n",
    "    # Dissolve by route which represents the the route's name and drop the other columns\n",
    "    # because they are no longer relevant.\n",
    "    shn_dissolved = (shn.dissolve(by=columns_to_dissolve).reset_index())[\n",
    "        columns_to_dissolve + [\"geometry\"]\n",
    "    ]\n",
    "\n",
    "    # Rename because I don't want any confusion between SHN route and\n",
    "    # transit route.\n",
    "    shn_dissolved = shn_dissolved.rename(columns={\"Route\": \"shn_route\"})\n",
    "\n",
    "    # Find the length of each highway.\n",
    "    shn_dissolved = shn_dissolved.assign(\n",
    "        highway_feet=shn_dissolved.geometry.length,\n",
    "        shn_route=shn_dissolved.shn_route.astype(int).astype(str),\n",
    "    )\n",
    "\n",
    "    # Save this out so I don't have to dissolve it each time.\n",
    "    shn_dissolved.to_parquet(\n",
    "        f\"gs://calitp-analytics-data/data-analyses/state_highway_network/shn_dissolved_by_{file_name}.parquet\",\n",
    "        filesystem=fs,\n",
    "    )\n",
    "    return shn_dissolved"
   ]
  },
  {
   "cell_type": "code",
   "execution_count": 12,
   "id": "b2d43e08-f0d0-4c17-b55b-2c7d509c2ddb",
   "metadata": {
    "tags": []
   },
   "outputs": [],
   "source": [
    "dissolved_route = dissolve_shn([\"Route\", \"District\"], \"ct_district_route\")"
   ]
  },
  {
   "cell_type": "code",
   "execution_count": 13,
   "id": "4ee38095-fcf9-4b6f-ae73-b417034990ca",
   "metadata": {
    "tags": []
   },
   "outputs": [
    {
     "data": {
      "text/plain": [
       "array(['1', '2', '3', '4', '5', '6', '7', '8', '9', '10', '11', '12',\n",
       "       '13', '14', '15', '16', '17', '18', '20', '22', '23', '24', '25',\n",
       "       '26', '27', '28', '29', '32', '33', '34', '35', '36', '37', '38',\n",
       "       '39', '40', '41', '43', '44', '45', '46', '47', '49', '50', '51',\n",
       "       '52', '53', '54', '55', '56', '57', '58', '59', '60', '61', '62',\n",
       "       '63', '65', '66', '67', '68', '70', '71', '72', '73', '74', '75',\n",
       "       '76', '77', '78', '79', '80', '82', '83', '84', '85', '86', '87',\n",
       "       '88', '89', '90', '91', '92', '94', '95', '96', '97', '98', '99',\n",
       "       '101', '103', '104', '105', '107', '108', '109', '110', '111',\n",
       "       '112', '113', '114', '115', '116', '118', '119', '120', '121',\n",
       "       '123', '124', '125', '126', '127', '128', '129', '130', '131',\n",
       "       '132', '133', '134', '135', '136', '137', '138', '139', '140',\n",
       "       '142', '144', '145', '146', '147', '149', '150', '151', '152',\n",
       "       '153', '154', '155', '156', '158', '160', '161', '162', '163',\n",
       "       '164', '165', '166', '167', '168', '169', '170', '172', '173',\n",
       "       '174', '175', '177', '178', '180', '182', '183', '184', '185',\n",
       "       '186', '187', '188', '189', '190', '191', '192', '193', '197',\n",
       "       '198', '199', '200', '201', '202', '203', '204', '205', '207',\n",
       "       '210', '211', '213', '215', '216', '217', '218', '219', '220',\n",
       "       '221', '222', '223', '227', '229', '232', '233', '236', '237',\n",
       "       '238', '241', '242', '243', '244', '245', '246', '247', '253',\n",
       "       '254', '255', '259', '260', '261', '262', '263', '265', '266',\n",
       "       '267', '269', '270', '271', '273', '275', '280', '281', '282',\n",
       "       '283', '284', '299', '330', '371', '380', '395', '405', '505',\n",
       "       '580', '605', '680', '710', '780', '805', '880', '905', '980'],\n",
       "      dtype=object)"
      ]
     },
     "execution_count": 13,
     "metadata": {},
     "output_type": "execute_result"
    }
   ],
   "source": [
    "dissolved_route.shn_route.unique()"
   ]
  },
  {
   "cell_type": "code",
   "execution_count": 14,
   "id": "4d2d3727-e2f7-4eae-af62-539c96cba02f",
   "metadata": {
    "scrolled": true,
    "tags": []
   },
   "outputs": [],
   "source": [
    "# shn_dissolved.loc[shn_dissolved.shn_route == 210].drop(columns=[\"geometry\"])"
   ]
  },
  {
   "cell_type": "code",
   "execution_count": 15,
   "id": "045892dc-1094-42ec-9267-a1800387f1bf",
   "metadata": {
    "tags": []
   },
   "outputs": [],
   "source": [
    "# shn_dissolved.loc[shn_dissolved.shn_route == 110].drop(columns=[\"geometry\"])"
   ]
  },
  {
   "cell_type": "code",
   "execution_count": 16,
   "id": "9d5c54c5-b055-4251-baea-20a45b47c41c",
   "metadata": {
    "scrolled": true,
    "tags": []
   },
   "outputs": [],
   "source": [
    "# shn_dissolved.loc[shn_dissolved.Route == 210].explore()"
   ]
  },
  {
   "cell_type": "code",
   "execution_count": 17,
   "id": "a0f23cb6-4a7c-4a86-b0d3-3bcad379a9f2",
   "metadata": {
    "tags": []
   },
   "outputs": [],
   "source": [
    "# shn_dissolved.loc[shn_dissolved.Route == 110].explore()"
   ]
  },
  {
   "cell_type": "code",
   "execution_count": 18,
   "id": "0be8698f-226a-40e3-ab00-394b5c205123",
   "metadata": {
    "tags": []
   },
   "outputs": [],
   "source": [
    "# len(dissolved)"
   ]
  },
  {
   "cell_type": "code",
   "execution_count": 19,
   "id": "d3dc507a-7bb1-4d6b-81b2-b2e1b250cd05",
   "metadata": {
    "tags": []
   },
   "outputs": [],
   "source": [
    "def buffer_shn(buffer_amount: int, file_name: str) -> gpd.GeoDataFrame:\n",
    "    \"\"\"\n",
    "    Add a buffer to the SHN before overlaying it with\n",
    "    transit routes.\n",
    "    \"\"\"\n",
    "    GCS_FILE_PATH = \"gs://calitp-analytics-data/data-analyses/state_highway_network/\"\n",
    "\n",
    "    # Read in the dissolved SHN file\n",
    "    shn_df = gpd.read_parquet(\n",
    "        f\"{GCS_FILE_PATH}shn_dissolved_by_{file_name}.parquet\",\n",
    "        storage_options={\"token\": credentials.token},\n",
    "    )\n",
    "\n",
    "    # Buffer the state highway.\n",
    "    shn_df_buffered = shn_df.assign(\n",
    "        geometry=shn_df.geometry.buffer(buffer_amount),\n",
    "    )\n",
    "\n",
    "    # Save it out so we won't have to buffer over again and\n",
    "    # can just read it in.\n",
    "    shn_df_buffered.to_parquet(\n",
    "        f\"{GCS_FILE_PATH}shn_buffered_{buffer_amount}_ft_{file_name}.parquet\",\n",
    "        filesystem=fs,\n",
    "    )\n",
    "\n",
    "    return shn_df_buffered"
   ]
  },
  {
   "cell_type": "code",
   "execution_count": 20,
   "id": "495541e6-2344-4dab-95e9-00d9c66be124",
   "metadata": {
    "tags": []
   },
   "outputs": [],
   "source": [
    "SHN_HWY_BUFFER_FEET = 50\n",
    "PARALLEL_HWY_BUFFER_FEET = geography_utils.FEET_PER_MI * 0.5"
   ]
  },
  {
   "cell_type": "code",
   "execution_count": 21,
   "id": "0598e1da-3f56-4415-b68b-63e12ff5109d",
   "metadata": {
    "tags": []
   },
   "outputs": [],
   "source": [
    "# intersecting_buffer.shape"
   ]
  },
  {
   "cell_type": "code",
   "execution_count": 22,
   "id": "7011b56d-a411-4178-8d9d-5aed53dae8b2",
   "metadata": {
    "tags": []
   },
   "outputs": [],
   "source": [
    "# buffered_df = buffer_shn(SHN_HWY_BUFFER_FEET, \"ct_district_route\")"
   ]
  },
  {
   "cell_type": "code",
   "execution_count": 23,
   "id": "5fa7355f-ef54-42dc-adef-90bba2afdc34",
   "metadata": {
    "tags": []
   },
   "outputs": [],
   "source": [
    "# buffered_df.loc[buffered_df.shn_route == 5].explore()"
   ]
  },
  {
   "cell_type": "code",
   "execution_count": 24,
   "id": "673b6c64-1667-4e19-bcad-231293cb643e",
   "metadata": {
    "tags": []
   },
   "outputs": [],
   "source": [
    "shn_district_df = gpd.read_parquet(\n",
    "    f\"gs://calitp-analytics-data/data-analyses/state_highway_network/shn_buffered_50_ft_ct_district_route.parquet\",\n",
    "    storage_options={\"token\": credentials.token},\n",
    ")"
   ]
  },
  {
   "cell_type": "code",
   "execution_count": 25,
   "id": "857a24b9-c5fd-4808-9dc3-0d0953ccc53e",
   "metadata": {
    "tags": []
   },
   "outputs": [
    {
     "data": {
      "text/plain": [
       "(344, 4)"
      ]
     },
     "execution_count": 25,
     "metadata": {},
     "output_type": "execute_result"
    }
   ],
   "source": [
    "shn_district_df.shape"
   ]
  },
  {
   "cell_type": "code",
   "execution_count": 26,
   "id": "4efb0f3c-00ef-49fe-b4b5-8b66a5f7dafe",
   "metadata": {
    "tags": []
   },
   "outputs": [
    {
     "data": {
      "text/html": [
       "<div>\n",
       "<style scoped>\n",
       "    .dataframe tbody tr th:only-of-type {\n",
       "        vertical-align: middle;\n",
       "    }\n",
       "\n",
       "    .dataframe tbody tr th {\n",
       "        vertical-align: top;\n",
       "    }\n",
       "\n",
       "    .dataframe thead th {\n",
       "        text-align: right;\n",
       "    }\n",
       "</style>\n",
       "<table border=\"1\" class=\"dataframe\">\n",
       "  <thead>\n",
       "    <tr style=\"text-align: right;\">\n",
       "      <th></th>\n",
       "      <th>shn_route</th>\n",
       "      <th>District</th>\n",
       "      <th>highway_feet</th>\n",
       "    </tr>\n",
       "  </thead>\n",
       "  <tbody>\n",
       "    <tr>\n",
       "      <th>199</th>\n",
       "      <td>138</td>\n",
       "      <td>8</td>\n",
       "      <td>201549.35</td>\n",
       "    </tr>\n",
       "    <tr>\n",
       "      <th>262</th>\n",
       "      <td>199</td>\n",
       "      <td>1</td>\n",
       "      <td>235912.88</td>\n",
       "    </tr>\n",
       "    <tr>\n",
       "      <th>211</th>\n",
       "      <td>151</td>\n",
       "      <td>2</td>\n",
       "      <td>43383.23</td>\n",
       "    </tr>\n",
       "  </tbody>\n",
       "</table>\n",
       "</div>"
      ],
      "text/plain": [
       "    shn_route  District  highway_feet\n",
       "199       138         8     201549.35\n",
       "262       199         1     235912.88\n",
       "211       151         2      43383.23"
      ]
     },
     "execution_count": 26,
     "metadata": {},
     "output_type": "execute_result"
    }
   ],
   "source": [
    "shn_district_df.drop(columns=[\"geometry\"]).sample(3)"
   ]
  },
  {
   "cell_type": "code",
   "execution_count": 27,
   "id": "94df1985-37bb-4ec5-8780-ebf456652681",
   "metadata": {
    "tags": []
   },
   "outputs": [
    {
     "name": "stdout",
     "output_type": "stream",
     "text": [
      "<class 'geopandas.geodataframe.GeoDataFrame'>\n",
      "RangeIndex: 344 entries, 0 to 343\n",
      "Data columns (total 4 columns):\n",
      " #   Column        Non-Null Count  Dtype   \n",
      "---  ------        --------------  -----   \n",
      " 0   shn_route     344 non-null    object  \n",
      " 1   District      344 non-null    int64   \n",
      " 2   geometry      344 non-null    geometry\n",
      " 3   highway_feet  344 non-null    float64 \n",
      "dtypes: float64(1), geometry(1), int64(1), object(1)\n",
      "memory usage: 10.9+ KB\n"
     ]
    }
   ],
   "source": [
    "shn_district_df.info()"
   ]
  },
  {
   "cell_type": "code",
   "execution_count": 28,
   "id": "95d188c3-bdd6-4405-874b-f257a4a0d213",
   "metadata": {
    "tags": []
   },
   "outputs": [],
   "source": [
    "# buffered_df.columns"
   ]
  },
  {
   "cell_type": "markdown",
   "id": "87361842-5147-4802-bc32-063cd249b5f0",
   "metadata": {},
   "source": [
    "## Overlay"
   ]
  },
  {
   "cell_type": "code",
   "execution_count": 29,
   "id": "e58e7e81-684e-46b9-96cb-3c9f0643e113",
   "metadata": {
    "tags": []
   },
   "outputs": [],
   "source": [
    "def routes_shn_intersection(buffer_amount: int, file_name: str) -> gpd.GeoDataFrame:\n",
    "    \"\"\"\n",
    "    Overlay the most recent transit routes with a buffered version\n",
    "    of the SHN\n",
    "    \"\"\"\n",
    "    GCS_FILE_PATH = \"gs://calitp-analytics-data/data-analyses/state_highway_network/\"\n",
    "\n",
    "    # Read in buffered shn here or re buffer if we don't have it available.\n",
    "    HWY_FILE = f\"{GCS_FILE_PATH}shn_buffered_{buffer_amount}_ft_{file_name}.parquet\"\n",
    "\n",
    "    if fs.exists(HWY_FILE):\n",
    "        shn_routes_gdf = gpd.read_parquet(\n",
    "            HWY_FILE, storage_options={\"token\": credentials.token}\n",
    "        )\n",
    "    else:\n",
    "        shn_routes_gdf = buffer_shn(buffer_amount)\n",
    "\n",
    "    # Process the most recent transit route geographies and ensure the\n",
    "    # CRS matches the SHN routes' GDF so the overlay doesn't go wonky.\n",
    "    transit_routes_gdf = process_transit_routes().to_crs(shn_routes_gdf.crs)\n",
    "\n",
    "    # Overlay transit routes with the SHN geographies.\n",
    "    gdf = gpd.overlay(\n",
    "        transit_routes_gdf, shn_routes_gdf, how=\"intersection\", keep_geom_type=True\n",
    "    )\n",
    "\n",
    "    # Calcuate the percent of the transit route that runs on a highway, round it up and\n",
    "    # multiply it by 100. Drop the geometry because we want the original transit route\n",
    "    # shapes.\n",
    "    gdf = gdf.assign(\n",
    "        pct_route_on_hwy=(gdf.geometry.length / gdf.route_length_feet).round(3) * 100,\n",
    "    ).drop(\n",
    "        columns=[\n",
    "            \"geometry\",\n",
    "        ]\n",
    "    )\n",
    "\n",
    "    # Join back the dataframe above with the original transit route dataframes\n",
    "    # so we can have the original transit route geographies.\n",
    "    gdf2 = pd.merge(\n",
    "        transit_routes_gdf,\n",
    "        gdf,\n",
    "        on=[\n",
    "            \"service_date\",\n",
    "            \"portfolio_organization_name\",\n",
    "            \"recent_combined_name\",\n",
    "            \"route_length_feet\",\n",
    "        ],\n",
    "        how=\"left\",\n",
    "    )\n",
    "\n",
    "    # Clean up\n",
    "    gdf2.District = gdf2.District.fillna(0).astype(int)\n",
    "    return gdf2"
   ]
  },
  {
   "cell_type": "code",
   "execution_count": 30,
   "id": "385b204c-1215-4fdb-8063-023618b85077",
   "metadata": {
    "tags": []
   },
   "outputs": [],
   "source": [
    "intersecting = routes_shn_intersection(SHN_HWY_BUFFER_FEET, \"ct_district_route\")"
   ]
  },
  {
   "cell_type": "code",
   "execution_count": 31,
   "id": "6c12df00-6b72-427c-9285-d8dd8cb25831",
   "metadata": {
    "tags": []
   },
   "outputs": [
    {
     "name": "stdout",
     "output_type": "stream",
     "text": [
      "<class 'geopandas.geodataframe.GeoDataFrame'>\n",
      "Int64Index: 6788 entries, 0 to 6787\n",
      "Data columns (total 9 columns):\n",
      " #   Column                       Non-Null Count  Dtype         \n",
      "---  ------                       --------------  -----         \n",
      " 0   service_date                 6788 non-null   datetime64[ns]\n",
      " 1   geometry                     6775 non-null   geometry      \n",
      " 2   portfolio_organization_name  6788 non-null   object        \n",
      " 3   recent_combined_name         6788 non-null   object        \n",
      " 4   route_length_feet            6775 non-null   float64       \n",
      " 5   shn_route                    6191 non-null   object        \n",
      " 6   District                     6788 non-null   int64         \n",
      " 7   highway_feet                 6191 non-null   float64       \n",
      " 8   pct_route_on_hwy             6191 non-null   float64       \n",
      "dtypes: datetime64[ns](1), float64(3), geometry(1), int64(1), object(3)\n",
      "memory usage: 530.3+ KB\n"
     ]
    }
   ],
   "source": [
    "intersecting.info()"
   ]
  },
  {
   "cell_type": "code",
   "execution_count": 32,
   "id": "03dfb862-00ec-4d0e-87ce-91800ea0d5c9",
   "metadata": {
    "tags": []
   },
   "outputs": [
    {
     "data": {
      "text/html": [
       "<div>\n",
       "<style scoped>\n",
       "    .dataframe tbody tr th:only-of-type {\n",
       "        vertical-align: middle;\n",
       "    }\n",
       "\n",
       "    .dataframe tbody tr th {\n",
       "        vertical-align: top;\n",
       "    }\n",
       "\n",
       "    .dataframe thead th {\n",
       "        text-align: right;\n",
       "    }\n",
       "</style>\n",
       "<table border=\"1\" class=\"dataframe\">\n",
       "  <thead>\n",
       "    <tr style=\"text-align: right;\">\n",
       "      <th></th>\n",
       "      <th>service_date</th>\n",
       "      <th>portfolio_organization_name</th>\n",
       "      <th>recent_combined_name</th>\n",
       "      <th>shn_route</th>\n",
       "      <th>District</th>\n",
       "      <th>pct_route_on_hwy</th>\n",
       "    </tr>\n",
       "  </thead>\n",
       "  <tbody>\n",
       "    <tr>\n",
       "      <th>4458</th>\n",
       "      <td>2025-04-16</td>\n",
       "      <td>FlixBus and Greyhound</td>\n",
       "      <td>FlixBus N2002 SF - LA - Palm Springs</td>\n",
       "      <td>80</td>\n",
       "      <td>4</td>\n",
       "      <td>2.10</td>\n",
       "    </tr>\n",
       "    <tr>\n",
       "      <th>4774</th>\n",
       "      <td>2025-04-16</td>\n",
       "      <td>FlixBus and Greyhound</td>\n",
       "      <td>Greyhound US0802 San Francisco - Fresno - Los Angeles</td>\n",
       "      <td>110</td>\n",
       "      <td>7</td>\n",
       "      <td>0.00</td>\n",
       "    </tr>\n",
       "    <tr>\n",
       "      <th>4273</th>\n",
       "      <td>2025-04-16</td>\n",
       "      <td>FlixBus and Greyhound</td>\n",
       "      <td>FlixBus 2015 San Diego - San Bernardino - Los Angeles</td>\n",
       "      <td>52</td>\n",
       "      <td>11</td>\n",
       "      <td>0.00</td>\n",
       "    </tr>\n",
       "    <tr>\n",
       "      <th>1567</th>\n",
       "      <td>2025-05-14</td>\n",
       "      <td>Los Angeles World Airports</td>\n",
       "      <td>LAX to US FlyAway - LAX to Union Station</td>\n",
       "      <td>1</td>\n",
       "      <td>7</td>\n",
       "      <td>3.50</td>\n",
       "    </tr>\n",
       "    <tr>\n",
       "      <th>3282</th>\n",
       "      <td>2025-05-14</td>\n",
       "      <td>City and County of San Francisco</td>\n",
       "      <td>28 19TH AVENUE</td>\n",
       "      <td>280</td>\n",
       "      <td>4</td>\n",
       "      <td>0.60</td>\n",
       "    </tr>\n",
       "    <tr>\n",
       "      <th>1372</th>\n",
       "      <td>2025-05-14</td>\n",
       "      <td>University of California, Los Angeles</td>\n",
       "      <td>U4</td>\n",
       "      <td>10</td>\n",
       "      <td>7</td>\n",
       "      <td>0.50</td>\n",
       "    </tr>\n",
       "    <tr>\n",
       "      <th>1796</th>\n",
       "      <td>2025-05-14</td>\n",
       "      <td>San Diego Metropolitan Transit System, Airport, Flagship Cruises</td>\n",
       "      <td>290 Rancho Bernardo Station - Downtown</td>\n",
       "      <td>805</td>\n",
       "      <td>11</td>\n",
       "      <td>0.20</td>\n",
       "    </tr>\n",
       "    <tr>\n",
       "      <th>3707</th>\n",
       "      <td>2025-05-14</td>\n",
       "      <td>OmniTrans</td>\n",
       "      <td>3 San Bdno - Baseline - Highland</td>\n",
       "      <td>210</td>\n",
       "      <td>8</td>\n",
       "      <td>0.60</td>\n",
       "    </tr>\n",
       "    <tr>\n",
       "      <th>4811</th>\n",
       "      <td>2025-04-16</td>\n",
       "      <td>FlixBus and Greyhound</td>\n",
       "      <td>Greyhound US0802 San Francisco - Fresno - Los Angeles</td>\n",
       "      <td>205</td>\n",
       "      <td>4</td>\n",
       "      <td>0.20</td>\n",
       "    </tr>\n",
       "    <tr>\n",
       "      <th>3094</th>\n",
       "      <td>2025-05-14</td>\n",
       "      <td>Yolo County Transportation District</td>\n",
       "      <td>ROUTE 40</td>\n",
       "      <td>5</td>\n",
       "      <td>3</td>\n",
       "      <td>0.60</td>\n",
       "    </tr>\n",
       "  </tbody>\n",
       "</table>\n",
       "</div>"
      ],
      "text/plain": [
       "     service_date  \\\n",
       "4458   2025-04-16   \n",
       "4774   2025-04-16   \n",
       "4273   2025-04-16   \n",
       "1567   2025-05-14   \n",
       "3282   2025-05-14   \n",
       "1372   2025-05-14   \n",
       "1796   2025-05-14   \n",
       "3707   2025-05-14   \n",
       "4811   2025-04-16   \n",
       "3094   2025-05-14   \n",
       "\n",
       "                                           portfolio_organization_name  \\\n",
       "4458                                             FlixBus and Greyhound   \n",
       "4774                                             FlixBus and Greyhound   \n",
       "4273                                             FlixBus and Greyhound   \n",
       "1567                                        Los Angeles World Airports   \n",
       "3282                                  City and County of San Francisco   \n",
       "1372                             University of California, Los Angeles   \n",
       "1796  San Diego Metropolitan Transit System, Airport, Flagship Cruises   \n",
       "3707                                                         OmniTrans   \n",
       "4811                                             FlixBus and Greyhound   \n",
       "3094                               Yolo County Transportation District   \n",
       "\n",
       "                                       recent_combined_name shn_route  \\\n",
       "4458                   FlixBus N2002 SF - LA - Palm Springs        80   \n",
       "4774  Greyhound US0802 San Francisco - Fresno - Los Angeles       110   \n",
       "4273  FlixBus 2015 San Diego - San Bernardino - Los Angeles        52   \n",
       "1567               LAX to US FlyAway - LAX to Union Station         1   \n",
       "3282                                         28 19TH AVENUE       280   \n",
       "1372                                                     U4        10   \n",
       "1796                 290 Rancho Bernardo Station - Downtown       805   \n",
       "3707                       3 San Bdno - Baseline - Highland       210   \n",
       "4811  Greyhound US0802 San Francisco - Fresno - Los Angeles       205   \n",
       "3094                                               ROUTE 40         5   \n",
       "\n",
       "      District  pct_route_on_hwy  \n",
       "4458         4              2.10  \n",
       "4774         7              0.00  \n",
       "4273        11              0.00  \n",
       "1567         7              3.50  \n",
       "3282         4              0.60  \n",
       "1372         7              0.50  \n",
       "1796        11              0.20  \n",
       "3707         8              0.60  \n",
       "4811         4              0.20  \n",
       "3094         3              0.60  "
      ]
     },
     "execution_count": 32,
     "metadata": {},
     "output_type": "execute_result"
    }
   ],
   "source": [
    "intersecting.drop(columns=[\"geometry\", \"route_length_feet\", \"highway_feet\"]).sample(10)"
   ]
  },
  {
   "cell_type": "code",
   "execution_count": 33,
   "id": "20aeafc5-48f6-46d0-9c91-210ff2dcd6a9",
   "metadata": {
    "tags": []
   },
   "outputs": [
    {
     "data": {
      "text/plain": [
       "6788"
      ]
     },
     "execution_count": 33,
     "metadata": {},
     "output_type": "execute_result"
    }
   ],
   "source": [
    "len(intersecting)"
   ]
  },
  {
   "cell_type": "code",
   "execution_count": 34,
   "id": "60c66a8e-1519-4c2c-827c-651af54757f9",
   "metadata": {
    "tags": []
   },
   "outputs": [
    {
     "data": {
      "text/plain": [
       "4008"
      ]
     },
     "execution_count": 34,
     "metadata": {},
     "output_type": "execute_result"
    }
   ],
   "source": [
    "len(\n",
    "    intersecting.loc[\n",
    "        (intersecting.pct_route_on_hwy <= 1) & (intersecting.shn_route.notna())\n",
    "    ]\n",
    ")"
   ]
  },
  {
   "cell_type": "code",
   "execution_count": 35,
   "id": "5e05b2f0-b614-4a02-9295-748dda09e840",
   "metadata": {
    "tags": []
   },
   "outputs": [
    {
     "data": {
      "text/html": [
       "<div>\n",
       "<style scoped>\n",
       "    .dataframe tbody tr th:only-of-type {\n",
       "        vertical-align: middle;\n",
       "    }\n",
       "\n",
       "    .dataframe tbody tr th {\n",
       "        vertical-align: top;\n",
       "    }\n",
       "\n",
       "    .dataframe thead th {\n",
       "        text-align: right;\n",
       "    }\n",
       "</style>\n",
       "<table border=\"1\" class=\"dataframe\">\n",
       "  <thead>\n",
       "    <tr style=\"text-align: right;\">\n",
       "      <th></th>\n",
       "      <th>service_date</th>\n",
       "      <th>portfolio_organization_name</th>\n",
       "      <th>recent_combined_name</th>\n",
       "      <th>shn_route</th>\n",
       "      <th>District</th>\n",
       "      <th>pct_route_on_hwy</th>\n",
       "    </tr>\n",
       "  </thead>\n",
       "  <tbody>\n",
       "    <tr>\n",
       "      <th>1924</th>\n",
       "      <td>2025-05-14</td>\n",
       "      <td>San Diego Metropolitan Transit System, Airport, Flagship Cruises</td>\n",
       "      <td>929 Downtown - Iris Transit Center</td>\n",
       "      <td>75</td>\n",
       "      <td>11</td>\n",
       "      <td>0.20</td>\n",
       "    </tr>\n",
       "    <tr>\n",
       "      <th>1079</th>\n",
       "      <td>2025-05-14</td>\n",
       "      <td>Alameda-Contra Costa Transit District</td>\n",
       "      <td>NX Grand Lake - Laurel  Transbay</td>\n",
       "      <td>24</td>\n",
       "      <td>4</td>\n",
       "      <td>0.20</td>\n",
       "    </tr>\n",
       "    <tr>\n",
       "      <th>6690</th>\n",
       "      <td>2025-05-14</td>\n",
       "      <td>Santa Clara Valley Transportation Authority</td>\n",
       "      <td>Express 104 Milpitas BART - Stanford Research Park</td>\n",
       "      <td>85</td>\n",
       "      <td>4</td>\n",
       "      <td>0.10</td>\n",
       "    </tr>\n",
       "    <tr>\n",
       "      <th>1736</th>\n",
       "      <td>2025-05-14</td>\n",
       "      <td>San Diego Metropolitan Transit System, Airport, Flagship Cruises</td>\n",
       "      <td>14 Grantville Trolley  -  Baltimore &amp; Lake Murray</td>\n",
       "      <td>8</td>\n",
       "      <td>11</td>\n",
       "      <td>0.70</td>\n",
       "    </tr>\n",
       "    <tr>\n",
       "      <th>4997</th>\n",
       "      <td>2025-04-16</td>\n",
       "      <td>FlixBus and Greyhound</td>\n",
       "      <td>Greyhound US0900 Los Angeles - Las Vegas</td>\n",
       "      <td>60</td>\n",
       "      <td>7</td>\n",
       "      <td>0.00</td>\n",
       "    </tr>\n",
       "    <tr>\n",
       "      <th>4665</th>\n",
       "      <td>2025-04-16</td>\n",
       "      <td>FlixBus and Greyhound</td>\n",
       "      <td>Greyhound US0500 Seattle - Sacramento</td>\n",
       "      <td>80</td>\n",
       "      <td>3</td>\n",
       "      <td>0.00</td>\n",
       "    </tr>\n",
       "    <tr>\n",
       "      <th>4537</th>\n",
       "      <td>2025-04-16</td>\n",
       "      <td>FlixBus and Greyhound</td>\n",
       "      <td>FlixBus N2003 San Francisco - Los Angeles - San Diego</td>\n",
       "      <td>57</td>\n",
       "      <td>12</td>\n",
       "      <td>0.20</td>\n",
       "    </tr>\n",
       "    <tr>\n",
       "      <th>4256</th>\n",
       "      <td>2025-04-16</td>\n",
       "      <td>FlixBus and Greyhound</td>\n",
       "      <td>FlixBus 2007 LA - Sacramento</td>\n",
       "      <td>12</td>\n",
       "      <td>10</td>\n",
       "      <td>0.00</td>\n",
       "    </tr>\n",
       "    <tr>\n",
       "      <th>4009</th>\n",
       "      <td>2025-05-14</td>\n",
       "      <td>Sacramento Regional Transit District</td>\n",
       "      <td>Gold Downtown - Folsom</td>\n",
       "      <td>51</td>\n",
       "      <td>3</td>\n",
       "      <td>0.20</td>\n",
       "    </tr>\n",
       "    <tr>\n",
       "      <th>1517</th>\n",
       "      <td>2025-05-14</td>\n",
       "      <td>City of Montebello</td>\n",
       "      <td>10 Whittier Blvd</td>\n",
       "      <td>605</td>\n",
       "      <td>7</td>\n",
       "      <td>0.20</td>\n",
       "    </tr>\n",
       "  </tbody>\n",
       "</table>\n",
       "</div>"
      ],
      "text/plain": [
       "     service_date  \\\n",
       "1924   2025-05-14   \n",
       "1079   2025-05-14   \n",
       "6690   2025-05-14   \n",
       "1736   2025-05-14   \n",
       "4997   2025-04-16   \n",
       "4665   2025-04-16   \n",
       "4537   2025-04-16   \n",
       "4256   2025-04-16   \n",
       "4009   2025-05-14   \n",
       "1517   2025-05-14   \n",
       "\n",
       "                                           portfolio_organization_name  \\\n",
       "1924  San Diego Metropolitan Transit System, Airport, Flagship Cruises   \n",
       "1079                             Alameda-Contra Costa Transit District   \n",
       "6690                       Santa Clara Valley Transportation Authority   \n",
       "1736  San Diego Metropolitan Transit System, Airport, Flagship Cruises   \n",
       "4997                                             FlixBus and Greyhound   \n",
       "4665                                             FlixBus and Greyhound   \n",
       "4537                                             FlixBus and Greyhound   \n",
       "4256                                             FlixBus and Greyhound   \n",
       "4009                              Sacramento Regional Transit District   \n",
       "1517                                                City of Montebello   \n",
       "\n",
       "                                       recent_combined_name shn_route  \\\n",
       "1924                     929 Downtown - Iris Transit Center        75   \n",
       "1079                       NX Grand Lake - Laurel  Transbay        24   \n",
       "6690     Express 104 Milpitas BART - Stanford Research Park        85   \n",
       "1736      14 Grantville Trolley  -  Baltimore & Lake Murray         8   \n",
       "4997               Greyhound US0900 Los Angeles - Las Vegas        60   \n",
       "4665                  Greyhound US0500 Seattle - Sacramento        80   \n",
       "4537  FlixBus N2003 San Francisco - Los Angeles - San Diego        57   \n",
       "4256                           FlixBus 2007 LA - Sacramento        12   \n",
       "4009                                 Gold Downtown - Folsom        51   \n",
       "1517                                       10 Whittier Blvd       605   \n",
       "\n",
       "      District  pct_route_on_hwy  \n",
       "1924        11              0.20  \n",
       "1079         4              0.20  \n",
       "6690         4              0.10  \n",
       "1736        11              0.70  \n",
       "4997         7              0.00  \n",
       "4665         3              0.00  \n",
       "4537        12              0.20  \n",
       "4256        10              0.00  \n",
       "4009         3              0.20  \n",
       "1517         7              0.20  "
      ]
     },
     "execution_count": 35,
     "metadata": {},
     "output_type": "execute_result"
    }
   ],
   "source": [
    "intersecting.loc[\n",
    "    (intersecting.pct_route_on_hwy <= 1) & (intersecting.shn_route.notna())\n",
    "].drop(columns=[\"geometry\", \"route_length_feet\", \"highway_feet\"]).sample(10)"
   ]
  },
  {
   "cell_type": "code",
   "execution_count": 36,
   "id": "1dfaf6d4-a7e7-44ef-84fb-6bd2f691a615",
   "metadata": {
    "tags": []
   },
   "outputs": [
    {
     "data": {
      "text/plain": [
       "count   6191.00\n",
       "mean       6.54\n",
       "std       15.02\n",
       "min        0.00\n",
       "25%        0.10\n",
       "50%        0.40\n",
       "75%        3.70\n",
       "max       95.20\n",
       "Name: pct_route_on_hwy, dtype: float64"
      ]
     },
     "execution_count": 36,
     "metadata": {},
     "output_type": "execute_result"
    }
   ],
   "source": [
    "intersecting.pct_route_on_hwy.describe()"
   ]
  },
  {
   "cell_type": "code",
   "execution_count": 37,
   "id": "2eb8c505-2d6c-4416-a31a-b974cafb1ff9",
   "metadata": {
    "tags": []
   },
   "outputs": [
    {
     "data": {
      "text/plain": [
       "count   2546.00\n",
       "mean       2.67\n",
       "std        4.15\n",
       "min        1.00\n",
       "25%        1.00\n",
       "50%        2.00\n",
       "75%        3.00\n",
       "max       72.00\n",
       "Name: recent_combined_name, dtype: float64"
      ]
     },
     "execution_count": 37,
     "metadata": {},
     "output_type": "execute_result"
    }
   ],
   "source": [
    "intersecting.recent_combined_name.value_counts().describe()"
   ]
  },
  {
   "cell_type": "code",
   "execution_count": 38,
   "id": "60baeb61-115c-48cd-988e-12358b077cba",
   "metadata": {
    "tags": []
   },
   "outputs": [],
   "source": [
    "# Find routes that cross multiple districts\n",
    "multi_district_routes = (\n",
    "    intersecting.groupby([\"portfolio_organization_name\", \"recent_combined_name\"])\n",
    "    .agg({\"District\": \"nunique\"})\n",
    "    .reset_index()\n",
    ")"
   ]
  },
  {
   "cell_type": "code",
   "execution_count": 68,
   "id": "7c8af6ad-1e43-4da4-88b9-e64bddd8de02",
   "metadata": {
    "scrolled": true,
    "tags": []
   },
   "outputs": [
    {
     "data": {
      "text/html": [
       "<div>\n",
       "<style scoped>\n",
       "    .dataframe tbody tr th:only-of-type {\n",
       "        vertical-align: middle;\n",
       "    }\n",
       "\n",
       "    .dataframe tbody tr th {\n",
       "        vertical-align: top;\n",
       "    }\n",
       "\n",
       "    .dataframe thead th {\n",
       "        text-align: right;\n",
       "    }\n",
       "</style>\n",
       "<table border=\"1\" class=\"dataframe\">\n",
       "  <thead>\n",
       "    <tr style=\"text-align: right;\">\n",
       "      <th></th>\n",
       "      <th>portfolio_organization_name</th>\n",
       "      <th>recent_combined_name</th>\n",
       "      <th>District</th>\n",
       "    </tr>\n",
       "  </thead>\n",
       "  <tbody>\n",
       "    <tr>\n",
       "      <th>1646</th>\n",
       "      <td>Orange County Transportation Authority</td>\n",
       "      <td>1 Long Beach - San Clemente</td>\n",
       "      <td>3</td>\n",
       "    </tr>\n",
       "    <tr>\n",
       "      <th>1215</th>\n",
       "      <td>Kern County</td>\n",
       "      <td>100 Bakersfield - Lancaster</td>\n",
       "      <td>3</td>\n",
       "    </tr>\n",
       "    <tr>\n",
       "      <th>2309</th>\n",
       "      <td>Stanislaus Regional Transit Authority</td>\n",
       "      <td>BART - Modesto</td>\n",
       "      <td>2</td>\n",
       "    </tr>\n",
       "    <tr>\n",
       "      <th>248</th>\n",
       "      <td>Capitol Corridor Joint Powers Authority</td>\n",
       "      <td>CC Capitol Corridor</td>\n",
       "      <td>2</td>\n",
       "    </tr>\n",
       "    <tr>\n",
       "      <th>1763</th>\n",
       "      <td>Riverside Transit Agency</td>\n",
       "      <td>200 San Bernardino - Riverside - Anaheim/Disneyland  Express</td>\n",
       "      <td>2</td>\n",
       "    </tr>\n",
       "    <tr>\n",
       "      <th>2368</th>\n",
       "      <td>Tehama County</td>\n",
       "      <td>GTC Glenn-Tehama Connect</td>\n",
       "      <td>2</td>\n",
       "    </tr>\n",
       "    <tr>\n",
       "      <th>1687</th>\n",
       "      <td>Orange County Transportation Authority</td>\n",
       "      <td>60 Long Beach - Tustin</td>\n",
       "      <td>2</td>\n",
       "    </tr>\n",
       "    <tr>\n",
       "      <th>2582</th>\n",
       "      <td>Yolo County Transportation District</td>\n",
       "      <td>ROUTE 230</td>\n",
       "      <td>2</td>\n",
       "    </tr>\n",
       "    <tr>\n",
       "      <th>1789</th>\n",
       "      <td>Sacramento County</td>\n",
       "      <td>Highway 99 Express</td>\n",
       "      <td>2</td>\n",
       "    </tr>\n",
       "    <tr>\n",
       "      <th>132</th>\n",
       "      <td>Amador Regional Transit System</td>\n",
       "      <td>1 Sacramento</td>\n",
       "      <td>2</td>\n",
       "    </tr>\n",
       "    <tr>\n",
       "      <th>2578</th>\n",
       "      <td>Yolo County Transportation District</td>\n",
       "      <td>Causeway Connection</td>\n",
       "      <td>2</td>\n",
       "    </tr>\n",
       "    <tr>\n",
       "      <th>2425</th>\n",
       "      <td>UCSC and City of Santa Cruz Beach Shuttle</td>\n",
       "      <td>17</td>\n",
       "      <td>2</td>\n",
       "    </tr>\n",
       "    <tr>\n",
       "      <th>2495</th>\n",
       "      <td>Ventura County (VCTC, Gold Coast, Cities of Camarillo, Moorpark, Ojai, Simi Valley, Thousand Oaks)</td>\n",
       "      <td>80-89 Coastal Express</td>\n",
       "      <td>2</td>\n",
       "    </tr>\n",
       "    <tr>\n",
       "      <th>1855</th>\n",
       "      <td>San Benito County Local Transportation Authority</td>\n",
       "      <td>Intercounty Gilroy Caltrain and Gavilan College</td>\n",
       "      <td>2</td>\n",
       "    </tr>\n",
       "    <tr>\n",
       "      <th>1978</th>\n",
       "      <td>San Joaquin Regional Transit District</td>\n",
       "      <td>163 Sacramento Via99</td>\n",
       "      <td>2</td>\n",
       "    </tr>\n",
       "    <tr>\n",
       "      <th>1977</th>\n",
       "      <td>San Joaquin Regional Transit District</td>\n",
       "      <td>150 Livermore/Dublin BART</td>\n",
       "      <td>2</td>\n",
       "    </tr>\n",
       "    <tr>\n",
       "      <th>1493</th>\n",
       "      <td>Mendocino Transit Authority</td>\n",
       "      <td>65 CC Rider</td>\n",
       "      <td>2</td>\n",
       "    </tr>\n",
       "    <tr>\n",
       "      <th>886</th>\n",
       "      <td>Eastern Sierra Transit Authority</td>\n",
       "      <td>395 Route South</td>\n",
       "      <td>2</td>\n",
       "    </tr>\n",
       "    <tr>\n",
       "      <th>1495</th>\n",
       "      <td>Mendocino Transit Authority</td>\n",
       "      <td>75 South Coast / Ukiah</td>\n",
       "      <td>2</td>\n",
       "    </tr>\n",
       "    <tr>\n",
       "      <th>1975</th>\n",
       "      <td>San Joaquin Regional Rail Commission</td>\n",
       "      <td>ACE Train</td>\n",
       "      <td>2</td>\n",
       "    </tr>\n",
       "  </tbody>\n",
       "</table>\n",
       "</div>"
      ],
      "text/plain": [
       "                                                                             portfolio_organization_name  \\\n",
       "1646                                                              Orange County Transportation Authority   \n",
       "1215                                                                                         Kern County   \n",
       "2309                                                               Stanislaus Regional Transit Authority   \n",
       "248                                                              Capitol Corridor Joint Powers Authority   \n",
       "1763                                                                            Riverside Transit Agency   \n",
       "2368                                                                                       Tehama County   \n",
       "1687                                                              Orange County Transportation Authority   \n",
       "2582                                                                 Yolo County Transportation District   \n",
       "1789                                                                                   Sacramento County   \n",
       "132                                                                       Amador Regional Transit System   \n",
       "2578                                                                 Yolo County Transportation District   \n",
       "2425                                                           UCSC and City of Santa Cruz Beach Shuttle   \n",
       "2495  Ventura County (VCTC, Gold Coast, Cities of Camarillo, Moorpark, Ojai, Simi Valley, Thousand Oaks)   \n",
       "1855                                                    San Benito County Local Transportation Authority   \n",
       "1978                                                               San Joaquin Regional Transit District   \n",
       "1977                                                               San Joaquin Regional Transit District   \n",
       "1493                                                                         Mendocino Transit Authority   \n",
       "886                                                                     Eastern Sierra Transit Authority   \n",
       "1495                                                                         Mendocino Transit Authority   \n",
       "1975                                                                San Joaquin Regional Rail Commission   \n",
       "\n",
       "                                              recent_combined_name  District  \n",
       "1646                                   1 Long Beach - San Clemente         3  \n",
       "1215                                   100 Bakersfield - Lancaster         3  \n",
       "2309                                                BART - Modesto         2  \n",
       "248                                            CC Capitol Corridor         2  \n",
       "1763  200 San Bernardino - Riverside - Anaheim/Disneyland  Express         2  \n",
       "2368                                      GTC Glenn-Tehama Connect         2  \n",
       "1687                                        60 Long Beach - Tustin         2  \n",
       "2582                                                     ROUTE 230         2  \n",
       "1789                                            Highway 99 Express         2  \n",
       "132                                                   1 Sacramento         2  \n",
       "2578                                           Causeway Connection         2  \n",
       "2425                                                            17         2  \n",
       "2495                                         80-89 Coastal Express         2  \n",
       "1855               Intercounty Gilroy Caltrain and Gavilan College         2  \n",
       "1978                                          163 Sacramento Via99         2  \n",
       "1977                                     150 Livermore/Dublin BART         2  \n",
       "1493                                                   65 CC Rider         2  \n",
       "886                                                395 Route South         2  \n",
       "1495                                        75 South Coast / Ukiah         2  \n",
       "1975                                                     ACE Train         2  "
      ]
     },
     "execution_count": 68,
     "metadata": {},
     "output_type": "execute_result"
    }
   ],
   "source": [
    "multi_district_routes.loc[\n",
    "    ~multi_district_routes.portfolio_organization_name.isin([\"FlixBus and Greyhound\", \"Amtrak\"])\n",
    "].sort_values(by=[\"District\"], ascending=False).head(20)"
   ]
  },
  {
   "cell_type": "code",
   "execution_count": 40,
   "id": "fcbcdff2-22f5-4db9-9b37-880ecbab2621",
   "metadata": {
    "tags": []
   },
   "outputs": [],
   "source": [
    "bakersfield_route = intersecting.loc[\n",
    "    intersecting.recent_combined_name == \"100 Bakersfield - Lancaster\"\n",
    "]"
   ]
  },
  {
   "cell_type": "code",
   "execution_count": 41,
   "id": "eab02039-73a9-40fd-a806-caff9691738c",
   "metadata": {
    "tags": []
   },
   "outputs": [
    {
     "data": {
      "text/plain": [
       "array([7, 6, 9])"
      ]
     },
     "execution_count": 41,
     "metadata": {},
     "output_type": "execute_result"
    }
   ],
   "source": [
    "bakersfield_route.District.unique()"
   ]
  },
  {
   "cell_type": "code",
   "execution_count": 42,
   "id": "1fecd99c-44f3-47cd-9327-ba679e3c8d10",
   "metadata": {
    "tags": []
   },
   "outputs": [],
   "source": [
    "# bakersfield_route.drop(columns = [\"service_date\"]).explore()"
   ]
  },
  {
   "cell_type": "code",
   "execution_count": 43,
   "id": "5004cbb9-f740-494a-b335-dcf0e7f977cd",
   "metadata": {
    "tags": []
   },
   "outputs": [
    {
     "data": {
      "text/plain": [
       "75.4"
      ]
     },
     "execution_count": 43,
     "metadata": {},
     "output_type": "execute_result"
    }
   ],
   "source": [
    "intersecting.loc[\n",
    "    intersecting.recent_combined_name == \"100 Bakersfield - Lancaster\"\n",
    "].pct_route_on_hwy.sum()"
   ]
  },
  {
   "cell_type": "code",
   "execution_count": 66,
   "id": "3b8b8f0b-0768-44de-b2c8-e112a7414b60",
   "metadata": {
    "tags": []
   },
   "outputs": [
    {
     "data": {
      "text/html": [
       "<div>\n",
       "<style scoped>\n",
       "    .dataframe tbody tr th:only-of-type {\n",
       "        vertical-align: middle;\n",
       "    }\n",
       "\n",
       "    .dataframe tbody tr th {\n",
       "        vertical-align: top;\n",
       "    }\n",
       "\n",
       "    .dataframe thead th {\n",
       "        text-align: right;\n",
       "    }\n",
       "</style>\n",
       "<table border=\"1\" class=\"dataframe\">\n",
       "  <thead>\n",
       "    <tr style=\"text-align: right;\">\n",
       "      <th></th>\n",
       "      <th>service_date</th>\n",
       "      <th>portfolio_organization_name</th>\n",
       "      <th>recent_combined_name</th>\n",
       "      <th>route_length_feet</th>\n",
       "      <th>shn_route</th>\n",
       "      <th>District</th>\n",
       "      <th>highway_feet</th>\n",
       "      <th>pct_route_on_hwy</th>\n",
       "    </tr>\n",
       "  </thead>\n",
       "  <tbody>\n",
       "    <tr>\n",
       "      <th>3507</th>\n",
       "      <td>2025-05-14</td>\n",
       "      <td>Antelope Valley Transit Authority</td>\n",
       "      <td>Route 785</td>\n",
       "      <td>384526.24</td>\n",
       "      <td>101</td>\n",
       "      <td>7</td>\n",
       "      <td>876278.76</td>\n",
       "      <td>14.40</td>\n",
       "    </tr>\n",
       "    <tr>\n",
       "      <th>3508</th>\n",
       "      <td>2025-05-14</td>\n",
       "      <td>Antelope Valley Transit Authority</td>\n",
       "      <td>Route 785</td>\n",
       "      <td>384526.24</td>\n",
       "      <td>110</td>\n",
       "      <td>7</td>\n",
       "      <td>327921.87</td>\n",
       "      <td>0.00</td>\n",
       "    </tr>\n",
       "    <tr>\n",
       "      <th>3509</th>\n",
       "      <td>2025-05-14</td>\n",
       "      <td>Antelope Valley Transit Authority</td>\n",
       "      <td>Route 785</td>\n",
       "      <td>384526.24</td>\n",
       "      <td>405</td>\n",
       "      <td>7</td>\n",
       "      <td>512007.45</td>\n",
       "      <td>0.10</td>\n",
       "    </tr>\n",
       "    <tr>\n",
       "      <th>3510</th>\n",
       "      <td>2025-05-14</td>\n",
       "      <td>Antelope Valley Transit Authority</td>\n",
       "      <td>Route 785</td>\n",
       "      <td>384526.24</td>\n",
       "      <td>5</td>\n",
       "      <td>7</td>\n",
       "      <td>967173.52</td>\n",
       "      <td>11.70</td>\n",
       "    </tr>\n",
       "    <tr>\n",
       "      <th>3511</th>\n",
       "      <td>2025-05-14</td>\n",
       "      <td>Antelope Valley Transit Authority</td>\n",
       "      <td>Route 785</td>\n",
       "      <td>384526.24</td>\n",
       "      <td>170</td>\n",
       "      <td>7</td>\n",
       "      <td>64634.09</td>\n",
       "      <td>8.50</td>\n",
       "    </tr>\n",
       "    <tr>\n",
       "      <th>3512</th>\n",
       "      <td>2025-05-14</td>\n",
       "      <td>Antelope Valley Transit Authority</td>\n",
       "      <td>Route 785</td>\n",
       "      <td>384526.24</td>\n",
       "      <td>134</td>\n",
       "      <td>7</td>\n",
       "      <td>141091.55</td>\n",
       "      <td>0.00</td>\n",
       "    </tr>\n",
       "    <tr>\n",
       "      <th>3513</th>\n",
       "      <td>2025-05-14</td>\n",
       "      <td>Antelope Valley Transit Authority</td>\n",
       "      <td>Route 785</td>\n",
       "      <td>384526.24</td>\n",
       "      <td>2</td>\n",
       "      <td>7</td>\n",
       "      <td>451415.95</td>\n",
       "      <td>0.00</td>\n",
       "    </tr>\n",
       "    <tr>\n",
       "      <th>3514</th>\n",
       "      <td>2025-05-14</td>\n",
       "      <td>Antelope Valley Transit Authority</td>\n",
       "      <td>Route 785</td>\n",
       "      <td>384526.24</td>\n",
       "      <td>118</td>\n",
       "      <td>7</td>\n",
       "      <td>416699.90</td>\n",
       "      <td>0.10</td>\n",
       "    </tr>\n",
       "    <tr>\n",
       "      <th>3515</th>\n",
       "      <td>2025-05-14</td>\n",
       "      <td>Antelope Valley Transit Authority</td>\n",
       "      <td>Route 785</td>\n",
       "      <td>384526.24</td>\n",
       "      <td>210</td>\n",
       "      <td>7</td>\n",
       "      <td>553415.12</td>\n",
       "      <td>0.00</td>\n",
       "    </tr>\n",
       "    <tr>\n",
       "      <th>3516</th>\n",
       "      <td>2025-05-14</td>\n",
       "      <td>Antelope Valley Transit Authority</td>\n",
       "      <td>Route 785</td>\n",
       "      <td>384526.24</td>\n",
       "      <td>14</td>\n",
       "      <td>7</td>\n",
       "      <td>583368.45</td>\n",
       "      <td>47.90</td>\n",
       "    </tr>\n",
       "  </tbody>\n",
       "</table>\n",
       "</div>"
      ],
      "text/plain": [
       "     service_date        portfolio_organization_name recent_combined_name  \\\n",
       "3507   2025-05-14  Antelope Valley Transit Authority            Route 785   \n",
       "3508   2025-05-14  Antelope Valley Transit Authority            Route 785   \n",
       "3509   2025-05-14  Antelope Valley Transit Authority            Route 785   \n",
       "3510   2025-05-14  Antelope Valley Transit Authority            Route 785   \n",
       "3511   2025-05-14  Antelope Valley Transit Authority            Route 785   \n",
       "3512   2025-05-14  Antelope Valley Transit Authority            Route 785   \n",
       "3513   2025-05-14  Antelope Valley Transit Authority            Route 785   \n",
       "3514   2025-05-14  Antelope Valley Transit Authority            Route 785   \n",
       "3515   2025-05-14  Antelope Valley Transit Authority            Route 785   \n",
       "3516   2025-05-14  Antelope Valley Transit Authority            Route 785   \n",
       "\n",
       "      route_length_feet shn_route  District  highway_feet  pct_route_on_hwy  \n",
       "3507          384526.24       101         7     876278.76             14.40  \n",
       "3508          384526.24       110         7     327921.87              0.00  \n",
       "3509          384526.24       405         7     512007.45              0.10  \n",
       "3510          384526.24         5         7     967173.52             11.70  \n",
       "3511          384526.24       170         7      64634.09              8.50  \n",
       "3512          384526.24       134         7     141091.55              0.00  \n",
       "3513          384526.24         2         7     451415.95              0.00  \n",
       "3514          384526.24       118         7     416699.90              0.10  \n",
       "3515          384526.24       210         7     553415.12              0.00  \n",
       "3516          384526.24        14         7     583368.45             47.90  "
      ]
     },
     "execution_count": 66,
     "metadata": {},
     "output_type": "execute_result"
    }
   ],
   "source": [
    "intersecting.loc[intersecting.recent_combined_name == \"Route 785\"].drop(\n",
    "    columns=[\"geometry\"]\n",
    ")"
   ]
  },
  {
   "cell_type": "markdown",
   "id": "dd3cb6cc-131f-4948-b1e4-0b79528ef3c8",
   "metadata": {},
   "source": [
    "## Create final dataframe to add to Transit Routes dataset on the Open Data Portal [here](https://data.ca.gov/dataset/california-transit-routes/resource/3ea7eb11-4fc6-45ed-88f5-b599e38c6b19)"
   ]
  },
  {
   "cell_type": "code",
   "execution_count": 44,
   "id": "6c49e959-ff7a-49c6-9294-ab21824c3f92",
   "metadata": {
    "tags": []
   },
   "outputs": [],
   "source": [
    "def group_route_district(df: pd.DataFrame, pct_route_on_hwy_agg: str) -> pd.DataFrame:\n",
    "\n",
    "    # Aggregate by adding all the districts and SHN to a single row, rather than\n",
    "    # multiple and sum up the total % of SHN a transit route intersects with\n",
    "    agg1 = (\n",
    "        df.groupby(\n",
    "            [\n",
    "                \"portfolio_organization_name\",\n",
    "                \"recent_combined_name\",\n",
    "            ],\n",
    "            as_index=False,\n",
    "        )[[\"shn_route\", \"District\", \"pct_route_on_hwy_across_districts\"]]\n",
    "        .agg(\n",
    "            {\n",
    "                \"shn_route\": lambda x: \", \".join(set(x.astype(str))),\n",
    "                \"District\": lambda x: \", \".join(set(x.astype(str))),\n",
    "                \"pct_route_on_hwy_across_districts\": pct_route_on_hwy_agg,\n",
    "            }\n",
    "        )\n",
    "        .reset_index(drop=True)\n",
    "    )\n",
    "\n",
    "    # Clean up\n",
    "    agg1.pct_route_on_hwy_across_districts = (\n",
    "        agg1.pct_route_on_hwy_across_districts.astype(float).round(2)\n",
    "    )\n",
    "    return agg1"
   ]
  },
  {
   "cell_type": "code",
   "execution_count": 45,
   "id": "49ef0c20-a178-41aa-ac2b-3c2ee10a5105",
   "metadata": {},
   "outputs": [],
   "source": [
    "# group_route_district()"
   ]
  },
  {
   "cell_type": "code",
   "execution_count": 46,
   "id": "2a0f3f1c-5906-43db-a1c4-a3c44a514349",
   "metadata": {},
   "outputs": [],
   "source": [
    "def create_on_shs_column(df):\n",
    "    df[\"on_shs\"] = np.where(df[\"pct_route_on_hwy_across_districts\"] == 0, \"N\", \"Y\")\n",
    "    return df"
   ]
  },
  {
   "cell_type": "code",
   "execution_count": 47,
   "id": "8257de8b-8a94-477c-9e4b-9aed7a8a446b",
   "metadata": {
    "tags": []
   },
   "outputs": [],
   "source": [
    "def prep_open_data_portal(gdf: gpd.GeoDataFrame) -> pd.DataFrame:\n",
    "    \"\"\"\n",
    "    Prepare the gdf to join with the existing transit_routes\n",
    "    dataframe that is published on the Open Data Portal\n",
    "    \"\"\"\n",
    "    # Rename column\n",
    "    gdf = gdf.rename(columns={\"pct_route_on_hwy\": \"pct_route_on_hwy_across_districts\"})\n",
    "    # Group the dataframe so that one route only has one\n",
    "    # row instead of multiple rows after finding its\n",
    "    # intersection with any SHN routes.\n",
    "    agg1 = group_route_district(gdf, \"sum\")\n",
    "\n",
    "    # Add yes/no column to signify if a transit route intersects\n",
    "    # with a SHN route\n",
    "    agg1 = create_on_shs_column(agg1)\n",
    "\n",
    "    return agg1"
   ]
  },
  {
   "cell_type": "code",
   "execution_count": 48,
   "id": "27be2b5f-8b69-449d-b113-707d2130b697",
   "metadata": {
    "tags": []
   },
   "outputs": [
    {
     "data": {
      "text/plain": [
       "Index(['service_date', 'geometry', 'portfolio_organization_name',\n",
       "       'recent_combined_name', 'route_length_feet', 'shn_route', 'District',\n",
       "       'highway_feet', 'pct_route_on_hwy'],\n",
       "      dtype='object')"
      ]
     },
     "execution_count": 48,
     "metadata": {},
     "output_type": "execute_result"
    }
   ],
   "source": [
    "intersecting.columns"
   ]
  },
  {
   "cell_type": "code",
   "execution_count": 49,
   "id": "b555caba-52fc-4253-bea1-8e1da0f7bd1e",
   "metadata": {
    "tags": []
   },
   "outputs": [],
   "source": [
    "open_data_portal_df = prep_open_data_portal(intersecting)"
   ]
  },
  {
   "cell_type": "code",
   "execution_count": 50,
   "id": "1a56f955-8169-49ec-b541-3058b0bbca17",
   "metadata": {
    "tags": []
   },
   "outputs": [
    {
     "data": {
      "text/plain": [
       "array(['4', '0', '3, 10', '10', '9, 4, 3, 10', '4, 3', '4, 3, 2, 7, 5',\n",
       "       '7, 5', '8, 7, 12', '8, 7, 11', '12', '7', '8', '3', '6', '5',\n",
       "       '7, 12', '1', '9', '7, 9', '7, 4, 6, 10', '7, 6, 11, 12',\n",
       "       '7, 6, 10, 3', '7, 11, 12', '8, 7', '6, 4, 10, 11, 12, 7', '3, 2',\n",
       "       '6, 3, 10, 11, 12, 7', '11', '7, 9, 6', '6, 9', '4, 1', '2',\n",
       "       '5, 4', '8, 12', '4, 10', '2, 1'], dtype=object)"
      ]
     },
     "execution_count": 50,
     "metadata": {},
     "output_type": "execute_result"
    }
   ],
   "source": [
    "open_data_portal_df.District.unique()"
   ]
  },
  {
   "cell_type": "code",
   "execution_count": 51,
   "id": "2a79984b-1f0f-4ca3-99b2-7e1fbdbce1c7",
   "metadata": {
    "tags": []
   },
   "outputs": [
    {
     "data": {
      "text/plain": [
       "Y    2021\n",
       "N     600\n",
       "Name: on_shs, dtype: int64"
      ]
     },
     "execution_count": 51,
     "metadata": {},
     "output_type": "execute_result"
    }
   ],
   "source": [
    "open_data_portal_df.on_shs.value_counts()"
   ]
  },
  {
   "cell_type": "code",
   "execution_count": 52,
   "id": "5af04ee4-5d19-4443-947e-e20c7108a74a",
   "metadata": {
    "tags": []
   },
   "outputs": [
    {
     "data": {
      "text/plain": [
       "count   2021.00\n",
       "mean      20.02\n",
       "std       27.36\n",
       "min        0.10\n",
       "25%        1.00\n",
       "50%        4.40\n",
       "75%       31.60\n",
       "max       97.80\n",
       "Name: pct_route_on_hwy_across_districts, dtype: float64"
      ]
     },
     "execution_count": 52,
     "metadata": {},
     "output_type": "execute_result"
    }
   ],
   "source": [
    "open_data_portal_df.loc[\n",
    "    open_data_portal_df.on_shs == \"Y\"\n",
    "].pct_route_on_hwy_across_districts.describe()"
   ]
  },
  {
   "cell_type": "code",
   "execution_count": 53,
   "id": "39020051-ccba-46f5-b612-588bdc5c9410",
   "metadata": {
    "tags": []
   },
   "outputs": [
    {
     "data": {
      "text/plain": [
       "count   600.00\n",
       "mean      0.00\n",
       "std       0.00\n",
       "min       0.00\n",
       "25%       0.00\n",
       "50%       0.00\n",
       "75%       0.00\n",
       "max       0.00\n",
       "Name: pct_route_on_hwy_across_districts, dtype: float64"
      ]
     },
     "execution_count": 53,
     "metadata": {},
     "output_type": "execute_result"
    }
   ],
   "source": [
    "open_data_portal_df.loc[\n",
    "    open_data_portal_df.on_shs == \"N\"\n",
    "].pct_route_on_hwy_across_districts.describe()"
   ]
  },
  {
   "cell_type": "markdown",
   "id": "7c2210be-1478-4474-8b16-df4e44fc95a0",
   "metadata": {},
   "source": [
    "### Check a couple of routes "
   ]
  },
  {
   "cell_type": "code",
   "execution_count": 69,
   "id": "41160615-7f76-4123-b11d-26730d7afb42",
   "metadata": {
    "scrolled": true,
    "tags": []
   },
   "outputs": [
    {
     "data": {
      "text/plain": [
       "array(['Tulare County Regional Transit Agency',\n",
       "       'Marin County Transit District', 'City of Auburn', 'City of Bell',\n",
       "       'Santa Barbara Metropolitan Transit District',\n",
       "       'Los Angeles County Metropolitan Transportation Authority',\n",
       "       'Tahoe Transportation District',\n",
       "       'Sonoma-Marin Area Rail Transit District',\n",
       "       'Sonoma County Transit Schedule', 'Lake Transit Authority',\n",
       "       'Yuba-Sutter Transit Authority', 'City of Glendale', 'Yurok Tribe',\n",
       "       'City of Bell Gardens', 'POINT', 'Modoc Transportation Agency',\n",
       "       'City of Fairfield', 'Alameda-Contra Costa Transit District',\n",
       "       'City of Cudahy', 'Emeryville Transportation Management Agency',\n",
       "       'City of Redondo Beach', 'City of West Covina',\n",
       "       'Ventura County (VCTC, Gold Coast, Cities of Camarillo, Moorpark, Ojai, Simi Valley, Thousand Oaks)',\n",
       "       'Yuma County Intergovernmental Public Transportation Authority',\n",
       "       'City of Avalon', 'Curry Public Transit', 'City of La Puente',\n",
       "       'Fresno County Rural Transit Agency',\n",
       "       'Napa Valley Transportation Authority',\n",
       "       'Solano Transportation Authority',\n",
       "       'University of California, Los Angeles',\n",
       "       'University of California, San Diego', 'Long Beach Transit',\n",
       "       'City of Burbank', 'Los Angeles County', 'City of Montebello',\n",
       "       'Los Angeles World Airports',\n",
       "       'San Francisco International Airport',\n",
       "       'North County Transit District', 'Yosemite National Park',\n",
       "       'Santa Barbara County Association of Governments',\n",
       "       'Siskiyou County',\n",
       "       'San Diego Metropolitan Transit System, Airport, Flagship Cruises',\n",
       "       'City of South Gate', 'Amador Regional Transit System',\n",
       "       'Tuolumne County Transit Agency', 'City of Visalia',\n",
       "       'Stanford University', 'City of Roseville', 'City of Norwalk',\n",
       "       'Palo Verde Valley Transit Agency', 'City of Madera', 'Amtrak',\n",
       "       'City of Culver City', 'Kings County Area Public Transit Agency',\n",
       "       'Tehama County', 'City of Fresno', 'City of Dana Point',\n",
       "       'Kern County', 'City of Huntington Park', 'Madera County',\n",
       "       'City of El Segundo', 'Angel Island-Tiburon Ferry Company',\n",
       "       'City of Mission Viejo', 'San Mateo County Transit District',\n",
       "       'Eastern Contra Costa Transit Authority',\n",
       "       'Central Contra Costa Transit Authority',\n",
       "       'Mountain Area Regional Transit Authority', 'City of Lompoc',\n",
       "       'San Benito County Local Transportation Authority',\n",
       "       'City of Petaluma', 'City of Rosemead', 'Chemehuevi Indian Tribe',\n",
       "       'City of Cerritos', 'City of South San Francisco',\n",
       "       'UCSC and City of Santa Cruz Beach Shuttle',\n",
       "       'Calaveras Transit Agency',\n",
       "       'Mountain View Transportation Management Association',\n",
       "       'Butte County Association of Governments', 'Trinity County',\n",
       "       'City of Morro Bay', 'City of Thousand Oaks',\n",
       "       'Transit Joint Powers Authority for Merced County',\n",
       "       'Tahoe Truckee Area Regional Transportation, North Lake Tahoe',\n",
       "       'City of Baldwin Park', 'City of Guadalupe',\n",
       "       'El Dorado County Transit Authority', 'City of Santa Maria',\n",
       "       'Mission Bay Transportation Management Agency',\n",
       "       'Yolo County Transportation District',\n",
       "       'Mendocino Transit Authority',\n",
       "       'San Luis Obispo Regional Transit Authority',\n",
       "       'Western Contra Costa Transit Authority', 'City of Irvine',\n",
       "       'City of Arvin', 'City and County of San Francisco',\n",
       "       'San Joaquin Regional Transit District', 'Glenn County',\n",
       "       'City of Beaumont', 'Antelope Valley Transit Authority',\n",
       "       'San Francisco Bay Ferry and Oakland Alameda Water Shuttle Schedule',\n",
       "       'City of Bellflower', 'Presidio Trust', 'City of Maywood',\n",
       "       'Palos Verdes Peninsula Transit Authority', 'City of Elk Grove',\n",
       "       'City of Lodi', 'San Francisco Bay Area Rapid Transit District',\n",
       "       'Placer County', 'City of Santa Rosa', 'City of Calabasas',\n",
       "       'City of Sierra Madre', 'City of Lynwood', 'OmniTrans',\n",
       "       'City of Torrance', 'Plumas Transit Systems',\n",
       "       'Monterey-Salinas Transit', 'Sacramento Regional Transit District',\n",
       "       'Peninsula Corridor Joint Powers Board', 'City of Alhambra',\n",
       "       'City of Santa Monica', 'City of Rio Vista', 'City of Inglewood',\n",
       "       'City of Arcadia', 'Humboldt Transit Authority',\n",
       "       'FlixBus and Greyhound', 'City of Artesia', 'City of Glendora',\n",
       "       'University of California, Berkeley', 'Nevada County',\n",
       "       'Redding Area Bus Authority',\n",
       "       'Golden Gate Bridge, Highway and Transportation District',\n",
       "       'Basin Transit', 'City of Manteca',\n",
       "       'Treasure Island Community Development', 'City of Santa Clarita',\n",
       "       'City of Union City', 'Sacramento County',\n",
       "       'Redwood Coast Transit Authority', 'City of El Monte',\n",
       "       'University of California, Irvine', 'City of Gardena',\n",
       "       'City of Downey', 'City of San Clemente',\n",
       "       'Commute.org and Menlo Park Community Shuttles Schedule',\n",
       "       'City of Laguna Beach',\n",
       "       'Southern California Regional Rail Authority',\n",
       "       'Anaheim Transportation Network', 'City of San Fernando',\n",
       "       'City of Lawndale', 'SunLine Transit Agency',\n",
       "       'Eastern Sierra Transit Authority', 'City of Los Angeles',\n",
       "       'San Joaquin Regional Rail Commission', 'City of Needles',\n",
       "       'City of Delano', 'University of California, Davis',\n",
       "       'Golden Empire Transit District',\n",
       "       'Stanislaus Regional Transit Authority',\n",
       "       'Livermore-Amador Valley Transit Authority', 'City of Tracy',\n",
       "       'City of Vacaville', 'Lassen Transit Service Agency',\n",
       "       'Victor Valley Transit Authority', 'City of Turlock',\n",
       "       'City of Escalon', 'City of Commerce', 'City of Banning',\n",
       "       'Orange County Transportation Authority', 'Town of Truckee',\n",
       "       'City of Pasadena', 'City of West Hollywood',\n",
       "       'Capitol Corridor Joint Powers Authority', 'City of Mountain View',\n",
       "       'Foothill Transit', 'City of Corona', 'City of Clovis',\n",
       "       'Yosemite Area Regional Transportation System',\n",
       "       'Riverside Transit Agency',\n",
       "       'Santa Clara Valley Transportation Authority',\n",
       "       'City of San Juan Capistrano', 'City of Monterey Park',\n",
       "       'Imperial County Transportation Commission', 'City of Solvang',\n",
       "       'City of Ripon'], dtype=object)"
      ]
     },
     "execution_count": 69,
     "metadata": {},
     "output_type": "execute_result"
    }
   ],
   "source": [
    "intersecting.portfolio_organization_name.unique()"
   ]
  },
  {
   "cell_type": "code",
   "execution_count": 72,
   "id": "636011d3-f05b-45fa-b0c9-132ef27daece",
   "metadata": {
    "scrolled": true,
    "tags": []
   },
   "outputs": [
    {
     "data": {
      "text/html": [
       "<div>\n",
       "<style scoped>\n",
       "    .dataframe tbody tr th:only-of-type {\n",
       "        vertical-align: middle;\n",
       "    }\n",
       "\n",
       "    .dataframe tbody tr th {\n",
       "        vertical-align: top;\n",
       "    }\n",
       "\n",
       "    .dataframe thead th {\n",
       "        text-align: right;\n",
       "    }\n",
       "</style>\n",
       "<table border=\"1\" class=\"dataframe\">\n",
       "  <thead>\n",
       "    <tr style=\"text-align: right;\">\n",
       "      <th></th>\n",
       "      <th>service_date</th>\n",
       "      <th>portfolio_organization_name</th>\n",
       "      <th>recent_combined_name</th>\n",
       "      <th>route_length_feet</th>\n",
       "      <th>shn_route</th>\n",
       "      <th>District</th>\n",
       "      <th>highway_feet</th>\n",
       "      <th>pct_route_on_hwy</th>\n",
       "    </tr>\n",
       "  </thead>\n",
       "  <tbody>\n",
       "    <tr>\n",
       "      <th>5198</th>\n",
       "      <td>2025-05-14</td>\n",
       "      <td>Golden Gate Bridge, Highway and Transportation District</td>\n",
       "      <td>101 Santa Rosa - San Francisco</td>\n",
       "      <td>330666.26</td>\n",
       "      <td>1</td>\n",
       "      <td>4</td>\n",
       "      <td>944979.07</td>\n",
       "      <td>0.10</td>\n",
       "    </tr>\n",
       "    <tr>\n",
       "      <th>5199</th>\n",
       "      <td>2025-05-14</td>\n",
       "      <td>Golden Gate Bridge, Highway and Transportation District</td>\n",
       "      <td>101 Santa Rosa - San Francisco</td>\n",
       "      <td>330666.26</td>\n",
       "      <td>101</td>\n",
       "      <td>4</td>\n",
       "      <td>1824371.76</td>\n",
       "      <td>76.00</td>\n",
       "    </tr>\n",
       "    <tr>\n",
       "      <th>5200</th>\n",
       "      <td>2025-05-14</td>\n",
       "      <td>Golden Gate Bridge, Highway and Transportation District</td>\n",
       "      <td>101 Santa Rosa - San Francisco</td>\n",
       "      <td>330666.26</td>\n",
       "      <td>131</td>\n",
       "      <td>4</td>\n",
       "      <td>35125.00</td>\n",
       "      <td>0.00</td>\n",
       "    </tr>\n",
       "    <tr>\n",
       "      <th>5201</th>\n",
       "      <td>2025-05-14</td>\n",
       "      <td>Golden Gate Bridge, Highway and Transportation District</td>\n",
       "      <td>101 Santa Rosa - San Francisco</td>\n",
       "      <td>330666.26</td>\n",
       "      <td>580</td>\n",
       "      <td>4</td>\n",
       "      <td>621177.64</td>\n",
       "      <td>0.00</td>\n",
       "    </tr>\n",
       "    <tr>\n",
       "      <th>5202</th>\n",
       "      <td>2025-05-14</td>\n",
       "      <td>Golden Gate Bridge, Highway and Transportation District</td>\n",
       "      <td>101 Santa Rosa - San Francisco</td>\n",
       "      <td>330666.26</td>\n",
       "      <td>37</td>\n",
       "      <td>4</td>\n",
       "      <td>225675.01</td>\n",
       "      <td>0.00</td>\n",
       "    </tr>\n",
       "    <tr>\n",
       "      <th>5203</th>\n",
       "      <td>2025-05-14</td>\n",
       "      <td>Golden Gate Bridge, Highway and Transportation District</td>\n",
       "      <td>101 Santa Rosa - San Francisco</td>\n",
       "      <td>330666.26</td>\n",
       "      <td>12</td>\n",
       "      <td>4</td>\n",
       "      <td>478781.00</td>\n",
       "      <td>0.10</td>\n",
       "    </tr>\n",
       "    <tr>\n",
       "      <th>5204</th>\n",
       "      <td>2025-05-14</td>\n",
       "      <td>Golden Gate Bridge, Highway and Transportation District</td>\n",
       "      <td>114 Mill Valley - San Francisco</td>\n",
       "      <td>97788.44</td>\n",
       "      <td>1</td>\n",
       "      <td>4</td>\n",
       "      <td>944979.07</td>\n",
       "      <td>3.40</td>\n",
       "    </tr>\n",
       "    <tr>\n",
       "      <th>5205</th>\n",
       "      <td>2025-05-14</td>\n",
       "      <td>Golden Gate Bridge, Highway and Transportation District</td>\n",
       "      <td>114 Mill Valley - San Francisco</td>\n",
       "      <td>97788.44</td>\n",
       "      <td>101</td>\n",
       "      <td>4</td>\n",
       "      <td>1824371.76</td>\n",
       "      <td>34.00</td>\n",
       "    </tr>\n",
       "    <tr>\n",
       "      <th>5206</th>\n",
       "      <td>2025-05-14</td>\n",
       "      <td>Golden Gate Bridge, Highway and Transportation District</td>\n",
       "      <td>114 Mill Valley - San Francisco</td>\n",
       "      <td>97788.44</td>\n",
       "      <td>80</td>\n",
       "      <td>4</td>\n",
       "      <td>748779.57</td>\n",
       "      <td>0.10</td>\n",
       "    </tr>\n",
       "    <tr>\n",
       "      <th>5207</th>\n",
       "      <td>2025-05-14</td>\n",
       "      <td>Golden Gate Bridge, Highway and Transportation District</td>\n",
       "      <td>130 San Rafael - San Francisco</td>\n",
       "      <td>124935.82</td>\n",
       "      <td>1</td>\n",
       "      <td>4</td>\n",
       "      <td>944979.07</td>\n",
       "      <td>0.10</td>\n",
       "    </tr>\n",
       "    <tr>\n",
       "      <th>5208</th>\n",
       "      <td>2025-05-14</td>\n",
       "      <td>Golden Gate Bridge, Highway and Transportation District</td>\n",
       "      <td>130 San Rafael - San Francisco</td>\n",
       "      <td>124935.82</td>\n",
       "      <td>101</td>\n",
       "      <td>4</td>\n",
       "      <td>1824371.76</td>\n",
       "      <td>47.60</td>\n",
       "    </tr>\n",
       "    <tr>\n",
       "      <th>5209</th>\n",
       "      <td>2025-05-14</td>\n",
       "      <td>Golden Gate Bridge, Highway and Transportation District</td>\n",
       "      <td>130 San Rafael - San Francisco</td>\n",
       "      <td>124935.82</td>\n",
       "      <td>131</td>\n",
       "      <td>4</td>\n",
       "      <td>35125.00</td>\n",
       "      <td>0.10</td>\n",
       "    </tr>\n",
       "    <tr>\n",
       "      <th>5210</th>\n",
       "      <td>2025-05-14</td>\n",
       "      <td>Golden Gate Bridge, Highway and Transportation District</td>\n",
       "      <td>130 San Rafael - San Francisco</td>\n",
       "      <td>124935.82</td>\n",
       "      <td>580</td>\n",
       "      <td>4</td>\n",
       "      <td>621177.64</td>\n",
       "      <td>0.20</td>\n",
       "    </tr>\n",
       "    <tr>\n",
       "      <th>5215</th>\n",
       "      <td>2025-05-14</td>\n",
       "      <td>Golden Gate Bridge, Highway and Transportation District</td>\n",
       "      <td>132 San Anselmo - San Francisco</td>\n",
       "      <td>115948.92</td>\n",
       "      <td>80</td>\n",
       "      <td>4</td>\n",
       "      <td>748779.57</td>\n",
       "      <td>0.10</td>\n",
       "    </tr>\n",
       "    <tr>\n",
       "      <th>5214</th>\n",
       "      <td>2025-05-14</td>\n",
       "      <td>Golden Gate Bridge, Highway and Transportation District</td>\n",
       "      <td>132 San Anselmo - San Francisco</td>\n",
       "      <td>115948.92</td>\n",
       "      <td>580</td>\n",
       "      <td>4</td>\n",
       "      <td>621177.64</td>\n",
       "      <td>0.10</td>\n",
       "    </tr>\n",
       "    <tr>\n",
       "      <th>5213</th>\n",
       "      <td>2025-05-14</td>\n",
       "      <td>Golden Gate Bridge, Highway and Transportation District</td>\n",
       "      <td>132 San Anselmo - San Francisco</td>\n",
       "      <td>115948.92</td>\n",
       "      <td>131</td>\n",
       "      <td>4</td>\n",
       "      <td>35125.00</td>\n",
       "      <td>0.10</td>\n",
       "    </tr>\n",
       "    <tr>\n",
       "      <th>5212</th>\n",
       "      <td>2025-05-14</td>\n",
       "      <td>Golden Gate Bridge, Highway and Transportation District</td>\n",
       "      <td>132 San Anselmo - San Francisco</td>\n",
       "      <td>115948.92</td>\n",
       "      <td>101</td>\n",
       "      <td>4</td>\n",
       "      <td>1824371.76</td>\n",
       "      <td>56.10</td>\n",
       "    </tr>\n",
       "    <tr>\n",
       "      <th>5211</th>\n",
       "      <td>2025-05-14</td>\n",
       "      <td>Golden Gate Bridge, Highway and Transportation District</td>\n",
       "      <td>132 San Anselmo - San Francisco</td>\n",
       "      <td>115948.92</td>\n",
       "      <td>1</td>\n",
       "      <td>4</td>\n",
       "      <td>944979.07</td>\n",
       "      <td>0.20</td>\n",
       "    </tr>\n",
       "    <tr>\n",
       "      <th>5216</th>\n",
       "      <td>2025-05-14</td>\n",
       "      <td>Golden Gate Bridge, Highway and Transportation District</td>\n",
       "      <td>150 San Rafael - San Francisco</td>\n",
       "      <td>111677.79</td>\n",
       "      <td>1</td>\n",
       "      <td>4</td>\n",
       "      <td>944979.07</td>\n",
       "      <td>0.60</td>\n",
       "    </tr>\n",
       "    <tr>\n",
       "      <th>5217</th>\n",
       "      <td>2025-05-14</td>\n",
       "      <td>Golden Gate Bridge, Highway and Transportation District</td>\n",
       "      <td>150 San Rafael - San Francisco</td>\n",
       "      <td>111677.79</td>\n",
       "      <td>101</td>\n",
       "      <td>4</td>\n",
       "      <td>1824371.76</td>\n",
       "      <td>64.40</td>\n",
       "    </tr>\n",
       "    <tr>\n",
       "      <th>5218</th>\n",
       "      <td>2025-05-14</td>\n",
       "      <td>Golden Gate Bridge, Highway and Transportation District</td>\n",
       "      <td>150 San Rafael - San Francisco</td>\n",
       "      <td>111677.79</td>\n",
       "      <td>131</td>\n",
       "      <td>4</td>\n",
       "      <td>35125.00</td>\n",
       "      <td>0.10</td>\n",
       "    </tr>\n",
       "    <tr>\n",
       "      <th>5219</th>\n",
       "      <td>2025-05-14</td>\n",
       "      <td>Golden Gate Bridge, Highway and Transportation District</td>\n",
       "      <td>150 San Rafael - San Francisco</td>\n",
       "      <td>111677.79</td>\n",
       "      <td>580</td>\n",
       "      <td>4</td>\n",
       "      <td>621177.64</td>\n",
       "      <td>0.10</td>\n",
       "    </tr>\n",
       "    <tr>\n",
       "      <th>5220</th>\n",
       "      <td>2025-05-14</td>\n",
       "      <td>Golden Gate Bridge, Highway and Transportation District</td>\n",
       "      <td>154 Novato - San Francisco</td>\n",
       "      <td>172674.66</td>\n",
       "      <td>1</td>\n",
       "      <td>4</td>\n",
       "      <td>944979.07</td>\n",
       "      <td>0.10</td>\n",
       "    </tr>\n",
       "    <tr>\n",
       "      <th>5221</th>\n",
       "      <td>2025-05-14</td>\n",
       "      <td>Golden Gate Bridge, Highway and Transportation District</td>\n",
       "      <td>154 Novato - San Francisco</td>\n",
       "      <td>172674.66</td>\n",
       "      <td>101</td>\n",
       "      <td>4</td>\n",
       "      <td>1824371.76</td>\n",
       "      <td>62.40</td>\n",
       "    </tr>\n",
       "    <tr>\n",
       "      <th>5222</th>\n",
       "      <td>2025-05-14</td>\n",
       "      <td>Golden Gate Bridge, Highway and Transportation District</td>\n",
       "      <td>154 Novato - San Francisco</td>\n",
       "      <td>172674.66</td>\n",
       "      <td>131</td>\n",
       "      <td>4</td>\n",
       "      <td>35125.00</td>\n",
       "      <td>0.10</td>\n",
       "    </tr>\n",
       "    <tr>\n",
       "      <th>5223</th>\n",
       "      <td>2025-05-14</td>\n",
       "      <td>Golden Gate Bridge, Highway and Transportation District</td>\n",
       "      <td>154 Novato - San Francisco</td>\n",
       "      <td>172674.66</td>\n",
       "      <td>580</td>\n",
       "      <td>4</td>\n",
       "      <td>621177.64</td>\n",
       "      <td>0.10</td>\n",
       "    </tr>\n",
       "    <tr>\n",
       "      <th>5224</th>\n",
       "      <td>2025-05-14</td>\n",
       "      <td>Golden Gate Bridge, Highway and Transportation District</td>\n",
       "      <td>154 Novato - San Francisco</td>\n",
       "      <td>172674.66</td>\n",
       "      <td>37</td>\n",
       "      <td>4</td>\n",
       "      <td>225675.01</td>\n",
       "      <td>0.30</td>\n",
       "    </tr>\n",
       "    <tr>\n",
       "      <th>5225</th>\n",
       "      <td>2025-05-14</td>\n",
       "      <td>Golden Gate Bridge, Highway and Transportation District</td>\n",
       "      <td>154 Novato - San Francisco</td>\n",
       "      <td>172674.66</td>\n",
       "      <td>80</td>\n",
       "      <td>4</td>\n",
       "      <td>748779.57</td>\n",
       "      <td>0.10</td>\n",
       "    </tr>\n",
       "    <tr>\n",
       "      <th>5232</th>\n",
       "      <td>2025-05-14</td>\n",
       "      <td>Golden Gate Bridge, Highway and Transportation District</td>\n",
       "      <td>164 Petaluma - San Francisco</td>\n",
       "      <td>236848.64</td>\n",
       "      <td>80</td>\n",
       "      <td>4</td>\n",
       "      <td>748779.57</td>\n",
       "      <td>0.10</td>\n",
       "    </tr>\n",
       "    <tr>\n",
       "      <th>5230</th>\n",
       "      <td>2025-05-14</td>\n",
       "      <td>Golden Gate Bridge, Highway and Transportation District</td>\n",
       "      <td>164 Petaluma - San Francisco</td>\n",
       "      <td>236848.64</td>\n",
       "      <td>37</td>\n",
       "      <td>4</td>\n",
       "      <td>225675.01</td>\n",
       "      <td>0.00</td>\n",
       "    </tr>\n",
       "    <tr>\n",
       "      <th>5229</th>\n",
       "      <td>2025-05-14</td>\n",
       "      <td>Golden Gate Bridge, Highway and Transportation District</td>\n",
       "      <td>164 Petaluma - San Francisco</td>\n",
       "      <td>236848.64</td>\n",
       "      <td>580</td>\n",
       "      <td>4</td>\n",
       "      <td>621177.64</td>\n",
       "      <td>0.00</td>\n",
       "    </tr>\n",
       "    <tr>\n",
       "      <th>5231</th>\n",
       "      <td>2025-05-14</td>\n",
       "      <td>Golden Gate Bridge, Highway and Transportation District</td>\n",
       "      <td>164 Petaluma - San Francisco</td>\n",
       "      <td>236848.64</td>\n",
       "      <td>116</td>\n",
       "      <td>4</td>\n",
       "      <td>265930.40</td>\n",
       "      <td>1.30</td>\n",
       "    </tr>\n",
       "    <tr>\n",
       "      <th>5227</th>\n",
       "      <td>2025-05-14</td>\n",
       "      <td>Golden Gate Bridge, Highway and Transportation District</td>\n",
       "      <td>164 Petaluma - San Francisco</td>\n",
       "      <td>236848.64</td>\n",
       "      <td>101</td>\n",
       "      <td>4</td>\n",
       "      <td>1824371.76</td>\n",
       "      <td>73.20</td>\n",
       "    </tr>\n",
       "    <tr>\n",
       "      <th>5226</th>\n",
       "      <td>2025-05-14</td>\n",
       "      <td>Golden Gate Bridge, Highway and Transportation District</td>\n",
       "      <td>164 Petaluma - San Francisco</td>\n",
       "      <td>236848.64</td>\n",
       "      <td>1</td>\n",
       "      <td>4</td>\n",
       "      <td>944979.07</td>\n",
       "      <td>0.10</td>\n",
       "    </tr>\n",
       "    <tr>\n",
       "      <th>5228</th>\n",
       "      <td>2025-05-14</td>\n",
       "      <td>Golden Gate Bridge, Highway and Transportation District</td>\n",
       "      <td>164 Petaluma - San Francisco</td>\n",
       "      <td>236848.64</td>\n",
       "      <td>131</td>\n",
       "      <td>4</td>\n",
       "      <td>35125.00</td>\n",
       "      <td>0.00</td>\n",
       "    </tr>\n",
       "    <tr>\n",
       "      <th>5233</th>\n",
       "      <td>2025-05-14</td>\n",
       "      <td>Golden Gate Bridge, Highway and Transportation District</td>\n",
       "      <td>172 Santa Rosa - San Francisco</td>\n",
       "      <td>331701.19</td>\n",
       "      <td>1</td>\n",
       "      <td>4</td>\n",
       "      <td>944979.07</td>\n",
       "      <td>0.10</td>\n",
       "    </tr>\n",
       "    <tr>\n",
       "      <th>5234</th>\n",
       "      <td>2025-05-14</td>\n",
       "      <td>Golden Gate Bridge, Highway and Transportation District</td>\n",
       "      <td>172 Santa Rosa - San Francisco</td>\n",
       "      <td>331701.19</td>\n",
       "      <td>101</td>\n",
       "      <td>4</td>\n",
       "      <td>1824371.76</td>\n",
       "      <td>78.60</td>\n",
       "    </tr>\n",
       "    <tr>\n",
       "      <th>5235</th>\n",
       "      <td>2025-05-14</td>\n",
       "      <td>Golden Gate Bridge, Highway and Transportation District</td>\n",
       "      <td>172 Santa Rosa - San Francisco</td>\n",
       "      <td>331701.19</td>\n",
       "      <td>131</td>\n",
       "      <td>4</td>\n",
       "      <td>35125.00</td>\n",
       "      <td>0.00</td>\n",
       "    </tr>\n",
       "    <tr>\n",
       "      <th>5236</th>\n",
       "      <td>2025-05-14</td>\n",
       "      <td>Golden Gate Bridge, Highway and Transportation District</td>\n",
       "      <td>172 Santa Rosa - San Francisco</td>\n",
       "      <td>331701.19</td>\n",
       "      <td>580</td>\n",
       "      <td>4</td>\n",
       "      <td>621177.64</td>\n",
       "      <td>0.00</td>\n",
       "    </tr>\n",
       "    <tr>\n",
       "      <th>5237</th>\n",
       "      <td>2025-05-14</td>\n",
       "      <td>Golden Gate Bridge, Highway and Transportation District</td>\n",
       "      <td>172 Santa Rosa - San Francisco</td>\n",
       "      <td>331701.19</td>\n",
       "      <td>37</td>\n",
       "      <td>4</td>\n",
       "      <td>225675.01</td>\n",
       "      <td>0.00</td>\n",
       "    </tr>\n",
       "    <tr>\n",
       "      <th>5238</th>\n",
       "      <td>2025-05-14</td>\n",
       "      <td>Golden Gate Bridge, Highway and Transportation District</td>\n",
       "      <td>172 Santa Rosa - San Francisco</td>\n",
       "      <td>331701.19</td>\n",
       "      <td>12</td>\n",
       "      <td>4</td>\n",
       "      <td>478781.00</td>\n",
       "      <td>1.00</td>\n",
       "    </tr>\n",
       "    <tr>\n",
       "      <th>5239</th>\n",
       "      <td>2025-05-14</td>\n",
       "      <td>Golden Gate Bridge, Highway and Transportation District</td>\n",
       "      <td>172 Santa Rosa - San Francisco</td>\n",
       "      <td>331701.19</td>\n",
       "      <td>116</td>\n",
       "      <td>4</td>\n",
       "      <td>265930.40</td>\n",
       "      <td>0.00</td>\n",
       "    </tr>\n",
       "    <tr>\n",
       "      <th>5240</th>\n",
       "      <td>2025-05-14</td>\n",
       "      <td>Golden Gate Bridge, Highway and Transportation District</td>\n",
       "      <td>172 Santa Rosa - San Francisco</td>\n",
       "      <td>331701.19</td>\n",
       "      <td>80</td>\n",
       "      <td>4</td>\n",
       "      <td>748779.57</td>\n",
       "      <td>0.00</td>\n",
       "    </tr>\n",
       "    <tr>\n",
       "      <th>5248</th>\n",
       "      <td>2025-05-14</td>\n",
       "      <td>Golden Gate Bridge, Highway and Transportation District</td>\n",
       "      <td>172X Santa Rosa - San Francisco Express</td>\n",
       "      <td>324977.86</td>\n",
       "      <td>80</td>\n",
       "      <td>4</td>\n",
       "      <td>748779.57</td>\n",
       "      <td>0.00</td>\n",
       "    </tr>\n",
       "    <tr>\n",
       "      <th>5246</th>\n",
       "      <td>2025-05-14</td>\n",
       "      <td>Golden Gate Bridge, Highway and Transportation District</td>\n",
       "      <td>172X Santa Rosa - San Francisco Express</td>\n",
       "      <td>324977.86</td>\n",
       "      <td>12</td>\n",
       "      <td>4</td>\n",
       "      <td>478781.00</td>\n",
       "      <td>1.10</td>\n",
       "    </tr>\n",
       "    <tr>\n",
       "      <th>5245</th>\n",
       "      <td>2025-05-14</td>\n",
       "      <td>Golden Gate Bridge, Highway and Transportation District</td>\n",
       "      <td>172X Santa Rosa - San Francisco Express</td>\n",
       "      <td>324977.86</td>\n",
       "      <td>37</td>\n",
       "      <td>4</td>\n",
       "      <td>225675.01</td>\n",
       "      <td>0.00</td>\n",
       "    </tr>\n",
       "    <tr>\n",
       "      <th>5247</th>\n",
       "      <td>2025-05-14</td>\n",
       "      <td>Golden Gate Bridge, Highway and Transportation District</td>\n",
       "      <td>172X Santa Rosa - San Francisco Express</td>\n",
       "      <td>324977.86</td>\n",
       "      <td>116</td>\n",
       "      <td>4</td>\n",
       "      <td>265930.40</td>\n",
       "      <td>0.10</td>\n",
       "    </tr>\n",
       "    <tr>\n",
       "      <th>5243</th>\n",
       "      <td>2025-05-14</td>\n",
       "      <td>Golden Gate Bridge, Highway and Transportation District</td>\n",
       "      <td>172X Santa Rosa - San Francisco Express</td>\n",
       "      <td>324977.86</td>\n",
       "      <td>131</td>\n",
       "      <td>4</td>\n",
       "      <td>35125.00</td>\n",
       "      <td>0.00</td>\n",
       "    </tr>\n",
       "    <tr>\n",
       "      <th>5242</th>\n",
       "      <td>2025-05-14</td>\n",
       "      <td>Golden Gate Bridge, Highway and Transportation District</td>\n",
       "      <td>172X Santa Rosa - San Francisco Express</td>\n",
       "      <td>324977.86</td>\n",
       "      <td>101</td>\n",
       "      <td>4</td>\n",
       "      <td>1824371.76</td>\n",
       "      <td>84.20</td>\n",
       "    </tr>\n",
       "    <tr>\n",
       "      <th>5241</th>\n",
       "      <td>2025-05-14</td>\n",
       "      <td>Golden Gate Bridge, Highway and Transportation District</td>\n",
       "      <td>172X Santa Rosa - San Francisco Express</td>\n",
       "      <td>324977.86</td>\n",
       "      <td>1</td>\n",
       "      <td>4</td>\n",
       "      <td>944979.07</td>\n",
       "      <td>0.10</td>\n",
       "    </tr>\n",
       "    <tr>\n",
       "      <th>5244</th>\n",
       "      <td>2025-05-14</td>\n",
       "      <td>Golden Gate Bridge, Highway and Transportation District</td>\n",
       "      <td>172X Santa Rosa - San Francisco Express</td>\n",
       "      <td>324977.86</td>\n",
       "      <td>580</td>\n",
       "      <td>4</td>\n",
       "      <td>621177.64</td>\n",
       "      <td>0.00</td>\n",
       "    </tr>\n",
       "    <tr>\n",
       "      <th>5249</th>\n",
       "      <td>2025-05-14</td>\n",
       "      <td>Golden Gate Bridge, Highway and Transportation District</td>\n",
       "      <td>580 Del Norte BART Station - San Rafael</td>\n",
       "      <td>71600.72</td>\n",
       "      <td>101</td>\n",
       "      <td>4</td>\n",
       "      <td>1824371.76</td>\n",
       "      <td>0.40</td>\n",
       "    </tr>\n",
       "    <tr>\n",
       "      <th>5250</th>\n",
       "      <td>2025-05-14</td>\n",
       "      <td>Golden Gate Bridge, Highway and Transportation District</td>\n",
       "      <td>580 Del Norte BART Station - San Rafael</td>\n",
       "      <td>71600.72</td>\n",
       "      <td>580</td>\n",
       "      <td>4</td>\n",
       "      <td>621177.64</td>\n",
       "      <td>46.00</td>\n",
       "    </tr>\n",
       "    <tr>\n",
       "      <th>5251</th>\n",
       "      <td>2025-05-14</td>\n",
       "      <td>Golden Gate Bridge, Highway and Transportation District</td>\n",
       "      <td>580 Del Norte BART Station - San Rafael</td>\n",
       "      <td>71600.72</td>\n",
       "      <td>80</td>\n",
       "      <td>4</td>\n",
       "      <td>748779.57</td>\n",
       "      <td>0.30</td>\n",
       "    </tr>\n",
       "    <tr>\n",
       "      <th>5252</th>\n",
       "      <td>2025-05-14</td>\n",
       "      <td>Golden Gate Bridge, Highway and Transportation District</td>\n",
       "      <td>580 Del Norte BART Station - San Rafael</td>\n",
       "      <td>71600.72</td>\n",
       "      <td>123</td>\n",
       "      <td>4</td>\n",
       "      <td>68502.68</td>\n",
       "      <td>1.00</td>\n",
       "    </tr>\n",
       "    <tr>\n",
       "      <th>5256</th>\n",
       "      <td>2025-05-14</td>\n",
       "      <td>Golden Gate Bridge, Highway and Transportation District</td>\n",
       "      <td>580X Del Norte BART Station - San Rafael Express</td>\n",
       "      <td>67803.32</td>\n",
       "      <td>123</td>\n",
       "      <td>4</td>\n",
       "      <td>68502.68</td>\n",
       "      <td>1.10</td>\n",
       "    </tr>\n",
       "    <tr>\n",
       "      <th>5255</th>\n",
       "      <td>2025-05-14</td>\n",
       "      <td>Golden Gate Bridge, Highway and Transportation District</td>\n",
       "      <td>580X Del Norte BART Station - San Rafael Express</td>\n",
       "      <td>67803.32</td>\n",
       "      <td>80</td>\n",
       "      <td>4</td>\n",
       "      <td>748779.57</td>\n",
       "      <td>0.40</td>\n",
       "    </tr>\n",
       "    <tr>\n",
       "      <th>5253</th>\n",
       "      <td>2025-05-14</td>\n",
       "      <td>Golden Gate Bridge, Highway and Transportation District</td>\n",
       "      <td>580X Del Norte BART Station - San Rafael Express</td>\n",
       "      <td>67803.32</td>\n",
       "      <td>101</td>\n",
       "      <td>4</td>\n",
       "      <td>1824371.76</td>\n",
       "      <td>5.60</td>\n",
       "    </tr>\n",
       "    <tr>\n",
       "      <th>5254</th>\n",
       "      <td>2025-05-14</td>\n",
       "      <td>Golden Gate Bridge, Highway and Transportation District</td>\n",
       "      <td>580X Del Norte BART Station - San Rafael Express</td>\n",
       "      <td>67803.32</td>\n",
       "      <td>580</td>\n",
       "      <td>4</td>\n",
       "      <td>621177.64</td>\n",
       "      <td>64.40</td>\n",
       "    </tr>\n",
       "    <tr>\n",
       "      <th>5257</th>\n",
       "      <td>2025-05-14</td>\n",
       "      <td>Golden Gate Bridge, Highway and Transportation District</td>\n",
       "      <td>704 Del Norte BART Station - San Francisco</td>\n",
       "      <td>75705.56</td>\n",
       "      <td>580</td>\n",
       "      <td>4</td>\n",
       "      <td>621177.64</td>\n",
       "      <td>1.60</td>\n",
       "    </tr>\n",
       "    <tr>\n",
       "      <th>5258</th>\n",
       "      <td>2025-05-14</td>\n",
       "      <td>Golden Gate Bridge, Highway and Transportation District</td>\n",
       "      <td>704 Del Norte BART Station - San Francisco</td>\n",
       "      <td>75705.56</td>\n",
       "      <td>80</td>\n",
       "      <td>4</td>\n",
       "      <td>748779.57</td>\n",
       "      <td>73.70</td>\n",
       "    </tr>\n",
       "    <tr>\n",
       "      <th>5259</th>\n",
       "      <td>2025-05-14</td>\n",
       "      <td>Golden Gate Bridge, Highway and Transportation District</td>\n",
       "      <td>704 Del Norte BART Station - San Francisco</td>\n",
       "      <td>75705.56</td>\n",
       "      <td>880</td>\n",
       "      <td>4</td>\n",
       "      <td>501522.66</td>\n",
       "      <td>2.00</td>\n",
       "    </tr>\n",
       "    <tr>\n",
       "      <th>5260</th>\n",
       "      <td>2025-05-14</td>\n",
       "      <td>Golden Gate Bridge, Highway and Transportation District</td>\n",
       "      <td>704 Del Norte BART Station - San Francisco</td>\n",
       "      <td>75705.56</td>\n",
       "      <td>13</td>\n",
       "      <td>4</td>\n",
       "      <td>84401.11</td>\n",
       "      <td>0.20</td>\n",
       "    </tr>\n",
       "    <tr>\n",
       "      <th>5261</th>\n",
       "      <td>2025-05-14</td>\n",
       "      <td>Golden Gate Bridge, Highway and Transportation District</td>\n",
       "      <td>704 Del Norte BART Station - San Francisco</td>\n",
       "      <td>75705.56</td>\n",
       "      <td>123</td>\n",
       "      <td>4</td>\n",
       "      <td>68502.68</td>\n",
       "      <td>1.20</td>\n",
       "    </tr>\n",
       "    <tr>\n",
       "      <th>5262</th>\n",
       "      <td>2025-05-14</td>\n",
       "      <td>Golden Gate Bridge, Highway and Transportation District</td>\n",
       "      <td>AISF Angel Island - San Francisco Ferry</td>\n",
       "      <td>37411.10</td>\n",
       "      <td>NaN</td>\n",
       "      <td>0</td>\n",
       "      <td>NaN</td>\n",
       "      <td>NaN</td>\n",
       "    </tr>\n",
       "    <tr>\n",
       "      <th>5263</th>\n",
       "      <td>2025-05-14</td>\n",
       "      <td>Golden Gate Bridge, Highway and Transportation District</td>\n",
       "      <td>LSSF Larkspur - San Francisco Ferry</td>\n",
       "      <td>68152.43</td>\n",
       "      <td>NaN</td>\n",
       "      <td>0</td>\n",
       "      <td>NaN</td>\n",
       "      <td>NaN</td>\n",
       "    </tr>\n",
       "    <tr>\n",
       "      <th>5264</th>\n",
       "      <td>2025-05-14</td>\n",
       "      <td>Golden Gate Bridge, Highway and Transportation District</td>\n",
       "      <td>SSSF Sausalito - San Francisco Ferry</td>\n",
       "      <td>35761.60</td>\n",
       "      <td>NaN</td>\n",
       "      <td>0</td>\n",
       "      <td>NaN</td>\n",
       "      <td>NaN</td>\n",
       "    </tr>\n",
       "    <tr>\n",
       "      <th>5265</th>\n",
       "      <td>2025-05-14</td>\n",
       "      <td>Golden Gate Bridge, Highway and Transportation District</td>\n",
       "      <td>TBSF Tiburon - San Francisco Ferry</td>\n",
       "      <td>35928.35</td>\n",
       "      <td>NaN</td>\n",
       "      <td>0</td>\n",
       "      <td>NaN</td>\n",
       "      <td>NaN</td>\n",
       "    </tr>\n",
       "  </tbody>\n",
       "</table>\n",
       "</div>"
      ],
      "text/plain": [
       "     service_date                              portfolio_organization_name  \\\n",
       "5198   2025-05-14  Golden Gate Bridge, Highway and Transportation District   \n",
       "5199   2025-05-14  Golden Gate Bridge, Highway and Transportation District   \n",
       "5200   2025-05-14  Golden Gate Bridge, Highway and Transportation District   \n",
       "5201   2025-05-14  Golden Gate Bridge, Highway and Transportation District   \n",
       "5202   2025-05-14  Golden Gate Bridge, Highway and Transportation District   \n",
       "5203   2025-05-14  Golden Gate Bridge, Highway and Transportation District   \n",
       "5204   2025-05-14  Golden Gate Bridge, Highway and Transportation District   \n",
       "5205   2025-05-14  Golden Gate Bridge, Highway and Transportation District   \n",
       "5206   2025-05-14  Golden Gate Bridge, Highway and Transportation District   \n",
       "5207   2025-05-14  Golden Gate Bridge, Highway and Transportation District   \n",
       "5208   2025-05-14  Golden Gate Bridge, Highway and Transportation District   \n",
       "5209   2025-05-14  Golden Gate Bridge, Highway and Transportation District   \n",
       "5210   2025-05-14  Golden Gate Bridge, Highway and Transportation District   \n",
       "5215   2025-05-14  Golden Gate Bridge, Highway and Transportation District   \n",
       "5214   2025-05-14  Golden Gate Bridge, Highway and Transportation District   \n",
       "5213   2025-05-14  Golden Gate Bridge, Highway and Transportation District   \n",
       "5212   2025-05-14  Golden Gate Bridge, Highway and Transportation District   \n",
       "5211   2025-05-14  Golden Gate Bridge, Highway and Transportation District   \n",
       "5216   2025-05-14  Golden Gate Bridge, Highway and Transportation District   \n",
       "5217   2025-05-14  Golden Gate Bridge, Highway and Transportation District   \n",
       "5218   2025-05-14  Golden Gate Bridge, Highway and Transportation District   \n",
       "5219   2025-05-14  Golden Gate Bridge, Highway and Transportation District   \n",
       "5220   2025-05-14  Golden Gate Bridge, Highway and Transportation District   \n",
       "5221   2025-05-14  Golden Gate Bridge, Highway and Transportation District   \n",
       "5222   2025-05-14  Golden Gate Bridge, Highway and Transportation District   \n",
       "5223   2025-05-14  Golden Gate Bridge, Highway and Transportation District   \n",
       "5224   2025-05-14  Golden Gate Bridge, Highway and Transportation District   \n",
       "5225   2025-05-14  Golden Gate Bridge, Highway and Transportation District   \n",
       "5232   2025-05-14  Golden Gate Bridge, Highway and Transportation District   \n",
       "5230   2025-05-14  Golden Gate Bridge, Highway and Transportation District   \n",
       "5229   2025-05-14  Golden Gate Bridge, Highway and Transportation District   \n",
       "5231   2025-05-14  Golden Gate Bridge, Highway and Transportation District   \n",
       "5227   2025-05-14  Golden Gate Bridge, Highway and Transportation District   \n",
       "5226   2025-05-14  Golden Gate Bridge, Highway and Transportation District   \n",
       "5228   2025-05-14  Golden Gate Bridge, Highway and Transportation District   \n",
       "5233   2025-05-14  Golden Gate Bridge, Highway and Transportation District   \n",
       "5234   2025-05-14  Golden Gate Bridge, Highway and Transportation District   \n",
       "5235   2025-05-14  Golden Gate Bridge, Highway and Transportation District   \n",
       "5236   2025-05-14  Golden Gate Bridge, Highway and Transportation District   \n",
       "5237   2025-05-14  Golden Gate Bridge, Highway and Transportation District   \n",
       "5238   2025-05-14  Golden Gate Bridge, Highway and Transportation District   \n",
       "5239   2025-05-14  Golden Gate Bridge, Highway and Transportation District   \n",
       "5240   2025-05-14  Golden Gate Bridge, Highway and Transportation District   \n",
       "5248   2025-05-14  Golden Gate Bridge, Highway and Transportation District   \n",
       "5246   2025-05-14  Golden Gate Bridge, Highway and Transportation District   \n",
       "5245   2025-05-14  Golden Gate Bridge, Highway and Transportation District   \n",
       "5247   2025-05-14  Golden Gate Bridge, Highway and Transportation District   \n",
       "5243   2025-05-14  Golden Gate Bridge, Highway and Transportation District   \n",
       "5242   2025-05-14  Golden Gate Bridge, Highway and Transportation District   \n",
       "5241   2025-05-14  Golden Gate Bridge, Highway and Transportation District   \n",
       "5244   2025-05-14  Golden Gate Bridge, Highway and Transportation District   \n",
       "5249   2025-05-14  Golden Gate Bridge, Highway and Transportation District   \n",
       "5250   2025-05-14  Golden Gate Bridge, Highway and Transportation District   \n",
       "5251   2025-05-14  Golden Gate Bridge, Highway and Transportation District   \n",
       "5252   2025-05-14  Golden Gate Bridge, Highway and Transportation District   \n",
       "5256   2025-05-14  Golden Gate Bridge, Highway and Transportation District   \n",
       "5255   2025-05-14  Golden Gate Bridge, Highway and Transportation District   \n",
       "5253   2025-05-14  Golden Gate Bridge, Highway and Transportation District   \n",
       "5254   2025-05-14  Golden Gate Bridge, Highway and Transportation District   \n",
       "5257   2025-05-14  Golden Gate Bridge, Highway and Transportation District   \n",
       "5258   2025-05-14  Golden Gate Bridge, Highway and Transportation District   \n",
       "5259   2025-05-14  Golden Gate Bridge, Highway and Transportation District   \n",
       "5260   2025-05-14  Golden Gate Bridge, Highway and Transportation District   \n",
       "5261   2025-05-14  Golden Gate Bridge, Highway and Transportation District   \n",
       "5262   2025-05-14  Golden Gate Bridge, Highway and Transportation District   \n",
       "5263   2025-05-14  Golden Gate Bridge, Highway and Transportation District   \n",
       "5264   2025-05-14  Golden Gate Bridge, Highway and Transportation District   \n",
       "5265   2025-05-14  Golden Gate Bridge, Highway and Transportation District   \n",
       "\n",
       "                                  recent_combined_name  route_length_feet  \\\n",
       "5198                    101 Santa Rosa - San Francisco          330666.26   \n",
       "5199                    101 Santa Rosa - San Francisco          330666.26   \n",
       "5200                    101 Santa Rosa - San Francisco          330666.26   \n",
       "5201                    101 Santa Rosa - San Francisco          330666.26   \n",
       "5202                    101 Santa Rosa - San Francisco          330666.26   \n",
       "5203                    101 Santa Rosa - San Francisco          330666.26   \n",
       "5204                   114 Mill Valley - San Francisco           97788.44   \n",
       "5205                   114 Mill Valley - San Francisco           97788.44   \n",
       "5206                   114 Mill Valley - San Francisco           97788.44   \n",
       "5207                    130 San Rafael - San Francisco          124935.82   \n",
       "5208                    130 San Rafael - San Francisco          124935.82   \n",
       "5209                    130 San Rafael - San Francisco          124935.82   \n",
       "5210                    130 San Rafael - San Francisco          124935.82   \n",
       "5215                   132 San Anselmo - San Francisco          115948.92   \n",
       "5214                   132 San Anselmo - San Francisco          115948.92   \n",
       "5213                   132 San Anselmo - San Francisco          115948.92   \n",
       "5212                   132 San Anselmo - San Francisco          115948.92   \n",
       "5211                   132 San Anselmo - San Francisco          115948.92   \n",
       "5216                    150 San Rafael - San Francisco          111677.79   \n",
       "5217                    150 San Rafael - San Francisco          111677.79   \n",
       "5218                    150 San Rafael - San Francisco          111677.79   \n",
       "5219                    150 San Rafael - San Francisco          111677.79   \n",
       "5220                        154 Novato - San Francisco          172674.66   \n",
       "5221                        154 Novato - San Francisco          172674.66   \n",
       "5222                        154 Novato - San Francisco          172674.66   \n",
       "5223                        154 Novato - San Francisco          172674.66   \n",
       "5224                        154 Novato - San Francisco          172674.66   \n",
       "5225                        154 Novato - San Francisco          172674.66   \n",
       "5232                      164 Petaluma - San Francisco          236848.64   \n",
       "5230                      164 Petaluma - San Francisco          236848.64   \n",
       "5229                      164 Petaluma - San Francisco          236848.64   \n",
       "5231                      164 Petaluma - San Francisco          236848.64   \n",
       "5227                      164 Petaluma - San Francisco          236848.64   \n",
       "5226                      164 Petaluma - San Francisco          236848.64   \n",
       "5228                      164 Petaluma - San Francisco          236848.64   \n",
       "5233                    172 Santa Rosa - San Francisco          331701.19   \n",
       "5234                    172 Santa Rosa - San Francisco          331701.19   \n",
       "5235                    172 Santa Rosa - San Francisco          331701.19   \n",
       "5236                    172 Santa Rosa - San Francisco          331701.19   \n",
       "5237                    172 Santa Rosa - San Francisco          331701.19   \n",
       "5238                    172 Santa Rosa - San Francisco          331701.19   \n",
       "5239                    172 Santa Rosa - San Francisco          331701.19   \n",
       "5240                    172 Santa Rosa - San Francisco          331701.19   \n",
       "5248           172X Santa Rosa - San Francisco Express          324977.86   \n",
       "5246           172X Santa Rosa - San Francisco Express          324977.86   \n",
       "5245           172X Santa Rosa - San Francisco Express          324977.86   \n",
       "5247           172X Santa Rosa - San Francisco Express          324977.86   \n",
       "5243           172X Santa Rosa - San Francisco Express          324977.86   \n",
       "5242           172X Santa Rosa - San Francisco Express          324977.86   \n",
       "5241           172X Santa Rosa - San Francisco Express          324977.86   \n",
       "5244           172X Santa Rosa - San Francisco Express          324977.86   \n",
       "5249           580 Del Norte BART Station - San Rafael           71600.72   \n",
       "5250           580 Del Norte BART Station - San Rafael           71600.72   \n",
       "5251           580 Del Norte BART Station - San Rafael           71600.72   \n",
       "5252           580 Del Norte BART Station - San Rafael           71600.72   \n",
       "5256  580X Del Norte BART Station - San Rafael Express           67803.32   \n",
       "5255  580X Del Norte BART Station - San Rafael Express           67803.32   \n",
       "5253  580X Del Norte BART Station - San Rafael Express           67803.32   \n",
       "5254  580X Del Norte BART Station - San Rafael Express           67803.32   \n",
       "5257        704 Del Norte BART Station - San Francisco           75705.56   \n",
       "5258        704 Del Norte BART Station - San Francisco           75705.56   \n",
       "5259        704 Del Norte BART Station - San Francisco           75705.56   \n",
       "5260        704 Del Norte BART Station - San Francisco           75705.56   \n",
       "5261        704 Del Norte BART Station - San Francisco           75705.56   \n",
       "5262           AISF Angel Island - San Francisco Ferry           37411.10   \n",
       "5263               LSSF Larkspur - San Francisco Ferry           68152.43   \n",
       "5264              SSSF Sausalito - San Francisco Ferry           35761.60   \n",
       "5265                TBSF Tiburon - San Francisco Ferry           35928.35   \n",
       "\n",
       "     shn_route  District  highway_feet  pct_route_on_hwy  \n",
       "5198         1         4     944979.07              0.10  \n",
       "5199       101         4    1824371.76             76.00  \n",
       "5200       131         4      35125.00              0.00  \n",
       "5201       580         4     621177.64              0.00  \n",
       "5202        37         4     225675.01              0.00  \n",
       "5203        12         4     478781.00              0.10  \n",
       "5204         1         4     944979.07              3.40  \n",
       "5205       101         4    1824371.76             34.00  \n",
       "5206        80         4     748779.57              0.10  \n",
       "5207         1         4     944979.07              0.10  \n",
       "5208       101         4    1824371.76             47.60  \n",
       "5209       131         4      35125.00              0.10  \n",
       "5210       580         4     621177.64              0.20  \n",
       "5215        80         4     748779.57              0.10  \n",
       "5214       580         4     621177.64              0.10  \n",
       "5213       131         4      35125.00              0.10  \n",
       "5212       101         4    1824371.76             56.10  \n",
       "5211         1         4     944979.07              0.20  \n",
       "5216         1         4     944979.07              0.60  \n",
       "5217       101         4    1824371.76             64.40  \n",
       "5218       131         4      35125.00              0.10  \n",
       "5219       580         4     621177.64              0.10  \n",
       "5220         1         4     944979.07              0.10  \n",
       "5221       101         4    1824371.76             62.40  \n",
       "5222       131         4      35125.00              0.10  \n",
       "5223       580         4     621177.64              0.10  \n",
       "5224        37         4     225675.01              0.30  \n",
       "5225        80         4     748779.57              0.10  \n",
       "5232        80         4     748779.57              0.10  \n",
       "5230        37         4     225675.01              0.00  \n",
       "5229       580         4     621177.64              0.00  \n",
       "5231       116         4     265930.40              1.30  \n",
       "5227       101         4    1824371.76             73.20  \n",
       "5226         1         4     944979.07              0.10  \n",
       "5228       131         4      35125.00              0.00  \n",
       "5233         1         4     944979.07              0.10  \n",
       "5234       101         4    1824371.76             78.60  \n",
       "5235       131         4      35125.00              0.00  \n",
       "5236       580         4     621177.64              0.00  \n",
       "5237        37         4     225675.01              0.00  \n",
       "5238        12         4     478781.00              1.00  \n",
       "5239       116         4     265930.40              0.00  \n",
       "5240        80         4     748779.57              0.00  \n",
       "5248        80         4     748779.57              0.00  \n",
       "5246        12         4     478781.00              1.10  \n",
       "5245        37         4     225675.01              0.00  \n",
       "5247       116         4     265930.40              0.10  \n",
       "5243       131         4      35125.00              0.00  \n",
       "5242       101         4    1824371.76             84.20  \n",
       "5241         1         4     944979.07              0.10  \n",
       "5244       580         4     621177.64              0.00  \n",
       "5249       101         4    1824371.76              0.40  \n",
       "5250       580         4     621177.64             46.00  \n",
       "5251        80         4     748779.57              0.30  \n",
       "5252       123         4      68502.68              1.00  \n",
       "5256       123         4      68502.68              1.10  \n",
       "5255        80         4     748779.57              0.40  \n",
       "5253       101         4    1824371.76              5.60  \n",
       "5254       580         4     621177.64             64.40  \n",
       "5257       580         4     621177.64              1.60  \n",
       "5258        80         4     748779.57             73.70  \n",
       "5259       880         4     501522.66              2.00  \n",
       "5260        13         4      84401.11              0.20  \n",
       "5261       123         4      68502.68              1.20  \n",
       "5262       NaN         0           NaN               NaN  \n",
       "5263       NaN         0           NaN               NaN  \n",
       "5264       NaN         0           NaN               NaN  \n",
       "5265       NaN         0           NaN               NaN  "
      ]
     },
     "execution_count": 72,
     "metadata": {},
     "output_type": "execute_result"
    }
   ],
   "source": [
    "intersecting.loc[intersecting.portfolio_organization_name == 'Golden Gate Bridge, Highway and Transportation District',].drop(\n",
    "    columns=[\"geometry\"]\n",
    ").sort_values(by = [\"recent_combined_name\"])"
   ]
  },
  {
   "cell_type": "code",
   "execution_count": 78,
   "id": "53d80ab3-4a0b-4e9d-b140-9944deda1d6b",
   "metadata": {
    "tags": []
   },
   "outputs": [
    {
     "data": {
      "text/plain": [
       "63.1"
      ]
     },
     "execution_count": 78,
     "metadata": {},
     "output_type": "execute_result"
    }
   ],
   "source": [
    "intersecting.loc[intersecting.recent_combined_name == '154 Novato - San Francisco',].pct_route_on_hwy.sum()"
   ]
  },
  {
   "cell_type": "code",
   "execution_count": 79,
   "id": "989bbf7e-1e9e-4494-9250-9daec1b585e2",
   "metadata": {
    "tags": []
   },
   "outputs": [
    {
     "data": {
      "text/html": [
       "<div>\n",
       "<style scoped>\n",
       "    .dataframe tbody tr th:only-of-type {\n",
       "        vertical-align: middle;\n",
       "    }\n",
       "\n",
       "    .dataframe tbody tr th {\n",
       "        vertical-align: top;\n",
       "    }\n",
       "\n",
       "    .dataframe thead th {\n",
       "        text-align: right;\n",
       "    }\n",
       "</style>\n",
       "<table border=\"1\" class=\"dataframe\">\n",
       "  <thead>\n",
       "    <tr style=\"text-align: right;\">\n",
       "      <th></th>\n",
       "      <th>portfolio_organization_name</th>\n",
       "      <th>recent_combined_name</th>\n",
       "      <th>shn_route</th>\n",
       "      <th>District</th>\n",
       "      <th>pct_route_on_hwy_across_districts</th>\n",
       "      <th>on_shs</th>\n",
       "    </tr>\n",
       "  </thead>\n",
       "  <tbody>\n",
       "    <tr>\n",
       "      <th>1179</th>\n",
       "      <td>Golden Gate Bridge, Highway and Transportation District</td>\n",
       "      <td>154 Novato - San Francisco</td>\n",
       "      <td>101, 131, 580, 80, 1, 37</td>\n",
       "      <td>4</td>\n",
       "      <td>63.10</td>\n",
       "      <td>Y</td>\n",
       "    </tr>\n",
       "  </tbody>\n",
       "</table>\n",
       "</div>"
      ],
      "text/plain": [
       "                                  portfolio_organization_name  \\\n",
       "1179  Golden Gate Bridge, Highway and Transportation District   \n",
       "\n",
       "            recent_combined_name                 shn_route District  \\\n",
       "1179  154 Novato - San Francisco  101, 131, 580, 80, 1, 37        4   \n",
       "\n",
       "      pct_route_on_hwy_across_districts on_shs  \n",
       "1179                              63.10      Y  "
      ]
     },
     "execution_count": 79,
     "metadata": {},
     "output_type": "execute_result"
    }
   ],
   "source": [
    "open_data_portal_df.loc[open_data_portal_df.recent_combined_name == '154 Novato - San Francisco']"
   ]
  },
  {
   "cell_type": "code",
   "execution_count": 73,
   "id": "f7e51d3b-d453-4757-933c-5b060f968d59",
   "metadata": {
    "tags": []
   },
   "outputs": [
    {
     "data": {
      "text/plain": [
       "76.19999999999999"
      ]
     },
     "execution_count": 73,
     "metadata": {},
     "output_type": "execute_result"
    }
   ],
   "source": [
    "intersecting.loc[intersecting.recent_combined_name == '101 Santa Rosa - San Francisco',].pct_route_on_hwy.sum()"
   ]
  },
  {
   "cell_type": "code",
   "execution_count": 74,
   "id": "36226282-1c27-4677-8b8e-f0f60cfdc216",
   "metadata": {
    "tags": []
   },
   "outputs": [
    {
     "data": {
      "text/html": [
       "<div>\n",
       "<style scoped>\n",
       "    .dataframe tbody tr th:only-of-type {\n",
       "        vertical-align: middle;\n",
       "    }\n",
       "\n",
       "    .dataframe tbody tr th {\n",
       "        vertical-align: top;\n",
       "    }\n",
       "\n",
       "    .dataframe thead th {\n",
       "        text-align: right;\n",
       "    }\n",
       "</style>\n",
       "<table border=\"1\" class=\"dataframe\">\n",
       "  <thead>\n",
       "    <tr style=\"text-align: right;\">\n",
       "      <th></th>\n",
       "      <th>portfolio_organization_name</th>\n",
       "      <th>recent_combined_name</th>\n",
       "      <th>shn_route</th>\n",
       "      <th>District</th>\n",
       "      <th>pct_route_on_hwy_across_districts</th>\n",
       "      <th>on_shs</th>\n",
       "    </tr>\n",
       "  </thead>\n",
       "  <tbody>\n",
       "    <tr>\n",
       "      <th>1174</th>\n",
       "      <td>Golden Gate Bridge, Highway and Transportation District</td>\n",
       "      <td>101 Santa Rosa - San Francisco</td>\n",
       "      <td>101, 131, 580, 1, 37, 12</td>\n",
       "      <td>4</td>\n",
       "      <td>76.20</td>\n",
       "      <td>Y</td>\n",
       "    </tr>\n",
       "  </tbody>\n",
       "</table>\n",
       "</div>"
      ],
      "text/plain": [
       "                                  portfolio_organization_name  \\\n",
       "1174  Golden Gate Bridge, Highway and Transportation District   \n",
       "\n",
       "                recent_combined_name                 shn_route District  \\\n",
       "1174  101 Santa Rosa - San Francisco  101, 131, 580, 1, 37, 12        4   \n",
       "\n",
       "      pct_route_on_hwy_across_districts on_shs  \n",
       "1174                              76.20      Y  "
      ]
     },
     "execution_count": 74,
     "metadata": {},
     "output_type": "execute_result"
    }
   ],
   "source": [
    "open_data_portal_df.loc[open_data_portal_df.recent_combined_name == '101 Santa Rosa - San Francisco']"
   ]
  },
  {
   "cell_type": "code",
   "execution_count": 75,
   "id": "88bf23fe-0246-4201-8395-dcceee65160e",
   "metadata": {
    "tags": []
   },
   "outputs": [
    {
     "data": {
      "text/plain": [
       "56.600000000000016"
      ]
     },
     "execution_count": 75,
     "metadata": {},
     "output_type": "execute_result"
    }
   ],
   "source": [
    "intersecting.loc[intersecting.recent_combined_name == '132 San Anselmo - San Francisco',].pct_route_on_hwy.sum()"
   ]
  },
  {
   "cell_type": "code",
   "execution_count": 77,
   "id": "005163fa-b264-44f3-bca0-27f393492ecb",
   "metadata": {
    "tags": []
   },
   "outputs": [
    {
     "data": {
      "text/plain": [
       "5"
      ]
     },
     "execution_count": 77,
     "metadata": {},
     "output_type": "execute_result"
    }
   ],
   "source": [
    "intersecting.loc[intersecting.recent_combined_name == '132 San Anselmo - San Francisco',].shn_route.nunique()"
   ]
  },
  {
   "cell_type": "code",
   "execution_count": 76,
   "id": "ddd25ebb-c6ea-40ab-b80d-af6b50b5a8bc",
   "metadata": {
    "tags": []
   },
   "outputs": [
    {
     "data": {
      "text/html": [
       "<div>\n",
       "<style scoped>\n",
       "    .dataframe tbody tr th:only-of-type {\n",
       "        vertical-align: middle;\n",
       "    }\n",
       "\n",
       "    .dataframe tbody tr th {\n",
       "        vertical-align: top;\n",
       "    }\n",
       "\n",
       "    .dataframe thead th {\n",
       "        text-align: right;\n",
       "    }\n",
       "</style>\n",
       "<table border=\"1\" class=\"dataframe\">\n",
       "  <thead>\n",
       "    <tr style=\"text-align: right;\">\n",
       "      <th></th>\n",
       "      <th>portfolio_organization_name</th>\n",
       "      <th>recent_combined_name</th>\n",
       "      <th>shn_route</th>\n",
       "      <th>District</th>\n",
       "      <th>pct_route_on_hwy_across_districts</th>\n",
       "      <th>on_shs</th>\n",
       "    </tr>\n",
       "  </thead>\n",
       "  <tbody>\n",
       "    <tr>\n",
       "      <th>1177</th>\n",
       "      <td>Golden Gate Bridge, Highway and Transportation District</td>\n",
       "      <td>132 San Anselmo - San Francisco</td>\n",
       "      <td>101, 131, 580, 80, 1</td>\n",
       "      <td>4</td>\n",
       "      <td>56.60</td>\n",
       "      <td>Y</td>\n",
       "    </tr>\n",
       "  </tbody>\n",
       "</table>\n",
       "</div>"
      ],
      "text/plain": [
       "                                  portfolio_organization_name  \\\n",
       "1177  Golden Gate Bridge, Highway and Transportation District   \n",
       "\n",
       "                 recent_combined_name             shn_route District  \\\n",
       "1177  132 San Anselmo - San Francisco  101, 131, 580, 80, 1        4   \n",
       "\n",
       "      pct_route_on_hwy_across_districts on_shs  \n",
       "1177                              56.60      Y  "
      ]
     },
     "execution_count": 76,
     "metadata": {},
     "output_type": "execute_result"
    }
   ],
   "source": [
    "open_data_portal_df.loc[open_data_portal_df.recent_combined_name == '132 San Anselmo - San Francisco']"
   ]
  },
  {
   "cell_type": "markdown",
   "id": "9f9296aa-d0a9-45c3-b8a9-43872d1614dd",
   "metadata": {},
   "source": [
    "## Create final dataframes for portfolio"
   ]
  },
  {
   "cell_type": "code",
   "execution_count": 55,
   "id": "b8bbd0d5-6d96-4e31-8c61-9ccbc1699ee3",
   "metadata": {
    "tags": []
   },
   "outputs": [],
   "source": [
    "def categorize_percentiles(df):\n",
    "    bins = [20, 41, 61, 81, np.inf]\n",
    "    labels = [\"20-40\", \"41-60\", \"61-80\", \"81-100\"]\n",
    "    df[\"percentile_route\"] = pd.cut(\n",
    "        df[\"pct_route_on_hwy\"], bins=bins, labels=labels, right=False\n",
    "    ).astype(str)\n",
    "    return df"
   ]
  },
  {
   "cell_type": "code",
   "execution_count": 56,
   "id": "31c72996-a662-4278-9bad-f71f9d4c440e",
   "metadata": {
    "tags": []
   },
   "outputs": [],
   "source": [
    "def final_transit_route_shs_outputs(\n",
    "    intersecting_gdf: gpd.GeoDataFrame,\n",
    "    open_data_df: pd.DataFrame,\n",
    "    pct_route_intersection: int,\n",
    "    district: str,\n",
    "):\n",
    "    \"\"\"\n",
    "    Take the dataframes from prep_open_data_portal and routes_shn_intersection.\n",
    "    Prepare them for display on the GTFS Caltrans District Digest.\n",
    "\n",
    "    intersecting_gdf: geodataframe created by\n",
    "    open_data_df: dataframe created by\n",
    "    pct_route_intersection: cutoff of the % of the transit route intersecting with the SHN\n",
    "    district: the Caltrans district we are interested in.\n",
    "    \"\"\"\n",
    "    # Filter out for any pct_route_on_hwy that we deem too low & for the relevant district.\n",
    "    open_data_df = open_data_df.loc[\n",
    "        (open_data_df.pct_route_on_hwy_across_districts > pct_route_intersection)\n",
    "        & (open_data_df.District.str.contains(district))\n",
    "    ]\n",
    "    # intersecting_gdf.District = intersecting_gdf.District\n",
    "    intersecting_gdf = intersecting_gdf.loc[\n",
    "        intersecting_gdf.District.astype(str).str.contains(district)\n",
    "    ]\n",
    "\n",
    "    # Join back to get the original transit route geometries and the names of the\n",
    "    # state highways these routes intersect with. This gdf will be used to\n",
    "    # display a map.\n",
    "    map_gdf = pd.merge(\n",
    "        intersecting_gdf[\n",
    "            [\"portfolio_organization_name\", \"recent_combined_name\", \"geometry\"]\n",
    "        ].drop_duplicates(),\n",
    "        open_data_df,\n",
    "        on=[\"portfolio_organization_name\", \"recent_combined_name\"],\n",
    "    )\n",
    "\n",
    "    # Add column for color scale when mapping\n",
    "    # map_gdf = categorize_percentiles(map_gdf)\n",
    "\n",
    "    # We want a text table to display.\n",
    "    # Have to rejoin and to find only the SHN routes that are in the district\n",
    "    # we are interested in.\n",
    "    text_table_df = pd.merge(\n",
    "        intersecting_gdf[\n",
    "            [\n",
    "                \"portfolio_organization_name\",\n",
    "                \"recent_combined_name\",\n",
    "                \"shn_route\",\n",
    "                \"District\",\n",
    "            ]\n",
    "        ],\n",
    "        open_data_df[\n",
    "            [\n",
    "                \"portfolio_organization_name\",\n",
    "                \"recent_combined_name\",\n",
    "                \"pct_route_on_hwy_across_districts\",\n",
    "            ]\n",
    "        ],\n",
    "        on=[\"portfolio_organization_name\", \"recent_combined_name\"],\n",
    "    )\n",
    "\n",
    "    # Now we have to aggregate again so each route will only have one row with the\n",
    "    # district and SHN route info delinated by commas if there are multiple values.\n",
    "    text_table = group_route_district(text_table_df, \"max\")\n",
    "\n",
    "    # Rename for clarity\n",
    "    text_table = text_table.rename(\n",
    "        columns={\n",
    "            \"shn_route\": f\"shn_routes_in_d_{district}\",\n",
    "        }\n",
    "    )\n",
    "\n",
    "    return map_gdf, text_table"
   ]
  },
  {
   "cell_type": "markdown",
   "id": "b3454e29-3b17-49c6-b692-5467a1211058",
   "metadata": {},
   "source": [
    "### Example using 100 Bakersfield - Lancaster which crosses D6, D7, D9"
   ]
  },
  {
   "cell_type": "code",
   "execution_count": 57,
   "id": "9ce2810a-c58d-4f0e-8a06-d10e39cac140",
   "metadata": {
    "tags": []
   },
   "outputs": [],
   "source": [
    "map_gdf_d7, text_df_d7 = final_transit_route_shs_outputs(\n",
    "    intersecting, open_data_portal_df, 20, \"7\"\n",
    ")"
   ]
  },
  {
   "cell_type": "code",
   "execution_count": 58,
   "id": "62a9b9ef-c6a9-4fd1-be7e-fdf826276600",
   "metadata": {
    "tags": []
   },
   "outputs": [],
   "source": [
    "map_gdf_d9, text_df_d9 = final_transit_route_shs_outputs(\n",
    "    intersecting, open_data_portal_df, 20, \"9\"\n",
    ")"
   ]
  },
  {
   "cell_type": "code",
   "execution_count": 59,
   "id": "86ab3bed-f850-4509-8746-8f23e867bfd8",
   "metadata": {
    "tags": []
   },
   "outputs": [],
   "source": [
    "map_gdf_d6, text_df_d6 = final_transit_route_shs_outputs(\n",
    "    intersecting, open_data_portal_df, 20, \"6\"\n",
    ")"
   ]
  },
  {
   "cell_type": "code",
   "execution_count": 60,
   "id": "2e44da32-07ba-45bb-b675-3c06b69ca4d4",
   "metadata": {
    "tags": []
   },
   "outputs": [
    {
     "data": {
      "text/html": [
       "<div>\n",
       "<style scoped>\n",
       "    .dataframe tbody tr th:only-of-type {\n",
       "        vertical-align: middle;\n",
       "    }\n",
       "\n",
       "    .dataframe tbody tr th {\n",
       "        vertical-align: top;\n",
       "    }\n",
       "\n",
       "    .dataframe thead th {\n",
       "        text-align: right;\n",
       "    }\n",
       "</style>\n",
       "<table border=\"1\" class=\"dataframe\">\n",
       "  <thead>\n",
       "    <tr style=\"text-align: right;\">\n",
       "      <th></th>\n",
       "      <th>portfolio_organization_name</th>\n",
       "      <th>recent_combined_name</th>\n",
       "      <th>shn_routes_in_d_7</th>\n",
       "      <th>District</th>\n",
       "      <th>pct_route_on_hwy_across_districts</th>\n",
       "    </tr>\n",
       "  </thead>\n",
       "  <tbody>\n",
       "    <tr>\n",
       "      <th>75</th>\n",
       "      <td>Kern County</td>\n",
       "      <td>100 Bakersfield - Lancaster</td>\n",
       "      <td>14, 138</td>\n",
       "      <td>7</td>\n",
       "      <td>75.40</td>\n",
       "    </tr>\n",
       "  </tbody>\n",
       "</table>\n",
       "</div>"
      ],
      "text/plain": [
       "   portfolio_organization_name         recent_combined_name shn_routes_in_d_7  \\\n",
       "75                 Kern County  100 Bakersfield - Lancaster           14, 138   \n",
       "\n",
       "   District  pct_route_on_hwy_across_districts  \n",
       "75        7                              75.40  "
      ]
     },
     "execution_count": 60,
     "metadata": {},
     "output_type": "execute_result"
    }
   ],
   "source": [
    "text_df_d7.loc[text_df_d7.recent_combined_name == \"100 Bakersfield - Lancaster\"]"
   ]
  },
  {
   "cell_type": "code",
   "execution_count": 61,
   "id": "4dd16b83-03f7-436b-a4b5-a17da53eb255",
   "metadata": {
    "tags": []
   },
   "outputs": [
    {
     "data": {
      "text/html": [
       "<div>\n",
       "<style scoped>\n",
       "    .dataframe tbody tr th:only-of-type {\n",
       "        vertical-align: middle;\n",
       "    }\n",
       "\n",
       "    .dataframe tbody tr th {\n",
       "        vertical-align: top;\n",
       "    }\n",
       "\n",
       "    .dataframe thead th {\n",
       "        text-align: right;\n",
       "    }\n",
       "</style>\n",
       "<table border=\"1\" class=\"dataframe\">\n",
       "  <thead>\n",
       "    <tr style=\"text-align: right;\">\n",
       "      <th></th>\n",
       "      <th>portfolio_organization_name</th>\n",
       "      <th>recent_combined_name</th>\n",
       "      <th>shn_routes_in_d_7</th>\n",
       "      <th>District</th>\n",
       "      <th>pct_route_on_hwy_across_districts</th>\n",
       "    </tr>\n",
       "  </thead>\n",
       "  <tbody>\n",
       "    <tr>\n",
       "      <th>3</th>\n",
       "      <td>Antelope Valley Transit Authority</td>\n",
       "      <td>Route 785</td>\n",
       "      <td>101, 14, 118, 210, 405, 134, 2, 5, 170, 110</td>\n",
       "      <td>7</td>\n",
       "      <td>82.70</td>\n",
       "    </tr>\n",
       "  </tbody>\n",
       "</table>\n",
       "</div>"
      ],
      "text/plain": [
       "         portfolio_organization_name recent_combined_name  \\\n",
       "3  Antelope Valley Transit Authority            Route 785   \n",
       "\n",
       "                             shn_routes_in_d_7 District  \\\n",
       "3  101, 14, 118, 210, 405, 134, 2, 5, 170, 110        7   \n",
       "\n",
       "   pct_route_on_hwy_across_districts  \n",
       "3                              82.70  "
      ]
     },
     "execution_count": 61,
     "metadata": {},
     "output_type": "execute_result"
    }
   ],
   "source": [
    "text_df_d7.loc[text_df_d7.recent_combined_name == \"Route 785\"]"
   ]
  },
  {
   "cell_type": "code",
   "execution_count": 62,
   "id": "71a3d332-54b7-41cb-ba6f-840cf615972c",
   "metadata": {
    "tags": []
   },
   "outputs": [
    {
     "data": {
      "text/html": [
       "<div>\n",
       "<style scoped>\n",
       "    .dataframe tbody tr th:only-of-type {\n",
       "        vertical-align: middle;\n",
       "    }\n",
       "\n",
       "    .dataframe tbody tr th {\n",
       "        vertical-align: top;\n",
       "    }\n",
       "\n",
       "    .dataframe thead th {\n",
       "        text-align: right;\n",
       "    }\n",
       "</style>\n",
       "<table border=\"1\" class=\"dataframe\">\n",
       "  <thead>\n",
       "    <tr style=\"text-align: right;\">\n",
       "      <th></th>\n",
       "      <th>portfolio_organization_name</th>\n",
       "      <th>recent_combined_name</th>\n",
       "      <th>shn_routes_in_d_6</th>\n",
       "      <th>District</th>\n",
       "      <th>pct_route_on_hwy_across_districts</th>\n",
       "    </tr>\n",
       "  </thead>\n",
       "  <tbody>\n",
       "    <tr>\n",
       "      <th>21</th>\n",
       "      <td>Kern County</td>\n",
       "      <td>100 Bakersfield - Lancaster</td>\n",
       "      <td>184, 204, 178, 223, 58</td>\n",
       "      <td>6</td>\n",
       "      <td>75.40</td>\n",
       "    </tr>\n",
       "  </tbody>\n",
       "</table>\n",
       "</div>"
      ],
      "text/plain": [
       "   portfolio_organization_name         recent_combined_name  \\\n",
       "21                 Kern County  100 Bakersfield - Lancaster   \n",
       "\n",
       "         shn_routes_in_d_6 District  pct_route_on_hwy_across_districts  \n",
       "21  184, 204, 178, 223, 58        6                              75.40  "
      ]
     },
     "execution_count": 62,
     "metadata": {},
     "output_type": "execute_result"
    }
   ],
   "source": [
    "text_df_d6.loc[text_df_d6.recent_combined_name == \"100 Bakersfield - Lancaster\"]"
   ]
  },
  {
   "cell_type": "code",
   "execution_count": 63,
   "id": "c9cca9da-a6f4-43a0-be1f-68e1e29e050b",
   "metadata": {
    "tags": []
   },
   "outputs": [
    {
     "data": {
      "text/html": [
       "<div>\n",
       "<style scoped>\n",
       "    .dataframe tbody tr th:only-of-type {\n",
       "        vertical-align: middle;\n",
       "    }\n",
       "\n",
       "    .dataframe tbody tr th {\n",
       "        vertical-align: top;\n",
       "    }\n",
       "\n",
       "    .dataframe thead th {\n",
       "        text-align: right;\n",
       "    }\n",
       "</style>\n",
       "<table border=\"1\" class=\"dataframe\">\n",
       "  <thead>\n",
       "    <tr style=\"text-align: right;\">\n",
       "      <th></th>\n",
       "      <th>portfolio_organization_name</th>\n",
       "      <th>recent_combined_name</th>\n",
       "      <th>shn_routes_in_d_9</th>\n",
       "      <th>District</th>\n",
       "      <th>pct_route_on_hwy_across_districts</th>\n",
       "    </tr>\n",
       "  </thead>\n",
       "  <tbody>\n",
       "    <tr>\n",
       "      <th>8</th>\n",
       "      <td>Kern County</td>\n",
       "      <td>100 Bakersfield - Lancaster</td>\n",
       "      <td>202, 14, 58</td>\n",
       "      <td>9</td>\n",
       "      <td>75.40</td>\n",
       "    </tr>\n",
       "  </tbody>\n",
       "</table>\n",
       "</div>"
      ],
      "text/plain": [
       "  portfolio_organization_name         recent_combined_name shn_routes_in_d_9  \\\n",
       "8                 Kern County  100 Bakersfield - Lancaster       202, 14, 58   \n",
       "\n",
       "  District  pct_route_on_hwy_across_districts  \n",
       "8        9                              75.40  "
      ]
     },
     "execution_count": 63,
     "metadata": {},
     "output_type": "execute_result"
    }
   ],
   "source": [
    "text_df_d9.loc[text_df_d9.recent_combined_name == \"100 Bakersfield - Lancaster\"]"
   ]
  },
  {
   "cell_type": "markdown",
   "id": "b11f2a17-cbfd-43b1-9f52-381aa7cac8d7",
   "metadata": {},
   "source": [
    "## Sample Map\n",
    "* This will be displayed by each Caltrans District as opposed to this sample which shows all the routes across the state that touch a state highway."
   ]
  },
  {
   "cell_type": "markdown",
   "id": "fee82333-2d3d-420c-ba47-b424634dc5d0",
   "metadata": {},
   "source": [
    "* Read in the buffered SHN file and dissolve it again so it's only one row, since we don't care about each individual state route.\n",
    "* Amanda, note to self: should save this out to GCS because there's no point in dissolving over & over again\n",
    "* Bug in geopandas [documented here](https://github.com/geopandas/geopandas/issues/3194), you can't specify a column and color."
   ]
  },
  {
   "cell_type": "code",
   "execution_count": null,
   "id": "1fee56ee-2a9a-4ecf-a471-ebf7412c5de4",
   "metadata": {
    "tags": []
   },
   "outputs": [],
   "source": [
    "def dissolve_buffered_for_map(buffer_amount: str) -> gpd.GeoDataFrame:\n",
    "    GCS_FILE_PATH = \"gs://calitp-analytics-data/data-analyses/state_highway_network/\"\n",
    "    # Read in buffered shn here\n",
    "    HWY_FILE = (\n",
    "        f\"{GCS_FILE_PATH}shn_buffered_{buffer_amount}_ft_ct_district_route.parquet\"\n",
    "    )\n",
    "    gdf = gpd.read_parquet(HWY_FILE, storage_options={\"token\": credentials.token})\n",
    "\n",
    "    # Dissolve by district\n",
    "    gdf2 = gdf.dissolve(\"District\").reset_index()[[\"geometry\", \"District\", \"shn_route\"]]\n",
    "\n",
    "    # Save\n",
    "    gdf2.to_parquet(\n",
    "        f\"{GCS_FILE_PATH}shn_buffered_{buffer_amount}_gtfs_digest.parquet\",\n",
    "        filesystem=fs,\n",
    "    )"
   ]
  },
  {
   "cell_type": "code",
   "execution_count": null,
   "id": "9b0224b6-fbec-4ece-9105-7c0ff4659b60",
   "metadata": {
    "tags": []
   },
   "outputs": [],
   "source": [
    "gtfs_digest_shn = dissolve_buffered_for_map(SHN_HWY_BUFFER_FEET)"
   ]
  },
  {
   "cell_type": "code",
   "execution_count": null,
   "id": "84da58a0-5360-47f0-904f-84bb9f6eba69",
   "metadata": {
    "tags": []
   },
   "outputs": [],
   "source": [
    "GCS_FILE_PATH = \"gs://calitp-analytics-data/data-analyses/state_highway_network/\""
   ]
  },
  {
   "cell_type": "code",
   "execution_count": null,
   "id": "cfb4fbe1-abf0-47f7-84ad-715272cd07fa",
   "metadata": {
    "tags": []
   },
   "outputs": [],
   "source": [
    "shn_gdf = gpd.read_parquet(\n",
    "    f\"{GCS_FILE_PATH}shn_buffered_{SHN_HWY_BUFFER_FEET}_gtfs_digest.parquet\",\n",
    "    storage_options={\"token\": credentials.token},\n",
    ")"
   ]
  },
  {
   "cell_type": "code",
   "execution_count": null,
   "id": "120b5b9a-a74d-4d5c-b729-867b0699d7f9",
   "metadata": {
    "tags": []
   },
   "outputs": [],
   "source": [
    "shn_gdf.columns"
   ]
  },
  {
   "cell_type": "code",
   "execution_count": null,
   "id": "eefd3209-e7e8-462c-b815-eb9413e09eba",
   "metadata": {
    "tags": []
   },
   "outputs": [],
   "source": [
    "shn_gdf.District.unique()"
   ]
  },
  {
   "cell_type": "code",
   "execution_count": null,
   "id": "bf641b85-801b-45fe-8702-44758f1fdabe",
   "metadata": {
    "tags": []
   },
   "outputs": [],
   "source": [
    "\"\"\" m = shn_gdf.loc[shn_gdf.District == 7].explore(\n",
    "    height=500,\n",
    "    width=1000,\n",
    "    style_kwds={\"color\": \"#9DA4A6\", \"weight\": 6, \"opacity\": 0.5},\n",
    "    tiles=\"CartoDB positron\",\n",
    "    name=\"shs\",\n",
    ")\"\"\""
   ]
  },
  {
   "cell_type": "code",
   "execution_count": null,
   "id": "fe5cff84-6043-4299-92e8-e04ff05eb360",
   "metadata": {
    "tags": []
   },
   "outputs": [],
   "source": [
    "m"
   ]
  },
  {
   "cell_type": "code",
   "execution_count": null,
   "id": "61725848-1990-477b-bdfc-d8f8b29a1ae0",
   "metadata": {
    "tags": []
   },
   "outputs": [],
   "source": [
    "cmap_colors = [\n",
    "    \"#93c3db\",\n",
    "    \"#144c87\",\n",
    "    \"#8c1024\",\n",
    "    \"#e4846c\",\n",
    "]"
   ]
  },
  {
   "cell_type": "code",
   "execution_count": null,
   "id": "42783e5e-04d6-45d9-ae05-5cf8a0e261a6",
   "metadata": {
    "tags": []
   },
   "outputs": [],
   "source": [
    "cmap_colors_continuous = [\n",
    "    \"#93c3db\",\n",
    "    \"#82b4d1\",\n",
    "    \"#71a5c7\",\n",
    "    \"#6096bd\",\n",
    "    \"#4f87b3\",\n",
    "    \"#3e78a9\",\n",
    "    \"#2d699f\",\n",
    "    \"#1c5a95\",\n",
    "    \"#0b4b8b\",\n",
    "    \"#003c81\",\n",
    "]"
   ]
  },
  {
   "cell_type": "code",
   "execution_count": null,
   "id": "f11c53c3-ed8b-4276-88d8-b59dd23d5524",
   "metadata": {
    "tags": []
   },
   "outputs": [],
   "source": [
    "map_gdf_d7.columns"
   ]
  },
  {
   "cell_type": "code",
   "execution_count": null,
   "id": "94249045-af30-4fa0-b5d3-c795962c70d3",
   "metadata": {
    "tags": []
   },
   "outputs": [],
   "source": [
    "# map_gdf_d7.explore(\n",
    "#    \"percentile_route\", m=m, categorical=True, cmap=cmap_colors, legend=True\n",
    "# )"
   ]
  },
  {
   "cell_type": "code",
   "execution_count": null,
   "id": "1170ec19-d69c-457e-afd7-8aa8c866d43d",
   "metadata": {
    "tags": []
   },
   "outputs": [],
   "source": [
    "# map_gdf_d7.explore(\"pct_route_on_hwy_across_districts\", m=m, cmap= 'Blues', legend = True)"
   ]
  },
  {
   "cell_type": "markdown",
   "id": "cfaab31a-f770-4c72-bedc-5e6201cdfabe",
   "metadata": {
    "tags": []
   },
   "source": [
    "### Sample Text Table"
   ]
  },
  {
   "cell_type": "code",
   "execution_count": null,
   "id": "c668f18c-f69a-458c-bbdf-9f4816236d44",
   "metadata": {
    "scrolled": true,
    "tags": []
   },
   "outputs": [],
   "source": [
    "text_df_d7.sort_values(by=[\"pct_route_on_hwy_across_districts\"], ascending=False)"
   ]
  },
  {
   "cell_type": "code",
   "execution_count": null,
   "id": "72768925-ae44-49c3-9794-8f0a2fdf21cb",
   "metadata": {},
   "outputs": [],
   "source": []
  }
 ],
 "metadata": {
  "kernelspec": {
   "display_name": "Python 3 (ipykernel)",
   "language": "python",
   "name": "python3"
  },
  "language_info": {
   "codemirror_mode": {
    "name": "ipython",
    "version": 3
   },
   "file_extension": ".py",
   "mimetype": "text/x-python",
   "name": "python",
   "nbconvert_exporter": "python",
   "pygments_lexer": "ipython3",
   "version": "3.11.10"
  }
 },
 "nbformat": 4,
 "nbformat_minor": 5
}
