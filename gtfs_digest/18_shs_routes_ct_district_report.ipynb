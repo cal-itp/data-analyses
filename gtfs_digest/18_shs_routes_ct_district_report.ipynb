{
 "cells": [
  {
   "cell_type": "markdown",
   "id": "41619139-2e85-4914-a0c0-cb390c36b94c",
   "metadata": {},
   "source": [
    "# Transit On the SHN \n",
    "* [GH Issue](https://github.com/cal-itp/data-analyses/issues/1477)\n"
   ]
  },
  {
   "cell_type": "code",
   "execution_count": 1,
   "id": "f6b01cd8-ccda-4d2a-9c64-9cca36e0713c",
   "metadata": {},
   "outputs": [],
   "source": [
    "import geopandas as gpd\n",
    "import google.auth\n",
    "import numpy as np\n",
    "import pandas as pd\n",
    "\n",
    "credentials, project = google.auth.default()\n",
    "\n",
    "import gcsfs\n",
    "\n",
    "fs = gcsfs.GCSFileSystem()"
   ]
  },
  {
   "cell_type": "code",
   "execution_count": 2,
   "id": "ec246873-6121-4544-8d62-f71dec06352e",
   "metadata": {
    "tags": []
   },
   "outputs": [],
   "source": [
    "from calitp_data_analysis import geography_utils, utils\n",
    "from segment_speed_utils import gtfs_schedule_wrangling, helpers\n",
    "from shared_utils import (\n",
    "    catalog_utils,\n",
    "    dask_utils,\n",
    "    gtfs_utils_v2,\n",
    "    portfolio_utils,\n",
    "    publish_utils,\n",
    "    rt_dates,\n",
    "    rt_utils,\n",
    ")\n",
    "from update_vars import GTFS_DATA_DICT, RT_SCHED_GCS, SCHED_GCS, SEGMENT_GCS"
   ]
  },
  {
   "cell_type": "code",
   "execution_count": 3,
   "id": "ffeaad35-64a6-4b16-a93d-ac4a0759288a",
   "metadata": {
    "tags": []
   },
   "outputs": [],
   "source": [
    "pd.options.display.max_columns = 100\n",
    "pd.options.display.float_format = \"{:.2f}\".format\n",
    "pd.set_option(\"display.max_rows\", None)\n",
    "pd.set_option(\"display.max_colwidth\", None)"
   ]
  },
  {
   "cell_type": "markdown",
   "id": "d9a44d27-c022-4096-9d35-9c1c0874bdbd",
   "metadata": {},
   "source": [
    "## District 2 Weirdness"
   ]
  },
  {
   "cell_type": "code",
   "execution_count": 4,
   "id": "b6365023-c9ff-4d03-8196-f3caaaf24761",
   "metadata": {
    "tags": []
   },
   "outputs": [],
   "source": [
    "import _ct_district_data_prep"
   ]
  },
  {
   "cell_type": "code",
   "execution_count": 18,
   "id": "f9433a88-4d72-4699-9ef4-989829fe3366",
   "metadata": {
    "tags": []
   },
   "outputs": [],
   "source": [
    "district = '02 - Redding'"
   ]
  },
  {
   "cell_type": "code",
   "execution_count": 6,
   "id": "028331e0-2715-40ec-9951-04a6a95db508",
   "metadata": {
    "tags": []
   },
   "outputs": [],
   "source": [
    "district_int = [int(s) for s in district.split() if s.isdigit()][0]"
   ]
  },
  {
   "cell_type": "code",
   "execution_count": 14,
   "id": "99b58e84-9b1d-4817-939a-ee7fd7b392f3",
   "metadata": {
    "tags": []
   },
   "outputs": [],
   "source": [
    "OPERATOR_PROFILE_REPORT = GTFS_DATA_DICT.digest_tables.operator_profiles_report\n",
    "    \n",
    "operator_df = pd.read_parquet(\n",
    "    f\"{RT_SCHED_GCS}{OPERATOR_PROFILE_REPORT}.parquet\",\n",
    "    )\n",
    "    \n",
    "operator_df2 = operator_df.loc[operator_df.caltrans_district == district]"
   ]
  },
  {
   "cell_type": "code",
   "execution_count": 22,
   "id": "d4797da5-43e2-43d6-acb0-963e272f6351",
   "metadata": {
    "tags": []
   },
   "outputs": [],
   "source": [
    "OPERATOR_PROFILE = GTFS_DATA_DICT.digest_tables.operator_profiles\n",
    "    \n",
    "operator_og_df = pd.read_parquet(\n",
    "    f\"{RT_SCHED_GCS}{OPERATOR_PROFILE}.parquet\",\n",
    "    )\n",
    "    \n",
    "operator_og_df_df2 = operator_og_df.loc[operator_og_df.caltrans_district == district]"
   ]
  },
  {
   "cell_type": "code",
   "execution_count": 24,
   "id": "eaafd9f6-b4f8-43de-93b7-141c4c90beb5",
   "metadata": {
    "tags": []
   },
   "outputs": [
    {
     "data": {
      "text/plain": [
       "array(['Modoc Transportation Agency', 'Siskiyou County',\n",
       "       'Redding Area Bus Authority', 'Tehama County', 'Trinity County',\n",
       "       'Plumas Transit Systems', 'Lassen Transit Service Agency'],\n",
       "      dtype=object)"
      ]
     },
     "execution_count": 24,
     "metadata": {},
     "output_type": "execute_result"
    }
   ],
   "source": [
    "operator_og_df_df2.portfolio_organization_name.unique()"
   ]
  },
  {
   "cell_type": "code",
   "execution_count": 17,
   "id": "6d8dbc1b-fdb9-4f85-b42f-ba7015f2ffdf",
   "metadata": {
    "tags": []
   },
   "outputs": [
    {
     "data": {
      "text/plain": [
       "array(['04 - Bay Area / Oakland', '12 - Santa Ana',\n",
       "       '07 - Los Angeles / Ventura', '03 - Marysville / Sacramento',\n",
       "       '08 - San Bernardino / Riverside', '06 - Fresno / Bakersfield',\n",
       "       '10 - Stockton', '05 - San Luis Obispo / Santa Barbara',\n",
       "       '01 - Eureka', '11 - San Diego', '02 - Redding'], dtype=object)"
      ]
     },
     "execution_count": 17,
     "metadata": {},
     "output_type": "execute_result"
    }
   ],
   "source": [
    "operator_df.caltrans_district.unique()"
   ]
  },
  {
   "cell_type": "code",
   "execution_count": 19,
   "id": "224f7996-8251-45f0-be50-6a2581d5ea4b",
   "metadata": {
    "tags": []
   },
   "outputs": [],
   "source": [
    "operator_df = _ct_district_data_prep.data_wrangling_operator_profile(district)\n",
    "\n",
    "operator_gdf = _ct_district_data_prep.data_wrangling_operator_map(\n",
    "    list(operator_df.portfolio_organization_name.unique())\n",
    ")\n",
    "\n",
    "ct_district_gdf = _ct_district_data_prep.load_ct_district(district_int)\n",
    "\n",
    "transit_route_shs_gdf, transit_route_shs_table = (\n",
    "    _ct_district_data_prep.final_transit_route_shs_outputs(20, str(district_int))\n",
    ")\n",
    "district_gdf = _ct_district_data_prep.load_ct_district(district_int)"
   ]
  },
  {
   "cell_type": "code",
   "execution_count": 21,
   "id": "bae60deb-b5ff-49bb-8110-faab6a126cd3",
   "metadata": {
    "tags": []
   },
   "outputs": [
    {
     "data": {
      "text/html": [
       "<div>\n",
       "<style scoped>\n",
       "    .dataframe tbody tr th:only-of-type {\n",
       "        vertical-align: middle;\n",
       "    }\n",
       "\n",
       "    .dataframe tbody tr th {\n",
       "        vertical-align: top;\n",
       "    }\n",
       "\n",
       "    .dataframe thead th {\n",
       "        text-align: right;\n",
       "    }\n",
       "</style>\n",
       "<table border=\"1\" class=\"dataframe\">\n",
       "  <thead>\n",
       "    <tr style=\"text-align: right;\">\n",
       "      <th></th>\n",
       "      <th>portfolio_organization_name</th>\n",
       "      <th>service_date</th>\n",
       "      <th>caltrans_district</th>\n",
       "      <th>operator_n_routes</th>\n",
       "      <th>operator_n_trips</th>\n",
       "      <th>operator_n_shapes</th>\n",
       "      <th>operator_n_stops</th>\n",
       "      <th>operator_n_arrivals</th>\n",
       "      <th>operator_route_length_miles</th>\n",
       "      <th>n_downtown_local_routes</th>\n",
       "      <th>n_local_routes</th>\n",
       "      <th>n_coverage_routes</th>\n",
       "      <th>n_rapid_routes</th>\n",
       "      <th>n_express_routes</th>\n",
       "      <th>n_rail_routes</th>\n",
       "      <th>n_ferry_routes</th>\n",
       "      <th>vp_per_min_agency</th>\n",
       "      <th>spatial_accuracy_agency</th>\n",
       "      <th>n_feeds</th>\n",
       "      <th>operator_feeds</th>\n",
       "      <th>counties_served</th>\n",
       "      <th>service_area_pop</th>\n",
       "      <th>service_area_sq_miles</th>\n",
       "      <th>hq_city</th>\n",
       "      <th>reporter_type</th>\n",
       "      <th>primary_uza_name</th>\n",
       "    </tr>\n",
       "  </thead>\n",
       "  <tbody>\n",
       "    <tr>\n",
       "      <th>80</th>\n",
       "      <td>Redding Area Bus Authority</td>\n",
       "      <td>2025-05-14</td>\n",
       "      <td>02 - Redding</td>\n",
       "      <td>12</td>\n",
       "      <td>198</td>\n",
       "      <td>27</td>\n",
       "      <td>343</td>\n",
       "      <td>5123</td>\n",
       "      <td>278.49</td>\n",
       "      <td>0</td>\n",
       "      <td>0</td>\n",
       "      <td>12</td>\n",
       "      <td>12</td>\n",
       "      <td>0</td>\n",
       "      <td>0</td>\n",
       "      <td>0</td>\n",
       "      <td>2.87</td>\n",
       "      <td>97.12</td>\n",
       "      <td>1</td>\n",
       "      <td>Redding Schedule</td>\n",
       "      <td>Butte County, Shasta County, Tehama County</td>\n",
       "      <td>126551</td>\n",
       "      <td>100</td>\n",
       "      <td>Redding</td>\n",
       "      <td>Full Reporter</td>\n",
       "      <td>Redding, CA</td>\n",
       "    </tr>\n",
       "  </tbody>\n",
       "</table>\n",
       "</div>"
      ],
      "text/plain": [
       "   portfolio_organization_name service_date caltrans_district  \\\n",
       "80  Redding Area Bus Authority   2025-05-14      02 - Redding   \n",
       "\n",
       "    operator_n_routes  operator_n_trips  operator_n_shapes  operator_n_stops  \\\n",
       "80                 12               198                 27               343   \n",
       "\n",
       "    operator_n_arrivals  operator_route_length_miles  n_downtown_local_routes  \\\n",
       "80                 5123                       278.49                        0   \n",
       "\n",
       "    n_local_routes  n_coverage_routes  n_rapid_routes  n_express_routes  \\\n",
       "80               0                 12              12                 0   \n",
       "\n",
       "    n_rail_routes  n_ferry_routes  vp_per_min_agency  spatial_accuracy_agency  \\\n",
       "80              0               0               2.87                    97.12   \n",
       "\n",
       "    n_feeds    operator_feeds                             counties_served  \\\n",
       "80        1  Redding Schedule  Butte County, Shasta County, Tehama County   \n",
       "\n",
       "    service_area_pop  service_area_sq_miles  hq_city  reporter_type  \\\n",
       "80            126551                    100  Redding  Full Reporter   \n",
       "\n",
       "   primary_uza_name  \n",
       "80      Redding, CA  "
      ]
     },
     "execution_count": 21,
     "metadata": {},
     "output_type": "execute_result"
    }
   ],
   "source": [
    "operator_df"
   ]
  },
  {
   "cell_type": "code",
   "execution_count": 8,
   "id": "cd2879e5-bfde-45e3-b829-0c2c3fd5e76b",
   "metadata": {
    "tags": []
   },
   "outputs": [],
   "source": [
    "shn_gdf = _ct_district_data_prep.load_buffered_shn_map(50, district_int)"
   ]
  },
  {
   "cell_type": "code",
   "execution_count": 9,
   "id": "3abbb9a1-6951-42cb-ba0a-ea6b2c560e58",
   "metadata": {
    "tags": []
   },
   "outputs": [
    {
     "data": {
      "text/plain": [
       "Index(['geometry', 'District', 'State Highway Network Route'], dtype='object')"
      ]
     },
     "execution_count": 9,
     "metadata": {},
     "output_type": "execute_result"
    }
   ],
   "source": [
    "shn_gdf.columns"
   ]
  },
  {
   "cell_type": "code",
   "execution_count": 10,
   "id": "9f84bbf7-d3c5-40ad-8d8c-b7925fdb7db1",
   "metadata": {
    "tags": []
   },
   "outputs": [
    {
     "data": {
      "text/plain": [
       "1"
      ]
     },
     "execution_count": 10,
     "metadata": {},
     "output_type": "execute_result"
    }
   ],
   "source": [
    "len(shn_gdf)"
   ]
  },
  {
   "cell_type": "code",
   "execution_count": null,
   "id": "a239ce03-f826-4821-8d40-228e92f76a86",
   "metadata": {
    "tags": []
   },
   "outputs": [],
   "source": [
    "shn_gdf.explore('State Highway Network Route')"
   ]
  },
  {
   "cell_type": "code",
   "execution_count": 11,
   "id": "24feaccd-718a-4fcb-9f7f-c6ba2785ef74",
   "metadata": {
    "scrolled": true,
    "tags": []
   },
   "outputs": [
    {
     "data": {
      "text/html": [
       "<div>\n",
       "<style scoped>\n",
       "    .dataframe tbody tr th:only-of-type {\n",
       "        vertical-align: middle;\n",
       "    }\n",
       "\n",
       "    .dataframe tbody tr th {\n",
       "        vertical-align: top;\n",
       "    }\n",
       "\n",
       "    .dataframe thead th {\n",
       "        text-align: right;\n",
       "    }\n",
       "</style>\n",
       "<table border=\"1\" class=\"dataframe\">\n",
       "  <thead>\n",
       "    <tr style=\"text-align: right;\">\n",
       "      <th></th>\n",
       "      <th>Portfolio Organization Name</th>\n",
       "      <th>Route</th>\n",
       "      <th>State Highway Network Routes in District 2</th>\n",
       "      <th>Percentage of Transit Route on SHN Across All Districts</th>\n",
       "    </tr>\n",
       "  </thead>\n",
       "  <tbody>\n",
       "    <tr>\n",
       "      <th>0</th>\n",
       "      <td>Lassen Transit Service Agency</td>\n",
       "      <td>South County/ Commuter</td>\n",
       "      <td>139, 36, 395</td>\n",
       "      <td>61.70</td>\n",
       "    </tr>\n",
       "    <tr>\n",
       "      <th>1</th>\n",
       "      <td>Lassen Transit Service Agency</td>\n",
       "      <td>Susanville City Express Route</td>\n",
       "      <td>139, 36</td>\n",
       "      <td>23.90</td>\n",
       "    </tr>\n",
       "    <tr>\n",
       "      <th>2</th>\n",
       "      <td>Lassen Transit Service Agency</td>\n",
       "      <td>Susanville City Route</td>\n",
       "      <td>139, 36</td>\n",
       "      <td>30.80</td>\n",
       "    </tr>\n",
       "    <tr>\n",
       "      <th>3</th>\n",
       "      <td>Lassen Transit Service Agency</td>\n",
       "      <td>West County</td>\n",
       "      <td>147, 89, 139, 44, 36</td>\n",
       "      <td>62.40</td>\n",
       "    </tr>\n",
       "    <tr>\n",
       "      <th>4</th>\n",
       "      <td>Plumas Transit Systems</td>\n",
       "      <td>East County</td>\n",
       "      <td>70, 284, 49, 89, 395</td>\n",
       "      <td>88.20</td>\n",
       "    </tr>\n",
       "    <tr>\n",
       "      <th>5</th>\n",
       "      <td>Plumas Transit Systems</td>\n",
       "      <td>North County</td>\n",
       "      <td>147, 70, 89, 36</td>\n",
       "      <td>85.60</td>\n",
       "    </tr>\n",
       "    <tr>\n",
       "      <th>6</th>\n",
       "      <td>Plumas Transit Systems</td>\n",
       "      <td>Quincy Local</td>\n",
       "      <td>70</td>\n",
       "      <td>57.00</td>\n",
       "    </tr>\n",
       "    <tr>\n",
       "      <th>7</th>\n",
       "      <td>Redding Area Bus Authority</td>\n",
       "      <td>Churn Creek/Knightson/Airport</td>\n",
       "      <td>273, 5, 44</td>\n",
       "      <td>44.40</td>\n",
       "    </tr>\n",
       "    <tr>\n",
       "      <th>8</th>\n",
       "      <td>Redding Area Bus Authority</td>\n",
       "      <td>Route 1</td>\n",
       "      <td>151, 273, 5, 299</td>\n",
       "      <td>41.20</td>\n",
       "    </tr>\n",
       "    <tr>\n",
       "      <th>9</th>\n",
       "      <td>Redding Area Bus Authority</td>\n",
       "      <td>Route 11</td>\n",
       "      <td>273, 5, 299, 44</td>\n",
       "      <td>21.50</td>\n",
       "    </tr>\n",
       "    <tr>\n",
       "      <th>10</th>\n",
       "      <td>Redding Area Bus Authority</td>\n",
       "      <td>Route 299X</td>\n",
       "      <td>5, 89, 273, 299, 44</td>\n",
       "      <td>97.20</td>\n",
       "    </tr>\n",
       "    <tr>\n",
       "      <th>11</th>\n",
       "      <td>Redding Area Bus Authority</td>\n",
       "      <td>Route 7</td>\n",
       "      <td>273, 5, 299</td>\n",
       "      <td>55.20</td>\n",
       "    </tr>\n",
       "    <tr>\n",
       "      <th>12</th>\n",
       "      <td>Redding Area Bus Authority</td>\n",
       "      <td>Route 9</td>\n",
       "      <td>273, 5, 44</td>\n",
       "      <td>55.60</td>\n",
       "    </tr>\n",
       "    <tr>\n",
       "      <th>13</th>\n",
       "      <td>Redding Area Bus Authority</td>\n",
       "      <td>Shasta View/Shasta College</td>\n",
       "      <td>273, 5, 299, 44</td>\n",
       "      <td>37.00</td>\n",
       "    </tr>\n",
       "    <tr>\n",
       "      <th>14</th>\n",
       "      <td>Redding Area Bus Authority</td>\n",
       "      <td>Shingletown Flex</td>\n",
       "      <td>273, 5, 299, 44</td>\n",
       "      <td>60.60</td>\n",
       "    </tr>\n",
       "    <tr>\n",
       "      <th>15</th>\n",
       "      <td>Siskiyou County</td>\n",
       "      <td>1 - Cascade Flyer (Express)</td>\n",
       "      <td>3, 265, 5, 97, 89</td>\n",
       "      <td>89.20</td>\n",
       "    </tr>\n",
       "    <tr>\n",
       "      <th>16</th>\n",
       "      <td>Siskiyou County</td>\n",
       "      <td>2 - Dunsmuir/McCloud/Yreka</td>\n",
       "      <td>3, 265, 5, 97, 89</td>\n",
       "      <td>65.40</td>\n",
       "    </tr>\n",
       "    <tr>\n",
       "      <th>17</th>\n",
       "      <td>Siskiyou County</td>\n",
       "      <td>3 - McCloud/Dunsmuir/Yreka</td>\n",
       "      <td>3, 265, 5, 97, 89</td>\n",
       "      <td>38.00</td>\n",
       "    </tr>\n",
       "    <tr>\n",
       "      <th>18</th>\n",
       "      <td>Siskiyou County</td>\n",
       "      <td>4 - Scott Valley/Hornbrook</td>\n",
       "      <td>3, 263, 5</td>\n",
       "      <td>78.00</td>\n",
       "    </tr>\n",
       "    <tr>\n",
       "      <th>19</th>\n",
       "      <td>Siskiyou County</td>\n",
       "      <td>5 - Yreka/Montague Local</td>\n",
       "      <td>3, 263, 5</td>\n",
       "      <td>86.50</td>\n",
       "    </tr>\n",
       "    <tr>\n",
       "      <th>20</th>\n",
       "      <td>Tehama County</td>\n",
       "      <td>2 Antelope &amp; Jackson Area</td>\n",
       "      <td>99, 5, 36</td>\n",
       "      <td>28.90</td>\n",
       "    </tr>\n",
       "    <tr>\n",
       "      <th>21</th>\n",
       "      <td>Tehama County</td>\n",
       "      <td>3A Regional - Red Bluff, Los Molinos, Gerber</td>\n",
       "      <td>99, 5, 36</td>\n",
       "      <td>52.80</td>\n",
       "    </tr>\n",
       "    <tr>\n",
       "      <th>22</th>\n",
       "      <td>Tehama County</td>\n",
       "      <td>3B Regional - Red Bluff, Gerber, Los Molinos</td>\n",
       "      <td>99, 5, 36</td>\n",
       "      <td>52.30</td>\n",
       "    </tr>\n",
       "    <tr>\n",
       "      <th>23</th>\n",
       "      <td>Tehama County</td>\n",
       "      <td>RTR RTR Express Route</td>\n",
       "      <td>5, 36</td>\n",
       "      <td>35.90</td>\n",
       "    </tr>\n",
       "    <tr>\n",
       "      <th>24</th>\n",
       "      <td>Tehama County</td>\n",
       "      <td>STC Shasta-Tehama Connect</td>\n",
       "      <td>273, 5, 36</td>\n",
       "      <td>56.20</td>\n",
       "    </tr>\n",
       "    <tr>\n",
       "      <th>25</th>\n",
       "      <td>Trinity County</td>\n",
       "      <td>Hayfork Line</td>\n",
       "      <td>3, 299</td>\n",
       "      <td>94.90</td>\n",
       "    </tr>\n",
       "    <tr>\n",
       "      <th>26</th>\n",
       "      <td>Trinity County</td>\n",
       "      <td>Lewiston Line</td>\n",
       "      <td>3, 299</td>\n",
       "      <td>53.20</td>\n",
       "    </tr>\n",
       "    <tr>\n",
       "      <th>27</th>\n",
       "      <td>Trinity County</td>\n",
       "      <td>Redding Line</td>\n",
       "      <td>3, 5, 273, 299, 44</td>\n",
       "      <td>82.20</td>\n",
       "    </tr>\n",
       "  </tbody>\n",
       "</table>\n",
       "</div>"
      ],
      "text/plain": [
       "      Portfolio Organization Name  \\\n",
       "0   Lassen Transit Service Agency   \n",
       "1   Lassen Transit Service Agency   \n",
       "2   Lassen Transit Service Agency   \n",
       "3   Lassen Transit Service Agency   \n",
       "4          Plumas Transit Systems   \n",
       "5          Plumas Transit Systems   \n",
       "6          Plumas Transit Systems   \n",
       "7      Redding Area Bus Authority   \n",
       "8      Redding Area Bus Authority   \n",
       "9      Redding Area Bus Authority   \n",
       "10     Redding Area Bus Authority   \n",
       "11     Redding Area Bus Authority   \n",
       "12     Redding Area Bus Authority   \n",
       "13     Redding Area Bus Authority   \n",
       "14     Redding Area Bus Authority   \n",
       "15                Siskiyou County   \n",
       "16                Siskiyou County   \n",
       "17                Siskiyou County   \n",
       "18                Siskiyou County   \n",
       "19                Siskiyou County   \n",
       "20                  Tehama County   \n",
       "21                  Tehama County   \n",
       "22                  Tehama County   \n",
       "23                  Tehama County   \n",
       "24                  Tehama County   \n",
       "25                 Trinity County   \n",
       "26                 Trinity County   \n",
       "27                 Trinity County   \n",
       "\n",
       "                                           Route  \\\n",
       "0                         South County/ Commuter   \n",
       "1                  Susanville City Express Route   \n",
       "2                          Susanville City Route   \n",
       "3                                    West County   \n",
       "4                                    East County   \n",
       "5                                   North County   \n",
       "6                                   Quincy Local   \n",
       "7                  Churn Creek/Knightson/Airport   \n",
       "8                                        Route 1   \n",
       "9                                       Route 11   \n",
       "10                                    Route 299X   \n",
       "11                                       Route 7   \n",
       "12                                       Route 9   \n",
       "13                    Shasta View/Shasta College   \n",
       "14                              Shingletown Flex   \n",
       "15                   1 - Cascade Flyer (Express)   \n",
       "16                    2 - Dunsmuir/McCloud/Yreka   \n",
       "17                    3 - McCloud/Dunsmuir/Yreka   \n",
       "18                    4 - Scott Valley/Hornbrook   \n",
       "19                      5 - Yreka/Montague Local   \n",
       "20                     2 Antelope & Jackson Area   \n",
       "21  3A Regional - Red Bluff, Los Molinos, Gerber   \n",
       "22  3B Regional - Red Bluff, Gerber, Los Molinos   \n",
       "23                         RTR RTR Express Route   \n",
       "24                     STC Shasta-Tehama Connect   \n",
       "25                                  Hayfork Line   \n",
       "26                                 Lewiston Line   \n",
       "27                                  Redding Line   \n",
       "\n",
       "   State Highway Network Routes in District 2  \\\n",
       "0                                139, 36, 395   \n",
       "1                                     139, 36   \n",
       "2                                     139, 36   \n",
       "3                        147, 89, 139, 44, 36   \n",
       "4                        70, 284, 49, 89, 395   \n",
       "5                             147, 70, 89, 36   \n",
       "6                                          70   \n",
       "7                                  273, 5, 44   \n",
       "8                            151, 273, 5, 299   \n",
       "9                             273, 5, 299, 44   \n",
       "10                        5, 89, 273, 299, 44   \n",
       "11                                273, 5, 299   \n",
       "12                                 273, 5, 44   \n",
       "13                            273, 5, 299, 44   \n",
       "14                            273, 5, 299, 44   \n",
       "15                          3, 265, 5, 97, 89   \n",
       "16                          3, 265, 5, 97, 89   \n",
       "17                          3, 265, 5, 97, 89   \n",
       "18                                  3, 263, 5   \n",
       "19                                  3, 263, 5   \n",
       "20                                  99, 5, 36   \n",
       "21                                  99, 5, 36   \n",
       "22                                  99, 5, 36   \n",
       "23                                      5, 36   \n",
       "24                                 273, 5, 36   \n",
       "25                                     3, 299   \n",
       "26                                     3, 299   \n",
       "27                         3, 5, 273, 299, 44   \n",
       "\n",
       "    Percentage of Transit Route on SHN Across All Districts  \n",
       "0                                                     61.70  \n",
       "1                                                     23.90  \n",
       "2                                                     30.80  \n",
       "3                                                     62.40  \n",
       "4                                                     88.20  \n",
       "5                                                     85.60  \n",
       "6                                                     57.00  \n",
       "7                                                     44.40  \n",
       "8                                                     41.20  \n",
       "9                                                     21.50  \n",
       "10                                                    97.20  \n",
       "11                                                    55.20  \n",
       "12                                                    55.60  \n",
       "13                                                    37.00  \n",
       "14                                                    60.60  \n",
       "15                                                    89.20  \n",
       "16                                                    65.40  \n",
       "17                                                    38.00  \n",
       "18                                                    78.00  \n",
       "19                                                    86.50  \n",
       "20                                                    28.90  \n",
       "21                                                    52.80  \n",
       "22                                                    52.30  \n",
       "23                                                    35.90  \n",
       "24                                                    56.20  \n",
       "25                                                    94.90  \n",
       "26                                                    53.20  \n",
       "27                                                    82.20  "
      ]
     },
     "execution_count": 11,
     "metadata": {},
     "output_type": "execute_result"
    }
   ],
   "source": [
    "transit_route_shs_table"
   ]
  },
  {
   "cell_type": "code",
   "execution_count": null,
   "id": "e445145e-18a6-40ad-a36d-0f6c1e50ac69",
   "metadata": {
    "tags": []
   },
   "outputs": [],
   "source": [
    "# Try another district\n",
    "transit_route_shs_gdf_d3, transit_route_shs_table_d3 = (\n",
    "    _ct_district_data_prep.final_transit_route_shs_outputs(20, \"3\")\n",
    ")"
   ]
  },
  {
   "cell_type": "code",
   "execution_count": null,
   "id": "090cd6d3-1a90-4af8-bad9-1d26f7239453",
   "metadata": {
    "tags": []
   },
   "outputs": [],
   "source": [
    "transit_route_shs_gdf_d3.explore()"
   ]
  },
  {
   "cell_type": "code",
   "execution_count": null,
   "id": "1771ea96-ce3b-415f-88f5-8ed54a9b6a5c",
   "metadata": {
    "tags": []
   },
   "outputs": [],
   "source": [
    "def process_transit_routes() -> gpd.GeoDataFrame:\n",
    "    \"\"\"\n",
    "    Select the most recent transit route to\n",
    "    figure out how much of it intersects with\n",
    "    the state highway network.\n",
    "    \"\"\"\n",
    "    # Load in the route shapes.\n",
    "    OPERATOR_ROUTE = GTFS_DATA_DICT.digest_tables.operator_routes_map\n",
    "\n",
    "    subset = [\n",
    "        \"service_date\",\n",
    "        \"geometry\",\n",
    "        \"portfolio_organization_name\",\n",
    "        \"recent_combined_name\",\n",
    "        # \"route_id\",\n",
    "    ]\n",
    "    op_geography_df = gpd.read_parquet(\n",
    "        f\"{RT_SCHED_GCS}{OPERATOR_ROUTE}.parquet\",\n",
    "        storage_options={\"token\": credentials.token},\n",
    "    )[subset]\n",
    "\n",
    "    # Keep the row for each portfolio_organization_name/recent_combined_name\n",
    "    # that is the most recent.\n",
    "    most_recent_routes = publish_utils.filter_to_recent_date(\n",
    "        df=op_geography_df,\n",
    "        group_cols=[\n",
    "            \"portfolio_organization_name\",\n",
    "        ],\n",
    "    )\n",
    "\n",
    "    # Calculate the length of route, ensuring that it is in feet.\n",
    "    most_recent_routes = most_recent_routes.assign(\n",
    "        route_length_feet=most_recent_routes.geometry.to_crs(\n",
    "            geography_utils.CA_NAD83Albers_ft\n",
    "        ).length\n",
    "    )\n",
    "\n",
    "    # Drop any duplicates.\n",
    "    # This will probably be taken out once the 1:m recent_combined_name\n",
    "    # to route_id issue is resolved.\n",
    "    most_recent_routes = most_recent_routes.drop_duplicates(\n",
    "        subset=[\"portfolio_organization_name\", \"recent_combined_name\", \"service_date\"]\n",
    "    )\n",
    "    return most_recent_routes"
   ]
  },
  {
   "cell_type": "code",
   "execution_count": null,
   "id": "dc878ec3-d196-4e85-bd5d-9960874476ed",
   "metadata": {
    "tags": []
   },
   "outputs": [],
   "source": [
    "transit_routes = process_transit_routes()"
   ]
  },
  {
   "cell_type": "code",
   "execution_count": null,
   "id": "c7a5c057-9789-447c-a0e4-20ca56bddea0",
   "metadata": {
    "tags": []
   },
   "outputs": [],
   "source": [
    "# transit_routes.drop(columns=[\"geometry\"]).sample(3)"
   ]
  },
  {
   "cell_type": "code",
   "execution_count": null,
   "id": "b0490311-308d-4894-9776-301cb4cad658",
   "metadata": {
    "tags": []
   },
   "outputs": [],
   "source": [
    "# len(transit_routes)"
   ]
  },
  {
   "cell_type": "code",
   "execution_count": null,
   "id": "15c7b3ee-b927-49ed-a5be-43918c97bfdf",
   "metadata": {
    "tags": []
   },
   "outputs": [],
   "source": [
    "# transit_routes.recent_combined_name.value_counts().head()"
   ]
  },
  {
   "cell_type": "code",
   "execution_count": null,
   "id": "c190ae33-bf44-4e94-a614-b4f01ead288b",
   "metadata": {
    "tags": []
   },
   "outputs": [],
   "source": [
    "# transit_routes.portfolio_organization_name.value_counts().head()"
   ]
  },
  {
   "cell_type": "markdown",
   "id": "458212e5-3cb6-476b-8768-3a2d6d4ce494",
   "metadata": {
    "tags": []
   },
   "source": [
    "## Load in SHS \n"
   ]
  },
  {
   "cell_type": "code",
   "execution_count": null,
   "id": "3e081d5e-43f5-4298-b98a-cd89390117be",
   "metadata": {
    "tags": []
   },
   "outputs": [],
   "source": [
    "def dissolve_shn(columns_to_dissolve: list, file_name: str) -> gpd.GeoDataFrame:\n",
    "    \"\"\"\n",
    "    Dissolve State Highway Network so there will only be one row for each\n",
    "    route name and route type\n",
    "    \"\"\"\n",
    "    # Read in the dataset and change the CRS to one to feet.\n",
    "    SHN_FILE = catalog_utils.get_catalog(\n",
    "        \"shared_data_catalog\"\n",
    "    ).state_highway_network.urlpath\n",
    "\n",
    "    shn = gpd.read_parquet(\n",
    "        SHN_FILE,\n",
    "        storage_options={\"token\": credentials.token},\n",
    "    ).to_crs(geography_utils.CA_NAD83Albers_ft)\n",
    "\n",
    "    # Dissolve by route which represents the the route's name and drop the other columns\n",
    "    # because they are no longer relevant.\n",
    "    shn_dissolved = (shn.dissolve(by=columns_to_dissolve).reset_index())[\n",
    "        columns_to_dissolve + [\"geometry\"]\n",
    "    ]\n",
    "\n",
    "    # Rename because I don't want any confusion between SHN route and\n",
    "    # transit route.\n",
    "    shn_dissolved = shn_dissolved.rename(columns={\"Route\": \"shn_route\"})\n",
    "\n",
    "    # Find the length of each highway.\n",
    "    shn_dissolved = shn_dissolved.assign(\n",
    "        highway_feet=shn_dissolved.geometry.length,\n",
    "        shn_route=shn_dissolved.shn_route.astype(int).astype(str),\n",
    "    )\n",
    "\n",
    "    # Save this out so I don't have to dissolve it each time.\n",
    "    shn_dissolved.to_parquet(\n",
    "        f\"gs://calitp-analytics-data/data-analyses/state_highway_network/shn_dissolved_by_{file_name}.parquet\",\n",
    "        filesystem=fs,\n",
    "    )\n",
    "    return shn_dissolved"
   ]
  },
  {
   "cell_type": "code",
   "execution_count": null,
   "id": "b2d43e08-f0d0-4c17-b55b-2c7d509c2ddb",
   "metadata": {
    "tags": []
   },
   "outputs": [],
   "source": [
    "# dissolved_route = dissolve_shn([\"Route\", \"District\"], \"ct_district_route\")"
   ]
  },
  {
   "cell_type": "code",
   "execution_count": null,
   "id": "02671284-b53b-4d07-9a6a-8575ab75af44",
   "metadata": {
    "tags": []
   },
   "outputs": [],
   "source": [
    "SHN_FILE = catalog_utils.get_catalog(\n",
    "        \"shared_data_catalog\"\n",
    "    ).state_highway_network.urlpath\n",
    "\n",
    "shn = gpd.read_parquet(\n",
    "        SHN_FILE,\n",
    "        storage_options={\"token\": credentials.token},\n",
    "    ).to_crs(geography_utils.CA_NAD83Albers_ft)"
   ]
  },
  {
   "cell_type": "code",
   "execution_count": null,
   "id": "936b5932-02f2-41ad-bb6c-2eae82e07426",
   "metadata": {
    "tags": []
   },
   "outputs": [],
   "source": [
    "# shn.explore(\"Route\")"
   ]
  },
  {
   "cell_type": "code",
   "execution_count": null,
   "id": "7a590af6-39f4-4561-9150-2fc9937810fc",
   "metadata": {
    "tags": []
   },
   "outputs": [],
   "source": [
    "for district in list(shn.loc[shn.Route == 1].District.unique()):\n",
    "    print(f\"District {district}\")\n",
    "    display(shn.loc[(shn.Route == 1) & (shn.District == district)].explore())"
   ]
  },
  {
   "cell_type": "code",
   "execution_count": null,
   "id": "35040d80-5b74-4ecb-be16-e0b0b5fa201c",
   "metadata": {
    "tags": []
   },
   "outputs": [],
   "source": [
    "shn.loc[shn.Route == 1].explore(\"District\")"
   ]
  },
  {
   "cell_type": "code",
   "execution_count": null,
   "id": "8217489f-131c-48d3-9a36-c7b6220156c2",
   "metadata": {
    "tags": []
   },
   "outputs": [],
   "source": [
    "dissolved_url = \"gs://calitp-analytics-data/data-analyses/state_highway_network/shn_dissolved_by_ct_district_route.parquet\""
   ]
  },
  {
   "cell_type": "code",
   "execution_count": null,
   "id": "4ee38095-fcf9-4b6f-ae73-b417034990ca",
   "metadata": {
    "tags": []
   },
   "outputs": [],
   "source": [
    "dissolved_df = gpd.read_parquet(\n",
    "        dissolved_url,\n",
    "        storage_options={\"token\": credentials.token},\n",
    "    )"
   ]
  },
  {
   "cell_type": "code",
   "execution_count": null,
   "id": "93517734-7be9-433b-8ef9-0632f1c40aed",
   "metadata": {
    "tags": []
   },
   "outputs": [],
   "source": [
    "dissolved_df.columns"
   ]
  },
  {
   "cell_type": "code",
   "execution_count": null,
   "id": "9d999a82-dbc8-4989-b761-b4053d5425c6",
   "metadata": {
    "scrolled": true,
    "tags": []
   },
   "outputs": [],
   "source": [
    "dissolved_df.drop(columns = [\"geometry\"]).sample()"
   ]
  },
  {
   "cell_type": "code",
   "execution_count": null,
   "id": "5219316f-3ffc-45ca-8146-e364fed2c272",
   "metadata": {
    "tags": []
   },
   "outputs": [],
   "source": [
    "dissolved_df.groupby([\"shn_route\"]).agg({\"District\":\"nunique\"}).sort_values(by = [\"District\"], ascending = False).head()"
   ]
  },
  {
   "cell_type": "code",
   "execution_count": null,
   "id": "7b847c74-5ded-449e-b5c1-e934bb899b0d",
   "metadata": {
    "tags": []
   },
   "outputs": [],
   "source": [
    "dissolved_df.groupby([\"District\"]).agg({\"shn_route\":\"nunique\"})"
   ]
  },
  {
   "cell_type": "code",
   "execution_count": null,
   "id": "94b4efa1-672a-436b-90fb-19ad4d2e23d2",
   "metadata": {
    "tags": []
   },
   "outputs": [],
   "source": [
    "dissolved_df.loc[dissolved_df.District == 2].explore(\"shn_route\")"
   ]
  },
  {
   "cell_type": "code",
   "execution_count": null,
   "id": "2c87d87b-76fa-4014-a638-8f1d1cfdadd9",
   "metadata": {
    "tags": []
   },
   "outputs": [],
   "source": [
    "dissolved_df.loc[dissolved_df.shn_route == \"1\"].drop(columns = [\"geometry\"])"
   ]
  },
  {
   "cell_type": "code",
   "execution_count": null,
   "id": "bf11a791-8ee7-444c-90f9-670c3a611a60",
   "metadata": {
    "tags": []
   },
   "outputs": [],
   "source": [
    "dissolved_df.loc[dissolved_df.shn_route == \"1\"].explore(\"District\")"
   ]
  },
  {
   "cell_type": "code",
   "execution_count": null,
   "id": "4d2d3727-e2f7-4eae-af62-539c96cba02f",
   "metadata": {
    "scrolled": true,
    "tags": []
   },
   "outputs": [],
   "source": [
    "# shn_dissolved.loc[shn_dissolved.shn_route == 210].drop(columns=[\"geometry\"])"
   ]
  },
  {
   "cell_type": "code",
   "execution_count": null,
   "id": "045892dc-1094-42ec-9267-a1800387f1bf",
   "metadata": {
    "tags": []
   },
   "outputs": [],
   "source": [
    "# shn_dissolved.loc[shn_dissolved.shn_route == 110].drop(columns=[\"geometry\"])"
   ]
  },
  {
   "cell_type": "code",
   "execution_count": null,
   "id": "9d5c54c5-b055-4251-baea-20a45b47c41c",
   "metadata": {
    "scrolled": true,
    "tags": []
   },
   "outputs": [],
   "source": [
    "# shn_dissolved.loc[shn_dissolved.Route == 210].explore()"
   ]
  },
  {
   "cell_type": "code",
   "execution_count": null,
   "id": "a0f23cb6-4a7c-4a86-b0d3-3bcad379a9f2",
   "metadata": {
    "tags": []
   },
   "outputs": [],
   "source": [
    "# shn_dissolved.loc[shn_dissolved.Route == 110].explore()"
   ]
  },
  {
   "cell_type": "code",
   "execution_count": null,
   "id": "0be8698f-226a-40e3-ab00-394b5c205123",
   "metadata": {
    "tags": []
   },
   "outputs": [],
   "source": [
    "# len(dissolved)"
   ]
  },
  {
   "cell_type": "code",
   "execution_count": null,
   "id": "d3dc507a-7bb1-4d6b-81b2-b2e1b250cd05",
   "metadata": {
    "tags": []
   },
   "outputs": [],
   "source": [
    "def buffer_shn(buffer_amount: int, file_name: str) -> gpd.GeoDataFrame:\n",
    "    \"\"\"\n",
    "    Add a buffer to the SHN before overlaying it with\n",
    "    transit routes.\n",
    "    \"\"\"\n",
    "    GCS_FILE_PATH = \"gs://calitp-analytics-data/data-analyses/state_highway_network/\"\n",
    "\n",
    "    # Read in the dissolved SHN file\n",
    "    shn_df = gpd.read_parquet(\n",
    "        f\"{GCS_FILE_PATH}shn_dissolved_by_{file_name}.parquet\",\n",
    "        storage_options={\"token\": credentials.token},\n",
    "    )\n",
    "\n",
    "    # Buffer the state highway.\n",
    "    shn_df_buffered = shn_df.assign(\n",
    "        geometry=shn_df.geometry.buffer(buffer_amount),\n",
    "    )\n",
    "\n",
    "    # Save it out so we won't have to buffer over again and\n",
    "    # can just read it in.\n",
    "    shn_df_buffered.to_parquet(\n",
    "        f\"{GCS_FILE_PATH}shn_buffered_{buffer_amount}_ft_{file_name}.parquet\",\n",
    "        filesystem=fs,\n",
    "    )\n",
    "\n",
    "    return shn_df_buffered"
   ]
  },
  {
   "cell_type": "code",
   "execution_count": null,
   "id": "495541e6-2344-4dab-95e9-00d9c66be124",
   "metadata": {
    "tags": []
   },
   "outputs": [],
   "source": [
    "SHN_HWY_BUFFER_FEET = 50\n",
    "PARALLEL_HWY_BUFFER_FEET = geography_utils.FEET_PER_MI * 0.5"
   ]
  },
  {
   "cell_type": "code",
   "execution_count": null,
   "id": "0598e1da-3f56-4415-b68b-63e12ff5109d",
   "metadata": {
    "tags": []
   },
   "outputs": [],
   "source": [
    "# intersecting_buffer.shape"
   ]
  },
  {
   "cell_type": "code",
   "execution_count": null,
   "id": "7011b56d-a411-4178-8d9d-5aed53dae8b2",
   "metadata": {
    "tags": []
   },
   "outputs": [],
   "source": [
    "# buffered_df = buffer_shn(SHN_HWY_BUFFER_FEET, \"ct_district_route\")"
   ]
  },
  {
   "cell_type": "code",
   "execution_count": null,
   "id": "5fa7355f-ef54-42dc-adef-90bba2afdc34",
   "metadata": {
    "tags": []
   },
   "outputs": [],
   "source": [
    "# buffered_df.loc[buffered_df.shn_route == 5].explore()"
   ]
  },
  {
   "cell_type": "code",
   "execution_count": null,
   "id": "673b6c64-1667-4e19-bcad-231293cb643e",
   "metadata": {
    "tags": []
   },
   "outputs": [],
   "source": [
    "shn_district_df = gpd.read_parquet(\n",
    "    f\"gs://calitp-analytics-data/data-analyses/state_highway_network/shn_buffered_50_ft_ct_district_route.parquet\",\n",
    "    storage_options={\"token\": credentials.token},\n",
    ")"
   ]
  },
  {
   "cell_type": "code",
   "execution_count": null,
   "id": "857a24b9-c5fd-4808-9dc3-0d0953ccc53e",
   "metadata": {
    "tags": []
   },
   "outputs": [],
   "source": [
    "shn_district_df.shape"
   ]
  },
  {
   "cell_type": "code",
   "execution_count": null,
   "id": "4efb0f3c-00ef-49fe-b4b5-8b66a5f7dafe",
   "metadata": {
    "tags": []
   },
   "outputs": [],
   "source": [
    "shn_district_df.drop(columns=[\"geometry\"]).sample(3)"
   ]
  },
  {
   "cell_type": "code",
   "execution_count": null,
   "id": "94df1985-37bb-4ec5-8780-ebf456652681",
   "metadata": {
    "tags": []
   },
   "outputs": [],
   "source": [
    "shn_district_df.info()"
   ]
  },
  {
   "cell_type": "code",
   "execution_count": null,
   "id": "95d188c3-bdd6-4405-874b-f257a4a0d213",
   "metadata": {
    "tags": []
   },
   "outputs": [],
   "source": [
    "# buffered_df.columns"
   ]
  },
  {
   "cell_type": "markdown",
   "id": "87361842-5147-4802-bc32-063cd249b5f0",
   "metadata": {},
   "source": [
    "## Overlay"
   ]
  },
  {
   "cell_type": "code",
   "execution_count": null,
   "id": "e58e7e81-684e-46b9-96cb-3c9f0643e113",
   "metadata": {
    "tags": []
   },
   "outputs": [],
   "source": [
    "def routes_shn_intersection(buffer_amount: int, file_name: str) -> gpd.GeoDataFrame:\n",
    "    \"\"\"\n",
    "    Overlay the most recent transit routes with a buffered version\n",
    "    of the SHN\n",
    "    \"\"\"\n",
    "    GCS_FILE_PATH = \"gs://calitp-analytics-data/data-analyses/state_highway_network/\"\n",
    "\n",
    "    # Read in buffered shn here or re buffer if we don't have it available.\n",
    "    HWY_FILE = f\"{GCS_FILE_PATH}shn_buffered_{buffer_amount}_ft_{file_name}.parquet\"\n",
    "\n",
    "    if fs.exists(HWY_FILE):\n",
    "        shn_routes_gdf = gpd.read_parquet(\n",
    "            HWY_FILE, storage_options={\"token\": credentials.token}\n",
    "        )\n",
    "    else:\n",
    "        shn_routes_gdf = buffer_shn(buffer_amount)\n",
    "\n",
    "    # Process the most recent transit route geographies and ensure the\n",
    "    # CRS matches the SHN routes' GDF so the overlay doesn't go wonky.\n",
    "    transit_routes_gdf = process_transit_routes().to_crs(shn_routes_gdf.crs)\n",
    "\n",
    "    # Overlay transit routes with the SHN geographies.\n",
    "    gdf = gpd.overlay(\n",
    "        transit_routes_gdf, shn_routes_gdf, how=\"intersection\", keep_geom_type=True\n",
    "    )\n",
    "\n",
    "    # Calcuate the percent of the transit route that runs on a highway, round it up and\n",
    "    # multiply it by 100. Drop the geometry because we want the original transit route\n",
    "    # shapes.\n",
    "    gdf = gdf.assign(\n",
    "        pct_route_on_hwy=(gdf.geometry.length / gdf.route_length_feet).round(3) * 100,\n",
    "    ).drop(\n",
    "        columns=[\n",
    "            \"geometry\",\n",
    "        ]\n",
    "    )\n",
    "\n",
    "    # Join back the dataframe above with the original transit route dataframes\n",
    "    # so we can have the original transit route geographies.\n",
    "    gdf2 = pd.merge(\n",
    "        transit_routes_gdf,\n",
    "        gdf,\n",
    "        on=[\n",
    "            \"service_date\",\n",
    "            \"portfolio_organization_name\",\n",
    "            \"recent_combined_name\",\n",
    "            \"route_length_feet\",\n",
    "        ],\n",
    "        how=\"left\",\n",
    "    )\n",
    "\n",
    "    # Clean up\n",
    "    gdf2.District = gdf2.District.fillna(0).astype(int)\n",
    "    return gdf2"
   ]
  },
  {
   "cell_type": "code",
   "execution_count": null,
   "id": "385b204c-1215-4fdb-8063-023618b85077",
   "metadata": {
    "tags": []
   },
   "outputs": [],
   "source": [
    "intersecting = routes_shn_intersection(50, \"ct_district_route\")"
   ]
  },
  {
   "cell_type": "code",
   "execution_count": null,
   "id": "6c12df00-6b72-427c-9285-d8dd8cb25831",
   "metadata": {
    "tags": []
   },
   "outputs": [],
   "source": [
    "intersecting.info()"
   ]
  },
  {
   "cell_type": "code",
   "execution_count": null,
   "id": "74ebe504-b3b1-4b35-82b8-45fcc216fb85",
   "metadata": {
    "tags": []
   },
   "outputs": [],
   "source": [
    "intersecting.loc[intersecting.recent_combined_name == \"15 15 ARTIC Sports Complex Line\"].drop(columns=[\"geometry\", \"route_length_feet\", \"highway_feet\"])"
   ]
  },
  {
   "cell_type": "code",
   "execution_count": null,
   "id": "03dfb862-00ec-4d0e-87ce-91800ea0d5c9",
   "metadata": {
    "tags": []
   },
   "outputs": [],
   "source": [
    "intersecting.drop(columns=[\"geometry\", \"route_length_feet\", \"highway_feet\"]).sample(10)"
   ]
  },
  {
   "cell_type": "code",
   "execution_count": null,
   "id": "20aeafc5-48f6-46d0-9c91-210ff2dcd6a9",
   "metadata": {
    "tags": []
   },
   "outputs": [],
   "source": [
    "len(intersecting)"
   ]
  },
  {
   "cell_type": "code",
   "execution_count": null,
   "id": "60c66a8e-1519-4c2c-827c-651af54757f9",
   "metadata": {
    "tags": []
   },
   "outputs": [],
   "source": [
    "len(\n",
    "    intersecting.loc[\n",
    "        (intersecting.pct_route_on_hwy <= 1) & (intersecting.shn_route.notna())\n",
    "    ]\n",
    ")"
   ]
  },
  {
   "cell_type": "code",
   "execution_count": null,
   "id": "5e05b2f0-b614-4a02-9295-748dda09e840",
   "metadata": {
    "tags": []
   },
   "outputs": [],
   "source": [
    "intersecting.loc[\n",
    "    (intersecting.pct_route_on_hwy <= 1) & (intersecting.shn_route.notna())\n",
    "].drop(columns=[\"geometry\", \"route_length_feet\", \"highway_feet\"]).sample(10)"
   ]
  },
  {
   "cell_type": "code",
   "execution_count": null,
   "id": "1dfaf6d4-a7e7-44ef-84fb-6bd2f691a615",
   "metadata": {
    "tags": []
   },
   "outputs": [],
   "source": [
    "intersecting.pct_route_on_hwy.describe()"
   ]
  },
  {
   "cell_type": "code",
   "execution_count": null,
   "id": "2eb8c505-2d6c-4416-a31a-b974cafb1ff9",
   "metadata": {
    "tags": []
   },
   "outputs": [],
   "source": [
    "intersecting.recent_combined_name.value_counts().describe()"
   ]
  },
  {
   "cell_type": "code",
   "execution_count": null,
   "id": "60baeb61-115c-48cd-988e-12358b077cba",
   "metadata": {
    "tags": []
   },
   "outputs": [],
   "source": [
    "# Find routes that cross multiple districts\n",
    "multi_district_routes = (\n",
    "    intersecting.groupby([\"portfolio_organization_name\", \"recent_combined_name\"])\n",
    "    .agg({\"District\": \"nunique\"})\n",
    "    .reset_index()\n",
    ")"
   ]
  },
  {
   "cell_type": "code",
   "execution_count": null,
   "id": "7c8af6ad-1e43-4da4-88b9-e64bddd8de02",
   "metadata": {
    "scrolled": true,
    "tags": []
   },
   "outputs": [],
   "source": [
    "multi_district_routes.loc[\n",
    "    ~multi_district_routes.portfolio_organization_name.isin([\"FlixBus and Greyhound\", \"Amtrak\"])\n",
    "].sort_values(by=[\"District\"], ascending=False).head(20)"
   ]
  },
  {
   "cell_type": "code",
   "execution_count": null,
   "id": "fcbcdff2-22f5-4db9-9b37-880ecbab2621",
   "metadata": {
    "tags": []
   },
   "outputs": [],
   "source": [
    "bakersfield_route = intersecting.loc[\n",
    "    intersecting.recent_combined_name == \"100 Bakersfield - Lancaster\"\n",
    "]"
   ]
  },
  {
   "cell_type": "code",
   "execution_count": null,
   "id": "eab02039-73a9-40fd-a806-caff9691738c",
   "metadata": {
    "tags": []
   },
   "outputs": [],
   "source": [
    "bakersfield_route.District.unique()"
   ]
  },
  {
   "cell_type": "code",
   "execution_count": null,
   "id": "1fecd99c-44f3-47cd-9327-ba679e3c8d10",
   "metadata": {
    "tags": []
   },
   "outputs": [],
   "source": [
    "# bakersfield_route.drop(columns = [\"service_date\"]).explore()"
   ]
  },
  {
   "cell_type": "code",
   "execution_count": null,
   "id": "5004cbb9-f740-494a-b335-dcf0e7f977cd",
   "metadata": {
    "tags": []
   },
   "outputs": [],
   "source": [
    "intersecting.loc[\n",
    "    intersecting.recent_combined_name == \"100 Bakersfield - Lancaster\"\n",
    "].pct_route_on_hwy.sum()"
   ]
  },
  {
   "cell_type": "code",
   "execution_count": null,
   "id": "3b8b8f0b-0768-44de-b2c8-e112a7414b60",
   "metadata": {
    "tags": []
   },
   "outputs": [],
   "source": [
    "intersecting.loc[intersecting.recent_combined_name == \"Route 785\"].drop(\n",
    "    columns=[\"geometry\"]\n",
    ")"
   ]
  },
  {
   "cell_type": "markdown",
   "id": "dd3cb6cc-131f-4948-b1e4-0b79528ef3c8",
   "metadata": {},
   "source": [
    "## Create final dataframe to add to Transit Routes dataset on the Open Data Portal [here](https://data.ca.gov/dataset/california-transit-routes/resource/3ea7eb11-4fc6-45ed-88f5-b599e38c6b19)"
   ]
  },
  {
   "cell_type": "code",
   "execution_count": null,
   "id": "6c49e959-ff7a-49c6-9294-ab21824c3f92",
   "metadata": {
    "tags": []
   },
   "outputs": [],
   "source": [
    "def group_route_district(df: pd.DataFrame, pct_route_on_hwy_agg: str) -> pd.DataFrame:\n",
    "\n",
    "    # Aggregate by adding all the districts and SHN to a single row, rather than\n",
    "    # multiple and sum up the total % of SHN a transit route intersects with\n",
    "    agg1 = (\n",
    "        df.groupby(\n",
    "            [\n",
    "                \"portfolio_organization_name\",\n",
    "                \"recent_combined_name\",\n",
    "            ],\n",
    "            as_index=False,\n",
    "        )[[\"shn_route\", \"District\", \"pct_route_on_hwy_across_districts\"]]\n",
    "        .agg(\n",
    "            {\n",
    "                \"shn_route\": lambda x: \", \".join(set(x.astype(str))),\n",
    "                \"District\": lambda x: \", \".join(set(x.astype(str))),\n",
    "                \"pct_route_on_hwy_across_districts\": pct_route_on_hwy_agg,\n",
    "            }\n",
    "        )\n",
    "        .reset_index(drop=True)\n",
    "    )\n",
    "\n",
    "    # Clean up\n",
    "    agg1.pct_route_on_hwy_across_districts = (\n",
    "        agg1.pct_route_on_hwy_across_districts.astype(float).round(2)\n",
    "    )\n",
    "    return agg1"
   ]
  },
  {
   "cell_type": "code",
   "execution_count": null,
   "id": "49ef0c20-a178-41aa-ac2b-3c2ee10a5105",
   "metadata": {},
   "outputs": [],
   "source": [
    "# group_route_district()"
   ]
  },
  {
   "cell_type": "code",
   "execution_count": null,
   "id": "2a0f3f1c-5906-43db-a1c4-a3c44a514349",
   "metadata": {},
   "outputs": [],
   "source": [
    "def create_on_shs_column(df):\n",
    "    df[\"on_shs\"] = np.where(df[\"pct_route_on_hwy_across_districts\"] == 0, \"N\", \"Y\")\n",
    "    return df"
   ]
  },
  {
   "cell_type": "code",
   "execution_count": null,
   "id": "8257de8b-8a94-477c-9e4b-9aed7a8a446b",
   "metadata": {
    "tags": []
   },
   "outputs": [],
   "source": [
    "def prep_open_data_portal(gdf: gpd.GeoDataFrame) -> pd.DataFrame:\n",
    "    \"\"\"\n",
    "    Prepare the gdf to join with the existing transit_routes\n",
    "    dataframe that is published on the Open Data Portal\n",
    "    \"\"\"\n",
    "    # Rename column\n",
    "    gdf = gdf.rename(columns={\"pct_route_on_hwy\": \"pct_route_on_hwy_across_districts\"})\n",
    "    # Group the dataframe so that one route only has one\n",
    "    # row instead of multiple rows after finding its\n",
    "    # intersection with any SHN routes.\n",
    "    agg1 = group_route_district(gdf, \"sum\")\n",
    "\n",
    "    # Add yes/no column to signify if a transit route intersects\n",
    "    # with a SHN route\n",
    "    agg1 = create_on_shs_column(agg1)\n",
    "\n",
    "    return agg1"
   ]
  },
  {
   "cell_type": "code",
   "execution_count": null,
   "id": "27be2b5f-8b69-449d-b113-707d2130b697",
   "metadata": {
    "tags": []
   },
   "outputs": [],
   "source": [
    "intersecting.columns"
   ]
  },
  {
   "cell_type": "code",
   "execution_count": null,
   "id": "b555caba-52fc-4253-bea1-8e1da0f7bd1e",
   "metadata": {
    "tags": []
   },
   "outputs": [],
   "source": [
    "open_data_portal_df = prep_open_data_portal(intersecting)"
   ]
  },
  {
   "cell_type": "code",
   "execution_count": null,
   "id": "1a56f955-8169-49ec-b541-3058b0bbca17",
   "metadata": {
    "tags": []
   },
   "outputs": [],
   "source": [
    "open_data_portal_df.District.unique()"
   ]
  },
  {
   "cell_type": "code",
   "execution_count": null,
   "id": "2a79984b-1f0f-4ca3-99b2-7e1fbdbce1c7",
   "metadata": {
    "tags": []
   },
   "outputs": [],
   "source": [
    "open_data_portal_df.on_shs.value_counts()"
   ]
  },
  {
   "cell_type": "code",
   "execution_count": null,
   "id": "5af04ee4-5d19-4443-947e-e20c7108a74a",
   "metadata": {
    "tags": []
   },
   "outputs": [],
   "source": [
    "open_data_portal_df.loc[\n",
    "    open_data_portal_df.on_shs == \"Y\"\n",
    "].pct_route_on_hwy_across_districts.describe()"
   ]
  },
  {
   "cell_type": "code",
   "execution_count": null,
   "id": "39020051-ccba-46f5-b612-588bdc5c9410",
   "metadata": {
    "tags": []
   },
   "outputs": [],
   "source": [
    "open_data_portal_df.loc[\n",
    "    open_data_portal_df.on_shs == \"N\"\n",
    "].pct_route_on_hwy_across_districts.describe()"
   ]
  },
  {
   "cell_type": "markdown",
   "id": "7c2210be-1478-4474-8b16-df4e44fc95a0",
   "metadata": {},
   "source": [
    "### Check a couple of routes "
   ]
  },
  {
   "cell_type": "code",
   "execution_count": null,
   "id": "41160615-7f76-4123-b11d-26730d7afb42",
   "metadata": {
    "scrolled": true,
    "tags": []
   },
   "outputs": [],
   "source": [
    "intersecting.portfolio_organization_name.unique()"
   ]
  },
  {
   "cell_type": "code",
   "execution_count": null,
   "id": "636011d3-f05b-45fa-b0c9-132ef27daece",
   "metadata": {
    "scrolled": true,
    "tags": []
   },
   "outputs": [],
   "source": [
    "intersecting.loc[intersecting.portfolio_organization_name == 'Golden Gate Bridge, Highway and Transportation District',].drop(\n",
    "    columns=[\"geometry\"]\n",
    ").sort_values(by = [\"recent_combined_name\"])"
   ]
  },
  {
   "cell_type": "code",
   "execution_count": null,
   "id": "53d80ab3-4a0b-4e9d-b140-9944deda1d6b",
   "metadata": {
    "tags": []
   },
   "outputs": [],
   "source": [
    "intersecting.loc[intersecting.recent_combined_name == '154 Novato - San Francisco',].pct_route_on_hwy.sum()"
   ]
  },
  {
   "cell_type": "code",
   "execution_count": null,
   "id": "989bbf7e-1e9e-4494-9250-9daec1b585e2",
   "metadata": {
    "tags": []
   },
   "outputs": [],
   "source": [
    "open_data_portal_df.loc[open_data_portal_df.recent_combined_name == '154 Novato - San Francisco']"
   ]
  },
  {
   "cell_type": "code",
   "execution_count": null,
   "id": "f7e51d3b-d453-4757-933c-5b060f968d59",
   "metadata": {
    "tags": []
   },
   "outputs": [],
   "source": [
    "intersecting.loc[intersecting.recent_combined_name == '101 Santa Rosa - San Francisco',].pct_route_on_hwy.sum()"
   ]
  },
  {
   "cell_type": "code",
   "execution_count": null,
   "id": "36226282-1c27-4677-8b8e-f0f60cfdc216",
   "metadata": {
    "tags": []
   },
   "outputs": [],
   "source": [
    "open_data_portal_df.loc[open_data_portal_df.recent_combined_name == '101 Santa Rosa - San Francisco']"
   ]
  },
  {
   "cell_type": "code",
   "execution_count": null,
   "id": "88bf23fe-0246-4201-8395-dcceee65160e",
   "metadata": {
    "tags": []
   },
   "outputs": [],
   "source": [
    "intersecting.loc[intersecting.recent_combined_name == '132 San Anselmo - San Francisco',].pct_route_on_hwy.sum()"
   ]
  },
  {
   "cell_type": "code",
   "execution_count": null,
   "id": "005163fa-b264-44f3-bca0-27f393492ecb",
   "metadata": {
    "tags": []
   },
   "outputs": [],
   "source": [
    "intersecting.loc[intersecting.recent_combined_name == '132 San Anselmo - San Francisco',].shn_route.nunique()"
   ]
  },
  {
   "cell_type": "code",
   "execution_count": null,
   "id": "ddd25ebb-c6ea-40ab-b80d-af6b50b5a8bc",
   "metadata": {
    "tags": []
   },
   "outputs": [],
   "source": [
    "open_data_portal_df.loc[open_data_portal_df.recent_combined_name == '132 San Anselmo - San Francisco']"
   ]
  },
  {
   "cell_type": "markdown",
   "id": "9f9296aa-d0a9-45c3-b8a9-43872d1614dd",
   "metadata": {},
   "source": [
    "## Create final dataframes for portfolio"
   ]
  },
  {
   "cell_type": "code",
   "execution_count": null,
   "id": "b8bbd0d5-6d96-4e31-8c61-9ccbc1699ee3",
   "metadata": {
    "tags": []
   },
   "outputs": [],
   "source": [
    "def categorize_percentiles(df):\n",
    "    bins = [20, 41, 61, 81, np.inf]\n",
    "    labels = [\"20-40\", \"41-60\", \"61-80\", \"81-100\"]\n",
    "    df[\"percentile_route\"] = pd.cut(\n",
    "        df[\"pct_route_on_hwy\"], bins=bins, labels=labels, right=False\n",
    "    ).astype(str)\n",
    "    return df"
   ]
  },
  {
   "cell_type": "code",
   "execution_count": null,
   "id": "31c72996-a662-4278-9bad-f71f9d4c440e",
   "metadata": {
    "tags": []
   },
   "outputs": [],
   "source": [
    "def final_transit_route_shs_outputs(\n",
    "    intersecting_gdf: gpd.GeoDataFrame,\n",
    "    open_data_df: pd.DataFrame,\n",
    "    pct_route_intersection: int,\n",
    "    district: str,\n",
    "):\n",
    "    \"\"\"\n",
    "    Take the dataframes from prep_open_data_portal and routes_shn_intersection.\n",
    "    Prepare them for display on the GTFS Caltrans District Digest.\n",
    "\n",
    "    intersecting_gdf: geodataframe created by\n",
    "    open_data_df: dataframe created by\n",
    "    pct_route_intersection: cutoff of the % of the transit route intersecting with the SHN\n",
    "    district: the Caltrans district we are interested in.\n",
    "    \"\"\"\n",
    "    # Filter out for any pct_route_on_hwy that we deem too low & for the relevant district.\n",
    "    open_data_df = open_data_df.loc[\n",
    "        (open_data_df.pct_route_on_hwy_across_districts > pct_route_intersection)\n",
    "        & (open_data_df.District.str.contains(district))\n",
    "    ]\n",
    "    # intersecting_gdf.District = intersecting_gdf.District\n",
    "    intersecting_gdf = intersecting_gdf.loc[\n",
    "        intersecting_gdf.District.astype(str).str.contains(district)\n",
    "    ]\n",
    "\n",
    "    # Join back to get the original transit route geometries and the names of the\n",
    "    # state highways these routes intersect with. This gdf will be used to\n",
    "    # display a map.\n",
    "    map_gdf = pd.merge(\n",
    "        intersecting_gdf[\n",
    "            [\"portfolio_organization_name\", \"recent_combined_name\", \"geometry\"]\n",
    "        ].drop_duplicates(),\n",
    "        open_data_df,\n",
    "        on=[\"portfolio_organization_name\", \"recent_combined_name\"],\n",
    "    )\n",
    "\n",
    "    # Add column for color scale when mapping\n",
    "    # map_gdf = categorize_percentiles(map_gdf)\n",
    "\n",
    "    # We want a text table to display.\n",
    "    # Have to rejoin and to find only the SHN routes that are in the district\n",
    "    # we are interested in.\n",
    "    text_table_df = pd.merge(\n",
    "        intersecting_gdf[\n",
    "            [\n",
    "                \"portfolio_organization_name\",\n",
    "                \"recent_combined_name\",\n",
    "                \"shn_route\",\n",
    "                \"District\",\n",
    "            ]\n",
    "        ],\n",
    "        open_data_df[\n",
    "            [\n",
    "                \"portfolio_organization_name\",\n",
    "                \"recent_combined_name\",\n",
    "                \"pct_route_on_hwy_across_districts\",\n",
    "            ]\n",
    "        ],\n",
    "        on=[\"portfolio_organization_name\", \"recent_combined_name\"],\n",
    "    )\n",
    "\n",
    "    # Now we have to aggregate again so each route will only have one row with the\n",
    "    # district and SHN route info delinated by commas if there are multiple values.\n",
    "    text_table = group_route_district(text_table_df, \"max\")\n",
    "\n",
    "    # Rename for clarity\n",
    "    text_table = text_table.rename(\n",
    "        columns={\n",
    "            \"shn_route\": f\"shn_routes_in_d_{district}\",\n",
    "        }\n",
    "    )\n",
    "\n",
    "    return map_gdf, text_table"
   ]
  },
  {
   "cell_type": "markdown",
   "id": "b3454e29-3b17-49c6-b692-5467a1211058",
   "metadata": {},
   "source": [
    "### Example using 100 Bakersfield - Lancaster which crosses D6, D7, D9"
   ]
  },
  {
   "cell_type": "code",
   "execution_count": null,
   "id": "9ce2810a-c58d-4f0e-8a06-d10e39cac140",
   "metadata": {
    "tags": []
   },
   "outputs": [],
   "source": [
    "map_gdf_d7, text_df_d7 = final_transit_route_shs_outputs(\n",
    "    intersecting, open_data_portal_df, 20, \"7\"\n",
    ")"
   ]
  },
  {
   "cell_type": "code",
   "execution_count": null,
   "id": "62a9b9ef-c6a9-4fd1-be7e-fdf826276600",
   "metadata": {
    "tags": []
   },
   "outputs": [],
   "source": [
    "map_gdf_d9, text_df_d9 = final_transit_route_shs_outputs(\n",
    "    intersecting, open_data_portal_df, 20, \"9\"\n",
    ")"
   ]
  },
  {
   "cell_type": "code",
   "execution_count": null,
   "id": "86ab3bed-f850-4509-8746-8f23e867bfd8",
   "metadata": {
    "tags": []
   },
   "outputs": [],
   "source": [
    "map_gdf_d6, text_df_d6 = final_transit_route_shs_outputs(\n",
    "    intersecting, open_data_portal_df, 20, \"6\"\n",
    ")"
   ]
  },
  {
   "cell_type": "code",
   "execution_count": null,
   "id": "2e44da32-07ba-45bb-b675-3c06b69ca4d4",
   "metadata": {
    "tags": []
   },
   "outputs": [],
   "source": [
    "text_df_d7.loc[text_df_d7.recent_combined_name == \"100 Bakersfield - Lancaster\"]"
   ]
  },
  {
   "cell_type": "code",
   "execution_count": null,
   "id": "4dd16b83-03f7-436b-a4b5-a17da53eb255",
   "metadata": {
    "tags": []
   },
   "outputs": [],
   "source": [
    "text_df_d7.loc[text_df_d7.recent_combined_name == \"Route 785\"]"
   ]
  },
  {
   "cell_type": "code",
   "execution_count": null,
   "id": "71a3d332-54b7-41cb-ba6f-840cf615972c",
   "metadata": {
    "tags": []
   },
   "outputs": [],
   "source": [
    "text_df_d6.loc[text_df_d6.recent_combined_name == \"100 Bakersfield - Lancaster\"]"
   ]
  },
  {
   "cell_type": "code",
   "execution_count": null,
   "id": "c9cca9da-a6f4-43a0-be1f-68e1e29e050b",
   "metadata": {
    "tags": []
   },
   "outputs": [],
   "source": [
    "text_df_d9.loc[text_df_d9.recent_combined_name == \"100 Bakersfield - Lancaster\"]"
   ]
  },
  {
   "cell_type": "markdown",
   "id": "b11f2a17-cbfd-43b1-9f52-381aa7cac8d7",
   "metadata": {},
   "source": [
    "## Sample Map\n",
    "* This will be displayed by each Caltrans District as opposed to this sample which shows all the routes across the state that touch a state highway."
   ]
  },
  {
   "cell_type": "markdown",
   "id": "fee82333-2d3d-420c-ba47-b424634dc5d0",
   "metadata": {},
   "source": [
    "* Read in the buffered SHN file and dissolve it again so it's only one row, since we don't care about each individual state route.\n",
    "* Amanda, note to self: should save this out to GCS because there's no point in dissolving over & over again\n",
    "* Bug in geopandas [documented here](https://github.com/geopandas/geopandas/issues/3194), you can't specify a column and color."
   ]
  },
  {
   "cell_type": "code",
   "execution_count": null,
   "id": "1fee56ee-2a9a-4ecf-a471-ebf7412c5de4",
   "metadata": {
    "tags": []
   },
   "outputs": [],
   "source": [
    "def dissolve_buffered_for_map(buffer_amount: str) -> gpd.GeoDataFrame:\n",
    "    GCS_FILE_PATH = \"gs://calitp-analytics-data/data-analyses/state_highway_network/\"\n",
    "    # Read in buffered shn here\n",
    "    HWY_FILE = (\n",
    "        f\"{GCS_FILE_PATH}shn_buffered_{buffer_amount}_ft_ct_district_route.parquet\"\n",
    "    )\n",
    "    gdf = gpd.read_parquet(HWY_FILE, storage_options={\"token\": credentials.token})\n",
    "\n",
    "    # Dissolve by district\n",
    "    gdf2 = gdf.dissolve(\"District\").reset_index()[[\"geometry\", \"District\", \"shn_route\"]]\n",
    "\n",
    "    # Save\n",
    "    gdf2.to_parquet(\n",
    "        f\"{GCS_FILE_PATH}shn_buffered_{buffer_amount}_gtfs_digest.parquet\",\n",
    "        filesystem=fs,\n",
    "    )"
   ]
  },
  {
   "cell_type": "code",
   "execution_count": null,
   "id": "9b0224b6-fbec-4ece-9105-7c0ff4659b60",
   "metadata": {
    "tags": []
   },
   "outputs": [],
   "source": [
    "gtfs_digest_shn = dissolve_buffered_for_map(SHN_HWY_BUFFER_FEET)"
   ]
  },
  {
   "cell_type": "code",
   "execution_count": null,
   "id": "84da58a0-5360-47f0-904f-84bb9f6eba69",
   "metadata": {
    "tags": []
   },
   "outputs": [],
   "source": [
    "GCS_FILE_PATH = \"gs://calitp-analytics-data/data-analyses/state_highway_network/\""
   ]
  },
  {
   "cell_type": "code",
   "execution_count": null,
   "id": "cfb4fbe1-abf0-47f7-84ad-715272cd07fa",
   "metadata": {
    "tags": []
   },
   "outputs": [],
   "source": [
    "shn_gdf = gpd.read_parquet(\n",
    "    f\"{GCS_FILE_PATH}shn_buffered_{SHN_HWY_BUFFER_FEET}_gtfs_digest.parquet\",\n",
    "    storage_options={\"token\": credentials.token},\n",
    ")"
   ]
  },
  {
   "cell_type": "code",
   "execution_count": null,
   "id": "120b5b9a-a74d-4d5c-b729-867b0699d7f9",
   "metadata": {
    "tags": []
   },
   "outputs": [],
   "source": [
    "shn_gdf.columns"
   ]
  },
  {
   "cell_type": "code",
   "execution_count": null,
   "id": "eefd3209-e7e8-462c-b815-eb9413e09eba",
   "metadata": {
    "tags": []
   },
   "outputs": [],
   "source": [
    "shn_gdf.District.unique()"
   ]
  },
  {
   "cell_type": "code",
   "execution_count": null,
   "id": "bf641b85-801b-45fe-8702-44758f1fdabe",
   "metadata": {
    "tags": []
   },
   "outputs": [],
   "source": [
    "\"\"\" m = shn_gdf.loc[shn_gdf.District == 7].explore(\n",
    "    height=500,\n",
    "    width=1000,\n",
    "    style_kwds={\"color\": \"#9DA4A6\", \"weight\": 6, \"opacity\": 0.5},\n",
    "    tiles=\"CartoDB positron\",\n",
    "    name=\"shs\",\n",
    ")\"\"\""
   ]
  },
  {
   "cell_type": "code",
   "execution_count": null,
   "id": "fe5cff84-6043-4299-92e8-e04ff05eb360",
   "metadata": {
    "tags": []
   },
   "outputs": [],
   "source": [
    "m"
   ]
  },
  {
   "cell_type": "code",
   "execution_count": null,
   "id": "61725848-1990-477b-bdfc-d8f8b29a1ae0",
   "metadata": {
    "tags": []
   },
   "outputs": [],
   "source": [
    "cmap_colors = [\n",
    "    \"#93c3db\",\n",
    "    \"#144c87\",\n",
    "    \"#8c1024\",\n",
    "    \"#e4846c\",\n",
    "]"
   ]
  },
  {
   "cell_type": "code",
   "execution_count": null,
   "id": "42783e5e-04d6-45d9-ae05-5cf8a0e261a6",
   "metadata": {
    "tags": []
   },
   "outputs": [],
   "source": [
    "cmap_colors_continuous = [\n",
    "    \"#93c3db\",\n",
    "    \"#82b4d1\",\n",
    "    \"#71a5c7\",\n",
    "    \"#6096bd\",\n",
    "    \"#4f87b3\",\n",
    "    \"#3e78a9\",\n",
    "    \"#2d699f\",\n",
    "    \"#1c5a95\",\n",
    "    \"#0b4b8b\",\n",
    "    \"#003c81\",\n",
    "]"
   ]
  },
  {
   "cell_type": "code",
   "execution_count": null,
   "id": "f11c53c3-ed8b-4276-88d8-b59dd23d5524",
   "metadata": {
    "tags": []
   },
   "outputs": [],
   "source": [
    "map_gdf_d7.columns"
   ]
  },
  {
   "cell_type": "code",
   "execution_count": null,
   "id": "94249045-af30-4fa0-b5d3-c795962c70d3",
   "metadata": {
    "tags": []
   },
   "outputs": [],
   "source": [
    "# map_gdf_d7.explore(\n",
    "#    \"percentile_route\", m=m, categorical=True, cmap=cmap_colors, legend=True\n",
    "# )"
   ]
  },
  {
   "cell_type": "code",
   "execution_count": null,
   "id": "1170ec19-d69c-457e-afd7-8aa8c866d43d",
   "metadata": {
    "tags": []
   },
   "outputs": [],
   "source": [
    "# map_gdf_d7.explore(\"pct_route_on_hwy_across_districts\", m=m, cmap= 'Blues', legend = True)"
   ]
  },
  {
   "cell_type": "markdown",
   "id": "cfaab31a-f770-4c72-bedc-5e6201cdfabe",
   "metadata": {
    "tags": []
   },
   "source": [
    "### Sample Text Table"
   ]
  },
  {
   "cell_type": "code",
   "execution_count": null,
   "id": "c668f18c-f69a-458c-bbdf-9f4816236d44",
   "metadata": {
    "scrolled": true,
    "tags": []
   },
   "outputs": [],
   "source": [
    "text_df_d7.sort_values(by=[\"pct_route_on_hwy_across_districts\"], ascending=False)"
   ]
  },
  {
   "cell_type": "code",
   "execution_count": null,
   "id": "72768925-ae44-49c3-9794-8f0a2fdf21cb",
   "metadata": {},
   "outputs": [],
   "source": []
  }
 ],
 "metadata": {
  "kernelspec": {
   "display_name": "Python 3 (ipykernel)",
   "language": "python",
   "name": "python3"
  },
  "language_info": {
   "codemirror_mode": {
    "name": "ipython",
    "version": 3
   },
   "file_extension": ".py",
   "mimetype": "text/x-python",
   "name": "python",
   "nbconvert_exporter": "python",
   "pygments_lexer": "ipython3",
   "version": "3.11.10"
  }
 },
 "nbformat": 4,
 "nbformat_minor": 5
}
