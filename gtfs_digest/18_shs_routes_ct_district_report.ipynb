{
 "cells": [
  {
   "cell_type": "markdown",
   "id": "41619139-2e85-4914-a0c0-cb390c36b94c",
   "metadata": {},
   "source": [
    "# Transit On the SHN \n",
    "* [GH Issue](https://github.com/cal-itp/data-analyses/issues/1477)\n"
   ]
  },
  {
   "cell_type": "code",
   "execution_count": null,
   "id": "f6b01cd8-ccda-4d2a-9c64-9cca36e0713c",
   "metadata": {},
   "outputs": [],
   "source": [
    "import geopandas as gpd\n",
    "import google.auth\n",
    "import numpy as np\n",
    "import pandas as pd\n",
    "\n",
    "credentials, project = google.auth.default()\n",
    "\n",
    "import gcsfs\n",
    "\n",
    "fs = gcsfs.GCSFileSystem()"
   ]
  },
  {
   "cell_type": "code",
   "execution_count": null,
   "id": "ec246873-6121-4544-8d62-f71dec06352e",
   "metadata": {
    "tags": []
   },
   "outputs": [],
   "source": [
    "from calitp_data_analysis import geography_utils, utils\n",
    "from segment_speed_utils import gtfs_schedule_wrangling, helpers\n",
    "from shared_utils import (\n",
    "    catalog_utils,\n",
    "    dask_utils,\n",
    "    gtfs_utils_v2,\n",
    "    portfolio_utils,\n",
    "    publish_utils,\n",
    "    rt_dates,\n",
    "    rt_utils,\n",
    ")\n",
    "from update_vars import GTFS_DATA_DICT, RT_SCHED_GCS, SCHED_GCS, SEGMENT_GCS"
   ]
  },
  {
   "cell_type": "code",
   "execution_count": null,
   "id": "ffeaad35-64a6-4b16-a93d-ac4a0759288a",
   "metadata": {
    "tags": []
   },
   "outputs": [],
   "source": [
    "pd.options.display.max_columns = 100\n",
    "pd.options.display.float_format = \"{:.2f}\".format\n",
    "pd.set_option(\"display.max_rows\", None)\n",
    "pd.set_option(\"display.max_colwidth\", None)"
   ]
  },
  {
   "cell_type": "code",
   "execution_count": null,
   "id": "fac679d2-4c02-409f-9550-4334664c631a",
   "metadata": {
    "tags": []
   },
   "outputs": [],
   "source": [
    "analysis_date_list = rt_dates.y2024_dates + rt_dates.y2023_dates + rt_dates.y2025_dates"
   ]
  },
  {
   "cell_type": "code",
   "execution_count": null,
   "id": "48e01cac-bde0-49bf-bfed-304f83f8fc10",
   "metadata": {
    "tags": []
   },
   "outputs": [],
   "source": [
    "analysis_date = \"2025-03-12\""
   ]
  },
  {
   "cell_type": "markdown",
   "id": "97362753-78c3-4587-8ae2-15dd5ae8ab3b",
   "metadata": {},
   "source": [
    "## Load in Operator Routes - Fix the way `shortest_longest` and `percentile_groups` are created in `merge_operator_data`"
   ]
  },
  {
   "cell_type": "code",
   "execution_count": null,
   "id": "1771ea96-ce3b-415f-88f5-8ed54a9b6a5c",
   "metadata": {
    "tags": []
   },
   "outputs": [],
   "source": [
    "def process_transit_routes() -> gpd.GeoDataFrame:\n",
    "    \"\"\"\n",
    "    Select the most recent transit route.\n",
    "    Also count how many routes there are for each operator.\n",
    "    \"\"\"\n",
    "    OPERATOR_ROUTE = GTFS_DATA_DICT.digest_tables.operator_routes_map\n",
    "\n",
    "    subset = [\n",
    "        \"service_date\",\n",
    "        \"geometry\",\n",
    "        \"portfolio_organization_name\",\n",
    "        \"recent_combined_name\",\n",
    "        \"schedule_gtfs_dataset_key\",\n",
    "    ]\n",
    "    op_geography_df = gpd.read_parquet(\n",
    "        f\"{RT_SCHED_GCS}{OPERATOR_ROUTE}.parquet\",\n",
    "        storage_options={\"token\": credentials.token},\n",
    "    )[subset]\n",
    "\n",
    "    most_recent_routes = publish_utils.filter_to_recent_date(\n",
    "        df=op_geography_df,\n",
    "        group_cols=[\n",
    "            \"portfolio_organization_name\",\n",
    "        ],\n",
    "    )\n",
    "\n",
    "    # Calc length of route\n",
    "    most_recent_routes = most_recent_routes.assign(\n",
    "        route_length_feet=most_recent_routes.geometry.to_crs(\n",
    "            geography_utils.CA_NAD83Albers_ft\n",
    "        ).length\n",
    "    )\n",
    "\n",
    "    # Drop duplicates\n",
    "    most_recent_routes = most_recent_routes.drop_duplicates(\n",
    "        subset=[\"portfolio_organization_name\", \"recent_combined_name\", \"service_date\"]\n",
    "    )\n",
    "    return most_recent_routes"
   ]
  },
  {
   "cell_type": "code",
   "execution_count": null,
   "id": "c7a5c057-9789-447c-a0e4-20ca56bddea0",
   "metadata": {
    "tags": []
   },
   "outputs": [],
   "source": [
    "# transit_routes.drop(columns=[\"geometry\"]).sample(3)"
   ]
  },
  {
   "cell_type": "markdown",
   "id": "458212e5-3cb6-476b-8768-3a2d6d4ce494",
   "metadata": {
    "tags": []
   },
   "source": [
    "## Load in SHS \n",
    "* Saving it out isn't working"
   ]
  },
  {
   "cell_type": "code",
   "execution_count": null,
   "id": "3e081d5e-43f5-4298-b98a-cd89390117be",
   "metadata": {
    "tags": []
   },
   "outputs": [],
   "source": [
    "def dissolve_shn() -> gpd.GeoDataFrame:\n",
    "    \"\"\"\n",
    "    Dissolve State Highway Network so\n",
    "    there will only be one row for each\n",
    "    route name and route type\n",
    "    \"\"\"\n",
    "    # calitp-analytics-data/data-analyses/state_highway_network\n",
    "    SHN_FILE = catalog_utils.get_catalog(\n",
    "        \"shared_data_catalog\"\n",
    "    ).state_highway_network.urlpath\n",
    "\n",
    "    shn = gpd.read_parquet(\n",
    "        SHN_FILE,\n",
    "        storage_options={\"token\": credentials.token},\n",
    "    ).to_crs(geography_utils.CA_NAD83Albers_ft)\n",
    "\n",
    "    # Dissolve\n",
    "    shn_dissolved = (\n",
    "        shn.dissolve(by=[\"Route\"])\n",
    "        .reset_index()\n",
    "        .drop(columns=[\"County\", \"District\", \"Direction\"])\n",
    "    )\n",
    "\n",
    "    shn_dissolved = shn_dissolved.rename(columns={\"Route\": \"shn_route\"})\n",
    "\n",
    "    shn_dissolved = shn_dissolved.assign(\n",
    "        highway_feet=shn_dissolved.geometry.length,\n",
    "        shn_route=shn_dissolved.shn_route.astype(int),\n",
    "    )\n",
    "\n",
    "    shn_dissolved.to_parquet(\n",
    "        \"gs://calitp-analytics-data/data-analyses/state_highway_network/shn_dissolved.parquet\",\n",
    "        storage_options={\"token\": credentials.token},\n",
    "    )\n",
    "    return shn_dissolved"
   ]
  },
  {
   "cell_type": "code",
   "execution_count": null,
   "id": "b2d43e08-f0d0-4c17-b55b-2c7d509c2ddb",
   "metadata": {
    "tags": []
   },
   "outputs": [],
   "source": [
    "# dissolved = dissolve_shn()"
   ]
  },
  {
   "cell_type": "code",
   "execution_count": null,
   "id": "4d2d3727-e2f7-4eae-af62-539c96cba02f",
   "metadata": {
    "scrolled": true,
    "tags": []
   },
   "outputs": [],
   "source": [
    "# shn_dissolved.loc[shn_dissolved.shn_route == 210].drop(columns=[\"geometry\"])"
   ]
  },
  {
   "cell_type": "code",
   "execution_count": null,
   "id": "045892dc-1094-42ec-9267-a1800387f1bf",
   "metadata": {
    "tags": []
   },
   "outputs": [],
   "source": [
    "# shn_dissolved.loc[shn_dissolved.shn_route == 110].drop(columns=[\"geometry\"])"
   ]
  },
  {
   "cell_type": "code",
   "execution_count": null,
   "id": "9d5c54c5-b055-4251-baea-20a45b47c41c",
   "metadata": {
    "scrolled": true,
    "tags": []
   },
   "outputs": [],
   "source": [
    "# shn_dissolved.loc[shn_dissolved.Route == 210].explore()"
   ]
  },
  {
   "cell_type": "code",
   "execution_count": null,
   "id": "a0f23cb6-4a7c-4a86-b0d3-3bcad379a9f2",
   "metadata": {
    "tags": []
   },
   "outputs": [],
   "source": [
    "# shn_dissolved.loc[shn_dissolved.Route == 110].explore()"
   ]
  },
  {
   "cell_type": "code",
   "execution_count": null,
   "id": "0be8698f-226a-40e3-ab00-394b5c205123",
   "metadata": {
    "tags": []
   },
   "outputs": [],
   "source": [
    "# len(shn_dissolved)"
   ]
  },
  {
   "cell_type": "code",
   "execution_count": null,
   "id": "d3dc507a-7bb1-4d6b-81b2-b2e1b250cd05",
   "metadata": {
    "tags": []
   },
   "outputs": [],
   "source": [
    "def buffer_shn(buffer_amount: int) -> gpd.GeoDataFrame:\n",
    "    \"\"\"\n",
    "    Add a buffer to the SHN file. Save it out so\n",
    "    we won't have to buffer over and over again.\n",
    "    \"\"\"\n",
    "    GCS_FILE_PATH = \"gs://calitp-analytics-data/data-analyses/state_highway_network/\"\n",
    "\n",
    "    shn_df = gpd.read_parquet(\n",
    "        f\"{GCS_FILE_PATH}shn_dissolved.parquet\",\n",
    "        storage_options={\"token\": credentials.token},\n",
    "    )\n",
    "\n",
    "    shn_df_buffered = shn_df.assign(\n",
    "        geometry=shn_df.geometry.buffer(buffer_amount),\n",
    "    )\n",
    "\n",
    "    shn_df_buffered.to_parquet(\n",
    "        f\"{GCS_FILE_PATH}shn_buffered_{buffer_amount}_ft.parquet\"\n",
    "    )\n",
    "\n",
    "    return shn_df_buffered"
   ]
  },
  {
   "cell_type": "code",
   "execution_count": null,
   "id": "41a9e51a-d180-4c90-b823-c4ba0831b9ab",
   "metadata": {
    "tags": []
   },
   "outputs": [],
   "source": [
    "# intersecting_buffer = buffer_shn(SHN_HWY_BUFFER_FEET)"
   ]
  },
  {
   "cell_type": "markdown",
   "id": "87361842-5147-4802-bc32-063cd249b5f0",
   "metadata": {},
   "source": [
    "## Overlay"
   ]
  },
  {
   "cell_type": "code",
   "execution_count": null,
   "id": "e58e7e81-684e-46b9-96cb-3c9f0643e113",
   "metadata": {
    "tags": []
   },
   "outputs": [],
   "source": [
    "def routes_shn_intersection(\n",
    "    buffer_amount: int,\n",
    "    \n",
    ") -> gpd.GeoDataFrame:\n",
    "\n",
    "    GCS_FILE_PATH = \"gs://calitp-analytics-data/data-analyses/state_highway_network/\"\n",
    "\n",
    "    # Read in buffered shn here or re buffer\n",
    "    HWY_FILE = f\"{GCS_FILE_PATH}shn_buffered_{buffer_amount}_ft.parquet\"\n",
    "\n",
    "    if fs.exists(HWY_FILE):\n",
    "        shn_routes_gdf = gpd.read_parquet(\n",
    "            HWY_FILE, storage_options={\"token\": credentials.token}\n",
    "        )\n",
    "    else:\n",
    "        shn_routes_gdf = buffer_shn(buffer_amount)\n",
    "\n",
    "    transit_routes_gdf = process_transit_routes().to_crs(shn_routes_gdf.crs)\n",
    "\n",
    "    gdf = gpd.overlay(\n",
    "        transit_routes_gdf, shn_routes_gdf, how=\"intersection\", keep_geom_type=True\n",
    "    )\n",
    "\n",
    "    gdf = gdf.assign(\n",
    "        pct_route_on_hwy=(gdf.geometry.length / gdf.route_length_feet).round(3) * 100,\n",
    "        shn_route=gdf.shn_route.astype(int),\n",
    "    ).drop(\n",
    "        columns=[\n",
    "            \"geometry\",\n",
    "        ]\n",
    "    )\n",
    "\n",
    "    # Join back for geo and any routes that don't intersect with the SHS\n",
    "    gdf2 = pd.merge(\n",
    "        transit_routes_gdf,\n",
    "        gdf,\n",
    "        on=[\n",
    "            \"service_date\",\n",
    "            \"portfolio_organization_name\",\n",
    "            \"recent_combined_name\",\n",
    "            \"schedule_gtfs_dataset_key\",\n",
    "            \"route_length_feet\",\n",
    "        ],\n",
    "        how=\"left\",\n",
    "    )\n",
    "\n",
    "    return gdf2"
   ]
  },
  {
   "cell_type": "code",
   "execution_count": null,
   "id": "9b72f225-6ab2-4967-b95c-f206a2e1a3f5",
   "metadata": {
    "tags": []
   },
   "outputs": [],
   "source": [
    "SHN_HWY_BUFFER_FEET = 50\n",
    "PARALLEL_HWY_BUFFER_FEET = geography_utils.FEET_PER_MI * 0.5"
   ]
  },
  {
   "cell_type": "code",
   "execution_count": null,
   "id": "385b204c-1215-4fdb-8063-023618b85077",
   "metadata": {
    "tags": []
   },
   "outputs": [],
   "source": [
    "intersecting = routes_shn_intersection(SHN_HWY_BUFFER_FEET)"
   ]
  },
  {
   "cell_type": "code",
   "execution_count": null,
   "id": "1dfaf6d4-a7e7-44ef-84fb-6bd2f691a615",
   "metadata": {
    "tags": []
   },
   "outputs": [],
   "source": [
    "intersecting.pct_route_on_hwy.describe()"
   ]
  },
  {
   "cell_type": "code",
   "execution_count": null,
   "id": "adcd5ca9-25b5-4aac-a4cd-0a7a9d98532f",
   "metadata": {
    "tags": []
   },
   "outputs": [],
   "source": [
    "transit_routes_gdf = process_transit_routes()"
   ]
  },
  {
   "cell_type": "code",
   "execution_count": null,
   "id": "5bdbb646-9217-4acb-906c-b230933e62fe",
   "metadata": {
    "tags": []
   },
   "outputs": [],
   "source": [
    "len(intersecting)"
   ]
  },
  {
   "cell_type": "code",
   "execution_count": null,
   "id": "de6248ff-8a6b-4dc3-bb10-9feb28a2510b",
   "metadata": {
    "tags": []
   },
   "outputs": [],
   "source": [
    "intersecting.loc[intersecting.pct_route_on_hwy != 0].recent_combined_name.nunique()"
   ]
  },
  {
   "cell_type": "markdown",
   "id": "9f9296aa-d0a9-45c3-b8a9-43872d1614dd",
   "metadata": {},
   "source": [
    "## Create final dataframes"
   ]
  },
  {
   "cell_type": "code",
   "execution_count": null,
   "id": "5b2d690d-9339-4589-ae73-fe2dcd103cea",
   "metadata": {
    "tags": []
   },
   "outputs": [],
   "source": [
    "def create_on_shs_column(df):\n",
    "    df[\"on_shs\"] = np.where(df[\"pct_route_on_hwy\"] == 0, \"N\",\"Y\")\n",
    "    return df"
   ]
  },
  {
   "cell_type": "code",
   "execution_count": null,
   "id": "31c72996-a662-4278-9bad-f71f9d4c440e",
   "metadata": {
    "tags": []
   },
   "outputs": [],
   "source": [
    "def prep_transit_route_shs(gdf: gpd.GeoDataFrame, pct_route_intersection:int):\n",
    "    # Aggregate to find the total pct of a transit route because\n",
    "    # a route can intersect with one or more state highway\n",
    "    # so there will only be one row for one transit route instead of\n",
    "    # many rows for one transit route.\n",
    "    map_gdf = (\n",
    "        gdf.groupby(\n",
    "            [\n",
    "                \"portfolio_organization_name\",\n",
    "                \"recent_combined_name\",\n",
    "                \"schedule_gtfs_dataset_key\",\n",
    "            ]\n",
    "        )\n",
    "        .agg({\"pct_route_on_hwy\": \"sum\"})\n",
    "        .reset_index()\n",
    "    )\n",
    "\n",
    "    # Tag whether or not a transit route intersects with\n",
    "    # a state highway.\n",
    "    map_gdf = create_on_shs_column(map_gdf)\n",
    "\n",
    "    # Join back to get the original transit route geometries.\n",
    "    map_gdf = pd.merge(\n",
    "        gdf[\n",
    "            [\"schedule_gtfs_dataset_key\", \"recent_combined_name\", \"geometry\"]\n",
    "        ].drop_duplicates(),\n",
    "        map_gdf,\n",
    "        on=[\"schedule_gtfs_dataset_key\", \"recent_combined_name\"],\n",
    "    )\n",
    "    # We want a text table to display as well\n",
    "    # Filter out for any pct_route_on_hwy that we deem too low\n",
    "    filtered_gdf = map_gdf.loc[map_gdf.pct_route_on_hwy > pct_route_intersection]\n",
    "    text_df = pd.merge(gdf.drop(columns = [\"pct_route_on_hwy\"]), filtered_gdf, how = \"inner\")\n",
    "    text_df = (\n",
    "        (\n",
    "            text_df.groupby(\n",
    "                [\n",
    "                    \"portfolio_organization_name\",\n",
    "                    \"recent_combined_name\",\n",
    "                    \"schedule_gtfs_dataset_key\",\n",
    "                    \"pct_route_on_hwy\"\n",
    "                ],\n",
    "                as_index=False,\n",
    "            )\n",
    "        )[\"shn_route\"]\n",
    "        .agg(lambda x: \", \".join(set(x.astype(str))))\n",
    "        .reset_index(drop=True)\n",
    "    )\n",
    "\n",
    "    return map_gdf, text_df"
   ]
  },
  {
   "cell_type": "code",
   "execution_count": null,
   "id": "9ce2810a-c58d-4f0e-8a06-d10e39cac140",
   "metadata": {
    "tags": []
   },
   "outputs": [],
   "source": [
    "map_gdf, text_df = prep_transit_route_shs(intersecting, 20)"
   ]
  },
  {
   "cell_type": "code",
   "execution_count": null,
   "id": "f1c26505-554d-4822-ae77-105feb8423a1",
   "metadata": {
    "tags": []
   },
   "outputs": [],
   "source": [
    "map_gdf.on_shs.value_counts()"
   ]
  },
  {
   "cell_type": "code",
   "execution_count": null,
   "id": "0e31fbcd-caf4-40b5-9c7b-a36652e4dac2",
   "metadata": {
    "tags": []
   },
   "outputs": [],
   "source": [
    "map_gdf.loc[map_gdf.on_shs == \"N\"].pct_route_on_hwy.describe()"
   ]
  },
  {
   "cell_type": "code",
   "execution_count": null,
   "id": "d2cff860-550b-4031-9665-dd931437e853",
   "metadata": {
    "tags": []
   },
   "outputs": [],
   "source": [
    "map_gdf.loc[map_gdf.on_shs == \"Y\"].pct_route_on_hwy.describe()"
   ]
  },
  {
   "cell_type": "code",
   "execution_count": null,
   "id": "2cb7c79e-be6b-4f2b-a19f-d8f7f612aa71",
   "metadata": {
    "tags": []
   },
   "outputs": [],
   "source": [
    "map_gdf.loc[map_gdf.pct_route_on_hwy > 100].drop(columns = [\"geometry\"])"
   ]
  },
  {
   "cell_type": "code",
   "execution_count": null,
   "id": "57089e5a-85cf-4fb2-9695-25e0a8e8a06e",
   "metadata": {
    "tags": []
   },
   "outputs": [],
   "source": [
    "intersecting.columns"
   ]
  },
  {
   "cell_type": "code",
   "execution_count": null,
   "id": "81af9ebd-9d35-474e-a858-7f1ba3523ea7",
   "metadata": {
    "tags": []
   },
   "outputs": [],
   "source": [
    "intersecting.loc[intersecting.recent_combined_name == \"235 Downtown - Escondido Transit Center\"][[ 'shn_route', 'route_type',\"pct_route_on_hwy\"]]"
   ]
  },
  {
   "cell_type": "code",
   "execution_count": null,
   "id": "b96c8fcb-2b78-4a72-b02e-e1df4358fc80",
   "metadata": {
    "tags": []
   },
   "outputs": [],
   "source": [
    "transit_routes_gdf.recent_combined_name.nunique()"
   ]
  },
  {
   "cell_type": "code",
   "execution_count": null,
   "id": "125378de-d9da-46e4-b0dc-47827bd4f6b2",
   "metadata": {
    "tags": []
   },
   "outputs": [],
   "source": [
    "len(map_gdf)"
   ]
  },
  {
   "cell_type": "code",
   "execution_count": null,
   "id": "85aba725-5578-491f-804b-49492b03638a",
   "metadata": {
    "tags": []
   },
   "outputs": [],
   "source": [
    "len(transit_routes_gdf) "
   ]
  },
  {
   "cell_type": "code",
   "execution_count": null,
   "id": "649f5ec6-9f31-4fa6-a3c8-0858ad308c94",
   "metadata": {
    "tags": []
   },
   "outputs": [],
   "source": [
    "map_gdf.columns"
   ]
  },
  {
   "cell_type": "code",
   "execution_count": null,
   "id": "2e24241e-cca3-4ac8-838e-b83e2821a7c4",
   "metadata": {
    "tags": []
   },
   "outputs": [],
   "source": [
    "len(text_df)"
   ]
  },
  {
   "cell_type": "code",
   "execution_count": null,
   "id": "450266ba-191a-4fa1-b757-0a4975312861",
   "metadata": {
    "tags": []
   },
   "outputs": [],
   "source": [
    "text_df.sort_values(by = [\"pct_route_on_hwy\"], ascending = False).head(100)"
   ]
  },
  {
   "cell_type": "code",
   "execution_count": null,
   "id": "78e83524-d55d-4029-8e45-f12cc705dfef",
   "metadata": {
    "tags": []
   },
   "outputs": [],
   "source": [
    "map_gdf.loc[map_gdf.on_shs == True].explore(\n",
    "            \"recent_combined_name\",\n",
    "            tiles=\"CartoDB positron\",\n",
    "            width=500,\n",
    "            height=300,\n",
    "            style_kwds={\"weight\": 3},\n",
    "            legend=False, )"
   ]
  },
  {
   "cell_type": "markdown",
   "id": "9189c1a5-6b68-4f2b-a975-70314c96d3e2",
   "metadata": {},
   "source": [
    "### Need one dataframe with one row per unique transit route + a boolean column that says \"on_shn\""
   ]
  },
  {
   "cell_type": "code",
   "execution_count": null,
   "id": "d707ed64-1098-4c23-823a-52a922d71b80",
   "metadata": {
    "tags": []
   },
   "outputs": [],
   "source": [
    "df1 = intersecting.drop(columns=[\"geometry\"]).sort_values(\n",
    "    by=[\"portfolio_organization_name\", \"recent_combined_name\", \"pct_route_on_hwy\"],\n",
    "    ascending=[True, True, False],\n",
    ")"
   ]
  },
  {
   "cell_type": "code",
   "execution_count": null,
   "id": "f48a5343-ec0e-4f58-a577-13f7f38c7518",
   "metadata": {
    "tags": []
   },
   "outputs": [],
   "source": [
    "df1.recent_combined_name.value_counts().head()"
   ]
  },
  {
   "cell_type": "code",
   "execution_count": null,
   "id": "bd8e2e70-f44e-4abf-9136-c104d2d314e5",
   "metadata": {
    "tags": []
   },
   "outputs": [],
   "source": [
    "df1.loc[\n",
    "    df1.recent_combined_name == \"FlixBus 2015 San Diego - San Bernardino - Los Angeles\"\n",
    "]"
   ]
  },
  {
   "cell_type": "code",
   "execution_count": null,
   "id": "ad98c1b0-e2d4-45be-98dc-bf23ed401af7",
   "metadata": {
    "tags": []
   },
   "outputs": [],
   "source": [
    "df1.columns"
   ]
  },
  {
   "cell_type": "code",
   "execution_count": null,
   "id": "fa0713cf-02b6-4ee9-b37e-2e1ed6ffcb9f",
   "metadata": {
    "tags": []
   },
   "outputs": [],
   "source": [
    "df1 = (\n",
    "    df1.groupby(\n",
    "        [\n",
    "            \"portfolio_organization_name\",\n",
    "            \"recent_combined_name\",\n",
    "            \"schedule_gtfs_dataset_key\",\n",
    "        ]\n",
    "    )\n",
    "    .agg({\"pct_route_on_hwy\": \"sum\"})\n",
    "    .reset_index()\n",
    ")"
   ]
  },
  {
   "cell_type": "code",
   "execution_count": null,
   "id": "878224eb-d8e0-4eba-85b5-d61d1434e698",
   "metadata": {
    "tags": []
   },
   "outputs": [],
   "source": [
    "df1.pct_route_on_hwy.describe()"
   ]
  },
  {
   "cell_type": "code",
   "execution_count": null,
   "id": "90d16bf5-0e86-4b27-b281-f64b536993da",
   "metadata": {
    "tags": []
   },
   "outputs": [],
   "source": [
    "len(df1)"
   ]
  },
  {
   "cell_type": "code",
   "execution_count": null,
   "id": "5083f717-caba-4a87-ba65-d79b0794dcd5",
   "metadata": {
    "tags": []
   },
   "outputs": [],
   "source": [
    "df1 = create_on_shs_column(df1)"
   ]
  },
  {
   "cell_type": "code",
   "execution_count": null,
   "id": "d0e3accc-1c06-42f0-9397-1aa7b2c3e39b",
   "metadata": {
    "tags": []
   },
   "outputs": [],
   "source": [
    "df1.sample(3)"
   ]
  },
  {
   "cell_type": "code",
   "execution_count": null,
   "id": "fb004cc0-5d4d-49d2-859c-e6caef5e09f4",
   "metadata": {
    "tags": []
   },
   "outputs": [],
   "source": [
    "df1.on_shs_y_n.value_counts()"
   ]
  },
  {
   "cell_type": "code",
   "execution_count": null,
   "id": "2c8e1644-64bd-4651-adea-76a68b858824",
   "metadata": {
    "tags": []
   },
   "outputs": [],
   "source": [
    "# Join back for geo\n",
    "final_df1 = pd.merge(\n",
    "    intersecting[\n",
    "        [\"schedule_gtfs_dataset_key\", \"recent_combined_name\", \"geometry\"]\n",
    "    ].drop_duplicates(),\n",
    "    df1,\n",
    "    on=[\"schedule_gtfs_dataset_key\", \"recent_combined_name\"],\n",
    ")"
   ]
  },
  {
   "cell_type": "code",
   "execution_count": null,
   "id": "e231fe14-c84c-4463-9fb0-1b217ac5ff55",
   "metadata": {
    "tags": []
   },
   "outputs": [],
   "source": [
    "final_df1.on_shs_y_n.value_counts()"
   ]
  },
  {
   "cell_type": "code",
   "execution_count": null,
   "id": "bcce6789-14e7-41f6-860a-a9d61597c281",
   "metadata": {
    "tags": []
   },
   "outputs": [],
   "source": [
    "# Read in buffered shn here or re buffer\n",
    "GCS_FILE_PATH = \"gs://calitp-analytics-data/data-analyses/state_highway_network/\"\n",
    "HWY_FILE = f\"{GCS_FILE_PATH}shn_buffered_{SHN_HWY_BUFFER_FEET}_ft.parquet\""
   ]
  },
  {
   "cell_type": "code",
   "execution_count": null,
   "id": "32dacb1a-4078-4c25-882f-ff56496cfee3",
   "metadata": {
    "tags": []
   },
   "outputs": [],
   "source": [
    "shn_dissolved = gpd.read_parquet(HWY_FILE, storage_options={\"token\": credentials.token})"
   ]
  },
  {
   "cell_type": "code",
   "execution_count": null,
   "id": "cdd1099a-c631-4280-9c65-e9b0ceaad9d1",
   "metadata": {
    "tags": []
   },
   "outputs": [],
   "source": [
    "len(shn_dissolved)"
   ]
  },
  {
   "cell_type": "code",
   "execution_count": null,
   "id": "1803ecff-4e3d-4c30-b756-bea973d45fe7",
   "metadata": {
    "tags": []
   },
   "outputs": [],
   "source": [
    "# shn_dissolved2 = shn_dissolved.dissolve()"
   ]
  },
  {
   "cell_type": "code",
   "execution_count": null,
   "id": "344d2399-d50e-4968-a15f-d547d171ebe7",
   "metadata": {
    "tags": []
   },
   "outputs": [],
   "source": [
    "len(shn_dissolved2)"
   ]
  },
  {
   "cell_type": "code",
   "execution_count": null,
   "id": "fc1011ee-f1a7-409b-a220-65fac76368af",
   "metadata": {
    "tags": []
   },
   "outputs": [],
   "source": [
    "# shn_dissolved2.explore()"
   ]
  },
  {
   "cell_type": "code",
   "execution_count": null,
   "id": "061158b7-c40c-453b-b1d5-3c8e103e909c",
   "metadata": {
    "tags": []
   },
   "outputs": [],
   "source": [
    "\"\"\" final_df1.loc[final_df1.on_shs_y_n == \"Y\"].explore(\n",
    "            cmap=\"Spectral\",\n",
    "            tiles=\"CartoDB positron\",\n",
    "            width=500,\n",
    "            height=300,\n",
    "            style_kwds={\"weight\": 3},\n",
    "            legend=False, \n",
    "        )\"\"\""
   ]
  },
  {
   "cell_type": "markdown",
   "id": "e3b19d58-ce5d-4576-bfc2-d51b5a809ecc",
   "metadata": {},
   "source": [
    "### Dataframe that combines all the State Highway routes a transit route crosses into a text table for display"
   ]
  },
  {
   "cell_type": "code",
   "execution_count": null,
   "id": "f0868168-a197-4fe0-adc6-980a5a43208a",
   "metadata": {
    "tags": []
   },
   "outputs": [],
   "source": [
    "intersecting.columns"
   ]
  },
  {
   "cell_type": "code",
   "execution_count": null,
   "id": "2b09f297-1f1a-4fc1-b997-4392a31cb873",
   "metadata": {
    "tags": []
   },
   "outputs": [],
   "source": [
    "intersecting.shn_route = intersecting.shn_route.fillna(\"Doesn't intersect w/ SHN\")"
   ]
  },
  {
   "cell_type": "code",
   "execution_count": null,
   "id": "dd81ea01-e974-419a-babc-87781ba30fd0",
   "metadata": {
    "tags": []
   },
   "outputs": [],
   "source": [
    "df1.head(3)"
   ]
  },
  {
   "cell_type": "code",
   "execution_count": null,
   "id": "8183fbaa-57cf-4622-ac83-4b925e103f3b",
   "metadata": {
    "tags": []
   },
   "outputs": [],
   "source": [
    "agg1 = (\n",
    "    (\n",
    "        intersecting.groupby(\n",
    "            [\n",
    "                \"portfolio_organization_name\",\n",
    "                \"recent_combined_name\",\n",
    "                \"schedule_gtfs_dataset_key\",\n",
    "            ],\n",
    "            as_index=False,\n",
    "        )\n",
    "    )[\"shn_route\"]\n",
    "    .agg(lambda x: \", \".join(set(x.astype(str))))\n",
    "    .reset_index(drop=True)\n",
    ")"
   ]
  },
  {
   "cell_type": "code",
   "execution_count": null,
   "id": "2550bdb2-9138-4fa0-9d8f-2f0191b0a70e",
   "metadata": {
    "scrolled": true,
    "tags": []
   },
   "outputs": [],
   "source": [
    "# agg1.shn_route.value_counts()"
   ]
  },
  {
   "cell_type": "code",
   "execution_count": null,
   "id": "b08d65c7-a729-4eac-9a96-a71fa669073c",
   "metadata": {
    "tags": []
   },
   "outputs": [],
   "source": [
    "agg1.head()"
   ]
  },
  {
   "cell_type": "code",
   "execution_count": null,
   "id": "5d12f49e-974c-4987-a2c5-6ac89f41f846",
   "metadata": {
    "tags": []
   },
   "outputs": [],
   "source": [
    "text_table = pd.merge(\n",
    "    df1,\n",
    "    agg1,\n",
    "    on=[\n",
    "        \"portfolio_organization_name\",\n",
    "        \"recent_combined_name\",\n",
    "        \"schedule_gtfs_dataset_key\",\n",
    "    ],\n",
    ")"
   ]
  },
  {
   "cell_type": "code",
   "execution_count": null,
   "id": "25b00cd2-a428-4742-b2d7-b68285109a4d",
   "metadata": {
    "tags": []
   },
   "outputs": [],
   "source": [
    "len(text_table), len(df1), len(agg1)"
   ]
  },
  {
   "cell_type": "code",
   "execution_count": null,
   "id": "127a957d-b13a-4da0-ac82-600c5e0ec29f",
   "metadata": {
    "tags": []
   },
   "outputs": [],
   "source": [
    "text_table.head()"
   ]
  }
 ],
 "metadata": {
  "kernelspec": {
   "display_name": "Python 3 (ipykernel)",
   "language": "python",
   "name": "python3"
  },
  "language_info": {
   "codemirror_mode": {
    "name": "ipython",
    "version": 3
   },
   "file_extension": ".py",
   "mimetype": "text/x-python",
   "name": "python",
   "nbconvert_exporter": "python",
   "pygments_lexer": "ipython3",
   "version": "3.11.10"
  }
 },
 "nbformat": 4,
 "nbformat_minor": 5
}
