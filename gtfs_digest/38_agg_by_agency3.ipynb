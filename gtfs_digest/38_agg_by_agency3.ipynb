{
 "cells": [
  {
   "cell_type": "markdown",
   "id": "079f14ee-4398-40a9-b616-98d6498fc8a4",
   "metadata": {},
   "source": [
    "# Incoporating comments from [PR](https://github.com/cal-itp/data-analyses/pull/1266)\n",
    "<i>tidier way, and now there's no need to define and redefine your merge columns: (1) merge schedule with rt_vs_schedule. merge columns are schedule_gtfs_dataset_key and date, (2) merge in crosswalk that fills in organization info + NTD info. merge columns are schedule_gtfs_dataset_key and date.\n",
    "addressing this comment would need to be done in rt_scheduled_v_ran/scripts/rt_v_scheduled_operator.py...don't bring in organization stuff here! At this level, when things are created, it's all done using schedule_gtfs_dataset_key, and only when it's brought together in the next downstream step in gtfs_digest, crosswalk is merged in once for all.</i>"
   ]
  },
  {
   "cell_type": "code",
   "execution_count": 8,
   "id": "dd6c29b5-b518-468a-b75e-678cc54c27b9",
   "metadata": {},
   "outputs": [],
   "source": [
    "import geopandas as gpd\n",
    "import pandas as pd\n",
    "import _report_utils\n",
    "from shared_utils import catalog_utils, rt_dates, rt_utils\n",
    "import merge_operator_data\n",
    "from segment_speed_utils import time_series_utils\n",
    "from update_vars import GTFS_DATA_DICT, SCHED_GCS, RT_SCHED_GCS"
   ]
  },
  {
   "cell_type": "code",
   "execution_count": 2,
   "id": "4cb44606-229b-4a10-bdaf-a3f3c796777f",
   "metadata": {},
   "outputs": [],
   "source": [
    "import yaml\n",
    "import altair as alt\n",
    "with open(\"readable.yml\") as f:\n",
    "    readable_dict = yaml.safe_load(f)\n",
    "\n",
    "# Color Palette\n",
    "with open(\"color_palettes.yml\") as f:\n",
    "    color_dict = yaml.safe_load(f)\n",
    "\n",
    "import _report_utils\n",
    "from IPython.display import HTML, Markdown, display, display_html"
   ]
  },
  {
   "cell_type": "code",
   "execution_count": 3,
   "id": "cae49587-c116-4665-81e8-834431e17fa4",
   "metadata": {},
   "outputs": [],
   "source": [
    "pd.options.display.max_columns = 100\n",
    "pd.options.display.float_format = \"{:.2f}\".format\n",
    "pd.set_option(\"display.max_rows\", None)\n",
    "pd.set_option(\"display.max_colwidth\", None)"
   ]
  },
  {
   "cell_type": "code",
   "execution_count": 6,
   "id": "121ffedb-8911-4e04-b7ee-a248790bb516",
   "metadata": {},
   "outputs": [],
   "source": [
    "analysis_date_list = rt_dates.y2024_dates + rt_dates.y2023_dates"
   ]
  },
  {
   "cell_type": "code",
   "execution_count": 9,
   "id": "7fb91f56-d9f3-4375-8fcf-10dd525ac468",
   "metadata": {},
   "outputs": [],
   "source": [
    "op_sched_metrics = merge_operator_data.concatenate_schedule_operator_metrics(analysis_date_list)"
   ]
  },
  {
   "cell_type": "code",
   "execution_count": 10,
   "id": "538ff864-ba9b-4986-a665-f5181deb91aa",
   "metadata": {},
   "outputs": [],
   "source": [
    "op_rt_sched_metrics = merge_operator_data.concatenate_rt_vs_schedule_operator_metrics(analysis_date_list)"
   ]
  },
  {
   "cell_type": "code",
   "execution_count": 11,
   "id": "027b4d0a-778b-4e9c-a28e-1703caf20c36",
   "metadata": {},
   "outputs": [],
   "source": [
    "merge_cols = [\"schedule_gtfs_dataset_key\",\n",
    "             \"service_date\"]"
   ]
  },
  {
   "cell_type": "code",
   "execution_count": 12,
   "id": "9ebd4457-1882-411f-8aff-b0464a5455e4",
   "metadata": {},
   "outputs": [],
   "source": [
    "# Merge the two together\n",
    "operator_profiles_df1 = pd.merge(op_sched_metrics, \n",
    "                                  op_rt_sched_metrics,\n",
    "                                  on = merge_cols, \n",
    "                                  how = \"outer\")"
   ]
  },
  {
   "cell_type": "code",
   "execution_count": 13,
   "id": "2bcbf648-5ca4-4ce4-9737-063ef26ca248",
   "metadata": {},
   "outputs": [
    {
     "data": {
      "text/html": [
       "<div>\n",
       "<style scoped>\n",
       "    .dataframe tbody tr th:only-of-type {\n",
       "        vertical-align: middle;\n",
       "    }\n",
       "\n",
       "    .dataframe tbody tr th {\n",
       "        vertical-align: top;\n",
       "    }\n",
       "\n",
       "    .dataframe thead th {\n",
       "        text-align: right;\n",
       "    }\n",
       "</style>\n",
       "<table border=\"1\" class=\"dataframe\">\n",
       "  <thead>\n",
       "    <tr style=\"text-align: right;\">\n",
       "      <th></th>\n",
       "      <th>schedule_gtfs_dataset_key</th>\n",
       "      <th>vp_per_min_agency</th>\n",
       "      <th>spatial_accuracy_agency</th>\n",
       "      <th>service_date</th>\n",
       "      <th>operator_n_routes</th>\n",
       "      <th>operator_n_trips</th>\n",
       "      <th>operator_n_shapes</th>\n",
       "      <th>operator_n_stops</th>\n",
       "      <th>operator_n_arrivals</th>\n",
       "      <th>operator_route_length_miles</th>\n",
       "      <th>operator_arrivals_per_stop</th>\n",
       "      <th>n_downtown_local_routes</th>\n",
       "      <th>n_local_routes</th>\n",
       "      <th>n_coverage_routes</th>\n",
       "      <th>n_rapid_routes</th>\n",
       "      <th>n_express_routes</th>\n",
       "      <th>n_rail_routes</th>\n",
       "      <th>name</th>\n",
       "      <th>organization_source_record_id</th>\n",
       "      <th>organization_name</th>\n",
       "    </tr>\n",
       "  </thead>\n",
       "  <tbody>\n",
       "    <tr>\n",
       "      <th>0</th>\n",
       "      <td>0139b1253130b33adcd4b3a4490530d2</td>\n",
       "      <td>2.67</td>\n",
       "      <td>81.10</td>\n",
       "      <td>2023-05-17</td>\n",
       "      <td>NaN</td>\n",
       "      <td>NaN</td>\n",
       "      <td>NaN</td>\n",
       "      <td>NaN</td>\n",
       "      <td>NaN</td>\n",
       "      <td>NaN</td>\n",
       "      <td>NaN</td>\n",
       "      <td>NaN</td>\n",
       "      <td>NaN</td>\n",
       "      <td>NaN</td>\n",
       "      <td>NaN</td>\n",
       "      <td>NaN</td>\n",
       "      <td>NaN</td>\n",
       "      <td>NaN</td>\n",
       "      <td>NaN</td>\n",
       "      <td>NaN</td>\n",
       "    </tr>\n",
       "    <tr>\n",
       "      <th>1</th>\n",
       "      <td>0139b1253130b33adcd4b3a4490530d2</td>\n",
       "      <td>2.54</td>\n",
       "      <td>86.46</td>\n",
       "      <td>2023-06-14</td>\n",
       "      <td>NaN</td>\n",
       "      <td>NaN</td>\n",
       "      <td>NaN</td>\n",
       "      <td>NaN</td>\n",
       "      <td>NaN</td>\n",
       "      <td>NaN</td>\n",
       "      <td>NaN</td>\n",
       "      <td>NaN</td>\n",
       "      <td>NaN</td>\n",
       "      <td>NaN</td>\n",
       "      <td>NaN</td>\n",
       "      <td>NaN</td>\n",
       "      <td>NaN</td>\n",
       "      <td>NaN</td>\n",
       "      <td>NaN</td>\n",
       "      <td>NaN</td>\n",
       "    </tr>\n",
       "  </tbody>\n",
       "</table>\n",
       "</div>"
      ],
      "text/plain": [
       "          schedule_gtfs_dataset_key  vp_per_min_agency  \\\n",
       "0  0139b1253130b33adcd4b3a4490530d2               2.67   \n",
       "1  0139b1253130b33adcd4b3a4490530d2               2.54   \n",
       "\n",
       "   spatial_accuracy_agency service_date  operator_n_routes  operator_n_trips  \\\n",
       "0                    81.10   2023-05-17                NaN               NaN   \n",
       "1                    86.46   2023-06-14                NaN               NaN   \n",
       "\n",
       "   operator_n_shapes  operator_n_stops  operator_n_arrivals  \\\n",
       "0                NaN               NaN                  NaN   \n",
       "1                NaN               NaN                  NaN   \n",
       "\n",
       "   operator_route_length_miles  operator_arrivals_per_stop  \\\n",
       "0                          NaN                         NaN   \n",
       "1                          NaN                         NaN   \n",
       "\n",
       "   n_downtown_local_routes  n_local_routes  n_coverage_routes  n_rapid_routes  \\\n",
       "0                      NaN             NaN                NaN             NaN   \n",
       "1                      NaN             NaN                NaN             NaN   \n",
       "\n",
       "   n_express_routes  n_rail_routes name organization_source_record_id  \\\n",
       "0               NaN            NaN  NaN                           NaN   \n",
       "1               NaN            NaN  NaN                           NaN   \n",
       "\n",
       "  organization_name  \n",
       "0               NaN  \n",
       "1               NaN  "
      ]
     },
     "execution_count": 13,
     "metadata": {},
     "output_type": "execute_result"
    }
   ],
   "source": [
    "operator_profiles_df1.head(2)"
   ]
  },
  {
   "cell_type": "code",
   "execution_count": 20,
   "id": "7bb67e8f-b311-4e76-a4c2-e4d740b4299a",
   "metadata": {},
   "outputs": [],
   "source": [
    "CROSSWALK = GTFS_DATA_DICT.schedule_tables.gtfs_key_crosswalk"
   ]
  },
  {
   "cell_type": "code",
   "execution_count": 21,
   "id": "9988da5b-3f04-4d9a-a9e9-63f1f2da3ec6",
   "metadata": {},
   "outputs": [],
   "source": [
    "ntd_cols = [\n",
    "        \"schedule_gtfs_dataset_key\",\n",
    "        \"caltrans_district\",\n",
    "        \"counties_served\",\n",
    "        \"service_area_sq_miles\",\n",
    "        \"hq_city\",\n",
    "        \"uza_name\",\n",
    "        \"service_area_pop\",\n",
    "        \"organization_type\",\n",
    "        \"primary_uza\",\n",
    "        \"reporter_type\"\n",
    "    ]"
   ]
  },
  {
   "cell_type": "code",
   "execution_count": 22,
   "id": "46f73900-c7c3-47a8-b4e9-563a137dbcb1",
   "metadata": {},
   "outputs": [],
   "source": [
    "crosswalk_df = (\n",
    "        time_series_utils.concatenate_datasets_across_dates(\n",
    "            SCHED_GCS,\n",
    "            CROSSWALK,\n",
    "            analysis_date_list,\n",
    "            data_type=\"df\",\n",
    "            columns=ntd_cols\n",
    "        )\n",
    "        .sort_values([\"service_date\"])\n",
    "        .reset_index(drop=True)\n",
    "    )"
   ]
  },
  {
   "cell_type": "code",
   "execution_count": 24,
   "id": "dbc8f8b6-6b11-4a6e-9325-d6be2e878917",
   "metadata": {},
   "outputs": [],
   "source": [
    "# Merge\n",
    "op_profiles_df2 = pd.merge(\n",
    "        operator_profiles_df1, \n",
    "        crosswalk_df, \n",
    "        on = merge_cols, \n",
    "        how = \"left\"\n",
    "    )"
   ]
  },
  {
   "cell_type": "code",
   "execution_count": 27,
   "id": "2bf0dde1-92ca-48e2-b1be-5780ab87d571",
   "metadata": {},
   "outputs": [
    {
     "data": {
      "text/plain": [
       "'gs://calitp-analytics-data/data-analyses/rt_vs_schedule/'"
      ]
     },
     "execution_count": 27,
     "metadata": {},
     "output_type": "execute_result"
    }
   ],
   "source": [
    "RT_SCHED_GCS"
   ]
  },
  {
   "cell_type": "code",
   "execution_count": 26,
   "id": "d9a965fe-36bd-4e54-a0c6-66f74779e3f5",
   "metadata": {},
   "outputs": [
    {
     "data": {
      "text/plain": [
       "'digest/operator_routes'"
      ]
     },
     "execution_count": 26,
     "metadata": {},
     "output_type": "execute_result"
    }
   ],
   "source": [
    "GTFS_DATA_DICT.digest_tables.operator_routes_map"
   ]
  },
  {
   "cell_type": "code",
   "execution_count": 28,
   "id": "93441c99-80ec-4ef2-a45d-3b3219bb430b",
   "metadata": {},
   "outputs": [],
   "source": [
    "gdf = gpd.read_parquet(\"gs://calitp-analytics-data/data-analyses/rt_vs_schedule/digest/operator_routes.parquet\")"
   ]
  },
  {
   "cell_type": "code",
   "execution_count": 30,
   "id": "b4313ae2-4b42-40e1-8aac-2e2e5dc9850a",
   "metadata": {},
   "outputs": [
    {
     "data": {
      "text/plain": [
       "(51938, 22)"
      ]
     },
     "execution_count": 30,
     "metadata": {},
     "output_type": "execute_result"
    }
   ],
   "source": [
    "gdf.shape"
   ]
  },
  {
   "cell_type": "code",
   "execution_count": 31,
   "id": "0b726697-1f72-4246-876a-0318bcb66c72",
   "metadata": {},
   "outputs": [
    {
     "data": {
      "text/plain": [
       "'digest/operator_schedule_rt_category'"
      ]
     },
     "execution_count": 31,
     "metadata": {},
     "output_type": "execute_result"
    }
   ],
   "source": [
    "GTFS_DATA_DICT.digest_tables.operator_sched_rt"
   ]
  },
  {
   "cell_type": "code",
   "execution_count": 32,
   "id": "b4bce359-f463-4a48-8b93-bd8400049044",
   "metadata": {},
   "outputs": [],
   "source": [
    "category_df = pd.read_parquet(\"gs://calitp-analytics-data/data-analyses/rt_vs_schedule/digest/operator_schedule_rt_category.parquet\")"
   ]
  },
  {
   "cell_type": "code",
   "execution_count": 33,
   "id": "71a6c21f-c24e-4f9a-a708-df7af1e8d3d2",
   "metadata": {},
   "outputs": [
    {
     "data": {
      "text/html": [
       "<div>\n",
       "<style scoped>\n",
       "    .dataframe tbody tr th:only-of-type {\n",
       "        vertical-align: middle;\n",
       "    }\n",
       "\n",
       "    .dataframe tbody tr th {\n",
       "        vertical-align: top;\n",
       "    }\n",
       "\n",
       "    .dataframe thead th {\n",
       "        text-align: right;\n",
       "    }\n",
       "</style>\n",
       "<table border=\"1\" class=\"dataframe\">\n",
       "  <thead>\n",
       "    <tr style=\"text-align: right;\">\n",
       "      <th></th>\n",
       "      <th>schedule_gtfs_dataset_key</th>\n",
       "      <th>service_date</th>\n",
       "      <th>sched_rt_category</th>\n",
       "      <th>n_trips</th>\n",
       "    </tr>\n",
       "  </thead>\n",
       "  <tbody>\n",
       "    <tr>\n",
       "      <th>0</th>\n",
       "      <td>014d0998350083249a9eb310635548c2</td>\n",
       "      <td>2023-03-15</td>\n",
       "      <td>schedule_only</td>\n",
       "      <td>0</td>\n",
       "    </tr>\n",
       "    <tr>\n",
       "      <th>1</th>\n",
       "      <td>014d0998350083249a9eb310635548c2</td>\n",
       "      <td>2023-03-15</td>\n",
       "      <td>vp_only</td>\n",
       "      <td>0</td>\n",
       "    </tr>\n",
       "  </tbody>\n",
       "</table>\n",
       "</div>"
      ],
      "text/plain": [
       "          schedule_gtfs_dataset_key service_date sched_rt_category  n_trips\n",
       "0  014d0998350083249a9eb310635548c2   2023-03-15     schedule_only        0\n",
       "1  014d0998350083249a9eb310635548c2   2023-03-15           vp_only        0"
      ]
     },
     "execution_count": 33,
     "metadata": {},
     "output_type": "execute_result"
    }
   ],
   "source": [
    "category_df.head(2)"
   ]
  },
  {
   "cell_type": "code",
   "execution_count": 34,
   "id": "a289383e-697a-46ed-8abc-73dae945a7bb",
   "metadata": {},
   "outputs": [
    {
     "data": {
      "text/plain": [
       "count   18300.00\n",
       "mean      147.57\n",
       "std      1264.66\n",
       "min         0.00\n",
       "25%         0.00\n",
       "50%         0.00\n",
       "75%         0.00\n",
       "max     34476.00\n",
       "Name: n_trips, dtype: float64"
      ]
     },
     "execution_count": 34,
     "metadata": {},
     "output_type": "execute_result"
    }
   ],
   "source": [
    "category_df.n_trips.describe()"
   ]
  },
  {
   "cell_type": "code",
   "execution_count": 35,
   "id": "76d2d70d-43ed-430e-a320-9fa239463563",
   "metadata": {},
   "outputs": [],
   "source": [
    "def concatenate_crosswalks(\n",
    "    date_list: list\n",
    ") -> pd.DataFrame:\n",
    "    \"\"\"\n",
    "    Get crosswalk and selected NTD columns for certain dates.\n",
    "    \"\"\"\n",
    "    FILE = f\"{GTFS_DATA_DICT.schedule_tables.gtfs_key_crosswalk}\"\n",
    "    \n",
    "    ntd_cols = [\n",
    "        \"schedule_gtfs_dataset_key\",\n",
    "        \"caltrans_district\",\n",
    "        \"counties_served\",\n",
    "        \"service_area_sq_miles\",\n",
    "        \"hq_city\",\n",
    "        \"uza_name\",\n",
    "        \"service_area_pop\",\n",
    "        \"organization_type\",\n",
    "        \"primary_uza\",\n",
    "        \"reporter_type\"\n",
    "    ]\n",
    "        \n",
    "    df = (\n",
    "        time_series_utils.concatenate_datasets_across_dates(\n",
    "            SCHED_GCS,\n",
    "            CROSSWALK,\n",
    "            analysis_date_list,\n",
    "            data_type=\"df\",\n",
    "            columns=ntd_cols\n",
    "        )\n",
    "        .sort_values([\"service_date\"])\n",
    "        .reset_index(drop=True)\n",
    "    )\n",
    "    \n",
    "    return df"
   ]
  },
  {
   "cell_type": "code",
   "execution_count": 36,
   "id": "3ce3b37a-dd0b-4247-a37f-86a3fb4200c9",
   "metadata": {},
   "outputs": [],
   "source": [
    "crosswalk_df = concatenate_crosswalks(analysis_date_list)"
   ]
  },
  {
   "cell_type": "code",
   "execution_count": 37,
   "id": "ad11cff4-665c-4fbc-9fca-2fdb7025ccb0",
   "metadata": {},
   "outputs": [
    {
     "data": {
      "text/html": [
       "<div>\n",
       "<style scoped>\n",
       "    .dataframe tbody tr th:only-of-type {\n",
       "        vertical-align: middle;\n",
       "    }\n",
       "\n",
       "    .dataframe tbody tr th {\n",
       "        vertical-align: top;\n",
       "    }\n",
       "\n",
       "    .dataframe thead th {\n",
       "        text-align: right;\n",
       "    }\n",
       "</style>\n",
       "<table border=\"1\" class=\"dataframe\">\n",
       "  <thead>\n",
       "    <tr style=\"text-align: right;\">\n",
       "      <th></th>\n",
       "      <th>schedule_gtfs_dataset_key</th>\n",
       "      <th>caltrans_district</th>\n",
       "      <th>counties_served</th>\n",
       "      <th>service_area_sq_miles</th>\n",
       "      <th>hq_city</th>\n",
       "      <th>uza_name</th>\n",
       "      <th>service_area_pop</th>\n",
       "      <th>organization_type</th>\n",
       "      <th>primary_uza</th>\n",
       "      <th>reporter_type</th>\n",
       "      <th>service_date</th>\n",
       "    </tr>\n",
       "  </thead>\n",
       "  <tbody>\n",
       "    <tr>\n",
       "      <th>0</th>\n",
       "      <td>f449c9c8d400dd385d7bc216748d29da</td>\n",
       "      <td>03 - Marysville</td>\n",
       "      <td>None</td>\n",
       "      <td>&lt;NA&gt;</td>\n",
       "      <td>None</td>\n",
       "      <td>None</td>\n",
       "      <td>&lt;NA&gt;</td>\n",
       "      <td>None</td>\n",
       "      <td>None</td>\n",
       "      <td>None</td>\n",
       "      <td>2023-03-15</td>\n",
       "    </tr>\n",
       "  </tbody>\n",
       "</table>\n",
       "</div>"
      ],
      "text/plain": [
       "          schedule_gtfs_dataset_key caltrans_district counties_served  \\\n",
       "0  f449c9c8d400dd385d7bc216748d29da   03 - Marysville            None   \n",
       "\n",
       "   service_area_sq_miles hq_city uza_name  service_area_pop organization_type  \\\n",
       "0                   <NA>    None     None              <NA>              None   \n",
       "\n",
       "  primary_uza reporter_type service_date  \n",
       "0        None          None   2023-03-15  "
      ]
     },
     "execution_count": 37,
     "metadata": {},
     "output_type": "execute_result"
    }
   ],
   "source": [
    "crosswalk_df.head(1)"
   ]
  },
  {
   "cell_type": "code",
   "execution_count": 38,
   "id": "29767cbc-3f8e-4426-837f-04b981cbd4a1",
   "metadata": {},
   "outputs": [
    {
     "data": {
      "text/plain": [
       "array(['2023-03-15T00:00:00.000000000', '2023-04-12T00:00:00.000000000',\n",
       "       '2023-05-17T00:00:00.000000000', '2023-06-14T00:00:00.000000000',\n",
       "       '2023-07-12T00:00:00.000000000', '2023-08-15T00:00:00.000000000',\n",
       "       '2023-09-13T00:00:00.000000000', '2023-10-11T00:00:00.000000000',\n",
       "       '2023-11-15T00:00:00.000000000', '2023-12-13T00:00:00.000000000',\n",
       "       '2024-01-17T00:00:00.000000000', '2024-02-14T00:00:00.000000000',\n",
       "       '2024-03-13T00:00:00.000000000', '2024-04-17T00:00:00.000000000',\n",
       "       '2024-05-22T00:00:00.000000000', '2024-06-12T00:00:00.000000000',\n",
       "       '2024-07-17T00:00:00.000000000', '2024-08-14T00:00:00.000000000',\n",
       "       '2024-09-18T00:00:00.000000000', '2024-10-16T00:00:00.000000000'],\n",
       "      dtype='datetime64[ns]')"
      ]
     },
     "execution_count": 38,
     "metadata": {},
     "output_type": "execute_result"
    }
   ],
   "source": [
    "crosswalk_df.service_date.unique()"
   ]
  },
  {
   "cell_type": "code",
   "execution_count": 39,
   "id": "1ce014be-df3c-4447-9538-54000d675c5a",
   "metadata": {},
   "outputs": [],
   "source": [
    "op_profiles_df2 = pd.merge(\n",
    "        operator_profiles_df1, \n",
    "        crosswalk_df, \n",
    "        on = merge_cols, \n",
    "        how = \"left\"\n",
    "    )"
   ]
  }
 ],
 "metadata": {
  "kernelspec": {
   "display_name": "Python 3 (ipykernel)",
   "language": "python",
   "name": "python3"
  },
  "language_info": {
   "codemirror_mode": {
    "name": "ipython",
    "version": 3
   },
   "file_extension": ".py",
   "mimetype": "text/x-python",
   "name": "python",
   "nbconvert_exporter": "python",
   "pygments_lexer": "ipython3",
   "version": "3.9.13"
  }
 },
 "nbformat": 4,
 "nbformat_minor": 5
}
