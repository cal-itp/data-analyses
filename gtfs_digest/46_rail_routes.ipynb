{
 "cells": [
  {
   "cell_type": "markdown",
   "id": "46b4806a-c444-43bc-bbac-65d05510194a",
   "metadata": {},
   "source": [
    "## Where are the rail routes?"
   ]
  },
  {
   "cell_type": "code",
   "execution_count": 1,
   "id": "275b2deb-fb81-4b0c-9187-b95b4e3ac91b",
   "metadata": {},
   "outputs": [],
   "source": [
    "import _section1_utils as section1\n",
    "import geopandas as gpd\n",
    "import merge_data\n",
    "import merge_operator_data\n",
    "import numpy as np\n",
    "import pandas as pd\n",
    "from segment_speed_utils import gtfs_schedule_wrangling, helpers\n",
    "from shared_utils import portfolio_utils\n",
    "from update_vars import GTFS_DATA_DICT, RT_SCHED_GCS, SCHED_GCS, SEGMENT_GCS"
   ]
  },
  {
   "cell_type": "code",
   "execution_count": 2,
   "id": "fada069f-cdf0-46ee-bcc2-2ed524e4bbfa",
   "metadata": {},
   "outputs": [],
   "source": [
    "import sys\n",
    "\n",
    "sys.path.append(\"../gtfs_funnel/\")\n",
    "import route_typologies"
   ]
  },
  {
   "cell_type": "code",
   "execution_count": 3,
   "id": "1ca94708-911b-4e8d-96d8-17f60589e259",
   "metadata": {},
   "outputs": [],
   "source": [
    "pd.options.display.max_columns = 100\n",
    "pd.options.display.float_format = \"{:.2f}\".format\n",
    "pd.set_option(\"display.max_rows\", None)\n",
    "pd.set_option(\"display.max_colwidth\", None)"
   ]
  },
  {
   "cell_type": "code",
   "execution_count": 4,
   "id": "9f2e199e-08fe-44b7-8b61-727af9c90f9d",
   "metadata": {},
   "outputs": [],
   "source": [
    "org_name_lists = [\"Capitol Corridor Joint Powers Authority\"]"
   ]
  },
  {
   "cell_type": "code",
   "execution_count": 5,
   "id": "0307a4c0-c23b-46fd-8c0f-637421fabc17",
   "metadata": {},
   "outputs": [],
   "source": [
    "organization_name = \"Capitol Corridor Joint Powers Authority\""
   ]
  },
  {
   "cell_type": "code",
   "execution_count": 6,
   "id": "61a455db-6c28-44ed-a26c-f1578ecea800",
   "metadata": {},
   "outputs": [],
   "source": [
    "analysis_date_list = [\"2024-11-13\"]"
   ]
  },
  {
   "cell_type": "code",
   "execution_count": 7,
   "id": "104677e1-c3bb-4e80-aae7-598f4eca4f23",
   "metadata": {},
   "outputs": [],
   "source": [
    "analysis_date = \"2024-11-13\""
   ]
  },
  {
   "cell_type": "code",
   "execution_count": 8,
   "id": "e88b041f-a706-458e-9481-7d5f13894aa3",
   "metadata": {},
   "outputs": [],
   "source": [
    "schd_keys = [\n",
    "    \"f5a749dd65924e025b1293c58f95f8d6\",\n",
    "]"
   ]
  },
  {
   "cell_type": "code",
   "execution_count": 9,
   "id": "2a2062cc-bb14-4352-91a5-7a2faca93f2b",
   "metadata": {},
   "outputs": [],
   "source": [
    "name_list = [\"Bay Area 511 Capitol Corridor Schedule\"]"
   ]
  },
  {
   "cell_type": "code",
   "execution_count": 10,
   "id": "58db0f8e-ce06-4a22-a472-4486c5c761d0",
   "metadata": {},
   "outputs": [],
   "source": [
    "ROUTE_TYPOLOGIES = GTFS_DATA_DICT.schedule_tables.route_typologies\n",
    "route_typologies_df = pd.read_parquet(\n",
    "    f\"{SCHED_GCS}{ROUTE_TYPOLOGIES}_{analysis_date}.parquet\"\n",
    ")"
   ]
  },
  {
   "cell_type": "code",
   "execution_count": 11,
   "id": "a6bdc8c3-7dc2-49df-96ff-864a9db7c50a",
   "metadata": {},
   "outputs": [
    {
     "data": {
      "text/html": [
       "<div>\n",
       "<style scoped>\n",
       "    .dataframe tbody tr th:only-of-type {\n",
       "        vertical-align: middle;\n",
       "    }\n",
       "\n",
       "    .dataframe tbody tr th {\n",
       "        vertical-align: top;\n",
       "    }\n",
       "\n",
       "    .dataframe thead th {\n",
       "        text-align: right;\n",
       "    }\n",
       "</style>\n",
       "<table border=\"1\" class=\"dataframe\">\n",
       "  <thead>\n",
       "    <tr style=\"text-align: right;\">\n",
       "      <th></th>\n",
       "      <th>schedule_gtfs_dataset_key</th>\n",
       "      <th>name</th>\n",
       "      <th>route_type</th>\n",
       "      <th>route_id</th>\n",
       "      <th>route_long_name</th>\n",
       "      <th>route_short_name</th>\n",
       "      <th>combined_name</th>\n",
       "      <th>is_express</th>\n",
       "      <th>is_rapid</th>\n",
       "      <th>is_rail</th>\n",
       "      <th>is_local</th>\n",
       "      <th>direction_id</th>\n",
       "      <th>common_shape_id</th>\n",
       "      <th>route_name</th>\n",
       "      <th>route_meters</th>\n",
       "      <th>is_coverage</th>\n",
       "      <th>is_downtown_local</th>\n",
       "    </tr>\n",
       "  </thead>\n",
       "  <tbody>\n",
       "    <tr>\n",
       "      <th>0</th>\n",
       "      <td>1770249a5a2e770ca90628434d4934b1</td>\n",
       "      <td>VCTC GMV Schedule</td>\n",
       "      <td>3</td>\n",
       "      <td>3407</td>\n",
       "      <td>Route 18</td>\n",
       "      <td>Route 18</td>\n",
       "      <td>Route 18__Route 18</td>\n",
       "      <td>0</td>\n",
       "      <td>1</td>\n",
       "      <td>0</td>\n",
       "      <td>0</td>\n",
       "      <td>0.00</td>\n",
       "      <td>18827</td>\n",
       "      <td>OHS TRIPPER - C ST - DORIS ST</td>\n",
       "      <td>8611.13</td>\n",
       "      <td>1</td>\n",
       "      <td>0</td>\n",
       "    </tr>\n",
       "  </tbody>\n",
       "</table>\n",
       "</div>"
      ],
      "text/plain": [
       "          schedule_gtfs_dataset_key               name route_type route_id  \\\n",
       "0  1770249a5a2e770ca90628434d4934b1  VCTC GMV Schedule          3     3407   \n",
       "\n",
       "  route_long_name route_short_name       combined_name  is_express  is_rapid  \\\n",
       "0        Route 18         Route 18  Route 18__Route 18           0         1   \n",
       "\n",
       "   is_rail  is_local  direction_id common_shape_id  \\\n",
       "0        0         0          0.00           18827   \n",
       "\n",
       "                      route_name  route_meters  is_coverage  is_downtown_local  \n",
       "0  OHS TRIPPER - C ST - DORIS ST       8611.13            1                  0  "
      ]
     },
     "execution_count": 11,
     "metadata": {},
     "output_type": "execute_result"
    }
   ],
   "source": [
    "route_typologies_df.head(1)"
   ]
  },
  {
   "cell_type": "markdown",
   "id": "92594d5b-4fa9-43cf-b9a3-1b3decf684b4",
   "metadata": {},
   "source": [
    "### Test Files"
   ]
  },
  {
   "cell_type": "code",
   "execution_count": 12,
   "id": "1d84af9f-5b44-4e6f-8ccb-854322c7c231",
   "metadata": {
    "tags": []
   },
   "outputs": [
    {
     "data": {
      "text/plain": [
       "'gs://calitp-analytics-data/data-analyses/gtfs_schedule/'"
      ]
     },
     "execution_count": 12,
     "metadata": {},
     "output_type": "execute_result"
    }
   ],
   "source": [
    "SCHED_GCS"
   ]
  },
  {
   "cell_type": "code",
   "execution_count": 13,
   "id": "9f2e3f8f-ae1e-4b54-a01e-24d7bdccc8de",
   "metadata": {
    "tags": []
   },
   "outputs": [
    {
     "data": {
      "text/plain": [
       "'nacto_typologies/route_typologies'"
      ]
     },
     "execution_count": 13,
     "metadata": {},
     "output_type": "execute_result"
    }
   ],
   "source": [
    "GTFS_DATA_DICT.schedule_tables.route_typologies"
   ]
  },
  {
   "cell_type": "code",
   "execution_count": 14,
   "id": "a9a3f13d-807c-4c7d-8784-d4287f50f04f",
   "metadata": {
    "tags": []
   },
   "outputs": [],
   "source": [
    "nov_test = pd.read_parquet(\"gs://calitp-analytics-data/data-analyses/gtfs_schedule/nacto_typologies/route_typologies_AH_TEST_2024-11-13.parquet\")"
   ]
  },
  {
   "cell_type": "code",
   "execution_count": 15,
   "id": "1a158f4c-710f-4f13-a090-c918c45d4017",
   "metadata": {
    "tags": []
   },
   "outputs": [],
   "source": [
    "dec_test = pd.read_parquet(\"gs://calitp-analytics-data/data-analyses/gtfs_schedule/nacto_typologies/route_typologies_AH_TEST_2024-12-11.parquet\")"
   ]
  },
  {
   "cell_type": "code",
   "execution_count": 16,
   "id": "2c160973-033e-468a-b5f1-470ab460aafb",
   "metadata": {
    "tags": []
   },
   "outputs": [
    {
     "data": {
      "text/html": [
       "<div>\n",
       "<style scoped>\n",
       "    .dataframe tbody tr th:only-of-type {\n",
       "        vertical-align: middle;\n",
       "    }\n",
       "\n",
       "    .dataframe tbody tr th {\n",
       "        vertical-align: top;\n",
       "    }\n",
       "\n",
       "    .dataframe thead th {\n",
       "        text-align: right;\n",
       "    }\n",
       "</style>\n",
       "<table border=\"1\" class=\"dataframe\">\n",
       "  <thead>\n",
       "    <tr style=\"text-align: right;\">\n",
       "      <th></th>\n",
       "      <th>schedule_gtfs_dataset_key</th>\n",
       "      <th>name</th>\n",
       "      <th>route_type</th>\n",
       "      <th>route_id</th>\n",
       "      <th>route_long_name</th>\n",
       "      <th>route_short_name</th>\n",
       "      <th>combined_name</th>\n",
       "      <th>is_express</th>\n",
       "      <th>is_rapid</th>\n",
       "      <th>is_rail</th>\n",
       "      <th>is_local</th>\n",
       "      <th>direction_id</th>\n",
       "      <th>common_shape_id</th>\n",
       "      <th>route_name</th>\n",
       "      <th>route_meters</th>\n",
       "      <th>is_coverage</th>\n",
       "      <th>is_downtown_local</th>\n",
       "    </tr>\n",
       "  </thead>\n",
       "  <tbody>\n",
       "    <tr>\n",
       "      <th>0</th>\n",
       "      <td>1770249a5a2e770ca90628434d4934b1</td>\n",
       "      <td>VCTC GMV Schedule</td>\n",
       "      <td>3</td>\n",
       "      <td>3407</td>\n",
       "      <td>Route 18</td>\n",
       "      <td>Route 18</td>\n",
       "      <td>Route 18__Route 18</td>\n",
       "      <td>0</td>\n",
       "      <td>1</td>\n",
       "      <td>0</td>\n",
       "      <td>0</td>\n",
       "      <td>0.00</td>\n",
       "      <td>18827</td>\n",
       "      <td>OHS TRIPPER - C ST - DORIS ST</td>\n",
       "      <td>8611.13</td>\n",
       "      <td>1</td>\n",
       "      <td>0</td>\n",
       "    </tr>\n",
       "    <tr>\n",
       "      <th>1</th>\n",
       "      <td>1770249a5a2e770ca90628434d4934b1</td>\n",
       "      <td>VCTC GMV Schedule</td>\n",
       "      <td>3</td>\n",
       "      <td>3407</td>\n",
       "      <td>Route 18</td>\n",
       "      <td>Route 18</td>\n",
       "      <td>Route 18__Route 18</td>\n",
       "      <td>0</td>\n",
       "      <td>1</td>\n",
       "      <td>0</td>\n",
       "      <td>0</td>\n",
       "      <td>1.00</td>\n",
       "      <td>18828</td>\n",
       "      <td>OHS TRIPPER - C ST - DORIS ST</td>\n",
       "      <td>10686.60</td>\n",
       "      <td>1</td>\n",
       "      <td>0</td>\n",
       "    </tr>\n",
       "  </tbody>\n",
       "</table>\n",
       "</div>"
      ],
      "text/plain": [
       "          schedule_gtfs_dataset_key               name route_type route_id  \\\n",
       "0  1770249a5a2e770ca90628434d4934b1  VCTC GMV Schedule          3     3407   \n",
       "1  1770249a5a2e770ca90628434d4934b1  VCTC GMV Schedule          3     3407   \n",
       "\n",
       "  route_long_name route_short_name       combined_name  is_express  is_rapid  \\\n",
       "0        Route 18         Route 18  Route 18__Route 18           0         1   \n",
       "1        Route 18         Route 18  Route 18__Route 18           0         1   \n",
       "\n",
       "   is_rail  is_local  direction_id common_shape_id  \\\n",
       "0        0         0          0.00           18827   \n",
       "1        0         0          1.00           18828   \n",
       "\n",
       "                      route_name  route_meters  is_coverage  is_downtown_local  \n",
       "0  OHS TRIPPER - C ST - DORIS ST       8611.13            1                  0  \n",
       "1  OHS TRIPPER - C ST - DORIS ST      10686.60            1                  0  "
      ]
     },
     "execution_count": 16,
     "metadata": {},
     "output_type": "execute_result"
    }
   ],
   "source": [
    "dec_test.head(2)"
   ]
  },
  {
   "cell_type": "code",
   "execution_count": 17,
   "id": "7d4da763-b8c8-4419-a41f-b3ea91e64f1c",
   "metadata": {
    "tags": []
   },
   "outputs": [],
   "source": [
    "dec_og = pd.read_parquet(\"gs://calitp-analytics-data/data-analyses/gtfs_schedule/nacto_typologies/route_typologies_2024-12-11.parquet\")"
   ]
  },
  {
   "cell_type": "code",
   "execution_count": 18,
   "id": "e5763619-0b8d-4039-9ab6-65bc30097787",
   "metadata": {
    "scrolled": true,
    "tags": []
   },
   "outputs": [
    {
     "data": {
      "text/html": [
       "<div>\n",
       "<style scoped>\n",
       "    .dataframe tbody tr th:only-of-type {\n",
       "        vertical-align: middle;\n",
       "    }\n",
       "\n",
       "    .dataframe tbody tr th {\n",
       "        vertical-align: top;\n",
       "    }\n",
       "\n",
       "    .dataframe thead th {\n",
       "        text-align: right;\n",
       "    }\n",
       "</style>\n",
       "<table border=\"1\" class=\"dataframe\">\n",
       "  <thead>\n",
       "    <tr style=\"text-align: right;\">\n",
       "      <th></th>\n",
       "      <th>schedule_gtfs_dataset_key</th>\n",
       "      <th>name</th>\n",
       "      <th>route_type</th>\n",
       "      <th>route_id</th>\n",
       "      <th>route_long_name</th>\n",
       "      <th>route_short_name</th>\n",
       "      <th>combined_name</th>\n",
       "      <th>is_express</th>\n",
       "      <th>is_rapid</th>\n",
       "      <th>is_rail</th>\n",
       "      <th>is_local</th>\n",
       "      <th>direction_id</th>\n",
       "      <th>common_shape_id</th>\n",
       "      <th>route_name</th>\n",
       "      <th>route_meters</th>\n",
       "      <th>is_coverage</th>\n",
       "      <th>is_downtown_local</th>\n",
       "    </tr>\n",
       "  </thead>\n",
       "  <tbody>\n",
       "    <tr>\n",
       "      <th>1830</th>\n",
       "      <td>fb467982dcc77a7f9199bebe709bb700</td>\n",
       "      <td>Bay Area 511 Santa Clara Transit Schedule</td>\n",
       "      <td>0</td>\n",
       "      <td>Blue Line</td>\n",
       "      <td>Baypointe - Santa Teresa</td>\n",
       "      <td>Blue Line</td>\n",
       "      <td>Blue Line__Baypointe - Santa Teresa</td>\n",
       "      <td>0</td>\n",
       "      <td>1</td>\n",
       "      <td>1</td>\n",
       "      <td>0</td>\n",
       "      <td>0.00</td>\n",
       "      <td>115504</td>\n",
       "      <td>Baypointe - Santa Teresa</td>\n",
       "      <td>26917.60</td>\n",
       "      <td>0</td>\n",
       "      <td>1</td>\n",
       "    </tr>\n",
       "    <tr>\n",
       "      <th>1831</th>\n",
       "      <td>fb467982dcc77a7f9199bebe709bb700</td>\n",
       "      <td>Bay Area 511 Santa Clara Transit Schedule</td>\n",
       "      <td>0</td>\n",
       "      <td>Blue Line</td>\n",
       "      <td>Baypointe - Santa Teresa</td>\n",
       "      <td>Blue Line</td>\n",
       "      <td>Blue Line__Baypointe - Santa Teresa</td>\n",
       "      <td>0</td>\n",
       "      <td>1</td>\n",
       "      <td>1</td>\n",
       "      <td>0</td>\n",
       "      <td>1.00</td>\n",
       "      <td>115514</td>\n",
       "      <td>Baypointe - Santa Teresa</td>\n",
       "      <td>27091.11</td>\n",
       "      <td>0</td>\n",
       "      <td>1</td>\n",
       "    </tr>\n",
       "  </tbody>\n",
       "</table>\n",
       "</div>"
      ],
      "text/plain": [
       "             schedule_gtfs_dataset_key  \\\n",
       "1830  fb467982dcc77a7f9199bebe709bb700   \n",
       "1831  fb467982dcc77a7f9199bebe709bb700   \n",
       "\n",
       "                                           name route_type   route_id  \\\n",
       "1830  Bay Area 511 Santa Clara Transit Schedule          0  Blue Line   \n",
       "1831  Bay Area 511 Santa Clara Transit Schedule          0  Blue Line   \n",
       "\n",
       "               route_long_name route_short_name  \\\n",
       "1830  Baypointe - Santa Teresa        Blue Line   \n",
       "1831  Baypointe - Santa Teresa        Blue Line   \n",
       "\n",
       "                            combined_name  is_express  is_rapid  is_rail  \\\n",
       "1830  Blue Line__Baypointe - Santa Teresa           0         1        1   \n",
       "1831  Blue Line__Baypointe - Santa Teresa           0         1        1   \n",
       "\n",
       "      is_local  direction_id common_shape_id                route_name  \\\n",
       "1830         0          0.00          115504  Baypointe - Santa Teresa   \n",
       "1831         0          1.00          115514  Baypointe - Santa Teresa   \n",
       "\n",
       "      route_meters  is_coverage  is_downtown_local  \n",
       "1830      26917.60            0                  1  \n",
       "1831      27091.11            0                  1  "
      ]
     },
     "execution_count": 18,
     "metadata": {},
     "output_type": "execute_result"
    }
   ],
   "source": [
    "dec_og.loc[dec_og.route_id == \"Blue Line\"]"
   ]
  },
  {
   "cell_type": "markdown",
   "id": "78ad8e97-80df-4cdf-a294-ced555316530",
   "metadata": {},
   "source": [
    "#### Some routes are repeated 4x. "
   ]
  },
  {
   "cell_type": "code",
   "execution_count": 19,
   "id": "634555a3-4657-4513-9a3e-73d0e5e636fe",
   "metadata": {
    "tags": []
   },
   "outputs": [],
   "source": [
    "rail_routes_dec_test = dec_test.loc[dec_test.is_rail == 1]"
   ]
  },
  {
   "cell_type": "raw",
   "id": "49f599f0-32f3-47ab-b393-9806094299bc",
   "metadata": {
    "tags": []
   },
   "source": [
    "rail_routes_dec_test.sort_values(by = [\"route_id\"])"
   ]
  },
  {
   "cell_type": "code",
   "execution_count": 20,
   "id": "1ddf0be3-7c45-4bef-beae-6a4d70869827",
   "metadata": {
    "tags": []
   },
   "outputs": [
    {
     "data": {
      "text/html": [
       "<div>\n",
       "<style scoped>\n",
       "    .dataframe tbody tr th:only-of-type {\n",
       "        vertical-align: middle;\n",
       "    }\n",
       "\n",
       "    .dataframe tbody tr th {\n",
       "        vertical-align: top;\n",
       "    }\n",
       "\n",
       "    .dataframe thead th {\n",
       "        text-align: right;\n",
       "    }\n",
       "</style>\n",
       "<table border=\"1\" class=\"dataframe\">\n",
       "  <thead>\n",
       "    <tr style=\"text-align: right;\">\n",
       "      <th></th>\n",
       "      <th>schedule_gtfs_dataset_key</th>\n",
       "      <th>name</th>\n",
       "      <th>route_type</th>\n",
       "      <th>route_id</th>\n",
       "      <th>route_long_name</th>\n",
       "      <th>route_short_name</th>\n",
       "      <th>combined_name</th>\n",
       "      <th>is_express</th>\n",
       "      <th>is_rapid</th>\n",
       "      <th>is_rail</th>\n",
       "      <th>is_local</th>\n",
       "      <th>direction_id</th>\n",
       "      <th>common_shape_id</th>\n",
       "      <th>route_name</th>\n",
       "      <th>route_meters</th>\n",
       "      <th>is_coverage</th>\n",
       "      <th>is_downtown_local</th>\n",
       "    </tr>\n",
       "  </thead>\n",
       "  <tbody>\n",
       "    <tr>\n",
       "      <th>1875</th>\n",
       "      <td>fb467982dcc77a7f9199bebe709bb700</td>\n",
       "      <td>Bay Area 511 Santa Clara Transit Schedule</td>\n",
       "      <td>0</td>\n",
       "      <td>Blue Line</td>\n",
       "      <td>Baypointe - Santa Teresa</td>\n",
       "      <td>Blue Line</td>\n",
       "      <td>Blue Line__Baypointe - Santa Teresa</td>\n",
       "      <td>0</td>\n",
       "      <td>1</td>\n",
       "      <td>1</td>\n",
       "      <td>0</td>\n",
       "      <td>0.00</td>\n",
       "      <td>115504</td>\n",
       "      <td>Baypointe - Santa Teresa</td>\n",
       "      <td>26917.60</td>\n",
       "      <td>0</td>\n",
       "      <td>1</td>\n",
       "    </tr>\n",
       "    <tr>\n",
       "      <th>1876</th>\n",
       "      <td>fb467982dcc77a7f9199bebe709bb700</td>\n",
       "      <td>Bay Area 511 Santa Clara Transit Schedule</td>\n",
       "      <td>0</td>\n",
       "      <td>Blue Line</td>\n",
       "      <td>Baypointe - Santa Teresa</td>\n",
       "      <td>Blue Line</td>\n",
       "      <td>Blue Line__Baypointe - Santa Teresa</td>\n",
       "      <td>0</td>\n",
       "      <td>1</td>\n",
       "      <td>1</td>\n",
       "      <td>0</td>\n",
       "      <td>1.00</td>\n",
       "      <td>115514</td>\n",
       "      <td>Baypointe - Santa Teresa</td>\n",
       "      <td>27091.11</td>\n",
       "      <td>0</td>\n",
       "      <td>1</td>\n",
       "    </tr>\n",
       "  </tbody>\n",
       "</table>\n",
       "</div>"
      ],
      "text/plain": [
       "             schedule_gtfs_dataset_key  \\\n",
       "1875  fb467982dcc77a7f9199bebe709bb700   \n",
       "1876  fb467982dcc77a7f9199bebe709bb700   \n",
       "\n",
       "                                           name route_type   route_id  \\\n",
       "1875  Bay Area 511 Santa Clara Transit Schedule          0  Blue Line   \n",
       "1876  Bay Area 511 Santa Clara Transit Schedule          0  Blue Line   \n",
       "\n",
       "               route_long_name route_short_name  \\\n",
       "1875  Baypointe - Santa Teresa        Blue Line   \n",
       "1876  Baypointe - Santa Teresa        Blue Line   \n",
       "\n",
       "                            combined_name  is_express  is_rapid  is_rail  \\\n",
       "1875  Blue Line__Baypointe - Santa Teresa           0         1        1   \n",
       "1876  Blue Line__Baypointe - Santa Teresa           0         1        1   \n",
       "\n",
       "      is_local  direction_id common_shape_id                route_name  \\\n",
       "1875         0          0.00          115504  Baypointe - Santa Teresa   \n",
       "1876         0          1.00          115514  Baypointe - Santa Teresa   \n",
       "\n",
       "      route_meters  is_coverage  is_downtown_local  \n",
       "1875      26917.60            0                  1  \n",
       "1876      27091.11            0                  1  "
      ]
     },
     "execution_count": 20,
     "metadata": {},
     "output_type": "execute_result"
    }
   ],
   "source": [
    "rail_routes_dec_test.loc[rail_routes_dec_test.route_id == \"Blue Line\"]"
   ]
  },
  {
   "cell_type": "code",
   "execution_count": 22,
   "id": "30dca656-4679-43d5-81b3-8f9b7e0d67a3",
   "metadata": {
    "tags": []
   },
   "outputs": [
    {
     "data": {
      "text/html": [
       "<div>\n",
       "<style scoped>\n",
       "    .dataframe tbody tr th:only-of-type {\n",
       "        vertical-align: middle;\n",
       "    }\n",
       "\n",
       "    .dataframe tbody tr th {\n",
       "        vertical-align: top;\n",
       "    }\n",
       "\n",
       "    .dataframe thead th {\n",
       "        text-align: right;\n",
       "    }\n",
       "</style>\n",
       "<table border=\"1\" class=\"dataframe\">\n",
       "  <thead>\n",
       "    <tr style=\"text-align: right;\">\n",
       "      <th></th>\n",
       "      <th>schedule_gtfs_dataset_key</th>\n",
       "      <th>name</th>\n",
       "      <th>route_type</th>\n",
       "      <th>route_id</th>\n",
       "      <th>route_long_name</th>\n",
       "      <th>route_short_name</th>\n",
       "      <th>combined_name</th>\n",
       "      <th>is_express</th>\n",
       "      <th>is_rapid</th>\n",
       "      <th>is_rail</th>\n",
       "      <th>is_local</th>\n",
       "      <th>direction_id</th>\n",
       "      <th>common_shape_id</th>\n",
       "      <th>route_name</th>\n",
       "      <th>route_meters</th>\n",
       "      <th>is_coverage</th>\n",
       "      <th>is_downtown_local</th>\n",
       "    </tr>\n",
       "  </thead>\n",
       "  <tbody>\n",
       "    <tr>\n",
       "      <th>1534</th>\n",
       "      <td>f5a749dd65924e025b1293c58f95f8d6</td>\n",
       "      <td>Bay Area 511 Capitol Corridor Schedule</td>\n",
       "      <td>2</td>\n",
       "      <td>CC</td>\n",
       "      <td>Capitol Corridor</td>\n",
       "      <td>CC</td>\n",
       "      <td>CC__Capitol Corridor</td>\n",
       "      <td>0</td>\n",
       "      <td>1</td>\n",
       "      <td>1</td>\n",
       "      <td>1</td>\n",
       "      <td>0.00</td>\n",
       "      <td>5cf6811a-2f53-4199-b315-4408eb816e82</td>\n",
       "      <td>Daily train service between Auburn, Sacramento, Oakland and San Jose</td>\n",
       "      <td>143715.40</td>\n",
       "      <td>0</td>\n",
       "      <td>0</td>\n",
       "    </tr>\n",
       "    <tr>\n",
       "      <th>1535</th>\n",
       "      <td>f5a749dd65924e025b1293c58f95f8d6</td>\n",
       "      <td>Bay Area 511 Capitol Corridor Schedule</td>\n",
       "      <td>2</td>\n",
       "      <td>CC</td>\n",
       "      <td>Capitol Corridor</td>\n",
       "      <td>CC</td>\n",
       "      <td>CC__Capitol Corridor</td>\n",
       "      <td>0</td>\n",
       "      <td>0</td>\n",
       "      <td>1</td>\n",
       "      <td>0</td>\n",
       "      <td>1.00</td>\n",
       "      <td>92232e9e-55e8-4f8a-bb86-1aeb515be83e</td>\n",
       "      <td>Daily train service between Auburn, Sacramento, Oakland and San Jose</td>\n",
       "      <td>143684.90</td>\n",
       "      <td>1</td>\n",
       "      <td>0</td>\n",
       "    </tr>\n",
       "  </tbody>\n",
       "</table>\n",
       "</div>"
      ],
      "text/plain": [
       "             schedule_gtfs_dataset_key  \\\n",
       "1534  f5a749dd65924e025b1293c58f95f8d6   \n",
       "1535  f5a749dd65924e025b1293c58f95f8d6   \n",
       "\n",
       "                                        name route_type route_id  \\\n",
       "1534  Bay Area 511 Capitol Corridor Schedule          2       CC   \n",
       "1535  Bay Area 511 Capitol Corridor Schedule          2       CC   \n",
       "\n",
       "       route_long_name route_short_name         combined_name  is_express  \\\n",
       "1534  Capitol Corridor               CC  CC__Capitol Corridor           0   \n",
       "1535  Capitol Corridor               CC  CC__Capitol Corridor           0   \n",
       "\n",
       "      is_rapid  is_rail  is_local  direction_id  \\\n",
       "1534         1        1         1          0.00   \n",
       "1535         0        1         0          1.00   \n",
       "\n",
       "                           common_shape_id  \\\n",
       "1534  5cf6811a-2f53-4199-b315-4408eb816e82   \n",
       "1535  92232e9e-55e8-4f8a-bb86-1aeb515be83e   \n",
       "\n",
       "                                                                route_name  \\\n",
       "1534  Daily train service between Auburn, Sacramento, Oakland and San Jose   \n",
       "1535  Daily train service between Auburn, Sacramento, Oakland and San Jose   \n",
       "\n",
       "      route_meters  is_coverage  is_downtown_local  \n",
       "1534     143715.40            0                  0  \n",
       "1535     143684.90            1                  0  "
      ]
     },
     "execution_count": 22,
     "metadata": {},
     "output_type": "execute_result"
    }
   ],
   "source": [
    "rail_routes_dec_test.loc[rail_routes_dec_test.route_id == \"CC\"]"
   ]
  },
  {
   "cell_type": "code",
   "execution_count": 21,
   "id": "62529f79-3bd5-4ea5-b615-5d6f56527a49",
   "metadata": {
    "tags": []
   },
   "outputs": [
    {
     "data": {
      "text/plain": [
       "count   56.00\n",
       "mean     1.77\n",
       "std      0.43\n",
       "min      1.00\n",
       "25%      2.00\n",
       "50%      2.00\n",
       "75%      2.00\n",
       "max      2.00\n",
       "Name: route_id, dtype: float64"
      ]
     },
     "execution_count": 21,
     "metadata": {},
     "output_type": "execute_result"
    }
   ],
   "source": [
    "rail_routes_dec_test.route_id.value_counts().describe()"
   ]
  },
  {
   "cell_type": "code",
   "execution_count": null,
   "id": "2a4e055d-d079-41de-9767-85c79589355a",
   "metadata": {
    "tags": []
   },
   "outputs": [],
   "source": [
    "rail_routes_dec_test2 = rail_routes_dec_test.drop_duplicates(subset = [\"schedule_gtfs_dataset_key\", \"route_id\", \"route_long_name\", \"direction_id\"])"
   ]
  },
  {
   "cell_type": "code",
   "execution_count": null,
   "id": "ad9b2c3a-3044-409f-ac35-699ac8091b21",
   "metadata": {
    "tags": []
   },
   "outputs": [],
   "source": [
    "rail_routes_dec_test2.route_id.value_counts().describe()"
   ]
  },
  {
   "cell_type": "code",
   "execution_count": null,
   "id": "dccc30dc-93db-4ffc-a27d-b5f4fb4aa0c5",
   "metadata": {
    "tags": []
   },
   "outputs": [],
   "source": [
    "rail_routes_dec_test2.loc[rail_routes_dec_test2.route_id == \"Blue Line\"]"
   ]
  },
  {
   "cell_type": "code",
   "execution_count": null,
   "id": "6a771fb0-3ca2-4a7d-a5c9-6cc5d51a28d3",
   "metadata": {
    "scrolled": true,
    "tags": []
   },
   "outputs": [],
   "source": [
    "# rail_routes_dec_test2.groupby(['route_id']).agg({'route_long_name':'count'})"
   ]
  },
  {
   "cell_type": "markdown",
   "id": "a8adf40a-66eb-4b77-83fe-80fdf70bcf8f",
   "metadata": {},
   "source": [
    "### Fix `operator_profile`\n",
    "* Nothing shows up for `# Rail Route Types` even though there's one rail route."
   ]
  },
  {
   "cell_type": "code",
   "execution_count": null,
   "id": "aae9b6d5-f5b7-4528-9f8b-df914a70e055",
   "metadata": {},
   "outputs": [],
   "source": [
    "operator_profiles = section1.load_operator_ntd_profile(organization_name)"
   ]
  },
  {
   "cell_type": "code",
   "execution_count": null,
   "id": "62fc231f-efa2-4131-abdc-3e13068fd139",
   "metadata": {},
   "outputs": [],
   "source": [
    "operator_profiles"
   ]
  },
  {
   "cell_type": "code",
   "execution_count": null,
   "id": "ef75e93b-3bc6-4db3-bf31-ebdc458d79d2",
   "metadata": {},
   "outputs": [],
   "source": [
    "f\"{GTFS_DATA_DICT.digest_tables.dir}{GTFS_DATA_DICT.digest_tables.operator_profiles}.parquet\""
   ]
  },
  {
   "cell_type": "markdown",
   "id": "f19f7276-1d8b-4e2f-a62a-008c07d4d7e2",
   "metadata": {},
   "source": [
    "#### Go to `gtfs_digest/merge_operator_data/concatenate_rt_vs_schedule_operator_metrics`"
   ]
  },
  {
   "cell_type": "code",
   "execution_count": null,
   "id": "678ee483-f8c3-45bd-93ee-5645342313de",
   "metadata": {},
   "outputs": [],
   "source": [
    "op_rt_sched_metrics = merge_operator_data.concatenate_rt_vs_schedule_operator_metrics(\n",
    "    analysis_date_list\n",
    ")"
   ]
  },
  {
   "cell_type": "code",
   "execution_count": null,
   "id": "066822ca-5307-4738-9153-09b7ffc6c941",
   "metadata": {},
   "outputs": [],
   "source": [
    "op_rt_sched_metrics.head(1)"
   ]
  },
  {
   "cell_type": "code",
   "execution_count": null,
   "id": "239c5867-5fd8-401a-8361-cafc20a213a8",
   "metadata": {},
   "outputs": [],
   "source": [
    "op_rt_sched_metrics = op_rt_sched_metrics.loc[\n",
    "    op_rt_sched_metrics.schedule_gtfs_dataset_key.isin(schd_keys)\n",
    "]"
   ]
  },
  {
   "cell_type": "code",
   "execution_count": null,
   "id": "0d0dcd8f-bd1d-4778-a526-435b820c0cd4",
   "metadata": {},
   "outputs": [],
   "source": [
    "op_rt_sched_metrics"
   ]
  },
  {
   "cell_type": "markdown",
   "id": "110dc101-61ec-413f-9d1a-223ecd485a65",
   "metadata": {},
   "source": [
    "#### File I need to correct is in `data-analyses/gtfs_funnel/operator_scheduled_stats.py`"
   ]
  },
  {
   "cell_type": "code",
   "execution_count": null,
   "id": "ee1a3041-7cfd-4d10-b746-d01a82889cc5",
   "metadata": {},
   "outputs": [],
   "source": [
    "GTFS_DATA_DICT.schedule_tables.operator_scheduled_stats"
   ]
  },
  {
   "cell_type": "code",
   "execution_count": null,
   "id": "22203ab7-da5c-44ab-99a8-83b05987b024",
   "metadata": {},
   "outputs": [],
   "source": [
    "ROUTE_TYPOLOGY = GTFS_DATA_DICT.schedule_tables.route_typologies"
   ]
  },
  {
   "cell_type": "markdown",
   "id": "07419381-8ef9-45ba-bd6d-4b7358cc1e1d",
   "metadata": {},
   "source": [
    "#### I thought I ran this yesterday"
   ]
  },
  {
   "cell_type": "code",
   "execution_count": null,
   "id": "0b19a8c2-556e-438a-a158-231c02bda43b",
   "metadata": {},
   "outputs": [],
   "source": [
    "route_typology = pd.read_parquet(f\"{SCHED_GCS}{ROUTE_TYPOLOGY}_{analysis_date}.parquet\")"
   ]
  },
  {
   "cell_type": "code",
   "execution_count": null,
   "id": "002a30b0-1b9b-4443-a255-d074731566d5",
   "metadata": {},
   "outputs": [],
   "source": [
    "analysis_date"
   ]
  },
  {
   "cell_type": "code",
   "execution_count": null,
   "id": "c58e246d-e013-4c32-9ad7-e49457c677cb",
   "metadata": {},
   "outputs": [],
   "source": [
    "route_typology = route_typology.loc[route_typology.name.isin(name_list)]"
   ]
  },
  {
   "cell_type": "code",
   "execution_count": null,
   "id": "13b3fcc3-7181-4a40-b2bb-50d9dfe609d9",
   "metadata": {},
   "outputs": [],
   "source": [
    "route_typology"
   ]
  },
  {
   "cell_type": "code",
   "execution_count": null,
   "id": "d160492d-e74c-4055-88cd-38666ecb26f6",
   "metadata": {},
   "outputs": [],
   "source": []
  },
  {
   "cell_type": "markdown",
   "id": "0256ab5b-1e21-4e11-b37e-f17f1a6f22a5",
   "metadata": {},
   "source": [
    "### Only one route appears."
   ]
  },
  {
   "cell_type": "markdown",
   "id": "47f7416a-050c-4155-afad-9f66d317a38a",
   "metadata": {},
   "source": [
    "### Check out `gtfs_funnel/route_typologies/categorize_routes_by_name`\n",
    "* 3 routes appear. One is rail.\n",
    "* All 3 routes are retained until the end."
   ]
  },
  {
   "cell_type": "code",
   "execution_count": null,
   "id": "e0e879c1-c8a7-406b-8f1e-ee13c674266e",
   "metadata": {},
   "outputs": [],
   "source": [
    "df = helpers.import_scheduled_trips(\n",
    "    analysis_date,\n",
    "    columns=[\n",
    "        \"gtfs_dataset_key\",\n",
    "        \"name\",\n",
    "        \"route_type\",\n",
    "        \"route_id\",\n",
    "        \"route_long_name\",\n",
    "        \"route_short_name\",\n",
    "    ],\n",
    "    get_pandas=True,\n",
    ")"
   ]
  },
  {
   "cell_type": "code",
   "execution_count": null,
   "id": "04170ee3-7bde-4ebb-a7c7-a906658d962d",
   "metadata": {},
   "outputs": [],
   "source": [
    "df = df.loc[df.name.isin(name_list)]"
   ]
  },
  {
   "cell_type": "code",
   "execution_count": null,
   "id": "6d7e7894-79a6-43ee-8974-7715629c3118",
   "metadata": {},
   "outputs": [],
   "source": [
    "df = df.assign(\n",
    "    route_id=df.route_id.fillna(\"\"),\n",
    "    route_short_name=df.route_short_name.fillna(\"\"),\n",
    "    route_long_name=df.route_long_name.fillna(\"\"),\n",
    ")"
   ]
  },
  {
   "cell_type": "code",
   "execution_count": null,
   "id": "8e3c0b66-c6cb-4819-a1a2-c138ee505fa9",
   "metadata": {},
   "outputs": [],
   "source": [
    "df = df.assign(combined_name=df.route_short_name + \"__\" + df.route_long_name)"
   ]
  },
  {
   "cell_type": "code",
   "execution_count": null,
   "id": "c056d5d0-eec3-4326-8ef3-e6344ac0a105",
   "metadata": {},
   "outputs": [],
   "source": [
    "df"
   ]
  },
  {
   "cell_type": "code",
   "execution_count": null,
   "id": "787ac861-87d5-419b-a3cb-1003d1ec64e0",
   "metadata": {},
   "outputs": [],
   "source": [
    "def tag_rapid_express_rail(route_name_string: str, route_type_string: str) -> pd.Series:\n",
    "    \"\"\"\n",
    "    Use the combined route_name and see if we can\n",
    "    tag out words that indicate the route is\n",
    "    express, rapid, local, and rail.\n",
    "\n",
    "    Treat rail as own category.\n",
    "    For local routes, we'll pass that through NACTO to see\n",
    "    if we can better categorize as downtown_local, local, or coverage.\n",
    "    \"\"\"\n",
    "    route_name_string = route_name_string.lower()\n",
    "\n",
    "    express = 0\n",
    "    rapid = 0\n",
    "    rail = 0\n",
    "\n",
    "    if any(substring in route_name_string for substring in [\"express\", \"limited\"]):\n",
    "        express = 1\n",
    "    if \"rapid\" in route_name_string:\n",
    "        rapid = 1\n",
    "\n",
    "    rail_types = [\"0\", \"1\", \"2\", \"5\", \"6\", \"7\", \"11\", \"12\"]\n",
    "    if route_type_string in rail_types:\n",
    "        rail = 1\n",
    "\n",
    "    return pd.Series(\n",
    "        [express, rapid, rail], index=[\"is_express\", \"is_rapid\", \"is_rail\"]\n",
    "    )"
   ]
  },
  {
   "cell_type": "markdown",
   "id": "9012828f-4c58-400b-a623-9916a25370bd",
   "metadata": {},
   "source": [
    "I think you'd want to separate rail from the other types before the filtering.\n",
    "Rail is always tagged here.\n",
    "The other types that run on roads can have multiple types per route (a bus that runs partway in downtown, partway on local roads, etc). The filtering for typology gets at what might be the most common typologies present (over 10% of the route), and then allows 2 typologies to remain...primary/secondary typology by the end of the script. You can take a look at the relative proportions...but sometimes there's no clear plurality. Feel free to adjust the thresholds for what makes sense, 10% is fairly loose, but you might find dropping it to 5% leaves you with too many rows per route-dir. Find the balance!\n",
    "The intermediate output produced in this step is: GTFS_DATA_DICT.schedule_tables.route_typologies , and you would be able to control how you want that column to be flagged as an independent table before you merge to GTFS digest without rerunning everything."
   ]
  },
  {
   "cell_type": "code",
   "execution_count": null,
   "id": "7e00497d-fb33-4baf-b172-e6aa7edba24b",
   "metadata": {},
   "outputs": [],
   "source": [
    "typology_tags = df.apply(\n",
    "    lambda x: tag_rapid_express_rail(x.combined_name, x.route_type), axis=1\n",
    ")"
   ]
  },
  {
   "cell_type": "code",
   "execution_count": null,
   "id": "fce08d5d-5781-4ca4-a35c-5e9ec0cfaf06",
   "metadata": {
    "tags": []
   },
   "outputs": [],
   "source": [
    "typology_tags.shape"
   ]
  },
  {
   "cell_type": "code",
   "execution_count": null,
   "id": "4520889e-27d1-437c-adf1-8c359184254e",
   "metadata": {
    "tags": []
   },
   "outputs": [],
   "source": [
    "typology_tags"
   ]
  },
  {
   "cell_type": "code",
   "execution_count": null,
   "id": "82613d2d-cf73-4b61-aed0-235c08cafd74",
   "metadata": {},
   "outputs": [],
   "source": [
    "df2 = pd.concat([df, typology_tags], axis=1)"
   ]
  },
  {
   "cell_type": "code",
   "execution_count": null,
   "id": "1480d02f-c1a5-4207-a9d4-6cd088773e16",
   "metadata": {
    "tags": []
   },
   "outputs": [],
   "source": [
    "df2"
   ]
  },
  {
   "cell_type": "code",
   "execution_count": null,
   "id": "2d67f0c0-7f98-478d-9b5e-e90ac193b008",
   "metadata": {},
   "outputs": [],
   "source": [
    "df2 = df2.assign(\n",
    "    is_local=df2.apply(\n",
    "        lambda x: (\n",
    "            1 if (x.is_express == 0) and (x.is_rapid == 0) and (x.is_rail == 0) else 0\n",
    "        ),\n",
    "        axis=1,\n",
    "    ).astype(int)\n",
    ")"
   ]
  },
  {
   "cell_type": "code",
   "execution_count": null,
   "id": "b562ea79-e854-45a7-80e3-a2c576ce1b7c",
   "metadata": {
    "tags": []
   },
   "outputs": [],
   "source": [
    "df2.columns"
   ]
  },
  {
   "cell_type": "markdown",
   "id": "045c6eda-ba36-40b6-8e66-b31b1ce88c4a",
   "metadata": {},
   "source": [
    "### `prep_roads`"
   ]
  },
  {
   "cell_type": "code",
   "execution_count": null,
   "id": "e6a009ce-34bd-425e-acde-394402c9a5f3",
   "metadata": {},
   "outputs": [],
   "source": [
    "roads = route_typologies.prep_roads(GTFS_DATA_DICT)"
   ]
  },
  {
   "cell_type": "markdown",
   "id": "df937a55-1b88-4921-9204-077c65b20f8e",
   "metadata": {},
   "source": [
    "### `overlay_shapes_to_roads`\n",
    "* The other 2 routes disappear here. \n",
    "* Break it out here. "
   ]
  },
  {
   "cell_type": "code",
   "execution_count": null,
   "id": "76270a4f-1513-4624-9dd3-0dbc1cb4d678",
   "metadata": {},
   "outputs": [],
   "source": [
    "ROAD_BUFFER_METERS = 20"
   ]
  },
  {
   "cell_type": "markdown",
   "id": "bdbb14e3-2235-48a0-90a8-370e4d0ebbec",
   "metadata": {},
   "source": [
    "#### `common_shape` doesn't have the rail routes -> go to `segment_speed_utils/gtfs_schedule_wrangling` to find it."
   ]
  },
  {
   "cell_type": "code",
   "execution_count": null,
   "id": "2bbb09f1-5db1-4e99-84d9-e46b50086ccd",
   "metadata": {},
   "outputs": [],
   "source": [
    "route_dir_cols = [\"gtfs_dataset_key\", \"route_id\", \"direction_id\"]\n",
    "\n",
    "keep_trip_cols = route_dir_cols + [\"trip_instance_key\", \"shape_id\", \"shape_array_key\"]\n",
    "\n",
    "trips = helpers.import_scheduled_trips(\n",
    "    analysis_date, columns=keep_trip_cols, get_pandas=True\n",
    ").rename(columns={\"schedule_gtfs_dataset_key\": \"gtfs_dataset_key\"})\n",
    "sorting_order = [True for i in route_dir_cols]"
   ]
  },
  {
   "cell_type": "code",
   "execution_count": null,
   "id": "619421fd-056e-479a-9348-87cee1eb1316",
   "metadata": {},
   "outputs": [],
   "source": [
    "trips = trips.loc[trips.gtfs_dataset_key.isin(schd_keys)]"
   ]
  },
  {
   "cell_type": "markdown",
   "id": "9b80a9b2-773b-4d0a-91c7-935d0dae9946",
   "metadata": {},
   "source": [
    "#### `CC` is the rail."
   ]
  },
  {
   "cell_type": "code",
   "execution_count": null,
   "id": "cbc36cfb-3fb6-467f-9dc8-ff2697b9a4b3",
   "metadata": {},
   "outputs": [],
   "source": [
    "trips[[\"route_id\"]].drop_duplicates()"
   ]
  },
  {
   "cell_type": "code",
   "execution_count": null,
   "id": "b630c880-573b-4441-b166-dffbbc8c75c7",
   "metadata": {},
   "outputs": [],
   "source": [
    "most_common_shape = (\n",
    "    trips.groupby(\n",
    "        route_dir_cols + [\"shape_id\", \"shape_array_key\"],\n",
    "        observed=True,\n",
    "        group_keys=False,\n",
    "        dropna=False,\n",
    "    )\n",
    "    .agg({\"trip_instance_key\": \"count\"})\n",
    "    .reset_index()\n",
    "    .sort_values(\n",
    "        route_dir_cols + [\"trip_instance_key\"], ascending=sorting_order + [False]\n",
    "    )\n",
    "    .drop_duplicates(subset=route_dir_cols)\n",
    "    .reset_index(drop=True)[route_dir_cols + [\"shape_id\", \"shape_array_key\"]]\n",
    ").rename(\n",
    "    columns={\n",
    "        \"gtfs_dataset_key\": \"schedule_gtfs_dataset_key\",\n",
    "        \"shape_id\": \"common_shape_id\",\n",
    "    }\n",
    ")"
   ]
  },
  {
   "cell_type": "code",
   "execution_count": null,
   "id": "b3f6f30d-e9d6-4afc-855a-48a9e8736dec",
   "metadata": {},
   "outputs": [],
   "source": [
    "most_common_shape[[\"route_id\"]].drop_duplicates()"
   ]
  },
  {
   "cell_type": "code",
   "execution_count": null,
   "id": "69d9448b-a1a6-4a81-af4f-d6a209b54d37",
   "metadata": {},
   "outputs": [],
   "source": [
    "shape_geom = helpers.import_scheduled_shapes(\n",
    "    analysis_date,\n",
    "    columns=[\"shape_array_key\", \"geometry\"],\n",
    ")"
   ]
  },
  {
   "cell_type": "code",
   "execution_count": null,
   "id": "cd534407-714a-4c7d-a222-aa2ddc6139f4",
   "metadata": {},
   "outputs": [],
   "source": [
    "common_shape_geom = pd.merge(\n",
    "    shape_geom, most_common_shape, on=\"shape_array_key\", how=\"inner\"\n",
    ").drop(columns=\"shape_array_key\")"
   ]
  },
  {
   "cell_type": "code",
   "execution_count": null,
   "id": "c1ebd4bb-f28e-4e54-b9e9-d20b766c813d",
   "metadata": {},
   "outputs": [],
   "source": [
    "common_shape_geom.drop(columns=[\"geometry\"])"
   ]
  },
  {
   "cell_type": "code",
   "execution_count": null,
   "id": "403a091f-0cac-4bc5-b851-dbc71ec74644",
   "metadata": {},
   "outputs": [],
   "source": [
    "route_info = (\n",
    "    helpers.import_scheduled_trips(\n",
    "        analysis_date,\n",
    "        columns=[\n",
    "            \"gtfs_dataset_key\",\n",
    "            \"route_id\",\n",
    "            \"route_long_name\",\n",
    "            \"route_short_name\",\n",
    "            \"route_desc\",\n",
    "        ],\n",
    "    )\n",
    "    .drop_duplicates()\n",
    "    .pipe(portfolio_utils.add_route_name)\n",
    "    .drop(columns=[\"route_long_name\", \"route_short_name\", \"route_desc\"])\n",
    ")"
   ]
  },
  {
   "cell_type": "code",
   "execution_count": null,
   "id": "a3d4256b-1c1a-44cc-bf5b-e33ab5735c05",
   "metadata": {},
   "outputs": [],
   "source": [
    "route_info.columns"
   ]
  },
  {
   "cell_type": "code",
   "execution_count": null,
   "id": "be94de8c-1458-4ec6-845e-3cd5b7629ec7",
   "metadata": {},
   "outputs": [],
   "source": [
    "route_info = route_info.loc[route_info.schedule_gtfs_dataset_key.isin(schd_keys)]"
   ]
  },
  {
   "cell_type": "code",
   "execution_count": null,
   "id": "13eec721-ec4b-45f2-9a8e-324c8f57ec6e",
   "metadata": {},
   "outputs": [],
   "source": [
    "route_info"
   ]
  },
  {
   "cell_type": "code",
   "execution_count": null,
   "id": "2a22809f-9bad-4b43-af5a-0e8ab9045cfe",
   "metadata": {},
   "outputs": [],
   "source": [
    "common_shape_geom2 = pd.merge(\n",
    "    common_shape_geom,\n",
    "    route_info.rename(columns={\"route_name_used\": \"route_name\"}),\n",
    "    on=[\"schedule_gtfs_dataset_key\", \"route_id\"],\n",
    ")"
   ]
  },
  {
   "cell_type": "code",
   "execution_count": null,
   "id": "bf0779a5-2a35-462f-b9fd-2fce6c2ec522",
   "metadata": {},
   "outputs": [],
   "source": [
    "common_shape_geom2[[\"route_id\"]].drop_duplicates()"
   ]
  },
  {
   "cell_type": "code",
   "execution_count": null,
   "id": "fb90e873-6202-49fe-8fa0-6725fba6f014",
   "metadata": {},
   "outputs": [],
   "source": [
    "common_shape = gtfs_schedule_wrangling.most_common_shape_by_route_direction(\n",
    "    analysis_date\n",
    ")"
   ]
  },
  {
   "cell_type": "code",
   "execution_count": null,
   "id": "ec802b70-fab4-48a4-8900-9233bf593366",
   "metadata": {},
   "outputs": [],
   "source": [
    "common_shape.columns"
   ]
  },
  {
   "cell_type": "code",
   "execution_count": null,
   "id": "f4e5fa02-bb36-4446-b2dd-f85532319466",
   "metadata": {},
   "outputs": [],
   "source": [
    "common_shape = common_shape.loc[common_shape.schedule_gtfs_dataset_key.isin(schd_keys)]"
   ]
  },
  {
   "cell_type": "code",
   "execution_count": null,
   "id": "60d3ed1b-9b21-42f1-ae58-1ec651e144eb",
   "metadata": {},
   "outputs": [],
   "source": [
    "common_shape[[\"route_id\", \"direction_id\"]].drop_duplicates()"
   ]
  },
  {
   "cell_type": "code",
   "execution_count": null,
   "id": "75ec9367-0056-4e12-bfe7-6f2c4f860094",
   "metadata": {},
   "outputs": [],
   "source": [
    "# common_shape.explore(\"route_id\")"
   ]
  },
  {
   "cell_type": "code",
   "execution_count": null,
   "id": "2f8969cf-33f0-48ab-aa32-f765b9ee515e",
   "metadata": {},
   "outputs": [],
   "source": [
    "common_shape_piped = gtfs_schedule_wrangling.most_common_shape_by_route_direction(\n",
    "    analysis_date\n",
    ").pipe(helpers.remove_shapes_outside_ca)"
   ]
  },
  {
   "cell_type": "code",
   "execution_count": null,
   "id": "9297eb94-dcd9-4699-bb0a-4a5a8ab0e6bd",
   "metadata": {},
   "outputs": [],
   "source": [
    "common_shape_piped = common_shape_piped.loc[\n",
    "    common_shape_piped.schedule_gtfs_dataset_key.isin(schd_keys)\n",
    "]"
   ]
  },
  {
   "cell_type": "code",
   "execution_count": null,
   "id": "0d19260c-00c3-4015-b5c2-18dbde848938",
   "metadata": {},
   "outputs": [],
   "source": [
    "common_shape_piped[[\"route_id\"]].drop_duplicates()"
   ]
  },
  {
   "cell_type": "markdown",
   "id": "77a96805-cb9d-43fa-adbe-4ae74f6ab23d",
   "metadata": {},
   "source": [
    "#### Continuing with `gtfs_funnel/route_typologies` the `if==main`"
   ]
  },
  {
   "cell_type": "code",
   "execution_count": null,
   "id": "0e40fea2-ccc5-4259-afa6-2ad45e8d78c5",
   "metadata": {},
   "outputs": [],
   "source": [
    "ROAD_BUFFER_METERS = 20"
   ]
  },
  {
   "cell_type": "markdown",
   "id": "9a07755b-1194-43b2-aa04-34575cdf6db5",
   "metadata": {},
   "source": [
    "#### Tweak the threshold lightly to 0.09"
   ]
  },
  {
   "cell_type": "code",
   "execution_count": null,
   "id": "53457ddc-8fc5-4f3e-9e68-218038d2a5e5",
   "metadata": {},
   "outputs": [],
   "source": [
    "TYPOLOGY_THRESHOLD = 0.09"
   ]
  },
  {
   "cell_type": "code",
   "execution_count": null,
   "id": "efc8bc4d-2096-4076-bd97-3aabf0b0e0b9",
   "metadata": {},
   "outputs": [],
   "source": [
    "gdf = route_typologies.overlay_shapes_to_roads(roads, analysis_date, ROAD_BUFFER_METERS)"
   ]
  },
  {
   "cell_type": "code",
   "execution_count": null,
   "id": "6453cd75-1531-4628-bc5e-232e37e0c907",
   "metadata": {},
   "outputs": [],
   "source": [
    "gdf.columns"
   ]
  },
  {
   "cell_type": "code",
   "execution_count": null,
   "id": "1f02099b-5115-4d41-a6db-eb96da505f57",
   "metadata": {},
   "outputs": [],
   "source": [
    "gdf = gdf.loc[gdf.schedule_gtfs_dataset_key.isin(schd_keys)]"
   ]
  },
  {
   "cell_type": "code",
   "execution_count": null,
   "id": "5e03b247-050a-425c-b58c-9d67e145fe5d",
   "metadata": {},
   "outputs": [],
   "source": [
    "gdf.route_id.nunique()"
   ]
  },
  {
   "cell_type": "code",
   "execution_count": null,
   "id": "16a6ac40-7edb-4077-8035-57992fa7d0fc",
   "metadata": {},
   "outputs": [],
   "source": [
    "# gdf[[\"route_id\", \"direction_id\", \"typology\", \"pct_typology\"]].drop_duplicates().sort_values(\n",
    "#    by=[\"route_id\",\"direction_id\", \"pct_typology\"]\n",
    "# )"
   ]
  },
  {
   "cell_type": "markdown",
   "id": "3956df86-87fa-454f-8072-d50b7f18ad90",
   "metadata": {},
   "source": [
    "#### Filtering out for typology_threshold throws away the other routes -> Find a way to retain rail routes. "
   ]
  },
  {
   "cell_type": "code",
   "execution_count": null,
   "id": "06362e9f-6668-4ecc-a939-c86b69e5b7b8",
   "metadata": {},
   "outputs": [],
   "source": [
    "route_typology_df = gdf.loc[(gdf.pct_typology >= TYPOLOGY_THRESHOLD)]"
   ]
  },
  {
   "cell_type": "code",
   "execution_count": null,
   "id": "e800237f-8473-481f-89c1-19b8db81122a",
   "metadata": {},
   "outputs": [],
   "source": [
    "route_typology_df"
   ]
  },
  {
   "cell_type": "markdown",
   "id": "ddda0a86-ebe7-43d2-abf2-7a50fc640c51",
   "metadata": {},
   "source": [
    "#### Getting rail routes back"
   ]
  },
  {
   "cell_type": "code",
   "execution_count": null,
   "id": "32026486-d65a-4b96-8782-c5bdbc4e8457",
   "metadata": {
    "tags": []
   },
   "outputs": [],
   "source": [
    "def add_rail_back(\n",
    "    categorize_routes_df: pd.DataFrame, overlay_shapes_to_roads_df: pd.DataFrame\n",
    ") -> pd.DataFrame:\n",
    "    \"\"\"\n",
    "    categorize_routes_df: df created by categorize_routes_by_name()\n",
    "    overlay_shapes_to_roads_df: df created by overlay_shapes_to_roads() \n",
    "    \"\"\"\n",
    "    # Filter out for only rail routes and drop duplicates.\n",
    "    rail_routes = categorize_routes_df.loc[categorize_routes_df.is_rail == 1][\n",
    "        [\"route_id\", \"schedule_gtfs_dataset_key\"]\n",
    "    ].drop_duplicates()\n",
    "\n",
    "    # Merge with route_typologies_df to retain the details for\n",
    "    # columns such as typology, freq_category, etc\n",
    "    m1 = pd.merge(gdf, rail_routes, how=\"inner\")\n",
    "\n",
    "    # Retain only one row for each route-direction-operator\n",
    "    # keeping the row with the highest pct_typology\n",
    "    m1 = m1.sort_values(\n",
    "        by=[\"route_id\", \"direction_id\", \"schedule_gtfs_dataset_key\", \"pct_typology\"],\n",
    "        ascending=[True, True, True, False],\n",
    "    ).drop_duplicates(subset=[\"route_id\", \"direction_id\", \"schedule_gtfs_dataset_key\"])\n",
    "    \n",
    "    # Apply primary_secondary_typology() function which adds\n",
    "    # columns like is_nacto_rapid, is_nacto_coverage\n",
    "    m1 = route_typologies.primary_secondary_typology(m1)\n",
    "\n",
    "    return m1"
   ]
  },
  {
   "cell_type": "code",
   "execution_count": null,
   "id": "ae1b8ee8-e9d3-49d4-b077-7c2ec9f0b5be",
   "metadata": {
    "tags": []
   },
   "outputs": [],
   "source": [
    "rail_routes_df = add_rail_back(df2, gdf)"
   ]
  },
  {
   "cell_type": "code",
   "execution_count": null,
   "id": "507a4735-5573-4703-a5af-abb12fe32523",
   "metadata": {
    "tags": []
   },
   "outputs": [],
   "source": [
    "rail_routes_df"
   ]
  },
  {
   "cell_type": "markdown",
   "id": "c7870b51-fe6e-4fd3-a9c5-48e93b60c5ed",
   "metadata": {},
   "source": [
    "#### Back to the rest of the function without any change. "
   ]
  },
  {
   "cell_type": "code",
   "execution_count": null,
   "id": "1cadb717-00e2-451a-b597-2ce213178d8e",
   "metadata": {
    "tags": []
   },
   "outputs": [],
   "source": [
    "route_typology_df.head(2)"
   ]
  },
  {
   "cell_type": "code",
   "execution_count": null,
   "id": "bd39a411-2248-4fee-89d8-2c3ed411fec4",
   "metadata": {},
   "outputs": [],
   "source": [
    "route_typology_df2 = route_typologies.primary_secondary_typology(route_typology_df)"
   ]
  },
  {
   "cell_type": "code",
   "execution_count": null,
   "id": "dfa8a841-25af-4226-a909-c28e21d1fb57",
   "metadata": {},
   "outputs": [],
   "source": [
    "route_typology_df2.shape"
   ]
  },
  {
   "cell_type": "code",
   "execution_count": null,
   "id": "bc6df46c-9756-4389-b556-c83c590256d6",
   "metadata": {},
   "outputs": [],
   "source": [
    "route_typology_df2"
   ]
  },
  {
   "cell_type": "code",
   "execution_count": null,
   "id": "65e37334-a222-4be2-b8d0-442c6a5e836f",
   "metadata": {},
   "outputs": [],
   "source": [
    "route_tagged = route_typologies.categorize_routes_by_name(analysis_date)"
   ]
  },
  {
   "cell_type": "code",
   "execution_count": null,
   "id": "29bf0c3c-9b53-46a5-a0c3-c4129329830a",
   "metadata": {},
   "outputs": [],
   "source": [
    "route_tagged = route_tagged.loc[route_tagged.schedule_gtfs_dataset_key.isin(schd_keys)]"
   ]
  },
  {
   "cell_type": "code",
   "execution_count": null,
   "id": "8fe153ad-35e6-4658-b031-544ab277e058",
   "metadata": {},
   "outputs": [],
   "source": [
    "route_tagged"
   ]
  },
  {
   "cell_type": "markdown",
   "id": "4cf4cd90-dac1-42eb-a652-ba7a10021b5c",
   "metadata": {},
   "source": [
    "#### Easier way to keep rail routes = use an `outer` join instead of a `left` join.\n",
    "* But there are a lot of missing values."
   ]
  },
  {
   "cell_type": "code",
   "execution_count": null,
   "id": "65ba4f07-cbf9-40aa-b3e5-5a88ed5b754f",
   "metadata": {
    "tags": []
   },
   "outputs": [],
   "source": [
    "df3 = pd.merge(\n",
    "    route_tagged,\n",
    "    route_typology_df2,\n",
    "    on=[\"schedule_gtfs_dataset_key\", \"route_id\"],\n",
    "    how=\"outer\",\n",
    ")"
   ]
  },
  {
   "cell_type": "code",
   "execution_count": null,
   "id": "828a74f3-549c-4f64-931e-564a7757bf36",
   "metadata": {},
   "outputs": [],
   "source": [
    "df3"
   ]
  },
  {
   "cell_type": "markdown",
   "id": "d299d7cc-66da-48e2-9298-98dcd1f6d11b",
   "metadata": {},
   "source": [
    "#### Incorporating my `rail_routes_df2`"
   ]
  },
  {
   "cell_type": "code",
   "execution_count": null,
   "id": "8a47c427-30c8-4403-adf4-5220316f6970",
   "metadata": {
    "tags": []
   },
   "outputs": [],
   "source": [
    "#  First concat it with route_typology_df2\n",
    "all_routes = pd.concat([route_typology_df2, rail_routes_df])"
   ]
  },
  {
   "cell_type": "code",
   "execution_count": null,
   "id": "1711bb59-11c2-4de3-9721-d89d6fc03135",
   "metadata": {
    "tags": []
   },
   "outputs": [],
   "source": [
    "# merge with route_tagged as normal\n",
    "df4 = pd.merge(\n",
    "    route_tagged, all_routes, on=[\"schedule_gtfs_dataset_key\", \"route_id\"], how=\"inner\"\n",
    ")"
   ]
  },
  {
   "cell_type": "code",
   "execution_count": null,
   "id": "df903213-7287-44a8-9ca6-bb758c6be3b4",
   "metadata": {
    "tags": []
   },
   "outputs": [],
   "source": [
    "df4"
   ]
  }
 ],
 "metadata": {
  "kernelspec": {
   "display_name": "Python 3 (ipykernel)",
   "language": "python",
   "name": "python3"
  },
  "language_info": {
   "codemirror_mode": {
    "name": "ipython",
    "version": 3
   },
   "file_extension": ".py",
   "mimetype": "text/x-python",
   "name": "python",
   "nbconvert_exporter": "python",
   "pygments_lexer": "ipython3",
   "version": "3.11.6"
  }
 },
 "nbformat": 4,
 "nbformat_minor": 5
}
