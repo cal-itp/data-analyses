{
 "cells": [
  {
   "cell_type": "markdown",
   "id": "46b4806a-c444-43bc-bbac-65d05510194a",
   "metadata": {},
   "source": [
    "## Where are the rail routes?"
   ]
  },
  {
   "cell_type": "code",
   "execution_count": 1,
   "id": "275b2deb-fb81-4b0c-9187-b95b4e3ac91b",
   "metadata": {},
   "outputs": [],
   "source": [
    "import _section1_utils as section1\n",
    "import geopandas as gpd\n",
    "import merge_data\n",
    "import merge_operator_data\n",
    "import numpy as np\n",
    "import pandas as pd\n",
    "from segment_speed_utils import gtfs_schedule_wrangling, helpers\n",
    "from shared_utils import portfolio_utils\n",
    "from update_vars import GTFS_DATA_DICT, RT_SCHED_GCS, SCHED_GCS, SEGMENT_GCS"
   ]
  },
  {
   "cell_type": "code",
   "execution_count": 2,
   "id": "fada069f-cdf0-46ee-bcc2-2ed524e4bbfa",
   "metadata": {},
   "outputs": [],
   "source": [
    "import sys\n",
    "\n",
    "sys.path.append(\"../gtfs_funnel/\")\n",
    "import route_typologies"
   ]
  },
  {
   "cell_type": "code",
   "execution_count": 3,
   "id": "1ca94708-911b-4e8d-96d8-17f60589e259",
   "metadata": {},
   "outputs": [],
   "source": [
    "pd.options.display.max_columns = 100\n",
    "pd.options.display.float_format = \"{:.2f}\".format\n",
    "pd.set_option(\"display.max_rows\", None)\n",
    "pd.set_option(\"display.max_colwidth\", None)"
   ]
  },
  {
   "cell_type": "code",
   "execution_count": 4,
   "id": "9f2e199e-08fe-44b7-8b61-727af9c90f9d",
   "metadata": {},
   "outputs": [],
   "source": [
    "org_name_lists = [\"Capitol Corridor Joint Powers Authority\"]"
   ]
  },
  {
   "cell_type": "code",
   "execution_count": 5,
   "id": "0307a4c0-c23b-46fd-8c0f-637421fabc17",
   "metadata": {},
   "outputs": [],
   "source": [
    "organization_name = \"Capitol Corridor Joint Powers Authority\""
   ]
  },
  {
   "cell_type": "code",
   "execution_count": 6,
   "id": "61a455db-6c28-44ed-a26c-f1578ecea800",
   "metadata": {},
   "outputs": [],
   "source": [
    "analysis_date_list = [\"2024-11-13\"]"
   ]
  },
  {
   "cell_type": "code",
   "execution_count": 7,
   "id": "104677e1-c3bb-4e80-aae7-598f4eca4f23",
   "metadata": {},
   "outputs": [],
   "source": [
    "analysis_date = \"2024-11-13\""
   ]
  },
  {
   "cell_type": "code",
   "execution_count": 8,
   "id": "e88b041f-a706-458e-9481-7d5f13894aa3",
   "metadata": {},
   "outputs": [],
   "source": [
    "schd_keys = [\n",
    "    \"f5a749dd65924e025b1293c58f95f8d6\",\n",
    "]"
   ]
  },
  {
   "cell_type": "code",
   "execution_count": 9,
   "id": "2a2062cc-bb14-4352-91a5-7a2faca93f2b",
   "metadata": {},
   "outputs": [],
   "source": [
    "name_list = [\"Bay Area 511 Capitol Corridor Schedule\"]"
   ]
  },
  {
   "cell_type": "code",
   "execution_count": 10,
   "id": "58db0f8e-ce06-4a22-a472-4486c5c761d0",
   "metadata": {},
   "outputs": [],
   "source": [
    "ROUTE_TYPOLOGIES = GTFS_DATA_DICT.schedule_tables.route_typologies\n",
    "route_typologies_df = pd.read_parquet(\n",
    "    f\"{SCHED_GCS}{ROUTE_TYPOLOGIES}_{analysis_date}.parquet\"\n",
    ")"
   ]
  },
  {
   "cell_type": "code",
   "execution_count": 11,
   "id": "a6bdc8c3-7dc2-49df-96ff-864a9db7c50a",
   "metadata": {},
   "outputs": [
    {
     "data": {
      "text/html": [
       "<div>\n",
       "<style scoped>\n",
       "    .dataframe tbody tr th:only-of-type {\n",
       "        vertical-align: middle;\n",
       "    }\n",
       "\n",
       "    .dataframe tbody tr th {\n",
       "        vertical-align: top;\n",
       "    }\n",
       "\n",
       "    .dataframe thead th {\n",
       "        text-align: right;\n",
       "    }\n",
       "</style>\n",
       "<table border=\"1\" class=\"dataframe\">\n",
       "  <thead>\n",
       "    <tr style=\"text-align: right;\">\n",
       "      <th></th>\n",
       "      <th>schedule_gtfs_dataset_key</th>\n",
       "      <th>name</th>\n",
       "      <th>route_type</th>\n",
       "      <th>route_id</th>\n",
       "      <th>route_long_name</th>\n",
       "      <th>route_short_name</th>\n",
       "      <th>combined_name</th>\n",
       "      <th>is_express</th>\n",
       "      <th>is_rapid</th>\n",
       "      <th>is_rail</th>\n",
       "      <th>is_local</th>\n",
       "      <th>direction_id</th>\n",
       "      <th>common_shape_id</th>\n",
       "      <th>route_name</th>\n",
       "      <th>route_meters</th>\n",
       "      <th>is_coverage</th>\n",
       "      <th>is_downtown_local</th>\n",
       "    </tr>\n",
       "  </thead>\n",
       "  <tbody>\n",
       "    <tr>\n",
       "      <th>0</th>\n",
       "      <td>1770249a5a2e770ca90628434d4934b1</td>\n",
       "      <td>VCTC GMV Schedule</td>\n",
       "      <td>3</td>\n",
       "      <td>3407</td>\n",
       "      <td>Route 18</td>\n",
       "      <td>Route 18</td>\n",
       "      <td>Route 18__Route 18</td>\n",
       "      <td>0</td>\n",
       "      <td>1</td>\n",
       "      <td>0</td>\n",
       "      <td>0</td>\n",
       "      <td>0.00</td>\n",
       "      <td>18827</td>\n",
       "      <td>OHS TRIPPER - C ST - DORIS ST</td>\n",
       "      <td>8611.13</td>\n",
       "      <td>1</td>\n",
       "      <td>0</td>\n",
       "    </tr>\n",
       "  </tbody>\n",
       "</table>\n",
       "</div>"
      ],
      "text/plain": [
       "          schedule_gtfs_dataset_key               name route_type route_id  \\\n",
       "0  1770249a5a2e770ca90628434d4934b1  VCTC GMV Schedule          3     3407   \n",
       "\n",
       "  route_long_name route_short_name       combined_name  is_express  is_rapid  \\\n",
       "0        Route 18         Route 18  Route 18__Route 18           0         1   \n",
       "\n",
       "   is_rail  is_local  direction_id common_shape_id  \\\n",
       "0        0         0          0.00           18827   \n",
       "\n",
       "                      route_name  route_meters  is_coverage  is_downtown_local  \n",
       "0  OHS TRIPPER - C ST - DORIS ST       8611.13            1                  0  "
      ]
     },
     "execution_count": 11,
     "metadata": {},
     "output_type": "execute_result"
    }
   ],
   "source": [
    "route_typologies_df.head(1)"
   ]
  },
  {
   "cell_type": "markdown",
   "id": "a8adf40a-66eb-4b77-83fe-80fdf70bcf8f",
   "metadata": {},
   "source": [
    "### Fix `operator_profile`\n",
    "* Nothing shows up for `# Rail Route Types` even though there's one rail route."
   ]
  },
  {
   "cell_type": "code",
   "execution_count": 12,
   "id": "aae9b6d5-f5b7-4528-9f8b-df914a70e055",
   "metadata": {},
   "outputs": [],
   "source": [
    "operator_profiles = section1.load_operator_ntd_profile(organization_name)"
   ]
  },
  {
   "cell_type": "code",
   "execution_count": 13,
   "id": "62fc231f-efa2-4131-abdc-3e13068fd139",
   "metadata": {},
   "outputs": [
    {
     "data": {
      "text/html": [
       "<div>\n",
       "<style scoped>\n",
       "    .dataframe tbody tr th:only-of-type {\n",
       "        vertical-align: middle;\n",
       "    }\n",
       "\n",
       "    .dataframe tbody tr th {\n",
       "        vertical-align: top;\n",
       "    }\n",
       "\n",
       "    .dataframe thead th {\n",
       "        text-align: right;\n",
       "    }\n",
       "</style>\n",
       "<table border=\"1\" class=\"dataframe\">\n",
       "  <thead>\n",
       "    <tr style=\"text-align: right;\">\n",
       "      <th></th>\n",
       "      <th>schedule_gtfs_dataset_key</th>\n",
       "      <th>VP per Minute (All Routes)</th>\n",
       "      <th>Spatial Accuracy (All Routes)</th>\n",
       "      <th>Date</th>\n",
       "      <th># Routes</th>\n",
       "      <th># Trips</th>\n",
       "      <th># Shapes</th>\n",
       "      <th># Stops</th>\n",
       "      <th># Arrivals</th>\n",
       "      <th>Operator Service Miles</th>\n",
       "      <th>Avg Arrivals per Stop</th>\n",
       "      <th># Downtown Local Route Types</th>\n",
       "      <th># Local Route Types</th>\n",
       "      <th># Coverage Route Types</th>\n",
       "      <th># Rapid Route Types</th>\n",
       "      <th># Express Route Types</th>\n",
       "      <th># Rail Route Types</th>\n",
       "      <th>Transit Operator</th>\n",
       "      <th>Organization ID</th>\n",
       "      <th>Organization</th>\n",
       "      <th>District</th>\n",
       "      <th>counties_served</th>\n",
       "      <th>service_area_sq_miles</th>\n",
       "      <th>hq_city</th>\n",
       "      <th>service_area_pop</th>\n",
       "      <th>organization_type</th>\n",
       "      <th>primary_uza_name</th>\n",
       "      <th>reporter_type</th>\n",
       "    </tr>\n",
       "  </thead>\n",
       "  <tbody>\n",
       "    <tr>\n",
       "      <th>13</th>\n",
       "      <td>f5a749dd65924e025b1293c58f95f8d6</td>\n",
       "      <td>2.57</td>\n",
       "      <td>0.00</td>\n",
       "      <td>2024-12-11</td>\n",
       "      <td>3.00</td>\n",
       "      <td>57.00</td>\n",
       "      <td>13.00</td>\n",
       "      <td>20.00</td>\n",
       "      <td>378.00</td>\n",
       "      <td>233.57</td>\n",
       "      <td>18.90</td>\n",
       "      <td>0.00</td>\n",
       "      <td>0.00</td>\n",
       "      <td>1.00</td>\n",
       "      <td>0.00</td>\n",
       "      <td>0.00</td>\n",
       "      <td>0.00</td>\n",
       "      <td>Bay Area 511 Capitol Corridor Schedule</td>\n",
       "      <td>recvEBkSBc7UxlarC</td>\n",
       "      <td>Capitol Corridor Joint Powers Authority</td>\n",
       "      <td>04 - Oakland</td>\n",
       "      <td>None</td>\n",
       "      <td>&lt;NA&gt;</td>\n",
       "      <td>None</td>\n",
       "      <td>&lt;NA&gt;</td>\n",
       "      <td>None</td>\n",
       "      <td>None</td>\n",
       "      <td>None</td>\n",
       "    </tr>\n",
       "  </tbody>\n",
       "</table>\n",
       "</div>"
      ],
      "text/plain": [
       "           schedule_gtfs_dataset_key  VP per Minute (All Routes)  \\\n",
       "13  f5a749dd65924e025b1293c58f95f8d6                        2.57   \n",
       "\n",
       "    Spatial Accuracy (All Routes)       Date  # Routes  # Trips  # Shapes  \\\n",
       "13                           0.00 2024-12-11      3.00    57.00     13.00   \n",
       "\n",
       "    # Stops  # Arrivals  Operator Service Miles  Avg Arrivals per Stop  \\\n",
       "13    20.00      378.00                  233.57                  18.90   \n",
       "\n",
       "    # Downtown Local Route Types  # Local Route Types  # Coverage Route Types  \\\n",
       "13                          0.00                 0.00                    1.00   \n",
       "\n",
       "    # Rapid Route Types  # Express Route Types  # Rail Route Types  \\\n",
       "13                 0.00                   0.00                0.00   \n",
       "\n",
       "                          Transit Operator    Organization ID  \\\n",
       "13  Bay Area 511 Capitol Corridor Schedule  recvEBkSBc7UxlarC   \n",
       "\n",
       "                               Organization      District counties_served  \\\n",
       "13  Capitol Corridor Joint Powers Authority  04 - Oakland            None   \n",
       "\n",
       "    service_area_sq_miles hq_city  service_area_pop organization_type  \\\n",
       "13                   <NA>    None              <NA>              None   \n",
       "\n",
       "   primary_uza_name reporter_type  \n",
       "13             None          None  "
      ]
     },
     "execution_count": 13,
     "metadata": {},
     "output_type": "execute_result"
    }
   ],
   "source": [
    "operator_profiles"
   ]
  },
  {
   "cell_type": "code",
   "execution_count": 14,
   "id": "ef75e93b-3bc6-4db3-bf31-ebdc458d79d2",
   "metadata": {},
   "outputs": [
    {
     "data": {
      "text/plain": [
       "'gs://calitp-analytics-data/data-analyses/rt_vs_schedule/digest/operator_profiles.parquet'"
      ]
     },
     "execution_count": 14,
     "metadata": {},
     "output_type": "execute_result"
    }
   ],
   "source": [
    "f\"{GTFS_DATA_DICT.digest_tables.dir}{GTFS_DATA_DICT.digest_tables.operator_profiles}.parquet\""
   ]
  },
  {
   "cell_type": "markdown",
   "id": "f19f7276-1d8b-4e2f-a62a-008c07d4d7e2",
   "metadata": {},
   "source": [
    "#### Go to `gtfs_digest/merge_operator_data/concatenate_rt_vs_schedule_operator_metrics`"
   ]
  },
  {
   "cell_type": "code",
   "execution_count": 15,
   "id": "678ee483-f8c3-45bd-93ee-5645342313de",
   "metadata": {},
   "outputs": [],
   "source": [
    "op_rt_sched_metrics = merge_operator_data.concatenate_rt_vs_schedule_operator_metrics(\n",
    "    analysis_date_list\n",
    ")"
   ]
  },
  {
   "cell_type": "code",
   "execution_count": 16,
   "id": "066822ca-5307-4738-9153-09b7ffc6c941",
   "metadata": {},
   "outputs": [
    {
     "data": {
      "text/html": [
       "<div>\n",
       "<style scoped>\n",
       "    .dataframe tbody tr th:only-of-type {\n",
       "        vertical-align: middle;\n",
       "    }\n",
       "\n",
       "    .dataframe tbody tr th {\n",
       "        vertical-align: top;\n",
       "    }\n",
       "\n",
       "    .dataframe thead th {\n",
       "        text-align: right;\n",
       "    }\n",
       "</style>\n",
       "<table border=\"1\" class=\"dataframe\">\n",
       "  <thead>\n",
       "    <tr style=\"text-align: right;\">\n",
       "      <th></th>\n",
       "      <th>schedule_gtfs_dataset_key</th>\n",
       "      <th>operator_n_routes</th>\n",
       "      <th>operator_n_trips</th>\n",
       "      <th>operator_n_shapes</th>\n",
       "      <th>operator_n_stops</th>\n",
       "      <th>operator_n_arrivals</th>\n",
       "      <th>operator_route_length_miles</th>\n",
       "      <th>operator_arrivals_per_stop</th>\n",
       "      <th>n_downtown_local_routes</th>\n",
       "      <th>n_local_routes</th>\n",
       "      <th>n_coverage_routes</th>\n",
       "      <th>n_rapid_routes</th>\n",
       "      <th>n_express_routes</th>\n",
       "      <th>n_rail_routes</th>\n",
       "      <th>name</th>\n",
       "      <th>organization_source_record_id</th>\n",
       "      <th>organization_name</th>\n",
       "      <th>service_date</th>\n",
       "    </tr>\n",
       "  </thead>\n",
       "  <tbody>\n",
       "    <tr>\n",
       "      <th>0</th>\n",
       "      <td>0139b1253130b33adcd4b3a4490530d2</td>\n",
       "      <td>25</td>\n",
       "      <td>310</td>\n",
       "      <td>132</td>\n",
       "      <td>308</td>\n",
       "      <td>4859</td>\n",
       "      <td>664.70</td>\n",
       "      <td>15.78</td>\n",
       "      <td>0</td>\n",
       "      <td>0</td>\n",
       "      <td>24</td>\n",
       "      <td>14</td>\n",
       "      <td>0</td>\n",
       "      <td>0</td>\n",
       "      <td>TCRTA TripShot Schedule</td>\n",
       "      <td>rec4YWVqVwJ9XqDbq</td>\n",
       "      <td>Tulare County Regional Transit Agency</td>\n",
       "      <td>2024-11-13</td>\n",
       "    </tr>\n",
       "  </tbody>\n",
       "</table>\n",
       "</div>"
      ],
      "text/plain": [
       "          schedule_gtfs_dataset_key  operator_n_routes  operator_n_trips  \\\n",
       "0  0139b1253130b33adcd4b3a4490530d2                 25               310   \n",
       "\n",
       "   operator_n_shapes  operator_n_stops  operator_n_arrivals  \\\n",
       "0                132               308                 4859   \n",
       "\n",
       "   operator_route_length_miles  operator_arrivals_per_stop  \\\n",
       "0                       664.70                       15.78   \n",
       "\n",
       "   n_downtown_local_routes  n_local_routes  n_coverage_routes  n_rapid_routes  \\\n",
       "0                        0               0                 24              14   \n",
       "\n",
       "   n_express_routes  n_rail_routes                     name  \\\n",
       "0                 0              0  TCRTA TripShot Schedule   \n",
       "\n",
       "  organization_source_record_id                      organization_name  \\\n",
       "0             rec4YWVqVwJ9XqDbq  Tulare County Regional Transit Agency   \n",
       "\n",
       "  service_date  \n",
       "0   2024-11-13  "
      ]
     },
     "execution_count": 16,
     "metadata": {},
     "output_type": "execute_result"
    }
   ],
   "source": [
    "op_rt_sched_metrics.head(1)"
   ]
  },
  {
   "cell_type": "code",
   "execution_count": 17,
   "id": "239c5867-5fd8-401a-8361-cafc20a213a8",
   "metadata": {},
   "outputs": [],
   "source": [
    "op_rt_sched_metrics = op_rt_sched_metrics.loc[\n",
    "    op_rt_sched_metrics.schedule_gtfs_dataset_key.isin(schd_keys)\n",
    "]"
   ]
  },
  {
   "cell_type": "code",
   "execution_count": 18,
   "id": "0d0dcd8f-bd1d-4778-a526-435b820c0cd4",
   "metadata": {},
   "outputs": [
    {
     "data": {
      "text/html": [
       "<div>\n",
       "<style scoped>\n",
       "    .dataframe tbody tr th:only-of-type {\n",
       "        vertical-align: middle;\n",
       "    }\n",
       "\n",
       "    .dataframe tbody tr th {\n",
       "        vertical-align: top;\n",
       "    }\n",
       "\n",
       "    .dataframe thead th {\n",
       "        text-align: right;\n",
       "    }\n",
       "</style>\n",
       "<table border=\"1\" class=\"dataframe\">\n",
       "  <thead>\n",
       "    <tr style=\"text-align: right;\">\n",
       "      <th></th>\n",
       "      <th>schedule_gtfs_dataset_key</th>\n",
       "      <th>operator_n_routes</th>\n",
       "      <th>operator_n_trips</th>\n",
       "      <th>operator_n_shapes</th>\n",
       "      <th>operator_n_stops</th>\n",
       "      <th>operator_n_arrivals</th>\n",
       "      <th>operator_route_length_miles</th>\n",
       "      <th>operator_arrivals_per_stop</th>\n",
       "      <th>n_downtown_local_routes</th>\n",
       "      <th>n_local_routes</th>\n",
       "      <th>n_coverage_routes</th>\n",
       "      <th>n_rapid_routes</th>\n",
       "      <th>n_express_routes</th>\n",
       "      <th>n_rail_routes</th>\n",
       "      <th>name</th>\n",
       "      <th>organization_source_record_id</th>\n",
       "      <th>organization_name</th>\n",
       "      <th>service_date</th>\n",
       "    </tr>\n",
       "  </thead>\n",
       "  <tbody>\n",
       "    <tr>\n",
       "      <th>178</th>\n",
       "      <td>f5a749dd65924e025b1293c58f95f8d6</td>\n",
       "      <td>3</td>\n",
       "      <td>57</td>\n",
       "      <td>13</td>\n",
       "      <td>20</td>\n",
       "      <td>378</td>\n",
       "      <td>233.57</td>\n",
       "      <td>18.90</td>\n",
       "      <td>0</td>\n",
       "      <td>0</td>\n",
       "      <td>1</td>\n",
       "      <td>0</td>\n",
       "      <td>0</td>\n",
       "      <td>0</td>\n",
       "      <td>Bay Area 511 Capitol Corridor Schedule</td>\n",
       "      <td>recvEBkSBc7UxlarC</td>\n",
       "      <td>Capitol Corridor Joint Powers Authority</td>\n",
       "      <td>2024-11-13</td>\n",
       "    </tr>\n",
       "  </tbody>\n",
       "</table>\n",
       "</div>"
      ],
      "text/plain": [
       "            schedule_gtfs_dataset_key  operator_n_routes  operator_n_trips  \\\n",
       "178  f5a749dd65924e025b1293c58f95f8d6                  3                57   \n",
       "\n",
       "     operator_n_shapes  operator_n_stops  operator_n_arrivals  \\\n",
       "178                 13                20                  378   \n",
       "\n",
       "     operator_route_length_miles  operator_arrivals_per_stop  \\\n",
       "178                       233.57                       18.90   \n",
       "\n",
       "     n_downtown_local_routes  n_local_routes  n_coverage_routes  \\\n",
       "178                        0               0                  1   \n",
       "\n",
       "     n_rapid_routes  n_express_routes  n_rail_routes  \\\n",
       "178               0                 0              0   \n",
       "\n",
       "                                       name organization_source_record_id  \\\n",
       "178  Bay Area 511 Capitol Corridor Schedule             recvEBkSBc7UxlarC   \n",
       "\n",
       "                           organization_name service_date  \n",
       "178  Capitol Corridor Joint Powers Authority   2024-11-13  "
      ]
     },
     "execution_count": 18,
     "metadata": {},
     "output_type": "execute_result"
    }
   ],
   "source": [
    "op_rt_sched_metrics"
   ]
  },
  {
   "cell_type": "markdown",
   "id": "110dc101-61ec-413f-9d1a-223ecd485a65",
   "metadata": {},
   "source": [
    "#### File I need to correct is in `data-analyses/gtfs_funnel/operator_scheduled_stats.py`"
   ]
  },
  {
   "cell_type": "code",
   "execution_count": 19,
   "id": "ee1a3041-7cfd-4d10-b746-d01a82889cc5",
   "metadata": {},
   "outputs": [
    {
     "data": {
      "text/plain": [
       "'operator_profiles/operator_scheduled_stats'"
      ]
     },
     "execution_count": 19,
     "metadata": {},
     "output_type": "execute_result"
    }
   ],
   "source": [
    "GTFS_DATA_DICT.schedule_tables.operator_scheduled_stats"
   ]
  },
  {
   "cell_type": "code",
   "execution_count": 20,
   "id": "22203ab7-da5c-44ab-99a8-83b05987b024",
   "metadata": {},
   "outputs": [],
   "source": [
    "ROUTE_TYPOLOGY = GTFS_DATA_DICT.schedule_tables.route_typologies"
   ]
  },
  {
   "cell_type": "markdown",
   "id": "07419381-8ef9-45ba-bd6d-4b7358cc1e1d",
   "metadata": {},
   "source": [
    "#### I thought I ran this yesterday"
   ]
  },
  {
   "cell_type": "code",
   "execution_count": 21,
   "id": "0b19a8c2-556e-438a-a158-231c02bda43b",
   "metadata": {},
   "outputs": [],
   "source": [
    "route_typology = pd.read_parquet(f\"{SCHED_GCS}{ROUTE_TYPOLOGY}_{analysis_date}.parquet\")"
   ]
  },
  {
   "cell_type": "code",
   "execution_count": 22,
   "id": "002a30b0-1b9b-4443-a255-d074731566d5",
   "metadata": {},
   "outputs": [
    {
     "data": {
      "text/plain": [
       "'2024-11-13'"
      ]
     },
     "execution_count": 22,
     "metadata": {},
     "output_type": "execute_result"
    }
   ],
   "source": [
    "analysis_date"
   ]
  },
  {
   "cell_type": "code",
   "execution_count": 23,
   "id": "c58e246d-e013-4c32-9ad7-e49457c677cb",
   "metadata": {},
   "outputs": [],
   "source": [
    "route_typology = route_typology.loc[route_typology.name.isin(name_list)]"
   ]
  },
  {
   "cell_type": "code",
   "execution_count": 24,
   "id": "13b3fcc3-7181-4a40-b2bb-50d9dfe609d9",
   "metadata": {},
   "outputs": [
    {
     "data": {
      "text/html": [
       "<div>\n",
       "<style scoped>\n",
       "    .dataframe tbody tr th:only-of-type {\n",
       "        vertical-align: middle;\n",
       "    }\n",
       "\n",
       "    .dataframe tbody tr th {\n",
       "        vertical-align: top;\n",
       "    }\n",
       "\n",
       "    .dataframe thead th {\n",
       "        text-align: right;\n",
       "    }\n",
       "</style>\n",
       "<table border=\"1\" class=\"dataframe\">\n",
       "  <thead>\n",
       "    <tr style=\"text-align: right;\">\n",
       "      <th></th>\n",
       "      <th>schedule_gtfs_dataset_key</th>\n",
       "      <th>name</th>\n",
       "      <th>route_type</th>\n",
       "      <th>route_id</th>\n",
       "      <th>route_long_name</th>\n",
       "      <th>route_short_name</th>\n",
       "      <th>combined_name</th>\n",
       "      <th>is_express</th>\n",
       "      <th>is_rapid</th>\n",
       "      <th>is_rail</th>\n",
       "      <th>is_local</th>\n",
       "      <th>direction_id</th>\n",
       "      <th>common_shape_id</th>\n",
       "      <th>route_name</th>\n",
       "      <th>route_meters</th>\n",
       "      <th>is_coverage</th>\n",
       "      <th>is_downtown_local</th>\n",
       "    </tr>\n",
       "  </thead>\n",
       "  <tbody>\n",
       "    <tr>\n",
       "      <th>1505</th>\n",
       "      <td>f5a749dd65924e025b1293c58f95f8d6</td>\n",
       "      <td>Bay Area 511 Capitol Corridor Schedule</td>\n",
       "      <td>3</td>\n",
       "      <td>Shuttle</td>\n",
       "      <td>Shuttle_Auburn</td>\n",
       "      <td>Shuttle</td>\n",
       "      <td>Shuttle__Shuttle_Auburn</td>\n",
       "      <td>0</td>\n",
       "      <td>0</td>\n",
       "      <td>0</td>\n",
       "      <td>0</td>\n",
       "      <td>1.00</td>\n",
       "      <td>104dc91b-4f7b-4f93-bea2-ebfe9adabcf3</td>\n",
       "      <td>Shuttle to Auburn</td>\n",
       "      <td>60220.51</td>\n",
       "      <td>1</td>\n",
       "      <td>0</td>\n",
       "    </tr>\n",
       "  </tbody>\n",
       "</table>\n",
       "</div>"
      ],
      "text/plain": [
       "             schedule_gtfs_dataset_key  \\\n",
       "1505  f5a749dd65924e025b1293c58f95f8d6   \n",
       "\n",
       "                                        name route_type route_id  \\\n",
       "1505  Bay Area 511 Capitol Corridor Schedule          3  Shuttle   \n",
       "\n",
       "     route_long_name route_short_name            combined_name  is_express  \\\n",
       "1505  Shuttle_Auburn          Shuttle  Shuttle__Shuttle_Auburn           0   \n",
       "\n",
       "      is_rapid  is_rail  is_local  direction_id  \\\n",
       "1505         0        0         0          1.00   \n",
       "\n",
       "                           common_shape_id         route_name  route_meters  \\\n",
       "1505  104dc91b-4f7b-4f93-bea2-ebfe9adabcf3  Shuttle to Auburn      60220.51   \n",
       "\n",
       "      is_coverage  is_downtown_local  \n",
       "1505            1                  0  "
      ]
     },
     "execution_count": 24,
     "metadata": {},
     "output_type": "execute_result"
    }
   ],
   "source": [
    "route_typology"
   ]
  },
  {
   "cell_type": "code",
   "execution_count": null,
   "id": "d160492d-e74c-4055-88cd-38666ecb26f6",
   "metadata": {},
   "outputs": [],
   "source": []
  },
  {
   "cell_type": "markdown",
   "id": "0256ab5b-1e21-4e11-b37e-f17f1a6f22a5",
   "metadata": {},
   "source": [
    "### Only one route appears."
   ]
  },
  {
   "cell_type": "markdown",
   "id": "47f7416a-050c-4155-afad-9f66d317a38a",
   "metadata": {},
   "source": [
    "### Check out `gtfs_funnel/route_typologies/categorize_routes_by_name`\n",
    "* 3 routes appear. One is rail.\n",
    "* All 3 routes are retained until the end."
   ]
  },
  {
   "cell_type": "code",
   "execution_count": 25,
   "id": "e0e879c1-c8a7-406b-8f1e-ee13c674266e",
   "metadata": {},
   "outputs": [],
   "source": [
    "df = helpers.import_scheduled_trips(\n",
    "    analysis_date,\n",
    "    columns=[\n",
    "        \"gtfs_dataset_key\",\n",
    "        \"name\",\n",
    "        \"route_type\",\n",
    "        \"route_id\",\n",
    "        \"route_long_name\",\n",
    "        \"route_short_name\",\n",
    "    ],\n",
    "    get_pandas=True,\n",
    ")"
   ]
  },
  {
   "cell_type": "code",
   "execution_count": 26,
   "id": "04170ee3-7bde-4ebb-a7c7-a906658d962d",
   "metadata": {},
   "outputs": [],
   "source": [
    "df = df.loc[df.name.isin(name_list)]"
   ]
  },
  {
   "cell_type": "code",
   "execution_count": 27,
   "id": "6d7e7894-79a6-43ee-8974-7715629c3118",
   "metadata": {},
   "outputs": [],
   "source": [
    "df = df.assign(\n",
    "    route_id=df.route_id.fillna(\"\"),\n",
    "    route_short_name=df.route_short_name.fillna(\"\"),\n",
    "    route_long_name=df.route_long_name.fillna(\"\"),\n",
    ")"
   ]
  },
  {
   "cell_type": "code",
   "execution_count": 28,
   "id": "8e3c0b66-c6cb-4819-a1a2-c138ee505fa9",
   "metadata": {},
   "outputs": [],
   "source": [
    "df = df.assign(combined_name=df.route_short_name + \"__\" + df.route_long_name)"
   ]
  },
  {
   "cell_type": "code",
   "execution_count": 29,
   "id": "c056d5d0-eec3-4326-8ef3-e6344ac0a105",
   "metadata": {},
   "outputs": [
    {
     "data": {
      "text/html": [
       "<div>\n",
       "<style scoped>\n",
       "    .dataframe tbody tr th:only-of-type {\n",
       "        vertical-align: middle;\n",
       "    }\n",
       "\n",
       "    .dataframe tbody tr th {\n",
       "        vertical-align: top;\n",
       "    }\n",
       "\n",
       "    .dataframe thead th {\n",
       "        text-align: right;\n",
       "    }\n",
       "</style>\n",
       "<table border=\"1\" class=\"dataframe\">\n",
       "  <thead>\n",
       "    <tr style=\"text-align: right;\">\n",
       "      <th></th>\n",
       "      <th>schedule_gtfs_dataset_key</th>\n",
       "      <th>name</th>\n",
       "      <th>route_type</th>\n",
       "      <th>route_id</th>\n",
       "      <th>route_long_name</th>\n",
       "      <th>route_short_name</th>\n",
       "      <th>combined_name</th>\n",
       "    </tr>\n",
       "  </thead>\n",
       "  <tbody>\n",
       "    <tr>\n",
       "      <th>1122</th>\n",
       "      <td>f5a749dd65924e025b1293c58f95f8d6</td>\n",
       "      <td>Bay Area 511 Capitol Corridor Schedule</td>\n",
       "      <td>3</td>\n",
       "      <td>Shuttle</td>\n",
       "      <td>Shuttle_Auburn</td>\n",
       "      <td>Shuttle</td>\n",
       "      <td>Shuttle__Shuttle_Auburn</td>\n",
       "    </tr>\n",
       "    <tr>\n",
       "      <th>1123</th>\n",
       "      <td>f5a749dd65924e025b1293c58f95f8d6</td>\n",
       "      <td>Bay Area 511 Capitol Corridor Schedule</td>\n",
       "      <td>3</td>\n",
       "      <td>SF</td>\n",
       "      <td>Shuttle_SF</td>\n",
       "      <td>SF</td>\n",
       "      <td>SF__Shuttle_SF</td>\n",
       "    </tr>\n",
       "    <tr>\n",
       "      <th>1124</th>\n",
       "      <td>f5a749dd65924e025b1293c58f95f8d6</td>\n",
       "      <td>Bay Area 511 Capitol Corridor Schedule</td>\n",
       "      <td>2</td>\n",
       "      <td>CC</td>\n",
       "      <td>Capitol Corridor</td>\n",
       "      <td>CC</td>\n",
       "      <td>CC__Capitol Corridor</td>\n",
       "    </tr>\n",
       "  </tbody>\n",
       "</table>\n",
       "</div>"
      ],
      "text/plain": [
       "             schedule_gtfs_dataset_key  \\\n",
       "1122  f5a749dd65924e025b1293c58f95f8d6   \n",
       "1123  f5a749dd65924e025b1293c58f95f8d6   \n",
       "1124  f5a749dd65924e025b1293c58f95f8d6   \n",
       "\n",
       "                                        name route_type route_id  \\\n",
       "1122  Bay Area 511 Capitol Corridor Schedule          3  Shuttle   \n",
       "1123  Bay Area 511 Capitol Corridor Schedule          3       SF   \n",
       "1124  Bay Area 511 Capitol Corridor Schedule          2       CC   \n",
       "\n",
       "       route_long_name route_short_name            combined_name  \n",
       "1122    Shuttle_Auburn          Shuttle  Shuttle__Shuttle_Auburn  \n",
       "1123        Shuttle_SF               SF           SF__Shuttle_SF  \n",
       "1124  Capitol Corridor               CC     CC__Capitol Corridor  "
      ]
     },
     "execution_count": 29,
     "metadata": {},
     "output_type": "execute_result"
    }
   ],
   "source": [
    "df"
   ]
  },
  {
   "cell_type": "code",
   "execution_count": 30,
   "id": "787ac861-87d5-419b-a3cb-1003d1ec64e0",
   "metadata": {},
   "outputs": [],
   "source": [
    "def tag_rapid_express_rail(route_name_string: str, route_type_string: str) -> pd.Series:\n",
    "    \"\"\"\n",
    "    Use the combined route_name and see if we can\n",
    "    tag out words that indicate the route is\n",
    "    express, rapid, local, and rail.\n",
    "\n",
    "    Treat rail as own category.\n",
    "    For local routes, we'll pass that through NACTO to see\n",
    "    if we can better categorize as downtown_local, local, or coverage.\n",
    "    \"\"\"\n",
    "    route_name_string = route_name_string.lower()\n",
    "\n",
    "    express = 0\n",
    "    rapid = 0\n",
    "    rail = 0\n",
    "\n",
    "    if any(substring in route_name_string for substring in [\"express\", \"limited\"]):\n",
    "        express = 1\n",
    "    if \"rapid\" in route_name_string:\n",
    "        rapid = 1\n",
    "\n",
    "    rail_types = [\"0\", \"1\", \"2\", \"5\", \"6\", \"7\", \"11\", \"12\"]\n",
    "    if route_type_string in rail_types:\n",
    "        rail = 1\n",
    "\n",
    "    return pd.Series(\n",
    "        [express, rapid, rail], index=[\"is_express\", \"is_rapid\", \"is_rail\"]\n",
    "    )"
   ]
  },
  {
   "cell_type": "markdown",
   "id": "9012828f-4c58-400b-a623-9916a25370bd",
   "metadata": {},
   "source": [
    "I think you'd want to separate rail from the other types before the filtering.\n",
    "Rail is always tagged here.\n",
    "The other types that run on roads can have multiple types per route (a bus that runs partway in downtown, partway on local roads, etc). The filtering for typology gets at what might be the most common typologies present (over 10% of the route), and then allows 2 typologies to remain...primary/secondary typology by the end of the script. You can take a look at the relative proportions...but sometimes there's no clear plurality. Feel free to adjust the thresholds for what makes sense, 10% is fairly loose, but you might find dropping it to 5% leaves you with too many rows per route-dir. Find the balance!\n",
    "The intermediate output produced in this step is: GTFS_DATA_DICT.schedule_tables.route_typologies , and you would be able to control how you want that column to be flagged as an independent table before you merge to GTFS digest without rerunning everything."
   ]
  },
  {
   "cell_type": "code",
   "execution_count": 31,
   "id": "7e00497d-fb33-4baf-b172-e6aa7edba24b",
   "metadata": {},
   "outputs": [],
   "source": [
    "typology_tags = df.apply(\n",
    "    lambda x: tag_rapid_express_rail(x.combined_name, x.route_type), axis=1\n",
    ")"
   ]
  },
  {
   "cell_type": "code",
   "execution_count": 32,
   "id": "fce08d5d-5781-4ca4-a35c-5e9ec0cfaf06",
   "metadata": {
    "tags": []
   },
   "outputs": [
    {
     "data": {
      "text/plain": [
       "(3, 3)"
      ]
     },
     "execution_count": 32,
     "metadata": {},
     "output_type": "execute_result"
    }
   ],
   "source": [
    "typology_tags.shape"
   ]
  },
  {
   "cell_type": "code",
   "execution_count": 33,
   "id": "4520889e-27d1-437c-adf1-8c359184254e",
   "metadata": {
    "tags": []
   },
   "outputs": [
    {
     "data": {
      "text/html": [
       "<div>\n",
       "<style scoped>\n",
       "    .dataframe tbody tr th:only-of-type {\n",
       "        vertical-align: middle;\n",
       "    }\n",
       "\n",
       "    .dataframe tbody tr th {\n",
       "        vertical-align: top;\n",
       "    }\n",
       "\n",
       "    .dataframe thead th {\n",
       "        text-align: right;\n",
       "    }\n",
       "</style>\n",
       "<table border=\"1\" class=\"dataframe\">\n",
       "  <thead>\n",
       "    <tr style=\"text-align: right;\">\n",
       "      <th></th>\n",
       "      <th>is_express</th>\n",
       "      <th>is_rapid</th>\n",
       "      <th>is_rail</th>\n",
       "    </tr>\n",
       "  </thead>\n",
       "  <tbody>\n",
       "    <tr>\n",
       "      <th>1122</th>\n",
       "      <td>0</td>\n",
       "      <td>0</td>\n",
       "      <td>0</td>\n",
       "    </tr>\n",
       "    <tr>\n",
       "      <th>1123</th>\n",
       "      <td>0</td>\n",
       "      <td>0</td>\n",
       "      <td>0</td>\n",
       "    </tr>\n",
       "    <tr>\n",
       "      <th>1124</th>\n",
       "      <td>0</td>\n",
       "      <td>0</td>\n",
       "      <td>1</td>\n",
       "    </tr>\n",
       "  </tbody>\n",
       "</table>\n",
       "</div>"
      ],
      "text/plain": [
       "      is_express  is_rapid  is_rail\n",
       "1122           0         0        0\n",
       "1123           0         0        0\n",
       "1124           0         0        1"
      ]
     },
     "execution_count": 33,
     "metadata": {},
     "output_type": "execute_result"
    }
   ],
   "source": [
    "typology_tags"
   ]
  },
  {
   "cell_type": "code",
   "execution_count": 34,
   "id": "82613d2d-cf73-4b61-aed0-235c08cafd74",
   "metadata": {},
   "outputs": [],
   "source": [
    "df2 = pd.concat([df, typology_tags], axis=1)"
   ]
  },
  {
   "cell_type": "code",
   "execution_count": 35,
   "id": "1480d02f-c1a5-4207-a9d4-6cd088773e16",
   "metadata": {
    "tags": []
   },
   "outputs": [
    {
     "data": {
      "text/html": [
       "<div>\n",
       "<style scoped>\n",
       "    .dataframe tbody tr th:only-of-type {\n",
       "        vertical-align: middle;\n",
       "    }\n",
       "\n",
       "    .dataframe tbody tr th {\n",
       "        vertical-align: top;\n",
       "    }\n",
       "\n",
       "    .dataframe thead th {\n",
       "        text-align: right;\n",
       "    }\n",
       "</style>\n",
       "<table border=\"1\" class=\"dataframe\">\n",
       "  <thead>\n",
       "    <tr style=\"text-align: right;\">\n",
       "      <th></th>\n",
       "      <th>schedule_gtfs_dataset_key</th>\n",
       "      <th>name</th>\n",
       "      <th>route_type</th>\n",
       "      <th>route_id</th>\n",
       "      <th>route_long_name</th>\n",
       "      <th>route_short_name</th>\n",
       "      <th>combined_name</th>\n",
       "      <th>is_express</th>\n",
       "      <th>is_rapid</th>\n",
       "      <th>is_rail</th>\n",
       "    </tr>\n",
       "  </thead>\n",
       "  <tbody>\n",
       "    <tr>\n",
       "      <th>1122</th>\n",
       "      <td>f5a749dd65924e025b1293c58f95f8d6</td>\n",
       "      <td>Bay Area 511 Capitol Corridor Schedule</td>\n",
       "      <td>3</td>\n",
       "      <td>Shuttle</td>\n",
       "      <td>Shuttle_Auburn</td>\n",
       "      <td>Shuttle</td>\n",
       "      <td>Shuttle__Shuttle_Auburn</td>\n",
       "      <td>0</td>\n",
       "      <td>0</td>\n",
       "      <td>0</td>\n",
       "    </tr>\n",
       "    <tr>\n",
       "      <th>1123</th>\n",
       "      <td>f5a749dd65924e025b1293c58f95f8d6</td>\n",
       "      <td>Bay Area 511 Capitol Corridor Schedule</td>\n",
       "      <td>3</td>\n",
       "      <td>SF</td>\n",
       "      <td>Shuttle_SF</td>\n",
       "      <td>SF</td>\n",
       "      <td>SF__Shuttle_SF</td>\n",
       "      <td>0</td>\n",
       "      <td>0</td>\n",
       "      <td>0</td>\n",
       "    </tr>\n",
       "    <tr>\n",
       "      <th>1124</th>\n",
       "      <td>f5a749dd65924e025b1293c58f95f8d6</td>\n",
       "      <td>Bay Area 511 Capitol Corridor Schedule</td>\n",
       "      <td>2</td>\n",
       "      <td>CC</td>\n",
       "      <td>Capitol Corridor</td>\n",
       "      <td>CC</td>\n",
       "      <td>CC__Capitol Corridor</td>\n",
       "      <td>0</td>\n",
       "      <td>0</td>\n",
       "      <td>1</td>\n",
       "    </tr>\n",
       "  </tbody>\n",
       "</table>\n",
       "</div>"
      ],
      "text/plain": [
       "             schedule_gtfs_dataset_key  \\\n",
       "1122  f5a749dd65924e025b1293c58f95f8d6   \n",
       "1123  f5a749dd65924e025b1293c58f95f8d6   \n",
       "1124  f5a749dd65924e025b1293c58f95f8d6   \n",
       "\n",
       "                                        name route_type route_id  \\\n",
       "1122  Bay Area 511 Capitol Corridor Schedule          3  Shuttle   \n",
       "1123  Bay Area 511 Capitol Corridor Schedule          3       SF   \n",
       "1124  Bay Area 511 Capitol Corridor Schedule          2       CC   \n",
       "\n",
       "       route_long_name route_short_name            combined_name  is_express  \\\n",
       "1122    Shuttle_Auburn          Shuttle  Shuttle__Shuttle_Auburn           0   \n",
       "1123        Shuttle_SF               SF           SF__Shuttle_SF           0   \n",
       "1124  Capitol Corridor               CC     CC__Capitol Corridor           0   \n",
       "\n",
       "      is_rapid  is_rail  \n",
       "1122         0        0  \n",
       "1123         0        0  \n",
       "1124         0        1  "
      ]
     },
     "execution_count": 35,
     "metadata": {},
     "output_type": "execute_result"
    }
   ],
   "source": [
    "df2"
   ]
  },
  {
   "cell_type": "code",
   "execution_count": 36,
   "id": "2d67f0c0-7f98-478d-9b5e-e90ac193b008",
   "metadata": {},
   "outputs": [],
   "source": [
    "df2 = df2.assign(\n",
    "    is_local=df2.apply(\n",
    "        lambda x: 1\n",
    "        if (x.is_express == 0) and (x.is_rapid == 0) and (x.is_rail == 0)\n",
    "        else 0,\n",
    "        axis=1,\n",
    "    ).astype(int)\n",
    ")"
   ]
  },
  {
   "cell_type": "markdown",
   "id": "8cc27587-a8f7-4d12-afb6-3bd6914f53d8",
   "metadata": {},
   "source": [
    "### Grab rail routes"
   ]
  },
  {
   "cell_type": "code",
   "execution_count": 92,
   "id": "b6782301-3867-4467-9404-7e59e460b561",
   "metadata": {
    "tags": []
   },
   "outputs": [],
   "source": [
    "rail_routes = df2.loc[df2.is_rail == 1][[\"route_id\",\"schedule_gtfs_dataset_key\"]].drop_duplicates()"
   ]
  },
  {
   "cell_type": "code",
   "execution_count": 93,
   "id": "d9bfd63c-d416-47ba-91ea-e3e623eeb7c1",
   "metadata": {
    "tags": []
   },
   "outputs": [
    {
     "data": {
      "text/html": [
       "<div>\n",
       "<style scoped>\n",
       "    .dataframe tbody tr th:only-of-type {\n",
       "        vertical-align: middle;\n",
       "    }\n",
       "\n",
       "    .dataframe tbody tr th {\n",
       "        vertical-align: top;\n",
       "    }\n",
       "\n",
       "    .dataframe thead th {\n",
       "        text-align: right;\n",
       "    }\n",
       "</style>\n",
       "<table border=\"1\" class=\"dataframe\">\n",
       "  <thead>\n",
       "    <tr style=\"text-align: right;\">\n",
       "      <th></th>\n",
       "      <th>route_id</th>\n",
       "      <th>schedule_gtfs_dataset_key</th>\n",
       "    </tr>\n",
       "  </thead>\n",
       "  <tbody>\n",
       "    <tr>\n",
       "      <th>1124</th>\n",
       "      <td>CC</td>\n",
       "      <td>f5a749dd65924e025b1293c58f95f8d6</td>\n",
       "    </tr>\n",
       "  </tbody>\n",
       "</table>\n",
       "</div>"
      ],
      "text/plain": [
       "     route_id         schedule_gtfs_dataset_key\n",
       "1124       CC  f5a749dd65924e025b1293c58f95f8d6"
      ]
     },
     "execution_count": 93,
     "metadata": {},
     "output_type": "execute_result"
    }
   ],
   "source": [
    "rail_routes"
   ]
  },
  {
   "cell_type": "markdown",
   "id": "045c6eda-ba36-40b6-8e66-b31b1ce88c4a",
   "metadata": {},
   "source": [
    "### `prep_roads`"
   ]
  },
  {
   "cell_type": "code",
   "execution_count": 37,
   "id": "e6a009ce-34bd-425e-acde-394402c9a5f3",
   "metadata": {},
   "outputs": [],
   "source": [
    "roads = route_typologies.prep_roads(GTFS_DATA_DICT)"
   ]
  },
  {
   "cell_type": "markdown",
   "id": "df937a55-1b88-4921-9204-077c65b20f8e",
   "metadata": {},
   "source": [
    "### `overlay_shapes_to_roads`\n",
    "* The other 2 routes disappear here. \n",
    "* Break it out here. "
   ]
  },
  {
   "cell_type": "code",
   "execution_count": 38,
   "id": "76270a4f-1513-4624-9dd3-0dbc1cb4d678",
   "metadata": {},
   "outputs": [],
   "source": [
    "ROAD_BUFFER_METERS = 20"
   ]
  },
  {
   "cell_type": "markdown",
   "id": "bdbb14e3-2235-48a0-90a8-370e4d0ebbec",
   "metadata": {},
   "source": [
    "#### `common_shape` doesn't have the rail routes -> go to `segment_speed_utils/gtfs_schedule_wrangling` to find it."
   ]
  },
  {
   "cell_type": "code",
   "execution_count": 39,
   "id": "2bbb09f1-5db1-4e99-84d9-e46b50086ccd",
   "metadata": {},
   "outputs": [],
   "source": [
    "route_dir_cols = [\"gtfs_dataset_key\", \"route_id\", \"direction_id\"]\n",
    "\n",
    "keep_trip_cols = route_dir_cols + [\"trip_instance_key\", \"shape_id\", \"shape_array_key\"]\n",
    "\n",
    "trips = helpers.import_scheduled_trips(\n",
    "    analysis_date, columns=keep_trip_cols, get_pandas=True\n",
    ").rename(columns={\"schedule_gtfs_dataset_key\": \"gtfs_dataset_key\"})\n",
    "sorting_order = [True for i in route_dir_cols]"
   ]
  },
  {
   "cell_type": "code",
   "execution_count": 40,
   "id": "619421fd-056e-479a-9348-87cee1eb1316",
   "metadata": {},
   "outputs": [],
   "source": [
    "trips = trips.loc[trips.gtfs_dataset_key.isin(schd_keys)]"
   ]
  },
  {
   "cell_type": "markdown",
   "id": "9b80a9b2-773b-4d0a-91c7-935d0dae9946",
   "metadata": {},
   "source": [
    "#### `CC` is the rail."
   ]
  },
  {
   "cell_type": "code",
   "execution_count": 41,
   "id": "cbc36cfb-3fb6-467f-9dc8-ff2697b9a4b3",
   "metadata": {},
   "outputs": [
    {
     "data": {
      "text/html": [
       "<div>\n",
       "<style scoped>\n",
       "    .dataframe tbody tr th:only-of-type {\n",
       "        vertical-align: middle;\n",
       "    }\n",
       "\n",
       "    .dataframe tbody tr th {\n",
       "        vertical-align: top;\n",
       "    }\n",
       "\n",
       "    .dataframe thead th {\n",
       "        text-align: right;\n",
       "    }\n",
       "</style>\n",
       "<table border=\"1\" class=\"dataframe\">\n",
       "  <thead>\n",
       "    <tr style=\"text-align: right;\">\n",
       "      <th></th>\n",
       "      <th>route_id</th>\n",
       "    </tr>\n",
       "  </thead>\n",
       "  <tbody>\n",
       "    <tr>\n",
       "      <th>17474</th>\n",
       "      <td>Shuttle</td>\n",
       "    </tr>\n",
       "    <tr>\n",
       "      <th>17475</th>\n",
       "      <td>SF</td>\n",
       "    </tr>\n",
       "    <tr>\n",
       "      <th>17491</th>\n",
       "      <td>CC</td>\n",
       "    </tr>\n",
       "  </tbody>\n",
       "</table>\n",
       "</div>"
      ],
      "text/plain": [
       "      route_id\n",
       "17474  Shuttle\n",
       "17475       SF\n",
       "17491       CC"
      ]
     },
     "execution_count": 41,
     "metadata": {},
     "output_type": "execute_result"
    }
   ],
   "source": [
    "trips[[\"route_id\"]].drop_duplicates()"
   ]
  },
  {
   "cell_type": "code",
   "execution_count": 42,
   "id": "b630c880-573b-4441-b166-dffbbc8c75c7",
   "metadata": {},
   "outputs": [],
   "source": [
    "most_common_shape = (\n",
    "    trips.groupby(\n",
    "        route_dir_cols + [\"shape_id\", \"shape_array_key\"],\n",
    "        observed=True,\n",
    "        group_keys=False,\n",
    "        dropna=False,\n",
    "    )\n",
    "    .agg({\"trip_instance_key\": \"count\"})\n",
    "    .reset_index()\n",
    "    .sort_values(\n",
    "        route_dir_cols + [\"trip_instance_key\"], ascending=sorting_order + [False]\n",
    "    )\n",
    "    .drop_duplicates(subset=route_dir_cols)\n",
    "    .reset_index(drop=True)[route_dir_cols + [\"shape_id\", \"shape_array_key\"]]\n",
    ").rename(\n",
    "    columns={\n",
    "        \"gtfs_dataset_key\": \"schedule_gtfs_dataset_key\",\n",
    "        \"shape_id\": \"common_shape_id\",\n",
    "    }\n",
    ")"
   ]
  },
  {
   "cell_type": "code",
   "execution_count": 43,
   "id": "b3f6f30d-e9d6-4afc-855a-48a9e8736dec",
   "metadata": {},
   "outputs": [
    {
     "data": {
      "text/html": [
       "<div>\n",
       "<style scoped>\n",
       "    .dataframe tbody tr th:only-of-type {\n",
       "        vertical-align: middle;\n",
       "    }\n",
       "\n",
       "    .dataframe tbody tr th {\n",
       "        vertical-align: top;\n",
       "    }\n",
       "\n",
       "    .dataframe thead th {\n",
       "        text-align: right;\n",
       "    }\n",
       "</style>\n",
       "<table border=\"1\" class=\"dataframe\">\n",
       "  <thead>\n",
       "    <tr style=\"text-align: right;\">\n",
       "      <th></th>\n",
       "      <th>route_id</th>\n",
       "    </tr>\n",
       "  </thead>\n",
       "  <tbody>\n",
       "    <tr>\n",
       "      <th>0</th>\n",
       "      <td>CC</td>\n",
       "    </tr>\n",
       "    <tr>\n",
       "      <th>2</th>\n",
       "      <td>SF</td>\n",
       "    </tr>\n",
       "    <tr>\n",
       "      <th>4</th>\n",
       "      <td>Shuttle</td>\n",
       "    </tr>\n",
       "  </tbody>\n",
       "</table>\n",
       "</div>"
      ],
      "text/plain": [
       "  route_id\n",
       "0       CC\n",
       "2       SF\n",
       "4  Shuttle"
      ]
     },
     "execution_count": 43,
     "metadata": {},
     "output_type": "execute_result"
    }
   ],
   "source": [
    "most_common_shape[[\"route_id\"]].drop_duplicates()"
   ]
  },
  {
   "cell_type": "code",
   "execution_count": 44,
   "id": "69d9448b-a1a6-4a81-af4f-d6a209b54d37",
   "metadata": {},
   "outputs": [],
   "source": [
    "shape_geom = helpers.import_scheduled_shapes(\n",
    "    analysis_date,\n",
    "    columns=[\"shape_array_key\", \"geometry\"],\n",
    ")"
   ]
  },
  {
   "cell_type": "code",
   "execution_count": 45,
   "id": "cd534407-714a-4c7d-a222-aa2ddc6139f4",
   "metadata": {},
   "outputs": [],
   "source": [
    "common_shape_geom = pd.merge(\n",
    "    shape_geom, most_common_shape, on=\"shape_array_key\", how=\"inner\"\n",
    ").drop(columns=\"shape_array_key\")"
   ]
  },
  {
   "cell_type": "code",
   "execution_count": 46,
   "id": "c1ebd4bb-f28e-4e54-b9e9-d20b766c813d",
   "metadata": {},
   "outputs": [
    {
     "data": {
      "text/html": [
       "<div>\n",
       "<style scoped>\n",
       "    .dataframe tbody tr th:only-of-type {\n",
       "        vertical-align: middle;\n",
       "    }\n",
       "\n",
       "    .dataframe tbody tr th {\n",
       "        vertical-align: top;\n",
       "    }\n",
       "\n",
       "    .dataframe thead th {\n",
       "        text-align: right;\n",
       "    }\n",
       "</style>\n",
       "<table border=\"1\" class=\"dataframe\">\n",
       "  <thead>\n",
       "    <tr style=\"text-align: right;\">\n",
       "      <th></th>\n",
       "      <th>schedule_gtfs_dataset_key</th>\n",
       "      <th>route_id</th>\n",
       "      <th>direction_id</th>\n",
       "      <th>common_shape_id</th>\n",
       "    </tr>\n",
       "  </thead>\n",
       "  <tbody>\n",
       "    <tr>\n",
       "      <th>0</th>\n",
       "      <td>f5a749dd65924e025b1293c58f95f8d6</td>\n",
       "      <td>CC</td>\n",
       "      <td>1.00</td>\n",
       "      <td>92232e9e-55e8-4f8a-bb86-1aeb515be83e</td>\n",
       "    </tr>\n",
       "    <tr>\n",
       "      <th>1</th>\n",
       "      <td>f5a749dd65924e025b1293c58f95f8d6</td>\n",
       "      <td>CC</td>\n",
       "      <td>0.00</td>\n",
       "      <td>5cf6811a-2f53-4199-b315-4408eb816e82</td>\n",
       "    </tr>\n",
       "    <tr>\n",
       "      <th>2</th>\n",
       "      <td>f5a749dd65924e025b1293c58f95f8d6</td>\n",
       "      <td>Shuttle</td>\n",
       "      <td>1.00</td>\n",
       "      <td>104dc91b-4f7b-4f93-bea2-ebfe9adabcf3</td>\n",
       "    </tr>\n",
       "    <tr>\n",
       "      <th>3</th>\n",
       "      <td>f5a749dd65924e025b1293c58f95f8d6</td>\n",
       "      <td>Shuttle</td>\n",
       "      <td>0.00</td>\n",
       "      <td>e70e22aa-8bb7-44eb-b12c-f98aeb8f61b7</td>\n",
       "    </tr>\n",
       "    <tr>\n",
       "      <th>4</th>\n",
       "      <td>f5a749dd65924e025b1293c58f95f8d6</td>\n",
       "      <td>SF</td>\n",
       "      <td>1.00</td>\n",
       "      <td>ejnn</td>\n",
       "    </tr>\n",
       "    <tr>\n",
       "      <th>5</th>\n",
       "      <td>f5a749dd65924e025b1293c58f95f8d6</td>\n",
       "      <td>SF</td>\n",
       "      <td>0.00</td>\n",
       "      <td>cpz2</td>\n",
       "    </tr>\n",
       "  </tbody>\n",
       "</table>\n",
       "</div>"
      ],
      "text/plain": [
       "          schedule_gtfs_dataset_key route_id  direction_id  \\\n",
       "0  f5a749dd65924e025b1293c58f95f8d6       CC          1.00   \n",
       "1  f5a749dd65924e025b1293c58f95f8d6       CC          0.00   \n",
       "2  f5a749dd65924e025b1293c58f95f8d6  Shuttle          1.00   \n",
       "3  f5a749dd65924e025b1293c58f95f8d6  Shuttle          0.00   \n",
       "4  f5a749dd65924e025b1293c58f95f8d6       SF          1.00   \n",
       "5  f5a749dd65924e025b1293c58f95f8d6       SF          0.00   \n",
       "\n",
       "                        common_shape_id  \n",
       "0  92232e9e-55e8-4f8a-bb86-1aeb515be83e  \n",
       "1  5cf6811a-2f53-4199-b315-4408eb816e82  \n",
       "2  104dc91b-4f7b-4f93-bea2-ebfe9adabcf3  \n",
       "3  e70e22aa-8bb7-44eb-b12c-f98aeb8f61b7  \n",
       "4                                  ejnn  \n",
       "5                                  cpz2  "
      ]
     },
     "execution_count": 46,
     "metadata": {},
     "output_type": "execute_result"
    }
   ],
   "source": [
    "common_shape_geom.drop(columns=[\"geometry\"])"
   ]
  },
  {
   "cell_type": "code",
   "execution_count": 47,
   "id": "403a091f-0cac-4bc5-b851-dbc71ec74644",
   "metadata": {},
   "outputs": [],
   "source": [
    "route_info = (\n",
    "    helpers.import_scheduled_trips(\n",
    "        analysis_date,\n",
    "        columns=[\n",
    "            \"gtfs_dataset_key\",\n",
    "            \"route_id\",\n",
    "            \"route_long_name\",\n",
    "            \"route_short_name\",\n",
    "            \"route_desc\",\n",
    "        ],\n",
    "    )\n",
    "    .drop_duplicates()\n",
    "    .pipe(portfolio_utils.add_route_name)\n",
    "    .drop(columns=[\"route_long_name\", \"route_short_name\", \"route_desc\"])\n",
    ")"
   ]
  },
  {
   "cell_type": "code",
   "execution_count": 48,
   "id": "a3d4256b-1c1a-44cc-bf5b-e33ab5735c05",
   "metadata": {},
   "outputs": [
    {
     "data": {
      "text/plain": [
       "Index(['schedule_gtfs_dataset_key', 'route_id', 'route_name_used'], dtype='object')"
      ]
     },
     "execution_count": 48,
     "metadata": {},
     "output_type": "execute_result"
    }
   ],
   "source": [
    "route_info.columns"
   ]
  },
  {
   "cell_type": "code",
   "execution_count": 49,
   "id": "be94de8c-1458-4ec6-845e-3cd5b7629ec7",
   "metadata": {},
   "outputs": [],
   "source": [
    "route_info = route_info.loc[route_info.schedule_gtfs_dataset_key.isin(schd_keys)]"
   ]
  },
  {
   "cell_type": "code",
   "execution_count": 50,
   "id": "13eec721-ec4b-45f2-9a8e-324c8f57ec6e",
   "metadata": {},
   "outputs": [
    {
     "data": {
      "text/html": [
       "<div>\n",
       "<style scoped>\n",
       "    .dataframe tbody tr th:only-of-type {\n",
       "        vertical-align: middle;\n",
       "    }\n",
       "\n",
       "    .dataframe tbody tr th {\n",
       "        vertical-align: top;\n",
       "    }\n",
       "\n",
       "    .dataframe thead th {\n",
       "        text-align: right;\n",
       "    }\n",
       "</style>\n",
       "<table border=\"1\" class=\"dataframe\">\n",
       "  <thead>\n",
       "    <tr style=\"text-align: right;\">\n",
       "      <th></th>\n",
       "      <th>schedule_gtfs_dataset_key</th>\n",
       "      <th>route_id</th>\n",
       "      <th>route_name_used</th>\n",
       "    </tr>\n",
       "  </thead>\n",
       "  <tbody>\n",
       "    <tr>\n",
       "      <th>1122</th>\n",
       "      <td>f5a749dd65924e025b1293c58f95f8d6</td>\n",
       "      <td>Shuttle</td>\n",
       "      <td>Shuttle to Auburn</td>\n",
       "    </tr>\n",
       "    <tr>\n",
       "      <th>1123</th>\n",
       "      <td>f5a749dd65924e025b1293c58f95f8d6</td>\n",
       "      <td>SF</td>\n",
       "      <td>Shuttle to San Francisco Transbay Terminal</td>\n",
       "    </tr>\n",
       "    <tr>\n",
       "      <th>1124</th>\n",
       "      <td>f5a749dd65924e025b1293c58f95f8d6</td>\n",
       "      <td>CC</td>\n",
       "      <td>Daily train service between Auburn, Sacramento, Oakland and San Jose</td>\n",
       "    </tr>\n",
       "  </tbody>\n",
       "</table>\n",
       "</div>"
      ],
      "text/plain": [
       "             schedule_gtfs_dataset_key route_id  \\\n",
       "1122  f5a749dd65924e025b1293c58f95f8d6  Shuttle   \n",
       "1123  f5a749dd65924e025b1293c58f95f8d6       SF   \n",
       "1124  f5a749dd65924e025b1293c58f95f8d6       CC   \n",
       "\n",
       "                                                           route_name_used  \n",
       "1122                                                     Shuttle to Auburn  \n",
       "1123                            Shuttle to San Francisco Transbay Terminal  \n",
       "1124  Daily train service between Auburn, Sacramento, Oakland and San Jose  "
      ]
     },
     "execution_count": 50,
     "metadata": {},
     "output_type": "execute_result"
    }
   ],
   "source": [
    "route_info"
   ]
  },
  {
   "cell_type": "code",
   "execution_count": 51,
   "id": "2a22809f-9bad-4b43-af5a-0e8ab9045cfe",
   "metadata": {},
   "outputs": [],
   "source": [
    "common_shape_geom2 = pd.merge(\n",
    "    common_shape_geom,\n",
    "    route_info.rename(columns={\"route_name_used\": \"route_name\"}),\n",
    "    on=[\"schedule_gtfs_dataset_key\", \"route_id\"],\n",
    ")"
   ]
  },
  {
   "cell_type": "code",
   "execution_count": 52,
   "id": "bf0779a5-2a35-462f-b9fd-2fce6c2ec522",
   "metadata": {},
   "outputs": [
    {
     "data": {
      "text/html": [
       "<div>\n",
       "<style scoped>\n",
       "    .dataframe tbody tr th:only-of-type {\n",
       "        vertical-align: middle;\n",
       "    }\n",
       "\n",
       "    .dataframe tbody tr th {\n",
       "        vertical-align: top;\n",
       "    }\n",
       "\n",
       "    .dataframe thead th {\n",
       "        text-align: right;\n",
       "    }\n",
       "</style>\n",
       "<table border=\"1\" class=\"dataframe\">\n",
       "  <thead>\n",
       "    <tr style=\"text-align: right;\">\n",
       "      <th></th>\n",
       "      <th>route_id</th>\n",
       "    </tr>\n",
       "  </thead>\n",
       "  <tbody>\n",
       "    <tr>\n",
       "      <th>0</th>\n",
       "      <td>CC</td>\n",
       "    </tr>\n",
       "    <tr>\n",
       "      <th>2</th>\n",
       "      <td>Shuttle</td>\n",
       "    </tr>\n",
       "    <tr>\n",
       "      <th>4</th>\n",
       "      <td>SF</td>\n",
       "    </tr>\n",
       "  </tbody>\n",
       "</table>\n",
       "</div>"
      ],
      "text/plain": [
       "  route_id\n",
       "0       CC\n",
       "2  Shuttle\n",
       "4       SF"
      ]
     },
     "execution_count": 52,
     "metadata": {},
     "output_type": "execute_result"
    }
   ],
   "source": [
    "common_shape_geom2[[\"route_id\"]].drop_duplicates()"
   ]
  },
  {
   "cell_type": "code",
   "execution_count": 53,
   "id": "fb90e873-6202-49fe-8fa0-6725fba6f014",
   "metadata": {},
   "outputs": [],
   "source": [
    "common_shape = gtfs_schedule_wrangling.most_common_shape_by_route_direction(\n",
    "    analysis_date\n",
    ")"
   ]
  },
  {
   "cell_type": "code",
   "execution_count": 54,
   "id": "ec802b70-fab4-48a4-8900-9233bf593366",
   "metadata": {},
   "outputs": [
    {
     "data": {
      "text/plain": [
       "Index(['geometry', 'schedule_gtfs_dataset_key', 'route_id', 'direction_id',\n",
       "       'common_shape_id', 'route_name'],\n",
       "      dtype='object')"
      ]
     },
     "execution_count": 54,
     "metadata": {},
     "output_type": "execute_result"
    }
   ],
   "source": [
    "common_shape.columns"
   ]
  },
  {
   "cell_type": "code",
   "execution_count": 55,
   "id": "f4e5fa02-bb36-4446-b2dd-f85532319466",
   "metadata": {},
   "outputs": [],
   "source": [
    "common_shape = common_shape.loc[common_shape.schedule_gtfs_dataset_key.isin(schd_keys)]"
   ]
  },
  {
   "cell_type": "code",
   "execution_count": 56,
   "id": "60d3ed1b-9b21-42f1-ae58-1ec651e144eb",
   "metadata": {},
   "outputs": [
    {
     "data": {
      "text/html": [
       "<div>\n",
       "<style scoped>\n",
       "    .dataframe tbody tr th:only-of-type {\n",
       "        vertical-align: middle;\n",
       "    }\n",
       "\n",
       "    .dataframe tbody tr th {\n",
       "        vertical-align: top;\n",
       "    }\n",
       "\n",
       "    .dataframe thead th {\n",
       "        text-align: right;\n",
       "    }\n",
       "</style>\n",
       "<table border=\"1\" class=\"dataframe\">\n",
       "  <thead>\n",
       "    <tr style=\"text-align: right;\">\n",
       "      <th></th>\n",
       "      <th>route_id</th>\n",
       "      <th>direction_id</th>\n",
       "    </tr>\n",
       "  </thead>\n",
       "  <tbody>\n",
       "    <tr>\n",
       "      <th>318</th>\n",
       "      <td>CC</td>\n",
       "      <td>1.00</td>\n",
       "    </tr>\n",
       "    <tr>\n",
       "      <th>319</th>\n",
       "      <td>CC</td>\n",
       "      <td>0.00</td>\n",
       "    </tr>\n",
       "    <tr>\n",
       "      <th>756</th>\n",
       "      <td>Shuttle</td>\n",
       "      <td>1.00</td>\n",
       "    </tr>\n",
       "    <tr>\n",
       "      <th>757</th>\n",
       "      <td>Shuttle</td>\n",
       "      <td>0.00</td>\n",
       "    </tr>\n",
       "    <tr>\n",
       "      <th>902</th>\n",
       "      <td>SF</td>\n",
       "      <td>1.00</td>\n",
       "    </tr>\n",
       "    <tr>\n",
       "      <th>903</th>\n",
       "      <td>SF</td>\n",
       "      <td>0.00</td>\n",
       "    </tr>\n",
       "  </tbody>\n",
       "</table>\n",
       "</div>"
      ],
      "text/plain": [
       "    route_id  direction_id\n",
       "318       CC          1.00\n",
       "319       CC          0.00\n",
       "756  Shuttle          1.00\n",
       "757  Shuttle          0.00\n",
       "902       SF          1.00\n",
       "903       SF          0.00"
      ]
     },
     "execution_count": 56,
     "metadata": {},
     "output_type": "execute_result"
    }
   ],
   "source": [
    "common_shape[[\"route_id\", \"direction_id\"]].drop_duplicates()"
   ]
  },
  {
   "cell_type": "code",
   "execution_count": 57,
   "id": "75ec9367-0056-4e12-bfe7-6f2c4f860094",
   "metadata": {},
   "outputs": [],
   "source": [
    "# common_shape.explore(\"route_id\")"
   ]
  },
  {
   "cell_type": "code",
   "execution_count": 58,
   "id": "2f8969cf-33f0-48ab-aa32-f765b9ee515e",
   "metadata": {},
   "outputs": [],
   "source": [
    "common_shape_piped = gtfs_schedule_wrangling.most_common_shape_by_route_direction(\n",
    "    analysis_date\n",
    ").pipe(helpers.remove_shapes_outside_ca)"
   ]
  },
  {
   "cell_type": "code",
   "execution_count": 59,
   "id": "9297eb94-dcd9-4699-bb0a-4a5a8ab0e6bd",
   "metadata": {},
   "outputs": [],
   "source": [
    "common_shape_piped = common_shape_piped.loc[\n",
    "    common_shape_piped.schedule_gtfs_dataset_key.isin(schd_keys)\n",
    "]"
   ]
  },
  {
   "cell_type": "code",
   "execution_count": 60,
   "id": "0d19260c-00c3-4015-b5c2-18dbde848938",
   "metadata": {},
   "outputs": [
    {
     "data": {
      "text/html": [
       "<div>\n",
       "<style scoped>\n",
       "    .dataframe tbody tr th:only-of-type {\n",
       "        vertical-align: middle;\n",
       "    }\n",
       "\n",
       "    .dataframe tbody tr th {\n",
       "        vertical-align: top;\n",
       "    }\n",
       "\n",
       "    .dataframe thead th {\n",
       "        text-align: right;\n",
       "    }\n",
       "</style>\n",
       "<table border=\"1\" class=\"dataframe\">\n",
       "  <thead>\n",
       "    <tr style=\"text-align: right;\">\n",
       "      <th></th>\n",
       "      <th>route_id</th>\n",
       "    </tr>\n",
       "  </thead>\n",
       "  <tbody>\n",
       "    <tr>\n",
       "      <th>756</th>\n",
       "      <td>Shuttle</td>\n",
       "    </tr>\n",
       "  </tbody>\n",
       "</table>\n",
       "</div>"
      ],
      "text/plain": [
       "    route_id\n",
       "756  Shuttle"
      ]
     },
     "execution_count": 60,
     "metadata": {},
     "output_type": "execute_result"
    }
   ],
   "source": [
    "common_shape_piped[[\"route_id\"]].drop_duplicates()"
   ]
  },
  {
   "cell_type": "markdown",
   "id": "77a96805-cb9d-43fa-adbe-4ae74f6ab23d",
   "metadata": {},
   "source": [
    "#### Continuing with `gtfs_funnel/route_typologies` the `if==main`"
   ]
  },
  {
   "cell_type": "code",
   "execution_count": 61,
   "id": "0e40fea2-ccc5-4259-afa6-2ad45e8d78c5",
   "metadata": {},
   "outputs": [],
   "source": [
    "ROAD_BUFFER_METERS = 20"
   ]
  },
  {
   "cell_type": "markdown",
   "id": "3f82f61d-6bf7-4ec8-a51a-80f7f154e504",
   "metadata": {},
   "source": [
    "#### Need to update this step so any rail routes aren't filtered out. \n",
    "* Adjust typology from 0.10 to 0.09"
   ]
  },
  {
   "cell_type": "code",
   "execution_count": 71,
   "id": "53457ddc-8fc5-4f3e-9e68-218038d2a5e5",
   "metadata": {},
   "outputs": [],
   "source": [
    "TYPOLOGY_THRESHOLD = 0.09"
   ]
  },
  {
   "cell_type": "code",
   "execution_count": 72,
   "id": "efc8bc4d-2096-4076-bd97-3aabf0b0e0b9",
   "metadata": {},
   "outputs": [],
   "source": [
    "gdf = route_typologies.overlay_shapes_to_roads(roads, analysis_date, ROAD_BUFFER_METERS)"
   ]
  },
  {
   "cell_type": "code",
   "execution_count": 73,
   "id": "6453cd75-1531-4628-bc5e-232e37e0c907",
   "metadata": {},
   "outputs": [
    {
     "data": {
      "text/plain": [
       "Index(['schedule_gtfs_dataset_key', 'route_id', 'direction_id',\n",
       "       'common_shape_id', 'route_name', 'route_meters', 'freq_category',\n",
       "       'typology', 'pct_typology'],\n",
       "      dtype='object')"
      ]
     },
     "execution_count": 73,
     "metadata": {},
     "output_type": "execute_result"
    }
   ],
   "source": [
    "gdf.columns"
   ]
  },
  {
   "cell_type": "code",
   "execution_count": 74,
   "id": "1f02099b-5115-4d41-a6db-eb96da505f57",
   "metadata": {},
   "outputs": [],
   "source": [
    "gdf = gdf.loc[gdf.schedule_gtfs_dataset_key.isin(schd_keys)]"
   ]
  },
  {
   "cell_type": "code",
   "execution_count": 75,
   "id": "5e03b247-050a-425c-b58c-9d67e145fe5d",
   "metadata": {},
   "outputs": [
    {
     "data": {
      "text/plain": [
       "3"
      ]
     },
     "execution_count": 75,
     "metadata": {},
     "output_type": "execute_result"
    }
   ],
   "source": [
    "gdf.route_id.nunique()"
   ]
  },
  {
   "cell_type": "code",
   "execution_count": 76,
   "id": "16a6ac40-7edb-4077-8035-57992fa7d0fc",
   "metadata": {},
   "outputs": [],
   "source": [
    "#gdf[[\"route_id\", \"direction_id\", \"typology\", \"pct_typology\"]].drop_duplicates().sort_values(\n",
    "#    by=[\"route_id\",\"direction_id\", \"pct_typology\"]\n",
    "#)"
   ]
  },
  {
   "cell_type": "markdown",
   "id": "3956df86-87fa-454f-8072-d50b7f18ad90",
   "metadata": {},
   "source": [
    "#### Filtering out for typology_threshold throws away the other routes -> Find a way to retain rail routes. "
   ]
  },
  {
   "cell_type": "code",
   "execution_count": null,
   "id": "5f9e1d1a-23bb-45de-ac0b-8052b01522bd",
   "metadata": {},
   "outputs": [],
   "source": []
  },
  {
   "cell_type": "code",
   "execution_count": 77,
   "id": "06362e9f-6668-4ecc-a939-c86b69e5b7b8",
   "metadata": {},
   "outputs": [],
   "source": [
    "route_typology_df = gdf.loc[(gdf.pct_typology >= TYPOLOGY_THRESHOLD)]"
   ]
  },
  {
   "cell_type": "code",
   "execution_count": 78,
   "id": "e800237f-8473-481f-89c1-19b8db81122a",
   "metadata": {},
   "outputs": [
    {
     "data": {
      "text/html": [
       "<div>\n",
       "<style scoped>\n",
       "    .dataframe tbody tr th:only-of-type {\n",
       "        vertical-align: middle;\n",
       "    }\n",
       "\n",
       "    .dataframe tbody tr th {\n",
       "        vertical-align: top;\n",
       "    }\n",
       "\n",
       "    .dataframe thead th {\n",
       "        text-align: right;\n",
       "    }\n",
       "</style>\n",
       "<table border=\"1\" class=\"dataframe\">\n",
       "  <thead>\n",
       "    <tr style=\"text-align: right;\">\n",
       "      <th></th>\n",
       "      <th>schedule_gtfs_dataset_key</th>\n",
       "      <th>route_id</th>\n",
       "      <th>direction_id</th>\n",
       "      <th>common_shape_id</th>\n",
       "      <th>route_name</th>\n",
       "      <th>route_meters</th>\n",
       "      <th>freq_category</th>\n",
       "      <th>typology</th>\n",
       "      <th>pct_typology</th>\n",
       "    </tr>\n",
       "  </thead>\n",
       "  <tbody>\n",
       "    <tr>\n",
       "      <th>25646</th>\n",
       "      <td>f5a749dd65924e025b1293c58f95f8d6</td>\n",
       "      <td>SF</td>\n",
       "      <td>0.00</td>\n",
       "      <td>cpz2</td>\n",
       "      <td>Shuttle to San Francisco Transbay Terminal</td>\n",
       "      <td>13495.52</td>\n",
       "      <td>high</td>\n",
       "      <td>rapid</td>\n",
       "      <td>0.09</td>\n",
       "    </tr>\n",
       "    <tr>\n",
       "      <th>25648</th>\n",
       "      <td>f5a749dd65924e025b1293c58f95f8d6</td>\n",
       "      <td>SF</td>\n",
       "      <td>0.00</td>\n",
       "      <td>cpz2</td>\n",
       "      <td>Shuttle to San Francisco Transbay Terminal</td>\n",
       "      <td>13495.52</td>\n",
       "      <td>very_high</td>\n",
       "      <td>downtown_local</td>\n",
       "      <td>0.09</td>\n",
       "    </tr>\n",
       "    <tr>\n",
       "      <th>25664</th>\n",
       "      <td>f5a749dd65924e025b1293c58f95f8d6</td>\n",
       "      <td>Shuttle</td>\n",
       "      <td>1.00</td>\n",
       "      <td>104dc91b-4f7b-4f93-bea2-ebfe9adabcf3</td>\n",
       "      <td>Shuttle to Auburn</td>\n",
       "      <td>60220.51</td>\n",
       "      <td>low</td>\n",
       "      <td>coverage</td>\n",
       "      <td>0.16</td>\n",
       "    </tr>\n",
       "  </tbody>\n",
       "</table>\n",
       "</div>"
      ],
      "text/plain": [
       "              schedule_gtfs_dataset_key route_id  direction_id  \\\n",
       "25646  f5a749dd65924e025b1293c58f95f8d6       SF          0.00   \n",
       "25648  f5a749dd65924e025b1293c58f95f8d6       SF          0.00   \n",
       "25664  f5a749dd65924e025b1293c58f95f8d6  Shuttle          1.00   \n",
       "\n",
       "                            common_shape_id  \\\n",
       "25646                                  cpz2   \n",
       "25648                                  cpz2   \n",
       "25664  104dc91b-4f7b-4f93-bea2-ebfe9adabcf3   \n",
       "\n",
       "                                       route_name  route_meters freq_category  \\\n",
       "25646  Shuttle to San Francisco Transbay Terminal      13495.52          high   \n",
       "25648  Shuttle to San Francisco Transbay Terminal      13495.52     very_high   \n",
       "25664                           Shuttle to Auburn      60220.51           low   \n",
       "\n",
       "             typology  pct_typology  \n",
       "25646           rapid          0.09  \n",
       "25648  downtown_local          0.09  \n",
       "25664        coverage          0.16  "
      ]
     },
     "execution_count": 78,
     "metadata": {},
     "output_type": "execute_result"
    }
   ],
   "source": [
    "route_typology_df"
   ]
  },
  {
   "cell_type": "markdown",
   "id": "ddda0a86-ebe7-43d2-abf2-7a50fc640c51",
   "metadata": {},
   "source": [
    "#### Getting rail routes back"
   ]
  },
  {
   "cell_type": "code",
   "execution_count": 96,
   "id": "5a8ecd16-cb0f-4ccd-9cba-0a623cc648b4",
   "metadata": {
    "tags": []
   },
   "outputs": [],
   "source": [
    "rail_routes_df = pd.merge(gdf, rail_routes, how = \"inner\")"
   ]
  },
  {
   "cell_type": "code",
   "execution_count": 99,
   "id": "c28cddf8-1719-470c-93dd-30a6f1ed5d2a",
   "metadata": {
    "tags": []
   },
   "outputs": [
    {
     "data": {
      "text/html": [
       "<div>\n",
       "<style scoped>\n",
       "    .dataframe tbody tr th:only-of-type {\n",
       "        vertical-align: middle;\n",
       "    }\n",
       "\n",
       "    .dataframe tbody tr th {\n",
       "        vertical-align: top;\n",
       "    }\n",
       "\n",
       "    .dataframe thead th {\n",
       "        text-align: right;\n",
       "    }\n",
       "</style>\n",
       "<table border=\"1\" class=\"dataframe\">\n",
       "  <thead>\n",
       "    <tr style=\"text-align: right;\">\n",
       "      <th></th>\n",
       "      <th>schedule_gtfs_dataset_key</th>\n",
       "      <th>route_id</th>\n",
       "      <th>direction_id</th>\n",
       "      <th>common_shape_id</th>\n",
       "      <th>route_name</th>\n",
       "      <th>route_meters</th>\n",
       "      <th>freq_category</th>\n",
       "      <th>typology</th>\n",
       "      <th>pct_typology</th>\n",
       "    </tr>\n",
       "  </thead>\n",
       "  <tbody>\n",
       "    <tr>\n",
       "      <th>0</th>\n",
       "      <td>f5a749dd65924e025b1293c58f95f8d6</td>\n",
       "      <td>CC</td>\n",
       "      <td>0.00</td>\n",
       "      <td>5cf6811a-2f53-4199-b315-4408eb816e82</td>\n",
       "      <td>Daily train service between Auburn, Sacramento, Oakland and San Jose</td>\n",
       "      <td>143715.40</td>\n",
       "      <td>high</td>\n",
       "      <td>downtown_local</td>\n",
       "      <td>0.00</td>\n",
       "    </tr>\n",
       "    <tr>\n",
       "      <th>1</th>\n",
       "      <td>f5a749dd65924e025b1293c58f95f8d6</td>\n",
       "      <td>CC</td>\n",
       "      <td>0.00</td>\n",
       "      <td>5cf6811a-2f53-4199-b315-4408eb816e82</td>\n",
       "      <td>Daily train service between Auburn, Sacramento, Oakland and San Jose</td>\n",
       "      <td>143715.40</td>\n",
       "      <td>high</td>\n",
       "      <td>local</td>\n",
       "      <td>0.00</td>\n",
       "    </tr>\n",
       "  </tbody>\n",
       "</table>\n",
       "</div>"
      ],
      "text/plain": [
       "          schedule_gtfs_dataset_key route_id  direction_id  \\\n",
       "0  f5a749dd65924e025b1293c58f95f8d6       CC          0.00   \n",
       "1  f5a749dd65924e025b1293c58f95f8d6       CC          0.00   \n",
       "\n",
       "                        common_shape_id  \\\n",
       "0  5cf6811a-2f53-4199-b315-4408eb816e82   \n",
       "1  5cf6811a-2f53-4199-b315-4408eb816e82   \n",
       "\n",
       "                                                             route_name  \\\n",
       "0  Daily train service between Auburn, Sacramento, Oakland and San Jose   \n",
       "1  Daily train service between Auburn, Sacramento, Oakland and San Jose   \n",
       "\n",
       "   route_meters freq_category        typology  pct_typology  \n",
       "0     143715.40          high  downtown_local          0.00  \n",
       "1     143715.40          high           local          0.00  "
      ]
     },
     "execution_count": 99,
     "metadata": {},
     "output_type": "execute_result"
    }
   ],
   "source": [
    "rail_routes_df.head(2)"
   ]
  },
  {
   "cell_type": "code",
   "execution_count": 100,
   "id": "72fc1a10-73d8-485a-8cd3-27085dc4fa04",
   "metadata": {
    "tags": []
   },
   "outputs": [],
   "source": [
    "# Retain only one row for each route-direction-operator\n",
    "rail_routes_df = rail_routes_df.sort_values(by = [\"route_id\",\"direction_id\", \"schedule_gtfs_dataset_key\", \"pct_typology\"], ascending = [True, True, True, False])"
   ]
  },
  {
   "cell_type": "code",
   "execution_count": 103,
   "id": "6994fc88-c433-47ed-b189-af743f562c04",
   "metadata": {
    "tags": []
   },
   "outputs": [],
   "source": [
    "rail_routes_df2 = rail_routes_df.drop_duplicates(subset = [\"route_id\",\"direction_id\", \"schedule_gtfs_dataset_key\"])"
   ]
  },
  {
   "cell_type": "code",
   "execution_count": 104,
   "id": "012ddd22-f509-4bb4-a87b-7d416fa5fdb5",
   "metadata": {
    "tags": []
   },
   "outputs": [
    {
     "data": {
      "text/html": [
       "<div>\n",
       "<style scoped>\n",
       "    .dataframe tbody tr th:only-of-type {\n",
       "        vertical-align: middle;\n",
       "    }\n",
       "\n",
       "    .dataframe tbody tr th {\n",
       "        vertical-align: top;\n",
       "    }\n",
       "\n",
       "    .dataframe thead th {\n",
       "        text-align: right;\n",
       "    }\n",
       "</style>\n",
       "<table border=\"1\" class=\"dataframe\">\n",
       "  <thead>\n",
       "    <tr style=\"text-align: right;\">\n",
       "      <th></th>\n",
       "      <th>schedule_gtfs_dataset_key</th>\n",
       "      <th>route_id</th>\n",
       "      <th>direction_id</th>\n",
       "      <th>common_shape_id</th>\n",
       "      <th>route_name</th>\n",
       "      <th>route_meters</th>\n",
       "      <th>freq_category</th>\n",
       "      <th>typology</th>\n",
       "      <th>pct_typology</th>\n",
       "    </tr>\n",
       "  </thead>\n",
       "  <tbody>\n",
       "    <tr>\n",
       "      <th>2</th>\n",
       "      <td>f5a749dd65924e025b1293c58f95f8d6</td>\n",
       "      <td>CC</td>\n",
       "      <td>0.00</td>\n",
       "      <td>5cf6811a-2f53-4199-b315-4408eb816e82</td>\n",
       "      <td>Daily train service between Auburn, Sacramento, Oakland and San Jose</td>\n",
       "      <td>143715.40</td>\n",
       "      <td>high</td>\n",
       "      <td>rapid</td>\n",
       "      <td>0.02</td>\n",
       "    </tr>\n",
       "    <tr>\n",
       "      <th>9</th>\n",
       "      <td>f5a749dd65924e025b1293c58f95f8d6</td>\n",
       "      <td>CC</td>\n",
       "      <td>1.00</td>\n",
       "      <td>92232e9e-55e8-4f8a-bb86-1aeb515be83e</td>\n",
       "      <td>Daily train service between Auburn, Sacramento, Oakland and San Jose</td>\n",
       "      <td>143684.90</td>\n",
       "      <td>low</td>\n",
       "      <td>coverage</td>\n",
       "      <td>0.01</td>\n",
       "    </tr>\n",
       "  </tbody>\n",
       "</table>\n",
       "</div>"
      ],
      "text/plain": [
       "          schedule_gtfs_dataset_key route_id  direction_id  \\\n",
       "2  f5a749dd65924e025b1293c58f95f8d6       CC          0.00   \n",
       "9  f5a749dd65924e025b1293c58f95f8d6       CC          1.00   \n",
       "\n",
       "                        common_shape_id  \\\n",
       "2  5cf6811a-2f53-4199-b315-4408eb816e82   \n",
       "9  92232e9e-55e8-4f8a-bb86-1aeb515be83e   \n",
       "\n",
       "                                                             route_name  \\\n",
       "2  Daily train service between Auburn, Sacramento, Oakland and San Jose   \n",
       "9  Daily train service between Auburn, Sacramento, Oakland and San Jose   \n",
       "\n",
       "   route_meters freq_category  typology  pct_typology  \n",
       "2     143715.40          high     rapid          0.02  \n",
       "9     143684.90           low  coverage          0.01  "
      ]
     },
     "execution_count": 104,
     "metadata": {},
     "output_type": "execute_result"
    }
   ],
   "source": [
    "rail_routes_df2"
   ]
  },
  {
   "cell_type": "code",
   "execution_count": 79,
   "id": "bd39a411-2248-4fee-89d8-2c3ed411fec4",
   "metadata": {},
   "outputs": [],
   "source": [
    "route_typology_df2 = route_typologies.primary_secondary_typology(route_typology_df)"
   ]
  },
  {
   "cell_type": "code",
   "execution_count": 80,
   "id": "dfa8a841-25af-4226-a909-c28e21d1fb57",
   "metadata": {},
   "outputs": [
    {
     "data": {
      "text/plain": [
       "(2, 9)"
      ]
     },
     "execution_count": 80,
     "metadata": {},
     "output_type": "execute_result"
    }
   ],
   "source": [
    "route_typology_df2.shape"
   ]
  },
  {
   "cell_type": "code",
   "execution_count": 82,
   "id": "bc6df46c-9756-4389-b556-c83c590256d6",
   "metadata": {},
   "outputs": [
    {
     "data": {
      "text/html": [
       "<div>\n",
       "<style scoped>\n",
       "    .dataframe tbody tr th:only-of-type {\n",
       "        vertical-align: middle;\n",
       "    }\n",
       "\n",
       "    .dataframe tbody tr th {\n",
       "        vertical-align: top;\n",
       "    }\n",
       "\n",
       "    .dataframe thead th {\n",
       "        text-align: right;\n",
       "    }\n",
       "</style>\n",
       "<table border=\"1\" class=\"dataframe\">\n",
       "  <thead>\n",
       "    <tr style=\"text-align: right;\">\n",
       "      <th></th>\n",
       "      <th>schedule_gtfs_dataset_key</th>\n",
       "      <th>route_id</th>\n",
       "      <th>direction_id</th>\n",
       "      <th>common_shape_id</th>\n",
       "      <th>route_name</th>\n",
       "      <th>route_meters</th>\n",
       "      <th>is_nacto_coverage</th>\n",
       "      <th>is_nacto_downtown_local</th>\n",
       "      <th>is_nacto_rapid</th>\n",
       "    </tr>\n",
       "  </thead>\n",
       "  <tbody>\n",
       "    <tr>\n",
       "      <th>0</th>\n",
       "      <td>f5a749dd65924e025b1293c58f95f8d6</td>\n",
       "      <td>SF</td>\n",
       "      <td>0.00</td>\n",
       "      <td>cpz2</td>\n",
       "      <td>Shuttle to San Francisco Transbay Terminal</td>\n",
       "      <td>13495.52</td>\n",
       "      <td>0</td>\n",
       "      <td>1</td>\n",
       "      <td>1</td>\n",
       "    </tr>\n",
       "    <tr>\n",
       "      <th>1</th>\n",
       "      <td>f5a749dd65924e025b1293c58f95f8d6</td>\n",
       "      <td>Shuttle</td>\n",
       "      <td>1.00</td>\n",
       "      <td>104dc91b-4f7b-4f93-bea2-ebfe9adabcf3</td>\n",
       "      <td>Shuttle to Auburn</td>\n",
       "      <td>60220.51</td>\n",
       "      <td>1</td>\n",
       "      <td>0</td>\n",
       "      <td>0</td>\n",
       "    </tr>\n",
       "  </tbody>\n",
       "</table>\n",
       "</div>"
      ],
      "text/plain": [
       "          schedule_gtfs_dataset_key route_id  direction_id  \\\n",
       "0  f5a749dd65924e025b1293c58f95f8d6       SF          0.00   \n",
       "1  f5a749dd65924e025b1293c58f95f8d6  Shuttle          1.00   \n",
       "\n",
       "                        common_shape_id  \\\n",
       "0                                  cpz2   \n",
       "1  104dc91b-4f7b-4f93-bea2-ebfe9adabcf3   \n",
       "\n",
       "                                   route_name  route_meters  \\\n",
       "0  Shuttle to San Francisco Transbay Terminal      13495.52   \n",
       "1                           Shuttle to Auburn      60220.51   \n",
       "\n",
       "   is_nacto_coverage  is_nacto_downtown_local  is_nacto_rapid  \n",
       "0                  0                        1               1  \n",
       "1                  1                        0               0  "
      ]
     },
     "execution_count": 82,
     "metadata": {},
     "output_type": "execute_result"
    }
   ],
   "source": [
    "route_typology_df2"
   ]
  },
  {
   "cell_type": "code",
   "execution_count": 83,
   "id": "65e37334-a222-4be2-b8d0-442c6a5e836f",
   "metadata": {},
   "outputs": [],
   "source": [
    "route_tagged = route_typologies.categorize_routes_by_name(analysis_date)"
   ]
  },
  {
   "cell_type": "markdown",
   "id": "3c585a8b-e3f4-46c0-98fa-2dfa99f465b0",
   "metadata": {},
   "source": [
    "#### All the routes pop back here."
   ]
  },
  {
   "cell_type": "code",
   "execution_count": 84,
   "id": "29bf0c3c-9b53-46a5-a0c3-c4129329830a",
   "metadata": {},
   "outputs": [],
   "source": [
    "route_tagged = route_tagged.loc[route_tagged.schedule_gtfs_dataset_key.isin(schd_keys)]"
   ]
  },
  {
   "cell_type": "code",
   "execution_count": 85,
   "id": "8fe153ad-35e6-4658-b031-544ab277e058",
   "metadata": {},
   "outputs": [
    {
     "data": {
      "text/html": [
       "<div>\n",
       "<style scoped>\n",
       "    .dataframe tbody tr th:only-of-type {\n",
       "        vertical-align: middle;\n",
       "    }\n",
       "\n",
       "    .dataframe tbody tr th {\n",
       "        vertical-align: top;\n",
       "    }\n",
       "\n",
       "    .dataframe thead th {\n",
       "        text-align: right;\n",
       "    }\n",
       "</style>\n",
       "<table border=\"1\" class=\"dataframe\">\n",
       "  <thead>\n",
       "    <tr style=\"text-align: right;\">\n",
       "      <th></th>\n",
       "      <th>schedule_gtfs_dataset_key</th>\n",
       "      <th>name</th>\n",
       "      <th>route_type</th>\n",
       "      <th>route_id</th>\n",
       "      <th>route_long_name</th>\n",
       "      <th>route_short_name</th>\n",
       "      <th>combined_name</th>\n",
       "      <th>is_express</th>\n",
       "      <th>is_rapid</th>\n",
       "      <th>is_rail</th>\n",
       "      <th>is_local</th>\n",
       "    </tr>\n",
       "  </thead>\n",
       "  <tbody>\n",
       "    <tr>\n",
       "      <th>1122</th>\n",
       "      <td>f5a749dd65924e025b1293c58f95f8d6</td>\n",
       "      <td>Bay Area 511 Capitol Corridor Schedule</td>\n",
       "      <td>3</td>\n",
       "      <td>Shuttle</td>\n",
       "      <td>Shuttle_Auburn</td>\n",
       "      <td>Shuttle</td>\n",
       "      <td>Shuttle__Shuttle_Auburn</td>\n",
       "      <td>0</td>\n",
       "      <td>0</td>\n",
       "      <td>0</td>\n",
       "      <td>1</td>\n",
       "    </tr>\n",
       "    <tr>\n",
       "      <th>1123</th>\n",
       "      <td>f5a749dd65924e025b1293c58f95f8d6</td>\n",
       "      <td>Bay Area 511 Capitol Corridor Schedule</td>\n",
       "      <td>3</td>\n",
       "      <td>SF</td>\n",
       "      <td>Shuttle_SF</td>\n",
       "      <td>SF</td>\n",
       "      <td>SF__Shuttle_SF</td>\n",
       "      <td>0</td>\n",
       "      <td>0</td>\n",
       "      <td>0</td>\n",
       "      <td>1</td>\n",
       "    </tr>\n",
       "    <tr>\n",
       "      <th>1124</th>\n",
       "      <td>f5a749dd65924e025b1293c58f95f8d6</td>\n",
       "      <td>Bay Area 511 Capitol Corridor Schedule</td>\n",
       "      <td>2</td>\n",
       "      <td>CC</td>\n",
       "      <td>Capitol Corridor</td>\n",
       "      <td>CC</td>\n",
       "      <td>CC__Capitol Corridor</td>\n",
       "      <td>0</td>\n",
       "      <td>0</td>\n",
       "      <td>1</td>\n",
       "      <td>0</td>\n",
       "    </tr>\n",
       "  </tbody>\n",
       "</table>\n",
       "</div>"
      ],
      "text/plain": [
       "             schedule_gtfs_dataset_key  \\\n",
       "1122  f5a749dd65924e025b1293c58f95f8d6   \n",
       "1123  f5a749dd65924e025b1293c58f95f8d6   \n",
       "1124  f5a749dd65924e025b1293c58f95f8d6   \n",
       "\n",
       "                                        name route_type route_id  \\\n",
       "1122  Bay Area 511 Capitol Corridor Schedule          3  Shuttle   \n",
       "1123  Bay Area 511 Capitol Corridor Schedule          3       SF   \n",
       "1124  Bay Area 511 Capitol Corridor Schedule          2       CC   \n",
       "\n",
       "       route_long_name route_short_name            combined_name  is_express  \\\n",
       "1122    Shuttle_Auburn          Shuttle  Shuttle__Shuttle_Auburn           0   \n",
       "1123        Shuttle_SF               SF           SF__Shuttle_SF           0   \n",
       "1124  Capitol Corridor               CC     CC__Capitol Corridor           0   \n",
       "\n",
       "      is_rapid  is_rail  is_local  \n",
       "1122         0        0         1  \n",
       "1123         0        0         1  \n",
       "1124         0        1         0  "
      ]
     },
     "execution_count": 85,
     "metadata": {},
     "output_type": "execute_result"
    }
   ],
   "source": [
    "route_tagged"
   ]
  },
  {
   "cell_type": "code",
   "execution_count": 86,
   "id": "179ab712-2688-461e-aed2-f575f3ab4a64",
   "metadata": {},
   "outputs": [],
   "source": [
    "df3 = pd.merge(\n",
    "            route_tagged,\n",
    "            route_typology_df2,\n",
    "            on = [\"schedule_gtfs_dataset_key\", \"route_id\"],\n",
    "            how = \"left\"\n",
    "        )"
   ]
  },
  {
   "cell_type": "code",
   "execution_count": 87,
   "id": "65ba4f07-cbf9-40aa-b3e5-5a88ed5b754f",
   "metadata": {
    "tags": []
   },
   "outputs": [],
   "source": [
    "df4 = pd.merge(\n",
    "            route_tagged,\n",
    "            route_typology_df2,\n",
    "            on = [\"schedule_gtfs_dataset_key\", \"route_id\"],\n",
    "        )"
   ]
  },
  {
   "cell_type": "code",
   "execution_count": 88,
   "id": "a258968d-beb7-4c1a-891a-2b4879afa5f4",
   "metadata": {
    "tags": []
   },
   "outputs": [
    {
     "data": {
      "text/html": [
       "<div>\n",
       "<style scoped>\n",
       "    .dataframe tbody tr th:only-of-type {\n",
       "        vertical-align: middle;\n",
       "    }\n",
       "\n",
       "    .dataframe tbody tr th {\n",
       "        vertical-align: top;\n",
       "    }\n",
       "\n",
       "    .dataframe thead th {\n",
       "        text-align: right;\n",
       "    }\n",
       "</style>\n",
       "<table border=\"1\" class=\"dataframe\">\n",
       "  <thead>\n",
       "    <tr style=\"text-align: right;\">\n",
       "      <th></th>\n",
       "      <th>schedule_gtfs_dataset_key</th>\n",
       "      <th>name</th>\n",
       "      <th>route_type</th>\n",
       "      <th>route_id</th>\n",
       "      <th>route_long_name</th>\n",
       "      <th>route_short_name</th>\n",
       "      <th>combined_name</th>\n",
       "      <th>is_express</th>\n",
       "      <th>is_rapid</th>\n",
       "      <th>is_rail</th>\n",
       "      <th>is_local</th>\n",
       "      <th>direction_id</th>\n",
       "      <th>common_shape_id</th>\n",
       "      <th>route_name</th>\n",
       "      <th>route_meters</th>\n",
       "      <th>is_nacto_coverage</th>\n",
       "      <th>is_nacto_downtown_local</th>\n",
       "      <th>is_nacto_rapid</th>\n",
       "    </tr>\n",
       "  </thead>\n",
       "  <tbody>\n",
       "    <tr>\n",
       "      <th>0</th>\n",
       "      <td>f5a749dd65924e025b1293c58f95f8d6</td>\n",
       "      <td>Bay Area 511 Capitol Corridor Schedule</td>\n",
       "      <td>3</td>\n",
       "      <td>Shuttle</td>\n",
       "      <td>Shuttle_Auburn</td>\n",
       "      <td>Shuttle</td>\n",
       "      <td>Shuttle__Shuttle_Auburn</td>\n",
       "      <td>0</td>\n",
       "      <td>0</td>\n",
       "      <td>0</td>\n",
       "      <td>1</td>\n",
       "      <td>1.00</td>\n",
       "      <td>104dc91b-4f7b-4f93-bea2-ebfe9adabcf3</td>\n",
       "      <td>Shuttle to Auburn</td>\n",
       "      <td>60220.51</td>\n",
       "      <td>1</td>\n",
       "      <td>0</td>\n",
       "      <td>0</td>\n",
       "    </tr>\n",
       "    <tr>\n",
       "      <th>1</th>\n",
       "      <td>f5a749dd65924e025b1293c58f95f8d6</td>\n",
       "      <td>Bay Area 511 Capitol Corridor Schedule</td>\n",
       "      <td>3</td>\n",
       "      <td>SF</td>\n",
       "      <td>Shuttle_SF</td>\n",
       "      <td>SF</td>\n",
       "      <td>SF__Shuttle_SF</td>\n",
       "      <td>0</td>\n",
       "      <td>0</td>\n",
       "      <td>0</td>\n",
       "      <td>1</td>\n",
       "      <td>0.00</td>\n",
       "      <td>cpz2</td>\n",
       "      <td>Shuttle to San Francisco Transbay Terminal</td>\n",
       "      <td>13495.52</td>\n",
       "      <td>0</td>\n",
       "      <td>1</td>\n",
       "      <td>1</td>\n",
       "    </tr>\n",
       "  </tbody>\n",
       "</table>\n",
       "</div>"
      ],
      "text/plain": [
       "          schedule_gtfs_dataset_key                                    name  \\\n",
       "0  f5a749dd65924e025b1293c58f95f8d6  Bay Area 511 Capitol Corridor Schedule   \n",
       "1  f5a749dd65924e025b1293c58f95f8d6  Bay Area 511 Capitol Corridor Schedule   \n",
       "\n",
       "  route_type route_id route_long_name route_short_name  \\\n",
       "0          3  Shuttle  Shuttle_Auburn          Shuttle   \n",
       "1          3       SF      Shuttle_SF               SF   \n",
       "\n",
       "             combined_name  is_express  is_rapid  is_rail  is_local  \\\n",
       "0  Shuttle__Shuttle_Auburn           0         0        0         1   \n",
       "1           SF__Shuttle_SF           0         0        0         1   \n",
       "\n",
       "   direction_id                       common_shape_id  \\\n",
       "0          1.00  104dc91b-4f7b-4f93-bea2-ebfe9adabcf3   \n",
       "1          0.00                                  cpz2   \n",
       "\n",
       "                                   route_name  route_meters  \\\n",
       "0                           Shuttle to Auburn      60220.51   \n",
       "1  Shuttle to San Francisco Transbay Terminal      13495.52   \n",
       "\n",
       "   is_nacto_coverage  is_nacto_downtown_local  is_nacto_rapid  \n",
       "0                  1                        0               0  \n",
       "1                  0                        1               1  "
      ]
     },
     "execution_count": 88,
     "metadata": {},
     "output_type": "execute_result"
    }
   ],
   "source": [
    "df4"
   ]
  },
  {
   "cell_type": "code",
   "execution_count": 89,
   "id": "828a74f3-549c-4f64-931e-564a7757bf36",
   "metadata": {},
   "outputs": [
    {
     "data": {
      "text/html": [
       "<div>\n",
       "<style scoped>\n",
       "    .dataframe tbody tr th:only-of-type {\n",
       "        vertical-align: middle;\n",
       "    }\n",
       "\n",
       "    .dataframe tbody tr th {\n",
       "        vertical-align: top;\n",
       "    }\n",
       "\n",
       "    .dataframe thead th {\n",
       "        text-align: right;\n",
       "    }\n",
       "</style>\n",
       "<table border=\"1\" class=\"dataframe\">\n",
       "  <thead>\n",
       "    <tr style=\"text-align: right;\">\n",
       "      <th></th>\n",
       "      <th>schedule_gtfs_dataset_key</th>\n",
       "      <th>name</th>\n",
       "      <th>route_type</th>\n",
       "      <th>route_id</th>\n",
       "      <th>route_long_name</th>\n",
       "      <th>route_short_name</th>\n",
       "      <th>combined_name</th>\n",
       "      <th>is_express</th>\n",
       "      <th>is_rapid</th>\n",
       "      <th>is_rail</th>\n",
       "      <th>is_local</th>\n",
       "      <th>direction_id</th>\n",
       "      <th>common_shape_id</th>\n",
       "      <th>route_name</th>\n",
       "      <th>route_meters</th>\n",
       "      <th>is_nacto_coverage</th>\n",
       "      <th>is_nacto_downtown_local</th>\n",
       "      <th>is_nacto_rapid</th>\n",
       "    </tr>\n",
       "  </thead>\n",
       "  <tbody>\n",
       "    <tr>\n",
       "      <th>0</th>\n",
       "      <td>f5a749dd65924e025b1293c58f95f8d6</td>\n",
       "      <td>Bay Area 511 Capitol Corridor Schedule</td>\n",
       "      <td>3</td>\n",
       "      <td>Shuttle</td>\n",
       "      <td>Shuttle_Auburn</td>\n",
       "      <td>Shuttle</td>\n",
       "      <td>Shuttle__Shuttle_Auburn</td>\n",
       "      <td>0</td>\n",
       "      <td>0</td>\n",
       "      <td>0</td>\n",
       "      <td>1</td>\n",
       "      <td>1.00</td>\n",
       "      <td>104dc91b-4f7b-4f93-bea2-ebfe9adabcf3</td>\n",
       "      <td>Shuttle to Auburn</td>\n",
       "      <td>60220.51</td>\n",
       "      <td>1.00</td>\n",
       "      <td>0.00</td>\n",
       "      <td>0.00</td>\n",
       "    </tr>\n",
       "    <tr>\n",
       "      <th>1</th>\n",
       "      <td>f5a749dd65924e025b1293c58f95f8d6</td>\n",
       "      <td>Bay Area 511 Capitol Corridor Schedule</td>\n",
       "      <td>3</td>\n",
       "      <td>SF</td>\n",
       "      <td>Shuttle_SF</td>\n",
       "      <td>SF</td>\n",
       "      <td>SF__Shuttle_SF</td>\n",
       "      <td>0</td>\n",
       "      <td>0</td>\n",
       "      <td>0</td>\n",
       "      <td>1</td>\n",
       "      <td>0.00</td>\n",
       "      <td>cpz2</td>\n",
       "      <td>Shuttle to San Francisco Transbay Terminal</td>\n",
       "      <td>13495.52</td>\n",
       "      <td>0.00</td>\n",
       "      <td>1.00</td>\n",
       "      <td>1.00</td>\n",
       "    </tr>\n",
       "    <tr>\n",
       "      <th>2</th>\n",
       "      <td>f5a749dd65924e025b1293c58f95f8d6</td>\n",
       "      <td>Bay Area 511 Capitol Corridor Schedule</td>\n",
       "      <td>2</td>\n",
       "      <td>CC</td>\n",
       "      <td>Capitol Corridor</td>\n",
       "      <td>CC</td>\n",
       "      <td>CC__Capitol Corridor</td>\n",
       "      <td>0</td>\n",
       "      <td>0</td>\n",
       "      <td>1</td>\n",
       "      <td>0</td>\n",
       "      <td>NaN</td>\n",
       "      <td>NaN</td>\n",
       "      <td>NaN</td>\n",
       "      <td>NaN</td>\n",
       "      <td>NaN</td>\n",
       "      <td>NaN</td>\n",
       "      <td>NaN</td>\n",
       "    </tr>\n",
       "  </tbody>\n",
       "</table>\n",
       "</div>"
      ],
      "text/plain": [
       "          schedule_gtfs_dataset_key                                    name  \\\n",
       "0  f5a749dd65924e025b1293c58f95f8d6  Bay Area 511 Capitol Corridor Schedule   \n",
       "1  f5a749dd65924e025b1293c58f95f8d6  Bay Area 511 Capitol Corridor Schedule   \n",
       "2  f5a749dd65924e025b1293c58f95f8d6  Bay Area 511 Capitol Corridor Schedule   \n",
       "\n",
       "  route_type route_id   route_long_name route_short_name  \\\n",
       "0          3  Shuttle    Shuttle_Auburn          Shuttle   \n",
       "1          3       SF        Shuttle_SF               SF   \n",
       "2          2       CC  Capitol Corridor               CC   \n",
       "\n",
       "             combined_name  is_express  is_rapid  is_rail  is_local  \\\n",
       "0  Shuttle__Shuttle_Auburn           0         0        0         1   \n",
       "1           SF__Shuttle_SF           0         0        0         1   \n",
       "2     CC__Capitol Corridor           0         0        1         0   \n",
       "\n",
       "   direction_id                       common_shape_id  \\\n",
       "0          1.00  104dc91b-4f7b-4f93-bea2-ebfe9adabcf3   \n",
       "1          0.00                                  cpz2   \n",
       "2           NaN                                   NaN   \n",
       "\n",
       "                                   route_name  route_meters  \\\n",
       "0                           Shuttle to Auburn      60220.51   \n",
       "1  Shuttle to San Francisco Transbay Terminal      13495.52   \n",
       "2                                         NaN           NaN   \n",
       "\n",
       "   is_nacto_coverage  is_nacto_downtown_local  is_nacto_rapid  \n",
       "0               1.00                     0.00            0.00  \n",
       "1               0.00                     1.00            1.00  \n",
       "2                NaN                      NaN             NaN  "
      ]
     },
     "execution_count": 89,
     "metadata": {},
     "output_type": "execute_result"
    }
   ],
   "source": [
    "df3"
   ]
  },
  {
   "cell_type": "code",
   "execution_count": null,
   "id": "e7909638-b2ef-43fe-8ecb-b2cb323d1e00",
   "metadata": {},
   "outputs": [],
   "source": []
  }
 ],
 "metadata": {
  "kernelspec": {
   "display_name": "Python 3 (ipykernel)",
   "language": "python",
   "name": "python3"
  },
  "language_info": {
   "codemirror_mode": {
    "name": "ipython",
    "version": 3
   },
   "file_extension": ".py",
   "mimetype": "text/x-python",
   "name": "python",
   "nbconvert_exporter": "python",
   "pygments_lexer": "ipython3",
   "version": "3.11.6"
  }
 },
 "nbformat": 4,
 "nbformat_minor": 5
}
