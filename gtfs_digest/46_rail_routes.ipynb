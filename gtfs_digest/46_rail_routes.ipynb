{
 "cells": [
  {
   "cell_type": "markdown",
   "id": "46b4806a-c444-43bc-bbac-65d05510194a",
   "metadata": {},
   "source": [
    "## Where are the rail routes?"
   ]
  },
  {
   "cell_type": "code",
   "execution_count": 1,
   "id": "275b2deb-fb81-4b0c-9187-b95b4e3ac91b",
   "metadata": {},
   "outputs": [],
   "source": [
    "import _section1_utils as section1\n",
    "import geopandas as gpd\n",
    "import merge_data\n",
    "import merge_operator_data\n",
    "import numpy as np\n",
    "import pandas as pd\n",
    "from segment_speed_utils import gtfs_schedule_wrangling, helpers\n",
    "from shared_utils import portfolio_utils\n",
    "from update_vars import GTFS_DATA_DICT, RT_SCHED_GCS, SCHED_GCS, SEGMENT_GCS"
   ]
  },
  {
   "cell_type": "code",
   "execution_count": 2,
   "id": "fada069f-cdf0-46ee-bcc2-2ed524e4bbfa",
   "metadata": {},
   "outputs": [],
   "source": [
    "import sys\n",
    "\n",
    "sys.path.append(\"../gtfs_funnel/\")\n",
    "import route_typologies"
   ]
  },
  {
   "cell_type": "code",
   "execution_count": 3,
   "id": "1ca94708-911b-4e8d-96d8-17f60589e259",
   "metadata": {},
   "outputs": [],
   "source": [
    "pd.options.display.max_columns = 100\n",
    "pd.options.display.float_format = \"{:.2f}\".format\n",
    "pd.set_option(\"display.max_rows\", None)\n",
    "pd.set_option(\"display.max_colwidth\", None)"
   ]
  },
  {
   "cell_type": "code",
   "execution_count": 4,
   "id": "9f2e199e-08fe-44b7-8b61-727af9c90f9d",
   "metadata": {},
   "outputs": [],
   "source": [
    "org_name_lists = [\"Capitol Corridor Joint Powers Authority\"]"
   ]
  },
  {
   "cell_type": "code",
   "execution_count": 5,
   "id": "0307a4c0-c23b-46fd-8c0f-637421fabc17",
   "metadata": {},
   "outputs": [],
   "source": [
    "organization_name = \"Capitol Corridor Joint Powers Authority\""
   ]
  },
  {
   "cell_type": "code",
   "execution_count": 6,
   "id": "61a455db-6c28-44ed-a26c-f1578ecea800",
   "metadata": {},
   "outputs": [],
   "source": [
    "analysis_date_list = [\"2024-11-13\"]"
   ]
  },
  {
   "cell_type": "code",
   "execution_count": 7,
   "id": "104677e1-c3bb-4e80-aae7-598f4eca4f23",
   "metadata": {},
   "outputs": [],
   "source": [
    "analysis_date = \"2024-11-13\""
   ]
  },
  {
   "cell_type": "code",
   "execution_count": 8,
   "id": "e88b041f-a706-458e-9481-7d5f13894aa3",
   "metadata": {},
   "outputs": [],
   "source": [
    "schd_keys = [\n",
    "    \"f5a749dd65924e025b1293c58f95f8d6\",\n",
    "]"
   ]
  },
  {
   "cell_type": "code",
   "execution_count": 9,
   "id": "2a2062cc-bb14-4352-91a5-7a2faca93f2b",
   "metadata": {},
   "outputs": [],
   "source": [
    "name_list = [\"Bay Area 511 Capitol Corridor Schedule\"]"
   ]
  },
  {
   "cell_type": "code",
   "execution_count": 10,
   "id": "58db0f8e-ce06-4a22-a472-4486c5c761d0",
   "metadata": {},
   "outputs": [],
   "source": [
    "ROUTE_TYPOLOGIES = GTFS_DATA_DICT.schedule_tables.route_typologies\n",
    "route_typologies_df = pd.read_parquet(\n",
    "    f\"{SCHED_GCS}{ROUTE_TYPOLOGIES}_{analysis_date}.parquet\"\n",
    ")"
   ]
  },
  {
   "cell_type": "code",
   "execution_count": 11,
   "id": "a6bdc8c3-7dc2-49df-96ff-864a9db7c50a",
   "metadata": {},
   "outputs": [
    {
     "data": {
      "text/html": [
       "<div>\n",
       "<style scoped>\n",
       "    .dataframe tbody tr th:only-of-type {\n",
       "        vertical-align: middle;\n",
       "    }\n",
       "\n",
       "    .dataframe tbody tr th {\n",
       "        vertical-align: top;\n",
       "    }\n",
       "\n",
       "    .dataframe thead th {\n",
       "        text-align: right;\n",
       "    }\n",
       "</style>\n",
       "<table border=\"1\" class=\"dataframe\">\n",
       "  <thead>\n",
       "    <tr style=\"text-align: right;\">\n",
       "      <th></th>\n",
       "      <th>schedule_gtfs_dataset_key</th>\n",
       "      <th>name</th>\n",
       "      <th>route_type</th>\n",
       "      <th>route_id</th>\n",
       "      <th>route_long_name</th>\n",
       "      <th>route_short_name</th>\n",
       "      <th>combined_name</th>\n",
       "      <th>is_express</th>\n",
       "      <th>is_rapid</th>\n",
       "      <th>is_rail</th>\n",
       "      <th>is_local</th>\n",
       "      <th>direction_id</th>\n",
       "      <th>common_shape_id</th>\n",
       "      <th>route_name</th>\n",
       "      <th>route_meters</th>\n",
       "      <th>is_coverage</th>\n",
       "      <th>is_downtown_local</th>\n",
       "    </tr>\n",
       "  </thead>\n",
       "  <tbody>\n",
       "    <tr>\n",
       "      <th>0</th>\n",
       "      <td>1770249a5a2e770ca90628434d4934b1</td>\n",
       "      <td>VCTC GMV Schedule</td>\n",
       "      <td>3</td>\n",
       "      <td>3407</td>\n",
       "      <td>Route 18</td>\n",
       "      <td>Route 18</td>\n",
       "      <td>Route 18__Route 18</td>\n",
       "      <td>0</td>\n",
       "      <td>1</td>\n",
       "      <td>0</td>\n",
       "      <td>0</td>\n",
       "      <td>0.00</td>\n",
       "      <td>18827</td>\n",
       "      <td>OHS TRIPPER - C ST - DORIS ST</td>\n",
       "      <td>8611.13</td>\n",
       "      <td>1</td>\n",
       "      <td>0</td>\n",
       "    </tr>\n",
       "  </tbody>\n",
       "</table>\n",
       "</div>"
      ],
      "text/plain": [
       "          schedule_gtfs_dataset_key               name route_type route_id  \\\n",
       "0  1770249a5a2e770ca90628434d4934b1  VCTC GMV Schedule          3     3407   \n",
       "\n",
       "  route_long_name route_short_name       combined_name  is_express  is_rapid  \\\n",
       "0        Route 18         Route 18  Route 18__Route 18           0         1   \n",
       "\n",
       "   is_rail  is_local  direction_id common_shape_id  \\\n",
       "0        0         0          0.00           18827   \n",
       "\n",
       "                      route_name  route_meters  is_coverage  is_downtown_local  \n",
       "0  OHS TRIPPER - C ST - DORIS ST       8611.13            1                  0  "
      ]
     },
     "execution_count": 11,
     "metadata": {},
     "output_type": "execute_result"
    }
   ],
   "source": [
    "route_typologies_df.head(1)"
   ]
  },
  {
   "cell_type": "markdown",
   "id": "a8adf40a-66eb-4b77-83fe-80fdf70bcf8f",
   "metadata": {},
   "source": [
    "### Fix `operator_profile`\n",
    "* Nothing shows up for `# Rail Route Types` even though there's one rail route."
   ]
  },
  {
   "cell_type": "code",
   "execution_count": 12,
   "id": "aae9b6d5-f5b7-4528-9f8b-df914a70e055",
   "metadata": {},
   "outputs": [],
   "source": [
    "operator_profiles = section1.load_operator_ntd_profile(organization_name)"
   ]
  },
  {
   "cell_type": "code",
   "execution_count": 13,
   "id": "62fc231f-efa2-4131-abdc-3e13068fd139",
   "metadata": {},
   "outputs": [
    {
     "data": {
      "text/html": [
       "<div>\n",
       "<style scoped>\n",
       "    .dataframe tbody tr th:only-of-type {\n",
       "        vertical-align: middle;\n",
       "    }\n",
       "\n",
       "    .dataframe tbody tr th {\n",
       "        vertical-align: top;\n",
       "    }\n",
       "\n",
       "    .dataframe thead th {\n",
       "        text-align: right;\n",
       "    }\n",
       "</style>\n",
       "<table border=\"1\" class=\"dataframe\">\n",
       "  <thead>\n",
       "    <tr style=\"text-align: right;\">\n",
       "      <th></th>\n",
       "      <th>schedule_gtfs_dataset_key</th>\n",
       "      <th>VP per Minute (All Routes)</th>\n",
       "      <th>Spatial Accuracy (All Routes)</th>\n",
       "      <th>Date</th>\n",
       "      <th># Routes</th>\n",
       "      <th># Trips</th>\n",
       "      <th># Shapes</th>\n",
       "      <th># Stops</th>\n",
       "      <th># Arrivals</th>\n",
       "      <th>Operator Service Miles</th>\n",
       "      <th>Avg Arrivals per Stop</th>\n",
       "      <th># Downtown Local Route Types</th>\n",
       "      <th># Local Route Types</th>\n",
       "      <th># Coverage Route Types</th>\n",
       "      <th># Rapid Route Types</th>\n",
       "      <th># Express Route Types</th>\n",
       "      <th># Rail Route Types</th>\n",
       "      <th>Transit Operator</th>\n",
       "      <th>Organization ID</th>\n",
       "      <th>Organization</th>\n",
       "      <th>District</th>\n",
       "      <th>counties_served</th>\n",
       "      <th>service_area_sq_miles</th>\n",
       "      <th>hq_city</th>\n",
       "      <th>service_area_pop</th>\n",
       "      <th>organization_type</th>\n",
       "      <th>primary_uza_name</th>\n",
       "      <th>reporter_type</th>\n",
       "    </tr>\n",
       "  </thead>\n",
       "  <tbody>\n",
       "    <tr>\n",
       "      <th>13</th>\n",
       "      <td>f5a749dd65924e025b1293c58f95f8d6</td>\n",
       "      <td>2.57</td>\n",
       "      <td>0.00</td>\n",
       "      <td>2024-12-11</td>\n",
       "      <td>3.00</td>\n",
       "      <td>57.00</td>\n",
       "      <td>13.00</td>\n",
       "      <td>20.00</td>\n",
       "      <td>378.00</td>\n",
       "      <td>233.57</td>\n",
       "      <td>18.90</td>\n",
       "      <td>0.00</td>\n",
       "      <td>0.00</td>\n",
       "      <td>1.00</td>\n",
       "      <td>0.00</td>\n",
       "      <td>0.00</td>\n",
       "      <td>0.00</td>\n",
       "      <td>Bay Area 511 Capitol Corridor Schedule</td>\n",
       "      <td>recvEBkSBc7UxlarC</td>\n",
       "      <td>Capitol Corridor Joint Powers Authority</td>\n",
       "      <td>04 - Oakland</td>\n",
       "      <td>None</td>\n",
       "      <td>&lt;NA&gt;</td>\n",
       "      <td>None</td>\n",
       "      <td>&lt;NA&gt;</td>\n",
       "      <td>None</td>\n",
       "      <td>None</td>\n",
       "      <td>None</td>\n",
       "    </tr>\n",
       "  </tbody>\n",
       "</table>\n",
       "</div>"
      ],
      "text/plain": [
       "           schedule_gtfs_dataset_key  VP per Minute (All Routes)  \\\n",
       "13  f5a749dd65924e025b1293c58f95f8d6                        2.57   \n",
       "\n",
       "    Spatial Accuracy (All Routes)       Date  # Routes  # Trips  # Shapes  \\\n",
       "13                           0.00 2024-12-11      3.00    57.00     13.00   \n",
       "\n",
       "    # Stops  # Arrivals  Operator Service Miles  Avg Arrivals per Stop  \\\n",
       "13    20.00      378.00                  233.57                  18.90   \n",
       "\n",
       "    # Downtown Local Route Types  # Local Route Types  # Coverage Route Types  \\\n",
       "13                          0.00                 0.00                    1.00   \n",
       "\n",
       "    # Rapid Route Types  # Express Route Types  # Rail Route Types  \\\n",
       "13                 0.00                   0.00                0.00   \n",
       "\n",
       "                          Transit Operator    Organization ID  \\\n",
       "13  Bay Area 511 Capitol Corridor Schedule  recvEBkSBc7UxlarC   \n",
       "\n",
       "                               Organization      District counties_served  \\\n",
       "13  Capitol Corridor Joint Powers Authority  04 - Oakland            None   \n",
       "\n",
       "    service_area_sq_miles hq_city  service_area_pop organization_type  \\\n",
       "13                   <NA>    None              <NA>              None   \n",
       "\n",
       "   primary_uza_name reporter_type  \n",
       "13             None          None  "
      ]
     },
     "execution_count": 13,
     "metadata": {},
     "output_type": "execute_result"
    }
   ],
   "source": [
    "operator_profiles"
   ]
  },
  {
   "cell_type": "code",
   "execution_count": 14,
   "id": "ef75e93b-3bc6-4db3-bf31-ebdc458d79d2",
   "metadata": {},
   "outputs": [
    {
     "data": {
      "text/plain": [
       "'gs://calitp-analytics-data/data-analyses/rt_vs_schedule/digest/operator_profiles.parquet'"
      ]
     },
     "execution_count": 14,
     "metadata": {},
     "output_type": "execute_result"
    }
   ],
   "source": [
    "f\"{GTFS_DATA_DICT.digest_tables.dir}{GTFS_DATA_DICT.digest_tables.operator_profiles}.parquet\""
   ]
  },
  {
   "cell_type": "markdown",
   "id": "f19f7276-1d8b-4e2f-a62a-008c07d4d7e2",
   "metadata": {},
   "source": [
    "#### Go to `gtfs_digest/merge_operator_data/concatenate_rt_vs_schedule_operator_metrics`"
   ]
  },
  {
   "cell_type": "code",
   "execution_count": 15,
   "id": "678ee483-f8c3-45bd-93ee-5645342313de",
   "metadata": {},
   "outputs": [],
   "source": [
    "op_rt_sched_metrics = merge_operator_data.concatenate_rt_vs_schedule_operator_metrics(\n",
    "    analysis_date_list\n",
    ")"
   ]
  },
  {
   "cell_type": "code",
   "execution_count": 16,
   "id": "066822ca-5307-4738-9153-09b7ffc6c941",
   "metadata": {},
   "outputs": [
    {
     "data": {
      "text/html": [
       "<div>\n",
       "<style scoped>\n",
       "    .dataframe tbody tr th:only-of-type {\n",
       "        vertical-align: middle;\n",
       "    }\n",
       "\n",
       "    .dataframe tbody tr th {\n",
       "        vertical-align: top;\n",
       "    }\n",
       "\n",
       "    .dataframe thead th {\n",
       "        text-align: right;\n",
       "    }\n",
       "</style>\n",
       "<table border=\"1\" class=\"dataframe\">\n",
       "  <thead>\n",
       "    <tr style=\"text-align: right;\">\n",
       "      <th></th>\n",
       "      <th>schedule_gtfs_dataset_key</th>\n",
       "      <th>operator_n_routes</th>\n",
       "      <th>operator_n_trips</th>\n",
       "      <th>operator_n_shapes</th>\n",
       "      <th>operator_n_stops</th>\n",
       "      <th>operator_n_arrivals</th>\n",
       "      <th>operator_route_length_miles</th>\n",
       "      <th>operator_arrivals_per_stop</th>\n",
       "      <th>n_downtown_local_routes</th>\n",
       "      <th>n_local_routes</th>\n",
       "      <th>n_coverage_routes</th>\n",
       "      <th>n_rapid_routes</th>\n",
       "      <th>n_express_routes</th>\n",
       "      <th>n_rail_routes</th>\n",
       "      <th>name</th>\n",
       "      <th>organization_source_record_id</th>\n",
       "      <th>organization_name</th>\n",
       "      <th>service_date</th>\n",
       "    </tr>\n",
       "  </thead>\n",
       "  <tbody>\n",
       "    <tr>\n",
       "      <th>0</th>\n",
       "      <td>0139b1253130b33adcd4b3a4490530d2</td>\n",
       "      <td>25</td>\n",
       "      <td>310</td>\n",
       "      <td>132</td>\n",
       "      <td>308</td>\n",
       "      <td>4859</td>\n",
       "      <td>664.70</td>\n",
       "      <td>15.78</td>\n",
       "      <td>0</td>\n",
       "      <td>0</td>\n",
       "      <td>24</td>\n",
       "      <td>14</td>\n",
       "      <td>0</td>\n",
       "      <td>0</td>\n",
       "      <td>TCRTA TripShot Schedule</td>\n",
       "      <td>rec4YWVqVwJ9XqDbq</td>\n",
       "      <td>Tulare County Regional Transit Agency</td>\n",
       "      <td>2024-11-13</td>\n",
       "    </tr>\n",
       "  </tbody>\n",
       "</table>\n",
       "</div>"
      ],
      "text/plain": [
       "          schedule_gtfs_dataset_key  operator_n_routes  operator_n_trips  \\\n",
       "0  0139b1253130b33adcd4b3a4490530d2                 25               310   \n",
       "\n",
       "   operator_n_shapes  operator_n_stops  operator_n_arrivals  \\\n",
       "0                132               308                 4859   \n",
       "\n",
       "   operator_route_length_miles  operator_arrivals_per_stop  \\\n",
       "0                       664.70                       15.78   \n",
       "\n",
       "   n_downtown_local_routes  n_local_routes  n_coverage_routes  n_rapid_routes  \\\n",
       "0                        0               0                 24              14   \n",
       "\n",
       "   n_express_routes  n_rail_routes                     name  \\\n",
       "0                 0              0  TCRTA TripShot Schedule   \n",
       "\n",
       "  organization_source_record_id                      organization_name  \\\n",
       "0             rec4YWVqVwJ9XqDbq  Tulare County Regional Transit Agency   \n",
       "\n",
       "  service_date  \n",
       "0   2024-11-13  "
      ]
     },
     "execution_count": 16,
     "metadata": {},
     "output_type": "execute_result"
    }
   ],
   "source": [
    "op_rt_sched_metrics.head(1)"
   ]
  },
  {
   "cell_type": "code",
   "execution_count": 17,
   "id": "239c5867-5fd8-401a-8361-cafc20a213a8",
   "metadata": {},
   "outputs": [],
   "source": [
    "op_rt_sched_metrics = op_rt_sched_metrics.loc[\n",
    "    op_rt_sched_metrics.schedule_gtfs_dataset_key.isin(schd_keys)\n",
    "]"
   ]
  },
  {
   "cell_type": "code",
   "execution_count": 18,
   "id": "0d0dcd8f-bd1d-4778-a526-435b820c0cd4",
   "metadata": {},
   "outputs": [
    {
     "data": {
      "text/html": [
       "<div>\n",
       "<style scoped>\n",
       "    .dataframe tbody tr th:only-of-type {\n",
       "        vertical-align: middle;\n",
       "    }\n",
       "\n",
       "    .dataframe tbody tr th {\n",
       "        vertical-align: top;\n",
       "    }\n",
       "\n",
       "    .dataframe thead th {\n",
       "        text-align: right;\n",
       "    }\n",
       "</style>\n",
       "<table border=\"1\" class=\"dataframe\">\n",
       "  <thead>\n",
       "    <tr style=\"text-align: right;\">\n",
       "      <th></th>\n",
       "      <th>schedule_gtfs_dataset_key</th>\n",
       "      <th>operator_n_routes</th>\n",
       "      <th>operator_n_trips</th>\n",
       "      <th>operator_n_shapes</th>\n",
       "      <th>operator_n_stops</th>\n",
       "      <th>operator_n_arrivals</th>\n",
       "      <th>operator_route_length_miles</th>\n",
       "      <th>operator_arrivals_per_stop</th>\n",
       "      <th>n_downtown_local_routes</th>\n",
       "      <th>n_local_routes</th>\n",
       "      <th>n_coverage_routes</th>\n",
       "      <th>n_rapid_routes</th>\n",
       "      <th>n_express_routes</th>\n",
       "      <th>n_rail_routes</th>\n",
       "      <th>name</th>\n",
       "      <th>organization_source_record_id</th>\n",
       "      <th>organization_name</th>\n",
       "      <th>service_date</th>\n",
       "    </tr>\n",
       "  </thead>\n",
       "  <tbody>\n",
       "    <tr>\n",
       "      <th>178</th>\n",
       "      <td>f5a749dd65924e025b1293c58f95f8d6</td>\n",
       "      <td>3</td>\n",
       "      <td>57</td>\n",
       "      <td>13</td>\n",
       "      <td>20</td>\n",
       "      <td>378</td>\n",
       "      <td>233.57</td>\n",
       "      <td>18.90</td>\n",
       "      <td>0</td>\n",
       "      <td>0</td>\n",
       "      <td>1</td>\n",
       "      <td>0</td>\n",
       "      <td>0</td>\n",
       "      <td>0</td>\n",
       "      <td>Bay Area 511 Capitol Corridor Schedule</td>\n",
       "      <td>recvEBkSBc7UxlarC</td>\n",
       "      <td>Capitol Corridor Joint Powers Authority</td>\n",
       "      <td>2024-11-13</td>\n",
       "    </tr>\n",
       "  </tbody>\n",
       "</table>\n",
       "</div>"
      ],
      "text/plain": [
       "            schedule_gtfs_dataset_key  operator_n_routes  operator_n_trips  \\\n",
       "178  f5a749dd65924e025b1293c58f95f8d6                  3                57   \n",
       "\n",
       "     operator_n_shapes  operator_n_stops  operator_n_arrivals  \\\n",
       "178                 13                20                  378   \n",
       "\n",
       "     operator_route_length_miles  operator_arrivals_per_stop  \\\n",
       "178                       233.57                       18.90   \n",
       "\n",
       "     n_downtown_local_routes  n_local_routes  n_coverage_routes  \\\n",
       "178                        0               0                  1   \n",
       "\n",
       "     n_rapid_routes  n_express_routes  n_rail_routes  \\\n",
       "178               0                 0              0   \n",
       "\n",
       "                                       name organization_source_record_id  \\\n",
       "178  Bay Area 511 Capitol Corridor Schedule             recvEBkSBc7UxlarC   \n",
       "\n",
       "                           organization_name service_date  \n",
       "178  Capitol Corridor Joint Powers Authority   2024-11-13  "
      ]
     },
     "execution_count": 18,
     "metadata": {},
     "output_type": "execute_result"
    }
   ],
   "source": [
    "op_rt_sched_metrics"
   ]
  },
  {
   "cell_type": "markdown",
   "id": "110dc101-61ec-413f-9d1a-223ecd485a65",
   "metadata": {},
   "source": [
    "#### File I need to correct is in `data-analyses/gtfs_funnel/operator_scheduled_stats.py`"
   ]
  },
  {
   "cell_type": "code",
   "execution_count": 19,
   "id": "ee1a3041-7cfd-4d10-b746-d01a82889cc5",
   "metadata": {},
   "outputs": [
    {
     "data": {
      "text/plain": [
       "'operator_profiles/operator_scheduled_stats'"
      ]
     },
     "execution_count": 19,
     "metadata": {},
     "output_type": "execute_result"
    }
   ],
   "source": [
    "GTFS_DATA_DICT.schedule_tables.operator_scheduled_stats"
   ]
  },
  {
   "cell_type": "code",
   "execution_count": 20,
   "id": "22203ab7-da5c-44ab-99a8-83b05987b024",
   "metadata": {},
   "outputs": [],
   "source": [
    "ROUTE_TYPOLOGY = GTFS_DATA_DICT.schedule_tables.route_typologies"
   ]
  },
  {
   "cell_type": "markdown",
   "id": "07419381-8ef9-45ba-bd6d-4b7358cc1e1d",
   "metadata": {},
   "source": [
    "#### I thought I ran this yesterday"
   ]
  },
  {
   "cell_type": "code",
   "execution_count": 21,
   "id": "0b19a8c2-556e-438a-a158-231c02bda43b",
   "metadata": {},
   "outputs": [],
   "source": [
    "route_typology = pd.read_parquet(f\"{SCHED_GCS}{ROUTE_TYPOLOGY}_{analysis_date}.parquet\")"
   ]
  },
  {
   "cell_type": "code",
   "execution_count": 22,
   "id": "002a30b0-1b9b-4443-a255-d074731566d5",
   "metadata": {},
   "outputs": [
    {
     "data": {
      "text/plain": [
       "'2024-11-13'"
      ]
     },
     "execution_count": 22,
     "metadata": {},
     "output_type": "execute_result"
    }
   ],
   "source": [
    "analysis_date"
   ]
  },
  {
   "cell_type": "code",
   "execution_count": 23,
   "id": "c58e246d-e013-4c32-9ad7-e49457c677cb",
   "metadata": {},
   "outputs": [],
   "source": [
    "route_typology = route_typology.loc[route_typology.name.isin(name_list)]"
   ]
  },
  {
   "cell_type": "code",
   "execution_count": 24,
   "id": "13b3fcc3-7181-4a40-b2bb-50d9dfe609d9",
   "metadata": {},
   "outputs": [
    {
     "data": {
      "text/html": [
       "<div>\n",
       "<style scoped>\n",
       "    .dataframe tbody tr th:only-of-type {\n",
       "        vertical-align: middle;\n",
       "    }\n",
       "\n",
       "    .dataframe tbody tr th {\n",
       "        vertical-align: top;\n",
       "    }\n",
       "\n",
       "    .dataframe thead th {\n",
       "        text-align: right;\n",
       "    }\n",
       "</style>\n",
       "<table border=\"1\" class=\"dataframe\">\n",
       "  <thead>\n",
       "    <tr style=\"text-align: right;\">\n",
       "      <th></th>\n",
       "      <th>schedule_gtfs_dataset_key</th>\n",
       "      <th>name</th>\n",
       "      <th>route_type</th>\n",
       "      <th>route_id</th>\n",
       "      <th>route_long_name</th>\n",
       "      <th>route_short_name</th>\n",
       "      <th>combined_name</th>\n",
       "      <th>is_express</th>\n",
       "      <th>is_rapid</th>\n",
       "      <th>is_rail</th>\n",
       "      <th>is_local</th>\n",
       "      <th>direction_id</th>\n",
       "      <th>common_shape_id</th>\n",
       "      <th>route_name</th>\n",
       "      <th>route_meters</th>\n",
       "      <th>is_coverage</th>\n",
       "      <th>is_downtown_local</th>\n",
       "    </tr>\n",
       "  </thead>\n",
       "  <tbody>\n",
       "    <tr>\n",
       "      <th>1505</th>\n",
       "      <td>f5a749dd65924e025b1293c58f95f8d6</td>\n",
       "      <td>Bay Area 511 Capitol Corridor Schedule</td>\n",
       "      <td>3</td>\n",
       "      <td>Shuttle</td>\n",
       "      <td>Shuttle_Auburn</td>\n",
       "      <td>Shuttle</td>\n",
       "      <td>Shuttle__Shuttle_Auburn</td>\n",
       "      <td>0</td>\n",
       "      <td>0</td>\n",
       "      <td>0</td>\n",
       "      <td>0</td>\n",
       "      <td>1.00</td>\n",
       "      <td>104dc91b-4f7b-4f93-bea2-ebfe9adabcf3</td>\n",
       "      <td>Shuttle to Auburn</td>\n",
       "      <td>60220.51</td>\n",
       "      <td>1</td>\n",
       "      <td>0</td>\n",
       "    </tr>\n",
       "  </tbody>\n",
       "</table>\n",
       "</div>"
      ],
      "text/plain": [
       "             schedule_gtfs_dataset_key  \\\n",
       "1505  f5a749dd65924e025b1293c58f95f8d6   \n",
       "\n",
       "                                        name route_type route_id  \\\n",
       "1505  Bay Area 511 Capitol Corridor Schedule          3  Shuttle   \n",
       "\n",
       "     route_long_name route_short_name            combined_name  is_express  \\\n",
       "1505  Shuttle_Auburn          Shuttle  Shuttle__Shuttle_Auburn           0   \n",
       "\n",
       "      is_rapid  is_rail  is_local  direction_id  \\\n",
       "1505         0        0         0          1.00   \n",
       "\n",
       "                           common_shape_id         route_name  route_meters  \\\n",
       "1505  104dc91b-4f7b-4f93-bea2-ebfe9adabcf3  Shuttle to Auburn      60220.51   \n",
       "\n",
       "      is_coverage  is_downtown_local  \n",
       "1505            1                  0  "
      ]
     },
     "execution_count": 24,
     "metadata": {},
     "output_type": "execute_result"
    }
   ],
   "source": [
    "route_typology"
   ]
  },
  {
   "cell_type": "code",
   "execution_count": null,
   "id": "d160492d-e74c-4055-88cd-38666ecb26f6",
   "metadata": {},
   "outputs": [],
   "source": []
  },
  {
   "cell_type": "markdown",
   "id": "0256ab5b-1e21-4e11-b37e-f17f1a6f22a5",
   "metadata": {},
   "source": [
    "### Only one route appears."
   ]
  },
  {
   "cell_type": "markdown",
   "id": "47f7416a-050c-4155-afad-9f66d317a38a",
   "metadata": {},
   "source": [
    "### Check out `gtfs_funnel/route_typologies/categorize_routes_by_name`\n",
    "* 3 routes appear. One is rail.\n",
    "* All 3 routes are retained until the end."
   ]
  },
  {
   "cell_type": "code",
   "execution_count": 25,
   "id": "e0e879c1-c8a7-406b-8f1e-ee13c674266e",
   "metadata": {},
   "outputs": [],
   "source": [
    "df = helpers.import_scheduled_trips(\n",
    "    analysis_date,\n",
    "    columns=[\n",
    "        \"gtfs_dataset_key\",\n",
    "        \"name\",\n",
    "        \"route_type\",\n",
    "        \"route_id\",\n",
    "        \"route_long_name\",\n",
    "        \"route_short_name\",\n",
    "    ],\n",
    "    get_pandas=True,\n",
    ")"
   ]
  },
  {
   "cell_type": "code",
   "execution_count": 26,
   "id": "04170ee3-7bde-4ebb-a7c7-a906658d962d",
   "metadata": {},
   "outputs": [],
   "source": [
    "df = df.loc[df.name.isin(name_list)]"
   ]
  },
  {
   "cell_type": "code",
   "execution_count": 27,
   "id": "6d7e7894-79a6-43ee-8974-7715629c3118",
   "metadata": {},
   "outputs": [],
   "source": [
    "df = df.assign(\n",
    "    route_id=df.route_id.fillna(\"\"),\n",
    "    route_short_name=df.route_short_name.fillna(\"\"),\n",
    "    route_long_name=df.route_long_name.fillna(\"\"),\n",
    ")"
   ]
  },
  {
   "cell_type": "code",
   "execution_count": 28,
   "id": "8e3c0b66-c6cb-4819-a1a2-c138ee505fa9",
   "metadata": {},
   "outputs": [],
   "source": [
    "df = df.assign(combined_name=df.route_short_name + \"__\" + df.route_long_name)"
   ]
  },
  {
   "cell_type": "code",
   "execution_count": 29,
   "id": "c056d5d0-eec3-4326-8ef3-e6344ac0a105",
   "metadata": {},
   "outputs": [
    {
     "data": {
      "text/html": [
       "<div>\n",
       "<style scoped>\n",
       "    .dataframe tbody tr th:only-of-type {\n",
       "        vertical-align: middle;\n",
       "    }\n",
       "\n",
       "    .dataframe tbody tr th {\n",
       "        vertical-align: top;\n",
       "    }\n",
       "\n",
       "    .dataframe thead th {\n",
       "        text-align: right;\n",
       "    }\n",
       "</style>\n",
       "<table border=\"1\" class=\"dataframe\">\n",
       "  <thead>\n",
       "    <tr style=\"text-align: right;\">\n",
       "      <th></th>\n",
       "      <th>schedule_gtfs_dataset_key</th>\n",
       "      <th>name</th>\n",
       "      <th>route_type</th>\n",
       "      <th>route_id</th>\n",
       "      <th>route_long_name</th>\n",
       "      <th>route_short_name</th>\n",
       "      <th>combined_name</th>\n",
       "    </tr>\n",
       "  </thead>\n",
       "  <tbody>\n",
       "    <tr>\n",
       "      <th>1122</th>\n",
       "      <td>f5a749dd65924e025b1293c58f95f8d6</td>\n",
       "      <td>Bay Area 511 Capitol Corridor Schedule</td>\n",
       "      <td>3</td>\n",
       "      <td>Shuttle</td>\n",
       "      <td>Shuttle_Auburn</td>\n",
       "      <td>Shuttle</td>\n",
       "      <td>Shuttle__Shuttle_Auburn</td>\n",
       "    </tr>\n",
       "    <tr>\n",
       "      <th>1123</th>\n",
       "      <td>f5a749dd65924e025b1293c58f95f8d6</td>\n",
       "      <td>Bay Area 511 Capitol Corridor Schedule</td>\n",
       "      <td>3</td>\n",
       "      <td>SF</td>\n",
       "      <td>Shuttle_SF</td>\n",
       "      <td>SF</td>\n",
       "      <td>SF__Shuttle_SF</td>\n",
       "    </tr>\n",
       "    <tr>\n",
       "      <th>1124</th>\n",
       "      <td>f5a749dd65924e025b1293c58f95f8d6</td>\n",
       "      <td>Bay Area 511 Capitol Corridor Schedule</td>\n",
       "      <td>2</td>\n",
       "      <td>CC</td>\n",
       "      <td>Capitol Corridor</td>\n",
       "      <td>CC</td>\n",
       "      <td>CC__Capitol Corridor</td>\n",
       "    </tr>\n",
       "  </tbody>\n",
       "</table>\n",
       "</div>"
      ],
      "text/plain": [
       "             schedule_gtfs_dataset_key  \\\n",
       "1122  f5a749dd65924e025b1293c58f95f8d6   \n",
       "1123  f5a749dd65924e025b1293c58f95f8d6   \n",
       "1124  f5a749dd65924e025b1293c58f95f8d6   \n",
       "\n",
       "                                        name route_type route_id  \\\n",
       "1122  Bay Area 511 Capitol Corridor Schedule          3  Shuttle   \n",
       "1123  Bay Area 511 Capitol Corridor Schedule          3       SF   \n",
       "1124  Bay Area 511 Capitol Corridor Schedule          2       CC   \n",
       "\n",
       "       route_long_name route_short_name            combined_name  \n",
       "1122    Shuttle_Auburn          Shuttle  Shuttle__Shuttle_Auburn  \n",
       "1123        Shuttle_SF               SF           SF__Shuttle_SF  \n",
       "1124  Capitol Corridor               CC     CC__Capitol Corridor  "
      ]
     },
     "execution_count": 29,
     "metadata": {},
     "output_type": "execute_result"
    }
   ],
   "source": [
    "df"
   ]
  },
  {
   "cell_type": "code",
   "execution_count": 30,
   "id": "787ac861-87d5-419b-a3cb-1003d1ec64e0",
   "metadata": {},
   "outputs": [],
   "source": [
    "def tag_rapid_express_rail(route_name_string: str, route_type_string: str) -> pd.Series:\n",
    "    \"\"\"\n",
    "    Use the combined route_name and see if we can\n",
    "    tag out words that indicate the route is\n",
    "    express, rapid, local, and rail.\n",
    "\n",
    "    Treat rail as own category.\n",
    "    For local routes, we'll pass that through NACTO to see\n",
    "    if we can better categorize as downtown_local, local, or coverage.\n",
    "    \"\"\"\n",
    "    route_name_string = route_name_string.lower()\n",
    "\n",
    "    express = 0\n",
    "    rapid = 0\n",
    "    rail = 0\n",
    "\n",
    "    if any(substring in route_name_string for substring in [\"express\", \"limited\"]):\n",
    "        express = 1\n",
    "    if \"rapid\" in route_name_string:\n",
    "        rapid = 1\n",
    "\n",
    "    rail_types = [\"0\", \"1\", \"2\", \"5\", \"6\", \"7\", \"11\", \"12\"]\n",
    "    if route_type_string in rail_types:\n",
    "        rail = 1\n",
    "\n",
    "    return pd.Series(\n",
    "        [express, rapid, rail], index=[\"is_express\", \"is_rapid\", \"is_rail\"]\n",
    "    )"
   ]
  },
  {
   "cell_type": "code",
   "execution_count": 31,
   "id": "7e00497d-fb33-4baf-b172-e6aa7edba24b",
   "metadata": {},
   "outputs": [],
   "source": [
    "typology_tags = df.apply(\n",
    "    lambda x: tag_rapid_express_rail(x.combined_name, x.route_type), axis=1\n",
    ")"
   ]
  },
  {
   "cell_type": "code",
   "execution_count": 32,
   "id": "82613d2d-cf73-4b61-aed0-235c08cafd74",
   "metadata": {},
   "outputs": [],
   "source": [
    "df2 = pd.concat([df, typology_tags], axis=1)"
   ]
  },
  {
   "cell_type": "code",
   "execution_count": 33,
   "id": "2d67f0c0-7f98-478d-9b5e-e90ac193b008",
   "metadata": {},
   "outputs": [],
   "source": [
    "df2 = df2.assign(\n",
    "    is_local=df2.apply(\n",
    "        lambda x: 1\n",
    "        if (x.is_express == 0) and (x.is_rapid == 0) and (x.is_rail == 0)\n",
    "        else 0,\n",
    "        axis=1,\n",
    "    ).astype(int)\n",
    ")"
   ]
  },
  {
   "cell_type": "code",
   "execution_count": 34,
   "id": "3a8872f6-166c-47a1-a8fc-250a12dac0c5",
   "metadata": {},
   "outputs": [
    {
     "data": {
      "text/html": [
       "<div>\n",
       "<style scoped>\n",
       "    .dataframe tbody tr th:only-of-type {\n",
       "        vertical-align: middle;\n",
       "    }\n",
       "\n",
       "    .dataframe tbody tr th {\n",
       "        vertical-align: top;\n",
       "    }\n",
       "\n",
       "    .dataframe thead th {\n",
       "        text-align: right;\n",
       "    }\n",
       "</style>\n",
       "<table border=\"1\" class=\"dataframe\">\n",
       "  <thead>\n",
       "    <tr style=\"text-align: right;\">\n",
       "      <th></th>\n",
       "      <th>schedule_gtfs_dataset_key</th>\n",
       "      <th>name</th>\n",
       "      <th>route_type</th>\n",
       "      <th>route_id</th>\n",
       "      <th>route_long_name</th>\n",
       "      <th>route_short_name</th>\n",
       "      <th>combined_name</th>\n",
       "      <th>is_express</th>\n",
       "      <th>is_rapid</th>\n",
       "      <th>is_rail</th>\n",
       "      <th>is_local</th>\n",
       "    </tr>\n",
       "  </thead>\n",
       "  <tbody>\n",
       "    <tr>\n",
       "      <th>1122</th>\n",
       "      <td>f5a749dd65924e025b1293c58f95f8d6</td>\n",
       "      <td>Bay Area 511 Capitol Corridor Schedule</td>\n",
       "      <td>3</td>\n",
       "      <td>Shuttle</td>\n",
       "      <td>Shuttle_Auburn</td>\n",
       "      <td>Shuttle</td>\n",
       "      <td>Shuttle__Shuttle_Auburn</td>\n",
       "      <td>0</td>\n",
       "      <td>0</td>\n",
       "      <td>0</td>\n",
       "      <td>1</td>\n",
       "    </tr>\n",
       "    <tr>\n",
       "      <th>1123</th>\n",
       "      <td>f5a749dd65924e025b1293c58f95f8d6</td>\n",
       "      <td>Bay Area 511 Capitol Corridor Schedule</td>\n",
       "      <td>3</td>\n",
       "      <td>SF</td>\n",
       "      <td>Shuttle_SF</td>\n",
       "      <td>SF</td>\n",
       "      <td>SF__Shuttle_SF</td>\n",
       "      <td>0</td>\n",
       "      <td>0</td>\n",
       "      <td>0</td>\n",
       "      <td>1</td>\n",
       "    </tr>\n",
       "    <tr>\n",
       "      <th>1124</th>\n",
       "      <td>f5a749dd65924e025b1293c58f95f8d6</td>\n",
       "      <td>Bay Area 511 Capitol Corridor Schedule</td>\n",
       "      <td>2</td>\n",
       "      <td>CC</td>\n",
       "      <td>Capitol Corridor</td>\n",
       "      <td>CC</td>\n",
       "      <td>CC__Capitol Corridor</td>\n",
       "      <td>0</td>\n",
       "      <td>0</td>\n",
       "      <td>1</td>\n",
       "      <td>0</td>\n",
       "    </tr>\n",
       "  </tbody>\n",
       "</table>\n",
       "</div>"
      ],
      "text/plain": [
       "             schedule_gtfs_dataset_key  \\\n",
       "1122  f5a749dd65924e025b1293c58f95f8d6   \n",
       "1123  f5a749dd65924e025b1293c58f95f8d6   \n",
       "1124  f5a749dd65924e025b1293c58f95f8d6   \n",
       "\n",
       "                                        name route_type route_id  \\\n",
       "1122  Bay Area 511 Capitol Corridor Schedule          3  Shuttle   \n",
       "1123  Bay Area 511 Capitol Corridor Schedule          3       SF   \n",
       "1124  Bay Area 511 Capitol Corridor Schedule          2       CC   \n",
       "\n",
       "       route_long_name route_short_name            combined_name  is_express  \\\n",
       "1122    Shuttle_Auburn          Shuttle  Shuttle__Shuttle_Auburn           0   \n",
       "1123        Shuttle_SF               SF           SF__Shuttle_SF           0   \n",
       "1124  Capitol Corridor               CC     CC__Capitol Corridor           0   \n",
       "\n",
       "      is_rapid  is_rail  is_local  \n",
       "1122         0        0         1  \n",
       "1123         0        0         1  \n",
       "1124         0        1         0  "
      ]
     },
     "execution_count": 34,
     "metadata": {},
     "output_type": "execute_result"
    }
   ],
   "source": [
    "df2"
   ]
  },
  {
   "cell_type": "markdown",
   "id": "045c6eda-ba36-40b6-8e66-b31b1ce88c4a",
   "metadata": {},
   "source": [
    "### `prep_roads`"
   ]
  },
  {
   "cell_type": "code",
   "execution_count": 35,
   "id": "e6a009ce-34bd-425e-acde-394402c9a5f3",
   "metadata": {},
   "outputs": [],
   "source": [
    "roads = route_typologies.prep_roads(GTFS_DATA_DICT)"
   ]
  },
  {
   "cell_type": "markdown",
   "id": "df937a55-1b88-4921-9204-077c65b20f8e",
   "metadata": {},
   "source": [
    "### `overlay_shapes_to_roads`\n",
    "* The other 2 routes disappear here. \n",
    "* Break it out here. "
   ]
  },
  {
   "cell_type": "code",
   "execution_count": 36,
   "id": "76270a4f-1513-4624-9dd3-0dbc1cb4d678",
   "metadata": {},
   "outputs": [],
   "source": [
    "ROAD_BUFFER_METERS = 20"
   ]
  },
  {
   "cell_type": "markdown",
   "id": "bdbb14e3-2235-48a0-90a8-370e4d0ebbec",
   "metadata": {},
   "source": [
    "#### `common_shape` doesn't have the rail routes -> go to `segment_speed_utils/gtfs_schedule_wrangling` to find it."
   ]
  },
  {
   "cell_type": "code",
   "execution_count": 37,
   "id": "2bbb09f1-5db1-4e99-84d9-e46b50086ccd",
   "metadata": {},
   "outputs": [],
   "source": [
    "route_dir_cols = [\"gtfs_dataset_key\", \"route_id\", \"direction_id\"]\n",
    "\n",
    "keep_trip_cols = route_dir_cols + [\"trip_instance_key\", \"shape_id\", \"shape_array_key\"]\n",
    "\n",
    "trips = helpers.import_scheduled_trips(\n",
    "    analysis_date, columns=keep_trip_cols, get_pandas=True\n",
    ").rename(columns={\"schedule_gtfs_dataset_key\": \"gtfs_dataset_key\"})\n",
    "sorting_order = [True for i in route_dir_cols]"
   ]
  },
  {
   "cell_type": "code",
   "execution_count": 38,
   "id": "619421fd-056e-479a-9348-87cee1eb1316",
   "metadata": {},
   "outputs": [],
   "source": [
    "trips = trips.loc[trips.gtfs_dataset_key.isin(schd_keys)]"
   ]
  },
  {
   "cell_type": "markdown",
   "id": "9b80a9b2-773b-4d0a-91c7-935d0dae9946",
   "metadata": {},
   "source": [
    "#### `CC` is the rail."
   ]
  },
  {
   "cell_type": "code",
   "execution_count": 39,
   "id": "cbc36cfb-3fb6-467f-9dc8-ff2697b9a4b3",
   "metadata": {},
   "outputs": [
    {
     "data": {
      "text/html": [
       "<div>\n",
       "<style scoped>\n",
       "    .dataframe tbody tr th:only-of-type {\n",
       "        vertical-align: middle;\n",
       "    }\n",
       "\n",
       "    .dataframe tbody tr th {\n",
       "        vertical-align: top;\n",
       "    }\n",
       "\n",
       "    .dataframe thead th {\n",
       "        text-align: right;\n",
       "    }\n",
       "</style>\n",
       "<table border=\"1\" class=\"dataframe\">\n",
       "  <thead>\n",
       "    <tr style=\"text-align: right;\">\n",
       "      <th></th>\n",
       "      <th>route_id</th>\n",
       "    </tr>\n",
       "  </thead>\n",
       "  <tbody>\n",
       "    <tr>\n",
       "      <th>17474</th>\n",
       "      <td>Shuttle</td>\n",
       "    </tr>\n",
       "    <tr>\n",
       "      <th>17475</th>\n",
       "      <td>SF</td>\n",
       "    </tr>\n",
       "    <tr>\n",
       "      <th>17491</th>\n",
       "      <td>CC</td>\n",
       "    </tr>\n",
       "  </tbody>\n",
       "</table>\n",
       "</div>"
      ],
      "text/plain": [
       "      route_id\n",
       "17474  Shuttle\n",
       "17475       SF\n",
       "17491       CC"
      ]
     },
     "execution_count": 39,
     "metadata": {},
     "output_type": "execute_result"
    }
   ],
   "source": [
    "trips[[\"route_id\"]].drop_duplicates()"
   ]
  },
  {
   "cell_type": "code",
   "execution_count": 40,
   "id": "b630c880-573b-4441-b166-dffbbc8c75c7",
   "metadata": {},
   "outputs": [],
   "source": [
    "most_common_shape = (\n",
    "    trips.groupby(\n",
    "        route_dir_cols + [\"shape_id\", \"shape_array_key\"],\n",
    "        observed=True,\n",
    "        group_keys=False,\n",
    "        dropna=False,\n",
    "    )\n",
    "    .agg({\"trip_instance_key\": \"count\"})\n",
    "    .reset_index()\n",
    "    .sort_values(\n",
    "        route_dir_cols + [\"trip_instance_key\"], ascending=sorting_order + [False]\n",
    "    )\n",
    "    .drop_duplicates(subset=route_dir_cols)\n",
    "    .reset_index(drop=True)[route_dir_cols + [\"shape_id\", \"shape_array_key\"]]\n",
    ").rename(\n",
    "    columns={\n",
    "        \"gtfs_dataset_key\": \"schedule_gtfs_dataset_key\",\n",
    "        \"shape_id\": \"common_shape_id\",\n",
    "    }\n",
    ")"
   ]
  },
  {
   "cell_type": "code",
   "execution_count": 41,
   "id": "b3f6f30d-e9d6-4afc-855a-48a9e8736dec",
   "metadata": {},
   "outputs": [
    {
     "data": {
      "text/html": [
       "<div>\n",
       "<style scoped>\n",
       "    .dataframe tbody tr th:only-of-type {\n",
       "        vertical-align: middle;\n",
       "    }\n",
       "\n",
       "    .dataframe tbody tr th {\n",
       "        vertical-align: top;\n",
       "    }\n",
       "\n",
       "    .dataframe thead th {\n",
       "        text-align: right;\n",
       "    }\n",
       "</style>\n",
       "<table border=\"1\" class=\"dataframe\">\n",
       "  <thead>\n",
       "    <tr style=\"text-align: right;\">\n",
       "      <th></th>\n",
       "      <th>route_id</th>\n",
       "    </tr>\n",
       "  </thead>\n",
       "  <tbody>\n",
       "    <tr>\n",
       "      <th>0</th>\n",
       "      <td>CC</td>\n",
       "    </tr>\n",
       "    <tr>\n",
       "      <th>2</th>\n",
       "      <td>SF</td>\n",
       "    </tr>\n",
       "    <tr>\n",
       "      <th>4</th>\n",
       "      <td>Shuttle</td>\n",
       "    </tr>\n",
       "  </tbody>\n",
       "</table>\n",
       "</div>"
      ],
      "text/plain": [
       "  route_id\n",
       "0       CC\n",
       "2       SF\n",
       "4  Shuttle"
      ]
     },
     "execution_count": 41,
     "metadata": {},
     "output_type": "execute_result"
    }
   ],
   "source": [
    "most_common_shape[[\"route_id\"]].drop_duplicates()"
   ]
  },
  {
   "cell_type": "code",
   "execution_count": 42,
   "id": "69d9448b-a1a6-4a81-af4f-d6a209b54d37",
   "metadata": {},
   "outputs": [],
   "source": [
    "shape_geom = helpers.import_scheduled_shapes(\n",
    "    analysis_date,\n",
    "    columns=[\"shape_array_key\", \"geometry\"],\n",
    ")"
   ]
  },
  {
   "cell_type": "code",
   "execution_count": 43,
   "id": "cd534407-714a-4c7d-a222-aa2ddc6139f4",
   "metadata": {},
   "outputs": [],
   "source": [
    "common_shape_geom = pd.merge(\n",
    "    shape_geom, most_common_shape, on=\"shape_array_key\", how=\"inner\"\n",
    ").drop(columns=\"shape_array_key\")"
   ]
  },
  {
   "cell_type": "code",
   "execution_count": 44,
   "id": "c1ebd4bb-f28e-4e54-b9e9-d20b766c813d",
   "metadata": {},
   "outputs": [
    {
     "data": {
      "text/html": [
       "<div>\n",
       "<style scoped>\n",
       "    .dataframe tbody tr th:only-of-type {\n",
       "        vertical-align: middle;\n",
       "    }\n",
       "\n",
       "    .dataframe tbody tr th {\n",
       "        vertical-align: top;\n",
       "    }\n",
       "\n",
       "    .dataframe thead th {\n",
       "        text-align: right;\n",
       "    }\n",
       "</style>\n",
       "<table border=\"1\" class=\"dataframe\">\n",
       "  <thead>\n",
       "    <tr style=\"text-align: right;\">\n",
       "      <th></th>\n",
       "      <th>schedule_gtfs_dataset_key</th>\n",
       "      <th>route_id</th>\n",
       "      <th>direction_id</th>\n",
       "      <th>common_shape_id</th>\n",
       "    </tr>\n",
       "  </thead>\n",
       "  <tbody>\n",
       "    <tr>\n",
       "      <th>0</th>\n",
       "      <td>f5a749dd65924e025b1293c58f95f8d6</td>\n",
       "      <td>CC</td>\n",
       "      <td>1.00</td>\n",
       "      <td>92232e9e-55e8-4f8a-bb86-1aeb515be83e</td>\n",
       "    </tr>\n",
       "    <tr>\n",
       "      <th>1</th>\n",
       "      <td>f5a749dd65924e025b1293c58f95f8d6</td>\n",
       "      <td>CC</td>\n",
       "      <td>0.00</td>\n",
       "      <td>5cf6811a-2f53-4199-b315-4408eb816e82</td>\n",
       "    </tr>\n",
       "    <tr>\n",
       "      <th>2</th>\n",
       "      <td>f5a749dd65924e025b1293c58f95f8d6</td>\n",
       "      <td>Shuttle</td>\n",
       "      <td>1.00</td>\n",
       "      <td>104dc91b-4f7b-4f93-bea2-ebfe9adabcf3</td>\n",
       "    </tr>\n",
       "    <tr>\n",
       "      <th>3</th>\n",
       "      <td>f5a749dd65924e025b1293c58f95f8d6</td>\n",
       "      <td>Shuttle</td>\n",
       "      <td>0.00</td>\n",
       "      <td>e70e22aa-8bb7-44eb-b12c-f98aeb8f61b7</td>\n",
       "    </tr>\n",
       "    <tr>\n",
       "      <th>4</th>\n",
       "      <td>f5a749dd65924e025b1293c58f95f8d6</td>\n",
       "      <td>SF</td>\n",
       "      <td>1.00</td>\n",
       "      <td>ejnn</td>\n",
       "    </tr>\n",
       "    <tr>\n",
       "      <th>5</th>\n",
       "      <td>f5a749dd65924e025b1293c58f95f8d6</td>\n",
       "      <td>SF</td>\n",
       "      <td>0.00</td>\n",
       "      <td>cpz2</td>\n",
       "    </tr>\n",
       "  </tbody>\n",
       "</table>\n",
       "</div>"
      ],
      "text/plain": [
       "          schedule_gtfs_dataset_key route_id  direction_id  \\\n",
       "0  f5a749dd65924e025b1293c58f95f8d6       CC          1.00   \n",
       "1  f5a749dd65924e025b1293c58f95f8d6       CC          0.00   \n",
       "2  f5a749dd65924e025b1293c58f95f8d6  Shuttle          1.00   \n",
       "3  f5a749dd65924e025b1293c58f95f8d6  Shuttle          0.00   \n",
       "4  f5a749dd65924e025b1293c58f95f8d6       SF          1.00   \n",
       "5  f5a749dd65924e025b1293c58f95f8d6       SF          0.00   \n",
       "\n",
       "                        common_shape_id  \n",
       "0  92232e9e-55e8-4f8a-bb86-1aeb515be83e  \n",
       "1  5cf6811a-2f53-4199-b315-4408eb816e82  \n",
       "2  104dc91b-4f7b-4f93-bea2-ebfe9adabcf3  \n",
       "3  e70e22aa-8bb7-44eb-b12c-f98aeb8f61b7  \n",
       "4                                  ejnn  \n",
       "5                                  cpz2  "
      ]
     },
     "execution_count": 44,
     "metadata": {},
     "output_type": "execute_result"
    }
   ],
   "source": [
    "common_shape_geom.drop(columns=[\"geometry\"])"
   ]
  },
  {
   "cell_type": "code",
   "execution_count": 45,
   "id": "403a091f-0cac-4bc5-b851-dbc71ec74644",
   "metadata": {},
   "outputs": [],
   "source": [
    "route_info = (\n",
    "    helpers.import_scheduled_trips(\n",
    "        analysis_date,\n",
    "        columns=[\n",
    "            \"gtfs_dataset_key\",\n",
    "            \"route_id\",\n",
    "            \"route_long_name\",\n",
    "            \"route_short_name\",\n",
    "            \"route_desc\",\n",
    "        ],\n",
    "    )\n",
    "    .drop_duplicates()\n",
    "    .pipe(portfolio_utils.add_route_name)\n",
    "    .drop(columns=[\"route_long_name\", \"route_short_name\", \"route_desc\"])\n",
    ")"
   ]
  },
  {
   "cell_type": "code",
   "execution_count": 46,
   "id": "a3d4256b-1c1a-44cc-bf5b-e33ab5735c05",
   "metadata": {},
   "outputs": [
    {
     "data": {
      "text/plain": [
       "Index(['schedule_gtfs_dataset_key', 'route_id', 'route_name_used'], dtype='object')"
      ]
     },
     "execution_count": 46,
     "metadata": {},
     "output_type": "execute_result"
    }
   ],
   "source": [
    "route_info.columns"
   ]
  },
  {
   "cell_type": "code",
   "execution_count": 47,
   "id": "be94de8c-1458-4ec6-845e-3cd5b7629ec7",
   "metadata": {},
   "outputs": [],
   "source": [
    "route_info = route_info.loc[route_info.schedule_gtfs_dataset_key.isin(schd_keys)]"
   ]
  },
  {
   "cell_type": "code",
   "execution_count": 48,
   "id": "13eec721-ec4b-45f2-9a8e-324c8f57ec6e",
   "metadata": {},
   "outputs": [
    {
     "data": {
      "text/html": [
       "<div>\n",
       "<style scoped>\n",
       "    .dataframe tbody tr th:only-of-type {\n",
       "        vertical-align: middle;\n",
       "    }\n",
       "\n",
       "    .dataframe tbody tr th {\n",
       "        vertical-align: top;\n",
       "    }\n",
       "\n",
       "    .dataframe thead th {\n",
       "        text-align: right;\n",
       "    }\n",
       "</style>\n",
       "<table border=\"1\" class=\"dataframe\">\n",
       "  <thead>\n",
       "    <tr style=\"text-align: right;\">\n",
       "      <th></th>\n",
       "      <th>schedule_gtfs_dataset_key</th>\n",
       "      <th>route_id</th>\n",
       "      <th>route_name_used</th>\n",
       "    </tr>\n",
       "  </thead>\n",
       "  <tbody>\n",
       "    <tr>\n",
       "      <th>1122</th>\n",
       "      <td>f5a749dd65924e025b1293c58f95f8d6</td>\n",
       "      <td>Shuttle</td>\n",
       "      <td>Shuttle to Auburn</td>\n",
       "    </tr>\n",
       "    <tr>\n",
       "      <th>1123</th>\n",
       "      <td>f5a749dd65924e025b1293c58f95f8d6</td>\n",
       "      <td>SF</td>\n",
       "      <td>Shuttle to San Francisco Transbay Terminal</td>\n",
       "    </tr>\n",
       "    <tr>\n",
       "      <th>1124</th>\n",
       "      <td>f5a749dd65924e025b1293c58f95f8d6</td>\n",
       "      <td>CC</td>\n",
       "      <td>Daily train service between Auburn, Sacramento, Oakland and San Jose</td>\n",
       "    </tr>\n",
       "  </tbody>\n",
       "</table>\n",
       "</div>"
      ],
      "text/plain": [
       "             schedule_gtfs_dataset_key route_id  \\\n",
       "1122  f5a749dd65924e025b1293c58f95f8d6  Shuttle   \n",
       "1123  f5a749dd65924e025b1293c58f95f8d6       SF   \n",
       "1124  f5a749dd65924e025b1293c58f95f8d6       CC   \n",
       "\n",
       "                                                           route_name_used  \n",
       "1122                                                     Shuttle to Auburn  \n",
       "1123                            Shuttle to San Francisco Transbay Terminal  \n",
       "1124  Daily train service between Auburn, Sacramento, Oakland and San Jose  "
      ]
     },
     "execution_count": 48,
     "metadata": {},
     "output_type": "execute_result"
    }
   ],
   "source": [
    "route_info"
   ]
  },
  {
   "cell_type": "code",
   "execution_count": 49,
   "id": "2a22809f-9bad-4b43-af5a-0e8ab9045cfe",
   "metadata": {},
   "outputs": [],
   "source": [
    "common_shape_geom2 = pd.merge(\n",
    "    common_shape_geom,\n",
    "    route_info.rename(columns={\"route_name_used\": \"route_name\"}),\n",
    "    on=[\"schedule_gtfs_dataset_key\", \"route_id\"],\n",
    ")"
   ]
  },
  {
   "cell_type": "code",
   "execution_count": 50,
   "id": "bf0779a5-2a35-462f-b9fd-2fce6c2ec522",
   "metadata": {},
   "outputs": [
    {
     "data": {
      "text/html": [
       "<div>\n",
       "<style scoped>\n",
       "    .dataframe tbody tr th:only-of-type {\n",
       "        vertical-align: middle;\n",
       "    }\n",
       "\n",
       "    .dataframe tbody tr th {\n",
       "        vertical-align: top;\n",
       "    }\n",
       "\n",
       "    .dataframe thead th {\n",
       "        text-align: right;\n",
       "    }\n",
       "</style>\n",
       "<table border=\"1\" class=\"dataframe\">\n",
       "  <thead>\n",
       "    <tr style=\"text-align: right;\">\n",
       "      <th></th>\n",
       "      <th>route_id</th>\n",
       "    </tr>\n",
       "  </thead>\n",
       "  <tbody>\n",
       "    <tr>\n",
       "      <th>0</th>\n",
       "      <td>CC</td>\n",
       "    </tr>\n",
       "    <tr>\n",
       "      <th>2</th>\n",
       "      <td>Shuttle</td>\n",
       "    </tr>\n",
       "    <tr>\n",
       "      <th>4</th>\n",
       "      <td>SF</td>\n",
       "    </tr>\n",
       "  </tbody>\n",
       "</table>\n",
       "</div>"
      ],
      "text/plain": [
       "  route_id\n",
       "0       CC\n",
       "2  Shuttle\n",
       "4       SF"
      ]
     },
     "execution_count": 50,
     "metadata": {},
     "output_type": "execute_result"
    }
   ],
   "source": [
    "common_shape_geom2[[\"route_id\"]].drop_duplicates()"
   ]
  },
  {
   "cell_type": "code",
   "execution_count": 51,
   "id": "fb90e873-6202-49fe-8fa0-6725fba6f014",
   "metadata": {},
   "outputs": [],
   "source": [
    "common_shape = gtfs_schedule_wrangling.most_common_shape_by_route_direction(\n",
    "    analysis_date\n",
    ")"
   ]
  },
  {
   "cell_type": "code",
   "execution_count": 52,
   "id": "ec802b70-fab4-48a4-8900-9233bf593366",
   "metadata": {},
   "outputs": [
    {
     "data": {
      "text/plain": [
       "Index(['geometry', 'schedule_gtfs_dataset_key', 'route_id', 'direction_id',\n",
       "       'common_shape_id', 'route_name'],\n",
       "      dtype='object')"
      ]
     },
     "execution_count": 52,
     "metadata": {},
     "output_type": "execute_result"
    }
   ],
   "source": [
    "common_shape.columns"
   ]
  },
  {
   "cell_type": "code",
   "execution_count": 53,
   "id": "f4e5fa02-bb36-4446-b2dd-f85532319466",
   "metadata": {},
   "outputs": [],
   "source": [
    "common_shape = common_shape.loc[common_shape.schedule_gtfs_dataset_key.isin(schd_keys)]"
   ]
  },
  {
   "cell_type": "code",
   "execution_count": 54,
   "id": "60d3ed1b-9b21-42f1-ae58-1ec651e144eb",
   "metadata": {},
   "outputs": [
    {
     "data": {
      "text/html": [
       "<div>\n",
       "<style scoped>\n",
       "    .dataframe tbody tr th:only-of-type {\n",
       "        vertical-align: middle;\n",
       "    }\n",
       "\n",
       "    .dataframe tbody tr th {\n",
       "        vertical-align: top;\n",
       "    }\n",
       "\n",
       "    .dataframe thead th {\n",
       "        text-align: right;\n",
       "    }\n",
       "</style>\n",
       "<table border=\"1\" class=\"dataframe\">\n",
       "  <thead>\n",
       "    <tr style=\"text-align: right;\">\n",
       "      <th></th>\n",
       "      <th>route_id</th>\n",
       "      <th>direction_id</th>\n",
       "    </tr>\n",
       "  </thead>\n",
       "  <tbody>\n",
       "    <tr>\n",
       "      <th>318</th>\n",
       "      <td>CC</td>\n",
       "      <td>1.00</td>\n",
       "    </tr>\n",
       "    <tr>\n",
       "      <th>319</th>\n",
       "      <td>CC</td>\n",
       "      <td>0.00</td>\n",
       "    </tr>\n",
       "    <tr>\n",
       "      <th>756</th>\n",
       "      <td>Shuttle</td>\n",
       "      <td>1.00</td>\n",
       "    </tr>\n",
       "    <tr>\n",
       "      <th>757</th>\n",
       "      <td>Shuttle</td>\n",
       "      <td>0.00</td>\n",
       "    </tr>\n",
       "    <tr>\n",
       "      <th>902</th>\n",
       "      <td>SF</td>\n",
       "      <td>1.00</td>\n",
       "    </tr>\n",
       "    <tr>\n",
       "      <th>903</th>\n",
       "      <td>SF</td>\n",
       "      <td>0.00</td>\n",
       "    </tr>\n",
       "  </tbody>\n",
       "</table>\n",
       "</div>"
      ],
      "text/plain": [
       "    route_id  direction_id\n",
       "318       CC          1.00\n",
       "319       CC          0.00\n",
       "756  Shuttle          1.00\n",
       "757  Shuttle          0.00\n",
       "902       SF          1.00\n",
       "903       SF          0.00"
      ]
     },
     "execution_count": 54,
     "metadata": {},
     "output_type": "execute_result"
    }
   ],
   "source": [
    "common_shape[[\"route_id\", \"direction_id\"]].drop_duplicates()"
   ]
  },
  {
   "cell_type": "code",
   "execution_count": 55,
   "id": "75ec9367-0056-4e12-bfe7-6f2c4f860094",
   "metadata": {},
   "outputs": [
    {
     "data": {
      "text/html": [
       "<div style=\"width:100%;\"><div style=\"position:relative;width:100%;height:0;padding-bottom:60%;\"><span style=\"color:#565656\">Make this Notebook Trusted to load map: File -> Trust Notebook</span><iframe src=\"about:blank\" style=\"position:absolute;width:100%;height:100%;left:0;top:0;border:none !important;\" data-html=%3C%21DOCTYPE%20html%3E%0A%3Chead%3E%20%20%20%20%0A%20%20%20%20%3Cmeta%20http-equiv%3D%22content-type%22%20content%3D%22text/html%3B%20charset%3DUTF-8%22%20/%3E%0A%20%20%20%20%0A%20%20%20%20%20%20%20%20%3Cscript%3E%0A%20%20%20%20%20%20%20%20%20%20%20%20L_NO_TOUCH%20%3D%20false%3B%0A%20%20%20%20%20%20%20%20%20%20%20%20L_DISABLE_3D%20%3D%20false%3B%0A%20%20%20%20%20%20%20%20%3C/script%3E%0A%20%20%20%20%0A%20%20%20%20%3Cstyle%3Ehtml%2C%20body%20%7Bwidth%3A%20100%25%3Bheight%3A%20100%25%3Bmargin%3A%200%3Bpadding%3A%200%3B%7D%3C/style%3E%0A%20%20%20%20%3Cstyle%3E%23map%20%7Bposition%3Aabsolute%3Btop%3A0%3Bbottom%3A0%3Bright%3A0%3Bleft%3A0%3B%7D%3C/style%3E%0A%20%20%20%20%3Cscript%20src%3D%22https%3A//cdn.jsdelivr.net/npm/leaflet%401.6.0/dist/leaflet.js%22%3E%3C/script%3E%0A%20%20%20%20%3Cscript%20src%3D%22https%3A//code.jquery.com/jquery-1.12.4.min.js%22%3E%3C/script%3E%0A%20%20%20%20%3Cscript%20src%3D%22https%3A//maxcdn.bootstrapcdn.com/bootstrap/3.2.0/js/bootstrap.min.js%22%3E%3C/script%3E%0A%20%20%20%20%3Cscript%20src%3D%22https%3A//cdnjs.cloudflare.com/ajax/libs/Leaflet.awesome-markers/2.0.2/leaflet.awesome-markers.js%22%3E%3C/script%3E%0A%20%20%20%20%3Clink%20rel%3D%22stylesheet%22%20href%3D%22https%3A//cdn.jsdelivr.net/npm/leaflet%401.6.0/dist/leaflet.css%22/%3E%0A%20%20%20%20%3Clink%20rel%3D%22stylesheet%22%20href%3D%22https%3A//maxcdn.bootstrapcdn.com/bootstrap/3.2.0/css/bootstrap.min.css%22/%3E%0A%20%20%20%20%3Clink%20rel%3D%22stylesheet%22%20href%3D%22https%3A//maxcdn.bootstrapcdn.com/bootstrap/3.2.0/css/bootstrap-theme.min.css%22/%3E%0A%20%20%20%20%3Clink%20rel%3D%22stylesheet%22%20href%3D%22https%3A//maxcdn.bootstrapcdn.com/font-awesome/4.6.3/css/font-awesome.min.css%22/%3E%0A%20%20%20%20%3Clink%20rel%3D%22stylesheet%22%20href%3D%22https%3A//cdnjs.cloudflare.com/ajax/libs/Leaflet.awesome-markers/2.0.2/leaflet.awesome-markers.css%22/%3E%0A%20%20%20%20%3Clink%20rel%3D%22stylesheet%22%20href%3D%22https%3A//cdn.jsdelivr.net/gh/python-visualization/folium/folium/templates/leaflet.awesome.rotate.min.css%22/%3E%0A%20%20%20%20%0A%20%20%20%20%20%20%20%20%20%20%20%20%3Cmeta%20name%3D%22viewport%22%20content%3D%22width%3Ddevice-width%2C%0A%20%20%20%20%20%20%20%20%20%20%20%20%20%20%20%20initial-scale%3D1.0%2C%20maximum-scale%3D1.0%2C%20user-scalable%3Dno%22%20/%3E%0A%20%20%20%20%20%20%20%20%20%20%20%20%3Cstyle%3E%0A%20%20%20%20%20%20%20%20%20%20%20%20%20%20%20%20%23map_f1d1181eac8b4c3eaaef757c5669d4e6%20%7B%0A%20%20%20%20%20%20%20%20%20%20%20%20%20%20%20%20%20%20%20%20position%3A%20relative%3B%0A%20%20%20%20%20%20%20%20%20%20%20%20%20%20%20%20%20%20%20%20width%3A%20100.0%25%3B%0A%20%20%20%20%20%20%20%20%20%20%20%20%20%20%20%20%20%20%20%20height%3A%20100.0%25%3B%0A%20%20%20%20%20%20%20%20%20%20%20%20%20%20%20%20%20%20%20%20left%3A%200.0%25%3B%0A%20%20%20%20%20%20%20%20%20%20%20%20%20%20%20%20%20%20%20%20top%3A%200.0%25%3B%0A%20%20%20%20%20%20%20%20%20%20%20%20%20%20%20%20%7D%0A%20%20%20%20%20%20%20%20%20%20%20%20%3C/style%3E%0A%20%20%20%20%20%20%20%20%0A%20%20%20%20%0A%20%20%20%20%20%20%20%20%20%20%20%20%20%20%20%20%20%20%20%20%3Cstyle%3E%0A%20%20%20%20%20%20%20%20%20%20%20%20%20%20%20%20%20%20%20%20%20%20%20%20.foliumtooltip%20%7B%0A%20%20%20%20%20%20%20%20%20%20%20%20%20%20%20%20%20%20%20%20%20%20%20%20%20%20%20%20%0A%20%20%20%20%20%20%20%20%20%20%20%20%20%20%20%20%20%20%20%20%20%20%20%20%7D%0A%20%20%20%20%20%20%20%20%20%20%20%20%20%20%20%20%20%20%20%20%20%20%20.foliumtooltip%20table%7B%0A%20%20%20%20%20%20%20%20%20%20%20%20%20%20%20%20%20%20%20%20%20%20%20%20%20%20%20%20margin%3A%20auto%3B%0A%20%20%20%20%20%20%20%20%20%20%20%20%20%20%20%20%20%20%20%20%20%20%20%20%7D%0A%20%20%20%20%20%20%20%20%20%20%20%20%20%20%20%20%20%20%20%20%20%20%20%20.foliumtooltip%20tr%7B%0A%20%20%20%20%20%20%20%20%20%20%20%20%20%20%20%20%20%20%20%20%20%20%20%20%20%20%20%20text-align%3A%20left%3B%0A%20%20%20%20%20%20%20%20%20%20%20%20%20%20%20%20%20%20%20%20%20%20%20%20%7D%0A%20%20%20%20%20%20%20%20%20%20%20%20%20%20%20%20%20%20%20%20%20%20%20%20.foliumtooltip%20th%7B%0A%20%20%20%20%20%20%20%20%20%20%20%20%20%20%20%20%20%20%20%20%20%20%20%20%20%20%20%20padding%3A%202px%3B%20padding-right%3A%208px%3B%0A%20%20%20%20%20%20%20%20%20%20%20%20%20%20%20%20%20%20%20%20%20%20%20%20%7D%0A%20%20%20%20%20%20%20%20%20%20%20%20%20%20%20%20%20%20%20%20%3C/style%3E%0A%20%20%20%20%20%20%20%20%20%20%20%20%0A%20%20%20%20%0A%20%20%20%20%3Cscript%20src%3D%22https%3A//code.jquery.com/ui/1.12.1/jquery-ui.js%22%3E%3C/script%3E%0A%20%20%20%20%3Cscript%3E%24%28%20function%28%29%20%7B%0A%20%20%20%20%20%20%20%20%24%28%20%22.maplegend%22%20%29.draggable%28%7B%0A%20%20%20%20%20%20%20%20%20%20%20%20start%3A%20function%20%28event%2C%20ui%29%20%7B%0A%20%20%20%20%20%20%20%20%20%20%20%20%20%20%20%20%24%28this%29.css%28%7B%0A%20%20%20%20%20%20%20%20%20%20%20%20%20%20%20%20%20%20%20%20right%3A%20%22auto%22%2C%0A%20%20%20%20%20%20%20%20%20%20%20%20%20%20%20%20%20%20%20%20top%3A%20%22auto%22%2C%0A%20%20%20%20%20%20%20%20%20%20%20%20%20%20%20%20%20%20%20%20bottom%3A%20%22auto%22%0A%20%20%20%20%20%20%20%20%20%20%20%20%20%20%20%20%7D%29%3B%0A%20%20%20%20%20%20%20%20%20%20%20%20%7D%0A%20%20%20%20%20%20%20%20%7D%29%3B%0A%20%20%20%20%7D%29%3B%0A%20%20%20%20%3C/script%3E%0A%20%20%20%20%3Cstyle%20type%3D%27text/css%27%3E%0A%20%20%20%20%20%20.maplegend%20%7B%0A%20%20%20%20%20%20%20%20position%3A%20absolute%3B%0A%20%20%20%20%20%20%20%20z-index%3A9999%3B%0A%20%20%20%20%20%20%20%20background-color%3A%20rgba%28255%2C%20255%2C%20255%2C%20.8%29%3B%0A%20%20%20%20%20%20%20%20border-radius%3A%205px%3B%0A%20%20%20%20%20%20%20%20box-shadow%3A%200%200%2015px%20rgba%280%2C0%2C0%2C0.2%29%3B%0A%20%20%20%20%20%20%20%20padding%3A%2010px%3B%0A%20%20%20%20%20%20%20%20font%3A%2012px/14px%20Arial%2C%20Helvetica%2C%20sans-serif%3B%0A%20%20%20%20%20%20%20%20right%3A%2010px%3B%0A%20%20%20%20%20%20%20%20bottom%3A%2020px%3B%0A%20%20%20%20%20%20%7D%0A%20%20%20%20%20%20.maplegend%20.legend-title%20%7B%0A%20%20%20%20%20%20%20%20text-align%3A%20left%3B%0A%20%20%20%20%20%20%20%20margin-bottom%3A%205px%3B%0A%20%20%20%20%20%20%20%20font-weight%3A%20bold%3B%0A%20%20%20%20%20%20%20%20%7D%0A%20%20%20%20%20%20.maplegend%20.legend-scale%20ul%20%7B%0A%20%20%20%20%20%20%20%20margin%3A%200%3B%0A%20%20%20%20%20%20%20%20margin-bottom%3A%200px%3B%0A%20%20%20%20%20%20%20%20padding%3A%200%3B%0A%20%20%20%20%20%20%20%20float%3A%20left%3B%0A%20%20%20%20%20%20%20%20list-style%3A%20none%3B%0A%20%20%20%20%20%20%20%20%7D%0A%20%20%20%20%20%20.maplegend%20.legend-scale%20ul%20li%20%7B%0A%20%20%20%20%20%20%20%20list-style%3A%20none%3B%0A%20%20%20%20%20%20%20%20margin-left%3A%200%3B%0A%20%20%20%20%20%20%20%20line-height%3A%2016px%3B%0A%20%20%20%20%20%20%20%20margin-bottom%3A%202px%3B%0A%20%20%20%20%20%20%20%20%7D%0A%20%20%20%20%20%20.maplegend%20ul.legend-labels%20li%20span%20%7B%0A%20%20%20%20%20%20%20%20display%3A%20block%3B%0A%20%20%20%20%20%20%20%20float%3A%20left%3B%0A%20%20%20%20%20%20%20%20height%3A%2014px%3B%0A%20%20%20%20%20%20%20%20width%3A%2014px%3B%0A%20%20%20%20%20%20%20%20margin-right%3A%205px%3B%0A%20%20%20%20%20%20%20%20margin-left%3A%200%3B%0A%20%20%20%20%20%20%20%20border%3A%200px%20solid%20%23ccc%3B%0A%20%20%20%20%20%20%20%20%7D%0A%20%20%20%20%20%20.maplegend%20.legend-source%20%7B%0A%20%20%20%20%20%20%20%20color%3A%20%23777%3B%0A%20%20%20%20%20%20%20%20clear%3A%20both%3B%0A%20%20%20%20%20%20%20%20%7D%0A%20%20%20%20%20%20.maplegend%20a%20%7B%0A%20%20%20%20%20%20%20%20color%3A%20%23777%3B%0A%20%20%20%20%20%20%20%20%7D%0A%20%20%20%20%3C/style%3E%0A%20%20%20%20%0A%3C/head%3E%0A%3Cbody%3E%20%20%20%20%0A%20%20%20%20%0A%20%20%20%20%3Cdiv%20id%3D%27maplegend%20route_id%27%20class%3D%27maplegend%27%3E%0A%20%20%20%20%20%20%20%20%3Cdiv%20class%3D%27legend-title%27%3Eroute_id%3C/div%3E%0A%20%20%20%20%20%20%20%20%3Cdiv%20class%3D%27legend-scale%27%3E%0A%20%20%20%20%20%20%20%20%20%20%20%20%3Cul%20class%3D%27legend-labels%27%3E%0A%20%20%20%20%20%20%20%20%20%20%20%20%20%20%20%20%3Cli%3E%3Cspan%20style%3D%27background%3A%231f77b4%27%3E%3C/span%3ECC%3C/li%3E%0A%20%20%20%20%20%20%20%20%20%20%20%20%20%20%20%20%3Cli%3E%3Cspan%20style%3D%27background%3A%238c564b%27%3E%3C/span%3ESF%3C/li%3E%0A%20%20%20%20%20%20%20%20%20%20%20%20%20%20%20%20%3Cli%3E%3Cspan%20style%3D%27background%3A%239edae5%27%3E%3C/span%3EShuttle%3C/li%3E%0A%20%20%20%20%20%20%20%20%20%20%20%20%3C/ul%3E%0A%20%20%20%20%20%20%20%20%3C/div%3E%0A%20%20%20%20%3C/div%3E%0A%20%20%20%20%0A%20%20%20%20%0A%20%20%20%20%20%20%20%20%20%20%20%20%3Cdiv%20class%3D%22folium-map%22%20id%3D%22map_f1d1181eac8b4c3eaaef757c5669d4e6%22%20%3E%3C/div%3E%0A%20%20%20%20%20%20%20%20%0A%3C/body%3E%0A%3Cscript%3E%20%20%20%20%0A%20%20%20%20%0A%20%20%20%20%20%20%20%20%20%20%20%20var%20map_f1d1181eac8b4c3eaaef757c5669d4e6%20%3D%20L.map%28%0A%20%20%20%20%20%20%20%20%20%20%20%20%20%20%20%20%22map_f1d1181eac8b4c3eaaef757c5669d4e6%22%2C%0A%20%20%20%20%20%20%20%20%20%20%20%20%20%20%20%20%7B%0A%20%20%20%20%20%20%20%20%20%20%20%20%20%20%20%20%20%20%20%20center%3A%20%5B38.344419999999985%2C%20-121.737225%5D%2C%0A%20%20%20%20%20%20%20%20%20%20%20%20%20%20%20%20%20%20%20%20crs%3A%20L.CRS.EPSG3857%2C%0A%20%20%20%20%20%20%20%20%20%20%20%20%20%20%20%20%20%20%20%20zoom%3A%2010%2C%0A%20%20%20%20%20%20%20%20%20%20%20%20%20%20%20%20%20%20%20%20zoomControl%3A%20true%2C%0A%20%20%20%20%20%20%20%20%20%20%20%20%20%20%20%20%20%20%20%20preferCanvas%3A%20false%2C%0A%20%20%20%20%20%20%20%20%20%20%20%20%20%20%20%20%7D%0A%20%20%20%20%20%20%20%20%20%20%20%20%29%3B%0A%20%20%20%20%20%20%20%20%20%20%20%20L.control.scale%28%29.addTo%28map_f1d1181eac8b4c3eaaef757c5669d4e6%29%3B%0A%0A%20%20%20%20%20%20%20%20%20%20%20%20%0A%0A%20%20%20%20%20%20%20%20%0A%20%20%20%20%0A%20%20%20%20%20%20%20%20%20%20%20%20var%20tile_layer_03031be9cf4548349e1ecc81e194670e%20%3D%20L.tileLayer%28%0A%20%20%20%20%20%20%20%20%20%20%20%20%20%20%20%20%22https%3A//%7Bs%7D.tile.openstreetmap.org/%7Bz%7D/%7Bx%7D/%7By%7D.png%22%2C%0A%20%20%20%20%20%20%20%20%20%20%20%20%20%20%20%20%7B%22attribution%22%3A%20%22Data%20by%20%5Cu0026copy%3B%20%5Cu003ca%20href%3D%5C%22http%3A//openstreetmap.org%5C%22%5Cu003eOpenStreetMap%5Cu003c/a%5Cu003e%2C%20under%20%5Cu003ca%20href%3D%5C%22http%3A//www.openstreetmap.org/copyright%5C%22%5Cu003eODbL%5Cu003c/a%5Cu003e.%22%2C%20%22detectRetina%22%3A%20false%2C%20%22maxNativeZoom%22%3A%2018%2C%20%22maxZoom%22%3A%2018%2C%20%22minZoom%22%3A%200%2C%20%22noWrap%22%3A%20false%2C%20%22opacity%22%3A%201%2C%20%22subdomains%22%3A%20%22abc%22%2C%20%22tms%22%3A%20false%7D%0A%20%20%20%20%20%20%20%20%20%20%20%20%29.addTo%28map_f1d1181eac8b4c3eaaef757c5669d4e6%29%3B%0A%20%20%20%20%20%20%20%20%0A%20%20%20%20%0A%20%20%20%20%20%20%20%20%20%20%20%20map_f1d1181eac8b4c3eaaef757c5669d4e6.fitBounds%28%0A%20%20%20%20%20%20%20%20%20%20%20%20%20%20%20%20%5B%5B37.785079999999965%2C%20-122.3967%5D%2C%20%5B38.90376000000001%2C%20-121.07775000000001%5D%5D%2C%0A%20%20%20%20%20%20%20%20%20%20%20%20%20%20%20%20%7B%7D%0A%20%20%20%20%20%20%20%20%20%20%20%20%29%3B%0A%20%20%20%20%20%20%20%20%0A%20%20%20%20%0A%20%20%20%20%20%20%20%20function%20geo_json_ac38075ab2d04de3afe26e2866988c94_styler%28feature%29%20%7B%0A%20%20%20%20%20%20%20%20%20%20%20%20switch%28feature.id%29%20%7B%0A%20%20%20%20%20%20%20%20%20%20%20%20%20%20%20%20case%20%22318%22%3A%20case%20%22319%22%3A%20%0A%20%20%20%20%20%20%20%20%20%20%20%20%20%20%20%20%20%20%20%20return%20%7B%22color%22%3A%20%22%231f77b4%22%2C%20%22fillColor%22%3A%20%22%231f77b4%22%2C%20%22fillOpacity%22%3A%200.5%2C%20%22weight%22%3A%202%7D%3B%0A%20%20%20%20%20%20%20%20%20%20%20%20%20%20%20%20case%20%22902%22%3A%20case%20%22903%22%3A%20%0A%20%20%20%20%20%20%20%20%20%20%20%20%20%20%20%20%20%20%20%20return%20%7B%22color%22%3A%20%22%238c564b%22%2C%20%22fillColor%22%3A%20%22%238c564b%22%2C%20%22fillOpacity%22%3A%200.5%2C%20%22weight%22%3A%202%7D%3B%0A%20%20%20%20%20%20%20%20%20%20%20%20%20%20%20%20default%3A%0A%20%20%20%20%20%20%20%20%20%20%20%20%20%20%20%20%20%20%20%20return%20%7B%22color%22%3A%20%22%239edae5%22%2C%20%22fillColor%22%3A%20%22%239edae5%22%2C%20%22fillOpacity%22%3A%200.5%2C%20%22weight%22%3A%202%7D%3B%0A%20%20%20%20%20%20%20%20%20%20%20%20%7D%0A%20%20%20%20%20%20%20%20%7D%0A%20%20%20%20%20%20%20%20function%20geo_json_ac38075ab2d04de3afe26e2866988c94_highlighter%28feature%29%20%7B%0A%20%20%20%20%20%20%20%20%20%20%20%20switch%28feature.id%29%20%7B%0A%20%20%20%20%20%20%20%20%20%20%20%20%20%20%20%20default%3A%0A%20%20%20%20%20%20%20%20%20%20%20%20%20%20%20%20%20%20%20%20return%20%7B%22fillOpacity%22%3A%200.75%7D%3B%0A%20%20%20%20%20%20%20%20%20%20%20%20%7D%0A%20%20%20%20%20%20%20%20%7D%0A%20%20%20%20%20%20%20%20function%20geo_json_ac38075ab2d04de3afe26e2866988c94_pointToLayer%28feature%2C%20latlng%29%20%7B%0A%20%20%20%20%20%20%20%20%20%20%20%20var%20opts%20%3D%20%7B%22bubblingMouseEvents%22%3A%20true%2C%20%22color%22%3A%20%22%233388ff%22%2C%20%22dashArray%22%3A%20null%2C%20%22dashOffset%22%3A%20null%2C%20%22fill%22%3A%20true%2C%20%22fillColor%22%3A%20%22%233388ff%22%2C%20%22fillOpacity%22%3A%200.2%2C%20%22fillRule%22%3A%20%22evenodd%22%2C%20%22lineCap%22%3A%20%22round%22%2C%20%22lineJoin%22%3A%20%22round%22%2C%20%22opacity%22%3A%201.0%2C%20%22radius%22%3A%202%2C%20%22stroke%22%3A%20true%2C%20%22weight%22%3A%203%7D%3B%0A%20%20%20%20%20%20%20%20%20%20%20%20%0A%20%20%20%20%20%20%20%20%20%20%20%20let%20style%20%3D%20geo_json_ac38075ab2d04de3afe26e2866988c94_styler%28feature%29%0A%20%20%20%20%20%20%20%20%20%20%20%20Object.assign%28opts%2C%20style%29%0A%20%20%20%20%20%20%20%20%20%20%20%20%0A%20%20%20%20%20%20%20%20%20%20%20%20return%20new%20L.CircleMarker%28latlng%2C%20opts%29%0A%20%20%20%20%20%20%20%20%7D%0A%0A%20%20%20%20%20%20%20%20function%20geo_json_ac38075ab2d04de3afe26e2866988c94_onEachFeature%28feature%2C%20layer%29%20%7B%0A%20%20%20%20%20%20%20%20%20%20%20%20layer.on%28%7B%0A%20%20%20%20%20%20%20%20%20%20%20%20%20%20%20%20mouseout%3A%20function%28e%29%20%7B%0A%20%20%20%20%20%20%20%20%20%20%20%20%20%20%20%20%20%20%20%20if%28typeof%20e.target.setStyle%20%3D%3D%3D%20%22function%22%29%7B%0A%20%20%20%20%20%20%20%20%20%20%20%20%20%20%20%20%20%20%20%20%20%20%20%20geo_json_ac38075ab2d04de3afe26e2866988c94.resetStyle%28e.target%29%3B%0A%20%20%20%20%20%20%20%20%20%20%20%20%20%20%20%20%20%20%20%20%7D%0A%20%20%20%20%20%20%20%20%20%20%20%20%20%20%20%20%7D%2C%0A%20%20%20%20%20%20%20%20%20%20%20%20%20%20%20%20mouseover%3A%20function%28e%29%20%7B%0A%20%20%20%20%20%20%20%20%20%20%20%20%20%20%20%20%20%20%20%20if%28typeof%20e.target.setStyle%20%3D%3D%3D%20%22function%22%29%7B%0A%20%20%20%20%20%20%20%20%20%20%20%20%20%20%20%20%20%20%20%20%20%20%20%20const%20highlightStyle%20%3D%20geo_json_ac38075ab2d04de3afe26e2866988c94_highlighter%28e.target.feature%29%0A%20%20%20%20%20%20%20%20%20%20%20%20%20%20%20%20%20%20%20%20%20%20%20%20e.target.setStyle%28highlightStyle%29%3B%0A%20%20%20%20%20%20%20%20%20%20%20%20%20%20%20%20%20%20%20%20%7D%0A%20%20%20%20%20%20%20%20%20%20%20%20%20%20%20%20%7D%2C%0A%20%20%20%20%20%20%20%20%20%20%20%20%7D%29%3B%0A%20%20%20%20%20%20%20%20%7D%3B%0A%20%20%20%20%20%20%20%20var%20geo_json_ac38075ab2d04de3afe26e2866988c94%20%3D%20L.geoJson%28null%2C%20%7B%0A%20%20%20%20%20%20%20%20%20%20%20%20%20%20%20%20onEachFeature%3A%20geo_json_ac38075ab2d04de3afe26e2866988c94_onEachFeature%2C%0A%20%20%20%20%20%20%20%20%20%20%20%20%0A%20%20%20%20%20%20%20%20%20%20%20%20%20%20%20%20style%3A%20geo_json_ac38075ab2d04de3afe26e2866988c94_styler%2C%0A%20%20%20%20%20%20%20%20%20%20%20%20%20%20%20%20pointToLayer%3A%20geo_json_ac38075ab2d04de3afe26e2866988c94_pointToLayer%0A%20%20%20%20%20%20%20%20%7D%29%3B%0A%0A%20%20%20%20%20%20%20%20function%20geo_json_ac38075ab2d04de3afe26e2866988c94_add%20%28data%29%20%7B%0A%20%20%20%20%20%20%20%20%20%20%20%20geo_json_ac38075ab2d04de3afe26e2866988c94%0A%20%20%20%20%20%20%20%20%20%20%20%20%20%20%20%20.addData%28data%29%0A%20%20%20%20%20%20%20%20%20%20%20%20%20%20%20%20.addTo%28map_f1d1181eac8b4c3eaaef757c5669d4e6%29%3B%0A%20%20%20%20%20%20%20%20%7D%0A%20%20%20%20%20%20%20%20%20%20%20%20geo_json_ac38075ab2d04de3afe26e2866988c94_add%28%7B%22bbox%22%3A%20%5B-122.3967%2C%2037.785079999999965%2C%20-121.07775000000001%2C%2038.90376000000001%5D%2C%20%22features%22%3A%20%5B%7B%22bbox%22%3A%20%5B-122.360246%2C%2037.793715%2C%20-121.50069899999998%2C%2038.58863199999999%5D%2C%20%22geometry%22%3A%20%7B%22coordinates%22%3A%20%5B%5B-121.50069899999998%2C%2038.58400400000001%5D%2C%20%5B-121.50186900000001%2C%2038.584328%5D%2C%20%5B-121.50503400000001%2C%2038.585884999999976%5D%2C%20%5B-121.505129%2C%2038.58595799999999%5D%2C%20%5B-121.508296%2C%2038.58679200000002%5D%2C%20%5B-121.50957300000002%2C%2038.58713999999996%5D%2C%20%5B-121.51015200000002%2C%2038.58727399999999%5D%2C%20%5B-121.510837%2C%2038.587403999999964%5D%2C%20%5B-121.511301%2C%2038.587457000000036%5D%2C%20%5B-121.51349%2C%2038.587607%5D%2C%20%5B-121.52172799999998%2C%2038.58805600000005%5D%2C%20%5B-121.52774499999998%2C%2038.58833399999999%5D%2C%20%5B-121.53287300000001%2C%2038.58863199999999%5D%2C%20%5B-121.53514500000001%2C%2038.58863000000003%5D%2C%20%5B-121.536834%2C%2038.58857800000001%5D%2C%20%5B-121.53823200000001%2C%2038.58846100000003%5D%2C%20%5B-121.540425%2C%2038.58818000000001%5D%2C%20%5B-121.542533%2C%2038.587767999999976%5D%2C%20%5B-121.73484000000002%2C%2038.544346000000054%5D%2C%20%5B-121.737758%2C%2038.54349400000001%5D%2C%20%5B-121.87212100000002%2C%2038.392627%5D%2C%20%5B-121.968069%2C%2038.28539799999996%5D%2C%20%5B-121.969703%2C%2038.28457799999998%5D%2C%20%5B-121.99185900000002%2C%2038.27244099999998%5D%2C%20%5B-122.036258%2C%2038.24796900000005%5D%2C%20%5B-122.03770799999998%2C%2038.247010000000046%5D%2C%20%5B-122.038456%2C%2038.24641600000005%5D%2C%20%5B-122.03972200000001%2C%2038.24539600000001%5D%2C%20%5B-122.040587%2C%2038.24445399999998%5D%2C%20%5B-122.041192%2C%2038.243445999999956%5D%2C%20%5B-122.04221100000001%2C%2038.2424%5D%2C%20%5B-122.042735%2C%2038.241493%5D%2C%20%5B-122.044716%2C%2038.237840000000006%5D%2C%20%5B-122.047584%2C%2038.23228499999999%5D%2C%20%5B-122.04970499999999%2C%2038.22823300000005%5D%2C%20%5B-122.05397700000002%2C%2038.22015099999997%5D%2C%20%5B-122.05654499999999%2C%2038.21530200000003%5D%2C%20%5B-122.094424%2C%2038.14328200000004%5D%2C%20%5B-122.100261%2C%2038.13208399999997%5D%2C%20%5B-122.10058499999998%2C%2038.13099499999998%5D%2C%20%5B-122.10085400000001%2C%2038.12999700000001%5D%2C%20%5B-122.101032%2C%2038.128908%5D%2C%20%5B-122.10112500000001%2C%2038.12740699999999%5D%2C%20%5B-122.10109200000001%2C%2038.12495399999999%5D%2C%20%5B-122.100772%2C%2038.10823200000003%5D%2C%20%5B-122.100862%2C%2038.10637799999993%5D%2C%20%5B-122.101099%2C%2038.104345000000016%5D%2C%20%5B-122.10149100000001%2C%2038.102505999999984%5D%2C%20%5B-122.10234700000001%2C%2038.099237%5D%2C%20%5B-122.103034%2C%2038.096520999999996%5D%2C%20%5B-122.104218%2C%2038.09207499999998%5D%2C%20%5B-122.105063%2C%2038.08884299999999%5D%2C%20%5B-122.105866%2C%2038.08588699999999%5D%2C%20%5B-122.10616300000001%2C%2038.08510499999996%5D%2C%20%5B-122.10672%2C%2038.08408599999999%5D%2C%20%5B-122.10750299999998%2C%2038.08309899999996%5D%2C%20%5B-122.124643%2C%2038.06445100000005%5D%2C%20%5B-122.125268%2C%2038.06377900000001%5D%2C%20%5B-122.125912%2C%2038.062943%5D%2C%20%5B-122.126287%2C%2038.06217800000001%5D%2C%20%5B-122.127028%2C%2038.06026499999997%5D%2C%20%5B-122.127596%2C%2038.05829699999998%5D%2C%20%5B-122.12844400000002%2C%2038.055255%5D%2C%20%5B-122.12893700000001%2C%2038.05119999999998%5D%2C%20%5B-122.128884%2C%2038.049823000000046%5D%2C%20%5B-122.128497%2C%2038.048766999999984%5D%2C%20%5B-122.12782500000002%2C%2038.047746999999994%5D%2C%20%5B-122.11914500000002%2C%2038.036473%5D%2C%20%5B-122.118364%2C%2038.03546700000002%5D%2C%20%5B-122.11809%2C%2038.03504999999999%5D%2C%20%5B-122.117919%2C%2038.03464599999994%5D%2C%20%5B-122.117856%2C%2038.03436299999999%5D%2C%20%5B-122.11777900000001%2C%2038.03402499999999%5D%2C%20%5B-122.117738%2C%2038.03358299999995%5D%2C%20%5B-122.117766%2C%2038.03302000000001%5D%2C%20%5B-122.118264%2C%2038.02921799999996%5D%2C%20%5B-122.11849400000001%2C%2038.02832599999998%5D%2C%20%5B-122.11873199999998%2C%2038.02768399999995%5D%2C%20%5B-122.118968%2C%2038.027307000000036%5D%2C%20%5B-122.119201%2C%2038.02699500000002%5D%2C%20%5B-122.11952300000002%2C%2038.02661599999998%5D%2C%20%5B-122.119837%2C%2038.02629699999995%5D%2C%20%5B-122.120225%2C%2038.02597000000003%5D%2C%20%5B-122.120753%2C%2038.025621999999984%5D%2C%20%5B-122.12175500000001%2C%2038.02510199999995%5D%2C%20%5B-122.122411%2C%2038.024856000000014%5D%2C%20%5B-122.12298600000001%2C%2038.02468799999997%5D%2C%20%5B-122.128074%2C%2038.023443000000015%5D%2C%20%5B-122.12857200000002%2C%2038.02330199999998%5D%2C%20%5B-122.129055%2C%2038.023158000000016%5D%2C%20%5B-122.129427%2C%2038.02301199999999%5D%2C%20%5B-122.129797%2C%2038.02286100000002%5D%2C%20%5B-122.130205%2C%2038.022656999999995%5D%2C%20%5B-122.132673%2C%2038.02110199999999%5D%2C%20%5B-122.13355100000001%2C%2038.02064799999996%5D%2C%20%5B-122.13458399999999%2C%2038.02024199999998%5D%2C%20%5B-122.135162%2C%2038.02006099999999%5D%2C%20%5B-122.136285%2C%2038.01983099999998%5D%2C%20%5B-122.13751500000001%2C%2038.01963799999999%5D%2C%20%5B-122.13892800000002%2C%2038.01939299999999%5D%2C%20%5B-122.13882999999998%2C%2038.019079%5D%2C%20%5B-122.13895899999999%2C%2038.01939299999999%5D%2C%20%5B-122.141488%2C%2038.019176999999964%5D%2C%20%5B-122.142164%2C%2038.01920400000004%5D%2C%20%5B-122.14276899999999%2C%2038.019211000000034%5D%2C%20%5B-122.14334800000002%2C%2038.01928600000002%5D%2C%20%5B-122.143686%2C%2038.01935100000001%5D%2C%20%5B-122.144272%2C%2038.019485%5D%2C%20%5B-122.145064%2C%2038.01972999999998%5D%2C%20%5B-122.146522%2C%2038.020203%5D%2C%20%5B-122.14844%2C%2038.020871%5D%2C%20%5B-122.15471899999999%2C%2038.023419000000025%5D%2C%20%5B-122.15752200000001%2C%2038.024515%5D%2C%20%5B-122.159089%2C%2038.02504600000002%5D%2C%20%5B-122.16111600000002%2C%2038.02569900000006%5D%2C%20%5B-122.16157099999998%2C%2038.025874000000016%5D%2C%20%5B-122.164925%2C%2038.02740800000001%5D%2C%20%5B-122.16873700000001%2C%2038.029232000000036%5D%2C%20%5B-122.171431%2C%2038.031777000000034%5D%2C%20%5B-122.17514900000002%2C%2038.036892999999964%5D%2C%20%5B-122.178494%2C%2038.04430600000005%5D%2C%20%5B-122.187852%2C%2038.050547000000016%5D%2C%20%5B-122.191623%2C%2038.05277700000001%5D%2C%20%5B-122.20006400000001%2C%2038.053047999999976%5D%2C%20%5B-122.21300100000002%2C%2038.056223999999965%5D%2C%20%5B-122.21646%2C%2038.05728300000001%5D%2C%20%5B-122.21983599999999%2C%2038.05635900000002%5D%2C%20%5B-122.22141800000001%2C%2038.055954%5D%2C%20%5B-122.22274299999998%2C%2038.05586499999999%5D%2C%20%5B-122.224209%2C%2038.055950000000024%5D%2C%20%5B-122.22886%2C%2038.056452000000014%5D%2C%20%5B-122.234298%2C%2038.056937000000055%5D%2C%20%5B-122.236614%2C%2038.05719399999998%5D%2C%20%5B-122.239743%2C%2038.05800800000001%5D%2C%20%5B-122.240746%2C%2038.05795599999999%5D%2C%20%5B-122.241878%2C%2038.05765300000001%5D%2C%20%5B-122.24347600000002%2C%2038.056901000000025%5D%2C%20%5B-122.24583300000002%2C%2038.05560700000002%5D%2C%20%5B-122.246447%2C%2038.055209999999974%5D%2C%20%5B-122.247414%2C%2038.05437299999999%5D%2C%20%5B-122.24825399999999%2C%2038.053259%5D%2C%20%5B-122.249177%2C%2038.052316999999974%5D%2C%20%5B-122.25026500000001%2C%2038.05169900000003%5D%2C%20%5B-122.25143900000002%2C%2038.05142400000002%5D%2C%20%5B-122.25265200000001%2C%2038.051316%5D%2C%20%5B-122.25576899999999%2C%2038.051164%5D%2C%20%5B-122.25868%2C%2038.05093299999998%5D%2C%20%5B-122.259414%2C%2038.050847%5D%2C%20%5B-122.260169%2C%2038.050547000000016%5D%2C%20%5B-122.260977%2C%2038.05000899999995%5D%2C%20%5B-122.26161199999999%2C%2038.04919499999999%5D%2C%20%5B-122.26199299999999%2C%2038.04833199999999%5D%2C%20%5B-122.262624%2C%2038.043208999999976%5D%2C%20%5B-122.262826%2C%2038.041963999999986%5D%2C%20%5B-122.263139%2C%2038.04135800000003%5D%2C%20%5B-122.26362000000002%2C%2038.04068500000002%5D%2C%20%5B-122.264163%2C%2038.04019700000003%5D%2C%20%5B-122.264804%2C%2038.03979099999997%5D%2C%20%5B-122.2661%2C%2038.03928799999998%5D%2C%20%5B-122.27173599999999%2C%2038.037615%5D%2C%20%5B-122.272393%2C%2038.03741199999998%5D%2C%20%5B-122.272938%2C%2038.037175999999995%5D%2C%20%5B-122.27343%2C%2038.03687399999999%5D%2C%20%5B-122.273968%2C%2038.03642899999996%5D%2C%20%5B-122.274383%2C%2038.035795%5D%2C%20%5B-122.27461199999999%2C%2038.035109999999975%5D%2C%20%5B-122.27481000000002%2C%2038.03382399999998%5D%2C%20%5B-122.275055%2C%2038.03243100000001%5D%2C%20%5B-122.275463%2C%2038.031166000000034%5D%2C%20%5B-122.276244%2C%2038.029511999999976%5D%2C%20%5B-122.276596%2C%2038.02895500000001%5D%2C%20%5B-122.277292%2C%2038.02824799999999%5D%2C%20%5B-122.277998%2C%2038.027728000000046%5D%2C%20%5B-122.27907099999999%2C%2038.02700700000002%5D%2C%20%5B-122.279427%2C%2038.02672199999998%5D%2C%20%5B-122.27969800000001%2C%2038.026376%5D%2C%20%5B-122.280697%2C%2038.02441900000001%5D%2C%20%5B-122.28116700000001%2C%2038.02367800000005%5D%2C%20%5B-122.281655%2C%2038.02303000000002%5D%2C%20%5B-122.281997%2C%2038.02260799999999%5D%2C%20%5B-122.282501%2C%2038.022214999999974%5D%2C%20%5B-122.282973%2C%2038.02191500000001%5D%2C%20%5B-122.28360799999999%2C%2038.02165300000001%5D%2C%20%5B-122.28741%2C%2038.020552%5D%2C%20%5B-122.28798899999998%2C%2038.02037199999998%5D%2C%20%5B-122.288575%2C%2038.020076%5D%2C%20%5B-122.289067%2C%2038.01972999999998%5D%2C%20%5B-122.289541%2C%2038.019292000000036%5D%2C%20%5B-122.292286%2C%2038.015843000000004%5D%2C%20%5B-122.293433%2C%2038.01450000000001%5D%2C%20%5B-122.294982%2C%2038.01292299999999%5D%2C%20%5B-122.29670799999998%2C%2038.01139299999998%5D%2C%20%5B-122.297676%2C%2038.01067100000001%5D%2C%20%5B-122.29826500000001%2C%2038.01039900000001%5D%2C%20%5B-122.29893200000001%2C%2038.010194999999975%5D%2C%20%5B-122.29955100000001%2C%2038.010103000000015%5D%2C%20%5B-122.30004800000002%2C%2038.01009100000004%5D%2C%20%5B-122.304527%2C%2038.01037799999999%5D%2C%20%5B-122.30563900000001%2C%2038.01035000000004%5D%2C%20%5B-122.30675%2C%2038.010175000000004%5D%2C%20%5B-122.308449%2C%2038.009857999999994%5D%2C%20%5B-122.30886%2C%2038.00981699999999%5D%2C%20%5B-122.309396%2C%2038.00982400000002%5D%2C%20%5B-122.30982%2C%2038.009889000000015%5D%2C%20%5B-122.31031900000002%2C%2038.009990999999985%5D%2C%20%5B-122.31360799999999%2C%2038.010905000000015%5D%2C%20%5B-122.314594%2C%2038.011088%5D%2C%20%5B-122.31572499999999%2C%2038.01107299999999%5D%2C%20%5B-122.31661100000001%2C%2038.01086800000001%5D%2C%20%5B-122.317666%2C%2038.010353000000045%5D%2C%20%5B-122.321757%2C%2038.00686400000002%5D%2C%20%5B-122.324535%2C%2038.004905000000015%5D%2C%20%5B-122.326184%2C%2038.00383900000002%5D%2C%20%5B-122.328922%2C%2038.002106000000005%5D%2C%20%5B-122.329783%2C%2038.00163700000003%5D%2C%20%5B-122.330681%2C%2038.001289999999976%5D%2C%20%5B-122.33167099999999%2C%2038.000962999999985%5D%2C%20%5B-122.33265500000002%2C%2038.00072799999998%5D%2C%20%5B-122.333522%2C%2038.00060700000002%5D%2C%20%5B-122.334501%2C%2038.000564999999995%5D%2C%20%5B-122.335897%2C%2038.00058599999996%5D%2C%20%5B-122.33690399999999%2C%2038.00072799999998%5D%2C%20%5B-122.341925%2C%2038.001751%5D%2C%20%5B-122.344372%2C%2038.00222499999999%5D%2C%20%5B-122.345243%2C%2038.00237%5D%2C%20%5B-122.34596899999998%2C%2038.002421999999974%5D%2C%20%5B-122.34665600000001%2C%2038.002439%5D%2C%20%5B-122.34791900000002%2C%2038.00236799999998%5D%2C%20%5B-122.34894700000001%2C%2038.00217200000001%5D%2C%20%5B-122.35014700000002%2C%2038.001884000000025%5D%2C%20%5B-122.350887%2C%2038.00162999999997%5D%2C%20%5B-122.35184400000001%2C%2038.001204%5D%2C%20%5B-122.352657%2C%2038.000758000000026%5D%2C%20%5B-122.35347100000001%2C%2038.000169999999976%5D%2C%20%5B-122.35465500000001%2C%2037.99907400000001%5D%2C%20%5B-122.355427%2C%2037.99807899999994%5D%2C%20%5B-122.355933%2C%2037.997011%5D%2C%20%5B-122.35623%2C%2037.99615299999999%5D%2C%20%5B-122.356349%2C%2037.99566799999997%5D%2C%20%5B-122.35661200000001%2C%2037.99306499999997%5D%2C%20%5B-122.35904600000002%2C%2037.966371%5D%2C%20%5B-122.359799%2C%2037.957954%5D%2C%20%5B-122.36021199999999%2C%2037.95383500000003%5D%2C%20%5B-122.360246%2C%2037.952723000000006%5D%2C%20%5B-122.360151%2C%2037.950745999999995%5D%2C%20%5B-122.359931%2C%2037.94924300000002%5D%2C%20%5B-122.359661%2C%2037.947823999999976%5D%2C%20%5B-122.35926900000001%2C%2037.94632999999997%5D%2C%20%5B-122.358706%2C%2037.94479499999994%5D%2C%20%5B-122.358034%2C%2037.94318500000001%5D%2C%20%5B-122.35752100000002%2C%2037.94215399999995%5D%2C%20%5B-122.356886%2C%2037.94107100000001%5D%2C%20%5B-122.35634400000002%2C%2037.940249000000044%5D%2C%20%5B-122.355527%2C%2037.93908700000003%5D%2C%20%5B-122.35481000000001%2C%2037.93819300000001%5D%2C%20%5B-122.353896%2C%2037.93676600000002%5D%2C%20%5B-122.352936%2C%2037.93582799999998%5D%2C%20%5B-122.35178700000002%2C%2037.93493199999999%5D%2C%20%5B-122.350246%2C%2037.93367700000001%5D%2C%20%5B-122.347871%2C%2037.93193100000003%5D%2C%20%5B-122.33024199999998%2C%2037.91900099999997%5D%2C%20%5B-122.32867100000001%2C%2037.917768000000045%5D%2C%20%5B-122.327264%2C%2037.91657700000004%5D%2C%20%5B-122.325505%2C%2037.91481399999998%5D%2C%20%5B-122.31032600000002%2C%2037.896133999999996%5D%2C%20%5B-122.309586%2C%2037.89509800000002%5D%2C%20%5B-122.309037%2C%2037.894091999999965%5D%2C%20%5B-122.308661%2C%2037.893031999999955%5D%2C%20%5B-122.30833600000001%2C%2037.891963000000025%5D%2C%20%5B-122.30701799999999%2C%2037.886730999999955%5D%2C%20%5B-122.30626400000001%2C%2037.88379900000001%5D%2C%20%5B-122.304014%2C%2037.87681799999998%5D%2C%20%5B-122.30297699999998%2C%2037.873569000000025%5D%2C%20%5B-122.301809%2C%2037.869916000000025%5D%2C%20%5B-122.300908%2C%2037.86743899999999%5D%2C%20%5B-122.30032500000002%2C%2037.865395999999954%5D%2C%20%5B-122.29991399999999%2C%2037.864083999999984%5D%2C%20%5B-122.299383%2C%2037.862364999999954%5D%2C%20%5B-122.29881%2C%2037.86059600000002%5D%2C%20%5B-122.298156%2C%2037.85859299999995%5D%2C%20%5B-122.29741600000001%2C%2037.85628999999998%5D%2C%20%5B-122.29677000000001%2C%2037.854256%5D%2C%20%5B-122.29565300000002%2C%2037.85083300000004%5D%2C%20%5B-122.29431%2C%2037.84650800000004%5D%2C%20%5B-122.2937%2C%2037.844732999999955%5D%2C%20%5B-122.292343%2C%2037.84142199999997%5D%2C%20%5B-122.291808%2C%2037.840423000000044%5D%2C%20%5B-122.291808%2C%2037.840423000000044%5D%2C%20%5B-122.290792%2C%2037.831344999999985%5D%2C%20%5B-122.291479%2C%2037.82402299999997%5D%2C%20%5B-122.29298100000001%2C%2037.82146299999999%5D%2C%20%5B-122.29871000000001%2C%2037.81675100000001%5D%2C%20%5B-122.301242%2C%2037.81471700000003%5D%2C%20%5B-122.303131%2C%2037.81305599999996%5D%2C%20%5B-122.304912%2C%2037.811072%5D%2C%20%5B-122.305512%2C%2037.80964800000001%5D%2C%20%5B-122.30544799999998%2C%2037.80732600000004%5D%2C%20%5B-122.304568%2C%2037.80551200000004%5D%2C%20%5B-122.30332400000002%2C%2037.80405399999998%5D%2C%20%5B-122.301693%2C%2037.80296900000001%5D%2C%20%5B-122.299654%2C%2037.80203599999998%5D%2C%20%5B-122.297573%2C%2037.80144299999998%5D%2C%20%5B-122.284698%2C%2037.79825499999998%5D%2C%20%5B-122.271521%2C%2037.793715%5D%5D%2C%20%22type%22%3A%20%22LineString%22%7D%2C%20%22id%22%3A%20%22318%22%2C%20%22properties%22%3A%20%7B%22__folium_color%22%3A%20%22%231f77b4%22%2C%20%22common_shape_id%22%3A%20%2292232e9e-55e8-4f8a-bb86-1aeb515be83e%22%2C%20%22direction_id%22%3A%201.0%2C%20%22route_id%22%3A%20%22CC%22%2C%20%22route_name%22%3A%20%22Daily%20train%20service%20between%20Auburn%2C%20Sacramento%2C%20Oakland%20and%20San%20Jose%22%2C%20%22schedule_gtfs_dataset_key%22%3A%20%22f5a749dd65924e025b1293c58f95f8d6%22%7D%2C%20%22type%22%3A%20%22Feature%22%7D%2C%20%7B%22bbox%22%3A%20%5B-122.36018%2C%2037.793715%2C%20-121.50069899999998%2C%2038.58862600000001%5D%2C%20%22geometry%22%3A%20%7B%22coordinates%22%3A%20%5B%5B-122.271521%2C%2037.793715%5D%2C%20%5B-122.28796%2C%2037.79906899999995%5D%2C%20%5B-122.29697199999998%2C%2037.801239000000024%5D%2C%20%5B-122.300341%2C%2037.80230700000003%5D%2C%20%5B-122.30203600000002%2C%2037.80327400000002%5D%2C%20%5B-122.30377400000002%2C%2037.804612999999996%5D%2C%20%5B-122.304783%2C%2037.80598599999999%5D%2C%20%5B-122.30555500000001%2C%2037.807902000000006%5D%2C%20%5B-122.30538400000002%2C%2037.809818%5D%2C%20%5B-122.30444%2C%2037.811817999999974%5D%2C%20%5B-122.30132800000001%2C%2037.814513999999946%5D%2C%20%5B-122.29946100000001%2C%2037.81614100000003%5D%2C%20%5B-122.294397%2C%2037.82022599999998%5D%2C%20%5B-122.29280900000002%2C%2037.82187%5D%2C%20%5B-122.29182200000001%2C%2037.823819000000015%5D%2C%20%5B-122.291136%2C%2037.826666999999986%5D%2C%20%5B-122.290964%2C%2037.83215800000001%5D%2C%20%5B-122.291307%2C%2037.83670000000003%5D%2C%20%5B-122.292319%2C%2037.84033400000001%5D%2C%20%5B-122.292874%2C%2037.842325999999986%5D%2C%20%5B-122.300908%2C%2037.86743899999999%5D%2C%20%5B-122.300908%2C%2037.86743899999999%5D%2C%20%5B-122.301939%2C%2037.870422999999946%5D%2C%20%5B-122.302878%2C%2037.87338099999997%5D%2C%20%5B-122.30392200000001%2C%2037.87664900000001%5D%2C%20%5B-122.30477700000002%2C%2037.879318000000005%5D%2C%20%5B-122.305997%2C%2037.883109999999995%5D%2C%20%5B-122.30670299999998%2C%2037.88568300000001%5D%2C%20%5B-122.307695%2C%2037.889542999999996%5D%2C%20%5B-122.30851899999999%2C%2037.89281599999997%5D%2C%20%5B-122.30896699999998%2C%2037.89405700000002%5D%2C%20%5B-122.309289%2C%2037.894693000000046%5D%2C%20%5B-122.30986799999998%2C%2037.89561000000002%5D%2C%20%5B-122.311156%2C%2037.89723999999993%5D%2C%20%5B-122.31616200000002%2C%2037.90343600000004%5D%2C%20%5B-122.319074%2C%2037.90705200000001%5D%2C%20%5B-122.321808%2C%2037.910437%5D%2C%20%5B-122.323769%2C%2037.91286600000001%5D%2C%20%5B-122.325424%2C%2037.91484400000002%5D%2C%20%5B-122.32640100000002%2C%2037.915864999999975%5D%2C%20%5B-122.327574%2C%2037.91697200000005%5D%2C%20%5B-122.32885799999998%2C%2037.91803999999998%5D%2C%20%5B-122.33891800000002%2C%2037.92548700000001%5D%2C%20%5B-122.34387299999999%2C%2037.929124000000016%5D%2C%20%5B-122.349131%2C%2037.93297%5D%2C%20%5B-122.35312900000001%2C%2037.93623100000002%5D%2C%20%5B-122.353896%2C%2037.93676600000002%5D%2C%20%5B-122.353896%2C%2037.93676600000002%5D%2C%20%5B-122.354317%2C%2037.93757000000006%5D%2C%20%5B-122.355559%2C%2037.93911700000001%5D%2C%20%5B-122.35656999999999%2C%2037.94058299999995%5D%2C%20%5B-122.35745500000002%2C%2037.94206399999995%5D%2C%20%5B-122.358103%2C%2037.943361%5D%2C%20%5B-122.35881300000001%2C%2037.94499599999999%5D%2C%20%5B-122.359301%2C%2037.946494999999956%5D%2C%20%5B-122.35974099999999%2C%2037.948211999999955%5D%2C%20%5B-122.35996599999999%2C%2037.949473000000005%5D%2C%20%5B-122.36013%2C%2037.950953000000034%5D%2C%20%5B-122.36018%2C%2037.95208399999999%5D%2C%20%5B-122.36017899999999%2C%2037.95337000000001%5D%2C%20%5B-122.36005500000002%2C%2037.954879%5D%2C%20%5B-122.35984500000002%2C%2037.956839999999985%5D%2C%20%5B-122.359694%2C%2037.95857400000003%5D%2C%20%5B-122.35667100000002%2C%2037.991963000000005%5D%2C%20%5B-122.35636899999999%2C%2037.995619999999974%5D%2C%20%5B-122.355523%2C%2037.99788499999996%5D%2C%20%5B-122.35476500000001%2C%2037.998888000000015%5D%2C%20%5B-122.35390400000001%2C%2037.99978999999995%5D%2C%20%5B-122.352605%2C%2038.00073399999994%5D%2C%20%5B-122.350981%2C%2038.001557000000005%5D%2C%20%5B-122.34970099999998%2C%2038.001967%5D%2C%20%5B-122.34861900000001%2C%2038.00218799999999%5D%2C%20%5B-122.347441%2C%2038.00233999999996%5D%2C%20%5B-122.346287%2C%2038.00237599999998%5D%2C%20%5B-122.344995%2C%2038.00229800000002%5D%2C%20%5B-122.34382%2C%2038.002101999999994%5D%2C%20%5B-122.341602%2C%2038.00163599999997%5D%2C%20%5B-122.33672100000001%2C%2038.000637999999995%5D%2C%20%5B-122.335485%2C%2038.000510000000006%5D%2C%20%5B-122.334062%2C%2038.000538000000006%5D%2C%20%5B-122.33261699999998%2C%2038.000699000000004%5D%2C%20%5B-122.33082700000001%2C%2038.001186999999994%5D%2C%20%5B-122.32979399999999%2C%2038.001592%5D%2C%20%5B-122.329039%2C%2038.00199800000005%5D%2C%20%5B-122.32406%2C%2038.00514500000002%5D%2C%20%5B-122.321518%2C%2038.006997%5D%2C%20%5B-122.319143%2C%2038.00902400000001%5D%2C%20%5B-122.31797000000002%2C%2038.010047%5D%2C%20%5B-122.31750500000001%2C%2038.01040199999999%5D%2C%20%5B-122.31700699999999%2C%2038.01067700000004%5D%2C%20%5B-122.31642400000001%2C%2038.01088399999999%5D%2C%20%5B-122.31577500000002%2C%2038.01101199999999%5D%2C%20%5B-122.315%2C%2038.011096999999985%5D%2C%20%5B-122.314258%2C%2038.011009%5D%2C%20%5B-122.31341999999998%2C%2038.01082099999997%5D%2C%20%5B-122.31259000000001%2C%2038.01056700000001%5D%2C%20%5B-122.310619%2C%2038.010039999999975%5D%2C%20%5B-122.31000200000001%2C%2038.009882000000054%5D%2C%20%5B-122.309357%2C%2038.00976999999999%5D%2C%20%5B-122.30875399999998%2C%2038.009781000000004%5D%2C%20%5B-122.307836%2C%2038.00990300000002%5D%2C%20%5B-122.30664200000001%2C%2038.010153%5D%2C%20%5B-122.30534300000001%2C%2038.01033199999996%5D%2C%20%5B-122.304497%2C%2038.01034900000001%5D%2C%20%5B-122.303681%2C%2038.010295%5D%2C%20%5B-122.302226%2C%2038.01020799999996%5D%2C%20%5B-122.30046600000001%2C%2038.01007400000007%5D%2C%20%5B-122.29982999999999%2C%2038.01004600000001%5D%2C%20%5B-122.29904300000001%2C%2038.010124999999995%5D%2C%20%5B-122.298492%2C%2038.01025999999997%5D%2C%20%5B-122.29796800000001%2C%2038.01046800000001%5D%2C%20%5B-122.29753600000001%2C%2038.01067700000004%5D%2C%20%5B-122.29698000000002%2C%2038.011101000000004%5D%2C%20%5B-122.29519700000002%2C%2038.01263499999998%5D%2C%20%5B-122.29411500000002%2C%2038.01372700000002%5D%2C%20%5B-122.29289700000001%2C%2038.01504699999995%5D%2C%20%5B-122.29173299999998%2C%2038.01645000000001%5D%2C%20%5B-122.29067200000001%2C%2038.017808000000024%5D%2C%20%5B-122.289904%2C%2038.018789%5D%2C%20%5B-122.289284%2C%2038.019479999999966%5D%2C%20%5B-122.288552%2C%2038.02000199999996%5D%2C%20%5B-122.28779000000002%2C%2038.02039899999998%5D%2C%20%5B-122.286864%2C%2038.02068900000004%5D%2C%20%5B-122.283269%2C%2038.021714999999965%5D%2C%20%5B-122.282347%2C%2038.02223100000002%5D%2C%20%5B-122.281543%2C%2038.02304999999995%5D%2C%20%5B-122.280785%2C%2038.024109%5D%2C%20%5B-122.28035800000002%2C%2038.024968000000015%5D%2C%20%5B-122.279896%2C%2038.025971%5D%2C%20%5B-122.279555%2C%2038.02653599999997%5D%2C%20%5B-122.278828%2C%2038.02710099999999%5D%2C%20%5B-122.277489%2C%2038.027996999999985%5D%2C%20%5B-122.27668799999998%2C%2038.028745000000015%5D%2C%20%5B-122.27627800000002%2C%2038.029319%5D%2C%20%5B-122.275964%2C%2038.029964999999976%5D%2C%20%5B-122.27551699999998%2C%2038.03094800000002%5D%2C%20%5B-122.275129%2C%2038.032021000000036%5D%2C%20%5B-122.27483%2C%2038.03334100000002%5D%2C%20%5B-122.274665%2C%2038.03471000000004%5D%2C%20%5B-122.274467%2C%2038.03548300000002%5D%2C%20%5B-122.27412000000001%2C%2038.03613400000001%5D%2C%20%5B-122.27352299999998%2C%2038.036753000000026%5D%2C%20%5B-122.272545%2C%2038.037309000000015%5D%2C%20%5B-122.27165599999998%2C%2038.03758999999997%5D%2C%20%5B-122.26575%2C%2038.03932100000002%5D%2C%20%5B-122.265062%2C%2038.03958999999997%5D%2C%20%5B-122.26444300000001%2C%2038.03991300000001%5D%2C%20%5B-122.26376%2C%2038.040419000000014%5D%2C%20%5B-122.26330400000002%2C%2038.04097000000001%5D%2C%20%5B-122.26293899999999%2C%2038.04152200000004%5D%2C%20%5B-122.26265599999999%2C%2038.04226000000001%5D%2C%20%5B-122.26254200000001%2C%2038.043071000000005%5D%2C%20%5B-122.26243499999998%2C%2038.04407199999999%5D%2C%20%5B-122.26200800000001%2C%2038.04710800000001%5D%2C%20%5B-122.26184900000001%2C%2038.04833900000002%5D%2C%20%5B-122.261571%2C%2038.04912899999997%5D%2C%20%5B-122.26100199999999%2C%2038.04987900000004%5D%2C%20%5B-122.260208%2C%2038.05044800000003%5D%2C%20%5B-122.25926999999999%2C%2038.05083700000003%5D%2C%20%5B-122.257265%2C%2038.051061999999995%5D%2C%20%5B-122.251757%2C%2038.05126899999996%5D%2C%20%5B-122.250887%2C%2038.05140299999997%5D%2C%20%5B-122.250084%2C%2038.05165599999998%5D%2C%20%5B-122.24926800000001%2C%2038.052083%5D%2C%20%5B-122.248444%2C%2038.052830999999955%5D%2C%20%5B-122.247103%2C%2038.05446100000005%5D%2C%20%5B-122.246363%2C%2038.05511699999999%5D%2C%20%5B-122.245349%2C%2038.05578200000001%5D%2C%20%5B-122.24323900000002%2C%2038.05695999999998%5D%2C%20%5B-122.24227300000001%2C%2038.05741499999997%5D%2C%20%5B-122.24136299999999%2C%2038.057755%5D%2C%20%5B-122.240281%2C%2038.05795399999996%5D%2C%20%5B-122.239335%2C%2038.05793600000001%5D%2C%20%5B-122.23846%2C%2038.05773300000002%5D%2C%20%5B-122.23733100000001%2C%2038.057324999999985%5D%2C%20%5B-122.236522%2C%2038.057141%5D%2C%20%5B-122.235764%2C%2038.057059%5D%2C%20%5B-122.22956900000001%2C%2038.05646999999998%5D%2C%20%5B-122.223076%2C%2038.055712000000014%5D%2C%20%5B-122.22235100000002%2C%2038.055665000000005%5D%2C%20%5B-122.22166999999999%2C%2038.05572100000002%5D%2C%20%5B-122.22091400000001%2C%2038.05586499999999%5D%2C%20%5B-122.22019300000001%2C%2038.056134999999976%5D%2C%20%5B-122.218519%2C%2038.05672299999998%5D%2C%20%5B-122.21728699999998%2C%2038.05700599999997%5D%2C%20%5B-122.216039%2C%2038.056898999999966%5D%2C%20%5B-122.214546%2C%2038.05654400000001%5D%2C%20%5B-122.210736%2C%2038.05568899999997%5D%2C%20%5B-122.20704500000001%2C%2038.05482000000006%5D%2C%20%5B-122.19908899999999%2C%2038.05305300000004%5D%2C%20%5B-122.198178%2C%2038.052890000000026%5D%2C%20%5B-122.19709899999998%2C%2038.05277600000004%5D%2C%20%5B-122.191969%2C%2038.05249800000001%5D%2C%20%5B-122.191293%2C%2038.05243400000003%5D%2C%20%5B-122.190794%2C%2038.05228600000001%5D%2C%20%5B-122.190295%2C%2038.05210399999998%5D%2C%20%5B-122.189843%2C%2038.05185800000006%5D%2C%20%5B-122.18576600000002%2C%2038.04956700000001%5D%2C%20%5B-122.184865%2C%2038.04885999999998%5D%2C%20%5B-122.183118%2C%2038.04722099999999%5D%2C%20%5B-122.18250599999999%2C%2038.04674299999995%5D%2C%20%5B-122.18186300000002%2C%2038.04633599999996%5D%2C%20%5B-122.180736%2C%2038.04573399999998%5D%2C%20%5B-122.180105%2C%2038.04533200000001%5D%2C%20%5B-122.17957500000001%2C%2038.04488700000002%5D%2C%20%5B-122.179121%2C%2038.04437300000002%5D%2C%20%5B-122.179043%2C%2038.04437100000005%5D%2C%20%5B-122.178627%2C%2038.043814%5D%2C%20%5B-122.177045%2C%2038.04116700000001%5D%2C%20%5B-122.17659100000002%2C%2038.040441999999956%5D%2C%20%5B-122.17630699999998%2C%2038.04010799999997%5D%2C%20%5B-122.175976%2C%2038.03974399999995%5D%2C%20%5B-122.175442%2C%2038.039116%5D%2C%20%5B-122.175125%2C%2038.03860000000002%5D%2C%20%5B-122.174923%2C%2038.037930999999965%5D%2C%20%5B-122.174584%2C%2038.035334%5D%2C%20%5B-122.174354%2C%2038.034606999999944%5D%2C%20%5B-122.173807%2C%2038.03378299999998%5D%2C%20%5B-122.173183%2C%2038.033224999999995%5D%2C%20%5B-122.172407%2C%2038.03274500000002%5D%2C%20%5B-122.171879%2C%2038.032427000000034%5D%2C%20%5B-122.17141100000002%2C%2038.03204800000001%5D%2C%20%5B-122.17100699999999%2C%2038.03162400000003%5D%2C%20%5B-122.170672%2C%2038.03108300000001%5D%2C%20%5B-122.170254%2C%2038.03041099999995%5D%2C%20%5B-122.1699%2C%2038.02998000000001%5D%2C%20%5B-122.16940300000002%2C%2038.029559999999975%5D%2C%20%5B-122.16882700000001%2C%2038.029242%5D%2C%20%5B-122.16153900000002%2C%2038.02584499999998%5D%2C%20%5B-122.157998%2C%2038.02465000000001%5D%2C%20%5B-122.154243%2C%2038.023205000000004%5D%2C%20%5B-122.147084%2C%2038.020331000000034%5D%2C%20%5B-122.144187%2C%2038.019396000000015%5D%2C%20%5B-122.143421%2C%2038.019243999999986%5D%2C%20%5B-122.142288%2C%2038.01916199999998%5D%2C%20%5B-122.140563%2C%2038.01918099999997%5D%2C%20%5B-122.13882999999998%2C%2038.019079%5D%2C%20%5B-122.13882999999998%2C%2038.019079%5D%2C%20%5B-122.13773400000001%2C%2038.019438000000015%5D%2C%20%5B-122.13519900000001%2C%2038.019982000000006%5D%2C%20%5B-122.13234100000001%2C%2038.02107200000004%5D%2C%20%5B-122.13081800000002%2C%2038.02222700000003%5D%2C%20%5B-122.12987800000002%2C%2038.02276299999999%5D%2C%20%5B-122.12897600000001%2C%2038.02312600000001%5D%2C%20%5B-122.128107%2C%2038.02335399999995%5D%2C%20%5B-122.12716%2C%2038.02363600000003%5D%2C%20%5B-122.12521399999999%2C%2038.02409800000006%5D%2C%20%5B-122.12270300000002%2C%2038.02469200000001%5D%2C%20%5B-122.121048%2C%2038.025388000000014%5D%2C%20%5B-122.119585%2C%2038.02646399999996%5D%2C%20%5B-122.118594%2C%2038.02799100000003%5D%2C%20%5B-122.11817800000001%2C%2038.029907000000016%5D%2C%20%5B-122.117772%2C%2038.03302200000001%5D%2C%20%5B-122.117841%2C%2038.034374%5D%2C%20%5B-122.11809400000001%2C%2038.03508699999997%5D%2C%20%5B-122.127521%2C%2038.04733900000001%5D%2C%20%5B-122.12837200000001%2C%2038.04850200000003%5D%2C%20%5B-122.128845%2C%2038.04961500000002%5D%2C%20%5B-122.128938%2C%2038.051041999999995%5D%2C%20%5B-122.12893700000001%2C%2038.05106500000002%5D%2C%20%5B-122.12873299999998%2C%2038.05256499999998%5D%2C%20%5B-122.12857200000002%2C%2038.054397999999985%5D%2C%20%5B-122.128503%2C%2038.05490899999999%5D%2C%20%5B-122.128358%2C%2038.05566099999996%5D%2C%20%5B-122.127274%2C%2038.05939499999999%5D%2C%20%5B-122.126727%2C%2038.06120300000002%5D%2C%20%5B-122.126341%2C%2038.06223300000001%5D%2C%20%5B-122.12573999999998%2C%2038.06319599999997%5D%2C%20%5B-122.122275%2C%2038.067115000000015%5D%2C%20%5B-122.11665300000001%2C%2038.07307899999999%5D%2C%20%5B-122.11154600000002%2C%2038.07872%5D%2C%20%5B-122.107447%2C%2038.08317899999996%5D%2C%20%5B-122.10628899999999%2C%2038.08474999999996%5D%2C%20%5B-122.10567699999999%2C%2038.08659900000004%5D%2C%20%5B-122.104969%2C%2038.08916599999999%5D%2C%20%5B-122.10424799999998%2C%2038.092553999999986%5D%2C%20%5B-122.10378%2C%2038.093904999999964%5D%2C%20%5B-122.10292000000001%2C%2038.097122%5D%2C%20%5B-122.10218700000001%2C%2038.09999400000001%5D%2C%20%5B-122.101382%2C%2038.103129999999986%5D%2C%20%5B-122.101032%2C%2038.10521300000001%5D%2C%20%5B-122.100828%2C%2038.10734000000004%5D%2C%20%5B-122.10111900000001%2C%2038.12654599999998%5D%2C%20%5B-122.10092699999998%2C%2038.129675%5D%2C%20%5B-122.10023099999998%2C%2038.132157000000035%5D%2C%20%5B-122.09892699999999%2C%2038.134740999999984%5D%2C%20%5B-122.09225899999998%2C%2038.14740399999997%5D%2C%20%5B-122.087519%2C%2038.15650300000006%5D%2C%20%5B-122.068802%2C%2038.19200700000002%5D%2C%20%5B-122.06518800000002%2C%2038.198850000000014%5D%2C%20%5B-122.061296%2C%2038.206247999999974%5D%2C%20%5B-122.058173%2C%2038.212196999999996%5D%2C%20%5B-122.05610300000001%2C%2038.21611800000001%5D%2C%20%5B-122.053919%2C%2038.22027199999999%5D%2C%20%5B-122.05187899999999%2C%2038.22410300000001%5D%2C%20%5B-122.04957599999999%2C%2038.22849099999999%5D%2C%20%5B-122.047879%2C%2038.231691000000005%5D%2C%20%5B-122.045703%2C%2038.23588699999996%5D%2C%20%5B-122.04251699999999%2C%2038.24188399999999%5D%2C%20%5B-122.041192%2C%2038.243445999999956%5D%2C%20%5B-122.041192%2C%2038.243445999999956%5D%2C%20%5B-122.04055100000001%2C%2038.24447799999999%5D%2C%20%5B-122.03929000000001%2C%2038.24577800000003%5D%2C%20%5B-122.037826%2C%2038.24693500000001%5D%2C%20%5B-122.036052%2C%2038.24807299999996%5D%2C%20%5B-122.019017%2C%2038.257467000000034%5D%2C%20%5B-122.000649%2C%2038.267578000000036%5D%2C%20%5B-121.98736500000001%2C%2038.274877000000025%5D%2C%20%5B-121.981818%2C%2038.27792999999996%5D%2C%20%5B-121.968976%2C%2038.28497899999996%5D%2C%20%5B-121.968069%2C%2038.28539799999996%5D%2C%20%5B-121.968069%2C%2038.28539799999996%5D%2C%20%5B-121.967151%2C%2038.286013999999994%5D%2C%20%5B-121.960162%2C%2038.289851999999975%5D%2C%20%5B-121.95825399999998%2C%2038.29099300000003%5D%2C%20%5B-121.956267%2C%2038.29246299999995%5D%2C%20%5B-121.954899%2C%2038.29365699999997%5D%2C%20%5B-121.95353099999998%2C%2038.29511199999997%5D%2C%20%5B-121.952387%2C%2038.29656100000001%5D%2C%20%5B-121.951109%2C%2038.29853700000002%5D%2C%20%5B-121.949782%2C%2038.30075699999997%5D%2C%20%5B-121.947572%2C%2038.304416000000025%5D%2C%20%5B-121.94470200000002%2C%2038.30924199999997%5D%2C%20%5B-121.88673400000002%2C%2038.37615499999998%5D%2C%20%5B-121.88558800000001%2C%2038.37742500000003%5D%2C%20%5B-121.883649%2C%2038.37959199999996%5D%2C%20%5B-121.881371%2C%2038.38219499999996%5D%2C%20%5B-121.87954499999998%2C%2038.38422700000002%5D%2C%20%5B-121.877233%2C%2038.38686400000002%5D%2C%20%5B-121.873775%2C%2038.390749000000014%5D%2C%20%5B-121.86365100000002%2C%2038.402147%5D%2C%20%5B-121.75029700000002%2C%2038.529486000000006%5D%2C%20%5B-121.737758%2C%2038.54349400000001%5D%2C%20%5B-121.737758%2C%2038.54349400000001%5D%2C%20%5B-121.73639099999998%2C%2038.54385400000001%5D%2C%20%5B-121.735182%2C%2038.544248%5D%2C%20%5B-121.732729%2C%2038.54482600000001%5D%2C%20%5B-121.543141%2C%2038.587646%5D%2C%20%5B-121.54026%2C%2038.588204999999995%5D%2C%20%5B-121.53687500000001%2C%2038.58859400000002%5D%2C%20%5B-121.533387%2C%2038.58862600000001%5D%2C%20%5B-121.53019100000002%2C%2038.58847099999999%5D%2C%20%5B-121.526706%2C%2038.58827400000001%5D%2C%20%5B-121.51185599999998%2C%2038.58752200000005%5D%2C%20%5B-121.510954%2C%2038.58742499999996%5D%2C%20%5B-121.51032099999999%2C%2038.587300999999975%5D%2C%20%5B-121.505122%2C%2038.58594199999999%5D%2C%20%5B-121.50069899999998%2C%2038.58400400000001%5D%5D%2C%20%22type%22%3A%20%22LineString%22%7D%2C%20%22id%22%3A%20%22319%22%2C%20%22properties%22%3A%20%7B%22__folium_color%22%3A%20%22%231f77b4%22%2C%20%22common_shape_id%22%3A%20%225cf6811a-2f53-4199-b315-4408eb816e82%22%2C%20%22direction_id%22%3A%200.0%2C%20%22route_id%22%3A%20%22CC%22%2C%20%22route_name%22%3A%20%22Daily%20train%20service%20between%20Auburn%2C%20Sacramento%2C%20Oakland%20and%20San%20Jose%22%2C%20%22schedule_gtfs_dataset_key%22%3A%20%22f5a749dd65924e025b1293c58f95f8d6%22%7D%2C%20%22type%22%3A%20%22Feature%22%7D%2C%20%7B%22bbox%22%3A%20%5B-121.50071000000001%2C%2038.58069%2C%20-121.07962%2C%2038.90376000000001%5D%2C%20%22geometry%22%3A%20%7B%22coordinates%22%3A%20%5B%5B-121.08317%2C%2038.90376000000001%5D%2C%20%5B-121.08300999999999%2C%2038.90340000000003%5D%2C%20%5B-121.08294%2C%2038.90336000000005%5D%2C%20%5B-121.08284%2C%2038.903360000000035%5D%2C%20%5B-121.08285%2C%2038.90357000000001%5D%2C%20%5B-121.08273000000001%2C%2038.90359000000001%5D%2C%20%5B-121.08267%2C%2038.90358000000001%5D%2C%20%5B-121.08258%2C%2038.903509999999976%5D%2C%20%5B-121.08258999999998%2C%2038.90308999999995%5D%2C%20%5B-121.08257%2C%2038.902789999999975%5D%2C%20%5B-121.08252000000002%2C%2038.90256000000004%5D%2C%20%5B-121.08245%2C%2038.902340000000024%5D%2C%20%5B-121.08199%2C%2038.901270000000004%5D%2C%20%5B-121.08185000000002%2C%2038.90104999999999%5D%2C%20%5B-121.0807%2C%2038.89955000000001%5D%2C%20%5B-121.08055000000002%2C%2038.89931000000001%5D%2C%20%5B-121.08045%2C%2038.899050000000024%5D%2C%20%5B-121.08013000000001%2C%2038.89779000000002%5D%2C%20%5B-121.08%2C%2038.89745000000001%5D%2C%20%5B-121.07976%2C%2038.897049999999986%5D%2C%20%5B-121.07973%2C%2038.89695999999998%5D%2C%20%5B-121.07963%2C%2038.896790000000045%5D%2C%20%5B-121.07962%2C%2038.896750000000026%5D%2C%20%5B-121.07966%2C%2038.896670000000015%5D%2C%20%5B-121.07970999999999%2C%2038.89661999999996%5D%2C%20%5B-121.08084%2C%2038.89585999999996%5D%2C%20%5B-121.08121%2C%2038.89556000000004%5D%2C%20%5B-121.08229%2C%2038.894439999999975%5D%2C%20%5B-121.08254%2C%2038.894210000000044%5D%2C%20%5B-121.08288000000002%2C%2038.89392000000003%5D%2C%20%5B-121.08318%2C%2038.893709999999956%5D%2C%20%5B-121.08377%2C%2038.89337%5D%2C%20%5B-121.0852%2C%2038.892660000000035%5D%2C%20%5B-121.08582000000001%2C%2038.89231000000001%5D%2C%20%5B-121.08636000000001%2C%2038.89195000000001%5D%2C%20%5B-121.08679000000001%2C%2038.89163000000004%5D%2C%20%5B-121.08824000000001%2C%2038.890359999999994%5D%2C%20%5B-121.08871000000002%2C%2038.89004000000001%5D%2C%20%5B-121.08914000000001%2C%2038.88976999999998%5D%2C%20%5B-121.08956000000002%2C%2038.889550000000014%5D%2C%20%5B-121.09017000000001%2C%2038.88925999999999%5D%2C%20%5B-121.09072999999998%2C%2038.889030000000076%5D%2C%20%5B-121.09131%2C%2038.888849999999955%5D%2C%20%5B-121.09280999999999%2C%2038.88849000000001%5D%2C%20%5B-121.09443000000002%2C%2038.888079999999995%5D%2C%20%5B-121.09524%2C%2038.88781999999997%5D%2C%20%5B-121.09618%2C%2038.88745999999996%5D%2C%20%5B-121.09695999999998%2C%2038.88709999999999%5D%2C%20%5B-121.09775%2C%2038.886670000000045%5D%2C%20%5B-121.10017%2C%2038.885260000000024%5D%2C%20%5B-121.10233%2C%2038.88398%5D%2C%20%5B-121.10341%2C%2038.88335999999999%5D%2C%20%5B-121.10415999999998%2C%2038.882959999999954%5D%2C%20%5B-121.10466000000001%2C%2038.88272%5D%2C%20%5B-121.10525%2C%2038.88246000000001%5D%2C%20%5B-121.10663000000001%2C%2038.88194%5D%2C%20%5B-121.10731%2C%2038.881730000000005%5D%2C%20%5B-121.10932000000001%2C%2038.88112999999998%5D%2C%20%5B-121.11554%2C%2038.87926999999998%5D%2C%20%5B-121.11667000000001%2C%2038.87899999999998%5D%2C%20%5B-121.1176%2C%2038.878829999999965%5D%2C%20%5B-121.11868%2C%2038.87868000000002%5D%2C%20%5B-121.12419%2C%2038.87837%5D%2C%20%5B-121.12564%2C%2038.878300000000024%5D%2C%20%5B-121.12659%2C%2038.87818999999998%5D%2C%20%5B-121.12728999999999%2C%2038.87802000000003%5D%2C%20%5B-121.12764999999999%2C%2038.87790000000001%5D%2C%20%5B-121.12839%2C%2038.87762000000004%5D%2C%20%5B-121.12904000000002%2C%2038.87727999999995%5D%2C%20%5B-121.12935%2C%2038.877079999999985%5D%2C%20%5B-121.12963%2C%2038.87686999999998%5D%2C%20%5B-121.12995000000001%2C%2038.87661000000002%5D%2C%20%5B-121.1302%2C%2038.87638000000001%5D%2C%20%5B-121.13046000000001%2C%2038.876099999999994%5D%2C%20%5B-121.13073000000001%2C%2038.87577999999998%5D%2C%20%5B-121.13103%2C%2038.87534999999998%5D%2C%20%5B-121.13123%2C%2038.87488000000005%5D%2C%20%5B-121.13136999999999%2C%2038.87450999999998%5D%2C%20%5B-121.13148%2C%2038.87411%5D%2C%20%5B-121.13211%2C%2038.870279999999966%5D%2C%20%5B-121.13271%2C%2038.86663999999998%5D%2C%20%5B-121.13288000000001%2C%2038.86560999999998%5D%2C%20%5B-121.13303000000002%2C%2038.864999999999995%5D%2C%20%5B-121.13333000000002%2C%2038.86419999999999%5D%2C%20%5B-121.13367000000001%2C%2038.86354999999998%5D%2C%20%5B-121.13395%2C%2038.86310000000004%5D%2C%20%5B-121.13438%2C%2038.86253000000002%5D%2C%20%5B-121.13473999999998%2C%2038.86211000000002%5D%2C%20%5B-121.13517%2C%2038.86168000000005%5D%2C%20%5B-121.13569%2C%2038.86122000000002%5D%2C%20%5B-121.13749%2C%2038.859740000000066%5D%2C%20%5B-121.14001999999999%2C%2038.85763000000002%5D%2C%20%5B-121.14533%2C%2038.853249999999996%5D%2C%20%5B-121.15015999999999%2C%2038.84926999999999%5D%2C%20%5B-121.15542%2C%2038.84494%5D%2C%20%5B-121.16019000000001%2C%2038.840999999999994%5D%2C%20%5B-121.16161%2C%2038.83981999999999%5D%2C%20%5B-121.16542999999999%2C%2038.836659999999995%5D%2C%20%5B-121.17972%2C%2038.82469999999998%5D%2C%20%5B-121.19166%2C%2038.81465%5D%2C%20%5B-121.2056%2C%2038.802950000000024%5D%2C%20%5B-121.21994000000001%2C%2038.79088%5D%2C%20%5B-121.22094%2C%2038.79021000000003%5D%2C%20%5B-121.22147%2C%2038.78982999999998%5D%2C%20%5B-121.22179%2C%2038.78962999999999%5D%2C%20%5B-121.22335000000001%2C%2038.78879000000003%5D%2C%20%5B-121.2237%2C%2038.78862999999997%5D%2C%20%5B-121.22379%2C%2038.78854%5D%2C%20%5B-121.22427%2C%2038.788539999999976%5D%2C%20%5B-121.22454%2C%2038.788500000000006%5D%2C%20%5B-121.22576%2C%2038.78847000000003%5D%2C%20%5B-121.22594%2C%2038.788500000000006%5D%2C%20%5B-121.22681%2C%2038.78849999999999%5D%2C%20%5B-121.22692%2C%2038.788450000000005%5D%2C%20%5B-121.22822000000001%2C%2038.78854%5D%2C%20%5B-121.22895000000001%2C%2038.78855999999998%5D%2C%20%5B-121.22897000000002%2C%2038.7886%5D%2C%20%5B-121.22904000000001%2C%2038.78866%5D%2C%20%5B-121.22915000000002%2C%2038.78867999999999%5D%2C%20%5B-121.2292%2C%2038.78867999999998%5D%2C%20%5B-121.22929%2C%2038.78862999999997%5D%2C%20%5B-121.23059%2C%2038.78861999999995%5D%2C%20%5B-121.23086%2C%2038.78863999999995%5D%2C%20%5B-121.23102%2C%2038.78866999999997%5D%2C%20%5B-121.23151000000001%2C%2038.78885999999997%5D%2C%20%5B-121.23154%2C%2038.788940000000046%5D%2C%20%5B-121.23162%2C%2038.78899999999996%5D%2C%20%5B-121.23167000000001%2C%2038.789019999999994%5D%2C%20%5B-121.23178%2C%2038.78901999999997%5D%2C%20%5B-121.2328%2C%2038.78945%5D%2C%20%5B-121.23297000000001%2C%2038.789429999999996%5D%2C%20%5B-121.23436000000001%2C%2038.790050000000036%5D%2C%20%5B-121.23447999999999%2C%2038.790190000000024%5D%2C%20%5B-121.23582%2C%2038.79077999999999%5D%2C%20%5B-121.23656%2C%2038.79107999999999%5D%2C%20%5B-121.23703%2C%2038.791250000000026%5D%2C%20%5B-121.2371%2C%2038.79117999999997%5D%2C%20%5B-121.23723000000001%2C%2038.79097999999998%5D%2C%20%5B-121.2371%2C%2038.79117999999997%5D%2C%20%5B-121.23663999999998%2C%2038.790950000000024%5D%2C%20%5B-121.23457999999998%2C%2038.79003999999999%5D%2C%20%5B-121.23436000000001%2C%2038.790050000000036%5D%2C%20%5B-121.23297000000001%2C%2038.789429999999996%5D%2C%20%5B-121.23290999999999%2C%2038.78929999999997%5D%2C%20%5B-121.23193000000002%2C%2038.78885999999997%5D%2C%20%5B-121.2319%2C%2038.78878000000001%5D%2C%20%5B-121.23183%2C%2038.78871999999999%5D%2C%20%5B-121.23172%2C%2038.78869999999999%5D%2C%20%5B-121.23162%2C%2038.78871999999996%5D%2C%20%5B-121.23126%2C%2038.78857000000001%5D%2C%20%5B-121.23109999999998%2C%2038.78850999999999%5D%2C%20%5B-121.23086%2C%2038.78845999999993%5D%2C%20%5B-121.23065%2C%2038.78845%5D%2C%20%5B-121.22933000000002%2C%2038.78844%5D%2C%20%5B-121.22925000000001%2C%2038.78838%5D%2C%20%5B-121.22915000000002%2C%2038.78835999999998%5D%2C%20%5B-121.22909%2C%2038.78835999999998%5D%2C%20%5B-121.229%2C%2038.78841000000002%5D%2C%20%5B-121.22895000000001%2C%2038.78847999999998%5D%2C%20%5B-121.2286%2C%2038.78854999999999%5D%2C%20%5B-121.22822000000001%2C%2038.78854%5D%2C%20%5B-121.22692%2C%2038.788450000000005%5D%2C%20%5B-121.22680000000001%2C%2038.78838999999999%5D%2C%20%5B-121.22593%2C%2038.78841000000002%5D%2C%20%5B-121.22576%2C%2038.78847000000003%5D%2C%20%5B-121.22561000000002%2C%2038.78847999999998%5D%2C%20%5B-121.22454%2C%2038.788500000000006%5D%2C%20%5B-121.22427%2C%2038.78845999999993%5D%2C%20%5B-121.22387%2C%2038.788450000000005%5D%2C%20%5B-121.22439%2C%2038.787459999999996%5D%2C%20%5B-121.22465000000001%2C%2038.787079999999996%5D%2C%20%5B-121.22542%2C%2038.78626000000002%5D%2C%20%5B-121.23243000000001%2C%2038.780369999999984%5D%2C%20%5B-121.2329%2C%2038.779980000000045%5D%2C%20%5B-121.2335%2C%2038.77953000000002%5D%2C%20%5B-121.23411%2C%2038.77908999999996%5D%2C%20%5B-121.23607%2C%2038.77787%5D%2C%20%5B-121.24213000000002%2C%2038.77414999999996%5D%2C%20%5B-121.24559%2C%2038.771989999999974%5D%2C%20%5B-121.24928%2C%2038.76968000000002%5D%2C%20%5B-121.24966000000002%2C%2038.76939999999994%5D%2C%20%5B-121.25205999999999%2C%2038.76791000000003%5D%2C%20%5B-121.25273%2C%2038.76754000000001%5D%2C%20%5B-121.25571999999998%2C%2038.76571%5D%2C%20%5B-121.2564%2C%2038.76528000000002%5D%2C%20%5B-121.25725999999999%2C%2038.76469000000003%5D%2C%20%5B-121.25801000000001%2C%2038.76386000000002%5D%2C%20%5B-121.25828000000001%2C%2038.763529999999996%5D%2C%20%5B-121.26015%2C%2038.76066000000002%5D%2C%20%5B-121.26042%2C%2038.76027999999999%5D%2C%20%5B-121.26082%2C%2038.75985999999998%5D%2C%20%5B-121.26123%2C%2038.759370000000004%5D%2C%20%5B-121.26145%2C%2038.75917999999998%5D%2C%20%5B-121.26164000000001%2C%2038.75902999999995%5D%2C%20%5B-121.26208%2C%2038.75877999999998%5D%2C%20%5B-121.26258000000001%2C%2038.758580000000016%5D%2C%20%5B-121.26302%2C%2038.75846000000001%5D%2C%20%5B-121.26341%2C%2038.75840000000002%5D%2C%20%5B-121.26417%2C%2038.758320000000005%5D%2C%20%5B-121.26448000000002%2C%2038.75824999999998%5D%2C%20%5B-121.26478000000002%2C%2038.758229999999976%5D%2C%20%5B-121.26504%2C%2038.75812999999999%5D%2C%20%5B-121.26763000000001%2C%2038.758109999999995%5D%2C%20%5B-121.26790000000001%2C%2038.758090000000024%5D%2C%20%5B-121.26817%2C%2038.75813999999999%5D%2C%20%5B-121.26913%2C%2038.75802999999998%5D%2C%20%5B-121.26973%2C%2038.757929999999995%5D%2C%20%5B-121.27075%2C%2038.75773999999999%5D%2C%20%5B-121.27151%2C%2038.75753999999995%5D%2C%20%5B-121.27156%2C%2038.75745000000004%5D%2C%20%5B-121.27267%2C%2038.757079999999966%5D%2C%20%5B-121.27359000000001%2C%2038.75670000000002%5D%2C%20%5B-121.27406%2C%2038.75647999999999%5D%2C%20%5B-121.27903000000002%2C%2038.75356000000003%5D%2C%20%5B-121.28000000000002%2C%2038.75304999999999%5D%2C%20%5B-121.28095%2C%2038.75249000000004%5D%2C%20%5B-121.28114%2C%2038.75236000000001%5D%2C%20%5B-121.28131%2C%2038.75218000000002%5D%2C%20%5B-121.28138%2C%2038.75207%5D%2C%20%5B-121.28142000000001%2C%2038.75194%5D%2C%20%5B-121.28142000000001%2C%2038.75182%5D%2C%20%5B-121.28138%2C%2038.75152999999996%5D%2C%20%5B-121.28136999999998%2C%2038.75133000000003%5D%2C%20%5B-121.28142000000001%2C%2038.75113999999997%5D%2C%20%5B-121.28151999999999%2C%2038.75097000000001%5D%2C%20%5B-121.28169999999999%2C%2038.75074999999999%5D%2C%20%5B-121.28284%2C%2038.74989000000004%5D%2C%20%5B-121.28196999999999%2C%2038.74920000000003%5D%2C%20%5B-121.28254000000001%2C%2038.74876%5D%2C%20%5B-121.28276000000001%2C%2038.74854999999997%5D%2C%20%5B-121.28277%2C%2038.74847999999997%5D%2C%20%5B-121.28284%2C%2038.748410000000014%5D%2C%20%5B-121.2829%2C%2038.74837%5D%2C%20%5B-121.28301%2C%2038.748340000000006%5D%2C%20%5B-121.28306%2C%2038.748339999999956%5D%2C%20%5B-121.28337%2C%2038.74845999999998%5D%2C%20%5B-121.28355%2C%2038.748569999999994%5D%2C%20%5B-121.28456%2C%2038.74936%5D%2C%20%5B-121.28556000000002%2C%2038.75018000000003%5D%2C%20%5B-121.28716999999999%2C%2038.75174000000001%5D%2C%20%5B-121.28738000000001%2C%2038.751769999999986%5D%2C%20%5B-121.28744000000002%2C%2038.75174000000001%5D%2C%20%5B-121.28647%2C%2038.75086999999998%5D%2C%20%5B-121.28759%2C%2038.74996000000001%5D%2C%20%5B-121.28713000000002%2C%2038.74960999999993%5D%2C%20%5B-121.28704000000002%2C%2038.74958%5D%2C%20%5B-121.28694%2C%2038.749590000000005%5D%2C%20%5B-121.28677000000002%2C%2038.74964000000001%5D%2C%20%5B-121.28654%2C%2038.74974000000002%5D%2C%20%5B-121.28647999999998%2C%2038.74982000000002%5D%2C%20%5B-121.28647%2C%2038.749969999999976%5D%2C%20%5B-121.28643%2C%2038.750059999999955%5D%2C%20%5B-121.28625%2C%2038.75023000000004%5D%2C%20%5B-121.28674%2C%2038.750639999999954%5D%2C%20%5B-121.28658%2C%2038.75069000000001%5D%2C%20%5B-121.28641000000002%2C%2038.75073000000003%5D%2C%20%5B-121.28626000000001%2C%2038.75068000000002%5D%2C%20%5B-121.28563000000001%2C%2038.750130000000006%5D%2C%20%5B-121.28422%2C%2038.74898000000005%5D%2C%20%5B-121.28355%2C%2038.748450000000034%5D%2C%20%5B-121.28346%2C%2038.74843000000001%5D%2C%20%5B-121.28333%2C%2038.748349999999995%5D%2C%20%5B-121.28326999999999%2C%2038.74827999999999%5D%2C%20%5B-121.28325%2C%2038.748229999999964%5D%2C%20%5B-121.28323000000002%2C%2038.74812%5D%2C%20%5B-121.28313%2C%2038.74805%5D%2C%20%5B-121.28306%2C%2038.74803999999999%5D%2C%20%5B-121.28297%2C%2038.748059999999974%5D%2C%20%5B-121.2829%2C%2038.74812%5D%2C%20%5B-121.28287000000002%2C%2038.74818999999998%5D%2C%20%5B-121.28281999999999%2C%2038.748239999999996%5D%2C%20%5B-121.28262%2C%2038.748539999999956%5D%2C%20%5B-121.28187%2C%2038.749120000000005%5D%2C%20%5B-121.28117%2C%2038.748549999999966%5D%2C%20%5B-121.28108%2C%2038.74853000000003%5D%2C%20%5B-121.28096%2C%2038.74850999999998%5D%2C%20%5B-121.27973000000001%2C%2038.74853000000003%5D%2C%20%5B-121.27957000000002%2C%2038.748539999999956%5D%2C%20%5B-121.27945%2C%2038.74858999999996%5D%2C%20%5B-121.27884%2C%2038.74903999999999%5D%2C%20%5B-121.27683%2C%2038.74736000000001%5D%2C%20%5B-121.27674%2C%2038.74722000000003%5D%2C%20%5B-121.27672%2C%2038.74714000000004%5D%2C%20%5B-121.27670000000002%2C%2038.74659000000002%5D%2C%20%5B-121.27666%2C%2038.743940000000066%5D%2C%20%5B-121.27385%2C%2038.74397%5D%2C%20%5B-121.27321%2C%2038.74388000000004%5D%2C%20%5B-121.27234999999999%2C%2038.74381999999999%5D%2C%20%5B-121.27223000000001%2C%2038.743790000000004%5D%2C%20%5B-121.27213000000002%2C%2038.74376000000004%5D%2C%20%5B-121.27196%2C%2038.74364%5D%2C%20%5B-121.27184000000001%2C%2038.74349000000005%5D%2C%20%5B-121.27181%2C%2038.743370000000034%5D%2C%20%5B-121.27183%2C%2038.74315999999994%5D%2C%20%5B-121.27187%2C%2038.74304%5D%2C%20%5B-121.27211000000001%2C%2038.74249999999998%5D%2C%20%5B-121.27242%2C%2038.74197000000004%5D%2C%20%5B-121.27291%2C%2038.74121999999996%5D%2C%20%5B-121.27395000000001%2C%2038.739909999999995%5D%2C%20%5B-121.27988999999998%2C%2038.73449000000001%5D%2C%20%5B-121.28568%2C%2038.72917999999999%5D%2C%20%5B-121.29373999999999%2C%2038.72185000000002%5D%2C%20%5B-121.29674%2C%2038.71926000000003%5D%2C%20%5B-121.30069000000002%2C%2038.71577000000003%5D%2C%20%5B-121.31613%2C%2038.70161000000002%5D%2C%20%5B-121.32293%2C%2038.69548000000001%5D%2C%20%5B-121.32663%2C%2038.69205999999998%5D%2C%20%5B-121.3298%2C%2038.689179999999986%5D%2C%20%5B-121.33326999999998%2C%2038.68599000000003%5D%2C%20%5B-121.33684000000001%2C%2038.68279000000006%5D%2C%20%5B-121.34176%2C%2038.67823000000001%5D%2C%20%5B-121.35362999999998%2C%2038.667340000000024%5D%2C%20%5B-121.35879000000001%2C%2038.66234%5D%2C%20%5B-121.36145000000002%2C%2038.65990000000002%5D%2C%20%5B-121.3681%2C%2038.65391000000001%5D%2C%20%5B-121.37113%2C%2038.651099999999985%5D%2C%20%5B-121.37310999999998%2C%2038.64956000000005%5D%2C%20%5B-121.37372%2C%2038.64912999999999%5D%2C%20%5B-121.37478%2C%2038.64842000000004%5D%2C%20%5B-121.37557%2C%2038.647929999999995%5D%2C%20%5B-121.37592000000001%2C%2038.64765999999994%5D%2C%20%5B-121.37615999999998%2C%2038.647439999999996%5D%2C%20%5B-121.37708%2C%2038.646379999999965%5D%2C%20%5B-121.37761999999998%2C%2038.64551999999999%5D%2C%20%5B-121.37784000000002%2C%2038.64521999999998%5D%2C%20%5B-121.37863000000002%2C%2038.64426000000002%5D%2C%20%5B-121.37908999999999%2C%2038.643760000000015%5D%2C%20%5B-121.37957000000002%2C%2038.64327000000002%5D%2C%20%5B-121.38673%2C%2038.636670000000024%5D%2C%20%5B-121.38728000000002%2C%2038.63625000000002%5D%2C%20%5B-121.38787%2C%2038.63586000000001%5D%2C%20%5B-121.38849000000002%2C%2038.63551%5D%2C%20%5B-121.38915%2C%2038.63518999999998%5D%2C%20%5B-121.39182999999998%2C%2038.63413000000003%5D%2C%20%5B-121.39765%2C%2038.63191000000003%5D%2C%20%5B-121.39837%2C%2038.631679999999974%5D%2C%20%5B-121.39992%2C%2038.63128999999999%5D%2C%20%5B-121.40133%2C%2038.63089000000003%5D%2C%20%5B-121.40216%2C%2038.630600000000015%5D%2C%20%5B-121.40287000000001%2C%2038.630280000000006%5D%2C%20%5B-121.40495000000001%2C%2038.62917999999997%5D%2C%20%5B-121.40583000000001%2C%2038.62877999999997%5D%2C%20%5B-121.40644%2C%2038.62853000000005%5D%2C%20%5B-121.40958%2C%2038.627329999999986%5D%2C%20%5B-121.41045999999999%2C%2038.626960000000004%5D%2C%20%5B-121.41253%2C%2038.62604000000004%5D%2C%20%5B-121.41323999999999%2C%2038.62573999999998%5D%2C%20%5B-121.41507%2C%2038.62502999999999%5D%2C%20%5B-121.41706%2C%2038.62427000000002%5D%2C%20%5B-121.41788%2C%2038.62393999999998%5D%2C%20%5B-121.41825999999999%2C%2038.62373999999995%5D%2C%20%5B-121.41861%2C%2038.62350999999999%5D%2C%20%5B-121.41891%2C%2038.62326%5D%2C%20%5B-121.41917000000001%2C%2038.62297%5D%2C%20%5B-121.41937999999999%2C%2038.62265000000002%5D%2C%20%5B-121.41954%2C%2038.62232000000002%5D%2C%20%5B-121.41964%2C%2038.622009999999996%5D%2C%20%5B-121.41968000000001%2C%2038.62167999999999%5D%2C%20%5B-121.41970000000002%2C%2038.62057999999999%5D%2C%20%5B-121.41967%2C%2038.61902000000003%5D%2C%20%5B-121.41970000000002%2C%2038.6186%5D%2C%20%5B-121.41979000000002%2C%2038.618189999999984%5D%2C%20%5B-121.41994%2C%2038.617789999999964%5D%2C%20%5B-121.42015%2C%2038.61741%5D%2C%20%5B-121.42041%2C%2038.61705%5D%2C%20%5B-121.42059999999998%2C%2038.616829999999986%5D%2C%20%5B-121.42292%2C%2038.61472%5D%2C%20%5B-121.42346999999998%2C%2038.61426000000002%5D%2C%20%5B-121.42586%2C%2038.61206999999998%5D%2C%20%5B-121.42697000000001%2C%2038.61110000000004%5D%2C%20%5B-121.42776%2C%2038.61044%5D%2C%20%5B-121.42876000000001%2C%2038.60951%5D%2C%20%5B-121.42975000000001%2C%2038.608660000000015%5D%2C%20%5B-121.43136000000001%2C%2038.60710999999999%5D%2C%20%5B-121.433%2C%2038.60559000000004%5D%2C%20%5B-121.43372000000001%2C%2038.60488999999997%5D%2C%20%5B-121.43505%2C%2038.603809999999974%5D%2C%20%5B-121.43617%2C%2038.602779999999996%5D%2C%20%5B-121.43721%2C%2038.601859999999974%5D%2C%20%5B-121.43767%2C%2038.60152000000001%5D%2C%20%5B-121.43806%2C%2038.60126999999997%5D%2C%20%5B-121.43847000000001%2C%2038.601050000000036%5D%2C%20%5B-121.43901000000001%2C%2038.60081000000001%5D%2C%20%5B-121.43956%2C%2038.60060999999999%5D%2C%20%5B-121.44014%2C%2038.60045000000001%5D%2C%20%5B-121.44070999999998%2C%2038.60033000000003%5D%2C%20%5B-121.44128%2C%2038.60025%5D%2C%20%5B-121.44186%2C%2038.60019999999997%5D%2C%20%5B-121.46198%2C%2038.600219999999986%5D%2C%20%5B-121.4657%2C%2038.60022999999999%5D%2C%20%5B-121.46599999999998%2C%2038.60025999999999%5D%2C%20%5B-121.46703%2C%2038.60042999999999%5D%2C%20%5B-121.4674%2C%2038.60045000000001%5D%2C%20%5B-121.46777000000002%2C%2038.60042999999999%5D%2C%20%5B-121.46816999999999%2C%2038.600350000000034%5D%2C%20%5B-121.4685%2C%2038.600259999999935%5D%2C%20%5B-121.46883000000001%2C%2038.60011%5D%2C%20%5B-121.46958%2C%2038.59968%5D%2C%20%5B-121.46984%2C%2038.599539999999955%5D%2C%20%5B-121.47005%2C%2038.59948999999996%5D%2C%20%5B-121.47092%2C%2038.59914000000002%5D%2C%20%5B-121.47399%2C%2038.59795999999999%5D%2C%20%5B-121.47444%2C%2038.597759999999994%5D%2C%20%5B-121.47556%2C%2038.59709000000004%5D%2C%20%5B-121.47734%2C%2038.595909999999975%5D%2C%20%5B-121.47778%2C%2038.59552000000002%5D%2C%20%5B-121.47793000000001%2C%2038.59534000000003%5D%2C%20%5B-121.47804%2C%2038.59517000000001%5D%2C%20%5B-121.47818000000001%2C%2038.59487999999998%5D%2C%20%5B-121.47847%2C%2038.594359999999995%5D%2C%20%5B-121.47880000000002%2C%2038.594039999999964%5D%2C%20%5B-121.47915%2C%2038.59379999999999%5D%2C%20%5B-121.48005000000002%2C%2038.59329000000003%5D%2C%20%5B-121.48047999999999%2C%2038.59306999999996%5D%2C%20%5B-121.48219%2C%2038.592380000000006%5D%2C%20%5B-121.48434000000002%2C%2038.591300000000025%5D%2C%20%5B-121.48589000000001%2C%2038.59049999999997%5D%2C%20%5B-121.48605%2C%2038.590389999999985%5D%2C%20%5B-121.48619%2C%2038.59022999999998%5D%2C%20%5B-121.48668%2C%2038.58914999999997%5D%2C%20%5B-121.48667000000002%2C%2038.589079999999974%5D%2C%20%5B-121.48704000000001%2C%2038.58820000000002%5D%2C%20%5B-121.48711%2C%2038.58816000000001%5D%2C%20%5B-121.48775%2C%2038.586710000000004%5D%2C%20%5B-121.49037000000001%2C%2038.58069%5D%2C%20%5B-121.49435%2C%2038.58174999999998%5D%2C%20%5B-121.49962999999998%2C%2038.58318%5D%2C%20%5B-121.49943999999999%2C%2038.58363999999998%5D%2C%20%5B-121.50071000000001%2C%2038.583980000000004%5D%5D%2C%20%22type%22%3A%20%22LineString%22%7D%2C%20%22id%22%3A%20%22756%22%2C%20%22properties%22%3A%20%7B%22__folium_color%22%3A%20%22%239edae5%22%2C%20%22common_shape_id%22%3A%20%22104dc91b-4f7b-4f93-bea2-ebfe9adabcf3%22%2C%20%22direction_id%22%3A%201.0%2C%20%22route_id%22%3A%20%22Shuttle%22%2C%20%22route_name%22%3A%20%22Shuttle%20to%20Auburn%22%2C%20%22schedule_gtfs_dataset_key%22%3A%20%22f5a749dd65924e025b1293c58f95f8d6%22%7D%2C%20%22type%22%3A%20%22Feature%22%7D%2C%20%7B%22bbox%22%3A%20%5B-121.51562000000001%2C%2038.58368000000002%2C%20-121.07775000000001%2C%2038.90376000000001%5D%2C%20%22geometry%22%3A%20%7B%22coordinates%22%3A%20%5B%5B-121.50071000000001%2C%2038.583980000000004%5D%2C%20%5B-121.50146%2C%2038.58418000000002%5D%2C%20%5B-121.50143999999999%2C%2038.58406%5D%2C%20%5B-121.50138000000001%2C%2038.58403000000001%5D%2C%20%5B-121.50103%2C%2038.58391000000001%5D%2C%20%5B-121.50101%2C%2038.58388000000001%5D%2C%20%5B-121.50088%2C%2038.583830000000006%5D%2C%20%5B-121.50086000000002%2C%2038.58378999999998%5D%2C%20%5B-121.50089000000001%2C%2038.58372000000002%5D%2C%20%5B-121.50098000000001%2C%2038.58368000000002%5D%2C%20%5B-121.50161999999999%2C%2038.583989999999986%5D%2C%20%5B-121.50186%2C%2038.584160000000004%5D%2C%20%5B-121.50209%2C%2038.58439999999998%5D%2C%20%5B-121.50222999999998%2C%2038.58462000000005%5D%2C%20%5B-121.5023%2C%2038.584779999999995%5D%2C%20%5B-121.50264999999999%2C%2038.585980000000006%5D%2C%20%5B-121.50272%2C%2038.586159999999964%5D%2C%20%5B-121.50297000000002%2C%2038.58669999999997%5D%2C%20%5B-121.50391000000002%2C%2038.588310000000014%5D%2C%20%5B-121.50411%2C%2038.588800000000006%5D%2C%20%5B-121.50426%2C%2038.58934%5D%2C%20%5B-121.50432%2C%2038.58964%5D%2C%20%5B-121.50437999999998%2C%2038.59025%5D%2C%20%5B-121.50439%2C%2038.59062999999999%5D%2C%20%5B-121.50437000000001%2C%2038.59113000000001%5D%2C%20%5B-121.50407000000001%2C%2038.593840000000036%5D%2C%20%5B-121.50383000000001%2C%2038.596160000000005%5D%2C%20%5B-121.50379%2C%2038.59669000000002%5D%2C%20%5B-121.50381%2C%2038.59727999999998%5D%2C%20%5B-121.50384%2C%2038.597800000000014%5D%2C%20%5B-121.50397%2C%2038.59848999999999%5D%2C%20%5B-121.50418000000002%2C%2038.59914%5D%2C%20%5B-121.5043%2C%2038.59944999999996%5D%2C%20%5B-121.505%2C%2038.60082999999999%5D%2C%20%5B-121.51201%2C%2038.614499999999985%5D%2C%20%5B-121.51219%2C%2038.61490999999999%5D%2C%20%5B-121.51401%2C%2038.61846000000002%5D%2C%20%5B-121.51433%2C%2038.61916000000001%5D%2C%20%5B-121.51519000000002%2C%2038.62166000000005%5D%2C%20%5B-121.51549%2C%2038.62250999999997%5D%2C%20%5B-121.51556%2C%2038.622770000000045%5D%2C%20%5B-121.5156%2C%2038.623040000000024%5D%2C%20%5B-121.51562000000001%2C%2038.623309999999954%5D%2C%20%5B-121.5156%2C%2038.62373999999997%5D%2C%20%5B-121.51551%2C%2038.624190000000006%5D%2C%20%5B-121.51536%2C%2038.62462000000003%5D%2C%20%5B-121.51518%2C%2038.62495%5D%2C%20%5B-121.51504999999999%2C%2038.62516000000006%5D%2C%20%5B-121.51474000000002%2C%2038.625539999999994%5D%2C%20%5B-121.51456000000002%2C%2038.62571999999999%5D%2C%20%5B-121.51431%2C%2038.62595%5D%2C%20%5B-121.51265%2C%2038.62696000000001%5D%2C%20%5B-121.50745000000002%2C%2038.629899999999985%5D%2C%20%5B-121.49266000000001%2C%2038.63767%5D%2C%20%5B-121.49171%2C%2038.638100000000016%5D%2C%20%5B-121.49072%2C%2038.63848000000004%5D%2C%20%5B-121.48971%2C%2038.63880999999999%5D%2C%20%5B-121.48866%2C%2038.63908999999997%5D%2C%20%5B-121.4876%2C%2038.639309999999995%5D%2C%20%5B-121.48652%2C%2038.63948000000002%5D%2C%20%5B-121.47351000000002%2C%2038.641050000000014%5D%2C%20%5B-121.47076%2C%2038.641379999999955%5D%2C%20%5B-121.4694%2C%2038.64147999999997%5D%2C%20%5B-121.46885%2C%2038.64154000000001%5D%2C%20%5B-121.46737%2C%2038.64159000000003%5D%2C%20%5B-121.46276%2C%2038.64145000000003%5D%2C%20%5B-121.46128%2C%2038.64138999999997%5D%2C%20%5B-121.45028000000002%2C%2038.64106000000004%5D%2C%20%5B-121.44911999999998%2C%2038.64107999999998%5D%2C%20%5B-121.44808000000002%2C%2038.64114000000003%5D%2C%20%5B-121.44726000000001%2C%2038.64121000000004%5D%2C%20%5B-121.4458%2C%2038.64143000000005%5D%2C%20%5B-121.43652999999999%2C%2038.642959999999974%5D%2C%20%5B-121.43576%2C%2038.64306%5D%2C%20%5B-121.43498%2C%2038.64312000000003%5D%2C%20%5B-121.43419999999999%2C%2038.64315999999999%5D%2C%20%5B-121.43323000000001%2C%2038.64316%5D%2C%20%5B-121.43227%2C%2038.64311000000001%5D%2C%20%5B-121.43122%2C%2038.643010000000025%5D%2C%20%5B-121.43019%2C%2038.64286999999996%5D%2C%20%5B-121.42866%2C%2038.64256999999996%5D%2C%20%5B-121.42815000000002%2C%2038.64244999999995%5D%2C%20%5B-121.42708%2C%2038.642120000000055%5D%2C%20%5B-121.42603000000001%2C%2038.64174000000002%5D%2C%20%5B-121.42552%2C%2038.64154000000001%5D%2C%20%5B-121.41923000000001%2C%2038.63847%5D%2C%20%5B-121.41841000000001%2C%2038.63815000000004%5D%2C%20%5B-121.41756%2C%2038.63787000000004%5D%2C%20%5B-121.41668999999999%2C%2038.63763999999998%5D%2C%20%5B-121.41611000000002%2C%2038.63751999999999%5D%2C%20%5B-121.41529000000001%2C%2038.637380000000064%5D%2C%20%5B-121.41444999999999%2C%2038.63729000000004%5D%2C%20%5B-121.41362%2C%2038.63723999999997%5D%2C%20%5B-121.40808%2C%2038.63725%5D%2C%20%5B-121.40718%2C%2038.63722999999996%5D%2C%20%5B-121.40444000000001%2C%2038.63723999999997%5D%2C%20%5B-121.40366%2C%2038.63731999999999%5D%2C%20%5B-121.40310999999998%2C%2038.637429999999995%5D%2C%20%5B-121.40258%2C%2038.637570000000025%5D%2C%20%5B-121.40198%2C%2038.63777000000001%5D%2C%20%5B-121.40141000000001%2C%2038.63802000000002%5D%2C%20%5B-121.40088%2C%2038.63831999999997%5D%2C%20%5B-121.40058%2C%2038.63851%5D%2C%20%5B-121.39679000000001%2C%2038.64125000000004%5D%2C%20%5B-121.39595%2C%2038.64182999999999%5D%2C%20%5B-121.39545000000001%2C%2038.642120000000055%5D%2C%20%5B-121.39508%2C%2038.64230999999996%5D%2C%20%5B-121.39348%2C%2038.64306%5D%2C%20%5B-121.39278999999999%2C%2038.643309999999964%5D%2C%20%5B-121.39208%2C%2038.643519999999995%5D%2C%20%5B-121.39136000000002%2C%2038.64371%5D%2C%20%5B-121.39064000000002%2C%2038.64385999999998%5D%2C%20%5B-121.38601999999999%2C%2038.64451000000001%5D%2C%20%5B-121.38219%2C%2038.64507000000002%5D%2C%20%5B-121.37945000000002%2C%2038.64548999999998%5D%2C%20%5B-121.37868%2C%2038.64566000000001%5D%2C%20%5B-121.37792%2C%2038.64586999999999%5D%2C%20%5B-121.37664000000001%2C%2038.64636000000003%5D%2C%20%5B-121.37596%2C%2038.64666000000002%5D%2C%20%5B-121.37541%2C%2038.64694999999996%5D%2C%20%5B-121.37431999999998%2C%2038.647740000000006%5D%2C%20%5B-121.37397%2C%2038.64801999999999%5D%2C%20%5B-121.37224%2C%2038.649599999999964%5D%2C%20%5B-121.37050999999998%2C%2038.6512%5D%2C%20%5B-121.36747999999999%2C%2038.65393%5D%2C%20%5B-121.36345000000001%2C%2038.65766%5D%2C%20%5B-121.35497%2C%2038.66558000000001%5D%2C%20%5B-121.34657000000001%2C%2038.67325000000004%5D%2C%20%5B-121.33926000000001%2C%2038.68001%5D%2C%20%5B-121.33601999999999%2C%2038.68295999999999%5D%2C%20%5B-121.33378999999998%2C%2038.68496999999997%5D%2C%20%5B-121.33106000000001%2C%2038.68748000000002%5D%2C%20%5B-121.32255000000002%2C%2038.69527000000001%5D%2C%20%5B-121.31761%2C%2038.69979000000001%5D%2C%20%5B-121.31448000000002%2C%2038.70261000000005%5D%2C%20%5B-121.31263999999999%2C%2038.70431000000001%5D%2C%20%5B-121.30276%2C%2038.71334999999998%5D%2C%20%5B-121.29607%2C%2038.71946999999997%5D%2C%20%5B-121.29258000000002%2C%2038.72254000000002%5D%2C%20%5B-121.28504%2C%2038.729410000000016%5D%2C%20%5B-121.28238%2C%2038.73187000000002%5D%2C%20%5B-121.27545%2C%2038.73820999999999%5D%2C%20%5B-121.27407999999998%2C%2038.739479999999965%5D%2C%20%5B-121.27332000000001%2C%2038.740259999999964%5D%2C%20%5B-121.27294%2C%2038.74068999999999%5D%2C%20%5B-121.27225999999999%2C%2038.741569999999996%5D%2C%20%5B-121.27164%2C%2038.74250000000003%5D%2C%20%5B-121.26983%2C%2038.74478000000004%5D%2C%20%5B-121.2697%2C%2038.74491999999997%5D%2C%20%5B-121.26949%2C%2038.745040000000024%5D%2C%20%5B-121.26938%2C%2038.74506999999999%5D%2C%20%5B-121.26918%2C%2038.74507999999997%5D%2C%20%5B-121.26905999999998%2C%2038.74504999999999%5D%2C%20%5B-121.26894%2C%2038.74500999999999%5D%2C%20%5B-121.26878999999998%2C%2038.74488000000002%5D%2C%20%5B-121.26872000000002%2C%2038.744719999999965%5D%2C%20%5B-121.26873%2C%2038.744370000000046%5D%2C%20%5B-121.26878999999998%2C%2038.74418999999998%5D%2C%20%5B-121.27198999999999%2C%2038.74411%5D%2C%20%5B-121.27319999999999%2C%2038.74409%5D%2C%20%5B-121.27364999999999%2C%2038.74409999999999%5D%2C%20%5B-121.27666%2C%2038.744060000000026%5D%2C%20%5B-121.27670000000002%2C%2038.74659000000002%5D%2C%20%5B-121.27672%2C%2038.74714000000004%5D%2C%20%5B-121.27674%2C%2038.74722000000003%5D%2C%20%5B-121.27683%2C%2038.74736000000001%5D%2C%20%5B-121.27884%2C%2038.74903999999999%5D%2C%20%5B-121.27945%2C%2038.74858999999996%5D%2C%20%5B-121.27957000000002%2C%2038.748539999999956%5D%2C%20%5B-121.27973000000001%2C%2038.74853000000003%5D%2C%20%5B-121.28096%2C%2038.74850999999998%5D%2C%20%5B-121.28108%2C%2038.74853000000003%5D%2C%20%5B-121.28117%2C%2038.748549999999966%5D%2C%20%5B-121.28196999999999%2C%2038.74920000000003%5D%2C%20%5B-121.28254000000001%2C%2038.74876%5D%2C%20%5B-121.28276000000001%2C%2038.74854999999997%5D%2C%20%5B-121.28277%2C%2038.74847999999997%5D%2C%20%5B-121.28284%2C%2038.748410000000014%5D%2C%20%5B-121.2829%2C%2038.74837%5D%2C%20%5B-121.28301%2C%2038.748340000000006%5D%2C%20%5B-121.28306%2C%2038.748339999999956%5D%2C%20%5B-121.28337%2C%2038.74845999999998%5D%2C%20%5B-121.28355%2C%2038.748569999999994%5D%2C%20%5B-121.28456%2C%2038.74936%5D%2C%20%5B-121.28556000000002%2C%2038.75018000000003%5D%2C%20%5B-121.28716999999999%2C%2038.75174000000001%5D%2C%20%5B-121.28738000000001%2C%2038.751769999999986%5D%2C%20%5B-121.28744000000002%2C%2038.75174000000001%5D%2C%20%5B-121.28647%2C%2038.75086999999998%5D%2C%20%5B-121.28759%2C%2038.74996000000001%5D%2C%20%5B-121.28713000000002%2C%2038.74960999999993%5D%2C%20%5B-121.28704000000002%2C%2038.74958%5D%2C%20%5B-121.28694%2C%2038.749590000000005%5D%2C%20%5B-121.28677000000002%2C%2038.74964000000001%5D%2C%20%5B-121.28654%2C%2038.74974000000002%5D%2C%20%5B-121.28647999999998%2C%2038.74982000000002%5D%2C%20%5B-121.28647%2C%2038.749969999999976%5D%2C%20%5B-121.28643%2C%2038.750059999999955%5D%2C%20%5B-121.28625%2C%2038.75023000000004%5D%2C%20%5B-121.28674%2C%2038.750639999999954%5D%2C%20%5B-121.28658%2C%2038.75069000000001%5D%2C%20%5B-121.28641000000002%2C%2038.75073000000003%5D%2C%20%5B-121.28626000000001%2C%2038.75068000000002%5D%2C%20%5B-121.28563000000001%2C%2038.750130000000006%5D%2C%20%5B-121.28422%2C%2038.74898000000005%5D%2C%20%5B-121.28355%2C%2038.748450000000034%5D%2C%20%5B-121.28346%2C%2038.74843000000001%5D%2C%20%5B-121.28333%2C%2038.748349999999995%5D%2C%20%5B-121.28326999999999%2C%2038.74827999999999%5D%2C%20%5B-121.28325%2C%2038.748229999999964%5D%2C%20%5B-121.28323000000002%2C%2038.74812%5D%2C%20%5B-121.28313%2C%2038.74805%5D%2C%20%5B-121.28306%2C%2038.74803999999999%5D%2C%20%5B-121.28297%2C%2038.748059999999974%5D%2C%20%5B-121.2829%2C%2038.74812%5D%2C%20%5B-121.28287000000002%2C%2038.74818999999998%5D%2C%20%5B-121.28281999999999%2C%2038.748239999999996%5D%2C%20%5B-121.28262%2C%2038.748539999999956%5D%2C%20%5B-121.28187%2C%2038.749120000000005%5D%2C%20%5B-121.28284%2C%2038.74989000000004%5D%2C%20%5B-121.28169999999999%2C%2038.75074999999999%5D%2C%20%5B-121.28151999999999%2C%2038.75097000000001%5D%2C%20%5B-121.28142000000001%2C%2038.75113999999997%5D%2C%20%5B-121.28136999999998%2C%2038.75133000000003%5D%2C%20%5B-121.28138%2C%2038.75152999999996%5D%2C%20%5B-121.28142000000001%2C%2038.75182%5D%2C%20%5B-121.28142000000001%2C%2038.75194%5D%2C%20%5B-121.28138%2C%2038.75207%5D%2C%20%5B-121.28131%2C%2038.75218000000002%5D%2C%20%5B-121.28114%2C%2038.75236000000001%5D%2C%20%5B-121.28095%2C%2038.75249000000004%5D%2C%20%5B-121.28000000000002%2C%2038.75304999999999%5D%2C%20%5B-121.27903000000002%2C%2038.75356000000003%5D%2C%20%5B-121.27406%2C%2038.75647999999999%5D%2C%20%5B-121.27359000000001%2C%2038.75670000000002%5D%2C%20%5B-121.27267%2C%2038.757079999999966%5D%2C%20%5B-121.27156%2C%2038.75745000000004%5D%2C%20%5B-121.27145%2C%2038.75743999999996%5D%2C%20%5B-121.27068%2C%2038.757639999999995%5D%2C%20%5B-121.26956999999999%2C%2038.75785999999996%5D%2C%20%5B-121.26895%2C%2038.75793999999999%5D%2C%20%5B-121.26816%2C%2038.75801000000004%5D%2C%20%5B-121.26790000000001%2C%2038.758090000000024%5D%2C%20%5B-121.26763000000001%2C%2038.758109999999995%5D%2C%20%5B-121.26504%2C%2038.75812999999999%5D%2C%20%5B-121.26478000000002%2C%2038.75802000000003%5D%2C%20%5B-121.26314%2C%2038.75805000000005%5D%2C%20%5B-121.26234000000001%2C%2038.75802999999998%5D%2C%20%5B-121.26169%2C%2038.75796999999999%5D%2C%20%5B-121.26130000000002%2C%2038.75791000000001%5D%2C%20%5B-121.26093%2C%2038.75783000000003%5D%2C%20%5B-121.26029%2C%2038.75766%5D%2C%20%5B-121.25969%2C%2038.75743000000002%5D%2C%20%5B-121.2595%2C%2038.75758000000004%5D%2C%20%5B-121.25869%2C%2038.75835000000002%5D%2C%20%5B-121.25835000000001%2C%2038.75870999999997%5D%2C%20%5B-121.25831999999998%2C%2038.75880999999998%5D%2C%20%5B-121.25678%2C%2038.760409999999965%5D%2C%20%5B-121.25655%2C%2038.76077%5D%2C%20%5B-121.25643%2C%2038.76082000000001%5D%2C%20%5B-121.25629%2C%2038.76100999999996%5D%2C%20%5B-121.25606%2C%2038.76138000000002%5D%2C%20%5B-121.25595999999999%2C%2038.761600000000016%5D%2C%20%5B-121.25581000000001%2C%2038.76196999999998%5D%2C%20%5B-121.25575%2C%2038.76220999999998%5D%2C%20%5B-121.25568000000001%2C%2038.76287999999995%5D%2C%20%5B-121.25592000000002%2C%2038.764280000000035%5D%2C%20%5B-121.25597%2C%2038.76433%5D%2C%20%5B-121.25593%2C%2038.76539%5D%2C%20%5B-121.25584%2C%2038.76600999999996%5D%2C%20%5B-121.25567%2C%2038.76671%5D%2C%20%5B-121.25547000000002%2C%2038.767250000000026%5D%2C%20%5B-121.25509%2C%2038.76802999999994%5D%2C%20%5B-121.25454%2C%2038.768860000000025%5D%2C%20%5B-121.25423999999998%2C%2038.76926999999996%5D%2C%20%5B-121.25222%2C%2038.77159%5D%2C%20%5B-121.25106000000001%2C%2038.77285999999994%5D%2C%20%5B-121.25019%2C%2038.77379000000001%5D%2C%20%5B-121.24959%2C%2038.77448000000002%5D%2C%20%5B-121.24943%2C%2038.77457%5D%2C%20%5B-121.24789%2C%2038.77632000000005%5D%2C%20%5B-121.24669999999999%2C%2038.77761999999999%5D%2C%20%5B-121.24521999999999%2C%2038.77936000000001%5D%2C%20%5B-121.24486%2C%2038.77974999999999%5D%2C%20%5B-121.24465000000001%2C%2038.779939999999996%5D%2C%20%5B-121.24446000000002%2C%2038.78007999999997%5D%2C%20%5B-121.24418%2C%2038.78025000000005%5D%2C%20%5B-121.24362%2C%2038.78049999999998%5D%2C%20%5B-121.24310000000001%2C%2038.78067999999997%5D%2C%20%5B-121.24247000000001%2C%2038.781039999999976%5D%2C%20%5B-121.24201999999998%2C%2038.78142999999999%5D%2C%20%5B-121.24185%2C%2038.781650000000006%5D%2C%20%5B-121.24176%2C%2038.781809999999986%5D%2C%20%5B-121.24073%2C%2038.78397999999999%5D%2C%20%5B-121.24010999999999%2C%2038.78523000000004%5D%2C%20%5B-121.23996000000001%2C%2038.78543000000005%5D%2C%20%5B-121.23914%2C%2038.786399999999986%5D%2C%20%5B-121.2391%2C%2038.78656999999999%5D%2C%20%5B-121.23748%2C%2038.78870999999998%5D%2C%20%5B-121.23690999999998%2C%2038.78949000000001%5D%2C%20%5B-121.23685%2C%2038.78957000000002%5D%2C%20%5B-121.23671%2C%2038.78967000000001%5D%2C%20%5B-121.23582%2C%2038.79077999999999%5D%2C%20%5B-121.23656%2C%2038.79107999999999%5D%2C%20%5B-121.23703%2C%2038.791250000000026%5D%2C%20%5B-121.2371%2C%2038.79117999999997%5D%2C%20%5B-121.23723000000001%2C%2038.79097999999998%5D%2C%20%5B-121.2371%2C%2038.79117999999997%5D%2C%20%5B-121.23663999999998%2C%2038.790950000000024%5D%2C%20%5B-121.23457999999998%2C%2038.79003999999999%5D%2C%20%5B-121.23436000000001%2C%2038.790050000000036%5D%2C%20%5B-121.23297000000001%2C%2038.789429999999996%5D%2C%20%5B-121.23290999999999%2C%2038.78929999999997%5D%2C%20%5B-121.23193000000002%2C%2038.78885999999997%5D%2C%20%5B-121.2319%2C%2038.78878000000001%5D%2C%20%5B-121.23183%2C%2038.78871999999999%5D%2C%20%5B-121.23172%2C%2038.78869999999999%5D%2C%20%5B-121.23162%2C%2038.78871999999996%5D%2C%20%5B-121.23126%2C%2038.78857000000001%5D%2C%20%5B-121.23109999999998%2C%2038.78850999999999%5D%2C%20%5B-121.23086%2C%2038.78845999999993%5D%2C%20%5B-121.23065%2C%2038.78845%5D%2C%20%5B-121.22933000000002%2C%2038.78844%5D%2C%20%5B-121.22925000000001%2C%2038.78838%5D%2C%20%5B-121.22915000000002%2C%2038.78835999999998%5D%2C%20%5B-121.22909%2C%2038.78835999999998%5D%2C%20%5B-121.229%2C%2038.78841000000002%5D%2C%20%5B-121.22895000000001%2C%2038.78847999999998%5D%2C%20%5B-121.2286%2C%2038.78854999999999%5D%2C%20%5B-121.22822000000001%2C%2038.78854%5D%2C%20%5B-121.22692%2C%2038.788450000000005%5D%2C%20%5B-121.22680000000001%2C%2038.78838999999999%5D%2C%20%5B-121.22593%2C%2038.78841000000002%5D%2C%20%5B-121.22576%2C%2038.78847000000003%5D%2C%20%5B-121.22561000000002%2C%2038.78847999999998%5D%2C%20%5B-121.22454%2C%2038.788500000000006%5D%2C%20%5B-121.22427%2C%2038.78845999999993%5D%2C%20%5B-121.22147%2C%2038.78841999999998%5D%2C%20%5B-121.22119000000002%2C%2038.78885999999997%5D%2C%20%5B-121.21986%2C%2038.7906%5D%2C%20%5B-121.21918000000001%2C%2038.79127999999999%5D%2C%20%5B-121.17822000000001%2C%2038.825709999999965%5D%2C%20%5B-121.17516000000002%2C%2038.828249999999954%5D%2C%20%5B-121.17189000000002%2C%2038.83101000000001%5D%2C%20%5B-121.17153000000002%2C%2038.83129000000002%5D%2C%20%5B-121.16874%2C%2038.833660000000016%5D%2C%20%5B-121.16134%2C%2038.83982999999996%5D%2C%20%5B-121.15539000000001%2C%2038.84474999999998%5D%2C%20%5B-121.15473%2C%2038.84527000000003%5D%2C%20%5B-121.15031%2C%2038.84892000000003%5D%2C%20%5B-121.14522999999998%2C%2038.853110000000044%5D%2C%20%5B-121.14055%2C%2038.85695000000003%5D%2C%20%5B-121.13713%2C%2038.859799999999986%5D%2C%20%5B-121.13508%2C%2038.861510000000045%5D%2C%20%5B-121.13459%2C%2038.86200000000001%5D%2C%20%5B-121.13417%2C%2038.86249%5D%2C%20%5B-121.13381%2C%2038.862969999999954%5D%2C%20%5B-121.13351000000002%2C%2038.86341999999998%5D%2C%20%5B-121.13313000000001%2C%2038.86418%5D%2C%20%5B-121.13282000000001%2C%2038.86501%5D%2C%20%5B-121.13266%2C%2038.86564000000002%5D%2C%20%5B-121.13248999999999%2C%2038.866669999999964%5D%2C%20%5B-121.13196%2C%2038.86993%5D%2C%20%5B-121.13135%2C%2038.873670000000004%5D%2C%20%5B-121.13123%2C%2038.87425000000001%5D%2C%20%5B-121.13109%2C%2038.87470999999998%5D%2C%20%5B-121.1309%2C%2038.87512000000001%5D%2C%20%5B-121.13067%2C%2038.875540000000015%5D%2C%20%5B-121.1302%2C%2038.87610999999996%5D%2C%20%5B-121.12996%2C%2038.87634999999999%5D%2C%20%5B-121.12970999999999%2C%2038.876580000000004%5D%2C%20%5B-121.1293%2C%2038.87689000000001%5D%2C%20%5B-121.12899%2C%2038.87710000000006%5D%2C%20%5B-121.12866%2C%2038.87728999999996%5D%2C%20%5B-121.12794%2C%2038.87762000000004%5D%2C%20%5B-121.12717%2C%2038.87788000000003%5D%2C%20%5B-121.12673%2C%2038.87799000000001%5D%2C%20%5B-121.12604000000002%2C%2038.87810000000001%5D%2C%20%5B-121.12565%2C%2038.87813999999999%5D%2C%20%5B-121.12413%2C%2038.87820999999997%5D%2C%20%5B-121.11867000000001%2C%2038.87851000000002%5D%2C%20%5B-121.11813000000001%2C%2038.87857999999995%5D%2C%20%5B-121.11756%2C%2038.878669999999985%5D%2C%20%5B-121.11662%2C%2038.878840000000025%5D%2C%20%5B-121.11547%2C%2038.87912000000001%5D%2C%20%5B-121.11186%2C%2038.88019999999998%5D%2C%20%5B-121.10988%2C%2038.880790000000005%5D%2C%20%5B-121.10782%2C%2038.88140999999996%5D%2C%20%5B-121.10656000000002%2C%2038.88179000000001%5D%2C%20%5B-121.10567%2C%2038.88212000000002%5D%2C%20%5B-121.10457000000001%2C%2038.88257999999998%5D%2C%20%5B-121.10349000000001%2C%2038.88311000000001%5D%2C%20%5B-121.10266000000001%2C%2038.883590000000034%5D%2C%20%5B-121.09929%2C%2038.885610000000014%5D%2C%20%5B-121.09768000000001%2C%2038.88655%5D%2C%20%5B-121.09699%2C%2038.88693000000001%5D%2C%20%5B-121.09643%2C%2038.887189999999975%5D%2C%20%5B-121.09592999999998%2C%2038.88741%5D%2C%20%5B-121.09548%2C%2038.88758000000001%5D%2C%20%5B-121.09465000000002%2C%2038.88788000000003%5D%2C%20%5B-121.09365000000001%2C%2038.88813999999998%5D%2C%20%5B-121.09285%2C%2038.88833%5D%2C%20%5B-121.09134%2C%2038.888699999999986%5D%2C%20%5B-121.09062999999999%2C%2038.888929999999995%5D%2C%20%5B-121.09001%2C%2038.88916999999998%5D%2C%20%5B-121.08932999999999%2C%2038.88950000000002%5D%2C%20%5B-121.08853000000002%2C%2038.88996999999999%5D%2C%20%5B-121.08798%2C%2038.89038999999999%5D%2C%20%5B-121.08730000000001%2C%2038.89097999999999%5D%2C%20%5B-121.08653%2C%2038.89161000000002%5D%2C%20%5B-121.08594000000001%2C%2038.892040000000016%5D%2C%20%5B-121.08542000000001%2C%2038.892350000000015%5D%2C%20%5B-121.08414%2C%2038.89302999999999%5D%2C%20%5B-121.08303%2C%2038.8936%5D%2C%20%5B-121.08255000000001%2C%2038.89394999999997%5D%2C%20%5B-121.08226%2C%2038.894200000000026%5D%2C%20%5B-121.08195%2C%2038.89452000000004%5D%2C%20%5B-121.08166%2C%2038.89484999999999%5D%2C%20%5B-121.08087%2C%2038.89562999999998%5D%2C%20%5B-121.08048%2C%2038.895920000000004%5D%2C%20%5B-121.07964%2C%2038.89630000000001%5D%2C%20%5B-121.07910999999999%2C%2038.89640999999999%5D%2C%20%5B-121.07775000000001%2C%2038.89692999999999%5D%2C%20%5B-121.07861%2C%2038.89782000000004%5D%2C%20%5B-121.07985%2C%2038.89718000000003%5D%2C%20%5B-121.08%2C%2038.89745000000001%5D%2C%20%5B-121.08013000000001%2C%2038.89779000000002%5D%2C%20%5B-121.08045%2C%2038.899050000000024%5D%2C%20%5B-121.08055000000002%2C%2038.89931000000001%5D%2C%20%5B-121.0807%2C%2038.89955000000001%5D%2C%20%5B-121.08185000000002%2C%2038.90104999999999%5D%2C%20%5B-121.08199%2C%2038.901270000000004%5D%2C%20%5B-121.08245%2C%2038.902340000000024%5D%2C%20%5B-121.08252000000002%2C%2038.90256000000004%5D%2C%20%5B-121.08257%2C%2038.902789999999975%5D%2C%20%5B-121.08258999999998%2C%2038.90308999999995%5D%2C%20%5B-121.08257%2C%2038.90373000000002%5D%2C%20%5B-121.08269%2C%2038.90370999999996%5D%2C%20%5B-121.08281%2C%2038.90364000000001%5D%2C%20%5B-121.08285%2C%2038.90357000000001%5D%2C%20%5B-121.08284%2C%2038.903360000000035%5D%2C%20%5B-121.08294%2C%2038.90336000000005%5D%2C%20%5B-121.08300999999999%2C%2038.90340000000003%5D%2C%20%5B-121.08317%2C%2038.90376000000001%5D%5D%2C%20%22type%22%3A%20%22LineString%22%7D%2C%20%22id%22%3A%20%22757%22%2C%20%22properties%22%3A%20%7B%22__folium_color%22%3A%20%22%239edae5%22%2C%20%22common_shape_id%22%3A%20%22e70e22aa-8bb7-44eb-b12c-f98aeb8f61b7%22%2C%20%22direction_id%22%3A%200.0%2C%20%22route_id%22%3A%20%22Shuttle%22%2C%20%22route_name%22%3A%20%22Shuttle%20to%20Auburn%22%2C%20%22schedule_gtfs_dataset_key%22%3A%20%22f5a749dd65924e025b1293c58f95f8d6%22%7D%2C%20%22type%22%3A%20%22Feature%22%7D%2C%20%7B%22bbox%22%3A%20%5B-122.39648%2C%2037.785079999999965%2C%20-122.28999000000002%2C%2037.84110999999999%5D%2C%20%22geometry%22%3A%20%7B%22coordinates%22%3A%20%5B%5B-122.29160000000002%2C%2037.84046000000005%5D%2C%20%5B-122.2915%2C%2037.840190000000035%5D%2C%20%5B-122.29144%2C%2037.84018000000003%5D%2C%20%5B-122.29123999999999%2C%2037.84023000000002%5D%2C%20%5B-122.29139%2C%2037.84070000000002%5D%2C%20%5B-122.29145000000001%2C%2037.840939999999954%5D%2C%20%5B-122.29062%2C%2037.84110999999999%5D%2C%20%5B-122.29029%2C%2037.84002000000002%5D%2C%20%5B-122.28999000000002%2C%2037.83938999999997%5D%2C%20%5B-122.29019%2C%2037.83935000000001%5D%2C%20%5B-122.29029999999999%2C%2037.83929000000002%5D%2C%20%5B-122.29248000000001%2C%2037.83885999999999%5D%2C%20%5B-122.29339%2C%2037.83872999999994%5D%2C%20%5B-122.29386%2C%2037.83871000000001%5D%2C%20%5B-122.2944%2C%2037.838609999999946%5D%2C%20%5B-122.29504%2C%2037.83845999999997%5D%2C%20%5B-122.29556999999998%2C%2037.83835000000004%5D%2C%20%5B-122.29677999999998%2C%2037.83816000000003%5D%2C%20%5B-122.29699000000001%2C%2037.838150000000034%5D%2C%20%5B-122.29712%2C%2037.83818999999994%5D%2C%20%5B-122.29717000000001%2C%2037.83824999999996%5D%2C%20%5B-122.29731%2C%2037.83854000000002%5D%2C%20%5B-122.29746%2C%2037.83895000000001%5D%2C%20%5B-122.29772%2C%2037.839370000000024%5D%2C%20%5B-122.29776%2C%2037.83967999999999%5D%2C%20%5B-122.29773999999999%2C%2037.83973999999994%5D%2C%20%5B-122.29770000000002%2C%2037.839789999999994%5D%2C%20%5B-122.2976%2C%2037.83982000000002%5D%2C%20%5B-122.29752000000002%2C%2037.83982000000002%5D%2C%20%5B-122.29742%2C%2037.83976999999996%5D%2C%20%5B-122.29731%2C%2037.839699999999986%5D%2C%20%5B-122.29685%2C%2037.83811000000002%5D%2C%20%5B-122.29664%2C%2037.83766000000002%5D%2C%20%5B-122.29637%2C%2037.836900000000014%5D%2C%20%5B-122.29492000000002%2C%2037.83377000000003%5D%2C%20%5B-122.29449%2C%2037.83269000000004%5D%2C%20%5B-122.29433%2C%2037.83218000000001%5D%2C%20%5B-122.29423000000001%2C%2037.83178999999997%5D%2C%20%5B-122.29412%2C%2037.83113999999998%5D%2C%20%5B-122.29408000000001%2C%2037.83074000000004%5D%2C%20%5B-122.29406%2C%2037.83021000000002%5D%2C%20%5B-122.29408000000001%2C%2037.829809999999995%5D%2C%20%5B-122.29414000000001%2C%2037.82955000000001%5D%2C%20%5B-122.29422%2C%2037.82930000000001%5D%2C%20%5B-122.29434%2C%2037.82905000000005%5D%2C%20%5B-122.29457000000001%2C%2037.82869999999999%5D%2C%20%5B-122.29486000000001%2C%2037.82836999999996%5D%2C%20%5B-122.29508000000001%2C%2037.828179999999946%5D%2C%20%5B-122.29533%2C%2037.82799999999997%5D%2C%20%5B-122.29574%2C%2037.82777000000004%5D%2C%20%5B-122.29618%2C%2037.82758%5D%2C%20%5B-122.29683000000001%2C%2037.82736999999999%5D%2C%20%5B-122.29840000000002%2C%2037.82695000000001%5D%2C%20%5B-122.30056%2C%2037.82644999999997%5D%2C%20%5B-122.30082000000002%2C%2037.82633000000003%5D%2C%20%5B-122.30305%2C%2037.825840000000014%5D%2C%20%5B-122.30455%2C%2037.82554999999998%5D%2C%20%5B-122.30516%2C%2037.82536999999999%5D%2C%20%5B-122.30612%2C%2037.825230000000005%5D%2C%20%5B-122.3071%2C%2037.82511000000003%5D%2C%20%5B-122.30905000000001%2C%2037.82492999999999%5D%2C%20%5B-122.31003%2C%2037.824870000000004%5D%2C%20%5B-122.31092%2C%2037.824829999999984%5D%2C%20%5B-122.31186999999998%2C%2037.82471%5D%2C%20%5B-122.31254%2C%2037.824659999999994%5D%2C%20%5B-122.31288%2C%2037.82462000000003%5D%2C%20%5B-122.31591000000002%2C%2037.82418000000001%5D%2C%20%5B-122.31748%2C%2037.82390999999995%5D%2C%20%5B-122.31791000000001%2C%2037.823829999999994%5D%2C%20%5B-122.31854%2C%2037.82366999999997%5D%2C%20%5B-122.31897%2C%2037.82354000000003%5D%2C%20%5B-122.31986%2C%2037.82321999999996%5D%2C%20%5B-122.32046000000001%2C%2037.82304000000001%5D%2C%20%5B-122.32130999999998%2C%2037.82282999999996%5D%2C%20%5B-122.32247%2C%2037.822600000000044%5D%2C%20%5B-122.32295%2C%2037.82260000000004%5D%2C%20%5B-122.32408999999998%2C%2037.822469999999996%5D%2C%20%5B-122.32697%2C%2037.82224999999995%5D%2C%20%5B-122.32765000000002%2C%2037.82219999999998%5D%2C%20%5B-122.32916000000002%2C%2037.82208000000004%5D%2C%20%5B-122.33047%2C%2037.82195000000004%5D%2C%20%5B-122.33178%2C%2037.82179999999997%5D%2C%20%5B-122.33308%2C%2037.82163%5D%2C%20%5B-122.3498%2C%2037.819190000000006%5D%2C%20%5B-122.3506%2C%2037.819070000000075%5D%2C%20%5B-122.35140000000001%2C%2037.8189%5D%2C%20%5B-122.35218000000002%2C%2037.81869000000003%5D%2C%20%5B-122.35295%2C%2037.818440000000024%5D%2C%20%5B-122.35383%2C%2037.818079999999995%5D%2C%20%5B-122.35454000000001%2C%2037.81775%5D%2C%20%5B-122.35522%2C%2037.817370000000004%5D%2C%20%5B-122.36045%2C%2037.814389999999975%5D%2C%20%5B-122.36085%2C%2037.81414%5D%2C%20%5B-122.36121%2C%2037.81389000000003%5D%2C%20%5B-122.36179%2C%2037.813439999999986%5D%2C%20%5B-122.36222%2C%2037.81305000000002%5D%2C%20%5B-122.36261000000002%2C%2037.81265000000001%5D%2C%20%5B-122.36355000000002%2C%2037.81159%5D%2C%20%5B-122.36439%2C%2037.810790000000004%5D%2C%20%5B-122.36506999999999%2C%2037.81016000000004%5D%2C%20%5B-122.36632%2C%2037.80897999999997%5D%2C%20%5B-122.3904%2C%2037.78649999999999%5D%2C%20%5B-122.39071999999999%2C%2037.786200000000036%5D%2C%20%5B-122.39102000000001%2C%2037.78597000000002%5D%2C%20%5B-122.39187000000001%2C%2037.78550999999998%5D%2C%20%5B-122.3927%2C%2037.78518999999998%5D%2C%20%5B-122.39295999999999%2C%2037.78511999999996%5D%2C%20%5B-122.39309%2C%2037.78510000000001%5D%2C%20%5B-122.39337000000002%2C%2037.785079999999965%5D%2C%20%5B-122.39376%2C%2037.78510000000001%5D%2C%20%5B-122.39401999999998%2C%2037.78514999999996%5D%2C%20%5B-122.39437%2C%2037.78526000000001%5D%2C%20%5B-122.39457%2C%2037.78535999999999%5D%2C%20%5B-122.39477000000001%2C%2037.785479999999964%5D%2C%20%5B-122.39587%2C%2037.786369999999984%5D%2C%20%5B-122.39597000000002%2C%2037.78648000000002%5D%2C%20%5B-122.39605%2C%2037.78668000000001%5D%2C%20%5B-122.39607000000001%2C%2037.786819999999985%5D%2C%20%5B-122.39600999999999%2C%2037.787060000000004%5D%2C%20%5B-122.3959%2C%2037.78720999999996%5D%2C%20%5B-122.39441000000001%2C%2037.788380000000025%5D%2C%20%5B-122.39434999999999%2C%2037.788499999999985%5D%2C%20%5B-122.39437%2C%2037.788629999999955%5D%2C%20%5B-122.39440000000002%2C%2037.78865999999998%5D%2C%20%5B-122.39515%2C%2037.789229999999996%5D%2C%20%5B-122.396249%2C%2037.790105999999994%5D%2C%20%5B-122.39648%2C%2037.79028999999997%5D%5D%2C%20%22type%22%3A%20%22LineString%22%7D%2C%20%22id%22%3A%20%22902%22%2C%20%22properties%22%3A%20%7B%22__folium_color%22%3A%20%22%238c564b%22%2C%20%22common_shape_id%22%3A%20%22ejnn%22%2C%20%22direction_id%22%3A%201.0%2C%20%22route_id%22%3A%20%22SF%22%2C%20%22route_name%22%3A%20%22Shuttle%20to%20San%20Francisco%20Transbay%20Terminal%22%2C%20%22schedule_gtfs_dataset_key%22%3A%20%22f5a749dd65924e025b1293c58f95f8d6%22%7D%2C%20%22type%22%3A%20%22Feature%22%7D%2C%20%7B%22bbox%22%3A%20%5B-122.3967%2C%2037.78538999999996%2C%20-122.28991%2C%2037.84070000000002%5D%2C%20%22geometry%22%3A%20%7B%22coordinates%22%3A%20%5B%5B-122.39648%2C%2037.79028999999997%5D%2C%20%5B-122.3967%2C%2037.790470000000006%5D%2C%20%5B-122.39582999999999%2C%2037.791159999999955%5D%2C%20%5B-122.395444%2C%2037.79085200000003%5D%2C%20%5B-122.39428%2C%2037.78991999999996%5D%2C%20%5B-122.39603%2C%2037.78854%5D%2C%20%5B-122.39392999999998%2C%2037.78687000000003%5D%2C%20%5B-122.39365999999998%2C%2037.78663999999998%5D%2C%20%5B-122.39312%2C%2037.786200000000036%5D%2C%20%5B-122.393%2C%2037.78603999999997%5D%2C%20%5B-122.39279%2C%2037.785679999999985%5D%2C%20%5B-122.39264%2C%2037.78553000000002%5D%2C%20%5B-122.39253%2C%2037.78546000000003%5D%2C%20%5B-122.39239%2C%2037.78539999999995%5D%2C%20%5B-122.39226%2C%2037.78538999999996%5D%2C%20%5B-122.39210999999999%2C%2037.78539999999995%5D%2C%20%5B-122.39194%2C%2037.78543999999996%5D%2C%20%5B-122.39156999999999%2C%2037.78558%5D%2C%20%5B-122.39134%2C%2037.78571000000001%5D%2C%20%5B-122.39098%2C%2037.78594999999998%5D%2C%20%5B-122.39069%2C%2037.78618000000003%5D%2C%20%5B-122.39037%2C%2037.78648000000004%5D%2C%20%5B-122.36719000000001%2C%2037.808120000000066%5D%2C%20%5B-122.36676000000001%2C%2037.80852000000002%5D%2C%20%5B-122.36633000000002%2C%2037.80892999999997%5D%2C%20%5B-122.36504000000001%2C%2037.81014%5D%2C%20%5B-122.36469%2C%2037.81046%5D%2C%20%5B-122.36379%2C%2037.81132000000002%5D%2C%20%5B-122.36298%2C%2037.81207%5D%2C%20%5B-122.36261000000002%2C%2037.81239999999998%5D%2C%20%5B-122.36204%2C%2037.812850000000026%5D%2C%20%5B-122.36156000000001%2C%2037.81319999999999%5D%2C%20%5B-122.36119%2C%2037.81345%5D%2C%20%5B-122.36043%2C%2037.81392999999998%5D%2C%20%5B-122.35453%2C%2037.81729999999998%5D%2C%20%5B-122.35383%2C%2037.81764999999998%5D%2C%20%5B-122.35309000000001%2C%2037.81796000000002%5D%2C%20%5B-122.35219000000001%2C%2037.81827999999998%5D%2C%20%5B-122.35141%2C%2037.81850000000001%5D%2C%20%5B-122.35076999999998%2C%2037.81863999999998%5D%2C%20%5B-122.34999%2C%2037.818779999999975%5D%2C%20%5B-122.33293%2C%2037.82126999999996%5D%2C%20%5B-122.33063%2C%2037.821560000000005%5D%2C%20%5B-122.32901%2C%2037.82172000000003%5D%2C%20%5B-122.32771%2C%2037.821830000000006%5D%2C%20%5B-122.32622000000002%2C%2037.82193999999997%5D%2C%20%5B-122.32557000000001%2C%2037.82198000000002%5D%2C%20%5B-122.32459%2C%2037.82206000000003%5D%2C%20%5B-122.32360000000001%2C%2037.82216000000002%5D%2C%20%5B-122.32264%2C%2037.82229000000004%5D%2C%20%5B-122.32166999999998%2C%2037.822439999999965%5D%2C%20%5B-122.31811%2C%2037.82305999999999%5D%2C%20%5B-122.31515999999999%2C%2037.82359999999996%5D%2C%20%5B-122.31433%2C%2037.823740000000015%5D%2C%20%5B-122.31367%2C%2037.823840000000025%5D%2C%20%5B-122.31104000000002%2C%2037.82429999999999%5D%2C%20%5B-122.31003%2C%2037.824429999999985%5D%2C%20%5B-122.30669000000002%2C%2037.82478999999999%5D%2C%20%5B-122.30603%2C%2037.82489000000001%5D%2C%20%5B-122.30466999999999%2C%2037.825159999999954%5D%2C%20%5B-122.30448000000001%2C%2037.825230000000005%5D%2C%20%5B-122.30009%2C%2037.82619999999997%5D%2C%20%5B-122.29951%2C%2037.82635000000001%5D%2C%20%5B-122.29595000000002%2C%2037.827160000000006%5D%2C%20%5B-122.29564%2C%2037.827259999999995%5D%2C%20%5B-122.29520000000001%2C%2037.82745999999998%5D%2C%20%5B-122.29494%2C%2037.82761%5D%2C%20%5B-122.29469%2C%2037.82779000000002%5D%2C%20%5B-122.29438000000002%2C%2037.828089999999996%5D%2C%20%5B-122.29419%2C%2037.828320000000026%5D%2C%20%5B-122.29396000000001%2C%2037.82867000000002%5D%2C%20%5B-122.29382%2C%2037.82892000000001%5D%2C%20%5B-122.29371000000002%2C%2037.829159999999995%5D%2C%20%5B-122.29364%2C%2037.82941999999996%5D%2C%20%5B-122.29355%2C%2037.82982000000001%5D%2C%20%5B-122.29332999999998%2C%2037.83107999999999%5D%2C%20%5B-122.29332999999998%2C%2037.831340000000026%5D%2C%20%5B-122.29336%2C%2037.83174000000001%5D%2C%20%5B-122.2934%2C%2037.83201000000002%5D%2C%20%5B-122.2935%2C%2037.832400000000035%5D%2C%20%5B-122.29360000000001%2C%2037.83265000000002%5D%2C%20%5B-122.29376%2C%2037.83300999999998%5D%2C%20%5B-122.29423000000001%2C%2037.83388999999994%5D%2C%20%5B-122.29442%2C%2037.83422000000002%5D%2C%20%5B-122.29488%2C%2037.83523999999997%5D%2C%20%5B-122.29525%2C%2037.83601999999998%5D%2C%20%5B-122.29549%2C%2037.83648000000005%5D%2C%20%5B-122.29607000000001%2C%2037.83769999999996%5D%2C%20%5B-122.29612%2C%2037.837879999999984%5D%2C%20%5B-122.29615%2C%2037.83809000000004%5D%2C%20%5B-122.29490000000001%2C%2037.83833999999996%5D%2C%20%5B-122.2947%2C%2037.83839999999997%5D%2C%20%5B-122.29447000000002%2C%2037.83848999999999%5D%2C%20%5B-122.29339%2C%2037.83872999999994%5D%2C%20%5B-122.29248000000001%2C%2037.83885999999999%5D%2C%20%5B-122.29029999999999%2C%2037.83929000000002%5D%2C%20%5B-122.29017000000002%2C%2037.83927999999996%5D%2C%20%5B-122.29%2C%2037.83931%5D%2C%20%5B-122.28995%2C%2037.838979999999985%5D%2C%20%5B-122.28991%2C%2037.83890999999998%5D%2C%20%5B-122.29078000000001%2C%2037.838740000000016%5D%2C%20%5B-122.29139%2C%2037.84070000000002%5D%2C%20%5B-122.29157000000001%2C%2037.84062999999996%5D%2C%20%5B-122.29162%2C%2037.84056999999999%5D%2C%20%5B-122.29160000000002%2C%2037.84046000000005%5D%5D%2C%20%22type%22%3A%20%22LineString%22%7D%2C%20%22id%22%3A%20%22903%22%2C%20%22properties%22%3A%20%7B%22__folium_color%22%3A%20%22%238c564b%22%2C%20%22common_shape_id%22%3A%20%22cpz2%22%2C%20%22direction_id%22%3A%200.0%2C%20%22route_id%22%3A%20%22SF%22%2C%20%22route_name%22%3A%20%22Shuttle%20to%20San%20Francisco%20Transbay%20Terminal%22%2C%20%22schedule_gtfs_dataset_key%22%3A%20%22f5a749dd65924e025b1293c58f95f8d6%22%7D%2C%20%22type%22%3A%20%22Feature%22%7D%5D%2C%20%22type%22%3A%20%22FeatureCollection%22%7D%29%3B%0A%0A%20%20%20%20%20%20%20%20%0A%20%20%20%20%0A%20%20%20%20geo_json_ac38075ab2d04de3afe26e2866988c94.bindTooltip%28%0A%20%20%20%20function%28layer%29%7B%0A%20%20%20%20let%20div%20%3D%20L.DomUtil.create%28%27div%27%29%3B%0A%20%20%20%20%0A%20%20%20%20let%20handleObject%20%3D%20feature%3D%3Etypeof%28feature%29%3D%3D%27object%27%20%3F%20JSON.stringify%28feature%29%20%3A%20feature%3B%0A%20%20%20%20let%20fields%20%3D%20%5B%22schedule_gtfs_dataset_key%22%2C%20%22route_id%22%2C%20%22direction_id%22%2C%20%22common_shape_id%22%2C%20%22route_name%22%5D%3B%0A%20%20%20%20let%20aliases%20%3D%20%5B%22schedule_gtfs_dataset_key%22%2C%20%22route_id%22%2C%20%22direction_id%22%2C%20%22common_shape_id%22%2C%20%22route_name%22%5D%3B%0A%20%20%20%20let%20table%20%3D%20%27%3Ctable%3E%27%20%2B%0A%20%20%20%20%20%20%20%20String%28%0A%20%20%20%20%20%20%20%20fields.map%28%0A%20%20%20%20%20%20%20%20%28v%2Ci%29%3D%3E%0A%20%20%20%20%20%20%20%20%60%3Ctr%3E%0A%20%20%20%20%20%20%20%20%20%20%20%20%3Cth%3E%24%7Baliases%5Bi%5D%7D%3C/th%3E%0A%20%20%20%20%20%20%20%20%20%20%20%20%0A%20%20%20%20%20%20%20%20%20%20%20%20%3Ctd%3E%24%7BhandleObject%28layer.feature.properties%5Bv%5D%29%7D%3C/td%3E%0A%20%20%20%20%20%20%20%20%3C/tr%3E%60%29.join%28%27%27%29%29%0A%20%20%20%20%2B%27%3C/table%3E%27%3B%0A%20%20%20%20div.innerHTML%3Dtable%3B%0A%20%20%20%20%0A%20%20%20%20return%20div%0A%20%20%20%20%7D%0A%20%20%20%20%2C%7B%22className%22%3A%20%22foliumtooltip%22%2C%20%22sticky%22%3A%20true%7D%29%3B%0A%20%20%20%20%20%20%20%20%20%20%20%20%20%20%20%20%20%20%20%20%20%0A%3C/script%3E onload=\"this.contentDocument.open();this.contentDocument.write(    decodeURIComponent(this.getAttribute('data-html')));this.contentDocument.close();\" allowfullscreen webkitallowfullscreen mozallowfullscreen></iframe></div></div>"
      ],
      "text/plain": [
       "<folium.folium.Map at 0x7f3d4a6d9cd0>"
      ]
     },
     "execution_count": 55,
     "metadata": {},
     "output_type": "execute_result"
    }
   ],
   "source": [
    "common_shape.explore(\"route_id\")"
   ]
  },
  {
   "cell_type": "code",
   "execution_count": 56,
   "id": "2f8969cf-33f0-48ab-aa32-f765b9ee515e",
   "metadata": {},
   "outputs": [],
   "source": [
    "common_shape_piped = gtfs_schedule_wrangling.most_common_shape_by_route_direction(\n",
    "    analysis_date\n",
    ").pipe(helpers.remove_shapes_outside_ca)"
   ]
  },
  {
   "cell_type": "code",
   "execution_count": 57,
   "id": "9297eb94-dcd9-4699-bb0a-4a5a8ab0e6bd",
   "metadata": {},
   "outputs": [],
   "source": [
    "common_shape_piped = common_shape_piped.loc[\n",
    "    common_shape_piped.schedule_gtfs_dataset_key.isin(schd_keys)\n",
    "]"
   ]
  },
  {
   "cell_type": "code",
   "execution_count": 58,
   "id": "0d19260c-00c3-4015-b5c2-18dbde848938",
   "metadata": {},
   "outputs": [
    {
     "data": {
      "text/html": [
       "<div>\n",
       "<style scoped>\n",
       "    .dataframe tbody tr th:only-of-type {\n",
       "        vertical-align: middle;\n",
       "    }\n",
       "\n",
       "    .dataframe tbody tr th {\n",
       "        vertical-align: top;\n",
       "    }\n",
       "\n",
       "    .dataframe thead th {\n",
       "        text-align: right;\n",
       "    }\n",
       "</style>\n",
       "<table border=\"1\" class=\"dataframe\">\n",
       "  <thead>\n",
       "    <tr style=\"text-align: right;\">\n",
       "      <th></th>\n",
       "      <th>route_id</th>\n",
       "    </tr>\n",
       "  </thead>\n",
       "  <tbody>\n",
       "    <tr>\n",
       "      <th>756</th>\n",
       "      <td>Shuttle</td>\n",
       "    </tr>\n",
       "  </tbody>\n",
       "</table>\n",
       "</div>"
      ],
      "text/plain": [
       "    route_id\n",
       "756  Shuttle"
      ]
     },
     "execution_count": 58,
     "metadata": {},
     "output_type": "execute_result"
    }
   ],
   "source": [
    "common_shape_piped[[\"route_id\"]].drop_duplicates()"
   ]
  },
  {
   "cell_type": "markdown",
   "id": "77a96805-cb9d-43fa-adbe-4ae74f6ab23d",
   "metadata": {},
   "source": [
    "#### Continuing with `gtfs_funnel/route_typologies` the `if==main`"
   ]
  },
  {
   "cell_type": "code",
   "execution_count": 59,
   "id": "0e40fea2-ccc5-4259-afa6-2ad45e8d78c5",
   "metadata": {},
   "outputs": [],
   "source": [
    "ROAD_BUFFER_METERS = 20"
   ]
  },
  {
   "cell_type": "code",
   "execution_count": 62,
   "id": "53457ddc-8fc5-4f3e-9e68-218038d2a5e5",
   "metadata": {},
   "outputs": [],
   "source": [
    "TYPOLOGY_THRESHOLD = 0.10"
   ]
  },
  {
   "cell_type": "code",
   "execution_count": 60,
   "id": "efc8bc4d-2096-4076-bd97-3aabf0b0e0b9",
   "metadata": {},
   "outputs": [],
   "source": [
    "gdf = route_typologies.overlay_shapes_to_roads(roads, analysis_date, ROAD_BUFFER_METERS)"
   ]
  },
  {
   "cell_type": "code",
   "execution_count": 69,
   "id": "6453cd75-1531-4628-bc5e-232e37e0c907",
   "metadata": {},
   "outputs": [
    {
     "data": {
      "text/plain": [
       "Index(['schedule_gtfs_dataset_key', 'route_id', 'direction_id',\n",
       "       'common_shape_id', 'route_name', 'route_meters', 'freq_category',\n",
       "       'typology', 'pct_typology'],\n",
       "      dtype='object')"
      ]
     },
     "execution_count": 69,
     "metadata": {},
     "output_type": "execute_result"
    }
   ],
   "source": [
    "gdf.columns"
   ]
  },
  {
   "cell_type": "code",
   "execution_count": 70,
   "id": "1f02099b-5115-4d41-a6db-eb96da505f57",
   "metadata": {},
   "outputs": [],
   "source": [
    "gdf = gdf.loc[gdf.schedule_gtfs_dataset_key.isin(schd_keys)]"
   ]
  },
  {
   "cell_type": "code",
   "execution_count": 71,
   "id": "5e03b247-050a-425c-b58c-9d67e145fe5d",
   "metadata": {},
   "outputs": [
    {
     "data": {
      "text/plain": [
       "3"
      ]
     },
     "execution_count": 71,
     "metadata": {},
     "output_type": "execute_result"
    }
   ],
   "source": [
    "gdf.route_id.nunique()"
   ]
  },
  {
   "cell_type": "code",
   "execution_count": 94,
   "id": "16a6ac40-7edb-4077-8035-57992fa7d0fc",
   "metadata": {},
   "outputs": [
    {
     "data": {
      "text/html": [
       "<div>\n",
       "<style scoped>\n",
       "    .dataframe tbody tr th:only-of-type {\n",
       "        vertical-align: middle;\n",
       "    }\n",
       "\n",
       "    .dataframe tbody tr th {\n",
       "        vertical-align: top;\n",
       "    }\n",
       "\n",
       "    .dataframe thead th {\n",
       "        text-align: right;\n",
       "    }\n",
       "</style>\n",
       "<table border=\"1\" class=\"dataframe\">\n",
       "  <thead>\n",
       "    <tr style=\"text-align: right;\">\n",
       "      <th></th>\n",
       "      <th>route_id</th>\n",
       "      <th>direction_id</th>\n",
       "      <th>typology</th>\n",
       "      <th>pct_typology</th>\n",
       "    </tr>\n",
       "  </thead>\n",
       "  <tbody>\n",
       "    <tr>\n",
       "      <th>25633</th>\n",
       "      <td>CC</td>\n",
       "      <td>0.00</td>\n",
       "      <td>downtown_local</td>\n",
       "      <td>0.00</td>\n",
       "    </tr>\n",
       "    <tr>\n",
       "      <th>25634</th>\n",
       "      <td>CC</td>\n",
       "      <td>0.00</td>\n",
       "      <td>local</td>\n",
       "      <td>0.00</td>\n",
       "    </tr>\n",
       "    <tr>\n",
       "      <th>25637</th>\n",
       "      <td>CC</td>\n",
       "      <td>0.00</td>\n",
       "      <td>rapid</td>\n",
       "      <td>0.00</td>\n",
       "    </tr>\n",
       "    <tr>\n",
       "      <th>25636</th>\n",
       "      <td>CC</td>\n",
       "      <td>0.00</td>\n",
       "      <td>coverage</td>\n",
       "      <td>0.01</td>\n",
       "    </tr>\n",
       "    <tr>\n",
       "      <th>25635</th>\n",
       "      <td>CC</td>\n",
       "      <td>0.00</td>\n",
       "      <td>rapid</td>\n",
       "      <td>0.02</td>\n",
       "    </tr>\n",
       "    <tr>\n",
       "      <th>25639</th>\n",
       "      <td>CC</td>\n",
       "      <td>1.00</td>\n",
       "      <td>downtown_local</td>\n",
       "      <td>0.00</td>\n",
       "    </tr>\n",
       "    <tr>\n",
       "      <th>25640</th>\n",
       "      <td>CC</td>\n",
       "      <td>1.00</td>\n",
       "      <td>local</td>\n",
       "      <td>0.00</td>\n",
       "    </tr>\n",
       "    <tr>\n",
       "      <th>25641</th>\n",
       "      <td>CC</td>\n",
       "      <td>1.00</td>\n",
       "      <td>rapid</td>\n",
       "      <td>0.00</td>\n",
       "    </tr>\n",
       "    <tr>\n",
       "      <th>25642</th>\n",
       "      <td>CC</td>\n",
       "      <td>1.00</td>\n",
       "      <td>coverage</td>\n",
       "      <td>0.01</td>\n",
       "    </tr>\n",
       "    <tr>\n",
       "      <th>25647</th>\n",
       "      <td>SF</td>\n",
       "      <td>0.00</td>\n",
       "      <td>rapid</td>\n",
       "      <td>0.01</td>\n",
       "    </tr>\n",
       "    <tr>\n",
       "      <th>25645</th>\n",
       "      <td>SF</td>\n",
       "      <td>0.00</td>\n",
       "      <td>local</td>\n",
       "      <td>0.02</td>\n",
       "    </tr>\n",
       "    <tr>\n",
       "      <th>25646</th>\n",
       "      <td>SF</td>\n",
       "      <td>0.00</td>\n",
       "      <td>rapid</td>\n",
       "      <td>0.09</td>\n",
       "    </tr>\n",
       "    <tr>\n",
       "      <th>25648</th>\n",
       "      <td>SF</td>\n",
       "      <td>0.00</td>\n",
       "      <td>downtown_local</td>\n",
       "      <td>0.09</td>\n",
       "    </tr>\n",
       "    <tr>\n",
       "      <th>25649</th>\n",
       "      <td>SF</td>\n",
       "      <td>1.00</td>\n",
       "      <td>local</td>\n",
       "      <td>0.01</td>\n",
       "    </tr>\n",
       "    <tr>\n",
       "      <th>25651</th>\n",
       "      <td>SF</td>\n",
       "      <td>1.00</td>\n",
       "      <td>rapid</td>\n",
       "      <td>0.02</td>\n",
       "    </tr>\n",
       "    <tr>\n",
       "      <th>25650</th>\n",
       "      <td>SF</td>\n",
       "      <td>1.00</td>\n",
       "      <td>rapid</td>\n",
       "      <td>0.03</td>\n",
       "    </tr>\n",
       "    <tr>\n",
       "      <th>25652</th>\n",
       "      <td>SF</td>\n",
       "      <td>1.00</td>\n",
       "      <td>downtown_local</td>\n",
       "      <td>0.06</td>\n",
       "    </tr>\n",
       "    <tr>\n",
       "      <th>25653</th>\n",
       "      <td>Shuttle</td>\n",
       "      <td>0.00</td>\n",
       "      <td>downtown_local</td>\n",
       "      <td>0.00</td>\n",
       "    </tr>\n",
       "    <tr>\n",
       "      <th>25658</th>\n",
       "      <td>Shuttle</td>\n",
       "      <td>0.00</td>\n",
       "      <td>local</td>\n",
       "      <td>0.00</td>\n",
       "    </tr>\n",
       "    <tr>\n",
       "      <th>25656</th>\n",
       "      <td>Shuttle</td>\n",
       "      <td>0.00</td>\n",
       "      <td>downtown_local</td>\n",
       "      <td>0.01</td>\n",
       "    </tr>\n",
       "    <tr>\n",
       "      <th>25659</th>\n",
       "      <td>Shuttle</td>\n",
       "      <td>0.00</td>\n",
       "      <td>rapid</td>\n",
       "      <td>0.06</td>\n",
       "    </tr>\n",
       "    <tr>\n",
       "      <th>25654</th>\n",
       "      <td>Shuttle</td>\n",
       "      <td>0.00</td>\n",
       "      <td>rapid</td>\n",
       "      <td>0.07</td>\n",
       "    </tr>\n",
       "    <tr>\n",
       "      <th>25655</th>\n",
       "      <td>Shuttle</td>\n",
       "      <td>0.00</td>\n",
       "      <td>coverage</td>\n",
       "      <td>0.07</td>\n",
       "    </tr>\n",
       "    <tr>\n",
       "      <th>25662</th>\n",
       "      <td>Shuttle</td>\n",
       "      <td>1.00</td>\n",
       "      <td>local</td>\n",
       "      <td>0.00</td>\n",
       "    </tr>\n",
       "    <tr>\n",
       "      <th>25663</th>\n",
       "      <td>Shuttle</td>\n",
       "      <td>1.00</td>\n",
       "      <td>rapid</td>\n",
       "      <td>0.00</td>\n",
       "    </tr>\n",
       "    <tr>\n",
       "      <th>25666</th>\n",
       "      <td>Shuttle</td>\n",
       "      <td>1.00</td>\n",
       "      <td>downtown_local</td>\n",
       "      <td>0.00</td>\n",
       "    </tr>\n",
       "    <tr>\n",
       "      <th>25661</th>\n",
       "      <td>Shuttle</td>\n",
       "      <td>1.00</td>\n",
       "      <td>downtown_local</td>\n",
       "      <td>0.01</td>\n",
       "    </tr>\n",
       "    <tr>\n",
       "      <th>25668</th>\n",
       "      <td>Shuttle</td>\n",
       "      <td>1.00</td>\n",
       "      <td>rapid</td>\n",
       "      <td>0.06</td>\n",
       "    </tr>\n",
       "    <tr>\n",
       "      <th>25664</th>\n",
       "      <td>Shuttle</td>\n",
       "      <td>1.00</td>\n",
       "      <td>coverage</td>\n",
       "      <td>0.16</td>\n",
       "    </tr>\n",
       "  </tbody>\n",
       "</table>\n",
       "</div>"
      ],
      "text/plain": [
       "      route_id  direction_id        typology  pct_typology\n",
       "25633       CC          0.00  downtown_local          0.00\n",
       "25634       CC          0.00           local          0.00\n",
       "25637       CC          0.00           rapid          0.00\n",
       "25636       CC          0.00        coverage          0.01\n",
       "25635       CC          0.00           rapid          0.02\n",
       "25639       CC          1.00  downtown_local          0.00\n",
       "25640       CC          1.00           local          0.00\n",
       "25641       CC          1.00           rapid          0.00\n",
       "25642       CC          1.00        coverage          0.01\n",
       "25647       SF          0.00           rapid          0.01\n",
       "25645       SF          0.00           local          0.02\n",
       "25646       SF          0.00           rapid          0.09\n",
       "25648       SF          0.00  downtown_local          0.09\n",
       "25649       SF          1.00           local          0.01\n",
       "25651       SF          1.00           rapid          0.02\n",
       "25650       SF          1.00           rapid          0.03\n",
       "25652       SF          1.00  downtown_local          0.06\n",
       "25653  Shuttle          0.00  downtown_local          0.00\n",
       "25658  Shuttle          0.00           local          0.00\n",
       "25656  Shuttle          0.00  downtown_local          0.01\n",
       "25659  Shuttle          0.00           rapid          0.06\n",
       "25654  Shuttle          0.00           rapid          0.07\n",
       "25655  Shuttle          0.00        coverage          0.07\n",
       "25662  Shuttle          1.00           local          0.00\n",
       "25663  Shuttle          1.00           rapid          0.00\n",
       "25666  Shuttle          1.00  downtown_local          0.00\n",
       "25661  Shuttle          1.00  downtown_local          0.01\n",
       "25668  Shuttle          1.00           rapid          0.06\n",
       "25664  Shuttle          1.00        coverage          0.16"
      ]
     },
     "execution_count": 94,
     "metadata": {},
     "output_type": "execute_result"
    }
   ],
   "source": [
    "gdf[[\"route_id\", \"direction_id\", \"typology\", \"pct_typology\"]].drop_duplicates().sort_values(\n",
    "    by=[\"route_id\",\"direction_id\", \"pct_typology\"]\n",
    ")"
   ]
  },
  {
   "cell_type": "markdown",
   "id": "3956df86-87fa-454f-8072-d50b7f18ad90",
   "metadata": {},
   "source": [
    "#### Filtering out for typology_threshold throws away the other routes."
   ]
  },
  {
   "cell_type": "code",
   "execution_count": 80,
   "id": "06362e9f-6668-4ecc-a939-c86b69e5b7b8",
   "metadata": {},
   "outputs": [],
   "source": [
    "route_typology_df = gdf.loc[gdf.pct_typology >= TYPOLOGY_THRESHOLD]"
   ]
  },
  {
   "cell_type": "code",
   "execution_count": 85,
   "id": "e800237f-8473-481f-89c1-19b8db81122a",
   "metadata": {},
   "outputs": [
    {
     "data": {
      "text/html": [
       "<div>\n",
       "<style scoped>\n",
       "    .dataframe tbody tr th:only-of-type {\n",
       "        vertical-align: middle;\n",
       "    }\n",
       "\n",
       "    .dataframe tbody tr th {\n",
       "        vertical-align: top;\n",
       "    }\n",
       "\n",
       "    .dataframe thead th {\n",
       "        text-align: right;\n",
       "    }\n",
       "</style>\n",
       "<table border=\"1\" class=\"dataframe\">\n",
       "  <thead>\n",
       "    <tr style=\"text-align: right;\">\n",
       "      <th></th>\n",
       "      <th>schedule_gtfs_dataset_key</th>\n",
       "      <th>route_id</th>\n",
       "      <th>direction_id</th>\n",
       "      <th>common_shape_id</th>\n",
       "      <th>route_name</th>\n",
       "      <th>route_meters</th>\n",
       "      <th>freq_category</th>\n",
       "      <th>typology</th>\n",
       "      <th>pct_typology</th>\n",
       "    </tr>\n",
       "  </thead>\n",
       "  <tbody>\n",
       "    <tr>\n",
       "      <th>25664</th>\n",
       "      <td>f5a749dd65924e025b1293c58f95f8d6</td>\n",
       "      <td>Shuttle</td>\n",
       "      <td>1.00</td>\n",
       "      <td>104dc91b-4f7b-4f93-bea2-ebfe9adabcf3</td>\n",
       "      <td>Shuttle to Auburn</td>\n",
       "      <td>60220.51</td>\n",
       "      <td>low</td>\n",
       "      <td>coverage</td>\n",
       "      <td>0.16</td>\n",
       "    </tr>\n",
       "  </tbody>\n",
       "</table>\n",
       "</div>"
      ],
      "text/plain": [
       "              schedule_gtfs_dataset_key route_id  direction_id  \\\n",
       "25664  f5a749dd65924e025b1293c58f95f8d6  Shuttle          1.00   \n",
       "\n",
       "                            common_shape_id         route_name  route_meters  \\\n",
       "25664  104dc91b-4f7b-4f93-bea2-ebfe9adabcf3  Shuttle to Auburn      60220.51   \n",
       "\n",
       "      freq_category  typology  pct_typology  \n",
       "25664           low  coverage          0.16  "
      ]
     },
     "execution_count": 85,
     "metadata": {},
     "output_type": "execute_result"
    }
   ],
   "source": [
    "route_typology_df"
   ]
  },
  {
   "cell_type": "code",
   "execution_count": 86,
   "id": "bd39a411-2248-4fee-89d8-2c3ed411fec4",
   "metadata": {},
   "outputs": [],
   "source": [
    "route_typology_df2 = route_typologies.primary_secondary_typology(route_typology_df)"
   ]
  },
  {
   "cell_type": "code",
   "execution_count": 87,
   "id": "dfa8a841-25af-4226-a909-c28e21d1fb57",
   "metadata": {},
   "outputs": [
    {
     "data": {
      "text/plain": [
       "(1, 7)"
      ]
     },
     "execution_count": 87,
     "metadata": {},
     "output_type": "execute_result"
    }
   ],
   "source": [
    "route_typology_df2.shape"
   ]
  },
  {
   "cell_type": "code",
   "execution_count": 88,
   "id": "891def7a-5359-43ac-89c4-1f9e2cb63a46",
   "metadata": {},
   "outputs": [
    {
     "data": {
      "text/html": [
       "<div>\n",
       "<style scoped>\n",
       "    .dataframe tbody tr th:only-of-type {\n",
       "        vertical-align: middle;\n",
       "    }\n",
       "\n",
       "    .dataframe tbody tr th {\n",
       "        vertical-align: top;\n",
       "    }\n",
       "\n",
       "    .dataframe thead th {\n",
       "        text-align: right;\n",
       "    }\n",
       "</style>\n",
       "<table border=\"1\" class=\"dataframe\">\n",
       "  <thead>\n",
       "    <tr style=\"text-align: right;\">\n",
       "      <th></th>\n",
       "      <th>schedule_gtfs_dataset_key</th>\n",
       "      <th>route_id</th>\n",
       "      <th>direction_id</th>\n",
       "      <th>common_shape_id</th>\n",
       "      <th>route_name</th>\n",
       "      <th>route_meters</th>\n",
       "      <th>is_nacto_coverage</th>\n",
       "    </tr>\n",
       "  </thead>\n",
       "  <tbody>\n",
       "    <tr>\n",
       "      <th>0</th>\n",
       "      <td>f5a749dd65924e025b1293c58f95f8d6</td>\n",
       "      <td>Shuttle</td>\n",
       "      <td>1.00</td>\n",
       "      <td>104dc91b-4f7b-4f93-bea2-ebfe9adabcf3</td>\n",
       "      <td>Shuttle to Auburn</td>\n",
       "      <td>60220.51</td>\n",
       "      <td>1</td>\n",
       "    </tr>\n",
       "  </tbody>\n",
       "</table>\n",
       "</div>"
      ],
      "text/plain": [
       "          schedule_gtfs_dataset_key route_id  direction_id  \\\n",
       "0  f5a749dd65924e025b1293c58f95f8d6  Shuttle          1.00   \n",
       "\n",
       "                        common_shape_id         route_name  route_meters  \\\n",
       "0  104dc91b-4f7b-4f93-bea2-ebfe9adabcf3  Shuttle to Auburn      60220.51   \n",
       "\n",
       "   is_nacto_coverage  \n",
       "0                  1  "
      ]
     },
     "execution_count": 88,
     "metadata": {},
     "output_type": "execute_result"
    }
   ],
   "source": [
    "route_typology_df2.head(1)"
   ]
  },
  {
   "cell_type": "code",
   "execution_count": 89,
   "id": "bc6df46c-9756-4389-b556-c83c590256d6",
   "metadata": {},
   "outputs": [
    {
     "data": {
      "text/html": [
       "<div>\n",
       "<style scoped>\n",
       "    .dataframe tbody tr th:only-of-type {\n",
       "        vertical-align: middle;\n",
       "    }\n",
       "\n",
       "    .dataframe tbody tr th {\n",
       "        vertical-align: top;\n",
       "    }\n",
       "\n",
       "    .dataframe thead th {\n",
       "        text-align: right;\n",
       "    }\n",
       "</style>\n",
       "<table border=\"1\" class=\"dataframe\">\n",
       "  <thead>\n",
       "    <tr style=\"text-align: right;\">\n",
       "      <th></th>\n",
       "      <th>schedule_gtfs_dataset_key</th>\n",
       "      <th>route_id</th>\n",
       "      <th>direction_id</th>\n",
       "      <th>common_shape_id</th>\n",
       "      <th>route_name</th>\n",
       "      <th>route_meters</th>\n",
       "      <th>is_nacto_coverage</th>\n",
       "    </tr>\n",
       "  </thead>\n",
       "  <tbody>\n",
       "    <tr>\n",
       "      <th>0</th>\n",
       "      <td>f5a749dd65924e025b1293c58f95f8d6</td>\n",
       "      <td>Shuttle</td>\n",
       "      <td>1.00</td>\n",
       "      <td>104dc91b-4f7b-4f93-bea2-ebfe9adabcf3</td>\n",
       "      <td>Shuttle to Auburn</td>\n",
       "      <td>60220.51</td>\n",
       "      <td>1</td>\n",
       "    </tr>\n",
       "  </tbody>\n",
       "</table>\n",
       "</div>"
      ],
      "text/plain": [
       "          schedule_gtfs_dataset_key route_id  direction_id  \\\n",
       "0  f5a749dd65924e025b1293c58f95f8d6  Shuttle          1.00   \n",
       "\n",
       "                        common_shape_id         route_name  route_meters  \\\n",
       "0  104dc91b-4f7b-4f93-bea2-ebfe9adabcf3  Shuttle to Auburn      60220.51   \n",
       "\n",
       "   is_nacto_coverage  \n",
       "0                  1  "
      ]
     },
     "execution_count": 89,
     "metadata": {},
     "output_type": "execute_result"
    }
   ],
   "source": [
    "route_typology_df2"
   ]
  },
  {
   "cell_type": "code",
   "execution_count": 90,
   "id": "65e37334-a222-4be2-b8d0-442c6a5e836f",
   "metadata": {},
   "outputs": [],
   "source": [
    "route_tagged = route_typologies.categorize_routes_by_name(analysis_date)"
   ]
  },
  {
   "cell_type": "markdown",
   "id": "3c585a8b-e3f4-46c0-98fa-2dfa99f465b0",
   "metadata": {},
   "source": [
    "#### All the routes pop back here."
   ]
  },
  {
   "cell_type": "code",
   "execution_count": 92,
   "id": "29bf0c3c-9b53-46a5-a0c3-c4129329830a",
   "metadata": {},
   "outputs": [],
   "source": [
    "route_tagged = route_tagged.loc[route_tagged.schedule_gtfs_dataset_key.isin(schd_keys)]"
   ]
  },
  {
   "cell_type": "code",
   "execution_count": 93,
   "id": "8fe153ad-35e6-4658-b031-544ab277e058",
   "metadata": {},
   "outputs": [
    {
     "data": {
      "text/html": [
       "<div>\n",
       "<style scoped>\n",
       "    .dataframe tbody tr th:only-of-type {\n",
       "        vertical-align: middle;\n",
       "    }\n",
       "\n",
       "    .dataframe tbody tr th {\n",
       "        vertical-align: top;\n",
       "    }\n",
       "\n",
       "    .dataframe thead th {\n",
       "        text-align: right;\n",
       "    }\n",
       "</style>\n",
       "<table border=\"1\" class=\"dataframe\">\n",
       "  <thead>\n",
       "    <tr style=\"text-align: right;\">\n",
       "      <th></th>\n",
       "      <th>schedule_gtfs_dataset_key</th>\n",
       "      <th>name</th>\n",
       "      <th>route_type</th>\n",
       "      <th>route_id</th>\n",
       "      <th>route_long_name</th>\n",
       "      <th>route_short_name</th>\n",
       "      <th>combined_name</th>\n",
       "      <th>is_express</th>\n",
       "      <th>is_rapid</th>\n",
       "      <th>is_rail</th>\n",
       "      <th>is_local</th>\n",
       "    </tr>\n",
       "  </thead>\n",
       "  <tbody>\n",
       "    <tr>\n",
       "      <th>1122</th>\n",
       "      <td>f5a749dd65924e025b1293c58f95f8d6</td>\n",
       "      <td>Bay Area 511 Capitol Corridor Schedule</td>\n",
       "      <td>3</td>\n",
       "      <td>Shuttle</td>\n",
       "      <td>Shuttle_Auburn</td>\n",
       "      <td>Shuttle</td>\n",
       "      <td>Shuttle__Shuttle_Auburn</td>\n",
       "      <td>0</td>\n",
       "      <td>0</td>\n",
       "      <td>0</td>\n",
       "      <td>1</td>\n",
       "    </tr>\n",
       "    <tr>\n",
       "      <th>1123</th>\n",
       "      <td>f5a749dd65924e025b1293c58f95f8d6</td>\n",
       "      <td>Bay Area 511 Capitol Corridor Schedule</td>\n",
       "      <td>3</td>\n",
       "      <td>SF</td>\n",
       "      <td>Shuttle_SF</td>\n",
       "      <td>SF</td>\n",
       "      <td>SF__Shuttle_SF</td>\n",
       "      <td>0</td>\n",
       "      <td>0</td>\n",
       "      <td>0</td>\n",
       "      <td>1</td>\n",
       "    </tr>\n",
       "    <tr>\n",
       "      <th>1124</th>\n",
       "      <td>f5a749dd65924e025b1293c58f95f8d6</td>\n",
       "      <td>Bay Area 511 Capitol Corridor Schedule</td>\n",
       "      <td>2</td>\n",
       "      <td>CC</td>\n",
       "      <td>Capitol Corridor</td>\n",
       "      <td>CC</td>\n",
       "      <td>CC__Capitol Corridor</td>\n",
       "      <td>0</td>\n",
       "      <td>0</td>\n",
       "      <td>1</td>\n",
       "      <td>0</td>\n",
       "    </tr>\n",
       "  </tbody>\n",
       "</table>\n",
       "</div>"
      ],
      "text/plain": [
       "             schedule_gtfs_dataset_key  \\\n",
       "1122  f5a749dd65924e025b1293c58f95f8d6   \n",
       "1123  f5a749dd65924e025b1293c58f95f8d6   \n",
       "1124  f5a749dd65924e025b1293c58f95f8d6   \n",
       "\n",
       "                                        name route_type route_id  \\\n",
       "1122  Bay Area 511 Capitol Corridor Schedule          3  Shuttle   \n",
       "1123  Bay Area 511 Capitol Corridor Schedule          3       SF   \n",
       "1124  Bay Area 511 Capitol Corridor Schedule          2       CC   \n",
       "\n",
       "       route_long_name route_short_name            combined_name  is_express  \\\n",
       "1122    Shuttle_Auburn          Shuttle  Shuttle__Shuttle_Auburn           0   \n",
       "1123        Shuttle_SF               SF           SF__Shuttle_SF           0   \n",
       "1124  Capitol Corridor               CC     CC__Capitol Corridor           0   \n",
       "\n",
       "      is_rapid  is_rail  is_local  \n",
       "1122         0        0         1  \n",
       "1123         0        0         1  \n",
       "1124         0        1         0  "
      ]
     },
     "execution_count": 93,
     "metadata": {},
     "output_type": "execute_result"
    }
   ],
   "source": [
    "route_tagged"
   ]
  },
  {
   "cell_type": "code",
   "execution_count": 97,
   "id": "179ab712-2688-461e-aed2-f575f3ab4a64",
   "metadata": {},
   "outputs": [],
   "source": [
    "df3 = pd.merge(\n",
    "            route_tagged,\n",
    "            route_typology_df2,\n",
    "            on = [\"schedule_gtfs_dataset_key\", \"route_id\"],\n",
    "            how = \"left\"\n",
    "        )"
   ]
  },
  {
   "cell_type": "code",
   "execution_count": 101,
   "id": "828a74f3-549c-4f64-931e-564a7757bf36",
   "metadata": {},
   "outputs": [
    {
     "data": {
      "text/html": [
       "<div>\n",
       "<style scoped>\n",
       "    .dataframe tbody tr th:only-of-type {\n",
       "        vertical-align: middle;\n",
       "    }\n",
       "\n",
       "    .dataframe tbody tr th {\n",
       "        vertical-align: top;\n",
       "    }\n",
       "\n",
       "    .dataframe thead th {\n",
       "        text-align: right;\n",
       "    }\n",
       "</style>\n",
       "<table border=\"1\" class=\"dataframe\">\n",
       "  <thead>\n",
       "    <tr style=\"text-align: right;\">\n",
       "      <th></th>\n",
       "      <th>schedule_gtfs_dataset_key</th>\n",
       "      <th>name</th>\n",
       "      <th>route_type</th>\n",
       "      <th>route_id</th>\n",
       "      <th>route_long_name</th>\n",
       "      <th>route_short_name</th>\n",
       "      <th>combined_name</th>\n",
       "      <th>is_express</th>\n",
       "      <th>is_rapid</th>\n",
       "      <th>is_rail</th>\n",
       "      <th>is_local</th>\n",
       "      <th>direction_id</th>\n",
       "      <th>common_shape_id</th>\n",
       "      <th>route_name</th>\n",
       "      <th>route_meters</th>\n",
       "      <th>is_nacto_coverage</th>\n",
       "    </tr>\n",
       "  </thead>\n",
       "  <tbody>\n",
       "    <tr>\n",
       "      <th>0</th>\n",
       "      <td>f5a749dd65924e025b1293c58f95f8d6</td>\n",
       "      <td>Bay Area 511 Capitol Corridor Schedule</td>\n",
       "      <td>3</td>\n",
       "      <td>Shuttle</td>\n",
       "      <td>Shuttle_Auburn</td>\n",
       "      <td>Shuttle</td>\n",
       "      <td>Shuttle__Shuttle_Auburn</td>\n",
       "      <td>0</td>\n",
       "      <td>0</td>\n",
       "      <td>0</td>\n",
       "      <td>1</td>\n",
       "      <td>1.00</td>\n",
       "      <td>104dc91b-4f7b-4f93-bea2-ebfe9adabcf3</td>\n",
       "      <td>Shuttle to Auburn</td>\n",
       "      <td>60220.51</td>\n",
       "      <td>1.00</td>\n",
       "    </tr>\n",
       "    <tr>\n",
       "      <th>1</th>\n",
       "      <td>f5a749dd65924e025b1293c58f95f8d6</td>\n",
       "      <td>Bay Area 511 Capitol Corridor Schedule</td>\n",
       "      <td>3</td>\n",
       "      <td>SF</td>\n",
       "      <td>Shuttle_SF</td>\n",
       "      <td>SF</td>\n",
       "      <td>SF__Shuttle_SF</td>\n",
       "      <td>0</td>\n",
       "      <td>0</td>\n",
       "      <td>0</td>\n",
       "      <td>1</td>\n",
       "      <td>NaN</td>\n",
       "      <td>NaN</td>\n",
       "      <td>NaN</td>\n",
       "      <td>NaN</td>\n",
       "      <td>NaN</td>\n",
       "    </tr>\n",
       "    <tr>\n",
       "      <th>2</th>\n",
       "      <td>f5a749dd65924e025b1293c58f95f8d6</td>\n",
       "      <td>Bay Area 511 Capitol Corridor Schedule</td>\n",
       "      <td>2</td>\n",
       "      <td>CC</td>\n",
       "      <td>Capitol Corridor</td>\n",
       "      <td>CC</td>\n",
       "      <td>CC__Capitol Corridor</td>\n",
       "      <td>0</td>\n",
       "      <td>0</td>\n",
       "      <td>1</td>\n",
       "      <td>0</td>\n",
       "      <td>NaN</td>\n",
       "      <td>NaN</td>\n",
       "      <td>NaN</td>\n",
       "      <td>NaN</td>\n",
       "      <td>NaN</td>\n",
       "    </tr>\n",
       "  </tbody>\n",
       "</table>\n",
       "</div>"
      ],
      "text/plain": [
       "          schedule_gtfs_dataset_key                                    name  \\\n",
       "0  f5a749dd65924e025b1293c58f95f8d6  Bay Area 511 Capitol Corridor Schedule   \n",
       "1  f5a749dd65924e025b1293c58f95f8d6  Bay Area 511 Capitol Corridor Schedule   \n",
       "2  f5a749dd65924e025b1293c58f95f8d6  Bay Area 511 Capitol Corridor Schedule   \n",
       "\n",
       "  route_type route_id   route_long_name route_short_name  \\\n",
       "0          3  Shuttle    Shuttle_Auburn          Shuttle   \n",
       "1          3       SF        Shuttle_SF               SF   \n",
       "2          2       CC  Capitol Corridor               CC   \n",
       "\n",
       "             combined_name  is_express  is_rapid  is_rail  is_local  \\\n",
       "0  Shuttle__Shuttle_Auburn           0         0        0         1   \n",
       "1           SF__Shuttle_SF           0         0        0         1   \n",
       "2     CC__Capitol Corridor           0         0        1         0   \n",
       "\n",
       "   direction_id                       common_shape_id         route_name  \\\n",
       "0          1.00  104dc91b-4f7b-4f93-bea2-ebfe9adabcf3  Shuttle to Auburn   \n",
       "1           NaN                                   NaN                NaN   \n",
       "2           NaN                                   NaN                NaN   \n",
       "\n",
       "   route_meters  is_nacto_coverage  \n",
       "0      60220.51               1.00  \n",
       "1           NaN                NaN  \n",
       "2           NaN                NaN  "
      ]
     },
     "execution_count": 101,
     "metadata": {},
     "output_type": "execute_result"
    }
   ],
   "source": [
    "df3"
   ]
  },
  {
   "cell_type": "code",
   "execution_count": 100,
   "id": "119ddacb-1d82-4278-b5de-2ed67e1c0c80",
   "metadata": {},
   "outputs": [
    {
     "ename": "KeyError",
     "evalue": "\"['is_nacto_rapid'] not in index\"",
     "output_type": "error",
     "traceback": [
      "\u001b[0;31m---------------------------------------------------------------------------\u001b[0m",
      "\u001b[0;31mKeyError\u001b[0m                                  Traceback (most recent call last)",
      "Cell \u001b[0;32mIn[100], line 1\u001b[0m\n\u001b[0;32m----> 1\u001b[0m \u001b[43mdf3\u001b[49m\u001b[38;5;241;43m.\u001b[39;49m\u001b[43mpipe\u001b[49m\u001b[43m(\u001b[49m\u001b[43mroute_typologies\u001b[49m\u001b[38;5;241;43m.\u001b[39;49m\u001b[43mreconcile_route_and_nacto_typologies\u001b[49m\u001b[43m)\u001b[49m\n",
      "File \u001b[0;32m/opt/conda/lib/python3.9/site-packages/pandas/core/generic.py:5839\u001b[0m, in \u001b[0;36mNDFrame.pipe\u001b[0;34m(self, func, *args, **kwargs)\u001b[0m\n\u001b[1;32m   5781\u001b[0m \u001b[38;5;129m@final\u001b[39m\n\u001b[1;32m   5782\u001b[0m \u001b[38;5;129m@doc\u001b[39m(klass\u001b[38;5;241m=\u001b[39m_shared_doc_kwargs[\u001b[38;5;124m\"\u001b[39m\u001b[38;5;124mklass\u001b[39m\u001b[38;5;124m\"\u001b[39m])\n\u001b[1;32m   5783\u001b[0m \u001b[38;5;28;01mdef\u001b[39;00m \u001b[38;5;21mpipe\u001b[39m(\n\u001b[0;32m   (...)\u001b[0m\n\u001b[1;32m   5787\u001b[0m     \u001b[38;5;241m*\u001b[39m\u001b[38;5;241m*\u001b[39mkwargs,\n\u001b[1;32m   5788\u001b[0m ) \u001b[38;5;241m-\u001b[39m\u001b[38;5;241m>\u001b[39m T:\n\u001b[1;32m   5789\u001b[0m \u001b[38;5;250m    \u001b[39m\u001b[38;5;124mr\u001b[39m\u001b[38;5;124;03m\"\"\"\u001b[39;00m\n\u001b[1;32m   5790\u001b[0m \u001b[38;5;124;03m    Apply chainable functions that expect Series or DataFrames.\u001b[39;00m\n\u001b[1;32m   5791\u001b[0m \n\u001b[0;32m   (...)\u001b[0m\n\u001b[1;32m   5837\u001b[0m \u001b[38;5;124;03m    ...  )  # doctest: +SKIP\u001b[39;00m\n\u001b[1;32m   5838\u001b[0m \u001b[38;5;124;03m    \"\"\"\u001b[39;00m\n\u001b[0;32m-> 5839\u001b[0m     \u001b[38;5;28;01mreturn\u001b[39;00m \u001b[43mcom\u001b[49m\u001b[38;5;241;43m.\u001b[39;49m\u001b[43mpipe\u001b[49m\u001b[43m(\u001b[49m\u001b[38;5;28;43mself\u001b[39;49m\u001b[43m,\u001b[49m\u001b[43m \u001b[49m\u001b[43mfunc\u001b[49m\u001b[43m,\u001b[49m\u001b[43m \u001b[49m\u001b[38;5;241;43m*\u001b[39;49m\u001b[43margs\u001b[49m\u001b[43m,\u001b[49m\u001b[43m \u001b[49m\u001b[38;5;241;43m*\u001b[39;49m\u001b[38;5;241;43m*\u001b[39;49m\u001b[43mkwargs\u001b[49m\u001b[43m)\u001b[49m\n",
      "File \u001b[0;32m/opt/conda/lib/python3.9/site-packages/pandas/core/common.py:513\u001b[0m, in \u001b[0;36mpipe\u001b[0;34m(obj, func, *args, **kwargs)\u001b[0m\n\u001b[1;32m    511\u001b[0m     \u001b[38;5;28;01mreturn\u001b[39;00m func(\u001b[38;5;241m*\u001b[39margs, \u001b[38;5;241m*\u001b[39m\u001b[38;5;241m*\u001b[39mkwargs)\n\u001b[1;32m    512\u001b[0m \u001b[38;5;28;01melse\u001b[39;00m:\n\u001b[0;32m--> 513\u001b[0m     \u001b[38;5;28;01mreturn\u001b[39;00m \u001b[43mfunc\u001b[49m\u001b[43m(\u001b[49m\u001b[43mobj\u001b[49m\u001b[43m,\u001b[49m\u001b[43m \u001b[49m\u001b[38;5;241;43m*\u001b[39;49m\u001b[43margs\u001b[49m\u001b[43m,\u001b[49m\u001b[43m \u001b[49m\u001b[38;5;241;43m*\u001b[39;49m\u001b[38;5;241;43m*\u001b[39;49m\u001b[43mkwargs\u001b[49m\u001b[43m)\u001b[49m\n",
      "File \u001b[0;32m~/data-analyses/gtfs_digest/../gtfs_funnel/route_typologies.py:337\u001b[0m, in \u001b[0;36mreconcile_route_and_nacto_typologies\u001b[0;34m(df)\u001b[0m\n\u001b[1;32m    327\u001b[0m \u001b[38;5;28;01mdef\u001b[39;00m \u001b[38;5;21mreconcile_route_and_nacto_typologies\u001b[39m(\n\u001b[1;32m    328\u001b[0m     df: pd\u001b[38;5;241m.\u001b[39mDataFrame\n\u001b[1;32m    329\u001b[0m ) \u001b[38;5;241m-\u001b[39m\u001b[38;5;241m>\u001b[39m pd\u001b[38;5;241m.\u001b[39mDataFrame:\n\u001b[1;32m    330\u001b[0m \u001b[38;5;250m    \u001b[39m\u001b[38;5;124;03m\"\"\"\u001b[39;00m\n\u001b[1;32m    331\u001b[0m \u001b[38;5;124;03m    Let's see if we can sort out local routes into more\u001b[39;00m\n\u001b[1;32m    332\u001b[0m \u001b[38;5;124;03m    specific NACTO local route types.\u001b[39;00m\n\u001b[1;32m    333\u001b[0m \u001b[38;5;124;03m    If it's ever flagged as downtown_local or coverage,\u001b[39;00m\n\u001b[1;32m    334\u001b[0m \u001b[38;5;124;03m    we'll use that.\u001b[39;00m\n\u001b[1;32m    335\u001b[0m \u001b[38;5;124;03m    \"\"\"\u001b[39;00m\n\u001b[1;32m    336\u001b[0m     df \u001b[38;5;241m=\u001b[39m df\u001b[38;5;241m.\u001b[39massign(\n\u001b[0;32m--> 337\u001b[0m         is_rapid \u001b[38;5;241m=\u001b[39m \u001b[43mdf\u001b[49m\u001b[43m[\u001b[49m\u001b[43m[\u001b[49m\u001b[38;5;124;43m\"\u001b[39;49m\u001b[38;5;124;43mis_rapid\u001b[39;49m\u001b[38;5;124;43m\"\u001b[39;49m\u001b[43m,\u001b[49m\u001b[43m \u001b[49m\u001b[38;5;124;43m\"\u001b[39;49m\u001b[38;5;124;43mis_nacto_rapid\u001b[39;49m\u001b[38;5;124;43m\"\u001b[39;49m\u001b[43m]\u001b[49m\u001b[43m]\u001b[49m\u001b[38;5;241m.\u001b[39mmax(axis\u001b[38;5;241m=\u001b[39m\u001b[38;5;241m1\u001b[39m),                              \n\u001b[1;32m    338\u001b[0m     )\u001b[38;5;241m.\u001b[39mrename(columns \u001b[38;5;241m=\u001b[39m {\n\u001b[1;32m    339\u001b[0m         \u001b[38;5;124m\"\u001b[39m\u001b[38;5;124mis_nacto_downtown_local\u001b[39m\u001b[38;5;124m\"\u001b[39m: \u001b[38;5;124m\"\u001b[39m\u001b[38;5;124mis_downtown_local\u001b[39m\u001b[38;5;124m\"\u001b[39m,\n\u001b[1;32m    340\u001b[0m         \u001b[38;5;124m\"\u001b[39m\u001b[38;5;124mis_nacto_coverage\u001b[39m\u001b[38;5;124m\"\u001b[39m: \u001b[38;5;124m\"\u001b[39m\u001b[38;5;124mis_coverage\u001b[39m\u001b[38;5;124m\"\u001b[39m\n\u001b[1;32m    341\u001b[0m     })\n\u001b[1;32m    343\u001b[0m     \u001b[38;5;66;03m# Retain as local if coverage or downtown_local aren't true\u001b[39;00m\n\u001b[1;32m    344\u001b[0m     df \u001b[38;5;241m=\u001b[39m df\u001b[38;5;241m.\u001b[39massign(\n\u001b[1;32m    345\u001b[0m         is_local \u001b[38;5;241m=\u001b[39m df\u001b[38;5;241m.\u001b[39mapply(\n\u001b[1;32m    346\u001b[0m             \u001b[38;5;28;01mlambda\u001b[39;00m x: \u001b[38;5;241m1\u001b[39m \u001b[38;5;28;01mif\u001b[39;00m ((x\u001b[38;5;241m.\u001b[39mis_coverage\u001b[38;5;241m==\u001b[39m\u001b[38;5;241m0\u001b[39m) \u001b[38;5;129;01mand\u001b[39;00m (x\u001b[38;5;241m.\u001b[39mis_downtown_local \u001b[38;5;241m==\u001b[39m \u001b[38;5;241m0\u001b[39m))\n\u001b[1;32m    347\u001b[0m             \u001b[38;5;129;01mor\u001b[39;00m (x\u001b[38;5;241m.\u001b[39mis_nacto_local\u001b[38;5;241m==\u001b[39m\u001b[38;5;241m1\u001b[39m)\n\u001b[1;32m    348\u001b[0m             \u001b[38;5;28;01melse\u001b[39;00m \u001b[38;5;241m0\u001b[39m, axis\u001b[38;5;241m=\u001b[39m\u001b[38;5;241m1\u001b[39m)\n\u001b[1;32m    349\u001b[0m     )\n",
      "File \u001b[0;32m/opt/conda/lib/python3.9/site-packages/pandas/core/frame.py:3813\u001b[0m, in \u001b[0;36mDataFrame.__getitem__\u001b[0;34m(self, key)\u001b[0m\n\u001b[1;32m   3811\u001b[0m     \u001b[38;5;28;01mif\u001b[39;00m is_iterator(key):\n\u001b[1;32m   3812\u001b[0m         key \u001b[38;5;241m=\u001b[39m \u001b[38;5;28mlist\u001b[39m(key)\n\u001b[0;32m-> 3813\u001b[0m     indexer \u001b[38;5;241m=\u001b[39m \u001b[38;5;28;43mself\u001b[39;49m\u001b[38;5;241;43m.\u001b[39;49m\u001b[43mcolumns\u001b[49m\u001b[38;5;241;43m.\u001b[39;49m\u001b[43m_get_indexer_strict\u001b[49m\u001b[43m(\u001b[49m\u001b[43mkey\u001b[49m\u001b[43m,\u001b[49m\u001b[43m \u001b[49m\u001b[38;5;124;43m\"\u001b[39;49m\u001b[38;5;124;43mcolumns\u001b[39;49m\u001b[38;5;124;43m\"\u001b[39;49m\u001b[43m)\u001b[49m[\u001b[38;5;241m1\u001b[39m]\n\u001b[1;32m   3815\u001b[0m \u001b[38;5;66;03m# take() does not accept boolean indexers\u001b[39;00m\n\u001b[1;32m   3816\u001b[0m \u001b[38;5;28;01mif\u001b[39;00m \u001b[38;5;28mgetattr\u001b[39m(indexer, \u001b[38;5;124m\"\u001b[39m\u001b[38;5;124mdtype\u001b[39m\u001b[38;5;124m\"\u001b[39m, \u001b[38;5;28;01mNone\u001b[39;00m) \u001b[38;5;241m==\u001b[39m \u001b[38;5;28mbool\u001b[39m:\n",
      "File \u001b[0;32m/opt/conda/lib/python3.9/site-packages/pandas/core/indexes/base.py:6070\u001b[0m, in \u001b[0;36mIndex._get_indexer_strict\u001b[0;34m(self, key, axis_name)\u001b[0m\n\u001b[1;32m   6067\u001b[0m \u001b[38;5;28;01melse\u001b[39;00m:\n\u001b[1;32m   6068\u001b[0m     keyarr, indexer, new_indexer \u001b[38;5;241m=\u001b[39m \u001b[38;5;28mself\u001b[39m\u001b[38;5;241m.\u001b[39m_reindex_non_unique(keyarr)\n\u001b[0;32m-> 6070\u001b[0m \u001b[38;5;28;43mself\u001b[39;49m\u001b[38;5;241;43m.\u001b[39;49m\u001b[43m_raise_if_missing\u001b[49m\u001b[43m(\u001b[49m\u001b[43mkeyarr\u001b[49m\u001b[43m,\u001b[49m\u001b[43m \u001b[49m\u001b[43mindexer\u001b[49m\u001b[43m,\u001b[49m\u001b[43m \u001b[49m\u001b[43maxis_name\u001b[49m\u001b[43m)\u001b[49m\n\u001b[1;32m   6072\u001b[0m keyarr \u001b[38;5;241m=\u001b[39m \u001b[38;5;28mself\u001b[39m\u001b[38;5;241m.\u001b[39mtake(indexer)\n\u001b[1;32m   6073\u001b[0m \u001b[38;5;28;01mif\u001b[39;00m \u001b[38;5;28misinstance\u001b[39m(key, Index):\n\u001b[1;32m   6074\u001b[0m     \u001b[38;5;66;03m# GH 42790 - Preserve name from an Index\u001b[39;00m\n",
      "File \u001b[0;32m/opt/conda/lib/python3.9/site-packages/pandas/core/indexes/base.py:6133\u001b[0m, in \u001b[0;36mIndex._raise_if_missing\u001b[0;34m(self, key, indexer, axis_name)\u001b[0m\n\u001b[1;32m   6130\u001b[0m     \u001b[38;5;28;01mraise\u001b[39;00m \u001b[38;5;167;01mKeyError\u001b[39;00m(\u001b[38;5;124mf\u001b[39m\u001b[38;5;124m\"\u001b[39m\u001b[38;5;124mNone of [\u001b[39m\u001b[38;5;132;01m{\u001b[39;00mkey\u001b[38;5;132;01m}\u001b[39;00m\u001b[38;5;124m] are in the [\u001b[39m\u001b[38;5;132;01m{\u001b[39;00maxis_name\u001b[38;5;132;01m}\u001b[39;00m\u001b[38;5;124m]\u001b[39m\u001b[38;5;124m\"\u001b[39m)\n\u001b[1;32m   6132\u001b[0m not_found \u001b[38;5;241m=\u001b[39m \u001b[38;5;28mlist\u001b[39m(ensure_index(key)[missing_mask\u001b[38;5;241m.\u001b[39mnonzero()[\u001b[38;5;241m0\u001b[39m]]\u001b[38;5;241m.\u001b[39munique())\n\u001b[0;32m-> 6133\u001b[0m \u001b[38;5;28;01mraise\u001b[39;00m \u001b[38;5;167;01mKeyError\u001b[39;00m(\u001b[38;5;124mf\u001b[39m\u001b[38;5;124m\"\u001b[39m\u001b[38;5;132;01m{\u001b[39;00mnot_found\u001b[38;5;132;01m}\u001b[39;00m\u001b[38;5;124m not in index\u001b[39m\u001b[38;5;124m\"\u001b[39m)\n",
      "\u001b[0;31mKeyError\u001b[0m: \"['is_nacto_rapid'] not in index\""
     ]
    }
   ],
   "source": [
    "df3.pipe(route_typologies.reconcile_route_and_nacto_typologies)"
   ]
  },
  {
   "cell_type": "code",
   "execution_count": null,
   "id": "e7909638-b2ef-43fe-8ecb-b2cb323d1e00",
   "metadata": {},
   "outputs": [],
   "source": []
  }
 ],
 "metadata": {
  "kernelspec": {
   "display_name": "Python 3 (ipykernel)",
   "language": "python",
   "name": "python3"
  },
  "language_info": {
   "codemirror_mode": {
    "name": "ipython",
    "version": 3
   },
   "file_extension": ".py",
   "mimetype": "text/x-python",
   "name": "python",
   "nbconvert_exporter": "python",
   "pygments_lexer": "ipython3",
   "version": "3.9.13"
  }
 },
 "nbformat": 4,
 "nbformat_minor": 5
}
