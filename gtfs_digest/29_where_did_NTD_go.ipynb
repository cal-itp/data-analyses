{
 "cells": [
  {
   "cell_type": "markdown",
   "id": "361531fa-d195-40af-ab75-9187ad944aa0",
   "metadata": {},
   "source": [
    "## Where did `NTD` stuff go in the `operator_profiles?`\n",
    "* It's only missing for July."
   ]
  },
  {
   "cell_type": "code",
   "execution_count": 1,
   "id": "b59d4eaf-8597-441b-b47f-5214e7c6ef90",
   "metadata": {},
   "outputs": [],
   "source": [
    "import geopandas as gpd\n",
    "import pandas as pd\n",
    "from segment_speed_utils import gtfs_schedule_wrangling, helpers\n",
    "from shared_utils import catalog_utils, rt_dates, rt_utils\n",
    "from update_vars import GTFS_DATA_DICT, RT_SCHED_GCS, SCHED_GCS\n",
    "\n",
    "# https://github.com/cal-itp/data-analyses/blob/main/_shared_utils/shared_utils/gtfs_analytics_data.yml\n",
    "GTFS_DATA_DICT = catalog_utils.get_catalog(\"gtfs_analytics_data\")\n",
    "\n",
    "from segment_speed_utils.project_vars import (\n",
    "    COMPILED_CACHED_VIEWS,\n",
    "    GTFS_DATA_DICT,\n",
    "    PROJECT_CRS,\n",
    "    RT_SCHED_GCS,\n",
    "    SCHED_GCS,\n",
    "    SEGMENT_GCS,\n",
    ")"
   ]
  },
  {
   "cell_type": "code",
   "execution_count": 2,
   "id": "0aa89d40-0296-4a91-b592-2b87a0224bac",
   "metadata": {},
   "outputs": [],
   "source": [
    "pd.options.display.max_columns = 100\n",
    "pd.options.display.float_format = \"{:.2f}\".format\n",
    "pd.set_option(\"display.max_rows\", None)\n",
    "pd.set_option(\"display.max_colwidth\", None)"
   ]
  },
  {
   "cell_type": "code",
   "execution_count": 3,
   "id": "eeb3e630-c4fd-437d-964f-117368ed2bd1",
   "metadata": {},
   "outputs": [],
   "source": [
    "op_profiles_url = f\"{GTFS_DATA_DICT.digest_tables.dir}{GTFS_DATA_DICT.digest_tables.operator_profiles}.parquet\""
   ]
  },
  {
   "cell_type": "code",
   "execution_count": 4,
   "id": "f083221c-631a-4a42-a101-6c1a13a2893b",
   "metadata": {},
   "outputs": [],
   "source": [
    "organization_name = \"Marin County Transit District\""
   ]
  },
  {
   "cell_type": "code",
   "execution_count": 5,
   "id": "633bf0ce-18cb-4fcd-8d35-67c2ae6f3fdb",
   "metadata": {},
   "outputs": [],
   "source": [
    "op_profiles_df = pd.read_parquet(\n",
    "    op_profiles_url)"
   ]
  },
  {
   "cell_type": "code",
   "execution_count": 6,
   "id": "6b58aa65-171e-4977-b417-5c6740655cf7",
   "metadata": {},
   "outputs": [
    {
     "data": {
      "text/plain": [
       "array(['2023-10-11T00:00:00.000000000', '2023-11-15T00:00:00.000000000',\n",
       "       '2023-12-13T00:00:00.000000000', '2024-01-17T00:00:00.000000000',\n",
       "       '2023-04-12T00:00:00.000000000', '2023-05-17T00:00:00.000000000',\n",
       "       '2023-06-14T00:00:00.000000000', '2023-07-12T00:00:00.000000000',\n",
       "       '2023-08-15T00:00:00.000000000', '2023-09-13T00:00:00.000000000',\n",
       "       '2024-02-14T00:00:00.000000000', '2024-03-13T00:00:00.000000000',\n",
       "       '2024-04-17T00:00:00.000000000', '2024-05-22T00:00:00.000000000',\n",
       "       '2024-06-12T00:00:00.000000000', '2024-07-17T00:00:00.000000000',\n",
       "       '2023-03-15T00:00:00.000000000'], dtype='datetime64[ns]')"
      ]
     },
     "execution_count": 6,
     "metadata": {},
     "output_type": "execute_result"
    }
   ],
   "source": [
    "op_profiles_df.service_date.unique()"
   ]
  },
  {
   "cell_type": "markdown",
   "id": "4ddcbf79-ea16-43f6-9bee-5499579b756c",
   "metadata": {},
   "source": [
    "### July is missing but everything else is ok??"
   ]
  },
  {
   "cell_type": "code",
   "execution_count": 7,
   "id": "029a7cf4-d012-4dc8-aafa-7d8901f78fe9",
   "metadata": {
    "scrolled": true,
    "tags": []
   },
   "outputs": [
    {
     "data": {
      "text/html": [
       "<div>\n",
       "<style scoped>\n",
       "    .dataframe tbody tr th:only-of-type {\n",
       "        vertical-align: middle;\n",
       "    }\n",
       "\n",
       "    .dataframe tbody tr th {\n",
       "        vertical-align: top;\n",
       "    }\n",
       "\n",
       "    .dataframe thead th {\n",
       "        text-align: right;\n",
       "    }\n",
       "</style>\n",
       "<table border=\"1\" class=\"dataframe\">\n",
       "  <thead>\n",
       "    <tr style=\"text-align: right;\">\n",
       "      <th></th>\n",
       "      <th>schedule_gtfs_dataset_key</th>\n",
       "      <th>operator_n_routes</th>\n",
       "      <th>operator_n_trips</th>\n",
       "      <th>operator_n_shapes</th>\n",
       "      <th>operator_n_stops</th>\n",
       "      <th>operator_n_arrivals</th>\n",
       "      <th>operator_route_length_miles</th>\n",
       "      <th>operator_arrivals_per_stop</th>\n",
       "      <th>n_downtown_local_routes</th>\n",
       "      <th>n_local_routes</th>\n",
       "      <th>n_coverage_routes</th>\n",
       "      <th>n_rapid_routes</th>\n",
       "      <th>n_express_routes</th>\n",
       "      <th>n_rail_routes</th>\n",
       "      <th>name</th>\n",
       "      <th>organization_source_record_id</th>\n",
       "      <th>organization_name</th>\n",
       "      <th>service_date</th>\n",
       "      <th>counties_served</th>\n",
       "      <th>service_area_sq_miles</th>\n",
       "      <th>hq_city</th>\n",
       "      <th>uza_name</th>\n",
       "      <th>service_area_pop</th>\n",
       "      <th>organization_type</th>\n",
       "      <th>primary_uza</th>\n",
       "      <th>reporter_type</th>\n",
       "    </tr>\n",
       "  </thead>\n",
       "  <tbody>\n",
       "    <tr>\n",
       "      <th>19</th>\n",
       "      <td>015d67d5b75b5cf2b710bbadadfb75f5</td>\n",
       "      <td>15</td>\n",
       "      <td>634</td>\n",
       "      <td>50</td>\n",
       "      <td>531</td>\n",
       "      <td>16151</td>\n",
       "      <td>214.12</td>\n",
       "      <td>30.42</td>\n",
       "      <td>20</td>\n",
       "      <td>2</td>\n",
       "      <td>6</td>\n",
       "      <td>14</td>\n",
       "      <td>0</td>\n",
       "      <td>0</td>\n",
       "      <td>Bay Area 511 Marin Schedule</td>\n",
       "      <td>recNOb7pqBRlQVG5e</td>\n",
       "      <td>Marin County Transit District</td>\n",
       "      <td>2024-07-17</td>\n",
       "      <td>None</td>\n",
       "      <td>NaN</td>\n",
       "      <td>None</td>\n",
       "      <td>None</td>\n",
       "      <td>NaN</td>\n",
       "      <td>None</td>\n",
       "      <td>None</td>\n",
       "      <td>None</td>\n",
       "    </tr>\n",
       "  </tbody>\n",
       "</table>\n",
       "</div>"
      ],
      "text/plain": [
       "           schedule_gtfs_dataset_key  operator_n_routes  operator_n_trips  \\\n",
       "19  015d67d5b75b5cf2b710bbadadfb75f5                 15               634   \n",
       "\n",
       "    operator_n_shapes  operator_n_stops  operator_n_arrivals  \\\n",
       "19                 50               531                16151   \n",
       "\n",
       "    operator_route_length_miles  operator_arrivals_per_stop  \\\n",
       "19                       214.12                       30.42   \n",
       "\n",
       "    n_downtown_local_routes  n_local_routes  n_coverage_routes  \\\n",
       "19                       20               2                  6   \n",
       "\n",
       "    n_rapid_routes  n_express_routes  n_rail_routes  \\\n",
       "19              14                 0              0   \n",
       "\n",
       "                           name organization_source_record_id  \\\n",
       "19  Bay Area 511 Marin Schedule             recNOb7pqBRlQVG5e   \n",
       "\n",
       "                organization_name service_date counties_served  \\\n",
       "19  Marin County Transit District   2024-07-17            None   \n",
       "\n",
       "    service_area_sq_miles hq_city uza_name  service_area_pop  \\\n",
       "19                    NaN    None     None               NaN   \n",
       "\n",
       "   organization_type primary_uza reporter_type  \n",
       "19              None        None          None  "
      ]
     },
     "execution_count": 7,
     "metadata": {},
     "output_type": "execute_result"
    }
   ],
   "source": [
    "op_profiles_df.loc[op_profiles_df.service_date == '2024-07-17T00:00:00.000000000'].head(1)"
   ]
  },
  {
   "cell_type": "markdown",
   "id": "f9ac9af9-7560-46e2-9689-df22bb3d0a8d",
   "metadata": {},
   "source": [
    "### July is here."
   ]
  },
  {
   "cell_type": "code",
   "execution_count": 8,
   "id": "e9b041bf-057a-4f99-899b-0a30e8ca83ba",
   "metadata": {
    "scrolled": true,
    "tags": []
   },
   "outputs": [
    {
     "data": {
      "text/html": [
       "<div>\n",
       "<style scoped>\n",
       "    .dataframe tbody tr th:only-of-type {\n",
       "        vertical-align: middle;\n",
       "    }\n",
       "\n",
       "    .dataframe tbody tr th {\n",
       "        vertical-align: top;\n",
       "    }\n",
       "\n",
       "    .dataframe thead th {\n",
       "        text-align: right;\n",
       "    }\n",
       "</style>\n",
       "<table border=\"1\" class=\"dataframe\">\n",
       "  <thead>\n",
       "    <tr style=\"text-align: right;\">\n",
       "      <th></th>\n",
       "      <th>schedule_gtfs_dataset_key</th>\n",
       "      <th>operator_n_routes</th>\n",
       "      <th>operator_n_trips</th>\n",
       "      <th>operator_n_shapes</th>\n",
       "      <th>operator_n_stops</th>\n",
       "      <th>operator_n_arrivals</th>\n",
       "      <th>operator_route_length_miles</th>\n",
       "      <th>operator_arrivals_per_stop</th>\n",
       "      <th>n_downtown_local_routes</th>\n",
       "      <th>n_local_routes</th>\n",
       "      <th>n_coverage_routes</th>\n",
       "      <th>n_rapid_routes</th>\n",
       "      <th>n_express_routes</th>\n",
       "      <th>n_rail_routes</th>\n",
       "      <th>name</th>\n",
       "      <th>organization_source_record_id</th>\n",
       "      <th>organization_name</th>\n",
       "      <th>service_date</th>\n",
       "      <th>counties_served</th>\n",
       "      <th>service_area_sq_miles</th>\n",
       "      <th>hq_city</th>\n",
       "      <th>uza_name</th>\n",
       "      <th>service_area_pop</th>\n",
       "      <th>organization_type</th>\n",
       "      <th>primary_uza</th>\n",
       "      <th>reporter_type</th>\n",
       "    </tr>\n",
       "  </thead>\n",
       "  <tbody>\n",
       "    <tr>\n",
       "      <th>18</th>\n",
       "      <td>015d67d5b75b5cf2b710bbadadfb75f5</td>\n",
       "      <td>19</td>\n",
       "      <td>647</td>\n",
       "      <td>61</td>\n",
       "      <td>550</td>\n",
       "      <td>16411</td>\n",
       "      <td>248.92</td>\n",
       "      <td>29.84</td>\n",
       "      <td>24</td>\n",
       "      <td>5</td>\n",
       "      <td>10</td>\n",
       "      <td>16</td>\n",
       "      <td>0</td>\n",
       "      <td>0</td>\n",
       "      <td>Bay Area 511 Marin Schedule</td>\n",
       "      <td>recNOb7pqBRlQVG5e</td>\n",
       "      <td>Marin County Transit District</td>\n",
       "      <td>2024-06-12</td>\n",
       "      <td>Marin</td>\n",
       "      <td>520.00</td>\n",
       "      <td>San Rafael</td>\n",
       "      <td>San Francisco--Oakland, CA</td>\n",
       "      <td>262321.00</td>\n",
       "      <td>Public Agency or Authority of Transit Service</td>\n",
       "      <td>None</td>\n",
       "      <td>Full Reporter</td>\n",
       "    </tr>\n",
       "  </tbody>\n",
       "</table>\n",
       "</div>"
      ],
      "text/plain": [
       "           schedule_gtfs_dataset_key  operator_n_routes  operator_n_trips  \\\n",
       "18  015d67d5b75b5cf2b710bbadadfb75f5                 19               647   \n",
       "\n",
       "    operator_n_shapes  operator_n_stops  operator_n_arrivals  \\\n",
       "18                 61               550                16411   \n",
       "\n",
       "    operator_route_length_miles  operator_arrivals_per_stop  \\\n",
       "18                       248.92                       29.84   \n",
       "\n",
       "    n_downtown_local_routes  n_local_routes  n_coverage_routes  \\\n",
       "18                       24               5                 10   \n",
       "\n",
       "    n_rapid_routes  n_express_routes  n_rail_routes  \\\n",
       "18              16                 0              0   \n",
       "\n",
       "                           name organization_source_record_id  \\\n",
       "18  Bay Area 511 Marin Schedule             recNOb7pqBRlQVG5e   \n",
       "\n",
       "                organization_name service_date counties_served  \\\n",
       "18  Marin County Transit District   2024-06-12           Marin   \n",
       "\n",
       "    service_area_sq_miles     hq_city                    uza_name  \\\n",
       "18                 520.00  San Rafael  San Francisco--Oakland, CA   \n",
       "\n",
       "    service_area_pop                              organization_type  \\\n",
       "18         262321.00  Public Agency or Authority of Transit Service   \n",
       "\n",
       "   primary_uza  reporter_type  \n",
       "18        None  Full Reporter  "
      ]
     },
     "execution_count": 8,
     "metadata": {},
     "output_type": "execute_result"
    }
   ],
   "source": [
    "op_profiles_df.loc[op_profiles_df.service_date == '2024-06-12T00:00:00.000000000'].head(1)"
   ]
  },
  {
   "cell_type": "markdown",
   "id": "e366bc19-3a07-4ed5-9e31-c240aa47cf67",
   "metadata": {},
   "source": [
    "### Look at `gtfs_funnel/crosswalk_gtfs_data`"
   ]
  },
  {
   "cell_type": "code",
   "execution_count": 9,
   "id": "5f9eaf8c-99d8-4f8c-bcd3-4fc26fd550f5",
   "metadata": {},
   "outputs": [
    {
     "data": {
      "text/plain": [
       "'gs://calitp-analytics-data/data-analyses/gtfs_schedule/'"
      ]
     },
     "execution_count": 9,
     "metadata": {},
     "output_type": "execute_result"
    }
   ],
   "source": [
    "SCHED_GCS"
   ]
  },
  {
   "cell_type": "code",
   "execution_count": 10,
   "id": "aa5e4f57-a8ce-4ceb-aca2-6c1f401852d7",
   "metadata": {},
   "outputs": [
    {
     "data": {
      "text/plain": [
       "'crosswalk/gtfs_key_organization'"
      ]
     },
     "execution_count": 10,
     "metadata": {},
     "output_type": "execute_result"
    }
   ],
   "source": [
    "    GTFS_DATA_DICT.schedule_tables.gtfs_key_crosswalk"
   ]
  },
  {
   "cell_type": "code",
   "execution_count": 11,
   "id": "25febae5-f9c6-460b-9b90-b80a5f21c7c8",
   "metadata": {},
   "outputs": [],
   "source": [
    "july_24_crosswalk = pd.read_parquet(\"gs://calitp-analytics-data/data-analyses/gtfs_schedule/crosswalk/gtfs_key_organization_ah_testing_2024-07-17.parquet\")"
   ]
  },
  {
   "cell_type": "code",
   "execution_count": 12,
   "id": "5bffd8aa-f7e8-4f04-bd78-836ec133c163",
   "metadata": {},
   "outputs": [
    {
     "data": {
      "text/html": [
       "<div>\n",
       "<style scoped>\n",
       "    .dataframe tbody tr th:only-of-type {\n",
       "        vertical-align: middle;\n",
       "    }\n",
       "\n",
       "    .dataframe tbody tr th {\n",
       "        vertical-align: top;\n",
       "    }\n",
       "\n",
       "    .dataframe thead th {\n",
       "        text-align: right;\n",
       "    }\n",
       "</style>\n",
       "<table border=\"1\" class=\"dataframe\">\n",
       "  <thead>\n",
       "    <tr style=\"text-align: right;\">\n",
       "      <th></th>\n",
       "      <th>schedule_gtfs_dataset_key</th>\n",
       "      <th>name</th>\n",
       "      <th>schedule_source_record_id</th>\n",
       "      <th>base64_url</th>\n",
       "      <th>organization_source_record_id</th>\n",
       "      <th>organization_name</th>\n",
       "      <th>itp_id</th>\n",
       "      <th>caltrans_district</th>\n",
       "      <th>counties_served</th>\n",
       "      <th>hq_city</th>\n",
       "      <th>hq_county</th>\n",
       "      <th>is_public_entity</th>\n",
       "      <th>is_publicly_operating</th>\n",
       "      <th>funding_sources</th>\n",
       "      <th>on_demand_vehicles_at_max_service</th>\n",
       "      <th>vehicles_at_max_service</th>\n",
       "      <th>number_of_state_counties</th>\n",
       "      <th>uza_name</th>\n",
       "      <th>density</th>\n",
       "      <th>number_of_counties_with_service</th>\n",
       "      <th>state_admin_funds_expended</th>\n",
       "      <th>service_area_sq_miles</th>\n",
       "      <th>population</th>\n",
       "      <th>service_area_pop</th>\n",
       "      <th>subrecipient_type</th>\n",
       "      <th>primary_uza</th>\n",
       "      <th>reporter_type</th>\n",
       "      <th>organization_type</th>\n",
       "      <th>voms_pt</th>\n",
       "      <th>voms_do</th>\n",
       "      <th>year</th>\n",
       "    </tr>\n",
       "  </thead>\n",
       "  <tbody>\n",
       "    <tr>\n",
       "      <th>0</th>\n",
       "      <td>1770249a5a2e770ca90628434d4934b1</td>\n",
       "      <td>VCTC GMV Schedule</td>\n",
       "      <td>recrAG7e0oOiR6FiP</td>\n",
       "      <td>aHR0cHM6Ly9nb3ZjYnVzLmNvbS9ndGZz</td>\n",
       "      <td>reckQmUdXUzHFmlVf</td>\n",
       "      <td>City of Ojai</td>\n",
       "      <td>231.00</td>\n",
       "      <td>07 - Los Angeles</td>\n",
       "      <td>None</td>\n",
       "      <td>Ojai</td>\n",
       "      <td>None</td>\n",
       "      <td>None</td>\n",
       "      <td>None</td>\n",
       "      <td>None</td>\n",
       "      <td>2.00</td>\n",
       "      <td>2.00</td>\n",
       "      <td>NaN</td>\n",
       "      <td>None</td>\n",
       "      <td>NaN</td>\n",
       "      <td>NaN</td>\n",
       "      <td>NaN</td>\n",
       "      <td>NaN</td>\n",
       "      <td>NaN</td>\n",
       "      <td>NaN</td>\n",
       "      <td>Rural General Public Transit</td>\n",
       "      <td>None</td>\n",
       "      <td>Rural Reporter</td>\n",
       "      <td>County or Local Government Unit or Department of Transportation</td>\n",
       "      <td>NaN</td>\n",
       "      <td>2.00</td>\n",
       "      <td>2022.00</td>\n",
       "    </tr>\n",
       "  </tbody>\n",
       "</table>\n",
       "</div>"
      ],
      "text/plain": [
       "          schedule_gtfs_dataset_key               name  \\\n",
       "0  1770249a5a2e770ca90628434d4934b1  VCTC GMV Schedule   \n",
       "\n",
       "  schedule_source_record_id                        base64_url  \\\n",
       "0         recrAG7e0oOiR6FiP  aHR0cHM6Ly9nb3ZjYnVzLmNvbS9ndGZz   \n",
       "\n",
       "  organization_source_record_id organization_name  itp_id caltrans_district  \\\n",
       "0             reckQmUdXUzHFmlVf      City of Ojai  231.00  07 - Los Angeles   \n",
       "\n",
       "  counties_served hq_city hq_county is_public_entity is_publicly_operating  \\\n",
       "0            None    Ojai      None             None                  None   \n",
       "\n",
       "  funding_sources  on_demand_vehicles_at_max_service  vehicles_at_max_service  \\\n",
       "0            None                               2.00                     2.00   \n",
       "\n",
       "   number_of_state_counties uza_name  density  \\\n",
       "0                       NaN     None      NaN   \n",
       "\n",
       "   number_of_counties_with_service  state_admin_funds_expended  \\\n",
       "0                              NaN                         NaN   \n",
       "\n",
       "   service_area_sq_miles  population  service_area_pop  \\\n",
       "0                    NaN         NaN               NaN   \n",
       "\n",
       "              subrecipient_type primary_uza   reporter_type  \\\n",
       "0  Rural General Public Transit        None  Rural Reporter   \n",
       "\n",
       "                                                 organization_type  voms_pt  \\\n",
       "0  County or Local Government Unit or Department of Transportation      NaN   \n",
       "\n",
       "   voms_do    year  \n",
       "0     2.00 2022.00  "
      ]
     },
     "execution_count": 12,
     "metadata": {},
     "output_type": "execute_result"
    }
   ],
   "source": [
    "july_24_crosswalk.head(1)"
   ]
  },
  {
   "cell_type": "code",
   "execution_count": 13,
   "id": "5d8ffe10-9fc5-4d26-8e2b-3ce06d287a99",
   "metadata": {},
   "outputs": [],
   "source": [
    "aug_24_crosswalk = pd.read_parquet(\"gs://calitp-analytics-data/data-analyses/gtfs_schedule/crosswalk/gtfs_key_organization_ah_testing_2024-08-14.parquet\")"
   ]
  },
  {
   "cell_type": "code",
   "execution_count": 14,
   "id": "54f2ccbe-892f-4301-b165-8b98fe037cba",
   "metadata": {},
   "outputs": [
    {
     "data": {
      "text/html": [
       "<div>\n",
       "<style scoped>\n",
       "    .dataframe tbody tr th:only-of-type {\n",
       "        vertical-align: middle;\n",
       "    }\n",
       "\n",
       "    .dataframe tbody tr th {\n",
       "        vertical-align: top;\n",
       "    }\n",
       "\n",
       "    .dataframe thead th {\n",
       "        text-align: right;\n",
       "    }\n",
       "</style>\n",
       "<table border=\"1\" class=\"dataframe\">\n",
       "  <thead>\n",
       "    <tr style=\"text-align: right;\">\n",
       "      <th></th>\n",
       "      <th>schedule_gtfs_dataset_key</th>\n",
       "      <th>name</th>\n",
       "      <th>schedule_source_record_id</th>\n",
       "      <th>base64_url</th>\n",
       "      <th>organization_source_record_id</th>\n",
       "      <th>organization_name</th>\n",
       "      <th>itp_id</th>\n",
       "      <th>caltrans_district</th>\n",
       "      <th>counties_served</th>\n",
       "      <th>hq_city</th>\n",
       "      <th>hq_county</th>\n",
       "      <th>is_public_entity</th>\n",
       "      <th>is_publicly_operating</th>\n",
       "      <th>funding_sources</th>\n",
       "      <th>on_demand_vehicles_at_max_service</th>\n",
       "      <th>vehicles_at_max_service</th>\n",
       "      <th>number_of_state_counties</th>\n",
       "      <th>uza_name</th>\n",
       "      <th>density</th>\n",
       "      <th>number_of_counties_with_service</th>\n",
       "      <th>state_admin_funds_expended</th>\n",
       "      <th>service_area_sq_miles</th>\n",
       "      <th>population</th>\n",
       "      <th>service_area_pop</th>\n",
       "      <th>subrecipient_type</th>\n",
       "      <th>primary_uza</th>\n",
       "      <th>reporter_type</th>\n",
       "      <th>organization_type</th>\n",
       "      <th>voms_pt</th>\n",
       "      <th>voms_do</th>\n",
       "      <th>year</th>\n",
       "    </tr>\n",
       "  </thead>\n",
       "  <tbody>\n",
       "    <tr>\n",
       "      <th>0</th>\n",
       "      <td>1770249a5a2e770ca90628434d4934b1</td>\n",
       "      <td>VCTC GMV Schedule</td>\n",
       "      <td>recrAG7e0oOiR6FiP</td>\n",
       "      <td>aHR0cHM6Ly9nb3ZjYnVzLmNvbS9ndGZz</td>\n",
       "      <td>reckQmUdXUzHFmlVf</td>\n",
       "      <td>City of Ojai</td>\n",
       "      <td>231.00</td>\n",
       "      <td>07 - Los Angeles</td>\n",
       "      <td>None</td>\n",
       "      <td>Ojai</td>\n",
       "      <td>None</td>\n",
       "      <td>None</td>\n",
       "      <td>None</td>\n",
       "      <td>None</td>\n",
       "      <td>2.00</td>\n",
       "      <td>2.00</td>\n",
       "      <td>NaN</td>\n",
       "      <td>None</td>\n",
       "      <td>NaN</td>\n",
       "      <td>NaN</td>\n",
       "      <td>NaN</td>\n",
       "      <td>NaN</td>\n",
       "      <td>NaN</td>\n",
       "      <td>NaN</td>\n",
       "      <td>Rural General Public Transit</td>\n",
       "      <td>None</td>\n",
       "      <td>Rural Reporter</td>\n",
       "      <td>County or Local Government Unit or Department of Transportation</td>\n",
       "      <td>NaN</td>\n",
       "      <td>2.00</td>\n",
       "      <td>2022.00</td>\n",
       "    </tr>\n",
       "  </tbody>\n",
       "</table>\n",
       "</div>"
      ],
      "text/plain": [
       "          schedule_gtfs_dataset_key               name  \\\n",
       "0  1770249a5a2e770ca90628434d4934b1  VCTC GMV Schedule   \n",
       "\n",
       "  schedule_source_record_id                        base64_url  \\\n",
       "0         recrAG7e0oOiR6FiP  aHR0cHM6Ly9nb3ZjYnVzLmNvbS9ndGZz   \n",
       "\n",
       "  organization_source_record_id organization_name  itp_id caltrans_district  \\\n",
       "0             reckQmUdXUzHFmlVf      City of Ojai  231.00  07 - Los Angeles   \n",
       "\n",
       "  counties_served hq_city hq_county is_public_entity is_publicly_operating  \\\n",
       "0            None    Ojai      None             None                  None   \n",
       "\n",
       "  funding_sources  on_demand_vehicles_at_max_service  vehicles_at_max_service  \\\n",
       "0            None                               2.00                     2.00   \n",
       "\n",
       "   number_of_state_counties uza_name  density  \\\n",
       "0                       NaN     None      NaN   \n",
       "\n",
       "   number_of_counties_with_service  state_admin_funds_expended  \\\n",
       "0                              NaN                         NaN   \n",
       "\n",
       "   service_area_sq_miles  population  service_area_pop  \\\n",
       "0                    NaN         NaN               NaN   \n",
       "\n",
       "              subrecipient_type primary_uza   reporter_type  \\\n",
       "0  Rural General Public Transit        None  Rural Reporter   \n",
       "\n",
       "                                                 organization_type  voms_pt  \\\n",
       "0  County or Local Government Unit or Department of Transportation      NaN   \n",
       "\n",
       "   voms_do    year  \n",
       "0     2.00 2022.00  "
      ]
     },
     "execution_count": 14,
     "metadata": {},
     "output_type": "execute_result"
    }
   ],
   "source": [
    "aug_24_crosswalk.head(1)"
   ]
  },
  {
   "cell_type": "code",
   "execution_count": 15,
   "id": "97db72cc-ffae-4df1-b3a2-af7e7699581d",
   "metadata": {},
   "outputs": [
    {
     "name": "stdout",
     "output_type": "stream",
     "text": [
      "<class 'pandas.core.frame.DataFrame'>\n",
      "Int64Index: 176 entries, 0 to 175\n",
      "Data columns (total 31 columns):\n",
      " #   Column                             Non-Null Count  Dtype  \n",
      "---  ------                             --------------  -----  \n",
      " 0   schedule_gtfs_dataset_key          176 non-null    object \n",
      " 1   name                               176 non-null    object \n",
      " 2   schedule_source_record_id          176 non-null    object \n",
      " 3   base64_url                         176 non-null    object \n",
      " 4   organization_source_record_id      176 non-null    object \n",
      " 5   organization_name                  176 non-null    object \n",
      " 6   itp_id                             167 non-null    float64\n",
      " 7   caltrans_district                  174 non-null    object \n",
      " 8   counties_served                    104 non-null    object \n",
      " 9   hq_city                            138 non-null    object \n",
      " 10  hq_county                          105 non-null    object \n",
      " 11  is_public_entity                   105 non-null    object \n",
      " 12  is_publicly_operating              105 non-null    object \n",
      " 13  funding_sources                    85 non-null     object \n",
      " 14  on_demand_vehicles_at_max_service  52 non-null     float64\n",
      " 15  vehicles_at_max_service            139 non-null    float64\n",
      " 16  number_of_state_counties           0 non-null      float64\n",
      " 17  uza_name                           108 non-null    object \n",
      " 18  density                            108 non-null    float64\n",
      " 19  number_of_counties_with_service    0 non-null      float64\n",
      " 20  state_admin_funds_expended         0 non-null      float64\n",
      " 21  service_area_sq_miles              104 non-null    float64\n",
      " 22  population                         108 non-null    float64\n",
      " 23  service_area_pop                   104 non-null    float64\n",
      " 24  subrecipient_type                  33 non-null     object \n",
      " 25  primary_uza                        0 non-null      object \n",
      " 26  reporter_type                      139 non-null    object \n",
      " 27  organization_type                  139 non-null    object \n",
      " 28  voms_pt                            114 non-null    float64\n",
      " 29  voms_do                            52 non-null     float64\n",
      " 30  year                               139 non-null    float64\n",
      "dtypes: float64(13), object(18)\n",
      "memory usage: 44.0+ KB\n"
     ]
    }
   ],
   "source": [
    "aug_24_crosswalk.info()"
   ]
  },
  {
   "cell_type": "code",
   "execution_count": 16,
   "id": "2862ebc8-953a-471d-aa40-ff01911b5cd4",
   "metadata": {},
   "outputs": [
    {
     "data": {
      "text/plain": [
       "'crosswalk/gtfs_key_organization'"
      ]
     },
     "execution_count": 16,
     "metadata": {},
     "output_type": "execute_result"
    }
   ],
   "source": [
    "GTFS_DATA_DICT.schedule_tables.gtfs_key_crosswalk"
   ]
  },
  {
   "cell_type": "code",
   "execution_count": 17,
   "id": "8f69daff-3273-4fbb-8128-e677c47d3f3e",
   "metadata": {},
   "outputs": [],
   "source": [
    "june_24_crosswalk = pd.read_parquet(\"gs://calitp-analytics-data/data-analyses/gtfs_schedule/crosswalk/gtfs_key_organization_2024-06-12.parquet\")"
   ]
  },
  {
   "cell_type": "code",
   "execution_count": 18,
   "id": "40eaf9d5-cf9e-41d0-b00d-60b1261be533",
   "metadata": {},
   "outputs": [
    {
     "name": "stdout",
     "output_type": "stream",
     "text": [
      "<class 'pandas.core.frame.DataFrame'>\n",
      "Int64Index: 160 entries, 0 to 159\n",
      "Data columns (total 32 columns):\n",
      " #   Column                             Non-Null Count  Dtype  \n",
      "---  ------                             --------------  -----  \n",
      " 0   schedule_gtfs_dataset_key          160 non-null    object \n",
      " 1   name                               160 non-null    object \n",
      " 2   schedule_source_record_id          160 non-null    object \n",
      " 3   base64_url                         160 non-null    object \n",
      " 4   organization_source_record_id      160 non-null    object \n",
      " 5   organization_name                  160 non-null    object \n",
      " 6   itp_id                             153 non-null    float64\n",
      " 7   caltrans_district                  159 non-null    object \n",
      " 8   ntd_id_2022                        133 non-null    object \n",
      " 9   counties_served                    91 non-null     object \n",
      " 10  hq_city                            125 non-null    object \n",
      " 11  hq_county                          92 non-null     object \n",
      " 12  is_public_entity                   92 non-null     object \n",
      " 13  is_publicly_operating              92 non-null     object \n",
      " 14  funding_sources                    74 non-null     object \n",
      " 15  on_demand_vehicles_at_max_service  44 non-null     float64\n",
      " 16  vehicles_at_max_service            126 non-null    float64\n",
      " 17  number_of_state_counties           0 non-null      float64\n",
      " 18  uza_name                           95 non-null     object \n",
      " 19  density                            95 non-null     float64\n",
      " 20  number_of_counties_with_service    0 non-null      float64\n",
      " 21  state_admin_funds_expended         0 non-null      float64\n",
      " 22  service_area_sq_miles              91 non-null     float64\n",
      " 23  population                         95 non-null     float64\n",
      " 24  service_area_pop                   91 non-null     float64\n",
      " 25  subrecipient_type                  33 non-null     object \n",
      " 26  primary_uza                        0 non-null      object \n",
      " 27  reporter_type                      126 non-null    object \n",
      " 28  organization_type                  126 non-null    object \n",
      " 29  voms_pt                            104 non-null    float64\n",
      " 30  voms_do                            44 non-null     float64\n",
      " 31  year                               126 non-null    float64\n",
      "dtypes: float64(13), object(19)\n",
      "memory usage: 41.2+ KB\n"
     ]
    }
   ],
   "source": [
    "june_24_crosswalk.info()"
   ]
  },
  {
   "cell_type": "markdown",
   "id": "ddfe52bd-42c6-4ae1-b888-32fc593fd3f8",
   "metadata": {},
   "source": [
    "### Testing"
   ]
  },
  {
   "cell_type": "code",
   "execution_count": null,
   "id": "3918570d-33ce-4e41-84ec-93f7a5f308e5",
   "metadata": {},
   "outputs": [],
   "source": [
    "# Importing packages from another directory\n",
    "import sys\n",
    "\n",
    "sys.path.append(\"../gtfs_funnel\")\n",
    "import crosswalk_gtfs_dataset_key_to_organization"
   ]
  },
  {
   "cell_type": "code",
   "execution_count": null,
   "id": "3d59c6b4-0542-4e62-8976-d67715b05bbc",
   "metadata": {},
   "outputs": [],
   "source": [
    "rt_dates.y2024_dates"
   ]
  },
  {
   "cell_type": "code",
   "execution_count": null,
   "id": "73245ad4-2d94-47ac-9769-eed247cbd3ec",
   "metadata": {},
   "outputs": [],
   "source": [
    "june_gtfs_funnel = crosswalk_gtfs_dataset_key_to_organization.create_gtfs_dataset_key_to_organization_crosswalk(\n",
    "'2024-06-12')"
   ]
  },
  {
   "cell_type": "code",
   "execution_count": null,
   "id": "32269045-8723-404b-81b1-6c112fc962fc",
   "metadata": {},
   "outputs": [],
   "source": [
    "july_gtfs_funnel = crosswalk_gtfs_dataset_key_to_organization.create_gtfs_dataset_key_to_organization_crosswalk(\n",
    "rt_dates.y2024_dates[-1])"
   ]
  },
  {
   "cell_type": "code",
   "execution_count": null,
   "id": "87b98634-8ce0-44f5-9bee-52dae5739d79",
   "metadata": {},
   "outputs": [],
   "source": [
    "july_gtfs_funnel.head(2)"
   ]
  },
  {
   "cell_type": "code",
   "execution_count": null,
   "id": "a1d88a1c-2b71-4be1-b0fd-ba6ee1241367",
   "metadata": {},
   "outputs": [],
   "source": [
    "july_gtfs_funnel.info()"
   ]
  },
  {
   "cell_type": "code",
   "execution_count": null,
   "id": "d5f19c13-a162-4ebe-89bb-728a472d3c73",
   "metadata": {},
   "outputs": [],
   "source": [
    "ntd_df = crosswalk_gtfs_dataset_key_to_organization.merge_ntd_mobility(2022)"
   ]
  },
  {
   "cell_type": "code",
   "execution_count": null,
   "id": "d531b911-9d91-4ec8-ae83-4537a930c8b5",
   "metadata": {},
   "outputs": [],
   "source": [
    "ntd_df.head(2)"
   ]
  },
  {
   "cell_type": "code",
   "execution_count": null,
   "id": "cdced2c2-c607-48b5-8ed6-5feb892941db",
   "metadata": {},
   "outputs": [],
   "source": [
    "len(ntd_df)"
   ]
  },
  {
   "cell_type": "code",
   "execution_count": null,
   "id": "4ea1f95c-e1ac-46bf-a952-781e0c4f55ba",
   "metadata": {},
   "outputs": [],
   "source": [
    "crosswalk_july_df = pd.merge(\n",
    "            july_gtfs_funnel,\n",
    "            ntd_df.rename(columns = {\"ntd_id\": \"ntd_id_2022\"}),\n",
    "            on = [\"ntd_id_2022\"],\n",
    "            how = \"outer\",\n",
    "        indicator = True\n",
    "        )\n"
   ]
  },
  {
   "cell_type": "code",
   "execution_count": null,
   "id": "cae6b352-fd0c-4f90-926d-551f888c0fd0",
   "metadata": {},
   "outputs": [],
   "source": [
    "crosswalk_july_df._merge.value_counts()"
   ]
  },
  {
   "cell_type": "code",
   "execution_count": null,
   "id": "eddeb5f6-fef6-4291-9a50-7fe3f9cbb7b0",
   "metadata": {},
   "outputs": [],
   "source": [
    "crosswalk_june_df = pd.merge(\n",
    "            june_gtfs_funnel,\n",
    "            ntd_df.rename(columns = {\"ntd_id\": \"ntd_id_2022\"}),\n",
    "            on = [\"ntd_id_2022\"],\n",
    "            how = \"outer\",\n",
    "        indicator = True\n",
    "        )\n"
   ]
  },
  {
   "cell_type": "code",
   "execution_count": null,
   "id": "8ea4119e-e147-4cf8-b049-96bec3d62986",
   "metadata": {},
   "outputs": [],
   "source": [
    "crosswalk_june_df._merge.value_counts()"
   ]
  },
  {
   "cell_type": "markdown",
   "id": "9b17f825-6d2e-4f82-a875-9db46ec756dd",
   "metadata": {},
   "source": [
    "### NTD suddenly only has 5 rows."
   ]
  },
  {
   "cell_type": "code",
   "execution_count": null,
   "id": "13c9ddcc-d7d0-4f5f-b4e6-ccce573e00ce",
   "metadata": {},
   "outputs": [],
   "source": [
    "ntd_df.info()"
   ]
  },
  {
   "cell_type": "code",
   "execution_count": null,
   "id": "713c106b-6d53-4f23-a201-9191942ef08f",
   "metadata": {},
   "outputs": [],
   "source": [
    "ntd1 = crosswalk_gtfs_dataset_key_to_organization.load_ntd(2022)"
   ]
  },
  {
   "cell_type": "code",
   "execution_count": null,
   "id": "c7a13648-6e89-437c-9b59-d7b7892eb681",
   "metadata": {},
   "outputs": [],
   "source": [
    "len(ntd1)"
   ]
  },
  {
   "cell_type": "code",
   "execution_count": null,
   "id": "71e278e3-b9ad-4d0b-8f95-585fd25c39bb",
   "metadata": {},
   "outputs": [],
   "source": [
    "ntd1.agency_name.nunique()"
   ]
  },
  {
   "cell_type": "code",
   "execution_count": null,
   "id": "d5b2f99f-5de1-454a-a617-5a55ad137f28",
   "metadata": {
    "scrolled": true,
    "tags": []
   },
   "outputs": [],
   "source": [
    "ntd1[['agency_name']].drop_duplicates()"
   ]
  },
  {
   "cell_type": "code",
   "execution_count": null,
   "id": "194b1e28-6218-452a-b603-b8901287b10a",
   "metadata": {},
   "outputs": [],
   "source": [
    "mobility_df = crosswalk_gtfs_dataset_key_to_organization.load_mobility()"
   ]
  },
  {
   "cell_type": "code",
   "execution_count": null,
   "id": "dec7b174-8676-40d1-84cf-5d0d39852879",
   "metadata": {},
   "outputs": [],
   "source": [
    "len(mobility_df)"
   ]
  },
  {
   "cell_type": "code",
   "execution_count": null,
   "id": "304a7ff1-edf5-4707-bbef-3b848afffaa3",
   "metadata": {},
   "outputs": [],
   "source": [
    "mobility_df.head(1)"
   ]
  },
  {
   "cell_type": "code",
   "execution_count": null,
   "id": "bc4d84a3-b2a8-4d12-8002-be9d86b5ddc7",
   "metadata": {
    "scrolled": true,
    "tags": []
   },
   "outputs": [],
   "source": [
    "mobility_df[['agency_name']].drop_duplicates()"
   ]
  },
  {
   "cell_type": "markdown",
   "id": "1c15d9d9-7a07-4f80-93c0-04b5839b4634",
   "metadata": {},
   "source": [
    "### Something is going weird with the merge."
   ]
  },
  {
   "cell_type": "code",
   "execution_count": null,
   "id": "14321df1-04f8-4af2-a4e2-89262f227851",
   "metadata": {},
   "outputs": [],
   "source": [
    "m1 = crosswalk_gtfs_dataset_key_to_organization.merge_ntd_mobility(2022)"
   ]
  },
  {
   "cell_type": "code",
   "execution_count": null,
   "id": "3b9411cd-c46a-4351-8898-e14f267bf1bc",
   "metadata": {},
   "outputs": [],
   "source": [
    "m2 = pd.merge(\n",
    "        mobility_df,\n",
    "        ntd1,\n",
    "        how=\"outer\",\n",
    "        on=\"agency_name\",\n",
    "    indicator = True\n",
    "    )"
   ]
  },
  {
   "cell_type": "code",
   "execution_count": null,
   "id": "93f4d25b-38f5-499f-b1bd-a8b8adf4335e",
   "metadata": {},
   "outputs": [],
   "source": [
    "m2.head(1)"
   ]
  },
  {
   "cell_type": "code",
   "execution_count": null,
   "id": "ea0d21d0-0663-4e03-ab22-e8cf12c82848",
   "metadata": {
    "scrolled": true,
    "tags": []
   },
   "outputs": [],
   "source": [
    "m2[['agency_name']].drop_duplicates()"
   ]
  },
  {
   "cell_type": "code",
   "execution_count": null,
   "id": "de89e5d3-0d67-4629-85ba-799832af21df",
   "metadata": {},
   "outputs": [],
   "source": [
    "m2.shape"
   ]
  },
  {
   "cell_type": "code",
   "execution_count": null,
   "id": "7168a903-3b77-469f-852d-efd61e98bcb0",
   "metadata": {},
   "outputs": [],
   "source": [
    "m2.shape"
   ]
  },
  {
   "cell_type": "code",
   "execution_count": null,
   "id": "72c55f6c-6b3c-4c3c-a323-ee02e05e1282",
   "metadata": {},
   "outputs": [],
   "source": [
    "m2.agency_name.nunique()"
   ]
  },
  {
   "cell_type": "code",
   "execution_count": null,
   "id": "76020ddf-7e2f-4c9e-b4db-696d8bff7d9c",
   "metadata": {},
   "outputs": [],
   "source": [
    "m3 = m2.drop_duplicates(\n",
    "        subset=\"agency_name\"\n",
    "    ).reset_index(\n",
    "        drop=True\n",
    "    ).drop(columns = \"agency_name\")"
   ]
  },
  {
   "cell_type": "code",
   "execution_count": null,
   "id": "d3363d6d-4bce-4a4c-b6cd-eade68916e95",
   "metadata": {},
   "outputs": [],
   "source": [
    "m3.shape"
   ]
  },
  {
   "cell_type": "code",
   "execution_count": null,
   "id": "ae7a7949-2f72-4fcc-9e11-2c3948ab1e50",
   "metadata": {},
   "outputs": [],
   "source": [
    "m3.ntd_id.nunique()"
   ]
  }
 ],
 "metadata": {
  "kernelspec": {
   "display_name": "Python 3 (ipykernel)",
   "language": "python",
   "name": "python3"
  },
  "language_info": {
   "codemirror_mode": {
    "name": "ipython",
    "version": 3
   },
   "file_extension": ".py",
   "mimetype": "text/x-python",
   "name": "python",
   "nbconvert_exporter": "python",
   "pygments_lexer": "ipython3",
   "version": "3.9.13"
  }
 },
 "nbformat": 4,
 "nbformat_minor": 5
}
