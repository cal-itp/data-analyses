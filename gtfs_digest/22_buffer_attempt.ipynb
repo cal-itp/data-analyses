{
 "cells": [
  {
   "cell_type": "code",
   "execution_count": 1,
   "id": "ac9c2b09-1214-4ad4-b320-0c05a2fa2d3f",
   "metadata": {
    "tags": []
   },
   "outputs": [],
   "source": [
    "import _ct_district_grain_data_prep as _ct_district_data_prep\n",
    "\n",
    "import geopandas as gpd\n",
    "import pandas as pd\n",
    "from update_vars import GTFS_DATA_DICT, RT_SCHED_GCS\n",
    "from shared_utils import webmap_utils\n",
    "from calitp_data_analysis import geography_utils\n",
    "import branca\n",
    "import branca.colormap as cm"
   ]
  },
  {
   "cell_type": "code",
   "execution_count": 2,
   "id": "7a26fdb0-eade-41f1-9263-649582460ff4",
   "metadata": {
    "tags": []
   },
   "outputs": [],
   "source": [
    "import google.auth\n",
    "credentials, project = google.auth.default()\n",
    "import gcsfs\n",
    "fs = gcsfs.GCSFileSystem()"
   ]
  },
  {
   "cell_type": "markdown",
   "id": "1b9b43af-50fd-41e1-92cd-6a4b5b0a9e73",
   "metadata": {},
   "source": [
    "## Operator"
   ]
  },
  {
   "cell_type": "code",
   "execution_count": 3,
   "id": "b2109111-2098-4dd5-830f-a316c197a87f",
   "metadata": {
    "tags": [
     "parameters"
    ]
   },
   "outputs": [],
   "source": [
    "analysis_name = \"Alameda-Contra Costa Transit District\""
   ]
  },
  {
   "cell_type": "code",
   "execution_count": 4,
   "id": "ab509f80-daa0-4f04-8a95-f45c9f2d842a",
   "metadata": {},
   "outputs": [],
   "source": [
    "OPERATOR_ROUTE_MAP = GTFS_DATA_DICT.digest_tables.operator_routes_map_report"
   ]
  },
  {
   "cell_type": "code",
   "execution_count": 5,
   "id": "2bc1f0ed-e944-4d18-8d43-c9173a9690fd",
   "metadata": {},
   "outputs": [],
   "source": [
    "route_df = gpd.read_parquet(\n",
    "    f\"{RT_SCHED_GCS}{OPERATOR_ROUTE_MAP}.parquet\",\n",
    "    filters=[[(\"analysis_name\", \"==\", analysis_name)]],\n",
    "    storage_options={\"token\": credentials.token},\n",
    ")"
   ]
  },
  {
   "cell_type": "code",
   "execution_count": 6,
   "id": "a87d8547-8b78-42e4-8456-92b10c4f1e06",
   "metadata": {
    "tags": []
   },
   "outputs": [],
   "source": [
    "route_df = route_df.reset_index(drop=False)\n",
    "route_df = route_df.rename(columns={\"index\": \"Number\"})"
   ]
  },
  {
   "cell_type": "code",
   "execution_count": 7,
   "id": "47f9c027-74f5-4c84-942e-36271c874828",
   "metadata": {
    "tags": []
   },
   "outputs": [
    {
     "data": {
      "text/plain": [
       "86"
      ]
     },
     "execution_count": 7,
     "metadata": {},
     "output_type": "execute_result"
    }
   ],
   "source": [
    "len(route_df)"
   ]
  },
  {
   "cell_type": "code",
   "execution_count": 8,
   "id": "f171ed3b-7cf5-4f3c-a605-f3a18abaeb23",
   "metadata": {
    "tags": []
   },
   "outputs": [],
   "source": [
    "route_df.geometry = route_df.geometry.buffer(100)"
   ]
  },
  {
   "cell_type": "code",
   "execution_count": 9,
   "id": "97f44492-b851-4c84-87db-a4126507c7ae",
   "metadata": {
    "tags": []
   },
   "outputs": [],
   "source": [
    "analysis_name_edited = analysis_name.replace(\" \",\"_\").lower()"
   ]
  },
  {
   "cell_type": "code",
   "execution_count": 10,
   "id": "3f3cbe98-9a84-4fc8-87d7-8eac7edba6c9",
   "metadata": {
    "tags": []
   },
   "outputs": [],
   "source": [
    "operator_file = f\"{analysis_name_edited}_routes\""
   ]
  },
  {
   "cell_type": "code",
   "execution_count": 11,
   "id": "a2b377ac-7265-46ed-bda5-9a6847601af7",
   "metadata": {
    "tags": []
   },
   "outputs": [
    {
     "data": {
      "text/plain": [
       "'alameda-contra_costa_transit_district_routes'"
      ]
     },
     "execution_count": 11,
     "metadata": {},
     "output_type": "execute_result"
    }
   ],
   "source": [
    "operator_file"
   ]
  },
  {
   "cell_type": "code",
   "execution_count": 12,
   "id": "b9578aab-0c9b-48b5-8ad9-4d887e1c64a0",
   "metadata": {
    "tags": []
   },
   "outputs": [],
   "source": [
    "color_map = cm.linear.Spectral_11.scale(0, 150)"
   ]
  },
  {
   "cell_type": "code",
   "execution_count": 13,
   "id": "bea25355-23dc-41f1-8288-cbb536dac327",
   "metadata": {
    "tags": []
   },
   "outputs": [
    {
     "name": "stderr",
     "output_type": "stream",
     "text": [
      "/home/jovyan/data-analyses/_shared_utils/shared_utils/webmap_utils.py:118: UserWarning: Geometry is in a geographic CRS. Results from 'centroid' are likely incorrect. Use 'GeoSeries.to_crs()' to re-project geometries to a projected CRS before this operation.\n",
      "\n",
      "  centroid = (gdf.geometry.centroid.y.mean(), gdf.geometry.centroid.x.mean())\n"
     ]
    }
   ],
   "source": [
    "transit_shn_map = webmap_utils.set_state_export(\n",
    "    route_df[[\"Route\",\"geometry\", \"Number\"]],\n",
    "    subfolder = \"operator_digest/\",\n",
    "    filename=operator_file,\n",
    "    map_title=f\"Transit Routes for {analysis_name}\",\n",
    "    cmap=color_map,\n",
    "    color_col=\"Number\",\n",
    "    \n",
    ")"
   ]
  },
  {
   "cell_type": "code",
   "execution_count": 14,
   "id": "e40f9687-4cf3-4418-a992-c3b0a667faa5",
   "metadata": {
    "tags": []
   },
   "outputs": [
    {
     "data": {
      "text/markdown": [
       "<a href=\"https://embeddable-maps.calitp.org/?state=eyJuYW1lIjogIm51bGwiLCAibGF5ZXJzIjogW3sibmFtZSI6ICJUcmFuc2l0IFJvdXRlcyBmb3IgQWxhbWVkYS1Db250cmEgQ29zdGEgVHJhbnNpdCBEaXN0cmljdCIsICJ1cmwiOiAiaHR0cHM6Ly9zdG9yYWdlLmdvb2dsZWFwaXMuY29tL2NhbGl0cC1tYXAtdGlsZXMvb3BlcmF0b3JfZGlnZXN0L2FsYW1lZGEtY29udHJhX2Nvc3RhX3RyYW5zaXRfZGlzdHJpY3Rfcm91dGVzLmdlb2pzb24uZ3oiLCAicHJvcGVydGllcyI6IHsic3Ryb2tlZCI6IGZhbHNlLCAiaGlnaGxpZ2h0X3NhdHVyYXRpb25fbXVsdGlwbGllciI6IDAuNX19XSwgImxhdF9sb24iOiBbMzcuNzYxNjIyNzc3OTQwOTksIC0xMjIuMjAzNjAxMTE1MTk2MjFdLCAiem9vbSI6IDEzfQ==\" target=\"_blank\">Open Routes for Alameda-Contra Costa Transit District in New Tab</a>"
      ],
      "text/plain": [
       "<IPython.core.display.Markdown object>"
      ]
     },
     "metadata": {},
     "output_type": "display_data"
    }
   ],
   "source": [
    "webmap_utils.render_spa_link(transit_shn_map[\"spa_link\"], text=f\"Routes for {analysis_name}\")"
   ]
  },
  {
   "cell_type": "code",
   "execution_count": 15,
   "id": "0046fa5b-166a-4c86-9055-8c323da4e0d0",
   "metadata": {
    "tags": []
   },
   "outputs": [
    {
     "data": {
      "text/html": [
       "\n",
       "        <iframe\n",
       "            width=\"1000\"\n",
       "            height=\"650\"\n",
       "            src=\"https://embeddable-maps.calitp.org/?state=eyJuYW1lIjogIm51bGwiLCAibGF5ZXJzIjogW3sibmFtZSI6ICJUcmFuc2l0IFJvdXRlcyBmb3IgQWxhbWVkYS1Db250cmEgQ29zdGEgVHJhbnNpdCBEaXN0cmljdCIsICJ1cmwiOiAiaHR0cHM6Ly9zdG9yYWdlLmdvb2dsZWFwaXMuY29tL2NhbGl0cC1tYXAtdGlsZXMvb3BlcmF0b3JfZGlnZXN0L2FsYW1lZGEtY29udHJhX2Nvc3RhX3RyYW5zaXRfZGlzdHJpY3Rfcm91dGVzLmdlb2pzb24uZ3oiLCAicHJvcGVydGllcyI6IHsic3Ryb2tlZCI6IGZhbHNlLCAiaGlnaGxpZ2h0X3NhdHVyYXRpb25fbXVsdGlwbGllciI6IDAuNX19XSwgImxhdF9sb24iOiBbMzcuNzYxNjIyNzc3OTQwOTksIC0xMjIuMjAzNjAxMTE1MTk2MjFdLCAiem9vbSI6IDEzfQ==\"\n",
       "            frameborder=\"0\"\n",
       "            allowfullscreen\n",
       "            \n",
       "        ></iframe>\n",
       "        "
      ],
      "text/plain": [
       "<IPython.lib.display.IFrame at 0x7e9ef843f390>"
      ]
     },
     "metadata": {},
     "output_type": "display_data"
    }
   ],
   "source": [
    "webmap_utils.display_spa_map(transit_shn_map[\"spa_link\"])"
   ]
  },
  {
   "cell_type": "markdown",
   "id": "3599efdd-d404-4be1-9ccd-5a15155fcb8f",
   "metadata": {},
   "source": [
    "## CT District"
   ]
  },
  {
   "cell_type": "code",
   "execution_count": null,
   "id": "1cfc5d22-aab4-4b33-9057-a13d426e1acb",
   "metadata": {
    "tags": []
   },
   "outputs": [],
   "source": [
    "district = \"04 - Bay Area / Oakland\""
   ]
  },
  {
   "cell_type": "code",
   "execution_count": null,
   "id": "bc979cf5-ed34-4fea-a7cc-5738d6835879",
   "metadata": {
    "tags": []
   },
   "outputs": [],
   "source": [
    "district_int = [int(s) for s in district.split() if s.isdigit()][0]"
   ]
  },
  {
   "cell_type": "code",
   "execution_count": null,
   "id": "f0788b8d-4081-46d9-a908-e868dc23b5e0",
   "metadata": {
    "tags": []
   },
   "outputs": [],
   "source": [
    "boundary_file = f\"district_{district_int}_boundary\"\n",
    "transit_routes_file = f\"district_{district_int}_transit_routes\"\n",
    "shn_file = f\"district_{district_int}_shn\"\n",
    "transit_shn_file = f\"district_{district_int}_transit_routes_shn\""
   ]
  },
  {
   "cell_type": "code",
   "execution_count": null,
   "id": "cb4d0366-a88c-4598-8a74-e20b82e3151b",
   "metadata": {
    "tags": []
   },
   "outputs": [],
   "source": [
    "operator_df = _ct_district_data_prep.data_wrangling_operator_profile(district)"
   ]
  },
  {
   "cell_type": "code",
   "execution_count": null,
   "id": "bfa344a5-5c05-4b79-9731-9edd7aa9269b",
   "metadata": {
    "tags": []
   },
   "outputs": [],
   "source": [
    "district_gdf = _ct_district_data_prep.load_ct_district(district_int)"
   ]
  },
  {
   "cell_type": "code",
   "execution_count": null,
   "id": "27ee013f-b561-47d2-b97b-e185cf08c1dd",
   "metadata": {},
   "outputs": [],
   "source": [
    "transit_route_shs_gdf, transit_route_shs_table = (\n",
    "    _ct_district_data_prep.final_transit_route_shs_outputs(15, district_int)\n",
    ")"
   ]
  },
  {
   "cell_type": "code",
   "execution_count": null,
   "id": "9f77d780-b895-47e1-9b8c-5cce432228c5",
   "metadata": {
    "tags": []
   },
   "outputs": [],
   "source": [
    "transit_route_shs_gdf.columns"
   ]
  },
  {
   "cell_type": "code",
   "execution_count": null,
   "id": "cf0c5b1f-17d2-4383-9344-018a894f30d9",
   "metadata": {
    "tags": []
   },
   "outputs": [],
   "source": [
    "operator_gdf = _ct_district_data_prep.data_wrangling_operator_map(\n",
    "    list(operator_df.analysis_name.unique())\n",
    ")"
   ]
  },
  {
   "cell_type": "code",
   "execution_count": null,
   "id": "abbd48a3-f90b-472f-b6bd-8a4b98df2fa9",
   "metadata": {
    "tags": []
   },
   "outputs": [],
   "source": [
    "shn_gdf = _ct_district_data_prep.load_buffered_shn_map(district_int)"
   ]
  },
  {
   "cell_type": "code",
   "execution_count": null,
   "id": "5379ed41-0236-488f-a54a-c5fd6a949c72",
   "metadata": {
    "tags": []
   },
   "outputs": [],
   "source": [
    "color_map2 = cm.linear.RdYlBu_11.scale(0, 50)"
   ]
  },
  {
   "cell_type": "code",
   "execution_count": null,
   "id": "323b7a6f-bfa9-45c9-a513-4d540d3dac1f",
   "metadata": {},
   "outputs": [],
   "source": [
    "shn_map = webmap_utils.set_state_export(\n",
    "    shn_gdf,\n",
    "    subfolder = \"caltrans_district_digest/\",\n",
    "    filename=shn_file,\n",
    "    map_title=\"State Highway Network Map\",\n",
    "    map_type='state_highway_network'\n",
    ")"
   ]
  },
  {
   "cell_type": "code",
   "execution_count": null,
   "id": "8e5417c9-4da2-436c-8c50-4434fb46e897",
   "metadata": {},
   "outputs": [],
   "source": [
    "transit_shn_map = webmap_utils.set_state_export(\n",
    "    transit_route_shs_gdf,\n",
    "    subfolder = \"caltrans_district_digest/\",\n",
    "    filename=transit_shn_file,\n",
    "    map_title=\"Transit Routes on the State Highway Network\",\n",
    "    cmap=color_map2,\n",
    "    color_col=\"Number\",\n",
    "    existing_state=shn_map\n",
    "    \n",
    ")"
   ]
  },
  {
   "cell_type": "code",
   "execution_count": null,
   "id": "cedea4e1-d8a7-48e2-a9d3-d53503e9cb80",
   "metadata": {
    "tags": []
   },
   "outputs": [],
   "source": [
    "webmap_utils.render_spa_link(transit_shn_map[\"spa_link\"], text=\"Open Routes on State Highway System Map\")"
   ]
  }
 ],
 "metadata": {
  "kernelspec": {
   "display_name": "Python 3 (ipykernel)",
   "language": "python",
   "name": "python3"
  },
  "language_info": {
   "codemirror_mode": {
    "name": "ipython",
    "version": 3
   },
   "file_extension": ".py",
   "mimetype": "text/x-python",
   "name": "python",
   "nbconvert_exporter": "python",
   "pygments_lexer": "ipython3",
   "version": "3.11.10"
  }
 },
 "nbformat": 4,
 "nbformat_minor": 5
}
