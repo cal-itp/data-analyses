{
 "cells": [
  {
   "cell_type": "code",
   "execution_count": null,
   "id": "936e2c22-24ba-4f20-99d8-846cfe0a4e27",
   "metadata": {},
   "outputs": [],
   "source": [
    "%%capture\n",
    "\n",
    "import calitp_data_analysis.magics\n",
    "\n",
    "import warnings\n",
    "warnings.filterwarnings('ignore')\n",
    "\n",
    "import _report_utils as utils\n",
    "import great_tables as gt\n",
    "import pandas as pd\n",
    "from IPython.display import HTML, Image, Markdown, display, display_html\n",
    "\n"
   ]
  },
  {
   "cell_type": "code",
   "execution_count": null,
   "id": "b89867bd-a089-4033-97d7-d6d1ae50b697",
   "metadata": {},
   "outputs": [],
   "source": [
    "pd.options.display.max_columns = 100\n",
    "pd.options.display.float_format = \"{:.2f}\".format\n",
    "pd.set_option(\"display.max_rows\", None)\n",
    "pd.set_option(\"display.max_colwidth\", None)"
   ]
  },
  {
   "cell_type": "code",
   "execution_count": null,
   "id": "6bd20d9d-a3af-430e-8c19-c90fb8ef9e62",
   "metadata": {
    "tags": [
     "parameters"
    ]
   },
   "outputs": [],
   "source": [
    "name = \"Bay Area 511 AC Transit Schedule\""
   ]
  },
  {
   "cell_type": "code",
   "execution_count": null,
   "id": "d870c492-ef2c-45f6-ab47-8d46eda7f344",
   "metadata": {
    "tags": []
   },
   "outputs": [],
   "source": [
    "# %%capture_parameters\n",
    "# name"
   ]
  },
  {
   "cell_type": "code",
   "execution_count": null,
   "id": "0dd3557c-3ec2-450f-82f8-b792412c0785",
   "metadata": {},
   "outputs": [],
   "source": [
    "sched_vp_df = utils.load_schedule_vp_metrics(name)"
   ]
  },
  {
   "cell_type": "code",
   "execution_count": null,
   "id": "a0086203-5de0-49cc-b3e5-95991f8edc69",
   "metadata": {},
   "outputs": [],
   "source": [
    "gtfs_schedule_keys = list(sched_vp_df.schedule_gtfs_dataset_key.unique())"
   ]
  },
  {
   "cell_type": "code",
   "execution_count": null,
   "id": "83e64546-97ed-4ba9-a8f6-c09aea1eb64e",
   "metadata": {},
   "outputs": [],
   "source": [
    "monthly_df = utils.summarize_monthly(\"2023\", name)"
   ]
  },
  {
   "cell_type": "markdown",
   "id": "38103db9-fd56-4cbf-9fa7-336da58fd3f6",
   "metadata": {},
   "source": [
    "# Overview for {name}"
   ]
  },
  {
   "cell_type": "markdown",
   "id": "a5dea72a-d04f-4d7d-b9bb-3b7b244cd426",
   "metadata": {},
   "source": [
    "## Operator Overview - To Come"
   ]
  },
  {
   "cell_type": "markdown",
   "id": "4d003b0a-f033-4544-a0bb-0dfbd60aacc3",
   "metadata": {},
   "source": [
    "## Route-Direction Monthly Overview\n",
    "Statistics presented on the <b>route</b> level. Scroll down to filter for a specific route. "
   ]
  },
  {
   "cell_type": "code",
   "execution_count": null,
   "id": "6973f1b0-2dfa-47b1-b72f-3980515b7f39",
   "metadata": {},
   "outputs": [],
   "source": [
    "utils.single_bar_chart_dropdown(\n",
    "    monthly_df,\n",
    "    \"day_type\",\n",
    "    \"ttl_service_hours\",\n",
    "    \"time_of_day\",\n",
    "    \"Total Service Hours across all Routes per Month in 2023\",\n",
    "    \"full_date\",\n",
    ")"
   ]
  },
  {
   "cell_type": "code",
   "execution_count": null,
   "id": "6c854432-4c78-4dce-aec5-d6c1a86f0f7d",
   "metadata": {},
   "outputs": [],
   "source": [
    "utils.trips_by_gtfs(sched_vp_df)"
   ]
  },
  {
   "cell_type": "code",
   "execution_count": null,
   "id": "5bdf4110-f1d5-4d03-ab47-a7a78958dbcc",
   "metadata": {},
   "outputs": [],
   "source": [
    "utils.filtered_route(sched_vp_df)"
   ]
  }
 ],
 "metadata": {
  "kernelspec": {
   "display_name": "Python 3 (ipykernel)",
   "language": "python",
   "name": "python3"
  },
  "language_info": {
   "codemirror_mode": {
    "name": "ipython",
    "version": 3
   },
   "file_extension": ".py",
   "mimetype": "text/x-python",
   "name": "python",
   "nbconvert_exporter": "python",
   "pygments_lexer": "ipython3",
   "version": "3.9.13"
  }
 },
 "nbformat": 4,
 "nbformat_minor": 5
}
