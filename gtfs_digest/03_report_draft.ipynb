{
 "cells": [
  {
   "cell_type": "code",
   "execution_count": null,
   "id": "936e2c22-24ba-4f20-99d8-846cfe0a4e27",
   "metadata": {},
   "outputs": [],
   "source": [
    "%%capture\n",
    "import warnings\n",
    "warnings.filterwarnings('ignore')\n",
    "\n",
    "import _report_utils as utils\n",
    "import great_tables as gt\n",
    "import pandas as pd\n",
    "from IPython.display import HTML, Image, Markdown, display, display_html\n"
   ]
  },
  {
   "cell_type": "code",
   "execution_count": null,
   "id": "b89867bd-a089-4033-97d7-d6d1ae50b697",
   "metadata": {},
   "outputs": [],
   "source": [
    "pd.options.display.max_columns = 100\n",
    "pd.options.display.float_format = \"{:.2f}\".format\n",
    "pd.set_option(\"display.max_rows\", None)\n",
    "pd.set_option(\"display.max_colwidth\", None)"
   ]
  },
  {
   "cell_type": "code",
   "execution_count": null,
   "id": "6bd20d9d-a3af-430e-8c19-c90fb8ef9e62",
   "metadata": {},
   "outputs": [],
   "source": [
    "name = \"Bay Area 511 Muni Schedule\""
   ]
  },
  {
   "cell_type": "code",
   "execution_count": null,
   "id": "d870c492-ef2c-45f6-ab47-8d46eda7f344",
   "metadata": {
    "tags": [
     "parameters"
    ]
   },
   "outputs": [],
   "source": [
    "# %%capture_parameters\n",
    "# name"
   ]
  },
  {
   "cell_type": "code",
   "execution_count": null,
   "id": "0dd3557c-3ec2-450f-82f8-b792412c0785",
   "metadata": {},
   "outputs": [],
   "source": [
    "sched_vp = utils.load_schedule_vp_metrics(name)"
   ]
  },
  {
   "cell_type": "code",
   "execution_count": null,
   "id": "bd58d6be-a8be-4daa-a7c5-cb0e7df239c5",
   "metadata": {},
   "outputs": [],
   "source": [
    "monthly = utils.summarize_monthly(\"2023\", name)"
   ]
  },
  {
   "cell_type": "code",
   "execution_count": null,
   "id": "a4c59748-4ea8-48a1-9b83-adb6352c62d0",
   "metadata": {},
   "outputs": [],
   "source": [
    "display(\n",
    "        Markdown(\n",
    "            f\"\"\"<h1 style=\"border-bottom: 3px solid #8CBCCB;\"><b>Overview for {name}</b></h1>\n",
    "        \"\"\"\n",
    "        )\n",
    "    )"
   ]
  },
  {
   "cell_type": "code",
   "execution_count": null,
   "id": "6973f1b0-2dfa-47b1-b72f-3980515b7f39",
   "metadata": {},
   "outputs": [],
   "source": [
    "utils.single_bar_chart_dropdown(\n",
    "    monthly,\n",
    "    \"day_type\",\n",
    "    \"ttl_service_hours\",\n",
    "    \"time_of_day\",\n",
    "    \"Average Total Service Hours across all Routes in 2023\",\n",
    "    \"full_date\",\n",
    ")"
   ]
  },
  {
   "cell_type": "code",
   "execution_count": null,
   "id": "6c854432-4c78-4dce-aec5-d6c1a86f0f7d",
   "metadata": {},
   "outputs": [],
   "source": [
    "utils.trips_by_gtfs(sched_vp)"
   ]
  },
  {
   "cell_type": "code",
   "execution_count": null,
   "id": "5ad407a1-b191-4f0e-979f-27eeabfa0041",
   "metadata": {},
   "outputs": [],
   "source": [
    "utils.route_categories(sched_vp)"
   ]
  },
  {
   "cell_type": "code",
   "execution_count": null,
   "id": "2f99cbc8-969f-4da2-bacc-2bd4d1aef0b0",
   "metadata": {},
   "outputs": [],
   "source": [
    "display(\n",
    "        Markdown(\n",
    "            f\"\"\"<h2 style=\"border-bottom: 3px solid #8CBCCB;\"><b>Route-Direction Overview</b></h2>\n",
    "            <br>Please scroll down to the bottom to filter for a specific route. \n",
    "        \"\"\"\n",
    "        )\n",
    "    )"
   ]
  },
  {
   "cell_type": "code",
   "execution_count": null,
   "id": "5bdf4110-f1d5-4d03-ab47-a7a78958dbcc",
   "metadata": {},
   "outputs": [],
   "source": [
    "utils.filtered_route(sched_vp)"
   ]
  }
 ],
 "metadata": {
  "kernelspec": {
   "display_name": "Python 3 (ipykernel)",
   "language": "python",
   "name": "python3"
  },
  "language_info": {
   "codemirror_mode": {
    "name": "ipython",
    "version": 3
   },
   "file_extension": ".py",
   "mimetype": "text/x-python",
   "name": "python",
   "nbconvert_exporter": "python",
   "pygments_lexer": "ipython3",
   "version": "3.9.13"
  }
 },
 "nbformat": 4,
 "nbformat_minor": 5
}
