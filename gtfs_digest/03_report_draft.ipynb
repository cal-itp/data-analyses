{
 "cells": [
  {
   "cell_type": "code",
   "execution_count": null,
   "id": "936e2c22-24ba-4f20-99d8-846cfe0a4e27",
   "metadata": {},
   "outputs": [],
   "source": [
    "%%capture\n",
    "\n",
    "import calitp_data_analysis.magics\n",
    "\n",
    "import warnings\n",
    "warnings.filterwarnings('ignore')\n",
    "\n",
    "import _report_utils as utils\n",
    "import great_tables as gt\n",
    "import pandas as pd\n",
    "from IPython.display import HTML, Image, Markdown, display, display_html"
   ]
  },
  {
   "cell_type": "code",
   "execution_count": null,
   "id": "b89867bd-a089-4033-97d7-d6d1ae50b697",
   "metadata": {},
   "outputs": [],
   "source": [
    "pd.options.display.max_columns = 100\n",
    "pd.options.display.float_format = \"{:.2f}\".format\n",
    "pd.set_option(\"display.max_rows\", None)\n",
    "pd.set_option(\"display.max_colwidth\", None)"
   ]
  },
  {
   "cell_type": "code",
   "execution_count": null,
   "id": "6bd20d9d-a3af-430e-8c19-c90fb8ef9e62",
   "metadata": {
    "tags": [
     "parameters"
    ]
   },
   "outputs": [],
   "source": [
    "# name = \"Eastern Sierra Schedule\""
   ]
  },
  {
   "cell_type": "code",
   "execution_count": null,
   "id": "d870c492-ef2c-45f6-ab47-8d46eda7f344",
   "metadata": {
    "tags": []
   },
   "outputs": [],
   "source": [
    "%%capture_parameters\n",
    "name"
   ]
  },
  {
   "cell_type": "code",
   "execution_count": null,
   "id": "0dd3557c-3ec2-450f-82f8-b792412c0785",
   "metadata": {},
   "outputs": [],
   "source": [
    "sched_vp_df = utils.load_schedule_vp_metrics(name)"
   ]
  },
  {
   "cell_type": "code",
   "execution_count": null,
   "id": "a0086203-5de0-49cc-b3e5-95991f8edc69",
   "metadata": {},
   "outputs": [],
   "source": [
    "gtfs_schedule_keys = list(sched_vp_df.schedule_gtfs_dataset_key.unique())"
   ]
  },
  {
   "cell_type": "code",
   "execution_count": null,
   "id": "83e64546-97ed-4ba9-a8f6-c09aea1eb64e",
   "metadata": {},
   "outputs": [],
   "source": [
    "monthly_df = utils.summarize_monthly(\"2023\", name)"
   ]
  },
  {
   "cell_type": "code",
   "execution_count": null,
   "id": "73d0315c-adca-4280-b50a-a1565659039a",
   "metadata": {},
   "outputs": [],
   "source": [
    "schedule_rt_cat_df = utils.load_operator_schedule_rt_category(gtfs_schedule_keys)"
   ]
  },
  {
   "cell_type": "markdown",
   "id": "38103db9-fd56-4cbf-9fa7-336da58fd3f6",
   "metadata": {},
   "source": [
    "# Overview for {name}"
   ]
  },
  {
   "cell_type": "code",
   "execution_count": null,
   "id": "c2e848be-1427-4cb1-94e2-85c9ed74359c",
   "metadata": {},
   "outputs": [],
   "source": [
    "display(\n",
    "        Markdown(\n",
    "            f\"\"\"<h2><b>Operator Overview - To Come</b></h2>\n",
    "        \"\"\"\n",
    "        )\n",
    "    )"
   ]
  },
  {
   "cell_type": "code",
   "execution_count": null,
   "id": "72333819-4dce-43b3-8744-1dc439c777ff",
   "metadata": {},
   "outputs": [],
   "source": [
    "display(\n",
    "        Markdown(\n",
    "            f\"\"\"<h2><b>Route-Direction Monthly Overview</b></h2>\n",
    "        \"\"\"\n",
    "        )\n",
    "    )"
   ]
  },
  {
   "cell_type": "code",
   "execution_count": null,
   "id": "6973f1b0-2dfa-47b1-b72f-3980515b7f39",
   "metadata": {},
   "outputs": [],
   "source": [
    "utils.single_bar_chart_dropdown(\n",
    "    monthly_df,\n",
    "    \"day_type\",\n",
    "    \"ttl_service_hours\",\n",
    "    \"time_of_day\",\n",
    "    \"Average Total Service Hours across all Routes per Month in 2023\",\n",
    "    \"full_date\",\n",
    ")"
   ]
  },
  {
   "cell_type": "code",
   "execution_count": null,
   "id": "6c854432-4c78-4dce-aec5-d6c1a86f0f7d",
   "metadata": {},
   "outputs": [],
   "source": [
    "utils.trips_by_gtfs(sched_vp_df)"
   ]
  },
  {
   "cell_type": "code",
   "execution_count": null,
   "id": "5ad407a1-b191-4f0e-979f-27eeabfa0041",
   "metadata": {},
   "outputs": [],
   "source": [
    "utils.route_categories(sched_vp_df)"
   ]
  },
  {
   "cell_type": "code",
   "execution_count": null,
   "id": "68ff406d-58b9-4020-b452-98dad400c649",
   "metadata": {},
   "outputs": [],
   "source": [
    "utils.basic_bar_chart(\n",
    "    schedule_rt_cat_df,\n",
    "    \"n_trips\",\n",
    "    \"sched_rt_category\",\n",
    "    \"Trips that were found in GTFS, Schedule, or Both Data Sources\",\n",
    "    \"Ideally, all trips would be found in both data sources.\",\n",
    ")"
   ]
  },
  {
   "cell_type": "code",
   "execution_count": null,
   "id": "2f99cbc8-969f-4da2-bacc-2bd4d1aef0b0",
   "metadata": {},
   "outputs": [],
   "source": [
    "display(\n",
    "        Markdown(\n",
    "            f\"\"\"<h2><b>Route-Direction Overview</b></h2>\n",
    "            <br>Statistics presented on the <b>route</b> level. Scroll down to filter for a specific route. \n",
    "        \"\"\"\n",
    "        )\n",
    "    )"
   ]
  },
  {
   "cell_type": "code",
   "execution_count": null,
   "id": "5bdf4110-f1d5-4d03-ab47-a7a78958dbcc",
   "metadata": {},
   "outputs": [],
   "source": [
    "utils.filtered_route(sched_vp_df)"
   ]
  }
 ],
 "metadata": {
  "kernelspec": {
   "display_name": "Python 3 (ipykernel)",
   "language": "python",
   "name": "python3"
  },
  "language_info": {
   "codemirror_mode": {
    "name": "ipython",
    "version": 3
   },
   "file_extension": ".py",
   "mimetype": "text/x-python",
   "name": "python",
   "nbconvert_exporter": "python",
   "pygments_lexer": "ipython3",
   "version": "3.9.13"
  }
 },
 "nbformat": 4,
 "nbformat_minor": 5
}
