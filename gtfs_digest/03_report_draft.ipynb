{
 "cells": [
  {
   "cell_type": "code",
   "execution_count": null,
   "id": "936e2c22-24ba-4f20-99d8-846cfe0a4e27",
   "metadata": {},
   "outputs": [],
   "source": [
    "%%capture\n",
    "\n",
    "import warnings\n",
    "\n",
    "warnings.filterwarnings(\"ignore\")\n",
    "\n",
    "import _section1_utils as section1\n",
    "import _section3_utils as section3\n",
    "import calitp_data_analysis.magics\n",
    "import great_tables as gt\n",
    "import pandas as pd\n",
    "from IPython.display import HTML, Image, Markdown, display, display_html\n",
    "from shared_utils import catalog_utils, rt_dates, rt_utils"
   ]
  },
  {
   "cell_type": "code",
   "execution_count": null,
   "id": "b89867bd-a089-4033-97d7-d6d1ae50b697",
   "metadata": {},
   "outputs": [],
   "source": [
    "pd.options.display.max_columns = 100\n",
    "pd.options.display.float_format = \"{:.2f}\".format\n",
    "pd.set_option(\"display.max_rows\", None)\n",
    "pd.set_option(\"display.max_colwidth\", None)"
   ]
  },
  {
   "cell_type": "code",
   "execution_count": null,
   "id": "6bd20d9d-a3af-430e-8c19-c90fb8ef9e62",
   "metadata": {
    "tags": [
     "parameters"
    ]
   },
   "outputs": [],
   "source": [
    "# Comment out and leave this cell right below pandas\n",
    "# organization_name = \"City of Lawndale\""
   ]
  },
  {
   "cell_type": "code",
   "execution_count": null,
   "id": "d870c492-ef2c-45f6-ab47-8d46eda7f344",
   "metadata": {
    "tags": []
   },
   "outputs": [],
   "source": [
    "%%capture_parameters\n",
    "organization_name"
   ]
  },
  {
   "cell_type": "code",
   "execution_count": null,
   "id": "f7915371-6931-48a3-a03a-a1929970ec89",
   "metadata": {},
   "outputs": [],
   "source": [
    "most_recent_date = pd.to_datetime(rt_dates.DATES[\"mar2024\"])\n",
    "year = most_recent_date.year"
   ]
  },
  {
   "cell_type": "code",
   "execution_count": null,
   "id": "a3830091-4bc5-42b4-963d-588554f8ab10",
   "metadata": {},
   "outputs": [],
   "source": [
    "# Testing certain operators\n",
    "# organization_name = \"Peninsula Corridor Joint Powers Board\"\n",
    "# organization_name = \"City and County of San Francisco\""
   ]
  },
  {
   "cell_type": "code",
   "execution_count": null,
   "id": "b8e11fd2-041f-4e1d-a00f-6e000269c1a7",
   "metadata": {},
   "outputs": [],
   "source": [
    "# Load first dataset\n",
    "operator_profiles = section1.load_operator_profiles(organization_name)"
   ]
  },
  {
   "cell_type": "code",
   "execution_count": null,
   "id": "8e840f91-2e1a-4235-bf6b-0c049a569b4a",
   "metadata": {},
   "outputs": [],
   "source": [
    "# Need to load \"name\" using this function rather than taking it from\n",
    "# operator profiles above because it differs.\n",
    "name = section1.organization_name_crosswalk(organization_name)"
   ]
  },
  {
   "cell_type": "code",
   "execution_count": null,
   "id": "5d7299ad-0446-4a42-9652-a44617e4d2e7",
   "metadata": {},
   "outputs": [],
   "source": [
    "GTFS_DATA_DICT = catalog_utils.get_catalog(\"gtfs_analytics_data\")"
   ]
  },
  {
   "cell_type": "code",
   "execution_count": null,
   "id": "5b002155-25c2-4e2b-9729-8510abbef4b0",
   "metadata": {},
   "outputs": [],
   "source": [
    "# Datasets for Section 1\n",
    "operator_route_map = section1.load_operator_map(name)\n",
    "monthly_scheduled_service = section1.summarize_monthly(name)"
   ]
  },
  {
   "cell_type": "code",
   "execution_count": null,
   "id": "f07ccefc-0d71-4ad0-8435-9e2941aba9b2",
   "metadata": {},
   "outputs": [],
   "source": [
    "# Datasets for Section 2\n",
    "sched_vp_df = section3.load_schedule_vp_metrics(organization_name)\n",
    "gtfs_schedule_keys = list(sched_vp_df.schedule_gtfs_dataset_key.unique())"
   ]
  },
  {
   "cell_type": "code",
   "execution_count": null,
   "id": "67a74771-f5c1-4757-9f79-bc5e87fba09e",
   "metadata": {},
   "outputs": [],
   "source": [
    "# Set drop down menu to be on the upper right\n",
    "display(\n",
    "    HTML(\n",
    "        \"\"\"\n",
    "<style>\n",
    "form.vega-bindings {\n",
    "  position: absolute;\n",
    "  right: 0px;\n",
    "  top: 0px;\n",
    "}\n",
    "</style>\n",
    "\"\"\"\n",
    "    )\n",
    ")"
   ]
  },
  {
   "cell_type": "markdown",
   "id": "38103db9-fd56-4cbf-9fa7-336da58fd3f6",
   "metadata": {
    "tags": [
     "parameters"
    ]
   },
   "source": [
    "# {organization_name}"
   ]
  },
  {
   "cell_type": "code",
   "execution_count": null,
   "id": "9724e2c8-eb1a-4ac0-9890-02535d17504b",
   "metadata": {},
   "outputs": [],
   "source": [
    "display(\n",
    "    Markdown(\n",
    "        f\"\"\"<h2 style=\"border-bottom: 3px solid #8CBCCB;\"><b>Operator Overview</b></h2>\n",
    "        \"\"\"\n",
    "    )\n",
    ")"
   ]
  },
  {
   "cell_type": "code",
   "execution_count": null,
   "id": "65e5efa4-e731-4429-ae8c-31f90dc4fbf0",
   "metadata": {},
   "outputs": [],
   "source": [
    "try:\n",
    "    date = operator_profiles[\"Date\"].dt.to_pydatetime()[0]\n",
    "except:\n",
    "    pass"
   ]
  },
  {
   "cell_type": "code",
   "execution_count": null,
   "id": "c2bb8f59-af0f-4ab1-9b33-e9306ff5b92f",
   "metadata": {},
   "outputs": [],
   "source": [
    "try:\n",
    "    display(\n",
    "        Markdown(\n",
    "            f\"\"\"This section presents an overview of statistics for {organization_name}, using data from the most recent date of\n",
    "      {date.month}/{date.year}.\"\"\"\n",
    "        )\n",
    "    )\n",
    "except:\n",
    "    pass"
   ]
  },
  {
   "cell_type": "code",
   "execution_count": null,
   "id": "232e2002-d043-43c1-80d2-22c1183c66a1",
   "metadata": {},
   "outputs": [],
   "source": [
    "try:\n",
    "    display(\n",
    "        Markdown(\n",
    "            f\"\"\"{organization_name} ran <b>{operator_profiles['# routes'].values[0]}</b> \n",
    "        unique routes. Below is the breakdown of the routes.\"\"\"\n",
    "        )\n",
    "    )\n",
    "except:\n",
    "    display(Markdown(f\"\"\"{organization_name} doesn't have an operator profile.\"\"\"))"
   ]
  },
  {
   "cell_type": "code",
   "execution_count": null,
   "id": "da0a1127-ce99-4e6d-a36b-029575e05c0f",
   "metadata": {},
   "outputs": [],
   "source": [
    "try:\n",
    "    route_typology_df = section1.route_typology(operator_profiles)\n",
    "except:\n",
    "    display(\n",
    "        Markdown(f\"\"\"{organization_name} doesn't have route typologies available.\"\"\")\n",
    "    )"
   ]
  },
  {
   "cell_type": "code",
   "execution_count": null,
   "id": "c96d1998-9da6-4c28-aec6-c27ffd1edd88",
   "metadata": {},
   "outputs": [],
   "source": [
    "if route_typology_df.total_routes.sum() == 0:\n",
    "    display(\n",
    "        Markdown(f\"\"\"{organization_name} doesn't have route typologies available.\"\"\")\n",
    "    )\n",
    "else:\n",
    "    display(\n",
    "        section1.basic_pie_chart(\n",
    "            route_typology_df,\n",
    "            \"route_type\",\n",
    "            \"total_routes\",\n",
    "            \"Total Routes by Typology\",\n",
    "        )\n",
    "    )"
   ]
  },
  {
   "cell_type": "code",
   "execution_count": null,
   "id": "f7f617f8-338d-4ea0-99e7-25c1bfe62e06",
   "metadata": {},
   "outputs": [],
   "source": [
    "try:\n",
    "    display(\n",
    "        Markdown(\n",
    "            f\"\"\"{organization_name} provided <b>{int(operator_profiles['service miles'].values[0])}</b> miles of public transit.\n",
    "        The average length of a route is <b>{int(operator_route_map['service miles'].mean())}</b> miles.\n",
    "        \"\"\"\n",
    "        )\n",
    "    )\n",
    "except:\n",
    "    pass"
   ]
  },
  {
   "cell_type": "code",
   "execution_count": null,
   "id": "0b240e52-b3c5-439e-8c34-ede92c1e45cb",
   "metadata": {},
   "outputs": [],
   "source": [
    "try:\n",
    "    display(\n",
    "        section1.basic_bar_chart(\n",
    "            section1.shortest_longest_route(operator_route_map),\n",
    "            \"service miles\",\n",
    "            \"Route\",\n",
    "            f\"Longest and Shortest Route\",\n",
    "        )\n",
    "    )\n",
    "except:\n",
    "    pass"
   ]
  },
  {
   "cell_type": "code",
   "execution_count": null,
   "id": "821bca2d-7fdd-4e81-af9b-c02deabfe837",
   "metadata": {},
   "outputs": [],
   "source": [
    "display(\n",
    "    Markdown(f\"{organization_name} provides public transit in the following counties:\")\n",
    ")"
   ]
  },
  {
   "cell_type": "code",
   "execution_count": null,
   "id": "b1665382-75c0-4aca-9a59-37c3604f4ad7",
   "metadata": {},
   "outputs": [],
   "source": [
    "try:\n",
    "    section1.counties_served(operator_route_map)\n",
    "except:\n",
    "    display(Markdown(f\"\"\"{organization_name} doesn't have an route geographies.\"\"\"))"
   ]
  },
  {
   "cell_type": "code",
   "execution_count": null,
   "id": "daaf9009-6a25-441e-a58d-66b60d04d35c",
   "metadata": {},
   "outputs": [],
   "source": [
    "try:\n",
    "    display(\n",
    "        Markdown(\n",
    "            f\"\"\"{organization_name} stopped at <b>{int(operator_profiles['# stops'].values[0])}</b> unique stops, \n",
    "            totaling to <b>{int(operator_profiles['# arrivals'].values[0])}</b> arrivals. The average arrivals per stop \n",
    "            was <b>{int(operator_profiles['avg arrivals per stop'].values[0])}</b>.\n",
    "        \"\"\"\n",
    "        )\n",
    "    )\n",
    "except:\n",
    "    pass"
   ]
  },
  {
   "cell_type": "code",
   "execution_count": null,
   "id": "f65ff874-eaff-4d18-ba64-f0d708d2f426",
   "metadata": {},
   "outputs": [],
   "source": [
    "display(\n",
    "    Markdown(f\"Use the dropdown menu on the right to select a date to view Total Scheduled Service Hours by month.\")\n",
    ")"
   ]
  },
  {
   "cell_type": "code",
   "execution_count": null,
   "id": "1c58b5b4-ec0c-4101-a18b-695e5f26eda7",
   "metadata": {},
   "outputs": [],
   "source": [
    "monthly_scheduled_service_df_agg = section1.summarize_monthly(name)"
   ]
  },
  {
   "cell_type": "code",
   "execution_count": null,
   "id": "716419e0-5ab8-47fd-a02b-c8329ec226ba",
   "metadata": {},
   "outputs": [],
   "source": [
    "section1.single_bar_chart_dropdown(\n",
    "    monthly_scheduled_service_df_agg,\n",
    "    \"day of week\",\n",
    "    \"total service (hours)\",\n",
    "    \"time of day\",\n",
    "    \"Total Scheduled Service Hours\",\n",
    "    \"full_date\",\n",
    ")"
   ]
  },
  {
   "cell_type": "code",
   "execution_count": null,
   "id": "6ca1dcfd-df73-49ba-80fa-dba917c7d8cb",
   "metadata": {},
   "outputs": [],
   "source": [
    "display(\n",
    "    Markdown(\n",
    "        f\"\"\"<h2 style=\"border-bottom: 3px solid #8CBCCB;\"><b>Detailed Route-Direction Overview</b></h2><br>\n",
    "               \n",
    "        \"\"\"\n",
    "    )\n",
    ")"
   ]
  },
  {
   "cell_type": "code",
   "execution_count": null,
   "id": "6c854432-4c78-4dce-aec5-d6c1a86f0f7d",
   "metadata": {},
   "outputs": [],
   "source": [
    "section3.trips_by_gtfs(sched_vp_df)"
   ]
  },
  {
   "cell_type": "code",
   "execution_count": null,
   "id": "9fbe546f-1c29-4011-b653-c7f35ffb5e20",
   "metadata": {},
   "outputs": [],
   "source": [
    "display(\n",
    "    Markdown(\n",
    "        f\"\"\"Statistics presented on the <b>route</b> level. Scroll down to filter for a specific route. \n",
    "           \"\"\"\n",
    "    )\n",
    ")"
   ]
  },
  {
   "cell_type": "code",
   "execution_count": null,
   "id": "5bdf4110-f1d5-4d03-ab47-a7a78958dbcc",
   "metadata": {},
   "outputs": [],
   "source": [
    "section3.filtered_route(sched_vp_df)"
   ]
  }
 ],
 "metadata": {
  "kernelspec": {
   "display_name": "Python 3 (ipykernel)",
   "language": "python",
   "name": "python3"
  },
  "language_info": {
   "codemirror_mode": {
    "name": "ipython",
    "version": 3
   },
   "file_extension": ".py",
   "mimetype": "text/x-python",
   "name": "python",
   "nbconvert_exporter": "python",
   "pygments_lexer": "ipython3",
   "version": "3.9.13"
  }
 },
 "nbformat": 4,
 "nbformat_minor": 5
}
