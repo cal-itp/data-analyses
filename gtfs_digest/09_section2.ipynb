{
 "cells": [
  {
   "cell_type": "markdown",
   "id": "09d8e01f-67ea-455d-8b98-2462a61de261",
   "metadata": {},
   "source": [
    "# Section 2\n",
    "* All of the sudden, the graphs don't work when concatting them together. \n",
    "* Start a fresh nb to debug."
   ]
  },
  {
   "cell_type": "code",
   "execution_count": 1,
   "id": "3d550c13-1d7d-4a9e-b9ae-5f39e16086d2",
   "metadata": {},
   "outputs": [
    {
     "data": {
      "text/plain": [
       "DataTransformerRegistry.enable('default')"
      ]
     },
     "execution_count": 1,
     "metadata": {},
     "output_type": "execute_result"
    }
   ],
   "source": [
    "import _report_utils\n",
    "import _section2_utils as section2\n",
    "import altair as alt\n",
    "import geopandas as gpd\n",
    "import great_tables as gt\n",
    "import pandas as pd\n",
    "from calitp_data_analysis import calitp_color_palette as cp\n",
    "from great_tables import md\n",
    "from IPython.display import HTML, Markdown, display\n",
    "from segment_speed_utils.project_vars import RT_SCHED_GCS, SCHED_GCS\n",
    "from shared_utils import catalog_utils, rt_dates, rt_utils\n",
    "\n",
    "alt.renderers.enable(\"html\")\n",
    "alt.data_transformers.enable(\"default\", max_rows=None)"
   ]
  },
  {
   "cell_type": "code",
   "execution_count": 2,
   "id": "dfd3c641-fa1e-4808-93f7-77b9eae256c5",
   "metadata": {},
   "outputs": [],
   "source": [
    "pd.options.display.max_columns = 100\n",
    "pd.options.display.float_format = \"{:.2f}\".format\n",
    "pd.set_option(\"display.max_rows\", None)\n",
    "pd.set_option(\"display.max_colwidth\", None)"
   ]
  },
  {
   "cell_type": "code",
   "execution_count": 3,
   "id": "a393ae1e-7b43-47aa-94c6-daf0fee558dd",
   "metadata": {},
   "outputs": [],
   "source": [
    "GTFS_DATA_DICT = catalog_utils.get_catalog(\"gtfs_analytics_data\")\n",
    "import yaml\n",
    "\n",
    "with open(\"readable.yml\") as f:\n",
    "    readable_dict = yaml.safe_load(f)"
   ]
  },
  {
   "cell_type": "code",
   "execution_count": 4,
   "id": "53341a4b-f840-41df-a4fb-ac50f495a339",
   "metadata": {},
   "outputs": [
    {
     "data": {
      "text/html": [
       "\n",
       "<style>\n",
       "form.vega-bindings {\n",
       "  position: absolute;\n",
       "  right: 0px;\n",
       "  top: 0px;\n",
       "}\n",
       "</style>\n"
      ],
      "text/plain": [
       "<IPython.core.display.HTML object>"
      ]
     },
     "metadata": {},
     "output_type": "display_data"
    }
   ],
   "source": [
    "# Set drop down menu to be on the upper right\n",
    "display(\n",
    "    HTML(\n",
    "        \"\"\"\n",
    "<style>\n",
    "form.vega-bindings {\n",
    "  position: absolute;\n",
    "  right: 0px;\n",
    "  top: 0px;\n",
    "}\n",
    "</style>\n",
    "\"\"\"\n",
    "    )\n",
    ")"
   ]
  },
  {
   "cell_type": "markdown",
   "id": "f8f04df8-a4a8-47b8-b8fa-98aa0f0d2201",
   "metadata": {},
   "source": [
    "## Data"
   ]
  },
  {
   "cell_type": "code",
   "execution_count": 5,
   "id": "64cdab9d-753e-421e-88a8-c19775f80536",
   "metadata": {},
   "outputs": [],
   "source": [
    "org_name = \"City and County of San Francisco\""
   ]
  },
  {
   "cell_type": "code",
   "execution_count": 6,
   "id": "dcff3245-56f2-4f99-9c44-c2b68356928e",
   "metadata": {},
   "outputs": [],
   "source": [
    "df = section2.load_schedule_vp_metrics(org_name)"
   ]
  },
  {
   "cell_type": "code",
   "execution_count": 15,
   "id": "9a7ea3f4-1877-446e-ab84-6416adccd6a0",
   "metadata": {},
   "outputs": [
    {
     "data": {
      "text/plain": [
       "all_day    1623\n",
       "offpeak    1570\n",
       "peak       1461\n",
       "Name: Period, dtype: int64"
      ]
     },
     "execution_count": 15,
     "metadata": {},
     "output_type": "execute_result"
    }
   ],
   "source": [
    "df.Period.value_counts()"
   ]
  },
  {
   "cell_type": "code",
   "execution_count": 7,
   "id": "1296d4fc-569d-44ee-9a88-2581b870e05a",
   "metadata": {},
   "outputs": [],
   "source": [
    "all_day = df.loc[df[\"Period\"] == \"all_day\"]"
   ]
  },
  {
   "cell_type": "code",
   "execution_count": 8,
   "id": "18af6c7d-d138-4333-af6c-2d4ecceddd77",
   "metadata": {},
   "outputs": [],
   "source": [
    "timeliness_df = section2.timeliness_trips(df)"
   ]
  },
  {
   "cell_type": "code",
   "execution_count": 9,
   "id": "45155ab7-27b7-4a02-8765-bc204a2be0c0",
   "metadata": {},
   "outputs": [],
   "source": [
    "#section2.filtered_route(df)"
   ]
  },
  {
   "cell_type": "markdown",
   "id": "92fdb563-6111-4fa0-8065-45353baf57e1",
   "metadata": {},
   "source": [
    "## Charts"
   ]
  },
  {
   "cell_type": "markdown",
   "id": "8e58d21d-bd5b-443d-8e84-c94f8b589638",
   "metadata": {
    "tags": []
   },
   "source": [
    "### Text"
   ]
  },
  {
   "cell_type": "code",
   "execution_count": 12,
   "id": "01603302-9680-4488-98ea-40d24978f694",
   "metadata": {},
   "outputs": [],
   "source": [
    "most_recent_date = df[\"Date\"].max()\n",
    "route_merge_cols = [\"Route\", \"Direction\"]\n",
    "\n",
    "all_day_stats = df[(df[\"Date\"] == most_recent_date) & (df[\"Period\"] == \"all_day\")][\n",
    "        route_merge_cols\n",
    "        + [\n",
    "            \"Average Scheduled Service (trip minutes)\",\n",
    "            \"Average Stop Distance (miles)\",\n",
    "            \"# scheduled trips\",\n",
    "            \"GTFS Availability\",\n",
    "        ]\n",
    "    ]"
   ]
  },
  {
   "cell_type": "code",
   "execution_count": 14,
   "id": "485c56ce-16a4-4931-9082-8b3729b32383",
   "metadata": {},
   "outputs": [
    {
     "data": {
      "text/html": [
       "<div>\n",
       "<style scoped>\n",
       "    .dataframe tbody tr th:only-of-type {\n",
       "        vertical-align: middle;\n",
       "    }\n",
       "\n",
       "    .dataframe tbody tr th {\n",
       "        vertical-align: top;\n",
       "    }\n",
       "\n",
       "    .dataframe thead th {\n",
       "        text-align: right;\n",
       "    }\n",
       "</style>\n",
       "<table border=\"1\" class=\"dataframe\">\n",
       "  <thead>\n",
       "    <tr style=\"text-align: right;\">\n",
       "      <th></th>\n",
       "      <th>Route</th>\n",
       "      <th>Direction</th>\n",
       "      <th>Average Scheduled Service (trip minutes)</th>\n",
       "      <th>Average Stop Distance (miles)</th>\n",
       "      <th># scheduled trips</th>\n",
       "      <th>GTFS Availability</th>\n",
       "    </tr>\n",
       "  </thead>\n",
       "  <tbody>\n",
       "    <tr>\n",
       "      <th>11</th>\n",
       "      <td>1 CALIFORNIA</td>\n",
       "      <td>0.00</td>\n",
       "      <td>37.99</td>\n",
       "      <td>0.11</td>\n",
       "      <td>175</td>\n",
       "      <td>schedule_and_vp</td>\n",
       "    </tr>\n",
       "    <tr>\n",
       "      <th>47</th>\n",
       "      <td>1 CALIFORNIA</td>\n",
       "      <td>1.00</td>\n",
       "      <td>36.35</td>\n",
       "      <td>0.10</td>\n",
       "      <td>178</td>\n",
       "      <td>schedule_and_vp</td>\n",
       "    </tr>\n",
       "    <tr>\n",
       "      <th>83</th>\n",
       "      <td>12 FOLSOM-PACIFIC</td>\n",
       "      <td>0.00</td>\n",
       "      <td>38.59</td>\n",
       "      <td>0.11</td>\n",
       "      <td>85</td>\n",
       "      <td>schedule_and_vp</td>\n",
       "    </tr>\n",
       "    <tr>\n",
       "      <th>119</th>\n",
       "      <td>12 FOLSOM-PACIFIC</td>\n",
       "      <td>1.00</td>\n",
       "      <td>42.31</td>\n",
       "      <td>0.12</td>\n",
       "      <td>85</td>\n",
       "      <td>schedule_and_vp</td>\n",
       "    </tr>\n",
       "    <tr>\n",
       "      <th>155</th>\n",
       "      <td>14 MISSION</td>\n",
       "      <td>0.00</td>\n",
       "      <td>47.98</td>\n",
       "      <td>0.16</td>\n",
       "      <td>156</td>\n",
       "      <td>schedule_and_vp</td>\n",
       "    </tr>\n",
       "  </tbody>\n",
       "</table>\n",
       "</div>"
      ],
      "text/plain": [
       "                 Route  Direction  Average Scheduled Service (trip minutes)  \\\n",
       "11        1 CALIFORNIA       0.00                                     37.99   \n",
       "47        1 CALIFORNIA       1.00                                     36.35   \n",
       "83   12 FOLSOM-PACIFIC       0.00                                     38.59   \n",
       "119  12 FOLSOM-PACIFIC       1.00                                     42.31   \n",
       "155         14 MISSION       0.00                                     47.98   \n",
       "\n",
       "     Average Stop Distance (miles)  # scheduled trips GTFS Availability  \n",
       "11                            0.11                175   schedule_and_vp  \n",
       "47                            0.10                178   schedule_and_vp  \n",
       "83                            0.11                 85   schedule_and_vp  \n",
       "119                           0.12                 85   schedule_and_vp  \n",
       "155                           0.16                156   schedule_and_vp  "
      ]
     },
     "execution_count": 14,
     "metadata": {},
     "output_type": "execute_result"
    }
   ],
   "source": [
    "all_day_stats.head()"
   ]
  },
  {
   "cell_type": "code",
   "execution_count": null,
   "id": "8be52328-ca55-403c-9947-b805e2592668",
   "metadata": {},
   "outputs": [],
   "source": [
    "def route_stats(df: pd.DataFrame) -> pd.DataFrame:\n",
    "    most_recent_date = df[\"Date\"].max()\n",
    "    route_merge_cols = [\"Route\", \"Direction\"]\n",
    "\n",
    "    all_day_stats = df[(df[\"Date\"] == most_recent_date) & (df[\"Period\"] == \"All Day\")][\n",
    "        route_merge_cols\n",
    "        + [\n",
    "            \"Average Scheduled Service (trip minutes)\",\n",
    "            \"Average Stop Distance (miles)\",\n",
    "            \"# scheduled trips\",\n",
    "            \"GTFS Availability\",\n",
    "        ]\n",
    "    ]\n",
    "\n",
    "    peak_stats = df[(df[\"Date\"] == most_recent_date) & (df[\"Period\"] == \"Peak\")][\n",
    "        route_merge_cols + [\"Speed (MPH)\", \"# scheduled trips\", \"Trips per Hour\"]\n",
    "    ].rename(\n",
    "        columns={\n",
    "            \"Speed (MPH)\": \"peak_avg_speed\",\n",
    "            \"# scheduled trips\": \"peak_scheduled_trips\",\n",
    "            \"Trips per Hour\": \"peak_hourly_freq\",\n",
    "        }\n",
    "    )\n",
    "\n",
    "    offpeak_stats = df[(df[\"Date\"] == most_recent_date) & (df[\"Period\"] == \"Offpeak\")][\n",
    "        route_merge_cols + [\"Speed (MPH)\", \"# scheduled trips\", \"Trips per Hour\"]\n",
    "    ].rename(\n",
    "        columns={\n",
    "            \"Speed (MPH)\": \"offpeak_avg_speed\",\n",
    "            \"# scheduled trips\": \"offpeak_scheduled_trips\",\n",
    "            \"frequency\": \"offpeak_hourly_freq\",\n",
    "        }\n",
    "    )\n",
    "\n",
    "    table_df = (\n",
    "        pd.merge(all_day_stats, peak_stats, on=route_merge_cols, how=\"outer\")\n",
    "        .merge(offpeak_stats, on=route_merge_cols, how=\"outer\")\n",
    "        .sort_values([\"Route\", \"Direction\"])\n",
    "        .reset_index(drop=True)\n",
    "    )\n",
    "\n",
    "    numeric_cols = table_df.select_dtypes(include=\"number\").columns\n",
    "    table_df[numeric_cols] = table_df[numeric_cols].fillna(0)\n",
    "    table_df.columns = table_df.columns.str.title().str.replace(\"_\", \" \")\n",
    "    return table_df"
   ]
  },
  {
   "cell_type": "markdown",
   "id": "37a81200-34ee-45e1-9b22-0961a29961ff",
   "metadata": {},
   "source": [
    "### Average Scheduled Minutes"
   ]
  },
  {
   "cell_type": "code",
   "execution_count": null,
   "id": "07759fbd-a33f-4198-98ec-34ba40e9d57c",
   "metadata": {},
   "outputs": [],
   "source": [
    "def grouped_bar_chart(\n",
    "    df: pd.DataFrame,\n",
    "    color_col: str,\n",
    "    y_col: str,\n",
    "    offset_col: str,\n",
    "    title: str,\n",
    "    subtitle: str,\n",
    "):\n",
    "    tooltip_cols = [\n",
    "        \"Direction\",\n",
    "        \"Period\",\n",
    "        \"Route\",\n",
    "        \"Organization\",\n",
    "        \"Date\",\n",
    "        color_col,\n",
    "        y_col,\n",
    "    ]\n",
    "\n",
    "    df = section2.clean_data_charts(df, y_col)\n",
    "\n",
    "    chart = (\n",
    "        alt.Chart(df)\n",
    "        .mark_bar(size=10)\n",
    "        .encode(\n",
    "            x=alt.X(\n",
    "                \"yearmonthdate(Date):O\",\n",
    "                title=[\"Grouped by Direction ID\", \"Date\"],\n",
    "                axis=alt.Axis(labelAngle=-45, format=\"%b %Y\"),\n",
    "            ),\n",
    "            y=alt.Y(f\"{y_col}:Q\", title=_report_utils.labeling(y_col)),\n",
    "            xOffset=alt.X(f\"{offset_col}:N\", title=_report_utils.labeling(offset_col)),\n",
    "            color=alt.Color(\n",
    "                f\"{color_col}:N\",\n",
    "                title=_report_utils.labeling(color_col),\n",
    "                scale=alt.Scale(\n",
    "                    range=_report_utils.red_green_yellow,\n",
    "                ),\n",
    "            ),\n",
    "            tooltip=tooltip_cols,\n",
    "        )\n",
    "    )\n",
    "    chart = (chart).properties(\n",
    "        title={\n",
    "            \"text\": [title],\n",
    "            \"subtitle\": [subtitle],\n",
    "        },\n",
    "        width=500,\n",
    "        height=300,\n",
    "    )\n",
    "\n",
    "    return chart"
   ]
  },
  {
   "cell_type": "markdown",
   "id": "b28ad07b-9f65-4d45-b200-57ff3b2327fd",
   "metadata": {},
   "source": [
    "### Timeliness"
   ]
  },
  {
   "cell_type": "code",
   "execution_count": null,
   "id": "5697a87f-cf00-41e9-8b15-a4e1e3f30753",
   "metadata": {},
   "outputs": [],
   "source": [
    "def base_facet_chart(\n",
    "    df: pd.DataFrame,\n",
    "    y_col: str,\n",
    "    color_col: str,\n",
    "    facet_col: str,\n",
    "    title: str,\n",
    "    subtitle: str,\n",
    "):\n",
    "    tooltip_cols = [\n",
    "        \"Direction\",\n",
    "        \"Period\",\n",
    "        \"Route\",\n",
    "        \"Organization\",\n",
    "        \"Date\",\n",
    "        y_col,\n",
    "        color_col,\n",
    "    ]\n",
    "\n",
    "    max_y = section2.set_y_axis(df, y_col)\n",
    "    df = section2.clean_data_charts(df, y_col)\n",
    "    chart = (\n",
    "        (\n",
    "            alt.Chart(df)\n",
    "            .mark_bar(size=15, clip=True)\n",
    "            .encode(\n",
    "                x=alt.X(\n",
    "                    \"yearmonthdate(Date):O\",\n",
    "                    title=[\"Date\"],\n",
    "                    axis=alt.Axis(labelAngle=-45, format=\"%b %Y\"),\n",
    "                ),\n",
    "                y=alt.Y(\n",
    "                    f\"{y_col}:Q\",\n",
    "                    title=_report_utils.labeling(y_col),\n",
    "                    scale=alt.Scale(domain=[0, max_y]),\n",
    "                ),\n",
    "                color=alt.Color(\n",
    "                    f\"{color_col}:N\",\n",
    "                    title=_report_utils.labeling(color_col),\n",
    "                    scale=alt.Scale(range=_report_utils.red_green_yellow),\n",
    "                ),\n",
    "                tooltip=tooltip_cols,\n",
    "            )\n",
    "        )\n",
    "        .facet(\n",
    "            column=alt.Column(\n",
    "                f\"{facet_col}:N\",\n",
    "            )\n",
    "        )\n",
    "        .properties(\n",
    "            title={\n",
    "                \"text\": title,\n",
    "                \"subtitle\": subtitle,\n",
    "            }\n",
    "        )\n",
    "    )\n",
    "    return chart"
   ]
  },
  {
   "cell_type": "code",
   "execution_count": null,
   "id": "5823e0c0-7814-4946-88d2-4fb7144d5a9f",
   "metadata": {},
   "outputs": [],
   "source": [
    "avg_schedule = grouped_bar_chart(\n",
    "    df=all_day,\n",
    "    color_col=\"Direction\",\n",
    "    y_col=\"Average Scheduled Service (trip minutes)\",\n",
    "    offset_col=\"Direction\",\n",
    "    title=readable_dict[\"avg_scheduled_min_graph\"][\"title\"],\n",
    "    subtitle=readable_dict[\"avg_scheduled_min_graph\"][\"subtitle\"],\n",
    ")"
   ]
  },
  {
   "cell_type": "code",
   "execution_count": null,
   "id": "852a807b-f97b-42c6-a854-bd7e57593da4",
   "metadata": {},
   "outputs": [],
   "source": [
    "avg_schedule"
   ]
  },
  {
   "cell_type": "code",
   "execution_count": null,
   "id": "0c125a92-ce6f-4d19-97d9-5acd76f354d2",
   "metadata": {},
   "outputs": [],
   "source": [
    "timeliness_trips_dir_1 = base_facet_chart(\n",
    "    timeliness_df.loc[timeliness_df[\"Direction\"] == 1],\n",
    "    \"value\",\n",
    "    \"variable\",\n",
    "    \"Period\",\n",
    "    readable_dict[\"timeliness_trips_dir_1_graph\"][\"title\"],\n",
    "    readable_dict[\"timeliness_trips_dir_0_graph\"][\"subtitle\"],\n",
    ")"
   ]
  },
  {
   "cell_type": "markdown",
   "id": "28616548-8860-47e0-a1fa-7573ea8bc442",
   "metadata": {},
   "source": [
    "### Frequency"
   ]
  },
  {
   "cell_type": "code",
   "execution_count": null,
   "id": "c7a892e2-e8c5-410a-8c9e-c0044acea489",
   "metadata": {},
   "outputs": [],
   "source": [
    "def frequency_chart(df: pd.DataFrame):\n",
    "    df[\"Frequency in Minutes\"] = (\n",
    "        \"A trip going this direction comes every \"\n",
    "        + df.frequency_in_minutes.astype(int).astype(str)\n",
    "        + \" minutes\"\n",
    "    )\n",
    "    chart = (\n",
    "        alt.Chart(df)\n",
    "        .properties(width=180, height=alt.Step(10))\n",
    "        .mark_bar()\n",
    "        .encode(\n",
    "            alt.Y(\n",
    "                \"yearmonthdate(Date):O\",\n",
    "                title=\"Date\",\n",
    "                axis=alt.Axis(format=\"%b %Y\"),\n",
    "            ),\n",
    "            alt.X(\n",
    "                \"frequency_in_minutes:Q\",\n",
    "                title=_report_utils.labeling(\"frequency_in_minutes\"),\n",
    "                axis=None,\n",
    "            ),\n",
    "            alt.Color(\n",
    "                \"frequency_in_minutes:Q\",\n",
    "                scale=alt.Scale(range=_report_utils.green_red_yellow),\n",
    "            ).title(_report_utils.labeling(\"frequency_in_minutes\")),\n",
    "            alt.Row(\"Period:N\")\n",
    "            .title(_report_utils.labeling(\"Period\"))\n",
    "            .header(labelAngle=0),\n",
    "            alt.Column(\"Direction:N\").title(_report_utils.labeling(\"Direction\")),\n",
    "            tooltip=[\"Date\", \"Frequency in Minutes\", \"Period\", \"Direction\"],\n",
    "        )\n",
    "    )\n",
    "    chart = chart.properties(\n",
    "        title={\n",
    "            \"text\": readable_dict[\"frequency_graph\"][\"title\"],\n",
    "            \"subtitle\": readable_dict[\"frequency_graph\"][\"subtitle\"],\n",
    "        }\n",
    "    )\n",
    "    return chart"
   ]
  },
  {
   "cell_type": "code",
   "execution_count": null,
   "id": "01a580f0-b1f5-45c4-94cc-97b3464eb11c",
   "metadata": {},
   "outputs": [],
   "source": [
    "frequency_altair_chart = frequency_chart(df)"
   ]
  },
  {
   "cell_type": "markdown",
   "id": "c6e20357-16a6-41c3-ba9d-ca6dcdfd2091",
   "metadata": {},
   "source": [
    "### Speed"
   ]
  },
  {
   "cell_type": "code",
   "execution_count": null,
   "id": "869b1a2e-6ad4-45b0-8d7e-f1b9fe7cce2f",
   "metadata": {},
   "outputs": [],
   "source": [
    "def base_facet_line(\n",
    "    df: pd.DataFrame, y_col: str, title: str, subtitle: str\n",
    ") -> alt.Chart:\n",
    "    max_y = section2.set_y_axis(df, y_col)\n",
    "\n",
    "    df = section2.clean_data_charts(df, y_col)\n",
    "    tooltip_cols = [\n",
    "            \"Route\",\n",
    "            \"Direction\",\n",
    "            \"Period\",\n",
    "            f\"{y_col}_str\",\n",
    "        ]\n",
    "\n",
    "    chart = (\n",
    "            alt.Chart(df)\n",
    "            .mark_line(size=5)\n",
    "            .encode(\n",
    "                x=alt.X(\n",
    "                    \"yearmonthdate(Date):O\",\n",
    "                    title=\"Date\",\n",
    "                    axis=alt.Axis(labelAngle=-45, format=\"%b %Y\"),\n",
    "                ),\n",
    "                y=alt.Y(\n",
    "                    f\"{y_col}:Q\",\n",
    "                    title=_report_utils.labeling(y_col),\n",
    "                    scale=alt.Scale(domain=[0, max_y]),\n",
    "                ),\n",
    "                color=alt.Color(\n",
    "                    \"Period:N\",\n",
    "                    title=_report_utils.labeling(\"Period\"),\n",
    "                    scale=alt.Scale(range=_report_utils.red_green_yellow),\n",
    "                ),\n",
    "                tooltip=tooltip_cols,\n",
    "            )\n",
    "        )\n",
    "\n",
    "    chart = chart.properties(width=250, height=300)\n",
    "    chart = chart.facet(\n",
    "            column=alt.Column(\"Direction:N\", title=_report_utils.labeling(\"Direction\")),\n",
    "        ).properties(\n",
    "            title={\n",
    "                \"text\": [title],\n",
    "                \"subtitle\": [subtitle],\n",
    "            }\n",
    "        )\n",
    "    return chart"
   ]
  },
  {
   "cell_type": "code",
   "execution_count": null,
   "id": "52c1da0d-cbd7-4e88-832b-1cc56b8de07d",
   "metadata": {},
   "outputs": [],
   "source": [
    "speed_chart = base_facet_line(\n",
    "    df,\n",
    "    \"Speed (MPH)\",\n",
    "    readable_dict[\"speed_graph\"][\"title\"],\n",
    "    readable_dict[\"speed_graph\"][\"subtitle\"],\n",
    ")"
   ]
  },
  {
   "cell_type": "markdown",
   "id": "997df9b8-b61e-4d9d-a217-1acbc63b8e7d",
   "metadata": {},
   "source": [
    "###  VP per Minute "
   ]
  },
  {
   "cell_type": "code",
   "execution_count": null,
   "id": "a45379fe-2f91-4f9c-8b50-a4ed88dad990",
   "metadata": {},
   "outputs": [],
   "source": [
    "def base_facet_with_ruler_chart(\n",
    "    df: pd.DataFrame,\n",
    "    y_col: str,\n",
    "    ruler_col: str,\n",
    "    title: str,\n",
    "    subtitle: str,\n",
    "):\n",
    "    tooltip_cols = [\n",
    "        \"Direction\",\n",
    "        \"Period\",\n",
    "        \"Route\",\n",
    "        \"Organization\",\n",
    "        \"Date\",\n",
    "        y_col,\n",
    "    ]\n",
    "\n",
    "    max_y = section2.set_y_axis(df, y_col)\n",
    "    df = section2.clean_data_charts(df, y_col)\n",
    "    ruler = (\n",
    "            alt.Chart(df)\n",
    "            .mark_rule(color=\"red\", strokeDash=[10, 7])\n",
    "            .encode(y=f\"mean({ruler_col}):Q\")\n",
    "        )\n",
    "    chart = (\n",
    "            alt.Chart(df)\n",
    "            .mark_bar(size=15, clip=True)\n",
    "            .encode(\n",
    "                x=alt.X(\n",
    "                    \"yearmonthdate(Date):O\",\n",
    "                    title=[\"Date\"],\n",
    "                    axis=alt.Axis(labelAngle=-45, format=\"%b %Y\"),\n",
    "                ),\n",
    "                y=alt.Y(\n",
    "                    f\"{y_col}:Q\",\n",
    "                    title=_report_utils.labeling(y_col),\n",
    "                    scale=alt.Scale(domain=[0, max_y]),\n",
    "                ),\n",
    "                color=alt.Color(\n",
    "                    f\"{y_col}:Q\",\n",
    "                    title=_report_utils.labeling(y_col),\n",
    "                    scale=alt.Scale(range=_report_utils.red_green_yellow),\n",
    "                ),\n",
    "                tooltip=df[tooltip_cols].columns.tolist(),\n",
    "            )\n",
    "        )\n",
    "\n",
    "    chart = chart + ruler\n",
    "    chart = chart.facet(column=alt.Column(\"Direction:N\",)).properties(\n",
    "            title={\n",
    "                \"text\": title,\n",
    "                \"subtitle\": [subtitle],\n",
    "            }\n",
    "        )\n",
    "\n",
    "    return chart"
   ]
  },
  {
   "cell_type": "code",
   "execution_count": null,
   "id": "bdcbefe3-d4cb-4ac2-8a76-d278608f45ca",
   "metadata": {},
   "outputs": [],
   "source": [
    "vp_min = base_facet_with_ruler_chart(\n",
    "    all_day,\n",
    "    \"Average VP per Minute\",\n",
    "    \"ruler_for_vp_per_min\",\n",
    "    readable_dict[\"vp_per_min_graph\"][\"title\"],\n",
    "    readable_dict[\"vp_per_min_graph\"][\"subtitle\"],\n",
    ")"
   ]
  },
  {
   "cell_type": "markdown",
   "id": "11d6c343-7afc-4a07-aa76-0eaee6a5f22a",
   "metadata": {},
   "source": [
    "### Spatial Accuracy"
   ]
  },
  {
   "cell_type": "code",
   "execution_count": null,
   "id": "f9c3057f-1592-491a-b2bc-017cf13bea54",
   "metadata": {},
   "outputs": [],
   "source": [
    "spatial_accuracy = base_facet_with_ruler_chart(\n",
    "    all_day,\n",
    "    \"% VP within Scheduled Shape\",\n",
    "    \"ruler_100_pct\",\n",
    "    readable_dict[\"spatial_accuracy_graph\"][\"title\"],\n",
    "    readable_dict[\"spatial_accuracy_graph\"][\"title\"],\n",
    ")"
   ]
  },
  {
   "cell_type": "markdown",
   "id": "a5943502-7bbb-4ffc-afdf-7cdf8acc44a8",
   "metadata": {
    "toc-hr-collapsed": true
   },
   "source": [
    "### % VP"
   ]
  },
  {
   "cell_type": "code",
   "execution_count": null,
   "id": "bbbbbc5c-7667-40bb-9fe1-59019861457a",
   "metadata": {},
   "outputs": [],
   "source": [
    "rt_pct = section2.pct_vp_journey(\n",
    "    all_day,\n",
    "    \"% Actual Trip Minutes with 1+ VP per Minute\",\n",
    "    \"% Actual Trip Minutes with 2+ VP per Minute\",\n",
    ")"
   ]
  },
  {
   "cell_type": "code",
   "execution_count": null,
   "id": "451029d6-beb3-4fbe-9509-3bfdc6b31fbb",
   "metadata": {},
   "outputs": [],
   "source": [
    "rt_pct"
   ]
  },
  {
   "cell_type": "code",
   "execution_count": null,
   "id": "75216839-51f7-4167-9a5f-cf94cb8a1ad5",
   "metadata": {},
   "outputs": [],
   "source": [
    "def base_facet_circle(\n",
    "    df: pd.DataFrame,\n",
    "    y_col: str,\n",
    "    color_col: str,\n",
    "    ruler_col: str,\n",
    "    title: str,\n",
    "    subtitle: str,\n",
    ") -> alt.Chart:\n",
    "\n",
    "    tooltip_cols = [\n",
    "        \"Direction\",\n",
    "        \"Period\",\n",
    "        \"Route\",\n",
    "        \"Date\",\n",
    "        f\"{y_col}_str\",\n",
    "        color_col,\n",
    "    ]\n",
    "\n",
    "    max_y = section2.set_y_axis(df, y_col)\n",
    "    df = section2.clean_data_charts(df, y_col)\n",
    "    ruler = (\n",
    "            alt.Chart(df)\n",
    "            .mark_rule(color=\"red\", strokeDash=[10, 7])\n",
    "            .encode(y=f\"ruler_100_pct:Q\")\n",
    "        )\n",
    "\n",
    "    chart = (\n",
    "            alt.Chart(df)\n",
    "            .mark_circle(size=150)\n",
    "            .encode(\n",
    "                x=alt.X(\n",
    "                    \"yearmonthdate(Date):O\",\n",
    "                    title=\"Date\",\n",
    "                    axis=alt.Axis(labelAngle=-45, format=\"%b %Y\"),\n",
    "                ),\n",
    "                y=alt.Y(\n",
    "                    f\"{y_col}:Q\",\n",
    "                    title=_report_utils.labeling(y_col),\n",
    "                    scale=alt.Scale(domain=[0, max_y]),\n",
    "                ),\n",
    "                color=alt.Color(\n",
    "                    f\"{color_col}:N\",\n",
    "                    title=_report_utils.labeling(color_col),\n",
    "                    scale=alt.Scale(range=_report_utils.red_green_yellow),\n",
    "                ),\n",
    "                tooltip=tooltip_cols,\n",
    "            )\n",
    "        )\n",
    "\n",
    "    chart = chart + ruler\n",
    "    chart = chart.facet(\n",
    "            column=alt.Column(\"Direction:N\", title=_report_utils.labeling(\"Direction\")),\n",
    "        ).properties(\n",
    "            title={\n",
    "                \"text\": [title],\n",
    "                \"subtitle\": [subtitle],\n",
    "            }\n",
    "        )\n",
    "    return chart"
   ]
  },
  {
   "cell_type": "code",
   "execution_count": null,
   "id": "a9556c2c-c216-40d4-a87b-7177f8613f50",
   "metadata": {},
   "outputs": [],
   "source": [
    "rt_pct_chart = base_facet_circle(\n",
    "    rt_pct,\n",
    "    \"% of Actual Trip Minutes\",\n",
    "    \"Category\",\n",
    "    \"ruler_100_pct\",\n",
    "    readable_dict[\"rt_vp_per_min_graph\"][\"title\"],\n",
    "    readable_dict[\"rt_vp_per_min_graph\"][\"subtitle\"],\n",
    ")"
   ]
  },
  {
   "cell_type": "markdown",
   "id": "5a567161-f42f-4012-803d-7e5e41cc1744",
   "metadata": {},
   "source": [
    "## Combining #1"
   ]
  },
  {
   "cell_type": "code",
   "execution_count": null,
   "id": "99e5e7d5-8cb8-4d4c-a5e0-3cca6d0389e4",
   "metadata": {},
   "outputs": [],
   "source": [
    "def filtered_route(\n",
    "    df: pd.DataFrame,\n",
    ") -> alt.Chart:\n",
    "    \"\"\"\n",
    "    https://stackoverflow.com/questions/58919888/multiple-selections-in-altair\n",
    "    \"\"\"\n",
    "    # Create dropdown\n",
    "    routes_list = df[\"Route\"].unique().tolist()\n",
    "\n",
    "    route_dropdown = alt.binding_select(\n",
    "        options=routes_list,\n",
    "        name=\"Routes\",\n",
    "    )\n",
    "    # Column that controls the bar charts\n",
    "    route_selector = alt.selection_point(\n",
    "        fields=[\"Route\"],\n",
    "        bind=route_dropdown,\n",
    "    )\n",
    "\n",
    "    # Filter for only rows categorized as found in schedule and vp and all_day\n",
    "    all_day = df.loc[df[\"Period\"] == \"All Day\"].reset_index(drop=True)\n",
    "\n",
    "    # Create route stats table for the text tables\n",
    "    route_stats_df = section2.route_stats(df)\n",
    "\n",
    "    # Manipulate the df for some of the metrics\n",
    "    timeliness_df = section2.timeliness_trips(df)\n",
    "\n",
    "    rt_journey_vp = section2.pct_vp_journey(\n",
    "        all_day,\n",
    "        \"% Actual Trip Minutes with 1+ VP per Minute\",\n",
    "        \"% Actual Trip Minutes with 2+ VP per Minute\",\n",
    "    )\n",
    "    sched_journey_vp = section2.pct_vp_journey(\n",
    "        all_day,\n",
    "        \"% Scheduled Trip Minutes with 1+ VP per Minute\",\n",
    "        \"% Scheduled Trip Minutes with 2+ VP per Minute\",\n",
    "    )\n",
    "\n",
    "    avg_scheduled_min_graph = (\n",
    "        grouped_bar_chart(\n",
    "            df=all_day,\n",
    "            color_col=\"Direction\",\n",
    "            y_col=\"Average Scheduled Service (trip minutes)\",\n",
    "            offset_col=\"Direction\",\n",
    "            title=readable_dict[\"avg_scheduled_min_graph\"][\"title\"],\n",
    "            subtitle=readable_dict[\"avg_scheduled_min_graph\"][\"subtitle\"],\n",
    "        )\n",
    "        .add_params(route_selector)\n",
    "        .transform_filter(route_selector)\n",
    "    )\n",
    "    # display(avg_scheduled_min_graph)\n",
    "    timeliness_trips_dir_0 = (\n",
    "        (\n",
    "            base_facet_chart(\n",
    "                timeliness_df.loc[timeliness_df[\"Direction\"] == 0],\n",
    "                \"value\",\n",
    "                \"variable\",\n",
    "                \"Period\",\n",
    "                readable_dict[\"timeliness_trips_dir_0_graph\"][\"title\"],\n",
    "                readable_dict[\"timeliness_trips_dir_0_graph\"][\"subtitle\"],\n",
    "            )\n",
    "        )\n",
    "        .add_params(route_selector)\n",
    "        .transform_filter(route_selector)\n",
    "    )\n",
    "    # display(timeliness_trips_dir_0)\n",
    "    timeliness_trips_dir_1 = (\n",
    "        (\n",
    "            base_facet_chart(\n",
    "                timeliness_df.loc[timeliness_df[\"Direction\"] == 1],\n",
    "                \"value\",\n",
    "                \"variable\",\n",
    "                \"Period\",\n",
    "                readable_dict[\"timeliness_trips_dir_1_graph\"][\"title\"],\n",
    "                readable_dict[\"timeliness_trips_dir_0_graph\"][\"subtitle\"],\n",
    "            )\n",
    "        )\n",
    "        .add_params(route_selector)\n",
    "        .transform_filter(route_selector)\n",
    "    )\n",
    "    # display(timeliness_trips_dir_1)\n",
    "    frequency_graph = (\n",
    "        frequency_chart(df).add_params(route_selector).transform_filter(route_selector)\n",
    "    )\n",
    "    # display(frequency_graph)\n",
    "    speed_graph = (\n",
    "        base_facet_line(\n",
    "            df,\n",
    "            \"Speed (MPH)\",\n",
    "            readable_dict[\"speed_graph\"][\"title\"],\n",
    "            readable_dict[\"speed_graph\"][\"subtitle\"],\n",
    "        )\n",
    "        .add_params(route_selector)\n",
    "        .transform_filter(route_selector)\n",
    "    )\n",
    "    # display(speed_graph)\n",
    "    vp_per_min_graph = (\n",
    "        (\n",
    "            base_facet_with_ruler_chart(\n",
    "                all_day,\n",
    "                \"Average VP per Minute\",\n",
    "                \"ruler_for_vp_per_min\",\n",
    "                readable_dict[\"vp_per_min_graph\"][\"title\"],\n",
    "                readable_dict[\"vp_per_min_graph\"][\"subtitle\"],\n",
    "            )\n",
    "        )\n",
    "        .add_params(route_selector)\n",
    "        .transform_filter(route_selector)\n",
    "    )\n",
    "    # display(vp_per_min_graph)\n",
    "    rt_vp_per_min_graph = (\n",
    "        base_facet_circle(\n",
    "            rt_journey_vp,\n",
    "            \"% of Actual Trip Minutes\",\n",
    "            \"Category\",\n",
    "            \"ruler_100_pct\",\n",
    "            readable_dict[\"rt_vp_per_min_graph\"][\"title\"],\n",
    "            readable_dict[\"rt_vp_per_min_graph\"][\"subtitle\"],\n",
    "        )\n",
    "        .add_params(route_selector)\n",
    "        .transform_filter(route_selector)\n",
    "    )\n",
    "    # display(rt_vp_per_min_graph)\n",
    "    sched_vp_per_min = (\n",
    "        base_facet_circle(\n",
    "            sched_journey_vp,\n",
    "            \"% of Actual Trip Minutes\",\n",
    "            \"Category\",\n",
    "            \"ruler_100_pct\",\n",
    "            readable_dict[\"sched_vp_per_min_graph\"][\"title\"],\n",
    "            readable_dict[\"rt_vp_per_min_graph\"][\"subtitle\"],\n",
    "        )\n",
    "        .add_params(route_selector)\n",
    "        .transform_filter(route_selector)\n",
    "    )\n",
    "    # display(sched_vp_per_min)\n",
    "    spatial_accuracy = (\n",
    "        base_facet_with_ruler_chart(\n",
    "            all_day,\n",
    "            \"% VP within Scheduled Shape\",\n",
    "            \"ruler_100_pct\",\n",
    "            readable_dict[\"spatial_accuracy_graph\"][\"title\"],\n",
    "            readable_dict[\"spatial_accuracy_graph\"][\"title\"],\n",
    "        )\n",
    "        .add_params(route_selector)\n",
    "        .transform_filter(route_selector)\n",
    "    )\n",
    "    # display(spatial_accuracy)\n",
    "    text_dir0 = (\n",
    "        (create_text_table(route_stats_df, 0))\n",
    "        .add_params(route_selector)\n",
    "        .transform_filter(route_selector)\n",
    "    )\n",
    "    # display(text_dir0)\n",
    "    text_dir1 = (\n",
    "        create_text_table(route_stats_df, 1)\n",
    "        .add_params(route_selector)\n",
    "        .transform_filter(route_selector)\n",
    "    )\n",
    "    # display(text_dir1)\n",
    "\n",
    "    chart_list = [\n",
    "        avg_scheduled_min_graph,\n",
    "        timeliness_trips_dir_0,\n",
    "        timeliness_trips_dir_1,\n",
    "        frequency_graph,\n",
    "        speed_graph,\n",
    "        vp_per_min_graph,\n",
    "        rt_vp_per_min_graph,\n",
    "        sched_vp_per_min,\n",
    "        spatial_accuracy,\n",
    "        text_dir0,\n",
    "        text_dir1,\n",
    "    ]\n",
    "\n",
    "    chart = alt.vconcat(*chart_list)\n",
    "\n",
    "    return chart"
   ]
  },
  {
   "cell_type": "markdown",
   "id": "a0a494db-09a5-4ba1-8439-14d1530f682a",
   "metadata": {},
   "source": [
    "## Combining #2"
   ]
  },
  {
   "cell_type": "code",
   "execution_count": null,
   "id": "c23fd025-9ab0-423b-976a-5d78d7ec7208",
   "metadata": {},
   "outputs": [],
   "source": [
    "stop"
   ]
  },
  {
   "cell_type": "code",
   "execution_count": null,
   "id": "92ec80c1-bb6e-4a0e-b7dc-6b57d872409e",
   "metadata": {},
   "outputs": [],
   "source": [
    "routes_list = df[\"Route\"].unique().tolist()\n",
    "\n",
    "route_dropdown = alt.binding_select(\n",
    "    options=routes_list,\n",
    "    name=\"Routes\",\n",
    ")\n",
    "# Column that controls the bar charts\n",
    "route_selector = alt.selection_point(\n",
    "    fields=[\"Route\"],\n",
    "    bind=route_dropdown,\n",
    ")"
   ]
  },
  {
   "cell_type": "code",
   "execution_count": null,
   "id": "d727b3c7-9062-4757-964b-d4b5f7348b95",
   "metadata": {},
   "outputs": [],
   "source": [
    "timeliness_trips_dir_1 = timeliness_trips_dir_1.add_params(\n",
    "    route_selector\n",
    ").transform_filter(route_selector)"
   ]
  },
  {
   "cell_type": "code",
   "execution_count": null,
   "id": "655c0f11-d3d4-4c1f-8cbb-b884df501766",
   "metadata": {},
   "outputs": [],
   "source": [
    "avg_schedule = avg_schedule.add_params(route_selector).transform_filter(route_selector)"
   ]
  },
  {
   "cell_type": "code",
   "execution_count": null,
   "id": "ddd3ffcd-8677-4d4b-b3a4-94b79511c6a4",
   "metadata": {},
   "outputs": [],
   "source": [
    "frequency_altair_chart = frequency_altair_chart.add_params(\n",
    "    route_selector\n",
    ").transform_filter(route_selector)"
   ]
  },
  {
   "cell_type": "code",
   "execution_count": null,
   "id": "9bcb3da8-6813-4f7d-b308-81f099ef8b1d",
   "metadata": {},
   "outputs": [],
   "source": [
    "speed_chart = speed_chart.add_params(route_selector).transform_filter(route_selector)"
   ]
  },
  {
   "cell_type": "code",
   "execution_count": null,
   "id": "93bf6429-82c5-4547-8910-d23b3c4779b3",
   "metadata": {},
   "outputs": [],
   "source": [
    "vp_min = vp_min.add_params(route_selector).transform_filter(route_selector)"
   ]
  },
  {
   "cell_type": "code",
   "execution_count": null,
   "id": "f800793e-8c17-4d39-8049-2ce541e3d4b9",
   "metadata": {},
   "outputs": [],
   "source": [
    "spatial_accuracy = spatial_accuracy.add_params(route_selector).transform_filter(route_selector)"
   ]
  },
  {
   "cell_type": "code",
   "execution_count": null,
   "id": "e3c8ee17-39c0-4a39-9e50-9de35ff02464",
   "metadata": {},
   "outputs": [],
   "source": [
    "rt_pct_chart = rt_pct_chart.add_params(route_selector).transform_filter(route_selector)"
   ]
  },
  {
   "cell_type": "code",
   "execution_count": null,
   "id": "33c396dc-60b2-48c2-af73-eb4c952904ce",
   "metadata": {},
   "outputs": [],
   "source": [
    "chart_list = [avg_schedule, timeliness_trips_dir_1, frequency_altair_chart,speed_chart, vp_min,spatial_accuracy,rt_pct_chart]"
   ]
  },
  {
   "cell_type": "code",
   "execution_count": null,
   "id": "7ebd8ee2-8baf-4c23-9704-438c1ba8330a",
   "metadata": {},
   "outputs": [],
   "source": [
    "chart = alt.vconcat(*chart_list).properties(\n",
    "    resolve=alt.Resolve(\n",
    "        scale=alt.LegendResolveMap(color=alt.ResolveMode(\"independent\"))\n",
    "    )\n",
    ")"
   ]
  },
  {
   "cell_type": "code",
   "execution_count": null,
   "id": "f08b9c60-26bc-4d3d-99c8-789957cd80b0",
   "metadata": {},
   "outputs": [],
   "source": [
    "chart"
   ]
  }
 ],
 "metadata": {
  "kernelspec": {
   "display_name": "Python 3 (ipykernel)",
   "language": "python",
   "name": "python3"
  },
  "language_info": {
   "codemirror_mode": {
    "name": "ipython",
    "version": 3
   },
   "file_extension": ".py",
   "mimetype": "text/x-python",
   "name": "python",
   "nbconvert_exporter": "python",
   "pygments_lexer": "ipython3",
   "version": "3.9.13"
  }
 },
 "nbformat": 4,
 "nbformat_minor": 5
}
