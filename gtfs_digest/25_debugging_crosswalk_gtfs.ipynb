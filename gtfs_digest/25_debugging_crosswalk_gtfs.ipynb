{
 "cells": [
  {
   "cell_type": "markdown",
   "id": "e1eb02ef-3d14-4ccb-8759-8990dab32880",
   "metadata": {},
   "source": [
    "## Fixing this error\n",
    "* Tiffany encountered this error: find out why\n",
    "` crosswalk_df = crosswalk_df.drop(columns = [\"ntd_id\", \"agency_name\"])\n",
    "  File \"/opt/conda/lib/python3.9/site-packages/pandas/util/_decorators.py\", line 331, in wrapper\n",
    "    return func(*args, **kwargs)\n",
    "  File \"/opt/conda/lib/python3.9/site-packages/pandas/core/frame.py\", line 5399, in drop\n",
    "    return super().drop(\n",
    "  File \"/opt/conda/lib/python3.9/site-packages/pandas/util/_decorators.py\", line 331, in wrapper\n",
    "    return func(*args, **kwargs)\n",
    "  File \"/opt/conda/lib/python3.9/site-packages/pandas/core/generic.py\", line 4505, in drop\n",
    "    obj = obj._drop_axis(labels, axis, level=level, errors=errors)\n",
    "  File \"/opt/conda/lib/python3.9/site-packages/pandas/core/generic.py\", line 4546, in _drop_axis\n",
    "    new_axis = axis.drop(labels, errors=errors)\n",
    "  File \"/opt/conda/lib/python3.9/site-packages/pandas/core/indexes/base.py\", line 6934, in drop\n",
    "    raise KeyError(f\"{list(labels[mask])} not found in axis\")\n",
    "KeyError: \"['agency_name'] not found in axis\"`"
   ]
  },
  {
   "cell_type": "code",
   "execution_count": null,
   "id": "c95e292d-26de-4b9a-9748-24c7ef9e1a88",
   "metadata": {},
   "outputs": [],
   "source": [
    "import _section1_utils\n",
    "import _section2_utils as section2\n",
    "import geopandas as gpd\n",
    "import numpy as np\n",
    "import pandas as pd\n",
    "from segment_speed_utils import gtfs_schedule_wrangling, helpers, time_series_utils\n",
    "from segment_speed_utils.project_vars import (\n",
    "    COMPILED_CACHED_VIEWS,\n",
    "    GTFS_DATA_DICT,\n",
    "    PROJECT_CRS,\n",
    "    RT_SCHED_GCS,\n",
    "    SCHED_GCS,\n",
    "    SEGMENT_GCS,\n",
    ")\n",
    "from shared_utils import catalog_utils, rt_dates, rt_utils"
   ]
  },
  {
   "cell_type": "code",
   "execution_count": null,
   "id": "8b951724-b46d-4994-920c-509856463c05",
   "metadata": {},
   "outputs": [],
   "source": [
    "pd.options.display.max_columns = 100\n",
    "pd.options.display.float_format = \"{:.2f}\".format\n",
    "pd.set_option(\"display.max_rows\", None)\n",
    "pd.set_option(\"display.max_colwidth\", None)"
   ]
  },
  {
   "cell_type": "code",
   "execution_count": null,
   "id": "ab740af7-919d-41fe-9139-48bbaa1da6d6",
   "metadata": {},
   "outputs": [],
   "source": [
    "import sys\n",
    "\n",
    "sys.path.append(\"../gtfs_funnel\")\n",
    "import crosswalk_gtfs_dataset_key_to_organization"
   ]
  },
  {
   "cell_type": "code",
   "execution_count": null,
   "id": "4cde040b-1b11-4d45-b6d2-cfbb8c521b39",
   "metadata": {},
   "outputs": [],
   "source": [
    "all_dates = (\n",
    "    rt_dates.y2024_dates\n",
    "    + rt_dates.y2023_dates\n",
    "    + rt_dates.oct2023_week\n",
    "    + rt_dates.apr2023_week\n",
    "    + rt_dates.apr2024_week\n",
    ")"
   ]
  },
  {
   "cell_type": "code",
   "execution_count": null,
   "id": "89fa761b-2ea2-4d44-b74b-a9c5f33edf1d",
   "metadata": {},
   "outputs": [],
   "source": [
    "analysis_date = all_dates[0]"
   ]
  },
  {
   "cell_type": "code",
   "execution_count": null,
   "id": "de1bc186-52e3-40ef-8f2b-7da518b33332",
   "metadata": {},
   "outputs": [],
   "source": [
    "analysis_date"
   ]
  },
  {
   "cell_type": "code",
   "execution_count": null,
   "id": "1d7441a3-0fec-41ab-a81a-aa51179f9e92",
   "metadata": {},
   "outputs": [],
   "source": [
    "df = crosswalk_gtfs_dataset_key_to_organization.create_gtfs_dataset_key_to_organization_crosswalk(\n",
    "    analysis_date\n",
    ")"
   ]
  },
  {
   "cell_type": "code",
   "execution_count": null,
   "id": "f0e9e19d-4ac4-4632-bcd4-8847056cbda3",
   "metadata": {},
   "outputs": [],
   "source": [
    "df.head(1)"
   ]
  },
  {
   "cell_type": "code",
   "execution_count": null,
   "id": "3a77fadb-c24d-4dd4-b211-6b6a8ae49954",
   "metadata": {},
   "outputs": [],
   "source": [
    "ntd_df = crosswalk_gtfs_dataset_key_to_organization.merge_ntd_mobility(2022\n",
    ")"
   ]
  },
  {
   "cell_type": "code",
   "execution_count": null,
   "id": "9a811a4b-2457-4d5d-b343-f8504adadddc",
   "metadata": {},
   "outputs": [],
   "source": [
    "ntd_df.head(1)"
   ]
  },
  {
   "cell_type": "code",
   "execution_count": null,
   "id": "3460242e-501b-4dac-a0ee-4b06a14868c2",
   "metadata": {},
   "outputs": [],
   "source": [
    "crosswalk_df = pd.merge(df,\n",
    "        ntd_df,\n",
    "        left_on = [\"ntd_id_2022\"],\n",
    "        right_on = [\"ntd_id\"],\n",
    "        how = \"left\")"
   ]
  },
  {
   "cell_type": "code",
   "execution_count": null,
   "id": "2fd025fa-8403-4ceb-84c7-3a67ba2f950b",
   "metadata": {},
   "outputs": [],
   "source": [
    "crosswalk_df.head(2)"
   ]
  },
  {
   "cell_type": "code",
   "execution_count": null,
   "id": "284bbdc9-596f-48bb-852f-d206c7426337",
   "metadata": {},
   "outputs": [],
   "source": [
    "crosswalk_df.columns"
   ]
  },
  {
   "cell_type": "code",
   "execution_count": null,
   "id": "8b5a60f9-fb6c-475f-84aa-4f564823f2e7",
   "metadata": {},
   "outputs": [],
   "source": [
    "crosswalk_df = crosswalk_df.drop(columns = [\"ntd_id\", \"agency_name\"])"
   ]
  }
 ],
 "metadata": {
  "kernelspec": {
   "display_name": "Python 3 (ipykernel)",
   "language": "python",
   "name": "python3"
  },
  "language_info": {
   "codemirror_mode": {
    "name": "ipython",
    "version": 3
   },
   "file_extension": ".py",
   "mimetype": "text/x-python",
   "name": "python",
   "nbconvert_exporter": "python",
   "pygments_lexer": "ipython3",
   "version": "3.9.13"
  }
 },
 "nbformat": 4,
 "nbformat_minor": 5
}
