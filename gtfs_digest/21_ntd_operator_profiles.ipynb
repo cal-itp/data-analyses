{
 "cells": [
  {
   "cell_type": "markdown",
   "id": "306365db-47e6-4d40-bc35-c688130e4863",
   "metadata": {},
   "source": [
    "## Incorporating `NTD` stuff directly into `crosswalks`\n",
    "* How do I rerun everything and make sure the files are update with all the dates?"
   ]
  },
  {
   "cell_type": "code",
   "execution_count": 1,
   "id": "604c75b3-f74c-4b32-9e72-9635b86e53c5",
   "metadata": {},
   "outputs": [],
   "source": [
    "from datetime import datetime\n",
    "\n",
    "import _operators_prep as op_prep\n",
    "import _report_utils\n",
    "import _section1_utils as section1\n",
    "import geopandas as gpd\n",
    "import numpy as np\n",
    "import pandas as pd\n",
    "from IPython.display import HTML, Image, Markdown, display, display_html\n",
    "from segment_speed_utils import gtfs_schedule_wrangling, helpers, time_series_utils\n",
    "from segment_speed_utils.project_vars import (\n",
    "    COMPILED_CACHED_VIEWS,\n",
    "    GTFS_DATA_DICT,\n",
    "    PROJECT_CRS,\n",
    "    RT_SCHED_GCS,\n",
    "    SCHED_GCS,\n",
    "    SEGMENT_GCS,\n",
    ")\n",
    "from shared_utils import catalog_utils, rt_dates, rt_utils"
   ]
  },
  {
   "cell_type": "code",
   "execution_count": 2,
   "id": "892f561d-193f-4e9e-896f-37caf6490c00",
   "metadata": {},
   "outputs": [],
   "source": [
    "# Warehouse\n",
    "import os\n",
    "\n",
    "from calitp_data_analysis.sql import query_sql\n",
    "from calitp_data_analysis.tables import tbls\n",
    "from siuba import *"
   ]
  },
  {
   "cell_type": "code",
   "execution_count": 3,
   "id": "da0c3ac2-d52c-477b-b70d-c975c560779b",
   "metadata": {},
   "outputs": [],
   "source": [
    "pd.options.display.max_columns = 100\n",
    "pd.options.display.float_format = \"{:.2f}\".format\n",
    "pd.set_option(\"display.max_rows\", None)\n",
    "pd.set_option(\"display.max_colwidth\", None)"
   ]
  },
  {
   "cell_type": "markdown",
   "id": "ac3f1e53-9f25-494f-a26f-877799e208e3",
   "metadata": {},
   "source": [
    "### Incoporate `Crosswalk` work into the portfolio\n",
    "* Use helpers function\n",
    "* Grab latest analysis date automatically. "
   ]
  },
  {
   "cell_type": "code",
   "execution_count": 4,
   "id": "773e8adb-3dd4-4c6d-b904-4f7cbdc928f7",
   "metadata": {},
   "outputs": [],
   "source": [
    "op_profiles_url = f\"{GTFS_DATA_DICT.digest_tables.dir}{GTFS_DATA_DICT.digest_tables.operator_profiles}.parquet\""
   ]
  },
  {
   "cell_type": "code",
   "execution_count": 5,
   "id": "3a8b7363-d847-4410-812d-e4b44ef58b4f",
   "metadata": {},
   "outputs": [],
   "source": [
    "op_profiles_df = pd.read_parquet(op_profiles_url)"
   ]
  },
  {
   "cell_type": "code",
   "execution_count": 19,
   "id": "97089e8a-289d-4dfb-899e-8fa62ad6e275",
   "metadata": {},
   "outputs": [],
   "source": [
    "test_organization = \"City and County of San Francisco\""
   ]
  },
  {
   "cell_type": "code",
   "execution_count": 6,
   "id": "dff120ef-7e9f-40d0-a74f-a0d6adc8f471",
   "metadata": {},
   "outputs": [
    {
     "data": {
      "text/html": [
       "<div>\n",
       "<style scoped>\n",
       "    .dataframe tbody tr th:only-of-type {\n",
       "        vertical-align: middle;\n",
       "    }\n",
       "\n",
       "    .dataframe tbody tr th {\n",
       "        vertical-align: top;\n",
       "    }\n",
       "\n",
       "    .dataframe thead th {\n",
       "        text-align: right;\n",
       "    }\n",
       "</style>\n",
       "<table border=\"1\" class=\"dataframe\">\n",
       "  <thead>\n",
       "    <tr style=\"text-align: right;\">\n",
       "      <th></th>\n",
       "      <th>schedule_gtfs_dataset_key</th>\n",
       "      <th>operator_n_routes</th>\n",
       "      <th>operator_n_trips</th>\n",
       "      <th>operator_n_shapes</th>\n",
       "      <th>operator_n_stops</th>\n",
       "      <th>operator_n_arrivals</th>\n",
       "      <th>operator_route_length_miles</th>\n",
       "      <th>operator_arrivals_per_stop</th>\n",
       "      <th>n_downtown_local_routes</th>\n",
       "      <th>n_local_routes</th>\n",
       "      <th>n_coverage_routes</th>\n",
       "      <th>n_rapid_routes</th>\n",
       "      <th>n_express_routes</th>\n",
       "      <th>n_rail_routes</th>\n",
       "      <th>name</th>\n",
       "      <th>organization_source_record_id</th>\n",
       "      <th>organization_name</th>\n",
       "      <th>service_date</th>\n",
       "    </tr>\n",
       "  </thead>\n",
       "  <tbody>\n",
       "    <tr>\n",
       "      <th>0</th>\n",
       "      <td>014d0998350083249a9eb310635548c2</td>\n",
       "      <td>8</td>\n",
       "      <td>137</td>\n",
       "      <td>8</td>\n",
       "      <td>159</td>\n",
       "      <td>3771</td>\n",
       "      <td>79.50</td>\n",
       "      <td>23.72</td>\n",
       "      <td>2</td>\n",
       "      <td>0</td>\n",
       "      <td>6</td>\n",
       "      <td>8</td>\n",
       "      <td>0</td>\n",
       "      <td>0</td>\n",
       "      <td>SLO Schedule</td>\n",
       "      <td>reciakGBN1DP9dK9N</td>\n",
       "      <td>San Luis Obispo Regional Transit Authority</td>\n",
       "      <td>2023-10-11</td>\n",
       "    </tr>\n",
       "  </tbody>\n",
       "</table>\n",
       "</div>"
      ],
      "text/plain": [
       "          schedule_gtfs_dataset_key  operator_n_routes  operator_n_trips  \\\n",
       "0  014d0998350083249a9eb310635548c2                  8               137   \n",
       "\n",
       "   operator_n_shapes  operator_n_stops  operator_n_arrivals  \\\n",
       "0                  8               159                 3771   \n",
       "\n",
       "   operator_route_length_miles  operator_arrivals_per_stop  \\\n",
       "0                        79.50                       23.72   \n",
       "\n",
       "   n_downtown_local_routes  n_local_routes  n_coverage_routes  n_rapid_routes  \\\n",
       "0                        2               0                  6               8   \n",
       "\n",
       "   n_express_routes  n_rail_routes          name  \\\n",
       "0                 0              0  SLO Schedule   \n",
       "\n",
       "  organization_source_record_id                           organization_name  \\\n",
       "0             reciakGBN1DP9dK9N  San Luis Obispo Regional Transit Authority   \n",
       "\n",
       "  service_date  \n",
       "0   2023-10-11  "
      ]
     },
     "execution_count": 6,
     "metadata": {},
     "output_type": "execute_result"
    }
   ],
   "source": [
    "op_profiles_df.head(1)"
   ]
  },
  {
   "cell_type": "code",
   "execution_count": 7,
   "id": "0b327b71-4e2b-4ba8-8290-d6c345778369",
   "metadata": {},
   "outputs": [],
   "source": [
    "op_profiles_df1 = op_profiles_df.sort_values(\n",
    "    by=[\"service_date\"], ascending=False\n",
    ").drop_duplicates(subset=[\"schedule_gtfs_dataset_key\"])"
   ]
  },
  {
   "cell_type": "code",
   "execution_count": 8,
   "id": "8d797230-e683-4598-a81f-f887a2d3f5e4",
   "metadata": {},
   "outputs": [
    {
     "data": {
      "text/plain": [
       "(1947, 260)"
      ]
     },
     "execution_count": 8,
     "metadata": {},
     "output_type": "execute_result"
    }
   ],
   "source": [
    "len(op_profiles_df), len(op_profiles_df1)"
   ]
  },
  {
   "cell_type": "code",
   "execution_count": 9,
   "id": "7c04efd6-3ede-418d-a7fe-0667891ef233",
   "metadata": {},
   "outputs": [
    {
     "data": {
      "text/plain": [
       "14"
      ]
     },
     "execution_count": 9,
     "metadata": {},
     "output_type": "execute_result"
    }
   ],
   "source": [
    "op_profiles_df1.service_date.nunique()"
   ]
  },
  {
   "cell_type": "code",
   "execution_count": 10,
   "id": "232cd7d6-b460-4c68-8ef1-5877f861013e",
   "metadata": {},
   "outputs": [],
   "source": [
    "most_recent_date = rt_dates.y2024_dates[-1]"
   ]
  },
  {
   "cell_type": "code",
   "execution_count": 20,
   "id": "3e03fcaf-8c30-4490-a22a-c659036fd386",
   "metadata": {},
   "outputs": [],
   "source": [
    "sf_only = pd.read_parquet(\n",
    "    op_profiles_url, filters=[[(\"organization_name\", \"==\", test_organization)]]\n",
    ")\n",
    "\n",
    "# Keep only the most recent row\n",
    "sf_only1 = sf_only.sort_values(by=[\"service_date\"], ascending=False).head(1)"
   ]
  },
  {
   "cell_type": "code",
   "execution_count": null,
   "id": "98d849f5-ad1a-44de-8558-9a464ff26ba9",
   "metadata": {},
   "outputs": [],
   "source": [
    "schedule_sf_key = sf_only1.schedule_gtfs_dataset_key.iloc[0]"
   ]
  },
  {
   "cell_type": "code",
   "execution_count": 30,
   "id": "e889bf4a-8bab-4498-adde-6ef91495c2e7",
   "metadata": {},
   "outputs": [],
   "source": [
    "crosswalk = helpers.import_schedule_gtfs_key_organization_crosswalk(most_recent_date)[\n",
    "    crosswalk_cols\n",
    "]"
   ]
  },
  {
   "cell_type": "code",
   "execution_count": 11,
   "id": "27545199-44cd-4653-9516-8e7bb490f898",
   "metadata": {},
   "outputs": [],
   "source": [
    "crosswalk_cols = [\n",
    "    \"schedule_gtfs_dataset_key\",\n",
    "    \"counties_served\",\n",
    "    \"service_area_sq_miles\",\n",
    "    \"hq_city\",\n",
    "    \"uza_name\",\n",
    "    \"service_area_pop\",\n",
    "    \"organization_type\",\n",
    "    \"primary_uza\",\n",
    "    \"reporter_type\",\n",
    "]"
   ]
  },
  {
   "cell_type": "code",
   "execution_count": 22,
   "id": "c787ace0-d825-4009-b9cb-7d32a4bed0f2",
   "metadata": {},
   "outputs": [
    {
     "data": {
      "text/html": [
       "<div>\n",
       "<style scoped>\n",
       "    .dataframe tbody tr th:only-of-type {\n",
       "        vertical-align: middle;\n",
       "    }\n",
       "\n",
       "    .dataframe tbody tr th {\n",
       "        vertical-align: top;\n",
       "    }\n",
       "\n",
       "    .dataframe thead th {\n",
       "        text-align: right;\n",
       "    }\n",
       "</style>\n",
       "<table border=\"1\" class=\"dataframe\">\n",
       "  <thead>\n",
       "    <tr style=\"text-align: right;\">\n",
       "      <th></th>\n",
       "      <th>schedule_gtfs_dataset_key</th>\n",
       "      <th>counties_served</th>\n",
       "      <th>service_area_sq_miles</th>\n",
       "      <th>hq_city</th>\n",
       "      <th>uza_name</th>\n",
       "      <th>service_area_pop</th>\n",
       "      <th>organization_type</th>\n",
       "      <th>primary_uza</th>\n",
       "      <th>reporter_type</th>\n",
       "    </tr>\n",
       "  </thead>\n",
       "  <tbody>\n",
       "    <tr>\n",
       "      <th>0</th>\n",
       "      <td>1770249a5a2e770ca90628434d4934b1</td>\n",
       "      <td>None</td>\n",
       "      <td>NaN</td>\n",
       "      <td>Ojai</td>\n",
       "      <td>None</td>\n",
       "      <td>NaN</td>\n",
       "      <td>County or Local Government Unit or Department of Transportation</td>\n",
       "      <td>None</td>\n",
       "      <td>Rural Reporter</td>\n",
       "    </tr>\n",
       "  </tbody>\n",
       "</table>\n",
       "</div>"
      ],
      "text/plain": [
       "          schedule_gtfs_dataset_key counties_served  service_area_sq_miles  \\\n",
       "0  1770249a5a2e770ca90628434d4934b1            None                    NaN   \n",
       "\n",
       "  hq_city uza_name  service_area_pop  \\\n",
       "0    Ojai     None               NaN   \n",
       "\n",
       "                                                 organization_type  \\\n",
       "0  County or Local Government Unit or Department of Transportation   \n",
       "\n",
       "  primary_uza   reporter_type  \n",
       "0        None  Rural Reporter  "
      ]
     },
     "execution_count": 22,
     "metadata": {},
     "output_type": "execute_result"
    }
   ],
   "source": [
    "crosswalk.head(1)"
   ]
  },
  {
   "cell_type": "code",
   "execution_count": 13,
   "id": "d738da56-ad35-44a3-b7c3-9a1516c0a0ff",
   "metadata": {},
   "outputs": [],
   "source": [
    "op_profiles_df2 = pd.merge(\n",
    "    op_profiles_df1, crosswalk, on=\"schedule_gtfs_dataset_key\", how=\"inner\"\n",
    ")"
   ]
  },
  {
   "cell_type": "code",
   "execution_count": 17,
   "id": "55f689b7-23cc-4bbd-b51d-8756b3fac61e",
   "metadata": {},
   "outputs": [
    {
     "data": {
      "text/plain": [
       "(121, 121)"
      ]
     },
     "execution_count": 17,
     "metadata": {},
     "output_type": "execute_result"
    }
   ],
   "source": [
    "len(op_profiles_df2), op_profiles_df2.schedule_gtfs_dataset_key.nunique()"
   ]
  },
  {
   "cell_type": "code",
   "execution_count": 15,
   "id": "dcd2b9dc-0a8e-4059-b654-b68cc39d21d7",
   "metadata": {},
   "outputs": [
    {
     "data": {
      "text/html": [
       "<div>\n",
       "<style scoped>\n",
       "    .dataframe tbody tr th:only-of-type {\n",
       "        vertical-align: middle;\n",
       "    }\n",
       "\n",
       "    .dataframe tbody tr th {\n",
       "        vertical-align: top;\n",
       "    }\n",
       "\n",
       "    .dataframe thead th {\n",
       "        text-align: right;\n",
       "    }\n",
       "</style>\n",
       "<table border=\"1\" class=\"dataframe\">\n",
       "  <thead>\n",
       "    <tr style=\"text-align: right;\">\n",
       "      <th></th>\n",
       "      <th>schedule_gtfs_dataset_key</th>\n",
       "      <th>operator_n_routes</th>\n",
       "      <th>operator_n_trips</th>\n",
       "      <th>operator_n_shapes</th>\n",
       "      <th>operator_n_stops</th>\n",
       "      <th>operator_n_arrivals</th>\n",
       "      <th>operator_route_length_miles</th>\n",
       "      <th>operator_arrivals_per_stop</th>\n",
       "      <th>n_downtown_local_routes</th>\n",
       "      <th>n_local_routes</th>\n",
       "      <th>n_coverage_routes</th>\n",
       "      <th>n_rapid_routes</th>\n",
       "      <th>n_express_routes</th>\n",
       "      <th>n_rail_routes</th>\n",
       "      <th>name</th>\n",
       "      <th>organization_source_record_id</th>\n",
       "      <th>organization_name</th>\n",
       "      <th>service_date</th>\n",
       "      <th>counties_served</th>\n",
       "      <th>service_area_sq_miles</th>\n",
       "      <th>hq_city</th>\n",
       "      <th>uza_name</th>\n",
       "      <th>service_area_pop</th>\n",
       "      <th>organization_type</th>\n",
       "      <th>primary_uza</th>\n",
       "      <th>reporter_type</th>\n",
       "    </tr>\n",
       "  </thead>\n",
       "  <tbody>\n",
       "    <tr>\n",
       "      <th>0</th>\n",
       "      <td>ff72e90ec439c37fe3ce0d3273a0073e</td>\n",
       "      <td>9</td>\n",
       "      <td>139</td>\n",
       "      <td>10</td>\n",
       "      <td>159</td>\n",
       "      <td>3771</td>\n",
       "      <td>85.34</td>\n",
       "      <td>23.72</td>\n",
       "      <td>2</td>\n",
       "      <td>0</td>\n",
       "      <td>8</td>\n",
       "      <td>10</td>\n",
       "      <td>0</td>\n",
       "      <td>0</td>\n",
       "      <td>SLO Schedule</td>\n",
       "      <td>recMM99msxjmc6PPv</td>\n",
       "      <td>City of San Luis Obispo</td>\n",
       "      <td>2024-04-17</td>\n",
       "      <td>San Luis Obispo</td>\n",
       "      <td>22.00</td>\n",
       "      <td>San Luis Obispo</td>\n",
       "      <td>San Luis Obispo, CA</td>\n",
       "      <td>46997.00</td>\n",
       "      <td>County or Local Government Unit or Department of Transportation</td>\n",
       "      <td>None</td>\n",
       "      <td>Full Reporter</td>\n",
       "    </tr>\n",
       "  </tbody>\n",
       "</table>\n",
       "</div>"
      ],
      "text/plain": [
       "          schedule_gtfs_dataset_key  operator_n_routes  operator_n_trips  \\\n",
       "0  ff72e90ec439c37fe3ce0d3273a0073e                  9               139   \n",
       "\n",
       "   operator_n_shapes  operator_n_stops  operator_n_arrivals  \\\n",
       "0                 10               159                 3771   \n",
       "\n",
       "   operator_route_length_miles  operator_arrivals_per_stop  \\\n",
       "0                        85.34                       23.72   \n",
       "\n",
       "   n_downtown_local_routes  n_local_routes  n_coverage_routes  n_rapid_routes  \\\n",
       "0                        2               0                  8              10   \n",
       "\n",
       "   n_express_routes  n_rail_routes          name  \\\n",
       "0                 0              0  SLO Schedule   \n",
       "\n",
       "  organization_source_record_id        organization_name service_date  \\\n",
       "0             recMM99msxjmc6PPv  City of San Luis Obispo   2024-04-17   \n",
       "\n",
       "   counties_served  service_area_sq_miles          hq_city  \\\n",
       "0  San Luis Obispo                  22.00  San Luis Obispo   \n",
       "\n",
       "              uza_name  service_area_pop  \\\n",
       "0  San Luis Obispo, CA          46997.00   \n",
       "\n",
       "                                                 organization_type  \\\n",
       "0  County or Local Government Unit or Department of Transportation   \n",
       "\n",
       "  primary_uza  reporter_type  \n",
       "0        None  Full Reporter  "
      ]
     },
     "execution_count": 15,
     "metadata": {},
     "output_type": "execute_result"
    }
   ],
   "source": [
    "op_profiles_df2.head(1)"
   ]
  },
  {
   "cell_type": "code",
   "execution_count": 18,
   "id": "ad6b0d98-a6a5-4729-b24d-0467773cce58",
   "metadata": {},
   "outputs": [
    {
     "data": {
      "text/plain": [
       "(260, 260)"
      ]
     },
     "execution_count": 18,
     "metadata": {},
     "output_type": "execute_result"
    }
   ],
   "source": [
    "len(op_profiles_df1), op_profiles_df1.schedule_gtfs_dataset_key.nunique()"
   ]
  },
  {
   "cell_type": "markdown",
   "id": "8e77df3d-fc99-4b74-8c4e-f4d9ce201cf1",
   "metadata": {},
   "source": [
    "#### Why aren't all the values merging??"
   ]
  },
  {
   "cell_type": "code",
   "execution_count": null,
   "id": "2df50efc-a334-4528-a571-e06b85c594f1",
   "metadata": {},
   "outputs": [],
   "source": []
  },
  {
   "cell_type": "markdown",
   "id": "c75e9dc6-4e26-4b24-9ca2-d3b8a2ae7f2b",
   "metadata": {},
   "source": [
    "### Incorporate NTD with Crosswalk script."
   ]
  },
  {
   "cell_type": "markdown",
   "id": "db1d33a4-6b8d-4777-b9b9-45e7c2039be7",
   "metadata": {},
   "source": [
    "#### Running `crosswalk_gtfs_datasetkey_to_organization` after my changes.\n",
    "* Using only a few test dates.\n",
    "* Discovered repeated itp_id and operators -> what to do? "
   ]
  },
  {
   "cell_type": "code",
   "execution_count": null,
   "id": "9e89579c-d5f3-4ae3-b09e-3ac2aaf556bc",
   "metadata": {},
   "outputs": [],
   "source": [
    "january_og = pd.read_parquet(\n",
    "    \"gs://calitp-analytics-data/data-analyses/gtfs_schedule/crosswalk/gtfs_key_organization_2024-01-17.parquet\"\n",
    ")"
   ]
  },
  {
   "cell_type": "code",
   "execution_count": null,
   "id": "ed001e20-a7de-4bda-9f8f-fcf523f074a4",
   "metadata": {},
   "outputs": [],
   "source": [
    "january_og.name.nunique(), len(january_og)"
   ]
  },
  {
   "cell_type": "code",
   "execution_count": null,
   "id": "eb918a16-3252-4ec8-a562-3031b75f6672",
   "metadata": {},
   "outputs": [],
   "source": [
    "january_og.head(1)"
   ]
  },
  {
   "cell_type": "code",
   "execution_count": null,
   "id": "49b03f86-43ca-4124-8bef-0b4227a73d3a",
   "metadata": {},
   "outputs": [],
   "source": [
    "january_og.columns"
   ]
  },
  {
   "cell_type": "code",
   "execution_count": null,
   "id": "c7cdf2d9-decc-45a2-a8f4-8a6ff448432c",
   "metadata": {},
   "outputs": [],
   "source": [
    "january_test = pd.read_parquet(\n",
    "    \"gs://calitp-analytics-data/data-analyses/gtfs_schedule/crosswalk/gtfs_key_organization_2024-01-17_AH_TESTING.parquet\"\n",
    ")"
   ]
  },
  {
   "cell_type": "code",
   "execution_count": null,
   "id": "cc266d63-f31b-4b07-bc77-647b719109c6",
   "metadata": {},
   "outputs": [],
   "source": [
    "january_test.columns"
   ]
  },
  {
   "cell_type": "code",
   "execution_count": null,
   "id": "8221ea6e-2974-4268-9f50-108da2cf2c31",
   "metadata": {},
   "outputs": [],
   "source": [
    "january_test.name.nunique(), january_test.agency_name.nunique(), january_test.ntd_id_2022.nunique()"
   ]
  },
  {
   "cell_type": "code",
   "execution_count": null,
   "id": "9fc3eece-2a90-4ec5-9425-7d96482f6b37",
   "metadata": {},
   "outputs": [],
   "source": [
    "len(january_test)"
   ]
  },
  {
   "cell_type": "code",
   "execution_count": null,
   "id": "859b6e74-4b12-4f96-a02b-6dd35917e134",
   "metadata": {},
   "outputs": [],
   "source": [
    "january_test.head(1)"
   ]
  },
  {
   "cell_type": "code",
   "execution_count": null,
   "id": "1cbf95dc-a8ed-41ad-adf1-a309488a16b1",
   "metadata": {},
   "outputs": [],
   "source": [
    "june_24_test = pd.read_parquet(\n",
    "    \"gs://calitp-analytics-data/data-analyses/gtfs_schedule/crosswalk/gtfs_key_organization_2024-06-12_AH_TESTING.parquet\"\n",
    ")"
   ]
  },
  {
   "cell_type": "code",
   "execution_count": null,
   "id": "ea75e6b2-a2b0-4bae-b30d-864c16a1b85f",
   "metadata": {},
   "outputs": [],
   "source": [
    "june_24_test.name.nunique(), june_24_test.agency_name.nunique(), june_24_test.ntd_id_2022.nunique()"
   ]
  },
  {
   "cell_type": "code",
   "execution_count": null,
   "id": "021b7412-680f-4a61-945c-d87991e245e1",
   "metadata": {},
   "outputs": [],
   "source": [
    "len(june_24_test)"
   ]
  },
  {
   "cell_type": "code",
   "execution_count": null,
   "id": "36fedabc-546f-4a2e-a72a-6fb96d92de73",
   "metadata": {},
   "outputs": [],
   "source": [
    "SCHED_GCS"
   ]
  },
  {
   "cell_type": "code",
   "execution_count": null,
   "id": "cd84b955-182f-420c-9520-948cdf4c9f0e",
   "metadata": {},
   "outputs": [],
   "source": [
    "GTFS_DATA_DICT.schedule_tables.gtfs_key_crosswalk"
   ]
  },
  {
   "cell_type": "code",
   "execution_count": null,
   "id": "618ba1df-e744-4d6f-938e-ad72db3d2e92",
   "metadata": {},
   "outputs": [],
   "source": [
    "crosswalk_may_url = \"gs://calitp-analytics-data/data-analyses/gtfs_schedule/crosswalk/gtfs_key_organization_2024-05-26.parquet\""
   ]
  },
  {
   "cell_type": "code",
   "execution_count": null,
   "id": "c242b407-0478-4a57-a7ad-361b75ab27f1",
   "metadata": {},
   "outputs": [],
   "source": [
    "crosswalk_may = pd.read_parquet(crosswalk_may_url)"
   ]
  },
  {
   "cell_type": "code",
   "execution_count": null,
   "id": "d2d67e91-2e6e-44f8-9e59-65275876af05",
   "metadata": {},
   "outputs": [],
   "source": [
    "crosswalk_may.shape"
   ]
  },
  {
   "cell_type": "code",
   "execution_count": null,
   "id": "7612cf84-0b67-45fe-856d-30fe3d85f920",
   "metadata": {},
   "outputs": [],
   "source": [
    "crosswalk_may.itp_id.nunique()"
   ]
  },
  {
   "cell_type": "code",
   "execution_count": null,
   "id": "b3fc259d-01a1-4f49-aad4-83e3b449f3ef",
   "metadata": {},
   "outputs": [],
   "source": [
    "crosswalk_may.itp_id.value_counts().head()"
   ]
  },
  {
   "cell_type": "code",
   "execution_count": null,
   "id": "01d007d8-ed96-45c0-8a99-fffc36ff6060",
   "metadata": {},
   "outputs": [],
   "source": [
    "crosswalk_may.name.nunique()"
   ]
  },
  {
   "cell_type": "code",
   "execution_count": null,
   "id": "4bb34cce-3821-4c58-97fc-d5bd5afc2f80",
   "metadata": {},
   "outputs": [],
   "source": [
    "crosswalk_may.loc[crosswalk_may.itp_id == 127]"
   ]
  },
  {
   "cell_type": "code",
   "execution_count": null,
   "id": "ed220be4-372c-42bb-b57e-84a283f1fdd5",
   "metadata": {},
   "outputs": [],
   "source": [
    "crosswalk_may.loc[crosswalk_may.itp_id == 331]"
   ]
  },
  {
   "cell_type": "code",
   "execution_count": null,
   "id": "ec12261c-c005-442d-84ee-ea71a11df2f0",
   "metadata": {},
   "outputs": [],
   "source": [
    "crosswalk_mar_url = \"gs://calitp-analytics-data/data-analyses/gtfs_schedule/crosswalk/gtfs_key_organization_2024-03-13_AH_TESTING.parquet\""
   ]
  },
  {
   "cell_type": "code",
   "execution_count": null,
   "id": "2ee60bae-0cd6-495d-bb0b-df681ebfd642",
   "metadata": {},
   "outputs": [],
   "source": [
    "crosswalk_mar = pd.read_parquet(crosswalk_mar_url)"
   ]
  },
  {
   "cell_type": "code",
   "execution_count": null,
   "id": "63499778-739c-4bdd-9e41-157ec6666d3f",
   "metadata": {},
   "outputs": [],
   "source": [
    "crosswalk_june = pd.read_parquet(\n",
    "    \"gs://calitp-analytics-data/data-analyses/gtfs_schedule/crosswalk/gtfs_key_organization_2024-06-12.parquet\"\n",
    ")"
   ]
  },
  {
   "cell_type": "code",
   "execution_count": null,
   "id": "bead9fce-21b2-4320-8a25-3bc6069df60a",
   "metadata": {},
   "outputs": [],
   "source": [
    "len(crosswalk_june), crosswalk_june.itp_id.nunique(), crosswalk_june.name.nunique()"
   ]
  },
  {
   "cell_type": "code",
   "execution_count": null,
   "id": "71b11610-697b-4994-967f-39354fac7911",
   "metadata": {},
   "outputs": [],
   "source": [
    "crosswalk_june.itp_id.value_counts().head()"
   ]
  },
  {
   "cell_type": "code",
   "execution_count": null,
   "id": "c905272f-b8da-40cf-a1a0-40b29ad9da5b",
   "metadata": {},
   "outputs": [],
   "source": [
    "crosswalk_may.loc[crosswalk_may.itp_id == 214]"
   ]
  },
  {
   "cell_type": "markdown",
   "id": "de565f8e-e5d4-4705-963c-60a52cae83b3",
   "metadata": {},
   "source": [
    "#### Merges"
   ]
  },
  {
   "cell_type": "code",
   "execution_count": null,
   "id": "feb88057-e4b4-4505-bb75-b9fa9c02f94b",
   "metadata": {},
   "outputs": [],
   "source": [
    "import sys\n",
    "\n",
    "sys.path.append(\"../gtfs_funnel\")\n",
    "import crosswalk_gtfs_dataset_key_to_organization"
   ]
  },
  {
   "cell_type": "code",
   "execution_count": null,
   "id": "7ec21205-83d5-453b-ab10-fdec70ffe1d0",
   "metadata": {},
   "outputs": [],
   "source": [
    "final_ntd = crosswalk_gtfs_dataset_key_to_organization.merge_ntd_mobility(2022)"
   ]
  },
  {
   "cell_type": "code",
   "execution_count": null,
   "id": "8776932f-30ed-41f3-848b-c818004cd193",
   "metadata": {},
   "outputs": [],
   "source": [
    "final_ntd.shape"
   ]
  },
  {
   "cell_type": "code",
   "execution_count": null,
   "id": "05df7991-2509-42b9-94f9-45c34e5c2d43",
   "metadata": {},
   "outputs": [],
   "source": [
    "crosswalk_mar.head(1)"
   ]
  },
  {
   "cell_type": "code",
   "execution_count": null,
   "id": "b7ee2dfb-c623-4e9f-83e5-f04e895ea91b",
   "metadata": {},
   "outputs": [],
   "source": [
    "crosswalk_mar.name.nunique()"
   ]
  },
  {
   "cell_type": "code",
   "execution_count": null,
   "id": "f20fb978-bd7f-43c3-98e8-efb36163dd97",
   "metadata": {},
   "outputs": [],
   "source": [
    "crosswalk_mar.ntd_id.nunique()"
   ]
  },
  {
   "cell_type": "code",
   "execution_count": null,
   "id": "44e98bcc-ba8d-4c54-a553-ac1a64f70e73",
   "metadata": {},
   "outputs": [],
   "source": [
    "crosswalk_mar.ntd_id_2022.value_counts().head(10)"
   ]
  },
  {
   "cell_type": "code",
   "execution_count": null,
   "id": "4f754891-27fa-4016-935e-ac45a7d0988a",
   "metadata": {},
   "outputs": [],
   "source": [
    "crosswalk_mar.loc[crosswalk_mar.ntd_id_2022 == \"99454\"]"
   ]
  },
  {
   "cell_type": "code",
   "execution_count": null,
   "id": "cfa280ca-d871-4a4c-9d79-8fe1c2029908",
   "metadata": {},
   "outputs": [],
   "source": [
    "crosswalk_mar.loc[crosswalk_mar.ntd_id_2022 == \"90154\"]"
   ]
  },
  {
   "cell_type": "code",
   "execution_count": null,
   "id": "138c88f4-7380-4670-a067-13c281763941",
   "metadata": {},
   "outputs": [],
   "source": [
    "len(crosswalk_mar)"
   ]
  },
  {
   "cell_type": "code",
   "execution_count": null,
   "id": "1b3e5fec-4f81-48b2-ae58-3f027c892d0a",
   "metadata": {},
   "outputs": [],
   "source": [
    "pd.merge(\n",
    "    crosswalk_mar,\n",
    "    final_ntd,\n",
    "    left_on=[\"ntd_id_2022\"],\n",
    "    right_on=[\"ntd_id\"],\n",
    "    how=\"outer\",\n",
    "    indicator=True,\n",
    ")[[\"_merge\"]].value_counts()"
   ]
  },
  {
   "cell_type": "code",
   "execution_count": null,
   "id": "0d932d44-2f71-460a-adaf-aaa0632a8cf6",
   "metadata": {},
   "outputs": [],
   "source": [
    "pd.merge(crosswalk_mar, final_ntd, on=[\"ntd_id\"], how=\"outer\", indicator=True)[\n",
    "    [\"_merge\"]\n",
    "].value_counts()"
   ]
  },
  {
   "cell_type": "code",
   "execution_count": null,
   "id": "0511c212-b5a5-43ce-9c82-03ee3f4ad025",
   "metadata": {},
   "outputs": [],
   "source": [
    "pd.merge(\n",
    "    crosswalk_mar,\n",
    "    final_ntd,\n",
    "    left_on=[\"name\"],\n",
    "    right_on=[\"agency_name\"],\n",
    "    how=\"outer\",\n",
    "    indicator=True,\n",
    ")[[\"_merge\"]].value_counts()"
   ]
  },
  {
   "cell_type": "markdown",
   "id": "ec7025be-95b3-48e5-b8ed-5cdb79b86cce",
   "metadata": {},
   "source": [
    "### Find the NTD IDs in `dim_annual_ntd_agency_service`"
   ]
  },
  {
   "cell_type": "code",
   "execution_count": null,
   "id": "00c3d460-c126-4750-9df9-8428b368a12e",
   "metadata": {},
   "outputs": [],
   "source": [
    "ntd_agency_service = tbls.mart_ntd.dim_annual_ntd_agency_service() >> collect()"
   ]
  },
  {
   "cell_type": "code",
   "execution_count": null,
   "id": "930883b2-aeb1-4421-9277-af943f111b01",
   "metadata": {},
   "outputs": [],
   "source": [
    "ntd_agency_service.head(1)"
   ]
  },
  {
   "cell_type": "code",
   "execution_count": null,
   "id": "66068e6d-bea5-4311-9c96-9874fb7f37dd",
   "metadata": {},
   "outputs": [],
   "source": [
    "ntd_agency_service.ntd_id.nunique()"
   ]
  },
  {
   "cell_type": "code",
   "execution_count": null,
   "id": "6b415d55-b061-44fb-820a-295551c12b09",
   "metadata": {},
   "outputs": [],
   "source": [
    "ntd_agency_service.agency_name.nunique()"
   ]
  },
  {
   "cell_type": "code",
   "execution_count": null,
   "id": "b832ad16-c5e6-47fc-bf98-b0a9787e7b69",
   "metadata": {},
   "outputs": [],
   "source": [
    "len(ntd_agency_service)"
   ]
  },
  {
   "cell_type": "code",
   "execution_count": null,
   "id": "d7344cd8-06db-466f-99ad-586a1dc79dfb",
   "metadata": {},
   "outputs": [],
   "source": [
    "len(ntd_agency_service.drop_duplicates(subset=[\"ntd_id\", \"agency_name\"]))"
   ]
  },
  {
   "cell_type": "code",
   "execution_count": null,
   "id": "38dea19a-ca01-487f-a75a-2cfb40375360",
   "metadata": {},
   "outputs": [],
   "source": [
    "ntd_agency_service2 = ntd_agency_service.drop_duplicates(\n",
    "    subset=[\"ntd_id\", \"agency_name\"]\n",
    ")"
   ]
  },
  {
   "cell_type": "code",
   "execution_count": null,
   "id": "8198aeeb-6e7b-4e01-9469-4197a15d9696",
   "metadata": {},
   "outputs": [],
   "source": [
    "ntd_agency_service.year.unique()"
   ]
  },
  {
   "cell_type": "markdown",
   "id": "71da3927-4eae-4268-8f9b-b8b3abb3e2a8",
   "metadata": {},
   "source": [
    "#### Merging NTD Agency Service with the Crosswalk"
   ]
  },
  {
   "cell_type": "code",
   "execution_count": null,
   "id": "07181f09-131d-4fae-b5e6-d0d4b5079234",
   "metadata": {},
   "outputs": [],
   "source": [
    "pd.merge(\n",
    "    crosswalk_mar,\n",
    "    ntd_agency_service2,\n",
    "    left_on=[\"ntd_id_2022\", \"organization_name\"],\n",
    "    right_on=[\"ntd_id\", \"agency_name\"],\n",
    "    how=\"outer\",\n",
    "    indicator=True,\n",
    ")[[\"_merge\"]].value_counts()"
   ]
  },
  {
   "cell_type": "code",
   "execution_count": null,
   "id": "d3f59e37-94aa-46ff-ab57-27c54bc2b87c",
   "metadata": {},
   "outputs": [],
   "source": [
    "pd.merge(\n",
    "    crosswalk_mar, ntd_agency_service2, on=[\"ntd_id\"], how=\"outer\", indicator=True\n",
    ")[[\"_merge\"]].value_counts()"
   ]
  },
  {
   "cell_type": "code",
   "execution_count": null,
   "id": "8df1c258-8ff9-41b1-9577-55a310fd5237",
   "metadata": {},
   "outputs": [],
   "source": [
    "len(crosswalk_mar)"
   ]
  },
  {
   "cell_type": "markdown",
   "id": "789cf968-0f7a-47ba-9dcc-e349dcfc2e22",
   "metadata": {},
   "source": [
    "#### Compare the original NTD table versus NTD Agency Service"
   ]
  },
  {
   "cell_type": "code",
   "execution_count": null,
   "id": "a386b47e-b175-491e-ac3a-a311e821238f",
   "metadata": {},
   "outputs": [],
   "source": [
    "agency_service_id = set(ntd_agency_service2.ntd_id.unique().tolist())\n",
    "agency_profile_id = set(final_ntd.ntd_id.unique().tolist())\n",
    "agency_profile_id - agency_service_id"
   ]
  },
  {
   "cell_type": "code",
   "execution_count": null,
   "id": "84c51382-afc4-4052-8281-1d23077e5ab6",
   "metadata": {},
   "outputs": [],
   "source": [
    "pd.merge(final_ntd, ntd_agency_service2, on=[\"ntd_id\"], how=\"outer\", indicator=True)[\n",
    "    [\"_merge\"]\n",
    "].value_counts()"
   ]
  },
  {
   "cell_type": "code",
   "execution_count": null,
   "id": "a7e7f625-2557-4faa-a084-04be399d555d",
   "metadata": {},
   "outputs": [],
   "source": [
    "len(final_ntd)"
   ]
  },
  {
   "cell_type": "code",
   "execution_count": null,
   "id": "b72c84fb-b7fb-4148-a7d3-71c280892764",
   "metadata": {},
   "outputs": [],
   "source": [
    "pd.merge(\n",
    "    final_ntd,\n",
    "    ntd_agency_service2,\n",
    "    on=[\"ntd_id\", \"agency_name\"],\n",
    "    how=\"left\",\n",
    "    indicator=True,\n",
    ")[[\"_merge\"]].value_counts()"
   ]
  },
  {
   "cell_type": "code",
   "execution_count": null,
   "id": "e60e37a2-7dc0-48e6-ac91-15fdca8bb3db",
   "metadata": {},
   "outputs": [],
   "source": [
    "len(agency_profile_id)"
   ]
  },
  {
   "cell_type": "code",
   "execution_count": null,
   "id": "baf0f659-a4e2-45f5-b9e9-d1b452b1f690",
   "metadata": {
    "scrolled": true,
    "tags": []
   },
   "outputs": [],
   "source": [
    "len(agency_service_id - agency_profile_id)"
   ]
  },
  {
   "cell_type": "code",
   "execution_count": null,
   "id": "6eda8493-0357-4623-9638-023ff2389463",
   "metadata": {},
   "outputs": [],
   "source": [
    "agency_service_agency = set(ntd_agency_service.agency_name.unique().tolist())\n",
    "agency_profile_agency = set(final_ntd.agency_name.unique().tolist())"
   ]
  },
  {
   "cell_type": "code",
   "execution_count": null,
   "id": "26fc2276-42a5-435a-9374-49534dacf35c",
   "metadata": {},
   "outputs": [],
   "source": [
    "agency_profile_agency - agency_service_agency"
   ]
  },
  {
   "cell_type": "markdown",
   "id": "6b004803-1515-400b-a4b8-aae7eb8667ef",
   "metadata": {},
   "source": [
    "### Checkout NTD"
   ]
  },
  {
   "cell_type": "code",
   "execution_count": null,
   "id": "fdbb0219-3790-4911-af57-70e54606b89c",
   "metadata": {},
   "outputs": [],
   "source": [
    "ntd_test = (\n",
    "    tbls.mart_ntd.dim_annual_ntd_agency_information()\n",
    "    >> filter(_.state == \"CA\", _._is_current == True)\n",
    "    >> collect()\n",
    ")"
   ]
  },
  {
   "cell_type": "code",
   "execution_count": null,
   "id": "0f200f34-f7b4-463d-909b-8d11949f53ce",
   "metadata": {},
   "outputs": [],
   "source": [
    "ntd_test.shape"
   ]
  },
  {
   "cell_type": "code",
   "execution_count": null,
   "id": "738a50f2-3f2e-4fc6-9bf7-fa4c2fa0c449",
   "metadata": {},
   "outputs": [],
   "source": [
    "ntd_test.head(1)"
   ]
  },
  {
   "cell_type": "code",
   "execution_count": null,
   "id": "3a7c1319-a614-4322-bc5e-75c03aac360c",
   "metadata": {},
   "outputs": [],
   "source": [
    "ntd_test.year.unique()"
   ]
  },
  {
   "cell_type": "code",
   "execution_count": null,
   "id": "1082d592-a3b9-4c19-82c8-42886e624c21",
   "metadata": {},
   "outputs": [],
   "source": [
    "ntd2 = ntd.sort_values(by=list(ntd.columns), na_position=\"last\")"
   ]
  },
  {
   "cell_type": "code",
   "execution_count": null,
   "id": "a0e171a8-1282-4bcc-a344-40f5426d8b6a",
   "metadata": {},
   "outputs": [],
   "source": [
    "ntd.shape"
   ]
  },
  {
   "cell_type": "code",
   "execution_count": null,
   "id": "8026edda-87a4-4e6c-bc91-5a898c67854f",
   "metadata": {},
   "outputs": [],
   "source": [
    "ntd.loc[ntd.agency_name == \"Kern Regional Transit\"]"
   ]
  },
  {
   "cell_type": "code",
   "execution_count": null,
   "id": "a707845b-cd23-45dc-8766-fc314e1a0a6f",
   "metadata": {},
   "outputs": [],
   "source": [
    "ntd2.loc[ntd2.agency_name == \"Kern Regional Transit\"]"
   ]
  },
  {
   "cell_type": "code",
   "execution_count": null,
   "id": "02ef187b-5f25-4ea0-be64-2479fc1f2e08",
   "metadata": {},
   "outputs": [],
   "source": [
    "ntd.loc[ntd.agency_name == \"San Luis Obispo Regional Transit Authority\"]"
   ]
  },
  {
   "cell_type": "code",
   "execution_count": null,
   "id": "1986d084-8d9e-40ac-b66c-d843bc534b4b",
   "metadata": {},
   "outputs": [],
   "source": [
    "ntd2.loc[ntd2.agency_name == \"San Luis Obispo Regional Transit Authority\"]"
   ]
  },
  {
   "cell_type": "code",
   "execution_count": null,
   "id": "af77c732-db12-47e0-a7ff-d9574a7f3b1e",
   "metadata": {},
   "outputs": [],
   "source": [
    "ntd.agency_name.value_counts().head(10)"
   ]
  },
  {
   "cell_type": "code",
   "execution_count": null,
   "id": "c71aa92d-96a2-4155-93fa-03177c72f854",
   "metadata": {},
   "outputs": [],
   "source": [
    "ntd3 = ntd2.groupby(\"agency_name\").first().reset_index()"
   ]
  },
  {
   "cell_type": "code",
   "execution_count": null,
   "id": "7aa2945d-2534-4a8d-a6e2-e78f87fc4d9f",
   "metadata": {},
   "outputs": [],
   "source": [
    "ntd3.loc[ntd3.agency_name == \"San Luis Obispo Regional Transit Authority\"]"
   ]
  },
  {
   "cell_type": "code",
   "execution_count": null,
   "id": "fd0276b7-73aa-4f06-ba51-5288eb7d106d",
   "metadata": {},
   "outputs": [],
   "source": [
    "ntd3.head(1).T"
   ]
  },
  {
   "cell_type": "code",
   "execution_count": null,
   "id": "18fa8e03-2519-4fde-b027-6c94bce0e486",
   "metadata": {},
   "outputs": [],
   "source": [
    "ntd4 = (\n",
    "    tbls.mart_ntd.dim_annual_ntd_agency_information()\n",
    "    >> filter(_.year == 2022, _.state == \"CA\", _._is_current == True)\n",
    "    >> collect()\n",
    ")"
   ]
  },
  {
   "cell_type": "code",
   "execution_count": null,
   "id": "01dcdb6f-e62a-420b-9207-8623e0c13846",
   "metadata": {},
   "outputs": [],
   "source": [
    "ntd4.head(1).T"
   ]
  },
  {
   "cell_type": "markdown",
   "id": "b7eccc14-4300-46e8-84e5-2930dff748fd",
   "metadata": {},
   "source": [
    "### Checkout `mobility` \n",
    "* Need this because there is additional columns here that isn't in NTD."
   ]
  },
  {
   "cell_type": "code",
   "execution_count": null,
   "id": "68753f5b-5afb-4504-9234-6f898cfb51d1",
   "metadata": {},
   "outputs": [],
   "source": [
    "mob_og = tbls.mart_transit_database.dim_mobility_mart_providers() >> collect()"
   ]
  },
  {
   "cell_type": "code",
   "execution_count": null,
   "id": "084cf25b-1586-4122-8c89-0d25eb8b884f",
   "metadata": {},
   "outputs": [],
   "source": [
    "mob_og.head(1).T"
   ]
  },
  {
   "cell_type": "code",
   "execution_count": null,
   "id": "0ffdd0e8-2d53-4b05-a3b0-693597917a7f",
   "metadata": {},
   "outputs": [],
   "source": [
    "mob = (\n",
    "    tbls.mart_transit_database.dim_mobility_mart_providers()\n",
    "    >> select(\n",
    "        _.agency_name,\n",
    "        _.counties_served,\n",
    "        _.hq_city,\n",
    "        _.hq_county,\n",
    "        _.is_public_entity,\n",
    "        _.is_publicly_operating,\n",
    "        _.funding_sources,\n",
    "        _.on_demand_vehicles_at_max_service,\n",
    "        _.vehicles_at_max_service,\n",
    "    )\n",
    "    >> collect()\n",
    ")"
   ]
  },
  {
   "cell_type": "code",
   "execution_count": null,
   "id": "ae598235-b1e5-4621-aa10-979194b19cc2",
   "metadata": {},
   "outputs": [],
   "source": [
    "mob.head(1).T"
   ]
  },
  {
   "cell_type": "code",
   "execution_count": null,
   "id": "a78e5469-bf89-4c8e-ae57-ccbbe799c660",
   "metadata": {},
   "outputs": [],
   "source": [
    "mob.agency_name.value_counts().head(10)"
   ]
  },
  {
   "cell_type": "code",
   "execution_count": null,
   "id": "9786e812-6022-4e66-b583-9375d67aac64",
   "metadata": {},
   "outputs": [],
   "source": [
    "mob.loc[mob.agency_name == \"Kern Regional Transit\"]"
   ]
  },
  {
   "cell_type": "code",
   "execution_count": null,
   "id": "83353600-64aa-4c13-bb27-2cccec3042d5",
   "metadata": {},
   "outputs": [],
   "source": [
    "mob2 = mob.sort_values(\n",
    "    by=[\"on_demand_vehicles_at_max_service\", \"vehicles_at_max_service\"],\n",
    "    ascending=[False, False],\n",
    ")"
   ]
  },
  {
   "cell_type": "code",
   "execution_count": null,
   "id": "270e57ce-70e3-41f4-949a-5ed5a16cc681",
   "metadata": {},
   "outputs": [],
   "source": [
    "mob2.loc[mob2.agency_name == \"Kern Regional Transit\"]"
   ]
  },
  {
   "cell_type": "code",
   "execution_count": null,
   "id": "ab481356-b5ca-446e-adb4-fa7a6e12a20c",
   "metadata": {},
   "outputs": [],
   "source": [
    "mob3 = mob2.groupby(\"agency_name\").first().reset_index()"
   ]
  },
  {
   "cell_type": "code",
   "execution_count": null,
   "id": "38b1526d-9a18-4269-b22d-108983cb1eaf",
   "metadata": {},
   "outputs": [],
   "source": [
    "mob3.loc[mob3.agency_name == \"Kern Regional Transit\"]"
   ]
  },
  {
   "cell_type": "markdown",
   "id": "be18a05e-32bb-4746-9abb-fa9be7e6cdaa",
   "metadata": {},
   "source": [
    "### I made a minor change to loading `mobility` warehouse data (just deleting an unncessary line). Otherwise, the functions are good to go."
   ]
  },
  {
   "cell_type": "code",
   "execution_count": null,
   "id": "56393f15-5393-4437-bfd4-f07d5cb4e858",
   "metadata": {},
   "outputs": [],
   "source": [
    "def merge_ntd_mobility(year: int) -> pd.DataFrame:\n",
    "    ntd = section1.load_ntd(year)\n",
    "    mobility = section1.load_mobility()\n",
    "    m1 = pd.merge(mobility, ntd, how=\"inner\", on=\"agency_name\")\n",
    "    agency_dict = {\n",
    "        \"City of Fairfield, California\": \"City of Fairfield\",\n",
    "        \"Livermore / Amador Valley Transit Authority\": \"Livermore-Amador Valley Transit Authority\",\n",
    "        \"Nevada County Transit Services\": \"Nevada County\",\n",
    "        \"Omnitrans\": \"OmniTrans\",\n",
    "    }\n",
    "\n",
    "    m1.agency_name = m1.agency_name.replace(agency_dict)\n",
    "    m1.agency_name = m1.agency_name.str.strip()\n",
    "    m1 = m1.drop_duplicates(subset=[\"agency_name\"]).reset_index(drop=True)\n",
    "    return m1"
   ]
  },
  {
   "cell_type": "code",
   "execution_count": null,
   "id": "6debcdda-36db-4882-b205-bb11c109947b",
   "metadata": {},
   "outputs": [],
   "source": [
    "m1 = merge_ntd_mobility(2022)"
   ]
  },
  {
   "cell_type": "code",
   "execution_count": null,
   "id": "9a32f902-3a4f-41f4-a859-2431db1de980",
   "metadata": {},
   "outputs": [],
   "source": [
    "m1.shape"
   ]
  },
  {
   "cell_type": "code",
   "execution_count": null,
   "id": "487ae4b4-3fa2-4906-88bf-8f07258467e1",
   "metadata": {},
   "outputs": [],
   "source": [
    "m1.agency_name.nunique()"
   ]
  },
  {
   "cell_type": "code",
   "execution_count": null,
   "id": "a367a0a1-5cc7-499d-b3b1-20a9e718b49f",
   "metadata": {},
   "outputs": [],
   "source": [
    "m1.agency_name.value_counts().head()"
   ]
  },
  {
   "cell_type": "code",
   "execution_count": null,
   "id": "255ab6f3-7a7e-44a4-a35a-0b43bb4d07f2",
   "metadata": {},
   "outputs": [],
   "source": [
    "m1.loc[m1.agency_name == \"Redding Area Bus Authority\"]"
   ]
  },
  {
   "cell_type": "markdown",
   "id": "97654901-db31-464c-9875-ab2639b5df41",
   "metadata": {},
   "source": [
    "### Checkout Route Typology\n",
    "* All this work lives in another script `gtfs_Funnel/route_typologies.py`"
   ]
  },
  {
   "cell_type": "code",
   "execution_count": null,
   "id": "7e6be9f0-1a3f-44ac-89f4-6dbfb4ad5a18",
   "metadata": {},
   "outputs": [],
   "source": [
    "ROUTE_TYPOLOGY = GTFS_DATA_DICT.schedule_tables.route_typologies"
   ]
  },
  {
   "cell_type": "code",
   "execution_count": null,
   "id": "1f756bb2-5561-40bc-b306-ebcc55f223c0",
   "metadata": {},
   "outputs": [],
   "source": [
    "SCHED_GCS"
   ]
  },
  {
   "cell_type": "code",
   "execution_count": null,
   "id": "d4e12f43-f210-4570-9293-9608f1405d11",
   "metadata": {},
   "outputs": [],
   "source": [
    "ROUTE_TYPOLOGY"
   ]
  },
  {
   "cell_type": "code",
   "execution_count": null,
   "id": "3e58dbe7-ac92-481b-8b19-b41875c67e02",
   "metadata": {},
   "outputs": [],
   "source": [
    "apr_24_url = \"gs://calitp-analytics-data/data-analyses/gtfs_schedule/nacto_typologies/route_typologies_2024-04-19.parquet\""
   ]
  },
  {
   "cell_type": "code",
   "execution_count": null,
   "id": "a196f044-846a-40b0-8a1b-754cae9c638b",
   "metadata": {},
   "outputs": [],
   "source": [
    "apr_24_df = pd.read_parquet(apr_24_url)"
   ]
  },
  {
   "cell_type": "code",
   "execution_count": null,
   "id": "c0235078-96b4-4fcb-8f18-26ff8131ca27",
   "metadata": {},
   "outputs": [],
   "source": [
    "apr_24_df.head(2)"
   ]
  }
 ],
 "metadata": {
  "kernelspec": {
   "display_name": "Python 3 (ipykernel)",
   "language": "python",
   "name": "python3"
  },
  "language_info": {
   "codemirror_mode": {
    "name": "ipython",
    "version": 3
   },
   "file_extension": ".py",
   "mimetype": "text/x-python",
   "name": "python",
   "nbconvert_exporter": "python",
   "pygments_lexer": "ipython3",
   "version": "3.9.13"
  }
 },
 "nbformat": 4,
 "nbformat_minor": 5
}
