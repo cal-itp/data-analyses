{
 "cells": [
  {
   "cell_type": "markdown",
   "id": "306365db-47e6-4d40-bc35-c688130e4863",
   "metadata": {},
   "source": [
    "## Incorporating `NTD` stuff directly into `operator_profiles`\n",
    "* How do I rerun everything and make sure the files are update with all the dates?"
   ]
  },
  {
   "cell_type": "code",
   "execution_count": 1,
   "id": "604c75b3-f74c-4b32-9e72-9635b86e53c5",
   "metadata": {},
   "outputs": [],
   "source": [
    "from datetime import datetime\n",
    "\n",
    "import _operators_prep as op_prep\n",
    "import _report_utils\n",
    "import _section1_utils as section1\n",
    "import geopandas as gpd\n",
    "import numpy as np\n",
    "import pandas as pd\n",
    "from IPython.display import HTML, Image, Markdown, display, display_html\n",
    "from segment_speed_utils import gtfs_schedule_wrangling, helpers, time_series_utils\n",
    "from segment_speed_utils.project_vars import (\n",
    "    COMPILED_CACHED_VIEWS,\n",
    "    GTFS_DATA_DICT,\n",
    "    PROJECT_CRS,\n",
    "    RT_SCHED_GCS,\n",
    "    SCHED_GCS,\n",
    "    SEGMENT_GCS,\n",
    ")\n",
    "from shared_utils import catalog_utils, rt_dates, rt_utils"
   ]
  },
  {
   "cell_type": "code",
   "execution_count": 2,
   "id": "892f561d-193f-4e9e-896f-37caf6490c00",
   "metadata": {},
   "outputs": [],
   "source": [
    "# Warehouse\n",
    "import os\n",
    "from calitp_data_analysis.sql import query_sql\n",
    "from calitp_data_analysis.tables import tbls\n",
    "from siuba import *"
   ]
  },
  {
   "cell_type": "code",
   "execution_count": 3,
   "id": "da0c3ac2-d52c-477b-b70d-c975c560779b",
   "metadata": {},
   "outputs": [],
   "source": [
    "pd.options.display.max_columns = 100\n",
    "pd.options.display.float_format = \"{:.2f}\".format\n",
    "pd.set_option(\"display.max_rows\", None)\n",
    "pd.set_option(\"display.max_colwidth\", None)"
   ]
  },
  {
   "cell_type": "markdown",
   "id": "c75e9dc6-4e26-4b24-9ca2-d3b8a2ae7f2b",
   "metadata": {},
   "source": [
    "### Test Script"
   ]
  },
  {
   "cell_type": "code",
   "execution_count": 4,
   "id": "530f79c0-df3d-4152-b09a-9fc19fd9e60d",
   "metadata": {},
   "outputs": [],
   "source": [
    "import sys\n",
    "\n",
    "sys.path.append(\"../gtfs_funnel\")\n",
    "import ntd_annual_database_agency"
   ]
  },
  {
   "cell_type": "code",
   "execution_count": 5,
   "id": "f2cb576a-dbd1-41d7-823c-5bda39e2028a",
   "metadata": {},
   "outputs": [],
   "source": [
    "ntd_test = ntd_annual_database_agency.merge_ntd_mobility(2022)"
   ]
  },
  {
   "cell_type": "markdown",
   "id": "d56aa6ef-bc70-48b0-b45d-751ff3769d0a",
   "metadata": {},
   "source": [
    "### This is the dataframe I use for my GTFS Digest portfolio work."
   ]
  },
  {
   "cell_type": "code",
   "execution_count": null,
   "id": "22d4cdb1-ec84-41f1-881e-25b8d8dacdb5",
   "metadata": {},
   "outputs": [],
   "source": [
    "op_profiles_url = f\"{GTFS_DATA_DICT.digest_tables.dir}{GTFS_DATA_DICT.digest_tables.operator_profiles}.parquet\""
   ]
  },
  {
   "cell_type": "code",
   "execution_count": null,
   "id": "cc8a9aa9-d10f-4532-88f1-de8c1dd205e3",
   "metadata": {},
   "outputs": [],
   "source": [
    "GTFS_DATA_DICT.digest_tables.dir"
   ]
  },
  {
   "cell_type": "code",
   "execution_count": null,
   "id": "26aa1692-0b81-448b-898a-1163282fd397",
   "metadata": {},
   "outputs": [],
   "source": [
    "GTFS_DATA_DICT.digest_tables.operator_profiles"
   ]
  },
  {
   "cell_type": "code",
   "execution_count": null,
   "id": "3d1d9039-0694-4b04-9a41-db7a745f3830",
   "metadata": {},
   "outputs": [],
   "source": [
    "op_profiles = pd.read_parquet(op_profiles_url)"
   ]
  },
  {
   "cell_type": "markdown",
   "id": "1c0b9a17-3342-4b66-9298-7b1d08f5e84b",
   "metadata": {},
   "source": [
    "#### Figuring out where `operator_profiles` is created\n",
    "* [Where](https://github.com/cal-itp/data-analyses/blob/ce779ede5c48f84e974615a457be77cba2f8b08b/gtfs_digest/merge_operator_data.py#L109) `operator_profiles` is stacked for all the available dates.\n",
    "* `GTFS_DATA_DICT.schedule_tables.operator_scheduled_stats` is the actual file being stacked that is being created here in [GTFS Funnel](https://github.com/cal-itp/data-analyses/blob/ce779ede5c48f84e974615a457be77cba2f8b08b/gtfs_funnel/operator_scheduled_stats.py#L147)"
   ]
  },
  {
   "cell_type": "code",
   "execution_count": null,
   "id": "0b9269b9-7a1d-4b6c-82c5-60443a444a26",
   "metadata": {},
   "outputs": [],
   "source": [
    "SCHED_GCS"
   ]
  },
  {
   "cell_type": "code",
   "execution_count": null,
   "id": "09eb75c2-b0d4-4e3a-8947-5065d40aed6f",
   "metadata": {},
   "outputs": [],
   "source": [
    "GTFS_DATA_DICT.schedule_tables.operator_scheduled_stats"
   ]
  },
  {
   "cell_type": "code",
   "execution_count": null,
   "id": "c9f41f85-c600-44f3-b5dd-56ec77468095",
   "metadata": {},
   "outputs": [],
   "source": [
    "may_24 = pd.read_parquet(\n",
    "    \"gs://calitp-analytics-data/data-analyses/gtfs_schedule/operator_profiles/operator_scheduled_stats_2024-05-26.parquet\"\n",
    ")"
   ]
  },
  {
   "cell_type": "code",
   "execution_count": null,
   "id": "b722bedd-2967-49ff-b15e-a2a60e6cc348",
   "metadata": {},
   "outputs": [],
   "source": [
    "may_24.head(1)"
   ]
  },
  {
   "cell_type": "markdown",
   "id": "112ff121-b6d6-4eb8-b602-32b5dca2c897",
   "metadata": {},
   "source": [
    "#### `gtfs_funnel/operator_scheduled_stats`\n",
    "* Add `ntd` stuff somewhere around 164-174\n",
    "* How often is the NTD data updated in our warehouse?\n",
    "* So far I am querying 2022 data.\n",
    "* Where do I add this NTD stuff?"
   ]
  },
  {
   "cell_type": "markdown",
   "id": "6b004803-1515-400b-a4b8-aae7eb8667ef",
   "metadata": {},
   "source": [
    "#### Checkout NTD"
   ]
  },
  {
   "cell_type": "code",
   "execution_count": null,
   "id": "896f7fff-b826-48fb-b1e8-aa5f1dc13627",
   "metadata": {},
   "outputs": [],
   "source": [
    "def load_ntd(year: int) -> pd.DataFrame:\n",
    "    \"\"\"\n",
    "    Load NTD Data stored in our warehouse.\n",
    "    \"\"\"\n",
    "    df = (\n",
    "        tbls.mart_ntd.dim_annual_ntd_agency_information()\n",
    "        >> filter(_.year == year, _.state == \"CA\", _._is_current == True)\n",
    "        >> select(\n",
    "            _.number_of_state_counties,\n",
    "            _.uza_name,\n",
    "            _.density,\n",
    "            _.number_of_counties_with_service,\n",
    "            _.state_admin_funds_expended,\n",
    "            _.service_area_sq_miles,\n",
    "            _.population,\n",
    "            _.service_area_pop,\n",
    "            _.subrecipient_type,\n",
    "            _.primary_uza,\n",
    "            _.reporter_type,\n",
    "            _.organization_type,\n",
    "            _.agency_name,\n",
    "            _.voms_pt,\n",
    "            _.voms_do,\n",
    "        )\n",
    "        >> collect()\n",
    "    )\n",
    "\n",
    "    cols = list(df.columns)\n",
    "\n",
    "    # Put rows with a lot of nans at the bottom\n",
    "    # because some of the operators have 1+ entry.\n",
    "    df2 = df.sort_values(by=cols, na_position=\"last\")\n",
    "\n",
    "    # Keep only the rows with the most data.\n",
    "    df3 = df2.groupby(\"agency_name\").first().reset_index()\n",
    "\n",
    "    return df3"
   ]
  },
  {
   "cell_type": "code",
   "execution_count": null,
   "id": "fdbb0219-3790-4911-af57-70e54606b89c",
   "metadata": {},
   "outputs": [],
   "source": [
    "ntd = (\n",
    "    tbls.mart_ntd.dim_annual_ntd_agency_information()\n",
    "    >> filter(_.year == 2022, _.state == \"CA\", _._is_current == True)\n",
    "    >> select(\n",
    "        _.number_of_state_counties,\n",
    "        _.uza_name,\n",
    "        _.density,\n",
    "        _.number_of_counties_with_service,\n",
    "        _.state_admin_funds_expended,\n",
    "        _.service_area_sq_miles,\n",
    "        _.population,\n",
    "        _.service_area_pop,\n",
    "        _.subrecipient_type,\n",
    "        _.primary_uza,\n",
    "        _.reporter_type,\n",
    "        _.organization_type,\n",
    "        _.agency_name,\n",
    "        _.voms_pt,\n",
    "        _.voms_do,\n",
    "    )\n",
    "    >> collect()\n",
    ")"
   ]
  },
  {
   "cell_type": "code",
   "execution_count": null,
   "id": "1082d592-a3b9-4c19-82c8-42886e624c21",
   "metadata": {},
   "outputs": [],
   "source": [
    "ntd2 = ntd.sort_values(by=list(ntd.columns), na_position=\"last\")"
   ]
  },
  {
   "cell_type": "code",
   "execution_count": null,
   "id": "a0e171a8-1282-4bcc-a344-40f5426d8b6a",
   "metadata": {},
   "outputs": [],
   "source": [
    "ntd.shape"
   ]
  },
  {
   "cell_type": "code",
   "execution_count": null,
   "id": "8026edda-87a4-4e6c-bc91-5a898c67854f",
   "metadata": {},
   "outputs": [],
   "source": [
    "ntd.loc[ntd.agency_name == \"Kern Regional Transit\"]"
   ]
  },
  {
   "cell_type": "code",
   "execution_count": null,
   "id": "a707845b-cd23-45dc-8766-fc314e1a0a6f",
   "metadata": {},
   "outputs": [],
   "source": [
    "ntd2.loc[ntd2.agency_name == \"Kern Regional Transit\"]"
   ]
  },
  {
   "cell_type": "code",
   "execution_count": null,
   "id": "02ef187b-5f25-4ea0-be64-2479fc1f2e08",
   "metadata": {},
   "outputs": [],
   "source": [
    "ntd.loc[ntd.agency_name == \"San Luis Obispo Regional Transit Authority\"]"
   ]
  },
  {
   "cell_type": "code",
   "execution_count": null,
   "id": "1986d084-8d9e-40ac-b66c-d843bc534b4b",
   "metadata": {},
   "outputs": [],
   "source": [
    "ntd2.loc[ntd2.agency_name == \"San Luis Obispo Regional Transit Authority\"]"
   ]
  },
  {
   "cell_type": "code",
   "execution_count": null,
   "id": "af77c732-db12-47e0-a7ff-d9574a7f3b1e",
   "metadata": {},
   "outputs": [],
   "source": [
    "ntd.agency_name.value_counts().head(10)"
   ]
  },
  {
   "cell_type": "code",
   "execution_count": null,
   "id": "c71aa92d-96a2-4155-93fa-03177c72f854",
   "metadata": {},
   "outputs": [],
   "source": [
    "ntd3 = ntd2.groupby(\"agency_name\").first().reset_index()"
   ]
  },
  {
   "cell_type": "code",
   "execution_count": null,
   "id": "7aa2945d-2534-4a8d-a6e2-e78f87fc4d9f",
   "metadata": {},
   "outputs": [],
   "source": [
    "ntd3.loc[ntd3.agency_name == \"San Luis Obispo Regional Transit Authority\"]"
   ]
  },
  {
   "cell_type": "code",
   "execution_count": null,
   "id": "fd0276b7-73aa-4f06-ba51-5288eb7d106d",
   "metadata": {},
   "outputs": [],
   "source": [
    "ntd3.head(1).T"
   ]
  },
  {
   "cell_type": "code",
   "execution_count": null,
   "id": "18fa8e03-2519-4fde-b027-6c94bce0e486",
   "metadata": {},
   "outputs": [],
   "source": [
    "ntd4 = (\n",
    "    tbls.mart_ntd.dim_annual_ntd_agency_information()\n",
    "    >> filter(_.year == 2022, _.state == \"CA\", _._is_current == True)\n",
    "    >> collect()\n",
    ")"
   ]
  },
  {
   "cell_type": "code",
   "execution_count": null,
   "id": "01dcdb6f-e62a-420b-9207-8623e0c13846",
   "metadata": {},
   "outputs": [],
   "source": [
    "ntd4.head(1).T"
   ]
  },
  {
   "cell_type": "markdown",
   "id": "b7eccc14-4300-46e8-84e5-2930dff748fd",
   "metadata": {},
   "source": [
    "#### Checkout `mobility` \n",
    "* Need this because there is additional columns here that isn't in NTD."
   ]
  },
  {
   "cell_type": "code",
   "execution_count": null,
   "id": "68753f5b-5afb-4504-9234-6f898cfb51d1",
   "metadata": {},
   "outputs": [],
   "source": [
    "mob_og = (\n",
    "    tbls.mart_transit_database.dim_mobility_mart_providers()\n",
    "    >> collect()\n",
    ")"
   ]
  },
  {
   "cell_type": "code",
   "execution_count": null,
   "id": "084cf25b-1586-4122-8c89-0d25eb8b884f",
   "metadata": {},
   "outputs": [],
   "source": [
    "mob_og.head(1).T"
   ]
  },
  {
   "cell_type": "code",
   "execution_count": null,
   "id": "0ffdd0e8-2d53-4b05-a3b0-693597917a7f",
   "metadata": {},
   "outputs": [],
   "source": [
    "mob = (\n",
    "    tbls.mart_transit_database.dim_mobility_mart_providers()\n",
    "    >> select(\n",
    "        _.agency_name,\n",
    "        _.counties_served,\n",
    "        _.hq_city,\n",
    "        _.hq_county,\n",
    "        _.is_public_entity,\n",
    "        _.is_publicly_operating,\n",
    "        _.funding_sources,\n",
    "        _.on_demand_vehicles_at_max_service,\n",
    "        _.vehicles_at_max_service,\n",
    "    )\n",
    "    >> collect()\n",
    ")"
   ]
  },
  {
   "cell_type": "code",
   "execution_count": null,
   "id": "ae598235-b1e5-4621-aa10-979194b19cc2",
   "metadata": {},
   "outputs": [],
   "source": [
    "mob.head(1).T"
   ]
  },
  {
   "cell_type": "code",
   "execution_count": null,
   "id": "a78e5469-bf89-4c8e-ae57-ccbbe799c660",
   "metadata": {},
   "outputs": [],
   "source": [
    "mob.agency_name.value_counts().head(10)"
   ]
  },
  {
   "cell_type": "code",
   "execution_count": null,
   "id": "9786e812-6022-4e66-b583-9375d67aac64",
   "metadata": {},
   "outputs": [],
   "source": [
    "mob.loc[mob.agency_name == \"Kern Regional Transit\"]"
   ]
  },
  {
   "cell_type": "code",
   "execution_count": null,
   "id": "83353600-64aa-4c13-bb27-2cccec3042d5",
   "metadata": {},
   "outputs": [],
   "source": [
    "mob2 = mob.sort_values(\n",
    "    by=[\"on_demand_vehicles_at_max_service\", \"vehicles_at_max_service\"],\n",
    "    ascending=[False, False],\n",
    ")"
   ]
  },
  {
   "cell_type": "code",
   "execution_count": null,
   "id": "270e57ce-70e3-41f4-949a-5ed5a16cc681",
   "metadata": {},
   "outputs": [],
   "source": [
    "mob2.loc[mob2.agency_name == \"Kern Regional Transit\"]"
   ]
  },
  {
   "cell_type": "code",
   "execution_count": null,
   "id": "ab481356-b5ca-446e-adb4-fa7a6e12a20c",
   "metadata": {},
   "outputs": [],
   "source": [
    "mob3 = mob2.groupby('agency_name').first().reset_index()"
   ]
  },
  {
   "cell_type": "code",
   "execution_count": null,
   "id": "38b1526d-9a18-4269-b22d-108983cb1eaf",
   "metadata": {},
   "outputs": [],
   "source": [
    "mob3.loc[mob3.agency_name == \"Kern Regional Transit\"]"
   ]
  },
  {
   "cell_type": "markdown",
   "id": "be18a05e-32bb-4746-9abb-fa9be7e6cdaa",
   "metadata": {},
   "source": [
    "### I made a minor change to loading `mobility` warehouse data (just deleting an unncessary line). Otherwise, the functions are good to go."
   ]
  },
  {
   "cell_type": "code",
   "execution_count": null,
   "id": "56393f15-5393-4437-bfd4-f07d5cb4e858",
   "metadata": {},
   "outputs": [],
   "source": [
    "def merge_ntd_mobility(year:int)->pd.DataFrame:\n",
    "    ntd = section1.load_ntd(year)\n",
    "    mobility = section1.load_mobility()\n",
    "    m1 = pd.merge(\n",
    "    mobility,\n",
    "    ntd,\n",
    "    how=\"inner\",\n",
    "    on=\"agency_name\")\n",
    "    agency_dict = {\n",
    "    \"City of Fairfield, California\": \"City of Fairfield\",\n",
    "    \"Livermore / Amador Valley Transit Authority\": \"Livermore-Amador Valley Transit Authority\",\n",
    "    \"Nevada County Transit Services\": \"Nevada County\",\n",
    "    \"Omnitrans\": \"OmniTrans\"}\n",
    "    \n",
    "    m1.agency_name = m1.agency_name.replace(agency_dict)\n",
    "    m1.agency_name = m1.agency_name.str.strip()\n",
    "    m1 = m1.drop_duplicates(subset = [\"agency_name\"]).reset_index(drop = True)\n",
    "    return m1"
   ]
  },
  {
   "cell_type": "code",
   "execution_count": null,
   "id": "6debcdda-36db-4882-b205-bb11c109947b",
   "metadata": {},
   "outputs": [],
   "source": [
    "m1 = merge_ntd_mobility(2022)"
   ]
  },
  {
   "cell_type": "code",
   "execution_count": null,
   "id": "9a32f902-3a4f-41f4-a859-2431db1de980",
   "metadata": {},
   "outputs": [],
   "source": [
    "m1.shape"
   ]
  },
  {
   "cell_type": "code",
   "execution_count": null,
   "id": "487ae4b4-3fa2-4906-88bf-8f07258467e1",
   "metadata": {},
   "outputs": [],
   "source": [
    "m1.agency_name.nunique()"
   ]
  },
  {
   "cell_type": "code",
   "execution_count": null,
   "id": "a367a0a1-5cc7-499d-b3b1-20a9e718b49f",
   "metadata": {},
   "outputs": [],
   "source": [
    "m1.agency_name.value_counts().head()"
   ]
  },
  {
   "cell_type": "code",
   "execution_count": null,
   "id": "255ab6f3-7a7e-44a4-a35a-0b43bb4d07f2",
   "metadata": {},
   "outputs": [],
   "source": [
    "m1.loc[m1.agency_name == \"Redding Area Bus Authority\"]"
   ]
  },
  {
   "cell_type": "markdown",
   "id": "97654901-db31-464c-9875-ab2639b5df41",
   "metadata": {},
   "source": [
    "### Checkout Route Typology\n",
    "* All this work lives in another script `gtfs_Funnel/route_typologies.py`"
   ]
  },
  {
   "cell_type": "code",
   "execution_count": null,
   "id": "7e6be9f0-1a3f-44ac-89f4-6dbfb4ad5a18",
   "metadata": {},
   "outputs": [],
   "source": [
    "ROUTE_TYPOLOGY = GTFS_DATA_DICT.schedule_tables.route_typologies"
   ]
  },
  {
   "cell_type": "code",
   "execution_count": null,
   "id": "1f756bb2-5561-40bc-b306-ebcc55f223c0",
   "metadata": {},
   "outputs": [],
   "source": [
    "SCHED_GCS"
   ]
  },
  {
   "cell_type": "code",
   "execution_count": null,
   "id": "d4e12f43-f210-4570-9293-9608f1405d11",
   "metadata": {},
   "outputs": [],
   "source": [
    "ROUTE_TYPOLOGY"
   ]
  },
  {
   "cell_type": "code",
   "execution_count": null,
   "id": "3e58dbe7-ac92-481b-8b19-b41875c67e02",
   "metadata": {},
   "outputs": [],
   "source": [
    "apr_24_url = \"gs://calitp-analytics-data/data-analyses/gtfs_schedule/nacto_typologies/route_typologies_2024-04-19.parquet\""
   ]
  },
  {
   "cell_type": "code",
   "execution_count": null,
   "id": "a196f044-846a-40b0-8a1b-754cae9c638b",
   "metadata": {},
   "outputs": [],
   "source": [
    "apr_24_df = pd.read_parquet(apr_24_url)"
   ]
  },
  {
   "cell_type": "code",
   "execution_count": null,
   "id": "c0235078-96b4-4fcb-8f18-26ff8131ca27",
   "metadata": {},
   "outputs": [],
   "source": [
    "apr_24_df.head(2)"
   ]
  }
 ],
 "metadata": {
  "kernelspec": {
   "display_name": "Python 3 (ipykernel)",
   "language": "python",
   "name": "python3"
  },
  "language_info": {
   "codemirror_mode": {
    "name": "ipython",
    "version": 3
   },
   "file_extension": ".py",
   "mimetype": "text/x-python",
   "name": "python",
   "nbconvert_exporter": "python",
   "pygments_lexer": "ipython3",
   "version": "3.9.13"
  }
 },
 "nbformat": 4,
 "nbformat_minor": 5
}
