{
 "cells": [
  {
   "cell_type": "markdown",
   "id": "306365db-47e6-4d40-bc35-c688130e4863",
   "metadata": {},
   "source": [
    "## Incorporating `NTD` stuff directly into `crosswalks`\n",
    "* How do I rerun everything and make sure the files are update with all the dates?"
   ]
  },
  {
   "cell_type": "code",
   "execution_count": 1,
   "id": "604c75b3-f74c-4b32-9e72-9635b86e53c5",
   "metadata": {},
   "outputs": [],
   "source": [
    "from datetime import datetime\n",
    "\n",
    "import _operators_prep as op_prep\n",
    "import _report_utils\n",
    "import _section1_utils as section1\n",
    "import geopandas as gpd\n",
    "import numpy as np\n",
    "import pandas as pd\n",
    "from IPython.display import HTML, Image, Markdown, display, display_html\n",
    "from segment_speed_utils import gtfs_schedule_wrangling, helpers, time_series_utils\n",
    "from segment_speed_utils.project_vars import (\n",
    "    COMPILED_CACHED_VIEWS,\n",
    "    GTFS_DATA_DICT,\n",
    "    PROJECT_CRS,\n",
    "    RT_SCHED_GCS,\n",
    "    SCHED_GCS,\n",
    "    SEGMENT_GCS,\n",
    ")\n",
    "from shared_utils import catalog_utils, rt_dates, rt_utils"
   ]
  },
  {
   "cell_type": "code",
   "execution_count": 2,
   "id": "892f561d-193f-4e9e-896f-37caf6490c00",
   "metadata": {},
   "outputs": [],
   "source": [
    "# Warehouse\n",
    "import os\n",
    "from calitp_data_analysis.sql import query_sql\n",
    "from calitp_data_analysis.tables import tbls\n",
    "from siuba import *"
   ]
  },
  {
   "cell_type": "code",
   "execution_count": 3,
   "id": "da0c3ac2-d52c-477b-b70d-c975c560779b",
   "metadata": {},
   "outputs": [],
   "source": [
    "pd.options.display.max_columns = 100\n",
    "pd.options.display.float_format = \"{:.2f}\".format\n",
    "pd.set_option(\"display.max_rows\", None)\n",
    "pd.set_option(\"display.max_colwidth\", None)"
   ]
  },
  {
   "cell_type": "markdown",
   "id": "c75e9dc6-4e26-4b24-9ca2-d3b8a2ae7f2b",
   "metadata": {},
   "source": [
    "### Incorporate NTD with Crosswalk script."
   ]
  },
  {
   "cell_type": "markdown",
   "id": "db1d33a4-6b8d-4777-b9b9-45e7c2039be7",
   "metadata": {},
   "source": [
    "#### Running `crosswalk_gtfs_datasetkey_to_organization` after my changes.\n",
    "* Using only a few test dates.\n",
    "* Discovered repeated itp_id and operators -> what to do? "
   ]
  },
  {
   "cell_type": "code",
   "execution_count": 22,
   "id": "c7cdf2d9-decc-45a2-a8f4-8a6ff448432c",
   "metadata": {},
   "outputs": [],
   "source": [
    "january_test = pd.read_parquet(\"gs://calitp-analytics-data/data-analyses/gtfs_schedule/crosswalk/gtfs_key_organization_2024-01-17_AH_TESTING.parquet\")"
   ]
  },
  {
   "cell_type": "code",
   "execution_count": 23,
   "id": "d4eded11-843e-4af3-8cfc-34878e20fee3",
   "metadata": {},
   "outputs": [
    {
     "name": "stdout",
     "output_type": "stream",
     "text": [
      "<class 'pandas.core.frame.DataFrame'>\n",
      "Int64Index: 168 entries, 0 to 167\n",
      "Data columns (total 35 columns):\n",
      " #   Column                             Non-Null Count  Dtype  \n",
      "---  ------                             --------------  -----  \n",
      " 0   schedule_gtfs_dataset_key          168 non-null    object \n",
      " 1   name                               168 non-null    object \n",
      " 2   schedule_source_record_id          168 non-null    object \n",
      " 3   base64_url                         168 non-null    object \n",
      " 4   organization_source_record_id      168 non-null    object \n",
      " 5   organization_name                  168 non-null    object \n",
      " 6   itp_id                             165 non-null    float64\n",
      " 7   caltrans_district                  167 non-null    object \n",
      " 8   ntd_id_x                           142 non-null    object \n",
      " 9   ntd_id_2022                        142 non-null    object \n",
      " 10  agency_name                        135 non-null    object \n",
      " 11  counties_served                    101 non-null    object \n",
      " 12  hq_city                            134 non-null    object \n",
      " 13  hq_county                          102 non-null    object \n",
      " 14  is_public_entity                   102 non-null    object \n",
      " 15  is_publicly_operating              102 non-null    object \n",
      " 16  funding_sources                    82 non-null     object \n",
      " 17  on_demand_vehicles_at_max_service  51 non-null     float64\n",
      " 18  vehicles_at_max_service            135 non-null    float64\n",
      " 19  number_of_state_counties           0 non-null      float64\n",
      " 20  uza_name                           105 non-null    object \n",
      " 21  density                            105 non-null    float64\n",
      " 22  number_of_counties_with_service    0 non-null      float64\n",
      " 23  state_admin_funds_expended         0 non-null      float64\n",
      " 24  service_area_sq_miles              101 non-null    float64\n",
      " 25  population                         105 non-null    float64\n",
      " 26  service_area_pop                   101 non-null    float64\n",
      " 27  subrecipient_type                  32 non-null     object \n",
      " 28  primary_uza                        0 non-null      object \n",
      " 29  reporter_type                      135 non-null    object \n",
      " 30  organization_type                  135 non-null    object \n",
      " 31  voms_pt                            110 non-null    float64\n",
      " 32  voms_do                            51 non-null     float64\n",
      " 33  ntd_id_y                           135 non-null    object \n",
      " 34  year                               135 non-null    float64\n",
      "dtypes: float64(13), object(22)\n",
      "memory usage: 47.2+ KB\n"
     ]
    }
   ],
   "source": [
    "january_test.info()"
   ]
  },
  {
   "cell_type": "code",
   "execution_count": 35,
   "id": "8221ea6e-2974-4268-9f50-108da2cf2c31",
   "metadata": {},
   "outputs": [
    {
     "data": {
      "text/plain": [
       "(168, 128, 133)"
      ]
     },
     "execution_count": 35,
     "metadata": {},
     "output_type": "execute_result"
    }
   ],
   "source": [
    "january_test.name.nunique(), january_test.agency_name.nunique(), january_test.ntd_id_2022.nunique()"
   ]
  },
  {
   "cell_type": "code",
   "execution_count": 36,
   "id": "68fc20bc-cbd0-4fad-af71-46464f0deb2a",
   "metadata": {},
   "outputs": [
    {
     "data": {
      "text/plain": [
       "133"
      ]
     },
     "execution_count": 36,
     "metadata": {},
     "output_type": "execute_result"
    }
   ],
   "source": [
    "january_test.ntd_id_x.nunique()"
   ]
  },
  {
   "cell_type": "code",
   "execution_count": 8,
   "id": "36fedabc-546f-4a2e-a72a-6fb96d92de73",
   "metadata": {},
   "outputs": [
    {
     "data": {
      "text/plain": [
       "'gs://calitp-analytics-data/data-analyses/gtfs_schedule/'"
      ]
     },
     "execution_count": 8,
     "metadata": {},
     "output_type": "execute_result"
    }
   ],
   "source": [
    "SCHED_GCS"
   ]
  },
  {
   "cell_type": "code",
   "execution_count": 9,
   "id": "cd84b955-182f-420c-9520-948cdf4c9f0e",
   "metadata": {},
   "outputs": [
    {
     "data": {
      "text/plain": [
       "'crosswalk/gtfs_key_organization'"
      ]
     },
     "execution_count": 9,
     "metadata": {},
     "output_type": "execute_result"
    }
   ],
   "source": [
    "GTFS_DATA_DICT.schedule_tables.gtfs_key_crosswalk"
   ]
  },
  {
   "cell_type": "code",
   "execution_count": 10,
   "id": "618ba1df-e744-4d6f-938e-ad72db3d2e92",
   "metadata": {},
   "outputs": [],
   "source": [
    "crosswalk_may_url = \"gs://calitp-analytics-data/data-analyses/gtfs_schedule/crosswalk/gtfs_key_organization_2024-05-26.parquet\""
   ]
  },
  {
   "cell_type": "code",
   "execution_count": 11,
   "id": "c242b407-0478-4a57-a7ad-361b75ab27f1",
   "metadata": {},
   "outputs": [],
   "source": [
    "crosswalk_may = pd.read_parquet(crosswalk_may_url)"
   ]
  },
  {
   "cell_type": "code",
   "execution_count": 12,
   "id": "d2d67e91-2e6e-44f8-9e59-65275876af05",
   "metadata": {},
   "outputs": [
    {
     "data": {
      "text/plain": [
       "(101, 8)"
      ]
     },
     "execution_count": 12,
     "metadata": {},
     "output_type": "execute_result"
    }
   ],
   "source": [
    "crosswalk_may.shape"
   ]
  },
  {
   "cell_type": "code",
   "execution_count": 38,
   "id": "7612cf84-0b67-45fe-856d-30fe3d85f920",
   "metadata": {},
   "outputs": [
    {
     "data": {
      "text/plain": [
       "90"
      ]
     },
     "execution_count": 38,
     "metadata": {},
     "output_type": "execute_result"
    }
   ],
   "source": [
    "crosswalk_may.itp_id.nunique()"
   ]
  },
  {
   "cell_type": "code",
   "execution_count": 40,
   "id": "b3fc259d-01a1-4f49-aad4-83e3b449f3ef",
   "metadata": {},
   "outputs": [
    {
     "data": {
      "text/plain": [
       "127.00    2\n",
       "343.00    2\n",
       "360.00    2\n",
       "164.00    2\n",
       "331.00    2\n",
       "Name: itp_id, dtype: int64"
      ]
     },
     "execution_count": 40,
     "metadata": {},
     "output_type": "execute_result"
    }
   ],
   "source": [
    "crosswalk_may.itp_id.value_counts().head()"
   ]
  },
  {
   "cell_type": "code",
   "execution_count": 39,
   "id": "01d007d8-ed96-45c0-8a99-fffc36ff6060",
   "metadata": {},
   "outputs": [
    {
     "data": {
      "text/plain": [
       "101"
      ]
     },
     "execution_count": 39,
     "metadata": {},
     "output_type": "execute_result"
    }
   ],
   "source": [
    "crosswalk_may.name.nunique()"
   ]
  },
  {
   "cell_type": "code",
   "execution_count": 41,
   "id": "4bb34cce-3821-4c58-97fc-d5bd5afc2f80",
   "metadata": {},
   "outputs": [
    {
     "data": {
      "text/html": [
       "<div>\n",
       "<style scoped>\n",
       "    .dataframe tbody tr th:only-of-type {\n",
       "        vertical-align: middle;\n",
       "    }\n",
       "\n",
       "    .dataframe tbody tr th {\n",
       "        vertical-align: top;\n",
       "    }\n",
       "\n",
       "    .dataframe thead th {\n",
       "        text-align: right;\n",
       "    }\n",
       "</style>\n",
       "<table border=\"1\" class=\"dataframe\">\n",
       "  <thead>\n",
       "    <tr style=\"text-align: right;\">\n",
       "      <th></th>\n",
       "      <th>schedule_gtfs_dataset_key</th>\n",
       "      <th>name</th>\n",
       "      <th>schedule_source_record_id</th>\n",
       "      <th>base64_url</th>\n",
       "      <th>organization_source_record_id</th>\n",
       "      <th>organization_name</th>\n",
       "      <th>itp_id</th>\n",
       "      <th>caltrans_district</th>\n",
       "    </tr>\n",
       "  </thead>\n",
       "  <tbody>\n",
       "    <tr>\n",
       "      <th>41</th>\n",
       "      <td>ca270cd1ac30a9ec5336a11bc9223c41</td>\n",
       "      <td>Bay Area 511 Golden Gate Ferry Schedule</td>\n",
       "      <td>recnMK3h6zvqw3SFa</td>\n",
       "      <td>aHR0cHM6Ly9hcGkuNTExLm9yZy90cmFuc2l0L2RhdGFmZWVkcz9vcGVyYXRvcl9pZD1HRg==</td>\n",
       "      <td>recoX7qMhlPrgfuz3</td>\n",
       "      <td>Golden Gate Bridge, Highway and Transportation District</td>\n",
       "      <td>127.00</td>\n",
       "      <td>04 - Oakland</td>\n",
       "    </tr>\n",
       "    <tr>\n",
       "      <th>42</th>\n",
       "      <td>aea4108997c66a74fbdae27b34b69fde</td>\n",
       "      <td>Bay Area 511 Golden Gate Transit Schedule</td>\n",
       "      <td>recCNNGH8SHfXBKvv</td>\n",
       "      <td>aHR0cHM6Ly9hcGkuNTExLm9yZy90cmFuc2l0L2RhdGFmZWVkcz9vcGVyYXRvcl9pZD1HRw==</td>\n",
       "      <td>recoX7qMhlPrgfuz3</td>\n",
       "      <td>Golden Gate Bridge, Highway and Transportation District</td>\n",
       "      <td>127.00</td>\n",
       "      <td>04 - Oakland</td>\n",
       "    </tr>\n",
       "  </tbody>\n",
       "</table>\n",
       "</div>"
      ],
      "text/plain": [
       "           schedule_gtfs_dataset_key  \\\n",
       "41  ca270cd1ac30a9ec5336a11bc9223c41   \n",
       "42  aea4108997c66a74fbdae27b34b69fde   \n",
       "\n",
       "                                         name schedule_source_record_id  \\\n",
       "41    Bay Area 511 Golden Gate Ferry Schedule         recnMK3h6zvqw3SFa   \n",
       "42  Bay Area 511 Golden Gate Transit Schedule         recCNNGH8SHfXBKvv   \n",
       "\n",
       "                                                                  base64_url  \\\n",
       "41  aHR0cHM6Ly9hcGkuNTExLm9yZy90cmFuc2l0L2RhdGFmZWVkcz9vcGVyYXRvcl9pZD1HRg==   \n",
       "42  aHR0cHM6Ly9hcGkuNTExLm9yZy90cmFuc2l0L2RhdGFmZWVkcz9vcGVyYXRvcl9pZD1HRw==   \n",
       "\n",
       "   organization_source_record_id  \\\n",
       "41             recoX7qMhlPrgfuz3   \n",
       "42             recoX7qMhlPrgfuz3   \n",
       "\n",
       "                                          organization_name  itp_id  \\\n",
       "41  Golden Gate Bridge, Highway and Transportation District  127.00   \n",
       "42  Golden Gate Bridge, Highway and Transportation District  127.00   \n",
       "\n",
       "   caltrans_district  \n",
       "41      04 - Oakland  \n",
       "42      04 - Oakland  "
      ]
     },
     "execution_count": 41,
     "metadata": {},
     "output_type": "execute_result"
    }
   ],
   "source": [
    "crosswalk_may.loc[crosswalk_may.itp_id == 127]"
   ]
  },
  {
   "cell_type": "code",
   "execution_count": 42,
   "id": "ed220be4-372c-42bb-b57e-84a283f1fdd5",
   "metadata": {},
   "outputs": [
    {
     "data": {
      "text/html": [
       "<div>\n",
       "<style scoped>\n",
       "    .dataframe tbody tr th:only-of-type {\n",
       "        vertical-align: middle;\n",
       "    }\n",
       "\n",
       "    .dataframe tbody tr th {\n",
       "        vertical-align: top;\n",
       "    }\n",
       "\n",
       "    .dataframe thead th {\n",
       "        text-align: right;\n",
       "    }\n",
       "</style>\n",
       "<table border=\"1\" class=\"dataframe\">\n",
       "  <thead>\n",
       "    <tr style=\"text-align: right;\">\n",
       "      <th></th>\n",
       "      <th>schedule_gtfs_dataset_key</th>\n",
       "      <th>name</th>\n",
       "      <th>schedule_source_record_id</th>\n",
       "      <th>base64_url</th>\n",
       "      <th>organization_source_record_id</th>\n",
       "      <th>organization_name</th>\n",
       "      <th>itp_id</th>\n",
       "      <th>caltrans_district</th>\n",
       "    </tr>\n",
       "  </thead>\n",
       "  <tbody>\n",
       "    <tr>\n",
       "      <th>11</th>\n",
       "      <td>c3499b856c717e5706299664fb1c5261</td>\n",
       "      <td>Tahoe Transportation District GMV Schedule</td>\n",
       "      <td>recAFSynoBmVNer8r</td>\n",
       "      <td>aHR0cHM6Ly90YWhvZS5zeW5jcm9tYXRpY3MuY29tL2d0ZnM=</td>\n",
       "      <td>rec3u4aMplqObcoTR</td>\n",
       "      <td>Tahoe Transportation District</td>\n",
       "      <td>331.00</td>\n",
       "      <td>03 - Marysville</td>\n",
       "    </tr>\n",
       "    <tr>\n",
       "      <th>72</th>\n",
       "      <td>07d3b79f14cec8099119e1eb649f065b</td>\n",
       "      <td>Tahoe Transportation District Schedule</td>\n",
       "      <td>recgyP2nm59f3KKXo</td>\n",
       "      <td>aHR0cHM6Ly9kYXRhLnRyaWxsaXVtdHJhbnNpdC5jb20vZ3Rmcy90YWhvZS1jYS11cy90YWhvZS1jYS11cy56aXA=</td>\n",
       "      <td>rec3u4aMplqObcoTR</td>\n",
       "      <td>Tahoe Transportation District</td>\n",
       "      <td>331.00</td>\n",
       "      <td>03 - Marysville</td>\n",
       "    </tr>\n",
       "  </tbody>\n",
       "</table>\n",
       "</div>"
      ],
      "text/plain": [
       "           schedule_gtfs_dataset_key  \\\n",
       "11  c3499b856c717e5706299664fb1c5261   \n",
       "72  07d3b79f14cec8099119e1eb649f065b   \n",
       "\n",
       "                                          name schedule_source_record_id  \\\n",
       "11  Tahoe Transportation District GMV Schedule         recAFSynoBmVNer8r   \n",
       "72      Tahoe Transportation District Schedule         recgyP2nm59f3KKXo   \n",
       "\n",
       "                                                                                  base64_url  \\\n",
       "11                                          aHR0cHM6Ly90YWhvZS5zeW5jcm9tYXRpY3MuY29tL2d0ZnM=   \n",
       "72  aHR0cHM6Ly9kYXRhLnRyaWxsaXVtdHJhbnNpdC5jb20vZ3Rmcy90YWhvZS1jYS11cy90YWhvZS1jYS11cy56aXA=   \n",
       "\n",
       "   organization_source_record_id              organization_name  itp_id  \\\n",
       "11             rec3u4aMplqObcoTR  Tahoe Transportation District  331.00   \n",
       "72             rec3u4aMplqObcoTR  Tahoe Transportation District  331.00   \n",
       "\n",
       "   caltrans_district  \n",
       "11   03 - Marysville  \n",
       "72   03 - Marysville  "
      ]
     },
     "execution_count": 42,
     "metadata": {},
     "output_type": "execute_result"
    }
   ],
   "source": [
    "crosswalk_may.loc[crosswalk_may.itp_id == 331]"
   ]
  },
  {
   "cell_type": "code",
   "execution_count": 13,
   "id": "ec12261c-c005-442d-84ee-ea71a11df2f0",
   "metadata": {},
   "outputs": [],
   "source": [
    "crosswalk_mar_url = \"gs://calitp-analytics-data/data-analyses/gtfs_schedule/crosswalk/gtfs_key_organization_2024-03-13_AH_TESTING.parquet\""
   ]
  },
  {
   "cell_type": "code",
   "execution_count": 14,
   "id": "2ee60bae-0cd6-495d-bb0b-df681ebfd642",
   "metadata": {},
   "outputs": [],
   "source": [
    "crosswalk_mar= pd.read_parquet(crosswalk_mar_url)"
   ]
  },
  {
   "cell_type": "code",
   "execution_count": 43,
   "id": "63499778-739c-4bdd-9e41-157ec6666d3f",
   "metadata": {},
   "outputs": [],
   "source": [
    "crosswalk_june = pd.read_parquet(\"gs://calitp-analytics-data/data-analyses/gtfs_schedule/crosswalk/gtfs_key_organization_2024-06-12.parquet\")"
   ]
  },
  {
   "cell_type": "code",
   "execution_count": 44,
   "id": "bead9fce-21b2-4320-8a25-3bc6069df60a",
   "metadata": {},
   "outputs": [
    {
     "data": {
      "text/plain": [
       "(160, 142, 160)"
      ]
     },
     "execution_count": 44,
     "metadata": {},
     "output_type": "execute_result"
    }
   ],
   "source": [
    "len(crosswalk_june), crosswalk_june.itp_id.nunique(), crosswalk_june.name.nunique()"
   ]
  },
  {
   "cell_type": "code",
   "execution_count": 45,
   "id": "71b11610-697b-4994-967f-39354fac7911",
   "metadata": {},
   "outputs": [
    {
     "data": {
      "text/plain": [
       "214.00    2\n",
       "127.00    2\n",
       "162.00    2\n",
       "481.00    2\n",
       "63.00     2\n",
       "Name: itp_id, dtype: int64"
      ]
     },
     "execution_count": 45,
     "metadata": {},
     "output_type": "execute_result"
    }
   ],
   "source": [
    "crosswalk_june.itp_id.value_counts().head()"
   ]
  },
  {
   "cell_type": "code",
   "execution_count": 46,
   "id": "c905272f-b8da-40cf-a1a0-40b29ad9da5b",
   "metadata": {},
   "outputs": [
    {
     "data": {
      "text/html": [
       "<div>\n",
       "<style scoped>\n",
       "    .dataframe tbody tr th:only-of-type {\n",
       "        vertical-align: middle;\n",
       "    }\n",
       "\n",
       "    .dataframe tbody tr th {\n",
       "        vertical-align: top;\n",
       "    }\n",
       "\n",
       "    .dataframe thead th {\n",
       "        text-align: right;\n",
       "    }\n",
       "</style>\n",
       "<table border=\"1\" class=\"dataframe\">\n",
       "  <thead>\n",
       "    <tr style=\"text-align: right;\">\n",
       "      <th></th>\n",
       "      <th>schedule_gtfs_dataset_key</th>\n",
       "      <th>name</th>\n",
       "      <th>schedule_source_record_id</th>\n",
       "      <th>base64_url</th>\n",
       "      <th>organization_source_record_id</th>\n",
       "      <th>organization_name</th>\n",
       "      <th>itp_id</th>\n",
       "      <th>caltrans_district</th>\n",
       "    </tr>\n",
       "  </thead>\n",
       "  <tbody>\n",
       "    <tr>\n",
       "      <th>19</th>\n",
       "      <td>3834987b7e9b1f81a5a91cf274bb3ed8</td>\n",
       "      <td>Mountain Transit GMV Schedule</td>\n",
       "      <td>rec9sSbtaPxxEtBkX</td>\n",
       "      <td>aHR0cHM6Ly9tb3VudGFpbnRyYW5zaXQuc3luY3JvbWF0aWNzLmNvbS9ndGZz</td>\n",
       "      <td>recHbquam1bWEwC3P</td>\n",
       "      <td>Mountain Area Regional Transit Authority</td>\n",
       "      <td>214.00</td>\n",
       "      <td>08 - San Bernardino</td>\n",
       "    </tr>\n",
       "    <tr>\n",
       "      <th>75</th>\n",
       "      <td>5ca5d244836397b178993c9bdc4dfb00</td>\n",
       "      <td>Mountain Transit Schedule</td>\n",
       "      <td>recCvLW5YvXVhOzG5</td>\n",
       "      <td>aHR0cHM6Ly9kYXRhLnRyaWxsaXVtdHJhbnNpdC5jb20vZ3Rmcy9iaWdiZWFyLWNhLXVzL2JpZ2JlYXItY2EtdXMuemlw</td>\n",
       "      <td>recHbquam1bWEwC3P</td>\n",
       "      <td>Mountain Area Regional Transit Authority</td>\n",
       "      <td>214.00</td>\n",
       "      <td>08 - San Bernardino</td>\n",
       "    </tr>\n",
       "  </tbody>\n",
       "</table>\n",
       "</div>"
      ],
      "text/plain": [
       "           schedule_gtfs_dataset_key                           name  \\\n",
       "19  3834987b7e9b1f81a5a91cf274bb3ed8  Mountain Transit GMV Schedule   \n",
       "75  5ca5d244836397b178993c9bdc4dfb00      Mountain Transit Schedule   \n",
       "\n",
       "   schedule_source_record_id  \\\n",
       "19         rec9sSbtaPxxEtBkX   \n",
       "75         recCvLW5YvXVhOzG5   \n",
       "\n",
       "                                                                                      base64_url  \\\n",
       "19                                  aHR0cHM6Ly9tb3VudGFpbnRyYW5zaXQuc3luY3JvbWF0aWNzLmNvbS9ndGZz   \n",
       "75  aHR0cHM6Ly9kYXRhLnRyaWxsaXVtdHJhbnNpdC5jb20vZ3Rmcy9iaWdiZWFyLWNhLXVzL2JpZ2JlYXItY2EtdXMuemlw   \n",
       "\n",
       "   organization_source_record_id                         organization_name  \\\n",
       "19             recHbquam1bWEwC3P  Mountain Area Regional Transit Authority   \n",
       "75             recHbquam1bWEwC3P  Mountain Area Regional Transit Authority   \n",
       "\n",
       "    itp_id    caltrans_district  \n",
       "19  214.00  08 - San Bernardino  \n",
       "75  214.00  08 - San Bernardino  "
      ]
     },
     "execution_count": 46,
     "metadata": {},
     "output_type": "execute_result"
    }
   ],
   "source": [
    "crosswalk_may.loc[crosswalk_may.itp_id == 214]"
   ]
  },
  {
   "cell_type": "markdown",
   "id": "de565f8e-e5d4-4705-963c-60a52cae83b3",
   "metadata": {},
   "source": [
    "#### Merges"
   ]
  },
  {
   "cell_type": "code",
   "execution_count": null,
   "id": "feb88057-e4b4-4505-bb75-b9fa9c02f94b",
   "metadata": {},
   "outputs": [],
   "source": [
    "\n",
    "import sys\n",
    "\n",
    "sys.path.append(\"../gtfs_funnel\")\n",
    "import crosswalk_gtfs_dataset_key_to_organization"
   ]
  },
  {
   "cell_type": "code",
   "execution_count": null,
   "id": "7ec21205-83d5-453b-ab10-fdec70ffe1d0",
   "metadata": {},
   "outputs": [],
   "source": [
    "final_ntd = crosswalk_gtfs_dataset_key_to_organization.merge_ntd_mobility(2022)"
   ]
  },
  {
   "cell_type": "code",
   "execution_count": 15,
   "id": "8776932f-30ed-41f3-848b-c818004cd193",
   "metadata": {},
   "outputs": [
    {
     "data": {
      "text/plain": [
       "(228, 25)"
      ]
     },
     "execution_count": 15,
     "metadata": {},
     "output_type": "execute_result"
    }
   ],
   "source": [
    "final_ntd.shape"
   ]
  },
  {
   "cell_type": "code",
   "execution_count": 16,
   "id": "05df7991-2509-42b9-94f9-45c34e5c2d43",
   "metadata": {},
   "outputs": [
    {
     "data": {
      "text/html": [
       "<div>\n",
       "<style scoped>\n",
       "    .dataframe tbody tr th:only-of-type {\n",
       "        vertical-align: middle;\n",
       "    }\n",
       "\n",
       "    .dataframe tbody tr th {\n",
       "        vertical-align: top;\n",
       "    }\n",
       "\n",
       "    .dataframe thead th {\n",
       "        text-align: right;\n",
       "    }\n",
       "</style>\n",
       "<table border=\"1\" class=\"dataframe\">\n",
       "  <thead>\n",
       "    <tr style=\"text-align: right;\">\n",
       "      <th></th>\n",
       "      <th>schedule_gtfs_dataset_key</th>\n",
       "      <th>name</th>\n",
       "      <th>schedule_source_record_id</th>\n",
       "      <th>base64_url</th>\n",
       "      <th>organization_source_record_id</th>\n",
       "      <th>organization_name</th>\n",
       "      <th>itp_id</th>\n",
       "      <th>caltrans_district</th>\n",
       "      <th>ntd_id</th>\n",
       "      <th>ntd_id_2022</th>\n",
       "    </tr>\n",
       "  </thead>\n",
       "  <tbody>\n",
       "    <tr>\n",
       "      <th>0</th>\n",
       "      <td>1770249a5a2e770ca90628434d4934b1</td>\n",
       "      <td>VCTC GMV Schedule</td>\n",
       "      <td>recrAG7e0oOiR6FiP</td>\n",
       "      <td>aHR0cHM6Ly9nb3ZjYnVzLmNvbS9ndGZz</td>\n",
       "      <td>rec7EN71rsZxDFxZd</td>\n",
       "      <td>Ventura County Transportation Commission</td>\n",
       "      <td>380.00</td>\n",
       "      <td>07 - Los Angeles</td>\n",
       "      <td>90164</td>\n",
       "      <td>90164</td>\n",
       "    </tr>\n",
       "  </tbody>\n",
       "</table>\n",
       "</div>"
      ],
      "text/plain": [
       "          schedule_gtfs_dataset_key               name  \\\n",
       "0  1770249a5a2e770ca90628434d4934b1  VCTC GMV Schedule   \n",
       "\n",
       "  schedule_source_record_id                        base64_url  \\\n",
       "0         recrAG7e0oOiR6FiP  aHR0cHM6Ly9nb3ZjYnVzLmNvbS9ndGZz   \n",
       "\n",
       "  organization_source_record_id                         organization_name  \\\n",
       "0             rec7EN71rsZxDFxZd  Ventura County Transportation Commission   \n",
       "\n",
       "   itp_id caltrans_district ntd_id ntd_id_2022  \n",
       "0  380.00  07 - Los Angeles  90164       90164  "
      ]
     },
     "execution_count": 16,
     "metadata": {},
     "output_type": "execute_result"
    }
   ],
   "source": [
    "crosswalk_mar.head(1)"
   ]
  },
  {
   "cell_type": "code",
   "execution_count": 26,
   "id": "b7ee2dfb-c623-4e9f-83e5-f04e895ea91b",
   "metadata": {},
   "outputs": [
    {
     "data": {
      "text/plain": [
       "171"
      ]
     },
     "execution_count": 26,
     "metadata": {},
     "output_type": "execute_result"
    }
   ],
   "source": [
    "crosswalk_mar.name.nunique()"
   ]
  },
  {
   "cell_type": "code",
   "execution_count": 27,
   "id": "f20fb978-bd7f-43c3-98e8-efb36163dd97",
   "metadata": {},
   "outputs": [
    {
     "data": {
      "text/plain": [
       "135"
      ]
     },
     "execution_count": 27,
     "metadata": {},
     "output_type": "execute_result"
    }
   ],
   "source": [
    "crosswalk_mar.ntd_id.nunique()"
   ]
  },
  {
   "cell_type": "code",
   "execution_count": 32,
   "id": "44e98bcc-ba8d-4c54-a553-ac1a64f70e73",
   "metadata": {},
   "outputs": [
    {
     "data": {
      "text/plain": [
       "99454    2\n",
       "90154    2\n",
       "90148    2\n",
       "90173    2\n",
       "91098    2\n",
       "90016    2\n",
       "90259    2\n",
       "90280    2\n",
       "91092    2\n",
       "90164    1\n",
       "Name: ntd_id_2022, dtype: int64"
      ]
     },
     "execution_count": 32,
     "metadata": {},
     "output_type": "execute_result"
    }
   ],
   "source": [
    "crosswalk_mar.ntd_id_2022.value_counts().head(10)"
   ]
  },
  {
   "cell_type": "code",
   "execution_count": 33,
   "id": "4f754891-27fa-4016-935e-ac45a7d0988a",
   "metadata": {},
   "outputs": [
    {
     "data": {
      "text/html": [
       "<div>\n",
       "<style scoped>\n",
       "    .dataframe tbody tr th:only-of-type {\n",
       "        vertical-align: middle;\n",
       "    }\n",
       "\n",
       "    .dataframe tbody tr th {\n",
       "        vertical-align: top;\n",
       "    }\n",
       "\n",
       "    .dataframe thead th {\n",
       "        text-align: right;\n",
       "    }\n",
       "</style>\n",
       "<table border=\"1\" class=\"dataframe\">\n",
       "  <thead>\n",
       "    <tr style=\"text-align: right;\">\n",
       "      <th></th>\n",
       "      <th>schedule_gtfs_dataset_key</th>\n",
       "      <th>name</th>\n",
       "      <th>schedule_source_record_id</th>\n",
       "      <th>base64_url</th>\n",
       "      <th>organization_source_record_id</th>\n",
       "      <th>organization_name</th>\n",
       "      <th>itp_id</th>\n",
       "      <th>caltrans_district</th>\n",
       "      <th>ntd_id</th>\n",
       "      <th>ntd_id_2022</th>\n",
       "    </tr>\n",
       "  </thead>\n",
       "  <tbody>\n",
       "    <tr>\n",
       "      <th>3</th>\n",
       "      <td>4383eb1cca04093020f1583f57f32d9b</td>\n",
       "      <td>Desert Roadrunner GMV Schedule</td>\n",
       "      <td>rec4i7pXkVh7Z74N9</td>\n",
       "      <td>aHR0cHM6Ly9yaWRlcHZ2dGEuY29tL2d0ZnM=</td>\n",
       "      <td>recGcv4NidDjwVSiN</td>\n",
       "      <td>Palo Verde Valley Transit Agency</td>\n",
       "      <td>238.00</td>\n",
       "      <td>08 - San Bernardino</td>\n",
       "      <td>9R02-99454</td>\n",
       "      <td>99454</td>\n",
       "    </tr>\n",
       "    <tr>\n",
       "      <th>149</th>\n",
       "      <td>ac9384d5e25378d1898ca522070cef66</td>\n",
       "      <td>Desert Roadrunner Schedule</td>\n",
       "      <td>reclg968KFmeD1FDV</td>\n",
       "      <td>aHR0cHM6Ly9kYXRhLnRyaWxsaXVtdHJhbnNpdC5jb20vZ3Rmcy9wYWxvdmVyZGVfdmFsbGV5LWNhLXVzL3BhbG92ZXJkZV92YWxsZXktY2EtdXMuemlw</td>\n",
       "      <td>recGcv4NidDjwVSiN</td>\n",
       "      <td>Palo Verde Valley Transit Agency</td>\n",
       "      <td>238.00</td>\n",
       "      <td>08 - San Bernardino</td>\n",
       "      <td>9R02-99454</td>\n",
       "      <td>99454</td>\n",
       "    </tr>\n",
       "  </tbody>\n",
       "</table>\n",
       "</div>"
      ],
      "text/plain": [
       "            schedule_gtfs_dataset_key                            name  \\\n",
       "3    4383eb1cca04093020f1583f57f32d9b  Desert Roadrunner GMV Schedule   \n",
       "149  ac9384d5e25378d1898ca522070cef66      Desert Roadrunner Schedule   \n",
       "\n",
       "    schedule_source_record_id  \\\n",
       "3           rec4i7pXkVh7Z74N9   \n",
       "149         reclg968KFmeD1FDV   \n",
       "\n",
       "                                                                                                               base64_url  \\\n",
       "3                                                                                    aHR0cHM6Ly9yaWRlcHZ2dGEuY29tL2d0ZnM=   \n",
       "149  aHR0cHM6Ly9kYXRhLnRyaWxsaXVtdHJhbnNpdC5jb20vZ3Rmcy9wYWxvdmVyZGVfdmFsbGV5LWNhLXVzL3BhbG92ZXJkZV92YWxsZXktY2EtdXMuemlw   \n",
       "\n",
       "    organization_source_record_id                 organization_name  itp_id  \\\n",
       "3               recGcv4NidDjwVSiN  Palo Verde Valley Transit Agency  238.00   \n",
       "149             recGcv4NidDjwVSiN  Palo Verde Valley Transit Agency  238.00   \n",
       "\n",
       "       caltrans_district      ntd_id ntd_id_2022  \n",
       "3    08 - San Bernardino  9R02-99454       99454  \n",
       "149  08 - San Bernardino  9R02-99454       99454  "
      ]
     },
     "execution_count": 33,
     "metadata": {},
     "output_type": "execute_result"
    }
   ],
   "source": [
    "crosswalk_mar.loc[crosswalk_mar.ntd_id_2022 == \"99454\"]"
   ]
  },
  {
   "cell_type": "code",
   "execution_count": 34,
   "id": "cfa280ca-d871-4a4c-9d79-8fe1c2029908",
   "metadata": {},
   "outputs": [
    {
     "data": {
      "text/html": [
       "<div>\n",
       "<style scoped>\n",
       "    .dataframe tbody tr th:only-of-type {\n",
       "        vertical-align: middle;\n",
       "    }\n",
       "\n",
       "    .dataframe tbody tr th {\n",
       "        vertical-align: top;\n",
       "    }\n",
       "\n",
       "    .dataframe thead th {\n",
       "        text-align: right;\n",
       "    }\n",
       "</style>\n",
       "<table border=\"1\" class=\"dataframe\">\n",
       "  <thead>\n",
       "    <tr style=\"text-align: right;\">\n",
       "      <th></th>\n",
       "      <th>schedule_gtfs_dataset_key</th>\n",
       "      <th>name</th>\n",
       "      <th>schedule_source_record_id</th>\n",
       "      <th>base64_url</th>\n",
       "      <th>organization_source_record_id</th>\n",
       "      <th>organization_name</th>\n",
       "      <th>itp_id</th>\n",
       "      <th>caltrans_district</th>\n",
       "      <th>ntd_id</th>\n",
       "      <th>ntd_id_2022</th>\n",
       "    </tr>\n",
       "  </thead>\n",
       "  <tbody>\n",
       "    <tr>\n",
       "      <th>85</th>\n",
       "      <td>3f3f36b4c41cc6b5df3eb7f5d8ea6e3c</td>\n",
       "      <td>LA Metro Bus Schedule</td>\n",
       "      <td>recX8JOPmBQM9aWLC</td>\n",
       "      <td>aHR0cHM6Ly9naXRsYWIuY29tL0xBQ01UQS9ndGZzX2J1cy9yYXcvbWFzdGVyL2d0ZnNfYnVzLnppcA==</td>\n",
       "      <td>recPnGkwdpnr8jmHB</td>\n",
       "      <td>Los Angeles County Metropolitan Transportation Authority</td>\n",
       "      <td>182.00</td>\n",
       "      <td>07 - Los Angeles</td>\n",
       "      <td>90154</td>\n",
       "      <td>90154</td>\n",
       "    </tr>\n",
       "    <tr>\n",
       "      <th>86</th>\n",
       "      <td>2a0571758141f412b6a546fd70a65bf3</td>\n",
       "      <td>LA Metro Rail Schedule</td>\n",
       "      <td>recofCmylEKq2zuPr</td>\n",
       "      <td>aHR0cHM6Ly9naXRsYWIuY29tL0xBQ01UQS9ndGZzX3JhaWwvcmF3L21hc3Rlci9ndGZzX3JhaWwuemlw</td>\n",
       "      <td>recPnGkwdpnr8jmHB</td>\n",
       "      <td>Los Angeles County Metropolitan Transportation Authority</td>\n",
       "      <td>182.00</td>\n",
       "      <td>07 - Los Angeles</td>\n",
       "      <td>90154</td>\n",
       "      <td>90154</td>\n",
       "    </tr>\n",
       "  </tbody>\n",
       "</table>\n",
       "</div>"
      ],
      "text/plain": [
       "           schedule_gtfs_dataset_key                    name  \\\n",
       "85  3f3f36b4c41cc6b5df3eb7f5d8ea6e3c   LA Metro Bus Schedule   \n",
       "86  2a0571758141f412b6a546fd70a65bf3  LA Metro Rail Schedule   \n",
       "\n",
       "   schedule_source_record_id  \\\n",
       "85         recX8JOPmBQM9aWLC   \n",
       "86         recofCmylEKq2zuPr   \n",
       "\n",
       "                                                                          base64_url  \\\n",
       "85  aHR0cHM6Ly9naXRsYWIuY29tL0xBQ01UQS9ndGZzX2J1cy9yYXcvbWFzdGVyL2d0ZnNfYnVzLnppcA==   \n",
       "86  aHR0cHM6Ly9naXRsYWIuY29tL0xBQ01UQS9ndGZzX3JhaWwvcmF3L21hc3Rlci9ndGZzX3JhaWwuemlw   \n",
       "\n",
       "   organization_source_record_id  \\\n",
       "85             recPnGkwdpnr8jmHB   \n",
       "86             recPnGkwdpnr8jmHB   \n",
       "\n",
       "                                           organization_name  itp_id  \\\n",
       "85  Los Angeles County Metropolitan Transportation Authority  182.00   \n",
       "86  Los Angeles County Metropolitan Transportation Authority  182.00   \n",
       "\n",
       "   caltrans_district ntd_id ntd_id_2022  \n",
       "85  07 - Los Angeles  90154       90154  \n",
       "86  07 - Los Angeles  90154       90154  "
      ]
     },
     "execution_count": 34,
     "metadata": {},
     "output_type": "execute_result"
    }
   ],
   "source": [
    "crosswalk_mar.loc[crosswalk_mar.ntd_id_2022 == \"90154\"]"
   ]
  },
  {
   "cell_type": "code",
   "execution_count": 25,
   "id": "138c88f4-7380-4670-a067-13c281763941",
   "metadata": {},
   "outputs": [
    {
     "data": {
      "text/plain": [
       "171"
      ]
     },
     "execution_count": 25,
     "metadata": {},
     "output_type": "execute_result"
    }
   ],
   "source": [
    "len(crosswalk_mar)"
   ]
  },
  {
   "cell_type": "code",
   "execution_count": 21,
   "id": "1b3e5fec-4f81-48b2-ae58-3f027c892d0a",
   "metadata": {},
   "outputs": [
    {
     "data": {
      "text/plain": [
       "_merge    \n",
       "both          136\n",
       "right_only     99\n",
       "left_only      35\n",
       "dtype: int64"
      ]
     },
     "execution_count": 21,
     "metadata": {},
     "output_type": "execute_result"
    }
   ],
   "source": [
    "pd.merge(crosswalk_mar,\n",
    "        final_ntd,\n",
    "        left_on = [\"ntd_id_2022\"],\n",
    "        right_on = [\"ntd_id\"],\n",
    "        how = \"outer\",\n",
    "        indicator= True)[[\"_merge\"]].value_counts()"
   ]
  },
  {
   "cell_type": "code",
   "execution_count": 17,
   "id": "0d932d44-2f71-460a-adaf-aaa0632a8cf6",
   "metadata": {},
   "outputs": [
    {
     "data": {
      "text/plain": [
       "_merge    \n",
       "right_only    132\n",
       "both          101\n",
       "left_only      70\n",
       "dtype: int64"
      ]
     },
     "execution_count": 17,
     "metadata": {},
     "output_type": "execute_result"
    }
   ],
   "source": [
    "pd.merge(crosswalk_mar,\n",
    "        final_ntd,\n",
    "        on = [\"ntd_id\"],\n",
    "        how = \"outer\",\n",
    "        indicator= True)[[\"_merge\"]].value_counts()"
   ]
  },
  {
   "cell_type": "code",
   "execution_count": null,
   "id": "0511c212-b5a5-43ce-9c82-03ee3f4ad025",
   "metadata": {},
   "outputs": [
    {
     "data": {
      "text/plain": [
       "_merge    \n",
       "right_only    228\n",
       "left_only     171\n",
       "both            0\n",
       "dtype: int64"
      ]
     },
     "execution_count": 20,
     "metadata": {},
     "output_type": "execute_result"
    }
   ],
   "source": [
    "pd.merge(crosswalk_mar,\n",
    "        final_ntd,\n",
    "        left_on = [\"name\"],\n",
    "        right_on = [\"agency_name\"],\n",
    "        how = \"outer\",\n",
    "        indicator= True)[[\"_merge\"]].value_counts()"
   ]
  },
  {
   "cell_type": "markdown",
   "id": "ec7025be-95b3-48e5-b8ed-5cdb79b86cce",
   "metadata": {},
   "source": [
    "### Find the NTD IDs in `dim_annual_ntd_agency_service`"
   ]
  },
  {
   "cell_type": "code",
   "execution_count": null,
   "id": "00c3d460-c126-4750-9df9-8428b368a12e",
   "metadata": {},
   "outputs": [],
   "source": [
    "ntd_agency_service = (\n",
    "    tbls.mart_ntd.dim_annual_ntd_agency_service()\n",
    "    >> collect()\n",
    ")"
   ]
  },
  {
   "cell_type": "code",
   "execution_count": null,
   "id": "930883b2-aeb1-4421-9277-af943f111b01",
   "metadata": {},
   "outputs": [],
   "source": [
    "ntd_agency_service.head(1)"
   ]
  },
  {
   "cell_type": "code",
   "execution_count": null,
   "id": "66068e6d-bea5-4311-9c96-9874fb7f37dd",
   "metadata": {},
   "outputs": [],
   "source": [
    "ntd_agency_service.ntd_id.nunique()"
   ]
  },
  {
   "cell_type": "code",
   "execution_count": null,
   "id": "6b415d55-b061-44fb-820a-295551c12b09",
   "metadata": {},
   "outputs": [],
   "source": [
    "ntd_agency_service.agency_name.nunique()"
   ]
  },
  {
   "cell_type": "code",
   "execution_count": null,
   "id": "b832ad16-c5e6-47fc-bf98-b0a9787e7b69",
   "metadata": {},
   "outputs": [],
   "source": [
    "len(ntd_agency_service)"
   ]
  },
  {
   "cell_type": "code",
   "execution_count": null,
   "id": "d7344cd8-06db-466f-99ad-586a1dc79dfb",
   "metadata": {},
   "outputs": [],
   "source": [
    "len(ntd_agency_service.drop_duplicates(subset = ['ntd_id','agency_name']))"
   ]
  },
  {
   "cell_type": "code",
   "execution_count": null,
   "id": "38dea19a-ca01-487f-a75a-2cfb40375360",
   "metadata": {},
   "outputs": [],
   "source": [
    "ntd_agency_service2 = ntd_agency_service.drop_duplicates(subset = ['ntd_id','agency_name'])"
   ]
  },
  {
   "cell_type": "code",
   "execution_count": null,
   "id": "8198aeeb-6e7b-4e01-9469-4197a15d9696",
   "metadata": {},
   "outputs": [],
   "source": [
    "ntd_agency_service.year.unique()"
   ]
  },
  {
   "cell_type": "markdown",
   "id": "71da3927-4eae-4268-8f9b-b8b3abb3e2a8",
   "metadata": {},
   "source": [
    "#### Merging NTD Agency Service with the Crosswalk"
   ]
  },
  {
   "cell_type": "code",
   "execution_count": null,
   "id": "07181f09-131d-4fae-b5e6-d0d4b5079234",
   "metadata": {},
   "outputs": [],
   "source": [
    "pd.merge(crosswalk_mar,\n",
    "        ntd_agency_service2,\n",
    "        left_on = [\"ntd_id_2022\", \"organization_name\"],\n",
    "        right_on = [\"ntd_id\", \"agency_name\"],\n",
    "        how = \"outer\",\n",
    "        indicator= True)[[\"_merge\"]].value_counts()"
   ]
  },
  {
   "cell_type": "code",
   "execution_count": null,
   "id": "d3f59e37-94aa-46ff-ab57-27c54bc2b87c",
   "metadata": {},
   "outputs": [],
   "source": [
    "pd.merge(crosswalk_mar,\n",
    "        ntd_agency_service2,\n",
    "        on = [\"ntd_id\"],\n",
    "        how = \"outer\",\n",
    "        indicator= True)[[\"_merge\"]].value_counts()"
   ]
  },
  {
   "cell_type": "code",
   "execution_count": null,
   "id": "8df1c258-8ff9-41b1-9577-55a310fd5237",
   "metadata": {},
   "outputs": [],
   "source": [
    "len(crosswalk_mar)"
   ]
  },
  {
   "cell_type": "markdown",
   "id": "789cf968-0f7a-47ba-9dcc-e349dcfc2e22",
   "metadata": {},
   "source": [
    "#### Compare the original NTD table versus NTD Agency Service"
   ]
  },
  {
   "cell_type": "code",
   "execution_count": null,
   "id": "a386b47e-b175-491e-ac3a-a311e821238f",
   "metadata": {},
   "outputs": [],
   "source": [
    "agency_service_id = set(ntd_agency_service2.ntd_id.unique().tolist())\n",
    "agency_profile_id = set(final_ntd.ntd_id.unique().tolist())\n",
    "agency_profile_id - agency_service_id"
   ]
  },
  {
   "cell_type": "code",
   "execution_count": null,
   "id": "84c51382-afc4-4052-8281-1d23077e5ab6",
   "metadata": {},
   "outputs": [],
   "source": [
    "pd.merge(\n",
    "        final_ntd,\n",
    "    ntd_agency_service2,\n",
    "        on = [\"ntd_id\"],\n",
    "        how = \"outer\",\n",
    "        indicator= True)[[\"_merge\"]].value_counts()"
   ]
  },
  {
   "cell_type": "code",
   "execution_count": null,
   "id": "a7e7f625-2557-4faa-a084-04be399d555d",
   "metadata": {},
   "outputs": [],
   "source": [
    "len(final_ntd)"
   ]
  },
  {
   "cell_type": "code",
   "execution_count": null,
   "id": "b72c84fb-b7fb-4148-a7d3-71c280892764",
   "metadata": {},
   "outputs": [],
   "source": [
    "pd.merge(\n",
    "       final_ntd,\n",
    "       ntd_agency_service2,\n",
    "        on = [\"ntd_id\", \"agency_name\"],\n",
    "        how = \"left\",\n",
    "        indicator= True)[[\"_merge\"]].value_counts()"
   ]
  },
  {
   "cell_type": "code",
   "execution_count": null,
   "id": "e60e37a2-7dc0-48e6-ac91-15fdca8bb3db",
   "metadata": {},
   "outputs": [],
   "source": [
    "len(agency_profile_id)"
   ]
  },
  {
   "cell_type": "code",
   "execution_count": null,
   "id": "baf0f659-a4e2-45f5-b9e9-d1b452b1f690",
   "metadata": {
    "scrolled": true,
    "tags": []
   },
   "outputs": [],
   "source": [
    "len(agency_service_id-agency_profile_id)"
   ]
  },
  {
   "cell_type": "code",
   "execution_count": null,
   "id": "6eda8493-0357-4623-9638-023ff2389463",
   "metadata": {},
   "outputs": [],
   "source": [
    "agency_service_agency= set(ntd_agency_service.agency_name.unique().tolist())\n",
    "agency_profile_agency = set(final_ntd.agency_name.unique().tolist())"
   ]
  },
  {
   "cell_type": "code",
   "execution_count": null,
   "id": "26fc2276-42a5-435a-9374-49534dacf35c",
   "metadata": {},
   "outputs": [],
   "source": [
    "agency_profile_agency - agency_service_agency"
   ]
  },
  {
   "cell_type": "markdown",
   "id": "6b004803-1515-400b-a4b8-aae7eb8667ef",
   "metadata": {},
   "source": [
    "### Checkout NTD"
   ]
  },
  {
   "cell_type": "code",
   "execution_count": null,
   "id": "fdbb0219-3790-4911-af57-70e54606b89c",
   "metadata": {},
   "outputs": [],
   "source": [
    "ntd_test = (\n",
    "    tbls.mart_ntd.dim_annual_ntd_agency_information()\n",
    "    >> filter(_.state == \"CA\", _._is_current == True)\n",
    "    >> collect()\n",
    ")"
   ]
  },
  {
   "cell_type": "code",
   "execution_count": null,
   "id": "0f200f34-f7b4-463d-909b-8d11949f53ce",
   "metadata": {},
   "outputs": [],
   "source": [
    "ntd_test.shape"
   ]
  },
  {
   "cell_type": "code",
   "execution_count": null,
   "id": "738a50f2-3f2e-4fc6-9bf7-fa4c2fa0c449",
   "metadata": {},
   "outputs": [],
   "source": [
    "ntd_test.head(1)"
   ]
  },
  {
   "cell_type": "code",
   "execution_count": null,
   "id": "3a7c1319-a614-4322-bc5e-75c03aac360c",
   "metadata": {},
   "outputs": [],
   "source": [
    "ntd_test.year.unique()"
   ]
  },
  {
   "cell_type": "code",
   "execution_count": null,
   "id": "1082d592-a3b9-4c19-82c8-42886e624c21",
   "metadata": {},
   "outputs": [],
   "source": [
    "ntd2 = ntd.sort_values(by=list(ntd.columns), na_position=\"last\")"
   ]
  },
  {
   "cell_type": "code",
   "execution_count": null,
   "id": "a0e171a8-1282-4bcc-a344-40f5426d8b6a",
   "metadata": {},
   "outputs": [],
   "source": [
    "ntd.shape"
   ]
  },
  {
   "cell_type": "code",
   "execution_count": null,
   "id": "8026edda-87a4-4e6c-bc91-5a898c67854f",
   "metadata": {},
   "outputs": [],
   "source": [
    "ntd.loc[ntd.agency_name == \"Kern Regional Transit\"]"
   ]
  },
  {
   "cell_type": "code",
   "execution_count": null,
   "id": "a707845b-cd23-45dc-8766-fc314e1a0a6f",
   "metadata": {},
   "outputs": [],
   "source": [
    "ntd2.loc[ntd2.agency_name == \"Kern Regional Transit\"]"
   ]
  },
  {
   "cell_type": "code",
   "execution_count": null,
   "id": "02ef187b-5f25-4ea0-be64-2479fc1f2e08",
   "metadata": {},
   "outputs": [],
   "source": [
    "ntd.loc[ntd.agency_name == \"San Luis Obispo Regional Transit Authority\"]"
   ]
  },
  {
   "cell_type": "code",
   "execution_count": null,
   "id": "1986d084-8d9e-40ac-b66c-d843bc534b4b",
   "metadata": {},
   "outputs": [],
   "source": [
    "ntd2.loc[ntd2.agency_name == \"San Luis Obispo Regional Transit Authority\"]"
   ]
  },
  {
   "cell_type": "code",
   "execution_count": null,
   "id": "af77c732-db12-47e0-a7ff-d9574a7f3b1e",
   "metadata": {},
   "outputs": [],
   "source": [
    "ntd.agency_name.value_counts().head(10)"
   ]
  },
  {
   "cell_type": "code",
   "execution_count": null,
   "id": "c71aa92d-96a2-4155-93fa-03177c72f854",
   "metadata": {},
   "outputs": [],
   "source": [
    "ntd3 = ntd2.groupby(\"agency_name\").first().reset_index()"
   ]
  },
  {
   "cell_type": "code",
   "execution_count": null,
   "id": "7aa2945d-2534-4a8d-a6e2-e78f87fc4d9f",
   "metadata": {},
   "outputs": [],
   "source": [
    "ntd3.loc[ntd3.agency_name == \"San Luis Obispo Regional Transit Authority\"]"
   ]
  },
  {
   "cell_type": "code",
   "execution_count": null,
   "id": "fd0276b7-73aa-4f06-ba51-5288eb7d106d",
   "metadata": {},
   "outputs": [],
   "source": [
    "ntd3.head(1).T"
   ]
  },
  {
   "cell_type": "code",
   "execution_count": null,
   "id": "18fa8e03-2519-4fde-b027-6c94bce0e486",
   "metadata": {},
   "outputs": [],
   "source": [
    "ntd4 = (\n",
    "    tbls.mart_ntd.dim_annual_ntd_agency_information()\n",
    "    >> filter(_.year == 2022, _.state == \"CA\", _._is_current == True)\n",
    "    >> collect()\n",
    ")"
   ]
  },
  {
   "cell_type": "code",
   "execution_count": null,
   "id": "01dcdb6f-e62a-420b-9207-8623e0c13846",
   "metadata": {},
   "outputs": [],
   "source": [
    "ntd4.head(1).T"
   ]
  },
  {
   "cell_type": "markdown",
   "id": "b7eccc14-4300-46e8-84e5-2930dff748fd",
   "metadata": {},
   "source": [
    "### Checkout `mobility` \n",
    "* Need this because there is additional columns here that isn't in NTD."
   ]
  },
  {
   "cell_type": "code",
   "execution_count": null,
   "id": "68753f5b-5afb-4504-9234-6f898cfb51d1",
   "metadata": {},
   "outputs": [],
   "source": [
    "mob_og = (\n",
    "    tbls.mart_transit_database.dim_mobility_mart_providers()\n",
    "    >> collect()\n",
    ")"
   ]
  },
  {
   "cell_type": "code",
   "execution_count": null,
   "id": "084cf25b-1586-4122-8c89-0d25eb8b884f",
   "metadata": {},
   "outputs": [],
   "source": [
    "mob_og.head(1).T"
   ]
  },
  {
   "cell_type": "code",
   "execution_count": null,
   "id": "0ffdd0e8-2d53-4b05-a3b0-693597917a7f",
   "metadata": {},
   "outputs": [],
   "source": [
    "mob = (\n",
    "    tbls.mart_transit_database.dim_mobility_mart_providers()\n",
    "    >> select(\n",
    "        _.agency_name,\n",
    "        _.counties_served,\n",
    "        _.hq_city,\n",
    "        _.hq_county,\n",
    "        _.is_public_entity,\n",
    "        _.is_publicly_operating,\n",
    "        _.funding_sources,\n",
    "        _.on_demand_vehicles_at_max_service,\n",
    "        _.vehicles_at_max_service,\n",
    "    )\n",
    "    >> collect()\n",
    ")"
   ]
  },
  {
   "cell_type": "code",
   "execution_count": null,
   "id": "ae598235-b1e5-4621-aa10-979194b19cc2",
   "metadata": {},
   "outputs": [],
   "source": [
    "mob.head(1).T"
   ]
  },
  {
   "cell_type": "code",
   "execution_count": null,
   "id": "a78e5469-bf89-4c8e-ae57-ccbbe799c660",
   "metadata": {},
   "outputs": [],
   "source": [
    "mob.agency_name.value_counts().head(10)"
   ]
  },
  {
   "cell_type": "code",
   "execution_count": null,
   "id": "9786e812-6022-4e66-b583-9375d67aac64",
   "metadata": {},
   "outputs": [],
   "source": [
    "mob.loc[mob.agency_name == \"Kern Regional Transit\"]"
   ]
  },
  {
   "cell_type": "code",
   "execution_count": null,
   "id": "83353600-64aa-4c13-bb27-2cccec3042d5",
   "metadata": {},
   "outputs": [],
   "source": [
    "mob2 = mob.sort_values(\n",
    "    by=[\"on_demand_vehicles_at_max_service\", \"vehicles_at_max_service\"],\n",
    "    ascending=[False, False],\n",
    ")"
   ]
  },
  {
   "cell_type": "code",
   "execution_count": null,
   "id": "270e57ce-70e3-41f4-949a-5ed5a16cc681",
   "metadata": {},
   "outputs": [],
   "source": [
    "mob2.loc[mob2.agency_name == \"Kern Regional Transit\"]"
   ]
  },
  {
   "cell_type": "code",
   "execution_count": null,
   "id": "ab481356-b5ca-446e-adb4-fa7a6e12a20c",
   "metadata": {},
   "outputs": [],
   "source": [
    "mob3 = mob2.groupby('agency_name').first().reset_index()"
   ]
  },
  {
   "cell_type": "code",
   "execution_count": null,
   "id": "38b1526d-9a18-4269-b22d-108983cb1eaf",
   "metadata": {},
   "outputs": [],
   "source": [
    "mob3.loc[mob3.agency_name == \"Kern Regional Transit\"]"
   ]
  },
  {
   "cell_type": "markdown",
   "id": "be18a05e-32bb-4746-9abb-fa9be7e6cdaa",
   "metadata": {},
   "source": [
    "### I made a minor change to loading `mobility` warehouse data (just deleting an unncessary line). Otherwise, the functions are good to go."
   ]
  },
  {
   "cell_type": "code",
   "execution_count": null,
   "id": "56393f15-5393-4437-bfd4-f07d5cb4e858",
   "metadata": {},
   "outputs": [],
   "source": [
    "def merge_ntd_mobility(year:int)->pd.DataFrame:\n",
    "    ntd = section1.load_ntd(year)\n",
    "    mobility = section1.load_mobility()\n",
    "    m1 = pd.merge(\n",
    "    mobility,\n",
    "    ntd,\n",
    "    how=\"inner\",\n",
    "    on=\"agency_name\")\n",
    "    agency_dict = {\n",
    "    \"City of Fairfield, California\": \"City of Fairfield\",\n",
    "    \"Livermore / Amador Valley Transit Authority\": \"Livermore-Amador Valley Transit Authority\",\n",
    "    \"Nevada County Transit Services\": \"Nevada County\",\n",
    "    \"Omnitrans\": \"OmniTrans\"}\n",
    "    \n",
    "    m1.agency_name = m1.agency_name.replace(agency_dict)\n",
    "    m1.agency_name = m1.agency_name.str.strip()\n",
    "    m1 = m1.drop_duplicates(subset = [\"agency_name\"]).reset_index(drop = True)\n",
    "    return m1"
   ]
  },
  {
   "cell_type": "code",
   "execution_count": null,
   "id": "6debcdda-36db-4882-b205-bb11c109947b",
   "metadata": {},
   "outputs": [],
   "source": [
    "m1 = merge_ntd_mobility(2022)"
   ]
  },
  {
   "cell_type": "code",
   "execution_count": null,
   "id": "9a32f902-3a4f-41f4-a859-2431db1de980",
   "metadata": {},
   "outputs": [],
   "source": [
    "m1.shape"
   ]
  },
  {
   "cell_type": "code",
   "execution_count": null,
   "id": "487ae4b4-3fa2-4906-88bf-8f07258467e1",
   "metadata": {},
   "outputs": [],
   "source": [
    "m1.agency_name.nunique()"
   ]
  },
  {
   "cell_type": "code",
   "execution_count": null,
   "id": "a367a0a1-5cc7-499d-b3b1-20a9e718b49f",
   "metadata": {},
   "outputs": [],
   "source": [
    "m1.agency_name.value_counts().head()"
   ]
  },
  {
   "cell_type": "code",
   "execution_count": null,
   "id": "255ab6f3-7a7e-44a4-a35a-0b43bb4d07f2",
   "metadata": {},
   "outputs": [],
   "source": [
    "m1.loc[m1.agency_name == \"Redding Area Bus Authority\"]"
   ]
  },
  {
   "cell_type": "markdown",
   "id": "97654901-db31-464c-9875-ab2639b5df41",
   "metadata": {},
   "source": [
    "### Checkout Route Typology\n",
    "* All this work lives in another script `gtfs_Funnel/route_typologies.py`"
   ]
  },
  {
   "cell_type": "code",
   "execution_count": null,
   "id": "7e6be9f0-1a3f-44ac-89f4-6dbfb4ad5a18",
   "metadata": {},
   "outputs": [],
   "source": [
    "ROUTE_TYPOLOGY = GTFS_DATA_DICT.schedule_tables.route_typologies"
   ]
  },
  {
   "cell_type": "code",
   "execution_count": null,
   "id": "1f756bb2-5561-40bc-b306-ebcc55f223c0",
   "metadata": {},
   "outputs": [],
   "source": [
    "SCHED_GCS"
   ]
  },
  {
   "cell_type": "code",
   "execution_count": null,
   "id": "d4e12f43-f210-4570-9293-9608f1405d11",
   "metadata": {},
   "outputs": [],
   "source": [
    "ROUTE_TYPOLOGY"
   ]
  },
  {
   "cell_type": "code",
   "execution_count": null,
   "id": "3e58dbe7-ac92-481b-8b19-b41875c67e02",
   "metadata": {},
   "outputs": [],
   "source": [
    "apr_24_url = \"gs://calitp-analytics-data/data-analyses/gtfs_schedule/nacto_typologies/route_typologies_2024-04-19.parquet\""
   ]
  },
  {
   "cell_type": "code",
   "execution_count": null,
   "id": "a196f044-846a-40b0-8a1b-754cae9c638b",
   "metadata": {},
   "outputs": [],
   "source": [
    "apr_24_df = pd.read_parquet(apr_24_url)"
   ]
  },
  {
   "cell_type": "code",
   "execution_count": null,
   "id": "c0235078-96b4-4fcb-8f18-26ff8131ca27",
   "metadata": {},
   "outputs": [],
   "source": [
    "apr_24_df.head(2)"
   ]
  }
 ],
 "metadata": {
  "kernelspec": {
   "display_name": "Python 3 (ipykernel)",
   "language": "python",
   "name": "python3"
  },
  "language_info": {
   "codemirror_mode": {
    "name": "ipython",
    "version": 3
   },
   "file_extension": ".py",
   "mimetype": "text/x-python",
   "name": "python",
   "nbconvert_exporter": "python",
   "pygments_lexer": "ipython3",
   "version": "3.9.13"
  }
 },
 "nbformat": 4,
 "nbformat_minor": 5
}
