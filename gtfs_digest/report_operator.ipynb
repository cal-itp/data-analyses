{
 "cells": [
  {
   "cell_type": "code",
   "execution_count": null,
   "id": "89102e7d-7aa7-4897-ba5d-e09d0bd08fac",
   "metadata": {},
   "outputs": [],
   "source": [
    "%%capture\n",
    "\n",
    "import warnings\n",
    "\n",
    "warnings.filterwarnings(\"ignore\")\n",
    "\n",
    "import altair as alt\n",
    "import calitp_data_analysis.magics\n",
    "import geopandas as gpd\n",
    "import google.auth\n",
    "import pandas as pd\n",
    "from IPython.display import HTML, Image, Markdown, display, display_html\n",
    "from omegaconf import OmegaConf\n",
    "from update_vars import GTFS_DATA_DICT, RT_SCHED_GCS, SCHED_GCS, SEGMENT_GCS\n",
    "\n",
    "readable_dict = OmegaConf.load(\"readable2.yml\")\n",
    "credentials, project = google.auth.default()\n",
    "\n",
    "import _operator_grain_route_summary\n",
    "import _operator_grain_route_dir_visuals\n",
    "import _operator_grain_scheduled_service"
   ]
  },
  {
   "cell_type": "code",
   "execution_count": null,
   "id": "0197abcb-ff23-4c97-b079-2275fb4ad817",
   "metadata": {},
   "outputs": [],
   "source": [
    "pd.options.display.max_columns = 100\n",
    "pd.options.display.float_format = \"{:.2f}\".format\n",
    "pd.set_option(\"display.max_rows\", None)\n",
    "pd.set_option(\"display.max_colwidth\", None)\n",
    "\n",
    "\n",
    "def formatted(number):\n",
    "    return \"{:,}\".format(number)"
   ]
  },
  {
   "cell_type": "code",
   "execution_count": null,
   "id": "50e53005-df99-4286-a579-a12fbdae7d6c",
   "metadata": {
    "tags": [
     "parameters"
    ]
   },
   "outputs": [],
   "source": [
    "analysis_name = \"Alameda-Contra Costa Transit District\""
   ]
  },
  {
   "cell_type": "code",
   "execution_count": null,
   "id": "5d03eacf-096b-41e0-908b-7ade510b3d64",
   "metadata": {
    "tags": [
     "parameters"
    ]
   },
   "outputs": [],
   "source": [
    "# %%capture_parameters\n",
    "# analysis_name"
   ]
  },
  {
   "cell_type": "code",
   "execution_count": null,
   "id": "fe6e8ffd-78ca-41fa-98f0-5cdd99b68a45",
   "metadata": {
    "tags": []
   },
   "outputs": [],
   "source": [
    "# Set drop down menu to be on the upper right for the charts\n",
    "display(\n",
    "    HTML(\n",
    "        \"\"\"\n",
    "<style>\n",
    "form.vega-bindings {\n",
    "  position: absolute;\n",
    "  right: 0px;\n",
    "  top: 0px;\n",
    "}\n",
    "</style>\n",
    "\"\"\"\n",
    "    )\n",
    ")"
   ]
  },
  {
   "cell_type": "code",
   "execution_count": null,
   "id": "2f794cee-d46c-496c-91e6-fd7d2b7a2705",
   "metadata": {
    "tags": []
   },
   "outputs": [],
   "source": [
    "ROUTE_DIR_MONTH_FILE = GTFS_DATA_DICT.digest_tables.monthly_route_schedule_vp_report\n",
    "OPERATOR_PROFILES = GTFS_DATA_DICT.digest_tables.operator_profiles_report\n",
    "OPERATOR_ROUTE_MAP = GTFS_DATA_DICT.digest_tables.operator_routes_map_report\n",
    "SCHEDULED_SERVICES = GTFS_DATA_DICT.digest_tables.scheduled_service_hours_report\n",
    "ROUTE_DIR_QTR_FILE = GTFS_DATA_DICT.digest_tables.quarterly_route_schedule_vp_report\n",
    "\n",
    "route_dir_month_df = pd.read_parquet(\n",
    "    f\"{RT_SCHED_GCS}{ROUTE_DIR_MONTH_FILE}.parquet\",\n",
    "    filters=[[(\"Analysis Name\", \"==\", analysis_name)]],\n",
    ").drop_duplicates()"
   ]
  },
  {
   "cell_type": "code",
   "execution_count": null,
   "id": "4b18b8d5-5aad-4fd3-b21b-6d49d3a0d89e",
   "metadata": {
    "tags": []
   },
   "outputs": [],
   "source": [
    "route_dir_qtr_df = pd.read_parquet(\n",
    "    f\"{RT_SCHED_GCS}{ROUTE_DIR_QTR_FILE}.parquet\",\n",
    "    filters=[[(\"Analysis Name\", \"==\", analysis_name)]],\n",
    ")"
   ]
  },
  {
   "cell_type": "code",
   "execution_count": null,
   "id": "ed0f2ad3-4f97-4492-94c0-47af2b193c9c",
   "metadata": {
    "tags": []
   },
   "outputs": [],
   "source": [
    "route_df = gpd.read_parquet(\n",
    "    f\"{RT_SCHED_GCS}{OPERATOR_ROUTE_MAP}.parquet\",\n",
    "    filters=[[(\"analysis_name\", \"==\", analysis_name)]],\n",
    "    storage_options={\"token\": credentials.token},\n",
    ")"
   ]
  },
  {
   "cell_type": "code",
   "execution_count": null,
   "id": "701cbaeb-9a72-44e9-be2e-2e7585708753",
   "metadata": {
    "tags": []
   },
   "outputs": [],
   "source": [
    "profile_df = pd.read_parquet(\n",
    "    f\"{RT_SCHED_GCS}{OPERATOR_PROFILES}.parquet\",\n",
    "    filters=[[(\"analysis_name\", \"==\", analysis_name)]],\n",
    ")"
   ]
  },
  {
   "cell_type": "code",
   "execution_count": null,
   "id": "9a032bf9-2e6c-41af-b210-59318c3c9596",
   "metadata": {
    "scrolled": true,
    "tags": []
   },
   "outputs": [],
   "source": [
    "service_hours_df = pd.read_parquet(\n",
    "    f\"{RT_SCHED_GCS}{SCHEDULED_SERVICES}.parquet\",\n",
    "    filters=[[(\"Analysis Name\", \"==\", analysis_name)]],\n",
    ")"
   ]
  },
  {
   "cell_type": "markdown",
   "id": "78e95141-c977-4a2d-ad1d-ffeb866f3640",
   "metadata": {},
   "source": [
    "# {analysis_name}"
   ]
  },
  {
   "cell_type": "markdown",
   "id": "e547a756-4a06-4f68-84c4-46e0eadbfc8a",
   "metadata": {},
   "source": [
    "## Operator Overview"
   ]
  },
  {
   "cell_type": "code",
   "execution_count": null,
   "id": "e36958b0-ead0-4728-a645-a2ffde52c3ab",
   "metadata": {
    "tags": []
   },
   "outputs": [],
   "source": [
    "try:\n",
    "    date = profile_df[\"service_date\"].dt.to_pydatetime()[0]\n",
    "except:\n",
    "    pass"
   ]
  },
  {
   "cell_type": "code",
   "execution_count": null,
   "id": "ea825647-a9a2-450b-b36a-0a636ed8c6cb",
   "metadata": {
    "tags": []
   },
   "outputs": [],
   "source": [
    "try:\n",
    "    service_area = formatted(int(profile_df.service_area_sq_miles.values[0]))\n",
    "    service_pop = formatted(int(profile_df.service_area_pop.values[0]))\n",
    "except:\n",
    "    pass"
   ]
  },
  {
   "cell_type": "code",
   "execution_count": null,
   "id": "29a3aaac-3921-403b-a8c0-943194617b31",
   "metadata": {
    "tags": []
   },
   "outputs": [],
   "source": [
    "try:\n",
    "    display(\n",
    "        Markdown(\n",
    "            f\"\"\"{analysis_name} is headquartered in <b>{profile_df.hq_city.values[0]}</b> in the Urbanized Area of <b>{profile_df.primary_uza_name.values[0]}</b>.<br>\n",
    "            This operator provides <b>{service_area}</b> square miles of public transit service, which has a service population of <b>{service_pop}</b>.<br>\n",
    "            This organization is a {profile_df.reporter_type.values[0]}.<br>\n",
    "            <b>Data Source</b>: <a href=\"https://www.transit.dot.gov/ntd/data-product/2022-annual-database-agency-information\">National Transit Database</a> Annual Agency Information.\n",
    "            \"\"\"\n",
    "        )\n",
    "    )\n",
    "except:\n",
    "    pass"
   ]
  },
  {
   "cell_type": "markdown",
   "id": "5687795c-5677-4088-ad86-0f727a6b2826",
   "metadata": {},
   "source": [
    "### Route Typologies"
   ]
  },
  {
   "cell_type": "code",
   "execution_count": null,
   "id": "a6498a56-fa06-45ce-a465-8e7712983fb1",
   "metadata": {},
   "outputs": [],
   "source": [
    "try:\n",
    "    display(\n",
    "        Markdown(\n",
    "            f\"\"\"The following data presents an overview of GTFS characteristics using data from the most recent date of\n",
    "      <b>{date.strftime(\"%B\")} {date.year}</b>.\"\"\"\n",
    "        )\n",
    "    )\n",
    "except:\n",
    "    pass"
   ]
  },
  {
   "cell_type": "code",
   "execution_count": null,
   "id": "7b59bd8f-f605-4f28-afed-dd1775a4143a",
   "metadata": {},
   "outputs": [],
   "source": [
    "try:\n",
    "    n_routes = formatted(profile_df[\"operator_n_routes\"].values[0])\n",
    "    display(\n",
    "        Markdown(\n",
    "            f\"\"\"{analysis_name} runs <b>{n_routes}</b> unique routes. Below is the breakdown of the routes and routes can belong to one or more categories.<p>\n",
    "            Route categories are determined using a approach that looks at GTFS trips data\n",
    "        alongside National Association of City Transportation Officials (NACTO)'s\n",
    "        <a href=\"https://nacto.org/publication/transit-street-design-guide/introduction/service-context/transit-route-types/\">Transit Route Types</a> \n",
    "        and <a href= \"https://nacto.org/publication/transit-street-design-guide/introduction/service-context/transit-frequency-volume/\">Frequency and Volume</a>\n",
    "        guides. Please see the <a href=\"https://github.com/cal-itp/data-analyses/blob/main/gtfs_digest/methodology.md\">methodology docs</a> for more details on this approach.\n",
    "        \"\"\"\n",
    "        )\n",
    "    )\n",
    "except:\n",
    "    display(Markdown(f\"\"\"{analysis_name} doesn't have an operator profile.\"\"\"))"
   ]
  },
  {
   "cell_type": "code",
   "execution_count": null,
   "id": "c4801444-b546-467a-9c2d-53799ce5c041",
   "metadata": {
    "tags": []
   },
   "outputs": [],
   "source": [
    "try:\n",
    "    display(_report_operator_visuals.route_typology_chart(profile_df))\n",
    "except:\n",
    "    display(\n",
    "        Markdown(f\"\"\"{analysis_name} doesn't have route typology data available.\"\"\")\n",
    "    )"
   ]
  },
  {
   "cell_type": "markdown",
   "id": "bf909ed5-e0b8-4a8b-b3b1-4c36cc4ed8c1",
   "metadata": {},
   "source": [
    "### Service Area"
   ]
  },
  {
   "cell_type": "code",
   "execution_count": null,
   "id": "bfc8b886-5d3c-476a-b71a-d8c0ea2080c1",
   "metadata": {
    "tags": []
   },
   "outputs": [],
   "source": [
    "try:\n",
    "    display(\n",
    "        route_df[[\"Route\", \"Route Length (Miles)\", \"geometry\"]].explore(\n",
    "            \"Route\",\n",
    "            cmap=\"Spectral\",\n",
    "            tiles=\"CartoDB positron\",\n",
    "            width=500,\n",
    "            height=300,\n",
    "            style_kwds={\"weight\": 3},\n",
    "            legend=False,\n",
    "        )\n",
    "    )\n",
    "except:\n",
    "    display(Markdown(f\"\"\"{analysis_name} doesn't have an route geographies.\"\"\"))"
   ]
  },
  {
   "cell_type": "code",
   "execution_count": null,
   "id": "f5787d5a-8793-43e8-a949-0fc49869ee67",
   "metadata": {},
   "outputs": [],
   "source": [
    "try:\n",
    "    n_service_miles = formatted(int(profile_df.operator_route_length_miles.values[0]))\n",
    "    n_stops = formatted(int(profile_df[\"operator_n_stops\"].values[0]))\n",
    "    n_arrivals = formatted(int(profile_df[\"operator_n_arrivals\"].values[0]))\n",
    "\n",
    "    display(\n",
    "        Markdown(\n",
    "            f\"\"\"{analysis_name} provides <b>{n_service_miles}</b> miles of public transit in {profile_df['counties_served'].values[0]} counties.\n",
    "            {analysis_name} stops at <b>{n_stops}</b> unique stops, \n",
    "                totaling to <b>{n_arrivals}</b> arrivals.\n",
    "        \"\"\"\n",
    "        )\n",
    "    )\n",
    "\n",
    "except:\n",
    "    pass"
   ]
  },
  {
   "cell_type": "code",
   "execution_count": null,
   "id": "9151f410-a9e3-479b-9f63-7863d6570965",
   "metadata": {
    "tags": []
   },
   "outputs": [],
   "source": [
    "try:\n",
    "    display(_report_operator_visuals.percentile_routes_chart(route_df))\n",
    "except:\n",
    "    pass"
   ]
  },
  {
   "cell_type": "markdown",
   "id": "7e25c76b-61da-476d-bff7-f9c1d090ce76",
   "metadata": {},
   "source": [
    "### Service Hours "
   ]
  },
  {
   "cell_type": "code",
   "execution_count": null,
   "id": "0448dfa5-af20-4900-b7d8-13555848cf61",
   "metadata": {},
   "outputs": [],
   "source": [
    "try:\n",
    "    display(\n",
    "        _scheduled_service_hour_visuals.scheduled_service_hr_graph(\n",
    "            service_hours_df, \"Weekday\", readable_dict.weekday_scheduled_service_graph\n",
    "        )\n",
    "    )\n",
    "except:\n",
    "    pass"
   ]
  },
  {
   "cell_type": "code",
   "execution_count": null,
   "id": "6c8dc4d9-6de2-47c9-afc6-91e641d7b7a1",
   "metadata": {},
   "outputs": [],
   "source": [
    "try:\n",
    "    display(\n",
    "        _scheduled_service_hour_visuals.scheduled_service_hr_graph(\n",
    "            service_hours_df, \"Saturday\", readable_dict.saturday_scheduled_service_graph\n",
    "        )\n",
    "    )\n",
    "except:\n",
    "    pass"
   ]
  },
  {
   "cell_type": "code",
   "execution_count": null,
   "id": "49a399b6-df92-4853-b234-f70af571b997",
   "metadata": {},
   "outputs": [],
   "source": [
    "try:\n",
    "    display(\n",
    "        _scheduled_service_hour_visuals.scheduled_service_hr_graph(\n",
    "            service_hours_df, \"Sunday\", readable_dict.sunday_scheduled_service_graph\n",
    "        )\n",
    "    )\n",
    "except:\n",
    "    pass"
   ]
  },
  {
   "cell_type": "markdown",
   "id": "22dc8b46-f5ed-4af9-bba5-b0c84adf57cc",
   "metadata": {},
   "source": [
    "## Detailed Route Overview"
   ]
  },
  {
   "cell_type": "code",
   "execution_count": null,
   "id": "20cc7aea-297a-4033-8082-8af1a1e6f0de",
   "metadata": {
    "tags": []
   },
   "outputs": [],
   "source": [
    "try:\n",
    "    display(\n",
    "        _report_route_dir_visuals.route_filter(route_dir_qtr_df, route_dir_month_df)\n",
    "    )\n",
    "except:\n",
    "    display(Markdown(f\"\"\"{analysis_name} only has schedule data.\"\"\"))"
   ]
  }
 ],
 "metadata": {
  "kernelspec": {
   "display_name": "Python 3 (ipykernel)",
   "language": "python",
   "name": "python3"
  },
  "language_info": {
   "codemirror_mode": {
    "name": "ipython",
    "version": 3
   },
   "file_extension": ".py",
   "mimetype": "text/x-python",
   "name": "python",
   "nbconvert_exporter": "python",
   "pygments_lexer": "ipython3",
   "version": "3.11.10"
  }
 },
 "nbformat": 4,
 "nbformat_minor": 5
}
