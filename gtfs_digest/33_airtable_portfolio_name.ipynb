{
 "cells": [
  {
   "cell_type": "markdown",
   "id": "740f011b-60b0-4f25-8106-80271ab65082",
   "metadata": {},
   "source": [
    "# Replacing Portfolio Organization Name YML with Airtable\n",
    "* GTFS Digest still uses the YML\n",
    "* Open_data products"
   ]
  },
  {
   "cell_type": "code",
   "execution_count": 1,
   "id": "cd34d682-63ff-43eb-a5d1-50aef445f833",
   "metadata": {
    "tags": []
   },
   "outputs": [],
   "source": [
    "import pandas as pd\n",
    "from calitp_data_analysis.sql import get_engine\n",
    "from calitp_data_analysis.tables import tbls\n",
    "db_engine = get_engine()\n",
    "from segment_speed_utils import helpers\n",
    "from shared_utils import catalog_utils, gtfs_utils_v2, schedule_rt_utils\n",
    "from update_vars import GTFS_DATA_DICT, SCHED_GCS\n",
    "\n",
    "db_engine = get_engine()"
   ]
  },
  {
   "cell_type": "code",
   "execution_count": 2,
   "id": "0332a993-3ec1-4a51-b646-3c5bf92af667",
   "metadata": {
    "tags": []
   },
   "outputs": [],
   "source": [
    "import datetime\n",
    "\n",
    "import geopandas as gpd\n",
    "import google.auth\n",
    "import numpy as np\n",
    "import pandas as pd\n",
    "import yaml\n",
    "from calitp_data_analysis import geography_utils, utils\n",
    "from segment_speed_utils import helpers\n",
    "from shared_utils import (\n",
    "    dask_utils,\n",
    "    portfolio_utils,\n",
    "    publish_utils,\n",
    "    rt_dates,\n",
    "    shared_data,\n",
    ")\n",
    "\n",
    "credentials, project = google.auth.default()\n",
    "import gcsfs\n",
    "\n",
    "fs = gcsfs.GCSFileSystem()"
   ]
  },
  {
   "cell_type": "code",
   "execution_count": 3,
   "id": "9b6eb6f2-6cb7-47c9-86b1-d557f673dca5",
   "metadata": {
    "tags": []
   },
   "outputs": [],
   "source": [
    "pd.options.display.max_columns = 100\n",
    "pd.options.display.float_format = \"{:.2f}\".format\n",
    "pd.set_option(\"display.max_rows\", None)\n",
    "pd.set_option(\"display.max_colwidth\", None)"
   ]
  },
  {
   "cell_type": "code",
   "execution_count": 4,
   "id": "3dd5a183-8ac1-4f67-9145-d2637268dc67",
   "metadata": {
    "tags": []
   },
   "outputs": [],
   "source": [
    "analysis_date = \"2025-06-11\""
   ]
  },
  {
   "cell_type": "code",
   "execution_count": 5,
   "id": "a47b1ce1-60cd-4555-b25a-05e2b02da1da",
   "metadata": {
    "tags": []
   },
   "outputs": [],
   "source": [
    "date = \"2025-06-11\""
   ]
  },
  {
   "cell_type": "code",
   "execution_count": 6,
   "id": "ecee2009-d022-475c-8090-6360e406b02e",
   "metadata": {
    "tags": []
   },
   "outputs": [],
   "source": [
    "SHN_HWY_BUFFER_FEET = 50"
   ]
  },
  {
   "cell_type": "markdown",
   "id": "e5655d3b-0cf0-4434-8f66-0a77e4154101",
   "metadata": {},
   "source": [
    "## `open_data/create_routes_data`"
   ]
  },
  {
   "cell_type": "code",
   "execution_count": 7,
   "id": "bfe0482f-e00f-4ac7-ba83-afc3bcc82985",
   "metadata": {
    "tags": []
   },
   "outputs": [],
   "source": [
    "def create_routes_file_for_export(date: str) -> gpd.GeoDataFrame:\n",
    "    \"\"\"\n",
    "    Create a shapes (with associated route info) file for export.\n",
    "    This allows users to plot the various shapes,\n",
    "    transit path options, and select between variations for\n",
    "    a given route.\n",
    "    \"\"\"\n",
    "    # Read in local parquets\n",
    "    trips = helpers.import_scheduled_trips(\n",
    "        date,\n",
    "        columns=[\n",
    "            \"name\",\n",
    "            \"gtfs_dataset_key\",\n",
    "            \"route_id\",\n",
    "            \"route_type\",\n",
    "            \"shape_id\",\n",
    "            \"shape_array_key\",\n",
    "            \"route_long_name\",\n",
    "            \"route_short_name\",\n",
    "            \"route_desc\",\n",
    "        ],\n",
    "        get_pandas=True,\n",
    "    ).dropna(subset=\"shape_array_key\")\n",
    "\n",
    "    shapes = helpers.import_scheduled_shapes(\n",
    "        date,\n",
    "        columns=[\"shape_array_key\", \"n_trips\", \"geometry\"],\n",
    "        get_pandas=True,\n",
    "        crs=geography_utils.WGS84,\n",
    "    ).dropna(subset=\"shape_array_key\")\n",
    "\n",
    "    df = (\n",
    "        pd.merge(shapes, trips, on=\"shape_array_key\", how=\"inner\")\n",
    "        .drop_duplicates(subset=\"shape_array_key\")\n",
    "        .drop(columns=\"shape_array_key\")\n",
    "    )\n",
    "\n",
    "    drop_cols = [\"route_short_name\", \"route_long_name\", \"route_desc\"]\n",
    "    route_shape_cols = [\"schedule_gtfs_dataset_key\", \"route_id\", \"shape_id\"]\n",
    "\n",
    "    routes_assembled = (\n",
    "        portfolio_utils.add_route_name(df)\n",
    "        .drop(columns=drop_cols)\n",
    "        .sort_values(route_shape_cols)\n",
    "        .drop_duplicates(subset=route_shape_cols)\n",
    "        .reset_index(drop=True)\n",
    "    )\n",
    "\n",
    "    routes_assembled = routes_assembled.pipe(remove_erroneous_shapes)\n",
    "\n",
    "    routes_assembled = routes_assembled.assign(\n",
    "        route_length_feet=routes_assembled.geometry.to_crs(\n",
    "            geography_utils.CA_NAD83Albers_ft\n",
    "        ).length\n",
    "    )\n",
    "    return routes_assembled"
   ]
  },
  {
   "cell_type": "code",
   "execution_count": 8,
   "id": "3819f3e6-3cdb-4b0e-92fe-ed27b3186bf3",
   "metadata": {
    "tags": []
   },
   "outputs": [],
   "source": [
    "def remove_erroneous_shapes(\n",
    "    shapes_with_route_info: gpd.GeoDataFrame,\n",
    ") -> gpd.GeoDataFrame:\n",
    "    \"\"\"\n",
    "    Check if line is simple for Amtrak. If it is, keep.\n",
    "    If it's not simple (line crosses itself), drop.\n",
    "\n",
    "    In Jun 2023, some Amtrak shapes appeared to be funky,\n",
    "    but in prior months, it's been ok.\n",
    "    Checking for length is fairly time-consuming.\n",
    "    \"\"\"\n",
    "    amtrak = \"Amtrak Schedule\"\n",
    "\n",
    "    possible_error = shapes_with_route_info[shapes_with_route_info.name == amtrak]\n",
    "    ok = shapes_with_route_info[shapes_with_route_info.name != amtrak]\n",
    "\n",
    "    # Check if the line crosses itself\n",
    "    ok_amtrak = (\n",
    "        possible_error.assign(simple=possible_error.geometry.is_simple)\n",
    "        .query(\"simple == True\")\n",
    "        .drop(columns=\"simple\")\n",
    "    )\n",
    "\n",
    "    ok_shapes = pd.concat([ok, ok_amtrak], axis=0).reset_index(drop=True)\n",
    "\n",
    "    return ok_shapes"
   ]
  },
  {
   "cell_type": "code",
   "execution_count": 9,
   "id": "b4ef1928-82b1-4408-bd88-6af4b1b07228",
   "metadata": {
    "tags": []
   },
   "outputs": [],
   "source": [
    "routes = create_routes_file_for_export(analysis_date)"
   ]
  },
  {
   "cell_type": "code",
   "execution_count": 10,
   "id": "9001e272-8d25-4c57-bfbc-b9fab882defb",
   "metadata": {
    "tags": []
   },
   "outputs": [],
   "source": [
    "def patch_previous_dates(\n",
    "    current_routes: gpd.GeoDataFrame,\n",
    "    current_date: str,\n",
    "    published_operators_yaml: str = \"../gtfs_funnel/published_operators.yml\",\n",
    ") -> gpd.GeoDataFrame:\n",
    "    \"\"\"\n",
    "    Compare to the yaml for what operators we want, and\n",
    "    patch in previous dates for the 10 or so operators\n",
    "    that do not have data for this current date.\n",
    "    \"\"\"\n",
    "    # Read in the published operators file\n",
    "    with open(published_operators_yaml) as f:\n",
    "        published_operators_dict = yaml.safe_load(f)\n",
    "\n",
    "    # Convert the published operators file into a dict mapping dates to an iterable of operators\n",
    "    patch_operators_dict = {\n",
    "        str(date): operator_list\n",
    "        for date, operator_list in published_operators_dict.items()\n",
    "        if str(date)\n",
    "        != current_date  # Exclude the current (analysis) date, since that does not need to be patched\n",
    "    }\n",
    "\n",
    "    partial_dfs = []\n",
    "\n",
    "    # For each date and corresponding iterable of operators, get the data from the last time they appeared\n",
    "    for one_date, operator_list in patch_operators_dict.items():\n",
    "        df_to_add = publish_utils.subset_table_from_previous_date(\n",
    "            gcs_bucket=TRAFFIC_OPS_GCS,\n",
    "            filename=f\"ca_transit_routes\",\n",
    "            operator_and_dates_dict=patch_operators_dict,\n",
    "            date=one_date,\n",
    "            crosswalk_col=\"schedule_gtfs_dataset_key\",\n",
    "            data_type=\"gdf\",\n",
    "        )\n",
    "\n",
    "        partial_dfs.append(df_to_add)\n",
    "\n",
    "    patch_routes = pd.concat(partial_dfs, axis=0, ignore_index=True)\n",
    "\n",
    "    # Concat the current data to the \"backfill\" data\n",
    "    published_routes = pd.concat(\n",
    "        [current_routes, patch_routes], axis=0, ignore_index=True\n",
    "    )\n",
    "    # Drop Duplicates\n",
    "    published_routes = published_routes.drop_duplicates().reset_index(drop=True)\n",
    "    return published_routes"
   ]
  },
  {
   "cell_type": "code",
   "execution_count": 11,
   "id": "78073bec-26d1-4d9f-9bb4-5d5249e1997d",
   "metadata": {
    "tags": []
   },
   "outputs": [],
   "source": [
    "TRAFFIC_OPS_GCS = f\"{GTFS_DATA_DICT.gcs_paths.GCS}traffic_ops/\""
   ]
  },
  {
   "cell_type": "code",
   "execution_count": 12,
   "id": "b0520d2e-7b69-473a-99a8-605bd8c931c4",
   "metadata": {
    "tags": []
   },
   "outputs": [],
   "source": [
    "published_routes = patch_previous_dates(\n",
    "    routes,\n",
    "    analysis_date,\n",
    ")"
   ]
  },
  {
   "cell_type": "code",
   "execution_count": 13,
   "id": "e2d35169-7b56-4424-bd82-47fc94e09f25",
   "metadata": {
    "tags": []
   },
   "outputs": [
    {
     "data": {
      "text/plain": [
       "16008"
      ]
     },
     "execution_count": 13,
     "metadata": {},
     "output_type": "execute_result"
    }
   ],
   "source": [
    "len(published_routes)"
   ]
  },
  {
   "cell_type": "markdown",
   "id": "eba15f44-cfdf-4565-a163-6d952b67036c",
   "metadata": {},
   "source": [
    "## Adding SHN "
   ]
  },
  {
   "cell_type": "code",
   "execution_count": 14,
   "id": "9414f346-2517-452a-a2db-7b7aab87605a",
   "metadata": {
    "tags": []
   },
   "outputs": [],
   "source": [
    "def add_shn_information(gdf: gpd.GeoDataFrame, buffer_amt: int) -> pd.DataFrame:\n",
    "    \"\"\"\n",
    "    Prepare the gdf to join with the existing transit_routes\n",
    "    dataframe that is published on the Open Data Portal\n",
    "    \"\"\"\n",
    "    # Retain only the longest shape for each name-route_id combo\n",
    "    # so finding the intersection with SHN won't take as long\n",
    "    # Overlay\n",
    "    intersecting = routes_shn_intersection(gdf, buffer_amt)\n",
    "\n",
    "    # Group the dataframe so that one route only has one\n",
    "    # row instead of multiple rows after finding its\n",
    "    # intersection with any SHN routes.\n",
    "    # print(intersecting.columns)\n",
    "    agg1 = group_route_district(intersecting)\n",
    "\n",
    "    # Merge the dataframe with all the SHS info with the original\n",
    "    # gdf so we can get the original transit route geometries &\n",
    "    # any routes that don't intersect with the state highway routes.\n",
    "    m1 = pd.merge(gdf, agg1, on=[\"route_id\", \"name\", \"shape_id\"], how=\"left\")\n",
    "\n",
    "    # Add yes/no column to signify if a transit route intersects\n",
    "    # with a SHN route\n",
    "    m1.pct_route_on_hwy_across_districts = m1.pct_route_on_hwy_across_districts.fillna(\n",
    "        0\n",
    "    )\n",
    "    m1[\"on_shs\"] = np.where(m1[\"pct_route_on_hwy_across_districts\"] == 0, 0, 1)\n",
    "\n",
    "    # Clean up rows that are tagged as \"on_shs==N\" but still have values\n",
    "    # that appear.\n",
    "    m1.loc[\n",
    "        (m1[\"on_shs\"] == \"N\") & (m1[\"shn_districts\"] != \"0\"),\n",
    "        [\"shn_districts\", \"shn_route\"],\n",
    "    ] = np.nan\n",
    "\n",
    "    return m1"
   ]
  },
  {
   "cell_type": "code",
   "execution_count": 15,
   "id": "05549477-803c-4339-9ddb-89fb43f1d01a",
   "metadata": {
    "tags": []
   },
   "outputs": [],
   "source": [
    "GCS_FILE_PATH = \"gs://calitp-analytics-data/data-analyses/shared_data/\""
   ]
  },
  {
   "cell_type": "code",
   "execution_count": 16,
   "id": "90fecd70-63e3-4a2e-a00d-5badddfbb2ec",
   "metadata": {
    "tags": []
   },
   "outputs": [],
   "source": [
    "HWY_FILE = (\n",
    "    f\"{GCS_FILE_PATH}shn_buffered_{50}_ft_shn_dissolved_by_ct_district_route.parquet\"\n",
    ")"
   ]
  },
  {
   "cell_type": "code",
   "execution_count": 17,
   "id": "650d0f62-0470-46c7-a28e-8fd73f16a8ba",
   "metadata": {
    "tags": []
   },
   "outputs": [
    {
     "data": {
      "text/plain": [
       "'gs://calitp-analytics-data/data-analyses/shared_data/shn_buffered_50_ft_shn_dissolved_by_ct_district_route.parquet'"
      ]
     },
     "execution_count": 17,
     "metadata": {},
     "output_type": "execute_result"
    }
   ],
   "source": [
    "HWY_FILE\n",
    "# gs://calitp-analytics-data/data-analyses/shared_data/shn_buffered_50_ft_shn_dissolved_by_ct_district_route.parquet"
   ]
  },
  {
   "cell_type": "code",
   "execution_count": 18,
   "id": "3b05bf81-cac4-4817-a1c4-00670c0ae5c8",
   "metadata": {
    "tags": []
   },
   "outputs": [],
   "source": [
    "def routes_shn_intersection(\n",
    "    routes_gdf: gpd.GeoDataFrame, buffer_amount: int\n",
    ") -> gpd.GeoDataFrame:\n",
    "    \"\"\"\n",
    "    Overlay the most recent transit routes with a buffered version\n",
    "    of the SHN\n",
    "    \"\"\"\n",
    "    GCS_FILE_PATH = \"gs://calitp-analytics-data/data-analyses/shared_data/\"\n",
    "\n",
    "    # Read in buffered shn here or re buffer if we don't have it available.\n",
    "    HWY_FILE = f\"{GCS_FILE_PATH}shn_buffered_{buffer_amount}_ft_shn_dissolved_by_ct_district_route.parquet\"\n",
    "\n",
    "    if fs.exists(HWY_FILE):\n",
    "        shn_routes_gdf = gpd.read_parquet(\n",
    "            HWY_FILE, storage_options={\"token\": credentials.token}\n",
    "        )\n",
    "    else:\n",
    "        shn_routes_gdf = shared_data.buffer_shn(buffer_amount)\n",
    "\n",
    "    # Process the most recent transit route geographies and ensure the\n",
    "    # CRS matches the SHN routes' GDF so the overlay doesn't go wonky.\n",
    "    routes_gdf = routes_gdf.to_crs(shn_routes_gdf.crs)\n",
    "\n",
    "    # Overlay transit routes with the SHN geographies.\n",
    "    gdf = gpd.overlay(\n",
    "        routes_gdf, shn_routes_gdf, how=\"intersection\", keep_geom_type=True\n",
    "    )\n",
    "\n",
    "    # Calcuate the percent of the transit route that runs on a highway, round it up and\n",
    "    # multiply it by 100\n",
    "    gdf = gdf.assign(\n",
    "        pct_route_on_hwy=(gdf.geometry.length / gdf.route_length_feet).round(3) * 100,\n",
    "    )\n",
    "    # Subset\n",
    "    gdf2 = gdf[\n",
    "        [\n",
    "            \"name\",\n",
    "            \"pct_route_on_hwy\",\n",
    "            \"route_id\",\n",
    "            \"shape_id\",  # maybe comment out later\n",
    "            \"district\",\n",
    "            \"shn_route\",\n",
    "        ]\n",
    "    ]\n",
    "\n",
    "    # Clean up\n",
    "    gdf2.district = gdf2.district.fillna(0).astype(int)\n",
    "\n",
    "    gdf2 = gdf2.rename(\n",
    "        columns={\n",
    "            \"pct_route_on_hwy\": \"pct_route_on_hwy_across_districts\",\n",
    "            \"district\": \"shn_districts\",\n",
    "        }\n",
    "    )\n",
    "\n",
    "    # Delete duplicates\n",
    "    gdf2 = gdf2.drop_duplicates().reset_index()\n",
    "    gdf3 = gdf2.drop_duplicates(\n",
    "        subset=[\"name\", \"route_id\", \"shape_id\", \"shn_route\", \"shn_districts\"]\n",
    "    )\n",
    "    return gdf3"
   ]
  },
  {
   "cell_type": "code",
   "execution_count": 19,
   "id": "d9693642-cd1c-45d7-91f7-4e9029443027",
   "metadata": {
    "tags": []
   },
   "outputs": [],
   "source": [
    "def group_route_district(df: pd.DataFrame) -> pd.DataFrame:\n",
    "    \"\"\"\n",
    "    Aggregate by adding all the districts and SHN to a single row, rather than\n",
    "    multiple and sum up the total % of SHN a transit route intersects with.\n",
    "\n",
    "    df: the dataframe you want to aggregate\n",
    "    pct_route_on_hwy_agg: whether you want to find the max, min, sum, etc on the column\n",
    "    \"pct_route_on_hwy_across_districts\"\n",
    "    \"\"\"\n",
    "\n",
    "    agg1 = (\n",
    "        df.groupby(\n",
    "            [\"name\", \"route_id\", \"shape_id\"],  # maybe comment out later\n",
    "            as_index=False,\n",
    "        )[[\"shn_route\", \"shn_districts\", \"pct_route_on_hwy_across_districts\"]]\n",
    "        .agg(\n",
    "            {\n",
    "                \"shn_route\": lambda x: \", \".join(set(x.astype(str))),\n",
    "                \"shn_districts\": lambda x: \", \".join(set(x.astype(str))),\n",
    "                \"pct_route_on_hwy_across_districts\": \"sum\",\n",
    "            }\n",
    "        )\n",
    "        .reset_index(drop=True)\n",
    "    )\n",
    "\n",
    "    # Clean up\n",
    "    agg1.pct_route_on_hwy_across_districts = (\n",
    "        agg1.pct_route_on_hwy_across_districts.astype(float).round(2)\n",
    "    )\n",
    "\n",
    "    return agg1"
   ]
  },
  {
   "cell_type": "code",
   "execution_count": 20,
   "id": "55e55371-d6f1-4525-a4b7-f31fde4e8acb",
   "metadata": {
    "tags": []
   },
   "outputs": [
    {
     "name": "stderr",
     "output_type": "stream",
     "text": [
      "/tmp/ipykernel_1045/2771161184.py:47: SettingWithCopyWarning: \n",
      "A value is trying to be set on a copy of a slice from a DataFrame.\n",
      "Try using .loc[row_indexer,col_indexer] = value instead\n",
      "\n",
      "See the caveats in the documentation: https://pandas.pydata.org/pandas-docs/stable/user_guide/indexing.html#returning-a-view-versus-a-copy\n",
      "  gdf2.district = gdf2.district.fillna(0).astype(int)\n"
     ]
    }
   ],
   "source": [
    "shn_df1 = routes_shn_intersection(published_routes, SHN_HWY_BUFFER_FEET)"
   ]
  },
  {
   "cell_type": "code",
   "execution_count": 21,
   "id": "c058c1b2-c2ae-4948-a125-e61dc6bc38ef",
   "metadata": {
    "tags": []
   },
   "outputs": [
    {
     "data": {
      "text/plain": [
       "21709"
      ]
     },
     "execution_count": 21,
     "metadata": {},
     "output_type": "execute_result"
    }
   ],
   "source": [
    "len(shn_df1)"
   ]
  },
  {
   "cell_type": "code",
   "execution_count": 22,
   "id": "00ddee15-85ef-489b-a894-f8bf179e95a1",
   "metadata": {
    "tags": []
   },
   "outputs": [
    {
     "data": {
      "text/plain": [
       "16008"
      ]
     },
     "execution_count": 22,
     "metadata": {},
     "output_type": "execute_result"
    }
   ],
   "source": [
    "len(published_routes)"
   ]
  },
  {
   "cell_type": "code",
   "execution_count": 23,
   "id": "acae03e6-3275-4a55-b2a3-b421072720ab",
   "metadata": {
    "tags": []
   },
   "outputs": [
    {
     "data": {
      "text/plain": [
       "count   21472.00\n",
       "mean        6.41\n",
       "std        15.67\n",
       "min         0.00\n",
       "25%         0.10\n",
       "50%         0.30\n",
       "75%         2.30\n",
       "max        99.20\n",
       "Name: pct_route_on_hwy_across_districts, dtype: float64"
      ]
     },
     "execution_count": 23,
     "metadata": {},
     "output_type": "execute_result"
    }
   ],
   "source": [
    "shn_df1.pct_route_on_hwy_across_districts.describe()"
   ]
  },
  {
   "cell_type": "code",
   "execution_count": 24,
   "id": "e881c041-86c0-43d8-a8bd-e2540c34ba8a",
   "metadata": {
    "tags": []
   },
   "outputs": [
    {
     "data": {
      "text/plain": [
       "21709"
      ]
     },
     "execution_count": 24,
     "metadata": {},
     "output_type": "execute_result"
    }
   ],
   "source": [
    "len(shn_df1)"
   ]
  },
  {
   "cell_type": "code",
   "execution_count": 25,
   "id": "58a84353-6950-4617-8c10-8b99dd838086",
   "metadata": {
    "tags": []
   },
   "outputs": [
    {
     "data": {
      "text/plain": [
       "16008"
      ]
     },
     "execution_count": 25,
     "metadata": {},
     "output_type": "execute_result"
    }
   ],
   "source": [
    "len(published_routes)"
   ]
  },
  {
   "cell_type": "markdown",
   "id": "bf2ccfda-e009-4309-9ee2-c2706690bd0d",
   "metadata": {},
   "source": [
    "## Route Typologies"
   ]
  },
  {
   "cell_type": "code",
   "execution_count": 26,
   "id": "e44c6c11-c6da-418d-b8e2-bdb1db60cead",
   "metadata": {
    "tags": []
   },
   "outputs": [],
   "source": [
    "def add_route_typologies(gdf: gpd.GeoDataFrame) -> gpd.GeoDataFrame:\n",
    "    \"\"\"\n",
    "    Concatenate the years available for\n",
    "    route typologies on the operator-route_id\n",
    "    grain. Join this dataframe with the gdf\n",
    "    created by patch_previous_dates.\n",
    "    \"\"\"\n",
    "    ROUTE_TYPOLOGIES_FILE = GTFS_DATA_DICT.schedule_tables.route_typologies\n",
    "\n",
    "    route_typology_paths = [\n",
    "        f\"{SCHED_GCS}{ROUTE_TYPOLOGIES_FILE}\" for year in rt_dates.years_available\n",
    "    ]\n",
    "    route_typology_df = dask_utils.get_ddf(\n",
    "        route_typology_paths,\n",
    "        rt_dates.years_available,\n",
    "        data_type=\"df\",\n",
    "        get_pandas=True,\n",
    "        columns=[\n",
    "            \"name\",\n",
    "            \"route_id\",\n",
    "            \"is_express\",\n",
    "            \"is_ferry\",\n",
    "            \"is_rail\",\n",
    "            \"is_coverage\",\n",
    "            \"is_local\",\n",
    "            \"is_downtown_local\",\n",
    "            \"is_rapid\",\n",
    "        ],\n",
    "        add_date=False,\n",
    "        add_year=True,\n",
    "    )\n",
    "\n",
    "    # Drop duplicates of operator-route_id to keep only the\n",
    "    # row with the most current year.\n",
    "    route_typology_df2 = route_typology_df.sort_values(\n",
    "        by=[\"name\", \"route_id\", \"year\"], ascending=[True, True, False]\n",
    "    ).drop_duplicates(\n",
    "        subset=[\n",
    "            \"name\",\n",
    "            \"route_id\",\n",
    "        ]\n",
    "    )\n",
    "\n",
    "    m1 = pd.merge(\n",
    "        gdf,\n",
    "        route_typology_df2,\n",
    "        on=[\"name\", \"route_id\"],\n",
    "        how=\"left\",\n",
    "    )\n",
    "    return m1"
   ]
  },
  {
   "cell_type": "code",
   "execution_count": 27,
   "id": "7c5dfd53-1862-4f6c-bc3d-941720938108",
   "metadata": {},
   "outputs": [
    {
     "name": "stderr",
     "output_type": "stream",
     "text": [
      "/tmp/ipykernel_1045/2771161184.py:47: SettingWithCopyWarning: \n",
      "A value is trying to be set on a copy of a slice from a DataFrame.\n",
      "Try using .loc[row_indexer,col_indexer] = value instead\n",
      "\n",
      "See the caveats in the documentation: https://pandas.pydata.org/pandas-docs/stable/user_guide/indexing.html#returning-a-view-versus-a-copy\n",
      "  gdf2.district = gdf2.district.fillna(0).astype(int)\n"
     ]
    }
   ],
   "source": [
    "shn_df = published_routes.pipe(add_shn_information, SHN_HWY_BUFFER_FEET)"
   ]
  },
  {
   "cell_type": "code",
   "execution_count": 28,
   "id": "7f0b0dfa-8e02-492e-baf8-6549405d2bc8",
   "metadata": {
    "tags": []
   },
   "outputs": [
    {
     "data": {
      "text/plain": [
       "(16008, 17)"
      ]
     },
     "execution_count": 28,
     "metadata": {},
     "output_type": "execute_result"
    }
   ],
   "source": [
    "shn_df.shape"
   ]
  },
  {
   "cell_type": "code",
   "execution_count": 29,
   "id": "bee3f287-a7da-44ca-813d-74730ec4d5f9",
   "metadata": {
    "tags": []
   },
   "outputs": [
    {
     "data": {
      "text/plain": [
       "(16008, 13)"
      ]
     },
     "execution_count": 29,
     "metadata": {},
     "output_type": "execute_result"
    }
   ],
   "source": [
    "published_routes.shape"
   ]
  },
  {
   "cell_type": "code",
   "execution_count": 30,
   "id": "4aa92603-e452-43b9-bc0c-762dffe44bc8",
   "metadata": {
    "tags": []
   },
   "outputs": [
    {
     "data": {
      "text/plain": [
       "16008"
      ]
     },
     "execution_count": 30,
     "metadata": {},
     "output_type": "execute_result"
    }
   ],
   "source": [
    "len(published_routes.drop_duplicates())"
   ]
  },
  {
   "cell_type": "code",
   "execution_count": 31,
   "id": "95eb8ad6-0289-41a5-af59-918a0f10aee1",
   "metadata": {},
   "outputs": [],
   "source": [
    "route_types = shn_df.pipe(add_route_typologies)"
   ]
  },
  {
   "cell_type": "code",
   "execution_count": 32,
   "id": "91654b7a-21bb-4989-b24c-69451190a0d3",
   "metadata": {
    "tags": []
   },
   "outputs": [
    {
     "data": {
      "text/plain": [
       "(16008, 25)"
      ]
     },
     "execution_count": 32,
     "metadata": {},
     "output_type": "execute_result"
    }
   ],
   "source": [
    "route_types.shape"
   ]
  },
  {
   "cell_type": "markdown",
   "id": "6b09a121-ef4b-43df-87e0-b499d2814d98",
   "metadata": {},
   "source": [
    "## `shared_utils/portfolio_utils`"
   ]
  },
  {
   "cell_type": "code",
   "execution_count": 33,
   "id": "77b62e30-1590-4d49-b61e-f3bb7734f5c6",
   "metadata": {
    "tags": []
   },
   "outputs": [],
   "source": [
    "def load_portfolio_names() -> pd.DataFrame:\n",
    "    with db_engine.connect() as connection:\n",
    "        query = f\"\"\"\n",
    "            SELECT\n",
    "            name,\n",
    "            analysis_name,\n",
    "            FROM\n",
    "            cal-itp-data-infra.mart_transit_database.dim_gtfs_datasets\n",
    "            WHERE _is_current = TRUE \n",
    "            \n",
    "            \"\"\"\n",
    "        df = pd.read_sql(query, connection)\n",
    "    df = df.rename(\n",
    "        columns={\n",
    "            \"key\": \"schedule_gtfs_dataset_key\",\n",
    "            \"analysis_name\": \"portfolio_organization_name\",\n",
    "        }\n",
    "    )\n",
    "    return df"
   ]
  },
  {
   "cell_type": "code",
   "execution_count": 34,
   "id": "ca4c6957-f280-4501-87e2-164c92a80c30",
   "metadata": {
    "tags": []
   },
   "outputs": [],
   "source": [
    "test_portfolio = load_portfolio_names()"
   ]
  },
  {
   "cell_type": "code",
   "execution_count": 35,
   "id": "c0634c7c-a9d1-408d-8658-df5c24f86d4e",
   "metadata": {
    "tags": []
   },
   "outputs": [
    {
     "data": {
      "text/plain": [
       "San Luis Obispo Regional Transit Authority    3\n",
       "City and County of San Francisco              3\n",
       "City of Santa Monica                          2\n",
       "City of Laguna Beach                          2\n",
       "Lassen Transit Service Agency                 2\n",
       "San Joaquin Regional Transit District         2\n",
       "Stanislaus Regional Transit Authority         2\n",
       "Placer County                                 2\n",
       "Western Contra Costa Transit Authority        2\n",
       "City of Turlock                               2\n",
       "Name: portfolio_organization_name, dtype: int64"
      ]
     },
     "execution_count": 35,
     "metadata": {},
     "output_type": "execute_result"
    }
   ],
   "source": [
    "test_portfolio.portfolio_organization_name.value_counts().head(10)"
   ]
  },
  {
   "cell_type": "code",
   "execution_count": 36,
   "id": "60d2ed3a-84bd-4983-9ae9-947ee5ba5b8b",
   "metadata": {
    "scrolled": true,
    "tags": []
   },
   "outputs": [
    {
     "data": {
      "text/html": [
       "<div>\n",
       "<style scoped>\n",
       "    .dataframe tbody tr th:only-of-type {\n",
       "        vertical-align: middle;\n",
       "    }\n",
       "\n",
       "    .dataframe tbody tr th {\n",
       "        vertical-align: top;\n",
       "    }\n",
       "\n",
       "    .dataframe thead th {\n",
       "        text-align: right;\n",
       "    }\n",
       "</style>\n",
       "<table border=\"1\" class=\"dataframe\">\n",
       "  <thead>\n",
       "    <tr style=\"text-align: right;\">\n",
       "      <th></th>\n",
       "      <th>name</th>\n",
       "      <th>portfolio_organization_name</th>\n",
       "    </tr>\n",
       "  </thead>\n",
       "  <tbody>\n",
       "    <tr>\n",
       "      <th>157</th>\n",
       "      <td>Placer Flex</td>\n",
       "      <td>Placer County</td>\n",
       "    </tr>\n",
       "    <tr>\n",
       "      <th>669</th>\n",
       "      <td>Placer Schedule</td>\n",
       "      <td>Placer County</td>\n",
       "    </tr>\n",
       "  </tbody>\n",
       "</table>\n",
       "</div>"
      ],
      "text/plain": [
       "                name portfolio_organization_name\n",
       "157      Placer Flex               Placer County\n",
       "669  Placer Schedule               Placer County"
      ]
     },
     "execution_count": 36,
     "metadata": {},
     "output_type": "execute_result"
    }
   ],
   "source": [
    "test_portfolio.loc[test_portfolio.portfolio_organization_name == \"Placer County\"]"
   ]
  },
  {
   "cell_type": "code",
   "execution_count": 37,
   "id": "c7263c9b-85cf-4fdb-adfd-8107e799dd5c",
   "metadata": {
    "tags": []
   },
   "outputs": [
    {
     "data": {
      "text/html": [
       "<div>\n",
       "<style scoped>\n",
       "    .dataframe tbody tr th:only-of-type {\n",
       "        vertical-align: middle;\n",
       "    }\n",
       "\n",
       "    .dataframe tbody tr th {\n",
       "        vertical-align: top;\n",
       "    }\n",
       "\n",
       "    .dataframe thead th {\n",
       "        text-align: right;\n",
       "    }\n",
       "</style>\n",
       "<table border=\"1\" class=\"dataframe\">\n",
       "  <thead>\n",
       "    <tr style=\"text-align: right;\">\n",
       "      <th></th>\n",
       "      <th>name</th>\n",
       "      <th>portfolio_organization_name</th>\n",
       "    </tr>\n",
       "  </thead>\n",
       "  <tbody>\n",
       "    <tr>\n",
       "      <th>3</th>\n",
       "      <td>SLO Peak Transit Schedule</td>\n",
       "      <td>San Luis Obispo Regional Transit Authority</td>\n",
       "    </tr>\n",
       "    <tr>\n",
       "      <th>693</th>\n",
       "      <td>SLORTA Schedule</td>\n",
       "      <td>San Luis Obispo Regional Transit Authority</td>\n",
       "    </tr>\n",
       "    <tr>\n",
       "      <th>720</th>\n",
       "      <td>SLO Schedule</td>\n",
       "      <td>San Luis Obispo Regional Transit Authority</td>\n",
       "    </tr>\n",
       "  </tbody>\n",
       "</table>\n",
       "</div>"
      ],
      "text/plain": [
       "                          name                 portfolio_organization_name\n",
       "3    SLO Peak Transit Schedule  San Luis Obispo Regional Transit Authority\n",
       "693            SLORTA Schedule  San Luis Obispo Regional Transit Authority\n",
       "720               SLO Schedule  San Luis Obispo Regional Transit Authority"
      ]
     },
     "execution_count": 37,
     "metadata": {},
     "output_type": "execute_result"
    }
   ],
   "source": [
    "test_portfolio.loc[\n",
    "    test_portfolio.portfolio_organization_name\n",
    "    == \"San Luis Obispo Regional Transit Authority\"\n",
    "]"
   ]
  },
  {
   "cell_type": "code",
   "execution_count": 38,
   "id": "49f83824-60e0-4814-809f-96f9bb6a4784",
   "metadata": {
    "tags": []
   },
   "outputs": [
    {
     "data": {
      "text/plain": [
       "592"
      ]
     },
     "execution_count": 38,
     "metadata": {},
     "output_type": "execute_result"
    }
   ],
   "source": [
    "len(test_portfolio.loc[test_portfolio.portfolio_organization_name.isna()])"
   ]
  },
  {
   "cell_type": "code",
   "execution_count": 39,
   "id": "53deaf47-521f-45c5-a74c-257f3f5230a0",
   "metadata": {
    "tags": []
   },
   "outputs": [],
   "source": [
    "not_available_df = test_portfolio.loc[test_portfolio.portfolio_organization_name.isna()]"
   ]
  },
  {
   "cell_type": "code",
   "execution_count": 40,
   "id": "8172ed72-2942-4c05-aa08-7aefddebb3d0",
   "metadata": {
    "scrolled": true,
    "tags": []
   },
   "outputs": [
    {
     "data": {
      "text/html": [
       "<div>\n",
       "<style scoped>\n",
       "    .dataframe tbody tr th:only-of-type {\n",
       "        vertical-align: middle;\n",
       "    }\n",
       "\n",
       "    .dataframe tbody tr th {\n",
       "        vertical-align: top;\n",
       "    }\n",
       "\n",
       "    .dataframe thead th {\n",
       "        text-align: right;\n",
       "    }\n",
       "</style>\n",
       "<table border=\"1\" class=\"dataframe\">\n",
       "  <thead>\n",
       "    <tr style=\"text-align: right;\">\n",
       "      <th></th>\n",
       "      <th>name</th>\n",
       "      <th>portfolio_organization_name</th>\n",
       "    </tr>\n",
       "  </thead>\n",
       "  <tbody>\n",
       "    <tr>\n",
       "      <th>1</th>\n",
       "      <td>SLO Trip Updates</td>\n",
       "      <td>None</td>\n",
       "    </tr>\n",
       "    <tr>\n",
       "      <th>2</th>\n",
       "      <td>SLO Vehicle Positions</td>\n",
       "      <td>None</td>\n",
       "    </tr>\n",
       "    <tr>\n",
       "      <th>4</th>\n",
       "      <td>Fresno County Schedule Historic</td>\n",
       "      <td>None</td>\n",
       "    </tr>\n",
       "    <tr>\n",
       "      <th>5</th>\n",
       "      <td>Victor Valley Schedule Historic</td>\n",
       "      <td>None</td>\n",
       "    </tr>\n",
       "    <tr>\n",
       "      <th>7</th>\n",
       "      <td>SLORTA Alerts</td>\n",
       "      <td>None</td>\n",
       "    </tr>\n",
       "  </tbody>\n",
       "</table>\n",
       "</div>"
      ],
      "text/plain": [
       "                              name portfolio_organization_name\n",
       "1                 SLO Trip Updates                        None\n",
       "2            SLO Vehicle Positions                        None\n",
       "4  Fresno County Schedule Historic                        None\n",
       "5  Victor Valley Schedule Historic                        None\n",
       "7                    SLORTA Alerts                        None"
      ]
     },
     "execution_count": 40,
     "metadata": {},
     "output_type": "execute_result"
    }
   ],
   "source": [
    "not_available_df.head()"
   ]
  },
  {
   "cell_type": "code",
   "execution_count": 41,
   "id": "23e13b00-97a5-40b5-8542-a01e30c4fa10",
   "metadata": {
    "tags": []
   },
   "outputs": [],
   "source": [
    "def standardize_portfolio_organization_names(df: pd.DataFrame) -> pd.DataFrame:\n",
    "    portfolio_name_df = load_portfolio_names()\n",
    "    # Map the preferred organization name using schedule_gtfs_dataset_name.\n",
    "    m1 = pd.merge(\n",
    "        df,\n",
    "        portfolio_name_df,\n",
    "        on=\"name\",\n",
    "        how=\"left\",\n",
    "    )\n",
    "\n",
    "    # drop the ones that were removed with duplicated feed info\n",
    "    m1 = m1.dropna(subset=\"portfolio_organization_name\")\n",
    "\n",
    "    return m1"
   ]
  },
  {
   "cell_type": "markdown",
   "id": "d5b73e4e-9e66-4f07-a232-71d1fda3dafb",
   "metadata": {},
   "source": [
    "## `shared_utils/portfolio_utils`"
   ]
  },
  {
   "cell_type": "code",
   "execution_count": 42,
   "id": "c8634b95-4949-4f79-9ef8-becd13bc9f98",
   "metadata": {
    "tags": []
   },
   "outputs": [],
   "source": [
    "CROSSWALK_FILE = GTFS_DATA_DICT.schedule_tables.gtfs_key_crosswalk\n",
    "\n",
    "public_feeds = gtfs_utils_v2.filter_to_public_schedule_gtfs_dataset_keys()\n",
    "\n",
    "# Get the crosswalk file\n",
    "crosswalk = pd.read_parquet(\n",
    "    f\"{SCHED_GCS}{CROSSWALK_FILE}_{date}.parquet\",\n",
    "    columns=[\n",
    "        \"schedule_gtfs_dataset_key\",\n",
    "        \"name\",\n",
    "        \"base64_url\",\n",
    "        \"caltrans_district\",\n",
    "    ],\n",
    "    filters=[[(\"schedule_gtfs_dataset_key\", \"in\", public_feeds)]],\n",
    ")"
   ]
  },
  {
   "cell_type": "code",
   "execution_count": 43,
   "id": "d53c92d9-b341-4aa1-bfd3-bc82fc366ac8",
   "metadata": {
    "tags": []
   },
   "outputs": [],
   "source": [
    "crosswalk = crosswalk.assign(\n",
    "    caltrans_district=crosswalk.caltrans_district.map(\n",
    "        portfolio_utils.CALTRANS_DISTRICT_DICT\n",
    "    )\n",
    ")"
   ]
  },
  {
   "cell_type": "code",
   "execution_count": 44,
   "id": "01d9db0c-9ada-4da7-8bce-4598dba9247c",
   "metadata": {
    "tags": []
   },
   "outputs": [],
   "source": [
    "crosswalk2 = standardize_portfolio_organization_names(crosswalk)"
   ]
  },
  {
   "cell_type": "code",
   "execution_count": 45,
   "id": "08017967-e2a1-4adc-9865-205a423f1c09",
   "metadata": {
    "tags": []
   },
   "outputs": [
    {
     "data": {
      "text/html": [
       "<div>\n",
       "<style scoped>\n",
       "    .dataframe tbody tr th:only-of-type {\n",
       "        vertical-align: middle;\n",
       "    }\n",
       "\n",
       "    .dataframe tbody tr th {\n",
       "        vertical-align: top;\n",
       "    }\n",
       "\n",
       "    .dataframe thead th {\n",
       "        text-align: right;\n",
       "    }\n",
       "</style>\n",
       "<table border=\"1\" class=\"dataframe\">\n",
       "  <thead>\n",
       "    <tr style=\"text-align: right;\">\n",
       "      <th></th>\n",
       "      <th>schedule_gtfs_dataset_key</th>\n",
       "      <th>name</th>\n",
       "      <th>base64_url</th>\n",
       "      <th>caltrans_district</th>\n",
       "      <th>portfolio_organization_name</th>\n",
       "    </tr>\n",
       "  </thead>\n",
       "  <tbody>\n",
       "    <tr>\n",
       "      <th>0</th>\n",
       "      <td>ff1bc5dde661d62c877165421e9ca257</td>\n",
       "      <td>Santa Ynez Mecatran Schedule</td>\n",
       "      <td>aHR0cDovL2FwcC5tZWNhdHJhbi5jb20vdXJiL3dzL2ZlZWQvYzJsMFpUMXplWFowTzJOc2FXVnVkRDF6Wld4bU8yVjRjR2x5WlQwN2RIbHdaVDFuZEdaek8ydGxlVDAwTWpjd056UTBaVFk0TlRBek9UTXlNREl4TURkak56STBNRFJrTXpZeU5UTTRNekkwWXpJMA==</td>\n",
       "      <td>05 - San Luis Obispo / Santa Barbara</td>\n",
       "      <td>City of Solvang</td>\n",
       "    </tr>\n",
       "    <tr>\n",
       "      <th>1</th>\n",
       "      <td>f4c3ea214214ee0d96f7646b3e9d69dc</td>\n",
       "      <td>SLO Peak Transit Schedule</td>\n",
       "      <td>aHR0cDovL2RhdGEucGVha3RyYW5zaXQuY29tL3N0YXRpY2d0ZnMvMS9ndGZzLnppcA==</td>\n",
       "      <td>05 - San Luis Obispo / Santa Barbara</td>\n",
       "      <td>San Luis Obispo Regional Transit Authority</td>\n",
       "    </tr>\n",
       "    <tr>\n",
       "      <th>2</th>\n",
       "      <td>d3ec92741001094ed14a27847c72e9d0</td>\n",
       "      <td>GET Schedule</td>\n",
       "      <td>aHR0cDovL2V0YS5nZXRidXMub3JnL3J0dC9wdWJsaWMvdXRpbGl0eS9ndGZzLmFzcHg=</td>\n",
       "      <td>06 - Fresno / Bakersfield</td>\n",
       "      <td>Golden Empire Transit District</td>\n",
       "    </tr>\n",
       "    <tr>\n",
       "      <th>3</th>\n",
       "      <td>a37760dde6b9fdcb76b82e57afab7274</td>\n",
       "      <td>Flixbus Schedule</td>\n",
       "      <td>aHR0cDovL2d0ZnMuZ2lzLmZsaXgudGVjaC9ndGZzX2dlbmVyaWNfdXMuemlw</td>\n",
       "      <td>07 - Los Angeles / Ventura</td>\n",
       "      <td>FlixBus and Greyhound</td>\n",
       "    </tr>\n",
       "    <tr>\n",
       "      <th>4</th>\n",
       "      <td>a37760dde6b9fdcb76b82e57afab7274</td>\n",
       "      <td>Flixbus Schedule</td>\n",
       "      <td>aHR0cDovL2d0ZnMuZ2lzLmZsaXgudGVjaC9ndGZzX2dlbmVyaWNfdXMuemlw</td>\n",
       "      <td>07 - Los Angeles / Ventura</td>\n",
       "      <td>FlixBus and Greyhound</td>\n",
       "    </tr>\n",
       "  </tbody>\n",
       "</table>\n",
       "</div>"
      ],
      "text/plain": [
       "          schedule_gtfs_dataset_key                          name  \\\n",
       "0  ff1bc5dde661d62c877165421e9ca257  Santa Ynez Mecatran Schedule   \n",
       "1  f4c3ea214214ee0d96f7646b3e9d69dc     SLO Peak Transit Schedule   \n",
       "2  d3ec92741001094ed14a27847c72e9d0                  GET Schedule   \n",
       "3  a37760dde6b9fdcb76b82e57afab7274              Flixbus Schedule   \n",
       "4  a37760dde6b9fdcb76b82e57afab7274              Flixbus Schedule   \n",
       "\n",
       "                                                                                                                                                                                                 base64_url  \\\n",
       "0  aHR0cDovL2FwcC5tZWNhdHJhbi5jb20vdXJiL3dzL2ZlZWQvYzJsMFpUMXplWFowTzJOc2FXVnVkRDF6Wld4bU8yVjRjR2x5WlQwN2RIbHdaVDFuZEdaek8ydGxlVDAwTWpjd056UTBaVFk0TlRBek9UTXlNREl4TURkak56STBNRFJrTXpZeU5UTTRNekkwWXpJMA==   \n",
       "1                                                                                                                                      aHR0cDovL2RhdGEucGVha3RyYW5zaXQuY29tL3N0YXRpY2d0ZnMvMS9ndGZzLnppcA==   \n",
       "2                                                                                                                                      aHR0cDovL2V0YS5nZXRidXMub3JnL3J0dC9wdWJsaWMvdXRpbGl0eS9ndGZzLmFzcHg=   \n",
       "3                                                                                                                                              aHR0cDovL2d0ZnMuZ2lzLmZsaXgudGVjaC9ndGZzX2dlbmVyaWNfdXMuemlw   \n",
       "4                                                                                                                                              aHR0cDovL2d0ZnMuZ2lzLmZsaXgudGVjaC9ndGZzX2dlbmVyaWNfdXMuemlw   \n",
       "\n",
       "                      caltrans_district  \\\n",
       "0  05 - San Luis Obispo / Santa Barbara   \n",
       "1  05 - San Luis Obispo / Santa Barbara   \n",
       "2             06 - Fresno / Bakersfield   \n",
       "3            07 - Los Angeles / Ventura   \n",
       "4            07 - Los Angeles / Ventura   \n",
       "\n",
       "                  portfolio_organization_name  \n",
       "0                             City of Solvang  \n",
       "1  San Luis Obispo Regional Transit Authority  \n",
       "2              Golden Empire Transit District  \n",
       "3                       FlixBus and Greyhound  \n",
       "4                       FlixBus and Greyhound  "
      ]
     },
     "execution_count": 45,
     "metadata": {},
     "output_type": "execute_result"
    }
   ],
   "source": [
    "crosswalk2.head()"
   ]
  },
  {
   "cell_type": "code",
   "execution_count": 46,
   "id": "1311d0b1-68f8-445a-91cf-2c5916a4a96a",
   "metadata": {
    "tags": []
   },
   "outputs": [
    {
     "data": {
      "text/plain": [
       "(196, 211)"
      ]
     },
     "execution_count": 46,
     "metadata": {},
     "output_type": "execute_result"
    }
   ],
   "source": [
    "len(crosswalk2), len(crosswalk)"
   ]
  },
  {
   "cell_type": "code",
   "execution_count": 47,
   "id": "4dc326a3-4910-467c-ba76-afd32b60b8b8",
   "metadata": {
    "tags": []
   },
   "outputs": [],
   "source": [
    "crosswalk3 = crosswalk2.drop_duplicates(\n",
    "    subset=[\"schedule_gtfs_dataset_key\", \"name\", \"portfolio_organization_name\"]\n",
    ")"
   ]
  },
  {
   "cell_type": "code",
   "execution_count": 48,
   "id": "bcff960b-323f-42ea-b838-81ec0d360bad",
   "metadata": {
    "tags": []
   },
   "outputs": [
    {
     "data": {
      "text/plain": [
       "171"
      ]
     },
     "execution_count": 48,
     "metadata": {},
     "output_type": "execute_result"
    }
   ],
   "source": [
    "len(crosswalk3)"
   ]
  },
  {
   "cell_type": "code",
   "execution_count": 49,
   "id": "988566db-e97c-4d80-9018-a07739e1e5a9",
   "metadata": {
    "tags": []
   },
   "outputs": [],
   "source": [
    "last_crosswalk_names = list(crosswalk3.portfolio_organization_name.unique())"
   ]
  },
  {
   "cell_type": "code",
   "execution_count": 50,
   "id": "abff9d10-44b5-4b0b-bb0c-0a2218ff8b39",
   "metadata": {
    "tags": []
   },
   "outputs": [],
   "source": [
    "first_crosswalk_names = list(crosswalk2.portfolio_organization_name.unique())"
   ]
  },
  {
   "cell_type": "code",
   "execution_count": 51,
   "id": "2f072093-1bd4-4690-bf78-8e7b78a3b277",
   "metadata": {
    "tags": []
   },
   "outputs": [
    {
     "data": {
      "text/plain": [
       "set()"
      ]
     },
     "execution_count": 51,
     "metadata": {},
     "output_type": "execute_result"
    }
   ],
   "source": [
    "set(last_crosswalk_names) - set(first_crosswalk_names)"
   ]
  },
  {
   "cell_type": "code",
   "execution_count": 52,
   "id": "ac469bb1-58b6-4186-9db8-c32d818d65ad",
   "metadata": {
    "scrolled": true,
    "tags": []
   },
   "outputs": [
    {
     "data": {
      "text/html": [
       "<div>\n",
       "<style scoped>\n",
       "    .dataframe tbody tr th:only-of-type {\n",
       "        vertical-align: middle;\n",
       "    }\n",
       "\n",
       "    .dataframe tbody tr th {\n",
       "        vertical-align: top;\n",
       "    }\n",
       "\n",
       "    .dataframe thead th {\n",
       "        text-align: right;\n",
       "    }\n",
       "</style>\n",
       "<table border=\"1\" class=\"dataframe\">\n",
       "  <thead>\n",
       "    <tr style=\"text-align: right;\">\n",
       "      <th></th>\n",
       "      <th>caltrans_district</th>\n",
       "      <th>portfolio_organization_name</th>\n",
       "    </tr>\n",
       "  </thead>\n",
       "  <tbody>\n",
       "    <tr>\n",
       "      <th>134</th>\n",
       "      <td>01 - Eureka</td>\n",
       "      <td>Lake Transit Authority</td>\n",
       "    </tr>\n",
       "    <tr>\n",
       "      <th>129</th>\n",
       "      <td>01 - Eureka</td>\n",
       "      <td>Humboldt Transit Authority</td>\n",
       "    </tr>\n",
       "    <tr>\n",
       "      <th>186</th>\n",
       "      <td>01 - Eureka</td>\n",
       "      <td>POINT</td>\n",
       "    </tr>\n",
       "    <tr>\n",
       "      <th>185</th>\n",
       "      <td>01 - Eureka</td>\n",
       "      <td>Curry Public Transit</td>\n",
       "    </tr>\n",
       "    <tr>\n",
       "      <th>168</th>\n",
       "      <td>01 - Eureka</td>\n",
       "      <td>Yurok Tribe</td>\n",
       "    </tr>\n",
       "  </tbody>\n",
       "</table>\n",
       "</div>"
      ],
      "text/plain": [
       "    caltrans_district portfolio_organization_name\n",
       "134       01 - Eureka      Lake Transit Authority\n",
       "129       01 - Eureka  Humboldt Transit Authority\n",
       "186       01 - Eureka                       POINT\n",
       "185       01 - Eureka        Curry Public Transit\n",
       "168       01 - Eureka                 Yurok Tribe"
      ]
     },
     "execution_count": 52,
     "metadata": {},
     "output_type": "execute_result"
    }
   ],
   "source": [
    "crosswalk2[[\"caltrans_district\", \"portfolio_organization_name\"]].sort_values(\n",
    "    by=[\"caltrans_district\"]\n",
    ").head()"
   ]
  },
  {
   "cell_type": "markdown",
   "id": "a36b677e-86ad-40fc-9fa2-4ef2b9711aae",
   "metadata": {},
   "source": [
    "## `open_data/open_data_utils`"
   ]
  },
  {
   "cell_type": "code",
   "execution_count": 53,
   "id": "cb288703-532b-493b-92ea-c92a819dadaf",
   "metadata": {
    "tags": []
   },
   "outputs": [],
   "source": [
    "def standardize_operator_info_for_exports(df: pd.DataFrame, date: str) -> pd.DataFrame:\n",
    "    \"\"\"\n",
    "    Use our crosswalk file created in gtfs_funnel\n",
    "    and add in the organization columns we want to\n",
    "    publish on.\n",
    "    \"\"\"\n",
    "\n",
    "    CROSSWALK_FILE = GTFS_DATA_DICT.schedule_tables.gtfs_key_crosswalk\n",
    "\n",
    "    public_feeds = gtfs_utils_v2.filter_to_public_schedule_gtfs_dataset_keys()\n",
    "\n",
    "    # Get the crosswalk file\n",
    "    crosswalk = pd.read_parquet(\n",
    "        f\"{SCHED_GCS}{CROSSWALK_FILE}_{date}.parquet\",\n",
    "        columns=[\n",
    "            \"schedule_gtfs_dataset_key\",\n",
    "            \"name\",\n",
    "            \"base64_url\",\n",
    "            \"caltrans_district\",\n",
    "        ],\n",
    "        filters=[[(\"schedule_gtfs_dataset_key\", \"in\", public_feeds)]],\n",
    "    )\n",
    "\n",
    "    # Add portfolio_organization_name\n",
    "    crosswalk = (\n",
    "        crosswalk.assign(\n",
    "            caltrans_district=crosswalk.caltrans_district.map(\n",
    "                portfolio_utils.CALTRANS_DISTRICT_DICT\n",
    "            )\n",
    "        )\n",
    "        .pipe(\n",
    "            standardize_portfolio_organization_names,\n",
    "        )\n",
    "        .drop_duplicates(\n",
    "            subset=[\"schedule_gtfs_dataset_key\", \"name\", \"portfolio_organization_name\"]\n",
    "        )\n",
    "    )\n",
    "\n",
    "    # Checked whether we need a left merge to keep stops outside of CA\n",
    "    # that may not have caltrans_district\n",
    "    # and inner merge is fine. All operators are assigned a caltrans_district\n",
    "    # so Amtrak / FlixBus stops have values populated\n",
    "\n",
    "    # Merge the crosswalk and the input DF\n",
    "    crosswalk_input_merged = pd.merge(\n",
    "        df,\n",
    "        crosswalk,\n",
    "        on=[\"schedule_gtfs_dataset_key\"],\n",
    "        suffixes=[\n",
    "            \"_original\",\n",
    "            None,\n",
    "        ],  # Keep the source record id from the crosswalk as the \"definitive\" version\n",
    "        how=\"inner\",\n",
    "    )\n",
    "\n",
    "    # Drop dups\n",
    "    crosswalk_input_merged = crosswalk_input_merged.drop_duplicates()\n",
    "    return crosswalk_input_merged"
   ]
  },
  {
   "cell_type": "code",
   "execution_count": 54,
   "id": "0500a013-139c-45fa-b72b-80c31c8d65b5",
   "metadata": {
    "tags": []
   },
   "outputs": [],
   "source": [
    "route_types2 = route_types.pipe(standardize_operator_info_for_exports, analysis_date)"
   ]
  },
  {
   "cell_type": "code",
   "execution_count": 55,
   "id": "885ffd1b-ac78-495e-8ca8-1e58f2648d19",
   "metadata": {
    "tags": []
   },
   "outputs": [
    {
     "data": {
      "text/plain": [
       "(14565, 16008)"
      ]
     },
     "execution_count": 55,
     "metadata": {},
     "output_type": "execute_result"
    }
   ],
   "source": [
    "len(route_types2), len(route_types)"
   ]
  },
  {
   "cell_type": "code",
   "execution_count": 56,
   "id": "ab657a7c-0d4a-43a1-b7fb-d2ccd4745343",
   "metadata": {
    "tags": []
   },
   "outputs": [
    {
     "data": {
      "text/plain": [
       "14565"
      ]
     },
     "execution_count": 56,
     "metadata": {},
     "output_type": "execute_result"
    }
   ],
   "source": [
    "len(route_types2.drop_duplicates())"
   ]
  },
  {
   "cell_type": "code",
   "execution_count": 57,
   "id": "79a9c66a-c884-467a-8f84-f9d4a4695b9b",
   "metadata": {
    "tags": []
   },
   "outputs": [
    {
     "data": {
      "text/plain": [
       "16008"
      ]
     },
     "execution_count": 57,
     "metadata": {},
     "output_type": "execute_result"
    }
   ],
   "source": [
    "len(route_types.drop_duplicates())"
   ]
  },
  {
   "cell_type": "code",
   "execution_count": 58,
   "id": "86fb63ac-2fa6-4114-8b47-80702979062b",
   "metadata": {
    "tags": []
   },
   "outputs": [],
   "source": [
    "def finalize_export_df(df: gpd.GeoDataFrame) -> gpd.GeoDataFrame:\n",
    "    \"\"\"\n",
    "    Suppress certain columns used in our internal modeling for export.\n",
    "    \"\"\"\n",
    "    # Change column order\n",
    "    route_cols = [\n",
    "        \"portfolio_organization_name\",\n",
    "        \"route_id\",\n",
    "        \"route_type\",\n",
    "        \"route_name_used\",\n",
    "        \"route_length_feet\",\n",
    "    ]\n",
    "    shape_cols = [\"shape_id\", \"n_trips\"]\n",
    "    agency_ids = [\"base64_url\"]\n",
    "    shn_cols = [\n",
    "        \"shn_route\",\n",
    "        \"on_shs\",\n",
    "        \"shn_districts\",\n",
    "        \"pct_route_on_hwy_across_districts\",\n",
    "    ]\n",
    "\n",
    "    route_typology = [\n",
    "        \"is_express\",\n",
    "        \"is_ferry\",\n",
    "        \"is_rail\",\n",
    "        \"is_coverage\",\n",
    "        \"is_local\",\n",
    "        \"is_downtown_local\",\n",
    "        \"is_rapid\",\n",
    "    ]\n",
    "    col_order = (\n",
    "        route_cols + shape_cols + agency_ids + shn_cols + route_typology + [\"geometry\"]\n",
    "    )\n",
    "    # col_order = route_cols + shape_cols + agency_ids + ['geometry']\n",
    "    df2 = (\n",
    "        df[col_order].reindex(columns=col_order)\n",
    "        # .rename(columns=open_data_utils.STANDARDIZED_COLUMNS_DICT)\n",
    "        .reset_index(drop=True)\n",
    "    )\n",
    "\n",
    "    # Drop duplicates\n",
    "    df2 = df2.drop_duplicates()\n",
    "    return df2"
   ]
  },
  {
   "cell_type": "code",
   "execution_count": 59,
   "id": "ea985c85-1671-4323-8b99-506b7a2fd11c",
   "metadata": {
    "tags": []
   },
   "outputs": [],
   "source": [
    "final = finalize_export_df(route_types2)"
   ]
  },
  {
   "cell_type": "code",
   "execution_count": 60,
   "id": "302d9f1d-9647-47f9-a2cf-2a20abff52c8",
   "metadata": {
    "tags": []
   },
   "outputs": [
    {
     "data": {
      "text/plain": [
       "count   8101.00\n",
       "mean      16.14\n",
       "std       27.13\n",
       "min        0.00\n",
       "25%        0.20\n",
       "50%        1.20\n",
       "75%       17.60\n",
       "max      100.00\n",
       "Name: pct_route_on_hwy_across_districts, dtype: float64"
      ]
     },
     "execution_count": 60,
     "metadata": {},
     "output_type": "execute_result"
    }
   ],
   "source": [
    "final.pct_route_on_hwy_across_districts.describe()"
   ]
  },
  {
   "cell_type": "code",
   "execution_count": 61,
   "id": "ef92b7b6-b88d-46bb-acf2-f96ed470222f",
   "metadata": {
    "tags": []
   },
   "outputs": [
    {
     "data": {
      "text/plain": [
       "8101"
      ]
     },
     "execution_count": 61,
     "metadata": {},
     "output_type": "execute_result"
    }
   ],
   "source": [
    "len(final)"
   ]
  },
  {
   "cell_type": "markdown",
   "id": "2929b1d3-f8e6-41dc-826d-334716964d3b",
   "metadata": {},
   "source": [
    "## Missing Routes"
   ]
  },
  {
   "cell_type": "code",
   "execution_count": 63,
   "id": "ef055cd9-5a83-49d3-8825-64c2be3f8fa3",
   "metadata": {
    "tags": []
   },
   "outputs": [
    {
     "data": {
      "text/html": [
       "<div>\n",
       "<style scoped>\n",
       "    .dataframe tbody tr th:only-of-type {\n",
       "        vertical-align: middle;\n",
       "    }\n",
       "\n",
       "    .dataframe tbody tr th {\n",
       "        vertical-align: top;\n",
       "    }\n",
       "\n",
       "    .dataframe thead th {\n",
       "        text-align: right;\n",
       "    }\n",
       "</style>\n",
       "<table border=\"1\" class=\"dataframe\">\n",
       "  <thead>\n",
       "    <tr style=\"text-align: right;\">\n",
       "      <th></th>\n",
       "      <th>portfolio_organization_name</th>\n",
       "      <th>route_id</th>\n",
       "      <th>route_type</th>\n",
       "      <th>route_name_used</th>\n",
       "      <th>route_length_feet</th>\n",
       "      <th>shape_id</th>\n",
       "      <th>n_trips</th>\n",
       "      <th>base64_url</th>\n",
       "      <th>shn_route</th>\n",
       "      <th>on_shs</th>\n",
       "      <th>shn_districts</th>\n",
       "      <th>pct_route_on_hwy_across_districts</th>\n",
       "      <th>is_express</th>\n",
       "      <th>is_ferry</th>\n",
       "      <th>is_rail</th>\n",
       "      <th>is_coverage</th>\n",
       "      <th>is_local</th>\n",
       "      <th>is_downtown_local</th>\n",
       "      <th>is_rapid</th>\n",
       "    </tr>\n",
       "  </thead>\n",
       "  <tbody>\n",
       "    <tr>\n",
       "      <th>6495</th>\n",
       "      <td>City and County of San Francisco</td>\n",
       "      <td>30</td>\n",
       "      <td>3</td>\n",
       "      <td>30</td>\n",
       "      <td>29642.90</td>\n",
       "      <td>3002</td>\n",
       "      <td>70</td>\n",
       "      <td>aHR0cHM6Ly9hcGkuNTExLm9yZy90cmFuc2l0L2RhdGFmZWVkcz9vcGVyYXRvcl9pZD1TRg==</td>\n",
       "      <td>80</td>\n",
       "      <td>1</td>\n",
       "      <td>4</td>\n",
       "      <td>0.70</td>\n",
       "      <td>0.00</td>\n",
       "      <td>0.00</td>\n",
       "      <td>0.00</td>\n",
       "      <td>0.00</td>\n",
       "      <td>0.00</td>\n",
       "      <td>1.00</td>\n",
       "      <td>0.00</td>\n",
       "    </tr>\n",
       "  </tbody>\n",
       "</table>\n",
       "</div>"
      ],
      "text/plain": [
       "           portfolio_organization_name route_id route_type route_name_used  \\\n",
       "6495  City and County of San Francisco       30          3              30   \n",
       "\n",
       "      route_length_feet shape_id  n_trips  \\\n",
       "6495           29642.90     3002       70   \n",
       "\n",
       "                                                                    base64_url  \\\n",
       "6495  aHR0cHM6Ly9hcGkuNTExLm9yZy90cmFuc2l0L2RhdGFmZWVkcz9vcGVyYXRvcl9pZD1TRg==   \n",
       "\n",
       "     shn_route  on_shs shn_districts  pct_route_on_hwy_across_districts  \\\n",
       "6495        80       1             4                               0.70   \n",
       "\n",
       "      is_express  is_ferry  is_rail  is_coverage  is_local  is_downtown_local  \\\n",
       "6495        0.00      0.00     0.00         0.00      0.00               1.00   \n",
       "\n",
       "      is_rapid  \n",
       "6495      0.00  "
      ]
     },
     "execution_count": 63,
     "metadata": {},
     "output_type": "execute_result"
    }
   ],
   "source": [
    "final.drop(columns=[\"geometry\"]).sample()"
   ]
  },
  {
   "cell_type": "code",
   "execution_count": 64,
   "id": "eec29ee4-93be-40bf-bd7e-b20e6181ab20",
   "metadata": {
    "tags": []
   },
   "outputs": [],
   "source": [
    "final_routes = final[\n",
    "    [\"route_id\", \"route_type\", \"route_name_used\", \"shape_id\", \"n_trips\"]\n",
    "].drop_duplicates()"
   ]
  },
  {
   "cell_type": "code",
   "execution_count": 65,
   "id": "3a3057db-f81e-4150-8bd3-f8ea08ed7675",
   "metadata": {
    "tags": []
   },
   "outputs": [
    {
     "data": {
      "text/plain": [
       "(7625, 5)"
      ]
     },
     "execution_count": 65,
     "metadata": {},
     "output_type": "execute_result"
    }
   ],
   "source": [
    "final_routes.shape"
   ]
  },
  {
   "cell_type": "code",
   "execution_count": 66,
   "id": "f7ba19e5-9191-427f-ab3e-132b48373725",
   "metadata": {
    "tags": []
   },
   "outputs": [],
   "source": [
    "final_routes[\"combined\"] = final_routes[\n",
    "    [\"route_id\", \"route_type\", \"route_name_used\", \"shape_id\", \"n_trips\"]\n",
    "].apply(lambda row: \"_\".join(row.values.astype(str)), axis=1)"
   ]
  },
  {
   "cell_type": "code",
   "execution_count": 67,
   "id": "45dcf5f7-c26d-4c21-ab39-9e40909ee690",
   "metadata": {
    "tags": []
   },
   "outputs": [],
   "source": [
    "og_routes = published_routes[\n",
    "    [\"route_id\", \"route_type\", \"route_name_used\", \"shape_id\", \"n_trips\"]\n",
    "].drop_duplicates()"
   ]
  },
  {
   "cell_type": "code",
   "execution_count": 68,
   "id": "5c106973-91e2-44f7-9bf9-a2c7167236a1",
   "metadata": {
    "tags": []
   },
   "outputs": [],
   "source": [
    "og_routes[\"combined\"] = og_routes[\n",
    "    [\"route_id\", \"route_type\", \"route_name_used\", \"shape_id\", \"n_trips\"]\n",
    "].apply(lambda row: \"_\".join(row.values.astype(str)), axis=1)"
   ]
  },
  {
   "cell_type": "code",
   "execution_count": 69,
   "id": "a0da010d-efbc-4582-93c2-a41488d5cd4e",
   "metadata": {
    "tags": []
   },
   "outputs": [
    {
     "data": {
      "text/plain": [
       "(8574, 6)"
      ]
     },
     "execution_count": 69,
     "metadata": {},
     "output_type": "execute_result"
    }
   ],
   "source": [
    "og_routes.shape"
   ]
  },
  {
   "cell_type": "code",
   "execution_count": 70,
   "id": "e5fa89c7-0bae-4963-bf1e-13421b85fde4",
   "metadata": {
    "tags": []
   },
   "outputs": [],
   "source": [
    "og_routes_list = list(og_routes.combined.unique())"
   ]
  },
  {
   "cell_type": "code",
   "execution_count": 71,
   "id": "0ad097e7-cc81-443a-ba51-a9b5afb36b58",
   "metadata": {
    "tags": []
   },
   "outputs": [],
   "source": [
    "final_routes_list = list(final_routes.combined.unique())"
   ]
  },
  {
   "cell_type": "code",
   "execution_count": 72,
   "id": "a8874f1d-54e9-41ac-ae0d-6ec739d9c806",
   "metadata": {
    "scrolled": true,
    "tags": []
   },
   "outputs": [
    {
     "data": {
      "text/plain": [
       "{'001_3_1_50201_62',\n",
       " '001_3_1_50202_62',\n",
       " '010_3_10_50203_14',\n",
       " '010_3_10_50204_1',\n",
       " '010_3_10_50206_3',\n",
       " '010_3_10_50207_10',\n",
       " '011_3_11_50208_14',\n",
       " '011_3_11_50209_9',\n",
       " '011_3_11_50210_1',\n",
       " '011_3_11_50211_15',\n",
       " '011_3_11_50212_7',\n",
       " '011_3_11_50213_2',\n",
       " '013_3_13_50216_20',\n",
       " '013_3_13_50217_20',\n",
       " '015_3_15_50218_28',\n",
       " '015_3_15_50219_28',\n",
       " '0177a66b-9f33-407d-a72e-776429fb73d4_3_C70 LOOP_8819e56f-2a4e-4f1a-a7f1-7c8c8d939832_2',\n",
       " '019_3_19_50220_15',\n",
       " '019_3_19_50221_14',\n",
       " '020_3_20_50222_1',\n",
       " '020_3_20_50223_2',\n",
       " '021_3_21_50224_1',\n",
       " '021_3_21_50225_33',\n",
       " '021_3_21_50226_33',\n",
       " '023_3_23_50229_34',\n",
       " '023_3_23_50231_33',\n",
       " '025_3_25_50232_30',\n",
       " '025_3_25_50233_30',\n",
       " '026_3_26_50234_32',\n",
       " '026_3_26_50235_31',\n",
       " '030_3_30_50236_34',\n",
       " '030_3_30_50237_35',\n",
       " '033_3_33_50238_1',\n",
       " '033_3_33_50239_33',\n",
       " '033_3_33_50240_32',\n",
       " '033_3_33_50241_1',\n",
       " '038_3_38_50242_30',\n",
       " '038_3_38_50243_29',\n",
       " '051_3_51_50244_64',\n",
       " '051_3_51_50245_60',\n",
       " '056_3_56_50246_33',\n",
       " '056_3_56_50247_33',\n",
       " '061_3_61_50248_29',\n",
       " '061_3_61_50249_1',\n",
       " '061_3_61_50250_28',\n",
       " '062_3_62_50251_31',\n",
       " '062_3_62_50252_29',\n",
       " '067_3_67_50253_34',\n",
       " '067_3_67_50254_32',\n",
       " '068_3_68_50255_2',\n",
       " '068_3_68_50256_31',\n",
       " '068_3_68_50257_33',\n",
       " '072_3_72_50260_29',\n",
       " '072_3_72_50263_30',\n",
       " '075_3_75_50264_27',\n",
       " '075_3_75_50265_27',\n",
       " '078_3_78_50266_27',\n",
       " '078_3_78_50267_27',\n",
       " '081_3_81_50269_7',\n",
       " '081_3_81_50270_34',\n",
       " '081_3_81_50273_10',\n",
       " '081_3_81_50274_34',\n",
       " '082_3_82_50275_33',\n",
       " '082_3_82_50276_33',\n",
       " '084_3_84_50278_31',\n",
       " '084_3_84_50279_31',\n",
       " '086_3_86_50280_31',\n",
       " '086_3_86_50281_32',\n",
       " '087_3_87_50282_31',\n",
       " '087_3_87_50283_29',\n",
       " '088_3_88_50284_28',\n",
       " '088_3_88_50285_30',\n",
       " '093_3_93_50286_27',\n",
       " '093_3_93_50287_28',\n",
       " '0ad6c6aa-1939-45a0-a3a8-02ebe8e19092_3_C10 NB_2e5d28d3-1269-414f-90ab-2bbc14a1e5cf_2',\n",
       " '0ad6c6aa-1939-45a0-a3a8-02ebe8e19092_3_C10 NB_6092a531-8447-41d9-8f1f-86161c715213_1',\n",
       " '0ad6c6aa-1939-45a0-a3a8-02ebe8e19092_3_C10 NB_9cb400e3-b5d7-448c-ba20-e7ad8864f6ee_1',\n",
       " '0ad6c6aa-1939-45a0-a3a8-02ebe8e19092_3_C10 NB_ce1cf174-3ed4-4a47-8235-c9fe35669802_2',\n",
       " '0ad6c6aa-1939-45a0-a3a8-02ebe8e19092_3_C10 NB_fa9d8ed5-81bb-46ef-83c6-0343add2e684_6',\n",
       " '0e85fd4c-5258-4256-9852-4a96554aadb7_3_C20 NB_11632900-98bf-47da-b1fe-ac440d2fc1a7_1',\n",
       " '0e85fd4c-5258-4256-9852-4a96554aadb7_3_C20 NB_801b4472-787d-4f12-8e05-51187bdb9a8c_1',\n",
       " '0e85fd4c-5258-4256-9852-4a96554aadb7_3_C20 NB_908c324b-a102-402c-a979-8434435003a2_1',\n",
       " '0e85fd4c-5258-4256-9852-4a96554aadb7_3_C20 NB_ee0de7ae-9620-485d-a126-0dea9262ea8b_6',\n",
       " '0e85fd4c-5258-4256-9852-4a96554aadb7_3_C20 NB_f0d51672-545d-400d-b76b-7141263db7f7_1',\n",
       " '101_3_101_1010093_26',\n",
       " '101_3_101_1010094_22',\n",
       " '102_3_102_1020052_13',\n",
       " '102_3_102_1020053_14',\n",
       " '102_3_102_50288_1',\n",
       " '102_3_102_50289_4',\n",
       " '102_3_102_50290_1',\n",
       " '102_3_102_50291_5',\n",
       " '103_3_103_1030067_21',\n",
       " '103_3_103_1030068_22',\n",
       " '103_3_103_50292_1',\n",
       " '103_3_103_50293_3',\n",
       " '103_3_103_50294_2',\n",
       " '103_3_103_50295_2',\n",
       " '104_3_104_1040030_16',\n",
       " '104_3_104_1040031_15',\n",
       " '105_3_105_50296_1',\n",
       " '105_3_105_50297_1',\n",
       " '106_3_106_50298_2',\n",
       " '106_3_106_50300_3',\n",
       " '108_3_108_28_18',\n",
       " '10992_3__p_1432465_7',\n",
       " '10992_3__p_1432466_9',\n",
       " '109_3_109_30_18',\n",
       " '109_3_109_50301_2',\n",
       " '109_3_109_50302_2',\n",
       " '110_3_110_31_10',\n",
       " '111_3_111_1110097_18',\n",
       " '111_3_111_1110100_1',\n",
       " '111_3_111_1110101_16',\n",
       " '112_3_112_1120053_16',\n",
       " '112_3_112_1120054_16',\n",
       " '113_3_113_50303_1',\n",
       " '113_3_113_50304_3',\n",
       " '113_3_113_50305_3',\n",
       " '115_3_Route 1 - Blue_p_2320_12',\n",
       " '11662_3_Service from Beaumont to Redlands Transit Center and Loma Linda VA Hospital._p_1434035_2',\n",
       " '11662_3_Service from Beaumont to Redlands Transit Center and Loma Linda VA Hospital._p_1434036_2',\n",
       " '11662_3_Service from Beaumont to Redlands Transit Center and Loma Linda VA Hospital._p_1434037_4',\n",
       " '11662_3_Service from Beaumont to Redlands Transit Center and Loma Linda VA Hospital._p_1434038_4',\n",
       " '116_3_Route 2 - Red_p_2318_11',\n",
       " '117_3_3 Route 3-Green 101 Northcrest_p_2321_10',\n",
       " '118_3_Route 4 - Orange Bertsch / Howland Hill Rd_p_2313_11',\n",
       " '11_3_11_shp-11-01_10',\n",
       " '11_3_11_shp-11-02_23',\n",
       " '11_3_11_shp-11-53_11',\n",
       " '11_3_11_shp-11-54_19',\n",
       " '11_3_11_shp-11-55_1',\n",
       " '11_3_11_shp-11-56_3',\n",
       " '11_3_Blue_18_6',\n",
       " '120_3_Route 20 Smith River / Eureka_p_111172_2',\n",
       " '120_3_Route 20 Smith River / Eureka_p_111173_1',\n",
       " '120_3_Route 20 Smith River / Eureka_p_1433740_1',\n",
       " '120_3_Route 20 Smith River / Eureka_p_179085_1',\n",
       " '120_3_Route 20 Smith River / Eureka_p_179087_1',\n",
       " '120_3_Route 20 Smith River / Eureka_p_2314_3',\n",
       " '120_3_Route 20 Smith River / Eureka_p_899621_2',\n",
       " '121_3_121_1210156_1',\n",
       " '121_3_121_1210162_39',\n",
       " '121_3_121_1210163_4',\n",
       " '121_3_121_1210164_42',\n",
       " '121_3_121_1210165_1',\n",
       " '121_3_121_1210166_3',\n",
       " '121_3_121_1210167_4',\n",
       " '121_3_121_1210168_3',\n",
       " '121_3_121_1210169_1',\n",
       " '1225_3_22_27506_21',\n",
       " '124_3_124_50306_5',\n",
       " '124_3_124_50307_5',\n",
       " '125515_3_Line_E Line OPENING_2',\n",
       " '125515_3_Line_E Line_2',\n",
       " '125516_3_Line_H Line CLOSING Round_3',\n",
       " '125516_3_Line_H Line Regular_3',\n",
       " '12600_3_Blossom Express_p_531471_4',\n",
       " '129_3_129_50308_2',\n",
       " '129_3_129_50309_2',\n",
       " '12X_3_12X_shp-12X-04_16',\n",
       " '12X_3_12X_shp-12X-53_15',\n",
       " '12X_3_12X_shp-12X-54_2',\n",
       " '12_3_Green_19_5',\n",
       " '131_3_131_1310146_1',\n",
       " '131_3_131_1310152_28',\n",
       " '131_3_131_1310153_28',\n",
       " '131_3_131_1310154_2',\n",
       " '137_3_137_50314_6',\n",
       " '137_3_137_50315_8',\n",
       " '1381_3_CommuterLink from Beaumont to San Bernardino Transit Center_p_901522_12',\n",
       " '1381_3_CommuterLink from Beaumont to San Bernardino Transit Center_p_901523_12',\n",
       " '138_3_138_50317_15',\n",
       " '138_3_138_50323_15',\n",
       " '13_3_Gold_20_8',\n",
       " '141_3_141_1410024_35',\n",
       " '141_3_141_1410025_36',\n",
       " '14242_3_300 PM DNHS Tripper_p_1434500_1',\n",
       " '142_3_142_50332_18',\n",
       " '142_3_142_50333_18',\n",
       " '14_3_14_shp-14-01_11',\n",
       " '14_3_14_shp-14-51_12',\n",
       " '14_3_45_22_1',\n",
       " '151_3_151_1510078_31',\n",
       " '151_3_151_1510079_30',\n",
       " '15X_3_15X_shp-15X-08_18',\n",
       " '15X_3_15X_shp-15X-55_19',\n",
       " '161_3_161_50334_1',\n",
       " '161_3_161_50335_1',\n",
       " '16684_3_Express service from Beaumont Walmart to Casino Morongo and Outlet Mall_p_1433210_9',\n",
       " '16684_3_Express service from Beaumont Walmart to Casino Morongo and Outlet Mall_p_1434024_6',\n",
       " '16684_3_Express service from Beaumont Walmart to Casino Morongo and Outlet Mall_p_1434025_6',\n",
       " '16684_3_Express service from Beaumont Walmart to Casino Morongo and Outlet Mall_p_1438005_9',\n",
       " '16776_3_Arvin Local_p_901199_4',\n",
       " '16776_3_Arvin Local_p_901201_15',\n",
       " '16778_3_Arvin-Lamont_p_901205_1',\n",
       " '16778_3_Arvin-Lamont_p_901206_5',\n",
       " '16779_3_Arvin-Tejon_p_901207_2',\n",
       " '16779_3_Arvin-Tejon_p_901208_2',\n",
       " '16780_3_Arvin-Bakersfield_p_901209_2',\n",
       " '16_3_Route 1 - Sonora Loop_16_12',\n",
       " '171_3_171_1710191_37',\n",
       " '171_3_171_1710192_36',\n",
       " '172_3_172_1720112_28',\n",
       " '172_3_172_1720113_3',\n",
       " '172_3_172_1720114_27',\n",
       " '172_3_172_1720117_3',\n",
       " '173_3_173_1730140_32',\n",
       " '173_3_173_1730142_31',\n",
       " '174_3_174_1740038_3',\n",
       " '174_3_174_1740039_1',\n",
       " '175_3_175_1750018_12',\n",
       " '175_3_175_1750021_14',\n",
       " '175_3_175_50344_4',\n",
       " '175_3_175_50345_3',\n",
       " '175_3_175_50346_3',\n",
       " '175_3_175_50347_4',\n",
       " '176_3_176_50348_4',\n",
       " '176_3_176_50349_3',\n",
       " '176_3_176_50350_4',\n",
       " '176_3_176_50351_3',\n",
       " '177_3_177_50352_23',\n",
       " '177_3_177_50353_24',\n",
       " '177_3_177_50354_23',\n",
       " '177_3_177_50355_24',\n",
       " '17909_3_Glenn Ride_p_908498_5',\n",
       " '17909_3_Glenn Ride_p_908499_5',\n",
       " '17909_3_Glenn Ride_p_908510_1',\n",
       " '17909_3_Glenn Ride_p_914817_1',\n",
       " '17_3_17_shp-17-02_23',\n",
       " '17_3_17_shp-17-52_24',\n",
       " '181_3_181_1810095_16',\n",
       " '181_3_181_1810096_15',\n",
       " '182_3_182_1820080_15',\n",
       " '182_3_182_1820081_14',\n",
       " '18_3_L - Weekday_27350_10',\n",
       " '191_3_191_1910336_32',\n",
       " '191_3_191_1910338_1',\n",
       " '191_3_191_1910345_1',\n",
       " '191_3_191_1910346_32',\n",
       " '191_3_191_1910347_1',\n",
       " '191_3_191_1910348_1',\n",
       " '192_3_192_1920194_1',\n",
       " '192_3_192_1920195_32',\n",
       " '192_3_192_1920199_32',\n",
       " '19X_3_19X_shp-19X-01_3',\n",
       " '19X_3_19X_shp-19X-51_3',\n",
       " '19_3_LB - Dos Palos_27256_8',\n",
       " '19_3_LB - Dos Palos_27257_2',\n",
       " '1_3_1_10081_22',\n",
       " '1_3_1_10082_23',\n",
       " '1_3_1_1_23',\n",
       " '1_3_1_2_21',\n",
       " '1_3_1_shp-1-01_55',\n",
       " '1_3_1_shp-1-51_54',\n",
       " '1_3_FlyAway - Van Nuys to LAX_1_64',\n",
       " '1_3_Line_N Line OPENING Round_3',\n",
       " '1_3_Line_N Line REGULAR_5',\n",
       " '1_3_R1_1-A-IB_13',\n",
       " \"1_3_Shuttle service includes a route from Haight and Stanyan streets along car-free JFK Promenade to Transverse Drive, with stops for some of the Golden Gate Park's most popular attractions._0juq_16\",\n",
       " \"1_3_Shuttle service includes a route from Haight and Stanyan streets along car-free JFK Promenade to Transverse Drive, with stops for some of the Golden Gate Park's most popular attractions._q8e3_16\",\n",
       " '2010_3_2010_shp-2010-01_1',\n",
       " '20_3_20_shp-20-01_25',\n",
       " '20_3_20_shp-20-51_25',\n",
       " '20_3_M1 - To HSA_27352_7',\n",
       " '20_3_M1 - To HSA_27353_21',\n",
       " '21_3_21_210101_15',\n",
       " '21_3_21_210102_1',\n",
       " '21_3_21_210106_16',\n",
       " '21_3_M2_27355_28',\n",
       " '22_3_22_220096_30',\n",
       " '22_3_22_220097_1',\n",
       " '22_3_22_220099_1',\n",
       " '22_3_22_220100_31',\n",
       " '22_3_M3_27356_30',\n",
       " '2325_3_1_21494_7',\n",
       " '2325_3_1_21495_7',\n",
       " '2325_3_1_21496_7',\n",
       " '2326_3_2_21503_7',\n",
       " '2326_3_2_21504_7',\n",
       " '2326_3_2_21505_7',\n",
       " '23_3_23_230024_16',\n",
       " '23_3_23_230025_16',\n",
       " '23_3_23_shp-23-01_17',\n",
       " '23_3_23_shp-23-52_19',\n",
       " '23_3_M4_27357_27',\n",
       " '23_3_M4_27358_1',\n",
       " '24X_3_24X_shp-24X-05_12',\n",
       " '24X_3_24X_shp-24X-08_1',\n",
       " '24X_3_24X_shp-24X-09_16',\n",
       " '24X_3_24X_shp-24X-54_15',\n",
       " '24X_3_24X_shp-24X-55_12',\n",
       " '24_3_M5_27270_28',\n",
       " '257_3_Route 199 Hiouchi / Gasquet_p_1433757_1',\n",
       " '257_3_Route 199 Hiouchi / Gasquet_p_2317_2',\n",
       " '257_3_Route 199 Hiouchi / Gasquet_p_8908_1',\n",
       " '25_3_25_shp-25-01_18',\n",
       " '25_3_25_shp-25-03_5',\n",
       " '25_3_25_shp-25-52_14',\n",
       " '25_3_M6 - First Run_27361_18',\n",
       " '277_3_35_p_1149_3',\n",
       " '277_3_35_p_5505_3',\n",
       " '27_3_27_shp-27-02_19',\n",
       " '27_3_27_shp-27-51_1',\n",
       " '27_3_27_shp-27-53_18',\n",
       " '28_3_28_shp-28-02_29',\n",
       " '28_3_28_shp-28-52_30',\n",
       " '2_3_2_20013_21',\n",
       " '2_3_2_20016_22',\n",
       " '2_3_2_3_12',\n",
       " '2_3_2_4_12',\n",
       " '2_3_2_shp-2-01_59',\n",
       " '2_3_2_shp-2-51_56',\n",
       " '2_3_2_shp-2-52_3',\n",
       " '2_3_FlyAway - Union Station to LAX_2_40',\n",
       " '2_3_Line_M Line CLOSING Round_2',\n",
       " '2_3_Line_M Line OPENING Round_2',\n",
       " '2_3_Line_M Line REGULAR Round_3',\n",
       " '2_3_R2_2-A-IB_4',\n",
       " '2_3_R2_2-A-OB_4',\n",
       " '3165_3_NE_7463_10',\n",
       " '3166_3_NW_7464_8',\n",
       " '3167_3_SW_7466_10',\n",
       " '3168_3_SE_20952_15',\n",
       " '31_3_Route 2 - To Columbia College_31_5',\n",
       " '3203_3_50_25537_13',\n",
       " '3203_3_50_25539_13',\n",
       " '3204_3_22_16736_5',\n",
       " '3204_3_22_16737_6',\n",
       " '3204_3_22_16758_2',\n",
       " '3205_3_23_25508_7',\n",
       " '3205_3_23_25510_7',\n",
       " '3206_3_31_25548_22',\n",
       " '3206_3_31_25549_21',\n",
       " '3207_3_32_25546_13',\n",
       " '3207_3_32_25547_13',\n",
       " '3208_3_33_27727_13',\n",
       " '3208_3_33_27728_13',\n",
       " '3209_3_40_7622_13',\n",
       " '3209_3_40_7765_13',\n",
       " '3210_3_41_25565_21',\n",
       " '3210_3_41_25566_23',\n",
       " '3211_3_43_16537_20',\n",
       " '3211_3_43_21567_21',\n",
       " '3212_3_66_25505_13',\n",
       " '3213_3_47_25540_13',\n",
       " '3213_3_47_25541_13',\n",
       " '3215_3_53_25794_21',\n",
       " '3215_3_53_25795_20',\n",
       " '3218_3_52_25534_22',\n",
       " '3218_3_52_25536_23',\n",
       " '3219_3_55_25518_23',\n",
       " '3219_3_55_25519_22',\n",
       " '3220_3_15_16766_2',\n",
       " '3220_3_15_16768_4',\n",
       " '3220_3_15_17504_2',\n",
       " '3220_3_15_19310_4',\n",
       " '3220_3_15_19311_2',\n",
       " '3220_3_15_19312_4',\n",
       " '3220_3_15_19313_2',\n",
       " '3224_3_42_25542_6',\n",
       " '3224_3_42_25544_6',\n",
       " '3224_3_42_25567_1',\n",
       " '3226_3_28_25551_7',\n",
       " '3226_3_28_25558_6',\n",
       " '3227_3_29_22551_7',\n",
       " '3227_3_29_22552_6',\n",
       " '3228_3_68_7671_13',\n",
       " '3228_3_68_7672_13',\n",
       " '32372_3_Auburn Loop_p_1303321_8',\n",
       " '3237_3_N_7707_3',\n",
       " '3240_3_2_26516_13',\n",
       " '3240_3_2_26517_13',\n",
       " '3241_3_3_25499_13',\n",
       " '3241_3_3_25500_20',\n",
       " '3243_3_S_20953_3',\n",
       " '32_3_Route 2 - To Sierra Village_32_3',\n",
       " '3455_3_Route A_27611_29',\n",
       " '3456_3_Route B_10013_29',\n",
       " '3457_3_Route C_8657_7',\n",
       " '3458_3_Route D_13880_14',\n",
       " '3460_3_Route E_20427_6',\n",
       " '3461_3_Route F_8661_6',\n",
       " '3462_3_Route L_8662_12',\n",
       " '3463_3_Route M_10015_17',\n",
       " '3464_3_Route R_8664_4',\n",
       " '3465_3_Route S_27609_8',\n",
       " '3467_3_Route 1 AM_27588_1',\n",
       " '3468_3_Route 2 AM_27599_1',\n",
       " '3469_3_Route 3 AM_27589_1',\n",
       " '3470_3_Route 4 AM_27600_1',\n",
       " '3471_3_Route 5 AM_27592_1',\n",
       " '3472_3_Route 6 AM_27601_1',\n",
       " '3474_3_Route 10  AM_27595_1',\n",
       " '3475_3_Route 7 AM_27593_1',\n",
       " '3476_3_Route 9 AM_27594_1',\n",
       " '3567_3__p_7492_9',\n",
       " '3567_3__p_7493_9',\n",
       " '3569_3__p_7491_18',\n",
       " '3570_3__p_7494_18',\n",
       " '3571_3__p_7495_18',\n",
       " '3572_3__p_7497_21',\n",
       " '3572_3__p_7498_2',\n",
       " '3573_3_Link CSULA Metrolink to Corporate Center_p_7496_6',\n",
       " '3573_3_Link CSULA Metrolink to Corporate Center_p_7499_6',\n",
       " '3685_3_Route 1 PM_27555_1',\n",
       " '3686_3_Route 2 PM_27560_1',\n",
       " '3687_3_Route 3 PM_27559_1',\n",
       " '3688_3_Route 4 PM_27561_1',\n",
       " '3689_3_Route 5 PM_27556_1',\n",
       " '3690_3_Route 6 PM_27562_1',\n",
       " '3691_3_Route 7 PM_27557_1',\n",
       " '3693_3_Route 9 PM_27558_1',\n",
       " '3694_3_Route 10 PM_27603_1',\n",
       " '374_3_Service to the westerly portion of Interstate 10 more commonly referred to as the Tournament Hills/Fairway Canyon area, Cherry Valley, the high school, both middle schools and commercial areas._p_1276643_1',\n",
       " '374_3_Service to the westerly portion of Interstate 10 more commonly referred to as the Tournament Hills/Fairway Canyon area, Cherry Valley, the high school, both middle schools and commercial areas._p_1276644_1',\n",
       " '374_3_Service to the westerly portion of Interstate 10 more commonly referred to as the Tournament Hills/Fairway Canyon area, Cherry Valley, the high school, both middle schools and commercial areas._p_1425486_1',\n",
       " '374_3_Service to the westerly portion of Interstate 10 more commonly referred to as the Tournament Hills/Fairway Canyon area, Cherry Valley, the high school, both middle schools and commercial areas._p_1425487_1',\n",
       " '38d4e472-bb43-4d43-a159-f73518ccacc3_3_06/12 Combo_25361baf-b6b3-4398-aa1e-e20936a94801_1',\n",
       " '38d4e472-bb43-4d43-a159-f73518ccacc3_3_06/12 Combo_33805a03-9899-4b44-b0e3-dff3e116d4d4_1',\n",
       " '38d4e472-bb43-4d43-a159-f73518ccacc3_3_06/12 Combo_458db712-a4b8-4fc7-8b9c-02f75a5c71d9_1',\n",
       " '38d4e472-bb43-4d43-a159-f73518ccacc3_3_06/12 Combo_486ca2dd-ecac-44b0-bf69-10227500f511_1',\n",
       " '38d4e472-bb43-4d43-a159-f73518ccacc3_3_06/12 Combo_7ad0883c-5f97-4eb4-a31f-f400fa6bb38c_1',\n",
       " '38d4e472-bb43-4d43-a159-f73518ccacc3_3_06/12 Combo_a4746c92-e180-4602-8989-407e305ca79a_1',\n",
       " '3904_3_1_27500_7',\n",
       " '3904_3_1_27501_1',\n",
       " '3904_3_1_27502_67',\n",
       " '3904_3_1_27503_13',\n",
       " '3904_3_1_27504_2',\n",
       " '3904_3_1_27505_1',\n",
       " '3904_3_1_27506_12',\n",
       " '3904_3_1_27507_1',\n",
       " '3904_3_1_27508_76',\n",
       " '3905_3_2_27510_38',\n",
       " '3905_3_2_27511_3',\n",
       " '3905_3_2_27513_38',\n",
       " '3905_3_2_27514_3',\n",
       " '3908_3_5_27517_12',\n",
       " '3908_3_5_27518_1',\n",
       " '3908_3_5_27519_11',\n",
       " '3910_3_7_27520_75',\n",
       " '3910_3_7_27521_1',\n",
       " '3910_3_7_27522_3',\n",
       " '3910_3_7_27524_67',\n",
       " '3910_3_7_27525_7',\n",
       " '3911_3_8_27526_29',\n",
       " '3911_3_8_27527_7',\n",
       " '3911_3_8_27528_30',\n",
       " '3911_3_8_27529_5',\n",
       " '3912_3_9_27530_28',\n",
       " '3912_3_9_27531_4',\n",
       " '3912_3_9_27533_2',\n",
       " '3912_3_9_27534_32',\n",
       " '3913_3_R10_27537_3',\n",
       " '3913_3_R10_27538_3',\n",
       " '3914_3_R12_27539_80',\n",
       " '3914_3_R12_27541_80',\n",
       " '3915_3_14_27542_56',\n",
       " '3915_3_14_27543_3',\n",
       " '3915_3_14_27544_1',\n",
       " '3915_3_14_27545_58',\n",
       " '3916_3_15_27546_13',\n",
       " '3916_3_15_27547_13',\n",
       " '3917_3_16_27548_27',\n",
       " '3917_3_16_27549_25',\n",
       " '3918_3_17_27551_59',\n",
       " '3918_3_17_27552_60',\n",
       " '3919_3_18_27554_27',\n",
       " '3919_3_18_27555_3',\n",
       " '3919_3_18_27556_22',\n",
       " '3919_3_18_27557_1',\n",
       " '3920_3_R7_27558_30',\n",
       " '3920_3_R7_27559_10',\n",
       " '3920_3_R7_27560_31',\n",
       " '3920_3_R7_27561_8',\n",
       " '3922_3_41_27569_38',\n",
       " '3924_3_43_27572_16',\n",
       " '3924_3_43_27573_17',\n",
       " '3925_3_44_27574_49',\n",
       " '3925_3_44_27575_50',\n",
       " '3929_3_R3_27594_5',\n",
       " '3929_3_R3_27596_4',\n",
       " '3930_3_3_27597_78',\n",
       " '3930_3_3_27598_75',\n",
       " '39e12dc7-9f2d-4974-8593-79c1c5ab76b7_3_GRAND PLAZA LINE_03c0ccc0-bc89-48d9-b495-e14f85fbac20_1',\n",
       " '39e12dc7-9f2d-4974-8593-79c1c5ab76b7_3_GRAND PLAZA LINE_30d651e3-7a0e-44ca-9101-2a9b363cd80e_1',\n",
       " '39e12dc7-9f2d-4974-8593-79c1c5ab76b7_3_GRAND PLAZA LINE_c13ebe90-fb15-454a-8756-b5a9fe129170_1',\n",
       " '39e12dc7-9f2d-4974-8593-79c1c5ab76b7_3_GRAND PLAZA LINE_c23faf81-6f94-414a-bd18-bb4a1f52981e_1',\n",
       " '39e12dc7-9f2d-4974-8593-79c1c5ab76b7_3_GRAND PLAZA LINE_d2146cba-59d4-47dc-a6cc-06fd336619db_1',\n",
       " '39e12dc7-9f2d-4974-8593-79c1c5ab76b7_3_GRAND PLAZA LINE_ec792cc5-524d-4de3-8fd0-3ac8b9cc7bcb_1',\n",
       " '3_3_3_5_5',\n",
       " '3_3_3_6_5',\n",
       " '3_3_3_shp-3-02_6',\n",
       " '3_3_3_shp-3-03_17',\n",
       " '3_3_3_shp-3-04_3',\n",
       " '3_3_3_shp-3-52_7',\n",
       " '3_3_3_shp-3-53_17',\n",
       " '3_3_3_shp-3-54_3',\n",
       " '3_3_Line_A Line CLOSING Round_1',\n",
       " '3_3_Line_A Line OPENING Round_3',\n",
       " '3_3_Line_A Line REGULAR Round_5',\n",
       " '3_3_R3_3-A-IB_13',\n",
       " '3ff1b747-a791-4eb3-90b2-25cb355b6c67_3_C40 SB_ea0f4cce-a1bd-47bb-a4df-579977d1566c_12',\n",
       " '4048_3_Route 1 North Tulare_11018_28',\n",
       " '4053_3_Route 2 Southeast Tulare_11977_28',\n",
       " '4056_3_Route 3 West Tulare_11042_28',\n",
       " '4057_3_Route 4 Northeast Tulare_11978_27',\n",
       " '405_3_405_4050011_3',\n",
       " '405_3_405_4050012_3',\n",
       " '4061_3_Route 5 Southwest Tulare_11976_27',\n",
       " '4062_3_Route 7 East Tulare_13655_27',\n",
       " '4064_3_Tulare to Visalia Loop_11056_15',\n",
       " '41_3_41_410024_38',\n",
       " '41_3_41_410025_1',\n",
       " '41_3_41_410026_35',\n",
       " '4500_3_64_12549_1',\n",
       " '4500_3_64_12550_13',\n",
       " '4500_3_64_12554_12',\n",
       " '46_3_46_460083_18',\n",
       " '46_3_46_460085_23',\n",
       " '46_3_46_460086_1',\n",
       " '46_3_46_460087_28',\n",
       " '46_3_46_460089_16',\n",
       " '46_3_46_460092_1',\n",
       " '4_3_4_40014_24',\n",
       " '4_3_4_40015_22',\n",
       " '4_3_4_40019_1',\n",
       " '4_3_4_7_5',\n",
       " '4_3_4_8_6',\n",
       " '4_3_4_shp-4-01_24',\n",
       " '4_3_4_shp-4-51_23',\n",
       " '4_3_Emergency Management_EM 124022 154672_1',\n",
       " '4_3_Groveland_4-A-IB_1',\n",
       " '4_3_Groveland_4-A-OB_1',\n",
       " '4_3_Red Line_4_1',\n",
       " '4aa40176-ef3c-47a4-87d8-7efb84e09308_3_Clementine Line_24d06322-5ec7-4783-a627-065260719fd7_1',\n",
       " '4aa40176-ef3c-47a4-87d8-7efb84e09308_3_Clementine Line_707bb5b7-a10c-4148-ae35-2095f6533893_1',\n",
       " '507_0_Gold_50411_1',\n",
       " '507_0_Gold_50412_6',\n",
       " '507_0_Gold_50413_15',\n",
       " '507_0_Gold_50414_46',\n",
       " '507_0_Gold_50415_17',\n",
       " '507_0_Gold_50416_52',\n",
       " '50_3_Fairfield –\\xa0Rio Vista_p_2364_1',\n",
       " '50_3_Fairfield –\\xa0Rio Vista_p_692_1',\n",
       " '50_3_Fairfield –\\xa0Rio Vista_p_693_3',\n",
       " '50_3_Fairfield –\\xa0Rio Vista_p_694_1',\n",
       " '50_3_Fairfield –\\xa0Rio Vista_p_695_1',\n",
       " '50_3_Fairfield –\\xa0Rio Vista_p_700_1',\n",
       " '51_3_51_510086_60',\n",
       " '51_3_51_510088_63',\n",
       " '5330_3_56_25506_13',\n",
       " '5330_3_56_25513_13',\n",
       " '533_0_Blue_50428_5',\n",
       " '533_0_Blue_50429_62',\n",
       " '533_0_Blue_50431_68',\n",
       " '5376_3_50_23140_29',\n",
       " '5376_3_50_23141_28',\n",
       " '5391_3_55_23129_14',\n",
       " '5391_3_55_23174_14',\n",
       " '5391_3_55_24522_14',\n",
       " '5490_3_The Garibaldi_p_178948_13',\n",
       " '5672_3_22_23852_8',\n",
       " '5672_3_22_23854_7',\n",
       " '5698_3_111_25613_1',\n",
       " '5698_3_111_25615_2',\n",
       " '5698_3_111_26353_1',\n",
       " '5699_3_114_25612_2',\n",
       " '5699_3_114_25616_3',\n",
       " '5700_3_115_25618_1',\n",
       " '5700_3_115_25619_1',\n",
       " '5701_3_118_25617_1',\n",
       " '5889_3_M7_27258_19',\n",
       " '5964_3_1_21047_17',\n",
       " '5965_3_2_20723_10',\n",
       " '5965_3_2_20724_10',\n",
       " '5966_3_3_20908_2',\n",
       " '5966_3_3_20909_2',\n",
       " '5967_3_4_20727_6',\n",
       " '5967_3_4_20728_5',\n",
       " '5970_3_6_20752_1',\n",
       " '5970_3_6_20753_1',\n",
       " '5_3_21_10_6',\n",
       " '5_3_21_9_6',\n",
       " '5_3_5_shp-5-01_1',\n",
       " '5_3_5_shp-5-02_11',\n",
       " '5_3_5_shp-5-05_1',\n",
       " '5_3_5_shp-5-51_11',\n",
       " '5_3_5_shp-5-52_1',\n",
       " '5_3_Passengers leaving LAX may board buses on the Lower/Arrivals Level in front of each terminal at the blue FlyAway columns_5_64',\n",
       " '6116_3_Res_21871_14',\n",
       " '6117_3_EX_21872_16',\n",
       " '61_3_61_610123_2',\n",
       " '61_3_61_610125_66',\n",
       " '61_3_61_610126_68',\n",
       " '6279_3__p_1432460_16',\n",
       " '6279_3__p_1432461_15',\n",
       " '6279_3__p_1432462_3',\n",
       " '6280_3__p_1432467_16',\n",
       " '6280_3__p_1432469_15',\n",
       " '6283_3_Transbay-Caltrain_p_1426948_13',\n",
       " '6283_3_Transbay-Caltrain_p_1426949_13',\n",
       " '6283_3_Transbay-Caltrain_p_1432464_3',\n",
       " '62ecd8b9-18fb-4b62-9ef7-d9abec27fab9_3_Katella Line_632ab959-de43-4ef0-9e2b-3fdc7c3202f8_1',\n",
       " '62ecd8b9-18fb-4b62-9ef7-d9abec27fab9_3_Katella Line_b3485f23-b47e-4cdd-850a-8177edb3de0f_1',\n",
       " '62ecd8b9-18fb-4b62-9ef7-d9abec27fab9_3_Katella Line_cc5acb10-655d-43c1-8c03-1e864ce52aaa_1',\n",
       " '6301_3_4_26092_3',\n",
       " '6301_3_4_26873_4',\n",
       " '6301_3_4_26959_1',\n",
       " '6302_3_5_23201_2',\n",
       " '6302_3_5_27081_2',\n",
       " '6303_3_6_26281_4',\n",
       " '6303_3_6_26858_4',\n",
       " '6304_3_Red_24504_23',\n",
       " '6304_3_Red_24505_24',\n",
       " '6305_3_Blue_23208_14',\n",
       " '6305_3_Blue_26551_1',\n",
       " '6305_3_Blue_26552_1',\n",
       " '6305_3_Blue_26936_15',\n",
       " '6305_3_Blue_26936_16',\n",
       " '6305_3_Blue_26939_1',\n",
       " '6305_3_Blue_27939_16',\n",
       " '6306_3_Gold_23209_9',\n",
       " '6306_3_Gold_23210_9',\n",
       " '6308_3_2_27149_4',\n",
       " '6308_3_2_27150_1',\n",
       " '6308_3_2_27151_5',\n",
       " '6308_3_2_27152_1',\n",
       " '6308_3_2_27156_4',\n",
       " '6308_3_2_27157_1',\n",
       " '6308_3_2_27158_1',\n",
       " '6308_3_2_27159_4',\n",
       " '6308_3_2_27162_1',\n",
       " '6561_3_20_25511_6',\n",
       " '6561_3_20_25512_7',\n",
       " '6562_3_21_25515_6',\n",
       " '6562_3_21_25796_7',\n",
       " '6567_3_27_27725_6',\n",
       " '6567_3_27_27726_6',\n",
       " '6569_3_49_25554_13',\n",
       " '6569_3_49_25559_13',\n",
       " '6571_3_6_25503_13',\n",
       " '6571_3_6_25504_13',\n",
       " '6572_3_1_27722_9',\n",
       " '6572_3_1_27723_4',\n",
       " '6572_3_1_27724_13',\n",
       " '6588_3_1_25948_4',\n",
       " '6588_3_1_25980_1',\n",
       " '6588_3_1_26018_1',\n",
       " '6588_3_1_26021_1',\n",
       " '6588_3_1_26047_4',\n",
       " '6588_3_1_26048_11',\n",
       " '6588_3_1_26744_11',\n",
       " '6589_3_3A_25987_11',\n",
       " '6590_3_3B_25989_11',\n",
       " '6591_3_7A_25990_11',\n",
       " '6594_3_7B_25994_1',\n",
       " '6594_3_7B_25996_9',\n",
       " '6594_3_7B_26039_1',\n",
       " '6595_3_12_25999_3',\n",
       " '6595_3_12_26000_3',\n",
       " '6596_3_21_26001_6',\n",
       " '66_3_Express shuttle service operates between downtown San Francisco and the Presidio of San Francisco._22214_29',\n",
       " '673_3_Presidio GO South Hills_20010_27',\n",
       " '6_3_22_11_2',\n",
       " '6_3_22_12_2',\n",
       " '6_3_6_shp-6-01_20',\n",
       " '6_3_6_shp-6-02_10',\n",
       " '6_3_6_shp-6-03_11',\n",
       " '6_3_6_shp-6-05_14',\n",
       " '6_3_Passengers leaving LAX may board buses on the Lower/Arrivals Level in front of each terminal at the blue FlyAway columns_6_40',\n",
       " '71_3_71_710055_27',\n",
       " '71_3_71_710058_27',\n",
       " '79b4a269-5ae4-426a-9636-7875374ea411_3_C30 EB_5e17829c-c840-4f18-8ce6-4b897d1c7987_15',\n",
       " '79b4a269-5ae4-426a-9636-7875374ea411_3_C30 EB_f69e966a-6480-4c5e-9869-d48300878add_3',\n",
       " '7_3_31_13_4',\n",
       " '7_3_7_shp-7-03_25',\n",
       " '7_3_7_shp-7-52_26',\n",
       " '8726c033-2d11-4351-b4c4-bcd15d90316f_3_Ball Road Line_1e2fe69e-a2af-482a-9663-11ab7522f722_1',\n",
       " '8726c033-2d11-4351-b4c4-bcd15d90316f_3_Ball Road Line_48c30177-78cb-43d4-b1f1-7ae36d59bdb7_1',\n",
       " '874b0dfa-ab3d-47da-ac75-5fd7b9bdea42_3_C30 WB_247fe479-4d38-4fd5-935c-8e2d73150b12_1',\n",
       " '874b0dfa-ab3d-47da-ac75-5fd7b9bdea42_3_C30 WB_8298a4fd-7bfb-4eea-bf30-c2ea9e11afe2_1',\n",
       " '874b0dfa-ab3d-47da-ac75-5fd7b9bdea42_3_C30 WB_936443c8-73da-4b68-9626-afff50be557c_2',\n",
       " '874b0dfa-ab3d-47da-ac75-5fd7b9bdea42_3_C30 WB_b0c096a2-4c32-4675-b005-43b58b3781e6_15',\n",
       " '8_3_32_14_4',\n",
       " '8_3_8_80009_23',\n",
       " '8_3_8_80010_22',\n",
       " '8_3_Blue Line_8_1',\n",
       " '8f305689-4315-445e-abea-920dbbf0be5e_3_Toy Story Line_589006db-7e3b-4faf-8254-a4b3cbe38fe0_45',\n",
       " '8f305689-4315-445e-abea-920dbbf0be5e_3_Toy Story Line_c8dde9c3-28f7-48ee-a181-17bc46e2738e_29',\n",
       " '91673676-969b-4c0a-a233-158c98c522dc_3_C40 NB_41b533e2-15e3-4dc2-9434-ebe2bdd5dd95_12',\n",
       " '91_3_91_910186_2',\n",
       " '91_3_91_910193_27',\n",
       " '91_3_91_910194_27',\n",
       " '92_3_92_920135_26',\n",
       " '92_3_92_920136_24',\n",
       " '93_3_93_930173_1',\n",
       " '93_3_93_930174_29',\n",
       " '93_3_93_930175_27',\n",
       " '94_3_94_940171_1',\n",
       " '94_3_94_940172_1',\n",
       " '94_3_94_940173_1',\n",
       " '953_3_A2_27254_13',\n",
       " '953_3_A2_27347_1',\n",
       " '957_3_A1_27179_11',\n",
       " '957_3_A1_27182_2',\n",
       " '958_3_P_27362_10',\n",
       " '972_3_T_27260_15',\n",
       " '973_3_W1_27366_10',\n",
       " '973_3_W1_27373_4',\n",
       " '973_3_W1_27388_1',\n",
       " '9_3_41_15_1',\n",
       " 'AISF_4_AISF_AISF0001_4',\n",
       " 'AISF_4_AISF_AISF0003_4',\n",
       " 'Blue-N_1_Blue-N_012A_shp_58',\n",
       " 'Blue-N_1_Blue-N_012B_shp_1',\n",
       " 'Blue-S_1_Blue-S_011A_shp_58',\n",
       " 'Blue-S_1_Blue-S_011B_shp_1',\n",
       " 'D1_3_D1_f7d7731e-0d6c-4a39-b9c4-383643909e11_12',\n",
       " 'D2_3_D2_30279c71-82b4-452a-b0e5-06d255d9b523_12',\n",
       " 'D3_3_D3_03f09f84-a86e-4d40-9b66-df211769c9a8_12',\n",
       " 'D4_3_D4_0134cabb-896c-4128-9cf8-7978db94d314_12',\n",
       " 'DC_3_DC_4e3e305e-e9f3-44cc-8a7a-7315bfeacb14_9',\n",
       " 'EmExp_3_EmExp_EmExp1_16',\n",
       " 'GatewayCoach_3_Gateway Coach_p_1274268_4',\n",
       " 'GatewayCoach_3_Gateway Coach_p_1274269_3',\n",
       " 'GatewayCoach_3_Gateway Coach_p_1274324_1',\n",
       " 'Green-N_1_Green-N_006A_shp_37',\n",
       " 'Green-N_1_Green-N_006B_shp_3',\n",
       " 'Green-S_1_Green-S_005A_shp_43',\n",
       " 'Green-S_1_Green-S_005B_shp_2',\n",
       " 'GreenLine_3_Green Line_p_1276362_13',\n",
       " 'Grey-N_1_Grey-N_019_shp_185',\n",
       " 'Grey-S_1_Grey-S_020_shp_185',\n",
       " 'HuntingtonParkExpress_3_Huntington Park Express_p_914785_30',\n",
       " 'LSSF_4_LSSF_LSSF0005_16',\n",
       " 'LSSF_4_LSSF_LSSF0006_16',\n",
       " 'LunchtimeShuttle_3_Lunchtime Shuttle_p_1276363_7',\n",
       " 'NorthRoute_3__p_901781_10',\n",
       " 'NorthRoute_3__p_901783_10',\n",
       " 'NorthRoute_3__p_910561_3',\n",
       " 'NortheastRoute_3__p_910557_9',\n",
       " 'NortheastRoute_3__p_910560_1',\n",
       " 'NorthwestRoute_3__p_910543_8',\n",
       " 'Orange-N_1_Orange-N_003A_shp_1',\n",
       " 'Orange-N_1_Orange-N_003B_shp_1',\n",
       " 'Orange-N_1_Orange-N_003C_shp_58',\n",
       " 'Orange-S_1_Orange-S_004A_shp_60',\n",
       " 'Red-N_1_Red-N_008A_shp_45',\n",
       " 'Red-S_1_Red-S_007A_shp_45',\n",
       " 'Route1_3__p_901560_15',\n",
       " 'Route2_3__p_901716_15',\n",
       " 'RouteA-Red_3_Route A - Red_p_1274706_19',\n",
       " 'RouteA-Red_3_Route A - Red_p_1274762_1',\n",
       " 'RouteB-Green_3_Route B - Green_p_1274846_22',\n",
       " 'RouteB-Green_3_Route B - Green_p_1274847_1',\n",
       " 'RouteC-Purple_3_Route C - Purple_p_1274848_10',\n",
       " 'RouteC-Purple_3_Route C - Purple_p_1274856_1',\n",
       " 'RouteD-Blue_3_Route D - Blue_p_1274894_20',\n",
       " 'RouteD-Blue_3_Route D - Blue_p_1274944_1',\n",
       " 'SSSF_4_SSSF_SSSF0001_2',\n",
       " 'SSSF_4_SSSF_SSSF0002_5',\n",
       " 'SSSF_4_SSSF_SSSF0003_5',\n",
       " 'SSSF_4_SSSF_SSSF0005_2',\n",
       " 'SouthRoute_3__p_901785_10',\n",
       " 'SouthRoute_3__p_901786_10',\n",
       " 'SouthRoute_3__p_910587_3',\n",
       " 'SoutheastRoute_3__p_910580_12',\n",
       " 'SoutheastRoute_3__p_910583_1',\n",
       " 'SoutheastRoute_3__p_910584_1',\n",
       " 'SoutheastRoute_3__p_910585_1',\n",
       " 'SouthwestRoute_3__p_910562_9',\n",
       " 'SouthwestRoute_3__p_910573_1',\n",
       " 'T11x_3_11X Loop_222a6007-3319-4ce3-8017-52c14549ad28:T_1',\n",
       " 'T11x_3_11X Loop_222a6007-3319-4ce3-8017-52c14549ad28_2',\n",
       " 'T11x_3_11X Loop_552da5a3-dad0-4ac7-96bf-1f92674d2e45:T_1',\n",
       " 'T11x_3_11X Loop_552da5a3-dad0-4ac7-96bf-1f92674d2e45_2',\n",
       " 'T11x_3_11X Loop_b46879df-8037-4e3b-bfdf-70e82140ec81:T_1',\n",
       " 'T11x_3_11X Loop_b46879df-8037-4e3b-bfdf-70e82140ec81_2',\n",
       " 'T11x_3_11X Loop_d5739816-c1c0-4bd2-8173-505091144ef2:T_1',\n",
       " 'T11x_3_11X Loop_d5739816-c1c0-4bd2-8173-505091144ef2_2',\n",
       " 'T11x_3_11X Loop_ed8bf56b-169e-4de7-8c8d-62a2faf88769:T_1',\n",
       " 'T11x_3_11X Loop_ed8bf56b-169e-4de7-8c8d-62a2faf88769_2',\n",
       " 'T1_3_T1_0ceec8ca-2041-4282-9aec-e4f3152cb3f3:T_1',\n",
       " 'T1_3_T1_0ceec8ca-2041-4282-9aec-e4f3152cb3f3_1',\n",
       " 'T1_3_T1_35d3378b-bd50-4abf-9630-ce9abc2da895_1',\n",
       " 'T1_3_T1_38b423f9-fc41-4503-87dc-70429a643ffc:T_1',\n",
       " 'T1_3_T1_38b423f9-fc41-4503-87dc-70429a643ffc_2',\n",
       " 'T1_3_T1_4a704c60-1d77-4964-b41b-b73a8b99503d:T_1',\n",
       " 'T1_3_T1_4a704c60-1d77-4964-b41b-b73a8b99503d_2',\n",
       " 'T1_3_T1_6d4dccd5-b850-4615-8c9d-f2da844f046c:T_1',\n",
       " 'T1_3_T1_6d4dccd5-b850-4615-8c9d-f2da844f046c_2',\n",
       " 'T1_3_T1_cc1b01a2-5647-4173-b11c-01da1086908e:T_1',\n",
       " 'T1_3_T1_cc1b01a2-5647-4173-b11c-01da1086908e_4',\n",
       " 'T1_3_T1_f4f92496-75ea-4729-8ad2-83964bd5f022_1',\n",
       " 'T2_3_T2_0c3446ba-d10a-4f68-83ff-bedb48f56576_1',\n",
       " 'T2_3_T2_1c817a12-c606-44bc-aa45-e34b5a121fda:T_1',\n",
       " 'T2_3_T2_1c817a12-c606-44bc-aa45-e34b5a121fda_1',\n",
       " 'T2_3_T2_22373c17-8407-48fd-ab19-3e826d797719:T_1',\n",
       " 'T2_3_T2_22373c17-8407-48fd-ab19-3e826d797719_4',\n",
       " 'T2_3_T2_67719bec-314f-47f2-84ba-75731a19fb4b:T_1',\n",
       " 'T2_3_T2_67719bec-314f-47f2-84ba-75731a19fb4b_1',\n",
       " 'T2_3_T2_781800cc-e8e7-4226-aeaa-f23a5a822e92:T_1',\n",
       " 'T2_3_T2_781800cc-e8e7-4226-aeaa-f23a5a822e92_1',\n",
       " 'T2_3_T2_dde45751-2133-4116-af68-60100a6c8dce:T_1',\n",
       " 'T2_3_T2_dde45751-2133-4116-af68-60100a6c8dce_2',\n",
       " 'T2_3_T2_f4cb0044-5735-4934-835d-f78b452b64fc:T_1',\n",
       " 'T2_3_T2_f4cb0044-5735-4934-835d-f78b452b64fc_2',\n",
       " 'T3_3_T3_07167c7e-7384-474c-ac3a-f807f095cf5b:T_1',\n",
       " 'T3_3_T3_07167c7e-7384-474c-ac3a-f807f095cf5b_2',\n",
       " 'T3_3_T3_0aa27c5c-3570-485b-af23-20e461374075:T_1',\n",
       " 'T3_3_T3_0aa27c5c-3570-485b-af23-20e461374075_4',\n",
       " 'T3_3_T3_38312e85-cedf-4bfb-b4f3-1b205be64217:T_1',\n",
       " 'T3_3_T3_38312e85-cedf-4bfb-b4f3-1b205be64217_2',\n",
       " 'T3_3_T3_420738ba-daa9-441c-b073-6fe40b999de4_1',\n",
       " 'T3_3_T3_7443d6fb-a287-4550-b1c1-8a977cd88549:T_1',\n",
       " 'T3_3_T3_7443d6fb-a287-4550-b1c1-8a977cd88549_1',\n",
       " 'T3_3_T3_9ba04530-4dc6-4874-af37-4c582a6defdb:T_1',\n",
       " 'T3_3_T3_9ba04530-4dc6-4874-af37-4c582a6defdb_2',\n",
       " 'T3_3_T3_effa143c-892e-4c6b-84e3-c3fa970d4c8f_1',\n",
       " 'T4_3_T4_089419a8-1d25-4697-bea0-fe71bee2bcb5:T_1',\n",
       " 'T4_3_T4_089419a8-1d25-4697-bea0-fe71bee2bcb5_1',\n",
       " 'T4_3_T4_09d6ea2c-33ce-433a-8982-01fda3c224b1:T_1',\n",
       " 'T4_3_T4_09d6ea2c-33ce-433a-8982-01fda3c224b1_2',\n",
       " 'T4_3_T4_28a03d9a-0823-4ea0-9e82-c3d95d848c4f:T_1',\n",
       " 'T4_3_T4_28a03d9a-0823-4ea0-9e82-c3d95d848c4f_2',\n",
       " 'T4_3_T4_294554a1-c943-4146-8d9f-45c0d55a5b26:T_1',\n",
       " 'T4_3_T4_294554a1-c943-4146-8d9f-45c0d55a5b26_3',\n",
       " 'T4_3_T4_b424c86a-88f0-4e5d-8c07-1b44172e5a18:T_1',\n",
       " 'T4_3_T4_b424c86a-88f0-4e5d-8c07-1b44172e5a18_1',\n",
       " 'T4_3_T4_c308a57f-cf0e-4d69-8380-fce706beca15:T_1',\n",
       " 'T4_3_T4_c308a57f-cf0e-4d69-8380-fce706beca15_1',\n",
       " 'T4_3_T4_fb7313b6-f7c8-486f-b966-b3298cb99de0:T_1',\n",
       " 'T4_3_T4_fb7313b6-f7c8-486f-b966-b3298cb99de0_1',\n",
       " 'T5_3_T5_07f0e530-9198-437e-b234-51e811ee0762:T_1',\n",
       " 'T5_3_T5_07f0e530-9198-437e-b234-51e811ee0762_1',\n",
       " 'T5_3_T5_2b164751-bc52-44d8-8b42-2ddfe6c229a1:T_1',\n",
       " 'T5_3_T5_2b164751-bc52-44d8-8b42-2ddfe6c229a1_1',\n",
       " 'T5_3_T5_37659db2-2efa-45db-92a4-c30d48f82b4b:T_1',\n",
       " 'T5_3_T5_37659db2-2efa-45db-92a4-c30d48f82b4b_1',\n",
       " 'T5_3_T5_b008fa47-7d9b-4f90-814a-e80ec947b9aa:T_1',\n",
       " 'T5_3_T5_b008fa47-7d9b-4f90-814a-e80ec947b9aa_2',\n",
       " 'T5_3_T5_c3c56393-c089-4dac-b1a9-42f55d9f5920:T_1',\n",
       " 'T5_3_T5_c3c56393-c089-4dac-b1a9-42f55d9f5920_2',\n",
       " 'T5_3_T5_cb3e4409-b39d-48d3-ac18-4683e1ba240c:T_1',\n",
       " 'T5_3_T5_cb3e4409-b39d-48d3-ac18-4683e1ba240c_1',\n",
       " 'T5_3_T5_ef024b0f-2a83-476b-b245-b45e7ca30b0c:T_1',\n",
       " 'T5_3_T5_ef024b0f-2a83-476b-b245-b45e7ca30b0c_3',\n",
       " 'T6_3_T6_15162fc1-b654-47d7-afcd-924df876eb3c:T_1',\n",
       " 'T6_3_T6_15162fc1-b654-47d7-afcd-924df876eb3c_2',\n",
       " 'T6_3_T6_35949709-51cc-4c0d-b739-7694e67e1bf7:T_1',\n",
       " 'T6_3_T6_5cb97be7-10e4-4819-bcf6-45746a2c06db:T_1',\n",
       " 'T6_3_T6_5cb97be7-10e4-4819-bcf6-45746a2c06db_1',\n",
       " 'T6_3_T6_7ff1971c-663f-4944-a18c-8b0fec0096a9:T_1',\n",
       " 'T6_3_T6_7ff1971c-663f-4944-a18c-8b0fec0096a9_3',\n",
       " 'T6_3_T6_8e8aec2d-2faf-460a-b188-b8e3dc3592a1:T_1',\n",
       " 'T6_3_T6_8e8aec2d-2faf-460a-b188-b8e3dc3592a1_3',\n",
       " 'T6_3_T6_a1b701c2-ead2-4b28-ad69-cd58d8e3340d:T_1',\n",
       " 'T6_3_T6_a1b701c2-ead2-4b28-ad69-cd58d8e3340d_1',\n",
       " 'T6_3_T6_ad056bea-c829-436b-9798-ee53fa9b9d46:T_1',\n",
       " 'T6_3_T6_ad056bea-c829-436b-9798-ee53fa9b9d46_1',\n",
       " 'TBSF_4_TBSF_TBSF0001_5',\n",
       " 'TBSF_4_TBSF_TBSF0002_5',\n",
       " 'TBSF_4_TBSF_TBSF0004_1',\n",
       " 'TBSF_4_TBSF_TBSF0005_2',\n",
       " 'TL-1_3_Employee Parking - Terminal 1_TL-1_1',\n",
       " 'TL-2_3_Employee Parking - Terminal 2_TL-2_1',\n",
       " 'TL-2_3__TL-2_5',\n",
       " 'TL-3_3_San Diego Flyer (Old Town Trolley)_TL-3_1',\n",
       " 'TL-3_3__TL-3_4',\n",
       " 'TL-42_3_Yosemite Express_TL-42_27',\n",
       " 'TL-44_3_C1_TL-44_13',\n",
       " 'TL-45_3_C2_TL-45_15',\n",
       " 'TL-46_3__TL-46_13',\n",
       " 'TL-47_3_FastCat_TL-47_14',\n",
       " 'TL-48_3_FastCat 2_TL-48_12',\n",
       " 'TL-49_3_BobCat Express_TL-49_13',\n",
       " 'TL-4_3_Inter-Terminal Shuttle_TL-4_1',\n",
       " 'TL-4_3_LAX Economy Parking_TL-4_18',\n",
       " 'TL-50_3_E1_TL-50_15',\n",
       " 'TL-51_3_E2_TL-51_13',\n",
       " 'TL-5_3_All_TL-5_1',\n",
       " 'TL-7_3_Metro Connector_TL-7_10',\n",
       " 'TRRoute_3_TR_c1aef5aa-097e-4c75-8404-0c8295c3b46d_2',\n",
       " 'TRRoute_3_TR_dbda768d-dd7d-4a53-9268-bcde204b3f14_3',\n",
       " 'Yellow-N_1_Yellow-N_002A_shp_58',\n",
       " 'Yellow-N_1_Yellow-N_002B_shp_44',\n",
       " 'Yellow-N_1_Yellow-N_002C_shp_2',\n",
       " 'Yellow-N_1_Yellow-N_002D_shp_1',\n",
       " 'Yellow-N_1_Yellow-N_002E_shp_12',\n",
       " 'Yellow-S_1_Yellow-S_001A_shp_57',\n",
       " 'Yellow-S_1_Yellow-S_001B_shp_45',\n",
       " 'Yellow-S_1_Yellow-S_001E_shp_1',\n",
       " 'Yellow-S_1_Yellow-S_001F_shp_2',\n",
       " 'Yellow-S_1_Yellow-S_001G_shp_12',\n",
       " 'YellowLine_3_Yellow Line_p_1276449_13',\n",
       " 'a9322ef7-f7de-4bfc-8388-77ffe3694adb_3_Manchester Line_5dc206e3-66e8-4db6-9b61-d0d7aef7d0e1_1',\n",
       " 'a99dfbb6-51c0-421d-ad58-ed43a6b1262a_3_15_2953ec58-aeb4-4557-b6d7-d788e9ba101f_1',\n",
       " 'a99dfbb6-51c0-421d-ad58-ed43a6b1262a_3_15_67f62de7-fe54-42e2-847f-831bab822d2e_1',\n",
       " 'a99dfbb6-51c0-421d-ad58-ed43a6b1262a_3_15_6ee3bca1-e497-484b-be70-8b9442c794f5_1',\n",
       " 'a99dfbb6-51c0-421d-ad58-ed43a6b1262a_3_15_b6897548-5330-4769-8696-e3f715b81798_1',\n",
       " 'a99dfbb6-51c0-421d-ad58-ed43a6b1262a_3_15_bc8730e2-ffa8-4806-8448-fb743880bd9d_1',\n",
       " 'a99dfbb6-51c0-421d-ad58-ed43a6b1262a_3_15_caa4fab3-e144-4d5e-ac58-02865620af21_1',\n",
       " 'a99dfbb6-51c0-421d-ad58-ed43a6b1262a_3_15_dedb2dbe-961b-48d6-9503-51843bb88a7e_1',\n",
       " 'a99dfbb6-51c0-421d-ad58-ed43a6b1262a_3_15_ec50649b-b8d8-472f-b83f-f01fb27517b2_1',\n",
       " 'bc404235-c139-4efb-90fb-798fbbddc35c_3_Grove District Line_0a4e19d9-9588-45f2-9e5e-1097ec096c41_1',\n",
       " 'bc404235-c139-4efb-90fb-798fbbddc35c_3_Grove District Line_48f1f276-eaf2-440d-bcf3-b72b606a7553_1',\n",
       " 'bc404235-c139-4efb-90fb-798fbbddc35c_3_Grove District Line_6eb93d50-fc67-45fd-bf0c-098a4e62ef3c_1',\n",
       " 'bc404235-c139-4efb-90fb-798fbbddc35c_3_Grove District Line_c977e473-c446-44cd-b30c-11a216da8349_1',\n",
       " 'c6726149-9979-4ebb-85f6-0be90402266c_3_C10 SB_079da5de-1670-486f-ac11-006821617b69_1',\n",
       " 'c6726149-9979-4ebb-85f6-0be90402266c_3_C10 SB_5052b697-64ba-4d64-a82c-665a1b80a1b5_7',\n",
       " 'c6726149-9979-4ebb-85f6-0be90402266c_3_C10 SB_9aa85636-8855-4691-889b-4f5a5e4d475f_1',\n",
       " 'c6726149-9979-4ebb-85f6-0be90402266c_3_C10 SB_a4c86df0-8335-4288-acd8-800ed9ae0e56_2',\n",
       " 'c6726149-9979-4ebb-85f6-0be90402266c_3_C10 SB_efabc986-4a67-4136-b0e6-cb3977ff79d2_1',\n",
       " 'cfbe6e0f-a469-4692-9e51-b71b65ee9361_3_C80 LOOP_1126024f-ca6f-4b76-88af-8e30ff44a4bc_2',\n",
       " 'd14f6f15-2e8e-4642-aa6d-eb563ba6001d_3_07/08 Combo_23d0e421-ce85-42ec-b3bd-afc8818032ad_1',\n",
       " 'd14f6f15-2e8e-4642-aa6d-eb563ba6001d_3_07/08 Combo_706ed518-1c6f-4b3a-a33c-01f434b30e7a_1',\n",
       " 'd14f6f15-2e8e-4642-aa6d-eb563ba6001d_3_07/08 Combo_8bd1ba2a-87cf-46e7-95e5-8cdcd346878a_1',\n",
       " 'd14f6f15-2e8e-4642-aa6d-eb563ba6001d_3_07/08 Combo_8cbd1804-45eb-4722-96f6-41c213d2dcf3_1',\n",
       " 'd14f6f15-2e8e-4642-aa6d-eb563ba6001d_3_07/08 Combo_bfecc1e2-082b-4237-a961-1cf64e2bd19d_1',\n",
       " 'd14f6f15-2e8e-4642-aa6d-eb563ba6001d_3_07/08 Combo_c543e584-d9e0-49ba-aa19-e02a4ede401e_1',\n",
       " 'd355ed8f-c426-45f3-b58e-5cc686890878_3_03/04 Combo_17d0642e-8165-4239-8405-cd2d3cc2de94_1',\n",
       " 'd355ed8f-c426-45f3-b58e-5cc686890878_3_03/04 Combo_6bfdde4d-b509-4171-8e03-5cd835cfd7c3_1',\n",
       " 'd355ed8f-c426-45f3-b58e-5cc686890878_3_03/04 Combo_ccb0142d-7661-4282-bb8a-23ab161a9242_1',\n",
       " 'd355ed8f-c426-45f3-b58e-5cc686890878_3_03/04 Combo_e545ec6b-5917-494d-a89b-9eb01261d574_1',\n",
       " 'e430d571-76bd-45d4-8b01-76e3ef7c3ae1_3_C20 SB_158ee6e3-28eb-420a-888f-3bd259ac325a_7',\n",
       " 'e430d571-76bd-45d4-8b01-76e3ef7c3ae1_3_C20 SB_6e26f568-aa80-425d-96c0-67deae501200_2',\n",
       " 'e430d571-76bd-45d4-8b01-76e3ef7c3ae1_3_C20 SB_cda18a82-e8d5-4736-8218-10e3325c1dae_1',\n",
       " 'eb645870-8a67-485a-b234-bae6d925be60_3_C90_072ce0cc-d2c6-4358-8e91-87408bb21680_2',\n",
       " 'eb645870-8a67-485a-b234-bae6d925be60_3_C90_3a83b442-5d81-487a-89ec-ef0861b9ba56_1',\n",
       " 'eb645870-8a67-485a-b234-bae6d925be60_3_C90_3c10fc4d-8c73-4d8a-91d1-be667431f03a_2',\n",
       " 'eb645870-8a67-485a-b234-bae6d925be60_3_C90_50f54333-b8c1-4001-b80d-6687db07eb35_1',\n",
       " 'eb645870-8a67-485a-b234-bae6d925be60_3_C90_61df1d3f-e3ad-45aa-93b7-d9f0a1419903_1',\n",
       " 'eb645870-8a67-485a-b234-bae6d925be60_3_C90_6f47955f-7c9d-4f2d-94bb-e08f9b2181b2_1',\n",
       " 'eb645870-8a67-485a-b234-bae6d925be60_3_C90_de5e25e4-df97-4882-9dff-42695cb51fd9_1',\n",
       " 'eb71ec26-dabb-4704-97a6-b851a1d06eb2_3_Harbor Line_25699528-44e7-42ec-9fda-05268c766ba4_1',\n",
       " 'eb71ec26-dabb-4704-97a6-b851a1d06eb2_3_Harbor Line_444f7210-cfdd-4d88-aa41-68c98429609b_1',\n",
       " 'eb71ec26-dabb-4704-97a6-b851a1d06eb2_3_Harbor Line_9a6daa8f-4d03-41e6-bc7e-988b65faadbe_1',\n",
       " 'eb71ec26-dabb-4704-97a6-b851a1d06eb2_3_Harbor Line_b14152b0-7532-4695-84d4-5f259dc8396f_1',\n",
       " 'f17cd7a6-d88c-4e61-a6a6-fe87a775d3c8_3_Hotel Circle Line_8166711d-0f10-479e-89f2-feaeb4140e2a_1',\n",
       " 'fe28ed1e-274e-402a-b0c1-3f8d1bf9b7c5_3_09/11 Combo_3b6082d5-c032-45b3-9c6b-e6a4e3d9531f_1',\n",
       " 'fe28ed1e-274e-402a-b0c1-3f8d1bf9b7c5_3_09/11 Combo_6034db99-5ec6-4ebe-a365-e9cfde12514a_1',\n",
       " 'fe28ed1e-274e-402a-b0c1-3f8d1bf9b7c5_3_09/11 Combo_be916530-7e22-4dc2-aa47-c34816bf5313_1',\n",
       " 'fe28ed1e-274e-402a-b0c1-3f8d1bf9b7c5_3_09/11 Combo_c249ce3d-8d0a-4e35-a4de-d8279b5f211b_1',\n",
       " 'fe28ed1e-274e-402a-b0c1-3f8d1bf9b7c5_3_09/11 Combo_f36c3111-6083-4076-a446-7b192be7f413_1',\n",
       " 'fe28ed1e-274e-402a-b0c1-3f8d1bf9b7c5_3_09/11 Combo_fbe17a6e-7cdc-4e2d-9b90-71e12c56a884_1',\n",
       " 'ff214815-c1ed-4f96-857a-e525f37efa98_3_Disney Way_1cb07873-4da8-4e14-99bc-24ec59a0c56e_1',\n",
       " 'mbt_fixed route_3_General public Fixed Route within City limits_3xki_12',\n",
       " 'mbt_fixed route_3_General public Fixed Route within City limits_qoj4_1'}"
      ]
     },
     "execution_count": 72,
     "metadata": {},
     "output_type": "execute_result"
    }
   ],
   "source": [
    "set(og_routes_list) - set(final_routes_list)"
   ]
  },
  {
   "cell_type": "markdown",
   "id": "25092fb9-193d-4297-a3fb-a6e381d40e91",
   "metadata": {},
   "source": [
    "### Beaumount - disappears"
   ]
  },
  {
   "cell_type": "code",
   "execution_count": 96,
   "id": "4872825a-3a89-419f-adad-57b12096c72a",
   "metadata": {
    "tags": []
   },
   "outputs": [],
   "source": [
    "beaumont_published = published_routes.loc[\n",
    "    (published_routes.route_id == \"16684\")\n",
    "    & (published_routes.shape_id == \"p_1433210\")\n",
    "    & (published_routes.n_trips == 9)\n",
    "    & (\n",
    "        published_routes.route_name_used\n",
    "        == \"Express service from Beaumont Walmart to Casino Morongo and Outlet Mall\"\n",
    "    )\n",
    "]"
   ]
  },
  {
   "cell_type": "code",
   "execution_count": 97,
   "id": "fe9d2e31-f62e-40c8-b16c-efa4c6b8b171",
   "metadata": {
    "tags": []
   },
   "outputs": [
    {
     "data": {
      "text/html": [
       "<div>\n",
       "<style scoped>\n",
       "    .dataframe tbody tr th:only-of-type {\n",
       "        vertical-align: middle;\n",
       "    }\n",
       "\n",
       "    .dataframe tbody tr th {\n",
       "        vertical-align: top;\n",
       "    }\n",
       "\n",
       "    .dataframe thead th {\n",
       "        text-align: right;\n",
       "    }\n",
       "</style>\n",
       "<table border=\"1\" class=\"dataframe\">\n",
       "  <thead>\n",
       "    <tr style=\"text-align: right;\">\n",
       "      <th></th>\n",
       "      <th>n_trips</th>\n",
       "      <th>name</th>\n",
       "      <th>schedule_gtfs_dataset_key</th>\n",
       "      <th>route_id</th>\n",
       "      <th>route_type</th>\n",
       "      <th>shape_id</th>\n",
       "      <th>route_name_used</th>\n",
       "      <th>route_length_feet</th>\n",
       "      <th>base64_url</th>\n",
       "      <th>organization_source_record_id</th>\n",
       "      <th>organization_name</th>\n",
       "      <th>caltrans_district</th>\n",
       "    </tr>\n",
       "  </thead>\n",
       "  <tbody>\n",
       "    <tr>\n",
       "      <th>15935</th>\n",
       "      <td>9</td>\n",
       "      <td>Beaumont Pass Schedule</td>\n",
       "      <td>680328d33847441ab0037bc3861e5763</td>\n",
       "      <td>16684</td>\n",
       "      <td>3</td>\n",
       "      <td>p_1433210</td>\n",
       "      <td>Express service from Beaumont Walmart to Casino Morongo and Outlet Mall</td>\n",
       "      <td>NaN</td>\n",
       "      <td>aHR0cHM6Ly9kYXRhLnRyaWxsaXVtdHJhbnNpdC5jb20vZ3Rmcy9iZWF1bW9udC1jYS11cy9iZWF1bW9udC1jYS11cy56aXA=</td>\n",
       "      <td>reciWrBgYsAIm9eKK</td>\n",
       "      <td>City of Beaumont</td>\n",
       "      <td>NaN</td>\n",
       "    </tr>\n",
       "  </tbody>\n",
       "</table>\n",
       "</div>"
      ],
      "text/plain": [
       "       n_trips                    name         schedule_gtfs_dataset_key  \\\n",
       "15935        9  Beaumont Pass Schedule  680328d33847441ab0037bc3861e5763   \n",
       "\n",
       "      route_id route_type   shape_id  \\\n",
       "15935    16684          3  p_1433210   \n",
       "\n",
       "                                                               route_name_used  \\\n",
       "15935  Express service from Beaumont Walmart to Casino Morongo and Outlet Mall   \n",
       "\n",
       "       route_length_feet  \\\n",
       "15935                NaN   \n",
       "\n",
       "                                                                                             base64_url  \\\n",
       "15935  aHR0cHM6Ly9kYXRhLnRyaWxsaXVtdHJhbnNpdC5jb20vZ3Rmcy9iZWF1bW9udC1jYS11cy9iZWF1bW9udC1jYS11cy56aXA=   \n",
       "\n",
       "      organization_source_record_id organization_name caltrans_district  \n",
       "15935             reciWrBgYsAIm9eKK  City of Beaumont               NaN  "
      ]
     },
     "execution_count": 97,
     "metadata": {},
     "output_type": "execute_result"
    }
   ],
   "source": [
    "beaumont_published.drop(columns=[\"geometry\"])"
   ]
  },
  {
   "cell_type": "code",
   "execution_count": 111,
   "id": "fff34f02-21b1-4b65-b440-164154d40f9f",
   "metadata": {
    "tags": []
   },
   "outputs": [
    {
     "data": {
      "text/html": [
       "<div>\n",
       "<style scoped>\n",
       "    .dataframe tbody tr th:only-of-type {\n",
       "        vertical-align: middle;\n",
       "    }\n",
       "\n",
       "    .dataframe tbody tr th {\n",
       "        vertical-align: top;\n",
       "    }\n",
       "\n",
       "    .dataframe thead th {\n",
       "        text-align: right;\n",
       "    }\n",
       "</style>\n",
       "<table border=\"1\" class=\"dataframe\">\n",
       "  <thead>\n",
       "    <tr style=\"text-align: right;\">\n",
       "      <th></th>\n",
       "      <th>portfolio_organization_name</th>\n",
       "      <th>route_id</th>\n",
       "      <th>route_type</th>\n",
       "      <th>route_name_used</th>\n",
       "      <th>route_length_feet</th>\n",
       "      <th>shape_id</th>\n",
       "      <th>n_trips</th>\n",
       "      <th>base64_url</th>\n",
       "      <th>shn_route</th>\n",
       "      <th>on_shs</th>\n",
       "      <th>shn_districts</th>\n",
       "      <th>pct_route_on_hwy_across_districts</th>\n",
       "      <th>is_express</th>\n",
       "      <th>is_ferry</th>\n",
       "      <th>is_rail</th>\n",
       "      <th>is_coverage</th>\n",
       "      <th>is_local</th>\n",
       "      <th>is_downtown_local</th>\n",
       "      <th>is_rapid</th>\n",
       "    </tr>\n",
       "  </thead>\n",
       "  <tbody>\n",
       "    <tr>\n",
       "      <th>7132</th>\n",
       "      <td>City of Beaumont</td>\n",
       "      <td>16684</td>\n",
       "      <td>3</td>\n",
       "      <td>Casino Express</td>\n",
       "      <td>27429.63</td>\n",
       "      <td>p_1433210</td>\n",
       "      <td>9</td>\n",
       "      <td>aHR0cHM6Ly9kYXRhLnRyaWxsaXVtdHJhbnNpdC5jb20vZ3Rmcy9iZWF1bW9udC1jYS11cy9iZWF1bW9udC1jYS11cy56aXA=</td>\n",
       "      <td>79</td>\n",
       "      <td>1</td>\n",
       "      <td>8</td>\n",
       "      <td>0.40</td>\n",
       "      <td>1.00</td>\n",
       "      <td>0.00</td>\n",
       "      <td>0.00</td>\n",
       "      <td>0.00</td>\n",
       "      <td>0.00</td>\n",
       "      <td>0.00</td>\n",
       "      <td>0.00</td>\n",
       "    </tr>\n",
       "  </tbody>\n",
       "</table>\n",
       "</div>"
      ],
      "text/plain": [
       "     portfolio_organization_name route_id route_type route_name_used  \\\n",
       "7132            City of Beaumont    16684          3  Casino Express   \n",
       "\n",
       "      route_length_feet   shape_id  n_trips  \\\n",
       "7132           27429.63  p_1433210        9   \n",
       "\n",
       "                                                                                            base64_url  \\\n",
       "7132  aHR0cHM6Ly9kYXRhLnRyaWxsaXVtdHJhbnNpdC5jb20vZ3Rmcy9iZWF1bW9udC1jYS11cy9iZWF1bW9udC1jYS11cy56aXA=   \n",
       "\n",
       "     shn_route  on_shs shn_districts  pct_route_on_hwy_across_districts  \\\n",
       "7132        79       1             8                               0.40   \n",
       "\n",
       "      is_express  is_ferry  is_rail  is_coverage  is_local  is_downtown_local  \\\n",
       "7132        1.00      0.00     0.00         0.00      0.00               0.00   \n",
       "\n",
       "      is_rapid  \n",
       "7132      0.00  "
      ]
     },
     "execution_count": 111,
     "metadata": {},
     "output_type": "execute_result"
    }
   ],
   "source": [
    "final.loc[\n",
    "    (final.route_id == \"16684\")\n",
    "    & (final.shape_id == \"p_1433210\")\n",
    "    & (final.n_trips == 9)].drop(columns=[\"geometry\"])"
   ]
  },
  {
   "cell_type": "code",
   "execution_count": 98,
   "id": "62c87041-8465-4664-9483-0fd0fb27c946",
   "metadata": {
    "tags": []
   },
   "outputs": [],
   "source": [
    "beaumont_route_types = route_types.loc[\n",
    "    (route_types.route_id == \"16684\")\n",
    "    & (route_types.shape_id == \"p_1433210\")\n",
    "    & (route_types.n_trips == 9)\n",
    "    & (\n",
    "        route_types.route_name_used\n",
    "        == \"Express service from Beaumont Walmart to Casino Morongo and Outlet Mall\"\n",
    "    )\n",
    "]"
   ]
  },
  {
   "cell_type": "code",
   "execution_count": 99,
   "id": "8b6e4637-57aa-4872-99d5-77c885b92101",
   "metadata": {
    "tags": []
   },
   "outputs": [
    {
     "data": {
      "text/html": [
       "<div>\n",
       "<style scoped>\n",
       "    .dataframe tbody tr th:only-of-type {\n",
       "        vertical-align: middle;\n",
       "    }\n",
       "\n",
       "    .dataframe tbody tr th {\n",
       "        vertical-align: top;\n",
       "    }\n",
       "\n",
       "    .dataframe thead th {\n",
       "        text-align: right;\n",
       "    }\n",
       "</style>\n",
       "<table border=\"1\" class=\"dataframe\">\n",
       "  <thead>\n",
       "    <tr style=\"text-align: right;\">\n",
       "      <th></th>\n",
       "      <th>n_trips</th>\n",
       "      <th>name</th>\n",
       "      <th>schedule_gtfs_dataset_key</th>\n",
       "      <th>route_id</th>\n",
       "      <th>route_type</th>\n",
       "      <th>shape_id</th>\n",
       "      <th>route_name_used</th>\n",
       "      <th>route_length_feet</th>\n",
       "      <th>base64_url</th>\n",
       "      <th>organization_source_record_id</th>\n",
       "      <th>organization_name</th>\n",
       "      <th>caltrans_district</th>\n",
       "      <th>shn_route</th>\n",
       "      <th>shn_districts</th>\n",
       "      <th>pct_route_on_hwy_across_districts</th>\n",
       "      <th>on_shs</th>\n",
       "      <th>is_express</th>\n",
       "      <th>is_ferry</th>\n",
       "      <th>is_rail</th>\n",
       "      <th>is_coverage</th>\n",
       "      <th>is_local</th>\n",
       "      <th>is_downtown_local</th>\n",
       "      <th>is_rapid</th>\n",
       "      <th>year</th>\n",
       "    </tr>\n",
       "  </thead>\n",
       "  <tbody>\n",
       "    <tr>\n",
       "      <th>15935</th>\n",
       "      <td>9</td>\n",
       "      <td>Beaumont Pass Schedule</td>\n",
       "      <td>680328d33847441ab0037bc3861e5763</td>\n",
       "      <td>16684</td>\n",
       "      <td>3</td>\n",
       "      <td>p_1433210</td>\n",
       "      <td>Express service from Beaumont Walmart to Casino Morongo and Outlet Mall</td>\n",
       "      <td>NaN</td>\n",
       "      <td>aHR0cHM6Ly9kYXRhLnRyaWxsaXVtdHJhbnNpdC5jb20vZ3Rmcy9iZWF1bW9udC1jYS11cy9iZWF1bW9udC1jYS11cy56aXA=</td>\n",
       "      <td>reciWrBgYsAIm9eKK</td>\n",
       "      <td>City of Beaumont</td>\n",
       "      <td>NaN</td>\n",
       "      <td>79</td>\n",
       "      <td>8</td>\n",
       "      <td>0.00</td>\n",
       "      <td>0</td>\n",
       "      <td>1.00</td>\n",
       "      <td>0.00</td>\n",
       "      <td>0.00</td>\n",
       "      <td>0.00</td>\n",
       "      <td>0.00</td>\n",
       "      <td>0.00</td>\n",
       "      <td>0.00</td>\n",
       "      <td>2024.00</td>\n",
       "    </tr>\n",
       "  </tbody>\n",
       "</table>\n",
       "</div>"
      ],
      "text/plain": [
       "       n_trips                    name         schedule_gtfs_dataset_key  \\\n",
       "15935        9  Beaumont Pass Schedule  680328d33847441ab0037bc3861e5763   \n",
       "\n",
       "      route_id route_type   shape_id  \\\n",
       "15935    16684          3  p_1433210   \n",
       "\n",
       "                                                               route_name_used  \\\n",
       "15935  Express service from Beaumont Walmart to Casino Morongo and Outlet Mall   \n",
       "\n",
       "       route_length_feet  \\\n",
       "15935                NaN   \n",
       "\n",
       "                                                                                             base64_url  \\\n",
       "15935  aHR0cHM6Ly9kYXRhLnRyaWxsaXVtdHJhbnNpdC5jb20vZ3Rmcy9iZWF1bW9udC1jYS11cy9iZWF1bW9udC1jYS11cy56aXA=   \n",
       "\n",
       "      organization_source_record_id organization_name caltrans_district  \\\n",
       "15935             reciWrBgYsAIm9eKK  City of Beaumont               NaN   \n",
       "\n",
       "      shn_route shn_districts  pct_route_on_hwy_across_districts  on_shs  \\\n",
       "15935        79             8                               0.00       0   \n",
       "\n",
       "       is_express  is_ferry  is_rail  is_coverage  is_local  \\\n",
       "15935        1.00      0.00     0.00         0.00      0.00   \n",
       "\n",
       "       is_downtown_local  is_rapid    year  \n",
       "15935               0.00      0.00 2024.00  "
      ]
     },
     "execution_count": 99,
     "metadata": {},
     "output_type": "execute_result"
    }
   ],
   "source": [
    "beaumont_route_types.drop(columns=[\"geometry\"])"
   ]
  },
  {
   "cell_type": "code",
   "execution_count": 100,
   "id": "3dc216c8-4e81-4fb2-9b6c-533e9e7a4404",
   "metadata": {
    "tags": []
   },
   "outputs": [],
   "source": [
    "beaumont_route_types2 = route_types2.loc[\n",
    "    (route_types2.route_id == \"16684\")\n",
    "    & (route_types2.shape_id == \"p_1433210\")\n",
    "    & (route_types2.n_trips == 9)\n",
    "    & (\n",
    "        route_types2.route_name_used\n",
    "        == \"Express service from Beaumont Walmart to Casino Morongo and Outlet Mall\"\n",
    "    )\n",
    "]"
   ]
  },
  {
   "cell_type": "code",
   "execution_count": 101,
   "id": "c3f1d7e9-6f8a-4e23-8937-033ac6c17cc1",
   "metadata": {
    "tags": []
   },
   "outputs": [
    {
     "data": {
      "text/html": [
       "<div>\n",
       "<style scoped>\n",
       "    .dataframe tbody tr th:only-of-type {\n",
       "        vertical-align: middle;\n",
       "    }\n",
       "\n",
       "    .dataframe tbody tr th {\n",
       "        vertical-align: top;\n",
       "    }\n",
       "\n",
       "    .dataframe thead th {\n",
       "        text-align: right;\n",
       "    }\n",
       "</style>\n",
       "<table border=\"1\" class=\"dataframe\">\n",
       "  <thead>\n",
       "    <tr style=\"text-align: right;\">\n",
       "      <th></th>\n",
       "      <th>n_trips</th>\n",
       "      <th>name_original</th>\n",
       "      <th>schedule_gtfs_dataset_key</th>\n",
       "      <th>route_id</th>\n",
       "      <th>route_type</th>\n",
       "      <th>shape_id</th>\n",
       "      <th>route_name_used</th>\n",
       "      <th>route_length_feet</th>\n",
       "      <th>base64_url_original</th>\n",
       "      <th>organization_source_record_id</th>\n",
       "      <th>organization_name</th>\n",
       "      <th>caltrans_district_original</th>\n",
       "      <th>shn_route</th>\n",
       "      <th>shn_districts</th>\n",
       "      <th>pct_route_on_hwy_across_districts</th>\n",
       "      <th>on_shs</th>\n",
       "      <th>is_express</th>\n",
       "      <th>is_ferry</th>\n",
       "      <th>is_rail</th>\n",
       "      <th>is_coverage</th>\n",
       "      <th>is_local</th>\n",
       "      <th>is_downtown_local</th>\n",
       "      <th>is_rapid</th>\n",
       "      <th>year</th>\n",
       "      <th>name</th>\n",
       "      <th>base64_url</th>\n",
       "      <th>caltrans_district</th>\n",
       "      <th>portfolio_organization_name</th>\n",
       "    </tr>\n",
       "  </thead>\n",
       "  <tbody>\n",
       "  </tbody>\n",
       "</table>\n",
       "</div>"
      ],
      "text/plain": [
       "Empty DataFrame\n",
       "Columns: [n_trips, name_original, schedule_gtfs_dataset_key, route_id, route_type, shape_id, route_name_used, route_length_feet, base64_url_original, organization_source_record_id, organization_name, caltrans_district_original, shn_route, shn_districts, pct_route_on_hwy_across_districts, on_shs, is_express, is_ferry, is_rail, is_coverage, is_local, is_downtown_local, is_rapid, year, name, base64_url, caltrans_district, portfolio_organization_name]\n",
       "Index: []"
      ]
     },
     "execution_count": 101,
     "metadata": {},
     "output_type": "execute_result"
    }
   ],
   "source": [
    "beaumont_route_types2.drop(columns=[\"geometry\"])"
   ]
  },
  {
   "cell_type": "code",
   "execution_count": 102,
   "id": "159a23e0-9d33-4d23-b8fd-8de40db40d4f",
   "metadata": {
    "tags": []
   },
   "outputs": [
    {
     "data": {
      "text/html": [
       "<div>\n",
       "<style scoped>\n",
       "    .dataframe tbody tr th:only-of-type {\n",
       "        vertical-align: middle;\n",
       "    }\n",
       "\n",
       "    .dataframe tbody tr th {\n",
       "        vertical-align: top;\n",
       "    }\n",
       "\n",
       "    .dataframe thead th {\n",
       "        text-align: right;\n",
       "    }\n",
       "</style>\n",
       "<table border=\"1\" class=\"dataframe\">\n",
       "  <thead>\n",
       "    <tr style=\"text-align: right;\">\n",
       "      <th></th>\n",
       "      <th>n_trips</th>\n",
       "      <th>name_original</th>\n",
       "      <th>schedule_gtfs_dataset_key</th>\n",
       "      <th>route_id</th>\n",
       "      <th>route_type</th>\n",
       "      <th>shape_id</th>\n",
       "      <th>route_name_used</th>\n",
       "      <th>route_length_feet</th>\n",
       "      <th>base64_url_original</th>\n",
       "      <th>organization_source_record_id</th>\n",
       "      <th>organization_name</th>\n",
       "      <th>caltrans_district_original</th>\n",
       "      <th>shn_route</th>\n",
       "      <th>shn_districts</th>\n",
       "      <th>pct_route_on_hwy_across_districts</th>\n",
       "      <th>on_shs</th>\n",
       "      <th>is_express</th>\n",
       "      <th>is_ferry</th>\n",
       "      <th>is_rail</th>\n",
       "      <th>is_coverage</th>\n",
       "      <th>is_local</th>\n",
       "      <th>is_downtown_local</th>\n",
       "      <th>is_rapid</th>\n",
       "      <th>year</th>\n",
       "      <th>name</th>\n",
       "      <th>base64_url</th>\n",
       "      <th>caltrans_district</th>\n",
       "      <th>portfolio_organization_name</th>\n",
       "    </tr>\n",
       "  </thead>\n",
       "  <tbody>\n",
       "  </tbody>\n",
       "</table>\n",
       "</div>"
      ],
      "text/plain": [
       "Empty DataFrame\n",
       "Columns: [n_trips, name_original, schedule_gtfs_dataset_key, route_id, route_type, shape_id, route_name_used, route_length_feet, base64_url_original, organization_source_record_id, organization_name, caltrans_district_original, shn_route, shn_districts, pct_route_on_hwy_across_districts, on_shs, is_express, is_ferry, is_rail, is_coverage, is_local, is_downtown_local, is_rapid, year, name, base64_url, caltrans_district, portfolio_organization_name]\n",
       "Index: []"
      ]
     },
     "execution_count": 102,
     "metadata": {},
     "output_type": "execute_result"
    }
   ],
   "source": [
    "route_types2.loc[\n",
    "    route_types2.route_name_used.str.contains(\"Express service from Beaumont\")\n",
    "].drop(columns=[\"geometry\"])"
   ]
  },
  {
   "cell_type": "code",
   "execution_count": 103,
   "id": "29039655-130e-467d-9c0a-bde984f1f42d",
   "metadata": {
    "tags": []
   },
   "outputs": [
    {
     "data": {
      "text/plain": [
       "0"
      ]
     },
     "execution_count": 103,
     "metadata": {},
     "output_type": "execute_result"
    }
   ],
   "source": [
    "len(final.loc[final.route_name_used.str.contains(\"Express service\")].drop_duplicates())"
   ]
  },
  {
   "cell_type": "code",
   "execution_count": 107,
   "id": "426bb525-b3fc-4989-815d-f0b4b3b1ba75",
   "metadata": {
    "scrolled": true,
    "tags": []
   },
   "outputs": [],
   "source": [
    "beaumont = final.loc[final.portfolio_organization_name.str.contains(\"Beaumont\")].drop(\n",
    "    columns=[\"geometry\"]\n",
    ")"
   ]
  },
  {
   "cell_type": "code",
   "execution_count": 108,
   "id": "f0e7929a-cf1d-4457-95c5-474edd6d8632",
   "metadata": {
    "tags": []
   },
   "outputs": [
    {
     "data": {
      "text/html": [
       "<div>\n",
       "<style scoped>\n",
       "    .dataframe tbody tr th:only-of-type {\n",
       "        vertical-align: middle;\n",
       "    }\n",
       "\n",
       "    .dataframe tbody tr th {\n",
       "        vertical-align: top;\n",
       "    }\n",
       "\n",
       "    .dataframe thead th {\n",
       "        text-align: right;\n",
       "    }\n",
       "</style>\n",
       "<table border=\"1\" class=\"dataframe\">\n",
       "  <thead>\n",
       "    <tr style=\"text-align: right;\">\n",
       "      <th></th>\n",
       "      <th>portfolio_organization_name</th>\n",
       "      <th>route_id</th>\n",
       "      <th>route_type</th>\n",
       "      <th>route_name_used</th>\n",
       "      <th>route_length_feet</th>\n",
       "      <th>shape_id</th>\n",
       "      <th>n_trips</th>\n",
       "      <th>base64_url</th>\n",
       "      <th>shn_route</th>\n",
       "      <th>on_shs</th>\n",
       "      <th>shn_districts</th>\n",
       "      <th>pct_route_on_hwy_across_districts</th>\n",
       "      <th>is_express</th>\n",
       "      <th>is_ferry</th>\n",
       "      <th>is_rail</th>\n",
       "      <th>is_coverage</th>\n",
       "      <th>is_local</th>\n",
       "      <th>is_downtown_local</th>\n",
       "      <th>is_rapid</th>\n",
       "    </tr>\n",
       "  </thead>\n",
       "  <tbody>\n",
       "    <tr>\n",
       "      <th>7132</th>\n",
       "      <td>City of Beaumont</td>\n",
       "      <td>16684</td>\n",
       "      <td>3</td>\n",
       "      <td>Casino Express</td>\n",
       "      <td>27429.63</td>\n",
       "      <td>p_1433210</td>\n",
       "      <td>9</td>\n",
       "      <td>aHR0cHM6Ly9kYXRhLnRyaWxsaXVtdHJhbnNpdC5jb20vZ3Rmcy9iZWF1bW9udC1jYS11cy9iZWF1bW9udC1jYS11cy56aXA=</td>\n",
       "      <td>79</td>\n",
       "      <td>1</td>\n",
       "      <td>8</td>\n",
       "      <td>0.40</td>\n",
       "      <td>1.00</td>\n",
       "      <td>0.00</td>\n",
       "      <td>0.00</td>\n",
       "      <td>0.00</td>\n",
       "      <td>0.00</td>\n",
       "      <td>0.00</td>\n",
       "      <td>0.00</td>\n",
       "    </tr>\n",
       "  </tbody>\n",
       "</table>\n",
       "</div>"
      ],
      "text/plain": [
       "     portfolio_organization_name route_id route_type route_name_used  \\\n",
       "7132            City of Beaumont    16684          3  Casino Express   \n",
       "\n",
       "      route_length_feet   shape_id  n_trips  \\\n",
       "7132           27429.63  p_1433210        9   \n",
       "\n",
       "                                                                                            base64_url  \\\n",
       "7132  aHR0cHM6Ly9kYXRhLnRyaWxsaXVtdHJhbnNpdC5jb20vZ3Rmcy9iZWF1bW9udC1jYS11cy9iZWF1bW9udC1jYS11cy56aXA=   \n",
       "\n",
       "     shn_route  on_shs shn_districts  pct_route_on_hwy_across_districts  \\\n",
       "7132        79       1             8                               0.40   \n",
       "\n",
       "      is_express  is_ferry  is_rail  is_coverage  is_local  is_downtown_local  \\\n",
       "7132        1.00      0.00     0.00         0.00      0.00               0.00   \n",
       "\n",
       "      is_rapid  \n",
       "7132      0.00  "
      ]
     },
     "execution_count": 108,
     "metadata": {},
     "output_type": "execute_result"
    }
   ],
   "source": [
    "beaumont.loc[\n",
    "    (beaumont.route_id == \"16684\")\n",
    "    & (beaumont.shape_id == \"p_1433210\")\n",
    "    & (beaumont.n_trips == 9)\n",
    "]"
   ]
  },
  {
   "cell_type": "markdown",
   "id": "26845d61-3186-4afc-8622-5e5841252723",
   "metadata": {},
   "source": [
    "### Toy Story Example"
   ]
  },
  {
   "cell_type": "code",
   "execution_count": 73,
   "id": "239dfd6c-9aa9-43cd-8e89-8b957c6d9b23",
   "metadata": {
    "tags": []
   },
   "outputs": [],
   "source": [
    "toy_story_published = published_routes.loc[\n",
    "    (published_routes.route_id == \"8f305689-4315-445e-abea-920dbbf0be5e\")\n",
    "    & (published_routes.shape_id == \"589006db-7e3b-4faf-8254-a4b3cbe38fe0\")\n",
    "    & (published_routes.n_trips == 45)\n",
    "]"
   ]
  },
  {
   "cell_type": "code",
   "execution_count": 74,
   "id": "277a3b1e-16e6-45a8-807e-e41483c581a6",
   "metadata": {
    "tags": []
   },
   "outputs": [
    {
     "data": {
      "text/html": [
       "<div>\n",
       "<style scoped>\n",
       "    .dataframe tbody tr th:only-of-type {\n",
       "        vertical-align: middle;\n",
       "    }\n",
       "\n",
       "    .dataframe tbody tr th {\n",
       "        vertical-align: top;\n",
       "    }\n",
       "\n",
       "    .dataframe thead th {\n",
       "        text-align: right;\n",
       "    }\n",
       "</style>\n",
       "<table border=\"1\" class=\"dataframe\">\n",
       "  <thead>\n",
       "    <tr style=\"text-align: right;\">\n",
       "      <th></th>\n",
       "      <th>n_trips</th>\n",
       "      <th>name</th>\n",
       "      <th>schedule_gtfs_dataset_key</th>\n",
       "      <th>route_id</th>\n",
       "      <th>route_type</th>\n",
       "      <th>shape_id</th>\n",
       "      <th>route_name_used</th>\n",
       "      <th>route_length_feet</th>\n",
       "      <th>base64_url</th>\n",
       "      <th>organization_source_record_id</th>\n",
       "      <th>organization_name</th>\n",
       "      <th>caltrans_district</th>\n",
       "    </tr>\n",
       "  </thead>\n",
       "  <tbody>\n",
       "    <tr>\n",
       "      <th>2021</th>\n",
       "      <td>45</td>\n",
       "      <td>Anaheim Resort Schedule v2</td>\n",
       "      <td>499d04458c70d08d63fcc6ec763dca57</td>\n",
       "      <td>8f305689-4315-445e-abea-920dbbf0be5e</td>\n",
       "      <td>3</td>\n",
       "      <td>589006db-7e3b-4faf-8254-a4b3cbe38fe0</td>\n",
       "      <td>Toy Story Line</td>\n",
       "      <td>13089.88</td>\n",
       "      <td>NaN</td>\n",
       "      <td>NaN</td>\n",
       "      <td>NaN</td>\n",
       "      <td>NaN</td>\n",
       "    </tr>\n",
       "  </tbody>\n",
       "</table>\n",
       "</div>"
      ],
      "text/plain": [
       "      n_trips                        name         schedule_gtfs_dataset_key  \\\n",
       "2021       45  Anaheim Resort Schedule v2  499d04458c70d08d63fcc6ec763dca57   \n",
       "\n",
       "                                  route_id route_type  \\\n",
       "2021  8f305689-4315-445e-abea-920dbbf0be5e          3   \n",
       "\n",
       "                                  shape_id route_name_used  route_length_feet  \\\n",
       "2021  589006db-7e3b-4faf-8254-a4b3cbe38fe0  Toy Story Line           13089.88   \n",
       "\n",
       "     base64_url organization_source_record_id organization_name  \\\n",
       "2021        NaN                           NaN               NaN   \n",
       "\n",
       "     caltrans_district  \n",
       "2021               NaN  "
      ]
     },
     "execution_count": 74,
     "metadata": {},
     "output_type": "execute_result"
    }
   ],
   "source": [
    "toy_story_published.drop(columns=[\"geometry\"])"
   ]
  },
  {
   "cell_type": "code",
   "execution_count": 75,
   "id": "3419b6fe-193d-4f3b-b188-243ad4cec987",
   "metadata": {
    "tags": []
   },
   "outputs": [],
   "source": [
    "toy_story_2 = route_types.loc[\n",
    "    (route_types.route_id == \"8f305689-4315-445e-abea-920dbbf0be5e\")\n",
    "    & (route_types.shape_id == \"589006db-7e3b-4faf-8254-a4b3cbe38fe0\")\n",
    "    & (route_types.n_trips == 45)\n",
    "]"
   ]
  },
  {
   "cell_type": "code",
   "execution_count": 76,
   "id": "677bbe31-f7e3-43b8-b8fd-391d21d1fd39",
   "metadata": {
    "tags": []
   },
   "outputs": [
    {
     "data": {
      "text/html": [
       "<div>\n",
       "<style scoped>\n",
       "    .dataframe tbody tr th:only-of-type {\n",
       "        vertical-align: middle;\n",
       "    }\n",
       "\n",
       "    .dataframe tbody tr th {\n",
       "        vertical-align: top;\n",
       "    }\n",
       "\n",
       "    .dataframe thead th {\n",
       "        text-align: right;\n",
       "    }\n",
       "</style>\n",
       "<table border=\"1\" class=\"dataframe\">\n",
       "  <thead>\n",
       "    <tr style=\"text-align: right;\">\n",
       "      <th></th>\n",
       "      <th>n_trips</th>\n",
       "      <th>name</th>\n",
       "      <th>schedule_gtfs_dataset_key</th>\n",
       "      <th>route_id</th>\n",
       "      <th>route_type</th>\n",
       "      <th>shape_id</th>\n",
       "      <th>route_name_used</th>\n",
       "      <th>route_length_feet</th>\n",
       "      <th>base64_url</th>\n",
       "      <th>organization_source_record_id</th>\n",
       "      <th>organization_name</th>\n",
       "      <th>caltrans_district</th>\n",
       "      <th>shn_route</th>\n",
       "      <th>shn_districts</th>\n",
       "      <th>pct_route_on_hwy_across_districts</th>\n",
       "      <th>on_shs</th>\n",
       "      <th>is_express</th>\n",
       "      <th>is_ferry</th>\n",
       "      <th>is_rail</th>\n",
       "      <th>is_coverage</th>\n",
       "      <th>is_local</th>\n",
       "      <th>is_downtown_local</th>\n",
       "      <th>is_rapid</th>\n",
       "      <th>year</th>\n",
       "    </tr>\n",
       "  </thead>\n",
       "  <tbody>\n",
       "    <tr>\n",
       "      <th>2021</th>\n",
       "      <td>45</td>\n",
       "      <td>Anaheim Resort Schedule v2</td>\n",
       "      <td>499d04458c70d08d63fcc6ec763dca57</td>\n",
       "      <td>8f305689-4315-445e-abea-920dbbf0be5e</td>\n",
       "      <td>3</td>\n",
       "      <td>589006db-7e3b-4faf-8254-a4b3cbe38fe0</td>\n",
       "      <td>Toy Story Line</td>\n",
       "      <td>13089.88</td>\n",
       "      <td>NaN</td>\n",
       "      <td>NaN</td>\n",
       "      <td>NaN</td>\n",
       "      <td>NaN</td>\n",
       "      <td>NaN</td>\n",
       "      <td>NaN</td>\n",
       "      <td>0.00</td>\n",
       "      <td>0</td>\n",
       "      <td>0.00</td>\n",
       "      <td>0.00</td>\n",
       "      <td>0.00</td>\n",
       "      <td>0.00</td>\n",
       "      <td>0.00</td>\n",
       "      <td>1.00</td>\n",
       "      <td>0.00</td>\n",
       "      <td>2025.00</td>\n",
       "    </tr>\n",
       "  </tbody>\n",
       "</table>\n",
       "</div>"
      ],
      "text/plain": [
       "      n_trips                        name         schedule_gtfs_dataset_key  \\\n",
       "2021       45  Anaheim Resort Schedule v2  499d04458c70d08d63fcc6ec763dca57   \n",
       "\n",
       "                                  route_id route_type  \\\n",
       "2021  8f305689-4315-445e-abea-920dbbf0be5e          3   \n",
       "\n",
       "                                  shape_id route_name_used  route_length_feet  \\\n",
       "2021  589006db-7e3b-4faf-8254-a4b3cbe38fe0  Toy Story Line           13089.88   \n",
       "\n",
       "     base64_url organization_source_record_id organization_name  \\\n",
       "2021        NaN                           NaN               NaN   \n",
       "\n",
       "     caltrans_district shn_route shn_districts  \\\n",
       "2021               NaN       NaN           NaN   \n",
       "\n",
       "      pct_route_on_hwy_across_districts  on_shs  is_express  is_ferry  \\\n",
       "2021                               0.00       0        0.00      0.00   \n",
       "\n",
       "      is_rail  is_coverage  is_local  is_downtown_local  is_rapid    year  \n",
       "2021     0.00         0.00      0.00               1.00      0.00 2025.00  "
      ]
     },
     "execution_count": 76,
     "metadata": {},
     "output_type": "execute_result"
    }
   ],
   "source": [
    "toy_story_2.drop(columns=[\"geometry\"])"
   ]
  },
  {
   "cell_type": "code",
   "execution_count": 77,
   "id": "c7663585-2788-4cd8-8a7e-60d6ca3a1fee",
   "metadata": {
    "tags": []
   },
   "outputs": [
    {
     "data": {
      "text/html": [
       "<div>\n",
       "<style scoped>\n",
       "    .dataframe tbody tr th:only-of-type {\n",
       "        vertical-align: middle;\n",
       "    }\n",
       "\n",
       "    .dataframe tbody tr th {\n",
       "        vertical-align: top;\n",
       "    }\n",
       "\n",
       "    .dataframe thead th {\n",
       "        text-align: right;\n",
       "    }\n",
       "</style>\n",
       "<table border=\"1\" class=\"dataframe\">\n",
       "  <thead>\n",
       "    <tr style=\"text-align: right;\">\n",
       "      <th></th>\n",
       "      <th>schedule_gtfs_dataset_key</th>\n",
       "      <th>name</th>\n",
       "      <th>base64_url</th>\n",
       "      <th>caltrans_district</th>\n",
       "      <th>portfolio_organization_name</th>\n",
       "    </tr>\n",
       "  </thead>\n",
       "  <tbody>\n",
       "    <tr>\n",
       "      <th>96</th>\n",
       "      <td>c4726e0acfbcbd26e1dc38b8bd046c03</td>\n",
       "      <td>Anaheim Resort Schedule</td>\n",
       "      <td>aHR0cHM6Ly9hcnQudHJpcHNob3QuY29tL3YxL2d0ZnMuemlwP3JlZ2lvbklkPUNBNTU4RERDLUQ3RjItNEI0OC05Q0FDLURFRUExMTM0RjgyMA==</td>\n",
       "      <td>12 - Santa Ana</td>\n",
       "      <td>Anaheim Transportation Network</td>\n",
       "    </tr>\n",
       "  </tbody>\n",
       "</table>\n",
       "</div>"
      ],
      "text/plain": [
       "           schedule_gtfs_dataset_key                     name  \\\n",
       "96  c4726e0acfbcbd26e1dc38b8bd046c03  Anaheim Resort Schedule   \n",
       "\n",
       "                                                                                                          base64_url  \\\n",
       "96  aHR0cHM6Ly9hcnQudHJpcHNob3QuY29tL3YxL2d0ZnMuemlwP3JlZ2lvbklkPUNBNTU4RERDLUQ3RjItNEI0OC05Q0FDLURFRUExMTM0RjgyMA==   \n",
       "\n",
       "   caltrans_district     portfolio_organization_name  \n",
       "96    12 - Santa Ana  Anaheim Transportation Network  "
      ]
     },
     "execution_count": 77,
     "metadata": {},
     "output_type": "execute_result"
    }
   ],
   "source": [
    "crosswalk2.loc[crosswalk2.name.str.contains(\"Anaheim\")]"
   ]
  },
  {
   "cell_type": "code",
   "execution_count": 78,
   "id": "044b5b87-ff79-4f7a-8f04-99a0c41e2d4d",
   "metadata": {
    "tags": []
   },
   "outputs": [
    {
     "data": {
      "text/html": [
       "<div>\n",
       "<style scoped>\n",
       "    .dataframe tbody tr th:only-of-type {\n",
       "        vertical-align: middle;\n",
       "    }\n",
       "\n",
       "    .dataframe tbody tr th {\n",
       "        vertical-align: top;\n",
       "    }\n",
       "\n",
       "    .dataframe thead th {\n",
       "        text-align: right;\n",
       "    }\n",
       "</style>\n",
       "<table border=\"1\" class=\"dataframe\">\n",
       "  <thead>\n",
       "    <tr style=\"text-align: right;\">\n",
       "      <th></th>\n",
       "      <th>schedule_gtfs_dataset_key</th>\n",
       "      <th>name</th>\n",
       "      <th>base64_url</th>\n",
       "      <th>caltrans_district</th>\n",
       "    </tr>\n",
       "  </thead>\n",
       "  <tbody>\n",
       "    <tr>\n",
       "      <th>96</th>\n",
       "      <td>c4726e0acfbcbd26e1dc38b8bd046c03</td>\n",
       "      <td>Anaheim Resort Schedule</td>\n",
       "      <td>aHR0cHM6Ly9hcnQudHJpcHNob3QuY29tL3YxL2d0ZnMuemlwP3JlZ2lvbklkPUNBNTU4RERDLUQ3RjItNEI0OC05Q0FDLURFRUExMTM0RjgyMA==</td>\n",
       "      <td>12 - Santa Ana</td>\n",
       "    </tr>\n",
       "  </tbody>\n",
       "</table>\n",
       "</div>"
      ],
      "text/plain": [
       "           schedule_gtfs_dataset_key                     name  \\\n",
       "96  c4726e0acfbcbd26e1dc38b8bd046c03  Anaheim Resort Schedule   \n",
       "\n",
       "                                                                                                          base64_url  \\\n",
       "96  aHR0cHM6Ly9hcnQudHJpcHNob3QuY29tL3YxL2d0ZnMuemlwP3JlZ2lvbklkPUNBNTU4RERDLUQ3RjItNEI0OC05Q0FDLURFRUExMTM0RjgyMA==   \n",
       "\n",
       "   caltrans_district  \n",
       "96    12 - Santa Ana  "
      ]
     },
     "execution_count": 78,
     "metadata": {},
     "output_type": "execute_result"
    }
   ],
   "source": [
    "crosswalk.loc[crosswalk.name.str.contains(\"Anaheim\")]"
   ]
  },
  {
   "cell_type": "markdown",
   "id": "ed68c29c-adcd-4931-bfcd-fc8e11518722",
   "metadata": {},
   "source": [
    "#### This is from `route_types2 = route_types.pipe(standardize_operator_info_for_exports, analysis_date)`"
   ]
  },
  {
   "cell_type": "code",
   "execution_count": 79,
   "id": "6b641f0f-202d-4850-b0dd-3d6e623a395e",
   "metadata": {
    "tags": []
   },
   "outputs": [],
   "source": [
    "toy_story_3 = route_types2.loc[\n",
    "    (route_types2.route_id == \"8f305689-4315-445e-abea-920dbbf0be5e\")\n",
    "    & (route_types2.shape_id == \"589006db-7e3b-4faf-8254-a4b3cbe38fe0\")\n",
    "    & (route_types2.n_trips == 45)\n",
    "]"
   ]
  },
  {
   "cell_type": "code",
   "execution_count": 80,
   "id": "da7c74b8-c9c9-407c-9f2b-647cef4afcfb",
   "metadata": {
    "tags": []
   },
   "outputs": [
    {
     "data": {
      "text/html": [
       "<div>\n",
       "<style scoped>\n",
       "    .dataframe tbody tr th:only-of-type {\n",
       "        vertical-align: middle;\n",
       "    }\n",
       "\n",
       "    .dataframe tbody tr th {\n",
       "        vertical-align: top;\n",
       "    }\n",
       "\n",
       "    .dataframe thead th {\n",
       "        text-align: right;\n",
       "    }\n",
       "</style>\n",
       "<table border=\"1\" class=\"dataframe\">\n",
       "  <thead>\n",
       "    <tr style=\"text-align: right;\">\n",
       "      <th></th>\n",
       "      <th>n_trips</th>\n",
       "      <th>name_original</th>\n",
       "      <th>schedule_gtfs_dataset_key</th>\n",
       "      <th>route_id</th>\n",
       "      <th>route_type</th>\n",
       "      <th>shape_id</th>\n",
       "      <th>route_name_used</th>\n",
       "      <th>route_length_feet</th>\n",
       "      <th>base64_url_original</th>\n",
       "      <th>organization_source_record_id</th>\n",
       "      <th>organization_name</th>\n",
       "      <th>caltrans_district_original</th>\n",
       "      <th>shn_route</th>\n",
       "      <th>shn_districts</th>\n",
       "      <th>pct_route_on_hwy_across_districts</th>\n",
       "      <th>on_shs</th>\n",
       "      <th>is_express</th>\n",
       "      <th>is_ferry</th>\n",
       "      <th>is_rail</th>\n",
       "      <th>is_coverage</th>\n",
       "      <th>is_local</th>\n",
       "      <th>is_downtown_local</th>\n",
       "      <th>is_rapid</th>\n",
       "      <th>year</th>\n",
       "      <th>name</th>\n",
       "      <th>base64_url</th>\n",
       "      <th>caltrans_district</th>\n",
       "      <th>portfolio_organization_name</th>\n",
       "    </tr>\n",
       "  </thead>\n",
       "  <tbody>\n",
       "  </tbody>\n",
       "</table>\n",
       "</div>"
      ],
      "text/plain": [
       "Empty DataFrame\n",
       "Columns: [n_trips, name_original, schedule_gtfs_dataset_key, route_id, route_type, shape_id, route_name_used, route_length_feet, base64_url_original, organization_source_record_id, organization_name, caltrans_district_original, shn_route, shn_districts, pct_route_on_hwy_across_districts, on_shs, is_express, is_ferry, is_rail, is_coverage, is_local, is_downtown_local, is_rapid, year, name, base64_url, caltrans_district, portfolio_organization_name]\n",
       "Index: []"
      ]
     },
     "execution_count": 80,
     "metadata": {},
     "output_type": "execute_result"
    }
   ],
   "source": [
    "toy_story_3.drop(columns=[\"geometry\"])"
   ]
  },
  {
   "cell_type": "code",
   "execution_count": 81,
   "id": "be3e8cfb-63d0-4745-a21b-438e7a083419",
   "metadata": {
    "tags": []
   },
   "outputs": [
    {
     "data": {
      "text/html": [
       "<div>\n",
       "<style scoped>\n",
       "    .dataframe tbody tr th:only-of-type {\n",
       "        vertical-align: middle;\n",
       "    }\n",
       "\n",
       "    .dataframe tbody tr th {\n",
       "        vertical-align: top;\n",
       "    }\n",
       "\n",
       "    .dataframe thead th {\n",
       "        text-align: right;\n",
       "    }\n",
       "</style>\n",
       "<table border=\"1\" class=\"dataframe\">\n",
       "  <thead>\n",
       "    <tr style=\"text-align: right;\">\n",
       "      <th></th>\n",
       "      <th>n_trips</th>\n",
       "      <th>name_original</th>\n",
       "      <th>schedule_gtfs_dataset_key</th>\n",
       "      <th>route_id</th>\n",
       "      <th>route_type</th>\n",
       "      <th>shape_id</th>\n",
       "      <th>route_name_used</th>\n",
       "      <th>route_length_feet</th>\n",
       "      <th>base64_url_original</th>\n",
       "      <th>organization_source_record_id</th>\n",
       "      <th>organization_name</th>\n",
       "      <th>caltrans_district_original</th>\n",
       "      <th>shn_route</th>\n",
       "      <th>shn_districts</th>\n",
       "      <th>pct_route_on_hwy_across_districts</th>\n",
       "      <th>on_shs</th>\n",
       "      <th>is_express</th>\n",
       "      <th>is_ferry</th>\n",
       "      <th>is_rail</th>\n",
       "      <th>is_coverage</th>\n",
       "      <th>is_local</th>\n",
       "      <th>is_downtown_local</th>\n",
       "      <th>is_rapid</th>\n",
       "      <th>year</th>\n",
       "      <th>name</th>\n",
       "      <th>base64_url</th>\n",
       "      <th>caltrans_district</th>\n",
       "      <th>portfolio_organization_name</th>\n",
       "    </tr>\n",
       "  </thead>\n",
       "  <tbody>\n",
       "    <tr>\n",
       "      <th>11412</th>\n",
       "      <td>2611</td>\n",
       "      <td>Anaheim Resort Schedule</td>\n",
       "      <td>c4726e0acfbcbd26e1dc38b8bd046c03</td>\n",
       "      <td>8f305689-4315-445e-abea-920dbbf0be5e</td>\n",
       "      <td>3</td>\n",
       "      <td>589006db-7e3b-4faf-8254-a4b3cbe38fe0</td>\n",
       "      <td>Toy Story Line</td>\n",
       "      <td>13089.88</td>\n",
       "      <td>NaN</td>\n",
       "      <td>NaN</td>\n",
       "      <td>NaN</td>\n",
       "      <td>NaN</td>\n",
       "      <td>NaN</td>\n",
       "      <td>NaN</td>\n",
       "      <td>0.00</td>\n",
       "      <td>0</td>\n",
       "      <td>0.00</td>\n",
       "      <td>0.00</td>\n",
       "      <td>0.00</td>\n",
       "      <td>0.00</td>\n",
       "      <td>0.00</td>\n",
       "      <td>1.00</td>\n",
       "      <td>0.00</td>\n",
       "      <td>2025.00</td>\n",
       "      <td>Anaheim Resort Schedule</td>\n",
       "      <td>aHR0cHM6Ly9hcnQudHJpcHNob3QuY29tL3YxL2d0ZnMuemlwP3JlZ2lvbklkPUNBNTU4RERDLUQ3RjItNEI0OC05Q0FDLURFRUExMTM0RjgyMA==</td>\n",
       "      <td>12 - Santa Ana</td>\n",
       "      <td>Anaheim Transportation Network</td>\n",
       "    </tr>\n",
       "    <tr>\n",
       "      <th>11413</th>\n",
       "      <td>45</td>\n",
       "      <td>Anaheim Resort Schedule</td>\n",
       "      <td>c4726e0acfbcbd26e1dc38b8bd046c03</td>\n",
       "      <td>8f305689-4315-445e-abea-920dbbf0be5e</td>\n",
       "      <td>3</td>\n",
       "      <td>589006db-7e3b-4faf-8254-a4b3cbe38fe0:T</td>\n",
       "      <td>Toy Story Line</td>\n",
       "      <td>6955.38</td>\n",
       "      <td>NaN</td>\n",
       "      <td>NaN</td>\n",
       "      <td>NaN</td>\n",
       "      <td>NaN</td>\n",
       "      <td>NaN</td>\n",
       "      <td>NaN</td>\n",
       "      <td>0.00</td>\n",
       "      <td>0</td>\n",
       "      <td>0.00</td>\n",
       "      <td>0.00</td>\n",
       "      <td>0.00</td>\n",
       "      <td>0.00</td>\n",
       "      <td>0.00</td>\n",
       "      <td>1.00</td>\n",
       "      <td>0.00</td>\n",
       "      <td>2025.00</td>\n",
       "      <td>Anaheim Resort Schedule</td>\n",
       "      <td>aHR0cHM6Ly9hcnQudHJpcHNob3QuY29tL3YxL2d0ZnMuemlwP3JlZ2lvbklkPUNBNTU4RERDLUQ3RjItNEI0OC05Q0FDLURFRUExMTM0RjgyMA==</td>\n",
       "      <td>12 - Santa Ana</td>\n",
       "      <td>Anaheim Transportation Network</td>\n",
       "    </tr>\n",
       "    <tr>\n",
       "      <th>11414</th>\n",
       "      <td>1566</td>\n",
       "      <td>Anaheim Resort Schedule</td>\n",
       "      <td>c4726e0acfbcbd26e1dc38b8bd046c03</td>\n",
       "      <td>8f305689-4315-445e-abea-920dbbf0be5e</td>\n",
       "      <td>3</td>\n",
       "      <td>c8dde9c3-28f7-48ee-a181-17bc46e2738e</td>\n",
       "      <td>Toy Story Line</td>\n",
       "      <td>13097.18</td>\n",
       "      <td>NaN</td>\n",
       "      <td>NaN</td>\n",
       "      <td>NaN</td>\n",
       "      <td>NaN</td>\n",
       "      <td>NaN</td>\n",
       "      <td>NaN</td>\n",
       "      <td>0.00</td>\n",
       "      <td>0</td>\n",
       "      <td>0.00</td>\n",
       "      <td>0.00</td>\n",
       "      <td>0.00</td>\n",
       "      <td>0.00</td>\n",
       "      <td>0.00</td>\n",
       "      <td>1.00</td>\n",
       "      <td>0.00</td>\n",
       "      <td>2025.00</td>\n",
       "      <td>Anaheim Resort Schedule</td>\n",
       "      <td>aHR0cHM6Ly9hcnQudHJpcHNob3QuY29tL3YxL2d0ZnMuemlwP3JlZ2lvbklkPUNBNTU4RERDLUQ3RjItNEI0OC05Q0FDLURFRUExMTM0RjgyMA==</td>\n",
       "      <td>12 - Santa Ana</td>\n",
       "      <td>Anaheim Transportation Network</td>\n",
       "    </tr>\n",
       "    <tr>\n",
       "      <th>11415</th>\n",
       "      <td>29</td>\n",
       "      <td>Anaheim Resort Schedule</td>\n",
       "      <td>c4726e0acfbcbd26e1dc38b8bd046c03</td>\n",
       "      <td>8f305689-4315-445e-abea-920dbbf0be5e</td>\n",
       "      <td>3</td>\n",
       "      <td>c8dde9c3-28f7-48ee-a181-17bc46e2738e:T</td>\n",
       "      <td>Toy Story Line</td>\n",
       "      <td>6986.21</td>\n",
       "      <td>NaN</td>\n",
       "      <td>NaN</td>\n",
       "      <td>NaN</td>\n",
       "      <td>NaN</td>\n",
       "      <td>NaN</td>\n",
       "      <td>NaN</td>\n",
       "      <td>0.00</td>\n",
       "      <td>0</td>\n",
       "      <td>0.00</td>\n",
       "      <td>0.00</td>\n",
       "      <td>0.00</td>\n",
       "      <td>0.00</td>\n",
       "      <td>0.00</td>\n",
       "      <td>1.00</td>\n",
       "      <td>0.00</td>\n",
       "      <td>2025.00</td>\n",
       "      <td>Anaheim Resort Schedule</td>\n",
       "      <td>aHR0cHM6Ly9hcnQudHJpcHNob3QuY29tL3YxL2d0ZnMuemlwP3JlZ2lvbklkPUNBNTU4RERDLUQ3RjItNEI0OC05Q0FDLURFRUExMTM0RjgyMA==</td>\n",
       "      <td>12 - Santa Ana</td>\n",
       "      <td>Anaheim Transportation Network</td>\n",
       "    </tr>\n",
       "    <tr>\n",
       "      <th>11515</th>\n",
       "      <td>1674</td>\n",
       "      <td>Anaheim Resort Schedule</td>\n",
       "      <td>c4726e0acfbcbd26e1dc38b8bd046c03</td>\n",
       "      <td>8f305689-4315-445e-abea-920dbbf0be5e</td>\n",
       "      <td>3</td>\n",
       "      <td>184be8da-f85c-4df5-9bce-f6c0cde3ed81</td>\n",
       "      <td>Toy Story Line</td>\n",
       "      <td>13097.18</td>\n",
       "      <td>aHR0cHM6Ly9hcnQudHJpcHNob3QuY29tL3YxL2d0ZnMuemlwP3JlZ2lvbklkPUNBNTU4RERDLUQ3RjItNEI0OC05Q0FDLURFRUExMTM0RjgyMA==</td>\n",
       "      <td>recsrIZdx5Wt6n3ol</td>\n",
       "      <td>Anaheim Transportation Network</td>\n",
       "      <td>12 - Orange County</td>\n",
       "      <td>NaN</td>\n",
       "      <td>NaN</td>\n",
       "      <td>0.00</td>\n",
       "      <td>0</td>\n",
       "      <td>0.00</td>\n",
       "      <td>0.00</td>\n",
       "      <td>0.00</td>\n",
       "      <td>0.00</td>\n",
       "      <td>0.00</td>\n",
       "      <td>1.00</td>\n",
       "      <td>0.00</td>\n",
       "      <td>2025.00</td>\n",
       "      <td>Anaheim Resort Schedule</td>\n",
       "      <td>aHR0cHM6Ly9hcnQudHJpcHNob3QuY29tL3YxL2d0ZnMuemlwP3JlZ2lvbklkPUNBNTU4RERDLUQ3RjItNEI0OC05Q0FDLURFRUExMTM0RjgyMA==</td>\n",
       "      <td>12 - Santa Ana</td>\n",
       "      <td>Anaheim Transportation Network</td>\n",
       "    </tr>\n",
       "    <tr>\n",
       "      <th>11516</th>\n",
       "      <td>31</td>\n",
       "      <td>Anaheim Resort Schedule</td>\n",
       "      <td>c4726e0acfbcbd26e1dc38b8bd046c03</td>\n",
       "      <td>8f305689-4315-445e-abea-920dbbf0be5e</td>\n",
       "      <td>3</td>\n",
       "      <td>184be8da-f85c-4df5-9bce-f6c0cde3ed81:T</td>\n",
       "      <td>Toy Story Line</td>\n",
       "      <td>6986.21</td>\n",
       "      <td>aHR0cHM6Ly9hcnQudHJpcHNob3QuY29tL3YxL2d0ZnMuemlwP3JlZ2lvbklkPUNBNTU4RERDLUQ3RjItNEI0OC05Q0FDLURFRUExMTM0RjgyMA==</td>\n",
       "      <td>recsrIZdx5Wt6n3ol</td>\n",
       "      <td>Anaheim Transportation Network</td>\n",
       "      <td>12 - Orange County</td>\n",
       "      <td>NaN</td>\n",
       "      <td>NaN</td>\n",
       "      <td>0.00</td>\n",
       "      <td>0</td>\n",
       "      <td>0.00</td>\n",
       "      <td>0.00</td>\n",
       "      <td>0.00</td>\n",
       "      <td>0.00</td>\n",
       "      <td>0.00</td>\n",
       "      <td>1.00</td>\n",
       "      <td>0.00</td>\n",
       "      <td>2025.00</td>\n",
       "      <td>Anaheim Resort Schedule</td>\n",
       "      <td>aHR0cHM6Ly9hcnQudHJpcHNob3QuY29tL3YxL2d0ZnMuemlwP3JlZ2lvbklkPUNBNTU4RERDLUQ3RjItNEI0OC05Q0FDLURFRUExMTM0RjgyMA==</td>\n",
       "      <td>12 - Santa Ana</td>\n",
       "      <td>Anaheim Transportation Network</td>\n",
       "    </tr>\n",
       "    <tr>\n",
       "      <th>11517</th>\n",
       "      <td>2611</td>\n",
       "      <td>Anaheim Resort Schedule</td>\n",
       "      <td>c4726e0acfbcbd26e1dc38b8bd046c03</td>\n",
       "      <td>8f305689-4315-445e-abea-920dbbf0be5e</td>\n",
       "      <td>3</td>\n",
       "      <td>589006db-7e3b-4faf-8254-a4b3cbe38fe0</td>\n",
       "      <td>Toy Story Line</td>\n",
       "      <td>13089.88</td>\n",
       "      <td>aHR0cHM6Ly9hcnQudHJpcHNob3QuY29tL3YxL2d0ZnMuemlwP3JlZ2lvbklkPUNBNTU4RERDLUQ3RjItNEI0OC05Q0FDLURFRUExMTM0RjgyMA==</td>\n",
       "      <td>recsrIZdx5Wt6n3ol</td>\n",
       "      <td>Anaheim Transportation Network</td>\n",
       "      <td>12 - Orange County</td>\n",
       "      <td>NaN</td>\n",
       "      <td>NaN</td>\n",
       "      <td>0.00</td>\n",
       "      <td>0</td>\n",
       "      <td>0.00</td>\n",
       "      <td>0.00</td>\n",
       "      <td>0.00</td>\n",
       "      <td>0.00</td>\n",
       "      <td>0.00</td>\n",
       "      <td>1.00</td>\n",
       "      <td>0.00</td>\n",
       "      <td>2025.00</td>\n",
       "      <td>Anaheim Resort Schedule</td>\n",
       "      <td>aHR0cHM6Ly9hcnQudHJpcHNob3QuY29tL3YxL2d0ZnMuemlwP3JlZ2lvbklkPUNBNTU4RERDLUQ3RjItNEI0OC05Q0FDLURFRUExMTM0RjgyMA==</td>\n",
       "      <td>12 - Santa Ana</td>\n",
       "      <td>Anaheim Transportation Network</td>\n",
       "    </tr>\n",
       "    <tr>\n",
       "      <th>11518</th>\n",
       "      <td>45</td>\n",
       "      <td>Anaheim Resort Schedule</td>\n",
       "      <td>c4726e0acfbcbd26e1dc38b8bd046c03</td>\n",
       "      <td>8f305689-4315-445e-abea-920dbbf0be5e</td>\n",
       "      <td>3</td>\n",
       "      <td>589006db-7e3b-4faf-8254-a4b3cbe38fe0:T</td>\n",
       "      <td>Toy Story Line</td>\n",
       "      <td>6955.38</td>\n",
       "      <td>aHR0cHM6Ly9hcnQudHJpcHNob3QuY29tL3YxL2d0ZnMuemlwP3JlZ2lvbklkPUNBNTU4RERDLUQ3RjItNEI0OC05Q0FDLURFRUExMTM0RjgyMA==</td>\n",
       "      <td>recsrIZdx5Wt6n3ol</td>\n",
       "      <td>Anaheim Transportation Network</td>\n",
       "      <td>12 - Orange County</td>\n",
       "      <td>NaN</td>\n",
       "      <td>NaN</td>\n",
       "      <td>0.00</td>\n",
       "      <td>0</td>\n",
       "      <td>0.00</td>\n",
       "      <td>0.00</td>\n",
       "      <td>0.00</td>\n",
       "      <td>0.00</td>\n",
       "      <td>0.00</td>\n",
       "      <td>1.00</td>\n",
       "      <td>0.00</td>\n",
       "      <td>2025.00</td>\n",
       "      <td>Anaheim Resort Schedule</td>\n",
       "      <td>aHR0cHM6Ly9hcnQudHJpcHNob3QuY29tL3YxL2d0ZnMuemlwP3JlZ2lvbklkPUNBNTU4RERDLUQ3RjItNEI0OC05Q0FDLURFRUExMTM0RjgyMA==</td>\n",
       "      <td>12 - Santa Ana</td>\n",
       "      <td>Anaheim Transportation Network</td>\n",
       "    </tr>\n",
       "  </tbody>\n",
       "</table>\n",
       "</div>"
      ],
      "text/plain": [
       "       n_trips            name_original         schedule_gtfs_dataset_key  \\\n",
       "11412     2611  Anaheim Resort Schedule  c4726e0acfbcbd26e1dc38b8bd046c03   \n",
       "11413       45  Anaheim Resort Schedule  c4726e0acfbcbd26e1dc38b8bd046c03   \n",
       "11414     1566  Anaheim Resort Schedule  c4726e0acfbcbd26e1dc38b8bd046c03   \n",
       "11415       29  Anaheim Resort Schedule  c4726e0acfbcbd26e1dc38b8bd046c03   \n",
       "11515     1674  Anaheim Resort Schedule  c4726e0acfbcbd26e1dc38b8bd046c03   \n",
       "11516       31  Anaheim Resort Schedule  c4726e0acfbcbd26e1dc38b8bd046c03   \n",
       "11517     2611  Anaheim Resort Schedule  c4726e0acfbcbd26e1dc38b8bd046c03   \n",
       "11518       45  Anaheim Resort Schedule  c4726e0acfbcbd26e1dc38b8bd046c03   \n",
       "\n",
       "                                   route_id route_type  \\\n",
       "11412  8f305689-4315-445e-abea-920dbbf0be5e          3   \n",
       "11413  8f305689-4315-445e-abea-920dbbf0be5e          3   \n",
       "11414  8f305689-4315-445e-abea-920dbbf0be5e          3   \n",
       "11415  8f305689-4315-445e-abea-920dbbf0be5e          3   \n",
       "11515  8f305689-4315-445e-abea-920dbbf0be5e          3   \n",
       "11516  8f305689-4315-445e-abea-920dbbf0be5e          3   \n",
       "11517  8f305689-4315-445e-abea-920dbbf0be5e          3   \n",
       "11518  8f305689-4315-445e-abea-920dbbf0be5e          3   \n",
       "\n",
       "                                     shape_id route_name_used  \\\n",
       "11412    589006db-7e3b-4faf-8254-a4b3cbe38fe0  Toy Story Line   \n",
       "11413  589006db-7e3b-4faf-8254-a4b3cbe38fe0:T  Toy Story Line   \n",
       "11414    c8dde9c3-28f7-48ee-a181-17bc46e2738e  Toy Story Line   \n",
       "11415  c8dde9c3-28f7-48ee-a181-17bc46e2738e:T  Toy Story Line   \n",
       "11515    184be8da-f85c-4df5-9bce-f6c0cde3ed81  Toy Story Line   \n",
       "11516  184be8da-f85c-4df5-9bce-f6c0cde3ed81:T  Toy Story Line   \n",
       "11517    589006db-7e3b-4faf-8254-a4b3cbe38fe0  Toy Story Line   \n",
       "11518  589006db-7e3b-4faf-8254-a4b3cbe38fe0:T  Toy Story Line   \n",
       "\n",
       "       route_length_feet  \\\n",
       "11412           13089.88   \n",
       "11413            6955.38   \n",
       "11414           13097.18   \n",
       "11415            6986.21   \n",
       "11515           13097.18   \n",
       "11516            6986.21   \n",
       "11517           13089.88   \n",
       "11518            6955.38   \n",
       "\n",
       "                                                                                                    base64_url_original  \\\n",
       "11412                                                                                                               NaN   \n",
       "11413                                                                                                               NaN   \n",
       "11414                                                                                                               NaN   \n",
       "11415                                                                                                               NaN   \n",
       "11515  aHR0cHM6Ly9hcnQudHJpcHNob3QuY29tL3YxL2d0ZnMuemlwP3JlZ2lvbklkPUNBNTU4RERDLUQ3RjItNEI0OC05Q0FDLURFRUExMTM0RjgyMA==   \n",
       "11516  aHR0cHM6Ly9hcnQudHJpcHNob3QuY29tL3YxL2d0ZnMuemlwP3JlZ2lvbklkPUNBNTU4RERDLUQ3RjItNEI0OC05Q0FDLURFRUExMTM0RjgyMA==   \n",
       "11517  aHR0cHM6Ly9hcnQudHJpcHNob3QuY29tL3YxL2d0ZnMuemlwP3JlZ2lvbklkPUNBNTU4RERDLUQ3RjItNEI0OC05Q0FDLURFRUExMTM0RjgyMA==   \n",
       "11518  aHR0cHM6Ly9hcnQudHJpcHNob3QuY29tL3YxL2d0ZnMuemlwP3JlZ2lvbklkPUNBNTU4RERDLUQ3RjItNEI0OC05Q0FDLURFRUExMTM0RjgyMA==   \n",
       "\n",
       "      organization_source_record_id               organization_name  \\\n",
       "11412                           NaN                             NaN   \n",
       "11413                           NaN                             NaN   \n",
       "11414                           NaN                             NaN   \n",
       "11415                           NaN                             NaN   \n",
       "11515             recsrIZdx5Wt6n3ol  Anaheim Transportation Network   \n",
       "11516             recsrIZdx5Wt6n3ol  Anaheim Transportation Network   \n",
       "11517             recsrIZdx5Wt6n3ol  Anaheim Transportation Network   \n",
       "11518             recsrIZdx5Wt6n3ol  Anaheim Transportation Network   \n",
       "\n",
       "      caltrans_district_original shn_route shn_districts  \\\n",
       "11412                        NaN       NaN           NaN   \n",
       "11413                        NaN       NaN           NaN   \n",
       "11414                        NaN       NaN           NaN   \n",
       "11415                        NaN       NaN           NaN   \n",
       "11515         12 - Orange County       NaN           NaN   \n",
       "11516         12 - Orange County       NaN           NaN   \n",
       "11517         12 - Orange County       NaN           NaN   \n",
       "11518         12 - Orange County       NaN           NaN   \n",
       "\n",
       "       pct_route_on_hwy_across_districts  on_shs  is_express  is_ferry  \\\n",
       "11412                               0.00       0        0.00      0.00   \n",
       "11413                               0.00       0        0.00      0.00   \n",
       "11414                               0.00       0        0.00      0.00   \n",
       "11415                               0.00       0        0.00      0.00   \n",
       "11515                               0.00       0        0.00      0.00   \n",
       "11516                               0.00       0        0.00      0.00   \n",
       "11517                               0.00       0        0.00      0.00   \n",
       "11518                               0.00       0        0.00      0.00   \n",
       "\n",
       "       is_rail  is_coverage  is_local  is_downtown_local  is_rapid    year  \\\n",
       "11412     0.00         0.00      0.00               1.00      0.00 2025.00   \n",
       "11413     0.00         0.00      0.00               1.00      0.00 2025.00   \n",
       "11414     0.00         0.00      0.00               1.00      0.00 2025.00   \n",
       "11415     0.00         0.00      0.00               1.00      0.00 2025.00   \n",
       "11515     0.00         0.00      0.00               1.00      0.00 2025.00   \n",
       "11516     0.00         0.00      0.00               1.00      0.00 2025.00   \n",
       "11517     0.00         0.00      0.00               1.00      0.00 2025.00   \n",
       "11518     0.00         0.00      0.00               1.00      0.00 2025.00   \n",
       "\n",
       "                          name  \\\n",
       "11412  Anaheim Resort Schedule   \n",
       "11413  Anaheim Resort Schedule   \n",
       "11414  Anaheim Resort Schedule   \n",
       "11415  Anaheim Resort Schedule   \n",
       "11515  Anaheim Resort Schedule   \n",
       "11516  Anaheim Resort Schedule   \n",
       "11517  Anaheim Resort Schedule   \n",
       "11518  Anaheim Resort Schedule   \n",
       "\n",
       "                                                                                                             base64_url  \\\n",
       "11412  aHR0cHM6Ly9hcnQudHJpcHNob3QuY29tL3YxL2d0ZnMuemlwP3JlZ2lvbklkPUNBNTU4RERDLUQ3RjItNEI0OC05Q0FDLURFRUExMTM0RjgyMA==   \n",
       "11413  aHR0cHM6Ly9hcnQudHJpcHNob3QuY29tL3YxL2d0ZnMuemlwP3JlZ2lvbklkPUNBNTU4RERDLUQ3RjItNEI0OC05Q0FDLURFRUExMTM0RjgyMA==   \n",
       "11414  aHR0cHM6Ly9hcnQudHJpcHNob3QuY29tL3YxL2d0ZnMuemlwP3JlZ2lvbklkPUNBNTU4RERDLUQ3RjItNEI0OC05Q0FDLURFRUExMTM0RjgyMA==   \n",
       "11415  aHR0cHM6Ly9hcnQudHJpcHNob3QuY29tL3YxL2d0ZnMuemlwP3JlZ2lvbklkPUNBNTU4RERDLUQ3RjItNEI0OC05Q0FDLURFRUExMTM0RjgyMA==   \n",
       "11515  aHR0cHM6Ly9hcnQudHJpcHNob3QuY29tL3YxL2d0ZnMuemlwP3JlZ2lvbklkPUNBNTU4RERDLUQ3RjItNEI0OC05Q0FDLURFRUExMTM0RjgyMA==   \n",
       "11516  aHR0cHM6Ly9hcnQudHJpcHNob3QuY29tL3YxL2d0ZnMuemlwP3JlZ2lvbklkPUNBNTU4RERDLUQ3RjItNEI0OC05Q0FDLURFRUExMTM0RjgyMA==   \n",
       "11517  aHR0cHM6Ly9hcnQudHJpcHNob3QuY29tL3YxL2d0ZnMuemlwP3JlZ2lvbklkPUNBNTU4RERDLUQ3RjItNEI0OC05Q0FDLURFRUExMTM0RjgyMA==   \n",
       "11518  aHR0cHM6Ly9hcnQudHJpcHNob3QuY29tL3YxL2d0ZnMuemlwP3JlZ2lvbklkPUNBNTU4RERDLUQ3RjItNEI0OC05Q0FDLURFRUExMTM0RjgyMA==   \n",
       "\n",
       "      caltrans_district     portfolio_organization_name  \n",
       "11412    12 - Santa Ana  Anaheim Transportation Network  \n",
       "11413    12 - Santa Ana  Anaheim Transportation Network  \n",
       "11414    12 - Santa Ana  Anaheim Transportation Network  \n",
       "11415    12 - Santa Ana  Anaheim Transportation Network  \n",
       "11515    12 - Santa Ana  Anaheim Transportation Network  \n",
       "11516    12 - Santa Ana  Anaheim Transportation Network  \n",
       "11517    12 - Santa Ana  Anaheim Transportation Network  \n",
       "11518    12 - Santa Ana  Anaheim Transportation Network  "
      ]
     },
     "execution_count": 81,
     "metadata": {},
     "output_type": "execute_result"
    }
   ],
   "source": [
    "route_types2.loc[route_types2.route_name_used.str.contains(\"Toy Story\")].drop(\n",
    "    columns=[\"geometry\"]\n",
    ")"
   ]
  },
  {
   "cell_type": "code",
   "execution_count": 82,
   "id": "0d2e4026-8862-4e08-8e61-b57cbdd07071",
   "metadata": {
    "tags": []
   },
   "outputs": [
    {
     "data": {
      "text/plain": [
       "6"
      ]
     },
     "execution_count": 82,
     "metadata": {},
     "output_type": "execute_result"
    }
   ],
   "source": [
    "len(final.loc[final.route_name_used.str.contains(\"Toy Story\")])"
   ]
  },
  {
   "cell_type": "code",
   "execution_count": 83,
   "id": "bac2b2b4-e3f1-49f0-bf4a-98547d68532c",
   "metadata": {
    "tags": []
   },
   "outputs": [
    {
     "data": {
      "text/plain": [
       "6"
      ]
     },
     "execution_count": 83,
     "metadata": {},
     "output_type": "execute_result"
    }
   ],
   "source": [
    "len(final.loc[final.route_name_used.str.contains(\"Toy Story\")].drop_duplicates())"
   ]
  },
  {
   "cell_type": "code",
   "execution_count": 84,
   "id": "54bf41f8-cfdc-4ddb-8110-c8c862346c0f",
   "metadata": {
    "tags": []
   },
   "outputs": [],
   "source": [
    "toy_story = final.loc[final.route_name_used.str.contains(\"Toy Story\")].drop(\n",
    "    columns=[\"geometry\"]\n",
    ")"
   ]
  },
  {
   "cell_type": "code",
   "execution_count": 85,
   "id": "687534f2-2cb8-4838-8f5e-95fafb8a85f4",
   "metadata": {
    "tags": []
   },
   "outputs": [
    {
     "data": {
      "text/html": [
       "<div>\n",
       "<style scoped>\n",
       "    .dataframe tbody tr th:only-of-type {\n",
       "        vertical-align: middle;\n",
       "    }\n",
       "\n",
       "    .dataframe tbody tr th {\n",
       "        vertical-align: top;\n",
       "    }\n",
       "\n",
       "    .dataframe thead th {\n",
       "        text-align: right;\n",
       "    }\n",
       "</style>\n",
       "<table border=\"1\" class=\"dataframe\">\n",
       "  <thead>\n",
       "    <tr style=\"text-align: right;\">\n",
       "      <th></th>\n",
       "      <th>portfolio_organization_name</th>\n",
       "      <th>route_id</th>\n",
       "      <th>route_type</th>\n",
       "      <th>route_name_used</th>\n",
       "      <th>route_length_feet</th>\n",
       "      <th>shape_id</th>\n",
       "      <th>n_trips</th>\n",
       "      <th>base64_url</th>\n",
       "      <th>shn_route</th>\n",
       "      <th>on_shs</th>\n",
       "      <th>shn_districts</th>\n",
       "      <th>pct_route_on_hwy_across_districts</th>\n",
       "      <th>is_express</th>\n",
       "      <th>is_ferry</th>\n",
       "      <th>is_rail</th>\n",
       "      <th>is_coverage</th>\n",
       "      <th>is_local</th>\n",
       "      <th>is_downtown_local</th>\n",
       "      <th>is_rapid</th>\n",
       "    </tr>\n",
       "  </thead>\n",
       "  <tbody>\n",
       "    <tr>\n",
       "      <th>11515</th>\n",
       "      <td>Anaheim Transportation Network</td>\n",
       "      <td>8f305689-4315-445e-abea-920dbbf0be5e</td>\n",
       "      <td>3</td>\n",
       "      <td>Toy Story Line</td>\n",
       "      <td>13097.18</td>\n",
       "      <td>184be8da-f85c-4df5-9bce-f6c0cde3ed81</td>\n",
       "      <td>1674</td>\n",
       "      <td>aHR0cHM6Ly9hcnQudHJpcHNob3QuY29tL3YxL2d0ZnMuemlwP3JlZ2lvbklkPUNBNTU4RERDLUQ3RjItNEI0OC05Q0FDLURFRUExMTM0RjgyMA==</td>\n",
       "      <td>NaN</td>\n",
       "      <td>0</td>\n",
       "      <td>NaN</td>\n",
       "      <td>0.00</td>\n",
       "      <td>0.00</td>\n",
       "      <td>0.00</td>\n",
       "      <td>0.00</td>\n",
       "      <td>0.00</td>\n",
       "      <td>0.00</td>\n",
       "      <td>1.00</td>\n",
       "      <td>0.00</td>\n",
       "    </tr>\n",
       "    <tr>\n",
       "      <th>11516</th>\n",
       "      <td>Anaheim Transportation Network</td>\n",
       "      <td>8f305689-4315-445e-abea-920dbbf0be5e</td>\n",
       "      <td>3</td>\n",
       "      <td>Toy Story Line</td>\n",
       "      <td>6986.21</td>\n",
       "      <td>184be8da-f85c-4df5-9bce-f6c0cde3ed81:T</td>\n",
       "      <td>31</td>\n",
       "      <td>aHR0cHM6Ly9hcnQudHJpcHNob3QuY29tL3YxL2d0ZnMuemlwP3JlZ2lvbklkPUNBNTU4RERDLUQ3RjItNEI0OC05Q0FDLURFRUExMTM0RjgyMA==</td>\n",
       "      <td>NaN</td>\n",
       "      <td>0</td>\n",
       "      <td>NaN</td>\n",
       "      <td>0.00</td>\n",
       "      <td>0.00</td>\n",
       "      <td>0.00</td>\n",
       "      <td>0.00</td>\n",
       "      <td>0.00</td>\n",
       "      <td>0.00</td>\n",
       "      <td>1.00</td>\n",
       "      <td>0.00</td>\n",
       "    </tr>\n",
       "    <tr>\n",
       "      <th>11412</th>\n",
       "      <td>Anaheim Transportation Network</td>\n",
       "      <td>8f305689-4315-445e-abea-920dbbf0be5e</td>\n",
       "      <td>3</td>\n",
       "      <td>Toy Story Line</td>\n",
       "      <td>13089.88</td>\n",
       "      <td>589006db-7e3b-4faf-8254-a4b3cbe38fe0</td>\n",
       "      <td>2611</td>\n",
       "      <td>aHR0cHM6Ly9hcnQudHJpcHNob3QuY29tL3YxL2d0ZnMuemlwP3JlZ2lvbklkPUNBNTU4RERDLUQ3RjItNEI0OC05Q0FDLURFRUExMTM0RjgyMA==</td>\n",
       "      <td>NaN</td>\n",
       "      <td>0</td>\n",
       "      <td>NaN</td>\n",
       "      <td>0.00</td>\n",
       "      <td>0.00</td>\n",
       "      <td>0.00</td>\n",
       "      <td>0.00</td>\n",
       "      <td>0.00</td>\n",
       "      <td>0.00</td>\n",
       "      <td>1.00</td>\n",
       "      <td>0.00</td>\n",
       "    </tr>\n",
       "    <tr>\n",
       "      <th>11413</th>\n",
       "      <td>Anaheim Transportation Network</td>\n",
       "      <td>8f305689-4315-445e-abea-920dbbf0be5e</td>\n",
       "      <td>3</td>\n",
       "      <td>Toy Story Line</td>\n",
       "      <td>6955.38</td>\n",
       "      <td>589006db-7e3b-4faf-8254-a4b3cbe38fe0:T</td>\n",
       "      <td>45</td>\n",
       "      <td>aHR0cHM6Ly9hcnQudHJpcHNob3QuY29tL3YxL2d0ZnMuemlwP3JlZ2lvbklkPUNBNTU4RERDLUQ3RjItNEI0OC05Q0FDLURFRUExMTM0RjgyMA==</td>\n",
       "      <td>NaN</td>\n",
       "      <td>0</td>\n",
       "      <td>NaN</td>\n",
       "      <td>0.00</td>\n",
       "      <td>0.00</td>\n",
       "      <td>0.00</td>\n",
       "      <td>0.00</td>\n",
       "      <td>0.00</td>\n",
       "      <td>0.00</td>\n",
       "      <td>1.00</td>\n",
       "      <td>0.00</td>\n",
       "    </tr>\n",
       "    <tr>\n",
       "      <th>11414</th>\n",
       "      <td>Anaheim Transportation Network</td>\n",
       "      <td>8f305689-4315-445e-abea-920dbbf0be5e</td>\n",
       "      <td>3</td>\n",
       "      <td>Toy Story Line</td>\n",
       "      <td>13097.18</td>\n",
       "      <td>c8dde9c3-28f7-48ee-a181-17bc46e2738e</td>\n",
       "      <td>1566</td>\n",
       "      <td>aHR0cHM6Ly9hcnQudHJpcHNob3QuY29tL3YxL2d0ZnMuemlwP3JlZ2lvbklkPUNBNTU4RERDLUQ3RjItNEI0OC05Q0FDLURFRUExMTM0RjgyMA==</td>\n",
       "      <td>NaN</td>\n",
       "      <td>0</td>\n",
       "      <td>NaN</td>\n",
       "      <td>0.00</td>\n",
       "      <td>0.00</td>\n",
       "      <td>0.00</td>\n",
       "      <td>0.00</td>\n",
       "      <td>0.00</td>\n",
       "      <td>0.00</td>\n",
       "      <td>1.00</td>\n",
       "      <td>0.00</td>\n",
       "    </tr>\n",
       "    <tr>\n",
       "      <th>11415</th>\n",
       "      <td>Anaheim Transportation Network</td>\n",
       "      <td>8f305689-4315-445e-abea-920dbbf0be5e</td>\n",
       "      <td>3</td>\n",
       "      <td>Toy Story Line</td>\n",
       "      <td>6986.21</td>\n",
       "      <td>c8dde9c3-28f7-48ee-a181-17bc46e2738e:T</td>\n",
       "      <td>29</td>\n",
       "      <td>aHR0cHM6Ly9hcnQudHJpcHNob3QuY29tL3YxL2d0ZnMuemlwP3JlZ2lvbklkPUNBNTU4RERDLUQ3RjItNEI0OC05Q0FDLURFRUExMTM0RjgyMA==</td>\n",
       "      <td>NaN</td>\n",
       "      <td>0</td>\n",
       "      <td>NaN</td>\n",
       "      <td>0.00</td>\n",
       "      <td>0.00</td>\n",
       "      <td>0.00</td>\n",
       "      <td>0.00</td>\n",
       "      <td>0.00</td>\n",
       "      <td>0.00</td>\n",
       "      <td>1.00</td>\n",
       "      <td>0.00</td>\n",
       "    </tr>\n",
       "  </tbody>\n",
       "</table>\n",
       "</div>"
      ],
      "text/plain": [
       "          portfolio_organization_name                              route_id  \\\n",
       "11515  Anaheim Transportation Network  8f305689-4315-445e-abea-920dbbf0be5e   \n",
       "11516  Anaheim Transportation Network  8f305689-4315-445e-abea-920dbbf0be5e   \n",
       "11412  Anaheim Transportation Network  8f305689-4315-445e-abea-920dbbf0be5e   \n",
       "11413  Anaheim Transportation Network  8f305689-4315-445e-abea-920dbbf0be5e   \n",
       "11414  Anaheim Transportation Network  8f305689-4315-445e-abea-920dbbf0be5e   \n",
       "11415  Anaheim Transportation Network  8f305689-4315-445e-abea-920dbbf0be5e   \n",
       "\n",
       "      route_type route_name_used  route_length_feet  \\\n",
       "11515          3  Toy Story Line           13097.18   \n",
       "11516          3  Toy Story Line            6986.21   \n",
       "11412          3  Toy Story Line           13089.88   \n",
       "11413          3  Toy Story Line            6955.38   \n",
       "11414          3  Toy Story Line           13097.18   \n",
       "11415          3  Toy Story Line            6986.21   \n",
       "\n",
       "                                     shape_id  n_trips  \\\n",
       "11515    184be8da-f85c-4df5-9bce-f6c0cde3ed81     1674   \n",
       "11516  184be8da-f85c-4df5-9bce-f6c0cde3ed81:T       31   \n",
       "11412    589006db-7e3b-4faf-8254-a4b3cbe38fe0     2611   \n",
       "11413  589006db-7e3b-4faf-8254-a4b3cbe38fe0:T       45   \n",
       "11414    c8dde9c3-28f7-48ee-a181-17bc46e2738e     1566   \n",
       "11415  c8dde9c3-28f7-48ee-a181-17bc46e2738e:T       29   \n",
       "\n",
       "                                                                                                             base64_url  \\\n",
       "11515  aHR0cHM6Ly9hcnQudHJpcHNob3QuY29tL3YxL2d0ZnMuemlwP3JlZ2lvbklkPUNBNTU4RERDLUQ3RjItNEI0OC05Q0FDLURFRUExMTM0RjgyMA==   \n",
       "11516  aHR0cHM6Ly9hcnQudHJpcHNob3QuY29tL3YxL2d0ZnMuemlwP3JlZ2lvbklkPUNBNTU4RERDLUQ3RjItNEI0OC05Q0FDLURFRUExMTM0RjgyMA==   \n",
       "11412  aHR0cHM6Ly9hcnQudHJpcHNob3QuY29tL3YxL2d0ZnMuemlwP3JlZ2lvbklkPUNBNTU4RERDLUQ3RjItNEI0OC05Q0FDLURFRUExMTM0RjgyMA==   \n",
       "11413  aHR0cHM6Ly9hcnQudHJpcHNob3QuY29tL3YxL2d0ZnMuemlwP3JlZ2lvbklkPUNBNTU4RERDLUQ3RjItNEI0OC05Q0FDLURFRUExMTM0RjgyMA==   \n",
       "11414  aHR0cHM6Ly9hcnQudHJpcHNob3QuY29tL3YxL2d0ZnMuemlwP3JlZ2lvbklkPUNBNTU4RERDLUQ3RjItNEI0OC05Q0FDLURFRUExMTM0RjgyMA==   \n",
       "11415  aHR0cHM6Ly9hcnQudHJpcHNob3QuY29tL3YxL2d0ZnMuemlwP3JlZ2lvbklkPUNBNTU4RERDLUQ3RjItNEI0OC05Q0FDLURFRUExMTM0RjgyMA==   \n",
       "\n",
       "      shn_route  on_shs shn_districts  pct_route_on_hwy_across_districts  \\\n",
       "11515       NaN       0           NaN                               0.00   \n",
       "11516       NaN       0           NaN                               0.00   \n",
       "11412       NaN       0           NaN                               0.00   \n",
       "11413       NaN       0           NaN                               0.00   \n",
       "11414       NaN       0           NaN                               0.00   \n",
       "11415       NaN       0           NaN                               0.00   \n",
       "\n",
       "       is_express  is_ferry  is_rail  is_coverage  is_local  \\\n",
       "11515        0.00      0.00     0.00         0.00      0.00   \n",
       "11516        0.00      0.00     0.00         0.00      0.00   \n",
       "11412        0.00      0.00     0.00         0.00      0.00   \n",
       "11413        0.00      0.00     0.00         0.00      0.00   \n",
       "11414        0.00      0.00     0.00         0.00      0.00   \n",
       "11415        0.00      0.00     0.00         0.00      0.00   \n",
       "\n",
       "       is_downtown_local  is_rapid  \n",
       "11515               1.00      0.00  \n",
       "11516               1.00      0.00  \n",
       "11412               1.00      0.00  \n",
       "11413               1.00      0.00  \n",
       "11414               1.00      0.00  \n",
       "11415               1.00      0.00  "
      ]
     },
     "execution_count": 85,
     "metadata": {},
     "output_type": "execute_result"
    }
   ],
   "source": [
    "toy_story.sort_values(by=[\"shape_id\"])"
   ]
  },
  {
   "cell_type": "markdown",
   "id": "e2b1594b-3ca7-4c8f-9688-2718e9aba094",
   "metadata": {},
   "source": [
    "## Check with actual result from June"
   ]
  },
  {
   "cell_type": "code",
   "execution_count": 88,
   "id": "16d977fe-8bd4-4e2c-86a6-3333389c4d7b",
   "metadata": {
    "tags": []
   },
   "outputs": [],
   "source": [
    "june_real_url = \"gs://calitp-analytics-data/data-analyses/traffic_ops/ca_transit_routes_2025-06-11.parquet\""
   ]
  },
  {
   "cell_type": "code",
   "execution_count": 89,
   "id": "201daa0c-b313-4588-92aa-ca280ed86d16",
   "metadata": {
    "tags": []
   },
   "outputs": [],
   "source": [
    "june_gdf = pd.read_parquet(june_real_url)"
   ]
  },
  {
   "cell_type": "code",
   "execution_count": 90,
   "id": "43791a25-e6aa-406f-a987-0d8335b086c1",
   "metadata": {
    "tags": []
   },
   "outputs": [
    {
     "name": "stdout",
     "output_type": "stream",
     "text": [
      "<class 'pandas.core.frame.DataFrame'>\n",
      "RangeIndex: 9798 entries, 0 to 9797\n",
      "Data columns (total 12 columns):\n",
      " #   Column                         Non-Null Count  Dtype \n",
      "---  ------                         --------------  ----- \n",
      " 0   n_trips                        9798 non-null   int64 \n",
      " 1   geometry                       9798 non-null   object\n",
      " 2   schedule_gtfs_dataset_key      9798 non-null   object\n",
      " 3   route_id                       9798 non-null   object\n",
      " 4   route_type                     9798 non-null   object\n",
      " 5   shape_id                       9798 non-null   object\n",
      " 6   route_name_used                9798 non-null   object\n",
      " 7   name                           9798 non-null   object\n",
      " 8   base64_url                     9798 non-null   object\n",
      " 9   organization_source_record_id  9798 non-null   object\n",
      " 10  organization_name              9798 non-null   object\n",
      " 11  caltrans_district              9798 non-null   object\n",
      "dtypes: int64(1), object(11)\n",
      "memory usage: 918.7+ KB\n"
     ]
    }
   ],
   "source": [
    "june_gdf.info()"
   ]
  },
  {
   "cell_type": "code",
   "execution_count": 91,
   "id": "c28c82dd-4421-4b72-8e48-5249d18ea95e",
   "metadata": {
    "tags": []
   },
   "outputs": [
    {
     "data": {
      "text/plain": [
       "8818"
      ]
     },
     "execution_count": 91,
     "metadata": {},
     "output_type": "execute_result"
    }
   ],
   "source": [
    "len(june_gdf.drop_duplicates())"
   ]
  },
  {
   "cell_type": "markdown",
   "id": "49306ca5-b5a4-41c6-b0f6-40f9ae472ec6",
   "metadata": {},
   "source": [
    "## Check with test file from June (9/15)"
   ]
  },
  {
   "cell_type": "code",
   "execution_count": 113,
   "id": "b5d01e10-c679-4ee1-a609-d5271e4a3111",
   "metadata": {
    "tags": []
   },
   "outputs": [],
   "source": [
    "ah_test = \"gs://calitp-analytics-data/data-analyses/ah_testing/ca_transit_routes.parquet\""
   ]
  },
  {
   "cell_type": "code",
   "execution_count": 114,
   "id": "f4b71267-b7ca-4806-a5e7-21d110aba816",
   "metadata": {
    "tags": []
   },
   "outputs": [],
   "source": [
    "ah_test_gdf = pd.read_parquet(ah_test)"
   ]
  },
  {
   "cell_type": "code",
   "execution_count": 115,
   "id": "9633a9e2-e14f-402e-aaed-c5b37509cca5",
   "metadata": {
    "tags": []
   },
   "outputs": [
    {
     "name": "stdout",
     "output_type": "stream",
     "text": [
      "<class 'pandas.core.frame.DataFrame'>\n",
      "Int64Index: 8101 entries, 0 to 14479\n",
      "Data columns (total 20 columns):\n",
      " #   Column                             Non-Null Count  Dtype  \n",
      "---  ------                             --------------  -----  \n",
      " 0   agency                             8101 non-null   object \n",
      " 1   route_id                           8101 non-null   object \n",
      " 2   route_type                         8101 non-null   object \n",
      " 3   route_name                         8101 non-null   object \n",
      " 4   route_length_feet                  8101 non-null   float64\n",
      " 5   shape_id                           8101 non-null   object \n",
      " 6   n_trips                            8101 non-null   int64  \n",
      " 7   base64_url                         8101 non-null   object \n",
      " 8   shn_route                          6128 non-null   object \n",
      " 9   on_shs                             8101 non-null   int64  \n",
      " 10  shn_districts                      6128 non-null   object \n",
      " 11  pct_route_on_hwy_across_districts  8101 non-null   float64\n",
      " 12  is_express                         7234 non-null   float64\n",
      " 13  is_ferry                           7234 non-null   float64\n",
      " 14  is_rail                            7234 non-null   float64\n",
      " 15  is_coverage                        7234 non-null   float64\n",
      " 16  is_local                           7234 non-null   float64\n",
      " 17  is_downtown_local                  7234 non-null   float64\n",
      " 18  is_rapid                           7234 non-null   float64\n",
      " 19  geometry                           8101 non-null   object \n",
      "dtypes: float64(9), int64(2), object(9)\n",
      "memory usage: 1.3+ MB\n"
     ]
    }
   ],
   "source": [
    "ah_test_gdf.info()"
   ]
  },
  {
   "cell_type": "code",
   "execution_count": 116,
   "id": "e7b9c32c-7f8b-45e6-a408-832b81f47557",
   "metadata": {
    "tags": []
   },
   "outputs": [
    {
     "name": "stdout",
     "output_type": "stream",
     "text": [
      "<class 'geopandas.geodataframe.GeoDataFrame'>\n",
      "Int64Index: 8101 entries, 0 to 14479\n",
      "Data columns (total 20 columns):\n",
      " #   Column                             Non-Null Count  Dtype   \n",
      "---  ------                             --------------  -----   \n",
      " 0   portfolio_organization_name        8101 non-null   object  \n",
      " 1   route_id                           8101 non-null   object  \n",
      " 2   route_type                         8101 non-null   object  \n",
      " 3   route_name_used                    8101 non-null   object  \n",
      " 4   route_length_feet                  8101 non-null   float64 \n",
      " 5   shape_id                           8101 non-null   object  \n",
      " 6   n_trips                            8101 non-null   int64   \n",
      " 7   base64_url                         8101 non-null   object  \n",
      " 8   shn_route                          6128 non-null   object  \n",
      " 9   on_shs                             8101 non-null   int64   \n",
      " 10  shn_districts                      6128 non-null   object  \n",
      " 11  pct_route_on_hwy_across_districts  8101 non-null   float64 \n",
      " 12  is_express                         7234 non-null   float64 \n",
      " 13  is_ferry                           7234 non-null   float64 \n",
      " 14  is_rail                            7234 non-null   float64 \n",
      " 15  is_coverage                        7234 non-null   float64 \n",
      " 16  is_local                           7234 non-null   float64 \n",
      " 17  is_downtown_local                  7234 non-null   float64 \n",
      " 18  is_rapid                           7234 non-null   float64 \n",
      " 19  geometry                           8101 non-null   geometry\n",
      "dtypes: float64(9), geometry(1), int64(2), object(8)\n",
      "memory usage: 1.3+ MB\n"
     ]
    }
   ],
   "source": [
    "final.info()"
   ]
  }
 ],
 "metadata": {
  "kernelspec": {
   "display_name": "Python 3 (ipykernel)",
   "language": "python",
   "name": "python3"
  },
  "language_info": {
   "codemirror_mode": {
    "name": "ipython",
    "version": 3
   },
   "file_extension": ".py",
   "mimetype": "text/x-python",
   "name": "python",
   "nbconvert_exporter": "python",
   "pygments_lexer": "ipython3",
   "version": "3.11.10"
  }
 },
 "nbformat": 4,
 "nbformat_minor": 5
}
