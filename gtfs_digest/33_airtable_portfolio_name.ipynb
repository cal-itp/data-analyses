{
 "cells": [
  {
   "cell_type": "markdown",
   "id": "740f011b-60b0-4f25-8106-80271ab65082",
   "metadata": {},
   "source": [
    "# Replacing Portfolio Organization Name YML with Airtable\n",
    "* GTFS Digest still uses the YML\n",
    "* Open_data products"
   ]
  },
  {
   "cell_type": "code",
   "execution_count": 1,
   "id": "cd34d682-63ff-43eb-a5d1-50aef445f833",
   "metadata": {
    "tags": []
   },
   "outputs": [],
   "source": [
    "import pandas as pd\n",
    "from calitp_data_analysis.sql import get_engine\n",
    "from calitp_data_analysis.tables import tbls\n",
    "from segment_speed_utils import helpers\n",
    "from shared_utils import catalog_utils, gtfs_utils_v2, schedule_rt_utils\n",
    "from update_vars import GTFS_DATA_DICT, SCHED_GCS\n",
    "\n",
    "db_engine = get_engine()"
   ]
  },
  {
   "cell_type": "code",
   "execution_count": 2,
   "id": "0332a993-3ec1-4a51-b646-3c5bf92af667",
   "metadata": {
    "tags": []
   },
   "outputs": [],
   "source": [
    "import datetime\n",
    "\n",
    "import geopandas as gpd\n",
    "import google.auth\n",
    "import numpy as np\n",
    "import pandas as pd\n",
    "import yaml\n",
    "from calitp_data_analysis import geography_utils, utils\n",
    "from segment_speed_utils import helpers\n",
    "from shared_utils import (\n",
    "    dask_utils,\n",
    "    portfolio_utils,\n",
    "    publish_utils,\n",
    "    rt_dates,\n",
    "    shared_data,\n",
    ")\n",
    "\n",
    "credentials, project = google.auth.default()\n",
    "import gcsfs\n",
    "\n",
    "fs = gcsfs.GCSFileSystem()"
   ]
  },
  {
   "cell_type": "code",
   "execution_count": 3,
   "id": "9b6eb6f2-6cb7-47c9-86b1-d557f673dca5",
   "metadata": {
    "tags": []
   },
   "outputs": [],
   "source": [
    "pd.options.display.max_columns = 100\n",
    "pd.options.display.float_format = \"{:.2f}\".format\n",
    "pd.set_option(\"display.max_rows\", None)\n",
    "pd.set_option(\"display.max_colwidth\", None)"
   ]
  },
  {
   "cell_type": "code",
   "execution_count": 4,
   "id": "3dd5a183-8ac1-4f67-9145-d2637268dc67",
   "metadata": {
    "tags": []
   },
   "outputs": [],
   "source": [
    "analysis_date = \"2025-06-11\""
   ]
  },
  {
   "cell_type": "code",
   "execution_count": 5,
   "id": "a47b1ce1-60cd-4555-b25a-05e2b02da1da",
   "metadata": {
    "tags": []
   },
   "outputs": [],
   "source": [
    "date = \"2025-06-11\""
   ]
  },
  {
   "cell_type": "code",
   "execution_count": 6,
   "id": "ecee2009-d022-475c-8090-6360e406b02e",
   "metadata": {
    "tags": []
   },
   "outputs": [],
   "source": [
    "SHN_HWY_BUFFER_FEET = 50"
   ]
  },
  {
   "cell_type": "markdown",
   "id": "e5655d3b-0cf0-4434-8f66-0a77e4154101",
   "metadata": {},
   "source": [
    "## `open_data/create_routes_data`"
   ]
  },
  {
   "cell_type": "code",
   "execution_count": 7,
   "id": "bfe0482f-e00f-4ac7-ba83-afc3bcc82985",
   "metadata": {
    "tags": []
   },
   "outputs": [],
   "source": [
    "def create_routes_file_for_export(date: str) -> gpd.GeoDataFrame:\n",
    "    \"\"\"\n",
    "    Create a shapes (with associated route info) file for export.\n",
    "    This allows users to plot the various shapes,\n",
    "    transit path options, and select between variations for\n",
    "    a given route.\n",
    "    \"\"\"\n",
    "    # Read in local parquets\n",
    "    trips = helpers.import_scheduled_trips(\n",
    "        date,\n",
    "        columns=[\n",
    "            \"name\",\n",
    "            \"gtfs_dataset_key\",\n",
    "            \"route_id\",\n",
    "            \"route_type\",\n",
    "            \"shape_id\",\n",
    "            \"shape_array_key\",\n",
    "            \"route_long_name\",\n",
    "            \"route_short_name\",\n",
    "            \"route_desc\",\n",
    "        ],\n",
    "        get_pandas=True,\n",
    "    ).dropna(subset=\"shape_array_key\")\n",
    "\n",
    "    shapes = helpers.import_scheduled_shapes(\n",
    "        date,\n",
    "        columns=[\"shape_array_key\", \"n_trips\", \"geometry\"],\n",
    "        get_pandas=True,\n",
    "        crs=geography_utils.WGS84,\n",
    "    ).dropna(subset=\"shape_array_key\")\n",
    "\n",
    "    df = (\n",
    "        pd.merge(shapes, trips, on=\"shape_array_key\", how=\"inner\")\n",
    "        .drop_duplicates(subset=\"shape_array_key\")\n",
    "        .drop(columns=\"shape_array_key\")\n",
    "    )\n",
    "\n",
    "    drop_cols = [\"route_short_name\", \"route_long_name\", \"route_desc\"]\n",
    "    route_shape_cols = [\"schedule_gtfs_dataset_key\", \"route_id\", \"shape_id\"]\n",
    "\n",
    "    routes_assembled = (\n",
    "        portfolio_utils.add_route_name(df)\n",
    "        .drop(columns=drop_cols)\n",
    "        .sort_values(route_shape_cols)\n",
    "        .drop_duplicates(subset=route_shape_cols)\n",
    "        .reset_index(drop=True)\n",
    "    )\n",
    "\n",
    "    routes_assembled = routes_assembled.pipe(remove_erroneous_shapes)\n",
    "\n",
    "    routes_assembled = routes_assembled.assign(\n",
    "        route_length_feet=routes_assembled.geometry.to_crs(\n",
    "            geography_utils.CA_NAD83Albers_ft\n",
    "        ).length\n",
    "    )\n",
    "    return routes_assembled"
   ]
  },
  {
   "cell_type": "code",
   "execution_count": 8,
   "id": "3819f3e6-3cdb-4b0e-92fe-ed27b3186bf3",
   "metadata": {
    "tags": []
   },
   "outputs": [],
   "source": [
    "def remove_erroneous_shapes(\n",
    "    shapes_with_route_info: gpd.GeoDataFrame,\n",
    ") -> gpd.GeoDataFrame:\n",
    "    \"\"\"\n",
    "    Check if line is simple for Amtrak. If it is, keep.\n",
    "    If it's not simple (line crosses itself), drop.\n",
    "\n",
    "    In Jun 2023, some Amtrak shapes appeared to be funky,\n",
    "    but in prior months, it's been ok.\n",
    "    Checking for length is fairly time-consuming.\n",
    "    \"\"\"\n",
    "    amtrak = \"Amtrak Schedule\"\n",
    "\n",
    "    possible_error = shapes_with_route_info[shapes_with_route_info.name == amtrak]\n",
    "    ok = shapes_with_route_info[shapes_with_route_info.name != amtrak]\n",
    "\n",
    "    # Check if the line crosses itself\n",
    "    ok_amtrak = (\n",
    "        possible_error.assign(simple=possible_error.geometry.is_simple)\n",
    "        .query(\"simple == True\")\n",
    "        .drop(columns=\"simple\")\n",
    "    )\n",
    "\n",
    "    ok_shapes = pd.concat([ok, ok_amtrak], axis=0).reset_index(drop=True)\n",
    "\n",
    "    return ok_shapes"
   ]
  },
  {
   "cell_type": "code",
   "execution_count": 9,
   "id": "b4ef1928-82b1-4408-bd88-6af4b1b07228",
   "metadata": {
    "tags": []
   },
   "outputs": [],
   "source": [
    "routes = create_routes_file_for_export(analysis_date)"
   ]
  },
  {
   "cell_type": "code",
   "execution_count": 10,
   "id": "9001e272-8d25-4c57-bfbc-b9fab882defb",
   "metadata": {
    "tags": []
   },
   "outputs": [],
   "source": [
    "def patch_previous_dates(\n",
    "    current_routes: gpd.GeoDataFrame,\n",
    "    current_date: str,\n",
    "    published_operators_yaml: str = \"../gtfs_funnel/published_operators.yml\",\n",
    ") -> gpd.GeoDataFrame:\n",
    "    \"\"\"\n",
    "    Compare to the yaml for what operators we want, and\n",
    "    patch in previous dates for the 10 or so operators\n",
    "    that do not have data for this current date.\n",
    "    \"\"\"\n",
    "    # Read in the published operators file\n",
    "    with open(published_operators_yaml) as f:\n",
    "        published_operators_dict = yaml.safe_load(f)\n",
    "\n",
    "    # Convert the published operators file into a dict mapping dates to an iterable of operators\n",
    "    patch_operators_dict = {\n",
    "        str(date): operator_list\n",
    "        for date, operator_list in published_operators_dict.items()\n",
    "        if str(date)\n",
    "        != current_date  # Exclude the current (analysis) date, since that does not need to be patched\n",
    "    }\n",
    "\n",
    "    partial_dfs = []\n",
    "\n",
    "    # For each date and corresponding iterable of operators, get the data from the last time they appeared\n",
    "    for one_date, operator_list in patch_operators_dict.items():\n",
    "        df_to_add = publish_utils.subset_table_from_previous_date(\n",
    "            gcs_bucket=TRAFFIC_OPS_GCS,\n",
    "            filename=f\"ca_transit_routes\",\n",
    "            operator_and_dates_dict=patch_operators_dict,\n",
    "            date=one_date,\n",
    "            crosswalk_col=\"schedule_gtfs_dataset_key\",\n",
    "            data_type=\"gdf\",\n",
    "        )\n",
    "\n",
    "        partial_dfs.append(df_to_add)\n",
    "\n",
    "    patch_routes = pd.concat(partial_dfs, axis=0, ignore_index=True)\n",
    "\n",
    "    # Concat the current data to the \"backfill\" data\n",
    "    published_routes = pd.concat(\n",
    "        [current_routes, patch_routes], axis=0, ignore_index=True\n",
    "    )\n",
    "    # Drop Duplicates\n",
    "    published_routes = published_routes.drop_duplicates().reset_index(drop=True)\n",
    "    return published_routes"
   ]
  },
  {
   "cell_type": "code",
   "execution_count": 11,
   "id": "78073bec-26d1-4d9f-9bb4-5d5249e1997d",
   "metadata": {
    "tags": []
   },
   "outputs": [],
   "source": [
    "TRAFFIC_OPS_GCS = f\"{GTFS_DATA_DICT.gcs_paths.GCS}traffic_ops/\""
   ]
  },
  {
   "cell_type": "code",
   "execution_count": 12,
   "id": "b0520d2e-7b69-473a-99a8-605bd8c931c4",
   "metadata": {
    "tags": []
   },
   "outputs": [],
   "source": [
    "published_routes = patch_previous_dates(\n",
    "    routes,\n",
    "    analysis_date,\n",
    ")"
   ]
  },
  {
   "cell_type": "code",
   "execution_count": 13,
   "id": "e2d35169-7b56-4424-bd82-47fc94e09f25",
   "metadata": {
    "tags": []
   },
   "outputs": [
    {
     "data": {
      "text/plain": [
       "16008"
      ]
     },
     "execution_count": 13,
     "metadata": {},
     "output_type": "execute_result"
    }
   ],
   "source": [
    "len(published_routes)"
   ]
  },
  {
   "cell_type": "markdown",
   "id": "eba15f44-cfdf-4565-a163-6d952b67036c",
   "metadata": {},
   "source": [
    "## Adding SHN -> % of Transit Route on SHS exceeds 100%...Why?"
   ]
  },
  {
   "cell_type": "code",
   "execution_count": 14,
   "id": "9414f346-2517-452a-a2db-7b7aab87605a",
   "metadata": {
    "tags": []
   },
   "outputs": [],
   "source": [
    "def add_shn_information(gdf: gpd.GeoDataFrame, buffer_amt: int) -> pd.DataFrame:\n",
    "    \"\"\"\n",
    "    Prepare the gdf to join with the existing transit_routes\n",
    "    dataframe that is published on the Open Data Portal\n",
    "    \"\"\"\n",
    "    # Retain only the longest shape for each name-route_id combo\n",
    "    # so finding the intersection with SHN won't take as long\n",
    "    # Overlay\n",
    "    intersecting = routes_shn_intersection(gdf, buffer_amt)\n",
    "\n",
    "    # Group the dataframe so that one route only has one\n",
    "    # row instead of multiple rows after finding its\n",
    "    # intersection with any SHN routes.\n",
    "    # print(intersecting.columns)\n",
    "    agg1 = group_route_district(intersecting)\n",
    "\n",
    "    # Merge the dataframe with all the SHS info with the original\n",
    "    # gdf so we can get the original transit route geometries &\n",
    "    # any routes that don't intersect with the state highway routes.\n",
    "    m1 = pd.merge(gdf, agg1, on=[\"route_id\", \"name\", \"shape_id\"], how=\"left\")\n",
    "\n",
    "    # Add yes/no column to signify if a transit route intersects\n",
    "    # with a SHN route\n",
    "    m1.pct_route_on_hwy_across_districts = m1.pct_route_on_hwy_across_districts.fillna(\n",
    "        0\n",
    "    )\n",
    "    m1[\"on_shs\"] = np.where(m1[\"pct_route_on_hwy_across_districts\"] == 0, 0, 1)\n",
    "\n",
    "    # Clean up rows that are tagged as \"on_shs==N\" but still have values\n",
    "    # that appear.\n",
    "    m1.loc[\n",
    "        (m1[\"on_shs\"] == \"N\") & (m1[\"shn_districts\"] != \"0\"),\n",
    "        [\"shn_districts\", \"shn_route\"],\n",
    "    ] = np.nan\n",
    "\n",
    "    return m1"
   ]
  },
  {
   "cell_type": "code",
   "execution_count": 15,
   "id": "05549477-803c-4339-9ddb-89fb43f1d01a",
   "metadata": {
    "tags": []
   },
   "outputs": [],
   "source": [
    "GCS_FILE_PATH = \"gs://calitp-analytics-data/data-analyses/shared_data/\""
   ]
  },
  {
   "cell_type": "code",
   "execution_count": 16,
   "id": "90fecd70-63e3-4a2e-a00d-5badddfbb2ec",
   "metadata": {
    "tags": []
   },
   "outputs": [],
   "source": [
    "HWY_FILE = (\n",
    "    f\"{GCS_FILE_PATH}shn_buffered_{50}_ft_shn_dissolved_by_ct_district_route.parquet\"\n",
    ")"
   ]
  },
  {
   "cell_type": "code",
   "execution_count": 17,
   "id": "650d0f62-0470-46c7-a28e-8fd73f16a8ba",
   "metadata": {
    "tags": []
   },
   "outputs": [
    {
     "data": {
      "text/plain": [
       "'gs://calitp-analytics-data/data-analyses/shared_data/shn_buffered_50_ft_shn_dissolved_by_ct_district_route.parquet'"
      ]
     },
     "execution_count": 17,
     "metadata": {},
     "output_type": "execute_result"
    }
   ],
   "source": [
    "HWY_FILE\n",
    "# gs://calitp-analytics-data/data-analyses/shared_data/shn_buffered_50_ft_shn_dissolved_by_ct_district_route.parquet"
   ]
  },
  {
   "cell_type": "code",
   "execution_count": 18,
   "id": "3b05bf81-cac4-4817-a1c4-00670c0ae5c8",
   "metadata": {
    "tags": []
   },
   "outputs": [],
   "source": [
    "def routes_shn_intersection(\n",
    "    routes_gdf: gpd.GeoDataFrame, buffer_amount: int\n",
    ") -> gpd.GeoDataFrame:\n",
    "    \"\"\"\n",
    "    Overlay the most recent transit routes with a buffered version\n",
    "    of the SHN\n",
    "    \"\"\"\n",
    "    GCS_FILE_PATH = \"gs://calitp-analytics-data/data-analyses/shared_data/\"\n",
    "\n",
    "    # Read in buffered shn here or re buffer if we don't have it available.\n",
    "    HWY_FILE = f\"{GCS_FILE_PATH}shn_buffered_{buffer_amount}_ft_shn_dissolved_by_ct_district_route.parquet\"\n",
    "\n",
    "    if fs.exists(HWY_FILE):\n",
    "        shn_routes_gdf = gpd.read_parquet(\n",
    "            HWY_FILE, storage_options={\"token\": credentials.token}\n",
    "        )\n",
    "    else:\n",
    "        shn_routes_gdf = shared_data.buffer_shn(buffer_amount)\n",
    "\n",
    "    # Process the most recent transit route geographies and ensure the\n",
    "    # CRS matches the SHN routes' GDF so the overlay doesn't go wonky.\n",
    "    routes_gdf = routes_gdf.to_crs(shn_routes_gdf.crs)\n",
    "\n",
    "    # Overlay transit routes with the SHN geographies.\n",
    "    gdf = gpd.overlay(\n",
    "        routes_gdf, shn_routes_gdf, how=\"intersection\", keep_geom_type=True\n",
    "    )\n",
    "\n",
    "    # Calcuate the percent of the transit route that runs on a highway, round it up and\n",
    "    # multiply it by 100\n",
    "    gdf = gdf.assign(\n",
    "        pct_route_on_hwy=(gdf.geometry.length / gdf.route_length_feet).round(3) * 100,\n",
    "    )\n",
    "    # Subset\n",
    "    gdf2 = gdf[\n",
    "        [\n",
    "            \"name\",\n",
    "            \"pct_route_on_hwy\",\n",
    "            \"route_id\",\n",
    "            \"shape_id\",  # maybe comment out later\n",
    "            \"district\",\n",
    "            \"shn_route\",\n",
    "        ]\n",
    "    ]\n",
    "\n",
    "    # Clean up\n",
    "    gdf2.district = gdf2.district.fillna(0).astype(int)\n",
    "\n",
    "    gdf2 = gdf2.rename(\n",
    "        columns={\n",
    "            \"pct_route_on_hwy\": \"pct_route_on_hwy_across_districts\",\n",
    "            \"district\": \"shn_districts\",\n",
    "        }\n",
    "    )\n",
    "\n",
    "    # Delete duplicates\n",
    "    gdf2 = gdf2.drop_duplicates().reset_index()\n",
    "    gdf3 = gdf2.drop_duplicates(\n",
    "        subset=[\"name\", \"route_id\", \"shape_id\", \"shn_route\", \"shn_districts\"]\n",
    "    )\n",
    "    return gdf3"
   ]
  },
  {
   "cell_type": "code",
   "execution_count": 19,
   "id": "d9693642-cd1c-45d7-91f7-4e9029443027",
   "metadata": {
    "tags": []
   },
   "outputs": [],
   "source": [
    "def group_route_district(df: pd.DataFrame) -> pd.DataFrame:\n",
    "    \"\"\"\n",
    "    Aggregate by adding all the districts and SHN to a single row, rather than\n",
    "    multiple and sum up the total % of SHN a transit route intersects with.\n",
    "\n",
    "    df: the dataframe you want to aggregate\n",
    "    pct_route_on_hwy_agg: whether you want to find the max, min, sum, etc on the column\n",
    "    \"pct_route_on_hwy_across_districts\"\n",
    "    \"\"\"\n",
    "\n",
    "    agg1 = (\n",
    "        df.groupby(\n",
    "            [\"name\", \"route_id\", \"shape_id\"],  # maybe comment out later\n",
    "            as_index=False,\n",
    "        )[[\"shn_route\", \"shn_districts\", \"pct_route_on_hwy_across_districts\"]]\n",
    "        .agg(\n",
    "            {\n",
    "                \"shn_route\": lambda x: \", \".join(set(x.astype(str))),\n",
    "                \"shn_districts\": lambda x: \", \".join(set(x.astype(str))),\n",
    "                \"pct_route_on_hwy_across_districts\": \"sum\",\n",
    "            }\n",
    "        )\n",
    "        .reset_index(drop=True)\n",
    "    )\n",
    "\n",
    "    # Clean up\n",
    "    agg1.pct_route_on_hwy_across_districts = (\n",
    "        agg1.pct_route_on_hwy_across_districts.astype(float).round(2)\n",
    "    )\n",
    "\n",
    "    return agg1"
   ]
  },
  {
   "cell_type": "code",
   "execution_count": 20,
   "id": "55e55371-d6f1-4525-a4b7-f31fde4e8acb",
   "metadata": {
    "tags": []
   },
   "outputs": [
    {
     "name": "stderr",
     "output_type": "stream",
     "text": [
      "/tmp/ipykernel_2227/3507653536.py:47: SettingWithCopyWarning: \n",
      "A value is trying to be set on a copy of a slice from a DataFrame.\n",
      "Try using .loc[row_indexer,col_indexer] = value instead\n",
      "\n",
      "See the caveats in the documentation: https://pandas.pydata.org/pandas-docs/stable/user_guide/indexing.html#returning-a-view-versus-a-copy\n",
      "  gdf2.district = gdf2.district.fillna(0).astype(int)\n"
     ]
    }
   ],
   "source": [
    "shn_df1 = routes_shn_intersection(published_routes, SHN_HWY_BUFFER_FEET)"
   ]
  },
  {
   "cell_type": "code",
   "execution_count": 21,
   "id": "c058c1b2-c2ae-4948-a125-e61dc6bc38ef",
   "metadata": {
    "tags": []
   },
   "outputs": [
    {
     "data": {
      "text/plain": [
       "21709"
      ]
     },
     "execution_count": 21,
     "metadata": {},
     "output_type": "execute_result"
    }
   ],
   "source": [
    "len(shn_df1)"
   ]
  },
  {
   "cell_type": "code",
   "execution_count": 22,
   "id": "00ddee15-85ef-489b-a894-f8bf179e95a1",
   "metadata": {
    "tags": []
   },
   "outputs": [
    {
     "data": {
      "text/plain": [
       "16008"
      ]
     },
     "execution_count": 22,
     "metadata": {},
     "output_type": "execute_result"
    }
   ],
   "source": [
    "len(published_routes)"
   ]
  },
  {
   "cell_type": "code",
   "execution_count": 23,
   "id": "acae03e6-3275-4a55-b2a3-b421072720ab",
   "metadata": {
    "tags": []
   },
   "outputs": [
    {
     "data": {
      "text/plain": [
       "count   21472.00\n",
       "mean        6.41\n",
       "std        15.67\n",
       "min         0.00\n",
       "25%         0.10\n",
       "50%         0.30\n",
       "75%         2.30\n",
       "max        99.20\n",
       "Name: pct_route_on_hwy_across_districts, dtype: float64"
      ]
     },
     "execution_count": 23,
     "metadata": {},
     "output_type": "execute_result"
    }
   ],
   "source": [
    "shn_df1.pct_route_on_hwy_across_districts.describe()"
   ]
  },
  {
   "cell_type": "code",
   "execution_count": 24,
   "id": "e881c041-86c0-43d8-a8bd-e2540c34ba8a",
   "metadata": {
    "tags": []
   },
   "outputs": [
    {
     "data": {
      "text/plain": [
       "21709"
      ]
     },
     "execution_count": 24,
     "metadata": {},
     "output_type": "execute_result"
    }
   ],
   "source": [
    "len(shn_df1)"
   ]
  },
  {
   "cell_type": "code",
   "execution_count": 25,
   "id": "58a84353-6950-4617-8c10-8b99dd838086",
   "metadata": {
    "tags": []
   },
   "outputs": [
    {
     "data": {
      "text/plain": [
       "16008"
      ]
     },
     "execution_count": 25,
     "metadata": {},
     "output_type": "execute_result"
    }
   ],
   "source": [
    "len(published_routes)"
   ]
  },
  {
   "attachments": {
    "e198480a-c20b-49ba-b39c-cca6d75b9f46.png": {
     "image/png": "[encoded data removed]"
    }
   },
   "cell_type": "markdown",
   "id": "2e33e19b-9b18-4e1f-8149-1c863b36792a",
   "metadata": {},
   "source": [
    "### Check some examples\n",
    "![image.png](attachment:e198480a-c20b-49ba-b39c-cca6d75b9f46.png)"
   ]
  },
  {
   "cell_type": "code",
   "execution_count": null,
   "id": "1f477bb1-63d7-43c6-87ad-491eef7f28e2",
   "metadata": {
    "tags": []
   },
   "outputs": [],
   "source": [
    "monterey_ex = shn_df1.loc[\n",
    "    (shn_df1.name == \"Monterey Salinas Schedule\")\n",
    "    & (shn_df1.route_id == \"028\")\n",
    "    & (shn_df1.shape_id == \"0280059\")\n",
    "]"
   ]
  },
  {
   "cell_type": "code",
   "execution_count": null,
   "id": "727eb11d-f0e8-403f-b008-2805d516e0ef",
   "metadata": {
    "tags": []
   },
   "outputs": [],
   "source": [
    "monterey_ex"
   ]
  },
  {
   "cell_type": "code",
   "execution_count": null,
   "id": "e808a2af-77a8-4b3b-9cf7-9c2def543809",
   "metadata": {
    "tags": []
   },
   "outputs": [],
   "source": [
    "shn_df2 = group_route_district(shn_df1)"
   ]
  },
  {
   "cell_type": "code",
   "execution_count": null,
   "id": "92152972-161c-4792-8bf0-89544e8b967b",
   "metadata": {
    "tags": []
   },
   "outputs": [],
   "source": [
    "shn_df2.pct_route_on_hwy_across_districts.describe()"
   ]
  },
  {
   "cell_type": "code",
   "execution_count": null,
   "id": "34f8af46-eefd-41d1-bdce-b0389108388b",
   "metadata": {
    "scrolled": true,
    "tags": []
   },
   "outputs": [],
   "source": [
    "shn_df2.loc[shn_df2.pct_route_on_hwy_across_districts > 100]"
   ]
  },
  {
   "cell_type": "code",
   "execution_count": null,
   "id": "166af12d-9833-4849-8ff6-a95033e79d6c",
   "metadata": {
    "tags": []
   },
   "outputs": [],
   "source": [
    "stc_ex = shn_df1.loc[\n",
    "    (shn_df1.name == \"Santa Cruz Schedule\")\n",
    "    & (shn_df1.route_id == \"17\")\n",
    "    & (shn_df1.shape_id == \"shp-17-13\")\n",
    "]"
   ]
  },
  {
   "cell_type": "code",
   "execution_count": null,
   "id": "953cf278-db5e-4660-8bd6-2383e7c663e9",
   "metadata": {
    "tags": []
   },
   "outputs": [],
   "source": [
    "stc_ex.sort_values(by=[\"shn_districts\"])"
   ]
  },
  {
   "cell_type": "code",
   "execution_count": null,
   "id": "e3b0f8b1-7c69-463c-a7b7-c63947ffe865",
   "metadata": {
    "tags": []
   },
   "outputs": [],
   "source": [
    "shn_df2.loc[\n",
    "    (shn_df2.name == \"Santa Cruz Schedule\")\n",
    "    & (shn_df2.route_id == \"17\")\n",
    "    & (shn_df2.shape_id == \"shp-17-13\")\n",
    "]"
   ]
  },
  {
   "cell_type": "code",
   "execution_count": null,
   "id": "304d4d3f-3393-47c6-907a-8393c1485c50",
   "metadata": {
    "tags": []
   },
   "outputs": [],
   "source": [
    "shn_routes_gdf = gpd.read_parquet(\n",
    "    HWY_FILE, storage_options={\"token\": credentials.token}\n",
    ")"
   ]
  },
  {
   "cell_type": "code",
   "execution_count": null,
   "id": "341ddff6-d240-4822-8ffc-a81d0615104f",
   "metadata": {
    "tags": []
   },
   "outputs": [],
   "source": [
    "shn_routes_gdf_filtered = shn_routes_gdf.loc[\n",
    "    shn_routes_gdf.shn_route.isin([\"880\", \"1\", \"35\", \"280\", \"9\", \"17\", \"85\", \"87\"])\n",
    "]"
   ]
  },
  {
   "cell_type": "code",
   "execution_count": null,
   "id": "848173ff-4a9f-4686-a7cf-60522c57c1dd",
   "metadata": {
    "tags": []
   },
   "outputs": [],
   "source": [
    "shn_routes_gdf_filtered = shn_routes_gdf_filtered.loc[\n",
    "    shn_routes_gdf_filtered.district.isin([4, 5])\n",
    "]"
   ]
  },
  {
   "cell_type": "code",
   "execution_count": null,
   "id": "19efb77c-22aa-4162-9874-34da2964e619",
   "metadata": {
    "tags": []
   },
   "outputs": [],
   "source": [
    "shn_routes_gdf_filtered[\"district_str\"] = shn_routes_gdf_filtered.district.astype(str)"
   ]
  },
  {
   "cell_type": "code",
   "execution_count": null,
   "id": "b7456bda-a248-43c5-a0fa-ff447952138a",
   "metadata": {
    "tags": []
   },
   "outputs": [],
   "source": [
    "stc_og_gdf = published_routes.loc[\n",
    "    (published_routes.name == \"Santa Cruz Schedule\")\n",
    "    & (published_routes.route_id == \"17\")\n",
    "    & (published_routes.shape_id == \"shp-17-13\")\n",
    "]"
   ]
  },
  {
   "cell_type": "code",
   "execution_count": null,
   "id": "2f141f74-6fbb-4331-bd09-bf576dd8c085",
   "metadata": {
    "tags": []
   },
   "outputs": [],
   "source": [
    "stc_og_gdf.drop(columns=[\"geometry\"])"
   ]
  },
  {
   "cell_type": "code",
   "execution_count": null,
   "id": "797b0642-3d50-4564-ba85-39894885e81a",
   "metadata": {
    "tags": []
   },
   "outputs": [],
   "source": [
    "route_17 = shn_routes_gdf_filtered.loc[shn_routes_gdf_filtered.shn_route == \"17\"]"
   ]
  },
  {
   "cell_type": "code",
   "execution_count": null,
   "id": "0d35dac4-1b71-464a-8d53-e40bf7aa860e",
   "metadata": {
    "tags": []
   },
   "outputs": [],
   "source": [
    "route_17.shape"
   ]
  },
  {
   "cell_type": "code",
   "execution_count": null,
   "id": "ab586c12-9200-4702-82fd-b7f2e399a053",
   "metadata": {
    "tags": []
   },
   "outputs": [],
   "source": [
    "m = route_17.explore(color=\"district_str\", name=\"highway\")\n",
    "m = stc_og_gdf.explore(m=m, color=\"red\", style_kwds={\"weight\": 5}, name=\"route\")"
   ]
  },
  {
   "cell_type": "code",
   "execution_count": null,
   "id": "d963d057-590f-4687-bf67-6f7be93ddc74",
   "metadata": {
    "tags": []
   },
   "outputs": [],
   "source": [
    "# m"
   ]
  },
  {
   "cell_type": "code",
   "execution_count": null,
   "id": "1cc5e6c6-ec07-4431-a985-a4619a2dca03",
   "metadata": {
    "tags": []
   },
   "outputs": [],
   "source": [
    "stc_overlay = gpd.overlay(\n",
    "    stc_og_gdf.to_crs(route_17.crs), route_17, how=\"intersection\", keep_geom_type=True\n",
    ")"
   ]
  },
  {
   "cell_type": "code",
   "execution_count": null,
   "id": "bf041e64-70f6-41ab-bd72-2c6adfc6c07d",
   "metadata": {
    "tags": []
   },
   "outputs": [],
   "source": [
    "stc_overlay.drop(columns=[\"geometry\"])"
   ]
  },
  {
   "cell_type": "markdown",
   "id": "b702fded-483e-4c38-88ef-552d5f1a0f10",
   "metadata": {},
   "source": [
    "### Check if the other instances of routes with more than 100% on SHS also have duplicate entries in `published_routes`"
   ]
  },
  {
   "cell_type": "code",
   "execution_count": null,
   "id": "e86e5d39-e755-4f1d-9a72-31cd5c914574",
   "metadata": {
    "tags": []
   },
   "outputs": [],
   "source": [
    "stc_og_gdf = published_routes.loc[\n",
    "    (published_routes.name == \"Bay Area 511 WestCAT Schedule\")\n",
    "    & (published_routes.route_id == \"JPX\")\n",
    "    & (published_routes.shape_id == \"p_5188\")\n",
    "]"
   ]
  },
  {
   "cell_type": "code",
   "execution_count": null,
   "id": "a402d3cf-b729-4aec-bac9-bd9d4069eeca",
   "metadata": {
    "tags": []
   },
   "outputs": [],
   "source": [
    "stc_og_gdf.drop(columns=[\"geometry\"])"
   ]
  },
  {
   "cell_type": "markdown",
   "id": "bf2ccfda-e009-4309-9ee2-c2706690bd0d",
   "metadata": {},
   "source": [
    "## Route Typologies"
   ]
  },
  {
   "cell_type": "code",
   "execution_count": 30,
   "id": "e44c6c11-c6da-418d-b8e2-bdb1db60cead",
   "metadata": {
    "tags": []
   },
   "outputs": [],
   "source": [
    "def add_route_typologies(gdf: gpd.GeoDataFrame) -> gpd.GeoDataFrame:\n",
    "    \"\"\"\n",
    "    Concatenate the years available for\n",
    "    route typologies on the operator-route_id\n",
    "    grain. Join this dataframe with the gdf\n",
    "    created by patch_previous_dates.\n",
    "    \"\"\"\n",
    "    ROUTE_TYPOLOGIES_FILE = GTFS_DATA_DICT.schedule_tables.route_typologies\n",
    "\n",
    "    route_typology_paths = [\n",
    "        f\"{SCHED_GCS}{ROUTE_TYPOLOGIES_FILE}\" for year in rt_dates.years_available\n",
    "    ]\n",
    "    route_typology_df = dask_utils.get_ddf(\n",
    "        route_typology_paths,\n",
    "        rt_dates.years_available,\n",
    "        data_type=\"df\",\n",
    "        get_pandas=True,\n",
    "        columns=[\n",
    "            \"name\",\n",
    "            \"route_id\",\n",
    "            \"is_express\",\n",
    "            \"is_ferry\",\n",
    "            \"is_rail\",\n",
    "            \"is_coverage\",\n",
    "            \"is_local\",\n",
    "            \"is_downtown_local\",\n",
    "            \"is_rapid\",\n",
    "        ],\n",
    "        add_date=False,\n",
    "        add_year=True,\n",
    "    )\n",
    "\n",
    "    # Drop duplicates of operator-route_id to keep only the\n",
    "    # row with the most current year.\n",
    "    route_typology_df2 = route_typology_df.sort_values(\n",
    "        by=[\"name\", \"route_id\", \"year\"], ascending=[True, True, False]\n",
    "    ).drop_duplicates(\n",
    "        subset=[\n",
    "            \"name\",\n",
    "            \"route_id\",\n",
    "        ]\n",
    "    )\n",
    "\n",
    "    m1 = pd.merge(\n",
    "        gdf,\n",
    "        route_typology_df2,\n",
    "        on=[\"name\", \"route_id\"],\n",
    "        how=\"left\",\n",
    "    )\n",
    "    return m1"
   ]
  },
  {
   "cell_type": "code",
   "execution_count": 26,
   "id": "7c5dfd53-1862-4f6c-bc3d-941720938108",
   "metadata": {},
   "outputs": [
    {
     "name": "stderr",
     "output_type": "stream",
     "text": [
      "/tmp/ipykernel_2227/3507653536.py:47: SettingWithCopyWarning: \n",
      "A value is trying to be set on a copy of a slice from a DataFrame.\n",
      "Try using .loc[row_indexer,col_indexer] = value instead\n",
      "\n",
      "See the caveats in the documentation: https://pandas.pydata.org/pandas-docs/stable/user_guide/indexing.html#returning-a-view-versus-a-copy\n",
      "  gdf2.district = gdf2.district.fillna(0).astype(int)\n"
     ]
    }
   ],
   "source": [
    "shn_df = published_routes.pipe(add_shn_information, SHN_HWY_BUFFER_FEET)"
   ]
  },
  {
   "cell_type": "code",
   "execution_count": 27,
   "id": "7f0b0dfa-8e02-492e-baf8-6549405d2bc8",
   "metadata": {
    "tags": []
   },
   "outputs": [
    {
     "data": {
      "text/plain": [
       "(16008, 17)"
      ]
     },
     "execution_count": 27,
     "metadata": {},
     "output_type": "execute_result"
    }
   ],
   "source": [
    "shn_df.shape"
   ]
  },
  {
   "cell_type": "code",
   "execution_count": 28,
   "id": "bee3f287-a7da-44ca-813d-74730ec4d5f9",
   "metadata": {
    "tags": []
   },
   "outputs": [
    {
     "data": {
      "text/plain": [
       "(16008, 13)"
      ]
     },
     "execution_count": 28,
     "metadata": {},
     "output_type": "execute_result"
    }
   ],
   "source": [
    "published_routes.shape"
   ]
  },
  {
   "cell_type": "code",
   "execution_count": 34,
   "id": "4aa92603-e452-43b9-bc0c-762dffe44bc8",
   "metadata": {
    "tags": []
   },
   "outputs": [
    {
     "data": {
      "text/plain": [
       "16008"
      ]
     },
     "execution_count": 34,
     "metadata": {},
     "output_type": "execute_result"
    }
   ],
   "source": [
    "len(published_routes.drop_duplicates())"
   ]
  },
  {
   "cell_type": "code",
   "execution_count": 32,
   "id": "95eb8ad6-0289-41a5-af59-918a0f10aee1",
   "metadata": {},
   "outputs": [],
   "source": [
    "route_types = shn_df.pipe(add_route_typologies)"
   ]
  },
  {
   "cell_type": "code",
   "execution_count": 33,
   "id": "91654b7a-21bb-4989-b24c-69451190a0d3",
   "metadata": {
    "tags": []
   },
   "outputs": [
    {
     "data": {
      "text/plain": [
       "(16008, 25)"
      ]
     },
     "execution_count": 33,
     "metadata": {},
     "output_type": "execute_result"
    }
   ],
   "source": [
    "route_types.shape"
   ]
  },
  {
   "cell_type": "markdown",
   "id": "6b09a121-ef4b-43df-87e0-b499d2814d98",
   "metadata": {},
   "source": [
    "## `shared_utils/portfolio_utils`"
   ]
  },
  {
   "cell_type": "code",
   "execution_count": 37,
   "id": "77b62e30-1590-4d49-b61e-f3bb7734f5c6",
   "metadata": {
    "tags": []
   },
   "outputs": [],
   "source": [
    "# AND analysis_name IS NOT NULL\n",
    "def load_portfolio_names() -> pd.DataFrame:\n",
    "    with db_engine.connect() as connection:\n",
    "        query = f\"\"\"\n",
    "            SELECT\n",
    "            name,\n",
    "            analysis_name,\n",
    "            FROM\n",
    "            cal-itp-data-infra.mart_transit_database.dim_gtfs_datasets\n",
    "            WHERE _is_current = TRUE \n",
    "            \n",
    "            \"\"\"\n",
    "        df = pd.read_sql(query, connection)\n",
    "    df = df.rename(\n",
    "        columns={\n",
    "            \"key\": \"schedule_gtfs_dataset_key\",\n",
    "            \"analysis_name\": \"portfolio_organization_name\",\n",
    "        }\n",
    "    )\n",
    "    return df"
   ]
  },
  {
   "cell_type": "code",
   "execution_count": 77,
   "id": "ca4c6957-f280-4501-87e2-164c92a80c30",
   "metadata": {
    "tags": []
   },
   "outputs": [],
   "source": [
    "test_portfolio = load_portfolio_names()"
   ]
  },
  {
   "cell_type": "code",
   "execution_count": 83,
   "id": "c0634c7c-a9d1-408d-8658-df5c24f86d4e",
   "metadata": {
    "tags": []
   },
   "outputs": [
    {
     "data": {
      "text/plain": [
       "San Luis Obispo Regional Transit Authority    3\n",
       "City and County of San Francisco              3\n",
       "Eastern Sierra Transit Authority              2\n",
       "City of Laguna Beach                          2\n",
       "Lassen Transit Service Agency                 2\n",
       "San Joaquin Regional Transit District         2\n",
       "Stanislaus Regional Transit Authority         2\n",
       "Placer County                                 2\n",
       "Western Contra Costa Transit Authority        2\n",
       "City of Turlock                               2\n",
       "Name: portfolio_organization_name, dtype: int64"
      ]
     },
     "execution_count": 83,
     "metadata": {},
     "output_type": "execute_result"
    }
   ],
   "source": [
    "test_portfolio.portfolio_organization_name.value_counts().head(10)"
   ]
  },
  {
   "cell_type": "code",
   "execution_count": 84,
   "id": "60d2ed3a-84bd-4983-9ae9-947ee5ba5b8b",
   "metadata": {
    "scrolled": true,
    "tags": []
   },
   "outputs": [
    {
     "data": {
      "text/html": [
       "<div>\n",
       "<style scoped>\n",
       "    .dataframe tbody tr th:only-of-type {\n",
       "        vertical-align: middle;\n",
       "    }\n",
       "\n",
       "    .dataframe tbody tr th {\n",
       "        vertical-align: top;\n",
       "    }\n",
       "\n",
       "    .dataframe thead th {\n",
       "        text-align: right;\n",
       "    }\n",
       "</style>\n",
       "<table border=\"1\" class=\"dataframe\">\n",
       "  <thead>\n",
       "    <tr style=\"text-align: right;\">\n",
       "      <th></th>\n",
       "      <th>name</th>\n",
       "      <th>portfolio_organization_name</th>\n",
       "    </tr>\n",
       "  </thead>\n",
       "  <tbody>\n",
       "    <tr>\n",
       "      <th>157</th>\n",
       "      <td>Placer Flex</td>\n",
       "      <td>Placer County</td>\n",
       "    </tr>\n",
       "    <tr>\n",
       "      <th>669</th>\n",
       "      <td>Placer Schedule</td>\n",
       "      <td>Placer County</td>\n",
       "    </tr>\n",
       "  </tbody>\n",
       "</table>\n",
       "</div>"
      ],
      "text/plain": [
       "                name portfolio_organization_name\n",
       "157      Placer Flex               Placer County\n",
       "669  Placer Schedule               Placer County"
      ]
     },
     "execution_count": 84,
     "metadata": {},
     "output_type": "execute_result"
    }
   ],
   "source": [
    "test_portfolio.loc[test_portfolio.portfolio_organization_name == \"Placer County\"]"
   ]
  },
  {
   "cell_type": "code",
   "execution_count": 38,
   "id": "23e13b00-97a5-40b5-8542-a01e30c4fa10",
   "metadata": {
    "tags": []
   },
   "outputs": [],
   "source": [
    "def standardize_portfolio_organization_names(df: pd.DataFrame) -> pd.DataFrame:\n",
    "    portfolio_name_df = load_portfolio_names()\n",
    "    # Map the preferred organization name using schedule_gtfs_dataset_name.\n",
    "    m1 = pd.merge(\n",
    "        df,\n",
    "        portfolio_name_df,\n",
    "        on=\"name\",\n",
    "        how=\"left\",\n",
    "    )\n",
    "\n",
    "    # drop the ones that were removed with duplicated feed info\n",
    "    m1 = m1.dropna(subset=\"portfolio_organization_name\")\n",
    "\n",
    "    return m1"
   ]
  },
  {
   "cell_type": "markdown",
   "id": "d5b73e4e-9e66-4f07-a232-71d1fda3dafb",
   "metadata": {},
   "source": [
    "## `shared_utils/portfolio_utils`"
   ]
  },
  {
   "cell_type": "code",
   "execution_count": null,
   "id": "c8634b95-4949-4f79-9ef8-becd13bc9f98",
   "metadata": {
    "tags": []
   },
   "outputs": [],
   "source": [
    "CROSSWALK_FILE = GTFS_DATA_DICT.schedule_tables.gtfs_key_crosswalk\n",
    "\n",
    "public_feeds = gtfs_utils_v2.filter_to_public_schedule_gtfs_dataset_keys()\n",
    "\n",
    "# Get the crosswalk file\n",
    "crosswalk = pd.read_parquet(\n",
    "    f\"{SCHED_GCS}{CROSSWALK_FILE}_{date}.parquet\",\n",
    "    columns=[\n",
    "        \"schedule_gtfs_dataset_key\",\n",
    "        \"name\",\n",
    "        \"base64_url\",\n",
    "        \"caltrans_district\",\n",
    "    ],\n",
    "    filters=[[(\"schedule_gtfs_dataset_key\", \"in\", public_feeds)]],\n",
    ")"
   ]
  },
  {
   "cell_type": "code",
   "execution_count": null,
   "id": "d53c92d9-b341-4aa1-bfd3-bc82fc366ac8",
   "metadata": {
    "tags": []
   },
   "outputs": [],
   "source": [
    "crosswalk = crosswalk.assign(\n",
    "    caltrans_district=crosswalk.caltrans_district.map(\n",
    "        portfolio_utils.CALTRANS_DISTRICT_DICT\n",
    "    )\n",
    ")"
   ]
  },
  {
   "cell_type": "code",
   "execution_count": null,
   "id": "01d9db0c-9ada-4da7-8bce-4598dba9247c",
   "metadata": {
    "tags": []
   },
   "outputs": [],
   "source": [
    "crosswalk2 = standardize_portfolio_organization_names(crosswalk)"
   ]
  },
  {
   "cell_type": "code",
   "execution_count": null,
   "id": "08017967-e2a1-4adc-9865-205a423f1c09",
   "metadata": {
    "tags": []
   },
   "outputs": [],
   "source": [
    "crosswalk2.head()"
   ]
  },
  {
   "cell_type": "code",
   "execution_count": null,
   "id": "1311d0b1-68f8-445a-91cf-2c5916a4a96a",
   "metadata": {
    "tags": []
   },
   "outputs": [],
   "source": [
    "len(crosswalk2), len(crosswalk)"
   ]
  },
  {
   "cell_type": "code",
   "execution_count": null,
   "id": "4dc326a3-4910-467c-ba76-afd32b60b8b8",
   "metadata": {
    "tags": []
   },
   "outputs": [],
   "source": [
    "crosswalk3 = crosswalk2.drop_duplicates(\n",
    "    subset=[\"schedule_gtfs_dataset_key\", \"name\", \"portfolio_organization_name\"]\n",
    ")"
   ]
  },
  {
   "cell_type": "code",
   "execution_count": null,
   "id": "bcff960b-323f-42ea-b838-81ec0d360bad",
   "metadata": {
    "tags": []
   },
   "outputs": [],
   "source": [
    "len(crosswalk3)"
   ]
  },
  {
   "cell_type": "markdown",
   "id": "a36b677e-86ad-40fc-9fa2-4ef2b9711aae",
   "metadata": {},
   "source": [
    "## `open_data/open_data_utils`"
   ]
  },
  {
   "cell_type": "code",
   "execution_count": 35,
   "id": "cb288703-532b-493b-92ea-c92a819dadaf",
   "metadata": {
    "tags": []
   },
   "outputs": [],
   "source": [
    "def standardize_operator_info_for_exports(df: pd.DataFrame, date: str) -> pd.DataFrame:\n",
    "    \"\"\"\n",
    "    Use our crosswalk file created in gtfs_funnel\n",
    "    and add in the organization columns we want to\n",
    "    publish on.\n",
    "    \"\"\"\n",
    "\n",
    "    CROSSWALK_FILE = GTFS_DATA_DICT.schedule_tables.gtfs_key_crosswalk\n",
    "\n",
    "    public_feeds = gtfs_utils_v2.filter_to_public_schedule_gtfs_dataset_keys()\n",
    "\n",
    "    # Get the crosswalk file\n",
    "    crosswalk = pd.read_parquet(\n",
    "        f\"{SCHED_GCS}{CROSSWALK_FILE}_{date}.parquet\",\n",
    "        columns=[\n",
    "            \"schedule_gtfs_dataset_key\",\n",
    "            \"name\",\n",
    "            \"base64_url\",\n",
    "            \"caltrans_district\",\n",
    "        ],\n",
    "        filters=[[(\"schedule_gtfs_dataset_key\", \"in\", public_feeds)]],\n",
    "    )\n",
    "\n",
    "    # Add portfolio_organization_name\n",
    "    crosswalk = (\n",
    "        crosswalk.assign(\n",
    "            caltrans_district=crosswalk.caltrans_district.map(\n",
    "                portfolio_utils.CALTRANS_DISTRICT_DICT\n",
    "            )\n",
    "        )\n",
    "        .pipe(\n",
    "            standardize_portfolio_organization_names,\n",
    "        )\n",
    "        .drop_duplicates(\n",
    "            subset=[\"schedule_gtfs_dataset_key\", \"name\", \"portfolio_organization_name\"]\n",
    "        )\n",
    "    )\n",
    "\n",
    "    # Checked whether we need a left merge to keep stops outside of CA\n",
    "    # that may not have caltrans_district\n",
    "    # and inner merge is fine. All operators are assigned a caltrans_district\n",
    "    # so Amtrak / FlixBus stops have values populated\n",
    "\n",
    "    # Merge the crosswalk and the input DF\n",
    "    crosswalk_input_merged = pd.merge(\n",
    "        df,\n",
    "        crosswalk,\n",
    "        on=[\"schedule_gtfs_dataset_key\"],\n",
    "        suffixes=[\n",
    "            \"_original\",\n",
    "            None,\n",
    "        ],  # Keep the source record id from the crosswalk as the \"definitive\" version\n",
    "        how=\"inner\",\n",
    "    )\n",
    "\n",
    "    # Drop dups\n",
    "    crosswalk_input_merged = crosswalk_input_merged.drop_duplicates()\n",
    "    return crosswalk_input_merged"
   ]
  },
  {
   "cell_type": "code",
   "execution_count": 39,
   "id": "0500a013-139c-45fa-b72b-80c31c8d65b5",
   "metadata": {
    "tags": []
   },
   "outputs": [],
   "source": [
    "route_types2 = route_types.pipe(standardize_operator_info_for_exports, analysis_date)"
   ]
  },
  {
   "cell_type": "code",
   "execution_count": 40,
   "id": "885ffd1b-ac78-495e-8ca8-1e58f2648d19",
   "metadata": {
    "tags": []
   },
   "outputs": [
    {
     "data": {
      "text/plain": [
       "(14565, 16008)"
      ]
     },
     "execution_count": 40,
     "metadata": {},
     "output_type": "execute_result"
    }
   ],
   "source": [
    "len(route_types2), len(route_types)"
   ]
  },
  {
   "cell_type": "code",
   "execution_count": 58,
   "id": "ab657a7c-0d4a-43a1-b7fb-d2ccd4745343",
   "metadata": {
    "tags": []
   },
   "outputs": [
    {
     "data": {
      "text/plain": [
       "14565"
      ]
     },
     "execution_count": 58,
     "metadata": {},
     "output_type": "execute_result"
    }
   ],
   "source": [
    "len(route_types2.drop_duplicates())"
   ]
  },
  {
   "cell_type": "code",
   "execution_count": 59,
   "id": "79a9c66a-c884-467a-8f84-f9d4a4695b9b",
   "metadata": {
    "tags": []
   },
   "outputs": [
    {
     "data": {
      "text/plain": [
       "16008"
      ]
     },
     "execution_count": 59,
     "metadata": {},
     "output_type": "execute_result"
    }
   ],
   "source": [
    "len(route_types.drop_duplicates())"
   ]
  },
  {
   "cell_type": "code",
   "execution_count": 87,
   "id": "ad7ad3ae-fe45-4445-a200-957f51bdfff2",
   "metadata": {
    "scrolled": true,
    "tags": []
   },
   "outputs": [
    {
     "data": {
      "text/html": [
       "<div>\n",
       "<style scoped>\n",
       "    .dataframe tbody tr th:only-of-type {\n",
       "        vertical-align: middle;\n",
       "    }\n",
       "\n",
       "    .dataframe tbody tr th {\n",
       "        vertical-align: top;\n",
       "    }\n",
       "\n",
       "    .dataframe thead th {\n",
       "        text-align: right;\n",
       "    }\n",
       "</style>\n",
       "<table border=\"1\" class=\"dataframe\">\n",
       "  <thead>\n",
       "    <tr style=\"text-align: right;\">\n",
       "      <th></th>\n",
       "      <th>n_trips</th>\n",
       "      <th>name_original</th>\n",
       "      <th>schedule_gtfs_dataset_key</th>\n",
       "      <th>route_id</th>\n",
       "      <th>route_type</th>\n",
       "      <th>shape_id</th>\n",
       "      <th>route_name_used</th>\n",
       "      <th>route_length_feet</th>\n",
       "      <th>base64_url_original</th>\n",
       "      <th>organization_source_record_id</th>\n",
       "      <th>organization_name</th>\n",
       "      <th>caltrans_district_original</th>\n",
       "      <th>shn_route</th>\n",
       "      <th>shn_districts</th>\n",
       "      <th>pct_route_on_hwy_across_districts</th>\n",
       "      <th>on_shs</th>\n",
       "      <th>is_express</th>\n",
       "      <th>is_ferry</th>\n",
       "      <th>is_rail</th>\n",
       "      <th>is_coverage</th>\n",
       "      <th>is_local</th>\n",
       "      <th>is_downtown_local</th>\n",
       "      <th>is_rapid</th>\n",
       "      <th>year</th>\n",
       "      <th>name</th>\n",
       "      <th>base64_url</th>\n",
       "      <th>caltrans_district</th>\n",
       "      <th>portfolio_organization_name</th>\n",
       "    </tr>\n",
       "  </thead>\n",
       "  <tbody>\n",
       "    <tr>\n",
       "      <th>7535</th>\n",
       "      <td>2</td>\n",
       "      <td>Placer Schedule</td>\n",
       "      <td>8de1f1a3b9ae172c6b8255b1c82c340f</td>\n",
       "      <td>11115</td>\n",
       "      <td>3</td>\n",
       "      <td>p_178963</td>\n",
       "      <td>30</td>\n",
       "      <td>52459.43</td>\n",
       "      <td>NaN</td>\n",
       "      <td>NaN</td>\n",
       "      <td>NaN</td>\n",
       "      <td>NaN</td>\n",
       "      <td>49</td>\n",
       "      <td>3</td>\n",
       "      <td>23.00</td>\n",
       "      <td>1</td>\n",
       "      <td>0.00</td>\n",
       "      <td>0.00</td>\n",
       "      <td>0.00</td>\n",
       "      <td>1.00</td>\n",
       "      <td>0.00</td>\n",
       "      <td>0.00</td>\n",
       "      <td>1.00</td>\n",
       "      <td>2025.00</td>\n",
       "      <td>Placer Schedule</td>\n",
       "      <td>aHR0cHM6Ly9kYXRhLnRyaWxsaXVtdHJhbnNpdC5jb20vZ3Rmcy9wbGFjZXJjb3VudHktY2EtdXMvcGxhY2VyY291bnR5LWNhLXVzLnppcA==</td>\n",
       "      <td>03 - Marysville / Sacramento</td>\n",
       "      <td>Placer County</td>\n",
       "    </tr>\n",
       "    <tr>\n",
       "      <th>7536</th>\n",
       "      <td>13</td>\n",
       "      <td>Placer Schedule</td>\n",
       "      <td>8de1f1a3b9ae172c6b8255b1c82c340f</td>\n",
       "      <td>11115</td>\n",
       "      <td>3</td>\n",
       "      <td>p_298764</td>\n",
       "      <td>30</td>\n",
       "      <td>52459.43</td>\n",
       "      <td>NaN</td>\n",
       "      <td>NaN</td>\n",
       "      <td>NaN</td>\n",
       "      <td>NaN</td>\n",
       "      <td>49</td>\n",
       "      <td>3</td>\n",
       "      <td>23.00</td>\n",
       "      <td>1</td>\n",
       "      <td>0.00</td>\n",
       "      <td>0.00</td>\n",
       "      <td>0.00</td>\n",
       "      <td>1.00</td>\n",
       "      <td>0.00</td>\n",
       "      <td>0.00</td>\n",
       "      <td>1.00</td>\n",
       "      <td>2025.00</td>\n",
       "      <td>Placer Schedule</td>\n",
       "      <td>aHR0cHM6Ly9kYXRhLnRyaWxsaXVtdHJhbnNpdC5jb20vZ3Rmcy9wbGFjZXJjb3VudHktY2EtdXMvcGxhY2VyY291bnR5LWNhLXVzLnppcA==</td>\n",
       "      <td>03 - Marysville / Sacramento</td>\n",
       "      <td>Placer County</td>\n",
       "    </tr>\n",
       "    <tr>\n",
       "      <th>7537</th>\n",
       "      <td>2</td>\n",
       "      <td>Placer Schedule</td>\n",
       "      <td>8de1f1a3b9ae172c6b8255b1c82c340f</td>\n",
       "      <td>11115</td>\n",
       "      <td>3</td>\n",
       "      <td>p_298766</td>\n",
       "      <td>30</td>\n",
       "      <td>35825.42</td>\n",
       "      <td>NaN</td>\n",
       "      <td>NaN</td>\n",
       "      <td>NaN</td>\n",
       "      <td>NaN</td>\n",
       "      <td>49</td>\n",
       "      <td>3</td>\n",
       "      <td>46.80</td>\n",
       "      <td>1</td>\n",
       "      <td>0.00</td>\n",
       "      <td>0.00</td>\n",
       "      <td>0.00</td>\n",
       "      <td>1.00</td>\n",
       "      <td>0.00</td>\n",
       "      <td>0.00</td>\n",
       "      <td>1.00</td>\n",
       "      <td>2025.00</td>\n",
       "      <td>Placer Schedule</td>\n",
       "      <td>aHR0cHM6Ly9kYXRhLnRyaWxsaXVtdHJhbnNpdC5jb20vZ3Rmcy9wbGFjZXJjb3VudHktY2EtdXMvcGxhY2VyY291bnR5LWNhLXVzLnppcA==</td>\n",
       "      <td>03 - Marysville / Sacramento</td>\n",
       "      <td>Placer County</td>\n",
       "    </tr>\n",
       "    <tr>\n",
       "      <th>7538</th>\n",
       "      <td>13</td>\n",
       "      <td>Placer Schedule</td>\n",
       "      <td>8de1f1a3b9ae172c6b8255b1c82c340f</td>\n",
       "      <td>11115</td>\n",
       "      <td>3</td>\n",
       "      <td>p_298775</td>\n",
       "      <td>30</td>\n",
       "      <td>50518.52</td>\n",
       "      <td>NaN</td>\n",
       "      <td>NaN</td>\n",
       "      <td>NaN</td>\n",
       "      <td>NaN</td>\n",
       "      <td>49</td>\n",
       "      <td>3</td>\n",
       "      <td>26.60</td>\n",
       "      <td>1</td>\n",
       "      <td>0.00</td>\n",
       "      <td>0.00</td>\n",
       "      <td>0.00</td>\n",
       "      <td>1.00</td>\n",
       "      <td>0.00</td>\n",
       "      <td>0.00</td>\n",
       "      <td>1.00</td>\n",
       "      <td>2025.00</td>\n",
       "      <td>Placer Schedule</td>\n",
       "      <td>aHR0cHM6Ly9kYXRhLnRyaWxsaXVtdHJhbnNpdC5jb20vZ3Rmcy9wbGFjZXJjb3VudHktY2EtdXMvcGxhY2VyY291bnR5LWNhLXVzLnppcA==</td>\n",
       "      <td>03 - Marysville / Sacramento</td>\n",
       "      <td>Placer County</td>\n",
       "    </tr>\n",
       "    <tr>\n",
       "      <th>7539</th>\n",
       "      <td>2</td>\n",
       "      <td>Placer Schedule</td>\n",
       "      <td>8de1f1a3b9ae172c6b8255b1c82c340f</td>\n",
       "      <td>11116</td>\n",
       "      <td>3</td>\n",
       "      <td>p_1434459</td>\n",
       "      <td>70</td>\n",
       "      <td>107163.28</td>\n",
       "      <td>NaN</td>\n",
       "      <td>NaN</td>\n",
       "      <td>NaN</td>\n",
       "      <td>NaN</td>\n",
       "      <td>65</td>\n",
       "      <td>3</td>\n",
       "      <td>9.20</td>\n",
       "      <td>1</td>\n",
       "      <td>0.00</td>\n",
       "      <td>0.00</td>\n",
       "      <td>0.00</td>\n",
       "      <td>1.00</td>\n",
       "      <td>0.00</td>\n",
       "      <td>0.00</td>\n",
       "      <td>1.00</td>\n",
       "      <td>2025.00</td>\n",
       "      <td>Placer Schedule</td>\n",
       "      <td>aHR0cHM6Ly9kYXRhLnRyaWxsaXVtdHJhbnNpdC5jb20vZ3Rmcy9wbGFjZXJjb3VudHktY2EtdXMvcGxhY2VyY291bnR5LWNhLXVzLnppcA==</td>\n",
       "      <td>03 - Marysville / Sacramento</td>\n",
       "      <td>Placer County</td>\n",
       "    </tr>\n",
       "    <tr>\n",
       "      <th>7540</th>\n",
       "      <td>10</td>\n",
       "      <td>Placer Schedule</td>\n",
       "      <td>8de1f1a3b9ae172c6b8255b1c82c340f</td>\n",
       "      <td>11116</td>\n",
       "      <td>3</td>\n",
       "      <td>p_298762</td>\n",
       "      <td>70</td>\n",
       "      <td>85464.93</td>\n",
       "      <td>NaN</td>\n",
       "      <td>NaN</td>\n",
       "      <td>NaN</td>\n",
       "      <td>NaN</td>\n",
       "      <td>65</td>\n",
       "      <td>3</td>\n",
       "      <td>11.50</td>\n",
       "      <td>1</td>\n",
       "      <td>0.00</td>\n",
       "      <td>0.00</td>\n",
       "      <td>0.00</td>\n",
       "      <td>1.00</td>\n",
       "      <td>0.00</td>\n",
       "      <td>0.00</td>\n",
       "      <td>1.00</td>\n",
       "      <td>2025.00</td>\n",
       "      <td>Placer Schedule</td>\n",
       "      <td>aHR0cHM6Ly9kYXRhLnRyaWxsaXVtdHJhbnNpdC5jb20vZ3Rmcy9wbGFjZXJjb3VudHktY2EtdXMvcGxhY2VyY291bnR5LWNhLXVzLnppcA==</td>\n",
       "      <td>03 - Marysville / Sacramento</td>\n",
       "      <td>Placer County</td>\n",
       "    </tr>\n",
       "    <tr>\n",
       "      <th>7541</th>\n",
       "      <td>1</td>\n",
       "      <td>Placer Schedule</td>\n",
       "      <td>8de1f1a3b9ae172c6b8255b1c82c340f</td>\n",
       "      <td>11117</td>\n",
       "      <td>3</td>\n",
       "      <td>p_178966</td>\n",
       "      <td>60</td>\n",
       "      <td>298747.35</td>\n",
       "      <td>NaN</td>\n",
       "      <td>NaN</td>\n",
       "      <td>NaN</td>\n",
       "      <td>NaN</td>\n",
       "      <td>51, 174, 65, 80, 5, 49, 193, 244</td>\n",
       "      <td>3</td>\n",
       "      <td>75.30</td>\n",
       "      <td>1</td>\n",
       "      <td>1.00</td>\n",
       "      <td>0.00</td>\n",
       "      <td>0.00</td>\n",
       "      <td>0.00</td>\n",
       "      <td>0.00</td>\n",
       "      <td>0.00</td>\n",
       "      <td>0.00</td>\n",
       "      <td>2025.00</td>\n",
       "      <td>Placer Schedule</td>\n",
       "      <td>aHR0cHM6Ly9kYXRhLnRyaWxsaXVtdHJhbnNpdC5jb20vZ3Rmcy9wbGFjZXJjb3VudHktY2EtdXMvcGxhY2VyY291bnR5LWNhLXVzLnppcA==</td>\n",
       "      <td>03 - Marysville / Sacramento</td>\n",
       "      <td>Placer County</td>\n",
       "    </tr>\n",
       "    <tr>\n",
       "      <th>7542</th>\n",
       "      <td>1</td>\n",
       "      <td>Placer Schedule</td>\n",
       "      <td>8de1f1a3b9ae172c6b8255b1c82c340f</td>\n",
       "      <td>11117</td>\n",
       "      <td>3</td>\n",
       "      <td>p_179145</td>\n",
       "      <td>60</td>\n",
       "      <td>298747.35</td>\n",
       "      <td>NaN</td>\n",
       "      <td>NaN</td>\n",
       "      <td>NaN</td>\n",
       "      <td>NaN</td>\n",
       "      <td>51, 174, 65, 80, 5, 49, 193, 244</td>\n",
       "      <td>3</td>\n",
       "      <td>75.30</td>\n",
       "      <td>1</td>\n",
       "      <td>1.00</td>\n",
       "      <td>0.00</td>\n",
       "      <td>0.00</td>\n",
       "      <td>0.00</td>\n",
       "      <td>0.00</td>\n",
       "      <td>0.00</td>\n",
       "      <td>0.00</td>\n",
       "      <td>2025.00</td>\n",
       "      <td>Placer Schedule</td>\n",
       "      <td>aHR0cHM6Ly9kYXRhLnRyaWxsaXVtdHJhbnNpdC5jb20vZ3Rmcy9wbGFjZXJjb3VudHktY2EtdXMvcGxhY2VyY291bnR5LWNhLXVzLnppcA==</td>\n",
       "      <td>03 - Marysville / Sacramento</td>\n",
       "      <td>Placer County</td>\n",
       "    </tr>\n",
       "    <tr>\n",
       "      <th>7543</th>\n",
       "      <td>1</td>\n",
       "      <td>Placer Schedule</td>\n",
       "      <td>8de1f1a3b9ae172c6b8255b1c82c340f</td>\n",
       "      <td>11117</td>\n",
       "      <td>3</td>\n",
       "      <td>p_298765</td>\n",
       "      <td>60</td>\n",
       "      <td>303170.32</td>\n",
       "      <td>NaN</td>\n",
       "      <td>NaN</td>\n",
       "      <td>NaN</td>\n",
       "      <td>NaN</td>\n",
       "      <td>51, 174, 65, 80, 5, 49, 193, 244</td>\n",
       "      <td>3</td>\n",
       "      <td>76.00</td>\n",
       "      <td>1</td>\n",
       "      <td>1.00</td>\n",
       "      <td>0.00</td>\n",
       "      <td>0.00</td>\n",
       "      <td>0.00</td>\n",
       "      <td>0.00</td>\n",
       "      <td>0.00</td>\n",
       "      <td>0.00</td>\n",
       "      <td>2025.00</td>\n",
       "      <td>Placer Schedule</td>\n",
       "      <td>aHR0cHM6Ly9kYXRhLnRyaWxsaXVtdHJhbnNpdC5jb20vZ3Rmcy9wbGFjZXJjb3VudHktY2EtdXMvcGxhY2VyY291bnR5LWNhLXVzLnppcA==</td>\n",
       "      <td>03 - Marysville / Sacramento</td>\n",
       "      <td>Placer County</td>\n",
       "    </tr>\n",
       "    <tr>\n",
       "      <th>7544</th>\n",
       "      <td>1</td>\n",
       "      <td>Placer Schedule</td>\n",
       "      <td>8de1f1a3b9ae172c6b8255b1c82c340f</td>\n",
       "      <td>11117</td>\n",
       "      <td>3</td>\n",
       "      <td>p_298772</td>\n",
       "      <td>60</td>\n",
       "      <td>303170.32</td>\n",
       "      <td>NaN</td>\n",
       "      <td>NaN</td>\n",
       "      <td>NaN</td>\n",
       "      <td>NaN</td>\n",
       "      <td>51, 174, 65, 80, 5, 49, 193, 244</td>\n",
       "      <td>3</td>\n",
       "      <td>76.00</td>\n",
       "      <td>1</td>\n",
       "      <td>1.00</td>\n",
       "      <td>0.00</td>\n",
       "      <td>0.00</td>\n",
       "      <td>0.00</td>\n",
       "      <td>0.00</td>\n",
       "      <td>0.00</td>\n",
       "      <td>0.00</td>\n",
       "      <td>2025.00</td>\n",
       "      <td>Placer Schedule</td>\n",
       "      <td>aHR0cHM6Ly9kYXRhLnRyaWxsaXVtdHJhbnNpdC5jb20vZ3Rmcy9wbGFjZXJjb3VudHktY2EtdXMvcGxhY2VyY291bnR5LWNhLXVzLnppcA==</td>\n",
       "      <td>03 - Marysville / Sacramento</td>\n",
       "      <td>Placer County</td>\n",
       "    </tr>\n",
       "    <tr>\n",
       "      <th>7545</th>\n",
       "      <td>7</td>\n",
       "      <td>Placer Schedule</td>\n",
       "      <td>8de1f1a3b9ae172c6b8255b1c82c340f</td>\n",
       "      <td>11118</td>\n",
       "      <td>3</td>\n",
       "      <td>p_298767</td>\n",
       "      <td>50</td>\n",
       "      <td>94482.31</td>\n",
       "      <td>NaN</td>\n",
       "      <td>NaN</td>\n",
       "      <td>NaN</td>\n",
       "      <td>NaN</td>\n",
       "      <td>193, 80</td>\n",
       "      <td>3</td>\n",
       "      <td>4.70</td>\n",
       "      <td>1</td>\n",
       "      <td>0.00</td>\n",
       "      <td>0.00</td>\n",
       "      <td>0.00</td>\n",
       "      <td>1.00</td>\n",
       "      <td>0.00</td>\n",
       "      <td>0.00</td>\n",
       "      <td>1.00</td>\n",
       "      <td>2025.00</td>\n",
       "      <td>Placer Schedule</td>\n",
       "      <td>aHR0cHM6Ly9kYXRhLnRyaWxsaXVtdHJhbnNpdC5jb20vZ3Rmcy9wbGFjZXJjb3VudHktY2EtdXMvcGxhY2VyY291bnR5LWNhLXVzLnppcA==</td>\n",
       "      <td>03 - Marysville / Sacramento</td>\n",
       "      <td>Placer County</td>\n",
       "    </tr>\n",
       "    <tr>\n",
       "      <th>7546</th>\n",
       "      <td>6</td>\n",
       "      <td>Placer Schedule</td>\n",
       "      <td>8de1f1a3b9ae172c6b8255b1c82c340f</td>\n",
       "      <td>11118</td>\n",
       "      <td>3</td>\n",
       "      <td>p_298779</td>\n",
       "      <td>50</td>\n",
       "      <td>63783.08</td>\n",
       "      <td>NaN</td>\n",
       "      <td>NaN</td>\n",
       "      <td>NaN</td>\n",
       "      <td>NaN</td>\n",
       "      <td>193, 80</td>\n",
       "      <td>3</td>\n",
       "      <td>5.60</td>\n",
       "      <td>1</td>\n",
       "      <td>0.00</td>\n",
       "      <td>0.00</td>\n",
       "      <td>0.00</td>\n",
       "      <td>1.00</td>\n",
       "      <td>0.00</td>\n",
       "      <td>0.00</td>\n",
       "      <td>1.00</td>\n",
       "      <td>2025.00</td>\n",
       "      <td>Placer Schedule</td>\n",
       "      <td>aHR0cHM6Ly9kYXRhLnRyaWxsaXVtdHJhbnNpdC5jb20vZ3Rmcy9wbGFjZXJjb3VudHktY2EtdXMvcGxhY2VyY291bnR5LWNhLXVzLnppcA==</td>\n",
       "      <td>03 - Marysville / Sacramento</td>\n",
       "      <td>Placer County</td>\n",
       "    </tr>\n",
       "    <tr>\n",
       "      <th>7547</th>\n",
       "      <td>2</td>\n",
       "      <td>Placer Schedule</td>\n",
       "      <td>8de1f1a3b9ae172c6b8255b1c82c340f</td>\n",
       "      <td>11119</td>\n",
       "      <td>3</td>\n",
       "      <td>p_298770</td>\n",
       "      <td>40</td>\n",
       "      <td>156302.65</td>\n",
       "      <td>NaN</td>\n",
       "      <td>NaN</td>\n",
       "      <td>NaN</td>\n",
       "      <td>NaN</td>\n",
       "      <td>49, 80, 174</td>\n",
       "      <td>3</td>\n",
       "      <td>92.90</td>\n",
       "      <td>1</td>\n",
       "      <td>0.00</td>\n",
       "      <td>0.00</td>\n",
       "      <td>0.00</td>\n",
       "      <td>1.00</td>\n",
       "      <td>0.00</td>\n",
       "      <td>0.00</td>\n",
       "      <td>1.00</td>\n",
       "      <td>2025.00</td>\n",
       "      <td>Placer Schedule</td>\n",
       "      <td>aHR0cHM6Ly9kYXRhLnRyaWxsaXVtdHJhbnNpdC5jb20vZ3Rmcy9wbGFjZXJjb3VudHktY2EtdXMvcGxhY2VyY291bnR5LWNhLXVzLnppcA==</td>\n",
       "      <td>03 - Marysville / Sacramento</td>\n",
       "      <td>Placer County</td>\n",
       "    </tr>\n",
       "    <tr>\n",
       "      <th>7548</th>\n",
       "      <td>2</td>\n",
       "      <td>Placer Schedule</td>\n",
       "      <td>8de1f1a3b9ae172c6b8255b1c82c340f</td>\n",
       "      <td>11119</td>\n",
       "      <td>3</td>\n",
       "      <td>p_298778</td>\n",
       "      <td>40</td>\n",
       "      <td>161421.29</td>\n",
       "      <td>NaN</td>\n",
       "      <td>NaN</td>\n",
       "      <td>NaN</td>\n",
       "      <td>NaN</td>\n",
       "      <td>49, 80, 174</td>\n",
       "      <td>3</td>\n",
       "      <td>92.60</td>\n",
       "      <td>1</td>\n",
       "      <td>0.00</td>\n",
       "      <td>0.00</td>\n",
       "      <td>0.00</td>\n",
       "      <td>1.00</td>\n",
       "      <td>0.00</td>\n",
       "      <td>0.00</td>\n",
       "      <td>1.00</td>\n",
       "      <td>2025.00</td>\n",
       "      <td>Placer Schedule</td>\n",
       "      <td>aHR0cHM6Ly9kYXRhLnRyaWxsaXVtdHJhbnNpdC5jb20vZ3Rmcy9wbGFjZXJjb3VudHktY2EtdXMvcGxhY2VyY291bnR5LWNhLXVzLnppcA==</td>\n",
       "      <td>03 - Marysville / Sacramento</td>\n",
       "      <td>Placer County</td>\n",
       "    </tr>\n",
       "    <tr>\n",
       "      <th>7549</th>\n",
       "      <td>4</td>\n",
       "      <td>Placer Schedule</td>\n",
       "      <td>8de1f1a3b9ae172c6b8255b1c82c340f</td>\n",
       "      <td>11120</td>\n",
       "      <td>3</td>\n",
       "      <td>p_1437078</td>\n",
       "      <td>20</td>\n",
       "      <td>99466.50</td>\n",
       "      <td>NaN</td>\n",
       "      <td>NaN</td>\n",
       "      <td>NaN</td>\n",
       "      <td>NaN</td>\n",
       "      <td>65, 80</td>\n",
       "      <td>3</td>\n",
       "      <td>3.30</td>\n",
       "      <td>1</td>\n",
       "      <td>0.00</td>\n",
       "      <td>0.00</td>\n",
       "      <td>0.00</td>\n",
       "      <td>1.00</td>\n",
       "      <td>0.00</td>\n",
       "      <td>0.00</td>\n",
       "      <td>1.00</td>\n",
       "      <td>2025.00</td>\n",
       "      <td>Placer Schedule</td>\n",
       "      <td>aHR0cHM6Ly9kYXRhLnRyaWxsaXVtdHJhbnNpdC5jb20vZ3Rmcy9wbGFjZXJjb3VudHktY2EtdXMvcGxhY2VyY291bnR5LWNhLXVzLnppcA==</td>\n",
       "      <td>03 - Marysville / Sacramento</td>\n",
       "      <td>Placer County</td>\n",
       "    </tr>\n",
       "    <tr>\n",
       "      <th>7550</th>\n",
       "      <td>10</td>\n",
       "      <td>Placer Schedule</td>\n",
       "      <td>8de1f1a3b9ae172c6b8255b1c82c340f</td>\n",
       "      <td>11120</td>\n",
       "      <td>3</td>\n",
       "      <td>p_298768</td>\n",
       "      <td>20</td>\n",
       "      <td>82536.01</td>\n",
       "      <td>NaN</td>\n",
       "      <td>NaN</td>\n",
       "      <td>NaN</td>\n",
       "      <td>NaN</td>\n",
       "      <td>65, 80</td>\n",
       "      <td>3</td>\n",
       "      <td>1.30</td>\n",
       "      <td>1</td>\n",
       "      <td>0.00</td>\n",
       "      <td>0.00</td>\n",
       "      <td>0.00</td>\n",
       "      <td>1.00</td>\n",
       "      <td>0.00</td>\n",
       "      <td>0.00</td>\n",
       "      <td>1.00</td>\n",
       "      <td>2025.00</td>\n",
       "      <td>Placer Schedule</td>\n",
       "      <td>aHR0cHM6Ly9kYXRhLnRyaWxsaXVtdHJhbnNpdC5jb20vZ3Rmcy9wbGFjZXJjb3VudHktY2EtdXMvcGxhY2VyY291bnR5LWNhLXVzLnppcA==</td>\n",
       "      <td>03 - Marysville / Sacramento</td>\n",
       "      <td>Placer County</td>\n",
       "    </tr>\n",
       "    <tr>\n",
       "      <th>7551</th>\n",
       "      <td>2</td>\n",
       "      <td>Placer Schedule</td>\n",
       "      <td>8de1f1a3b9ae172c6b8255b1c82c340f</td>\n",
       "      <td>11120</td>\n",
       "      <td>3</td>\n",
       "      <td>p_298773</td>\n",
       "      <td>20</td>\n",
       "      <td>108979.57</td>\n",
       "      <td>NaN</td>\n",
       "      <td>NaN</td>\n",
       "      <td>NaN</td>\n",
       "      <td>NaN</td>\n",
       "      <td>65, 80</td>\n",
       "      <td>3</td>\n",
       "      <td>1.00</td>\n",
       "      <td>1</td>\n",
       "      <td>0.00</td>\n",
       "      <td>0.00</td>\n",
       "      <td>0.00</td>\n",
       "      <td>1.00</td>\n",
       "      <td>0.00</td>\n",
       "      <td>0.00</td>\n",
       "      <td>1.00</td>\n",
       "      <td>2025.00</td>\n",
       "      <td>Placer Schedule</td>\n",
       "      <td>aHR0cHM6Ly9kYXRhLnRyaWxsaXVtdHJhbnNpdC5jb20vZ3Rmcy9wbGFjZXJjb3VudHktY2EtdXMvcGxhY2VyY291bnR5LWNhLXVzLnppcA==</td>\n",
       "      <td>03 - Marysville / Sacramento</td>\n",
       "      <td>Placer County</td>\n",
       "    </tr>\n",
       "    <tr>\n",
       "      <th>7552</th>\n",
       "      <td>12</td>\n",
       "      <td>Placer Schedule</td>\n",
       "      <td>8de1f1a3b9ae172c6b8255b1c82c340f</td>\n",
       "      <td>11120</td>\n",
       "      <td>3</td>\n",
       "      <td>p_298780</td>\n",
       "      <td>20</td>\n",
       "      <td>98959.72</td>\n",
       "      <td>NaN</td>\n",
       "      <td>NaN</td>\n",
       "      <td>NaN</td>\n",
       "      <td>NaN</td>\n",
       "      <td>65, 80</td>\n",
       "      <td>3</td>\n",
       "      <td>1.00</td>\n",
       "      <td>1</td>\n",
       "      <td>0.00</td>\n",
       "      <td>0.00</td>\n",
       "      <td>0.00</td>\n",
       "      <td>1.00</td>\n",
       "      <td>0.00</td>\n",
       "      <td>0.00</td>\n",
       "      <td>1.00</td>\n",
       "      <td>2025.00</td>\n",
       "      <td>Placer Schedule</td>\n",
       "      <td>aHR0cHM6Ly9kYXRhLnRyaWxsaXVtdHJhbnNpdC5jb20vZ3Rmcy9wbGFjZXJjb3VudHktY2EtdXMvcGxhY2VyY291bnR5LWNhLXVzLnppcA==</td>\n",
       "      <td>03 - Marysville / Sacramento</td>\n",
       "      <td>Placer County</td>\n",
       "    </tr>\n",
       "    <tr>\n",
       "      <th>7553</th>\n",
       "      <td>15</td>\n",
       "      <td>Placer Schedule</td>\n",
       "      <td>8de1f1a3b9ae172c6b8255b1c82c340f</td>\n",
       "      <td>11121</td>\n",
       "      <td>3</td>\n",
       "      <td>p_298761</td>\n",
       "      <td>10</td>\n",
       "      <td>150440.30</td>\n",
       "      <td>NaN</td>\n",
       "      <td>NaN</td>\n",
       "      <td>NaN</td>\n",
       "      <td>NaN</td>\n",
       "      <td>51, 65, 80, 193, 244</td>\n",
       "      <td>3</td>\n",
       "      <td>75.40</td>\n",
       "      <td>1</td>\n",
       "      <td>0.00</td>\n",
       "      <td>0.00</td>\n",
       "      <td>0.00</td>\n",
       "      <td>1.00</td>\n",
       "      <td>0.00</td>\n",
       "      <td>0.00</td>\n",
       "      <td>1.00</td>\n",
       "      <td>2025.00</td>\n",
       "      <td>Placer Schedule</td>\n",
       "      <td>aHR0cHM6Ly9kYXRhLnRyaWxsaXVtdHJhbnNpdC5jb20vZ3Rmcy9wbGFjZXJjb3VudHktY2EtdXMvcGxhY2VyY291bnR5LWNhLXVzLnppcA==</td>\n",
       "      <td>03 - Marysville / Sacramento</td>\n",
       "      <td>Placer County</td>\n",
       "    </tr>\n",
       "    <tr>\n",
       "      <th>7554</th>\n",
       "      <td>15</td>\n",
       "      <td>Placer Schedule</td>\n",
       "      <td>8de1f1a3b9ae172c6b8255b1c82c340f</td>\n",
       "      <td>11121</td>\n",
       "      <td>3</td>\n",
       "      <td>p_298777</td>\n",
       "      <td>10</td>\n",
       "      <td>157040.55</td>\n",
       "      <td>NaN</td>\n",
       "      <td>NaN</td>\n",
       "      <td>NaN</td>\n",
       "      <td>NaN</td>\n",
       "      <td>51, 65, 80, 193, 244</td>\n",
       "      <td>3</td>\n",
       "      <td>73.70</td>\n",
       "      <td>1</td>\n",
       "      <td>0.00</td>\n",
       "      <td>0.00</td>\n",
       "      <td>0.00</td>\n",
       "      <td>1.00</td>\n",
       "      <td>0.00</td>\n",
       "      <td>0.00</td>\n",
       "      <td>1.00</td>\n",
       "      <td>2025.00</td>\n",
       "      <td>Placer Schedule</td>\n",
       "      <td>aHR0cHM6Ly9kYXRhLnRyaWxsaXVtdHJhbnNpdC5jb20vZ3Rmcy9wbGFjZXJjb3VudHktY2EtdXMvcGxhY2VyY291bnR5LWNhLXVzLnppcA==</td>\n",
       "      <td>03 - Marysville / Sacramento</td>\n",
       "      <td>Placer County</td>\n",
       "    </tr>\n",
       "    <tr>\n",
       "      <th>7555</th>\n",
       "      <td>2</td>\n",
       "      <td>Placer Schedule</td>\n",
       "      <td>8de1f1a3b9ae172c6b8255b1c82c340f</td>\n",
       "      <td>11115</td>\n",
       "      <td>3</td>\n",
       "      <td>p_178963</td>\n",
       "      <td>30</td>\n",
       "      <td>52459.43</td>\n",
       "      <td>aHR0cHM6Ly9kYXRhLnRyaWxsaXVtdHJhbnNpdC5jb20vZ3Rmcy9wbGFjZXJjb3VudHktY2EtdXMvcGxhY2VyY291bnR5LWNhLXVzLnppcA==</td>\n",
       "      <td>recDD2rnkl2m7IV8u</td>\n",
       "      <td>Placer County</td>\n",
       "      <td>03 - Marysville / Sacramento</td>\n",
       "      <td>49</td>\n",
       "      <td>3</td>\n",
       "      <td>23.00</td>\n",
       "      <td>1</td>\n",
       "      <td>0.00</td>\n",
       "      <td>0.00</td>\n",
       "      <td>0.00</td>\n",
       "      <td>1.00</td>\n",
       "      <td>0.00</td>\n",
       "      <td>0.00</td>\n",
       "      <td>1.00</td>\n",
       "      <td>2025.00</td>\n",
       "      <td>Placer Schedule</td>\n",
       "      <td>aHR0cHM6Ly9kYXRhLnRyaWxsaXVtdHJhbnNpdC5jb20vZ3Rmcy9wbGFjZXJjb3VudHktY2EtdXMvcGxhY2VyY291bnR5LWNhLXVzLnppcA==</td>\n",
       "      <td>03 - Marysville / Sacramento</td>\n",
       "      <td>Placer County</td>\n",
       "    </tr>\n",
       "    <tr>\n",
       "      <th>7556</th>\n",
       "      <td>13</td>\n",
       "      <td>Placer Schedule</td>\n",
       "      <td>8de1f1a3b9ae172c6b8255b1c82c340f</td>\n",
       "      <td>11115</td>\n",
       "      <td>3</td>\n",
       "      <td>p_298764</td>\n",
       "      <td>30</td>\n",
       "      <td>52459.43</td>\n",
       "      <td>aHR0cHM6Ly9kYXRhLnRyaWxsaXVtdHJhbnNpdC5jb20vZ3Rmcy9wbGFjZXJjb3VudHktY2EtdXMvcGxhY2VyY291bnR5LWNhLXVzLnppcA==</td>\n",
       "      <td>recDD2rnkl2m7IV8u</td>\n",
       "      <td>Placer County</td>\n",
       "      <td>03 - Marysville / Sacramento</td>\n",
       "      <td>49</td>\n",
       "      <td>3</td>\n",
       "      <td>23.00</td>\n",
       "      <td>1</td>\n",
       "      <td>0.00</td>\n",
       "      <td>0.00</td>\n",
       "      <td>0.00</td>\n",
       "      <td>1.00</td>\n",
       "      <td>0.00</td>\n",
       "      <td>0.00</td>\n",
       "      <td>1.00</td>\n",
       "      <td>2025.00</td>\n",
       "      <td>Placer Schedule</td>\n",
       "      <td>aHR0cHM6Ly9kYXRhLnRyaWxsaXVtdHJhbnNpdC5jb20vZ3Rmcy9wbGFjZXJjb3VudHktY2EtdXMvcGxhY2VyY291bnR5LWNhLXVzLnppcA==</td>\n",
       "      <td>03 - Marysville / Sacramento</td>\n",
       "      <td>Placer County</td>\n",
       "    </tr>\n",
       "    <tr>\n",
       "      <th>7557</th>\n",
       "      <td>2</td>\n",
       "      <td>Placer Schedule</td>\n",
       "      <td>8de1f1a3b9ae172c6b8255b1c82c340f</td>\n",
       "      <td>11115</td>\n",
       "      <td>3</td>\n",
       "      <td>p_298766</td>\n",
       "      <td>30</td>\n",
       "      <td>35825.42</td>\n",
       "      <td>aHR0cHM6Ly9kYXRhLnRyaWxsaXVtdHJhbnNpdC5jb20vZ3Rmcy9wbGFjZXJjb3VudHktY2EtdXMvcGxhY2VyY291bnR5LWNhLXVzLnppcA==</td>\n",
       "      <td>recDD2rnkl2m7IV8u</td>\n",
       "      <td>Placer County</td>\n",
       "      <td>03 - Marysville / Sacramento</td>\n",
       "      <td>49</td>\n",
       "      <td>3</td>\n",
       "      <td>46.80</td>\n",
       "      <td>1</td>\n",
       "      <td>0.00</td>\n",
       "      <td>0.00</td>\n",
       "      <td>0.00</td>\n",
       "      <td>1.00</td>\n",
       "      <td>0.00</td>\n",
       "      <td>0.00</td>\n",
       "      <td>1.00</td>\n",
       "      <td>2025.00</td>\n",
       "      <td>Placer Schedule</td>\n",
       "      <td>aHR0cHM6Ly9kYXRhLnRyaWxsaXVtdHJhbnNpdC5jb20vZ3Rmcy9wbGFjZXJjb3VudHktY2EtdXMvcGxhY2VyY291bnR5LWNhLXVzLnppcA==</td>\n",
       "      <td>03 - Marysville / Sacramento</td>\n",
       "      <td>Placer County</td>\n",
       "    </tr>\n",
       "    <tr>\n",
       "      <th>7558</th>\n",
       "      <td>13</td>\n",
       "      <td>Placer Schedule</td>\n",
       "      <td>8de1f1a3b9ae172c6b8255b1c82c340f</td>\n",
       "      <td>11115</td>\n",
       "      <td>3</td>\n",
       "      <td>p_298775</td>\n",
       "      <td>30</td>\n",
       "      <td>50518.52</td>\n",
       "      <td>aHR0cHM6Ly9kYXRhLnRyaWxsaXVtdHJhbnNpdC5jb20vZ3Rmcy9wbGFjZXJjb3VudHktY2EtdXMvcGxhY2VyY291bnR5LWNhLXVzLnppcA==</td>\n",
       "      <td>recDD2rnkl2m7IV8u</td>\n",
       "      <td>Placer County</td>\n",
       "      <td>03 - Marysville / Sacramento</td>\n",
       "      <td>49</td>\n",
       "      <td>3</td>\n",
       "      <td>26.60</td>\n",
       "      <td>1</td>\n",
       "      <td>0.00</td>\n",
       "      <td>0.00</td>\n",
       "      <td>0.00</td>\n",
       "      <td>1.00</td>\n",
       "      <td>0.00</td>\n",
       "      <td>0.00</td>\n",
       "      <td>1.00</td>\n",
       "      <td>2025.00</td>\n",
       "      <td>Placer Schedule</td>\n",
       "      <td>aHR0cHM6Ly9kYXRhLnRyaWxsaXVtdHJhbnNpdC5jb20vZ3Rmcy9wbGFjZXJjb3VudHktY2EtdXMvcGxhY2VyY291bnR5LWNhLXVzLnppcA==</td>\n",
       "      <td>03 - Marysville / Sacramento</td>\n",
       "      <td>Placer County</td>\n",
       "    </tr>\n",
       "    <tr>\n",
       "      <th>7559</th>\n",
       "      <td>2</td>\n",
       "      <td>Placer Schedule</td>\n",
       "      <td>8de1f1a3b9ae172c6b8255b1c82c340f</td>\n",
       "      <td>11116</td>\n",
       "      <td>3</td>\n",
       "      <td>p_1434459</td>\n",
       "      <td>70</td>\n",
       "      <td>107163.28</td>\n",
       "      <td>aHR0cHM6Ly9kYXRhLnRyaWxsaXVtdHJhbnNpdC5jb20vZ3Rmcy9wbGFjZXJjb3VudHktY2EtdXMvcGxhY2VyY291bnR5LWNhLXVzLnppcA==</td>\n",
       "      <td>recDD2rnkl2m7IV8u</td>\n",
       "      <td>Placer County</td>\n",
       "      <td>03 - Marysville / Sacramento</td>\n",
       "      <td>65</td>\n",
       "      <td>3</td>\n",
       "      <td>9.20</td>\n",
       "      <td>1</td>\n",
       "      <td>0.00</td>\n",
       "      <td>0.00</td>\n",
       "      <td>0.00</td>\n",
       "      <td>1.00</td>\n",
       "      <td>0.00</td>\n",
       "      <td>0.00</td>\n",
       "      <td>1.00</td>\n",
       "      <td>2025.00</td>\n",
       "      <td>Placer Schedule</td>\n",
       "      <td>aHR0cHM6Ly9kYXRhLnRyaWxsaXVtdHJhbnNpdC5jb20vZ3Rmcy9wbGFjZXJjb3VudHktY2EtdXMvcGxhY2VyY291bnR5LWNhLXVzLnppcA==</td>\n",
       "      <td>03 - Marysville / Sacramento</td>\n",
       "      <td>Placer County</td>\n",
       "    </tr>\n",
       "    <tr>\n",
       "      <th>7560</th>\n",
       "      <td>10</td>\n",
       "      <td>Placer Schedule</td>\n",
       "      <td>8de1f1a3b9ae172c6b8255b1c82c340f</td>\n",
       "      <td>11116</td>\n",
       "      <td>3</td>\n",
       "      <td>p_298762</td>\n",
       "      <td>70</td>\n",
       "      <td>85464.93</td>\n",
       "      <td>aHR0cHM6Ly9kYXRhLnRyaWxsaXVtdHJhbnNpdC5jb20vZ3Rmcy9wbGFjZXJjb3VudHktY2EtdXMvcGxhY2VyY291bnR5LWNhLXVzLnppcA==</td>\n",
       "      <td>recDD2rnkl2m7IV8u</td>\n",
       "      <td>Placer County</td>\n",
       "      <td>03 - Marysville / Sacramento</td>\n",
       "      <td>65</td>\n",
       "      <td>3</td>\n",
       "      <td>11.50</td>\n",
       "      <td>1</td>\n",
       "      <td>0.00</td>\n",
       "      <td>0.00</td>\n",
       "      <td>0.00</td>\n",
       "      <td>1.00</td>\n",
       "      <td>0.00</td>\n",
       "      <td>0.00</td>\n",
       "      <td>1.00</td>\n",
       "      <td>2025.00</td>\n",
       "      <td>Placer Schedule</td>\n",
       "      <td>aHR0cHM6Ly9kYXRhLnRyaWxsaXVtdHJhbnNpdC5jb20vZ3Rmcy9wbGFjZXJjb3VudHktY2EtdXMvcGxhY2VyY291bnR5LWNhLXVzLnppcA==</td>\n",
       "      <td>03 - Marysville / Sacramento</td>\n",
       "      <td>Placer County</td>\n",
       "    </tr>\n",
       "    <tr>\n",
       "      <th>7561</th>\n",
       "      <td>1</td>\n",
       "      <td>Placer Schedule</td>\n",
       "      <td>8de1f1a3b9ae172c6b8255b1c82c340f</td>\n",
       "      <td>11117</td>\n",
       "      <td>3</td>\n",
       "      <td>p_178966</td>\n",
       "      <td>60</td>\n",
       "      <td>298747.35</td>\n",
       "      <td>aHR0cHM6Ly9kYXRhLnRyaWxsaXVtdHJhbnNpdC5jb20vZ3Rmcy9wbGFjZXJjb3VudHktY2EtdXMvcGxhY2VyY291bnR5LWNhLXVzLnppcA==</td>\n",
       "      <td>recDD2rnkl2m7IV8u</td>\n",
       "      <td>Placer County</td>\n",
       "      <td>03 - Marysville / Sacramento</td>\n",
       "      <td>51, 174, 65, 80, 5, 49, 193, 244</td>\n",
       "      <td>3</td>\n",
       "      <td>75.30</td>\n",
       "      <td>1</td>\n",
       "      <td>1.00</td>\n",
       "      <td>0.00</td>\n",
       "      <td>0.00</td>\n",
       "      <td>0.00</td>\n",
       "      <td>0.00</td>\n",
       "      <td>0.00</td>\n",
       "      <td>0.00</td>\n",
       "      <td>2025.00</td>\n",
       "      <td>Placer Schedule</td>\n",
       "      <td>aHR0cHM6Ly9kYXRhLnRyaWxsaXVtdHJhbnNpdC5jb20vZ3Rmcy9wbGFjZXJjb3VudHktY2EtdXMvcGxhY2VyY291bnR5LWNhLXVzLnppcA==</td>\n",
       "      <td>03 - Marysville / Sacramento</td>\n",
       "      <td>Placer County</td>\n",
       "    </tr>\n",
       "    <tr>\n",
       "      <th>7562</th>\n",
       "      <td>1</td>\n",
       "      <td>Placer Schedule</td>\n",
       "      <td>8de1f1a3b9ae172c6b8255b1c82c340f</td>\n",
       "      <td>11117</td>\n",
       "      <td>3</td>\n",
       "      <td>p_179145</td>\n",
       "      <td>60</td>\n",
       "      <td>298747.35</td>\n",
       "      <td>aHR0cHM6Ly9kYXRhLnRyaWxsaXVtdHJhbnNpdC5jb20vZ3Rmcy9wbGFjZXJjb3VudHktY2EtdXMvcGxhY2VyY291bnR5LWNhLXVzLnppcA==</td>\n",
       "      <td>recDD2rnkl2m7IV8u</td>\n",
       "      <td>Placer County</td>\n",
       "      <td>03 - Marysville / Sacramento</td>\n",
       "      <td>51, 174, 65, 80, 5, 49, 193, 244</td>\n",
       "      <td>3</td>\n",
       "      <td>75.30</td>\n",
       "      <td>1</td>\n",
       "      <td>1.00</td>\n",
       "      <td>0.00</td>\n",
       "      <td>0.00</td>\n",
       "      <td>0.00</td>\n",
       "      <td>0.00</td>\n",
       "      <td>0.00</td>\n",
       "      <td>0.00</td>\n",
       "      <td>2025.00</td>\n",
       "      <td>Placer Schedule</td>\n",
       "      <td>aHR0cHM6Ly9kYXRhLnRyaWxsaXVtdHJhbnNpdC5jb20vZ3Rmcy9wbGFjZXJjb3VudHktY2EtdXMvcGxhY2VyY291bnR5LWNhLXVzLnppcA==</td>\n",
       "      <td>03 - Marysville / Sacramento</td>\n",
       "      <td>Placer County</td>\n",
       "    </tr>\n",
       "    <tr>\n",
       "      <th>7563</th>\n",
       "      <td>1</td>\n",
       "      <td>Placer Schedule</td>\n",
       "      <td>8de1f1a3b9ae172c6b8255b1c82c340f</td>\n",
       "      <td>11117</td>\n",
       "      <td>3</td>\n",
       "      <td>p_298765</td>\n",
       "      <td>60</td>\n",
       "      <td>303170.32</td>\n",
       "      <td>aHR0cHM6Ly9kYXRhLnRyaWxsaXVtdHJhbnNpdC5jb20vZ3Rmcy9wbGFjZXJjb3VudHktY2EtdXMvcGxhY2VyY291bnR5LWNhLXVzLnppcA==</td>\n",
       "      <td>recDD2rnkl2m7IV8u</td>\n",
       "      <td>Placer County</td>\n",
       "      <td>03 - Marysville / Sacramento</td>\n",
       "      <td>51, 174, 65, 80, 5, 49, 193, 244</td>\n",
       "      <td>3</td>\n",
       "      <td>76.00</td>\n",
       "      <td>1</td>\n",
       "      <td>1.00</td>\n",
       "      <td>0.00</td>\n",
       "      <td>0.00</td>\n",
       "      <td>0.00</td>\n",
       "      <td>0.00</td>\n",
       "      <td>0.00</td>\n",
       "      <td>0.00</td>\n",
       "      <td>2025.00</td>\n",
       "      <td>Placer Schedule</td>\n",
       "      <td>aHR0cHM6Ly9kYXRhLnRyaWxsaXVtdHJhbnNpdC5jb20vZ3Rmcy9wbGFjZXJjb3VudHktY2EtdXMvcGxhY2VyY291bnR5LWNhLXVzLnppcA==</td>\n",
       "      <td>03 - Marysville / Sacramento</td>\n",
       "      <td>Placer County</td>\n",
       "    </tr>\n",
       "    <tr>\n",
       "      <th>7564</th>\n",
       "      <td>1</td>\n",
       "      <td>Placer Schedule</td>\n",
       "      <td>8de1f1a3b9ae172c6b8255b1c82c340f</td>\n",
       "      <td>11117</td>\n",
       "      <td>3</td>\n",
       "      <td>p_298772</td>\n",
       "      <td>60</td>\n",
       "      <td>303170.32</td>\n",
       "      <td>aHR0cHM6Ly9kYXRhLnRyaWxsaXVtdHJhbnNpdC5jb20vZ3Rmcy9wbGFjZXJjb3VudHktY2EtdXMvcGxhY2VyY291bnR5LWNhLXVzLnppcA==</td>\n",
       "      <td>recDD2rnkl2m7IV8u</td>\n",
       "      <td>Placer County</td>\n",
       "      <td>03 - Marysville / Sacramento</td>\n",
       "      <td>51, 174, 65, 80, 5, 49, 193, 244</td>\n",
       "      <td>3</td>\n",
       "      <td>76.00</td>\n",
       "      <td>1</td>\n",
       "      <td>1.00</td>\n",
       "      <td>0.00</td>\n",
       "      <td>0.00</td>\n",
       "      <td>0.00</td>\n",
       "      <td>0.00</td>\n",
       "      <td>0.00</td>\n",
       "      <td>0.00</td>\n",
       "      <td>2025.00</td>\n",
       "      <td>Placer Schedule</td>\n",
       "      <td>aHR0cHM6Ly9kYXRhLnRyaWxsaXVtdHJhbnNpdC5jb20vZ3Rmcy9wbGFjZXJjb3VudHktY2EtdXMvcGxhY2VyY291bnR5LWNhLXVzLnppcA==</td>\n",
       "      <td>03 - Marysville / Sacramento</td>\n",
       "      <td>Placer County</td>\n",
       "    </tr>\n",
       "    <tr>\n",
       "      <th>7565</th>\n",
       "      <td>2</td>\n",
       "      <td>Placer Schedule</td>\n",
       "      <td>8de1f1a3b9ae172c6b8255b1c82c340f</td>\n",
       "      <td>11119</td>\n",
       "      <td>3</td>\n",
       "      <td>p_298770</td>\n",
       "      <td>40</td>\n",
       "      <td>156302.65</td>\n",
       "      <td>aHR0cHM6Ly9kYXRhLnRyaWxsaXVtdHJhbnNpdC5jb20vZ3Rmcy9wbGFjZXJjb3VudHktY2EtdXMvcGxhY2VyY291bnR5LWNhLXVzLnppcA==</td>\n",
       "      <td>recDD2rnkl2m7IV8u</td>\n",
       "      <td>Placer County</td>\n",
       "      <td>03 - Marysville / Sacramento</td>\n",
       "      <td>49, 80, 174</td>\n",
       "      <td>3</td>\n",
       "      <td>92.90</td>\n",
       "      <td>1</td>\n",
       "      <td>0.00</td>\n",
       "      <td>0.00</td>\n",
       "      <td>0.00</td>\n",
       "      <td>1.00</td>\n",
       "      <td>0.00</td>\n",
       "      <td>0.00</td>\n",
       "      <td>1.00</td>\n",
       "      <td>2025.00</td>\n",
       "      <td>Placer Schedule</td>\n",
       "      <td>aHR0cHM6Ly9kYXRhLnRyaWxsaXVtdHJhbnNpdC5jb20vZ3Rmcy9wbGFjZXJjb3VudHktY2EtdXMvcGxhY2VyY291bnR5LWNhLXVzLnppcA==</td>\n",
       "      <td>03 - Marysville / Sacramento</td>\n",
       "      <td>Placer County</td>\n",
       "    </tr>\n",
       "    <tr>\n",
       "      <th>7566</th>\n",
       "      <td>2</td>\n",
       "      <td>Placer Schedule</td>\n",
       "      <td>8de1f1a3b9ae172c6b8255b1c82c340f</td>\n",
       "      <td>11119</td>\n",
       "      <td>3</td>\n",
       "      <td>p_298778</td>\n",
       "      <td>40</td>\n",
       "      <td>161421.29</td>\n",
       "      <td>aHR0cHM6Ly9kYXRhLnRyaWxsaXVtdHJhbnNpdC5jb20vZ3Rmcy9wbGFjZXJjb3VudHktY2EtdXMvcGxhY2VyY291bnR5LWNhLXVzLnppcA==</td>\n",
       "      <td>recDD2rnkl2m7IV8u</td>\n",
       "      <td>Placer County</td>\n",
       "      <td>03 - Marysville / Sacramento</td>\n",
       "      <td>49, 80, 174</td>\n",
       "      <td>3</td>\n",
       "      <td>92.60</td>\n",
       "      <td>1</td>\n",
       "      <td>0.00</td>\n",
       "      <td>0.00</td>\n",
       "      <td>0.00</td>\n",
       "      <td>1.00</td>\n",
       "      <td>0.00</td>\n",
       "      <td>0.00</td>\n",
       "      <td>1.00</td>\n",
       "      <td>2025.00</td>\n",
       "      <td>Placer Schedule</td>\n",
       "      <td>aHR0cHM6Ly9kYXRhLnRyaWxsaXVtdHJhbnNpdC5jb20vZ3Rmcy9wbGFjZXJjb3VudHktY2EtdXMvcGxhY2VyY291bnR5LWNhLXVzLnppcA==</td>\n",
       "      <td>03 - Marysville / Sacramento</td>\n",
       "      <td>Placer County</td>\n",
       "    </tr>\n",
       "    <tr>\n",
       "      <th>7567</th>\n",
       "      <td>4</td>\n",
       "      <td>Placer Schedule</td>\n",
       "      <td>8de1f1a3b9ae172c6b8255b1c82c340f</td>\n",
       "      <td>11120</td>\n",
       "      <td>3</td>\n",
       "      <td>p_1437078</td>\n",
       "      <td>20</td>\n",
       "      <td>99466.50</td>\n",
       "      <td>aHR0cHM6Ly9kYXRhLnRyaWxsaXVtdHJhbnNpdC5jb20vZ3Rmcy9wbGFjZXJjb3VudHktY2EtdXMvcGxhY2VyY291bnR5LWNhLXVzLnppcA==</td>\n",
       "      <td>recDD2rnkl2m7IV8u</td>\n",
       "      <td>Placer County</td>\n",
       "      <td>03 - Marysville / Sacramento</td>\n",
       "      <td>65, 80</td>\n",
       "      <td>3</td>\n",
       "      <td>3.30</td>\n",
       "      <td>1</td>\n",
       "      <td>0.00</td>\n",
       "      <td>0.00</td>\n",
       "      <td>0.00</td>\n",
       "      <td>1.00</td>\n",
       "      <td>0.00</td>\n",
       "      <td>0.00</td>\n",
       "      <td>1.00</td>\n",
       "      <td>2025.00</td>\n",
       "      <td>Placer Schedule</td>\n",
       "      <td>aHR0cHM6Ly9kYXRhLnRyaWxsaXVtdHJhbnNpdC5jb20vZ3Rmcy9wbGFjZXJjb3VudHktY2EtdXMvcGxhY2VyY291bnR5LWNhLXVzLnppcA==</td>\n",
       "      <td>03 - Marysville / Sacramento</td>\n",
       "      <td>Placer County</td>\n",
       "    </tr>\n",
       "    <tr>\n",
       "      <th>7568</th>\n",
       "      <td>10</td>\n",
       "      <td>Placer Schedule</td>\n",
       "      <td>8de1f1a3b9ae172c6b8255b1c82c340f</td>\n",
       "      <td>11120</td>\n",
       "      <td>3</td>\n",
       "      <td>p_298768</td>\n",
       "      <td>20</td>\n",
       "      <td>82536.01</td>\n",
       "      <td>aHR0cHM6Ly9kYXRhLnRyaWxsaXVtdHJhbnNpdC5jb20vZ3Rmcy9wbGFjZXJjb3VudHktY2EtdXMvcGxhY2VyY291bnR5LWNhLXVzLnppcA==</td>\n",
       "      <td>recDD2rnkl2m7IV8u</td>\n",
       "      <td>Placer County</td>\n",
       "      <td>03 - Marysville / Sacramento</td>\n",
       "      <td>65, 80</td>\n",
       "      <td>3</td>\n",
       "      <td>1.30</td>\n",
       "      <td>1</td>\n",
       "      <td>0.00</td>\n",
       "      <td>0.00</td>\n",
       "      <td>0.00</td>\n",
       "      <td>1.00</td>\n",
       "      <td>0.00</td>\n",
       "      <td>0.00</td>\n",
       "      <td>1.00</td>\n",
       "      <td>2025.00</td>\n",
       "      <td>Placer Schedule</td>\n",
       "      <td>aHR0cHM6Ly9kYXRhLnRyaWxsaXVtdHJhbnNpdC5jb20vZ3Rmcy9wbGFjZXJjb3VudHktY2EtdXMvcGxhY2VyY291bnR5LWNhLXVzLnppcA==</td>\n",
       "      <td>03 - Marysville / Sacramento</td>\n",
       "      <td>Placer County</td>\n",
       "    </tr>\n",
       "    <tr>\n",
       "      <th>7569</th>\n",
       "      <td>2</td>\n",
       "      <td>Placer Schedule</td>\n",
       "      <td>8de1f1a3b9ae172c6b8255b1c82c340f</td>\n",
       "      <td>11120</td>\n",
       "      <td>3</td>\n",
       "      <td>p_298773</td>\n",
       "      <td>20</td>\n",
       "      <td>108979.57</td>\n",
       "      <td>aHR0cHM6Ly9kYXRhLnRyaWxsaXVtdHJhbnNpdC5jb20vZ3Rmcy9wbGFjZXJjb3VudHktY2EtdXMvcGxhY2VyY291bnR5LWNhLXVzLnppcA==</td>\n",
       "      <td>recDD2rnkl2m7IV8u</td>\n",
       "      <td>Placer County</td>\n",
       "      <td>03 - Marysville / Sacramento</td>\n",
       "      <td>65, 80</td>\n",
       "      <td>3</td>\n",
       "      <td>1.00</td>\n",
       "      <td>1</td>\n",
       "      <td>0.00</td>\n",
       "      <td>0.00</td>\n",
       "      <td>0.00</td>\n",
       "      <td>1.00</td>\n",
       "      <td>0.00</td>\n",
       "      <td>0.00</td>\n",
       "      <td>1.00</td>\n",
       "      <td>2025.00</td>\n",
       "      <td>Placer Schedule</td>\n",
       "      <td>aHR0cHM6Ly9kYXRhLnRyaWxsaXVtdHJhbnNpdC5jb20vZ3Rmcy9wbGFjZXJjb3VudHktY2EtdXMvcGxhY2VyY291bnR5LWNhLXVzLnppcA==</td>\n",
       "      <td>03 - Marysville / Sacramento</td>\n",
       "      <td>Placer County</td>\n",
       "    </tr>\n",
       "    <tr>\n",
       "      <th>7570</th>\n",
       "      <td>12</td>\n",
       "      <td>Placer Schedule</td>\n",
       "      <td>8de1f1a3b9ae172c6b8255b1c82c340f</td>\n",
       "      <td>11120</td>\n",
       "      <td>3</td>\n",
       "      <td>p_298780</td>\n",
       "      <td>20</td>\n",
       "      <td>98959.72</td>\n",
       "      <td>aHR0cHM6Ly9kYXRhLnRyaWxsaXVtdHJhbnNpdC5jb20vZ3Rmcy9wbGFjZXJjb3VudHktY2EtdXMvcGxhY2VyY291bnR5LWNhLXVzLnppcA==</td>\n",
       "      <td>recDD2rnkl2m7IV8u</td>\n",
       "      <td>Placer County</td>\n",
       "      <td>03 - Marysville / Sacramento</td>\n",
       "      <td>65, 80</td>\n",
       "      <td>3</td>\n",
       "      <td>1.00</td>\n",
       "      <td>1</td>\n",
       "      <td>0.00</td>\n",
       "      <td>0.00</td>\n",
       "      <td>0.00</td>\n",
       "      <td>1.00</td>\n",
       "      <td>0.00</td>\n",
       "      <td>0.00</td>\n",
       "      <td>1.00</td>\n",
       "      <td>2025.00</td>\n",
       "      <td>Placer Schedule</td>\n",
       "      <td>aHR0cHM6Ly9kYXRhLnRyaWxsaXVtdHJhbnNpdC5jb20vZ3Rmcy9wbGFjZXJjb3VudHktY2EtdXMvcGxhY2VyY291bnR5LWNhLXVzLnppcA==</td>\n",
       "      <td>03 - Marysville / Sacramento</td>\n",
       "      <td>Placer County</td>\n",
       "    </tr>\n",
       "    <tr>\n",
       "      <th>7571</th>\n",
       "      <td>15</td>\n",
       "      <td>Placer Schedule</td>\n",
       "      <td>8de1f1a3b9ae172c6b8255b1c82c340f</td>\n",
       "      <td>11121</td>\n",
       "      <td>3</td>\n",
       "      <td>p_298761</td>\n",
       "      <td>10</td>\n",
       "      <td>150440.30</td>\n",
       "      <td>aHR0cHM6Ly9kYXRhLnRyaWxsaXVtdHJhbnNpdC5jb20vZ3Rmcy9wbGFjZXJjb3VudHktY2EtdXMvcGxhY2VyY291bnR5LWNhLXVzLnppcA==</td>\n",
       "      <td>recDD2rnkl2m7IV8u</td>\n",
       "      <td>Placer County</td>\n",
       "      <td>03 - Marysville / Sacramento</td>\n",
       "      <td>51, 65, 80, 193, 244</td>\n",
       "      <td>3</td>\n",
       "      <td>75.40</td>\n",
       "      <td>1</td>\n",
       "      <td>0.00</td>\n",
       "      <td>0.00</td>\n",
       "      <td>0.00</td>\n",
       "      <td>1.00</td>\n",
       "      <td>0.00</td>\n",
       "      <td>0.00</td>\n",
       "      <td>1.00</td>\n",
       "      <td>2025.00</td>\n",
       "      <td>Placer Schedule</td>\n",
       "      <td>aHR0cHM6Ly9kYXRhLnRyaWxsaXVtdHJhbnNpdC5jb20vZ3Rmcy9wbGFjZXJjb3VudHktY2EtdXMvcGxhY2VyY291bnR5LWNhLXVzLnppcA==</td>\n",
       "      <td>03 - Marysville / Sacramento</td>\n",
       "      <td>Placer County</td>\n",
       "    </tr>\n",
       "    <tr>\n",
       "      <th>7572</th>\n",
       "      <td>15</td>\n",
       "      <td>Placer Schedule</td>\n",
       "      <td>8de1f1a3b9ae172c6b8255b1c82c340f</td>\n",
       "      <td>11121</td>\n",
       "      <td>3</td>\n",
       "      <td>p_298777</td>\n",
       "      <td>10</td>\n",
       "      <td>157040.55</td>\n",
       "      <td>aHR0cHM6Ly9kYXRhLnRyaWxsaXVtdHJhbnNpdC5jb20vZ3Rmcy9wbGFjZXJjb3VudHktY2EtdXMvcGxhY2VyY291bnR5LWNhLXVzLnppcA==</td>\n",
       "      <td>recDD2rnkl2m7IV8u</td>\n",
       "      <td>Placer County</td>\n",
       "      <td>03 - Marysville / Sacramento</td>\n",
       "      <td>51, 65, 80, 193, 244</td>\n",
       "      <td>3</td>\n",
       "      <td>73.70</td>\n",
       "      <td>1</td>\n",
       "      <td>0.00</td>\n",
       "      <td>0.00</td>\n",
       "      <td>0.00</td>\n",
       "      <td>1.00</td>\n",
       "      <td>0.00</td>\n",
       "      <td>0.00</td>\n",
       "      <td>1.00</td>\n",
       "      <td>2025.00</td>\n",
       "      <td>Placer Schedule</td>\n",
       "      <td>aHR0cHM6Ly9kYXRhLnRyaWxsaXVtdHJhbnNpdC5jb20vZ3Rmcy9wbGFjZXJjb3VudHktY2EtdXMvcGxhY2VyY291bnR5LWNhLXVzLnppcA==</td>\n",
       "      <td>03 - Marysville / Sacramento</td>\n",
       "      <td>Placer County</td>\n",
       "    </tr>\n",
       "  </tbody>\n",
       "</table>\n",
       "</div>"
      ],
      "text/plain": [
       "      n_trips    name_original         schedule_gtfs_dataset_key route_id  \\\n",
       "7535        2  Placer Schedule  8de1f1a3b9ae172c6b8255b1c82c340f    11115   \n",
       "7536       13  Placer Schedule  8de1f1a3b9ae172c6b8255b1c82c340f    11115   \n",
       "7537        2  Placer Schedule  8de1f1a3b9ae172c6b8255b1c82c340f    11115   \n",
       "7538       13  Placer Schedule  8de1f1a3b9ae172c6b8255b1c82c340f    11115   \n",
       "7539        2  Placer Schedule  8de1f1a3b9ae172c6b8255b1c82c340f    11116   \n",
       "7540       10  Placer Schedule  8de1f1a3b9ae172c6b8255b1c82c340f    11116   \n",
       "7541        1  Placer Schedule  8de1f1a3b9ae172c6b8255b1c82c340f    11117   \n",
       "7542        1  Placer Schedule  8de1f1a3b9ae172c6b8255b1c82c340f    11117   \n",
       "7543        1  Placer Schedule  8de1f1a3b9ae172c6b8255b1c82c340f    11117   \n",
       "7544        1  Placer Schedule  8de1f1a3b9ae172c6b8255b1c82c340f    11117   \n",
       "7545        7  Placer Schedule  8de1f1a3b9ae172c6b8255b1c82c340f    11118   \n",
       "7546        6  Placer Schedule  8de1f1a3b9ae172c6b8255b1c82c340f    11118   \n",
       "7547        2  Placer Schedule  8de1f1a3b9ae172c6b8255b1c82c340f    11119   \n",
       "7548        2  Placer Schedule  8de1f1a3b9ae172c6b8255b1c82c340f    11119   \n",
       "7549        4  Placer Schedule  8de1f1a3b9ae172c6b8255b1c82c340f    11120   \n",
       "7550       10  Placer Schedule  8de1f1a3b9ae172c6b8255b1c82c340f    11120   \n",
       "7551        2  Placer Schedule  8de1f1a3b9ae172c6b8255b1c82c340f    11120   \n",
       "7552       12  Placer Schedule  8de1f1a3b9ae172c6b8255b1c82c340f    11120   \n",
       "7553       15  Placer Schedule  8de1f1a3b9ae172c6b8255b1c82c340f    11121   \n",
       "7554       15  Placer Schedule  8de1f1a3b9ae172c6b8255b1c82c340f    11121   \n",
       "7555        2  Placer Schedule  8de1f1a3b9ae172c6b8255b1c82c340f    11115   \n",
       "7556       13  Placer Schedule  8de1f1a3b9ae172c6b8255b1c82c340f    11115   \n",
       "7557        2  Placer Schedule  8de1f1a3b9ae172c6b8255b1c82c340f    11115   \n",
       "7558       13  Placer Schedule  8de1f1a3b9ae172c6b8255b1c82c340f    11115   \n",
       "7559        2  Placer Schedule  8de1f1a3b9ae172c6b8255b1c82c340f    11116   \n",
       "7560       10  Placer Schedule  8de1f1a3b9ae172c6b8255b1c82c340f    11116   \n",
       "7561        1  Placer Schedule  8de1f1a3b9ae172c6b8255b1c82c340f    11117   \n",
       "7562        1  Placer Schedule  8de1f1a3b9ae172c6b8255b1c82c340f    11117   \n",
       "7563        1  Placer Schedule  8de1f1a3b9ae172c6b8255b1c82c340f    11117   \n",
       "7564        1  Placer Schedule  8de1f1a3b9ae172c6b8255b1c82c340f    11117   \n",
       "7565        2  Placer Schedule  8de1f1a3b9ae172c6b8255b1c82c340f    11119   \n",
       "7566        2  Placer Schedule  8de1f1a3b9ae172c6b8255b1c82c340f    11119   \n",
       "7567        4  Placer Schedule  8de1f1a3b9ae172c6b8255b1c82c340f    11120   \n",
       "7568       10  Placer Schedule  8de1f1a3b9ae172c6b8255b1c82c340f    11120   \n",
       "7569        2  Placer Schedule  8de1f1a3b9ae172c6b8255b1c82c340f    11120   \n",
       "7570       12  Placer Schedule  8de1f1a3b9ae172c6b8255b1c82c340f    11120   \n",
       "7571       15  Placer Schedule  8de1f1a3b9ae172c6b8255b1c82c340f    11121   \n",
       "7572       15  Placer Schedule  8de1f1a3b9ae172c6b8255b1c82c340f    11121   \n",
       "\n",
       "     route_type   shape_id route_name_used  route_length_feet  \\\n",
       "7535          3   p_178963              30           52459.43   \n",
       "7536          3   p_298764              30           52459.43   \n",
       "7537          3   p_298766              30           35825.42   \n",
       "7538          3   p_298775              30           50518.52   \n",
       "7539          3  p_1434459              70          107163.28   \n",
       "7540          3   p_298762              70           85464.93   \n",
       "7541          3   p_178966              60          298747.35   \n",
       "7542          3   p_179145              60          298747.35   \n",
       "7543          3   p_298765              60          303170.32   \n",
       "7544          3   p_298772              60          303170.32   \n",
       "7545          3   p_298767              50           94482.31   \n",
       "7546          3   p_298779              50           63783.08   \n",
       "7547          3   p_298770              40          156302.65   \n",
       "7548          3   p_298778              40          161421.29   \n",
       "7549          3  p_1437078              20           99466.50   \n",
       "7550          3   p_298768              20           82536.01   \n",
       "7551          3   p_298773              20          108979.57   \n",
       "7552          3   p_298780              20           98959.72   \n",
       "7553          3   p_298761              10          150440.30   \n",
       "7554          3   p_298777              10          157040.55   \n",
       "7555          3   p_178963              30           52459.43   \n",
       "7556          3   p_298764              30           52459.43   \n",
       "7557          3   p_298766              30           35825.42   \n",
       "7558          3   p_298775              30           50518.52   \n",
       "7559          3  p_1434459              70          107163.28   \n",
       "7560          3   p_298762              70           85464.93   \n",
       "7561          3   p_178966              60          298747.35   \n",
       "7562          3   p_179145              60          298747.35   \n",
       "7563          3   p_298765              60          303170.32   \n",
       "7564          3   p_298772              60          303170.32   \n",
       "7565          3   p_298770              40          156302.65   \n",
       "7566          3   p_298778              40          161421.29   \n",
       "7567          3  p_1437078              20           99466.50   \n",
       "7568          3   p_298768              20           82536.01   \n",
       "7569          3   p_298773              20          108979.57   \n",
       "7570          3   p_298780              20           98959.72   \n",
       "7571          3   p_298761              10          150440.30   \n",
       "7572          3   p_298777              10          157040.55   \n",
       "\n",
       "                                                                                               base64_url_original  \\\n",
       "7535                                                                                                           NaN   \n",
       "7536                                                                                                           NaN   \n",
       "7537                                                                                                           NaN   \n",
       "7538                                                                                                           NaN   \n",
       "7539                                                                                                           NaN   \n",
       "7540                                                                                                           NaN   \n",
       "7541                                                                                                           NaN   \n",
       "7542                                                                                                           NaN   \n",
       "7543                                                                                                           NaN   \n",
       "7544                                                                                                           NaN   \n",
       "7545                                                                                                           NaN   \n",
       "7546                                                                                                           NaN   \n",
       "7547                                                                                                           NaN   \n",
       "7548                                                                                                           NaN   \n",
       "7549                                                                                                           NaN   \n",
       "7550                                                                                                           NaN   \n",
       "7551                                                                                                           NaN   \n",
       "7552                                                                                                           NaN   \n",
       "7553                                                                                                           NaN   \n",
       "7554                                                                                                           NaN   \n",
       "7555  aHR0cHM6Ly9kYXRhLnRyaWxsaXVtdHJhbnNpdC5jb20vZ3Rmcy9wbGFjZXJjb3VudHktY2EtdXMvcGxhY2VyY291bnR5LWNhLXVzLnppcA==   \n",
       "7556  aHR0cHM6Ly9kYXRhLnRyaWxsaXVtdHJhbnNpdC5jb20vZ3Rmcy9wbGFjZXJjb3VudHktY2EtdXMvcGxhY2VyY291bnR5LWNhLXVzLnppcA==   \n",
       "7557  aHR0cHM6Ly9kYXRhLnRyaWxsaXVtdHJhbnNpdC5jb20vZ3Rmcy9wbGFjZXJjb3VudHktY2EtdXMvcGxhY2VyY291bnR5LWNhLXVzLnppcA==   \n",
       "7558  aHR0cHM6Ly9kYXRhLnRyaWxsaXVtdHJhbnNpdC5jb20vZ3Rmcy9wbGFjZXJjb3VudHktY2EtdXMvcGxhY2VyY291bnR5LWNhLXVzLnppcA==   \n",
       "7559  aHR0cHM6Ly9kYXRhLnRyaWxsaXVtdHJhbnNpdC5jb20vZ3Rmcy9wbGFjZXJjb3VudHktY2EtdXMvcGxhY2VyY291bnR5LWNhLXVzLnppcA==   \n",
       "7560  aHR0cHM6Ly9kYXRhLnRyaWxsaXVtdHJhbnNpdC5jb20vZ3Rmcy9wbGFjZXJjb3VudHktY2EtdXMvcGxhY2VyY291bnR5LWNhLXVzLnppcA==   \n",
       "7561  aHR0cHM6Ly9kYXRhLnRyaWxsaXVtdHJhbnNpdC5jb20vZ3Rmcy9wbGFjZXJjb3VudHktY2EtdXMvcGxhY2VyY291bnR5LWNhLXVzLnppcA==   \n",
       "7562  aHR0cHM6Ly9kYXRhLnRyaWxsaXVtdHJhbnNpdC5jb20vZ3Rmcy9wbGFjZXJjb3VudHktY2EtdXMvcGxhY2VyY291bnR5LWNhLXVzLnppcA==   \n",
       "7563  aHR0cHM6Ly9kYXRhLnRyaWxsaXVtdHJhbnNpdC5jb20vZ3Rmcy9wbGFjZXJjb3VudHktY2EtdXMvcGxhY2VyY291bnR5LWNhLXVzLnppcA==   \n",
       "7564  aHR0cHM6Ly9kYXRhLnRyaWxsaXVtdHJhbnNpdC5jb20vZ3Rmcy9wbGFjZXJjb3VudHktY2EtdXMvcGxhY2VyY291bnR5LWNhLXVzLnppcA==   \n",
       "7565  aHR0cHM6Ly9kYXRhLnRyaWxsaXVtdHJhbnNpdC5jb20vZ3Rmcy9wbGFjZXJjb3VudHktY2EtdXMvcGxhY2VyY291bnR5LWNhLXVzLnppcA==   \n",
       "7566  aHR0cHM6Ly9kYXRhLnRyaWxsaXVtdHJhbnNpdC5jb20vZ3Rmcy9wbGFjZXJjb3VudHktY2EtdXMvcGxhY2VyY291bnR5LWNhLXVzLnppcA==   \n",
       "7567  aHR0cHM6Ly9kYXRhLnRyaWxsaXVtdHJhbnNpdC5jb20vZ3Rmcy9wbGFjZXJjb3VudHktY2EtdXMvcGxhY2VyY291bnR5LWNhLXVzLnppcA==   \n",
       "7568  aHR0cHM6Ly9kYXRhLnRyaWxsaXVtdHJhbnNpdC5jb20vZ3Rmcy9wbGFjZXJjb3VudHktY2EtdXMvcGxhY2VyY291bnR5LWNhLXVzLnppcA==   \n",
       "7569  aHR0cHM6Ly9kYXRhLnRyaWxsaXVtdHJhbnNpdC5jb20vZ3Rmcy9wbGFjZXJjb3VudHktY2EtdXMvcGxhY2VyY291bnR5LWNhLXVzLnppcA==   \n",
       "7570  aHR0cHM6Ly9kYXRhLnRyaWxsaXVtdHJhbnNpdC5jb20vZ3Rmcy9wbGFjZXJjb3VudHktY2EtdXMvcGxhY2VyY291bnR5LWNhLXVzLnppcA==   \n",
       "7571  aHR0cHM6Ly9kYXRhLnRyaWxsaXVtdHJhbnNpdC5jb20vZ3Rmcy9wbGFjZXJjb3VudHktY2EtdXMvcGxhY2VyY291bnR5LWNhLXVzLnppcA==   \n",
       "7572  aHR0cHM6Ly9kYXRhLnRyaWxsaXVtdHJhbnNpdC5jb20vZ3Rmcy9wbGFjZXJjb3VudHktY2EtdXMvcGxhY2VyY291bnR5LWNhLXVzLnppcA==   \n",
       "\n",
       "     organization_source_record_id organization_name  \\\n",
       "7535                           NaN               NaN   \n",
       "7536                           NaN               NaN   \n",
       "7537                           NaN               NaN   \n",
       "7538                           NaN               NaN   \n",
       "7539                           NaN               NaN   \n",
       "7540                           NaN               NaN   \n",
       "7541                           NaN               NaN   \n",
       "7542                           NaN               NaN   \n",
       "7543                           NaN               NaN   \n",
       "7544                           NaN               NaN   \n",
       "7545                           NaN               NaN   \n",
       "7546                           NaN               NaN   \n",
       "7547                           NaN               NaN   \n",
       "7548                           NaN               NaN   \n",
       "7549                           NaN               NaN   \n",
       "7550                           NaN               NaN   \n",
       "7551                           NaN               NaN   \n",
       "7552                           NaN               NaN   \n",
       "7553                           NaN               NaN   \n",
       "7554                           NaN               NaN   \n",
       "7555             recDD2rnkl2m7IV8u     Placer County   \n",
       "7556             recDD2rnkl2m7IV8u     Placer County   \n",
       "7557             recDD2rnkl2m7IV8u     Placer County   \n",
       "7558             recDD2rnkl2m7IV8u     Placer County   \n",
       "7559             recDD2rnkl2m7IV8u     Placer County   \n",
       "7560             recDD2rnkl2m7IV8u     Placer County   \n",
       "7561             recDD2rnkl2m7IV8u     Placer County   \n",
       "7562             recDD2rnkl2m7IV8u     Placer County   \n",
       "7563             recDD2rnkl2m7IV8u     Placer County   \n",
       "7564             recDD2rnkl2m7IV8u     Placer County   \n",
       "7565             recDD2rnkl2m7IV8u     Placer County   \n",
       "7566             recDD2rnkl2m7IV8u     Placer County   \n",
       "7567             recDD2rnkl2m7IV8u     Placer County   \n",
       "7568             recDD2rnkl2m7IV8u     Placer County   \n",
       "7569             recDD2rnkl2m7IV8u     Placer County   \n",
       "7570             recDD2rnkl2m7IV8u     Placer County   \n",
       "7571             recDD2rnkl2m7IV8u     Placer County   \n",
       "7572             recDD2rnkl2m7IV8u     Placer County   \n",
       "\n",
       "        caltrans_district_original                         shn_route  \\\n",
       "7535                           NaN                                49   \n",
       "7536                           NaN                                49   \n",
       "7537                           NaN                                49   \n",
       "7538                           NaN                                49   \n",
       "7539                           NaN                                65   \n",
       "7540                           NaN                                65   \n",
       "7541                           NaN  51, 174, 65, 80, 5, 49, 193, 244   \n",
       "7542                           NaN  51, 174, 65, 80, 5, 49, 193, 244   \n",
       "7543                           NaN  51, 174, 65, 80, 5, 49, 193, 244   \n",
       "7544                           NaN  51, 174, 65, 80, 5, 49, 193, 244   \n",
       "7545                           NaN                           193, 80   \n",
       "7546                           NaN                           193, 80   \n",
       "7547                           NaN                       49, 80, 174   \n",
       "7548                           NaN                       49, 80, 174   \n",
       "7549                           NaN                            65, 80   \n",
       "7550                           NaN                            65, 80   \n",
       "7551                           NaN                            65, 80   \n",
       "7552                           NaN                            65, 80   \n",
       "7553                           NaN              51, 65, 80, 193, 244   \n",
       "7554                           NaN              51, 65, 80, 193, 244   \n",
       "7555  03 - Marysville / Sacramento                                49   \n",
       "7556  03 - Marysville / Sacramento                                49   \n",
       "7557  03 - Marysville / Sacramento                                49   \n",
       "7558  03 - Marysville / Sacramento                                49   \n",
       "7559  03 - Marysville / Sacramento                                65   \n",
       "7560  03 - Marysville / Sacramento                                65   \n",
       "7561  03 - Marysville / Sacramento  51, 174, 65, 80, 5, 49, 193, 244   \n",
       "7562  03 - Marysville / Sacramento  51, 174, 65, 80, 5, 49, 193, 244   \n",
       "7563  03 - Marysville / Sacramento  51, 174, 65, 80, 5, 49, 193, 244   \n",
       "7564  03 - Marysville / Sacramento  51, 174, 65, 80, 5, 49, 193, 244   \n",
       "7565  03 - Marysville / Sacramento                       49, 80, 174   \n",
       "7566  03 - Marysville / Sacramento                       49, 80, 174   \n",
       "7567  03 - Marysville / Sacramento                            65, 80   \n",
       "7568  03 - Marysville / Sacramento                            65, 80   \n",
       "7569  03 - Marysville / Sacramento                            65, 80   \n",
       "7570  03 - Marysville / Sacramento                            65, 80   \n",
       "7571  03 - Marysville / Sacramento              51, 65, 80, 193, 244   \n",
       "7572  03 - Marysville / Sacramento              51, 65, 80, 193, 244   \n",
       "\n",
       "     shn_districts  pct_route_on_hwy_across_districts  on_shs  is_express  \\\n",
       "7535             3                              23.00       1        0.00   \n",
       "7536             3                              23.00       1        0.00   \n",
       "7537             3                              46.80       1        0.00   \n",
       "7538             3                              26.60       1        0.00   \n",
       "7539             3                               9.20       1        0.00   \n",
       "7540             3                              11.50       1        0.00   \n",
       "7541             3                              75.30       1        1.00   \n",
       "7542             3                              75.30       1        1.00   \n",
       "7543             3                              76.00       1        1.00   \n",
       "7544             3                              76.00       1        1.00   \n",
       "7545             3                               4.70       1        0.00   \n",
       "7546             3                               5.60       1        0.00   \n",
       "7547             3                              92.90       1        0.00   \n",
       "7548             3                              92.60       1        0.00   \n",
       "7549             3                               3.30       1        0.00   \n",
       "7550             3                               1.30       1        0.00   \n",
       "7551             3                               1.00       1        0.00   \n",
       "7552             3                               1.00       1        0.00   \n",
       "7553             3                              75.40       1        0.00   \n",
       "7554             3                              73.70       1        0.00   \n",
       "7555             3                              23.00       1        0.00   \n",
       "7556             3                              23.00       1        0.00   \n",
       "7557             3                              46.80       1        0.00   \n",
       "7558             3                              26.60       1        0.00   \n",
       "7559             3                               9.20       1        0.00   \n",
       "7560             3                              11.50       1        0.00   \n",
       "7561             3                              75.30       1        1.00   \n",
       "7562             3                              75.30       1        1.00   \n",
       "7563             3                              76.00       1        1.00   \n",
       "7564             3                              76.00       1        1.00   \n",
       "7565             3                              92.90       1        0.00   \n",
       "7566             3                              92.60       1        0.00   \n",
       "7567             3                               3.30       1        0.00   \n",
       "7568             3                               1.30       1        0.00   \n",
       "7569             3                               1.00       1        0.00   \n",
       "7570             3                               1.00       1        0.00   \n",
       "7571             3                              75.40       1        0.00   \n",
       "7572             3                              73.70       1        0.00   \n",
       "\n",
       "      is_ferry  is_rail  is_coverage  is_local  is_downtown_local  is_rapid  \\\n",
       "7535      0.00     0.00         1.00      0.00               0.00      1.00   \n",
       "7536      0.00     0.00         1.00      0.00               0.00      1.00   \n",
       "7537      0.00     0.00         1.00      0.00               0.00      1.00   \n",
       "7538      0.00     0.00         1.00      0.00               0.00      1.00   \n",
       "7539      0.00     0.00         1.00      0.00               0.00      1.00   \n",
       "7540      0.00     0.00         1.00      0.00               0.00      1.00   \n",
       "7541      0.00     0.00         0.00      0.00               0.00      0.00   \n",
       "7542      0.00     0.00         0.00      0.00               0.00      0.00   \n",
       "7543      0.00     0.00         0.00      0.00               0.00      0.00   \n",
       "7544      0.00     0.00         0.00      0.00               0.00      0.00   \n",
       "7545      0.00     0.00         1.00      0.00               0.00      1.00   \n",
       "7546      0.00     0.00         1.00      0.00               0.00      1.00   \n",
       "7547      0.00     0.00         1.00      0.00               0.00      1.00   \n",
       "7548      0.00     0.00         1.00      0.00               0.00      1.00   \n",
       "7549      0.00     0.00         1.00      0.00               0.00      1.00   \n",
       "7550      0.00     0.00         1.00      0.00               0.00      1.00   \n",
       "7551      0.00     0.00         1.00      0.00               0.00      1.00   \n",
       "7552      0.00     0.00         1.00      0.00               0.00      1.00   \n",
       "7553      0.00     0.00         1.00      0.00               0.00      1.00   \n",
       "7554      0.00     0.00         1.00      0.00               0.00      1.00   \n",
       "7555      0.00     0.00         1.00      0.00               0.00      1.00   \n",
       "7556      0.00     0.00         1.00      0.00               0.00      1.00   \n",
       "7557      0.00     0.00         1.00      0.00               0.00      1.00   \n",
       "7558      0.00     0.00         1.00      0.00               0.00      1.00   \n",
       "7559      0.00     0.00         1.00      0.00               0.00      1.00   \n",
       "7560      0.00     0.00         1.00      0.00               0.00      1.00   \n",
       "7561      0.00     0.00         0.00      0.00               0.00      0.00   \n",
       "7562      0.00     0.00         0.00      0.00               0.00      0.00   \n",
       "7563      0.00     0.00         0.00      0.00               0.00      0.00   \n",
       "7564      0.00     0.00         0.00      0.00               0.00      0.00   \n",
       "7565      0.00     0.00         1.00      0.00               0.00      1.00   \n",
       "7566      0.00     0.00         1.00      0.00               0.00      1.00   \n",
       "7567      0.00     0.00         1.00      0.00               0.00      1.00   \n",
       "7568      0.00     0.00         1.00      0.00               0.00      1.00   \n",
       "7569      0.00     0.00         1.00      0.00               0.00      1.00   \n",
       "7570      0.00     0.00         1.00      0.00               0.00      1.00   \n",
       "7571      0.00     0.00         1.00      0.00               0.00      1.00   \n",
       "7572      0.00     0.00         1.00      0.00               0.00      1.00   \n",
       "\n",
       "        year             name  \\\n",
       "7535 2025.00  Placer Schedule   \n",
       "7536 2025.00  Placer Schedule   \n",
       "7537 2025.00  Placer Schedule   \n",
       "7538 2025.00  Placer Schedule   \n",
       "7539 2025.00  Placer Schedule   \n",
       "7540 2025.00  Placer Schedule   \n",
       "7541 2025.00  Placer Schedule   \n",
       "7542 2025.00  Placer Schedule   \n",
       "7543 2025.00  Placer Schedule   \n",
       "7544 2025.00  Placer Schedule   \n",
       "7545 2025.00  Placer Schedule   \n",
       "7546 2025.00  Placer Schedule   \n",
       "7547 2025.00  Placer Schedule   \n",
       "7548 2025.00  Placer Schedule   \n",
       "7549 2025.00  Placer Schedule   \n",
       "7550 2025.00  Placer Schedule   \n",
       "7551 2025.00  Placer Schedule   \n",
       "7552 2025.00  Placer Schedule   \n",
       "7553 2025.00  Placer Schedule   \n",
       "7554 2025.00  Placer Schedule   \n",
       "7555 2025.00  Placer Schedule   \n",
       "7556 2025.00  Placer Schedule   \n",
       "7557 2025.00  Placer Schedule   \n",
       "7558 2025.00  Placer Schedule   \n",
       "7559 2025.00  Placer Schedule   \n",
       "7560 2025.00  Placer Schedule   \n",
       "7561 2025.00  Placer Schedule   \n",
       "7562 2025.00  Placer Schedule   \n",
       "7563 2025.00  Placer Schedule   \n",
       "7564 2025.00  Placer Schedule   \n",
       "7565 2025.00  Placer Schedule   \n",
       "7566 2025.00  Placer Schedule   \n",
       "7567 2025.00  Placer Schedule   \n",
       "7568 2025.00  Placer Schedule   \n",
       "7569 2025.00  Placer Schedule   \n",
       "7570 2025.00  Placer Schedule   \n",
       "7571 2025.00  Placer Schedule   \n",
       "7572 2025.00  Placer Schedule   \n",
       "\n",
       "                                                                                                        base64_url  \\\n",
       "7535  aHR0cHM6Ly9kYXRhLnRyaWxsaXVtdHJhbnNpdC5jb20vZ3Rmcy9wbGFjZXJjb3VudHktY2EtdXMvcGxhY2VyY291bnR5LWNhLXVzLnppcA==   \n",
       "7536  aHR0cHM6Ly9kYXRhLnRyaWxsaXVtdHJhbnNpdC5jb20vZ3Rmcy9wbGFjZXJjb3VudHktY2EtdXMvcGxhY2VyY291bnR5LWNhLXVzLnppcA==   \n",
       "7537  aHR0cHM6Ly9kYXRhLnRyaWxsaXVtdHJhbnNpdC5jb20vZ3Rmcy9wbGFjZXJjb3VudHktY2EtdXMvcGxhY2VyY291bnR5LWNhLXVzLnppcA==   \n",
       "7538  aHR0cHM6Ly9kYXRhLnRyaWxsaXVtdHJhbnNpdC5jb20vZ3Rmcy9wbGFjZXJjb3VudHktY2EtdXMvcGxhY2VyY291bnR5LWNhLXVzLnppcA==   \n",
       "7539  aHR0cHM6Ly9kYXRhLnRyaWxsaXVtdHJhbnNpdC5jb20vZ3Rmcy9wbGFjZXJjb3VudHktY2EtdXMvcGxhY2VyY291bnR5LWNhLXVzLnppcA==   \n",
       "7540  aHR0cHM6Ly9kYXRhLnRyaWxsaXVtdHJhbnNpdC5jb20vZ3Rmcy9wbGFjZXJjb3VudHktY2EtdXMvcGxhY2VyY291bnR5LWNhLXVzLnppcA==   \n",
       "7541  aHR0cHM6Ly9kYXRhLnRyaWxsaXVtdHJhbnNpdC5jb20vZ3Rmcy9wbGFjZXJjb3VudHktY2EtdXMvcGxhY2VyY291bnR5LWNhLXVzLnppcA==   \n",
       "7542  aHR0cHM6Ly9kYXRhLnRyaWxsaXVtdHJhbnNpdC5jb20vZ3Rmcy9wbGFjZXJjb3VudHktY2EtdXMvcGxhY2VyY291bnR5LWNhLXVzLnppcA==   \n",
       "7543  aHR0cHM6Ly9kYXRhLnRyaWxsaXVtdHJhbnNpdC5jb20vZ3Rmcy9wbGFjZXJjb3VudHktY2EtdXMvcGxhY2VyY291bnR5LWNhLXVzLnppcA==   \n",
       "7544  aHR0cHM6Ly9kYXRhLnRyaWxsaXVtdHJhbnNpdC5jb20vZ3Rmcy9wbGFjZXJjb3VudHktY2EtdXMvcGxhY2VyY291bnR5LWNhLXVzLnppcA==   \n",
       "7545  aHR0cHM6Ly9kYXRhLnRyaWxsaXVtdHJhbnNpdC5jb20vZ3Rmcy9wbGFjZXJjb3VudHktY2EtdXMvcGxhY2VyY291bnR5LWNhLXVzLnppcA==   \n",
       "7546  aHR0cHM6Ly9kYXRhLnRyaWxsaXVtdHJhbnNpdC5jb20vZ3Rmcy9wbGFjZXJjb3VudHktY2EtdXMvcGxhY2VyY291bnR5LWNhLXVzLnppcA==   \n",
       "7547  aHR0cHM6Ly9kYXRhLnRyaWxsaXVtdHJhbnNpdC5jb20vZ3Rmcy9wbGFjZXJjb3VudHktY2EtdXMvcGxhY2VyY291bnR5LWNhLXVzLnppcA==   \n",
       "7548  aHR0cHM6Ly9kYXRhLnRyaWxsaXVtdHJhbnNpdC5jb20vZ3Rmcy9wbGFjZXJjb3VudHktY2EtdXMvcGxhY2VyY291bnR5LWNhLXVzLnppcA==   \n",
       "7549  aHR0cHM6Ly9kYXRhLnRyaWxsaXVtdHJhbnNpdC5jb20vZ3Rmcy9wbGFjZXJjb3VudHktY2EtdXMvcGxhY2VyY291bnR5LWNhLXVzLnppcA==   \n",
       "7550  aHR0cHM6Ly9kYXRhLnRyaWxsaXVtdHJhbnNpdC5jb20vZ3Rmcy9wbGFjZXJjb3VudHktY2EtdXMvcGxhY2VyY291bnR5LWNhLXVzLnppcA==   \n",
       "7551  aHR0cHM6Ly9kYXRhLnRyaWxsaXVtdHJhbnNpdC5jb20vZ3Rmcy9wbGFjZXJjb3VudHktY2EtdXMvcGxhY2VyY291bnR5LWNhLXVzLnppcA==   \n",
       "7552  aHR0cHM6Ly9kYXRhLnRyaWxsaXVtdHJhbnNpdC5jb20vZ3Rmcy9wbGFjZXJjb3VudHktY2EtdXMvcGxhY2VyY291bnR5LWNhLXVzLnppcA==   \n",
       "7553  aHR0cHM6Ly9kYXRhLnRyaWxsaXVtdHJhbnNpdC5jb20vZ3Rmcy9wbGFjZXJjb3VudHktY2EtdXMvcGxhY2VyY291bnR5LWNhLXVzLnppcA==   \n",
       "7554  aHR0cHM6Ly9kYXRhLnRyaWxsaXVtdHJhbnNpdC5jb20vZ3Rmcy9wbGFjZXJjb3VudHktY2EtdXMvcGxhY2VyY291bnR5LWNhLXVzLnppcA==   \n",
       "7555  aHR0cHM6Ly9kYXRhLnRyaWxsaXVtdHJhbnNpdC5jb20vZ3Rmcy9wbGFjZXJjb3VudHktY2EtdXMvcGxhY2VyY291bnR5LWNhLXVzLnppcA==   \n",
       "7556  aHR0cHM6Ly9kYXRhLnRyaWxsaXVtdHJhbnNpdC5jb20vZ3Rmcy9wbGFjZXJjb3VudHktY2EtdXMvcGxhY2VyY291bnR5LWNhLXVzLnppcA==   \n",
       "7557  aHR0cHM6Ly9kYXRhLnRyaWxsaXVtdHJhbnNpdC5jb20vZ3Rmcy9wbGFjZXJjb3VudHktY2EtdXMvcGxhY2VyY291bnR5LWNhLXVzLnppcA==   \n",
       "7558  aHR0cHM6Ly9kYXRhLnRyaWxsaXVtdHJhbnNpdC5jb20vZ3Rmcy9wbGFjZXJjb3VudHktY2EtdXMvcGxhY2VyY291bnR5LWNhLXVzLnppcA==   \n",
       "7559  aHR0cHM6Ly9kYXRhLnRyaWxsaXVtdHJhbnNpdC5jb20vZ3Rmcy9wbGFjZXJjb3VudHktY2EtdXMvcGxhY2VyY291bnR5LWNhLXVzLnppcA==   \n",
       "7560  aHR0cHM6Ly9kYXRhLnRyaWxsaXVtdHJhbnNpdC5jb20vZ3Rmcy9wbGFjZXJjb3VudHktY2EtdXMvcGxhY2VyY291bnR5LWNhLXVzLnppcA==   \n",
       "7561  aHR0cHM6Ly9kYXRhLnRyaWxsaXVtdHJhbnNpdC5jb20vZ3Rmcy9wbGFjZXJjb3VudHktY2EtdXMvcGxhY2VyY291bnR5LWNhLXVzLnppcA==   \n",
       "7562  aHR0cHM6Ly9kYXRhLnRyaWxsaXVtdHJhbnNpdC5jb20vZ3Rmcy9wbGFjZXJjb3VudHktY2EtdXMvcGxhY2VyY291bnR5LWNhLXVzLnppcA==   \n",
       "7563  aHR0cHM6Ly9kYXRhLnRyaWxsaXVtdHJhbnNpdC5jb20vZ3Rmcy9wbGFjZXJjb3VudHktY2EtdXMvcGxhY2VyY291bnR5LWNhLXVzLnppcA==   \n",
       "7564  aHR0cHM6Ly9kYXRhLnRyaWxsaXVtdHJhbnNpdC5jb20vZ3Rmcy9wbGFjZXJjb3VudHktY2EtdXMvcGxhY2VyY291bnR5LWNhLXVzLnppcA==   \n",
       "7565  aHR0cHM6Ly9kYXRhLnRyaWxsaXVtdHJhbnNpdC5jb20vZ3Rmcy9wbGFjZXJjb3VudHktY2EtdXMvcGxhY2VyY291bnR5LWNhLXVzLnppcA==   \n",
       "7566  aHR0cHM6Ly9kYXRhLnRyaWxsaXVtdHJhbnNpdC5jb20vZ3Rmcy9wbGFjZXJjb3VudHktY2EtdXMvcGxhY2VyY291bnR5LWNhLXVzLnppcA==   \n",
       "7567  aHR0cHM6Ly9kYXRhLnRyaWxsaXVtdHJhbnNpdC5jb20vZ3Rmcy9wbGFjZXJjb3VudHktY2EtdXMvcGxhY2VyY291bnR5LWNhLXVzLnppcA==   \n",
       "7568  aHR0cHM6Ly9kYXRhLnRyaWxsaXVtdHJhbnNpdC5jb20vZ3Rmcy9wbGFjZXJjb3VudHktY2EtdXMvcGxhY2VyY291bnR5LWNhLXVzLnppcA==   \n",
       "7569  aHR0cHM6Ly9kYXRhLnRyaWxsaXVtdHJhbnNpdC5jb20vZ3Rmcy9wbGFjZXJjb3VudHktY2EtdXMvcGxhY2VyY291bnR5LWNhLXVzLnppcA==   \n",
       "7570  aHR0cHM6Ly9kYXRhLnRyaWxsaXVtdHJhbnNpdC5jb20vZ3Rmcy9wbGFjZXJjb3VudHktY2EtdXMvcGxhY2VyY291bnR5LWNhLXVzLnppcA==   \n",
       "7571  aHR0cHM6Ly9kYXRhLnRyaWxsaXVtdHJhbnNpdC5jb20vZ3Rmcy9wbGFjZXJjb3VudHktY2EtdXMvcGxhY2VyY291bnR5LWNhLXVzLnppcA==   \n",
       "7572  aHR0cHM6Ly9kYXRhLnRyaWxsaXVtdHJhbnNpdC5jb20vZ3Rmcy9wbGFjZXJjb3VudHktY2EtdXMvcGxhY2VyY291bnR5LWNhLXVzLnppcA==   \n",
       "\n",
       "                 caltrans_district portfolio_organization_name  \n",
       "7535  03 - Marysville / Sacramento               Placer County  \n",
       "7536  03 - Marysville / Sacramento               Placer County  \n",
       "7537  03 - Marysville / Sacramento               Placer County  \n",
       "7538  03 - Marysville / Sacramento               Placer County  \n",
       "7539  03 - Marysville / Sacramento               Placer County  \n",
       "7540  03 - Marysville / Sacramento               Placer County  \n",
       "7541  03 - Marysville / Sacramento               Placer County  \n",
       "7542  03 - Marysville / Sacramento               Placer County  \n",
       "7543  03 - Marysville / Sacramento               Placer County  \n",
       "7544  03 - Marysville / Sacramento               Placer County  \n",
       "7545  03 - Marysville / Sacramento               Placer County  \n",
       "7546  03 - Marysville / Sacramento               Placer County  \n",
       "7547  03 - Marysville / Sacramento               Placer County  \n",
       "7548  03 - Marysville / Sacramento               Placer County  \n",
       "7549  03 - Marysville / Sacramento               Placer County  \n",
       "7550  03 - Marysville / Sacramento               Placer County  \n",
       "7551  03 - Marysville / Sacramento               Placer County  \n",
       "7552  03 - Marysville / Sacramento               Placer County  \n",
       "7553  03 - Marysville / Sacramento               Placer County  \n",
       "7554  03 - Marysville / Sacramento               Placer County  \n",
       "7555  03 - Marysville / Sacramento               Placer County  \n",
       "7556  03 - Marysville / Sacramento               Placer County  \n",
       "7557  03 - Marysville / Sacramento               Placer County  \n",
       "7558  03 - Marysville / Sacramento               Placer County  \n",
       "7559  03 - Marysville / Sacramento               Placer County  \n",
       "7560  03 - Marysville / Sacramento               Placer County  \n",
       "7561  03 - Marysville / Sacramento               Placer County  \n",
       "7562  03 - Marysville / Sacramento               Placer County  \n",
       "7563  03 - Marysville / Sacramento               Placer County  \n",
       "7564  03 - Marysville / Sacramento               Placer County  \n",
       "7565  03 - Marysville / Sacramento               Placer County  \n",
       "7566  03 - Marysville / Sacramento               Placer County  \n",
       "7567  03 - Marysville / Sacramento               Placer County  \n",
       "7568  03 - Marysville / Sacramento               Placer County  \n",
       "7569  03 - Marysville / Sacramento               Placer County  \n",
       "7570  03 - Marysville / Sacramento               Placer County  \n",
       "7571  03 - Marysville / Sacramento               Placer County  \n",
       "7572  03 - Marysville / Sacramento               Placer County  "
      ]
     },
     "execution_count": 87,
     "metadata": {},
     "output_type": "execute_result"
    }
   ],
   "source": [
    "route_types2.loc[route_types2.name.isin([\"Placer Flex\", \"Placer Schedule\"])].drop(columns = [\"geometry\"])"
   ]
  },
  {
   "cell_type": "code",
   "execution_count": 60,
   "id": "86fb63ac-2fa6-4114-8b47-80702979062b",
   "metadata": {
    "tags": []
   },
   "outputs": [],
   "source": [
    "def finalize_export_df(df: gpd.GeoDataFrame) -> gpd.GeoDataFrame:\n",
    "    \"\"\"\n",
    "    Suppress certain columns used in our internal modeling for export.\n",
    "    \"\"\"\n",
    "    # Change column order\n",
    "    route_cols = [\n",
    "        \"portfolio_organization_name\",\n",
    "        \"route_id\",\n",
    "        \"route_type\",\n",
    "        \"route_name_used\",\n",
    "        \"route_length_feet\",\n",
    "    ]\n",
    "    shape_cols = [\"shape_id\", \"n_trips\"]\n",
    "    agency_ids = [\"base64_url\"]\n",
    "    shn_cols = [\n",
    "        \"shn_route\",\n",
    "        \"on_shs\",\n",
    "        \"shn_districts\",\n",
    "        \"pct_route_on_hwy_across_districts\",\n",
    "    ]\n",
    "\n",
    "    route_typology = [\n",
    "        \"is_express\",\n",
    "        \"is_ferry\",\n",
    "        \"is_rail\",\n",
    "        \"is_coverage\",\n",
    "        \"is_local\",\n",
    "        \"is_downtown_local\",\n",
    "        \"is_rapid\",\n",
    "    ]\n",
    "    col_order = (\n",
    "        route_cols + shape_cols + agency_ids + shn_cols + route_typology + [\"geometry\"]\n",
    "    )\n",
    "    # col_order = route_cols + shape_cols + agency_ids + ['geometry']\n",
    "    df2 = (\n",
    "        df[col_order].reindex(columns=col_order)\n",
    "        # .rename(columns=open_data_utils.STANDARDIZED_COLUMNS_DICT)\n",
    "        .reset_index(drop=True)\n",
    "    )\n",
    "\n",
    "    # Drop duplicates\n",
    "    df2 = df2.drop_duplicates()\n",
    "    return df2"
   ]
  },
  {
   "cell_type": "code",
   "execution_count": 62,
   "id": "ea985c85-1671-4323-8b99-506b7a2fd11c",
   "metadata": {
    "tags": []
   },
   "outputs": [],
   "source": [
    "final = finalize_export_df(route_types2)"
   ]
  },
  {
   "cell_type": "code",
   "execution_count": 63,
   "id": "302d9f1d-9647-47f9-a2cf-2a20abff52c8",
   "metadata": {
    "tags": []
   },
   "outputs": [
    {
     "data": {
      "text/plain": [
       "count   8101.00\n",
       "mean      16.14\n",
       "std       27.13\n",
       "min        0.00\n",
       "25%        0.20\n",
       "50%        1.20\n",
       "75%       17.60\n",
       "max      100.00\n",
       "Name: pct_route_on_hwy_across_districts, dtype: float64"
      ]
     },
     "execution_count": 63,
     "metadata": {},
     "output_type": "execute_result"
    }
   ],
   "source": [
    "final.pct_route_on_hwy_across_districts.describe()"
   ]
  },
  {
   "cell_type": "code",
   "execution_count": 64,
   "id": "ef92b7b6-b88d-46bb-acf2-f96ed470222f",
   "metadata": {
    "tags": []
   },
   "outputs": [
    {
     "data": {
      "text/plain": [
       "8101"
      ]
     },
     "execution_count": 64,
     "metadata": {},
     "output_type": "execute_result"
    }
   ],
   "source": [
    "len(final)"
   ]
  },
  {
   "cell_type": "markdown",
   "id": "2929b1d3-f8e6-41dc-826d-334716964d3b",
   "metadata": {},
   "source": [
    "## Missing Routes"
   ]
  },
  {
   "cell_type": "code",
   "execution_count": 45,
   "id": "b6c23d8a-f674-4e63-a956-d72363e31a0d",
   "metadata": {
    "tags": []
   },
   "outputs": [
    {
     "data": {
      "text/plain": [
       "8101"
      ]
     },
     "execution_count": 45,
     "metadata": {},
     "output_type": "execute_result"
    }
   ],
   "source": [
    "len(final.drop_duplicates())"
   ]
  },
  {
   "cell_type": "code",
   "execution_count": 65,
   "id": "ef055cd9-5a83-49d3-8825-64c2be3f8fa3",
   "metadata": {
    "tags": []
   },
   "outputs": [
    {
     "data": {
      "text/html": [
       "<div>\n",
       "<style scoped>\n",
       "    .dataframe tbody tr th:only-of-type {\n",
       "        vertical-align: middle;\n",
       "    }\n",
       "\n",
       "    .dataframe tbody tr th {\n",
       "        vertical-align: top;\n",
       "    }\n",
       "\n",
       "    .dataframe thead th {\n",
       "        text-align: right;\n",
       "    }\n",
       "</style>\n",
       "<table border=\"1\" class=\"dataframe\">\n",
       "  <thead>\n",
       "    <tr style=\"text-align: right;\">\n",
       "      <th></th>\n",
       "      <th>portfolio_organization_name</th>\n",
       "      <th>route_id</th>\n",
       "      <th>route_type</th>\n",
       "      <th>route_name_used</th>\n",
       "      <th>route_length_feet</th>\n",
       "      <th>shape_id</th>\n",
       "      <th>n_trips</th>\n",
       "      <th>base64_url</th>\n",
       "      <th>shn_route</th>\n",
       "      <th>on_shs</th>\n",
       "      <th>shn_districts</th>\n",
       "      <th>pct_route_on_hwy_across_districts</th>\n",
       "      <th>is_express</th>\n",
       "      <th>is_ferry</th>\n",
       "      <th>is_rail</th>\n",
       "      <th>is_coverage</th>\n",
       "      <th>is_local</th>\n",
       "      <th>is_downtown_local</th>\n",
       "      <th>is_rapid</th>\n",
       "    </tr>\n",
       "  </thead>\n",
       "  <tbody>\n",
       "    <tr>\n",
       "      <th>12516</th>\n",
       "      <td>Livermore-Amador Valley Transit Authority</td>\n",
       "      <td>8</td>\n",
       "      <td>3</td>\n",
       "      <td>8</td>\n",
       "      <td>32619.85</td>\n",
       "      <td>45102</td>\n",
       "      <td>1</td>\n",
       "      <td>aHR0cHM6Ly9hcGkuNTExLm9yZy90cmFuc2l0L2RhdGFmZWVkcz9vcGVyYXRvcl9pZD1XSA==</td>\n",
       "      <td>580</td>\n",
       "      <td>1</td>\n",
       "      <td>4</td>\n",
       "      <td>0.90</td>\n",
       "      <td>0.00</td>\n",
       "      <td>0.00</td>\n",
       "      <td>0.00</td>\n",
       "      <td>1.00</td>\n",
       "      <td>0.00</td>\n",
       "      <td>0.00</td>\n",
       "      <td>1.00</td>\n",
       "    </tr>\n",
       "  </tbody>\n",
       "</table>\n",
       "</div>"
      ],
      "text/plain": [
       "                     portfolio_organization_name route_id route_type  \\\n",
       "12516  Livermore-Amador Valley Transit Authority        8          3   \n",
       "\n",
       "      route_name_used  route_length_feet shape_id  n_trips  \\\n",
       "12516               8           32619.85    45102        1   \n",
       "\n",
       "                                                                     base64_url  \\\n",
       "12516  aHR0cHM6Ly9hcGkuNTExLm9yZy90cmFuc2l0L2RhdGFmZWVkcz9vcGVyYXRvcl9pZD1XSA==   \n",
       "\n",
       "      shn_route  on_shs shn_districts  pct_route_on_hwy_across_districts  \\\n",
       "12516       580       1             4                               0.90   \n",
       "\n",
       "       is_express  is_ferry  is_rail  is_coverage  is_local  \\\n",
       "12516        0.00      0.00     0.00         1.00      0.00   \n",
       "\n",
       "       is_downtown_local  is_rapid  \n",
       "12516               0.00      1.00  "
      ]
     },
     "execution_count": 65,
     "metadata": {},
     "output_type": "execute_result"
    }
   ],
   "source": [
    "final.drop(columns=[\"geometry\"]).sample()"
   ]
  },
  {
   "cell_type": "code",
   "execution_count": 66,
   "id": "eec29ee4-93be-40bf-bd7e-b20e6181ab20",
   "metadata": {
    "tags": []
   },
   "outputs": [],
   "source": [
    "final_routes = final[\n",
    "    [\"route_id\", \"route_type\", \"route_name_used\", \"shape_id\", \"n_trips\"]\n",
    "].drop_duplicates()"
   ]
  },
  {
   "cell_type": "code",
   "execution_count": 68,
   "id": "3a3057db-f81e-4150-8bd3-f8ea08ed7675",
   "metadata": {
    "tags": []
   },
   "outputs": [
    {
     "data": {
      "text/plain": [
       "(7625, 5)"
      ]
     },
     "execution_count": 68,
     "metadata": {},
     "output_type": "execute_result"
    }
   ],
   "source": [
    "final_routes.shape"
   ]
  },
  {
   "cell_type": "code",
   "execution_count": 71,
   "id": "f7ba19e5-9191-427f-ab3e-132b48373725",
   "metadata": {
    "tags": []
   },
   "outputs": [],
   "source": [
    "final_routes[\"combined\"] = final_routes[\n",
    "    [\"route_id\", \"route_type\", \"route_name_used\", \"shape_id\", \"n_trips\"]\n",
    "].apply(lambda row: \"_\".join(row.values.astype(str)), axis=1)"
   ]
  },
  {
   "cell_type": "code",
   "execution_count": 67,
   "id": "45dcf5f7-c26d-4c21-ab39-9e40909ee690",
   "metadata": {
    "tags": []
   },
   "outputs": [],
   "source": [
    "og_routes = published_routes[\n",
    "    [\"route_id\", \"route_type\", \"route_name_used\", \"shape_id\", \"n_trips\"]\n",
    "].drop_duplicates()"
   ]
  },
  {
   "cell_type": "code",
   "execution_count": 72,
   "id": "5c106973-91e2-44f7-9bf9-a2c7167236a1",
   "metadata": {
    "tags": []
   },
   "outputs": [],
   "source": [
    "og_routes[\"combined\"] = og_routes[\n",
    "    [\"route_id\", \"route_type\", \"route_name_used\", \"shape_id\", \"n_trips\"]\n",
    "].apply(lambda row: \"_\".join(row.values.astype(str)), axis=1)"
   ]
  },
  {
   "cell_type": "code",
   "execution_count": 69,
   "id": "a0da010d-efbc-4582-93c2-a41488d5cd4e",
   "metadata": {
    "tags": []
   },
   "outputs": [
    {
     "data": {
      "text/plain": [
       "(8574, 5)"
      ]
     },
     "execution_count": 69,
     "metadata": {},
     "output_type": "execute_result"
    }
   ],
   "source": [
    "og_routes.shape"
   ]
  },
  {
   "cell_type": "code",
   "execution_count": 73,
   "id": "e5fa89c7-0bae-4963-bf1e-13421b85fde4",
   "metadata": {
    "tags": []
   },
   "outputs": [],
   "source": [
    "og_routes_list = list(og_routes.combined.unique())"
   ]
  },
  {
   "cell_type": "code",
   "execution_count": 74,
   "id": "0ad097e7-cc81-443a-ba51-a9b5afb36b58",
   "metadata": {
    "tags": []
   },
   "outputs": [],
   "source": [
    "final_routes_list = list(final_routes.combined.unique())"
   ]
  },
  {
   "cell_type": "code",
   "execution_count": 76,
   "id": "a8874f1d-54e9-41ac-ae0d-6ec739d9c806",
   "metadata": {
    "scrolled": true,
    "tags": []
   },
   "outputs": [],
   "source": [
    "set(og_routes_list) - set(final_routes_list)"
   ]
  },
  {
   "cell_type": "markdown",
   "id": "e2b1594b-3ca7-4c8f-9688-2718e9aba094",
   "metadata": {},
   "source": [
    "## Check with test dataframe from August/actual result from June"
   ]
  },
  {
   "cell_type": "code",
   "execution_count": 47,
   "id": "16d977fe-8bd4-4e2c-86a6-3333389c4d7b",
   "metadata": {
    "tags": []
   },
   "outputs": [],
   "source": [
    "june_real_url = \"gs://calitp-analytics-data/data-analyses/traffic_ops/ca_transit_routes_2025-06-11.parquet\""
   ]
  },
  {
   "cell_type": "code",
   "execution_count": 48,
   "id": "201daa0c-b313-4588-92aa-ca280ed86d16",
   "metadata": {
    "tags": []
   },
   "outputs": [],
   "source": [
    "june_gdf = pd.read_parquet(june_real_url)"
   ]
  },
  {
   "cell_type": "code",
   "execution_count": 49,
   "id": "43791a25-e6aa-406f-a987-0d8335b086c1",
   "metadata": {
    "tags": []
   },
   "outputs": [
    {
     "name": "stdout",
     "output_type": "stream",
     "text": [
      "<class 'pandas.core.frame.DataFrame'>\n",
      "RangeIndex: 9798 entries, 0 to 9797\n",
      "Data columns (total 12 columns):\n",
      " #   Column                         Non-Null Count  Dtype \n",
      "---  ------                         --------------  ----- \n",
      " 0   n_trips                        9798 non-null   int64 \n",
      " 1   geometry                       9798 non-null   object\n",
      " 2   schedule_gtfs_dataset_key      9798 non-null   object\n",
      " 3   route_id                       9798 non-null   object\n",
      " 4   route_type                     9798 non-null   object\n",
      " 5   shape_id                       9798 non-null   object\n",
      " 6   route_name_used                9798 non-null   object\n",
      " 7   name                           9798 non-null   object\n",
      " 8   base64_url                     9798 non-null   object\n",
      " 9   organization_source_record_id  9798 non-null   object\n",
      " 10  organization_name              9798 non-null   object\n",
      " 11  caltrans_district              9798 non-null   object\n",
      "dtypes: int64(1), object(11)\n",
      "memory usage: 918.7+ KB\n"
     ]
    }
   ],
   "source": [
    "june_gdf.info()"
   ]
  },
  {
   "cell_type": "code",
   "execution_count": 54,
   "id": "c28c82dd-4421-4b72-8e48-5249d18ea95e",
   "metadata": {
    "tags": []
   },
   "outputs": [
    {
     "data": {
      "text/plain": [
       "8818"
      ]
     },
     "execution_count": 54,
     "metadata": {},
     "output_type": "execute_result"
    }
   ],
   "source": [
    "len(june_gdf.drop_duplicates())"
   ]
  },
  {
   "cell_type": "code",
   "execution_count": 50,
   "id": "a7d0bc66-0852-4eba-b39f-b72284d664f1",
   "metadata": {
    "tags": []
   },
   "outputs": [],
   "source": [
    "august_test = (\n",
    "    \"gs://calitp-analytics-data/data-analyses/ah_testing/ca_transit_routes.parquet\"\n",
    ")"
   ]
  },
  {
   "cell_type": "code",
   "execution_count": 51,
   "id": "8c37b6db-7d46-4128-8b0c-287c1a2f8d21",
   "metadata": {
    "tags": []
   },
   "outputs": [],
   "source": [
    "august_gdf = pd.read_parquet(august_test)"
   ]
  },
  {
   "cell_type": "code",
   "execution_count": 55,
   "id": "72edbf0c-f191-4989-b619-2b86dc3494c2",
   "metadata": {
    "tags": []
   },
   "outputs": [
    {
     "data": {
      "text/plain": [
       "6305"
      ]
     },
     "execution_count": 55,
     "metadata": {},
     "output_type": "execute_result"
    }
   ],
   "source": [
    "len(august_gdf.drop_duplicates())"
   ]
  },
  {
   "cell_type": "code",
   "execution_count": 57,
   "id": "5bf0a5aa-40b1-4cf2-acb4-8d6187eed357",
   "metadata": {
    "tags": []
   },
   "outputs": [
    {
     "data": {
      "text/plain": [
       "(6305, 20)"
      ]
     },
     "execution_count": 57,
     "metadata": {},
     "output_type": "execute_result"
    }
   ],
   "source": [
    "august_gdf.shape"
   ]
  }
 ],
 "metadata": {
  "kernelspec": {
   "display_name": "Python 3 (ipykernel)",
   "language": "python",
   "name": "python3"
  },
  "language_info": {
   "codemirror_mode": {
    "name": "ipython",
    "version": 3
   },
   "file_extension": ".py",
   "mimetype": "text/x-python",
   "name": "python",
   "nbconvert_exporter": "python",
   "pygments_lexer": "ipython3",
   "version": "3.11.10"
  }
 },
 "nbformat": 4,
 "nbformat_minor": 5
}
