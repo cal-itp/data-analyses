{
 "cells": [
  {
   "cell_type": "markdown",
   "id": "9ef066ac-5f6d-4595-b819-0cdacbadd7fe",
   "metadata": {},
   "source": [
    "## Round 1 \n",
    "* Updating existing charts made by Tiffany. https://gtfs-digest--cal-itp-data-analyses.netlify.app/\n",
    "* cd rt_segment_speeds && pip install altair_transform && pip install -r requirements.txt && cd ../_shared_utils && make setup_env\n",
    "\n",
    "Links\n",
    "* https://github.com/cal-itp/data-analyses/issues/1059\n",
    "* https://docs.google.com/document/d/1I1WiqlmU06W6iLCi7cZQrOCLILkrEfABEkcU0Jys7f0/edit\n",
    "* https://route-speeds--cal-itp-data-analyses.netlify.app/name_bay-area-511-muni-schedule/0__report__name_bay-area-511-muni-schedule\n",
    "* https://posit-dev.github.io/great-tables/get-started/nanoplots.html\n",
    "* https://docs.pola.rs/py-polars/html/reference/api/polars.from_pandas.html\n",
    "* https://github.com/cal-itp/data-analyses/blob/main/rt_segment_speeds/_rt_scheduled_utils.py\n",
    "* https://github.com/cal-itp/data-analyses/blob/main/rt_segment_speeds/_threshold_utils.py"
   ]
  },
  {
   "cell_type": "code",
   "execution_count": 1,
   "id": "41ffdcf4-2076-49c6-bae6-6ffb51f044b3",
   "metadata": {},
   "outputs": [],
   "source": [
    "import _report_utils\n",
    "import _section2_utils as section2\n",
    "import altair as alt\n",
    "import calitp_data_analysis.magics\n",
    "import geopandas as gpd\n",
    "import great_tables as gt\n",
    "import pandas as pd\n",
    "from calitp_data_analysis import calitp_color_palette as cp\n",
    "from great_tables import md\n",
    "from IPython.display import HTML, Markdown, display\n",
    "from segment_speed_utils.project_vars import RT_SCHED_GCS, SCHED_GCS\n",
    "from shared_utils import catalog_utils, rt_dates, rt_utils\n",
    "\n",
    "alt.renderers.enable(\"html\")\n",
    "alt.data_transformers.enable(\"default\", max_rows=None)\n",
    "from typing import List, Union\n",
    "\n",
    "from altair_transform.extract import extract_transform\n",
    "from altair_transform.transform import visit\n",
    "from altair_transform.utils import to_dataframe"
   ]
  },
  {
   "cell_type": "code",
   "execution_count": 2,
   "id": "6366b86d-cdad-4aa0-9b29-9e506cb63258",
   "metadata": {},
   "outputs": [],
   "source": [
    "pd.options.display.max_columns = 100\n",
    "pd.options.display.float_format = \"{:.2f}\".format\n",
    "pd.set_option(\"display.max_rows\", None)\n",
    "pd.set_option(\"display.max_colwidth\", None)"
   ]
  },
  {
   "cell_type": "code",
   "execution_count": 3,
   "id": "8567437c-3023-4281-b0f5-5903c29217a2",
   "metadata": {},
   "outputs": [],
   "source": [
    "GTFS_DATA_DICT = catalog_utils.get_catalog(\"gtfs_analytics_data\")"
   ]
  },
  {
   "cell_type": "code",
   "execution_count": 4,
   "id": "bc018bf9-293b-41cd-92bd-a8d808b4e3af",
   "metadata": {},
   "outputs": [],
   "source": [
    "import yaml\n",
    "\n",
    "with open(\"readable.yml\") as f:\n",
    "    readable_dict = yaml.safe_load(f)"
   ]
  },
  {
   "cell_type": "code",
   "execution_count": 5,
   "id": "f87b0483-ff6d-4ecc-aab6-3d5e61415b3c",
   "metadata": {},
   "outputs": [],
   "source": [
    "org_name = \"City and County of San Francisco\""
   ]
  },
  {
   "cell_type": "code",
   "execution_count": 6,
   "id": "292a2159-4922-4bd3-b899-2e854ac2a4a0",
   "metadata": {},
   "outputs": [
    {
     "data": {
      "text/html": [
       "\n",
       "<style>\n",
       "form.vega-bindings {\n",
       "  position: absolute;\n",
       "  right: 0px;\n",
       "  top: 0px;\n",
       "}\n",
       "</style>\n"
      ],
      "text/plain": [
       "<IPython.core.display.HTML object>"
      ]
     },
     "metadata": {},
     "output_type": "display_data"
    }
   ],
   "source": [
    "# Set drop down menu to be on the upper right\n",
    "display(\n",
    "    HTML(\n",
    "        \"\"\"\n",
    "<style>\n",
    "form.vega-bindings {\n",
    "  position: absolute;\n",
    "  right: 0px;\n",
    "  top: 0px;\n",
    "}\n",
    "</style>\n",
    "\"\"\"\n",
    "    )\n",
    ")"
   ]
  },
  {
   "cell_type": "markdown",
   "id": "58c0269f-a557-4aa1-975f-56815886a0ef",
   "metadata": {},
   "source": [
    "### Original File "
   ]
  },
  {
   "cell_type": "code",
   "execution_count": 7,
   "id": "d5ed603a-c443-4500-b084-baa5e010d069",
   "metadata": {},
   "outputs": [],
   "source": [
    "schd_vp_url = f\"{GTFS_DATA_DICT.digest_tables.dir}{GTFS_DATA_DICT.digest_tables.route_schedule_vp}.parquet\""
   ]
  },
  {
   "cell_type": "code",
   "execution_count": 8,
   "id": "7969e1b9-27e3-4bdc-a200-697496701f41",
   "metadata": {},
   "outputs": [],
   "source": [
    "og = pd.read_parquet(schd_vp_url)"
   ]
  },
  {
   "cell_type": "code",
   "execution_count": 9,
   "id": "1b6bf0c5-dc74-4dac-aef9-f0f06ac878ea",
   "metadata": {},
   "outputs": [
    {
     "data": {
      "text/plain": [
       "Index(['schedule_gtfs_dataset_key', 'direction_id', 'time_period',\n",
       "       'avg_scheduled_service_minutes', 'avg_stop_miles', 'n_scheduled_trips',\n",
       "       'frequency', 'service_date', 'minutes_atleast1_vp',\n",
       "       'minutes_atleast2_vp', 'total_rt_service_minutes',\n",
       "       'total_scheduled_service_minutes', 'total_vp', 'vp_in_shape',\n",
       "       'is_early', 'is_ontime', 'is_late', 'n_vp_trips', 'vp_per_minute',\n",
       "       'pct_in_shape', 'pct_rt_journey_atleast1_vp',\n",
       "       'pct_rt_journey_atleast2_vp', 'pct_sched_journey_atleast1_vp',\n",
       "       'pct_sched_journey_atleast2_vp', 'rt_sched_journey_ratio',\n",
       "       'avg_rt_service_minutes', 'sched_rt_category', 'speed_mph', 'name',\n",
       "       'route_long_name', 'route_short_name', 'route_combined_name',\n",
       "       'route_id', 'typology', 'schedule_source_record_id', 'base64_url',\n",
       "       'organization_source_record_id', 'organization_name',\n",
       "       'caltrans_district'],\n",
       "      dtype='object')"
      ]
     },
     "execution_count": 9,
     "metadata": {},
     "output_type": "execute_result"
    }
   ],
   "source": [
    "og.columns"
   ]
  },
  {
   "cell_type": "markdown",
   "id": "14cb4180-128f-40ca-bb42-9d0e15c02aba",
   "metadata": {},
   "source": [
    "### Checkout Duplicates"
   ]
  },
  {
   "cell_type": "code",
   "execution_count": 10,
   "id": "47da60d1-88a6-4df4-8792-ad4e9d1c1abf",
   "metadata": {},
   "outputs": [],
   "source": [
    "df = section2.load_schedule_vp_metrics(org_name)"
   ]
  },
  {
   "cell_type": "code",
   "execution_count": 11,
   "id": "0503668f-691e-4782-a89f-e7e62b554eba",
   "metadata": {},
   "outputs": [
    {
     "data": {
      "text/plain": [
       "4654"
      ]
     },
     "execution_count": 11,
     "metadata": {},
     "output_type": "execute_result"
    }
   ],
   "source": [
    "len(df)"
   ]
  },
  {
   "cell_type": "code",
   "execution_count": 12,
   "id": "3b1bd733-77c8-462f-ab01-a72e3e4040ac",
   "metadata": {},
   "outputs": [
    {
     "data": {
      "text/html": [
       "<div>\n",
       "<style scoped>\n",
       "    .dataframe tbody tr th:only-of-type {\n",
       "        vertical-align: middle;\n",
       "    }\n",
       "\n",
       "    .dataframe tbody tr th {\n",
       "        vertical-align: top;\n",
       "    }\n",
       "\n",
       "    .dataframe thead th {\n",
       "        text-align: right;\n",
       "    }\n",
       "</style>\n",
       "<table border=\"1\" class=\"dataframe\">\n",
       "  <thead>\n",
       "    <tr style=\"text-align: right;\">\n",
       "      <th></th>\n",
       "      <th>schedule_gtfs_dataset_key</th>\n",
       "      <th>Direction</th>\n",
       "      <th>Period</th>\n",
       "      <th>Average Scheduled Service (trip minutes)</th>\n",
       "      <th>Average Stop Distance (miles)</th>\n",
       "      <th># scheduled trips</th>\n",
       "      <th>Trips per Hour</th>\n",
       "      <th>Date</th>\n",
       "      <th># Minutes with 1+ VP per Minute</th>\n",
       "      <th># Minutes with 2+ VP per Minute</th>\n",
       "      <th>Aggregate Actual Service Minutes</th>\n",
       "      <th>Aggregate Scheduled Service Minutes (all trips)</th>\n",
       "      <th># VP</th>\n",
       "      <th># VP within Scheduled Shape</th>\n",
       "      <th># Early Arrival Trips</th>\n",
       "      <th># On-Time Trips</th>\n",
       "      <th># Late Trips</th>\n",
       "      <th># Trips with VP</th>\n",
       "      <th>Average VP per Minute</th>\n",
       "      <th>% VP within Scheduled Shape</th>\n",
       "      <th>% Actual Trip Minutes with 1+ VP per Minute</th>\n",
       "      <th>% Actual Trip Minutes with 2+ VP per Minute</th>\n",
       "      <th>% Scheduled Trip Minutes with 1+ VP per Minute</th>\n",
       "      <th>% Scheduled Trip Minutes with 2+ VP per Minute</th>\n",
       "      <th>Realtime versus Scheduled Service Ratio</th>\n",
       "      <th>Average Actual Service (Trip Minutes)</th>\n",
       "      <th>GTFS Availability</th>\n",
       "      <th>Speed (MPH)</th>\n",
       "      <th>Transit Operator</th>\n",
       "      <th>route_long_name</th>\n",
       "      <th>route_short_name</th>\n",
       "      <th>Route</th>\n",
       "      <th>Route ID</th>\n",
       "      <th>Route typology</th>\n",
       "      <th>schedule_source_record_id</th>\n",
       "      <th>Base64 Encoded Feed URL</th>\n",
       "      <th>Organization ID</th>\n",
       "      <th>Organization</th>\n",
       "      <th>District</th>\n",
       "      <th>rt_sched_journey_ratio_cat</th>\n",
       "      <th>vp_per_minute_cat</th>\n",
       "      <th>spatial_accuracy_cat</th>\n",
       "      <th>ruler_100_pct</th>\n",
       "      <th>ruler_for_vp_per_min</th>\n",
       "      <th>frequency_in_minutes</th>\n",
       "    </tr>\n",
       "  </thead>\n",
       "  <tbody>\n",
       "    <tr>\n",
       "      <th>0</th>\n",
       "      <td>7cc0cb1871dfd558f11a2885c145d144</td>\n",
       "      <td>0.00</td>\n",
       "      <td>all_day</td>\n",
       "      <td>41.33</td>\n",
       "      <td>0.12</td>\n",
       "      <td>151</td>\n",
       "      <td>6.29</td>\n",
       "      <td>2023-04-12</td>\n",
       "      <td>7816</td>\n",
       "      <td>7708</td>\n",
       "      <td>12084.08</td>\n",
       "      <td>6194.00</td>\n",
       "      <td>23106</td>\n",
       "      <td>21485</td>\n",
       "      <td>4</td>\n",
       "      <td>28</td>\n",
       "      <td>118</td>\n",
       "      <td>150</td>\n",
       "      <td>1.91</td>\n",
       "      <td>93.00</td>\n",
       "      <td>65.00</td>\n",
       "      <td>64.00</td>\n",
       "      <td>100.00</td>\n",
       "      <td>100.00</td>\n",
       "      <td>1.95</td>\n",
       "      <td>80.56</td>\n",
       "      <td>schedule_and_vp</td>\n",
       "      <td>6.91</td>\n",
       "      <td>Bay Area 511 Muni Schedule</td>\n",
       "      <td>CALIFORNIA</td>\n",
       "      <td>1</td>\n",
       "      <td>1 CALIFORNIA</td>\n",
       "      <td>1</td>\n",
       "      <td>downtown_local</td>\n",
       "      <td>recHD22phgJs34JHP</td>\n",
       "      <td>aHR0cHM6Ly9hcGkuNTExLm9yZy90cmFuc2l0L2RhdGFmZWVkcz9vcGVyYXRvcl9pZD1TRg==</td>\n",
       "      <td>rechaapWbeffO33OX</td>\n",
       "      <td>City and County of San Francisco</td>\n",
       "      <td>04 - Oakland</td>\n",
       "      <td>Late by 50%+ of the scheduled time</td>\n",
       "      <td>&lt;2 pings/minute</td>\n",
       "      <td>&lt;50% spatial accuracy</td>\n",
       "      <td>100</td>\n",
       "      <td>2</td>\n",
       "      <td>9.54</td>\n",
       "    </tr>\n",
       "    <tr>\n",
       "      <th>1</th>\n",
       "      <td>7cc0cb1871dfd558f11a2885c145d144</td>\n",
       "      <td>0.00</td>\n",
       "      <td>all_day</td>\n",
       "      <td>41.33</td>\n",
       "      <td>0.11</td>\n",
       "      <td>151</td>\n",
       "      <td>6.29</td>\n",
       "      <td>2023-05-17</td>\n",
       "      <td>8015</td>\n",
       "      <td>7898</td>\n",
       "      <td>12137.89</td>\n",
       "      <td>6194.00</td>\n",
       "      <td>23681</td>\n",
       "      <td>21951</td>\n",
       "      <td>0</td>\n",
       "      <td>27</td>\n",
       "      <td>123</td>\n",
       "      <td>150</td>\n",
       "      <td>1.95</td>\n",
       "      <td>93.00</td>\n",
       "      <td>66.00</td>\n",
       "      <td>65.00</td>\n",
       "      <td>100.00</td>\n",
       "      <td>100.00</td>\n",
       "      <td>1.96</td>\n",
       "      <td>80.92</td>\n",
       "      <td>schedule_and_vp</td>\n",
       "      <td>6.79</td>\n",
       "      <td>Bay Area 511 Muni Schedule</td>\n",
       "      <td>CALIFORNIA</td>\n",
       "      <td>1</td>\n",
       "      <td>1 CALIFORNIA</td>\n",
       "      <td>1</td>\n",
       "      <td>downtown_local</td>\n",
       "      <td>recHD22phgJs34JHP</td>\n",
       "      <td>aHR0cHM6Ly9hcGkuNTExLm9yZy90cmFuc2l0L2RhdGFmZWVkcz9vcGVyYXRvcl9pZD1TRg==</td>\n",
       "      <td>rechaapWbeffO33OX</td>\n",
       "      <td>City and County of San Francisco</td>\n",
       "      <td>04 - Oakland</td>\n",
       "      <td>Late by 50%+ of the scheduled time</td>\n",
       "      <td>&lt;2 pings/minute</td>\n",
       "      <td>&lt;50% spatial accuracy</td>\n",
       "      <td>100</td>\n",
       "      <td>2</td>\n",
       "      <td>9.54</td>\n",
       "    </tr>\n",
       "  </tbody>\n",
       "</table>\n",
       "</div>"
      ],
      "text/plain": [
       "          schedule_gtfs_dataset_key  Direction   Period  \\\n",
       "0  7cc0cb1871dfd558f11a2885c145d144       0.00  all_day   \n",
       "1  7cc0cb1871dfd558f11a2885c145d144       0.00  all_day   \n",
       "\n",
       "   Average Scheduled Service (trip minutes)  Average Stop Distance (miles)  \\\n",
       "0                                     41.33                           0.12   \n",
       "1                                     41.33                           0.11   \n",
       "\n",
       "   # scheduled trips  Trips per Hour       Date  \\\n",
       "0                151            6.29 2023-04-12   \n",
       "1                151            6.29 2023-05-17   \n",
       "\n",
       "   # Minutes with 1+ VP per Minute  # Minutes with 2+ VP per Minute  \\\n",
       "0                             7816                             7708   \n",
       "1                             8015                             7898   \n",
       "\n",
       "   Aggregate Actual Service Minutes  \\\n",
       "0                          12084.08   \n",
       "1                          12137.89   \n",
       "\n",
       "   Aggregate Scheduled Service Minutes (all trips)   # VP  \\\n",
       "0                                          6194.00  23106   \n",
       "1                                          6194.00  23681   \n",
       "\n",
       "   # VP within Scheduled Shape  # Early Arrival Trips  # On-Time Trips  \\\n",
       "0                        21485                      4               28   \n",
       "1                        21951                      0               27   \n",
       "\n",
       "   # Late Trips  # Trips with VP  Average VP per Minute  \\\n",
       "0           118              150                   1.91   \n",
       "1           123              150                   1.95   \n",
       "\n",
       "   % VP within Scheduled Shape  % Actual Trip Minutes with 1+ VP per Minute  \\\n",
       "0                        93.00                                        65.00   \n",
       "1                        93.00                                        66.00   \n",
       "\n",
       "   % Actual Trip Minutes with 2+ VP per Minute  \\\n",
       "0                                        64.00   \n",
       "1                                        65.00   \n",
       "\n",
       "   % Scheduled Trip Minutes with 1+ VP per Minute  \\\n",
       "0                                          100.00   \n",
       "1                                          100.00   \n",
       "\n",
       "   % Scheduled Trip Minutes with 2+ VP per Minute  \\\n",
       "0                                          100.00   \n",
       "1                                          100.00   \n",
       "\n",
       "   Realtime versus Scheduled Service Ratio  \\\n",
       "0                                     1.95   \n",
       "1                                     1.96   \n",
       "\n",
       "   Average Actual Service (Trip Minutes) GTFS Availability  Speed (MPH)  \\\n",
       "0                                  80.56   schedule_and_vp         6.91   \n",
       "1                                  80.92   schedule_and_vp         6.79   \n",
       "\n",
       "             Transit Operator route_long_name route_short_name         Route  \\\n",
       "0  Bay Area 511 Muni Schedule      CALIFORNIA                1  1 CALIFORNIA   \n",
       "1  Bay Area 511 Muni Schedule      CALIFORNIA                1  1 CALIFORNIA   \n",
       "\n",
       "  Route ID  Route typology schedule_source_record_id  \\\n",
       "0        1  downtown_local         recHD22phgJs34JHP   \n",
       "1        1  downtown_local         recHD22phgJs34JHP   \n",
       "\n",
       "                                                    Base64 Encoded Feed URL  \\\n",
       "0  aHR0cHM6Ly9hcGkuNTExLm9yZy90cmFuc2l0L2RhdGFmZWVkcz9vcGVyYXRvcl9pZD1TRg==   \n",
       "1  aHR0cHM6Ly9hcGkuNTExLm9yZy90cmFuc2l0L2RhdGFmZWVkcz9vcGVyYXRvcl9pZD1TRg==   \n",
       "\n",
       "     Organization ID                      Organization      District  \\\n",
       "0  rechaapWbeffO33OX  City and County of San Francisco  04 - Oakland   \n",
       "1  rechaapWbeffO33OX  City and County of San Francisco  04 - Oakland   \n",
       "\n",
       "           rt_sched_journey_ratio_cat vp_per_minute_cat  \\\n",
       "0  Late by 50%+ of the scheduled time   <2 pings/minute   \n",
       "1  Late by 50%+ of the scheduled time   <2 pings/minute   \n",
       "\n",
       "    spatial_accuracy_cat  ruler_100_pct  ruler_for_vp_per_min  \\\n",
       "0  <50% spatial accuracy            100                     2   \n",
       "1  <50% spatial accuracy            100                     2   \n",
       "\n",
       "   frequency_in_minutes  \n",
       "0                  9.54  \n",
       "1                  9.54  "
      ]
     },
     "execution_count": 12,
     "metadata": {},
     "output_type": "execute_result"
    }
   ],
   "source": [
    "df.head(2)"
   ]
  },
  {
   "cell_type": "markdown",
   "id": "2efbb7c2-9060-43b2-b97e-96d3200aeb6d",
   "metadata": {},
   "source": [
    "### One Route"
   ]
  },
  {
   "cell_type": "code",
   "execution_count": 13,
   "id": "0b1f34c2-bcec-4e7f-81a5-c2fd7e7d4d9d",
   "metadata": {},
   "outputs": [],
   "source": [
    "one_route = df.loc[df[\"Route\"] == \"49 VAN NESS-MISSION\"]"
   ]
  },
  {
   "cell_type": "code",
   "execution_count": 14,
   "id": "7365d028-e5b9-4ac9-bc57-8ab052af2007",
   "metadata": {},
   "outputs": [
    {
     "data": {
      "text/plain": [
       "(78, 45)"
      ]
     },
     "execution_count": 14,
     "metadata": {},
     "output_type": "execute_result"
    }
   ],
   "source": [
    "one_route.shape"
   ]
  },
  {
   "cell_type": "code",
   "execution_count": 15,
   "id": "6fccc5c1-ca4a-4966-9b72-feb6d61b11a4",
   "metadata": {},
   "outputs": [],
   "source": [
    "one_route_all_day = one_route.loc[one_route[\"Period\"] == \"all_day\"]"
   ]
  },
  {
   "cell_type": "code",
   "execution_count": 16,
   "id": "4d7e5079-c166-416d-90e4-1edca11e9a42",
   "metadata": {},
   "outputs": [
    {
     "data": {
      "text/plain": [
       "'49 VAN NESS-MISSION'"
      ]
     },
     "execution_count": 16,
     "metadata": {},
     "output_type": "execute_result"
    }
   ],
   "source": [
    "one_route_all_day[\"Route\"].values[0]"
   ]
  },
  {
   "cell_type": "code",
   "execution_count": 17,
   "id": "fa7e124e-bba4-4223-962e-a466980c029e",
   "metadata": {},
   "outputs": [
    {
     "name": "stdout",
     "output_type": "stream",
     "text": [
      "<class 'pandas.core.frame.DataFrame'>\n",
      "Int64Index: 26 entries, 2034 to 4467\n",
      "Data columns (total 45 columns):\n",
      " #   Column                                           Non-Null Count  Dtype         \n",
      "---  ------                                           --------------  -----         \n",
      " 0   schedule_gtfs_dataset_key                        26 non-null     object        \n",
      " 1   Direction                                        26 non-null     float64       \n",
      " 2   Period                                           26 non-null     object        \n",
      " 3   Average Scheduled Service (trip minutes)         26 non-null     float64       \n",
      " 4   Average Stop Distance (miles)                    26 non-null     float64       \n",
      " 5   # scheduled trips                                26 non-null     int64         \n",
      " 6   Trips per Hour                                   26 non-null     float64       \n",
      " 7   Date                                             26 non-null     datetime64[ns]\n",
      " 8   # Minutes with 1+ VP per Minute                  26 non-null     int64         \n",
      " 9   # Minutes with 2+ VP per Minute                  26 non-null     int64         \n",
      " 10  Aggregate Actual Service Minutes                 26 non-null     float64       \n",
      " 11  Aggregate Scheduled Service Minutes (all trips)  26 non-null     float64       \n",
      " 12  # VP                                             26 non-null     int64         \n",
      " 13  # VP within Scheduled Shape                      26 non-null     int64         \n",
      " 14  # Early Arrival Trips                            26 non-null     int64         \n",
      " 15  # On-Time Trips                                  26 non-null     int64         \n",
      " 16  # Late Trips                                     26 non-null     int64         \n",
      " 17  # Trips with VP                                  26 non-null     int64         \n",
      " 18  Average VP per Minute                            26 non-null     float64       \n",
      " 19  % VP within Scheduled Shape                      26 non-null     float64       \n",
      " 20  % Actual Trip Minutes with 1+ VP per Minute      26 non-null     float64       \n",
      " 21  % Actual Trip Minutes with 2+ VP per Minute      26 non-null     float64       \n",
      " 22  % Scheduled Trip Minutes with 1+ VP per Minute   26 non-null     float64       \n",
      " 23  % Scheduled Trip Minutes with 2+ VP per Minute   26 non-null     float64       \n",
      " 24  Realtime versus Scheduled Service Ratio          26 non-null     float64       \n",
      " 25  Average Actual Service (Trip Minutes)            26 non-null     float64       \n",
      " 26  GTFS Availability                                26 non-null     category      \n",
      " 27  Speed (MPH)                                      26 non-null     float64       \n",
      " 28  Transit Operator                                 26 non-null     object        \n",
      " 29  route_long_name                                  26 non-null     object        \n",
      " 30  route_short_name                                 26 non-null     object        \n",
      " 31  Route                                            26 non-null     object        \n",
      " 32  Route ID                                         26 non-null     object        \n",
      " 33  Route typology                                   26 non-null     object        \n",
      " 34  schedule_source_record_id                        26 non-null     object        \n",
      " 35  Base64 Encoded Feed URL                          26 non-null     object        \n",
      " 36  Organization ID                                  26 non-null     object        \n",
      " 37  Organization                                     26 non-null     object        \n",
      " 38  District                                         26 non-null     object        \n",
      " 39  rt_sched_journey_ratio_cat                       26 non-null     object        \n",
      " 40  vp_per_minute_cat                                26 non-null     object        \n",
      " 41  spatial_accuracy_cat                             26 non-null     object        \n",
      " 42  ruler_100_pct                                    26 non-null     int64         \n",
      " 43  ruler_for_vp_per_min                             26 non-null     int64         \n",
      " 44  frequency_in_minutes                             26 non-null     float64       \n",
      "dtypes: category(1), datetime64[ns](1), float64(16), int64(11), object(16)\n",
      "memory usage: 9.3+ KB\n"
     ]
    }
   ],
   "source": [
    "one_route_all_day.info()"
   ]
  },
  {
   "cell_type": "markdown",
   "id": "4dfaed24-6a82-42cf-9a85-b597bb69a67a",
   "metadata": {},
   "source": [
    "#### Explanation Charts"
   ]
  },
  {
   "cell_type": "code",
   "execution_count": 18,
   "id": "517f3eb6-0aad-4575-aa12-590d282f754d",
   "metadata": {},
   "outputs": [],
   "source": [
    "def divider_chart(df: pd.DataFrame, text):\n",
    "    df = df[[\"Route\"]].drop_duplicates()\n",
    "    route = df[\"Route\"].values[0].title()\n",
    "    # Create a text chart using Altair\n",
    "    chart = (\n",
    "        alt.Chart(df)\n",
    "        .mark_text(\n",
    "            align=\"center\",\n",
    "            baseline=\"middle\",\n",
    "            fontSize=12,\n",
    "            text=f\"{text} {route}.\",\n",
    "        )\n",
    "        .properties(width=500, height=100)\n",
    "    )\n",
    "\n",
    "    return chart"
   ]
  },
  {
   "cell_type": "code",
   "execution_count": 19,
   "id": "5cb42885-efde-4c74-865c-09d1349f21a3",
   "metadata": {},
   "outputs": [
    {
     "data": {
      "text/html": [
       "\n",
       "<style>\n",
       "  #altair-viz-106f01e903c44480834f57dcbfae4a8b.vega-embed {\n",
       "    width: 100%;\n",
       "    display: flex;\n",
       "  }\n",
       "\n",
       "  #altair-viz-106f01e903c44480834f57dcbfae4a8b.vega-embed details,\n",
       "  #altair-viz-106f01e903c44480834f57dcbfae4a8b.vega-embed details summary {\n",
       "    position: relative;\n",
       "  }\n",
       "</style>\n",
       "<div id=\"altair-viz-106f01e903c44480834f57dcbfae4a8b\"></div>\n",
       "<script type=\"text/javascript\">\n",
       "  var VEGA_DEBUG = (typeof VEGA_DEBUG == \"undefined\") ? {} : VEGA_DEBUG;\n",
       "  (function(spec, embedOpt){\n",
       "    let outputDiv = document.currentScript.previousElementSibling;\n",
       "    if (outputDiv.id !== \"altair-viz-106f01e903c44480834f57dcbfae4a8b\") {\n",
       "      outputDiv = document.getElementById(\"altair-viz-106f01e903c44480834f57dcbfae4a8b\");\n",
       "    }\n",
       "    const paths = {\n",
       "      \"vega\": \"https://cdn.jsdelivr.net/npm/vega@5?noext\",\n",
       "      \"vega-lib\": \"https://cdn.jsdelivr.net/npm/vega-lib?noext\",\n",
       "      \"vega-lite\": \"https://cdn.jsdelivr.net/npm/vega-lite@5.14.1?noext\",\n",
       "      \"vega-embed\": \"https://cdn.jsdelivr.net/npm/vega-embed@6?noext\",\n",
       "    };\n",
       "\n",
       "    function maybeLoadScript(lib, version) {\n",
       "      var key = `${lib.replace(\"-\", \"\")}_version`;\n",
       "      return (VEGA_DEBUG[key] == version) ?\n",
       "        Promise.resolve(paths[lib]) :\n",
       "        new Promise(function(resolve, reject) {\n",
       "          var s = document.createElement('script');\n",
       "          document.getElementsByTagName(\"head\")[0].appendChild(s);\n",
       "          s.async = true;\n",
       "          s.onload = () => {\n",
       "            VEGA_DEBUG[key] = version;\n",
       "            return resolve(paths[lib]);\n",
       "          };\n",
       "          s.onerror = () => reject(`Error loading script: ${paths[lib]}`);\n",
       "          s.src = paths[lib];\n",
       "        });\n",
       "    }\n",
       "\n",
       "    function showError(err) {\n",
       "      outputDiv.innerHTML = `<div class=\"error\" style=\"color:red;\">${err}</div>`;\n",
       "      throw err;\n",
       "    }\n",
       "\n",
       "    function displayChart(vegaEmbed) {\n",
       "      vegaEmbed(outputDiv, spec, embedOpt)\n",
       "        .catch(err => showError(`Javascript Error: ${err.message}<br>This usually means there's a typo in your chart specification. See the javascript console for the full traceback.`));\n",
       "    }\n",
       "\n",
       "    if(typeof define === \"function\" && define.amd) {\n",
       "      requirejs.config({paths});\n",
       "      require([\"vega-embed\"], displayChart, err => showError(`Error loading script: ${err.message}`));\n",
       "    } else {\n",
       "      maybeLoadScript(\"vega\", \"5\")\n",
       "        .then(() => maybeLoadScript(\"vega-lite\", \"5.14.1\"))\n",
       "        .then(() => maybeLoadScript(\"vega-embed\", \"6\"))\n",
       "        .catch(showError)\n",
       "        .then(() => displayChart(vegaEmbed));\n",
       "    }\n",
       "  })({\"config\": {\"view\": {\"continuousWidth\": 300, \"continuousHeight\": 300}}, \"data\": {\"name\": \"data-de2a8c9a409e629676d537865adba9a8\"}, \"mark\": {\"type\": \"text\", \"align\": \"center\", \"baseline\": \"middle\", \"fontSize\": 12, \"text\": \"The charts below describe the quality of riding route 1 California.\"}, \"height\": 100, \"width\": 500, \"$schema\": \"https://vega.github.io/schema/vega-lite/v5.14.1.json\", \"datasets\": {\"data-de2a8c9a409e629676d537865adba9a8\": [{\"Route\": \"1 CALIFORNIA\"}, {\"Route\": \"12 FOLSOM-PACIFIC\"}, {\"Route\": \"14 MISSION\"}, {\"Route\": \"14R MISSION RAPID\"}, {\"Route\": \"18 46TH AVENUE\"}, {\"Route\": \"19 POLK\"}, {\"Route\": \"1X CALIFORNIA EXPRESS\"}, {\"Route\": \"2 SUTTER\"}, {\"Route\": \"21 HAYES\"}, {\"Route\": \"22 FILLMORE\"}, {\"Route\": \"23 MONTEREY\"}, {\"Route\": \"24 DIVISADERO\"}, {\"Route\": \"27 BRYANT\"}, {\"Route\": \"28 19TH AVENUE\"}, {\"Route\": \"28R 19TH AVENUE RAPID\"}, {\"Route\": \"29 SUNSET\"}, {\"Route\": \"30 STOCKTON\"}, {\"Route\": \"31 BALBOA\"}, {\"Route\": \"33 ASHBURY-18TH ST\"}, {\"Route\": \"35 EUREKA\"}, {\"Route\": \"36 TERESITA\"}, {\"Route\": \"37 CORBETT\"}, {\"Route\": \"38 GEARY\"}, {\"Route\": \"38R GEARY RAPID\"}, {\"Route\": \"39 COIT\"}, {\"Route\": \"43 MASONIC\"}, {\"Route\": \"44 O'SHAUGHNESSY\"}, {\"Route\": \"45 UNION-STOCKTON\"}, {\"Route\": \"48 QUINTARA-24TH STREET\"}, {\"Route\": \"49 VAN NESS-MISSION\"}, {\"Route\": \"5 FULTON\"}, {\"Route\": \"52 EXCELSIOR\"}, {\"Route\": \"54 FELTON\"}, {\"Route\": \"55 DOGPATCH\"}, {\"Route\": \"56 RUTLAND\"}, {\"Route\": \"57 PARKMERCED\"}, {\"Route\": \"58 LAKE MERCED\"}, {\"Route\": \"5R FULTON RAPID\"}, {\"Route\": \"6 HAIGHT-PARNASSUS\"}, {\"Route\": \"66 QUINTARA\"}, {\"Route\": \"67 BERNAL HEIGHTS\"}, {\"Route\": \"7 HAIGHT-NORIEGA\"}, {\"Route\": \"714 BART EARLY BIRD\"}, {\"Route\": \"8 BAYSHORE\"}, {\"Route\": \"8AX BAYSHORE A EXPRESS\"}, {\"Route\": \"8BX BAYSHORE B EXPRESS\"}, {\"Route\": \"9 SAN BRUNO\"}, {\"Route\": \"90 SAN BRUNO OWL\"}, {\"Route\": \"9R SAN BRUNO RAPID\"}, {\"Route\": \"CA CALIFORNIA STREET CABLE CAR\"}, {\"Route\": \"F MARKET & WHARVES\"}, {\"Route\": \"J CHURCH\"}, {\"Route\": \"K INGLESIDE\"}, {\"Route\": \"KBUS INGLESIDE BUS\"}, {\"Route\": \"KLM MUNI METRO SHUTTLE\"}, {\"Route\": \"LBUS TARAVAL BUS\"}, {\"Route\": \"LOWL OWL TARAVAL\"}, {\"Route\": \"M OCEAN VIEW\"}, {\"Route\": \"MBUS OCEAN VIEW BUS\"}, {\"Route\": \"N JUDAH\"}, {\"Route\": \"NBUS JUDAH BUS\"}, {\"Route\": \"NOWL OWL JUDAH\"}, {\"Route\": \"P POWELL CABLE CAR BUS\"}, {\"Route\": \"PH POWELL-HYDE CABLE CAR\"}, {\"Route\": \"PM POWELL-MASON CABLE CAR\"}, {\"Route\": \"S SHUTTLE\"}, {\"Route\": \"KBUS K INGLESIDE BUS\"}, {\"Route\": \"M M OCEAN VIEW\"}]}}, {\"mode\": \"vega-lite\"});\n",
       "</script>"
      ],
      "text/plain": [
       "alt.Chart(...)"
      ]
     },
     "execution_count": 19,
     "metadata": {},
     "output_type": "execute_result"
    }
   ],
   "source": [
    "divider_chart(df, \"The charts below describe the quality of riding route\")"
   ]
  },
  {
   "cell_type": "markdown",
   "id": "c6580abb-e487-448d-a2c9-1949998fa04e",
   "metadata": {},
   "source": [
    "#### Avg Scheduled Minutes (Done)\n",
    "* How come the average_scheduled_minutes is a lot shorter than total_rt_service_minutes and total_scheduled_service_minutes?\n",
    "* Kind of a boring chart? Should compare actual run time compared to service minutes?"
   ]
  },
  {
   "cell_type": "code",
   "execution_count": 23,
   "id": "991162de-e61a-4ed6-87c8-d0e3400f9b8e",
   "metadata": {},
   "outputs": [],
   "source": [
    "def grouped_bar_chart(\n",
    "    df: pd.DataFrame,\n",
    "    color_col: str,\n",
    "    y_col: str,\n",
    "    offset_col: str,\n",
    "    title: str,\n",
    "    subtitle: str,\n",
    "):\n",
    "    tooltip_cols = [\n",
    "        \"Direction\",\n",
    "        \"Period\",\n",
    "        \"Route\",\n",
    "        \"Organization\",\n",
    "        \"Date\",\n",
    "        color_col,\n",
    "        y_col,\n",
    "    ]\n",
    "\n",
    "    if len(df) == 0:\n",
    "        text_chart = section2.create_data_unavailable_chart()\n",
    "        return text_chart\n",
    "    else:\n",
    "        df = section2.clean_data_charts(df, y_col)\n",
    "        chart = (\n",
    "            alt.Chart(df)\n",
    "            .mark_bar(size=10)\n",
    "            .encode(\n",
    "                x=alt.X(\n",
    "                    \"yearmonthdate(Date):O\",\n",
    "                    title=[\"Grouped by Direction ID\", \"Date\"],\n",
    "                    axis=alt.Axis(labelAngle=-45, format=\"%b %Y\"),\n",
    "                ),\n",
    "                y=alt.Y(f\"{y_col}:Q\", title=_report_utils.labeling(y_col)),\n",
    "                xOffset=alt.X(\n",
    "                    f\"{offset_col}:N\", title=_report_utils.labeling(offset_col)\n",
    "                ),\n",
    "                color=alt.Color(\n",
    "                    f\"{color_col}:N\",\n",
    "                    title=_report_utils.labeling(color_col),\n",
    "                    scale=alt.Scale(\n",
    "                        range=_report_utils.red_green_yellow,\n",
    "                    ),\n",
    "                ),\n",
    "                tooltip=tooltip_cols,\n",
    "            )\n",
    "        )\n",
    "        chart = (chart).properties(\n",
    "            title={\n",
    "                \"text\": [title],\n",
    "                \"subtitle\": [subtitle],\n",
    "            },\n",
    "            width=500,\n",
    "            height=300,\n",
    "        )\n",
    "\n",
    "        return chart"
   ]
  },
  {
   "cell_type": "code",
   "execution_count": 24,
   "id": "0d569675-e6c4-4901-9157-e9da53cef48e",
   "metadata": {},
   "outputs": [
    {
     "name": "stderr",
     "output_type": "stream",
     "text": [
      "/home/jovyan/data-analyses/gtfs_digest/_section2_utils.py:269: SettingWithCopyWarning: \n",
      "A value is trying to be set on a copy of a slice from a DataFrame.\n",
      "Try using .loc[row_indexer,col_indexer] = value instead\n",
      "\n",
      "See the caveats in the documentation: https://pandas.pydata.org/pandas-docs/stable/user_guide/indexing.html#returning-a-view-versus-a-copy\n",
      "  df[\"Period\"] = df[\"Period\"].str.replace(\"_\", \" \").str.title()\n",
      "/home/jovyan/data-analyses/gtfs_digest/_section2_utils.py:271: SettingWithCopyWarning: \n",
      "A value is trying to be set on a copy of a slice from a DataFrame.\n",
      "Try using .loc[row_indexer,col_indexer] = value instead\n",
      "\n",
      "See the caveats in the documentation: https://pandas.pydata.org/pandas-docs/stable/user_guide/indexing.html#returning-a-view-versus-a-copy\n",
      "  df[y_col] = df[y_col].fillna(0).astype(int)\n",
      "/home/jovyan/data-analyses/gtfs_digest/_section2_utils.py:272: SettingWithCopyWarning: \n",
      "A value is trying to be set on a copy of a slice from a DataFrame.\n",
      "Try using .loc[row_indexer,col_indexer] = value instead\n",
      "\n",
      "See the caveats in the documentation: https://pandas.pydata.org/pandas-docs/stable/user_guide/indexing.html#returning-a-view-versus-a-copy\n",
      "  df[f\"{y_col}_str\"] = df[y_col].astype(str)\n"
     ]
    },
    {
     "data": {
      "text/html": [
       "\n",
       "<style>\n",
       "  #altair-viz-175f931ddf1c4d289b90239d16b8ba38.vega-embed {\n",
       "    width: 100%;\n",
       "    display: flex;\n",
       "  }\n",
       "\n",
       "  #altair-viz-175f931ddf1c4d289b90239d16b8ba38.vega-embed details,\n",
       "  #altair-viz-175f931ddf1c4d289b90239d16b8ba38.vega-embed details summary {\n",
       "    position: relative;\n",
       "  }\n",
       "</style>\n",
       "<div id=\"altair-viz-175f931ddf1c4d289b90239d16b8ba38\"></div>\n",
       "<script type=\"text/javascript\">\n",
       "  var VEGA_DEBUG = (typeof VEGA_DEBUG == \"undefined\") ? {} : VEGA_DEBUG;\n",
       "  (function(spec, embedOpt){\n",
       "    let outputDiv = document.currentScript.previousElementSibling;\n",
       "    if (outputDiv.id !== \"altair-viz-175f931ddf1c4d289b90239d16b8ba38\") {\n",
       "      outputDiv = document.getElementById(\"altair-viz-175f931ddf1c4d289b90239d16b8ba38\");\n",
       "    }\n",
       "    const paths = {\n",
       "      \"vega\": \"https://cdn.jsdelivr.net/npm/vega@5?noext\",\n",
       "      \"vega-lib\": \"https://cdn.jsdelivr.net/npm/vega-lib?noext\",\n",
       "      \"vega-lite\": \"https://cdn.jsdelivr.net/npm/vega-lite@5.14.1?noext\",\n",
       "      \"vega-embed\": \"https://cdn.jsdelivr.net/npm/vega-embed@6?noext\",\n",
       "    };\n",
       "\n",
       "    function maybeLoadScript(lib, version) {\n",
       "      var key = `${lib.replace(\"-\", \"\")}_version`;\n",
       "      return (VEGA_DEBUG[key] == version) ?\n",
       "        Promise.resolve(paths[lib]) :\n",
       "        new Promise(function(resolve, reject) {\n",
       "          var s = document.createElement('script');\n",
       "          document.getElementsByTagName(\"head\")[0].appendChild(s);\n",
       "          s.async = true;\n",
       "          s.onload = () => {\n",
       "            VEGA_DEBUG[key] = version;\n",
       "            return resolve(paths[lib]);\n",
       "          };\n",
       "          s.onerror = () => reject(`Error loading script: ${paths[lib]}`);\n",
       "          s.src = paths[lib];\n",
       "        });\n",
       "    }\n",
       "\n",
       "    function showError(err) {\n",
       "      outputDiv.innerHTML = `<div class=\"error\" style=\"color:red;\">${err}</div>`;\n",
       "      throw err;\n",
       "    }\n",
       "\n",
       "    function displayChart(vegaEmbed) {\n",
       "      vegaEmbed(outputDiv, spec, embedOpt)\n",
       "        .catch(err => showError(`Javascript Error: ${err.message}<br>This usually means there's a typo in your chart specification. See the javascript console for the full traceback.`));\n",
       "    }\n",
       "\n",
       "    if(typeof define === \"function\" && define.amd) {\n",
       "      requirejs.config({paths});\n",
       "      require([\"vega-embed\"], displayChart, err => showError(`Error loading script: ${err.message}`));\n",
       "    } else {\n",
       "      maybeLoadScript(\"vega\", \"5\")\n",
       "        .then(() => maybeLoadScript(\"vega-lite\", \"5.14.1\"))\n",
       "        .then(() => maybeLoadScript(\"vega-embed\", \"6\"))\n",
       "        .catch(showError)\n",
       "        .then(() => displayChart(vegaEmbed));\n",
       "    }\n",
       "  })({\"config\": {\"view\": {\"continuousWidth\": 300, \"continuousHeight\": 300}}, \"data\": {\"name\": \"data-c3c3904b8f99e23d0ca913daf3a7cf2e\"}, \"mark\": {\"type\": \"bar\", \"size\": 10}, \"encoding\": {\"color\": {\"field\": \"Direction\", \"scale\": {\"range\": [\"#ec5d3b\", \"#fde18d\", \"#7cc665\"]}, \"title\": \"Direction\", \"type\": \"nominal\"}, \"tooltip\": [{\"field\": \"Direction\", \"type\": \"quantitative\"}, {\"field\": \"Period\", \"type\": \"nominal\"}, {\"field\": \"Route\", \"type\": \"nominal\"}, {\"field\": \"Organization\", \"type\": \"nominal\"}, {\"field\": \"Date\", \"type\": \"temporal\"}, {\"field\": \"Direction\", \"type\": \"quantitative\"}, {\"field\": \"Average Scheduled Service (trip minutes)\", \"type\": \"quantitative\"}], \"x\": {\"axis\": {\"format\": \"%b %Y\", \"labelAngle\": -45}, \"field\": \"Date\", \"timeUnit\": \"yearmonthdate\", \"title\": [\"Grouped by Direction ID\", \"Date\"], \"type\": \"ordinal\"}, \"xOffset\": {\"field\": \"Direction\", \"title\": \"Direction\", \"type\": \"nominal\"}, \"y\": {\"field\": \"Average Scheduled Service (trip minutes)\", \"title\": \"Average Scheduled Service (Trip Minutes)\", \"type\": \"quantitative\"}}, \"height\": 300, \"title\": {\"text\": [\"Average Scheduled Minutes\"], \"subtitle\": [\"The average minutes a trip is scheduled to run in each direction.\"]}, \"width\": 500, \"$schema\": \"https://vega.github.io/schema/vega-lite/v5.14.1.json\", \"datasets\": {\"data-c3c3904b8f99e23d0ca913daf3a7cf2e\": [{\"schedule_gtfs_dataset_key\": \"7cc0cb1871dfd558f11a2885c145d144\", \"Direction\": 0.0, \"Period\": \"All Day\", \"Average Scheduled Service (trip minutes)\": 53, \"Average Stop Distance (miles)\": 0.19, \"# scheduled trips\": 169, \"Trips per Hour\": 7.04, \"Date\": \"2023-04-12T00:00:00\", \"# Minutes with 1+ VP per Minute\": 10774, \"# Minutes with 2+ VP per Minute\": 10662, \"Aggregate Actual Service Minutes\": 16334.26, \"Aggregate Scheduled Service Minutes (all trips)\": 8722.0, \"# VP\": 31964, \"# VP within Scheduled Shape\": 31416, \"# Early Arrival Trips\": 3, \"# On-Time Trips\": 12, \"# Late Trips\": 149, \"# Trips with VP\": 164, \"Average VP per Minute\": 1.96, \"% VP within Scheduled Shape\": 98.0, \"% Actual Trip Minutes with 1+ VP per Minute\": 66.0, \"% Actual Trip Minutes with 2+ VP per Minute\": 65.0, \"% Scheduled Trip Minutes with 1+ VP per Minute\": 100.0, \"% Scheduled Trip Minutes with 2+ VP per Minute\": 100.0, \"Realtime versus Scheduled Service Ratio\": 1.87, \"Average Actual Service (Trip Minutes)\": 99.6, \"GTFS Availability\": \"schedule_and_vp\", \"Speed (MPH)\": 6.64, \"Transit Operator\": \"Bay Area 511 Muni Schedule\", \"route_long_name\": \"VAN NESS-MISSION\", \"route_short_name\": \"49\", \"Route\": \"49 VAN NESS-MISSION\", \"Route ID\": \"49\", \"Route typology\": \"downtown_local\", \"schedule_source_record_id\": \"recHD22phgJs34JHP\", \"Base64 Encoded Feed URL\": \"aHR0cHM6Ly9hcGkuNTExLm9yZy90cmFuc2l0L2RhdGFmZWVkcz9vcGVyYXRvcl9pZD1TRg==\", \"Organization ID\": \"rechaapWbeffO33OX\", \"Organization\": \"City and County of San Francisco\", \"District\": \"04 - Oakland\", \"rt_sched_journey_ratio_cat\": \"Late by 50%+ of the scheduled time\", \"vp_per_minute_cat\": \"<2 pings/minute\", \"spatial_accuracy_cat\": \"<50% spatial accuracy\", \"ruler_100_pct\": 100, \"ruler_for_vp_per_min\": 2, \"frequency_in_minutes\": 8.522727272727273, \"Average Scheduled Service (trip minutes)_str\": \"53\"}, {\"schedule_gtfs_dataset_key\": \"7cc0cb1871dfd558f11a2885c145d144\", \"Direction\": 0.0, \"Period\": \"All Day\", \"Average Scheduled Service (trip minutes)\": 53, \"Average Stop Distance (miles)\": 0.19, \"# scheduled trips\": 169, \"Trips per Hour\": 7.04, \"Date\": \"2023-05-17T00:00:00\", \"# Minutes with 1+ VP per Minute\": 10415, \"# Minutes with 2+ VP per Minute\": 10289, \"Aggregate Actual Service Minutes\": 14562.95, \"Aggregate Scheduled Service Minutes (all trips)\": 8957.0, \"# VP\": 30867, \"# VP within Scheduled Shape\": 29315, \"# Early Arrival Trips\": 5, \"# On-Time Trips\": 61, \"# Late Trips\": 103, \"# Trips with VP\": 169, \"Average VP per Minute\": 2.12, \"% VP within Scheduled Shape\": 95.0, \"% Actual Trip Minutes with 1+ VP per Minute\": 72.0, \"% Actual Trip Minutes with 2+ VP per Minute\": 71.0, \"% Scheduled Trip Minutes with 1+ VP per Minute\": 100.0, \"% Scheduled Trip Minutes with 2+ VP per Minute\": 100.0, \"Realtime versus Scheduled Service Ratio\": 1.63, \"Average Actual Service (Trip Minutes)\": 86.17, \"GTFS Availability\": \"schedule_and_vp\", \"Speed (MPH)\": 7.23, \"Transit Operator\": \"Bay Area 511 Muni Schedule\", \"route_long_name\": \"VAN NESS-MISSION\", \"route_short_name\": \"49\", \"Route\": \"49 VAN NESS-MISSION\", \"Route ID\": \"49\", \"Route typology\": \"downtown_local\", \"schedule_source_record_id\": \"recHD22phgJs34JHP\", \"Base64 Encoded Feed URL\": \"aHR0cHM6Ly9hcGkuNTExLm9yZy90cmFuc2l0L2RhdGFmZWVkcz9vcGVyYXRvcl9pZD1TRg==\", \"Organization ID\": \"rechaapWbeffO33OX\", \"Organization\": \"City and County of San Francisco\", \"District\": \"04 - Oakland\", \"rt_sched_journey_ratio_cat\": \"Late by 50%+ of the scheduled time\", \"vp_per_minute_cat\": \"2-2.9 pings/minute\", \"spatial_accuracy_cat\": \"<50% spatial accuracy\", \"ruler_100_pct\": 100, \"ruler_for_vp_per_min\": 2, \"frequency_in_minutes\": 8.522727272727273, \"Average Scheduled Service (trip minutes)_str\": \"53\"}, {\"schedule_gtfs_dataset_key\": \"7cc0cb1871dfd558f11a2885c145d144\", \"Direction\": 0.0, \"Period\": \"All Day\", \"Average Scheduled Service (trip minutes)\": 51, \"Average Stop Distance (miles)\": 0.19, \"# scheduled trips\": 176, \"Trips per Hour\": 7.33, \"Date\": \"2023-06-14T00:00:00\", \"# Minutes with 1+ VP per Minute\": 11421, \"# Minutes with 2+ VP per Minute\": 11295, \"Aggregate Actual Service Minutes\": 15409.43, \"Aggregate Scheduled Service Minutes (all trips)\": 9036.0, \"# VP\": 33872, \"# VP within Scheduled Shape\": 30896, \"# Early Arrival Trips\": 1, \"# On-Time Trips\": 40, \"# Late Trips\": 134, \"# Trips with VP\": 175, \"Average VP per Minute\": 2.2, \"% VP within Scheduled Shape\": 91.0, \"% Actual Trip Minutes with 1+ VP per Minute\": 74.0, \"% Actual Trip Minutes with 2+ VP per Minute\": 73.0, \"% Scheduled Trip Minutes with 1+ VP per Minute\": 100.0, \"% Scheduled Trip Minutes with 2+ VP per Minute\": 100.0, \"Realtime versus Scheduled Service Ratio\": 1.71, \"Average Actual Service (Trip Minutes)\": 88.05, \"GTFS Availability\": \"schedule_and_vp\", \"Speed (MPH)\": 7.31, \"Transit Operator\": \"Bay Area 511 Muni Schedule\", \"route_long_name\": \"VAN NESS-MISSION\", \"route_short_name\": \"49\", \"Route\": \"49 VAN NESS-MISSION\", \"Route ID\": \"49\", \"Route typology\": \"downtown_local\", \"schedule_source_record_id\": \"recHD22phgJs34JHP\", \"Base64 Encoded Feed URL\": \"aHR0cHM6Ly9hcGkuNTExLm9yZy90cmFuc2l0L2RhdGFmZWVkcz9vcGVyYXRvcl9pZD1TRg==\", \"Organization ID\": \"rechaapWbeffO33OX\", \"Organization\": \"City and County of San Francisco\", \"District\": \"04 - Oakland\", \"rt_sched_journey_ratio_cat\": \"Late by 50%+ of the scheduled time\", \"vp_per_minute_cat\": \"2-2.9 pings/minute\", \"spatial_accuracy_cat\": \"<50% spatial accuracy\", \"ruler_100_pct\": 100, \"ruler_for_vp_per_min\": 2, \"frequency_in_minutes\": 8.185538881309686, \"Average Scheduled Service (trip minutes)_str\": \"51\"}, {\"schedule_gtfs_dataset_key\": \"7cc0cb1871dfd558f11a2885c145d144\", \"Direction\": 0.0, \"Period\": \"All Day\", \"Average Scheduled Service (trip minutes)\": 51, \"Average Stop Distance (miles)\": 0.19, \"# scheduled trips\": 176, \"Trips per Hour\": 7.33, \"Date\": \"2023-07-12T00:00:00\", \"# Minutes with 1+ VP per Minute\": 11166, \"# Minutes with 2+ VP per Minute\": 11043, \"Aggregate Actual Service Minutes\": 15156.18, \"Aggregate Scheduled Service Minutes (all trips)\": 8891.0, \"# VP\": 33107, \"# VP within Scheduled Shape\": 30171, \"# Early Arrival Trips\": 4, \"# On-Time Trips\": 35, \"# Late Trips\": 133, \"# Trips with VP\": 172, \"Average VP per Minute\": 2.18, \"% VP within Scheduled Shape\": 91.0, \"% Actual Trip Minutes with 1+ VP per Minute\": 74.0, \"% Actual Trip Minutes with 2+ VP per Minute\": 73.0, \"% Scheduled Trip Minutes with 1+ VP per Minute\": 100.0, \"% Scheduled Trip Minutes with 2+ VP per Minute\": 100.0, \"Realtime versus Scheduled Service Ratio\": 1.7, \"Average Actual Service (Trip Minutes)\": 88.12, \"GTFS Availability\": \"schedule_and_vp\", \"Speed (MPH)\": 7.35, \"Transit Operator\": \"Bay Area 511 Muni Schedule\", \"route_long_name\": \"VAN NESS-MISSION\", \"route_short_name\": \"49\", \"Route\": \"49 VAN NESS-MISSION\", \"Route ID\": \"49\", \"Route typology\": \"downtown_local\", \"schedule_source_record_id\": \"recHD22phgJs34JHP\", \"Base64 Encoded Feed URL\": \"aHR0cHM6Ly9hcGkuNTExLm9yZy90cmFuc2l0L2RhdGFmZWVkcz9vcGVyYXRvcl9pZD1TRg==\", \"Organization ID\": \"rechaapWbeffO33OX\", \"Organization\": \"City and County of San Francisco\", \"District\": \"04 - Oakland\", \"rt_sched_journey_ratio_cat\": \"Late by 50%+ of the scheduled time\", \"vp_per_minute_cat\": \"2-2.9 pings/minute\", \"spatial_accuracy_cat\": \"<50% spatial accuracy\", \"ruler_100_pct\": 100, \"ruler_for_vp_per_min\": 2, \"frequency_in_minutes\": 8.185538881309686, \"Average Scheduled Service (trip minutes)_str\": \"51\"}, {\"schedule_gtfs_dataset_key\": \"7cc0cb1871dfd558f11a2885c145d144\", \"Direction\": 0.0, \"Period\": \"All Day\", \"Average Scheduled Service (trip minutes)\": 51, \"Average Stop Distance (miles)\": 0.19, \"# scheduled trips\": 176, \"Trips per Hour\": 7.33, \"Date\": \"2023-08-15T00:00:00\", \"# Minutes with 1+ VP per Minute\": 11309, \"# Minutes with 2+ VP per Minute\": 11186, \"Aggregate Actual Service Minutes\": 13957.89, \"Aggregate Scheduled Service Minutes (all trips)\": 9081.0, \"# VP\": 33560, \"# VP within Scheduled Shape\": 30329, \"# Early Arrival Trips\": 5, \"# On-Time Trips\": 36, \"# Late Trips\": 135, \"# Trips with VP\": 176, \"Average VP per Minute\": 2.4, \"% VP within Scheduled Shape\": 90.0, \"% Actual Trip Minutes with 1+ VP per Minute\": 81.0, \"% Actual Trip Minutes with 2+ VP per Minute\": 80.0, \"% Scheduled Trip Minutes with 1+ VP per Minute\": 100.0, \"% Scheduled Trip Minutes with 2+ VP per Minute\": 100.0, \"Realtime versus Scheduled Service Ratio\": 1.54, \"Average Actual Service (Trip Minutes)\": 79.31, \"GTFS Availability\": \"schedule_and_vp\", \"Speed (MPH)\": 7.47, \"Transit Operator\": \"Bay Area 511 Muni Schedule\", \"route_long_name\": \"VAN NESS-MISSION\", \"route_short_name\": \"49\", \"Route\": \"49 VAN NESS-MISSION\", \"Route ID\": \"49\", \"Route typology\": \"downtown_local\", \"schedule_source_record_id\": \"recHD22phgJs34JHP\", \"Base64 Encoded Feed URL\": \"aHR0cHM6Ly9hcGkuNTExLm9yZy90cmFuc2l0L2RhdGFmZWVkcz9vcGVyYXRvcl9pZD1TRg==\", \"Organization ID\": \"rechaapWbeffO33OX\", \"Organization\": \"City and County of San Francisco\", \"District\": \"04 - Oakland\", \"rt_sched_journey_ratio_cat\": \"Late by 50%+ of the scheduled time\", \"vp_per_minute_cat\": \"2-2.9 pings/minute\", \"spatial_accuracy_cat\": \"<50% spatial accuracy\", \"ruler_100_pct\": 100, \"ruler_for_vp_per_min\": 2, \"frequency_in_minutes\": 8.185538881309686, \"Average Scheduled Service (trip minutes)_str\": \"51\"}, {\"schedule_gtfs_dataset_key\": \"7cc0cb1871dfd558f11a2885c145d144\", \"Direction\": 0.0, \"Period\": \"All Day\", \"Average Scheduled Service (trip minutes)\": 51, \"Average Stop Distance (miles)\": 0.19, \"# scheduled trips\": 176, \"Trips per Hour\": 7.33, \"Date\": \"2023-10-11T00:00:00\", \"# Minutes with 1+ VP per Minute\": 11541, \"# Minutes with 2+ VP per Minute\": 11416, \"Aggregate Actual Service Minutes\": 15615.65, \"Aggregate Scheduled Service Minutes (all trips)\": 8965.0, \"# VP\": 34247, \"# VP within Scheduled Shape\": 32021, \"# Early Arrival Trips\": 7, \"# On-Time Trips\": 30, \"# Late Trips\": 137, \"# Trips with VP\": 174, \"Average VP per Minute\": 2.19, \"% VP within Scheduled Shape\": 94.0, \"% Actual Trip Minutes with 1+ VP per Minute\": 74.0, \"% Actual Trip Minutes with 2+ VP per Minute\": 73.0, \"% Scheduled Trip Minutes with 1+ VP per Minute\": 100.0, \"% Scheduled Trip Minutes with 2+ VP per Minute\": 100.0, \"Realtime versus Scheduled Service Ratio\": 1.74, \"Average Actual Service (Trip Minutes)\": 89.75, \"GTFS Availability\": \"schedule_and_vp\", \"Speed (MPH)\": 7.08, \"Transit Operator\": \"Bay Area 511 Muni Schedule\", \"route_long_name\": \"VAN NESS-MISSION\", \"route_short_name\": \"49\", \"Route\": \"49 VAN NESS-MISSION\", \"Route ID\": \"49\", \"Route typology\": \"downtown_local\", \"schedule_source_record_id\": \"recHD22phgJs34JHP\", \"Base64 Encoded Feed URL\": \"aHR0cHM6Ly9hcGkuNTExLm9yZy90cmFuc2l0L2RhdGFmZWVkcz9vcGVyYXRvcl9pZD1TRg==\", \"Organization ID\": \"rechaapWbeffO33OX\", \"Organization\": \"City and County of San Francisco\", \"District\": \"04 - Oakland\", \"rt_sched_journey_ratio_cat\": \"Late by 50%+ of the scheduled time\", \"vp_per_minute_cat\": \"2-2.9 pings/minute\", \"spatial_accuracy_cat\": \"<50% spatial accuracy\", \"ruler_100_pct\": 100, \"ruler_for_vp_per_min\": 2, \"frequency_in_minutes\": 8.185538881309686, \"Average Scheduled Service (trip minutes)_str\": \"51\"}, {\"schedule_gtfs_dataset_key\": \"7cc0cb1871dfd558f11a2885c145d144\", \"Direction\": 0.0, \"Period\": \"All Day\", \"Average Scheduled Service (trip minutes)\": 51, \"Average Stop Distance (miles)\": 0.19, \"# scheduled trips\": 176, \"Trips per Hour\": 7.33, \"Date\": \"2023-11-15T00:00:00\", \"# Minutes with 1+ VP per Minute\": 11319, \"# Minutes with 2+ VP per Minute\": 11223, \"Aggregate Actual Service Minutes\": 15417.87, \"Aggregate Scheduled Service Minutes (all trips)\": 9023.0, \"# VP\": 33658, \"# VP within Scheduled Shape\": 31558, \"# Early Arrival Trips\": 3, \"# On-Time Trips\": 40, \"# Late Trips\": 132, \"# Trips with VP\": 175, \"Average VP per Minute\": 2.18, \"% VP within Scheduled Shape\": 94.0, \"% Actual Trip Minutes with 1+ VP per Minute\": 73.0, \"% Actual Trip Minutes with 2+ VP per Minute\": 73.0, \"% Scheduled Trip Minutes with 1+ VP per Minute\": 100.0, \"% Scheduled Trip Minutes with 2+ VP per Minute\": 100.0, \"Realtime versus Scheduled Service Ratio\": 1.71, \"Average Actual Service (Trip Minutes)\": 88.1, \"GTFS Availability\": \"schedule_and_vp\", \"Speed (MPH)\": 7.36, \"Transit Operator\": \"Bay Area 511 Muni Schedule\", \"route_long_name\": \"VAN NESS-MISSION\", \"route_short_name\": \"49\", \"Route\": \"49 VAN NESS-MISSION\", \"Route ID\": \"49\", \"Route typology\": \"downtown_local\", \"schedule_source_record_id\": \"recHD22phgJs34JHP\", \"Base64 Encoded Feed URL\": \"aHR0cHM6Ly9hcGkuNTExLm9yZy90cmFuc2l0L2RhdGFmZWVkcz9vcGVyYXRvcl9pZD1TRg==\", \"Organization ID\": \"rechaapWbeffO33OX\", \"Organization\": \"City and County of San Francisco\", \"District\": \"04 - Oakland\", \"rt_sched_journey_ratio_cat\": \"Late by 50%+ of the scheduled time\", \"vp_per_minute_cat\": \"2-2.9 pings/minute\", \"spatial_accuracy_cat\": \"<50% spatial accuracy\", \"ruler_100_pct\": 100, \"ruler_for_vp_per_min\": 2, \"frequency_in_minutes\": 8.185538881309686, \"Average Scheduled Service (trip minutes)_str\": \"51\"}, {\"schedule_gtfs_dataset_key\": \"7cc0cb1871dfd558f11a2885c145d144\", \"Direction\": 0.0, \"Period\": \"All Day\", \"Average Scheduled Service (trip minutes)\": 51, \"Average Stop Distance (miles)\": 0.19, \"# scheduled trips\": 176, \"Trips per Hour\": 7.33, \"Date\": \"2023-12-13T00:00:00\", \"# Minutes with 1+ VP per Minute\": 11510, \"# Minutes with 2+ VP per Minute\": 11392, \"Aggregate Actual Service Minutes\": 16929.38, \"Aggregate Scheduled Service Minutes (all trips)\": 9004.0, \"# VP\": 34170, \"# VP within Scheduled Shape\": 32108, \"# Early Arrival Trips\": 2, \"# On-Time Trips\": 30, \"# Late Trips\": 142, \"# Trips with VP\": 174, \"Average VP per Minute\": 2.02, \"% VP within Scheduled Shape\": 94.0, \"% Actual Trip Minutes with 1+ VP per Minute\": 68.0, \"% Actual Trip Minutes with 2+ VP per Minute\": 67.0, \"% Scheduled Trip Minutes with 1+ VP per Minute\": 100.0, \"% Scheduled Trip Minutes with 2+ VP per Minute\": 100.0, \"Realtime versus Scheduled Service Ratio\": 1.88, \"Average Actual Service (Trip Minutes)\": 97.3, \"GTFS Availability\": \"schedule_and_vp\", \"Speed (MPH)\": 7.24, \"Transit Operator\": \"Bay Area 511 Muni Schedule\", \"route_long_name\": \"VAN NESS-MISSION\", \"route_short_name\": \"49\", \"Route\": \"49 VAN NESS-MISSION\", \"Route ID\": \"49\", \"Route typology\": \"downtown_local\", \"schedule_source_record_id\": \"recHD22phgJs34JHP\", \"Base64 Encoded Feed URL\": \"aHR0cHM6Ly9hcGkuNTExLm9yZy90cmFuc2l0L2RhdGFmZWVkcz9vcGVyYXRvcl9pZD1TRg==\", \"Organization ID\": \"rechaapWbeffO33OX\", \"Organization\": \"City and County of San Francisco\", \"District\": \"04 - Oakland\", \"rt_sched_journey_ratio_cat\": \"Late by 50%+ of the scheduled time\", \"vp_per_minute_cat\": \"2-2.9 pings/minute\", \"spatial_accuracy_cat\": \"<50% spatial accuracy\", \"ruler_100_pct\": 100, \"ruler_for_vp_per_min\": 2, \"frequency_in_minutes\": 8.185538881309686, \"Average Scheduled Service (trip minutes)_str\": \"51\"}, {\"schedule_gtfs_dataset_key\": \"7cc0cb1871dfd558f11a2885c145d144\", \"Direction\": 0.0, \"Period\": \"All Day\", \"Average Scheduled Service (trip minutes)\": 51, \"Average Stop Distance (miles)\": 0.19, \"# scheduled trips\": 176, \"Trips per Hour\": 7.33, \"Date\": \"2024-01-17T00:00:00\", \"# Minutes with 1+ VP per Minute\": 11853, \"# Minutes with 2+ VP per Minute\": 11752, \"Aggregate Actual Service Minutes\": 15903.45, \"Aggregate Scheduled Service Minutes (all trips)\": 9081.0, \"# VP\": 35219, \"# VP within Scheduled Shape\": 32178, \"# Early Arrival Trips\": 2, \"# On-Time Trips\": 24, \"# Late Trips\": 150, \"# Trips with VP\": 176, \"Average VP per Minute\": 2.21, \"% VP within Scheduled Shape\": 91.0, \"% Actual Trip Minutes with 1+ VP per Minute\": 74.0, \"% Actual Trip Minutes with 2+ VP per Minute\": 74.0, \"% Scheduled Trip Minutes with 1+ VP per Minute\": 100.0, \"% Scheduled Trip Minutes with 2+ VP per Minute\": 100.0, \"Realtime versus Scheduled Service Ratio\": 1.75, \"Average Actual Service (Trip Minutes)\": 90.36, \"GTFS Availability\": \"schedule_and_vp\", \"Speed (MPH)\": 7.16, \"Transit Operator\": \"Bay Area 511 Muni Schedule\", \"route_long_name\": \"VAN NESS-MISSION\", \"route_short_name\": \"49\", \"Route\": \"49 VAN NESS-MISSION\", \"Route ID\": \"49\", \"Route typology\": \"downtown_local\", \"schedule_source_record_id\": \"recHD22phgJs34JHP\", \"Base64 Encoded Feed URL\": \"aHR0cHM6Ly9hcGkuNTExLm9yZy90cmFuc2l0L2RhdGFmZWVkcz9vcGVyYXRvcl9pZD1TRg==\", \"Organization ID\": \"rechaapWbeffO33OX\", \"Organization\": \"City and County of San Francisco\", \"District\": \"04 - Oakland\", \"rt_sched_journey_ratio_cat\": \"Late by 50%+ of the scheduled time\", \"vp_per_minute_cat\": \"2-2.9 pings/minute\", \"spatial_accuracy_cat\": \"<50% spatial accuracy\", \"ruler_100_pct\": 100, \"ruler_for_vp_per_min\": 2, \"frequency_in_minutes\": 8.185538881309686, \"Average Scheduled Service (trip minutes)_str\": \"51\"}, {\"schedule_gtfs_dataset_key\": \"7cc0cb1871dfd558f11a2885c145d144\", \"Direction\": 0.0, \"Period\": \"All Day\", \"Average Scheduled Service (trip minutes)\": 52, \"Average Stop Distance (miles)\": 0.19, \"# scheduled trips\": 168, \"Trips per Hour\": 7.0, \"Date\": \"2024-02-14T00:00:00\", \"# Minutes with 1+ VP per Minute\": 11705, \"# Minutes with 2+ VP per Minute\": 11574, \"Aggregate Actual Service Minutes\": 17056.24, \"Aggregate Scheduled Service Minutes (all trips)\": 8686.0, \"# VP\": 34752, \"# VP within Scheduled Shape\": 31628, \"# Early Arrival Trips\": 4, \"# On-Time Trips\": 11, \"# Late Trips\": 152, \"# Trips with VP\": 167, \"Average VP per Minute\": 2.04, \"% VP within Scheduled Shape\": 91.0, \"% Actual Trip Minutes with 1+ VP per Minute\": 69.0, \"% Actual Trip Minutes with 2+ VP per Minute\": 68.0, \"% Scheduled Trip Minutes with 1+ VP per Minute\": 100.0, \"% Scheduled Trip Minutes with 2+ VP per Minute\": 100.0, \"Realtime versus Scheduled Service Ratio\": 1.96, \"Average Actual Service (Trip Minutes)\": 102.13, \"GTFS Availability\": \"schedule_and_vp\", \"Speed (MPH)\": 7.11, \"Transit Operator\": \"Bay Area 511 Muni Schedule\", \"route_long_name\": \"VAN NESS-MISSION\", \"route_short_name\": \"49\", \"Route\": \"49 VAN NESS-MISSION\", \"Route ID\": \"49\", \"Route typology\": \"downtown_local\", \"schedule_source_record_id\": \"recHD22phgJs34JHP\", \"Base64 Encoded Feed URL\": \"aHR0cHM6Ly9hcGkuNTExLm9yZy90cmFuc2l0L2RhdGFmZWVkcz9vcGVyYXRvcl9pZD1TRg==\", \"Organization ID\": \"rechaapWbeffO33OX\", \"Organization\": \"City and County of San Francisco\", \"District\": \"04 - Oakland\", \"rt_sched_journey_ratio_cat\": \"Late by 50%+ of the scheduled time\", \"vp_per_minute_cat\": \"2-2.9 pings/minute\", \"spatial_accuracy_cat\": \"<50% spatial accuracy\", \"ruler_100_pct\": 100, \"ruler_for_vp_per_min\": 2, \"frequency_in_minutes\": 8.571428571428571, \"Average Scheduled Service (trip minutes)_str\": \"52\"}, {\"schedule_gtfs_dataset_key\": \"7cc0cb1871dfd558f11a2885c145d144\", \"Direction\": 0.0, \"Period\": \"All Day\", \"Average Scheduled Service (trip minutes)\": 52, \"Average Stop Distance (miles)\": 0.19, \"# scheduled trips\": 168, \"Trips per Hour\": 7.0, \"Date\": \"2024-03-13T00:00:00\", \"# Minutes with 1+ VP per Minute\": 10868, \"# Minutes with 2+ VP per Minute\": 10785, \"Aggregate Actual Service Minutes\": 16296.43, \"Aggregate Scheduled Service Minutes (all trips)\": 8251.0, \"# VP\": 32281, \"# VP within Scheduled Shape\": 28962, \"# Early Arrival Trips\": 5, \"# On-Time Trips\": 9, \"# Late Trips\": 144, \"# Trips with VP\": 158, \"Average VP per Minute\": 1.98, \"% VP within Scheduled Shape\": 90.0, \"% Actual Trip Minutes with 1+ VP per Minute\": 67.0, \"% Actual Trip Minutes with 2+ VP per Minute\": 66.0, \"% Scheduled Trip Minutes with 1+ VP per Minute\": 100.0, \"% Scheduled Trip Minutes with 2+ VP per Minute\": 100.0, \"Realtime versus Scheduled Service Ratio\": 1.98, \"Average Actual Service (Trip Minutes)\": 103.14, \"GTFS Availability\": \"schedule_and_vp\", \"Speed (MPH)\": 7.5, \"Transit Operator\": \"Bay Area 511 Muni Schedule\", \"route_long_name\": \"VAN NESS-MISSION\", \"route_short_name\": \"49\", \"Route\": \"49 VAN NESS-MISSION\", \"Route ID\": \"49\", \"Route typology\": \"downtown_local\", \"schedule_source_record_id\": \"recHD22phgJs34JHP\", \"Base64 Encoded Feed URL\": \"aHR0cHM6Ly9hcGkuNTExLm9yZy90cmFuc2l0L2RhdGFmZWVkcz9vcGVyYXRvcl9pZD1TRg==\", \"Organization ID\": \"rechaapWbeffO33OX\", \"Organization\": \"City and County of San Francisco\", \"District\": \"04 - Oakland\", \"rt_sched_journey_ratio_cat\": \"Late by 50%+ of the scheduled time\", \"vp_per_minute_cat\": \"<2 pings/minute\", \"spatial_accuracy_cat\": \"<50% spatial accuracy\", \"ruler_100_pct\": 100, \"ruler_for_vp_per_min\": 2, \"frequency_in_minutes\": 8.571428571428571, \"Average Scheduled Service (trip minutes)_str\": \"52\"}, {\"schedule_gtfs_dataset_key\": \"7cc0cb1871dfd558f11a2885c145d144\", \"Direction\": 0.0, \"Period\": \"All Day\", \"Average Scheduled Service (trip minutes)\": 52, \"Average Stop Distance (miles)\": 0.19, \"# scheduled trips\": 168, \"Trips per Hour\": 7.0, \"Date\": \"2024-04-17T00:00:00\", \"# Minutes with 1+ VP per Minute\": 11853, \"# Minutes with 2+ VP per Minute\": 11728, \"Aggregate Actual Service Minutes\": 17197.48, \"Aggregate Scheduled Service Minutes (all trips)\": 8629.0, \"# VP\": 35142, \"# VP within Scheduled Shape\": 31553, \"# Early Arrival Trips\": 0, \"# On-Time Trips\": 8, \"# Late Trips\": 158, \"# Trips with VP\": 166, \"Average VP per Minute\": 2.04, \"% VP within Scheduled Shape\": 90.0, \"% Actual Trip Minutes with 1+ VP per Minute\": 69.0, \"% Actual Trip Minutes with 2+ VP per Minute\": 68.0, \"% Scheduled Trip Minutes with 1+ VP per Minute\": 100.0, \"% Scheduled Trip Minutes with 2+ VP per Minute\": 100.0, \"Realtime versus Scheduled Service Ratio\": 1.99, \"Average Actual Service (Trip Minutes)\": 103.6, \"GTFS Availability\": \"schedule_and_vp\", \"Speed (MPH)\": 7.26, \"Transit Operator\": \"Bay Area 511 Muni Schedule\", \"route_long_name\": \"VAN NESS-MISSION\", \"route_short_name\": \"49\", \"Route\": \"49 VAN NESS-MISSION\", \"Route ID\": \"49\", \"Route typology\": \"downtown_local\", \"schedule_source_record_id\": \"recHD22phgJs34JHP\", \"Base64 Encoded Feed URL\": \"aHR0cHM6Ly9hcGkuNTExLm9yZy90cmFuc2l0L2RhdGFmZWVkcz9vcGVyYXRvcl9pZD1TRg==\", \"Organization ID\": \"rechaapWbeffO33OX\", \"Organization\": \"City and County of San Francisco\", \"District\": \"04 - Oakland\", \"rt_sched_journey_ratio_cat\": \"Late by 50%+ of the scheduled time\", \"vp_per_minute_cat\": \"2-2.9 pings/minute\", \"spatial_accuracy_cat\": \"<50% spatial accuracy\", \"ruler_100_pct\": 100, \"ruler_for_vp_per_min\": 2, \"frequency_in_minutes\": 8.571428571428571, \"Average Scheduled Service (trip minutes)_str\": \"52\"}, {\"schedule_gtfs_dataset_key\": \"7cc0cb1871dfd558f11a2885c145d144\", \"Direction\": 1.0, \"Period\": \"All Day\", \"Average Scheduled Service (trip minutes)\": 48, \"Average Stop Distance (miles)\": 0.19, \"# scheduled trips\": 174, \"Trips per Hour\": 7.25, \"Date\": \"2023-04-12T00:00:00\", \"# Minutes with 1+ VP per Minute\": 11082, \"# Minutes with 2+ VP per Minute\": 10968, \"Aggregate Actual Service Minutes\": 16701.91, \"Aggregate Scheduled Service Minutes (all trips)\": 8403.0, \"# VP\": 32874, \"# VP within Scheduled Shape\": 31375, \"# Early Arrival Trips\": 6, \"# On-Time Trips\": 17, \"# Late Trips\": 150, \"# Trips with VP\": 173, \"Average VP per Minute\": 1.97, \"% VP within Scheduled Shape\": 95.0, \"% Actual Trip Minutes with 1+ VP per Minute\": 66.0, \"% Actual Trip Minutes with 2+ VP per Minute\": 66.0, \"% Scheduled Trip Minutes with 1+ VP per Minute\": 100.0, \"% Scheduled Trip Minutes with 2+ VP per Minute\": 100.0, \"Realtime versus Scheduled Service Ratio\": 1.99, \"Average Actual Service (Trip Minutes)\": 96.54, \"GTFS Availability\": \"schedule_and_vp\", \"Speed (MPH)\": 6.79, \"Transit Operator\": \"Bay Area 511 Muni Schedule\", \"route_long_name\": \"VAN NESS-MISSION\", \"route_short_name\": \"49\", \"Route\": \"49 VAN NESS-MISSION\", \"Route ID\": \"49\", \"Route typology\": \"downtown_local\", \"schedule_source_record_id\": \"recHD22phgJs34JHP\", \"Base64 Encoded Feed URL\": \"aHR0cHM6Ly9hcGkuNTExLm9yZy90cmFuc2l0L2RhdGFmZWVkcz9vcGVyYXRvcl9pZD1TRg==\", \"Organization ID\": \"rechaapWbeffO33OX\", \"Organization\": \"City and County of San Francisco\", \"District\": \"04 - Oakland\", \"rt_sched_journey_ratio_cat\": \"Late by 50%+ of the scheduled time\", \"vp_per_minute_cat\": \"<2 pings/minute\", \"spatial_accuracy_cat\": \"<50% spatial accuracy\", \"ruler_100_pct\": 100, \"ruler_for_vp_per_min\": 2, \"frequency_in_minutes\": 8.275862068965518, \"Average Scheduled Service (trip minutes)_str\": \"48\"}, {\"schedule_gtfs_dataset_key\": \"7cc0cb1871dfd558f11a2885c145d144\", \"Direction\": 1.0, \"Period\": \"All Day\", \"Average Scheduled Service (trip minutes)\": 48, \"Average Stop Distance (miles)\": 0.19, \"# scheduled trips\": 173, \"Trips per Hour\": 7.21, \"Date\": \"2023-05-17T00:00:00\", \"# Minutes with 1+ VP per Minute\": 12095, \"# Minutes with 2+ VP per Minute\": 11959, \"Aggregate Actual Service Minutes\": 20265.77, \"Aggregate Scheduled Service Minutes (all trips)\": 8408.0, \"# VP\": 35845, \"# VP within Scheduled Shape\": 32002, \"# Early Arrival Trips\": 2, \"# On-Time Trips\": 5, \"# Late Trips\": 166, \"# Trips with VP\": 173, \"Average VP per Minute\": 1.77, \"% VP within Scheduled Shape\": 89.0, \"% Actual Trip Minutes with 1+ VP per Minute\": 60.0, \"% Actual Trip Minutes with 2+ VP per Minute\": 59.0, \"% Scheduled Trip Minutes with 1+ VP per Minute\": 100.0, \"% Scheduled Trip Minutes with 2+ VP per Minute\": 100.0, \"Realtime versus Scheduled Service Ratio\": 2.41, \"Average Actual Service (Trip Minutes)\": 117.14, \"GTFS Availability\": \"schedule_and_vp\", \"Speed (MPH)\": 6.67, \"Transit Operator\": \"Bay Area 511 Muni Schedule\", \"route_long_name\": \"VAN NESS-MISSION\", \"route_short_name\": \"49\", \"Route\": \"49 VAN NESS-MISSION\", \"Route ID\": \"49\", \"Route typology\": \"downtown_local\", \"schedule_source_record_id\": \"recHD22phgJs34JHP\", \"Base64 Encoded Feed URL\": \"aHR0cHM6Ly9hcGkuNTExLm9yZy90cmFuc2l0L2RhdGFmZWVkcz9vcGVyYXRvcl9pZD1TRg==\", \"Organization ID\": \"rechaapWbeffO33OX\", \"Organization\": \"City and County of San Francisco\", \"District\": \"04 - Oakland\", \"rt_sched_journey_ratio_cat\": \"Late by 50%+ of the scheduled time\", \"vp_per_minute_cat\": \"<2 pings/minute\", \"spatial_accuracy_cat\": \"<50% spatial accuracy\", \"ruler_100_pct\": 100, \"ruler_for_vp_per_min\": 2, \"frequency_in_minutes\": 8.321775312066574, \"Average Scheduled Service (trip minutes)_str\": \"48\"}, {\"schedule_gtfs_dataset_key\": \"7cc0cb1871dfd558f11a2885c145d144\", \"Direction\": 1.0, \"Period\": \"All Day\", \"Average Scheduled Service (trip minutes)\": 48, \"Average Stop Distance (miles)\": 0.19, \"# scheduled trips\": 176, \"Trips per Hour\": 7.33, \"Date\": \"2023-06-14T00:00:00\", \"# Minutes with 1+ VP per Minute\": 11382, \"# Minutes with 2+ VP per Minute\": 11252, \"Aggregate Actual Service Minutes\": 18230.68, \"Aggregate Scheduled Service Minutes (all trips)\": 8456.0, \"# VP\": 33732, \"# VP within Scheduled Shape\": 30802, \"# Early Arrival Trips\": 4, \"# On-Time Trips\": 20, \"# Late Trips\": 152, \"# Trips with VP\": 176, \"Average VP per Minute\": 1.85, \"% VP within Scheduled Shape\": 91.0, \"% Actual Trip Minutes with 1+ VP per Minute\": 62.0, \"% Actual Trip Minutes with 2+ VP per Minute\": 62.0, \"% Scheduled Trip Minutes with 1+ VP per Minute\": 100.0, \"% Scheduled Trip Minutes with 2+ VP per Minute\": 100.0, \"Realtime versus Scheduled Service Ratio\": 2.16, \"Average Actual Service (Trip Minutes)\": 103.58, \"GTFS Availability\": \"schedule_and_vp\", \"Speed (MPH)\": 7.19, \"Transit Operator\": \"Bay Area 511 Muni Schedule\", \"route_long_name\": \"VAN NESS-MISSION\", \"route_short_name\": \"49\", \"Route\": \"49 VAN NESS-MISSION\", \"Route ID\": \"49\", \"Route typology\": \"downtown_local\", \"schedule_source_record_id\": \"recHD22phgJs34JHP\", \"Base64 Encoded Feed URL\": \"aHR0cHM6Ly9hcGkuNTExLm9yZy90cmFuc2l0L2RhdGFmZWVkcz9vcGVyYXRvcl9pZD1TRg==\", \"Organization ID\": \"rechaapWbeffO33OX\", \"Organization\": \"City and County of San Francisco\", \"District\": \"04 - Oakland\", \"rt_sched_journey_ratio_cat\": \"Late by 50%+ of the scheduled time\", \"vp_per_minute_cat\": \"<2 pings/minute\", \"spatial_accuracy_cat\": \"<50% spatial accuracy\", \"ruler_100_pct\": 100, \"ruler_for_vp_per_min\": 2, \"frequency_in_minutes\": 8.185538881309686, \"Average Scheduled Service (trip minutes)_str\": \"48\"}, {\"schedule_gtfs_dataset_key\": \"7cc0cb1871dfd558f11a2885c145d144\", \"Direction\": 1.0, \"Period\": \"All Day\", \"Average Scheduled Service (trip minutes)\": 48, \"Average Stop Distance (miles)\": 0.19, \"# scheduled trips\": 176, \"Trips per Hour\": 7.33, \"Date\": \"2023-07-12T00:00:00\", \"# Minutes with 1+ VP per Minute\": 11222, \"# Minutes with 2+ VP per Minute\": 11089, \"Aggregate Actual Service Minutes\": 19535.41, \"Aggregate Scheduled Service Minutes (all trips)\": 8331.0, \"# VP\": 33283, \"# VP within Scheduled Shape\": 30541, \"# Early Arrival Trips\": 1, \"# On-Time Trips\": 21, \"# Late Trips\": 150, \"# Trips with VP\": 172, \"Average VP per Minute\": 1.7, \"% VP within Scheduled Shape\": 92.0, \"% Actual Trip Minutes with 1+ VP per Minute\": 56.99999999999999, \"% Actual Trip Minutes with 2+ VP per Minute\": 56.99999999999999, \"% Scheduled Trip Minutes with 1+ VP per Minute\": 100.0, \"% Scheduled Trip Minutes with 2+ VP per Minute\": 100.0, \"Realtime versus Scheduled Service Ratio\": 2.34, \"Average Actual Service (Trip Minutes)\": 113.58, \"GTFS Availability\": \"schedule_and_vp\", \"Speed (MPH)\": 7.15, \"Transit Operator\": \"Bay Area 511 Muni Schedule\", \"route_long_name\": \"VAN NESS-MISSION\", \"route_short_name\": \"49\", \"Route\": \"49 VAN NESS-MISSION\", \"Route ID\": \"49\", \"Route typology\": \"downtown_local\", \"schedule_source_record_id\": \"recHD22phgJs34JHP\", \"Base64 Encoded Feed URL\": \"aHR0cHM6Ly9hcGkuNTExLm9yZy90cmFuc2l0L2RhdGFmZWVkcz9vcGVyYXRvcl9pZD1TRg==\", \"Organization ID\": \"rechaapWbeffO33OX\", \"Organization\": \"City and County of San Francisco\", \"District\": \"04 - Oakland\", \"rt_sched_journey_ratio_cat\": \"Late by 50%+ of the scheduled time\", \"vp_per_minute_cat\": \"<2 pings/minute\", \"spatial_accuracy_cat\": \"<50% spatial accuracy\", \"ruler_100_pct\": 100, \"ruler_for_vp_per_min\": 2, \"frequency_in_minutes\": 8.185538881309686, \"Average Scheduled Service (trip minutes)_str\": \"48\"}, {\"schedule_gtfs_dataset_key\": \"7cc0cb1871dfd558f11a2885c145d144\", \"Direction\": 1.0, \"Period\": \"All Day\", \"Average Scheduled Service (trip minutes)\": 48, \"Average Stop Distance (miles)\": 0.19, \"# scheduled trips\": 176, \"Trips per Hour\": 7.33, \"Date\": \"2023-08-15T00:00:00\", \"# Minutes with 1+ VP per Minute\": 11448, \"# Minutes with 2+ VP per Minute\": 11324, \"Aggregate Actual Service Minutes\": 16779.37, \"Aggregate Scheduled Service Minutes (all trips)\": 8404.0, \"# VP\": 33987, \"# VP within Scheduled Shape\": 31106, \"# Early Arrival Trips\": 1, \"# On-Time Trips\": 21, \"# Late Trips\": 153, \"# Trips with VP\": 175, \"Average VP per Minute\": 2.03, \"% VP within Scheduled Shape\": 92.0, \"% Actual Trip Minutes with 1+ VP per Minute\": 68.0, \"% Actual Trip Minutes with 2+ VP per Minute\": 68.0, \"% Scheduled Trip Minutes with 1+ VP per Minute\": 100.0, \"% Scheduled Trip Minutes with 2+ VP per Minute\": 100.0, \"Realtime versus Scheduled Service Ratio\": 2.0, \"Average Actual Service (Trip Minutes)\": 95.88, \"GTFS Availability\": \"schedule_and_vp\", \"Speed (MPH)\": 7.17, \"Transit Operator\": \"Bay Area 511 Muni Schedule\", \"route_long_name\": \"VAN NESS-MISSION\", \"route_short_name\": \"49\", \"Route\": \"49 VAN NESS-MISSION\", \"Route ID\": \"49\", \"Route typology\": \"downtown_local\", \"schedule_source_record_id\": \"recHD22phgJs34JHP\", \"Base64 Encoded Feed URL\": \"aHR0cHM6Ly9hcGkuNTExLm9yZy90cmFuc2l0L2RhdGFmZWVkcz9vcGVyYXRvcl9pZD1TRg==\", \"Organization ID\": \"rechaapWbeffO33OX\", \"Organization\": \"City and County of San Francisco\", \"District\": \"04 - Oakland\", \"rt_sched_journey_ratio_cat\": \"Late by 50%+ of the scheduled time\", \"vp_per_minute_cat\": \"2-2.9 pings/minute\", \"spatial_accuracy_cat\": \"<50% spatial accuracy\", \"ruler_100_pct\": 100, \"ruler_for_vp_per_min\": 2, \"frequency_in_minutes\": 8.185538881309686, \"Average Scheduled Service (trip minutes)_str\": \"48\"}, {\"schedule_gtfs_dataset_key\": \"7cc0cb1871dfd558f11a2885c145d144\", \"Direction\": 1.0, \"Period\": \"All Day\", \"Average Scheduled Service (trip minutes)\": 48, \"Average Stop Distance (miles)\": 0.19, \"# scheduled trips\": 176, \"Trips per Hour\": 7.33, \"Date\": \"2023-10-11T00:00:00\", \"# Minutes with 1+ VP per Minute\": 11078, \"# Minutes with 2+ VP per Minute\": 10968, \"Aggregate Actual Service Minutes\": 17835.01, \"Aggregate Scheduled Service Minutes (all trips)\": 8299.0, \"# VP\": 32872, \"# VP within Scheduled Shape\": 30132, \"# Early Arrival Trips\": 4, \"# On-Time Trips\": 36, \"# Late Trips\": 133, \"# Trips with VP\": 173, \"Average VP per Minute\": 1.84, \"% VP within Scheduled Shape\": 92.0, \"% Actual Trip Minutes with 1+ VP per Minute\": 62.0, \"% Actual Trip Minutes with 2+ VP per Minute\": 62.0, \"% Scheduled Trip Minutes with 1+ VP per Minute\": 100.0, \"% Scheduled Trip Minutes with 2+ VP per Minute\": 100.0, \"Realtime versus Scheduled Service Ratio\": 2.15, \"Average Actual Service (Trip Minutes)\": 103.09, \"GTFS Availability\": \"schedule_and_vp\", \"Speed (MPH)\": 7.09, \"Transit Operator\": \"Bay Area 511 Muni Schedule\", \"route_long_name\": \"VAN NESS-MISSION\", \"route_short_name\": \"49\", \"Route\": \"49 VAN NESS-MISSION\", \"Route ID\": \"49\", \"Route typology\": \"downtown_local\", \"schedule_source_record_id\": \"recHD22phgJs34JHP\", \"Base64 Encoded Feed URL\": \"aHR0cHM6Ly9hcGkuNTExLm9yZy90cmFuc2l0L2RhdGFmZWVkcz9vcGVyYXRvcl9pZD1TRg==\", \"Organization ID\": \"rechaapWbeffO33OX\", \"Organization\": \"City and County of San Francisco\", \"District\": \"04 - Oakland\", \"rt_sched_journey_ratio_cat\": \"Late by 50%+ of the scheduled time\", \"vp_per_minute_cat\": \"<2 pings/minute\", \"spatial_accuracy_cat\": \"<50% spatial accuracy\", \"ruler_100_pct\": 100, \"ruler_for_vp_per_min\": 2, \"frequency_in_minutes\": 8.185538881309686, \"Average Scheduled Service (trip minutes)_str\": \"48\"}, {\"schedule_gtfs_dataset_key\": \"7cc0cb1871dfd558f11a2885c145d144\", \"Direction\": 1.0, \"Period\": \"All Day\", \"Average Scheduled Service (trip minutes)\": 48, \"Average Stop Distance (miles)\": 0.19, \"# scheduled trips\": 176, \"Trips per Hour\": 7.33, \"Date\": \"2023-11-15T00:00:00\", \"# Minutes with 1+ VP per Minute\": 11299, \"# Minutes with 2+ VP per Minute\": 11202, \"Aggregate Actual Service Minutes\": 18188.82, \"Aggregate Scheduled Service Minutes (all trips)\": 8403.0, \"# VP\": 33585, \"# VP within Scheduled Shape\": 30850, \"# Early Arrival Trips\": 3, \"# On-Time Trips\": 17, \"# Late Trips\": 155, \"# Trips with VP\": 175, \"Average VP per Minute\": 1.85, \"% VP within Scheduled Shape\": 92.0, \"% Actual Trip Minutes with 1+ VP per Minute\": 62.0, \"% Actual Trip Minutes with 2+ VP per Minute\": 62.0, \"% Scheduled Trip Minutes with 1+ VP per Minute\": 100.0, \"% Scheduled Trip Minutes with 2+ VP per Minute\": 100.0, \"Realtime versus Scheduled Service Ratio\": 2.16, \"Average Actual Service (Trip Minutes)\": 103.94, \"GTFS Availability\": \"schedule_and_vp\", \"Speed (MPH)\": 7.09, \"Transit Operator\": \"Bay Area 511 Muni Schedule\", \"route_long_name\": \"VAN NESS-MISSION\", \"route_short_name\": \"49\", \"Route\": \"49 VAN NESS-MISSION\", \"Route ID\": \"49\", \"Route typology\": \"downtown_local\", \"schedule_source_record_id\": \"recHD22phgJs34JHP\", \"Base64 Encoded Feed URL\": \"aHR0cHM6Ly9hcGkuNTExLm9yZy90cmFuc2l0L2RhdGFmZWVkcz9vcGVyYXRvcl9pZD1TRg==\", \"Organization ID\": \"rechaapWbeffO33OX\", \"Organization\": \"City and County of San Francisco\", \"District\": \"04 - Oakland\", \"rt_sched_journey_ratio_cat\": \"Late by 50%+ of the scheduled time\", \"vp_per_minute_cat\": \"<2 pings/minute\", \"spatial_accuracy_cat\": \"<50% spatial accuracy\", \"ruler_100_pct\": 100, \"ruler_for_vp_per_min\": 2, \"frequency_in_minutes\": 8.185538881309686, \"Average Scheduled Service (trip minutes)_str\": \"48\"}, {\"schedule_gtfs_dataset_key\": \"7cc0cb1871dfd558f11a2885c145d144\", \"Direction\": 1.0, \"Period\": \"All Day\", \"Average Scheduled Service (trip minutes)\": 48, \"Average Stop Distance (miles)\": 0.19, \"# scheduled trips\": 176, \"Trips per Hour\": 7.33, \"Date\": \"2023-12-13T00:00:00\", \"# Minutes with 1+ VP per Minute\": 11297, \"# Minutes with 2+ VP per Minute\": 11195, \"Aggregate Actual Service Minutes\": 18131.89, \"Aggregate Scheduled Service Minutes (all trips)\": 8403.0, \"# VP\": 33567, \"# VP within Scheduled Shape\": 30472, \"# Early Arrival Trips\": 2, \"# On-Time Trips\": 20, \"# Late Trips\": 153, \"# Trips with VP\": 175, \"Average VP per Minute\": 1.85, \"% VP within Scheduled Shape\": 91.0, \"% Actual Trip Minutes with 1+ VP per Minute\": 62.0, \"% Actual Trip Minutes with 2+ VP per Minute\": 62.0, \"% Scheduled Trip Minutes with 1+ VP per Minute\": 100.0, \"% Scheduled Trip Minutes with 2+ VP per Minute\": 100.0, \"Realtime versus Scheduled Service Ratio\": 2.16, \"Average Actual Service (Trip Minutes)\": 103.61, \"GTFS Availability\": \"schedule_and_vp\", \"Speed (MPH)\": 7.13, \"Transit Operator\": \"Bay Area 511 Muni Schedule\", \"route_long_name\": \"VAN NESS-MISSION\", \"route_short_name\": \"49\", \"Route\": \"49 VAN NESS-MISSION\", \"Route ID\": \"49\", \"Route typology\": \"downtown_local\", \"schedule_source_record_id\": \"recHD22phgJs34JHP\", \"Base64 Encoded Feed URL\": \"aHR0cHM6Ly9hcGkuNTExLm9yZy90cmFuc2l0L2RhdGFmZWVkcz9vcGVyYXRvcl9pZD1TRg==\", \"Organization ID\": \"rechaapWbeffO33OX\", \"Organization\": \"City and County of San Francisco\", \"District\": \"04 - Oakland\", \"rt_sched_journey_ratio_cat\": \"Late by 50%+ of the scheduled time\", \"vp_per_minute_cat\": \"<2 pings/minute\", \"spatial_accuracy_cat\": \"<50% spatial accuracy\", \"ruler_100_pct\": 100, \"ruler_for_vp_per_min\": 2, \"frequency_in_minutes\": 8.185538881309686, \"Average Scheduled Service (trip minutes)_str\": \"48\"}, {\"schedule_gtfs_dataset_key\": \"7cc0cb1871dfd558f11a2885c145d144\", \"Direction\": 1.0, \"Period\": \"All Day\", \"Average Scheduled Service (trip minutes)\": 48, \"Average Stop Distance (miles)\": 0.19, \"# scheduled trips\": 176, \"Trips per Hour\": 7.33, \"Date\": \"2024-01-17T00:00:00\", \"# Minutes with 1+ VP per Minute\": 10952, \"# Minutes with 2+ VP per Minute\": 10843, \"Aggregate Actual Service Minutes\": 16374.0, \"Aggregate Scheduled Service Minutes (all trips)\": 8456.0, \"# VP\": 32505, \"# VP within Scheduled Shape\": 30885, \"# Early Arrival Trips\": 3, \"# On-Time Trips\": 28, \"# Late Trips\": 145, \"# Trips with VP\": 176, \"Average VP per Minute\": 1.99, \"% VP within Scheduled Shape\": 95.0, \"% Actual Trip Minutes with 1+ VP per Minute\": 67.0, \"% Actual Trip Minutes with 2+ VP per Minute\": 66.0, \"% Scheduled Trip Minutes with 1+ VP per Minute\": 100.0, \"% Scheduled Trip Minutes with 2+ VP per Minute\": 100.0, \"Realtime versus Scheduled Service Ratio\": 1.94, \"Average Actual Service (Trip Minutes)\": 93.03, \"GTFS Availability\": \"schedule_and_vp\", \"Speed (MPH)\": 7.27, \"Transit Operator\": \"Bay Area 511 Muni Schedule\", \"route_long_name\": \"VAN NESS-MISSION\", \"route_short_name\": \"49\", \"Route\": \"49 VAN NESS-MISSION\", \"Route ID\": \"49\", \"Route typology\": \"downtown_local\", \"schedule_source_record_id\": \"recHD22phgJs34JHP\", \"Base64 Encoded Feed URL\": \"aHR0cHM6Ly9hcGkuNTExLm9yZy90cmFuc2l0L2RhdGFmZWVkcz9vcGVyYXRvcl9pZD1TRg==\", \"Organization ID\": \"rechaapWbeffO33OX\", \"Organization\": \"City and County of San Francisco\", \"District\": \"04 - Oakland\", \"rt_sched_journey_ratio_cat\": \"Late by 50%+ of the scheduled time\", \"vp_per_minute_cat\": \"<2 pings/minute\", \"spatial_accuracy_cat\": \"<50% spatial accuracy\", \"ruler_100_pct\": 100, \"ruler_for_vp_per_min\": 2, \"frequency_in_minutes\": 8.185538881309686, \"Average Scheduled Service (trip minutes)_str\": \"48\"}, {\"schedule_gtfs_dataset_key\": \"7cc0cb1871dfd558f11a2885c145d144\", \"Direction\": 1.0, \"Period\": \"All Day\", \"Average Scheduled Service (trip minutes)\": 47, \"Average Stop Distance (miles)\": 0.19, \"# scheduled trips\": 169, \"Trips per Hour\": 7.04, \"Date\": \"2024-02-14T00:00:00\", \"# Minutes with 1+ VP per Minute\": 9989, \"# Minutes with 2+ VP per Minute\": 9877, \"Aggregate Actual Service Minutes\": 15497.35, \"Aggregate Scheduled Service Minutes (all trips)\": 8079.0, \"# VP\": 29610, \"# VP within Scheduled Shape\": 27087, \"# Early Arrival Trips\": 4, \"# On-Time Trips\": 57, \"# Late Trips\": 108, \"# Trips with VP\": 169, \"Average VP per Minute\": 1.91, \"% VP within Scheduled Shape\": 92.0, \"% Actual Trip Minutes with 1+ VP per Minute\": 64.0, \"% Actual Trip Minutes with 2+ VP per Minute\": 64.0, \"% Scheduled Trip Minutes with 1+ VP per Minute\": 100.0, \"% Scheduled Trip Minutes with 2+ VP per Minute\": 100.0, \"Realtime versus Scheduled Service Ratio\": 1.92, \"Average Actual Service (Trip Minutes)\": 91.7, \"GTFS Availability\": \"schedule_and_vp\", \"Speed (MPH)\": 7.82, \"Transit Operator\": \"Bay Area 511 Muni Schedule\", \"route_long_name\": \"VAN NESS-MISSION\", \"route_short_name\": \"49\", \"Route\": \"49 VAN NESS-MISSION\", \"Route ID\": \"49\", \"Route typology\": \"downtown_local\", \"schedule_source_record_id\": \"recHD22phgJs34JHP\", \"Base64 Encoded Feed URL\": \"aHR0cHM6Ly9hcGkuNTExLm9yZy90cmFuc2l0L2RhdGFmZWVkcz9vcGVyYXRvcl9pZD1TRg==\", \"Organization ID\": \"rechaapWbeffO33OX\", \"Organization\": \"City and County of San Francisco\", \"District\": \"04 - Oakland\", \"rt_sched_journey_ratio_cat\": \"Late by 50%+ of the scheduled time\", \"vp_per_minute_cat\": \"<2 pings/minute\", \"spatial_accuracy_cat\": \"<50% spatial accuracy\", \"ruler_100_pct\": 100, \"ruler_for_vp_per_min\": 2, \"frequency_in_minutes\": 8.522727272727273, \"Average Scheduled Service (trip minutes)_str\": \"47\"}, {\"schedule_gtfs_dataset_key\": \"7cc0cb1871dfd558f11a2885c145d144\", \"Direction\": 1.0, \"Period\": \"All Day\", \"Average Scheduled Service (trip minutes)\": 47, \"Average Stop Distance (miles)\": 0.19, \"# scheduled trips\": 169, \"Trips per Hour\": 7.04, \"Date\": \"2024-03-13T00:00:00\", \"# Minutes with 1+ VP per Minute\": 9852, \"# Minutes with 2+ VP per Minute\": 9748, \"Aggregate Actual Service Minutes\": 15325.25, \"Aggregate Scheduled Service Minutes (all trips)\": 7672.0, \"# VP\": 29217, \"# VP within Scheduled Shape\": 26044, \"# Early Arrival Trips\": 5, \"# On-Time Trips\": 36, \"# Late Trips\": 120, \"# Trips with VP\": 161, \"Average VP per Minute\": 1.91, \"% VP within Scheduled Shape\": 89.0, \"% Actual Trip Minutes with 1+ VP per Minute\": 64.0, \"% Actual Trip Minutes with 2+ VP per Minute\": 64.0, \"% Scheduled Trip Minutes with 1+ VP per Minute\": 100.0, \"% Scheduled Trip Minutes with 2+ VP per Minute\": 100.0, \"Realtime versus Scheduled Service Ratio\": 2.0, \"Average Actual Service (Trip Minutes)\": 95.19, \"GTFS Availability\": \"schedule_and_vp\", \"Speed (MPH)\": 7.9, \"Transit Operator\": \"Bay Area 511 Muni Schedule\", \"route_long_name\": \"VAN NESS-MISSION\", \"route_short_name\": \"49\", \"Route\": \"49 VAN NESS-MISSION\", \"Route ID\": \"49\", \"Route typology\": \"downtown_local\", \"schedule_source_record_id\": \"recHD22phgJs34JHP\", \"Base64 Encoded Feed URL\": \"aHR0cHM6Ly9hcGkuNTExLm9yZy90cmFuc2l0L2RhdGFmZWVkcz9vcGVyYXRvcl9pZD1TRg==\", \"Organization ID\": \"rechaapWbeffO33OX\", \"Organization\": \"City and County of San Francisco\", \"District\": \"04 - Oakland\", \"rt_sched_journey_ratio_cat\": \"Late by 50%+ of the scheduled time\", \"vp_per_minute_cat\": \"<2 pings/minute\", \"spatial_accuracy_cat\": \"<50% spatial accuracy\", \"ruler_100_pct\": 100, \"ruler_for_vp_per_min\": 2, \"frequency_in_minutes\": 8.522727272727273, \"Average Scheduled Service (trip minutes)_str\": \"47\"}, {\"schedule_gtfs_dataset_key\": \"7cc0cb1871dfd558f11a2885c145d144\", \"Direction\": 1.0, \"Period\": \"All Day\", \"Average Scheduled Service (trip minutes)\": 47, \"Average Stop Distance (miles)\": 0.19, \"# scheduled trips\": 169, \"Trips per Hour\": 7.04, \"Date\": \"2024-04-17T00:00:00\", \"# Minutes with 1+ VP per Minute\": 10097, \"# Minutes with 2+ VP per Minute\": 9964, \"Aggregate Actual Service Minutes\": 14098.85, \"Aggregate Scheduled Service Minutes (all trips)\": 8079.0, \"# VP\": 29853, \"# VP within Scheduled Shape\": 27011, \"# Early Arrival Trips\": 1, \"# On-Time Trips\": 61, \"# Late Trips\": 107, \"# Trips with VP\": 169, \"Average VP per Minute\": 2.12, \"% VP within Scheduled Shape\": 90.0, \"% Actual Trip Minutes with 1+ VP per Minute\": 72.0, \"% Actual Trip Minutes with 2+ VP per Minute\": 71.0, \"% Scheduled Trip Minutes with 1+ VP per Minute\": 100.0, \"% Scheduled Trip Minutes with 2+ VP per Minute\": 100.0, \"Realtime versus Scheduled Service Ratio\": 1.75, \"Average Actual Service (Trip Minutes)\": 83.43, \"GTFS Availability\": \"schedule_and_vp\", \"Speed (MPH)\": 7.92, \"Transit Operator\": \"Bay Area 511 Muni Schedule\", \"route_long_name\": \"VAN NESS-MISSION\", \"route_short_name\": \"49\", \"Route\": \"49 VAN NESS-MISSION\", \"Route ID\": \"49\", \"Route typology\": \"downtown_local\", \"schedule_source_record_id\": \"recHD22phgJs34JHP\", \"Base64 Encoded Feed URL\": \"aHR0cHM6Ly9hcGkuNTExLm9yZy90cmFuc2l0L2RhdGFmZWVkcz9vcGVyYXRvcl9pZD1TRg==\", \"Organization ID\": \"rechaapWbeffO33OX\", \"Organization\": \"City and County of San Francisco\", \"District\": \"04 - Oakland\", \"rt_sched_journey_ratio_cat\": \"Late by 50%+ of the scheduled time\", \"vp_per_minute_cat\": \"2-2.9 pings/minute\", \"spatial_accuracy_cat\": \"<50% spatial accuracy\", \"ruler_100_pct\": 100, \"ruler_for_vp_per_min\": 2, \"frequency_in_minutes\": 8.522727272727273, \"Average Scheduled Service (trip minutes)_str\": \"47\"}, {\"schedule_gtfs_dataset_key\": \"d8453d9a4ae1184f7e1339f7c61849df\", \"Direction\": 0.0, \"Period\": \"All Day\", \"Average Scheduled Service (trip minutes)\": 53, \"Average Stop Distance (miles)\": 0.19, \"# scheduled trips\": 169, \"Trips per Hour\": 7.04, \"Date\": \"2023-03-15T00:00:00\", \"# Minutes with 1+ VP per Minute\": 11282, \"# Minutes with 2+ VP per Minute\": 11160, \"Aggregate Actual Service Minutes\": 15362.5, \"Aggregate Scheduled Service Minutes (all trips)\": 8896.0, \"# VP\": 33468, \"# VP within Scheduled Shape\": 32703, \"# Early Arrival Trips\": 1, \"# On-Time Trips\": 13, \"# Late Trips\": 153, \"# Trips with VP\": 167, \"Average VP per Minute\": 2.18, \"% VP within Scheduled Shape\": 98.0, \"% Actual Trip Minutes with 1+ VP per Minute\": 73.0, \"% Actual Trip Minutes with 2+ VP per Minute\": 73.0, \"% Scheduled Trip Minutes with 1+ VP per Minute\": 100.0, \"% Scheduled Trip Minutes with 2+ VP per Minute\": 100.0, \"Realtime versus Scheduled Service Ratio\": 1.73, \"Average Actual Service (Trip Minutes)\": 91.99, \"GTFS Availability\": \"schedule_and_vp\", \"Speed (MPH)\": 6.68, \"Transit Operator\": \"Bay Area 511 Muni Schedule\", \"route_long_name\": \"VAN NESS-MISSION\", \"route_short_name\": \"49\", \"Route\": \"49 VAN NESS-MISSION\", \"Route ID\": \"49\", \"Route typology\": \"downtown_local\", \"schedule_source_record_id\": \"recHD22phgJs34JHP\", \"Base64 Encoded Feed URL\": \"aHR0cHM6Ly9hcGkuNTExLm9yZy90cmFuc2l0L2RhdGFmZWVkcz9vcGVyYXRvcl9pZD1TRg==\", \"Organization ID\": \"rechaapWbeffO33OX\", \"Organization\": \"City and County of San Francisco\", \"District\": \"04 - Oakland\", \"rt_sched_journey_ratio_cat\": \"Late by 50%+ of the scheduled time\", \"vp_per_minute_cat\": \"2-2.9 pings/minute\", \"spatial_accuracy_cat\": \"<50% spatial accuracy\", \"ruler_100_pct\": 100, \"ruler_for_vp_per_min\": 2, \"frequency_in_minutes\": 8.522727272727273, \"Average Scheduled Service (trip minutes)_str\": \"53\"}, {\"schedule_gtfs_dataset_key\": \"d8453d9a4ae1184f7e1339f7c61849df\", \"Direction\": 1.0, \"Period\": \"All Day\", \"Average Scheduled Service (trip minutes)\": 48, \"Average Stop Distance (miles)\": 0.19, \"# scheduled trips\": 174, \"Trips per Hour\": 7.25, \"Date\": \"2023-03-15T00:00:00\", \"# Minutes with 1+ VP per Minute\": 11268, \"# Minutes with 2+ VP per Minute\": 11135, \"Aggregate Actual Service Minutes\": 18100.57, \"Aggregate Scheduled Service Minutes (all trips)\": 8403.0, \"# VP\": 33387, \"# VP within Scheduled Shape\": 32166, \"# Early Arrival Trips\": 1, \"# On-Time Trips\": 21, \"# Late Trips\": 151, \"# Trips with VP\": 173, \"Average VP per Minute\": 1.84, \"% VP within Scheduled Shape\": 96.0, \"% Actual Trip Minutes with 1+ VP per Minute\": 62.0, \"% Actual Trip Minutes with 2+ VP per Minute\": 62.0, \"% Scheduled Trip Minutes with 1+ VP per Minute\": 100.0, \"% Scheduled Trip Minutes with 2+ VP per Minute\": 100.0, \"Realtime versus Scheduled Service Ratio\": 2.15, \"Average Actual Service (Trip Minutes)\": 104.63, \"GTFS Availability\": \"schedule_and_vp\", \"Speed (MPH)\": 6.84, \"Transit Operator\": \"Bay Area 511 Muni Schedule\", \"route_long_name\": \"VAN NESS-MISSION\", \"route_short_name\": \"49\", \"Route\": \"49 VAN NESS-MISSION\", \"Route ID\": \"49\", \"Route typology\": \"downtown_local\", \"schedule_source_record_id\": \"recHD22phgJs34JHP\", \"Base64 Encoded Feed URL\": \"aHR0cHM6Ly9hcGkuNTExLm9yZy90cmFuc2l0L2RhdGFmZWVkcz9vcGVyYXRvcl9pZD1TRg==\", \"Organization ID\": \"rechaapWbeffO33OX\", \"Organization\": \"City and County of San Francisco\", \"District\": \"04 - Oakland\", \"rt_sched_journey_ratio_cat\": \"Late by 50%+ of the scheduled time\", \"vp_per_minute_cat\": \"<2 pings/minute\", \"spatial_accuracy_cat\": \"<50% spatial accuracy\", \"ruler_100_pct\": 100, \"ruler_for_vp_per_min\": 2, \"frequency_in_minutes\": 8.275862068965518, \"Average Scheduled Service (trip minutes)_str\": \"48\"}]}}, {\"mode\": \"vega-lite\"});\n",
       "</script>"
      ],
      "text/plain": [
       "alt.Chart(...)"
      ]
     },
     "execution_count": 24,
     "metadata": {},
     "output_type": "execute_result"
    }
   ],
   "source": [
    "grouped_bar_chart(\n",
    "    df=one_route_all_day,\n",
    "    color_col=\"Direction\",\n",
    "    y_col=\"Average Scheduled Service (trip minutes)\",\n",
    "    offset_col=\"Direction\",\n",
    "    title=readable_dict[\"avg_scheduled_min_graph\"][\"title\"],\n",
    "    subtitle=readable_dict[\"avg_scheduled_min_graph\"][\"subtitle\"],\n",
    ")"
   ]
  },
  {
   "cell_type": "markdown",
   "id": "ec0b7515-e215-4f77-87f6-7560954e50f8",
   "metadata": {
    "toc-hr-collapsed": true
   },
   "source": [
    "#### Timeliness #2 (Done)"
   ]
  },
  {
   "cell_type": "code",
   "execution_count": 39,
   "id": "f9ec6644-e357-4ba3-a68d-68edcec77459",
   "metadata": {},
   "outputs": [],
   "source": [
    "def timeliness_trips(df: pd.DataFrame):\n",
    "    to_keep = [\n",
    "        \"Date\",\n",
    "        \"Organization\",\n",
    "        \"Direction\",\n",
    "        \"Period\",\n",
    "        \"Route\",\n",
    "        \"# Early Arrival Trips\",\n",
    "        \"# On-Time Trips\",\n",
    "        \"# Late Trips\",\n",
    "        \"# Trips with VP\",\n",
    "    ]\n",
    "    df = df.loc[df[\"Period\"] != \"all_day\"]\n",
    "    df2 = df[to_keep]\n",
    "\n",
    "    melted_df = df2.melt(\n",
    "        id_vars=[\n",
    "            \"Date\",\n",
    "            \"Organization\",\n",
    "            \"Route\",\n",
    "            \"Period\",\n",
    "            \"Direction\",\n",
    "        ],\n",
    "        value_vars=[\n",
    "            \"# Early Arrival Trips\",\n",
    "            \"# On-Time Trips\",\n",
    "            \"# Late Trips\",\n",
    "        ],\n",
    "    )\n",
    "    return melted_df"
   ]
  },
  {
   "cell_type": "code",
   "execution_count": 40,
   "id": "39350434-89e0-4abc-9b60-3d5b1bd9c0c5",
   "metadata": {},
   "outputs": [],
   "source": [
    "timeliness = timeliness_trips(one_route)"
   ]
  },
  {
   "cell_type": "code",
   "execution_count": 41,
   "id": "a4a3f0ac-9801-4a08-87aa-c31162120b3b",
   "metadata": {},
   "outputs": [
    {
     "data": {
      "text/plain": [
       "offpeak    78\n",
       "peak       78\n",
       "Name: Period, dtype: int64"
      ]
     },
     "execution_count": 41,
     "metadata": {},
     "output_type": "execute_result"
    }
   ],
   "source": [
    "timeliness[\"Period\"].value_counts()"
   ]
  },
  {
   "cell_type": "code",
   "execution_count": 42,
   "id": "724ace4b-3067-4f2c-aa8d-18c60205d9d8",
   "metadata": {},
   "outputs": [],
   "source": [
    "def base_facet_chart(\n",
    "    df: pd.DataFrame,\n",
    "    y_col: str,\n",
    "    color_col: str,\n",
    "    facet_col: str,\n",
    "    title: str,\n",
    "    subtitle: str,\n",
    "):\n",
    "    tooltip_cols = [\n",
    "        \"Direction\",\n",
    "        \"Period\",\n",
    "        \"Route\",\n",
    "        \"Organization\",\n",
    "        \"Date\",\n",
    "        y_col,\n",
    "        color_col,\n",
    "    ]\n",
    "\n",
    "    if len(df) == 0:\n",
    "        text_chart = section2.create_data_unavailable_chart()\n",
    "        return text_chart\n",
    "    else:\n",
    "        if \"%\" in y_col:\n",
    "            max_y = 100\n",
    "        elif \"Minute\" in y_col:\n",
    "            max_y = round(df[y_col].max())\n",
    "        else:\n",
    "            max_y = round(df[y_col].max(), -1) + 5\n",
    "        df = section2.clean_data_charts(df,y_col)\n",
    "        chart = (\n",
    "            (\n",
    "                alt.Chart(df)\n",
    "                .mark_bar(size=15, clip=True)\n",
    "                .encode(\n",
    "                    x=alt.X(\n",
    "                        \"yearmonthdate(Date):O\",\n",
    "                        title=[\"Date\"],\n",
    "                        axis=alt.Axis(labelAngle=-45, format=\"%b %Y\"),\n",
    "                    ),\n",
    "                    y=alt.Y(\n",
    "                        f\"{y_col}:Q\",\n",
    "                        title=_report_utils.labeling(y_col),\n",
    "                        scale=alt.Scale(domain=[0, max_y]),\n",
    "                    ),\n",
    "                    color=alt.Color(\n",
    "                        f\"{color_col}:N\",\n",
    "                        title=_report_utils.labeling(color_col),\n",
    "                        scale=alt.Scale(range=_report_utils.red_green_yellow),\n",
    "                    ),\n",
    "                    tooltip=tooltip_cols,\n",
    "                )\n",
    "            )\n",
    "            .facet(\n",
    "                column=alt.Column(\n",
    "                    f\"{facet_col}:N\",\n",
    "                )\n",
    "            )\n",
    "            .properties(\n",
    "                title={\n",
    "                    \"text\": title,\n",
    "                    \"subtitle\": subtitle,\n",
    "                }\n",
    "            )\n",
    "        )\n",
    "        return chart"
   ]
  },
  {
   "cell_type": "code",
   "execution_count": 43,
   "id": "fb382204-d8f8-414d-9eb5-ac2cee02d912",
   "metadata": {},
   "outputs": [
    {
     "name": "stderr",
     "output_type": "stream",
     "text": [
      "/home/jovyan/data-analyses/gtfs_digest/_section2_utils.py:269: SettingWithCopyWarning: \n",
      "A value is trying to be set on a copy of a slice from a DataFrame.\n",
      "Try using .loc[row_indexer,col_indexer] = value instead\n",
      "\n",
      "See the caveats in the documentation: https://pandas.pydata.org/pandas-docs/stable/user_guide/indexing.html#returning-a-view-versus-a-copy\n",
      "  df[\"Period\"] = df[\"Period\"].str.replace(\"_\", \" \").str.title()\n",
      "/home/jovyan/data-analyses/gtfs_digest/_section2_utils.py:271: SettingWithCopyWarning: \n",
      "A value is trying to be set on a copy of a slice from a DataFrame.\n",
      "Try using .loc[row_indexer,col_indexer] = value instead\n",
      "\n",
      "See the caveats in the documentation: https://pandas.pydata.org/pandas-docs/stable/user_guide/indexing.html#returning-a-view-versus-a-copy\n",
      "  df[y_col] = df[y_col].fillna(0).astype(int)\n",
      "/home/jovyan/data-analyses/gtfs_digest/_section2_utils.py:272: SettingWithCopyWarning: \n",
      "A value is trying to be set on a copy of a slice from a DataFrame.\n",
      "Try using .loc[row_indexer,col_indexer] = value instead\n",
      "\n",
      "See the caveats in the documentation: https://pandas.pydata.org/pandas-docs/stable/user_guide/indexing.html#returning-a-view-versus-a-copy\n",
      "  df[f\"{y_col}_str\"] = df[y_col].astype(str)\n"
     ]
    },
    {
     "data": {
      "text/html": [
       "\n",
       "<style>\n",
       "  #altair-viz-d5bdf5755aa14302bf8cd1c0af2afc24.vega-embed {\n",
       "    width: 100%;\n",
       "    display: flex;\n",
       "  }\n",
       "\n",
       "  #altair-viz-d5bdf5755aa14302bf8cd1c0af2afc24.vega-embed details,\n",
       "  #altair-viz-d5bdf5755aa14302bf8cd1c0af2afc24.vega-embed details summary {\n",
       "    position: relative;\n",
       "  }\n",
       "</style>\n",
       "<div id=\"altair-viz-d5bdf5755aa14302bf8cd1c0af2afc24\"></div>\n",
       "<script type=\"text/javascript\">\n",
       "  var VEGA_DEBUG = (typeof VEGA_DEBUG == \"undefined\") ? {} : VEGA_DEBUG;\n",
       "  (function(spec, embedOpt){\n",
       "    let outputDiv = document.currentScript.previousElementSibling;\n",
       "    if (outputDiv.id !== \"altair-viz-d5bdf5755aa14302bf8cd1c0af2afc24\") {\n",
       "      outputDiv = document.getElementById(\"altair-viz-d5bdf5755aa14302bf8cd1c0af2afc24\");\n",
       "    }\n",
       "    const paths = {\n",
       "      \"vega\": \"https://cdn.jsdelivr.net/npm/vega@5?noext\",\n",
       "      \"vega-lib\": \"https://cdn.jsdelivr.net/npm/vega-lib?noext\",\n",
       "      \"vega-lite\": \"https://cdn.jsdelivr.net/npm/vega-lite@5.14.1?noext\",\n",
       "      \"vega-embed\": \"https://cdn.jsdelivr.net/npm/vega-embed@6?noext\",\n",
       "    };\n",
       "\n",
       "    function maybeLoadScript(lib, version) {\n",
       "      var key = `${lib.replace(\"-\", \"\")}_version`;\n",
       "      return (VEGA_DEBUG[key] == version) ?\n",
       "        Promise.resolve(paths[lib]) :\n",
       "        new Promise(function(resolve, reject) {\n",
       "          var s = document.createElement('script');\n",
       "          document.getElementsByTagName(\"head\")[0].appendChild(s);\n",
       "          s.async = true;\n",
       "          s.onload = () => {\n",
       "            VEGA_DEBUG[key] = version;\n",
       "            return resolve(paths[lib]);\n",
       "          };\n",
       "          s.onerror = () => reject(`Error loading script: ${paths[lib]}`);\n",
       "          s.src = paths[lib];\n",
       "        });\n",
       "    }\n",
       "\n",
       "    function showError(err) {\n",
       "      outputDiv.innerHTML = `<div class=\"error\" style=\"color:red;\">${err}</div>`;\n",
       "      throw err;\n",
       "    }\n",
       "\n",
       "    function displayChart(vegaEmbed) {\n",
       "      vegaEmbed(outputDiv, spec, embedOpt)\n",
       "        .catch(err => showError(`Javascript Error: ${err.message}<br>This usually means there's a typo in your chart specification. See the javascript console for the full traceback.`));\n",
       "    }\n",
       "\n",
       "    if(typeof define === \"function\" && define.amd) {\n",
       "      requirejs.config({paths});\n",
       "      require([\"vega-embed\"], displayChart, err => showError(`Error loading script: ${err.message}`));\n",
       "    } else {\n",
       "      maybeLoadScript(\"vega\", \"5\")\n",
       "        .then(() => maybeLoadScript(\"vega-lite\", \"5.14.1\"))\n",
       "        .then(() => maybeLoadScript(\"vega-embed\", \"6\"))\n",
       "        .catch(showError)\n",
       "        .then(() => displayChart(vegaEmbed));\n",
       "    }\n",
       "  })({\"config\": {\"view\": {\"continuousWidth\": 300, \"continuousHeight\": 300}}, \"data\": {\"name\": \"data-949bcdebce4bc2563b26542650da6ba8\"}, \"facet\": {\"column\": {\"field\": \"Period\", \"type\": \"nominal\"}}, \"spec\": {\"mark\": {\"type\": \"bar\", \"clip\": true, \"size\": 15}, \"encoding\": {\"color\": {\"field\": \"variable\", \"scale\": {\"range\": [\"#ec5d3b\", \"#fde18d\", \"#7cc665\"]}, \"title\": \"Variable\", \"type\": \"nominal\"}, \"tooltip\": [{\"field\": \"Direction\", \"type\": \"quantitative\"}, {\"field\": \"Period\", \"type\": \"nominal\"}, {\"field\": \"Route\", \"type\": \"nominal\"}, {\"field\": \"Organization\", \"type\": \"nominal\"}, {\"field\": \"Date\", \"type\": \"temporal\"}, {\"field\": \"value\", \"type\": \"quantitative\"}, {\"field\": \"variable\", \"type\": \"nominal\"}], \"x\": {\"axis\": {\"format\": \"%b %Y\", \"labelAngle\": -45}, \"field\": \"Date\", \"timeUnit\": \"yearmonthdate\", \"title\": [\"Date\"], \"type\": \"ordinal\"}, \"y\": {\"field\": \"value\", \"scale\": {\"domain\": [0, 95]}, \"title\": \"Value\", \"type\": \"quantitative\"}}}, \"title\": {\"text\": \"Breakdown of Trips by Categories for Direction 1\", \"subtitle\": \"Categorizing whether a trip is early, late, or ontime. A trip is on time if it arrives 5 minutes later or earlier than scheduled.\"}, \"$schema\": \"https://vega.github.io/schema/vega-lite/v5.14.1.json\", \"datasets\": {\"data-949bcdebce4bc2563b26542650da6ba8\": [{\"Date\": \"2023-04-12T00:00:00\", \"Organization\": \"City and County of San Francisco\", \"Route\": \"49 VAN NESS-MISSION\", \"Period\": \"Offpeak\", \"Direction\": 1.0, \"variable\": \"# Early Arrival Trips\", \"value\": 1, \"value_str\": \"1\"}, {\"Date\": \"2023-05-17T00:00:00\", \"Organization\": \"City and County of San Francisco\", \"Route\": \"49 VAN NESS-MISSION\", \"Period\": \"Offpeak\", \"Direction\": 1.0, \"variable\": \"# Early Arrival Trips\", \"value\": 0, \"value_str\": \"0\"}, {\"Date\": \"2023-06-14T00:00:00\", \"Organization\": \"City and County of San Francisco\", \"Route\": \"49 VAN NESS-MISSION\", \"Period\": \"Offpeak\", \"Direction\": 1.0, \"variable\": \"# Early Arrival Trips\", \"value\": 2, \"value_str\": \"2\"}, {\"Date\": \"2023-07-12T00:00:00\", \"Organization\": \"City and County of San Francisco\", \"Route\": \"49 VAN NESS-MISSION\", \"Period\": \"Offpeak\", \"Direction\": 1.0, \"variable\": \"# Early Arrival Trips\", \"value\": 1, \"value_str\": \"1\"}, {\"Date\": \"2023-08-15T00:00:00\", \"Organization\": \"City and County of San Francisco\", \"Route\": \"49 VAN NESS-MISSION\", \"Period\": \"Offpeak\", \"Direction\": 1.0, \"variable\": \"# Early Arrival Trips\", \"value\": 1, \"value_str\": \"1\"}, {\"Date\": \"2023-10-11T00:00:00\", \"Organization\": \"City and County of San Francisco\", \"Route\": \"49 VAN NESS-MISSION\", \"Period\": \"Offpeak\", \"Direction\": 1.0, \"variable\": \"# Early Arrival Trips\", \"value\": 2, \"value_str\": \"2\"}, {\"Date\": \"2023-11-15T00:00:00\", \"Organization\": \"City and County of San Francisco\", \"Route\": \"49 VAN NESS-MISSION\", \"Period\": \"Offpeak\", \"Direction\": 1.0, \"variable\": \"# Early Arrival Trips\", \"value\": 2, \"value_str\": \"2\"}, {\"Date\": \"2023-12-13T00:00:00\", \"Organization\": \"City and County of San Francisco\", \"Route\": \"49 VAN NESS-MISSION\", \"Period\": \"Offpeak\", \"Direction\": 1.0, \"variable\": \"# Early Arrival Trips\", \"value\": 1, \"value_str\": \"1\"}, {\"Date\": \"2024-01-17T00:00:00\", \"Organization\": \"City and County of San Francisco\", \"Route\": \"49 VAN NESS-MISSION\", \"Period\": \"Offpeak\", \"Direction\": 1.0, \"variable\": \"# Early Arrival Trips\", \"value\": 1, \"value_str\": \"1\"}, {\"Date\": \"2024-02-14T00:00:00\", \"Organization\": \"City and County of San Francisco\", \"Route\": \"49 VAN NESS-MISSION\", \"Period\": \"Offpeak\", \"Direction\": 1.0, \"variable\": \"# Early Arrival Trips\", \"value\": 4, \"value_str\": \"4\"}, {\"Date\": \"2024-03-13T00:00:00\", \"Organization\": \"City and County of San Francisco\", \"Route\": \"49 VAN NESS-MISSION\", \"Period\": \"Offpeak\", \"Direction\": 1.0, \"variable\": \"# Early Arrival Trips\", \"value\": 2, \"value_str\": \"2\"}, {\"Date\": \"2024-04-17T00:00:00\", \"Organization\": \"City and County of San Francisco\", \"Route\": \"49 VAN NESS-MISSION\", \"Period\": \"Offpeak\", \"Direction\": 1.0, \"variable\": \"# Early Arrival Trips\", \"value\": 1, \"value_str\": \"1\"}, {\"Date\": \"2023-04-12T00:00:00\", \"Organization\": \"City and County of San Francisco\", \"Route\": \"49 VAN NESS-MISSION\", \"Period\": \"Peak\", \"Direction\": 1.0, \"variable\": \"# Early Arrival Trips\", \"value\": 5, \"value_str\": \"5\"}, {\"Date\": \"2023-05-17T00:00:00\", \"Organization\": \"City and County of San Francisco\", \"Route\": \"49 VAN NESS-MISSION\", \"Period\": \"Peak\", \"Direction\": 1.0, \"variable\": \"# Early Arrival Trips\", \"value\": 2, \"value_str\": \"2\"}, {\"Date\": \"2023-06-14T00:00:00\", \"Organization\": \"City and County of San Francisco\", \"Route\": \"49 VAN NESS-MISSION\", \"Period\": \"Peak\", \"Direction\": 1.0, \"variable\": \"# Early Arrival Trips\", \"value\": 2, \"value_str\": \"2\"}, {\"Date\": \"2023-07-12T00:00:00\", \"Organization\": \"City and County of San Francisco\", \"Route\": \"49 VAN NESS-MISSION\", \"Period\": \"Peak\", \"Direction\": 1.0, \"variable\": \"# Early Arrival Trips\", \"value\": 0, \"value_str\": \"0\"}, {\"Date\": \"2023-08-15T00:00:00\", \"Organization\": \"City and County of San Francisco\", \"Route\": \"49 VAN NESS-MISSION\", \"Period\": \"Peak\", \"Direction\": 1.0, \"variable\": \"# Early Arrival Trips\", \"value\": 0, \"value_str\": \"0\"}, {\"Date\": \"2023-10-11T00:00:00\", \"Organization\": \"City and County of San Francisco\", \"Route\": \"49 VAN NESS-MISSION\", \"Period\": \"Peak\", \"Direction\": 1.0, \"variable\": \"# Early Arrival Trips\", \"value\": 2, \"value_str\": \"2\"}, {\"Date\": \"2023-11-15T00:00:00\", \"Organization\": \"City and County of San Francisco\", \"Route\": \"49 VAN NESS-MISSION\", \"Period\": \"Peak\", \"Direction\": 1.0, \"variable\": \"# Early Arrival Trips\", \"value\": 1, \"value_str\": \"1\"}, {\"Date\": \"2023-12-13T00:00:00\", \"Organization\": \"City and County of San Francisco\", \"Route\": \"49 VAN NESS-MISSION\", \"Period\": \"Peak\", \"Direction\": 1.0, \"variable\": \"# Early Arrival Trips\", \"value\": 1, \"value_str\": \"1\"}, {\"Date\": \"2024-01-17T00:00:00\", \"Organization\": \"City and County of San Francisco\", \"Route\": \"49 VAN NESS-MISSION\", \"Period\": \"Peak\", \"Direction\": 1.0, \"variable\": \"# Early Arrival Trips\", \"value\": 2, \"value_str\": \"2\"}, {\"Date\": \"2024-02-14T00:00:00\", \"Organization\": \"City and County of San Francisco\", \"Route\": \"49 VAN NESS-MISSION\", \"Period\": \"Peak\", \"Direction\": 1.0, \"variable\": \"# Early Arrival Trips\", \"value\": 0, \"value_str\": \"0\"}, {\"Date\": \"2024-03-13T00:00:00\", \"Organization\": \"City and County of San Francisco\", \"Route\": \"49 VAN NESS-MISSION\", \"Period\": \"Peak\", \"Direction\": 1.0, \"variable\": \"# Early Arrival Trips\", \"value\": 3, \"value_str\": \"3\"}, {\"Date\": \"2024-04-17T00:00:00\", \"Organization\": \"City and County of San Francisco\", \"Route\": \"49 VAN NESS-MISSION\", \"Period\": \"Peak\", \"Direction\": 1.0, \"variable\": \"# Early Arrival Trips\", \"value\": 0, \"value_str\": \"0\"}, {\"Date\": \"2023-03-15T00:00:00\", \"Organization\": \"City and County of San Francisco\", \"Route\": \"49 VAN NESS-MISSION\", \"Period\": \"Offpeak\", \"Direction\": 1.0, \"variable\": \"# Early Arrival Trips\", \"value\": 0, \"value_str\": \"0\"}, {\"Date\": \"2023-03-15T00:00:00\", \"Organization\": \"City and County of San Francisco\", \"Route\": \"49 VAN NESS-MISSION\", \"Period\": \"Peak\", \"Direction\": 1.0, \"variable\": \"# Early Arrival Trips\", \"value\": 1, \"value_str\": \"1\"}, {\"Date\": \"2023-04-12T00:00:00\", \"Organization\": \"City and County of San Francisco\", \"Route\": \"49 VAN NESS-MISSION\", \"Period\": \"Offpeak\", \"Direction\": 1.0, \"variable\": \"# On-Time Trips\", \"value\": 11, \"value_str\": \"11\"}, {\"Date\": \"2023-05-17T00:00:00\", \"Organization\": \"City and County of San Francisco\", \"Route\": \"49 VAN NESS-MISSION\", \"Period\": \"Offpeak\", \"Direction\": 1.0, \"variable\": \"# On-Time Trips\", \"value\": 3, \"value_str\": \"3\"}, {\"Date\": \"2023-06-14T00:00:00\", \"Organization\": \"City and County of San Francisco\", \"Route\": \"49 VAN NESS-MISSION\", \"Period\": \"Offpeak\", \"Direction\": 1.0, \"variable\": \"# On-Time Trips\", \"value\": 11, \"value_str\": \"11\"}, {\"Date\": \"2023-07-12T00:00:00\", \"Organization\": \"City and County of San Francisco\", \"Route\": \"49 VAN NESS-MISSION\", \"Period\": \"Offpeak\", \"Direction\": 1.0, \"variable\": \"# On-Time Trips\", \"value\": 9, \"value_str\": \"9\"}, {\"Date\": \"2023-08-15T00:00:00\", \"Organization\": \"City and County of San Francisco\", \"Route\": \"49 VAN NESS-MISSION\", \"Period\": \"Offpeak\", \"Direction\": 1.0, \"variable\": \"# On-Time Trips\", \"value\": 8, \"value_str\": \"8\"}, {\"Date\": \"2023-10-11T00:00:00\", \"Organization\": \"City and County of San Francisco\", \"Route\": \"49 VAN NESS-MISSION\", \"Period\": \"Offpeak\", \"Direction\": 1.0, \"variable\": \"# On-Time Trips\", \"value\": 22, \"value_str\": \"22\"}, {\"Date\": \"2023-11-15T00:00:00\", \"Organization\": \"City and County of San Francisco\", \"Route\": \"49 VAN NESS-MISSION\", \"Period\": \"Offpeak\", \"Direction\": 1.0, \"variable\": \"# On-Time Trips\", \"value\": 11, \"value_str\": \"11\"}, {\"Date\": \"2023-12-13T00:00:00\", \"Organization\": \"City and County of San Francisco\", \"Route\": \"49 VAN NESS-MISSION\", \"Period\": \"Offpeak\", \"Direction\": 1.0, \"variable\": \"# On-Time Trips\", \"value\": 12, \"value_str\": \"12\"}, {\"Date\": \"2024-01-17T00:00:00\", \"Organization\": \"City and County of San Francisco\", \"Route\": \"49 VAN NESS-MISSION\", \"Period\": \"Offpeak\", \"Direction\": 1.0, \"variable\": \"# On-Time Trips\", \"value\": 13, \"value_str\": \"13\"}, {\"Date\": \"2024-02-14T00:00:00\", \"Organization\": \"City and County of San Francisco\", \"Route\": \"49 VAN NESS-MISSION\", \"Period\": \"Offpeak\", \"Direction\": 1.0, \"variable\": \"# On-Time Trips\", \"value\": 28, \"value_str\": \"28\"}, {\"Date\": \"2024-03-13T00:00:00\", \"Organization\": \"City and County of San Francisco\", \"Route\": \"49 VAN NESS-MISSION\", \"Period\": \"Offpeak\", \"Direction\": 1.0, \"variable\": \"# On-Time Trips\", \"value\": 20, \"value_str\": \"20\"}, {\"Date\": \"2024-04-17T00:00:00\", \"Organization\": \"City and County of San Francisco\", \"Route\": \"49 VAN NESS-MISSION\", \"Period\": \"Offpeak\", \"Direction\": 1.0, \"variable\": \"# On-Time Trips\", \"value\": 33, \"value_str\": \"33\"}, {\"Date\": \"2023-04-12T00:00:00\", \"Organization\": \"City and County of San Francisco\", \"Route\": \"49 VAN NESS-MISSION\", \"Period\": \"Peak\", \"Direction\": 1.0, \"variable\": \"# On-Time Trips\", \"value\": 6, \"value_str\": \"6\"}, {\"Date\": \"2023-05-17T00:00:00\", \"Organization\": \"City and County of San Francisco\", \"Route\": \"49 VAN NESS-MISSION\", \"Period\": \"Peak\", \"Direction\": 1.0, \"variable\": \"# On-Time Trips\", \"value\": 2, \"value_str\": \"2\"}, {\"Date\": \"2023-06-14T00:00:00\", \"Organization\": \"City and County of San Francisco\", \"Route\": \"49 VAN NESS-MISSION\", \"Period\": \"Peak\", \"Direction\": 1.0, \"variable\": \"# On-Time Trips\", \"value\": 9, \"value_str\": \"9\"}, {\"Date\": \"2023-07-12T00:00:00\", \"Organization\": \"City and County of San Francisco\", \"Route\": \"49 VAN NESS-MISSION\", \"Period\": \"Peak\", \"Direction\": 1.0, \"variable\": \"# On-Time Trips\", \"value\": 12, \"value_str\": \"12\"}, {\"Date\": \"2023-08-15T00:00:00\", \"Organization\": \"City and County of San Francisco\", \"Route\": \"49 VAN NESS-MISSION\", \"Period\": \"Peak\", \"Direction\": 1.0, \"variable\": \"# On-Time Trips\", \"value\": 13, \"value_str\": \"13\"}, {\"Date\": \"2023-10-11T00:00:00\", \"Organization\": \"City and County of San Francisco\", \"Route\": \"49 VAN NESS-MISSION\", \"Period\": \"Peak\", \"Direction\": 1.0, \"variable\": \"# On-Time Trips\", \"value\": 14, \"value_str\": \"14\"}, {\"Date\": \"2023-11-15T00:00:00\", \"Organization\": \"City and County of San Francisco\", \"Route\": \"49 VAN NESS-MISSION\", \"Period\": \"Peak\", \"Direction\": 1.0, \"variable\": \"# On-Time Trips\", \"value\": 6, \"value_str\": \"6\"}, {\"Date\": \"2023-12-13T00:00:00\", \"Organization\": \"City and County of San Francisco\", \"Route\": \"49 VAN NESS-MISSION\", \"Period\": \"Peak\", \"Direction\": 1.0, \"variable\": \"# On-Time Trips\", \"value\": 8, \"value_str\": \"8\"}, {\"Date\": \"2024-01-17T00:00:00\", \"Organization\": \"City and County of San Francisco\", \"Route\": \"49 VAN NESS-MISSION\", \"Period\": \"Peak\", \"Direction\": 1.0, \"variable\": \"# On-Time Trips\", \"value\": 15, \"value_str\": \"15\"}, {\"Date\": \"2024-02-14T00:00:00\", \"Organization\": \"City and County of San Francisco\", \"Route\": \"49 VAN NESS-MISSION\", \"Period\": \"Peak\", \"Direction\": 1.0, \"variable\": \"# On-Time Trips\", \"value\": 29, \"value_str\": \"29\"}, {\"Date\": \"2024-03-13T00:00:00\", \"Organization\": \"City and County of San Francisco\", \"Route\": \"49 VAN NESS-MISSION\", \"Period\": \"Peak\", \"Direction\": 1.0, \"variable\": \"# On-Time Trips\", \"value\": 16, \"value_str\": \"16\"}, {\"Date\": \"2024-04-17T00:00:00\", \"Organization\": \"City and County of San Francisco\", \"Route\": \"49 VAN NESS-MISSION\", \"Period\": \"Peak\", \"Direction\": 1.0, \"variable\": \"# On-Time Trips\", \"value\": 28, \"value_str\": \"28\"}, {\"Date\": \"2023-03-15T00:00:00\", \"Organization\": \"City and County of San Francisco\", \"Route\": \"49 VAN NESS-MISSION\", \"Period\": \"Offpeak\", \"Direction\": 1.0, \"variable\": \"# On-Time Trips\", \"value\": 16, \"value_str\": \"16\"}, {\"Date\": \"2023-03-15T00:00:00\", \"Organization\": \"City and County of San Francisco\", \"Route\": \"49 VAN NESS-MISSION\", \"Period\": \"Peak\", \"Direction\": 1.0, \"variable\": \"# On-Time Trips\", \"value\": 5, \"value_str\": \"5\"}, {\"Date\": \"2023-04-12T00:00:00\", \"Organization\": \"City and County of San Francisco\", \"Route\": \"49 VAN NESS-MISSION\", \"Period\": \"Offpeak\", \"Direction\": 1.0, \"variable\": \"# Late Trips\", \"value\": 82, \"value_str\": \"82\"}, {\"Date\": \"2023-05-17T00:00:00\", \"Organization\": \"City and County of San Francisco\", \"Route\": \"49 VAN NESS-MISSION\", \"Period\": \"Offpeak\", \"Direction\": 1.0, \"variable\": \"# Late Trips\", \"value\": 91, \"value_str\": \"91\"}, {\"Date\": \"2023-06-14T00:00:00\", \"Organization\": \"City and County of San Francisco\", \"Route\": \"49 VAN NESS-MISSION\", \"Period\": \"Offpeak\", \"Direction\": 1.0, \"variable\": \"# Late Trips\", \"value\": 84, \"value_str\": \"84\"}, {\"Date\": \"2023-07-12T00:00:00\", \"Organization\": \"City and County of San Francisco\", \"Route\": \"49 VAN NESS-MISSION\", \"Period\": \"Offpeak\", \"Direction\": 1.0, \"variable\": \"# Late Trips\", \"value\": 84, \"value_str\": \"84\"}, {\"Date\": \"2023-08-15T00:00:00\", \"Organization\": \"City and County of San Francisco\", \"Route\": \"49 VAN NESS-MISSION\", \"Period\": \"Offpeak\", \"Direction\": 1.0, \"variable\": \"# Late Trips\", \"value\": 87, \"value_str\": \"87\"}, {\"Date\": \"2023-10-11T00:00:00\", \"Organization\": \"City and County of San Francisco\", \"Route\": \"49 VAN NESS-MISSION\", \"Period\": \"Offpeak\", \"Direction\": 1.0, \"variable\": \"# Late Trips\", \"value\": 72, \"value_str\": \"72\"}, {\"Date\": \"2023-11-15T00:00:00\", \"Organization\": \"City and County of San Francisco\", \"Route\": \"49 VAN NESS-MISSION\", \"Period\": \"Offpeak\", \"Direction\": 1.0, \"variable\": \"# Late Trips\", \"value\": 84, \"value_str\": \"84\"}, {\"Date\": \"2023-12-13T00:00:00\", \"Organization\": \"City and County of San Francisco\", \"Route\": \"49 VAN NESS-MISSION\", \"Period\": \"Offpeak\", \"Direction\": 1.0, \"variable\": \"# Late Trips\", \"value\": 84, \"value_str\": \"84\"}, {\"Date\": \"2024-01-17T00:00:00\", \"Organization\": \"City and County of San Francisco\", \"Route\": \"49 VAN NESS-MISSION\", \"Period\": \"Offpeak\", \"Direction\": 1.0, \"variable\": \"# Late Trips\", \"value\": 83, \"value_str\": \"83\"}, {\"Date\": \"2024-02-14T00:00:00\", \"Organization\": \"City and County of San Francisco\", \"Route\": \"49 VAN NESS-MISSION\", \"Period\": \"Offpeak\", \"Direction\": 1.0, \"variable\": \"# Late Trips\", \"value\": 62, \"value_str\": \"62\"}, {\"Date\": \"2024-03-13T00:00:00\", \"Organization\": \"City and County of San Francisco\", \"Route\": \"49 VAN NESS-MISSION\", \"Period\": \"Offpeak\", \"Direction\": 1.0, \"variable\": \"# Late Trips\", \"value\": 69, \"value_str\": \"69\"}, {\"Date\": \"2024-04-17T00:00:00\", \"Organization\": \"City and County of San Francisco\", \"Route\": \"49 VAN NESS-MISSION\", \"Period\": \"Offpeak\", \"Direction\": 1.0, \"variable\": \"# Late Trips\", \"value\": 60, \"value_str\": \"60\"}, {\"Date\": \"2023-04-12T00:00:00\", \"Organization\": \"City and County of San Francisco\", \"Route\": \"49 VAN NESS-MISSION\", \"Period\": \"Peak\", \"Direction\": 1.0, \"variable\": \"# Late Trips\", \"value\": 68, \"value_str\": \"68\"}, {\"Date\": \"2023-05-17T00:00:00\", \"Organization\": \"City and County of San Francisco\", \"Route\": \"49 VAN NESS-MISSION\", \"Period\": \"Peak\", \"Direction\": 1.0, \"variable\": \"# Late Trips\", \"value\": 75, \"value_str\": \"75\"}, {\"Date\": \"2023-06-14T00:00:00\", \"Organization\": \"City and County of San Francisco\", \"Route\": \"49 VAN NESS-MISSION\", \"Period\": \"Peak\", \"Direction\": 1.0, \"variable\": \"# Late Trips\", \"value\": 68, \"value_str\": \"68\"}, {\"Date\": \"2023-07-12T00:00:00\", \"Organization\": \"City and County of San Francisco\", \"Route\": \"49 VAN NESS-MISSION\", \"Period\": \"Peak\", \"Direction\": 1.0, \"variable\": \"# Late Trips\", \"value\": 66, \"value_str\": \"66\"}, {\"Date\": \"2023-08-15T00:00:00\", \"Organization\": \"City and County of San Francisco\", \"Route\": \"49 VAN NESS-MISSION\", \"Period\": \"Peak\", \"Direction\": 1.0, \"variable\": \"# Late Trips\", \"value\": 66, \"value_str\": \"66\"}, {\"Date\": \"2023-10-11T00:00:00\", \"Organization\": \"City and County of San Francisco\", \"Route\": \"49 VAN NESS-MISSION\", \"Period\": \"Peak\", \"Direction\": 1.0, \"variable\": \"# Late Trips\", \"value\": 61, \"value_str\": \"61\"}, {\"Date\": \"2023-11-15T00:00:00\", \"Organization\": \"City and County of San Francisco\", \"Route\": \"49 VAN NESS-MISSION\", \"Period\": \"Peak\", \"Direction\": 1.0, \"variable\": \"# Late Trips\", \"value\": 71, \"value_str\": \"71\"}, {\"Date\": \"2023-12-13T00:00:00\", \"Organization\": \"City and County of San Francisco\", \"Route\": \"49 VAN NESS-MISSION\", \"Period\": \"Peak\", \"Direction\": 1.0, \"variable\": \"# Late Trips\", \"value\": 69, \"value_str\": \"69\"}, {\"Date\": \"2024-01-17T00:00:00\", \"Organization\": \"City and County of San Francisco\", \"Route\": \"49 VAN NESS-MISSION\", \"Period\": \"Peak\", \"Direction\": 1.0, \"variable\": \"# Late Trips\", \"value\": 62, \"value_str\": \"62\"}, {\"Date\": \"2024-02-14T00:00:00\", \"Organization\": \"City and County of San Francisco\", \"Route\": \"49 VAN NESS-MISSION\", \"Period\": \"Peak\", \"Direction\": 1.0, \"variable\": \"# Late Trips\", \"value\": 46, \"value_str\": \"46\"}, {\"Date\": \"2024-03-13T00:00:00\", \"Organization\": \"City and County of San Francisco\", \"Route\": \"49 VAN NESS-MISSION\", \"Period\": \"Peak\", \"Direction\": 1.0, \"variable\": \"# Late Trips\", \"value\": 51, \"value_str\": \"51\"}, {\"Date\": \"2024-04-17T00:00:00\", \"Organization\": \"City and County of San Francisco\", \"Route\": \"49 VAN NESS-MISSION\", \"Period\": \"Peak\", \"Direction\": 1.0, \"variable\": \"# Late Trips\", \"value\": 47, \"value_str\": \"47\"}, {\"Date\": \"2023-03-15T00:00:00\", \"Organization\": \"City and County of San Francisco\", \"Route\": \"49 VAN NESS-MISSION\", \"Period\": \"Offpeak\", \"Direction\": 1.0, \"variable\": \"# Late Trips\", \"value\": 78, \"value_str\": \"78\"}, {\"Date\": \"2023-03-15T00:00:00\", \"Organization\": \"City and County of San Francisco\", \"Route\": \"49 VAN NESS-MISSION\", \"Period\": \"Peak\", \"Direction\": 1.0, \"variable\": \"# Late Trips\", \"value\": 73, \"value_str\": \"73\"}]}}, {\"mode\": \"vega-lite\"});\n",
       "</script>"
      ],
      "text/plain": [
       "alt.FacetChart(...)"
      ]
     },
     "execution_count": 43,
     "metadata": {},
     "output_type": "execute_result"
    }
   ],
   "source": [
    "base_facet_chart(\n",
    "    timeliness.loc[timeliness[\"Direction\"] == 1],\n",
    "    \"value\",\n",
    "    \"variable\",\n",
    "    \"Period\",\n",
    "    readable_dict[\"timeliness_trips_dir_1_graph\"][\"title\"],\n",
    "    readable_dict[\"timeliness_trips_dir_0_graph\"][\"subtitle\"]\n",
    ")"
   ]
  },
  {
   "cell_type": "markdown",
   "id": "793206d1-f1f7-4603-900e-e2bd5ff85619",
   "metadata": {},
   "source": [
    "#### Frequency (Done)\n",
    "* Maybe shouldn't be a chart since there doesn't seem to be a lot of data for this across a lot of the routes?\n",
    "* What does frequency mean?\n",
    "* Simplify down to not take direction_id into consideration?"
   ]
  },
  {
   "cell_type": "code",
   "execution_count": null,
   "id": "9e083c77-e464-435d-9666-c0fd011359fc",
   "metadata": {},
   "outputs": [],
   "source": [
    "def frequency_chart(df: pd.DataFrame):\n",
    "    if len(df) == 0:\n",
    "        text_chart = create_data_unavailable_chart()\n",
    "        return text_chart\n",
    "\n",
    "    else:\n",
    "        chart = (alt.Chart(df, width=180, height=alt.Step(10)).mark_bar().encode(\n",
    "        alt.Y(\n",
    "            \"yearmonthdate(Date):O\",\n",
    "            title=\"Date\",\n",
    "            axis=alt.Axis(format=\"%b %Y\"),\n",
    "        ),\n",
    "        alt.X(\"frequency_in_minutes:Q\", title=_report_utils.labeling(\"frequency_in_minutes\"), axis=None),\n",
    "        alt.Color(\"frequency_in_minutes:Q\", scale=alt.Scale(range=_report_utils.green_red_yellow)).title(\n",
    "            _report_utils.labeling(\"frequency_in_minutes\")\n",
    "        ),\n",
    "        alt.Row(\"Period:N\").title(_report_utils.labeling(\"Period\")).header(labelAngle=0),\n",
    "        alt.Column(\"Direction:N\").title(_report_utils.labeling(\"Direction\")),\n",
    "        tooltip=[\"Date\", \"Frequency in Minutes\", \"Period\", \"Direction\"]\n",
    "    )\n",
    "                )\n",
    "        chart = chart.properties(title=\"Frequency of Trips\")\n",
    "        return chart"
   ]
  },
  {
   "cell_type": "markdown",
   "id": "cad7454c-ceb2-4e30-92d2-bbc43d4e6e1a",
   "metadata": {},
   "source": [
    "#### Speed MPH (Done)\n",
    "* Needs a different type of chart."
   ]
  },
  {
   "cell_type": "code",
   "execution_count": null,
   "id": "7e452d89-d0b7-4730-bebe-3abe2125ca9a",
   "metadata": {},
   "outputs": [],
   "source": [
    "section3.base_facet_line(\n",
    "    one_route,\n",
    "    \"speed_mph\",\n",
    "    \"Average Speed\",\n",
    "    \"The average miles per hour the bus travels by direction and time of day.\",\n",
    ")"
   ]
  },
  {
   "cell_type": "markdown",
   "id": "9dce71b7-204d-42ca-bcb4-13cd3171a387",
   "metadata": {},
   "source": [
    "#### VP per Minute (WIP)\n",
    "* Heatmap too confusing & detailed"
   ]
  },
  {
   "cell_type": "code",
   "execution_count": null,
   "id": "7a6f181d-5223-4e2f-904f-d279a250a92b",
   "metadata": {},
   "outputs": [],
   "source": [
    "def add_background():\n",
    "    # Sample data\n",
    "    data = pd.DataFrame(\n",
    "        {\n",
    "            \"x\": range(9),\n",
    "            \"y\": [\n",
    "                0,\n",
    "                0.5,\n",
    "                1.5,\n",
    "                2.5,\n",
    "                3.5,\n",
    "                2,\n",
    "                1,\n",
    "                3,\n",
    "                4,\n",
    "            ],\n",
    "        }\n",
    "    )\n",
    "\n",
    "    # Background rectangle for color bands\n",
    "    bg_chart = (\n",
    "        alt.Chart(data)\n",
    "        .mark_rect()\n",
    "        .encode(\n",
    "            y=alt.Y(\"y:Q\", axis=None),\n",
    "            y2=\"y2:Q\",\n",
    "            color=alt.Color(\"y:Q\", scale=alt.Scale(range=red_green_yellow)),\n",
    "            opacity=alt.value(0.2),  # Adjust opacity as needed\n",
    "        )\n",
    "        .transform_calculate(y2=\"datum.y + 1\")\n",
    "    )\n",
    "\n",
    "    return bg_chart"
   ]
  },
  {
   "cell_type": "code",
   "execution_count": null,
   "id": "7bb68aad-4a3b-420e-b793-ec016434477b",
   "metadata": {},
   "outputs": [],
   "source": [
    "section3.base_facet_with_ruler_chart(\n",
    "    one_route.drop_duplicates(),\n",
    "    \"vp_per_minute\",\n",
    "    \"ruler_for_vp_per_min\",\n",
    "    readable_dict[\"vp_per_min\"][\"title\"],\n",
    "    readable_dict[\"vp_per_min\"][\"subtitle\"],\n",
    ")"
   ]
  },
  {
   "cell_type": "markdown",
   "id": "85b97563-102f-4f3b-a270-26df18ed6092",
   "metadata": {},
   "source": [
    "#### Spatial Accuracy (Done)\n",
    "* Multiple it by 100? Should this be rounded or not?"
   ]
  },
  {
   "cell_type": "code",
   "execution_count": null,
   "id": "c1f2acbb-687e-42e1-b6e4-e0ac02d87f97",
   "metadata": {},
   "outputs": [],
   "source": [
    "section3.base_facet_with_ruler_chart(\n",
    "    one_route.loc[one_route.time_period == \"all_day\"].drop_duplicates(),\n",
    "    \"pct_in_shape\",\n",
    "    \"ruler_100_pct\",\n",
    "    \"Spatial Accuracy\",\n",
    "    \"The percentage of vehicle positions that fall within the static scheduled route shape reflects the accuracy of the spatial, realtime data.\",\n",
    ")"
   ]
  },
  {
   "cell_type": "markdown",
   "id": "b4e77620-cb0e-4388-88ef-36e9640b043d",
   "metadata": {},
   "source": [
    "#### % RT journey with 1+/2+ vp (goal line = 100%) - use all_day, one chart shared for 1+ and 2+ (Done need subtitle)"
   ]
  },
  {
   "cell_type": "code",
   "execution_count": null,
   "id": "d92d1eb7-8e6d-4cfd-a0e2-dbc093281065",
   "metadata": {},
   "outputs": [],
   "source": [
    "def pct_vp_journey(df: pd.DataFrame, col1: str, col2: str) -> pd.DataFrame:\n",
    "    to_keep = [\n",
    "        \"service_date\",\n",
    "        \"organization_name\",\n",
    "        \"direction_id\",\n",
    "        col1,\n",
    "        col2,\n",
    "        \"route_combined_name\",\n",
    "        \"time_period\",\n",
    "        \"route_id\",\n",
    "        \"ruler_100_pct\",\n",
    "    ]\n",
    "    df2 = df[to_keep]\n",
    "\n",
    "    df3 = df2.melt(\n",
    "        id_vars=[\n",
    "            \"service_date\",\n",
    "            \"organization_name\",\n",
    "            \"route_combined_name\",\n",
    "            \"direction_id\",\n",
    "            \"time_period\",\n",
    "            \"route_id\",\n",
    "            \"ruler_100_pct\",\n",
    "        ],\n",
    "        value_vars=[col1, col2],\n",
    "    )\n",
    "\n",
    "    return df3"
   ]
  },
  {
   "cell_type": "code",
   "execution_count": null,
   "id": "2966643d-43ac-4444-9d76-3457408b6c62",
   "metadata": {},
   "outputs": [],
   "source": [
    "pct_rt = pct_vp_journey(\n",
    "    one_route, \"pct_rt_journey_atleast1_vp\", \"pct_rt_journey_atleast2_vp\"\n",
    ")"
   ]
  },
  {
   "cell_type": "markdown",
   "id": "48595e43-4912-47dd-b587-cff54cfdf363",
   "metadata": {
    "toc-hr-collapsed": true
   },
   "source": [
    "#### % schedule journey with 1+/2+ vp (goal line = 100%) - use all_day, one chart shared for 1+ and 2+ (Done need subtitle)"
   ]
  },
  {
   "cell_type": "code",
   "execution_count": null,
   "id": "e2430acf-9b18-43d2-a8f3-91d86dd3f747",
   "metadata": {},
   "outputs": [],
   "source": [
    "schd_rt = pct_vp_journey(\n",
    "    one_route, \"pct_sched_journey_atleast1_vp\", \"pct_sched_journey_atleast2_vp\"\n",
    ")"
   ]
  },
  {
   "cell_type": "code",
   "execution_count": null,
   "id": "e87020b6-652b-43bb-b1ac-b42d84e2d1ae",
   "metadata": {},
   "outputs": [],
   "source": [
    "\"\"\" base_facet_circle(\n",
    "    schd_rt.loc[schd_rt.time_period == \"all_day\"],\n",
    "    \"value\",\n",
    "    \"ruler_100_pct\",\n",
    "    \"Percentage of Scheduled Trips with 1+ and 2+ Vehicle Positions\",\n",
    "    \"The goal is for almost 100% of trips to have 2 or more Vehicle Positions per minute.\",\n",
    ")\"\"\""
   ]
  },
  {
   "cell_type": "markdown",
   "id": "4749520b-8d3f-4c61-908d-98a612283fdd",
   "metadata": {
    "tags": []
   },
   "source": [
    "#### Number of trips by sched_vp_category (/operator_schedule_rt_category)\n",
    "* Why is the crosswalk missing SBMTD schedule??"
   ]
  },
  {
   "cell_type": "code",
   "execution_count": null,
   "id": "e35701ca-3d38-4b78-b974-fd56f0b7b74b",
   "metadata": {},
   "outputs": [],
   "source": [
    "op_sched_rt_cat = pd.read_parquet(\n",
    "    f\"{RT_SCHED_GCS}digest/operator_schedule_rt_category.parquet\"\n",
    ")"
   ]
  },
  {
   "cell_type": "code",
   "execution_count": null,
   "id": "e76e9252-95a7-44ac-ab34-496935d9600d",
   "metadata": {},
   "outputs": [],
   "source": [
    "list(df.schedule_gtfs_dataset_key.unique())"
   ]
  },
  {
   "cell_type": "code",
   "execution_count": null,
   "id": "f285a7fe-a525-42a4-a954-ab2573c0e14b",
   "metadata": {},
   "outputs": [],
   "source": [
    "test = section3.load_operator_schedule_rt_category(\"de792182088eecc3d5c0bd3f1df62965\")"
   ]
  },
  {
   "cell_type": "code",
   "execution_count": null,
   "id": "fc52dcb7-bebb-46c8-878c-860b129784f6",
   "metadata": {},
   "outputs": [],
   "source": [
    "op_sched_rt_cat.schedule_gtfs_dataset_key.nunique()"
   ]
  },
  {
   "cell_type": "code",
   "execution_count": null,
   "id": "1b602f55-eda4-4363-af8b-a24efb140db1",
   "metadata": {},
   "outputs": [],
   "source": [
    "def basic_bar_chart(\n",
    "    df: pd.DataFrame, y_col: str, color_col: str, title: str, subtitle: str\n",
    "):\n",
    "    chart = (\n",
    "        alt.Chart(df)\n",
    "        .mark_bar()\n",
    "        .encode(\n",
    "            x=alt.X(\n",
    "                f\"yearmonthdate(service_date):O\",\n",
    "                title=\"Service Date\",\n",
    "                axis=alt.Axis(format=\"%b %Y\"),\n",
    "            ),\n",
    "            y=alt.Y(f\"{y_col}:Q\", title=labeling(y_col)),\n",
    "            color=alt.Color(\n",
    "                f\"{color_col}:N\",\n",
    "                scale=alt.Scale(\n",
    "                    range=cp.CALITP_SEQUENTIAL_COLORS,\n",
    "                ),\n",
    "            ),\n",
    "            tooltip=df.columns.tolist(),\n",
    "        )\n",
    "    ).properties(\n",
    "        title={\n",
    "            \"text\": title,\n",
    "            \"subtitle\": subtitle,\n",
    "        },\n",
    "        width=500,\n",
    "        height=300,\n",
    "    )\n",
    "    return chart"
   ]
  },
  {
   "cell_type": "code",
   "execution_count": null,
   "id": "59686254-f0f9-413e-8724-bc22931b3b59",
   "metadata": {},
   "outputs": [],
   "source": [
    "\"\"\"basic_bar_chart(\n",
    "    op_sched_rt_cat,\n",
    "    \"n_trips\",\n",
    "    \"sched_rt_category\",\n",
    "    \"Trips that were found in GTFS, Schedule, or Both Data Sources\",\n",
    "    \"\",\n",
    ") \"\"\""
   ]
  },
  {
   "cell_type": "markdown",
   "id": "b14d8827-083f-4057-a5db-b71b63ac1dee",
   "metadata": {},
   "source": [
    "#### Text"
   ]
  },
  {
   "cell_type": "code",
   "execution_count": null,
   "id": "0a7654f3-aa39-4a7a-aa99-a46e82283946",
   "metadata": {},
   "outputs": [],
   "source": [
    "table_df = section3.route_stats(one_route)"
   ]
  },
  {
   "cell_type": "code",
   "execution_count": null,
   "id": "3d8ee8c7-d3fd-4930-a71e-eb4e4f9f250a",
   "metadata": {},
   "outputs": [],
   "source": [
    "section3.create_text_table(table_df, 0)"
   ]
  },
  {
   "cell_type": "code",
   "execution_count": null,
   "id": "8873e9da-1743-4d91-820c-88123819146c",
   "metadata": {},
   "outputs": [],
   "source": [
    "section3.create_text_table(table_df, 1)"
   ]
  },
  {
   "cell_type": "code",
   "execution_count": null,
   "id": "169358bb-ef91-42fc-a4d4-bb8329d3cc78",
   "metadata": {},
   "outputs": [],
   "source": [
    "routes_list = df[\"route_combined_name\"].drop_duplicates().tolist()\n",
    "\n",
    "dropdown = alt.binding_select(options=routes_list, name=\"Select Route\")"
   ]
  },
  {
   "cell_type": "code",
   "execution_count": null,
   "id": "be30cef9-10fd-4c35-ae9d-b4ec1f7c3dd3",
   "metadata": {},
   "outputs": [],
   "source": [
    "routes_list[0]"
   ]
  },
  {
   "cell_type": "code",
   "execution_count": null,
   "id": "ac87670a-5651-4df7-b164-b1b91243739a",
   "metadata": {},
   "outputs": [],
   "source": [
    "xcol_param = alt.param(value=\"AMRTS Red Route\", bind=dropdown)"
   ]
  },
  {
   "cell_type": "code",
   "execution_count": null,
   "id": "919039da-1325-4a64-aa65-62b883cc0609",
   "metadata": {},
   "outputs": [],
   "source": [
    "section3.base_facet_with_ruler_chart(\n",
    "    df.loc[df.time_period == \"all_day\"].drop_duplicates(),\n",
    "    \"pct_in_shape\",\n",
    "    \"ruler_100_pct\",\n",
    "    \"Spatial Accuracy\",\n",
    "    \"The percentage of vehicle positions that fall within the static scheduled route shape reflects the accuracy of the spatial, realtime data.\",\n",
    ").transform_calculate(x=f\"datum[{xcol_param.name}]\").add_params(xcol_param)"
   ]
  },
  {
   "cell_type": "markdown",
   "id": "6fc21ac6-f52f-4f7b-929d-3d439f9f087f",
   "metadata": {},
   "source": [
    "#### Putting it all together"
   ]
  },
  {
   "cell_type": "code",
   "execution_count": null,
   "id": "06f6f21a-96aa-4a33-9b6d-d36bd4bea7ee",
   "metadata": {},
   "outputs": [],
   "source": [
    "def filtered_route(\n",
    "    df: pd.DataFrame,\n",
    ") -> alt.Chart:\n",
    "    \"\"\"\n",
    "    https://stackoverflow.com/questions/58919888/multiple-selections-in-altair\n",
    "    \"\"\"\n",
    "    # Create dropdown\n",
    "    routes_list = df[\"Route\"].unique().tolist()\n",
    "\n",
    "    route_dropdown = alt.binding_select(\n",
    "        options=routes_list,\n",
    "        name=\"Routes\",\n",
    "    )\n",
    "    # Column that controls the bar charts\n",
    "    route_selector = alt.selection_point(\n",
    "        fields=[\"Route\"],\n",
    "        bind=route_dropdown,\n",
    "    )\n",
    "\n",
    "    # Filter for only rows categorized as found in schedule and vp and all_day\n",
    "    all_day = df.loc[df[\"Period\"] == \"all_day\"].reset_index(drop=True)\n",
    "\n",
    "    # Create route stats table for the text tables\n",
    "    route_stats_df = section3.route_stats(df)\n",
    "\n",
    "    # Manipulate the df for some of the metrics\n",
    "    timeliness_df = section3.timeliness_trips(df)\n",
    "    rt_journey_vp = section3.pct_vp_journey(\n",
    "        all_day, \"pct_rt_journey_atleast1_vp\", \"pct_rt_journey_atleast2_vp\"\n",
    "    )\n",
    "    sched_journey_vp = section3.pct_vp_journey(\n",
    "        all_day, \"pct_sched_journey_atleast1_vp\", \"pct_sched_journey_atleast2_vp\"\n",
    "    )\n",
    "\n",
    "    # Charts\n",
    "    rider_quality = divider_chart(\n",
    "        df, \"The charts below describe the quality of riding route\"\n",
    "    )\n",
    "\n",
    "    avg_scheduled_min = (\n",
    "        section3.grouped_bar_chart(\n",
    "            df=all_day,\n",
    "            color_col=\"direction_id\",\n",
    "            y_col=\"avg_scheduled_service_minutes\",\n",
    "            offset_col=\"direction_id\",\n",
    "            title=\"Average Scheduled Minutes\",\n",
    "            subtitle=\"The average minutes a trip is scheduled to run.\",\n",
    "        )\n",
    "        .add_params(route_selector)\n",
    "        .transform_filter(route_selector)\n",
    "    )\n",
    "\n",
    "    timeliness_trips_dir_0 = (\n",
    "        (\n",
    "            section3.base_facet_chart(\n",
    "                timeliness_df.loc[timeliness_df.direction_id == 0],\n",
    "                \"value\",\n",
    "                \"variable\",\n",
    "                \"time_period\",\n",
    "                \"Breakdown of Trips by Categories for Direction 0\",\n",
    "                \"Categorizing whether a trip is early, late, or ontime. A trip is on time if it arrives 5 minutes later or earlier than scheduled.\",\n",
    "            )\n",
    "        )\n",
    "        .add_params(route_selector)\n",
    "        .transform_filter(route_selector)\n",
    "    )\n",
    "    timeliness_trips_dir_1 = (\n",
    "        (\n",
    "            section3.base_facet_chart(\n",
    "                timeliness_df.loc[timeliness_df.direction_id == 1],\n",
    "                \"value\",\n",
    "                \"variable\",\n",
    "                \"time_period\",\n",
    "                \"Breakdown of Trips by Categories for Direction 1\",\n",
    "                \"Categorizing whether a trip is early, late, or ontime. A trip is on time if it arrives 5 minutes later or earlier than scheduled.\",\n",
    "            )\n",
    "        )\n",
    "        .add_params(route_selector)\n",
    "        .transform_filter(route_selector)\n",
    "    )\n",
    "\n",
    "    frequency = (\n",
    "        section3.frequency_chart(df)\n",
    "        .add_params(route_selector)\n",
    "        .transform_filter(route_selector)\n",
    "    )\n",
    "    speed = (\n",
    "        section3.base_facet_line(\n",
    "            df,\n",
    "            \"speed_mph\",\n",
    "            \"Average Speed\",\n",
    "            \"The average miles per hour the bus travels by direction and time of day.\",\n",
    "        )\n",
    "        .add_params(route_selector)\n",
    "        .transform_filter(route_selector)\n",
    "    )\n",
    "\n",
    "    data_quality = divider_chart(\n",
    "        df, \"The charts below describe the quality of the data collected for route\"\n",
    "    )\n",
    "    vp_per_min = (\n",
    "        (\n",
    "            section3.base_facet_with_ruler_chart(\n",
    "                all_day,\n",
    "                \"vp_per_minute\",\n",
    "                \"ruler_for_vp_per_min\",\n",
    "                \"Vehicle Positions per Minute\",\n",
    "                \"Trips should have 2+ vehicle positions per minute.\",\n",
    "            )\n",
    "        )\n",
    "        .add_params(route_selector)\n",
    "        .transform_filter(route_selector)\n",
    "    )\n",
    "\n",
    "    rt_vp_per_min = (\n",
    "        section3.base_facet_circle(\n",
    "            rt_journey_vp,\n",
    "            \"value\",\n",
    "            \"ruler_100_pct\",\n",
    "            \"Percentage of Realtime Trips with 1+ and 2+ Vehicle Positions\",\n",
    "            \"The goal is for almost 100% of trips to have 2 or more Vehicle Positions per minute.\",\n",
    "        )\n",
    "        .add_params(route_selector)\n",
    "        .transform_filter(route_selector)\n",
    "    )\n",
    "    sched_vp_per_min = (\n",
    "        section3.base_facet_circle(\n",
    "            sched_journey_vp,\n",
    "            \"value\",\n",
    "            \"ruler_100_pct\",\n",
    "            \"Percentage of Scheduled Trips with 1+ and 2+ Vehicle Positions\",\n",
    "            \"The goal is for almost 100% of trips to have 2 or more Vehicle Positions per minute.\",\n",
    "        )\n",
    "        .add_params(route_selector)\n",
    "        .transform_filter(route_selector)\n",
    "    )\n",
    "    spatial_accuracy = (\n",
    "        section3.base_facet_with_ruler_chart(\n",
    "            all_day,\n",
    "            \"pct_in_shape\",\n",
    "            \"ruler_100_pct\",\n",
    "            \"Spatial Accuracy\",\n",
    "            \"The percentage of vehicle positions that fall within the static scheduled route shape reflects the accuracy of the spatial, realtime data.\",\n",
    "        )\n",
    "        .add_params(route_selector)\n",
    "        .transform_filter(route_selector)\n",
    "    )\n",
    "\n",
    "    text_dir0 = (\n",
    "        (section3.create_text_table(route_stats_df, 0))\n",
    "        .add_params(route_selector)\n",
    "        .transform_filter(route_selector)\n",
    "    )\n",
    "    text_dir1 = (\n",
    "        section3.create_text_table(route_stats_df, 1)\n",
    "        .add_params(route_selector)\n",
    "        .transform_filter(route_selector)\n",
    "    )\n",
    "    chart_list = [\n",
    "        avg_scheduled_min,\n",
    "        timeliness_trips_dir_0,\n",
    "        timeliness_trips_dir_1,\n",
    "        frequency,\n",
    "        speed,\n",
    "        vp_per_min,\n",
    "        rt_vp_per_min,\n",
    "        sched_vp_per_min,\n",
    "        spatial_accuracy,\n",
    "        text_dir0,\n",
    "        text_dir1,\n",
    "    ]\n",
    "\n",
    "    chart = alt.vconcat(*chart_list).properties(\n",
    "        resolve=alt.Resolve(\n",
    "            scale=alt.LegendResolveMap(color=alt.ResolveMode(\"independent\"))\n",
    "        )\n",
    "    )\n",
    "    return chart"
   ]
  },
  {
   "cell_type": "code",
   "execution_count": null,
   "id": "cae4c735-f2e0-4f4f-98f8-1a79bfa1d37e",
   "metadata": {},
   "outputs": [],
   "source": [
    "filtered_route(df)"
   ]
  }
 ],
 "metadata": {
  "kernelspec": {
   "display_name": "Python 3 (ipykernel)",
   "language": "python",
   "name": "python3"
  },
  "language_info": {
   "codemirror_mode": {
    "name": "ipython",
    "version": 3
   },
   "file_extension": ".py",
   "mimetype": "text/x-python",
   "name": "python",
   "nbconvert_exporter": "python",
   "pygments_lexer": "ipython3",
   "version": "3.9.13"
  }
 },
 "nbformat": 4,
 "nbformat_minor": 5
}
