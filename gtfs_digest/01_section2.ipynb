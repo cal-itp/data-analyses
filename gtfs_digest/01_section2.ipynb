{
 "cells": [
  {
   "cell_type": "markdown",
   "id": "9ef066ac-5f6d-4595-b819-0cdacbadd7fe",
   "metadata": {},
   "source": [
    "## Round 1 \n",
    "* Updating existing charts made by Tiffany. https://gtfs-digest--cal-itp-data-analyses.netlify.app/\n",
    "* cd rt_segment_speeds && pip install altair_transform && pip install -r requirements.txt && cd ../_shared_utils && make setup_env\n",
    "\n",
    "Links\n",
    "* https://github.com/cal-itp/data-analyses/issues/1059\n",
    "* https://docs.google.com/document/d/1I1WiqlmU06W6iLCi7cZQrOCLILkrEfABEkcU0Jys7f0/edit\n",
    "* https://route-speeds--cal-itp-data-analyses.netlify.app/name_bay-area-511-muni-schedule/0__report__name_bay-area-511-muni-schedule\n",
    "* https://posit-dev.github.io/great-tables/get-started/nanoplots.html\n",
    "* https://docs.pola.rs/py-polars/html/reference/api/polars.from_pandas.html\n",
    "* https://github.com/cal-itp/data-analyses/blob/main/rt_segment_speeds/_rt_scheduled_utils.py\n",
    "* https://github.com/cal-itp/data-analyses/blob/main/rt_segment_speeds/_threshold_utils.py"
   ]
  },
  {
   "cell_type": "code",
   "execution_count": 1,
   "id": "41ffdcf4-2076-49c6-bae6-6ffb51f044b3",
   "metadata": {},
   "outputs": [
    {
     "data": {
      "text/plain": [
       "DataTransformerRegistry.enable('default')"
      ]
     },
     "execution_count": 1,
     "metadata": {},
     "output_type": "execute_result"
    }
   ],
   "source": [
    "import _report_utils\n",
    "import _section2_utils as section2\n",
    "import altair as alt\n",
    "import geopandas as gpd\n",
    "import pandas as pd\n",
    "from segment_speed_utils.project_vars import RT_SCHED_GCS, SCHED_GCS\n",
    "from shared_utils import catalog_utils, rt_dates, rt_utils\n",
    "\n",
    "alt.data_transformers.enable(\"default\", max_rows=None)"
   ]
  },
  {
   "cell_type": "code",
   "execution_count": 2,
   "id": "6366b86d-cdad-4aa0-9b29-9e506cb63258",
   "metadata": {},
   "outputs": [],
   "source": [
    "pd.options.display.max_columns = 100\n",
    "pd.options.display.float_format = \"{:.2f}\".format\n",
    "pd.set_option(\"display.max_rows\", None)\n",
    "pd.set_option(\"display.max_colwidth\", None)"
   ]
  },
  {
   "cell_type": "code",
   "execution_count": 3,
   "id": "8567437c-3023-4281-b0f5-5903c29217a2",
   "metadata": {},
   "outputs": [],
   "source": [
    "GTFS_DATA_DICT = catalog_utils.get_catalog(\"gtfs_analytics_data\")\n",
    "import yaml\n",
    "\n",
    "with open(\"readable.yml\") as f:\n",
    "    readable_dict = yaml.safe_load(f)"
   ]
  },
  {
   "cell_type": "code",
   "execution_count": 4,
   "id": "93519d40-58b4-4ed7-abb8-eb0a139e9196",
   "metadata": {},
   "outputs": [],
   "source": [
    "with open(\"color_palettes.yml\") as f:\n",
    "    color_dict = yaml.safe_load(f)"
   ]
  },
  {
   "cell_type": "code",
   "execution_count": 5,
   "id": "f87b0483-ff6d-4ecc-aab6-3d5e61415b3c",
   "metadata": {},
   "outputs": [],
   "source": [
    "org_name = \"City of Fairfield\""
   ]
  },
  {
   "cell_type": "markdown",
   "id": "58c0269f-a557-4aa1-975f-56815886a0ef",
   "metadata": {},
   "source": [
    "### Original File "
   ]
  },
  {
   "cell_type": "code",
   "execution_count": 6,
   "id": "d5ed603a-c443-4500-b084-baa5e010d069",
   "metadata": {},
   "outputs": [],
   "source": [
    "schd_vp_url = f\"{GTFS_DATA_DICT.digest_tables.dir}{GTFS_DATA_DICT.digest_tables.route_schedule_vp}.parquet\""
   ]
  },
  {
   "cell_type": "code",
   "execution_count": 7,
   "id": "7969e1b9-27e3-4bdc-a200-697496701f41",
   "metadata": {},
   "outputs": [],
   "source": [
    "og = pd.read_parquet(schd_vp_url)"
   ]
  },
  {
   "cell_type": "code",
   "execution_count": 8,
   "id": "1b6bf0c5-dc74-4dac-aef9-f0f06ac878ea",
   "metadata": {},
   "outputs": [
    {
     "data": {
      "text/plain": [
       "Index(['schedule_gtfs_dataset_key', 'direction_id', 'time_period',\n",
       "       'avg_scheduled_service_minutes', 'avg_stop_miles', 'n_scheduled_trips',\n",
       "       'frequency', 'is_express', 'is_rapid', 'is_rail', 'is_coverage',\n",
       "       'is_downtown_local', 'is_local', 'service_date', 'typology',\n",
       "       'minutes_atleast1_vp', 'minutes_atleast2_vp',\n",
       "       'total_rt_service_minutes', 'total_scheduled_service_minutes',\n",
       "       'total_vp', 'vp_in_shape', 'is_early', 'is_ontime', 'is_late',\n",
       "       'n_vp_trips', 'vp_per_minute', 'pct_in_shape',\n",
       "       'pct_rt_journey_atleast1_vp', 'pct_rt_journey_atleast2_vp',\n",
       "       'pct_sched_journey_atleast1_vp', 'pct_sched_journey_atleast2_vp',\n",
       "       'rt_sched_journey_ratio', 'avg_rt_service_minutes', 'sched_rt_category',\n",
       "       'speed_mph', 'name', 'route_long_name', 'route_short_name',\n",
       "       'route_combined_name', 'route_id', 'schedule_source_record_id',\n",
       "       'base64_url', 'organization_source_record_id', 'organization_name',\n",
       "       'caltrans_district'],\n",
       "      dtype='object')"
      ]
     },
     "execution_count": 8,
     "metadata": {},
     "output_type": "execute_result"
    }
   ],
   "source": [
    "og.columns"
   ]
  },
  {
   "cell_type": "markdown",
   "id": "14cb4180-128f-40ca-bb42-9d0e15c02aba",
   "metadata": {},
   "source": [
    "### Checkout Duplicates"
   ]
  },
  {
   "cell_type": "code",
   "execution_count": 9,
   "id": "47da60d1-88a6-4df4-8792-ad4e9d1c1abf",
   "metadata": {},
   "outputs": [],
   "source": [
    "df = section2.load_schedule_vp_metrics(org_name)"
   ]
  },
  {
   "cell_type": "code",
   "execution_count": 10,
   "id": "36471572-8f9f-4f36-8238-42b811522a6e",
   "metadata": {},
   "outputs": [],
   "source": [
    "all_day = df.loc[df[\"Period\"] == \"all_day\"]"
   ]
  },
  {
   "cell_type": "code",
   "execution_count": 11,
   "id": "c5c83103-fc4e-41d3-a287-d5b93b639c5f",
   "metadata": {},
   "outputs": [
    {
     "data": {
      "text/plain": [
       "count   476.00\n",
       "mean    103.44\n",
       "std      86.37\n",
       "min      26.67\n",
       "25%      51.28\n",
       "50%      80.00\n",
       "75%     120.00\n",
       "max     750.00\n",
       "Name: frequency_in_minutes, dtype: float64"
      ]
     },
     "execution_count": 11,
     "metadata": {},
     "output_type": "execute_result"
    }
   ],
   "source": [
    "df.frequency_in_minutes.describe()"
   ]
  },
  {
   "cell_type": "code",
   "execution_count": 12,
   "id": "5b939885-46f2-4959-bb7d-b4cbb7f42bc3",
   "metadata": {},
   "outputs": [
    {
     "data": {
      "text/plain": [
       "Index(['schedule_gtfs_dataset_key', 'Direction', 'Period',\n",
       "       'Average Scheduled Service (trip minutes)',\n",
       "       'Average Stop Distance (miles)', '# scheduled trips', 'Trips per Hour',\n",
       "       'is_express', 'is_rapid', 'is_rail', 'is_coverage', 'is_downtown_local',\n",
       "       'is_local', 'Date', 'Route typology', '# Minutes with 1+ VP per Minute',\n",
       "       '# Minutes with 2+ VP per Minute', 'Aggregate Actual Service Minutes',\n",
       "       'Aggregate Scheduled Service Minutes (all trips)', '# VP',\n",
       "       '# VP within Scheduled Shape', '# Early Arrival Trips',\n",
       "       '# On-Time Trips', '# Late Trips', '# Trips with VP',\n",
       "       'Average VP per Minute', '% VP within Scheduled Shape',\n",
       "       'pct_rt_journey_atleast1_vp', 'pct_rt_journey_atleast2_vp',\n",
       "       '% Scheduled Trip w/ 1+ VP/Minute', '% Scheduled Trip w/ 2+ VP/Minute',\n",
       "       'Realtime versus Scheduled Service Ratio',\n",
       "       'Average Actual Service (Trip Minutes)', 'GTFS Availability',\n",
       "       'Speed (MPH)', 'Transit Operator', 'route_long_name',\n",
       "       'route_short_name', 'Route', 'Route ID', 'schedule_source_record_id',\n",
       "       'Base64 Encoded Feed URL', 'Organization ID', 'Organization',\n",
       "       'District', 'ruler_100_pct', 'ruler_for_vp_per_min',\n",
       "       'frequency_in_minutes', 'frequency_in_minutes_cat'],\n",
       "      dtype='object')"
      ]
     },
     "execution_count": 12,
     "metadata": {},
     "output_type": "execute_result"
    }
   ],
   "source": [
    "df.columns"
   ]
  },
  {
   "cell_type": "code",
   "execution_count": 13,
   "id": "9bfb6835-9d4a-4276-965f-4bc2aa203675",
   "metadata": {},
   "outputs": [
    {
     "data": {
      "text/plain": [
       "Bus every 60+ minutes      298\n",
       "Bus every 46-60 minutes    110\n",
       "Bus every 16-30 minutes     42\n",
       "Bus every 31-45 minutes     26\n",
       "Name: frequency_in_minutes_cat, dtype: int64"
      ]
     },
     "execution_count": 13,
     "metadata": {},
     "output_type": "execute_result"
    }
   ],
   "source": [
    "df.frequency_in_minutes_cat.value_counts()"
   ]
  },
  {
   "cell_type": "code",
   "execution_count": 14,
   "id": "ff2cd8f6-7aec-4ccd-8ba2-8bff02b5c2b3",
   "metadata": {},
   "outputs": [
    {
     "data": {
      "text/plain": [
       "count   476.00\n",
       "mean    103.44\n",
       "std      86.37\n",
       "min      26.67\n",
       "25%      51.28\n",
       "50%      80.00\n",
       "75%     120.00\n",
       "max     750.00\n",
       "Name: frequency_in_minutes, dtype: float64"
      ]
     },
     "execution_count": 14,
     "metadata": {},
     "output_type": "execute_result"
    }
   ],
   "source": [
    "df.frequency_in_minutes.describe()"
   ]
  },
  {
   "cell_type": "code",
   "execution_count": 15,
   "id": "d0a4642b-058f-4063-8fe2-2cbc893ce327",
   "metadata": {},
   "outputs": [
    {
     "data": {
      "text/plain": [
       "array(['1 FTC/Fairfield Walmart',\n",
       "       '2 Solano Town Center/Fairfield Vacaville Train Station',\n",
       "       '3 FTC/Solano Town Center/Fairfield Walmart',\n",
       "       '4 Smart & Final/Travis Air Force Base',\n",
       "       '6 Solano Town Center/East Tabor & Sunset',\n",
       "       '7 FTC/Solano College/Cordelia Library',\n",
       "       '8 Cordelia Library/Oakbrook Dr', '8T Cordelia School Tripper'],\n",
       "      dtype=object)"
      ]
     },
     "execution_count": 15,
     "metadata": {},
     "output_type": "execute_result"
    }
   ],
   "source": [
    "df['Route'].unique()"
   ]
  },
  {
   "cell_type": "markdown",
   "id": "2efbb7c2-9060-43b2-b97e-96d3200aeb6d",
   "metadata": {},
   "source": [
    "### One Route"
   ]
  },
  {
   "cell_type": "code",
   "execution_count": 16,
   "id": "0b1f34c2-bcec-4e7f-81a5-c2fd7e7d4d9d",
   "metadata": {},
   "outputs": [],
   "source": [
    "one_route = df.loc[df[\"Route\"] == '1 FTC/Fairfield Walmart']"
   ]
  },
  {
   "cell_type": "code",
   "execution_count": 17,
   "id": "7365d028-e5b9-4ac9-bc57-8ab052af2007",
   "metadata": {},
   "outputs": [],
   "source": [
    "# one_route.shape"
   ]
  },
  {
   "cell_type": "code",
   "execution_count": 18,
   "id": "6fccc5c1-ca4a-4966-9b72-feb6d61b11a4",
   "metadata": {},
   "outputs": [],
   "source": [
    "one_route_all_day = one_route.loc[one_route[\"Period\"] == \"all_day\"]"
   ]
  },
  {
   "cell_type": "code",
   "execution_count": 19,
   "id": "4d7e5079-c166-416d-90e4-1edca11e9a42",
   "metadata": {},
   "outputs": [
    {
     "data": {
      "text/plain": [
       "'1 FTC/Fairfield Walmart'"
      ]
     },
     "execution_count": 19,
     "metadata": {},
     "output_type": "execute_result"
    }
   ],
   "source": [
    "one_route_all_day[\"Route\"].values[0]"
   ]
  },
  {
   "cell_type": "markdown",
   "id": "55a3d2ed-1ede-4a1c-a914-f02de56dfea0",
   "metadata": {},
   "source": [
    "#### Cleaning up Code"
   ]
  },
  {
   "cell_type": "code",
   "execution_count": 20,
   "id": "7e28f0ca-be60-498e-b6ea-b9950b77d9c9",
   "metadata": {},
   "outputs": [],
   "source": [
    "def set_y_axis(df, y_col):\n",
    "    if \"%\" in y_col:\n",
    "        max_y = 100\n",
    "\n",
    "    elif \"VP\" in y_col:\n",
    "        max_y = 3\n",
    "    elif \"Minute\" in y_col:\n",
    "        max_y = round(df[y_col].max())\n",
    "    else:\n",
    "        max_y = round(df[y_col].max(), -1) + 5\n",
    "    return max_y"
   ]
  },
  {
   "cell_type": "markdown",
   "id": "793206d1-f1f7-4603-900e-e2bd5ff85619",
   "metadata": {},
   "source": [
    "#### Frequency (Done)\n",
    "* Maybe shouldn't be a chart since there doesn't seem to be a lot of data for this across a lot of the routes?\n",
    "* What does frequency mean?\n",
    "* Simplify down to not take direction_id into consideration?"
   ]
  },
  {
   "cell_type": "code",
   "execution_count": 32,
   "id": "c8d89d70-8cba-447e-b0ba-afcc3bc368ec",
   "metadata": {},
   "outputs": [
    {
     "data": {
      "text/plain": [
       "array(['Bus every 46-60 minutes', 'Bus every 60+ minutes',\n",
       "       'Bus every 16-30 minutes', 'Bus every 31-45 minutes'], dtype=object)"
      ]
     },
     "execution_count": 32,
     "metadata": {},
     "output_type": "execute_result"
    }
   ],
   "source": [
    "df.frequency_in_minutes_cat.unique()"
   ]
  },
  {
   "cell_type": "code",
   "execution_count": 36,
   "id": "3768b1f3-13a9-41da-a94b-5dc04a0d45aa",
   "metadata": {},
   "outputs": [],
   "source": [
    "freq_domain = [\"Bus every <= 15 minutes\", \"Bus every 16-30 minutes\",\n",
    "             \"Bus every 31-45 minutes\",\"Bus every 46-60 minutes\",\n",
    "             \"Bus every 60+ minutes\"]\n",
    "freq_range = [\"#7cc665\",\"#d2d776\", \"#fde18d\", \"#fcaa5f\", \"#ec5d3b\"]"
   ]
  },
  {
   "cell_type": "code",
   "execution_count": 34,
   "id": "9e083c77-e464-435d-9666-c0fd011359fc",
   "metadata": {},
   "outputs": [],
   "source": [
    "def frequency_chart(df: pd.DataFrame):\n",
    "    df[\"Frequency in Minutes\"] = (\n",
    "        \"A trip going this direction comes every \"\n",
    "        + df.frequency_in_minutes.astype(int).astype(str)\n",
    "        + \" minutes\"\n",
    "    )\n",
    "    \n",
    "    color_scale = alt.Scale(\n",
    "    domain= freq_domain,\n",
    "    range = freq_range\n",
    "    )\n",
    "    \n",
    "    chart = (\n",
    "        alt.Chart(df)\n",
    "        .properties(width=180, height=alt.Step(10))\n",
    "        .mark_bar()\n",
    "        .encode(\n",
    "            alt.Y(\n",
    "                \"yearmonthdate(Date):O\",\n",
    "                title=\"Date\",\n",
    "                axis=alt.Axis(format=\"%b %Y\"),\n",
    "            ),\n",
    "            alt.X(\n",
    "                \"frequency_in_minutes:Q\",\n",
    "                title=_report_utils.labeling(\"frequency_in_minutes\"),\n",
    "                axis=None,\n",
    "            ),\n",
    "            alt.Color(\n",
    "                \"frequency_in_minutes_cat:N\",\n",
    "                scale=color_scale,\n",
    "            ).title(_report_utils.labeling(\"frequency_in_minutes\")),\n",
    "            alt.Row(\"Period:N\")\n",
    "            .title(_report_utils.labeling(\"Period\"))\n",
    "            .header(labelAngle=0),\n",
    "            alt.Column(\"Direction:N\").title(_report_utils.labeling(\"Direction\")),\n",
    "            tooltip=[\"Date\", \"Frequency in Minutes\", \"Period\", \"Direction\"],\n",
    "        )\n",
    "    )\n",
    "    chart = chart.properties(\n",
    "        title={\n",
    "            \"text\": readable_dict[\"frequency_graph\"][\"title\"],\n",
    "            \"subtitle\": readable_dict[\"frequency_graph\"][\"subtitle\"],\n",
    "        }\n",
    "    )\n",
    "    return chart"
   ]
  },
  {
   "cell_type": "code",
   "execution_count": 22,
   "id": "d56710cc-b009-4b52-9ec8-fb993991ce34",
   "metadata": {},
   "outputs": [],
   "source": [
    "one_route_onetime = df.loc[\n",
    "    (df[\"Route\"] == \"1 FTC/Fairfield Walmart\") & (df[\"Period\"] != \"all_day\")\n",
    "].reset_index(drop=True)"
   ]
  },
  {
   "cell_type": "code",
   "execution_count": 37,
   "id": "cc558b0a-19dc-4192-ad95-37eb3548db84",
   "metadata": {},
   "outputs": [
    {
     "data": {
      "text/html": [
       "\n",
       "<style>\n",
       "  #altair-viz-4360620df8c44c35a5fc36c4dc958e55.vega-embed {\n",
       "    width: 100%;\n",
       "    display: flex;\n",
       "  }\n",
       "\n",
       "  #altair-viz-4360620df8c44c35a5fc36c4dc958e55.vega-embed details,\n",
       "  #altair-viz-4360620df8c44c35a5fc36c4dc958e55.vega-embed details summary {\n",
       "    position: relative;\n",
       "  }\n",
       "</style>\n",
       "<div id=\"altair-viz-4360620df8c44c35a5fc36c4dc958e55\"></div>\n",
       "<script type=\"text/javascript\">\n",
       "  var VEGA_DEBUG = (typeof VEGA_DEBUG == \"undefined\") ? {} : VEGA_DEBUG;\n",
       "  (function(spec, embedOpt){\n",
       "    let outputDiv = document.currentScript.previousElementSibling;\n",
       "    if (outputDiv.id !== \"altair-viz-4360620df8c44c35a5fc36c4dc958e55\") {\n",
       "      outputDiv = document.getElementById(\"altair-viz-4360620df8c44c35a5fc36c4dc958e55\");\n",
       "    }\n",
       "    const paths = {\n",
       "      \"vega\": \"https://cdn.jsdelivr.net/npm/vega@5?noext\",\n",
       "      \"vega-lib\": \"https://cdn.jsdelivr.net/npm/vega-lib?noext\",\n",
       "      \"vega-lite\": \"https://cdn.jsdelivr.net/npm/vega-lite@5.14.1?noext\",\n",
       "      \"vega-embed\": \"https://cdn.jsdelivr.net/npm/vega-embed@6?noext\",\n",
       "    };\n",
       "\n",
       "    function maybeLoadScript(lib, version) {\n",
       "      var key = `${lib.replace(\"-\", \"\")}_version`;\n",
       "      return (VEGA_DEBUG[key] == version) ?\n",
       "        Promise.resolve(paths[lib]) :\n",
       "        new Promise(function(resolve, reject) {\n",
       "          var s = document.createElement('script');\n",
       "          document.getElementsByTagName(\"head\")[0].appendChild(s);\n",
       "          s.async = true;\n",
       "          s.onload = () => {\n",
       "            VEGA_DEBUG[key] = version;\n",
       "            return resolve(paths[lib]);\n",
       "          };\n",
       "          s.onerror = () => reject(`Error loading script: ${paths[lib]}`);\n",
       "          s.src = paths[lib];\n",
       "        });\n",
       "    }\n",
       "\n",
       "    function showError(err) {\n",
       "      outputDiv.innerHTML = `<div class=\"error\" style=\"color:red;\">${err}</div>`;\n",
       "      throw err;\n",
       "    }\n",
       "\n",
       "    function displayChart(vegaEmbed) {\n",
       "      vegaEmbed(outputDiv, spec, embedOpt)\n",
       "        .catch(err => showError(`Javascript Error: ${err.message}<br>This usually means there's a typo in your chart specification. See the javascript console for the full traceback.`));\n",
       "    }\n",
       "\n",
       "    if(typeof define === \"function\" && define.amd) {\n",
       "      requirejs.config({paths});\n",
       "      require([\"vega-embed\"], displayChart, err => showError(`Error loading script: ${err.message}`));\n",
       "    } else {\n",
       "      maybeLoadScript(\"vega\", \"5\")\n",
       "        .then(() => maybeLoadScript(\"vega-lite\", \"5.14.1\"))\n",
       "        .then(() => maybeLoadScript(\"vega-embed\", \"6\"))\n",
       "        .catch(showError)\n",
       "        .then(() => displayChart(vegaEmbed));\n",
       "    }\n",
       "  })({\"config\": {\"view\": {\"continuousWidth\": 300, \"continuousHeight\": 300}}, \"data\": {\"name\": \"data-20882de1aacf7520e3922d5c1cd7de7e\"}, \"mark\": {\"type\": \"bar\"}, \"encoding\": {\"color\": {\"field\": \"frequency_in_minutes_cat\", \"scale\": {\"domain\": [\"Bus every <= 15 minutes\", \"Bus every 16-30 minutes\", \"Bus every 31-45 minutes\", \"Bus every 46-60 minutes\", \"Bus every 60+ minutes\"], \"range\": [\"#7cc665\", \"#d2d776\", \"#fde18d\", \"#fcaa5f\", \"#ec5d3b\"]}, \"title\": \"Frequency In Minutes\", \"type\": \"nominal\"}, \"column\": {\"field\": \"Direction\", \"title\": \"Direction\", \"type\": \"nominal\"}, \"row\": {\"field\": \"Period\", \"header\": {\"labelAngle\": 0}, \"title\": \"Period\", \"type\": \"nominal\"}, \"tooltip\": [{\"field\": \"Date\", \"type\": \"temporal\"}, {\"field\": \"Frequency in Minutes\", \"type\": \"nominal\"}, {\"field\": \"Period\", \"type\": \"nominal\"}, {\"field\": \"Direction\", \"type\": \"quantitative\"}], \"x\": {\"axis\": null, \"field\": \"frequency_in_minutes\", \"title\": \"Frequency In Minutes\", \"type\": \"quantitative\"}, \"y\": {\"axis\": {\"format\": \"%b %Y\"}, \"field\": \"Date\", \"timeUnit\": \"yearmonthdate\", \"title\": \"Date\", \"type\": \"ordinal\"}}, \"height\": {\"step\": 10}, \"title\": {\"text\": \"Frequency of Trips in Minutes\", \"subtitle\": \"Understanding how often a trip comes. If the bar says 120 minutes, that means a trip will pass that particular direction once every 2 hours.\"}, \"width\": 180, \"$schema\": \"https://vega.github.io/schema/vega-lite/v5.14.1.json\", \"datasets\": {\"data-20882de1aacf7520e3922d5c1cd7de7e\": [{\"schedule_gtfs_dataset_key\": \"0f5e1b251db53223200c5bfc365d33f2\", \"Direction\": 0.0, \"Period\": \"offpeak\", \"Average Scheduled Service (trip minutes)\": 20.0, \"Average Stop Distance (miles)\": 0.94, \"# scheduled trips\": 13, \"Trips per Hour\": 0.81, \"is_express\": 0.0, \"is_rapid\": 1.0, \"is_rail\": 0.0, \"is_coverage\": 1.0, \"is_downtown_local\": 0.0, \"is_local\": 0.0, \"Date\": \"2023-03-15T00:00:00\", \"Route typology\": \"rapid\", \"# Minutes with 1+ VP per Minute\": 359, \"# Minutes with 2+ VP per Minute\": 352, \"Aggregate Actual Service Minutes\": 347.09, \"Aggregate Scheduled Service Minutes (all trips)\": 260.0, \"# VP\": 1056, \"# VP within Scheduled Shape\": 1056, \"# Early Arrival Trips\": 1, \"# On-Time Trips\": 3, \"# Late Trips\": 9, \"# Trips with VP\": 13, \"Average VP per Minute\": 3.04, \"% VP within Scheduled Shape\": 100.0, \"pct_rt_journey_atleast1_vp\": 100.0, \"pct_rt_journey_atleast2_vp\": 100.0, \"% Scheduled Trip w/ 1+ VP/Minute\": 100.0, \"% Scheduled Trip w/ 2+ VP/Minute\": 100.0, \"Realtime versus Scheduled Service Ratio\": 1.33, \"Average Actual Service (Trip Minutes)\": 26.7, \"GTFS Availability\": \"schedule_and_vp\", \"Speed (MPH)\": 12.77, \"Transit Operator\": \"Bay Area 511 Fairfield and Suisun Transit Schedule\", \"route_long_name\": \"FTC/Fairfield Walmart\", \"route_short_name\": \"1\", \"Route\": \"1 FTC/Fairfield Walmart\", \"Route ID\": \"1\", \"schedule_source_record_id\": \"recjCb2XW7w8RXZBI\", \"Base64 Encoded Feed URL\": \"aHR0cHM6Ly9hcGkuNTExLm9yZy90cmFuc2l0L2RhdGFmZWVkcz9vcGVyYXRvcl9pZD1GUw==\", \"Organization ID\": \"recot6qBamlOoLcrM\", \"Organization\": \"City of Fairfield\", \"District\": \"04 - Oakland\", \"ruler_100_pct\": 100, \"ruler_for_vp_per_min\": 2, \"frequency_in_minutes\": 74.07407407407408, \"frequency_in_minutes_cat\": \"Bus every 60+ minutes\", \"Frequency in Minutes\": \"A trip going this direction comes every 74 minutes\"}, {\"schedule_gtfs_dataset_key\": \"0f5e1b251db53223200c5bfc365d33f2\", \"Direction\": 0.0, \"Period\": \"offpeak\", \"Average Scheduled Service (trip minutes)\": 20.0, \"Average Stop Distance (miles)\": 0.94, \"# scheduled trips\": 13, \"Trips per Hour\": 0.81, \"is_express\": 0.0, \"is_rapid\": 1.0, \"is_rail\": 0.0, \"is_coverage\": 1.0, \"is_downtown_local\": 0.0, \"is_local\": 0.0, \"Date\": \"2023-04-12T00:00:00\", \"Route typology\": \"rapid\", \"# Minutes with 1+ VP per Minute\": 325, \"# Minutes with 2+ VP per Minute\": 321, \"Aggregate Actual Service Minutes\": 313.72, \"Aggregate Scheduled Service Minutes (all trips)\": 260.0, \"# VP\": 958, \"# VP within Scheduled Shape\": 958, \"# Early Arrival Trips\": 3, \"# On-Time Trips\": 2, \"# Late Trips\": 8, \"# Trips with VP\": 13, \"Average VP per Minute\": 3.05, \"% VP within Scheduled Shape\": 100.0, \"pct_rt_journey_atleast1_vp\": 100.0, \"pct_rt_journey_atleast2_vp\": 100.0, \"% Scheduled Trip w/ 1+ VP/Minute\": 100.0, \"% Scheduled Trip w/ 2+ VP/Minute\": 100.0, \"Realtime versus Scheduled Service Ratio\": 1.21, \"Average Actual Service (Trip Minutes)\": 24.13, \"GTFS Availability\": \"schedule_and_vp\", \"Speed (MPH)\": 13.86, \"Transit Operator\": \"Bay Area 511 Fairfield and Suisun Transit Schedule\", \"route_long_name\": \"FTC/Fairfield Walmart\", \"route_short_name\": \"1\", \"Route\": \"1 FTC/Fairfield Walmart\", \"Route ID\": \"1\", \"schedule_source_record_id\": \"recjCb2XW7w8RXZBI\", \"Base64 Encoded Feed URL\": \"aHR0cHM6Ly9hcGkuNTExLm9yZy90cmFuc2l0L2RhdGFmZWVkcz9vcGVyYXRvcl9pZD1GUw==\", \"Organization ID\": \"recot6qBamlOoLcrM\", \"Organization\": \"City of Fairfield\", \"District\": \"04 - Oakland\", \"ruler_100_pct\": 100, \"ruler_for_vp_per_min\": 2, \"frequency_in_minutes\": 74.07407407407408, \"frequency_in_minutes_cat\": \"Bus every 60+ minutes\", \"Frequency in Minutes\": \"A trip going this direction comes every 74 minutes\"}, {\"schedule_gtfs_dataset_key\": \"0f5e1b251db53223200c5bfc365d33f2\", \"Direction\": 0.0, \"Period\": \"offpeak\", \"Average Scheduled Service (trip minutes)\": 20.0, \"Average Stop Distance (miles)\": 0.2, \"# scheduled trips\": 13, \"Trips per Hour\": 0.81, \"is_express\": 0.0, \"is_rapid\": 1.0, \"is_rail\": 0.0, \"is_coverage\": 1.0, \"is_downtown_local\": 0.0, \"is_local\": 0.0, \"Date\": \"2023-05-17T00:00:00\", \"Route typology\": \"rapid\", \"# Minutes with 1+ VP per Minute\": 334, \"# Minutes with 2+ VP per Minute\": 326, \"Aggregate Actual Service Minutes\": 319.99, \"Aggregate Scheduled Service Minutes (all trips)\": 260.0, \"# VP\": 976, \"# VP within Scheduled Shape\": 976, \"# Early Arrival Trips\": 2, \"# On-Time Trips\": 4, \"# Late Trips\": 7, \"# Trips with VP\": 13, \"Average VP per Minute\": 3.05, \"% VP within Scheduled Shape\": 100.0, \"pct_rt_journey_atleast1_vp\": 100.0, \"pct_rt_journey_atleast2_vp\": 100.0, \"% Scheduled Trip w/ 1+ VP/Minute\": 100.0, \"% Scheduled Trip w/ 2+ VP/Minute\": 100.0, \"Realtime versus Scheduled Service Ratio\": 1.23, \"Average Actual Service (Trip Minutes)\": 24.61, \"GTFS Availability\": \"schedule_and_vp\", \"Speed (MPH)\": 13.81, \"Transit Operator\": \"Bay Area 511 Fairfield and Suisun Transit Schedule\", \"route_long_name\": \"FTC/Fairfield Walmart\", \"route_short_name\": \"1\", \"Route\": \"1 FTC/Fairfield Walmart\", \"Route ID\": \"1\", \"schedule_source_record_id\": \"recjCb2XW7w8RXZBI\", \"Base64 Encoded Feed URL\": \"aHR0cHM6Ly9hcGkuNTExLm9yZy90cmFuc2l0L2RhdGFmZWVkcz9vcGVyYXRvcl9pZD1GUw==\", \"Organization ID\": \"recot6qBamlOoLcrM\", \"Organization\": \"City of Fairfield\", \"District\": \"04 - Oakland\", \"ruler_100_pct\": 100, \"ruler_for_vp_per_min\": 2, \"frequency_in_minutes\": 74.07407407407408, \"frequency_in_minutes_cat\": \"Bus every 60+ minutes\", \"Frequency in Minutes\": \"A trip going this direction comes every 74 minutes\"}, {\"schedule_gtfs_dataset_key\": \"0f5e1b251db53223200c5bfc365d33f2\", \"Direction\": 0.0, \"Period\": \"offpeak\", \"Average Scheduled Service (trip minutes)\": 20.0, \"Average Stop Distance (miles)\": 0.2, \"# scheduled trips\": 13, \"Trips per Hour\": 0.81, \"is_express\": 0.0, \"is_rapid\": 1.0, \"is_rail\": 0.0, \"is_coverage\": 1.0, \"is_downtown_local\": 0.0, \"is_local\": 0.0, \"Date\": \"2023-06-14T00:00:00\", \"Route typology\": \"rapid\", \"# Minutes with 1+ VP per Minute\": 344, \"# Minutes with 2+ VP per Minute\": 329, \"Aggregate Actual Service Minutes\": 327.03, \"Aggregate Scheduled Service Minutes (all trips)\": 260.0, \"# VP\": 994, \"# VP within Scheduled Shape\": 994, \"# Early Arrival Trips\": 2, \"# On-Time Trips\": 2, \"# Late Trips\": 9, \"# Trips with VP\": 13, \"Average VP per Minute\": 3.04, \"% VP within Scheduled Shape\": 100.0, \"pct_rt_journey_atleast1_vp\": 100.0, \"pct_rt_journey_atleast2_vp\": 100.0, \"% Scheduled Trip w/ 1+ VP/Minute\": 100.0, \"% Scheduled Trip w/ 2+ VP/Minute\": 100.0, \"Realtime versus Scheduled Service Ratio\": 1.26, \"Average Actual Service (Trip Minutes)\": 25.16, \"GTFS Availability\": \"schedule_and_vp\", \"Speed (MPH)\": 13.94, \"Transit Operator\": \"Bay Area 511 Fairfield and Suisun Transit Schedule\", \"route_long_name\": \"FTC/Fairfield Walmart\", \"route_short_name\": \"1\", \"Route\": \"1 FTC/Fairfield Walmart\", \"Route ID\": \"1\", \"schedule_source_record_id\": \"recjCb2XW7w8RXZBI\", \"Base64 Encoded Feed URL\": \"aHR0cHM6Ly9hcGkuNTExLm9yZy90cmFuc2l0L2RhdGFmZWVkcz9vcGVyYXRvcl9pZD1GUw==\", \"Organization ID\": \"recot6qBamlOoLcrM\", \"Organization\": \"City of Fairfield\", \"District\": \"04 - Oakland\", \"ruler_100_pct\": 100, \"ruler_for_vp_per_min\": 2, \"frequency_in_minutes\": 74.07407407407408, \"frequency_in_minutes_cat\": \"Bus every 60+ minutes\", \"Frequency in Minutes\": \"A trip going this direction comes every 74 minutes\"}, {\"schedule_gtfs_dataset_key\": \"0f5e1b251db53223200c5bfc365d33f2\", \"Direction\": 0.0, \"Period\": \"offpeak\", \"Average Scheduled Service (trip minutes)\": 20.0, \"Average Stop Distance (miles)\": 0.2, \"# scheduled trips\": 13, \"Trips per Hour\": 0.81, \"is_express\": 0.0, \"is_rapid\": 1.0, \"is_rail\": 0.0, \"is_coverage\": 1.0, \"is_downtown_local\": 0.0, \"is_local\": 0.0, \"Date\": \"2023-07-12T00:00:00\", \"Route typology\": \"rapid\", \"# Minutes with 1+ VP per Minute\": 332, \"# Minutes with 2+ VP per Minute\": 325, \"Aggregate Actual Service Minutes\": 317.72, \"Aggregate Scheduled Service Minutes (all trips)\": 260.0, \"# VP\": 968, \"# VP within Scheduled Shape\": 968, \"# Early Arrival Trips\": 2, \"# On-Time Trips\": 3, \"# Late Trips\": 8, \"# Trips with VP\": 13, \"Average VP per Minute\": 3.05, \"% VP within Scheduled Shape\": 100.0, \"pct_rt_journey_atleast1_vp\": 100.0, \"pct_rt_journey_atleast2_vp\": 100.0, \"% Scheduled Trip w/ 1+ VP/Minute\": 100.0, \"% Scheduled Trip w/ 2+ VP/Minute\": 100.0, \"Realtime versus Scheduled Service Ratio\": 1.22, \"Average Actual Service (Trip Minutes)\": 24.44, \"GTFS Availability\": \"schedule_and_vp\", \"Speed (MPH)\": 14.86, \"Transit Operator\": \"Bay Area 511 Fairfield and Suisun Transit Schedule\", \"route_long_name\": \"FTC/Fairfield Walmart\", \"route_short_name\": \"1\", \"Route\": \"1 FTC/Fairfield Walmart\", \"Route ID\": \"1\", \"schedule_source_record_id\": \"recjCb2XW7w8RXZBI\", \"Base64 Encoded Feed URL\": \"aHR0cHM6Ly9hcGkuNTExLm9yZy90cmFuc2l0L2RhdGFmZWVkcz9vcGVyYXRvcl9pZD1GUw==\", \"Organization ID\": \"recot6qBamlOoLcrM\", \"Organization\": \"City of Fairfield\", \"District\": \"04 - Oakland\", \"ruler_100_pct\": 100, \"ruler_for_vp_per_min\": 2, \"frequency_in_minutes\": 74.07407407407408, \"frequency_in_minutes_cat\": \"Bus every 60+ minutes\", \"Frequency in Minutes\": \"A trip going this direction comes every 74 minutes\"}, {\"schedule_gtfs_dataset_key\": \"0f5e1b251db53223200c5bfc365d33f2\", \"Direction\": 0.0, \"Period\": \"offpeak\", \"Average Scheduled Service (trip minutes)\": 20.0, \"Average Stop Distance (miles)\": 0.2, \"# scheduled trips\": 13, \"Trips per Hour\": 0.81, \"is_express\": 0.0, \"is_rapid\": 1.0, \"is_rail\": 0.0, \"is_coverage\": 1.0, \"is_downtown_local\": 0.0, \"is_local\": 0.0, \"Date\": \"2023-08-15T00:00:00\", \"Route typology\": \"rapid\", \"# Minutes with 1+ VP per Minute\": 330, \"# Minutes with 2+ VP per Minute\": 319, \"Aggregate Actual Service Minutes\": 316.67, \"Aggregate Scheduled Service Minutes (all trips)\": 260.0, \"# VP\": 962, \"# VP within Scheduled Shape\": 962, \"# Early Arrival Trips\": 3, \"# On-Time Trips\": 1, \"# Late Trips\": 9, \"# Trips with VP\": 13, \"Average VP per Minute\": 3.04, \"% VP within Scheduled Shape\": 100.0, \"pct_rt_journey_atleast1_vp\": 100.0, \"pct_rt_journey_atleast2_vp\": 100.0, \"% Scheduled Trip w/ 1+ VP/Minute\": 100.0, \"% Scheduled Trip w/ 2+ VP/Minute\": 100.0, \"Realtime versus Scheduled Service Ratio\": 1.22, \"Average Actual Service (Trip Minutes)\": 24.36, \"GTFS Availability\": \"schedule_and_vp\", \"Speed (MPH)\": 14.6, \"Transit Operator\": \"Bay Area 511 Fairfield and Suisun Transit Schedule\", \"route_long_name\": \"FTC/Fairfield Walmart\", \"route_short_name\": \"1\", \"Route\": \"1 FTC/Fairfield Walmart\", \"Route ID\": \"1\", \"schedule_source_record_id\": \"recjCb2XW7w8RXZBI\", \"Base64 Encoded Feed URL\": \"aHR0cHM6Ly9hcGkuNTExLm9yZy90cmFuc2l0L2RhdGFmZWVkcz9vcGVyYXRvcl9pZD1GUw==\", \"Organization ID\": \"recot6qBamlOoLcrM\", \"Organization\": \"City of Fairfield\", \"District\": \"04 - Oakland\", \"ruler_100_pct\": 100, \"ruler_for_vp_per_min\": 2, \"frequency_in_minutes\": 74.07407407407408, \"frequency_in_minutes_cat\": \"Bus every 60+ minutes\", \"Frequency in Minutes\": \"A trip going this direction comes every 74 minutes\"}, {\"schedule_gtfs_dataset_key\": \"0f5e1b251db53223200c5bfc365d33f2\", \"Direction\": 0.0, \"Period\": \"offpeak\", \"Average Scheduled Service (trip minutes)\": 20.0, \"Average Stop Distance (miles)\": 0.2, \"# scheduled trips\": 13, \"Trips per Hour\": 0.81, \"is_express\": 0.0, \"is_rapid\": 1.0, \"is_rail\": 0.0, \"is_coverage\": 1.0, \"is_downtown_local\": 0.0, \"is_local\": 0.0, \"Date\": \"2023-09-13T00:00:00\", \"Route typology\": \"rapid\", \"# Minutes with 1+ VP per Minute\": 368, \"# Minutes with 2+ VP per Minute\": 359, \"Aggregate Actual Service Minutes\": 401.84, \"Aggregate Scheduled Service Minutes (all trips)\": 260.0, \"# VP\": 1070, \"# VP within Scheduled Shape\": 978, \"# Early Arrival Trips\": 0, \"# On-Time Trips\": 2, \"# Late Trips\": 11, \"# Trips with VP\": 13, \"Average VP per Minute\": 2.66, \"% VP within Scheduled Shape\": 91.0, \"pct_rt_journey_atleast1_vp\": 92.0, \"pct_rt_journey_atleast2_vp\": 89.0, \"% Scheduled Trip w/ 1+ VP/Minute\": 100.0, \"% Scheduled Trip w/ 2+ VP/Minute\": 100.0, \"Realtime versus Scheduled Service Ratio\": 1.55, \"Average Actual Service (Trip Minutes)\": 30.91, \"GTFS Availability\": \"schedule_and_vp\", \"Speed (MPH)\": 14.47, \"Transit Operator\": \"Bay Area 511 Fairfield and Suisun Transit Schedule\", \"route_long_name\": \"FTC/Fairfield Walmart\", \"route_short_name\": \"1\", \"Route\": \"1 FTC/Fairfield Walmart\", \"Route ID\": \"1\", \"schedule_source_record_id\": \"recjCb2XW7w8RXZBI\", \"Base64 Encoded Feed URL\": \"aHR0cHM6Ly9hcGkuNTExLm9yZy90cmFuc2l0L2RhdGFmZWVkcz9vcGVyYXRvcl9pZD1GUw==\", \"Organization ID\": \"recot6qBamlOoLcrM\", \"Organization\": \"City of Fairfield\", \"District\": \"04 - Oakland\", \"ruler_100_pct\": 100, \"ruler_for_vp_per_min\": 2, \"frequency_in_minutes\": 74.07407407407408, \"frequency_in_minutes_cat\": \"Bus every 60+ minutes\", \"Frequency in Minutes\": \"A trip going this direction comes every 74 minutes\"}, {\"schedule_gtfs_dataset_key\": \"0f5e1b251db53223200c5bfc365d33f2\", \"Direction\": 0.0, \"Period\": \"offpeak\", \"Average Scheduled Service (trip minutes)\": 20.0, \"Average Stop Distance (miles)\": 0.2, \"# scheduled trips\": 13, \"Trips per Hour\": 0.81, \"is_express\": 0.0, \"is_rapid\": 1.0, \"is_rail\": 0.0, \"is_coverage\": 1.0, \"is_downtown_local\": 0.0, \"is_local\": 0.0, \"Date\": \"2023-10-11T00:00:00\", \"Route typology\": \"rapid\", \"# Minutes with 1+ VP per Minute\": 362, \"# Minutes with 2+ VP per Minute\": 353, \"Aggregate Actual Service Minutes\": 352.4, \"Aggregate Scheduled Service Minutes (all trips)\": 260.0, \"# VP\": 1060, \"# VP within Scheduled Shape\": 1044, \"# Early Arrival Trips\": 1, \"# On-Time Trips\": 4, \"# Late Trips\": 8, \"# Trips with VP\": 13, \"Average VP per Minute\": 3.01, \"% VP within Scheduled Shape\": 98.0, \"pct_rt_journey_atleast1_vp\": 100.0, \"pct_rt_journey_atleast2_vp\": 100.0, \"% Scheduled Trip w/ 1+ VP/Minute\": 100.0, \"% Scheduled Trip w/ 2+ VP/Minute\": 100.0, \"Realtime versus Scheduled Service Ratio\": 1.36, \"Average Actual Service (Trip Minutes)\": 27.11, \"GTFS Availability\": \"schedule_and_vp\", \"Speed (MPH)\": 13.88, \"Transit Operator\": \"Bay Area 511 Fairfield and Suisun Transit Schedule\", \"route_long_name\": \"FTC/Fairfield Walmart\", \"route_short_name\": \"1\", \"Route\": \"1 FTC/Fairfield Walmart\", \"Route ID\": \"1\", \"schedule_source_record_id\": \"recjCb2XW7w8RXZBI\", \"Base64 Encoded Feed URL\": \"aHR0cHM6Ly9hcGkuNTExLm9yZy90cmFuc2l0L2RhdGFmZWVkcz9vcGVyYXRvcl9pZD1GUw==\", \"Organization ID\": \"recot6qBamlOoLcrM\", \"Organization\": \"City of Fairfield\", \"District\": \"04 - Oakland\", \"ruler_100_pct\": 100, \"ruler_for_vp_per_min\": 2, \"frequency_in_minutes\": 74.07407407407408, \"frequency_in_minutes_cat\": \"Bus every 60+ minutes\", \"Frequency in Minutes\": \"A trip going this direction comes every 74 minutes\"}, {\"schedule_gtfs_dataset_key\": \"0f5e1b251db53223200c5bfc365d33f2\", \"Direction\": 0.0, \"Period\": \"offpeak\", \"Average Scheduled Service (trip minutes)\": 20.0, \"Average Stop Distance (miles)\": 0.2, \"# scheduled trips\": 13, \"Trips per Hour\": 0.81, \"is_express\": 0.0, \"is_rapid\": 1.0, \"is_rail\": 0.0, \"is_coverage\": 1.0, \"is_downtown_local\": 0.0, \"is_local\": 0.0, \"Date\": \"2023-11-15T00:00:00\", \"Route typology\": \"rapid\", \"# Minutes with 1+ VP per Minute\": 451, \"# Minutes with 2+ VP per Minute\": 437, \"Aggregate Actual Service Minutes\": 476.86, \"Aggregate Scheduled Service Minutes (all trips)\": 260.0, \"# VP\": 1313, \"# VP within Scheduled Shape\": 1125, \"# Early Arrival Trips\": 0, \"# On-Time Trips\": 0, \"# Late Trips\": 13, \"# Trips with VP\": 13, \"Average VP per Minute\": 2.75, \"% VP within Scheduled Shape\": 86.0, \"pct_rt_journey_atleast1_vp\": 95.0, \"pct_rt_journey_atleast2_vp\": 92.0, \"% Scheduled Trip w/ 1+ VP/Minute\": 100.0, \"% Scheduled Trip w/ 2+ VP/Minute\": 100.0, \"Realtime versus Scheduled Service Ratio\": 1.83, \"Average Actual Service (Trip Minutes)\": 36.68, \"GTFS Availability\": \"schedule_and_vp\", \"Speed (MPH)\": 12.93, \"Transit Operator\": \"Bay Area 511 Fairfield and Suisun Transit Schedule\", \"route_long_name\": \"FTC/Fairfield Walmart\", \"route_short_name\": \"1\", \"Route\": \"1 FTC/Fairfield Walmart\", \"Route ID\": \"1\", \"schedule_source_record_id\": \"recjCb2XW7w8RXZBI\", \"Base64 Encoded Feed URL\": \"aHR0cHM6Ly9hcGkuNTExLm9yZy90cmFuc2l0L2RhdGFmZWVkcz9vcGVyYXRvcl9pZD1GUw==\", \"Organization ID\": \"recot6qBamlOoLcrM\", \"Organization\": \"City of Fairfield\", \"District\": \"04 - Oakland\", \"ruler_100_pct\": 100, \"ruler_for_vp_per_min\": 2, \"frequency_in_minutes\": 74.07407407407408, \"frequency_in_minutes_cat\": \"Bus every 60+ minutes\", \"Frequency in Minutes\": \"A trip going this direction comes every 74 minutes\"}, {\"schedule_gtfs_dataset_key\": \"0f5e1b251db53223200c5bfc365d33f2\", \"Direction\": 0.0, \"Period\": \"offpeak\", \"Average Scheduled Service (trip minutes)\": 20.0, \"Average Stop Distance (miles)\": 0.2, \"# scheduled trips\": 13, \"Trips per Hour\": 0.81, \"is_express\": 0.0, \"is_rapid\": 1.0, \"is_rail\": 0.0, \"is_coverage\": 1.0, \"is_downtown_local\": 0.0, \"is_local\": 0.0, \"Date\": \"2023-12-13T00:00:00\", \"Route typology\": \"rapid\", \"# Minutes with 1+ VP per Minute\": 410, \"# Minutes with 2+ VP per Minute\": 401, \"Aggregate Actual Service Minutes\": 397.6, \"Aggregate Scheduled Service Minutes (all trips)\": 260.0, \"# VP\": 1204, \"# VP within Scheduled Shape\": 1076, \"# Early Arrival Trips\": 0, \"# On-Time Trips\": 1, \"# Late Trips\": 12, \"# Trips with VP\": 13, \"Average VP per Minute\": 3.03, \"% VP within Scheduled Shape\": 89.0, \"pct_rt_journey_atleast1_vp\": 100.0, \"pct_rt_journey_atleast2_vp\": 100.0, \"% Scheduled Trip w/ 1+ VP/Minute\": 100.0, \"% Scheduled Trip w/ 2+ VP/Minute\": 100.0, \"Realtime versus Scheduled Service Ratio\": 1.53, \"Average Actual Service (Trip Minutes)\": 30.58, \"GTFS Availability\": \"schedule_and_vp\", \"Speed (MPH)\": 13.34, \"Transit Operator\": \"Bay Area 511 Fairfield and Suisun Transit Schedule\", \"route_long_name\": \"FTC/Fairfield Walmart\", \"route_short_name\": \"1\", \"Route\": \"1 FTC/Fairfield Walmart\", \"Route ID\": \"1\", \"schedule_source_record_id\": \"recjCb2XW7w8RXZBI\", \"Base64 Encoded Feed URL\": \"aHR0cHM6Ly9hcGkuNTExLm9yZy90cmFuc2l0L2RhdGFmZWVkcz9vcGVyYXRvcl9pZD1GUw==\", \"Organization ID\": \"recot6qBamlOoLcrM\", \"Organization\": \"City of Fairfield\", \"District\": \"04 - Oakland\", \"ruler_100_pct\": 100, \"ruler_for_vp_per_min\": 2, \"frequency_in_minutes\": 74.07407407407408, \"frequency_in_minutes_cat\": \"Bus every 60+ minutes\", \"Frequency in Minutes\": \"A trip going this direction comes every 74 minutes\"}, {\"schedule_gtfs_dataset_key\": \"0f5e1b251db53223200c5bfc365d33f2\", \"Direction\": 0.0, \"Period\": \"offpeak\", \"Average Scheduled Service (trip minutes)\": 20.0, \"Average Stop Distance (miles)\": 0.2, \"# scheduled trips\": 13, \"Trips per Hour\": 0.81, \"is_express\": 0.0, \"is_rapid\": 1.0, \"is_rail\": 0.0, \"is_coverage\": 1.0, \"is_downtown_local\": 0.0, \"is_local\": 0.0, \"Date\": \"2024-01-17T00:00:00\", \"Route typology\": \"rapid\", \"# Minutes with 1+ VP per Minute\": 365, \"# Minutes with 2+ VP per Minute\": 360, \"Aggregate Actual Service Minutes\": 354.45, \"Aggregate Scheduled Service Minutes (all trips)\": 260.0, \"# VP\": 1076, \"# VP within Scheduled Shape\": 987, \"# Early Arrival Trips\": 1, \"# On-Time Trips\": 2, \"# Late Trips\": 10, \"# Trips with VP\": 13, \"Average VP per Minute\": 3.04, \"% VP within Scheduled Shape\": 92.0, \"pct_rt_journey_atleast1_vp\": 100.0, \"pct_rt_journey_atleast2_vp\": 100.0, \"% Scheduled Trip w/ 1+ VP/Minute\": 100.0, \"% Scheduled Trip w/ 2+ VP/Minute\": 100.0, \"Realtime versus Scheduled Service Ratio\": 1.36, \"Average Actual Service (Trip Minutes)\": 27.27, \"GTFS Availability\": \"schedule_and_vp\", \"Speed (MPH)\": 12.76, \"Transit Operator\": \"Bay Area 511 Fairfield and Suisun Transit Schedule\", \"route_long_name\": \"FTC/Fairfield Walmart\", \"route_short_name\": \"1\", \"Route\": \"1 FTC/Fairfield Walmart\", \"Route ID\": \"1\", \"schedule_source_record_id\": \"recjCb2XW7w8RXZBI\", \"Base64 Encoded Feed URL\": \"aHR0cHM6Ly9hcGkuNTExLm9yZy90cmFuc2l0L2RhdGFmZWVkcz9vcGVyYXRvcl9pZD1GUw==\", \"Organization ID\": \"recot6qBamlOoLcrM\", \"Organization\": \"City of Fairfield\", \"District\": \"04 - Oakland\", \"ruler_100_pct\": 100, \"ruler_for_vp_per_min\": 2, \"frequency_in_minutes\": 74.07407407407408, \"frequency_in_minutes_cat\": \"Bus every 60+ minutes\", \"Frequency in Minutes\": \"A trip going this direction comes every 74 minutes\"}, {\"schedule_gtfs_dataset_key\": \"0f5e1b251db53223200c5bfc365d33f2\", \"Direction\": 0.0, \"Period\": \"offpeak\", \"Average Scheduled Service (trip minutes)\": 20.0, \"Average Stop Distance (miles)\": 0.2, \"# scheduled trips\": 13, \"Trips per Hour\": 0.81, \"is_express\": 0.0, \"is_rapid\": 1.0, \"is_rail\": 0.0, \"is_coverage\": 1.0, \"is_downtown_local\": 0.0, \"is_local\": 0.0, \"Date\": \"2024-02-14T00:00:00\", \"Route typology\": \"rapid\", \"# Minutes with 1+ VP per Minute\": 376, \"# Minutes with 2+ VP per Minute\": 363, \"Aggregate Actual Service Minutes\": 360.27, \"Aggregate Scheduled Service Minutes (all trips)\": 260.0, \"# VP\": 1092, \"# VP within Scheduled Shape\": 982, \"# Early Arrival Trips\": 0, \"# On-Time Trips\": 4, \"# Late Trips\": 9, \"# Trips with VP\": 13, \"Average VP per Minute\": 3.03, \"% VP within Scheduled Shape\": 90.0, \"pct_rt_journey_atleast1_vp\": 100.0, \"pct_rt_journey_atleast2_vp\": 100.0, \"% Scheduled Trip w/ 1+ VP/Minute\": 100.0, \"% Scheduled Trip w/ 2+ VP/Minute\": 100.0, \"Realtime versus Scheduled Service Ratio\": 1.39, \"Average Actual Service (Trip Minutes)\": 27.71, \"GTFS Availability\": \"schedule_and_vp\", \"Speed (MPH)\": 14.29, \"Transit Operator\": \"Bay Area 511 Fairfield and Suisun Transit Schedule\", \"route_long_name\": \"FTC/Fairfield Walmart\", \"route_short_name\": \"1\", \"Route\": \"1 FTC/Fairfield Walmart\", \"Route ID\": \"1\", \"schedule_source_record_id\": \"recjCb2XW7w8RXZBI\", \"Base64 Encoded Feed URL\": \"aHR0cHM6Ly9hcGkuNTExLm9yZy90cmFuc2l0L2RhdGFmZWVkcz9vcGVyYXRvcl9pZD1GUw==\", \"Organization ID\": \"recot6qBamlOoLcrM\", \"Organization\": \"City of Fairfield\", \"District\": \"04 - Oakland\", \"ruler_100_pct\": 100, \"ruler_for_vp_per_min\": 2, \"frequency_in_minutes\": 74.07407407407408, \"frequency_in_minutes_cat\": \"Bus every 60+ minutes\", \"Frequency in Minutes\": \"A trip going this direction comes every 74 minutes\"}, {\"schedule_gtfs_dataset_key\": \"0f5e1b251db53223200c5bfc365d33f2\", \"Direction\": 0.0, \"Period\": \"offpeak\", \"Average Scheduled Service (trip minutes)\": 20.0, \"Average Stop Distance (miles)\": 0.2, \"# scheduled trips\": 13, \"Trips per Hour\": 0.81, \"is_express\": 0.0, \"is_rapid\": 1.0, \"is_rail\": 0.0, \"is_coverage\": 1.0, \"is_downtown_local\": 0.0, \"is_local\": 0.0, \"Date\": \"2024-03-13T00:00:00\", \"Route typology\": \"rapid\", \"# Minutes with 1+ VP per Minute\": 362, \"# Minutes with 2+ VP per Minute\": 352, \"Aggregate Actual Service Minutes\": 358.27, \"Aggregate Scheduled Service Minutes (all trips)\": 260.0, \"# VP\": 1053, \"# VP within Scheduled Shape\": 1020, \"# Early Arrival Trips\": 1, \"# On-Time Trips\": 3, \"# Late Trips\": 9, \"# Trips with VP\": 13, \"Average VP per Minute\": 2.94, \"% VP within Scheduled Shape\": 97.0, \"pct_rt_journey_atleast1_vp\": 100.0, \"pct_rt_journey_atleast2_vp\": 98.0, \"% Scheduled Trip w/ 1+ VP/Minute\": 100.0, \"% Scheduled Trip w/ 2+ VP/Minute\": 100.0, \"Realtime versus Scheduled Service Ratio\": 1.38, \"Average Actual Service (Trip Minutes)\": 27.56, \"GTFS Availability\": \"schedule_and_vp\", \"Speed (MPH)\": 12.79, \"Transit Operator\": \"Bay Area 511 Fairfield and Suisun Transit Schedule\", \"route_long_name\": \"FTC/Fairfield Walmart\", \"route_short_name\": \"1\", \"Route\": \"1 FTC/Fairfield Walmart\", \"Route ID\": \"1\", \"schedule_source_record_id\": \"recjCb2XW7w8RXZBI\", \"Base64 Encoded Feed URL\": \"aHR0cHM6Ly9hcGkuNTExLm9yZy90cmFuc2l0L2RhdGFmZWVkcz9vcGVyYXRvcl9pZD1GUw==\", \"Organization ID\": \"recot6qBamlOoLcrM\", \"Organization\": \"City of Fairfield\", \"District\": \"04 - Oakland\", \"ruler_100_pct\": 100, \"ruler_for_vp_per_min\": 2, \"frequency_in_minutes\": 74.07407407407408, \"frequency_in_minutes_cat\": \"Bus every 60+ minutes\", \"Frequency in Minutes\": \"A trip going this direction comes every 74 minutes\"}, {\"schedule_gtfs_dataset_key\": \"0f5e1b251db53223200c5bfc365d33f2\", \"Direction\": 0.0, \"Period\": \"offpeak\", \"Average Scheduled Service (trip minutes)\": 20.0, \"Average Stop Distance (miles)\": 0.2, \"# scheduled trips\": 13, \"Trips per Hour\": 0.81, \"is_express\": 0.0, \"is_rapid\": 1.0, \"is_rail\": 0.0, \"is_coverage\": 1.0, \"is_downtown_local\": 0.0, \"is_local\": 0.0, \"Date\": \"2024-04-17T00:00:00\", \"Route typology\": \"rapid\", \"# Minutes with 1+ VP per Minute\": 186, \"# Minutes with 2+ VP per Minute\": 185, \"Aggregate Actual Service Minutes\": 189.17, \"Aggregate Scheduled Service Minutes (all trips)\": 140.0, \"# VP\": 552, \"# VP within Scheduled Shape\": 507, \"# Early Arrival Trips\": 0, \"# On-Time Trips\": 2, \"# Late Trips\": 5, \"# Trips with VP\": 7, \"Average VP per Minute\": 2.92, \"% VP within Scheduled Shape\": 92.0, \"pct_rt_journey_atleast1_vp\": 98.0, \"pct_rt_journey_atleast2_vp\": 98.0, \"% Scheduled Trip w/ 1+ VP/Minute\": 100.0, \"% Scheduled Trip w/ 2+ VP/Minute\": 100.0, \"Realtime versus Scheduled Service Ratio\": 1.35, \"Average Actual Service (Trip Minutes)\": 27.02, \"GTFS Availability\": \"schedule_and_vp\", \"Speed (MPH)\": 13.79, \"Transit Operator\": \"Bay Area 511 Fairfield and Suisun Transit Schedule\", \"route_long_name\": \"FTC/Fairfield Walmart\", \"route_short_name\": \"1\", \"Route\": \"1 FTC/Fairfield Walmart\", \"Route ID\": \"1\", \"schedule_source_record_id\": \"recjCb2XW7w8RXZBI\", \"Base64 Encoded Feed URL\": \"aHR0cHM6Ly9hcGkuNTExLm9yZy90cmFuc2l0L2RhdGFmZWVkcz9vcGVyYXRvcl9pZD1GUw==\", \"Organization ID\": \"recot6qBamlOoLcrM\", \"Organization\": \"City of Fairfield\", \"District\": \"04 - Oakland\", \"ruler_100_pct\": 100, \"ruler_for_vp_per_min\": 2, \"frequency_in_minutes\": 74.07407407407408, \"frequency_in_minutes_cat\": \"Bus every 60+ minutes\", \"Frequency in Minutes\": \"A trip going this direction comes every 74 minutes\"}, {\"schedule_gtfs_dataset_key\": \"0f5e1b251db53223200c5bfc365d33f2\", \"Direction\": 0.0, \"Period\": \"peak\", \"Average Scheduled Service (trip minutes)\": 20.0, \"Average Stop Distance (miles)\": 0.94, \"# scheduled trips\": 17, \"Trips per Hour\": 2.12, \"is_express\": 0.0, \"is_rapid\": 1.0, \"is_rail\": 0.0, \"is_coverage\": 1.0, \"is_downtown_local\": 0.0, \"is_local\": 0.0, \"Date\": \"2023-03-15T00:00:00\", \"Route typology\": \"rapid\", \"# Minutes with 1+ VP per Minute\": 459, \"# Minutes with 2+ VP per Minute\": 450, \"Aggregate Actual Service Minutes\": 442.5, \"Aggregate Scheduled Service Minutes (all trips)\": 340.0, \"# VP\": 1346, \"# VP within Scheduled Shape\": 1346, \"# Early Arrival Trips\": 0, \"# On-Time Trips\": 6, \"# Late Trips\": 11, \"# Trips with VP\": 17, \"Average VP per Minute\": 3.04, \"% VP within Scheduled Shape\": 100.0, \"pct_rt_journey_atleast1_vp\": 100.0, \"pct_rt_journey_atleast2_vp\": 100.0, \"% Scheduled Trip w/ 1+ VP/Minute\": 100.0, \"% Scheduled Trip w/ 2+ VP/Minute\": 100.0, \"Realtime versus Scheduled Service Ratio\": 1.3, \"Average Actual Service (Trip Minutes)\": 26.03, \"GTFS Availability\": \"schedule_and_vp\", \"Speed (MPH)\": 13.68, \"Transit Operator\": \"Bay Area 511 Fairfield and Suisun Transit Schedule\", \"route_long_name\": \"FTC/Fairfield Walmart\", \"route_short_name\": \"1\", \"Route\": \"1 FTC/Fairfield Walmart\", \"Route ID\": \"1\", \"schedule_source_record_id\": \"recjCb2XW7w8RXZBI\", \"Base64 Encoded Feed URL\": \"aHR0cHM6Ly9hcGkuNTExLm9yZy90cmFuc2l0L2RhdGFmZWVkcz9vcGVyYXRvcl9pZD1GUw==\", \"Organization ID\": \"recot6qBamlOoLcrM\", \"Organization\": \"City of Fairfield\", \"District\": \"04 - Oakland\", \"ruler_100_pct\": 100, \"ruler_for_vp_per_min\": 2, \"frequency_in_minutes\": 28.30188679245283, \"frequency_in_minutes_cat\": \"Bus every 16-30 minutes\", \"Frequency in Minutes\": \"A trip going this direction comes every 28 minutes\"}, {\"schedule_gtfs_dataset_key\": \"0f5e1b251db53223200c5bfc365d33f2\", \"Direction\": 0.0, \"Period\": \"peak\", \"Average Scheduled Service (trip minutes)\": 20.0, \"Average Stop Distance (miles)\": 0.94, \"# scheduled trips\": 17, \"Trips per Hour\": 2.12, \"is_express\": 0.0, \"is_rapid\": 1.0, \"is_rail\": 0.0, \"is_coverage\": 1.0, \"is_downtown_local\": 0.0, \"is_local\": 0.0, \"Date\": \"2023-04-12T00:00:00\", \"Route typology\": \"rapid\", \"# Minutes with 1+ VP per Minute\": 461, \"# Minutes with 2+ VP per Minute\": 450, \"Aggregate Actual Service Minutes\": 446.05, \"Aggregate Scheduled Service Minutes (all trips)\": 340.0, \"# VP\": 1348, \"# VP within Scheduled Shape\": 1348, \"# Early Arrival Trips\": 0, \"# On-Time Trips\": 2, \"# Late Trips\": 15, \"# Trips with VP\": 17, \"Average VP per Minute\": 3.02, \"% VP within Scheduled Shape\": 100.0, \"pct_rt_journey_atleast1_vp\": 100.0, \"pct_rt_journey_atleast2_vp\": 100.0, \"% Scheduled Trip w/ 1+ VP/Minute\": 100.0, \"% Scheduled Trip w/ 2+ VP/Minute\": 100.0, \"Realtime versus Scheduled Service Ratio\": 1.31, \"Average Actual Service (Trip Minutes)\": 26.24, \"GTFS Availability\": \"schedule_and_vp\", \"Speed (MPH)\": 13.74, \"Transit Operator\": \"Bay Area 511 Fairfield and Suisun Transit Schedule\", \"route_long_name\": \"FTC/Fairfield Walmart\", \"route_short_name\": \"1\", \"Route\": \"1 FTC/Fairfield Walmart\", \"Route ID\": \"1\", \"schedule_source_record_id\": \"recjCb2XW7w8RXZBI\", \"Base64 Encoded Feed URL\": \"aHR0cHM6Ly9hcGkuNTExLm9yZy90cmFuc2l0L2RhdGFmZWVkcz9vcGVyYXRvcl9pZD1GUw==\", \"Organization ID\": \"recot6qBamlOoLcrM\", \"Organization\": \"City of Fairfield\", \"District\": \"04 - Oakland\", \"ruler_100_pct\": 100, \"ruler_for_vp_per_min\": 2, \"frequency_in_minutes\": 28.30188679245283, \"frequency_in_minutes_cat\": \"Bus every 16-30 minutes\", \"Frequency in Minutes\": \"A trip going this direction comes every 28 minutes\"}, {\"schedule_gtfs_dataset_key\": \"0f5e1b251db53223200c5bfc365d33f2\", \"Direction\": 0.0, \"Period\": \"peak\", \"Average Scheduled Service (trip minutes)\": 20.0, \"Average Stop Distance (miles)\": 0.2, \"# scheduled trips\": 17, \"Trips per Hour\": 2.12, \"is_express\": 0.0, \"is_rapid\": 1.0, \"is_rail\": 0.0, \"is_coverage\": 1.0, \"is_downtown_local\": 0.0, \"is_local\": 0.0, \"Date\": \"2023-05-17T00:00:00\", \"Route typology\": \"rapid\", \"# Minutes with 1+ VP per Minute\": 459, \"# Minutes with 2+ VP per Minute\": 448, \"Aggregate Actual Service Minutes\": 441.68, \"Aggregate Scheduled Service Minutes (all trips)\": 340.0, \"# VP\": 1345, \"# VP within Scheduled Shape\": 1345, \"# Early Arrival Trips\": 0, \"# On-Time Trips\": 6, \"# Late Trips\": 11, \"# Trips with VP\": 17, \"Average VP per Minute\": 3.05, \"% VP within Scheduled Shape\": 100.0, \"pct_rt_journey_atleast1_vp\": 100.0, \"pct_rt_journey_atleast2_vp\": 100.0, \"% Scheduled Trip w/ 1+ VP/Minute\": 100.0, \"% Scheduled Trip w/ 2+ VP/Minute\": 100.0, \"Realtime versus Scheduled Service Ratio\": 1.3, \"Average Actual Service (Trip Minutes)\": 25.98, \"GTFS Availability\": \"schedule_and_vp\", \"Speed (MPH)\": 14.02, \"Transit Operator\": \"Bay Area 511 Fairfield and Suisun Transit Schedule\", \"route_long_name\": \"FTC/Fairfield Walmart\", \"route_short_name\": \"1\", \"Route\": \"1 FTC/Fairfield Walmart\", \"Route ID\": \"1\", \"schedule_source_record_id\": \"recjCb2XW7w8RXZBI\", \"Base64 Encoded Feed URL\": \"aHR0cHM6Ly9hcGkuNTExLm9yZy90cmFuc2l0L2RhdGFmZWVkcz9vcGVyYXRvcl9pZD1GUw==\", \"Organization ID\": \"recot6qBamlOoLcrM\", \"Organization\": \"City of Fairfield\", \"District\": \"04 - Oakland\", \"ruler_100_pct\": 100, \"ruler_for_vp_per_min\": 2, \"frequency_in_minutes\": 28.30188679245283, \"frequency_in_minutes_cat\": \"Bus every 16-30 minutes\", \"Frequency in Minutes\": \"A trip going this direction comes every 28 minutes\"}, {\"schedule_gtfs_dataset_key\": \"0f5e1b251db53223200c5bfc365d33f2\", \"Direction\": 0.0, \"Period\": \"peak\", \"Average Scheduled Service (trip minutes)\": 20.0, \"Average Stop Distance (miles)\": 0.2, \"# scheduled trips\": 17, \"Trips per Hour\": 2.12, \"is_express\": 0.0, \"is_rapid\": 1.0, \"is_rail\": 0.0, \"is_coverage\": 1.0, \"is_downtown_local\": 0.0, \"is_local\": 0.0, \"Date\": \"2023-06-14T00:00:00\", \"Route typology\": \"rapid\", \"# Minutes with 1+ VP per Minute\": 474, \"# Minutes with 2+ VP per Minute\": 464, \"Aggregate Actual Service Minutes\": 456.82, \"Aggregate Scheduled Service Minutes (all trips)\": 340.0, \"# VP\": 1388, \"# VP within Scheduled Shape\": 1388, \"# Early Arrival Trips\": 0, \"# On-Time Trips\": 2, \"# Late Trips\": 15, \"# Trips with VP\": 17, \"Average VP per Minute\": 3.04, \"% VP within Scheduled Shape\": 100.0, \"pct_rt_journey_atleast1_vp\": 100.0, \"pct_rt_journey_atleast2_vp\": 100.0, \"% Scheduled Trip w/ 1+ VP/Minute\": 100.0, \"% Scheduled Trip w/ 2+ VP/Minute\": 100.0, \"Realtime versus Scheduled Service Ratio\": 1.34, \"Average Actual Service (Trip Minutes)\": 26.87, \"GTFS Availability\": \"schedule_and_vp\", \"Speed (MPH)\": 14.5, \"Transit Operator\": \"Bay Area 511 Fairfield and Suisun Transit Schedule\", \"route_long_name\": \"FTC/Fairfield Walmart\", \"route_short_name\": \"1\", \"Route\": \"1 FTC/Fairfield Walmart\", \"Route ID\": \"1\", \"schedule_source_record_id\": \"recjCb2XW7w8RXZBI\", \"Base64 Encoded Feed URL\": \"aHR0cHM6Ly9hcGkuNTExLm9yZy90cmFuc2l0L2RhdGFmZWVkcz9vcGVyYXRvcl9pZD1GUw==\", \"Organization ID\": \"recot6qBamlOoLcrM\", \"Organization\": \"City of Fairfield\", \"District\": \"04 - Oakland\", \"ruler_100_pct\": 100, \"ruler_for_vp_per_min\": 2, \"frequency_in_minutes\": 28.30188679245283, \"frequency_in_minutes_cat\": \"Bus every 16-30 minutes\", \"Frequency in Minutes\": \"A trip going this direction comes every 28 minutes\"}, {\"schedule_gtfs_dataset_key\": \"0f5e1b251db53223200c5bfc365d33f2\", \"Direction\": 0.0, \"Period\": \"peak\", \"Average Scheduled Service (trip minutes)\": 20.0, \"Average Stop Distance (miles)\": 0.2, \"# scheduled trips\": 17, \"Trips per Hour\": 2.12, \"is_express\": 0.0, \"is_rapid\": 1.0, \"is_rail\": 0.0, \"is_coverage\": 1.0, \"is_downtown_local\": 0.0, \"is_local\": 0.0, \"Date\": \"2023-07-12T00:00:00\", \"Route typology\": \"rapid\", \"# Minutes with 1+ VP per Minute\": 476, \"# Minutes with 2+ VP per Minute\": 462, \"Aggregate Actual Service Minutes\": 458.34, \"Aggregate Scheduled Service Minutes (all trips)\": 340.0, \"# VP\": 1394, \"# VP within Scheduled Shape\": 1394, \"# Early Arrival Trips\": 1, \"# On-Time Trips\": 4, \"# Late Trips\": 12, \"# Trips with VP\": 17, \"Average VP per Minute\": 3.04, \"% VP within Scheduled Shape\": 100.0, \"pct_rt_journey_atleast1_vp\": 100.0, \"pct_rt_journey_atleast2_vp\": 100.0, \"% Scheduled Trip w/ 1+ VP/Minute\": 100.0, \"% Scheduled Trip w/ 2+ VP/Minute\": 100.0, \"Realtime versus Scheduled Service Ratio\": 1.35, \"Average Actual Service (Trip Minutes)\": 26.96, \"GTFS Availability\": \"schedule_and_vp\", \"Speed (MPH)\": 14.5, \"Transit Operator\": \"Bay Area 511 Fairfield and Suisun Transit Schedule\", \"route_long_name\": \"FTC/Fairfield Walmart\", \"route_short_name\": \"1\", \"Route\": \"1 FTC/Fairfield Walmart\", \"Route ID\": \"1\", \"schedule_source_record_id\": \"recjCb2XW7w8RXZBI\", \"Base64 Encoded Feed URL\": \"aHR0cHM6Ly9hcGkuNTExLm9yZy90cmFuc2l0L2RhdGFmZWVkcz9vcGVyYXRvcl9pZD1GUw==\", \"Organization ID\": \"recot6qBamlOoLcrM\", \"Organization\": \"City of Fairfield\", \"District\": \"04 - Oakland\", \"ruler_100_pct\": 100, \"ruler_for_vp_per_min\": 2, \"frequency_in_minutes\": 28.30188679245283, \"frequency_in_minutes_cat\": \"Bus every 16-30 minutes\", \"Frequency in Minutes\": \"A trip going this direction comes every 28 minutes\"}, {\"schedule_gtfs_dataset_key\": \"0f5e1b251db53223200c5bfc365d33f2\", \"Direction\": 0.0, \"Period\": \"peak\", \"Average Scheduled Service (trip minutes)\": 20.0, \"Average Stop Distance (miles)\": 0.2, \"# scheduled trips\": 17, \"Trips per Hour\": 2.12, \"is_express\": 0.0, \"is_rapid\": 1.0, \"is_rail\": 0.0, \"is_coverage\": 1.0, \"is_downtown_local\": 0.0, \"is_local\": 0.0, \"Date\": \"2023-08-15T00:00:00\", \"Route typology\": \"rapid\", \"# Minutes with 1+ VP per Minute\": 467, \"# Minutes with 2+ VP per Minute\": 452, \"Aggregate Actual Service Minutes\": 447.61, \"Aggregate Scheduled Service Minutes (all trips)\": 340.0, \"# VP\": 1363, \"# VP within Scheduled Shape\": 1363, \"# Early Arrival Trips\": 0, \"# On-Time Trips\": 2, \"# Late Trips\": 15, \"# Trips with VP\": 17, \"Average VP per Minute\": 3.05, \"% VP within Scheduled Shape\": 100.0, \"pct_rt_journey_atleast1_vp\": 100.0, \"pct_rt_journey_atleast2_vp\": 100.0, \"% Scheduled Trip w/ 1+ VP/Minute\": 100.0, \"% Scheduled Trip w/ 2+ VP/Minute\": 100.0, \"Realtime versus Scheduled Service Ratio\": 1.32, \"Average Actual Service (Trip Minutes)\": 26.33, \"GTFS Availability\": \"schedule_and_vp\", \"Speed (MPH)\": 15.12, \"Transit Operator\": \"Bay Area 511 Fairfield and Suisun Transit Schedule\", \"route_long_name\": \"FTC/Fairfield Walmart\", \"route_short_name\": \"1\", \"Route\": \"1 FTC/Fairfield Walmart\", \"Route ID\": \"1\", \"schedule_source_record_id\": \"recjCb2XW7w8RXZBI\", \"Base64 Encoded Feed URL\": \"aHR0cHM6Ly9hcGkuNTExLm9yZy90cmFuc2l0L2RhdGFmZWVkcz9vcGVyYXRvcl9pZD1GUw==\", \"Organization ID\": \"recot6qBamlOoLcrM\", \"Organization\": \"City of Fairfield\", \"District\": \"04 - Oakland\", \"ruler_100_pct\": 100, \"ruler_for_vp_per_min\": 2, \"frequency_in_minutes\": 28.30188679245283, \"frequency_in_minutes_cat\": \"Bus every 16-30 minutes\", \"Frequency in Minutes\": \"A trip going this direction comes every 28 minutes\"}, {\"schedule_gtfs_dataset_key\": \"0f5e1b251db53223200c5bfc365d33f2\", \"Direction\": 0.0, \"Period\": \"peak\", \"Average Scheduled Service (trip minutes)\": 20.0, \"Average Stop Distance (miles)\": 0.2, \"# scheduled trips\": 17, \"Trips per Hour\": 2.12, \"is_express\": 0.0, \"is_rapid\": 1.0, \"is_rail\": 0.0, \"is_coverage\": 1.0, \"is_downtown_local\": 0.0, \"is_local\": 0.0, \"Date\": \"2023-09-13T00:00:00\", \"Route typology\": \"rapid\", \"# Minutes with 1+ VP per Minute\": 476, \"# Minutes with 2+ VP per Minute\": 461, \"Aggregate Actual Service Minutes\": 455.48, \"Aggregate Scheduled Service Minutes (all trips)\": 340.0, \"# VP\": 1385, \"# VP within Scheduled Shape\": 1385, \"# Early Arrival Trips\": 0, \"# On-Time Trips\": 5, \"# Late Trips\": 12, \"# Trips with VP\": 17, \"Average VP per Minute\": 3.04, \"% VP within Scheduled Shape\": 100.0, \"pct_rt_journey_atleast1_vp\": 100.0, \"pct_rt_journey_atleast2_vp\": 100.0, \"% Scheduled Trip w/ 1+ VP/Minute\": 100.0, \"% Scheduled Trip w/ 2+ VP/Minute\": 100.0, \"Realtime versus Scheduled Service Ratio\": 1.34, \"Average Actual Service (Trip Minutes)\": 26.79, \"GTFS Availability\": \"schedule_and_vp\", \"Speed (MPH)\": 14.23, \"Transit Operator\": \"Bay Area 511 Fairfield and Suisun Transit Schedule\", \"route_long_name\": \"FTC/Fairfield Walmart\", \"route_short_name\": \"1\", \"Route\": \"1 FTC/Fairfield Walmart\", \"Route ID\": \"1\", \"schedule_source_record_id\": \"recjCb2XW7w8RXZBI\", \"Base64 Encoded Feed URL\": \"aHR0cHM6Ly9hcGkuNTExLm9yZy90cmFuc2l0L2RhdGFmZWVkcz9vcGVyYXRvcl9pZD1GUw==\", \"Organization ID\": \"recot6qBamlOoLcrM\", \"Organization\": \"City of Fairfield\", \"District\": \"04 - Oakland\", \"ruler_100_pct\": 100, \"ruler_for_vp_per_min\": 2, \"frequency_in_minutes\": 28.30188679245283, \"frequency_in_minutes_cat\": \"Bus every 16-30 minutes\", \"Frequency in Minutes\": \"A trip going this direction comes every 28 minutes\"}, {\"schedule_gtfs_dataset_key\": \"0f5e1b251db53223200c5bfc365d33f2\", \"Direction\": 0.0, \"Period\": \"peak\", \"Average Scheduled Service (trip minutes)\": 20.0, \"Average Stop Distance (miles)\": 0.2, \"# scheduled trips\": 17, \"Trips per Hour\": 2.12, \"is_express\": 0.0, \"is_rapid\": 1.0, \"is_rail\": 0.0, \"is_coverage\": 1.0, \"is_downtown_local\": 0.0, \"is_local\": 0.0, \"Date\": \"2023-10-11T00:00:00\", \"Route typology\": \"rapid\", \"# Minutes with 1+ VP per Minute\": 455, \"# Minutes with 2+ VP per Minute\": 446, \"Aggregate Actual Service Minutes\": 439.95, \"Aggregate Scheduled Service Minutes (all trips)\": 340.0, \"# VP\": 1339, \"# VP within Scheduled Shape\": 1339, \"# Early Arrival Trips\": 0, \"# On-Time Trips\": 8, \"# Late Trips\": 9, \"# Trips with VP\": 17, \"Average VP per Minute\": 3.04, \"% VP within Scheduled Shape\": 100.0, \"pct_rt_journey_atleast1_vp\": 100.0, \"pct_rt_journey_atleast2_vp\": 100.0, \"% Scheduled Trip w/ 1+ VP/Minute\": 100.0, \"% Scheduled Trip w/ 2+ VP/Minute\": 100.0, \"Realtime versus Scheduled Service Ratio\": 1.29, \"Average Actual Service (Trip Minutes)\": 25.88, \"GTFS Availability\": \"schedule_and_vp\", \"Speed (MPH)\": 14.27, \"Transit Operator\": \"Bay Area 511 Fairfield and Suisun Transit Schedule\", \"route_long_name\": \"FTC/Fairfield Walmart\", \"route_short_name\": \"1\", \"Route\": \"1 FTC/Fairfield Walmart\", \"Route ID\": \"1\", \"schedule_source_record_id\": \"recjCb2XW7w8RXZBI\", \"Base64 Encoded Feed URL\": \"aHR0cHM6Ly9hcGkuNTExLm9yZy90cmFuc2l0L2RhdGFmZWVkcz9vcGVyYXRvcl9pZD1GUw==\", \"Organization ID\": \"recot6qBamlOoLcrM\", \"Organization\": \"City of Fairfield\", \"District\": \"04 - Oakland\", \"ruler_100_pct\": 100, \"ruler_for_vp_per_min\": 2, \"frequency_in_minutes\": 28.30188679245283, \"frequency_in_minutes_cat\": \"Bus every 16-30 minutes\", \"Frequency in Minutes\": \"A trip going this direction comes every 28 minutes\"}, {\"schedule_gtfs_dataset_key\": \"0f5e1b251db53223200c5bfc365d33f2\", \"Direction\": 0.0, \"Period\": \"peak\", \"Average Scheduled Service (trip minutes)\": 20.0, \"Average Stop Distance (miles)\": 0.2, \"# scheduled trips\": 17, \"Trips per Hour\": 2.12, \"is_express\": 0.0, \"is_rapid\": 1.0, \"is_rail\": 0.0, \"is_coverage\": 1.0, \"is_downtown_local\": 0.0, \"is_local\": 0.0, \"Date\": \"2023-11-15T00:00:00\", \"Route typology\": \"rapid\", \"# Minutes with 1+ VP per Minute\": 465, \"# Minutes with 2+ VP per Minute\": 452, \"Aggregate Actual Service Minutes\": 449.05, \"Aggregate Scheduled Service Minutes (all trips)\": 340.0, \"# VP\": 1356, \"# VP within Scheduled Shape\": 1356, \"# Early Arrival Trips\": 0, \"# On-Time Trips\": 5, \"# Late Trips\": 12, \"# Trips with VP\": 17, \"Average VP per Minute\": 3.02, \"% VP within Scheduled Shape\": 100.0, \"pct_rt_journey_atleast1_vp\": 100.0, \"pct_rt_journey_atleast2_vp\": 100.0, \"% Scheduled Trip w/ 1+ VP/Minute\": 100.0, \"% Scheduled Trip w/ 2+ VP/Minute\": 100.0, \"Realtime versus Scheduled Service Ratio\": 1.32, \"Average Actual Service (Trip Minutes)\": 26.41, \"GTFS Availability\": \"schedule_and_vp\", \"Speed (MPH)\": 13.37, \"Transit Operator\": \"Bay Area 511 Fairfield and Suisun Transit Schedule\", \"route_long_name\": \"FTC/Fairfield Walmart\", \"route_short_name\": \"1\", \"Route\": \"1 FTC/Fairfield Walmart\", \"Route ID\": \"1\", \"schedule_source_record_id\": \"recjCb2XW7w8RXZBI\", \"Base64 Encoded Feed URL\": \"aHR0cHM6Ly9hcGkuNTExLm9yZy90cmFuc2l0L2RhdGFmZWVkcz9vcGVyYXRvcl9pZD1GUw==\", \"Organization ID\": \"recot6qBamlOoLcrM\", \"Organization\": \"City of Fairfield\", \"District\": \"04 - Oakland\", \"ruler_100_pct\": 100, \"ruler_for_vp_per_min\": 2, \"frequency_in_minutes\": 28.30188679245283, \"frequency_in_minutes_cat\": \"Bus every 16-30 minutes\", \"Frequency in Minutes\": \"A trip going this direction comes every 28 minutes\"}, {\"schedule_gtfs_dataset_key\": \"0f5e1b251db53223200c5bfc365d33f2\", \"Direction\": 0.0, \"Period\": \"peak\", \"Average Scheduled Service (trip minutes)\": 20.0, \"Average Stop Distance (miles)\": 0.2, \"# scheduled trips\": 17, \"Trips per Hour\": 2.12, \"is_express\": 0.0, \"is_rapid\": 1.0, \"is_rail\": 0.0, \"is_coverage\": 1.0, \"is_downtown_local\": 0.0, \"is_local\": 0.0, \"Date\": \"2023-12-13T00:00:00\", \"Route typology\": \"rapid\", \"# Minutes with 1+ VP per Minute\": 467, \"# Minutes with 2+ VP per Minute\": 460, \"Aggregate Actual Service Minutes\": 453.11, \"Aggregate Scheduled Service Minutes (all trips)\": 340.0, \"# VP\": 1370, \"# VP within Scheduled Shape\": 1370, \"# Early Arrival Trips\": 0, \"# On-Time Trips\": 5, \"# Late Trips\": 12, \"# Trips with VP\": 17, \"Average VP per Minute\": 3.02, \"% VP within Scheduled Shape\": 100.0, \"pct_rt_journey_atleast1_vp\": 100.0, \"pct_rt_journey_atleast2_vp\": 100.0, \"% Scheduled Trip w/ 1+ VP/Minute\": 100.0, \"% Scheduled Trip w/ 2+ VP/Minute\": 100.0, \"Realtime versus Scheduled Service Ratio\": 1.33, \"Average Actual Service (Trip Minutes)\": 26.65, \"GTFS Availability\": \"schedule_and_vp\", \"Speed (MPH)\": 13.82, \"Transit Operator\": \"Bay Area 511 Fairfield and Suisun Transit Schedule\", \"route_long_name\": \"FTC/Fairfield Walmart\", \"route_short_name\": \"1\", \"Route\": \"1 FTC/Fairfield Walmart\", \"Route ID\": \"1\", \"schedule_source_record_id\": \"recjCb2XW7w8RXZBI\", \"Base64 Encoded Feed URL\": \"aHR0cHM6Ly9hcGkuNTExLm9yZy90cmFuc2l0L2RhdGFmZWVkcz9vcGVyYXRvcl9pZD1GUw==\", \"Organization ID\": \"recot6qBamlOoLcrM\", \"Organization\": \"City of Fairfield\", \"District\": \"04 - Oakland\", \"ruler_100_pct\": 100, \"ruler_for_vp_per_min\": 2, \"frequency_in_minutes\": 28.30188679245283, \"frequency_in_minutes_cat\": \"Bus every 16-30 minutes\", \"Frequency in Minutes\": \"A trip going this direction comes every 28 minutes\"}, {\"schedule_gtfs_dataset_key\": \"0f5e1b251db53223200c5bfc365d33f2\", \"Direction\": 0.0, \"Period\": \"peak\", \"Average Scheduled Service (trip minutes)\": 20.0, \"Average Stop Distance (miles)\": 0.2, \"# scheduled trips\": 17, \"Trips per Hour\": 2.12, \"is_express\": 0.0, \"is_rapid\": 1.0, \"is_rail\": 0.0, \"is_coverage\": 1.0, \"is_downtown_local\": 0.0, \"is_local\": 0.0, \"Date\": \"2024-01-17T00:00:00\", \"Route typology\": \"rapid\", \"# Minutes with 1+ VP per Minute\": 469, \"# Minutes with 2+ VP per Minute\": 459, \"Aggregate Actual Service Minutes\": 455.7, \"Aggregate Scheduled Service Minutes (all trips)\": 340.0, \"# VP\": 1371, \"# VP within Scheduled Shape\": 1371, \"# Early Arrival Trips\": 0, \"# On-Time Trips\": 6, \"# Late Trips\": 11, \"# Trips with VP\": 17, \"Average VP per Minute\": 3.01, \"% VP within Scheduled Shape\": 100.0, \"pct_rt_journey_atleast1_vp\": 100.0, \"pct_rt_journey_atleast2_vp\": 100.0, \"% Scheduled Trip w/ 1+ VP/Minute\": 100.0, \"% Scheduled Trip w/ 2+ VP/Minute\": 100.0, \"Realtime versus Scheduled Service Ratio\": 1.34, \"Average Actual Service (Trip Minutes)\": 26.81, \"GTFS Availability\": \"schedule_and_vp\", \"Speed (MPH)\": 12.42, \"Transit Operator\": \"Bay Area 511 Fairfield and Suisun Transit Schedule\", \"route_long_name\": \"FTC/Fairfield Walmart\", \"route_short_name\": \"1\", \"Route\": \"1 FTC/Fairfield Walmart\", \"Route ID\": \"1\", \"schedule_source_record_id\": \"recjCb2XW7w8RXZBI\", \"Base64 Encoded Feed URL\": \"aHR0cHM6Ly9hcGkuNTExLm9yZy90cmFuc2l0L2RhdGFmZWVkcz9vcGVyYXRvcl9pZD1GUw==\", \"Organization ID\": \"recot6qBamlOoLcrM\", \"Organization\": \"City of Fairfield\", \"District\": \"04 - Oakland\", \"ruler_100_pct\": 100, \"ruler_for_vp_per_min\": 2, \"frequency_in_minutes\": 28.30188679245283, \"frequency_in_minutes_cat\": \"Bus every 16-30 minutes\", \"Frequency in Minutes\": \"A trip going this direction comes every 28 minutes\"}, {\"schedule_gtfs_dataset_key\": \"0f5e1b251db53223200c5bfc365d33f2\", \"Direction\": 0.0, \"Period\": \"peak\", \"Average Scheduled Service (trip minutes)\": 20.0, \"Average Stop Distance (miles)\": 0.2, \"# scheduled trips\": 17, \"Trips per Hour\": 2.12, \"is_express\": 0.0, \"is_rapid\": 1.0, \"is_rail\": 0.0, \"is_coverage\": 1.0, \"is_downtown_local\": 0.0, \"is_local\": 0.0, \"Date\": \"2024-02-14T00:00:00\", \"Route typology\": \"rapid\", \"# Minutes with 1+ VP per Minute\": 483, \"# Minutes with 2+ VP per Minute\": 469, \"Aggregate Actual Service Minutes\": 464.83, \"Aggregate Scheduled Service Minutes (all trips)\": 340.0, \"# VP\": 1410, \"# VP within Scheduled Shape\": 1410, \"# Early Arrival Trips\": 0, \"# On-Time Trips\": 4, \"# Late Trips\": 13, \"# Trips with VP\": 17, \"Average VP per Minute\": 3.03, \"% VP within Scheduled Shape\": 100.0, \"pct_rt_journey_atleast1_vp\": 100.0, \"pct_rt_journey_atleast2_vp\": 100.0, \"% Scheduled Trip w/ 1+ VP/Minute\": 100.0, \"% Scheduled Trip w/ 2+ VP/Minute\": 100.0, \"Realtime versus Scheduled Service Ratio\": 1.37, \"Average Actual Service (Trip Minutes)\": 27.34, \"GTFS Availability\": \"schedule_and_vp\", \"Speed (MPH)\": 13.49, \"Transit Operator\": \"Bay Area 511 Fairfield and Suisun Transit Schedule\", \"route_long_name\": \"FTC/Fairfield Walmart\", \"route_short_name\": \"1\", \"Route\": \"1 FTC/Fairfield Walmart\", \"Route ID\": \"1\", \"schedule_source_record_id\": \"recjCb2XW7w8RXZBI\", \"Base64 Encoded Feed URL\": \"aHR0cHM6Ly9hcGkuNTExLm9yZy90cmFuc2l0L2RhdGFmZWVkcz9vcGVyYXRvcl9pZD1GUw==\", \"Organization ID\": \"recot6qBamlOoLcrM\", \"Organization\": \"City of Fairfield\", \"District\": \"04 - Oakland\", \"ruler_100_pct\": 100, \"ruler_for_vp_per_min\": 2, \"frequency_in_minutes\": 28.30188679245283, \"frequency_in_minutes_cat\": \"Bus every 16-30 minutes\", \"Frequency in Minutes\": \"A trip going this direction comes every 28 minutes\"}, {\"schedule_gtfs_dataset_key\": \"0f5e1b251db53223200c5bfc365d33f2\", \"Direction\": 0.0, \"Period\": \"peak\", \"Average Scheduled Service (trip minutes)\": 20.0, \"Average Stop Distance (miles)\": 0.2, \"# scheduled trips\": 17, \"Trips per Hour\": 2.12, \"is_express\": 0.0, \"is_rapid\": 1.0, \"is_rail\": 0.0, \"is_coverage\": 1.0, \"is_downtown_local\": 0.0, \"is_local\": 0.0, \"Date\": \"2024-03-13T00:00:00\", \"Route typology\": \"rapid\", \"# Minutes with 1+ VP per Minute\": 446, \"# Minutes with 2+ VP per Minute\": 435, \"Aggregate Actual Service Minutes\": 428.88, \"Aggregate Scheduled Service Minutes (all trips)\": 340.0, \"# VP\": 1304, \"# VP within Scheduled Shape\": 1304, \"# Early Arrival Trips\": 0, \"# On-Time Trips\": 7, \"# Late Trips\": 10, \"# Trips with VP\": 17, \"Average VP per Minute\": 3.04, \"% VP within Scheduled Shape\": 100.0, \"pct_rt_journey_atleast1_vp\": 100.0, \"pct_rt_journey_atleast2_vp\": 100.0, \"% Scheduled Trip w/ 1+ VP/Minute\": 100.0, \"% Scheduled Trip w/ 2+ VP/Minute\": 100.0, \"Realtime versus Scheduled Service Ratio\": 1.26, \"Average Actual Service (Trip Minutes)\": 25.23, \"GTFS Availability\": \"schedule_and_vp\", \"Speed (MPH)\": 14.58, \"Transit Operator\": \"Bay Area 511 Fairfield and Suisun Transit Schedule\", \"route_long_name\": \"FTC/Fairfield Walmart\", \"route_short_name\": \"1\", \"Route\": \"1 FTC/Fairfield Walmart\", \"Route ID\": \"1\", \"schedule_source_record_id\": \"recjCb2XW7w8RXZBI\", \"Base64 Encoded Feed URL\": \"aHR0cHM6Ly9hcGkuNTExLm9yZy90cmFuc2l0L2RhdGFmZWVkcz9vcGVyYXRvcl9pZD1GUw==\", \"Organization ID\": \"recot6qBamlOoLcrM\", \"Organization\": \"City of Fairfield\", \"District\": \"04 - Oakland\", \"ruler_100_pct\": 100, \"ruler_for_vp_per_min\": 2, \"frequency_in_minutes\": 28.30188679245283, \"frequency_in_minutes_cat\": \"Bus every 16-30 minutes\", \"Frequency in Minutes\": \"A trip going this direction comes every 28 minutes\"}, {\"schedule_gtfs_dataset_key\": \"0f5e1b251db53223200c5bfc365d33f2\", \"Direction\": 0.0, \"Period\": \"peak\", \"Average Scheduled Service (trip minutes)\": 20.0, \"Average Stop Distance (miles)\": 0.2, \"# scheduled trips\": 17, \"Trips per Hour\": 2.12, \"is_express\": 0.0, \"is_rapid\": 1.0, \"is_rail\": 0.0, \"is_coverage\": 1.0, \"is_downtown_local\": 0.0, \"is_local\": 0.0, \"Date\": \"2024-04-17T00:00:00\", \"Route typology\": \"rapid\", \"# Minutes with 1+ VP per Minute\": 268, \"# Minutes with 2+ VP per Minute\": 260, \"Aggregate Actual Service Minutes\": 258.36, \"Aggregate Scheduled Service Minutes (all trips)\": 180.0, \"# VP\": 782, \"# VP within Scheduled Shape\": 782, \"# Early Arrival Trips\": 0, \"# On-Time Trips\": 1, \"# Late Trips\": 8, \"# Trips with VP\": 9, \"Average VP per Minute\": 3.03, \"% VP within Scheduled Shape\": 100.0, \"pct_rt_journey_atleast1_vp\": 100.0, \"pct_rt_journey_atleast2_vp\": 100.0, \"% Scheduled Trip w/ 1+ VP/Minute\": 100.0, \"% Scheduled Trip w/ 2+ VP/Minute\": 100.0, \"Realtime versus Scheduled Service Ratio\": 1.44, \"Average Actual Service (Trip Minutes)\": 28.71, \"GTFS Availability\": \"schedule_and_vp\", \"Speed (MPH)\": 14.31, \"Transit Operator\": \"Bay Area 511 Fairfield and Suisun Transit Schedule\", \"route_long_name\": \"FTC/Fairfield Walmart\", \"route_short_name\": \"1\", \"Route\": \"1 FTC/Fairfield Walmart\", \"Route ID\": \"1\", \"schedule_source_record_id\": \"recjCb2XW7w8RXZBI\", \"Base64 Encoded Feed URL\": \"aHR0cHM6Ly9hcGkuNTExLm9yZy90cmFuc2l0L2RhdGFmZWVkcz9vcGVyYXRvcl9pZD1GUw==\", \"Organization ID\": \"recot6qBamlOoLcrM\", \"Organization\": \"City of Fairfield\", \"District\": \"04 - Oakland\", \"ruler_100_pct\": 100, \"ruler_for_vp_per_min\": 2, \"frequency_in_minutes\": 28.30188679245283, \"frequency_in_minutes_cat\": \"Bus every 16-30 minutes\", \"Frequency in Minutes\": \"A trip going this direction comes every 28 minutes\"}, {\"schedule_gtfs_dataset_key\": \"0f5e1b251db53223200c5bfc365d33f2\", \"Direction\": 1.0, \"Period\": \"offpeak\", \"Average Scheduled Service (trip minutes)\": 33.0, \"Average Stop Distance (miles)\": 0.79, \"# scheduled trips\": 12, \"Trips per Hour\": 0.75, \"is_express\": 0.0, \"is_rapid\": 1.0, \"is_rail\": 0.0, \"is_coverage\": 1.0, \"is_downtown_local\": 0.0, \"is_local\": 0.0, \"Date\": \"2023-03-15T00:00:00\", \"Route typology\": \"rapid\", \"# Minutes with 1+ VP per Minute\": 390, \"# Minutes with 2+ VP per Minute\": 384, \"Aggregate Actual Service Minutes\": 378.96, \"Aggregate Scheduled Service Minutes (all trips)\": 396.0, \"# VP\": 1148, \"# VP within Scheduled Shape\": 1148, \"# Early Arrival Trips\": 1, \"# On-Time Trips\": 11, \"# Late Trips\": 0, \"# Trips with VP\": 12, \"Average VP per Minute\": 3.03, \"% VP within Scheduled Shape\": 100.0, \"pct_rt_journey_atleast1_vp\": 100.0, \"pct_rt_journey_atleast2_vp\": 100.0, \"% Scheduled Trip w/ 1+ VP/Minute\": 98.0, \"% Scheduled Trip w/ 2+ VP/Minute\": 97.0, \"Realtime versus Scheduled Service Ratio\": 0.96, \"Average Actual Service (Trip Minutes)\": 31.58, \"GTFS Availability\": \"schedule_and_vp\", \"Speed (MPH)\": 14.25, \"Transit Operator\": \"Bay Area 511 Fairfield and Suisun Transit Schedule\", \"route_long_name\": \"FTC/Fairfield Walmart\", \"route_short_name\": \"1\", \"Route\": \"1 FTC/Fairfield Walmart\", \"Route ID\": \"1\", \"schedule_source_record_id\": \"recjCb2XW7w8RXZBI\", \"Base64 Encoded Feed URL\": \"aHR0cHM6Ly9hcGkuNTExLm9yZy90cmFuc2l0L2RhdGFmZWVkcz9vcGVyYXRvcl9pZD1GUw==\", \"Organization ID\": \"recot6qBamlOoLcrM\", \"Organization\": \"City of Fairfield\", \"District\": \"04 - Oakland\", \"ruler_100_pct\": 100, \"ruler_for_vp_per_min\": 2, \"frequency_in_minutes\": 80.0, \"frequency_in_minutes_cat\": \"Bus every 60+ minutes\", \"Frequency in Minutes\": \"A trip going this direction comes every 80 minutes\"}, {\"schedule_gtfs_dataset_key\": \"0f5e1b251db53223200c5bfc365d33f2\", \"Direction\": 1.0, \"Period\": \"offpeak\", \"Average Scheduled Service (trip minutes)\": 33.0, \"Average Stop Distance (miles)\": 0.79, \"# scheduled trips\": 12, \"Trips per Hour\": 0.75, \"is_express\": 0.0, \"is_rapid\": 1.0, \"is_rail\": 0.0, \"is_coverage\": 1.0, \"is_downtown_local\": 0.0, \"is_local\": 0.0, \"Date\": \"2023-04-12T00:00:00\", \"Route typology\": \"rapid\", \"# Minutes with 1+ VP per Minute\": 404, \"# Minutes with 2+ VP per Minute\": 394, \"Aggregate Actual Service Minutes\": 390.87, \"Aggregate Scheduled Service Minutes (all trips)\": 396.0, \"# VP\": 1185, \"# VP within Scheduled Shape\": 1185, \"# Early Arrival Trips\": 1, \"# On-Time Trips\": 10, \"# Late Trips\": 1, \"# Trips with VP\": 12, \"Average VP per Minute\": 3.03, \"% VP within Scheduled Shape\": 100.0, \"pct_rt_journey_atleast1_vp\": 100.0, \"pct_rt_journey_atleast2_vp\": 100.0, \"% Scheduled Trip w/ 1+ VP/Minute\": 100.0, \"% Scheduled Trip w/ 2+ VP/Minute\": 100.0, \"Realtime versus Scheduled Service Ratio\": 0.99, \"Average Actual Service (Trip Minutes)\": 32.57, \"GTFS Availability\": \"schedule_and_vp\", \"Speed (MPH)\": 14.54, \"Transit Operator\": \"Bay Area 511 Fairfield and Suisun Transit Schedule\", \"route_long_name\": \"FTC/Fairfield Walmart\", \"route_short_name\": \"1\", \"Route\": \"1 FTC/Fairfield Walmart\", \"Route ID\": \"1\", \"schedule_source_record_id\": \"recjCb2XW7w8RXZBI\", \"Base64 Encoded Feed URL\": \"aHR0cHM6Ly9hcGkuNTExLm9yZy90cmFuc2l0L2RhdGFmZWVkcz9vcGVyYXRvcl9pZD1GUw==\", \"Organization ID\": \"recot6qBamlOoLcrM\", \"Organization\": \"City of Fairfield\", \"District\": \"04 - Oakland\", \"ruler_100_pct\": 100, \"ruler_for_vp_per_min\": 2, \"frequency_in_minutes\": 80.0, \"frequency_in_minutes_cat\": \"Bus every 60+ minutes\", \"Frequency in Minutes\": \"A trip going this direction comes every 80 minutes\"}, {\"schedule_gtfs_dataset_key\": \"0f5e1b251db53223200c5bfc365d33f2\", \"Direction\": 1.0, \"Period\": \"offpeak\", \"Average Scheduled Service (trip minutes)\": 33.0, \"Average Stop Distance (miles)\": 0.25, \"# scheduled trips\": 12, \"Trips per Hour\": 0.75, \"is_express\": 0.0, \"is_rapid\": 1.0, \"is_rail\": 0.0, \"is_coverage\": 1.0, \"is_downtown_local\": 0.0, \"is_local\": 0.0, \"Date\": \"2023-05-17T00:00:00\", \"Route typology\": \"rapid\", \"# Minutes with 1+ VP per Minute\": 411, \"# Minutes with 2+ VP per Minute\": 401, \"Aggregate Actual Service Minutes\": 397.13, \"Aggregate Scheduled Service Minutes (all trips)\": 396.0, \"# VP\": 1204, \"# VP within Scheduled Shape\": 1204, \"# Early Arrival Trips\": 1, \"# On-Time Trips\": 11, \"# Late Trips\": 0, \"# Trips with VP\": 12, \"Average VP per Minute\": 3.03, \"% VP within Scheduled Shape\": 100.0, \"pct_rt_journey_atleast1_vp\": 100.0, \"pct_rt_journey_atleast2_vp\": 100.0, \"% Scheduled Trip w/ 1+ VP/Minute\": 100.0, \"% Scheduled Trip w/ 2+ VP/Minute\": 100.0, \"Realtime versus Scheduled Service Ratio\": 1.0, \"Average Actual Service (Trip Minutes)\": 33.09, \"GTFS Availability\": \"schedule_and_vp\", \"Speed (MPH)\": 14.83, \"Transit Operator\": \"Bay Area 511 Fairfield and Suisun Transit Schedule\", \"route_long_name\": \"FTC/Fairfield Walmart\", \"route_short_name\": \"1\", \"Route\": \"1 FTC/Fairfield Walmart\", \"Route ID\": \"1\", \"schedule_source_record_id\": \"recjCb2XW7w8RXZBI\", \"Base64 Encoded Feed URL\": \"aHR0cHM6Ly9hcGkuNTExLm9yZy90cmFuc2l0L2RhdGFmZWVkcz9vcGVyYXRvcl9pZD1GUw==\", \"Organization ID\": \"recot6qBamlOoLcrM\", \"Organization\": \"City of Fairfield\", \"District\": \"04 - Oakland\", \"ruler_100_pct\": 100, \"ruler_for_vp_per_min\": 2, \"frequency_in_minutes\": 80.0, \"frequency_in_minutes_cat\": \"Bus every 60+ minutes\", \"Frequency in Minutes\": \"A trip going this direction comes every 80 minutes\"}, {\"schedule_gtfs_dataset_key\": \"0f5e1b251db53223200c5bfc365d33f2\", \"Direction\": 1.0, \"Period\": \"offpeak\", \"Average Scheduled Service (trip minutes)\": 33.0, \"Average Stop Distance (miles)\": 0.25, \"# scheduled trips\": 12, \"Trips per Hour\": 0.75, \"is_express\": 0.0, \"is_rapid\": 1.0, \"is_rail\": 0.0, \"is_coverage\": 1.0, \"is_downtown_local\": 0.0, \"is_local\": 0.0, \"Date\": \"2023-06-14T00:00:00\", \"Route typology\": \"rapid\", \"# Minutes with 1+ VP per Minute\": 396, \"# Minutes with 2+ VP per Minute\": 390, \"Aggregate Actual Service Minutes\": 383.81, \"Aggregate Scheduled Service Minutes (all trips)\": 396.0, \"# VP\": 1163, \"# VP within Scheduled Shape\": 1163, \"# Early Arrival Trips\": 1, \"# On-Time Trips\": 11, \"# Late Trips\": 0, \"# Trips with VP\": 12, \"Average VP per Minute\": 3.03, \"% VP within Scheduled Shape\": 100.0, \"pct_rt_journey_atleast1_vp\": 100.0, \"pct_rt_journey_atleast2_vp\": 100.0, \"% Scheduled Trip w/ 1+ VP/Minute\": 100.0, \"% Scheduled Trip w/ 2+ VP/Minute\": 98.0, \"Realtime versus Scheduled Service Ratio\": 0.97, \"Average Actual Service (Trip Minutes)\": 31.98, \"GTFS Availability\": \"schedule_and_vp\", \"Speed (MPH)\": 15.44, \"Transit Operator\": \"Bay Area 511 Fairfield and Suisun Transit Schedule\", \"route_long_name\": \"FTC/Fairfield Walmart\", \"route_short_name\": \"1\", \"Route\": \"1 FTC/Fairfield Walmart\", \"Route ID\": \"1\", \"schedule_source_record_id\": \"recjCb2XW7w8RXZBI\", \"Base64 Encoded Feed URL\": \"aHR0cHM6Ly9hcGkuNTExLm9yZy90cmFuc2l0L2RhdGFmZWVkcz9vcGVyYXRvcl9pZD1GUw==\", \"Organization ID\": \"recot6qBamlOoLcrM\", \"Organization\": \"City of Fairfield\", \"District\": \"04 - Oakland\", \"ruler_100_pct\": 100, \"ruler_for_vp_per_min\": 2, \"frequency_in_minutes\": 80.0, \"frequency_in_minutes_cat\": \"Bus every 60+ minutes\", \"Frequency in Minutes\": \"A trip going this direction comes every 80 minutes\"}, {\"schedule_gtfs_dataset_key\": \"0f5e1b251db53223200c5bfc365d33f2\", \"Direction\": 1.0, \"Period\": \"offpeak\", \"Average Scheduled Service (trip minutes)\": 33.0, \"Average Stop Distance (miles)\": 0.25, \"# scheduled trips\": 12, \"Trips per Hour\": 0.75, \"is_express\": 0.0, \"is_rapid\": 1.0, \"is_rail\": 0.0, \"is_coverage\": 1.0, \"is_downtown_local\": 0.0, \"is_local\": 0.0, \"Date\": \"2023-07-12T00:00:00\", \"Route typology\": \"rapid\", \"# Minutes with 1+ VP per Minute\": 399, \"# Minutes with 2+ VP per Minute\": 388, \"Aggregate Actual Service Minutes\": 384.17, \"Aggregate Scheduled Service Minutes (all trips)\": 396.0, \"# VP\": 1167, \"# VP within Scheduled Shape\": 1167, \"# Early Arrival Trips\": 1, \"# On-Time Trips\": 11, \"# Late Trips\": 0, \"# Trips with VP\": 12, \"Average VP per Minute\": 3.04, \"% VP within Scheduled Shape\": 100.0, \"pct_rt_journey_atleast1_vp\": 100.0, \"pct_rt_journey_atleast2_vp\": 100.0, \"% Scheduled Trip w/ 1+ VP/Minute\": 100.0, \"% Scheduled Trip w/ 2+ VP/Minute\": 98.0, \"Realtime versus Scheduled Service Ratio\": 0.97, \"Average Actual Service (Trip Minutes)\": 32.01, \"GTFS Availability\": \"schedule_and_vp\", \"Speed (MPH)\": 15.48, \"Transit Operator\": \"Bay Area 511 Fairfield and Suisun Transit Schedule\", \"route_long_name\": \"FTC/Fairfield Walmart\", \"route_short_name\": \"1\", \"Route\": \"1 FTC/Fairfield Walmart\", \"Route ID\": \"1\", \"schedule_source_record_id\": \"recjCb2XW7w8RXZBI\", \"Base64 Encoded Feed URL\": \"aHR0cHM6Ly9hcGkuNTExLm9yZy90cmFuc2l0L2RhdGFmZWVkcz9vcGVyYXRvcl9pZD1GUw==\", \"Organization ID\": \"recot6qBamlOoLcrM\", \"Organization\": \"City of Fairfield\", \"District\": \"04 - Oakland\", \"ruler_100_pct\": 100, \"ruler_for_vp_per_min\": 2, \"frequency_in_minutes\": 80.0, \"frequency_in_minutes_cat\": \"Bus every 60+ minutes\", \"Frequency in Minutes\": \"A trip going this direction comes every 80 minutes\"}, {\"schedule_gtfs_dataset_key\": \"0f5e1b251db53223200c5bfc365d33f2\", \"Direction\": 1.0, \"Period\": \"offpeak\", \"Average Scheduled Service (trip minutes)\": 33.0, \"Average Stop Distance (miles)\": 0.25, \"# scheduled trips\": 12, \"Trips per Hour\": 0.75, \"is_express\": 0.0, \"is_rapid\": 1.0, \"is_rail\": 0.0, \"is_coverage\": 1.0, \"is_downtown_local\": 0.0, \"is_local\": 0.0, \"Date\": \"2023-08-15T00:00:00\", \"Route typology\": \"rapid\", \"# Minutes with 1+ VP per Minute\": 398, \"# Minutes with 2+ VP per Minute\": 391, \"Aggregate Actual Service Minutes\": 385.9, \"Aggregate Scheduled Service Minutes (all trips)\": 396.0, \"# VP\": 1169, \"# VP within Scheduled Shape\": 1169, \"# Early Arrival Trips\": 0, \"# On-Time Trips\": 12, \"# Late Trips\": 0, \"# Trips with VP\": 12, \"Average VP per Minute\": 3.03, \"% VP within Scheduled Shape\": 100.0, \"pct_rt_journey_atleast1_vp\": 100.0, \"pct_rt_journey_atleast2_vp\": 100.0, \"% Scheduled Trip w/ 1+ VP/Minute\": 100.0, \"% Scheduled Trip w/ 2+ VP/Minute\": 99.0, \"Realtime versus Scheduled Service Ratio\": 0.97, \"Average Actual Service (Trip Minutes)\": 32.16, \"GTFS Availability\": \"schedule_and_vp\", \"Speed (MPH)\": 15.17, \"Transit Operator\": \"Bay Area 511 Fairfield and Suisun Transit Schedule\", \"route_long_name\": \"FTC/Fairfield Walmart\", \"route_short_name\": \"1\", \"Route\": \"1 FTC/Fairfield Walmart\", \"Route ID\": \"1\", \"schedule_source_record_id\": \"recjCb2XW7w8RXZBI\", \"Base64 Encoded Feed URL\": \"aHR0cHM6Ly9hcGkuNTExLm9yZy90cmFuc2l0L2RhdGFmZWVkcz9vcGVyYXRvcl9pZD1GUw==\", \"Organization ID\": \"recot6qBamlOoLcrM\", \"Organization\": \"City of Fairfield\", \"District\": \"04 - Oakland\", \"ruler_100_pct\": 100, \"ruler_for_vp_per_min\": 2, \"frequency_in_minutes\": 80.0, \"frequency_in_minutes_cat\": \"Bus every 60+ minutes\", \"Frequency in Minutes\": \"A trip going this direction comes every 80 minutes\"}, {\"schedule_gtfs_dataset_key\": \"0f5e1b251db53223200c5bfc365d33f2\", \"Direction\": 1.0, \"Period\": \"offpeak\", \"Average Scheduled Service (trip minutes)\": 33.0, \"Average Stop Distance (miles)\": 0.25, \"# scheduled trips\": 12, \"Trips per Hour\": 0.75, \"is_express\": 0.0, \"is_rapid\": 1.0, \"is_rail\": 0.0, \"is_coverage\": 1.0, \"is_downtown_local\": 0.0, \"is_local\": 0.0, \"Date\": \"2023-09-13T00:00:00\", \"Route typology\": \"rapid\", \"# Minutes with 1+ VP per Minute\": 363, \"# Minutes with 2+ VP per Minute\": 353, \"Aggregate Actual Service Minutes\": 353.25, \"Aggregate Scheduled Service Minutes (all trips)\": 363.0, \"# VP\": 1066, \"# VP within Scheduled Shape\": 1066, \"# Early Arrival Trips\": 2, \"# On-Time Trips\": 9, \"# Late Trips\": 0, \"# Trips with VP\": 11, \"Average VP per Minute\": 3.02, \"% VP within Scheduled Shape\": 100.0, \"pct_rt_journey_atleast1_vp\": 100.0, \"pct_rt_journey_atleast2_vp\": 100.0, \"% Scheduled Trip w/ 1+ VP/Minute\": 100.0, \"% Scheduled Trip w/ 2+ VP/Minute\": 97.0, \"Realtime versus Scheduled Service Ratio\": 0.97, \"Average Actual Service (Trip Minutes)\": 32.11, \"GTFS Availability\": \"schedule_and_vp\", \"Speed (MPH)\": 14.71, \"Transit Operator\": \"Bay Area 511 Fairfield and Suisun Transit Schedule\", \"route_long_name\": \"FTC/Fairfield Walmart\", \"route_short_name\": \"1\", \"Route\": \"1 FTC/Fairfield Walmart\", \"Route ID\": \"1\", \"schedule_source_record_id\": \"recjCb2XW7w8RXZBI\", \"Base64 Encoded Feed URL\": \"aHR0cHM6Ly9hcGkuNTExLm9yZy90cmFuc2l0L2RhdGFmZWVkcz9vcGVyYXRvcl9pZD1GUw==\", \"Organization ID\": \"recot6qBamlOoLcrM\", \"Organization\": \"City of Fairfield\", \"District\": \"04 - Oakland\", \"ruler_100_pct\": 100, \"ruler_for_vp_per_min\": 2, \"frequency_in_minutes\": 80.0, \"frequency_in_minutes_cat\": \"Bus every 60+ minutes\", \"Frequency in Minutes\": \"A trip going this direction comes every 80 minutes\"}, {\"schedule_gtfs_dataset_key\": \"0f5e1b251db53223200c5bfc365d33f2\", \"Direction\": 1.0, \"Period\": \"offpeak\", \"Average Scheduled Service (trip minutes)\": 33.0, \"Average Stop Distance (miles)\": 0.25, \"# scheduled trips\": 12, \"Trips per Hour\": 0.75, \"is_express\": 0.0, \"is_rapid\": 1.0, \"is_rail\": 0.0, \"is_coverage\": 1.0, \"is_downtown_local\": 0.0, \"is_local\": 0.0, \"Date\": \"2023-10-11T00:00:00\", \"Route typology\": \"rapid\", \"# Minutes with 1+ VP per Minute\": 419, \"# Minutes with 2+ VP per Minute\": 410, \"Aggregate Actual Service Minutes\": 405.34, \"Aggregate Scheduled Service Minutes (all trips)\": 396.0, \"# VP\": 1229, \"# VP within Scheduled Shape\": 1229, \"# Early Arrival Trips\": 0, \"# On-Time Trips\": 11, \"# Late Trips\": 1, \"# Trips with VP\": 12, \"Average VP per Minute\": 3.03, \"% VP within Scheduled Shape\": 100.0, \"pct_rt_journey_atleast1_vp\": 100.0, \"pct_rt_journey_atleast2_vp\": 100.0, \"% Scheduled Trip w/ 1+ VP/Minute\": 100.0, \"% Scheduled Trip w/ 2+ VP/Minute\": 100.0, \"Realtime versus Scheduled Service Ratio\": 1.02, \"Average Actual Service (Trip Minutes)\": 33.78, \"GTFS Availability\": \"schedule_and_vp\", \"Speed (MPH)\": 14.56, \"Transit Operator\": \"Bay Area 511 Fairfield and Suisun Transit Schedule\", \"route_long_name\": \"FTC/Fairfield Walmart\", \"route_short_name\": \"1\", \"Route\": \"1 FTC/Fairfield Walmart\", \"Route ID\": \"1\", \"schedule_source_record_id\": \"recjCb2XW7w8RXZBI\", \"Base64 Encoded Feed URL\": \"aHR0cHM6Ly9hcGkuNTExLm9yZy90cmFuc2l0L2RhdGFmZWVkcz9vcGVyYXRvcl9pZD1GUw==\", \"Organization ID\": \"recot6qBamlOoLcrM\", \"Organization\": \"City of Fairfield\", \"District\": \"04 - Oakland\", \"ruler_100_pct\": 100, \"ruler_for_vp_per_min\": 2, \"frequency_in_minutes\": 80.0, \"frequency_in_minutes_cat\": \"Bus every 60+ minutes\", \"Frequency in Minutes\": \"A trip going this direction comes every 80 minutes\"}, {\"schedule_gtfs_dataset_key\": \"0f5e1b251db53223200c5bfc365d33f2\", \"Direction\": 1.0, \"Period\": \"offpeak\", \"Average Scheduled Service (trip minutes)\": 33.0, \"Average Stop Distance (miles)\": 0.25, \"# scheduled trips\": 12, \"Trips per Hour\": 0.75, \"is_express\": 0.0, \"is_rapid\": 1.0, \"is_rail\": 0.0, \"is_coverage\": 1.0, \"is_downtown_local\": 0.0, \"is_local\": 0.0, \"Date\": \"2023-11-15T00:00:00\", \"Route typology\": \"rapid\", \"# Minutes with 1+ VP per Minute\": 394, \"# Minutes with 2+ VP per Minute\": 382, \"Aggregate Actual Service Minutes\": 387.31, \"Aggregate Scheduled Service Minutes (all trips)\": 396.0, \"# VP\": 1148, \"# VP within Scheduled Shape\": 1148, \"# Early Arrival Trips\": 0, \"# On-Time Trips\": 11, \"# Late Trips\": 1, \"# Trips with VP\": 12, \"Average VP per Minute\": 2.96, \"% VP within Scheduled Shape\": 100.0, \"pct_rt_journey_atleast1_vp\": 100.0, \"pct_rt_journey_atleast2_vp\": 99.0, \"% Scheduled Trip w/ 1+ VP/Minute\": 100.0, \"% Scheduled Trip w/ 2+ VP/Minute\": 96.0, \"Realtime versus Scheduled Service Ratio\": 0.98, \"Average Actual Service (Trip Minutes)\": 32.28, \"GTFS Availability\": \"schedule_and_vp\", \"Speed (MPH)\": 14.98, \"Transit Operator\": \"Bay Area 511 Fairfield and Suisun Transit Schedule\", \"route_long_name\": \"FTC/Fairfield Walmart\", \"route_short_name\": \"1\", \"Route\": \"1 FTC/Fairfield Walmart\", \"Route ID\": \"1\", \"schedule_source_record_id\": \"recjCb2XW7w8RXZBI\", \"Base64 Encoded Feed URL\": \"aHR0cHM6Ly9hcGkuNTExLm9yZy90cmFuc2l0L2RhdGFmZWVkcz9vcGVyYXRvcl9pZD1GUw==\", \"Organization ID\": \"recot6qBamlOoLcrM\", \"Organization\": \"City of Fairfield\", \"District\": \"04 - Oakland\", \"ruler_100_pct\": 100, \"ruler_for_vp_per_min\": 2, \"frequency_in_minutes\": 80.0, \"frequency_in_minutes_cat\": \"Bus every 60+ minutes\", \"Frequency in Minutes\": \"A trip going this direction comes every 80 minutes\"}, {\"schedule_gtfs_dataset_key\": \"0f5e1b251db53223200c5bfc365d33f2\", \"Direction\": 1.0, \"Period\": \"offpeak\", \"Average Scheduled Service (trip minutes)\": 33.0, \"Average Stop Distance (miles)\": 0.25, \"# scheduled trips\": 12, \"Trips per Hour\": 0.75, \"is_express\": 0.0, \"is_rapid\": 1.0, \"is_rail\": 0.0, \"is_coverage\": 1.0, \"is_downtown_local\": 0.0, \"is_local\": 0.0, \"Date\": \"2023-12-13T00:00:00\", \"Route typology\": \"rapid\", \"# Minutes with 1+ VP per Minute\": 401, \"# Minutes with 2+ VP per Minute\": 390, \"Aggregate Actual Service Minutes\": 387.62, \"Aggregate Scheduled Service Minutes (all trips)\": 396.0, \"# VP\": 1175, \"# VP within Scheduled Shape\": 1175, \"# Early Arrival Trips\": 1, \"# On-Time Trips\": 10, \"# Late Trips\": 1, \"# Trips with VP\": 12, \"Average VP per Minute\": 3.03, \"% VP within Scheduled Shape\": 100.0, \"pct_rt_journey_atleast1_vp\": 100.0, \"pct_rt_journey_atleast2_vp\": 100.0, \"% Scheduled Trip w/ 1+ VP/Minute\": 100.0, \"% Scheduled Trip w/ 2+ VP/Minute\": 98.0, \"Realtime versus Scheduled Service Ratio\": 0.98, \"Average Actual Service (Trip Minutes)\": 32.3, \"GTFS Availability\": \"schedule_and_vp\", \"Speed (MPH)\": 14.97, \"Transit Operator\": \"Bay Area 511 Fairfield and Suisun Transit Schedule\", \"route_long_name\": \"FTC/Fairfield Walmart\", \"route_short_name\": \"1\", \"Route\": \"1 FTC/Fairfield Walmart\", \"Route ID\": \"1\", \"schedule_source_record_id\": \"recjCb2XW7w8RXZBI\", \"Base64 Encoded Feed URL\": \"aHR0cHM6Ly9hcGkuNTExLm9yZy90cmFuc2l0L2RhdGFmZWVkcz9vcGVyYXRvcl9pZD1GUw==\", \"Organization ID\": \"recot6qBamlOoLcrM\", \"Organization\": \"City of Fairfield\", \"District\": \"04 - Oakland\", \"ruler_100_pct\": 100, \"ruler_for_vp_per_min\": 2, \"frequency_in_minutes\": 80.0, \"frequency_in_minutes_cat\": \"Bus every 60+ minutes\", \"Frequency in Minutes\": \"A trip going this direction comes every 80 minutes\"}, {\"schedule_gtfs_dataset_key\": \"0f5e1b251db53223200c5bfc365d33f2\", \"Direction\": 1.0, \"Period\": \"offpeak\", \"Average Scheduled Service (trip minutes)\": 33.0, \"Average Stop Distance (miles)\": 0.25, \"# scheduled trips\": 12, \"Trips per Hour\": 0.75, \"is_express\": 0.0, \"is_rapid\": 1.0, \"is_rail\": 0.0, \"is_coverage\": 1.0, \"is_downtown_local\": 0.0, \"is_local\": 0.0, \"Date\": \"2024-01-17T00:00:00\", \"Route typology\": \"rapid\", \"# Minutes with 1+ VP per Minute\": 406, \"# Minutes with 2+ VP per Minute\": 395, \"Aggregate Actual Service Minutes\": 393.75, \"Aggregate Scheduled Service Minutes (all trips)\": 396.0, \"# VP\": 1194, \"# VP within Scheduled Shape\": 1194, \"# Early Arrival Trips\": 0, \"# On-Time Trips\": 12, \"# Late Trips\": 0, \"# Trips with VP\": 12, \"Average VP per Minute\": 3.03, \"% VP within Scheduled Shape\": 100.0, \"pct_rt_journey_atleast1_vp\": 100.0, \"pct_rt_journey_atleast2_vp\": 100.0, \"% Scheduled Trip w/ 1+ VP/Minute\": 100.0, \"% Scheduled Trip w/ 2+ VP/Minute\": 100.0, \"Realtime versus Scheduled Service Ratio\": 0.99, \"Average Actual Service (Trip Minutes)\": 32.81, \"GTFS Availability\": \"schedule_and_vp\", \"Speed (MPH)\": 14.73, \"Transit Operator\": \"Bay Area 511 Fairfield and Suisun Transit Schedule\", \"route_long_name\": \"FTC/Fairfield Walmart\", \"route_short_name\": \"1\", \"Route\": \"1 FTC/Fairfield Walmart\", \"Route ID\": \"1\", \"schedule_source_record_id\": \"recjCb2XW7w8RXZBI\", \"Base64 Encoded Feed URL\": \"aHR0cHM6Ly9hcGkuNTExLm9yZy90cmFuc2l0L2RhdGFmZWVkcz9vcGVyYXRvcl9pZD1GUw==\", \"Organization ID\": \"recot6qBamlOoLcrM\", \"Organization\": \"City of Fairfield\", \"District\": \"04 - Oakland\", \"ruler_100_pct\": 100, \"ruler_for_vp_per_min\": 2, \"frequency_in_minutes\": 80.0, \"frequency_in_minutes_cat\": \"Bus every 60+ minutes\", \"Frequency in Minutes\": \"A trip going this direction comes every 80 minutes\"}, {\"schedule_gtfs_dataset_key\": \"0f5e1b251db53223200c5bfc365d33f2\", \"Direction\": 1.0, \"Period\": \"offpeak\", \"Average Scheduled Service (trip minutes)\": 33.0, \"Average Stop Distance (miles)\": 0.25, \"# scheduled trips\": 12, \"Trips per Hour\": 0.75, \"is_express\": 0.0, \"is_rapid\": 1.0, \"is_rail\": 0.0, \"is_coverage\": 1.0, \"is_downtown_local\": 0.0, \"is_local\": 0.0, \"Date\": \"2024-02-14T00:00:00\", \"Route typology\": \"rapid\", \"# Minutes with 1+ VP per Minute\": 411, \"# Minutes with 2+ VP per Minute\": 403, \"Aggregate Actual Service Minutes\": 396.88, \"Aggregate Scheduled Service Minutes (all trips)\": 396.0, \"# VP\": 1202, \"# VP within Scheduled Shape\": 1202, \"# Early Arrival Trips\": 1, \"# On-Time Trips\": 10, \"# Late Trips\": 1, \"# Trips with VP\": 12, \"Average VP per Minute\": 3.03, \"% VP within Scheduled Shape\": 100.0, \"pct_rt_journey_atleast1_vp\": 100.0, \"pct_rt_journey_atleast2_vp\": 100.0, \"% Scheduled Trip w/ 1+ VP/Minute\": 100.0, \"% Scheduled Trip w/ 2+ VP/Minute\": 100.0, \"Realtime versus Scheduled Service Ratio\": 1.0, \"Average Actual Service (Trip Minutes)\": 33.07, \"GTFS Availability\": \"schedule_and_vp\", \"Speed (MPH)\": 14.68, \"Transit Operator\": \"Bay Area 511 Fairfield and Suisun Transit Schedule\", \"route_long_name\": \"FTC/Fairfield Walmart\", \"route_short_name\": \"1\", \"Route\": \"1 FTC/Fairfield Walmart\", \"Route ID\": \"1\", \"schedule_source_record_id\": \"recjCb2XW7w8RXZBI\", \"Base64 Encoded Feed URL\": \"aHR0cHM6Ly9hcGkuNTExLm9yZy90cmFuc2l0L2RhdGFmZWVkcz9vcGVyYXRvcl9pZD1GUw==\", \"Organization ID\": \"recot6qBamlOoLcrM\", \"Organization\": \"City of Fairfield\", \"District\": \"04 - Oakland\", \"ruler_100_pct\": 100, \"ruler_for_vp_per_min\": 2, \"frequency_in_minutes\": 80.0, \"frequency_in_minutes_cat\": \"Bus every 60+ minutes\", \"Frequency in Minutes\": \"A trip going this direction comes every 80 minutes\"}, {\"schedule_gtfs_dataset_key\": \"0f5e1b251db53223200c5bfc365d33f2\", \"Direction\": 1.0, \"Period\": \"offpeak\", \"Average Scheduled Service (trip minutes)\": 33.0, \"Average Stop Distance (miles)\": 0.25, \"# scheduled trips\": 12, \"Trips per Hour\": 0.75, \"is_express\": 0.0, \"is_rapid\": 1.0, \"is_rail\": 0.0, \"is_coverage\": 1.0, \"is_downtown_local\": 0.0, \"is_local\": 0.0, \"Date\": \"2024-03-13T00:00:00\", \"Route typology\": \"rapid\", \"# Minutes with 1+ VP per Minute\": 389, \"# Minutes with 2+ VP per Minute\": 380, \"Aggregate Actual Service Minutes\": 375.93, \"Aggregate Scheduled Service Minutes (all trips)\": 396.0, \"# VP\": 1141, \"# VP within Scheduled Shape\": 1125, \"# Early Arrival Trips\": 1, \"# On-Time Trips\": 10, \"# Late Trips\": 1, \"# Trips with VP\": 12, \"Average VP per Minute\": 3.04, \"% VP within Scheduled Shape\": 99.0, \"pct_rt_journey_atleast1_vp\": 100.0, \"pct_rt_journey_atleast2_vp\": 100.0, \"% Scheduled Trip w/ 1+ VP/Minute\": 98.0, \"% Scheduled Trip w/ 2+ VP/Minute\": 96.0, \"Realtime versus Scheduled Service Ratio\": 0.95, \"Average Actual Service (Trip Minutes)\": 31.33, \"GTFS Availability\": \"schedule_and_vp\", \"Speed (MPH)\": 15.19, \"Transit Operator\": \"Bay Area 511 Fairfield and Suisun Transit Schedule\", \"route_long_name\": \"FTC/Fairfield Walmart\", \"route_short_name\": \"1\", \"Route\": \"1 FTC/Fairfield Walmart\", \"Route ID\": \"1\", \"schedule_source_record_id\": \"recjCb2XW7w8RXZBI\", \"Base64 Encoded Feed URL\": \"aHR0cHM6Ly9hcGkuNTExLm9yZy90cmFuc2l0L2RhdGFmZWVkcz9vcGVyYXRvcl9pZD1GUw==\", \"Organization ID\": \"recot6qBamlOoLcrM\", \"Organization\": \"City of Fairfield\", \"District\": \"04 - Oakland\", \"ruler_100_pct\": 100, \"ruler_for_vp_per_min\": 2, \"frequency_in_minutes\": 80.0, \"frequency_in_minutes_cat\": \"Bus every 60+ minutes\", \"Frequency in Minutes\": \"A trip going this direction comes every 80 minutes\"}, {\"schedule_gtfs_dataset_key\": \"0f5e1b251db53223200c5bfc365d33f2\", \"Direction\": 1.0, \"Period\": \"offpeak\", \"Average Scheduled Service (trip minutes)\": 33.0, \"Average Stop Distance (miles)\": 0.25, \"# scheduled trips\": 12, \"Trips per Hour\": 0.75, \"is_express\": 0.0, \"is_rapid\": 1.0, \"is_rail\": 0.0, \"is_coverage\": 1.0, \"is_downtown_local\": 0.0, \"is_local\": 0.0, \"Date\": \"2024-04-17T00:00:00\", \"Route typology\": \"rapid\", \"# Minutes with 1+ VP per Minute\": 201, \"# Minutes with 2+ VP per Minute\": 197, \"Aggregate Actual Service Minutes\": 196.72, \"Aggregate Scheduled Service Minutes (all trips)\": 198.0, \"# VP\": 592, \"# VP within Scheduled Shape\": 592, \"# Early Arrival Trips\": 0, \"# On-Time Trips\": 6, \"# Late Trips\": 0, \"# Trips with VP\": 6, \"Average VP per Minute\": 3.01, \"% VP within Scheduled Shape\": 100.0, \"pct_rt_journey_atleast1_vp\": 100.0, \"pct_rt_journey_atleast2_vp\": 100.0, \"% Scheduled Trip w/ 1+ VP/Minute\": 100.0, \"% Scheduled Trip w/ 2+ VP/Minute\": 100.0, \"Realtime versus Scheduled Service Ratio\": 0.99, \"Average Actual Service (Trip Minutes)\": 32.79, \"GTFS Availability\": \"schedule_and_vp\", \"Speed (MPH)\": 14.91, \"Transit Operator\": \"Bay Area 511 Fairfield and Suisun Transit Schedule\", \"route_long_name\": \"FTC/Fairfield Walmart\", \"route_short_name\": \"1\", \"Route\": \"1 FTC/Fairfield Walmart\", \"Route ID\": \"1\", \"schedule_source_record_id\": \"recjCb2XW7w8RXZBI\", \"Base64 Encoded Feed URL\": \"aHR0cHM6Ly9hcGkuNTExLm9yZy90cmFuc2l0L2RhdGFmZWVkcz9vcGVyYXRvcl9pZD1GUw==\", \"Organization ID\": \"recot6qBamlOoLcrM\", \"Organization\": \"City of Fairfield\", \"District\": \"04 - Oakland\", \"ruler_100_pct\": 100, \"ruler_for_vp_per_min\": 2, \"frequency_in_minutes\": 80.0, \"frequency_in_minutes_cat\": \"Bus every 60+ minutes\", \"Frequency in Minutes\": \"A trip going this direction comes every 80 minutes\"}, {\"schedule_gtfs_dataset_key\": \"0f5e1b251db53223200c5bfc365d33f2\", \"Direction\": 1.0, \"Period\": \"peak\", \"Average Scheduled Service (trip minutes)\": 33.0, \"Average Stop Distance (miles)\": 0.79, \"# scheduled trips\": 18, \"Trips per Hour\": 2.25, \"is_express\": 0.0, \"is_rapid\": 1.0, \"is_rail\": 0.0, \"is_coverage\": 1.0, \"is_downtown_local\": 0.0, \"is_local\": 0.0, \"Date\": \"2023-03-15T00:00:00\", \"Route typology\": \"rapid\", \"# Minutes with 1+ VP per Minute\": 595, \"# Minutes with 2+ VP per Minute\": 581, \"Aggregate Actual Service Minutes\": 576.37, \"Aggregate Scheduled Service Minutes (all trips)\": 594.0, \"# VP\": 1749, \"# VP within Scheduled Shape\": 1749, \"# Early Arrival Trips\": 0, \"# On-Time Trips\": 18, \"# Late Trips\": 0, \"# Trips with VP\": 18, \"Average VP per Minute\": 3.03, \"% VP within Scheduled Shape\": 100.0, \"pct_rt_journey_atleast1_vp\": 100.0, \"pct_rt_journey_atleast2_vp\": 100.0, \"% Scheduled Trip w/ 1+ VP/Minute\": 100.0, \"% Scheduled Trip w/ 2+ VP/Minute\": 98.0, \"Realtime versus Scheduled Service Ratio\": 0.97, \"Average Actual Service (Trip Minutes)\": 32.02, \"GTFS Availability\": \"schedule_and_vp\", \"Speed (MPH)\": 14.24, \"Transit Operator\": \"Bay Area 511 Fairfield and Suisun Transit Schedule\", \"route_long_name\": \"FTC/Fairfield Walmart\", \"route_short_name\": \"1\", \"Route\": \"1 FTC/Fairfield Walmart\", \"Route ID\": \"1\", \"schedule_source_record_id\": \"recjCb2XW7w8RXZBI\", \"Base64 Encoded Feed URL\": \"aHR0cHM6Ly9hcGkuNTExLm9yZy90cmFuc2l0L2RhdGFmZWVkcz9vcGVyYXRvcl9pZD1GUw==\", \"Organization ID\": \"recot6qBamlOoLcrM\", \"Organization\": \"City of Fairfield\", \"District\": \"04 - Oakland\", \"ruler_100_pct\": 100, \"ruler_for_vp_per_min\": 2, \"frequency_in_minutes\": 26.666666666666668, \"frequency_in_minutes_cat\": \"Bus every 16-30 minutes\", \"Frequency in Minutes\": \"A trip going this direction comes every 26 minutes\"}, {\"schedule_gtfs_dataset_key\": \"0f5e1b251db53223200c5bfc365d33f2\", \"Direction\": 1.0, \"Period\": \"peak\", \"Average Scheduled Service (trip minutes)\": 33.0, \"Average Stop Distance (miles)\": 0.79, \"# scheduled trips\": 18, \"Trips per Hour\": 2.25, \"is_express\": 0.0, \"is_rapid\": 1.0, \"is_rail\": 0.0, \"is_coverage\": 1.0, \"is_downtown_local\": 0.0, \"is_local\": 0.0, \"Date\": \"2023-04-12T00:00:00\", \"Route typology\": \"rapid\", \"# Minutes with 1+ VP per Minute\": 596, \"# Minutes with 2+ VP per Minute\": 584, \"Aggregate Actual Service Minutes\": 588.7, \"Aggregate Scheduled Service Minutes (all trips)\": 594.0, \"# VP\": 1755, \"# VP within Scheduled Shape\": 1750, \"# Early Arrival Trips\": 0, \"# On-Time Trips\": 18, \"# Late Trips\": 0, \"# Trips with VP\": 18, \"Average VP per Minute\": 2.98, \"% VP within Scheduled Shape\": 100.0, \"pct_rt_journey_atleast1_vp\": 100.0, \"pct_rt_journey_atleast2_vp\": 99.0, \"% Scheduled Trip w/ 1+ VP/Minute\": 100.0, \"% Scheduled Trip w/ 2+ VP/Minute\": 98.0, \"Realtime versus Scheduled Service Ratio\": 0.99, \"Average Actual Service (Trip Minutes)\": 32.71, \"GTFS Availability\": \"schedule_and_vp\", \"Speed (MPH)\": 14.01, \"Transit Operator\": \"Bay Area 511 Fairfield and Suisun Transit Schedule\", \"route_long_name\": \"FTC/Fairfield Walmart\", \"route_short_name\": \"1\", \"Route\": \"1 FTC/Fairfield Walmart\", \"Route ID\": \"1\", \"schedule_source_record_id\": \"recjCb2XW7w8RXZBI\", \"Base64 Encoded Feed URL\": \"aHR0cHM6Ly9hcGkuNTExLm9yZy90cmFuc2l0L2RhdGFmZWVkcz9vcGVyYXRvcl9pZD1GUw==\", \"Organization ID\": \"recot6qBamlOoLcrM\", \"Organization\": \"City of Fairfield\", \"District\": \"04 - Oakland\", \"ruler_100_pct\": 100, \"ruler_for_vp_per_min\": 2, \"frequency_in_minutes\": 26.666666666666668, \"frequency_in_minutes_cat\": \"Bus every 16-30 minutes\", \"Frequency in Minutes\": \"A trip going this direction comes every 26 minutes\"}, {\"schedule_gtfs_dataset_key\": \"0f5e1b251db53223200c5bfc365d33f2\", \"Direction\": 1.0, \"Period\": \"peak\", \"Average Scheduled Service (trip minutes)\": 33.0, \"Average Stop Distance (miles)\": 0.25, \"# scheduled trips\": 18, \"Trips per Hour\": 2.25, \"is_express\": 0.0, \"is_rapid\": 1.0, \"is_rail\": 0.0, \"is_coverage\": 1.0, \"is_downtown_local\": 0.0, \"is_local\": 0.0, \"Date\": \"2023-05-17T00:00:00\", \"Route typology\": \"rapid\", \"# Minutes with 1+ VP per Minute\": 603, \"# Minutes with 2+ VP per Minute\": 594, \"Aggregate Actual Service Minutes\": 585.32, \"Aggregate Scheduled Service Minutes (all trips)\": 594.0, \"# VP\": 1778, \"# VP within Scheduled Shape\": 1778, \"# Early Arrival Trips\": 2, \"# On-Time Trips\": 15, \"# Late Trips\": 1, \"# Trips with VP\": 18, \"Average VP per Minute\": 3.04, \"% VP within Scheduled Shape\": 100.0, \"pct_rt_journey_atleast1_vp\": 100.0, \"pct_rt_journey_atleast2_vp\": 100.0, \"% Scheduled Trip w/ 1+ VP/Minute\": 100.0, \"% Scheduled Trip w/ 2+ VP/Minute\": 100.0, \"Realtime versus Scheduled Service Ratio\": 0.99, \"Average Actual Service (Trip Minutes)\": 32.52, \"GTFS Availability\": \"schedule_and_vp\", \"Speed (MPH)\": 14.98, \"Transit Operator\": \"Bay Area 511 Fairfield and Suisun Transit Schedule\", \"route_long_name\": \"FTC/Fairfield Walmart\", \"route_short_name\": \"1\", \"Route\": \"1 FTC/Fairfield Walmart\", \"Route ID\": \"1\", \"schedule_source_record_id\": \"recjCb2XW7w8RXZBI\", \"Base64 Encoded Feed URL\": \"aHR0cHM6Ly9hcGkuNTExLm9yZy90cmFuc2l0L2RhdGFmZWVkcz9vcGVyYXRvcl9pZD1GUw==\", \"Organization ID\": \"recot6qBamlOoLcrM\", \"Organization\": \"City of Fairfield\", \"District\": \"04 - Oakland\", \"ruler_100_pct\": 100, \"ruler_for_vp_per_min\": 2, \"frequency_in_minutes\": 26.666666666666668, \"frequency_in_minutes_cat\": \"Bus every 16-30 minutes\", \"Frequency in Minutes\": \"A trip going this direction comes every 26 minutes\"}, {\"schedule_gtfs_dataset_key\": \"0f5e1b251db53223200c5bfc365d33f2\", \"Direction\": 1.0, \"Period\": \"peak\", \"Average Scheduled Service (trip minutes)\": 33.0, \"Average Stop Distance (miles)\": 0.25, \"# scheduled trips\": 18, \"Trips per Hour\": 2.25, \"is_express\": 0.0, \"is_rapid\": 1.0, \"is_rail\": 0.0, \"is_coverage\": 1.0, \"is_downtown_local\": 0.0, \"is_local\": 0.0, \"Date\": \"2023-06-14T00:00:00\", \"Route typology\": \"rapid\", \"# Minutes with 1+ VP per Minute\": 596, \"# Minutes with 2+ VP per Minute\": 584, \"Aggregate Actual Service Minutes\": 577.75, \"Aggregate Scheduled Service Minutes (all trips)\": 594.0, \"# VP\": 1750, \"# VP within Scheduled Shape\": 1750, \"# Early Arrival Trips\": 0, \"# On-Time Trips\": 18, \"# Late Trips\": 0, \"# Trips with VP\": 18, \"Average VP per Minute\": 3.03, \"% VP within Scheduled Shape\": 100.0, \"pct_rt_journey_atleast1_vp\": 100.0, \"pct_rt_journey_atleast2_vp\": 100.0, \"% Scheduled Trip w/ 1+ VP/Minute\": 100.0, \"% Scheduled Trip w/ 2+ VP/Minute\": 98.0, \"Realtime versus Scheduled Service Ratio\": 0.97, \"Average Actual Service (Trip Minutes)\": 32.1, \"GTFS Availability\": \"schedule_and_vp\", \"Speed (MPH)\": 15.2, \"Transit Operator\": \"Bay Area 511 Fairfield and Suisun Transit Schedule\", \"route_long_name\": \"FTC/Fairfield Walmart\", \"route_short_name\": \"1\", \"Route\": \"1 FTC/Fairfield Walmart\", \"Route ID\": \"1\", \"schedule_source_record_id\": \"recjCb2XW7w8RXZBI\", \"Base64 Encoded Feed URL\": \"aHR0cHM6Ly9hcGkuNTExLm9yZy90cmFuc2l0L2RhdGFmZWVkcz9vcGVyYXRvcl9pZD1GUw==\", \"Organization ID\": \"recot6qBamlOoLcrM\", \"Organization\": \"City of Fairfield\", \"District\": \"04 - Oakland\", \"ruler_100_pct\": 100, \"ruler_for_vp_per_min\": 2, \"frequency_in_minutes\": 26.666666666666668, \"frequency_in_minutes_cat\": \"Bus every 16-30 minutes\", \"Frequency in Minutes\": \"A trip going this direction comes every 26 minutes\"}, {\"schedule_gtfs_dataset_key\": \"0f5e1b251db53223200c5bfc365d33f2\", \"Direction\": 1.0, \"Period\": \"peak\", \"Average Scheduled Service (trip minutes)\": 33.0, \"Average Stop Distance (miles)\": 0.25, \"# scheduled trips\": 18, \"Trips per Hour\": 2.25, \"is_express\": 0.0, \"is_rapid\": 1.0, \"is_rail\": 0.0, \"is_coverage\": 1.0, \"is_downtown_local\": 0.0, \"is_local\": 0.0, \"Date\": \"2023-07-12T00:00:00\", \"Route typology\": \"rapid\", \"# Minutes with 1+ VP per Minute\": 594, \"# Minutes with 2+ VP per Minute\": 582, \"Aggregate Actual Service Minutes\": 574.17, \"Aggregate Scheduled Service Minutes (all trips)\": 594.0, \"# VP\": 1743, \"# VP within Scheduled Shape\": 1736, \"# Early Arrival Trips\": 0, \"# On-Time Trips\": 18, \"# Late Trips\": 0, \"# Trips with VP\": 18, \"Average VP per Minute\": 3.04, \"% VP within Scheduled Shape\": 100.0, \"pct_rt_journey_atleast1_vp\": 100.0, \"pct_rt_journey_atleast2_vp\": 100.0, \"% Scheduled Trip w/ 1+ VP/Minute\": 100.0, \"% Scheduled Trip w/ 2+ VP/Minute\": 98.0, \"Realtime versus Scheduled Service Ratio\": 0.97, \"Average Actual Service (Trip Minutes)\": 31.9, \"GTFS Availability\": \"schedule_and_vp\", \"Speed (MPH)\": 15.16, \"Transit Operator\": \"Bay Area 511 Fairfield and Suisun Transit Schedule\", \"route_long_name\": \"FTC/Fairfield Walmart\", \"route_short_name\": \"1\", \"Route\": \"1 FTC/Fairfield Walmart\", \"Route ID\": \"1\", \"schedule_source_record_id\": \"recjCb2XW7w8RXZBI\", \"Base64 Encoded Feed URL\": \"aHR0cHM6Ly9hcGkuNTExLm9yZy90cmFuc2l0L2RhdGFmZWVkcz9vcGVyYXRvcl9pZD1GUw==\", \"Organization ID\": \"recot6qBamlOoLcrM\", \"Organization\": \"City of Fairfield\", \"District\": \"04 - Oakland\", \"ruler_100_pct\": 100, \"ruler_for_vp_per_min\": 2, \"frequency_in_minutes\": 26.666666666666668, \"frequency_in_minutes_cat\": \"Bus every 16-30 minutes\", \"Frequency in Minutes\": \"A trip going this direction comes every 26 minutes\"}, {\"schedule_gtfs_dataset_key\": \"0f5e1b251db53223200c5bfc365d33f2\", \"Direction\": 1.0, \"Period\": \"peak\", \"Average Scheduled Service (trip minutes)\": 33.0, \"Average Stop Distance (miles)\": 0.25, \"# scheduled trips\": 18, \"Trips per Hour\": 2.25, \"is_express\": 0.0, \"is_rapid\": 1.0, \"is_rail\": 0.0, \"is_coverage\": 1.0, \"is_downtown_local\": 0.0, \"is_local\": 0.0, \"Date\": \"2023-08-15T00:00:00\", \"Route typology\": \"rapid\", \"# Minutes with 1+ VP per Minute\": 610, \"# Minutes with 2+ VP per Minute\": 605, \"Aggregate Actual Service Minutes\": 593.22, \"Aggregate Scheduled Service Minutes (all trips)\": 594.0, \"# VP\": 1800, \"# VP within Scheduled Shape\": 1800, \"# Early Arrival Trips\": 0, \"# On-Time Trips\": 18, \"# Late Trips\": 0, \"# Trips with VP\": 18, \"Average VP per Minute\": 3.03, \"% VP within Scheduled Shape\": 100.0, \"pct_rt_journey_atleast1_vp\": 100.0, \"pct_rt_journey_atleast2_vp\": 100.0, \"% Scheduled Trip w/ 1+ VP/Minute\": 100.0, \"% Scheduled Trip w/ 2+ VP/Minute\": 100.0, \"Realtime versus Scheduled Service Ratio\": 1.0, \"Average Actual Service (Trip Minutes)\": 32.96, \"GTFS Availability\": \"schedule_and_vp\", \"Speed (MPH)\": 15.0, \"Transit Operator\": \"Bay Area 511 Fairfield and Suisun Transit Schedule\", \"route_long_name\": \"FTC/Fairfield Walmart\", \"route_short_name\": \"1\", \"Route\": \"1 FTC/Fairfield Walmart\", \"Route ID\": \"1\", \"schedule_source_record_id\": \"recjCb2XW7w8RXZBI\", \"Base64 Encoded Feed URL\": \"aHR0cHM6Ly9hcGkuNTExLm9yZy90cmFuc2l0L2RhdGFmZWVkcz9vcGVyYXRvcl9pZD1GUw==\", \"Organization ID\": \"recot6qBamlOoLcrM\", \"Organization\": \"City of Fairfield\", \"District\": \"04 - Oakland\", \"ruler_100_pct\": 100, \"ruler_for_vp_per_min\": 2, \"frequency_in_minutes\": 26.666666666666668, \"frequency_in_minutes_cat\": \"Bus every 16-30 minutes\", \"Frequency in Minutes\": \"A trip going this direction comes every 26 minutes\"}, {\"schedule_gtfs_dataset_key\": \"0f5e1b251db53223200c5bfc365d33f2\", \"Direction\": 1.0, \"Period\": \"peak\", \"Average Scheduled Service (trip minutes)\": 33.0, \"Average Stop Distance (miles)\": 0.25, \"# scheduled trips\": 18, \"Trips per Hour\": 2.25, \"is_express\": 0.0, \"is_rapid\": 1.0, \"is_rail\": 0.0, \"is_coverage\": 1.0, \"is_downtown_local\": 0.0, \"is_local\": 0.0, \"Date\": \"2023-09-13T00:00:00\", \"Route typology\": \"rapid\", \"# Minutes with 1+ VP per Minute\": 596, \"# Minutes with 2+ VP per Minute\": 588, \"Aggregate Actual Service Minutes\": 578.04, \"Aggregate Scheduled Service Minutes (all trips)\": 594.0, \"# VP\": 1756, \"# VP within Scheduled Shape\": 1756, \"# Early Arrival Trips\": 0, \"# On-Time Trips\": 18, \"# Late Trips\": 0, \"# Trips with VP\": 18, \"Average VP per Minute\": 3.04, \"% VP within Scheduled Shape\": 100.0, \"pct_rt_journey_atleast1_vp\": 100.0, \"pct_rt_journey_atleast2_vp\": 100.0, \"% Scheduled Trip w/ 1+ VP/Minute\": 100.0, \"% Scheduled Trip w/ 2+ VP/Minute\": 99.0, \"Realtime versus Scheduled Service Ratio\": 0.97, \"Average Actual Service (Trip Minutes)\": 32.11, \"GTFS Availability\": \"schedule_and_vp\", \"Speed (MPH)\": 15.35, \"Transit Operator\": \"Bay Area 511 Fairfield and Suisun Transit Schedule\", \"route_long_name\": \"FTC/Fairfield Walmart\", \"route_short_name\": \"1\", \"Route\": \"1 FTC/Fairfield Walmart\", \"Route ID\": \"1\", \"schedule_source_record_id\": \"recjCb2XW7w8RXZBI\", \"Base64 Encoded Feed URL\": \"aHR0cHM6Ly9hcGkuNTExLm9yZy90cmFuc2l0L2RhdGFmZWVkcz9vcGVyYXRvcl9pZD1GUw==\", \"Organization ID\": \"recot6qBamlOoLcrM\", \"Organization\": \"City of Fairfield\", \"District\": \"04 - Oakland\", \"ruler_100_pct\": 100, \"ruler_for_vp_per_min\": 2, \"frequency_in_minutes\": 26.666666666666668, \"frequency_in_minutes_cat\": \"Bus every 16-30 minutes\", \"Frequency in Minutes\": \"A trip going this direction comes every 26 minutes\"}, {\"schedule_gtfs_dataset_key\": \"0f5e1b251db53223200c5bfc365d33f2\", \"Direction\": 1.0, \"Period\": \"peak\", \"Average Scheduled Service (trip minutes)\": 33.0, \"Average Stop Distance (miles)\": 0.25, \"# scheduled trips\": 18, \"Trips per Hour\": 2.25, \"is_express\": 0.0, \"is_rapid\": 1.0, \"is_rail\": 0.0, \"is_coverage\": 1.0, \"is_downtown_local\": 0.0, \"is_local\": 0.0, \"Date\": \"2023-10-11T00:00:00\", \"Route typology\": \"rapid\", \"# Minutes with 1+ VP per Minute\": 590, \"# Minutes with 2+ VP per Minute\": 580, \"Aggregate Actual Service Minutes\": 573.0, \"Aggregate Scheduled Service Minutes (all trips)\": 594.0, \"# VP\": 1740, \"# VP within Scheduled Shape\": 1740, \"# Early Arrival Trips\": 2, \"# On-Time Trips\": 16, \"# Late Trips\": 0, \"# Trips with VP\": 18, \"Average VP per Minute\": 3.04, \"% VP within Scheduled Shape\": 100.0, \"pct_rt_journey_atleast1_vp\": 100.0, \"pct_rt_journey_atleast2_vp\": 100.0, \"% Scheduled Trip w/ 1+ VP/Minute\": 99.0, \"% Scheduled Trip w/ 2+ VP/Minute\": 98.0, \"Realtime versus Scheduled Service Ratio\": 0.96, \"Average Actual Service (Trip Minutes)\": 31.83, \"GTFS Availability\": \"schedule_and_vp\", \"Speed (MPH)\": 15.09, \"Transit Operator\": \"Bay Area 511 Fairfield and Suisun Transit Schedule\", \"route_long_name\": \"FTC/Fairfield Walmart\", \"route_short_name\": \"1\", \"Route\": \"1 FTC/Fairfield Walmart\", \"Route ID\": \"1\", \"schedule_source_record_id\": \"recjCb2XW7w8RXZBI\", \"Base64 Encoded Feed URL\": \"aHR0cHM6Ly9hcGkuNTExLm9yZy90cmFuc2l0L2RhdGFmZWVkcz9vcGVyYXRvcl9pZD1GUw==\", \"Organization ID\": \"recot6qBamlOoLcrM\", \"Organization\": \"City of Fairfield\", \"District\": \"04 - Oakland\", \"ruler_100_pct\": 100, \"ruler_for_vp_per_min\": 2, \"frequency_in_minutes\": 26.666666666666668, \"frequency_in_minutes_cat\": \"Bus every 16-30 minutes\", \"Frequency in Minutes\": \"A trip going this direction comes every 26 minutes\"}, {\"schedule_gtfs_dataset_key\": \"0f5e1b251db53223200c5bfc365d33f2\", \"Direction\": 1.0, \"Period\": \"peak\", \"Average Scheduled Service (trip minutes)\": 33.0, \"Average Stop Distance (miles)\": 0.25, \"# scheduled trips\": 18, \"Trips per Hour\": 2.25, \"is_express\": 0.0, \"is_rapid\": 1.0, \"is_rail\": 0.0, \"is_coverage\": 1.0, \"is_downtown_local\": 0.0, \"is_local\": 0.0, \"Date\": \"2023-11-15T00:00:00\", \"Route typology\": \"rapid\", \"# Minutes with 1+ VP per Minute\": 585, \"# Minutes with 2+ VP per Minute\": 577, \"Aggregate Actual Service Minutes\": 569.72, \"Aggregate Scheduled Service Minutes (all trips)\": 594.0, \"# VP\": 1730, \"# VP within Scheduled Shape\": 1730, \"# Early Arrival Trips\": 3, \"# On-Time Trips\": 15, \"# Late Trips\": 0, \"# Trips with VP\": 18, \"Average VP per Minute\": 3.04, \"% VP within Scheduled Shape\": 100.0, \"pct_rt_journey_atleast1_vp\": 100.0, \"pct_rt_journey_atleast2_vp\": 100.0, \"% Scheduled Trip w/ 1+ VP/Minute\": 98.0, \"% Scheduled Trip w/ 2+ VP/Minute\": 97.0, \"Realtime versus Scheduled Service Ratio\": 0.96, \"Average Actual Service (Trip Minutes)\": 31.65, \"GTFS Availability\": \"schedule_and_vp\", \"Speed (MPH)\": 15.5, \"Transit Operator\": \"Bay Area 511 Fairfield and Suisun Transit Schedule\", \"route_long_name\": \"FTC/Fairfield Walmart\", \"route_short_name\": \"1\", \"Route\": \"1 FTC/Fairfield Walmart\", \"Route ID\": \"1\", \"schedule_source_record_id\": \"recjCb2XW7w8RXZBI\", \"Base64 Encoded Feed URL\": \"aHR0cHM6Ly9hcGkuNTExLm9yZy90cmFuc2l0L2RhdGFmZWVkcz9vcGVyYXRvcl9pZD1GUw==\", \"Organization ID\": \"recot6qBamlOoLcrM\", \"Organization\": \"City of Fairfield\", \"District\": \"04 - Oakland\", \"ruler_100_pct\": 100, \"ruler_for_vp_per_min\": 2, \"frequency_in_minutes\": 26.666666666666668, \"frequency_in_minutes_cat\": \"Bus every 16-30 minutes\", \"Frequency in Minutes\": \"A trip going this direction comes every 26 minutes\"}, {\"schedule_gtfs_dataset_key\": \"0f5e1b251db53223200c5bfc365d33f2\", \"Direction\": 1.0, \"Period\": \"peak\", \"Average Scheduled Service (trip minutes)\": 33.0, \"Average Stop Distance (miles)\": 0.25, \"# scheduled trips\": 18, \"Trips per Hour\": 2.25, \"is_express\": 0.0, \"is_rapid\": 1.0, \"is_rail\": 0.0, \"is_coverage\": 1.0, \"is_downtown_local\": 0.0, \"is_local\": 0.0, \"Date\": \"2023-12-13T00:00:00\", \"Route typology\": \"rapid\", \"# Minutes with 1+ VP per Minute\": 591, \"# Minutes with 2+ VP per Minute\": 578, \"Aggregate Actual Service Minutes\": 573.01, \"Aggregate Scheduled Service Minutes (all trips)\": 594.0, \"# VP\": 1738, \"# VP within Scheduled Shape\": 1738, \"# Early Arrival Trips\": 0, \"# On-Time Trips\": 18, \"# Late Trips\": 0, \"# Trips with VP\": 18, \"Average VP per Minute\": 3.03, \"% VP within Scheduled Shape\": 100.0, \"pct_rt_journey_atleast1_vp\": 100.0, \"pct_rt_journey_atleast2_vp\": 100.0, \"% Scheduled Trip w/ 1+ VP/Minute\": 100.0, \"% Scheduled Trip w/ 2+ VP/Minute\": 97.0, \"Realtime versus Scheduled Service Ratio\": 0.96, \"Average Actual Service (Trip Minutes)\": 31.83, \"GTFS Availability\": \"schedule_and_vp\", \"Speed (MPH)\": 15.67, \"Transit Operator\": \"Bay Area 511 Fairfield and Suisun Transit Schedule\", \"route_long_name\": \"FTC/Fairfield Walmart\", \"route_short_name\": \"1\", \"Route\": \"1 FTC/Fairfield Walmart\", \"Route ID\": \"1\", \"schedule_source_record_id\": \"recjCb2XW7w8RXZBI\", \"Base64 Encoded Feed URL\": \"aHR0cHM6Ly9hcGkuNTExLm9yZy90cmFuc2l0L2RhdGFmZWVkcz9vcGVyYXRvcl9pZD1GUw==\", \"Organization ID\": \"recot6qBamlOoLcrM\", \"Organization\": \"City of Fairfield\", \"District\": \"04 - Oakland\", \"ruler_100_pct\": 100, \"ruler_for_vp_per_min\": 2, \"frequency_in_minutes\": 26.666666666666668, \"frequency_in_minutes_cat\": \"Bus every 16-30 minutes\", \"Frequency in Minutes\": \"A trip going this direction comes every 26 minutes\"}, {\"schedule_gtfs_dataset_key\": \"0f5e1b251db53223200c5bfc365d33f2\", \"Direction\": 1.0, \"Period\": \"peak\", \"Average Scheduled Service (trip minutes)\": 33.0, \"Average Stop Distance (miles)\": 0.25, \"# scheduled trips\": 18, \"Trips per Hour\": 2.25, \"is_express\": 0.0, \"is_rapid\": 1.0, \"is_rail\": 0.0, \"is_coverage\": 1.0, \"is_downtown_local\": 0.0, \"is_local\": 0.0, \"Date\": \"2024-01-17T00:00:00\", \"Route typology\": \"rapid\", \"# Minutes with 1+ VP per Minute\": 598, \"# Minutes with 2+ VP per Minute\": 586, \"Aggregate Actual Service Minutes\": 580.43, \"Aggregate Scheduled Service Minutes (all trips)\": 594.0, \"# VP\": 1761, \"# VP within Scheduled Shape\": 1761, \"# Early Arrival Trips\": 1, \"# On-Time Trips\": 17, \"# Late Trips\": 0, \"# Trips with VP\": 18, \"Average VP per Minute\": 3.03, \"% VP within Scheduled Shape\": 100.0, \"pct_rt_journey_atleast1_vp\": 100.0, \"pct_rt_journey_atleast2_vp\": 100.0, \"% Scheduled Trip w/ 1+ VP/Minute\": 100.0, \"% Scheduled Trip w/ 2+ VP/Minute\": 99.0, \"Realtime versus Scheduled Service Ratio\": 0.98, \"Average Actual Service (Trip Minutes)\": 32.25, \"GTFS Availability\": \"schedule_and_vp\", \"Speed (MPH)\": 14.9, \"Transit Operator\": \"Bay Area 511 Fairfield and Suisun Transit Schedule\", \"route_long_name\": \"FTC/Fairfield Walmart\", \"route_short_name\": \"1\", \"Route\": \"1 FTC/Fairfield Walmart\", \"Route ID\": \"1\", \"schedule_source_record_id\": \"recjCb2XW7w8RXZBI\", \"Base64 Encoded Feed URL\": \"aHR0cHM6Ly9hcGkuNTExLm9yZy90cmFuc2l0L2RhdGFmZWVkcz9vcGVyYXRvcl9pZD1GUw==\", \"Organization ID\": \"recot6qBamlOoLcrM\", \"Organization\": \"City of Fairfield\", \"District\": \"04 - Oakland\", \"ruler_100_pct\": 100, \"ruler_for_vp_per_min\": 2, \"frequency_in_minutes\": 26.666666666666668, \"frequency_in_minutes_cat\": \"Bus every 16-30 minutes\", \"Frequency in Minutes\": \"A trip going this direction comes every 26 minutes\"}, {\"schedule_gtfs_dataset_key\": \"0f5e1b251db53223200c5bfc365d33f2\", \"Direction\": 1.0, \"Period\": \"peak\", \"Average Scheduled Service (trip minutes)\": 33.0, \"Average Stop Distance (miles)\": 0.25, \"# scheduled trips\": 18, \"Trips per Hour\": 2.25, \"is_express\": 0.0, \"is_rapid\": 1.0, \"is_rail\": 0.0, \"is_coverage\": 1.0, \"is_downtown_local\": 0.0, \"is_local\": 0.0, \"Date\": \"2024-02-14T00:00:00\", \"Route typology\": \"rapid\", \"# Minutes with 1+ VP per Minute\": 593, \"# Minutes with 2+ VP per Minute\": 584, \"Aggregate Actual Service Minutes\": 574.47, \"Aggregate Scheduled Service Minutes (all trips)\": 594.0, \"# VP\": 1746, \"# VP within Scheduled Shape\": 1746, \"# Early Arrival Trips\": 0, \"# On-Time Trips\": 18, \"# Late Trips\": 0, \"# Trips with VP\": 18, \"Average VP per Minute\": 3.04, \"% VP within Scheduled Shape\": 100.0, \"pct_rt_journey_atleast1_vp\": 100.0, \"pct_rt_journey_atleast2_vp\": 100.0, \"% Scheduled Trip w/ 1+ VP/Minute\": 100.0, \"% Scheduled Trip w/ 2+ VP/Minute\": 98.0, \"Realtime versus Scheduled Service Ratio\": 0.97, \"Average Actual Service (Trip Minutes)\": 31.92, \"GTFS Availability\": \"schedule_and_vp\", \"Speed (MPH)\": 15.31, \"Transit Operator\": \"Bay Area 511 Fairfield and Suisun Transit Schedule\", \"route_long_name\": \"FTC/Fairfield Walmart\", \"route_short_name\": \"1\", \"Route\": \"1 FTC/Fairfield Walmart\", \"Route ID\": \"1\", \"schedule_source_record_id\": \"recjCb2XW7w8RXZBI\", \"Base64 Encoded Feed URL\": \"aHR0cHM6Ly9hcGkuNTExLm9yZy90cmFuc2l0L2RhdGFmZWVkcz9vcGVyYXRvcl9pZD1GUw==\", \"Organization ID\": \"recot6qBamlOoLcrM\", \"Organization\": \"City of Fairfield\", \"District\": \"04 - Oakland\", \"ruler_100_pct\": 100, \"ruler_for_vp_per_min\": 2, \"frequency_in_minutes\": 26.666666666666668, \"frequency_in_minutes_cat\": \"Bus every 16-30 minutes\", \"Frequency in Minutes\": \"A trip going this direction comes every 26 minutes\"}, {\"schedule_gtfs_dataset_key\": \"0f5e1b251db53223200c5bfc365d33f2\", \"Direction\": 1.0, \"Period\": \"peak\", \"Average Scheduled Service (trip minutes)\": 33.0, \"Average Stop Distance (miles)\": 0.25, \"# scheduled trips\": 18, \"Trips per Hour\": 2.25, \"is_express\": 0.0, \"is_rapid\": 1.0, \"is_rail\": 0.0, \"is_coverage\": 1.0, \"is_downtown_local\": 0.0, \"is_local\": 0.0, \"Date\": \"2024-03-13T00:00:00\", \"Route typology\": \"rapid\", \"# Minutes with 1+ VP per Minute\": 605, \"# Minutes with 2+ VP per Minute\": 594, \"Aggregate Actual Service Minutes\": 586.94, \"Aggregate Scheduled Service Minutes (all trips)\": 594.0, \"# VP\": 1778, \"# VP within Scheduled Shape\": 1754, \"# Early Arrival Trips\": 0, \"# On-Time Trips\": 18, \"# Late Trips\": 0, \"# Trips with VP\": 18, \"Average VP per Minute\": 3.03, \"% VP within Scheduled Shape\": 99.0, \"pct_rt_journey_atleast1_vp\": 100.0, \"pct_rt_journey_atleast2_vp\": 100.0, \"% Scheduled Trip w/ 1+ VP/Minute\": 100.0, \"% Scheduled Trip w/ 2+ VP/Minute\": 100.0, \"Realtime versus Scheduled Service Ratio\": 0.99, \"Average Actual Service (Trip Minutes)\": 32.61, \"GTFS Availability\": \"schedule_and_vp\", \"Speed (MPH)\": 15.1, \"Transit Operator\": \"Bay Area 511 Fairfield and Suisun Transit Schedule\", \"route_long_name\": \"FTC/Fairfield Walmart\", \"route_short_name\": \"1\", \"Route\": \"1 FTC/Fairfield Walmart\", \"Route ID\": \"1\", \"schedule_source_record_id\": \"recjCb2XW7w8RXZBI\", \"Base64 Encoded Feed URL\": \"aHR0cHM6Ly9hcGkuNTExLm9yZy90cmFuc2l0L2RhdGFmZWVkcz9vcGVyYXRvcl9pZD1GUw==\", \"Organization ID\": \"recot6qBamlOoLcrM\", \"Organization\": \"City of Fairfield\", \"District\": \"04 - Oakland\", \"ruler_100_pct\": 100, \"ruler_for_vp_per_min\": 2, \"frequency_in_minutes\": 26.666666666666668, \"frequency_in_minutes_cat\": \"Bus every 16-30 minutes\", \"Frequency in Minutes\": \"A trip going this direction comes every 26 minutes\"}, {\"schedule_gtfs_dataset_key\": \"0f5e1b251db53223200c5bfc365d33f2\", \"Direction\": 1.0, \"Period\": \"peak\", \"Average Scheduled Service (trip minutes)\": 33.0, \"Average Stop Distance (miles)\": 0.25, \"# scheduled trips\": 18, \"Trips per Hour\": 2.25, \"is_express\": 0.0, \"is_rapid\": 1.0, \"is_rail\": 0.0, \"is_coverage\": 1.0, \"is_downtown_local\": 0.0, \"is_local\": 0.0, \"Date\": \"2024-04-17T00:00:00\", \"Route typology\": \"rapid\", \"# Minutes with 1+ VP per Minute\": 324, \"# Minutes with 2+ VP per Minute\": 317, \"Aggregate Actual Service Minutes\": 313.15, \"Aggregate Scheduled Service Minutes (all trips)\": 330.0, \"# VP\": 947, \"# VP within Scheduled Shape\": 947, \"# Early Arrival Trips\": 1, \"# On-Time Trips\": 9, \"# Late Trips\": 0, \"# Trips with VP\": 10, \"Average VP per Minute\": 3.02, \"% VP within Scheduled Shape\": 100.0, \"pct_rt_journey_atleast1_vp\": 100.0, \"pct_rt_journey_atleast2_vp\": 100.0, \"% Scheduled Trip w/ 1+ VP/Minute\": 98.0, \"% Scheduled Trip w/ 2+ VP/Minute\": 96.0, \"Realtime versus Scheduled Service Ratio\": 0.95, \"Average Actual Service (Trip Minutes)\": 31.32, \"GTFS Availability\": \"schedule_and_vp\", \"Speed (MPH)\": 15.27, \"Transit Operator\": \"Bay Area 511 Fairfield and Suisun Transit Schedule\", \"route_long_name\": \"FTC/Fairfield Walmart\", \"route_short_name\": \"1\", \"Route\": \"1 FTC/Fairfield Walmart\", \"Route ID\": \"1\", \"schedule_source_record_id\": \"recjCb2XW7w8RXZBI\", \"Base64 Encoded Feed URL\": \"aHR0cHM6Ly9hcGkuNTExLm9yZy90cmFuc2l0L2RhdGFmZWVkcz9vcGVyYXRvcl9pZD1GUw==\", \"Organization ID\": \"recot6qBamlOoLcrM\", \"Organization\": \"City of Fairfield\", \"District\": \"04 - Oakland\", \"ruler_100_pct\": 100, \"ruler_for_vp_per_min\": 2, \"frequency_in_minutes\": 26.666666666666668, \"frequency_in_minutes_cat\": \"Bus every 16-30 minutes\", \"Frequency in Minutes\": \"A trip going this direction comes every 26 minutes\"}]}}, {\"mode\": \"vega-lite\"});\n",
       "</script>"
      ],
      "text/plain": [
       "alt.Chart(...)"
      ]
     },
     "execution_count": 37,
     "metadata": {},
     "output_type": "execute_result"
    }
   ],
   "source": [
    "frequency_chart(one_route_onetime)"
   ]
  },
  {
   "cell_type": "code",
   "execution_count": null,
   "id": "03b26d13-eb12-45ca-8eb5-6c98c2be2071",
   "metadata": {},
   "outputs": [],
   "source": [
    "vp_per_min = alt.Scale(\n",
    "    domain= [0,20, 40, 60, 80, 100],\n",
    "    range = [\"#ec5d3b\",\"#fcaa5f\",\"#fde18d\",\"#47713a\", \"#d2d776\",\"#7cc665\",]\n",
    "    )"
   ]
  },
  {
   "cell_type": "markdown",
   "id": "85b97563-102f-4f3b-a270-26df18ed6092",
   "metadata": {},
   "source": [
    "#### Spatial Accuracy (Done)\n",
    "* Multiple it by 100? Should this be rounded or not?"
   ]
  },
  {
   "cell_type": "code",
   "execution_count": null,
   "id": "c1f2acbb-687e-42e1-b6e4-e0ac02d87f97",
   "metadata": {},
   "outputs": [],
   "source": [
    "# freq_range: [\"#7cc665\",\"#d2d776\", \"#fde18d\", \"#fcaa5f\", \"#ec5d3b\"]\n",
    "section2.base_facet_with_ruler_chart(\n",
    "    one_route_all_day,\n",
    "    \"% VP within Scheduled Shape\",\n",
    "    \"ruler_100_pct\",\n",
    "    readable_dict[\"spatial_accuracy_graph\"][\"title\"],\n",
    "    readable_dict[\"spatial_accuracy_graph\"][\"title\"],\n",
    "    [0,20, 40, 60, 80, 100],\n",
    "    [\"#ec5d3b\",\"#ec5d3b\",\"#fcaa5f\",\"#fde18d\", \"#d2d776\",\"#7cc665\",]\n",
    ")"
   ]
  },
  {
   "cell_type": "markdown",
   "id": "b4e77620-cb0e-4388-88ef-36e9640b043d",
   "metadata": {},
   "source": [
    "#### % RT journey with 1+/2+ vp (goal line = 100%) - use all_day, one chart shared for 1+ and 2+ (Done need subtitle)"
   ]
  },
  {
   "cell_type": "code",
   "execution_count": null,
   "id": "d92d1eb7-8e6d-4cfd-a0e2-dbc093281065",
   "metadata": {},
   "outputs": [],
   "source": [
    "def pct_vp_journey(df: pd.DataFrame, col1: str, col2: str) -> pd.DataFrame:\n",
    "    to_keep = [\n",
    "        \"Date\",\n",
    "        \"Organization\",\n",
    "        \"Direction\",\n",
    "        col1,\n",
    "        col2,\n",
    "        \"Route\",\n",
    "        \"Period\",\n",
    "        \"ruler_100_pct\",\n",
    "    ]\n",
    "    df2 = df[to_keep]\n",
    "\n",
    "    df3 = df2.melt(\n",
    "        id_vars=[\n",
    "            \"Date\",\n",
    "            \"Organization\",\n",
    "            \"Route\",\n",
    "            \"Direction\",\n",
    "            \"Period\",\n",
    "            \"ruler_100_pct\",\n",
    "        ],\n",
    "        value_vars=[col1, col2],\n",
    "    )\n",
    "\n",
    "    df3 = df3.rename(\n",
    "        columns={\"variable\": \"Category\", \"value\": \"% of Actual Trip Minutes\"}\n",
    "    )\n",
    "    return df3"
   ]
  },
  {
   "cell_type": "code",
   "execution_count": null,
   "id": "2966643d-43ac-4444-9d76-3457408b6c62",
   "metadata": {
    "scrolled": true,
    "tags": []
   },
   "outputs": [],
   "source": [
    "rt_pct = pct_vp_journey(\n",
    "    all_day,\n",
    "    \"% Actual Trip Minutes with 1+ VP per Minute\",\n",
    "    \"% Actual Trip Minutes with 2+ VP per Minute\",\n",
    ")"
   ]
  },
  {
   "cell_type": "code",
   "execution_count": null,
   "id": "da4a023e-39dd-4914-b523-b74686a6917a",
   "metadata": {},
   "outputs": [],
   "source": [
    "def base_facet_circle(\n",
    "    df: pd.DataFrame,\n",
    "    y_col: str,\n",
    "    color_col: str,\n",
    "    ruler_col: str,\n",
    "    title: str,\n",
    "    subtitle: str,\n",
    ") -> alt.Chart:\n",
    "\n",
    "    tooltip_cols = [\n",
    "        \"Direction\",\n",
    "        \"Period\",\n",
    "        \"Route\",\n",
    "        \"Date\",\n",
    "        f\"{y_col}_str\",\n",
    "        color_col,\n",
    "    ]\n",
    "\n",
    "    if len(df) == 0:\n",
    "        text_chart = section2.create_data_unavailable_chart()\n",
    "        return text_chart\n",
    "    else:\n",
    "        max_y = set_y_axis(df, y_col)\n",
    "        df = section2.clean_data_charts(df, y_col)\n",
    "        ruler = (\n",
    "            alt.Chart(df)\n",
    "            .mark_rule(color=\"red\", strokeDash=[10, 7])\n",
    "            .encode(y=f\"ruler_100_pct:Q\")\n",
    "        )\n",
    "\n",
    "        chart = (\n",
    "            alt.Chart(df)\n",
    "            .mark_circle(size=150)\n",
    "            .encode(\n",
    "                x=alt.X(\n",
    "                    \"yearmonthdate(Date):O\",\n",
    "                    title=\"Date\",\n",
    "                    axis=alt.Axis(labelAngle=-45, format=\"%b %Y\"),\n",
    "                ),\n",
    "                y=alt.Y(\n",
    "                    f\"{y_col}:Q\",\n",
    "                    title=_report_utils.labeling(y_col),\n",
    "                    scale=alt.Scale(domain=[0, max_y]),\n",
    "                ),\n",
    "                color=alt.Color(\n",
    "                    f\"{color_col}:N\",\n",
    "                    title=_report_utils.labeling(color_col),\n",
    "                    scale=alt.Scale(range=_report_utils.red_green_yellow),\n",
    "                ),\n",
    "                tooltip=tooltip_cols,\n",
    "            )\n",
    "        )\n",
    "\n",
    "        chart = chart + ruler\n",
    "        chart = chart.facet(\n",
    "            column=alt.Column(\"Direction:N\", title=_report_utils.labeling(\"Direction\")),\n",
    "        ).properties(\n",
    "            title={\n",
    "                \"text\": [title],\n",
    "                \"subtitle\": [subtitle],\n",
    "            }\n",
    "        )\n",
    "        return chart"
   ]
  },
  {
   "cell_type": "code",
   "execution_count": null,
   "id": "e87020b6-652b-43bb-b1ac-b42d84e2d1ae",
   "metadata": {},
   "outputs": [],
   "source": [
    "base_facet_circle(\n",
    "    rt_pct,\n",
    "    \"% of Actual Trip Minutes\",\n",
    "    \"Category\",\n",
    "    \"ruler_100_pct\",\n",
    "    readable_dict[\"rt_vp_per_min_graph\"][\"title\"],\n",
    "    readable_dict[\"rt_vp_per_min_graph\"][\"subtitle\"],\n",
    ")"
   ]
  },
  {
   "cell_type": "markdown",
   "id": "b14d8827-083f-4057-a5db-b71b63ac1dee",
   "metadata": {},
   "source": [
    "#### Text"
   ]
  },
  {
   "cell_type": "code",
   "execution_count": null,
   "id": "de3eda7c-7c4f-4424-b480-a338e842b1ad",
   "metadata": {},
   "outputs": [],
   "source": [
    "table_df = section2.route_stats(df)"
   ]
  },
  {
   "cell_type": "code",
   "execution_count": null,
   "id": "8873e9da-1743-4d91-820c-88123819146c",
   "metadata": {},
   "outputs": [],
   "source": [
    "def create_text_table(df: pd.DataFrame, direction: float):\n",
    "\n",
    "    df = df.loc[df[\"Direction\"] == direction].drop_duplicates().reset_index(drop=True)\n",
    "\n",
    "    if len(df) == 0:\n",
    "        text_chart = section2.create_data_unavailable_chart()\n",
    "        return text_chart\n",
    "\n",
    "    else:\n",
    "        df2 = df.melt(\n",
    "            id_vars=[\n",
    "                \"Route\",\n",
    "                \"Direction\",\n",
    "            ],\n",
    "            value_vars=[\n",
    "                \"Average Scheduled Service (Trip Minutes)\",\n",
    "                \"Average Stop Distance (Miles)\",\n",
    "                \"# Scheduled Trips\",\n",
    "                \"Gtfs Availability\",\n",
    "                \"Peak Avg Speed\",\n",
    "                \"Peak Scheduled Trips\",\n",
    "                \"Peak Hourly Freq\",\n",
    "                \"Offpeak Avg Speed\",\n",
    "                \"Offpeak Scheduled Trips\",\n",
    "                \"Trips Per Hour\",\n",
    "            ],\n",
    "        )\n",
    "        # Create a decoy column to center all the text\n",
    "        df2[\"Zero\"] = 0\n",
    "\n",
    "        df2[\"combo_col\"] = df2.variable.astype(str) + \": \" + df2.value.astype(str)\n",
    "        df2.combo_col = df2.combo_col.str.replace(\n",
    "            \"schedule_and_vp\", \"Schedule and Realtime Data\"\n",
    "        )\n",
    "        text_chart = (\n",
    "            alt.Chart(df2)\n",
    "            .mark_text()\n",
    "            .encode(x=alt.X(\"Zero:Q\", axis=None), y=alt.Y(\"combo_col\", axis=None))\n",
    "        )\n",
    "\n",
    "        text_chart = text_chart.encode(text=\"combo_col:N\").properties(\n",
    "            title=f\"Route Statistics for Direction {direction}\",\n",
    "            width=500,\n",
    "            height=300,\n",
    "        )\n",
    "        return text_chart"
   ]
  },
  {
   "cell_type": "code",
   "execution_count": null,
   "id": "15f845a4-008a-425b-b9ec-1d6e656c9bfc",
   "metadata": {},
   "outputs": [],
   "source": [
    "create_text_table(table_df, 0)"
   ]
  },
  {
   "cell_type": "markdown",
   "id": "6fc21ac6-f52f-4f7b-929d-3d439f9f087f",
   "metadata": {},
   "source": [
    "#### Putting it all together"
   ]
  },
  {
   "cell_type": "code",
   "execution_count": null,
   "id": "45509bd6-ed37-4c18-b4dc-151b1a58e76f",
   "metadata": {},
   "outputs": [],
   "source": [
    "def filtered_route_test(\n",
    "    df: pd.DataFrame,\n",
    ") -> alt.Chart:\n",
    "    \"\"\"\n",
    "    https://stackoverflow.com/questions/58919888/multiple-selections-in-altair\n",
    "    \"\"\"\n",
    "    # Create dropdown\n",
    "    routes_list = df[\"Route\"].unique().tolist()\n",
    "\n",
    "    route_dropdown = alt.binding_select(\n",
    "        options=routes_list,\n",
    "        name=\"Routes\",\n",
    "    )\n",
    "    # Column that controls the bar charts\n",
    "    route_selector = alt.selection_point(\n",
    "        fields=[\"Route\"],\n",
    "        bind=route_dropdown,\n",
    "    )\n",
    "\n",
    "    # Filter for only rows categorized as found in schedule and vp and all_day\n",
    "    all_day = df.loc[df[\"Period\"] == \"All Day\"].reset_index(drop=True)\n",
    "\n",
    "    # Create route stats table for the text tables\n",
    "    route_stats_df = section2.route_stats(df)\n",
    "\n",
    "    # Manipulate the df for some of the metrics\n",
    "    timeliness_df = timeliness_trips(df)\n",
    "\n",
    "    rt_journey_vp = pct_vp_journey(\n",
    "        all_day,\n",
    "        \"% Actual Trip Minutes with 1+ VP per Minute\",\n",
    "        \"% Actual Trip Minutes with 2+ VP per Minute\",\n",
    "    )\n",
    "    sched_journey_vp = pct_vp_journey(\n",
    "        all_day,\n",
    "        \"% Scheduled Trip Minutes with 1+ VP per Minute\",\n",
    "        \"% Scheduled Trip Minutes with 2+ VP per Minute\",\n",
    "    )\n",
    "\n",
    "    avg_scheduled_min_graph = (\n",
    "        grouped_bar_chart(\n",
    "            df=all_day,\n",
    "            color_col=\"Direction\",\n",
    "            y_col=\"Average Scheduled Service (trip minutes)\",\n",
    "            offset_col=\"Direction\",\n",
    "            title=readable_dict[\"avg_scheduled_min_graph\"][\"title\"],\n",
    "            subtitle=readable_dict[\"avg_scheduled_min_graph\"][\"subtitle\"],\n",
    "        )\n",
    "        .add_params(route_selector)\n",
    "        .transform_filter(route_selector)\n",
    "    )\n",
    "    # display(avg_scheduled_min_graph)\n",
    "    timeliness_trips_dir_0 = (\n",
    "        (\n",
    "            base_facet_chart(\n",
    "                timeliness_df.loc[timeliness_df[\"Direction\"] == 0],\n",
    "                \"value\",\n",
    "                \"variable\",\n",
    "                \"Period\",\n",
    "                readable_dict[\"timeliness_trips_dir_0_graph\"][\"title\"],\n",
    "                readable_dict[\"timeliness_trips_dir_0_graph\"][\"subtitle\"],\n",
    "            )\n",
    "        )\n",
    "        .add_params(route_selector)\n",
    "        .transform_filter(route_selector)\n",
    "    )\n",
    "    # display(timeliness_trips_dir_0)\n",
    "    timeliness_trips_dir_1 = (\n",
    "        (\n",
    "            base_facet_chart(\n",
    "                timeliness_df.loc[timeliness_df[\"Direction\"] == 1],\n",
    "                \"value\",\n",
    "                \"variable\",\n",
    "                \"Period\",\n",
    "                readable_dict[\"timeliness_trips_dir_1_graph\"][\"title\"],\n",
    "                readable_dict[\"timeliness_trips_dir_0_graph\"][\"subtitle\"],\n",
    "            )\n",
    "        )\n",
    "        .add_params(route_selector)\n",
    "        .transform_filter(route_selector)\n",
    "    )\n",
    "    # display(timeliness_trips_dir_1)\n",
    "    frequency_graph = (\n",
    "        frequency_chart(df).add_params(route_selector).transform_filter(route_selector)\n",
    "    )\n",
    "    # display(frequency_graph)\n",
    "    speed_graph = (\n",
    "        base_facet_line(\n",
    "            df,\n",
    "            \"Speed (MPH)\",\n",
    "            readable_dict[\"speed_graph\"][\"title\"],\n",
    "            readable_dict[\"speed_graph\"][\"subtitle\"],\n",
    "        )\n",
    "        .add_params(route_selector)\n",
    "        .transform_filter(route_selector)\n",
    "    )\n",
    "    # display(speed_graph)\n",
    "    vp_per_min_graph = (\n",
    "        (\n",
    "            base_facet_with_ruler_chart(\n",
    "                all_day,\n",
    "                \"Average VP per Minute\",\n",
    "                \"ruler_for_vp_per_min\",\n",
    "                readable_dict[\"vp_per_min_graph\"][\"title\"],\n",
    "                readable_dict[\"vp_per_min_graph\"][\"subtitle\"],\n",
    "            )\n",
    "        )\n",
    "        .add_params(route_selector)\n",
    "        .transform_filter(route_selector)\n",
    "    )\n",
    "    # display(vp_per_min_graph)\n",
    "    rt_vp_per_min_graph = (\n",
    "        base_facet_circle(\n",
    "            rt_journey_vp,\n",
    "            \"% of Actual Trip Minutes\",\n",
    "            \"Category\",\n",
    "            \"ruler_100_pct\",\n",
    "            readable_dict[\"rt_vp_per_min_graph\"][\"title\"],\n",
    "            readable_dict[\"rt_vp_per_min_graph\"][\"subtitle\"],\n",
    "        )\n",
    "        .add_params(route_selector)\n",
    "        .transform_filter(route_selector)\n",
    "    )\n",
    "    # display(rt_vp_per_min_graph)\n",
    "    sched_vp_per_min = (\n",
    "        base_facet_circle(\n",
    "            sched_journey_vp,\n",
    "            \"% of Actual Trip Minutes\",\n",
    "            \"Category\",\n",
    "            \"ruler_100_pct\",\n",
    "            readable_dict[\"sched_vp_per_min_graph\"][\"title\"],\n",
    "            readable_dict[\"rt_vp_per_min_graph\"][\"subtitle\"],\n",
    "        )\n",
    "        .add_params(route_selector)\n",
    "        .transform_filter(route_selector)\n",
    "    )\n",
    "    # display(sched_vp_per_min)\n",
    "    spatial_accuracy = (\n",
    "        base_facet_with_ruler_chart(\n",
    "            all_day,\n",
    "            \"% VP within Scheduled Shape\",\n",
    "            \"ruler_100_pct\",\n",
    "            readable_dict[\"spatial_accuracy_graph\"][\"title\"],\n",
    "            readable_dict[\"spatial_accuracy_graph\"][\"title\"],\n",
    "        )\n",
    "        .add_params(route_selector)\n",
    "        .transform_filter(route_selector)\n",
    "    )\n",
    "    # display(spatial_accuracy)\n",
    "    text_dir0 = (\n",
    "        (create_text_table(route_stats_df, 0))\n",
    "        .add_params(route_selector)\n",
    "        .transform_filter(route_selector)\n",
    "    )\n",
    "    # display(text_dir0)\n",
    "    text_dir1 = (\n",
    "        create_text_table(route_stats_df, 1)\n",
    "        .add_params(route_selector)\n",
    "        .transform_filter(route_selector)\n",
    "    )\n",
    "    # display(text_dir1)\n",
    "\n",
    "    chart_list = [\n",
    "        avg_scheduled_min_graph,\n",
    "        timeliness_trips_dir_0,\n",
    "        timeliness_trips_dir_1,\n",
    "        frequency_graph,\n",
    "        speed_graph,\n",
    "        vp_per_min_graph,\n",
    "        rt_vp_per_min_graph,\n",
    "        sched_vp_per_min,\n",
    "        spatial_accuracy,\n",
    "        text_dir0,\n",
    "        text_dir1,\n",
    "    ]\n",
    "\n",
    "    chart = alt.vconcat(*chart_list)\n",
    "\n",
    "    return chart"
   ]
  },
  {
   "cell_type": "code",
   "execution_count": null,
   "id": "cae4c735-f2e0-4f4f-98f8-1a79bfa1d37e",
   "metadata": {},
   "outputs": [],
   "source": [
    "filtered_route_test(df)"
   ]
  }
 ],
 "metadata": {
  "kernelspec": {
   "display_name": "Python 3 (ipykernel)",
   "language": "python",
   "name": "python3"
  },
  "language_info": {
   "codemirror_mode": {
    "name": "ipython",
    "version": 3
   },
   "file_extension": ".py",
   "mimetype": "text/x-python",
   "name": "python",
   "nbconvert_exporter": "python",
   "pygments_lexer": "ipython3",
   "version": "3.9.13"
  }
 },
 "nbformat": 4,
 "nbformat_minor": 5
}
