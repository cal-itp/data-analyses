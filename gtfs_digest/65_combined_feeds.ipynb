{
 "cells": [
  {
   "cell_type": "markdown",
   "id": "9567f2b6-a5f4-4690-a38a-288fc7f588bb",
   "metadata": {},
   "source": [
    "# Combined Feeds\n",
    "* Tiffany: <i>schedule_gtfs_dataset_names=LA Metro Bus/Railare combined/aggregated to organization_name =A County Metropolitan Transportation Authority -> both feeds have unique information, should be shown</i>\n",
    "* Find other instances of this in our dataset. "
   ]
  },
  {
   "cell_type": "code",
   "execution_count": 1,
   "id": "77d8672d-1e2a-4aeb-8884-17a8232a89f6",
   "metadata": {
    "tags": []
   },
   "outputs": [],
   "source": [
    "import geopandas as gpd\n",
    "import merge_data\n",
    "import pandas as pd\n",
    "import yaml\n",
    "from segment_speed_utils import gtfs_schedule_wrangling, helpers\n",
    "from segment_speed_utils.project_vars import COMPILED_CACHED_VIEWS, PROJECT_CRS\n",
    "from shared_utils import catalog_utils, portfolio_utils, rt_dates\n",
    "from update_vars import GTFS_DATA_DICT, RT_SCHED_GCS, SCHED_GCS, SEGMENT_GCS"
   ]
  },
  {
   "cell_type": "code",
   "execution_count": 2,
   "id": "2c28b250-d62f-4dde-9395-86dbb6cb65a5",
   "metadata": {
    "tags": []
   },
   "outputs": [],
   "source": [
    "pd.options.display.max_columns = 100\n",
    "pd.options.display.float_format = \"{:.2f}\".format\n",
    "pd.set_option(\"display.max_rows\", None)\n",
    "pd.set_option(\"display.max_colwidth\", None)"
   ]
  },
  {
   "cell_type": "code",
   "execution_count": 3,
   "id": "6b2f6ba1-0398-42b3-93ee-1c0589b000b0",
   "metadata": {},
   "outputs": [],
   "source": [
    "import _operators_prep"
   ]
  },
  {
   "cell_type": "code",
   "execution_count": 5,
   "id": "d686a3ba-e17f-47d8-b0e5-f4151f88dba1",
   "metadata": {
    "tags": []
   },
   "outputs": [],
   "source": [
    "all_ops = _operators_prep.load_schd_vp_df(filter_schd_both = False)"
   ]
  },
  {
   "cell_type": "code",
   "execution_count": 6,
   "id": "fe6bd83f-a87a-47b9-a599-46bd88f06ec8",
   "metadata": {
    "tags": []
   },
   "outputs": [
    {
     "data": {
      "text/plain": [
       "(604785, 6)"
      ]
     },
     "execution_count": 6,
     "metadata": {},
     "output_type": "execute_result"
    }
   ],
   "source": [
    "all_ops.shape"
   ]
  },
  {
   "cell_type": "code",
   "execution_count": 7,
   "id": "110bb9bc-185a-41ec-b1b2-d4491518986c",
   "metadata": {
    "tags": []
   },
   "outputs": [],
   "source": [
    "many_orgs_one_schd = _operators_prep.remove_duplicative_names(filter_schd_both = True)"
   ]
  },
  {
   "cell_type": "code",
   "execution_count": 8,
   "id": "78437a46-5531-4ff2-90c8-a7e992208635",
   "metadata": {
    "tags": []
   },
   "outputs": [
    {
     "data": {
      "text/plain": [
       "(193, 6)"
      ]
     },
     "execution_count": 8,
     "metadata": {},
     "output_type": "execute_result"
    }
   ],
   "source": [
    "many_orgs_one_schd.shape"
   ]
  },
  {
   "cell_type": "code",
   "execution_count": 9,
   "id": "c066316d-044e-44ef-af62-8d7fbf8a2e01",
   "metadata": {
    "tags": []
   },
   "outputs": [
    {
     "data": {
      "text/html": [
       "<div>\n",
       "<style scoped>\n",
       "    .dataframe tbody tr th:only-of-type {\n",
       "        vertical-align: middle;\n",
       "    }\n",
       "\n",
       "    .dataframe tbody tr th {\n",
       "        vertical-align: top;\n",
       "    }\n",
       "\n",
       "    .dataframe thead th {\n",
       "        text-align: right;\n",
       "    }\n",
       "</style>\n",
       "<table border=\"1\" class=\"dataframe\">\n",
       "  <thead>\n",
       "    <tr style=\"text-align: right;\">\n",
       "      <th></th>\n",
       "      <th>schedule_gtfs_dataset_key</th>\n",
       "      <th>caltrans_district</th>\n",
       "      <th>organization_name</th>\n",
       "      <th>name</th>\n",
       "      <th>sched_rt_category</th>\n",
       "      <th>service_date</th>\n",
       "    </tr>\n",
       "  </thead>\n",
       "  <tbody>\n",
       "    <tr>\n",
       "      <th>0</th>\n",
       "      <td>6693efa56a541b6276da9b424f78a170</td>\n",
       "      <td>01 - Eureka</td>\n",
       "      <td>Blue Lake Rancheria</td>\n",
       "      <td>Humboldt Schedule</td>\n",
       "      <td>schedule_only</td>\n",
       "      <td>2023-09-13</td>\n",
       "    </tr>\n",
       "    <tr>\n",
       "      <th>1</th>\n",
       "      <td>a253a8d7acd57657bb98050f37dd6b0f</td>\n",
       "      <td>01 - Eureka</td>\n",
       "      <td>City of Arcata</td>\n",
       "      <td>Humboldt Schedule</td>\n",
       "      <td>schedule_and_vp</td>\n",
       "      <td>2025-02-12</td>\n",
       "    </tr>\n",
       "    <tr>\n",
       "      <th>2</th>\n",
       "      <td>a253a8d7acd57657bb98050f37dd6b0f</td>\n",
       "      <td>01 - Eureka</td>\n",
       "      <td>City of Eureka</td>\n",
       "      <td>Humboldt Schedule</td>\n",
       "      <td>schedule_and_vp</td>\n",
       "      <td>2025-02-12</td>\n",
       "    </tr>\n",
       "    <tr>\n",
       "      <th>3</th>\n",
       "      <td>1c698dddc3779d140521d3f1366a8df6</td>\n",
       "      <td>01 - Eureka</td>\n",
       "      <td>Curry Public Transit</td>\n",
       "      <td>Curry Public Transit Schedule</td>\n",
       "      <td>schedule_only</td>\n",
       "      <td>2025-02-12</td>\n",
       "    </tr>\n",
       "    <tr>\n",
       "      <th>4</th>\n",
       "      <td>a253a8d7acd57657bb98050f37dd6b0f</td>\n",
       "      <td>01 - Eureka</td>\n",
       "      <td>Humboldt Transit Authority</td>\n",
       "      <td>Humboldt Schedule</td>\n",
       "      <td>schedule_and_vp</td>\n",
       "      <td>2025-02-12</td>\n",
       "    </tr>\n",
       "  </tbody>\n",
       "</table>\n",
       "</div>"
      ],
      "text/plain": [
       "          schedule_gtfs_dataset_key caltrans_district  \\\n",
       "0  6693efa56a541b6276da9b424f78a170       01 - Eureka   \n",
       "1  a253a8d7acd57657bb98050f37dd6b0f       01 - Eureka   \n",
       "2  a253a8d7acd57657bb98050f37dd6b0f       01 - Eureka   \n",
       "3  1c698dddc3779d140521d3f1366a8df6       01 - Eureka   \n",
       "4  a253a8d7acd57657bb98050f37dd6b0f       01 - Eureka   \n",
       "\n",
       "            organization_name                           name  \\\n",
       "0         Blue Lake Rancheria              Humboldt Schedule   \n",
       "1              City of Arcata              Humboldt Schedule   \n",
       "2              City of Eureka              Humboldt Schedule   \n",
       "3        Curry Public Transit  Curry Public Transit Schedule   \n",
       "4  Humboldt Transit Authority              Humboldt Schedule   \n",
       "\n",
       "  sched_rt_category service_date  \n",
       "0     schedule_only   2023-09-13  \n",
       "1   schedule_and_vp   2025-02-12  \n",
       "2   schedule_and_vp   2025-02-12  \n",
       "3     schedule_only   2025-02-12  \n",
       "4   schedule_and_vp   2025-02-12  "
      ]
     },
     "execution_count": 9,
     "metadata": {},
     "output_type": "execute_result"
    }
   ],
   "source": [
    "many_orgs_one_schd.head()"
   ]
  },
  {
   "cell_type": "code",
   "execution_count": 10,
   "id": "41d6425b-79d8-42c7-82ff-432301cc631e",
   "metadata": {
    "tags": []
   },
   "outputs": [],
   "source": [
    "district_org_yaml = _operators_prep.generate_operator_grain_yml(filter_schd_both = True)"
   ]
  },
  {
   "cell_type": "code",
   "execution_count": 13,
   "id": "0655c15c-d6f7-4d69-aa5e-1739a18ff6e1",
   "metadata": {
    "tags": []
   },
   "outputs": [
    {
     "data": {
      "text/plain": [
       "(172, 2)"
      ]
     },
     "execution_count": 13,
     "metadata": {},
     "output_type": "execute_result"
    }
   ],
   "source": [
    "district_org_yaml.shape"
   ]
  },
  {
   "cell_type": "code",
   "execution_count": null,
   "id": "293cd395-0468-4464-a7af-a92e4262d438",
   "metadata": {
    "tags": []
   },
   "outputs": [],
   "source": [
    "schd_vp_url = f\"{GTFS_DATA_DICT.digest_tables.dir}{GTFS_DATA_DICT.digest_tables.route_schedule_vp}.parquet\"\n",
    "\n",
    "schd_vp_df = pd.read_parquet(\n",
    "    schd_vp_url,\n",
    "    columns=[\n",
    "        \"schedule_gtfs_dataset_key\",\n",
    "        \"caltrans_district\",\n",
    "        \"organization_name\",\n",
    "        \"name\",\n",
    "        \"sched_rt_category\",\n",
    "        \"service_date\",\n",
    "    ],\n",
    ")\n",
    "\n",
    "schd_vp_df = schd_vp_df.assign(\n",
    "    caltrans_district=schd_vp_df.caltrans_district.map(\n",
    "        portfolio_utils.CALTRANS_DISTRICT_DICT\n",
    "    )\n",
    ")\n",
    "\n",
    "# Sort/drop duplicates for only the most current row for each operator.\n",
    "agg1 = schd_vp_df.dropna(subset=\"caltrans_district\").sort_values(\n",
    "    by=[\n",
    "        \"caltrans_district\",\n",
    "        \"organization_name\",\n",
    "        \"service_date\",\n",
    "    ],\n",
    "    ascending=[True, True, False],\n",
    ")"
   ]
  },
  {
   "cell_type": "code",
   "execution_count": null,
   "id": "7975e8ad-fe02-4a12-ac1b-3e2938b9eb4e",
   "metadata": {
    "tags": []
   },
   "outputs": [],
   "source": [
    "one_org_many_names = (\n",
    "    agg1.groupby([\"organization_name\"]).agg({\"name\": \"nunique\"}).reset_index()\n",
    ")"
   ]
  },
  {
   "cell_type": "code",
   "execution_count": null,
   "id": "228c8fe1-692f-4ccc-9377-16d983d71f3f",
   "metadata": {
    "tags": []
   },
   "outputs": [],
   "source": [
    "one_org_many_names = one_org_many_names.loc[one_org_many_names.name > 1]"
   ]
  },
  {
   "cell_type": "code",
   "execution_count": null,
   "id": "e0900e37-e584-4cdf-9f08-65a84448f7a8",
   "metadata": {
    "scrolled": true,
    "tags": []
   },
   "outputs": [],
   "source": [
    "one_org_many_names"
   ]
  },
  {
   "cell_type": "code",
   "execution_count": null,
   "id": "36ed1a74-02f4-451e-ae5a-188b8ce40e95",
   "metadata": {
    "scrolled": true,
    "tags": []
   },
   "outputs": [],
   "source": [
    "crosswalk = agg1.loc[\n",
    "    agg1.organization_name.isin(list(one_org_many_names.organization_name.unique()))\n",
    "][[\"organization_name\",\"name\"]].drop_duplicates()"
   ]
  },
  {
   "cell_type": "code",
   "execution_count": null,
   "id": "0840e206-a6e1-4aba-9683-49d2b6290773",
   "metadata": {
    "scrolled": true,
    "tags": []
   },
   "outputs": [],
   "source": [
    "crosswalk"
   ]
  },
  {
   "cell_type": "code",
   "execution_count": null,
   "id": "275ac617-2942-4b56-b703-7351b3a93262",
   "metadata": {
    "tags": []
   },
   "outputs": [],
   "source": [
    "def df_to_yaml(df:pd.DataFrame, section_column:str, list_column:str, SITE_YML:str):\n",
    "    \"\"\"\n",
    "    Dump Pandas Dataframe to a YAML.\n",
    "\n",
    "    Parameters:\n",
    "    df (pd.DataFrame): DataFrame with 'sched_rt_category' and 'organization_name' columns.\n",
    "\n",
    "    Returns:\n",
    "    yaml_str (str): YAML string representation of the input DataFrame.\n",
    "    \"\"\"\n",
    "    # Initialize an empty dictionary to store the result\n",
    "    result = {}\n",
    "\n",
    "    # Iterate over unique 'sched_rt_category' values\n",
    "    for category in df[section_column].unique():\n",
    "        # Filter the DataFrame for the current category\n",
    "        category_df = df[df[section_column] == category]\n",
    "\n",
    "        # Create a list of 'organization_name' values for the current category\n",
    "        organization_names = category_df[list_column].tolist()\n",
    "\n",
    "        # Add the category and organization names to the result dictionary\n",
    "        result[category] = organization_names\n",
    "\n",
    "    # Save to YML\n",
    "    with open(SITE_YML) as f:\n",
    "        site_yaml_dict = yaml.load(f, yaml.Loader)\n",
    "        \n",
    "    output = yaml.dump(result)\n",
    "    \n",
    "    with open(SITE_YML, \"w\") as f:\n",
    "        f.write(output)"
   ]
  },
  {
   "cell_type": "code",
   "execution_count": null,
   "id": "7bbf365b-e7cc-4cbf-94d9-b95eaf527c63",
   "metadata": {
    "tags": []
   },
   "outputs": [],
   "source": [
    "df_to_yaml(crosswalk, \"organization_name\", \"name\", \"org_to_names.yml\")"
   ]
  },
  {
   "cell_type": "code",
   "execution_count": null,
   "id": "7c190422-6290-4a31-a4f5-7e315590ce26",
   "metadata": {},
   "outputs": [],
   "source": []
  }
 ],
 "metadata": {
  "kernelspec": {
   "display_name": "Python 3 (ipykernel)",
   "language": "python",
   "name": "python3"
  },
  "language_info": {
   "codemirror_mode": {
    "name": "ipython",
    "version": 3
   },
   "file_extension": ".py",
   "mimetype": "text/x-python",
   "name": "python",
   "nbconvert_exporter": "python",
   "pygments_lexer": "ipython3",
   "version": "3.11.10"
  }
 },
 "nbformat": 4,
 "nbformat_minor": 5
}
