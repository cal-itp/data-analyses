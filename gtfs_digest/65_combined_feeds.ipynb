{
 "cells": [
  {
   "cell_type": "markdown",
   "id": "9567f2b6-a5f4-4690-a38a-288fc7f588bb",
   "metadata": {},
   "source": [
    "# Combined Feeds\n",
    "* Tiffany: <i>schedule_gtfs_dataset_names=LA Metro Bus/Railare combined/aggregated to organization_name =A County Metropolitan Transportation Authority -> both feeds have unique information, should be shown</i>\n",
    "* Find other instances of this in our dataset. "
   ]
  },
  {
   "cell_type": "code",
   "execution_count": null,
   "id": "77d8672d-1e2a-4aeb-8884-17a8232a89f6",
   "metadata": {
    "tags": []
   },
   "outputs": [],
   "source": [
    "import geopandas as gpd\n",
    "import merge_data\n",
    "import pandas as pd\n",
    "import yaml\n",
    "from segment_speed_utils import gtfs_schedule_wrangling, helpers\n",
    "from segment_speed_utils.project_vars import COMPILED_CACHED_VIEWS, PROJECT_CRS\n",
    "from shared_utils import catalog_utils, portfolio_utils, publish_utils, rt_dates\n",
    "from update_vars import GTFS_DATA_DICT, RT_SCHED_GCS, SCHED_GCS, SEGMENT_GCS"
   ]
  },
  {
   "cell_type": "code",
   "execution_count": null,
   "id": "2c28b250-d62f-4dde-9395-86dbb6cb65a5",
   "metadata": {
    "tags": []
   },
   "outputs": [],
   "source": [
    "pd.options.display.max_columns = 100\n",
    "pd.options.display.float_format = \"{:.2f}\".format\n",
    "pd.set_option(\"display.max_rows\", None)\n",
    "pd.set_option(\"display.max_colwidth\", None)"
   ]
  },
  {
   "cell_type": "code",
   "execution_count": null,
   "id": "6b2f6ba1-0398-42b3-93ee-1c0589b000b0",
   "metadata": {},
   "outputs": [],
   "source": [
    "import _operators_prep"
   ]
  },
  {
   "cell_type": "code",
   "execution_count": null,
   "id": "d686a3ba-e17f-47d8-b0e5-f4151f88dba1",
   "metadata": {
    "tags": []
   },
   "outputs": [],
   "source": [
    "all_ops = _operators_prep.load_schd_vp_df(filter_schd_both=False)"
   ]
  },
  {
   "cell_type": "code",
   "execution_count": null,
   "id": "d3cc6b95-f212-4eee-a074-cdb7bdf4b8b3",
   "metadata": {
    "tags": []
   },
   "outputs": [],
   "source": [
    "publish_utils.filter_to_recent_date??"
   ]
  },
  {
   "cell_type": "code",
   "execution_count": null,
   "id": "1d85fd3a-75ea-438c-bf98-2a5142e2a751",
   "metadata": {},
   "outputs": [],
   "source": [
    "schd_vp_url = f\"{GTFS_DATA_DICT.digest_tables.dir}{GTFS_DATA_DICT.digest_tables.route_schedule_vp}.parquet\"\n",
    "\n",
    "schd_vp_df = (\n",
    "    pd.read_parquet(\n",
    "        schd_vp_url,\n",
    "        columns=[\n",
    "            \"schedule_gtfs_dataset_key\",\n",
    "            \"organization_name\",\n",
    "            \"name\",\n",
    "            \"sched_rt_category\",\n",
    "            \"service_date\",\n",
    "        ],\n",
    "    )\n",
    ").drop_duplicates()"
   ]
  },
  {
   "cell_type": "code",
   "execution_count": null,
   "id": "fbc76c3a-de5a-4870-9705-af7863fdab52",
   "metadata": {
    "tags": []
   },
   "outputs": [],
   "source": [
    "schd_vp_df = schd_vp_df.sort_values(\n",
    "    by=[\n",
    "        \"organization_name\",\n",
    "        \"service_date\",\n",
    "    ],\n",
    "    ascending=[True, False],\n",
    ")"
   ]
  },
  {
   "cell_type": "code",
   "execution_count": null,
   "id": "684566ec-2456-41ab-83b1-fa5ebe089e99",
   "metadata": {
    "tags": []
   },
   "outputs": [],
   "source": [
    "schd_vp_df = schd_vp_df.drop_duplicates(subset=[\"organization_name\", \"name\"])"
   ]
  },
  {
   "cell_type": "code",
   "execution_count": null,
   "id": "0a610971-4b7d-4d38-94c9-d27ce1126ef0",
   "metadata": {
    "tags": []
   },
   "outputs": [],
   "source": [
    "schd_vp_df = schd_vp_df.drop(columns=[\"service_date\"])"
   ]
  },
  {
   "cell_type": "markdown",
   "id": "8dea2bf2-53d7-48ca-937b-de2e1874cf9a",
   "metadata": {},
   "source": [
    "## YML 1: Which operators we purposely exclude "
   ]
  },
  {
   "cell_type": "code",
   "execution_count": null,
   "id": "fc08624f-d300-4d79-8284-4d7a4ab32565",
   "metadata": {},
   "outputs": [],
   "source": [
    "operators_to_exclude = [\"City of Alameda\"]"
   ]
  },
  {
   "cell_type": "code",
   "execution_count": null,
   "id": "c9ebe2ee-7b6c-46cb-bba3-fa07be0f53d3",
   "metadata": {
    "tags": []
   },
   "outputs": [],
   "source": [
    "reason_for_exclusion = {\n",
    "    \"City of Alameda\": \"Prefer using San Francisco Bay Area Water Emergency Transportation Authority (WETA) when displaying in our portflio.\"\n",
    "}"
   ]
  },
  {
   "cell_type": "code",
   "execution_count": null,
   "id": "5e563f11-adcf-455e-b6cf-9146e350467c",
   "metadata": {
    "tags": []
   },
   "outputs": [],
   "source": [
    "schd_vp_df[\"excluded_included\"] = schd_vp_df[\"organization_name\"].apply(\n",
    "    lambda x: \"excluded\" if x in operators_to_exclude else \"included\"\n",
    ")"
   ]
  },
  {
   "cell_type": "code",
   "execution_count": null,
   "id": "b07fe6a2-601b-4fc9-b057-80f4301c793e",
   "metadata": {
    "scrolled": true,
    "tags": []
   },
   "outputs": [],
   "source": [
    "schd_vp_df.head()"
   ]
  },
  {
   "cell_type": "code",
   "execution_count": null,
   "id": "8524e28f-1c3c-42e2-8995-62e045d009aa",
   "metadata": {},
   "outputs": [],
   "source": [
    "excluded = schd_vp_df.loc[schd_vp_df.excluded_included == \"excluded\"]"
   ]
  },
  {
   "cell_type": "code",
   "execution_count": null,
   "id": "cdcf5eb5-836e-4b4f-8346-21ff40ac91e1",
   "metadata": {
    "tags": []
   },
   "outputs": [],
   "source": [
    "excluded['reason_for_exclusion'] = excluded['organization_name'].map(reason_for_exclusion)"
   ]
  },
  {
   "cell_type": "code",
   "execution_count": null,
   "id": "797eed2f-ba2d-4dbf-85d4-d7bb83a54c3b",
   "metadata": {
    "tags": []
   },
   "outputs": [],
   "source": [
    "excluded = excluded[[\"organization_name\", \"reason_for_exclusion\"]]"
   ]
  },
  {
   "cell_type": "code",
   "execution_count": null,
   "id": "35378599-3928-4f45-8b42-fca562fa661f",
   "metadata": {
    "scrolled": true,
    "tags": []
   },
   "outputs": [],
   "source": [
    "excluded"
   ]
  },
  {
   "cell_type": "markdown",
   "id": "514bb29c-3561-4475-971c-b1ee5ef09717",
   "metadata": {},
   "source": [
    "## YML 2: Illustrating 1:1, m:1, m:m `schedule_gtfs_dataset_key` to `organization_name`"
   ]
  },
  {
   "cell_type": "code",
   "execution_count": null,
   "id": "60040d3b-3ee8-4151-81bf-a87840011db6",
   "metadata": {
    "tags": []
   },
   "outputs": [],
   "source": [
    "schd_vp_df = schd_vp_df.fillna(\"None\")"
   ]
  },
  {
   "cell_type": "code",
   "execution_count": null,
   "id": "9b0d11fe-0582-4289-9c2b-4ea3918ac8df",
   "metadata": {
    "tags": []
   },
   "outputs": [],
   "source": [
    "schd_vp_df.loc[schd_vp_df.name.str.contains(\"Metro\")]"
   ]
  },
  {
   "cell_type": "code",
   "execution_count": null,
   "id": "08f70328-6554-43c9-80c9-fba7cebde9bf",
   "metadata": {
    "tags": []
   },
   "outputs": [],
   "source": [
    "def count_orgs(df: pd.DataFrame, groupby_col:str, nunique_col:str) -> list:\n",
    "    \"\"\"\n",
    "    Count the number of unique values the nunique_col\n",
    "    to the groupby_col. Filter out any\n",
    "    groupby_col with less than 2 unique\n",
    "    values in nunique_col. Return these groupby_col values\n",
    "    in a list.\n",
    "    \"\"\"\n",
    "    agg1 = (\n",
    "        df.groupby([groupby_col])\n",
    "        .agg({nunique_col: \"nunique\"})\n",
    "        .reset_index()\n",
    "    )\n",
    "\n",
    "    # Filter out rows with more than 1 organization_name\n",
    "    agg1 = agg1.loc[agg1[nunique_col] > 1].reset_index(drop=True)\n",
    "    \n",
    "    # Grab groupby_col into a list\n",
    "    multi_org_list = list(agg1[groupby_col].unique())\n",
    "    return multi_org_list"
   ]
  },
  {
   "cell_type": "markdown",
   "id": "04880a14-34cc-4cda-b6c2-e36b1d2fab9a",
   "metadata": {},
   "source": [
    "### One `organization_name` to many `schedule_gtfs_dataset_key`"
   ]
  },
  {
   "cell_type": "code",
   "execution_count": null,
   "id": "ddf32dd5-f3d3-4e9a-977d-a6127642816d",
   "metadata": {
    "tags": []
   },
   "outputs": [],
   "source": [
    "one_org_m_keys_list = count_orgs(schd_vp_df,  \"organization_name\", \"schedule_gtfs_dataset_key\",)"
   ]
  },
  {
   "cell_type": "markdown",
   "id": "6443605e-5cff-406a-a589-5c560a4baf1e",
   "metadata": {},
   "source": [
    "### One `schedule_gtfs_dataset_key` to many `organization_name`"
   ]
  },
  {
   "cell_type": "code",
   "execution_count": null,
   "id": "17c89447-2323-4fe7-b41d-f1c193b35cb9",
   "metadata": {
    "tags": []
   },
   "outputs": [],
   "source": [
    "one_key_many_orgs_list = count_orgs(schd_vp_df,  \"schedule_gtfs_dataset_key\", \"organization_name\",)"
   ]
  },
  {
   "cell_type": "code",
   "execution_count": null,
   "id": "ca4156da-e0ad-4050-875b-32e143e6c470",
   "metadata": {
    "tags": []
   },
   "outputs": [],
   "source": [
    "agg1 = (\n",
    "        schd_vp_df.groupby([\"schedule_gtfs_dataset_key\"])\n",
    "        .agg({\"organization_name\": \"nunique\"})\n",
    "        .reset_index()\n",
    "    )"
   ]
  },
  {
   "cell_type": "code",
   "execution_count": null,
   "id": "e6759ccb-f7ba-4e3e-944f-d8b8ef5b88ac",
   "metadata": {},
   "outputs": [],
   "source": []
  },
  {
   "cell_type": "markdown",
   "id": "f202036b-f86b-4b59-8791-9fdfff5043ad",
   "metadata": {
    "tags": []
   },
   "source": [
    "### Tag"
   ]
  },
  {
   "cell_type": "code",
   "execution_count": null,
   "id": "4b914b7d-06ab-41c7-ac6f-0ca771795dc1",
   "metadata": {
    "tags": []
   },
   "outputs": [],
   "source": [
    "one_org_m_keys_list"
   ]
  },
  {
   "cell_type": "code",
   "execution_count": null,
   "id": "62348b6c-9fb6-443f-9063-c6fdeacb85d7",
   "metadata": {
    "tags": []
   },
   "outputs": [],
   "source": [
    "one_key_many_orgs_list"
   ]
  },
  {
   "cell_type": "code",
   "execution_count": null,
   "id": "f3668ecb-aa59-4c23-9b9a-5b6a106cf96a",
   "metadata": {
    "tags": []
   },
   "outputs": [],
   "source": [
    "# Create a new column 'gtfs_category'\n",
    "schd_vp_df['gtfs_category'] = '1 schedule_gtfs_dataset_key: 1 organization_name'\n",
    "\n",
    "# Update 'gtfs_category' for organization names with multiple schedule GTFS dataset keys\n",
    "schd_vp_df.loc[schd_vp_df['organization_name'].isin(one_org_m_keys_list), 'gtfs_category'] = '1 organization_name: m schedule_gtfs_dataset_key'\n",
    "\n",
    "# Update 'gtfs_category' for organization names with one schedule GTFS dataset key\n",
    "schd_vp_df.loc[schd_vp_df['organization_name'].isin(one_key_many_orgs_list), 'gtfs_category'] = '1 schedule_gtfs_dataset_key: m organization_name'\n",
    "\n",
    "schd_vp_df.loc[schd_vp_df['organization_name'].isin([org for org in one_org_m_keys_list if org in one_key_many_orgs_list]), 'gtfs_category'] = 'm schedule_gtfs_dataset_key: m organization_name'"
   ]
  },
  {
   "cell_type": "code",
   "execution_count": null,
   "id": "03ad3be5-7e02-43e8-b79e-d97cb25cdbbe",
   "metadata": {
    "tags": []
   },
   "outputs": [],
   "source": [
    "schd_vp_df.gtfs_category.value_counts()"
   ]
  },
  {
   "cell_type": "code",
   "execution_count": null,
   "id": "fabd4053-9e51-4a87-a871-85b01d068af2",
   "metadata": {
    "tags": []
   },
   "outputs": [],
   "source": [
    "schd_vp_df.loc[schd_vp_df.schedule_gtfs_dataset_key.isin(one_key_many_orgs_list)]"
   ]
  },
  {
   "cell_type": "markdown",
   "id": "7f3cb906-9fe0-4553-97fc-6825660b59d9",
   "metadata": {},
   "source": [
    "## YML 3 Operators who have RT, Schedule, or Both"
   ]
  },
  {
   "cell_type": "code",
   "execution_count": null,
   "id": "1e5cbfc9-636f-4f02-b453-071a2b95b8e6",
   "metadata": {
    "tags": []
   },
   "outputs": [],
   "source": [
    "def df_to_yaml(df:pd.DataFrame, column:str, SITE_YML:str):\n",
    "    \"\"\"\n",
    "    Dump Pandas Dataframe to a YAML.\n",
    "\n",
    "    Parameters:\n",
    "    df (pd.DataFrame): DataFrame with 'sched_rt_category' and 'organization_name' columns.\n",
    "\n",
    "    Returns:\n",
    "    yaml_str (str): YAML string representation of the input DataFrame.\n",
    "    \"\"\"\n",
    "    # Initialize an empty dictionary to store the result\n",
    "    result = {}\n",
    "\n",
    "    # Iterate over unique 'sched_rt_category' values\n",
    "    for category in df[column].unique():\n",
    "        # Filter the DataFrame for the current category\n",
    "        category_df = df[df[column] == category]\n",
    "\n",
    "        # Create a list of 'organization_name' values for the current category\n",
    "        organization_names = category_df['organization_name'].tolist()\n",
    "\n",
    "        # Add the category and organization names to the result dictionary\n",
    "        result[category] = organization_names\n",
    "\n",
    "    # Save to YML\n",
    "    with open(SITE_YML) as f:\n",
    "        site_yaml_dict = yaml.load(f, yaml.Loader)\n",
    "        \n",
    "    output = yaml.dump(result)\n",
    "    \n",
    "    with open(SITE_YML, \"w\") as f:\n",
    "        f.write(output)"
   ]
  },
  {
   "cell_type": "code",
   "execution_count": null,
   "id": "755dbb3c-9351-459f-beaa-aead8600f08f",
   "metadata": {},
   "outputs": [],
   "source": [
    "df = all_categories[[\"sched_rt_category\",\"organization_name\",]]"
   ]
  }
 ],
 "metadata": {
  "kernelspec": {
   "display_name": "Python 3 (ipykernel)",
   "language": "python",
   "name": "python3"
  },
  "language_info": {
   "codemirror_mode": {
    "name": "ipython",
    "version": 3
   },
   "file_extension": ".py",
   "mimetype": "text/x-python",
   "name": "python",
   "nbconvert_exporter": "python",
   "pygments_lexer": "ipython3",
   "version": "3.11.10"
  }
 },
 "nbformat": 4,
 "nbformat_minor": 5
}
