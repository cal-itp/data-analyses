{
 "cells": [
  {
   "cell_type": "markdown",
   "id": "9567f2b6-a5f4-4690-a38a-288fc7f588bb",
   "metadata": {},
   "source": [
    "# Combined Feeds\n",
    "* Tiffany: <i>schedule_gtfs_dataset_names=LA Metro Bus/Railare combined/aggregated to organization_name =A County Metropolitan Transportation Authority -> both feeds have unique information, should be shown</i>\n",
    "* Find other instances of this in our dataset. "
   ]
  },
  {
   "cell_type": "code",
   "execution_count": 1,
   "id": "77d8672d-1e2a-4aeb-8884-17a8232a89f6",
   "metadata": {
    "tags": []
   },
   "outputs": [],
   "source": [
    "import geopandas as gpd\n",
    "import merge_data\n",
    "import pandas as pd\n",
    "import yaml\n",
    "from segment_speed_utils import gtfs_schedule_wrangling, helpers\n",
    "from segment_speed_utils.project_vars import COMPILED_CACHED_VIEWS, PROJECT_CRS\n",
    "from shared_utils import catalog_utils, portfolio_utils, publish_utils, rt_dates\n",
    "from update_vars import GTFS_DATA_DICT, RT_SCHED_GCS, SCHED_GCS, SEGMENT_GCS"
   ]
  },
  {
   "cell_type": "code",
   "execution_count": 2,
   "id": "2c28b250-d62f-4dde-9395-86dbb6cb65a5",
   "metadata": {
    "tags": []
   },
   "outputs": [],
   "source": [
    "pd.options.display.max_columns = 100\n",
    "pd.options.display.float_format = \"{:.2f}\".format\n",
    "pd.set_option(\"display.max_rows\", None)\n",
    "pd.set_option(\"display.max_colwidth\", None)"
   ]
  },
  {
   "cell_type": "code",
   "execution_count": 3,
   "id": "6b2f6ba1-0398-42b3-93ee-1c0589b000b0",
   "metadata": {},
   "outputs": [],
   "source": [
    "import _operators_prep"
   ]
  },
  {
   "cell_type": "code",
   "execution_count": 4,
   "id": "d686a3ba-e17f-47d8-b0e5-f4151f88dba1",
   "metadata": {
    "tags": []
   },
   "outputs": [],
   "source": [
    "all_ops = _operators_prep.load_schd_vp_df(filter_schd_both=False)"
   ]
  },
  {
   "cell_type": "code",
   "execution_count": 5,
   "id": "d3cc6b95-f212-4eee-a074-cdb7bdf4b8b3",
   "metadata": {
    "tags": []
   },
   "outputs": [
    {
     "data": {
      "text/plain": [
       "\u001b[0;31mSignature:\u001b[0m \u001b[0mpublish_utils\u001b[0m\u001b[0;34m.\u001b[0m\u001b[0mfilter_to_recent_date\u001b[0m\u001b[0;34m(\u001b[0m\u001b[0mdf\u001b[0m\u001b[0;34m:\u001b[0m \u001b[0mpandas\u001b[0m\u001b[0;34m.\u001b[0m\u001b[0mcore\u001b[0m\u001b[0;34m.\u001b[0m\u001b[0mframe\u001b[0m\u001b[0;34m.\u001b[0m\u001b[0mDataFrame\u001b[0m\u001b[0;34m)\u001b[0m \u001b[0;34m->\u001b[0m \u001b[0mpandas\u001b[0m\u001b[0;34m.\u001b[0m\u001b[0mcore\u001b[0m\u001b[0;34m.\u001b[0m\u001b[0mframe\u001b[0m\u001b[0;34m.\u001b[0m\u001b[0mDataFrame\u001b[0m\u001b[0;34m\u001b[0m\u001b[0;34m\u001b[0m\u001b[0m\n",
       "\u001b[0;31mSource:\u001b[0m   \n",
       "\u001b[0;32mdef\u001b[0m \u001b[0mfilter_to_recent_date\u001b[0m\u001b[0;34m(\u001b[0m\u001b[0mdf\u001b[0m\u001b[0;34m:\u001b[0m \u001b[0mpd\u001b[0m\u001b[0;34m.\u001b[0m\u001b[0mDataFrame\u001b[0m\u001b[0;34m)\u001b[0m \u001b[0;34m->\u001b[0m \u001b[0mpd\u001b[0m\u001b[0;34m.\u001b[0m\u001b[0mDataFrame\u001b[0m\u001b[0;34m:\u001b[0m\u001b[0;34m\u001b[0m\n",
       "\u001b[0;34m\u001b[0m    \u001b[0;34m\"\"\"\u001b[0m\n",
       "\u001b[0;34m    By schedule_gtfs_dataset_name, keep the most recent\u001b[0m\n",
       "\u001b[0;34m    service_date that shows up in scheduled trips.\u001b[0m\n",
       "\u001b[0;34m    \"\"\"\u001b[0m\u001b[0;34m\u001b[0m\n",
       "\u001b[0;34m\u001b[0m    \u001b[0mdf2\u001b[0m \u001b[0;34m=\u001b[0m \u001b[0;34m(\u001b[0m\u001b[0;34m\u001b[0m\n",
       "\u001b[0;34m\u001b[0m        \u001b[0mdf\u001b[0m\u001b[0;34m.\u001b[0m\u001b[0mgroupby\u001b[0m\u001b[0;34m(\u001b[0m\u001b[0;34m\"name\"\u001b[0m\u001b[0;34m,\u001b[0m \u001b[0mgroup_keys\u001b[0m\u001b[0;34m=\u001b[0m\u001b[0;32mFalse\u001b[0m\u001b[0;34m)\u001b[0m\u001b[0;34m\u001b[0m\n",
       "\u001b[0;34m\u001b[0m        \u001b[0;34m.\u001b[0m\u001b[0mservice_date\u001b[0m\u001b[0;34m.\u001b[0m\u001b[0mmax\u001b[0m\u001b[0;34m(\u001b[0m\u001b[0;34m)\u001b[0m\u001b[0;34m\u001b[0m\n",
       "\u001b[0;34m\u001b[0m        \u001b[0;34m.\u001b[0m\u001b[0mreset_index\u001b[0m\u001b[0;34m(\u001b[0m\u001b[0;34m)\u001b[0m\u001b[0;34m\u001b[0m\n",
       "\u001b[0;34m\u001b[0m        \u001b[0;34m.\u001b[0m\u001b[0msort_values\u001b[0m\u001b[0;34m(\u001b[0m\u001b[0;34m[\u001b[0m\u001b[0;34m\"service_date\"\u001b[0m\u001b[0;34m,\u001b[0m \u001b[0;34m\"name\"\u001b[0m\u001b[0;34m]\u001b[0m\u001b[0;34m,\u001b[0m \u001b[0mascending\u001b[0m\u001b[0;34m=\u001b[0m\u001b[0;34m[\u001b[0m\u001b[0;32mFalse\u001b[0m\u001b[0;34m,\u001b[0m \u001b[0;32mTrue\u001b[0m\u001b[0;34m]\u001b[0m\u001b[0;34m)\u001b[0m\u001b[0;34m\u001b[0m\n",
       "\u001b[0;34m\u001b[0m        \u001b[0;34m.\u001b[0m\u001b[0mreset_index\u001b[0m\u001b[0;34m(\u001b[0m\u001b[0mdrop\u001b[0m\u001b[0;34m=\u001b[0m\u001b[0;32mTrue\u001b[0m\u001b[0;34m)\u001b[0m\u001b[0;34m\u001b[0m\n",
       "\u001b[0;34m\u001b[0m        \u001b[0;34m.\u001b[0m\u001b[0mastype\u001b[0m\u001b[0;34m(\u001b[0m\u001b[0;34m{\u001b[0m\u001b[0;34m\"service_date\"\u001b[0m\u001b[0;34m:\u001b[0m \u001b[0;34m\"str\"\u001b[0m\u001b[0;34m}\u001b[0m\u001b[0;34m)\u001b[0m\u001b[0;34m\u001b[0m\n",
       "\u001b[0;34m\u001b[0m    \u001b[0;34m)\u001b[0m\u001b[0;34m\u001b[0m\n",
       "\u001b[0;34m\u001b[0m    \u001b[0;32mreturn\u001b[0m \u001b[0mdf2\u001b[0m\u001b[0;34m\u001b[0m\u001b[0;34m\u001b[0m\u001b[0m\n",
       "\u001b[0;31mFile:\u001b[0m      ~/data-analyses/_shared_utils/shared_utils/publish_utils.py\n",
       "\u001b[0;31mType:\u001b[0m      function"
      ]
     },
     "metadata": {},
     "output_type": "display_data"
    }
   ],
   "source": [
    "publish_utils.filter_to_recent_date??"
   ]
  },
  {
   "cell_type": "code",
   "execution_count": 14,
   "id": "2a02d8d2-cba7-47f6-816d-a01e445a394e",
   "metadata": {
    "tags": []
   },
   "outputs": [],
   "source": [
    "def load_schd_vp() -> pd.DataFrame:\n",
    "    schd_vp_url = f\"{GTFS_DATA_DICT.digest_tables.dir}{GTFS_DATA_DICT.digest_tables.route_schedule_vp}.parquet\"\n",
    "\n",
    "    # Drop any duplicates\n",
    "    schd_vp_df = (\n",
    "        pd.read_parquet(\n",
    "            schd_vp_url,\n",
    "            columns=[\n",
    "                \"schedule_gtfs_dataset_key\",\n",
    "                \"organization_name\",\n",
    "                \"name\",\n",
    "                \"sched_rt_category\",\n",
    "                \"service_date\",\n",
    "            ],\n",
    "        )\n",
    "    ).drop_duplicates()\n",
    "\n",
    "    # Sort values so the most current row stays at the top\n",
    "    schd_vp_df = schd_vp_df.sort_values(\n",
    "        by=[\n",
    "            \"organization_name\",\n",
    "            \"service_date\",\n",
    "        ],\n",
    "        ascending=[True, False],\n",
    "    )\n",
    "    \n",
    "    # Drop duplicates again\n",
    "    schd_vp_df = schd_vp_df.drop_duplicates(subset=[\"organization_name\", \"name\"])\n",
    "\n",
    "    # Drop service_date\n",
    "    schd_vp_df = schd_vp_df.drop(columns=[\"service_date\"]).reset_index(drop=True)\n",
    "\n",
    "    # Fillna rows with None.\n",
    "    schd_vp_df = schd_vp_df.fillna(\"None\")\n",
    "    \n",
    "    # Filter out organization_names that are None.\n",
    "    schd_vp_df = schd_vp_df.loc[schd_vp_df.organization_name != \"None\"].reset_index(\n",
    "    drop=True\n",
    ")\n",
    "    return schd_vp_df"
   ]
  },
  {
   "cell_type": "code",
   "execution_count": 15,
   "id": "fbc76c3a-de5a-4870-9705-af7863fdab52",
   "metadata": {
    "tags": []
   },
   "outputs": [],
   "source": [
    "schd_vp_df = load_schd_vp()"
   ]
  },
  {
   "cell_type": "markdown",
   "id": "a1eeb0a3-f074-4e4b-bd26-edb2692f789c",
   "metadata": {
    "tags": []
   },
   "source": [
    "### Check out rows w/ no `organization_name` but a populated `name`\n",
    "* There are other rows with `organization_name` filled for either same/very similar `name` values."
   ]
  },
  {
   "cell_type": "code",
   "execution_count": 11,
   "id": "e40654ec-1edc-4d1d-9228-d09ddfbdaa02",
   "metadata": {
    "tags": []
   },
   "outputs": [],
   "source": [
    "no_org_name = schd_vp_df.loc[schd_vp_df.organization_name == \"None\"]"
   ]
  },
  {
   "cell_type": "code",
   "execution_count": 12,
   "id": "624002bb-ac0a-47c1-933f-d23269bc0a28",
   "metadata": {
    "tags": []
   },
   "outputs": [],
   "source": [
    "no_org_name_gtfs = list(no_org_name.schedule_gtfs_dataset_key.unique())"
   ]
  },
  {
   "cell_type": "code",
   "execution_count": 13,
   "id": "cd7470b1-f3fe-4bfb-be90-fff24b4029a4",
   "metadata": {
    "tags": []
   },
   "outputs": [
    {
     "data": {
      "text/html": [
       "<div>\n",
       "<style scoped>\n",
       "    .dataframe tbody tr th:only-of-type {\n",
       "        vertical-align: middle;\n",
       "    }\n",
       "\n",
       "    .dataframe tbody tr th {\n",
       "        vertical-align: top;\n",
       "    }\n",
       "\n",
       "    .dataframe thead th {\n",
       "        text-align: right;\n",
       "    }\n",
       "</style>\n",
       "<table border=\"1\" class=\"dataframe\">\n",
       "  <thead>\n",
       "    <tr style=\"text-align: right;\">\n",
       "      <th></th>\n",
       "      <th>schedule_gtfs_dataset_key</th>\n",
       "      <th>organization_name</th>\n",
       "      <th>name</th>\n",
       "      <th>sched_rt_category</th>\n",
       "    </tr>\n",
       "  </thead>\n",
       "  <tbody>\n",
       "    <tr>\n",
       "      <th>6</th>\n",
       "      <td>b0760015c9fcd0500c4fddd5b9bb115b</td>\n",
       "      <td>Basin Transit</td>\n",
       "      <td>Morongo Basin Schedule</td>\n",
       "      <td>schedule_only</td>\n",
       "    </tr>\n",
       "    <tr>\n",
       "      <th>129</th>\n",
       "      <td>dcb6fb26f2d08393f9b0b1c14dc8775c</td>\n",
       "      <td>Livermore-Amador Valley Transit Authority</td>\n",
       "      <td>Bay Area 511 Tri-Valley Wheels Schedule</td>\n",
       "      <td>schedule_and_vp</td>\n",
       "    </tr>\n",
       "    <tr>\n",
       "      <th>140</th>\n",
       "      <td>0d65d96d07115e28313f207d5ed0d3b2</td>\n",
       "      <td>Modoc Transportation Agency</td>\n",
       "      <td>Sage Stage Schedule</td>\n",
       "      <td>schedule_only</td>\n",
       "    </tr>\n",
       "    <tr>\n",
       "      <th>216</th>\n",
       "      <td>09ff99ecac281cec96e67a0890b17d39</td>\n",
       "      <td>None</td>\n",
       "      <td>Bay Area 511 Emery Express Schedule</td>\n",
       "      <td>schedule_only</td>\n",
       "    </tr>\n",
       "    <tr>\n",
       "      <th>217</th>\n",
       "      <td>0139b1253130b33adcd4b3a4490530d2</td>\n",
       "      <td>None</td>\n",
       "      <td>None</td>\n",
       "      <td>vp_only</td>\n",
       "    </tr>\n",
       "    <tr>\n",
       "      <th>218</th>\n",
       "      <td>bc039937fdadd173bd3c3edc03b7a9c9</td>\n",
       "      <td>None</td>\n",
       "      <td>Banning Pass Schedule</td>\n",
       "      <td>schedule_only</td>\n",
       "    </tr>\n",
       "    <tr>\n",
       "      <th>219</th>\n",
       "      <td>dcb6fb26f2d08393f9b0b1c14dc8775c</td>\n",
       "      <td>None</td>\n",
       "      <td>Bay Area 511 Tri-Valley Wheels Schedule</td>\n",
       "      <td>schedule_only</td>\n",
       "    </tr>\n",
       "    <tr>\n",
       "      <th>220</th>\n",
       "      <td>0d65d96d07115e28313f207d5ed0d3b2</td>\n",
       "      <td>None</td>\n",
       "      <td>Sage Stage Schedule</td>\n",
       "      <td>schedule_only</td>\n",
       "    </tr>\n",
       "    <tr>\n",
       "      <th>221</th>\n",
       "      <td>b0760015c9fcd0500c4fddd5b9bb115b</td>\n",
       "      <td>None</td>\n",
       "      <td>Morongo Basin Schedule</td>\n",
       "      <td>schedule_only</td>\n",
       "    </tr>\n",
       "  </tbody>\n",
       "</table>\n",
       "</div>"
      ],
      "text/plain": [
       "            schedule_gtfs_dataset_key  \\\n",
       "6    b0760015c9fcd0500c4fddd5b9bb115b   \n",
       "129  dcb6fb26f2d08393f9b0b1c14dc8775c   \n",
       "140  0d65d96d07115e28313f207d5ed0d3b2   \n",
       "216  09ff99ecac281cec96e67a0890b17d39   \n",
       "217  0139b1253130b33adcd4b3a4490530d2   \n",
       "218  bc039937fdadd173bd3c3edc03b7a9c9   \n",
       "219  dcb6fb26f2d08393f9b0b1c14dc8775c   \n",
       "220  0d65d96d07115e28313f207d5ed0d3b2   \n",
       "221  b0760015c9fcd0500c4fddd5b9bb115b   \n",
       "\n",
       "                             organization_name  \\\n",
       "6                                Basin Transit   \n",
       "129  Livermore-Amador Valley Transit Authority   \n",
       "140                Modoc Transportation Agency   \n",
       "216                                       None   \n",
       "217                                       None   \n",
       "218                                       None   \n",
       "219                                       None   \n",
       "220                                       None   \n",
       "221                                       None   \n",
       "\n",
       "                                        name sched_rt_category  \n",
       "6                     Morongo Basin Schedule     schedule_only  \n",
       "129  Bay Area 511 Tri-Valley Wheels Schedule   schedule_and_vp  \n",
       "140                      Sage Stage Schedule     schedule_only  \n",
       "216      Bay Area 511 Emery Express Schedule     schedule_only  \n",
       "217                                     None           vp_only  \n",
       "218                    Banning Pass Schedule     schedule_only  \n",
       "219  Bay Area 511 Tri-Valley Wheels Schedule     schedule_only  \n",
       "220                      Sage Stage Schedule     schedule_only  \n",
       "221                   Morongo Basin Schedule     schedule_only  "
      ]
     },
     "execution_count": 13,
     "metadata": {},
     "output_type": "execute_result"
    }
   ],
   "source": [
    "schd_vp_df.loc[schd_vp_df.schedule_gtfs_dataset_key.isin(no_org_name_gtfs)]"
   ]
  },
  {
   "cell_type": "code",
   "execution_count": 16,
   "id": "c3a64782-55f4-4432-a72a-fd322ac6b1bd",
   "metadata": {
    "tags": []
   },
   "outputs": [
    {
     "data": {
      "text/html": [
       "<div>\n",
       "<style scoped>\n",
       "    .dataframe tbody tr th:only-of-type {\n",
       "        vertical-align: middle;\n",
       "    }\n",
       "\n",
       "    .dataframe tbody tr th {\n",
       "        vertical-align: top;\n",
       "    }\n",
       "\n",
       "    .dataframe thead th {\n",
       "        text-align: right;\n",
       "    }\n",
       "</style>\n",
       "<table border=\"1\" class=\"dataframe\">\n",
       "  <thead>\n",
       "    <tr style=\"text-align: right;\">\n",
       "      <th></th>\n",
       "      <th>schedule_gtfs_dataset_key</th>\n",
       "      <th>organization_name</th>\n",
       "      <th>name</th>\n",
       "      <th>sched_rt_category</th>\n",
       "    </tr>\n",
       "  </thead>\n",
       "  <tbody>\n",
       "    <tr>\n",
       "      <th>24</th>\n",
       "      <td>ebc783bace70899492d6206c352547d6</td>\n",
       "      <td>City of Banning</td>\n",
       "      <td>Banning Pass Schedule</td>\n",
       "      <td>schedule_and_vp</td>\n",
       "    </tr>\n",
       "  </tbody>\n",
       "</table>\n",
       "</div>"
      ],
      "text/plain": [
       "           schedule_gtfs_dataset_key organization_name                   name  \\\n",
       "24  ebc783bace70899492d6206c352547d6   City of Banning  Banning Pass Schedule   \n",
       "\n",
       "   sched_rt_category  \n",
       "24   schedule_and_vp  "
      ]
     },
     "execution_count": 16,
     "metadata": {},
     "output_type": "execute_result"
    }
   ],
   "source": [
    "schd_vp_df.loc[schd_vp_df.organization_name.str.contains(\"Banning\")]"
   ]
  },
  {
   "cell_type": "code",
   "execution_count": 17,
   "id": "5023668e-5191-467b-b514-b7e46aaef05f",
   "metadata": {
    "tags": []
   },
   "outputs": [
    {
     "data": {
      "text/html": [
       "<div>\n",
       "<style scoped>\n",
       "    .dataframe tbody tr th:only-of-type {\n",
       "        vertical-align: middle;\n",
       "    }\n",
       "\n",
       "    .dataframe tbody tr th {\n",
       "        vertical-align: top;\n",
       "    }\n",
       "\n",
       "    .dataframe thead th {\n",
       "        text-align: right;\n",
       "    }\n",
       "</style>\n",
       "<table border=\"1\" class=\"dataframe\">\n",
       "  <thead>\n",
       "    <tr style=\"text-align: right;\">\n",
       "      <th></th>\n",
       "      <th>schedule_gtfs_dataset_key</th>\n",
       "      <th>organization_name</th>\n",
       "      <th>name</th>\n",
       "      <th>sched_rt_category</th>\n",
       "    </tr>\n",
       "  </thead>\n",
       "  <tbody>\n",
       "    <tr>\n",
       "      <th>112</th>\n",
       "      <td>12a04922f8e3a4622fbefc232ff191b0</td>\n",
       "      <td>Emeryville Transportation Management Agency</td>\n",
       "      <td>Bay Area 511 Emery Go-Round Schedule</td>\n",
       "      <td>schedule_and_vp</td>\n",
       "    </tr>\n",
       "  </tbody>\n",
       "</table>\n",
       "</div>"
      ],
      "text/plain": [
       "            schedule_gtfs_dataset_key  \\\n",
       "112  12a04922f8e3a4622fbefc232ff191b0   \n",
       "\n",
       "                               organization_name  \\\n",
       "112  Emeryville Transportation Management Agency   \n",
       "\n",
       "                                     name sched_rt_category  \n",
       "112  Bay Area 511 Emery Go-Round Schedule   schedule_and_vp  "
      ]
     },
     "execution_count": 17,
     "metadata": {},
     "output_type": "execute_result"
    }
   ],
   "source": [
    "schd_vp_df.loc[schd_vp_df.organization_name.str.contains(\"Emery\")]"
   ]
  },
  {
   "cell_type": "markdown",
   "id": "514bb29c-3561-4475-971c-b1ee5ef09717",
   "metadata": {},
   "source": [
    "## YML 2: Illustrating 1:1, m:1, m:m `schedule_gtfs_dataset_key` to `organization_name`"
   ]
  },
  {
   "cell_type": "code",
   "execution_count": 28,
   "id": "d272b2a4-08a8-4999-9d4f-e4862163d15c",
   "metadata": {
    "tags": []
   },
   "outputs": [],
   "source": [
    "def df_to_yaml(\n",
    "    df: pd.DataFrame, nest1_column: str, nest2_column: str, SITE_YML: str, title: str\n",
    "):\n",
    "    \"\"\"\n",
    "    Dump Pandas Dataframe to a YAML.\n",
    "\n",
    "    Parameters:\n",
    "    df (pd.DataFrame): DataFrame with 'sched_rt_category' and 'organization_name' columns.\n",
    "    title (str): Title to be added at the top of the YAML file.\n",
    "\n",
    "    Returns:\n",
    "    yaml_str (str): YAML string representation of the input DataFrame.\n",
    "    \"\"\"\n",
    "    # Initialize an empty dictionary to store the result\n",
    "    result = {}\n",
    "\n",
    "    # Iterate over unique  values in nest1_column\n",
    "    for category in df[nest1_column].unique():\n",
    "        # Filter the DataFrame for the current category\n",
    "        category_df = df[df[nest1_column] == category]\n",
    "\n",
    "        # Create a list of unique values in nest2_column for the current category\n",
    "        organization_names = category_df[nest2_column].tolist()\n",
    "\n",
    "        # Add the category and organization names to the result dictionary\n",
    "        result[category] = organization_names\n",
    "\n",
    "    # Save to YML\n",
    "    with open(SITE_YML, \"w\") as f:\n",
    "        f.write(f\"# {title}\\n\\n\")\n",
    "        output = yaml.dump(result, default_flow_style=False)\n",
    "        f.write(output)\n",
    "    print(\"Saved to yml\")"
   ]
  },
  {
   "cell_type": "code",
   "execution_count": 19,
   "id": "08f70328-6554-43c9-80c9-fba7cebde9bf",
   "metadata": {
    "tags": []
   },
   "outputs": [],
   "source": [
    "def count_orgs(df: pd.DataFrame, groupby_col: str, nunique_col: str) -> list:\n",
    "    \"\"\"\n",
    "    Count the number of unique values the nunique_col\n",
    "    to the groupby_col. Filter out any\n",
    "    groupby_col with less than 2 unique\n",
    "    values in nunique_col. Return these groupby_col values\n",
    "    in a list.\n",
    "    \"\"\"\n",
    "    agg1 = df.groupby([groupby_col]).agg({nunique_col: \"nunique\"}).reset_index()\n",
    "\n",
    "    # Filter out rows with more than 1 organization_name\n",
    "    agg1 = agg1.loc[agg1[nunique_col] > 1].reset_index(drop=True)\n",
    "\n",
    "    # Grab groupby_col into a list\n",
    "    multi_org_list = list(agg1[groupby_col].unique())\n",
    "    return multi_org_list"
   ]
  },
  {
   "cell_type": "code",
   "execution_count": 26,
   "id": "0ab0d49c-7618-4e4a-91c2-6459847e3e4c",
   "metadata": {
    "tags": []
   },
   "outputs": [],
   "source": [
    "def generate_key_org_ymls(df: pd.DataFrame):\n",
    "    \"\"\"\n",
    "    Generate the ymls that display the relationship\n",
    "    between schedule_gtfs_dataset_key to organization_name\n",
    "    values.\n",
    "    \"\"\"\n",
    "    # One `organization_name` to many `schedule_gtfs_dataset_key`\n",
    "    one_org_m_keys_list = count_orgs(\n",
    "        df, \"organization_name\", \"schedule_gtfs_dataset_key\"\n",
    "    )\n",
    "    # Filter\n",
    "    one_org_m_keys_df = df.loc[df.organization_name.isin(one_org_m_keys_list)].drop(\n",
    "        columns=[\"sched_rt_category\"]\n",
    "    )\n",
    "\n",
    "    # One `schedule_gtfs_dataset_key` to many `organization_name`\n",
    "    one_key_many_orgs_list = count_orgs(\n",
    "        df,\n",
    "        \"schedule_gtfs_dataset_key\",\n",
    "        \"organization_name\",\n",
    "    )\n",
    "\n",
    "    # Filter\n",
    "    one_key_many_orgs_df = df.loc[\n",
    "        df.schedule_gtfs_dataset_key.isin(one_key_many_orgs_list)\n",
    "    ]\n",
    "\n",
    "    # Merge them back together. This way we can find the many schedule_gtfs_dataset_key\n",
    "    # to many organization_name values.\n",
    "    m1 = pd.merge(\n",
    "        one_org_m_keys_df,\n",
    "        one_key_many_orgs_df,\n",
    "        on=[\"schedule_gtfs_dataset_key\", \"organization_name\", \"name\"],\n",
    "        how=\"outer\",\n",
    "        indicator=True,\n",
    "    )\n",
    "\n",
    "    indicator_values = {\n",
    "        \"left_only\": \"1 organization_name:m schedule_gtfs_dataset_key\",\n",
    "        \"right_only\": \"1 schedule_gtfs_dataset_key: m organization_name\",\n",
    "        \"both\": \"m organization_name: m schedule_gtfs_datset_key\",\n",
    "    }\n",
    "    m1._merge = m1._merge.map(indicator_values)\n",
    "\n",
    "    # Re filter and save out to YML for each combo\n",
    "    # One `organization_name` to many `schedule_gtfs_dataset_key`\n",
    "    one_key_many_orgs_df = m1.loc[\n",
    "        m1._merge == \"1 schedule_gtfs_dataset_key: m organization_name\"\n",
    "    ]\n",
    "\n",
    "    # Save to yml\n",
    "    df_to_yaml(\n",
    "        df=one_org_m_keys_df,\n",
    "        nest1_column=\"organization_name\",\n",
    "        nest2_column=\"name\",\n",
    "        SITE_YML=\"one_org_many_keys.yml\",\n",
    "        title=\"1 organization_name: m schedule_gtfs_dataset-key, all values below are encompassed under one organization_name\",\n",
    "    )\n",
    "\n",
    "    # One `organization_name` to many `schedule_gtfs_dataset_key`\n",
    "    one_org_m_keys_df = m1.loc[\n",
    "        m1._merge == \"1 organization_name:m schedule_gtfs_dataset_key\"\n",
    "    ]\n",
    "    # Save to yml\n",
    "    df_to_yaml(\n",
    "        df=one_key_many_orgs_df,\n",
    "        nest1_column=\"name\",\n",
    "        nest2_column=\"organization_name\",\n",
    "        SITE_YML=\"one_key_many_orgs.yml\",\n",
    "        title=\"1 schedule_gtfs_dataset_key:m organization_name, only the 1st value is displayed in the portfolio\",\n",
    "    )\n",
    "    # Many organization_name to many schedule_gtfs_datset_keys\"\n",
    "    m_org_m_keys_df = m1.loc[\n",
    "        m1._merge == \"m organization_name: m schedule_gtfs_datset_key\"\n",
    "    ]\n",
    "    # Save to yml\n",
    "    df_to_yaml(\n",
    "        df=m_org_m_keys_df,\n",
    "        nest1_column=\"organization_name\",\n",
    "        nest2_column=\"name\",\n",
    "        SITE_YML=\"many_keys_many_orgs.yml\",\n",
    "        title=\"m schedule_gtfs_dataset_key:m organization_name\",\n",
    "    )"
   ]
  },
  {
   "cell_type": "code",
   "execution_count": 29,
   "id": "2dc65b3a-4052-4834-b01f-6ccf0bd9e2a7",
   "metadata": {
    "tags": []
   },
   "outputs": [
    {
     "name": "stdout",
     "output_type": "stream",
     "text": [
      "Saved to yml\n",
      "Saved to yml\n",
      "Saved to yml\n"
     ]
    }
   ],
   "source": [
    "generate_key_org_ymls(schd_vp_df)"
   ]
  },
  {
   "cell_type": "markdown",
   "id": "04880a14-34cc-4cda-b6c2-e36b1d2fab9a",
   "metadata": {},
   "source": [
    "### One `organization_name` to many `schedule_gtfs_dataset_key`"
   ]
  },
  {
   "cell_type": "code",
   "execution_count": null,
   "id": "ddf32dd5-f3d3-4e9a-977d-a6127642816d",
   "metadata": {
    "tags": []
   },
   "outputs": [],
   "source": [
    "one_org_m_keys_list = count_orgs(\n",
    "    schd_vp_df,\n",
    "    \"organization_name\",\n",
    "    \"schedule_gtfs_dataset_key\",\n",
    ")"
   ]
  },
  {
   "cell_type": "code",
   "execution_count": null,
   "id": "76ccf72f-1188-4572-ac1e-7adadbe10ebc",
   "metadata": {
    "tags": []
   },
   "outputs": [],
   "source": [
    "# Filter\n",
    "one_org_m_keys_df = schd_vp_df.loc[\n",
    "    schd_vp_df.organization_name.isin(one_org_m_keys_list)\n",
    "].drop(columns=[\"sched_rt_category\"])"
   ]
  },
  {
   "cell_type": "code",
   "execution_count": null,
   "id": "499c8103-219a-4a54-8dfb-fdea086b0102",
   "metadata": {
    "scrolled": true,
    "tags": []
   },
   "outputs": [],
   "source": [
    "one_org_m_keys_df.sort_values(by=[\"organization_name\"])"
   ]
  },
  {
   "cell_type": "markdown",
   "id": "6443605e-5cff-406a-a589-5c560a4baf1e",
   "metadata": {},
   "source": [
    "### One `schedule_gtfs_dataset_key` to many `organization_name`"
   ]
  },
  {
   "cell_type": "code",
   "execution_count": null,
   "id": "17c89447-2323-4fe7-b41d-f1c193b35cb9",
   "metadata": {
    "tags": []
   },
   "outputs": [],
   "source": [
    "one_key_many_orgs_list = count_orgs(\n",
    "    schd_vp_df,\n",
    "    \"schedule_gtfs_dataset_key\",\n",
    "    \"organization_name\",\n",
    ")"
   ]
  },
  {
   "cell_type": "code",
   "execution_count": null,
   "id": "e6759ccb-f7ba-4e3e-944f-d8b8ef5b88ac",
   "metadata": {},
   "outputs": [],
   "source": [
    "# Filter\n",
    "one_key_many_orgs_df = schd_vp_df.loc[\n",
    "    schd_vp_df.schedule_gtfs_dataset_key.isin(one_key_many_orgs_list)\n",
    "]"
   ]
  },
  {
   "cell_type": "code",
   "execution_count": null,
   "id": "c2846228-9984-445c-9b62-298f9e058a78",
   "metadata": {
    "scrolled": true,
    "tags": []
   },
   "outputs": [],
   "source": [
    "schd_vp_df.loc[schd_vp_df.organization_name == \"Basin Transit\"]"
   ]
  },
  {
   "cell_type": "code",
   "execution_count": null,
   "id": "52573091-3adb-4eb6-bc4b-2cecdbeeef86",
   "metadata": {
    "tags": []
   },
   "outputs": [],
   "source": [
    "schd_vp_df.loc[\n",
    "    schd_vp_df.schedule_gtfs_dataset_key == \"1770249a5a2e770ca90628434d4934b1\"\n",
    "]"
   ]
  },
  {
   "cell_type": "code",
   "execution_count": null,
   "id": "8b257863-669f-4ba8-bea9-75435d1c5ea0",
   "metadata": {
    "tags": []
   },
   "outputs": [],
   "source": [
    "schd_vp_df.loc[schd_vp_df.organization_name == \"Palo Verde Valley Transit Agency\"]"
   ]
  },
  {
   "cell_type": "markdown",
   "id": "5c74f50f-b766-4c51-82a6-26f7310baf3c",
   "metadata": {},
   "source": [
    "### Tag"
   ]
  },
  {
   "cell_type": "code",
   "execution_count": null,
   "id": "5c968607-0038-41e3-a91c-672f77bc1a96",
   "metadata": {
    "tags": []
   },
   "outputs": [],
   "source": [
    "m1 = pd.merge(\n",
    "    one_org_m_keys_df,\n",
    "    one_key_many_orgs_df,\n",
    "    on=[\"schedule_gtfs_dataset_key\", \"organization_name\", \"name\"],\n",
    "    how=\"outer\",\n",
    "    indicator=True,\n",
    ")"
   ]
  },
  {
   "cell_type": "code",
   "execution_count": null,
   "id": "b84f857b-6b78-416e-a06e-4e100105634b",
   "metadata": {
    "scrolled": true,
    "tags": []
   },
   "outputs": [],
   "source": [
    "m1[[\"schedule_gtfs_dataset_key\", \"organization_name\", \"name\", \"_merge\"]].sort_values(\n",
    "    by=[\"_merge\"]\n",
    ")"
   ]
  },
  {
   "cell_type": "code",
   "execution_count": null,
   "id": "ebb14a8f-d091-4c16-9823-392166a8819e",
   "metadata": {
    "tags": []
   },
   "outputs": [],
   "source": [
    "indicator_values = {\n",
    "    \"left_only\": \"1 organization_name:m schedule_gtfs_dataset_key\",\n",
    "    \"right_only\": \"1 schedule_gtfs_dataset_key: m organization_name\",\n",
    "    \"both\": \"m organization_name: m schedule_gtfs_datset_key\",\n",
    "}"
   ]
  },
  {
   "cell_type": "code",
   "execution_count": null,
   "id": "33c2ae54-1220-4123-a957-72b45b431ad6",
   "metadata": {
    "tags": []
   },
   "outputs": [],
   "source": [
    "m1._merge = m1._merge.map(indicator_values)"
   ]
  },
  {
   "cell_type": "code",
   "execution_count": null,
   "id": "0fafc2c4-f0a9-458d-8951-6ba791df366a",
   "metadata": {
    "tags": []
   },
   "outputs": [],
   "source": [
    "m1._merge.value_counts()"
   ]
  },
  {
   "cell_type": "code",
   "execution_count": null,
   "id": "f1dd5f35-b696-4ef3-8547-7e6f84585d63",
   "metadata": {
    "tags": []
   },
   "outputs": [],
   "source": [
    "def df_to_yaml(\n",
    "    df: pd.DataFrame, nest1_column: str, nest2_column: str, SITE_YML: str, title: str\n",
    "):\n",
    "    \"\"\"\n",
    "    Dump Pandas Dataframe to a YAML.\n",
    "\n",
    "    Parameters:\n",
    "    df (pd.DataFrame): DataFrame with 'sched_rt_category' and 'organization_name' columns.\n",
    "    title (str): Title to be added at the top of the YAML file.\n",
    "\n",
    "    Returns:\n",
    "    yaml_str (str): YAML string representation of the input DataFrame.\n",
    "    \"\"\"\n",
    "    # Initialize an empty dictionary to store the result\n",
    "    result = {}\n",
    "\n",
    "    # Iterate over unique 'sched_rt_category' values\n",
    "    for category in df[nest1_column].unique():\n",
    "        # Filter the DataFrame for the current category\n",
    "        category_df = df[df[nest1_column] == category]\n",
    "\n",
    "        # Create a list of 'organization_name' values for the current category\n",
    "        organization_names = category_df[nest2_column].tolist()\n",
    "\n",
    "        # Add the category and organization names to the result dictionary\n",
    "        result[category] = organization_names\n",
    "\n",
    "    # Save to YML\n",
    "    with open(SITE_YML, \"w\") as f:\n",
    "        f.write(f\"# {title}\\n\\n\")\n",
    "        output = yaml.dump(result, default_flow_style=False)\n",
    "        f.write(output)\n",
    "    print(\"Saved to yml\")\n",
    "    return result"
   ]
  },
  {
   "cell_type": "code",
   "execution_count": null,
   "id": "7baa8a26-e504-4b12-9823-179f13a35fd1",
   "metadata": {
    "tags": []
   },
   "outputs": [],
   "source": [
    "test = df_to_yaml(\n",
    "    one_key_many_orgs_df,\n",
    "    \"name\",\n",
    "    \"organization_name\",\n",
    "    \"one_key_many_orgs.yml\",\n",
    "    \"1 schedule_gtfs_dataset_key:m organization_name, only 1st value is displayed in the portfolio\",\n",
    ")"
   ]
  },
  {
   "cell_type": "code",
   "execution_count": null,
   "id": "66c62e7b-8879-464a-94e9-a8d21eb312a3",
   "metadata": {
    "tags": []
   },
   "outputs": [],
   "source": [
    "test2 = df_to_yaml(\n",
    "    one_org_m_keys_df,\n",
    "    \"organization_name\",\n",
    "    \"name\",\n",
    "    \"one_org_many_keys.yml\",\n",
    "    \"1 organization_name: m _schedule_gtfs_dataset-key, all values below are encompassed in org_name\",\n",
    ")"
   ]
  },
  {
   "cell_type": "markdown",
   "id": "8dea2bf2-53d7-48ca-937b-de2e1874cf9a",
   "metadata": {
    "tags": []
   },
   "source": [
    "## YML 2: Which operators we exclude \n",
    "* Explain whether it's due to 1 schedule_gtfs_dataset_key:m organization_name or we prefer another name"
   ]
  },
  {
   "cell_type": "code",
   "execution_count": 30,
   "id": "e1a57bcd-7ab0-4371-a8db-e86e244c56ee",
   "metadata": {
    "tags": []
   },
   "outputs": [],
   "source": [
    "import deploy_portfolio_yaml"
   ]
  },
  {
   "cell_type": "code",
   "execution_count": 31,
   "id": "c9ebe2ee-7b6c-46cb-bba3-fa07be0f53d3",
   "metadata": {
    "tags": []
   },
   "outputs": [],
   "source": []
  },
  {
   "cell_type": "code",
   "execution_count": 35,
   "id": "13c32f13-ef53-4f71-b954-bec27808e83b",
   "metadata": {
    "tags": []
   },
   "outputs": [],
   "source": [
    "def generate_excluded_orgs_yml(df: pd.DataFrame):\n",
    "    \"\"\"\n",
    "    Generate YML for excluded operators and explain why\n",
    "    they aren't included.\n",
    "    \"\"\"\n",
    "    # Manual list of operators we exclude\n",
    "    operators_to_exclude = [\"City of Alameda\"]\n",
    "    \n",
    "    # Load in dataframe of organization_name values we display in our GTFS\n",
    "    # Digest operator grain portfolio \n",
    "    orgs_in_portfolio = deploy_portfolio_yaml.generate_operator_grain_yaml()\n",
    "    \n",
    "    # Merge\n",
    "    m1 = pd.merge(df, orgs_in_portfolio, how=\"outer\", indicator=True)\n",
    "    \n",
    "    # Any left only values are excluded organizations \n",
    "    excluded_orgs = m1.loc[m1._merge == \"left_only\"]\n",
    "    \n",
    "    # Map dictionary of excluded operators\n",
    "    excluded_orgs[\"reason_for_exclusion\"] = excluded_orgs[\"organization_name\"].map(\n",
    "        reason_for_exclusion\n",
    "    )\n",
    "    \n",
    "    # Subset\n",
    "    excluded_orgs = excluded_orgs[[\"organization_name\", \"reason_for_exclusion\"]]\n",
    "    \n",
    "    # Any organization without a manual value in the reason_for_exclusion dictionary\n",
    "    # is excluded because it has another organization_name values that came before it \n",
    "    excluded_orgs = excluded_orgs.fillna(\n",
    "        \"1 schedule_gtfs_dataset_key:m organization_name, only 1st organization_name by alphabetical order is displayed in the portfolio\"\n",
    "    )\n",
    "\n",
    "    # Generate YML\n",
    "    df_to_yaml(\n",
    "        df=excluded_orgs,\n",
    "        nest1_column=\"reason_for_exclusion\",\n",
    "        nest2_column=\"organization_name\",\n",
    "        SITE_YML=\"excluded_orgs.yml\",\n",
    "        title=\"organization_name values that are excluded from the GTFS Digest portfolio\",\n",
    "    )"
   ]
  },
  {
   "cell_type": "code",
   "execution_count": 36,
   "id": "06f7d533-92dd-4e9f-9f58-db6981e1fc91",
   "metadata": {
    "tags": []
   },
   "outputs": [
    {
     "name": "stdout",
     "output_type": "stream",
     "text": [
      "Saved to yml\n"
     ]
    },
    {
     "name": "stderr",
     "output_type": "stream",
     "text": [
      "/tmp/ipykernel_1153/2174016483.py:6: SettingWithCopyWarning: \n",
      "A value is trying to be set on a copy of a slice from a DataFrame.\n",
      "Try using .loc[row_indexer,col_indexer] = value instead\n",
      "\n",
      "See the caveats in the documentation: https://pandas.pydata.org/pandas-docs/stable/user_guide/indexing.html#returning-a-view-versus-a-copy\n",
      "  excluded_orgs[\"reason_for_exclusion\"] = excluded_orgs[\"organization_name\"].map(\n"
     ]
    }
   ],
   "source": [
    "generate_excluded_orgs_yml(schd_vp_df)"
   ]
  },
  {
   "cell_type": "markdown",
   "id": "7f3cb906-9fe0-4553-97fc-6825660b59d9",
   "metadata": {},
   "source": [
    "## YML 3: Operators who have RT, Schedule, or Both"
   ]
  },
  {
   "cell_type": "code",
   "execution_count": 37,
   "id": "d427f9d2-1d1c-4639-9671-5855a20ea8c4",
   "metadata": {
    "tags": []
   },
   "outputs": [],
   "source": [
    "def generate_org_gtfs_status_yml(df: pd.DataFrame):\n",
    "    # Subset\n",
    "    df2 = df[\n",
    "        [\n",
    "            \"sched_rt_category\",\n",
    "            \"organization_name\",\n",
    "        ]\n",
    "    ]\n",
    "    # Generate YML \n",
    "    df_to_yaml(\n",
    "        df2,\n",
    "        \"sched_rt_category\",\n",
    "        \"organization_name\",\n",
    "        \"org_gtfs_status.yml\",\n",
    "        \"Operators who have RT (vp_only), Schedule, or Both (schedule_and_vp)\",\n",
    "    )"
   ]
  },
  {
   "cell_type": "code",
   "execution_count": 38,
   "id": "a6cd75e1-e8af-4f43-b1b4-dd873e4dc24a",
   "metadata": {
    "tags": []
   },
   "outputs": [
    {
     "name": "stdout",
     "output_type": "stream",
     "text": [
      "Saved to yml\n"
     ]
    }
   ],
   "source": [
    "generate_org_gtfs_status_yml(schd_vp_df)"
   ]
  }
 ],
 "metadata": {
  "kernelspec": {
   "display_name": "Python 3 (ipykernel)",
   "language": "python",
   "name": "python3"
  },
  "language_info": {
   "codemirror_mode": {
    "name": "ipython",
    "version": 3
   },
   "file_extension": ".py",
   "mimetype": "text/x-python",
   "name": "python",
   "nbconvert_exporter": "python",
   "pygments_lexer": "ipython3",
   "version": "3.11.10"
  }
 },
 "nbformat": 4,
 "nbformat_minor": 5
}
