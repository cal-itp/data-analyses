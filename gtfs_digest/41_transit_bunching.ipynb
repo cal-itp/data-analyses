{
 "cells": [
  {
   "cell_type": "markdown",
   "id": "733e5c07-e894-48de-b92a-9cba10b7fc9a",
   "metadata": {},
   "source": [
    "## Transit Bunching \n",
    "* `cd data-analyses/rt_segment_speeds && pip install -r requirements.txt && cd ../_shared_utils && make setup_env && cd ../gtfs_digest`\n",
    "* [Issue](https://github.com/cal-itp/data-analyses/issues/1099)\n",
    "### 11/8\n",
    "* Figure out how to address City of Visalia: one of the buses that is scheduled to arrive earlier arrives later than another bus. \n",
    "* This leads to a negative time stamp and makes it appear like there is a lot of bunching per the Transit Matters approach.\n",
    "\n"
   ]
  },
  {
   "cell_type": "code",
   "execution_count": 1,
   "id": "60097cf1-857d-4c7f-9fc7-043a69ec1a61",
   "metadata": {},
   "outputs": [],
   "source": [
    "import datetime as dt\n",
    "\n",
    "import altair as alt\n",
    "import geopandas as gpd\n",
    "import merge_data\n",
    "import numpy as np\n",
    "import pandas as pd\n",
    "from segment_speed_utils import gtfs_schedule_wrangling, helpers, time_series_utils\n",
    "from shared_utils import catalog_utils, rt_dates, rt_utils\n",
    "from update_vars import GTFS_DATA_DICT, RT_SCHED_GCS, SCHED_GCS\n",
    "\n",
    "# https://github.com/cal-itp/data-analyses/blob/main/_shared_utils/shared_utils/gtfs_analytics_data.yml\n",
    "GTFS_DATA_DICT = catalog_utils.get_catalog(\"gtfs_analytics_data\")\n",
    "\n",
    "from segment_speed_utils.project_vars import (\n",
    "    COMPILED_CACHED_VIEWS,\n",
    "    GTFS_DATA_DICT,\n",
    "    PROJECT_CRS,\n",
    "    RT_SCHED_GCS,\n",
    "    SCHED_GCS,\n",
    "    SEGMENT_GCS,\n",
    ")"
   ]
  },
  {
   "cell_type": "code",
   "execution_count": 2,
   "id": "51a085f8-5981-4da7-904f-6348cf2e18b0",
   "metadata": {},
   "outputs": [],
   "source": [
    "pd.options.display.max_columns = 100\n",
    "pd.options.display.float_format = \"{:.2f}\".format\n",
    "pd.set_option(\"display.max_rows\", None)\n",
    "pd.set_option(\"display.max_colwidth\", None)"
   ]
  },
  {
   "cell_type": "code",
   "execution_count": 3,
   "id": "113bd786-8d4b-4153-939b-b419b4fa97ee",
   "metadata": {},
   "outputs": [],
   "source": [
    "may_date = \"2024-05-22\""
   ]
  },
  {
   "cell_type": "code",
   "execution_count": 4,
   "id": "44a80420-dbe8-4a2b-9c47-44b32bf28e00",
   "metadata": {},
   "outputs": [],
   "source": [
    "drop_for_preview = [\n",
    "    \"schedule_gtfs_dataset_key\",\n",
    "    \"trip_instance_key\",\n",
    "    \"shape_array_key\",\n",
    "    \"feed_key\",\n",
    "    \"trip_id\",\n",
    "]"
   ]
  },
  {
   "cell_type": "markdown",
   "id": "2be7e7cc-b6c5-4c87-b2d5-6cb8612e23ce",
   "metadata": {},
   "source": [
    "### Grab Routes"
   ]
  },
  {
   "cell_type": "code",
   "execution_count": 5,
   "id": "873bf893-40a2-4b64-84ba-68604c6df18b",
   "metadata": {},
   "outputs": [],
   "source": [
    "subset = [\n",
    "    \"schedule_gtfs_dataset_key\",\n",
    "    \"route_id\",\n",
    "    \"direction_id\",\n",
    "    \"route_primary_direction\",\n",
    "    \"service_date\",\n",
    "    \"frequency\",\n",
    "]"
   ]
  },
  {
   "cell_type": "code",
   "execution_count": 6,
   "id": "85ad8696-1b70-4996-8866-3cd2ad3d3738",
   "metadata": {},
   "outputs": [],
   "source": [
    "route_dir_columns = [\n",
    "    \"schedule_gtfs_dataset_key\",\n",
    "    \"route_id\",\n",
    "    \"direction_id\",\n",
    "    \"time_period\",\n",
    "    \"route_primary_direction\",\n",
    "    \"frequency\",\n",
    "    \"service_date\",\n",
    "]"
   ]
  },
  {
   "cell_type": "code",
   "execution_count": 7,
   "id": "9d07da3c-e347-4671-925b-e8f5bc31c0fd",
   "metadata": {},
   "outputs": [],
   "source": [
    "route_dir = merge_data.concatenate_schedule_by_route_direction([may_date])[\n",
    "    route_dir_columns\n",
    "]"
   ]
  },
  {
   "cell_type": "code",
   "execution_count": 8,
   "id": "260b6305-9e99-4870-82f7-5cae925d9a0d",
   "metadata": {},
   "outputs": [
    {
     "data": {
      "text/html": [
       "<div>\n",
       "<style scoped>\n",
       "    .dataframe tbody tr th:only-of-type {\n",
       "        vertical-align: middle;\n",
       "    }\n",
       "\n",
       "    .dataframe tbody tr th {\n",
       "        vertical-align: top;\n",
       "    }\n",
       "\n",
       "    .dataframe thead th {\n",
       "        text-align: right;\n",
       "    }\n",
       "</style>\n",
       "<table border=\"1\" class=\"dataframe\">\n",
       "  <thead>\n",
       "    <tr style=\"text-align: right;\">\n",
       "      <th></th>\n",
       "      <th>schedule_gtfs_dataset_key</th>\n",
       "      <th>route_id</th>\n",
       "      <th>direction_id</th>\n",
       "      <th>time_period</th>\n",
       "      <th>route_primary_direction</th>\n",
       "      <th>frequency</th>\n",
       "      <th>service_date</th>\n",
       "    </tr>\n",
       "  </thead>\n",
       "  <tbody>\n",
       "    <tr>\n",
       "      <th>0</th>\n",
       "      <td>015d67d5b75b5cf2b710bbadadfb75f5</td>\n",
       "      <td>17</td>\n",
       "      <td>0.00</td>\n",
       "      <td>all_day</td>\n",
       "      <td>Northbound</td>\n",
       "      <td>0.92</td>\n",
       "      <td>2024-05-22</td>\n",
       "    </tr>\n",
       "    <tr>\n",
       "      <th>1</th>\n",
       "      <td>015d67d5b75b5cf2b710bbadadfb75f5</td>\n",
       "      <td>17</td>\n",
       "      <td>0.00</td>\n",
       "      <td>offpeak</td>\n",
       "      <td>Northbound</td>\n",
       "      <td>0.62</td>\n",
       "      <td>2024-05-22</td>\n",
       "    </tr>\n",
       "    <tr>\n",
       "      <th>2</th>\n",
       "      <td>015d67d5b75b5cf2b710bbadadfb75f5</td>\n",
       "      <td>17</td>\n",
       "      <td>0.00</td>\n",
       "      <td>peak</td>\n",
       "      <td>Northbound</td>\n",
       "      <td>1.50</td>\n",
       "      <td>2024-05-22</td>\n",
       "    </tr>\n",
       "    <tr>\n",
       "      <th>3</th>\n",
       "      <td>015d67d5b75b5cf2b710bbadadfb75f5</td>\n",
       "      <td>17</td>\n",
       "      <td>1.00</td>\n",
       "      <td>all_day</td>\n",
       "      <td>Southbound</td>\n",
       "      <td>0.92</td>\n",
       "      <td>2024-05-22</td>\n",
       "    </tr>\n",
       "    <tr>\n",
       "      <th>4</th>\n",
       "      <td>015d67d5b75b5cf2b710bbadadfb75f5</td>\n",
       "      <td>17</td>\n",
       "      <td>1.00</td>\n",
       "      <td>offpeak</td>\n",
       "      <td>Southbound</td>\n",
       "      <td>0.69</td>\n",
       "      <td>2024-05-22</td>\n",
       "    </tr>\n",
       "  </tbody>\n",
       "</table>\n",
       "</div>"
      ],
      "text/plain": [
       "          schedule_gtfs_dataset_key route_id  direction_id time_period  \\\n",
       "0  015d67d5b75b5cf2b710bbadadfb75f5       17          0.00     all_day   \n",
       "1  015d67d5b75b5cf2b710bbadadfb75f5       17          0.00     offpeak   \n",
       "2  015d67d5b75b5cf2b710bbadadfb75f5       17          0.00        peak   \n",
       "3  015d67d5b75b5cf2b710bbadadfb75f5       17          1.00     all_day   \n",
       "4  015d67d5b75b5cf2b710bbadadfb75f5       17          1.00     offpeak   \n",
       "\n",
       "  route_primary_direction  frequency service_date  \n",
       "0              Northbound       0.92   2024-05-22  \n",
       "1              Northbound       0.62   2024-05-22  \n",
       "2              Northbound       1.50   2024-05-22  \n",
       "3              Southbound       0.92   2024-05-22  \n",
       "4              Southbound       0.69   2024-05-22  "
      ]
     },
     "execution_count": 8,
     "metadata": {},
     "output_type": "execute_result"
    }
   ],
   "source": [
    "route_dir.head()"
   ]
  },
  {
   "cell_type": "code",
   "execution_count": 9,
   "id": "e829f264-2a2f-4897-9a37-ab2226f7e9fd",
   "metadata": {},
   "outputs": [],
   "source": [
    "# Filter for only all_day\n",
    "route_dir = route_dir.loc[route_dir.time_period == \"peak\"].reset_index(drop=True)"
   ]
  },
  {
   "cell_type": "code",
   "execution_count": 10,
   "id": "7ff9dd1d-4832-47a9-bc1f-17f5605b3240",
   "metadata": {},
   "outputs": [
    {
     "data": {
      "text/plain": [
       "3238"
      ]
     },
     "execution_count": 10,
     "metadata": {},
     "output_type": "execute_result"
    }
   ],
   "source": [
    "len(route_dir)"
   ]
  },
  {
   "cell_type": "markdown",
   "id": "84741559-46a2-4a62-a6e2-8843771aea1f",
   "metadata": {},
   "source": [
    "#### Attach operators and districts"
   ]
  },
  {
   "cell_type": "code",
   "execution_count": 11,
   "id": "d35238bb-2418-466b-8814-96382abeb3eb",
   "metadata": {},
   "outputs": [],
   "source": [
    "# Grab Crosswalk\n",
    "CROSSWALK = GTFS_DATA_DICT.schedule_tables.gtfs_key_crosswalk"
   ]
  },
  {
   "cell_type": "code",
   "execution_count": 12,
   "id": "6272b8aa-0d76-4e18-bc76-66548f54c9a0",
   "metadata": {},
   "outputs": [],
   "source": [
    "crosswalk_cols = [\n",
    "    \"schedule_gtfs_dataset_key\",\n",
    "    \"organization_name\",\n",
    "    \"name\",\n",
    "    \"caltrans_district\",\n",
    "]"
   ]
  },
  {
   "cell_type": "code",
   "execution_count": 13,
   "id": "d5d62df4-cffb-4bc8-9ad1-9766a8ec2bf1",
   "metadata": {},
   "outputs": [],
   "source": [
    "crosswalk_df = (\n",
    "    time_series_utils.concatenate_datasets_across_dates(\n",
    "        SCHED_GCS, CROSSWALK, [may_date], data_type=\"df\", columns=crosswalk_cols\n",
    "    )\n",
    "    .sort_values([\"service_date\"])\n",
    "    .reset_index(drop=True)\n",
    ")"
   ]
  },
  {
   "cell_type": "code",
   "execution_count": 14,
   "id": "4666bf1d-6456-49d6-955a-5ab77556af15",
   "metadata": {},
   "outputs": [
    {
     "data": {
      "text/html": [
       "<div>\n",
       "<style scoped>\n",
       "    .dataframe tbody tr th:only-of-type {\n",
       "        vertical-align: middle;\n",
       "    }\n",
       "\n",
       "    .dataframe tbody tr th {\n",
       "        vertical-align: top;\n",
       "    }\n",
       "\n",
       "    .dataframe thead th {\n",
       "        text-align: right;\n",
       "    }\n",
       "</style>\n",
       "<table border=\"1\" class=\"dataframe\">\n",
       "  <thead>\n",
       "    <tr style=\"text-align: right;\">\n",
       "      <th></th>\n",
       "      <th>schedule_gtfs_dataset_key</th>\n",
       "      <th>organization_name</th>\n",
       "      <th>name</th>\n",
       "      <th>caltrans_district</th>\n",
       "      <th>service_date</th>\n",
       "    </tr>\n",
       "  </thead>\n",
       "  <tbody>\n",
       "    <tr>\n",
       "      <th>0</th>\n",
       "      <td>1770249a5a2e770ca90628434d4934b1</td>\n",
       "      <td>Ventura County Transportation Commission</td>\n",
       "      <td>VCTC GMV Schedule</td>\n",
       "      <td>07 - Los Angeles</td>\n",
       "      <td>2024-05-22</td>\n",
       "    </tr>\n",
       "    <tr>\n",
       "      <th>1</th>\n",
       "      <td>f8102a9c0693206bf36d302540bf1bcf</td>\n",
       "      <td>City of Corona</td>\n",
       "      <td>Corona Schedule</td>\n",
       "      <td>08 - San Bernardino</td>\n",
       "      <td>2024-05-22</td>\n",
       "    </tr>\n",
       "  </tbody>\n",
       "</table>\n",
       "</div>"
      ],
      "text/plain": [
       "          schedule_gtfs_dataset_key                         organization_name  \\\n",
       "0  1770249a5a2e770ca90628434d4934b1  Ventura County Transportation Commission   \n",
       "1  f8102a9c0693206bf36d302540bf1bcf                            City of Corona   \n",
       "\n",
       "                name    caltrans_district service_date  \n",
       "0  VCTC GMV Schedule     07 - Los Angeles   2024-05-22  \n",
       "1    Corona Schedule  08 - San Bernardino   2024-05-22  "
      ]
     },
     "execution_count": 14,
     "metadata": {},
     "output_type": "execute_result"
    }
   ],
   "source": [
    "crosswalk_df.head(2)"
   ]
  },
  {
   "cell_type": "code",
   "execution_count": 15,
   "id": "661b3b18-5735-443d-acfc-4f598882a661",
   "metadata": {},
   "outputs": [
    {
     "data": {
      "text/plain": [
       "(189, 5)"
      ]
     },
     "execution_count": 15,
     "metadata": {},
     "output_type": "execute_result"
    }
   ],
   "source": [
    "crosswalk_df.shape"
   ]
  },
  {
   "cell_type": "code",
   "execution_count": 16,
   "id": "d9d562b4-7ce1-4ea5-bdba-e8e0abbc3815",
   "metadata": {},
   "outputs": [],
   "source": [
    "routes = pd.merge(\n",
    "    route_dir,\n",
    "    crosswalk_df,\n",
    "    on=[\"schedule_gtfs_dataset_key\", \"service_date\"],\n",
    "    how=\"left\",\n",
    ")"
   ]
  },
  {
   "cell_type": "code",
   "execution_count": 17,
   "id": "3e80b935-ecb4-44cd-9174-72c0d4568e14",
   "metadata": {},
   "outputs": [],
   "source": [
    "# routes = pd.concat([thousand_oaks, visalia, metro, metro_33])"
   ]
  },
  {
   "cell_type": "code",
   "execution_count": 18,
   "id": "d7cb67eb-ad87-428d-beb1-142faa1db125",
   "metadata": {},
   "outputs": [
    {
     "data": {
      "text/plain": [
       "4695"
      ]
     },
     "execution_count": 18,
     "metadata": {},
     "output_type": "execute_result"
    }
   ],
   "source": [
    "len(routes)"
   ]
  },
  {
   "cell_type": "markdown",
   "id": "9ca3a3e0-561f-4588-b71d-80abe692215a",
   "metadata": {},
   "source": [
    "### Add Trips"
   ]
  },
  {
   "cell_type": "code",
   "execution_count": 19,
   "id": "674f8ee6-3f6d-4f90-90ba-7ea9ee688b28",
   "metadata": {},
   "outputs": [],
   "source": [
    "TABLE = GTFS_DATA_DICT.schedule_downloads.trips"
   ]
  },
  {
   "cell_type": "code",
   "execution_count": 20,
   "id": "5333afa8-4849-4864-b253-b03a1093e84f",
   "metadata": {},
   "outputs": [],
   "source": [
    "FILE = f\"{COMPILED_CACHED_VIEWS}{TABLE}_{may_date}.parquet\""
   ]
  },
  {
   "cell_type": "code",
   "execution_count": 21,
   "id": "111e2c27-337d-4440-a1f6-10ec582a6f9e",
   "metadata": {},
   "outputs": [],
   "source": [
    "trips_subset = [\n",
    "    \"gtfs_dataset_key\",\n",
    "    \"route_id\",\n",
    "    \"trip_instance_key\",\n",
    "    \"shape_array_key\",\n",
    "    \"feed_key\",\n",
    "    \"route_long_name\",\n",
    "    \"direction_id\",\n",
    "    \"route_type\",\n",
    "]"
   ]
  },
  {
   "cell_type": "code",
   "execution_count": 22,
   "id": "e1aed68a-0ed2-4da4-904a-cb91681e7f38",
   "metadata": {},
   "outputs": [],
   "source": [
    "trips = pd.read_parquet(FILE)[trips_subset].rename(\n",
    "    columns={\"gtfs_dataset_key\": \"schedule_gtfs_dataset_key\"}\n",
    ")"
   ]
  },
  {
   "cell_type": "code",
   "execution_count": 23,
   "id": "04901f96-76d5-4d99-b3d1-f174ef989357",
   "metadata": {},
   "outputs": [],
   "source": [
    "trips_routes = pd.merge(\n",
    "    trips,\n",
    "    routes,\n",
    "    on=[\"schedule_gtfs_dataset_key\", \"route_id\", \"direction_id\"],\n",
    "    how=\"inner\",\n",
    ")"
   ]
  },
  {
   "cell_type": "code",
   "execution_count": 24,
   "id": "9c1ba23b-30df-4916-a522-eb70bd5afdb9",
   "metadata": {},
   "outputs": [
    {
     "data": {
      "text/plain": [
       "1303"
      ]
     },
     "execution_count": 24,
     "metadata": {},
     "output_type": "execute_result"
    }
   ],
   "source": [
    "trips_routes.route_id.nunique()"
   ]
  },
  {
   "cell_type": "markdown",
   "id": "3fe48162-5b42-4bf9-8853-a9d742e9d03b",
   "metadata": {},
   "source": [
    "#### Help - I know we can get this from the warehouse but it seems cumbersome. Correct me if I'm wrong."
   ]
  },
  {
   "cell_type": "code",
   "execution_count": 25,
   "id": "d9688e03-4b61-4736-b9d5-3539b0de80b2",
   "metadata": {},
   "outputs": [],
   "source": [
    "# https://gtfs.org/documentation/schedule/reference/#\n",
    "route_type_crosswalk = {\n",
    "    \"route_type\": [\"0\", \"1\", \"2\", \"3\", \"4\", \"5\", \"6\", \"7\", \"11\", \"12\"],\n",
    "    \"route_type_str\": [\n",
    "        \"Tram, Streetcar, Light rail\",\n",
    "        \"Subway, Metro\",\n",
    "        \"Rail\",\n",
    "        \"Bus\",\n",
    "        \"Ferry.\",\n",
    "        \"Cable tram.\",\n",
    "        \"Aerial lift, suspended cable car (e.g., gondola lift, aerial tramway).\",\n",
    "        \"Funicular.\",\n",
    "        \"Trolleybus.\",\n",
    "        \"Monorail.\",\n",
    "    ],\n",
    "}"
   ]
  },
  {
   "cell_type": "code",
   "execution_count": 26,
   "id": "8dac05a6-0ba9-472b-85a2-5a0081550efb",
   "metadata": {},
   "outputs": [],
   "source": [
    "route_type_crosswalk_df = pd.DataFrame(route_type_crosswalk)"
   ]
  },
  {
   "cell_type": "code",
   "execution_count": 27,
   "id": "cd13aa3e-f222-49f8-b923-1e9e901f7bfb",
   "metadata": {},
   "outputs": [],
   "source": [
    "# Merge for route_type\n",
    "trips_routes = pd.merge(\n",
    "    trips_routes, route_type_crosswalk_df, on=[\"route_type\"], how=\"left\"\n",
    ")"
   ]
  },
  {
   "cell_type": "code",
   "execution_count": 28,
   "id": "ae72b7fc-ec7b-4dcd-8553-ac2abce5da1d",
   "metadata": {},
   "outputs": [],
   "source": [
    "trips_routes = trips_routes.drop(columns=[\"route_type\"])"
   ]
  },
  {
   "cell_type": "code",
   "execution_count": 29,
   "id": "cd31791a-fcb7-4731-90d7-bf5606dd4ce3",
   "metadata": {},
   "outputs": [],
   "source": [
    "trips_routes = trips_routes.rename(columns={\"route_type_str\": \"route_type\"})"
   ]
  },
  {
   "cell_type": "code",
   "execution_count": 30,
   "id": "0922c60c-c46c-4240-bce2-7be30034c2f8",
   "metadata": {},
   "outputs": [
    {
     "data": {
      "text/html": [
       "<div>\n",
       "<style scoped>\n",
       "    .dataframe tbody tr th:only-of-type {\n",
       "        vertical-align: middle;\n",
       "    }\n",
       "\n",
       "    .dataframe tbody tr th {\n",
       "        vertical-align: top;\n",
       "    }\n",
       "\n",
       "    .dataframe thead th {\n",
       "        text-align: right;\n",
       "    }\n",
       "</style>\n",
       "<table border=\"1\" class=\"dataframe\">\n",
       "  <thead>\n",
       "    <tr style=\"text-align: right;\">\n",
       "      <th></th>\n",
       "      <th>schedule_gtfs_dataset_key</th>\n",
       "      <th>route_id</th>\n",
       "      <th>trip_instance_key</th>\n",
       "      <th>shape_array_key</th>\n",
       "      <th>feed_key</th>\n",
       "      <th>route_long_name</th>\n",
       "      <th>direction_id</th>\n",
       "      <th>time_period</th>\n",
       "      <th>route_primary_direction</th>\n",
       "      <th>frequency</th>\n",
       "      <th>service_date</th>\n",
       "      <th>organization_name</th>\n",
       "      <th>name</th>\n",
       "      <th>caltrans_district</th>\n",
       "      <th>route_type</th>\n",
       "    </tr>\n",
       "  </thead>\n",
       "  <tbody>\n",
       "    <tr>\n",
       "      <th>0</th>\n",
       "      <td>1770249a5a2e770ca90628434d4934b1</td>\n",
       "      <td>3408</td>\n",
       "      <td>c256553e28c4bba693e3136240b35419</td>\n",
       "      <td>8f644f847e987de68e0cb6fcd339cf41</td>\n",
       "      <td>926867fdee73d5fbfe4f011871bcd830</td>\n",
       "      <td>Route 21</td>\n",
       "      <td>0.00</td>\n",
       "      <td>peak</td>\n",
       "      <td>Westbound</td>\n",
       "      <td>1.88</td>\n",
       "      <td>2024-05-22</td>\n",
       "      <td>Ventura County Transportation Commission</td>\n",
       "      <td>VCTC GMV Schedule</td>\n",
       "      <td>07 - Los Angeles</td>\n",
       "      <td>Bus</td>\n",
       "    </tr>\n",
       "  </tbody>\n",
       "</table>\n",
       "</div>"
      ],
      "text/plain": [
       "          schedule_gtfs_dataset_key route_id  \\\n",
       "0  1770249a5a2e770ca90628434d4934b1     3408   \n",
       "\n",
       "                  trip_instance_key                   shape_array_key  \\\n",
       "0  c256553e28c4bba693e3136240b35419  8f644f847e987de68e0cb6fcd339cf41   \n",
       "\n",
       "                           feed_key route_long_name  direction_id time_period  \\\n",
       "0  926867fdee73d5fbfe4f011871bcd830        Route 21          0.00        peak   \n",
       "\n",
       "  route_primary_direction  frequency service_date  \\\n",
       "0               Westbound       1.88   2024-05-22   \n",
       "\n",
       "                          organization_name               name  \\\n",
       "0  Ventura County Transportation Commission  VCTC GMV Schedule   \n",
       "\n",
       "  caltrans_district route_type  \n",
       "0  07 - Los Angeles        Bus  "
      ]
     },
     "execution_count": 30,
     "metadata": {},
     "output_type": "execute_result"
    }
   ],
   "source": [
    "trips_routes.head(1)"
   ]
  },
  {
   "cell_type": "markdown",
   "id": "e3be8778-84ff-479f-a3b2-178e374da5f2",
   "metadata": {},
   "source": [
    "### Get Stop Times "
   ]
  },
  {
   "cell_type": "code",
   "execution_count": 31,
   "id": "3f6727c6-205f-4cc8-8a68-42e8dec6e4b3",
   "metadata": {},
   "outputs": [],
   "source": [
    "rt_stop_times = pd.read_parquet(\n",
    "    \"gs://calitp-analytics-data/data-analyses/rt_vs_schedule/schedule_rt_stop_times_2024-05-22.parquet\"\n",
    ")"
   ]
  },
  {
   "cell_type": "code",
   "execution_count": 32,
   "id": "041731b3-0fcd-4b3e-8d01-f84460dd5fab",
   "metadata": {},
   "outputs": [
    {
     "data": {
      "text/html": [
       "<div>\n",
       "<style scoped>\n",
       "    .dataframe tbody tr th:only-of-type {\n",
       "        vertical-align: middle;\n",
       "    }\n",
       "\n",
       "    .dataframe tbody tr th {\n",
       "        vertical-align: top;\n",
       "    }\n",
       "\n",
       "    .dataframe thead th {\n",
       "        text-align: right;\n",
       "    }\n",
       "</style>\n",
       "<table border=\"1\" class=\"dataframe\">\n",
       "  <thead>\n",
       "    <tr style=\"text-align: right;\">\n",
       "      <th></th>\n",
       "      <th>trip_id</th>\n",
       "      <th>stop_id</th>\n",
       "      <th>stop_sequence</th>\n",
       "      <th>scheduled_arrival_sec</th>\n",
       "      <th>schedule_gtfs_dataset_key</th>\n",
       "      <th>trip_instance_key</th>\n",
       "      <th>rt_arrival_sec</th>\n",
       "    </tr>\n",
       "  </thead>\n",
       "  <tbody>\n",
       "    <tr>\n",
       "      <th>0</th>\n",
       "      <td>1d105244-776c-4b3f-af78-9c7ad78c2103</td>\n",
       "      <td>0b2443b6-b50f-452b-a749-464588ca93b8</td>\n",
       "      <td>8</td>\n",
       "      <td>60991.00</td>\n",
       "      <td>1fd2f07342d966919b15d5d37fda8cc8</td>\n",
       "      <td>45ae17540ca9fb5030c84dbb12e48e9a</td>\n",
       "      <td>61434</td>\n",
       "    </tr>\n",
       "    <tr>\n",
       "      <th>1</th>\n",
       "      <td>1d105244-776c-4b3f-af78-9c7ad78c2103</td>\n",
       "      <td>cd5650b0-9a18-4e78-aedc-385f3094fa0f</td>\n",
       "      <td>9</td>\n",
       "      <td>61179.00</td>\n",
       "      <td>1fd2f07342d966919b15d5d37fda8cc8</td>\n",
       "      <td>45ae17540ca9fb5030c84dbb12e48e9a</td>\n",
       "      <td>61616</td>\n",
       "    </tr>\n",
       "  </tbody>\n",
       "</table>\n",
       "</div>"
      ],
      "text/plain": [
       "                                trip_id                               stop_id  \\\n",
       "0  1d105244-776c-4b3f-af78-9c7ad78c2103  0b2443b6-b50f-452b-a749-464588ca93b8   \n",
       "1  1d105244-776c-4b3f-af78-9c7ad78c2103  cd5650b0-9a18-4e78-aedc-385f3094fa0f   \n",
       "\n",
       "   stop_sequence  scheduled_arrival_sec         schedule_gtfs_dataset_key  \\\n",
       "0              8               60991.00  1fd2f07342d966919b15d5d37fda8cc8   \n",
       "1              9               61179.00  1fd2f07342d966919b15d5d37fda8cc8   \n",
       "\n",
       "                  trip_instance_key  rt_arrival_sec  \n",
       "0  45ae17540ca9fb5030c84dbb12e48e9a           61434  \n",
       "1  45ae17540ca9fb5030c84dbb12e48e9a           61616  "
      ]
     },
     "execution_count": 32,
     "metadata": {},
     "output_type": "execute_result"
    }
   ],
   "source": [
    "rt_stop_times.head(2)"
   ]
  },
  {
   "cell_type": "code",
   "execution_count": 33,
   "id": "2633ffab-5c8d-479f-805a-3994d0231c38",
   "metadata": {},
   "outputs": [
    {
     "data": {
      "text/plain": [
       "(2601262, 7)"
      ]
     },
     "execution_count": 33,
     "metadata": {},
     "output_type": "execute_result"
    }
   ],
   "source": [
    "rt_stop_times.shape"
   ]
  },
  {
   "cell_type": "code",
   "execution_count": 34,
   "id": "2a4d855d-d459-47ab-bf5a-047c0263daae",
   "metadata": {},
   "outputs": [
    {
     "data": {
      "text/plain": [
       "2601262"
      ]
     },
     "execution_count": 34,
     "metadata": {},
     "output_type": "execute_result"
    }
   ],
   "source": [
    "len(rt_stop_times.drop_duplicates())"
   ]
  },
  {
   "cell_type": "code",
   "execution_count": 35,
   "id": "049a2833-f132-431a-8f44-92f31cd11d8a",
   "metadata": {},
   "outputs": [],
   "source": [
    "trips_routes_times = pd.merge(\n",
    "    rt_stop_times,\n",
    "    trips_routes,\n",
    "    on=[\n",
    "        \"schedule_gtfs_dataset_key\",\n",
    "        \"trip_instance_key\",\n",
    "    ],\n",
    "    how=\"inner\",\n",
    ")"
   ]
  },
  {
   "cell_type": "code",
   "execution_count": 36,
   "id": "7c59d770-d379-422e-a23d-9140c23df375",
   "metadata": {},
   "outputs": [
    {
     "data": {
      "text/plain": [
       "15029"
      ]
     },
     "execution_count": 36,
     "metadata": {},
     "output_type": "execute_result"
    }
   ],
   "source": [
    "(trips_routes_times.scheduled_arrival_sec.isna().sum())"
   ]
  },
  {
   "cell_type": "markdown",
   "id": "758610f3-8e65-4ad7-b46c-cbcce348bc7f",
   "metadata": {},
   "source": [
    "#### Lots of duplicates??"
   ]
  },
  {
   "cell_type": "code",
   "execution_count": 37,
   "id": "5713f8ff-2d01-4cb7-a7c3-2af8d09ccaed",
   "metadata": {},
   "outputs": [
    {
     "data": {
      "text/plain": [
       "3672925"
      ]
     },
     "execution_count": 37,
     "metadata": {},
     "output_type": "execute_result"
    }
   ],
   "source": [
    "len(trips_routes_times)"
   ]
  },
  {
   "cell_type": "code",
   "execution_count": 38,
   "id": "bcdba7a6-569e-4a3c-9fb1-d98434dfeba8",
   "metadata": {},
   "outputs": [
    {
     "data": {
      "text/plain": [
       "3061772"
      ]
     },
     "execution_count": 38,
     "metadata": {},
     "output_type": "execute_result"
    }
   ],
   "source": [
    "len(trips_routes_times.drop_duplicates())"
   ]
  },
  {
   "cell_type": "code",
   "execution_count": 39,
   "id": "fdd38b5b-a8ab-4959-9ace-c4bdfd32bd8a",
   "metadata": {},
   "outputs": [],
   "source": [
    "trips_routes_times2 = trips_routes_times.drop_duplicates().reset_index(drop=True)"
   ]
  },
  {
   "cell_type": "markdown",
   "id": "2d09574e-464e-4f31-8f53-0596911dcabe",
   "metadata": {},
   "source": [
    "### Question: How Granular?\n",
    "* San Diego example."
   ]
  },
  {
   "cell_type": "code",
   "execution_count": 42,
   "id": "fa4001cf-6763-42cf-b726-e3ca57915615",
   "metadata": {},
   "outputs": [],
   "source": [
    "subset = [\n",
    "    \"service_date\",\n",
    "    \"caltrans_district\",\n",
    "    \"schedule_gtfs_dataset_key\",\n",
    "    \"feed_key\",\n",
    "    \"organization_name\",\n",
    "    \"route_long_name\",\n",
    "    \"route_type\",\n",
    "    \"route_id\",\n",
    "    \"direction_id\",\n",
    "    \"stop_id\",\n",
    "    \"stop_sequence\",\n",
    "    \"trip_instance_key\",\n",
    "    \"rt_arrival_sec\",\n",
    "    \"scheduled_arrival_sec\",\n",
    "    \n",
    "]"
   ]
  },
  {
   "cell_type": "code",
   "execution_count": 43,
   "id": "2cb2194a-91f5-43af-a534-68caf01e9dca",
   "metadata": {},
   "outputs": [],
   "source": [
    "trips_routes_times3 = trips_routes_times2[subset]"
   ]
  },
  {
   "cell_type": "code",
   "execution_count": 44,
   "id": "0ef36e93-79ed-4f86-b16a-9d28d90aea1a",
   "metadata": {},
   "outputs": [],
   "source": [
    "trips_routes_times4 = trips_routes_times3.sort_values(\n",
    "    by=[\n",
    "        \"schedule_gtfs_dataset_key\",\n",
    "        \"route_id\",\n",
    "        \"direction_id\",\n",
    "        \"stop_id\",\n",
    "        \"stop_sequence\",\n",
    "        \"rt_arrival_sec\",\n",
    "    ],\n",
    "    ascending=[True, True, True, True, True, True],\n",
    ").reset_index(drop=True)"
   ]
  },
  {
   "cell_type": "markdown",
   "id": "947d0858-c6bc-4b56-932e-e42b346ed632",
   "metadata": {},
   "source": [
    "#### STC: Switches `shape_array_key` often."
   ]
  },
  {
   "cell_type": "code",
   "execution_count": 46,
   "id": "e17fd679-3455-4b11-bf80-0aebcb79d7f6",
   "metadata": {
    "scrolled": true,
    "tags": []
   },
   "outputs": [],
   "source": [
    "stc_test = trips_routes_times4.loc[\n",
    "    (\n",
    "        trips_routes_times4.schedule_gtfs_dataset_key\n",
    "        == \"fb467982dcc77a7f9199bebe709bb700\"\n",
    "    )\n",
    "    & (trips_routes_times4.route_id == \"BlueN\")\n",
    "    & (trips_routes_times4.direction_id == 0)\n",
    "]"
   ]
  },
  {
   "cell_type": "code",
   "execution_count": 51,
   "id": "6efaed93-7b57-4d35-9e6d-45d2608227db",
   "metadata": {
    "scrolled": true,
    "tags": []
   },
   "outputs": [],
   "source": [
    "# stc_test"
   ]
  },
  {
   "cell_type": "code",
   "execution_count": 48,
   "id": "d5f93877-f2bf-49d1-8847-ba7a882a5dd5",
   "metadata": {
    "scrolled": true,
    "tags": []
   },
   "outputs": [],
   "source": [
    "stc_test2 = trips_routes_times4.loc[\n",
    "    (\n",
    "        trips_routes_times4.schedule_gtfs_dataset_key\n",
    "        == \"fb467982dcc77a7f9199bebe709bb700\"\n",
    "    )\n",
    "    & (trips_routes_times4.route_id == \"BlueN\")\n",
    "]"
   ]
  },
  {
   "cell_type": "code",
   "execution_count": 50,
   "id": "c349c03f-638c-4e4a-835e-762feb2e9604",
   "metadata": {
    "scrolled": true,
    "tags": []
   },
   "outputs": [],
   "source": [
    "# stc_test2"
   ]
  },
  {
   "cell_type": "markdown",
   "id": "4093b18e-1787-4b3c-b6c0-0dd39270cb3a",
   "metadata": {},
   "source": [
    "####  San Diego Route\n",
    "* Why is the `stop_id` and `stop_sequence` flip flopping?"
   ]
  },
  {
   "cell_type": "code",
   "execution_count": 52,
   "id": "ae20a1fc-a011-49ad-ac0d-11d2277e831c",
   "metadata": {},
   "outputs": [],
   "source": [
    "sd_test3 = trips_routes_times4.loc[\n",
    "    (trips_routes_times4.organization_name == \"San Diego Metropolitan Transit System\")\n",
    "    & (trips_routes_times4.route_id == \"834\")\n",
    "    & (trips_routes_times4.direction_id == 0)\n",
    "]"
   ]
  },
  {
   "cell_type": "code",
   "execution_count": 54,
   "id": "c5ab9fc9-ee76-4b1f-8d49-28d85d4b0850",
   "metadata": {},
   "outputs": [
    {
     "data": {
      "text/plain": [
       "1"
      ]
     },
     "execution_count": 54,
     "metadata": {},
     "output_type": "execute_result"
    }
   ],
   "source": [
    "sd_test3.direction_id.nunique()"
   ]
  },
  {
   "cell_type": "code",
   "execution_count": 55,
   "id": "aa3c07b0-1b88-45ba-abf5-051580d23445",
   "metadata": {},
   "outputs": [
    {
     "data": {
      "text/plain": [
       "20"
      ]
     },
     "execution_count": 55,
     "metadata": {},
     "output_type": "execute_result"
    }
   ],
   "source": [
    "sd_test3.stop_id.nunique()"
   ]
  },
  {
   "cell_type": "code",
   "execution_count": 56,
   "id": "484aec5b-cc3a-4d9d-b7cd-c2c53767f773",
   "metadata": {},
   "outputs": [
    {
     "data": {
      "text/plain": [
       "(62, 14)"
      ]
     },
     "execution_count": 56,
     "metadata": {},
     "output_type": "execute_result"
    }
   ],
   "source": [
    "sd_test3.shape"
   ]
  },
  {
   "cell_type": "code",
   "execution_count": 58,
   "id": "655742dd-8dc2-40cd-90bd-ed2e305580d0",
   "metadata": {
    "scrolled": true,
    "tags": []
   },
   "outputs": [],
   "source": [
    "# sd_test3"
   ]
  },
  {
   "cell_type": "markdown",
   "id": "7594a62b-3696-4a7b-bf49-8d5a876e7b86",
   "metadata": {
    "tags": []
   },
   "source": [
    "#### Other Tests"
   ]
  },
  {
   "cell_type": "code",
   "execution_count": 60,
   "id": "b0bbe80c-75bf-4d3e-b5e7-891791114291",
   "metadata": {
    "scrolled": true,
    "tags": []
   },
   "outputs": [],
   "source": [
    "la_test = trips_routes_times4.loc[\n",
    "    (\n",
    "        trips_routes_times4.schedule_gtfs_dataset_key\n",
    "        == \"0666caf3ec1ecc96b74f4477ee4bc939\"\n",
    "    )\n",
    "    & (trips_routes_times4.route_id == \"204-13172\")\n",
    "    & (trips_routes_times4.direction_id == 1)\n",
    "]"
   ]
  },
  {
   "cell_type": "code",
   "execution_count": 61,
   "id": "d02fe92d-b247-485d-97b2-437252368d94",
   "metadata": {},
   "outputs": [],
   "source": [
    "sf_test = trips_routes_times4.loc[\n",
    "    (\n",
    "        trips_routes_times4.schedule_gtfs_dataset_key\n",
    "        == \"7cc0cb1871dfd558f11a2885c145d144\"\n",
    "    )\n",
    "    & (trips_routes_times4.route_id == \"30\")\n",
    "    & (trips_routes_times4.direction_id == 1)\n",
    "]"
   ]
  },
  {
   "cell_type": "code",
   "execution_count": 63,
   "id": "94ef9a17-8243-4104-8166-0912c172408f",
   "metadata": {
    "scrolled": true,
    "tags": []
   },
   "outputs": [],
   "source": [
    "# la_test"
   ]
  },
  {
   "cell_type": "code",
   "execution_count": null,
   "id": "d3a6fb65-53ab-4de8-8c99-6fdbcc16d294",
   "metadata": {},
   "outputs": [],
   "source": [
    "sf_test.stop_sequence.nunique()"
   ]
  },
  {
   "cell_type": "code",
   "execution_count": null,
   "id": "50d16a87-c118-403b-9440-9cd48fa90ae0",
   "metadata": {
    "scrolled": true,
    "tags": []
   },
   "outputs": [],
   "source": [
    "sf_test.loc[sf_test.stop_id==\"18027\"]"
   ]
  },
  {
   "cell_type": "markdown",
   "id": "48737ec7-31be-4743-97ca-c6c000670a13",
   "metadata": {
    "tags": []
   },
   "source": [
    "### Convert scheduled and RT arrival times."
   ]
  },
  {
   "cell_type": "code",
   "execution_count": 64,
   "id": "d4e5a2df-a110-4347-9c6d-7f9bdfdbce1b",
   "metadata": {},
   "outputs": [
    {
     "data": {
      "text/plain": [
       "count   3061772.00\n",
       "mean      48136.63\n",
       "std       17699.97\n",
       "min           0.00\n",
       "25%       33491.00\n",
       "50%       48279.00\n",
       "75%       62288.00\n",
       "max       86399.00\n",
       "Name: rt_arrival_sec, dtype: float64"
      ]
     },
     "execution_count": 64,
     "metadata": {},
     "output_type": "execute_result"
    }
   ],
   "source": [
    "trips_routes_times3[\"rt_arrival_sec\"].describe()"
   ]
  },
  {
   "cell_type": "code",
   "execution_count": 65,
   "id": "efdee083-4c81-4350-9ff1-aa2f4362fd77",
   "metadata": {},
   "outputs": [
    {
     "data": {
      "text/plain": [
       "count   3046743.00\n",
       "mean      49237.71\n",
       "std       17716.63\n",
       "min         720.00\n",
       "25%       34149.00\n",
       "50%       49000.00\n",
       "75%       62878.00\n",
       "max      108431.00\n",
       "Name: scheduled_arrival_sec, dtype: float64"
      ]
     },
     "execution_count": 65,
     "metadata": {},
     "output_type": "execute_result"
    }
   ],
   "source": [
    "trips_routes_times3[\"scheduled_arrival_sec\"].describe()"
   ]
  },
  {
   "cell_type": "code",
   "execution_count": 66,
   "id": "0cfa7b3c-6959-4419-b5a4-3f8240a4d2b0",
   "metadata": {},
   "outputs": [
    {
     "data": {
      "text/plain": [
       "(43167, 14)"
      ]
     },
     "execution_count": 66,
     "metadata": {},
     "output_type": "execute_result"
    }
   ],
   "source": [
    "trips_routes_times3.loc[trips_routes_times3[\"scheduled_arrival_sec\"] >= 86_400].shape"
   ]
  },
  {
   "cell_type": "code",
   "execution_count": 67,
   "id": "3ce579d1-0392-41a6-b535-9f4422a78216",
   "metadata": {},
   "outputs": [],
   "source": [
    "trips_routes_times4[\"converted_rt_arrival\"] = pd.to_datetime(\n",
    "    trips_routes_times4[\"service_date\"]\n",
    ") + pd.to_timedelta(trips_routes_times4[\"rt_arrival_sec\"] % 86400, unit=\"s\")"
   ]
  },
  {
   "cell_type": "code",
   "execution_count": 68,
   "id": "1d3e4966-1f57-4117-9f73-506055a42d7b",
   "metadata": {},
   "outputs": [],
   "source": [
    "trips_routes_times4[\"converted_schd_arrival\"] = pd.to_datetime(\n",
    "    trips_routes_times4[\"service_date\"]\n",
    ") + pd.to_timedelta(trips_routes_times4[\"scheduled_arrival_sec\"] % 86400, unit=\"s\")"
   ]
  },
  {
   "cell_type": "markdown",
   "id": "31b10b40-73bd-4b02-92b7-bf0cacaf67b9",
   "metadata": {},
   "source": [
    "### Through delays (subtracting )`converted_rt_arrival` from `converted_schd_arrival` to fix  time stamps."
   ]
  },
  {
   "cell_type": "code",
   "execution_count": 69,
   "id": "003abe45-5d55-4839-80f8-83e693214427",
   "metadata": {},
   "outputs": [],
   "source": [
    "percentiles = [0.01, 0.02, 0.05, 0.1, 0.9, 0.95, 0.98, 0.99]"
   ]
  },
  {
   "cell_type": "code",
   "execution_count": 70,
   "id": "c2ab63be-be6b-4f2c-aaaf-b6733f433e10",
   "metadata": {},
   "outputs": [],
   "source": [
    "trips_routes_times4[\"delay_min\"] = (\n",
    "    trips_routes_times4[\"converted_rt_arrival\"]\n",
    "    - trips_routes_times4[\"converted_schd_arrival\"]\n",
    ").dt.total_seconds() / 60"
   ]
  },
  {
   "cell_type": "code",
   "execution_count": 71,
   "id": "a16335dc-47a0-4ea1-9612-fc6d5dfea1d6",
   "metadata": {},
   "outputs": [
    {
     "name": "stdout",
     "output_type": "stream",
     "text": [
      "count   3046743.00\n",
      "mean          2.03\n",
      "std          32.83\n",
      "min       -1439.78\n",
      "1%           -5.27\n",
      "2%           -3.87\n",
      "5%           -2.47\n",
      "10%          -1.52\n",
      "50%           1.45\n",
      "90%           7.67\n",
      "95%          10.87\n",
      "98%          15.82\n",
      "99%          20.23\n",
      "max        1439.98\n",
      "Name: delay_min, dtype: float64\n"
     ]
    }
   ],
   "source": [
    "print(trips_routes_times4.delay_min.describe(percentiles))"
   ]
  },
  {
   "cell_type": "code",
   "execution_count": 72,
   "id": "8f0e5d8a-5e26-4c75-b593-2cc9aa275a35",
   "metadata": {},
   "outputs": [],
   "source": [
    "trips_routes_times4[\"converted_rt_arrival\"] = np.where(\n",
    "    trips_routes_times4[\"delay_min\"] >= 600,\n",
    "    trips_routes_times4[\"converted_rt_arrival\"] - pd.Timedelta(days=1),\n",
    "    trips_routes_times4[\"converted_rt_arrival\"],\n",
    ")"
   ]
  },
  {
   "cell_type": "code",
   "execution_count": 73,
   "id": "84a4772d-653b-49dd-8db2-33e67f3c0708",
   "metadata": {},
   "outputs": [],
   "source": [
    "trips_routes_times4[\"converted_schd_arrival\"] = np.where(\n",
    "    trips_routes_times4[\"delay_min\"] <= -600,\n",
    "    trips_routes_times4[\"converted_schd_arrival\"] - pd.Timedelta(days=1),\n",
    "    trips_routes_times4[\"converted_schd_arrival\"],\n",
    ")"
   ]
  },
  {
   "cell_type": "code",
   "execution_count": 74,
   "id": "443fea09-7fd2-4d18-8754-98022eae1975",
   "metadata": {},
   "outputs": [],
   "source": [
    "trips_routes_times4[\"converted_schd_arrival\"] = np.where(\n",
    "    trips_routes_times4[\"delay_min\"] >= 600,\n",
    "    trips_routes_times4[\"converted_schd_arrival\"] + pd.Timedelta(days=1),\n",
    "    trips_routes_times4[\"converted_schd_arrival\"],\n",
    ")"
   ]
  },
  {
   "cell_type": "code",
   "execution_count": 75,
   "id": "041138a9-5275-43d6-8aa1-014c732dcc06",
   "metadata": {},
   "outputs": [],
   "source": [
    "trips_routes_times4[\"converted_rt_arrival\"] = np.where(\n",
    "    trips_routes_times4[\"delay_min\"] <= -600,\n",
    "    trips_routes_times4[\"converted_rt_arrival\"] + pd.Timedelta(days=1),\n",
    "    trips_routes_times4[\"converted_rt_arrival\"],\n",
    ")"
   ]
  },
  {
   "cell_type": "code",
   "execution_count": 76,
   "id": "2c07b22a-658a-4d4b-9760-d517ebbe349f",
   "metadata": {},
   "outputs": [],
   "source": [
    "# Recalc delay_min\n",
    "trips_routes_times4[\"delay_min\"] = (\n",
    "    trips_routes_times4[\"converted_rt_arrival\"]\n",
    "    - trips_routes_times4[\"converted_schd_arrival\"]\n",
    ").dt.total_seconds() / 60"
   ]
  },
  {
   "cell_type": "code",
   "execution_count": 77,
   "id": "6d644f3d-ef59-4ac9-b85d-8caebeda0414",
   "metadata": {},
   "outputs": [],
   "source": [
    "# Recalc delay_min\n",
    "trips_routes_times4[\"delay_min\"] = (\n",
    "    trips_routes_times4[\"converted_rt_arrival\"]\n",
    "    - trips_routes_times4[\"converted_schd_arrival\"]\n",
    ").dt.total_seconds() / 60"
   ]
  },
  {
   "cell_type": "markdown",
   "id": "039bd4bb-999d-405b-85a3-8b6e2f41c454",
   "metadata": {},
   "source": [
    "#### Question: How to know when to just throw away rows?"
   ]
  },
  {
   "cell_type": "code",
   "execution_count": 78,
   "id": "a070912b-879e-408c-8a27-7846bbf67cc7",
   "metadata": {},
   "outputs": [
    {
     "name": "stdout",
     "output_type": "stream",
     "text": [
      "count   3046743.00\n",
      "mean          3.06\n",
      "std          36.82\n",
      "min       -2279.98\n",
      "1%           -5.18\n",
      "2%           -3.83\n",
      "5%           -2.45\n",
      "10%          -1.52\n",
      "50%           1.45\n",
      "90%           7.68\n",
      "95%          10.88\n",
      "98%          15.92\n",
      "99%          20.50\n",
      "max        2277.53\n",
      "Name: delay_min, dtype: float64\n"
     ]
    }
   ],
   "source": [
    "print(trips_routes_times4.delay_min.describe(percentiles))"
   ]
  },
  {
   "cell_type": "code",
   "execution_count": 79,
   "id": "b324e400-978e-48a2-a694-9a3b49b638fc",
   "metadata": {},
   "outputs": [
    {
     "data": {
      "text/html": [
       "<div>\n",
       "<style scoped>\n",
       "    .dataframe tbody tr th:only-of-type {\n",
       "        vertical-align: middle;\n",
       "    }\n",
       "\n",
       "    .dataframe tbody tr th {\n",
       "        vertical-align: top;\n",
       "    }\n",
       "\n",
       "    .dataframe thead th {\n",
       "        text-align: right;\n",
       "    }\n",
       "</style>\n",
       "<table border=\"1\" class=\"dataframe\">\n",
       "  <thead>\n",
       "    <tr style=\"text-align: right;\">\n",
       "      <th></th>\n",
       "      <th>service_date</th>\n",
       "      <th>caltrans_district</th>\n",
       "      <th>schedule_gtfs_dataset_key</th>\n",
       "      <th>feed_key</th>\n",
       "      <th>organization_name</th>\n",
       "      <th>route_long_name</th>\n",
       "      <th>route_type</th>\n",
       "      <th>route_id</th>\n",
       "      <th>direction_id</th>\n",
       "      <th>stop_id</th>\n",
       "      <th>stop_sequence</th>\n",
       "      <th>trip_instance_key</th>\n",
       "      <th>rt_arrival_sec</th>\n",
       "      <th>scheduled_arrival_sec</th>\n",
       "      <th>converted_rt_arrival</th>\n",
       "      <th>converted_schd_arrival</th>\n",
       "      <th>delay_min</th>\n",
       "    </tr>\n",
       "  </thead>\n",
       "  <tbody>\n",
       "    <tr>\n",
       "      <th>1807404</th>\n",
       "      <td>2024-05-22</td>\n",
       "      <td>11 - San Diego</td>\n",
       "      <td>baeeb157e85a901e47b828ef9fe75091</td>\n",
       "      <td>db8c6e0cf5ece2a8cdb5bdc71d049bd1</td>\n",
       "      <td>Flagship Cruises and Events Inc.</td>\n",
       "      <td>Santee - 12th &amp; Imperial</td>\n",
       "      <td>Tram, Streetcar, Light rail</td>\n",
       "      <td>530</td>\n",
       "      <td>0.00</td>\n",
       "      <td>75044</td>\n",
       "      <td>11</td>\n",
       "      <td>24a5c851c69af5a1bd292c27d44ab6a3</td>\n",
       "      <td>49892</td>\n",
       "      <td>86040.00</td>\n",
       "      <td>2024-05-23 13:51:32</td>\n",
       "      <td>2024-05-21 23:54:00</td>\n",
       "      <td>2277.53</td>\n",
       "    </tr>\n",
       "    <tr>\n",
       "      <th>1807405</th>\n",
       "      <td>2024-05-22</td>\n",
       "      <td>11 - San Diego</td>\n",
       "      <td>baeeb157e85a901e47b828ef9fe75091</td>\n",
       "      <td>db8c6e0cf5ece2a8cdb5bdc71d049bd1</td>\n",
       "      <td>San Diego International Airport</td>\n",
       "      <td>Santee - 12th &amp; Imperial</td>\n",
       "      <td>Tram, Streetcar, Light rail</td>\n",
       "      <td>530</td>\n",
       "      <td>0.00</td>\n",
       "      <td>75044</td>\n",
       "      <td>11</td>\n",
       "      <td>24a5c851c69af5a1bd292c27d44ab6a3</td>\n",
       "      <td>49892</td>\n",
       "      <td>86040.00</td>\n",
       "      <td>2024-05-23 13:51:32</td>\n",
       "      <td>2024-05-21 23:54:00</td>\n",
       "      <td>2277.53</td>\n",
       "    </tr>\n",
       "    <tr>\n",
       "      <th>1807406</th>\n",
       "      <td>2024-05-22</td>\n",
       "      <td>11 - San Diego</td>\n",
       "      <td>baeeb157e85a901e47b828ef9fe75091</td>\n",
       "      <td>db8c6e0cf5ece2a8cdb5bdc71d049bd1</td>\n",
       "      <td>San Diego Metropolitan Transit System</td>\n",
       "      <td>Santee - 12th &amp; Imperial</td>\n",
       "      <td>Tram, Streetcar, Light rail</td>\n",
       "      <td>530</td>\n",
       "      <td>0.00</td>\n",
       "      <td>75044</td>\n",
       "      <td>11</td>\n",
       "      <td>24a5c851c69af5a1bd292c27d44ab6a3</td>\n",
       "      <td>49892</td>\n",
       "      <td>86040.00</td>\n",
       "      <td>2024-05-23 13:51:32</td>\n",
       "      <td>2024-05-21 23:54:00</td>\n",
       "      <td>2277.53</td>\n",
       "    </tr>\n",
       "  </tbody>\n",
       "</table>\n",
       "</div>"
      ],
      "text/plain": [
       "        service_date caltrans_district         schedule_gtfs_dataset_key  \\\n",
       "1807404   2024-05-22    11 - San Diego  baeeb157e85a901e47b828ef9fe75091   \n",
       "1807405   2024-05-22    11 - San Diego  baeeb157e85a901e47b828ef9fe75091   \n",
       "1807406   2024-05-22    11 - San Diego  baeeb157e85a901e47b828ef9fe75091   \n",
       "\n",
       "                                 feed_key  \\\n",
       "1807404  db8c6e0cf5ece2a8cdb5bdc71d049bd1   \n",
       "1807405  db8c6e0cf5ece2a8cdb5bdc71d049bd1   \n",
       "1807406  db8c6e0cf5ece2a8cdb5bdc71d049bd1   \n",
       "\n",
       "                             organization_name           route_long_name  \\\n",
       "1807404       Flagship Cruises and Events Inc.  Santee - 12th & Imperial   \n",
       "1807405        San Diego International Airport  Santee - 12th & Imperial   \n",
       "1807406  San Diego Metropolitan Transit System  Santee - 12th & Imperial   \n",
       "\n",
       "                          route_type route_id  direction_id stop_id  \\\n",
       "1807404  Tram, Streetcar, Light rail      530          0.00   75044   \n",
       "1807405  Tram, Streetcar, Light rail      530          0.00   75044   \n",
       "1807406  Tram, Streetcar, Light rail      530          0.00   75044   \n",
       "\n",
       "         stop_sequence                 trip_instance_key  rt_arrival_sec  \\\n",
       "1807404             11  24a5c851c69af5a1bd292c27d44ab6a3           49892   \n",
       "1807405             11  24a5c851c69af5a1bd292c27d44ab6a3           49892   \n",
       "1807406             11  24a5c851c69af5a1bd292c27d44ab6a3           49892   \n",
       "\n",
       "         scheduled_arrival_sec converted_rt_arrival converted_schd_arrival  \\\n",
       "1807404               86040.00  2024-05-23 13:51:32    2024-05-21 23:54:00   \n",
       "1807405               86040.00  2024-05-23 13:51:32    2024-05-21 23:54:00   \n",
       "1807406               86040.00  2024-05-23 13:51:32    2024-05-21 23:54:00   \n",
       "\n",
       "         delay_min  \n",
       "1807404    2277.53  \n",
       "1807405    2277.53  \n",
       "1807406    2277.53  "
      ]
     },
     "execution_count": 79,
     "metadata": {},
     "output_type": "execute_result"
    }
   ],
   "source": [
    "trips_routes_times4.loc[trips_routes_times4.delay_min > 2277]"
   ]
  },
  {
   "cell_type": "code",
   "execution_count": 80,
   "id": "68559d20-a426-419c-a59c-dcb21f981212",
   "metadata": {},
   "outputs": [
    {
     "data": {
      "text/html": [
       "<div>\n",
       "<style scoped>\n",
       "    .dataframe tbody tr th:only-of-type {\n",
       "        vertical-align: middle;\n",
       "    }\n",
       "\n",
       "    .dataframe tbody tr th {\n",
       "        vertical-align: top;\n",
       "    }\n",
       "\n",
       "    .dataframe thead th {\n",
       "        text-align: right;\n",
       "    }\n",
       "</style>\n",
       "<table border=\"1\" class=\"dataframe\">\n",
       "  <thead>\n",
       "    <tr style=\"text-align: right;\">\n",
       "      <th></th>\n",
       "      <th>service_date</th>\n",
       "      <th>caltrans_district</th>\n",
       "      <th>schedule_gtfs_dataset_key</th>\n",
       "      <th>feed_key</th>\n",
       "      <th>organization_name</th>\n",
       "      <th>route_long_name</th>\n",
       "      <th>route_type</th>\n",
       "      <th>route_id</th>\n",
       "      <th>direction_id</th>\n",
       "      <th>stop_id</th>\n",
       "      <th>stop_sequence</th>\n",
       "      <th>trip_instance_key</th>\n",
       "      <th>rt_arrival_sec</th>\n",
       "      <th>scheduled_arrival_sec</th>\n",
       "      <th>converted_rt_arrival</th>\n",
       "      <th>converted_schd_arrival</th>\n",
       "      <th>delay_min</th>\n",
       "    </tr>\n",
       "  </thead>\n",
       "  <tbody>\n",
       "    <tr>\n",
       "      <th>1526522</th>\n",
       "      <td>2024-05-22</td>\n",
       "      <td>04 - Oakland</td>\n",
       "      <td>b82a23bef8a501e980c086ef269ffec7</td>\n",
       "      <td>ed7a212f2a38fd8734244030b40e4d07</td>\n",
       "      <td>City of Union City</td>\n",
       "      <td>Tamarack</td>\n",
       "      <td>Bus</td>\n",
       "      <td>4</td>\n",
       "      <td>1.00</td>\n",
       "      <td>3537271</td>\n",
       "      <td>7</td>\n",
       "      <td>e1f161b232c2de4d42e3de5b8658ba5f</td>\n",
       "      <td>58141</td>\n",
       "      <td>22140.00</td>\n",
       "      <td>2024-05-21 16:09:01</td>\n",
       "      <td>2024-05-23 06:09:00</td>\n",
       "      <td>-2279.98</td>\n",
       "    </tr>\n",
       "  </tbody>\n",
       "</table>\n",
       "</div>"
      ],
      "text/plain": [
       "        service_date caltrans_district         schedule_gtfs_dataset_key  \\\n",
       "1526522   2024-05-22      04 - Oakland  b82a23bef8a501e980c086ef269ffec7   \n",
       "\n",
       "                                 feed_key   organization_name route_long_name  \\\n",
       "1526522  ed7a212f2a38fd8734244030b40e4d07  City of Union City        Tamarack   \n",
       "\n",
       "        route_type route_id  direction_id  stop_id  stop_sequence  \\\n",
       "1526522        Bus        4          1.00  3537271              7   \n",
       "\n",
       "                        trip_instance_key  rt_arrival_sec  \\\n",
       "1526522  e1f161b232c2de4d42e3de5b8658ba5f           58141   \n",
       "\n",
       "         scheduled_arrival_sec converted_rt_arrival converted_schd_arrival  \\\n",
       "1526522               22140.00  2024-05-21 16:09:01    2024-05-23 06:09:00   \n",
       "\n",
       "         delay_min  \n",
       "1526522   -2279.98  "
      ]
     },
     "execution_count": 80,
     "metadata": {},
     "output_type": "execute_result"
    }
   ],
   "source": [
    "trips_routes_times4.loc[trips_routes_times4.delay_min <= -2279]"
   ]
  },
  {
   "cell_type": "code",
   "execution_count": 81,
   "id": "49b8ac43-cced-4263-8fca-ea52350d1765",
   "metadata": {},
   "outputs": [],
   "source": [
    "trips_routes_times5 = trips_routes_times4.drop(\n",
    "    columns=[\n",
    "        \"service_date\",\n",
    "        \"delay_min\",\n",
    "    ]\n",
    ")"
   ]
  },
  {
   "cell_type": "markdown",
   "id": "81bd753a-08ee-4d09-ac79-213e1e605405",
   "metadata": {},
   "source": [
    "### Calculate the actual & scheduled headway the `operator-route-direction_id-stop_sequence-stop_id-` grain"
   ]
  },
  {
   "cell_type": "code",
   "execution_count": 82,
   "id": "b9171520-7358-4f22-9d9c-c5156e710f1b",
   "metadata": {},
   "outputs": [],
   "source": [
    "groupby_cols = [\n",
    "    \"caltrans_district\",\n",
    "    \"schedule_gtfs_dataset_key\",\n",
    "    \"feed_key\",\n",
    "    \"organization_name\",\n",
    "    \"route_id\",\n",
    "    \"route_long_name\",\n",
    "    \"route_type\",\n",
    "    \"direction_id\",\n",
    "    \"stop_id\",\n",
    "    \"stop_sequence\",\n",
    "]"
   ]
  },
  {
   "cell_type": "code",
   "execution_count": 83,
   "id": "1200d9f1-46a2-46d8-8187-8d05273a6c8d",
   "metadata": {},
   "outputs": [],
   "source": [
    "trips_routes_times5[\"actual_arrival_lag_min\"] = (\n",
    "    trips_routes_times5.groupby(groupby_cols)[\"converted_rt_arrival\"]\n",
    "    .diff()\n",
    "    .dt.total_seconds()\n",
    "    / 60\n",
    ")"
   ]
  },
  {
   "cell_type": "code",
   "execution_count": 84,
   "id": "5b372a38-70f2-408c-bec1-140d3850c7d7",
   "metadata": {},
   "outputs": [],
   "source": [
    "trips_routes_times5[\"scheduled_arrival_lag_min\"] = (\n",
    "    trips_routes_times5.groupby(groupby_cols)[\"converted_schd_arrival\"]\n",
    "    .diff()\n",
    "    .dt.total_seconds()\n",
    "    / 60\n",
    ")"
   ]
  },
  {
   "cell_type": "markdown",
   "id": "849099f1-2ef0-493b-b8d3-36207da12339",
   "metadata": {},
   "source": [
    "#### Check San Diego"
   ]
  },
  {
   "cell_type": "code",
   "execution_count": 85,
   "id": "71dbdd85-975c-4b7a-b847-60e274d97c6a",
   "metadata": {},
   "outputs": [],
   "source": [
    "sd_test = trips_routes_times5.loc[\n",
    "    (trips_routes_times5.organization_name == \"San Diego Metropolitan Transit System\")\n",
    "    & (trips_routes_times5.route_id == \"834\")\n",
    "]"
   ]
  },
  {
   "cell_type": "code",
   "execution_count": 86,
   "id": "5928dedd-8ee4-42a4-a158-40414250cf3f",
   "metadata": {},
   "outputs": [
    {
     "data": {
      "text/plain": [
       "(62, 17)"
      ]
     },
     "execution_count": 86,
     "metadata": {},
     "output_type": "execute_result"
    }
   ],
   "source": [
    "sd_test.shape"
   ]
  },
  {
   "cell_type": "code",
   "execution_count": 87,
   "id": "7fda264c-9496-4164-95d1-f7c6e9fb1784",
   "metadata": {},
   "outputs": [
    {
     "data": {
      "text/plain": [
       "count   2857803.00\n",
       "mean         32.75\n",
       "std          52.38\n",
       "min       -1200.00\n",
       "1%           -2.00\n",
       "2%            6.00\n",
       "5%            9.00\n",
       "10%          10.00\n",
       "50%          23.00\n",
       "90%          60.00\n",
       "95%          63.00\n",
       "98%         120.00\n",
       "99%         210.00\n",
       "max        1620.00\n",
       "Name: scheduled_arrival_lag_min, dtype: float64"
      ]
     },
     "execution_count": 87,
     "metadata": {},
     "output_type": "execute_result"
    }
   ],
   "source": [
    "trips_routes_times5[\"scheduled_arrival_lag_min\"].describe(percentiles)"
   ]
  },
  {
   "cell_type": "markdown",
   "id": "ab0903c2-c5c7-4597-81b7-aebc5f8393e0",
   "metadata": {},
   "source": [
    "### Question: Last time, I received the suggestion to throw away things more than 2 hrs because that is not bunching. But wouldn't we want all rows to be included for this metric? \n",
    "* Filter out for just \"extreme\" values."
   ]
  },
  {
   "cell_type": "markdown",
   "id": "ae088b4b-6e1e-49a6-91a0-83d36ab437aa",
   "metadata": {},
   "source": [
    "### Checking out some extreme values"
   ]
  },
  {
   "cell_type": "code",
   "execution_count": 102,
   "id": "0370dc8b-8a4d-4e16-8943-a559aa0aac07",
   "metadata": {},
   "outputs": [],
   "source": [
    "preview_time_col = [\n",
    "    \"schedule_gtfs_dataset_key\",\n",
    "    \"route_id\",\n",
    "    \"stop_id\",\n",
    "    \"stop_sequence\",\n",
    "    \"converted_rt_arrival\",\n",
    "    \"actual_arrival_lag_min\",\n",
    "    \"converted_schd_arrival\",\n",
    "    \"scheduled_arrival_lag_min\",\n",
    "]"
   ]
  },
  {
   "cell_type": "markdown",
   "id": "8a5f6f72-d463-4076-80ce-d22ab1f718b1",
   "metadata": {},
   "source": [
    "### Many lags are actually empty b/c it's the first of that groupby-sequence."
   ]
  },
  {
   "cell_type": "markdown",
   "id": "28362518-a54b-4f5d-a4d7-24a3d8ddefd0",
   "metadata": {},
   "source": [
    "### Transit Matters Method"
   ]
  },
  {
   "cell_type": "code",
   "execution_count": 103,
   "id": "f0f0f4b7-fa64-4b01-a141-5dd78c59693b",
   "metadata": {},
   "outputs": [],
   "source": [
    "transit_matters_df1 = trips_routes_times5.copy()"
   ]
  },
  {
   "cell_type": "code",
   "execution_count": 104,
   "id": "7bea63e5-45d0-4d06-8c1c-fd34a69ffde7",
   "metadata": {},
   "outputs": [],
   "source": [
    "transit_matters_df1[\"pct_actual_schd_headway\"] = (\n",
    "    transit_matters_df1.actual_arrival_lag_min\n",
    "    / transit_matters_df1.scheduled_arrival_lag_min\n",
    ")"
   ]
  },
  {
   "cell_type": "code",
   "execution_count": 105,
   "id": "c67c6299-68f0-414f-a9c1-e0b27511b9e5",
   "metadata": {},
   "outputs": [],
   "source": [
    "transit_matters_df1[\"bunched_y_n\"] = np.where(\n",
    "    transit_matters_df1[\"pct_actual_schd_headway\"] < 0.25, \"bunched\", \"not bunched\"\n",
    ")"
   ]
  },
  {
   "cell_type": "code",
   "execution_count": 106,
   "id": "d7d56ce7-66e9-4084-a725-a9eff7c4c5b2",
   "metadata": {},
   "outputs": [
    {
     "data": {
      "text/plain": [
       "not bunched   0.98\n",
       "bunched       0.02\n",
       "Name: bunched_y_n, dtype: float64"
      ]
     },
     "execution_count": 106,
     "metadata": {},
     "output_type": "execute_result"
    }
   ],
   "source": [
    "transit_matters_df1.bunched_y_n.value_counts() / len(transit_matters_df1)"
   ]
  },
  {
   "cell_type": "markdown",
   "id": "db10254b-d5d4-4619-9c6e-10fab19ec6b2",
   "metadata": {},
   "source": [
    "#### Aggregate.\n",
    "* At this point, it doesn't matter the sequence, we just care about how bunched the traffic is around one partiuclar stop. \n",
    "* See how many trips for that grain are considered \"bunched\" or not."
   ]
  },
  {
   "cell_type": "code",
   "execution_count": 107,
   "id": "30bbbbad-4587-43e3-b5c7-632079f5a588",
   "metadata": {},
   "outputs": [],
   "source": [
    "def bunched_not_bunched(\n",
    "    df: pd.DataFrame, bunched_y_n: str, groupby_cols: list\n",
    ") -> pd.DataFrame:\n",
    "    df2 = df.loc[df.bunched_y_n == bunched_y_n].reset_index(drop=True)\n",
    "\n",
    "    bunched_y_n = bunched_y_n.replace(\" \", \"_\")\n",
    "    agg1 = (\n",
    "        df2.groupby(groupby_cols).agg({\"trip_instance_key\": \"nunique\"}).reset_index()\n",
    "    ).rename(columns={\"trip_instance_key\": f\"{bunched_y_n}_trips\"})\n",
    "    return agg1"
   ]
  },
  {
   "cell_type": "code",
   "execution_count": 108,
   "id": "bb7f41ff-ff97-4a00-b4f8-b9cdab73da64",
   "metadata": {},
   "outputs": [],
   "source": [
    "def agg_final_df(df: pd.DataFrame) -> pd.DataFrame:\n",
    "    groupby_cols = [\n",
    "        \"caltrans_district\",\n",
    "        \"schedule_gtfs_dataset_key\",\n",
    "        \"feed_key\",\n",
    "        \"organization_name\",\n",
    "        \"route_long_name\",\n",
    "        \"route_type\",\n",
    "        \"route_id\",\n",
    "        \"direction_id\",\n",
    "        \"stop_id\",\n",
    "        \"stop_sequence\",\n",
    "    ]\n",
    "\n",
    "    # Find total trips that are bunched\n",
    "    bunched = bunched_not_bunched(df, \"bunched\", groupby_cols)\n",
    "\n",
    "    # Find total trips that are NOT bunched\n",
    "    not_bunched = bunched_not_bunched(df, \"not bunched\", groupby_cols)\n",
    "\n",
    "    # Merge\n",
    "    m1 = pd.merge(not_bunched, bunched, on=groupby_cols, how=\"outer\")\n",
    "\n",
    "    # Find the % of bunched trips\n",
    "    m1 = m1.fillna(0)\n",
    "    m1[\"all_trips\"] = m1.not_bunched_trips + m1.bunched_trips\n",
    "    m1[\"per_trip_bunched_per_stop\"] = (m1.bunched_trips / m1.all_trips)*100\n",
    "\n",
    "    # Filter out any rows with only one trip of that groupby combo\n",
    "    # for that service date\n",
    "    m1 = m1.loc[m1.all_trips > 1].reset_index(drop=True)\n",
    "    m1 = m1.drop(columns=[\"not_bunched_trips\", \"bunched_trips\"])\n",
    "\n",
    "    return m1"
   ]
  },
  {
   "cell_type": "code",
   "execution_count": 109,
   "id": "a33d4b24-6737-4c2a-8e38-eec929242b37",
   "metadata": {},
   "outputs": [],
   "source": [
    "transit_matters_m1 = agg_final_df(transit_matters_df1)"
   ]
  },
  {
   "cell_type": "code",
   "execution_count": 110,
   "id": "9a919bad-bb6f-4247-840d-e6f00a349b06",
   "metadata": {},
   "outputs": [],
   "source": [
    "# transit_matters_m1 = (\n",
    "#   transit_matters_m1.sort_values(by=[\"all_trips\"], ascending=False)\n",
    "#   .drop_duplicates(subset=transit_matters_agg)\n",
    "#   .reset_index(drop=True)\n",
    "# )"
   ]
  },
  {
   "cell_type": "markdown",
   "id": "710770ad-2d1a-4636-9667-02d320b689e8",
   "metadata": {},
   "source": [
    "### Help: Swapped order of a bus is messing with the transit matters metric.\n",
    "* How to solve for this?? "
   ]
  },
  {
   "cell_type": "code",
   "execution_count": 111,
   "id": "56e4a936-215b-4bdd-8f45-e86b613198bc",
   "metadata": {},
   "outputs": [],
   "source": [
    "preview_cols = [\n",
    "    \"converted_rt_arrival\",\n",
    "    \"actual_arrival_lag_min\",\n",
    "    \"converted_schd_arrival\",\n",
    "    \"scheduled_arrival_lag_min\",\n",
    "    \"pct_actual_schd_headway\",\n",
    "    \"bunched_y_n\",\n",
    "]"
   ]
  },
  {
   "cell_type": "code",
   "execution_count": 113,
   "id": "1e24cb76-4f68-4377-a0df-cedb21904b6e",
   "metadata": {},
   "outputs": [],
   "source": [
    "example2 = transit_matters_df1.loc[\n",
    "    (transit_matters_df1.stop_id == \"2307719\")\n",
    "    & (transit_matters_df1.organization_name == \"City of Visalia\")\n",
    "    & (transit_matters_df1.route_id == \"2042\")\n",
    "]"
   ]
  },
  {
   "cell_type": "markdown",
   "id": "67169748-2cba-4591-8cd5-3cc8e4e3a556",
   "metadata": {},
   "source": [
    "#### Starting row 33484: the RT Arrival time is swapped. A bus that was scheduled to arrive at 4:27 arrived boefre the bus arrived at 3:42.\n",
    "* This repeats again row 33486."
   ]
  },
  {
   "cell_type": "code",
   "execution_count": 114,
   "id": "8b34f0a6-6a2b-4e56-b0fe-bd0f57b53db8",
   "metadata": {},
   "outputs": [
    {
     "data": {
      "text/html": [
       "<div>\n",
       "<style scoped>\n",
       "    .dataframe tbody tr th:only-of-type {\n",
       "        vertical-align: middle;\n",
       "    }\n",
       "\n",
       "    .dataframe tbody tr th {\n",
       "        vertical-align: top;\n",
       "    }\n",
       "\n",
       "    .dataframe thead th {\n",
       "        text-align: right;\n",
       "    }\n",
       "</style>\n",
       "<table border=\"1\" class=\"dataframe\">\n",
       "  <thead>\n",
       "    <tr style=\"text-align: right;\">\n",
       "      <th></th>\n",
       "      <th>converted_rt_arrival</th>\n",
       "      <th>actual_arrival_lag_min</th>\n",
       "      <th>converted_schd_arrival</th>\n",
       "      <th>scheduled_arrival_lag_min</th>\n",
       "      <th>pct_actual_schd_headway</th>\n",
       "      <th>bunched_y_n</th>\n",
       "    </tr>\n",
       "  </thead>\n",
       "  <tbody>\n",
       "    <tr>\n",
       "      <th>1022772</th>\n",
       "      <td>2024-05-22 06:32:47</td>\n",
       "      <td>NaN</td>\n",
       "      <td>2024-05-22 06:42:00</td>\n",
       "      <td>NaN</td>\n",
       "      <td>NaN</td>\n",
       "      <td>not bunched</td>\n",
       "    </tr>\n",
       "    <tr>\n",
       "      <th>1022773</th>\n",
       "      <td>2024-05-22 07:26:41</td>\n",
       "      <td>53.90</td>\n",
       "      <td>2024-05-22 07:27:00</td>\n",
       "      <td>45.00</td>\n",
       "      <td>1.20</td>\n",
       "      <td>not bunched</td>\n",
       "    </tr>\n",
       "    <tr>\n",
       "      <th>1022774</th>\n",
       "      <td>2024-05-22 08:06:11</td>\n",
       "      <td>39.50</td>\n",
       "      <td>2024-05-22 08:12:00</td>\n",
       "      <td>45.00</td>\n",
       "      <td>0.88</td>\n",
       "      <td>not bunched</td>\n",
       "    </tr>\n",
       "    <tr>\n",
       "      <th>1022775</th>\n",
       "      <td>2024-05-22 08:56:57</td>\n",
       "      <td>50.77</td>\n",
       "      <td>2024-05-22 08:57:00</td>\n",
       "      <td>45.00</td>\n",
       "      <td>1.13</td>\n",
       "      <td>not bunched</td>\n",
       "    </tr>\n",
       "    <tr>\n",
       "      <th>1022776</th>\n",
       "      <td>2024-05-22 09:37:59</td>\n",
       "      <td>41.03</td>\n",
       "      <td>2024-05-22 09:42:00</td>\n",
       "      <td>45.00</td>\n",
       "      <td>0.91</td>\n",
       "      <td>not bunched</td>\n",
       "    </tr>\n",
       "    <tr>\n",
       "      <th>1022777</th>\n",
       "      <td>2024-05-22 10:27:26</td>\n",
       "      <td>49.45</td>\n",
       "      <td>2024-05-22 10:27:00</td>\n",
       "      <td>45.00</td>\n",
       "      <td>1.10</td>\n",
       "      <td>not bunched</td>\n",
       "    </tr>\n",
       "    <tr>\n",
       "      <th>1022778</th>\n",
       "      <td>2024-05-22 11:10:05</td>\n",
       "      <td>42.65</td>\n",
       "      <td>2024-05-22 11:12:00</td>\n",
       "      <td>45.00</td>\n",
       "      <td>0.95</td>\n",
       "      <td>not bunched</td>\n",
       "    </tr>\n",
       "    <tr>\n",
       "      <th>1022779</th>\n",
       "      <td>2024-05-22 12:01:01</td>\n",
       "      <td>50.93</td>\n",
       "      <td>2024-05-22 11:57:00</td>\n",
       "      <td>45.00</td>\n",
       "      <td>1.13</td>\n",
       "      <td>not bunched</td>\n",
       "    </tr>\n",
       "    <tr>\n",
       "      <th>1022780</th>\n",
       "      <td>2024-05-22 12:38:08</td>\n",
       "      <td>37.12</td>\n",
       "      <td>2024-05-22 12:42:00</td>\n",
       "      <td>45.00</td>\n",
       "      <td>0.82</td>\n",
       "      <td>not bunched</td>\n",
       "    </tr>\n",
       "    <tr>\n",
       "      <th>1022781</th>\n",
       "      <td>2024-05-22 13:27:10</td>\n",
       "      <td>49.03</td>\n",
       "      <td>2024-05-22 13:27:00</td>\n",
       "      <td>45.00</td>\n",
       "      <td>1.09</td>\n",
       "      <td>not bunched</td>\n",
       "    </tr>\n",
       "    <tr>\n",
       "      <th>1022782</th>\n",
       "      <td>2024-05-22 14:08:38</td>\n",
       "      <td>41.47</td>\n",
       "      <td>2024-05-22 14:12:00</td>\n",
       "      <td>45.00</td>\n",
       "      <td>0.92</td>\n",
       "      <td>not bunched</td>\n",
       "    </tr>\n",
       "    <tr>\n",
       "      <th>1022783</th>\n",
       "      <td>2024-05-22 14:58:22</td>\n",
       "      <td>49.73</td>\n",
       "      <td>2024-05-22 14:57:00</td>\n",
       "      <td>45.00</td>\n",
       "      <td>1.11</td>\n",
       "      <td>not bunched</td>\n",
       "    </tr>\n",
       "    <tr>\n",
       "      <th>1022784</th>\n",
       "      <td>2024-05-22 16:26:53</td>\n",
       "      <td>88.52</td>\n",
       "      <td>2024-05-22 16:27:00</td>\n",
       "      <td>90.00</td>\n",
       "      <td>0.98</td>\n",
       "      <td>not bunched</td>\n",
       "    </tr>\n",
       "    <tr>\n",
       "      <th>1022785</th>\n",
       "      <td>2024-05-22 17:08:47</td>\n",
       "      <td>41.90</td>\n",
       "      <td>2024-05-22 15:42:00</td>\n",
       "      <td>-45.00</td>\n",
       "      <td>-0.93</td>\n",
       "      <td>bunched</td>\n",
       "    </tr>\n",
       "    <tr>\n",
       "      <th>1022786</th>\n",
       "      <td>2024-05-22 17:57:23</td>\n",
       "      <td>48.60</td>\n",
       "      <td>2024-05-22 17:57:00</td>\n",
       "      <td>135.00</td>\n",
       "      <td>0.36</td>\n",
       "      <td>not bunched</td>\n",
       "    </tr>\n",
       "    <tr>\n",
       "      <th>1022787</th>\n",
       "      <td>2024-05-22 18:41:37</td>\n",
       "      <td>44.23</td>\n",
       "      <td>2024-05-22 17:12:00</td>\n",
       "      <td>-45.00</td>\n",
       "      <td>-0.98</td>\n",
       "      <td>bunched</td>\n",
       "    </tr>\n",
       "    <tr>\n",
       "      <th>1022788</th>\n",
       "      <td>2024-05-22 19:24:43</td>\n",
       "      <td>43.10</td>\n",
       "      <td>2024-05-22 19:27:00</td>\n",
       "      <td>135.00</td>\n",
       "      <td>0.32</td>\n",
       "      <td>not bunched</td>\n",
       "    </tr>\n",
       "    <tr>\n",
       "      <th>1022789</th>\n",
       "      <td>2024-05-22 20:09:43</td>\n",
       "      <td>45.00</td>\n",
       "      <td>2024-05-22 18:42:00</td>\n",
       "      <td>-45.00</td>\n",
       "      <td>-1.00</td>\n",
       "      <td>bunched</td>\n",
       "    </tr>\n",
       "  </tbody>\n",
       "</table>\n",
       "</div>"
      ],
      "text/plain": [
       "        converted_rt_arrival  actual_arrival_lag_min converted_schd_arrival  \\\n",
       "1022772  2024-05-22 06:32:47                     NaN    2024-05-22 06:42:00   \n",
       "1022773  2024-05-22 07:26:41                   53.90    2024-05-22 07:27:00   \n",
       "1022774  2024-05-22 08:06:11                   39.50    2024-05-22 08:12:00   \n",
       "1022775  2024-05-22 08:56:57                   50.77    2024-05-22 08:57:00   \n",
       "1022776  2024-05-22 09:37:59                   41.03    2024-05-22 09:42:00   \n",
       "1022777  2024-05-22 10:27:26                   49.45    2024-05-22 10:27:00   \n",
       "1022778  2024-05-22 11:10:05                   42.65    2024-05-22 11:12:00   \n",
       "1022779  2024-05-22 12:01:01                   50.93    2024-05-22 11:57:00   \n",
       "1022780  2024-05-22 12:38:08                   37.12    2024-05-22 12:42:00   \n",
       "1022781  2024-05-22 13:27:10                   49.03    2024-05-22 13:27:00   \n",
       "1022782  2024-05-22 14:08:38                   41.47    2024-05-22 14:12:00   \n",
       "1022783  2024-05-22 14:58:22                   49.73    2024-05-22 14:57:00   \n",
       "1022784  2024-05-22 16:26:53                   88.52    2024-05-22 16:27:00   \n",
       "1022785  2024-05-22 17:08:47                   41.90    2024-05-22 15:42:00   \n",
       "1022786  2024-05-22 17:57:23                   48.60    2024-05-22 17:57:00   \n",
       "1022787  2024-05-22 18:41:37                   44.23    2024-05-22 17:12:00   \n",
       "1022788  2024-05-22 19:24:43                   43.10    2024-05-22 19:27:00   \n",
       "1022789  2024-05-22 20:09:43                   45.00    2024-05-22 18:42:00   \n",
       "\n",
       "         scheduled_arrival_lag_min  pct_actual_schd_headway  bunched_y_n  \n",
       "1022772                        NaN                      NaN  not bunched  \n",
       "1022773                      45.00                     1.20  not bunched  \n",
       "1022774                      45.00                     0.88  not bunched  \n",
       "1022775                      45.00                     1.13  not bunched  \n",
       "1022776                      45.00                     0.91  not bunched  \n",
       "1022777                      45.00                     1.10  not bunched  \n",
       "1022778                      45.00                     0.95  not bunched  \n",
       "1022779                      45.00                     1.13  not bunched  \n",
       "1022780                      45.00                     0.82  not bunched  \n",
       "1022781                      45.00                     1.09  not bunched  \n",
       "1022782                      45.00                     0.92  not bunched  \n",
       "1022783                      45.00                     1.11  not bunched  \n",
       "1022784                      90.00                     0.98  not bunched  \n",
       "1022785                     -45.00                    -0.93      bunched  \n",
       "1022786                     135.00                     0.36  not bunched  \n",
       "1022787                     -45.00                    -0.98      bunched  \n",
       "1022788                     135.00                     0.32  not bunched  \n",
       "1022789                     -45.00                    -1.00      bunched  "
      ]
     },
     "execution_count": 114,
     "metadata": {},
     "output_type": "execute_result"
    }
   ],
   "source": [
    "example2[preview_cols]"
   ]
  },
  {
   "cell_type": "markdown",
   "id": "b0579e78-2a95-4d8b-9761-2824aa39a8eb",
   "metadata": {},
   "source": [
    "### Use 2 minute benchmark\n",
    "* [Source](https://static1.squarespace.com/static/533b9a24e4b01d79d0ae4376/t/645e82de1f570b31497c44dc/1683915486889/TransitMatters-Headwaymanagement.pdf)\n",
    "* Justifying the use of\n",
    "headway maintenance. For example, in April\n",
    "2022 the 66 bus significantly bunched around\n",
    "several stops. When bunching is defined as\n",
    "buses that run within two minutes or less of\n",
    "each other, inbound buses towards Nubian\n",
    "Square bunched 10% of the time at Brigham\n",
    "Circle, 9% at Brookline Village and Roxbury\n",
    "Crossing, and 8% of the time at Coolidge\n",
    "Corner. Bunching is even more dramatic\n",
    "outbound towards Harvard Square where\n",
    "buses bunched over 35% of the time at Winship\n",
    "St, 13% at Coolidge Corner and Harvard Ave at\n",
    "Commonwealth Ave, and 12% at North Harvard\n",
    "St at Western Ave. View more data about bus\n",
    "bunching through the TransitMatters Data\n",
    "Dashboard here.\n",
    "\n",
    "* To Do: add back in route  & operator information"
   ]
  },
  {
   "cell_type": "code",
   "execution_count": 136,
   "id": "e0706e7e-0d56-43b2-bf3c-4205e9277c64",
   "metadata": {},
   "outputs": [],
   "source": [
    "two_minutes_df = trips_routes_times5.copy()"
   ]
  },
  {
   "cell_type": "code",
   "execution_count": 137,
   "id": "2def9283-d995-4001-b412-0fa03a855cd5",
   "metadata": {},
   "outputs": [],
   "source": [
    "two_minutes_df[\"bunched_y_n\"] = np.where(\n",
    "    (two_minutes_df[\"actual_arrival_lag_min\"] > 0) & \n",
    "    (two_minutes_df[\"actual_arrival_lag_min\"] <= 2), \n",
    "    \"bunched\", \n",
    "    \"not bunched\"\n",
    ")"
   ]
  },
  {
   "cell_type": "code",
   "execution_count": 138,
   "id": "dcd302cb-5f30-4318-8b28-cb29f6c376cd",
   "metadata": {},
   "outputs": [
    {
     "data": {
      "text/plain": [
       "not bunched   0.99\n",
       "bunched       0.01\n",
       "Name: bunched_y_n, dtype: float64"
      ]
     },
     "execution_count": 138,
     "metadata": {},
     "output_type": "execute_result"
    }
   ],
   "source": [
    "two_minutes_df.bunched_y_n.value_counts() / len(two_minutes_df)"
   ]
  },
  {
   "cell_type": "code",
   "execution_count": 139,
   "id": "99de2fd0-2aed-4793-a33b-56d7ffc313bc",
   "metadata": {},
   "outputs": [],
   "source": [
    "final_two_minute = agg_final_df(two_minutes_df)"
   ]
  },
  {
   "cell_type": "code",
   "execution_count": 140,
   "id": "416da93d-cd6d-4ad1-bf5e-98b20c188661",
   "metadata": {},
   "outputs": [
    {
     "data": {
      "text/html": [
       "<div>\n",
       "<style scoped>\n",
       "    .dataframe tbody tr th:only-of-type {\n",
       "        vertical-align: middle;\n",
       "    }\n",
       "\n",
       "    .dataframe tbody tr th {\n",
       "        vertical-align: top;\n",
       "    }\n",
       "\n",
       "    .dataframe thead th {\n",
       "        text-align: right;\n",
       "    }\n",
       "</style>\n",
       "<table border=\"1\" class=\"dataframe\">\n",
       "  <thead>\n",
       "    <tr style=\"text-align: right;\">\n",
       "      <th></th>\n",
       "      <th>caltrans_district</th>\n",
       "      <th>schedule_gtfs_dataset_key</th>\n",
       "      <th>feed_key</th>\n",
       "      <th>organization_name</th>\n",
       "      <th>route_long_name</th>\n",
       "      <th>route_type</th>\n",
       "      <th>route_id</th>\n",
       "      <th>direction_id</th>\n",
       "      <th>stop_id</th>\n",
       "      <th>stop_sequence</th>\n",
       "      <th>all_trips</th>\n",
       "      <th>per_trip_bunched_per_stop</th>\n",
       "    </tr>\n",
       "  </thead>\n",
       "  <tbody>\n",
       "    <tr>\n",
       "      <th>30193</th>\n",
       "      <td>06 - Fresno</td>\n",
       "      <td>3bda4652977200408690059ef2ec4b4d</td>\n",
       "      <td>0e89d1fd3bd2a09bbbd0d4f79ea5663b</td>\n",
       "      <td>City of Visalia</td>\n",
       "      <td>Route 9</td>\n",
       "      <td>Bus</td>\n",
       "      <td>2042</td>\n",
       "      <td>1.00</td>\n",
       "      <td>2307695</td>\n",
       "      <td>16</td>\n",
       "      <td>18.00</td>\n",
       "      <td>0.00</td>\n",
       "    </tr>\n",
       "  </tbody>\n",
       "</table>\n",
       "</div>"
      ],
      "text/plain": [
       "      caltrans_district         schedule_gtfs_dataset_key  \\\n",
       "30193       06 - Fresno  3bda4652977200408690059ef2ec4b4d   \n",
       "\n",
       "                               feed_key organization_name route_long_name  \\\n",
       "30193  0e89d1fd3bd2a09bbbd0d4f79ea5663b   City of Visalia         Route 9   \n",
       "\n",
       "      route_type route_id  direction_id  stop_id  stop_sequence  all_trips  \\\n",
       "30193        Bus     2042          1.00  2307695             16      18.00   \n",
       "\n",
       "       per_trip_bunched_per_stop  \n",
       "30193                       0.00  "
      ]
     },
     "execution_count": 140,
     "metadata": {},
     "output_type": "execute_result"
    }
   ],
   "source": [
    "final_two_minute.loc[\n",
    "    (final_two_minute.stop_id == \"2307695\")\n",
    "    & (final_two_minute.organization_name == \"City of Visalia\")\n",
    "    & (final_two_minute.route_id == \"2042\")\n",
    "]"
   ]
  },
  {
   "cell_type": "markdown",
   "id": "1a0b54b9-3d4c-4cc4-8243-e26a42c47e83",
   "metadata": {},
   "source": [
    "### Comparing both outcomes\n",
    "* There are so many more bunched trips for the 2 minute approach.\n",
    "* Add back in schedule_gtfs_key and then grab stop level data from the warehouse."
   ]
  },
  {
   "cell_type": "code",
   "execution_count": 141,
   "id": "a11e9bc2-70c6-488a-aa7e-f92d8b53c8e0",
   "metadata": {},
   "outputs": [
    {
     "data": {
      "text/plain": [
       "count   140760.00\n",
       "mean         0.70\n",
       "std          3.90\n",
       "min          0.00\n",
       "1%           0.00\n",
       "2%           0.00\n",
       "5%           0.00\n",
       "10%          0.00\n",
       "50%          0.00\n",
       "90%          0.00\n",
       "95%          3.66\n",
       "98%          8.33\n",
       "99%         14.29\n",
       "max         75.00\n",
       "Name: per_trip_bunched_per_stop, dtype: float64"
      ]
     },
     "execution_count": 141,
     "metadata": {},
     "output_type": "execute_result"
    }
   ],
   "source": [
    "final_two_minute.per_trip_bunched_per_stop.describe(percentiles)"
   ]
  },
  {
   "cell_type": "code",
   "execution_count": 142,
   "id": "1c1fe5a4-4c06-4c0d-bbda-877f44839f80",
   "metadata": {},
   "outputs": [
    {
     "data": {
      "text/html": [
       "<div>\n",
       "<style scoped>\n",
       "    .dataframe tbody tr th:only-of-type {\n",
       "        vertical-align: middle;\n",
       "    }\n",
       "\n",
       "    .dataframe tbody tr th {\n",
       "        vertical-align: top;\n",
       "    }\n",
       "\n",
       "    .dataframe thead th {\n",
       "        text-align: right;\n",
       "    }\n",
       "</style>\n",
       "<table border=\"1\" class=\"dataframe\">\n",
       "  <thead>\n",
       "    <tr style=\"text-align: right;\">\n",
       "      <th></th>\n",
       "      <th>caltrans_district</th>\n",
       "      <th>schedule_gtfs_dataset_key</th>\n",
       "      <th>feed_key</th>\n",
       "      <th>organization_name</th>\n",
       "      <th>route_long_name</th>\n",
       "      <th>route_type</th>\n",
       "      <th>route_id</th>\n",
       "      <th>direction_id</th>\n",
       "      <th>stop_id</th>\n",
       "      <th>stop_sequence</th>\n",
       "      <th>all_trips</th>\n",
       "      <th>per_trip_bunched_per_stop</th>\n",
       "    </tr>\n",
       "  </thead>\n",
       "  <tbody>\n",
       "    <tr>\n",
       "      <th>39950</th>\n",
       "      <td>07 - Los Angeles</td>\n",
       "      <td>0666caf3ec1ecc96b74f4477ee4bc939</td>\n",
       "      <td>608992664173210532aa3e6cc573be2f</td>\n",
       "      <td>Los Angeles County Metropolitan Transportation Authority</td>\n",
       "      <td>Metro Local Line</td>\n",
       "      <td>Bus</td>\n",
       "      <td>182-13172</td>\n",
       "      <td>1.00</td>\n",
       "      <td>142124</td>\n",
       "      <td>8</td>\n",
       "      <td>4.00</td>\n",
       "      <td>75.00</td>\n",
       "    </tr>\n",
       "    <tr>\n",
       "      <th>39955</th>\n",
       "      <td>07 - Los Angeles</td>\n",
       "      <td>0666caf3ec1ecc96b74f4477ee4bc939</td>\n",
       "      <td>608992664173210532aa3e6cc573be2f</td>\n",
       "      <td>Los Angeles County Metropolitan Transportation Authority</td>\n",
       "      <td>Metro Local Line</td>\n",
       "      <td>Bus</td>\n",
       "      <td>182-13172</td>\n",
       "      <td>1.00</td>\n",
       "      <td>14817</td>\n",
       "      <td>7</td>\n",
       "      <td>4.00</td>\n",
       "      <td>75.00</td>\n",
       "    </tr>\n",
       "    <tr>\n",
       "      <th>39961</th>\n",
       "      <td>07 - Los Angeles</td>\n",
       "      <td>0666caf3ec1ecc96b74f4477ee4bc939</td>\n",
       "      <td>608992664173210532aa3e6cc573be2f</td>\n",
       "      <td>Los Angeles County Metropolitan Transportation Authority</td>\n",
       "      <td>Metro Local Line</td>\n",
       "      <td>Bus</td>\n",
       "      <td>182-13172</td>\n",
       "      <td>1.00</td>\n",
       "      <td>14820</td>\n",
       "      <td>5</td>\n",
       "      <td>4.00</td>\n",
       "      <td>75.00</td>\n",
       "    </tr>\n",
       "    <tr>\n",
       "      <th>8904</th>\n",
       "      <td>04 - Oakland</td>\n",
       "      <td>587e730fac4db21d54037e0f12b0dd5d</td>\n",
       "      <td>2aa353e11dbf4ca87f156324bdcd11ab</td>\n",
       "      <td>Central Contra Costa Transit Authority</td>\n",
       "      <td>Miramonte High/OIS/Orinda BART</td>\n",
       "      <td>Bus</td>\n",
       "      <td>606</td>\n",
       "      <td>0.00</td>\n",
       "      <td>831397</td>\n",
       "      <td>6</td>\n",
       "      <td>6.00</td>\n",
       "      <td>66.67</td>\n",
       "    </tr>\n",
       "    <tr>\n",
       "      <th>8903</th>\n",
       "      <td>04 - Oakland</td>\n",
       "      <td>587e730fac4db21d54037e0f12b0dd5d</td>\n",
       "      <td>2aa353e11dbf4ca87f156324bdcd11ab</td>\n",
       "      <td>Central Contra Costa Transit Authority</td>\n",
       "      <td>Miramonte High/OIS/Orinda BART</td>\n",
       "      <td>Bus</td>\n",
       "      <td>606</td>\n",
       "      <td>0.00</td>\n",
       "      <td>831396</td>\n",
       "      <td>5</td>\n",
       "      <td>6.00</td>\n",
       "      <td>66.67</td>\n",
       "    </tr>\n",
       "  </tbody>\n",
       "</table>\n",
       "</div>"
      ],
      "text/plain": [
       "      caltrans_district         schedule_gtfs_dataset_key  \\\n",
       "39950  07 - Los Angeles  0666caf3ec1ecc96b74f4477ee4bc939   \n",
       "39955  07 - Los Angeles  0666caf3ec1ecc96b74f4477ee4bc939   \n",
       "39961  07 - Los Angeles  0666caf3ec1ecc96b74f4477ee4bc939   \n",
       "8904       04 - Oakland  587e730fac4db21d54037e0f12b0dd5d   \n",
       "8903       04 - Oakland  587e730fac4db21d54037e0f12b0dd5d   \n",
       "\n",
       "                               feed_key  \\\n",
       "39950  608992664173210532aa3e6cc573be2f   \n",
       "39955  608992664173210532aa3e6cc573be2f   \n",
       "39961  608992664173210532aa3e6cc573be2f   \n",
       "8904   2aa353e11dbf4ca87f156324bdcd11ab   \n",
       "8903   2aa353e11dbf4ca87f156324bdcd11ab   \n",
       "\n",
       "                                              organization_name  \\\n",
       "39950  Los Angeles County Metropolitan Transportation Authority   \n",
       "39955  Los Angeles County Metropolitan Transportation Authority   \n",
       "39961  Los Angeles County Metropolitan Transportation Authority   \n",
       "8904                     Central Contra Costa Transit Authority   \n",
       "8903                     Central Contra Costa Transit Authority   \n",
       "\n",
       "                      route_long_name route_type   route_id  direction_id  \\\n",
       "39950                Metro Local Line        Bus  182-13172          1.00   \n",
       "39955                Metro Local Line        Bus  182-13172          1.00   \n",
       "39961                Metro Local Line        Bus  182-13172          1.00   \n",
       "8904   Miramonte High/OIS/Orinda BART        Bus        606          0.00   \n",
       "8903   Miramonte High/OIS/Orinda BART        Bus        606          0.00   \n",
       "\n",
       "      stop_id  stop_sequence  all_trips  per_trip_bunched_per_stop  \n",
       "39950  142124              8       4.00                      75.00  \n",
       "39955   14817              7       4.00                      75.00  \n",
       "39961   14820              5       4.00                      75.00  \n",
       "8904   831397              6       6.00                      66.67  \n",
       "8903   831396              5       6.00                      66.67  "
      ]
     },
     "execution_count": 142,
     "metadata": {},
     "output_type": "execute_result"
    }
   ],
   "source": [
    "final_two_minute.sort_values(by=[\"per_trip_bunched_per_stop\"], ascending=False).head()"
   ]
  },
  {
   "cell_type": "code",
   "execution_count": 143,
   "id": "19c741e4-6476-416b-a62d-51028c6eef68",
   "metadata": {},
   "outputs": [
    {
     "data": {
      "text/plain": [
       "count   140760.00\n",
       "mean         1.14\n",
       "std          4.35\n",
       "min          0.00\n",
       "1%           0.00\n",
       "2%           0.00\n",
       "5%           0.00\n",
       "10%          0.00\n",
       "50%          0.00\n",
       "90%          3.17\n",
       "95%          7.69\n",
       "98%         14.29\n",
       "99%         20.00\n",
       "max         86.67\n",
       "Name: per_trip_bunched_per_stop, dtype: float64"
      ]
     },
     "execution_count": 143,
     "metadata": {},
     "output_type": "execute_result"
    }
   ],
   "source": [
    "transit_matters_m1.per_trip_bunched_per_stop.describe(percentiles)"
   ]
  },
  {
   "cell_type": "code",
   "execution_count": 144,
   "id": "be694f7e-2910-4b05-acd3-cfa707398600",
   "metadata": {},
   "outputs": [
    {
     "data": {
      "text/html": [
       "<div>\n",
       "<style scoped>\n",
       "    .dataframe tbody tr th:only-of-type {\n",
       "        vertical-align: middle;\n",
       "    }\n",
       "\n",
       "    .dataframe tbody tr th {\n",
       "        vertical-align: top;\n",
       "    }\n",
       "\n",
       "    .dataframe thead th {\n",
       "        text-align: right;\n",
       "    }\n",
       "</style>\n",
       "<table border=\"1\" class=\"dataframe\">\n",
       "  <thead>\n",
       "    <tr style=\"text-align: right;\">\n",
       "      <th></th>\n",
       "      <th>caltrans_district</th>\n",
       "      <th>schedule_gtfs_dataset_key</th>\n",
       "      <th>feed_key</th>\n",
       "      <th>organization_name</th>\n",
       "      <th>route_long_name</th>\n",
       "      <th>route_type</th>\n",
       "      <th>route_id</th>\n",
       "      <th>direction_id</th>\n",
       "      <th>stop_id</th>\n",
       "      <th>stop_sequence</th>\n",
       "      <th>all_trips</th>\n",
       "      <th>per_trip_bunched_per_stop</th>\n",
       "    </tr>\n",
       "  </thead>\n",
       "  <tbody>\n",
       "    <tr>\n",
       "      <th>26887</th>\n",
       "      <td>05 - San Luis Obispo</td>\n",
       "      <td>239f3baf3dd3b9e9464f66a777f9897d</td>\n",
       "      <td>a3c82f955ca3b93746786deb7fe4fb0d</td>\n",
       "      <td>Santa Barbara Metropolitan Transit District</td>\n",
       "      <td>West Santa Barbara</td>\n",
       "      <td>Bus</td>\n",
       "      <td>1</td>\n",
       "      <td>0.00</td>\n",
       "      <td>83</td>\n",
       "      <td>2</td>\n",
       "      <td>15.00</td>\n",
       "      <td>86.67</td>\n",
       "    </tr>\n",
       "    <tr>\n",
       "      <th>26807</th>\n",
       "      <td>05 - San Luis Obispo</td>\n",
       "      <td>239f3baf3dd3b9e9464f66a777f9897d</td>\n",
       "      <td>a3c82f955ca3b93746786deb7fe4fb0d</td>\n",
       "      <td>Santa Barbara Metropolitan Transit District</td>\n",
       "      <td>Goleta</td>\n",
       "      <td>Bus</td>\n",
       "      <td>6</td>\n",
       "      <td>0.00</td>\n",
       "      <td>84</td>\n",
       "      <td>47</td>\n",
       "      <td>4.00</td>\n",
       "      <td>75.00</td>\n",
       "    </tr>\n",
       "    <tr>\n",
       "      <th>26865</th>\n",
       "      <td>05 - San Luis Obispo</td>\n",
       "      <td>239f3baf3dd3b9e9464f66a777f9897d</td>\n",
       "      <td>a3c82f955ca3b93746786deb7fe4fb0d</td>\n",
       "      <td>Santa Barbara Metropolitan Transit District</td>\n",
       "      <td>UCSB Shuttle</td>\n",
       "      <td>Bus</td>\n",
       "      <td>28</td>\n",
       "      <td>0.00</td>\n",
       "      <td>161</td>\n",
       "      <td>3</td>\n",
       "      <td>4.00</td>\n",
       "      <td>75.00</td>\n",
       "    </tr>\n",
       "    <tr>\n",
       "      <th>26867</th>\n",
       "      <td>05 - San Luis Obispo</td>\n",
       "      <td>239f3baf3dd3b9e9464f66a777f9897d</td>\n",
       "      <td>a3c82f955ca3b93746786deb7fe4fb0d</td>\n",
       "      <td>Santa Barbara Metropolitan Transit District</td>\n",
       "      <td>UCSB Shuttle</td>\n",
       "      <td>Bus</td>\n",
       "      <td>28</td>\n",
       "      <td>0.00</td>\n",
       "      <td>22</td>\n",
       "      <td>8</td>\n",
       "      <td>4.00</td>\n",
       "      <td>75.00</td>\n",
       "    </tr>\n",
       "    <tr>\n",
       "      <th>26874</th>\n",
       "      <td>05 - San Luis Obispo</td>\n",
       "      <td>239f3baf3dd3b9e9464f66a777f9897d</td>\n",
       "      <td>a3c82f955ca3b93746786deb7fe4fb0d</td>\n",
       "      <td>Santa Barbara Metropolitan Transit District</td>\n",
       "      <td>UCSB Shuttle</td>\n",
       "      <td>Bus</td>\n",
       "      <td>28</td>\n",
       "      <td>0.00</td>\n",
       "      <td>804</td>\n",
       "      <td>6</td>\n",
       "      <td>4.00</td>\n",
       "      <td>75.00</td>\n",
       "    </tr>\n",
       "    <tr>\n",
       "      <th>26873</th>\n",
       "      <td>05 - San Luis Obispo</td>\n",
       "      <td>239f3baf3dd3b9e9464f66a777f9897d</td>\n",
       "      <td>a3c82f955ca3b93746786deb7fe4fb0d</td>\n",
       "      <td>Santa Barbara Metropolitan Transit District</td>\n",
       "      <td>UCSB Shuttle</td>\n",
       "      <td>Bus</td>\n",
       "      <td>28</td>\n",
       "      <td>0.00</td>\n",
       "      <td>598</td>\n",
       "      <td>5</td>\n",
       "      <td>4.00</td>\n",
       "      <td>75.00</td>\n",
       "    </tr>\n",
       "    <tr>\n",
       "      <th>26872</th>\n",
       "      <td>05 - San Luis Obispo</td>\n",
       "      <td>239f3baf3dd3b9e9464f66a777f9897d</td>\n",
       "      <td>a3c82f955ca3b93746786deb7fe4fb0d</td>\n",
       "      <td>Santa Barbara Metropolitan Transit District</td>\n",
       "      <td>UCSB Shuttle</td>\n",
       "      <td>Bus</td>\n",
       "      <td>28</td>\n",
       "      <td>0.00</td>\n",
       "      <td>597</td>\n",
       "      <td>4</td>\n",
       "      <td>4.00</td>\n",
       "      <td>75.00</td>\n",
       "    </tr>\n",
       "    <tr>\n",
       "      <th>26800</th>\n",
       "      <td>05 - San Luis Obispo</td>\n",
       "      <td>239f3baf3dd3b9e9464f66a777f9897d</td>\n",
       "      <td>a3c82f955ca3b93746786deb7fe4fb0d</td>\n",
       "      <td>Santa Barbara Metropolitan Transit District</td>\n",
       "      <td>Goleta</td>\n",
       "      <td>Bus</td>\n",
       "      <td>6</td>\n",
       "      <td>0.00</td>\n",
       "      <td>808</td>\n",
       "      <td>2</td>\n",
       "      <td>4.00</td>\n",
       "      <td>75.00</td>\n",
       "    </tr>\n",
       "    <tr>\n",
       "      <th>26790</th>\n",
       "      <td>05 - San Luis Obispo</td>\n",
       "      <td>239f3baf3dd3b9e9464f66a777f9897d</td>\n",
       "      <td>a3c82f955ca3b93746786deb7fe4fb0d</td>\n",
       "      <td>Santa Barbara Metropolitan Transit District</td>\n",
       "      <td>Goleta</td>\n",
       "      <td>Bus</td>\n",
       "      <td>6</td>\n",
       "      <td>0.00</td>\n",
       "      <td>780</td>\n",
       "      <td>46</td>\n",
       "      <td>4.00</td>\n",
       "      <td>75.00</td>\n",
       "    </tr>\n",
       "    <tr>\n",
       "      <th>26870</th>\n",
       "      <td>05 - San Luis Obispo</td>\n",
       "      <td>239f3baf3dd3b9e9464f66a777f9897d</td>\n",
       "      <td>a3c82f955ca3b93746786deb7fe4fb0d</td>\n",
       "      <td>Santa Barbara Metropolitan Transit District</td>\n",
       "      <td>UCSB Shuttle</td>\n",
       "      <td>Bus</td>\n",
       "      <td>28</td>\n",
       "      <td>0.00</td>\n",
       "      <td>369</td>\n",
       "      <td>7</td>\n",
       "      <td>4.00</td>\n",
       "      <td>75.00</td>\n",
       "    </tr>\n",
       "  </tbody>\n",
       "</table>\n",
       "</div>"
      ],
      "text/plain": [
       "          caltrans_district         schedule_gtfs_dataset_key  \\\n",
       "26887  05 - San Luis Obispo  239f3baf3dd3b9e9464f66a777f9897d   \n",
       "26807  05 - San Luis Obispo  239f3baf3dd3b9e9464f66a777f9897d   \n",
       "26865  05 - San Luis Obispo  239f3baf3dd3b9e9464f66a777f9897d   \n",
       "26867  05 - San Luis Obispo  239f3baf3dd3b9e9464f66a777f9897d   \n",
       "26874  05 - San Luis Obispo  239f3baf3dd3b9e9464f66a777f9897d   \n",
       "26873  05 - San Luis Obispo  239f3baf3dd3b9e9464f66a777f9897d   \n",
       "26872  05 - San Luis Obispo  239f3baf3dd3b9e9464f66a777f9897d   \n",
       "26800  05 - San Luis Obispo  239f3baf3dd3b9e9464f66a777f9897d   \n",
       "26790  05 - San Luis Obispo  239f3baf3dd3b9e9464f66a777f9897d   \n",
       "26870  05 - San Luis Obispo  239f3baf3dd3b9e9464f66a777f9897d   \n",
       "\n",
       "                               feed_key  \\\n",
       "26887  a3c82f955ca3b93746786deb7fe4fb0d   \n",
       "26807  a3c82f955ca3b93746786deb7fe4fb0d   \n",
       "26865  a3c82f955ca3b93746786deb7fe4fb0d   \n",
       "26867  a3c82f955ca3b93746786deb7fe4fb0d   \n",
       "26874  a3c82f955ca3b93746786deb7fe4fb0d   \n",
       "26873  a3c82f955ca3b93746786deb7fe4fb0d   \n",
       "26872  a3c82f955ca3b93746786deb7fe4fb0d   \n",
       "26800  a3c82f955ca3b93746786deb7fe4fb0d   \n",
       "26790  a3c82f955ca3b93746786deb7fe4fb0d   \n",
       "26870  a3c82f955ca3b93746786deb7fe4fb0d   \n",
       "\n",
       "                                 organization_name     route_long_name  \\\n",
       "26887  Santa Barbara Metropolitan Transit District  West Santa Barbara   \n",
       "26807  Santa Barbara Metropolitan Transit District              Goleta   \n",
       "26865  Santa Barbara Metropolitan Transit District        UCSB Shuttle   \n",
       "26867  Santa Barbara Metropolitan Transit District        UCSB Shuttle   \n",
       "26874  Santa Barbara Metropolitan Transit District        UCSB Shuttle   \n",
       "26873  Santa Barbara Metropolitan Transit District        UCSB Shuttle   \n",
       "26872  Santa Barbara Metropolitan Transit District        UCSB Shuttle   \n",
       "26800  Santa Barbara Metropolitan Transit District              Goleta   \n",
       "26790  Santa Barbara Metropolitan Transit District              Goleta   \n",
       "26870  Santa Barbara Metropolitan Transit District        UCSB Shuttle   \n",
       "\n",
       "      route_type route_id  direction_id stop_id  stop_sequence  all_trips  \\\n",
       "26887        Bus        1          0.00      83              2      15.00   \n",
       "26807        Bus        6          0.00      84             47       4.00   \n",
       "26865        Bus       28          0.00     161              3       4.00   \n",
       "26867        Bus       28          0.00      22              8       4.00   \n",
       "26874        Bus       28          0.00     804              6       4.00   \n",
       "26873        Bus       28          0.00     598              5       4.00   \n",
       "26872        Bus       28          0.00     597              4       4.00   \n",
       "26800        Bus        6          0.00     808              2       4.00   \n",
       "26790        Bus        6          0.00     780             46       4.00   \n",
       "26870        Bus       28          0.00     369              7       4.00   \n",
       "\n",
       "       per_trip_bunched_per_stop  \n",
       "26887                      86.67  \n",
       "26807                      75.00  \n",
       "26865                      75.00  \n",
       "26867                      75.00  \n",
       "26874                      75.00  \n",
       "26873                      75.00  \n",
       "26872                      75.00  \n",
       "26800                      75.00  \n",
       "26790                      75.00  \n",
       "26870                      75.00  "
      ]
     },
     "execution_count": 144,
     "metadata": {},
     "output_type": "execute_result"
    }
   ],
   "source": [
    "transit_matters_m1.sort_values(by=[\"per_trip_bunched_per_stop\"], ascending=False).head(\n",
    "    10\n",
    ")"
   ]
  },
  {
   "cell_type": "markdown",
   "id": "a6304f84-80fb-4696-a312-d28545073b22",
   "metadata": {},
   "source": [
    "### Make Visuals"
   ]
  },
  {
   "cell_type": "code",
   "execution_count": 145,
   "id": "220981aa-623c-4156-8445-f349f0d98d45",
   "metadata": {},
   "outputs": [],
   "source": [
    "freq_range = [\n",
    "    \"#ccbb44\",\n",
    "    \"#e9d868\",\n",
    "    \"#fcb40e\",\n",
    "    \"#ff9c42\",\n",
    "    \"#fc5c04\",\n",
    "    \"#dd217d\",\n",
    "    \"#dd217d\",\n",
    "    \"#dd217d\",\n",
    "]"
   ]
  },
  {
   "cell_type": "code",
   "execution_count": 146,
   "id": "9a5ea9a8-1158-4681-9d97-37a131b2dff4",
   "metadata": {},
   "outputs": [],
   "source": [
    "trips_routes_times5[\"hour\"] = trips_routes_times5[\"converted_rt_arrival\"].dt.hour\n",
    "trips_routes_times5[\"min\"] = trips_routes_times5[\"converted_rt_arrival\"].dt.minute"
   ]
  },
  {
   "cell_type": "code",
   "execution_count": 147,
   "id": "ec812e6c-3dc7-4e21-9478-1eae1a539ec2",
   "metadata": {},
   "outputs": [],
   "source": [
    "def compare_approaches(\n",
    "    stop_id: str, organization_name: str, route_id: str, stop_sequence: int\n",
    "):\n",
    "    transit_matter = transit_matters_m1.loc[\n",
    "        (transit_matters_m1.stop_id == stop_id)\n",
    "        & (transit_matters_m1.organization_name == organization_name)\n",
    "        & (transit_matters_m1.route_id == route_id)\n",
    "        & (transit_matters_m1.stop_sequence == stop_sequence)\n",
    "    ]\n",
    "    print(\"Transit Matters\")\n",
    "    display(transit_matter)\n",
    "\n",
    "    two_min = final_two_minute.loc[\n",
    "        (final_two_minute.stop_id == stop_id)\n",
    "        & (final_two_minute.organization_name == organization_name)\n",
    "        & (final_two_minute.route_id == route_id)\n",
    "        & (final_two_minute.stop_sequence == stop_sequence)\n",
    "    ]\n",
    "    print(\"Two Minutes\")\n",
    "    display(two_min)\n",
    "    total_trips = trips_routes_times5.loc[\n",
    "        (trips_routes_times5.stop_id == stop_id)\n",
    "        & (trips_routes_times5.organization_name == organization_name)\n",
    "        & (trips_routes_times5.route_id == route_id)\n",
    "        & (trips_routes_times5.stop_sequence == stop_sequence)\n",
    "    ]\n",
    "\n",
    "    og = trips_routes_times.loc[\n",
    "        (trips_routes_times.stop_id == stop_id)\n",
    "        & (trips_routes_times.organization_name == organization_name)\n",
    "        & (trips_routes_times.route_id == route_id)\n",
    "        & (trips_routes_times.stop_sequence == stop_sequence)\n",
    "    ]\n",
    "\n",
    "    display(total_trips.trip_instance_key.nunique())\n",
    "\n",
    "    chart = (\n",
    "        alt.Chart(total_trips)\n",
    "        .mark_circle(size=500)\n",
    "        .encode(\n",
    "            x=\"hour\",\n",
    "            y=\"min\",\n",
    "            color=alt.Color(\n",
    "                \"hour\",\n",
    "                scale=alt.Scale(range=freq_range),\n",
    "            ),\n",
    "            tooltip=[\"hour\", \"min\", \"actual_arrival_lag_min\"],\n",
    "        )\n",
    "        .properties(width=800, height=400)\n",
    "    )\n",
    "    display(chart)\n",
    "    return og, total_trips"
   ]
  },
  {
   "cell_type": "code",
   "execution_count": 148,
   "id": "a0bc1802-dbb4-4250-b312-4b307f66324e",
   "metadata": {},
   "outputs": [
    {
     "name": "stdout",
     "output_type": "stream",
     "text": [
      "Transit Matters\n"
     ]
    },
    {
     "data": {
      "text/html": [
       "<div>\n",
       "<style scoped>\n",
       "    .dataframe tbody tr th:only-of-type {\n",
       "        vertical-align: middle;\n",
       "    }\n",
       "\n",
       "    .dataframe tbody tr th {\n",
       "        vertical-align: top;\n",
       "    }\n",
       "\n",
       "    .dataframe thead th {\n",
       "        text-align: right;\n",
       "    }\n",
       "</style>\n",
       "<table border=\"1\" class=\"dataframe\">\n",
       "  <thead>\n",
       "    <tr style=\"text-align: right;\">\n",
       "      <th></th>\n",
       "      <th>caltrans_district</th>\n",
       "      <th>schedule_gtfs_dataset_key</th>\n",
       "      <th>feed_key</th>\n",
       "      <th>organization_name</th>\n",
       "      <th>route_long_name</th>\n",
       "      <th>route_type</th>\n",
       "      <th>route_id</th>\n",
       "      <th>direction_id</th>\n",
       "      <th>stop_id</th>\n",
       "      <th>stop_sequence</th>\n",
       "      <th>all_trips</th>\n",
       "      <th>per_trip_bunched_per_stop</th>\n",
       "    </tr>\n",
       "  </thead>\n",
       "  <tbody>\n",
       "    <tr>\n",
       "      <th>23883</th>\n",
       "      <td>04 - Oakland</td>\n",
       "      <td>fb467982dcc77a7f9199bebe709bb700</td>\n",
       "      <td>3fccf089909fbdb3d725a5c15fb062cb</td>\n",
       "      <td>Santa Clara Valley Transportation Authority</td>\n",
       "      <td>Moffett Field - West Valley Coll</td>\n",
       "      <td>Bus</td>\n",
       "      <td>51</td>\n",
       "      <td>0.00</td>\n",
       "      <td>62078</td>\n",
       "      <td>13</td>\n",
       "      <td>3.00</td>\n",
       "      <td>66.67</td>\n",
       "    </tr>\n",
       "  </tbody>\n",
       "</table>\n",
       "</div>"
      ],
      "text/plain": [
       "      caltrans_district         schedule_gtfs_dataset_key  \\\n",
       "23883      04 - Oakland  fb467982dcc77a7f9199bebe709bb700   \n",
       "\n",
       "                               feed_key  \\\n",
       "23883  3fccf089909fbdb3d725a5c15fb062cb   \n",
       "\n",
       "                                 organization_name  \\\n",
       "23883  Santa Clara Valley Transportation Authority   \n",
       "\n",
       "                        route_long_name route_type route_id  direction_id  \\\n",
       "23883  Moffett Field - West Valley Coll        Bus       51          0.00   \n",
       "\n",
       "      stop_id  stop_sequence  all_trips  per_trip_bunched_per_stop  \n",
       "23883   62078             13       3.00                      66.67  "
      ]
     },
     "metadata": {},
     "output_type": "display_data"
    },
    {
     "name": "stdout",
     "output_type": "stream",
     "text": [
      "Two Minutes\n"
     ]
    },
    {
     "data": {
      "text/html": [
       "<div>\n",
       "<style scoped>\n",
       "    .dataframe tbody tr th:only-of-type {\n",
       "        vertical-align: middle;\n",
       "    }\n",
       "\n",
       "    .dataframe tbody tr th {\n",
       "        vertical-align: top;\n",
       "    }\n",
       "\n",
       "    .dataframe thead th {\n",
       "        text-align: right;\n",
       "    }\n",
       "</style>\n",
       "<table border=\"1\" class=\"dataframe\">\n",
       "  <thead>\n",
       "    <tr style=\"text-align: right;\">\n",
       "      <th></th>\n",
       "      <th>caltrans_district</th>\n",
       "      <th>schedule_gtfs_dataset_key</th>\n",
       "      <th>feed_key</th>\n",
       "      <th>organization_name</th>\n",
       "      <th>route_long_name</th>\n",
       "      <th>route_type</th>\n",
       "      <th>route_id</th>\n",
       "      <th>direction_id</th>\n",
       "      <th>stop_id</th>\n",
       "      <th>stop_sequence</th>\n",
       "      <th>all_trips</th>\n",
       "      <th>per_trip_bunched_per_stop</th>\n",
       "    </tr>\n",
       "  </thead>\n",
       "  <tbody>\n",
       "    <tr>\n",
       "      <th>23883</th>\n",
       "      <td>04 - Oakland</td>\n",
       "      <td>fb467982dcc77a7f9199bebe709bb700</td>\n",
       "      <td>3fccf089909fbdb3d725a5c15fb062cb</td>\n",
       "      <td>Santa Clara Valley Transportation Authority</td>\n",
       "      <td>Moffett Field - West Valley Coll</td>\n",
       "      <td>Bus</td>\n",
       "      <td>51</td>\n",
       "      <td>0.00</td>\n",
       "      <td>62078</td>\n",
       "      <td>13</td>\n",
       "      <td>3.00</td>\n",
       "      <td>33.33</td>\n",
       "    </tr>\n",
       "  </tbody>\n",
       "</table>\n",
       "</div>"
      ],
      "text/plain": [
       "      caltrans_district         schedule_gtfs_dataset_key  \\\n",
       "23883      04 - Oakland  fb467982dcc77a7f9199bebe709bb700   \n",
       "\n",
       "                               feed_key  \\\n",
       "23883  3fccf089909fbdb3d725a5c15fb062cb   \n",
       "\n",
       "                                 organization_name  \\\n",
       "23883  Santa Clara Valley Transportation Authority   \n",
       "\n",
       "                        route_long_name route_type route_id  direction_id  \\\n",
       "23883  Moffett Field - West Valley Coll        Bus       51          0.00   \n",
       "\n",
       "      stop_id  stop_sequence  all_trips  per_trip_bunched_per_stop  \n",
       "23883   62078             13       3.00                      33.33  "
      ]
     },
     "metadata": {},
     "output_type": "display_data"
    },
    {
     "data": {
      "text/plain": [
       "3"
      ]
     },
     "metadata": {},
     "output_type": "display_data"
    },
    {
     "data": {
      "text/html": [
       "\n",
       "<style>\n",
       "  #altair-viz-6f10e9ec2c5849c78a31b1d260d8c456.vega-embed {\n",
       "    width: 100%;\n",
       "    display: flex;\n",
       "  }\n",
       "\n",
       "  #altair-viz-6f10e9ec2c5849c78a31b1d260d8c456.vega-embed details,\n",
       "  #altair-viz-6f10e9ec2c5849c78a31b1d260d8c456.vega-embed details summary {\n",
       "    position: relative;\n",
       "  }\n",
       "</style>\n",
       "<div id=\"altair-viz-6f10e9ec2c5849c78a31b1d260d8c456\"></div>\n",
       "<script type=\"text/javascript\">\n",
       "  var VEGA_DEBUG = (typeof VEGA_DEBUG == \"undefined\") ? {} : VEGA_DEBUG;\n",
       "  (function(spec, embedOpt){\n",
       "    let outputDiv = document.currentScript.previousElementSibling;\n",
       "    if (outputDiv.id !== \"altair-viz-6f10e9ec2c5849c78a31b1d260d8c456\") {\n",
       "      outputDiv = document.getElementById(\"altair-viz-6f10e9ec2c5849c78a31b1d260d8c456\");\n",
       "    }\n",
       "    const paths = {\n",
       "      \"vega\": \"https://cdn.jsdelivr.net/npm/vega@5?noext\",\n",
       "      \"vega-lib\": \"https://cdn.jsdelivr.net/npm/vega-lib?noext\",\n",
       "      \"vega-lite\": \"https://cdn.jsdelivr.net/npm/vega-lite@5.17.0?noext\",\n",
       "      \"vega-embed\": \"https://cdn.jsdelivr.net/npm/vega-embed@6?noext\",\n",
       "    };\n",
       "\n",
       "    function maybeLoadScript(lib, version) {\n",
       "      var key = `${lib.replace(\"-\", \"\")}_version`;\n",
       "      return (VEGA_DEBUG[key] == version) ?\n",
       "        Promise.resolve(paths[lib]) :\n",
       "        new Promise(function(resolve, reject) {\n",
       "          var s = document.createElement('script');\n",
       "          document.getElementsByTagName(\"head\")[0].appendChild(s);\n",
       "          s.async = true;\n",
       "          s.onload = () => {\n",
       "            VEGA_DEBUG[key] = version;\n",
       "            return resolve(paths[lib]);\n",
       "          };\n",
       "          s.onerror = () => reject(`Error loading script: ${paths[lib]}`);\n",
       "          s.src = paths[lib];\n",
       "        });\n",
       "    }\n",
       "\n",
       "    function showError(err) {\n",
       "      outputDiv.innerHTML = `<div class=\"error\" style=\"color:red;\">${err}</div>`;\n",
       "      throw err;\n",
       "    }\n",
       "\n",
       "    function displayChart(vegaEmbed) {\n",
       "      vegaEmbed(outputDiv, spec, embedOpt)\n",
       "        .catch(err => showError(`Javascript Error: ${err.message}<br>This usually means there's a typo in your chart specification. See the javascript console for the full traceback.`));\n",
       "    }\n",
       "\n",
       "    if(typeof define === \"function\" && define.amd) {\n",
       "      requirejs.config({paths});\n",
       "      require([\"vega-embed\"], displayChart, err => showError(`Error loading script: ${err.message}`));\n",
       "    } else {\n",
       "      maybeLoadScript(\"vega\", \"5\")\n",
       "        .then(() => maybeLoadScript(\"vega-lite\", \"5.17.0\"))\n",
       "        .then(() => maybeLoadScript(\"vega-embed\", \"6\"))\n",
       "        .catch(showError)\n",
       "        .then(() => displayChart(vegaEmbed));\n",
       "    }\n",
       "  })({\"config\": {\"view\": {\"continuousWidth\": 300, \"continuousHeight\": 300}}, \"data\": {\"name\": \"data-f2a60dd272a46cf070fe931d19e7243f\"}, \"mark\": {\"type\": \"circle\", \"size\": 500}, \"encoding\": {\"color\": {\"field\": \"hour\", \"scale\": {\"range\": [\"#ccbb44\", \"#e9d868\", \"#fcb40e\", \"#ff9c42\", \"#fc5c04\", \"#dd217d\", \"#dd217d\", \"#dd217d\"]}, \"type\": \"quantitative\"}, \"tooltip\": [{\"field\": \"hour\", \"type\": \"quantitative\"}, {\"field\": \"min\", \"type\": \"quantitative\"}, {\"field\": \"actual_arrival_lag_min\", \"type\": \"quantitative\"}], \"x\": {\"field\": \"hour\", \"type\": \"quantitative\"}, \"y\": {\"field\": \"min\", \"type\": \"quantitative\"}}, \"height\": 400, \"width\": 800, \"$schema\": \"https://vega.github.io/schema/vega-lite/v5.17.0.json\", \"datasets\": {\"data-f2a60dd272a46cf070fe931d19e7243f\": [{\"caltrans_district\": \"04 - Oakland\", \"schedule_gtfs_dataset_key\": \"fb467982dcc77a7f9199bebe709bb700\", \"feed_key\": \"3fccf089909fbdb3d725a5c15fb062cb\", \"organization_name\": \"Santa Clara Valley Transportation Authority\", \"route_long_name\": \"Moffett Field - West Valley Coll\", \"route_type\": \"Bus\", \"route_id\": \"51\", \"direction_id\": 0.0, \"stop_id\": \"62078\", \"stop_sequence\": 13, \"trip_instance_key\": \"26edafab428cb3c31f31bd267ed3010b\", \"rt_arrival_sec\": 56336, \"scheduled_arrival_sec\": 56066.0, \"converted_rt_arrival\": \"2024-05-22T15:38:56\", \"converted_schd_arrival\": \"2024-05-22T15:34:26\", \"actual_arrival_lag_min\": null, \"scheduled_arrival_lag_min\": null, \"hour\": 15, \"min\": 38}, {\"caltrans_district\": \"04 - Oakland\", \"schedule_gtfs_dataset_key\": \"fb467982dcc77a7f9199bebe709bb700\", \"feed_key\": \"3fccf089909fbdb3d725a5c15fb062cb\", \"organization_name\": \"Santa Clara Valley Transportation Authority\", \"route_long_name\": \"Moffett Field - West Valley Coll\", \"route_type\": \"Bus\", \"route_id\": \"51\", \"direction_id\": 0.0, \"stop_id\": \"62078\", \"stop_sequence\": 13, \"trip_instance_key\": \"a7b3fdea2a6fad64a6db9a3607d1013f\", \"rt_arrival_sec\": 56362, \"scheduled_arrival_sec\": 55766.0, \"converted_rt_arrival\": \"2024-05-22T15:39:22\", \"converted_schd_arrival\": \"2024-05-22T15:29:26\", \"actual_arrival_lag_min\": 0.43333333333333335, \"scheduled_arrival_lag_min\": -5.0, \"hour\": 15, \"min\": 39}, {\"caltrans_district\": \"04 - Oakland\", \"schedule_gtfs_dataset_key\": \"fb467982dcc77a7f9199bebe709bb700\", \"feed_key\": \"3fccf089909fbdb3d725a5c15fb062cb\", \"organization_name\": \"Santa Clara Valley Transportation Authority\", \"route_long_name\": \"Moffett Field - West Valley Coll\", \"route_type\": \"Bus\", \"route_id\": \"51\", \"direction_id\": 0.0, \"stop_id\": \"62078\", \"stop_sequence\": 13, \"trip_instance_key\": \"6b2e2a8d39427cb02eb612368788f395\", \"rt_arrival_sec\": 56834, \"scheduled_arrival_sec\": 55526.0, \"converted_rt_arrival\": \"2024-05-22T15:47:14\", \"converted_schd_arrival\": \"2024-05-22T15:25:26\", \"actual_arrival_lag_min\": 7.866666666666666, \"scheduled_arrival_lag_min\": -4.0, \"hour\": 15, \"min\": 47}]}}, {\"mode\": \"vega-lite\"});\n",
       "</script>"
      ],
      "text/plain": [
       "alt.Chart(...)"
      ]
     },
     "metadata": {},
     "output_type": "display_data"
    }
   ],
   "source": [
    "df_stc1, df_stc2 = compare_approaches(\n",
    "    stop_id=\"62078\",\n",
    "    organization_name=\"Santa Clara Valley Transportation Authority\",\n",
    "    route_id=\"51\",\n",
    "    stop_sequence=13,\n",
    ")"
   ]
  },
  {
   "cell_type": "code",
   "execution_count": 149,
   "id": "56182b10-921c-4ab4-9fd2-0ec2dd5c6be9",
   "metadata": {},
   "outputs": [
    {
     "name": "stdout",
     "output_type": "stream",
     "text": [
      "Transit Matters\n"
     ]
    },
    {
     "data": {
      "text/html": [
       "<div>\n",
       "<style scoped>\n",
       "    .dataframe tbody tr th:only-of-type {\n",
       "        vertical-align: middle;\n",
       "    }\n",
       "\n",
       "    .dataframe tbody tr th {\n",
       "        vertical-align: top;\n",
       "    }\n",
       "\n",
       "    .dataframe thead th {\n",
       "        text-align: right;\n",
       "    }\n",
       "</style>\n",
       "<table border=\"1\" class=\"dataframe\">\n",
       "  <thead>\n",
       "    <tr style=\"text-align: right;\">\n",
       "      <th></th>\n",
       "      <th>caltrans_district</th>\n",
       "      <th>schedule_gtfs_dataset_key</th>\n",
       "      <th>feed_key</th>\n",
       "      <th>organization_name</th>\n",
       "      <th>route_long_name</th>\n",
       "      <th>route_type</th>\n",
       "      <th>route_id</th>\n",
       "      <th>direction_id</th>\n",
       "      <th>stop_id</th>\n",
       "      <th>stop_sequence</th>\n",
       "      <th>all_trips</th>\n",
       "      <th>per_trip_bunched_per_stop</th>\n",
       "    </tr>\n",
       "  </thead>\n",
       "  <tbody>\n",
       "    <tr>\n",
       "      <th>84689</th>\n",
       "      <td>07 - Los Angeles</td>\n",
       "      <td>f74424acf8c41e4c1e9fd42838c4875c</td>\n",
       "      <td>96358f776e5fcd8d2b6066507aed6645</td>\n",
       "      <td>City of Duarte</td>\n",
       "      <td>Montclair-Pomona- El Monte- L.A.</td>\n",
       "      <td>Bus</td>\n",
       "      <td>707</td>\n",
       "      <td>0.00</td>\n",
       "      <td>2665</td>\n",
       "      <td>3696</td>\n",
       "      <td>2.00</td>\n",
       "      <td>50.00</td>\n",
       "    </tr>\n",
       "  </tbody>\n",
       "</table>\n",
       "</div>"
      ],
      "text/plain": [
       "      caltrans_district         schedule_gtfs_dataset_key  \\\n",
       "84689  07 - Los Angeles  f74424acf8c41e4c1e9fd42838c4875c   \n",
       "\n",
       "                               feed_key organization_name  \\\n",
       "84689  96358f776e5fcd8d2b6066507aed6645    City of Duarte   \n",
       "\n",
       "                        route_long_name route_type route_id  direction_id  \\\n",
       "84689  Montclair-Pomona- El Monte- L.A.        Bus      707          0.00   \n",
       "\n",
       "      stop_id  stop_sequence  all_trips  per_trip_bunched_per_stop  \n",
       "84689    2665           3696       2.00                      50.00  "
      ]
     },
     "metadata": {},
     "output_type": "display_data"
    },
    {
     "name": "stdout",
     "output_type": "stream",
     "text": [
      "Two Minutes\n"
     ]
    },
    {
     "data": {
      "text/html": [
       "<div>\n",
       "<style scoped>\n",
       "    .dataframe tbody tr th:only-of-type {\n",
       "        vertical-align: middle;\n",
       "    }\n",
       "\n",
       "    .dataframe tbody tr th {\n",
       "        vertical-align: top;\n",
       "    }\n",
       "\n",
       "    .dataframe thead th {\n",
       "        text-align: right;\n",
       "    }\n",
       "</style>\n",
       "<table border=\"1\" class=\"dataframe\">\n",
       "  <thead>\n",
       "    <tr style=\"text-align: right;\">\n",
       "      <th></th>\n",
       "      <th>caltrans_district</th>\n",
       "      <th>schedule_gtfs_dataset_key</th>\n",
       "      <th>feed_key</th>\n",
       "      <th>organization_name</th>\n",
       "      <th>route_long_name</th>\n",
       "      <th>route_type</th>\n",
       "      <th>route_id</th>\n",
       "      <th>direction_id</th>\n",
       "      <th>stop_id</th>\n",
       "      <th>stop_sequence</th>\n",
       "      <th>all_trips</th>\n",
       "      <th>per_trip_bunched_per_stop</th>\n",
       "    </tr>\n",
       "  </thead>\n",
       "  <tbody>\n",
       "    <tr>\n",
       "      <th>84689</th>\n",
       "      <td>07 - Los Angeles</td>\n",
       "      <td>f74424acf8c41e4c1e9fd42838c4875c</td>\n",
       "      <td>96358f776e5fcd8d2b6066507aed6645</td>\n",
       "      <td>City of Duarte</td>\n",
       "      <td>Montclair-Pomona- El Monte- L.A.</td>\n",
       "      <td>Bus</td>\n",
       "      <td>707</td>\n",
       "      <td>0.00</td>\n",
       "      <td>2665</td>\n",
       "      <td>3696</td>\n",
       "      <td>2.00</td>\n",
       "      <td>50.00</td>\n",
       "    </tr>\n",
       "  </tbody>\n",
       "</table>\n",
       "</div>"
      ],
      "text/plain": [
       "      caltrans_district         schedule_gtfs_dataset_key  \\\n",
       "84689  07 - Los Angeles  f74424acf8c41e4c1e9fd42838c4875c   \n",
       "\n",
       "                               feed_key organization_name  \\\n",
       "84689  96358f776e5fcd8d2b6066507aed6645    City of Duarte   \n",
       "\n",
       "                        route_long_name route_type route_id  direction_id  \\\n",
       "84689  Montclair-Pomona- El Monte- L.A.        Bus      707          0.00   \n",
       "\n",
       "      stop_id  stop_sequence  all_trips  per_trip_bunched_per_stop  \n",
       "84689    2665           3696       2.00                      50.00  "
      ]
     },
     "metadata": {},
     "output_type": "display_data"
    },
    {
     "data": {
      "text/plain": [
       "2"
      ]
     },
     "metadata": {},
     "output_type": "display_data"
    },
    {
     "data": {
      "text/html": [
       "\n",
       "<style>\n",
       "  #altair-viz-c4f7936fc36a4942895a001c1aba1171.vega-embed {\n",
       "    width: 100%;\n",
       "    display: flex;\n",
       "  }\n",
       "\n",
       "  #altair-viz-c4f7936fc36a4942895a001c1aba1171.vega-embed details,\n",
       "  #altair-viz-c4f7936fc36a4942895a001c1aba1171.vega-embed details summary {\n",
       "    position: relative;\n",
       "  }\n",
       "</style>\n",
       "<div id=\"altair-viz-c4f7936fc36a4942895a001c1aba1171\"></div>\n",
       "<script type=\"text/javascript\">\n",
       "  var VEGA_DEBUG = (typeof VEGA_DEBUG == \"undefined\") ? {} : VEGA_DEBUG;\n",
       "  (function(spec, embedOpt){\n",
       "    let outputDiv = document.currentScript.previousElementSibling;\n",
       "    if (outputDiv.id !== \"altair-viz-c4f7936fc36a4942895a001c1aba1171\") {\n",
       "      outputDiv = document.getElementById(\"altair-viz-c4f7936fc36a4942895a001c1aba1171\");\n",
       "    }\n",
       "    const paths = {\n",
       "      \"vega\": \"https://cdn.jsdelivr.net/npm/vega@5?noext\",\n",
       "      \"vega-lib\": \"https://cdn.jsdelivr.net/npm/vega-lib?noext\",\n",
       "      \"vega-lite\": \"https://cdn.jsdelivr.net/npm/vega-lite@5.17.0?noext\",\n",
       "      \"vega-embed\": \"https://cdn.jsdelivr.net/npm/vega-embed@6?noext\",\n",
       "    };\n",
       "\n",
       "    function maybeLoadScript(lib, version) {\n",
       "      var key = `${lib.replace(\"-\", \"\")}_version`;\n",
       "      return (VEGA_DEBUG[key] == version) ?\n",
       "        Promise.resolve(paths[lib]) :\n",
       "        new Promise(function(resolve, reject) {\n",
       "          var s = document.createElement('script');\n",
       "          document.getElementsByTagName(\"head\")[0].appendChild(s);\n",
       "          s.async = true;\n",
       "          s.onload = () => {\n",
       "            VEGA_DEBUG[key] = version;\n",
       "            return resolve(paths[lib]);\n",
       "          };\n",
       "          s.onerror = () => reject(`Error loading script: ${paths[lib]}`);\n",
       "          s.src = paths[lib];\n",
       "        });\n",
       "    }\n",
       "\n",
       "    function showError(err) {\n",
       "      outputDiv.innerHTML = `<div class=\"error\" style=\"color:red;\">${err}</div>`;\n",
       "      throw err;\n",
       "    }\n",
       "\n",
       "    function displayChart(vegaEmbed) {\n",
       "      vegaEmbed(outputDiv, spec, embedOpt)\n",
       "        .catch(err => showError(`Javascript Error: ${err.message}<br>This usually means there's a typo in your chart specification. See the javascript console for the full traceback.`));\n",
       "    }\n",
       "\n",
       "    if(typeof define === \"function\" && define.amd) {\n",
       "      requirejs.config({paths});\n",
       "      require([\"vega-embed\"], displayChart, err => showError(`Error loading script: ${err.message}`));\n",
       "    } else {\n",
       "      maybeLoadScript(\"vega\", \"5\")\n",
       "        .then(() => maybeLoadScript(\"vega-lite\", \"5.17.0\"))\n",
       "        .then(() => maybeLoadScript(\"vega-embed\", \"6\"))\n",
       "        .catch(showError)\n",
       "        .then(() => displayChart(vegaEmbed));\n",
       "    }\n",
       "  })({\"config\": {\"view\": {\"continuousWidth\": 300, \"continuousHeight\": 300}}, \"data\": {\"name\": \"data-05d0cedbff088335796112e29b0667ad\"}, \"mark\": {\"type\": \"circle\", \"size\": 500}, \"encoding\": {\"color\": {\"field\": \"hour\", \"scale\": {\"range\": [\"#ccbb44\", \"#e9d868\", \"#fcb40e\", \"#ff9c42\", \"#fc5c04\", \"#dd217d\", \"#dd217d\", \"#dd217d\"]}, \"type\": \"quantitative\"}, \"tooltip\": [{\"field\": \"hour\", \"type\": \"quantitative\"}, {\"field\": \"min\", \"type\": \"quantitative\"}, {\"field\": \"actual_arrival_lag_min\", \"type\": \"quantitative\"}], \"x\": {\"field\": \"hour\", \"type\": \"quantitative\"}, \"y\": {\"field\": \"min\", \"type\": \"quantitative\"}}, \"height\": 400, \"width\": 800, \"$schema\": \"https://vega.github.io/schema/vega-lite/v5.17.0.json\", \"datasets\": {\"data-05d0cedbff088335796112e29b0667ad\": [{\"caltrans_district\": \"07 - Los Angeles\", \"schedule_gtfs_dataset_key\": \"f74424acf8c41e4c1e9fd42838c4875c\", \"feed_key\": \"96358f776e5fcd8d2b6066507aed6645\", \"organization_name\": \"City of Duarte\", \"route_long_name\": \"Montclair-Pomona- El Monte- L.A.\", \"route_type\": \"Bus\", \"route_id\": \"707\", \"direction_id\": 0.0, \"stop_id\": \"2665\", \"stop_sequence\": 3696, \"trip_instance_key\": \"2715d5782ca784477f6b0f908e187407\", \"rt_arrival_sec\": 63267, \"scheduled_arrival_sec\": 61356.0, \"converted_rt_arrival\": \"2024-05-22T17:34:27\", \"converted_schd_arrival\": \"2024-05-22T17:02:36\", \"actual_arrival_lag_min\": null, \"scheduled_arrival_lag_min\": null, \"hour\": 17, \"min\": 34}, {\"caltrans_district\": \"07 - Los Angeles\", \"schedule_gtfs_dataset_key\": \"f74424acf8c41e4c1e9fd42838c4875c\", \"feed_key\": \"96358f776e5fcd8d2b6066507aed6645\", \"organization_name\": \"City of Duarte\", \"route_long_name\": \"Montclair-Pomona- El Monte- L.A.\", \"route_type\": \"Bus\", \"route_id\": \"707\", \"direction_id\": 0.0, \"stop_id\": \"2665\", \"stop_sequence\": 3696, \"trip_instance_key\": \"ec6da0c31365ce24abfdce8d57137f6a\", \"rt_arrival_sec\": 63278, \"scheduled_arrival_sec\": 62256.0, \"converted_rt_arrival\": \"2024-05-22T17:34:38\", \"converted_schd_arrival\": \"2024-05-22T17:17:36\", \"actual_arrival_lag_min\": 0.18333333333333332, \"scheduled_arrival_lag_min\": 15.0, \"hour\": 17, \"min\": 34}]}}, {\"mode\": \"vega-lite\"});\n",
       "</script>"
      ],
      "text/plain": [
       "alt.Chart(...)"
      ]
     },
     "metadata": {},
     "output_type": "display_data"
    }
   ],
   "source": [
    "df_duarte1, df_duarte2 = compare_approaches(\n",
    "    stop_id=\"2665\",\n",
    "    organization_name=\"City of Duarte\",\n",
    "    route_id=\"707\",\n",
    "    stop_sequence=3696,\n",
    ")"
   ]
  },
  {
   "cell_type": "code",
   "execution_count": 150,
   "id": "6486f4bf-890d-45ae-b6dc-8c938171a466",
   "metadata": {},
   "outputs": [
    {
     "name": "stdout",
     "output_type": "stream",
     "text": [
      "Transit Matters\n"
     ]
    },
    {
     "data": {
      "text/html": [
       "<div>\n",
       "<style scoped>\n",
       "    .dataframe tbody tr th:only-of-type {\n",
       "        vertical-align: middle;\n",
       "    }\n",
       "\n",
       "    .dataframe tbody tr th {\n",
       "        vertical-align: top;\n",
       "    }\n",
       "\n",
       "    .dataframe thead th {\n",
       "        text-align: right;\n",
       "    }\n",
       "</style>\n",
       "<table border=\"1\" class=\"dataframe\">\n",
       "  <thead>\n",
       "    <tr style=\"text-align: right;\">\n",
       "      <th></th>\n",
       "      <th>caltrans_district</th>\n",
       "      <th>schedule_gtfs_dataset_key</th>\n",
       "      <th>feed_key</th>\n",
       "      <th>organization_name</th>\n",
       "      <th>route_long_name</th>\n",
       "      <th>route_type</th>\n",
       "      <th>route_id</th>\n",
       "      <th>direction_id</th>\n",
       "      <th>stop_id</th>\n",
       "      <th>stop_sequence</th>\n",
       "      <th>all_trips</th>\n",
       "      <th>per_trip_bunched_per_stop</th>\n",
       "    </tr>\n",
       "  </thead>\n",
       "  <tbody>\n",
       "    <tr>\n",
       "      <th>30183</th>\n",
       "      <td>06 - Fresno</td>\n",
       "      <td>3bda4652977200408690059ef2ec4b4d</td>\n",
       "      <td>0e89d1fd3bd2a09bbbd0d4f79ea5663b</td>\n",
       "      <td>City of Visalia</td>\n",
       "      <td>Route 9</td>\n",
       "      <td>Bus</td>\n",
       "      <td>2042</td>\n",
       "      <td>1.00</td>\n",
       "      <td>2307469</td>\n",
       "      <td>27</td>\n",
       "      <td>16.00</td>\n",
       "      <td>18.75</td>\n",
       "    </tr>\n",
       "  </tbody>\n",
       "</table>\n",
       "</div>"
      ],
      "text/plain": [
       "      caltrans_district         schedule_gtfs_dataset_key  \\\n",
       "30183       06 - Fresno  3bda4652977200408690059ef2ec4b4d   \n",
       "\n",
       "                               feed_key organization_name route_long_name  \\\n",
       "30183  0e89d1fd3bd2a09bbbd0d4f79ea5663b   City of Visalia         Route 9   \n",
       "\n",
       "      route_type route_id  direction_id  stop_id  stop_sequence  all_trips  \\\n",
       "30183        Bus     2042          1.00  2307469             27      16.00   \n",
       "\n",
       "       per_trip_bunched_per_stop  \n",
       "30183                      18.75  "
      ]
     },
     "metadata": {},
     "output_type": "display_data"
    },
    {
     "name": "stdout",
     "output_type": "stream",
     "text": [
      "Two Minutes\n"
     ]
    },
    {
     "data": {
      "text/html": [
       "<div>\n",
       "<style scoped>\n",
       "    .dataframe tbody tr th:only-of-type {\n",
       "        vertical-align: middle;\n",
       "    }\n",
       "\n",
       "    .dataframe tbody tr th {\n",
       "        vertical-align: top;\n",
       "    }\n",
       "\n",
       "    .dataframe thead th {\n",
       "        text-align: right;\n",
       "    }\n",
       "</style>\n",
       "<table border=\"1\" class=\"dataframe\">\n",
       "  <thead>\n",
       "    <tr style=\"text-align: right;\">\n",
       "      <th></th>\n",
       "      <th>caltrans_district</th>\n",
       "      <th>schedule_gtfs_dataset_key</th>\n",
       "      <th>feed_key</th>\n",
       "      <th>organization_name</th>\n",
       "      <th>route_long_name</th>\n",
       "      <th>route_type</th>\n",
       "      <th>route_id</th>\n",
       "      <th>direction_id</th>\n",
       "      <th>stop_id</th>\n",
       "      <th>stop_sequence</th>\n",
       "      <th>all_trips</th>\n",
       "      <th>per_trip_bunched_per_stop</th>\n",
       "    </tr>\n",
       "  </thead>\n",
       "  <tbody>\n",
       "    <tr>\n",
       "      <th>30183</th>\n",
       "      <td>06 - Fresno</td>\n",
       "      <td>3bda4652977200408690059ef2ec4b4d</td>\n",
       "      <td>0e89d1fd3bd2a09bbbd0d4f79ea5663b</td>\n",
       "      <td>City of Visalia</td>\n",
       "      <td>Route 9</td>\n",
       "      <td>Bus</td>\n",
       "      <td>2042</td>\n",
       "      <td>1.00</td>\n",
       "      <td>2307469</td>\n",
       "      <td>27</td>\n",
       "      <td>16.00</td>\n",
       "      <td>0.00</td>\n",
       "    </tr>\n",
       "  </tbody>\n",
       "</table>\n",
       "</div>"
      ],
      "text/plain": [
       "      caltrans_district         schedule_gtfs_dataset_key  \\\n",
       "30183       06 - Fresno  3bda4652977200408690059ef2ec4b4d   \n",
       "\n",
       "                               feed_key organization_name route_long_name  \\\n",
       "30183  0e89d1fd3bd2a09bbbd0d4f79ea5663b   City of Visalia         Route 9   \n",
       "\n",
       "      route_type route_id  direction_id  stop_id  stop_sequence  all_trips  \\\n",
       "30183        Bus     2042          1.00  2307469             27      16.00   \n",
       "\n",
       "       per_trip_bunched_per_stop  \n",
       "30183                       0.00  "
      ]
     },
     "metadata": {},
     "output_type": "display_data"
    },
    {
     "data": {
      "text/plain": [
       "16"
      ]
     },
     "metadata": {},
     "output_type": "display_data"
    },
    {
     "data": {
      "text/html": [
       "\n",
       "<style>\n",
       "  #altair-viz-23f5d8e6c414449ea7fcff843121e2b4.vega-embed {\n",
       "    width: 100%;\n",
       "    display: flex;\n",
       "  }\n",
       "\n",
       "  #altair-viz-23f5d8e6c414449ea7fcff843121e2b4.vega-embed details,\n",
       "  #altair-viz-23f5d8e6c414449ea7fcff843121e2b4.vega-embed details summary {\n",
       "    position: relative;\n",
       "  }\n",
       "</style>\n",
       "<div id=\"altair-viz-23f5d8e6c414449ea7fcff843121e2b4\"></div>\n",
       "<script type=\"text/javascript\">\n",
       "  var VEGA_DEBUG = (typeof VEGA_DEBUG == \"undefined\") ? {} : VEGA_DEBUG;\n",
       "  (function(spec, embedOpt){\n",
       "    let outputDiv = document.currentScript.previousElementSibling;\n",
       "    if (outputDiv.id !== \"altair-viz-23f5d8e6c414449ea7fcff843121e2b4\") {\n",
       "      outputDiv = document.getElementById(\"altair-viz-23f5d8e6c414449ea7fcff843121e2b4\");\n",
       "    }\n",
       "    const paths = {\n",
       "      \"vega\": \"https://cdn.jsdelivr.net/npm/vega@5?noext\",\n",
       "      \"vega-lib\": \"https://cdn.jsdelivr.net/npm/vega-lib?noext\",\n",
       "      \"vega-lite\": \"https://cdn.jsdelivr.net/npm/vega-lite@5.17.0?noext\",\n",
       "      \"vega-embed\": \"https://cdn.jsdelivr.net/npm/vega-embed@6?noext\",\n",
       "    };\n",
       "\n",
       "    function maybeLoadScript(lib, version) {\n",
       "      var key = `${lib.replace(\"-\", \"\")}_version`;\n",
       "      return (VEGA_DEBUG[key] == version) ?\n",
       "        Promise.resolve(paths[lib]) :\n",
       "        new Promise(function(resolve, reject) {\n",
       "          var s = document.createElement('script');\n",
       "          document.getElementsByTagName(\"head\")[0].appendChild(s);\n",
       "          s.async = true;\n",
       "          s.onload = () => {\n",
       "            VEGA_DEBUG[key] = version;\n",
       "            return resolve(paths[lib]);\n",
       "          };\n",
       "          s.onerror = () => reject(`Error loading script: ${paths[lib]}`);\n",
       "          s.src = paths[lib];\n",
       "        });\n",
       "    }\n",
       "\n",
       "    function showError(err) {\n",
       "      outputDiv.innerHTML = `<div class=\"error\" style=\"color:red;\">${err}</div>`;\n",
       "      throw err;\n",
       "    }\n",
       "\n",
       "    function displayChart(vegaEmbed) {\n",
       "      vegaEmbed(outputDiv, spec, embedOpt)\n",
       "        .catch(err => showError(`Javascript Error: ${err.message}<br>This usually means there's a typo in your chart specification. See the javascript console for the full traceback.`));\n",
       "    }\n",
       "\n",
       "    if(typeof define === \"function\" && define.amd) {\n",
       "      requirejs.config({paths});\n",
       "      require([\"vega-embed\"], displayChart, err => showError(`Error loading script: ${err.message}`));\n",
       "    } else {\n",
       "      maybeLoadScript(\"vega\", \"5\")\n",
       "        .then(() => maybeLoadScript(\"vega-lite\", \"5.17.0\"))\n",
       "        .then(() => maybeLoadScript(\"vega-embed\", \"6\"))\n",
       "        .catch(showError)\n",
       "        .then(() => displayChart(vegaEmbed));\n",
       "    }\n",
       "  })({\"config\": {\"view\": {\"continuousWidth\": 300, \"continuousHeight\": 300}}, \"data\": {\"name\": \"data-f943bbd0509691d6101f661fb5fefef4\"}, \"mark\": {\"type\": \"circle\", \"size\": 500}, \"encoding\": {\"color\": {\"field\": \"hour\", \"scale\": {\"range\": [\"#ccbb44\", \"#e9d868\", \"#fcb40e\", \"#ff9c42\", \"#fc5c04\", \"#dd217d\", \"#dd217d\", \"#dd217d\"]}, \"type\": \"quantitative\"}, \"tooltip\": [{\"field\": \"hour\", \"type\": \"quantitative\"}, {\"field\": \"min\", \"type\": \"quantitative\"}, {\"field\": \"actual_arrival_lag_min\", \"type\": \"quantitative\"}], \"x\": {\"field\": \"hour\", \"type\": \"quantitative\"}, \"y\": {\"field\": \"min\", \"type\": \"quantitative\"}}, \"height\": 400, \"width\": 800, \"$schema\": \"https://vega.github.io/schema/vega-lite/v5.17.0.json\", \"datasets\": {\"data-f943bbd0509691d6101f661fb5fefef4\": [{\"caltrans_district\": \"06 - Fresno\", \"schedule_gtfs_dataset_key\": \"3bda4652977200408690059ef2ec4b4d\", \"feed_key\": \"0e89d1fd3bd2a09bbbd0d4f79ea5663b\", \"organization_name\": \"City of Visalia\", \"route_long_name\": \"Route 9\", \"route_type\": \"Bus\", \"route_id\": \"2042\", \"direction_id\": 1.0, \"stop_id\": \"2307469\", \"stop_sequence\": 27, \"trip_instance_key\": \"ebd2acc23ee7fe30c9a6bb15d74fd95e\", \"rt_arrival_sec\": 25636, \"scheduled_arrival_sec\": 25980.0, \"converted_rt_arrival\": \"2024-05-22T07:07:16\", \"converted_schd_arrival\": \"2024-05-22T07:13:00\", \"actual_arrival_lag_min\": null, \"scheduled_arrival_lag_min\": null, \"hour\": 7, \"min\": 7}, {\"caltrans_district\": \"06 - Fresno\", \"schedule_gtfs_dataset_key\": \"3bda4652977200408690059ef2ec4b4d\", \"feed_key\": \"0e89d1fd3bd2a09bbbd0d4f79ea5663b\", \"organization_name\": \"City of Visalia\", \"route_long_name\": \"Route 9\", \"route_type\": \"Bus\", \"route_id\": \"2042\", \"direction_id\": 1.0, \"stop_id\": \"2307469\", \"stop_sequence\": 27, \"trip_instance_key\": \"1abb49372a11e2a3364b53db406c84d0\", \"rt_arrival_sec\": 29137, \"scheduled_arrival_sec\": 28680.0, \"converted_rt_arrival\": \"2024-05-22T08:05:37\", \"converted_schd_arrival\": \"2024-05-22T07:58:00\", \"actual_arrival_lag_min\": 58.35, \"scheduled_arrival_lag_min\": 45.0, \"hour\": 8, \"min\": 5}, {\"caltrans_district\": \"06 - Fresno\", \"schedule_gtfs_dataset_key\": \"3bda4652977200408690059ef2ec4b4d\", \"feed_key\": \"0e89d1fd3bd2a09bbbd0d4f79ea5663b\", \"organization_name\": \"City of Visalia\", \"route_long_name\": \"Route 9\", \"route_type\": \"Bus\", \"route_id\": \"2042\", \"direction_id\": 1.0, \"stop_id\": \"2307469\", \"stop_sequence\": 27, \"trip_instance_key\": \"1a298c458762106bce40d869d7785a88\", \"rt_arrival_sec\": 31396, \"scheduled_arrival_sec\": 31380.0, \"converted_rt_arrival\": \"2024-05-22T08:43:16\", \"converted_schd_arrival\": \"2024-05-22T08:43:00\", \"actual_arrival_lag_min\": 37.65, \"scheduled_arrival_lag_min\": 45.0, \"hour\": 8, \"min\": 43}, {\"caltrans_district\": \"06 - Fresno\", \"schedule_gtfs_dataset_key\": \"3bda4652977200408690059ef2ec4b4d\", \"feed_key\": \"0e89d1fd3bd2a09bbbd0d4f79ea5663b\", \"organization_name\": \"City of Visalia\", \"route_long_name\": \"Route 9\", \"route_type\": \"Bus\", \"route_id\": \"2042\", \"direction_id\": 1.0, \"stop_id\": \"2307469\", \"stop_sequence\": 27, \"trip_instance_key\": \"3542873b27c0a9dda855cdc3ce155c81\", \"rt_arrival_sec\": 34144, \"scheduled_arrival_sec\": 34080.0, \"converted_rt_arrival\": \"2024-05-22T09:29:04\", \"converted_schd_arrival\": \"2024-05-22T09:28:00\", \"actual_arrival_lag_min\": 45.8, \"scheduled_arrival_lag_min\": 45.0, \"hour\": 9, \"min\": 29}, {\"caltrans_district\": \"06 - Fresno\", \"schedule_gtfs_dataset_key\": \"3bda4652977200408690059ef2ec4b4d\", \"feed_key\": \"0e89d1fd3bd2a09bbbd0d4f79ea5663b\", \"organization_name\": \"City of Visalia\", \"route_long_name\": \"Route 9\", \"route_type\": \"Bus\", \"route_id\": \"2042\", \"direction_id\": 1.0, \"stop_id\": \"2307469\", \"stop_sequence\": 27, \"trip_instance_key\": \"13f983d49594de2625b1d316f2267be0\", \"rt_arrival_sec\": 36534, \"scheduled_arrival_sec\": 36780.0, \"converted_rt_arrival\": \"2024-05-22T10:08:54\", \"converted_schd_arrival\": \"2024-05-22T10:13:00\", \"actual_arrival_lag_min\": 39.833333333333336, \"scheduled_arrival_lag_min\": 45.0, \"hour\": 10, \"min\": 8}, {\"caltrans_district\": \"06 - Fresno\", \"schedule_gtfs_dataset_key\": \"3bda4652977200408690059ef2ec4b4d\", \"feed_key\": \"0e89d1fd3bd2a09bbbd0d4f79ea5663b\", \"organization_name\": \"City of Visalia\", \"route_long_name\": \"Route 9\", \"route_type\": \"Bus\", \"route_id\": \"2042\", \"direction_id\": 1.0, \"stop_id\": \"2307469\", \"stop_sequence\": 27, \"trip_instance_key\": \"cb80d560ca4f16c4d6a6d1e14ae483c8\", \"rt_arrival_sec\": 39606, \"scheduled_arrival_sec\": 39480.0, \"converted_rt_arrival\": \"2024-05-22T11:00:06\", \"converted_schd_arrival\": \"2024-05-22T10:58:00\", \"actual_arrival_lag_min\": 51.2, \"scheduled_arrival_lag_min\": 45.0, \"hour\": 11, \"min\": 0}, {\"caltrans_district\": \"06 - Fresno\", \"schedule_gtfs_dataset_key\": \"3bda4652977200408690059ef2ec4b4d\", \"feed_key\": \"0e89d1fd3bd2a09bbbd0d4f79ea5663b\", \"organization_name\": \"City of Visalia\", \"route_long_name\": \"Route 9\", \"route_type\": \"Bus\", \"route_id\": \"2042\", \"direction_id\": 1.0, \"stop_id\": \"2307469\", \"stop_sequence\": 27, \"trip_instance_key\": \"bedab96f09bdbe43ff8ab84078b368fe\", \"rt_arrival_sec\": 41795, \"scheduled_arrival_sec\": 42180.0, \"converted_rt_arrival\": \"2024-05-22T11:36:35\", \"converted_schd_arrival\": \"2024-05-22T11:43:00\", \"actual_arrival_lag_min\": 36.483333333333334, \"scheduled_arrival_lag_min\": 45.0, \"hour\": 11, \"min\": 36}, {\"caltrans_district\": \"06 - Fresno\", \"schedule_gtfs_dataset_key\": \"3bda4652977200408690059ef2ec4b4d\", \"feed_key\": \"0e89d1fd3bd2a09bbbd0d4f79ea5663b\", \"organization_name\": \"City of Visalia\", \"route_long_name\": \"Route 9\", \"route_type\": \"Bus\", \"route_id\": \"2042\", \"direction_id\": 1.0, \"stop_id\": \"2307469\", \"stop_sequence\": 27, \"trip_instance_key\": \"bdcf2753cb4418bb13f461899d3a91ac\", \"rt_arrival_sec\": 45072, \"scheduled_arrival_sec\": 44880.0, \"converted_rt_arrival\": \"2024-05-22T12:31:12\", \"converted_schd_arrival\": \"2024-05-22T12:28:00\", \"actual_arrival_lag_min\": 54.61666666666667, \"scheduled_arrival_lag_min\": 45.0, \"hour\": 12, \"min\": 31}, {\"caltrans_district\": \"06 - Fresno\", \"schedule_gtfs_dataset_key\": \"3bda4652977200408690059ef2ec4b4d\", \"feed_key\": \"0e89d1fd3bd2a09bbbd0d4f79ea5663b\", \"organization_name\": \"City of Visalia\", \"route_long_name\": \"Route 9\", \"route_type\": \"Bus\", \"route_id\": \"2042\", \"direction_id\": 1.0, \"stop_id\": \"2307469\", \"stop_sequence\": 27, \"trip_instance_key\": \"f8557763ec11e4c7f0c23d5586e2a2fa\", \"rt_arrival_sec\": 47216, \"scheduled_arrival_sec\": 47580.0, \"converted_rt_arrival\": \"2024-05-22T13:06:56\", \"converted_schd_arrival\": \"2024-05-22T13:13:00\", \"actual_arrival_lag_min\": 35.733333333333334, \"scheduled_arrival_lag_min\": 45.0, \"hour\": 13, \"min\": 6}, {\"caltrans_district\": \"06 - Fresno\", \"schedule_gtfs_dataset_key\": \"3bda4652977200408690059ef2ec4b4d\", \"feed_key\": \"0e89d1fd3bd2a09bbbd0d4f79ea5663b\", \"organization_name\": \"City of Visalia\", \"route_long_name\": \"Route 9\", \"route_type\": \"Bus\", \"route_id\": \"2042\", \"direction_id\": 1.0, \"stop_id\": \"2307469\", \"stop_sequence\": 27, \"trip_instance_key\": \"9fbc41afc158ec85be2e3f303d195754\", \"rt_arrival_sec\": 50079, \"scheduled_arrival_sec\": 50280.0, \"converted_rt_arrival\": \"2024-05-22T13:54:39\", \"converted_schd_arrival\": \"2024-05-22T13:58:00\", \"actual_arrival_lag_min\": 47.71666666666667, \"scheduled_arrival_lag_min\": 45.0, \"hour\": 13, \"min\": 54}, {\"caltrans_district\": \"06 - Fresno\", \"schedule_gtfs_dataset_key\": \"3bda4652977200408690059ef2ec4b4d\", \"feed_key\": \"0e89d1fd3bd2a09bbbd0d4f79ea5663b\", \"organization_name\": \"City of Visalia\", \"route_long_name\": \"Route 9\", \"route_type\": \"Bus\", \"route_id\": \"2042\", \"direction_id\": 1.0, \"stop_id\": \"2307469\", \"stop_sequence\": 27, \"trip_instance_key\": \"979966c89e38bfa273dcb098b549c9be\", \"rt_arrival_sec\": 60737, \"scheduled_arrival_sec\": 61080.0, \"converted_rt_arrival\": \"2024-05-22T16:52:17\", \"converted_schd_arrival\": \"2024-05-22T16:58:00\", \"actual_arrival_lag_min\": 177.63333333333333, \"scheduled_arrival_lag_min\": 180.0, \"hour\": 16, \"min\": 52}, {\"caltrans_district\": \"06 - Fresno\", \"schedule_gtfs_dataset_key\": \"3bda4652977200408690059ef2ec4b4d\", \"feed_key\": \"0e89d1fd3bd2a09bbbd0d4f79ea5663b\", \"organization_name\": \"City of Visalia\", \"route_long_name\": \"Route 9\", \"route_type\": \"Bus\", \"route_id\": \"2042\", \"direction_id\": 1.0, \"stop_id\": \"2307469\", \"stop_sequence\": 27, \"trip_instance_key\": \"4456eb17a98578a2c4f001425b9d1f54\", \"rt_arrival_sec\": 63794, \"scheduled_arrival_sec\": 58380.0, \"converted_rt_arrival\": \"2024-05-22T17:43:14\", \"converted_schd_arrival\": \"2024-05-22T16:13:00\", \"actual_arrival_lag_min\": 50.95, \"scheduled_arrival_lag_min\": -45.0, \"hour\": 17, \"min\": 43}, {\"caltrans_district\": \"06 - Fresno\", \"schedule_gtfs_dataset_key\": \"3bda4652977200408690059ef2ec4b4d\", \"feed_key\": \"0e89d1fd3bd2a09bbbd0d4f79ea5663b\", \"organization_name\": \"City of Visalia\", \"route_long_name\": \"Route 9\", \"route_type\": \"Bus\", \"route_id\": \"2042\", \"direction_id\": 1.0, \"stop_id\": \"2307469\", \"stop_sequence\": 27, \"trip_instance_key\": \"0734579d64eee41b749075395b7aaa22\", \"rt_arrival_sec\": 66137, \"scheduled_arrival_sec\": 66480.0, \"converted_rt_arrival\": \"2024-05-22T18:22:17\", \"converted_schd_arrival\": \"2024-05-22T18:28:00\", \"actual_arrival_lag_min\": 39.05, \"scheduled_arrival_lag_min\": 135.0, \"hour\": 18, \"min\": 22}, {\"caltrans_district\": \"06 - Fresno\", \"schedule_gtfs_dataset_key\": \"3bda4652977200408690059ef2ec4b4d\", \"feed_key\": \"0e89d1fd3bd2a09bbbd0d4f79ea5663b\", \"organization_name\": \"City of Visalia\", \"route_long_name\": \"Route 9\", \"route_type\": \"Bus\", \"route_id\": \"2042\", \"direction_id\": 1.0, \"stop_id\": \"2307469\", \"stop_sequence\": 27, \"trip_instance_key\": \"bca6d918edf555f4b6898bc03d73919b\", \"rt_arrival_sec\": 68971, \"scheduled_arrival_sec\": 63780.0, \"converted_rt_arrival\": \"2024-05-22T19:09:31\", \"converted_schd_arrival\": \"2024-05-22T17:43:00\", \"actual_arrival_lag_min\": 47.233333333333334, \"scheduled_arrival_lag_min\": -45.0, \"hour\": 19, \"min\": 9}, {\"caltrans_district\": \"06 - Fresno\", \"schedule_gtfs_dataset_key\": \"3bda4652977200408690059ef2ec4b4d\", \"feed_key\": \"0e89d1fd3bd2a09bbbd0d4f79ea5663b\", \"organization_name\": \"City of Visalia\", \"route_long_name\": \"Route 9\", \"route_type\": \"Bus\", \"route_id\": \"2042\", \"direction_id\": 1.0, \"stop_id\": \"2307469\", \"stop_sequence\": 27, \"trip_instance_key\": \"a2c29e9e5b56d105d120614bc30b5f7a\", \"rt_arrival_sec\": 71482, \"scheduled_arrival_sec\": 71880.0, \"converted_rt_arrival\": \"2024-05-22T19:51:22\", \"converted_schd_arrival\": \"2024-05-22T19:58:00\", \"actual_arrival_lag_min\": 41.85, \"scheduled_arrival_lag_min\": 135.0, \"hour\": 19, \"min\": 51}, {\"caltrans_district\": \"06 - Fresno\", \"schedule_gtfs_dataset_key\": \"3bda4652977200408690059ef2ec4b4d\", \"feed_key\": \"0e89d1fd3bd2a09bbbd0d4f79ea5663b\", \"organization_name\": \"City of Visalia\", \"route_long_name\": \"Route 9\", \"route_type\": \"Bus\", \"route_id\": \"2042\", \"direction_id\": 1.0, \"stop_id\": \"2307469\", \"stop_sequence\": 27, \"trip_instance_key\": \"09d1a1b116a574792481498bd6e6ded7\", \"rt_arrival_sec\": 74667, \"scheduled_arrival_sec\": 69180.0, \"converted_rt_arrival\": \"2024-05-22T20:44:27\", \"converted_schd_arrival\": \"2024-05-22T19:13:00\", \"actual_arrival_lag_min\": 53.083333333333336, \"scheduled_arrival_lag_min\": -45.0, \"hour\": 20, \"min\": 44}]}}, {\"mode\": \"vega-lite\"});\n",
       "</script>"
      ],
      "text/plain": [
       "alt.Chart(...)"
      ]
     },
     "metadata": {},
     "output_type": "display_data"
    }
   ],
   "source": [
    "df_vis1, df_vis2 = compare_approaches(\n",
    "    stop_id=\"2307469\",\n",
    "    organization_name=\"City of Visalia\",\n",
    "    route_id=\"2042\",\n",
    "    stop_sequence=27,\n",
    ")"
   ]
  },
  {
   "cell_type": "code",
   "execution_count": 151,
   "id": "713f259d-125b-473d-abff-877f3e2d4973",
   "metadata": {},
   "outputs": [
    {
     "name": "stdout",
     "output_type": "stream",
     "text": [
      "Transit Matters\n"
     ]
    },
    {
     "data": {
      "text/html": [
       "<div>\n",
       "<style scoped>\n",
       "    .dataframe tbody tr th:only-of-type {\n",
       "        vertical-align: middle;\n",
       "    }\n",
       "\n",
       "    .dataframe tbody tr th {\n",
       "        vertical-align: top;\n",
       "    }\n",
       "\n",
       "    .dataframe thead th {\n",
       "        text-align: right;\n",
       "    }\n",
       "</style>\n",
       "<table border=\"1\" class=\"dataframe\">\n",
       "  <thead>\n",
       "    <tr style=\"text-align: right;\">\n",
       "      <th></th>\n",
       "      <th>caltrans_district</th>\n",
       "      <th>schedule_gtfs_dataset_key</th>\n",
       "      <th>feed_key</th>\n",
       "      <th>organization_name</th>\n",
       "      <th>route_long_name</th>\n",
       "      <th>route_type</th>\n",
       "      <th>route_id</th>\n",
       "      <th>direction_id</th>\n",
       "      <th>stop_id</th>\n",
       "      <th>stop_sequence</th>\n",
       "      <th>all_trips</th>\n",
       "      <th>per_trip_bunched_per_stop</th>\n",
       "    </tr>\n",
       "  </thead>\n",
       "  <tbody>\n",
       "    <tr>\n",
       "      <th>132422</th>\n",
       "      <td>11 - San Diego</td>\n",
       "      <td>baeeb157e85a901e47b828ef9fe75091</td>\n",
       "      <td>db8c6e0cf5ece2a8cdb5bdc71d049bd1</td>\n",
       "      <td>San Diego Metropolitan Transit System</td>\n",
       "      <td>West Santee Loop</td>\n",
       "      <td>Bus</td>\n",
       "      <td>834</td>\n",
       "      <td>0.00</td>\n",
       "      <td>88949</td>\n",
       "      <td>19</td>\n",
       "      <td>2.00</td>\n",
       "      <td>0.00</td>\n",
       "    </tr>\n",
       "  </tbody>\n",
       "</table>\n",
       "</div>"
      ],
      "text/plain": [
       "       caltrans_district         schedule_gtfs_dataset_key  \\\n",
       "132422    11 - San Diego  baeeb157e85a901e47b828ef9fe75091   \n",
       "\n",
       "                                feed_key  \\\n",
       "132422  db8c6e0cf5ece2a8cdb5bdc71d049bd1   \n",
       "\n",
       "                            organization_name   route_long_name route_type  \\\n",
       "132422  San Diego Metropolitan Transit System  West Santee Loop        Bus   \n",
       "\n",
       "       route_id  direction_id stop_id  stop_sequence  all_trips  \\\n",
       "132422      834          0.00   88949             19       2.00   \n",
       "\n",
       "        per_trip_bunched_per_stop  \n",
       "132422                       0.00  "
      ]
     },
     "metadata": {},
     "output_type": "display_data"
    },
    {
     "name": "stdout",
     "output_type": "stream",
     "text": [
      "Two Minutes\n"
     ]
    },
    {
     "data": {
      "text/html": [
       "<div>\n",
       "<style scoped>\n",
       "    .dataframe tbody tr th:only-of-type {\n",
       "        vertical-align: middle;\n",
       "    }\n",
       "\n",
       "    .dataframe tbody tr th {\n",
       "        vertical-align: top;\n",
       "    }\n",
       "\n",
       "    .dataframe thead th {\n",
       "        text-align: right;\n",
       "    }\n",
       "</style>\n",
       "<table border=\"1\" class=\"dataframe\">\n",
       "  <thead>\n",
       "    <tr style=\"text-align: right;\">\n",
       "      <th></th>\n",
       "      <th>caltrans_district</th>\n",
       "      <th>schedule_gtfs_dataset_key</th>\n",
       "      <th>feed_key</th>\n",
       "      <th>organization_name</th>\n",
       "      <th>route_long_name</th>\n",
       "      <th>route_type</th>\n",
       "      <th>route_id</th>\n",
       "      <th>direction_id</th>\n",
       "      <th>stop_id</th>\n",
       "      <th>stop_sequence</th>\n",
       "      <th>all_trips</th>\n",
       "      <th>per_trip_bunched_per_stop</th>\n",
       "    </tr>\n",
       "  </thead>\n",
       "  <tbody>\n",
       "    <tr>\n",
       "      <th>132422</th>\n",
       "      <td>11 - San Diego</td>\n",
       "      <td>baeeb157e85a901e47b828ef9fe75091</td>\n",
       "      <td>db8c6e0cf5ece2a8cdb5bdc71d049bd1</td>\n",
       "      <td>San Diego Metropolitan Transit System</td>\n",
       "      <td>West Santee Loop</td>\n",
       "      <td>Bus</td>\n",
       "      <td>834</td>\n",
       "      <td>0.00</td>\n",
       "      <td>88949</td>\n",
       "      <td>19</td>\n",
       "      <td>2.00</td>\n",
       "      <td>0.00</td>\n",
       "    </tr>\n",
       "  </tbody>\n",
       "</table>\n",
       "</div>"
      ],
      "text/plain": [
       "       caltrans_district         schedule_gtfs_dataset_key  \\\n",
       "132422    11 - San Diego  baeeb157e85a901e47b828ef9fe75091   \n",
       "\n",
       "                                feed_key  \\\n",
       "132422  db8c6e0cf5ece2a8cdb5bdc71d049bd1   \n",
       "\n",
       "                            organization_name   route_long_name route_type  \\\n",
       "132422  San Diego Metropolitan Transit System  West Santee Loop        Bus   \n",
       "\n",
       "       route_id  direction_id stop_id  stop_sequence  all_trips  \\\n",
       "132422      834          0.00   88949             19       2.00   \n",
       "\n",
       "        per_trip_bunched_per_stop  \n",
       "132422                       0.00  "
      ]
     },
     "metadata": {},
     "output_type": "display_data"
    },
    {
     "data": {
      "text/plain": [
       "2"
      ]
     },
     "metadata": {},
     "output_type": "display_data"
    },
    {
     "data": {
      "text/html": [
       "\n",
       "<style>\n",
       "  #altair-viz-b2932cd11f064fd8a252261339da8a3a.vega-embed {\n",
       "    width: 100%;\n",
       "    display: flex;\n",
       "  }\n",
       "\n",
       "  #altair-viz-b2932cd11f064fd8a252261339da8a3a.vega-embed details,\n",
       "  #altair-viz-b2932cd11f064fd8a252261339da8a3a.vega-embed details summary {\n",
       "    position: relative;\n",
       "  }\n",
       "</style>\n",
       "<div id=\"altair-viz-b2932cd11f064fd8a252261339da8a3a\"></div>\n",
       "<script type=\"text/javascript\">\n",
       "  var VEGA_DEBUG = (typeof VEGA_DEBUG == \"undefined\") ? {} : VEGA_DEBUG;\n",
       "  (function(spec, embedOpt){\n",
       "    let outputDiv = document.currentScript.previousElementSibling;\n",
       "    if (outputDiv.id !== \"altair-viz-b2932cd11f064fd8a252261339da8a3a\") {\n",
       "      outputDiv = document.getElementById(\"altair-viz-b2932cd11f064fd8a252261339da8a3a\");\n",
       "    }\n",
       "    const paths = {\n",
       "      \"vega\": \"https://cdn.jsdelivr.net/npm/vega@5?noext\",\n",
       "      \"vega-lib\": \"https://cdn.jsdelivr.net/npm/vega-lib?noext\",\n",
       "      \"vega-lite\": \"https://cdn.jsdelivr.net/npm/vega-lite@5.17.0?noext\",\n",
       "      \"vega-embed\": \"https://cdn.jsdelivr.net/npm/vega-embed@6?noext\",\n",
       "    };\n",
       "\n",
       "    function maybeLoadScript(lib, version) {\n",
       "      var key = `${lib.replace(\"-\", \"\")}_version`;\n",
       "      return (VEGA_DEBUG[key] == version) ?\n",
       "        Promise.resolve(paths[lib]) :\n",
       "        new Promise(function(resolve, reject) {\n",
       "          var s = document.createElement('script');\n",
       "          document.getElementsByTagName(\"head\")[0].appendChild(s);\n",
       "          s.async = true;\n",
       "          s.onload = () => {\n",
       "            VEGA_DEBUG[key] = version;\n",
       "            return resolve(paths[lib]);\n",
       "          };\n",
       "          s.onerror = () => reject(`Error loading script: ${paths[lib]}`);\n",
       "          s.src = paths[lib];\n",
       "        });\n",
       "    }\n",
       "\n",
       "    function showError(err) {\n",
       "      outputDiv.innerHTML = `<div class=\"error\" style=\"color:red;\">${err}</div>`;\n",
       "      throw err;\n",
       "    }\n",
       "\n",
       "    function displayChart(vegaEmbed) {\n",
       "      vegaEmbed(outputDiv, spec, embedOpt)\n",
       "        .catch(err => showError(`Javascript Error: ${err.message}<br>This usually means there's a typo in your chart specification. See the javascript console for the full traceback.`));\n",
       "    }\n",
       "\n",
       "    if(typeof define === \"function\" && define.amd) {\n",
       "      requirejs.config({paths});\n",
       "      require([\"vega-embed\"], displayChart, err => showError(`Error loading script: ${err.message}`));\n",
       "    } else {\n",
       "      maybeLoadScript(\"vega\", \"5\")\n",
       "        .then(() => maybeLoadScript(\"vega-lite\", \"5.17.0\"))\n",
       "        .then(() => maybeLoadScript(\"vega-embed\", \"6\"))\n",
       "        .catch(showError)\n",
       "        .then(() => displayChart(vegaEmbed));\n",
       "    }\n",
       "  })({\"config\": {\"view\": {\"continuousWidth\": 300, \"continuousHeight\": 300}}, \"data\": {\"name\": \"data-41d2c72865e2aa57a22beacbbbb5f53e\"}, \"mark\": {\"type\": \"circle\", \"size\": 500}, \"encoding\": {\"color\": {\"field\": \"hour\", \"scale\": {\"range\": [\"#ccbb44\", \"#e9d868\", \"#fcb40e\", \"#ff9c42\", \"#fc5c04\", \"#dd217d\", \"#dd217d\", \"#dd217d\"]}, \"type\": \"quantitative\"}, \"tooltip\": [{\"field\": \"hour\", \"type\": \"quantitative\"}, {\"field\": \"min\", \"type\": \"quantitative\"}, {\"field\": \"actual_arrival_lag_min\", \"type\": \"quantitative\"}], \"x\": {\"field\": \"hour\", \"type\": \"quantitative\"}, \"y\": {\"field\": \"min\", \"type\": \"quantitative\"}}, \"height\": 400, \"width\": 800, \"$schema\": \"https://vega.github.io/schema/vega-lite/v5.17.0.json\", \"datasets\": {\"data-41d2c72865e2aa57a22beacbbbb5f53e\": [{\"caltrans_district\": \"11 - San Diego\", \"schedule_gtfs_dataset_key\": \"baeeb157e85a901e47b828ef9fe75091\", \"feed_key\": \"db8c6e0cf5ece2a8cdb5bdc71d049bd1\", \"organization_name\": \"San Diego Metropolitan Transit System\", \"route_long_name\": \"West Santee Loop\", \"route_type\": \"Bus\", \"route_id\": \"834\", \"direction_id\": 0.0, \"stop_id\": \"88949\", \"stop_sequence\": 19, \"trip_instance_key\": \"374d1596c1010a2b9e089b99eed5cda8\", \"rt_arrival_sec\": 32654, \"scheduled_arrival_sec\": 32760.0, \"converted_rt_arrival\": \"2024-05-22T09:04:14\", \"converted_schd_arrival\": \"2024-05-22T09:06:00\", \"actual_arrival_lag_min\": null, \"scheduled_arrival_lag_min\": null, \"hour\": 9, \"min\": 4}, {\"caltrans_district\": \"11 - San Diego\", \"schedule_gtfs_dataset_key\": \"baeeb157e85a901e47b828ef9fe75091\", \"feed_key\": \"db8c6e0cf5ece2a8cdb5bdc71d049bd1\", \"organization_name\": \"San Diego Metropolitan Transit System\", \"route_long_name\": \"West Santee Loop\", \"route_type\": \"Bus\", \"route_id\": \"834\", \"direction_id\": 0.0, \"stop_id\": \"88949\", \"stop_sequence\": 19, \"trip_instance_key\": \"974a3571e3567999e8e359a207163d67\", \"rt_arrival_sec\": 36275, \"scheduled_arrival_sec\": 36360.0, \"converted_rt_arrival\": \"2024-05-22T10:04:35\", \"converted_schd_arrival\": \"2024-05-22T10:06:00\", \"actual_arrival_lag_min\": 60.35, \"scheduled_arrival_lag_min\": 60.0, \"hour\": 10, \"min\": 4}]}}, {\"mode\": \"vega-lite\"});\n",
       "</script>"
      ],
      "text/plain": [
       "alt.Chart(...)"
      ]
     },
     "metadata": {},
     "output_type": "display_data"
    }
   ],
   "source": [
    "df_sd1, df_sd2 = compare_approaches(\n",
    "    stop_id=\"88949\",\n",
    "    organization_name=\"San Diego Metropolitan Transit System\",\n",
    "    route_id=\"834\",\n",
    "    stop_sequence=19,\n",
    ")"
   ]
  },
  {
   "cell_type": "markdown",
   "id": "b80e28c4-926f-48ba-8f4c-f5c475d5209b",
   "metadata": {},
   "source": [
    "#### Another example of a strange flip-flop of time stamps due to a"
   ]
  },
  {
   "cell_type": "code",
   "execution_count": 152,
   "id": "c4dad327-e320-4258-8bc8-79923524e7cc",
   "metadata": {},
   "outputs": [
    {
     "name": "stdout",
     "output_type": "stream",
     "text": [
      "Transit Matters\n"
     ]
    },
    {
     "data": {
      "text/html": [
       "<div>\n",
       "<style scoped>\n",
       "    .dataframe tbody tr th:only-of-type {\n",
       "        vertical-align: middle;\n",
       "    }\n",
       "\n",
       "    .dataframe tbody tr th {\n",
       "        vertical-align: top;\n",
       "    }\n",
       "\n",
       "    .dataframe thead th {\n",
       "        text-align: right;\n",
       "    }\n",
       "</style>\n",
       "<table border=\"1\" class=\"dataframe\">\n",
       "  <thead>\n",
       "    <tr style=\"text-align: right;\">\n",
       "      <th></th>\n",
       "      <th>caltrans_district</th>\n",
       "      <th>schedule_gtfs_dataset_key</th>\n",
       "      <th>feed_key</th>\n",
       "      <th>organization_name</th>\n",
       "      <th>route_long_name</th>\n",
       "      <th>route_type</th>\n",
       "      <th>route_id</th>\n",
       "      <th>direction_id</th>\n",
       "      <th>stop_id</th>\n",
       "      <th>stop_sequence</th>\n",
       "      <th>all_trips</th>\n",
       "      <th>per_trip_bunched_per_stop</th>\n",
       "    </tr>\n",
       "  </thead>\n",
       "  <tbody>\n",
       "    <tr>\n",
       "      <th>26867</th>\n",
       "      <td>05 - San Luis Obispo</td>\n",
       "      <td>239f3baf3dd3b9e9464f66a777f9897d</td>\n",
       "      <td>a3c82f955ca3b93746786deb7fe4fb0d</td>\n",
       "      <td>Santa Barbara Metropolitan Transit District</td>\n",
       "      <td>UCSB Shuttle</td>\n",
       "      <td>Bus</td>\n",
       "      <td>28</td>\n",
       "      <td>0.00</td>\n",
       "      <td>22</td>\n",
       "      <td>8</td>\n",
       "      <td>4.00</td>\n",
       "      <td>75.00</td>\n",
       "    </tr>\n",
       "  </tbody>\n",
       "</table>\n",
       "</div>"
      ],
      "text/plain": [
       "          caltrans_district         schedule_gtfs_dataset_key  \\\n",
       "26867  05 - San Luis Obispo  239f3baf3dd3b9e9464f66a777f9897d   \n",
       "\n",
       "                               feed_key  \\\n",
       "26867  a3c82f955ca3b93746786deb7fe4fb0d   \n",
       "\n",
       "                                 organization_name route_long_name route_type  \\\n",
       "26867  Santa Barbara Metropolitan Transit District    UCSB Shuttle        Bus   \n",
       "\n",
       "      route_id  direction_id stop_id  stop_sequence  all_trips  \\\n",
       "26867       28          0.00      22              8       4.00   \n",
       "\n",
       "       per_trip_bunched_per_stop  \n",
       "26867                      75.00  "
      ]
     },
     "metadata": {},
     "output_type": "display_data"
    },
    {
     "name": "stdout",
     "output_type": "stream",
     "text": [
      "Two Minutes\n"
     ]
    },
    {
     "data": {
      "text/html": [
       "<div>\n",
       "<style scoped>\n",
       "    .dataframe tbody tr th:only-of-type {\n",
       "        vertical-align: middle;\n",
       "    }\n",
       "\n",
       "    .dataframe tbody tr th {\n",
       "        vertical-align: top;\n",
       "    }\n",
       "\n",
       "    .dataframe thead th {\n",
       "        text-align: right;\n",
       "    }\n",
       "</style>\n",
       "<table border=\"1\" class=\"dataframe\">\n",
       "  <thead>\n",
       "    <tr style=\"text-align: right;\">\n",
       "      <th></th>\n",
       "      <th>caltrans_district</th>\n",
       "      <th>schedule_gtfs_dataset_key</th>\n",
       "      <th>feed_key</th>\n",
       "      <th>organization_name</th>\n",
       "      <th>route_long_name</th>\n",
       "      <th>route_type</th>\n",
       "      <th>route_id</th>\n",
       "      <th>direction_id</th>\n",
       "      <th>stop_id</th>\n",
       "      <th>stop_sequence</th>\n",
       "      <th>all_trips</th>\n",
       "      <th>per_trip_bunched_per_stop</th>\n",
       "    </tr>\n",
       "  </thead>\n",
       "  <tbody>\n",
       "    <tr>\n",
       "      <th>26867</th>\n",
       "      <td>05 - San Luis Obispo</td>\n",
       "      <td>239f3baf3dd3b9e9464f66a777f9897d</td>\n",
       "      <td>a3c82f955ca3b93746786deb7fe4fb0d</td>\n",
       "      <td>Santa Barbara Metropolitan Transit District</td>\n",
       "      <td>UCSB Shuttle</td>\n",
       "      <td>Bus</td>\n",
       "      <td>28</td>\n",
       "      <td>0.00</td>\n",
       "      <td>22</td>\n",
       "      <td>8</td>\n",
       "      <td>4.00</td>\n",
       "      <td>0.00</td>\n",
       "    </tr>\n",
       "  </tbody>\n",
       "</table>\n",
       "</div>"
      ],
      "text/plain": [
       "          caltrans_district         schedule_gtfs_dataset_key  \\\n",
       "26867  05 - San Luis Obispo  239f3baf3dd3b9e9464f66a777f9897d   \n",
       "\n",
       "                               feed_key  \\\n",
       "26867  a3c82f955ca3b93746786deb7fe4fb0d   \n",
       "\n",
       "                                 organization_name route_long_name route_type  \\\n",
       "26867  Santa Barbara Metropolitan Transit District    UCSB Shuttle        Bus   \n",
       "\n",
       "      route_id  direction_id stop_id  stop_sequence  all_trips  \\\n",
       "26867       28          0.00      22              8       4.00   \n",
       "\n",
       "       per_trip_bunched_per_stop  \n",
       "26867                       0.00  "
      ]
     },
     "metadata": {},
     "output_type": "display_data"
    },
    {
     "data": {
      "text/plain": [
       "4"
      ]
     },
     "metadata": {},
     "output_type": "display_data"
    },
    {
     "data": {
      "text/html": [
       "\n",
       "<style>\n",
       "  #altair-viz-94f2a75a112d448785e2ebf72974e34c.vega-embed {\n",
       "    width: 100%;\n",
       "    display: flex;\n",
       "  }\n",
       "\n",
       "  #altair-viz-94f2a75a112d448785e2ebf72974e34c.vega-embed details,\n",
       "  #altair-viz-94f2a75a112d448785e2ebf72974e34c.vega-embed details summary {\n",
       "    position: relative;\n",
       "  }\n",
       "</style>\n",
       "<div id=\"altair-viz-94f2a75a112d448785e2ebf72974e34c\"></div>\n",
       "<script type=\"text/javascript\">\n",
       "  var VEGA_DEBUG = (typeof VEGA_DEBUG == \"undefined\") ? {} : VEGA_DEBUG;\n",
       "  (function(spec, embedOpt){\n",
       "    let outputDiv = document.currentScript.previousElementSibling;\n",
       "    if (outputDiv.id !== \"altair-viz-94f2a75a112d448785e2ebf72974e34c\") {\n",
       "      outputDiv = document.getElementById(\"altair-viz-94f2a75a112d448785e2ebf72974e34c\");\n",
       "    }\n",
       "    const paths = {\n",
       "      \"vega\": \"https://cdn.jsdelivr.net/npm/vega@5?noext\",\n",
       "      \"vega-lib\": \"https://cdn.jsdelivr.net/npm/vega-lib?noext\",\n",
       "      \"vega-lite\": \"https://cdn.jsdelivr.net/npm/vega-lite@5.17.0?noext\",\n",
       "      \"vega-embed\": \"https://cdn.jsdelivr.net/npm/vega-embed@6?noext\",\n",
       "    };\n",
       "\n",
       "    function maybeLoadScript(lib, version) {\n",
       "      var key = `${lib.replace(\"-\", \"\")}_version`;\n",
       "      return (VEGA_DEBUG[key] == version) ?\n",
       "        Promise.resolve(paths[lib]) :\n",
       "        new Promise(function(resolve, reject) {\n",
       "          var s = document.createElement('script');\n",
       "          document.getElementsByTagName(\"head\")[0].appendChild(s);\n",
       "          s.async = true;\n",
       "          s.onload = () => {\n",
       "            VEGA_DEBUG[key] = version;\n",
       "            return resolve(paths[lib]);\n",
       "          };\n",
       "          s.onerror = () => reject(`Error loading script: ${paths[lib]}`);\n",
       "          s.src = paths[lib];\n",
       "        });\n",
       "    }\n",
       "\n",
       "    function showError(err) {\n",
       "      outputDiv.innerHTML = `<div class=\"error\" style=\"color:red;\">${err}</div>`;\n",
       "      throw err;\n",
       "    }\n",
       "\n",
       "    function displayChart(vegaEmbed) {\n",
       "      vegaEmbed(outputDiv, spec, embedOpt)\n",
       "        .catch(err => showError(`Javascript Error: ${err.message}<br>This usually means there's a typo in your chart specification. See the javascript console for the full traceback.`));\n",
       "    }\n",
       "\n",
       "    if(typeof define === \"function\" && define.amd) {\n",
       "      requirejs.config({paths});\n",
       "      require([\"vega-embed\"], displayChart, err => showError(`Error loading script: ${err.message}`));\n",
       "    } else {\n",
       "      maybeLoadScript(\"vega\", \"5\")\n",
       "        .then(() => maybeLoadScript(\"vega-lite\", \"5.17.0\"))\n",
       "        .then(() => maybeLoadScript(\"vega-embed\", \"6\"))\n",
       "        .catch(showError)\n",
       "        .then(() => displayChart(vegaEmbed));\n",
       "    }\n",
       "  })({\"config\": {\"view\": {\"continuousWidth\": 300, \"continuousHeight\": 300}}, \"data\": {\"name\": \"data-13cc7bfea8e6be9f3098380e7e3f4104\"}, \"mark\": {\"type\": \"circle\", \"size\": 500}, \"encoding\": {\"color\": {\"field\": \"hour\", \"scale\": {\"range\": [\"#ccbb44\", \"#e9d868\", \"#fcb40e\", \"#ff9c42\", \"#fc5c04\", \"#dd217d\", \"#dd217d\", \"#dd217d\"]}, \"type\": \"quantitative\"}, \"tooltip\": [{\"field\": \"hour\", \"type\": \"quantitative\"}, {\"field\": \"min\", \"type\": \"quantitative\"}, {\"field\": \"actual_arrival_lag_min\", \"type\": \"quantitative\"}], \"x\": {\"field\": \"hour\", \"type\": \"quantitative\"}, \"y\": {\"field\": \"min\", \"type\": \"quantitative\"}}, \"height\": 400, \"width\": 800, \"$schema\": \"https://vega.github.io/schema/vega-lite/v5.17.0.json\", \"datasets\": {\"data-13cc7bfea8e6be9f3098380e7e3f4104\": [{\"caltrans_district\": \"05 - San Luis Obispo\", \"schedule_gtfs_dataset_key\": \"239f3baf3dd3b9e9464f66a777f9897d\", \"feed_key\": \"a3c82f955ca3b93746786deb7fe4fb0d\", \"organization_name\": \"Santa Barbara Metropolitan Transit District\", \"route_long_name\": \"UCSB Shuttle\", \"route_type\": \"Bus\", \"route_id\": \"28\", \"direction_id\": 0.0, \"stop_id\": \"22\", \"stop_sequence\": 8, \"trip_instance_key\": \"991d2e0dc3ef0a55d97f318f135f7fd2\", \"rt_arrival_sec\": 33828, \"scheduled_arrival_sec\": 28813.0, \"converted_rt_arrival\": \"2024-05-22T09:23:48\", \"converted_schd_arrival\": \"2024-05-22T08:00:13\", \"actual_arrival_lag_min\": null, \"scheduled_arrival_lag_min\": null, \"hour\": 9, \"min\": 23}, {\"caltrans_district\": \"05 - San Luis Obispo\", \"schedule_gtfs_dataset_key\": \"239f3baf3dd3b9e9464f66a777f9897d\", \"feed_key\": \"a3c82f955ca3b93746786deb7fe4fb0d\", \"organization_name\": \"Santa Barbara Metropolitan Transit District\", \"route_long_name\": \"UCSB Shuttle\", \"route_type\": \"Bus\", \"route_id\": \"28\", \"direction_id\": 0.0, \"stop_id\": \"22\", \"stop_sequence\": 8, \"trip_instance_key\": \"b591464a2c0a45bfc69e2687b190f2ff\", \"rt_arrival_sec\": 35927, \"scheduled_arrival_sec\": 57973.0, \"converted_rt_arrival\": \"2024-05-22T09:58:47\", \"converted_schd_arrival\": \"2024-05-22T16:06:13\", \"actual_arrival_lag_min\": 34.983333333333334, \"scheduled_arrival_lag_min\": 486.0, \"hour\": 9, \"min\": 58}, {\"caltrans_district\": \"05 - San Luis Obispo\", \"schedule_gtfs_dataset_key\": \"239f3baf3dd3b9e9464f66a777f9897d\", \"feed_key\": \"a3c82f955ca3b93746786deb7fe4fb0d\", \"organization_name\": \"Santa Barbara Metropolitan Transit District\", \"route_long_name\": \"UCSB Shuttle\", \"route_type\": \"Bus\", \"route_id\": \"28\", \"direction_id\": 0.0, \"stop_id\": \"22\", \"stop_sequence\": 8, \"trip_instance_key\": \"adb98752ffd22d6e5bbb3790f8568ad9\", \"rt_arrival_sec\": 39478, \"scheduled_arrival_sec\": 47173.0, \"converted_rt_arrival\": \"2024-05-22T10:57:58\", \"converted_schd_arrival\": \"2024-05-22T13:06:13\", \"actual_arrival_lag_min\": 59.18333333333333, \"scheduled_arrival_lag_min\": -180.0, \"hour\": 10, \"min\": 57}, {\"caltrans_district\": \"05 - San Luis Obispo\", \"schedule_gtfs_dataset_key\": \"239f3baf3dd3b9e9464f66a777f9897d\", \"feed_key\": \"a3c82f955ca3b93746786deb7fe4fb0d\", \"organization_name\": \"Santa Barbara Metropolitan Transit District\", \"route_long_name\": \"UCSB Shuttle\", \"route_type\": \"Bus\", \"route_id\": \"28\", \"direction_id\": 0.0, \"stop_id\": \"22\", \"stop_sequence\": 8, \"trip_instance_key\": \"f5317a6f30d550d0b5911e555e07736a\", \"rt_arrival_sec\": 73018, \"scheduled_arrival_sec\": 32053.0, \"converted_rt_arrival\": \"2024-05-21T20:16:58\", \"converted_schd_arrival\": \"2024-05-23T08:54:13\", \"actual_arrival_lag_min\": -881.0, \"scheduled_arrival_lag_min\": 1188.0, \"hour\": 20, \"min\": 16}]}}, {\"mode\": \"vega-lite\"});\n",
       "</script>"
      ],
      "text/plain": [
       "alt.Chart(...)"
      ]
     },
     "metadata": {},
     "output_type": "display_data"
    }
   ],
   "source": [
    "df_ucsb1, df_ucsb2 = compare_approaches(\n",
    "    stop_id=\"22\",\n",
    "    organization_name=\"Santa Barbara Metropolitan Transit District\",\n",
    "    route_id=\"28\",\n",
    "    stop_sequence=8,\n",
    ")"
   ]
  },
  {
   "cell_type": "code",
   "execution_count": 153,
   "id": "171508d5-c67e-4a94-9bcf-4107e3627753",
   "metadata": {},
   "outputs": [
    {
     "data": {
      "text/html": [
       "<div>\n",
       "<style scoped>\n",
       "    .dataframe tbody tr th:only-of-type {\n",
       "        vertical-align: middle;\n",
       "    }\n",
       "\n",
       "    .dataframe tbody tr th {\n",
       "        vertical-align: top;\n",
       "    }\n",
       "\n",
       "    .dataframe thead th {\n",
       "        text-align: right;\n",
       "    }\n",
       "</style>\n",
       "<table border=\"1\" class=\"dataframe\">\n",
       "  <thead>\n",
       "    <tr style=\"text-align: right;\">\n",
       "      <th></th>\n",
       "      <th>caltrans_district</th>\n",
       "      <th>schedule_gtfs_dataset_key</th>\n",
       "      <th>feed_key</th>\n",
       "      <th>organization_name</th>\n",
       "      <th>route_long_name</th>\n",
       "      <th>route_type</th>\n",
       "      <th>route_id</th>\n",
       "      <th>direction_id</th>\n",
       "      <th>stop_id</th>\n",
       "      <th>stop_sequence</th>\n",
       "      <th>trip_instance_key</th>\n",
       "      <th>rt_arrival_sec</th>\n",
       "      <th>scheduled_arrival_sec</th>\n",
       "      <th>converted_rt_arrival</th>\n",
       "      <th>converted_schd_arrival</th>\n",
       "      <th>actual_arrival_lag_min</th>\n",
       "      <th>scheduled_arrival_lag_min</th>\n",
       "      <th>hour</th>\n",
       "      <th>min</th>\n",
       "    </tr>\n",
       "  </thead>\n",
       "  <tbody>\n",
       "    <tr>\n",
       "      <th>989108</th>\n",
       "      <td>05 - San Luis Obispo</td>\n",
       "      <td>239f3baf3dd3b9e9464f66a777f9897d</td>\n",
       "      <td>a3c82f955ca3b93746786deb7fe4fb0d</td>\n",
       "      <td>Santa Barbara Metropolitan Transit District</td>\n",
       "      <td>UCSB Shuttle</td>\n",
       "      <td>Bus</td>\n",
       "      <td>28</td>\n",
       "      <td>0.00</td>\n",
       "      <td>22</td>\n",
       "      <td>8</td>\n",
       "      <td>991d2e0dc3ef0a55d97f318f135f7fd2</td>\n",
       "      <td>33828</td>\n",
       "      <td>28813.00</td>\n",
       "      <td>2024-05-22 09:23:48</td>\n",
       "      <td>2024-05-22 08:00:13</td>\n",
       "      <td>NaN</td>\n",
       "      <td>NaN</td>\n",
       "      <td>9</td>\n",
       "      <td>23</td>\n",
       "    </tr>\n",
       "    <tr>\n",
       "      <th>989109</th>\n",
       "      <td>05 - San Luis Obispo</td>\n",
       "      <td>239f3baf3dd3b9e9464f66a777f9897d</td>\n",
       "      <td>a3c82f955ca3b93746786deb7fe4fb0d</td>\n",
       "      <td>Santa Barbara Metropolitan Transit District</td>\n",
       "      <td>UCSB Shuttle</td>\n",
       "      <td>Bus</td>\n",
       "      <td>28</td>\n",
       "      <td>0.00</td>\n",
       "      <td>22</td>\n",
       "      <td>8</td>\n",
       "      <td>b591464a2c0a45bfc69e2687b190f2ff</td>\n",
       "      <td>35927</td>\n",
       "      <td>57973.00</td>\n",
       "      <td>2024-05-22 09:58:47</td>\n",
       "      <td>2024-05-22 16:06:13</td>\n",
       "      <td>34.98</td>\n",
       "      <td>486.00</td>\n",
       "      <td>9</td>\n",
       "      <td>58</td>\n",
       "    </tr>\n",
       "    <tr>\n",
       "      <th>989110</th>\n",
       "      <td>05 - San Luis Obispo</td>\n",
       "      <td>239f3baf3dd3b9e9464f66a777f9897d</td>\n",
       "      <td>a3c82f955ca3b93746786deb7fe4fb0d</td>\n",
       "      <td>Santa Barbara Metropolitan Transit District</td>\n",
       "      <td>UCSB Shuttle</td>\n",
       "      <td>Bus</td>\n",
       "      <td>28</td>\n",
       "      <td>0.00</td>\n",
       "      <td>22</td>\n",
       "      <td>8</td>\n",
       "      <td>adb98752ffd22d6e5bbb3790f8568ad9</td>\n",
       "      <td>39478</td>\n",
       "      <td>47173.00</td>\n",
       "      <td>2024-05-22 10:57:58</td>\n",
       "      <td>2024-05-22 13:06:13</td>\n",
       "      <td>59.18</td>\n",
       "      <td>-180.00</td>\n",
       "      <td>10</td>\n",
       "      <td>57</td>\n",
       "    </tr>\n",
       "    <tr>\n",
       "      <th>989111</th>\n",
       "      <td>05 - San Luis Obispo</td>\n",
       "      <td>239f3baf3dd3b9e9464f66a777f9897d</td>\n",
       "      <td>a3c82f955ca3b93746786deb7fe4fb0d</td>\n",
       "      <td>Santa Barbara Metropolitan Transit District</td>\n",
       "      <td>UCSB Shuttle</td>\n",
       "      <td>Bus</td>\n",
       "      <td>28</td>\n",
       "      <td>0.00</td>\n",
       "      <td>22</td>\n",
       "      <td>8</td>\n",
       "      <td>f5317a6f30d550d0b5911e555e07736a</td>\n",
       "      <td>73018</td>\n",
       "      <td>32053.00</td>\n",
       "      <td>2024-05-21 20:16:58</td>\n",
       "      <td>2024-05-23 08:54:13</td>\n",
       "      <td>-881.00</td>\n",
       "      <td>1188.00</td>\n",
       "      <td>20</td>\n",
       "      <td>16</td>\n",
       "    </tr>\n",
       "  </tbody>\n",
       "</table>\n",
       "</div>"
      ],
      "text/plain": [
       "           caltrans_district         schedule_gtfs_dataset_key  \\\n",
       "989108  05 - San Luis Obispo  239f3baf3dd3b9e9464f66a777f9897d   \n",
       "989109  05 - San Luis Obispo  239f3baf3dd3b9e9464f66a777f9897d   \n",
       "989110  05 - San Luis Obispo  239f3baf3dd3b9e9464f66a777f9897d   \n",
       "989111  05 - San Luis Obispo  239f3baf3dd3b9e9464f66a777f9897d   \n",
       "\n",
       "                                feed_key  \\\n",
       "989108  a3c82f955ca3b93746786deb7fe4fb0d   \n",
       "989109  a3c82f955ca3b93746786deb7fe4fb0d   \n",
       "989110  a3c82f955ca3b93746786deb7fe4fb0d   \n",
       "989111  a3c82f955ca3b93746786deb7fe4fb0d   \n",
       "\n",
       "                                  organization_name route_long_name  \\\n",
       "989108  Santa Barbara Metropolitan Transit District    UCSB Shuttle   \n",
       "989109  Santa Barbara Metropolitan Transit District    UCSB Shuttle   \n",
       "989110  Santa Barbara Metropolitan Transit District    UCSB Shuttle   \n",
       "989111  Santa Barbara Metropolitan Transit District    UCSB Shuttle   \n",
       "\n",
       "       route_type route_id  direction_id stop_id  stop_sequence  \\\n",
       "989108        Bus       28          0.00      22              8   \n",
       "989109        Bus       28          0.00      22              8   \n",
       "989110        Bus       28          0.00      22              8   \n",
       "989111        Bus       28          0.00      22              8   \n",
       "\n",
       "                       trip_instance_key  rt_arrival_sec  \\\n",
       "989108  991d2e0dc3ef0a55d97f318f135f7fd2           33828   \n",
       "989109  b591464a2c0a45bfc69e2687b190f2ff           35927   \n",
       "989110  adb98752ffd22d6e5bbb3790f8568ad9           39478   \n",
       "989111  f5317a6f30d550d0b5911e555e07736a           73018   \n",
       "\n",
       "        scheduled_arrival_sec converted_rt_arrival converted_schd_arrival  \\\n",
       "989108               28813.00  2024-05-22 09:23:48    2024-05-22 08:00:13   \n",
       "989109               57973.00  2024-05-22 09:58:47    2024-05-22 16:06:13   \n",
       "989110               47173.00  2024-05-22 10:57:58    2024-05-22 13:06:13   \n",
       "989111               32053.00  2024-05-21 20:16:58    2024-05-23 08:54:13   \n",
       "\n",
       "        actual_arrival_lag_min  scheduled_arrival_lag_min  hour  min  \n",
       "989108                     NaN                        NaN     9   23  \n",
       "989109                   34.98                     486.00     9   58  \n",
       "989110                   59.18                    -180.00    10   57  \n",
       "989111                 -881.00                    1188.00    20   16  "
      ]
     },
     "execution_count": 153,
     "metadata": {},
     "output_type": "execute_result"
    }
   ],
   "source": [
    "df_ucsb2"
   ]
  },
  {
   "cell_type": "code",
   "execution_count": 154,
   "id": "ba902613-05a3-4295-b05f-241cd634fb64",
   "metadata": {},
   "outputs": [
    {
     "data": {
      "text/html": [
       "<div>\n",
       "<style scoped>\n",
       "    .dataframe tbody tr th:only-of-type {\n",
       "        vertical-align: middle;\n",
       "    }\n",
       "\n",
       "    .dataframe tbody tr th {\n",
       "        vertical-align: top;\n",
       "    }\n",
       "\n",
       "    .dataframe thead th {\n",
       "        text-align: right;\n",
       "    }\n",
       "</style>\n",
       "<table border=\"1\" class=\"dataframe\">\n",
       "  <thead>\n",
       "    <tr style=\"text-align: right;\">\n",
       "      <th></th>\n",
       "      <th>rt_arrival_sec</th>\n",
       "      <th>scheduled_arrival_sec</th>\n",
       "    </tr>\n",
       "  </thead>\n",
       "  <tbody>\n",
       "    <tr>\n",
       "      <th>218675</th>\n",
       "      <td>73018</td>\n",
       "      <td>32053.00</td>\n",
       "    </tr>\n",
       "    <tr>\n",
       "      <th>218735</th>\n",
       "      <td>35927</td>\n",
       "      <td>57973.00</td>\n",
       "    </tr>\n",
       "    <tr>\n",
       "      <th>218788</th>\n",
       "      <td>33828</td>\n",
       "      <td>28813.00</td>\n",
       "    </tr>\n",
       "    <tr>\n",
       "      <th>3653131</th>\n",
       "      <td>39478</td>\n",
       "      <td>47173.00</td>\n",
       "    </tr>\n",
       "  </tbody>\n",
       "</table>\n",
       "</div>"
      ],
      "text/plain": [
       "         rt_arrival_sec  scheduled_arrival_sec\n",
       "218675            73018               32053.00\n",
       "218735            35927               57973.00\n",
       "218788            33828               28813.00\n",
       "3653131           39478               47173.00"
      ]
     },
     "execution_count": 154,
     "metadata": {},
     "output_type": "execute_result"
    }
   ],
   "source": [
    "df_ucsb1[['rt_arrival_sec','scheduled_arrival_sec']]"
   ]
  }
 ],
 "metadata": {
  "kernelspec": {
   "display_name": "Python 3 (ipykernel)",
   "language": "python",
   "name": "python3"
  },
  "language_info": {
   "codemirror_mode": {
    "name": "ipython",
    "version": 3
   },
   "file_extension": ".py",
   "mimetype": "text/x-python",
   "name": "python",
   "nbconvert_exporter": "python",
   "pygments_lexer": "ipython3",
   "version": "3.9.13"
  }
 },
 "nbformat": 4,
 "nbformat_minor": 5
}
