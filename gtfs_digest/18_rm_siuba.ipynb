{
 "cells": [
  {
   "attachments": {
    "75236bfd-c5c5-45cf-8dd1-4d8b2c1d4bb8.png": {
     "image/png": "[encoded data removed]"
    }
   },
   "cell_type": "markdown",
   "id": "be5064ac-8cc8-40c8-9e5b-aa185eb75e73",
   "metadata": {},
   "source": [
    "# Remove `siuba` from `gtfs_funnel/crosswalk_gtfs_dataset_key`.\n",
    "* [Resource](https://github.com/cal-itp/data-analyses/issues/1566)\n",
    "\n",
    "![image.png](attachment:75236bfd-c5c5-45cf-8dd1-4d8b2c1d4bb8.png)"
   ]
  },
  {
   "cell_type": "code",
   "execution_count": 54,
   "id": "68aa2697-3a10-4d37-95cc-b0f6004f0466",
   "metadata": {
    "tags": []
   },
   "outputs": [],
   "source": [
    "from calitp_data_analysis.tables import tbls\n",
    "from calitp_data_analysis.sql import get_engine\n",
    "from shared_utils import catalog_utils, rt_dates, schedule_rt_utils\n",
    "from segment_speed_utils import helpers\n",
    "import pandas as pd\n",
    "db_engine = get_engine()"
   ]
  },
  {
   "cell_type": "markdown",
   "id": "9a2adbfc-e8cb-41b3-b58d-3a3379ebb276",
   "metadata": {},
   "source": [
    "## Load NTD, compare with original function"
   ]
  },
  {
   "cell_type": "code",
   "execution_count": 41,
   "id": "45b22c28-d7f0-4642-bb60-d033a72870c5",
   "metadata": {
    "tags": []
   },
   "outputs": [],
   "source": [
    "def load_ntd() -> pd.DataFrame:\n",
    "    with db_engine.connect() as connection:\n",
    "        query = f\"\"\"\n",
    "            SELECT\n",
    "            number_of_state_counties,\n",
    "            primary_uza_name,\n",
    "            density,\n",
    "            number_of_counties_with_service,\n",
    "            state_admin_funds_expended,\n",
    "            service_area_sq_miles,\n",
    "            population,\n",
    "            service_area_pop,\n",
    "            subrecipient_type,\n",
    "            primary_uza_code,\n",
    "            reporter_type,\n",
    "            organization_type,\n",
    "            agency_name,\n",
    "            voms_pt,\n",
    "            voms_do,\n",
    "            ntd_id,\n",
    "            year\n",
    "            FROM\n",
    "            cal-itp-data-infra.mart_ntd.dim_annual_agency_information  \n",
    "            WHERE state = 'CA' AND _is_current = TRUE\n",
    "            \"\"\"\n",
    "        df = pd.read_sql(query,connection)\n",
    "    df2 = df.sort_values(by=df.columns.tolist(), na_position=\"last\")\n",
    "    df3 = df2.groupby(\"agency_name\").first().reset_index()\n",
    "    return df3"
   ]
  },
  {
   "cell_type": "code",
   "execution_count": 40,
   "id": "90cd7842-eab6-43c5-b8eb-212f34f44efc",
   "metadata": {
    "tags": []
   },
   "outputs": [],
   "source": [
    "def load_og_ntd(year: int) -> pd.DataFrame:\n",
    "    \"\"\"\n",
    "    Load NTD Data stored in our warehouse.\n",
    "    Select certain columns.\n",
    "    \"\"\"\n",
    "    try:\n",
    "        df = (\n",
    "        tbls.mart_ntd.dim_annual_agency_information()\n",
    "        >> filter(_.year == year, _.state == \"CA\", _._is_current == True)\n",
    "        >> select(\n",
    "            _.number_of_state_counties,\n",
    "            _.primary_uza_name,\n",
    "            _.density,\n",
    "            _.number_of_counties_with_service,\n",
    "            _.state_admin_funds_expended,\n",
    "            _.service_area_sq_miles,\n",
    "            _.population,\n",
    "            _.service_area_pop,\n",
    "            _.subrecipient_type,\n",
    "            _.primary_uza_code,\n",
    "            _.reporter_type,\n",
    "            _.organization_type,\n",
    "            _.agency_name,\n",
    "            _.voms_pt,\n",
    "            _.voms_do,\n",
    "            _.ntd_id,\n",
    "            _.year,\n",
    "        )\n",
    "        >> collect()\n",
    "        )\n",
    "    except:\n",
    "        df = (\n",
    "        tbls.mart_ntd.dim_annual_agency_information()\n",
    "        >> filter(_.year == year, _.state == \"CA\", _._is_current == True)\n",
    "        >> select(\n",
    "            _.number_of_state_counties,\n",
    "            _.uza_name,\n",
    "            _.density,\n",
    "            _.number_of_counties_with_service,\n",
    "            _.state_admin_funds_expended,\n",
    "            _.service_area_sq_miles,\n",
    "            _.population,\n",
    "            _.service_area_pop,\n",
    "            _.subrecipient_type,\n",
    "            _.reporter_type,\n",
    "            _.organization_type,\n",
    "            _.agency_name,\n",
    "            _.voms_pt,\n",
    "            _.voms_do,\n",
    "            _.ntd_id,\n",
    "            _.year,\n",
    "            _.primary_uza,\n",
    "        )\n",
    "        >> collect()\n",
    "        )\n",
    "        df = df.rename(columns = {\"uza_name\":\"primary_uza_name\",\n",
    "                                 \"primary_uza\":\"primary_uza_code\"})\n",
    "    df2 = df.sort_values(by=df.columns.tolist(), na_position=\"last\")\n",
    "    df3 = df2.groupby(\"agency_name\").first().reset_index()\n",
    "    \n",
    "    return df3"
   ]
  },
  {
   "cell_type": "code",
   "execution_count": 17,
   "id": "b15db7b6-98c7-4014-9d55-954dfbf547de",
   "metadata": {
    "tags": []
   },
   "outputs": [],
   "source": [
    "test_ntd = load_ntd()"
   ]
  },
  {
   "cell_type": "code",
   "execution_count": 24,
   "id": "842049bb-cb84-4592-a56f-404706fd0d00",
   "metadata": {
    "tags": []
   },
   "outputs": [],
   "source": [
    "og_ntd = load_og_ntd(2022)"
   ]
  },
  {
   "cell_type": "code",
   "execution_count": 25,
   "id": "8df19e11-89bd-46ae-89bc-e66855d56b94",
   "metadata": {
    "tags": []
   },
   "outputs": [],
   "source": [
    "og_ntd2 = load_og_ntd(2023)"
   ]
  },
  {
   "cell_type": "code",
   "execution_count": 27,
   "id": "250423e9-21aa-4810-8949-b4b61f8bb2fc",
   "metadata": {
    "tags": []
   },
   "outputs": [
    {
     "data": {
      "text/plain": [
       "array([ True,  True,  True,  True,  True,  True,  True,  True,  True,\n",
       "        True,  True,  True,  True,  True,  True,  True,  True])"
      ]
     },
     "execution_count": 27,
     "metadata": {},
     "output_type": "execute_result"
    }
   ],
   "source": [
    "og_ntd2.columns == test_ntd.columns"
   ]
  },
  {
   "cell_type": "markdown",
   "id": "3e970fa7-4855-4a76-be18-3d0f7ba89f45",
   "metadata": {},
   "source": [
    "## Mobility"
   ]
  },
  {
   "cell_type": "code",
   "execution_count": 42,
   "id": "d2bab7c7-ca0e-4d3a-84b8-490a653de259",
   "metadata": {
    "tags": []
   },
   "outputs": [],
   "source": [
    "def load_mobility()->pd.DataFrame:\n",
    "    with db_engine.connect() as connection:\n",
    "        query = f\"\"\"\n",
    "            SELECT\n",
    "            agency_name,\n",
    "            counties_served,\n",
    "            hq_city,\n",
    "            hq_county,\n",
    "            is_public_entity,\n",
    "            is_publicly_operating,\n",
    "            funding_sources,\n",
    "            on_demand_vehicles_at_max_service,\n",
    "            vehicles_at_max_service\n",
    "            FROM\n",
    "            cal-itp-data-infra.mart_transit_database.dim_mobility_mart_providers  \n",
    "            \"\"\"\n",
    "        df = pd.read_sql(query,connection)\n",
    "    df2 = df.sort_values(\n",
    "        by=[\"on_demand_vehicles_at_max_service\",\"vehicles_at_max_service\"], \n",
    "        ascending = [False, False]\n",
    "    )\n",
    "    df3 = df2.groupby('agency_name').first().reset_index()\n",
    "    return df3"
   ]
  },
  {
   "cell_type": "code",
   "execution_count": 33,
   "id": "654e905d-392b-4ef6-a7d7-39b981cc345d",
   "metadata": {
    "tags": []
   },
   "outputs": [],
   "source": [
    "test_mobility = load_mobility()"
   ]
  },
  {
   "cell_type": "code",
   "execution_count": 21,
   "id": "056e8de8-ee50-4bf0-ac69-b1294a4f5299",
   "metadata": {
    "tags": []
   },
   "outputs": [
    {
     "data": {
      "text/html": [
       "<div>\n",
       "<style scoped>\n",
       "    .dataframe tbody tr th:only-of-type {\n",
       "        vertical-align: middle;\n",
       "    }\n",
       "\n",
       "    .dataframe tbody tr th {\n",
       "        vertical-align: top;\n",
       "    }\n",
       "\n",
       "    .dataframe thead th {\n",
       "        text-align: right;\n",
       "    }\n",
       "</style>\n",
       "<table border=\"1\" class=\"dataframe\">\n",
       "  <thead>\n",
       "    <tr style=\"text-align: right;\">\n",
       "      <th></th>\n",
       "      <th>agency_name</th>\n",
       "      <th>ntd_id</th>\n",
       "      <th>hq_city</th>\n",
       "      <th>hq_county</th>\n",
       "      <th>counties_served</th>\n",
       "      <th>agency_website</th>\n",
       "      <th>caltrans_district_id</th>\n",
       "      <th>caltrans_district_name</th>\n",
       "      <th>is_public_entity</th>\n",
       "      <th>is_publicly_operating</th>\n",
       "      <th>funding_sources</th>\n",
       "      <th>on_demand_vehicles_at_max_service</th>\n",
       "      <th>vehicles_at_max_service</th>\n",
       "      <th>gtfs_schedule_uris</th>\n",
       "    </tr>\n",
       "  </thead>\n",
       "  <tbody>\n",
       "    <tr>\n",
       "      <th>101</th>\n",
       "      <td>City of Santa Monica</td>\n",
       "      <td>90008</td>\n",
       "      <td>Santa Monica</td>\n",
       "      <td>Los Angeles</td>\n",
       "      <td>Los Angeles</td>\n",
       "      <td>http://www.bigbluebus.com/</td>\n",
       "      <td>7.0</td>\n",
       "      <td>Los Angeles / Ventura</td>\n",
       "      <td>True</td>\n",
       "      <td>True</td>\n",
       "      <td>5307;5309</td>\n",
       "      <td>124.0</td>\n",
       "      <td>143</td>\n",
       "      <td>https://gtfs.bigbluebus.com/current_swiftly.zi...</td>\n",
       "    </tr>\n",
       "  </tbody>\n",
       "</table>\n",
       "</div>"
      ],
      "text/plain": [
       "              agency_name ntd_id       hq_city    hq_county counties_served  \\\n",
       "101  City of Santa Monica  90008  Santa Monica  Los Angeles     Los Angeles   \n",
       "\n",
       "                 agency_website  caltrans_district_id caltrans_district_name  \\\n",
       "101  http://www.bigbluebus.com/                   7.0  Los Angeles / Ventura   \n",
       "\n",
       "    is_public_entity is_publicly_operating funding_sources  \\\n",
       "101             True                  True       5307;5309   \n",
       "\n",
       "     on_demand_vehicles_at_max_service  vehicles_at_max_service  \\\n",
       "101                              124.0                      143   \n",
       "\n",
       "                                    gtfs_schedule_uris  \n",
       "101  https://gtfs.bigbluebus.com/current_swiftly.zi...  "
      ]
     },
     "execution_count": 21,
     "metadata": {},
     "output_type": "execute_result"
    }
   ],
   "source": [
    "test_mobility.sample()"
   ]
  },
  {
   "cell_type": "code",
   "execution_count": 43,
   "id": "8432d9a8-11af-4895-9b98-8e0343da2a19",
   "metadata": {
    "tags": []
   },
   "outputs": [],
   "source": [
    "def load_og_mobility(\n",
    "    cols: list = [\n",
    "        \"agency_name\", \"counties_served\",\n",
    "        \"hq_city\", \"hq_county\",\n",
    "        \"is_public_entity\", \"is_publicly_operating\",\n",
    "        \"funding_sources\",\n",
    "        \"on_demand_vehicles_at_max_service\",\n",
    "        \"vehicles_at_max_service\"\n",
    "    ]\n",
    ") -> pd.DataFrame:\n",
    "    \"\"\"\n",
    "    Load mobility data (dim_mobility_mart_providers) \n",
    "    from our warehouse.\n",
    "    \"\"\"\n",
    "    df = (\n",
    "        tbls.mart_transit_database.dim_mobility_mart_providers()\n",
    "        >> select(*cols)\n",
    "        >> collect()\n",
    "    )\n",
    "    \n",
    "    df2 = df.sort_values(\n",
    "        by=[\"on_demand_vehicles_at_max_service\",\"vehicles_at_max_service\"], \n",
    "        ascending = [False, False]\n",
    "    )\n",
    "    \n",
    "    df3 = df2.groupby('agency_name').first().reset_index()\n",
    "    \n",
    "    return df3"
   ]
  },
  {
   "cell_type": "code",
   "execution_count": 44,
   "id": "50950c78-4a7a-46d3-92ef-818d12550fc5",
   "metadata": {
    "tags": []
   },
   "outputs": [],
   "source": [
    "og_mobility = load_og_mobility()"
   ]
  },
  {
   "cell_type": "code",
   "execution_count": 35,
   "id": "ec7745d3-8754-474b-a87d-17388f7db2dc",
   "metadata": {
    "tags": []
   },
   "outputs": [
    {
     "data": {
      "text/plain": [
       "array([ True,  True,  True,  True,  True,  True,  True,  True,  True])"
      ]
     },
     "execution_count": 35,
     "metadata": {},
     "output_type": "execute_result"
    }
   ],
   "source": [
    "og_mobility.columns == test_mobility.columns"
   ]
  },
  {
   "cell_type": "code",
   "execution_count": 45,
   "id": "9603d26f-851f-4916-a939-bc0d02bbd955",
   "metadata": {
    "tags": []
   },
   "outputs": [],
   "source": [
    "def merge_ntd_mobility()->pd.DataFrame:\n",
    "    \"\"\"\n",
    "    Merge NTD (dim_annual_ntd_agency_information) with \n",
    "    mobility providers (dim_mobility_mart_providers)\n",
    "    and dedupe and keep 1 row per agency.\n",
    "    \"\"\"\n",
    "    ntd = load_ntd()\n",
    "    mobility = load_mobility()\n",
    "    \n",
    "    m1 = pd.merge(\n",
    "        mobility,\n",
    "        ntd,\n",
    "        how=\"inner\",\n",
    "        on=\"agency_name\"\n",
    "    )\n",
    "\n",
    "    m1 = m1.drop_duplicates(\n",
    "        subset=\"agency_name\"\n",
    "    ).reset_index(\n",
    "        drop=True\n",
    "    ).drop(columns = \"agency_name\")\n",
    "    \n",
    "    # Wherever possible, allow nullable integers. These columns are integers, but can be\n",
    "    # missing if we don't find corresponding NTD info\n",
    "    integrify_cols = [\n",
    "        \"number_of_state_counties\", \"number_of_counties_with_service\", \n",
    "        \"service_area_sq_miles\", \"service_area_pop\",\n",
    "        \"on_demand_vehicles_at_max_service\", \"vehicles_at_max_service\",\n",
    "        \"voms_pt\", \"voms_do\", \"year\",\n",
    "    ]\n",
    "    m1[integrify_cols] = m1[integrify_cols].astype(\"Int64\")\n",
    "\n",
    "    return m1"
   ]
  },
  {
   "cell_type": "code",
   "execution_count": 46,
   "id": "2fd2cfba-c4bd-457e-adb6-0ca280cef0ef",
   "metadata": {
    "tags": []
   },
   "outputs": [],
   "source": [
    "test_merge = merge_ntd_mobility()"
   ]
  },
  {
   "cell_type": "code",
   "execution_count": 47,
   "id": "8f13dddb-8ba5-4b3d-8cc3-90358937dfae",
   "metadata": {
    "tags": []
   },
   "outputs": [
    {
     "data": {
      "text/html": [
       "<div>\n",
       "<style scoped>\n",
       "    .dataframe tbody tr th:only-of-type {\n",
       "        vertical-align: middle;\n",
       "    }\n",
       "\n",
       "    .dataframe tbody tr th {\n",
       "        vertical-align: top;\n",
       "    }\n",
       "\n",
       "    .dataframe thead th {\n",
       "        text-align: right;\n",
       "    }\n",
       "</style>\n",
       "<table border=\"1\" class=\"dataframe\">\n",
       "  <thead>\n",
       "    <tr style=\"text-align: right;\">\n",
       "      <th></th>\n",
       "      <th>counties_served</th>\n",
       "      <th>hq_city</th>\n",
       "      <th>hq_county</th>\n",
       "      <th>is_public_entity</th>\n",
       "      <th>is_publicly_operating</th>\n",
       "      <th>funding_sources</th>\n",
       "      <th>on_demand_vehicles_at_max_service</th>\n",
       "      <th>vehicles_at_max_service</th>\n",
       "      <th>number_of_state_counties</th>\n",
       "      <th>primary_uza_name</th>\n",
       "      <th>...</th>\n",
       "      <th>population</th>\n",
       "      <th>service_area_pop</th>\n",
       "      <th>subrecipient_type</th>\n",
       "      <th>primary_uza_code</th>\n",
       "      <th>reporter_type</th>\n",
       "      <th>organization_type</th>\n",
       "      <th>voms_pt</th>\n",
       "      <th>voms_do</th>\n",
       "      <th>ntd_id</th>\n",
       "      <th>year</th>\n",
       "    </tr>\n",
       "  </thead>\n",
       "  <tbody>\n",
       "    <tr>\n",
       "      <th>203</th>\n",
       "      <td>None</td>\n",
       "      <td>Gerber</td>\n",
       "      <td>None</td>\n",
       "      <td>None</td>\n",
       "      <td>None</td>\n",
       "      <td>None</td>\n",
       "      <td>&lt;NA&gt;</td>\n",
       "      <td>14</td>\n",
       "      <td>&lt;NA&gt;</td>\n",
       "      <td>None</td>\n",
       "      <td>...</td>\n",
       "      <td>NaN</td>\n",
       "      <td>&lt;NA&gt;</td>\n",
       "      <td>Rural General Public Transit</td>\n",
       "      <td>NaN</td>\n",
       "      <td>Rural Reporter</td>\n",
       "      <td>City, County or Local Government Unit or Depar...</td>\n",
       "      <td>14</td>\n",
       "      <td>&lt;NA&gt;</td>\n",
       "      <td>91089</td>\n",
       "      <td>2022</td>\n",
       "    </tr>\n",
       "  </tbody>\n",
       "</table>\n",
       "<p>1 rows × 24 columns</p>\n",
       "</div>"
      ],
      "text/plain": [
       "    counties_served hq_city hq_county is_public_entity is_publicly_operating  \\\n",
       "203            None  Gerber      None             None                  None   \n",
       "\n",
       "    funding_sources  on_demand_vehicles_at_max_service  \\\n",
       "203            None                               <NA>   \n",
       "\n",
       "     vehicles_at_max_service  number_of_state_counties primary_uza_name  ...  \\\n",
       "203                       14                      <NA>             None  ...   \n",
       "\n",
       "     population  service_area_pop             subrecipient_type  \\\n",
       "203         NaN              <NA>  Rural General Public Transit   \n",
       "\n",
       "     primary_uza_code   reporter_type  \\\n",
       "203               NaN  Rural Reporter   \n",
       "\n",
       "                                     organization_type voms_pt  voms_do  \\\n",
       "203  City, County or Local Government Unit or Depar...      14     <NA>   \n",
       "\n",
       "    ntd_id  year  \n",
       "203  91089  2022  \n",
       "\n",
       "[1 rows x 24 columns]"
      ]
     },
     "execution_count": 47,
     "metadata": {},
     "output_type": "execute_result"
    }
   ],
   "source": [
    "test_merge.sample()"
   ]
  },
  {
   "cell_type": "code",
   "execution_count": 48,
   "id": "56b4b7b6-0d54-45b9-8b8c-ef90d17f364f",
   "metadata": {
    "tags": []
   },
   "outputs": [],
   "source": [
    "def create_gtfs_dataset_key_to_organization_crosswalk(\n",
    "    analysis_date: str\n",
    ") -> pd.DataFrame:\n",
    "    \"\"\"\n",
    "    For every operator that appears in schedule data, \n",
    "    create a crosswalk that links to organization_source_record_id.\n",
    "    For all our downstream outputs, at various aggregations,\n",
    "    we need to attach these over and over again.\n",
    "    \"\"\"\n",
    "    df = helpers.import_scheduled_trips(\n",
    "        analysis_date,\n",
    "        columns = [\"gtfs_dataset_key\", \"name\"],\n",
    "        get_pandas = True\n",
    "    ).rename(columns = {\"schedule_gtfs_dataset_key\": \"gtfs_dataset_key\"})\n",
    "    # rename columns because we must use simply gtfs_dataset_key in schedule_rt_utils function\n",
    "    \n",
    "    # Get base64_url, organization_source_record_id and organization_name\n",
    "    crosswalk = schedule_rt_utils.sample_gtfs_dataset_key_to_organization_crosswalk(\n",
    "        df,\n",
    "        analysis_date,\n",
    "        quartet_data = \"schedule\",\n",
    "        dim_gtfs_dataset_cols = [\"key\", \"source_record_id\", \"base64_url\"],\n",
    "        dim_organization_cols = [\"source_record_id\", \"name\", \"ntd_id_2022\"],\n",
    "        dim_county_geography_cols= [\"caltrans_district\"], # this is where caltrans_district appears by default\n",
    "    )\n",
    "\n",
    "    df_with_org = pd.merge(\n",
    "        df.rename(columns = {\"gtfs_dataset_key\": \"schedule_gtfs_dataset_key\"}),\n",
    "        crosswalk,\n",
    "        on = \"schedule_gtfs_dataset_key\",\n",
    "        how = \"inner\"\n",
    "    )\n",
    "\n",
    "    return df_with_org"
   ]
  },
  {
   "cell_type": "code",
   "execution_count": 50,
   "id": "e116ddda-155d-4b8d-b609-067c74d9256c",
   "metadata": {
    "tags": []
   },
   "outputs": [
    {
     "data": {
      "text/plain": [
       "['2025-01-15',\n",
       " '2025-02-12',\n",
       " '2025-03-12',\n",
       " '2025-04-16',\n",
       " '2025-05-14',\n",
       " '2025-06-11',\n",
       " '2025-07-16']"
      ]
     },
     "execution_count": 50,
     "metadata": {},
     "output_type": "execute_result"
    }
   ],
   "source": [
    "rt_dates.y2025_dates"
   ]
  },
  {
   "cell_type": "code",
   "execution_count": 64,
   "id": "db8eb5ba-e6c2-41c5-a4b6-c40fcdb7f38f",
   "metadata": {
    "tags": []
   },
   "outputs": [
    {
     "data": {
      "text/plain": [
       "['2025-06-11']"
      ]
     },
     "execution_count": 64,
     "metadata": {},
     "output_type": "execute_result"
    }
   ],
   "source": [
    "[rt_dates.DATES['jun2025']]"
   ]
  },
  {
   "cell_type": "code",
   "execution_count": 55,
   "id": "8f1fb30f-77f8-49df-a011-c9fb3f938b50",
   "metadata": {
    "tags": []
   },
   "outputs": [],
   "source": [
    "crosswalk_df = create_gtfs_dataset_key_to_organization_crosswalk(\n",
    "            '2025-06-11',\n",
    "        )"
   ]
  },
  {
   "cell_type": "code",
   "execution_count": 60,
   "id": "983fe8b3-6e52-4c08-89a3-d8fe630c3e9d",
   "metadata": {
    "tags": []
   },
   "outputs": [],
   "source": [
    "crosswalk_df = crosswalk_df.rename(columns = {\"ntd_id_2022\": \"ntd_id\"})"
   ]
  },
  {
   "cell_type": "code",
   "execution_count": 61,
   "id": "fc548ac6-d1f8-4b8f-a7e5-09b27b4a63e7",
   "metadata": {
    "tags": []
   },
   "outputs": [],
   "source": [
    "crosswalk_df = pd.merge(\n",
    "            crosswalk_df,\n",
    "            test_merge,\n",
    "            on = [\"ntd_id\"],\n",
    "            how = \"left\"\n",
    "        )\n",
    "\n",
    "# Drop ntd_id from ntd_df to avoid confusion\n",
    "crosswalk_df = crosswalk_df.drop(columns = [\"ntd_id\"])"
   ]
  },
  {
   "cell_type": "code",
   "execution_count": 62,
   "id": "87f1c949-872c-4b0f-ab4f-982cc3979ae8",
   "metadata": {
    "tags": []
   },
   "outputs": [
    {
     "data": {
      "text/plain": [
       "212"
      ]
     },
     "execution_count": 62,
     "metadata": {},
     "output_type": "execute_result"
    }
   ],
   "source": [
    "len(crosswalk_df)"
   ]
  },
  {
   "cell_type": "code",
   "execution_count": 63,
   "id": "0980099d-a59f-4427-ba75-65d9e8e8e095",
   "metadata": {
    "tags": []
   },
   "outputs": [
    {
     "data": {
      "text/plain": [
       "207"
      ]
     },
     "execution_count": 63,
     "metadata": {},
     "output_type": "execute_result"
    }
   ],
   "source": [
    "len(crosswalk_df.drop_duplicates())"
   ]
  }
 ],
 "metadata": {
  "kernelspec": {
   "display_name": "Python 3 (ipykernel)",
   "language": "python",
   "name": "python3"
  },
  "language_info": {
   "codemirror_mode": {
    "name": "ipython",
    "version": 3
   },
   "file_extension": ".py",
   "mimetype": "text/x-python",
   "name": "python",
   "nbconvert_exporter": "python",
   "pygments_lexer": "ipython3",
   "version": "3.11.10"
  }
 },
 "nbformat": 4,
 "nbformat_minor": 5
}
