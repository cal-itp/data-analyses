{
 "cells": [
  {
   "cell_type": "code",
   "execution_count": 92,
   "id": "66b06b45-dcf3-4f75-8ffd-1939b93ddffe",
   "metadata": {},
   "outputs": [],
   "source": [
    "import geopandas as gpd\n",
    "import pandas as pd\n",
    "from segment_speed_utils import gtfs_schedule_wrangling, helpers\n",
    "from shared_utils import catalog_utils, rt_dates, rt_utils\n",
    "from update_vars import GTFS_DATA_DICT, RT_SCHED_GCS, SCHED_GCS\n",
    "\n",
    "# https://github.com/cal-itp/data-analyses/blob/main/_shared_utils/shared_utils/gtfs_analytics_data.yml\n",
    "GTFS_DATA_DICT = catalog_utils.get_catalog(\"gtfs_analytics_data\")\n",
    "\n",
    "from segment_speed_utils.project_vars import (GTFS_DATA_DICT,\n",
    "                                              SEGMENT_GCS, \n",
    "                                              COMPILED_CACHED_VIEWS,\n",
    "                                              RT_SCHED_GCS, \n",
    "                                              SCHED_GCS,\n",
    "                                              PROJECT_CRS)"
   ]
  },
  {
   "cell_type": "code",
   "execution_count": 31,
   "id": "142cc2b7-6ec4-42d8-969f-dc2456e7504b",
   "metadata": {},
   "outputs": [],
   "source": [
    "pd.options.display.max_columns = 100\n",
    "pd.options.display.float_format = \"{:.2f}\".format\n",
    "pd.set_option(\"display.max_rows\", None)\n",
    "pd.set_option(\"display.max_colwidth\", None)"
   ]
  },
  {
   "cell_type": "code",
   "execution_count": 60,
   "id": "29e93fa8-95d6-4a33-a37c-2c5463e1a6da",
   "metadata": {},
   "outputs": [],
   "source": [
    "analysis_date_list = rt_dates.y2024_dates + rt_dates.y2023_dates"
   ]
  },
  {
   "cell_type": "code",
   "execution_count": 33,
   "id": "131a9af1-c74b-4f81-8f13-17faeb326792",
   "metadata": {},
   "outputs": [
    {
     "data": {
      "text/plain": [
       "'2024-07-17'"
      ]
     },
     "execution_count": 33,
     "metadata": {},
     "output_type": "execute_result"
    }
   ],
   "source": [
    "july_date = '2024-07-17'"
   ]
  },
  {
   "cell_type": "markdown",
   "id": "1dc080ef-f835-49a2-98d9-1c4dc4be155c",
   "metadata": {},
   "source": [
    "### Schedule"
   ]
  },
  {
   "cell_type": "code",
   "execution_count": 34,
   "id": "2b6af64d-e686-47d4-991d-b5f1c5b82888",
   "metadata": {},
   "outputs": [],
   "source": [
    "schd_vp_url = f\"{GTFS_DATA_DICT.digest_tables.dir}{GTFS_DATA_DICT.digest_tables.route_schedule_vp}.parquet\""
   ]
  },
  {
   "cell_type": "code",
   "execution_count": 35,
   "id": "fc4d11a5-023e-43e9-b9f6-2299fec404de",
   "metadata": {},
   "outputs": [],
   "source": [
    "og = pd.read_parquet(schd_vp_url)"
   ]
  },
  {
   "cell_type": "code",
   "execution_count": 36,
   "id": "83297083-9a29-4bf5-8533-53db30a0d2d3",
   "metadata": {},
   "outputs": [
    {
     "data": {
      "text/html": [
       "<div>\n",
       "<style scoped>\n",
       "    .dataframe tbody tr th:only-of-type {\n",
       "        vertical-align: middle;\n",
       "    }\n",
       "\n",
       "    .dataframe tbody tr th {\n",
       "        vertical-align: top;\n",
       "    }\n",
       "\n",
       "    .dataframe thead th {\n",
       "        text-align: right;\n",
       "    }\n",
       "</style>\n",
       "<table border=\"1\" class=\"dataframe\">\n",
       "  <thead>\n",
       "    <tr style=\"text-align: right;\">\n",
       "      <th></th>\n",
       "      <th>schedule_gtfs_dataset_key</th>\n",
       "      <th>direction_id</th>\n",
       "      <th>time_period</th>\n",
       "      <th>avg_scheduled_service_minutes</th>\n",
       "      <th>avg_stop_miles</th>\n",
       "      <th>n_scheduled_trips</th>\n",
       "      <th>frequency</th>\n",
       "      <th>is_express</th>\n",
       "      <th>is_rapid</th>\n",
       "      <th>is_rail</th>\n",
       "      <th>is_coverage</th>\n",
       "      <th>is_downtown_local</th>\n",
       "      <th>is_local</th>\n",
       "      <th>service_date</th>\n",
       "      <th>typology</th>\n",
       "      <th>minutes_atleast1_vp</th>\n",
       "      <th>minutes_atleast2_vp</th>\n",
       "      <th>total_rt_service_minutes</th>\n",
       "      <th>total_scheduled_service_minutes</th>\n",
       "      <th>total_vp</th>\n",
       "      <th>vp_in_shape</th>\n",
       "      <th>is_early</th>\n",
       "      <th>is_ontime</th>\n",
       "      <th>is_late</th>\n",
       "      <th>n_vp_trips</th>\n",
       "      <th>vp_per_minute</th>\n",
       "      <th>pct_in_shape</th>\n",
       "      <th>pct_rt_journey_atleast1_vp</th>\n",
       "      <th>pct_rt_journey_atleast2_vp</th>\n",
       "      <th>pct_sched_journey_atleast1_vp</th>\n",
       "      <th>pct_sched_journey_atleast2_vp</th>\n",
       "      <th>rt_sched_journey_ratio</th>\n",
       "      <th>avg_rt_service_minutes</th>\n",
       "      <th>sched_rt_category</th>\n",
       "      <th>speed_mph</th>\n",
       "      <th>name</th>\n",
       "      <th>route_long_name</th>\n",
       "      <th>route_short_name</th>\n",
       "      <th>route_combined_name</th>\n",
       "      <th>route_id</th>\n",
       "      <th>schedule_source_record_id</th>\n",
       "      <th>base64_url</th>\n",
       "      <th>organization_source_record_id</th>\n",
       "      <th>organization_name</th>\n",
       "      <th>caltrans_district</th>\n",
       "      <th>ntd_id_2022</th>\n",
       "      <th>counties_served</th>\n",
       "      <th>hq_city</th>\n",
       "      <th>hq_county</th>\n",
       "      <th>is_public_entity</th>\n",
       "      <th>is_publicly_operating</th>\n",
       "      <th>funding_sources</th>\n",
       "      <th>on_demand_vehicles_at_max_service</th>\n",
       "      <th>vehicles_at_max_service</th>\n",
       "      <th>number_of_state_counties</th>\n",
       "      <th>uza_name</th>\n",
       "      <th>density</th>\n",
       "      <th>number_of_counties_with_service</th>\n",
       "      <th>state_admin_funds_expended</th>\n",
       "      <th>service_area_sq_miles</th>\n",
       "      <th>population</th>\n",
       "      <th>service_area_pop</th>\n",
       "      <th>subrecipient_type</th>\n",
       "      <th>primary_uza</th>\n",
       "      <th>reporter_type</th>\n",
       "      <th>organization_type</th>\n",
       "      <th>voms_pt</th>\n",
       "      <th>voms_do</th>\n",
       "      <th>year</th>\n",
       "      <th>route_primary_direction</th>\n",
       "    </tr>\n",
       "  </thead>\n",
       "  <tbody>\n",
       "    <tr>\n",
       "      <th>0</th>\n",
       "      <td>014d0998350083249a9eb310635548c2</td>\n",
       "      <td>1.00</td>\n",
       "      <td>all_day</td>\n",
       "      <td>45.00</td>\n",
       "      <td>0.31</td>\n",
       "      <td>8</td>\n",
       "      <td>0.33</td>\n",
       "      <td>0.00</td>\n",
       "      <td>1.00</td>\n",
       "      <td>0.00</td>\n",
       "      <td>1.00</td>\n",
       "      <td>0.00</td>\n",
       "      <td>0.00</td>\n",
       "      <td>2023-10-11</td>\n",
       "      <td>rapid</td>\n",
       "      <td>0</td>\n",
       "      <td>0</td>\n",
       "      <td>NaN</td>\n",
       "      <td>NaN</td>\n",
       "      <td>0</td>\n",
       "      <td>0</td>\n",
       "      <td>0</td>\n",
       "      <td>0</td>\n",
       "      <td>0</td>\n",
       "      <td>0</td>\n",
       "      <td>NaN</td>\n",
       "      <td>NaN</td>\n",
       "      <td>NaN</td>\n",
       "      <td>NaN</td>\n",
       "      <td>NaN</td>\n",
       "      <td>NaN</td>\n",
       "      <td>NaN</td>\n",
       "      <td>NaN</td>\n",
       "      <td>schedule_only</td>\n",
       "      <td>NaN</td>\n",
       "      <td>SLO Schedule</td>\n",
       "      <td>Broad/Airport/Johnson</td>\n",
       "      <td>1B</td>\n",
       "      <td>1B Broad/Airport/Johnson</td>\n",
       "      <td>10866826</td>\n",
       "      <td>recRIGtFV5uxrTx05</td>\n",
       "      <td>aHR0cHM6Ly9hcHAubWVjYXRyYW4uY29tL3VyYi93cy9mZWVkL2MybDBaVDF6Ykc5MGNtRnVjMmwwTzJOc2FXVnVkRDF6Wld4bU8yVjRjR2x5WlQwN2RIbHdaVDFuZEdaek8ydGxlVDB6WlRNd016TTFPVFJpTVRFMk56QTBOMkl4TmpRd05qQTBaalF3TUdNek16ZGlNMkUxTVRRMA==</td>\n",
       "      <td>reciakGBN1DP9dK9N</td>\n",
       "      <td>San Luis Obispo Regional Transit Authority</td>\n",
       "      <td>05 - San Luis Obispo</td>\n",
       "      <td>90206</td>\n",
       "      <td>San Luis Obispo</td>\n",
       "      <td>San Luis Obispo</td>\n",
       "      <td>San Luis Obispo</td>\n",
       "      <td>True</td>\n",
       "      <td>True</td>\n",
       "      <td>5307;5311;5339</td>\n",
       "      <td>41.00</td>\n",
       "      <td>41.00</td>\n",
       "      <td>NaN</td>\n",
       "      <td>San Luis Obispo, CA</td>\n",
       "      <td>4034.00</td>\n",
       "      <td>NaN</td>\n",
       "      <td>NaN</td>\n",
       "      <td>130.00</td>\n",
       "      <td>56904.00</td>\n",
       "      <td>206008.00</td>\n",
       "      <td>None</td>\n",
       "      <td>None</td>\n",
       "      <td>Full Reporter</td>\n",
       "      <td>Public Agency or Authority of Transit Service</td>\n",
       "      <td>NaN</td>\n",
       "      <td>41.00</td>\n",
       "      <td>2022.00</td>\n",
       "      <td>Northbound</td>\n",
       "    </tr>\n",
       "    <tr>\n",
       "      <th>1</th>\n",
       "      <td>014d0998350083249a9eb310635548c2</td>\n",
       "      <td>1.00</td>\n",
       "      <td>all_day</td>\n",
       "      <td>45.00</td>\n",
       "      <td>0.31</td>\n",
       "      <td>8</td>\n",
       "      <td>0.33</td>\n",
       "      <td>0.00</td>\n",
       "      <td>1.00</td>\n",
       "      <td>0.00</td>\n",
       "      <td>1.00</td>\n",
       "      <td>0.00</td>\n",
       "      <td>0.00</td>\n",
       "      <td>2023-11-15</td>\n",
       "      <td>rapid</td>\n",
       "      <td>0</td>\n",
       "      <td>0</td>\n",
       "      <td>NaN</td>\n",
       "      <td>NaN</td>\n",
       "      <td>0</td>\n",
       "      <td>0</td>\n",
       "      <td>0</td>\n",
       "      <td>0</td>\n",
       "      <td>0</td>\n",
       "      <td>0</td>\n",
       "      <td>NaN</td>\n",
       "      <td>NaN</td>\n",
       "      <td>NaN</td>\n",
       "      <td>NaN</td>\n",
       "      <td>NaN</td>\n",
       "      <td>NaN</td>\n",
       "      <td>NaN</td>\n",
       "      <td>NaN</td>\n",
       "      <td>schedule_only</td>\n",
       "      <td>NaN</td>\n",
       "      <td>SLO Schedule</td>\n",
       "      <td>Broad/Airport/Johnson</td>\n",
       "      <td>1B</td>\n",
       "      <td>1B Broad/Airport/Johnson</td>\n",
       "      <td>10866826</td>\n",
       "      <td>recRIGtFV5uxrTx05</td>\n",
       "      <td>aHR0cHM6Ly9hcHAubWVjYXRyYW4uY29tL3VyYi93cy9mZWVkL2MybDBaVDF6Ykc5MGNtRnVjMmwwTzJOc2FXVnVkRDF6Wld4bU8yVjRjR2x5WlQwN2RIbHdaVDFuZEdaek8ydGxlVDB6WlRNd016TTFPVFJpTVRFMk56QTBOMkl4TmpRd05qQTBaalF3TUdNek16ZGlNMkUxTVRRMA==</td>\n",
       "      <td>reciakGBN1DP9dK9N</td>\n",
       "      <td>San Luis Obispo Regional Transit Authority</td>\n",
       "      <td>05 - San Luis Obispo</td>\n",
       "      <td>90206</td>\n",
       "      <td>San Luis Obispo</td>\n",
       "      <td>San Luis Obispo</td>\n",
       "      <td>San Luis Obispo</td>\n",
       "      <td>True</td>\n",
       "      <td>True</td>\n",
       "      <td>5307;5311;5339</td>\n",
       "      <td>41.00</td>\n",
       "      <td>41.00</td>\n",
       "      <td>NaN</td>\n",
       "      <td>San Luis Obispo, CA</td>\n",
       "      <td>4034.00</td>\n",
       "      <td>NaN</td>\n",
       "      <td>NaN</td>\n",
       "      <td>130.00</td>\n",
       "      <td>56904.00</td>\n",
       "      <td>206008.00</td>\n",
       "      <td>None</td>\n",
       "      <td>None</td>\n",
       "      <td>Full Reporter</td>\n",
       "      <td>Public Agency or Authority of Transit Service</td>\n",
       "      <td>NaN</td>\n",
       "      <td>41.00</td>\n",
       "      <td>2022.00</td>\n",
       "      <td>Northbound</td>\n",
       "    </tr>\n",
       "  </tbody>\n",
       "</table>\n",
       "</div>"
      ],
      "text/plain": [
       "          schedule_gtfs_dataset_key  direction_id time_period  \\\n",
       "0  014d0998350083249a9eb310635548c2          1.00     all_day   \n",
       "1  014d0998350083249a9eb310635548c2          1.00     all_day   \n",
       "\n",
       "   avg_scheduled_service_minutes  avg_stop_miles  n_scheduled_trips  \\\n",
       "0                          45.00            0.31                  8   \n",
       "1                          45.00            0.31                  8   \n",
       "\n",
       "   frequency  is_express  is_rapid  is_rail  is_coverage  is_downtown_local  \\\n",
       "0       0.33        0.00      1.00     0.00         1.00               0.00   \n",
       "1       0.33        0.00      1.00     0.00         1.00               0.00   \n",
       "\n",
       "   is_local service_date typology  minutes_atleast1_vp  minutes_atleast2_vp  \\\n",
       "0      0.00   2023-10-11    rapid                    0                    0   \n",
       "1      0.00   2023-11-15    rapid                    0                    0   \n",
       "\n",
       "   total_rt_service_minutes  total_scheduled_service_minutes  total_vp  \\\n",
       "0                       NaN                              NaN         0   \n",
       "1                       NaN                              NaN         0   \n",
       "\n",
       "   vp_in_shape  is_early  is_ontime  is_late  n_vp_trips  vp_per_minute  \\\n",
       "0            0         0          0        0           0            NaN   \n",
       "1            0         0          0        0           0            NaN   \n",
       "\n",
       "   pct_in_shape  pct_rt_journey_atleast1_vp  pct_rt_journey_atleast2_vp  \\\n",
       "0           NaN                         NaN                         NaN   \n",
       "1           NaN                         NaN                         NaN   \n",
       "\n",
       "   pct_sched_journey_atleast1_vp  pct_sched_journey_atleast2_vp  \\\n",
       "0                            NaN                            NaN   \n",
       "1                            NaN                            NaN   \n",
       "\n",
       "   rt_sched_journey_ratio  avg_rt_service_minutes sched_rt_category  \\\n",
       "0                     NaN                     NaN     schedule_only   \n",
       "1                     NaN                     NaN     schedule_only   \n",
       "\n",
       "   speed_mph          name        route_long_name route_short_name  \\\n",
       "0        NaN  SLO Schedule  Broad/Airport/Johnson               1B   \n",
       "1        NaN  SLO Schedule  Broad/Airport/Johnson               1B   \n",
       "\n",
       "        route_combined_name  route_id schedule_source_record_id  \\\n",
       "0  1B Broad/Airport/Johnson  10866826         recRIGtFV5uxrTx05   \n",
       "1  1B Broad/Airport/Johnson  10866826         recRIGtFV5uxrTx05   \n",
       "\n",
       "                                                                                                                                                                                                             base64_url  \\\n",
       "0  aHR0cHM6Ly9hcHAubWVjYXRyYW4uY29tL3VyYi93cy9mZWVkL2MybDBaVDF6Ykc5MGNtRnVjMmwwTzJOc2FXVnVkRDF6Wld4bU8yVjRjR2x5WlQwN2RIbHdaVDFuZEdaek8ydGxlVDB6WlRNd016TTFPVFJpTVRFMk56QTBOMkl4TmpRd05qQTBaalF3TUdNek16ZGlNMkUxTVRRMA==   \n",
       "1  aHR0cHM6Ly9hcHAubWVjYXRyYW4uY29tL3VyYi93cy9mZWVkL2MybDBaVDF6Ykc5MGNtRnVjMmwwTzJOc2FXVnVkRDF6Wld4bU8yVjRjR2x5WlQwN2RIbHdaVDFuZEdaek8ydGxlVDB6WlRNd016TTFPVFJpTVRFMk56QTBOMkl4TmpRd05qQTBaalF3TUdNek16ZGlNMkUxTVRRMA==   \n",
       "\n",
       "  organization_source_record_id                           organization_name  \\\n",
       "0             reciakGBN1DP9dK9N  San Luis Obispo Regional Transit Authority   \n",
       "1             reciakGBN1DP9dK9N  San Luis Obispo Regional Transit Authority   \n",
       "\n",
       "      caltrans_district ntd_id_2022  counties_served          hq_city  \\\n",
       "0  05 - San Luis Obispo       90206  San Luis Obispo  San Luis Obispo   \n",
       "1  05 - San Luis Obispo       90206  San Luis Obispo  San Luis Obispo   \n",
       "\n",
       "         hq_county is_public_entity is_publicly_operating funding_sources  \\\n",
       "0  San Luis Obispo             True                  True  5307;5311;5339   \n",
       "1  San Luis Obispo             True                  True  5307;5311;5339   \n",
       "\n",
       "   on_demand_vehicles_at_max_service  vehicles_at_max_service  \\\n",
       "0                              41.00                    41.00   \n",
       "1                              41.00                    41.00   \n",
       "\n",
       "   number_of_state_counties             uza_name  density  \\\n",
       "0                       NaN  San Luis Obispo, CA  4034.00   \n",
       "1                       NaN  San Luis Obispo, CA  4034.00   \n",
       "\n",
       "   number_of_counties_with_service  state_admin_funds_expended  \\\n",
       "0                              NaN                         NaN   \n",
       "1                              NaN                         NaN   \n",
       "\n",
       "   service_area_sq_miles  population  service_area_pop subrecipient_type  \\\n",
       "0                 130.00    56904.00         206008.00              None   \n",
       "1                 130.00    56904.00         206008.00              None   \n",
       "\n",
       "  primary_uza  reporter_type                              organization_type  \\\n",
       "0        None  Full Reporter  Public Agency or Authority of Transit Service   \n",
       "1        None  Full Reporter  Public Agency or Authority of Transit Service   \n",
       "\n",
       "   voms_pt  voms_do    year route_primary_direction  \n",
       "0      NaN    41.00 2022.00              Northbound  \n",
       "1      NaN    41.00 2022.00              Northbound  "
      ]
     },
     "execution_count": 36,
     "metadata": {},
     "output_type": "execute_result"
    }
   ],
   "source": [
    "og.head(2)"
   ]
  },
  {
   "cell_type": "markdown",
   "id": "5b56fff3-2167-4729-bb37-a5ca931f6ee6",
   "metadata": {},
   "source": [
    "### Find frequent routes\n",
    "* Try to figure out where `frequency` is calculated\n",
    "    * `gtfs_funnel/schedule_stats_by_route`"
   ]
  },
  {
   "cell_type": "code",
   "execution_count": 37,
   "id": "c54bff36-56a3-4b04-9dd8-18a509dcefd6",
   "metadata": {},
   "outputs": [
    {
     "data": {
      "text/plain": [
       "'gs://calitp-analytics-data/data-analyses/rt_vs_schedule/'"
      ]
     },
     "execution_count": 37,
     "metadata": {},
     "output_type": "execute_result"
    }
   ],
   "source": [
    "RT_SCHED_GCS"
   ]
  },
  {
   "cell_type": "code",
   "execution_count": 38,
   "id": "fe743cd5-26f3-47a9-ab80-93617054e8e8",
   "metadata": {},
   "outputs": [
    {
     "data": {
      "text/plain": [
       "'schedule_trip/schedule_trip_metrics'"
      ]
     },
     "execution_count": 38,
     "metadata": {},
     "output_type": "execute_result"
    }
   ],
   "source": [
    "GTFS_DATA_DICT.rt_vs_schedule_tables.sched_trip_metrics"
   ]
  },
  {
   "cell_type": "code",
   "execution_count": 39,
   "id": "2869367f-d7ae-4fe9-b712-fbca3c692531",
   "metadata": {},
   "outputs": [],
   "source": [
    "july_trip_metrics = pd.read_parquet(\n",
    "    \"gs://calitp-analytics-data/data-analyses/rt_vs_schedule/schedule_trip/schedule_trip_metrics_2024-07-17.parquet\"\n",
    ")"
   ]
  },
  {
   "cell_type": "code",
   "execution_count": 40,
   "id": "fb3cb3ab-7fe0-4b31-9923-ca0a448c05d9",
   "metadata": {},
   "outputs": [
    {
     "data": {
      "text/html": [
       "<div>\n",
       "<style scoped>\n",
       "    .dataframe tbody tr th:only-of-type {\n",
       "        vertical-align: middle;\n",
       "    }\n",
       "\n",
       "    .dataframe tbody tr th {\n",
       "        vertical-align: top;\n",
       "    }\n",
       "\n",
       "    .dataframe thead th {\n",
       "        text-align: right;\n",
       "    }\n",
       "</style>\n",
       "<table border=\"1\" class=\"dataframe\">\n",
       "  <thead>\n",
       "    <tr style=\"text-align: right;\">\n",
       "      <th></th>\n",
       "      <th>schedule_gtfs_dataset_key</th>\n",
       "      <th>trip_instance_key</th>\n",
       "      <th>median_stop_meters</th>\n",
       "      <th>time_of_day</th>\n",
       "      <th>scheduled_service_minutes</th>\n",
       "      <th>route_id</th>\n",
       "      <th>direction_id</th>\n",
       "    </tr>\n",
       "  </thead>\n",
       "  <tbody>\n",
       "    <tr>\n",
       "      <th>0</th>\n",
       "      <td>0139b1253130b33adcd4b3a4490530d2</td>\n",
       "      <td>0037af189a7c9b56c25838f7dde0c9a3</td>\n",
       "      <td>381.67</td>\n",
       "      <td>Midday</td>\n",
       "      <td>40.00</td>\n",
       "      <td>T2</td>\n",
       "      <td>NaN</td>\n",
       "    </tr>\n",
       "    <tr>\n",
       "      <th>1</th>\n",
       "      <td>0139b1253130b33adcd4b3a4490530d2</td>\n",
       "      <td>034760aa2aaacfe37245acfbeb167c2d</td>\n",
       "      <td>585.05</td>\n",
       "      <td>PM Peak</td>\n",
       "      <td>22.00</td>\n",
       "      <td>D3</td>\n",
       "      <td>NaN</td>\n",
       "    </tr>\n",
       "  </tbody>\n",
       "</table>\n",
       "</div>"
      ],
      "text/plain": [
       "          schedule_gtfs_dataset_key                 trip_instance_key  \\\n",
       "0  0139b1253130b33adcd4b3a4490530d2  0037af189a7c9b56c25838f7dde0c9a3   \n",
       "1  0139b1253130b33adcd4b3a4490530d2  034760aa2aaacfe37245acfbeb167c2d   \n",
       "\n",
       "   median_stop_meters time_of_day  scheduled_service_minutes route_id  \\\n",
       "0              381.67      Midday                      40.00       T2   \n",
       "1              585.05     PM Peak                      22.00       D3   \n",
       "\n",
       "   direction_id  \n",
       "0           NaN  \n",
       "1           NaN  "
      ]
     },
     "execution_count": 40,
     "metadata": {},
     "output_type": "execute_result"
    }
   ],
   "source": [
    "july_trip_metrics.head(2)"
   ]
  },
  {
   "cell_type": "code",
   "execution_count": 41,
   "id": "f4ee2668-0a7e-4370-8c75-6dc43a498339",
   "metadata": {},
   "outputs": [],
   "source": [
    "route_group_merge_cols = [\"schedule_gtfs_dataset_key\", \"route_id\", \"direction_id\"]"
   ]
  },
  {
   "cell_type": "code",
   "execution_count": 42,
   "id": "be078122-b5db-4e8f-8200-b66c2c19c5dc",
   "metadata": {},
   "outputs": [],
   "source": [
    "service_freq_df = gtfs_schedule_wrangling.aggregate_time_of_day_to_peak_offpeak(\n",
    "    july_trip_metrics, route_group_merge_cols, long_or_wide=\"long\"\n",
    ")"
   ]
  },
  {
   "cell_type": "code",
   "execution_count": 43,
   "id": "7dceab3c-374a-4c2d-9325-2094d89934a0",
   "metadata": {},
   "outputs": [
    {
     "data": {
      "text/html": [
       "<div>\n",
       "<style scoped>\n",
       "    .dataframe tbody tr th:only-of-type {\n",
       "        vertical-align: middle;\n",
       "    }\n",
       "\n",
       "    .dataframe tbody tr th {\n",
       "        vertical-align: top;\n",
       "    }\n",
       "\n",
       "    .dataframe thead th {\n",
       "        text-align: right;\n",
       "    }\n",
       "</style>\n",
       "<table border=\"1\" class=\"dataframe\">\n",
       "  <thead>\n",
       "    <tr style=\"text-align: right;\">\n",
       "      <th></th>\n",
       "      <th>schedule_gtfs_dataset_key</th>\n",
       "      <th>route_id</th>\n",
       "      <th>direction_id</th>\n",
       "      <th>n_trips</th>\n",
       "      <th>time_period</th>\n",
       "      <th>frequency</th>\n",
       "    </tr>\n",
       "  </thead>\n",
       "  <tbody>\n",
       "    <tr>\n",
       "      <th>0</th>\n",
       "      <td>015d67d5b75b5cf2b710bbadadfb75f5</td>\n",
       "      <td>17</td>\n",
       "      <td>0.00</td>\n",
       "      <td>22</td>\n",
       "      <td>all_day</td>\n",
       "      <td>0.92</td>\n",
       "    </tr>\n",
       "    <tr>\n",
       "      <th>1</th>\n",
       "      <td>015d67d5b75b5cf2b710bbadadfb75f5</td>\n",
       "      <td>17</td>\n",
       "      <td>1.00</td>\n",
       "      <td>22</td>\n",
       "      <td>all_day</td>\n",
       "      <td>0.92</td>\n",
       "    </tr>\n",
       "  </tbody>\n",
       "</table>\n",
       "</div>"
      ],
      "text/plain": [
       "          schedule_gtfs_dataset_key route_id  direction_id  n_trips  \\\n",
       "0  015d67d5b75b5cf2b710bbadadfb75f5       17          0.00       22   \n",
       "1  015d67d5b75b5cf2b710bbadadfb75f5       17          1.00       22   \n",
       "\n",
       "  time_period  frequency  \n",
       "0     all_day       0.92  \n",
       "1     all_day       0.92  "
      ]
     },
     "execution_count": 43,
     "metadata": {},
     "output_type": "execute_result"
    }
   ],
   "source": [
    "service_freq_df.head(2)"
   ]
  },
  {
   "cell_type": "code",
   "execution_count": 44,
   "id": "4434b8a6-e17a-4341-80d8-845db1648857",
   "metadata": {},
   "outputs": [
    {
     "data": {
      "text/plain": [
       "'vp_route_dir/route_direction_metrics'"
      ]
     },
     "execution_count": 44,
     "metadata": {},
     "output_type": "execute_result"
    }
   ],
   "source": [
    "GTFS_DATA_DICT.rt_vs_schedule_tables.vp_route_direction_metrics"
   ]
  },
  {
   "cell_type": "code",
   "execution_count": 52,
   "id": "3e74a5d1-c487-4891-9056-090e0eabaf0a",
   "metadata": {},
   "outputs": [],
   "source": [
    "ROUTE_DIR_EXPORT = GTFS_DATA_DICT.rt_vs_schedule_tables.sched_route_direction_metrics"
   ]
  },
  {
   "cell_type": "code",
   "execution_count": 53,
   "id": "67ae8a56-6871-4d07-98fa-1fb8d25c0696",
   "metadata": {},
   "outputs": [
    {
     "data": {
      "text/plain": [
       "'schedule_route_dir/schedule_route_direction_metrics'"
      ]
     },
     "execution_count": 53,
     "metadata": {},
     "output_type": "execute_result"
    }
   ],
   "source": [
    "ROUTE_DIR_EXPORT"
   ]
  },
  {
   "cell_type": "code",
   "execution_count": 55,
   "id": "d673dc85-7de0-4ac1-8cc8-9d629adc5de6",
   "metadata": {},
   "outputs": [],
   "source": [
    "july_dir_export = pd.read_parquet(\n",
    "    \"gs://calitp-analytics-data/data-analyses/rt_vs_schedule/schedule_route_dir/schedule_route_direction_metrics_2024-07-17.parquet\"\n",
    ")"
   ]
  },
  {
   "cell_type": "code",
   "execution_count": 57,
   "id": "330ae930-0852-450a-a302-ee1f010ebae8",
   "metadata": {},
   "outputs": [
    {
     "data": {
      "text/html": [
       "<div>\n",
       "<style scoped>\n",
       "    .dataframe tbody tr th:only-of-type {\n",
       "        vertical-align: middle;\n",
       "    }\n",
       "\n",
       "    .dataframe tbody tr th {\n",
       "        vertical-align: top;\n",
       "    }\n",
       "\n",
       "    .dataframe thead th {\n",
       "        text-align: right;\n",
       "    }\n",
       "</style>\n",
       "<table border=\"1\" class=\"dataframe\">\n",
       "  <thead>\n",
       "    <tr style=\"text-align: right;\">\n",
       "      <th></th>\n",
       "      <th>schedule_gtfs_dataset_key</th>\n",
       "      <th>route_id</th>\n",
       "      <th>direction_id</th>\n",
       "      <th>common_shape_id</th>\n",
       "      <th>route_name</th>\n",
       "      <th>avg_scheduled_service_minutes</th>\n",
       "      <th>avg_stop_miles</th>\n",
       "      <th>n_trips</th>\n",
       "      <th>time_period</th>\n",
       "      <th>frequency</th>\n",
       "      <th>is_coverage</th>\n",
       "      <th>is_downtown_local</th>\n",
       "      <th>is_local</th>\n",
       "      <th>is_rapid</th>\n",
       "      <th>is_express</th>\n",
       "      <th>is_rail</th>\n",
       "      <th>route_primary_direction</th>\n",
       "    </tr>\n",
       "  </thead>\n",
       "  <tbody>\n",
       "    <tr>\n",
       "      <th>0</th>\n",
       "      <td>c00acf594cd3612865b836c9cef64e2e</td>\n",
       "      <td>1X</td>\n",
       "      <td>1.00</td>\n",
       "      <td>shp-1X-01</td>\n",
       "      <td>Line 1X</td>\n",
       "      <td>37.14</td>\n",
       "      <td>0.23</td>\n",
       "      <td>14</td>\n",
       "      <td>all_day</td>\n",
       "      <td>0.58</td>\n",
       "      <td>0.00</td>\n",
       "      <td>1.00</td>\n",
       "      <td>0.00</td>\n",
       "      <td>0.00</td>\n",
       "      <td>0.00</td>\n",
       "      <td>0.00</td>\n",
       "      <td>Eastbound</td>\n",
       "    </tr>\n",
       "    <tr>\n",
       "      <th>1</th>\n",
       "      <td>c00acf594cd3612865b836c9cef64e2e</td>\n",
       "      <td>1X</td>\n",
       "      <td>1.00</td>\n",
       "      <td>shp-1X-01</td>\n",
       "      <td>Line 1X</td>\n",
       "      <td>37.14</td>\n",
       "      <td>0.23</td>\n",
       "      <td>6</td>\n",
       "      <td>offpeak</td>\n",
       "      <td>0.38</td>\n",
       "      <td>0.00</td>\n",
       "      <td>1.00</td>\n",
       "      <td>0.00</td>\n",
       "      <td>0.00</td>\n",
       "      <td>0.00</td>\n",
       "      <td>0.00</td>\n",
       "      <td>Eastbound</td>\n",
       "    </tr>\n",
       "  </tbody>\n",
       "</table>\n",
       "</div>"
      ],
      "text/plain": [
       "          schedule_gtfs_dataset_key route_id  direction_id common_shape_id  \\\n",
       "0  c00acf594cd3612865b836c9cef64e2e       1X          1.00       shp-1X-01   \n",
       "1  c00acf594cd3612865b836c9cef64e2e       1X          1.00       shp-1X-01   \n",
       "\n",
       "  route_name  avg_scheduled_service_minutes  avg_stop_miles  n_trips  \\\n",
       "0    Line 1X                          37.14            0.23       14   \n",
       "1    Line 1X                          37.14            0.23        6   \n",
       "\n",
       "  time_period  frequency  is_coverage  is_downtown_local  is_local  is_rapid  \\\n",
       "0     all_day       0.58         0.00               1.00      0.00      0.00   \n",
       "1     offpeak       0.38         0.00               1.00      0.00      0.00   \n",
       "\n",
       "   is_express  is_rail route_primary_direction  \n",
       "0        0.00     0.00               Eastbound  \n",
       "1        0.00     0.00               Eastbound  "
      ]
     },
     "execution_count": 57,
     "metadata": {},
     "output_type": "execute_result"
    }
   ],
   "source": [
    "july_dir_export.head(2).drop(columns=[\"geometry\"])"
   ]
  },
  {
   "cell_type": "markdown",
   "id": "36cfee81-bc8e-46e1-a750-0fb6cc9a8d77",
   "metadata": {},
   "source": [
    "#### Use `merge_data.concatenate_schedule_by_route_direction()`"
   ]
  },
  {
   "cell_type": "code",
   "execution_count": 58,
   "id": "253bbcbd-ee3d-4391-85f6-6d27daefc706",
   "metadata": {},
   "outputs": [],
   "source": [
    "import merge_data"
   ]
  },
  {
   "cell_type": "code",
   "execution_count": 61,
   "id": "92f67e80-262b-481e-b521-9c5a7541ea5e",
   "metadata": {},
   "outputs": [],
   "source": [
    "route_dir = merge_data.concatenate_schedule_by_route_direction(analysis_date_list)"
   ]
  },
  {
   "cell_type": "code",
   "execution_count": 62,
   "id": "0ec7a819-a1ee-4fb9-aad3-2e7805f0de72",
   "metadata": {},
   "outputs": [
    {
     "data": {
      "text/html": [
       "<div>\n",
       "<style scoped>\n",
       "    .dataframe tbody tr th:only-of-type {\n",
       "        vertical-align: middle;\n",
       "    }\n",
       "\n",
       "    .dataframe tbody tr th {\n",
       "        vertical-align: top;\n",
       "    }\n",
       "\n",
       "    .dataframe thead th {\n",
       "        text-align: right;\n",
       "    }\n",
       "</style>\n",
       "<table border=\"1\" class=\"dataframe\">\n",
       "  <thead>\n",
       "    <tr style=\"text-align: right;\">\n",
       "      <th></th>\n",
       "      <th>schedule_gtfs_dataset_key</th>\n",
       "      <th>route_id</th>\n",
       "      <th>direction_id</th>\n",
       "      <th>time_period</th>\n",
       "      <th>route_primary_direction</th>\n",
       "      <th>avg_scheduled_service_minutes</th>\n",
       "      <th>avg_stop_miles</th>\n",
       "      <th>n_scheduled_trips</th>\n",
       "      <th>frequency</th>\n",
       "      <th>is_express</th>\n",
       "      <th>is_rapid</th>\n",
       "      <th>is_rail</th>\n",
       "      <th>is_coverage</th>\n",
       "      <th>is_downtown_local</th>\n",
       "      <th>is_local</th>\n",
       "      <th>service_date</th>\n",
       "    </tr>\n",
       "  </thead>\n",
       "  <tbody>\n",
       "    <tr>\n",
       "      <th>0</th>\n",
       "      <td>014d0998350083249a9eb310635548c2</td>\n",
       "      <td>10866826</td>\n",
       "      <td>1.00</td>\n",
       "      <td>all_day</td>\n",
       "      <td>Northbound</td>\n",
       "      <td>45.00</td>\n",
       "      <td>0.31</td>\n",
       "      <td>8</td>\n",
       "      <td>0.33</td>\n",
       "      <td>0.00</td>\n",
       "      <td>1.00</td>\n",
       "      <td>0.00</td>\n",
       "      <td>1.00</td>\n",
       "      <td>0.00</td>\n",
       "      <td>0.00</td>\n",
       "      <td>2023-10-11</td>\n",
       "    </tr>\n",
       "    <tr>\n",
       "      <th>1</th>\n",
       "      <td>014d0998350083249a9eb310635548c2</td>\n",
       "      <td>10866826</td>\n",
       "      <td>1.00</td>\n",
       "      <td>all_day</td>\n",
       "      <td>Northbound</td>\n",
       "      <td>45.00</td>\n",
       "      <td>0.31</td>\n",
       "      <td>8</td>\n",
       "      <td>0.33</td>\n",
       "      <td>0.00</td>\n",
       "      <td>1.00</td>\n",
       "      <td>0.00</td>\n",
       "      <td>1.00</td>\n",
       "      <td>0.00</td>\n",
       "      <td>0.00</td>\n",
       "      <td>2023-11-15</td>\n",
       "    </tr>\n",
       "  </tbody>\n",
       "</table>\n",
       "</div>"
      ],
      "text/plain": [
       "          schedule_gtfs_dataset_key  route_id  direction_id time_period  \\\n",
       "0  014d0998350083249a9eb310635548c2  10866826          1.00     all_day   \n",
       "1  014d0998350083249a9eb310635548c2  10866826          1.00     all_day   \n",
       "\n",
       "  route_primary_direction  avg_scheduled_service_minutes  avg_stop_miles  \\\n",
       "0              Northbound                          45.00            0.31   \n",
       "1              Northbound                          45.00            0.31   \n",
       "\n",
       "   n_scheduled_trips  frequency  is_express  is_rapid  is_rail  is_coverage  \\\n",
       "0                  8       0.33        0.00      1.00     0.00         1.00   \n",
       "1                  8       0.33        0.00      1.00     0.00         1.00   \n",
       "\n",
       "   is_downtown_local  is_local service_date  \n",
       "0               0.00      0.00   2023-10-11  \n",
       "1               0.00      0.00   2023-11-15  "
      ]
     },
     "execution_count": 62,
     "metadata": {},
     "output_type": "execute_result"
    }
   ],
   "source": [
    "route_dir.head(2)"
   ]
  },
  {
   "cell_type": "code",
   "execution_count": 63,
   "id": "1c753076-ce9c-40ef-9d7f-13e123c71ae4",
   "metadata": {},
   "outputs": [],
   "source": [
    "route_dir[\"frequency_in_minutes\"] = 60 / route_dir.frequency"
   ]
  },
  {
   "cell_type": "code",
   "execution_count": 67,
   "id": "fd6c9a04-ce59-4d3d-8148-a379296e87f9",
   "metadata": {},
   "outputs": [],
   "source": [
    "subset = [\n",
    "    \"schedule_gtfs_dataset_key\",\n",
    "    \"route_id\",\n",
    "    \"direction_id\",\n",
    "    \"route_primary_direction\",\n",
    "    \"service_date\",\n",
    "    \"frequency_in_minutes\",\n",
    "]"
   ]
  },
  {
   "cell_type": "code",
   "execution_count": 68,
   "id": "a2f60f0d-da9a-42fc-a0c3-6b5f5242c3a7",
   "metadata": {},
   "outputs": [],
   "source": [
    "route_dir2 = route_dir[subset]"
   ]
  },
  {
   "cell_type": "code",
   "execution_count": 69,
   "id": "508f32cf-99d3-422b-8461-6ccdc480ac7e",
   "metadata": {},
   "outputs": [
    {
     "data": {
      "text/html": [
       "<div>\n",
       "<style scoped>\n",
       "    .dataframe tbody tr th:only-of-type {\n",
       "        vertical-align: middle;\n",
       "    }\n",
       "\n",
       "    .dataframe tbody tr th {\n",
       "        vertical-align: top;\n",
       "    }\n",
       "\n",
       "    .dataframe thead th {\n",
       "        text-align: right;\n",
       "    }\n",
       "</style>\n",
       "<table border=\"1\" class=\"dataframe\">\n",
       "  <thead>\n",
       "    <tr style=\"text-align: right;\">\n",
       "      <th></th>\n",
       "      <th>schedule_gtfs_dataset_key</th>\n",
       "      <th>route_id</th>\n",
       "      <th>direction_id</th>\n",
       "      <th>route_primary_direction</th>\n",
       "      <th>service_date</th>\n",
       "      <th>frequency_in_minutes</th>\n",
       "    </tr>\n",
       "  </thead>\n",
       "  <tbody>\n",
       "    <tr>\n",
       "      <th>0</th>\n",
       "      <td>014d0998350083249a9eb310635548c2</td>\n",
       "      <td>10866826</td>\n",
       "      <td>1.00</td>\n",
       "      <td>Northbound</td>\n",
       "      <td>2023-10-11</td>\n",
       "      <td>181.82</td>\n",
       "    </tr>\n",
       "    <tr>\n",
       "      <th>1</th>\n",
       "      <td>014d0998350083249a9eb310635548c2</td>\n",
       "      <td>10866826</td>\n",
       "      <td>1.00</td>\n",
       "      <td>Northbound</td>\n",
       "      <td>2023-11-15</td>\n",
       "      <td>181.82</td>\n",
       "    </tr>\n",
       "  </tbody>\n",
       "</table>\n",
       "</div>"
      ],
      "text/plain": [
       "          schedule_gtfs_dataset_key  route_id  direction_id  \\\n",
       "0  014d0998350083249a9eb310635548c2  10866826          1.00   \n",
       "1  014d0998350083249a9eb310635548c2  10866826          1.00   \n",
       "\n",
       "  route_primary_direction service_date  frequency_in_minutes  \n",
       "0              Northbound   2023-10-11                181.82  \n",
       "1              Northbound   2023-11-15                181.82  "
      ]
     },
     "execution_count": 69,
     "metadata": {},
     "output_type": "execute_result"
    }
   ],
   "source": [
    "route_dir2.head(2)"
   ]
  },
  {
   "cell_type": "code",
   "execution_count": 70,
   "id": "5c56e89d-c9bb-4792-afe4-d65fdd334bf8",
   "metadata": {},
   "outputs": [
    {
     "data": {
      "text/plain": [
       "count   166802.00\n",
       "mean       202.54\n",
       "std        316.19\n",
       "min          4.00\n",
       "25%         38.46\n",
       "50%         80.00\n",
       "75%        193.55\n",
       "max       1500.00\n",
       "Name: frequency_in_minutes, dtype: float64"
      ]
     },
     "execution_count": 70,
     "metadata": {},
     "output_type": "execute_result"
    }
   ],
   "source": [
    "route_dir2.frequency_in_minutes.describe()"
   ]
  },
  {
   "cell_type": "code",
   "execution_count": 72,
   "id": "c1050c0c-3959-444f-89be-2b7336a80d35",
   "metadata": {},
   "outputs": [],
   "source": [
    "route_dir3 = route_dir2.loc[route_dir2.frequency_in_minutes <= 10]"
   ]
  },
  {
   "cell_type": "code",
   "execution_count": 109,
   "id": "aa849097-d05e-48e0-a3f0-4020feb00409",
   "metadata": {},
   "outputs": [
    {
     "data": {
      "text/plain": [
       "count   1995.00\n",
       "mean       8.01\n",
       "std        1.61\n",
       "min        4.00\n",
       "25%        6.96\n",
       "50%        8.13\n",
       "75%        9.40\n",
       "max       10.00\n",
       "Name: frequency_in_minutes, dtype: float64"
      ]
     },
     "execution_count": 109,
     "metadata": {},
     "output_type": "execute_result"
    }
   ],
   "source": [
    "route_dir3.frequency_in_minutes.describe()"
   ]
  },
  {
   "cell_type": "code",
   "execution_count": 73,
   "id": "ed23c3f0-fdf8-466d-bcc4-a7158b9d0cc1",
   "metadata": {},
   "outputs": [
    {
     "data": {
      "text/plain": [
       "(1995, 166802)"
      ]
     },
     "execution_count": 73,
     "metadata": {},
     "output_type": "execute_result"
    }
   ],
   "source": [
    "len(route_dir3), len(route_dir2)"
   ]
  },
  {
   "cell_type": "code",
   "execution_count": 74,
   "id": "fcf4e5f1-29d4-4a71-85ad-047e0b41c9b2",
   "metadata": {},
   "outputs": [
    {
     "data": {
      "text/plain": [
       "123"
      ]
     },
     "execution_count": 74,
     "metadata": {},
     "output_type": "execute_result"
    }
   ],
   "source": [
    "route_dir3.route_id.nunique()"
   ]
  },
  {
   "cell_type": "code",
   "execution_count": 75,
   "id": "5248c28f-e32e-48b9-b65d-4452f198188d",
   "metadata": {},
   "outputs": [
    {
     "data": {
      "text/plain": [
       "22"
      ]
     },
     "execution_count": 75,
     "metadata": {},
     "output_type": "execute_result"
    }
   ],
   "source": [
    "route_dir3.schedule_gtfs_dataset_key.nunique()"
   ]
  },
  {
   "cell_type": "code",
   "execution_count": 76,
   "id": "50553674-5ca5-49f2-a155-70275cab2aa7",
   "metadata": {},
   "outputs": [
    {
     "data": {
      "text/html": [
       "<div>\n",
       "<style scoped>\n",
       "    .dataframe tbody tr th:only-of-type {\n",
       "        vertical-align: middle;\n",
       "    }\n",
       "\n",
       "    .dataframe tbody tr th {\n",
       "        vertical-align: top;\n",
       "    }\n",
       "\n",
       "    .dataframe thead th {\n",
       "        text-align: right;\n",
       "    }\n",
       "</style>\n",
       "<table border=\"1\" class=\"dataframe\">\n",
       "  <thead>\n",
       "    <tr style=\"text-align: right;\">\n",
       "      <th></th>\n",
       "      <th>schedule_gtfs_dataset_key</th>\n",
       "      <th>route_id</th>\n",
       "      <th>direction_id</th>\n",
       "      <th>route_primary_direction</th>\n",
       "      <th>service_date</th>\n",
       "      <th>frequency_in_minutes</th>\n",
       "    </tr>\n",
       "  </thead>\n",
       "  <tbody>\n",
       "    <tr>\n",
       "      <th>1812</th>\n",
       "      <td>0666caf3ec1ecc96b74f4477ee4bc939</td>\n",
       "      <td>16-13172</td>\n",
       "      <td>0.00</td>\n",
       "      <td>Eastbound</td>\n",
       "      <td>2024-05-22</td>\n",
       "      <td>8.94</td>\n",
       "    </tr>\n",
       "    <tr>\n",
       "      <th>1813</th>\n",
       "      <td>0666caf3ec1ecc96b74f4477ee4bc939</td>\n",
       "      <td>16-13172</td>\n",
       "      <td>0.00</td>\n",
       "      <td>Eastbound</td>\n",
       "      <td>2024-06-12</td>\n",
       "      <td>8.94</td>\n",
       "    </tr>\n",
       "  </tbody>\n",
       "</table>\n",
       "</div>"
      ],
      "text/plain": [
       "             schedule_gtfs_dataset_key  route_id  direction_id  \\\n",
       "1812  0666caf3ec1ecc96b74f4477ee4bc939  16-13172          0.00   \n",
       "1813  0666caf3ec1ecc96b74f4477ee4bc939  16-13172          0.00   \n",
       "\n",
       "     route_primary_direction service_date  frequency_in_minutes  \n",
       "1812               Eastbound   2024-05-22                  8.94  \n",
       "1813               Eastbound   2024-06-12                  8.94  "
      ]
     },
     "execution_count": 76,
     "metadata": {},
     "output_type": "execute_result"
    }
   ],
   "source": [
    "route_dir3.head(2)"
   ]
  },
  {
   "cell_type": "code",
   "execution_count": 88,
   "id": "1ed28d1a-baf7-4d50-a79d-c47ecbeb34d9",
   "metadata": {},
   "outputs": [],
   "source": [
    "operators_with_high_frequency_routes = list(route_dir3.schedule_gtfs_dataset_key.unique())"
   ]
  },
  {
   "cell_type": "markdown",
   "id": "060637e9-bf37-4596-9188-c987c095582e",
   "metadata": {
    "tags": []
   },
   "source": [
    "### Look at scheduled trips"
   ]
  },
  {
   "cell_type": "code",
   "execution_count": 93,
   "id": "831765c1-d1c2-44cb-a5ea-a88e6d682edb",
   "metadata": {},
   "outputs": [],
   "source": [
    "TABLE = GTFS_DATA_DICT.schedule_downloads.trips"
   ]
  },
  {
   "cell_type": "code",
   "execution_count": 94,
   "id": "4df01d79-4378-44ff-a96e-e7728261a000",
   "metadata": {},
   "outputs": [],
   "source": [
    "FILE = f\"{COMPILED_CACHED_VIEWS}{TABLE}_{july_date}.parquet\""
   ]
  },
  {
   "cell_type": "code",
   "execution_count": 95,
   "id": "f80ccdca-54fd-421c-965c-b294bd5546df",
   "metadata": {},
   "outputs": [],
   "source": [
    "trips = pd.read_parquet(FILE)"
   ]
  },
  {
   "cell_type": "code",
   "execution_count": 96,
   "id": "c9f44f8e-8768-48c4-bf17-460bbcd8bf2d",
   "metadata": {},
   "outputs": [
    {
     "data": {
      "text/html": [
       "<div>\n",
       "<style scoped>\n",
       "    .dataframe tbody tr th:only-of-type {\n",
       "        vertical-align: middle;\n",
       "    }\n",
       "\n",
       "    .dataframe tbody tr th {\n",
       "        vertical-align: top;\n",
       "    }\n",
       "\n",
       "    .dataframe thead th {\n",
       "        text-align: right;\n",
       "    }\n",
       "</style>\n",
       "<table border=\"1\" class=\"dataframe\">\n",
       "  <thead>\n",
       "    <tr style=\"text-align: right;\">\n",
       "      <th></th>\n",
       "      <th>feed_key</th>\n",
       "      <th>gtfs_dataset_key</th>\n",
       "      <th>name</th>\n",
       "      <th>regional_feed_type</th>\n",
       "      <th>service_date</th>\n",
       "      <th>trip_start_date_pacific</th>\n",
       "      <th>trip_id</th>\n",
       "      <th>trip_instance_key</th>\n",
       "      <th>route_key</th>\n",
       "      <th>route_id</th>\n",
       "      <th>route_type</th>\n",
       "      <th>route_short_name</th>\n",
       "      <th>route_long_name</th>\n",
       "      <th>route_desc</th>\n",
       "      <th>direction_id</th>\n",
       "      <th>shape_array_key</th>\n",
       "      <th>shape_id</th>\n",
       "      <th>trip_first_departure_datetime_pacific</th>\n",
       "      <th>trip_last_arrival_datetime_pacific</th>\n",
       "      <th>service_hours</th>\n",
       "      <th>trip_start_date_local_tz</th>\n",
       "      <th>trip_first_departure_datetime_local_tz</th>\n",
       "      <th>trip_last_arrival_datetime_local_tz</th>\n",
       "    </tr>\n",
       "  </thead>\n",
       "  <tbody>\n",
       "    <tr>\n",
       "      <th>0</th>\n",
       "      <td>1b40eed2d0435ee6a620f0d31688ce64</td>\n",
       "      <td>1770249a5a2e770ca90628434d4934b1</td>\n",
       "      <td>VCTC GMV Schedule</td>\n",
       "      <td>Combined Regional Feed</td>\n",
       "      <td>2024-07-17</td>\n",
       "      <td>2024-07-17</td>\n",
       "      <td>139-887</td>\n",
       "      <td>2d929fcdddcc3d5863c14250a9db3b87</td>\n",
       "      <td>58abd0536184591223fd0c2e3d2b3628</td>\n",
       "      <td>3408</td>\n",
       "      <td>3</td>\n",
       "      <td>Route 21</td>\n",
       "      <td>Route 21</td>\n",
       "      <td>PACIFIC VIEW MALL via VICTORIA AVE</td>\n",
       "      <td>0.00</td>\n",
       "      <td>2d525bcdcc47d88c6ff5b7aa5ed3a0bc</td>\n",
       "      <td>8270</td>\n",
       "      <td>2024-07-17 08:45:00</td>\n",
       "      <td>2024-07-17 09:32:00</td>\n",
       "      <td>0.78</td>\n",
       "      <td>2024-07-17</td>\n",
       "      <td>2024-07-17 08:45:00</td>\n",
       "      <td>2024-07-17 09:32:00</td>\n",
       "    </tr>\n",
       "    <tr>\n",
       "      <th>1</th>\n",
       "      <td>1b40eed2d0435ee6a620f0d31688ce64</td>\n",
       "      <td>1770249a5a2e770ca90628434d4934b1</td>\n",
       "      <td>VCTC GMV Schedule</td>\n",
       "      <td>Combined Regional Feed</td>\n",
       "      <td>2024-07-17</td>\n",
       "      <td>2024-07-17</td>\n",
       "      <td>139-372</td>\n",
       "      <td>ed8a7e444c378b5f6911f85d33df46f7</td>\n",
       "      <td>58abd0536184591223fd0c2e3d2b3628</td>\n",
       "      <td>3408</td>\n",
       "      <td>3</td>\n",
       "      <td>Route 21</td>\n",
       "      <td>Route 21</td>\n",
       "      <td>PACIFIC VIEW MALL via VICTORIA AVE</td>\n",
       "      <td>0.00</td>\n",
       "      <td>2d525bcdcc47d88c6ff5b7aa5ed3a0bc</td>\n",
       "      <td>8270</td>\n",
       "      <td>2024-07-17 14:45:00</td>\n",
       "      <td>2024-07-17 15:35:00</td>\n",
       "      <td>0.83</td>\n",
       "      <td>2024-07-17</td>\n",
       "      <td>2024-07-17 14:45:00</td>\n",
       "      <td>2024-07-17 15:35:00</td>\n",
       "    </tr>\n",
       "  </tbody>\n",
       "</table>\n",
       "</div>"
      ],
      "text/plain": [
       "                           feed_key                  gtfs_dataset_key  \\\n",
       "0  1b40eed2d0435ee6a620f0d31688ce64  1770249a5a2e770ca90628434d4934b1   \n",
       "1  1b40eed2d0435ee6a620f0d31688ce64  1770249a5a2e770ca90628434d4934b1   \n",
       "\n",
       "                name      regional_feed_type service_date  \\\n",
       "0  VCTC GMV Schedule  Combined Regional Feed   2024-07-17   \n",
       "1  VCTC GMV Schedule  Combined Regional Feed   2024-07-17   \n",
       "\n",
       "  trip_start_date_pacific  trip_id                 trip_instance_key  \\\n",
       "0              2024-07-17  139-887  2d929fcdddcc3d5863c14250a9db3b87   \n",
       "1              2024-07-17  139-372  ed8a7e444c378b5f6911f85d33df46f7   \n",
       "\n",
       "                          route_key route_id route_type route_short_name  \\\n",
       "0  58abd0536184591223fd0c2e3d2b3628     3408          3         Route 21   \n",
       "1  58abd0536184591223fd0c2e3d2b3628     3408          3         Route 21   \n",
       "\n",
       "  route_long_name                          route_desc  direction_id  \\\n",
       "0        Route 21  PACIFIC VIEW MALL via VICTORIA AVE          0.00   \n",
       "1        Route 21  PACIFIC VIEW MALL via VICTORIA AVE          0.00   \n",
       "\n",
       "                    shape_array_key shape_id  \\\n",
       "0  2d525bcdcc47d88c6ff5b7aa5ed3a0bc     8270   \n",
       "1  2d525bcdcc47d88c6ff5b7aa5ed3a0bc     8270   \n",
       "\n",
       "  trip_first_departure_datetime_pacific trip_last_arrival_datetime_pacific  \\\n",
       "0                   2024-07-17 08:45:00                2024-07-17 09:32:00   \n",
       "1                   2024-07-17 14:45:00                2024-07-17 15:35:00   \n",
       "\n",
       "   service_hours trip_start_date_local_tz  \\\n",
       "0           0.78               2024-07-17   \n",
       "1           0.83               2024-07-17   \n",
       "\n",
       "  trip_first_departure_datetime_local_tz trip_last_arrival_datetime_local_tz  \n",
       "0                    2024-07-17 08:45:00                 2024-07-17 09:32:00  \n",
       "1                    2024-07-17 14:45:00                 2024-07-17 15:35:00  "
      ]
     },
     "execution_count": 96,
     "metadata": {},
     "output_type": "execute_result"
    }
   ],
   "source": [
    "trips.head(2)"
   ]
  },
  {
   "cell_type": "code",
   "execution_count": 101,
   "id": "b8ceb4e6-098d-4500-80ff-6418a5f61486",
   "metadata": {},
   "outputs": [],
   "source": [
    "frequent_routes = list(route_dir3.route_id.unique())"
   ]
  },
  {
   "cell_type": "code",
   "execution_count": 110,
   "id": "7ebbba1b-c44f-4ea0-87fc-29ea4efc627d",
   "metadata": {},
   "outputs": [],
   "source": [
    "trips2 = trips.loc[trips.route_id.isin(frequent_routes )]"
   ]
  },
  {
   "cell_type": "code",
   "execution_count": 112,
   "id": "df347493-0cac-4138-996e-0f392f498b7c",
   "metadata": {},
   "outputs": [
    {
     "data": {
      "text/plain": [
       "21157"
      ]
     },
     "execution_count": 112,
     "metadata": {},
     "output_type": "execute_result"
    }
   ],
   "source": [
    "len(trips2)"
   ]
  },
  {
   "cell_type": "code",
   "execution_count": 131,
   "id": "a1eb62e1-fd39-4686-b9b3-4250dd542698",
   "metadata": {},
   "outputs": [],
   "source": [
    "trip_instance_key = trips2[['gtfs_dataset_key','route_id','trip_instance_key','shape_array_key','feed_key']].drop_duplicates()"
   ]
  },
  {
   "cell_type": "code",
   "execution_count": 132,
   "id": "bbd05c92-a1ab-4d4e-8262-3d1ee2850e77",
   "metadata": {},
   "outputs": [],
   "source": [
    "trip_instance_key = trip_instance_key.rename(columns = {'gtfs_dataset_key':'schedule_gtfs_dataset_key'})"
   ]
  },
  {
   "cell_type": "markdown",
   "id": "00182173-6e7c-4122-8f4f-424ebf2391d4",
   "metadata": {},
   "source": [
    "### Look at scheduled stops\n",
    "* This took forever to load.\n",
    "* Use trip instance key to figure out which route this is? \n",
    "* Where is the column that tells me what time the bus should arrive at the stop?"
   ]
  },
  {
   "cell_type": "code",
   "execution_count": 84,
   "id": "aa4dab44-3702-440e-a88a-8b836874eea2",
   "metadata": {},
   "outputs": [],
   "source": [
    "july_scheduled_stops = helpers.import_scheduled_stop_times(july_date,\n",
    "                                    get_pandas=True,\n",
    "                                   with_direction = True)"
   ]
  },
  {
   "cell_type": "code",
   "execution_count": 86,
   "id": "ab25fa81-f22d-4645-8871-f0e66486cd0f",
   "metadata": {},
   "outputs": [
    {
     "data": {
      "text/plain": [
       "3400860"
      ]
     },
     "execution_count": 86,
     "metadata": {},
     "output_type": "execute_result"
    }
   ],
   "source": [
    "len(july_scheduled_stops)"
   ]
  },
  {
   "cell_type": "code",
   "execution_count": 87,
   "id": "c02f863d-cba8-4226-9f25-5071c1e5d283",
   "metadata": {},
   "outputs": [
    {
     "data": {
      "text/html": [
       "<div>\n",
       "<style scoped>\n",
       "    .dataframe tbody tr th:only-of-type {\n",
       "        vertical-align: middle;\n",
       "    }\n",
       "\n",
       "    .dataframe tbody tr th {\n",
       "        vertical-align: top;\n",
       "    }\n",
       "\n",
       "    .dataframe thead th {\n",
       "        text-align: right;\n",
       "    }\n",
       "</style>\n",
       "<table border=\"1\" class=\"dataframe\">\n",
       "  <thead>\n",
       "    <tr style=\"text-align: right;\">\n",
       "      <th></th>\n",
       "      <th>feed_key</th>\n",
       "      <th>stop_id</th>\n",
       "      <th>stop_sequence</th>\n",
       "      <th>schedule_gtfs_dataset_key</th>\n",
       "      <th>trip_instance_key</th>\n",
       "      <th>shape_array_key</th>\n",
       "      <th>stop_name</th>\n",
       "      <th>geometry</th>\n",
       "      <th>prior_stop_sequence</th>\n",
       "      <th>subseq_stop_sequence</th>\n",
       "      <th>stop_pair</th>\n",
       "      <th>stop_pair_name</th>\n",
       "      <th>stop_primary_direction</th>\n",
       "      <th>stop_meters</th>\n",
       "    </tr>\n",
       "  </thead>\n",
       "  <tbody>\n",
       "    <tr>\n",
       "      <th>0</th>\n",
       "      <td>67e66865189900c114b39a6579eb51bf</td>\n",
       "      <td>360379</td>\n",
       "      <td>0</td>\n",
       "      <td>bff13f8993ff18e43577db1f5596e014</td>\n",
       "      <td>000084643c3504d0e0815be35c3c883d</td>\n",
       "      <td>c6b4d32d39151d9a513c5ad32acd1d6a</td>\n",
       "      <td>Transpo (small)</td>\n",
       "      <td>POINT (-43138.178 -79349.544)</td>\n",
       "      <td>&lt;NA&gt;</td>\n",
       "      <td>1</td>\n",
       "      <td>360379__360107</td>\n",
       "      <td>Transpo (small)__G St @ East Campus (northbound)</td>\n",
       "      <td>Unknown</td>\n",
       "      <td>NaN</td>\n",
       "    </tr>\n",
       "  </tbody>\n",
       "</table>\n",
       "</div>"
      ],
      "text/plain": [
       "                           feed_key stop_id  stop_sequence  \\\n",
       "0  67e66865189900c114b39a6579eb51bf  360379              0   \n",
       "\n",
       "          schedule_gtfs_dataset_key                 trip_instance_key  \\\n",
       "0  bff13f8993ff18e43577db1f5596e014  000084643c3504d0e0815be35c3c883d   \n",
       "\n",
       "                    shape_array_key        stop_name  \\\n",
       "0  c6b4d32d39151d9a513c5ad32acd1d6a  Transpo (small)   \n",
       "\n",
       "                        geometry  prior_stop_sequence  subseq_stop_sequence  \\\n",
       "0  POINT (-43138.178 -79349.544)                 <NA>                     1   \n",
       "\n",
       "        stop_pair                                    stop_pair_name  \\\n",
       "0  360379__360107  Transpo (small)__G St @ East Campus (northbound)   \n",
       "\n",
       "  stop_primary_direction  stop_meters  \n",
       "0                Unknown          NaN  "
      ]
     },
     "execution_count": 87,
     "metadata": {},
     "output_type": "execute_result"
    }
   ],
   "source": [
    "july_scheduled_stops.head(1)"
   ]
  },
  {
   "cell_type": "code",
   "execution_count": 89,
   "id": "5fa24e6b-3ae1-4ea5-a5b5-f0cc479c724c",
   "metadata": {},
   "outputs": [],
   "source": [
    "july_scheduled_stops2 = july_scheduled_stops.loc[july_scheduled_stops.schedule_gtfs_dataset_key.isin(operators_with_high_frequency_routes)]"
   ]
  },
  {
   "cell_type": "code",
   "execution_count": 91,
   "id": "66f75334-2437-4feb-88ea-4e714467827b",
   "metadata": {},
   "outputs": [
    {
     "data": {
      "text/plain": [
       "1482682"
      ]
     },
     "execution_count": 91,
     "metadata": {},
     "output_type": "execute_result"
    }
   ],
   "source": [
    "len(july_scheduled_stops)- len(july_scheduled_stops2)"
   ]
  },
  {
   "cell_type": "code",
   "execution_count": 116,
   "id": "f092576b-ac5e-44ba-8bec-4579c064bb30",
   "metadata": {},
   "outputs": [
    {
     "data": {
      "text/html": [
       "<div>\n",
       "<style scoped>\n",
       "    .dataframe tbody tr th:only-of-type {\n",
       "        vertical-align: middle;\n",
       "    }\n",
       "\n",
       "    .dataframe tbody tr th {\n",
       "        vertical-align: top;\n",
       "    }\n",
       "\n",
       "    .dataframe thead th {\n",
       "        text-align: right;\n",
       "    }\n",
       "</style>\n",
       "<table border=\"1\" class=\"dataframe\">\n",
       "  <thead>\n",
       "    <tr style=\"text-align: right;\">\n",
       "      <th></th>\n",
       "      <th>feed_key</th>\n",
       "      <th>stop_id</th>\n",
       "      <th>stop_sequence</th>\n",
       "      <th>schedule_gtfs_dataset_key</th>\n",
       "      <th>trip_instance_key</th>\n",
       "      <th>shape_array_key</th>\n",
       "      <th>stop_name</th>\n",
       "      <th>geometry</th>\n",
       "      <th>prior_stop_sequence</th>\n",
       "      <th>subseq_stop_sequence</th>\n",
       "      <th>stop_pair</th>\n",
       "      <th>stop_pair_name</th>\n",
       "      <th>stop_primary_direction</th>\n",
       "      <th>stop_meters</th>\n",
       "    </tr>\n",
       "  </thead>\n",
       "  <tbody>\n",
       "    <tr>\n",
       "      <th>0</th>\n",
       "      <td>67e66865189900c114b39a6579eb51bf</td>\n",
       "      <td>360379</td>\n",
       "      <td>0</td>\n",
       "      <td>bff13f8993ff18e43577db1f5596e014</td>\n",
       "      <td>000084643c3504d0e0815be35c3c883d</td>\n",
       "      <td>c6b4d32d39151d9a513c5ad32acd1d6a</td>\n",
       "      <td>Transpo (small)</td>\n",
       "      <td>POINT (-43138.178 -79349.544)</td>\n",
       "      <td>&lt;NA&gt;</td>\n",
       "      <td>1</td>\n",
       "      <td>360379__360107</td>\n",
       "      <td>Transpo (small)__G St @ East Campus (northbound)</td>\n",
       "      <td>Unknown</td>\n",
       "      <td>NaN</td>\n",
       "    </tr>\n",
       "    <tr>\n",
       "      <th>1</th>\n",
       "      <td>67e66865189900c114b39a6579eb51bf</td>\n",
       "      <td>360107</td>\n",
       "      <td>1</td>\n",
       "      <td>bff13f8993ff18e43577db1f5596e014</td>\n",
       "      <td>000084643c3504d0e0815be35c3c883d</td>\n",
       "      <td>c6b4d32d39151d9a513c5ad32acd1d6a</td>\n",
       "      <td>G St @ East Campus (northbound)</td>\n",
       "      <td>POINT (-42015.205 -79466.737)</td>\n",
       "      <td>0</td>\n",
       "      <td>2</td>\n",
       "      <td>360107__360133</td>\n",
       "      <td>G St @ East Campus (northbound)__G St @ Olive (northbound)</td>\n",
       "      <td>Eastbound</td>\n",
       "      <td>1129.07</td>\n",
       "    </tr>\n",
       "  </tbody>\n",
       "</table>\n",
       "</div>"
      ],
      "text/plain": [
       "                           feed_key stop_id  stop_sequence  \\\n",
       "0  67e66865189900c114b39a6579eb51bf  360379              0   \n",
       "1  67e66865189900c114b39a6579eb51bf  360107              1   \n",
       "\n",
       "          schedule_gtfs_dataset_key                 trip_instance_key  \\\n",
       "0  bff13f8993ff18e43577db1f5596e014  000084643c3504d0e0815be35c3c883d   \n",
       "1  bff13f8993ff18e43577db1f5596e014  000084643c3504d0e0815be35c3c883d   \n",
       "\n",
       "                    shape_array_key                        stop_name  \\\n",
       "0  c6b4d32d39151d9a513c5ad32acd1d6a                  Transpo (small)   \n",
       "1  c6b4d32d39151d9a513c5ad32acd1d6a  G St @ East Campus (northbound)   \n",
       "\n",
       "                        geometry  prior_stop_sequence  subseq_stop_sequence  \\\n",
       "0  POINT (-43138.178 -79349.544)                 <NA>                     1   \n",
       "1  POINT (-42015.205 -79466.737)                    0                     2   \n",
       "\n",
       "        stop_pair                                              stop_pair_name  \\\n",
       "0  360379__360107            Transpo (small)__G St @ East Campus (northbound)   \n",
       "1  360107__360133  G St @ East Campus (northbound)__G St @ Olive (northbound)   \n",
       "\n",
       "  stop_primary_direction  stop_meters  \n",
       "0                Unknown          NaN  \n",
       "1              Eastbound      1129.07  "
      ]
     },
     "execution_count": 116,
     "metadata": {},
     "output_type": "execute_result"
    }
   ],
   "source": [
    "july_scheduled_stops.head(2)"
   ]
  },
  {
   "cell_type": "code",
   "execution_count": 127,
   "id": "9d974309-c286-41d6-8d32-2ae3e970c163",
   "metadata": {},
   "outputs": [
    {
     "data": {
      "text/html": [
       "<div>\n",
       "<style scoped>\n",
       "    .dataframe tbody tr th:only-of-type {\n",
       "        vertical-align: middle;\n",
       "    }\n",
       "\n",
       "    .dataframe tbody tr th {\n",
       "        vertical-align: top;\n",
       "    }\n",
       "\n",
       "    .dataframe thead th {\n",
       "        text-align: right;\n",
       "    }\n",
       "</style>\n",
       "<table border=\"1\" class=\"dataframe\">\n",
       "  <thead>\n",
       "    <tr style=\"text-align: right;\">\n",
       "      <th></th>\n",
       "      <th>schedule_gtfs_key</th>\n",
       "      <th>route_id</th>\n",
       "      <th>trip_instance_key</th>\n",
       "      <th>shape_array_key</th>\n",
       "      <th>feed_key</th>\n",
       "    </tr>\n",
       "  </thead>\n",
       "  <tbody>\n",
       "    <tr>\n",
       "      <th>585</th>\n",
       "      <td>bff13f8993ff18e43577db1f5596e014</td>\n",
       "      <td>24</td>\n",
       "      <td>358c4a12b94fccf348407c47b18e0f3b</td>\n",
       "      <td>98b7db927385c715225d4d07904c6acf</td>\n",
       "      <td>67e66865189900c114b39a6579eb51bf</td>\n",
       "    </tr>\n",
       "    <tr>\n",
       "      <th>586</th>\n",
       "      <td>bff13f8993ff18e43577db1f5596e014</td>\n",
       "      <td>24</td>\n",
       "      <td>e707252a1ae723b49081cd29b628de69</td>\n",
       "      <td>98b7db927385c715225d4d07904c6acf</td>\n",
       "      <td>67e66865189900c114b39a6579eb51bf</td>\n",
       "    </tr>\n",
       "  </tbody>\n",
       "</table>\n",
       "</div>"
      ],
      "text/plain": [
       "                    schedule_gtfs_key route_id  \\\n",
       "585  bff13f8993ff18e43577db1f5596e014       24   \n",
       "586  bff13f8993ff18e43577db1f5596e014       24   \n",
       "\n",
       "                    trip_instance_key                   shape_array_key  \\\n",
       "585  358c4a12b94fccf348407c47b18e0f3b  98b7db927385c715225d4d07904c6acf   \n",
       "586  e707252a1ae723b49081cd29b628de69  98b7db927385c715225d4d07904c6acf   \n",
       "\n",
       "                             feed_key  \n",
       "585  67e66865189900c114b39a6579eb51bf  \n",
       "586  67e66865189900c114b39a6579eb51bf  "
      ]
     },
     "execution_count": 127,
     "metadata": {},
     "output_type": "execute_result"
    }
   ],
   "source": [
    "trip_instance_key.head(2)"
   ]
  },
  {
   "cell_type": "code",
   "execution_count": 133,
   "id": "f5d10687-995a-43fd-8cb3-928f7bf028d1",
   "metadata": {},
   "outputs": [],
   "source": [
    "july_scheduled_stops2 = pd.merge(july_scheduled_stops, trip_instance_key,\n",
    "        on = [\"schedule_gtfs_dataset_key\",\"trip_instance_key\",'feed_key','shape_array_key','feed_key'],\n",
    "        how = \"inner\")"
   ]
  },
  {
   "cell_type": "code",
   "execution_count": 134,
   "id": "1287fdfc-8395-4115-a269-da82bdb29182",
   "metadata": {},
   "outputs": [
    {
     "data": {
      "text/html": [
       "<div>\n",
       "<style scoped>\n",
       "    .dataframe tbody tr th:only-of-type {\n",
       "        vertical-align: middle;\n",
       "    }\n",
       "\n",
       "    .dataframe tbody tr th {\n",
       "        vertical-align: top;\n",
       "    }\n",
       "\n",
       "    .dataframe thead th {\n",
       "        text-align: right;\n",
       "    }\n",
       "</style>\n",
       "<table border=\"1\" class=\"dataframe\">\n",
       "  <thead>\n",
       "    <tr style=\"text-align: right;\">\n",
       "      <th></th>\n",
       "      <th>feed_key</th>\n",
       "      <th>stop_id</th>\n",
       "      <th>stop_sequence</th>\n",
       "      <th>schedule_gtfs_dataset_key</th>\n",
       "      <th>trip_instance_key</th>\n",
       "      <th>shape_array_key</th>\n",
       "      <th>stop_name</th>\n",
       "      <th>geometry</th>\n",
       "      <th>prior_stop_sequence</th>\n",
       "      <th>subseq_stop_sequence</th>\n",
       "      <th>stop_pair</th>\n",
       "      <th>stop_pair_name</th>\n",
       "      <th>stop_primary_direction</th>\n",
       "      <th>stop_meters</th>\n",
       "      <th>route_id</th>\n",
       "    </tr>\n",
       "  </thead>\n",
       "  <tbody>\n",
       "    <tr>\n",
       "      <th>0</th>\n",
       "      <td>3de56f52621869e0f5d56d999fe7a500</td>\n",
       "      <td>17915</td>\n",
       "      <td>1</td>\n",
       "      <td>7cc0cb1871dfd558f11a2885c145d144</td>\n",
       "      <td>000239aa52624c26eb43ff57c0ed0e29</td>\n",
       "      <td>4cf439c717856c5d1420264448ee11b0</td>\n",
       "      <td>Transit Center Bay C</td>\n",
       "      <td>POINT (-210647.492 -22507.796)</td>\n",
       "      <td>&lt;NA&gt;</td>\n",
       "      <td>2</td>\n",
       "      <td>17915__14725</td>\n",
       "      <td>Transit Center Bay C__Fremont St &amp; Market St</td>\n",
       "      <td>Unknown</td>\n",
       "      <td>NaN</td>\n",
       "      <td>38R</td>\n",
       "    </tr>\n",
       "    <tr>\n",
       "      <th>1</th>\n",
       "      <td>3de56f52621869e0f5d56d999fe7a500</td>\n",
       "      <td>14725</td>\n",
       "      <td>2</td>\n",
       "      <td>7cc0cb1871dfd558f11a2885c145d144</td>\n",
       "      <td>000239aa52624c26eb43ff57c0ed0e29</td>\n",
       "      <td>4cf439c717856c5d1420264448ee11b0</td>\n",
       "      <td>Fremont St &amp; Market St</td>\n",
       "      <td>POINT (-210876.427 -22314.298)</td>\n",
       "      <td>1</td>\n",
       "      <td>3</td>\n",
       "      <td>14725__15689</td>\n",
       "      <td>Fremont St &amp; Market St__Market St &amp; Sansome St</td>\n",
       "      <td>Westbound</td>\n",
       "      <td>299.75</td>\n",
       "      <td>38R</td>\n",
       "    </tr>\n",
       "  </tbody>\n",
       "</table>\n",
       "</div>"
      ],
      "text/plain": [
       "                           feed_key stop_id  stop_sequence  \\\n",
       "0  3de56f52621869e0f5d56d999fe7a500   17915              1   \n",
       "1  3de56f52621869e0f5d56d999fe7a500   14725              2   \n",
       "\n",
       "          schedule_gtfs_dataset_key                 trip_instance_key  \\\n",
       "0  7cc0cb1871dfd558f11a2885c145d144  000239aa52624c26eb43ff57c0ed0e29   \n",
       "1  7cc0cb1871dfd558f11a2885c145d144  000239aa52624c26eb43ff57c0ed0e29   \n",
       "\n",
       "                    shape_array_key               stop_name  \\\n",
       "0  4cf439c717856c5d1420264448ee11b0    Transit Center Bay C   \n",
       "1  4cf439c717856c5d1420264448ee11b0  Fremont St & Market St   \n",
       "\n",
       "                         geometry  prior_stop_sequence  subseq_stop_sequence  \\\n",
       "0  POINT (-210647.492 -22507.796)                 <NA>                     2   \n",
       "1  POINT (-210876.427 -22314.298)                    1                     3   \n",
       "\n",
       "      stop_pair                                  stop_pair_name  \\\n",
       "0  17915__14725    Transit Center Bay C__Fremont St & Market St   \n",
       "1  14725__15689  Fremont St & Market St__Market St & Sansome St   \n",
       "\n",
       "  stop_primary_direction  stop_meters route_id  \n",
       "0                Unknown          NaN      38R  \n",
       "1              Westbound       299.75      38R  "
      ]
     },
     "execution_count": 134,
     "metadata": {},
     "output_type": "execute_result"
    }
   ],
   "source": [
    "july_scheduled_stops2.head(2)"
   ]
  },
  {
   "cell_type": "markdown",
   "id": "ad766d7e-beed-459e-b24c-af78249ebf44",
   "metadata": {},
   "source": [
    "### Look at scheduled stoptimes \n",
    "* Where's stop_pair name? \n",
    "* Which one should I use?\n",
    "* I'm having trouble finding a dataframe that will tell me what time the bus should arrive at a stop."
   ]
  },
  {
   "cell_type": "code",
   "execution_count": 152,
   "id": "e447844d-b9c7-4edb-ac63-2f20f8e79993",
   "metadata": {},
   "outputs": [],
   "source": [
    "TABLE = GTFS_DATA_DICT.rt_vs_schedule_tables.stop_times_direction\n",
    "FILE = f\"{RT_SCHED_GCS}{TABLE}_{july_date}.parquet\""
   ]
  },
  {
   "cell_type": "code",
   "execution_count": 135,
   "id": "f59cd879-8bbf-4a7b-828a-cc07cba364d7",
   "metadata": {},
   "outputs": [],
   "source": [
    "# stop_times = helpers.import_scheduled_stop_times(july_date, get_pandas = True)"
   ]
  },
  {
   "cell_type": "code",
   "execution_count": 153,
   "id": "eb371dde-e7d0-4d18-b891-4c70c233b610",
   "metadata": {},
   "outputs": [],
   "source": [
    "stop_times = pd.read_parquet(FILE)"
   ]
  },
  {
   "cell_type": "code",
   "execution_count": 156,
   "id": "b6adc31c-10ba-4b2e-b0f4-093fa5edf579",
   "metadata": {},
   "outputs": [
    {
     "data": {
      "text/plain": [
       "(3400860, 14)"
      ]
     },
     "execution_count": 156,
     "metadata": {},
     "output_type": "execute_result"
    }
   ],
   "source": [
    "stop_times.shape"
   ]
  },
  {
   "cell_type": "code",
   "execution_count": 157,
   "id": "6f675c99-51c3-46f6-b7a0-e7589ce49030",
   "metadata": {},
   "outputs": [
    {
     "data": {
      "text/html": [
       "<div>\n",
       "<style scoped>\n",
       "    .dataframe tbody tr th:only-of-type {\n",
       "        vertical-align: middle;\n",
       "    }\n",
       "\n",
       "    .dataframe tbody tr th {\n",
       "        vertical-align: top;\n",
       "    }\n",
       "\n",
       "    .dataframe thead th {\n",
       "        text-align: right;\n",
       "    }\n",
       "</style>\n",
       "<table border=\"1\" class=\"dataframe\">\n",
       "  <thead>\n",
       "    <tr style=\"text-align: right;\">\n",
       "      <th></th>\n",
       "      <th>feed_key</th>\n",
       "      <th>stop_id</th>\n",
       "      <th>stop_sequence</th>\n",
       "      <th>schedule_gtfs_dataset_key</th>\n",
       "      <th>trip_instance_key</th>\n",
       "      <th>shape_array_key</th>\n",
       "      <th>stop_name</th>\n",
       "      <th>geometry</th>\n",
       "      <th>prior_stop_sequence</th>\n",
       "      <th>subseq_stop_sequence</th>\n",
       "      <th>stop_pair</th>\n",
       "      <th>stop_pair_name</th>\n",
       "      <th>stop_primary_direction</th>\n",
       "      <th>stop_meters</th>\n",
       "    </tr>\n",
       "  </thead>\n",
       "  <tbody>\n",
       "    <tr>\n",
       "      <th>1342580</th>\n",
       "      <td>9b19da84c9b35a4624b5afbddb56dc5d</td>\n",
       "      <td>63505</td>\n",
       "      <td>28</td>\n",
       "      <td>fb467982dcc77a7f9199bebe709bb700</td>\n",
       "      <td>64cff63866002fbd4dfdf73d188261d8</td>\n",
       "      <td>78d25a28d5c1749b9a9b08923a254efb</td>\n",
       "      <td>Jackson &amp; Bambi</td>\n",
       "      <td>b'\\x01\\x01\\x00\\x00\\x00\\xfd\\xaf\\x0f!e\\xd4\\x03\\xc1\\x00\\xf2\\xc7\\x9e\\xcd\\xaa\\xf1\\xc0'</td>\n",
       "      <td>27</td>\n",
       "      <td>29</td>\n",
       "      <td>63505__63506</td>\n",
       "      <td>Jackson &amp; Bambi__Jackson &amp; Kammerer</td>\n",
       "      <td>Northbound</td>\n",
       "      <td>515.92</td>\n",
       "    </tr>\n",
       "    <tr>\n",
       "      <th>2426859</th>\n",
       "      <td>f4098e44e7274f77da6e5f4c7ea6adb4</td>\n",
       "      <td>89024</td>\n",
       "      <td>1</td>\n",
       "      <td>baeeb157e85a901e47b828ef9fe75091</td>\n",
       "      <td>b6eb29c2cab2400ee3377750cb1287be</td>\n",
       "      <td>60fb5f1dc42cf64a16cff2817e1ab59d</td>\n",
       "      <td>Otay Mesa Transit Center</td>\n",
       "      <td>b'\\x01\\x01\\x00\\x00\\x00\\x04\\xd5\\x10\\x92\\x83\\x90\\x11A(\\xb0\\xd7i\\x14^\"\\xc1'</td>\n",
       "      <td>&lt;NA&gt;</td>\n",
       "      <td>2</td>\n",
       "      <td>89024__60535</td>\n",
       "      <td>Otay Mesa Transit Center__Siempre Viva Rd &amp; Otay Center Dr</td>\n",
       "      <td>Unknown</td>\n",
       "      <td>NaN</td>\n",
       "    </tr>\n",
       "  </tbody>\n",
       "</table>\n",
       "</div>"
      ],
      "text/plain": [
       "                                 feed_key stop_id  stop_sequence  \\\n",
       "1342580  9b19da84c9b35a4624b5afbddb56dc5d   63505             28   \n",
       "2426859  f4098e44e7274f77da6e5f4c7ea6adb4   89024              1   \n",
       "\n",
       "                schedule_gtfs_dataset_key                 trip_instance_key  \\\n",
       "1342580  fb467982dcc77a7f9199bebe709bb700  64cff63866002fbd4dfdf73d188261d8   \n",
       "2426859  baeeb157e85a901e47b828ef9fe75091  b6eb29c2cab2400ee3377750cb1287be   \n",
       "\n",
       "                          shape_array_key                 stop_name  \\\n",
       "1342580  78d25a28d5c1749b9a9b08923a254efb           Jackson & Bambi   \n",
       "2426859  60fb5f1dc42cf64a16cff2817e1ab59d  Otay Mesa Transit Center   \n",
       "\n",
       "                                                                                  geometry  \\\n",
       "1342580  b'\\x01\\x01\\x00\\x00\\x00\\xfd\\xaf\\x0f!e\\xd4\\x03\\xc1\\x00\\xf2\\xc7\\x9e\\xcd\\xaa\\xf1\\xc0'   \n",
       "2426859           b'\\x01\\x01\\x00\\x00\\x00\\x04\\xd5\\x10\\x92\\x83\\x90\\x11A(\\xb0\\xd7i\\x14^\"\\xc1'   \n",
       "\n",
       "         prior_stop_sequence  subseq_stop_sequence     stop_pair  \\\n",
       "1342580                   27                    29  63505__63506   \n",
       "2426859                 <NA>                     2  89024__60535   \n",
       "\n",
       "                                                     stop_pair_name  \\\n",
       "1342580                         Jackson & Bambi__Jackson & Kammerer   \n",
       "2426859  Otay Mesa Transit Center__Siempre Viva Rd & Otay Center Dr   \n",
       "\n",
       "        stop_primary_direction  stop_meters  \n",
       "1342580             Northbound       515.92  \n",
       "2426859                Unknown          NaN  "
      ]
     },
     "execution_count": 157,
     "metadata": {},
     "output_type": "execute_result"
    }
   ],
   "source": [
    "stop_times.sample(2)"
   ]
  },
  {
   "cell_type": "code",
   "execution_count": 159,
   "id": "23e83110-f179-4a8e-a445-65944295f2db",
   "metadata": {},
   "outputs": [
    {
     "data": {
      "text/plain": [
       "Index(['feed_key', 'stop_id', 'stop_sequence', 'schedule_gtfs_dataset_key',\n",
       "       'trip_instance_key', 'shape_array_key', 'stop_name', 'geometry',\n",
       "       'prior_stop_sequence', 'subseq_stop_sequence', 'stop_pair',\n",
       "       'stop_pair_name', 'stop_primary_direction', 'stop_meters'],\n",
       "      dtype='object')"
      ]
     },
     "execution_count": 159,
     "metadata": {},
     "output_type": "execute_result"
    }
   ],
   "source": [
    "stop_times.columns"
   ]
  },
  {
   "cell_type": "code",
   "execution_count": null,
   "id": "636cea33-de8b-45a0-81a8-968dcd5e8211",
   "metadata": {},
   "outputs": [],
   "source": [
    "stop_times['always_matches2'] = stop_times.departure_sec - stop_times.arrival_sec"
   ]
  },
  {
   "cell_type": "code",
   "execution_count": null,
   "id": "cfedb89b-01f7-468e-b08a-74f23b911d2f",
   "metadata": {},
   "outputs": [],
   "source": [
    "stop_times.always_matches.value_counts().head()"
   ]
  },
  {
   "cell_type": "code",
   "execution_count": null,
   "id": "745120fd-bdd0-4412-a796-139c1c408052",
   "metadata": {},
   "outputs": [],
   "source": [
    "stop_times.loc[stop_times.always_matches2 == 60].sample(3)"
   ]
  },
  {
   "cell_type": "code",
   "execution_count": null,
   "id": "8b36db36-4473-4ed7-9ce2-a36df198ced1",
   "metadata": {},
   "outputs": [],
   "source": [
    "stop_times.always_matches2.value_counts().head()"
   ]
  },
  {
   "cell_type": "code",
   "execution_count": 160,
   "id": "ff23378f-55ca-4130-95a2-17665180fa5e",
   "metadata": {},
   "outputs": [],
   "source": [
    "TABLE2 = GTFS_DATA_DICT.schedule_downloads.stop_times\n",
    "FILE2 = f\"{COMPILED_CACHED_VIEWS}{TABLE2}_{july_date}.parquet\""
   ]
  },
  {
   "cell_type": "code",
   "execution_count": 162,
   "id": "2b5861b8-c35f-4f57-b7a0-7879340abfeb",
   "metadata": {},
   "outputs": [],
   "source": [
    "stop_times2 = pd.read_parquet(FILE2)"
   ]
  },
  {
   "cell_type": "code",
   "execution_count": 163,
   "id": "e1ef65bf-0f45-4a24-aadc-5b377bfa2b1e",
   "metadata": {},
   "outputs": [
    {
     "data": {
      "text/plain": [
       "Index(['feed_key', 'feed_timezone', 'base64_url', 'trip_id', 'stop_id',\n",
       "       'stop_sequence', 'timepoint', 'arrival_sec', 'departure_sec',\n",
       "       'arrival_hour', 'departure_hour'],\n",
       "      dtype='object')"
      ]
     },
     "execution_count": 163,
     "metadata": {},
     "output_type": "execute_result"
    }
   ],
   "source": [
    "stop_times2.columns"
   ]
  },
  {
   "cell_type": "markdown",
   "id": "96a2e35f-7506-4d6e-b25a-0bfe4e56fcbb",
   "metadata": {},
   "source": [
    "### `gtfs_funnel/stop_times_with_direction`"
   ]
  },
  {
   "cell_type": "code",
   "execution_count": 166,
   "id": "cb70f68a-727b-4b96-bf1b-ec564cbad0e4",
   "metadata": {},
   "outputs": [
    {
     "data": {
      "text/plain": [
       "'gs://calitp-analytics-data/data-analyses/rt_vs_schedule/'"
      ]
     },
     "execution_count": 166,
     "metadata": {},
     "output_type": "execute_result"
    }
   ],
   "source": [
    "RT_SCHED_GCS"
   ]
  },
  {
   "cell_type": "code",
   "execution_count": 165,
   "id": "b1c2383b-7a51-4de2-8efb-27a3cdcda87c",
   "metadata": {},
   "outputs": [
    {
     "data": {
      "text/plain": [
       "'stop_times_direction'"
      ]
     },
     "execution_count": 165,
     "metadata": {},
     "output_type": "execute_result"
    }
   ],
   "source": [
    "GTFS_DATA_DICT.rt_vs_schedule_tables.stop_times_direction"
   ]
  },
  {
   "cell_type": "code",
   "execution_count": 167,
   "id": "a76d97bf-8c3b-4f26-8197-350bfbf9d4a5",
   "metadata": {},
   "outputs": [],
   "source": [
    "july_gtfs_funnel = pd.read_parquet(\"gs://calitp-analytics-data/data-analyses/rt_vs_schedule/stop_times_direction_2024-07-17.parquet\")"
   ]
  },
  {
   "cell_type": "code",
   "execution_count": 168,
   "id": "3a96ec05-bc63-4f4c-9092-6806f410ed4d",
   "metadata": {},
   "outputs": [
    {
     "data": {
      "text/html": [
       "<div>\n",
       "<style scoped>\n",
       "    .dataframe tbody tr th:only-of-type {\n",
       "        vertical-align: middle;\n",
       "    }\n",
       "\n",
       "    .dataframe tbody tr th {\n",
       "        vertical-align: top;\n",
       "    }\n",
       "\n",
       "    .dataframe thead th {\n",
       "        text-align: right;\n",
       "    }\n",
       "</style>\n",
       "<table border=\"1\" class=\"dataframe\">\n",
       "  <thead>\n",
       "    <tr style=\"text-align: right;\">\n",
       "      <th></th>\n",
       "      <th>feed_key</th>\n",
       "      <th>stop_id</th>\n",
       "      <th>stop_sequence</th>\n",
       "      <th>schedule_gtfs_dataset_key</th>\n",
       "      <th>trip_instance_key</th>\n",
       "      <th>shape_array_key</th>\n",
       "      <th>stop_name</th>\n",
       "      <th>geometry</th>\n",
       "      <th>prior_stop_sequence</th>\n",
       "      <th>subseq_stop_sequence</th>\n",
       "      <th>stop_pair</th>\n",
       "      <th>stop_pair_name</th>\n",
       "      <th>stop_primary_direction</th>\n",
       "      <th>stop_meters</th>\n",
       "    </tr>\n",
       "  </thead>\n",
       "  <tbody>\n",
       "    <tr>\n",
       "      <th>0</th>\n",
       "      <td>67e66865189900c114b39a6579eb51bf</td>\n",
       "      <td>360379</td>\n",
       "      <td>0</td>\n",
       "      <td>bff13f8993ff18e43577db1f5596e014</td>\n",
       "      <td>000084643c3504d0e0815be35c3c883d</td>\n",
       "      <td>c6b4d32d39151d9a513c5ad32acd1d6a</td>\n",
       "      <td>Transpo (small)</td>\n",
       "      <td>b'\\x01\\x01\\x00\\x00\\x00\\x04\\x18(\\xafE\\x10\\xe5\\xc0 ds\\xb2X_\\xf3\\xc0'</td>\n",
       "      <td>&lt;NA&gt;</td>\n",
       "      <td>1</td>\n",
       "      <td>360379__360107</td>\n",
       "      <td>Transpo (small)__G St @ East Campus (northbound)</td>\n",
       "      <td>Unknown</td>\n",
       "      <td>NaN</td>\n",
       "    </tr>\n",
       "    <tr>\n",
       "      <th>1</th>\n",
       "      <td>67e66865189900c114b39a6579eb51bf</td>\n",
       "      <td>360107</td>\n",
       "      <td>1</td>\n",
       "      <td>bff13f8993ff18e43577db1f5596e014</td>\n",
       "      <td>000084643c3504d0e0815be35c3c883d</td>\n",
       "      <td>c6b4d32d39151d9a513c5ad32acd1d6a</td>\n",
       "      <td>G St @ East Campus (northbound)</td>\n",
       "      <td>b'\\x01\\x01\\x00\\x00\\x00\\xda4V\\x8f\\xe6\\x83\\xe4\\xc0\\x00]5\\xcb\\xabf\\xf3\\xc0'</td>\n",
       "      <td>0</td>\n",
       "      <td>2</td>\n",
       "      <td>360107__360133</td>\n",
       "      <td>G St @ East Campus (northbound)__G St @ Olive (northbound)</td>\n",
       "      <td>Eastbound</td>\n",
       "      <td>1129.07</td>\n",
       "    </tr>\n",
       "  </tbody>\n",
       "</table>\n",
       "</div>"
      ],
      "text/plain": [
       "                           feed_key stop_id  stop_sequence  \\\n",
       "0  67e66865189900c114b39a6579eb51bf  360379              0   \n",
       "1  67e66865189900c114b39a6579eb51bf  360107              1   \n",
       "\n",
       "          schedule_gtfs_dataset_key                 trip_instance_key  \\\n",
       "0  bff13f8993ff18e43577db1f5596e014  000084643c3504d0e0815be35c3c883d   \n",
       "1  bff13f8993ff18e43577db1f5596e014  000084643c3504d0e0815be35c3c883d   \n",
       "\n",
       "                    shape_array_key                        stop_name  \\\n",
       "0  c6b4d32d39151d9a513c5ad32acd1d6a                  Transpo (small)   \n",
       "1  c6b4d32d39151d9a513c5ad32acd1d6a  G St @ East Campus (northbound)   \n",
       "\n",
       "                                                                   geometry  \\\n",
       "0        b'\\x01\\x01\\x00\\x00\\x00\\x04\\x18(\\xafE\\x10\\xe5\\xc0 ds\\xb2X_\\xf3\\xc0'   \n",
       "1  b'\\x01\\x01\\x00\\x00\\x00\\xda4V\\x8f\\xe6\\x83\\xe4\\xc0\\x00]5\\xcb\\xabf\\xf3\\xc0'   \n",
       "\n",
       "   prior_stop_sequence  subseq_stop_sequence       stop_pair  \\\n",
       "0                 <NA>                     1  360379__360107   \n",
       "1                    0                     2  360107__360133   \n",
       "\n",
       "                                               stop_pair_name  \\\n",
       "0            Transpo (small)__G St @ East Campus (northbound)   \n",
       "1  G St @ East Campus (northbound)__G St @ Olive (northbound)   \n",
       "\n",
       "  stop_primary_direction  stop_meters  \n",
       "0                Unknown          NaN  \n",
       "1              Eastbound      1129.07  "
      ]
     },
     "execution_count": 168,
     "metadata": {},
     "output_type": "execute_result"
    }
   ],
   "source": [
    "july_gtfs_funnel.head(2)"
   ]
  }
 ],
 "metadata": {
  "kernelspec": {
   "display_name": "Python 3 (ipykernel)",
   "language": "python",
   "name": "python3"
  },
  "language_info": {
   "codemirror_mode": {
    "name": "ipython",
    "version": 3
   },
   "file_extension": ".py",
   "mimetype": "text/x-python",
   "name": "python",
   "nbconvert_exporter": "python",
   "pygments_lexer": "ipython3",
   "version": "3.9.13"
  }
 },
 "nbformat": 4,
 "nbformat_minor": 5
}
