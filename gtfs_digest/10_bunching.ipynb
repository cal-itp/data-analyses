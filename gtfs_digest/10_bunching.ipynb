{
 "cells": [
  {
   "cell_type": "markdown",
   "id": "3ce91c05-8644-46b4-a2d1-fdbb0ef76253",
   "metadata": {},
   "source": [
    "## Transit Bunching \n",
    "* cd data-analyses/rt_segment_speeds && pip install -r requirements.txt && cd ../_shared_utils && make setup_env && cd ../gtfs_digest\n",
    "* https://github.com/cal-itp/data-analyses/issues/1099"
   ]
  },
  {
   "cell_type": "code",
   "execution_count": 1,
   "id": "66b06b45-dcf3-4f75-8ffd-1939b93ddffe",
   "metadata": {},
   "outputs": [
    {
     "ename": "ModuleNotFoundError",
     "evalue": "No module named 'segment_speed_utils'",
     "output_type": "error",
     "traceback": [
      "\u001b[0;31m---------------------------------------------------------------------------\u001b[0m",
      "\u001b[0;31mModuleNotFoundError\u001b[0m                       Traceback (most recent call last)",
      "Cell \u001b[0;32mIn[1], line 3\u001b[0m\n\u001b[1;32m      1\u001b[0m \u001b[38;5;28;01mimport\u001b[39;00m \u001b[38;5;21;01mgeopandas\u001b[39;00m \u001b[38;5;28;01mas\u001b[39;00m \u001b[38;5;21;01mgpd\u001b[39;00m\n\u001b[1;32m      2\u001b[0m \u001b[38;5;28;01mimport\u001b[39;00m \u001b[38;5;21;01mpandas\u001b[39;00m \u001b[38;5;28;01mas\u001b[39;00m \u001b[38;5;21;01mpd\u001b[39;00m\n\u001b[0;32m----> 3\u001b[0m \u001b[38;5;28;01mfrom\u001b[39;00m \u001b[38;5;21;01msegment_speed_utils\u001b[39;00m \u001b[38;5;28;01mimport\u001b[39;00m gtfs_schedule_wrangling, helpers\n\u001b[1;32m      4\u001b[0m \u001b[38;5;28;01mfrom\u001b[39;00m \u001b[38;5;21;01mshared_utils\u001b[39;00m \u001b[38;5;28;01mimport\u001b[39;00m catalog_utils, rt_dates, rt_utils\n\u001b[1;32m      5\u001b[0m \u001b[38;5;28;01mfrom\u001b[39;00m \u001b[38;5;21;01mupdate_vars\u001b[39;00m \u001b[38;5;28;01mimport\u001b[39;00m GTFS_DATA_DICT, RT_SCHED_GCS, SCHED_GCS\n",
      "\u001b[0;31mModuleNotFoundError\u001b[0m: No module named 'segment_speed_utils'"
     ]
    }
   ],
   "source": [
    "import geopandas as gpd\n",
    "import pandas as pd\n",
    "from segment_speed_utils import gtfs_schedule_wrangling, helpers\n",
    "from shared_utils import catalog_utils, rt_dates, rt_utils\n",
    "from update_vars import GTFS_DATA_DICT, RT_SCHED_GCS, SCHED_GCS\n",
    "\n",
    "# https://github.com/cal-itp/data-analyses/blob/main/_shared_utils/shared_utils/gtfs_analytics_data.yml\n",
    "GTFS_DATA_DICT = catalog_utils.get_catalog(\"gtfs_analytics_data\")\n",
    "\n",
    "from segment_speed_utils.project_vars import (\n",
    "    COMPILED_CACHED_VIEWS,\n",
    "    GTFS_DATA_DICT,\n",
    "    PROJECT_CRS,\n",
    "    RT_SCHED_GCS,\n",
    "    SCHED_GCS,\n",
    "    SEGMENT_GCS,\n",
    ")"
   ]
  },
  {
   "cell_type": "code",
   "execution_count": null,
   "id": "142cc2b7-6ec4-42d8-969f-dc2456e7504b",
   "metadata": {},
   "outputs": [],
   "source": [
    "pd.options.display.max_columns = 100\n",
    "pd.options.display.float_format = \"{:.2f}\".format\n",
    "pd.set_option(\"display.max_rows\", None)\n",
    "pd.set_option(\"display.max_colwidth\", None)"
   ]
  },
  {
   "cell_type": "code",
   "execution_count": null,
   "id": "29e93fa8-95d6-4a33-a37c-2c5463e1a6da",
   "metadata": {},
   "outputs": [],
   "source": [
    "analysis_date_list = rt_dates.y2024_dates + rt_dates.y2023_dates"
   ]
  },
  {
   "cell_type": "code",
   "execution_count": null,
   "id": "88f89b22-c659-445b-99be-46a75ef9dda6",
   "metadata": {},
   "outputs": [],
   "source": [
    "analysis_date_list"
   ]
  },
  {
   "cell_type": "code",
   "execution_count": null,
   "id": "131a9af1-c74b-4f81-8f13-17faeb326792",
   "metadata": {},
   "outputs": [],
   "source": [
    "may_date = \"2024-05-22\""
   ]
  },
  {
   "cell_type": "markdown",
   "id": "5b56fff3-2167-4729-bb37-a5ca931f6ee6",
   "metadata": {},
   "source": [
    "### Find frequent routes\n",
    "* Try to figure out where `frequency` is calculated\n",
    "    * `gtfs_funnel/schedule_stats_by_route`"
   ]
  },
  {
   "cell_type": "code",
   "execution_count": null,
   "id": "3e74a5d1-c487-4891-9056-090e0eabaf0a",
   "metadata": {},
   "outputs": [],
   "source": [
    "ROUTE_DIR_EXPORT = GTFS_DATA_DICT.rt_vs_schedule_tables.sched_route_direction_metrics"
   ]
  },
  {
   "cell_type": "code",
   "execution_count": null,
   "id": "67ae8a56-6871-4d07-98fa-1fb8d25c0696",
   "metadata": {},
   "outputs": [],
   "source": [
    "ROUTE_DIR_EXPORT"
   ]
  },
  {
   "cell_type": "markdown",
   "id": "36cfee81-bc8e-46e1-a750-0fb6cc9a8d77",
   "metadata": {},
   "source": [
    "#### Use `merge_data.concatenate_schedule_by_route_direction()`"
   ]
  },
  {
   "cell_type": "code",
   "execution_count": null,
   "id": "253bbcbd-ee3d-4391-85f6-6d27daefc706",
   "metadata": {},
   "outputs": [],
   "source": [
    "import merge_data"
   ]
  },
  {
   "cell_type": "code",
   "execution_count": null,
   "id": "ad97cfff-ad30-4af9-a17c-05ad495444f0",
   "metadata": {},
   "outputs": [],
   "source": [
    "subset = [\n",
    "    \"schedule_gtfs_dataset_key\",\n",
    "    \"route_id\",\n",
    "    \"direction_id\",\n",
    "    \"route_primary_direction\",\n",
    "    \"service_date\",\n",
    "    \"frequency\",\n",
    "]"
   ]
  },
  {
   "cell_type": "code",
   "execution_count": null,
   "id": "92f67e80-262b-481e-b521-9c5a7541ea5e",
   "metadata": {},
   "outputs": [],
   "source": [
    "route_dir = merge_data.concatenate_schedule_by_route_direction([may_date])[subset]"
   ]
  },
  {
   "cell_type": "code",
   "execution_count": null,
   "id": "0ec7a819-a1ee-4fb9-aad3-2e7805f0de72",
   "metadata": {},
   "outputs": [],
   "source": [
    "route_dir.head(2)"
   ]
  },
  {
   "cell_type": "code",
   "execution_count": null,
   "id": "1c753076-ce9c-40ef-9d7f-13e123c71ae4",
   "metadata": {},
   "outputs": [],
   "source": [
    "route_dir[\"frequency_in_minutes\"] = 60 / route_dir.frequency"
   ]
  },
  {
   "cell_type": "code",
   "execution_count": null,
   "id": "c1050c0c-3959-444f-89be-2b7336a80d35",
   "metadata": {},
   "outputs": [],
   "source": [
    "route_dir2 = route_dir.loc[route_dir.frequency_in_minutes <= 10]"
   ]
  },
  {
   "cell_type": "code",
   "execution_count": null,
   "id": "aa849097-d05e-48e0-a3f0-4020feb00409",
   "metadata": {},
   "outputs": [],
   "source": [
    "route_dir2.frequency_in_minutes.describe()"
   ]
  },
  {
   "cell_type": "code",
   "execution_count": null,
   "id": "b37eaba9-621a-472c-9cfe-08d87feae554",
   "metadata": {},
   "outputs": [],
   "source": [
    "route_dir.frequency_in_minutes.describe()"
   ]
  },
  {
   "cell_type": "markdown",
   "id": "9e703948-4e4f-4e78-97c0-4f2c0951c8d6",
   "metadata": {},
   "source": [
    "#### Crosswalk stuff\n",
    "* Operators who run these high freq routes (by gtfs key)\n",
    "* Route ID of high frequency routes"
   ]
  },
  {
   "cell_type": "code",
   "execution_count": null,
   "id": "1ed28d1a-baf7-4d50-a79d-c47ecbeb34d9",
   "metadata": {},
   "outputs": [],
   "source": [
    "operators_with_high_frequency_routes = list(\n",
    "    route_dir2.schedule_gtfs_dataset_key.unique()\n",
    ")"
   ]
  },
  {
   "cell_type": "code",
   "execution_count": null,
   "id": "b8ceb4e6-098d-4500-80ff-6418a5f61486",
   "metadata": {},
   "outputs": [],
   "source": [
    "frequent_routes = list(route_dir2.route_id.unique())"
   ]
  },
  {
   "cell_type": "markdown",
   "id": "060637e9-bf37-4596-9188-c987c095582e",
   "metadata": {
    "tags": []
   },
   "source": [
    "### Look at scheduled trips"
   ]
  },
  {
   "cell_type": "code",
   "execution_count": null,
   "id": "831765c1-d1c2-44cb-a5ea-a88e6d682edb",
   "metadata": {},
   "outputs": [],
   "source": [
    "TABLE = GTFS_DATA_DICT.schedule_downloads.trips"
   ]
  },
  {
   "cell_type": "code",
   "execution_count": null,
   "id": "4df01d79-4378-44ff-a96e-e7728261a000",
   "metadata": {},
   "outputs": [],
   "source": [
    "FILE = f\"{COMPILED_CACHED_VIEWS}{TABLE}_{may_date}.parquet\""
   ]
  },
  {
   "cell_type": "code",
   "execution_count": null,
   "id": "f80ccdca-54fd-421c-965c-b294bd5546df",
   "metadata": {},
   "outputs": [],
   "source": [
    "trips = pd.read_parquet(FILE)"
   ]
  },
  {
   "cell_type": "code",
   "execution_count": null,
   "id": "7ebbba1b-c44f-4ea0-87fc-29ea4efc627d",
   "metadata": {},
   "outputs": [],
   "source": [
    "trips_freq_routes = trips.loc[trips.route_id.isin(frequent_routes)][\n",
    "    [\"gtfs_dataset_key\", \"route_id\", \"trip_instance_key\", \"shape_array_key\", \"feed_key\"]\n",
    "].drop_duplicates()"
   ]
  },
  {
   "cell_type": "code",
   "execution_count": null,
   "id": "bbd05c92-a1ab-4d4e-8262-3d1ee2850e77",
   "metadata": {},
   "outputs": [],
   "source": [
    "trips_freq_routes = trips_freq_routes.rename(\n",
    "    columns={\"gtfs_dataset_key\": \"schedule_gtfs_dataset_key\"}\n",
    ")"
   ]
  },
  {
   "cell_type": "code",
   "execution_count": null,
   "id": "836c5c88-c50e-4949-b917-be3e61f78c09",
   "metadata": {},
   "outputs": [],
   "source": [
    "trips_freq_routes.head(2)"
   ]
  },
  {
   "cell_type": "markdown",
   "id": "96a2e35f-7506-4d6e-b25a-0bfe4e56fcbb",
   "metadata": {},
   "source": [
    "### `rt_scheduled_v_ran/scripts/rt_stop_times.py`\n",
    "* Tiffany already combined realtime and scheduled arrivals"
   ]
  },
  {
   "cell_type": "code",
   "execution_count": null,
   "id": "5c10b1d8-014f-4b2f-bb84-dd4491fbedec",
   "metadata": {},
   "outputs": [],
   "source": [
    "RT_SCHED_GCS"
   ]
  },
  {
   "cell_type": "code",
   "execution_count": null,
   "id": "eec62784-83a6-4f82-b006-3afe6ff2a8de",
   "metadata": {},
   "outputs": [],
   "source": [
    "GTFS_DATA_DICT.rt_vs_schedule_tables.schedule_rt_stop_times"
   ]
  },
  {
   "cell_type": "code",
   "execution_count": null,
   "id": "e27a72c5-1c27-4bbf-8408-78b8b0f9bcfc",
   "metadata": {},
   "outputs": [],
   "source": [
    "rt_stop_times = pd.read_parquet(\n",
    "    \"gs://calitp-analytics-data/data-analyses/rt_vs_schedule/schedule_rt_stop_times_2024-05-22.parquet\"\n",
    ")"
   ]
  },
  {
   "cell_type": "code",
   "execution_count": null,
   "id": "6ff5528a-7413-4095-9acf-c9a9473a5a53",
   "metadata": {},
   "outputs": [],
   "source": [
    "# Get only relevant trips that are of \"frequent routes\"\n",
    "pd.merge(\n",
    "    rt_stop_times,\n",
    "    trips_freq_routes,\n",
    "    on=[\n",
    "        \"schedule_gtfs_dataset_key\",\n",
    "        \"trip_instance_key\",\n",
    "    ],\n",
    "    how=\"outer\",\n",
    "    indicator=True,\n",
    ")[[\"_merge\"]].value_counts()"
   ]
  },
  {
   "cell_type": "code",
   "execution_count": null,
   "id": "583128c4-f599-48f8-a73c-e5babc03a0e2",
   "metadata": {},
   "outputs": [],
   "source": [
    "rt_stop_times2 = pd.merge(\n",
    "    rt_stop_times,\n",
    "    trips_freq_routes,\n",
    "    on=[\n",
    "        \"schedule_gtfs_dataset_key\",\n",
    "        \"trip_instance_key\",\n",
    "    ],\n",
    "    how=\"inner\",\n",
    ")"
   ]
  },
  {
   "cell_type": "code",
   "execution_count": null,
   "id": "5f70db4f-c254-4c68-b558-aeef7045a1d1",
   "metadata": {},
   "outputs": [],
   "source": [
    "rt_stop_times2.sample(5)"
   ]
  },
  {
   "cell_type": "code",
   "execution_count": null,
   "id": "707c37d8-c535-4d15-aabe-c48771ad9408",
   "metadata": {},
   "outputs": [],
   "source": [
    "(45999-45840)/60"
   ]
  },
  {
   "cell_type": "code",
   "execution_count": null,
   "id": "a0b47c5b-32ac-436c-a9d1-2615e8bb9e61",
   "metadata": {},
   "outputs": [],
   "source": [
    "one_route = rt_stop_times2.loc[rt_stop_times2.route_id == \"14\"]"
   ]
  },
  {
   "cell_type": "code",
   "execution_count": null,
   "id": "2946f700-a97f-45d7-93f0-cdc2ba40d632",
   "metadata": {},
   "outputs": [],
   "source": [
    "one_route = one_route.loc[\n",
    "    one_route.schedule_gtfs_dataset_key == \"7cc0cb1871dfd558f11a2885c145d144\"\n",
    "]"
   ]
  },
  {
   "cell_type": "code",
   "execution_count": null,
   "id": "36de561b-fc8a-4936-8cf6-16215e73bf62",
   "metadata": {},
   "outputs": [],
   "source": [
    "one_stop = one_route.loc[one_route.stop_sequence == 2]"
   ]
  },
  {
   "cell_type": "code",
   "execution_count": null,
   "id": "12dbb47f-118a-4128-a868-6f6864268224",
   "metadata": {},
   "outputs": [],
   "source": [
    "len(one_stop)"
   ]
  },
  {
   "cell_type": "code",
   "execution_count": null,
   "id": "7d1b75c4-697a-4d6a-867e-f195dd2c7df0",
   "metadata": {},
   "outputs": [],
   "source": [
    "one_stop['rt_minus_schd_mins'] = (one_stop.rt_arrival_sec - one_stop.scheduled_arrival_sec)/60"
   ]
  },
  {
   "cell_type": "code",
   "execution_count": null,
   "id": "e7291f64-eec0-48af-a2f0-59c1f46b5e07",
   "metadata": {
    "scrolled": true,
    "tags": []
   },
   "outputs": [],
   "source": [
    "one_stop = one_stop.sort_values(by=[\"stop_sequence\", \"scheduled_arrival_sec\"])"
   ]
  },
  {
   "cell_type": "code",
   "execution_count": null,
   "id": "bac73b02-85f8-489c-9c67-3357121bb742",
   "metadata": {},
   "outputs": [],
   "source": [
    "one_stop['actual_headway'] = one_stop['rt_arrival_sec'].diff()"
   ]
  },
  {
   "cell_type": "code",
   "execution_count": null,
   "id": "daae1823-1674-498e-b3a0-c6d5be922fd2",
   "metadata": {},
   "outputs": [],
   "source": [
    "one_stop['schd_headway'] = one_stop['scheduled_arrival_sec'].diff()"
   ]
  },
  {
   "cell_type": "code",
   "execution_count": null,
   "id": "ceadec11-d5fa-4880-8ef3-26ff616f21e2",
   "metadata": {},
   "outputs": [],
   "source": [
    "17551-17539"
   ]
  },
  {
   "cell_type": "code",
   "execution_count": null,
   "id": "83b8a4a8-6c3a-45c4-9ecf-b0d9307a2cf8",
   "metadata": {},
   "outputs": [],
   "source": [
    "one_stop['actual_headway_minus_schd'] = (one_stop.actual_headway - one_stop.schd_headway).fillna(0)"
   ]
  },
  {
   "cell_type": "code",
   "execution_count": null,
   "id": "00f4cfdf-1993-4234-bcff-f047bbdff2d6",
   "metadata": {},
   "outputs": [],
   "source": [
    "one_stop['mean_schd_headway'] = one_stop.schd_headway.mean()"
   ]
  },
  {
   "cell_type": "code",
   "execution_count": null,
   "id": "319d2c26-2d13-4df8-a162-bd8b48629c43",
   "metadata": {},
   "outputs": [],
   "source": [
    "one_stop['std_dev'] = ((one_stop['actual_headway'] - one_stop['mean_schd_headway']) ** 2).mean() ** 0.5"
   ]
  },
  {
   "cell_type": "code",
   "execution_count": null,
   "id": "ed26e4f7-9ff3-456a-88ea-cfb3b8150d0d",
   "metadata": {
    "scrolled": true,
    "tags": []
   },
   "outputs": [],
   "source": [
    "one_stop.drop(columns = ['schedule_gtfs_dataset_key','trip_instance_key','shape_array_key','feed_key'])"
   ]
  },
  {
   "cell_type": "code",
   "execution_count": null,
   "id": "24b11d6b-bf2d-48c5-bc12-9ea4650206da",
   "metadata": {},
   "outputs": [],
   "source": [
    "12+8+14+6+7+13"
   ]
  },
  {
   "cell_type": "code",
   "execution_count": null,
   "id": "edea2a5e-e09e-4b99-a9a3-314778858143",
   "metadata": {},
   "outputs": [],
   "source": [
    "mean_schd_headway = one_stop.schd_headway.mean()"
   ]
  },
  {
   "cell_type": "code",
   "execution_count": null,
   "id": "8bcecbea-8c0f-404b-ba97-c9d3c7256291",
   "metadata": {},
   "outputs": [],
   "source": [
    "mean_schd_headway"
   ]
  },
  {
   "cell_type": "code",
   "execution_count": null,
   "id": "00299624-1cef-4134-bbfa-3749fd92a97c",
   "metadata": {},
   "outputs": [],
   "source": [
    "one_stop.actual_headway.std()"
   ]
  },
  {
   "cell_type": "code",
   "execution_count": null,
   "id": "36f45348-1578-4fd3-8408-527e6269b0dd",
   "metadata": {},
   "outputs": [],
   "source": [
    "import numpy as np\n",
    "\n",
    "values = [12, 8, 14, 6, 7, 13]\n",
    "mean = 10\n",
    "\n",
    "# Calculate standard deviation\n",
    "standard_deviation = np.std([value - mean for value in values])\n",
    "\n",
    "print(standard_deviation)"
   ]
  },
  {
   "cell_type": "code",
   "execution_count": null,
   "id": "7fc92011-8bc3-4841-87d9-9160798269a5",
   "metadata": {},
   "outputs": [],
   "source": [
    "standard_deviation/mean\n"
   ]
  }
 ],
 "metadata": {
  "kernelspec": {
   "display_name": "Python 3 (ipykernel)",
   "language": "python",
   "name": "python3"
  },
  "language_info": {
   "codemirror_mode": {
    "name": "ipython",
    "version": 3
   },
   "file_extension": ".py",
   "mimetype": "text/x-python",
   "name": "python",
   "nbconvert_exporter": "python",
   "pygments_lexer": "ipython3",
   "version": "3.9.13"
  }
 },
 "nbformat": 4,
 "nbformat_minor": 5
}
