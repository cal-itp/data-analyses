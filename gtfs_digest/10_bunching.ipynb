{
 "cells": [
  {
   "cell_type": "code",
   "execution_count": 1,
   "id": "66b06b45-dcf3-4f75-8ffd-1939b93ddffe",
   "metadata": {},
   "outputs": [],
   "source": [
    "import pandas as pd\n",
    "from shared_utils import catalog_utils, rt_dates, rt_utils\n",
    "import geopandas as gpd"
   ]
  },
  {
   "cell_type": "code",
   "execution_count": 2,
   "id": "142cc2b7-6ec4-42d8-969f-dc2456e7504b",
   "metadata": {},
   "outputs": [],
   "source": [
    "pd.options.display.max_columns = 100\n",
    "pd.options.display.float_format = \"{:.2f}\".format\n",
    "pd.set_option(\"display.max_rows\", None)\n",
    "pd.set_option(\"display.max_colwidth\", None)"
   ]
  },
  {
   "cell_type": "code",
   "execution_count": 3,
   "id": "946c6546-dde0-4c4c-ae9a-0de7f9effb54",
   "metadata": {},
   "outputs": [],
   "source": [
    "# https://github.com/cal-itp/data-analyses/blob/main/_shared_utils/shared_utils/gtfs_analytics_data.yml\n",
    "GTFS_DATA_DICT = catalog_utils.get_catalog(\"gtfs_analytics_data\")"
   ]
  },
  {
   "cell_type": "code",
   "execution_count": 14,
   "id": "29e93fa8-95d6-4a33-a37c-2c5463e1a6da",
   "metadata": {},
   "outputs": [],
   "source": [
    "\n",
    "dates_dictionary = rt_dates.DATES\n",
    "date_list = list(dates_dictionary.items())\n",
    "\n",
    "# Grab the last key-value pair\n",
    "last_key, last_value = date_list[-1]"
   ]
  },
  {
   "cell_type": "code",
   "execution_count": 15,
   "id": "131a9af1-c74b-4f81-8f13-17faeb326792",
   "metadata": {},
   "outputs": [
    {
     "data": {
      "text/plain": [
       "'2024-04-17'"
      ]
     },
     "execution_count": 15,
     "metadata": {},
     "output_type": "execute_result"
    }
   ],
   "source": [
    "last_value"
   ]
  },
  {
   "cell_type": "markdown",
   "id": "1dc080ef-f835-49a2-98d9-1c4dc4be155c",
   "metadata": {},
   "source": [
    "### Schedule"
   ]
  },
  {
   "cell_type": "code",
   "execution_count": 16,
   "id": "723de20b-1ef0-417e-ac96-43826b219ccc",
   "metadata": {},
   "outputs": [],
   "source": [
    "op_routes_url = f\"{GTFS_DATA_DICT.schedule_tables.dir}{GTFS_DATA_DICT.schedule_tables.operator_routes}_{last_value}.parquet\""
   ]
  },
  {
   "cell_type": "code",
   "execution_count": 17,
   "id": "84c6139d-0a49-4144-ace1-5eb096354f2d",
   "metadata": {},
   "outputs": [],
   "source": [
    "op_routes_df = pd.read_parquet(op_routes_url)"
   ]
  },
  {
   "cell_type": "code",
   "execution_count": 19,
   "id": "0c5d237a-be26-4779-b889-286f60d1d860",
   "metadata": {},
   "outputs": [
    {
     "data": {
      "text/html": [
       "<div>\n",
       "<style scoped>\n",
       "    .dataframe tbody tr th:only-of-type {\n",
       "        vertical-align: middle;\n",
       "    }\n",
       "\n",
       "    .dataframe tbody tr th {\n",
       "        vertical-align: top;\n",
       "    }\n",
       "\n",
       "    .dataframe thead th {\n",
       "        text-align: right;\n",
       "    }\n",
       "</style>\n",
       "<table border=\"1\" class=\"dataframe\">\n",
       "  <thead>\n",
       "    <tr style=\"text-align: right;\">\n",
       "      <th></th>\n",
       "      <th>shape_array_key</th>\n",
       "      <th>feed_key</th>\n",
       "      <th>schedule_gtfs_dataset_key</th>\n",
       "      <th>route_id</th>\n",
       "      <th>direction_id</th>\n",
       "      <th>route_key</th>\n",
       "      <th>route_length</th>\n",
       "      <th>route_length_miles</th>\n",
       "      <th>is_downtown_local</th>\n",
       "      <th>is_local</th>\n",
       "      <th>is_coverage</th>\n",
       "      <th>is_rapid</th>\n",
       "      <th>is_express</th>\n",
       "      <th>is_rail</th>\n",
       "      <th>name</th>\n",
       "      <th>organization_source_record_id</th>\n",
       "      <th>organization_name</th>\n",
       "    </tr>\n",
       "  </thead>\n",
       "  <tbody>\n",
       "    <tr>\n",
       "      <th>0</th>\n",
       "      <td>ecf184a0f4f05ee77e9f2cc194608134</td>\n",
       "      <td>9529027364faa9b7dfbb3d7d7501b133</td>\n",
       "      <td>015d67d5b75b5cf2b710bbadadfb75f5</td>\n",
       "      <td>17</td>\n",
       "      <td>0.00</td>\n",
       "      <td>49515d8c17c58f2cd7090641db5f3664</td>\n",
       "      <td>25903.12</td>\n",
       "      <td>16.10</td>\n",
       "      <td>2</td>\n",
       "      <td>0</td>\n",
       "      <td>0</td>\n",
       "      <td>1</td>\n",
       "      <td>0</td>\n",
       "      <td>0</td>\n",
       "      <td>Bay Area 511 Marin Schedule</td>\n",
       "      <td>recNOb7pqBRlQVG5e</td>\n",
       "      <td>Marin County Transit District</td>\n",
       "    </tr>\n",
       "    <tr>\n",
       "      <th>1</th>\n",
       "      <td>a3a228f09551bc4890467a8ffd920c4b</td>\n",
       "      <td>9529027364faa9b7dfbb3d7d7501b133</td>\n",
       "      <td>015d67d5b75b5cf2b710bbadadfb75f5</td>\n",
       "      <td>219</td>\n",
       "      <td>0.00</td>\n",
       "      <td>c2381fabe6fa81efd3cffa9b5b0a669e</td>\n",
       "      <td>9676.35</td>\n",
       "      <td>6.01</td>\n",
       "      <td>2</td>\n",
       "      <td>0</td>\n",
       "      <td>1</td>\n",
       "      <td>0</td>\n",
       "      <td>0</td>\n",
       "      <td>0</td>\n",
       "      <td>Bay Area 511 Marin Schedule</td>\n",
       "      <td>recNOb7pqBRlQVG5e</td>\n",
       "      <td>Marin County Transit District</td>\n",
       "    </tr>\n",
       "  </tbody>\n",
       "</table>\n",
       "</div>"
      ],
      "text/plain": [
       "                    shape_array_key                          feed_key  \\\n",
       "0  ecf184a0f4f05ee77e9f2cc194608134  9529027364faa9b7dfbb3d7d7501b133   \n",
       "1  a3a228f09551bc4890467a8ffd920c4b  9529027364faa9b7dfbb3d7d7501b133   \n",
       "\n",
       "          schedule_gtfs_dataset_key route_id  direction_id  \\\n",
       "0  015d67d5b75b5cf2b710bbadadfb75f5       17          0.00   \n",
       "1  015d67d5b75b5cf2b710bbadadfb75f5      219          0.00   \n",
       "\n",
       "                          route_key  route_length  route_length_miles  \\\n",
       "0  49515d8c17c58f2cd7090641db5f3664      25903.12               16.10   \n",
       "1  c2381fabe6fa81efd3cffa9b5b0a669e       9676.35                6.01   \n",
       "\n",
       "   is_downtown_local  is_local  is_coverage  is_rapid  is_express  is_rail  \\\n",
       "0                  2         0            0         1           0        0   \n",
       "1                  2         0            1         0           0        0   \n",
       "\n",
       "                          name organization_source_record_id  \\\n",
       "0  Bay Area 511 Marin Schedule             recNOb7pqBRlQVG5e   \n",
       "1  Bay Area 511 Marin Schedule             recNOb7pqBRlQVG5e   \n",
       "\n",
       "               organization_name  \n",
       "0  Marin County Transit District  \n",
       "1  Marin County Transit District  "
      ]
     },
     "execution_count": 19,
     "metadata": {},
     "output_type": "execute_result"
    }
   ],
   "source": [
    "op_routes_df.head(2).drop(columns = ['geometry'])"
   ]
  },
  {
   "cell_type": "code",
   "execution_count": 21,
   "id": "4ad4ec31-e3ef-42b7-96f4-7ce9ef6d0115",
   "metadata": {},
   "outputs": [],
   "source": [
    "scheduled_service_url = f\"{GTFS_DATA_DICT.schedule_tables.dir}{GTFS_DATA_DICT.schedule_tables.monthly_scheduled_service}_2024.parquet\""
   ]
  },
  {
   "cell_type": "code",
   "execution_count": 22,
   "id": "876b0aa0-da7d-42c8-86fd-1c27eb63788a",
   "metadata": {},
   "outputs": [],
   "source": [
    "sched_service_df = pd.read_parquet(scheduled_service_url)"
   ]
  },
  {
   "cell_type": "code",
   "execution_count": 23,
   "id": "9d0cdc21-c1c4-4af0-a422-54f039620bde",
   "metadata": {},
   "outputs": [
    {
     "data": {
      "text/html": [
       "<div>\n",
       "<style scoped>\n",
       "    .dataframe tbody tr th:only-of-type {\n",
       "        vertical-align: middle;\n",
       "    }\n",
       "\n",
       "    .dataframe tbody tr th {\n",
       "        vertical-align: top;\n",
       "    }\n",
       "\n",
       "    .dataframe thead th {\n",
       "        text-align: right;\n",
       "    }\n",
       "</style>\n",
       "<table border=\"1\" class=\"dataframe\">\n",
       "  <thead>\n",
       "    <tr style=\"text-align: right;\">\n",
       "      <th></th>\n",
       "      <th>key</th>\n",
       "      <th>name</th>\n",
       "      <th>source_record_id</th>\n",
       "      <th>route_id</th>\n",
       "      <th>route_short_name</th>\n",
       "      <th>route_long_name</th>\n",
       "      <th>time_of_day</th>\n",
       "      <th>month</th>\n",
       "      <th>year</th>\n",
       "      <th>day_type</th>\n",
       "      <th>n_trips</th>\n",
       "      <th>ttl_service_hours</th>\n",
       "    </tr>\n",
       "  </thead>\n",
       "  <tbody>\n",
       "    <tr>\n",
       "      <th>0</th>\n",
       "      <td>2ebe9b0365c4f0efb4e204253e8224a4</td>\n",
       "      <td>Lassen Flex</td>\n",
       "      <td>recbip1osuZ0em9w8</td>\n",
       "      <td>552</td>\n",
       "      <td>None</td>\n",
       "      <td>West County</td>\n",
       "      <td>PM Peak</td>\n",
       "      <td>2</td>\n",
       "      <td>2024</td>\n",
       "      <td>3</td>\n",
       "      <td>8</td>\n",
       "      <td>9.27</td>\n",
       "    </tr>\n",
       "    <tr>\n",
       "      <th>1</th>\n",
       "      <td>e3030afff84ecb6ea04aaf8c73305de0</td>\n",
       "      <td>Lassen Flex</td>\n",
       "      <td>recbip1osuZ0em9w8</td>\n",
       "      <td>552</td>\n",
       "      <td>None</td>\n",
       "      <td>West County</td>\n",
       "      <td>Early AM</td>\n",
       "      <td>1</td>\n",
       "      <td>2024</td>\n",
       "      <td>6</td>\n",
       "      <td>8</td>\n",
       "      <td>9.13</td>\n",
       "    </tr>\n",
       "  </tbody>\n",
       "</table>\n",
       "</div>"
      ],
      "text/plain": [
       "                                key         name   source_record_id route_id  \\\n",
       "0  2ebe9b0365c4f0efb4e204253e8224a4  Lassen Flex  recbip1osuZ0em9w8      552   \n",
       "1  e3030afff84ecb6ea04aaf8c73305de0  Lassen Flex  recbip1osuZ0em9w8      552   \n",
       "\n",
       "  route_short_name route_long_name time_of_day  month  year  day_type  \\\n",
       "0             None     West County     PM Peak      2  2024         3   \n",
       "1             None     West County    Early AM      1  2024         6   \n",
       "\n",
       "   n_trips  ttl_service_hours  \n",
       "0        8               9.27  \n",
       "1        8               9.13  "
      ]
     },
     "execution_count": 23,
     "metadata": {},
     "output_type": "execute_result"
    }
   ],
   "source": [
    "sched_service_df.head(2)"
   ]
  },
  {
   "cell_type": "code",
   "execution_count": 24,
   "id": "e544d780-8ac4-4243-b9c6-79862c0c3886",
   "metadata": {},
   "outputs": [],
   "source": [
    "op_sched_stats_url = f\"{GTFS_DATA_DICT.schedule_tables.dir}{GTFS_DATA_DICT.schedule_tables.operator_scheduled_stats}_{last_value}.parquet\""
   ]
  },
  {
   "cell_type": "code",
   "execution_count": 25,
   "id": "c536fdf8-d84f-4cee-993d-5724747b8dc6",
   "metadata": {},
   "outputs": [],
   "source": [
    "op_sched_df = pd.read_parquet(op_sched_stats_url)"
   ]
  },
  {
   "cell_type": "code",
   "execution_count": 26,
   "id": "511956db-309c-4125-8fc3-b0eddd371223",
   "metadata": {},
   "outputs": [
    {
     "data": {
      "text/html": [
       "<div>\n",
       "<style scoped>\n",
       "    .dataframe tbody tr th:only-of-type {\n",
       "        vertical-align: middle;\n",
       "    }\n",
       "\n",
       "    .dataframe tbody tr th {\n",
       "        vertical-align: top;\n",
       "    }\n",
       "\n",
       "    .dataframe thead th {\n",
       "        text-align: right;\n",
       "    }\n",
       "</style>\n",
       "<table border=\"1\" class=\"dataframe\">\n",
       "  <thead>\n",
       "    <tr style=\"text-align: right;\">\n",
       "      <th></th>\n",
       "      <th>schedule_gtfs_dataset_key</th>\n",
       "      <th>operator_n_routes</th>\n",
       "      <th>operator_n_trips</th>\n",
       "      <th>operator_n_shapes</th>\n",
       "      <th>operator_n_stops</th>\n",
       "      <th>operator_n_arrivals</th>\n",
       "      <th>operator_route_length_miles</th>\n",
       "      <th>operator_arrivals_per_stop</th>\n",
       "      <th>n_downtown_local_routes</th>\n",
       "      <th>n_local_routes</th>\n",
       "      <th>n_coverage_routes</th>\n",
       "      <th>n_rapid_routes</th>\n",
       "      <th>n_express_routes</th>\n",
       "      <th>n_rail_routes</th>\n",
       "      <th>name</th>\n",
       "      <th>organization_source_record_id</th>\n",
       "      <th>organization_name</th>\n",
       "    </tr>\n",
       "  </thead>\n",
       "  <tbody>\n",
       "    <tr>\n",
       "      <th>0</th>\n",
       "      <td>015d67d5b75b5cf2b710bbadadfb75f5</td>\n",
       "      <td>19</td>\n",
       "      <td>647</td>\n",
       "      <td>61</td>\n",
       "      <td>550</td>\n",
       "      <td>16411</td>\n",
       "      <td>248.92</td>\n",
       "      <td>29.84</td>\n",
       "      <td>24</td>\n",
       "      <td>5</td>\n",
       "      <td>10</td>\n",
       "      <td>16</td>\n",
       "      <td>0</td>\n",
       "      <td>0</td>\n",
       "      <td>Bay Area 511 Marin Schedule</td>\n",
       "      <td>recNOb7pqBRlQVG5e</td>\n",
       "      <td>Marin County Transit District</td>\n",
       "    </tr>\n",
       "  </tbody>\n",
       "</table>\n",
       "</div>"
      ],
      "text/plain": [
       "          schedule_gtfs_dataset_key  operator_n_routes  operator_n_trips  \\\n",
       "0  015d67d5b75b5cf2b710bbadadfb75f5                 19               647   \n",
       "\n",
       "   operator_n_shapes  operator_n_stops  operator_n_arrivals  \\\n",
       "0                 61               550                16411   \n",
       "\n",
       "   operator_route_length_miles  operator_arrivals_per_stop  \\\n",
       "0                       248.92                       29.84   \n",
       "\n",
       "   n_downtown_local_routes  n_local_routes  n_coverage_routes  n_rapid_routes  \\\n",
       "0                       24               5                 10              16   \n",
       "\n",
       "   n_express_routes  n_rail_routes                         name  \\\n",
       "0                 0              0  Bay Area 511 Marin Schedule   \n",
       "\n",
       "  organization_source_record_id              organization_name  \n",
       "0             recNOb7pqBRlQVG5e  Marin County Transit District  "
      ]
     },
     "execution_count": 26,
     "metadata": {},
     "output_type": "execute_result"
    }
   ],
   "source": [
    "op_sched_df.head(1)"
   ]
  },
  {
   "cell_type": "code",
   "execution_count": 27,
   "id": "2b6af64d-e686-47d4-991d-b5f1c5b82888",
   "metadata": {},
   "outputs": [],
   "source": [
    "schd_vp_url = f\"{GTFS_DATA_DICT.digest_tables.dir}{GTFS_DATA_DICT.digest_tables.route_schedule_vp}.parquet\""
   ]
  },
  {
   "cell_type": "code",
   "execution_count": 28,
   "id": "fc4d11a5-023e-43e9-b9f6-2299fec404de",
   "metadata": {},
   "outputs": [],
   "source": [
    "og = pd.read_parquet(schd_vp_url)"
   ]
  }
 ],
 "metadata": {
  "kernelspec": {
   "display_name": "Python 3 (ipykernel)",
   "language": "python",
   "name": "python3"
  },
  "language_info": {
   "codemirror_mode": {
    "name": "ipython",
    "version": 3
   },
   "file_extension": ".py",
   "mimetype": "text/x-python",
   "name": "python",
   "nbconvert_exporter": "python",
   "pygments_lexer": "ipython3",
   "version": "3.9.13"
  }
 },
 "nbformat": 4,
 "nbformat_minor": 5
}
