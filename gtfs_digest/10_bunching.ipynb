{
 "cells": [
  {
   "cell_type": "markdown",
   "id": "3ce91c05-8644-46b4-a2d1-fdbb0ef76253",
   "metadata": {},
   "source": [
    "## Transit Bunching \n",
    "* cd data-analyses/rt_segment_speeds && pip install -r requirements.txt && cd ../_shared_utils && make setup_env && cd ../gtfs_digest\n",
    "* [Issue](https://github.com/cal-itp/data-analyses/issues/1099)\n"
   ]
  },
  {
   "cell_type": "code",
   "execution_count": 1,
   "id": "66b06b45-dcf3-4f75-8ffd-1939b93ddffe",
   "metadata": {},
   "outputs": [],
   "source": [
    "import geopandas as gpd\n",
    "import pandas as pd\n",
    "from segment_speed_utils import gtfs_schedule_wrangling, helpers\n",
    "from shared_utils import catalog_utils, rt_dates, rt_utils\n",
    "from update_vars import GTFS_DATA_DICT, RT_SCHED_GCS, SCHED_GCS\n",
    "\n",
    "# https://github.com/cal-itp/data-analyses/blob/main/_shared_utils/shared_utils/gtfs_analytics_data.yml\n",
    "GTFS_DATA_DICT = catalog_utils.get_catalog(\"gtfs_analytics_data\")\n",
    "\n",
    "from segment_speed_utils.project_vars import (\n",
    "    COMPILED_CACHED_VIEWS,\n",
    "    GTFS_DATA_DICT,\n",
    "    PROJECT_CRS,\n",
    "    RT_SCHED_GCS,\n",
    "    SCHED_GCS,\n",
    "    SEGMENT_GCS,\n",
    ")"
   ]
  },
  {
   "cell_type": "code",
   "execution_count": 2,
   "id": "142cc2b7-6ec4-42d8-969f-dc2456e7504b",
   "metadata": {},
   "outputs": [],
   "source": [
    "pd.options.display.max_columns = 100\n",
    "pd.options.display.float_format = \"{:.2f}\".format\n",
    "pd.set_option(\"display.max_rows\", None)\n",
    "pd.set_option(\"display.max_colwidth\", None)"
   ]
  },
  {
   "cell_type": "code",
   "execution_count": 3,
   "id": "29e93fa8-95d6-4a33-a37c-2c5463e1a6da",
   "metadata": {},
   "outputs": [],
   "source": [
    "analysis_date_list = rt_dates.y2024_dates + rt_dates.y2023_dates"
   ]
  },
  {
   "cell_type": "code",
   "execution_count": 4,
   "id": "131a9af1-c74b-4f81-8f13-17faeb326792",
   "metadata": {},
   "outputs": [],
   "source": [
    "may_date = \"2024-05-22\""
   ]
  },
  {
   "cell_type": "markdown",
   "id": "36cfee81-bc8e-46e1-a750-0fb6cc9a8d77",
   "metadata": {},
   "source": [
    "#### Use `merge_data.concatenate_schedule_by_route_direction()`"
   ]
  },
  {
   "cell_type": "code",
   "execution_count": 5,
   "id": "253bbcbd-ee3d-4391-85f6-6d27daefc706",
   "metadata": {},
   "outputs": [],
   "source": [
    "import merge_data"
   ]
  },
  {
   "cell_type": "code",
   "execution_count": 6,
   "id": "ad97cfff-ad30-4af9-a17c-05ad495444f0",
   "metadata": {},
   "outputs": [],
   "source": [
    "subset = [\n",
    "    \"schedule_gtfs_dataset_key\",\n",
    "    \"route_id\",\n",
    "    \"direction_id\",\n",
    "    \"route_primary_direction\",\n",
    "    \"service_date\",\n",
    "    \"frequency\",\n",
    "]"
   ]
  },
  {
   "cell_type": "code",
   "execution_count": 7,
   "id": "92f67e80-262b-481e-b521-9c5a7541ea5e",
   "metadata": {},
   "outputs": [],
   "source": [
    "route_dir = merge_data.concatenate_schedule_by_route_direction([may_date])[subset]"
   ]
  },
  {
   "cell_type": "code",
   "execution_count": 8,
   "id": "0ec7a819-a1ee-4fb9-aad3-2e7805f0de72",
   "metadata": {},
   "outputs": [
    {
     "data": {
      "text/html": [
       "<div>\n",
       "<style scoped>\n",
       "    .dataframe tbody tr th:only-of-type {\n",
       "        vertical-align: middle;\n",
       "    }\n",
       "\n",
       "    .dataframe tbody tr th {\n",
       "        vertical-align: top;\n",
       "    }\n",
       "\n",
       "    .dataframe thead th {\n",
       "        text-align: right;\n",
       "    }\n",
       "</style>\n",
       "<table border=\"1\" class=\"dataframe\">\n",
       "  <thead>\n",
       "    <tr style=\"text-align: right;\">\n",
       "      <th></th>\n",
       "      <th>schedule_gtfs_dataset_key</th>\n",
       "      <th>route_id</th>\n",
       "      <th>direction_id</th>\n",
       "      <th>route_primary_direction</th>\n",
       "      <th>service_date</th>\n",
       "      <th>frequency</th>\n",
       "    </tr>\n",
       "  </thead>\n",
       "  <tbody>\n",
       "    <tr>\n",
       "      <th>0</th>\n",
       "      <td>015d67d5b75b5cf2b710bbadadfb75f5</td>\n",
       "      <td>17</td>\n",
       "      <td>0.00</td>\n",
       "      <td>Northbound</td>\n",
       "      <td>2024-05-22</td>\n",
       "      <td>0.92</td>\n",
       "    </tr>\n",
       "    <tr>\n",
       "      <th>1</th>\n",
       "      <td>015d67d5b75b5cf2b710bbadadfb75f5</td>\n",
       "      <td>17</td>\n",
       "      <td>0.00</td>\n",
       "      <td>Northbound</td>\n",
       "      <td>2024-05-22</td>\n",
       "      <td>0.62</td>\n",
       "    </tr>\n",
       "  </tbody>\n",
       "</table>\n",
       "</div>"
      ],
      "text/plain": [
       "          schedule_gtfs_dataset_key route_id  direction_id  \\\n",
       "0  015d67d5b75b5cf2b710bbadadfb75f5       17          0.00   \n",
       "1  015d67d5b75b5cf2b710bbadadfb75f5       17          0.00   \n",
       "\n",
       "  route_primary_direction service_date  frequency  \n",
       "0              Northbound   2024-05-22       0.92  \n",
       "1              Northbound   2024-05-22       0.62  "
      ]
     },
     "execution_count": 8,
     "metadata": {},
     "output_type": "execute_result"
    }
   ],
   "source": [
    "route_dir.head(2)"
   ]
  },
  {
   "cell_type": "code",
   "execution_count": 9,
   "id": "1c753076-ce9c-40ef-9d7f-13e123c71ae4",
   "metadata": {},
   "outputs": [],
   "source": [
    "route_dir[\"frequency_in_minutes\"] = 60 / route_dir.frequency"
   ]
  },
  {
   "cell_type": "code",
   "execution_count": 10,
   "id": "c1050c0c-3959-444f-89be-2b7336a80d35",
   "metadata": {},
   "outputs": [],
   "source": [
    "route_dir2 = route_dir.loc[route_dir.frequency_in_minutes <= 10]"
   ]
  },
  {
   "cell_type": "code",
   "execution_count": 11,
   "id": "aa849097-d05e-48e0-a3f0-4020feb00409",
   "metadata": {},
   "outputs": [
    {
     "data": {
      "text/plain": [
       "count   122.00\n",
       "mean      8.05\n",
       "std       1.60\n",
       "min       4.00\n",
       "25%       6.99\n",
       "50%       8.28\n",
       "75%       9.38\n",
       "max      10.00\n",
       "Name: frequency_in_minutes, dtype: float64"
      ]
     },
     "execution_count": 11,
     "metadata": {},
     "output_type": "execute_result"
    }
   ],
   "source": [
    "route_dir2.frequency_in_minutes.describe()"
   ]
  },
  {
   "cell_type": "code",
   "execution_count": 12,
   "id": "b37eaba9-621a-472c-9cfe-08d87feae554",
   "metadata": {},
   "outputs": [
    {
     "data": {
      "text/plain": [
       "count   9650.00\n",
       "mean     203.94\n",
       "std      317.84\n",
       "min        4.00\n",
       "25%       37.97\n",
       "50%       80.00\n",
       "75%      193.55\n",
       "max     1500.00\n",
       "Name: frequency_in_minutes, dtype: float64"
      ]
     },
     "execution_count": 12,
     "metadata": {},
     "output_type": "execute_result"
    }
   ],
   "source": [
    "route_dir.frequency_in_minutes.describe()"
   ]
  },
  {
   "cell_type": "markdown",
   "id": "9e703948-4e4f-4e78-97c0-4f2c0951c8d6",
   "metadata": {},
   "source": [
    "#### Crosswalk stuff\n",
    "* Operators who run these high freq routes (by gtfs key)\n",
    "* Route ID of high frequency routes"
   ]
  },
  {
   "cell_type": "code",
   "execution_count": 13,
   "id": "1ed28d1a-baf7-4d50-a79d-c47ecbeb34d9",
   "metadata": {},
   "outputs": [],
   "source": [
    "operators_with_high_frequency_routes = list(\n",
    "    route_dir2.schedule_gtfs_dataset_key.unique()\n",
    ")"
   ]
  },
  {
   "cell_type": "code",
   "execution_count": 14,
   "id": "b8ceb4e6-098d-4500-80ff-6418a5f61486",
   "metadata": {},
   "outputs": [],
   "source": [
    "frequent_routes = list(route_dir2.route_id.unique())"
   ]
  },
  {
   "cell_type": "code",
   "execution_count": 15,
   "id": "88562811-d4fb-4662-944b-4bb3d87ecf95",
   "metadata": {},
   "outputs": [
    {
     "data": {
      "text/html": [
       "<div>\n",
       "<style scoped>\n",
       "    .dataframe tbody tr th:only-of-type {\n",
       "        vertical-align: middle;\n",
       "    }\n",
       "\n",
       "    .dataframe tbody tr th {\n",
       "        vertical-align: top;\n",
       "    }\n",
       "\n",
       "    .dataframe thead th {\n",
       "        text-align: right;\n",
       "    }\n",
       "</style>\n",
       "<table border=\"1\" class=\"dataframe\">\n",
       "  <thead>\n",
       "    <tr style=\"text-align: right;\">\n",
       "      <th></th>\n",
       "      <th>schedule_gtfs_dataset_key</th>\n",
       "      <th>route_id</th>\n",
       "      <th>direction_id</th>\n",
       "      <th>route_primary_direction</th>\n",
       "      <th>service_date</th>\n",
       "      <th>frequency</th>\n",
       "      <th>frequency_in_minutes</th>\n",
       "    </tr>\n",
       "  </thead>\n",
       "  <tbody>\n",
       "    <tr>\n",
       "      <th>0</th>\n",
       "      <td>015d67d5b75b5cf2b710bbadadfb75f5</td>\n",
       "      <td>17</td>\n",
       "      <td>0.00</td>\n",
       "      <td>Northbound</td>\n",
       "      <td>2024-05-22</td>\n",
       "      <td>0.92</td>\n",
       "      <td>65.22</td>\n",
       "    </tr>\n",
       "    <tr>\n",
       "      <th>1</th>\n",
       "      <td>015d67d5b75b5cf2b710bbadadfb75f5</td>\n",
       "      <td>17</td>\n",
       "      <td>0.00</td>\n",
       "      <td>Northbound</td>\n",
       "      <td>2024-05-22</td>\n",
       "      <td>0.62</td>\n",
       "      <td>96.77</td>\n",
       "    </tr>\n",
       "  </tbody>\n",
       "</table>\n",
       "</div>"
      ],
      "text/plain": [
       "          schedule_gtfs_dataset_key route_id  direction_id  \\\n",
       "0  015d67d5b75b5cf2b710bbadadfb75f5       17          0.00   \n",
       "1  015d67d5b75b5cf2b710bbadadfb75f5       17          0.00   \n",
       "\n",
       "  route_primary_direction service_date  frequency  frequency_in_minutes  \n",
       "0              Northbound   2024-05-22       0.92                 65.22  \n",
       "1              Northbound   2024-05-22       0.62                 96.77  "
      ]
     },
     "execution_count": 15,
     "metadata": {},
     "output_type": "execute_result"
    }
   ],
   "source": [
    "route_dir.head(2)"
   ]
  },
  {
   "cell_type": "markdown",
   "id": "060637e9-bf37-4596-9188-c987c095582e",
   "metadata": {
    "tags": []
   },
   "source": [
    "### Look at scheduled trips"
   ]
  },
  {
   "cell_type": "code",
   "execution_count": 16,
   "id": "831765c1-d1c2-44cb-a5ea-a88e6d682edb",
   "metadata": {},
   "outputs": [],
   "source": [
    "TABLE = GTFS_DATA_DICT.schedule_downloads.trips"
   ]
  },
  {
   "cell_type": "code",
   "execution_count": 17,
   "id": "4df01d79-4378-44ff-a96e-e7728261a000",
   "metadata": {},
   "outputs": [],
   "source": [
    "FILE = f\"{COMPILED_CACHED_VIEWS}{TABLE}_{may_date}.parquet\""
   ]
  },
  {
   "cell_type": "code",
   "execution_count": 18,
   "id": "ed61fbed-cbc2-4959-91f2-37bcf1f9e60d",
   "metadata": {},
   "outputs": [],
   "source": [
    "trips_subset = [\n",
    "    \"gtfs_dataset_key\",\n",
    "    \"route_id\",\n",
    "    \"trip_instance_key\",\n",
    "    \"shape_array_key\",\n",
    "    \"feed_key\",\n",
    "]"
   ]
  },
  {
   "cell_type": "code",
   "execution_count": 19,
   "id": "f80ccdca-54fd-421c-965c-b294bd5546df",
   "metadata": {},
   "outputs": [],
   "source": [
    "trips = pd.read_parquet(FILE)[trips_subset].rename(\n",
    "    columns={\"gtfs_dataset_key\": \"schedule_gtfs_dataset_key\"}\n",
    ")"
   ]
  },
  {
   "cell_type": "code",
   "execution_count": 20,
   "id": "7ebbba1b-c44f-4ea0-87fc-29ea4efc627d",
   "metadata": {},
   "outputs": [],
   "source": [
    "trips_freq_routes = trips.loc[\n",
    "    trips.route_id.isin(frequent_routes)\n",
    "    & (trips.schedule_gtfs_dataset_key.isin(operators_with_high_frequency_routes))\n",
    "]"
   ]
  },
  {
   "cell_type": "code",
   "execution_count": 21,
   "id": "c1c740e3-2d7e-4b06-bc3f-47013033048d",
   "metadata": {},
   "outputs": [
    {
     "data": {
      "text/plain": [
       "(12965, 96398)"
      ]
     },
     "execution_count": 21,
     "metadata": {},
     "output_type": "execute_result"
    }
   ],
   "source": [
    "len(trips_freq_routes), len(trips)"
   ]
  },
  {
   "cell_type": "code",
   "execution_count": 22,
   "id": "836c5c88-c50e-4949-b917-be3e61f78c09",
   "metadata": {},
   "outputs": [
    {
     "data": {
      "text/html": [
       "<div>\n",
       "<style scoped>\n",
       "    .dataframe tbody tr th:only-of-type {\n",
       "        vertical-align: middle;\n",
       "    }\n",
       "\n",
       "    .dataframe tbody tr th {\n",
       "        vertical-align: top;\n",
       "    }\n",
       "\n",
       "    .dataframe thead th {\n",
       "        text-align: right;\n",
       "    }\n",
       "</style>\n",
       "<table border=\"1\" class=\"dataframe\">\n",
       "  <thead>\n",
       "    <tr style=\"text-align: right;\">\n",
       "      <th></th>\n",
       "      <th>schedule_gtfs_dataset_key</th>\n",
       "      <th>route_id</th>\n",
       "      <th>trip_instance_key</th>\n",
       "      <th>shape_array_key</th>\n",
       "      <th>feed_key</th>\n",
       "    </tr>\n",
       "  </thead>\n",
       "  <tbody>\n",
       "    <tr>\n",
       "      <th>710</th>\n",
       "      <td>cc53a0dbf5df90e3009b9cb5d89d80ba</td>\n",
       "      <td>29</td>\n",
       "      <td>1a2a3d2225f7213ce3010552f21f7fd6</td>\n",
       "      <td>106e1a8460c3c6def89b79a424a54508</td>\n",
       "      <td>2cfdf0e33e9229d6b0ad124d956f5856</td>\n",
       "    </tr>\n",
       "    <tr>\n",
       "      <th>711</th>\n",
       "      <td>cc53a0dbf5df90e3009b9cb5d89d80ba</td>\n",
       "      <td>29</td>\n",
       "      <td>7cadcfd9b4009cac135417450983d220</td>\n",
       "      <td>d4617acc9813913cfdb4956544cb701b</td>\n",
       "      <td>2cfdf0e33e9229d6b0ad124d956f5856</td>\n",
       "    </tr>\n",
       "  </tbody>\n",
       "</table>\n",
       "</div>"
      ],
      "text/plain": [
       "            schedule_gtfs_dataset_key route_id  \\\n",
       "710  cc53a0dbf5df90e3009b9cb5d89d80ba       29   \n",
       "711  cc53a0dbf5df90e3009b9cb5d89d80ba       29   \n",
       "\n",
       "                    trip_instance_key                   shape_array_key  \\\n",
       "710  1a2a3d2225f7213ce3010552f21f7fd6  106e1a8460c3c6def89b79a424a54508   \n",
       "711  7cadcfd9b4009cac135417450983d220  d4617acc9813913cfdb4956544cb701b   \n",
       "\n",
       "                             feed_key  \n",
       "710  2cfdf0e33e9229d6b0ad124d956f5856  \n",
       "711  2cfdf0e33e9229d6b0ad124d956f5856  "
      ]
     },
     "execution_count": 22,
     "metadata": {},
     "output_type": "execute_result"
    }
   ],
   "source": [
    "trips_freq_routes.head(2)"
   ]
  },
  {
   "cell_type": "markdown",
   "id": "96a2e35f-7506-4d6e-b25a-0bfe4e56fcbb",
   "metadata": {},
   "source": [
    "### `rt_scheduled_v_ran/scripts/rt_stop_times.py`\n",
    "* Tiffany already combined realtime and scheduled arrivals"
   ]
  },
  {
   "cell_type": "code",
   "execution_count": 23,
   "id": "5c10b1d8-014f-4b2f-bb84-dd4491fbedec",
   "metadata": {},
   "outputs": [
    {
     "data": {
      "text/plain": [
       "'gs://calitp-analytics-data/data-analyses/rt_vs_schedule/'"
      ]
     },
     "execution_count": 23,
     "metadata": {},
     "output_type": "execute_result"
    }
   ],
   "source": [
    "RT_SCHED_GCS"
   ]
  },
  {
   "cell_type": "code",
   "execution_count": 24,
   "id": "eec62784-83a6-4f82-b006-3afe6ff2a8de",
   "metadata": {},
   "outputs": [
    {
     "data": {
      "text/plain": [
       "'schedule_rt_stop_times'"
      ]
     },
     "execution_count": 24,
     "metadata": {},
     "output_type": "execute_result"
    }
   ],
   "source": [
    "GTFS_DATA_DICT.rt_vs_schedule_tables.schedule_rt_stop_times"
   ]
  },
  {
   "cell_type": "code",
   "execution_count": 25,
   "id": "e27a72c5-1c27-4bbf-8408-78b8b0f9bcfc",
   "metadata": {},
   "outputs": [],
   "source": [
    "rt_stop_times = pd.read_parquet(\n",
    "    \"gs://calitp-analytics-data/data-analyses/rt_vs_schedule/schedule_rt_stop_times_2024-05-22_ah_test.parquet\"\n",
    ")"
   ]
  },
  {
   "cell_type": "code",
   "execution_count": 26,
   "id": "6ff5528a-7413-4095-9acf-c9a9473a5a53",
   "metadata": {},
   "outputs": [
    {
     "data": {
      "text/plain": [
       "_merge    \n",
       "left_only     2206837\n",
       "both           394425\n",
       "right_only       2349\n",
       "dtype: int64"
      ]
     },
     "execution_count": 26,
     "metadata": {},
     "output_type": "execute_result"
    }
   ],
   "source": [
    "# Get only relevant trips that are of \"frequent routes\"\n",
    "pd.merge(\n",
    "    rt_stop_times,\n",
    "    trips_freq_routes,\n",
    "    on=[\n",
    "        \"schedule_gtfs_dataset_key\",\n",
    "        \"trip_instance_key\",\n",
    "    ],\n",
    "    how=\"outer\",\n",
    "    indicator=True,\n",
    ")[[\"_merge\"]].value_counts()"
   ]
  },
  {
   "cell_type": "code",
   "execution_count": 27,
   "id": "57cd1fbb-75d4-4ed6-963c-b4e8ac7ab28c",
   "metadata": {},
   "outputs": [],
   "source": [
    "rt_stop_times2 = pd.merge(\n",
    "    rt_stop_times,\n",
    "    trips_freq_routes,\n",
    "    on=[\n",
    "        \"schedule_gtfs_dataset_key\",\n",
    "        \"trip_instance_key\",\n",
    "    ],\n",
    "    how=\"inner\",\n",
    ")"
   ]
  },
  {
   "cell_type": "code",
   "execution_count": 28,
   "id": "509a2594-adf1-4a6d-a212-cce357e7772e",
   "metadata": {},
   "outputs": [],
   "source": [
    "anchor_date = pd.to_datetime(\"5-22-2024\")\n",
    "rt_stop_times2[\"sched_arrival\"] = anchor_date + pd.to_timedelta(\n",
    "    rt_stop_times2[\"scheduled_arrival_sec\"], unit=\"s\"\n",
    ")"
   ]
  },
  {
   "cell_type": "code",
   "execution_count": 29,
   "id": "5f70db4f-c254-4c68-b558-aeef7045a1d1",
   "metadata": {},
   "outputs": [
    {
     "name": "stderr",
     "output_type": "stream",
     "text": [
      "/tmp/ipykernel_1395/3040705792.py:1: FutureWarning: Treating datetime data as categorical rather than numeric in `.describe` is deprecated and will be removed in a future version of pandas. Specify `datetime_is_numeric=True` to silence this warning and adopt the future behavior now.\n",
      "  rt_stop_times2.rt_arrival.describe()\n"
     ]
    },
    {
     "data": {
      "text/plain": [
       "count                  394425\n",
       "unique                  79898\n",
       "top       2024-05-22 16:03:53\n",
       "freq                       26\n",
       "first     2024-05-21 23:59:00\n",
       "last      2024-05-23 05:47:18\n",
       "Name: rt_arrival, dtype: object"
      ]
     },
     "execution_count": 29,
     "metadata": {},
     "output_type": "execute_result"
    }
   ],
   "source": [
    "rt_stop_times2.rt_arrival.describe()"
   ]
  },
  {
   "cell_type": "code",
   "execution_count": 30,
   "id": "42d04418-122e-4f4e-86bf-4198781e8726",
   "metadata": {},
   "outputs": [
    {
     "name": "stderr",
     "output_type": "stream",
     "text": [
      "/tmp/ipykernel_1395/661360082.py:1: FutureWarning: Treating datetime data as categorical rather than numeric in `.describe` is deprecated and will be removed in a future version of pandas. Specify `datetime_is_numeric=True` to silence this warning and adopt the future behavior now.\n",
      "  rt_stop_times2.sched_arrival.describe()\n"
     ]
    },
    {
     "data": {
      "text/plain": [
       "count                  394425\n",
       "unique                  53382\n",
       "top       2024-05-22 07:25:00\n",
       "freq                      375\n",
       "first     2024-05-22 02:56:00\n",
       "last      2024-05-23 06:07:11\n",
       "Name: sched_arrival, dtype: object"
      ]
     },
     "execution_count": 30,
     "metadata": {},
     "output_type": "execute_result"
    }
   ],
   "source": [
    "rt_stop_times2.sched_arrival.describe()"
   ]
  },
  {
   "cell_type": "markdown",
   "id": "998e0e3f-6650-4153-886f-ac731796f870",
   "metadata": {},
   "source": [
    "###  Some scheduled arrival seconds span longer than a day: filter them out"
   ]
  },
  {
   "cell_type": "code",
   "execution_count": 31,
   "id": "e9961036-31d0-4eee-8852-c5b0c13c0006",
   "metadata": {},
   "outputs": [
    {
     "data": {
      "text/plain": [
       "15695"
      ]
     },
     "execution_count": 31,
     "metadata": {},
     "output_type": "execute_result"
    }
   ],
   "source": [
    "len(rt_stop_times2.loc[rt_stop_times2.scheduled_arrival_sec > 86400])"
   ]
  },
  {
   "cell_type": "code",
   "execution_count": 32,
   "id": "c6b17660-1c42-4588-8365-22ca2cad9992",
   "metadata": {},
   "outputs": [],
   "source": [
    "rt_stop_times3 = rt_stop_times2.loc[\n",
    "    rt_stop_times2.scheduled_arrival_sec <= 86400\n",
    "].reset_index(drop=True)"
   ]
  },
  {
   "cell_type": "code",
   "execution_count": 33,
   "id": "b5c51df1-f096-42f1-90af-bb7add2e72e2",
   "metadata": {},
   "outputs": [
    {
     "data": {
      "text/plain": [
       "378730"
      ]
     },
     "execution_count": 33,
     "metadata": {},
     "output_type": "execute_result"
    }
   ],
   "source": [
    "len(rt_stop_times3)"
   ]
  },
  {
   "cell_type": "code",
   "execution_count": 34,
   "id": "d7eaac2e-a0cc-4a33-a7e5-1908991861be",
   "metadata": {},
   "outputs": [],
   "source": [
    "preview = [\n",
    "    \"schedule_gtfs_dataset_key\",\n",
    "    \"trip_instance_key\",\n",
    "    \"shape_array_key\",\n",
    "    \"feed_key\",\n",
    "]"
   ]
  },
  {
   "cell_type": "code",
   "execution_count": 35,
   "id": "f9ef483a-92d9-46e3-94ae-cc11f6583a67",
   "metadata": {},
   "outputs": [
    {
     "data": {
      "text/html": [
       "<div>\n",
       "<style scoped>\n",
       "    .dataframe tbody tr th:only-of-type {\n",
       "        vertical-align: middle;\n",
       "    }\n",
       "\n",
       "    .dataframe tbody tr th {\n",
       "        vertical-align: top;\n",
       "    }\n",
       "\n",
       "    .dataframe thead th {\n",
       "        text-align: right;\n",
       "    }\n",
       "</style>\n",
       "<table border=\"1\" class=\"dataframe\">\n",
       "  <thead>\n",
       "    <tr style=\"text-align: right;\">\n",
       "      <th></th>\n",
       "      <th>trip_id</th>\n",
       "      <th>stop_id</th>\n",
       "      <th>stop_sequence</th>\n",
       "      <th>scheduled_arrival_sec</th>\n",
       "      <th>rt_arrival</th>\n",
       "      <th>route_id</th>\n",
       "      <th>sched_arrival</th>\n",
       "    </tr>\n",
       "  </thead>\n",
       "  <tbody>\n",
       "    <tr>\n",
       "      <th>87722</th>\n",
       "      <td>10033006641045-DEC23</td>\n",
       "      <td>6954</td>\n",
       "      <td>36</td>\n",
       "      <td>41340.00</td>\n",
       "      <td>2024-05-22 11:29:14</td>\n",
       "      <td>33-13172</td>\n",
       "      <td>2024-05-22 11:29:00</td>\n",
       "    </tr>\n",
       "    <tr>\n",
       "      <th>233507</th>\n",
       "      <td>10018003450624-DEC23</td>\n",
       "      <td>8284</td>\n",
       "      <td>41</td>\n",
       "      <td>25800.00</td>\n",
       "      <td>2024-05-22 07:08:13</td>\n",
       "      <td>18-13172</td>\n",
       "      <td>2024-05-22 07:10:00</td>\n",
       "    </tr>\n",
       "    <tr>\n",
       "      <th>376930</th>\n",
       "      <td>11496673_M31</td>\n",
       "      <td>14288</td>\n",
       "      <td>11</td>\n",
       "      <td>32886.00</td>\n",
       "      <td>2024-05-22 09:11:35</td>\n",
       "      <td>38R</td>\n",
       "      <td>2024-05-22 09:08:06</td>\n",
       "    </tr>\n",
       "    <tr>\n",
       "      <th>20948</th>\n",
       "      <td>183-o4t8tfcqr</td>\n",
       "      <td>6715958</td>\n",
       "      <td>3</td>\n",
       "      <td>70680.00</td>\n",
       "      <td>2024-05-22 19:39:06</td>\n",
       "      <td>4446</td>\n",
       "      <td>2024-05-22 19:38:00</td>\n",
       "    </tr>\n",
       "    <tr>\n",
       "      <th>296699</th>\n",
       "      <td>11508533_M31</td>\n",
       "      <td>15206</td>\n",
       "      <td>8</td>\n",
       "      <td>83847.00</td>\n",
       "      <td>2024-05-22 23:19:57</td>\n",
       "      <td>N</td>\n",
       "      <td>2024-05-22 23:17:27</td>\n",
       "    </tr>\n",
       "    <tr>\n",
       "      <th>230778</th>\n",
       "      <td>10901000551908-DEC23</td>\n",
       "      <td>15432</td>\n",
       "      <td>5</td>\n",
       "      <td>69600.00</td>\n",
       "      <td>2024-05-22 19:22:32</td>\n",
       "      <td>901-13172</td>\n",
       "      <td>2024-05-22 19:20:00</td>\n",
       "    </tr>\n",
       "    <tr>\n",
       "      <th>72212</th>\n",
       "      <td>10207003040914-DEC23</td>\n",
       "      <td>3990</td>\n",
       "      <td>54</td>\n",
       "      <td>37320.00</td>\n",
       "      <td>2024-05-22 10:21:43</td>\n",
       "      <td>207-13172</td>\n",
       "      <td>2024-05-22 10:22:00</td>\n",
       "    </tr>\n",
       "    <tr>\n",
       "      <th>303827</th>\n",
       "      <td>11491421_M31</td>\n",
       "      <td>15096</td>\n",
       "      <td>9</td>\n",
       "      <td>54580.00</td>\n",
       "      <td>2024-05-22 15:19:03</td>\n",
       "      <td>24</td>\n",
       "      <td>2024-05-22 15:09:40</td>\n",
       "    </tr>\n",
       "    <tr>\n",
       "      <th>138598</th>\n",
       "      <td>60200866</td>\n",
       "      <td>80407</td>\n",
       "      <td>7</td>\n",
       "      <td>68580.00</td>\n",
       "      <td>2024-05-22 19:04:03</td>\n",
       "      <td>804</td>\n",
       "      <td>2024-05-22 19:03:00</td>\n",
       "    </tr>\n",
       "    <tr>\n",
       "      <th>62654</th>\n",
       "      <td>10033006640813-DEC23</td>\n",
       "      <td>1131</td>\n",
       "      <td>64</td>\n",
       "      <td>33900.00</td>\n",
       "      <td>2024-05-22 09:24:56</td>\n",
       "      <td>33-13172</td>\n",
       "      <td>2024-05-22 09:25:00</td>\n",
       "    </tr>\n",
       "  </tbody>\n",
       "</table>\n",
       "</div>"
      ],
      "text/plain": [
       "                     trip_id  stop_id  stop_sequence  scheduled_arrival_sec  \\\n",
       "87722   10033006641045-DEC23     6954             36               41340.00   \n",
       "233507  10018003450624-DEC23     8284             41               25800.00   \n",
       "376930          11496673_M31    14288             11               32886.00   \n",
       "20948          183-o4t8tfcqr  6715958              3               70680.00   \n",
       "296699          11508533_M31    15206              8               83847.00   \n",
       "230778  10901000551908-DEC23    15432              5               69600.00   \n",
       "72212   10207003040914-DEC23     3990             54               37320.00   \n",
       "303827          11491421_M31    15096              9               54580.00   \n",
       "138598              60200866    80407              7               68580.00   \n",
       "62654   10033006640813-DEC23     1131             64               33900.00   \n",
       "\n",
       "                rt_arrival   route_id       sched_arrival  \n",
       "87722  2024-05-22 11:29:14   33-13172 2024-05-22 11:29:00  \n",
       "233507 2024-05-22 07:08:13   18-13172 2024-05-22 07:10:00  \n",
       "376930 2024-05-22 09:11:35        38R 2024-05-22 09:08:06  \n",
       "20948  2024-05-22 19:39:06       4446 2024-05-22 19:38:00  \n",
       "296699 2024-05-22 23:19:57          N 2024-05-22 23:17:27  \n",
       "230778 2024-05-22 19:22:32  901-13172 2024-05-22 19:20:00  \n",
       "72212  2024-05-22 10:21:43  207-13172 2024-05-22 10:22:00  \n",
       "303827 2024-05-22 15:19:03         24 2024-05-22 15:09:40  \n",
       "138598 2024-05-22 19:04:03        804 2024-05-22 19:03:00  \n",
       "62654  2024-05-22 09:24:56   33-13172 2024-05-22 09:25:00  "
      ]
     },
     "execution_count": 35,
     "metadata": {},
     "output_type": "execute_result"
    }
   ],
   "source": [
    "rt_stop_times3.sample(10).drop(columns=preview)"
   ]
  },
  {
   "cell_type": "code",
   "execution_count": 36,
   "id": "a789725d-e571-409b-aa1a-423adb78b5b0",
   "metadata": {},
   "outputs": [],
   "source": [
    "# Rearrange\n",
    "rt_stop_times4 = rt_stop_times3.sort_values(\n",
    "    by=[\n",
    "        \"schedule_gtfs_dataset_key\",\n",
    "        \"feed_key\",\n",
    "        \"shape_array_key\",\n",
    "        \"route_id\",\n",
    "        \"stop_sequence\",\n",
    "        \"stop_id\",\n",
    "        \"sched_arrival\",\n",
    "    ]\n",
    ").reset_index(drop=True)"
   ]
  },
  {
   "cell_type": "markdown",
   "id": "5fd85ad8-49e3-4548-85fc-41f725e968ee",
   "metadata": {},
   "source": [
    "### Throw out more outliers\n",
    "* [Tiffany's NB](https://github.com/cal-itp/data-analyses/blob/actual-scheduled-arrival-diff/rt_scheduled_v_ran/10_delay_distribution.ipynb)"
   ]
  },
  {
   "cell_type": "code",
   "execution_count": 37,
   "id": "83daac22-fe22-4ba0-b1fe-0ef28eecffcd",
   "metadata": {},
   "outputs": [],
   "source": [
    "def check_delay(df):\n",
    "    df = df.assign(delay=df.rt_arrival - df.sched_arrival)\n",
    "\n",
    "    print(df.delay.describe(percentiles=[0.05, 0.1, 0.9, 0.95]))\n",
    "\n",
    "    max_delay_min = df.delay.max() / 60\n",
    "    p95_delay_min = df.delay.quantile(q=0.95) / 60\n",
    "\n",
    "    min_delay_min = df.delay.min() / 60\n",
    "    p5_delay_min = df.delay.quantile(q=0.05) / 60\n",
    "\n",
    "    print(f\"min / max delay (minutes): {min_delay_min}, {max_delay_min}\")\n",
    "    print(f\"5th / 95th delay (minutes): {p5_delay_min}, {p95_delay_min}\")\n",
    "\n",
    "    return df"
   ]
  },
  {
   "cell_type": "code",
   "execution_count": 38,
   "id": "fa7ac743-62a8-44c6-af49-33e042bee777",
   "metadata": {},
   "outputs": [
    {
     "name": "stdout",
     "output_type": "stream",
     "text": [
      "count                       378730\n",
      "mean     0 days 00:02:37.105927705\n",
      "std      0 days 00:09:14.532949024\n",
      "min              -1 days +00:00:00\n",
      "5%               -1 days +23:57:11\n",
      "10%              -1 days +23:58:12\n",
      "50%                0 days 00:01:27\n",
      "90%                0 days 00:08:34\n",
      "95%                0 days 00:12:13\n",
      "max                0 days 22:26:01\n",
      "Name: delay, dtype: object\n",
      "min / max delay (minutes): -1 days +23:36:00, 0 days 00:22:26.016666666\n",
      "5th / 95th delay (minutes): -1 days +23:59:57.183333334, 0 days 00:00:12.216666666\n"
     ]
    }
   ],
   "source": [
    "rt_stop_times4 = check_delay(rt_stop_times4)"
   ]
  },
  {
   "cell_type": "code",
   "execution_count": 39,
   "id": "e9a28b97-c995-4181-a0d9-51a2fd93bf80",
   "metadata": {},
   "outputs": [],
   "source": [
    "# Filter to only delays that are an hour or less\n",
    "rt_stop_times5 = rt_stop_times4[rt_stop_times4[\"delay\"].dt.total_seconds() / 3600 <= 1]"
   ]
  },
  {
   "cell_type": "code",
   "execution_count": 40,
   "id": "b29388f5-000f-481f-b557-fdcc4fa55cf4",
   "metadata": {},
   "outputs": [
    {
     "data": {
      "text/plain": [
       "-228"
      ]
     },
     "execution_count": 40,
     "metadata": {},
     "output_type": "execute_result"
    }
   ],
   "source": [
    "len(rt_stop_times5) - len(rt_stop_times4)"
   ]
  },
  {
   "cell_type": "markdown",
   "id": "5ddc9301-b0ff-4ae6-a0fc-4395107eed94",
   "metadata": {},
   "source": [
    "### Not sure how to ahndle stuff that's a day behind??\n",
    "* Filter out for now."
   ]
  },
  {
   "cell_type": "code",
   "execution_count": 41,
   "id": "5cd3a224-b0d1-468e-8d33-6704caab0ac1",
   "metadata": {},
   "outputs": [
    {
     "data": {
      "text/plain": [
       "count                       378502\n",
       "mean     0 days 00:02:33.675438967\n",
       "std      0 days 00:08:39.148702562\n",
       "min              -1 days +00:00:00\n",
       "25%              -1 days +23:59:35\n",
       "50%                0 days 00:01:27\n",
       "75%                0 days 00:04:24\n",
       "max                0 days 00:59:52\n",
       "Name: delay, dtype: object"
      ]
     },
     "execution_count": 41,
     "metadata": {},
     "output_type": "execute_result"
    }
   ],
   "source": [
    "rt_stop_times5.delay.describe()"
   ]
  },
  {
   "cell_type": "code",
   "execution_count": 42,
   "id": "42659855-22a1-4e8b-8ee5-cabce259fd98",
   "metadata": {},
   "outputs": [],
   "source": [
    "rt_stop_times6 = rt_stop_times5[rt_stop_times5[\"delay\"].dt.total_seconds() >= 0]"
   ]
  },
  {
   "cell_type": "code",
   "execution_count": 43,
   "id": "a136936d-0c70-48fd-b9e7-fdff8f2ab1aa",
   "metadata": {},
   "outputs": [
    {
     "data": {
      "text/plain": [
       "-116617"
      ]
     },
     "execution_count": 43,
     "metadata": {},
     "output_type": "execute_result"
    }
   ],
   "source": [
    "len(rt_stop_times6) - len(rt_stop_times5)"
   ]
  },
  {
   "cell_type": "code",
   "execution_count": 44,
   "id": "79faa16b-e822-48fd-895a-149111b7d540",
   "metadata": {},
   "outputs": [
    {
     "data": {
      "text/plain": [
       "261885"
      ]
     },
     "execution_count": 44,
     "metadata": {},
     "output_type": "execute_result"
    }
   ],
   "source": [
    "len(rt_stop_times6)"
   ]
  },
  {
   "cell_type": "markdown",
   "id": "deffd029-4490-4a9e-ab0f-dc3af231e5a7",
   "metadata": {},
   "source": [
    "### Calculate the actual and scheduled headways\n",
    "* Maybe it's better to work with seconds since I have to convert everything back and forth all the time."
   ]
  },
  {
   "cell_type": "code",
   "execution_count": 45,
   "id": "bac73b02-85f8-489c-9c67-3357121bb742",
   "metadata": {},
   "outputs": [
    {
     "name": "stderr",
     "output_type": "stream",
     "text": [
      "/tmp/ipykernel_1395/4209538621.py:1: SettingWithCopyWarning: \n",
      "A value is trying to be set on a copy of a slice from a DataFrame.\n",
      "Try using .loc[row_indexer,col_indexer] = value instead\n",
      "\n",
      "See the caveats in the documentation: https://pandas.pydata.org/pandas-docs/stable/user_guide/indexing.html#returning-a-view-versus-a-copy\n",
      "  rt_stop_times6[\"actual_headway\"] = rt_stop_times6[\"rt_arrival\"].diff()\n"
     ]
    }
   ],
   "source": [
    "rt_stop_times6[\"actual_headway\"] = rt_stop_times6[\"rt_arrival\"].diff()"
   ]
  },
  {
   "cell_type": "code",
   "execution_count": 46,
   "id": "daae1823-1674-498e-b3a0-c6d5be922fd2",
   "metadata": {},
   "outputs": [
    {
     "name": "stderr",
     "output_type": "stream",
     "text": [
      "/tmp/ipykernel_1395/1136538163.py:1: SettingWithCopyWarning: \n",
      "A value is trying to be set on a copy of a slice from a DataFrame.\n",
      "Try using .loc[row_indexer,col_indexer] = value instead\n",
      "\n",
      "See the caveats in the documentation: https://pandas.pydata.org/pandas-docs/stable/user_guide/indexing.html#returning-a-view-versus-a-copy\n",
      "  rt_stop_times6[\"schd_headway\"] = rt_stop_times6[\"sched_arrival\"].diff()\n"
     ]
    }
   ],
   "source": [
    "rt_stop_times6[\"schd_headway\"] = rt_stop_times6[\"sched_arrival\"].diff()"
   ]
  },
  {
   "cell_type": "code",
   "execution_count": 47,
   "id": "83b8a4a8-6c3a-45c4-9ecf-b0d9307a2cf8",
   "metadata": {},
   "outputs": [
    {
     "name": "stderr",
     "output_type": "stream",
     "text": [
      "/tmp/ipykernel_1395/1319602999.py:2: SettingWithCopyWarning: \n",
      "A value is trying to be set on a copy of a slice from a DataFrame.\n",
      "Try using .loc[row_indexer,col_indexer] = value instead\n",
      "\n",
      "See the caveats in the documentation: https://pandas.pydata.org/pandas-docs/stable/user_guide/indexing.html#returning-a-view-versus-a-copy\n",
      "  rt_stop_times6['actual_headway_minus_schd_minutes'] = (rt_stop_times6['actual_headway'].dt.total_seconds() - rt_stop_times6['schd_headway'].dt.total_seconds()) / 60\n"
     ]
    }
   ],
   "source": [
    "# df['actual_headway_minus_schd_seconds'] = (df['actual_headway'] - df['schd_headway'])\n",
    "rt_stop_times6[\"actual_headway_minus_schd_minutes\"] = (\n",
    "    rt_stop_times6[\"actual_headway\"].dt.total_seconds()\n",
    "    - rt_stop_times6[\"schd_headway\"].dt.total_seconds()\n",
    ") / 60"
   ]
  },
  {
   "cell_type": "code",
   "execution_count": 48,
   "id": "7c2ac3f9-5c78-4a9a-bacb-671479051ee3",
   "metadata": {},
   "outputs": [
    {
     "name": "stderr",
     "output_type": "stream",
     "text": [
      "/tmp/ipykernel_1395/1488871971.py:1: SettingWithCopyWarning: \n",
      "A value is trying to be set on a copy of a slice from a DataFrame.\n",
      "Try using .loc[row_indexer,col_indexer] = value instead\n",
      "\n",
      "See the caveats in the documentation: https://pandas.pydata.org/pandas-docs/stable/user_guide/indexing.html#returning-a-view-versus-a-copy\n",
      "  rt_stop_times6['actual_headway_minutes'] = rt_stop_times6['actual_headway'].dt.total_seconds() / 60\n"
     ]
    }
   ],
   "source": [
    "rt_stop_times6[\"actual_headway_minutes\"] = (\n",
    "    rt_stop_times6[\"actual_headway\"].dt.total_seconds() / 60\n",
    ")"
   ]
  },
  {
   "cell_type": "code",
   "execution_count": 49,
   "id": "a3a3a1b4-8e67-4ee6-9170-780cc9a605ca",
   "metadata": {},
   "outputs": [
    {
     "name": "stderr",
     "output_type": "stream",
     "text": [
      "/tmp/ipykernel_1395/2334765598.py:1: SettingWithCopyWarning: \n",
      "A value is trying to be set on a copy of a slice from a DataFrame.\n",
      "Try using .loc[row_indexer,col_indexer] = value instead\n",
      "\n",
      "See the caveats in the documentation: https://pandas.pydata.org/pandas-docs/stable/user_guide/indexing.html#returning-a-view-versus-a-copy\n",
      "  rt_stop_times6['schd_headway_minutes'] = rt_stop_times6['schd_headway'].dt.total_seconds() / 60\n"
     ]
    }
   ],
   "source": [
    "rt_stop_times6[\"schd_headway_minutes\"] = (\n",
    "    rt_stop_times6[\"schd_headway\"].dt.total_seconds() / 60\n",
    ")"
   ]
  },
  {
   "cell_type": "code",
   "execution_count": 52,
   "id": "b71be2e5-db10-4474-bc25-e893df04d7d9",
   "metadata": {},
   "outputs": [
    {
     "data": {
      "text/plain": [
       "count   261884.00\n",
       "mean        -0.00\n",
       "std        155.82\n",
       "min      -1215.00\n",
       "25%          9.00\n",
       "50%         15.00\n",
       "75%         24.00\n",
       "max       1080.00\n",
       "Name: schd_headway_minutes, dtype: float64"
      ]
     },
     "execution_count": 52,
     "metadata": {},
     "output_type": "execute_result"
    }
   ],
   "source": [
    "rt_stop_times6.schd_headway_minutes.describe()"
   ]
  },
  {
   "cell_type": "code",
   "execution_count": 55,
   "id": "917b95f6-bade-4fd8-b699-aa5f61ef643e",
   "metadata": {},
   "outputs": [],
   "source": [
    "# Delete extremes\n",
    "rt_stop_times7 = rt_stop_times6.loc[\n",
    "    (rt_stop_times6.schd_headway_minutes < 1080.00)\n",
    "    & (rt_stop_times6.schd_headway_minutes > 0)\n",
    "]"
   ]
  },
  {
   "cell_type": "code",
   "execution_count": 56,
   "id": "d833088e-1e85-497f-b7d3-d38dc0f51190",
   "metadata": {},
   "outputs": [
    {
     "data": {
      "text/plain": [
       "(252028, 261885)"
      ]
     },
     "execution_count": 56,
     "metadata": {},
     "output_type": "execute_result"
    }
   ],
   "source": [
    "len(rt_stop_times7), len(rt_stop_times6)"
   ]
  },
  {
   "cell_type": "code",
   "execution_count": 59,
   "id": "3596af00-e0c4-4bd1-9aff-a33c934e3e0f",
   "metadata": {},
   "outputs": [
    {
     "name": "stderr",
     "output_type": "stream",
     "text": [
      "/tmp/ipykernel_1395/1488871971.py:1: SettingWithCopyWarning: \n",
      "A value is trying to be set on a copy of a slice from a DataFrame.\n",
      "Try using .loc[row_indexer,col_indexer] = value instead\n",
      "\n",
      "See the caveats in the documentation: https://pandas.pydata.org/pandas-docs/stable/user_guide/indexing.html#returning-a-view-versus-a-copy\n",
      "  rt_stop_times6['actual_headway_minutes'] = rt_stop_times6['actual_headway'].dt.total_seconds() / 60\n"
     ]
    }
   ],
   "source": [
    "rt_stop_times6[\"actual_headway_minutes\"] = (\n",
    "    rt_stop_times6[\"actual_headway\"].dt.total_seconds() / 60\n",
    ")"
   ]
  },
  {
   "cell_type": "code",
   "execution_count": 60,
   "id": "d8e21ac5-b3d6-4a75-bb27-dff1559738cf",
   "metadata": {},
   "outputs": [
    {
     "data": {
      "text/html": [
       "<div>\n",
       "<style scoped>\n",
       "    .dataframe tbody tr th:only-of-type {\n",
       "        vertical-align: middle;\n",
       "    }\n",
       "\n",
       "    .dataframe tbody tr th {\n",
       "        vertical-align: top;\n",
       "    }\n",
       "\n",
       "    .dataframe thead th {\n",
       "        text-align: right;\n",
       "    }\n",
       "</style>\n",
       "<table border=\"1\" class=\"dataframe\">\n",
       "  <thead>\n",
       "    <tr style=\"text-align: right;\">\n",
       "      <th></th>\n",
       "      <th>schd_headway</th>\n",
       "      <th>schd_headway_minutes</th>\n",
       "      <th>actual_headway_minus_schd_minutes</th>\n",
       "      <th>actual_headway</th>\n",
       "      <th>actual_headway_minutes</th>\n",
       "    </tr>\n",
       "  </thead>\n",
       "  <tbody>\n",
       "    <tr>\n",
       "      <th>1</th>\n",
       "      <td>0 days 00:41:00</td>\n",
       "      <td>41.00</td>\n",
       "      <td>-4.32</td>\n",
       "      <td>0 days 00:36:41</td>\n",
       "      <td>36.68</td>\n",
       "    </tr>\n",
       "    <tr>\n",
       "      <th>2</th>\n",
       "      <td>0 days 00:20:00</td>\n",
       "      <td>20.00</td>\n",
       "      <td>-6.38</td>\n",
       "      <td>0 days 00:13:37</td>\n",
       "      <td>13.62</td>\n",
       "    </tr>\n",
       "    <tr>\n",
       "      <th>3</th>\n",
       "      <td>0 days 00:35:00</td>\n",
       "      <td>35.00</td>\n",
       "      <td>-0.63</td>\n",
       "      <td>0 days 00:34:22</td>\n",
       "      <td>34.37</td>\n",
       "    </tr>\n",
       "    <tr>\n",
       "      <th>4</th>\n",
       "      <td>0 days 00:14:00</td>\n",
       "      <td>14.00</td>\n",
       "      <td>1.70</td>\n",
       "      <td>0 days 00:15:42</td>\n",
       "      <td>15.70</td>\n",
       "    </tr>\n",
       "    <tr>\n",
       "      <th>5</th>\n",
       "      <td>0 days 00:44:00</td>\n",
       "      <td>44.00</td>\n",
       "      <td>9.98</td>\n",
       "      <td>0 days 00:53:59</td>\n",
       "      <td>53.98</td>\n",
       "    </tr>\n",
       "    <tr>\n",
       "      <th>6</th>\n",
       "      <td>0 days 00:23:00</td>\n",
       "      <td>23.00</td>\n",
       "      <td>-13.65</td>\n",
       "      <td>0 days 00:09:21</td>\n",
       "      <td>9.35</td>\n",
       "    </tr>\n",
       "    <tr>\n",
       "      <th>9</th>\n",
       "      <td>0 days 00:41:00</td>\n",
       "      <td>41.00</td>\n",
       "      <td>-5.92</td>\n",
       "      <td>0 days 00:35:05</td>\n",
       "      <td>35.08</td>\n",
       "    </tr>\n",
       "    <tr>\n",
       "      <th>10</th>\n",
       "      <td>0 days 00:20:00</td>\n",
       "      <td>20.00</td>\n",
       "      <td>-5.67</td>\n",
       "      <td>0 days 00:14:20</td>\n",
       "      <td>14.33</td>\n",
       "    </tr>\n",
       "    <tr>\n",
       "      <th>11</th>\n",
       "      <td>0 days 00:35:00</td>\n",
       "      <td>35.00</td>\n",
       "      <td>-0.90</td>\n",
       "      <td>0 days 00:34:06</td>\n",
       "      <td>34.10</td>\n",
       "    </tr>\n",
       "    <tr>\n",
       "      <th>12</th>\n",
       "      <td>0 days 00:13:00</td>\n",
       "      <td>13.00</td>\n",
       "      <td>2.52</td>\n",
       "      <td>0 days 00:15:31</td>\n",
       "      <td>15.52</td>\n",
       "    </tr>\n",
       "  </tbody>\n",
       "</table>\n",
       "</div>"
      ],
      "text/plain": [
       "      schd_headway  schd_headway_minutes  actual_headway_minus_schd_minutes  \\\n",
       "1  0 days 00:41:00                 41.00                              -4.32   \n",
       "2  0 days 00:20:00                 20.00                              -6.38   \n",
       "3  0 days 00:35:00                 35.00                              -0.63   \n",
       "4  0 days 00:14:00                 14.00                               1.70   \n",
       "5  0 days 00:44:00                 44.00                               9.98   \n",
       "6  0 days 00:23:00                 23.00                             -13.65   \n",
       "9  0 days 00:41:00                 41.00                              -5.92   \n",
       "10 0 days 00:20:00                 20.00                              -5.67   \n",
       "11 0 days 00:35:00                 35.00                              -0.90   \n",
       "12 0 days 00:13:00                 13.00                               2.52   \n",
       "\n",
       "    actual_headway  actual_headway_minutes  \n",
       "1  0 days 00:36:41                   36.68  \n",
       "2  0 days 00:13:37                   13.62  \n",
       "3  0 days 00:34:22                   34.37  \n",
       "4  0 days 00:15:42                   15.70  \n",
       "5  0 days 00:53:59                   53.98  \n",
       "6  0 days 00:09:21                    9.35  \n",
       "9  0 days 00:35:05                   35.08  \n",
       "10 0 days 00:14:20                   14.33  \n",
       "11 0 days 00:34:06                   34.10  \n",
       "12 0 days 00:15:31                   15.52  "
      ]
     },
     "execution_count": 60,
     "metadata": {},
     "output_type": "execute_result"
    }
   ],
   "source": [
    "rt_stop_times7[\n",
    "    [\n",
    "        \"schd_headway\",\n",
    "        \"schd_headway_minutes\",\n",
    "        \"actual_headway_minus_schd_minutes\",\n",
    "        \"actual_headway\",\n",
    "        \"actual_headway_minutes\",\n",
    "    ]\n",
    "].head(10)"
   ]
  },
  {
   "cell_type": "code",
   "execution_count": 62,
   "id": "a45a0524-bf43-4d88-acee-3ce1edb722f2",
   "metadata": {},
   "outputs": [
    {
     "name": "stdout",
     "output_type": "stream",
     "text": [
      "<class 'pandas.core.frame.DataFrame'>\n",
      "Int64Index: 252028 entries, 1 to 378726\n",
      "Data columns (total 17 columns):\n",
      " #   Column                             Non-Null Count   Dtype          \n",
      "---  ------                             --------------   -----          \n",
      " 0   trip_id                            252028 non-null  object         \n",
      " 1   stop_id                            252028 non-null  object         \n",
      " 2   stop_sequence                      252028 non-null  int64          \n",
      " 3   scheduled_arrival_sec              252028 non-null  float64        \n",
      " 4   schedule_gtfs_dataset_key          252028 non-null  object         \n",
      " 5   trip_instance_key                  252028 non-null  object         \n",
      " 6   rt_arrival                         252028 non-null  datetime64[ns] \n",
      " 7   route_id                           252028 non-null  object         \n",
      " 8   shape_array_key                    252028 non-null  object         \n",
      " 9   feed_key                           252028 non-null  object         \n",
      " 10  sched_arrival                      252028 non-null  datetime64[ns] \n",
      " 11  delay                              252028 non-null  timedelta64[ns]\n",
      " 12  actual_headway                     252028 non-null  timedelta64[ns]\n",
      " 13  schd_headway                       252028 non-null  timedelta64[ns]\n",
      " 14  actual_headway_minus_schd_minutes  252028 non-null  float64        \n",
      " 15  actual_headway_minutes             252028 non-null  float64        \n",
      " 16  schd_headway_minutes               252028 non-null  float64        \n",
      "dtypes: datetime64[ns](2), float64(4), int64(1), object(7), timedelta64[ns](3)\n",
      "memory usage: 34.6+ MB\n"
     ]
    }
   ],
   "source": [
    "rt_stop_times7.info()"
   ]
  },
  {
   "cell_type": "code",
   "execution_count": 61,
   "id": "1683e96b-23fd-440d-ad89-469ae7f96e85",
   "metadata": {},
   "outputs": [
    {
     "data": {
      "text/html": [
       "<div>\n",
       "<style scoped>\n",
       "    .dataframe tbody tr th:only-of-type {\n",
       "        vertical-align: middle;\n",
       "    }\n",
       "\n",
       "    .dataframe tbody tr th {\n",
       "        vertical-align: top;\n",
       "    }\n",
       "\n",
       "    .dataframe thead th {\n",
       "        text-align: right;\n",
       "    }\n",
       "</style>\n",
       "<table border=\"1\" class=\"dataframe\">\n",
       "  <thead>\n",
       "    <tr style=\"text-align: right;\">\n",
       "      <th></th>\n",
       "      <th>trip_id</th>\n",
       "      <th>stop_id</th>\n",
       "      <th>stop_sequence</th>\n",
       "      <th>scheduled_arrival_sec</th>\n",
       "      <th>schedule_gtfs_dataset_key</th>\n",
       "      <th>trip_instance_key</th>\n",
       "      <th>rt_arrival</th>\n",
       "      <th>route_id</th>\n",
       "      <th>shape_array_key</th>\n",
       "      <th>feed_key</th>\n",
       "      <th>sched_arrival</th>\n",
       "      <th>delay</th>\n",
       "      <th>actual_headway</th>\n",
       "      <th>schd_headway</th>\n",
       "      <th>actual_headway_minus_schd_minutes</th>\n",
       "      <th>actual_headway_minutes</th>\n",
       "      <th>schd_headway_minutes</th>\n",
       "    </tr>\n",
       "  </thead>\n",
       "  <tbody>\n",
       "    <tr>\n",
       "      <th>1</th>\n",
       "      <td>10051003551653-DEC23</td>\n",
       "      <td>7383</td>\n",
       "      <td>2</td>\n",
       "      <td>60900.00</td>\n",
       "      <td>0666caf3ec1ecc96b74f4477ee4bc939</td>\n",
       "      <td>c30e53e3d705e2ef2ed047eb814558fb</td>\n",
       "      <td>2024-05-22 17:04:15</td>\n",
       "      <td>51-13172</td>\n",
       "      <td>0314d8368e4f695949837e289b644d3e</td>\n",
       "      <td>608992664173210532aa3e6cc573be2f</td>\n",
       "      <td>2024-05-22 16:55:00</td>\n",
       "      <td>0 days 00:09:15</td>\n",
       "      <td>0 days 00:36:41</td>\n",
       "      <td>0 days 00:41:00</td>\n",
       "      <td>-4.32</td>\n",
       "      <td>36.68</td>\n",
       "      <td>41.00</td>\n",
       "    </tr>\n",
       "    <tr>\n",
       "      <th>2</th>\n",
       "      <td>10051003551713-DEC23</td>\n",
       "      <td>7383</td>\n",
       "      <td>2</td>\n",
       "      <td>62100.00</td>\n",
       "      <td>0666caf3ec1ecc96b74f4477ee4bc939</td>\n",
       "      <td>9f7e18664145905aefdbe88f4ee6e8a8</td>\n",
       "      <td>2024-05-22 17:17:52</td>\n",
       "      <td>51-13172</td>\n",
       "      <td>0314d8368e4f695949837e289b644d3e</td>\n",
       "      <td>608992664173210532aa3e6cc573be2f</td>\n",
       "      <td>2024-05-22 17:15:00</td>\n",
       "      <td>0 days 00:02:52</td>\n",
       "      <td>0 days 00:13:37</td>\n",
       "      <td>0 days 00:20:00</td>\n",
       "      <td>-6.38</td>\n",
       "      <td>13.62</td>\n",
       "      <td>20.00</td>\n",
       "    </tr>\n",
       "  </tbody>\n",
       "</table>\n",
       "</div>"
      ],
      "text/plain": [
       "                trip_id stop_id  stop_sequence  scheduled_arrival_sec  \\\n",
       "1  10051003551653-DEC23    7383              2               60900.00   \n",
       "2  10051003551713-DEC23    7383              2               62100.00   \n",
       "\n",
       "          schedule_gtfs_dataset_key                 trip_instance_key  \\\n",
       "1  0666caf3ec1ecc96b74f4477ee4bc939  c30e53e3d705e2ef2ed047eb814558fb   \n",
       "2  0666caf3ec1ecc96b74f4477ee4bc939  9f7e18664145905aefdbe88f4ee6e8a8   \n",
       "\n",
       "           rt_arrival  route_id                   shape_array_key  \\\n",
       "1 2024-05-22 17:04:15  51-13172  0314d8368e4f695949837e289b644d3e   \n",
       "2 2024-05-22 17:17:52  51-13172  0314d8368e4f695949837e289b644d3e   \n",
       "\n",
       "                           feed_key       sched_arrival           delay  \\\n",
       "1  608992664173210532aa3e6cc573be2f 2024-05-22 16:55:00 0 days 00:09:15   \n",
       "2  608992664173210532aa3e6cc573be2f 2024-05-22 17:15:00 0 days 00:02:52   \n",
       "\n",
       "   actual_headway    schd_headway  actual_headway_minus_schd_minutes  \\\n",
       "1 0 days 00:36:41 0 days 00:41:00                              -4.32   \n",
       "2 0 days 00:13:37 0 days 00:20:00                              -6.38   \n",
       "\n",
       "   actual_headway_minutes  schd_headway_minutes  \n",
       "1                   36.68                 41.00  \n",
       "2                   13.62                 20.00  "
      ]
     },
     "execution_count": 61,
     "metadata": {},
     "output_type": "execute_result"
    }
   ],
   "source": [
    "rt_stop_times7.head(2)"
   ]
  },
  {
   "cell_type": "code",
   "execution_count": 69,
   "id": "013a5b01-d619-475f-888b-89e945e1a7cc",
   "metadata": {},
   "outputs": [],
   "source": [
    "agg1 = (\n",
    "    rt_stop_times7.groupby(\n",
    "        [\n",
    "            \"schedule_gtfs_dataset_key\",\n",
    "            \"feed_key\",\n",
    "            \"shape_array_key\",\n",
    "            \"route_id\",\n",
    "            \"stop_sequence\",\n",
    "            \"stop_id\",\n",
    "        ]\n",
    "    )\n",
    "    .agg({\"schd_headway_minutes\": \"mean\"})\n",
    "    .reset_index()\n",
    "    .rename(columns={\"schd_headway_minutes\": \"avg_sched_headway_mins\"})\n",
    ")"
   ]
  },
  {
   "cell_type": "code",
   "execution_count": 70,
   "id": "0f89a2ea-bf1f-4930-9043-77a8fe6fc38b",
   "metadata": {},
   "outputs": [],
   "source": [
    "m1 = pd.merge(rt_stop_times7, agg1, on = [\n",
    "            \"schedule_gtfs_dataset_key\",\n",
    "            \"feed_key\",\n",
    "            \"shape_array_key\",\n",
    "            \"route_id\",\n",
    "            \"stop_sequence\",\n",
    "            \"stop_id\",\n",
    "        ])"
   ]
  },
  {
   "cell_type": "code",
   "execution_count": 74,
   "id": "319d2c26-2d13-4df8-a162-bd8b48629c43",
   "metadata": {},
   "outputs": [],
   "source": [
    "m1[\"std_dev\"] = (\n",
    "    (m1[\"actual_headway_minutes\"] - m1[\"avg_sched_headway_mins\"]) ** 2\n",
    ").mean() ** 0.5"
   ]
  },
  {
   "cell_type": "code",
   "execution_count": 76,
   "id": "cad852b8-d55d-4faa-bad7-eba1a41feaaa",
   "metadata": {},
   "outputs": [],
   "source": [
    "m1['bunching_coefficient'] = m1.std_dev/m1.avg_sched_headway_mins"
   ]
  },
  {
   "cell_type": "code",
   "execution_count": 77,
   "id": "42be0cbd-6f22-450b-b840-d924829b6cbb",
   "metadata": {},
   "outputs": [
    {
     "data": {
      "text/plain": [
       "count   252028.00\n",
       "mean         2.57\n",
       "std          2.45\n",
       "min          0.04\n",
       "25%          1.64\n",
       "50%          2.33\n",
       "75%          3.25\n",
       "max        255.12\n",
       "Name: bunching_coefficient, dtype: float64"
      ]
     },
     "execution_count": 77,
     "metadata": {},
     "output_type": "execute_result"
    }
   ],
   "source": [
    "m1.bunching_coefficient.describe()"
   ]
  },
  {
   "cell_type": "code",
   "execution_count": 86,
   "id": "1b5a644d-833c-40e9-b61c-2154794003b0",
   "metadata": {},
   "outputs": [
    {
     "data": {
      "text/plain": [
       "18820"
      ]
     },
     "execution_count": 86,
     "metadata": {},
     "output_type": "execute_result"
    }
   ],
   "source": [
    "len(m1.loc[m1.bunching_coefficient <= 1])"
   ]
  },
  {
   "cell_type": "code",
   "execution_count": 87,
   "id": "aaef6041-9d8c-4fd4-823a-dd918ed0056d",
   "metadata": {},
   "outputs": [
    {
     "data": {
      "text/plain": [
       "233208"
      ]
     },
     "execution_count": 87,
     "metadata": {},
     "output_type": "execute_result"
    }
   ],
   "source": [
    "len(m1.loc[m1.bunching_coefficient > 1])"
   ]
  },
  {
   "cell_type": "code",
   "execution_count": 79,
   "id": "793d6693-0374-4923-a2bc-cb24b40ce797",
   "metadata": {},
   "outputs": [
    {
     "data": {
      "text/html": [
       "<div>\n",
       "<style scoped>\n",
       "    .dataframe tbody tr th:only-of-type {\n",
       "        vertical-align: middle;\n",
       "    }\n",
       "\n",
       "    .dataframe tbody tr th {\n",
       "        vertical-align: top;\n",
       "    }\n",
       "\n",
       "    .dataframe thead th {\n",
       "        text-align: right;\n",
       "    }\n",
       "</style>\n",
       "<table border=\"1\" class=\"dataframe\">\n",
       "  <thead>\n",
       "    <tr style=\"text-align: right;\">\n",
       "      <th></th>\n",
       "      <th>trip_id</th>\n",
       "      <th>stop_id</th>\n",
       "      <th>stop_sequence</th>\n",
       "      <th>scheduled_arrival_sec</th>\n",
       "      <th>rt_arrival</th>\n",
       "      <th>route_id</th>\n",
       "      <th>sched_arrival</th>\n",
       "      <th>delay</th>\n",
       "      <th>actual_headway</th>\n",
       "      <th>schd_headway</th>\n",
       "      <th>actual_headway_minus_schd_minutes</th>\n",
       "      <th>actual_headway_minutes</th>\n",
       "      <th>schd_headway_minutes</th>\n",
       "      <th>avg_sched_headway_mins</th>\n",
       "      <th>std_dev</th>\n",
       "      <th>bunching_coefficient</th>\n",
       "    </tr>\n",
       "  </thead>\n",
       "  <tbody>\n",
       "    <tr>\n",
       "      <th>0</th>\n",
       "      <td>10051003551653-DEC23</td>\n",
       "      <td>7383</td>\n",
       "      <td>2</td>\n",
       "      <td>60900.00</td>\n",
       "      <td>2024-05-22 17:04:15</td>\n",
       "      <td>51-13172</td>\n",
       "      <td>2024-05-22 16:55:00</td>\n",
       "      <td>0 days 00:09:15</td>\n",
       "      <td>0 days 00:36:41</td>\n",
       "      <td>0 days 00:41:00</td>\n",
       "      <td>-4.32</td>\n",
       "      <td>36.68</td>\n",
       "      <td>41.00</td>\n",
       "      <td>29.50</td>\n",
       "      <td>42.52</td>\n",
       "      <td>1.44</td>\n",
       "    </tr>\n",
       "    <tr>\n",
       "      <th>1</th>\n",
       "      <td>10051003551713-DEC23</td>\n",
       "      <td>7383</td>\n",
       "      <td>2</td>\n",
       "      <td>62100.00</td>\n",
       "      <td>2024-05-22 17:17:52</td>\n",
       "      <td>51-13172</td>\n",
       "      <td>2024-05-22 17:15:00</td>\n",
       "      <td>0 days 00:02:52</td>\n",
       "      <td>0 days 00:13:37</td>\n",
       "      <td>0 days 00:20:00</td>\n",
       "      <td>-6.38</td>\n",
       "      <td>13.62</td>\n",
       "      <td>20.00</td>\n",
       "      <td>29.50</td>\n",
       "      <td>42.52</td>\n",
       "      <td>1.44</td>\n",
       "    </tr>\n",
       "    <tr>\n",
       "      <th>2</th>\n",
       "      <td>10051003551748-DEC23</td>\n",
       "      <td>7383</td>\n",
       "      <td>2</td>\n",
       "      <td>64200.00</td>\n",
       "      <td>2024-05-22 17:52:14</td>\n",
       "      <td>51-13172</td>\n",
       "      <td>2024-05-22 17:50:00</td>\n",
       "      <td>0 days 00:02:14</td>\n",
       "      <td>0 days 00:34:22</td>\n",
       "      <td>0 days 00:35:00</td>\n",
       "      <td>-0.63</td>\n",
       "      <td>34.37</td>\n",
       "      <td>35.00</td>\n",
       "      <td>29.50</td>\n",
       "      <td>42.52</td>\n",
       "      <td>1.44</td>\n",
       "    </tr>\n",
       "    <tr>\n",
       "      <th>3</th>\n",
       "      <td>10051003551802-DEC23</td>\n",
       "      <td>7383</td>\n",
       "      <td>2</td>\n",
       "      <td>65040.00</td>\n",
       "      <td>2024-05-22 18:07:56</td>\n",
       "      <td>51-13172</td>\n",
       "      <td>2024-05-22 18:04:00</td>\n",
       "      <td>0 days 00:03:56</td>\n",
       "      <td>0 days 00:15:42</td>\n",
       "      <td>0 days 00:14:00</td>\n",
       "      <td>1.70</td>\n",
       "      <td>15.70</td>\n",
       "      <td>14.00</td>\n",
       "      <td>29.50</td>\n",
       "      <td>42.52</td>\n",
       "      <td>1.44</td>\n",
       "    </tr>\n",
       "    <tr>\n",
       "      <th>4</th>\n",
       "      <td>10051003551846-DEC23</td>\n",
       "      <td>7383</td>\n",
       "      <td>2</td>\n",
       "      <td>67680.00</td>\n",
       "      <td>2024-05-22 19:01:55</td>\n",
       "      <td>51-13172</td>\n",
       "      <td>2024-05-22 18:48:00</td>\n",
       "      <td>0 days 00:13:55</td>\n",
       "      <td>0 days 00:53:59</td>\n",
       "      <td>0 days 00:44:00</td>\n",
       "      <td>9.98</td>\n",
       "      <td>53.98</td>\n",
       "      <td>44.00</td>\n",
       "      <td>29.50</td>\n",
       "      <td>42.52</td>\n",
       "      <td>1.44</td>\n",
       "    </tr>\n",
       "  </tbody>\n",
       "</table>\n",
       "</div>"
      ],
      "text/plain": [
       "                trip_id stop_id  stop_sequence  scheduled_arrival_sec  \\\n",
       "0  10051003551653-DEC23    7383              2               60900.00   \n",
       "1  10051003551713-DEC23    7383              2               62100.00   \n",
       "2  10051003551748-DEC23    7383              2               64200.00   \n",
       "3  10051003551802-DEC23    7383              2               65040.00   \n",
       "4  10051003551846-DEC23    7383              2               67680.00   \n",
       "\n",
       "           rt_arrival  route_id       sched_arrival           delay  \\\n",
       "0 2024-05-22 17:04:15  51-13172 2024-05-22 16:55:00 0 days 00:09:15   \n",
       "1 2024-05-22 17:17:52  51-13172 2024-05-22 17:15:00 0 days 00:02:52   \n",
       "2 2024-05-22 17:52:14  51-13172 2024-05-22 17:50:00 0 days 00:02:14   \n",
       "3 2024-05-22 18:07:56  51-13172 2024-05-22 18:04:00 0 days 00:03:56   \n",
       "4 2024-05-22 19:01:55  51-13172 2024-05-22 18:48:00 0 days 00:13:55   \n",
       "\n",
       "   actual_headway    schd_headway  actual_headway_minus_schd_minutes  \\\n",
       "0 0 days 00:36:41 0 days 00:41:00                              -4.32   \n",
       "1 0 days 00:13:37 0 days 00:20:00                              -6.38   \n",
       "2 0 days 00:34:22 0 days 00:35:00                              -0.63   \n",
       "3 0 days 00:15:42 0 days 00:14:00                               1.70   \n",
       "4 0 days 00:53:59 0 days 00:44:00                               9.98   \n",
       "\n",
       "   actual_headway_minutes  schd_headway_minutes  avg_sched_headway_mins  \\\n",
       "0                   36.68                 41.00                   29.50   \n",
       "1                   13.62                 20.00                   29.50   \n",
       "2                   34.37                 35.00                   29.50   \n",
       "3                   15.70                 14.00                   29.50   \n",
       "4                   53.98                 44.00                   29.50   \n",
       "\n",
       "   std_dev  bunching_coefficient  \n",
       "0    42.52                  1.44  \n",
       "1    42.52                  1.44  \n",
       "2    42.52                  1.44  \n",
       "3    42.52                  1.44  \n",
       "4    42.52                  1.44  "
      ]
     },
     "execution_count": 79,
     "metadata": {},
     "output_type": "execute_result"
    }
   ],
   "source": [
    "m1.head(5).drop(columns = preview)"
   ]
  },
  {
   "cell_type": "code",
   "execution_count": 80,
   "id": "4d24f9d4-d0bb-4b2c-b284-68812ab8216f",
   "metadata": {},
   "outputs": [],
   "source": [
    "import numpy as np\n",
    "\n",
    "actual = [786,906,700,302,616,198,304,918,538,120,308,876,168,134]\n",
    "scheduled = [600,600,600,600,660,600,420,540,540,420,420,420,360, 300]"
   ]
  },
  {
   "cell_type": "code",
   "execution_count": 83,
   "id": "43a368fc-7775-4b7f-8488-d1f5cf13e451",
   "metadata": {},
   "outputs": [],
   "source": [
    "mean = sum(scheduled) / len(scheduled)"
   ]
  },
  {
   "cell_type": "code",
   "execution_count": 84,
   "id": "399b5481-c2e8-4e5d-a0c7-7981ead8deef",
   "metadata": {},
   "outputs": [
    {
     "name": "stdout",
     "output_type": "stream",
     "text": [
      "294.08040688608565\n"
     ]
    }
   ],
   "source": [
    "# Calculate standard deviation\n",
    "standard_deviation = np.std([value - mean for value in actual])\n",
    "\n",
    "print(standard_deviation)"
   ]
  },
  {
   "cell_type": "code",
   "execution_count": 85,
   "id": "7fc92011-8bc3-4841-87d9-9160798269a5",
   "metadata": {},
   "outputs": [
    {
     "data": {
      "text/plain": [
       "0.5815149288707908"
      ]
     },
     "execution_count": 85,
     "metadata": {},
     "output_type": "execute_result"
    }
   ],
   "source": [
    "standard_deviation / mean"
   ]
  }
 ],
 "metadata": {
  "kernelspec": {
   "display_name": "Python 3 (ipykernel)",
   "language": "python",
   "name": "python3"
  },
  "language_info": {
   "codemirror_mode": {
    "name": "ipython",
    "version": 3
   },
   "file_extension": ".py",
   "mimetype": "text/x-python",
   "name": "python",
   "nbconvert_exporter": "python",
   "pygments_lexer": "ipython3",
   "version": "3.9.13"
  }
 },
 "nbformat": 4,
 "nbformat_minor": 5
}
