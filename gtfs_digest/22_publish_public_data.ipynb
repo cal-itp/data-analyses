{
 "cells": [
  {
   "cell_type": "markdown",
   "id": "700af126-2cc5-4cc2-ad9b-1613c06c8ab1",
   "metadata": {},
   "source": [
    "## Adjusting `service_hours` and `operator_profiles` with NTD data to be published on the Public GCS Page "
   ]
  },
  {
   "cell_type": "code",
   "execution_count": 1,
   "id": "c93b7faf-cf3c-4d94-9cac-702d8851f3fe",
   "metadata": {},
   "outputs": [],
   "source": [
    "import geopandas as gpd\n",
    "import pandas as pd\n",
    "\n",
    "from pathlib import Path\n",
    "from typing import Literal\n",
    "\n",
    "from calitp_data_analysis import utils\n",
    "from shared_utils import publish_utils\n",
    "from update_vars import GTFS_DATA_DICT, SCHED_GCS\n",
    "from segment_speed_utils import helpers, time_series_utils\n",
    "PUBLIC_GCS = GTFS_DATA_DICT.gcs_paths.PUBLIC_GCS"
   ]
  },
  {
   "cell_type": "code",
   "execution_count": 2,
   "id": "a8305b8e-cf14-4707-b184-3f3c0aa3d43f",
   "metadata": {},
   "outputs": [],
   "source": [
    "from shared_utils import catalog_utils, rt_dates"
   ]
  },
  {
   "cell_type": "code",
   "execution_count": 3,
   "id": "77384a52-33ac-4f87-ac31-b263844cef21",
   "metadata": {},
   "outputs": [],
   "source": [
    "pd.options.display.max_columns = 100\n",
    "pd.options.display.float_format = \"{:.2f}\".format\n",
    "pd.set_option(\"display.max_rows\", None)\n",
    "pd.set_option(\"display.max_colwidth\", None)"
   ]
  },
  {
   "cell_type": "code",
   "execution_count": 4,
   "id": "d44b41d8-cc43-4765-937e-2846f740316a",
   "metadata": {},
   "outputs": [],
   "source": [
    "import _gtfs_digest_dataset"
   ]
  },
  {
   "cell_type": "markdown",
   "id": "c35c1d13-3ad6-474e-8863-ff1728761802",
   "metadata": {},
   "source": [
    "### Check out Crosswalk `gtfs_funnel/crosswalk_gtfs_dataset_key_to_organization`"
   ]
  },
  {
   "cell_type": "code",
   "execution_count": 5,
   "id": "e5734a84-526d-4cb9-b426-035db5f7e6af",
   "metadata": {},
   "outputs": [],
   "source": [
    "import sys\n",
    "\n",
    "sys.path.append(\"../gtfs_funnel\")\n",
    "import crosswalk_gtfs_dataset_key_to_organization"
   ]
  },
  {
   "cell_type": "code",
   "execution_count": 6,
   "id": "3b6682cb-30b8-43dc-b922-6b0a46532b39",
   "metadata": {},
   "outputs": [
    {
     "data": {
      "text/plain": [
       "'gs://calitp-analytics-data/data-analyses/gtfs_schedule/'"
      ]
     },
     "execution_count": 6,
     "metadata": {},
     "output_type": "execute_result"
    }
   ],
   "source": [
    "# Check out crosswalk file\n",
    "SCHED_GCS"
   ]
  },
  {
   "cell_type": "code",
   "execution_count": 7,
   "id": "97de4170-4e9f-4087-8bc5-e0fb5e3b5d5f",
   "metadata": {},
   "outputs": [
    {
     "data": {
      "text/plain": [
       "'crosswalk/gtfs_key_organization'"
      ]
     },
     "execution_count": 7,
     "metadata": {},
     "output_type": "execute_result"
    }
   ],
   "source": [
    "GTFS_DATA_DICT.schedule_tables.gtfs_key_crosswalk"
   ]
  },
  {
   "cell_type": "code",
   "execution_count": 8,
   "id": "548c4562-cfee-46a8-b29b-632e046714b3",
   "metadata": {},
   "outputs": [],
   "source": [
    "may_crosswalk = pd.read_parquet(\"gs://calitp-analytics-data/data-analyses/gtfs_schedule/crosswalk/gtfs_key_organization_2024-05-22.parquet\")"
   ]
  },
  {
   "cell_type": "code",
   "execution_count": 9,
   "id": "dd16bcf6-79b0-4658-8248-ba94cab1fb55",
   "metadata": {},
   "outputs": [
    {
     "data": {
      "text/plain": [
       "(168, 32)"
      ]
     },
     "execution_count": 9,
     "metadata": {},
     "output_type": "execute_result"
    }
   ],
   "source": [
    "may_crosswalk.shape"
   ]
  },
  {
   "cell_type": "code",
   "execution_count": 10,
   "id": "32eac981-35ca-4d30-99e1-592b8686942f",
   "metadata": {},
   "outputs": [
    {
     "data": {
      "text/plain": [
       "Index(['schedule_gtfs_dataset_key', 'name', 'schedule_source_record_id',\n",
       "       'base64_url', 'organization_source_record_id', 'organization_name',\n",
       "       'itp_id', 'caltrans_district', 'ntd_id_2022', 'counties_served',\n",
       "       'hq_city', 'hq_county', 'is_public_entity', 'is_publicly_operating',\n",
       "       'funding_sources', 'on_demand_vehicles_at_max_service',\n",
       "       'vehicles_at_max_service', 'number_of_state_counties', 'uza_name',\n",
       "       'density', 'number_of_counties_with_service',\n",
       "       'state_admin_funds_expended', 'service_area_sq_miles', 'population',\n",
       "       'service_area_pop', 'subrecipient_type', 'primary_uza', 'reporter_type',\n",
       "       'organization_type', 'voms_pt', 'voms_do', 'year'],\n",
       "      dtype='object')"
      ]
     },
     "execution_count": 10,
     "metadata": {},
     "output_type": "execute_result"
    }
   ],
   "source": [
    "may_crosswalk.columns"
   ]
  },
  {
   "cell_type": "markdown",
   "id": "8fc7b34e-7f13-422b-a48e-8451bc63a608",
   "metadata": {},
   "source": [
    "### Stack all of the crosswalk files together and then join onto `operator_profiles`"
   ]
  },
  {
   "cell_type": "code",
   "execution_count": 11,
   "id": "8ac92e13-f5ca-4a01-9fce-0e67c1d98dc3",
   "metadata": {},
   "outputs": [],
   "source": [
    "op_profiles_url = f\"{GTFS_DATA_DICT.digest_tables.dir}{GTFS_DATA_DICT.digest_tables.operator_profiles}.parquet\""
   ]
  },
  {
   "cell_type": "code",
   "execution_count": 12,
   "id": "9dbd2785-fb91-4ec0-bb61-85d2abb76de6",
   "metadata": {},
   "outputs": [],
   "source": [
    "op_profiles_df = pd.read_parquet(op_profiles_url)"
   ]
  },
  {
   "cell_type": "code",
   "execution_count": 13,
   "id": "07c2246d-1bb0-43ca-a922-637b0f6d09c8",
   "metadata": {},
   "outputs": [
    {
     "data": {
      "text/plain": [
       "1947"
      ]
     },
     "execution_count": 13,
     "metadata": {},
     "output_type": "execute_result"
    }
   ],
   "source": [
    "len(op_profiles_df)"
   ]
  },
  {
   "cell_type": "code",
   "execution_count": 14,
   "id": "334511d8-20bb-46ab-bccf-43027daf7759",
   "metadata": {},
   "outputs": [
    {
     "name": "stdout",
     "output_type": "stream",
     "text": [
      "<class 'pandas.core.frame.DataFrame'>\n",
      "RangeIndex: 1947 entries, 0 to 1946\n",
      "Data columns (total 18 columns):\n",
      " #   Column                         Non-Null Count  Dtype         \n",
      "---  ------                         --------------  -----         \n",
      " 0   schedule_gtfs_dataset_key      1947 non-null   object        \n",
      " 1   operator_n_routes              1947 non-null   int64         \n",
      " 2   operator_n_trips               1947 non-null   int64         \n",
      " 3   operator_n_shapes              1947 non-null   int64         \n",
      " 4   operator_n_stops               1947 non-null   int64         \n",
      " 5   operator_n_arrivals            1947 non-null   int64         \n",
      " 6   operator_route_length_miles    1947 non-null   float64       \n",
      " 7   operator_arrivals_per_stop     1947 non-null   float64       \n",
      " 8   n_downtown_local_routes        1947 non-null   int64         \n",
      " 9   n_local_routes                 1947 non-null   int64         \n",
      " 10  n_coverage_routes              1947 non-null   int64         \n",
      " 11  n_rapid_routes                 1947 non-null   int64         \n",
      " 12  n_express_routes               1947 non-null   int64         \n",
      " 13  n_rail_routes                  1947 non-null   int64         \n",
      " 14  name                           1947 non-null   object        \n",
      " 15  organization_source_record_id  1947 non-null   object        \n",
      " 16  organization_name              1947 non-null   object        \n",
      " 17  service_date                   1947 non-null   datetime64[ns]\n",
      "dtypes: datetime64[ns](1), float64(2), int64(11), object(4)\n",
      "memory usage: 273.9+ KB\n"
     ]
    }
   ],
   "source": [
    "op_profiles_df.info()"
   ]
  },
  {
   "cell_type": "markdown",
   "id": "409f6718-8521-425b-97a1-8406ec39d711",
   "metadata": {},
   "source": [
    "#### Attempt to Stack"
   ]
  },
  {
   "cell_type": "code",
   "execution_count": 15,
   "id": "c904fbcc-d7a9-4d87-915d-c7043aa86f3c",
   "metadata": {
    "scrolled": true,
    "tags": []
   },
   "outputs": [
    {
     "data": {
      "text/plain": [
       "\u001b[0;31mSignature:\u001b[0m\n",
       "\u001b[0mtime_series_utils\u001b[0m\u001b[0;34m.\u001b[0m\u001b[0mconcatenate_datasets_across_dates\u001b[0m\u001b[0;34m(\u001b[0m\u001b[0;34m\u001b[0m\n",
       "\u001b[0;34m\u001b[0m    \u001b[0mgcs_bucket\u001b[0m\u001b[0;34m:\u001b[0m \u001b[0mstr\u001b[0m\u001b[0;34m,\u001b[0m\u001b[0;34m\u001b[0m\n",
       "\u001b[0;34m\u001b[0m    \u001b[0mdataset_name\u001b[0m\u001b[0;34m:\u001b[0m \u001b[0mLiteral\u001b[0m\u001b[0;34m[\u001b[0m\u001b[0;34m'speeds_route_dir_segments'\u001b[0m\u001b[0;34m,\u001b[0m \u001b[0;34m'speeds_route_dir'\u001b[0m\u001b[0;34m]\u001b[0m\u001b[0;34m,\u001b[0m\u001b[0;34m\u001b[0m\n",
       "\u001b[0;34m\u001b[0m    \u001b[0mdate_list\u001b[0m\u001b[0;34m:\u001b[0m \u001b[0mlist\u001b[0m\u001b[0;34m,\u001b[0m\u001b[0;34m\u001b[0m\n",
       "\u001b[0;34m\u001b[0m    \u001b[0mdata_type\u001b[0m\u001b[0;34m:\u001b[0m \u001b[0mLiteral\u001b[0m\u001b[0;34m[\u001b[0m\u001b[0;34m'df'\u001b[0m\u001b[0;34m,\u001b[0m \u001b[0;34m'gdf'\u001b[0m\u001b[0;34m]\u001b[0m \u001b[0;34m=\u001b[0m \u001b[0;34m'gdf'\u001b[0m\u001b[0;34m,\u001b[0m\u001b[0;34m\u001b[0m\n",
       "\u001b[0;34m\u001b[0m    \u001b[0mget_pandas\u001b[0m\u001b[0;34m:\u001b[0m \u001b[0mbool\u001b[0m \u001b[0;34m=\u001b[0m \u001b[0;32mTrue\u001b[0m\u001b[0;34m,\u001b[0m\u001b[0;34m\u001b[0m\n",
       "\u001b[0;34m\u001b[0m    \u001b[0;34m**\u001b[0m\u001b[0mkwargs\u001b[0m\u001b[0;34m,\u001b[0m\u001b[0;34m\u001b[0m\n",
       "\u001b[0;34m\u001b[0m\u001b[0;34m)\u001b[0m \u001b[0;34m->\u001b[0m \u001b[0mpandas\u001b[0m\u001b[0;34m.\u001b[0m\u001b[0mcore\u001b[0m\u001b[0;34m.\u001b[0m\u001b[0mframe\u001b[0m\u001b[0;34m.\u001b[0m\u001b[0mDataFrame\u001b[0m\u001b[0;34m\u001b[0m\u001b[0;34m\u001b[0m\u001b[0m\n",
       "\u001b[0;31mSource:\u001b[0m   \n",
       "\u001b[0;32mdef\u001b[0m \u001b[0mconcatenate_datasets_across_dates\u001b[0m\u001b[0;34m(\u001b[0m\u001b[0;34m\u001b[0m\n",
       "\u001b[0;34m\u001b[0m    \u001b[0mgcs_bucket\u001b[0m\u001b[0;34m:\u001b[0m \u001b[0mstr\u001b[0m\u001b[0;34m,\u001b[0m\u001b[0;34m\u001b[0m\n",
       "\u001b[0;34m\u001b[0m    \u001b[0mdataset_name\u001b[0m\u001b[0;34m:\u001b[0m \u001b[0mLiteral\u001b[0m\u001b[0;34m[\u001b[0m\u001b[0;34m\"speeds_route_dir_segments\"\u001b[0m\u001b[0;34m,\u001b[0m \u001b[0;34m\"speeds_route_dir\"\u001b[0m\u001b[0;34m]\u001b[0m\u001b[0;34m,\u001b[0m\u001b[0;34m\u001b[0m\n",
       "\u001b[0;34m\u001b[0m    \u001b[0mdate_list\u001b[0m\u001b[0;34m:\u001b[0m \u001b[0mlist\u001b[0m\u001b[0;34m,\u001b[0m\u001b[0;34m\u001b[0m\n",
       "\u001b[0;34m\u001b[0m    \u001b[0mdata_type\u001b[0m\u001b[0;34m:\u001b[0m \u001b[0mLiteral\u001b[0m\u001b[0;34m[\u001b[0m\u001b[0;34m\"df\"\u001b[0m\u001b[0;34m,\u001b[0m \u001b[0;34m\"gdf\"\u001b[0m\u001b[0;34m]\u001b[0m \u001b[0;34m=\u001b[0m \u001b[0;34m\"gdf\"\u001b[0m\u001b[0;34m,\u001b[0m\u001b[0;34m\u001b[0m\n",
       "\u001b[0;34m\u001b[0m    \u001b[0mget_pandas\u001b[0m\u001b[0;34m:\u001b[0m \u001b[0mbool\u001b[0m \u001b[0;34m=\u001b[0m \u001b[0;32mTrue\u001b[0m\u001b[0;34m,\u001b[0m\u001b[0;34m\u001b[0m\n",
       "\u001b[0;34m\u001b[0m    \u001b[0;34m**\u001b[0m\u001b[0mkwargs\u001b[0m\u001b[0;34m\u001b[0m\n",
       "\u001b[0;34m\u001b[0m\u001b[0;34m)\u001b[0m \u001b[0;34m->\u001b[0m \u001b[0mpd\u001b[0m\u001b[0;34m.\u001b[0m\u001b[0mDataFrame\u001b[0m\u001b[0;34m:\u001b[0m\u001b[0;34m\u001b[0m\n",
       "\u001b[0;34m\u001b[0m    \u001b[0;34m\"\"\"\u001b[0m\n",
       "\u001b[0;34m    Concatenate parquets across all months of available data.\u001b[0m\n",
       "\u001b[0;34m    \"\"\"\u001b[0m  \u001b[0;34m\u001b[0m\n",
       "\u001b[0;34m\u001b[0m    \u001b[0;32mif\u001b[0m \u001b[0mdata_type\u001b[0m \u001b[0;34m==\u001b[0m \u001b[0;34m\"gdf\"\u001b[0m\u001b[0;34m:\u001b[0m\u001b[0;34m\u001b[0m\n",
       "\u001b[0;34m\u001b[0m        \u001b[0mdfs\u001b[0m \u001b[0;34m=\u001b[0m \u001b[0;34m[\u001b[0m\u001b[0;34m\u001b[0m\n",
       "\u001b[0;34m\u001b[0m            \u001b[0mdelayed\u001b[0m\u001b[0;34m(\u001b[0m\u001b[0mgpd\u001b[0m\u001b[0;34m.\u001b[0m\u001b[0mread_parquet\u001b[0m\u001b[0;34m)\u001b[0m\u001b[0;34m(\u001b[0m\u001b[0;34m\u001b[0m\n",
       "\u001b[0;34m\u001b[0m                \u001b[0;34mf\"{gcs_bucket}{dataset_name}_{d}.parquet\"\u001b[0m\u001b[0;34m,\u001b[0m\u001b[0;34m\u001b[0m\n",
       "\u001b[0;34m\u001b[0m                \u001b[0;34m**\u001b[0m\u001b[0mkwargs\u001b[0m\u001b[0;34m\u001b[0m\n",
       "\u001b[0;34m\u001b[0m            \u001b[0;34m)\u001b[0m\u001b[0;34m.\u001b[0m\u001b[0massign\u001b[0m\u001b[0;34m(\u001b[0m\u001b[0;34m\u001b[0m\n",
       "\u001b[0;34m\u001b[0m                \u001b[0mservice_date\u001b[0m \u001b[0;34m=\u001b[0m \u001b[0mpd\u001b[0m\u001b[0;34m.\u001b[0m\u001b[0mto_datetime\u001b[0m\u001b[0;34m(\u001b[0m\u001b[0md\u001b[0m\u001b[0;34m)\u001b[0m\u001b[0;34m\u001b[0m\n",
       "\u001b[0;34m\u001b[0m            \u001b[0;34m)\u001b[0m \u001b[0;32mfor\u001b[0m \u001b[0md\u001b[0m \u001b[0;32min\u001b[0m \u001b[0mdate_list\u001b[0m\u001b[0;34m\u001b[0m\n",
       "\u001b[0;34m\u001b[0m        \u001b[0;34m]\u001b[0m\u001b[0;34m\u001b[0m\n",
       "\u001b[0;34m\u001b[0m    \u001b[0;32melse\u001b[0m\u001b[0;34m:\u001b[0m\u001b[0;34m\u001b[0m\n",
       "\u001b[0;34m\u001b[0m        \u001b[0mdfs\u001b[0m \u001b[0;34m=\u001b[0m \u001b[0;34m[\u001b[0m\u001b[0;34m\u001b[0m\n",
       "\u001b[0;34m\u001b[0m            \u001b[0mdelayed\u001b[0m\u001b[0;34m(\u001b[0m\u001b[0mpd\u001b[0m\u001b[0;34m.\u001b[0m\u001b[0mread_parquet\u001b[0m\u001b[0;34m)\u001b[0m\u001b[0;34m(\u001b[0m\u001b[0;34m\u001b[0m\n",
       "\u001b[0;34m\u001b[0m                \u001b[0;34mf\"{gcs_bucket}{dataset_name}_{d}.parquet\"\u001b[0m\u001b[0;34m,\u001b[0m\u001b[0;34m\u001b[0m\n",
       "\u001b[0;34m\u001b[0m                \u001b[0;34m**\u001b[0m\u001b[0mkwargs\u001b[0m\u001b[0;34m\u001b[0m\n",
       "\u001b[0;34m\u001b[0m            \u001b[0;34m)\u001b[0m\u001b[0;34m.\u001b[0m\u001b[0massign\u001b[0m\u001b[0;34m(\u001b[0m\u001b[0;34m\u001b[0m\n",
       "\u001b[0;34m\u001b[0m                \u001b[0mservice_date\u001b[0m \u001b[0;34m=\u001b[0m \u001b[0mpd\u001b[0m\u001b[0;34m.\u001b[0m\u001b[0mto_datetime\u001b[0m\u001b[0;34m(\u001b[0m\u001b[0md\u001b[0m\u001b[0;34m)\u001b[0m\u001b[0;34m\u001b[0m\n",
       "\u001b[0;34m\u001b[0m            \u001b[0;34m)\u001b[0m \u001b[0;32mfor\u001b[0m \u001b[0md\u001b[0m \u001b[0;32min\u001b[0m \u001b[0mdate_list\u001b[0m\u001b[0;34m\u001b[0m\n",
       "\u001b[0;34m\u001b[0m        \u001b[0;34m]\u001b[0m\u001b[0;34m\u001b[0m\n",
       "\u001b[0;34m\u001b[0m    \u001b[0;34m\u001b[0m\n",
       "\u001b[0;34m\u001b[0m    \u001b[0mdf\u001b[0m \u001b[0;34m=\u001b[0m \u001b[0mdelayed\u001b[0m\u001b[0;34m(\u001b[0m\u001b[0mpd\u001b[0m\u001b[0;34m.\u001b[0m\u001b[0mconcat\u001b[0m\u001b[0;34m)\u001b[0m\u001b[0;34m(\u001b[0m\u001b[0;34m\u001b[0m\n",
       "\u001b[0;34m\u001b[0m        \u001b[0mdfs\u001b[0m\u001b[0;34m,\u001b[0m \u001b[0maxis\u001b[0m\u001b[0;34m=\u001b[0m\u001b[0;36m0\u001b[0m\u001b[0;34m,\u001b[0m \u001b[0mignore_index\u001b[0m\u001b[0;34m=\u001b[0m\u001b[0;32mTrue\u001b[0m\u001b[0;34m\u001b[0m\n",
       "\u001b[0;34m\u001b[0m    \u001b[0;34m)\u001b[0m \u001b[0;34m\u001b[0m\n",
       "\u001b[0;34m\u001b[0m    \u001b[0;34m\u001b[0m\n",
       "\u001b[0;34m\u001b[0m    \u001b[0;32mif\u001b[0m \u001b[0mget_pandas\u001b[0m\u001b[0;34m:\u001b[0m\u001b[0;34m\u001b[0m\n",
       "\u001b[0;34m\u001b[0m        \u001b[0mdf\u001b[0m \u001b[0;34m=\u001b[0m \u001b[0mcompute\u001b[0m\u001b[0;34m(\u001b[0m\u001b[0mdf\u001b[0m\u001b[0;34m)\u001b[0m\u001b[0;34m[\u001b[0m\u001b[0;36m0\u001b[0m\u001b[0;34m]\u001b[0m    \u001b[0;34m\u001b[0m\n",
       "\u001b[0;34m\u001b[0m    \u001b[0;34m\u001b[0m\n",
       "\u001b[0;34m\u001b[0m    \u001b[0;32mreturn\u001b[0m \u001b[0mdf\u001b[0m\u001b[0;34m\u001b[0m\u001b[0;34m\u001b[0m\u001b[0m\n",
       "\u001b[0;31mFile:\u001b[0m      ~/data-analyses/rt_segment_speeds/segment_speed_utils/time_series_utils.py\n",
       "\u001b[0;31mType:\u001b[0m      function"
      ]
     },
     "metadata": {},
     "output_type": "display_data"
    }
   ],
   "source": [
    "time_series_utils.concatenate_datasets_across_dates??"
   ]
  },
  {
   "cell_type": "code",
   "execution_count": 16,
   "id": "63fdb42d-cd62-46d2-b846-67b3673d10a3",
   "metadata": {},
   "outputs": [],
   "source": [
    "all_dates = (rt_dates.y2024_dates + rt_dates.y2023_dates + \n",
    "             rt_dates.oct2023_week + rt_dates.apr2023_week + \n",
    "             rt_dates.apr2024_week\n",
    "            )"
   ]
  },
  {
   "cell_type": "code",
   "execution_count": 17,
   "id": "fc5b011d-deda-47c7-904b-760b13a992d3",
   "metadata": {},
   "outputs": [
    {
     "data": {
      "text/plain": [
       "'gs://calitp-analytics-data/data-analyses/gtfs_schedule/'"
      ]
     },
     "execution_count": 17,
     "metadata": {},
     "output_type": "execute_result"
    }
   ],
   "source": [
    "SCHED_GCS"
   ]
  },
  {
   "cell_type": "code",
   "execution_count": 18,
   "id": "e9c49715-3001-4731-bb7a-7697836f7e41",
   "metadata": {},
   "outputs": [],
   "source": [
    "FILE = GTFS_DATA_DICT.schedule_tables.gtfs_key_crosswalk"
   ]
  },
  {
   "cell_type": "code",
   "execution_count": 19,
   "id": "cd5508f7-e11a-4094-8216-b51a55d1d6f5",
   "metadata": {},
   "outputs": [],
   "source": [
    "ntd_cols = [\n",
    "        \"schedule_gtfs_dataset_key\",\n",
    "        \"counties_served\",\n",
    "        \"service_area_sq_miles\",\n",
    "        \"hq_city\",\n",
    "        \"uza_name\",\n",
    "        \"service_area_pop\",\n",
    "        \"organization_type\",\n",
    "        \"primary_uza\",\n",
    "        \"reporter_type\"\n",
    "    ]"
   ]
  },
  {
   "cell_type": "code",
   "execution_count": 20,
   "id": "42aaaf3f-f1b0-42d8-854e-28bf3f36e7ef",
   "metadata": {},
   "outputs": [],
   "source": [
    "crossalk_all_dates = (\n",
    "        time_series_utils.concatenate_datasets_across_dates(\n",
    "            SCHED_GCS,\n",
    "            FILE,\n",
    "            all_dates,\n",
    "            data_type=\"df\",\n",
    "            columns=ntd_cols\n",
    "        )\n",
    "        .sort_values([\"service_date\"])\n",
    "        .reset_index(drop=True)\n",
    "    )"
   ]
  },
  {
   "cell_type": "code",
   "execution_count": 21,
   "id": "09bfe5b3-7357-4e9e-b244-27b8f5f20638",
   "metadata": {},
   "outputs": [
    {
     "data": {
      "text/plain": [
       "(6090, 10)"
      ]
     },
     "execution_count": 21,
     "metadata": {},
     "output_type": "execute_result"
    }
   ],
   "source": [
    "crossalk_all_dates.shape"
   ]
  },
  {
   "cell_type": "code",
   "execution_count": 22,
   "id": "94e56970-58a1-474c-8ce0-af74f41243ec",
   "metadata": {},
   "outputs": [
    {
     "data": {
      "text/html": [
       "<div>\n",
       "<style scoped>\n",
       "    .dataframe tbody tr th:only-of-type {\n",
       "        vertical-align: middle;\n",
       "    }\n",
       "\n",
       "    .dataframe tbody tr th {\n",
       "        vertical-align: top;\n",
       "    }\n",
       "\n",
       "    .dataframe thead th {\n",
       "        text-align: right;\n",
       "    }\n",
       "</style>\n",
       "<table border=\"1\" class=\"dataframe\">\n",
       "  <thead>\n",
       "    <tr style=\"text-align: right;\">\n",
       "      <th></th>\n",
       "      <th>schedule_gtfs_dataset_key</th>\n",
       "      <th>counties_served</th>\n",
       "      <th>service_area_sq_miles</th>\n",
       "      <th>hq_city</th>\n",
       "      <th>uza_name</th>\n",
       "      <th>service_area_pop</th>\n",
       "      <th>organization_type</th>\n",
       "      <th>primary_uza</th>\n",
       "      <th>reporter_type</th>\n",
       "      <th>service_date</th>\n",
       "    </tr>\n",
       "  </thead>\n",
       "  <tbody>\n",
       "    <tr>\n",
       "      <th>0</th>\n",
       "      <td>9b4c9cf681dfcc10dffe9523b43598bf</td>\n",
       "      <td>San Mateo</td>\n",
       "      <td>425.00</td>\n",
       "      <td>San Carlos</td>\n",
       "      <td>San Francisco--Oakland, CA</td>\n",
       "      <td>3632769.00</td>\n",
       "      <td>Public Agency or Authority of Transit Service</td>\n",
       "      <td>None</td>\n",
       "      <td>Full Reporter</td>\n",
       "      <td>2023-03-15</td>\n",
       "    </tr>\n",
       "  </tbody>\n",
       "</table>\n",
       "</div>"
      ],
      "text/plain": [
       "          schedule_gtfs_dataset_key counties_served  service_area_sq_miles  \\\n",
       "0  9b4c9cf681dfcc10dffe9523b43598bf       San Mateo                 425.00   \n",
       "\n",
       "      hq_city                    uza_name  service_area_pop  \\\n",
       "0  San Carlos  San Francisco--Oakland, CA        3632769.00   \n",
       "\n",
       "                               organization_type primary_uza  reporter_type  \\\n",
       "0  Public Agency or Authority of Transit Service        None  Full Reporter   \n",
       "\n",
       "  service_date  \n",
       "0   2023-03-15  "
      ]
     },
     "execution_count": 22,
     "metadata": {},
     "output_type": "execute_result"
    }
   ],
   "source": [
    "crossalk_all_dates.head(1)"
   ]
  },
  {
   "cell_type": "code",
   "execution_count": 23,
   "id": "5c32afbd-1115-4a06-9401-b618fda73c8e",
   "metadata": {},
   "outputs": [
    {
     "data": {
      "text/plain": [
       "34"
      ]
     },
     "execution_count": 23,
     "metadata": {},
     "output_type": "execute_result"
    }
   ],
   "source": [
    "crossalk_all_dates.service_date.nunique()"
   ]
  },
  {
   "cell_type": "code",
   "execution_count": 24,
   "id": "2a35a7e5-a3bb-49b0-973f-8168ba75ad53",
   "metadata": {},
   "outputs": [
    {
     "data": {
      "text/plain": [
       "array(['2023-03-15T00:00:00.000000000', '2023-04-10T00:00:00.000000000',\n",
       "       '2023-04-11T00:00:00.000000000', '2023-04-12T00:00:00.000000000',\n",
       "       '2023-04-13T00:00:00.000000000', '2023-04-14T00:00:00.000000000',\n",
       "       '2023-04-15T00:00:00.000000000', '2023-04-16T00:00:00.000000000',\n",
       "       '2023-05-17T00:00:00.000000000', '2023-06-14T00:00:00.000000000',\n",
       "       '2023-07-12T00:00:00.000000000', '2023-08-15T00:00:00.000000000',\n",
       "       '2023-09-13T00:00:00.000000000', '2023-10-09T00:00:00.000000000',\n",
       "       '2023-10-10T00:00:00.000000000', '2023-10-11T00:00:00.000000000',\n",
       "       '2023-10-12T00:00:00.000000000', '2023-10-13T00:00:00.000000000',\n",
       "       '2023-10-14T00:00:00.000000000', '2023-10-15T00:00:00.000000000',\n",
       "       '2023-11-15T00:00:00.000000000', '2023-12-13T00:00:00.000000000',\n",
       "       '2024-01-17T00:00:00.000000000', '2024-02-14T00:00:00.000000000',\n",
       "       '2024-03-13T00:00:00.000000000', '2024-04-15T00:00:00.000000000',\n",
       "       '2024-04-16T00:00:00.000000000', '2024-04-17T00:00:00.000000000',\n",
       "       '2024-04-18T00:00:00.000000000', '2024-04-19T00:00:00.000000000',\n",
       "       '2024-04-20T00:00:00.000000000', '2024-04-21T00:00:00.000000000',\n",
       "       '2024-05-22T00:00:00.000000000', '2024-06-12T00:00:00.000000000'],\n",
       "      dtype='datetime64[ns]')"
      ]
     },
     "execution_count": 24,
     "metadata": {},
     "output_type": "execute_result"
    }
   ],
   "source": [
    "crossalk_all_dates.service_date.unique()"
   ]
  },
  {
   "cell_type": "markdown",
   "id": "8f745bde-5a84-4039-ae80-eba0da8c8233",
   "metadata": {},
   "source": [
    "### Merge\n",
    "* Why do the merged dfs become so huge??"
   ]
  },
  {
   "cell_type": "code",
   "execution_count": 25,
   "id": "1527aa58-ccdf-442b-be6e-20f61119a9b2",
   "metadata": {},
   "outputs": [],
   "source": [
    "op_profiles_df1 = pd.merge(op_profiles_df, crossalk_all_dates, on = [\"schedule_gtfs_dataset_key\"], how = \"left\")"
   ]
  },
  {
   "cell_type": "code",
   "execution_count": 26,
   "id": "76e8b044-7141-462b-bfa5-830a122adec8",
   "metadata": {},
   "outputs": [
    {
     "data": {
      "text/plain": [
       "(53633, 27)"
      ]
     },
     "execution_count": 26,
     "metadata": {},
     "output_type": "execute_result"
    }
   ],
   "source": [
    "op_profiles_df1.shape"
   ]
  },
  {
   "cell_type": "code",
   "execution_count": 27,
   "id": "8d8c8d91-0c77-4bf6-926a-0ba4941fffb0",
   "metadata": {},
   "outputs": [],
   "source": [
    "op_profiles_df2 = pd.merge(op_profiles_df, crossalk_all_dates, on = [\"schedule_gtfs_dataset_key\", \"service_date\"], how = \"left\")"
   ]
  },
  {
   "cell_type": "code",
   "execution_count": 28,
   "id": "af6d339d-f66f-4275-a526-a1177f777467",
   "metadata": {},
   "outputs": [
    {
     "data": {
      "text/plain": [
       "(2363, 26)"
      ]
     },
     "execution_count": 28,
     "metadata": {},
     "output_type": "execute_result"
    }
   ],
   "source": [
    "op_profiles_df2.shape"
   ]
  },
  {
   "cell_type": "code",
   "execution_count": 29,
   "id": "810553fb-d428-4258-b6bc-e9515b3fe942",
   "metadata": {},
   "outputs": [
    {
     "data": {
      "text/plain": [
       "62b3c362d08fa3a771a7b7b2002c8a16    17\n",
       "eaabdf2b0bb899b7953ea81047fdd00d    17\n",
       "50c7a90344fdafe80e22b628e9739eba    17\n",
       "e359e3617344263ad00858db2149a288    17\n",
       "e524db270831632bdcf71df1d7e74d25    17\n",
       "4e2936d8f27a9bca79289ec062a1691a    17\n",
       "4be4d02062a1a82dae5c039092ee8541    17\n",
       "4b59b468244e0d5139d91fc698acc9d6    17\n",
       "e681c3a8dafa2c80e5b8e2cdd01f917a    17\n",
       "e8d0fd2f1c4b13707a24909a0f206271    17\n",
       "Name: schedule_gtfs_dataset_key, dtype: int64"
      ]
     },
     "execution_count": 29,
     "metadata": {},
     "output_type": "execute_result"
    }
   ],
   "source": [
    "op_profiles_df2.schedule_gtfs_dataset_key.value_counts().head(10)"
   ]
  },
  {
   "cell_type": "code",
   "execution_count": 30,
   "id": "c97927b2-043c-4b96-ad12-9a80ea824c1b",
   "metadata": {},
   "outputs": [
    {
     "data": {
      "text/plain": [
       "63029a23cb0e73f2a5d98a345c5e2e40    14\n",
       "e681c3a8dafa2c80e5b8e2cdd01f917a    14\n",
       "55a01ef72af21906934ae8ffb4786e86    14\n",
       "5456c80d420043e15c8eb7368a8a4d89    14\n",
       "50c7a90344fdafe80e22b628e9739eba    14\n",
       "Name: schedule_gtfs_dataset_key, dtype: int64"
      ]
     },
     "execution_count": 30,
     "metadata": {},
     "output_type": "execute_result"
    }
   ],
   "source": [
    "op_profiles_df.schedule_gtfs_dataset_key.value_counts().head()"
   ]
  },
  {
   "cell_type": "code",
   "execution_count": 31,
   "id": "ff7c26aa-15fa-4ecc-9ecf-da29f46487fd",
   "metadata": {},
   "outputs": [
    {
     "data": {
      "text/plain": [
       "count   260.00\n",
       "mean      7.49\n",
       "std       5.03\n",
       "min       1.00\n",
       "25%       2.00\n",
       "50%       7.00\n",
       "75%      13.00\n",
       "max      14.00\n",
       "Name: schedule_gtfs_dataset_key, dtype: float64"
      ]
     },
     "execution_count": 31,
     "metadata": {},
     "output_type": "execute_result"
    }
   ],
   "source": [
    "op_profiles_df.schedule_gtfs_dataset_key.value_counts().describe()"
   ]
  },
  {
   "cell_type": "code",
   "execution_count": 44,
   "id": "067f0439-9400-4af2-aba1-f7bc8cc64df2",
   "metadata": {
    "scrolled": true,
    "tags": []
   },
   "outputs": [],
   "source": [
    "# op_profiles_df2.loc[op_profiles_df2.schedule_gtfs_dataset_key == \"e359e3617344263ad00858db2149a288\"]"
   ]
  },
  {
   "cell_type": "code",
   "execution_count": 43,
   "id": "e404c7f9-6476-40e4-84f4-32e82a6ede2d",
   "metadata": {
    "scrolled": true,
    "tags": []
   },
   "outputs": [],
   "source": [
    "# op_profiles_df2.loc[op_profiles_df2.schedule_gtfs_dataset_key == \"e8d0fd2f1c4b13707a24909a0f206271\"]"
   ]
  },
  {
   "cell_type": "code",
   "execution_count": 34,
   "id": "f6812d46-5ee9-4850-a9b2-292843bb5f7b",
   "metadata": {},
   "outputs": [
    {
     "data": {
      "text/plain": [
       "1947"
      ]
     },
     "execution_count": 34,
     "metadata": {},
     "output_type": "execute_result"
    }
   ],
   "source": [
    "len(op_profiles_df2.drop_duplicates(subset = [\"schedule_gtfs_dataset_key\", \"service_date\"]))"
   ]
  },
  {
   "cell_type": "code",
   "execution_count": 35,
   "id": "17fea5fa-f591-4bb4-a460-302bb3179be3",
   "metadata": {},
   "outputs": [
    {
     "data": {
      "text/plain": [
       "1947"
      ]
     },
     "execution_count": 35,
     "metadata": {},
     "output_type": "execute_result"
    }
   ],
   "source": [
    "len(op_profiles_df2.drop_duplicates(subset = list(op_profiles_df2.columns)))"
   ]
  },
  {
   "cell_type": "code",
   "execution_count": 36,
   "id": "bd357084-43c4-40b8-80a9-baa035dda4b9",
   "metadata": {},
   "outputs": [],
   "source": [
    "op_profiles_df3 = op_profiles_df2.drop_duplicates(subset = [\"schedule_gtfs_dataset_key\", \"service_date\"])"
   ]
  },
  {
   "cell_type": "code",
   "execution_count": 42,
   "id": "27f63527-623d-47a1-a01b-74e0919fa8f4",
   "metadata": {
    "scrolled": true,
    "tags": []
   },
   "outputs": [],
   "source": [
    "# op_profiles_df3.loc[op_profiles_df3.schedule_gtfs_dataset_key == \"e8d0fd2f1c4b13707a24909a0f206271\"]"
   ]
  },
  {
   "cell_type": "code",
   "execution_count": 38,
   "id": "29326b1b-cb98-4be0-abbc-902d29774757",
   "metadata": {},
   "outputs": [
    {
     "data": {
      "text/plain": [
       "(1947, 18)"
      ]
     },
     "execution_count": 38,
     "metadata": {},
     "output_type": "execute_result"
    }
   ],
   "source": [
    "op_profiles_df.shape"
   ]
  },
  {
   "cell_type": "code",
   "execution_count": 39,
   "id": "0aefdf55-5051-4a65-a9d3-bb0f94d2f026",
   "metadata": {},
   "outputs": [
    {
     "data": {
      "text/plain": [
       "14"
      ]
     },
     "execution_count": 39,
     "metadata": {},
     "output_type": "execute_result"
    }
   ],
   "source": [
    "op_profiles_df.service_date.nunique()"
   ]
  },
  {
   "cell_type": "code",
   "execution_count": 40,
   "id": "d1eb7cdb-cdd1-4605-839f-59d98a84e1af",
   "metadata": {},
   "outputs": [
    {
     "data": {
      "text/html": [
       "<div>\n",
       "<style scoped>\n",
       "    .dataframe tbody tr th:only-of-type {\n",
       "        vertical-align: middle;\n",
       "    }\n",
       "\n",
       "    .dataframe tbody tr th {\n",
       "        vertical-align: top;\n",
       "    }\n",
       "\n",
       "    .dataframe thead th {\n",
       "        text-align: right;\n",
       "    }\n",
       "</style>\n",
       "<table border=\"1\" class=\"dataframe\">\n",
       "  <thead>\n",
       "    <tr style=\"text-align: right;\">\n",
       "      <th></th>\n",
       "      <th>schedule_gtfs_dataset_key</th>\n",
       "      <th>operator_n_routes</th>\n",
       "      <th>operator_n_trips</th>\n",
       "      <th>operator_n_shapes</th>\n",
       "      <th>operator_n_stops</th>\n",
       "      <th>operator_n_arrivals</th>\n",
       "      <th>operator_route_length_miles</th>\n",
       "      <th>operator_arrivals_per_stop</th>\n",
       "      <th>n_downtown_local_routes</th>\n",
       "      <th>n_local_routes</th>\n",
       "      <th>n_coverage_routes</th>\n",
       "      <th>n_rapid_routes</th>\n",
       "      <th>n_express_routes</th>\n",
       "      <th>n_rail_routes</th>\n",
       "      <th>name</th>\n",
       "      <th>organization_source_record_id</th>\n",
       "      <th>organization_name</th>\n",
       "      <th>service_date</th>\n",
       "    </tr>\n",
       "  </thead>\n",
       "  <tbody>\n",
       "    <tr>\n",
       "      <th>0</th>\n",
       "      <td>014d0998350083249a9eb310635548c2</td>\n",
       "      <td>8</td>\n",
       "      <td>137</td>\n",
       "      <td>8</td>\n",
       "      <td>159</td>\n",
       "      <td>3771</td>\n",
       "      <td>79.50</td>\n",
       "      <td>23.72</td>\n",
       "      <td>2</td>\n",
       "      <td>0</td>\n",
       "      <td>6</td>\n",
       "      <td>8</td>\n",
       "      <td>0</td>\n",
       "      <td>0</td>\n",
       "      <td>SLO Schedule</td>\n",
       "      <td>reciakGBN1DP9dK9N</td>\n",
       "      <td>San Luis Obispo Regional Transit Authority</td>\n",
       "      <td>2023-10-11</td>\n",
       "    </tr>\n",
       "  </tbody>\n",
       "</table>\n",
       "</div>"
      ],
      "text/plain": [
       "          schedule_gtfs_dataset_key  operator_n_routes  operator_n_trips  \\\n",
       "0  014d0998350083249a9eb310635548c2                  8               137   \n",
       "\n",
       "   operator_n_shapes  operator_n_stops  operator_n_arrivals  \\\n",
       "0                  8               159                 3771   \n",
       "\n",
       "   operator_route_length_miles  operator_arrivals_per_stop  \\\n",
       "0                        79.50                       23.72   \n",
       "\n",
       "   n_downtown_local_routes  n_local_routes  n_coverage_routes  n_rapid_routes  \\\n",
       "0                        2               0                  6               8   \n",
       "\n",
       "   n_express_routes  n_rail_routes          name  \\\n",
       "0                 0              0  SLO Schedule   \n",
       "\n",
       "  organization_source_record_id                           organization_name  \\\n",
       "0             reciakGBN1DP9dK9N  San Luis Obispo Regional Transit Authority   \n",
       "\n",
       "  service_date  \n",
       "0   2023-10-11  "
      ]
     },
     "execution_count": 40,
     "metadata": {},
     "output_type": "execute_result"
    }
   ],
   "source": [
    "op_profiles_df.head(1)"
   ]
  },
  {
   "cell_type": "code",
   "execution_count": 41,
   "id": "de8c8eac-468f-467b-9146-5f87484186fd",
   "metadata": {},
   "outputs": [
    {
     "data": {
      "text/html": [
       "<div>\n",
       "<style scoped>\n",
       "    .dataframe tbody tr th:only-of-type {\n",
       "        vertical-align: middle;\n",
       "    }\n",
       "\n",
       "    .dataframe tbody tr th {\n",
       "        vertical-align: top;\n",
       "    }\n",
       "\n",
       "    .dataframe thead th {\n",
       "        text-align: right;\n",
       "    }\n",
       "</style>\n",
       "<table border=\"1\" class=\"dataframe\">\n",
       "  <thead>\n",
       "    <tr style=\"text-align: right;\">\n",
       "      <th></th>\n",
       "      <th>schedule_gtfs_dataset_key</th>\n",
       "      <th>counties_served</th>\n",
       "      <th>service_area_sq_miles</th>\n",
       "      <th>hq_city</th>\n",
       "      <th>uza_name</th>\n",
       "      <th>service_area_pop</th>\n",
       "      <th>organization_type</th>\n",
       "      <th>primary_uza</th>\n",
       "      <th>reporter_type</th>\n",
       "      <th>service_date</th>\n",
       "    </tr>\n",
       "  </thead>\n",
       "  <tbody>\n",
       "    <tr>\n",
       "      <th>0</th>\n",
       "      <td>9b4c9cf681dfcc10dffe9523b43598bf</td>\n",
       "      <td>San Mateo</td>\n",
       "      <td>425.00</td>\n",
       "      <td>San Carlos</td>\n",
       "      <td>San Francisco--Oakland, CA</td>\n",
       "      <td>3632769.00</td>\n",
       "      <td>Public Agency or Authority of Transit Service</td>\n",
       "      <td>None</td>\n",
       "      <td>Full Reporter</td>\n",
       "      <td>2023-03-15</td>\n",
       "    </tr>\n",
       "  </tbody>\n",
       "</table>\n",
       "</div>"
      ],
      "text/plain": [
       "          schedule_gtfs_dataset_key counties_served  service_area_sq_miles  \\\n",
       "0  9b4c9cf681dfcc10dffe9523b43598bf       San Mateo                 425.00   \n",
       "\n",
       "      hq_city                    uza_name  service_area_pop  \\\n",
       "0  San Carlos  San Francisco--Oakland, CA        3632769.00   \n",
       "\n",
       "                               organization_type primary_uza  reporter_type  \\\n",
       "0  Public Agency or Authority of Transit Service        None  Full Reporter   \n",
       "\n",
       "  service_date  \n",
       "0   2023-03-15  "
      ]
     },
     "execution_count": 41,
     "metadata": {},
     "output_type": "execute_result"
    }
   ],
   "source": [
    "crossalk_all_dates.head(1)"
   ]
  },
  {
   "cell_type": "markdown",
   "id": "4e8809e1-e52e-45a3-a99f-89e708e152c0",
   "metadata": {},
   "source": [
    "#### Check out export file in `gtfs_digest_dataset`"
   ]
  },
  {
   "cell_type": "code",
   "execution_count": 46,
   "id": "e24180a1-148e-489c-aa96-e8252f702598",
   "metadata": {},
   "outputs": [],
   "source": [
    "OP_PROFILE_EXPORT = f\"{GTFS_DATA_DICT.digest_tables.dir}{GTFS_DATA_DICT.digest_tables.operator_profile_portfolio_view}.parquet\""
   ]
  },
  {
   "cell_type": "code",
   "execution_count": 47,
   "id": "4acbb04f-1cca-4ae7-968b-c23b596826d9",
   "metadata": {},
   "outputs": [
    {
     "data": {
      "text/plain": [
       "'gs://calitp-analytics-data/data-analyses/rt_vs_schedule/digest/operator_profile_portfolio_view.parquet'"
      ]
     },
     "execution_count": 47,
     "metadata": {},
     "output_type": "execute_result"
    }
   ],
   "source": [
    "OP_PROFILE_EXPORT"
   ]
  },
  {
   "cell_type": "code",
   "execution_count": 48,
   "id": "85ce8110-3918-4197-baed-23341089d6fc",
   "metadata": {},
   "outputs": [],
   "source": [
    "operator_file = pd.read_parquet(OP_PROFILE_EXPORT)"
   ]
  },
  {
   "cell_type": "code",
   "execution_count": 49,
   "id": "1e3e9b4e-181d-4ba0-ad91-7e3f4613ec5c",
   "metadata": {},
   "outputs": [
    {
     "data": {
      "text/plain": [
       "(1947, 26)"
      ]
     },
     "execution_count": 49,
     "metadata": {},
     "output_type": "execute_result"
    }
   ],
   "source": [
    "operator_file.shape"
   ]
  },
  {
   "cell_type": "code",
   "execution_count": 50,
   "id": "6f29177a-056e-4b1f-91b9-2f6fa7c89a04",
   "metadata": {},
   "outputs": [
    {
     "data": {
      "text/html": [
       "<div>\n",
       "<style scoped>\n",
       "    .dataframe tbody tr th:only-of-type {\n",
       "        vertical-align: middle;\n",
       "    }\n",
       "\n",
       "    .dataframe tbody tr th {\n",
       "        vertical-align: top;\n",
       "    }\n",
       "\n",
       "    .dataframe thead th {\n",
       "        text-align: right;\n",
       "    }\n",
       "</style>\n",
       "<table border=\"1\" class=\"dataframe\">\n",
       "  <thead>\n",
       "    <tr style=\"text-align: right;\">\n",
       "      <th></th>\n",
       "      <th>schedule_gtfs_dataset_key</th>\n",
       "      <th>operator_n_routes</th>\n",
       "      <th>operator_n_trips</th>\n",
       "      <th>operator_n_shapes</th>\n",
       "      <th>operator_n_stops</th>\n",
       "      <th>operator_n_arrivals</th>\n",
       "      <th>operator_route_length_miles</th>\n",
       "      <th>operator_arrivals_per_stop</th>\n",
       "      <th>n_downtown_local_routes</th>\n",
       "      <th>n_local_routes</th>\n",
       "      <th>n_coverage_routes</th>\n",
       "      <th>n_rapid_routes</th>\n",
       "      <th>n_express_routes</th>\n",
       "      <th>n_rail_routes</th>\n",
       "      <th>name</th>\n",
       "      <th>organization_source_record_id</th>\n",
       "      <th>organization_name</th>\n",
       "      <th>service_date</th>\n",
       "      <th>counties_served</th>\n",
       "      <th>service_area_sq_miles</th>\n",
       "      <th>hq_city</th>\n",
       "      <th>uza_name</th>\n",
       "      <th>service_area_pop</th>\n",
       "      <th>organization_type</th>\n",
       "      <th>primary_uza</th>\n",
       "      <th>reporter_type</th>\n",
       "    </tr>\n",
       "  </thead>\n",
       "  <tbody>\n",
       "    <tr>\n",
       "      <th>0</th>\n",
       "      <td>014d0998350083249a9eb310635548c2</td>\n",
       "      <td>8</td>\n",
       "      <td>137</td>\n",
       "      <td>8</td>\n",
       "      <td>159</td>\n",
       "      <td>3771</td>\n",
       "      <td>79.50</td>\n",
       "      <td>23.72</td>\n",
       "      <td>2</td>\n",
       "      <td>0</td>\n",
       "      <td>6</td>\n",
       "      <td>8</td>\n",
       "      <td>0</td>\n",
       "      <td>0</td>\n",
       "      <td>SLO Schedule</td>\n",
       "      <td>reciakGBN1DP9dK9N</td>\n",
       "      <td>San Luis Obispo Regional Transit Authority</td>\n",
       "      <td>2023-10-11</td>\n",
       "      <td>San Luis Obispo</td>\n",
       "      <td>130.00</td>\n",
       "      <td>San Luis Obispo</td>\n",
       "      <td>San Luis Obispo, CA</td>\n",
       "      <td>206008.00</td>\n",
       "      <td>Public Agency or Authority of Transit Service</td>\n",
       "      <td>None</td>\n",
       "      <td>Full Reporter</td>\n",
       "    </tr>\n",
       "    <tr>\n",
       "      <th>1</th>\n",
       "      <td>014d0998350083249a9eb310635548c2</td>\n",
       "      <td>9</td>\n",
       "      <td>139</td>\n",
       "      <td>10</td>\n",
       "      <td>159</td>\n",
       "      <td>3803</td>\n",
       "      <td>85.88</td>\n",
       "      <td>23.92</td>\n",
       "      <td>2</td>\n",
       "      <td>0</td>\n",
       "      <td>8</td>\n",
       "      <td>10</td>\n",
       "      <td>0</td>\n",
       "      <td>0</td>\n",
       "      <td>SLO Schedule</td>\n",
       "      <td>reciakGBN1DP9dK9N</td>\n",
       "      <td>San Luis Obispo Regional Transit Authority</td>\n",
       "      <td>2023-11-15</td>\n",
       "      <td>San Luis Obispo</td>\n",
       "      <td>130.00</td>\n",
       "      <td>San Luis Obispo</td>\n",
       "      <td>San Luis Obispo, CA</td>\n",
       "      <td>206008.00</td>\n",
       "      <td>Public Agency or Authority of Transit Service</td>\n",
       "      <td>None</td>\n",
       "      <td>Full Reporter</td>\n",
       "    </tr>\n",
       "  </tbody>\n",
       "</table>\n",
       "</div>"
      ],
      "text/plain": [
       "          schedule_gtfs_dataset_key  operator_n_routes  operator_n_trips  \\\n",
       "0  014d0998350083249a9eb310635548c2                  8               137   \n",
       "1  014d0998350083249a9eb310635548c2                  9               139   \n",
       "\n",
       "   operator_n_shapes  operator_n_stops  operator_n_arrivals  \\\n",
       "0                  8               159                 3771   \n",
       "1                 10               159                 3803   \n",
       "\n",
       "   operator_route_length_miles  operator_arrivals_per_stop  \\\n",
       "0                        79.50                       23.72   \n",
       "1                        85.88                       23.92   \n",
       "\n",
       "   n_downtown_local_routes  n_local_routes  n_coverage_routes  n_rapid_routes  \\\n",
       "0                        2               0                  6               8   \n",
       "1                        2               0                  8              10   \n",
       "\n",
       "   n_express_routes  n_rail_routes          name  \\\n",
       "0                 0              0  SLO Schedule   \n",
       "1                 0              0  SLO Schedule   \n",
       "\n",
       "  organization_source_record_id                           organization_name  \\\n",
       "0             reciakGBN1DP9dK9N  San Luis Obispo Regional Transit Authority   \n",
       "1             reciakGBN1DP9dK9N  San Luis Obispo Regional Transit Authority   \n",
       "\n",
       "  service_date  counties_served  service_area_sq_miles          hq_city  \\\n",
       "0   2023-10-11  San Luis Obispo                 130.00  San Luis Obispo   \n",
       "1   2023-11-15  San Luis Obispo                 130.00  San Luis Obispo   \n",
       "\n",
       "              uza_name  service_area_pop  \\\n",
       "0  San Luis Obispo, CA         206008.00   \n",
       "1  San Luis Obispo, CA         206008.00   \n",
       "\n",
       "                               organization_type primary_uza  reporter_type  \n",
       "0  Public Agency or Authority of Transit Service        None  Full Reporter  \n",
       "1  Public Agency or Authority of Transit Service        None  Full Reporter  "
      ]
     },
     "execution_count": 50,
     "metadata": {},
     "output_type": "execute_result"
    }
   ],
   "source": [
    "operator_file.head(2)"
   ]
  },
  {
   "cell_type": "code",
   "execution_count": 51,
   "id": "e511295e-7886-4372-ab48-68f4750680db",
   "metadata": {},
   "outputs": [
    {
     "name": "stdout",
     "output_type": "stream",
     "text": [
      "<class 'pandas.core.frame.DataFrame'>\n",
      "RangeIndex: 1947 entries, 0 to 1946\n",
      "Data columns (total 26 columns):\n",
      " #   Column                         Non-Null Count  Dtype         \n",
      "---  ------                         --------------  -----         \n",
      " 0   schedule_gtfs_dataset_key      1947 non-null   object        \n",
      " 1   operator_n_routes              1947 non-null   int64         \n",
      " 2   operator_n_trips               1947 non-null   int64         \n",
      " 3   operator_n_shapes              1947 non-null   int64         \n",
      " 4   operator_n_stops               1947 non-null   int64         \n",
      " 5   operator_n_arrivals            1947 non-null   int64         \n",
      " 6   operator_route_length_miles    1947 non-null   float64       \n",
      " 7   operator_arrivals_per_stop     1947 non-null   float64       \n",
      " 8   n_downtown_local_routes        1947 non-null   int64         \n",
      " 9   n_local_routes                 1947 non-null   int64         \n",
      " 10  n_coverage_routes              1947 non-null   int64         \n",
      " 11  n_rapid_routes                 1947 non-null   int64         \n",
      " 12  n_express_routes               1947 non-null   int64         \n",
      " 13  n_rail_routes                  1947 non-null   int64         \n",
      " 14  name                           1947 non-null   object        \n",
      " 15  organization_source_record_id  1947 non-null   object        \n",
      " 16  organization_name              1947 non-null   object        \n",
      " 17  service_date                   1947 non-null   datetime64[ns]\n",
      " 18  counties_served                1176 non-null   object        \n",
      " 19  service_area_sq_miles          1170 non-null   float64       \n",
      " 20  hq_city                        1576 non-null   object        \n",
      " 21  uza_name                       1217 non-null   object        \n",
      " 22  service_area_pop               1170 non-null   float64       \n",
      " 23  organization_type              1590 non-null   object        \n",
      " 24  primary_uza                    0 non-null      object        \n",
      " 25  reporter_type                  1590 non-null   object        \n",
      "dtypes: datetime64[ns](1), float64(4), int64(11), object(10)\n",
      "memory usage: 395.6+ KB\n"
     ]
    }
   ],
   "source": [
    "operator_file.info()"
   ]
  },
  {
   "cell_type": "markdown",
   "id": "081035be-26e7-44b0-955c-3353303d999d",
   "metadata": {},
   "source": [
    "#### Make sure `section_1.load_operator_ntd_profile()` works perfectly"
   ]
  },
  {
   "cell_type": "code",
   "execution_count": 52,
   "id": "dfddd795-67d3-4ede-92bc-0b3afafc8ff9",
   "metadata": {},
   "outputs": [],
   "source": [
    "import _section1_utils"
   ]
  },
  {
   "cell_type": "code",
   "execution_count": 53,
   "id": "2c841508-7d2a-41bb-9aed-6fe3cb534e7a",
   "metadata": {},
   "outputs": [],
   "source": [
    "organization_name = \"City and County of San Francisco\""
   ]
  },
  {
   "cell_type": "code",
   "execution_count": 54,
   "id": "104f28cb-faef-48fa-a61b-470a1d85936f",
   "metadata": {},
   "outputs": [],
   "source": [
    "sf = _section1_utils.load_operator_ntd_profile(organization_name)"
   ]
  },
  {
   "cell_type": "code",
   "execution_count": 55,
   "id": "70112b9f-0d0e-43da-9a4a-90a10b9b2adf",
   "metadata": {},
   "outputs": [
    {
     "data": {
      "text/html": [
       "<div>\n",
       "<style scoped>\n",
       "    .dataframe tbody tr th:only-of-type {\n",
       "        vertical-align: middle;\n",
       "    }\n",
       "\n",
       "    .dataframe tbody tr th {\n",
       "        vertical-align: top;\n",
       "    }\n",
       "\n",
       "    .dataframe thead th {\n",
       "        text-align: right;\n",
       "    }\n",
       "</style>\n",
       "<table border=\"1\" class=\"dataframe\">\n",
       "  <thead>\n",
       "    <tr style=\"text-align: right;\">\n",
       "      <th></th>\n",
       "      <th>schedule_gtfs_dataset_key</th>\n",
       "      <th># Routes</th>\n",
       "      <th># Trips</th>\n",
       "      <th># Shapes</th>\n",
       "      <th># Stops</th>\n",
       "      <th># Arrivals</th>\n",
       "      <th>Operator Service Miles</th>\n",
       "      <th>Avg Arrivals per Stop</th>\n",
       "      <th># Downtown Local Route Types</th>\n",
       "      <th># Local Route Types</th>\n",
       "      <th># Coverage Route Types</th>\n",
       "      <th># Rapid Route Types</th>\n",
       "      <th># Express Route Types</th>\n",
       "      <th># Rail Route Types</th>\n",
       "      <th>Transit Operator</th>\n",
       "      <th>Organization ID</th>\n",
       "      <th>Organization</th>\n",
       "      <th>Date</th>\n",
       "      <th>counties_served</th>\n",
       "      <th>service_area_sq_miles</th>\n",
       "      <th>hq_city</th>\n",
       "      <th>uza_name</th>\n",
       "      <th>service_area_pop</th>\n",
       "      <th>organization_type</th>\n",
       "      <th>primary_uza</th>\n",
       "      <th>reporter_type</th>\n",
       "    </tr>\n",
       "  </thead>\n",
       "  <tbody>\n",
       "    <tr>\n",
       "      <th>11</th>\n",
       "      <td>7cc0cb1871dfd558f11a2885c145d144</td>\n",
       "      <td>68</td>\n",
       "      <td>9766</td>\n",
       "      <td>282</td>\n",
       "      <td>3270</td>\n",
       "      <td>360701</td>\n",
       "      <td>504.99</td>\n",
       "      <td>110.31</td>\n",
       "      <td>126</td>\n",
       "      <td>2</td>\n",
       "      <td>0</td>\n",
       "      <td>20</td>\n",
       "      <td>6</td>\n",
       "      <td>18</td>\n",
       "      <td>Bay Area 511 Muni Schedule</td>\n",
       "      <td>rechaapWbeffO33OX</td>\n",
       "      <td>City and County of San Francisco</td>\n",
       "      <td>2024-04-17</td>\n",
       "      <td>San Francisco</td>\n",
       "      <td>49.00</td>\n",
       "      <td>San Francisco</td>\n",
       "      <td>San Francisco--Oakland, CA</td>\n",
       "      <td>842754.00</td>\n",
       "      <td>County or Local Government Unit or Department of Transportation</td>\n",
       "      <td>None</td>\n",
       "      <td>Full Reporter</td>\n",
       "    </tr>\n",
       "  </tbody>\n",
       "</table>\n",
       "</div>"
      ],
      "text/plain": [
       "           schedule_gtfs_dataset_key  # Routes  # Trips  # Shapes  # Stops  \\\n",
       "11  7cc0cb1871dfd558f11a2885c145d144        68     9766       282     3270   \n",
       "\n",
       "    # Arrivals  Operator Service Miles  Avg Arrivals per Stop  \\\n",
       "11      360701                  504.99                 110.31   \n",
       "\n",
       "    # Downtown Local Route Types  # Local Route Types  # Coverage Route Types  \\\n",
       "11                           126                    2                       0   \n",
       "\n",
       "    # Rapid Route Types  # Express Route Types  # Rail Route Types  \\\n",
       "11                   20                      6                  18   \n",
       "\n",
       "              Transit Operator    Organization ID  \\\n",
       "11  Bay Area 511 Muni Schedule  rechaapWbeffO33OX   \n",
       "\n",
       "                        Organization       Date counties_served  \\\n",
       "11  City and County of San Francisco 2024-04-17   San Francisco   \n",
       "\n",
       "    service_area_sq_miles        hq_city                    uza_name  \\\n",
       "11                  49.00  San Francisco  San Francisco--Oakland, CA   \n",
       "\n",
       "    service_area_pop  \\\n",
       "11         842754.00   \n",
       "\n",
       "                                                  organization_type  \\\n",
       "11  County or Local Government Unit or Department of Transportation   \n",
       "\n",
       "   primary_uza  reporter_type  \n",
       "11        None  Full Reporter  "
      ]
     },
     "execution_count": 55,
     "metadata": {},
     "output_type": "execute_result"
    }
   ],
   "source": [
    "sf"
   ]
  },
  {
   "cell_type": "code",
   "execution_count": 56,
   "id": "9b18551c-8489-4917-b2b0-9f77c36cdfef",
   "metadata": {},
   "outputs": [],
   "source": [
    "placer = _section1_utils.load_operator_ntd_profile(\"Placer County\")"
   ]
  },
  {
   "cell_type": "code",
   "execution_count": 57,
   "id": "ceb77da1-def6-4cb8-bc79-0930a8e0868a",
   "metadata": {},
   "outputs": [
    {
     "data": {
      "text/html": [
       "<div>\n",
       "<style scoped>\n",
       "    .dataframe tbody tr th:only-of-type {\n",
       "        vertical-align: middle;\n",
       "    }\n",
       "\n",
       "    .dataframe tbody tr th {\n",
       "        vertical-align: top;\n",
       "    }\n",
       "\n",
       "    .dataframe thead th {\n",
       "        text-align: right;\n",
       "    }\n",
       "</style>\n",
       "<table border=\"1\" class=\"dataframe\">\n",
       "  <thead>\n",
       "    <tr style=\"text-align: right;\">\n",
       "      <th></th>\n",
       "      <th>schedule_gtfs_dataset_key</th>\n",
       "      <th># Routes</th>\n",
       "      <th># Trips</th>\n",
       "      <th># Shapes</th>\n",
       "      <th># Stops</th>\n",
       "      <th># Arrivals</th>\n",
       "      <th>Operator Service Miles</th>\n",
       "      <th>Avg Arrivals per Stop</th>\n",
       "      <th># Downtown Local Route Types</th>\n",
       "      <th># Local Route Types</th>\n",
       "      <th># Coverage Route Types</th>\n",
       "      <th># Rapid Route Types</th>\n",
       "      <th># Express Route Types</th>\n",
       "      <th># Rail Route Types</th>\n",
       "      <th>Transit Operator</th>\n",
       "      <th>Organization ID</th>\n",
       "      <th>Organization</th>\n",
       "      <th>Date</th>\n",
       "      <th>counties_served</th>\n",
       "      <th>service_area_sq_miles</th>\n",
       "      <th>hq_city</th>\n",
       "      <th>uza_name</th>\n",
       "      <th>service_area_pop</th>\n",
       "      <th>organization_type</th>\n",
       "      <th>primary_uza</th>\n",
       "      <th>reporter_type</th>\n",
       "    </tr>\n",
       "  </thead>\n",
       "  <tbody>\n",
       "    <tr>\n",
       "      <th>13</th>\n",
       "      <td>8de1f1a3b9ae172c6b8255b1c82c340f</td>\n",
       "      <td>8</td>\n",
       "      <td>115</td>\n",
       "      <td>24</td>\n",
       "      <td>148</td>\n",
       "      <td>2002</td>\n",
       "      <td>213.30</td>\n",
       "      <td>13.53</td>\n",
       "      <td>0</td>\n",
       "      <td>0</td>\n",
       "      <td>11</td>\n",
       "      <td>7</td>\n",
       "      <td>2</td>\n",
       "      <td>0</td>\n",
       "      <td>Placer Schedule</td>\n",
       "      <td>recDD2rnkl2m7IV8u</td>\n",
       "      <td>Placer County</td>\n",
       "      <td>2024-04-17</td>\n",
       "      <td>Placer</td>\n",
       "      <td>169.00</td>\n",
       "      <td>Auburn</td>\n",
       "      <td>Sacramento, CA</td>\n",
       "      <td>392258.00</td>\n",
       "      <td>County or Local Government Unit or Department of Transportation</td>\n",
       "      <td>None</td>\n",
       "      <td>Full Reporter</td>\n",
       "    </tr>\n",
       "  </tbody>\n",
       "</table>\n",
       "</div>"
      ],
      "text/plain": [
       "           schedule_gtfs_dataset_key  # Routes  # Trips  # Shapes  # Stops  \\\n",
       "13  8de1f1a3b9ae172c6b8255b1c82c340f         8      115        24      148   \n",
       "\n",
       "    # Arrivals  Operator Service Miles  Avg Arrivals per Stop  \\\n",
       "13        2002                  213.30                  13.53   \n",
       "\n",
       "    # Downtown Local Route Types  # Local Route Types  # Coverage Route Types  \\\n",
       "13                             0                    0                      11   \n",
       "\n",
       "    # Rapid Route Types  # Express Route Types  # Rail Route Types  \\\n",
       "13                    7                      2                   0   \n",
       "\n",
       "   Transit Operator    Organization ID   Organization       Date  \\\n",
       "13  Placer Schedule  recDD2rnkl2m7IV8u  Placer County 2024-04-17   \n",
       "\n",
       "   counties_served  service_area_sq_miles hq_city        uza_name  \\\n",
       "13          Placer                 169.00  Auburn  Sacramento, CA   \n",
       "\n",
       "    service_area_pop  \\\n",
       "13         392258.00   \n",
       "\n",
       "                                                  organization_type  \\\n",
       "13  County or Local Government Unit or Department of Transportation   \n",
       "\n",
       "   primary_uza  reporter_type  \n",
       "13        None  Full Reporter  "
      ]
     },
     "execution_count": 57,
     "metadata": {},
     "output_type": "execute_result"
    }
   ],
   "source": [
    "placer"
   ]
  }
 ],
 "metadata": {
  "kernelspec": {
   "display_name": "Python 3 (ipykernel)",
   "language": "python",
   "name": "python3"
  },
  "language_info": {
   "codemirror_mode": {
    "name": "ipython",
    "version": 3
   },
   "file_extension": ".py",
   "mimetype": "text/x-python",
   "name": "python",
   "nbconvert_exporter": "python",
   "pygments_lexer": "ipython3",
   "version": "3.9.13"
  }
 },
 "nbformat": 4,
 "nbformat_minor": 5
}
