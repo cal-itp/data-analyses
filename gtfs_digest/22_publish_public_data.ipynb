{
 "cells": [
  {
   "cell_type": "markdown",
   "id": "700af126-2cc5-4cc2-ad9b-1613c06c8ab1",
   "metadata": {},
   "source": [
    "## Adjusting `service_hours` and `operator_profiles` with NTD data to be published on the Public GCS Page "
   ]
  },
  {
   "cell_type": "code",
   "execution_count": 1,
   "id": "c93b7faf-cf3c-4d94-9cac-702d8851f3fe",
   "metadata": {},
   "outputs": [],
   "source": [
    "import geopandas as gpd\n",
    "import pandas as pd\n",
    "\n",
    "from pathlib import Path\n",
    "from typing import Literal\n",
    "\n",
    "from calitp_data_analysis import utils\n",
    "from shared_utils import publish_utils\n",
    "from update_vars import GTFS_DATA_DICT, SCHED_GCS\n",
    "from segment_speed_utils import helpers, time_series_utils\n",
    "PUBLIC_GCS = GTFS_DATA_DICT.gcs_paths.PUBLIC_GCS"
   ]
  },
  {
   "cell_type": "code",
   "execution_count": 2,
   "id": "a8305b8e-cf14-4707-b184-3f3c0aa3d43f",
   "metadata": {},
   "outputs": [],
   "source": [
    "from shared_utils import catalog_utils, rt_dates"
   ]
  },
  {
   "cell_type": "code",
   "execution_count": 3,
   "id": "77384a52-33ac-4f87-ac31-b263844cef21",
   "metadata": {},
   "outputs": [],
   "source": [
    "pd.options.display.max_columns = 100\n",
    "pd.options.display.float_format = \"{:.2f}\".format\n",
    "pd.set_option(\"display.max_rows\", None)\n",
    "pd.set_option(\"display.max_colwidth\", None)"
   ]
  },
  {
   "cell_type": "code",
   "execution_count": 4,
   "id": "d44b41d8-cc43-4765-937e-2846f740316a",
   "metadata": {},
   "outputs": [],
   "source": [
    "import _gtfs_digest_dataset"
   ]
  },
  {
   "cell_type": "markdown",
   "id": "eee26c67-474f-47a1-b0bb-3b4c9c2656c2",
   "metadata": {},
   "source": [
    "### Understand how `gtfs_digets/publish_public_data` works."
   ]
  },
  {
   "cell_type": "markdown",
   "id": "08e365da-1fb8-41f4-817f-ea8827fdab24",
   "metadata": {},
   "source": [
    "#### `grab_filepaths()`"
   ]
  },
  {
   "cell_type": "code",
   "execution_count": 8,
   "id": "4f30bbb7-7ad6-47d2-8f5a-ddc29bdf01e9",
   "metadata": {},
   "outputs": [],
   "source": [
    "GCS = GTFS_DATA_DICT[\"digest_tables\"].dir"
   ]
  },
  {
   "cell_type": "code",
   "execution_count": 13,
   "id": "2e644d15-2819-4773-8b85-a8b728672e16",
   "metadata": {},
   "outputs": [
    {
     "data": {
      "text/plain": [
       "'gs://calitp-analytics-data/data-analyses/rt_vs_schedule/'"
      ]
     },
     "execution_count": 13,
     "metadata": {},
     "output_type": "execute_result"
    }
   ],
   "source": [
    "GCS"
   ]
  },
  {
   "cell_type": "code",
   "execution_count": 6,
   "id": "2d8eae7b-8df4-4dd2-9073-5d9067bcf8db",
   "metadata": {},
   "outputs": [],
   "source": [
    "digest_df_keys = [\n",
    "        \"route_schedule_vp\", \n",
    "        \"operator_profile_portfolio_view\",  \n",
    "        \"operator_sched_rt\",\n",
    "        \"scheduled_service_hours\",\n",
    "    ]  "
   ]
  },
  {
   "cell_type": "code",
   "execution_count": 14,
   "id": "654ae6ae-11e9-4718-879a-332da3ce7343",
   "metadata": {},
   "outputs": [
    {
     "data": {
      "text/plain": [
       "{'dir': '${gcs_paths.RT_SCHED_GCS}', 'route_schedule_vp': 'digest/schedule_vp_metrics', 'route_segment_speeds': 'digest/segment_speeds', 'operator_profiles': 'digest/operator_profiles', 'operator_routes_map': 'digest/operator_routes', 'operator_sched_rt': 'digest/operator_schedule_rt_category', 'scheduled_service_hours': 'digest/total_scheduled_service_hours', 'operator_profile_portfolio_view': 'digest/operator_profile_portfolio_view'}"
      ]
     },
     "execution_count": 14,
     "metadata": {},
     "output_type": "execute_result"
    }
   ],
   "source": [
    "GTFS_DATA_DICT[\"digest_tables\"]"
   ]
  },
  {
   "cell_type": "code",
   "execution_count": 15,
   "id": "68a23d45-cfed-4dff-840d-7feea663ace1",
   "metadata": {},
   "outputs": [
    {
     "data": {
      "text/plain": [
       "'digest/schedule_vp_metrics'"
      ]
     },
     "execution_count": 15,
     "metadata": {},
     "output_type": "execute_result"
    }
   ],
   "source": [
    "GTFS_DATA_DICT[\"digest_tables\"][\"route_schedule_vp\"]"
   ]
  },
  {
   "cell_type": "code",
   "execution_count": 10,
   "id": "9c031f6e-974f-4d66-a95a-2eee16db037c",
   "metadata": {},
   "outputs": [],
   "source": [
    "filepaths = [GTFS_DATA_DICT[\"digest_tables\"][f] for f in digest_df_keys]"
   ]
  },
  {
   "cell_type": "code",
   "execution_count": 11,
   "id": "97b42495-81f8-4cab-92f9-d95f9d577145",
   "metadata": {},
   "outputs": [
    {
     "data": {
      "text/plain": [
       "['digest/schedule_vp_metrics',\n",
       " 'digest/operator_profile_portfolio_view',\n",
       " 'digest/operator_schedule_rt_category',\n",
       " 'digest/total_scheduled_service_hours']"
      ]
     },
     "execution_count": 11,
     "metadata": {},
     "output_type": "execute_result"
    }
   ],
   "source": [
    "filepaths"
   ]
  },
  {
   "cell_type": "code",
   "execution_count": 17,
   "id": "b26f18ac-4ef0-4113-81c1-f7bfd2a0d677",
   "metadata": {},
   "outputs": [],
   "source": [
    "df_file_paths = [f\"{GCS}{f}.parquet\" for f in filepaths]"
   ]
  },
  {
   "cell_type": "code",
   "execution_count": 18,
   "id": "b3724579-9f27-4142-8d27-a600f9353aa1",
   "metadata": {},
   "outputs": [
    {
     "data": {
      "text/plain": [
       "['gs://calitp-analytics-data/data-analyses/rt_vs_schedule/digest/schedule_vp_metrics.parquet',\n",
       " 'gs://calitp-analytics-data/data-analyses/rt_vs_schedule/digest/operator_profile_portfolio_view.parquet',\n",
       " 'gs://calitp-analytics-data/data-analyses/rt_vs_schedule/digest/operator_schedule_rt_category.parquet',\n",
       " 'gs://calitp-analytics-data/data-analyses/rt_vs_schedule/digest/total_scheduled_service_hours.parquet']"
      ]
     },
     "execution_count": 18,
     "metadata": {},
     "output_type": "execute_result"
    }
   ],
   "source": [
    "df_file_paths"
   ]
  },
  {
   "cell_type": "markdown",
   "id": "079ec287-8ada-409d-9705-95db7dff50b8",
   "metadata": {},
   "source": [
    "#### `export_parquet_as_csv_or_geojson`"
   ]
  },
  {
   "cell_type": "code",
   "execution_count": 16,
   "id": "db6e7b70-7844-40a4-893e-8ae1c110399e",
   "metadata": {},
   "outputs": [],
   "source": [
    "from pathlib import Path"
   ]
  },
  {
   "cell_type": "code",
   "execution_count": 23,
   "id": "94dc5c2f-3a34-4ce8-a340-bab97131f39d",
   "metadata": {},
   "outputs": [
    {
     "data": {
      "text/plain": [
       "PosixPath('gs:/calitp-analytics-data/data-analyses/rt_vs_schedule/digest/schedule_vp_metrics.parquet')"
      ]
     },
     "execution_count": 23,
     "metadata": {},
     "output_type": "execute_result"
    }
   ],
   "source": [
    "Path(df_file_paths[0])"
   ]
  },
  {
   "cell_type": "code",
   "execution_count": 24,
   "id": "5ea84c34-0390-4f2e-9da9-d9d98a957510",
   "metadata": {},
   "outputs": [
    {
     "data": {
      "text/plain": [
       "'schedule_vp_metrics'"
      ]
     },
     "execution_count": 24,
     "metadata": {},
     "output_type": "execute_result"
    }
   ],
   "source": [
    "Path(df_file_paths[0]).stem"
   ]
  },
  {
   "cell_type": "code",
   "execution_count": 21,
   "id": "a5a3c101-b38e-4804-9212-6524fa547518",
   "metadata": {},
   "outputs": [
    {
     "data": {
      "text/plain": [
       "'schedule_vp_metrics.csv'"
      ]
     },
     "execution_count": 21,
     "metadata": {},
     "output_type": "execute_result"
    }
   ],
   "source": [
    "f\"{Path(df_file_paths[0]).stem}.csv\""
   ]
  },
  {
   "cell_type": "code",
   "execution_count": 25,
   "id": "de709b5a-4bab-45d9-ba86-8ec9693a1244",
   "metadata": {},
   "outputs": [],
   "source": [
    "PUBLIC_GCS = GTFS_DATA_DICT.gcs_paths.PUBLIC_GCS"
   ]
  },
  {
   "cell_type": "code",
   "execution_count": 26,
   "id": "4bc07278-e22c-4d5e-86a0-05ed0f4c92f8",
   "metadata": {},
   "outputs": [
    {
     "data": {
      "text/plain": [
       "'gs://calitp-publish-data-analysis/gtfs_digest/schedule_vp_metrics.csv'"
      ]
     },
     "execution_count": 26,
     "metadata": {},
     "output_type": "execute_result"
    }
   ],
   "source": [
    "f\"{PUBLIC_GCS}gtfs_digest/{Path(df_file_paths[0]).stem}.csv\""
   ]
  },
  {
   "cell_type": "markdown",
   "id": "c35c1d13-3ad6-474e-8863-ff1728761802",
   "metadata": {},
   "source": [
    "### Check out Crosswalk `gtfs_funnel/crosswalk_gtfs_dataset_key_to_organization`"
   ]
  },
  {
   "cell_type": "code",
   "execution_count": null,
   "id": "e5734a84-526d-4cb9-b426-035db5f7e6af",
   "metadata": {},
   "outputs": [],
   "source": [
    "import sys\n",
    "\n",
    "sys.path.append(\"../gtfs_funnel\")\n",
    "import crosswalk_gtfs_dataset_key_to_organization"
   ]
  },
  {
   "cell_type": "code",
   "execution_count": null,
   "id": "3b6682cb-30b8-43dc-b922-6b0a46532b39",
   "metadata": {},
   "outputs": [],
   "source": [
    "# Check out crosswalk file\n",
    "SCHED_GCS"
   ]
  },
  {
   "cell_type": "code",
   "execution_count": null,
   "id": "97de4170-4e9f-4087-8bc5-e0fb5e3b5d5f",
   "metadata": {},
   "outputs": [],
   "source": [
    "GTFS_DATA_DICT.schedule_tables.gtfs_key_crosswalk"
   ]
  },
  {
   "cell_type": "code",
   "execution_count": null,
   "id": "548c4562-cfee-46a8-b29b-632e046714b3",
   "metadata": {},
   "outputs": [],
   "source": [
    "may_crosswalk = pd.read_parquet(\"gs://calitp-analytics-data/data-analyses/gtfs_schedule/crosswalk/gtfs_key_organization_2024-05-22.parquet\")"
   ]
  },
  {
   "cell_type": "code",
   "execution_count": null,
   "id": "dd16bcf6-79b0-4658-8248-ba94cab1fb55",
   "metadata": {},
   "outputs": [],
   "source": [
    "may_crosswalk.shape"
   ]
  },
  {
   "cell_type": "code",
   "execution_count": null,
   "id": "32eac981-35ca-4d30-99e1-592b8686942f",
   "metadata": {},
   "outputs": [],
   "source": [
    "may_crosswalk.columns"
   ]
  },
  {
   "cell_type": "markdown",
   "id": "8fc7b34e-7f13-422b-a48e-8451bc63a608",
   "metadata": {},
   "source": [
    "### Stack all of the crosswalk files together and then join onto `operator_profiles`"
   ]
  },
  {
   "cell_type": "code",
   "execution_count": null,
   "id": "8ac92e13-f5ca-4a01-9fce-0e67c1d98dc3",
   "metadata": {},
   "outputs": [],
   "source": [
    "op_profiles_url = f\"{GTFS_DATA_DICT.digest_tables.dir}{GTFS_DATA_DICT.digest_tables.operator_profiles}.parquet\""
   ]
  },
  {
   "cell_type": "code",
   "execution_count": null,
   "id": "9dbd2785-fb91-4ec0-bb61-85d2abb76de6",
   "metadata": {},
   "outputs": [],
   "source": [
    "op_profiles_df = pd.read_parquet(op_profiles_url)"
   ]
  },
  {
   "cell_type": "code",
   "execution_count": null,
   "id": "07c2246d-1bb0-43ca-a922-637b0f6d09c8",
   "metadata": {},
   "outputs": [],
   "source": [
    "len(op_profiles_df)"
   ]
  },
  {
   "cell_type": "code",
   "execution_count": null,
   "id": "334511d8-20bb-46ab-bccf-43027daf7759",
   "metadata": {},
   "outputs": [],
   "source": [
    "op_profiles_df.info()"
   ]
  },
  {
   "cell_type": "markdown",
   "id": "409f6718-8521-425b-97a1-8406ec39d711",
   "metadata": {},
   "source": [
    "#### Attempt to Stack"
   ]
  },
  {
   "cell_type": "code",
   "execution_count": null,
   "id": "c904fbcc-d7a9-4d87-915d-c7043aa86f3c",
   "metadata": {
    "scrolled": true,
    "tags": []
   },
   "outputs": [],
   "source": [
    "time_series_utils.concatenate_datasets_across_dates??"
   ]
  },
  {
   "cell_type": "code",
   "execution_count": null,
   "id": "63fdb42d-cd62-46d2-b846-67b3673d10a3",
   "metadata": {},
   "outputs": [],
   "source": [
    "all_dates = (rt_dates.y2024_dates + rt_dates.y2023_dates + \n",
    "             rt_dates.oct2023_week + rt_dates.apr2023_week + \n",
    "             rt_dates.apr2024_week\n",
    "            )"
   ]
  },
  {
   "cell_type": "code",
   "execution_count": null,
   "id": "fc5b011d-deda-47c7-904b-760b13a992d3",
   "metadata": {},
   "outputs": [],
   "source": [
    "SCHED_GCS"
   ]
  },
  {
   "cell_type": "code",
   "execution_count": null,
   "id": "e9c49715-3001-4731-bb7a-7697836f7e41",
   "metadata": {},
   "outputs": [],
   "source": [
    "FILE = GTFS_DATA_DICT.schedule_tables.gtfs_key_crosswalk"
   ]
  },
  {
   "cell_type": "code",
   "execution_count": null,
   "id": "cd5508f7-e11a-4094-8216-b51a55d1d6f5",
   "metadata": {},
   "outputs": [],
   "source": [
    "ntd_cols = [\n",
    "        \"schedule_gtfs_dataset_key\",\n",
    "        \"counties_served\",\n",
    "        \"service_area_sq_miles\",\n",
    "        \"hq_city\",\n",
    "        \"uza_name\",\n",
    "        \"service_area_pop\",\n",
    "        \"organization_type\",\n",
    "        \"primary_uza\",\n",
    "        \"reporter_type\"\n",
    "    ]"
   ]
  },
  {
   "cell_type": "code",
   "execution_count": null,
   "id": "42aaaf3f-f1b0-42d8-854e-28bf3f36e7ef",
   "metadata": {},
   "outputs": [],
   "source": [
    "crossalk_all_dates = (\n",
    "        time_series_utils.concatenate_datasets_across_dates(\n",
    "            SCHED_GCS,\n",
    "            FILE,\n",
    "            all_dates,\n",
    "            data_type=\"df\",\n",
    "            columns=ntd_cols\n",
    "        )\n",
    "        .sort_values([\"service_date\"])\n",
    "        .reset_index(drop=True)\n",
    "    )"
   ]
  },
  {
   "cell_type": "code",
   "execution_count": null,
   "id": "09bfe5b3-7357-4e9e-b244-27b8f5f20638",
   "metadata": {},
   "outputs": [],
   "source": [
    "crossalk_all_dates.shape"
   ]
  },
  {
   "cell_type": "code",
   "execution_count": null,
   "id": "94e56970-58a1-474c-8ce0-af74f41243ec",
   "metadata": {},
   "outputs": [],
   "source": [
    "crossalk_all_dates.head(1)"
   ]
  },
  {
   "cell_type": "code",
   "execution_count": null,
   "id": "5c32afbd-1115-4a06-9401-b618fda73c8e",
   "metadata": {},
   "outputs": [],
   "source": [
    "crossalk_all_dates.service_date.nunique()"
   ]
  },
  {
   "cell_type": "code",
   "execution_count": null,
   "id": "2a35a7e5-a3bb-49b0-973f-8168ba75ad53",
   "metadata": {},
   "outputs": [],
   "source": [
    "crossalk_all_dates.service_date.unique()"
   ]
  },
  {
   "cell_type": "markdown",
   "id": "8f745bde-5a84-4039-ae80-eba0da8c8233",
   "metadata": {},
   "source": [
    "### Merge\n",
    "* Why do the merged dfs become so huge??"
   ]
  },
  {
   "cell_type": "code",
   "execution_count": null,
   "id": "1527aa58-ccdf-442b-be6e-20f61119a9b2",
   "metadata": {},
   "outputs": [],
   "source": [
    "op_profiles_df1 = pd.merge(op_profiles_df, crossalk_all_dates, on = [\"schedule_gtfs_dataset_key\"], how = \"left\")"
   ]
  },
  {
   "cell_type": "code",
   "execution_count": null,
   "id": "76e8b044-7141-462b-bfa5-830a122adec8",
   "metadata": {},
   "outputs": [],
   "source": [
    "op_profiles_df1.shape"
   ]
  },
  {
   "cell_type": "code",
   "execution_count": null,
   "id": "8d8c8d91-0c77-4bf6-926a-0ba4941fffb0",
   "metadata": {},
   "outputs": [],
   "source": [
    "op_profiles_df2 = pd.merge(op_profiles_df, crossalk_all_dates, on = [\"schedule_gtfs_dataset_key\", \"service_date\"], how = \"left\")"
   ]
  },
  {
   "cell_type": "code",
   "execution_count": null,
   "id": "af6d339d-f66f-4275-a526-a1177f777467",
   "metadata": {},
   "outputs": [],
   "source": [
    "op_profiles_df2.shape"
   ]
  },
  {
   "cell_type": "code",
   "execution_count": null,
   "id": "810553fb-d428-4258-b6bc-e9515b3fe942",
   "metadata": {},
   "outputs": [],
   "source": [
    "op_profiles_df2.schedule_gtfs_dataset_key.value_counts().head(10)"
   ]
  },
  {
   "cell_type": "code",
   "execution_count": null,
   "id": "c97927b2-043c-4b96-ad12-9a80ea824c1b",
   "metadata": {},
   "outputs": [],
   "source": [
    "op_profiles_df.schedule_gtfs_dataset_key.value_counts().head()"
   ]
  },
  {
   "cell_type": "code",
   "execution_count": null,
   "id": "ff7c26aa-15fa-4ecc-9ecf-da29f46487fd",
   "metadata": {},
   "outputs": [],
   "source": [
    "op_profiles_df.schedule_gtfs_dataset_key.value_counts().describe()"
   ]
  },
  {
   "cell_type": "code",
   "execution_count": null,
   "id": "067f0439-9400-4af2-aba1-f7bc8cc64df2",
   "metadata": {
    "scrolled": true,
    "tags": []
   },
   "outputs": [],
   "source": [
    "# op_profiles_df2.loc[op_profiles_df2.schedule_gtfs_dataset_key == \"e359e3617344263ad00858db2149a288\"]"
   ]
  },
  {
   "cell_type": "code",
   "execution_count": null,
   "id": "e404c7f9-6476-40e4-84f4-32e82a6ede2d",
   "metadata": {
    "scrolled": true,
    "tags": []
   },
   "outputs": [],
   "source": [
    "# op_profiles_df2.loc[op_profiles_df2.schedule_gtfs_dataset_key == \"e8d0fd2f1c4b13707a24909a0f206271\"]"
   ]
  },
  {
   "cell_type": "code",
   "execution_count": null,
   "id": "f6812d46-5ee9-4850-a9b2-292843bb5f7b",
   "metadata": {},
   "outputs": [],
   "source": [
    "len(op_profiles_df2.drop_duplicates(subset = [\"schedule_gtfs_dataset_key\", \"service_date\"]))"
   ]
  },
  {
   "cell_type": "code",
   "execution_count": null,
   "id": "17fea5fa-f591-4bb4-a460-302bb3179be3",
   "metadata": {},
   "outputs": [],
   "source": [
    "len(op_profiles_df2.drop_duplicates(subset = list(op_profiles_df2.columns)))"
   ]
  },
  {
   "cell_type": "code",
   "execution_count": null,
   "id": "bd357084-43c4-40b8-80a9-baa035dda4b9",
   "metadata": {},
   "outputs": [],
   "source": [
    "op_profiles_df3 = op_profiles_df2.drop_duplicates(subset = [\"schedule_gtfs_dataset_key\", \"service_date\"])"
   ]
  },
  {
   "cell_type": "code",
   "execution_count": null,
   "id": "27f63527-623d-47a1-a01b-74e0919fa8f4",
   "metadata": {
    "scrolled": true,
    "tags": []
   },
   "outputs": [],
   "source": [
    "# op_profiles_df3.loc[op_profiles_df3.schedule_gtfs_dataset_key == \"e8d0fd2f1c4b13707a24909a0f206271\"]"
   ]
  },
  {
   "cell_type": "code",
   "execution_count": null,
   "id": "29326b1b-cb98-4be0-abbc-902d29774757",
   "metadata": {},
   "outputs": [],
   "source": [
    "op_profiles_df.shape"
   ]
  },
  {
   "cell_type": "code",
   "execution_count": null,
   "id": "0aefdf55-5051-4a65-a9d3-bb0f94d2f026",
   "metadata": {},
   "outputs": [],
   "source": [
    "op_profiles_df.service_date.nunique()"
   ]
  },
  {
   "cell_type": "code",
   "execution_count": null,
   "id": "d1eb7cdb-cdd1-4605-839f-59d98a84e1af",
   "metadata": {},
   "outputs": [],
   "source": [
    "op_profiles_df.head(1)"
   ]
  },
  {
   "cell_type": "code",
   "execution_count": null,
   "id": "de8c8eac-468f-467b-9146-5f87484186fd",
   "metadata": {},
   "outputs": [],
   "source": [
    "crossalk_all_dates.head(1)"
   ]
  },
  {
   "cell_type": "markdown",
   "id": "4e8809e1-e52e-45a3-a99f-89e708e152c0",
   "metadata": {},
   "source": [
    "#### Check out export file in `gtfs_digest_dataset`"
   ]
  },
  {
   "cell_type": "code",
   "execution_count": null,
   "id": "e24180a1-148e-489c-aa96-e8252f702598",
   "metadata": {},
   "outputs": [],
   "source": [
    "OP_PROFILE_EXPORT = f\"{GTFS_DATA_DICT.digest_tables.dir}{GTFS_DATA_DICT.digest_tables.operator_profile_portfolio_view}.parquet\""
   ]
  },
  {
   "cell_type": "code",
   "execution_count": null,
   "id": "4acbb04f-1cca-4ae7-968b-c23b596826d9",
   "metadata": {},
   "outputs": [],
   "source": [
    "OP_PROFILE_EXPORT"
   ]
  },
  {
   "cell_type": "code",
   "execution_count": null,
   "id": "85ce8110-3918-4197-baed-23341089d6fc",
   "metadata": {},
   "outputs": [],
   "source": [
    "operator_file = pd.read_parquet(OP_PROFILE_EXPORT)"
   ]
  },
  {
   "cell_type": "code",
   "execution_count": null,
   "id": "1e3e9b4e-181d-4ba0-ad91-7e3f4613ec5c",
   "metadata": {},
   "outputs": [],
   "source": [
    "operator_file.shape"
   ]
  },
  {
   "cell_type": "code",
   "execution_count": null,
   "id": "6f29177a-056e-4b1f-91b9-2f6fa7c89a04",
   "metadata": {},
   "outputs": [],
   "source": [
    "operator_file.head(2)"
   ]
  },
  {
   "cell_type": "code",
   "execution_count": null,
   "id": "e511295e-7886-4372-ab48-68f4750680db",
   "metadata": {},
   "outputs": [],
   "source": [
    "operator_file.info()"
   ]
  },
  {
   "cell_type": "markdown",
   "id": "081035be-26e7-44b0-955c-3353303d999d",
   "metadata": {},
   "source": [
    "#### Make sure `section_1.load_operator_ntd_profile()` works perfectly"
   ]
  },
  {
   "cell_type": "code",
   "execution_count": null,
   "id": "dfddd795-67d3-4ede-92bc-0b3afafc8ff9",
   "metadata": {},
   "outputs": [],
   "source": [
    "import _section1_utils"
   ]
  },
  {
   "cell_type": "code",
   "execution_count": null,
   "id": "2c841508-7d2a-41bb-9aed-6fe3cb534e7a",
   "metadata": {},
   "outputs": [],
   "source": [
    "organization_name = \"City and County of San Francisco\""
   ]
  },
  {
   "cell_type": "code",
   "execution_count": null,
   "id": "104f28cb-faef-48fa-a61b-470a1d85936f",
   "metadata": {},
   "outputs": [],
   "source": [
    "sf = _section1_utils.load_operator_ntd_profile(organization_name)"
   ]
  },
  {
   "cell_type": "code",
   "execution_count": null,
   "id": "70112b9f-0d0e-43da-9a4a-90a10b9b2adf",
   "metadata": {},
   "outputs": [],
   "source": [
    "sf"
   ]
  },
  {
   "cell_type": "code",
   "execution_count": null,
   "id": "9b18551c-8489-4917-b2b0-9f77c36cdfef",
   "metadata": {},
   "outputs": [],
   "source": [
    "placer = _section1_utils.load_operator_ntd_profile(\"Placer County\")"
   ]
  },
  {
   "cell_type": "code",
   "execution_count": null,
   "id": "ceb77da1-def6-4cb8-bc79-0930a8e0868a",
   "metadata": {},
   "outputs": [],
   "source": [
    "placer"
   ]
  }
 ],
 "metadata": {
  "kernelspec": {
   "display_name": "Python 3 (ipykernel)",
   "language": "python",
   "name": "python3"
  },
  "language_info": {
   "codemirror_mode": {
    "name": "ipython",
    "version": 3
   },
   "file_extension": ".py",
   "mimetype": "text/x-python",
   "name": "python",
   "nbconvert_exporter": "python",
   "pygments_lexer": "ipython3",
   "version": "3.9.13"
  }
 },
 "nbformat": 4,
 "nbformat_minor": 5
}
