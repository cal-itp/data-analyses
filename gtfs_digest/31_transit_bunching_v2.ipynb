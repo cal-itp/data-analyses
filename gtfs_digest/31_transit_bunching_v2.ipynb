{
 "cells": [
  {
   "cell_type": "markdown",
   "id": "733e5c07-e894-48de-b92a-9cba10b7fc9a",
   "metadata": {},
   "source": [
    "## Transit Bunching V2\n",
    "* Incorporating Katrina and Eric's comments.\n",
    "* cd data-analyses/rt_segment_speeds && pip install -r requirements.txt && cd ../_shared_utils && make setup_env && cd ../gtfs_digest\n",
    "* [Issue](https://github.com/cal-itp/data-analyses/issues/1099)"
   ]
  },
  {
   "cell_type": "code",
   "execution_count": 1,
   "id": "60097cf1-857d-4c7f-9fc7-043a69ec1a61",
   "metadata": {},
   "outputs": [],
   "source": [
    "import geopandas as gpd\n",
    "import merge_data\n",
    "import pandas as pd\n",
    "from segment_speed_utils import gtfs_schedule_wrangling, helpers, time_series_utils\n",
    "from shared_utils import catalog_utils, rt_dates, rt_utils\n",
    "from update_vars import GTFS_DATA_DICT, RT_SCHED_GCS, SCHED_GCS\n",
    "\n",
    "# https://github.com/cal-itp/data-analyses/blob/main/_shared_utils/shared_utils/gtfs_analytics_data.yml\n",
    "GTFS_DATA_DICT = catalog_utils.get_catalog(\"gtfs_analytics_data\")\n",
    "\n",
    "from segment_speed_utils.project_vars import (\n",
    "    COMPILED_CACHED_VIEWS,\n",
    "    GTFS_DATA_DICT,\n",
    "    PROJECT_CRS,\n",
    "    RT_SCHED_GCS,\n",
    "    SCHED_GCS,\n",
    "    SEGMENT_GCS,\n",
    ")"
   ]
  },
  {
   "cell_type": "code",
   "execution_count": 2,
   "id": "51a085f8-5981-4da7-904f-6348cf2e18b0",
   "metadata": {},
   "outputs": [],
   "source": [
    "pd.options.display.max_columns = 100\n",
    "pd.options.display.float_format = \"{:.2f}\".format\n",
    "pd.set_option(\"display.max_rows\", None)\n",
    "pd.set_option(\"display.max_colwidth\", None)"
   ]
  },
  {
   "cell_type": "code",
   "execution_count": 3,
   "id": "113bd786-8d4b-4153-939b-b419b4fa97ee",
   "metadata": {},
   "outputs": [],
   "source": [
    "may_date = \"2024-05-22\""
   ]
  },
  {
   "cell_type": "code",
   "execution_count": 4,
   "id": "44a80420-dbe8-4a2b-9c47-44b32bf28e00",
   "metadata": {},
   "outputs": [],
   "source": [
    "drop_for_preview = [\n",
    "    \"schedule_gtfs_dataset_key\",\n",
    "    \"trip_instance_key\",\n",
    "    \"shape_array_key\",\n",
    "    \"feed_key\",\n",
    "    \"trip_id\",\n",
    "]"
   ]
  },
  {
   "cell_type": "markdown",
   "id": "2be7e7cc-b6c5-4c87-b2d5-6cb8612e23ce",
   "metadata": {},
   "source": [
    "### Get routes with short headways\n",
    "* Katrina: <i>but want to understand how the original column is calculated (over what time period). I would also count the agencies/organizations represented in that subset to see if it fits our preconceptions about which agencies run frequent routes. Also check mix of buses/trains.</i>\n",
    "* Eric: <i>Once you do the 60 / frequency calculation, it’s not really a frequency any more but rather a headway. headway_minutes might be a better way to label it than frequency_in_minutes.</i>\n",
    "* <b> Amanda: figure out how Tiffany calculated frequncy.</b>"
   ]
  },
  {
   "cell_type": "code",
   "execution_count": 5,
   "id": "873bf893-40a2-4b64-84ba-68604c6df18b",
   "metadata": {},
   "outputs": [],
   "source": [
    "subset = [\n",
    "    \"schedule_gtfs_dataset_key\",\n",
    "    \"route_id\",\n",
    "    \"direction_id\",\n",
    "    \"route_primary_direction\",\n",
    "    \"service_date\",\n",
    "    \"frequency\",\n",
    "]"
   ]
  },
  {
   "cell_type": "code",
   "execution_count": 6,
   "id": "c9c35b69-d5ad-47b6-9027-33cc6631835e",
   "metadata": {},
   "outputs": [
    {
     "data": {
      "text/plain": [
       "'schedule_route_dir/schedule_route_direction_metrics'"
      ]
     },
     "execution_count": 6,
     "metadata": {},
     "output_type": "execute_result"
    }
   ],
   "source": [
    "GTFS_DATA_DICT.rt_vs_schedule_tables.sched_route_direction_metrics"
   ]
  },
  {
   "cell_type": "code",
   "execution_count": 7,
   "id": "9d07da3c-e347-4671-925b-e8f5bc31c0fd",
   "metadata": {},
   "outputs": [],
   "source": [
    "route_dir = merge_data.concatenate_schedule_by_route_direction([may_date])[subset]"
   ]
  },
  {
   "cell_type": "code",
   "execution_count": 8,
   "id": "f20ecdf1-76e0-4f7f-a10d-97860f6911e8",
   "metadata": {},
   "outputs": [],
   "source": [
    "route_dir[\"headway_minutes\"] = 60 / route_dir.frequency"
   ]
  },
  {
   "cell_type": "code",
   "execution_count": 9,
   "id": "75b6d1d2-b6b5-4c44-8d5a-0f026e8fcd65",
   "metadata": {},
   "outputs": [],
   "source": [
    "route_freq_groupby = [\n",
    "    \"schedule_gtfs_dataset_key\",\n",
    "    \"route_id\",\n",
    "    \"direction_id\",\n",
    "    \"route_primary_direction\",\n",
    "]"
   ]
  },
  {
   "cell_type": "markdown",
   "id": "a67f59fe-ae28-4e32-9b63-18514d18ab07",
   "metadata": {},
   "source": [
    "#### QUESTION: Should I use mean or median for finding routes that are high frequency?\n",
    "* Find Median."
   ]
  },
  {
   "cell_type": "code",
   "execution_count": 10,
   "id": "e2893c22-7d7c-4dca-9d08-0e33d2680437",
   "metadata": {},
   "outputs": [],
   "source": [
    "high_frequency_routes = (\n",
    "    route_dir.groupby(route_freq_groupby).agg({\"headway_minutes\": \"mean\"}).reset_index()\n",
    ")"
   ]
  },
  {
   "cell_type": "code",
   "execution_count": 11,
   "id": "d35238bb-2418-466b-8814-96382abeb3eb",
   "metadata": {},
   "outputs": [],
   "source": [
    "# Grab Crosswalk\n",
    "CROSSWALK = GTFS_DATA_DICT.schedule_tables.gtfs_key_crosswalk"
   ]
  },
  {
   "cell_type": "code",
   "execution_count": 12,
   "id": "6272b8aa-0d76-4e18-bc76-66548f54c9a0",
   "metadata": {},
   "outputs": [],
   "source": [
    "crosswalk_cols = [\n",
    "    \"schedule_gtfs_dataset_key\",\n",
    "    \"organization_name\",\n",
    "    \"name\",\n",
    "    \"caltrans_district\",\n",
    "]"
   ]
  },
  {
   "cell_type": "code",
   "execution_count": 13,
   "id": "d5d62df4-cffb-4bc8-9ad1-9766a8ec2bf1",
   "metadata": {},
   "outputs": [],
   "source": [
    "crosswalk_df = (\n",
    "    time_series_utils.concatenate_datasets_across_dates(\n",
    "        SCHED_GCS, CROSSWALK, [may_date], data_type=\"df\", columns=crosswalk_cols\n",
    "    )\n",
    "    .sort_values([\"service_date\"])\n",
    "    .reset_index(drop=True)\n",
    ")"
   ]
  },
  {
   "cell_type": "code",
   "execution_count": 14,
   "id": "661b3b18-5735-443d-acfc-4f598882a661",
   "metadata": {},
   "outputs": [
    {
     "data": {
      "text/plain": [
       "(168, 5)"
      ]
     },
     "execution_count": 14,
     "metadata": {},
     "output_type": "execute_result"
    }
   ],
   "source": [
    "crosswalk_df.shape"
   ]
  },
  {
   "cell_type": "markdown",
   "id": "4d60454a-36e2-491e-bf4a-e4111bf35271",
   "metadata": {},
   "source": [
    "#### Grab routes in the 5th percentile of frequency for now.\n",
    "* Eric: <i>Taking the 5%ile (17.65min headway) is reasonable, but I suspect the worst bunching issues might be on routes with headways at/below the 10min mark? Maybe try 15 and 10 as well?</i>"
   ]
  },
  {
   "cell_type": "code",
   "execution_count": 15,
   "id": "19c16f8b-5bec-48b9-9b26-2765f63db58d",
   "metadata": {},
   "outputs": [
    {
     "data": {
      "text/plain": [
       "count   3417.00\n",
       "mean     234.64\n",
       "std      312.42\n",
       "min        4.00\n",
       "5%        17.65\n",
       "10%       23.40\n",
       "50%       97.71\n",
       "90%      750.00\n",
       "95%     1000.00\n",
       "max     1250.00\n",
       "Name: headway_minutes, dtype: float64"
      ]
     },
     "execution_count": 15,
     "metadata": {},
     "output_type": "execute_result"
    }
   ],
   "source": [
    "high_frequency_routes[\"headway_minutes\"].describe(percentiles=[0.05, 0.1, 0.9, 0.95])"
   ]
  },
  {
   "cell_type": "code",
   "execution_count": 16,
   "id": "43bbb489-39ab-4c98-8685-66f94c413bf6",
   "metadata": {},
   "outputs": [],
   "source": [
    "high_frequency_routes2 = high_frequency_routes.loc[\n",
    "    high_frequency_routes.headway_minutes <= 15\n",
    "]"
   ]
  },
  {
   "cell_type": "code",
   "execution_count": 17,
   "id": "fc18e4be-f035-4d5b-a096-e134dd17fc47",
   "metadata": {},
   "outputs": [
    {
     "data": {
      "text/plain": [
       "71"
      ]
     },
     "execution_count": 17,
     "metadata": {},
     "output_type": "execute_result"
    }
   ],
   "source": [
    "high_frequency_routes2.route_id.nunique()"
   ]
  },
  {
   "cell_type": "code",
   "execution_count": 18,
   "id": "06c84606-0840-4af6-a6b4-eee08ae77438",
   "metadata": {},
   "outputs": [
    {
     "data": {
      "text/html": [
       "<div>\n",
       "<style scoped>\n",
       "    .dataframe tbody tr th:only-of-type {\n",
       "        vertical-align: middle;\n",
       "    }\n",
       "\n",
       "    .dataframe tbody tr th {\n",
       "        vertical-align: top;\n",
       "    }\n",
       "\n",
       "    .dataframe thead th {\n",
       "        text-align: right;\n",
       "    }\n",
       "</style>\n",
       "<table border=\"1\" class=\"dataframe\">\n",
       "  <thead>\n",
       "    <tr style=\"text-align: right;\">\n",
       "      <th></th>\n",
       "      <th>schedule_gtfs_dataset_key</th>\n",
       "      <th>route_id</th>\n",
       "      <th>direction_id</th>\n",
       "      <th>route_primary_direction</th>\n",
       "      <th>headway_minutes</th>\n",
       "    </tr>\n",
       "  </thead>\n",
       "  <tbody>\n",
       "    <tr>\n",
       "      <th>34</th>\n",
       "      <td>0666caf3ec1ecc96b74f4477ee4bc939</td>\n",
       "      <td>105-13172</td>\n",
       "      <td>0.00</td>\n",
       "      <td>Westbound</td>\n",
       "      <td>14.59</td>\n",
       "    </tr>\n",
       "  </tbody>\n",
       "</table>\n",
       "</div>"
      ],
      "text/plain": [
       "           schedule_gtfs_dataset_key   route_id  direction_id  \\\n",
       "34  0666caf3ec1ecc96b74f4477ee4bc939  105-13172          0.00   \n",
       "\n",
       "   route_primary_direction  headway_minutes  \n",
       "34               Westbound            14.59  "
      ]
     },
     "execution_count": 18,
     "metadata": {},
     "output_type": "execute_result"
    }
   ],
   "source": [
    "high_frequency_routes2.head(1)"
   ]
  },
  {
   "cell_type": "markdown",
   "id": "84741559-46a2-4a62-a6e2-8843771aea1f",
   "metadata": {},
   "source": [
    "#### Attach operators and districts"
   ]
  },
  {
   "cell_type": "code",
   "execution_count": 19,
   "id": "d9d562b4-7ce1-4ea5-bdba-e8e0abbc3815",
   "metadata": {},
   "outputs": [],
   "source": [
    "high_frequency_routes2 = pd.merge(\n",
    "    high_frequency_routes2, crosswalk_df, on=\"schedule_gtfs_dataset_key\", how=\"left\"\n",
    ")"
   ]
  },
  {
   "cell_type": "code",
   "execution_count": 20,
   "id": "b5382f3e-1f6e-45e9-b71d-1e0912251630",
   "metadata": {},
   "outputs": [
    {
     "data": {
      "text/plain": [
       "array(['Los Angeles County Metropolitan Transportation Authority',\n",
       "       'San Francisco International Airport',\n",
       "       'City and County of San Francisco',\n",
       "       'San Francisco Bay Area Rapid Transit District',\n",
       "       'Flagship Cruises and Events Inc.',\n",
       "       'Alameda-Contra Costa Transit District', 'City of Los Angeles',\n",
       "       'Santa Clara Valley Transportation Authority'], dtype=object)"
      ]
     },
     "execution_count": 20,
     "metadata": {},
     "output_type": "execute_result"
    }
   ],
   "source": [
    "high_frequency_routes2.organization_name.unique()"
   ]
  },
  {
   "cell_type": "code",
   "execution_count": 21,
   "id": "7488b00c-9760-4fe6-bf1b-6a82667e8824",
   "metadata": {},
   "outputs": [
    {
     "data": {
      "text/plain": [
       "array(['LA Metro Bus Schedule', 'LA Metro Rail Schedule',\n",
       "       'Bay Area 511 SFO AirTrain Schedule', 'Bay Area 511 Muni Schedule',\n",
       "       'Bay Area 511 BART Schedule', 'San Diego Schedule',\n",
       "       'Bay Area 511 AC Transit Schedule', 'LA DOT Schedule',\n",
       "       'Bay Area 511 Santa Clara Transit Schedule'], dtype=object)"
      ]
     },
     "execution_count": 21,
     "metadata": {},
     "output_type": "execute_result"
    }
   ],
   "source": [
    "high_frequency_routes2.name.unique()"
   ]
  },
  {
   "cell_type": "code",
   "execution_count": 22,
   "id": "e70835d0-4137-4597-aad2-7a04e5d8a2a9",
   "metadata": {},
   "outputs": [
    {
     "data": {
      "text/plain": [
       "array(['07 - Los Angeles', '04 - Oakland', '11 - San Diego'], dtype=object)"
      ]
     },
     "execution_count": 22,
     "metadata": {},
     "output_type": "execute_result"
    }
   ],
   "source": [
    "high_frequency_routes2.caltrans_district.unique()"
   ]
  },
  {
   "cell_type": "markdown",
   "id": "207670ea-105b-4b6a-be32-53bfcc79349b",
   "metadata": {},
   "source": [
    "### Get trips of high frequency routes"
   ]
  },
  {
   "cell_type": "code",
   "execution_count": 23,
   "id": "674f8ee6-3f6d-4f90-90ba-7ea9ee688b28",
   "metadata": {},
   "outputs": [],
   "source": [
    "TABLE = GTFS_DATA_DICT.schedule_downloads.trips"
   ]
  },
  {
   "cell_type": "code",
   "execution_count": 24,
   "id": "5333afa8-4849-4864-b253-b03a1093e84f",
   "metadata": {},
   "outputs": [],
   "source": [
    "FILE = f\"{COMPILED_CACHED_VIEWS}{TABLE}_{may_date}.parquet\""
   ]
  },
  {
   "cell_type": "code",
   "execution_count": 25,
   "id": "111e2c27-337d-4440-a1f6-10ec582a6f9e",
   "metadata": {},
   "outputs": [],
   "source": [
    "trips_subset = [\n",
    "    \"gtfs_dataset_key\",\n",
    "    \"route_id\",\n",
    "    \"trip_instance_key\",\n",
    "    \"shape_array_key\",\n",
    "    \"feed_key\",               \n",
    "    \"route_long_name\",\n",
    "    \"direction_id\",\n",
    "]"
   ]
  },
  {
   "cell_type": "code",
   "execution_count": 26,
   "id": "e1aed68a-0ed2-4da4-904a-cb91681e7f38",
   "metadata": {},
   "outputs": [],
   "source": [
    "trips = pd.read_parquet(FILE)[trips_subset].rename(\n",
    "    columns={\"gtfs_dataset_key\": \"schedule_gtfs_dataset_key\"}\n",
    ")"
   ]
  },
  {
   "cell_type": "code",
   "execution_count": 27,
   "id": "04901f96-76d5-4d99-b3d1-f174ef989357",
   "metadata": {},
   "outputs": [],
   "source": [
    "# Find only trips that belong to high frequency routes\n",
    "trips_freq_routes = pd.merge(\n",
    "    trips,\n",
    "    high_frequency_routes2,\n",
    "    on=[\"schedule_gtfs_dataset_key\", \"route_id\", \"direction_id\"],\n",
    "    how=\"inner\",\n",
    ")"
   ]
  },
  {
   "cell_type": "code",
   "execution_count": 28,
   "id": "1195177f-0215-4b24-9e47-dccfb3ee542e",
   "metadata": {},
   "outputs": [
    {
     "data": {
      "text/plain": [
       "(16205, 13)"
      ]
     },
     "execution_count": 28,
     "metadata": {},
     "output_type": "execute_result"
    }
   ],
   "source": [
    "trips_freq_routes.shape"
   ]
  },
  {
   "cell_type": "code",
   "execution_count": 29,
   "id": "96f76885-c4ad-4637-95d8-482ede0b7783",
   "metadata": {},
   "outputs": [
    {
     "data": {
      "text/plain": [
       "16205"
      ]
     },
     "execution_count": 29,
     "metadata": {},
     "output_type": "execute_result"
    }
   ],
   "source": [
    "trips_freq_routes.trip_instance_key.nunique()"
   ]
  },
  {
   "cell_type": "code",
   "execution_count": 30,
   "id": "de16d0ca-cf32-4db0-8344-637da4136df2",
   "metadata": {},
   "outputs": [
    {
     "data": {
      "text/plain": [
       "96391"
      ]
     },
     "execution_count": 30,
     "metadata": {},
     "output_type": "execute_result"
    }
   ],
   "source": [
    "trips.trip_instance_key.nunique()"
   ]
  },
  {
   "cell_type": "markdown",
   "id": "e3be8778-84ff-479f-a3b2-178e374da5f2",
   "metadata": {},
   "source": [
    "### `rt_stop_times2`: Get Stop Times of High Frequency Routes/Trips\n",
    "* What's the difference btwn `trip_id` and `trip_instance_key`?\n",
    "* Eric: <i>trip_instance_key is created by our warehouse (see Columns section), and is a composite including trip_id , service date, and feed URL in order to uniquely identify a specific trip while allowing for joins across schedule+RT. It’s probably the one to use here, but personally I sometimes like keeping trip_id around for context.</i>\n",
    "* Amanda: Drop `trip_id`."
   ]
  },
  {
   "cell_type": "code",
   "execution_count": 31,
   "id": "3f6727c6-205f-4cc8-8a68-42e8dec6e4b3",
   "metadata": {},
   "outputs": [],
   "source": [
    "rt_stop_times = pd.read_parquet(\n",
    "    \"gs://calitp-analytics-data/data-analyses/rt_vs_schedule/schedule_rt_stop_times_2024-05-22.parquet\"\n",
    ")"
   ]
  },
  {
   "cell_type": "code",
   "execution_count": 32,
   "id": "12c414e2-3cc3-48f3-b5e3-de174c29fa9d",
   "metadata": {},
   "outputs": [
    {
     "data": {
      "text/plain": [
       "_merge    \n",
       "left_only     2030399\n",
       "both           570863\n",
       "right_only       2274\n",
       "dtype: int64"
      ]
     },
     "execution_count": 32,
     "metadata": {},
     "output_type": "execute_result"
    }
   ],
   "source": [
    "# How is it possible to have right_only trips?\n",
    "pd.merge(\n",
    "    rt_stop_times,\n",
    "    trips_freq_routes,\n",
    "    on=[\n",
    "        \"schedule_gtfs_dataset_key\",\n",
    "        \"trip_instance_key\",\n",
    "    ],\n",
    "    how=\"outer\",\n",
    "    indicator=True,\n",
    ")[[\"_merge\"]].value_counts()"
   ]
  },
  {
   "cell_type": "code",
   "execution_count": 33,
   "id": "049a2833-f132-431a-8f44-92f31cd11d8a",
   "metadata": {},
   "outputs": [],
   "source": [
    "# Find only stop times of trips that belong to high frequency trips\n",
    "rt_stop_times2 = pd.merge(\n",
    "    rt_stop_times,\n",
    "    trips_freq_routes,\n",
    "    on=[\n",
    "        \"schedule_gtfs_dataset_key\",\n",
    "        \"trip_instance_key\",\n",
    "    ],\n",
    "    how=\"inner\",\n",
    ")"
   ]
  },
  {
   "cell_type": "code",
   "execution_count": 34,
   "id": "d1abbbd0-0cee-4f03-a4bb-497209a62498",
   "metadata": {},
   "outputs": [
    {
     "data": {
      "text/plain": [
       "(570863, 18)"
      ]
     },
     "execution_count": 34,
     "metadata": {},
     "output_type": "execute_result"
    }
   ],
   "source": [
    "rt_stop_times2.shape"
   ]
  },
  {
   "cell_type": "code",
   "execution_count": 35,
   "id": "6464ea15-574a-4976-a41f-26440f7ca1ed",
   "metadata": {},
   "outputs": [
    {
     "data": {
      "text/plain": [
       "(13931, 13931)"
      ]
     },
     "execution_count": 35,
     "metadata": {},
     "output_type": "execute_result"
    }
   ],
   "source": [
    "rt_stop_times2.trip_id.nunique(), rt_stop_times2.trip_instance_key.nunique()"
   ]
  },
  {
   "cell_type": "markdown",
   "id": "48737ec7-31be-4743-97ca-c6c000670a13",
   "metadata": {},
   "source": [
    "###  `rt_stop_times3`: Some scheduled arrival seconds span longer than a day: filter them out\n",
    "* Katrina: <i>I assume the scheduled arrival sec > 86400 are after midnight, don't need to throw these out. Does rt arrival sec behave the same way, or do you need to create a datetime?</i>\n",
    "* Eric: <i>agree w/ Katrina’s comments on handling seconds around midnight, I don’t know the actual answer but if rt_arrival_sec does in fact always go to 0 at midnight instead of sometimes going >86400 when schedule does you could use the % operator on the scheduled value like scheduled_arrival_sec % 86400</i>\n",
    "    * <b> Amanda: ask Eric again </b>."
   ]
  },
  {
   "cell_type": "markdown",
   "id": "39b6af77-b576-4bd1-8e35-dce3df94ada5",
   "metadata": {},
   "source": [
    "#### QUESTION: We want to retain rows that are scheduled to go past midnight even though the service date is going to be a day later?"
   ]
  },
  {
   "cell_type": "code",
   "execution_count": 36,
   "id": "4375926c-b9b1-4e2f-b909-df89dc8c5b11",
   "metadata": {},
   "outputs": [
    {
     "data": {
      "text/html": [
       "<div>\n",
       "<style scoped>\n",
       "    .dataframe tbody tr th:only-of-type {\n",
       "        vertical-align: middle;\n",
       "    }\n",
       "\n",
       "    .dataframe tbody tr th {\n",
       "        vertical-align: top;\n",
       "    }\n",
       "\n",
       "    .dataframe thead th {\n",
       "        text-align: right;\n",
       "    }\n",
       "</style>\n",
       "<table border=\"1\" class=\"dataframe\">\n",
       "  <thead>\n",
       "    <tr style=\"text-align: right;\">\n",
       "      <th></th>\n",
       "      <th>trip_id</th>\n",
       "      <th>stop_id</th>\n",
       "      <th>stop_sequence</th>\n",
       "      <th>scheduled_arrival_sec</th>\n",
       "      <th>schedule_gtfs_dataset_key</th>\n",
       "      <th>trip_instance_key</th>\n",
       "      <th>rt_arrival_sec</th>\n",
       "      <th>route_id</th>\n",
       "      <th>shape_array_key</th>\n",
       "      <th>feed_key</th>\n",
       "      <th>route_long_name</th>\n",
       "      <th>direction_id</th>\n",
       "      <th>route_primary_direction</th>\n",
       "      <th>headway_minutes</th>\n",
       "      <th>organization_name</th>\n",
       "      <th>name</th>\n",
       "      <th>caltrans_district</th>\n",
       "      <th>service_date</th>\n",
       "    </tr>\n",
       "  </thead>\n",
       "  <tbody>\n",
       "    <tr>\n",
       "      <th>0</th>\n",
       "      <td>183-63mc4zr4r</td>\n",
       "      <td>4896831</td>\n",
       "      <td>1</td>\n",
       "      <td>21780.00</td>\n",
       "      <td>cc53a0dbf5df90e3009b9cb5d89d80ba</td>\n",
       "      <td>fab32bd349f15ec26794b00fba264631</td>\n",
       "      <td>21704</td>\n",
       "      <td>4443</td>\n",
       "      <td>8eb6571f567f3cc3b1e34a5118fe1587</td>\n",
       "      <td>2cfdf0e33e9229d6b0ad124d956f5856</td>\n",
       "      <td>DASH B</td>\n",
       "      <td>0.00</td>\n",
       "      <td>Northbound</td>\n",
       "      <td>12.33</td>\n",
       "      <td>City of Los Angeles</td>\n",
       "      <td>LA DOT Schedule</td>\n",
       "      <td>07 - Los Angeles</td>\n",
       "      <td>2024-05-22</td>\n",
       "    </tr>\n",
       "    <tr>\n",
       "      <th>1</th>\n",
       "      <td>183-63mc4zr4r</td>\n",
       "      <td>4896804</td>\n",
       "      <td>14</td>\n",
       "      <td>22680.00</td>\n",
       "      <td>cc53a0dbf5df90e3009b9cb5d89d80ba</td>\n",
       "      <td>fab32bd349f15ec26794b00fba264631</td>\n",
       "      <td>22789</td>\n",
       "      <td>4443</td>\n",
       "      <td>8eb6571f567f3cc3b1e34a5118fe1587</td>\n",
       "      <td>2cfdf0e33e9229d6b0ad124d956f5856</td>\n",
       "      <td>DASH B</td>\n",
       "      <td>0.00</td>\n",
       "      <td>Northbound</td>\n",
       "      <td>12.33</td>\n",
       "      <td>City of Los Angeles</td>\n",
       "      <td>LA DOT Schedule</td>\n",
       "      <td>07 - Los Angeles</td>\n",
       "      <td>2024-05-22</td>\n",
       "    </tr>\n",
       "  </tbody>\n",
       "</table>\n",
       "</div>"
      ],
      "text/plain": [
       "         trip_id  stop_id  stop_sequence  scheduled_arrival_sec  \\\n",
       "0  183-63mc4zr4r  4896831              1               21780.00   \n",
       "1  183-63mc4zr4r  4896804             14               22680.00   \n",
       "\n",
       "          schedule_gtfs_dataset_key                 trip_instance_key  \\\n",
       "0  cc53a0dbf5df90e3009b9cb5d89d80ba  fab32bd349f15ec26794b00fba264631   \n",
       "1  cc53a0dbf5df90e3009b9cb5d89d80ba  fab32bd349f15ec26794b00fba264631   \n",
       "\n",
       "   rt_arrival_sec route_id                   shape_array_key  \\\n",
       "0           21704     4443  8eb6571f567f3cc3b1e34a5118fe1587   \n",
       "1           22789     4443  8eb6571f567f3cc3b1e34a5118fe1587   \n",
       "\n",
       "                           feed_key route_long_name  direction_id  \\\n",
       "0  2cfdf0e33e9229d6b0ad124d956f5856          DASH B          0.00   \n",
       "1  2cfdf0e33e9229d6b0ad124d956f5856          DASH B          0.00   \n",
       "\n",
       "  route_primary_direction  headway_minutes    organization_name  \\\n",
       "0              Northbound            12.33  City of Los Angeles   \n",
       "1              Northbound            12.33  City of Los Angeles   \n",
       "\n",
       "              name caltrans_district service_date  \n",
       "0  LA DOT Schedule  07 - Los Angeles   2024-05-22  \n",
       "1  LA DOT Schedule  07 - Los Angeles   2024-05-22  "
      ]
     },
     "execution_count": 36,
     "metadata": {},
     "output_type": "execute_result"
    }
   ],
   "source": [
    "rt_stop_times2.head(2)"
   ]
  },
  {
   "cell_type": "code",
   "execution_count": 37,
   "id": "269116cd-242f-4834-a2fa-08f4ae94f14d",
   "metadata": {},
   "outputs": [
    {
     "data": {
      "text/plain": [
       "count   570863.00\n",
       "mean     50485.85\n",
       "std      19482.84\n",
       "min       9420.00\n",
       "25%      34140.00\n",
       "50%      49680.00\n",
       "75%      64260.00\n",
       "max     108431.00\n",
       "Name: scheduled_arrival_sec, dtype: float64"
      ]
     },
     "execution_count": 37,
     "metadata": {},
     "output_type": "execute_result"
    }
   ],
   "source": [
    "rt_stop_times2.scheduled_arrival_sec.describe()"
   ]
  },
  {
   "cell_type": "code",
   "execution_count": 38,
   "id": "f7ce24f7-632a-4428-aa89-a62fb77b7579",
   "metadata": {},
   "outputs": [
    {
     "data": {
      "text/plain": [
       "count   570863.00\n",
       "mean     46860.22\n",
       "std      19179.60\n",
       "min          0.00\n",
       "25%      31705.00\n",
       "50%      47060.00\n",
       "75%      61941.00\n",
       "max      86399.00\n",
       "Name: rt_arrival_sec, dtype: float64"
      ]
     },
     "execution_count": 38,
     "metadata": {},
     "output_type": "execute_result"
    }
   ],
   "source": [
    "rt_stop_times2.rt_arrival_sec.describe()"
   ]
  },
  {
   "cell_type": "code",
   "execution_count": 39,
   "id": "daae9784-aa88-4dd7-b2dd-56a0743aa1b7",
   "metadata": {},
   "outputs": [],
   "source": [
    "#rt_stop_times3 = rt_stop_times2.loc[\n",
    "#    rt_stop_times2.scheduled_arrival_sec < 86400\n",
    "#].reset_index(drop=True)"
   ]
  },
  {
   "cell_type": "code",
   "execution_count": 40,
   "id": "6be0484b-0b08-4a09-a6ce-28b31463889a",
   "metadata": {},
   "outputs": [],
   "source": [
    "#rt_stop_times3.scheduled_arrival_sec.describe()"
   ]
  },
  {
   "cell_type": "markdown",
   "id": "b15440a8-298b-4943-bf59-bc79e9977c3a",
   "metadata": {},
   "source": [
    "### `rt_stop_times4`: Sort so `stop sequence` for the `operator-stop_id-route-id_direction_id` will be in order.\n",
    "* Comparing bunching by STOP, so we have to look at the `stop sequence-stop_id.`\n",
    "* Katrina: <i>Maybe you want to sort  by rt arrival seconds instead of scheduled?</i>"
   ]
  },
  {
   "cell_type": "markdown",
   "id": "e5b7d397-0479-447e-9410-c2a4125e93d4",
   "metadata": {},
   "source": [
    "#### QUESTION: Go over sorting conundrum"
   ]
  },
  {
   "cell_type": "code",
   "execution_count": 41,
   "id": "0ef36e93-79ed-4f86-b16a-9d28d90aea1a",
   "metadata": {},
   "outputs": [],
   "source": [
    "# Rearrange: I want the stop sequence to be 1,2,3,4.\n",
    "# stop ids can differ between trips of the same route and the same stop sequence is the same\n",
    "rt_stop_times4 = rt_stop_times2.sort_values(\n",
    "    by=[\n",
    "        \"schedule_gtfs_dataset_key\",\n",
    "        \"route_id\",\n",
    "        \"shape_array_key\",\n",
    "        \"direction_id\",\n",
    "        \"stop_sequence\",\n",
    "        \"rt_arrival_sec\",\n",
    "    ]\n",
    ").reset_index(drop=True)"
   ]
  },
  {
   "cell_type": "code",
   "execution_count": 42,
   "id": "34428686-98f8-40e4-b181-13e255931f3d",
   "metadata": {},
   "outputs": [],
   "source": [
    "# Make sure sorting is right\n",
    "fillmore_stop_seq_13 = rt_stop_times4.loc[\n",
    "    (rt_stop_times4.shape_array_key == \"1b678a66d0009c55bc573cfc37aa1029\")\n",
    "    & (rt_stop_times4.stop_id == \"13086\")\n",
    "    & (rt_stop_times4.direction_id == 0)\n",
    "]"
   ]
  },
  {
   "cell_type": "markdown",
   "id": "8688ab7f-d944-4327-9942-83e56e9f8334",
   "metadata": {},
   "source": [
    "#### QUESTION: Keeping rows that are scheduled to arrive past midnight...becomes confusing? Is this leaving at 11 the night before the servie date and arriving at 12 am on the service date? \n",
    "* RT Arrival Sec: If I add 84,000 to this, then it becomes 86,000 which means it is around on time.\n"
   ]
  },
  {
   "cell_type": "code",
   "execution_count": 43,
   "id": "fda8ec33-17ea-47ac-a16f-21589c5105f6",
   "metadata": {},
   "outputs": [
    {
     "data": {
      "text/plain": [
       "3600"
      ]
     },
     "execution_count": 43,
     "metadata": {},
     "output_type": "execute_result"
    }
   ],
   "source": [
    "60 * 60"
   ]
  },
  {
   "cell_type": "code",
   "execution_count": 85,
   "id": "bb6e43a4-a97a-48e1-b3c4-f313b45f77e1",
   "metadata": {},
   "outputs": [
    {
     "data": {
      "text/html": [
       "<div>\n",
       "<style scoped>\n",
       "    .dataframe tbody tr th:only-of-type {\n",
       "        vertical-align: middle;\n",
       "    }\n",
       "\n",
       "    .dataframe tbody tr th {\n",
       "        vertical-align: top;\n",
       "    }\n",
       "\n",
       "    .dataframe thead th {\n",
       "        text-align: right;\n",
       "    }\n",
       "</style>\n",
       "<table border=\"1\" class=\"dataframe\">\n",
       "  <thead>\n",
       "    <tr style=\"text-align: right;\">\n",
       "      <th></th>\n",
       "      <th>scheduled_arrival_sec</th>\n",
       "      <th>rt_arrival_sec</th>\n",
       "    </tr>\n",
       "  </thead>\n",
       "  <tbody>\n",
       "    <tr>\n",
       "      <th>416342</th>\n",
       "      <td>88699.00</td>\n",
       "      <td>2669</td>\n",
       "    </tr>\n",
       "    <tr>\n",
       "      <th>416343</th>\n",
       "      <td>89299.00</td>\n",
       "      <td>3151</td>\n",
       "    </tr>\n",
       "    <tr>\n",
       "      <th>416344</th>\n",
       "      <td>67199.00</td>\n",
       "      <td>67051</td>\n",
       "    </tr>\n",
       "    <tr>\n",
       "      <th>416345</th>\n",
       "      <td>69106.00</td>\n",
       "      <td>69048</td>\n",
       "    </tr>\n",
       "    <tr>\n",
       "      <th>416346</th>\n",
       "      <td>69466.00</td>\n",
       "      <td>69723</td>\n",
       "    </tr>\n",
       "    <tr>\n",
       "      <th>416347</th>\n",
       "      <td>70006.00</td>\n",
       "      <td>70421</td>\n",
       "    </tr>\n",
       "    <tr>\n",
       "      <th>416348</th>\n",
       "      <td>72992.00</td>\n",
       "      <td>73064</td>\n",
       "    </tr>\n",
       "    <tr>\n",
       "      <th>416349</th>\n",
       "      <td>74432.00</td>\n",
       "      <td>75434</td>\n",
       "    </tr>\n",
       "    <tr>\n",
       "      <th>416350</th>\n",
       "      <td>75872.00</td>\n",
       "      <td>75943</td>\n",
       "    </tr>\n",
       "  </tbody>\n",
       "</table>\n",
       "</div>"
      ],
      "text/plain": [
       "        scheduled_arrival_sec  rt_arrival_sec\n",
       "416342               88699.00            2669\n",
       "416343               89299.00            3151\n",
       "416344               67199.00           67051\n",
       "416345               69106.00           69048\n",
       "416346               69466.00           69723\n",
       "416347               70006.00           70421\n",
       "416348               72992.00           73064\n",
       "416349               74432.00           75434\n",
       "416350               75872.00           75943"
      ]
     },
     "execution_count": 85,
     "metadata": {},
     "output_type": "execute_result"
    }
   ],
   "source": [
    "fillmore_stop_seq_13[['scheduled_arrival_sec','rt_arrival_sec']]"
   ]
  },
  {
   "cell_type": "markdown",
   "id": "8a83b6e8-fbab-4ce2-b91e-bf32890bda18",
   "metadata": {},
   "source": [
    "### Calculate the difference btwn actual vs scheduled arrival."
   ]
  },
  {
   "cell_type": "code",
   "execution_count": 45,
   "id": "dcb53dcc-95e1-41fc-961b-da222c6e4580",
   "metadata": {},
   "outputs": [],
   "source": [
    "def check_delay(df):\n",
    "    df = df.assign(delay=df.rt_arrival_sec - df.scheduled_arrival_sec)\n",
    "\n",
    "    print(df.delay.describe(percentiles=[0.05, 0.1, 0.9, 0.95]))\n",
    "\n",
    "    max_delay_min = df.delay.max() / 60\n",
    "    p95_delay_min = df.delay.quantile(q=0.95) / 60\n",
    "\n",
    "    min_delay_min = df.delay.min() / 60\n",
    "    p5_delay_min = df.delay.quantile(q=0.05) / 60\n",
    "\n",
    "    print(f\"min / max delay (minutes):{min_delay_min:.2f},{min_delay_min:.2f}\")\n",
    "    print(f\"5th / 95th delay (minutes):{p5_delay_min:.2f}, {p95_delay_min:.2f}\")\n",
    "\n",
    "    return df"
   ]
  },
  {
   "cell_type": "code",
   "execution_count": 46,
   "id": "e6c251c4-a7e9-475e-8f58-9ce98f2016b8",
   "metadata": {},
   "outputs": [
    {
     "name": "stdout",
     "output_type": "stream",
     "text": [
      "count   570863.00\n",
      "mean     -3625.63\n",
      "std      17678.59\n",
      "min     -89501.00\n",
      "5%        -380.00\n",
      "10%       -147.80\n",
      "50%         74.00\n",
      "90%        494.00\n",
      "95%        695.00\n",
      "max      35879.00\n",
      "Name: delay, dtype: float64\n",
      "min / max delay (minutes):-1491.68,-1491.68\n",
      "5th / 95th delay (minutes):-6.33, 11.58\n"
     ]
    }
   ],
   "source": [
    "rt_stop_times4 = check_delay(rt_stop_times4)"
   ]
  },
  {
   "cell_type": "markdown",
   "id": "6aed2f18-b89c-4269-beda-9d12b6b56082",
   "metadata": {},
   "source": [
    "### `rt_stop_times5`: Filter out values in `delay` that are in the 1 hour zone\n",
    "* Actual times should not exceed more than an hour or less than hour.\n",
    "* Katrina: <i>I am not sure if you need to throw out \">1 hour delay\" trips, the customer experience we're interested in is actual wait times between stop arrivals</i>\n",
    "    "
   ]
  },
  {
   "cell_type": "markdown",
   "id": "927b750f-97ae-4c09-9f5e-3613fc6bd52e",
   "metadata": {},
   "source": [
    "#### QUESTION: forgot why Tiffany does this but she generally throws out delays that are ~one hour. I will clarify w/ her again but should we follow this convention if she does indeed throw away stuff?</b>."
   ]
  },
  {
   "cell_type": "code",
   "execution_count": 47,
   "id": "bbd1cbc3-9762-44b8-a564-c33e57879d10",
   "metadata": {},
   "outputs": [],
   "source": [
    "# Filter to only delays that are an hour or less\n",
    "rt_stop_times5 = rt_stop_times4[rt_stop_times4[\"delay\"] <= 3600].reset_index(drop=True)"
   ]
  },
  {
   "cell_type": "code",
   "execution_count": 48,
   "id": "9c19be36-0e5b-428d-bc4f-da52821208f4",
   "metadata": {},
   "outputs": [],
   "source": [
    "# Filter to only delays that are no less than\n",
    "rt_stop_times5 = rt_stop_times5[rt_stop_times5[\"delay\"] >= -3600].reset_index(drop=True)"
   ]
  },
  {
   "cell_type": "code",
   "execution_count": 49,
   "id": "813c65e5-8ee6-4896-82d7-c3e6dec8a92f",
   "metadata": {},
   "outputs": [
    {
     "data": {
      "text/plain": [
       "(545608, 19)"
      ]
     },
     "execution_count": 49,
     "metadata": {},
     "output_type": "execute_result"
    }
   ],
   "source": [
    "rt_stop_times5.shape"
   ]
  },
  {
   "cell_type": "code",
   "execution_count": 50,
   "id": "f82d3e09-205e-4458-a9fa-d9e3096c366b",
   "metadata": {},
   "outputs": [
    {
     "data": {
      "text/plain": [
       "(570863, 19)"
      ]
     },
     "execution_count": 50,
     "metadata": {},
     "output_type": "execute_result"
    }
   ],
   "source": [
    "rt_stop_times4.shape"
   ]
  },
  {
   "cell_type": "markdown",
   "id": "81bd753a-08ee-4d09-ac79-213e1e605405",
   "metadata": {},
   "source": [
    "### Calculate the actual headway the `operator-route-direction_id-stop_sequence-stop_id-` grain\n",
    "#### QUESTION: Do I need to include feed key and shape array key? What is `feed_key` and how does it differ from `schedule_gtfs_dataset_key`? Still need help</b>"
   ]
  },
  {
   "cell_type": "code",
   "execution_count": 51,
   "id": "b9171520-7358-4f22-9d9c-c5156e710f1b",
   "metadata": {},
   "outputs": [],
   "source": [
    "groupby_cols = [\n",
    "    \"schedule_gtfs_dataset_key\",\n",
    "    \"route_id\",\n",
    "    \"shape_array_key\",\n",
    "    \"direction_id\",\n",
    "    \"route_primary_direction\",\n",
    "    \"stop_sequence\",\n",
    "    \"stop_id\",\n",
    "]"
   ]
  },
  {
   "cell_type": "code",
   "execution_count": 52,
   "id": "f5b62023-ab77-4634-a526-3d822bb7a63f",
   "metadata": {},
   "outputs": [],
   "source": [
    "# Subtract rt_arrival_sec from the previous row to the target row\n",
    "# using groupby columns\n",
    "rt_stop_times4[\"actual_headway\"] = rt_stop_times4.groupby(groupby_cols)[\n",
    "    \"rt_arrival_sec\"\n",
    "].diff()"
   ]
  },
  {
   "cell_type": "markdown",
   "id": "0c9377cb-cb25-43da-9f3b-752a8107b6b7",
   "metadata": {},
   "source": [
    "### Calculate scheduled headway\n",
    "* Using the same grain."
   ]
  },
  {
   "cell_type": "code",
   "execution_count": 53,
   "id": "6328c5fb-205e-4a78-a3d3-62fafa88a4cd",
   "metadata": {},
   "outputs": [],
   "source": [
    "rt_stop_times4[\"schd_headway\"] = rt_stop_times4.groupby(groupby_cols)[\n",
    "    \"scheduled_arrival_sec\"\n",
    "].diff()"
   ]
  },
  {
   "cell_type": "markdown",
   "id": "8a5f6f72-d463-4076-80ce-d22ab1f718b1",
   "metadata": {},
   "source": [
    "### Delete out rows that are `nan`??\n",
    "* I am not sure if `nans` impact calculations of the mean scheduled headway and whatnot?\n",
    "* These `nans` are because the first `operator-route-stop_id-stop_sequence` combo won't have anything to compare it to.\n",
    "* Katrina: <i>I would fill in the actual/schedule headway columns with 0 rather than dropping the first row  in each grouping. I wonder if it makes sense to use a more descriptive column name than headway, such as \"minutes since last vehicle\"</i>\n",
    "#### QUESTION: instead of `actual_headway` I would name the column as `actual_secs_since_last_vehicle`?"
   ]
  },
  {
   "cell_type": "code",
   "execution_count": 54,
   "id": "6603e96d-085d-460f-965f-ba01a10f6dbc",
   "metadata": {},
   "outputs": [],
   "source": [
    "rt_stop_times4 = rt_stop_times4.fillna(0)"
   ]
  },
  {
   "cell_type": "code",
   "execution_count": 55,
   "id": "6f2b7b95-b83b-460b-9d43-814bb62a40a6",
   "metadata": {},
   "outputs": [
    {
     "name": "stdout",
     "output_type": "stream",
     "text": [
      "<class 'pandas.core.frame.DataFrame'>\n",
      "RangeIndex: 570863 entries, 0 to 570862\n",
      "Data columns (total 21 columns):\n",
      " #   Column                     Non-Null Count   Dtype         \n",
      "---  ------                     --------------   -----         \n",
      " 0   trip_id                    570863 non-null  object        \n",
      " 1   stop_id                    570863 non-null  object        \n",
      " 2   stop_sequence              570863 non-null  int64         \n",
      " 3   scheduled_arrival_sec      570863 non-null  float64       \n",
      " 4   schedule_gtfs_dataset_key  570863 non-null  object        \n",
      " 5   trip_instance_key          570863 non-null  object        \n",
      " 6   rt_arrival_sec             570863 non-null  int64         \n",
      " 7   route_id                   570863 non-null  object        \n",
      " 8   shape_array_key            570863 non-null  object        \n",
      " 9   feed_key                   570863 non-null  object        \n",
      " 10  route_long_name            570863 non-null  object        \n",
      " 11  direction_id               570863 non-null  float64       \n",
      " 12  route_primary_direction    570863 non-null  object        \n",
      " 13  headway_minutes            570863 non-null  float64       \n",
      " 14  organization_name          570863 non-null  object        \n",
      " 15  name                       570863 non-null  object        \n",
      " 16  caltrans_district          570863 non-null  object        \n",
      " 17  service_date               570863 non-null  datetime64[ns]\n",
      " 18  delay                      570863 non-null  float64       \n",
      " 19  actual_headway             570863 non-null  float64       \n",
      " 20  schd_headway               570863 non-null  float64       \n",
      "dtypes: datetime64[ns](1), float64(6), int64(2), object(12)\n",
      "memory usage: 91.5+ MB\n"
     ]
    }
   ],
   "source": [
    "rt_stop_times4.info()"
   ]
  },
  {
   "cell_type": "markdown",
   "id": "e16aa0ce-32dc-41ae-9c24-baacf95c2faf",
   "metadata": {},
   "source": [
    "### `rt_stop_times6`: Delete out the rows in which `actual_headway` and `schd_headway` are `nan`: this is basically the first row of each grain\n",
    "* Katrina: <i>I would fill in the actual/schedule headway columns with 0 rather than dropping the first row  in each grouping. I wonder if it makes sense to use a more descriptive column name than headway, such as \"minutes since last vehicle\"</i>"
   ]
  },
  {
   "cell_type": "code",
   "execution_count": 56,
   "id": "f0f0f4b7-fa64-4b01-a141-5dd78c59693b",
   "metadata": {},
   "outputs": [],
   "source": [
    "transit_matters_df1 = rt_stop_times4.copy()"
   ]
  },
  {
   "cell_type": "code",
   "execution_count": 57,
   "id": "7bea63e5-45d0-4d06-8c1c-fd34a69ffde7",
   "metadata": {},
   "outputs": [],
   "source": [
    "transit_matters_df1[\"pct_actual_schd_headway\"] = (\n",
    "    transit_matters_df1.actual_headway / transit_matters_df1.schd_headway\n",
    ")"
   ]
  },
  {
   "cell_type": "code",
   "execution_count": 58,
   "id": "c67c6299-68f0-414f-a9c1-e0b27511b9e5",
   "metadata": {},
   "outputs": [],
   "source": [
    "import numpy as np\n",
    "\n",
    "transit_matters_df1[\"bunched_y_n\"] = np.where(\n",
    "    transit_matters_df1[\"pct_actual_schd_headway\"] < 0.25, \"bunched\", \"not bunched\"\n",
    ")"
   ]
  },
  {
   "cell_type": "markdown",
   "id": "b3fdb4cb-fb86-4b76-85f1-7451a4ef7dbe",
   "metadata": {},
   "source": [
    "#### There are some very extreme values: how to deal with this?\n"
   ]
  },
  {
   "cell_type": "code",
   "execution_count": 59,
   "id": "70bc7bfe-2306-498a-b0d7-e012d266d5fc",
   "metadata": {},
   "outputs": [
    {
     "data": {
      "text/plain": [
       "count   551529.00\n",
       "mean         0.92\n",
       "std          0.63\n",
       "min        -31.64\n",
       "25%          0.77\n",
       "50%          0.98\n",
       "75%          1.15\n",
       "max         10.62\n",
       "Name: pct_actual_schd_headway, dtype: float64"
      ]
     },
     "execution_count": 59,
     "metadata": {},
     "output_type": "execute_result"
    }
   ],
   "source": [
    "transit_matters_df1.pct_actual_schd_headway.describe()"
   ]
  },
  {
   "cell_type": "code",
   "execution_count": 60,
   "id": "c3b62e33-313a-4f97-a1f5-37101abe7db8",
   "metadata": {},
   "outputs": [
    {
     "data": {
      "text/plain": [
       "19184"
      ]
     },
     "execution_count": 60,
     "metadata": {},
     "output_type": "execute_result"
    }
   ],
   "source": [
    "len(transit_matters_df1.loc[transit_matters_df1.pct_actual_schd_headway < 0])"
   ]
  },
  {
   "cell_type": "code",
   "execution_count": 61,
   "id": "d7d56ce7-66e9-4084-a725-a9eff7c4c5b2",
   "metadata": {},
   "outputs": [
    {
     "data": {
      "text/plain": [
       "not bunched   0.93\n",
       "bunched       0.07\n",
       "Name: bunched_y_n, dtype: float64"
      ]
     },
     "execution_count": 61,
     "metadata": {},
     "output_type": "execute_result"
    }
   ],
   "source": [
    "transit_matters_df1.bunched_y_n.value_counts() / len(transit_matters_df1)"
   ]
  },
  {
   "cell_type": "code",
   "execution_count": 62,
   "id": "ee874ad7-e2c5-4a4a-8e79-ac79d9d49f30",
   "metadata": {},
   "outputs": [],
   "source": [
    "sf_38r_test = transit_matters_df1.loc[\n",
    "    (transit_matters_df1.stop_id == \"14295\")\n",
    "    & (\n",
    "        transit_matters_df1.schedule_gtfs_dataset_key\n",
    "        == \"7cc0cb1871dfd558f11a2885c145d144\"\n",
    "    )\n",
    "    & (transit_matters_df1.stop_sequence == 11)\n",
    "    & (transit_matters_df1.route_id == \"38R\")\n",
    "]"
   ]
  },
  {
   "cell_type": "code",
   "execution_count": 63,
   "id": "099f0701-ed36-46fe-9479-88021d9f3bdb",
   "metadata": {},
   "outputs": [],
   "source": [
    "# Row 444797: scheduled to arrive at 69480, but actually arrives 69890"
   ]
  },
  {
   "cell_type": "markdown",
   "id": "869ea449-b2b2-40a9-96fc-dd963b9f21ed",
   "metadata": {},
   "source": [
    "#### QUESTION: Wonder if I should convert time stamps to hours so it's at least in military time instead of seconds? Although I'm not really sure if this is sound."
   ]
  },
  {
   "cell_type": "code",
   "execution_count": 64,
   "id": "aef09625-a050-463b-8a60-f15dc7839520",
   "metadata": {},
   "outputs": [
    {
     "name": "stderr",
     "output_type": "stream",
     "text": [
      "/tmp/ipykernel_392/4183563216.py:1: SettingWithCopyWarning: \n",
      "A value is trying to be set on a copy of a slice from a DataFrame.\n",
      "Try using .loc[row_indexer,col_indexer] = value instead\n",
      "\n",
      "See the caveats in the documentation: https://pandas.pydata.org/pandas-docs/stable/user_guide/indexing.html#returning-a-view-versus-a-copy\n",
      "  sf_38r_test['sched_arrival_min'] = sf_38r_test.scheduled_arrival_sec/60\n"
     ]
    }
   ],
   "source": [
    "sf_38r_test['sched_arrival_min'] = sf_38r_test.scheduled_arrival_sec/60"
   ]
  },
  {
   "cell_type": "code",
   "execution_count": 65,
   "id": "6658bb0f-0b3f-4dc2-914c-b144f785d608",
   "metadata": {},
   "outputs": [
    {
     "name": "stderr",
     "output_type": "stream",
     "text": [
      "/tmp/ipykernel_392/1065067204.py:1: SettingWithCopyWarning: \n",
      "A value is trying to be set on a copy of a slice from a DataFrame.\n",
      "Try using .loc[row_indexer,col_indexer] = value instead\n",
      "\n",
      "See the caveats in the documentation: https://pandas.pydata.org/pandas-docs/stable/user_guide/indexing.html#returning-a-view-versus-a-copy\n",
      "  sf_38r_test['rt_arrival_min'] = sf_38r_test.rt_arrival_sec/60\n"
     ]
    }
   ],
   "source": [
    "sf_38r_test['rt_arrival_min'] = sf_38r_test.rt_arrival_sec/60"
   ]
  },
  {
   "cell_type": "code",
   "execution_count": 66,
   "id": "9bba60cc-c879-441d-9f50-b0e6ac7a5b90",
   "metadata": {},
   "outputs": [
    {
     "name": "stderr",
     "output_type": "stream",
     "text": [
      "/tmp/ipykernel_392/4232680877.py:1: SettingWithCopyWarning: \n",
      "A value is trying to be set on a copy of a slice from a DataFrame.\n",
      "Try using .loc[row_indexer,col_indexer] = value instead\n",
      "\n",
      "See the caveats in the documentation: https://pandas.pydata.org/pandas-docs/stable/user_guide/indexing.html#returning-a-view-versus-a-copy\n",
      "  sf_38r_test['actual_headway_min'] = sf_38r_test.actual_headway/60\n"
     ]
    }
   ],
   "source": [
    "sf_38r_test['actual_headway_min'] = sf_38r_test.actual_headway/60"
   ]
  },
  {
   "cell_type": "code",
   "execution_count": 67,
   "id": "20963551-f43d-475f-a307-6b30234b73a8",
   "metadata": {},
   "outputs": [
    {
     "name": "stderr",
     "output_type": "stream",
     "text": [
      "/tmp/ipykernel_392/3254353426.py:1: SettingWithCopyWarning: \n",
      "A value is trying to be set on a copy of a slice from a DataFrame.\n",
      "Try using .loc[row_indexer,col_indexer] = value instead\n",
      "\n",
      "See the caveats in the documentation: https://pandas.pydata.org/pandas-docs/stable/user_guide/indexing.html#returning-a-view-versus-a-copy\n",
      "  sf_38r_test['schd_headway_min'] = sf_38r_test.schd_headway/60\n"
     ]
    }
   ],
   "source": [
    "sf_38r_test['schd_headway_min'] = sf_38r_test.schd_headway/60"
   ]
  },
  {
   "cell_type": "markdown",
   "id": "35dcae57-16a0-4aad-9247-084b54fee2ad",
   "metadata": {},
   "source": [
    "#### QUESTION: some of the sorting is funky if I sort by `rt_arrival` by seconds. \n",
    "* Row # 466579 was arrived earlier than it was supposed to. \n",
    "* Row # 466580 was scheduled to arrive before row # 466579 but it actually arrived later. \n",
    "* How should we sort this? I think we should still sort by scheduled arrival since we want to compare how accurately a bus sticks to its schedule?"
   ]
  },
  {
   "cell_type": "code",
   "execution_count": 70,
   "id": "dc43f71d-8f7b-4536-9d15-14a11703fa3d",
   "metadata": {
    "tags": []
   },
   "outputs": [
    {
     "data": {
      "text/html": [
       "<div>\n",
       "<style scoped>\n",
       "    .dataframe tbody tr th:only-of-type {\n",
       "        vertical-align: middle;\n",
       "    }\n",
       "\n",
       "    .dataframe tbody tr th {\n",
       "        vertical-align: top;\n",
       "    }\n",
       "\n",
       "    .dataframe thead th {\n",
       "        text-align: right;\n",
       "    }\n",
       "</style>\n",
       "<table border=\"1\" class=\"dataframe\">\n",
       "  <thead>\n",
       "    <tr style=\"text-align: right;\">\n",
       "      <th></th>\n",
       "      <th>sched_arrival_min</th>\n",
       "      <th>rt_arrival_min</th>\n",
       "      <th>actual_headway_min</th>\n",
       "      <th>schd_headway_min</th>\n",
       "      <th>pct_actual_schd_headway</th>\n",
       "    </tr>\n",
       "  </thead>\n",
       "  <tbody>\n",
       "    <tr>\n",
       "      <th>466578</th>\n",
       "      <td>1290.00</td>\n",
       "      <td>1293.37</td>\n",
       "      <td>15.28</td>\n",
       "      <td>10.00</td>\n",
       "      <td>1.53</td>\n",
       "    </tr>\n",
       "    <tr>\n",
       "      <th>466579</th>\n",
       "      <td>1314.00</td>\n",
       "      <td>1311.37</td>\n",
       "      <td>18.00</td>\n",
       "      <td>24.00</td>\n",
       "      <td>0.75</td>\n",
       "    </tr>\n",
       "    <tr>\n",
       "      <th>466580</th>\n",
       "      <td>1302.00</td>\n",
       "      <td>1315.93</td>\n",
       "      <td>4.57</td>\n",
       "      <td>-12.00</td>\n",
       "      <td>-0.38</td>\n",
       "    </tr>\n",
       "    <tr>\n",
       "      <th>466581</th>\n",
       "      <td>1326.00</td>\n",
       "      <td>1324.37</td>\n",
       "      <td>8.43</td>\n",
       "      <td>24.00</td>\n",
       "      <td>0.35</td>\n",
       "    </tr>\n",
       "    <tr>\n",
       "      <th>466582</th>\n",
       "      <td>1338.00</td>\n",
       "      <td>1351.82</td>\n",
       "      <td>27.45</td>\n",
       "      <td>12.00</td>\n",
       "      <td>2.29</td>\n",
       "    </tr>\n",
       "  </tbody>\n",
       "</table>\n",
       "</div>"
      ],
      "text/plain": [
       "        sched_arrival_min  rt_arrival_min  actual_headway_min  \\\n",
       "466578            1290.00         1293.37               15.28   \n",
       "466579            1314.00         1311.37               18.00   \n",
       "466580            1302.00         1315.93                4.57   \n",
       "466581            1326.00         1324.37                8.43   \n",
       "466582            1338.00         1351.82               27.45   \n",
       "\n",
       "        schd_headway_min  pct_actual_schd_headway  \n",
       "466578             10.00                     1.53  \n",
       "466579             24.00                     0.75  \n",
       "466580            -12.00                    -0.38  \n",
       "466581             24.00                     0.35  \n",
       "466582             12.00                     2.29  "
      ]
     },
     "execution_count": 70,
     "metadata": {},
     "output_type": "execute_result"
    }
   ],
   "source": [
    "sf_38r_test[['sched_arrival_min','rt_arrival_min','actual_headway_min', 'schd_headway_min', 'pct_actual_schd_headway']].tail(5)"
   ]
  },
  {
   "cell_type": "markdown",
   "id": "3bbf49be-6ec9-41a7-b14e-a74b5fff49d6",
   "metadata": {},
   "source": [
    "* Row 466475 was scheduled to arrive after row 466476"
   ]
  },
  {
   "cell_type": "code",
   "execution_count": 69,
   "id": "94e8a908-4389-42e4-8176-c5bca31e7387",
   "metadata": {},
   "outputs": [
    {
     "data": {
      "text/html": [
       "<div>\n",
       "<style scoped>\n",
       "    .dataframe tbody tr th:only-of-type {\n",
       "        vertical-align: middle;\n",
       "    }\n",
       "\n",
       "    .dataframe tbody tr th {\n",
       "        vertical-align: top;\n",
       "    }\n",
       "\n",
       "    .dataframe thead th {\n",
       "        text-align: right;\n",
       "    }\n",
       "</style>\n",
       "<table border=\"1\" class=\"dataframe\">\n",
       "  <thead>\n",
       "    <tr style=\"text-align: right;\">\n",
       "      <th></th>\n",
       "      <th>sched_arrival_min</th>\n",
       "      <th>rt_arrival_min</th>\n",
       "      <th>actual_headway_min</th>\n",
       "      <th>schd_headway_min</th>\n",
       "      <th>pct_actual_schd_headway</th>\n",
       "    </tr>\n",
       "  </thead>\n",
       "  <tbody>\n",
       "    <tr>\n",
       "      <th>466474</th>\n",
       "      <td>583.00</td>\n",
       "      <td>581.88</td>\n",
       "      <td>1.78</td>\n",
       "      <td>6.00</td>\n",
       "      <td>0.30</td>\n",
       "    </tr>\n",
       "    <tr>\n",
       "      <th>466475</th>\n",
       "      <td>595.00</td>\n",
       "      <td>593.37</td>\n",
       "      <td>11.48</td>\n",
       "      <td>12.00</td>\n",
       "      <td>0.96</td>\n",
       "    </tr>\n",
       "    <tr>\n",
       "      <th>466476</th>\n",
       "      <td>589.00</td>\n",
       "      <td>596.38</td>\n",
       "      <td>3.02</td>\n",
       "      <td>-6.00</td>\n",
       "      <td>-0.50</td>\n",
       "    </tr>\n",
       "    <tr>\n",
       "      <th>466477</th>\n",
       "      <td>601.00</td>\n",
       "      <td>603.00</td>\n",
       "      <td>6.62</td>\n",
       "      <td>12.00</td>\n",
       "      <td>0.55</td>\n",
       "    </tr>\n",
       "  </tbody>\n",
       "</table>\n",
       "</div>"
      ],
      "text/plain": [
       "        sched_arrival_min  rt_arrival_min  actual_headway_min  \\\n",
       "466474             583.00          581.88                1.78   \n",
       "466475             595.00          593.37               11.48   \n",
       "466476             589.00          596.38                3.02   \n",
       "466477             601.00          603.00                6.62   \n",
       "\n",
       "        schd_headway_min  pct_actual_schd_headway  \n",
       "466474              6.00                     0.30  \n",
       "466475             12.00                     0.96  \n",
       "466476             -6.00                    -0.50  \n",
       "466477             12.00                     0.55  "
      ]
     },
     "execution_count": 69,
     "metadata": {},
     "output_type": "execute_result"
    }
   ],
   "source": [
    "sf_38r_test.loc[[466474, 466475,466476,466477]][['sched_arrival_min','rt_arrival_min','actual_headway_min', 'schd_headway_min', 'pct_actual_schd_headway']]"
   ]
  },
  {
   "cell_type": "markdown",
   "id": "db10254b-d5d4-4619-9c6e-10fab19ec6b2",
   "metadata": {},
   "source": [
    "#### Groupby grain and see how many trips for that grain are considered \"bunched\" or not."
   ]
  },
  {
   "cell_type": "code",
   "execution_count": 71,
   "id": "e72f4e50-da82-4a59-8aae-fc6b79f91cc5",
   "metadata": {},
   "outputs": [],
   "source": [
    "transit_matters_df2 = (\n",
    "    transit_matters_df1.groupby(\n",
    "        [\n",
    "            \"schedule_gtfs_dataset_key\",\n",
    "            \"route_long_name\",\n",
    "            \"shape_array_key\",\n",
    "            \"route_id\",\n",
    "            \"stop_id\",\n",
    "            \"direction_id\",\n",
    "            \"route_primary_direction\",\n",
    "            \"bunched_y_n\",\n",
    "        ]\n",
    "    )\n",
    "    .agg({\"trip_instance_key\": \"nunique\"})\n",
    "    .reset_index()\n",
    ")"
   ]
  },
  {
   "cell_type": "code",
   "execution_count": 72,
   "id": "ebf0e403-89c5-4b2c-b962-44affe3c0b42",
   "metadata": {},
   "outputs": [],
   "source": [
    "# Filter out only rows that are bunched.\n",
    "bunched_only = transit_matters_df2.loc[\n",
    "    transit_matters_df2.bunched_y_n == \"bunched\"\n",
    "].reset_index(drop=True)"
   ]
  },
  {
   "cell_type": "code",
   "execution_count": 73,
   "id": "6f94980e-b9c4-4c1e-a497-ea4b3f88c55b",
   "metadata": {},
   "outputs": [],
   "source": [
    "transit_matters_agg = [\n",
    "    \"schedule_gtfs_dataset_key\",\n",
    "    \"route_long_name\",\n",
    "    \"shape_array_key\",\n",
    "    \"route_id\",\n",
    "    \"stop_id\",\n",
    "    \"direction_id\",\n",
    "    \"route_primary_direction\",\n",
    "]"
   ]
  },
  {
   "cell_type": "code",
   "execution_count": 74,
   "id": "dcca9769-aa67-48d5-9b06-acc86cade877",
   "metadata": {},
   "outputs": [],
   "source": [
    "# Aggregate all trips on the grain\n",
    "transit_matters_all_trips = (\n",
    "    transit_matters_df1.groupby(transit_matters_agg)\n",
    "    .agg({\"trip_instance_key\": \"nunique\"})\n",
    "    .reset_index()\n",
    "    .rename(columns={\"trip_instance_key\": \"all_trips\"})\n",
    ")"
   ]
  },
  {
   "cell_type": "code",
   "execution_count": 75,
   "id": "2f57e136-fc83-4eac-bc05-84f530e2f4b0",
   "metadata": {},
   "outputs": [],
   "source": [
    "# Merge back, using left merge to keep bunching\n",
    "bunched_only = pd.merge(\n",
    "    bunched_only, transit_matters_all_trips, on=transit_matters_agg, how=\"left\"\n",
    ")"
   ]
  },
  {
   "cell_type": "code",
   "execution_count": 76,
   "id": "55b8feb0-1e0a-4717-b966-ee360becfde5",
   "metadata": {},
   "outputs": [],
   "source": [
    "bunched_only[\"pct_trips_bunched\"] = (\n",
    "    bunched_only.trip_instance_key / bunched_only.all_trips * 100\n",
    ")"
   ]
  },
  {
   "cell_type": "code",
   "execution_count": 77,
   "id": "3674d237-8b1c-4943-afc8-45b85b4b13d7",
   "metadata": {},
   "outputs": [],
   "source": [
    "bunched_only = bunched_only.drop(columns=[\"all_trips\"])"
   ]
  },
  {
   "cell_type": "code",
   "execution_count": 78,
   "id": "7213e2ad-8485-4e0a-b8b8-0aaf6dbae3ae",
   "metadata": {},
   "outputs": [],
   "source": [
    "# Merge back all rows that don't have bunching trips.\n",
    "transit_matters_m1 = pd.merge(\n",
    "    transit_matters_all_trips,\n",
    "    bunched_only,\n",
    "    on=transit_matters_agg,\n",
    "    how=\"left\",\n",
    ")"
   ]
  },
  {
   "cell_type": "code",
   "execution_count": 79,
   "id": "f5253b6a-8cad-469f-a306-6fa712e9799a",
   "metadata": {},
   "outputs": [],
   "source": [
    "transit_matters_m1 = transit_matters_m1.drop(\n",
    "    columns=[\"bunched_y_n\", \"trip_instance_key\"]\n",
    ")"
   ]
  },
  {
   "cell_type": "code",
   "execution_count": 80,
   "id": "4a25225a-7883-457f-a27a-f606164cdd37",
   "metadata": {},
   "outputs": [],
   "source": [
    "transit_matters_m1.pct_trips_bunched = transit_matters_m1.pct_trips_bunched.fillna(0)"
   ]
  },
  {
   "cell_type": "code",
   "execution_count": 81,
   "id": "2e2abda3-b3de-4f03-baf4-7f764dd10255",
   "metadata": {},
   "outputs": [
    {
     "data": {
      "text/plain": [
       "count   19077.00\n",
       "mean        5.77\n",
       "std         8.91\n",
       "min         0.00\n",
       "25%         0.00\n",
       "50%         1.75\n",
       "75%         9.09\n",
       "max        66.67\n",
       "Name: pct_trips_bunched, dtype: float64"
      ]
     },
     "execution_count": 81,
     "metadata": {},
     "output_type": "execute_result"
    }
   ],
   "source": [
    "transit_matters_m1.pct_trips_bunched.describe()"
   ]
  },
  {
   "cell_type": "code",
   "execution_count": 82,
   "id": "6f4c4386-acfb-483a-947d-0279710df61b",
   "metadata": {},
   "outputs": [
    {
     "data": {
      "text/plain": [
       "(4272, 9)"
      ]
     },
     "execution_count": 82,
     "metadata": {},
     "output_type": "execute_result"
    }
   ],
   "source": [
    "transit_matters_m1.loc[transit_matters_m1.pct_trips_bunched >= 10].shape"
   ]
  },
  {
   "cell_type": "markdown",
   "id": "b0579e78-2a95-4d8b-9761-2824aa39a8eb",
   "metadata": {},
   "source": [
    "### Use 2 minute benchmark\n",
    "* [Source](https://static1.squarespace.com/static/533b9a24e4b01d79d0ae4376/t/645e82de1f570b31497c44dc/1683915486889/TransitMatters-Headwaymanagement.pdf)\n",
    "* Justifying the use of\n",
    "headway maintenance. For example, in April\n",
    "2022 the 66 bus significantly bunched around\n",
    "several stops. When bunching is defined as\n",
    "buses that run within two minutes or less of\n",
    "each other, inbound buses towards Nubian\n",
    "Square bunched 10% of the time at Brigham\n",
    "Circle, 9% at Brookline Village and Roxbury\n",
    "Crossing, and 8% of the time at Coolidge\n",
    "Corner. Bunching is even more dramatic\n",
    "outbound towards Harvard Square where\n",
    "buses bunched over 35% of the time at Winship\n",
    "St, 13% at Coolidge Corner and Harvard Ave at\n",
    "Commonwealth Ave, and 12% at North Harvard\n",
    "St at Western Ave. View more data about bus\n",
    "bunching through the TransitMatters Data\n",
    "Dashboard here."
   ]
  },
  {
   "cell_type": "code",
   "execution_count": 83,
   "id": "e0706e7e-0d56-43b2-bf3c-4205e9277c64",
   "metadata": {},
   "outputs": [],
   "source": [
    "two_minutess_df = rt_stop_times5.copy()"
   ]
  },
  {
   "cell_type": "code",
   "execution_count": 84,
   "id": "a0c04034-7c1a-49c9-9270-8bf9af8feac1",
   "metadata": {},
   "outputs": [
    {
     "ename": "AttributeError",
     "evalue": "'DataFrame' object has no attribute 'actual_headway'",
     "output_type": "error",
     "traceback": [
      "\u001b[0;31m---------------------------------------------------------------------------\u001b[0m",
      "\u001b[0;31mAttributeError\u001b[0m                            Traceback (most recent call last)",
      "\u001b[0;32m/tmp/ipykernel_392/3224960716.py\u001b[0m in \u001b[0;36m?\u001b[0;34m()\u001b[0m\n\u001b[0;32m----> 1\u001b[0;31m \u001b[0mtwo_minutess_df\u001b[0m\u001b[0;34m[\u001b[0m\u001b[0;34m\"actual_headway_min\"\u001b[0m\u001b[0;34m]\u001b[0m \u001b[0;34m=\u001b[0m \u001b[0mtwo_minutess_df\u001b[0m\u001b[0;34m.\u001b[0m\u001b[0mactual_headway\u001b[0m \u001b[0;34m/\u001b[0m \u001b[0;36m60\u001b[0m\u001b[0;34m\u001b[0m\u001b[0;34m\u001b[0m\u001b[0m\n\u001b[0m",
      "\u001b[0;32m/opt/conda/lib/python3.9/site-packages/pandas/core/generic.py\u001b[0m in \u001b[0;36m?\u001b[0;34m(self, name)\u001b[0m\n\u001b[1;32m   5898\u001b[0m             \u001b[0;32mand\u001b[0m \u001b[0mname\u001b[0m \u001b[0;32mnot\u001b[0m \u001b[0;32min\u001b[0m \u001b[0mself\u001b[0m\u001b[0;34m.\u001b[0m\u001b[0m_accessors\u001b[0m\u001b[0;34m\u001b[0m\u001b[0;34m\u001b[0m\u001b[0m\n\u001b[1;32m   5899\u001b[0m             \u001b[0;32mand\u001b[0m \u001b[0mself\u001b[0m\u001b[0;34m.\u001b[0m\u001b[0m_info_axis\u001b[0m\u001b[0;34m.\u001b[0m\u001b[0m_can_hold_identifiers_and_holds_name\u001b[0m\u001b[0;34m(\u001b[0m\u001b[0mname\u001b[0m\u001b[0;34m)\u001b[0m\u001b[0;34m\u001b[0m\u001b[0;34m\u001b[0m\u001b[0m\n\u001b[1;32m   5900\u001b[0m         ):\n\u001b[1;32m   5901\u001b[0m             \u001b[0;32mreturn\u001b[0m \u001b[0mself\u001b[0m\u001b[0;34m[\u001b[0m\u001b[0mname\u001b[0m\u001b[0;34m]\u001b[0m\u001b[0;34m\u001b[0m\u001b[0;34m\u001b[0m\u001b[0m\n\u001b[0;32m-> 5902\u001b[0;31m         \u001b[0;32mreturn\u001b[0m \u001b[0mobject\u001b[0m\u001b[0;34m.\u001b[0m\u001b[0m__getattribute__\u001b[0m\u001b[0;34m(\u001b[0m\u001b[0mself\u001b[0m\u001b[0;34m,\u001b[0m \u001b[0mname\u001b[0m\u001b[0;34m)\u001b[0m\u001b[0;34m\u001b[0m\u001b[0;34m\u001b[0m\u001b[0m\n\u001b[0m",
      "\u001b[0;31mAttributeError\u001b[0m: 'DataFrame' object has no attribute 'actual_headway'"
     ]
    }
   ],
   "source": [
    "two_minutess_df[\"actual_headway_min\"] = two_minutess_df.actual_headway / 60"
   ]
  },
  {
   "cell_type": "code",
   "execution_count": null,
   "id": "bd9b8ee4-aab3-42c9-b29a-9679f5494ffa",
   "metadata": {},
   "outputs": [],
   "source": [
    "two_minutess_df[\"bunched_y_n\"] = np.where(\n",
    "    two_minutess_df[\"actual_headway_min\"] <= 2, \"bunched\", \"not bunched\"\n",
    ")"
   ]
  },
  {
   "cell_type": "code",
   "execution_count": null,
   "id": "83382d9f-09c5-4bf2-a55b-41dc541dee51",
   "metadata": {},
   "outputs": [],
   "source": [
    "two_minutess_df.info()"
   ]
  },
  {
   "cell_type": "code",
   "execution_count": null,
   "id": "dcd302cb-5f30-4318-8b28-cb29f6c376cd",
   "metadata": {},
   "outputs": [],
   "source": [
    "two_minutess_df.bunched_y_n.value_counts()"
   ]
  },
  {
   "cell_type": "markdown",
   "id": "626c2f22-4d45-4fe2-814d-773ae9dbd843",
   "metadata": {},
   "source": [
    "#### Same code as Transit Matters Approach"
   ]
  },
  {
   "cell_type": "code",
   "execution_count": null,
   "id": "f2532ed7-194c-4b2d-841c-a2282379a44a",
   "metadata": {},
   "outputs": [],
   "source": [
    "two_minutes_agg1 = (\n",
    "    two_minutess_df.groupby(\n",
    "        [\n",
    "            \"schedule_gtfs_dataset_key\",\n",
    "            \"route_long_name\",\n",
    "            \"shape_array_key\",\n",
    "            \"route_id\",\n",
    "            \"stop_id\",\n",
    "            \"direction_id\",\n",
    "            \"route_primary_direction\",\n",
    "            \"bunched_y_n\",\n",
    "        ]\n",
    "    )\n",
    "    .agg({\"trip_instance_key\": \"nunique\"})\n",
    "    .reset_index()\n",
    ")"
   ]
  },
  {
   "cell_type": "code",
   "execution_count": null,
   "id": "666be796-5edd-42aa-bffb-a5105d0753f5",
   "metadata": {},
   "outputs": [],
   "source": [
    "bunched_only_two_min = (\n",
    "    two_minutes_agg1.loc[two_minutes_agg1.bunched_y_n == \"bunched\"]\n",
    "    .reset_index(drop=True)\n",
    "    .rename(columns={\"trip_instance_key\": \"bunched_trips\"})\n",
    ")"
   ]
  },
  {
   "cell_type": "code",
   "execution_count": null,
   "id": "37519780-57b0-47c8-a911-aa53ff7eb4d6",
   "metadata": {},
   "outputs": [],
   "source": [
    "# I want to do a left merge because I'm only interested in trips that bunched.\n",
    "bunched_only_two_min = pd.merge(\n",
    "    bunched_only_two_min,\n",
    "    transit_matters_all_trips,\n",
    "    on=[\n",
    "        \"schedule_gtfs_dataset_key\",\n",
    "        \"route_long_name\",\n",
    "        \"shape_array_key\",\n",
    "        \"route_id\",\n",
    "        \"stop_id\",\n",
    "        \"direction_id\",\n",
    "        \"route_primary_direction\",\n",
    "    ],\n",
    "    how=\"left\",\n",
    ")"
   ]
  },
  {
   "cell_type": "code",
   "execution_count": null,
   "id": "993d3341-bb43-4553-852a-341b8726b710",
   "metadata": {},
   "outputs": [],
   "source": [
    "bunched_only_two_min[\"pct_trips_bunched\"] = (\n",
    "    bunched_only_two_min.bunched_trips / bunched_only_two_min.all_trips * 100\n",
    ")"
   ]
  },
  {
   "cell_type": "code",
   "execution_count": null,
   "id": "91b29863-5465-48c9-8257-bf8d84457b11",
   "metadata": {},
   "outputs": [],
   "source": [
    "bunched_only_two_min = bunched_only_two_min.drop(columns=[\"all_trips\"])"
   ]
  },
  {
   "cell_type": "code",
   "execution_count": null,
   "id": "9cb116be-b313-40e3-a0ef-a510b42da6e1",
   "metadata": {},
   "outputs": [],
   "source": [
    "# Need to do a left merge on all trips for the stops that don't have bunching.\n",
    "final_two_minute = pd.merge(\n",
    "    transit_matters_all_trips,\n",
    "    bunched_only_two_min,\n",
    "    on=[\n",
    "        \"schedule_gtfs_dataset_key\",\n",
    "        \"route_long_name\",\n",
    "        \"shape_array_key\",\n",
    "        \"route_id\",\n",
    "        \"stop_id\",\n",
    "        \"direction_id\",\n",
    "        \"route_primary_direction\",\n",
    "    ],\n",
    "    how=\"left\",\n",
    ")"
   ]
  },
  {
   "cell_type": "code",
   "execution_count": null,
   "id": "961b9cfb-cb94-485c-bcf5-92e9b51024d4",
   "metadata": {},
   "outputs": [],
   "source": [
    "final_two_minute.shape"
   ]
  },
  {
   "cell_type": "code",
   "execution_count": null,
   "id": "cfefaf19-4eaa-4d10-a83d-79d2fe5d9c62",
   "metadata": {},
   "outputs": [],
   "source": [
    "final_two_minute = final_two_minute.drop(columns=[\"bunched_y_n\", \"bunched_trips\"])"
   ]
  }
 ],
 "metadata": {
  "kernelspec": {
   "display_name": "Python 3 (ipykernel)",
   "language": "python",
   "name": "python3"
  },
  "language_info": {
   "codemirror_mode": {
    "name": "ipython",
    "version": 3
   },
   "file_extension": ".py",
   "mimetype": "text/x-python",
   "name": "python",
   "nbconvert_exporter": "python",
   "pygments_lexer": "ipython3",
   "version": "3.9.13"
  }
 },
 "nbformat": 4,
 "nbformat_minor": 5
}
