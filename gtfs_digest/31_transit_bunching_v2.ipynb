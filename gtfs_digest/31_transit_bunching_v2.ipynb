{
 "cells": [
  {
   "cell_type": "markdown",
   "id": "733e5c07-e894-48de-b92a-9cba10b7fc9a",
   "metadata": {},
   "source": [
    "## Transit Bunching\n",
    "* I tried turning `stop_times` to actual dates but it seems like seconds is easier to manipulate.\n",
    "* 10_transit_bunching.ipynb contains timestamps attempts\n",
    "* cd data-analyses/rt_segment_speeds && pip install -r requirements.txt && cd ../_shared_utils && make setup_env && cd ../gtfs_digest\n",
    "* [Issue](https://github.com/cal-itp/data-analyses/issues/1099)"
   ]
  },
  {
   "cell_type": "code",
   "execution_count": 1,
   "id": "60097cf1-857d-4c7f-9fc7-043a69ec1a61",
   "metadata": {},
   "outputs": [],
   "source": [
    "import geopandas as gpd\n",
    "import pandas as pd\n",
    "from segment_speed_utils import gtfs_schedule_wrangling, helpers\n",
    "from shared_utils import catalog_utils, rt_dates, rt_utils\n",
    "from update_vars import GTFS_DATA_DICT, RT_SCHED_GCS, SCHED_GCS\n",
    "\n",
    "# https://github.com/cal-itp/data-analyses/blob/main/_shared_utils/shared_utils/gtfs_analytics_data.yml\n",
    "GTFS_DATA_DICT = catalog_utils.get_catalog(\"gtfs_analytics_data\")\n",
    "\n",
    "from segment_speed_utils.project_vars import (\n",
    "    COMPILED_CACHED_VIEWS,\n",
    "    GTFS_DATA_DICT,\n",
    "    PROJECT_CRS,\n",
    "    RT_SCHED_GCS,\n",
    "    SCHED_GCS,\n",
    "    SEGMENT_GCS,\n",
    ")"
   ]
  },
  {
   "cell_type": "code",
   "execution_count": 2,
   "id": "7b8870df-fd24-4433-89c9-49dc71d59a5f",
   "metadata": {},
   "outputs": [],
   "source": [
    "import merge_data"
   ]
  },
  {
   "cell_type": "code",
   "execution_count": 3,
   "id": "51a085f8-5981-4da7-904f-6348cf2e18b0",
   "metadata": {},
   "outputs": [],
   "source": [
    "pd.options.display.max_columns = 100\n",
    "pd.options.display.float_format = \"{:.2f}\".format\n",
    "pd.set_option(\"display.max_rows\", None)\n",
    "pd.set_option(\"display.max_colwidth\", None)"
   ]
  },
  {
   "cell_type": "code",
   "execution_count": 4,
   "id": "113bd786-8d4b-4153-939b-b419b4fa97ee",
   "metadata": {},
   "outputs": [],
   "source": [
    "may_date = \"2024-05-22\""
   ]
  },
  {
   "cell_type": "code",
   "execution_count": 5,
   "id": "44a80420-dbe8-4a2b-9c47-44b32bf28e00",
   "metadata": {},
   "outputs": [],
   "source": [
    "drop_for_preview = [\n",
    "    \"schedule_gtfs_dataset_key\",\n",
    "    \"trip_instance_key\",\n",
    "    \"shape_array_key\",\n",
    "    \"feed_key\",\n",
    "    \"trip_id\",\n",
    "]"
   ]
  },
  {
   "cell_type": "markdown",
   "id": "2be7e7cc-b6c5-4c87-b2d5-6cb8612e23ce",
   "metadata": {},
   "source": [
    "### Get routes with short headways\n",
    "* Katrina: <i>but want to understand how the original column is calculated (over what time period). I would also count the agencies/organizations represented in that subset to see if it fits our preconceptions about which agencies run frequent routes. Also check mix of buses/trains.</i>\n",
    "* Eric: <i>Once you do the 60 / frequency calculation, it’s not really a frequency any more but rather a headway. headway_minutes might be a better way to label it than frequency_in_minutes.</i>\n",
    "* Amanda: to-do is to merge this with an agency-organization early on...Forgot which dataset is the best for this."
   ]
  },
  {
   "cell_type": "code",
   "execution_count": 6,
   "id": "873bf893-40a2-4b64-84ba-68604c6df18b",
   "metadata": {},
   "outputs": [],
   "source": [
    "subset = [\n",
    "    \"schedule_gtfs_dataset_key\",\n",
    "    \"route_id\",\n",
    "    \"direction_id\",\n",
    "    \"route_primary_direction\",\n",
    "    \"service_date\",\n",
    "    \"frequency\",\n",
    "]"
   ]
  },
  {
   "cell_type": "code",
   "execution_count": 7,
   "id": "c9c35b69-d5ad-47b6-9027-33cc6631835e",
   "metadata": {},
   "outputs": [
    {
     "data": {
      "text/plain": [
       "'schedule_route_dir/schedule_route_direction_metrics'"
      ]
     },
     "execution_count": 7,
     "metadata": {},
     "output_type": "execute_result"
    }
   ],
   "source": [
    "GTFS_DATA_DICT.rt_vs_schedule_tables.sched_route_direction_metrics"
   ]
  },
  {
   "cell_type": "code",
   "execution_count": 8,
   "id": "9d07da3c-e347-4671-925b-e8f5bc31c0fd",
   "metadata": {},
   "outputs": [],
   "source": [
    "route_dir = merge_data.concatenate_schedule_by_route_direction([may_date])[subset]"
   ]
  },
  {
   "cell_type": "code",
   "execution_count": 9,
   "id": "f20ecdf1-76e0-4f7f-a10d-97860f6911e8",
   "metadata": {},
   "outputs": [],
   "source": [
    "route_dir[\"headway_minutes\"] = 60 / route_dir.frequency"
   ]
  },
  {
   "cell_type": "code",
   "execution_count": 10,
   "id": "9bdda27a-0bf4-469f-a485-d85006760566",
   "metadata": {},
   "outputs": [
    {
     "data": {
      "text/html": [
       "<div>\n",
       "<style scoped>\n",
       "    .dataframe tbody tr th:only-of-type {\n",
       "        vertical-align: middle;\n",
       "    }\n",
       "\n",
       "    .dataframe tbody tr th {\n",
       "        vertical-align: top;\n",
       "    }\n",
       "\n",
       "    .dataframe thead th {\n",
       "        text-align: right;\n",
       "    }\n",
       "</style>\n",
       "<table border=\"1\" class=\"dataframe\">\n",
       "  <thead>\n",
       "    <tr style=\"text-align: right;\">\n",
       "      <th></th>\n",
       "      <th>schedule_gtfs_dataset_key</th>\n",
       "      <th>route_id</th>\n",
       "      <th>direction_id</th>\n",
       "      <th>route_primary_direction</th>\n",
       "      <th>service_date</th>\n",
       "      <th>frequency</th>\n",
       "      <th>headway_minutes</th>\n",
       "    </tr>\n",
       "  </thead>\n",
       "  <tbody>\n",
       "    <tr>\n",
       "      <th>0</th>\n",
       "      <td>015d67d5b75b5cf2b710bbadadfb75f5</td>\n",
       "      <td>17</td>\n",
       "      <td>0.00</td>\n",
       "      <td>Northbound</td>\n",
       "      <td>2024-05-22</td>\n",
       "      <td>0.92</td>\n",
       "      <td>65.22</td>\n",
       "    </tr>\n",
       "  </tbody>\n",
       "</table>\n",
       "</div>"
      ],
      "text/plain": [
       "          schedule_gtfs_dataset_key route_id  direction_id  \\\n",
       "0  015d67d5b75b5cf2b710bbadadfb75f5       17          0.00   \n",
       "\n",
       "  route_primary_direction service_date  frequency  headway_minutes  \n",
       "0              Northbound   2024-05-22       0.92            65.22  "
      ]
     },
     "execution_count": 10,
     "metadata": {},
     "output_type": "execute_result"
    }
   ],
   "source": [
    "route_dir.head(1)"
   ]
  },
  {
   "cell_type": "code",
   "execution_count": 11,
   "id": "75b6d1d2-b6b5-4c44-8d5a-0f026e8fcd65",
   "metadata": {},
   "outputs": [],
   "source": [
    "route_freq_groupby = [\n",
    "    \"schedule_gtfs_dataset_key\",\n",
    "    \"route_id\",\n",
    "    \"direction_id\",\n",
    "    \"route_primary_direction\",\n",
    "]"
   ]
  },
  {
   "cell_type": "code",
   "execution_count": 13,
   "id": "e2893c22-7d7c-4dca-9d08-0e33d2680437",
   "metadata": {},
   "outputs": [],
   "source": [
    "high_frequency_routes = (\n",
    "    route_dir.groupby(route_freq_groupby)\n",
    "    .agg({\"headway_minutes\": \"mean\"})\n",
    "    .reset_index()\n",
    ")"
   ]
  },
  {
   "cell_type": "markdown",
   "id": "4d60454a-36e2-491e-bf4a-e4111bf35271",
   "metadata": {},
   "source": [
    "#### Grab routes in the 5th percentile of frequency for now.\n",
    "* Eric: <i>Taking the 5%ile (17.65min headway) is reasonable, but I suspect the worst bunching issues might be on routes with headways at/below the 10min mark? Maybe try 15 and 10 as well?</i>"
   ]
  },
  {
   "cell_type": "code",
   "execution_count": 15,
   "id": "19c16f8b-5bec-48b9-9b26-2765f63db58d",
   "metadata": {},
   "outputs": [
    {
     "data": {
      "text/plain": [
       "count   3417.00\n",
       "mean     234.64\n",
       "std      312.42\n",
       "min        4.00\n",
       "5%        17.65\n",
       "10%       23.40\n",
       "50%       97.71\n",
       "90%      750.00\n",
       "95%     1000.00\n",
       "max     1250.00\n",
       "Name: headway_minutes, dtype: float64"
      ]
     },
     "execution_count": 15,
     "metadata": {},
     "output_type": "execute_result"
    }
   ],
   "source": [
    "high_frequency_routes[\"headway_minutes\"].describe(\n",
    "    percentiles=[0.05, 0.1, 0.9, 0.95]\n",
    ")"
   ]
  },
  {
   "cell_type": "code",
   "execution_count": 18,
   "id": "43bbb489-39ab-4c98-8685-66f94c413bf6",
   "metadata": {},
   "outputs": [],
   "source": [
    "high_frequency_routes2 = high_frequency_routes.loc[\n",
    "    high_frequency_routes.headway_minutes <= 15\n",
    "]"
   ]
  },
  {
   "cell_type": "code",
   "execution_count": 19,
   "id": "fc18e4be-f035-4d5b-a096-e134dd17fc47",
   "metadata": {},
   "outputs": [
    {
     "data": {
      "text/plain": [
       "71"
      ]
     },
     "execution_count": 19,
     "metadata": {},
     "output_type": "execute_result"
    }
   ],
   "source": [
    "high_frequency_routes2.route_id.nunique()"
   ]
  },
  {
   "cell_type": "markdown",
   "id": "207670ea-105b-4b6a-be32-53bfcc79349b",
   "metadata": {},
   "source": [
    "### Get trips of high frequency routes"
   ]
  },
  {
   "cell_type": "code",
   "execution_count": 20,
   "id": "674f8ee6-3f6d-4f90-90ba-7ea9ee688b28",
   "metadata": {},
   "outputs": [],
   "source": [
    "TABLE = GTFS_DATA_DICT.schedule_downloads.trips"
   ]
  },
  {
   "cell_type": "code",
   "execution_count": 21,
   "id": "5333afa8-4849-4864-b253-b03a1093e84f",
   "metadata": {},
   "outputs": [],
   "source": [
    "FILE = f\"{COMPILED_CACHED_VIEWS}{TABLE}_{may_date}.parquet\""
   ]
  },
  {
   "cell_type": "code",
   "execution_count": 22,
   "id": "111e2c27-337d-4440-a1f6-10ec582a6f9e",
   "metadata": {},
   "outputs": [],
   "source": [
    "trips_subset = [\n",
    "    \"gtfs_dataset_key\",\n",
    "    \"route_id\",\n",
    "    \"trip_instance_key\",\n",
    "    \"shape_array_key\",\n",
    "    \"feed_key\",\n",
    "    \"route_long_name\",\n",
    "    \"direction_id\",\n",
    "]"
   ]
  },
  {
   "cell_type": "code",
   "execution_count": 23,
   "id": "e1aed68a-0ed2-4da4-904a-cb91681e7f38",
   "metadata": {},
   "outputs": [],
   "source": [
    "trips = pd.read_parquet(FILE)[trips_subset].rename(\n",
    "    columns={\"gtfs_dataset_key\": \"schedule_gtfs_dataset_key\"}\n",
    ")"
   ]
  },
  {
   "cell_type": "code",
   "execution_count": 24,
   "id": "684d15e7-4a6f-4bc1-abad-087a20a2503a",
   "metadata": {},
   "outputs": [
    {
     "data": {
      "text/html": [
       "<div>\n",
       "<style scoped>\n",
       "    .dataframe tbody tr th:only-of-type {\n",
       "        vertical-align: middle;\n",
       "    }\n",
       "\n",
       "    .dataframe tbody tr th {\n",
       "        vertical-align: top;\n",
       "    }\n",
       "\n",
       "    .dataframe thead th {\n",
       "        text-align: right;\n",
       "    }\n",
       "</style>\n",
       "<table border=\"1\" class=\"dataframe\">\n",
       "  <thead>\n",
       "    <tr style=\"text-align: right;\">\n",
       "      <th></th>\n",
       "      <th>schedule_gtfs_dataset_key</th>\n",
       "      <th>route_id</th>\n",
       "      <th>trip_instance_key</th>\n",
       "      <th>shape_array_key</th>\n",
       "      <th>feed_key</th>\n",
       "      <th>route_long_name</th>\n",
       "      <th>direction_id</th>\n",
       "    </tr>\n",
       "  </thead>\n",
       "  <tbody>\n",
       "    <tr>\n",
       "      <th>0</th>\n",
       "      <td>1770249a5a2e770ca90628434d4934b1</td>\n",
       "      <td>3408</td>\n",
       "      <td>c256553e28c4bba693e3136240b35419</td>\n",
       "      <td>8f644f847e987de68e0cb6fcd339cf41</td>\n",
       "      <td>926867fdee73d5fbfe4f011871bcd830</td>\n",
       "      <td>Route 21</td>\n",
       "      <td>0.00</td>\n",
       "    </tr>\n",
       "    <tr>\n",
       "      <th>1</th>\n",
       "      <td>1770249a5a2e770ca90628434d4934b1</td>\n",
       "      <td>3408</td>\n",
       "      <td>488e9e227288606249d0508961c0fa15</td>\n",
       "      <td>8f644f847e987de68e0cb6fcd339cf41</td>\n",
       "      <td>926867fdee73d5fbfe4f011871bcd830</td>\n",
       "      <td>Route 21</td>\n",
       "      <td>0.00</td>\n",
       "    </tr>\n",
       "  </tbody>\n",
       "</table>\n",
       "</div>"
      ],
      "text/plain": [
       "          schedule_gtfs_dataset_key route_id  \\\n",
       "0  1770249a5a2e770ca90628434d4934b1     3408   \n",
       "1  1770249a5a2e770ca90628434d4934b1     3408   \n",
       "\n",
       "                  trip_instance_key                   shape_array_key  \\\n",
       "0  c256553e28c4bba693e3136240b35419  8f644f847e987de68e0cb6fcd339cf41   \n",
       "1  488e9e227288606249d0508961c0fa15  8f644f847e987de68e0cb6fcd339cf41   \n",
       "\n",
       "                           feed_key route_long_name  direction_id  \n",
       "0  926867fdee73d5fbfe4f011871bcd830        Route 21          0.00  \n",
       "1  926867fdee73d5fbfe4f011871bcd830        Route 21          0.00  "
      ]
     },
     "execution_count": 24,
     "metadata": {},
     "output_type": "execute_result"
    }
   ],
   "source": [
    "trips.head(2)"
   ]
  },
  {
   "cell_type": "code",
   "execution_count": 25,
   "id": "04901f96-76d5-4d99-b3d1-f174ef989357",
   "metadata": {},
   "outputs": [],
   "source": [
    "trips_freq_routes = pd.merge(\n",
    "    trips,\n",
    "    high_frequency_routes2,\n",
    "    on=[\"schedule_gtfs_dataset_key\", \"route_id\", \"direction_id\"],\n",
    "    how=\"inner\",\n",
    ")"
   ]
  },
  {
   "cell_type": "code",
   "execution_count": 26,
   "id": "1195177f-0215-4b24-9e47-dccfb3ee542e",
   "metadata": {},
   "outputs": [
    {
     "data": {
      "text/plain": [
       "(16205, 9)"
      ]
     },
     "execution_count": 26,
     "metadata": {},
     "output_type": "execute_result"
    }
   ],
   "source": [
    "trips_freq_routes.shape"
   ]
  },
  {
   "cell_type": "code",
   "execution_count": 27,
   "id": "96f76885-c4ad-4637-95d8-482ede0b7783",
   "metadata": {},
   "outputs": [
    {
     "data": {
      "text/plain": [
       "16205"
      ]
     },
     "execution_count": 27,
     "metadata": {},
     "output_type": "execute_result"
    }
   ],
   "source": [
    "trips_freq_routes.trip_instance_key.nunique()"
   ]
  },
  {
   "cell_type": "code",
   "execution_count": 30,
   "id": "de16d0ca-cf32-4db0-8344-637da4136df2",
   "metadata": {},
   "outputs": [
    {
     "data": {
      "text/plain": [
       "96391"
      ]
     },
     "execution_count": 30,
     "metadata": {},
     "output_type": "execute_result"
    }
   ],
   "source": [
    "trips.trip_instance_key.nunique()"
   ]
  },
  {
   "cell_type": "markdown",
   "id": "e3be8778-84ff-479f-a3b2-178e374da5f2",
   "metadata": {},
   "source": [
    "### `rt_stop_times2`: Get Stop Times of High Frequency Routes/Trips\n",
    "* What's the difference btwn `trip_id` and `trip_instance_key`?\n",
    "* Eric: <i>trip_instance_key is created by our warehouse (see Columns section), and is a composite including trip_id , service date, and feed URL in order to uniquely identify a specific trip while allowing for joins across schedule+RT. It’s probably the one to use here, but personally I sometimes like keeping trip_id around for context.</i>"
   ]
  },
  {
   "cell_type": "code",
   "execution_count": 31,
   "id": "3f6727c6-205f-4cc8-8a68-42e8dec6e4b3",
   "metadata": {},
   "outputs": [],
   "source": [
    "rt_stop_times = pd.read_parquet(\n",
    "    \"gs://calitp-analytics-data/data-analyses/rt_vs_schedule/schedule_rt_stop_times_2024-05-22.parquet\"\n",
    ")"
   ]
  },
  {
   "cell_type": "code",
   "execution_count": 32,
   "id": "049a2833-f132-431a-8f44-92f31cd11d8a",
   "metadata": {},
   "outputs": [],
   "source": [
    "# Find only stop times of trips that belong to high frequency trips\n",
    "rt_stop_times2 = pd.merge(\n",
    "    rt_stop_times,\n",
    "    trips_freq_routes,\n",
    "    on=[\n",
    "        \"schedule_gtfs_dataset_key\",\n",
    "        \"trip_instance_key\",\n",
    "    ],\n",
    "    how=\"inner\",\n",
    ")"
   ]
  },
  {
   "cell_type": "code",
   "execution_count": 36,
   "id": "12c414e2-3cc3-48f3-b5e3-de174c29fa9d",
   "metadata": {},
   "outputs": [
    {
     "data": {
      "text/plain": [
       "_merge    \n",
       "left_only     2030399\n",
       "both           570863\n",
       "right_only       2274\n",
       "dtype: int64"
      ]
     },
     "execution_count": 36,
     "metadata": {},
     "output_type": "execute_result"
    }
   ],
   "source": [
    "pd.merge(\n",
    "    rt_stop_times,\n",
    "    trips_freq_routes,\n",
    "    on=[\n",
    "        \"schedule_gtfs_dataset_key\",\n",
    "        \"trip_instance_key\",\n",
    "    ],\n",
    "    how=\"outer\",\n",
    "    indicator = True\n",
    ")[[\"_merge\"]].value_counts()"
   ]
  },
  {
   "cell_type": "code",
   "execution_count": 33,
   "id": "a4ebc7fa-19b9-480b-8b39-d9ef20fd9037",
   "metadata": {},
   "outputs": [
    {
     "data": {
      "text/plain": [
       "2030399"
      ]
     },
     "execution_count": 33,
     "metadata": {},
     "output_type": "execute_result"
    }
   ],
   "source": [
    "len(rt_stop_times) - len(rt_stop_times2)"
   ]
  },
  {
   "cell_type": "code",
   "execution_count": 34,
   "id": "d1abbbd0-0cee-4f03-a4bb-497209a62498",
   "metadata": {},
   "outputs": [
    {
     "data": {
      "text/plain": [
       "(570863, 14)"
      ]
     },
     "execution_count": 34,
     "metadata": {},
     "output_type": "execute_result"
    }
   ],
   "source": [
    "rt_stop_times2.shape"
   ]
  },
  {
   "cell_type": "code",
   "execution_count": 35,
   "id": "6464ea15-574a-4976-a41f-26440f7ca1ed",
   "metadata": {},
   "outputs": [
    {
     "data": {
      "text/plain": [
       "(13931, 13931)"
      ]
     },
     "execution_count": 35,
     "metadata": {},
     "output_type": "execute_result"
    }
   ],
   "source": [
    "rt_stop_times2.trip_id.nunique(), rt_stop_times2.trip_instance_key.nunique()"
   ]
  },
  {
   "cell_type": "markdown",
   "id": "8845ee2a-5878-417f-94d1-de21a3c56261",
   "metadata": {},
   "source": [
    "###  `rt_stop_times3`: Some scheduled arrival seconds span longer than a day: filter them out\n",
    "* Katrina: <i>I assume the scheduled arrival sec > 86400 are after midnight, don't need to throw these out. Does rt arrival sec behave the same way, or do you need to create a datetime?</i>\n",
    "* Eric: <i>agree w/ Katrina’s comments on handling seconds around midnight, I don’t know the actual answer but if rt_arrival_sec does in fact always go to 0 at midnight instead of sometimes going >86400 when schedule does you could use the % operator on the scheduled value like scheduled_arrival_sec % 86400</i"
   ]
  },
  {
   "cell_type": "code",
   "execution_count": 37,
   "id": "269116cd-242f-4834-a2fa-08f4ae94f14d",
   "metadata": {},
   "outputs": [
    {
     "data": {
      "text/plain": [
       "count   570863.00\n",
       "mean     50485.85\n",
       "std      19482.84\n",
       "min       9420.00\n",
       "25%      34140.00\n",
       "50%      49680.00\n",
       "75%      64260.00\n",
       "max     108431.00\n",
       "Name: scheduled_arrival_sec, dtype: float64"
      ]
     },
     "execution_count": 37,
     "metadata": {},
     "output_type": "execute_result"
    }
   ],
   "source": [
    "rt_stop_times2.scheduled_arrival_sec.describe()"
   ]
  },
  {
   "cell_type": "code",
   "execution_count": 38,
   "id": "daae9784-aa88-4dd7-b2dd-56a0743aa1b7",
   "metadata": {},
   "outputs": [],
   "source": [
    "rt_stop_times3 = rt_stop_times2.loc[\n",
    "    rt_stop_times2.scheduled_arrival_sec < 86400\n",
    "].reset_index(drop=True)"
   ]
  },
  {
   "cell_type": "markdown",
   "id": "b15440a8-298b-4943-bf59-bc79e9977c3a",
   "metadata": {},
   "source": [
    "### `rt_stop_times4`: Sort so `stop sequence` for the `operator-stop_id-route-id_direction_id` will be in order.\n",
    "* Comparing bunching by STOP, so we have to look at the `stop sequence-stop_id.`\n",
    "* Katrina: <i>Maybe you want to sort  by rt arrival seconds instead of scheduled?</i>\n",
    "    * Amanda: Done."
   ]
  },
  {
   "cell_type": "code",
   "execution_count": 39,
   "id": "00c66387-deef-466b-97c6-41851c601f2d",
   "metadata": {},
   "outputs": [
    {
     "data": {
      "text/html": [
       "<div>\n",
       "<style scoped>\n",
       "    .dataframe tbody tr th:only-of-type {\n",
       "        vertical-align: middle;\n",
       "    }\n",
       "\n",
       "    .dataframe tbody tr th {\n",
       "        vertical-align: top;\n",
       "    }\n",
       "\n",
       "    .dataframe thead th {\n",
       "        text-align: right;\n",
       "    }\n",
       "</style>\n",
       "<table border=\"1\" class=\"dataframe\">\n",
       "  <thead>\n",
       "    <tr style=\"text-align: right;\">\n",
       "      <th></th>\n",
       "      <th>trip_id</th>\n",
       "      <th>stop_id</th>\n",
       "      <th>stop_sequence</th>\n",
       "      <th>scheduled_arrival_sec</th>\n",
       "      <th>schedule_gtfs_dataset_key</th>\n",
       "      <th>trip_instance_key</th>\n",
       "      <th>rt_arrival_sec</th>\n",
       "      <th>route_id</th>\n",
       "      <th>shape_array_key</th>\n",
       "      <th>feed_key</th>\n",
       "      <th>route_long_name</th>\n",
       "      <th>direction_id</th>\n",
       "      <th>route_primary_direction</th>\n",
       "      <th>headway_minutes</th>\n",
       "    </tr>\n",
       "  </thead>\n",
       "  <tbody>\n",
       "    <tr>\n",
       "      <th>0</th>\n",
       "      <td>183-63mc4zr4r</td>\n",
       "      <td>4896831</td>\n",
       "      <td>1</td>\n",
       "      <td>21780.00</td>\n",
       "      <td>cc53a0dbf5df90e3009b9cb5d89d80ba</td>\n",
       "      <td>fab32bd349f15ec26794b00fba264631</td>\n",
       "      <td>21704</td>\n",
       "      <td>4443</td>\n",
       "      <td>8eb6571f567f3cc3b1e34a5118fe1587</td>\n",
       "      <td>2cfdf0e33e9229d6b0ad124d956f5856</td>\n",
       "      <td>DASH B</td>\n",
       "      <td>0.00</td>\n",
       "      <td>Northbound</td>\n",
       "      <td>12.33</td>\n",
       "    </tr>\n",
       "  </tbody>\n",
       "</table>\n",
       "</div>"
      ],
      "text/plain": [
       "         trip_id  stop_id  stop_sequence  scheduled_arrival_sec  \\\n",
       "0  183-63mc4zr4r  4896831              1               21780.00   \n",
       "\n",
       "          schedule_gtfs_dataset_key                 trip_instance_key  \\\n",
       "0  cc53a0dbf5df90e3009b9cb5d89d80ba  fab32bd349f15ec26794b00fba264631   \n",
       "\n",
       "   rt_arrival_sec route_id                   shape_array_key  \\\n",
       "0           21704     4443  8eb6571f567f3cc3b1e34a5118fe1587   \n",
       "\n",
       "                           feed_key route_long_name  direction_id  \\\n",
       "0  2cfdf0e33e9229d6b0ad124d956f5856          DASH B          0.00   \n",
       "\n",
       "  route_primary_direction  headway_minutes  \n",
       "0              Northbound            12.33  "
      ]
     },
     "execution_count": 39,
     "metadata": {},
     "output_type": "execute_result"
    }
   ],
   "source": [
    "rt_stop_times3.head(1)"
   ]
  },
  {
   "cell_type": "code",
   "execution_count": 40,
   "id": "0ef36e93-79ed-4f86-b16a-9d28d90aea1a",
   "metadata": {},
   "outputs": [],
   "source": [
    "# Rearrange: I want the stop sequence to be 1,2,3,4.\n",
    "# stop ids can differ between trips of the same route and the same stop sequence is the same\n",
    "rt_stop_times4 = rt_stop_times3.sort_values(\n",
    "    by=[\n",
    "        \"schedule_gtfs_dataset_key\",\n",
    "        \"route_id\",\n",
    "        \"shape_array_key\",\n",
    "        \"direction_id\",\n",
    "        \"stop_sequence\",\n",
    "        \"rt_arrival_sec\",\n",
    "    ]\n",
    ").reset_index(drop=True)"
   ]
  },
  {
   "cell_type": "code",
   "execution_count": 41,
   "id": "34428686-98f8-40e4-b181-13e255931f3d",
   "metadata": {},
   "outputs": [],
   "source": [
    "# Make sure sorting is right\n",
    "fillmore_stop_seq_13 = rt_stop_times4.loc[\n",
    "    (rt_stop_times4.shape_array_key == \"1b678a66d0009c55bc573cfc37aa1029\")\n",
    "    & (rt_stop_times4.stop_id == \"13086\")\n",
    "    & (rt_stop_times4.direction_id == 0)\n",
    "]"
   ]
  },
  {
   "cell_type": "code",
   "execution_count": 42,
   "id": "bb6e43a4-a97a-48e1-b3c4-f313b45f77e1",
   "metadata": {},
   "outputs": [
    {
     "data": {
      "text/html": [
       "<div>\n",
       "<style scoped>\n",
       "    .dataframe tbody tr th:only-of-type {\n",
       "        vertical-align: middle;\n",
       "    }\n",
       "\n",
       "    .dataframe tbody tr th {\n",
       "        vertical-align: top;\n",
       "    }\n",
       "\n",
       "    .dataframe thead th {\n",
       "        text-align: right;\n",
       "    }\n",
       "</style>\n",
       "<table border=\"1\" class=\"dataframe\">\n",
       "  <thead>\n",
       "    <tr style=\"text-align: right;\">\n",
       "      <th></th>\n",
       "      <th>trip_id</th>\n",
       "      <th>stop_id</th>\n",
       "      <th>stop_sequence</th>\n",
       "      <th>scheduled_arrival_sec</th>\n",
       "      <th>schedule_gtfs_dataset_key</th>\n",
       "      <th>trip_instance_key</th>\n",
       "      <th>rt_arrival_sec</th>\n",
       "      <th>route_id</th>\n",
       "      <th>shape_array_key</th>\n",
       "      <th>feed_key</th>\n",
       "      <th>route_long_name</th>\n",
       "      <th>direction_id</th>\n",
       "      <th>route_primary_direction</th>\n",
       "      <th>headway_minutes</th>\n",
       "    </tr>\n",
       "  </thead>\n",
       "  <tbody>\n",
       "    <tr>\n",
       "      <th>396954</th>\n",
       "      <td>11489969_M31</td>\n",
       "      <td>13086</td>\n",
       "      <td>13</td>\n",
       "      <td>67199.00</td>\n",
       "      <td>7cc0cb1871dfd558f11a2885c145d144</td>\n",
       "      <td>b73ff68241fdcb9ff5a3f3be424b2268</td>\n",
       "      <td>67051</td>\n",
       "      <td>22</td>\n",
       "      <td>1b678a66d0009c55bc573cfc37aa1029</td>\n",
       "      <td>7f69c2fdaa134642f14064a0b64d1495</td>\n",
       "      <td>FILLMORE</td>\n",
       "      <td>0.00</td>\n",
       "      <td>Southbound</td>\n",
       "      <td>7.61</td>\n",
       "    </tr>\n",
       "    <tr>\n",
       "      <th>396955</th>\n",
       "      <td>11489975_M31</td>\n",
       "      <td>13086</td>\n",
       "      <td>13</td>\n",
       "      <td>69106.00</td>\n",
       "      <td>7cc0cb1871dfd558f11a2885c145d144</td>\n",
       "      <td>d30242b374225ed75a4aadd78fa8d7be</td>\n",
       "      <td>69048</td>\n",
       "      <td>22</td>\n",
       "      <td>1b678a66d0009c55bc573cfc37aa1029</td>\n",
       "      <td>7f69c2fdaa134642f14064a0b64d1495</td>\n",
       "      <td>FILLMORE</td>\n",
       "      <td>0.00</td>\n",
       "      <td>Southbound</td>\n",
       "      <td>7.61</td>\n",
       "    </tr>\n",
       "    <tr>\n",
       "      <th>396956</th>\n",
       "      <td>11489815_M31</td>\n",
       "      <td>13086</td>\n",
       "      <td>13</td>\n",
       "      <td>69466.00</td>\n",
       "      <td>7cc0cb1871dfd558f11a2885c145d144</td>\n",
       "      <td>186fd89b59a49ddc1e84cb4b89c066d8</td>\n",
       "      <td>69723</td>\n",
       "      <td>22</td>\n",
       "      <td>1b678a66d0009c55bc573cfc37aa1029</td>\n",
       "      <td>7f69c2fdaa134642f14064a0b64d1495</td>\n",
       "      <td>FILLMORE</td>\n",
       "      <td>0.00</td>\n",
       "      <td>Southbound</td>\n",
       "      <td>7.61</td>\n",
       "    </tr>\n",
       "    <tr>\n",
       "      <th>396957</th>\n",
       "      <td>11489816_M31</td>\n",
       "      <td>13086</td>\n",
       "      <td>13</td>\n",
       "      <td>70006.00</td>\n",
       "      <td>7cc0cb1871dfd558f11a2885c145d144</td>\n",
       "      <td>5cd2523ccd8c33e277aaae0ac9af35c8</td>\n",
       "      <td>70421</td>\n",
       "      <td>22</td>\n",
       "      <td>1b678a66d0009c55bc573cfc37aa1029</td>\n",
       "      <td>7f69c2fdaa134642f14064a0b64d1495</td>\n",
       "      <td>FILLMORE</td>\n",
       "      <td>0.00</td>\n",
       "      <td>Southbound</td>\n",
       "      <td>7.61</td>\n",
       "    </tr>\n",
       "    <tr>\n",
       "      <th>396958</th>\n",
       "      <td>11489817_M31</td>\n",
       "      <td>13086</td>\n",
       "      <td>13</td>\n",
       "      <td>72992.00</td>\n",
       "      <td>7cc0cb1871dfd558f11a2885c145d144</td>\n",
       "      <td>45830206e5f4a07c06e520968f4b789f</td>\n",
       "      <td>73064</td>\n",
       "      <td>22</td>\n",
       "      <td>1b678a66d0009c55bc573cfc37aa1029</td>\n",
       "      <td>7f69c2fdaa134642f14064a0b64d1495</td>\n",
       "      <td>FILLMORE</td>\n",
       "      <td>0.00</td>\n",
       "      <td>Southbound</td>\n",
       "      <td>7.61</td>\n",
       "    </tr>\n",
       "    <tr>\n",
       "      <th>396959</th>\n",
       "      <td>11489861_M31</td>\n",
       "      <td>13086</td>\n",
       "      <td>13</td>\n",
       "      <td>74432.00</td>\n",
       "      <td>7cc0cb1871dfd558f11a2885c145d144</td>\n",
       "      <td>a28a9fc884812bbb9e404de1dd970ccd</td>\n",
       "      <td>75434</td>\n",
       "      <td>22</td>\n",
       "      <td>1b678a66d0009c55bc573cfc37aa1029</td>\n",
       "      <td>7f69c2fdaa134642f14064a0b64d1495</td>\n",
       "      <td>FILLMORE</td>\n",
       "      <td>0.00</td>\n",
       "      <td>Southbound</td>\n",
       "      <td>7.61</td>\n",
       "    </tr>\n",
       "    <tr>\n",
       "      <th>396960</th>\n",
       "      <td>11489818_M31</td>\n",
       "      <td>13086</td>\n",
       "      <td>13</td>\n",
       "      <td>75872.00</td>\n",
       "      <td>7cc0cb1871dfd558f11a2885c145d144</td>\n",
       "      <td>c20c26a42e6277dd327fe1280cead6a8</td>\n",
       "      <td>75943</td>\n",
       "      <td>22</td>\n",
       "      <td>1b678a66d0009c55bc573cfc37aa1029</td>\n",
       "      <td>7f69c2fdaa134642f14064a0b64d1495</td>\n",
       "      <td>FILLMORE</td>\n",
       "      <td>0.00</td>\n",
       "      <td>Southbound</td>\n",
       "      <td>7.61</td>\n",
       "    </tr>\n",
       "  </tbody>\n",
       "</table>\n",
       "</div>"
      ],
      "text/plain": [
       "             trip_id stop_id  stop_sequence  scheduled_arrival_sec  \\\n",
       "396954  11489969_M31   13086             13               67199.00   \n",
       "396955  11489975_M31   13086             13               69106.00   \n",
       "396956  11489815_M31   13086             13               69466.00   \n",
       "396957  11489816_M31   13086             13               70006.00   \n",
       "396958  11489817_M31   13086             13               72992.00   \n",
       "396959  11489861_M31   13086             13               74432.00   \n",
       "396960  11489818_M31   13086             13               75872.00   \n",
       "\n",
       "               schedule_gtfs_dataset_key                 trip_instance_key  \\\n",
       "396954  7cc0cb1871dfd558f11a2885c145d144  b73ff68241fdcb9ff5a3f3be424b2268   \n",
       "396955  7cc0cb1871dfd558f11a2885c145d144  d30242b374225ed75a4aadd78fa8d7be   \n",
       "396956  7cc0cb1871dfd558f11a2885c145d144  186fd89b59a49ddc1e84cb4b89c066d8   \n",
       "396957  7cc0cb1871dfd558f11a2885c145d144  5cd2523ccd8c33e277aaae0ac9af35c8   \n",
       "396958  7cc0cb1871dfd558f11a2885c145d144  45830206e5f4a07c06e520968f4b789f   \n",
       "396959  7cc0cb1871dfd558f11a2885c145d144  a28a9fc884812bbb9e404de1dd970ccd   \n",
       "396960  7cc0cb1871dfd558f11a2885c145d144  c20c26a42e6277dd327fe1280cead6a8   \n",
       "\n",
       "        rt_arrival_sec route_id                   shape_array_key  \\\n",
       "396954           67051       22  1b678a66d0009c55bc573cfc37aa1029   \n",
       "396955           69048       22  1b678a66d0009c55bc573cfc37aa1029   \n",
       "396956           69723       22  1b678a66d0009c55bc573cfc37aa1029   \n",
       "396957           70421       22  1b678a66d0009c55bc573cfc37aa1029   \n",
       "396958           73064       22  1b678a66d0009c55bc573cfc37aa1029   \n",
       "396959           75434       22  1b678a66d0009c55bc573cfc37aa1029   \n",
       "396960           75943       22  1b678a66d0009c55bc573cfc37aa1029   \n",
       "\n",
       "                                feed_key route_long_name  direction_id  \\\n",
       "396954  7f69c2fdaa134642f14064a0b64d1495        FILLMORE          0.00   \n",
       "396955  7f69c2fdaa134642f14064a0b64d1495        FILLMORE          0.00   \n",
       "396956  7f69c2fdaa134642f14064a0b64d1495        FILLMORE          0.00   \n",
       "396957  7f69c2fdaa134642f14064a0b64d1495        FILLMORE          0.00   \n",
       "396958  7f69c2fdaa134642f14064a0b64d1495        FILLMORE          0.00   \n",
       "396959  7f69c2fdaa134642f14064a0b64d1495        FILLMORE          0.00   \n",
       "396960  7f69c2fdaa134642f14064a0b64d1495        FILLMORE          0.00   \n",
       "\n",
       "       route_primary_direction  headway_minutes  \n",
       "396954              Southbound             7.61  \n",
       "396955              Southbound             7.61  \n",
       "396956              Southbound             7.61  \n",
       "396957              Southbound             7.61  \n",
       "396958              Southbound             7.61  \n",
       "396959              Southbound             7.61  \n",
       "396960              Southbound             7.61  "
      ]
     },
     "execution_count": 42,
     "metadata": {},
     "output_type": "execute_result"
    }
   ],
   "source": [
    "fillmore_stop_seq_13"
   ]
  },
  {
   "cell_type": "markdown",
   "id": "8a83b6e8-fbab-4ce2-b91e-bf32890bda18",
   "metadata": {},
   "source": [
    "### Calculate the difference btwn actual vs scheduled arrival."
   ]
  },
  {
   "cell_type": "code",
   "execution_count": 43,
   "id": "dcb53dcc-95e1-41fc-961b-da222c6e4580",
   "metadata": {},
   "outputs": [],
   "source": [
    "def check_delay(df):\n",
    "    df = df.assign(delay=df.rt_arrival_sec - df.scheduled_arrival_sec)\n",
    "\n",
    "    print(df.delay.describe(percentiles=[0.05, 0.1, 0.9, 0.95]))\n",
    "\n",
    "    max_delay_min = df.delay.max() / 60\n",
    "    p95_delay_min = df.delay.quantile(q=0.95) / 60\n",
    "\n",
    "    min_delay_min = df.delay.min() / 60\n",
    "    p5_delay_min = df.delay.quantile(q=0.05) / 60\n",
    "\n",
    "    print(f'min / max delay (minutes):{min_delay_min:.2f},{min_delay_min:.2f}')\n",
    "    print(f\"5th / 95th delay (minutes):{p5_delay_min:.2f}, {p95_delay_min:.2f}\")\n",
    "\n",
    "    return df"
   ]
  },
  {
   "cell_type": "code",
   "execution_count": 44,
   "id": "e6c251c4-a7e9-475e-8f58-9ce98f2016b8",
   "metadata": {},
   "outputs": [
    {
     "name": "stdout",
     "output_type": "stream",
     "text": [
      "count   546356.00\n",
      "mean        66.05\n",
      "std       2805.41\n",
      "min     -86381.00\n",
      "5%        -163.00\n",
      "10%       -106.00\n",
      "50%         86.00\n",
      "90%        508.00\n",
      "95%        710.00\n",
      "max      35879.00\n",
      "Name: delay, dtype: float64\n",
      "min / max delay (minutes):-1439.68,-1439.68\n",
      "5th / 95th delay (minutes):-2.72, 11.83\n"
     ]
    }
   ],
   "source": [
    "rt_stop_times4 = check_delay(rt_stop_times4)"
   ]
  },
  {
   "cell_type": "markdown",
   "id": "bc8f529b-afee-4d3c-993f-b8ff5dcdb8de",
   "metadata": {},
   "source": [
    "#### `rt_stop_times5`: Filter out values in `delay` that are in the 1 hour zone\n",
    "* Actual times should not exceed more than an hour or less than hour.\n",
    "* Katrina: <i>I am not sure if you need to throw out \">1 hour delay\" trips, the customer experience we're interested in is actual wait times between stop arrivals</i>\n",
    "    * Amanda: forgot why Tiffany does this but she generally throws out delays that are ~one hour."
   ]
  },
  {
   "cell_type": "code",
   "execution_count": 45,
   "id": "bbd1cbc3-9762-44b8-a564-c33e57879d10",
   "metadata": {},
   "outputs": [],
   "source": [
    "# Filter to only delays that are an hour or less\n",
    "rt_stop_times5 = rt_stop_times4[rt_stop_times4[\"delay\"] <= 60 * 60].reset_index(\n",
    "    drop=True\n",
    ")"
   ]
  },
  {
   "cell_type": "code",
   "execution_count": 46,
   "id": "9c19be36-0e5b-428d-bc4f-da52821208f4",
   "metadata": {},
   "outputs": [],
   "source": [
    "# Filter to only delays that are no less than\n",
    "rt_stop_times5 = rt_stop_times5[rt_stop_times5[\"delay\"] >= -3600].reset_index(drop=True)"
   ]
  },
  {
   "cell_type": "code",
   "execution_count": 47,
   "id": "813c65e5-8ee6-4896-82d7-c3e6dec8a92f",
   "metadata": {},
   "outputs": [
    {
     "data": {
      "text/plain": [
       "835"
      ]
     },
     "execution_count": 47,
     "metadata": {},
     "output_type": "execute_result"
    }
   ],
   "source": [
    "len(rt_stop_times4) - len(rt_stop_times5)"
   ]
  },
  {
   "cell_type": "code",
   "execution_count": 48,
   "id": "5d44f2e7-c2ea-472b-9c9b-e53bb69e446c",
   "metadata": {},
   "outputs": [
    {
     "data": {
      "text/plain": [
       "2055741"
      ]
     },
     "execution_count": 48,
     "metadata": {},
     "output_type": "execute_result"
    }
   ],
   "source": [
    "len(rt_stop_times) - len(rt_stop_times5)"
   ]
  },
  {
   "cell_type": "markdown",
   "id": "81bd753a-08ee-4d09-ac79-213e1e605405",
   "metadata": {},
   "source": [
    "### Calculate the actual headway the `operator-route-direction_id-stop_sequence-stop_id-` grain\n",
    "* Do I need to include feed key and shape array key? Amanda: still need help"
   ]
  },
  {
   "cell_type": "code",
   "execution_count": 49,
   "id": "b9171520-7358-4f22-9d9c-c5156e710f1b",
   "metadata": {},
   "outputs": [],
   "source": [
    "groupby_cols = [\n",
    "    \"schedule_gtfs_dataset_key\",\n",
    "    \"route_id\",\n",
    "    \"shape_array_key\",\n",
    "    \"direction_id\",\n",
    "    \"route_primary_direction\",\n",
    "    \"stop_sequence\",\n",
    "    \"stop_id\",\n",
    "]"
   ]
  },
  {
   "cell_type": "code",
   "execution_count": 50,
   "id": "f5b62023-ab77-4634-a526-3d822bb7a63f",
   "metadata": {},
   "outputs": [],
   "source": [
    "# Subtract rt_arrival_sec from the previous row to the target row\n",
    "# using groupby columns\n",
    "rt_stop_times4[\"actual_headway\"] = rt_stop_times4.groupby(groupby_cols)[\n",
    "    \"rt_arrival_sec\"\n",
    "].diff()"
   ]
  },
  {
   "cell_type": "markdown",
   "id": "0c9377cb-cb25-43da-9f3b-752a8107b6b7",
   "metadata": {},
   "source": [
    "### Calculate scheduled headway\n",
    "* Using the same grain."
   ]
  },
  {
   "cell_type": "code",
   "execution_count": 51,
   "id": "6328c5fb-205e-4a78-a3d3-62fafa88a4cd",
   "metadata": {},
   "outputs": [],
   "source": [
    "rt_stop_times4[\"schd_headway\"] = rt_stop_times4.groupby(groupby_cols)[\n",
    "    \"scheduled_arrival_sec\"\n",
    "].diff()"
   ]
  },
  {
   "cell_type": "markdown",
   "id": "8a5f6f72-d463-4076-80ce-d22ab1f718b1",
   "metadata": {},
   "source": [
    "### Delete out rows that are `nan`??\n",
    "* I am not sure if `nans` impact calculations of the mean scheduled headway and whatnot?\n",
    "* These `nans` are becuase the first `operator-route-stop_id-stop_sequence` combo won't have anything to compare it to.\n",
    "* Katrina: <i>I would fill in the actual/schedule headway columns with 0 rather than dropping the first row  in each grouping. I wonder if it makes sense to use a more descriptive column name than headway, such as \"minutes since last vehicle\"</i>"
   ]
  },
  {
   "cell_type": "markdown",
   "id": "e16aa0ce-32dc-41ae-9c24-baacf95c2faf",
   "metadata": {},
   "source": [
    "### `rt_stop_times6`: Delete out the rows in which `actual_headway` and `schd_headway` are `nan`: this is basically the first row of each grain\n",
    "* Katrina: <i>I would fill in the actual/schedule headway columns with 0 rather than dropping the first row  in each grouping. I wonder if it makes sense to use a more descriptive column name than headway, such as \"minutes since last vehicle\"</i>"
   ]
  },
  {
   "cell_type": "code",
   "execution_count": 61,
   "id": "f0f0f4b7-fa64-4b01-a141-5dd78c59693b",
   "metadata": {},
   "outputs": [],
   "source": [
    "transit_matters_df1 = rt_stop_times4.copy()"
   ]
  },
  {
   "cell_type": "code",
   "execution_count": 62,
   "id": "7bea63e5-45d0-4d06-8c1c-fd34a69ffde7",
   "metadata": {},
   "outputs": [],
   "source": [
    "transit_matters_df1[\"pct_actual_schd_headway\"] = (\n",
    "    transit_matters_df1.actual_headway / transit_matters_df1.schd_headway\n",
    ")"
   ]
  },
  {
   "cell_type": "code",
   "execution_count": 63,
   "id": "c67c6299-68f0-414f-a9c1-e0b27511b9e5",
   "metadata": {},
   "outputs": [],
   "source": [
    "import numpy as np\n",
    "\n",
    "transit_matters_df1[\"bunched_y_n\"] = np.where(\n",
    "    transit_matters_df1[\"pct_actual_schd_headway\"] < 0.25, \"bunched\", \"not bunched\"\n",
    ")"
   ]
  },
  {
   "cell_type": "markdown",
   "id": "b3fdb4cb-fb86-4b76-85f1-7451a4ef7dbe",
   "metadata": {},
   "source": [
    "#### There are some very extreme values: how to deal with this?\n"
   ]
  },
  {
   "cell_type": "code",
   "execution_count": 64,
   "id": "70bc7bfe-2306-498a-b0d7-e012d266d5fc",
   "metadata": {},
   "outputs": [
    {
     "data": {
      "text/plain": [
       "count   528794.00\n",
       "mean         0.95\n",
       "std          0.52\n",
       "min        -50.30\n",
       "25%          0.77\n",
       "50%          0.98\n",
       "75%          1.16\n",
       "max         10.62\n",
       "Name: pct_actual_schd_headway, dtype: float64"
      ]
     },
     "execution_count": 64,
     "metadata": {},
     "output_type": "execute_result"
    }
   ],
   "source": [
    "transit_matters_df1.pct_actual_schd_headway.describe()"
   ]
  },
  {
   "cell_type": "code",
   "execution_count": 65,
   "id": "bd07fafd-dbf3-46dd-87bc-e0e78633f59d",
   "metadata": {},
   "outputs": [
    {
     "data": {
      "text/plain": [
       "not bunched    513890\n",
       "bunched         32466\n",
       "Name: bunched_y_n, dtype: int64"
      ]
     },
     "execution_count": 65,
     "metadata": {},
     "output_type": "execute_result"
    }
   ],
   "source": [
    "transit_matters_df1.bunched_y_n.value_counts(dropna=True)"
   ]
  },
  {
   "cell_type": "markdown",
   "id": "db10254b-d5d4-4619-9c6e-10fab19ec6b2",
   "metadata": {},
   "source": [
    "#### Groupby grain and see how many trips for that grain are considered \"bunched\" or not."
   ]
  },
  {
   "cell_type": "code",
   "execution_count": 66,
   "id": "e72f4e50-da82-4a59-8aae-fc6b79f91cc5",
   "metadata": {},
   "outputs": [],
   "source": [
    "transit_matters_df2 = (\n",
    "    transit_matters_df1.groupby(\n",
    "        [\n",
    "            \"schedule_gtfs_dataset_key\",\n",
    "            \"route_long_name\",\n",
    "            \"shape_array_key\",\n",
    "            \"route_id\",\n",
    "            \"stop_id\",\n",
    "            \"direction_id\",\n",
    "            \"route_primary_direction\",\n",
    "            \"bunched_y_n\",\n",
    "        ]\n",
    "    )\n",
    "    .agg({\"trip_instance_key\": \"nunique\"})\n",
    "    .reset_index()\n",
    ")"
   ]
  },
  {
   "cell_type": "code",
   "execution_count": 67,
   "id": "ebf0e403-89c5-4b2c-b962-44affe3c0b42",
   "metadata": {},
   "outputs": [],
   "source": [
    "#Filter out only rows that are bunched.\n",
    "bunched_only = transit_matters_df2.loc[\n",
    "    transit_matters_df2.bunched_y_n == \"bunched\"\n",
    "].reset_index(drop=True)"
   ]
  },
  {
   "cell_type": "code",
   "execution_count": 68,
   "id": "6f94980e-b9c4-4c1e-a497-ea4b3f88c55b",
   "metadata": {},
   "outputs": [],
   "source": [
    "transit_matters_agg = [\n",
    "    \"schedule_gtfs_dataset_key\",\n",
    "    \"route_long_name\",\n",
    "    \"shape_array_key\",\n",
    "    \"route_id\",\n",
    "    \"stop_id\",\n",
    "    \"direction_id\",\n",
    "    \"route_primary_direction\",\n",
    "]"
   ]
  },
  {
   "cell_type": "code",
   "execution_count": 69,
   "id": "dcca9769-aa67-48d5-9b06-acc86cade877",
   "metadata": {},
   "outputs": [],
   "source": [
    "# Aggregate all trips on the grain\n",
    "transit_matters_all_trips = (\n",
    "    transit_matters_df1.groupby(transit_matters_agg)\n",
    "    .agg({\"trip_instance_key\": \"nunique\"})\n",
    "    .reset_index()\n",
    "    .rename(columns={\"trip_instance_key\": \"all_trips\"})\n",
    ")"
   ]
  },
  {
   "cell_type": "code",
   "execution_count": 70,
   "id": "2f57e136-fc83-4eac-bc05-84f530e2f4b0",
   "metadata": {},
   "outputs": [],
   "source": [
    "# Merge back, using left merge to keep bunching\n",
    "bunched_only = pd.merge(\n",
    "    bunched_only, transit_matters_all_trips, on=transit_matters_agg, how=\"left\"\n",
    ")"
   ]
  },
  {
   "cell_type": "code",
   "execution_count": 71,
   "id": "55b8feb0-1e0a-4717-b966-ee360becfde5",
   "metadata": {},
   "outputs": [],
   "source": [
    "bunched_only[\"pct_trips_bunched\"] = (\n",
    "    bunched_only.trip_instance_key / bunched_only.all_trips * 100\n",
    ")"
   ]
  },
  {
   "cell_type": "code",
   "execution_count": 72,
   "id": "3674d237-8b1c-4943-afc8-45b85b4b13d7",
   "metadata": {},
   "outputs": [],
   "source": [
    "bunched_only = bunched_only.drop(columns=[\"all_trips\"])"
   ]
  },
  {
   "cell_type": "code",
   "execution_count": 73,
   "id": "7213e2ad-8485-4e0a-b8b8-0aaf6dbae3ae",
   "metadata": {},
   "outputs": [],
   "source": [
    "# Merge back all rows that don't have bunching trips.\n",
    "transit_matters_m1 = pd.merge(\n",
    "    transit_matters_all_trips,\n",
    "    bunched_only,\n",
    "    on=transit_matters_agg,\n",
    "    how=\"left\",\n",
    ")"
   ]
  },
  {
   "cell_type": "code",
   "execution_count": 75,
   "id": "f5253b6a-8cad-469f-a306-6fa712e9799a",
   "metadata": {},
   "outputs": [],
   "source": [
    "transit_matters_m1 = transit_matters_m1.drop(\n",
    "    columns=[\"bunched_y_n\", \"trip_instance_key\"]\n",
    ")"
   ]
  },
  {
   "cell_type": "code",
   "execution_count": 76,
   "id": "4a25225a-7883-457f-a27a-f606164cdd37",
   "metadata": {},
   "outputs": [],
   "source": [
    "transit_matters_m1.pct_trips_bunched = transit_matters_m1.pct_trips_bunched.fillna(0)"
   ]
  },
  {
   "cell_type": "code",
   "execution_count": 77,
   "id": "2e2abda3-b3de-4f03-baf4-7f764dd10255",
   "metadata": {},
   "outputs": [
    {
     "data": {
      "text/plain": [
       "count   17305.00\n",
       "mean        3.14\n",
       "std         6.35\n",
       "min         0.00\n",
       "25%         0.00\n",
       "50%         0.00\n",
       "75%         4.00\n",
       "max        50.00\n",
       "Name: pct_trips_bunched, dtype: float64"
      ]
     },
     "execution_count": 77,
     "metadata": {},
     "output_type": "execute_result"
    }
   ],
   "source": [
    "transit_matters_m1.pct_trips_bunched.describe()"
   ]
  },
  {
   "cell_type": "code",
   "execution_count": 78,
   "id": "6f4c4386-acfb-483a-947d-0279710df61b",
   "metadata": {},
   "outputs": [
    {
     "data": {
      "text/plain": [
       "(1892, 9)"
      ]
     },
     "execution_count": 78,
     "metadata": {},
     "output_type": "execute_result"
    }
   ],
   "source": [
    "transit_matters_m1.loc[transit_matters_m1.pct_trips_bunched >= 10].shape"
   ]
  },
  {
   "cell_type": "markdown",
   "id": "b0579e78-2a95-4d8b-9761-2824aa39a8eb",
   "metadata": {},
   "source": [
    "### Use 2 minute benchmark\n",
    "* [Source](https://static1.squarespace.com/static/533b9a24e4b01d79d0ae4376/t/645e82de1f570b31497c44dc/1683915486889/TransitMatters-Headwaymanagement.pdf)\n",
    "* Justifying the use of\n",
    "headway maintenance. For example, in April\n",
    "2022 the 66 bus significantly bunched around\n",
    "several stops. When bunching is defined as\n",
    "buses that run within two minutes or less of\n",
    "each other, inbound buses towards Nubian\n",
    "Square bunched 10% of the time at Brigham\n",
    "Circle, 9% at Brookline Village and Roxbury\n",
    "Crossing, and 8% of the time at Coolidge\n",
    "Corner. Bunching is even more dramatic\n",
    "outbound towards Harvard Square where\n",
    "buses bunched over 35% of the time at Winship\n",
    "St, 13% at Coolidge Corner and Harvard Ave at\n",
    "Commonwealth Ave, and 12% at North Harvard\n",
    "St at Western Ave. View more data about bus\n",
    "bunching through the TransitMatters Data\n",
    "Dashboard here."
   ]
  },
  {
   "cell_type": "code",
   "execution_count": 81,
   "id": "e0706e7e-0d56-43b2-bf3c-4205e9277c64",
   "metadata": {},
   "outputs": [],
   "source": [
    "two_minutess_df = rt_stop_times5.copy()"
   ]
  },
  {
   "cell_type": "code",
   "execution_count": 82,
   "id": "a0c04034-7c1a-49c9-9270-8bf9af8feac1",
   "metadata": {},
   "outputs": [
    {
     "ename": "AttributeError",
     "evalue": "'DataFrame' object has no attribute 'actual_headway'",
     "output_type": "error",
     "traceback": [
      "\u001b[0;31m---------------------------------------------------------------------------\u001b[0m",
      "\u001b[0;31mAttributeError\u001b[0m                            Traceback (most recent call last)",
      "\u001b[0;32m/tmp/ipykernel_632/3224960716.py\u001b[0m in \u001b[0;36m?\u001b[0;34m()\u001b[0m\n\u001b[0;32m----> 1\u001b[0;31m \u001b[0mtwo_minutess_df\u001b[0m\u001b[0;34m[\u001b[0m\u001b[0;34m\"actual_headway_min\"\u001b[0m\u001b[0;34m]\u001b[0m \u001b[0;34m=\u001b[0m \u001b[0mtwo_minutess_df\u001b[0m\u001b[0;34m.\u001b[0m\u001b[0mactual_headway\u001b[0m \u001b[0;34m/\u001b[0m \u001b[0;36m60\u001b[0m\u001b[0;34m\u001b[0m\u001b[0;34m\u001b[0m\u001b[0m\n\u001b[0m",
      "\u001b[0;32m/opt/conda/lib/python3.9/site-packages/pandas/core/generic.py\u001b[0m in \u001b[0;36m?\u001b[0;34m(self, name)\u001b[0m\n\u001b[1;32m   5898\u001b[0m             \u001b[0;32mand\u001b[0m \u001b[0mname\u001b[0m \u001b[0;32mnot\u001b[0m \u001b[0;32min\u001b[0m \u001b[0mself\u001b[0m\u001b[0;34m.\u001b[0m\u001b[0m_accessors\u001b[0m\u001b[0;34m\u001b[0m\u001b[0;34m\u001b[0m\u001b[0m\n\u001b[1;32m   5899\u001b[0m             \u001b[0;32mand\u001b[0m \u001b[0mself\u001b[0m\u001b[0;34m.\u001b[0m\u001b[0m_info_axis\u001b[0m\u001b[0;34m.\u001b[0m\u001b[0m_can_hold_identifiers_and_holds_name\u001b[0m\u001b[0;34m(\u001b[0m\u001b[0mname\u001b[0m\u001b[0;34m)\u001b[0m\u001b[0;34m\u001b[0m\u001b[0;34m\u001b[0m\u001b[0m\n\u001b[1;32m   5900\u001b[0m         ):\n\u001b[1;32m   5901\u001b[0m             \u001b[0;32mreturn\u001b[0m \u001b[0mself\u001b[0m\u001b[0;34m[\u001b[0m\u001b[0mname\u001b[0m\u001b[0;34m]\u001b[0m\u001b[0;34m\u001b[0m\u001b[0;34m\u001b[0m\u001b[0m\n\u001b[0;32m-> 5902\u001b[0;31m         \u001b[0;32mreturn\u001b[0m \u001b[0mobject\u001b[0m\u001b[0;34m.\u001b[0m\u001b[0m__getattribute__\u001b[0m\u001b[0;34m(\u001b[0m\u001b[0mself\u001b[0m\u001b[0;34m,\u001b[0m \u001b[0mname\u001b[0m\u001b[0;34m)\u001b[0m\u001b[0;34m\u001b[0m\u001b[0;34m\u001b[0m\u001b[0m\n\u001b[0m",
      "\u001b[0;31mAttributeError\u001b[0m: 'DataFrame' object has no attribute 'actual_headway'"
     ]
    }
   ],
   "source": [
    "two_minutess_df[\"actual_headway_min\"] = two_minutess_df.actual_headway / 60"
   ]
  },
  {
   "cell_type": "code",
   "execution_count": null,
   "id": "bd9b8ee4-aab3-42c9-b29a-9679f5494ffa",
   "metadata": {},
   "outputs": [],
   "source": [
    "two_minutess_df[\"bunched_y_n\"] = np.where(\n",
    "    two_minutess_df[\"actual_headway_min\"] <= 2, \"bunched\", \"not bunched\"\n",
    ")"
   ]
  },
  {
   "cell_type": "code",
   "execution_count": null,
   "id": "83382d9f-09c5-4bf2-a55b-41dc541dee51",
   "metadata": {},
   "outputs": [],
   "source": [
    "two_minutess_df.info()"
   ]
  },
  {
   "cell_type": "code",
   "execution_count": null,
   "id": "dcd302cb-5f30-4318-8b28-cb29f6c376cd",
   "metadata": {},
   "outputs": [],
   "source": [
    "two_minutess_df.bunched_y_n.value_counts()"
   ]
  },
  {
   "cell_type": "markdown",
   "id": "626c2f22-4d45-4fe2-814d-773ae9dbd843",
   "metadata": {},
   "source": [
    "#### Same code as Transit Matters Approach"
   ]
  },
  {
   "cell_type": "code",
   "execution_count": null,
   "id": "f2532ed7-194c-4b2d-841c-a2282379a44a",
   "metadata": {},
   "outputs": [],
   "source": [
    "two_minutes_agg1 = (\n",
    "    two_minutess_df.groupby(\n",
    "        [\n",
    "            \"schedule_gtfs_dataset_key\",\n",
    "            \"route_long_name\",\n",
    "            \"shape_array_key\",\n",
    "            \"route_id\",\n",
    "            \"stop_id\",\n",
    "            \"direction_id\",\n",
    "            \"route_primary_direction\",\n",
    "            \"bunched_y_n\",\n",
    "        ]\n",
    "    )\n",
    "    .agg({\"trip_instance_key\": \"nunique\"})\n",
    "    .reset_index()\n",
    ")"
   ]
  },
  {
   "cell_type": "code",
   "execution_count": null,
   "id": "666be796-5edd-42aa-bffb-a5105d0753f5",
   "metadata": {},
   "outputs": [],
   "source": [
    "bunched_only_two_min = (\n",
    "    two_minutes_agg1.loc[two_minutes_agg1.bunched_y_n == \"bunched\"]\n",
    "    .reset_index(drop=True)\n",
    "    .rename(columns={\"trip_instance_key\": \"bunched_trips\"})\n",
    ")"
   ]
  },
  {
   "cell_type": "code",
   "execution_count": null,
   "id": "37519780-57b0-47c8-a911-aa53ff7eb4d6",
   "metadata": {},
   "outputs": [],
   "source": [
    "# I want to do a left merge because I'm only interested in trips that bunched.\n",
    "bunched_only_two_min = pd.merge(\n",
    "    bunched_only_two_min,\n",
    "    transit_matters_all_trips,\n",
    "    on=[\n",
    "        \"schedule_gtfs_dataset_key\",\n",
    "        \"route_long_name\",\n",
    "        \"shape_array_key\",\n",
    "        \"route_id\",\n",
    "        \"stop_id\",\n",
    "        \"direction_id\",\n",
    "        \"route_primary_direction\",\n",
    "    ],\n",
    "    how=\"left\",\n",
    ")"
   ]
  },
  {
   "cell_type": "code",
   "execution_count": null,
   "id": "993d3341-bb43-4553-852a-341b8726b710",
   "metadata": {},
   "outputs": [],
   "source": [
    "bunched_only_two_min[\"pct_trips_bunched\"] = (\n",
    "    bunched_only_two_min.bunched_trips / bunched_only_two_min.all_trips * 100\n",
    ")"
   ]
  },
  {
   "cell_type": "code",
   "execution_count": null,
   "id": "91b29863-5465-48c9-8257-bf8d84457b11",
   "metadata": {},
   "outputs": [],
   "source": [
    "bunched_only_two_min = bunched_only_two_min.drop(columns=[\"all_trips\"])"
   ]
  },
  {
   "cell_type": "code",
   "execution_count": null,
   "id": "9cb116be-b313-40e3-a0ef-a510b42da6e1",
   "metadata": {},
   "outputs": [],
   "source": [
    "# Need to do a left merge on all trips for the stops that don't have bunching.\n",
    "final_two_minute = pd.merge(\n",
    "    transit_matters_all_trips,\n",
    "    bunched_only_two_min,\n",
    "    on=[\n",
    "        \"schedule_gtfs_dataset_key\",\n",
    "        \"route_long_name\",\n",
    "        \"shape_array_key\",\n",
    "        \"route_id\",\n",
    "        \"stop_id\",\n",
    "        \"direction_id\",\n",
    "        \"route_primary_direction\",\n",
    "    ],\n",
    "    how=\"left\",\n",
    ")"
   ]
  },
  {
   "cell_type": "code",
   "execution_count": null,
   "id": "961b9cfb-cb94-485c-bcf5-92e9b51024d4",
   "metadata": {},
   "outputs": [],
   "source": [
    "final_two_minute.shape"
   ]
  },
  {
   "cell_type": "code",
   "execution_count": null,
   "id": "cfefaf19-4eaa-4d10-a83d-79d2fe5d9c62",
   "metadata": {},
   "outputs": [],
   "source": [
    "final_two_minute = final_two_minute.drop(columns=[\"bunched_y_n\", \"bunched_trips\"])"
   ]
  },
  {
   "cell_type": "markdown",
   "id": "0245edb1-d604-49ce-895b-5427aa335c19",
   "metadata": {},
   "source": [
    "### Checkout all 3 using a stop_sequence/direction_id for Fillmore again\n",
    "* Very different results between the 3 approaches. \n",
    "* The coefficient one says frequent bunching lol, but the other methods say there isn't any bunching..."
   ]
  },
  {
   "cell_type": "code",
   "execution_count": null,
   "id": "ff3e9b4f-7605-48c2-8b0a-20f81256a245",
   "metadata": {},
   "outputs": [],
   "source": [
    "transit_matters_m2.shape"
   ]
  },
  {
   "cell_type": "code",
   "execution_count": null,
   "id": "50982a5e-db93-4550-917d-774fbf6849ea",
   "metadata": {},
   "outputs": [],
   "source": [
    "bunching_by_stops.shape"
   ]
  },
  {
   "cell_type": "code",
   "execution_count": null,
   "id": "b1249289-f44d-468d-90f1-c27d78ea8b15",
   "metadata": {},
   "outputs": [],
   "source": [
    "fillmore.loc[\n",
    "    (fillmore.shape_array_key == \"1b678a66d0009c55bc573cfc37aa1029\")\n",
    "    & (fillmore.stop_id == \"13086\")\n",
    "    & (fillmore.direction_id == 0)\n",
    "]"
   ]
  },
  {
   "cell_type": "code",
   "execution_count": null,
   "id": "90f9c952-ecde-46d3-9b3f-93ba0004bb64",
   "metadata": {},
   "outputs": [],
   "source": [
    "transit_matters_m2.loc[\n",
    "    (transit_matters_m2.shape_array_key == \"1b678a66d0009c55bc573cfc37aa1029\")\n",
    "    & (transit_matters_m2.stop_id == \"13086\")\n",
    "    & (transit_matters_m2.direction_id == 0)\n",
    "]"
   ]
  },
  {
   "cell_type": "code",
   "execution_count": null,
   "id": "68c6e64d-362e-4562-bc4d-3b8b03bd256d",
   "metadata": {},
   "outputs": [],
   "source": [
    "final_two_minute.loc[\n",
    "    (final_two_minute.shape_array_key == \"1b678a66d0009c55bc573cfc37aa1029\")\n",
    "    & (final_two_minute.stop_id == \"13086\")\n",
    "    & (final_two_minute.direction_id == 0)\n",
    "]"
   ]
  },
  {
   "cell_type": "code",
   "execution_count": null,
   "id": "bb2c1e1a-e243-4786-b9e1-07e64e8a7fbf",
   "metadata": {},
   "outputs": [],
   "source": [
    "# convert seconds to timestamp\n",
    "transit_matters_fillmore_test[\"rt_arrival_time\"] = pd.to_timedelta(\n",
    "    transit_matters_fillmore_test[\"rt_arrival_sec\"], unit=\"s\"\n",
    ")"
   ]
  },
  {
   "cell_type": "code",
   "execution_count": null,
   "id": "2ac7215b-82e7-4cf7-92b0-220cb46a4416",
   "metadata": {},
   "outputs": [],
   "source": [
    "transit_matters_fillmore_test"
   ]
  }
 ],
 "metadata": {
  "kernelspec": {
   "display_name": "Python 3 (ipykernel)",
   "language": "python",
   "name": "python3"
  },
  "language_info": {
   "codemirror_mode": {
    "name": "ipython",
    "version": 3
   },
   "file_extension": ".py",
   "mimetype": "text/x-python",
   "name": "python",
   "nbconvert_exporter": "python",
   "pygments_lexer": "ipython3",
   "version": "3.9.13"
  }
 },
 "nbformat": 4,
 "nbformat_minor": 5
}
