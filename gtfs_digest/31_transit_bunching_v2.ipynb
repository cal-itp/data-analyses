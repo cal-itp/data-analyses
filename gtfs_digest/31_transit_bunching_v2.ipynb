{
 "cells": [
  {
   "cell_type": "markdown",
   "id": "733e5c07-e894-48de-b92a-9cba10b7fc9a",
   "metadata": {},
   "source": [
    "## Transit Bunching V2\n",
    "* Incorporating Katrina and Eric's comments.\n",
    "* cd data-analyses/rt_segment_speeds && pip install -r requirements.txt && cd ../_shared_utils && make setup_env && cd ../gtfs_digest\n",
    "* [Issue](https://github.com/cal-itp/data-analyses/issues/1099)"
   ]
  },
  {
   "cell_type": "code",
   "execution_count": 1,
   "id": "60097cf1-857d-4c7f-9fc7-043a69ec1a61",
   "metadata": {},
   "outputs": [],
   "source": [
    "import datetime as dt\n",
    "\n",
    "import geopandas as gpd\n",
    "import merge_data\n",
    "import numpy as np\n",
    "import pandas as pd\n",
    "from segment_speed_utils import gtfs_schedule_wrangling, helpers, time_series_utils\n",
    "from shared_utils import catalog_utils, rt_dates, rt_utils\n",
    "from update_vars import GTFS_DATA_DICT, RT_SCHED_GCS, SCHED_GCS\n",
    "\n",
    "# https://github.com/cal-itp/data-analyses/blob/main/_shared_utils/shared_utils/gtfs_analytics_data.yml\n",
    "GTFS_DATA_DICT = catalog_utils.get_catalog(\"gtfs_analytics_data\")\n",
    "\n",
    "from segment_speed_utils.project_vars import (\n",
    "    COMPILED_CACHED_VIEWS,\n",
    "    GTFS_DATA_DICT,\n",
    "    PROJECT_CRS,\n",
    "    RT_SCHED_GCS,\n",
    "    SCHED_GCS,\n",
    "    SEGMENT_GCS,\n",
    ")"
   ]
  },
  {
   "cell_type": "code",
   "execution_count": 2,
   "id": "51a085f8-5981-4da7-904f-6348cf2e18b0",
   "metadata": {},
   "outputs": [],
   "source": [
    "pd.options.display.max_columns = 100\n",
    "pd.options.display.float_format = \"{:.2f}\".format\n",
    "pd.set_option(\"display.max_rows\", None)\n",
    "pd.set_option(\"display.max_colwidth\", None)"
   ]
  },
  {
   "cell_type": "code",
   "execution_count": 3,
   "id": "113bd786-8d4b-4153-939b-b419b4fa97ee",
   "metadata": {},
   "outputs": [],
   "source": [
    "may_date = \"2024-05-22\""
   ]
  },
  {
   "cell_type": "code",
   "execution_count": 4,
   "id": "44a80420-dbe8-4a2b-9c47-44b32bf28e00",
   "metadata": {},
   "outputs": [],
   "source": [
    "drop_for_preview = [\n",
    "    \"schedule_gtfs_dataset_key\",\n",
    "    \"trip_instance_key\",\n",
    "    \"shape_array_key\",\n",
    "    \"feed_key\",\n",
    "    \"trip_id\",\n",
    "]"
   ]
  },
  {
   "cell_type": "markdown",
   "id": "2be7e7cc-b6c5-4c87-b2d5-6cb8612e23ce",
   "metadata": {},
   "source": [
    "### Get routes with short headways."
   ]
  },
  {
   "cell_type": "code",
   "execution_count": 5,
   "id": "873bf893-40a2-4b64-84ba-68604c6df18b",
   "metadata": {},
   "outputs": [],
   "source": [
    "subset = [\n",
    "    \"schedule_gtfs_dataset_key\",\n",
    "    \"route_id\",\n",
    "    \"direction_id\",\n",
    "    \"route_primary_direction\",\n",
    "    \"service_date\",\n",
    "    \"frequency\",\n",
    "]"
   ]
  },
  {
   "cell_type": "code",
   "execution_count": 6,
   "id": "c9c35b69-d5ad-47b6-9027-33cc6631835e",
   "metadata": {},
   "outputs": [
    {
     "data": {
      "text/plain": [
       "'schedule_route_dir/schedule_route_direction_metrics'"
      ]
     },
     "execution_count": 6,
     "metadata": {},
     "output_type": "execute_result"
    }
   ],
   "source": [
    "GTFS_DATA_DICT.rt_vs_schedule_tables.sched_route_direction_metrics"
   ]
  },
  {
   "cell_type": "code",
   "execution_count": 7,
   "id": "9d07da3c-e347-4671-925b-e8f5bc31c0fd",
   "metadata": {},
   "outputs": [],
   "source": [
    "route_dir = merge_data.concatenate_schedule_by_route_direction([may_date])"
   ]
  },
  {
   "cell_type": "code",
   "execution_count": 8,
   "id": "260b6305-9e99-4870-82f7-5cae925d9a0d",
   "metadata": {},
   "outputs": [
    {
     "data": {
      "text/html": [
       "<div>\n",
       "<style scoped>\n",
       "    .dataframe tbody tr th:only-of-type {\n",
       "        vertical-align: middle;\n",
       "    }\n",
       "\n",
       "    .dataframe tbody tr th {\n",
       "        vertical-align: top;\n",
       "    }\n",
       "\n",
       "    .dataframe thead th {\n",
       "        text-align: right;\n",
       "    }\n",
       "</style>\n",
       "<table border=\"1\" class=\"dataframe\">\n",
       "  <thead>\n",
       "    <tr style=\"text-align: right;\">\n",
       "      <th></th>\n",
       "      <th>schedule_gtfs_dataset_key</th>\n",
       "      <th>route_id</th>\n",
       "      <th>direction_id</th>\n",
       "      <th>time_period</th>\n",
       "      <th>route_primary_direction</th>\n",
       "      <th>avg_scheduled_service_minutes</th>\n",
       "      <th>avg_stop_miles</th>\n",
       "      <th>n_scheduled_trips</th>\n",
       "      <th>frequency</th>\n",
       "      <th>is_express</th>\n",
       "      <th>is_rapid</th>\n",
       "      <th>is_rail</th>\n",
       "      <th>is_coverage</th>\n",
       "      <th>is_downtown_local</th>\n",
       "      <th>is_local</th>\n",
       "      <th>service_date</th>\n",
       "    </tr>\n",
       "  </thead>\n",
       "  <tbody>\n",
       "    <tr>\n",
       "      <th>0</th>\n",
       "      <td>015d67d5b75b5cf2b710bbadadfb75f5</td>\n",
       "      <td>17</td>\n",
       "      <td>0.00</td>\n",
       "      <td>all_day</td>\n",
       "      <td>Northbound</td>\n",
       "      <td>51.77</td>\n",
       "      <td>0.27</td>\n",
       "      <td>22</td>\n",
       "      <td>0.92</td>\n",
       "      <td>0.00</td>\n",
       "      <td>0.00</td>\n",
       "      <td>0.00</td>\n",
       "      <td>0.00</td>\n",
       "      <td>1.00</td>\n",
       "      <td>0.00</td>\n",
       "      <td>2024-05-22</td>\n",
       "    </tr>\n",
       "    <tr>\n",
       "      <th>1</th>\n",
       "      <td>015d67d5b75b5cf2b710bbadadfb75f5</td>\n",
       "      <td>17</td>\n",
       "      <td>0.00</td>\n",
       "      <td>offpeak</td>\n",
       "      <td>Northbound</td>\n",
       "      <td>51.77</td>\n",
       "      <td>0.27</td>\n",
       "      <td>10</td>\n",
       "      <td>0.62</td>\n",
       "      <td>0.00</td>\n",
       "      <td>0.00</td>\n",
       "      <td>0.00</td>\n",
       "      <td>0.00</td>\n",
       "      <td>1.00</td>\n",
       "      <td>0.00</td>\n",
       "      <td>2024-05-22</td>\n",
       "    </tr>\n",
       "    <tr>\n",
       "      <th>2</th>\n",
       "      <td>015d67d5b75b5cf2b710bbadadfb75f5</td>\n",
       "      <td>17</td>\n",
       "      <td>0.00</td>\n",
       "      <td>peak</td>\n",
       "      <td>Northbound</td>\n",
       "      <td>51.77</td>\n",
       "      <td>0.27</td>\n",
       "      <td>12</td>\n",
       "      <td>1.50</td>\n",
       "      <td>0.00</td>\n",
       "      <td>0.00</td>\n",
       "      <td>0.00</td>\n",
       "      <td>0.00</td>\n",
       "      <td>1.00</td>\n",
       "      <td>0.00</td>\n",
       "      <td>2024-05-22</td>\n",
       "    </tr>\n",
       "    <tr>\n",
       "      <th>3</th>\n",
       "      <td>015d67d5b75b5cf2b710bbadadfb75f5</td>\n",
       "      <td>17</td>\n",
       "      <td>1.00</td>\n",
       "      <td>all_day</td>\n",
       "      <td>Southbound</td>\n",
       "      <td>46.73</td>\n",
       "      <td>0.28</td>\n",
       "      <td>22</td>\n",
       "      <td>0.92</td>\n",
       "      <td>0.00</td>\n",
       "      <td>1.00</td>\n",
       "      <td>0.00</td>\n",
       "      <td>0.00</td>\n",
       "      <td>1.00</td>\n",
       "      <td>0.00</td>\n",
       "      <td>2024-05-22</td>\n",
       "    </tr>\n",
       "    <tr>\n",
       "      <th>4</th>\n",
       "      <td>015d67d5b75b5cf2b710bbadadfb75f5</td>\n",
       "      <td>17</td>\n",
       "      <td>1.00</td>\n",
       "      <td>offpeak</td>\n",
       "      <td>Southbound</td>\n",
       "      <td>46.73</td>\n",
       "      <td>0.28</td>\n",
       "      <td>11</td>\n",
       "      <td>0.69</td>\n",
       "      <td>0.00</td>\n",
       "      <td>1.00</td>\n",
       "      <td>0.00</td>\n",
       "      <td>0.00</td>\n",
       "      <td>1.00</td>\n",
       "      <td>0.00</td>\n",
       "      <td>2024-05-22</td>\n",
       "    </tr>\n",
       "  </tbody>\n",
       "</table>\n",
       "</div>"
      ],
      "text/plain": [
       "          schedule_gtfs_dataset_key route_id  direction_id time_period  \\\n",
       "0  015d67d5b75b5cf2b710bbadadfb75f5       17          0.00     all_day   \n",
       "1  015d67d5b75b5cf2b710bbadadfb75f5       17          0.00     offpeak   \n",
       "2  015d67d5b75b5cf2b710bbadadfb75f5       17          0.00        peak   \n",
       "3  015d67d5b75b5cf2b710bbadadfb75f5       17          1.00     all_day   \n",
       "4  015d67d5b75b5cf2b710bbadadfb75f5       17          1.00     offpeak   \n",
       "\n",
       "  route_primary_direction  avg_scheduled_service_minutes  avg_stop_miles  \\\n",
       "0              Northbound                          51.77            0.27   \n",
       "1              Northbound                          51.77            0.27   \n",
       "2              Northbound                          51.77            0.27   \n",
       "3              Southbound                          46.73            0.28   \n",
       "4              Southbound                          46.73            0.28   \n",
       "\n",
       "   n_scheduled_trips  frequency  is_express  is_rapid  is_rail  is_coverage  \\\n",
       "0                 22       0.92        0.00      0.00     0.00         0.00   \n",
       "1                 10       0.62        0.00      0.00     0.00         0.00   \n",
       "2                 12       1.50        0.00      0.00     0.00         0.00   \n",
       "3                 22       0.92        0.00      1.00     0.00         0.00   \n",
       "4                 11       0.69        0.00      1.00     0.00         0.00   \n",
       "\n",
       "   is_downtown_local  is_local service_date  \n",
       "0               1.00      0.00   2024-05-22  \n",
       "1               1.00      0.00   2024-05-22  \n",
       "2               1.00      0.00   2024-05-22  \n",
       "3               1.00      0.00   2024-05-22  \n",
       "4               1.00      0.00   2024-05-22  "
      ]
     },
     "execution_count": 8,
     "metadata": {},
     "output_type": "execute_result"
    }
   ],
   "source": [
    "route_dir.head()"
   ]
  },
  {
   "cell_type": "code",
   "execution_count": 9,
   "id": "96dbb52d-f0f1-4234-bb0a-741d6133ad65",
   "metadata": {},
   "outputs": [],
   "source": [
    "route_dir2 = route_dir.loc[route_dir.time_period == \"peak\"].reset_index(drop=True)"
   ]
  },
  {
   "cell_type": "code",
   "execution_count": 10,
   "id": "f20ecdf1-76e0-4f7f-a10d-97860f6911e8",
   "metadata": {},
   "outputs": [],
   "source": [
    "route_dir2[\"headway_minutes\"] = 60 / route_dir.frequency"
   ]
  },
  {
   "cell_type": "markdown",
   "id": "a67f59fe-ae28-4e32-9b63-18514d18ab07",
   "metadata": {},
   "source": [
    "#### QUESTION: Should I use mean or median for finding routes that are high frequency?\n",
    "* Find Median."
   ]
  },
  {
   "cell_type": "code",
   "execution_count": 11,
   "id": "75b6d1d2-b6b5-4c44-8d5a-0f026e8fcd65",
   "metadata": {},
   "outputs": [],
   "source": [
    "route_freq_groupby = [\n",
    "    \"schedule_gtfs_dataset_key\",\n",
    "    \"route_id\",\n",
    "    \"direction_id\",\n",
    "    \"route_primary_direction\",\n",
    "]"
   ]
  },
  {
   "cell_type": "code",
   "execution_count": 12,
   "id": "bb655907-c556-42a8-b80d-e7e005710a53",
   "metadata": {},
   "outputs": [],
   "source": [
    "high_frequency_routes_median = (\n",
    "    route_dir2.groupby(route_freq_groupby)\n",
    "    .agg({\"headway_minutes\": \"median\"})\n",
    "    .reset_index()\n",
    "    .rename(columns={\"headway_minutes\": \"med_headway_minutes\"})\n",
    ")"
   ]
  },
  {
   "cell_type": "code",
   "execution_count": 13,
   "id": "d35238bb-2418-466b-8814-96382abeb3eb",
   "metadata": {},
   "outputs": [],
   "source": [
    "# Grab Crosswalk\n",
    "CROSSWALK = GTFS_DATA_DICT.schedule_tables.gtfs_key_crosswalk"
   ]
  },
  {
   "cell_type": "code",
   "execution_count": 14,
   "id": "6272b8aa-0d76-4e18-bc76-66548f54c9a0",
   "metadata": {},
   "outputs": [],
   "source": [
    "crosswalk_cols = [\n",
    "    \"schedule_gtfs_dataset_key\",\n",
    "    \"organization_name\",\n",
    "    \"name\",\n",
    "    \"caltrans_district\",\n",
    "]"
   ]
  },
  {
   "cell_type": "code",
   "execution_count": 15,
   "id": "d5d62df4-cffb-4bc8-9ad1-9766a8ec2bf1",
   "metadata": {},
   "outputs": [],
   "source": [
    "crosswalk_df = (\n",
    "    time_series_utils.concatenate_datasets_across_dates(\n",
    "        SCHED_GCS, CROSSWALK, [may_date], data_type=\"df\", columns=crosswalk_cols\n",
    "    )\n",
    "    .sort_values([\"service_date\"])\n",
    "    .reset_index(drop=True)\n",
    ")"
   ]
  },
  {
   "cell_type": "code",
   "execution_count": 16,
   "id": "661b3b18-5735-443d-acfc-4f598882a661",
   "metadata": {},
   "outputs": [
    {
     "data": {
      "text/plain": [
       "(168, 5)"
      ]
     },
     "execution_count": 16,
     "metadata": {},
     "output_type": "execute_result"
    }
   ],
   "source": [
    "crosswalk_df.shape"
   ]
  },
  {
   "cell_type": "markdown",
   "id": "4d60454a-36e2-491e-bf4a-e4111bf35271",
   "metadata": {},
   "source": [
    "#### Grab routes in the 5th percentile of frequency for now.\n",
    "* Eric: <i>Taking the 5%ile (17.65min headway) is reasonable, but I suspect the worst bunching issues might be on routes with headways at/below the 10min mark? Maybe try 15 and 10 as well?</i>"
   ]
  },
  {
   "cell_type": "code",
   "execution_count": 17,
   "id": "19c16f8b-5bec-48b9-9b26-2765f63db58d",
   "metadata": {},
   "outputs": [
    {
     "data": {
      "text/plain": [
       "count   3238.00\n",
       "mean     236.95\n",
       "std      350.81\n",
       "min        4.00\n",
       "5%        13.83\n",
       "10%       18.81\n",
       "50%       89.55\n",
       "90%      750.00\n",
       "95%     1000.00\n",
       "max     1500.00\n",
       "Name: med_headway_minutes, dtype: float64"
      ]
     },
     "execution_count": 17,
     "metadata": {},
     "output_type": "execute_result"
    }
   ],
   "source": [
    "high_frequency_routes_median[\"med_headway_minutes\"].describe(\n",
    "    percentiles=[0.05, 0.1, 0.9, 0.95]\n",
    ")"
   ]
  },
  {
   "cell_type": "code",
   "execution_count": 18,
   "id": "43bbb489-39ab-4c98-8685-66f94c413bf6",
   "metadata": {},
   "outputs": [],
   "source": [
    "high_frequency_routes2 = high_frequency_routes_median.loc[\n",
    "    high_frequency_routes_median.med_headway_minutes <= 15\n",
    "]"
   ]
  },
  {
   "cell_type": "markdown",
   "id": "84741559-46a2-4a62-a6e2-8843771aea1f",
   "metadata": {},
   "source": [
    "#### Attach operators and districts"
   ]
  },
  {
   "cell_type": "code",
   "execution_count": 19,
   "id": "d9d562b4-7ce1-4ea5-bdba-e8e0abbc3815",
   "metadata": {},
   "outputs": [],
   "source": [
    "high_frequency_routes2 = pd.merge(\n",
    "    high_frequency_routes2, crosswalk_df, on=\"schedule_gtfs_dataset_key\", how=\"left\"\n",
    ")"
   ]
  },
  {
   "cell_type": "code",
   "execution_count": 20,
   "id": "7c7177b7-4b7b-4c91-9f38-667588019b28",
   "metadata": {},
   "outputs": [
    {
     "data": {
      "text/plain": [
       "158"
      ]
     },
     "execution_count": 20,
     "metadata": {},
     "output_type": "execute_result"
    }
   ],
   "source": [
    "high_frequency_routes2.route_id.nunique()"
   ]
  },
  {
   "cell_type": "markdown",
   "id": "207670ea-105b-4b6a-be32-53bfcc79349b",
   "metadata": {},
   "source": [
    "### Get trips of high frequency routes"
   ]
  },
  {
   "cell_type": "code",
   "execution_count": 21,
   "id": "674f8ee6-3f6d-4f90-90ba-7ea9ee688b28",
   "metadata": {},
   "outputs": [],
   "source": [
    "TABLE = GTFS_DATA_DICT.schedule_downloads.trips"
   ]
  },
  {
   "cell_type": "code",
   "execution_count": 22,
   "id": "5333afa8-4849-4864-b253-b03a1093e84f",
   "metadata": {},
   "outputs": [],
   "source": [
    "FILE = f\"{COMPILED_CACHED_VIEWS}{TABLE}_{may_date}.parquet\""
   ]
  },
  {
   "cell_type": "code",
   "execution_count": 23,
   "id": "111e2c27-337d-4440-a1f6-10ec582a6f9e",
   "metadata": {},
   "outputs": [],
   "source": [
    "trips_subset = [\n",
    "    \"gtfs_dataset_key\",\n",
    "    \"route_id\",\n",
    "    \"trip_instance_key\",\n",
    "    \"shape_array_key\",\n",
    "    \"feed_key\",\n",
    "    \"route_long_name\",\n",
    "    \"direction_id\",\n",
    "    \"route_type\",\n",
    "]"
   ]
  },
  {
   "cell_type": "code",
   "execution_count": 24,
   "id": "e1aed68a-0ed2-4da4-904a-cb91681e7f38",
   "metadata": {},
   "outputs": [],
   "source": [
    "trips = pd.read_parquet(FILE)[trips_subset].rename(\n",
    "    columns={\"gtfs_dataset_key\": \"schedule_gtfs_dataset_key\"}\n",
    ")"
   ]
  },
  {
   "cell_type": "code",
   "execution_count": 25,
   "id": "04901f96-76d5-4d99-b3d1-f174ef989357",
   "metadata": {},
   "outputs": [],
   "source": [
    "# Find only trips that belong to high frequency routes\n",
    "trips_freq_routes = pd.merge(\n",
    "    trips,\n",
    "    high_frequency_routes2,\n",
    "    on=[\"schedule_gtfs_dataset_key\", \"route_id\", \"direction_id\"],\n",
    "    how=\"inner\",\n",
    ")"
   ]
  },
  {
   "cell_type": "code",
   "execution_count": 26,
   "id": "1195177f-0215-4b24-9e47-dccfb3ee542e",
   "metadata": {},
   "outputs": [
    {
     "data": {
      "text/plain": [
       "(4140, 14)"
      ]
     },
     "execution_count": 26,
     "metadata": {},
     "output_type": "execute_result"
    }
   ],
   "source": [
    "trips_freq_routes.shape"
   ]
  },
  {
   "cell_type": "code",
   "execution_count": 27,
   "id": "d9688e03-4b61-4736-b9d5-3539b0de80b2",
   "metadata": {},
   "outputs": [],
   "source": [
    "# https://gtfs.org/documentation/schedule/reference/#\n",
    "route_type_crosswalk = {\n",
    "    \"route_type\": [\"0\", \"1\", \"2\", \"3\", \"4\", \"5\", \"6\", \"7\", \"11\", \"12\"],\n",
    "    \"route_type_str\": [\n",
    "        \"Tram, Streetcar, Light rail\",\n",
    "        \"Subway, Metro\",\n",
    "        \"Rail\",\n",
    "        \"Bus\",\n",
    "        \"Ferry.\",\n",
    "        \"Cable tram.\",\n",
    "        \"Aerial lift, suspended cable car (e.g., gondola lift, aerial tramway).\",\n",
    "        \"Funicular.\",\n",
    "        \"Trolleybus.\",\n",
    "        \"Monorail.\",\n",
    "    ],\n",
    "}"
   ]
  },
  {
   "cell_type": "code",
   "execution_count": 28,
   "id": "04983f98-885d-402c-9518-a64dc4d3d005",
   "metadata": {},
   "outputs": [],
   "source": [
    "route_type_crosswalk_df = pd.DataFrame(route_type_crosswalk)"
   ]
  },
  {
   "cell_type": "code",
   "execution_count": 29,
   "id": "318a30b8-03a6-44d9-8dcc-ed05c57ff2db",
   "metadata": {},
   "outputs": [],
   "source": [
    "# Merge for route_type\n",
    "trips_freq_routes = pd.merge(\n",
    "    trips_freq_routes, route_type_crosswalk_df, on=[\"route_type\"], how=\"left\"\n",
    ")"
   ]
  },
  {
   "cell_type": "code",
   "execution_count": 30,
   "id": "6d9b7613-c08d-4603-a7eb-0eca3090ccf9",
   "metadata": {},
   "outputs": [
    {
     "data": {
      "text/plain": [
       "array(['Bus', 'Rail', 'Subway, Metro', 'Tram, Streetcar, Light rail'],\n",
       "      dtype=object)"
      ]
     },
     "execution_count": 30,
     "metadata": {},
     "output_type": "execute_result"
    }
   ],
   "source": [
    "trips_freq_routes.route_type_str.unique()"
   ]
  },
  {
   "cell_type": "code",
   "execution_count": 31,
   "id": "01a26feb-8d31-4308-9868-47840a7f6591",
   "metadata": {},
   "outputs": [],
   "source": [
    "trips_freq_routes = trips_freq_routes.drop(columns=[\"route_type\"])"
   ]
  },
  {
   "cell_type": "markdown",
   "id": "e3be8778-84ff-479f-a3b2-178e374da5f2",
   "metadata": {},
   "source": [
    "### `rt_stop_times2`: Get Stop Times of High Frequency Routes/Trips"
   ]
  },
  {
   "cell_type": "code",
   "execution_count": 32,
   "id": "3f6727c6-205f-4cc8-8a68-42e8dec6e4b3",
   "metadata": {},
   "outputs": [],
   "source": [
    "rt_stop_times = pd.read_parquet(\n",
    "    \"gs://calitp-analytics-data/data-analyses/rt_vs_schedule/schedule_rt_stop_times_2024-05-22.parquet\"\n",
    ")"
   ]
  },
  {
   "cell_type": "code",
   "execution_count": 33,
   "id": "12c414e2-3cc3-48f3-b5e3-de174c29fa9d",
   "metadata": {},
   "outputs": [
    {
     "data": {
      "text/plain": [
       "_merge    \n",
       "left_only     2483048\n",
       "both           118214\n",
       "right_only       1081\n",
       "dtype: int64"
      ]
     },
     "execution_count": 33,
     "metadata": {},
     "output_type": "execute_result"
    }
   ],
   "source": [
    "# How is it possible to have right_only trips?\n",
    "pd.merge(\n",
    "    rt_stop_times,\n",
    "    trips_freq_routes,\n",
    "    on=[\n",
    "        \"schedule_gtfs_dataset_key\",\n",
    "        \"trip_instance_key\",\n",
    "    ],\n",
    "    how=\"outer\",\n",
    "    indicator=True,\n",
    ")[[\"_merge\"]].value_counts()"
   ]
  },
  {
   "cell_type": "code",
   "execution_count": 34,
   "id": "049a2833-f132-431a-8f44-92f31cd11d8a",
   "metadata": {},
   "outputs": [],
   "source": [
    "# Find only stop times of trips that belong to high frequency trips\n",
    "rt_stop_times2 = pd.merge(\n",
    "    rt_stop_times,\n",
    "    trips_freq_routes,\n",
    "    on=[\n",
    "        \"schedule_gtfs_dataset_key\",\n",
    "        \"trip_instance_key\",\n",
    "    ],\n",
    "    how=\"inner\",\n",
    ")"
   ]
  },
  {
   "cell_type": "code",
   "execution_count": 35,
   "id": "d1abbbd0-0cee-4f03-a4bb-497209a62498",
   "metadata": {},
   "outputs": [
    {
     "data": {
      "text/plain": [
       "(118214, 19)"
      ]
     },
     "execution_count": 35,
     "metadata": {},
     "output_type": "execute_result"
    }
   ],
   "source": [
    "rt_stop_times2.shape"
   ]
  },
  {
   "cell_type": "code",
   "execution_count": 36,
   "id": "6464ea15-574a-4976-a41f-26440f7ca1ed",
   "metadata": {},
   "outputs": [
    {
     "data": {
      "text/plain": [
       "(3059, 3059)"
      ]
     },
     "execution_count": 36,
     "metadata": {},
     "output_type": "execute_result"
    }
   ],
   "source": [
    "rt_stop_times2.trip_id.nunique(), rt_stop_times2.trip_instance_key.nunique()"
   ]
  },
  {
   "cell_type": "markdown",
   "id": "c256e4ba-a42c-4bb6-ba65-2f79475b2ac4",
   "metadata": {},
   "source": [
    "#### What to do with `scheduled_arrival_sec` that are `nan`?"
   ]
  },
  {
   "cell_type": "code",
   "execution_count": 37,
   "id": "7c59d770-d379-422e-a23d-9140c23df375",
   "metadata": {},
   "outputs": [
    {
     "name": "stdout",
     "output_type": "stream",
     "text": [
      "<class 'pandas.core.frame.DataFrame'>\n",
      "Int64Index: 118214 entries, 0 to 118213\n",
      "Data columns (total 19 columns):\n",
      " #   Column                     Non-Null Count   Dtype         \n",
      "---  ------                     --------------   -----         \n",
      " 0   trip_id                    118214 non-null  object        \n",
      " 1   stop_id                    118214 non-null  object        \n",
      " 2   stop_sequence              118214 non-null  int64         \n",
      " 3   scheduled_arrival_sec      116687 non-null  float64       \n",
      " 4   schedule_gtfs_dataset_key  118214 non-null  object        \n",
      " 5   trip_instance_key          118214 non-null  object        \n",
      " 6   rt_arrival_sec             118214 non-null  int64         \n",
      " 7   route_id                   118214 non-null  object        \n",
      " 8   shape_array_key            118214 non-null  object        \n",
      " 9   feed_key                   118214 non-null  object        \n",
      " 10  route_long_name            118214 non-null  object        \n",
      " 11  direction_id               118214 non-null  float64       \n",
      " 12  route_primary_direction    118214 non-null  object        \n",
      " 13  med_headway_minutes        118214 non-null  float64       \n",
      " 14  organization_name          118214 non-null  object        \n",
      " 15  name                       118214 non-null  object        \n",
      " 16  caltrans_district          118214 non-null  object        \n",
      " 17  service_date               118214 non-null  datetime64[ns]\n",
      " 18  route_type_str             118214 non-null  object        \n",
      "dtypes: datetime64[ns](1), float64(3), int64(2), object(13)\n",
      "memory usage: 18.0+ MB\n"
     ]
    }
   ],
   "source": [
    "rt_stop_times2.info()"
   ]
  },
  {
   "cell_type": "code",
   "execution_count": 38,
   "id": "bfb52e77-27c2-41d9-ab83-de76497577da",
   "metadata": {},
   "outputs": [],
   "source": [
    "rt_stop_times2[\"scheduled_arrival_sec_copy\"] = rt_stop_times2.scheduled_arrival_sec"
   ]
  },
  {
   "cell_type": "code",
   "execution_count": 39,
   "id": "f6bf9598-60b9-4169-9f71-53be00cef8b8",
   "metadata": {},
   "outputs": [],
   "source": [
    "rt_stop_times3 = rt_stop_times2.loc[rt_stop_times2.scheduled_arrival_sec.notna()].reset_index(drop = True)"
   ]
  },
  {
   "cell_type": "code",
   "execution_count": 40,
   "id": "70477a11-34b4-45a7-9b1f-35dfd2d68231",
   "metadata": {},
   "outputs": [
    {
     "name": "stdout",
     "output_type": "stream",
     "text": [
      "<class 'pandas.core.frame.DataFrame'>\n",
      "RangeIndex: 116687 entries, 0 to 116686\n",
      "Data columns (total 20 columns):\n",
      " #   Column                      Non-Null Count   Dtype         \n",
      "---  ------                      --------------   -----         \n",
      " 0   trip_id                     116687 non-null  object        \n",
      " 1   stop_id                     116687 non-null  object        \n",
      " 2   stop_sequence               116687 non-null  int64         \n",
      " 3   scheduled_arrival_sec       116687 non-null  float64       \n",
      " 4   schedule_gtfs_dataset_key   116687 non-null  object        \n",
      " 5   trip_instance_key           116687 non-null  object        \n",
      " 6   rt_arrival_sec              116687 non-null  int64         \n",
      " 7   route_id                    116687 non-null  object        \n",
      " 8   shape_array_key             116687 non-null  object        \n",
      " 9   feed_key                    116687 non-null  object        \n",
      " 10  route_long_name             116687 non-null  object        \n",
      " 11  direction_id                116687 non-null  float64       \n",
      " 12  route_primary_direction     116687 non-null  object        \n",
      " 13  med_headway_minutes         116687 non-null  float64       \n",
      " 14  organization_name           116687 non-null  object        \n",
      " 15  name                        116687 non-null  object        \n",
      " 16  caltrans_district           116687 non-null  object        \n",
      " 17  service_date                116687 non-null  datetime64[ns]\n",
      " 18  route_type_str              116687 non-null  object        \n",
      " 19  scheduled_arrival_sec_copy  116687 non-null  float64       \n",
      "dtypes: datetime64[ns](1), float64(4), int64(2), object(13)\n",
      "memory usage: 17.8+ MB\n"
     ]
    }
   ],
   "source": [
    "rt_stop_times3.info()"
   ]
  },
  {
   "cell_type": "markdown",
   "id": "48737ec7-31be-4743-97ca-c6c000670a13",
   "metadata": {},
   "source": [
    "###  `rt_stop_times3`: Deal with time\n",
    "\n",
    "* If 82800  < `scheduled_arrival_time` < 86_400 but `rt_arrival_sec` is lower say 14_000 (4 am in the morning): then perhaps the bus was scheduled to arrive on May 21 (day before the service date) but it arrived a little later on the service date. \n",
    "\n",
    "* If  86_400 < `scheduled_arrival_time` and `rt_arrival_sec` is around 86_000 then this is the same service date. "
   ]
  },
  {
   "cell_type": "code",
   "execution_count": 41,
   "id": "d9e8d6f1-a66e-44a2-a448-5fdb3a8f2da2",
   "metadata": {},
   "outputs": [
    {
     "data": {
      "text/plain": [
       "82800"
      ]
     },
     "execution_count": 41,
     "metadata": {},
     "output_type": "execute_result"
    }
   ],
   "source": [
    "86_400 - (60*60)"
   ]
  },
  {
   "cell_type": "code",
   "execution_count": 42,
   "id": "4485d9ea-0eb1-4b2e-a249-9de75d2a0296",
   "metadata": {},
   "outputs": [],
   "source": [
    "#rt_stop_times3[\"scheduled_arrival_sec_2\"] = (\n",
    "#    rt_stop_times3[\"scheduled_arrival_sec\"] % 86_400\n",
    "#).fillna(0)"
   ]
  },
  {
   "cell_type": "code",
   "execution_count": 43,
   "id": "c93dffd6-6fe7-43f0-85fb-061b20d29a74",
   "metadata": {},
   "outputs": [
    {
     "data": {
      "text/plain": [
       "count   116687.00\n",
       "mean     49179.24\n",
       "std      18084.54\n",
       "min      12660.00\n",
       "25%      33960.00\n",
       "50%      48540.00\n",
       "75%      62460.00\n",
       "max     106680.00\n",
       "Name: scheduled_arrival_sec, dtype: float64"
      ]
     },
     "execution_count": 43,
     "metadata": {},
     "output_type": "execute_result"
    }
   ],
   "source": [
    "rt_stop_times3[\"scheduled_arrival_sec\"].describe()"
   ]
  },
  {
   "cell_type": "code",
   "execution_count": 44,
   "id": "97e3dc65-45fc-4318-a5f6-b0f497a6ab04",
   "metadata": {},
   "outputs": [
    {
     "data": {
      "text/plain": [
       "(16, 20)"
      ]
     },
     "execution_count": 44,
     "metadata": {},
     "output_type": "execute_result"
    }
   ],
   "source": [
    "rt_stop_times3.loc[rt_stop_times3[\"scheduled_arrival_sec\"] == 86_400].shape"
   ]
  },
  {
   "cell_type": "code",
   "execution_count": 45,
   "id": "15a58951-9ee0-4696-9065-b768737a582d",
   "metadata": {},
   "outputs": [
    {
     "data": {
      "text/plain": [
       "82800"
      ]
     },
     "execution_count": 45,
     "metadata": {},
     "output_type": "execute_result"
    }
   ],
   "source": [
    "86_400-3_600"
   ]
  },
  {
   "cell_type": "code",
   "execution_count": 46,
   "id": "d64637d8-ca0d-4e3c-b956-13d8e64e513c",
   "metadata": {},
   "outputs": [],
   "source": [
    "def adjust_days_and_time(seconds, date, rt_arrival_sec):\n",
    "    \"\"\"\n",
    "    Adjusts days and time based on seconds and rt_arrival_sec.\n",
    "\n",
    "    Parameters:\n",
    "    seconds (int): Number of seconds.\n",
    "    date (datetime): Initial date.\n",
    "    rt_arrival_sec (int): Arrival time in seconds.\n",
    "\n",
    "    Returns:\n",
    "    datetime: Adjusted date and time.\n",
    "    \"\"\"\n",
    "    if rt_arrival_sec < 16_000 and ((86_400) < seconds < 106_000):\n",
    "        # Subtract a day\n",
    "        return pd.Timestamp(date + pd.Timedelta(days=-1)) + pd.Timedelta(seconds=seconds % 86400)\n",
    "    elif (86_000 < rt_arrival_sec < 86_400) and (86_400 < seconds):\n",
    "        # Add days and remaining seconds\n",
    "        return pd.Timestamp(date) + pd.Timedelta(seconds=seconds % 86400)\n",
    "    #elif rt_arrival_sec < (86_400/2) and (86_400 < seconds):\n",
    "        ## Don't add extra day\n",
    "       # return pd.Timestamp(date) + pd.Timedelta(seconds=seconds % 86400)\n",
    "    elif seconds == 86_400:\n",
    "        # Add one day and reset time\n",
    "        date2 = pd.Timestamp(date + pd.Timedelta(days=1))\n",
    "        date_timestamp = date2.replace(hour=0, minute=0, second=0)\n",
    "        return date_timestamp\n",
    "    else:\n",
    "        # No change\n",
    "        return pd.Timestamp(date) + pd.Timedelta(seconds=seconds)"
   ]
  },
  {
   "cell_type": "code",
   "execution_count": 47,
   "id": "4b07d362-636f-49ed-983f-cb348660034c",
   "metadata": {},
   "outputs": [],
   "source": [
    "rt_stop_times3[\"converted_schd_arrival\"]= rt_stop_times3.apply(lambda row: adjust_days_and_time(row['scheduled_arrival_sec'], row['service_date'], row['rt_arrival_sec']), axis=1)"
   ]
  },
  {
   "cell_type": "code",
   "execution_count": 48,
   "id": "f68db963-dfec-4861-9831-e008bc4890f0",
   "metadata": {},
   "outputs": [],
   "source": [
    "def convert_to_midnight(df, date_column, comparison_date):\n",
    "    \"\"\"\n",
    "    Converts timestamps in a DataFrame to midnight if the date exceeds the comparison date.\n",
    "\n",
    "    Args:\n",
    "    - df (pd.DataFrame): Input DataFrame.\n",
    "    - date_column (str): Name of the column containing timestamps.\n",
    "    - comparison_date (str or pd.Timestamp): Date for comparison.\n",
    "\n",
    "    Returns:\n",
    "    - pd.DataFrame: Modified DataFrame with timestamps converted to midnight.\n",
    "    \"\"\"\n",
    "    comparison_date = pd.to_datetime(comparison_date)\n",
    "\n",
    "    # Ensure date_column is datetime type\n",
    "    df[date_column] = pd.to_datetime(df[date_column])\n",
    "\n",
    "    # Mask dates exceeding comparison_date and replace with midnight\n",
    "    mask = df[date_column].dt.date > comparison_date.date()\n",
    "    df.loc[mask, date_column] = df.loc[mask, date_column].dt.normalize()\n",
    "\n",
    "    return df"
   ]
  },
  {
   "cell_type": "code",
   "execution_count": 49,
   "id": "546d1250-aad7-40b4-8349-7189da606cc2",
   "metadata": {},
   "outputs": [],
   "source": [
    "# Convert to midnight anything that goes past the service date\n",
    "rt_stop_times3 = convert_to_midnight(\n",
    "    rt_stop_times3, \"scheduled_arrival_sec\", may_date\n",
    ")"
   ]
  },
  {
   "cell_type": "code",
   "execution_count": 50,
   "id": "5db197c8-e234-4427-8fdd-2a204d258040",
   "metadata": {},
   "outputs": [],
   "source": [
    "rt_stop_times3[\"converted_rt_arrival\"] = pd.to_datetime(\n",
    "    rt_stop_times3[\"service_date\"]\n",
    ") + pd.to_timedelta(rt_stop_times3[\"rt_arrival_sec\"] % 86400, unit=\"s\")"
   ]
  },
  {
   "cell_type": "code",
   "execution_count": 51,
   "id": "099c6838-aa42-4eb5-a250-0ac3e054f834",
   "metadata": {},
   "outputs": [],
   "source": [
    "timestamp_subset = [\n",
    "    \"converted_schd_arrival\",\n",
    "    \"converted_rt_arrival\",\n",
    "    \"scheduled_arrival_sec\",\n",
    "    \"rt_arrival_sec\",\n",
    "    \"service_date\",\n",
    "]"
   ]
  },
  {
   "cell_type": "code",
   "execution_count": 52,
   "id": "0ef36e93-79ed-4f86-b16a-9d28d90aea1a",
   "metadata": {},
   "outputs": [],
   "source": [
    "# Rearrange: I want the stop sequence to be 1,2,3,4.\n",
    "# stop ids can differ between trips of the same route and the same stop sequence is the same\n",
    "rt_stop_times4 = rt_stop_times3.sort_values(\n",
    "    by=[\n",
    "        \"schedule_gtfs_dataset_key\",\n",
    "        \"route_id\",\n",
    "        \"shape_array_key\",\n",
    "        \"direction_id\",\n",
    "        \"stop_sequence\",\n",
    "        \"rt_arrival_sec\",\n",
    "    ]\n",
    ").reset_index(drop=True)"
   ]
  },
  {
   "cell_type": "markdown",
   "id": "8a83b6e8-fbab-4ce2-b91e-bf32890bda18",
   "metadata": {},
   "source": [
    "### Calculate the difference btwn actual vs scheduled arrival."
   ]
  },
  {
   "cell_type": "code",
   "execution_count": 53,
   "id": "928199b9-8459-4c3b-9744-fcd482f896f3",
   "metadata": {},
   "outputs": [],
   "source": [
    "rt_stop_times4['delay_min'] = (rt_stop_times4['converted_rt_arrival'] - rt_stop_times4['converted_schd_arrival']).dt.total_seconds() / 60\n"
   ]
  },
  {
   "cell_type": "code",
   "execution_count": 54,
   "id": "525812c8-8a9b-4a52-a2e1-4a62a47cbada",
   "metadata": {},
   "outputs": [
    {
     "name": "stdout",
     "output_type": "stream",
     "text": [
      "count   116687.00\n",
      "mean        30.33\n",
      "std        216.39\n",
      "min      -1441.97\n",
      "1%          -5.52\n",
      "2%          -3.48\n",
      "5%          -2.13\n",
      "10%         -1.25\n",
      "50%          1.87\n",
      "90%          9.30\n",
      "95%         14.36\n",
      "98%       1437.88\n",
      "99%       1441.57\n",
      "max       1701.60\n",
      "Name: delay_min, dtype: float64\n"
     ]
    }
   ],
   "source": [
    "print(rt_stop_times4.delay_min.describe(percentiles=[0.01,0.02, 0.05, 0.1, 0.9, 0.95, 0.98,0.99]))"
   ]
  },
  {
   "cell_type": "code",
   "execution_count": 55,
   "id": "772fb613-2369-4971-984a-40680912c7dd",
   "metadata": {
    "scrolled": true,
    "tags": []
   },
   "outputs": [
    {
     "data": {
      "text/html": [
       "<div>\n",
       "<style scoped>\n",
       "    .dataframe tbody tr th:only-of-type {\n",
       "        vertical-align: middle;\n",
       "    }\n",
       "\n",
       "    .dataframe tbody tr th {\n",
       "        vertical-align: top;\n",
       "    }\n",
       "\n",
       "    .dataframe thead th {\n",
       "        text-align: right;\n",
       "    }\n",
       "</style>\n",
       "<table border=\"1\" class=\"dataframe\">\n",
       "  <thead>\n",
       "    <tr style=\"text-align: right;\">\n",
       "      <th></th>\n",
       "      <th>converted_schd_arrival</th>\n",
       "      <th>converted_rt_arrival</th>\n",
       "      <th>scheduled_arrival_sec</th>\n",
       "      <th>rt_arrival_sec</th>\n",
       "      <th>service_date</th>\n",
       "      <th>scheduled_arrival_sec_copy</th>\n",
       "      <th>delay_min</th>\n",
       "    </tr>\n",
       "  </thead>\n",
       "  <tbody>\n",
       "    <tr>\n",
       "      <th>1788</th>\n",
       "      <td>2024-05-23 04:23:00</td>\n",
       "      <td>2024-05-22 04:27:47</td>\n",
       "      <td>1970-01-01 00:00:00.000102180</td>\n",
       "      <td>16067</td>\n",
       "      <td>2024-05-22</td>\n",
       "      <td>102180.00</td>\n",
       "      <td>-1435.22</td>\n",
       "    </tr>\n",
       "    <tr>\n",
       "      <th>1894</th>\n",
       "      <td>2024-05-23 04:25:00</td>\n",
       "      <td>2024-05-22 04:28:32</td>\n",
       "      <td>1970-01-01 00:00:00.000102300</td>\n",
       "      <td>16112</td>\n",
       "      <td>2024-05-22</td>\n",
       "      <td>102300.00</td>\n",
       "      <td>-1436.47</td>\n",
       "    </tr>\n",
       "    <tr>\n",
       "      <th>2000</th>\n",
       "      <td>2024-05-23 04:25:00</td>\n",
       "      <td>2024-05-22 04:30:20</td>\n",
       "      <td>1970-01-01 00:00:00.000102300</td>\n",
       "      <td>16220</td>\n",
       "      <td>2024-05-22</td>\n",
       "      <td>102300.00</td>\n",
       "      <td>-1434.67</td>\n",
       "    </tr>\n",
       "    <tr>\n",
       "      <th>2106</th>\n",
       "      <td>2024-05-23 04:26:00</td>\n",
       "      <td>2024-05-22 04:31:13</td>\n",
       "      <td>1970-01-01 00:00:00.000102360</td>\n",
       "      <td>16273</td>\n",
       "      <td>2024-05-22</td>\n",
       "      <td>102360.00</td>\n",
       "      <td>-1434.78</td>\n",
       "    </tr>\n",
       "    <tr>\n",
       "      <th>2204</th>\n",
       "      <td>2024-05-22 23:55:00</td>\n",
       "      <td>2024-05-22 00:00:44</td>\n",
       "      <td>1970-01-01 00:00:00.000086100</td>\n",
       "      <td>44</td>\n",
       "      <td>2024-05-22</td>\n",
       "      <td>86100.00</td>\n",
       "      <td>-1434.27</td>\n",
       "    </tr>\n",
       "    <tr>\n",
       "      <th>2213</th>\n",
       "      <td>2024-05-23 04:27:00</td>\n",
       "      <td>2024-05-22 04:32:04</td>\n",
       "      <td>1970-01-01 00:00:00.000102420</td>\n",
       "      <td>16324</td>\n",
       "      <td>2024-05-22</td>\n",
       "      <td>102420.00</td>\n",
       "      <td>-1434.93</td>\n",
       "    </tr>\n",
       "    <tr>\n",
       "      <th>2310</th>\n",
       "      <td>2024-05-22 23:56:00</td>\n",
       "      <td>2024-05-22 00:01:17</td>\n",
       "      <td>1970-01-01 00:00:00.000086160</td>\n",
       "      <td>77</td>\n",
       "      <td>2024-05-22</td>\n",
       "      <td>86160.00</td>\n",
       "      <td>-1434.72</td>\n",
       "    </tr>\n",
       "    <tr>\n",
       "      <th>2319</th>\n",
       "      <td>2024-05-23 04:28:00</td>\n",
       "      <td>2024-05-22 04:33:22</td>\n",
       "      <td>1970-01-01 00:00:00.000102480</td>\n",
       "      <td>16402</td>\n",
       "      <td>2024-05-22</td>\n",
       "      <td>102480.00</td>\n",
       "      <td>-1434.63</td>\n",
       "    </tr>\n",
       "    <tr>\n",
       "      <th>2416</th>\n",
       "      <td>2024-05-22 23:56:00</td>\n",
       "      <td>2024-05-22 00:01:35</td>\n",
       "      <td>1970-01-01 00:00:00.000086160</td>\n",
       "      <td>95</td>\n",
       "      <td>2024-05-22</td>\n",
       "      <td>86160.00</td>\n",
       "      <td>-1434.42</td>\n",
       "    </tr>\n",
       "    <tr>\n",
       "      <th>2425</th>\n",
       "      <td>2024-05-23 04:28:00</td>\n",
       "      <td>2024-05-22 04:33:53</td>\n",
       "      <td>1970-01-01 00:00:00.000102480</td>\n",
       "      <td>16433</td>\n",
       "      <td>2024-05-22</td>\n",
       "      <td>102480.00</td>\n",
       "      <td>-1434.12</td>\n",
       "    </tr>\n",
       "  </tbody>\n",
       "</table>\n",
       "</div>"
      ],
      "text/plain": [
       "     converted_schd_arrival converted_rt_arrival  \\\n",
       "1788    2024-05-23 04:23:00  2024-05-22 04:27:47   \n",
       "1894    2024-05-23 04:25:00  2024-05-22 04:28:32   \n",
       "2000    2024-05-23 04:25:00  2024-05-22 04:30:20   \n",
       "2106    2024-05-23 04:26:00  2024-05-22 04:31:13   \n",
       "2204    2024-05-22 23:55:00  2024-05-22 00:00:44   \n",
       "2213    2024-05-23 04:27:00  2024-05-22 04:32:04   \n",
       "2310    2024-05-22 23:56:00  2024-05-22 00:01:17   \n",
       "2319    2024-05-23 04:28:00  2024-05-22 04:33:22   \n",
       "2416    2024-05-22 23:56:00  2024-05-22 00:01:35   \n",
       "2425    2024-05-23 04:28:00  2024-05-22 04:33:53   \n",
       "\n",
       "             scheduled_arrival_sec  rt_arrival_sec service_date  \\\n",
       "1788 1970-01-01 00:00:00.000102180           16067   2024-05-22   \n",
       "1894 1970-01-01 00:00:00.000102300           16112   2024-05-22   \n",
       "2000 1970-01-01 00:00:00.000102300           16220   2024-05-22   \n",
       "2106 1970-01-01 00:00:00.000102360           16273   2024-05-22   \n",
       "2204 1970-01-01 00:00:00.000086100              44   2024-05-22   \n",
       "2213 1970-01-01 00:00:00.000102420           16324   2024-05-22   \n",
       "2310 1970-01-01 00:00:00.000086160              77   2024-05-22   \n",
       "2319 1970-01-01 00:00:00.000102480           16402   2024-05-22   \n",
       "2416 1970-01-01 00:00:00.000086160              95   2024-05-22   \n",
       "2425 1970-01-01 00:00:00.000102480           16433   2024-05-22   \n",
       "\n",
       "      scheduled_arrival_sec_copy  delay_min  \n",
       "1788                   102180.00   -1435.22  \n",
       "1894                   102300.00   -1436.47  \n",
       "2000                   102300.00   -1434.67  \n",
       "2106                   102360.00   -1434.78  \n",
       "2204                    86100.00   -1434.27  \n",
       "2213                   102420.00   -1434.93  \n",
       "2310                    86160.00   -1434.72  \n",
       "2319                   102480.00   -1434.63  \n",
       "2416                    86160.00   -1434.42  \n",
       "2425                   102480.00   -1434.12  "
      ]
     },
     "execution_count": 55,
     "metadata": {},
     "output_type": "execute_result"
    }
   ],
   "source": [
    "rt_stop_times4.loc[rt_stop_times4.delay_min < -1433][\n",
    "    timestamp_subset\n",
    "    + [\n",
    "        \"scheduled_arrival_sec_copy\",\n",
    "        \"delay_min\",\n",
    "        \n",
    "    ]\n",
    "].head(10)"
   ]
  },
  {
   "cell_type": "code",
   "execution_count": 56,
   "id": "e1504adb-e083-4642-8801-efc317fcebbf",
   "metadata": {},
   "outputs": [
    {
     "data": {
      "text/html": [
       "<div>\n",
       "<style scoped>\n",
       "    .dataframe tbody tr th:only-of-type {\n",
       "        vertical-align: middle;\n",
       "    }\n",
       "\n",
       "    .dataframe tbody tr th {\n",
       "        vertical-align: top;\n",
       "    }\n",
       "\n",
       "    .dataframe thead th {\n",
       "        text-align: right;\n",
       "    }\n",
       "</style>\n",
       "<table border=\"1\" class=\"dataframe\">\n",
       "  <thead>\n",
       "    <tr style=\"text-align: right;\">\n",
       "      <th></th>\n",
       "      <th>converted_schd_arrival</th>\n",
       "      <th>converted_rt_arrival</th>\n",
       "      <th>scheduled_arrival_sec</th>\n",
       "      <th>rt_arrival_sec</th>\n",
       "      <th>service_date</th>\n",
       "      <th>scheduled_arrival_sec_copy</th>\n",
       "      <th>delay_min</th>\n",
       "    </tr>\n",
       "  </thead>\n",
       "  <tbody>\n",
       "    <tr>\n",
       "      <th>0</th>\n",
       "      <td>2024-05-21 00:08:00</td>\n",
       "      <td>2024-05-22 00:06:52</td>\n",
       "      <td>1970-01-01 00:00:00.000086880</td>\n",
       "      <td>412</td>\n",
       "      <td>2024-05-22</td>\n",
       "      <td>86880.00</td>\n",
       "      <td>1438.87</td>\n",
       "    </tr>\n",
       "    <tr>\n",
       "      <th>1</th>\n",
       "      <td>2024-05-21 00:41:00</td>\n",
       "      <td>2024-05-22 00:44:22</td>\n",
       "      <td>1970-01-01 00:00:00.000088860</td>\n",
       "      <td>2662</td>\n",
       "      <td>2024-05-22</td>\n",
       "      <td>88860.00</td>\n",
       "      <td>1443.37</td>\n",
       "    </tr>\n",
       "    <tr>\n",
       "      <th>2</th>\n",
       "      <td>2024-05-21 01:11:00</td>\n",
       "      <td>2024-05-22 01:12:29</td>\n",
       "      <td>1970-01-01 00:00:00.000090660</td>\n",
       "      <td>4349</td>\n",
       "      <td>2024-05-22</td>\n",
       "      <td>90660.00</td>\n",
       "      <td>1441.48</td>\n",
       "    </tr>\n",
       "    <tr>\n",
       "      <th>3</th>\n",
       "      <td>2024-05-21 01:41:00</td>\n",
       "      <td>2024-05-22 01:39:47</td>\n",
       "      <td>1970-01-01 00:00:00.000092460</td>\n",
       "      <td>5987</td>\n",
       "      <td>2024-05-22</td>\n",
       "      <td>92460.00</td>\n",
       "      <td>1438.78</td>\n",
       "    </tr>\n",
       "    <tr>\n",
       "      <th>4</th>\n",
       "      <td>2024-05-21 02:11:00</td>\n",
       "      <td>2024-05-22 02:11:40</td>\n",
       "      <td>1970-01-01 00:00:00.000094260</td>\n",
       "      <td>7900</td>\n",
       "      <td>2024-05-22</td>\n",
       "      <td>94260.00</td>\n",
       "      <td>1440.67</td>\n",
       "    </tr>\n",
       "    <tr>\n",
       "      <th>5</th>\n",
       "      <td>2024-05-21 02:41:00</td>\n",
       "      <td>2024-05-22 02:39:14</td>\n",
       "      <td>1970-01-01 00:00:00.000096060</td>\n",
       "      <td>9554</td>\n",
       "      <td>2024-05-22</td>\n",
       "      <td>96060.00</td>\n",
       "      <td>1438.23</td>\n",
       "    </tr>\n",
       "    <tr>\n",
       "      <th>6</th>\n",
       "      <td>2024-05-21 03:11:00</td>\n",
       "      <td>2024-05-22 03:12:43</td>\n",
       "      <td>1970-01-01 00:00:00.000097860</td>\n",
       "      <td>11563</td>\n",
       "      <td>2024-05-22</td>\n",
       "      <td>97860.00</td>\n",
       "      <td>1441.72</td>\n",
       "    </tr>\n",
       "    <tr>\n",
       "      <th>7</th>\n",
       "      <td>2024-05-21 03:42:00</td>\n",
       "      <td>2024-05-22 03:41:05</td>\n",
       "      <td>1970-01-01 00:00:00.000099720</td>\n",
       "      <td>13265</td>\n",
       "      <td>2024-05-22</td>\n",
       "      <td>99720.00</td>\n",
       "      <td>1439.08</td>\n",
       "    </tr>\n",
       "    <tr>\n",
       "      <th>8</th>\n",
       "      <td>2024-05-21 04:12:00</td>\n",
       "      <td>2024-05-22 04:11:44</td>\n",
       "      <td>1970-01-01 00:00:00.000101520</td>\n",
       "      <td>15104</td>\n",
       "      <td>2024-05-22</td>\n",
       "      <td>101520.00</td>\n",
       "      <td>1439.73</td>\n",
       "    </tr>\n",
       "    <tr>\n",
       "      <th>104</th>\n",
       "      <td>2024-05-21 00:09:00</td>\n",
       "      <td>2024-05-22 00:08:33</td>\n",
       "      <td>1970-01-01 00:00:00.000086940</td>\n",
       "      <td>513</td>\n",
       "      <td>2024-05-22</td>\n",
       "      <td>86940.00</td>\n",
       "      <td>1439.55</td>\n",
       "    </tr>\n",
       "  </tbody>\n",
       "</table>\n",
       "</div>"
      ],
      "text/plain": [
       "    converted_schd_arrival converted_rt_arrival         scheduled_arrival_sec  \\\n",
       "0      2024-05-21 00:08:00  2024-05-22 00:06:52 1970-01-01 00:00:00.000086880   \n",
       "1      2024-05-21 00:41:00  2024-05-22 00:44:22 1970-01-01 00:00:00.000088860   \n",
       "2      2024-05-21 01:11:00  2024-05-22 01:12:29 1970-01-01 00:00:00.000090660   \n",
       "3      2024-05-21 01:41:00  2024-05-22 01:39:47 1970-01-01 00:00:00.000092460   \n",
       "4      2024-05-21 02:11:00  2024-05-22 02:11:40 1970-01-01 00:00:00.000094260   \n",
       "5      2024-05-21 02:41:00  2024-05-22 02:39:14 1970-01-01 00:00:00.000096060   \n",
       "6      2024-05-21 03:11:00  2024-05-22 03:12:43 1970-01-01 00:00:00.000097860   \n",
       "7      2024-05-21 03:42:00  2024-05-22 03:41:05 1970-01-01 00:00:00.000099720   \n",
       "8      2024-05-21 04:12:00  2024-05-22 04:11:44 1970-01-01 00:00:00.000101520   \n",
       "104    2024-05-21 00:09:00  2024-05-22 00:08:33 1970-01-01 00:00:00.000086940   \n",
       "\n",
       "     rt_arrival_sec service_date  scheduled_arrival_sec_copy  delay_min  \n",
       "0               412   2024-05-22                    86880.00    1438.87  \n",
       "1              2662   2024-05-22                    88860.00    1443.37  \n",
       "2              4349   2024-05-22                    90660.00    1441.48  \n",
       "3              5987   2024-05-22                    92460.00    1438.78  \n",
       "4              7900   2024-05-22                    94260.00    1440.67  \n",
       "5              9554   2024-05-22                    96060.00    1438.23  \n",
       "6             11563   2024-05-22                    97860.00    1441.72  \n",
       "7             13265   2024-05-22                    99720.00    1439.08  \n",
       "8             15104   2024-05-22                   101520.00    1439.73  \n",
       "104             513   2024-05-22                    86940.00    1439.55  "
      ]
     },
     "execution_count": 56,
     "metadata": {},
     "output_type": "execute_result"
    }
   ],
   "source": [
    "rt_stop_times4.loc[rt_stop_times4.delay_min >1438][\n",
    "    timestamp_subset\n",
    "    + [\n",
    "        \"scheduled_arrival_sec_copy\",\n",
    "        \"delay_min\",\n",
    "        \n",
    "    ]\n",
    "].head(10)"
   ]
  },
  {
   "cell_type": "markdown",
   "id": "cb7802ee-e6f1-4333-aac1-3895ab01b43e",
   "metadata": {},
   "source": [
    "#### Observation\n",
    "* There are some geniunely weird rows."
   ]
  },
  {
   "cell_type": "code",
   "execution_count": 57,
   "id": "52d2642d-6ac1-41f0-a29c-bc2f3c93a7af",
   "metadata": {},
   "outputs": [
    {
     "data": {
      "text/html": [
       "<div>\n",
       "<style scoped>\n",
       "    .dataframe tbody tr th:only-of-type {\n",
       "        vertical-align: middle;\n",
       "    }\n",
       "\n",
       "    .dataframe tbody tr th {\n",
       "        vertical-align: top;\n",
       "    }\n",
       "\n",
       "    .dataframe thead th {\n",
       "        text-align: right;\n",
       "    }\n",
       "</style>\n",
       "<table border=\"1\" class=\"dataframe\">\n",
       "  <thead>\n",
       "    <tr style=\"text-align: right;\">\n",
       "      <th></th>\n",
       "      <th>converted_schd_arrival</th>\n",
       "      <th>converted_rt_arrival</th>\n",
       "      <th>scheduled_arrival_sec</th>\n",
       "      <th>rt_arrival_sec</th>\n",
       "      <th>service_date</th>\n",
       "      <th>scheduled_arrival_sec_copy</th>\n",
       "      <th>delay_min</th>\n",
       "    </tr>\n",
       "  </thead>\n",
       "  <tbody>\n",
       "  </tbody>\n",
       "</table>\n",
       "</div>"
      ],
      "text/plain": [
       "Empty DataFrame\n",
       "Columns: [converted_schd_arrival, converted_rt_arrival, scheduled_arrival_sec, rt_arrival_sec, service_date, scheduled_arrival_sec_copy, delay_min]\n",
       "Index: []"
      ]
     },
     "execution_count": 57,
     "metadata": {},
     "output_type": "execute_result"
    }
   ],
   "source": [
    "rt_stop_times4.loc[rt_stop_times4.delay_min >2800][\n",
    "    timestamp_subset\n",
    "    + [\n",
    "        \"scheduled_arrival_sec_copy\",\n",
    "        \"delay_min\",\n",
    "        \n",
    "    ]\n",
    "]"
   ]
  },
  {
   "cell_type": "markdown",
   "id": "6aed2f18-b89c-4269-beda-9d12b6b56082",
   "metadata": {},
   "source": [
    "### `rt_stop_times5`: Filter out values in `delay` that are very extreme."
   ]
  },
  {
   "cell_type": "code",
   "execution_count": 58,
   "id": "18252b55-7099-4137-9add-9b5f77f05643",
   "metadata": {},
   "outputs": [
    {
     "ename": "NameError",
     "evalue": "name 'stop' is not defined",
     "output_type": "error",
     "traceback": [
      "\u001b[0;31m---------------------------------------------------------------------------\u001b[0m",
      "\u001b[0;31mNameError\u001b[0m                                 Traceback (most recent call last)",
      "Cell \u001b[0;32mIn[58], line 1\u001b[0m\n\u001b[0;32m----> 1\u001b[0m \u001b[43mstop\u001b[49m\n",
      "\u001b[0;31mNameError\u001b[0m: name 'stop' is not defined"
     ]
    }
   ],
   "source": [
    "stop"
   ]
  },
  {
   "cell_type": "code",
   "execution_count": null,
   "id": "bbd1cbc3-9762-44b8-a564-c33e57879d10",
   "metadata": {},
   "outputs": [],
   "source": [
    "# Filter to only delays that are an hour or less\n",
    "rt_stop_times5 = rt_stop_times4[rt_stop_times4[\"delay\"] <= 3600].reset_index(drop=True)"
   ]
  },
  {
   "cell_type": "code",
   "execution_count": null,
   "id": "9c19be36-0e5b-428d-bc4f-da52821208f4",
   "metadata": {},
   "outputs": [],
   "source": [
    "# Filter to only delays that are no less than\n",
    "rt_stop_times5 = rt_stop_times5[rt_stop_times5[\"delay\"] >= -3600].reset_index(drop=True)"
   ]
  },
  {
   "cell_type": "code",
   "execution_count": null,
   "id": "813c65e5-8ee6-4896-82d7-c3e6dec8a92f",
   "metadata": {},
   "outputs": [],
   "source": [
    "rt_stop_times5.shape"
   ]
  },
  {
   "cell_type": "code",
   "execution_count": null,
   "id": "f82d3e09-205e-4458-a9fa-d9e3096c366b",
   "metadata": {},
   "outputs": [],
   "source": [
    "rt_stop_times4.shape"
   ]
  },
  {
   "cell_type": "code",
   "execution_count": null,
   "id": "7668b5b5-4f1a-4fc7-9fac-b3a113c2b0b2",
   "metadata": {},
   "outputs": [],
   "source": [
    "len(rt_stop_times4) - len(rt_stop_times5)"
   ]
  },
  {
   "cell_type": "markdown",
   "id": "81bd753a-08ee-4d09-ac79-213e1e605405",
   "metadata": {},
   "source": [
    "### Calculate the actual headway the `operator-route-direction_id-stop_sequence-stop_id-` grain\n",
    "#### QUESTION: Do I need to include feed key and shape array key? What is `feed_key` and how does it differ from `schedule_gtfs_dataset_key`? Still need help</b>"
   ]
  },
  {
   "cell_type": "markdown",
   "id": "0c9377cb-cb25-43da-9f3b-752a8107b6b7",
   "metadata": {},
   "source": [
    "### Calculate scheduled headway\n",
    "* Using the same grain."
   ]
  },
  {
   "cell_type": "code",
   "execution_count": null,
   "id": "b9171520-7358-4f22-9d9c-c5156e710f1b",
   "metadata": {},
   "outputs": [],
   "source": [
    "groupby_cols = [\n",
    "    \"schedule_gtfs_dataset_key\",\n",
    "    \"route_id\",\n",
    "    \"shape_array_key\",\n",
    "    \"direction_id\",\n",
    "    \"route_primary_direction\",\n",
    "    \"stop_sequence\",\n",
    "    \"stop_id\",\n",
    "]"
   ]
  },
  {
   "cell_type": "code",
   "execution_count": null,
   "id": "f5b62023-ab77-4634-a526-3d822bb7a63f",
   "metadata": {},
   "outputs": [],
   "source": [
    "# Subtract rt_arrival_sec from the previous row to the target row\n",
    "# using groupby columns\n",
    "rt_stop_times5[\"actual_headway\"] = rt_stop_times5.groupby(groupby_cols)[\n",
    "    \"rt_arrival_sec\"\n",
    "].diff()"
   ]
  },
  {
   "cell_type": "code",
   "execution_count": null,
   "id": "6328c5fb-205e-4a78-a3d3-62fafa88a4cd",
   "metadata": {},
   "outputs": [],
   "source": [
    "rt_stop_times5[\"schd_headway\"] = rt_stop_times5.groupby(groupby_cols)[\n",
    "    \"scheduled_arrival_sec\"\n",
    "].diff()"
   ]
  },
  {
   "cell_type": "code",
   "execution_count": null,
   "id": "1f3969a8-1850-4b74-96e7-edcaf94e25cd",
   "metadata": {},
   "outputs": [],
   "source": [
    "rt_stop_times5.head(10)[\n",
    "    [\n",
    "        \"scheduled_arrival_sec\",\n",
    "        \"rt_arrival_sec\",\n",
    "        \"delay\",\n",
    "        \"actual_headway\",\n",
    "        \"schd_headway\",\n",
    "    ]\n",
    "]"
   ]
  },
  {
   "cell_type": "markdown",
   "id": "8a5f6f72-d463-4076-80ce-d22ab1f718b1",
   "metadata": {},
   "source": [
    "### Fill in `nans` with 0 \n",
    "* I am not sure if `nans` impact calculations of the mean scheduled headway and whatnot?\n",
    "* These `nans` are because the first `operator-route-stop_id-stop_sequence` combo won't have anything to compare it to.\n",
    "* Katrina: <i>I would fill in the actual/schedule headway columns with 0 rather than dropping the first row  in each grouping. I wonder if it makes sense to use a more descriptive column name than headway, such as \"minutes since last vehicle\"</i>"
   ]
  },
  {
   "cell_type": "code",
   "execution_count": null,
   "id": "6603e96d-085d-460f-965f-ba01a10f6dbc",
   "metadata": {},
   "outputs": [],
   "source": [
    "rt_stop_times5 = rt_stop_times5.fillna(0)"
   ]
  },
  {
   "cell_type": "markdown",
   "id": "28362518-a54b-4f5d-a4d7-24a3d8ddefd0",
   "metadata": {},
   "source": [
    "### Transit Matters Method\n",
    "* To Do: add back in route  & operator information"
   ]
  },
  {
   "cell_type": "code",
   "execution_count": null,
   "id": "f0f0f4b7-fa64-4b01-a141-5dd78c59693b",
   "metadata": {},
   "outputs": [],
   "source": [
    "transit_matters_df1 = rt_stop_times5.copy()"
   ]
  },
  {
   "cell_type": "code",
   "execution_count": null,
   "id": "7bea63e5-45d0-4d06-8c1c-fd34a69ffde7",
   "metadata": {},
   "outputs": [],
   "source": [
    "transit_matters_df1[\"pct_actual_schd_headway\"] = (\n",
    "    transit_matters_df1.actual_headway / transit_matters_df1.schd_headway\n",
    ")"
   ]
  },
  {
   "cell_type": "code",
   "execution_count": null,
   "id": "c67c6299-68f0-414f-a9c1-e0b27511b9e5",
   "metadata": {},
   "outputs": [],
   "source": [
    "import numpy as np\n",
    "\n",
    "transit_matters_df1[\"bunched_y_n\"] = np.where(\n",
    "    transit_matters_df1[\"pct_actual_schd_headway\"] < 0.25, \"bunched\", \"not bunched\"\n",
    ")"
   ]
  },
  {
   "cell_type": "markdown",
   "id": "b3fdb4cb-fb86-4b76-85f1-7451a4ef7dbe",
   "metadata": {},
   "source": [
    "#### There are some very extreme values: how to deal with this?\n"
   ]
  },
  {
   "cell_type": "code",
   "execution_count": null,
   "id": "70bc7bfe-2306-498a-b0d7-e012d266d5fc",
   "metadata": {},
   "outputs": [],
   "source": [
    "transit_matters_df1.pct_actual_schd_headway.describe()"
   ]
  },
  {
   "cell_type": "code",
   "execution_count": null,
   "id": "c3b62e33-313a-4f97-a1f5-37101abe7db8",
   "metadata": {},
   "outputs": [],
   "source": [
    "len(transit_matters_df1.loc[transit_matters_df1.pct_actual_schd_headway < 0])"
   ]
  },
  {
   "cell_type": "code",
   "execution_count": null,
   "id": "d7d56ce7-66e9-4084-a725-a9eff7c4c5b2",
   "metadata": {},
   "outputs": [],
   "source": [
    "transit_matters_df1.bunched_y_n.value_counts() / len(transit_matters_df1)"
   ]
  },
  {
   "cell_type": "code",
   "execution_count": null,
   "id": "ee874ad7-e2c5-4a4a-8e79-ac79d9d49f30",
   "metadata": {},
   "outputs": [],
   "source": [
    "sf_38r_test = transit_matters_df1.loc[\n",
    "    (transit_matters_df1.stop_id == \"14295\")\n",
    "    & (\n",
    "        transit_matters_df1.schedule_gtfs_dataset_key\n",
    "        == \"7cc0cb1871dfd558f11a2885c145d144\"\n",
    "    )\n",
    "    & (transit_matters_df1.stop_sequence == 11)\n",
    "    & (transit_matters_df1.route_id == \"38R\")\n",
    "]"
   ]
  },
  {
   "cell_type": "code",
   "execution_count": null,
   "id": "099f0701-ed36-46fe-9479-88021d9f3bdb",
   "metadata": {},
   "outputs": [],
   "source": [
    "# Row 444797: scheduled to arrive at 69480, but actually arrives 69890"
   ]
  },
  {
   "cell_type": "markdown",
   "id": "869ea449-b2b2-40a9-96fc-dd963b9f21ed",
   "metadata": {},
   "source": [
    "#### QUESTION: Wonder if I should convert time stamps to hours so it's at least in military time instead of seconds? Although I'm not really sure if this is sound."
   ]
  },
  {
   "cell_type": "code",
   "execution_count": null,
   "id": "aef09625-a050-463b-8a60-f15dc7839520",
   "metadata": {},
   "outputs": [],
   "source": [
    "sf_38r_test[\"sched_arrival_min\"] = sf_38r_test.scheduled_arrival_sec / 60"
   ]
  },
  {
   "cell_type": "code",
   "execution_count": null,
   "id": "6658bb0f-0b3f-4dc2-914c-b144f785d608",
   "metadata": {},
   "outputs": [],
   "source": [
    "sf_38r_test[\"rt_arrival_min\"] = sf_38r_test.rt_arrival_sec / 60"
   ]
  },
  {
   "cell_type": "code",
   "execution_count": null,
   "id": "9bba60cc-c879-441d-9f50-b0e6ac7a5b90",
   "metadata": {},
   "outputs": [],
   "source": [
    "sf_38r_test[\"actual_headway_min\"] = sf_38r_test.actual_headway / 60"
   ]
  },
  {
   "cell_type": "code",
   "execution_count": null,
   "id": "20963551-f43d-475f-a307-6b30234b73a8",
   "metadata": {},
   "outputs": [],
   "source": [
    "sf_38r_test[\"schd_headway_min\"] = sf_38r_test.schd_headway / 60"
   ]
  },
  {
   "cell_type": "code",
   "execution_count": null,
   "id": "dc43f71d-8f7b-4536-9d15-14a11703fa3d",
   "metadata": {
    "tags": []
   },
   "outputs": [],
   "source": [
    "sf_38r_test[\n",
    "    [\n",
    "        \"sched_arrival_min\",\n",
    "        \"rt_arrival_min\",\n",
    "        \"actual_headway_min\",\n",
    "        \"schd_headway_min\",\n",
    "        \"pct_actual_schd_headway\",\n",
    "    ]\n",
    "].tail(5)"
   ]
  },
  {
   "cell_type": "markdown",
   "id": "3bbf49be-6ec9-41a7-b14e-a74b5fff49d6",
   "metadata": {},
   "source": [
    "* Row 466475 was scheduled to arrive after row 466476"
   ]
  },
  {
   "cell_type": "markdown",
   "id": "db10254b-d5d4-4619-9c6e-10fab19ec6b2",
   "metadata": {},
   "source": [
    "#### Groupby grain and see how many trips for that grain are considered \"bunched\" or not."
   ]
  },
  {
   "cell_type": "code",
   "execution_count": null,
   "id": "e72f4e50-da82-4a59-8aae-fc6b79f91cc5",
   "metadata": {},
   "outputs": [],
   "source": [
    "transit_matters_df2 = (\n",
    "    transit_matters_df1.groupby(\n",
    "        [\n",
    "            \"schedule_gtfs_dataset_key\",\n",
    "            \"route_long_name\",\n",
    "            \"shape_array_key\",\n",
    "            \"route_id\",\n",
    "            \"stop_id\",\n",
    "            \"direction_id\",\n",
    "            \"route_primary_direction\",\n",
    "            \"bunched_y_n\",\n",
    "        ]\n",
    "    )\n",
    "    .agg({\"trip_instance_key\": \"nunique\"})\n",
    "    .reset_index()\n",
    ")"
   ]
  },
  {
   "cell_type": "code",
   "execution_count": null,
   "id": "ebf0e403-89c5-4b2c-b962-44affe3c0b42",
   "metadata": {},
   "outputs": [],
   "source": [
    "# Filter out only rows that are bunched.\n",
    "bunched_only = transit_matters_df2.loc[\n",
    "    transit_matters_df2.bunched_y_n == \"bunched\"\n",
    "].reset_index(drop=True)"
   ]
  },
  {
   "cell_type": "code",
   "execution_count": null,
   "id": "7591762b-abab-4083-8b42-53dca0523fca",
   "metadata": {},
   "outputs": [],
   "source": [
    "bunched_only = bunched_only.rename(columns={\"trip_instance_key\": \"bunched_trips\"})"
   ]
  },
  {
   "cell_type": "code",
   "execution_count": null,
   "id": "6f94980e-b9c4-4c1e-a497-ea4b3f88c55b",
   "metadata": {},
   "outputs": [],
   "source": [
    "transit_matters_agg = [\n",
    "    \"schedule_gtfs_dataset_key\",\n",
    "    \"route_long_name\",\n",
    "    \"shape_array_key\",\n",
    "    \"route_id\",\n",
    "    \"stop_id\",\n",
    "    \"direction_id\",\n",
    "    \"route_primary_direction\",\n",
    "]"
   ]
  },
  {
   "cell_type": "code",
   "execution_count": null,
   "id": "dcca9769-aa67-48d5-9b06-acc86cade877",
   "metadata": {},
   "outputs": [],
   "source": [
    "# Aggregate all trips on the grain\n",
    "transit_matters_all_trips = (\n",
    "    transit_matters_df1.groupby(transit_matters_agg)\n",
    "    .agg({\"trip_instance_key\": \"nunique\"})\n",
    "    .reset_index()\n",
    "    .rename(columns={\"trip_instance_key\": \"all_trips\"})\n",
    ")"
   ]
  },
  {
   "cell_type": "code",
   "execution_count": null,
   "id": "2f57e136-fc83-4eac-bc05-84f530e2f4b0",
   "metadata": {},
   "outputs": [],
   "source": [
    "# Merge back, using left merge to keep bunching\n",
    "bunched_only = pd.merge(\n",
    "    bunched_only, transit_matters_all_trips, on=transit_matters_agg, how=\"left\"\n",
    ")"
   ]
  },
  {
   "cell_type": "code",
   "execution_count": null,
   "id": "55b8feb0-1e0a-4717-b966-ee360becfde5",
   "metadata": {},
   "outputs": [],
   "source": [
    "bunched_only[\"pct_trips_bunched\"] = (\n",
    "    bunched_only.bunched_trips / bunched_only.all_trips * 100\n",
    ")"
   ]
  },
  {
   "cell_type": "code",
   "execution_count": null,
   "id": "3674d237-8b1c-4943-afc8-45b85b4b13d7",
   "metadata": {},
   "outputs": [],
   "source": [
    "bunched_only = bunched_only.drop(columns=[\"all_trips\"])"
   ]
  },
  {
   "cell_type": "code",
   "execution_count": null,
   "id": "7213e2ad-8485-4e0a-b8b8-0aaf6dbae3ae",
   "metadata": {},
   "outputs": [],
   "source": [
    "# Merge back all rows that don't have bunching trips.\n",
    "transit_matters_m1 = pd.merge(\n",
    "    transit_matters_all_trips,\n",
    "    bunched_only,\n",
    "    on=transit_matters_agg,\n",
    "    how=\"left\",\n",
    ")"
   ]
  },
  {
   "cell_type": "code",
   "execution_count": null,
   "id": "f5253b6a-8cad-469f-a306-6fa712e9799a",
   "metadata": {},
   "outputs": [],
   "source": [
    "transit_matters_m1 = transit_matters_m1.drop(\n",
    "    columns=[\n",
    "        \"bunched_y_n\",\n",
    "    ]\n",
    ")"
   ]
  },
  {
   "cell_type": "code",
   "execution_count": null,
   "id": "4a25225a-7883-457f-a27a-f606164cdd37",
   "metadata": {},
   "outputs": [],
   "source": [
    "transit_matters_m1.pct_trips_bunched = transit_matters_m1.pct_trips_bunched.fillna(0)"
   ]
  },
  {
   "cell_type": "code",
   "execution_count": null,
   "id": "2e2abda3-b3de-4f03-baf4-7f764dd10255",
   "metadata": {},
   "outputs": [],
   "source": [
    "transit_matters_m1.pct_trips_bunched.describe()"
   ]
  },
  {
   "cell_type": "code",
   "execution_count": null,
   "id": "6f4c4386-acfb-483a-947d-0279710df61b",
   "metadata": {},
   "outputs": [],
   "source": [
    "transit_matters_m1.loc[transit_matters_m1.pct_trips_bunched >= 10].shape"
   ]
  },
  {
   "cell_type": "code",
   "execution_count": null,
   "id": "4284da28-0244-4291-aca9-4ffd752fdfb4",
   "metadata": {},
   "outputs": [],
   "source": [
    "transit_matters_m1.loc[\n",
    "    (transit_matters_m1.schedule_gtfs_dataset_key == \"7cc0cb1871dfd558f11a2885c145d144\")\n",
    "    & (transit_matters_m1.shape_array_key == \"955e2fc8f9f8a4be2c67c7212be874f6\")\n",
    "    & (transit_matters_m1.route_id == \"1\")\n",
    "    & (transit_matters_m1.direction_id == 1)\n",
    "    & (transit_matters_m1.stop_id == \"13853\")\n",
    "]"
   ]
  },
  {
   "cell_type": "code",
   "execution_count": null,
   "id": "1388465f-62b5-42aa-8db4-e5a0963187b3",
   "metadata": {},
   "outputs": [],
   "source": [
    "bunched_only.loc[\n",
    "    (bunched_only.schedule_gtfs_dataset_key == \"7cc0cb1871dfd558f11a2885c145d144\")\n",
    "    & (bunched_only.shape_array_key == \"955e2fc8f9f8a4be2c67c7212be874f6\")\n",
    "    & (bunched_only.route_id == \"1\")\n",
    "    & (bunched_only.direction_id == 1)\n",
    "    & (bunched_only.stop_id == \"13853\")\n",
    "]"
   ]
  },
  {
   "cell_type": "markdown",
   "id": "b0579e78-2a95-4d8b-9761-2824aa39a8eb",
   "metadata": {},
   "source": [
    "### Use 2 minute benchmark\n",
    "* [Source](https://static1.squarespace.com/static/533b9a24e4b01d79d0ae4376/t/645e82de1f570b31497c44dc/1683915486889/TransitMatters-Headwaymanagement.pdf)\n",
    "* Justifying the use of\n",
    "headway maintenance. For example, in April\n",
    "2022 the 66 bus significantly bunched around\n",
    "several stops. When bunching is defined as\n",
    "buses that run within two minutes or less of\n",
    "each other, inbound buses towards Nubian\n",
    "Square bunched 10% of the time at Brigham\n",
    "Circle, 9% at Brookline Village and Roxbury\n",
    "Crossing, and 8% of the time at Coolidge\n",
    "Corner. Bunching is even more dramatic\n",
    "outbound towards Harvard Square where\n",
    "buses bunched over 35% of the time at Winship\n",
    "St, 13% at Coolidge Corner and Harvard Ave at\n",
    "Commonwealth Ave, and 12% at North Harvard\n",
    "St at Western Ave. View more data about bus\n",
    "bunching through the TransitMatters Data\n",
    "Dashboard here.\n",
    "\n",
    "* To Do: add back in route  & operator information"
   ]
  },
  {
   "cell_type": "code",
   "execution_count": null,
   "id": "e0706e7e-0d56-43b2-bf3c-4205e9277c64",
   "metadata": {},
   "outputs": [],
   "source": [
    "two_minutess_df = rt_stop_times5.copy()"
   ]
  },
  {
   "cell_type": "code",
   "execution_count": null,
   "id": "c2973b95-3207-47d8-9485-65e9544b0163",
   "metadata": {},
   "outputs": [],
   "source": [
    "two_minutess_df.columns"
   ]
  },
  {
   "cell_type": "code",
   "execution_count": null,
   "id": "a0c04034-7c1a-49c9-9270-8bf9af8feac1",
   "metadata": {},
   "outputs": [],
   "source": [
    "two_minutess_df[\"actual_headway_min\"] = two_minutess_df.rt_arrival_sec / 60"
   ]
  },
  {
   "cell_type": "code",
   "execution_count": null,
   "id": "bd9b8ee4-aab3-42c9-b29a-9679f5494ffa",
   "metadata": {},
   "outputs": [],
   "source": [
    "two_minutess_df[\"bunched_y_n\"] = np.where(\n",
    "    two_minutess_df[\"actual_headway_min\"] <= 2, \"bunched\", \"not bunched\"\n",
    ")"
   ]
  },
  {
   "cell_type": "code",
   "execution_count": null,
   "id": "83382d9f-09c5-4bf2-a55b-41dc541dee51",
   "metadata": {},
   "outputs": [],
   "source": [
    "two_minutess_df.info()"
   ]
  },
  {
   "cell_type": "code",
   "execution_count": null,
   "id": "dcd302cb-5f30-4318-8b28-cb29f6c376cd",
   "metadata": {},
   "outputs": [],
   "source": [
    "two_minutess_df.bunched_y_n.value_counts()"
   ]
  },
  {
   "cell_type": "markdown",
   "id": "626c2f22-4d45-4fe2-814d-773ae9dbd843",
   "metadata": {},
   "source": [
    "#### Same code as Transit Matters Approach"
   ]
  },
  {
   "cell_type": "code",
   "execution_count": null,
   "id": "f2532ed7-194c-4b2d-841c-a2282379a44a",
   "metadata": {},
   "outputs": [],
   "source": [
    "two_minutes_agg1 = (\n",
    "    two_minutess_df.groupby(\n",
    "        [\n",
    "            \"schedule_gtfs_dataset_key\",\n",
    "            \"route_long_name\",\n",
    "            \"shape_array_key\",\n",
    "            \"route_id\",\n",
    "            \"stop_id\",\n",
    "            \"direction_id\",\n",
    "            \"route_primary_direction\",\n",
    "            \"bunched_y_n\",\n",
    "        ]\n",
    "    )\n",
    "    .agg({\"trip_instance_key\": \"nunique\"})\n",
    "    .reset_index()\n",
    ")"
   ]
  },
  {
   "cell_type": "code",
   "execution_count": null,
   "id": "666be796-5edd-42aa-bffb-a5105d0753f5",
   "metadata": {},
   "outputs": [],
   "source": [
    "bunched_only_two_min = (\n",
    "    two_minutes_agg1.loc[two_minutes_agg1.bunched_y_n == \"bunched\"]\n",
    "    .reset_index(drop=True)\n",
    "    .rename(columns={\"trip_instance_key\": \"bunched_trips\"})\n",
    ")"
   ]
  },
  {
   "cell_type": "code",
   "execution_count": null,
   "id": "37519780-57b0-47c8-a911-aa53ff7eb4d6",
   "metadata": {},
   "outputs": [],
   "source": [
    "# I want to do a left merge because I'm only interested in trips that bunched.\n",
    "bunched_only_two_min = pd.merge(\n",
    "    bunched_only_two_min,\n",
    "    transit_matters_all_trips,\n",
    "    on=[\n",
    "        \"schedule_gtfs_dataset_key\",\n",
    "        \"route_long_name\",\n",
    "        \"shape_array_key\",\n",
    "        \"route_id\",\n",
    "        \"stop_id\",\n",
    "        \"direction_id\",\n",
    "        \"route_primary_direction\",\n",
    "    ],\n",
    "    how=\"left\",\n",
    ")"
   ]
  },
  {
   "cell_type": "code",
   "execution_count": null,
   "id": "993d3341-bb43-4553-852a-341b8726b710",
   "metadata": {},
   "outputs": [],
   "source": [
    "bunched_only_two_min[\"pct_trips_bunched\"] = (\n",
    "    bunched_only_two_min.bunched_trips / bunched_only_two_min.all_trips * 100\n",
    ")"
   ]
  },
  {
   "cell_type": "code",
   "execution_count": null,
   "id": "91b29863-5465-48c9-8257-bf8d84457b11",
   "metadata": {},
   "outputs": [],
   "source": [
    "bunched_only_two_min = bunched_only_two_min.drop(columns=[\"all_trips\"])"
   ]
  },
  {
   "cell_type": "code",
   "execution_count": null,
   "id": "b2aed36d-818a-4328-9333-7d2cac1614a1",
   "metadata": {},
   "outputs": [],
   "source": [
    "bunched_only_two_min.head(2)"
   ]
  },
  {
   "cell_type": "code",
   "execution_count": null,
   "id": "9cb116be-b313-40e3-a0ef-a510b42da6e1",
   "metadata": {},
   "outputs": [],
   "source": [
    "# Need to do a left merge on all trips for the stops that don't have bunching.\n",
    "final_two_minute = pd.merge(\n",
    "    transit_matters_all_trips,\n",
    "    bunched_only_two_min,\n",
    "    on=[\n",
    "        \"schedule_gtfs_dataset_key\",\n",
    "        \"route_long_name\",\n",
    "        \"shape_array_key\",\n",
    "        \"route_id\",\n",
    "        \"stop_id\",\n",
    "        \"direction_id\",\n",
    "        \"route_primary_direction\",\n",
    "    ],\n",
    "    how=\"left\",\n",
    ")"
   ]
  },
  {
   "cell_type": "code",
   "execution_count": null,
   "id": "961b9cfb-cb94-485c-bcf5-92e9b51024d4",
   "metadata": {},
   "outputs": [],
   "source": [
    "final_two_minute.shape"
   ]
  },
  {
   "cell_type": "code",
   "execution_count": null,
   "id": "cfefaf19-4eaa-4d10-a83d-79d2fe5d9c62",
   "metadata": {},
   "outputs": [],
   "source": [
    "final_two_minute = final_two_minute.drop(columns=[\"bunched_y_n\"])"
   ]
  },
  {
   "cell_type": "code",
   "execution_count": null,
   "id": "cdae7af9-696e-42dd-8c88-ee81b4e0bfef",
   "metadata": {},
   "outputs": [],
   "source": [
    "final_two_minute = final_two_minute.fillna(0)"
   ]
  },
  {
   "cell_type": "code",
   "execution_count": null,
   "id": "28052971-36d9-447a-89b2-ab700ee3e731",
   "metadata": {},
   "outputs": [],
   "source": [
    "final_two_minute.head()"
   ]
  },
  {
   "cell_type": "code",
   "execution_count": null,
   "id": "43f242ec-26e7-4acb-a2a0-beaba47feea7",
   "metadata": {},
   "outputs": [],
   "source": [
    "bunched = final_two_minute.loc[final_two_minute.pct_trips_bunched != 0]"
   ]
  },
  {
   "cell_type": "code",
   "execution_count": null,
   "id": "e15e7fa0-804c-4e41-8ed4-2a575c4c52bd",
   "metadata": {},
   "outputs": [],
   "source": [
    "bunched.all_trips.describe()"
   ]
  },
  {
   "cell_type": "code",
   "execution_count": null,
   "id": "536da591-f11b-4225-9d14-4bf046289ae2",
   "metadata": {},
   "outputs": [],
   "source": [
    "bunched.loc[\n",
    "    (bunched.schedule_gtfs_dataset_key == \"7cc0cb1871dfd558f11a2885c145d144\")\n",
    "    & (bunched.shape_array_key == \"955e2fc8f9f8a4be2c67c7212be874f6\")\n",
    "    & (bunched.route_id == \"1\")\n",
    "    & (bunched.direction_id == 1)\n",
    "    & (bunched.stop_id == \"13853\")\n",
    "]"
   ]
  },
  {
   "cell_type": "code",
   "execution_count": null,
   "id": "5cb6b93b-6115-4502-b74b-0b7bf48612ea",
   "metadata": {},
   "outputs": [],
   "source": [
    "rt_stop_times5.loc[\n",
    "    (rt_stop_times5.schedule_gtfs_dataset_key == \"7cc0cb1871dfd558f11a2885c145d144\")\n",
    "    & (rt_stop_times5.shape_array_key == \"955e2fc8f9f8a4be2c67c7212be874f6\")\n",
    "    & (rt_stop_times5.route_id == \"1\")\n",
    "    & (rt_stop_times5.direction_id == 1)\n",
    "    & (rt_stop_times5.stop_id == \"13853\")\n",
    "][[\"scheduled_arrival_sec2\", \"rt_arrival_sec\", \"actual_headway\", \"schd_headway\"]]"
   ]
  },
  {
   "cell_type": "code",
   "execution_count": null,
   "id": "2607398c-f46c-4899-a634-acad3f6c60e2",
   "metadata": {
    "scrolled": true,
    "tags": []
   },
   "outputs": [],
   "source": [
    "bunched.sort_values(by=[\"pct_trips_bunched\"], ascending=False)"
   ]
  }
 ],
 "metadata": {
  "kernelspec": {
   "display_name": "Python 3 (ipykernel)",
   "language": "python",
   "name": "python3"
  },
  "language_info": {
   "codemirror_mode": {
    "name": "ipython",
    "version": 3
   },
   "file_extension": ".py",
   "mimetype": "text/x-python",
   "name": "python",
   "nbconvert_exporter": "python",
   "pygments_lexer": "ipython3",
   "version": "3.9.13"
  }
 },
 "nbformat": 4,
 "nbformat_minor": 5
}
