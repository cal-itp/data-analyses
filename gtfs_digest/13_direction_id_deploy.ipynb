{
 "cells": [
  {
   "cell_type": "markdown",
   "id": "0a382839-740a-4671-9b21-ac77dee316f7",
   "metadata": {},
   "source": [
    "## Second Pass at Cardinal Direction ID\n",
    "* Right now, there is a rough draft but it doesn't incorporate dates and it takes forever to run.\n",
    "* This notebook will incorporate dates and deployed to make sure each operator doesn't take 2+ minutes to generate when deploying this work to the portfolio\n",
    "\n",
    "Resources\n",
    "* https://github.com/cal-itp/data-analyses/blob/main/rt_segment_speeds/scripts/average_summary_speeds.py#L184-L191"
   ]
  },
  {
   "cell_type": "code",
   "execution_count": 1,
   "id": "57816b77-8100-4185-aceb-c30e2264c535",
   "metadata": {},
   "outputs": [],
   "source": [
    "import _section2_utils as section2_utils\n",
    "import geopandas as gpd\n",
    "import numpy as np\n",
    "import pandas as pd\n",
    "from IPython.display import HTML, Image, Markdown, display, display_html\n",
    "from segment_speed_utils import gtfs_schedule_wrangling, helpers, time_series_utils\n",
    "from segment_speed_utils.project_vars import (\n",
    "    COMPILED_CACHED_VIEWS,\n",
    "    GTFS_DATA_DICT,\n",
    "    PROJECT_CRS,\n",
    "    RT_SCHED_GCS,\n",
    "    SCHED_GCS,\n",
    "    SEGMENT_GCS,\n",
    ")\n",
    "from shared_utils import catalog_utils, rt_dates, rt_utils"
   ]
  },
  {
   "cell_type": "code",
   "execution_count": 2,
   "id": "a9c2438a-bc87-4cff-aff6-8b2eb5f9a649",
   "metadata": {},
   "outputs": [],
   "source": [
    "import datetime\n",
    "\n",
    "from dask import compute, delayed"
   ]
  },
  {
   "cell_type": "code",
   "execution_count": 3,
   "id": "5005895d-eb6b-4ecc-8832-360a50505e6f",
   "metadata": {},
   "outputs": [],
   "source": [
    "pd.options.display.max_columns = 100\n",
    "pd.options.display.float_format = \"{:.2f}\".format\n",
    "pd.set_option(\"display.max_rows\", None)\n",
    "pd.set_option(\"display.max_colwidth\", None)"
   ]
  },
  {
   "cell_type": "code",
   "execution_count": 4,
   "id": "90714e39-3c7d-4d70-9ee8-be96c0daec20",
   "metadata": {},
   "outputs": [],
   "source": [
    "lawndale = \"City of Lawndale\""
   ]
  },
  {
   "cell_type": "code",
   "execution_count": 5,
   "id": "416b90d6-c00e-496e-a758-fe5f25c87297",
   "metadata": {},
   "outputs": [],
   "source": [
    "la_metro = \"Los Angeles County Metropolitan Transportation Authority\""
   ]
  },
  {
   "cell_type": "code",
   "execution_count": 6,
   "id": "0c80d024-461a-49de-b1c1-0358f8ee7331",
   "metadata": {},
   "outputs": [],
   "source": [
    "sf = \"City and County of San Francisco\""
   ]
  },
  {
   "cell_type": "code",
   "execution_count": 7,
   "id": "eab31f0c-cff8-401a-8249-94d5dd41d0b3",
   "metadata": {},
   "outputs": [],
   "source": [
    "df = section2_utils.load_schedule_vp_metrics(sf)"
   ]
  },
  {
   "cell_type": "code",
   "execution_count": 8,
   "id": "a9b271d6-a6e2-4840-b2c2-a83afa70d432",
   "metadata": {},
   "outputs": [
    {
     "data": {
      "text/html": [
       "<div>\n",
       "<style scoped>\n",
       "    .dataframe tbody tr th:only-of-type {\n",
       "        vertical-align: middle;\n",
       "    }\n",
       "\n",
       "    .dataframe tbody tr th {\n",
       "        vertical-align: top;\n",
       "    }\n",
       "\n",
       "    .dataframe thead th {\n",
       "        text-align: right;\n",
       "    }\n",
       "</style>\n",
       "<table border=\"1\" class=\"dataframe\">\n",
       "  <thead>\n",
       "    <tr style=\"text-align: right;\">\n",
       "      <th></th>\n",
       "      <th>schedule_gtfs_dataset_key</th>\n",
       "      <th>dir_0_1</th>\n",
       "      <th>Period</th>\n",
       "      <th>Average Scheduled Service (trip minutes)</th>\n",
       "      <th>Average Stop Distance (miles)</th>\n",
       "      <th># scheduled trips</th>\n",
       "      <th>Trips per Hour</th>\n",
       "      <th>is_express</th>\n",
       "      <th>is_rapid</th>\n",
       "      <th>is_rail</th>\n",
       "      <th>is_coverage</th>\n",
       "      <th>is_downtown_local</th>\n",
       "      <th>is_local</th>\n",
       "      <th>Date</th>\n",
       "      <th>Route typology</th>\n",
       "      <th># Minutes with 1+ VP per Minute</th>\n",
       "      <th># Minutes with 2+ VP per Minute</th>\n",
       "      <th>Aggregate Actual Service Minutes</th>\n",
       "      <th>Aggregate Scheduled Service Minutes (all trips)</th>\n",
       "      <th># VP</th>\n",
       "      <th># VP within Scheduled Shape</th>\n",
       "      <th># Early Arrival Trips</th>\n",
       "      <th># On-Time Trips</th>\n",
       "      <th># Late Trips</th>\n",
       "      <th># Trips with VP</th>\n",
       "      <th>Average VP per Minute</th>\n",
       "      <th>% VP within Scheduled Shape</th>\n",
       "      <th>pct_rt_journey_atleast1_vp</th>\n",
       "      <th>pct_rt_journey_atleast2_vp</th>\n",
       "      <th>% Scheduled Trip w/ 1+ VP/Minute</th>\n",
       "      <th>% Scheduled Trip w/ 2+ VP/Minute</th>\n",
       "      <th>Realtime versus Scheduled Service Ratio</th>\n",
       "      <th>Average Actual Service (Trip Minutes)</th>\n",
       "      <th>GTFS Availability</th>\n",
       "      <th>Speed (MPH)</th>\n",
       "      <th>Transit Operator</th>\n",
       "      <th>route_long_name</th>\n",
       "      <th>route_short_name</th>\n",
       "      <th>Route</th>\n",
       "      <th>Route ID</th>\n",
       "      <th>schedule_source_record_id</th>\n",
       "      <th>Base64 Encoded Feed URL</th>\n",
       "      <th>Organization ID</th>\n",
       "      <th>Organization</th>\n",
       "      <th>District</th>\n",
       "      <th>ruler_100_pct</th>\n",
       "      <th>ruler_for_vp_per_min</th>\n",
       "      <th>frequency_in_minutes</th>\n",
       "      <th>direction_id</th>\n",
       "      <th>Direction</th>\n",
       "      <th>service_date</th>\n",
       "    </tr>\n",
       "  </thead>\n",
       "  <tbody>\n",
       "    <tr>\n",
       "      <th>0</th>\n",
       "      <td>7cc0cb1871dfd558f11a2885c145d144</td>\n",
       "      <td>0.00</td>\n",
       "      <td>all_day</td>\n",
       "      <td>41.33</td>\n",
       "      <td>0.12</td>\n",
       "      <td>151</td>\n",
       "      <td>6.29</td>\n",
       "      <td>0.00</td>\n",
       "      <td>0.00</td>\n",
       "      <td>0.00</td>\n",
       "      <td>0.00</td>\n",
       "      <td>1.00</td>\n",
       "      <td>0.00</td>\n",
       "      <td>2023-04-12</td>\n",
       "      <td>downtown_local</td>\n",
       "      <td>7816</td>\n",
       "      <td>7708</td>\n",
       "      <td>12084.08</td>\n",
       "      <td>6194.00</td>\n",
       "      <td>23106</td>\n",
       "      <td>21485</td>\n",
       "      <td>4</td>\n",
       "      <td>28</td>\n",
       "      <td>118</td>\n",
       "      <td>150</td>\n",
       "      <td>1.91</td>\n",
       "      <td>93.00</td>\n",
       "      <td>65.00</td>\n",
       "      <td>64.00</td>\n",
       "      <td>100.00</td>\n",
       "      <td>100.00</td>\n",
       "      <td>1.95</td>\n",
       "      <td>80.56</td>\n",
       "      <td>schedule_and_vp</td>\n",
       "      <td>6.91</td>\n",
       "      <td>Bay Area 511 Muni Schedule</td>\n",
       "      <td>CALIFORNIA</td>\n",
       "      <td>1</td>\n",
       "      <td>1 CALIFORNIA</td>\n",
       "      <td>1</td>\n",
       "      <td>recHD22phgJs34JHP</td>\n",
       "      <td>aHR0cHM6Ly9hcGkuNTExLm9yZy90cmFuc2l0L2RhdGFmZWVkcz9vcGVyYXRvcl9pZD1TRg==</td>\n",
       "      <td>rechaapWbeffO33OX</td>\n",
       "      <td>City and County of San Francisco</td>\n",
       "      <td>04 - Oakland</td>\n",
       "      <td>100</td>\n",
       "      <td>2</td>\n",
       "      <td>9.54</td>\n",
       "      <td>0.00</td>\n",
       "      <td>Westbound</td>\n",
       "      <td>2023-04-12</td>\n",
       "    </tr>\n",
       "  </tbody>\n",
       "</table>\n",
       "</div>"
      ],
      "text/plain": [
       "          schedule_gtfs_dataset_key  dir_0_1   Period  \\\n",
       "0  7cc0cb1871dfd558f11a2885c145d144     0.00  all_day   \n",
       "\n",
       "   Average Scheduled Service (trip minutes)  Average Stop Distance (miles)  \\\n",
       "0                                     41.33                           0.12   \n",
       "\n",
       "   # scheduled trips  Trips per Hour  is_express  is_rapid  is_rail  \\\n",
       "0                151            6.29        0.00      0.00     0.00   \n",
       "\n",
       "   is_coverage  is_downtown_local  is_local       Date  Route typology  \\\n",
       "0         0.00               1.00      0.00 2023-04-12  downtown_local   \n",
       "\n",
       "   # Minutes with 1+ VP per Minute  # Minutes with 2+ VP per Minute  \\\n",
       "0                             7816                             7708   \n",
       "\n",
       "   Aggregate Actual Service Minutes  \\\n",
       "0                          12084.08   \n",
       "\n",
       "   Aggregate Scheduled Service Minutes (all trips)   # VP  \\\n",
       "0                                          6194.00  23106   \n",
       "\n",
       "   # VP within Scheduled Shape  # Early Arrival Trips  # On-Time Trips  \\\n",
       "0                        21485                      4               28   \n",
       "\n",
       "   # Late Trips  # Trips with VP  Average VP per Minute  \\\n",
       "0           118              150                   1.91   \n",
       "\n",
       "   % VP within Scheduled Shape  pct_rt_journey_atleast1_vp  \\\n",
       "0                        93.00                       65.00   \n",
       "\n",
       "   pct_rt_journey_atleast2_vp  % Scheduled Trip w/ 1+ VP/Minute  \\\n",
       "0                       64.00                            100.00   \n",
       "\n",
       "   % Scheduled Trip w/ 2+ VP/Minute  Realtime versus Scheduled Service Ratio  \\\n",
       "0                            100.00                                     1.95   \n",
       "\n",
       "   Average Actual Service (Trip Minutes) GTFS Availability  Speed (MPH)  \\\n",
       "0                                  80.56   schedule_and_vp         6.91   \n",
       "\n",
       "             Transit Operator route_long_name route_short_name         Route  \\\n",
       "0  Bay Area 511 Muni Schedule      CALIFORNIA                1  1 CALIFORNIA   \n",
       "\n",
       "  Route ID schedule_source_record_id  \\\n",
       "0        1         recHD22phgJs34JHP   \n",
       "\n",
       "                                                    Base64 Encoded Feed URL  \\\n",
       "0  aHR0cHM6Ly9hcGkuNTExLm9yZy90cmFuc2l0L2RhdGFmZWVkcz9vcGVyYXRvcl9pZD1TRg==   \n",
       "\n",
       "     Organization ID                      Organization      District  \\\n",
       "0  rechaapWbeffO33OX  City and County of San Francisco  04 - Oakland   \n",
       "\n",
       "   ruler_100_pct  ruler_for_vp_per_min  frequency_in_minutes  direction_id  \\\n",
       "0            100                     2                  9.54          0.00   \n",
       "\n",
       "   Direction service_date  \n",
       "0  Westbound   2023-04-12  "
      ]
     },
     "execution_count": 8,
     "metadata": {},
     "output_type": "execute_result"
    }
   ],
   "source": [
    "df.head(1)"
   ]
  },
  {
   "cell_type": "code",
   "execution_count": 9,
   "id": "7096b667-0396-4332-8bf5-9a8e018d3615",
   "metadata": {},
   "outputs": [
    {
     "data": {
      "text/plain": [
       "Eastbound     1411\n",
       "Westbound     1312\n",
       "Southbound     968\n",
       "Northbound     963\n",
       "Name: Direction, dtype: int64"
      ]
     },
     "execution_count": 9,
     "metadata": {},
     "output_type": "execute_result"
    }
   ],
   "source": [
    "df.Direction.value_counts()"
   ]
  },
  {
   "cell_type": "code",
   "execution_count": 10,
   "id": "d972253b-5db7-434f-abba-bfafd44159e4",
   "metadata": {},
   "outputs": [
    {
     "data": {
      "text/plain": [
       "4654"
      ]
     },
     "execution_count": 10,
     "metadata": {},
     "output_type": "execute_result"
    }
   ],
   "source": [
    "df.Direction.value_counts().sum()"
   ]
  },
  {
   "cell_type": "code",
   "execution_count": 11,
   "id": "181387f1-c519-420e-b975-b8da6b63eeaf",
   "metadata": {},
   "outputs": [
    {
     "data": {
      "text/plain": [
       "4654"
      ]
     },
     "execution_count": 11,
     "metadata": {},
     "output_type": "execute_result"
    }
   ],
   "source": [
    "len(df)"
   ]
  },
  {
   "cell_type": "code",
   "execution_count": 12,
   "id": "2c9cc415-5b24-4c1a-9a69-5a044684aa69",
   "metadata": {},
   "outputs": [
    {
     "data": {
      "text/plain": [
       "4654"
      ]
     },
     "execution_count": 12,
     "metadata": {},
     "output_type": "execute_result"
    }
   ],
   "source": [
    "df.dir_0_1.count()"
   ]
  },
  {
   "cell_type": "code",
   "execution_count": 13,
   "id": "ec830974-a023-4cd1-a5a4-795cfa740b58",
   "metadata": {},
   "outputs": [],
   "source": [
    "all_dates_list = list(df.Date.unique())\n",
    "gtfs_keys = list(df.schedule_gtfs_dataset_key.unique())\n",
    "all_dates_list = [np.datetime_as_string(date, unit=\"D\") for date in all_dates_list]"
   ]
  },
  {
   "cell_type": "code",
   "execution_count": 14,
   "id": "7ea01e41-562b-4027-8f21-8a317cbccfb3",
   "metadata": {},
   "outputs": [],
   "source": [
    "analysis_date = all_dates_list[0]"
   ]
  },
  {
   "cell_type": "code",
   "execution_count": 16,
   "id": "54bc651a-397b-4198-95d0-b3cb6da17003",
   "metadata": {},
   "outputs": [
    {
     "data": {
      "text/plain": [
       "['2023-04-12',\n",
       " '2023-05-17',\n",
       " '2023-06-14',\n",
       " '2023-07-12',\n",
       " '2023-08-15',\n",
       " '2023-10-11',\n",
       " '2023-11-15',\n",
       " '2023-12-13',\n",
       " '2024-01-17',\n",
       " '2024-02-14',\n",
       " '2024-03-13',\n",
       " '2024-04-17',\n",
       " '2023-03-15']"
      ]
     },
     "execution_count": 16,
     "metadata": {},
     "output_type": "execute_result"
    }
   ],
   "source": [
    "all_dates_list"
   ]
  },
  {
   "cell_type": "code",
   "execution_count": 15,
   "id": "67d26851-7358-4e8d-b281-828ea454a334",
   "metadata": {},
   "outputs": [
    {
     "data": {
      "text/plain": [
       "'2023-04-12'"
      ]
     },
     "execution_count": 15,
     "metadata": {},
     "output_type": "execute_result"
    }
   ],
   "source": [
    "analysis_date"
   ]
  },
  {
   "cell_type": "markdown",
   "id": "180f9fc0-07f4-4cdf-a61f-251a44d7e5ae",
   "metadata": {},
   "source": [
    "### Editing the `stop_times_direction`"
   ]
  },
  {
   "cell_type": "code",
   "execution_count": null,
   "id": "a9276adc-5199-4af6-a693-10c2cdebb013",
   "metadata": {},
   "outputs": [],
   "source": [
    "TABLE = GTFS_DATA_DICT.rt_vs_schedule_tables.stop_times_direction\n",
    "FILE = f\"{RT_SCHED_GCS}{TABLE}_{analysis_date}.parquet\""
   ]
  },
  {
   "cell_type": "code",
   "execution_count": null,
   "id": "3b02b34d-c7db-4600-9179-435c169e1459",
   "metadata": {},
   "outputs": [],
   "source": [
    "stops = pd.read_parquet(FILE)"
   ]
  },
  {
   "cell_type": "code",
   "execution_count": null,
   "id": "b0e16623-7bd7-4622-b38a-3714540b7947",
   "metadata": {},
   "outputs": [],
   "source": [
    "stops.sample()"
   ]
  },
  {
   "cell_type": "markdown",
   "id": "7ccd752b-dedf-4192-9d79-f9b4ce001efa",
   "metadata": {},
   "source": [
    "### Editing `import_scheduled_trips`"
   ]
  },
  {
   "cell_type": "code",
   "execution_count": null,
   "id": "e37ba4f6-0b75-49b7-8b2d-f71d465741fd",
   "metadata": {},
   "outputs": [],
   "source": [
    "TABLE2 = GTFS_DATA_DICT.schedule_downloads.trips\n",
    "FILE2 = f\"{COMPILED_CACHED_VIEWS}{TABLE}_{analysis_date}.parquet\""
   ]
  },
  {
   "cell_type": "code",
   "execution_count": null,
   "id": "183048df-a55c-4a66-b4c9-dda7c8798614",
   "metadata": {},
   "outputs": [],
   "source": [
    "scheduled_trips = pd.read_parquet(FILE)"
   ]
  },
  {
   "cell_type": "code",
   "execution_count": null,
   "id": "3fad8252-a216-4f5a-b670-bdd3f11f177c",
   "metadata": {},
   "outputs": [],
   "source": [
    "scheduled_trips.sample()"
   ]
  },
  {
   "cell_type": "markdown",
   "id": "d034117a-a593-4655-8294-d06ccc3a60ce",
   "metadata": {},
   "source": [
    "### Testing for ONE date only"
   ]
  },
  {
   "cell_type": "code",
   "execution_count": null,
   "id": "9f0a1e4a-213a-45a1-babd-6303c8dffc6f",
   "metadata": {},
   "outputs": [],
   "source": [
    "def find_most_common_dir(\n",
    "    scheduled_trips_df: pd.DataFrame,\n",
    "    scheduled_stop_times_df: pd.DataFrame,\n",
    ") -> pd.DataFrame:\n",
    "    \"\"\"\n",
    "    Load load_scheduled_trips() and load_scheduled_stop_times()\n",
    "    \"\"\"\n",
    "    # Merge dfs\n",
    "    merge_cols = [\n",
    "        \"trip_instance_key\",\n",
    "        \"schedule_gtfs_dataset_key\",\n",
    "        \"shape_array_key\",\n",
    "        \"service_date\",\n",
    "    ]\n",
    "\n",
    "    df = delayed(pd.merge)(\n",
    "        scheduled_trips_df,\n",
    "        scheduled_stop_times_df,\n",
    "        on=merge_cols,\n",
    "        how=\"inner\",\n",
    "    )\n",
    "\n",
    "    agg1 = (\n",
    "        df.groupby(\n",
    "            [\n",
    "                \"route_id\",\n",
    "                \"schedule_gtfs_dataset_key\",\n",
    "                \"direction_id\",\n",
    "                \"stop_primary_direction\",\n",
    "                \"service_date\",\n",
    "            ]\n",
    "        )\n",
    "        .agg({\"stop_sequence\": \"count\"})\n",
    "        .reset_index()\n",
    "        .rename(columns={\"stop_sequence\": \"total_stops\"})\n",
    "    )\n",
    "\n",
    "    # Sort and drop duplicates so that the\n",
    "    # largest # of stops by stop_primary_direction is at the top\n",
    "    agg2 = agg1.sort_values(\n",
    "        by=[\n",
    "            \"route_id\",\n",
    "            \"schedule_gtfs_dataset_key\",\n",
    "            \"direction_id\",\n",
    "            \"service_date\",\n",
    "            \"total_stops\",\n",
    "        ],\n",
    "        ascending=[True, True, True, True, False],\n",
    "    )\n",
    "\n",
    "    # Drop duplicates so only the top stop_primary_direction is kept.\n",
    "    agg3 = agg2.drop_duplicates(\n",
    "        subset=[\"route_id\", \"schedule_gtfs_dataset_key\", \"direction_id\", \"service_date\"]\n",
    "    ).reset_index(drop=True)\n",
    "\n",
    "    agg3 = agg3.drop(columns=[\"total_stops\"])\n",
    "    return agg3"
   ]
  },
  {
   "cell_type": "code",
   "execution_count": null,
   "id": "b7448d80-a914-4187-bdc4-9d13b2a1ddd4",
   "metadata": {},
   "outputs": [],
   "source": [
    "scheduled_trips_dd = delayed(\n",
    "    section2_utils.load_scheduled_trips(analysis_date, gtfs_keys)\n",
    ")\n",
    "scheduled_stops_dd = delayed(\n",
    "    section2_utils.load_scheduled_stop_times(analysis_date, gtfs_keys)\n",
    ")\n",
    "apr_2023_cardinal_dir = find_most_common_dir(scheduled_trips_dd, scheduled_stops_dd)"
   ]
  },
  {
   "cell_type": "code",
   "execution_count": null,
   "id": "b74527f5-2138-48b5-92de-35346986fea5",
   "metadata": {},
   "outputs": [],
   "source": [
    "apr_2023_cardinal_dir_df = apr_2023_cardinal_dir.compute()"
   ]
  },
  {
   "cell_type": "markdown",
   "id": "dab2bcf0-0892-4525-889f-19284824f1cc",
   "metadata": {},
   "source": [
    "#### Something is going wrong with linking the route name to the route ID.\n",
    "* Using `1 CALIFORNIA` as an example, I can see that direction 1 isn't populating correctly.\n",
    "* Even though `find_most_common_dir` yields the correct result of a cardinal direction for 0 and 1."
   ]
  },
  {
   "cell_type": "code",
   "execution_count": null,
   "id": "6fd88fd3-ebd9-43b2-a276-b17320e9a260",
   "metadata": {},
   "outputs": [],
   "source": [
    "apr_2023_cardinal_dir_df.route_id.value_counts().describe()"
   ]
  },
  {
   "cell_type": "code",
   "execution_count": null,
   "id": "80dfa5c2-16f4-42f3-a06a-588696097ec9",
   "metadata": {},
   "outputs": [],
   "source": [
    "apr_2023_cardinal_dir_df.head(2)"
   ]
  },
  {
   "cell_type": "code",
   "execution_count": null,
   "id": "ff3f8f78-c693-4a0b-bcd4-291360374d68",
   "metadata": {},
   "outputs": [],
   "source": [
    "apr_2023_cardinal_dir_df.route_id.nunique()"
   ]
  },
  {
   "cell_type": "code",
   "execution_count": null,
   "id": "2567a9af-3935-4ad6-8040-cf92d69ff41d",
   "metadata": {},
   "outputs": [],
   "source": [
    "df.loc[df[\"Route ID\"] == \"1\"].Direction.value_counts()"
   ]
  },
  {
   "cell_type": "code",
   "execution_count": null,
   "id": "a239f5cd-bc53-4af4-8183-f0125028fc9f",
   "metadata": {},
   "outputs": [],
   "source": [
    "df.loc[df[\"Route ID\"] == \"1\"][\n",
    "    [\"Direction\", \"dir_0_1\", \"Route\", \"Route ID\"]\n",
    "].drop_duplicates()"
   ]
  },
  {
   "cell_type": "code",
   "execution_count": null,
   "id": "9c94482a-30d3-46c7-8f3d-16c5a0c5b7cd",
   "metadata": {},
   "outputs": [],
   "source": [
    "def most_recent_route_info(\n",
    "    df: pd.DataFrame, group_cols: list, route_col: str\n",
    ") -> pd.DataFrame:\n",
    "    \"\"\"\n",
    "    Find the most recent value across a grouping.\n",
    "    Ex: if we group by route_id, we can find the most recent\n",
    "    value for route_long_name.\n",
    "\n",
    "    Needs a date column to work.\n",
    "    \"\"\"\n",
    "    sort_order = [True for c in group_cols]\n",
    "\n",
    "    most_recent = (\n",
    "        df.sort_values(group_cols + [\"service_date\"], ascending=sort_order + [False])\n",
    "        .drop_duplicates(subset=group_cols)\n",
    "        .rename(columns={route_col: f\"recent_{route_col}\"})\n",
    "    )\n",
    "\n",
    "    df2 = delayed(pd.merge)(\n",
    "        df, most_recent[group_cols + [f\"recent_{route_col}\"]], on=group_cols, how=\"left\"\n",
    "    )\n",
    "    return most_recent"
   ]
  },
  {
   "cell_type": "code",
   "execution_count": null,
   "id": "e3b16933-0cfb-4fae-a90a-d775169dbaf9",
   "metadata": {},
   "outputs": [],
   "source": [
    "def find_most_recent_route_id(df):\n",
    "    df = df.assign(\n",
    "        route_id=df.route_id.fillna(\"\"),\n",
    "        route_short_name=df.route_short_name.fillna(\"\"),\n",
    "        route_long_name=df.route_long_name.fillna(\"\"),\n",
    "    )\n",
    "    df = df.assign(combined_name=df.route_short_name + \"__\" + df.route_long_name)\n",
    "\n",
    "    df = df.assign(\n",
    "        route_id2=df.apply(\n",
    "            lambda x: gtfs_schedule_wrangling.standardize_route_id(\n",
    "                x, \"name\", \"route_id\"\n",
    "            ),\n",
    "            axis=1,\n",
    "        )\n",
    "    )\n",
    "\n",
    "    route_cols = [\"schedule_gtfs_dataset_key\", \"name\", \"route_id2\"]\n",
    "\n",
    "    df2 = most_recent_route_info(\n",
    "        df, group_cols=route_cols, route_col=\"combined_name\"\n",
    "    ).pipe(\n",
    "        most_recent_route_info,\n",
    "        group_cols=[\"schedule_gtfs_dataset_key\", \"name\", \"recent_combined_name\"],\n",
    "        route_col=\"route_id2\",\n",
    "    )\n",
    "\n",
    "    df2 = df2[\n",
    "        [\"schedule_gtfs_dataset_key\", \"route_id\", \"service_date\", \"recent_route_id2\"]\n",
    "    ]\n",
    "    return df2"
   ]
  },
  {
   "cell_type": "code",
   "execution_count": null,
   "id": "142b6d7a-ff00-459c-8b6c-837918372c05",
   "metadata": {},
   "outputs": [],
   "source": [
    "recent_route_id_test = find_most_recent_route_id(scheduled_trips_dd)"
   ]
  },
  {
   "cell_type": "code",
   "execution_count": null,
   "id": "fbd8dad9-5f45-4fab-a999-86e9dd1d8b88",
   "metadata": {
    "scrolled": true,
    "tags": []
   },
   "outputs": [],
   "source": [
    "recent_route_id_test_df = recent_route_id_test.compute()"
   ]
  },
  {
   "cell_type": "code",
   "execution_count": null,
   "id": "b56f3107-2b67-4d94-972a-f55de620a775",
   "metadata": {},
   "outputs": [],
   "source": [
    "recent_route_id_test_df.shape"
   ]
  },
  {
   "cell_type": "code",
   "execution_count": null,
   "id": "161e8419-7fcb-4707-9095-c993363f0854",
   "metadata": {},
   "outputs": [],
   "source": [
    "recent_route_id_test_df.head(3)"
   ]
  },
  {
   "cell_type": "code",
   "execution_count": null,
   "id": "aa7464f8-af63-41ad-b881-a0ca69eaa947",
   "metadata": {},
   "outputs": [],
   "source": [
    "recent_route_id_test_df.recent_route_id2.nunique()"
   ]
  },
  {
   "cell_type": "markdown",
   "id": "848e8716-0694-4b65-a00f-bfa969f18d3e",
   "metadata": {},
   "source": [
    "#### Testing merging"
   ]
  },
  {
   "cell_type": "code",
   "execution_count": null,
   "id": "f74b25af-92d4-4b94-98a7-be665d752f4c",
   "metadata": {},
   "outputs": [],
   "source": [
    "m1 = pd.merge(\n",
    "    apr_2023_cardinal_dir_df,\n",
    "    recent_route_id_test_df,\n",
    "    on=[\"schedule_gtfs_dataset_key\", \"route_id\", \"direction_id\", \"service_date\"],\n",
    "    how=\"outer\",\n",
    "    indicator=True,\n",
    ")"
   ]
  },
  {
   "cell_type": "code",
   "execution_count": null,
   "id": "d560a8de-55ac-4ea3-8c78-71a3af7ab748",
   "metadata": {},
   "outputs": [],
   "source": [
    "m1[[\"_merge\"]].value_counts()"
   ]
  },
  {
   "cell_type": "code",
   "execution_count": null,
   "id": "c2fb683f-2a90-4039-a359-21c58b928458",
   "metadata": {},
   "outputs": [],
   "source": [
    "apr_2023_cardinal_dir_df.info()"
   ]
  },
  {
   "cell_type": "code",
   "execution_count": null,
   "id": "fde8e8e8-60a3-4990-84fe-52e68c74d999",
   "metadata": {},
   "outputs": [],
   "source": [
    "recent_route_id_test_df.info()"
   ]
  },
  {
   "cell_type": "code",
   "execution_count": null,
   "id": "75b953d2-bbc6-41ee-b325-df9958b4d14f",
   "metadata": {},
   "outputs": [],
   "source": [
    "m2 = pd.merge(\n",
    "    apr_2023_cardinal_dir_df,\n",
    "    recent_route_id_test_df,\n",
    "    on=[\"schedule_gtfs_dataset_key\", \"route_id\", \"direction_id\"],\n",
    "    how=\"outer\",\n",
    "    indicator=True,\n",
    ")"
   ]
  },
  {
   "cell_type": "code",
   "execution_count": null,
   "id": "b275414a-c8fa-4742-a848-cb02653840c8",
   "metadata": {},
   "outputs": [],
   "source": [
    "m2._merge.value_counts()"
   ]
  },
  {
   "cell_type": "code",
   "execution_count": null,
   "id": "17b1c79c-b47b-4201-ad83-6234a1ed1d4a",
   "metadata": {},
   "outputs": [],
   "source": [
    "m3 = pd.merge(\n",
    "    apr_2023_cardinal_dir_df,\n",
    "    recent_route_id_test_df,\n",
    "    on=[\"schedule_gtfs_dataset_key\", \"route_id\", \"service_date\"],\n",
    "    how=\"outer\",\n",
    "    indicator=True,\n",
    ")"
   ]
  },
  {
   "cell_type": "code",
   "execution_count": null,
   "id": "1a537e49-025e-4021-83bf-1f783a0b5f29",
   "metadata": {},
   "outputs": [],
   "source": [
    "m3._merge.value_counts()"
   ]
  },
  {
   "cell_type": "markdown",
   "id": "d1dc6f30-45a8-450e-a912-1c089d9ccf6a",
   "metadata": {},
   "source": [
    "#### Something going wrong with this function when merging."
   ]
  },
  {
   "cell_type": "code",
   "execution_count": null,
   "id": "d588edb5-880f-462a-be6a-6318807b9eab",
   "metadata": {},
   "outputs": [],
   "source": [
    "def find_cardinal_direction(date: str, gtfs_schedule_keys: list) -> pd.DataFrame:\n",
    "    # Grab all available dates for these dataframes\n",
    "    # Load the 2 dataframes\n",
    "    scheduled_trips_dd = delayed(\n",
    "        section2_utils.load_scheduled_trips(date, gtfs_schedule_keys)\n",
    "    )\n",
    "    scheduled_stops_dd = delayed(\n",
    "        section2_utils.load_scheduled_stop_times(date, gtfs_schedule_keys)\n",
    "    )\n",
    "\n",
    "    # Find the most common direction for this Route ID\n",
    "    common_stops_dd = find_most_common_dir(scheduled_trips_dd, scheduled_stops_dd)\n",
    "\n",
    "    # Find the most recent Route ID to connect back to sched_vp_df\n",
    "    recent_ids_dd = find_most_recent_route_id(scheduled_trips_dd)\n",
    "\n",
    "    # Merge this\n",
    "    m1 = delayed(pd.merge)(\n",
    "        common_stops_dd,\n",
    "        recent_ids_dd,\n",
    "        on=[\"schedule_gtfs_dataset_key\", \"route_id\", \"service_date\"],\n",
    "        how=\"inner\",\n",
    "    )\n",
    "\n",
    "    m1 = m1.drop(columns=[\"route_id\"])\n",
    "\n",
    "    return m1"
   ]
  },
  {
   "cell_type": "code",
   "execution_count": null,
   "id": "a6118040-57a8-4b0c-b198-2a9e47be2658",
   "metadata": {},
   "outputs": [],
   "source": [
    "apr2023_final = find_cardinal_direction(analysis_date, gtfs_keys)"
   ]
  },
  {
   "cell_type": "code",
   "execution_count": null,
   "id": "047faf58-52f1-4513-bb6c-f198b530d104",
   "metadata": {},
   "outputs": [],
   "source": [
    "apr2023_final_df = apr2023_final.compute()"
   ]
  },
  {
   "cell_type": "code",
   "execution_count": null,
   "id": "634d3627-9ebd-4ae0-9e3a-d75d07204de7",
   "metadata": {},
   "outputs": [],
   "source": [
    "apr2023_final_df.sample()"
   ]
  },
  {
   "cell_type": "code",
   "execution_count": null,
   "id": "2859c365-5cd2-49e1-8e49-67adfca021c7",
   "metadata": {
    "scrolled": true,
    "tags": []
   },
   "outputs": [],
   "source": [
    "apr2023_final_df.groupby(\n",
    "    [\"recent_route_id2\", \"direction_id\", \"stop_primary_direction\"]\n",
    ").agg({\"service_date\": \"unique\"})"
   ]
  },
  {
   "cell_type": "code",
   "execution_count": null,
   "id": "4881f950-1838-4d01-b7c5-c7f0c44a52a4",
   "metadata": {},
   "outputs": [],
   "source": [
    "df_apr_2023 = df.loc[df[\"Date\"] == \"2023-04-12\"]"
   ]
  },
  {
   "cell_type": "code",
   "execution_count": null,
   "id": "ac6e24ca-54f0-46f1-bc85-84b1432ef019",
   "metadata": {},
   "outputs": [],
   "source": [
    "df_apr_2023[\"Route ID\"].nunique()"
   ]
  },
  {
   "cell_type": "code",
   "execution_count": null,
   "id": "96bef3f8-a93e-48ce-9a4e-94d6d95e9efa",
   "metadata": {},
   "outputs": [],
   "source": [
    "df_apr_2023 = df_apr_2023.drop(columns=[\"Direction\", \"direction_id\", \"service_date\"])"
   ]
  },
  {
   "cell_type": "code",
   "execution_count": null,
   "id": "a56b37cd-f1f7-49b0-95ff-5a95177f259b",
   "metadata": {},
   "outputs": [],
   "source": [
    "df_apr_2023[\"temp_service_date\"] = df_apr_2023[\"Date\"].astype(str)"
   ]
  },
  {
   "cell_type": "code",
   "execution_count": null,
   "id": "d3caef5c-c5ba-41d1-9502-97f19b4a1e86",
   "metadata": {},
   "outputs": [],
   "source": [
    "df_apr_2023.head(1)"
   ]
  },
  {
   "cell_type": "code",
   "execution_count": null,
   "id": "3f9a0427-6840-4174-ba68-22d3c1a7beca",
   "metadata": {},
   "outputs": [],
   "source": [
    "apr2023_final_df.head(1)"
   ]
  },
  {
   "cell_type": "markdown",
   "id": "6ea5c8ef-9e03-4122-9c78-c2e03b3f619b",
   "metadata": {},
   "source": [
    "#### 1st Merge test"
   ]
  },
  {
   "cell_type": "code",
   "execution_count": null,
   "id": "6363d108-91fd-4082-9e9c-7601e71a0141",
   "metadata": {},
   "outputs": [],
   "source": [
    "m1_apr_2023 = pd.merge(\n",
    "    df_apr_2023,\n",
    "    apr2023_final_df,\n",
    "    left_on=[\"schedule_gtfs_dataset_key\", \"dir_0_1\", \"Route ID\", \"temp_service_date\"],\n",
    "    right_on=[\n",
    "        \"schedule_gtfs_dataset_key\",\n",
    "        \"direction_id\",\n",
    "        \"recent_route_id2\",\n",
    "        \"service_date\",\n",
    "    ],\n",
    "    how=\"left\",\n",
    ")"
   ]
  },
  {
   "cell_type": "code",
   "execution_count": null,
   "id": "2b9b478a-8223-40a8-bf6a-744913ec4cb4",
   "metadata": {},
   "outputs": [],
   "source": [
    "print(len(m1_apr_2023))\n",
    "print(m1_apr_2023.stop_primary_direction.count())\n",
    "print(m1_apr_2023.dir_0_1.count())"
   ]
  },
  {
   "cell_type": "code",
   "execution_count": null,
   "id": "03b7a63a-b48f-4dcf-b0a6-107eae987963",
   "metadata": {},
   "outputs": [],
   "source": [
    "len(df_apr_2023)"
   ]
  },
  {
   "cell_type": "markdown",
   "id": "3b95598f-d2d1-483e-a4db-00a24a1b4b0f",
   "metadata": {},
   "source": [
    "##### IDs are matching so it's the match that's the issue."
   ]
  },
  {
   "cell_type": "code",
   "execution_count": null,
   "id": "4f661bdc-fbbe-478a-abe1-0d3d4018fa59",
   "metadata": {},
   "outputs": [],
   "source": [
    "cardinal_dir_routeids = set(apr2023_final_df.recent_route_id2.unique().tolist())\n",
    "main_routeids = set(m1_apr_2023[\"Route ID\"].unique().tolist())"
   ]
  },
  {
   "cell_type": "code",
   "execution_count": null,
   "id": "a65a9f79-3955-4acc-a777-7c6433db2fea",
   "metadata": {},
   "outputs": [],
   "source": [
    "cardinal_dir_routeids - main_routeids"
   ]
  },
  {
   "cell_type": "code",
   "execution_count": null,
   "id": "21a76d91-7108-439f-998f-8f145523d54f",
   "metadata": {},
   "outputs": [],
   "source": [
    "main_routeids - cardinal_dir_routeids"
   ]
  },
  {
   "cell_type": "code",
   "execution_count": null,
   "id": "395eccba-6cb7-4d53-998b-c70c17a80921",
   "metadata": {},
   "outputs": [],
   "source": [
    "apr2023_final_df.sample()"
   ]
  },
  {
   "cell_type": "markdown",
   "id": "3366fdef-2118-451f-84af-eada9ca29a9f",
   "metadata": {},
   "source": [
    "#### 2nd Merge Test"
   ]
  },
  {
   "cell_type": "code",
   "execution_count": null,
   "id": "1992dd53-5aa6-401a-8c8b-9dcf45980efa",
   "metadata": {},
   "outputs": [],
   "source": [
    "m2_apr_2023 = pd.merge(\n",
    "    df_apr_2023,\n",
    "    apr2023_final_df,\n",
    "    left_on=[\"schedule_gtfs_dataset_key\", \"dir_0_1\", \"Route ID\"],\n",
    "    right_on=[\n",
    "        \"schedule_gtfs_dataset_key\",\n",
    "        \"direction_id\",\n",
    "        \"recent_route_id2\",\n",
    "    ],\n",
    "    how=\"left\",\n",
    ")"
   ]
  },
  {
   "cell_type": "code",
   "execution_count": null,
   "id": "a55a623f-205c-4e9d-b9e5-bcdaf092156d",
   "metadata": {},
   "outputs": [],
   "source": [
    "print(len(m2_apr_2023))\n",
    "print(m2_apr_2023.stop_primary_direction.count())\n",
    "print(m2_apr_2023.dir_0_1.count())"
   ]
  },
  {
   "cell_type": "markdown",
   "id": "123697d8-6aa6-443a-ad68-6a6589ef534c",
   "metadata": {},
   "source": [
    "#### 3rd test"
   ]
  },
  {
   "cell_type": "code",
   "execution_count": null,
   "id": "73d29e43-8fe8-4310-b8e7-4c8d7cab9cd1",
   "metadata": {},
   "outputs": [],
   "source": [
    "m3_apr_2023 = pd.merge(\n",
    "    df_apr_2023,\n",
    "    apr2023_final_df,\n",
    "    left_on=[\"dir_0_1\", \"Route ID\"],\n",
    "    right_on=[\n",
    "        \"direction_id\",\n",
    "        \"recent_route_id2\",\n",
    "    ],\n",
    "    how=\"left\",\n",
    ")"
   ]
  },
  {
   "cell_type": "code",
   "execution_count": null,
   "id": "2a0ca672-ba81-48d8-98ef-4aff0d803cb4",
   "metadata": {},
   "outputs": [],
   "source": [
    "print(len(m3_apr_2023))\n",
    "print(m3_apr_2023.stop_primary_direction.count())\n",
    "print(m3_apr_2023.dir_0_1.count())"
   ]
  },
  {
   "cell_type": "code",
   "execution_count": null,
   "id": "d643bee0-40b2-4a0c-bb0c-90292d651eff",
   "metadata": {},
   "outputs": [],
   "source": []
  },
  {
   "cell_type": "markdown",
   "id": "80d12bac-ad42-4720-8194-f00c0879e5d4",
   "metadata": {},
   "source": [
    "#### Testing for ALL dates"
   ]
  },
  {
   "cell_type": "code",
   "execution_count": null,
   "id": "4f2024b6-cb9f-489e-8a01-276a0c8c5801",
   "metadata": {},
   "outputs": [],
   "source": [
    "def all_dates_cardinal_dir(dates: list, gtfs_schedule_keys: list) -> pd.DataFrame:\n",
    "    full_df = pd.DataFrame()\n",
    "    for date in dates:\n",
    "        df = find_cardinal_direction(date, gtfs_schedule_keys)\n",
    "        df = df.compute()\n",
    "        full_df = pd.concat([full_df, df], axis=0)\n",
    "    return full_df"
   ]
  },
  {
   "cell_type": "code",
   "execution_count": null,
   "id": "ba01e594-cf55-4431-916e-c2b46039aee0",
   "metadata": {},
   "outputs": [],
   "source": [
    "start1 = datetime.datetime.now()\n",
    "all_dates_df = all_dates_cardinal_dir(all_dates_list, gtfs_keys)\n",
    "end1 = datetime.datetime.now()\n",
    "print(f\"{end1-start1}\")"
   ]
  },
  {
   "cell_type": "code",
   "execution_count": null,
   "id": "d82b1b4a-9de5-4789-87fd-0d912e8777e5",
   "metadata": {},
   "outputs": [],
   "source": [
    "all_dates_df.groupby([\"service_date\"]).agg({\"recent_route_id2\": \"nunique\"})"
   ]
  },
  {
   "cell_type": "markdown",
   "id": "128c55a7-b4da-4006-816e-4274e17c067c",
   "metadata": {},
   "source": [
    "#### What to do about routes that change direction? \n",
    "* Check and make sure my code is right.\n",
    "* Use 14R\n",
    "    * 14R is also missing data for September but it looks like all routes for San Francisco are."
   ]
  },
  {
   "cell_type": "code",
   "execution_count": null,
   "id": "b26523e4-2bb9-4507-bee5-de204fa5a20e",
   "metadata": {
    "scrolled": true,
    "tags": []
   },
   "outputs": [],
   "source": [
    "all_dates_df.groupby(\n",
    "    [\"recent_route_id2\", \"direction_id\", \"stop_primary_direction\"]\n",
    ").agg({\"service_date\": \"unique\"})"
   ]
  },
  {
   "cell_type": "code",
   "execution_count": null,
   "id": "99200056-df76-4cf4-92df-63dd152d09a7",
   "metadata": {},
   "outputs": [],
   "source": [
    "all_dates_df.groupby([\"recent_route_id2\",]).agg(\n",
    "    {\"stop_primary_direction\": \"nunique\"}\n",
    ").sort_values(by=[\"stop_primary_direction\"], ascending=False).head()"
   ]
  },
  {
   "cell_type": "code",
   "execution_count": null,
   "id": "b5c4c443-ad1e-44bf-a845-66b636d816fc",
   "metadata": {},
   "outputs": [],
   "source": [
    "scheduled_trips_dd_aug = delayed(\n",
    "    section2_utils.load_scheduled_trips(\"2023-08-15\", gtfs_keys)\n",
    ")\n",
    "scheduled_stops_dd_aug = delayed(\n",
    "    section2_utils.load_scheduled_stop_times(\"2023-08-15\", gtfs_keys)\n",
    ")\n",
    "aug_2023_cardinal_dir = find_most_common_dir(\n",
    "    scheduled_trips_dd_aug, scheduled_stops_dd_aug\n",
    ")"
   ]
  },
  {
   "cell_type": "code",
   "execution_count": null,
   "id": "2a2e663f-54ef-4525-b0a5-8c43298a3682",
   "metadata": {},
   "outputs": [],
   "source": [
    "aug_2023_cardinal_dir_df = aug_2023_cardinal_dir.compute()"
   ]
  },
  {
   "cell_type": "code",
   "execution_count": null,
   "id": "53725adb-b96b-4fa5-a862-02ce2c722c06",
   "metadata": {},
   "outputs": [],
   "source": [
    "aug_2023_cardinal_dir_df.loc[aug_2023_cardinal_dir_df.route_id == \"14R\"]"
   ]
  },
  {
   "cell_type": "code",
   "execution_count": null,
   "id": "5d0063d5-1931-4704-922a-270bf8a10c94",
   "metadata": {},
   "outputs": [],
   "source": [
    "df = df.drop(columns=[\"Direction\", \"direction_id\", \"service_date\"])"
   ]
  },
  {
   "cell_type": "code",
   "execution_count": null,
   "id": "0b293bb4-a4bb-46a8-bd13-fb293691a211",
   "metadata": {},
   "outputs": [],
   "source": [
    "df[\"temp_service_date\"] = df[\"Date\"].astype(str)"
   ]
  },
  {
   "cell_type": "code",
   "execution_count": null,
   "id": "167a506a-f75e-4eed-a943-cf6ce0dbbd80",
   "metadata": {},
   "outputs": [],
   "source": [
    "m1_all_dates = pd.merge(\n",
    "    df,\n",
    "    all_dates_df,\n",
    "    left_on=[\"schedule_gtfs_dataset_key\", \"dir_0_1\", \"Route ID\", \"temp_service_date\"],\n",
    "    right_on=[\n",
    "        \"schedule_gtfs_dataset_key\",\n",
    "        \"direction_id\",\n",
    "        \"recent_route_id2\",\n",
    "        \"service_date\",\n",
    "    ],\n",
    "    how=\"left\",\n",
    ")"
   ]
  },
  {
   "cell_type": "code",
   "execution_count": null,
   "id": "39f464ca-5afc-462b-9892-2fa4993857fa",
   "metadata": {},
   "outputs": [],
   "source": [
    "m1_all_dates.stop_primary_direction.value_counts()"
   ]
  },
  {
   "cell_type": "code",
   "execution_count": null,
   "id": "3205d8d8-7259-49a5-925c-0ffa1c2e271b",
   "metadata": {},
   "outputs": [],
   "source": []
  },
  {
   "cell_type": "code",
   "execution_count": null,
   "id": "f1e2c365-4a07-4746-938b-d6a83df310c5",
   "metadata": {},
   "outputs": [],
   "source": [
    "print(len(m1_all_dates))\n",
    "print(m1_all_dates.stop_primary_direction.count())\n",
    "print(m1_all_dates.dir_0_1.count())"
   ]
  },
  {
   "cell_type": "markdown",
   "id": "e48df8c3-a794-489f-ab8b-0d5cc34641ac",
   "metadata": {},
   "source": [
    "### Plot and see"
   ]
  }
 ],
 "metadata": {
  "kernelspec": {
   "display_name": "Python 3 (ipykernel)",
   "language": "python",
   "name": "python3"
  },
  "language_info": {
   "codemirror_mode": {
    "name": "ipython",
    "version": 3
   },
   "file_extension": ".py",
   "mimetype": "text/x-python",
   "name": "python",
   "nbconvert_exporter": "python",
   "pygments_lexer": "ipython3",
   "version": "3.9.13"
  }
 },
 "nbformat": 4,
 "nbformat_minor": 5
}
