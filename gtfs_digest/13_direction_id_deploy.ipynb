{
 "cells": [
  {
   "cell_type": "markdown",
   "id": "0a382839-740a-4671-9b21-ac77dee316f7",
   "metadata": {},
   "source": [
    "## Second Pass at Cardinal Direction ID\n",
    "* Right now, there is a rough draft but it doesn't incorporate dates and it takes forever to run.\n",
    "* This notebook will incorporate dates and deployed to make sure each operator doesn't take 2+ minutes to generate when deploying this work to the portfolio\n",
    "\n",
    "### Resources\n",
    "* https://github.com/cal-itp/data-analyses/blob/main/rt_segment_speeds/scripts/average_summary_speeds.py#L184-L191"
   ]
  },
  {
   "cell_type": "code",
   "execution_count": 1,
   "id": "57816b77-8100-4185-aceb-c30e2264c535",
   "metadata": {},
   "outputs": [],
   "source": [
    "import _section2_utils as section2_utils\n",
    "import geopandas as gpd\n",
    "import numpy as np\n",
    "import pandas as pd\n",
    "from IPython.display import HTML, Image, Markdown, display, display_html\n",
    "from segment_speed_utils import gtfs_schedule_wrangling, helpers, time_series_utils\n",
    "from segment_speed_utils.project_vars import (\n",
    "    COMPILED_CACHED_VIEWS,\n",
    "    GTFS_DATA_DICT,\n",
    "    PROJECT_CRS,\n",
    "    RT_SCHED_GCS,\n",
    "    SCHED_GCS,\n",
    "    SEGMENT_GCS,\n",
    ")\n",
    "from shared_utils import catalog_utils, rt_dates, rt_utils"
   ]
  },
  {
   "cell_type": "code",
   "execution_count": 2,
   "id": "a9c2438a-bc87-4cff-aff6-8b2eb5f9a649",
   "metadata": {},
   "outputs": [],
   "source": [
    "import datetime\n",
    "\n",
    "from dask import compute, delayed"
   ]
  },
  {
   "cell_type": "code",
   "execution_count": 3,
   "id": "5005895d-eb6b-4ecc-8832-360a50505e6f",
   "metadata": {},
   "outputs": [],
   "source": [
    "pd.options.display.max_columns = 100\n",
    "pd.options.display.float_format = \"{:.2f}\".format\n",
    "pd.set_option(\"display.max_rows\", None)\n",
    "pd.set_option(\"display.max_colwidth\", None)"
   ]
  },
  {
   "cell_type": "code",
   "execution_count": 4,
   "id": "90714e39-3c7d-4d70-9ee8-be96c0daec20",
   "metadata": {},
   "outputs": [],
   "source": [
    "lawndale = \"City of Lawndale\""
   ]
  },
  {
   "cell_type": "code",
   "execution_count": 5,
   "id": "416b90d6-c00e-496e-a758-fe5f25c87297",
   "metadata": {},
   "outputs": [],
   "source": [
    "la_metro = \"Los Angeles County Metropolitan Transportation Authority\""
   ]
  },
  {
   "cell_type": "code",
   "execution_count": 6,
   "id": "0c80d024-461a-49de-b1c1-0358f8ee7331",
   "metadata": {},
   "outputs": [],
   "source": [
    "sf = \"City and County of San Francisco\""
   ]
  },
  {
   "cell_type": "code",
   "execution_count": 7,
   "id": "eab31f0c-cff8-401a-8249-94d5dd41d0b3",
   "metadata": {},
   "outputs": [],
   "source": [
    "df = section2_utils.load_schedule_vp_metrics(sf)"
   ]
  },
  {
   "cell_type": "code",
   "execution_count": null,
   "id": "a9b271d6-a6e2-4840-b2c2-a83afa70d432",
   "metadata": {},
   "outputs": [],
   "source": [
    "    df.head(1)"
   ]
  },
  {
   "cell_type": "code",
   "execution_count": null,
   "id": "7096b667-0396-4332-8bf5-9a8e018d3615",
   "metadata": {},
   "outputs": [],
   "source": [
    "df.Direction.value_counts()"
   ]
  },
  {
   "cell_type": "code",
   "execution_count": null,
   "id": "ec830974-a023-4cd1-a5a4-795cfa740b58",
   "metadata": {},
   "outputs": [],
   "source": [
    "all_dates_list = list(df.Date.unique())\n",
    "gtfs_keys = list(df.schedule_gtfs_dataset_key.unique())\n",
    "all_dates_list = [np.datetime_as_string(date, unit=\"D\") for date in all_dates_list]"
   ]
  },
  {
   "cell_type": "code",
   "execution_count": null,
   "id": "7ea01e41-562b-4027-8f21-8a317cbccfb3",
   "metadata": {},
   "outputs": [],
   "source": [
    "analysis_date = all_dates_list[0]"
   ]
  },
  {
   "cell_type": "markdown",
   "id": "180f9fc0-07f4-4cdf-a61f-251a44d7e5ae",
   "metadata": {},
   "source": [
    "#### Editing the `stop_times_direction`"
   ]
  },
  {
   "cell_type": "code",
   "execution_count": null,
   "id": "a9276adc-5199-4af6-a693-10c2cdebb013",
   "metadata": {},
   "outputs": [],
   "source": [
    "TABLE = GTFS_DATA_DICT.rt_vs_schedule_tables.stop_times_direction\n",
    "FILE = f\"{RT_SCHED_GCS}{TABLE}_{analysis_date}.parquet\""
   ]
  },
  {
   "cell_type": "code",
   "execution_count": null,
   "id": "3b02b34d-c7db-4600-9179-435c169e1459",
   "metadata": {},
   "outputs": [],
   "source": [
    "stops = pd.read_parquet(FILE)"
   ]
  },
  {
   "cell_type": "code",
   "execution_count": null,
   "id": "b0e16623-7bd7-4622-b38a-3714540b7947",
   "metadata": {},
   "outputs": [],
   "source": [
    "stops.sample()"
   ]
  },
  {
   "cell_type": "markdown",
   "id": "7ccd752b-dedf-4192-9d79-f9b4ce001efa",
   "metadata": {},
   "source": [
    "#### Editing `import_scheduled_trips`"
   ]
  },
  {
   "cell_type": "code",
   "execution_count": null,
   "id": "e37ba4f6-0b75-49b7-8b2d-f71d465741fd",
   "metadata": {},
   "outputs": [],
   "source": [
    "TABLE2 = GTFS_DATA_DICT.schedule_downloads.trips\n",
    "FILE2 = f\"{COMPILED_CACHED_VIEWS}{TABLE}_{analysis_date}.parquet\""
   ]
  },
  {
   "cell_type": "code",
   "execution_count": null,
   "id": "183048df-a55c-4a66-b4c9-dda7c8798614",
   "metadata": {},
   "outputs": [],
   "source": [
    "scheduled_trips = pd.read_parquet(FILE)"
   ]
  },
  {
   "cell_type": "code",
   "execution_count": null,
   "id": "3fad8252-a216-4f5a-b670-bdd3f11f177c",
   "metadata": {},
   "outputs": [],
   "source": [
    "scheduled_trips.sample()"
   ]
  },
  {
   "cell_type": "markdown",
   "id": "d034117a-a593-4655-8294-d06ccc3a60ce",
   "metadata": {},
   "source": [
    "#### Testing for ONE date only"
   ]
  },
  {
   "cell_type": "code",
   "execution_count": null,
   "id": "9f0a1e4a-213a-45a1-babd-6303c8dffc6f",
   "metadata": {},
   "outputs": [],
   "source": [
    "def find_most_common_dir(\n",
    "     scheduled_trips_df: pd.DataFrame,\n",
    "     scheduled_stop_times_df: pd.DataFrame, \n",
    ") -> pd.DataFrame:\n",
    "    \"\"\"\n",
    "    Load load_scheduled_trips() and load_scheduled_stop_times()\n",
    "    \"\"\"\n",
    "    \n",
    "    # Merge dfs\n",
    "    merge_cols = [\n",
    "        \"trip_instance_key\",\n",
    "        \"schedule_gtfs_dataset_key\",\n",
    "        \"shape_array_key\",\n",
    "        \"service_date\",\n",
    "    ]\n",
    "\n",
    "    df = delayed(pd.merge)(\n",
    "        scheduled_trips_df,\n",
    "        scheduled_stop_times_df,\n",
    "        on=merge_cols,\n",
    "        how=\"inner\",\n",
    "    )\n",
    "\n",
    "    agg1 = (\n",
    "        df.groupby(\n",
    "            [\n",
    "                \"route_id\",\n",
    "                \"schedule_gtfs_dataset_key\",\n",
    "                \"direction_id\",\n",
    "                \"stop_primary_direction\",\n",
    "                \"service_date\",\n",
    "            ]\n",
    "        )\n",
    "        .agg({\"stop_sequence\": \"count\"})\n",
    "        .reset_index()\n",
    "        .rename(columns={\"stop_sequence\": \"total_stops\"})\n",
    "    )\n",
    "\n",
    "    # Sort and drop duplicates so that the\n",
    "    # largest # of stops by stop_primary_direction is at the top\n",
    "    agg2 = agg1.sort_values(\n",
    "        by=[\"route_id\",\n",
    "            \"schedule_gtfs_dataset_key\", \n",
    "            \"direction_id\",\n",
    "            \"service_date\",\n",
    "            \"total_stops\"],\n",
    "        ascending=[True, True, True, True, False],\n",
    "    )\n",
    "\n",
    "    # Drop duplicates so only the top stop_primary_direction is kept.\n",
    "    agg3 = agg2.drop_duplicates(\n",
    "        subset=[\n",
    "            \"route_id\",\n",
    "            \"schedule_gtfs_dataset_key\",\n",
    "            \"direction_id\",\n",
    "            \"service_date\"\n",
    "        ]\n",
    "    ).reset_index(drop=True)\n",
    "\n",
    "    agg3 = agg3.drop(columns=[\"total_stops\"])\n",
    "    return agg3"
   ]
  },
  {
   "cell_type": "code",
   "execution_count": null,
   "id": "b7448d80-a914-4187-bdc4-9d13b2a1ddd4",
   "metadata": {},
   "outputs": [],
   "source": [
    "scheduled_trips_dd = delayed(section2_utils.load_scheduled_trips(analysis_date, gtfs_keys))"
   ]
  },
  {
   "cell_type": "code",
   "execution_count": null,
   "id": "7bb1ce61-4422-4922-9c45-53d734e155b8",
   "metadata": {},
   "outputs": [],
   "source": [
    "scheduled_stops_dd = delayed(section2_utils.load_scheduled_stop_times(analysis_date, gtfs_keys))"
   ]
  },
  {
   "cell_type": "code",
   "execution_count": null,
   "id": "b24d628e",
   "metadata": {},
   "outputs": [],
   "source": [
    "# apr_2023 = find_most_common_dir(scheduled_trips_dd,scheduled_stops_dd)"
   ]
  },
  {
   "cell_type": "code",
   "execution_count": null,
   "id": "9c94482a-30d3-46c7-8f3d-16c5a0c5b7cd",
   "metadata": {},
   "outputs": [],
   "source": [
    "def most_recent_route_info(\n",
    "    df: pd.DataFrame,\n",
    "    group_cols: list,\n",
    "    route_col: str\n",
    ") -> pd.DataFrame:\n",
    "    \"\"\"\n",
    "    Find the most recent value across a grouping.\n",
    "    Ex: if we group by route_id, we can find the most recent \n",
    "    value for route_long_name.\n",
    "    \n",
    "    Needs a date column to work.\n",
    "    \"\"\"\n",
    "    sort_order = [True for c in group_cols]\n",
    "    \n",
    "    most_recent = (df.sort_values(group_cols + [\"service_date\"], \n",
    "                                  ascending = sort_order + [False])\n",
    "                   .drop_duplicates(subset = group_cols)  \n",
    "                   .rename(columns = {route_col: f\"recent_{route_col}\"})\n",
    "                  )\n",
    "    \n",
    "    \n",
    "    df2 = delayed(pd.merge)(\n",
    "        df,\n",
    "        most_recent[group_cols + [f\"recent_{route_col}\"]],\n",
    "        on = group_cols,\n",
    "        how = \"left\"\n",
    "    )\n",
    "    return most_recent"
   ]
  },
  {
   "cell_type": "code",
   "execution_count": null,
   "id": "e3b16933-0cfb-4fae-a90a-d775169dbaf9",
   "metadata": {},
   "outputs": [],
   "source": [
    "def find_most_recent_route_id(df):\n",
    "    df = df.assign(\n",
    "        route_id=df.route_id.fillna(\"\"),\n",
    "        route_short_name=df.route_short_name.fillna(\"\"),\n",
    "        route_long_name=df.route_long_name.fillna(\"\"),\n",
    "    )\n",
    "    df = df.assign(combined_name=df.route_short_name + \"__\" + df.route_long_name)\n",
    "    \n",
    "    df = df.assign(\n",
    "        route_id2=df.apply(\n",
    "            lambda x: gtfs_schedule_wrangling.standardize_route_id(\n",
    "                x, \"name\", \"route_id\"\n",
    "            ),\n",
    "            axis=1,\n",
    "        )\n",
    "    )\n",
    "    \n",
    "    route_cols = [\"schedule_gtfs_dataset_key\", \"name\", \"route_id2\"]\n",
    "    \n",
    "    df2 =most_recent_route_info(\n",
    "        df, group_cols=route_cols, route_col=\"combined_name\"\n",
    "    ).pipe(\n",
    "        most_recent_route_info,\n",
    "        group_cols=[\"schedule_gtfs_dataset_key\", \"name\", \"recent_combined_name\"],\n",
    "        route_col=\"route_id2\",\n",
    "    )\n",
    "    \n",
    "    return df2"
   ]
  },
  {
   "cell_type": "code",
   "execution_count": null,
   "id": "142b6d7a-ff00-459c-8b6c-837918372c05",
   "metadata": {},
   "outputs": [],
   "source": [
    "recent_route_id_test = find_most_recent_route_id(scheduled_trips_dd)"
   ]
  },
  {
   "cell_type": "code",
   "execution_count": null,
   "id": "fbd8dad9-5f45-4fab-a999-86e9dd1d8b88",
   "metadata": {
    "scrolled": true,
    "tags": []
   },
   "outputs": [],
   "source": [
    "recent_route_id_test_df = recent_route_id_test.compute()"
   ]
  },
  {
   "cell_type": "code",
   "execution_count": null,
   "id": "d588edb5-880f-462a-be6a-6318807b9eab",
   "metadata": {},
   "outputs": [],
   "source": [
    "def find_cardinal_direction(date:str, gtfs_schedule_keys: list) -> pd.DataFrame:\n",
    "    # Grab all available dates for these dataframes\n",
    "    # Load the 2 dataframes\n",
    "    scheduled_trips_dd = delayed(section2_utils.load_scheduled_trips(date, gtfs_keys))\n",
    "    scheduled_stops_dd = delayed(section2_utils.load_scheduled_stop_times(date, gtfs_keys))\n",
    "    \n",
    "    # Find the most common direction for this Route ID\n",
    "    common_stops_dd = find_most_common_dir(scheduled_trips_dd, scheduled_stops_dd)\n",
    "    \n",
    "    \n",
    "    #common_stops_df = common_stops_dd.compute()\n",
    "    #scheduled_trips_df = scheduled_trips_dd.compute()\n",
    "    \n",
    "    # Find the most recent Route ID to connect back to sched_vp_df\n",
    "    recent_ids_dd = find_most_recent_route_id(scheduled_trips_dd)\n",
    "\n",
    "    # Merge this\n",
    "    m1 = delayed(pd.merge)(\n",
    "        common_stops_dd,\n",
    "        recent_ids_dd,\n",
    "        on=[\"schedule_gtfs_dataset_key\", \"route_id\"],\n",
    "        how=\"inner\",\n",
    "    )\n",
    "    \n",
    "    m1 = m1.drop(columns = [\"route_id\"])\n",
    "    \n",
    "    return m1\n"
   ]
  },
  {
   "cell_type": "code",
   "execution_count": null,
   "id": "a6118040-57a8-4b0c-b198-2a9e47be2658",
   "metadata": {},
   "outputs": [],
   "source": [
    "apr2023_final = find_cardinal_direction(analysis_date, gtfs_keys)"
   ]
  },
  {
   "cell_type": "code",
   "execution_count": null,
   "id": "3468284b-a3e7-4a0d-a271-8dd2a9e7569c",
   "metadata": {},
   "outputs": [],
   "source": [
    "apr2023_final.head(1)"
   ]
  },
  {
   "cell_type": "code",
   "execution_count": null,
   "id": "c857a49a-c433-4968-a640-f3aa1bfcca3a",
   "metadata": {},
   "outputs": [],
   "source": [
    "apr2023_final.recent_route_id2.nunique(), apr2023_final.shape"
   ]
  },
  {
   "cell_type": "code",
   "execution_count": null,
   "id": "03eae8d6-5e1d-4bf6-847a-25cfff8119d2",
   "metadata": {},
   "outputs": [],
   "source": [
    "apr2023_final.service_date.unique()"
   ]
  },
  {
   "cell_type": "code",
   "execution_count": null,
   "id": "4881f950-1838-4d01-b7c5-c7f0c44a52a4",
   "metadata": {},
   "outputs": [],
   "source": [
    "df_apr_2023 = df.loc[df[\"Date\"] == \"2023-04-12\"]"
   ]
  },
  {
   "cell_type": "code",
   "execution_count": null,
   "id": "3b06140e-836b-4f92-9750-3e4815d59e62",
   "metadata": {},
   "outputs": [],
   "source": [
    "df_apr_2023[\"Date\"].value_counts()"
   ]
  },
  {
   "cell_type": "code",
   "execution_count": null,
   "id": "96bef3f8-a93e-48ce-9a4e-94d6d95e9efa",
   "metadata": {},
   "outputs": [],
   "source": [
    "df_apr_2023 = df_apr_2023.drop(columns = ['recent_route_id2','Direction'])"
   ]
  },
  {
   "cell_type": "code",
   "execution_count": null,
   "id": "6363d108-91fd-4082-9e9c-7601e71a0141",
   "metadata": {},
   "outputs": [],
   "source": [
    "m1 = pd.merge(\n",
    "    df_apr_2023,\n",
    "    apr2023_final.compute(),\n",
    "    left_on=[\"schedule_gtfs_dataset_key\", \"dir_0_1\", \"Route ID\"],\n",
    "    right_on=[\n",
    "        \"schedule_gtfs_dataset_key\",\n",
    "        \"direction_id\",\n",
    "        \"recent_route_id2\",\n",
    "    ],\n",
    "    how=\"left\"\n",
    "    )"
   ]
  },
  {
   "cell_type": "code",
   "execution_count": null,
   "id": "afb9f4f7-c93c-40d2-8fea-a57a67375700",
   "metadata": {},
   "outputs": [],
   "source": [
    "m1.head(1)"
   ]
  },
  {
   "cell_type": "code",
   "execution_count": null,
   "id": "5272ed98-2c68-4e7e-8ad7-f9f005594f97",
   "metadata": {},
   "outputs": [],
   "source": [
    "apr2023_final.stop_primary_direction.value_counts()"
   ]
  },
  {
   "cell_type": "markdown",
   "id": "80d12bac-ad42-4720-8194-f00c0879e5d4",
   "metadata": {},
   "source": [
    "#### Testing for ALL dates"
   ]
  },
  {
   "cell_type": "code",
   "execution_count": null,
   "id": "4f2024b6-cb9f-489e-8a01-276a0c8c5801",
   "metadata": {},
   "outputs": [],
   "source": [
    "def all_dates_cardinal_dir(dates:list, gtfs_schedule_keys:list)->pd.DataFrame:\n",
    "    full_df = pd.DataFrame()\n",
    "    for date in dates:\n",
    "        df = find_cardinal_direction(date, gtfs_schedule_keys)\n",
    "        df = df.compute()\n",
    "        full_df = pd.concat([full_df, df], axis=0)\n",
    "    return full_df"
   ]
  },
  {
   "cell_type": "code",
   "execution_count": null,
   "id": "ba01e594-cf55-4431-916e-c2b46039aee0",
   "metadata": {},
   "outputs": [],
   "source": [
    "start1 = datetime.datetime.now()\n",
    "all_dates_df = all_dates_cardinal_dir(all_dates_list,gtfs_keys)\n",
    "end1 = datetime.datetime.now()\n",
    "print(f\"{end1-start1}\")"
   ]
  },
  {
   "cell_type": "code",
   "execution_count": null,
   "id": "98c9b8bf-086d-47a6-85fc-2b9fcfc80ec2",
   "metadata": {},
   "outputs": [],
   "source": [
    "all_dates_df.head(2)"
   ]
  },
  {
   "cell_type": "code",
   "execution_count": null,
   "id": "b2720a9d-301b-4c99-bc44-17f8079ce75c",
   "metadata": {},
   "outputs": [],
   "source": [
    "all_dates_df.shape"
   ]
  },
  {
   "cell_type": "code",
   "execution_count": null,
   "id": "9a1a8b37-8431-4ac9-b169-a237e35fd6fd",
   "metadata": {},
   "outputs": [],
   "source": [
    "all_dates_df.service_date.unique()"
   ]
  },
  {
   "cell_type": "code",
   "execution_count": null,
   "id": "d82b1b4a-9de5-4789-87fd-0d912e8777e5",
   "metadata": {},
   "outputs": [],
   "source": [
    "all_dates_df.groupby(['service_date']).agg({'recent_route_id2':'nunique'})"
   ]
  },
  {
   "cell_type": "code",
   "execution_count": null,
   "id": "5d0063d5-1931-4704-922a-270bf8a10c94",
   "metadata": {},
   "outputs": [],
   "source": [
    "df = df.drop(columns = ['recent_route_id2','Direction'])"
   ]
  },
  {
   "cell_type": "code",
   "execution_count": null,
   "id": "0b293bb4-a4bb-46a8-bd13-fb293691a211",
   "metadata": {},
   "outputs": [],
   "source": [
    "df['temp_service_date'] = df['Date'].astype(str)"
   ]
  },
  {
   "cell_type": "code",
   "execution_count": null,
   "id": "6ed776b1-c582-4856-90a6-6a0b87b510a0",
   "metadata": {},
   "outputs": [],
   "source": [
    "df.sample()"
   ]
  },
  {
   "cell_type": "code",
   "execution_count": null,
   "id": "167a506a-f75e-4eed-a943-cf6ce0dbbd80",
   "metadata": {},
   "outputs": [],
   "source": [
    "m2 = pd.merge(\n",
    "    df,\n",
    "    all_dates_df,\n",
    "    left_on=[\"schedule_gtfs_dataset_key\", \"direction_id\", \"Route ID\", \"temp_service_date\"],\n",
    "    right_on=[\n",
    "        \"schedule_gtfs_dataset_key\",\n",
    "        \"direction_id\",\n",
    "        \"recent_route_id2\",\n",
    "        \"service_date\"\n",
    "    ],\n",
    "    how=\"left\"\n",
    "    )"
   ]
  },
  {
   "cell_type": "code",
   "execution_count": null,
   "id": "68d5cb2b-acef-4a2e-bf1a-9504743c74bd",
   "metadata": {},
   "outputs": [],
   "source": [
    "m2.head(1)"
   ]
  },
  {
   "cell_type": "code",
   "execution_count": null,
   "id": "f1e2c365-4a07-4746-938b-d6a83df310c5",
   "metadata": {},
   "outputs": [],
   "source": [
    "m2.stop_primary_direction.value_counts()"
   ]
  },
  {
   "cell_type": "markdown",
   "id": "93dace04-ff29-4fdc-b03e-9e773300f76c",
   "metadata": {},
   "source": [
    "#### Redoing `find_most_recent_route_id`\n",
    "* https://github.com/cal-itp/data-analyses/blob/main/rt_segment_speeds/segment_speed_utils/gtfs_schedule_wrangling.py"
   ]
  },
  {
   "cell_type": "code",
   "execution_count": null,
   "id": "d3fd13a7-905c-49b8-bf7a-94f652d0dd37",
   "metadata": {},
   "outputs": [],
   "source": [
    "scheduled_trips_dd"
   ]
  },
  {
   "cell_type": "code",
   "execution_count": null,
   "id": "ca78b3eb-6283-4669-8578-2799a67ae1b9",
   "metadata": {},
   "outputs": [],
   "source": [
    "scheduled_trips_dd = scheduled_trips_dd.assign(\n",
    "        route_id=scheduled_trips_dd.route_id.fillna(\"\"),\n",
    "        route_short_name=scheduled_trips_dd.route_short_name.fillna(\"\"),\n",
    "        route_long_name=df.route_long_name.fillna(\"\"),\n",
    "    )"
   ]
  },
  {
   "cell_type": "code",
   "execution_count": null,
   "id": "2a7e6565-5c32-4c8d-99ac-8092ac30cb3b",
   "metadata": {},
   "outputs": [],
   "source": [
    "scheduled_trips_dd = scheduled_trips_dd.assign(combined_name=scheduled_trips_dd.route_short_name + \"__\" + scheduled_trips_dd.route_long_name)"
   ]
  },
  {
   "cell_type": "code",
   "execution_count": null,
   "id": "d380cfc3-d18e-45ca-9c33-00d2286246e7",
   "metadata": {},
   "outputs": [],
   "source": [
    "scheduled_trips_dd = scheduled_trips_dd.assign(\n",
    "        route_id2=df.apply(\n",
    "            lambda x: gtfs_schedule_wrangling.standardize_route_id(\n",
    "                x, \"name\", \"route_id\"\n",
    "            ),\n",
    "            axis=1,\n",
    "        )\n",
    "    )\n"
   ]
  },
  {
   "cell_type": "code",
   "execution_count": null,
   "id": "6165afcb-4a2b-4c75-8772-6ef2ddb9dd6d",
   "metadata": {},
   "outputs": [],
   "source": [
    "route_cols = [\"schedule_gtfs_dataset_key\", \"name\", \"route_id2\"]"
   ]
  },
  {
   "cell_type": "code",
   "execution_count": null,
   "id": "f0a26089-b1a3-4afe-9ace-8d3b56bf316c",
   "metadata": {},
   "outputs": [],
   "source": [
    "df2 =most_recent_route_info(\n",
    "        scheduled_trips_dd, group_cols=route_cols, route_col=\"combined_name\"\n",
    "    )"
   ]
  },
  {
   "cell_type": "code",
   "execution_count": null,
   "id": "8da63079-3e71-47f2-8d82-77f85ddde94c",
   "metadata": {},
   "outputs": [],
   "source": [
    "df3 = df2.pipe(\n",
    "        most_recent_route_info,\n",
    "        group_cols=[\"schedule_gtfs_dataset_key\", \"name\", \"recent_combined_name\"],\n",
    "        route_col=\"route_id2\",\n",
    "    )\n",
    "    "
   ]
  },
  {
   "cell_type": "code",
   "execution_count": null,
   "id": "4e45e6ec-b205-4af0-8d9d-85496d0849d5",
   "metadata": {},
   "outputs": [],
   "source": [
    "df3"
   ]
  },
  {
   "cell_type": "code",
   "execution_count": null,
   "id": "cba504cb-ccde-4142-bac8-06cb292eb801",
   "metadata": {},
   "outputs": [],
   "source": [
    "df3_pandas = df3.compute()"
   ]
  },
  {
   "cell_type": "code",
   "execution_count": null,
   "id": "09886db0-ffee-4a09-999f-e64bf7eac3ba",
   "metadata": {},
   "outputs": [],
   "source": [
    "df3_pandas.head(1)"
   ]
  }
 ],
 "metadata": {
  "kernelspec": {
   "display_name": "Python 3 (ipykernel)",
   "language": "python",
   "name": "python3"
  },
  "language_info": {
   "codemirror_mode": {
    "name": "ipython",
    "version": 3
   },
   "file_extension": ".py",
   "mimetype": "text/x-python",
   "name": "python",
   "nbconvert_exporter": "python",
   "pygments_lexer": "ipython3",
   "version": "3.9.13"
  }
 },
 "nbformat": 4,
 "nbformat_minor": 5
}
