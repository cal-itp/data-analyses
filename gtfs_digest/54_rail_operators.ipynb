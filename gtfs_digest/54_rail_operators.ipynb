{
 "cells": [
  {
   "cell_type": "markdown",
   "id": "6c3c6ddf-6e32-44a5-8a4c-925608fe67af",
   "metadata": {},
   "source": [
    "# Research Request - GTFS Digest: Add Rail and Ferry Operators. #1386\n",
    "# Focus on Rail here. \n",
    "\n",
    "* Why is Amtrak \"schedule_only\"? I thought it had a real time component?\n",
    "    * 3/3: no reports.calitp.org indicates it has no real time data. \n",
    "* Understand why Southern California Regional Rail Authority \t & San Bernardino County Transportation Authority \tare still \"vp_only\" after all the other operators have been fixed.\n",
    "* Visualize rail routes differently for operators with both? "
   ]
  },
  {
   "cell_type": "code",
   "execution_count": 1,
   "id": "009045ef-d1d7-4163-a5fd-011774b0be99",
   "metadata": {},
   "outputs": [],
   "source": [
    "import _section1_utils as section1\n",
    "import _section2_utils as section2\n",
    "import geopandas as gpd\n",
    "import merge_data\n",
    "import merge_operator_data\n",
    "import numpy as np\n",
    "import pandas as pd\n",
    "from segment_speed_utils import gtfs_schedule_wrangling, helpers\n",
    "from segment_speed_utils.project_vars import COMPILED_CACHED_VIEWS, PROJECT_CRS\n",
    "from shared_utils import catalog_utils, portfolio_utils, rt_dates\n",
    "from update_vars import GTFS_DATA_DICT, RT_SCHED_GCS, SCHED_GCS, SEGMENT_GCS"
   ]
  },
  {
   "cell_type": "code",
   "execution_count": 2,
   "id": "cc01dd63-813b-49e8-84ba-4c0f5a4c3d7b",
   "metadata": {
    "tags": []
   },
   "outputs": [],
   "source": [
    "pd.options.display.max_columns = 100\n",
    "pd.options.display.float_format = \"{:.2f}\".format\n",
    "pd.set_option(\"display.max_rows\", None)\n",
    "pd.set_option(\"display.max_colwidth\", None)"
   ]
  },
  {
   "cell_type": "code",
   "execution_count": 3,
   "id": "f5e9b224-ba48-4e60-9869-7f7c4ffd93e8",
   "metadata": {
    "tags": []
   },
   "outputs": [],
   "source": [
    "analysis_date_list = [rt_dates.DATES[\"feb2025\"]]"
   ]
  },
  {
   "cell_type": "code",
   "execution_count": 4,
   "id": "4c2199f3-a16b-4a0f-b396-e8d58e1fe3c1",
   "metadata": {
    "tags": []
   },
   "outputs": [],
   "source": [
    "analysis_date = rt_dates.DATES[\"feb2025\"]"
   ]
  },
  {
   "cell_type": "code",
   "execution_count": 22,
   "id": "4c4a7519-4cb0-4646-84f3-c1b67f5f3570",
   "metadata": {
    "tags": []
   },
   "outputs": [],
   "source": [
    "schd_vp_url = f\"{GTFS_DATA_DICT.digest_tables.dir}{GTFS_DATA_DICT.digest_tables.route_schedule_vp}.parquet\""
   ]
  },
  {
   "cell_type": "code",
   "execution_count": 23,
   "id": "78b897c4-db89-4dbb-9be9-958129e51741",
   "metadata": {
    "tags": []
   },
   "outputs": [],
   "source": [
    "schd_vp_df = pd.read_parquet(\n",
    "    schd_vp_url,\n",
    ")"
   ]
  },
  {
   "cell_type": "code",
   "execution_count": 24,
   "id": "b842f505-0d86-432e-994e-2dfdbe3c88fd",
   "metadata": {
    "tags": []
   },
   "outputs": [],
   "source": [
    "# Filter for  Feb\n",
    "schd_vp_df2 = schd_vp_df.loc[(schd_vp_df.service_date == \"2025-02-12\")]"
   ]
  },
  {
   "cell_type": "code",
   "execution_count": 25,
   "id": "e847cb87-6ead-4fa4-8ed7-a7946e828332",
   "metadata": {
    "scrolled": true,
    "tags": []
   },
   "outputs": [],
   "source": [
    "# Drop duplicates\n",
    "schd_vp_df3 = (\n",
    "    schd_vp_df2[\n",
    "        [\n",
    "            \"schedule_gtfs_dataset_key\",\n",
    "            \"organization_name\",\n",
    "            \"service_date\",\n",
    "            \"sched_rt_category\",\n",
    "            \"caltrans_district\",\n",
    "        ]\n",
    "    ]\n",
    "    .drop_duplicates(subset=[\"organization_name\"])\n",
    "    .sort_values(by=[\"organization_name\"])\n",
    ")"
   ]
  },
  {
   "cell_type": "code",
   "execution_count": 26,
   "id": "e52bf377-224a-436b-8e31-a1e39a956ee9",
   "metadata": {
    "tags": []
   },
   "outputs": [
    {
     "data": {
      "text/plain": [
       "schedule_and_vp    104\n",
       "schedule_only       86\n",
       "vp_only              2\n",
       "Name: sched_rt_category, dtype: int64"
      ]
     },
     "execution_count": 26,
     "metadata": {},
     "output_type": "execute_result"
    }
   ],
   "source": [
    "schd_vp_df3.sched_rt_category.value_counts()"
   ]
  },
  {
   "cell_type": "markdown",
   "id": "97a2e002-df1e-43c5-af57-f447ae4d14a3",
   "metadata": {},
   "source": [
    "## Trying to undestand why Southern California Regional Rail Authority \t & San Bernardino County Transportation Authority \tare still \"vp_only\" after all the other operators have been fixed."
   ]
  },
  {
   "cell_type": "code",
   "execution_count": 13,
   "id": "acacc176-64aa-4c96-8b29-bd76e1b72e42",
   "metadata": {
    "tags": []
   },
   "outputs": [],
   "source": [
    "vp_only_ops = list(\n",
    "    schd_vp_df3.loc[\n",
    "        schd_vp_df3.sched_rt_category == \"vp_only\"\n",
    "    ].organization_name.unique()\n",
    ")"
   ]
  },
  {
   "cell_type": "code",
   "execution_count": 14,
   "id": "1cab4a8a-f1fc-4a17-90c2-6964cc8a6c12",
   "metadata": {
    "tags": []
   },
   "outputs": [],
   "source": [
    "vp_only_ops_df = schd_vp_df.loc[schd_vp_df.organization_name.isin(vp_only_ops)]"
   ]
  },
  {
   "cell_type": "code",
   "execution_count": 15,
   "id": "71269795-0a9c-4406-9b34-0510a4105023",
   "metadata": {
    "tags": []
   },
   "outputs": [],
   "source": [
    "vp_only_ops_sched_keys = list(vp_only_ops_df.schedule_gtfs_dataset_key.unique())"
   ]
  },
  {
   "cell_type": "code",
   "execution_count": null,
   "id": "b18cd406-ddbb-43b8-90fe-4c971ace3260",
   "metadata": {},
   "outputs": [],
   "source": []
  },
  {
   "cell_type": "code",
   "execution_count": 34,
   "id": "6cae3e3a-6953-4f7c-88c2-63cf743f5f58",
   "metadata": {
    "tags": []
   },
   "outputs": [
    {
     "data": {
      "text/html": [
       "<div>\n",
       "<style scoped>\n",
       "    .dataframe tbody tr th:only-of-type {\n",
       "        vertical-align: middle;\n",
       "    }\n",
       "\n",
       "    .dataframe tbody tr th {\n",
       "        vertical-align: top;\n",
       "    }\n",
       "\n",
       "    .dataframe thead th {\n",
       "        text-align: right;\n",
       "    }\n",
       "</style>\n",
       "<table border=\"1\" class=\"dataframe\">\n",
       "  <thead>\n",
       "    <tr style=\"text-align: right;\">\n",
       "      <th></th>\n",
       "      <th></th>\n",
       "      <th></th>\n",
       "      <th></th>\n",
       "      <th>service_date</th>\n",
       "    </tr>\n",
       "    <tr>\n",
       "      <th>caltrans_district</th>\n",
       "      <th>schedule_gtfs_dataset_key</th>\n",
       "      <th>organization_name</th>\n",
       "      <th>sched_rt_category</th>\n",
       "      <th></th>\n",
       "    </tr>\n",
       "  </thead>\n",
       "  <tbody>\n",
       "    <tr>\n",
       "      <th rowspan=\"12\" valign=\"top\">07 - Los Angeles</th>\n",
       "      <th rowspan=\"6\" valign=\"top\">759ad28de7d4bb8b2bf9bb7d83655100</th>\n",
       "      <th rowspan=\"3\" valign=\"top\">San Bernardino County Transportation Authority</th>\n",
       "      <th>schedule_only</th>\n",
       "      <td>NaT</td>\n",
       "    </tr>\n",
       "    <tr>\n",
       "      <th>vp_only</th>\n",
       "      <td>NaT</td>\n",
       "    </tr>\n",
       "    <tr>\n",
       "      <th>schedule_and_vp</th>\n",
       "      <td>NaT</td>\n",
       "    </tr>\n",
       "    <tr>\n",
       "      <th rowspan=\"3\" valign=\"top\">Southern California Regional Rail Authority</th>\n",
       "      <th>schedule_only</th>\n",
       "      <td>2023-12-13</td>\n",
       "    </tr>\n",
       "    <tr>\n",
       "      <th>vp_only</th>\n",
       "      <td>NaT</td>\n",
       "    </tr>\n",
       "    <tr>\n",
       "      <th>schedule_and_vp</th>\n",
       "      <td>2023-12-13</td>\n",
       "    </tr>\n",
       "    <tr>\n",
       "      <th rowspan=\"6\" valign=\"top\">c4092405159366c705b62df938293a4e</th>\n",
       "      <th rowspan=\"3\" valign=\"top\">San Bernardino County Transportation Authority</th>\n",
       "      <th>schedule_only</th>\n",
       "      <td>NaT</td>\n",
       "    </tr>\n",
       "    <tr>\n",
       "      <th>vp_only</th>\n",
       "      <td>NaT</td>\n",
       "    </tr>\n",
       "    <tr>\n",
       "      <th>schedule_and_vp</th>\n",
       "      <td>NaT</td>\n",
       "    </tr>\n",
       "    <tr>\n",
       "      <th rowspan=\"3\" valign=\"top\">Southern California Regional Rail Authority</th>\n",
       "      <th>schedule_only</th>\n",
       "      <td>2024-06-12</td>\n",
       "    </tr>\n",
       "    <tr>\n",
       "      <th>vp_only</th>\n",
       "      <td>2024-12-11</td>\n",
       "    </tr>\n",
       "    <tr>\n",
       "      <th>schedule_and_vp</th>\n",
       "      <td>2024-06-12</td>\n",
       "    </tr>\n",
       "    <tr>\n",
       "      <th rowspan=\"12\" valign=\"top\">07 - Los Angeles / Ventura</th>\n",
       "      <th rowspan=\"6\" valign=\"top\">759ad28de7d4bb8b2bf9bb7d83655100</th>\n",
       "      <th rowspan=\"3\" valign=\"top\">San Bernardino County Transportation Authority</th>\n",
       "      <th>schedule_only</th>\n",
       "      <td>NaT</td>\n",
       "    </tr>\n",
       "    <tr>\n",
       "      <th>vp_only</th>\n",
       "      <td>NaT</td>\n",
       "    </tr>\n",
       "    <tr>\n",
       "      <th>schedule_and_vp</th>\n",
       "      <td>NaT</td>\n",
       "    </tr>\n",
       "    <tr>\n",
       "      <th rowspan=\"3\" valign=\"top\">Southern California Regional Rail Authority</th>\n",
       "      <th>schedule_only</th>\n",
       "      <td>NaT</td>\n",
       "    </tr>\n",
       "    <tr>\n",
       "      <th>vp_only</th>\n",
       "      <td>NaT</td>\n",
       "    </tr>\n",
       "    <tr>\n",
       "      <th>schedule_and_vp</th>\n",
       "      <td>NaT</td>\n",
       "    </tr>\n",
       "    <tr>\n",
       "      <th rowspan=\"6\" valign=\"top\">c4092405159366c705b62df938293a4e</th>\n",
       "      <th rowspan=\"3\" valign=\"top\">San Bernardino County Transportation Authority</th>\n",
       "      <th>schedule_only</th>\n",
       "      <td>NaT</td>\n",
       "    </tr>\n",
       "    <tr>\n",
       "      <th>vp_only</th>\n",
       "      <td>NaT</td>\n",
       "    </tr>\n",
       "    <tr>\n",
       "      <th>schedule_and_vp</th>\n",
       "      <td>NaT</td>\n",
       "    </tr>\n",
       "    <tr>\n",
       "      <th rowspan=\"3\" valign=\"top\">Southern California Regional Rail Authority</th>\n",
       "      <th>schedule_only</th>\n",
       "      <td>NaT</td>\n",
       "    </tr>\n",
       "    <tr>\n",
       "      <th>vp_only</th>\n",
       "      <td>2025-02-12</td>\n",
       "    </tr>\n",
       "    <tr>\n",
       "      <th>schedule_and_vp</th>\n",
       "      <td>NaT</td>\n",
       "    </tr>\n",
       "    <tr>\n",
       "      <th rowspan=\"12\" valign=\"top\">08 - San Bernardino</th>\n",
       "      <th rowspan=\"6\" valign=\"top\">759ad28de7d4bb8b2bf9bb7d83655100</th>\n",
       "      <th rowspan=\"3\" valign=\"top\">San Bernardino County Transportation Authority</th>\n",
       "      <th>schedule_only</th>\n",
       "      <td>NaT</td>\n",
       "    </tr>\n",
       "    <tr>\n",
       "      <th>vp_only</th>\n",
       "      <td>NaT</td>\n",
       "    </tr>\n",
       "    <tr>\n",
       "      <th>schedule_and_vp</th>\n",
       "      <td>NaT</td>\n",
       "    </tr>\n",
       "    <tr>\n",
       "      <th rowspan=\"3\" valign=\"top\">Southern California Regional Rail Authority</th>\n",
       "      <th>schedule_only</th>\n",
       "      <td>NaT</td>\n",
       "    </tr>\n",
       "    <tr>\n",
       "      <th>vp_only</th>\n",
       "      <td>NaT</td>\n",
       "    </tr>\n",
       "    <tr>\n",
       "      <th>schedule_and_vp</th>\n",
       "      <td>NaT</td>\n",
       "    </tr>\n",
       "    <tr>\n",
       "      <th rowspan=\"6\" valign=\"top\">c4092405159366c705b62df938293a4e</th>\n",
       "      <th rowspan=\"3\" valign=\"top\">San Bernardino County Transportation Authority</th>\n",
       "      <th>schedule_only</th>\n",
       "      <td>2024-06-12</td>\n",
       "    </tr>\n",
       "    <tr>\n",
       "      <th>vp_only</th>\n",
       "      <td>2025-02-12</td>\n",
       "    </tr>\n",
       "    <tr>\n",
       "      <th>schedule_and_vp</th>\n",
       "      <td>2024-06-12</td>\n",
       "    </tr>\n",
       "    <tr>\n",
       "      <th rowspan=\"3\" valign=\"top\">Southern California Regional Rail Authority</th>\n",
       "      <th>schedule_only</th>\n",
       "      <td>NaT</td>\n",
       "    </tr>\n",
       "    <tr>\n",
       "      <th>vp_only</th>\n",
       "      <td>NaT</td>\n",
       "    </tr>\n",
       "    <tr>\n",
       "      <th>schedule_and_vp</th>\n",
       "      <td>NaT</td>\n",
       "    </tr>\n",
       "  </tbody>\n",
       "</table>\n",
       "</div>"
      ],
      "text/plain": [
       "                                                                                                                             service_date\n",
       "caltrans_district          schedule_gtfs_dataset_key        organization_name                              sched_rt_category             \n",
       "07 - Los Angeles           759ad28de7d4bb8b2bf9bb7d83655100 San Bernardino County Transportation Authority schedule_only              NaT\n",
       "                                                                                                           vp_only                    NaT\n",
       "                                                                                                           schedule_and_vp            NaT\n",
       "                                                            Southern California Regional Rail Authority    schedule_only       2023-12-13\n",
       "                                                                                                           vp_only                    NaT\n",
       "                                                                                                           schedule_and_vp     2023-12-13\n",
       "                           c4092405159366c705b62df938293a4e San Bernardino County Transportation Authority schedule_only              NaT\n",
       "                                                                                                           vp_only                    NaT\n",
       "                                                                                                           schedule_and_vp            NaT\n",
       "                                                            Southern California Regional Rail Authority    schedule_only       2024-06-12\n",
       "                                                                                                           vp_only             2024-12-11\n",
       "                                                                                                           schedule_and_vp     2024-06-12\n",
       "07 - Los Angeles / Ventura 759ad28de7d4bb8b2bf9bb7d83655100 San Bernardino County Transportation Authority schedule_only              NaT\n",
       "                                                                                                           vp_only                    NaT\n",
       "                                                                                                           schedule_and_vp            NaT\n",
       "                                                            Southern California Regional Rail Authority    schedule_only              NaT\n",
       "                                                                                                           vp_only                    NaT\n",
       "                                                                                                           schedule_and_vp            NaT\n",
       "                           c4092405159366c705b62df938293a4e San Bernardino County Transportation Authority schedule_only              NaT\n",
       "                                                                                                           vp_only                    NaT\n",
       "                                                                                                           schedule_and_vp            NaT\n",
       "                                                            Southern California Regional Rail Authority    schedule_only              NaT\n",
       "                                                                                                           vp_only             2025-02-12\n",
       "                                                                                                           schedule_and_vp            NaT\n",
       "08 - San Bernardino        759ad28de7d4bb8b2bf9bb7d83655100 San Bernardino County Transportation Authority schedule_only              NaT\n",
       "                                                                                                           vp_only                    NaT\n",
       "                                                                                                           schedule_and_vp            NaT\n",
       "                                                            Southern California Regional Rail Authority    schedule_only              NaT\n",
       "                                                                                                           vp_only                    NaT\n",
       "                                                                                                           schedule_and_vp            NaT\n",
       "                           c4092405159366c705b62df938293a4e San Bernardino County Transportation Authority schedule_only       2024-06-12\n",
       "                                                                                                           vp_only             2025-02-12\n",
       "                                                                                                           schedule_and_vp     2024-06-12\n",
       "                                                            Southern California Regional Rail Authority    schedule_only              NaT\n",
       "                                                                                                           vp_only                    NaT\n",
       "                                                                                                           schedule_and_vp            NaT"
      ]
     },
     "execution_count": 34,
     "metadata": {},
     "output_type": "execute_result"
    }
   ],
   "source": [
    "vp_only_ops_df.groupby(\n",
    "    [\n",
    "        \"caltrans_district\",\n",
    "        \"schedule_gtfs_dataset_key\",\n",
    "        \"organization_name\",\n",
    "        \"sched_rt_category\",\n",
    "    ]\n",
    ").agg({\"service_date\": \"max\"})"
   ]
  },
  {
   "cell_type": "markdown",
   "id": "b10f13d4-6551-41c9-9160-c04387595e96",
   "metadata": {},
   "source": [
    "### Southern California Regional Rail Authority \t& San Bernardino County Transportation Authority are the same operator?"
   ]
  },
  {
   "cell_type": "code",
   "execution_count": 90,
   "id": "efde7d7f-22b3-4c46-94bc-0c1c57ab66ac",
   "metadata": {
    "tags": []
   },
   "outputs": [
    {
     "data": {
      "text/html": [
       "<div>\n",
       "<style scoped>\n",
       "    .dataframe tbody tr th:only-of-type {\n",
       "        vertical-align: middle;\n",
       "    }\n",
       "\n",
       "    .dataframe tbody tr th {\n",
       "        vertical-align: top;\n",
       "    }\n",
       "\n",
       "    .dataframe thead th {\n",
       "        text-align: right;\n",
       "    }\n",
       "</style>\n",
       "<table border=\"1\" class=\"dataframe\">\n",
       "  <thead>\n",
       "    <tr style=\"text-align: right;\">\n",
       "      <th></th>\n",
       "      <th></th>\n",
       "      <th></th>\n",
       "      <th>route_id</th>\n",
       "    </tr>\n",
       "    <tr>\n",
       "      <th>caltrans_district</th>\n",
       "      <th>schedule_gtfs_dataset_key</th>\n",
       "      <th>organization_name</th>\n",
       "      <th></th>\n",
       "    </tr>\n",
       "  </thead>\n",
       "  <tbody>\n",
       "    <tr>\n",
       "      <th rowspan=\"2\" valign=\"top\">07 - Los Angeles</th>\n",
       "      <th>759ad28de7d4bb8b2bf9bb7d83655100</th>\n",
       "      <th>Southern California Regional Rail Authority</th>\n",
       "      <td>7</td>\n",
       "    </tr>\n",
       "    <tr>\n",
       "      <th>c4092405159366c705b62df938293a4e</th>\n",
       "      <th>Southern California Regional Rail Authority</th>\n",
       "      <td>7</td>\n",
       "    </tr>\n",
       "    <tr>\n",
       "      <th>07 - Los Angeles / Ventura</th>\n",
       "      <th>c4092405159366c705b62df938293a4e</th>\n",
       "      <th>Southern California Regional Rail Authority</th>\n",
       "      <td>7</td>\n",
       "    </tr>\n",
       "    <tr>\n",
       "      <th>08 - San Bernardino</th>\n",
       "      <th>c4092405159366c705b62df938293a4e</th>\n",
       "      <th>San Bernardino County Transportation Authority</th>\n",
       "      <td>7</td>\n",
       "    </tr>\n",
       "  </tbody>\n",
       "</table>\n",
       "</div>"
      ],
      "text/plain": [
       "                                                                                                            route_id\n",
       "caltrans_district          schedule_gtfs_dataset_key        organization_name                                       \n",
       "07 - Los Angeles           759ad28de7d4bb8b2bf9bb7d83655100 Southern California Regional Rail Authority            7\n",
       "                           c4092405159366c705b62df938293a4e Southern California Regional Rail Authority            7\n",
       "07 - Los Angeles / Ventura c4092405159366c705b62df938293a4e Southern California Regional Rail Authority            7\n",
       "08 - San Bernardino        c4092405159366c705b62df938293a4e San Bernardino County Transportation Authority         7"
      ]
     },
     "execution_count": 90,
     "metadata": {},
     "output_type": "execute_result"
    }
   ],
   "source": [
    "vp_only_ops_df.groupby(\n",
    "    [\n",
    "        \"caltrans_district\",\n",
    "        \"schedule_gtfs_dataset_key\",\n",
    "        \"organization_name\",\n",
    "    ]\n",
    ").agg({\"route_id\": \"nunique\"})"
   ]
  },
  {
   "cell_type": "code",
   "execution_count": 105,
   "id": "2b190677-34f1-42e7-9210-6d44654aafeb",
   "metadata": {
    "tags": []
   },
   "outputs": [
    {
     "data": {
      "text/html": [
       "<div>\n",
       "<style scoped>\n",
       "    .dataframe tbody tr th:only-of-type {\n",
       "        vertical-align: middle;\n",
       "    }\n",
       "\n",
       "    .dataframe tbody tr th {\n",
       "        vertical-align: top;\n",
       "    }\n",
       "\n",
       "    .dataframe thead th {\n",
       "        text-align: right;\n",
       "    }\n",
       "</style>\n",
       "<table border=\"1\" class=\"dataframe\">\n",
       "  <thead>\n",
       "    <tr style=\"text-align: right;\">\n",
       "      <th></th>\n",
       "      <th>caltrans_district</th>\n",
       "      <th>schedule_gtfs_dataset_key</th>\n",
       "      <th>organization_name</th>\n",
       "      <th>route_id</th>\n",
       "    </tr>\n",
       "  </thead>\n",
       "  <tbody>\n",
       "    <tr>\n",
       "      <th>157635</th>\n",
       "      <td>07 - Los Angeles</td>\n",
       "      <td>759ad28de7d4bb8b2bf9bb7d83655100</td>\n",
       "      <td>Southern California Regional Rail Authority</td>\n",
       "      <td>91 Line</td>\n",
       "    </tr>\n",
       "    <tr>\n",
       "      <th>389109</th>\n",
       "      <td>07 - Los Angeles / Ventura</td>\n",
       "      <td>c4092405159366c705b62df938293a4e</td>\n",
       "      <td>Southern California Regional Rail Authority</td>\n",
       "      <td>91 Line</td>\n",
       "    </tr>\n",
       "    <tr>\n",
       "      <th>293913</th>\n",
       "      <td>08 - San Bernardino</td>\n",
       "      <td>c4092405159366c705b62df938293a4e</td>\n",
       "      <td>San Bernardino County Transportation Authority</td>\n",
       "      <td>91 Line</td>\n",
       "    </tr>\n",
       "    <tr>\n",
       "      <th>293914</th>\n",
       "      <td>07 - Los Angeles</td>\n",
       "      <td>c4092405159366c705b62df938293a4e</td>\n",
       "      <td>Southern California Regional Rail Authority</td>\n",
       "      <td>91 Line</td>\n",
       "    </tr>\n",
       "    <tr>\n",
       "      <th>157670</th>\n",
       "      <td>07 - Los Angeles</td>\n",
       "      <td>759ad28de7d4bb8b2bf9bb7d83655100</td>\n",
       "      <td>Southern California Regional Rail Authority</td>\n",
       "      <td>Antelope Valley Line</td>\n",
       "    </tr>\n",
       "    <tr>\n",
       "      <th>389155</th>\n",
       "      <td>07 - Los Angeles / Ventura</td>\n",
       "      <td>c4092405159366c705b62df938293a4e</td>\n",
       "      <td>Southern California Regional Rail Authority</td>\n",
       "      <td>Antelope Valley Line</td>\n",
       "    </tr>\n",
       "    <tr>\n",
       "      <th>293973</th>\n",
       "      <td>08 - San Bernardino</td>\n",
       "      <td>c4092405159366c705b62df938293a4e</td>\n",
       "      <td>San Bernardino County Transportation Authority</td>\n",
       "      <td>Antelope Valley Line</td>\n",
       "    </tr>\n",
       "    <tr>\n",
       "      <th>293974</th>\n",
       "      <td>07 - Los Angeles</td>\n",
       "      <td>c4092405159366c705b62df938293a4e</td>\n",
       "      <td>Southern California Regional Rail Authority</td>\n",
       "      <td>Antelope Valley Line</td>\n",
       "    </tr>\n",
       "    <tr>\n",
       "      <th>157712</th>\n",
       "      <td>07 - Los Angeles</td>\n",
       "      <td>759ad28de7d4bb8b2bf9bb7d83655100</td>\n",
       "      <td>Southern California Regional Rail Authority</td>\n",
       "      <td>Inland Emp.-Orange Co. Line</td>\n",
       "    </tr>\n",
       "    <tr>\n",
       "      <th>389251</th>\n",
       "      <td>07 - Los Angeles / Ventura</td>\n",
       "      <td>c4092405159366c705b62df938293a4e</td>\n",
       "      <td>Southern California Regional Rail Authority</td>\n",
       "      <td>Inland Emp.-Orange Co. Line</td>\n",
       "    </tr>\n",
       "    <tr>\n",
       "      <th>294045</th>\n",
       "      <td>08 - San Bernardino</td>\n",
       "      <td>c4092405159366c705b62df938293a4e</td>\n",
       "      <td>San Bernardino County Transportation Authority</td>\n",
       "      <td>Inland Emp.-Orange Co. Line</td>\n",
       "    </tr>\n",
       "    <tr>\n",
       "      <th>294046</th>\n",
       "      <td>07 - Los Angeles</td>\n",
       "      <td>c4092405159366c705b62df938293a4e</td>\n",
       "      <td>Southern California Regional Rail Authority</td>\n",
       "      <td>Inland Emp.-Orange Co. Line</td>\n",
       "    </tr>\n",
       "    <tr>\n",
       "      <th>389339</th>\n",
       "      <td>07 - Los Angeles / Ventura</td>\n",
       "      <td>c4092405159366c705b62df938293a4e</td>\n",
       "      <td>Southern California Regional Rail Authority</td>\n",
       "      <td>Orange County Line</td>\n",
       "    </tr>\n",
       "    <tr>\n",
       "      <th>294106</th>\n",
       "      <td>07 - Los Angeles</td>\n",
       "      <td>c4092405159366c705b62df938293a4e</td>\n",
       "      <td>Southern California Regional Rail Authority</td>\n",
       "      <td>Orange County Line</td>\n",
       "    </tr>\n",
       "    <tr>\n",
       "      <th>294105</th>\n",
       "      <td>08 - San Bernardino</td>\n",
       "      <td>c4092405159366c705b62df938293a4e</td>\n",
       "      <td>San Bernardino County Transportation Authority</td>\n",
       "      <td>Orange County Line</td>\n",
       "    </tr>\n",
       "    <tr>\n",
       "      <th>157747</th>\n",
       "      <td>07 - Los Angeles</td>\n",
       "      <td>759ad28de7d4bb8b2bf9bb7d83655100</td>\n",
       "      <td>Southern California Regional Rail Authority</td>\n",
       "      <td>Orange County Line</td>\n",
       "    </tr>\n",
       "    <tr>\n",
       "      <th>294177</th>\n",
       "      <td>08 - San Bernardino</td>\n",
       "      <td>c4092405159366c705b62df938293a4e</td>\n",
       "      <td>San Bernardino County Transportation Authority</td>\n",
       "      <td>Riverside Line</td>\n",
       "    </tr>\n",
       "    <tr>\n",
       "      <th>294178</th>\n",
       "      <td>07 - Los Angeles</td>\n",
       "      <td>c4092405159366c705b62df938293a4e</td>\n",
       "      <td>Southern California Regional Rail Authority</td>\n",
       "      <td>Riverside Line</td>\n",
       "    </tr>\n",
       "    <tr>\n",
       "      <th>157789</th>\n",
       "      <td>07 - Los Angeles</td>\n",
       "      <td>759ad28de7d4bb8b2bf9bb7d83655100</td>\n",
       "      <td>Southern California Regional Rail Authority</td>\n",
       "      <td>Riverside Line</td>\n",
       "    </tr>\n",
       "    <tr>\n",
       "      <th>389435</th>\n",
       "      <td>07 - Los Angeles / Ventura</td>\n",
       "      <td>c4092405159366c705b62df938293a4e</td>\n",
       "      <td>Southern California Regional Rail Authority</td>\n",
       "      <td>Riverside Line</td>\n",
       "    </tr>\n",
       "    <tr>\n",
       "      <th>294249</th>\n",
       "      <td>08 - San Bernardino</td>\n",
       "      <td>c4092405159366c705b62df938293a4e</td>\n",
       "      <td>San Bernardino County Transportation Authority</td>\n",
       "      <td>San Bernardino Line</td>\n",
       "    </tr>\n",
       "    <tr>\n",
       "      <th>294250</th>\n",
       "      <td>07 - Los Angeles</td>\n",
       "      <td>c4092405159366c705b62df938293a4e</td>\n",
       "      <td>Southern California Regional Rail Authority</td>\n",
       "      <td>San Bernardino Line</td>\n",
       "    </tr>\n",
       "    <tr>\n",
       "      <th>157831</th>\n",
       "      <td>07 - Los Angeles</td>\n",
       "      <td>759ad28de7d4bb8b2bf9bb7d83655100</td>\n",
       "      <td>Southern California Regional Rail Authority</td>\n",
       "      <td>San Bernardino Line</td>\n",
       "    </tr>\n",
       "    <tr>\n",
       "      <th>389523</th>\n",
       "      <td>07 - Los Angeles / Ventura</td>\n",
       "      <td>c4092405159366c705b62df938293a4e</td>\n",
       "      <td>Southern California Regional Rail Authority</td>\n",
       "      <td>San Bernardino Line</td>\n",
       "    </tr>\n",
       "    <tr>\n",
       "      <th>294321</th>\n",
       "      <td>08 - San Bernardino</td>\n",
       "      <td>c4092405159366c705b62df938293a4e</td>\n",
       "      <td>San Bernardino County Transportation Authority</td>\n",
       "      <td>Ventura County Line</td>\n",
       "    </tr>\n",
       "    <tr>\n",
       "      <th>294322</th>\n",
       "      <td>07 - Los Angeles</td>\n",
       "      <td>c4092405159366c705b62df938293a4e</td>\n",
       "      <td>Southern California Regional Rail Authority</td>\n",
       "      <td>Ventura County Line</td>\n",
       "    </tr>\n",
       "    <tr>\n",
       "      <th>157873</th>\n",
       "      <td>07 - Los Angeles</td>\n",
       "      <td>759ad28de7d4bb8b2bf9bb7d83655100</td>\n",
       "      <td>Southern California Regional Rail Authority</td>\n",
       "      <td>Ventura County Line</td>\n",
       "    </tr>\n",
       "    <tr>\n",
       "      <th>389619</th>\n",
       "      <td>07 - Los Angeles / Ventura</td>\n",
       "      <td>c4092405159366c705b62df938293a4e</td>\n",
       "      <td>Southern California Regional Rail Authority</td>\n",
       "      <td>Ventura County Line</td>\n",
       "    </tr>\n",
       "  </tbody>\n",
       "</table>\n",
       "</div>"
      ],
      "text/plain": [
       "                 caltrans_district         schedule_gtfs_dataset_key  \\\n",
       "157635            07 - Los Angeles  759ad28de7d4bb8b2bf9bb7d83655100   \n",
       "389109  07 - Los Angeles / Ventura  c4092405159366c705b62df938293a4e   \n",
       "293913         08 - San Bernardino  c4092405159366c705b62df938293a4e   \n",
       "293914            07 - Los Angeles  c4092405159366c705b62df938293a4e   \n",
       "157670            07 - Los Angeles  759ad28de7d4bb8b2bf9bb7d83655100   \n",
       "389155  07 - Los Angeles / Ventura  c4092405159366c705b62df938293a4e   \n",
       "293973         08 - San Bernardino  c4092405159366c705b62df938293a4e   \n",
       "293974            07 - Los Angeles  c4092405159366c705b62df938293a4e   \n",
       "157712            07 - Los Angeles  759ad28de7d4bb8b2bf9bb7d83655100   \n",
       "389251  07 - Los Angeles / Ventura  c4092405159366c705b62df938293a4e   \n",
       "294045         08 - San Bernardino  c4092405159366c705b62df938293a4e   \n",
       "294046            07 - Los Angeles  c4092405159366c705b62df938293a4e   \n",
       "389339  07 - Los Angeles / Ventura  c4092405159366c705b62df938293a4e   \n",
       "294106            07 - Los Angeles  c4092405159366c705b62df938293a4e   \n",
       "294105         08 - San Bernardino  c4092405159366c705b62df938293a4e   \n",
       "157747            07 - Los Angeles  759ad28de7d4bb8b2bf9bb7d83655100   \n",
       "294177         08 - San Bernardino  c4092405159366c705b62df938293a4e   \n",
       "294178            07 - Los Angeles  c4092405159366c705b62df938293a4e   \n",
       "157789            07 - Los Angeles  759ad28de7d4bb8b2bf9bb7d83655100   \n",
       "389435  07 - Los Angeles / Ventura  c4092405159366c705b62df938293a4e   \n",
       "294249         08 - San Bernardino  c4092405159366c705b62df938293a4e   \n",
       "294250            07 - Los Angeles  c4092405159366c705b62df938293a4e   \n",
       "157831            07 - Los Angeles  759ad28de7d4bb8b2bf9bb7d83655100   \n",
       "389523  07 - Los Angeles / Ventura  c4092405159366c705b62df938293a4e   \n",
       "294321         08 - San Bernardino  c4092405159366c705b62df938293a4e   \n",
       "294322            07 - Los Angeles  c4092405159366c705b62df938293a4e   \n",
       "157873            07 - Los Angeles  759ad28de7d4bb8b2bf9bb7d83655100   \n",
       "389619  07 - Los Angeles / Ventura  c4092405159366c705b62df938293a4e   \n",
       "\n",
       "                                     organization_name  \\\n",
       "157635     Southern California Regional Rail Authority   \n",
       "389109     Southern California Regional Rail Authority   \n",
       "293913  San Bernardino County Transportation Authority   \n",
       "293914     Southern California Regional Rail Authority   \n",
       "157670     Southern California Regional Rail Authority   \n",
       "389155     Southern California Regional Rail Authority   \n",
       "293973  San Bernardino County Transportation Authority   \n",
       "293974     Southern California Regional Rail Authority   \n",
       "157712     Southern California Regional Rail Authority   \n",
       "389251     Southern California Regional Rail Authority   \n",
       "294045  San Bernardino County Transportation Authority   \n",
       "294046     Southern California Regional Rail Authority   \n",
       "389339     Southern California Regional Rail Authority   \n",
       "294106     Southern California Regional Rail Authority   \n",
       "294105  San Bernardino County Transportation Authority   \n",
       "157747     Southern California Regional Rail Authority   \n",
       "294177  San Bernardino County Transportation Authority   \n",
       "294178     Southern California Regional Rail Authority   \n",
       "157789     Southern California Regional Rail Authority   \n",
       "389435     Southern California Regional Rail Authority   \n",
       "294249  San Bernardino County Transportation Authority   \n",
       "294250     Southern California Regional Rail Authority   \n",
       "157831     Southern California Regional Rail Authority   \n",
       "389523     Southern California Regional Rail Authority   \n",
       "294321  San Bernardino County Transportation Authority   \n",
       "294322     Southern California Regional Rail Authority   \n",
       "157873     Southern California Regional Rail Authority   \n",
       "389619     Southern California Regional Rail Authority   \n",
       "\n",
       "                           route_id  \n",
       "157635                      91 Line  \n",
       "389109                      91 Line  \n",
       "293913                      91 Line  \n",
       "293914                      91 Line  \n",
       "157670         Antelope Valley Line  \n",
       "389155         Antelope Valley Line  \n",
       "293973         Antelope Valley Line  \n",
       "293974         Antelope Valley Line  \n",
       "157712  Inland Emp.-Orange Co. Line  \n",
       "389251  Inland Emp.-Orange Co. Line  \n",
       "294045  Inland Emp.-Orange Co. Line  \n",
       "294046  Inland Emp.-Orange Co. Line  \n",
       "389339           Orange County Line  \n",
       "294106           Orange County Line  \n",
       "294105           Orange County Line  \n",
       "157747           Orange County Line  \n",
       "294177               Riverside Line  \n",
       "294178               Riverside Line  \n",
       "157789               Riverside Line  \n",
       "389435               Riverside Line  \n",
       "294249          San Bernardino Line  \n",
       "294250          San Bernardino Line  \n",
       "157831          San Bernardino Line  \n",
       "389523          San Bernardino Line  \n",
       "294321          Ventura County Line  \n",
       "294322          Ventura County Line  \n",
       "157873          Ventura County Line  \n",
       "389619          Ventura County Line  "
      ]
     },
     "execution_count": 105,
     "metadata": {},
     "output_type": "execute_result"
    }
   ],
   "source": [
    "vp_only_ops_df[[\n",
    "        \"caltrans_district\",\n",
    "        \"schedule_gtfs_dataset_key\",\n",
    "        \"organization_name\",\n",
    "        \"route_id\"\n",
    "    ]].drop_duplicates().sort_values(by = ['route_id'])"
   ]
  },
  {
   "cell_type": "markdown",
   "id": "db103006-c5e0-4dcb-aa8b-ab1437fb8be8",
   "metadata": {},
   "source": [
    "## Go back to  `schedule_stats_by_route_direction`"
   ]
  },
  {
   "cell_type": "code",
   "execution_count": 17,
   "id": "11b6acd7-4ebf-42fd-9987-d99580e5ce6f",
   "metadata": {
    "tags": []
   },
   "outputs": [],
   "source": [
    "import sys\n",
    "\n",
    "sys.path.append(\"../gtfs_funnel/\")\n",
    "import schedule_stats_by_route_direction"
   ]
  },
  {
   "cell_type": "code",
   "execution_count": 18,
   "id": "857361d5-ae90-45ee-885f-c855c0ff7f71",
   "metadata": {
    "tags": []
   },
   "outputs": [],
   "source": [
    "route_group_merge_cols = [\"schedule_gtfs_dataset_key\", \"route_id\", \"direction_id\"]"
   ]
  },
  {
   "cell_type": "markdown",
   "id": "69f205e3-0c1a-4e22-be5e-aa1b34a345f4",
   "metadata": {},
   "source": [
    "### Only SBR is back in the `trip_metrics` line 203 after my small tweak that i Only ran for 2025 dates. "
   ]
  },
  {
   "cell_type": "code",
   "execution_count": 19,
   "id": "822e212c-048d-4290-ad0b-fa30c96f2a91",
   "metadata": {
    "tags": []
   },
   "outputs": [],
   "source": [
    "trip_metrics = schedule_stats_by_route_direction.assemble_scheduled_trip_metrics(\n",
    "    analysis_date, GTFS_DATA_DICT\n",
    ")"
   ]
  },
  {
   "cell_type": "code",
   "execution_count": 20,
   "id": "d8a4ef30-7366-416b-8b53-e1e298fb2d50",
   "metadata": {
    "tags": []
   },
   "outputs": [],
   "source": [
    "trip_metrics = trip_metrics.loc[\n",
    "    trip_metrics.schedule_gtfs_dataset_key.isin(vp_only_ops_sched_keys)\n",
    "]"
   ]
  },
  {
   "cell_type": "code",
   "execution_count": 21,
   "id": "97b5064f-eed9-4d98-a033-c7c043840a39",
   "metadata": {
    "tags": []
   },
   "outputs": [
    {
     "data": {
      "text/plain": [
       "202"
      ]
     },
     "execution_count": 21,
     "metadata": {},
     "output_type": "execute_result"
    }
   ],
   "source": [
    "len(trip_metrics)"
   ]
  },
  {
   "cell_type": "markdown",
   "id": "e8511f43-e33b-4de3-9eb7-ebd336276695",
   "metadata": {},
   "source": [
    "#### Only the key for `San Bernardino County Transportation Authority` is kept. Where's Metrolink's key?"
   ]
  },
  {
   "cell_type": "code",
   "execution_count": 35,
   "id": "6b0e791d-62ca-435c-a513-0293dbb8d5ab",
   "metadata": {
    "tags": []
   },
   "outputs": [
    {
     "data": {
      "text/plain": [
       "array(['c4092405159366c705b62df938293a4e'], dtype=object)"
      ]
     },
     "execution_count": 35,
     "metadata": {},
     "output_type": "execute_result"
    }
   ],
   "source": [
    "trip_metrics.schedule_gtfs_dataset_key.unique()"
   ]
  },
  {
   "cell_type": "markdown",
   "id": "e6170e67-da8c-4b25-8c69-849e63cdc06e",
   "metadata": {},
   "source": [
    "### Operators are now missing in the function `schedule_metrics_by_route_direction`"
   ]
  },
  {
   "cell_type": "code",
   "execution_count": 28,
   "id": "ef276189-be0b-46ec-bacf-33365f6c84e3",
   "metadata": {
    "tags": []
   },
   "outputs": [],
   "source": [
    "route_dir_metrics = (\n",
    "    schedule_stats_by_route_direction.schedule_metrics_by_route_direction(\n",
    "        trip_metrics, analysis_date, route_group_merge_cols\n",
    "    )\n",
    ")"
   ]
  },
  {
   "cell_type": "code",
   "execution_count": 29,
   "id": "1aec2741-bdcd-463a-af9c-d7836c978bd2",
   "metadata": {
    "tags": []
   },
   "outputs": [
    {
     "data": {
      "text/plain": [
       "0"
      ]
     },
     "execution_count": 29,
     "metadata": {},
     "output_type": "execute_result"
    }
   ],
   "source": [
    "len(route_dir_metrics)"
   ]
  },
  {
   "cell_type": "code",
   "execution_count": 30,
   "id": "599bc7c8-1184-4f08-bd60-3cd9cbc734dc",
   "metadata": {
    "tags": []
   },
   "outputs": [],
   "source": [
    "service_freq_df = gtfs_schedule_wrangling.aggregate_time_of_day_to_peak_offpeak(\n",
    "    trip_metrics, route_group_merge_cols, long_or_wide=\"long\"\n",
    ")"
   ]
  },
  {
   "cell_type": "code",
   "execution_count": 31,
   "id": "c15447c0-1b27-4831-b2ad-ad9d1b018d53",
   "metadata": {
    "tags": []
   },
   "outputs": [
    {
     "data": {
      "text/plain": [
       "41"
      ]
     },
     "execution_count": 31,
     "metadata": {},
     "output_type": "execute_result"
    }
   ],
   "source": [
    "len(service_freq_df)"
   ]
  },
  {
   "cell_type": "code",
   "execution_count": 32,
   "id": "8f4578d0-0089-4b6c-a57d-bd03653ce128",
   "metadata": {
    "tags": []
   },
   "outputs": [
    {
     "data": {
      "text/html": [
       "<div>\n",
       "<style scoped>\n",
       "    .dataframe tbody tr th:only-of-type {\n",
       "        vertical-align: middle;\n",
       "    }\n",
       "\n",
       "    .dataframe tbody tr th {\n",
       "        vertical-align: top;\n",
       "    }\n",
       "\n",
       "    .dataframe thead th {\n",
       "        text-align: right;\n",
       "    }\n",
       "</style>\n",
       "<table border=\"1\" class=\"dataframe\">\n",
       "  <thead>\n",
       "    <tr style=\"text-align: right;\">\n",
       "      <th></th>\n",
       "      <th>schedule_gtfs_dataset_key</th>\n",
       "      <th>route_id</th>\n",
       "      <th>direction_id</th>\n",
       "      <th>n_trips</th>\n",
       "      <th>time_period</th>\n",
       "      <th>peak_offpeak</th>\n",
       "      <th>frequency</th>\n",
       "    </tr>\n",
       "  </thead>\n",
       "  <tbody>\n",
       "    <tr>\n",
       "      <th>0</th>\n",
       "      <td>c4092405159366c705b62df938293a4e</td>\n",
       "      <td>91 Line</td>\n",
       "      <td>0.00</td>\n",
       "      <td>7</td>\n",
       "      <td>all_day</td>\n",
       "      <td>NaN</td>\n",
       "      <td>0.29</td>\n",
       "    </tr>\n",
       "    <tr>\n",
       "      <th>1</th>\n",
       "      <td>c4092405159366c705b62df938293a4e</td>\n",
       "      <td>91 Line</td>\n",
       "      <td>1.00</td>\n",
       "      <td>7</td>\n",
       "      <td>all_day</td>\n",
       "      <td>NaN</td>\n",
       "      <td>0.29</td>\n",
       "    </tr>\n",
       "  </tbody>\n",
       "</table>\n",
       "</div>"
      ],
      "text/plain": [
       "          schedule_gtfs_dataset_key route_id  direction_id  n_trips  \\\n",
       "0  c4092405159366c705b62df938293a4e  91 Line          0.00        7   \n",
       "1  c4092405159366c705b62df938293a4e  91 Line          1.00        7   \n",
       "\n",
       "  time_period peak_offpeak  frequency  \n",
       "0     all_day          NaN       0.29  \n",
       "1     all_day          NaN       0.29  "
      ]
     },
     "execution_count": 32,
     "metadata": {},
     "output_type": "execute_result"
    }
   ],
   "source": [
    "service_freq_df.head(2)"
   ]
  },
  {
   "cell_type": "code",
   "execution_count": 91,
   "id": "64248185-bd45-4e25-a16a-62d7df354794",
   "metadata": {
    "tags": []
   },
   "outputs": [
    {
     "data": {
      "text/plain": [
       "array(['c4092405159366c705b62df938293a4e'], dtype=object)"
      ]
     },
     "execution_count": 91,
     "metadata": {},
     "output_type": "execute_result"
    }
   ],
   "source": [
    "service_freq_df.schedule_gtfs_dataset_key.unique()"
   ]
  },
  {
   "cell_type": "code",
   "execution_count": 33,
   "id": "e54cb53c-7002-4e27-a107-d9738867a0b7",
   "metadata": {
    "tags": []
   },
   "outputs": [
    {
     "data": {
      "text/plain": [
       "7"
      ]
     },
     "execution_count": 33,
     "metadata": {},
     "output_type": "execute_result"
    }
   ],
   "source": [
    "service_freq_df.route_id.nunique()"
   ]
  },
  {
   "cell_type": "code",
   "execution_count": 92,
   "id": "3490a6c7-18a4-4c2c-805f-6fe8b20df7c3",
   "metadata": {
    "tags": []
   },
   "outputs": [],
   "source": [
    "metrics_df = (\n",
    "        trip_metrics.groupby(route_group_merge_cols, observed=True, group_keys=False, dropna=False)\n",
    "        .agg(\n",
    "            {\n",
    "                \"median_stop_meters\": \"mean\",\n",
    "                # take mean of the median stop spacing for trip\n",
    "                # does this make sense?\n",
    "                # median is the single boiled down metric at the trip-level\n",
    "                \"scheduled_service_minutes\": \"mean\",\n",
    "            }\n",
    "        )\n",
    "        .reset_index()\n",
    "        .rename(\n",
    "            columns={\n",
    "                \"median_stop_meters\": \"avg_stop_meters\",\n",
    "                \"scheduled_service_minutes\": \"avg_scheduled_service_minutes\",\n",
    "            }\n",
    "        )\n",
    "    )"
   ]
  },
  {
   "cell_type": "code",
   "execution_count": 93,
   "id": "3f78e32c-4fc0-41cf-9730-9bc8fe96655a",
   "metadata": {
    "tags": []
   },
   "outputs": [
    {
     "data": {
      "text/plain": [
       "14"
      ]
     },
     "execution_count": 93,
     "metadata": {},
     "output_type": "execute_result"
    }
   ],
   "source": [
    "len(metrics_df)"
   ]
  },
  {
   "cell_type": "code",
   "execution_count": 95,
   "id": "39b95aa8-f65a-49f2-9a82-d340d6653169",
   "metadata": {
    "tags": []
   },
   "outputs": [],
   "source": [
    "from shared_utils.rt_utils import METERS_PER_MILE"
   ]
  },
  {
   "cell_type": "code",
   "execution_count": 96,
   "id": "109bb505-bbb7-4057-9e36-f8b0b3ca6afe",
   "metadata": {
    "tags": []
   },
   "outputs": [],
   "source": [
    "metrics_df = metrics_df.assign(\n",
    "        avg_stop_miles=metrics_df.avg_stop_meters.divide(METERS_PER_MILE).round(2)\n",
    "    ).drop(columns=[\"avg_stop_meters\"])"
   ]
  },
  {
   "cell_type": "code",
   "execution_count": 97,
   "id": "ab02b534-b236-4405-b57a-1ec5091f3588",
   "metadata": {
    "tags": []
   },
   "outputs": [],
   "source": [
    "round_me = [\"avg_stop_miles\", \"avg_scheduled_service_minutes\"]\n",
    "metrics_df[round_me] = metrics_df[round_me].round(2)"
   ]
  },
  {
   "cell_type": "code",
   "execution_count": 98,
   "id": "ad6e67dd-3d81-449c-a4f4-6aaed48bac21",
   "metadata": {
    "tags": []
   },
   "outputs": [],
   "source": [
    "common_shape = gtfs_schedule_wrangling.most_common_shape_by_route_direction(\n",
    "        analysis_date\n",
    "    )"
   ]
  },
  {
   "cell_type": "code",
   "execution_count": 103,
   "id": "6c13c069-2334-417e-b4c1-3bfb7deea07f",
   "metadata": {
    "tags": []
   },
   "outputs": [],
   "source": [
    "common_shape = common_shape.loc[\n",
    "    common_shape.schedule_gtfs_dataset_key.isin(vp_only_ops_sched_keys)\n",
    "]"
   ]
  },
  {
   "cell_type": "code",
   "execution_count": 104,
   "id": "3acd5642-4cd1-432e-87e7-b057550efcd8",
   "metadata": {
    "tags": []
   },
   "outputs": [
    {
     "data": {
      "text/html": [
       "<div>\n",
       "<style scoped>\n",
       "    .dataframe tbody tr th:only-of-type {\n",
       "        vertical-align: middle;\n",
       "    }\n",
       "\n",
       "    .dataframe tbody tr th {\n",
       "        vertical-align: top;\n",
       "    }\n",
       "\n",
       "    .dataframe thead th {\n",
       "        text-align: right;\n",
       "    }\n",
       "</style>\n",
       "<table border=\"1\" class=\"dataframe\">\n",
       "  <thead>\n",
       "    <tr style=\"text-align: right;\">\n",
       "      <th></th>\n",
       "      <th>geometry</th>\n",
       "      <th>schedule_gtfs_dataset_key</th>\n",
       "      <th>route_id</th>\n",
       "      <th>direction_id</th>\n",
       "      <th>common_shape_id</th>\n",
       "      <th>route_name</th>\n",
       "    </tr>\n",
       "  </thead>\n",
       "  <tbody>\n",
       "  </tbody>\n",
       "</table>\n",
       "</div>"
      ],
      "text/plain": [
       "Empty GeoDataFrame\n",
       "Columns: [geometry, schedule_gtfs_dataset_key, route_id, direction_id, common_shape_id, route_name]\n",
       "Index: []"
      ]
     },
     "execution_count": 104,
     "metadata": {},
     "output_type": "execute_result"
    }
   ],
   "source": [
    "common_shape.head(1)"
   ]
  },
  {
   "cell_type": "code",
   "execution_count": 100,
   "id": "dd2eef94-2bf2-477a-8507-689a95b05a27",
   "metadata": {
    "tags": []
   },
   "outputs": [],
   "source": [
    "df = pd.merge(common_shape, metrics_df, on=route_group_merge_cols, how=\"inner\").merge(\n",
    "        service_freq_df, on=route_group_merge_cols, how=\"inner\"\n",
    "    )"
   ]
  },
  {
   "cell_type": "code",
   "execution_count": 101,
   "id": "052be469-827a-464d-bec9-413098cab845",
   "metadata": {
    "tags": []
   },
   "outputs": [
    {
     "data": {
      "text/plain": [
       "0"
      ]
     },
     "execution_count": 101,
     "metadata": {},
     "output_type": "execute_result"
    }
   ],
   "source": [
    "len(df)"
   ]
  },
  {
   "cell_type": "markdown",
   "id": "5aefd52c-1b72-47c0-86c7-d81c39d44027",
   "metadata": {},
   "source": [
    "### Only the key for `San Bernardino County Transportation Authority` is kept. Where's Metrolink's key? `STOP_TIMES_FILE`."
   ]
  },
  {
   "cell_type": "code",
   "execution_count": 36,
   "id": "e1396d10-73a6-41b1-9521-442dcd2e5c76",
   "metadata": {
    "tags": []
   },
   "outputs": [],
   "source": [
    "STOP_TIMES_FILE = GTFS_DATA_DICT.rt_vs_schedule_tables.stop_times_direction"
   ]
  },
  {
   "cell_type": "code",
   "execution_count": 37,
   "id": "bd2027ea-3b31-41af-95f8-c27d605569b3",
   "metadata": {
    "tags": []
   },
   "outputs": [
    {
     "data": {
      "text/plain": [
       "'stop_times_direction'"
      ]
     },
     "execution_count": 37,
     "metadata": {},
     "output_type": "execute_result"
    }
   ],
   "source": [
    "STOP_TIMES_FILE"
   ]
  },
  {
   "cell_type": "code",
   "execution_count": 38,
   "id": "9ec83465-1650-470e-b2ed-08ac1f3062fd",
   "metadata": {
    "tags": []
   },
   "outputs": [
    {
     "data": {
      "text/plain": [
       "'stop_times_direction'"
      ]
     },
     "execution_count": 38,
     "metadata": {},
     "output_type": "execute_result"
    }
   ],
   "source": [
    "GTFS_DATA_DICT.rt_vs_schedule_tables.stop_times_direction"
   ]
  },
  {
   "cell_type": "code",
   "execution_count": 39,
   "id": "da520797-4e9a-46b2-898a-f44ba3cc2447",
   "metadata": {
    "tags": []
   },
   "outputs": [],
   "source": [
    "df = gpd.read_parquet(f\"{RT_SCHED_GCS}{STOP_TIMES_FILE}_{analysis_date}.parquet\")"
   ]
  },
  {
   "cell_type": "code",
   "execution_count": 40,
   "id": "8d86e3fd-3a55-4ffa-8384-778e692df868",
   "metadata": {
    "tags": []
   },
   "outputs": [
    {
     "data": {
      "text/plain": [
       "'2025-02-12'"
      ]
     },
     "execution_count": 40,
     "metadata": {},
     "output_type": "execute_result"
    }
   ],
   "source": [
    "analysis_date"
   ]
  },
  {
   "cell_type": "code",
   "execution_count": 44,
   "id": "a55245da-7527-4cb8-bee3-83485fb86bec",
   "metadata": {
    "tags": []
   },
   "outputs": [],
   "source": [
    "df2 = df.loc[df.schedule_gtfs_dataset_key.isin(vp_only_ops_sched_keys)]"
   ]
  },
  {
   "cell_type": "code",
   "execution_count": 46,
   "id": "8e41d767-387f-45f4-9c5c-319c4ed2bc1e",
   "metadata": {
    "tags": []
   },
   "outputs": [
    {
     "data": {
      "text/plain": [
       "(2053, 1)"
      ]
     },
     "execution_count": 46,
     "metadata": {},
     "output_type": "execute_result"
    }
   ],
   "source": [
    "len(df2), df2.schedule_gtfs_dataset_key.nunique()"
   ]
  },
  {
   "cell_type": "code",
   "execution_count": 48,
   "id": "87c9a744-a092-44ff-ae56-830d6d8f15ac",
   "metadata": {
    "tags": []
   },
   "outputs": [
    {
     "data": {
      "text/plain": [
       "array(['c4092405159366c705b62df938293a4e'], dtype=object)"
      ]
     },
     "execution_count": 48,
     "metadata": {},
     "output_type": "execute_result"
    }
   ],
   "source": [
    " df2.schedule_gtfs_dataset_key.unique()"
   ]
  },
  {
   "cell_type": "markdown",
   "id": "f99b177f-68fb-480c-a592-dd35187536d4",
   "metadata": {
    "tags": []
   },
   "source": [
    "### Go back to `gtfs_funnel/stop_times_with_direction.py`\n",
    "\n",
    "#### Per Tiffany's advice, check `trips`. Metrolink is missing!"
   ]
  },
  {
   "cell_type": "code",
   "execution_count": 49,
   "id": "a8540334-4137-43d0-b47a-45501b658258",
   "metadata": {
    "tags": []
   },
   "outputs": [],
   "source": [
    "trip_scheduled_col = [\n",
    "    \"route_id\",\n",
    "    \"trip_instance_key\",\n",
    "    \"gtfs_dataset_key\",\n",
    "    \"shape_array_key\",\n",
    "    \"direction_id\",\n",
    "    \"route_long_name\",\n",
    "    \"route_short_name\",\n",
    "    \"route_desc\",\n",
    "    \"name\",\n",
    "    \"feed_key\",\n",
    "]"
   ]
  },
  {
   "cell_type": "code",
   "execution_count": 50,
   "id": "4ff25b84-ad06-4593-978d-6519869947fe",
   "metadata": {
    "tags": []
   },
   "outputs": [],
   "source": [
    "trips_df = helpers.import_scheduled_trips(\n",
    "    analysis_date, columns=trip_scheduled_col, get_pandas=True\n",
    ")"
   ]
  },
  {
   "cell_type": "code",
   "execution_count": 51,
   "id": "8b3fb865-4e1a-4485-8940-c4952bf771fe",
   "metadata": {
    "tags": []
   },
   "outputs": [],
   "source": [
    "trips_df = trips_df.loc[trips_df.schedule_gtfs_dataset_key.isin(vp_only_ops_sched_keys)]"
   ]
  },
  {
   "cell_type": "code",
   "execution_count": 52,
   "id": "43c17d5d-86ca-4864-83f6-13ab524b7476",
   "metadata": {
    "tags": []
   },
   "outputs": [
    {
     "data": {
      "text/plain": [
       "202"
      ]
     },
     "execution_count": 52,
     "metadata": {},
     "output_type": "execute_result"
    }
   ],
   "source": [
    "len(trips_df)"
   ]
  },
  {
   "cell_type": "code",
   "execution_count": 53,
   "id": "0136c286-28a8-4ebf-857b-2309691390b4",
   "metadata": {
    "tags": []
   },
   "outputs": [
    {
     "data": {
      "text/html": [
       "<div>\n",
       "<style scoped>\n",
       "    .dataframe tbody tr th:only-of-type {\n",
       "        vertical-align: middle;\n",
       "    }\n",
       "\n",
       "    .dataframe tbody tr th {\n",
       "        vertical-align: top;\n",
       "    }\n",
       "\n",
       "    .dataframe thead th {\n",
       "        text-align: right;\n",
       "    }\n",
       "</style>\n",
       "<table border=\"1\" class=\"dataframe\">\n",
       "  <thead>\n",
       "    <tr style=\"text-align: right;\">\n",
       "      <th></th>\n",
       "      <th>route_id</th>\n",
       "      <th>trip_instance_key</th>\n",
       "      <th>schedule_gtfs_dataset_key</th>\n",
       "      <th>shape_array_key</th>\n",
       "      <th>direction_id</th>\n",
       "      <th>route_long_name</th>\n",
       "      <th>route_short_name</th>\n",
       "      <th>route_desc</th>\n",
       "      <th>name</th>\n",
       "      <th>feed_key</th>\n",
       "    </tr>\n",
       "  </thead>\n",
       "  <tbody>\n",
       "    <tr>\n",
       "      <th>114833</th>\n",
       "      <td>San Bernardino Line</td>\n",
       "      <td>e0e22a031655b8c4eb6eb418166b567c</td>\n",
       "      <td>c4092405159366c705b62df938293a4e</td>\n",
       "      <td>None</td>\n",
       "      <td>0.00</td>\n",
       "      <td>Metrolink San Bernardino Line</td>\n",
       "      <td>None</td>\n",
       "      <td>None</td>\n",
       "      <td>Metrolink Schedule</td>\n",
       "      <td>8fc9cfe86b4e9e8c7cf508b2486605f1</td>\n",
       "    </tr>\n",
       "  </tbody>\n",
       "</table>\n",
       "</div>"
      ],
      "text/plain": [
       "                   route_id                 trip_instance_key  \\\n",
       "114833  San Bernardino Line  e0e22a031655b8c4eb6eb418166b567c   \n",
       "\n",
       "               schedule_gtfs_dataset_key shape_array_key  direction_id  \\\n",
       "114833  c4092405159366c705b62df938293a4e            None          0.00   \n",
       "\n",
       "                      route_long_name route_short_name route_desc  \\\n",
       "114833  Metrolink San Bernardino Line             None       None   \n",
       "\n",
       "                      name                          feed_key  \n",
       "114833  Metrolink Schedule  8fc9cfe86b4e9e8c7cf508b2486605f1  "
      ]
     },
     "execution_count": 53,
     "metadata": {},
     "output_type": "execute_result"
    }
   ],
   "source": [
    "trips_df.head(1)"
   ]
  },
  {
   "cell_type": "code",
   "execution_count": 54,
   "id": "4e48f49a-2480-4364-8474-66a133693de4",
   "metadata": {
    "tags": []
   },
   "outputs": [],
   "source": [
    "feed_keys_list = list(trips_df.feed_key.unique())"
   ]
  },
  {
   "cell_type": "code",
   "execution_count": 55,
   "id": "6d3e14b6-bfa1-4503-ac1c-71fa4575f5d7",
   "metadata": {
    "tags": []
   },
   "outputs": [
    {
     "data": {
      "text/plain": [
       "['8fc9cfe86b4e9e8c7cf508b2486605f1']"
      ]
     },
     "execution_count": 55,
     "metadata": {},
     "output_type": "execute_result"
    }
   ],
   "source": [
    "feed_keys_list"
   ]
  },
  {
   "cell_type": "code",
   "execution_count": 56,
   "id": "6e4bf347-9dff-49bd-9ab3-56cc46cbcc6c",
   "metadata": {
    "tags": []
   },
   "outputs": [],
   "source": [
    "trips = helpers.import_scheduled_trips(\n",
    "    analysis_date,\n",
    "    columns=[\n",
    "        \"gtfs_dataset_key\",\n",
    "        \"feed_key\",\n",
    "        \"trip_id\",\n",
    "        \"trip_instance_key\",\n",
    "        \"shape_array_key\",\n",
    "    ],\n",
    "    get_pandas=True,\n",
    ")"
   ]
  },
  {
   "cell_type": "code",
   "execution_count": 57,
   "id": "8a0413ce-4af9-4309-a1d0-2fdc4fe35227",
   "metadata": {
    "tags": []
   },
   "outputs": [],
   "source": [
    "trips = trips.loc[trips.feed_key.isin(feed_keys_list)]"
   ]
  },
  {
   "cell_type": "code",
   "execution_count": 58,
   "id": "33d09e6b-09ae-43de-819a-5b610dd2c98f",
   "metadata": {
    "tags": []
   },
   "outputs": [
    {
     "data": {
      "text/plain": [
       "202"
      ]
     },
     "execution_count": 58,
     "metadata": {},
     "output_type": "execute_result"
    }
   ],
   "source": [
    "len(trips)"
   ]
  },
  {
   "cell_type": "code",
   "execution_count": 60,
   "id": "86cb4f7e-768a-4b55-8bd6-247008f8ab6a",
   "metadata": {
    "tags": []
   },
   "outputs": [
    {
     "data": {
      "text/plain": [
       "1"
      ]
     },
     "execution_count": 60,
     "metadata": {},
     "output_type": "execute_result"
    }
   ],
   "source": [
    "trips.feed_key.nunique()"
   ]
  },
  {
   "cell_type": "code",
   "execution_count": 59,
   "id": "79c5f5c1-dc0c-4c96-b835-7580e45bf12a",
   "metadata": {},
   "outputs": [
    {
     "ename": "NameError",
     "evalue": "name 'stop' is not defined",
     "output_type": "error",
     "traceback": [
      "\u001b[0;31m---------------------------------------------------------------------------\u001b[0m",
      "\u001b[0;31mNameError\u001b[0m                                 Traceback (most recent call last)",
      "Cell \u001b[0;32mIn[59], line 1\u001b[0m\n\u001b[0;32m----> 1\u001b[0m \u001b[43mstop\u001b[49m\n",
      "\u001b[0;31mNameError\u001b[0m: name 'stop' is not defined"
     ]
    }
   ],
   "source": [
    "stop"
   ]
  },
  {
   "cell_type": "markdown",
   "id": "4dbc0e51-84d7-41fd-ab30-2224a1ad1825",
   "metadata": {},
   "source": [
    "#### Stops - Metrolink is also gone."
   ]
  },
  {
   "cell_type": "code",
   "execution_count": 61,
   "id": "8b9ab1d4-e741-4950-8e75-40e78abe3ea7",
   "metadata": {
    "tags": []
   },
   "outputs": [],
   "source": [
    "stops = helpers.import_scheduled_stops(\n",
    "    analysis_date,\n",
    "    columns=[\"feed_key\", \"stop_id\", \"stop_name\", \"geometry\"],\n",
    "    crs=PROJECT_CRS,\n",
    "    get_pandas=True,\n",
    ")"
   ]
  },
  {
   "cell_type": "code",
   "execution_count": 62,
   "id": "2fac08e2-1dbe-426d-a42a-cea4a34b4d3b",
   "metadata": {
    "tags": []
   },
   "outputs": [],
   "source": [
    "stops = stops.loc[stops.feed_key.isin(feed_keys_list)]"
   ]
  },
  {
   "cell_type": "code",
   "execution_count": 63,
   "id": "414b52ef-6dba-4a96-8d32-305dd3caada8",
   "metadata": {
    "tags": []
   },
   "outputs": [
    {
     "data": {
      "text/plain": [
       "66"
      ]
     },
     "execution_count": 63,
     "metadata": {},
     "output_type": "execute_result"
    }
   ],
   "source": [
    "len(stops)"
   ]
  },
  {
   "cell_type": "code",
   "execution_count": 64,
   "id": "c1b80f59-ecc2-4164-bed5-9895a125257f",
   "metadata": {
    "tags": []
   },
   "outputs": [
    {
     "data": {
      "text/plain": [
       "1"
      ]
     },
     "execution_count": 64,
     "metadata": {},
     "output_type": "execute_result"
    }
   ],
   "source": [
    "stops.feed_key.nunique()"
   ]
  },
  {
   "cell_type": "code",
   "execution_count": 88,
   "id": "f5aa235d-d072-47b2-b5fa-6e2dfaa48b74",
   "metadata": {
    "tags": []
   },
   "outputs": [
    {
     "data": {
      "text/plain": [
       "array(['8fc9cfe86b4e9e8c7cf508b2486605f1'], dtype=object)"
      ]
     },
     "execution_count": 88,
     "metadata": {},
     "output_type": "execute_result"
    }
   ],
   "source": [
    "stops.feed_key.unique()"
   ]
  },
  {
   "cell_type": "markdown",
   "id": "f1e1377c-d4a6-4a26-a986-89e55e325a51",
   "metadata": {},
   "source": [
    "#### Stop_times - everything is here. "
   ]
  },
  {
   "cell_type": "code",
   "execution_count": 65,
   "id": "a8130588-2065-4c80-93a1-7c35a9c9fc82",
   "metadata": {
    "tags": []
   },
   "outputs": [],
   "source": [
    "stop_times = helpers.import_scheduled_stop_times(\n",
    "    analysis_date,\n",
    "    columns=[\"feed_key\", \"trip_id\", \"stop_id\", \"stop_sequence\"],\n",
    "    get_pandas=True,\n",
    ")"
   ]
  },
  {
   "cell_type": "code",
   "execution_count": 66,
   "id": "42cb64e5-745a-40f3-80b4-4bb7ebcff6a8",
   "metadata": {
    "tags": []
   },
   "outputs": [],
   "source": [
    "stop_times = stop_times.loc[stop_times.feed_key.isin(feed_keys_list)]"
   ]
  },
  {
   "cell_type": "code",
   "execution_count": 67,
   "id": "d96d3009-e7bb-48a6-b940-faab6b44e6c0",
   "metadata": {
    "tags": []
   },
   "outputs": [
    {
     "data": {
      "text/plain": [
       "2053"
      ]
     },
     "execution_count": 67,
     "metadata": {},
     "output_type": "execute_result"
    }
   ],
   "source": [
    "len(stop_times)"
   ]
  },
  {
   "cell_type": "code",
   "execution_count": 68,
   "id": "05f06b61-1572-4748-b3a8-8e9453c6b539",
   "metadata": {
    "tags": []
   },
   "outputs": [],
   "source": [
    "import stop_times_with_direction"
   ]
  },
  {
   "cell_type": "code",
   "execution_count": 69,
   "id": "faf1fbcf-e2a1-4dd4-9f5b-f72923cd7e9a",
   "metadata": {
    "tags": []
   },
   "outputs": [],
   "source": [
    "stop_times2 = stop_times.pipe(stop_times_with_direction.keep_first_trip, analysis_date)"
   ]
  },
  {
   "cell_type": "code",
   "execution_count": 70,
   "id": "9483e200-fb90-4ce7-ac80-b4cd19718a07",
   "metadata": {
    "tags": []
   },
   "outputs": [
    {
     "data": {
      "text/plain": [
       "2053"
      ]
     },
     "execution_count": 70,
     "metadata": {},
     "output_type": "execute_result"
    }
   ],
   "source": [
    "len(stop_times2)"
   ]
  },
  {
   "cell_type": "code",
   "execution_count": 71,
   "id": "4b2db328-1ba3-45f3-a6e1-8a7120b9ed2d",
   "metadata": {
    "tags": []
   },
   "outputs": [
    {
     "data": {
      "text/plain": [
       "array(['8fc9cfe86b4e9e8c7cf508b2486605f1'], dtype=object)"
      ]
     },
     "execution_count": 71,
     "metadata": {},
     "output_type": "execute_result"
    }
   ],
   "source": [
    "stop_times2.feed_key.unique()"
   ]
  },
  {
   "cell_type": "markdown",
   "id": "341b60ff-3251-4203-8915-d347dc27e80e",
   "metadata": {},
   "source": [
    "#### Line 47 merge"
   ]
  },
  {
   "cell_type": "code",
   "execution_count": 73,
   "id": "ed73e52f-21ca-4596-9bd2-31d27ec439d1",
   "metadata": {
    "tags": []
   },
   "outputs": [],
   "source": [
    "st_with_trip = pd.merge(stop_times, trips, on=[\"feed_key\", \"trip_id\"], how=\"inner\")"
   ]
  },
  {
   "cell_type": "code",
   "execution_count": 74,
   "id": "5d8187aa-6a83-4e26-8c0a-91c664fc82ac",
   "metadata": {
    "tags": []
   },
   "outputs": [
    {
     "data": {
      "text/plain": [
       "2053"
      ]
     },
     "execution_count": 74,
     "metadata": {},
     "output_type": "execute_result"
    }
   ],
   "source": [
    "len(st_with_trip)"
   ]
  },
  {
   "cell_type": "code",
   "execution_count": 75,
   "id": "f8c63424-39df-4603-a69e-61c20ba5c7f5",
   "metadata": {
    "tags": []
   },
   "outputs": [],
   "source": [
    "st_with_stop = pd.merge(\n",
    "    st_with_trip, stops, on=[\"feed_key\", \"stop_id\"], how=\"inner\"\n",
    ").drop(columns=[\"trip_id\"])"
   ]
  },
  {
   "cell_type": "code",
   "execution_count": 76,
   "id": "529ce2d0-d400-48b9-8601-40a12f035e48",
   "metadata": {
    "tags": []
   },
   "outputs": [
    {
     "data": {
      "text/plain": [
       "2053"
      ]
     },
     "execution_count": 76,
     "metadata": {},
     "output_type": "execute_result"
    }
   ],
   "source": [
    "len(st_with_stop)"
   ]
  },
  {
   "cell_type": "code",
   "execution_count": 77,
   "id": "706bd895-cdb0-4804-aba1-6c5c6c00e6fe",
   "metadata": {
    "tags": []
   },
   "outputs": [],
   "source": [
    "st_with_stop = gpd.GeoDataFrame(st_with_stop, geometry=\"geometry\", crs=PROJECT_CRS)"
   ]
  },
  {
   "cell_type": "code",
   "execution_count": 84,
   "id": "549803f8-0559-4cf1-9486-cdcf59831cd7",
   "metadata": {
    "tags": []
   },
   "outputs": [
    {
     "data": {
      "text/plain": [
       "1"
      ]
     },
     "execution_count": 84,
     "metadata": {},
     "output_type": "execute_result"
    }
   ],
   "source": [
    "st_with_stop.feed_key.nunique()"
   ]
  },
  {
   "cell_type": "code",
   "execution_count": 87,
   "id": "7b6e7174-26d9-45da-9d5d-9fcae0cc33cf",
   "metadata": {
    "tags": []
   },
   "outputs": [
    {
     "data": {
      "text/plain": [
       "array(['8fc9cfe86b4e9e8c7cf508b2486605f1'], dtype=object)"
      ]
     },
     "execution_count": 87,
     "metadata": {},
     "output_type": "execute_result"
    }
   ],
   "source": [
    "st_with_stop.feed_key.unique()"
   ]
  },
  {
   "cell_type": "markdown",
   "id": "8225aca1-e124-421f-a6bc-dd5c77a0d924",
   "metadata": {},
   "source": [
    "### `stop_times_with_direction/prep_scheduled_stop_times` everything is in order here."
   ]
  },
  {
   "cell_type": "code",
   "execution_count": 78,
   "id": "063aa427-a659-4ad8-b64b-f1b30909d1b7",
   "metadata": {
    "tags": []
   },
   "outputs": [],
   "source": [
    "scheduled_stop_times = stop_times_with_direction.prep_scheduled_stop_times(\n",
    "    analysis_date\n",
    ")"
   ]
  },
  {
   "cell_type": "code",
   "execution_count": 79,
   "id": "d79b7572-9ecb-4f24-b032-c22cdc5b23de",
   "metadata": {
    "tags": []
   },
   "outputs": [],
   "source": [
    "scheduled_stop_times = scheduled_stop_times.loc[\n",
    "    scheduled_stop_times.feed_key.isin(feed_keys_list)\n",
    "]"
   ]
  },
  {
   "cell_type": "code",
   "execution_count": 80,
   "id": "10e1f3ad-b211-465c-a107-722cf0676b8f",
   "metadata": {
    "tags": []
   },
   "outputs": [
    {
     "data": {
      "text/plain": [
       "2053"
      ]
     },
     "execution_count": 80,
     "metadata": {},
     "output_type": "execute_result"
    }
   ],
   "source": [
    "len(scheduled_stop_times)"
   ]
  },
  {
   "cell_type": "code",
   "execution_count": 86,
   "id": "41f29957-82c2-4909-b0e9-6c3e2a2d4774",
   "metadata": {
    "tags": []
   },
   "outputs": [
    {
     "data": {
      "text/plain": [
       "array(['8fc9cfe86b4e9e8c7cf508b2486605f1'], dtype=object)"
      ]
     },
     "execution_count": 86,
     "metadata": {},
     "output_type": "execute_result"
    }
   ],
   "source": [
    "scheduled_stop_times.feed_key.unique()"
   ]
  },
  {
   "cell_type": "markdown",
   "id": "eceb2187-4df1-4e03-bbdb-fe626df8c181",
   "metadata": {},
   "source": [
    "### Continue with Line 251 in `stop_times_with_direction`"
   ]
  },
  {
   "cell_type": "code",
   "execution_count": 81,
   "id": "09c835b0-6534-4e81-8561-b177de12fa64",
   "metadata": {
    "tags": []
   },
   "outputs": [],
   "source": [
    "trip_cols = [\"trip_instance_key\"]\n",
    "trip_stop_cols = [\"trip_instance_key\", \"stop_sequence\"]"
   ]
  },
  {
   "cell_type": "code",
   "execution_count": 82,
   "id": "0b4095b5-d19e-4466-b3a0-c80192a8cb2e",
   "metadata": {
    "tags": []
   },
   "outputs": [],
   "source": [
    "df = (\n",
    "    stop_times_with_direction.find_prior_subseq_stop_info(\n",
    "        scheduled_stop_times,\n",
    "        analysis_date,\n",
    "        trip_cols=trip_cols,\n",
    "        trip_stop_cols=trip_stop_cols,\n",
    "    )\n",
    "    .sort_values(trip_stop_cols)\n",
    "    .reset_index(drop=True)\n",
    ")"
   ]
  },
  {
   "cell_type": "code",
   "execution_count": 83,
   "id": "029fc4a3-fe6a-4e62-97ad-6521abe5607b",
   "metadata": {
    "tags": []
   },
   "outputs": [
    {
     "data": {
      "text/plain": [
       "2053"
      ]
     },
     "execution_count": 83,
     "metadata": {},
     "output_type": "execute_result"
    }
   ],
   "source": [
    "len(df)"
   ]
  },
  {
   "cell_type": "code",
   "execution_count": 85,
   "id": "ab828730-d251-4788-b28b-9ce74d2f190e",
   "metadata": {
    "tags": []
   },
   "outputs": [
    {
     "data": {
      "text/html": [
       "<div>\n",
       "<style scoped>\n",
       "    .dataframe tbody tr th:only-of-type {\n",
       "        vertical-align: middle;\n",
       "    }\n",
       "\n",
       "    .dataframe tbody tr th {\n",
       "        vertical-align: top;\n",
       "    }\n",
       "\n",
       "    .dataframe thead th {\n",
       "        text-align: right;\n",
       "    }\n",
       "</style>\n",
       "<table border=\"1\" class=\"dataframe\">\n",
       "  <thead>\n",
       "    <tr style=\"text-align: right;\">\n",
       "      <th></th>\n",
       "      <th>feed_key</th>\n",
       "      <th>stop_id</th>\n",
       "      <th>stop_sequence</th>\n",
       "      <th>schedule_gtfs_dataset_key</th>\n",
       "      <th>trip_instance_key</th>\n",
       "      <th>shape_array_key</th>\n",
       "      <th>stop_name</th>\n",
       "      <th>geometry</th>\n",
       "      <th>stop_meters</th>\n",
       "      <th>prior_stop_sequence</th>\n",
       "      <th>subseq_stop_sequence</th>\n",
       "      <th>stop_primary_direction</th>\n",
       "      <th>stop_pair</th>\n",
       "      <th>stop_pair_name</th>\n",
       "    </tr>\n",
       "  </thead>\n",
       "  <tbody>\n",
       "    <tr>\n",
       "      <th>0</th>\n",
       "      <td>8fc9cfe86b4e9e8c7cf508b2486605f1</td>\n",
       "      <td>185</td>\n",
       "      <td>1</td>\n",
       "      <td>c4092405159366c705b62df938293a4e</td>\n",
       "      <td>01dc5389671b18ec6c00c52306792d6b</td>\n",
       "      <td>None</td>\n",
       "      <td>San Bernardino - Downtown Metrolink Station</td>\n",
       "      <td>POINT (249458.295 -431571.641)</td>\n",
       "      <td>NaN</td>\n",
       "      <td>NaN</td>\n",
       "      <td>2.00</td>\n",
       "      <td>Unknown</td>\n",
       "      <td>185__124</td>\n",
       "      <td>San Bernardino - Downtown Metrolink Station__San Bernardino Depot Metrolink Station</td>\n",
       "    </tr>\n",
       "  </tbody>\n",
       "</table>\n",
       "</div>"
      ],
      "text/plain": [
       "                           feed_key stop_id  stop_sequence  \\\n",
       "0  8fc9cfe86b4e9e8c7cf508b2486605f1     185              1   \n",
       "\n",
       "          schedule_gtfs_dataset_key                 trip_instance_key  \\\n",
       "0  c4092405159366c705b62df938293a4e  01dc5389671b18ec6c00c52306792d6b   \n",
       "\n",
       "  shape_array_key                                    stop_name  \\\n",
       "0            None  San Bernardino - Downtown Metrolink Station   \n",
       "\n",
       "                         geometry  stop_meters  prior_stop_sequence  \\\n",
       "0  POINT (249458.295 -431571.641)          NaN                  NaN   \n",
       "\n",
       "   subseq_stop_sequence stop_primary_direction stop_pair  \\\n",
       "0                  2.00                Unknown  185__124   \n",
       "\n",
       "                                                                        stop_pair_name  \n",
       "0  San Bernardino - Downtown Metrolink Station__San Bernardino Depot Metrolink Station  "
      ]
     },
     "execution_count": 85,
     "metadata": {},
     "output_type": "execute_result"
    }
   ],
   "source": [
    "df.head(1)"
   ]
  },
  {
   "cell_type": "code",
   "execution_count": 89,
   "id": "f850e021-4e34-4ff2-94d1-0d99ecc0ea8d",
   "metadata": {
    "tags": []
   },
   "outputs": [
    {
     "data": {
      "text/plain": [
       "array(['c4092405159366c705b62df938293a4e'], dtype=object)"
      ]
     },
     "execution_count": 89,
     "metadata": {},
     "output_type": "execute_result"
    }
   ],
   "source": [
    "df.schedule_gtfs_dataset_key.unique()"
   ]
  }
 ],
 "metadata": {
  "kernelspec": {
   "display_name": "Python 3 (ipykernel)",
   "language": "python",
   "name": "python3"
  },
  "language_info": {
   "codemirror_mode": {
    "name": "ipython",
    "version": 3
   },
   "file_extension": ".py",
   "mimetype": "text/x-python",
   "name": "python",
   "nbconvert_exporter": "python",
   "pygments_lexer": "ipython3",
   "version": "3.11.10"
  }
 },
 "nbformat": 4,
 "nbformat_minor": 5
}
