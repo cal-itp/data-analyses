{
 "cells": [
  {
   "cell_type": "markdown",
   "id": "6c3c6ddf-6e32-44a5-8a4c-925608fe67af",
   "metadata": {},
   "source": [
    "# Research Request - GTFS Digest: Add Rail and Ferry Operators. #1386\n",
    "# Focus on Rail here. \n",
    "\n",
    "* Why is Amtrak \"schedule_only\"? I thought it had a real time component?\n",
    "    * 3/3: no reports.calitp.org indicates it has no real time data. \n",
    "* Understand why Southern California Regional Rail Authority \t & San Bernardino County Transportation Authority \tare still \"vp_only\" after all the other operators have been fixed.\n",
    "* Visualize rail routes differently for operators with both? "
   ]
  },
  {
   "cell_type": "code",
   "execution_count": 1,
   "id": "009045ef-d1d7-4163-a5fd-011774b0be99",
   "metadata": {},
   "outputs": [],
   "source": [
    "import _section1_utils as section1\n",
    "import _section2_utils as section2\n",
    "import geopandas as gpd\n",
    "import merge_data\n",
    "import merge_operator_data\n",
    "import numpy as np\n",
    "import pandas as pd\n",
    "import geopandas as gpd\n",
    "from segment_speed_utils import gtfs_schedule_wrangling, helpers\n",
    "from segment_speed_utils.project_vars import COMPILED_CACHED_VIEWS, PROJECT_CRS\n",
    "from shared_utils import catalog_utils, portfolio_utils, rt_dates\n",
    "from update_vars import GTFS_DATA_DICT, RT_SCHED_GCS, SCHED_GCS, SEGMENT_GCS"
   ]
  },
  {
   "cell_type": "code",
   "execution_count": 2,
   "id": "cc01dd63-813b-49e8-84ba-4c0f5a4c3d7b",
   "metadata": {
    "tags": []
   },
   "outputs": [],
   "source": [
    "pd.options.display.max_columns = 100\n",
    "pd.options.display.float_format = \"{:.2f}\".format\n",
    "pd.set_option(\"display.max_rows\", None)\n",
    "pd.set_option(\"display.max_colwidth\", None)"
   ]
  },
  {
   "cell_type": "code",
   "execution_count": 3,
   "id": "f5e9b224-ba48-4e60-9869-7f7c4ffd93e8",
   "metadata": {
    "tags": []
   },
   "outputs": [],
   "source": [
    "analysis_date_list = [rt_dates.DATES[\"feb2025\"]]"
   ]
  },
  {
   "cell_type": "code",
   "execution_count": 4,
   "id": "4c2199f3-a16b-4a0f-b396-e8d58e1fe3c1",
   "metadata": {
    "tags": []
   },
   "outputs": [],
   "source": [
    "analysis_date = rt_dates.DATES[\"feb2025\"]"
   ]
  },
  {
   "cell_type": "code",
   "execution_count": 5,
   "id": "4c4a7519-4cb0-4646-84f3-c1b67f5f3570",
   "metadata": {
    "tags": []
   },
   "outputs": [],
   "source": [
    "schd_vp_url = f\"{GTFS_DATA_DICT.digest_tables.dir}{GTFS_DATA_DICT.digest_tables.route_schedule_vp}.parquet\""
   ]
  },
  {
   "cell_type": "code",
   "execution_count": 6,
   "id": "c48ddfa6-496c-4462-99f0-c7c258bb5adb",
   "metadata": {
    "tags": []
   },
   "outputs": [],
   "source": [
    "EXPORT = GTFS_DATA_DICT.schedule_tables.route_typologies"
   ]
  },
  {
   "cell_type": "code",
   "execution_count": 7,
   "id": "1d1e6919-605f-44dd-89dd-5c87b4419d52",
   "metadata": {
    "tags": []
   },
   "outputs": [],
   "source": [
    "route_typologies = pd.read_parquet(f\"{SCHED_GCS}{EXPORT}_{analysis_date}.parquet\")"
   ]
  },
  {
   "cell_type": "code",
   "execution_count": 8,
   "id": "78b897c4-db89-4dbb-9be9-958129e51741",
   "metadata": {
    "tags": []
   },
   "outputs": [],
   "source": [
    "schd_vp_df = pd.read_parquet(\n",
    "    schd_vp_url,\n",
    "    columns=[\n",
    "        \"schedule_gtfs_dataset_key\",\n",
    "        \"caltrans_district\",\n",
    "        \"organization_name\",\n",
    "        \"name\",\n",
    "        \"sched_rt_category\",\n",
    "        \"service_date\",\n",
    "    ],\n",
    ")"
   ]
  },
  {
   "cell_type": "code",
   "execution_count": 9,
   "id": "b842f505-0d86-432e-994e-2dfdbe3c88fd",
   "metadata": {
    "tags": []
   },
   "outputs": [],
   "source": [
    "# Filter for Jan and Feb\n",
    "schd_vp_df2 = schd_vp_df.loc[\n",
    "    (schd_vp_df.service_date == \"2025-02-12\")\n",
    "]"
   ]
  },
  {
   "cell_type": "code",
   "execution_count": 10,
   "id": "e847cb87-6ead-4fa4-8ed7-a7946e828332",
   "metadata": {
    "scrolled": true,
    "tags": []
   },
   "outputs": [],
   "source": [
    "# Drop duplicates\n",
    "schd_vp_df3 = (\n",
    "    schd_vp_df2[\n",
    "        [\n",
    "            \"schedule_gtfs_dataset_key\",\n",
    "            \"organization_name\",\n",
    "            \"service_date\",\n",
    "            \"sched_rt_category\",\n",
    "            \"caltrans_district\",\n",
    "        ]\n",
    "    ]\n",
    "    .drop_duplicates(subset=[\"organization_name\"])\n",
    "    .sort_values(by=[\"organization_name\"])\n",
    ")"
   ]
  },
  {
   "cell_type": "code",
   "execution_count": 11,
   "id": "e52bf377-224a-436b-8e31-a1e39a956ee9",
   "metadata": {
    "tags": []
   },
   "outputs": [
    {
     "data": {
      "text/plain": [
       "schedule_and_vp    104\n",
       "schedule_only       86\n",
       "vp_only              2\n",
       "Name: sched_rt_category, dtype: int64"
      ]
     },
     "execution_count": 11,
     "metadata": {},
     "output_type": "execute_result"
    }
   ],
   "source": [
    "schd_vp_df3.sched_rt_category.value_counts()"
   ]
  },
  {
   "cell_type": "markdown",
   "id": "97a2e002-df1e-43c5-af57-f447ae4d14a3",
   "metadata": {},
   "source": [
    "## Trying to undestand why Southern California Regional Rail Authority \t & San Bernardino County Transportation Authority \tare still \"vp_only\" after all the other operators have been fixed."
   ]
  },
  {
   "cell_type": "code",
   "execution_count": 12,
   "id": "acacc176-64aa-4c96-8b29-bd76e1b72e42",
   "metadata": {
    "tags": []
   },
   "outputs": [],
   "source": [
    "vp_only_ops = list(\n",
    "    schd_vp_df3.loc[\n",
    "        schd_vp_df3.sched_rt_category == \"vp_only\"\n",
    "    ].organization_name.unique()\n",
    ")"
   ]
  },
  {
   "cell_type": "code",
   "execution_count": 13,
   "id": "1cab4a8a-f1fc-4a17-90c2-6964cc8a6c12",
   "metadata": {
    "tags": []
   },
   "outputs": [],
   "source": [
    "vp_only_ops_df = schd_vp_df.loc[schd_vp_df.organization_name.isin(vp_only_ops)]"
   ]
  },
  {
   "cell_type": "code",
   "execution_count": 14,
   "id": "71269795-0a9c-4406-9b34-0510a4105023",
   "metadata": {
    "tags": []
   },
   "outputs": [],
   "source": [
    "vp_only_ops_sched_keys = list(vp_only_ops_df.schedule_gtfs_dataset_key.unique())"
   ]
  },
  {
   "cell_type": "code",
   "execution_count": 15,
   "id": "6cae3e3a-6953-4f7c-88c2-63cf743f5f58",
   "metadata": {
    "tags": []
   },
   "outputs": [
    {
     "data": {
      "text/html": [
       "<div>\n",
       "<style scoped>\n",
       "    .dataframe tbody tr th:only-of-type {\n",
       "        vertical-align: middle;\n",
       "    }\n",
       "\n",
       "    .dataframe tbody tr th {\n",
       "        vertical-align: top;\n",
       "    }\n",
       "\n",
       "    .dataframe thead th {\n",
       "        text-align: right;\n",
       "    }\n",
       "</style>\n",
       "<table border=\"1\" class=\"dataframe\">\n",
       "  <thead>\n",
       "    <tr style=\"text-align: right;\">\n",
       "      <th></th>\n",
       "      <th></th>\n",
       "      <th></th>\n",
       "      <th>service_date</th>\n",
       "    </tr>\n",
       "    <tr>\n",
       "      <th>caltrans_district</th>\n",
       "      <th>organization_name</th>\n",
       "      <th>sched_rt_category</th>\n",
       "      <th></th>\n",
       "    </tr>\n",
       "  </thead>\n",
       "  <tbody>\n",
       "    <tr>\n",
       "      <th rowspan=\"6\" valign=\"top\">07 - Los Angeles</th>\n",
       "      <th rowspan=\"3\" valign=\"top\">San Bernardino County Transportation Authority</th>\n",
       "      <th>schedule_only</th>\n",
       "      <td>NaT</td>\n",
       "    </tr>\n",
       "    <tr>\n",
       "      <th>vp_only</th>\n",
       "      <td>NaT</td>\n",
       "    </tr>\n",
       "    <tr>\n",
       "      <th>schedule_and_vp</th>\n",
       "      <td>NaT</td>\n",
       "    </tr>\n",
       "    <tr>\n",
       "      <th rowspan=\"3\" valign=\"top\">Southern California Regional Rail Authority</th>\n",
       "      <th>schedule_only</th>\n",
       "      <td>2024-06-12</td>\n",
       "    </tr>\n",
       "    <tr>\n",
       "      <th>vp_only</th>\n",
       "      <td>2024-12-11</td>\n",
       "    </tr>\n",
       "    <tr>\n",
       "      <th>schedule_and_vp</th>\n",
       "      <td>2024-06-12</td>\n",
       "    </tr>\n",
       "    <tr>\n",
       "      <th rowspan=\"6\" valign=\"top\">07 - Los Angeles / Ventura</th>\n",
       "      <th rowspan=\"3\" valign=\"top\">San Bernardino County Transportation Authority</th>\n",
       "      <th>schedule_only</th>\n",
       "      <td>NaT</td>\n",
       "    </tr>\n",
       "    <tr>\n",
       "      <th>vp_only</th>\n",
       "      <td>NaT</td>\n",
       "    </tr>\n",
       "    <tr>\n",
       "      <th>schedule_and_vp</th>\n",
       "      <td>NaT</td>\n",
       "    </tr>\n",
       "    <tr>\n",
       "      <th rowspan=\"3\" valign=\"top\">Southern California Regional Rail Authority</th>\n",
       "      <th>schedule_only</th>\n",
       "      <td>NaT</td>\n",
       "    </tr>\n",
       "    <tr>\n",
       "      <th>vp_only</th>\n",
       "      <td>2025-02-12</td>\n",
       "    </tr>\n",
       "    <tr>\n",
       "      <th>schedule_and_vp</th>\n",
       "      <td>NaT</td>\n",
       "    </tr>\n",
       "    <tr>\n",
       "      <th rowspan=\"6\" valign=\"top\">08 - San Bernardino</th>\n",
       "      <th rowspan=\"3\" valign=\"top\">San Bernardino County Transportation Authority</th>\n",
       "      <th>schedule_only</th>\n",
       "      <td>2024-06-12</td>\n",
       "    </tr>\n",
       "    <tr>\n",
       "      <th>vp_only</th>\n",
       "      <td>2025-02-12</td>\n",
       "    </tr>\n",
       "    <tr>\n",
       "      <th>schedule_and_vp</th>\n",
       "      <td>2024-06-12</td>\n",
       "    </tr>\n",
       "    <tr>\n",
       "      <th rowspan=\"3\" valign=\"top\">Southern California Regional Rail Authority</th>\n",
       "      <th>schedule_only</th>\n",
       "      <td>NaT</td>\n",
       "    </tr>\n",
       "    <tr>\n",
       "      <th>vp_only</th>\n",
       "      <td>NaT</td>\n",
       "    </tr>\n",
       "    <tr>\n",
       "      <th>schedule_and_vp</th>\n",
       "      <td>NaT</td>\n",
       "    </tr>\n",
       "  </tbody>\n",
       "</table>\n",
       "</div>"
      ],
      "text/plain": [
       "                                                                                            service_date\n",
       "caltrans_district          organization_name                              sched_rt_category             \n",
       "07 - Los Angeles           San Bernardino County Transportation Authority schedule_only              NaT\n",
       "                                                                          vp_only                    NaT\n",
       "                                                                          schedule_and_vp            NaT\n",
       "                           Southern California Regional Rail Authority    schedule_only       2024-06-12\n",
       "                                                                          vp_only             2024-12-11\n",
       "                                                                          schedule_and_vp     2024-06-12\n",
       "07 - Los Angeles / Ventura San Bernardino County Transportation Authority schedule_only              NaT\n",
       "                                                                          vp_only                    NaT\n",
       "                                                                          schedule_and_vp            NaT\n",
       "                           Southern California Regional Rail Authority    schedule_only              NaT\n",
       "                                                                          vp_only             2025-02-12\n",
       "                                                                          schedule_and_vp            NaT\n",
       "08 - San Bernardino        San Bernardino County Transportation Authority schedule_only       2024-06-12\n",
       "                                                                          vp_only             2025-02-12\n",
       "                                                                          schedule_and_vp     2024-06-12\n",
       "                           Southern California Regional Rail Authority    schedule_only              NaT\n",
       "                                                                          vp_only                    NaT\n",
       "                                                                          schedule_and_vp            NaT"
      ]
     },
     "execution_count": 15,
     "metadata": {},
     "output_type": "execute_result"
    }
   ],
   "source": [
    "vp_only_ops_df.groupby([\"caltrans_district\",\"organization_name\", \"sched_rt_category\"]).agg(\n",
    "    {\"service_date\": \"max\"}\n",
    ")"
   ]
  },
  {
   "cell_type": "markdown",
   "id": "db103006-c5e0-4dcb-aa8b-ab1437fb8be8",
   "metadata": {},
   "source": [
    "## Go back to  `schedule_metrics_by_route_direction`"
   ]
  },
  {
   "cell_type": "code",
   "execution_count": 16,
   "id": "11b6acd7-4ebf-42fd-9987-d99580e5ce6f",
   "metadata": {
    "tags": []
   },
   "outputs": [],
   "source": [
    "import sys\n",
    "\n",
    "sys.path.append(\"../gtfs_funnel/\")\n",
    "import schedule_stats_by_route_direction"
   ]
  },
  {
   "cell_type": "code",
   "execution_count": 17,
   "id": "857361d5-ae90-45ee-885f-c855c0ff7f71",
   "metadata": {
    "tags": []
   },
   "outputs": [],
   "source": [
    "route_group_merge_cols = [\n",
    "            \"schedule_gtfs_dataset_key\", \n",
    "            \"route_id\", \n",
    "            \"direction_id\"\n",
    "        ]\n",
    "        "
   ]
  },
  {
   "cell_type": "markdown",
   "id": "69f205e3-0c1a-4e22-be5e-aa1b34a345f4",
   "metadata": {},
   "source": [
    "### The two operators are already disappearing in the `trip_metrics` line 203. "
   ]
  },
  {
   "cell_type": "code",
   "execution_count": 18,
   "id": "822e212c-048d-4290-ad0b-fa30c96f2a91",
   "metadata": {
    "tags": []
   },
   "outputs": [],
   "source": [
    "trip_metrics = schedule_stats_by_route_direction.assemble_scheduled_trip_metrics(\n",
    "    analysis_date, GTFS_DATA_DICT\n",
    ")"
   ]
  },
  {
   "cell_type": "code",
   "execution_count": 19,
   "id": "d8a4ef30-7366-416b-8b53-e1e298fb2d50",
   "metadata": {
    "tags": []
   },
   "outputs": [],
   "source": [
    "trip_metrics = trip_metrics.loc[\n",
    "    trip_metrics.schedule_gtfs_dataset_key.isin(vp_only_ops_sched_keys)\n",
    "]"
   ]
  },
  {
   "cell_type": "code",
   "execution_count": 20,
   "id": "97b5064f-eed9-4d98-a033-c7c043840a39",
   "metadata": {
    "tags": []
   },
   "outputs": [
    {
     "data": {
      "text/plain": [
       "['759ad28de7d4bb8b2bf9bb7d83655100', 'c4092405159366c705b62df938293a4e']"
      ]
     },
     "execution_count": 20,
     "metadata": {},
     "output_type": "execute_result"
    }
   ],
   "source": [
    "vp_only_ops_sched_keys"
   ]
  },
  {
   "cell_type": "markdown",
   "id": "5aefd52c-1b72-47c0-86c7-d81c39d44027",
   "metadata": {},
   "source": [
    "### Operators are already gone in `STOP_TIMES_FILE` in line 21."
   ]
  },
  {
   "cell_type": "code",
   "execution_count": 21,
   "id": "e1396d10-73a6-41b1-9521-442dcd2e5c76",
   "metadata": {
    "tags": []
   },
   "outputs": [],
   "source": [
    "STOP_TIMES_FILE = GTFS_DATA_DICT.rt_vs_schedule_tables.stop_times_direction"
   ]
  },
  {
   "cell_type": "code",
   "execution_count": 22,
   "id": "da520797-4e9a-46b2-898a-f44ba3cc2447",
   "metadata": {
    "tags": []
   },
   "outputs": [],
   "source": [
    "df = gpd.read_parquet(\n",
    "        f\"{RT_SCHED_GCS}{STOP_TIMES_FILE}_{analysis_date}.parquet\"\n",
    "    )"
   ]
  },
  {
   "cell_type": "code",
   "execution_count": 23,
   "id": "a55245da-7527-4cb8-bee3-83485fb86bec",
   "metadata": {
    "tags": []
   },
   "outputs": [],
   "source": [
    "df = df.loc[\n",
    "    df.schedule_gtfs_dataset_key.isin(vp_only_ops_sched_keys)\n",
    "]"
   ]
  },
  {
   "cell_type": "code",
   "execution_count": 24,
   "id": "8e41d767-387f-45f4-9c5c-319c4ed2bc1e",
   "metadata": {
    "tags": []
   },
   "outputs": [
    {
     "data": {
      "text/plain": [
       "0"
      ]
     },
     "execution_count": 24,
     "metadata": {},
     "output_type": "execute_result"
    }
   ],
   "source": [
    "len(df)"
   ]
  }
 ],
 "metadata": {
  "kernelspec": {
   "display_name": "Python 3 (ipykernel)",
   "language": "python",
   "name": "python3"
  },
  "language_info": {
   "codemirror_mode": {
    "name": "ipython",
    "version": 3
   },
   "file_extension": ".py",
   "mimetype": "text/x-python",
   "name": "python",
   "nbconvert_exporter": "python",
   "pygments_lexer": "ipython3",
   "version": "3.11.10"
  }
 },
 "nbformat": 4,
 "nbformat_minor": 5
}
