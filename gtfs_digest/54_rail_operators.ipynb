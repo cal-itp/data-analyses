{
 "cells": [
  {
   "cell_type": "markdown",
   "id": "6c3c6ddf-6e32-44a5-8a4c-925608fe67af",
   "metadata": {},
   "source": [
    "# Research Request - GTFS Digest: Add Rail and Ferry Operators. #1386\n",
    "# Focus on Rail here. \n",
    "\n",
    "* Why is Amtrak \"schedule_only\"? I thought it had a real time component?\n",
    "    * 3/3: no reports.calitp.org indicates it has no real time data. \n",
    "* Understand why Southern California Regional Rail Authority \t & San Bernardino County Transportation Authority \tare still \"vp_only\" after all the other operators have been fixed.\n",
    "* Visualize rail routes differently for operators with both? "
   ]
  },
  {
   "cell_type": "code",
   "execution_count": 1,
   "id": "009045ef-d1d7-4163-a5fd-011774b0be99",
   "metadata": {},
   "outputs": [],
   "source": [
    "import _section1_utils as section1\n",
    "import _section2_utils as section2\n",
    "import geopandas as gpd\n",
    "import merge_data\n",
    "import merge_operator_data\n",
    "import numpy as np\n",
    "import pandas as pd\n",
    "import geopandas as gpd\n",
    "from segment_speed_utils import gtfs_schedule_wrangling, helpers\n",
    "from segment_speed_utils.project_vars import COMPILED_CACHED_VIEWS, PROJECT_CRS\n",
    "from shared_utils import catalog_utils, portfolio_utils, rt_dates\n",
    "from update_vars import GTFS_DATA_DICT, RT_SCHED_GCS, SCHED_GCS, SEGMENT_GCS"
   ]
  },
  {
   "cell_type": "code",
   "execution_count": 2,
   "id": "cc01dd63-813b-49e8-84ba-4c0f5a4c3d7b",
   "metadata": {
    "tags": []
   },
   "outputs": [],
   "source": [
    "pd.options.display.max_columns = 100\n",
    "pd.options.display.float_format = \"{:.2f}\".format\n",
    "pd.set_option(\"display.max_rows\", None)\n",
    "pd.set_option(\"display.max_colwidth\", None)"
   ]
  },
  {
   "cell_type": "code",
   "execution_count": 3,
   "id": "f5e9b224-ba48-4e60-9869-7f7c4ffd93e8",
   "metadata": {
    "tags": []
   },
   "outputs": [],
   "source": [
    "analysis_date_list = [rt_dates.DATES[\"feb2025\"]]"
   ]
  },
  {
   "cell_type": "code",
   "execution_count": 4,
   "id": "4c2199f3-a16b-4a0f-b396-e8d58e1fe3c1",
   "metadata": {
    "tags": []
   },
   "outputs": [],
   "source": [
    "analysis_date = rt_dates.DATES[\"feb2025\"]"
   ]
  },
  {
   "cell_type": "code",
   "execution_count": 5,
   "id": "4c4a7519-4cb0-4646-84f3-c1b67f5f3570",
   "metadata": {
    "tags": []
   },
   "outputs": [],
   "source": [
    "schd_vp_url = f\"{GTFS_DATA_DICT.digest_tables.dir}{GTFS_DATA_DICT.digest_tables.route_schedule_vp}.parquet\""
   ]
  },
  {
   "cell_type": "code",
   "execution_count": 6,
   "id": "c48ddfa6-496c-4462-99f0-c7c258bb5adb",
   "metadata": {
    "tags": []
   },
   "outputs": [],
   "source": [
    "EXPORT = GTFS_DATA_DICT.schedule_tables.route_typologies"
   ]
  },
  {
   "cell_type": "code",
   "execution_count": 7,
   "id": "1d1e6919-605f-44dd-89dd-5c87b4419d52",
   "metadata": {
    "tags": []
   },
   "outputs": [],
   "source": [
    "route_typologies = pd.read_parquet(f\"{SCHED_GCS}{EXPORT}_{analysis_date}.parquet\")"
   ]
  },
  {
   "cell_type": "code",
   "execution_count": 34,
   "id": "78b897c4-db89-4dbb-9be9-958129e51741",
   "metadata": {
    "tags": []
   },
   "outputs": [],
   "source": [
    "schd_vp_df = pd.read_parquet(\n",
    "    schd_vp_url,\n",
    ")"
   ]
  },
  {
   "cell_type": "code",
   "execution_count": 35,
   "id": "a79942f8-038d-4f05-b874-1ab4e937ac56",
   "metadata": {
    "tags": []
   },
   "outputs": [
    {
     "data": {
      "text/plain": [
       "Index(['schedule_gtfs_dataset_key', 'direction_id', 'time_period',\n",
       "       'avg_scheduled_service_minutes', 'avg_stop_miles', 'n_scheduled_trips',\n",
       "       'frequency', 'is_express', 'is_rapid', 'is_rail', 'is_coverage',\n",
       "       'is_downtown_local', 'is_local', 'service_date', 'typology',\n",
       "       'minutes_atleast1_vp', 'minutes_atleast2_vp',\n",
       "       'total_rt_service_minutes', 'total_scheduled_service_minutes',\n",
       "       'total_vp', 'vp_in_shape', 'is_early', 'is_ontime', 'is_late',\n",
       "       'n_vp_trips', 'vp_per_minute', 'pct_in_shape',\n",
       "       'pct_rt_journey_atleast1_vp', 'pct_rt_journey_atleast2_vp',\n",
       "       'pct_sched_journey_atleast1_vp', 'pct_sched_journey_atleast2_vp',\n",
       "       'rt_sched_journey_ratio', 'avg_rt_service_minutes', 'sched_rt_category',\n",
       "       'speed_mph', 'route_long_name', 'route_short_name',\n",
       "       'route_combined_name', 'route_id', 'base64_url',\n",
       "       'organization_source_record_id', 'organization_name',\n",
       "       'caltrans_district', 'route_primary_direction', 'name',\n",
       "       'schedule_source_record_id'],\n",
       "      dtype='object')"
      ]
     },
     "execution_count": 35,
     "metadata": {},
     "output_type": "execute_result"
    }
   ],
   "source": [
    "schd_vp_df.columns"
   ]
  },
  {
   "cell_type": "code",
   "execution_count": 9,
   "id": "b842f505-0d86-432e-994e-2dfdbe3c88fd",
   "metadata": {
    "tags": []
   },
   "outputs": [],
   "source": [
    "# Filter for Jan and Feb\n",
    "schd_vp_df2 = schd_vp_df.loc[\n",
    "    (schd_vp_df.service_date == \"2025-02-12\")\n",
    "]"
   ]
  },
  {
   "cell_type": "code",
   "execution_count": 10,
   "id": "e847cb87-6ead-4fa4-8ed7-a7946e828332",
   "metadata": {
    "scrolled": true,
    "tags": []
   },
   "outputs": [],
   "source": [
    "# Drop duplicates\n",
    "schd_vp_df3 = (\n",
    "    schd_vp_df2[\n",
    "        [\n",
    "            \"schedule_gtfs_dataset_key\",\n",
    "            \"organization_name\",\n",
    "            \"service_date\",\n",
    "            \"sched_rt_category\",\n",
    "            \"caltrans_district\",\n",
    "        ]\n",
    "    ]\n",
    "    .drop_duplicates(subset=[\"organization_name\"])\n",
    "    .sort_values(by=[\"organization_name\"])\n",
    ")"
   ]
  },
  {
   "cell_type": "code",
   "execution_count": 11,
   "id": "e52bf377-224a-436b-8e31-a1e39a956ee9",
   "metadata": {
    "tags": []
   },
   "outputs": [
    {
     "data": {
      "text/plain": [
       "schedule_and_vp    104\n",
       "schedule_only       86\n",
       "vp_only              2\n",
       "Name: sched_rt_category, dtype: int64"
      ]
     },
     "execution_count": 11,
     "metadata": {},
     "output_type": "execute_result"
    }
   ],
   "source": [
    "schd_vp_df3.sched_rt_category.value_counts()"
   ]
  },
  {
   "cell_type": "markdown",
   "id": "97a2e002-df1e-43c5-af57-f447ae4d14a3",
   "metadata": {},
   "source": [
    "## Trying to undestand why Southern California Regional Rail Authority \t & San Bernardino County Transportation Authority \tare still \"vp_only\" after all the other operators have been fixed."
   ]
  },
  {
   "cell_type": "code",
   "execution_count": 12,
   "id": "acacc176-64aa-4c96-8b29-bd76e1b72e42",
   "metadata": {
    "tags": []
   },
   "outputs": [],
   "source": [
    "vp_only_ops = list(\n",
    "    schd_vp_df3.loc[\n",
    "        schd_vp_df3.sched_rt_category == \"vp_only\"\n",
    "    ].organization_name.unique()\n",
    ")"
   ]
  },
  {
   "cell_type": "code",
   "execution_count": 13,
   "id": "1cab4a8a-f1fc-4a17-90c2-6964cc8a6c12",
   "metadata": {
    "tags": []
   },
   "outputs": [],
   "source": [
    "vp_only_ops_df = schd_vp_df.loc[schd_vp_df.organization_name.isin(vp_only_ops)]"
   ]
  },
  {
   "cell_type": "code",
   "execution_count": 14,
   "id": "71269795-0a9c-4406-9b34-0510a4105023",
   "metadata": {
    "tags": []
   },
   "outputs": [],
   "source": [
    "vp_only_ops_sched_keys = list(vp_only_ops_df.schedule_gtfs_dataset_key.unique())"
   ]
  },
  {
   "cell_type": "code",
   "execution_count": 15,
   "id": "6cae3e3a-6953-4f7c-88c2-63cf743f5f58",
   "metadata": {
    "tags": []
   },
   "outputs": [
    {
     "data": {
      "text/html": [
       "<div>\n",
       "<style scoped>\n",
       "    .dataframe tbody tr th:only-of-type {\n",
       "        vertical-align: middle;\n",
       "    }\n",
       "\n",
       "    .dataframe tbody tr th {\n",
       "        vertical-align: top;\n",
       "    }\n",
       "\n",
       "    .dataframe thead th {\n",
       "        text-align: right;\n",
       "    }\n",
       "</style>\n",
       "<table border=\"1\" class=\"dataframe\">\n",
       "  <thead>\n",
       "    <tr style=\"text-align: right;\">\n",
       "      <th></th>\n",
       "      <th></th>\n",
       "      <th></th>\n",
       "      <th>service_date</th>\n",
       "    </tr>\n",
       "    <tr>\n",
       "      <th>caltrans_district</th>\n",
       "      <th>organization_name</th>\n",
       "      <th>sched_rt_category</th>\n",
       "      <th></th>\n",
       "    </tr>\n",
       "  </thead>\n",
       "  <tbody>\n",
       "    <tr>\n",
       "      <th rowspan=\"6\" valign=\"top\">07 - Los Angeles</th>\n",
       "      <th rowspan=\"3\" valign=\"top\">San Bernardino County Transportation Authority</th>\n",
       "      <th>schedule_only</th>\n",
       "      <td>NaT</td>\n",
       "    </tr>\n",
       "    <tr>\n",
       "      <th>vp_only</th>\n",
       "      <td>NaT</td>\n",
       "    </tr>\n",
       "    <tr>\n",
       "      <th>schedule_and_vp</th>\n",
       "      <td>NaT</td>\n",
       "    </tr>\n",
       "    <tr>\n",
       "      <th rowspan=\"3\" valign=\"top\">Southern California Regional Rail Authority</th>\n",
       "      <th>schedule_only</th>\n",
       "      <td>2024-06-12</td>\n",
       "    </tr>\n",
       "    <tr>\n",
       "      <th>vp_only</th>\n",
       "      <td>2024-12-11</td>\n",
       "    </tr>\n",
       "    <tr>\n",
       "      <th>schedule_and_vp</th>\n",
       "      <td>2024-06-12</td>\n",
       "    </tr>\n",
       "    <tr>\n",
       "      <th rowspan=\"6\" valign=\"top\">07 - Los Angeles / Ventura</th>\n",
       "      <th rowspan=\"3\" valign=\"top\">San Bernardino County Transportation Authority</th>\n",
       "      <th>schedule_only</th>\n",
       "      <td>NaT</td>\n",
       "    </tr>\n",
       "    <tr>\n",
       "      <th>vp_only</th>\n",
       "      <td>NaT</td>\n",
       "    </tr>\n",
       "    <tr>\n",
       "      <th>schedule_and_vp</th>\n",
       "      <td>NaT</td>\n",
       "    </tr>\n",
       "    <tr>\n",
       "      <th rowspan=\"3\" valign=\"top\">Southern California Regional Rail Authority</th>\n",
       "      <th>schedule_only</th>\n",
       "      <td>NaT</td>\n",
       "    </tr>\n",
       "    <tr>\n",
       "      <th>vp_only</th>\n",
       "      <td>2025-02-12</td>\n",
       "    </tr>\n",
       "    <tr>\n",
       "      <th>schedule_and_vp</th>\n",
       "      <td>NaT</td>\n",
       "    </tr>\n",
       "    <tr>\n",
       "      <th rowspan=\"6\" valign=\"top\">08 - San Bernardino</th>\n",
       "      <th rowspan=\"3\" valign=\"top\">San Bernardino County Transportation Authority</th>\n",
       "      <th>schedule_only</th>\n",
       "      <td>2024-06-12</td>\n",
       "    </tr>\n",
       "    <tr>\n",
       "      <th>vp_only</th>\n",
       "      <td>2025-02-12</td>\n",
       "    </tr>\n",
       "    <tr>\n",
       "      <th>schedule_and_vp</th>\n",
       "      <td>2024-06-12</td>\n",
       "    </tr>\n",
       "    <tr>\n",
       "      <th rowspan=\"3\" valign=\"top\">Southern California Regional Rail Authority</th>\n",
       "      <th>schedule_only</th>\n",
       "      <td>NaT</td>\n",
       "    </tr>\n",
       "    <tr>\n",
       "      <th>vp_only</th>\n",
       "      <td>NaT</td>\n",
       "    </tr>\n",
       "    <tr>\n",
       "      <th>schedule_and_vp</th>\n",
       "      <td>NaT</td>\n",
       "    </tr>\n",
       "  </tbody>\n",
       "</table>\n",
       "</div>"
      ],
      "text/plain": [
       "                                                                                            service_date\n",
       "caltrans_district          organization_name                              sched_rt_category             \n",
       "07 - Los Angeles           San Bernardino County Transportation Authority schedule_only              NaT\n",
       "                                                                          vp_only                    NaT\n",
       "                                                                          schedule_and_vp            NaT\n",
       "                           Southern California Regional Rail Authority    schedule_only       2024-06-12\n",
       "                                                                          vp_only             2024-12-11\n",
       "                                                                          schedule_and_vp     2024-06-12\n",
       "07 - Los Angeles / Ventura San Bernardino County Transportation Authority schedule_only              NaT\n",
       "                                                                          vp_only                    NaT\n",
       "                                                                          schedule_and_vp            NaT\n",
       "                           Southern California Regional Rail Authority    schedule_only              NaT\n",
       "                                                                          vp_only             2025-02-12\n",
       "                                                                          schedule_and_vp            NaT\n",
       "08 - San Bernardino        San Bernardino County Transportation Authority schedule_only       2024-06-12\n",
       "                                                                          vp_only             2025-02-12\n",
       "                                                                          schedule_and_vp     2024-06-12\n",
       "                           Southern California Regional Rail Authority    schedule_only              NaT\n",
       "                                                                          vp_only                    NaT\n",
       "                                                                          schedule_and_vp            NaT"
      ]
     },
     "execution_count": 15,
     "metadata": {},
     "output_type": "execute_result"
    }
   ],
   "source": [
    "vp_only_ops_df.groupby([\"caltrans_district\",\"organization_name\", \"sched_rt_category\"]).agg(\n",
    "    {\"service_date\": \"max\"}\n",
    ")"
   ]
  },
  {
   "cell_type": "markdown",
   "id": "db103006-c5e0-4dcb-aa8b-ab1437fb8be8",
   "metadata": {},
   "source": [
    "## Go back to  `schedule_stats_by_route_direction`"
   ]
  },
  {
   "cell_type": "code",
   "execution_count": 16,
   "id": "11b6acd7-4ebf-42fd-9987-d99580e5ce6f",
   "metadata": {
    "tags": []
   },
   "outputs": [],
   "source": [
    "import sys\n",
    "\n",
    "sys.path.append(\"../gtfs_funnel/\")\n",
    "import schedule_stats_by_route_direction"
   ]
  },
  {
   "cell_type": "code",
   "execution_count": 17,
   "id": "857361d5-ae90-45ee-885f-c855c0ff7f71",
   "metadata": {
    "tags": []
   },
   "outputs": [],
   "source": [
    "route_group_merge_cols = [\n",
    "            \"schedule_gtfs_dataset_key\", \n",
    "            \"route_id\", \n",
    "            \"direction_id\"\n",
    "        ]\n",
    "        "
   ]
  },
  {
   "cell_type": "markdown",
   "id": "69f205e3-0c1a-4e22-be5e-aa1b34a345f4",
   "metadata": {},
   "source": [
    "### The two operators are already disappearing in the `trip_metrics` line 203. "
   ]
  },
  {
   "cell_type": "code",
   "execution_count": 18,
   "id": "822e212c-048d-4290-ad0b-fa30c96f2a91",
   "metadata": {
    "tags": []
   },
   "outputs": [],
   "source": [
    "trip_metrics = schedule_stats_by_route_direction.assemble_scheduled_trip_metrics(\n",
    "    analysis_date, GTFS_DATA_DICT\n",
    ")"
   ]
  },
  {
   "cell_type": "code",
   "execution_count": 19,
   "id": "d8a4ef30-7366-416b-8b53-e1e298fb2d50",
   "metadata": {
    "tags": []
   },
   "outputs": [],
   "source": [
    "trip_metrics = trip_metrics.loc[\n",
    "    trip_metrics.schedule_gtfs_dataset_key.isin(vp_only_ops_sched_keys)\n",
    "]"
   ]
  },
  {
   "cell_type": "code",
   "execution_count": 25,
   "id": "97b5064f-eed9-4d98-a033-c7c043840a39",
   "metadata": {
    "tags": []
   },
   "outputs": [
    {
     "data": {
      "text/plain": [
       "0"
      ]
     },
     "execution_count": 25,
     "metadata": {},
     "output_type": "execute_result"
    }
   ],
   "source": [
    "len(trip_metrics)"
   ]
  },
  {
   "cell_type": "markdown",
   "id": "5aefd52c-1b72-47c0-86c7-d81c39d44027",
   "metadata": {},
   "source": [
    "### Operators are already gone in `STOP_TIMES_FILE` in line 21."
   ]
  },
  {
   "cell_type": "code",
   "execution_count": 21,
   "id": "e1396d10-73a6-41b1-9521-442dcd2e5c76",
   "metadata": {
    "tags": []
   },
   "outputs": [],
   "source": [
    "STOP_TIMES_FILE = GTFS_DATA_DICT.rt_vs_schedule_tables.stop_times_direction"
   ]
  },
  {
   "cell_type": "code",
   "execution_count": 77,
   "id": "bd2027ea-3b31-41af-95f8-c27d605569b3",
   "metadata": {
    "tags": []
   },
   "outputs": [
    {
     "data": {
      "text/plain": [
       "'stop_times_direction'"
      ]
     },
     "execution_count": 77,
     "metadata": {},
     "output_type": "execute_result"
    }
   ],
   "source": [
    "STOP_TIMES_FILE"
   ]
  },
  {
   "cell_type": "code",
   "execution_count": 78,
   "id": "9ec83465-1650-470e-b2ed-08ac1f3062fd",
   "metadata": {
    "tags": []
   },
   "outputs": [
    {
     "data": {
      "text/plain": [
       "'stop_times_direction'"
      ]
     },
     "execution_count": 78,
     "metadata": {},
     "output_type": "execute_result"
    }
   ],
   "source": [
    "GTFS_DATA_DICT.rt_vs_schedule_tables.stop_times_direction"
   ]
  },
  {
   "cell_type": "code",
   "execution_count": 79,
   "id": "da520797-4e9a-46b2-898a-f44ba3cc2447",
   "metadata": {
    "tags": []
   },
   "outputs": [],
   "source": [
    "df = gpd.read_parquet(\n",
    "        f\"{RT_SCHED_GCS}{STOP_TIMES_FILE}_{analysis_date}.parquet\"\n",
    "    )"
   ]
  },
  {
   "cell_type": "code",
   "execution_count": 82,
   "id": "8d86e3fd-3a55-4ffa-8384-778e692df868",
   "metadata": {
    "tags": []
   },
   "outputs": [
    {
     "data": {
      "text/plain": [
       "'2025-02-12'"
      ]
     },
     "execution_count": 82,
     "metadata": {},
     "output_type": "execute_result"
    }
   ],
   "source": [
    "analysis_date"
   ]
  },
  {
   "cell_type": "code",
   "execution_count": 80,
   "id": "bcd3b233-6bca-4c4e-83dd-b2282b25dbf0",
   "metadata": {
    "tags": []
   },
   "outputs": [
    {
     "data": {
      "text/plain": [
       "4326927"
      ]
     },
     "execution_count": 80,
     "metadata": {},
     "output_type": "execute_result"
    }
   ],
   "source": [
    "len(df)"
   ]
  },
  {
   "cell_type": "code",
   "execution_count": 83,
   "id": "b1c2b0d8-357b-4702-be42-39819f38028e",
   "metadata": {
    "tags": []
   },
   "outputs": [
    {
     "data": {
      "text/plain": [
       "['759ad28de7d4bb8b2bf9bb7d83655100', 'c4092405159366c705b62df938293a4e']"
      ]
     },
     "execution_count": 83,
     "metadata": {},
     "output_type": "execute_result"
    }
   ],
   "source": [
    "vp_only_ops_sched_keys"
   ]
  },
  {
   "cell_type": "code",
   "execution_count": 84,
   "id": "d203ba50-0132-4902-8407-5a468272162b",
   "metadata": {
    "tags": []
   },
   "outputs": [
    {
     "data": {
      "text/plain": [
       "Index(['feed_key', 'stop_id', 'stop_sequence', 'schedule_gtfs_dataset_key',\n",
       "       'trip_instance_key', 'shape_array_key', 'stop_name', 'geometry',\n",
       "       'stop_meters', 'prior_stop_sequence', 'subseq_stop_sequence',\n",
       "       'stop_primary_direction', 'stop_pair', 'stop_pair_name'],\n",
       "      dtype='object')"
      ]
     },
     "execution_count": 84,
     "metadata": {},
     "output_type": "execute_result"
    }
   ],
   "source": [
    "df2.columns"
   ]
  },
  {
   "cell_type": "code",
   "execution_count": 81,
   "id": "a55245da-7527-4cb8-bee3-83485fb86bec",
   "metadata": {
    "tags": []
   },
   "outputs": [],
   "source": [
    "df2 = df.loc[\n",
    "    df.schedule_gtfs_dataset_key.isin(vp_only_ops_sched_keys)\n",
    "]"
   ]
  },
  {
   "cell_type": "code",
   "execution_count": 24,
   "id": "8e41d767-387f-45f4-9c5c-319c4ed2bc1e",
   "metadata": {
    "tags": []
   },
   "outputs": [
    {
     "data": {
      "text/plain": [
       "0"
      ]
     },
     "execution_count": 24,
     "metadata": {},
     "output_type": "execute_result"
    }
   ],
   "source": [
    "len(df)"
   ]
  },
  {
   "cell_type": "markdown",
   "id": "f99b177f-68fb-480c-a592-dd35187536d4",
   "metadata": {
    "tags": []
   },
   "source": [
    "### Go back to `gtfs_funnel/stop_times_with_direction.py`\n",
    "\n",
    "#### Per Tiffany's advice, check `trips`. "
   ]
  },
  {
   "cell_type": "code",
   "execution_count": 39,
   "id": "a8540334-4137-43d0-b47a-45501b658258",
   "metadata": {
    "tags": []
   },
   "outputs": [],
   "source": [
    "trip_scheduled_col = [\n",
    "        \"route_id\",\n",
    "        \"trip_instance_key\",\n",
    "        \"gtfs_dataset_key\",\n",
    "        \"shape_array_key\",\n",
    "        \"direction_id\",\n",
    "        \"route_long_name\",\n",
    "        \"route_short_name\",\n",
    "        \"route_desc\",\n",
    "        \"name\",\n",
    "        \"feed_key\"\n",
    "    ]"
   ]
  },
  {
   "cell_type": "code",
   "execution_count": 40,
   "id": "4ff25b84-ad06-4593-978d-6519869947fe",
   "metadata": {
    "tags": []
   },
   "outputs": [],
   "source": [
    "trips_df = helpers.import_scheduled_trips(\n",
    "        analysis_date, \n",
    "        columns = trip_scheduled_col,\n",
    "        get_pandas = True\n",
    "    )"
   ]
  },
  {
   "cell_type": "code",
   "execution_count": 41,
   "id": "8b3fb865-4e1a-4485-8940-c4952bf771fe",
   "metadata": {
    "tags": []
   },
   "outputs": [],
   "source": [
    "trips_df = trips_df.loc[\n",
    "    trips_df.schedule_gtfs_dataset_key.isin(vp_only_ops_sched_keys)\n",
    "]"
   ]
  },
  {
   "cell_type": "code",
   "execution_count": 31,
   "id": "43c17d5d-86ca-4864-83f6-13ab524b7476",
   "metadata": {
    "tags": []
   },
   "outputs": [
    {
     "data": {
      "text/plain": [
       "202"
      ]
     },
     "execution_count": 31,
     "metadata": {},
     "output_type": "execute_result"
    }
   ],
   "source": [
    "len(trips_df)"
   ]
  },
  {
   "cell_type": "code",
   "execution_count": 42,
   "id": "0136c286-28a8-4ebf-857b-2309691390b4",
   "metadata": {
    "tags": []
   },
   "outputs": [
    {
     "data": {
      "text/html": [
       "<div>\n",
       "<style scoped>\n",
       "    .dataframe tbody tr th:only-of-type {\n",
       "        vertical-align: middle;\n",
       "    }\n",
       "\n",
       "    .dataframe tbody tr th {\n",
       "        vertical-align: top;\n",
       "    }\n",
       "\n",
       "    .dataframe thead th {\n",
       "        text-align: right;\n",
       "    }\n",
       "</style>\n",
       "<table border=\"1\" class=\"dataframe\">\n",
       "  <thead>\n",
       "    <tr style=\"text-align: right;\">\n",
       "      <th></th>\n",
       "      <th>route_id</th>\n",
       "      <th>trip_instance_key</th>\n",
       "      <th>schedule_gtfs_dataset_key</th>\n",
       "      <th>shape_array_key</th>\n",
       "      <th>direction_id</th>\n",
       "      <th>route_long_name</th>\n",
       "      <th>route_short_name</th>\n",
       "      <th>route_desc</th>\n",
       "      <th>name</th>\n",
       "      <th>feed_key</th>\n",
       "    </tr>\n",
       "  </thead>\n",
       "  <tbody>\n",
       "    <tr>\n",
       "      <th>114833</th>\n",
       "      <td>San Bernardino Line</td>\n",
       "      <td>e0e22a031655b8c4eb6eb418166b567c</td>\n",
       "      <td>c4092405159366c705b62df938293a4e</td>\n",
       "      <td>None</td>\n",
       "      <td>0.00</td>\n",
       "      <td>Metrolink San Bernardino Line</td>\n",
       "      <td>None</td>\n",
       "      <td>None</td>\n",
       "      <td>Metrolink Schedule</td>\n",
       "      <td>8fc9cfe86b4e9e8c7cf508b2486605f1</td>\n",
       "    </tr>\n",
       "  </tbody>\n",
       "</table>\n",
       "</div>"
      ],
      "text/plain": [
       "                   route_id                 trip_instance_key  \\\n",
       "114833  San Bernardino Line  e0e22a031655b8c4eb6eb418166b567c   \n",
       "\n",
       "               schedule_gtfs_dataset_key shape_array_key  direction_id  \\\n",
       "114833  c4092405159366c705b62df938293a4e            None          0.00   \n",
       "\n",
       "                      route_long_name route_short_name route_desc  \\\n",
       "114833  Metrolink San Bernardino Line             None       None   \n",
       "\n",
       "                      name                          feed_key  \n",
       "114833  Metrolink Schedule  8fc9cfe86b4e9e8c7cf508b2486605f1  "
      ]
     },
     "execution_count": 42,
     "metadata": {},
     "output_type": "execute_result"
    }
   ],
   "source": [
    "trips_df.head(1)"
   ]
  },
  {
   "cell_type": "code",
   "execution_count": 43,
   "id": "4e48f49a-2480-4364-8474-66a133693de4",
   "metadata": {
    "tags": []
   },
   "outputs": [],
   "source": [
    "feed_keys_list = list(trips_df.feed_key.unique())"
   ]
  },
  {
   "cell_type": "code",
   "execution_count": 58,
   "id": "6d3e14b6-bfa1-4503-ac1c-71fa4575f5d7",
   "metadata": {
    "tags": []
   },
   "outputs": [
    {
     "data": {
      "text/plain": [
       "['8fc9cfe86b4e9e8c7cf508b2486605f1']"
      ]
     },
     "execution_count": 58,
     "metadata": {},
     "output_type": "execute_result"
    }
   ],
   "source": [
    "feed_keys_list"
   ]
  },
  {
   "cell_type": "code",
   "execution_count": 59,
   "id": "6e4bf347-9dff-49bd-9ab3-56cc46cbcc6c",
   "metadata": {
    "tags": []
   },
   "outputs": [],
   "source": [
    "trips = helpers.import_scheduled_trips(\n",
    "        analysis_date,\n",
    "        columns = [\"gtfs_dataset_key\", \"feed_key\", \n",
    "                   \"trip_id\", \"trip_instance_key\", \n",
    "                   \"shape_array_key\"\n",
    "                  ],\n",
    "        get_pandas = True\n",
    "    )"
   ]
  },
  {
   "cell_type": "code",
   "execution_count": 60,
   "id": "8a0413ce-4af9-4309-a1d0-2fdc4fe35227",
   "metadata": {
    "tags": []
   },
   "outputs": [],
   "source": [
    "trips = trips.loc[\n",
    "    trips.feed_key.isin(feed_keys_list)\n",
    "]"
   ]
  },
  {
   "cell_type": "code",
   "execution_count": 61,
   "id": "33d09e6b-09ae-43de-819a-5b610dd2c98f",
   "metadata": {
    "tags": []
   },
   "outputs": [
    {
     "data": {
      "text/plain": [
       "202"
      ]
     },
     "execution_count": 61,
     "metadata": {},
     "output_type": "execute_result"
    }
   ],
   "source": [
    "len(trips)"
   ]
  },
  {
   "cell_type": "markdown",
   "id": "4dbc0e51-84d7-41fd-ab30-2224a1ad1825",
   "metadata": {},
   "source": [
    "#### Stops"
   ]
  },
  {
   "cell_type": "code",
   "execution_count": 44,
   "id": "8b9ab1d4-e741-4950-8e75-40e78abe3ea7",
   "metadata": {
    "tags": []
   },
   "outputs": [],
   "source": [
    "stops = helpers.import_scheduled_stops(\n",
    "        analysis_date,\n",
    "        columns = [\"feed_key\", \"stop_id\", \"stop_name\", \"geometry\"],\n",
    "        crs = PROJECT_CRS,\n",
    "        get_pandas = True\n",
    "    )"
   ]
  },
  {
   "cell_type": "code",
   "execution_count": 46,
   "id": "2fac08e2-1dbe-426d-a42a-cea4a34b4d3b",
   "metadata": {
    "tags": []
   },
   "outputs": [],
   "source": [
    "stops = stops.loc[\n",
    "    stops.feed_key.isin(feed_keys_list)\n",
    "]"
   ]
  },
  {
   "cell_type": "code",
   "execution_count": 47,
   "id": "414b52ef-6dba-4a96-8d32-305dd3caada8",
   "metadata": {
    "tags": []
   },
   "outputs": [
    {
     "data": {
      "text/plain": [
       "66"
      ]
     },
     "execution_count": 47,
     "metadata": {},
     "output_type": "execute_result"
    }
   ],
   "source": [
    "len(stops)"
   ]
  },
  {
   "cell_type": "markdown",
   "id": "f1e1377c-d4a6-4a26-a986-89e55e325a51",
   "metadata": {},
   "source": [
    "#### Stop_times - everything is here. "
   ]
  },
  {
   "cell_type": "code",
   "execution_count": 50,
   "id": "a8130588-2065-4c80-93a1-7c35a9c9fc82",
   "metadata": {
    "tags": []
   },
   "outputs": [],
   "source": [
    "stop_times = helpers.import_scheduled_stop_times(\n",
    "        analysis_date,\n",
    "        columns = [\"feed_key\", \"trip_id\", \"stop_id\", \"stop_sequence\"],\n",
    "        get_pandas = True\n",
    "    )"
   ]
  },
  {
   "cell_type": "code",
   "execution_count": 51,
   "id": "42cb64e5-745a-40f3-80b4-4bb7ebcff6a8",
   "metadata": {
    "tags": []
   },
   "outputs": [],
   "source": [
    "stop_times = stop_times.loc[\n",
    "    stop_times.feed_key.isin(feed_keys_list)\n",
    "]"
   ]
  },
  {
   "cell_type": "code",
   "execution_count": 52,
   "id": "d96d3009-e7bb-48a6-b940-faab6b44e6c0",
   "metadata": {
    "tags": []
   },
   "outputs": [
    {
     "data": {
      "text/plain": [
       "2053"
      ]
     },
     "execution_count": 52,
     "metadata": {},
     "output_type": "execute_result"
    }
   ],
   "source": [
    "len(stop_times)"
   ]
  },
  {
   "cell_type": "code",
   "execution_count": 54,
   "id": "05f06b61-1572-4748-b3a8-8e9453c6b539",
   "metadata": {
    "tags": []
   },
   "outputs": [],
   "source": [
    "import stop_times_with_direction"
   ]
  },
  {
   "cell_type": "code",
   "execution_count": 55,
   "id": "faf1fbcf-e2a1-4dd4-9f5b-f72923cd7e9a",
   "metadata": {
    "tags": []
   },
   "outputs": [],
   "source": [
    "stop_times2 = stop_times.pipe(stop_times_with_direction.keep_first_trip, analysis_date)"
   ]
  },
  {
   "cell_type": "code",
   "execution_count": 56,
   "id": "9483e200-fb90-4ce7-ac80-b4cd19718a07",
   "metadata": {
    "tags": []
   },
   "outputs": [
    {
     "data": {
      "text/plain": [
       "2053"
      ]
     },
     "execution_count": 56,
     "metadata": {},
     "output_type": "execute_result"
    }
   ],
   "source": [
    "len(stop_times2)"
   ]
  },
  {
   "cell_type": "code",
   "execution_count": 57,
   "id": "4b2db328-1ba3-45f3-a6e1-8a7120b9ed2d",
   "metadata": {
    "tags": []
   },
   "outputs": [
    {
     "data": {
      "text/plain": [
       "array(['8fc9cfe86b4e9e8c7cf508b2486605f1'], dtype=object)"
      ]
     },
     "execution_count": 57,
     "metadata": {},
     "output_type": "execute_result"
    }
   ],
   "source": [
    "stop_times2.feed_key.unique()"
   ]
  },
  {
   "cell_type": "markdown",
   "id": "341b60ff-3251-4203-8915-d347dc27e80e",
   "metadata": {},
   "source": [
    "#### Line 47 merge"
   ]
  },
  {
   "cell_type": "code",
   "execution_count": 62,
   "id": "ed73e52f-21ca-4596-9bd2-31d27ec439d1",
   "metadata": {
    "tags": []
   },
   "outputs": [],
   "source": [
    "st_with_trip = pd.merge(\n",
    "        stop_times,\n",
    "        trips,\n",
    "        on = [\"feed_key\", \"trip_id\"],\n",
    "        how = \"inner\"\n",
    "    )"
   ]
  },
  {
   "cell_type": "code",
   "execution_count": 63,
   "id": "5d8187aa-6a83-4e26-8c0a-91c664fc82ac",
   "metadata": {
    "tags": []
   },
   "outputs": [
    {
     "data": {
      "text/plain": [
       "2053"
      ]
     },
     "execution_count": 63,
     "metadata": {},
     "output_type": "execute_result"
    }
   ],
   "source": [
    "len(st_with_trip)"
   ]
  },
  {
   "cell_type": "code",
   "execution_count": 64,
   "id": "f8c63424-39df-4603-a69e-61c20ba5c7f5",
   "metadata": {
    "tags": []
   },
   "outputs": [],
   "source": [
    "st_with_stop = pd.merge(\n",
    "        st_with_trip,\n",
    "        stops,\n",
    "        on = [\"feed_key\", \"stop_id\"],\n",
    "        how = \"inner\"\n",
    "    ).drop(columns = [\"trip_id\"])"
   ]
  },
  {
   "cell_type": "code",
   "execution_count": 65,
   "id": "529ce2d0-d400-48b9-8601-40a12f035e48",
   "metadata": {
    "tags": []
   },
   "outputs": [
    {
     "data": {
      "text/plain": [
       "2053"
      ]
     },
     "execution_count": 65,
     "metadata": {},
     "output_type": "execute_result"
    }
   ],
   "source": [
    "len(st_with_stop)"
   ]
  },
  {
   "cell_type": "code",
   "execution_count": 66,
   "id": "706bd895-cdb0-4804-aba1-6c5c6c00e6fe",
   "metadata": {
    "tags": []
   },
   "outputs": [],
   "source": [
    "st_with_stop = gpd.GeoDataFrame(\n",
    "        st_with_stop, geometry = \"geometry\", crs = PROJECT_CRS\n",
    "    )"
   ]
  },
  {
   "cell_type": "markdown",
   "id": "8225aca1-e124-421f-a6bc-dd5c77a0d924",
   "metadata": {},
   "source": [
    "### `stop_times_with_direction/prep_scheduled_stop_times` everything is in order here."
   ]
  },
  {
   "cell_type": "code",
   "execution_count": 67,
   "id": "063aa427-a659-4ad8-b64b-f1b30909d1b7",
   "metadata": {
    "tags": []
   },
   "outputs": [],
   "source": [
    "scheduled_stop_times = stop_times_with_direction.prep_scheduled_stop_times(analysis_date)"
   ]
  },
  {
   "cell_type": "code",
   "execution_count": 68,
   "id": "d79b7572-9ecb-4f24-b032-c22cdc5b23de",
   "metadata": {
    "tags": []
   },
   "outputs": [],
   "source": [
    "scheduled_stop_times = scheduled_stop_times.loc[\n",
    "    scheduled_stop_times.feed_key.isin(feed_keys_list)\n",
    "]"
   ]
  },
  {
   "cell_type": "code",
   "execution_count": 69,
   "id": "10e1f3ad-b211-465c-a107-722cf0676b8f",
   "metadata": {
    "tags": []
   },
   "outputs": [
    {
     "data": {
      "text/plain": [
       "2053"
      ]
     },
     "execution_count": 69,
     "metadata": {},
     "output_type": "execute_result"
    }
   ],
   "source": [
    "len(scheduled_stop_times)"
   ]
  },
  {
   "cell_type": "markdown",
   "id": "eceb2187-4df1-4e03-bbdb-fe626df8c181",
   "metadata": {},
   "source": [
    "### Continue with Line 251 in `stop_times_with_direction`"
   ]
  },
  {
   "cell_type": "code",
   "execution_count": 70,
   "id": "09c835b0-6534-4e81-8561-b177de12fa64",
   "metadata": {
    "tags": []
   },
   "outputs": [],
   "source": [
    "trip_cols = [\"trip_instance_key\"]\n",
    "trip_stop_cols = [\"trip_instance_key\", \"stop_sequence\"]"
   ]
  },
  {
   "cell_type": "code",
   "execution_count": 71,
   "id": "0b4095b5-d19e-4466-b3a0-c80192a8cb2e",
   "metadata": {
    "tags": []
   },
   "outputs": [],
   "source": [
    "df = stop_times_with_direction.find_prior_subseq_stop_info(\n",
    "        scheduled_stop_times,\n",
    "        analysis_date,\n",
    "        trip_cols = trip_cols,\n",
    "        trip_stop_cols = trip_stop_cols\n",
    "    ).sort_values(\n",
    "        trip_stop_cols\n",
    "    ).reset_index(drop=True)"
   ]
  },
  {
   "cell_type": "code",
   "execution_count": 72,
   "id": "029fc4a3-fe6a-4e62-97ad-6521abe5607b",
   "metadata": {
    "tags": []
   },
   "outputs": [
    {
     "data": {
      "text/plain": [
       "2053"
      ]
     },
     "execution_count": 72,
     "metadata": {},
     "output_type": "execute_result"
    }
   ],
   "source": [
    "len(df)"
   ]
  }
 ],
 "metadata": {
  "kernelspec": {
   "display_name": "Python 3 (ipykernel)",
   "language": "python",
   "name": "python3"
  },
  "language_info": {
   "codemirror_mode": {
    "name": "ipython",
    "version": 3
   },
   "file_extension": ".py",
   "mimetype": "text/x-python",
   "name": "python",
   "nbconvert_exporter": "python",
   "pygments_lexer": "ipython3",
   "version": "3.11.10"
  }
 },
 "nbformat": 4,
 "nbformat_minor": 5
}
