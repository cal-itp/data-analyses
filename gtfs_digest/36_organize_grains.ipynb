{
 "cells": [
  {
   "cell_type": "markdown",
   "id": "c6e22110-92ec-4a80-b065-4f7615a00c78",
   "metadata": {},
   "source": [
    "## Correct the grains\n",
    "* Per [this comment](https://github.com/cal-itp/data-analyses/pull/1259#issuecomment-2423108561)/."
   ]
  },
  {
   "cell_type": "code",
   "execution_count": 1,
   "id": "a73e35fb-6348-482b-bdd5-551689966181",
   "metadata": {},
   "outputs": [],
   "source": [
    "import geopandas as gpd\n",
    "import numpy as np\n",
    "import pandas as pd\n",
    "from segment_speed_utils import gtfs_schedule_wrangling, helpers, time_series_utils\n",
    "from segment_speed_utils.project_vars import (\n",
    "    COMPILED_CACHED_VIEWS,\n",
    "    GTFS_DATA_DICT,\n",
    "    PROJECT_CRS,\n",
    "    RT_SCHED_GCS,\n",
    "    SCHED_GCS,\n",
    "    SEGMENT_GCS,\n",
    ")\n",
    "from shared_utils import catalog_utils, rt_dates, rt_utils"
   ]
  },
  {
   "cell_type": "code",
   "execution_count": 2,
   "id": "7444588a-8228-4ed0-9ff7-59c5b6d75c32",
   "metadata": {},
   "outputs": [],
   "source": [
    "import merge_operator_data"
   ]
  },
  {
   "cell_type": "code",
   "execution_count": 3,
   "id": "3ea0546b-707d-4997-971c-8da6aab67b94",
   "metadata": {},
   "outputs": [],
   "source": [
    "pd.options.display.max_columns = 100\n",
    "pd.options.display.float_format = \"{:.2f}\".format\n",
    "pd.set_option(\"display.max_rows\", None)\n",
    "pd.set_option(\"display.max_colwidth\", None)"
   ]
  },
  {
   "cell_type": "markdown",
   "id": "ad1b53c9-136f-471b-a330-2dbf07576add",
   "metadata": {},
   "source": [
    "### In your follow-up PR, the operator grain should replicate the relevant portions of that. The operator files in gtfs_analytics_data.yml should only show unique grains.\n",
    "\n",
    "    operator_profiles (operator grain)\n",
    "    operator_metrics (operator grain, should be worked into profiles)\n",
    "    operator_sched_rt_category (check the grain, it might be able to be worked into the above too)\n",
    "    operator_routes_map (operator-route grain)\n"
   ]
  },
  {
   "cell_type": "markdown",
   "id": "343311e0-9477-49c1-a8fe-467f5203d104",
   "metadata": {},
   "source": [
    "#### Open up `operator_sched_rt` to see what's the grain\n",
    "* Why are all the n_trips 0??\n",
    "* The grain is `schedule_gtfs_dataset_key` to 3 different rows for each `service_date`"
   ]
  },
  {
   "cell_type": "code",
   "execution_count": 4,
   "id": "0f2bb868-900b-46c5-b247-7affe2859899",
   "metadata": {},
   "outputs": [],
   "source": [
    "SCHED_RT_CATEGORY = GTFS_DATA_DICT.digest_tables.operator_sched_rt"
   ]
  },
  {
   "cell_type": "code",
   "execution_count": 5,
   "id": "6eae0b8a-8bfe-496d-879c-96cdd55e4c15",
   "metadata": {},
   "outputs": [],
   "source": [
    "sched_rt_cat_df = pd.read_parquet(f\"{RT_SCHED_GCS}{SCHED_RT_CATEGORY}.parquet\")"
   ]
  },
  {
   "cell_type": "code",
   "execution_count": 6,
   "id": "3f91a04b-34cc-480f-a7e4-7179387594a5",
   "metadata": {},
   "outputs": [
    {
     "data": {
      "text/plain": [
       "count   17214.00\n",
       "mean      148.75\n",
       "std      1270.38\n",
       "min         0.00\n",
       "25%         0.00\n",
       "50%         0.00\n",
       "75%         0.00\n",
       "max     34476.00\n",
       "Name: n_trips, dtype: float64"
      ]
     },
     "execution_count": 6,
     "metadata": {},
     "output_type": "execute_result"
    }
   ],
   "source": [
    "sched_rt_cat_df.n_trips.describe()"
   ]
  },
  {
   "cell_type": "code",
   "execution_count": 7,
   "id": "2bc6cc19-91c7-4b9c-ab5a-02413f4ab115",
   "metadata": {},
   "outputs": [
    {
     "data": {
      "text/html": [
       "<div>\n",
       "<style scoped>\n",
       "    .dataframe tbody tr th:only-of-type {\n",
       "        vertical-align: middle;\n",
       "    }\n",
       "\n",
       "    .dataframe tbody tr th {\n",
       "        vertical-align: top;\n",
       "    }\n",
       "\n",
       "    .dataframe thead th {\n",
       "        text-align: right;\n",
       "    }\n",
       "</style>\n",
       "<table border=\"1\" class=\"dataframe\">\n",
       "  <thead>\n",
       "    <tr style=\"text-align: right;\">\n",
       "      <th></th>\n",
       "      <th>schedule_gtfs_dataset_key</th>\n",
       "      <th>service_date</th>\n",
       "      <th>sched_rt_category</th>\n",
       "      <th>n_trips</th>\n",
       "    </tr>\n",
       "  </thead>\n",
       "  <tbody>\n",
       "    <tr>\n",
       "      <th>0</th>\n",
       "      <td>014d0998350083249a9eb310635548c2</td>\n",
       "      <td>2023-03-15</td>\n",
       "      <td>schedule_only</td>\n",
       "      <td>0</td>\n",
       "    </tr>\n",
       "    <tr>\n",
       "      <th>1</th>\n",
       "      <td>014d0998350083249a9eb310635548c2</td>\n",
       "      <td>2023-03-15</td>\n",
       "      <td>vp_only</td>\n",
       "      <td>0</td>\n",
       "    </tr>\n",
       "    <tr>\n",
       "      <th>2</th>\n",
       "      <td>014d0998350083249a9eb310635548c2</td>\n",
       "      <td>2023-03-15</td>\n",
       "      <td>schedule_and_vp</td>\n",
       "      <td>0</td>\n",
       "    </tr>\n",
       "    <tr>\n",
       "      <th>3</th>\n",
       "      <td>014d0998350083249a9eb310635548c2</td>\n",
       "      <td>2023-04-12</td>\n",
       "      <td>schedule_only</td>\n",
       "      <td>0</td>\n",
       "    </tr>\n",
       "    <tr>\n",
       "      <th>4</th>\n",
       "      <td>014d0998350083249a9eb310635548c2</td>\n",
       "      <td>2023-04-12</td>\n",
       "      <td>vp_only</td>\n",
       "      <td>0</td>\n",
       "    </tr>\n",
       "  </tbody>\n",
       "</table>\n",
       "</div>"
      ],
      "text/plain": [
       "          schedule_gtfs_dataset_key service_date sched_rt_category  n_trips\n",
       "0  014d0998350083249a9eb310635548c2   2023-03-15     schedule_only        0\n",
       "1  014d0998350083249a9eb310635548c2   2023-03-15           vp_only        0\n",
       "2  014d0998350083249a9eb310635548c2   2023-03-15   schedule_and_vp        0\n",
       "3  014d0998350083249a9eb310635548c2   2023-04-12     schedule_only        0\n",
       "4  014d0998350083249a9eb310635548c2   2023-04-12           vp_only        0"
      ]
     },
     "execution_count": 7,
     "metadata": {},
     "output_type": "execute_result"
    }
   ],
   "source": [
    "sched_rt_cat_df.head(5)"
   ]
  },
  {
   "cell_type": "code",
   "execution_count": 8,
   "id": "99960750-0869-4845-b5c8-89d46f4ecde9",
   "metadata": {},
   "outputs": [
    {
     "data": {
      "text/plain": [
       "3670"
      ]
     },
     "execution_count": 8,
     "metadata": {},
     "output_type": "execute_result"
    }
   ],
   "source": [
    "len(sched_rt_cat_df.loc[sched_rt_cat_df.n_trips  > 0])"
   ]
  },
  {
   "cell_type": "code",
   "execution_count": 9,
   "id": "bd8b546c-0649-479f-b269-16bd6220e2fe",
   "metadata": {},
   "outputs": [
    {
     "data": {
      "text/plain": [
       "13544"
      ]
     },
     "execution_count": 9,
     "metadata": {},
     "output_type": "execute_result"
    }
   ],
   "source": [
    "len(sched_rt_cat_df.loc[sched_rt_cat_df.n_trips  ==  0])"
   ]
  },
  {
   "cell_type": "code",
   "execution_count": 10,
   "id": "bdb3eb8e-a682-48a1-b7fc-4447b7019d4e",
   "metadata": {},
   "outputs": [
    {
     "data": {
      "text/plain": [
       "(17214, 4)"
      ]
     },
     "execution_count": 10,
     "metadata": {},
     "output_type": "execute_result"
    }
   ],
   "source": [
    "sched_rt_cat_df.shape"
   ]
  },
  {
   "cell_type": "markdown",
   "id": "bbf01b75-75d7-44a3-8b9f-3c782012d3e0",
   "metadata": {},
   "source": [
    "#### Check the function `merge_operator__data.operator_category_counts_by_date()`"
   ]
  },
  {
   "cell_type": "code",
   "execution_count": 11,
   "id": "a5d8790a-769b-4702-97b9-e7fb861d6abe",
   "metadata": {},
   "outputs": [],
   "source": [
    "INPUT = GTFS_DATA_DICT.digest_tables.route_schedule_vp\n",
    "    \n",
    "operator_category_cols = [\n",
    "        \"schedule_gtfs_dataset_key\", \"service_date\",\n",
    "        \"sched_rt_category\"\n",
    "    ]\n",
    "df = pd.read_parquet(\n",
    "        f\"{RT_SCHED_GCS}{INPUT}.parquet\",\n",
    "        filters = [[(\"time_period\", \"==\", \"all_day\")]],\n",
    "        columns = operator_category_cols + [\"route_id\", \"direction_id\", \n",
    "             \"n_scheduled_trips\", \"n_vp_trips\"]\n",
    "    )"
   ]
  },
  {
   "cell_type": "code",
   "execution_count": 12,
   "id": "1be0a3be-412f-4109-92c4-469cedf78d0a",
   "metadata": {},
   "outputs": [
    {
     "data": {
      "text/html": [
       "<div>\n",
       "<style scoped>\n",
       "    .dataframe tbody tr th:only-of-type {\n",
       "        vertical-align: middle;\n",
       "    }\n",
       "\n",
       "    .dataframe tbody tr th {\n",
       "        vertical-align: top;\n",
       "    }\n",
       "\n",
       "    .dataframe thead th {\n",
       "        text-align: right;\n",
       "    }\n",
       "</style>\n",
       "<table border=\"1\" class=\"dataframe\">\n",
       "  <thead>\n",
       "    <tr style=\"text-align: right;\">\n",
       "      <th></th>\n",
       "      <th>schedule_gtfs_dataset_key</th>\n",
       "      <th>service_date</th>\n",
       "      <th>sched_rt_category</th>\n",
       "      <th>route_id</th>\n",
       "      <th>direction_id</th>\n",
       "      <th>n_scheduled_trips</th>\n",
       "      <th>n_vp_trips</th>\n",
       "    </tr>\n",
       "  </thead>\n",
       "  <tbody>\n",
       "    <tr>\n",
       "      <th>0</th>\n",
       "      <td>014d0998350083249a9eb310635548c2</td>\n",
       "      <td>2023-10-11</td>\n",
       "      <td>schedule_only</td>\n",
       "      <td>10866826</td>\n",
       "      <td>1.00</td>\n",
       "      <td>8</td>\n",
       "      <td>0</td>\n",
       "    </tr>\n",
       "    <tr>\n",
       "      <th>1</th>\n",
       "      <td>014d0998350083249a9eb310635548c2</td>\n",
       "      <td>2023-11-15</td>\n",
       "      <td>schedule_only</td>\n",
       "      <td>10866826</td>\n",
       "      <td>1.00</td>\n",
       "      <td>8</td>\n",
       "      <td>0</td>\n",
       "    </tr>\n",
       "  </tbody>\n",
       "</table>\n",
       "</div>"
      ],
      "text/plain": [
       "          schedule_gtfs_dataset_key service_date sched_rt_category  route_id  \\\n",
       "0  014d0998350083249a9eb310635548c2   2023-10-11     schedule_only  10866826   \n",
       "1  014d0998350083249a9eb310635548c2   2023-11-15     schedule_only  10866826   \n",
       "\n",
       "   direction_id  n_scheduled_trips  n_vp_trips  \n",
       "0          1.00                  8           0  \n",
       "1          1.00                  8           0  "
      ]
     },
     "execution_count": 12,
     "metadata": {},
     "output_type": "execute_result"
    }
   ],
   "source": [
    "df.head(2)"
   ]
  },
  {
   "cell_type": "code",
   "execution_count": 13,
   "id": "0d799c0e-b5b9-4552-afc6-d5290e7b4d81",
   "metadata": {},
   "outputs": [
    {
     "data": {
      "text/plain": [
       "count   107748.00\n",
       "mean        21.14\n",
       "std         26.78\n",
       "min          0.00\n",
       "25%          1.00\n",
       "50%         13.00\n",
       "75%         29.00\n",
       "max        211.00\n",
       "Name: n_vp_trips, dtype: float64"
      ]
     },
     "execution_count": 13,
     "metadata": {},
     "output_type": "execute_result"
    }
   ],
   "source": [
    "df.n_vp_trips.describe()"
   ]
  },
  {
   "cell_type": "code",
   "execution_count": 14,
   "id": "48ec983d-5e2e-44b2-ab09-47197589f65c",
   "metadata": {},
   "outputs": [
    {
     "data": {
      "text/plain": [
       "count   107748.00\n",
       "mean        24.26\n",
       "std         28.18\n",
       "min          0.00\n",
       "25%          4.00\n",
       "50%         15.00\n",
       "75%         31.00\n",
       "max        360.00\n",
       "Name: n_scheduled_trips, dtype: float64"
      ]
     },
     "execution_count": 14,
     "metadata": {},
     "output_type": "execute_result"
    }
   ],
   "source": [
    "df.n_scheduled_trips.describe()"
   ]
  },
  {
   "cell_type": "code",
   "execution_count": 15,
   "id": "ae6cbbc9-2b1d-4536-9bd0-c3603d775a84",
   "metadata": {},
   "outputs": [],
   "source": [
    "df2 = (df.groupby(operator_category_cols)\n",
    "           .agg({\"n_scheduled_trips\": \"sum\",\n",
    "                \"n_vp_trips\": \"sum\"})\n",
    "           .reset_index()\n",
    "    )"
   ]
  },
  {
   "cell_type": "code",
   "execution_count": 16,
   "id": "c541f4a4-bb5c-4933-a581-c5fbced3220c",
   "metadata": {},
   "outputs": [
    {
     "data": {
      "text/html": [
       "<div>\n",
       "<style scoped>\n",
       "    .dataframe tbody tr th:only-of-type {\n",
       "        vertical-align: middle;\n",
       "    }\n",
       "\n",
       "    .dataframe tbody tr th {\n",
       "        vertical-align: top;\n",
       "    }\n",
       "\n",
       "    .dataframe thead th {\n",
       "        text-align: right;\n",
       "    }\n",
       "</style>\n",
       "<table border=\"1\" class=\"dataframe\">\n",
       "  <thead>\n",
       "    <tr style=\"text-align: right;\">\n",
       "      <th></th>\n",
       "      <th>schedule_gtfs_dataset_key</th>\n",
       "      <th>service_date</th>\n",
       "      <th>sched_rt_category</th>\n",
       "      <th>n_scheduled_trips</th>\n",
       "      <th>n_vp_trips</th>\n",
       "    </tr>\n",
       "  </thead>\n",
       "  <tbody>\n",
       "    <tr>\n",
       "      <th>0</th>\n",
       "      <td>014d0998350083249a9eb310635548c2</td>\n",
       "      <td>2023-03-15</td>\n",
       "      <td>schedule_only</td>\n",
       "      <td>0</td>\n",
       "      <td>0</td>\n",
       "    </tr>\n",
       "    <tr>\n",
       "      <th>1</th>\n",
       "      <td>014d0998350083249a9eb310635548c2</td>\n",
       "      <td>2023-03-15</td>\n",
       "      <td>vp_only</td>\n",
       "      <td>0</td>\n",
       "      <td>0</td>\n",
       "    </tr>\n",
       "    <tr>\n",
       "      <th>2</th>\n",
       "      <td>014d0998350083249a9eb310635548c2</td>\n",
       "      <td>2023-03-15</td>\n",
       "      <td>schedule_and_vp</td>\n",
       "      <td>0</td>\n",
       "      <td>0</td>\n",
       "    </tr>\n",
       "    <tr>\n",
       "      <th>3</th>\n",
       "      <td>014d0998350083249a9eb310635548c2</td>\n",
       "      <td>2023-04-12</td>\n",
       "      <td>schedule_only</td>\n",
       "      <td>0</td>\n",
       "      <td>0</td>\n",
       "    </tr>\n",
       "    <tr>\n",
       "      <th>4</th>\n",
       "      <td>014d0998350083249a9eb310635548c2</td>\n",
       "      <td>2023-04-12</td>\n",
       "      <td>vp_only</td>\n",
       "      <td>0</td>\n",
       "      <td>0</td>\n",
       "    </tr>\n",
       "  </tbody>\n",
       "</table>\n",
       "</div>"
      ],
      "text/plain": [
       "          schedule_gtfs_dataset_key service_date sched_rt_category  \\\n",
       "0  014d0998350083249a9eb310635548c2   2023-03-15     schedule_only   \n",
       "1  014d0998350083249a9eb310635548c2   2023-03-15           vp_only   \n",
       "2  014d0998350083249a9eb310635548c2   2023-03-15   schedule_and_vp   \n",
       "3  014d0998350083249a9eb310635548c2   2023-04-12     schedule_only   \n",
       "4  014d0998350083249a9eb310635548c2   2023-04-12           vp_only   \n",
       "\n",
       "   n_scheduled_trips  n_vp_trips  \n",
       "0                  0           0  \n",
       "1                  0           0  \n",
       "2                  0           0  \n",
       "3                  0           0  \n",
       "4                  0           0  "
      ]
     },
     "execution_count": 16,
     "metadata": {},
     "output_type": "execute_result"
    }
   ],
   "source": [
    "df2.head(5)"
   ]
  },
  {
   "cell_type": "code",
   "execution_count": 17,
   "id": "23c2e51d-bda6-4eb9-a62b-22522f8c4034",
   "metadata": {},
   "outputs": [
    {
     "data": {
      "text/plain": [
       "count   17214.00\n",
       "mean      132.34\n",
       "std      1265.75\n",
       "min         0.00\n",
       "25%         0.00\n",
       "50%         0.00\n",
       "75%         0.00\n",
       "max     34476.00\n",
       "Name: n_vp_trips, dtype: float64"
      ]
     },
     "execution_count": 17,
     "metadata": {},
     "output_type": "execute_result"
    }
   ],
   "source": [
    "df2.n_vp_trips.describe()"
   ]
  },
  {
   "cell_type": "code",
   "execution_count": 18,
   "id": "8ff130b0-b32a-4933-a1dd-e12cbd0770bc",
   "metadata": {},
   "outputs": [
    {
     "data": {
      "text/plain": [
       "13544"
      ]
     },
     "execution_count": 18,
     "metadata": {},
     "output_type": "execute_result"
    }
   ],
   "source": [
    "len(sched_rt_cat_df.loc[sched_rt_cat_df.n_trips  ==  0])"
   ]
  },
  {
   "cell_type": "code",
   "execution_count": 19,
   "id": "c8ce3b51-f5a8-446d-9515-64fdec814279",
   "metadata": {},
   "outputs": [
    {
     "data": {
      "text/plain": [
       "3670"
      ]
     },
     "execution_count": 19,
     "metadata": {},
     "output_type": "execute_result"
    }
   ],
   "source": [
    "len(sched_rt_cat_df.loc[sched_rt_cat_df.n_trips  >  0])"
   ]
  },
  {
   "cell_type": "markdown",
   "id": "24dcaa66-9bca-498f-8f7f-751c2ddf7409",
   "metadata": {},
   "source": [
    "### Add `operator_metrics` into the `operator_profiles`"
   ]
  },
  {
   "cell_type": "code",
   "execution_count": 20,
   "id": "fac40266-c5b4-442c-a784-93c3f14f04d5",
   "metadata": {},
   "outputs": [],
   "source": [
    "analysis_date_list = rt_dates.y2024_dates + rt_dates.y2023_dates "
   ]
  },
  {
   "cell_type": "code",
   "execution_count": 21,
   "id": "004ca3b6-915c-41d6-9ebe-458db9a52134",
   "metadata": {},
   "outputs": [],
   "source": [
    "analysis_date_list.remove('2024-10-16')"
   ]
  },
  {
   "cell_type": "code",
   "execution_count": 22,
   "id": "b84e2189-29ea-45fd-b3e5-7746b16796f9",
   "metadata": {},
   "outputs": [],
   "source": [
    "operator_metrics = merge_operator_data.concatenate_operator_level_metrics(analysis_date_list)"
   ]
  },
  {
   "cell_type": "code",
   "execution_count": 23,
   "id": "1f29983f-f9a9-4247-a3e2-be20c389d6a8",
   "metadata": {},
   "outputs": [],
   "source": [
    "# Concat operator profiles\n",
    "operator_profiles = merge_operator_data.concatenate_operator_stats(analysis_date_list)"
   ]
  },
  {
   "cell_type": "code",
   "execution_count": 24,
   "id": "f531c392-399a-4933-8a3a-4da508c56852",
   "metadata": {},
   "outputs": [],
   "source": [
    "CROSSWALK = GTFS_DATA_DICT.schedule_tables.gtfs_key_crosswalk"
   ]
  },
  {
   "cell_type": "code",
   "execution_count": 25,
   "id": "d9809dd2-468f-4cfc-9fd9-537830e0f824",
   "metadata": {},
   "outputs": [],
   "source": [
    "ntd_cols = [\n",
    "        \"schedule_gtfs_dataset_key\",\n",
    "        \"caltrans_district\",\n",
    "        \"counties_served\",\n",
    "        \"service_area_sq_miles\",\n",
    "        \"hq_city\",\n",
    "        \"uza_name\",\n",
    "        \"service_area_pop\",\n",
    "        \"organization_type\",\n",
    "        \"primary_uza\",\n",
    "        \"reporter_type\"\n",
    "    ]\n",
    "    \n",
    "# Merge in NTD data. \n",
    "crosswalk_df = (\n",
    "        time_series_utils.concatenate_datasets_across_dates(\n",
    "            SCHED_GCS,\n",
    "            CROSSWALK,\n",
    "            analysis_date_list,\n",
    "            data_type=\"df\",\n",
    "            columns=ntd_cols\n",
    "        )\n",
    "        .sort_values([\"service_date\"])\n",
    "        .reset_index(drop=True)\n",
    "    )"
   ]
  },
  {
   "cell_type": "code",
   "execution_count": 26,
   "id": "cbc32812-1c1c-4388-896a-25d021c86f82",
   "metadata": {},
   "outputs": [
    {
     "data": {
      "text/html": [
       "<div>\n",
       "<style scoped>\n",
       "    .dataframe tbody tr th:only-of-type {\n",
       "        vertical-align: middle;\n",
       "    }\n",
       "\n",
       "    .dataframe tbody tr th {\n",
       "        vertical-align: top;\n",
       "    }\n",
       "\n",
       "    .dataframe thead th {\n",
       "        text-align: right;\n",
       "    }\n",
       "</style>\n",
       "<table border=\"1\" class=\"dataframe\">\n",
       "  <thead>\n",
       "    <tr style=\"text-align: right;\">\n",
       "      <th></th>\n",
       "      <th>schedule_gtfs_dataset_key</th>\n",
       "      <th>caltrans_district</th>\n",
       "      <th>counties_served</th>\n",
       "      <th>service_area_sq_miles</th>\n",
       "      <th>hq_city</th>\n",
       "      <th>uza_name</th>\n",
       "      <th>service_area_pop</th>\n",
       "      <th>organization_type</th>\n",
       "      <th>primary_uza</th>\n",
       "      <th>reporter_type</th>\n",
       "      <th>service_date</th>\n",
       "    </tr>\n",
       "  </thead>\n",
       "  <tbody>\n",
       "    <tr>\n",
       "      <th>0</th>\n",
       "      <td>d59cac4ec1a8938fa56334975848fa4e</td>\n",
       "      <td>07 - Los Angeles</td>\n",
       "      <td>Los Angeles</td>\n",
       "      <td>10</td>\n",
       "      <td>El Monte</td>\n",
       "      <td>Los Angeles--Long Beach--Anaheim, CA</td>\n",
       "      <td>201889</td>\n",
       "      <td>County or Local Government Unit or Department of Transportation</td>\n",
       "      <td>None</td>\n",
       "      <td>Reduced Reporter</td>\n",
       "      <td>2023-03-15</td>\n",
       "    </tr>\n",
       "    <tr>\n",
       "      <th>1</th>\n",
       "      <td>304a02a98bbf17467014dd1dc3596cfd</td>\n",
       "      <td>04 - Oakland</td>\n",
       "      <td>Sonoma</td>\n",
       "      <td>390</td>\n",
       "      <td>Santa Rosa</td>\n",
       "      <td>Santa Rosa, CA</td>\n",
       "      <td>484674</td>\n",
       "      <td>County or Local Government Unit or Department of Transportation</td>\n",
       "      <td>None</td>\n",
       "      <td>Full Reporter</td>\n",
       "      <td>2023-03-15</td>\n",
       "    </tr>\n",
       "  </tbody>\n",
       "</table>\n",
       "</div>"
      ],
      "text/plain": [
       "          schedule_gtfs_dataset_key caltrans_district counties_served  \\\n",
       "0  d59cac4ec1a8938fa56334975848fa4e  07 - Los Angeles     Los Angeles   \n",
       "1  304a02a98bbf17467014dd1dc3596cfd      04 - Oakland          Sonoma   \n",
       "\n",
       "   service_area_sq_miles     hq_city                              uza_name  \\\n",
       "0                     10    El Monte  Los Angeles--Long Beach--Anaheim, CA   \n",
       "1                    390  Santa Rosa                        Santa Rosa, CA   \n",
       "\n",
       "   service_area_pop  \\\n",
       "0            201889   \n",
       "1            484674   \n",
       "\n",
       "                                                 organization_type  \\\n",
       "0  County or Local Government Unit or Department of Transportation   \n",
       "1  County or Local Government Unit or Department of Transportation   \n",
       "\n",
       "  primary_uza     reporter_type service_date  \n",
       "0        None  Reduced Reporter   2023-03-15  \n",
       "1        None     Full Reporter   2023-03-15  "
      ]
     },
     "execution_count": 26,
     "metadata": {},
     "output_type": "execute_result"
    }
   ],
   "source": [
    "crosswalk_df.head(2)"
   ]
  },
  {
   "cell_type": "markdown",
   "id": "163b64ee-608e-4e63-8cdd-0fc15ae13615",
   "metadata": {},
   "source": [
    "#### Merge `operator_profiles` with `operator_metrics`"
   ]
  },
  {
   "cell_type": "code",
   "execution_count": 27,
   "id": "fc69cab2-0a5d-47f5-bc27-5d791594842b",
   "metadata": {},
   "outputs": [],
   "source": [
    "merge_cols = [\"organization_name\",\n",
    "              \"schedule_gtfs_dataset_key\",\n",
    "             \"service_date\",]"
   ]
  },
  {
   "cell_type": "code",
   "execution_count": 28,
   "id": "3ffbd55e-c721-4c10-b22b-ca8a8ac379de",
   "metadata": {},
   "outputs": [
    {
     "data": {
      "text/html": [
       "<div>\n",
       "<style scoped>\n",
       "    .dataframe tbody tr th:only-of-type {\n",
       "        vertical-align: middle;\n",
       "    }\n",
       "\n",
       "    .dataframe tbody tr th {\n",
       "        vertical-align: top;\n",
       "    }\n",
       "\n",
       "    .dataframe thead th {\n",
       "        text-align: right;\n",
       "    }\n",
       "</style>\n",
       "<table border=\"1\" class=\"dataframe\">\n",
       "  <thead>\n",
       "    <tr style=\"text-align: right;\">\n",
       "      <th></th>\n",
       "      <th>organization_name</th>\n",
       "      <th>schedule_gtfs_dataset_key</th>\n",
       "      <th>vp_per_min_agency</th>\n",
       "      <th>spatial_accuracy_agency</th>\n",
       "      <th>service_date</th>\n",
       "    </tr>\n",
       "  </thead>\n",
       "  <tbody>\n",
       "    <tr>\n",
       "      <th>0</th>\n",
       "      <td>Tulare County Regional Transit Agency</td>\n",
       "      <td>0139b1253130b33adcd4b3a4490530d2</td>\n",
       "      <td>2.67</td>\n",
       "      <td>81.10</td>\n",
       "      <td>2023-05-17</td>\n",
       "    </tr>\n",
       "    <tr>\n",
       "      <th>1</th>\n",
       "      <td>Tulare County Regional Transit Agency</td>\n",
       "      <td>0139b1253130b33adcd4b3a4490530d2</td>\n",
       "      <td>2.54</td>\n",
       "      <td>86.46</td>\n",
       "      <td>2023-06-14</td>\n",
       "    </tr>\n",
       "  </tbody>\n",
       "</table>\n",
       "</div>"
      ],
      "text/plain": [
       "                       organization_name         schedule_gtfs_dataset_key  \\\n",
       "0  Tulare County Regional Transit Agency  0139b1253130b33adcd4b3a4490530d2   \n",
       "1  Tulare County Regional Transit Agency  0139b1253130b33adcd4b3a4490530d2   \n",
       "\n",
       "   vp_per_min_agency  spatial_accuracy_agency service_date  \n",
       "0               2.67                    81.10   2023-05-17  \n",
       "1               2.54                    86.46   2023-06-14  "
      ]
     },
     "execution_count": 28,
     "metadata": {},
     "output_type": "execute_result"
    }
   ],
   "source": [
    "operator_metrics.head(2)"
   ]
  },
  {
   "cell_type": "code",
   "execution_count": 29,
   "id": "b7e938fb-f4c8-4dd8-af02-1439eefb35b0",
   "metadata": {},
   "outputs": [
    {
     "data": {
      "text/html": [
       "<div>\n",
       "<style scoped>\n",
       "    .dataframe tbody tr th:only-of-type {\n",
       "        vertical-align: middle;\n",
       "    }\n",
       "\n",
       "    .dataframe tbody tr th {\n",
       "        vertical-align: top;\n",
       "    }\n",
       "\n",
       "    .dataframe thead th {\n",
       "        text-align: right;\n",
       "    }\n",
       "</style>\n",
       "<table border=\"1\" class=\"dataframe\">\n",
       "  <thead>\n",
       "    <tr style=\"text-align: right;\">\n",
       "      <th></th>\n",
       "      <th>schedule_gtfs_dataset_key</th>\n",
       "      <th>operator_n_routes</th>\n",
       "      <th>operator_n_trips</th>\n",
       "      <th>operator_n_shapes</th>\n",
       "      <th>operator_n_stops</th>\n",
       "      <th>operator_n_arrivals</th>\n",
       "      <th>operator_route_length_miles</th>\n",
       "      <th>operator_arrivals_per_stop</th>\n",
       "      <th>n_downtown_local_routes</th>\n",
       "      <th>n_local_routes</th>\n",
       "      <th>n_coverage_routes</th>\n",
       "      <th>n_rapid_routes</th>\n",
       "      <th>n_express_routes</th>\n",
       "      <th>n_rail_routes</th>\n",
       "      <th>name</th>\n",
       "      <th>organization_source_record_id</th>\n",
       "      <th>organization_name</th>\n",
       "      <th>service_date</th>\n",
       "    </tr>\n",
       "  </thead>\n",
       "  <tbody>\n",
       "    <tr>\n",
       "      <th>0</th>\n",
       "      <td>014d0998350083249a9eb310635548c2</td>\n",
       "      <td>8</td>\n",
       "      <td>137</td>\n",
       "      <td>8</td>\n",
       "      <td>159</td>\n",
       "      <td>3771</td>\n",
       "      <td>79.50</td>\n",
       "      <td>23.72</td>\n",
       "      <td>2</td>\n",
       "      <td>0</td>\n",
       "      <td>6</td>\n",
       "      <td>8</td>\n",
       "      <td>0</td>\n",
       "      <td>0</td>\n",
       "      <td>SLO Schedule</td>\n",
       "      <td>reciakGBN1DP9dK9N</td>\n",
       "      <td>San Luis Obispo Regional Transit Authority</td>\n",
       "      <td>2023-10-11</td>\n",
       "    </tr>\n",
       "    <tr>\n",
       "      <th>1</th>\n",
       "      <td>014d0998350083249a9eb310635548c2</td>\n",
       "      <td>9</td>\n",
       "      <td>139</td>\n",
       "      <td>10</td>\n",
       "      <td>159</td>\n",
       "      <td>3803</td>\n",
       "      <td>85.88</td>\n",
       "      <td>23.92</td>\n",
       "      <td>2</td>\n",
       "      <td>0</td>\n",
       "      <td>8</td>\n",
       "      <td>10</td>\n",
       "      <td>0</td>\n",
       "      <td>0</td>\n",
       "      <td>SLO Schedule</td>\n",
       "      <td>reciakGBN1DP9dK9N</td>\n",
       "      <td>San Luis Obispo Regional Transit Authority</td>\n",
       "      <td>2023-11-15</td>\n",
       "    </tr>\n",
       "  </tbody>\n",
       "</table>\n",
       "</div>"
      ],
      "text/plain": [
       "          schedule_gtfs_dataset_key  operator_n_routes  operator_n_trips  \\\n",
       "0  014d0998350083249a9eb310635548c2                  8               137   \n",
       "1  014d0998350083249a9eb310635548c2                  9               139   \n",
       "\n",
       "   operator_n_shapes  operator_n_stops  operator_n_arrivals  \\\n",
       "0                  8               159                 3771   \n",
       "1                 10               159                 3803   \n",
       "\n",
       "   operator_route_length_miles  operator_arrivals_per_stop  \\\n",
       "0                        79.50                       23.72   \n",
       "1                        85.88                       23.92   \n",
       "\n",
       "   n_downtown_local_routes  n_local_routes  n_coverage_routes  n_rapid_routes  \\\n",
       "0                        2               0                  6               8   \n",
       "1                        2               0                  8              10   \n",
       "\n",
       "   n_express_routes  n_rail_routes          name  \\\n",
       "0                 0              0  SLO Schedule   \n",
       "1                 0              0  SLO Schedule   \n",
       "\n",
       "  organization_source_record_id                           organization_name  \\\n",
       "0             reciakGBN1DP9dK9N  San Luis Obispo Regional Transit Authority   \n",
       "1             reciakGBN1DP9dK9N  San Luis Obispo Regional Transit Authority   \n",
       "\n",
       "  service_date  \n",
       "0   2023-10-11  \n",
       "1   2023-11-15  "
      ]
     },
     "execution_count": 29,
     "metadata": {},
     "output_type": "execute_result"
    }
   ],
   "source": [
    "operator_profiles.head(2)"
   ]
  },
  {
   "cell_type": "markdown",
   "id": "c5e4aac3-c1bb-4852-86b2-72e99413ca62",
   "metadata": {},
   "source": [
    "#### What type of merge should it be?"
   ]
  },
  {
   "cell_type": "code",
   "execution_count": 30,
   "id": "9b6b7e09-e2be-4f65-9849-00fd4d337173",
   "metadata": {},
   "outputs": [
    {
     "data": {
      "text/plain": [
       "_merge    \n",
       "both          1586\n",
       "left_only     1382\n",
       "right_only     246\n",
       "dtype: int64"
      ]
     },
     "execution_count": 30,
     "metadata": {},
     "output_type": "execute_result"
    }
   ],
   "source": [
    "pd.merge(operator_profiles, operator_metrics, on = merge_cols, how = \"outer\", indicator = True)[[\"_merge\"]].value_counts()"
   ]
  },
  {
   "cell_type": "code",
   "execution_count": 31,
   "id": "c2a4c4af-518b-47c0-b285-8bafe41c2134",
   "metadata": {},
   "outputs": [],
   "source": [
    "m1 = pd.merge(operator_profiles, operator_metrics, on = merge_cols, how = \"outer\")"
   ]
  },
  {
   "cell_type": "code",
   "execution_count": 32,
   "id": "3c1c7fff-cc50-49b8-a757-f78db4e65448",
   "metadata": {},
   "outputs": [],
   "source": [
    "# Merge\n",
    "merge_cols = [\"schedule_gtfs_dataset_key\", \"service_date\"]\n",
    "op_profiles_df1 = pd.merge(\n",
    "        m1, \n",
    "        crosswalk_df, \n",
    "        on = merge_cols, \n",
    "        how = \"left\"\n",
    "    )"
   ]
  },
  {
   "cell_type": "code",
   "execution_count": 33,
   "id": "2e9e77f0-6176-44a4-a577-02ab14c345d3",
   "metadata": {},
   "outputs": [
    {
     "data": {
      "text/html": [
       "<div>\n",
       "<style scoped>\n",
       "    .dataframe tbody tr th:only-of-type {\n",
       "        vertical-align: middle;\n",
       "    }\n",
       "\n",
       "    .dataframe tbody tr th {\n",
       "        vertical-align: top;\n",
       "    }\n",
       "\n",
       "    .dataframe thead th {\n",
       "        text-align: right;\n",
       "    }\n",
       "</style>\n",
       "<table border=\"1\" class=\"dataframe\">\n",
       "  <thead>\n",
       "    <tr style=\"text-align: right;\">\n",
       "      <th></th>\n",
       "      <th>schedule_gtfs_dataset_key</th>\n",
       "      <th>operator_n_routes</th>\n",
       "      <th>operator_n_trips</th>\n",
       "      <th>operator_n_shapes</th>\n",
       "      <th>operator_n_stops</th>\n",
       "      <th>operator_n_arrivals</th>\n",
       "      <th>operator_route_length_miles</th>\n",
       "      <th>operator_arrivals_per_stop</th>\n",
       "      <th>n_downtown_local_routes</th>\n",
       "      <th>n_local_routes</th>\n",
       "      <th>n_coverage_routes</th>\n",
       "      <th>n_rapid_routes</th>\n",
       "      <th>n_express_routes</th>\n",
       "      <th>n_rail_routes</th>\n",
       "      <th>name</th>\n",
       "      <th>organization_source_record_id</th>\n",
       "      <th>organization_name</th>\n",
       "      <th>service_date</th>\n",
       "      <th>vp_per_min_agency</th>\n",
       "      <th>spatial_accuracy_agency</th>\n",
       "      <th>caltrans_district</th>\n",
       "      <th>counties_served</th>\n",
       "      <th>service_area_sq_miles</th>\n",
       "      <th>hq_city</th>\n",
       "      <th>uza_name</th>\n",
       "      <th>service_area_pop</th>\n",
       "      <th>organization_type</th>\n",
       "      <th>primary_uza</th>\n",
       "      <th>reporter_type</th>\n",
       "    </tr>\n",
       "  </thead>\n",
       "  <tbody>\n",
       "    <tr>\n",
       "      <th>0</th>\n",
       "      <td>014d0998350083249a9eb310635548c2</td>\n",
       "      <td>8.00</td>\n",
       "      <td>137.00</td>\n",
       "      <td>8.00</td>\n",
       "      <td>159.00</td>\n",
       "      <td>3771.00</td>\n",
       "      <td>79.50</td>\n",
       "      <td>23.72</td>\n",
       "      <td>2.00</td>\n",
       "      <td>0.00</td>\n",
       "      <td>6.00</td>\n",
       "      <td>8.00</td>\n",
       "      <td>0.00</td>\n",
       "      <td>0.00</td>\n",
       "      <td>SLO Schedule</td>\n",
       "      <td>reciakGBN1DP9dK9N</td>\n",
       "      <td>San Luis Obispo Regional Transit Authority</td>\n",
       "      <td>2023-10-11</td>\n",
       "      <td>NaN</td>\n",
       "      <td>NaN</td>\n",
       "      <td>05 - San Luis Obispo</td>\n",
       "      <td>San Luis Obispo</td>\n",
       "      <td>130</td>\n",
       "      <td>San Luis Obispo</td>\n",
       "      <td>San Luis Obispo, CA</td>\n",
       "      <td>206008</td>\n",
       "      <td>Public Agency or Authority of Transit Service</td>\n",
       "      <td>None</td>\n",
       "      <td>Full Reporter</td>\n",
       "    </tr>\n",
       "    <tr>\n",
       "      <th>1</th>\n",
       "      <td>014d0998350083249a9eb310635548c2</td>\n",
       "      <td>9.00</td>\n",
       "      <td>139.00</td>\n",
       "      <td>10.00</td>\n",
       "      <td>159.00</td>\n",
       "      <td>3803.00</td>\n",
       "      <td>85.88</td>\n",
       "      <td>23.92</td>\n",
       "      <td>2.00</td>\n",
       "      <td>0.00</td>\n",
       "      <td>8.00</td>\n",
       "      <td>10.00</td>\n",
       "      <td>0.00</td>\n",
       "      <td>0.00</td>\n",
       "      <td>SLO Schedule</td>\n",
       "      <td>reciakGBN1DP9dK9N</td>\n",
       "      <td>San Luis Obispo Regional Transit Authority</td>\n",
       "      <td>2023-11-15</td>\n",
       "      <td>NaN</td>\n",
       "      <td>NaN</td>\n",
       "      <td>05 - San Luis Obispo</td>\n",
       "      <td>San Luis Obispo</td>\n",
       "      <td>130</td>\n",
       "      <td>San Luis Obispo</td>\n",
       "      <td>San Luis Obispo, CA</td>\n",
       "      <td>206008</td>\n",
       "      <td>Public Agency or Authority of Transit Service</td>\n",
       "      <td>None</td>\n",
       "      <td>Full Reporter</td>\n",
       "    </tr>\n",
       "  </tbody>\n",
       "</table>\n",
       "</div>"
      ],
      "text/plain": [
       "          schedule_gtfs_dataset_key  operator_n_routes  operator_n_trips  \\\n",
       "0  014d0998350083249a9eb310635548c2               8.00            137.00   \n",
       "1  014d0998350083249a9eb310635548c2               9.00            139.00   \n",
       "\n",
       "   operator_n_shapes  operator_n_stops  operator_n_arrivals  \\\n",
       "0               8.00            159.00              3771.00   \n",
       "1              10.00            159.00              3803.00   \n",
       "\n",
       "   operator_route_length_miles  operator_arrivals_per_stop  \\\n",
       "0                        79.50                       23.72   \n",
       "1                        85.88                       23.92   \n",
       "\n",
       "   n_downtown_local_routes  n_local_routes  n_coverage_routes  n_rapid_routes  \\\n",
       "0                     2.00            0.00               6.00            8.00   \n",
       "1                     2.00            0.00               8.00           10.00   \n",
       "\n",
       "   n_express_routes  n_rail_routes          name  \\\n",
       "0              0.00           0.00  SLO Schedule   \n",
       "1              0.00           0.00  SLO Schedule   \n",
       "\n",
       "  organization_source_record_id                           organization_name  \\\n",
       "0             reciakGBN1DP9dK9N  San Luis Obispo Regional Transit Authority   \n",
       "1             reciakGBN1DP9dK9N  San Luis Obispo Regional Transit Authority   \n",
       "\n",
       "  service_date  vp_per_min_agency  spatial_accuracy_agency  \\\n",
       "0   2023-10-11                NaN                      NaN   \n",
       "1   2023-11-15                NaN                      NaN   \n",
       "\n",
       "      caltrans_district  counties_served  service_area_sq_miles  \\\n",
       "0  05 - San Luis Obispo  San Luis Obispo                    130   \n",
       "1  05 - San Luis Obispo  San Luis Obispo                    130   \n",
       "\n",
       "           hq_city             uza_name  service_area_pop  \\\n",
       "0  San Luis Obispo  San Luis Obispo, CA            206008   \n",
       "1  San Luis Obispo  San Luis Obispo, CA            206008   \n",
       "\n",
       "                               organization_type primary_uza  reporter_type  \n",
       "0  Public Agency or Authority of Transit Service        None  Full Reporter  \n",
       "1  Public Agency or Authority of Transit Service        None  Full Reporter  "
      ]
     },
     "execution_count": 33,
     "metadata": {},
     "output_type": "execute_result"
    }
   ],
   "source": [
    "op_profiles_df1.head(2)"
   ]
  },
  {
   "cell_type": "code",
   "execution_count": 34,
   "id": "1bea1059-4197-4d23-900b-a2d388ebdd6b",
   "metadata": {},
   "outputs": [],
   "source": [
    "from shared_utils import gtfs_utils_v2, publish_utils"
   ]
  },
  {
   "cell_type": "code",
   "execution_count": 35,
   "id": "f83834d0-9c0d-4c0c-86ce-7e99554a525d",
   "metadata": {},
   "outputs": [],
   "source": [
    "public_feeds = gtfs_utils_v2.filter_to_public_schedule_gtfs_dataset_keys()"
   ]
  },
  {
   "cell_type": "code",
   "execution_count": 36,
   "id": "2b4947fb-f7f5-4085-bcff-3a16c3ed531e",
   "metadata": {},
   "outputs": [
    {
     "data": {
      "text/plain": [
       "list"
      ]
     },
     "execution_count": 36,
     "metadata": {},
     "output_type": "execute_result"
    }
   ],
   "source": [
    "type(public_feeds)"
   ]
  },
  {
   "cell_type": "code",
   "execution_count": null,
   "id": "48947295-5b55-410f-8e4b-834f944037f2",
   "metadata": {},
   "outputs": [],
   "source": []
  },
  {
   "cell_type": "code",
   "execution_count": 37,
   "id": "6c851964-95d4-4cc2-8592-fee0766d8c5c",
   "metadata": {},
   "outputs": [],
   "source": [
    "op_profiles_df2 = (\n",
    "        op_profiles_df1\n",
    "        .pipe(\n",
    "            publish_utils.exclude_private_datasets, \n",
    "            col = \"schedule_gtfs_dataset_key\", \n",
    "            public_gtfs_dataset_keys = public_feeds\n",
    "        ).drop_duplicates(subset = list(op_profiles_df1.columns))\n",
    "    .reset_index(drop = True))"
   ]
  },
  {
   "cell_type": "code",
   "execution_count": 38,
   "id": "fe36b2f3-7157-454c-815d-fd6f1e6ed549",
   "metadata": {},
   "outputs": [],
   "source": [
    "OPERATOR_PROFILE = GTFS_DATA_DICT.digest_tables.operator_profiles"
   ]
  },
  {
   "cell_type": "code",
   "execution_count": 39,
   "id": "827827f8-5407-49e7-8bce-df15dce85862",
   "metadata": {},
   "outputs": [
    {
     "data": {
      "text/plain": [
       "'digest/operator_profiles'"
      ]
     },
     "execution_count": 39,
     "metadata": {},
     "output_type": "execute_result"
    }
   ],
   "source": [
    "OPERATOR_PROFILE"
   ]
  },
  {
   "cell_type": "code",
   "execution_count": 40,
   "id": "6d6b2b7b-a955-4ca0-9103-10beb5a3ee43",
   "metadata": {},
   "outputs": [
    {
     "data": {
      "text/plain": [
       "'gs://calitp-analytics-data/data-analyses/rt_vs_schedule/'"
      ]
     },
     "execution_count": 40,
     "metadata": {},
     "output_type": "execute_result"
    }
   ],
   "source": [
    "RT_SCHED_GCS"
   ]
  },
  {
   "cell_type": "code",
   "execution_count": 41,
   "id": "840eae8f-6833-47e2-9b5f-b35bd575401c",
   "metadata": {},
   "outputs": [
    {
     "data": {
      "text/plain": [
       "'gs://calitp-analytics-data/data-analyses/rt_vs_schedule/digest/operator_profiles_AH_TESTING_.parquet'"
      ]
     },
     "execution_count": 41,
     "metadata": {},
     "output_type": "execute_result"
    }
   ],
   "source": [
    "f\"{RT_SCHED_GCS}{OPERATOR_PROFILE}_AH_TESTING_.parquet\""
   ]
  },
  {
   "cell_type": "code",
   "execution_count": 42,
   "id": "9a62b277-02c5-4bb3-9e10-8be69e29b586",
   "metadata": {},
   "outputs": [],
   "source": [
    "op_profiles_df2.to_parquet(\n",
    "        f\"{RT_SCHED_GCS}{OPERATOR_PROFILE}_AH_TESTING_.parquet\"\n",
    "    )"
   ]
  },
  {
   "cell_type": "code",
   "execution_count": 43,
   "id": "9df3e425-624b-48e8-abf5-79f095d5c3b6",
   "metadata": {},
   "outputs": [
    {
     "data": {
      "text/html": [
       "<div>\n",
       "<style scoped>\n",
       "    .dataframe tbody tr th:only-of-type {\n",
       "        vertical-align: middle;\n",
       "    }\n",
       "\n",
       "    .dataframe tbody tr th {\n",
       "        vertical-align: top;\n",
       "    }\n",
       "\n",
       "    .dataframe thead th {\n",
       "        text-align: right;\n",
       "    }\n",
       "</style>\n",
       "<table border=\"1\" class=\"dataframe\">\n",
       "  <thead>\n",
       "    <tr style=\"text-align: right;\">\n",
       "      <th></th>\n",
       "      <th>schedule_gtfs_dataset_key</th>\n",
       "      <th>operator_n_routes</th>\n",
       "      <th>operator_n_trips</th>\n",
       "      <th>operator_n_shapes</th>\n",
       "      <th>operator_n_stops</th>\n",
       "      <th>operator_n_arrivals</th>\n",
       "      <th>operator_route_length_miles</th>\n",
       "      <th>operator_arrivals_per_stop</th>\n",
       "      <th>n_downtown_local_routes</th>\n",
       "      <th>n_local_routes</th>\n",
       "      <th>n_coverage_routes</th>\n",
       "      <th>n_rapid_routes</th>\n",
       "      <th>n_express_routes</th>\n",
       "      <th>n_rail_routes</th>\n",
       "      <th>name</th>\n",
       "      <th>organization_source_record_id</th>\n",
       "      <th>organization_name</th>\n",
       "      <th>service_date</th>\n",
       "      <th>vp_per_min_agency</th>\n",
       "      <th>spatial_accuracy_agency</th>\n",
       "      <th>caltrans_district</th>\n",
       "      <th>counties_served</th>\n",
       "      <th>service_area_sq_miles</th>\n",
       "      <th>hq_city</th>\n",
       "      <th>uza_name</th>\n",
       "      <th>service_area_pop</th>\n",
       "      <th>organization_type</th>\n",
       "      <th>primary_uza</th>\n",
       "      <th>reporter_type</th>\n",
       "    </tr>\n",
       "  </thead>\n",
       "  <tbody>\n",
       "    <tr>\n",
       "      <th>0</th>\n",
       "      <td>014d0998350083249a9eb310635548c2</td>\n",
       "      <td>8.00</td>\n",
       "      <td>137.00</td>\n",
       "      <td>8.00</td>\n",
       "      <td>159.00</td>\n",
       "      <td>3771.00</td>\n",
       "      <td>79.50</td>\n",
       "      <td>23.72</td>\n",
       "      <td>2.00</td>\n",
       "      <td>0.00</td>\n",
       "      <td>6.00</td>\n",
       "      <td>8.00</td>\n",
       "      <td>0.00</td>\n",
       "      <td>0.00</td>\n",
       "      <td>SLO Schedule</td>\n",
       "      <td>reciakGBN1DP9dK9N</td>\n",
       "      <td>San Luis Obispo Regional Transit Authority</td>\n",
       "      <td>2023-10-11</td>\n",
       "      <td>NaN</td>\n",
       "      <td>NaN</td>\n",
       "      <td>05 - San Luis Obispo</td>\n",
       "      <td>San Luis Obispo</td>\n",
       "      <td>130</td>\n",
       "      <td>San Luis Obispo</td>\n",
       "      <td>San Luis Obispo, CA</td>\n",
       "      <td>206008</td>\n",
       "      <td>Public Agency or Authority of Transit Service</td>\n",
       "      <td>None</td>\n",
       "      <td>Full Reporter</td>\n",
       "    </tr>\n",
       "    <tr>\n",
       "      <th>1</th>\n",
       "      <td>014d0998350083249a9eb310635548c2</td>\n",
       "      <td>9.00</td>\n",
       "      <td>139.00</td>\n",
       "      <td>10.00</td>\n",
       "      <td>159.00</td>\n",
       "      <td>3803.00</td>\n",
       "      <td>85.88</td>\n",
       "      <td>23.92</td>\n",
       "      <td>2.00</td>\n",
       "      <td>0.00</td>\n",
       "      <td>8.00</td>\n",
       "      <td>10.00</td>\n",
       "      <td>0.00</td>\n",
       "      <td>0.00</td>\n",
       "      <td>SLO Schedule</td>\n",
       "      <td>reciakGBN1DP9dK9N</td>\n",
       "      <td>San Luis Obispo Regional Transit Authority</td>\n",
       "      <td>2023-11-15</td>\n",
       "      <td>NaN</td>\n",
       "      <td>NaN</td>\n",
       "      <td>05 - San Luis Obispo</td>\n",
       "      <td>San Luis Obispo</td>\n",
       "      <td>130</td>\n",
       "      <td>San Luis Obispo</td>\n",
       "      <td>San Luis Obispo, CA</td>\n",
       "      <td>206008</td>\n",
       "      <td>Public Agency or Authority of Transit Service</td>\n",
       "      <td>None</td>\n",
       "      <td>Full Reporter</td>\n",
       "    </tr>\n",
       "  </tbody>\n",
       "</table>\n",
       "</div>"
      ],
      "text/plain": [
       "          schedule_gtfs_dataset_key  operator_n_routes  operator_n_trips  \\\n",
       "0  014d0998350083249a9eb310635548c2               8.00            137.00   \n",
       "1  014d0998350083249a9eb310635548c2               9.00            139.00   \n",
       "\n",
       "   operator_n_shapes  operator_n_stops  operator_n_arrivals  \\\n",
       "0               8.00            159.00              3771.00   \n",
       "1              10.00            159.00              3803.00   \n",
       "\n",
       "   operator_route_length_miles  operator_arrivals_per_stop  \\\n",
       "0                        79.50                       23.72   \n",
       "1                        85.88                       23.92   \n",
       "\n",
       "   n_downtown_local_routes  n_local_routes  n_coverage_routes  n_rapid_routes  \\\n",
       "0                     2.00            0.00               6.00            8.00   \n",
       "1                     2.00            0.00               8.00           10.00   \n",
       "\n",
       "   n_express_routes  n_rail_routes          name  \\\n",
       "0              0.00           0.00  SLO Schedule   \n",
       "1              0.00           0.00  SLO Schedule   \n",
       "\n",
       "  organization_source_record_id                           organization_name  \\\n",
       "0             reciakGBN1DP9dK9N  San Luis Obispo Regional Transit Authority   \n",
       "1             reciakGBN1DP9dK9N  San Luis Obispo Regional Transit Authority   \n",
       "\n",
       "  service_date  vp_per_min_agency  spatial_accuracy_agency  \\\n",
       "0   2023-10-11                NaN                      NaN   \n",
       "1   2023-11-15                NaN                      NaN   \n",
       "\n",
       "      caltrans_district  counties_served  service_area_sq_miles  \\\n",
       "0  05 - San Luis Obispo  San Luis Obispo                    130   \n",
       "1  05 - San Luis Obispo  San Luis Obispo                    130   \n",
       "\n",
       "           hq_city             uza_name  service_area_pop  \\\n",
       "0  San Luis Obispo  San Luis Obispo, CA            206008   \n",
       "1  San Luis Obispo  San Luis Obispo, CA            206008   \n",
       "\n",
       "                               organization_type primary_uza  reporter_type  \n",
       "0  Public Agency or Authority of Transit Service        None  Full Reporter  \n",
       "1  Public Agency or Authority of Transit Service        None  Full Reporter  "
      ]
     },
     "execution_count": 43,
     "metadata": {},
     "output_type": "execute_result"
    }
   ],
   "source": [
    "op_profiles_df2.head(2)"
   ]
  },
  {
   "cell_type": "markdown",
   "id": "a7166d71-6f8e-463d-a6ab-3c62b1c20bf2",
   "metadata": {},
   "source": [
    "### Test out functions for creating the portfolio\n",
    "* aka _section1 and _section2"
   ]
  },
  {
   "cell_type": "code",
   "execution_count": 44,
   "id": "ade81018-f313-4139-b5f0-2c4269a9d471",
   "metadata": {},
   "outputs": [],
   "source": [
    "organization_name = \"Marin County Transit District\""
   ]
  },
  {
   "cell_type": "code",
   "execution_count": 45,
   "id": "08ca19dc-0c8f-476e-b6a6-714eebcd235a",
   "metadata": {},
   "outputs": [],
   "source": [
    "op_profiles_url = \"gs://calitp-analytics-data/data-analyses/rt_vs_schedule/digest/operator_profiles_AH_TESTING_.parquet\"\n",
    "op_profiles_df = pd.read_parquet(\n",
    "    op_profiles_url,\n",
    "    filters=[[(\"organization_name\", \"==\", organization_name)]])"
   ]
  },
  {
   "cell_type": "code",
   "execution_count": 46,
   "id": "a9af3f98-a58f-41ff-8f0e-a392cd879330",
   "metadata": {},
   "outputs": [],
   "source": [
    " # Keep only the most recent row\n",
    "op_profiles_df1 = op_profiles_df.sort_values(by = ['service_date'], ascending = False).head(1)\n",
    "    "
   ]
  },
  {
   "cell_type": "code",
   "execution_count": 47,
   "id": "f92759fd-a335-49c2-ac02-bab693d888e0",
   "metadata": {},
   "outputs": [],
   "source": [
    "import yaml\n",
    "with open(\"readable.yml\") as f:\n",
    "    readable_dict = yaml.safe_load(f)"
   ]
  },
  {
   "cell_type": "code",
   "execution_count": 48,
   "id": "531be7f5-5a74-486f-9ce2-e78e8edadf6d",
   "metadata": {},
   "outputs": [
    {
     "data": {
      "text/html": [
       "<div>\n",
       "<style scoped>\n",
       "    .dataframe tbody tr th:only-of-type {\n",
       "        vertical-align: middle;\n",
       "    }\n",
       "\n",
       "    .dataframe tbody tr th {\n",
       "        vertical-align: top;\n",
       "    }\n",
       "\n",
       "    .dataframe thead th {\n",
       "        text-align: right;\n",
       "    }\n",
       "</style>\n",
       "<table border=\"1\" class=\"dataframe\">\n",
       "  <thead>\n",
       "    <tr style=\"text-align: right;\">\n",
       "      <th></th>\n",
       "      <th>schedule_gtfs_dataset_key</th>\n",
       "      <th>operator_n_routes</th>\n",
       "      <th>operator_n_trips</th>\n",
       "      <th>operator_n_shapes</th>\n",
       "      <th>operator_n_stops</th>\n",
       "      <th>operator_n_arrivals</th>\n",
       "      <th>operator_route_length_miles</th>\n",
       "      <th>operator_arrivals_per_stop</th>\n",
       "      <th>n_downtown_local_routes</th>\n",
       "      <th>n_local_routes</th>\n",
       "      <th>n_coverage_routes</th>\n",
       "      <th>n_rapid_routes</th>\n",
       "      <th>n_express_routes</th>\n",
       "      <th>n_rail_routes</th>\n",
       "      <th>name</th>\n",
       "      <th>organization_source_record_id</th>\n",
       "      <th>organization_name</th>\n",
       "      <th>service_date</th>\n",
       "      <th>vp_per_min_agency</th>\n",
       "      <th>spatial_accuracy_agency</th>\n",
       "      <th>caltrans_district</th>\n",
       "      <th>counties_served</th>\n",
       "      <th>service_area_sq_miles</th>\n",
       "      <th>hq_city</th>\n",
       "      <th>uza_name</th>\n",
       "      <th>service_area_pop</th>\n",
       "      <th>organization_type</th>\n",
       "      <th>primary_uza</th>\n",
       "      <th>reporter_type</th>\n",
       "    </tr>\n",
       "  </thead>\n",
       "  <tbody>\n",
       "    <tr>\n",
       "      <th>17</th>\n",
       "      <td>015d67d5b75b5cf2b710bbadadfb75f5</td>\n",
       "      <td>19.00</td>\n",
       "      <td>642.00</td>\n",
       "      <td>62.00</td>\n",
       "      <td>550.00</td>\n",
       "      <td>16330.00</td>\n",
       "      <td>250.09</td>\n",
       "      <td>29.69</td>\n",
       "      <td>24.00</td>\n",
       "      <td>5.00</td>\n",
       "      <td>10.00</td>\n",
       "      <td>16.00</td>\n",
       "      <td>0.00</td>\n",
       "      <td>0.00</td>\n",
       "      <td>Bay Area 511 Marin Schedule</td>\n",
       "      <td>recNOb7pqBRlQVG5e</td>\n",
       "      <td>Marin County Transit District</td>\n",
       "      <td>2024-09-18</td>\n",
       "      <td>2.65</td>\n",
       "      <td>65.17</td>\n",
       "      <td>04 - Oakland</td>\n",
       "      <td>Marin</td>\n",
       "      <td>520</td>\n",
       "      <td>San Rafael</td>\n",
       "      <td>San Francisco--Oakland, CA</td>\n",
       "      <td>262321</td>\n",
       "      <td>Public Agency or Authority of Transit Service</td>\n",
       "      <td>None</td>\n",
       "      <td>Full Reporter</td>\n",
       "    </tr>\n",
       "  </tbody>\n",
       "</table>\n",
       "</div>"
      ],
      "text/plain": [
       "           schedule_gtfs_dataset_key  operator_n_routes  operator_n_trips  \\\n",
       "17  015d67d5b75b5cf2b710bbadadfb75f5              19.00            642.00   \n",
       "\n",
       "    operator_n_shapes  operator_n_stops  operator_n_arrivals  \\\n",
       "17              62.00            550.00             16330.00   \n",
       "\n",
       "    operator_route_length_miles  operator_arrivals_per_stop  \\\n",
       "17                       250.09                       29.69   \n",
       "\n",
       "    n_downtown_local_routes  n_local_routes  n_coverage_routes  \\\n",
       "17                    24.00            5.00              10.00   \n",
       "\n",
       "    n_rapid_routes  n_express_routes  n_rail_routes  \\\n",
       "17           16.00              0.00           0.00   \n",
       "\n",
       "                           name organization_source_record_id  \\\n",
       "17  Bay Area 511 Marin Schedule             recNOb7pqBRlQVG5e   \n",
       "\n",
       "                organization_name service_date  vp_per_min_agency  \\\n",
       "17  Marin County Transit District   2024-09-18               2.65   \n",
       "\n",
       "    spatial_accuracy_agency caltrans_district counties_served  \\\n",
       "17                    65.17      04 - Oakland           Marin   \n",
       "\n",
       "    service_area_sq_miles     hq_city                    uza_name  \\\n",
       "17                    520  San Rafael  San Francisco--Oakland, CA   \n",
       "\n",
       "    service_area_pop                              organization_type  \\\n",
       "17            262321  Public Agency or Authority of Transit Service   \n",
       "\n",
       "   primary_uza  reporter_type  \n",
       "17        None  Full Reporter  "
      ]
     },
     "execution_count": 48,
     "metadata": {},
     "output_type": "execute_result"
    }
   ],
   "source": [
    "op_profiles_df1"
   ]
  },
  {
   "cell_type": "code",
   "execution_count": 49,
   "id": "8af25521-0102-4899-917e-a22bc28180f9",
   "metadata": {},
   "outputs": [
    {
     "data": {
      "text/plain": [
       "pandas.core.frame.DataFrame"
      ]
     },
     "execution_count": 49,
     "metadata": {},
     "output_type": "execute_result"
    }
   ],
   "source": [
    "type(op_profiles_df1)"
   ]
  },
  {
   "cell_type": "code",
   "execution_count": 51,
   "id": "37af5f16-3c0b-4e94-b41b-e7760530f1e3",
   "metadata": {},
   "outputs": [],
   "source": [
    "def replace_column_names(df: pd.DataFrame) -> pd.DataFrame:\n",
    "    \"\"\"\n",
    "    Replace column names with more readable names found in readable_dict.yml.\n",
    "    \n",
    "    Args:\n",
    "    df (pd.DataFrame): Input DataFrame.\n",
    "    \n",
    "    Returns:\n",
    "    pd.DataFrame: DataFrame with replaced column names.\n",
    "    \"\"\"\n",
    "    \n",
    " \n",
    "    # Input validation\n",
    "    if not isinstance(df, pd.DataFrame):\n",
    "        raise ValueError(\"Input 'df' must be a pandas DataFrame\")\n",
    "    \n",
    "    def replace_single_column(column_name: str) -> str:\n",
    "        value = readable_dict.get(column_name)\n",
    "        if isinstance(value, dict):\n",
    "            return value.get('readable', column_name)\n",
    "        else:\n",
    "            return value or column_name\n",
    "    \n",
    "    # Rename columns using dictionary comprehension\n",
    "    df = df.rename(columns={c: replace_single_column(c) for c in df.columns})\n",
    "    \n",
    "    return df"
   ]
  },
  {
   "cell_type": "code",
   "execution_count": 52,
   "id": "97a073a1-aa7b-4dac-a348-d5bea10b2248",
   "metadata": {},
   "outputs": [
    {
     "data": {
      "text/html": [
       "<div>\n",
       "<style scoped>\n",
       "    .dataframe tbody tr th:only-of-type {\n",
       "        vertical-align: middle;\n",
       "    }\n",
       "\n",
       "    .dataframe tbody tr th {\n",
       "        vertical-align: top;\n",
       "    }\n",
       "\n",
       "    .dataframe thead th {\n",
       "        text-align: right;\n",
       "    }\n",
       "</style>\n",
       "<table border=\"1\" class=\"dataframe\">\n",
       "  <thead>\n",
       "    <tr style=\"text-align: right;\">\n",
       "      <th></th>\n",
       "      <th>schedule_gtfs_dataset_key</th>\n",
       "      <th># Routes</th>\n",
       "      <th># Trips</th>\n",
       "      <th># Shapes</th>\n",
       "      <th># Stops</th>\n",
       "      <th># Arrivals</th>\n",
       "      <th>Operator Service Miles</th>\n",
       "      <th>Avg Arrivals per Stop</th>\n",
       "      <th># Downtown Local Route Types</th>\n",
       "      <th># Local Route Types</th>\n",
       "      <th># Coverage Route Types</th>\n",
       "      <th># Rapid Route Types</th>\n",
       "      <th># Express Route Types</th>\n",
       "      <th># Rail Route Types</th>\n",
       "      <th>Transit Operator</th>\n",
       "      <th>Organization ID</th>\n",
       "      <th>Organization</th>\n",
       "      <th>Date</th>\n",
       "      <th>VP per Minute (All Routes)</th>\n",
       "      <th>Spatial Accuracy (All Routes)</th>\n",
       "      <th>District</th>\n",
       "      <th>counties_served</th>\n",
       "      <th>service_area_sq_miles</th>\n",
       "      <th>hq_city</th>\n",
       "      <th>uza_name</th>\n",
       "      <th>service_area_pop</th>\n",
       "      <th>organization_type</th>\n",
       "      <th>primary_uza</th>\n",
       "      <th>reporter_type</th>\n",
       "    </tr>\n",
       "  </thead>\n",
       "  <tbody>\n",
       "    <tr>\n",
       "      <th>17</th>\n",
       "      <td>015d67d5b75b5cf2b710bbadadfb75f5</td>\n",
       "      <td>19.00</td>\n",
       "      <td>642.00</td>\n",
       "      <td>62.00</td>\n",
       "      <td>550.00</td>\n",
       "      <td>16330.00</td>\n",
       "      <td>250.09</td>\n",
       "      <td>29.69</td>\n",
       "      <td>24.00</td>\n",
       "      <td>5.00</td>\n",
       "      <td>10.00</td>\n",
       "      <td>16.00</td>\n",
       "      <td>0.00</td>\n",
       "      <td>0.00</td>\n",
       "      <td>Bay Area 511 Marin Schedule</td>\n",
       "      <td>recNOb7pqBRlQVG5e</td>\n",
       "      <td>Marin County Transit District</td>\n",
       "      <td>2024-09-18</td>\n",
       "      <td>2.65</td>\n",
       "      <td>65.17</td>\n",
       "      <td>04 - Oakland</td>\n",
       "      <td>Marin</td>\n",
       "      <td>520</td>\n",
       "      <td>San Rafael</td>\n",
       "      <td>San Francisco--Oakland, CA</td>\n",
       "      <td>262321</td>\n",
       "      <td>Public Agency or Authority of Transit Service</td>\n",
       "      <td>None</td>\n",
       "      <td>Full Reporter</td>\n",
       "    </tr>\n",
       "  </tbody>\n",
       "</table>\n",
       "</div>"
      ],
      "text/plain": [
       "           schedule_gtfs_dataset_key  # Routes  # Trips  # Shapes  # Stops  \\\n",
       "17  015d67d5b75b5cf2b710bbadadfb75f5     19.00   642.00     62.00   550.00   \n",
       "\n",
       "    # Arrivals  Operator Service Miles  Avg Arrivals per Stop  \\\n",
       "17    16330.00                  250.09                  29.69   \n",
       "\n",
       "    # Downtown Local Route Types  # Local Route Types  # Coverage Route Types  \\\n",
       "17                         24.00                 5.00                   10.00   \n",
       "\n",
       "    # Rapid Route Types  # Express Route Types  # Rail Route Types  \\\n",
       "17                16.00                   0.00                0.00   \n",
       "\n",
       "               Transit Operator    Organization ID  \\\n",
       "17  Bay Area 511 Marin Schedule  recNOb7pqBRlQVG5e   \n",
       "\n",
       "                     Organization       Date  VP per Minute (All Routes)  \\\n",
       "17  Marin County Transit District 2024-09-18                        2.65   \n",
       "\n",
       "    Spatial Accuracy (All Routes)      District counties_served  \\\n",
       "17                          65.17  04 - Oakland           Marin   \n",
       "\n",
       "    service_area_sq_miles     hq_city                    uza_name  \\\n",
       "17                    520  San Rafael  San Francisco--Oakland, CA   \n",
       "\n",
       "    service_area_pop                              organization_type  \\\n",
       "17            262321  Public Agency or Authority of Transit Service   \n",
       "\n",
       "   primary_uza  reporter_type  \n",
       "17        None  Full Reporter  "
      ]
     },
     "execution_count": 52,
     "metadata": {},
     "output_type": "execute_result"
    }
   ],
   "source": [
    "replace_column_names(op_profiles_df1)"
   ]
  }
 ],
 "metadata": {
  "kernelspec": {
   "display_name": "Python 3 (ipykernel)",
   "language": "python",
   "name": "python3"
  },
  "language_info": {
   "codemirror_mode": {
    "name": "ipython",
    "version": 3
   },
   "file_extension": ".py",
   "mimetype": "text/x-python",
   "name": "python",
   "nbconvert_exporter": "python",
   "pygments_lexer": "ipython3",
   "version": "3.9.13"
  }
 },
 "nbformat": 4,
 "nbformat_minor": 5
}
