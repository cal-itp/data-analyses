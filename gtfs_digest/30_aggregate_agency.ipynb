{
 "cells": [
  {
   "cell_type": "markdown",
   "id": "6edd69a8-2298-4d25-a8e4-6f2dacb5e70d",
   "metadata": {},
   "source": [
    "## Request for Aggregated Data.\n",
    "* would there be any way to present aggregated data at the agency level?  I'd like to see (and, ideally compare) spatial accuracy and VP per minute.   "
   ]
  },
  {
   "cell_type": "code",
   "execution_count": 16,
   "id": "8b3dd7a2-09cc-492c-b9b9-ba5c17924238",
   "metadata": {},
   "outputs": [],
   "source": [
    "import geopandas as gpd\n",
    "import pandas as pd\n",
    "from segment_speed_utils import gtfs_schedule_wrangling, helpers, time_series_utils\n",
    "from shared_utils import catalog_utils, rt_dates, rt_utils\n",
    "from update_vars import GTFS_DATA_DICT, RT_SCHED_GCS, SCHED_GCS\n",
    "\n",
    "# https://github.com/cal-itp/data-analyses/blob/main/_shared_utils/shared_utils/gtfs_analytics_data.yml\n",
    "GTFS_DATA_DICT = catalog_utils.get_catalog(\"gtfs_analytics_data\")\n",
    "\n",
    "from segment_speed_utils.project_vars import (\n",
    "    COMPILED_CACHED_VIEWS,\n",
    "    GTFS_DATA_DICT,\n",
    "    PROJECT_CRS,\n",
    "    RT_SCHED_GCS,\n",
    "    SCHED_GCS,\n",
    "    SEGMENT_GCS,\n",
    ")"
   ]
  },
  {
   "cell_type": "code",
   "execution_count": 2,
   "id": "9997b11d-2602-4d27-9aab-a7c1aaa5349a",
   "metadata": {},
   "outputs": [],
   "source": [
    "pd.options.display.max_columns = 100\n",
    "pd.options.display.float_format = \"{:.2f}\".format\n",
    "pd.set_option(\"display.max_rows\", None)\n",
    "pd.set_option(\"display.max_colwidth\", None)"
   ]
  },
  {
   "cell_type": "code",
   "execution_count": 12,
   "id": "fa71a53f-1ec6-4e4c-8fb4-363ab29ab9e0",
   "metadata": {},
   "outputs": [
    {
     "data": {
      "text/plain": [
       "'digest/schedule_vp_metrics'"
      ]
     },
     "execution_count": 12,
     "metadata": {},
     "output_type": "execute_result"
    }
   ],
   "source": [
    "GTFS_DATA_DICT.digest_tables.route_schedule_vp"
   ]
  },
  {
   "cell_type": "code",
   "execution_count": 7,
   "id": "d2e566e9-c5ee-4de4-95c6-ed36cce59cd1",
   "metadata": {},
   "outputs": [
    {
     "data": {
      "text/plain": [
       "'vp_route_dir/route_direction_metrics'"
      ]
     },
     "execution_count": 7,
     "metadata": {},
     "output_type": "execute_result"
    }
   ],
   "source": [
    "GTFS_DATA_DICT.rt_vs_schedule_tables.vp_route_direction_metrics"
   ]
  },
  {
   "cell_type": "code",
   "execution_count": 8,
   "id": "1a54566c-33e6-45dc-b2fd-26cecb575853",
   "metadata": {},
   "outputs": [],
   "source": [
    "df1 = pd.read_parquet(\n",
    "    \"gs://calitp-analytics-data/data-analyses/rt_vs_schedule/schedule_route_dir/schedule_route_direction_metrics_2024-08-14.parquet\"\n",
    ")"
   ]
  },
  {
   "cell_type": "code",
   "execution_count": 11,
   "id": "d03f3be0-b97b-485c-b9cc-de4e29ea3044",
   "metadata": {},
   "outputs": [
    {
     "data": {
      "text/html": [
       "<div>\n",
       "<style scoped>\n",
       "    .dataframe tbody tr th:only-of-type {\n",
       "        vertical-align: middle;\n",
       "    }\n",
       "\n",
       "    .dataframe tbody tr th {\n",
       "        vertical-align: top;\n",
       "    }\n",
       "\n",
       "    .dataframe thead th {\n",
       "        text-align: right;\n",
       "    }\n",
       "</style>\n",
       "<table border=\"1\" class=\"dataframe\">\n",
       "  <thead>\n",
       "    <tr style=\"text-align: right;\">\n",
       "      <th></th>\n",
       "      <th>schedule_gtfs_dataset_key</th>\n",
       "      <th>route_id</th>\n",
       "      <th>direction_id</th>\n",
       "      <th>common_shape_id</th>\n",
       "      <th>route_name</th>\n",
       "      <th>avg_scheduled_service_minutes</th>\n",
       "      <th>avg_stop_miles</th>\n",
       "      <th>n_trips</th>\n",
       "      <th>time_period</th>\n",
       "      <th>frequency</th>\n",
       "      <th>is_coverage</th>\n",
       "      <th>is_downtown_local</th>\n",
       "      <th>is_local</th>\n",
       "      <th>is_rapid</th>\n",
       "      <th>is_express</th>\n",
       "      <th>is_rail</th>\n",
       "      <th>route_primary_direction</th>\n",
       "    </tr>\n",
       "  </thead>\n",
       "  <tbody>\n",
       "    <tr>\n",
       "      <th>0</th>\n",
       "      <td>1dc8ca4d6e9e915c60172b9ff57baefc</td>\n",
       "      <td>11X</td>\n",
       "      <td>0.00</td>\n",
       "      <td>p_1438047</td>\n",
       "      <td>Napa-Vallejo Express</td>\n",
       "      <td>51.20</td>\n",
       "      <td>4.14</td>\n",
       "      <td>5</td>\n",
       "      <td>all_day</td>\n",
       "      <td>0.21</td>\n",
       "      <td>1.00</td>\n",
       "      <td>0.00</td>\n",
       "      <td>0.00</td>\n",
       "      <td>0.00</td>\n",
       "      <td>1.00</td>\n",
       "      <td>0.00</td>\n",
       "      <td>Northbound</td>\n",
       "    </tr>\n",
       "    <tr>\n",
       "      <th>1</th>\n",
       "      <td>1dc8ca4d6e9e915c60172b9ff57baefc</td>\n",
       "      <td>11X</td>\n",
       "      <td>0.00</td>\n",
       "      <td>p_1438047</td>\n",
       "      <td>Napa-Vallejo Express</td>\n",
       "      <td>51.20</td>\n",
       "      <td>4.14</td>\n",
       "      <td>5</td>\n",
       "      <td>peak</td>\n",
       "      <td>0.62</td>\n",
       "      <td>1.00</td>\n",
       "      <td>0.00</td>\n",
       "      <td>0.00</td>\n",
       "      <td>0.00</td>\n",
       "      <td>1.00</td>\n",
       "      <td>0.00</td>\n",
       "      <td>Northbound</td>\n",
       "    </tr>\n",
       "  </tbody>\n",
       "</table>\n",
       "</div>"
      ],
      "text/plain": [
       "          schedule_gtfs_dataset_key route_id  direction_id common_shape_id  \\\n",
       "0  1dc8ca4d6e9e915c60172b9ff57baefc      11X          0.00       p_1438047   \n",
       "1  1dc8ca4d6e9e915c60172b9ff57baefc      11X          0.00       p_1438047   \n",
       "\n",
       "             route_name  avg_scheduled_service_minutes  avg_stop_miles  \\\n",
       "0  Napa-Vallejo Express                          51.20            4.14   \n",
       "1  Napa-Vallejo Express                          51.20            4.14   \n",
       "\n",
       "   n_trips time_period  frequency  is_coverage  is_downtown_local  is_local  \\\n",
       "0        5     all_day       0.21         1.00               0.00      0.00   \n",
       "1        5        peak       0.62         1.00               0.00      0.00   \n",
       "\n",
       "   is_rapid  is_express  is_rail route_primary_direction  \n",
       "0      0.00        1.00     0.00              Northbound  \n",
       "1      0.00        1.00     0.00              Northbound  "
      ]
     },
     "execution_count": 11,
     "metadata": {},
     "output_type": "execute_result"
    }
   ],
   "source": [
    "df1.head(2).drop(columns=[\"geometry\"])"
   ]
  },
  {
   "cell_type": "code",
   "execution_count": 13,
   "id": "59641d24-1c34-4ba7-8859-a790d7e718fe",
   "metadata": {},
   "outputs": [
    {
     "data": {
      "text/plain": [
       "'trips'"
      ]
     },
     "execution_count": 13,
     "metadata": {},
     "output_type": "execute_result"
    }
   ],
   "source": [
    "GTFS_DATA_DICT.schedule_downloads.trips"
   ]
  },
  {
   "cell_type": "code",
   "execution_count": 19,
   "id": "85c561dc-4ec9-4653-b196-e9ea7d5d002a",
   "metadata": {},
   "outputs": [],
   "source": [
    "# time_series_utils.concatenate_datasets_across_dates??"
   ]
  },
  {
   "cell_type": "code",
   "execution_count": 17,
   "id": "b75001c2-7be7-40ab-98d7-3cbaa049db1d",
   "metadata": {},
   "outputs": [],
   "source": [
    "analysis_date_list = rt_dates.y2024_dates"
   ]
  },
  {
   "cell_type": "code",
   "execution_count": 21,
   "id": "5e50ce55-628d-485e-ba6c-20569aab9a56",
   "metadata": {},
   "outputs": [],
   "source": [
    "import merge_operator_service"
   ]
  },
  {
   "cell_type": "code",
   "execution_count": 22,
   "id": "f913637e-6224-4091-9c60-b7a7b4cfc121",
   "metadata": {},
   "outputs": [],
   "source": [
    "trips = merge_operator_service.concatenate_trips(analysis_date_list)"
   ]
  },
  {
   "cell_type": "code",
   "execution_count": 23,
   "id": "536c4048-3b83-47c1-8fc3-6e26b0d69478",
   "metadata": {},
   "outputs": [
    {
     "data": {
      "text/html": [
       "<div>\n",
       "<style scoped>\n",
       "    .dataframe tbody tr th:only-of-type {\n",
       "        vertical-align: middle;\n",
       "    }\n",
       "\n",
       "    .dataframe tbody tr th {\n",
       "        vertical-align: top;\n",
       "    }\n",
       "\n",
       "    .dataframe thead th {\n",
       "        text-align: right;\n",
       "    }\n",
       "</style>\n",
       "<table border=\"1\" class=\"dataframe\">\n",
       "  <thead>\n",
       "    <tr style=\"text-align: right;\">\n",
       "      <th></th>\n",
       "      <th>name</th>\n",
       "      <th>service_date</th>\n",
       "      <th>route_long_name</th>\n",
       "      <th>trip_first_departure_datetime_pacific</th>\n",
       "      <th>service_hours</th>\n",
       "    </tr>\n",
       "  </thead>\n",
       "  <tbody>\n",
       "    <tr>\n",
       "      <th>0</th>\n",
       "      <td>VCTC GMV Schedule</td>\n",
       "      <td>2024-01-17</td>\n",
       "      <td>Route 18</td>\n",
       "      <td>2024-01-17 15:45:00</td>\n",
       "      <td>0.58</td>\n",
       "    </tr>\n",
       "    <tr>\n",
       "      <th>1</th>\n",
       "      <td>LA Metro Bus Schedule</td>\n",
       "      <td>2024-01-17</td>\n",
       "      <td>Metro Local Line</td>\n",
       "      <td>2024-01-17 12:47:00</td>\n",
       "      <td>0.78</td>\n",
       "    </tr>\n",
       "  </tbody>\n",
       "</table>\n",
       "</div>"
      ],
      "text/plain": [
       "                    name service_date   route_long_name  \\\n",
       "0      VCTC GMV Schedule   2024-01-17          Route 18   \n",
       "1  LA Metro Bus Schedule   2024-01-17  Metro Local Line   \n",
       "\n",
       "  trip_first_departure_datetime_pacific  service_hours  \n",
       "0                   2024-01-17 15:45:00           0.58  \n",
       "1                   2024-01-17 12:47:00           0.78  "
      ]
     },
     "execution_count": 23,
     "metadata": {},
     "output_type": "execute_result"
    }
   ],
   "source": [
    "trips.head(2)"
   ]
  },
  {
   "cell_type": "code",
   "execution_count": 24,
   "id": "157d582c-2e52-453c-85de-61bc1bae7811",
   "metadata": {},
   "outputs": [],
   "source": [
    "schd_vp_url = f\"{GTFS_DATA_DICT.digest_tables.dir}{GTFS_DATA_DICT.digest_tables.route_schedule_vp}.parquet\""
   ]
  },
  {
   "cell_type": "code",
   "execution_count": 25,
   "id": "5245e629-a986-4f7f-9a53-fa5aeac8ecb9",
   "metadata": {},
   "outputs": [],
   "source": [
    "sched_vp_df = pd.read_parquet(schd_vp_url)"
   ]
  },
  {
   "cell_type": "code",
   "execution_count": 34,
   "id": "a2938eaa-5872-4855-8b85-58da12f66ab4",
   "metadata": {},
   "outputs": [
    {
     "data": {
      "text/plain": [
       "Index(['schedule_gtfs_dataset_key', 'direction_id', 'time_period',\n",
       "       'avg_scheduled_service_minutes', 'avg_stop_miles', 'n_scheduled_trips',\n",
       "       'frequency', 'is_express', 'is_rapid', 'is_rail', 'is_coverage',\n",
       "       'is_downtown_local', 'is_local', 'service_date', 'typology',\n",
       "       'minutes_atleast1_vp', 'minutes_atleast2_vp',\n",
       "       'total_rt_service_minutes', 'total_scheduled_service_minutes',\n",
       "       'total_vp', 'vp_in_shape', 'is_early', 'is_ontime', 'is_late',\n",
       "       'n_vp_trips', 'vp_per_minute', 'pct_in_shape',\n",
       "       'pct_rt_journey_atleast1_vp', 'pct_rt_journey_atleast2_vp',\n",
       "       'pct_sched_journey_atleast1_vp', 'pct_sched_journey_atleast2_vp',\n",
       "       'rt_sched_journey_ratio', 'avg_rt_service_minutes',\n",
       "       'schedule_source_record_id_x', 'sched_rt_category', 'speed_mph', 'name',\n",
       "       'route_long_name', 'route_short_name', 'route_combined_name',\n",
       "       'route_id', 'schedule_source_record_id_y', 'base64_url',\n",
       "       'organization_source_record_id', 'organization_name',\n",
       "       'caltrans_district', 'route_primary_direction'],\n",
       "      dtype='object')"
      ]
     },
     "execution_count": 34,
     "metadata": {},
     "output_type": "execute_result"
    }
   ],
   "source": [
    "sched_vp_df.columns"
   ]
  },
  {
   "cell_type": "code",
   "execution_count": 52,
   "id": "e22740f2-ea54-4193-9a42-6a7c9a0179ee",
   "metadata": {},
   "outputs": [],
   "source": [
    "sched_vp_df2 = sched_vp_df[\n",
    "    [\n",
    "        \"service_date\",\n",
    "        \"organization_name\",\n",
    "        \"caltrans_district\",\n",
    "        \"sched_rt_category\",\n",
    "        \"route_long_name\",\n",
    "        \"route_combined_name\",\n",
    "        \"route_primary_direction\",\n",
    "        \"time_period\",\n",
    "        \"n_scheduled_trips\",\n",
    "        \"total_vp\",\n",
    "        \"total_rt_service_minutes\",\n",
    "        \"vp_in_shape\",\n",
    "    ]\n",
    "]"
   ]
  },
  {
   "cell_type": "code",
   "execution_count": 54,
   "id": "016ee4db-755a-4429-845c-6744c3f1d089",
   "metadata": {},
   "outputs": [],
   "source": [
    "sched_vp_df3 = sched_vp_df2.loc[\n",
    "    sched_vp_df2.sched_rt_category != \"schedule_only\"\n",
    "].reset_index(drop=True)"
   ]
  },
  {
   "cell_type": "code",
   "execution_count": 56,
   "id": "d0b86ad9-daca-49f6-a92f-65d453d39689",
   "metadata": {},
   "outputs": [],
   "source": [
    "# Test with marin first\n",
    "marin_df = sched_vp_df3.loc[\n",
    "    sched_vp_df3.organization_name == \"Marin County Transit District\"\n",
    "]"
   ]
  },
  {
   "cell_type": "code",
   "execution_count": 62,
   "id": "0f852e50-bf7c-48fd-8bc6-44760a52ff61",
   "metadata": {},
   "outputs": [],
   "source": [
    "marin_df_agg1 = (\n",
    "    marin_df.groupby([\"service_date\"])\n",
    "    .agg({\"total_vp\": \"sum\", \"vp_in_shape\": \"sum\", \"total_rt_service_minutes\": \"sum\"})\n",
    "    .reset_index()\n",
    ")"
   ]
  },
  {
   "cell_type": "code",
   "execution_count": 67,
   "id": "00f80878-b610-42db-afd8-76b3020fecbc",
   "metadata": {},
   "outputs": [],
   "source": [
    "marin_df_agg1[\"spatial_accuracy\"] = marin_df_agg1.vp_in_shape / marin_df_agg1.total_vp"
   ]
  },
  {
   "cell_type": "code",
   "execution_count": 70,
   "id": "39bf31f3-9708-4997-8222-bbd97920dad0",
   "metadata": {},
   "outputs": [],
   "source": [
    "marin_df_agg1[\"vp_per_min\"] = marin_df_agg1.total_vp/marin_df_agg1.total_rt_service_minutes "
   ]
  },
  {
   "cell_type": "code",
   "execution_count": 71,
   "id": "f42fb3be-c758-4fd6-bec4-a3e548c857d3",
   "metadata": {},
   "outputs": [
    {
     "data": {
      "text/html": [
       "<div>\n",
       "<style scoped>\n",
       "    .dataframe tbody tr th:only-of-type {\n",
       "        vertical-align: middle;\n",
       "    }\n",
       "\n",
       "    .dataframe tbody tr th {\n",
       "        vertical-align: top;\n",
       "    }\n",
       "\n",
       "    .dataframe thead th {\n",
       "        text-align: right;\n",
       "    }\n",
       "</style>\n",
       "<table border=\"1\" class=\"dataframe\">\n",
       "  <thead>\n",
       "    <tr style=\"text-align: right;\">\n",
       "      <th></th>\n",
       "      <th>service_date</th>\n",
       "      <th>total_vp</th>\n",
       "      <th>vp_in_shape</th>\n",
       "      <th>total_rt_service_minutes</th>\n",
       "      <th>vp_per_min</th>\n",
       "      <th>spatial_accuracy</th>\n",
       "    </tr>\n",
       "  </thead>\n",
       "  <tbody>\n",
       "    <tr>\n",
       "      <th>0</th>\n",
       "      <td>2023-03-15</td>\n",
       "      <td>233730</td>\n",
       "      <td>176470</td>\n",
       "      <td>99062.02</td>\n",
       "      <td>2.36</td>\n",
       "      <td>0.76</td>\n",
       "    </tr>\n",
       "    <tr>\n",
       "      <th>1</th>\n",
       "      <td>2023-04-12</td>\n",
       "      <td>211354</td>\n",
       "      <td>161482</td>\n",
       "      <td>97942.04</td>\n",
       "      <td>2.16</td>\n",
       "      <td>0.76</td>\n",
       "    </tr>\n",
       "    <tr>\n",
       "      <th>2</th>\n",
       "      <td>2023-05-17</td>\n",
       "      <td>189012</td>\n",
       "      <td>172524</td>\n",
       "      <td>74813.90</td>\n",
       "      <td>2.53</td>\n",
       "      <td>0.91</td>\n",
       "    </tr>\n",
       "    <tr>\n",
       "      <th>3</th>\n",
       "      <td>2023-06-14</td>\n",
       "      <td>185750</td>\n",
       "      <td>174704</td>\n",
       "      <td>67864.64</td>\n",
       "      <td>2.74</td>\n",
       "      <td>0.94</td>\n",
       "    </tr>\n",
       "    <tr>\n",
       "      <th>4</th>\n",
       "      <td>2023-07-12</td>\n",
       "      <td>184550</td>\n",
       "      <td>168758</td>\n",
       "      <td>68946.20</td>\n",
       "      <td>2.68</td>\n",
       "      <td>0.91</td>\n",
       "    </tr>\n",
       "    <tr>\n",
       "      <th>5</th>\n",
       "      <td>2023-08-15</td>\n",
       "      <td>170768</td>\n",
       "      <td>159188</td>\n",
       "      <td>64528.56</td>\n",
       "      <td>2.65</td>\n",
       "      <td>0.93</td>\n",
       "    </tr>\n",
       "    <tr>\n",
       "      <th>6</th>\n",
       "      <td>2023-09-13</td>\n",
       "      <td>192160</td>\n",
       "      <td>173710</td>\n",
       "      <td>72335.14</td>\n",
       "      <td>2.66</td>\n",
       "      <td>0.90</td>\n",
       "    </tr>\n",
       "    <tr>\n",
       "      <th>7</th>\n",
       "      <td>2023-10-11</td>\n",
       "      <td>182182</td>\n",
       "      <td>167856</td>\n",
       "      <td>67881.96</td>\n",
       "      <td>2.68</td>\n",
       "      <td>0.92</td>\n",
       "    </tr>\n",
       "    <tr>\n",
       "      <th>8</th>\n",
       "      <td>2023-11-15</td>\n",
       "      <td>193766</td>\n",
       "      <td>179308</td>\n",
       "      <td>73111.08</td>\n",
       "      <td>2.65</td>\n",
       "      <td>0.93</td>\n",
       "    </tr>\n",
       "    <tr>\n",
       "      <th>9</th>\n",
       "      <td>2023-12-13</td>\n",
       "      <td>191694</td>\n",
       "      <td>176090</td>\n",
       "      <td>72716.10</td>\n",
       "      <td>2.64</td>\n",
       "      <td>0.92</td>\n",
       "    </tr>\n",
       "    <tr>\n",
       "      <th>10</th>\n",
       "      <td>2024-01-17</td>\n",
       "      <td>196526</td>\n",
       "      <td>178598</td>\n",
       "      <td>75527.56</td>\n",
       "      <td>2.60</td>\n",
       "      <td>0.91</td>\n",
       "    </tr>\n",
       "    <tr>\n",
       "      <th>11</th>\n",
       "      <td>2024-02-14</td>\n",
       "      <td>191208</td>\n",
       "      <td>172916</td>\n",
       "      <td>71215.58</td>\n",
       "      <td>2.68</td>\n",
       "      <td>0.90</td>\n",
       "    </tr>\n",
       "    <tr>\n",
       "      <th>12</th>\n",
       "      <td>2024-03-13</td>\n",
       "      <td>193700</td>\n",
       "      <td>173800</td>\n",
       "      <td>73048.42</td>\n",
       "      <td>2.65</td>\n",
       "      <td>0.90</td>\n",
       "    </tr>\n",
       "    <tr>\n",
       "      <th>13</th>\n",
       "      <td>2024-04-17</td>\n",
       "      <td>202604</td>\n",
       "      <td>129516</td>\n",
       "      <td>76764.86</td>\n",
       "      <td>2.64</td>\n",
       "      <td>0.64</td>\n",
       "    </tr>\n",
       "    <tr>\n",
       "      <th>14</th>\n",
       "      <td>2024-05-22</td>\n",
       "      <td>186126</td>\n",
       "      <td>119844</td>\n",
       "      <td>70693.66</td>\n",
       "      <td>2.63</td>\n",
       "      <td>0.64</td>\n",
       "    </tr>\n",
       "    <tr>\n",
       "      <th>15</th>\n",
       "      <td>2024-06-12</td>\n",
       "      <td>195484</td>\n",
       "      <td>126230</td>\n",
       "      <td>72800.52</td>\n",
       "      <td>2.69</td>\n",
       "      <td>0.65</td>\n",
       "    </tr>\n",
       "    <tr>\n",
       "      <th>16</th>\n",
       "      <td>2024-07-17</td>\n",
       "      <td>189846</td>\n",
       "      <td>120792</td>\n",
       "      <td>70516.04</td>\n",
       "      <td>2.69</td>\n",
       "      <td>0.64</td>\n",
       "    </tr>\n",
       "    <tr>\n",
       "      <th>17</th>\n",
       "      <td>2024-08-14</td>\n",
       "      <td>171688</td>\n",
       "      <td>110074</td>\n",
       "      <td>64579.90</td>\n",
       "      <td>2.66</td>\n",
       "      <td>0.64</td>\n",
       "    </tr>\n",
       "  </tbody>\n",
       "</table>\n",
       "</div>"
      ],
      "text/plain": [
       "   service_date  total_vp  vp_in_shape  total_rt_service_minutes  vp_per_min  \\\n",
       "0    2023-03-15    233730       176470                  99062.02        2.36   \n",
       "1    2023-04-12    211354       161482                  97942.04        2.16   \n",
       "2    2023-05-17    189012       172524                  74813.90        2.53   \n",
       "3    2023-06-14    185750       174704                  67864.64        2.74   \n",
       "4    2023-07-12    184550       168758                  68946.20        2.68   \n",
       "5    2023-08-15    170768       159188                  64528.56        2.65   \n",
       "6    2023-09-13    192160       173710                  72335.14        2.66   \n",
       "7    2023-10-11    182182       167856                  67881.96        2.68   \n",
       "8    2023-11-15    193766       179308                  73111.08        2.65   \n",
       "9    2023-12-13    191694       176090                  72716.10        2.64   \n",
       "10   2024-01-17    196526       178598                  75527.56        2.60   \n",
       "11   2024-02-14    191208       172916                  71215.58        2.68   \n",
       "12   2024-03-13    193700       173800                  73048.42        2.65   \n",
       "13   2024-04-17    202604       129516                  76764.86        2.64   \n",
       "14   2024-05-22    186126       119844                  70693.66        2.63   \n",
       "15   2024-06-12    195484       126230                  72800.52        2.69   \n",
       "16   2024-07-17    189846       120792                  70516.04        2.69   \n",
       "17   2024-08-14    171688       110074                  64579.90        2.66   \n",
       "\n",
       "    spatial_accuracy  \n",
       "0               0.76  \n",
       "1               0.76  \n",
       "2               0.91  \n",
       "3               0.94  \n",
       "4               0.91  \n",
       "5               0.93  \n",
       "6               0.90  \n",
       "7               0.92  \n",
       "8               0.93  \n",
       "9               0.92  \n",
       "10              0.91  \n",
       "11              0.90  \n",
       "12              0.90  \n",
       "13              0.64  \n",
       "14              0.64  \n",
       "15              0.65  \n",
       "16              0.64  \n",
       "17              0.64  "
      ]
     },
     "execution_count": 71,
     "metadata": {},
     "output_type": "execute_result"
    }
   ],
   "source": [
    "marin_df_agg1"
   ]
  }
 ],
 "metadata": {
  "kernelspec": {
   "display_name": "Python 3 (ipykernel)",
   "language": "python",
   "name": "python3"
  },
  "language_info": {
   "codemirror_mode": {
    "name": "ipython",
    "version": 3
   },
   "file_extension": ".py",
   "mimetype": "text/x-python",
   "name": "python",
   "nbconvert_exporter": "python",
   "pygments_lexer": "ipython3",
   "version": "3.9.13"
  }
 },
 "nbformat": 4,
 "nbformat_minor": 5
}
