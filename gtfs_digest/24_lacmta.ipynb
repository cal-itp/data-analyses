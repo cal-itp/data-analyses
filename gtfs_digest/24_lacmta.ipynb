{
 "cells": [
  {
   "cell_type": "markdown",
   "id": "09888019-91e4-437a-9cf2-945452dc3ab5",
   "metadata": {},
   "source": [
    "# LACMTA\n",
    "* GitHub Issue https://github.com/cal-itp/data-analyses/issues/1727 \n",
    "* There is something up with the way I aggregate the number of unique routes LACMTA runs.\n",
    "* LACMTA runs way more than 5 routes."
   ]
  },
  {
   "cell_type": "code",
   "execution_count": 1,
   "id": "d1a14fab-e214-45b3-a6d1-233efe850a81",
   "metadata": {
    "tags": []
   },
   "outputs": [],
   "source": [
    "import _ct_district_grain_data_prep as _ct_district_data_prep\n",
    "import geopandas as gpd\n",
    "import pandas as pd\n",
    "from update_vars import GTFS_DATA_DICT, RT_SCHED_GCS"
   ]
  },
  {
   "cell_type": "code",
   "execution_count": 2,
   "id": "3b748582-1945-4e11-984d-da3f1be98ed3",
   "metadata": {
    "tags": []
   },
   "outputs": [],
   "source": [
    "pd.options.display.max_columns = 100\n",
    "pd.options.display.float_format = \"{:.2f}\".format\n",
    "pd.set_option(\"display.max_rows\", None)\n",
    "pd.set_option(\"display.max_colwidth\", None)"
   ]
  },
  {
   "cell_type": "code",
   "execution_count": 3,
   "id": "281110ca-9732-413d-8bab-87633f028b8b",
   "metadata": {
    "tags": []
   },
   "outputs": [],
   "source": [
    "district = \"07 - Los Angeles / Ventura\""
   ]
  },
  {
   "cell_type": "code",
   "execution_count": 4,
   "id": "9cd0a6a5-6863-4a37-aa6e-a48406f9f7bd",
   "metadata": {},
   "outputs": [],
   "source": [
    "# Load Datasets\n",
    "operator_df = _ct_district_data_prep.data_wrangling_operator_profile(district)"
   ]
  },
  {
   "cell_type": "code",
   "execution_count": 5,
   "id": "98dad76d-c9cf-48f3-880c-a36585f08272",
   "metadata": {
    "tags": []
   },
   "outputs": [
    {
     "data": {
      "text/plain": [
       "array(['City of Bell Gardens',\n",
       "       'Ventura County (VCTC, Gold Coast, Cities of Camarillo, Moorpark, Ojai, Simi Valley, Thousand Oaks)',\n",
       "       'Los Angeles World Airports', 'Los Angeles County',\n",
       "       'City of Lawndale',\n",
       "       'Los Angeles County Metropolitan Transportation Authority',\n",
       "       'City of Commerce', 'City of Torrance', 'Long Beach Transit',\n",
       "       'City of Artesia', 'City of Baldwin Park',\n",
       "       'Antelope Valley Transit Authority', 'City of Alhambra',\n",
       "       'City of Maywood', 'City of Norwalk', 'City of Carson',\n",
       "       'City of Santa Monica', 'City of Burbank', 'City of Montebello',\n",
       "       'FlixBus and Greyhound', 'City of Glendale', 'City of Cerritos',\n",
       "       'City of Pasadena', 'City of Huntington Park',\n",
       "       'City of San Fernando', 'City of West Covina', 'City of Bell',\n",
       "       'City of Glendora', 'City of Culver City', 'City of Gardena',\n",
       "       'City of Inglewood', 'City of Monterey Park', 'City of Calabasas',\n",
       "       'City of Lynwood', 'Palos Verdes Peninsula Transit Authority',\n",
       "       'City of Santa Clarita', 'City of El Monte', 'City of Downey',\n",
       "       'University of California, Los Angeles', 'City of Los Angeles',\n",
       "       'City of Arcadia', 'City of Cudahy', 'City of Redondo Beach',\n",
       "       'City of South Gate', 'City of West Hollywood',\n",
       "       'Southern California Regional Rail Authority', 'Foothill Transit',\n",
       "       'City of Rosemead', 'City of Bellflower', 'City of Sierra Madre',\n",
       "       'City of La Puente', 'City of El Segundo'], dtype=object)"
      ]
     },
     "execution_count": 5,
     "metadata": {},
     "output_type": "execute_result"
    }
   ],
   "source": [
    "operator_df.analysis_name.unique()"
   ]
  },
  {
   "cell_type": "code",
   "execution_count": 6,
   "id": "8bea1df6-b1ac-4b3e-93dd-644d5884cc84",
   "metadata": {
    "tags": []
   },
   "outputs": [
    {
     "data": {
      "text/plain": [
       "array(['2025-09-24T00:00:00.000000000', '2025-07-16T00:00:00.000000000',\n",
       "       '2025-06-11T00:00:00.000000000', '2025-03-12T00:00:00.000000000',\n",
       "       '2024-12-11T00:00:00.000000000', '2024-09-18T00:00:00.000000000',\n",
       "       '2024-06-12T00:00:00.000000000', '2024-05-22T00:00:00.000000000'],\n",
       "      dtype='datetime64[ns]')"
      ]
     },
     "execution_count": 6,
     "metadata": {},
     "output_type": "execute_result"
    }
   ],
   "source": [
    "operator_df.service_date.unique()"
   ]
  },
  {
   "cell_type": "code",
   "execution_count": 7,
   "id": "5505e96f-6051-4812-8570-6ad043918a23",
   "metadata": {
    "tags": []
   },
   "outputs": [],
   "source": [
    "lacmta = operator_df.loc[\n",
    "    operator_df.analysis_name\n",
    "    == \"Los Angeles County Metropolitan Transportation Authority\"\n",
    "]"
   ]
  },
  {
   "cell_type": "code",
   "execution_count": 8,
   "id": "599c5b48-9198-4caa-b3cd-e99405292d02",
   "metadata": {
    "tags": []
   },
   "outputs": [
    {
     "data": {
      "text/html": [
       "<div>\n",
       "<style scoped>\n",
       "    .dataframe tbody tr th:only-of-type {\n",
       "        vertical-align: middle;\n",
       "    }\n",
       "\n",
       "    .dataframe tbody tr th {\n",
       "        vertical-align: top;\n",
       "    }\n",
       "\n",
       "    .dataframe thead th {\n",
       "        text-align: right;\n",
       "    }\n",
       "</style>\n",
       "<table border=\"1\" class=\"dataframe\">\n",
       "  <thead>\n",
       "    <tr style=\"text-align: right;\">\n",
       "      <th></th>\n",
       "      <th>6109</th>\n",
       "      <th>3944</th>\n",
       "    </tr>\n",
       "  </thead>\n",
       "  <tbody>\n",
       "    <tr>\n",
       "      <th>schedule_gtfs_dataset_key</th>\n",
       "      <td>d4a07b520153bd5c27860835bc42610e</td>\n",
       "      <td>7ada6c55e4a29f4535e84c504a994b14</td>\n",
       "    </tr>\n",
       "    <tr>\n",
       "      <th>operator_n_routes</th>\n",
       "      <td>108</td>\n",
       "      <td>6</td>\n",
       "    </tr>\n",
       "    <tr>\n",
       "      <th>operator_n_trips</th>\n",
       "      <td>13316</td>\n",
       "      <td>1196</td>\n",
       "    </tr>\n",
       "    <tr>\n",
       "      <th>operator_n_shapes</th>\n",
       "      <td>607</td>\n",
       "      <td>12</td>\n",
       "    </tr>\n",
       "    <tr>\n",
       "      <th>operator_n_stops</th>\n",
       "      <td>11818</td>\n",
       "      <td>111</td>\n",
       "    </tr>\n",
       "    <tr>\n",
       "      <th>operator_n_arrivals</th>\n",
       "      <td>849676</td>\n",
       "      <td>25502</td>\n",
       "    </tr>\n",
       "    <tr>\n",
       "      <th>operator_route_length_miles</th>\n",
       "      <td>1927.89</td>\n",
       "      <td>130.64</td>\n",
       "    </tr>\n",
       "    <tr>\n",
       "      <th>operator_arrivals_per_stop</th>\n",
       "      <td>71.90</td>\n",
       "      <td>229.75</td>\n",
       "    </tr>\n",
       "    <tr>\n",
       "      <th>n_downtown_local_routes</th>\n",
       "      <td>95</td>\n",
       "      <td>0</td>\n",
       "    </tr>\n",
       "    <tr>\n",
       "      <th>n_local_routes</th>\n",
       "      <td>1</td>\n",
       "      <td>0</td>\n",
       "    </tr>\n",
       "    <tr>\n",
       "      <th>n_coverage_routes</th>\n",
       "      <td>22</td>\n",
       "      <td>0</td>\n",
       "    </tr>\n",
       "    <tr>\n",
       "      <th>n_rapid_routes</th>\n",
       "      <td>16</td>\n",
       "      <td>0</td>\n",
       "    </tr>\n",
       "    <tr>\n",
       "      <th>n_express_routes</th>\n",
       "      <td>6</td>\n",
       "      <td>0</td>\n",
       "    </tr>\n",
       "    <tr>\n",
       "      <th>n_rail_routes</th>\n",
       "      <td>0</td>\n",
       "      <td>6</td>\n",
       "    </tr>\n",
       "    <tr>\n",
       "      <th>n_ferry_routes</th>\n",
       "      <td>0</td>\n",
       "      <td>0</td>\n",
       "    </tr>\n",
       "    <tr>\n",
       "      <th>name</th>\n",
       "      <td>LA Metro Bus Schedule</td>\n",
       "      <td>LA Metro Rail Schedule</td>\n",
       "    </tr>\n",
       "    <tr>\n",
       "      <th>organization_source_record_id</th>\n",
       "      <td>recPnGkwdpnr8jmHB</td>\n",
       "      <td>recPnGkwdpnr8jmHB</td>\n",
       "    </tr>\n",
       "    <tr>\n",
       "      <th>organization_name</th>\n",
       "      <td>Los Angeles County Metropolitan Transportation Authority</td>\n",
       "      <td>Los Angeles County Metropolitan Transportation Authority</td>\n",
       "    </tr>\n",
       "    <tr>\n",
       "      <th>service_date</th>\n",
       "      <td>2025-09-24 00:00:00</td>\n",
       "      <td>2025-09-24 00:00:00</td>\n",
       "    </tr>\n",
       "    <tr>\n",
       "      <th>vp_per_min_agency</th>\n",
       "      <td>1.87</td>\n",
       "      <td>1.39</td>\n",
       "    </tr>\n",
       "    <tr>\n",
       "      <th>spatial_accuracy_agency</th>\n",
       "      <td>91.75</td>\n",
       "      <td>96.31</td>\n",
       "    </tr>\n",
       "    <tr>\n",
       "      <th>caltrans_district</th>\n",
       "      <td>07 - Los Angeles / Ventura</td>\n",
       "      <td>07 - Los Angeles / Ventura</td>\n",
       "    </tr>\n",
       "    <tr>\n",
       "      <th>service_area_sq_miles</th>\n",
       "      <td>4099</td>\n",
       "      <td>4099</td>\n",
       "    </tr>\n",
       "    <tr>\n",
       "      <th>hq_city</th>\n",
       "      <td>Los Angeles</td>\n",
       "      <td>Los Angeles</td>\n",
       "    </tr>\n",
       "    <tr>\n",
       "      <th>service_area_pop</th>\n",
       "      <td>10394849</td>\n",
       "      <td>10394849</td>\n",
       "    </tr>\n",
       "    <tr>\n",
       "      <th>organization_type</th>\n",
       "      <td>Independent Public Agency or Authority of Transit Service</td>\n",
       "      <td>Independent Public Agency or Authority of Transit Service</td>\n",
       "    </tr>\n",
       "    <tr>\n",
       "      <th>primary_uza_name</th>\n",
       "      <td>Los Angeles--Long Beach--Anaheim, CA</td>\n",
       "      <td>Los Angeles--Long Beach--Anaheim, CA</td>\n",
       "    </tr>\n",
       "    <tr>\n",
       "      <th>reporter_type</th>\n",
       "      <td>Full Reporter</td>\n",
       "      <td>Full Reporter</td>\n",
       "    </tr>\n",
       "    <tr>\n",
       "      <th>analysis_name</th>\n",
       "      <td>Los Angeles County Metropolitan Transportation Authority</td>\n",
       "      <td>Los Angeles County Metropolitan Transportation Authority</td>\n",
       "    </tr>\n",
       "    <tr>\n",
       "      <th>source_record_id</th>\n",
       "      <td>recX8JOPmBQM9aWLC</td>\n",
       "      <td>recofCmylEKq2zuPr</td>\n",
       "    </tr>\n",
       "    <tr>\n",
       "      <th>counties_served</th>\n",
       "      <td>[Los Angeles County, Orange County, Ventura County]</td>\n",
       "      <td>[Los Angeles County]</td>\n",
       "    </tr>\n",
       "    <tr>\n",
       "      <th>sched_rt_category</th>\n",
       "      <td>schedule_and_vp</td>\n",
       "      <td>schedule_and_vp</td>\n",
       "    </tr>\n",
       "  </tbody>\n",
       "</table>\n",
       "</div>"
      ],
      "text/plain": [
       "                                                                                    6109  \\\n",
       "schedule_gtfs_dataset_key                               d4a07b520153bd5c27860835bc42610e   \n",
       "operator_n_routes                                                                    108   \n",
       "operator_n_trips                                                                   13316   \n",
       "operator_n_shapes                                                                    607   \n",
       "operator_n_stops                                                                   11818   \n",
       "operator_n_arrivals                                                               849676   \n",
       "operator_route_length_miles                                                      1927.89   \n",
       "operator_arrivals_per_stop                                                         71.90   \n",
       "n_downtown_local_routes                                                               95   \n",
       "n_local_routes                                                                         1   \n",
       "n_coverage_routes                                                                     22   \n",
       "n_rapid_routes                                                                        16   \n",
       "n_express_routes                                                                       6   \n",
       "n_rail_routes                                                                          0   \n",
       "n_ferry_routes                                                                         0   \n",
       "name                                                               LA Metro Bus Schedule   \n",
       "organization_source_record_id                                          recPnGkwdpnr8jmHB   \n",
       "organization_name               Los Angeles County Metropolitan Transportation Authority   \n",
       "service_date                                                         2025-09-24 00:00:00   \n",
       "vp_per_min_agency                                                                   1.87   \n",
       "spatial_accuracy_agency                                                            91.75   \n",
       "caltrans_district                                             07 - Los Angeles / Ventura   \n",
       "service_area_sq_miles                                                               4099   \n",
       "hq_city                                                                      Los Angeles   \n",
       "service_area_pop                                                                10394849   \n",
       "organization_type              Independent Public Agency or Authority of Transit Service   \n",
       "primary_uza_name                                    Los Angeles--Long Beach--Anaheim, CA   \n",
       "reporter_type                                                              Full Reporter   \n",
       "analysis_name                   Los Angeles County Metropolitan Transportation Authority   \n",
       "source_record_id                                                       recX8JOPmBQM9aWLC   \n",
       "counties_served                      [Los Angeles County, Orange County, Ventura County]   \n",
       "sched_rt_category                                                        schedule_and_vp   \n",
       "\n",
       "                                                                                    3944  \n",
       "schedule_gtfs_dataset_key                               7ada6c55e4a29f4535e84c504a994b14  \n",
       "operator_n_routes                                                                      6  \n",
       "operator_n_trips                                                                    1196  \n",
       "operator_n_shapes                                                                     12  \n",
       "operator_n_stops                                                                     111  \n",
       "operator_n_arrivals                                                                25502  \n",
       "operator_route_length_miles                                                       130.64  \n",
       "operator_arrivals_per_stop                                                        229.75  \n",
       "n_downtown_local_routes                                                                0  \n",
       "n_local_routes                                                                         0  \n",
       "n_coverage_routes                                                                      0  \n",
       "n_rapid_routes                                                                         0  \n",
       "n_express_routes                                                                       0  \n",
       "n_rail_routes                                                                          6  \n",
       "n_ferry_routes                                                                         0  \n",
       "name                                                              LA Metro Rail Schedule  \n",
       "organization_source_record_id                                          recPnGkwdpnr8jmHB  \n",
       "organization_name               Los Angeles County Metropolitan Transportation Authority  \n",
       "service_date                                                         2025-09-24 00:00:00  \n",
       "vp_per_min_agency                                                                   1.39  \n",
       "spatial_accuracy_agency                                                            96.31  \n",
       "caltrans_district                                             07 - Los Angeles / Ventura  \n",
       "service_area_sq_miles                                                               4099  \n",
       "hq_city                                                                      Los Angeles  \n",
       "service_area_pop                                                                10394849  \n",
       "organization_type              Independent Public Agency or Authority of Transit Service  \n",
       "primary_uza_name                                    Los Angeles--Long Beach--Anaheim, CA  \n",
       "reporter_type                                                              Full Reporter  \n",
       "analysis_name                   Los Angeles County Metropolitan Transportation Authority  \n",
       "source_record_id                                                       recofCmylEKq2zuPr  \n",
       "counties_served                                                     [Los Angeles County]  \n",
       "sched_rt_category                                                        schedule_and_vp  "
      ]
     },
     "execution_count": 8,
     "metadata": {},
     "output_type": "execute_result"
    }
   ],
   "source": [
    "lacmta.T"
   ]
  },
  {
   "cell_type": "markdown",
   "id": "ef080d8e-5d79-4431-968e-26dacea5a19e",
   "metadata": {},
   "source": [
    "## Read in original file"
   ]
  },
  {
   "cell_type": "code",
   "execution_count": 9,
   "id": "b66ad4b6-c028-4d6c-b57d-d33c8cfccf5f",
   "metadata": {
    "tags": []
   },
   "outputs": [],
   "source": [
    "OPERATOR_PROFILE = GTFS_DATA_DICT.digest_tables.operator_profiles"
   ]
  },
  {
   "cell_type": "code",
   "execution_count": null,
   "id": "3205ed6e-99da-49c5-abd2-582ceabfd838",
   "metadata": {
    "tags": []
   },
   "outputs": [],
   "source": [
    "operator_og_df = pd.read_parquet(\n",
    "    f\"{RT_SCHED_GCS}{OPERATOR_PROFILE}.parquet\",\n",
    ")"
   ]
  },
  {
   "cell_type": "markdown",
   "id": "a81cc06a-a130-44e3-9d4b-74bd8fc1b378",
   "metadata": {},
   "source": [
    "### For `analysis_name` values with more than 1 name associated with it, try to figure out if each row holds different info"
   ]
  },
  {
   "cell_type": "code",
   "execution_count": null,
   "id": "5d37590c-a9af-4d4a-9183-c7a2542347ec",
   "metadata": {
    "tags": []
   },
   "outputs": [],
   "source": [
    "operator_og_df.groupby([\"analysis_name\"]).agg(\n",
    "    {\"name\": \"nunique\", \"schedule_gtfs_dataset_key\": \"nunique\"}\n",
    ").sort_values(by=[\"name\"], ascending = False).head(15)"
   ]
  },
  {
   "cell_type": "code",
   "execution_count": null,
   "id": "00f639cc-b47d-4e7f-9b1f-f5fb42e3c7c8",
   "metadata": {
    "tags": []
   },
   "outputs": [],
   "source": [
    "sf = operator_og_df.loc[\n",
    "    operator_og_df.analysis_name\n",
    "    == \"City and County of San Francisco\"\n",
    "]"
   ]
  },
  {
   "cell_type": "code",
   "execution_count": null,
   "id": "d45a9a83-f0d2-4f09-9879-d0621589a95a",
   "metadata": {
    "tags": []
   },
   "outputs": [],
   "source": [
    "sf[[\"service_date\", \"schedule_gtfs_dataset_key\", \"operator_n_routes\"]].sort_values(\n",
    "    by=[\"service_date\"]\n",
    ")"
   ]
  },
  {
   "cell_type": "code",
   "execution_count": null,
   "id": "2d1b5c50-7ff8-4612-929c-ce93baa2c8cf",
   "metadata": {
    "tags": []
   },
   "outputs": [],
   "source": [
    "lacmta = operator_og_df.loc[\n",
    "    operator_og_df.analysis_name\n",
    "    == \"Los Angeles County Metropolitan Transportation Authority\"\n",
    "]"
   ]
  },
  {
   "cell_type": "code",
   "execution_count": null,
   "id": "fe337826-e4f4-4ffa-8126-e0b3f68a03aa",
   "metadata": {
    "tags": []
   },
   "outputs": [],
   "source": [
    "lacmta.head(1)"
   ]
  },
  {
   "cell_type": "markdown",
   "id": "3d6d86fa-4564-4830-9afe-93b915c56d98",
   "metadata": {},
   "source": [
    "### I can see LACMTA is split among three different `schedule_gtfs_datset_key` values which is why the routes are split."
   ]
  },
  {
   "cell_type": "code",
   "execution_count": null,
   "id": "c701dc81-4fd0-49e8-abc1-e4ca3cfc3300",
   "metadata": {
    "tags": []
   },
   "outputs": [],
   "source": [
    "lacmta.groupby([\"analysis_name\"]).agg({\"schedule_gtfs_dataset_key\": \"nunique\"})"
   ]
  },
  {
   "cell_type": "code",
   "execution_count": null,
   "id": "7142ce83-5fe5-4052-a939-15a21c8d0963",
   "metadata": {
    "tags": []
   },
   "outputs": [],
   "source": [
    "lacmta[[\"service_date\", \"schedule_gtfs_dataset_key\", \"operator_n_routes\"]].sort_values(\n",
    "    by=[\"service_date\"]\n",
    ").tail()"
   ]
  },
  {
   "cell_type": "markdown",
   "id": "7e930c9d-4095-4732-bb1f-1a54d616327d",
   "metadata": {},
   "source": [
    "## Edit `_ct_district_grain_data.py/data_wrangling_operator_profile`"
   ]
  },
  {
   "cell_type": "code",
   "execution_count": null,
   "id": "295e1ee6-d2ac-4eff-ba09-d0516b2ea053",
   "metadata": {
    "tags": []
   },
   "outputs": [],
   "source": [
    "# Since schedule_gtfs_dataset_key changes but not name (hopefully), use name\n",
    "lacmta2 = lacmta.sort_values(by=[\"service_date\"], ascending=False).drop_duplicates(\n",
    "    subset=[\"analysis_name\", \"name\"]\n",
    ")"
   ]
  },
  {
   "cell_type": "code",
   "execution_count": null,
   "id": "385d473a-97a8-497e-bbc3-f16ac67e01e4",
   "metadata": {
    "tags": []
   },
   "outputs": [],
   "source": [
    "lacmta2.T"
   ]
  },
  {
   "cell_type": "markdown",
   "id": "7e5abc37-195e-415c-ad23-082a08d3fac9",
   "metadata": {},
   "source": [
    "## Edit `create_gtfs_stats`"
   ]
  },
  {
   "cell_type": "code",
   "execution_count": null,
   "id": "baf3b80f-5388-4a13-9446-ed53e6cc57fb",
   "metadata": {
    "tags": []
   },
   "outputs": [],
   "source": [
    "gtfs_service_cols = [c for c in lacmta2.columns if \"operator_\" in c]"
   ]
  },
  {
   "cell_type": "code",
   "execution_count": null,
   "id": "6e258a90-e98a-4e29-b1b1-aa37429bd318",
   "metadata": {
    "tags": []
   },
   "outputs": [],
   "source": [
    "gtfs_table_df = lacmta2[gtfs_service_cols + [\"analysis_name\"]].reset_index(drop=True)"
   ]
  },
  {
   "cell_type": "code",
   "execution_count": null,
   "id": "adf3aa83-e177-4d2e-95e3-84582b39ebf5",
   "metadata": {
    "tags": []
   },
   "outputs": [],
   "source": [
    "gtfs_table_df"
   ]
  },
  {
   "cell_type": "code",
   "execution_count": null,
   "id": "fda79e64-211e-4ebe-9558-5ad644e26710",
   "metadata": {
    "tags": []
   },
   "outputs": [],
   "source": [
    "gtfs_table_df.groupby(['analysis_name']).agg(\"sum\").reset_index()"
   ]
  },
  {
   "cell_type": "code",
   "execution_count": null,
   "id": "a8ade7aa-1487-4470-bcbe-59d4295b32d3",
   "metadata": {
    "tags": []
   },
   "outputs": [],
   "source": [
    "gtfs_table_df"
   ]
  }
 ],
 "metadata": {
  "kernelspec": {
   "display_name": "Python 3 (ipykernel)",
   "language": "python",
   "name": "python3"
  },
  "language_info": {
   "codemirror_mode": {
    "name": "ipython",
    "version": 3
   },
   "file_extension": ".py",
   "mimetype": "text/x-python",
   "name": "python",
   "nbconvert_exporter": "python",
   "pygments_lexer": "ipython3",
   "version": "3.11.10"
  }
 },
 "nbformat": 4,
 "nbformat_minor": 5
}
