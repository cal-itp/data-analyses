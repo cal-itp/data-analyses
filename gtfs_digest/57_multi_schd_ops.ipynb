{
 "cells": [
  {
   "cell_type": "markdown",
   "id": "92c823a6-7a08-4255-bd23-81c9ba82469d",
   "metadata": {},
   "source": [
    "# Mutliple schedule keys correspond to multiple operators\n",
    "* Address Tiffany's comment [here](https://github.com/cal-itp/data-analyses/pull/1413)\n",
    "```\n",
    "# if you want to swap the order of key and value, that's fine.\n",
    "# I put organization_name as the key because you are likely to start from the digest and check it against\n",
    "# the schedule_gtfs_dataset_name we use for the feed\n",
    "# I removed the nested structure - is it important for it to be organized by district or is alphabetical enough?\n",
    "\n",
    "organization_name: schedule_gtfs_dataset_name (sorted alphabetically on both key and value)\n",
    "\n",
    "Foothill Transit: Duarte Schedule\n",
    "Foothill Transit: Foothill Schedule\n",
    "LA Metro: LA Metro Bus Schedule \n",
    "LA Metro: LA Metro Rail Schedule\n",
    "```"
   ]
  },
  {
   "cell_type": "code",
   "execution_count": 1,
   "id": "1f3d6ccf-5041-4e37-9241-c605222fe4d8",
   "metadata": {
    "tags": []
   },
   "outputs": [],
   "source": [
    "import _section1_utils as section1\n",
    "import _section2_utils as section2\n",
    "import geopandas as gpd\n",
    "import merge_data\n",
    "import merge_operator_data\n",
    "import numpy as np\n",
    "import pandas as pd\n",
    "from segment_speed_utils import gtfs_schedule_wrangling, helpers\n",
    "from segment_speed_utils.project_vars import COMPILED_CACHED_VIEWS, PROJECT_CRS\n",
    "from shared_utils import catalog_utils, portfolio_utils, rt_dates\n",
    "from update_vars import GTFS_DATA_DICT, RT_SCHED_GCS, SCHED_GCS, SEGMENT_GCS"
   ]
  },
  {
   "cell_type": "code",
   "execution_count": 2,
   "id": "e62da9c0-3543-4c78-8d8d-03822336e4cd",
   "metadata": {
    "tags": []
   },
   "outputs": [],
   "source": [
    "pd.options.display.max_columns = 100\n",
    "pd.options.display.float_format = \"{:.2f}\".format\n",
    "pd.set_option(\"display.max_rows\", None)\n",
    "pd.set_option(\"display.max_colwidth\", None)"
   ]
  },
  {
   "cell_type": "code",
   "execution_count": 3,
   "id": "d888aaba-dfaa-4256-ac96-67ea72d62d33",
   "metadata": {
    "tags": []
   },
   "outputs": [],
   "source": [
    "analysis_date_list = [rt_dates.DATES[\"feb2025\"]]"
   ]
  },
  {
   "cell_type": "code",
   "execution_count": 4,
   "id": "ace43146-4c42-4bfd-8983-768a80f1007a",
   "metadata": {
    "tags": []
   },
   "outputs": [],
   "source": [
    "analysis_date = rt_dates.DATES[\"feb2025\"]"
   ]
  },
  {
   "cell_type": "code",
   "execution_count": 5,
   "id": "ec3175a1-3094-4477-84f9-e155e09e3de6",
   "metadata": {
    "tags": []
   },
   "outputs": [],
   "source": [
    "import _operators_prep"
   ]
  },
  {
   "cell_type": "code",
   "execution_count": 6,
   "id": "f836ecf6-dbb5-4f3b-83ab-8a560cc482c8",
   "metadata": {
    "tags": []
   },
   "outputs": [],
   "source": [
    "schd_vp_url = f\"{GTFS_DATA_DICT.digest_tables.dir}{GTFS_DATA_DICT.digest_tables.route_schedule_vp}.parquet\""
   ]
  },
  {
   "cell_type": "markdown",
   "id": "46917acd-319d-454e-849b-26e1de21975d",
   "metadata": {},
   "source": [
    "## `gtfs_digest/_operators_prep`"
   ]
  },
  {
   "cell_type": "code",
   "execution_count": 7,
   "id": "aa432c2c-7c39-4560-ae11-bc676bb0d3b6",
   "metadata": {
    "tags": []
   },
   "outputs": [],
   "source": [
    "schd_vp_df = pd.read_parquet(\n",
    "    schd_vp_url,\n",
    "    filters=[[(\"sched_rt_category\", \"in\", [\"schedule_and_vp\", \"schedule_only\"])]],\n",
    "    columns=[\n",
    "        \"schedule_gtfs_dataset_key\",\n",
    "        \"caltrans_district\",\n",
    "        \"organization_name\",\n",
    "        \"name\",\n",
    "        \"sched_rt_category\",\n",
    "        \"service_date\",\n",
    "    ],\n",
    ")"
   ]
  },
  {
   "cell_type": "code",
   "execution_count": 8,
   "id": "d9399a80-f19b-4302-8626-07383bb8e0b8",
   "metadata": {
    "tags": []
   },
   "outputs": [],
   "source": [
    "schd_vp_df = schd_vp_df.assign(\n",
    "    caltrans_district=schd_vp_df.caltrans_district.map(\n",
    "        portfolio_utils.CALTRANS_DISTRICT_DICT\n",
    "    )\n",
    ")"
   ]
  },
  {
   "cell_type": "code",
   "execution_count": 9,
   "id": "8bfabf41-6667-411e-a7ce-cec03ec76b85",
   "metadata": {
    "tags": []
   },
   "outputs": [],
   "source": [
    "schd_vp_df2 = (\n",
    "    schd_vp_df.dropna(subset=\"caltrans_district\")\n",
    "    .sort_values(\n",
    "        by=[\n",
    "            \"caltrans_district\",\n",
    "            \"organization_name\",\n",
    "            \"service_date\",\n",
    "        ],\n",
    "        ascending=[True, True, False],\n",
    "    )\n",
    "    .drop_duplicates(\n",
    "        subset=[\n",
    "            \"organization_name\",\n",
    "            \"caltrans_district\",\n",
    "        ]\n",
    "    )\n",
    "    .reset_index(drop=True)\n",
    ")"
   ]
  },
  {
   "cell_type": "code",
   "execution_count": 10,
   "id": "34c36486-8c4b-44a3-b557-9da6a2e0abb1",
   "metadata": {
    "tags": []
   },
   "outputs": [
    {
     "data": {
      "text/html": [
       "<div>\n",
       "<style scoped>\n",
       "    .dataframe tbody tr th:only-of-type {\n",
       "        vertical-align: middle;\n",
       "    }\n",
       "\n",
       "    .dataframe tbody tr th {\n",
       "        vertical-align: top;\n",
       "    }\n",
       "\n",
       "    .dataframe thead th {\n",
       "        text-align: right;\n",
       "    }\n",
       "</style>\n",
       "<table border=\"1\" class=\"dataframe\">\n",
       "  <thead>\n",
       "    <tr style=\"text-align: right;\">\n",
       "      <th></th>\n",
       "      <th>schedule_gtfs_dataset_key</th>\n",
       "      <th>caltrans_district</th>\n",
       "      <th>organization_name</th>\n",
       "      <th>name</th>\n",
       "      <th>sched_rt_category</th>\n",
       "      <th>service_date</th>\n",
       "    </tr>\n",
       "  </thead>\n",
       "  <tbody>\n",
       "    <tr>\n",
       "      <th>0</th>\n",
       "      <td>6693efa56a541b6276da9b424f78a170</td>\n",
       "      <td>01 - Eureka</td>\n",
       "      <td>Blue Lake Rancheria</td>\n",
       "      <td>Humboldt Schedule</td>\n",
       "      <td>schedule_and_vp</td>\n",
       "      <td>2023-09-13</td>\n",
       "    </tr>\n",
       "  </tbody>\n",
       "</table>\n",
       "</div>"
      ],
      "text/plain": [
       "          schedule_gtfs_dataset_key caltrans_district    organization_name  \\\n",
       "0  6693efa56a541b6276da9b424f78a170       01 - Eureka  Blue Lake Rancheria   \n",
       "\n",
       "                name sched_rt_category service_date  \n",
       "0  Humboldt Schedule   schedule_and_vp   2023-09-13  "
      ]
     },
     "execution_count": 10,
     "metadata": {},
     "output_type": "execute_result"
    }
   ],
   "source": [
    "schd_vp_df2.head(1)"
   ]
  },
  {
   "cell_type": "markdown",
   "id": "91b1c7c4-9f83-4253-8de3-0a546aa51555",
   "metadata": {},
   "source": [
    "## Start from `_operators_prep`"
   ]
  },
  {
   "cell_type": "code",
   "execution_count": 11,
   "id": "5006d01b-54d4-4adb-b286-4623b828a502",
   "metadata": {
    "tags": []
   },
   "outputs": [],
   "source": [
    "one_to_many_df, one_to_one_df, final = _operators_prep.operators_schd_vp_rt()"
   ]
  },
  {
   "cell_type": "code",
   "execution_count": 12,
   "id": "42caae06-918c-4141-88b2-ff7f4a8c72b6",
   "metadata": {
    "tags": []
   },
   "outputs": [],
   "source": [
    "one_to_many_df = one_to_many_df[\n",
    "    [\"schedule_gtfs_dataset_key\", \"caltrans_district\", \"organization_name\"]\n",
    "]"
   ]
  },
  {
   "cell_type": "code",
   "execution_count": 13,
   "id": "55b7f717-b269-4130-86c2-cb47365e9ab8",
   "metadata": {
    "tags": []
   },
   "outputs": [],
   "source": [
    "one_to_many_df = one_to_many_df.rename(\n",
    "    columns={\"organization_name\": \"repeated_organization_name\"}\n",
    ")"
   ]
  },
  {
   "cell_type": "code",
   "execution_count": 14,
   "id": "ec1a0aef-fbc4-4eff-8c32-0103e3c8a838",
   "metadata": {
    "tags": []
   },
   "outputs": [],
   "source": [
    "one_to_one_df = one_to_one_df[\n",
    "    [\"schedule_gtfs_dataset_key\", \"caltrans_district\", \"organization_name\"]\n",
    "]"
   ]
  },
  {
   "cell_type": "code",
   "execution_count": 15,
   "id": "154759b7-8993-43b3-bded-494573267bf7",
   "metadata": {},
   "outputs": [],
   "source": [
    "one_to_one_df = one_to_one_df.rename(\n",
    "    columns={\"organization_name\": \"kept_organization_name\"}\n",
    ")"
   ]
  },
  {
   "cell_type": "code",
   "execution_count": 17,
   "id": "d521d66a-5664-470a-bb7a-833f95a92dbb",
   "metadata": {
    "tags": []
   },
   "outputs": [],
   "source": [
    "m1 = pd.merge(\n",
    "    one_to_one_df,\n",
    "    one_to_many_df,\n",
    "    on=[\"schedule_gtfs_dataset_key\", \"caltrans_district\"],\n",
    ")"
   ]
  },
  {
   "cell_type": "markdown",
   "id": "138d84d0-0d6f-491d-9303-f122e5fe6743",
   "metadata": {},
   "source": [
    "## Keep only the keys that appear more than once"
   ]
  },
  {
   "cell_type": "code",
   "execution_count": 18,
   "id": "4e078c97-feac-47e6-bdb5-059a0232f820",
   "metadata": {
    "tags": []
   },
   "outputs": [],
   "source": [
    "agg1 = (\n",
    "    m1.groupby([\"caltrans_district\", \"schedule_gtfs_dataset_key\"])\n",
    "    .agg({\"repeated_organization_name\": \"nunique\"})\n",
    "    .reset_index()\n",
    ")\n",
    "\n",
    "# Filter out rows with more than 1 organization_name\n",
    "agg1 = agg1.loc[agg1.repeated_organization_name > 1].reset_index(drop=True)\n",
    "# Grab schedule_gtfs_datset_key into a list\n",
    "multi_org_list = list(agg1.schedule_gtfs_dataset_key.unique())"
   ]
  },
  {
   "cell_type": "code",
   "execution_count": 19,
   "id": "00dda89e-118d-46aa-8cdf-88971822f6c6",
   "metadata": {
    "tags": []
   },
   "outputs": [],
   "source": [
    "m2 = m1.loc[m1.schedule_gtfs_dataset_key.isin(multi_org_list)]"
   ]
  },
  {
   "cell_type": "markdown",
   "id": "f7bfa12c-0475-4be0-9717-900cbf1f1d4e",
   "metadata": {},
   "source": [
    "## Delete out the kept_organization_name"
   ]
  },
  {
   "cell_type": "code",
   "execution_count": 21,
   "id": "90992c62-3355-4e61-8b28-6117996b3ad8",
   "metadata": {
    "tags": []
   },
   "outputs": [
    {
     "name": "stderr",
     "output_type": "stream",
     "text": [
      "/tmp/ipykernel_1560/164418230.py:1: SettingWithCopyWarning: \n",
      "A value is trying to be set on a copy of a slice from a DataFrame.\n",
      "Try using .loc[row_indexer,col_indexer] = value instead\n",
      "\n",
      "See the caveats in the documentation: https://pandas.pydata.org/pandas-docs/stable/user_guide/indexing.html#returning-a-view-versus-a-copy\n",
      "  m2[\"kept_name_bool\"] = m2.kept_organization_name == m2.repeated_organization_name\n"
     ]
    }
   ],
   "source": [
    "m2[\"kept_name_bool\"] = m2.kept_organization_name == m2.repeated_organization_name"
   ]
  },
  {
   "cell_type": "code",
   "execution_count": 22,
   "id": "29571e36-1dde-4740-9244-c2c59a6b2253",
   "metadata": {
    "tags": []
   },
   "outputs": [],
   "source": [
    "m3 = m2.loc[m2.kept_name_bool == False]"
   ]
  },
  {
   "cell_type": "code",
   "execution_count": 23,
   "id": "542a5e7c-4e4d-42ea-a732-12291c8db512",
   "metadata": {
    "tags": []
   },
   "outputs": [],
   "source": [
    "final_cols = [\"kept_organization_name\", \"repeated_organization_name\"]"
   ]
  },
  {
   "cell_type": "code",
   "execution_count": 24,
   "id": "25c25a3f-f095-4e12-b55f-236a4e50df1a",
   "metadata": {
    "tags": []
   },
   "outputs": [],
   "source": [
    "m3 = m3.sort_values(by=final_cols)[final_cols]"
   ]
  },
  {
   "cell_type": "code",
   "execution_count": 25,
   "id": "ec8d1731-7fbb-4c7b-90dd-60dc4d5e855a",
   "metadata": {
    "tags": []
   },
   "outputs": [
    {
     "data": {
      "text/html": [
       "<div>\n",
       "<style scoped>\n",
       "    .dataframe tbody tr th:only-of-type {\n",
       "        vertical-align: middle;\n",
       "    }\n",
       "\n",
       "    .dataframe tbody tr th {\n",
       "        vertical-align: top;\n",
       "    }\n",
       "\n",
       "    .dataframe thead th {\n",
       "        text-align: right;\n",
       "    }\n",
       "</style>\n",
       "<table border=\"1\" class=\"dataframe\">\n",
       "  <thead>\n",
       "    <tr style=\"text-align: right;\">\n",
       "      <th></th>\n",
       "      <th>kept_organization_name</th>\n",
       "      <th>repeated_organization_name</th>\n",
       "    </tr>\n",
       "  </thead>\n",
       "  <tbody>\n",
       "    <tr>\n",
       "      <th>2</th>\n",
       "      <td>City of Arcata</td>\n",
       "      <td>City of Eureka</td>\n",
       "    </tr>\n",
       "    <tr>\n",
       "      <th>3</th>\n",
       "      <td>City of Arcata</td>\n",
       "      <td>Humboldt Transit Authority</td>\n",
       "    </tr>\n",
       "    <tr>\n",
       "      <th>115</th>\n",
       "      <td>City of Camarillo</td>\n",
       "      <td>City of Moorpark</td>\n",
       "    </tr>\n",
       "    <tr>\n",
       "      <th>116</th>\n",
       "      <td>City of Camarillo</td>\n",
       "      <td>City of Ojai</td>\n",
       "    </tr>\n",
       "    <tr>\n",
       "      <th>117</th>\n",
       "      <td>City of Camarillo</td>\n",
       "      <td>City of Simi Valley</td>\n",
       "    </tr>\n",
       "    <tr>\n",
       "      <th>118</th>\n",
       "      <td>City of Camarillo</td>\n",
       "      <td>City of Thousand Oaks</td>\n",
       "    </tr>\n",
       "    <tr>\n",
       "      <th>119</th>\n",
       "      <td>City of Camarillo</td>\n",
       "      <td>Gold Coast Transit District</td>\n",
       "    </tr>\n",
       "    <tr>\n",
       "      <th>120</th>\n",
       "      <td>City of Camarillo</td>\n",
       "      <td>Ventura County Transportation Commission</td>\n",
       "    </tr>\n",
       "    <tr>\n",
       "      <th>127</th>\n",
       "      <td>City of Duarte</td>\n",
       "      <td>Foothill Transit</td>\n",
       "    </tr>\n",
       "    <tr>\n",
       "      <th>44</th>\n",
       "      <td>City of Menlo Park</td>\n",
       "      <td>Commute.org</td>\n",
       "    </tr>\n",
       "    <tr>\n",
       "      <th>24</th>\n",
       "      <td>City of Rancho Cordova</td>\n",
       "      <td>Sacramento Regional Transit District</td>\n",
       "    </tr>\n",
       "    <tr>\n",
       "      <th>82</th>\n",
       "      <td>City of Santa Cruz</td>\n",
       "      <td>University of California, Santa Cruz</td>\n",
       "    </tr>\n",
       "    <tr>\n",
       "      <th>53</th>\n",
       "      <td>Cloverdale Transit</td>\n",
       "      <td>Sonoma County</td>\n",
       "    </tr>\n",
       "    <tr>\n",
       "      <th>190</th>\n",
       "      <td>Flagship Cruises and Events Inc.</td>\n",
       "      <td>San Diego International Airport</td>\n",
       "    </tr>\n",
       "    <tr>\n",
       "      <th>191</th>\n",
       "      <td>Flagship Cruises and Events Inc.</td>\n",
       "      <td>San Diego Metropolitan Transit System</td>\n",
       "    </tr>\n",
       "    <tr>\n",
       "      <th>154</th>\n",
       "      <td>FlixBus</td>\n",
       "      <td>Greyhound</td>\n",
       "    </tr>\n",
       "    <tr>\n",
       "      <th>30</th>\n",
       "      <td>North Lake Tahoe Express</td>\n",
       "      <td>Tahoe Truckee Area Regional Transportation</td>\n",
       "    </tr>\n",
       "    <tr>\n",
       "      <th>14</th>\n",
       "      <td>Redding Area Bus Authority</td>\n",
       "      <td>Shasta County</td>\n",
       "    </tr>\n",
       "    <tr>\n",
       "      <th>71</th>\n",
       "      <td>Solano County Transit</td>\n",
       "      <td>Solano Transportation Authority</td>\n",
       "    </tr>\n",
       "    <tr>\n",
       "      <th>17</th>\n",
       "      <td>Susanville Indian Rancheria</td>\n",
       "      <td>Tehama County</td>\n",
       "    </tr>\n",
       "  </tbody>\n",
       "</table>\n",
       "</div>"
      ],
      "text/plain": [
       "               kept_organization_name  \\\n",
       "2                      City of Arcata   \n",
       "3                      City of Arcata   \n",
       "115                 City of Camarillo   \n",
       "116                 City of Camarillo   \n",
       "117                 City of Camarillo   \n",
       "118                 City of Camarillo   \n",
       "119                 City of Camarillo   \n",
       "120                 City of Camarillo   \n",
       "127                    City of Duarte   \n",
       "44                 City of Menlo Park   \n",
       "24             City of Rancho Cordova   \n",
       "82                 City of Santa Cruz   \n",
       "53                 Cloverdale Transit   \n",
       "190  Flagship Cruises and Events Inc.   \n",
       "191  Flagship Cruises and Events Inc.   \n",
       "154                           FlixBus   \n",
       "30           North Lake Tahoe Express   \n",
       "14         Redding Area Bus Authority   \n",
       "71              Solano County Transit   \n",
       "17        Susanville Indian Rancheria   \n",
       "\n",
       "                     repeated_organization_name  \n",
       "2                                City of Eureka  \n",
       "3                    Humboldt Transit Authority  \n",
       "115                            City of Moorpark  \n",
       "116                                City of Ojai  \n",
       "117                         City of Simi Valley  \n",
       "118                       City of Thousand Oaks  \n",
       "119                 Gold Coast Transit District  \n",
       "120    Ventura County Transportation Commission  \n",
       "127                            Foothill Transit  \n",
       "44                                  Commute.org  \n",
       "24         Sacramento Regional Transit District  \n",
       "82         University of California, Santa Cruz  \n",
       "53                                Sonoma County  \n",
       "190             San Diego International Airport  \n",
       "191       San Diego Metropolitan Transit System  \n",
       "154                                   Greyhound  \n",
       "30   Tahoe Truckee Area Regional Transportation  \n",
       "14                                Shasta County  \n",
       "71              Solano Transportation Authority  \n",
       "17                                Tehama County  "
      ]
     },
     "execution_count": 25,
     "metadata": {},
     "output_type": "execute_result"
    }
   ],
   "source": [
    "m3"
   ]
  },
  {
   "cell_type": "code",
   "execution_count": 26,
   "id": "b94019f9-0fc5-467d-aff9-bb469d9fc9c3",
   "metadata": {
    "tags": []
   },
   "outputs": [],
   "source": [
    "my_dict = m3.set_index(\"repeated_organization_name\").T.to_dict(\"list\")"
   ]
  },
  {
   "cell_type": "markdown",
   "id": "e0df9899-fd6c-4fb2-8f6d-0842381ac29e",
   "metadata": {},
   "source": [
    "## Turn this into a yaml"
   ]
  },
  {
   "cell_type": "code",
   "execution_count": 27,
   "id": "c185b3ec-ccf4-4905-8bf0-9f27ea60593c",
   "metadata": {
    "tags": []
   },
   "outputs": [],
   "source": [
    "import yaml"
   ]
  },
  {
   "cell_type": "code",
   "execution_count": 28,
   "id": "276760c2-930a-41fd-987c-d46046cac75d",
   "metadata": {
    "tags": []
   },
   "outputs": [],
   "source": [
    "site_yaml = \"./test_file.yml\""
   ]
  },
  {
   "cell_type": "code",
   "execution_count": 29,
   "id": "9ae0e61c-76af-453d-a4ec-7bde33c30b8f",
   "metadata": {
    "tags": []
   },
   "outputs": [],
   "source": [
    "with open(site_yaml) as f:\n",
    "    site_yaml_dict = yaml.load(f, yaml.Loader)"
   ]
  },
  {
   "cell_type": "code",
   "execution_count": 30,
   "id": "fecb6592-1e5c-4f0a-ac3c-d9cd8ca31a95",
   "metadata": {
    "tags": []
   },
   "outputs": [],
   "source": [
    "output = yaml.dump(my_dict)\n",
    "\n",
    "with open(site_yaml, \"w\") as f:\n",
    "    f.write(output)"
   ]
  }
 ],
 "metadata": {
  "kernelspec": {
   "display_name": "Python 3 (ipykernel)",
   "language": "python",
   "name": "python3"
  },
  "language_info": {
   "codemirror_mode": {
    "name": "ipython",
    "version": 3
   },
   "file_extension": ".py",
   "mimetype": "text/x-python",
   "name": "python",
   "nbconvert_exporter": "python",
   "pygments_lexer": "ipython3",
   "version": "3.11.10"
  }
 },
 "nbformat": 4,
 "nbformat_minor": 5
}
