{
 "cells": [
  {
   "cell_type": "markdown",
   "id": "733e5c07-e894-48de-b92a-9cba10b7fc9a",
   "metadata": {},
   "source": [
    "## Transit Bunching\n",
    "* I tried turning `stop_times` to actual dates but it seems like seconds is easier to manipulate.\n",
    "* 10_transit_bunching.ipynb contains timestamps attempts\n",
    "* cd data-analyses/rt_segment_speeds && pip install -r requirements.txt && cd ../_shared_utils && make setup_env && cd ../gtfs_digest\n",
    "* [Issue](https://github.com/cal-itp/data-analyses/issues/1099)"
   ]
  },
  {
   "cell_type": "code",
   "execution_count": 1,
   "id": "60097cf1-857d-4c7f-9fc7-043a69ec1a61",
   "metadata": {},
   "outputs": [],
   "source": [
    "import geopandas as gpd\n",
    "import pandas as pd\n",
    "from segment_speed_utils import gtfs_schedule_wrangling, helpers\n",
    "from shared_utils import catalog_utils, rt_dates, rt_utils\n",
    "from update_vars import GTFS_DATA_DICT, RT_SCHED_GCS, SCHED_GCS\n",
    "\n",
    "# https://github.com/cal-itp/data-analyses/blob/main/_shared_utils/shared_utils/gtfs_analytics_data.yml\n",
    "GTFS_DATA_DICT = catalog_utils.get_catalog(\"gtfs_analytics_data\")\n",
    "\n",
    "from segment_speed_utils.project_vars import (\n",
    "    COMPILED_CACHED_VIEWS,\n",
    "    GTFS_DATA_DICT,\n",
    "    PROJECT_CRS,\n",
    "    RT_SCHED_GCS,\n",
    "    SCHED_GCS,\n",
    "    SEGMENT_GCS,\n",
    ")"
   ]
  },
  {
   "cell_type": "code",
   "execution_count": 2,
   "id": "7b8870df-fd24-4433-89c9-49dc71d59a5f",
   "metadata": {},
   "outputs": [],
   "source": [
    "import merge_data"
   ]
  },
  {
   "cell_type": "code",
   "execution_count": 3,
   "id": "51a085f8-5981-4da7-904f-6348cf2e18b0",
   "metadata": {},
   "outputs": [],
   "source": [
    "pd.options.display.max_columns = 100\n",
    "pd.options.display.float_format = \"{:.2f}\".format\n",
    "pd.set_option(\"display.max_rows\", None)\n",
    "pd.set_option(\"display.max_colwidth\", None)"
   ]
  },
  {
   "cell_type": "code",
   "execution_count": 4,
   "id": "113bd786-8d4b-4153-939b-b419b4fa97ee",
   "metadata": {},
   "outputs": [],
   "source": [
    "may_date = \"2024-05-22\""
   ]
  },
  {
   "cell_type": "code",
   "execution_count": 5,
   "id": "44a80420-dbe8-4a2b-9c47-44b32bf28e00",
   "metadata": {},
   "outputs": [],
   "source": [
    "drop_for_preview = [\n",
    "    \"schedule_gtfs_dataset_key\",\n",
    "    \"trip_instance_key\",\n",
    "    \"shape_array_key\",\n",
    "    \"feed_key\",\n",
    "    \"trip_id\",\n",
    "]"
   ]
  },
  {
   "cell_type": "markdown",
   "id": "2be7e7cc-b6c5-4c87-b2d5-6cb8612e23ce",
   "metadata": {},
   "source": [
    "### Get high frequency routes\n",
    "* Group by mean frequency minutes for the operator-route-direction grain.\n",
    "* Use mean?"
   ]
  },
  {
   "cell_type": "code",
   "execution_count": 6,
   "id": "873bf893-40a2-4b64-84ba-68604c6df18b",
   "metadata": {},
   "outputs": [],
   "source": [
    "subset = [\n",
    "    \"schedule_gtfs_dataset_key\",\n",
    "    \"route_id\",\n",
    "    \"direction_id\",\n",
    "    \"route_primary_direction\",\n",
    "    \"service_date\",\n",
    "    \"frequency\",\n",
    "]"
   ]
  },
  {
   "cell_type": "code",
   "execution_count": 7,
   "id": "c9c35b69-d5ad-47b6-9027-33cc6631835e",
   "metadata": {},
   "outputs": [
    {
     "data": {
      "text/plain": [
       "'schedule_route_dir/schedule_route_direction_metrics'"
      ]
     },
     "execution_count": 7,
     "metadata": {},
     "output_type": "execute_result"
    }
   ],
   "source": [
    "GTFS_DATA_DICT.rt_vs_schedule_tables.sched_route_direction_metrics"
   ]
  },
  {
   "cell_type": "code",
   "execution_count": 8,
   "id": "9d07da3c-e347-4671-925b-e8f5bc31c0fd",
   "metadata": {},
   "outputs": [],
   "source": [
    "route_dir = merge_data.concatenate_schedule_by_route_direction([may_date])[subset]"
   ]
  },
  {
   "cell_type": "code",
   "execution_count": 9,
   "id": "f20ecdf1-76e0-4f7f-a10d-97860f6911e8",
   "metadata": {},
   "outputs": [],
   "source": [
    "route_dir[\"frequency_in_minutes\"] = 60 / route_dir.frequency"
   ]
  },
  {
   "cell_type": "code",
   "execution_count": 10,
   "id": "9bdda27a-0bf4-469f-a485-d85006760566",
   "metadata": {},
   "outputs": [
    {
     "data": {
      "text/html": [
       "<div>\n",
       "<style scoped>\n",
       "    .dataframe tbody tr th:only-of-type {\n",
       "        vertical-align: middle;\n",
       "    }\n",
       "\n",
       "    .dataframe tbody tr th {\n",
       "        vertical-align: top;\n",
       "    }\n",
       "\n",
       "    .dataframe thead th {\n",
       "        text-align: right;\n",
       "    }\n",
       "</style>\n",
       "<table border=\"1\" class=\"dataframe\">\n",
       "  <thead>\n",
       "    <tr style=\"text-align: right;\">\n",
       "      <th></th>\n",
       "      <th>schedule_gtfs_dataset_key</th>\n",
       "      <th>route_id</th>\n",
       "      <th>direction_id</th>\n",
       "      <th>route_primary_direction</th>\n",
       "      <th>service_date</th>\n",
       "      <th>frequency</th>\n",
       "      <th>frequency_in_minutes</th>\n",
       "    </tr>\n",
       "  </thead>\n",
       "  <tbody>\n",
       "    <tr>\n",
       "      <th>0</th>\n",
       "      <td>015d67d5b75b5cf2b710bbadadfb75f5</td>\n",
       "      <td>17</td>\n",
       "      <td>0.00</td>\n",
       "      <td>Northbound</td>\n",
       "      <td>2024-05-22</td>\n",
       "      <td>0.92</td>\n",
       "      <td>65.22</td>\n",
       "    </tr>\n",
       "  </tbody>\n",
       "</table>\n",
       "</div>"
      ],
      "text/plain": [
       "          schedule_gtfs_dataset_key route_id  direction_id  \\\n",
       "0  015d67d5b75b5cf2b710bbadadfb75f5       17          0.00   \n",
       "\n",
       "  route_primary_direction service_date  frequency  frequency_in_minutes  \n",
       "0              Northbound   2024-05-22       0.92                 65.22  "
      ]
     },
     "execution_count": 10,
     "metadata": {},
     "output_type": "execute_result"
    }
   ],
   "source": [
    "route_dir.head(1)"
   ]
  },
  {
   "cell_type": "code",
   "execution_count": 11,
   "id": "75b6d1d2-b6b5-4c44-8d5a-0f026e8fcd65",
   "metadata": {},
   "outputs": [],
   "source": [
    "route_freq_groupby = [\n",
    "    \"schedule_gtfs_dataset_key\",\n",
    "    \"route_id\",\n",
    "    \"direction_id\",\n",
    "    \"route_primary_direction\",\n",
    "]"
   ]
  },
  {
   "cell_type": "code",
   "execution_count": 12,
   "id": "e2893c22-7d7c-4dca-9d08-0e33d2680437",
   "metadata": {},
   "outputs": [],
   "source": [
    "high_frequency_routes = (\n",
    "    route_dir.groupby(route_freq_groupby)\n",
    "    .agg({\"frequency_in_minutes\": \"mean\"})\n",
    "    .reset_index()\n",
    ")"
   ]
  },
  {
   "cell_type": "markdown",
   "id": "4d60454a-36e2-491e-bf4a-e4111bf35271",
   "metadata": {},
   "source": [
    "#### Grab routes in the 5th percentile of frequency for now."
   ]
  },
  {
   "cell_type": "code",
   "execution_count": 13,
   "id": "19c16f8b-5bec-48b9-9b26-2765f63db58d",
   "metadata": {},
   "outputs": [
    {
     "data": {
      "text/plain": [
       "count   3417.00\n",
       "mean     234.64\n",
       "std      312.42\n",
       "min        4.00\n",
       "5%        17.65\n",
       "10%       23.40\n",
       "50%       97.71\n",
       "90%      750.00\n",
       "95%     1000.00\n",
       "max     1250.00\n",
       "Name: frequency_in_minutes, dtype: float64"
      ]
     },
     "execution_count": 13,
     "metadata": {},
     "output_type": "execute_result"
    }
   ],
   "source": [
    "high_frequency_routes[\"frequency_in_minutes\"].describe(\n",
    "    percentiles=[0.05, 0.1, 0.9, 0.95]\n",
    ")"
   ]
  },
  {
   "cell_type": "code",
   "execution_count": 14,
   "id": "7199531e-4d3b-49f6-9c8e-a537a06b4990",
   "metadata": {},
   "outputs": [
    {
     "name": "stdout",
     "output_type": "stream",
     "text": [
      "<class 'pandas.core.frame.DataFrame'>\n",
      "RangeIndex: 3417 entries, 0 to 3416\n",
      "Data columns (total 5 columns):\n",
      " #   Column                     Non-Null Count  Dtype  \n",
      "---  ------                     --------------  -----  \n",
      " 0   schedule_gtfs_dataset_key  3417 non-null   object \n",
      " 1   route_id                   3417 non-null   object \n",
      " 2   direction_id               3417 non-null   float64\n",
      " 3   route_primary_direction    3417 non-null   object \n",
      " 4   frequency_in_minutes       3417 non-null   float64\n",
      "dtypes: float64(2), object(3)\n",
      "memory usage: 133.6+ KB\n"
     ]
    }
   ],
   "source": [
    "high_frequency_routes.info()"
   ]
  },
  {
   "cell_type": "code",
   "execution_count": 15,
   "id": "43bbb489-39ab-4c98-8685-66f94c413bf6",
   "metadata": {},
   "outputs": [],
   "source": [
    "high_frequency_routes2 = high_frequency_routes.loc[\n",
    "    high_frequency_routes.frequency_in_minutes <= 17.65\n",
    "]"
   ]
  },
  {
   "cell_type": "code",
   "execution_count": 16,
   "id": "fc18e4be-f035-4d5b-a096-e134dd17fc47",
   "metadata": {},
   "outputs": [
    {
     "data": {
      "text/plain": [
       "93"
      ]
     },
     "execution_count": 16,
     "metadata": {},
     "output_type": "execute_result"
    }
   ],
   "source": [
    "high_frequency_routes2.route_id.nunique()"
   ]
  },
  {
   "cell_type": "markdown",
   "id": "207670ea-105b-4b6a-be32-53bfcc79349b",
   "metadata": {},
   "source": [
    "### Get trips of high frequency routes"
   ]
  },
  {
   "cell_type": "code",
   "execution_count": 17,
   "id": "674f8ee6-3f6d-4f90-90ba-7ea9ee688b28",
   "metadata": {},
   "outputs": [],
   "source": [
    "TABLE = GTFS_DATA_DICT.schedule_downloads.trips"
   ]
  },
  {
   "cell_type": "code",
   "execution_count": 18,
   "id": "5333afa8-4849-4864-b253-b03a1093e84f",
   "metadata": {},
   "outputs": [],
   "source": [
    "FILE = f\"{COMPILED_CACHED_VIEWS}{TABLE}_{may_date}.parquet\""
   ]
  },
  {
   "cell_type": "code",
   "execution_count": 19,
   "id": "111e2c27-337d-4440-a1f6-10ec582a6f9e",
   "metadata": {},
   "outputs": [],
   "source": [
    "trips_subset = [\n",
    "    \"gtfs_dataset_key\",\n",
    "    \"route_id\",\n",
    "    \"trip_instance_key\",\n",
    "    \"shape_array_key\",\n",
    "    \"feed_key\",\n",
    "    \"route_long_name\",\n",
    "    \"direction_id\",\n",
    "]"
   ]
  },
  {
   "cell_type": "code",
   "execution_count": 20,
   "id": "e1aed68a-0ed2-4da4-904a-cb91681e7f38",
   "metadata": {},
   "outputs": [],
   "source": [
    "trips = pd.read_parquet(FILE)[trips_subset].rename(\n",
    "    columns={\"gtfs_dataset_key\": \"schedule_gtfs_dataset_key\"}\n",
    ")"
   ]
  },
  {
   "cell_type": "code",
   "execution_count": 21,
   "id": "684d15e7-4a6f-4bc1-abad-087a20a2503a",
   "metadata": {},
   "outputs": [
    {
     "data": {
      "text/html": [
       "<div>\n",
       "<style scoped>\n",
       "    .dataframe tbody tr th:only-of-type {\n",
       "        vertical-align: middle;\n",
       "    }\n",
       "\n",
       "    .dataframe tbody tr th {\n",
       "        vertical-align: top;\n",
       "    }\n",
       "\n",
       "    .dataframe thead th {\n",
       "        text-align: right;\n",
       "    }\n",
       "</style>\n",
       "<table border=\"1\" class=\"dataframe\">\n",
       "  <thead>\n",
       "    <tr style=\"text-align: right;\">\n",
       "      <th></th>\n",
       "      <th>schedule_gtfs_dataset_key</th>\n",
       "      <th>route_id</th>\n",
       "      <th>trip_instance_key</th>\n",
       "      <th>shape_array_key</th>\n",
       "      <th>feed_key</th>\n",
       "      <th>route_long_name</th>\n",
       "      <th>direction_id</th>\n",
       "    </tr>\n",
       "  </thead>\n",
       "  <tbody>\n",
       "    <tr>\n",
       "      <th>0</th>\n",
       "      <td>1770249a5a2e770ca90628434d4934b1</td>\n",
       "      <td>3408</td>\n",
       "      <td>c256553e28c4bba693e3136240b35419</td>\n",
       "      <td>8f644f847e987de68e0cb6fcd339cf41</td>\n",
       "      <td>926867fdee73d5fbfe4f011871bcd830</td>\n",
       "      <td>Route 21</td>\n",
       "      <td>0.00</td>\n",
       "    </tr>\n",
       "    <tr>\n",
       "      <th>1</th>\n",
       "      <td>1770249a5a2e770ca90628434d4934b1</td>\n",
       "      <td>3408</td>\n",
       "      <td>488e9e227288606249d0508961c0fa15</td>\n",
       "      <td>8f644f847e987de68e0cb6fcd339cf41</td>\n",
       "      <td>926867fdee73d5fbfe4f011871bcd830</td>\n",
       "      <td>Route 21</td>\n",
       "      <td>0.00</td>\n",
       "    </tr>\n",
       "  </tbody>\n",
       "</table>\n",
       "</div>"
      ],
      "text/plain": [
       "          schedule_gtfs_dataset_key route_id  \\\n",
       "0  1770249a5a2e770ca90628434d4934b1     3408   \n",
       "1  1770249a5a2e770ca90628434d4934b1     3408   \n",
       "\n",
       "                  trip_instance_key                   shape_array_key  \\\n",
       "0  c256553e28c4bba693e3136240b35419  8f644f847e987de68e0cb6fcd339cf41   \n",
       "1  488e9e227288606249d0508961c0fa15  8f644f847e987de68e0cb6fcd339cf41   \n",
       "\n",
       "                           feed_key route_long_name  direction_id  \n",
       "0  926867fdee73d5fbfe4f011871bcd830        Route 21          0.00  \n",
       "1  926867fdee73d5fbfe4f011871bcd830        Route 21          0.00  "
      ]
     },
     "execution_count": 21,
     "metadata": {},
     "output_type": "execute_result"
    }
   ],
   "source": [
    "trips.head(2)"
   ]
  },
  {
   "cell_type": "code",
   "execution_count": 22,
   "id": "6ee718ee-2db1-482e-8ead-9f15c3ac57fb",
   "metadata": {},
   "outputs": [
    {
     "data": {
      "text/html": [
       "<div>\n",
       "<style scoped>\n",
       "    .dataframe tbody tr th:only-of-type {\n",
       "        vertical-align: middle;\n",
       "    }\n",
       "\n",
       "    .dataframe tbody tr th {\n",
       "        vertical-align: top;\n",
       "    }\n",
       "\n",
       "    .dataframe thead th {\n",
       "        text-align: right;\n",
       "    }\n",
       "</style>\n",
       "<table border=\"1\" class=\"dataframe\">\n",
       "  <thead>\n",
       "    <tr style=\"text-align: right;\">\n",
       "      <th></th>\n",
       "      <th>schedule_gtfs_dataset_key</th>\n",
       "      <th>route_id</th>\n",
       "      <th>direction_id</th>\n",
       "      <th>route_primary_direction</th>\n",
       "      <th>frequency_in_minutes</th>\n",
       "    </tr>\n",
       "  </thead>\n",
       "  <tbody>\n",
       "    <tr>\n",
       "      <th>34</th>\n",
       "      <td>0666caf3ec1ecc96b74f4477ee4bc939</td>\n",
       "      <td>105-13172</td>\n",
       "      <td>0.00</td>\n",
       "      <td>Westbound</td>\n",
       "      <td>14.59</td>\n",
       "    </tr>\n",
       "    <tr>\n",
       "      <th>35</th>\n",
       "      <td>0666caf3ec1ecc96b74f4477ee4bc939</td>\n",
       "      <td>105-13172</td>\n",
       "      <td>1.00</td>\n",
       "      <td>Eastbound</td>\n",
       "      <td>14.43</td>\n",
       "    </tr>\n",
       "  </tbody>\n",
       "</table>\n",
       "</div>"
      ],
      "text/plain": [
       "           schedule_gtfs_dataset_key   route_id  direction_id  \\\n",
       "34  0666caf3ec1ecc96b74f4477ee4bc939  105-13172          0.00   \n",
       "35  0666caf3ec1ecc96b74f4477ee4bc939  105-13172          1.00   \n",
       "\n",
       "   route_primary_direction  frequency_in_minutes  \n",
       "34               Westbound                 14.59  \n",
       "35               Eastbound                 14.43  "
      ]
     },
     "execution_count": 22,
     "metadata": {},
     "output_type": "execute_result"
    }
   ],
   "source": [
    "high_frequency_routes2.head(2)"
   ]
  },
  {
   "cell_type": "code",
   "execution_count": 23,
   "id": "04901f96-76d5-4d99-b3d1-f174ef989357",
   "metadata": {},
   "outputs": [],
   "source": [
    "trips_freq_routes = pd.merge(\n",
    "    trips,\n",
    "    high_frequency_routes2,\n",
    "    on=[\"schedule_gtfs_dataset_key\", \"route_id\", \"direction_id\"],\n",
    "    how=\"inner\",\n",
    ")"
   ]
  },
  {
   "cell_type": "code",
   "execution_count": 25,
   "id": "1195177f-0215-4b24-9e47-dccfb3ee542e",
   "metadata": {},
   "outputs": [
    {
     "data": {
      "text/plain": [
       "(20090, 9)"
      ]
     },
     "execution_count": 25,
     "metadata": {},
     "output_type": "execute_result"
    }
   ],
   "source": [
    "trips_freq_routes.shape"
   ]
  },
  {
   "cell_type": "code",
   "execution_count": 26,
   "id": "96f76885-c4ad-4637-95d8-482ede0b7783",
   "metadata": {},
   "outputs": [
    {
     "data": {
      "text/plain": [
       "20090"
      ]
     },
     "execution_count": 26,
     "metadata": {},
     "output_type": "execute_result"
    }
   ],
   "source": [
    "trips_freq_routes.trip_instance_key.nunique()"
   ]
  },
  {
   "cell_type": "code",
   "execution_count": 27,
   "id": "de16d0ca-cf32-4db0-8344-637da4136df2",
   "metadata": {},
   "outputs": [
    {
     "data": {
      "text/plain": [
       "(96398, 7)"
      ]
     },
     "execution_count": 27,
     "metadata": {},
     "output_type": "execute_result"
    }
   ],
   "source": [
    "trips.shape"
   ]
  },
  {
   "cell_type": "markdown",
   "id": "e3be8778-84ff-479f-a3b2-178e374da5f2",
   "metadata": {},
   "source": [
    "### `rt_stop_times2`: Get Stop Times of High Frequency Routes/Trips\n",
    "* What's the difference btwn `trip_id` and `trip_instance_key`?"
   ]
  },
  {
   "cell_type": "code",
   "execution_count": 28,
   "id": "3f6727c6-205f-4cc8-8a68-42e8dec6e4b3",
   "metadata": {},
   "outputs": [],
   "source": [
    "rt_stop_times = pd.read_parquet(\n",
    "    \"gs://calitp-analytics-data/data-analyses/rt_vs_schedule/schedule_rt_stop_times_2024-05-22.parquet\"\n",
    ")"
   ]
  },
  {
   "cell_type": "code",
   "execution_count": 29,
   "id": "cabd8f5a-9638-4299-a019-bb21bf56abae",
   "metadata": {},
   "outputs": [
    {
     "data": {
      "text/html": [
       "<div>\n",
       "<style scoped>\n",
       "    .dataframe tbody tr th:only-of-type {\n",
       "        vertical-align: middle;\n",
       "    }\n",
       "\n",
       "    .dataframe tbody tr th {\n",
       "        vertical-align: top;\n",
       "    }\n",
       "\n",
       "    .dataframe thead th {\n",
       "        text-align: right;\n",
       "    }\n",
       "</style>\n",
       "<table border=\"1\" class=\"dataframe\">\n",
       "  <thead>\n",
       "    <tr style=\"text-align: right;\">\n",
       "      <th></th>\n",
       "      <th>trip_id</th>\n",
       "      <th>stop_id</th>\n",
       "      <th>stop_sequence</th>\n",
       "      <th>scheduled_arrival_sec</th>\n",
       "      <th>schedule_gtfs_dataset_key</th>\n",
       "      <th>trip_instance_key</th>\n",
       "      <th>rt_arrival_sec</th>\n",
       "    </tr>\n",
       "  </thead>\n",
       "  <tbody>\n",
       "    <tr>\n",
       "      <th>0</th>\n",
       "      <td>1d105244-776c-4b3f-af78-9c7ad78c2103</td>\n",
       "      <td>0b2443b6-b50f-452b-a749-464588ca93b8</td>\n",
       "      <td>8</td>\n",
       "      <td>60991.00</td>\n",
       "      <td>1fd2f07342d966919b15d5d37fda8cc8</td>\n",
       "      <td>45ae17540ca9fb5030c84dbb12e48e9a</td>\n",
       "      <td>61434</td>\n",
       "    </tr>\n",
       "    <tr>\n",
       "      <th>1</th>\n",
       "      <td>1d105244-776c-4b3f-af78-9c7ad78c2103</td>\n",
       "      <td>cd5650b0-9a18-4e78-aedc-385f3094fa0f</td>\n",
       "      <td>9</td>\n",
       "      <td>61179.00</td>\n",
       "      <td>1fd2f07342d966919b15d5d37fda8cc8</td>\n",
       "      <td>45ae17540ca9fb5030c84dbb12e48e9a</td>\n",
       "      <td>61616</td>\n",
       "    </tr>\n",
       "  </tbody>\n",
       "</table>\n",
       "</div>"
      ],
      "text/plain": [
       "                                trip_id                               stop_id  \\\n",
       "0  1d105244-776c-4b3f-af78-9c7ad78c2103  0b2443b6-b50f-452b-a749-464588ca93b8   \n",
       "1  1d105244-776c-4b3f-af78-9c7ad78c2103  cd5650b0-9a18-4e78-aedc-385f3094fa0f   \n",
       "\n",
       "   stop_sequence  scheduled_arrival_sec         schedule_gtfs_dataset_key  \\\n",
       "0              8               60991.00  1fd2f07342d966919b15d5d37fda8cc8   \n",
       "1              9               61179.00  1fd2f07342d966919b15d5d37fda8cc8   \n",
       "\n",
       "                  trip_instance_key  rt_arrival_sec  \n",
       "0  45ae17540ca9fb5030c84dbb12e48e9a           61434  \n",
       "1  45ae17540ca9fb5030c84dbb12e48e9a           61616  "
      ]
     },
     "execution_count": 29,
     "metadata": {},
     "output_type": "execute_result"
    }
   ],
   "source": [
    "rt_stop_times.head(2)"
   ]
  },
  {
   "cell_type": "code",
   "execution_count": 30,
   "id": "4cac9095-c002-4b32-ae0c-bd061ee04453",
   "metadata": {},
   "outputs": [
    {
     "data": {
      "text/html": [
       "<div>\n",
       "<style scoped>\n",
       "    .dataframe tbody tr th:only-of-type {\n",
       "        vertical-align: middle;\n",
       "    }\n",
       "\n",
       "    .dataframe tbody tr th {\n",
       "        vertical-align: top;\n",
       "    }\n",
       "\n",
       "    .dataframe thead th {\n",
       "        text-align: right;\n",
       "    }\n",
       "</style>\n",
       "<table border=\"1\" class=\"dataframe\">\n",
       "  <thead>\n",
       "    <tr style=\"text-align: right;\">\n",
       "      <th></th>\n",
       "      <th>schedule_gtfs_dataset_key</th>\n",
       "      <th>route_id</th>\n",
       "      <th>trip_instance_key</th>\n",
       "      <th>shape_array_key</th>\n",
       "      <th>feed_key</th>\n",
       "      <th>route_long_name</th>\n",
       "      <th>direction_id</th>\n",
       "      <th>route_primary_direction</th>\n",
       "      <th>frequency_in_minutes</th>\n",
       "    </tr>\n",
       "  </thead>\n",
       "  <tbody>\n",
       "    <tr>\n",
       "      <th>0</th>\n",
       "      <td>cc53a0dbf5df90e3009b9cb5d89d80ba</td>\n",
       "      <td>4869</td>\n",
       "      <td>cd1d4fc457d3a3fff6e77e47336bbc98</td>\n",
       "      <td>7fca7ce64e1b773776b91ec1cf82c9ea</td>\n",
       "      <td>2cfdf0e33e9229d6b0ad124d956f5856</td>\n",
       "      <td>DASH Pico Union/Echo Park</td>\n",
       "      <td>0.00</td>\n",
       "      <td>Northbound</td>\n",
       "      <td>16.67</td>\n",
       "    </tr>\n",
       "    <tr>\n",
       "      <th>1</th>\n",
       "      <td>cc53a0dbf5df90e3009b9cb5d89d80ba</td>\n",
       "      <td>4869</td>\n",
       "      <td>180a069ab3aefcf8f3317a788b32c288</td>\n",
       "      <td>7fca7ce64e1b773776b91ec1cf82c9ea</td>\n",
       "      <td>2cfdf0e33e9229d6b0ad124d956f5856</td>\n",
       "      <td>DASH Pico Union/Echo Park</td>\n",
       "      <td>0.00</td>\n",
       "      <td>Northbound</td>\n",
       "      <td>16.67</td>\n",
       "    </tr>\n",
       "  </tbody>\n",
       "</table>\n",
       "</div>"
      ],
      "text/plain": [
       "          schedule_gtfs_dataset_key route_id  \\\n",
       "0  cc53a0dbf5df90e3009b9cb5d89d80ba     4869   \n",
       "1  cc53a0dbf5df90e3009b9cb5d89d80ba     4869   \n",
       "\n",
       "                  trip_instance_key                   shape_array_key  \\\n",
       "0  cd1d4fc457d3a3fff6e77e47336bbc98  7fca7ce64e1b773776b91ec1cf82c9ea   \n",
       "1  180a069ab3aefcf8f3317a788b32c288  7fca7ce64e1b773776b91ec1cf82c9ea   \n",
       "\n",
       "                           feed_key            route_long_name  direction_id  \\\n",
       "0  2cfdf0e33e9229d6b0ad124d956f5856  DASH Pico Union/Echo Park          0.00   \n",
       "1  2cfdf0e33e9229d6b0ad124d956f5856  DASH Pico Union/Echo Park          0.00   \n",
       "\n",
       "  route_primary_direction  frequency_in_minutes  \n",
       "0              Northbound                 16.67  \n",
       "1              Northbound                 16.67  "
      ]
     },
     "execution_count": 30,
     "metadata": {},
     "output_type": "execute_result"
    }
   ],
   "source": [
    "trips_freq_routes.head(2)"
   ]
  },
  {
   "cell_type": "code",
   "execution_count": 31,
   "id": "049a2833-f132-431a-8f44-92f31cd11d8a",
   "metadata": {},
   "outputs": [],
   "source": [
    "# Find only stop times of trips that belong to high frequency trips\n",
    "rt_stop_times2 = pd.merge(\n",
    "    rt_stop_times,\n",
    "    trips_freq_routes,\n",
    "    on=[\n",
    "        \"schedule_gtfs_dataset_key\",\n",
    "        \"trip_instance_key\",\n",
    "    ],\n",
    "    how=\"inner\",\n",
    ")"
   ]
  },
  {
   "cell_type": "code",
   "execution_count": 32,
   "id": "a4ebc7fa-19b9-480b-8b39-d9ef20fd9037",
   "metadata": {},
   "outputs": [
    {
     "data": {
      "text/plain": [
       "1903905"
      ]
     },
     "execution_count": 32,
     "metadata": {},
     "output_type": "execute_result"
    }
   ],
   "source": [
    "len(rt_stop_times) - len(rt_stop_times2)"
   ]
  },
  {
   "cell_type": "code",
   "execution_count": 33,
   "id": "d1abbbd0-0cee-4f03-a4bb-497209a62498",
   "metadata": {},
   "outputs": [
    {
     "data": {
      "text/plain": [
       "(697357, 14)"
      ]
     },
     "execution_count": 33,
     "metadata": {},
     "output_type": "execute_result"
    }
   ],
   "source": [
    "rt_stop_times2.shape"
   ]
  },
  {
   "cell_type": "code",
   "execution_count": 34,
   "id": "6464ea15-574a-4976-a41f-26440f7ca1ed",
   "metadata": {},
   "outputs": [
    {
     "data": {
      "text/plain": [
       "(17213, 17213)"
      ]
     },
     "execution_count": 34,
     "metadata": {},
     "output_type": "execute_result"
    }
   ],
   "source": [
    "rt_stop_times2.trip_id.nunique(), rt_stop_times2.trip_instance_key.nunique()"
   ]
  },
  {
   "cell_type": "markdown",
   "id": "8845ee2a-5878-417f-94d1-de21a3c56261",
   "metadata": {},
   "source": [
    "###  `rt_stop_times3`: Some scheduled arrival seconds span longer than a day: filter them out\n",
    "* There are 86,400 seconds in a day"
   ]
  },
  {
   "cell_type": "code",
   "execution_count": 35,
   "id": "269116cd-242f-4834-a2fa-08f4ae94f14d",
   "metadata": {},
   "outputs": [
    {
     "data": {
      "text/plain": [
       "count   697357.00\n",
       "mean     50526.22\n",
       "std      19329.72\n",
       "min       9420.00\n",
       "25%      34320.00\n",
       "50%      49740.00\n",
       "75%      64380.00\n",
       "max     108431.00\n",
       "Name: scheduled_arrival_sec, dtype: float64"
      ]
     },
     "execution_count": 35,
     "metadata": {},
     "output_type": "execute_result"
    }
   ],
   "source": [
    "rt_stop_times2.scheduled_arrival_sec.describe()"
   ]
  },
  {
   "cell_type": "code",
   "execution_count": 37,
   "id": "daae9784-aa88-4dd7-b2dd-56a0743aa1b7",
   "metadata": {},
   "outputs": [],
   "source": [
    "rt_stop_times3 = rt_stop_times2.loc[\n",
    "    rt_stop_times2.scheduled_arrival_sec < 86400\n",
    "].reset_index(drop=True)"
   ]
  },
  {
   "cell_type": "code",
   "execution_count": 39,
   "id": "ca2165ab-8553-4874-a774-de7f52ac2028",
   "metadata": {},
   "outputs": [
    {
     "data": {
      "text/plain": [
       "27611"
      ]
     },
     "execution_count": 39,
     "metadata": {},
     "output_type": "execute_result"
    }
   ],
   "source": [
    "len(rt_stop_times2) - len(rt_stop_times3)"
   ]
  },
  {
   "cell_type": "code",
   "execution_count": 43,
   "id": "9b1cedf5-c7e5-4a17-a0f8-cdd1d121da34",
   "metadata": {},
   "outputs": [
    {
     "data": {
      "text/plain": [
       "1931516"
      ]
     },
     "execution_count": 43,
     "metadata": {},
     "output_type": "execute_result"
    }
   ],
   "source": [
    "len(rt_stop_times) - len(rt_stop_times3)"
   ]
  },
  {
   "cell_type": "code",
   "execution_count": 40,
   "id": "3fbcd8f2-d394-4d03-b183-edb28f3638b7",
   "metadata": {},
   "outputs": [
    {
     "data": {
      "text/plain": [
       "count   669746.00\n",
       "mean     48760.53\n",
       "std      17580.67\n",
       "min       9420.00\n",
       "25%      33720.00\n",
       "50%      48540.00\n",
       "75%      62640.00\n",
       "max      86399.00\n",
       "Name: scheduled_arrival_sec, dtype: float64"
      ]
     },
     "execution_count": 40,
     "metadata": {},
     "output_type": "execute_result"
    }
   ],
   "source": [
    "rt_stop_times3.scheduled_arrival_sec.describe()"
   ]
  },
  {
   "cell_type": "code",
   "execution_count": 41,
   "id": "69002d94-5d7c-42b5-a465-c710ec7d678f",
   "metadata": {},
   "outputs": [
    {
     "data": {
      "text/plain": [
       "count   669746.00\n",
       "mean     48828.92\n",
       "std      17647.56\n",
       "min          0.00\n",
       "25%      33814.00\n",
       "50%      48581.00\n",
       "75%      62840.00\n",
       "max      86399.00\n",
       "Name: rt_arrival_sec, dtype: float64"
      ]
     },
     "execution_count": 41,
     "metadata": {},
     "output_type": "execute_result"
    }
   ],
   "source": [
    "rt_stop_times3.rt_arrival_sec.describe()"
   ]
  },
  {
   "cell_type": "markdown",
   "id": "b15440a8-298b-4943-bf59-bc79e9977c3a",
   "metadata": {},
   "source": [
    "### `rt_stop_times4`: Sort so `stop sequence` for the `operator-stop_id-route-id_direction_id` will be in order.\n",
    "* Comparing bunching by STOP, so we have to look at the `stop sequence-stop_id.`"
   ]
  },
  {
   "cell_type": "code",
   "execution_count": 44,
   "id": "00c66387-deef-466b-97c6-41851c601f2d",
   "metadata": {},
   "outputs": [
    {
     "data": {
      "text/html": [
       "<div>\n",
       "<style scoped>\n",
       "    .dataframe tbody tr th:only-of-type {\n",
       "        vertical-align: middle;\n",
       "    }\n",
       "\n",
       "    .dataframe tbody tr th {\n",
       "        vertical-align: top;\n",
       "    }\n",
       "\n",
       "    .dataframe thead th {\n",
       "        text-align: right;\n",
       "    }\n",
       "</style>\n",
       "<table border=\"1\" class=\"dataframe\">\n",
       "  <thead>\n",
       "    <tr style=\"text-align: right;\">\n",
       "      <th></th>\n",
       "      <th>trip_id</th>\n",
       "      <th>stop_id</th>\n",
       "      <th>stop_sequence</th>\n",
       "      <th>scheduled_arrival_sec</th>\n",
       "      <th>schedule_gtfs_dataset_key</th>\n",
       "      <th>trip_instance_key</th>\n",
       "      <th>rt_arrival_sec</th>\n",
       "      <th>route_id</th>\n",
       "      <th>shape_array_key</th>\n",
       "      <th>feed_key</th>\n",
       "      <th>route_long_name</th>\n",
       "      <th>direction_id</th>\n",
       "      <th>route_primary_direction</th>\n",
       "      <th>frequency_in_minutes</th>\n",
       "    </tr>\n",
       "  </thead>\n",
       "  <tbody>\n",
       "    <tr>\n",
       "      <th>0</th>\n",
       "      <td>922552</td>\n",
       "      <td>258</td>\n",
       "      <td>2</td>\n",
       "      <td>61249.00</td>\n",
       "      <td>efbbd5293be71f7a5de0cf82b59febe1</td>\n",
       "      <td>50617e0d3c1bbedd9803836728767a69</td>\n",
       "      <td>61995</td>\n",
       "      <td>3730</td>\n",
       "      <td>e10d20177f6b29f7d2de52645301f18f</td>\n",
       "      <td>0e75eaae4dc791180f05782fa8825254</td>\n",
       "      <td>Main St &amp; Santa Monica Blvd/UCLA</td>\n",
       "      <td>1.00</td>\n",
       "      <td>Southbound</td>\n",
       "      <td>16.08</td>\n",
       "    </tr>\n",
       "  </tbody>\n",
       "</table>\n",
       "</div>"
      ],
      "text/plain": [
       "  trip_id stop_id  stop_sequence  scheduled_arrival_sec  \\\n",
       "0  922552     258              2               61249.00   \n",
       "\n",
       "          schedule_gtfs_dataset_key                 trip_instance_key  \\\n",
       "0  efbbd5293be71f7a5de0cf82b59febe1  50617e0d3c1bbedd9803836728767a69   \n",
       "\n",
       "   rt_arrival_sec route_id                   shape_array_key  \\\n",
       "0           61995     3730  e10d20177f6b29f7d2de52645301f18f   \n",
       "\n",
       "                           feed_key                   route_long_name  \\\n",
       "0  0e75eaae4dc791180f05782fa8825254  Main St & Santa Monica Blvd/UCLA   \n",
       "\n",
       "   direction_id route_primary_direction  frequency_in_minutes  \n",
       "0          1.00              Southbound                 16.08  "
      ]
     },
     "execution_count": 44,
     "metadata": {},
     "output_type": "execute_result"
    }
   ],
   "source": [
    "rt_stop_times3.head(1)"
   ]
  },
  {
   "cell_type": "code",
   "execution_count": 45,
   "id": "0ef36e93-79ed-4f86-b16a-9d28d90aea1a",
   "metadata": {},
   "outputs": [],
   "source": [
    "# Rearrange: I want the stop sequence to be 1,2,3,4.\n",
    "# stop ids can differ between trips of the same route and the same stop sequence is the same\n",
    "rt_stop_times4 = rt_stop_times3.sort_values(\n",
    "    by=[\n",
    "        \"schedule_gtfs_dataset_key\",\n",
    "        \"route_id\",\n",
    "        \"shape_array_key\",\n",
    "        \"direction_id\",\n",
    "        \"stop_sequence\",\n",
    "        \"scheduled_arrival_sec\",\n",
    "    ]\n",
    ").reset_index(drop=True)"
   ]
  },
  {
   "cell_type": "code",
   "execution_count": 46,
   "id": "34428686-98f8-40e4-b181-13e255931f3d",
   "metadata": {},
   "outputs": [],
   "source": [
    "fillmore_stop_seq_13 = rt_stop_times4.loc[\n",
    "    (rt_stop_times4.shape_array_key == \"1b678a66d0009c55bc573cfc37aa1029\")\n",
    "    & (rt_stop_times4.stop_id == \"13086\")\n",
    "    & (rt_stop_times4.direction_id == 0)\n",
    "]"
   ]
  },
  {
   "cell_type": "markdown",
   "id": "8a83b6e8-fbab-4ce2-b91e-bf32890bda18",
   "metadata": {},
   "source": [
    "### Calculate the difference btwn actual vs scheduled arrival."
   ]
  },
  {
   "cell_type": "code",
   "execution_count": 49,
   "id": "dcb53dcc-95e1-41fc-961b-da222c6e4580",
   "metadata": {},
   "outputs": [],
   "source": [
    "def check_delay(df):\n",
    "    df = df.assign(delay=df.rt_arrival_sec - df.scheduled_arrival_sec)\n",
    "\n",
    "    print(df.delay.describe(percentiles=[0.05, 0.1, 0.9, 0.95]))\n",
    "\n",
    "    max_delay_min = df.delay.max() / 60\n",
    "    p95_delay_min = df.delay.quantile(q=0.95) / 60\n",
    "\n",
    "    min_delay_min = df.delay.min() / 60\n",
    "    p5_delay_min = df.delay.quantile(q=0.05) / 60\n",
    "\n",
    "    print(f\"min / max delay (minutes): {min_delay_min}, {max_delay_min}\")\n",
    "    print(f\"5th / 95th delay (minutes): {p5_delay_min}, {p95_delay_min}\")\n",
    "\n",
    "    return df"
   ]
  },
  {
   "cell_type": "code",
   "execution_count": 50,
   "id": "e6c251c4-a7e9-475e-8f58-9ce98f2016b8",
   "metadata": {},
   "outputs": [
    {
     "name": "stdout",
     "output_type": "stream",
     "text": [
      "count   669746.00\n",
      "mean        68.40\n",
      "std       2841.12\n",
      "min     -86381.00\n",
      "5%        -167.00\n",
      "10%       -107.00\n",
      "50%         89.00\n",
      "90%        515.00\n",
      "95%        719.00\n",
      "max      57878.00\n",
      "Name: delay, dtype: float64\n",
      "min / max delay (minutes): -1439.6833333333334, 964.6333333333333\n",
      "5th / 95th delay (minutes): -2.783333333333333, 11.983333333333333\n"
     ]
    }
   ],
   "source": [
    "rt_stop_times4 = check_delay(rt_stop_times4)"
   ]
  },
  {
   "cell_type": "markdown",
   "id": "bc8f529b-afee-4d3c-993f-b8ff5dcdb8de",
   "metadata": {},
   "source": [
    "#### `rt_stop_times5`: Filter out values in `delay` that are in the 1 hour zone\n",
    "* Actual times should not exceed more than an hour or less than hour."
   ]
  },
  {
   "cell_type": "code",
   "execution_count": 51,
   "id": "bbd1cbc3-9762-44b8-a564-c33e57879d10",
   "metadata": {},
   "outputs": [],
   "source": [
    "# Filter to only delays that are an hour or less\n",
    "rt_stop_times5 = rt_stop_times4[rt_stop_times4[\"delay\"] <= 60 * 60].reset_index(\n",
    "    drop=True\n",
    ")"
   ]
  },
  {
   "cell_type": "code",
   "execution_count": 52,
   "id": "9c19be36-0e5b-428d-bc4f-da52821208f4",
   "metadata": {},
   "outputs": [],
   "source": [
    "# Filter to only delays that are no less than\n",
    "rt_stop_times5 = rt_stop_times5[rt_stop_times5[\"delay\"] >= -3600].reset_index(drop=True)"
   ]
  },
  {
   "cell_type": "code",
   "execution_count": 53,
   "id": "813c65e5-8ee6-4896-82d7-c3e6dec8a92f",
   "metadata": {},
   "outputs": [
    {
     "data": {
      "text/plain": [
       "1100"
      ]
     },
     "execution_count": 53,
     "metadata": {},
     "output_type": "execute_result"
    }
   ],
   "source": [
    "len(rt_stop_times4) - len(rt_stop_times5)"
   ]
  },
  {
   "cell_type": "code",
   "execution_count": 54,
   "id": "5d44f2e7-c2ea-472b-9c9b-e53bb69e446c",
   "metadata": {},
   "outputs": [
    {
     "data": {
      "text/plain": [
       "1932616"
      ]
     },
     "execution_count": 54,
     "metadata": {},
     "output_type": "execute_result"
    }
   ],
   "source": [
    "len(rt_stop_times) - len(rt_stop_times5)"
   ]
  },
  {
   "cell_type": "markdown",
   "id": "81bd753a-08ee-4d09-ac79-213e1e605405",
   "metadata": {},
   "source": [
    "### Calculate the actual headway the `operator-route-direction_id-stop_sequence-stop_id-` grain\n",
    "* Do I need to include feed key and shape array key?"
   ]
  },
  {
   "cell_type": "code",
   "execution_count": 60,
   "id": "b9171520-7358-4f22-9d9c-c5156e710f1b",
   "metadata": {},
   "outputs": [],
   "source": [
    "groupby_cols = [\n",
    "    \"schedule_gtfs_dataset_key\",\n",
    "    \n",
    "    \"route_id\",\n",
    "    \"shape_array_key\",\n",
    "    \"direction_id\",\n",
    "    \"route_primary_direction\",\n",
    "    \"stop_sequence\",\n",
    "    \"stop_id\",\n",
    "]"
   ]
  },
  {
   "cell_type": "code",
   "execution_count": 57,
   "id": "f5b62023-ab77-4634-a526-3d822bb7a63f",
   "metadata": {},
   "outputs": [],
   "source": [
    "# Subtract rt_arrival_sec from the previous row to the target row\n",
    "# using groupby columns\n",
    "rt_stop_times5[\"actual_headway\"] = rt_stop_times5.groupby(groupby_cols)[\n",
    "    \"rt_arrival_sec\"\n",
    "].diff()"
   ]
  },
  {
   "cell_type": "markdown",
   "id": "0c9377cb-cb25-43da-9f3b-752a8107b6b7",
   "metadata": {},
   "source": [
    "### Calculate scheduled headway\n",
    "* Using the same grain."
   ]
  },
  {
   "cell_type": "code",
   "execution_count": 58,
   "id": "6328c5fb-205e-4a78-a3d3-62fafa88a4cd",
   "metadata": {},
   "outputs": [],
   "source": [
    "rt_stop_times5[\"schd_headway\"] = rt_stop_times5.groupby(groupby_cols)[\n",
    "    \"scheduled_arrival_sec\"\n",
    "].diff()"
   ]
  },
  {
   "cell_type": "code",
   "execution_count": 61,
   "id": "b7da74af-42e0-463f-852b-e22877574a7b",
   "metadata": {},
   "outputs": [
    {
     "data": {
      "text/html": [
       "<div>\n",
       "<style scoped>\n",
       "    .dataframe tbody tr th:only-of-type {\n",
       "        vertical-align: middle;\n",
       "    }\n",
       "\n",
       "    .dataframe tbody tr th {\n",
       "        vertical-align: top;\n",
       "    }\n",
       "\n",
       "    .dataframe thead th {\n",
       "        text-align: right;\n",
       "    }\n",
       "</style>\n",
       "<table border=\"1\" class=\"dataframe\">\n",
       "  <thead>\n",
       "    <tr style=\"text-align: right;\">\n",
       "      <th></th>\n",
       "      <th>stop_id</th>\n",
       "      <th>stop_sequence</th>\n",
       "      <th>scheduled_arrival_sec</th>\n",
       "      <th>rt_arrival_sec</th>\n",
       "      <th>route_id</th>\n",
       "      <th>route_long_name</th>\n",
       "      <th>direction_id</th>\n",
       "      <th>route_primary_direction</th>\n",
       "      <th>frequency_in_minutes</th>\n",
       "      <th>delay</th>\n",
       "      <th>actual_headway</th>\n",
       "      <th>schd_headway</th>\n",
       "    </tr>\n",
       "  </thead>\n",
       "  <tbody>\n",
       "    <tr>\n",
       "      <th>0</th>\n",
       "      <td>14261</td>\n",
       "      <td>2</td>\n",
       "      <td>14400.00</td>\n",
       "      <td>14421</td>\n",
       "      <td>105-13172</td>\n",
       "      <td>Metro Local Line</td>\n",
       "      <td>1.00</td>\n",
       "      <td>Eastbound</td>\n",
       "      <td>14.43</td>\n",
       "      <td>21.00</td>\n",
       "      <td>NaN</td>\n",
       "      <td>NaN</td>\n",
       "    </tr>\n",
       "    <tr>\n",
       "      <th>10</th>\n",
       "      <td>14289</td>\n",
       "      <td>3</td>\n",
       "      <td>14460.00</td>\n",
       "      <td>14455</td>\n",
       "      <td>105-13172</td>\n",
       "      <td>Metro Local Line</td>\n",
       "      <td>1.00</td>\n",
       "      <td>Eastbound</td>\n",
       "      <td>14.43</td>\n",
       "      <td>-5.00</td>\n",
       "      <td>NaN</td>\n",
       "      <td>NaN</td>\n",
       "    </tr>\n",
       "    <tr>\n",
       "      <th>20</th>\n",
       "      <td>10997</td>\n",
       "      <td>4</td>\n",
       "      <td>14520.00</td>\n",
       "      <td>14492</td>\n",
       "      <td>105-13172</td>\n",
       "      <td>Metro Local Line</td>\n",
       "      <td>1.00</td>\n",
       "      <td>Eastbound</td>\n",
       "      <td>14.43</td>\n",
       "      <td>-28.00</td>\n",
       "      <td>NaN</td>\n",
       "      <td>NaN</td>\n",
       "    </tr>\n",
       "    <tr>\n",
       "      <th>30</th>\n",
       "      <td>10998</td>\n",
       "      <td>5</td>\n",
       "      <td>14580.00</td>\n",
       "      <td>14531</td>\n",
       "      <td>105-13172</td>\n",
       "      <td>Metro Local Line</td>\n",
       "      <td>1.00</td>\n",
       "      <td>Eastbound</td>\n",
       "      <td>14.43</td>\n",
       "      <td>-49.00</td>\n",
       "      <td>NaN</td>\n",
       "      <td>NaN</td>\n",
       "    </tr>\n",
       "    <tr>\n",
       "      <th>40</th>\n",
       "      <td>12150</td>\n",
       "      <td>6</td>\n",
       "      <td>14640.00</td>\n",
       "      <td>14581</td>\n",
       "      <td>105-13172</td>\n",
       "      <td>Metro Local Line</td>\n",
       "      <td>1.00</td>\n",
       "      <td>Eastbound</td>\n",
       "      <td>14.43</td>\n",
       "      <td>-59.00</td>\n",
       "      <td>NaN</td>\n",
       "      <td>NaN</td>\n",
       "    </tr>\n",
       "    <tr>\n",
       "      <th>50</th>\n",
       "      <td>12151</td>\n",
       "      <td>7</td>\n",
       "      <td>14700.00</td>\n",
       "      <td>14606</td>\n",
       "      <td>105-13172</td>\n",
       "      <td>Metro Local Line</td>\n",
       "      <td>1.00</td>\n",
       "      <td>Eastbound</td>\n",
       "      <td>14.43</td>\n",
       "      <td>-94.00</td>\n",
       "      <td>NaN</td>\n",
       "      <td>NaN</td>\n",
       "    </tr>\n",
       "    <tr>\n",
       "      <th>60</th>\n",
       "      <td>12148</td>\n",
       "      <td>8</td>\n",
       "      <td>14760.00</td>\n",
       "      <td>14650</td>\n",
       "      <td>105-13172</td>\n",
       "      <td>Metro Local Line</td>\n",
       "      <td>1.00</td>\n",
       "      <td>Eastbound</td>\n",
       "      <td>14.43</td>\n",
       "      <td>-110.00</td>\n",
       "      <td>NaN</td>\n",
       "      <td>NaN</td>\n",
       "    </tr>\n",
       "    <tr>\n",
       "      <th>70</th>\n",
       "      <td>12149</td>\n",
       "      <td>9</td>\n",
       "      <td>14760.00</td>\n",
       "      <td>14666</td>\n",
       "      <td>105-13172</td>\n",
       "      <td>Metro Local Line</td>\n",
       "      <td>1.00</td>\n",
       "      <td>Eastbound</td>\n",
       "      <td>14.43</td>\n",
       "      <td>-94.00</td>\n",
       "      <td>NaN</td>\n",
       "      <td>NaN</td>\n",
       "    </tr>\n",
       "    <tr>\n",
       "      <th>80</th>\n",
       "      <td>12146</td>\n",
       "      <td>10</td>\n",
       "      <td>14820.00</td>\n",
       "      <td>14699</td>\n",
       "      <td>105-13172</td>\n",
       "      <td>Metro Local Line</td>\n",
       "      <td>1.00</td>\n",
       "      <td>Eastbound</td>\n",
       "      <td>14.43</td>\n",
       "      <td>-121.00</td>\n",
       "      <td>NaN</td>\n",
       "      <td>NaN</td>\n",
       "    </tr>\n",
       "    <tr>\n",
       "      <th>90</th>\n",
       "      <td>70500002</td>\n",
       "      <td>11</td>\n",
       "      <td>14880.00</td>\n",
       "      <td>14742</td>\n",
       "      <td>105-13172</td>\n",
       "      <td>Metro Local Line</td>\n",
       "      <td>1.00</td>\n",
       "      <td>Eastbound</td>\n",
       "      <td>14.43</td>\n",
       "      <td>-138.00</td>\n",
       "      <td>NaN</td>\n",
       "      <td>NaN</td>\n",
       "    </tr>\n",
       "  </tbody>\n",
       "</table>\n",
       "</div>"
      ],
      "text/plain": [
       "     stop_id  stop_sequence  scheduled_arrival_sec  rt_arrival_sec   route_id  \\\n",
       "0      14261              2               14400.00           14421  105-13172   \n",
       "10     14289              3               14460.00           14455  105-13172   \n",
       "20     10997              4               14520.00           14492  105-13172   \n",
       "30     10998              5               14580.00           14531  105-13172   \n",
       "40     12150              6               14640.00           14581  105-13172   \n",
       "50     12151              7               14700.00           14606  105-13172   \n",
       "60     12148              8               14760.00           14650  105-13172   \n",
       "70     12149              9               14760.00           14666  105-13172   \n",
       "80     12146             10               14820.00           14699  105-13172   \n",
       "90  70500002             11               14880.00           14742  105-13172   \n",
       "\n",
       "     route_long_name  direction_id route_primary_direction  \\\n",
       "0   Metro Local Line          1.00               Eastbound   \n",
       "10  Metro Local Line          1.00               Eastbound   \n",
       "20  Metro Local Line          1.00               Eastbound   \n",
       "30  Metro Local Line          1.00               Eastbound   \n",
       "40  Metro Local Line          1.00               Eastbound   \n",
       "50  Metro Local Line          1.00               Eastbound   \n",
       "60  Metro Local Line          1.00               Eastbound   \n",
       "70  Metro Local Line          1.00               Eastbound   \n",
       "80  Metro Local Line          1.00               Eastbound   \n",
       "90  Metro Local Line          1.00               Eastbound   \n",
       "\n",
       "    frequency_in_minutes   delay  actual_headway  schd_headway  \n",
       "0                  14.43   21.00             NaN           NaN  \n",
       "10                 14.43   -5.00             NaN           NaN  \n",
       "20                 14.43  -28.00             NaN           NaN  \n",
       "30                 14.43  -49.00             NaN           NaN  \n",
       "40                 14.43  -59.00             NaN           NaN  \n",
       "50                 14.43  -94.00             NaN           NaN  \n",
       "60                 14.43 -110.00             NaN           NaN  \n",
       "70                 14.43  -94.00             NaN           NaN  \n",
       "80                 14.43 -121.00             NaN           NaN  \n",
       "90                 14.43 -138.00             NaN           NaN  "
      ]
     },
     "execution_count": 61,
     "metadata": {},
     "output_type": "execute_result"
    }
   ],
   "source": [
    "rt_stop_times5.loc[rt_stop_times5.actual_headway.isna()].head(10).drop(\n",
    "    columns=drop_for_preview\n",
    ")"
   ]
  },
  {
   "cell_type": "markdown",
   "id": "8a5f6f72-d463-4076-80ce-d22ab1f718b1",
   "metadata": {},
   "source": [
    "### Delete out rows that are `nan`??\n",
    "* I am not sure if `nans` impact calculations of the mean scheduled headway and whatnot?\n",
    "* These `nans` are becuase the first `operator-route-stop_id-stop_sequence` combo won't have anything to compare it to."
   ]
  },
  {
   "cell_type": "code",
   "execution_count": 64,
   "id": "cd2ec7a7-f0be-4575-9b55-d9f229a26ca1",
   "metadata": {},
   "outputs": [
    {
     "name": "stdout",
     "output_type": "stream",
     "text": [
      "<class 'pandas.core.frame.DataFrame'>\n",
      "RangeIndex: 668646 entries, 0 to 668645\n",
      "Data columns (total 17 columns):\n",
      " #   Column                     Non-Null Count   Dtype  \n",
      "---  ------                     --------------   -----  \n",
      " 0   trip_id                    668646 non-null  object \n",
      " 1   stop_id                    668646 non-null  object \n",
      " 2   stop_sequence              668646 non-null  int64  \n",
      " 3   scheduled_arrival_sec      668646 non-null  float64\n",
      " 4   schedule_gtfs_dataset_key  668646 non-null  object \n",
      " 5   trip_instance_key          668646 non-null  object \n",
      " 6   rt_arrival_sec             668646 non-null  int64  \n",
      " 7   route_id                   668646 non-null  object \n",
      " 8   shape_array_key            668646 non-null  object \n",
      " 9   feed_key                   668646 non-null  object \n",
      " 10  route_long_name            668646 non-null  object \n",
      " 11  direction_id               668646 non-null  float64\n",
      " 12  route_primary_direction    668646 non-null  object \n",
      " 13  frequency_in_minutes       668646 non-null  float64\n",
      " 14  delay                      668646 non-null  float64\n",
      " 15  actual_headway             647207 non-null  float64\n",
      " 16  schd_headway               647207 non-null  float64\n",
      "dtypes: float64(6), int64(2), object(9)\n",
      "memory usage: 86.7+ MB\n"
     ]
    }
   ],
   "source": [
    "rt_stop_times5.info()"
   ]
  },
  {
   "cell_type": "markdown",
   "id": "e16aa0ce-32dc-41ae-9c24-baacf95c2faf",
   "metadata": {},
   "source": [
    "### `rt_stop_times6`: Delete out the rows in which `actual_headway` and `schd_headway` are `nan`: this is basically the first row of each grain"
   ]
  },
  {
   "cell_type": "code",
   "execution_count": 65,
   "id": "2c3a4e87-e6f5-46d3-bce8-ad998c9343d7",
   "metadata": {},
   "outputs": [],
   "source": [
    "rt_stop_times6 = rt_stop_times5.loc[~rt_stop_times5.actual_headway.isna()]"
   ]
  },
  {
   "cell_type": "code",
   "execution_count": 66,
   "id": "588f17d2-5ffb-4bac-b2a1-d96ce2f6d9d9",
   "metadata": {},
   "outputs": [],
   "source": [
    "rt_stop_times6 = rt_stop_times6.loc[~rt_stop_times5.schd_headway.isna()].reset_index(\n",
    "    drop=True\n",
    ")"
   ]
  },
  {
   "cell_type": "code",
   "execution_count": 67,
   "id": "194fd116-fecf-4a68-a658-7bfc9fd351ce",
   "metadata": {},
   "outputs": [
    {
     "data": {
      "text/plain": [
       "21439"
      ]
     },
     "execution_count": 67,
     "metadata": {},
     "output_type": "execute_result"
    }
   ],
   "source": [
    "len(rt_stop_times5) - len(rt_stop_times6)"
   ]
  },
  {
   "cell_type": "code",
   "execution_count": 70,
   "id": "7bfa3fb8-2087-4e10-b4ec-c98ea48630d6",
   "metadata": {},
   "outputs": [
    {
     "data": {
      "text/plain": [
       "1954055"
      ]
     },
     "execution_count": 70,
     "metadata": {},
     "output_type": "execute_result"
    }
   ],
   "source": [
    "len(rt_stop_times) - len(rt_stop_times6)"
   ]
  },
  {
   "cell_type": "code",
   "execution_count": 68,
   "id": "d769cda1-f7bd-415c-8a78-7c3e1b6519d7",
   "metadata": {},
   "outputs": [
    {
     "data": {
      "text/plain": [
       "(647207, 17)"
      ]
     },
     "execution_count": 68,
     "metadata": {},
     "output_type": "execute_result"
    }
   ],
   "source": [
    "rt_stop_times6.shape"
   ]
  },
  {
   "cell_type": "code",
   "execution_count": 69,
   "id": "5effbfaa-be6b-41ea-bdd7-4408248f9331",
   "metadata": {},
   "outputs": [
    {
     "data": {
      "text/plain": [
       "(2601262, 7)"
      ]
     },
     "execution_count": 69,
     "metadata": {},
     "output_type": "execute_result"
    }
   ],
   "source": [
    "rt_stop_times.shape"
   ]
  },
  {
   "cell_type": "markdown",
   "id": "9b940ef3-76e6-40a0-bea5-91391827ad99",
   "metadata": {},
   "source": [
    "### Use Coefficient\n",
    "* Find the mean scheduled headway for the `operator-route-direction_id-stop_sequence-stop_id-` grain"
   ]
  },
  {
   "cell_type": "code",
   "execution_count": 71,
   "id": "a1a2713d-bb47-4762-9617-ad090dc2d964",
   "metadata": {},
   "outputs": [],
   "source": [
    "agg1 = (\n",
    "    rt_stop_times6.groupby(groupby_cols)\n",
    "    .agg({\"schd_headway\": \"mean\"})\n",
    "    .reset_index()\n",
    "    .rename(columns={\"schd_headway\": \"avg_schd_headway_sec\"})\n",
    ")"
   ]
  },
  {
   "cell_type": "code",
   "execution_count": 72,
   "id": "dcaadfa9-2e8e-4164-9ef1-a007ef53e522",
   "metadata": {},
   "outputs": [
    {
     "name": "stdout",
     "output_type": "stream",
     "text": [
      "<class 'pandas.core.frame.DataFrame'>\n",
      "RangeIndex: 19260 entries, 0 to 19259\n",
      "Data columns (total 8 columns):\n",
      " #   Column                     Non-Null Count  Dtype  \n",
      "---  ------                     --------------  -----  \n",
      " 0   schedule_gtfs_dataset_key  19260 non-null  object \n",
      " 1   route_id                   19260 non-null  object \n",
      " 2   shape_array_key            19260 non-null  object \n",
      " 3   direction_id               19260 non-null  float64\n",
      " 4   route_primary_direction    19260 non-null  object \n",
      " 5   stop_sequence              19260 non-null  int64  \n",
      " 6   stop_id                    19260 non-null  object \n",
      " 7   avg_schd_headway_sec       19260 non-null  float64\n",
      "dtypes: float64(2), int64(1), object(5)\n",
      "memory usage: 1.2+ MB\n"
     ]
    }
   ],
   "source": [
    "agg1.info()"
   ]
  },
  {
   "cell_type": "markdown",
   "id": "ca901a25-4d12-4b06-8c3b-50cfc9f41be0",
   "metadata": {},
   "source": [
    "#### Merge "
   ]
  },
  {
   "cell_type": "code",
   "execution_count": 73,
   "id": "9c0f62d9-a794-4223-8b1a-ac14ae48e51f",
   "metadata": {},
   "outputs": [],
   "source": [
    "m1 = pd.merge(\n",
    "    rt_stop_times6,\n",
    "    agg1,\n",
    "    on=groupby_cols,\n",
    ")"
   ]
  },
  {
   "cell_type": "code",
   "execution_count": 74,
   "id": "750f9b60-d0ab-43e3-8b0c-8cf0089b3f30",
   "metadata": {},
   "outputs": [
    {
     "data": {
      "text/plain": [
       "0"
      ]
     },
     "execution_count": 74,
     "metadata": {},
     "output_type": "execute_result"
    }
   ],
   "source": [
    "# Make sure the lengths make sense\n",
    "len(rt_stop_times6) - len(m1)"
   ]
  },
  {
   "cell_type": "markdown",
   "id": "77370f93-20e5-4498-8e4d-e7495fd52cfa",
   "metadata": {},
   "source": [
    "#### Find standard deviation: how far the actual headway is from the mean scheduled headway for the same grain above.\n"
   ]
  },
  {
   "cell_type": "code",
   "execution_count": 75,
   "id": "56e3767e-bfbc-47d0-8b21-4264fa3561a3",
   "metadata": {},
   "outputs": [],
   "source": [
    "# Takes 1 minute\n",
    "std_dev = (\n",
    "    m1.groupby(groupby_cols)\n",
    "    .apply(lambda x: (x[\"actual_headway\"] - x[\"avg_schd_headway_sec\"]).std())\n",
    "    .reset_index(name=\"std_dev_headway\")\n",
    ")"
   ]
  },
  {
   "cell_type": "markdown",
   "id": "2a5b721a-41ef-4c82-a0bc-8c2b3f194549",
   "metadata": {},
   "source": [
    "##### Investigate missing rows\n",
    "* This one seems to have some very unrealistic time stamps, like the time between scheduled versus actual arrival times are more than an hour."
   ]
  },
  {
   "cell_type": "code",
   "execution_count": 76,
   "id": "0daab2ac-1a4c-49e2-8324-83cada3f66c8",
   "metadata": {},
   "outputs": [
    {
     "name": "stdout",
     "output_type": "stream",
     "text": [
      "<class 'pandas.core.frame.DataFrame'>\n",
      "RangeIndex: 19260 entries, 0 to 19259\n",
      "Data columns (total 8 columns):\n",
      " #   Column                     Non-Null Count  Dtype  \n",
      "---  ------                     --------------  -----  \n",
      " 0   schedule_gtfs_dataset_key  19260 non-null  object \n",
      " 1   route_id                   19260 non-null  object \n",
      " 2   shape_array_key            19260 non-null  object \n",
      " 3   direction_id               19260 non-null  float64\n",
      " 4   route_primary_direction    19260 non-null  object \n",
      " 5   stop_sequence              19260 non-null  int64  \n",
      " 6   stop_id                    19260 non-null  object \n",
      " 7   std_dev_headway            17781 non-null  float64\n",
      "dtypes: float64(2), int64(1), object(5)\n",
      "memory usage: 1.2+ MB\n"
     ]
    }
   ],
   "source": [
    "std_dev.info()"
   ]
  },
  {
   "cell_type": "code",
   "execution_count": 81,
   "id": "654cb4b7-7043-4453-b1d2-85829c4e609a",
   "metadata": {},
   "outputs": [
    {
     "data": {
      "text/html": [
       "<div>\n",
       "<style scoped>\n",
       "    .dataframe tbody tr th:only-of-type {\n",
       "        vertical-align: middle;\n",
       "    }\n",
       "\n",
       "    .dataframe tbody tr th {\n",
       "        vertical-align: top;\n",
       "    }\n",
       "\n",
       "    .dataframe thead th {\n",
       "        text-align: right;\n",
       "    }\n",
       "</style>\n",
       "<table border=\"1\" class=\"dataframe\">\n",
       "  <thead>\n",
       "    <tr style=\"text-align: right;\">\n",
       "      <th></th>\n",
       "      <th>trip_id</th>\n",
       "      <th>stop_id</th>\n",
       "      <th>stop_sequence</th>\n",
       "      <th>scheduled_arrival_sec</th>\n",
       "      <th>schedule_gtfs_dataset_key</th>\n",
       "      <th>trip_instance_key</th>\n",
       "      <th>rt_arrival_sec</th>\n",
       "      <th>route_id</th>\n",
       "      <th>shape_array_key</th>\n",
       "      <th>feed_key</th>\n",
       "      <th>route_long_name</th>\n",
       "      <th>direction_id</th>\n",
       "      <th>route_primary_direction</th>\n",
       "      <th>frequency_in_minutes</th>\n",
       "      <th>delay</th>\n",
       "      <th>actual_headway</th>\n",
       "      <th>schd_headway</th>\n",
       "      <th>avg_schd_headway_sec</th>\n",
       "    </tr>\n",
       "  </thead>\n",
       "  <tbody>\n",
       "    <tr>\n",
       "      <th>157700</th>\n",
       "      <td>10217003302323-DEC23</td>\n",
       "      <td>15434</td>\n",
       "      <td>3</td>\n",
       "      <td>84360.00</td>\n",
       "      <td>0666caf3ec1ecc96b74f4477ee4bc939</td>\n",
       "      <td>bc7a2481002d5e5b5938a991db4e69d1</td>\n",
       "      <td>84408</td>\n",
       "      <td>217-13172</td>\n",
       "      <td>0688a14c97a2ebfe90f5674c1262d741</td>\n",
       "      <td>608992664173210532aa3e6cc573be2f</td>\n",
       "      <td>Metro Local Line</td>\n",
       "      <td>1.00</td>\n",
       "      <td>Southbound</td>\n",
       "      <td>13.92</td>\n",
       "      <td>48.00</td>\n",
       "      <td>1818.00</td>\n",
       "      <td>1800.00</td>\n",
       "      <td>1800.00</td>\n",
       "    </tr>\n",
       "  </tbody>\n",
       "</table>\n",
       "</div>"
      ],
      "text/plain": [
       "                     trip_id stop_id  stop_sequence  scheduled_arrival_sec  \\\n",
       "157700  10217003302323-DEC23   15434              3               84360.00   \n",
       "\n",
       "               schedule_gtfs_dataset_key                 trip_instance_key  \\\n",
       "157700  0666caf3ec1ecc96b74f4477ee4bc939  bc7a2481002d5e5b5938a991db4e69d1   \n",
       "\n",
       "        rt_arrival_sec   route_id                   shape_array_key  \\\n",
       "157700           84408  217-13172  0688a14c97a2ebfe90f5674c1262d741   \n",
       "\n",
       "                                feed_key   route_long_name  direction_id  \\\n",
       "157700  608992664173210532aa3e6cc573be2f  Metro Local Line          1.00   \n",
       "\n",
       "       route_primary_direction  frequency_in_minutes  delay  actual_headway  \\\n",
       "157700              Southbound                 13.92  48.00         1818.00   \n",
       "\n",
       "        schd_headway  avg_schd_headway_sec  \n",
       "157700       1800.00               1800.00  "
      ]
     },
     "execution_count": 81,
     "metadata": {},
     "output_type": "execute_result"
    }
   ],
   "source": [
    "m1.loc[\n",
    "    (m1.schedule_gtfs_dataset_key == \"0666caf3ec1ecc96b74f4477ee4bc939\")\n",
    "    & (m1.shape_array_key == \"0688a14c97a2ebfe90f5674c1262d741\")\n",
    "    & (m1.route_id == \"217-13172\")\n",
    "    & (m1.direction_id == 1)\n",
    "    & (m1.stop_id == \"15434\")\n",
    "]"
   ]
  },
  {
   "cell_type": "markdown",
   "id": "77b3bfc2-58b3-4052-9eb4-616d811ccfaf",
   "metadata": {},
   "source": [
    "#### `scheduled_arrival_sec` is 86,220 but `rt_arrival_sec` is 303."
   ]
  },
  {
   "cell_type": "code",
   "execution_count": 84,
   "id": "97d704fb-6033-40d5-a972-d763b0c45507",
   "metadata": {},
   "outputs": [
    {
     "data": {
      "text/html": [
       "<div>\n",
       "<style scoped>\n",
       "    .dataframe tbody tr th:only-of-type {\n",
       "        vertical-align: middle;\n",
       "    }\n",
       "\n",
       "    .dataframe tbody tr th {\n",
       "        vertical-align: top;\n",
       "    }\n",
       "\n",
       "    .dataframe thead th {\n",
       "        text-align: right;\n",
       "    }\n",
       "</style>\n",
       "<table border=\"1\" class=\"dataframe\">\n",
       "  <thead>\n",
       "    <tr style=\"text-align: right;\">\n",
       "      <th></th>\n",
       "      <th>trip_id</th>\n",
       "      <th>stop_id</th>\n",
       "      <th>stop_sequence</th>\n",
       "      <th>scheduled_arrival_sec</th>\n",
       "      <th>schedule_gtfs_dataset_key</th>\n",
       "      <th>trip_instance_key</th>\n",
       "      <th>rt_arrival_sec</th>\n",
       "      <th>route_id</th>\n",
       "      <th>shape_array_key</th>\n",
       "      <th>feed_key</th>\n",
       "      <th>route_long_name</th>\n",
       "      <th>direction_id</th>\n",
       "      <th>route_primary_direction</th>\n",
       "      <th>frequency_in_minutes</th>\n",
       "    </tr>\n",
       "  </thead>\n",
       "  <tbody>\n",
       "    <tr>\n",
       "      <th>413908</th>\n",
       "      <td>10217003302253-DEC23</td>\n",
       "      <td>15434</td>\n",
       "      <td>3</td>\n",
       "      <td>82560.00</td>\n",
       "      <td>0666caf3ec1ecc96b74f4477ee4bc939</td>\n",
       "      <td>27d29b3a92104fdcb72b4095ef46fed6</td>\n",
       "      <td>82590</td>\n",
       "      <td>217-13172</td>\n",
       "      <td>0688a14c97a2ebfe90f5674c1262d741</td>\n",
       "      <td>608992664173210532aa3e6cc573be2f</td>\n",
       "      <td>Metro Local Line</td>\n",
       "      <td>1.00</td>\n",
       "      <td>Southbound</td>\n",
       "      <td>13.92</td>\n",
       "    </tr>\n",
       "    <tr>\n",
       "      <th>419236</th>\n",
       "      <td>10217003302323-DEC23</td>\n",
       "      <td>15434</td>\n",
       "      <td>3</td>\n",
       "      <td>84360.00</td>\n",
       "      <td>0666caf3ec1ecc96b74f4477ee4bc939</td>\n",
       "      <td>bc7a2481002d5e5b5938a991db4e69d1</td>\n",
       "      <td>84408</td>\n",
       "      <td>217-13172</td>\n",
       "      <td>0688a14c97a2ebfe90f5674c1262d741</td>\n",
       "      <td>608992664173210532aa3e6cc573be2f</td>\n",
       "      <td>Metro Local Line</td>\n",
       "      <td>1.00</td>\n",
       "      <td>Southbound</td>\n",
       "      <td>13.92</td>\n",
       "    </tr>\n",
       "    <tr>\n",
       "      <th>425286</th>\n",
       "      <td>10217003302432-DEC23</td>\n",
       "      <td>15434</td>\n",
       "      <td>3</td>\n",
       "      <td>88500.00</td>\n",
       "      <td>0666caf3ec1ecc96b74f4477ee4bc939</td>\n",
       "      <td>6699f5297ef2d670988b29937f33b56e</td>\n",
       "      <td>2031</td>\n",
       "      <td>217-13172</td>\n",
       "      <td>0688a14c97a2ebfe90f5674c1262d741</td>\n",
       "      <td>608992664173210532aa3e6cc573be2f</td>\n",
       "      <td>Metro Local Line</td>\n",
       "      <td>1.00</td>\n",
       "      <td>Southbound</td>\n",
       "      <td>13.92</td>\n",
       "    </tr>\n",
       "    <tr>\n",
       "      <th>479447</th>\n",
       "      <td>10217003302354-DEC23</td>\n",
       "      <td>15434</td>\n",
       "      <td>3</td>\n",
       "      <td>86220.00</td>\n",
       "      <td>0666caf3ec1ecc96b74f4477ee4bc939</td>\n",
       "      <td>2f10227a381957bbf2b4f388e7f2a3e9</td>\n",
       "      <td>303</td>\n",
       "      <td>217-13172</td>\n",
       "      <td>0688a14c97a2ebfe90f5674c1262d741</td>\n",
       "      <td>608992664173210532aa3e6cc573be2f</td>\n",
       "      <td>Metro Local Line</td>\n",
       "      <td>1.00</td>\n",
       "      <td>Southbound</td>\n",
       "      <td>13.92</td>\n",
       "    </tr>\n",
       "  </tbody>\n",
       "</table>\n",
       "</div>"
      ],
      "text/plain": [
       "                     trip_id stop_id  stop_sequence  scheduled_arrival_sec  \\\n",
       "413908  10217003302253-DEC23   15434              3               82560.00   \n",
       "419236  10217003302323-DEC23   15434              3               84360.00   \n",
       "425286  10217003302432-DEC23   15434              3               88500.00   \n",
       "479447  10217003302354-DEC23   15434              3               86220.00   \n",
       "\n",
       "               schedule_gtfs_dataset_key                 trip_instance_key  \\\n",
       "413908  0666caf3ec1ecc96b74f4477ee4bc939  27d29b3a92104fdcb72b4095ef46fed6   \n",
       "419236  0666caf3ec1ecc96b74f4477ee4bc939  bc7a2481002d5e5b5938a991db4e69d1   \n",
       "425286  0666caf3ec1ecc96b74f4477ee4bc939  6699f5297ef2d670988b29937f33b56e   \n",
       "479447  0666caf3ec1ecc96b74f4477ee4bc939  2f10227a381957bbf2b4f388e7f2a3e9   \n",
       "\n",
       "        rt_arrival_sec   route_id                   shape_array_key  \\\n",
       "413908           82590  217-13172  0688a14c97a2ebfe90f5674c1262d741   \n",
       "419236           84408  217-13172  0688a14c97a2ebfe90f5674c1262d741   \n",
       "425286            2031  217-13172  0688a14c97a2ebfe90f5674c1262d741   \n",
       "479447             303  217-13172  0688a14c97a2ebfe90f5674c1262d741   \n",
       "\n",
       "                                feed_key   route_long_name  direction_id  \\\n",
       "413908  608992664173210532aa3e6cc573be2f  Metro Local Line          1.00   \n",
       "419236  608992664173210532aa3e6cc573be2f  Metro Local Line          1.00   \n",
       "425286  608992664173210532aa3e6cc573be2f  Metro Local Line          1.00   \n",
       "479447  608992664173210532aa3e6cc573be2f  Metro Local Line          1.00   \n",
       "\n",
       "       route_primary_direction  frequency_in_minutes  \n",
       "413908              Southbound                 13.92  \n",
       "419236              Southbound                 13.92  \n",
       "425286              Southbound                 13.92  \n",
       "479447              Southbound                 13.92  "
      ]
     },
     "execution_count": 84,
     "metadata": {},
     "output_type": "execute_result"
    }
   ],
   "source": [
    "rt_stop_times2.loc[\n",
    "    (rt_stop_times2.schedule_gtfs_dataset_key == \"0666caf3ec1ecc96b74f4477ee4bc939\")\n",
    "    & (rt_stop_times2.shape_array_key == \"0688a14c97a2ebfe90f5674c1262d741\")\n",
    "    & (rt_stop_times2.route_id == \"217-13172\")\n",
    "    & (rt_stop_times2.direction_id == 1)\n",
    "    & (rt_stop_times2.stop_id == \"15434\")\n",
    "]"
   ]
  },
  {
   "cell_type": "code",
   "execution_count": 85,
   "id": "54544648-3f26-4ef1-934d-0859f14a82ce",
   "metadata": {},
   "outputs": [
    {
     "data": {
      "text/html": [
       "<div>\n",
       "<style scoped>\n",
       "    .dataframe tbody tr th:only-of-type {\n",
       "        vertical-align: middle;\n",
       "    }\n",
       "\n",
       "    .dataframe tbody tr th {\n",
       "        vertical-align: top;\n",
       "    }\n",
       "\n",
       "    .dataframe thead th {\n",
       "        text-align: right;\n",
       "    }\n",
       "</style>\n",
       "<table border=\"1\" class=\"dataframe\">\n",
       "  <thead>\n",
       "    <tr style=\"text-align: right;\">\n",
       "      <th></th>\n",
       "      <th>trip_id</th>\n",
       "      <th>stop_id</th>\n",
       "      <th>stop_sequence</th>\n",
       "      <th>scheduled_arrival_sec</th>\n",
       "      <th>schedule_gtfs_dataset_key</th>\n",
       "      <th>trip_instance_key</th>\n",
       "      <th>rt_arrival_sec</th>\n",
       "      <th>route_id</th>\n",
       "      <th>shape_array_key</th>\n",
       "      <th>feed_key</th>\n",
       "      <th>route_long_name</th>\n",
       "      <th>direction_id</th>\n",
       "      <th>route_primary_direction</th>\n",
       "      <th>frequency_in_minutes</th>\n",
       "    </tr>\n",
       "  </thead>\n",
       "  <tbody>\n",
       "    <tr>\n",
       "      <th>413484</th>\n",
       "      <td>10217003302253-DEC23</td>\n",
       "      <td>15434</td>\n",
       "      <td>3</td>\n",
       "      <td>82560.00</td>\n",
       "      <td>0666caf3ec1ecc96b74f4477ee4bc939</td>\n",
       "      <td>27d29b3a92104fdcb72b4095ef46fed6</td>\n",
       "      <td>82590</td>\n",
       "      <td>217-13172</td>\n",
       "      <td>0688a14c97a2ebfe90f5674c1262d741</td>\n",
       "      <td>608992664173210532aa3e6cc573be2f</td>\n",
       "      <td>Metro Local Line</td>\n",
       "      <td>1.00</td>\n",
       "      <td>Southbound</td>\n",
       "      <td>13.92</td>\n",
       "    </tr>\n",
       "    <tr>\n",
       "      <th>417843</th>\n",
       "      <td>10217003302323-DEC23</td>\n",
       "      <td>15434</td>\n",
       "      <td>3</td>\n",
       "      <td>84360.00</td>\n",
       "      <td>0666caf3ec1ecc96b74f4477ee4bc939</td>\n",
       "      <td>bc7a2481002d5e5b5938a991db4e69d1</td>\n",
       "      <td>84408</td>\n",
       "      <td>217-13172</td>\n",
       "      <td>0688a14c97a2ebfe90f5674c1262d741</td>\n",
       "      <td>608992664173210532aa3e6cc573be2f</td>\n",
       "      <td>Metro Local Line</td>\n",
       "      <td>1.00</td>\n",
       "      <td>Southbound</td>\n",
       "      <td>13.92</td>\n",
       "    </tr>\n",
       "    <tr>\n",
       "      <th>462159</th>\n",
       "      <td>10217003302354-DEC23</td>\n",
       "      <td>15434</td>\n",
       "      <td>3</td>\n",
       "      <td>86220.00</td>\n",
       "      <td>0666caf3ec1ecc96b74f4477ee4bc939</td>\n",
       "      <td>2f10227a381957bbf2b4f388e7f2a3e9</td>\n",
       "      <td>303</td>\n",
       "      <td>217-13172</td>\n",
       "      <td>0688a14c97a2ebfe90f5674c1262d741</td>\n",
       "      <td>608992664173210532aa3e6cc573be2f</td>\n",
       "      <td>Metro Local Line</td>\n",
       "      <td>1.00</td>\n",
       "      <td>Southbound</td>\n",
       "      <td>13.92</td>\n",
       "    </tr>\n",
       "  </tbody>\n",
       "</table>\n",
       "</div>"
      ],
      "text/plain": [
       "                     trip_id stop_id  stop_sequence  scheduled_arrival_sec  \\\n",
       "413484  10217003302253-DEC23   15434              3               82560.00   \n",
       "417843  10217003302323-DEC23   15434              3               84360.00   \n",
       "462159  10217003302354-DEC23   15434              3               86220.00   \n",
       "\n",
       "               schedule_gtfs_dataset_key                 trip_instance_key  \\\n",
       "413484  0666caf3ec1ecc96b74f4477ee4bc939  27d29b3a92104fdcb72b4095ef46fed6   \n",
       "417843  0666caf3ec1ecc96b74f4477ee4bc939  bc7a2481002d5e5b5938a991db4e69d1   \n",
       "462159  0666caf3ec1ecc96b74f4477ee4bc939  2f10227a381957bbf2b4f388e7f2a3e9   \n",
       "\n",
       "        rt_arrival_sec   route_id                   shape_array_key  \\\n",
       "413484           82590  217-13172  0688a14c97a2ebfe90f5674c1262d741   \n",
       "417843           84408  217-13172  0688a14c97a2ebfe90f5674c1262d741   \n",
       "462159             303  217-13172  0688a14c97a2ebfe90f5674c1262d741   \n",
       "\n",
       "                                feed_key   route_long_name  direction_id  \\\n",
       "413484  608992664173210532aa3e6cc573be2f  Metro Local Line          1.00   \n",
       "417843  608992664173210532aa3e6cc573be2f  Metro Local Line          1.00   \n",
       "462159  608992664173210532aa3e6cc573be2f  Metro Local Line          1.00   \n",
       "\n",
       "       route_primary_direction  frequency_in_minutes  \n",
       "413484              Southbound                 13.92  \n",
       "417843              Southbound                 13.92  \n",
       "462159              Southbound                 13.92  "
      ]
     },
     "execution_count": 85,
     "metadata": {},
     "output_type": "execute_result"
    }
   ],
   "source": [
    "rt_stop_times3.loc[\n",
    "    (rt_stop_times3.schedule_gtfs_dataset_key == \"0666caf3ec1ecc96b74f4477ee4bc939\")\n",
    "    & (rt_stop_times3.shape_array_key == \"0688a14c97a2ebfe90f5674c1262d741\")\n",
    "    & (rt_stop_times3.route_id == \"217-13172\")\n",
    "    & (rt_stop_times3.direction_id == 1)\n",
    "    & (rt_stop_times3.stop_id == \"15434\")\n",
    "]"
   ]
  },
  {
   "cell_type": "code",
   "execution_count": 86,
   "id": "606ad2db-e50e-44d4-ac73-16701cadef16",
   "metadata": {},
   "outputs": [
    {
     "data": {
      "text/html": [
       "<div>\n",
       "<style scoped>\n",
       "    .dataframe tbody tr th:only-of-type {\n",
       "        vertical-align: middle;\n",
       "    }\n",
       "\n",
       "    .dataframe tbody tr th {\n",
       "        vertical-align: top;\n",
       "    }\n",
       "\n",
       "    .dataframe thead th {\n",
       "        text-align: right;\n",
       "    }\n",
       "</style>\n",
       "<table border=\"1\" class=\"dataframe\">\n",
       "  <thead>\n",
       "    <tr style=\"text-align: right;\">\n",
       "      <th></th>\n",
       "      <th>trip_id</th>\n",
       "      <th>stop_id</th>\n",
       "      <th>stop_sequence</th>\n",
       "      <th>scheduled_arrival_sec</th>\n",
       "      <th>schedule_gtfs_dataset_key</th>\n",
       "      <th>trip_instance_key</th>\n",
       "      <th>rt_arrival_sec</th>\n",
       "      <th>route_id</th>\n",
       "      <th>shape_array_key</th>\n",
       "      <th>feed_key</th>\n",
       "      <th>route_long_name</th>\n",
       "      <th>direction_id</th>\n",
       "      <th>route_primary_direction</th>\n",
       "      <th>frequency_in_minutes</th>\n",
       "      <th>delay</th>\n",
       "    </tr>\n",
       "  </thead>\n",
       "  <tbody>\n",
       "    <tr>\n",
       "      <th>164067</th>\n",
       "      <td>10217003302253-DEC23</td>\n",
       "      <td>15434</td>\n",
       "      <td>3</td>\n",
       "      <td>82560.00</td>\n",
       "      <td>0666caf3ec1ecc96b74f4477ee4bc939</td>\n",
       "      <td>27d29b3a92104fdcb72b4095ef46fed6</td>\n",
       "      <td>82590</td>\n",
       "      <td>217-13172</td>\n",
       "      <td>0688a14c97a2ebfe90f5674c1262d741</td>\n",
       "      <td>608992664173210532aa3e6cc573be2f</td>\n",
       "      <td>Metro Local Line</td>\n",
       "      <td>1.00</td>\n",
       "      <td>Southbound</td>\n",
       "      <td>13.92</td>\n",
       "      <td>30.00</td>\n",
       "    </tr>\n",
       "    <tr>\n",
       "      <th>164068</th>\n",
       "      <td>10217003302323-DEC23</td>\n",
       "      <td>15434</td>\n",
       "      <td>3</td>\n",
       "      <td>84360.00</td>\n",
       "      <td>0666caf3ec1ecc96b74f4477ee4bc939</td>\n",
       "      <td>bc7a2481002d5e5b5938a991db4e69d1</td>\n",
       "      <td>84408</td>\n",
       "      <td>217-13172</td>\n",
       "      <td>0688a14c97a2ebfe90f5674c1262d741</td>\n",
       "      <td>608992664173210532aa3e6cc573be2f</td>\n",
       "      <td>Metro Local Line</td>\n",
       "      <td>1.00</td>\n",
       "      <td>Southbound</td>\n",
       "      <td>13.92</td>\n",
       "      <td>48.00</td>\n",
       "    </tr>\n",
       "    <tr>\n",
       "      <th>164069</th>\n",
       "      <td>10217003302354-DEC23</td>\n",
       "      <td>15434</td>\n",
       "      <td>3</td>\n",
       "      <td>86220.00</td>\n",
       "      <td>0666caf3ec1ecc96b74f4477ee4bc939</td>\n",
       "      <td>2f10227a381957bbf2b4f388e7f2a3e9</td>\n",
       "      <td>303</td>\n",
       "      <td>217-13172</td>\n",
       "      <td>0688a14c97a2ebfe90f5674c1262d741</td>\n",
       "      <td>608992664173210532aa3e6cc573be2f</td>\n",
       "      <td>Metro Local Line</td>\n",
       "      <td>1.00</td>\n",
       "      <td>Southbound</td>\n",
       "      <td>13.92</td>\n",
       "      <td>-85917.00</td>\n",
       "    </tr>\n",
       "  </tbody>\n",
       "</table>\n",
       "</div>"
      ],
      "text/plain": [
       "                     trip_id stop_id  stop_sequence  scheduled_arrival_sec  \\\n",
       "164067  10217003302253-DEC23   15434              3               82560.00   \n",
       "164068  10217003302323-DEC23   15434              3               84360.00   \n",
       "164069  10217003302354-DEC23   15434              3               86220.00   \n",
       "\n",
       "               schedule_gtfs_dataset_key                 trip_instance_key  \\\n",
       "164067  0666caf3ec1ecc96b74f4477ee4bc939  27d29b3a92104fdcb72b4095ef46fed6   \n",
       "164068  0666caf3ec1ecc96b74f4477ee4bc939  bc7a2481002d5e5b5938a991db4e69d1   \n",
       "164069  0666caf3ec1ecc96b74f4477ee4bc939  2f10227a381957bbf2b4f388e7f2a3e9   \n",
       "\n",
       "        rt_arrival_sec   route_id                   shape_array_key  \\\n",
       "164067           82590  217-13172  0688a14c97a2ebfe90f5674c1262d741   \n",
       "164068           84408  217-13172  0688a14c97a2ebfe90f5674c1262d741   \n",
       "164069             303  217-13172  0688a14c97a2ebfe90f5674c1262d741   \n",
       "\n",
       "                                feed_key   route_long_name  direction_id  \\\n",
       "164067  608992664173210532aa3e6cc573be2f  Metro Local Line          1.00   \n",
       "164068  608992664173210532aa3e6cc573be2f  Metro Local Line          1.00   \n",
       "164069  608992664173210532aa3e6cc573be2f  Metro Local Line          1.00   \n",
       "\n",
       "       route_primary_direction  frequency_in_minutes     delay  \n",
       "164067              Southbound                 13.92     30.00  \n",
       "164068              Southbound                 13.92     48.00  \n",
       "164069              Southbound                 13.92 -85917.00  "
      ]
     },
     "execution_count": 86,
     "metadata": {},
     "output_type": "execute_result"
    }
   ],
   "source": [
    "rt_stop_times4.loc[\n",
    "    (rt_stop_times4.schedule_gtfs_dataset_key == \"0666caf3ec1ecc96b74f4477ee4bc939\")\n",
    "    & (rt_stop_times4.shape_array_key == \"0688a14c97a2ebfe90f5674c1262d741\")\n",
    "    & (rt_stop_times4.route_id == \"217-13172\")\n",
    "    & (rt_stop_times4.direction_id == 1)\n",
    "    & (rt_stop_times4.stop_id == \"15434\")\n",
    "]"
   ]
  },
  {
   "cell_type": "code",
   "execution_count": 87,
   "id": "520e0c9e-5e53-4354-8587-2e55794432b7",
   "metadata": {},
   "outputs": [
    {
     "data": {
      "text/html": [
       "<div>\n",
       "<style scoped>\n",
       "    .dataframe tbody tr th:only-of-type {\n",
       "        vertical-align: middle;\n",
       "    }\n",
       "\n",
       "    .dataframe tbody tr th {\n",
       "        vertical-align: top;\n",
       "    }\n",
       "\n",
       "    .dataframe thead th {\n",
       "        text-align: right;\n",
       "    }\n",
       "</style>\n",
       "<table border=\"1\" class=\"dataframe\">\n",
       "  <thead>\n",
       "    <tr style=\"text-align: right;\">\n",
       "      <th></th>\n",
       "      <th>trip_id</th>\n",
       "      <th>stop_id</th>\n",
       "      <th>stop_sequence</th>\n",
       "      <th>scheduled_arrival_sec</th>\n",
       "      <th>schedule_gtfs_dataset_key</th>\n",
       "      <th>trip_instance_key</th>\n",
       "      <th>rt_arrival_sec</th>\n",
       "      <th>route_id</th>\n",
       "      <th>shape_array_key</th>\n",
       "      <th>feed_key</th>\n",
       "      <th>route_long_name</th>\n",
       "      <th>direction_id</th>\n",
       "      <th>route_primary_direction</th>\n",
       "      <th>frequency_in_minutes</th>\n",
       "      <th>delay</th>\n",
       "      <th>actual_headway</th>\n",
       "      <th>schd_headway</th>\n",
       "    </tr>\n",
       "  </thead>\n",
       "  <tbody>\n",
       "    <tr>\n",
       "      <th>163937</th>\n",
       "      <td>10217003302253-DEC23</td>\n",
       "      <td>15434</td>\n",
       "      <td>3</td>\n",
       "      <td>82560.00</td>\n",
       "      <td>0666caf3ec1ecc96b74f4477ee4bc939</td>\n",
       "      <td>27d29b3a92104fdcb72b4095ef46fed6</td>\n",
       "      <td>82590</td>\n",
       "      <td>217-13172</td>\n",
       "      <td>0688a14c97a2ebfe90f5674c1262d741</td>\n",
       "      <td>608992664173210532aa3e6cc573be2f</td>\n",
       "      <td>Metro Local Line</td>\n",
       "      <td>1.00</td>\n",
       "      <td>Southbound</td>\n",
       "      <td>13.92</td>\n",
       "      <td>30.00</td>\n",
       "      <td>NaN</td>\n",
       "      <td>NaN</td>\n",
       "    </tr>\n",
       "    <tr>\n",
       "      <th>163938</th>\n",
       "      <td>10217003302323-DEC23</td>\n",
       "      <td>15434</td>\n",
       "      <td>3</td>\n",
       "      <td>84360.00</td>\n",
       "      <td>0666caf3ec1ecc96b74f4477ee4bc939</td>\n",
       "      <td>bc7a2481002d5e5b5938a991db4e69d1</td>\n",
       "      <td>84408</td>\n",
       "      <td>217-13172</td>\n",
       "      <td>0688a14c97a2ebfe90f5674c1262d741</td>\n",
       "      <td>608992664173210532aa3e6cc573be2f</td>\n",
       "      <td>Metro Local Line</td>\n",
       "      <td>1.00</td>\n",
       "      <td>Southbound</td>\n",
       "      <td>13.92</td>\n",
       "      <td>48.00</td>\n",
       "      <td>1818.00</td>\n",
       "      <td>1800.00</td>\n",
       "    </tr>\n",
       "  </tbody>\n",
       "</table>\n",
       "</div>"
      ],
      "text/plain": [
       "                     trip_id stop_id  stop_sequence  scheduled_arrival_sec  \\\n",
       "163937  10217003302253-DEC23   15434              3               82560.00   \n",
       "163938  10217003302323-DEC23   15434              3               84360.00   \n",
       "\n",
       "               schedule_gtfs_dataset_key                 trip_instance_key  \\\n",
       "163937  0666caf3ec1ecc96b74f4477ee4bc939  27d29b3a92104fdcb72b4095ef46fed6   \n",
       "163938  0666caf3ec1ecc96b74f4477ee4bc939  bc7a2481002d5e5b5938a991db4e69d1   \n",
       "\n",
       "        rt_arrival_sec   route_id                   shape_array_key  \\\n",
       "163937           82590  217-13172  0688a14c97a2ebfe90f5674c1262d741   \n",
       "163938           84408  217-13172  0688a14c97a2ebfe90f5674c1262d741   \n",
       "\n",
       "                                feed_key   route_long_name  direction_id  \\\n",
       "163937  608992664173210532aa3e6cc573be2f  Metro Local Line          1.00   \n",
       "163938  608992664173210532aa3e6cc573be2f  Metro Local Line          1.00   \n",
       "\n",
       "       route_primary_direction  frequency_in_minutes  delay  actual_headway  \\\n",
       "163937              Southbound                 13.92  30.00             NaN   \n",
       "163938              Southbound                 13.92  48.00         1818.00   \n",
       "\n",
       "        schd_headway  \n",
       "163937           NaN  \n",
       "163938       1800.00  "
      ]
     },
     "execution_count": 87,
     "metadata": {},
     "output_type": "execute_result"
    }
   ],
   "source": [
    "rt_stop_times5.loc[\n",
    "    (rt_stop_times5.schedule_gtfs_dataset_key == \"0666caf3ec1ecc96b74f4477ee4bc939\")\n",
    "    & (rt_stop_times5.shape_array_key == \"0688a14c97a2ebfe90f5674c1262d741\")\n",
    "    & (rt_stop_times5.route_id == \"217-13172\")\n",
    "    & (rt_stop_times5.direction_id == 1)\n",
    "    & (rt_stop_times5.stop_id == \"15434\")\n",
    "]"
   ]
  },
  {
   "cell_type": "code",
   "execution_count": 88,
   "id": "261ebbfe-03c2-47c8-8f44-66daa95e5ace",
   "metadata": {},
   "outputs": [
    {
     "data": {
      "text/html": [
       "<div>\n",
       "<style scoped>\n",
       "    .dataframe tbody tr th:only-of-type {\n",
       "        vertical-align: middle;\n",
       "    }\n",
       "\n",
       "    .dataframe tbody tr th {\n",
       "        vertical-align: top;\n",
       "    }\n",
       "\n",
       "    .dataframe thead th {\n",
       "        text-align: right;\n",
       "    }\n",
       "</style>\n",
       "<table border=\"1\" class=\"dataframe\">\n",
       "  <thead>\n",
       "    <tr style=\"text-align: right;\">\n",
       "      <th></th>\n",
       "      <th>trip_id</th>\n",
       "      <th>stop_id</th>\n",
       "      <th>stop_sequence</th>\n",
       "      <th>scheduled_arrival_sec</th>\n",
       "      <th>schedule_gtfs_dataset_key</th>\n",
       "      <th>trip_instance_key</th>\n",
       "      <th>rt_arrival_sec</th>\n",
       "      <th>route_id</th>\n",
       "      <th>shape_array_key</th>\n",
       "      <th>feed_key</th>\n",
       "      <th>route_long_name</th>\n",
       "      <th>direction_id</th>\n",
       "      <th>route_primary_direction</th>\n",
       "      <th>frequency_in_minutes</th>\n",
       "      <th>delay</th>\n",
       "      <th>actual_headway</th>\n",
       "      <th>schd_headway</th>\n",
       "    </tr>\n",
       "  </thead>\n",
       "  <tbody>\n",
       "    <tr>\n",
       "      <th>157700</th>\n",
       "      <td>10217003302323-DEC23</td>\n",
       "      <td>15434</td>\n",
       "      <td>3</td>\n",
       "      <td>84360.00</td>\n",
       "      <td>0666caf3ec1ecc96b74f4477ee4bc939</td>\n",
       "      <td>bc7a2481002d5e5b5938a991db4e69d1</td>\n",
       "      <td>84408</td>\n",
       "      <td>217-13172</td>\n",
       "      <td>0688a14c97a2ebfe90f5674c1262d741</td>\n",
       "      <td>608992664173210532aa3e6cc573be2f</td>\n",
       "      <td>Metro Local Line</td>\n",
       "      <td>1.00</td>\n",
       "      <td>Southbound</td>\n",
       "      <td>13.92</td>\n",
       "      <td>48.00</td>\n",
       "      <td>1818.00</td>\n",
       "      <td>1800.00</td>\n",
       "    </tr>\n",
       "  </tbody>\n",
       "</table>\n",
       "</div>"
      ],
      "text/plain": [
       "                     trip_id stop_id  stop_sequence  scheduled_arrival_sec  \\\n",
       "157700  10217003302323-DEC23   15434              3               84360.00   \n",
       "\n",
       "               schedule_gtfs_dataset_key                 trip_instance_key  \\\n",
       "157700  0666caf3ec1ecc96b74f4477ee4bc939  bc7a2481002d5e5b5938a991db4e69d1   \n",
       "\n",
       "        rt_arrival_sec   route_id                   shape_array_key  \\\n",
       "157700           84408  217-13172  0688a14c97a2ebfe90f5674c1262d741   \n",
       "\n",
       "                                feed_key   route_long_name  direction_id  \\\n",
       "157700  608992664173210532aa3e6cc573be2f  Metro Local Line          1.00   \n",
       "\n",
       "       route_primary_direction  frequency_in_minutes  delay  actual_headway  \\\n",
       "157700              Southbound                 13.92  48.00         1818.00   \n",
       "\n",
       "        schd_headway  \n",
       "157700       1800.00  "
      ]
     },
     "execution_count": 88,
     "metadata": {},
     "output_type": "execute_result"
    }
   ],
   "source": [
    "rt_stop_times6.loc[\n",
    "    (rt_stop_times6.schedule_gtfs_dataset_key == \"0666caf3ec1ecc96b74f4477ee4bc939\")\n",
    "    & (rt_stop_times6.shape_array_key == \"0688a14c97a2ebfe90f5674c1262d741\")\n",
    "    & (rt_stop_times6.route_id == \"217-13172\")\n",
    "    & (rt_stop_times6.direction_id == 1)\n",
    "    & (rt_stop_times6.stop_id == \"15434\")\n",
    "]"
   ]
  },
  {
   "cell_type": "markdown",
   "id": "7a0cbab9-14d2-4926-af33-3a47cef4f810",
   "metadata": {},
   "source": [
    "#### Missing rows Case 2\n",
    "* There are only 2 rows, I guess there needs to be at least 3 rows to calculate the standard deviation since the first row of a combo won't have anything."
   ]
  },
  {
   "cell_type": "code",
   "execution_count": 89,
   "id": "75d0abfa-ead3-4c11-a34d-275920500052",
   "metadata": {},
   "outputs": [
    {
     "data": {
      "text/html": [
       "<div>\n",
       "<style scoped>\n",
       "    .dataframe tbody tr th:only-of-type {\n",
       "        vertical-align: middle;\n",
       "    }\n",
       "\n",
       "    .dataframe tbody tr th {\n",
       "        vertical-align: top;\n",
       "    }\n",
       "\n",
       "    .dataframe thead th {\n",
       "        text-align: right;\n",
       "    }\n",
       "</style>\n",
       "<table border=\"1\" class=\"dataframe\">\n",
       "  <thead>\n",
       "    <tr style=\"text-align: right;\">\n",
       "      <th></th>\n",
       "      <th>trip_id</th>\n",
       "      <th>stop_id</th>\n",
       "      <th>stop_sequence</th>\n",
       "      <th>scheduled_arrival_sec</th>\n",
       "      <th>schedule_gtfs_dataset_key</th>\n",
       "      <th>trip_instance_key</th>\n",
       "      <th>rt_arrival_sec</th>\n",
       "      <th>route_id</th>\n",
       "      <th>shape_array_key</th>\n",
       "      <th>feed_key</th>\n",
       "      <th>route_long_name</th>\n",
       "      <th>direction_id</th>\n",
       "      <th>route_primary_direction</th>\n",
       "      <th>frequency_in_minutes</th>\n",
       "      <th>delay</th>\n",
       "      <th>actual_headway</th>\n",
       "      <th>schd_headway</th>\n",
       "      <th>avg_schd_headway_sec</th>\n",
       "    </tr>\n",
       "  </thead>\n",
       "  <tbody>\n",
       "    <tr>\n",
       "      <th>179345</th>\n",
       "      <td>10234000780433-DEC23</td>\n",
       "      <td>15383</td>\n",
       "      <td>58</td>\n",
       "      <td>19380.00</td>\n",
       "      <td>0666caf3ec1ecc96b74f4477ee4bc939</td>\n",
       "      <td>3741cc1a8fd3d2ea5ddc59ba1766c0f5</td>\n",
       "      <td>19418</td>\n",
       "      <td>234-13172</td>\n",
       "      <td>6f33c9cd019664d5085f94294aeacfd3</td>\n",
       "      <td>608992664173210532aa3e6cc573be2f</td>\n",
       "      <td>Metro Local Line</td>\n",
       "      <td>1.00</td>\n",
       "      <td>Southbound</td>\n",
       "      <td>14.42</td>\n",
       "      <td>38.00</td>\n",
       "      <td>1841.00</td>\n",
       "      <td>1800.00</td>\n",
       "      <td>1800.00</td>\n",
       "    </tr>\n",
       "  </tbody>\n",
       "</table>\n",
       "</div>"
      ],
      "text/plain": [
       "                     trip_id stop_id  stop_sequence  scheduled_arrival_sec  \\\n",
       "179345  10234000780433-DEC23   15383             58               19380.00   \n",
       "\n",
       "               schedule_gtfs_dataset_key                 trip_instance_key  \\\n",
       "179345  0666caf3ec1ecc96b74f4477ee4bc939  3741cc1a8fd3d2ea5ddc59ba1766c0f5   \n",
       "\n",
       "        rt_arrival_sec   route_id                   shape_array_key  \\\n",
       "179345           19418  234-13172  6f33c9cd019664d5085f94294aeacfd3   \n",
       "\n",
       "                                feed_key   route_long_name  direction_id  \\\n",
       "179345  608992664173210532aa3e6cc573be2f  Metro Local Line          1.00   \n",
       "\n",
       "       route_primary_direction  frequency_in_minutes  delay  actual_headway  \\\n",
       "179345              Southbound                 14.42  38.00         1841.00   \n",
       "\n",
       "        schd_headway  avg_schd_headway_sec  \n",
       "179345       1800.00               1800.00  "
      ]
     },
     "execution_count": 89,
     "metadata": {},
     "output_type": "execute_result"
    }
   ],
   "source": [
    "m1.loc[\n",
    "    (m1.schedule_gtfs_dataset_key == \"0666caf3ec1ecc96b74f4477ee4bc939\")\n",
    "    & (m1.shape_array_key == \"6f33c9cd019664d5085f94294aeacfd3\")\n",
    "    & (m1.route_id == \"234-13172\")\n",
    "    & (m1.direction_id == 1)\n",
    "    & (m1.stop_id == \"15383\")\n",
    "]"
   ]
  },
  {
   "cell_type": "code",
   "execution_count": 90,
   "id": "e942226b-bb2a-4ab7-ae0f-055c8b7fc048",
   "metadata": {},
   "outputs": [
    {
     "data": {
      "text/html": [
       "<div>\n",
       "<style scoped>\n",
       "    .dataframe tbody tr th:only-of-type {\n",
       "        vertical-align: middle;\n",
       "    }\n",
       "\n",
       "    .dataframe tbody tr th {\n",
       "        vertical-align: top;\n",
       "    }\n",
       "\n",
       "    .dataframe thead th {\n",
       "        text-align: right;\n",
       "    }\n",
       "</style>\n",
       "<table border=\"1\" class=\"dataframe\">\n",
       "  <thead>\n",
       "    <tr style=\"text-align: right;\">\n",
       "      <th></th>\n",
       "      <th>trip_id</th>\n",
       "      <th>stop_id</th>\n",
       "      <th>stop_sequence</th>\n",
       "      <th>scheduled_arrival_sec</th>\n",
       "      <th>schedule_gtfs_dataset_key</th>\n",
       "      <th>trip_instance_key</th>\n",
       "      <th>rt_arrival_sec</th>\n",
       "      <th>route_id</th>\n",
       "      <th>shape_array_key</th>\n",
       "      <th>feed_key</th>\n",
       "      <th>route_long_name</th>\n",
       "      <th>direction_id</th>\n",
       "      <th>route_primary_direction</th>\n",
       "      <th>frequency_in_minutes</th>\n",
       "    </tr>\n",
       "  </thead>\n",
       "  <tbody>\n",
       "    <tr>\n",
       "      <th>256950</th>\n",
       "      <td>10234000780433-DEC23</td>\n",
       "      <td>15383</td>\n",
       "      <td>58</td>\n",
       "      <td>19380.00</td>\n",
       "      <td>0666caf3ec1ecc96b74f4477ee4bc939</td>\n",
       "      <td>3741cc1a8fd3d2ea5ddc59ba1766c0f5</td>\n",
       "      <td>19418</td>\n",
       "      <td>234-13172</td>\n",
       "      <td>6f33c9cd019664d5085f94294aeacfd3</td>\n",
       "      <td>608992664173210532aa3e6cc573be2f</td>\n",
       "      <td>Metro Local Line</td>\n",
       "      <td>1.00</td>\n",
       "      <td>Southbound</td>\n",
       "      <td>14.42</td>\n",
       "    </tr>\n",
       "    <tr>\n",
       "      <th>482097</th>\n",
       "      <td>10234000780403-DEC23</td>\n",
       "      <td>15383</td>\n",
       "      <td>58</td>\n",
       "      <td>17580.00</td>\n",
       "      <td>0666caf3ec1ecc96b74f4477ee4bc939</td>\n",
       "      <td>bd2c7c473164147ae73920b7ea99c3b6</td>\n",
       "      <td>17577</td>\n",
       "      <td>234-13172</td>\n",
       "      <td>6f33c9cd019664d5085f94294aeacfd3</td>\n",
       "      <td>608992664173210532aa3e6cc573be2f</td>\n",
       "      <td>Metro Local Line</td>\n",
       "      <td>1.00</td>\n",
       "      <td>Southbound</td>\n",
       "      <td>14.42</td>\n",
       "    </tr>\n",
       "  </tbody>\n",
       "</table>\n",
       "</div>"
      ],
      "text/plain": [
       "                     trip_id stop_id  stop_sequence  scheduled_arrival_sec  \\\n",
       "256950  10234000780433-DEC23   15383             58               19380.00   \n",
       "482097  10234000780403-DEC23   15383             58               17580.00   \n",
       "\n",
       "               schedule_gtfs_dataset_key                 trip_instance_key  \\\n",
       "256950  0666caf3ec1ecc96b74f4477ee4bc939  3741cc1a8fd3d2ea5ddc59ba1766c0f5   \n",
       "482097  0666caf3ec1ecc96b74f4477ee4bc939  bd2c7c473164147ae73920b7ea99c3b6   \n",
       "\n",
       "        rt_arrival_sec   route_id                   shape_array_key  \\\n",
       "256950           19418  234-13172  6f33c9cd019664d5085f94294aeacfd3   \n",
       "482097           17577  234-13172  6f33c9cd019664d5085f94294aeacfd3   \n",
       "\n",
       "                                feed_key   route_long_name  direction_id  \\\n",
       "256950  608992664173210532aa3e6cc573be2f  Metro Local Line          1.00   \n",
       "482097  608992664173210532aa3e6cc573be2f  Metro Local Line          1.00   \n",
       "\n",
       "       route_primary_direction  frequency_in_minutes  \n",
       "256950              Southbound                 14.42  \n",
       "482097              Southbound                 14.42  "
      ]
     },
     "execution_count": 90,
     "metadata": {},
     "output_type": "execute_result"
    }
   ],
   "source": [
    "rt_stop_times2.loc[\n",
    "    (rt_stop_times2.schedule_gtfs_dataset_key == \"0666caf3ec1ecc96b74f4477ee4bc939\")\n",
    "    & (rt_stop_times2.shape_array_key == \"6f33c9cd019664d5085f94294aeacfd3\")\n",
    "    & (rt_stop_times2.route_id == \"234-13172\")\n",
    "    & (rt_stop_times2.direction_id == 1)\n",
    "    & (rt_stop_times2.stop_id == \"15383\")\n",
    "]"
   ]
  },
  {
   "cell_type": "code",
   "execution_count": 91,
   "id": "b460d441-2d2d-42ec-b8af-a196561c2774",
   "metadata": {},
   "outputs": [
    {
     "data": {
      "text/html": [
       "<div>\n",
       "<style scoped>\n",
       "    .dataframe tbody tr th:only-of-type {\n",
       "        vertical-align: middle;\n",
       "    }\n",
       "\n",
       "    .dataframe tbody tr th {\n",
       "        vertical-align: top;\n",
       "    }\n",
       "\n",
       "    .dataframe thead th {\n",
       "        text-align: right;\n",
       "    }\n",
       "</style>\n",
       "<table border=\"1\" class=\"dataframe\">\n",
       "  <thead>\n",
       "    <tr style=\"text-align: right;\">\n",
       "      <th></th>\n",
       "      <th>trip_id</th>\n",
       "      <th>stop_id</th>\n",
       "      <th>stop_sequence</th>\n",
       "      <th>scheduled_arrival_sec</th>\n",
       "      <th>schedule_gtfs_dataset_key</th>\n",
       "      <th>trip_instance_key</th>\n",
       "      <th>rt_arrival_sec</th>\n",
       "      <th>route_id</th>\n",
       "      <th>shape_array_key</th>\n",
       "      <th>feed_key</th>\n",
       "      <th>route_long_name</th>\n",
       "      <th>direction_id</th>\n",
       "      <th>route_primary_direction</th>\n",
       "      <th>frequency_in_minutes</th>\n",
       "    </tr>\n",
       "  </thead>\n",
       "  <tbody>\n",
       "    <tr>\n",
       "      <th>256533</th>\n",
       "      <td>10234000780433-DEC23</td>\n",
       "      <td>15383</td>\n",
       "      <td>58</td>\n",
       "      <td>19380.00</td>\n",
       "      <td>0666caf3ec1ecc96b74f4477ee4bc939</td>\n",
       "      <td>3741cc1a8fd3d2ea5ddc59ba1766c0f5</td>\n",
       "      <td>19418</td>\n",
       "      <td>234-13172</td>\n",
       "      <td>6f33c9cd019664d5085f94294aeacfd3</td>\n",
       "      <td>608992664173210532aa3e6cc573be2f</td>\n",
       "      <td>Metro Local Line</td>\n",
       "      <td>1.00</td>\n",
       "      <td>Southbound</td>\n",
       "      <td>14.42</td>\n",
       "    </tr>\n",
       "    <tr>\n",
       "      <th>462564</th>\n",
       "      <td>10234000780403-DEC23</td>\n",
       "      <td>15383</td>\n",
       "      <td>58</td>\n",
       "      <td>17580.00</td>\n",
       "      <td>0666caf3ec1ecc96b74f4477ee4bc939</td>\n",
       "      <td>bd2c7c473164147ae73920b7ea99c3b6</td>\n",
       "      <td>17577</td>\n",
       "      <td>234-13172</td>\n",
       "      <td>6f33c9cd019664d5085f94294aeacfd3</td>\n",
       "      <td>608992664173210532aa3e6cc573be2f</td>\n",
       "      <td>Metro Local Line</td>\n",
       "      <td>1.00</td>\n",
       "      <td>Southbound</td>\n",
       "      <td>14.42</td>\n",
       "    </tr>\n",
       "  </tbody>\n",
       "</table>\n",
       "</div>"
      ],
      "text/plain": [
       "                     trip_id stop_id  stop_sequence  scheduled_arrival_sec  \\\n",
       "256533  10234000780433-DEC23   15383             58               19380.00   \n",
       "462564  10234000780403-DEC23   15383             58               17580.00   \n",
       "\n",
       "               schedule_gtfs_dataset_key                 trip_instance_key  \\\n",
       "256533  0666caf3ec1ecc96b74f4477ee4bc939  3741cc1a8fd3d2ea5ddc59ba1766c0f5   \n",
       "462564  0666caf3ec1ecc96b74f4477ee4bc939  bd2c7c473164147ae73920b7ea99c3b6   \n",
       "\n",
       "        rt_arrival_sec   route_id                   shape_array_key  \\\n",
       "256533           19418  234-13172  6f33c9cd019664d5085f94294aeacfd3   \n",
       "462564           17577  234-13172  6f33c9cd019664d5085f94294aeacfd3   \n",
       "\n",
       "                                feed_key   route_long_name  direction_id  \\\n",
       "256533  608992664173210532aa3e6cc573be2f  Metro Local Line          1.00   \n",
       "462564  608992664173210532aa3e6cc573be2f  Metro Local Line          1.00   \n",
       "\n",
       "       route_primary_direction  frequency_in_minutes  \n",
       "256533              Southbound                 14.42  \n",
       "462564              Southbound                 14.42  "
      ]
     },
     "execution_count": 91,
     "metadata": {},
     "output_type": "execute_result"
    }
   ],
   "source": [
    "rt_stop_times3.loc[\n",
    "    (rt_stop_times3.schedule_gtfs_dataset_key == \"0666caf3ec1ecc96b74f4477ee4bc939\")\n",
    "    & (rt_stop_times3.shape_array_key == \"6f33c9cd019664d5085f94294aeacfd3\")\n",
    "    & (rt_stop_times3.route_id == \"234-13172\")\n",
    "    & (rt_stop_times3.direction_id == 1)\n",
    "    & (rt_stop_times3.stop_id == \"15383\")\n",
    "]"
   ]
  },
  {
   "cell_type": "code",
   "execution_count": 92,
   "id": "33068379-3c4a-400c-baad-94487cad9d72",
   "metadata": {},
   "outputs": [
    {
     "data": {
      "text/html": [
       "<div>\n",
       "<style scoped>\n",
       "    .dataframe tbody tr th:only-of-type {\n",
       "        vertical-align: middle;\n",
       "    }\n",
       "\n",
       "    .dataframe tbody tr th {\n",
       "        vertical-align: top;\n",
       "    }\n",
       "\n",
       "    .dataframe thead th {\n",
       "        text-align: right;\n",
       "    }\n",
       "</style>\n",
       "<table border=\"1\" class=\"dataframe\">\n",
       "  <thead>\n",
       "    <tr style=\"text-align: right;\">\n",
       "      <th></th>\n",
       "      <th>trip_id</th>\n",
       "      <th>stop_id</th>\n",
       "      <th>stop_sequence</th>\n",
       "      <th>scheduled_arrival_sec</th>\n",
       "      <th>schedule_gtfs_dataset_key</th>\n",
       "      <th>trip_instance_key</th>\n",
       "      <th>rt_arrival_sec</th>\n",
       "      <th>route_id</th>\n",
       "      <th>shape_array_key</th>\n",
       "      <th>feed_key</th>\n",
       "      <th>route_long_name</th>\n",
       "      <th>direction_id</th>\n",
       "      <th>route_primary_direction</th>\n",
       "      <th>frequency_in_minutes</th>\n",
       "      <th>delay</th>\n",
       "    </tr>\n",
       "  </thead>\n",
       "  <tbody>\n",
       "    <tr>\n",
       "      <th>186728</th>\n",
       "      <td>10234000780403-DEC23</td>\n",
       "      <td>15383</td>\n",
       "      <td>58</td>\n",
       "      <td>17580.00</td>\n",
       "      <td>0666caf3ec1ecc96b74f4477ee4bc939</td>\n",
       "      <td>bd2c7c473164147ae73920b7ea99c3b6</td>\n",
       "      <td>17577</td>\n",
       "      <td>234-13172</td>\n",
       "      <td>6f33c9cd019664d5085f94294aeacfd3</td>\n",
       "      <td>608992664173210532aa3e6cc573be2f</td>\n",
       "      <td>Metro Local Line</td>\n",
       "      <td>1.00</td>\n",
       "      <td>Southbound</td>\n",
       "      <td>14.42</td>\n",
       "      <td>-3.00</td>\n",
       "    </tr>\n",
       "    <tr>\n",
       "      <th>186729</th>\n",
       "      <td>10234000780433-DEC23</td>\n",
       "      <td>15383</td>\n",
       "      <td>58</td>\n",
       "      <td>19380.00</td>\n",
       "      <td>0666caf3ec1ecc96b74f4477ee4bc939</td>\n",
       "      <td>3741cc1a8fd3d2ea5ddc59ba1766c0f5</td>\n",
       "      <td>19418</td>\n",
       "      <td>234-13172</td>\n",
       "      <td>6f33c9cd019664d5085f94294aeacfd3</td>\n",
       "      <td>608992664173210532aa3e6cc573be2f</td>\n",
       "      <td>Metro Local Line</td>\n",
       "      <td>1.00</td>\n",
       "      <td>Southbound</td>\n",
       "      <td>14.42</td>\n",
       "      <td>38.00</td>\n",
       "    </tr>\n",
       "  </tbody>\n",
       "</table>\n",
       "</div>"
      ],
      "text/plain": [
       "                     trip_id stop_id  stop_sequence  scheduled_arrival_sec  \\\n",
       "186728  10234000780403-DEC23   15383             58               17580.00   \n",
       "186729  10234000780433-DEC23   15383             58               19380.00   \n",
       "\n",
       "               schedule_gtfs_dataset_key                 trip_instance_key  \\\n",
       "186728  0666caf3ec1ecc96b74f4477ee4bc939  bd2c7c473164147ae73920b7ea99c3b6   \n",
       "186729  0666caf3ec1ecc96b74f4477ee4bc939  3741cc1a8fd3d2ea5ddc59ba1766c0f5   \n",
       "\n",
       "        rt_arrival_sec   route_id                   shape_array_key  \\\n",
       "186728           17577  234-13172  6f33c9cd019664d5085f94294aeacfd3   \n",
       "186729           19418  234-13172  6f33c9cd019664d5085f94294aeacfd3   \n",
       "\n",
       "                                feed_key   route_long_name  direction_id  \\\n",
       "186728  608992664173210532aa3e6cc573be2f  Metro Local Line          1.00   \n",
       "186729  608992664173210532aa3e6cc573be2f  Metro Local Line          1.00   \n",
       "\n",
       "       route_primary_direction  frequency_in_minutes  delay  \n",
       "186728              Southbound                 14.42  -3.00  \n",
       "186729              Southbound                 14.42  38.00  "
      ]
     },
     "execution_count": 92,
     "metadata": {},
     "output_type": "execute_result"
    }
   ],
   "source": [
    "rt_stop_times4.loc[\n",
    "    (rt_stop_times4.schedule_gtfs_dataset_key == \"0666caf3ec1ecc96b74f4477ee4bc939\")\n",
    "    & (rt_stop_times4.shape_array_key == \"6f33c9cd019664d5085f94294aeacfd3\")\n",
    "    & (rt_stop_times4.route_id == \"234-13172\")\n",
    "    & (rt_stop_times4.direction_id == 1)\n",
    "    & (rt_stop_times4.stop_id == \"15383\")\n",
    "]"
   ]
  },
  {
   "cell_type": "code",
   "execution_count": 93,
   "id": "0e84b0ae-c08b-43bb-9c4c-253c4cee3fa1",
   "metadata": {},
   "outputs": [
    {
     "data": {
      "text/html": [
       "<div>\n",
       "<style scoped>\n",
       "    .dataframe tbody tr th:only-of-type {\n",
       "        vertical-align: middle;\n",
       "    }\n",
       "\n",
       "    .dataframe tbody tr th {\n",
       "        vertical-align: top;\n",
       "    }\n",
       "\n",
       "    .dataframe thead th {\n",
       "        text-align: right;\n",
       "    }\n",
       "</style>\n",
       "<table border=\"1\" class=\"dataframe\">\n",
       "  <thead>\n",
       "    <tr style=\"text-align: right;\">\n",
       "      <th></th>\n",
       "      <th>trip_id</th>\n",
       "      <th>stop_id</th>\n",
       "      <th>stop_sequence</th>\n",
       "      <th>scheduled_arrival_sec</th>\n",
       "      <th>schedule_gtfs_dataset_key</th>\n",
       "      <th>trip_instance_key</th>\n",
       "      <th>rt_arrival_sec</th>\n",
       "      <th>route_id</th>\n",
       "      <th>shape_array_key</th>\n",
       "      <th>feed_key</th>\n",
       "      <th>route_long_name</th>\n",
       "      <th>direction_id</th>\n",
       "      <th>route_primary_direction</th>\n",
       "      <th>frequency_in_minutes</th>\n",
       "      <th>delay</th>\n",
       "      <th>actual_headway</th>\n",
       "      <th>schd_headway</th>\n",
       "    </tr>\n",
       "  </thead>\n",
       "  <tbody>\n",
       "    <tr>\n",
       "      <th>186588</th>\n",
       "      <td>10234000780403-DEC23</td>\n",
       "      <td>15383</td>\n",
       "      <td>58</td>\n",
       "      <td>17580.00</td>\n",
       "      <td>0666caf3ec1ecc96b74f4477ee4bc939</td>\n",
       "      <td>bd2c7c473164147ae73920b7ea99c3b6</td>\n",
       "      <td>17577</td>\n",
       "      <td>234-13172</td>\n",
       "      <td>6f33c9cd019664d5085f94294aeacfd3</td>\n",
       "      <td>608992664173210532aa3e6cc573be2f</td>\n",
       "      <td>Metro Local Line</td>\n",
       "      <td>1.00</td>\n",
       "      <td>Southbound</td>\n",
       "      <td>14.42</td>\n",
       "      <td>-3.00</td>\n",
       "      <td>NaN</td>\n",
       "      <td>NaN</td>\n",
       "    </tr>\n",
       "    <tr>\n",
       "      <th>186589</th>\n",
       "      <td>10234000780433-DEC23</td>\n",
       "      <td>15383</td>\n",
       "      <td>58</td>\n",
       "      <td>19380.00</td>\n",
       "      <td>0666caf3ec1ecc96b74f4477ee4bc939</td>\n",
       "      <td>3741cc1a8fd3d2ea5ddc59ba1766c0f5</td>\n",
       "      <td>19418</td>\n",
       "      <td>234-13172</td>\n",
       "      <td>6f33c9cd019664d5085f94294aeacfd3</td>\n",
       "      <td>608992664173210532aa3e6cc573be2f</td>\n",
       "      <td>Metro Local Line</td>\n",
       "      <td>1.00</td>\n",
       "      <td>Southbound</td>\n",
       "      <td>14.42</td>\n",
       "      <td>38.00</td>\n",
       "      <td>1841.00</td>\n",
       "      <td>1800.00</td>\n",
       "    </tr>\n",
       "  </tbody>\n",
       "</table>\n",
       "</div>"
      ],
      "text/plain": [
       "                     trip_id stop_id  stop_sequence  scheduled_arrival_sec  \\\n",
       "186588  10234000780403-DEC23   15383             58               17580.00   \n",
       "186589  10234000780433-DEC23   15383             58               19380.00   \n",
       "\n",
       "               schedule_gtfs_dataset_key                 trip_instance_key  \\\n",
       "186588  0666caf3ec1ecc96b74f4477ee4bc939  bd2c7c473164147ae73920b7ea99c3b6   \n",
       "186589  0666caf3ec1ecc96b74f4477ee4bc939  3741cc1a8fd3d2ea5ddc59ba1766c0f5   \n",
       "\n",
       "        rt_arrival_sec   route_id                   shape_array_key  \\\n",
       "186588           17577  234-13172  6f33c9cd019664d5085f94294aeacfd3   \n",
       "186589           19418  234-13172  6f33c9cd019664d5085f94294aeacfd3   \n",
       "\n",
       "                                feed_key   route_long_name  direction_id  \\\n",
       "186588  608992664173210532aa3e6cc573be2f  Metro Local Line          1.00   \n",
       "186589  608992664173210532aa3e6cc573be2f  Metro Local Line          1.00   \n",
       "\n",
       "       route_primary_direction  frequency_in_minutes  delay  actual_headway  \\\n",
       "186588              Southbound                 14.42  -3.00             NaN   \n",
       "186589              Southbound                 14.42  38.00         1841.00   \n",
       "\n",
       "        schd_headway  \n",
       "186588           NaN  \n",
       "186589       1800.00  "
      ]
     },
     "execution_count": 93,
     "metadata": {},
     "output_type": "execute_result"
    }
   ],
   "source": [
    "rt_stop_times5.loc[\n",
    "    (rt_stop_times5.schedule_gtfs_dataset_key == \"0666caf3ec1ecc96b74f4477ee4bc939\")\n",
    "    & (rt_stop_times5.shape_array_key == \"6f33c9cd019664d5085f94294aeacfd3\")\n",
    "    & (rt_stop_times5.route_id == \"234-13172\")\n",
    "    & (rt_stop_times5.direction_id == 1)\n",
    "    & (rt_stop_times5.stop_id == \"15383\")\n",
    "]"
   ]
  },
  {
   "cell_type": "markdown",
   "id": "f6b1aa42-b307-4221-8f44-7059a74098e3",
   "metadata": {},
   "source": [
    "#### Merge"
   ]
  },
  {
   "cell_type": "code",
   "execution_count": 95,
   "id": "ef154dbf-8af8-468d-b0b9-57c4c0023458",
   "metadata": {},
   "outputs": [
    {
     "data": {
      "text/html": [
       "<div>\n",
       "<style scoped>\n",
       "    .dataframe tbody tr th:only-of-type {\n",
       "        vertical-align: middle;\n",
       "    }\n",
       "\n",
       "    .dataframe tbody tr th {\n",
       "        vertical-align: top;\n",
       "    }\n",
       "\n",
       "    .dataframe thead th {\n",
       "        text-align: right;\n",
       "    }\n",
       "</style>\n",
       "<table border=\"1\" class=\"dataframe\">\n",
       "  <thead>\n",
       "    <tr style=\"text-align: right;\">\n",
       "      <th></th>\n",
       "      <th>schedule_gtfs_dataset_key</th>\n",
       "      <th>route_id</th>\n",
       "      <th>shape_array_key</th>\n",
       "      <th>direction_id</th>\n",
       "      <th>route_primary_direction</th>\n",
       "      <th>stop_sequence</th>\n",
       "      <th>stop_id</th>\n",
       "      <th>std_dev_headway</th>\n",
       "    </tr>\n",
       "  </thead>\n",
       "  <tbody>\n",
       "    <tr>\n",
       "      <th>0</th>\n",
       "      <td>0666caf3ec1ecc96b74f4477ee4bc939</td>\n",
       "      <td>105-13172</td>\n",
       "      <td>46445899dfaef107a695f7a6af906c18</td>\n",
       "      <td>1.00</td>\n",
       "      <td>Eastbound</td>\n",
       "      <td>2</td>\n",
       "      <td>14261</td>\n",
       "      <td>9784.55</td>\n",
       "    </tr>\n",
       "  </tbody>\n",
       "</table>\n",
       "</div>"
      ],
      "text/plain": [
       "          schedule_gtfs_dataset_key   route_id  \\\n",
       "0  0666caf3ec1ecc96b74f4477ee4bc939  105-13172   \n",
       "\n",
       "                    shape_array_key  direction_id route_primary_direction  \\\n",
       "0  46445899dfaef107a695f7a6af906c18          1.00               Eastbound   \n",
       "\n",
       "   stop_sequence stop_id  std_dev_headway  \n",
       "0              2   14261          9784.55  "
      ]
     },
     "execution_count": 95,
     "metadata": {},
     "output_type": "execute_result"
    }
   ],
   "source": [
    "std_dev.head(1)"
   ]
  },
  {
   "cell_type": "code",
   "execution_count": 96,
   "id": "205da3bc-9401-418f-af8e-72b1895dd75b",
   "metadata": {},
   "outputs": [],
   "source": [
    "std_dev2 = std_dev.loc[~std_dev.std_dev_headway.isna()].reset_index(drop = True)"
   ]
  },
  {
   "cell_type": "code",
   "execution_count": 97,
   "id": "44023236-a5ed-412c-bd08-3c68b6a92faf",
   "metadata": {},
   "outputs": [],
   "source": [
    "m2 = pd.merge(\n",
    "    m1,\n",
    "    std_dev2,\n",
    "    on=groupby_cols,\n",
    ")"
   ]
  },
  {
   "cell_type": "markdown",
   "id": "d98ddbc8-fe35-4fc1-8980-4c9298295fe2",
   "metadata": {},
   "source": [
    "### Bunching coefficient is for the entire grain, rather than each row"
   ]
  },
  {
   "cell_type": "code",
   "execution_count": 98,
   "id": "0dd50953-19b9-473c-b072-7d47b686dbf1",
   "metadata": {},
   "outputs": [],
   "source": [
    "m2[\"bunching_coefficient\"] = m2.std_dev_headway / m2.avg_schd_headway_sec"
   ]
  },
  {
   "cell_type": "code",
   "execution_count": 99,
   "id": "ff8ed9e9-4575-4866-a38e-b8a554bf5dad",
   "metadata": {},
   "outputs": [
    {
     "data": {
      "text/plain": [
       "count   645728.00\n",
       "mean         0.72\n",
       "std          0.43\n",
       "min          0.00\n",
       "25%          0.47\n",
       "50%          0.63\n",
       "75%          0.79\n",
       "max          5.28\n",
       "Name: bunching_coefficient, dtype: float64"
      ]
     },
     "execution_count": 99,
     "metadata": {},
     "output_type": "execute_result"
    }
   ],
   "source": [
    "m2.bunching_coefficient.describe()"
   ]
  },
  {
   "cell_type": "code",
   "execution_count": 100,
   "id": "8beaaddc-6bf0-4ff2-917e-5a855feabe2b",
   "metadata": {},
   "outputs": [],
   "source": [
    "m2[\"avg_schd_headway_min\"] = m2.avg_schd_headway_sec / 60"
   ]
  },
  {
   "cell_type": "code",
   "execution_count": 101,
   "id": "4ea00728-6f29-4a58-9c4b-ced7c485c7f2",
   "metadata": {},
   "outputs": [],
   "source": [
    "m2[\"actual_headway_min\"] = m2.actual_headway / 60"
   ]
  },
  {
   "cell_type": "code",
   "execution_count": 102,
   "id": "b053889d-310e-4c22-b58d-e86fe6f4bbc5",
   "metadata": {},
   "outputs": [],
   "source": [
    "m2[\"sched_headway_min\"] = m2.schd_headway / 60"
   ]
  },
  {
   "cell_type": "markdown",
   "id": "eb72e7ad-08b0-4918-9629-87d213404ce8",
   "metadata": {},
   "source": [
    "### Retain only one row for the grain"
   ]
  },
  {
   "cell_type": "code",
   "execution_count": 104,
   "id": "f91fe6e5-9a03-48ad-a1ec-dedb3c0c7a2e",
   "metadata": {},
   "outputs": [],
   "source": [
    "bunching_by_stops = (\n",
    "    m2.drop_duplicates(subset=groupby_cols)\n",
    "    .reset_index(drop=True)\n",
    "    .drop(columns=[\"actual_headway\", \"actual_headway_min\", \"sched_headway_min\"])\n",
    ")"
   ]
  },
  {
   "cell_type": "code",
   "execution_count": 106,
   "id": "8d5f66bb-6e25-4548-afb9-7603ae794cf4",
   "metadata": {},
   "outputs": [
    {
     "data": {
      "text/plain": [
       "17781"
      ]
     },
     "execution_count": 106,
     "metadata": {},
     "output_type": "execute_result"
    }
   ],
   "source": [
    "len(bunching_by_stops)"
   ]
  },
  {
   "cell_type": "code",
   "execution_count": 107,
   "id": "67a7eb7c-1662-482a-8adc-28353e7ccacc",
   "metadata": {},
   "outputs": [
    {
     "name": "stdout",
     "output_type": "stream",
     "text": [
      "<class 'pandas.core.frame.DataFrame'>\n",
      "RangeIndex: 17781 entries, 0 to 17780\n",
      "Data columns (total 20 columns):\n",
      " #   Column                     Non-Null Count  Dtype  \n",
      "---  ------                     --------------  -----  \n",
      " 0   trip_id                    17781 non-null  object \n",
      " 1   stop_id                    17781 non-null  object \n",
      " 2   stop_sequence              17781 non-null  int64  \n",
      " 3   scheduled_arrival_sec      17781 non-null  float64\n",
      " 4   schedule_gtfs_dataset_key  17781 non-null  object \n",
      " 5   trip_instance_key          17781 non-null  object \n",
      " 6   rt_arrival_sec             17781 non-null  int64  \n",
      " 7   route_id                   17781 non-null  object \n",
      " 8   shape_array_key            17781 non-null  object \n",
      " 9   feed_key                   17781 non-null  object \n",
      " 10  route_long_name            17781 non-null  object \n",
      " 11  direction_id               17781 non-null  float64\n",
      " 12  route_primary_direction    17781 non-null  object \n",
      " 13  frequency_in_minutes       17781 non-null  float64\n",
      " 14  delay                      17781 non-null  float64\n",
      " 15  schd_headway               17781 non-null  float64\n",
      " 16  avg_schd_headway_sec       17781 non-null  float64\n",
      " 17  std_dev_headway            17781 non-null  float64\n",
      " 18  bunching_coefficient       17781 non-null  float64\n",
      " 19  avg_schd_headway_min       17781 non-null  float64\n",
      "dtypes: float64(9), int64(2), object(9)\n",
      "memory usage: 2.7+ MB\n"
     ]
    }
   ],
   "source": [
    "bunching_by_stops.info()"
   ]
  },
  {
   "cell_type": "markdown",
   "id": "ab42cf29-d84c-4b54-9321-cd9f47e4c97a",
   "metadata": {},
   "source": [
    "### Bunching Coefficient"
   ]
  },
  {
   "cell_type": "code",
   "execution_count": 108,
   "id": "5e0595a1-13b6-4b2a-b633-907af8aa579d",
   "metadata": {},
   "outputs": [],
   "source": [
    "def coefficient_frequency(row):\n",
    "    if row.bunching_coefficient <= 0.21:\n",
    "        return \"Service provided like clockwork\"\n",
    "    elif 0.21 < row.bunching_coefficient <= 0.3:\n",
    "        return \"Vehicles slightly off headway\"\n",
    "    elif 0.3 < row.bunching_coefficient <= 0.39:\n",
    "        return \"Vehicles often off headway\"\n",
    "    elif 0.39 < row.bunching_coefficient <= 0.52:\n",
    "        return \"Irregular headways, with some bunching\"\n",
    "    elif 0.52 < row.bunching_coefficient <= 0.74:\n",
    "        return \"Frequent bunching\"\n",
    "    else:\n",
    "        return \"Most vehicles bunched\"\n",
    "\n",
    "\n",
    "bunching_by_stops[\"passenger_op_perspective\"] = bunching_by_stops.apply(\n",
    "    lambda x: coefficient_frequency(x), axis=1\n",
    ")"
   ]
  },
  {
   "cell_type": "code",
   "execution_count": 109,
   "id": "b9ece34e-5ad6-4137-93d4-68db20b9762b",
   "metadata": {},
   "outputs": [
    {
     "data": {
      "text/plain": [
       "Most vehicles bunched                    0.35\n",
       "Frequent bunching                        0.25\n",
       "Irregular headways, with some bunching   0.18\n",
       "Vehicles often off headway               0.09\n",
       "Service provided like clockwork          0.09\n",
       "Vehicles slightly off headway            0.04\n",
       "Name: passenger_op_perspective, dtype: float64"
      ]
     },
     "execution_count": 109,
     "metadata": {},
     "output_type": "execute_result"
    }
   ],
   "source": [
    "bunching_by_stops.passenger_op_perspective.value_counts() / len(bunching_by_stops)"
   ]
  },
  {
   "cell_type": "markdown",
   "id": "b81db961-1f00-421c-b785-4aa686e870f2",
   "metadata": {},
   "source": [
    "### Missing Routes\n",
    "* These routes and trips weren't found in the `stop_times` dataset."
   ]
  },
  {
   "cell_type": "code",
   "execution_count": 110,
   "id": "d4df0c20-b3fb-4f9f-aecb-d925f2532fe4",
   "metadata": {},
   "outputs": [
    {
     "data": {
      "text/plain": [
       "{'Beige-N',\n",
       " 'Beige-S',\n",
       " 'Blue Line',\n",
       " 'Lot D',\n",
       " 'Red Line',\n",
       " 'West Field Garage',\n",
       " 'eastvalley',\n",
       " 'mposa'}"
      ]
     },
     "execution_count": 110,
     "metadata": {},
     "output_type": "execute_result"
    }
   ],
   "source": [
    "high_freq_routes = set(high_frequency_routes2.route_id.unique().tolist())\n",
    "remaining_routes = set(bunching_by_stops.route_id.unique().tolist())\n",
    "high_freq_routes - remaining_routes"
   ]
  },
  {
   "cell_type": "code",
   "execution_count": 111,
   "id": "34d0b206-5fe7-4a20-b9ff-5f76b22f02a6",
   "metadata": {},
   "outputs": [
    {
     "data": {
      "text/html": [
       "<div>\n",
       "<style scoped>\n",
       "    .dataframe tbody tr th:only-of-type {\n",
       "        vertical-align: middle;\n",
       "    }\n",
       "\n",
       "    .dataframe tbody tr th {\n",
       "        vertical-align: top;\n",
       "    }\n",
       "\n",
       "    .dataframe thead th {\n",
       "        text-align: right;\n",
       "    }\n",
       "</style>\n",
       "<table border=\"1\" class=\"dataframe\">\n",
       "  <thead>\n",
       "    <tr style=\"text-align: right;\">\n",
       "      <th></th>\n",
       "      <th>schedule_gtfs_dataset_key</th>\n",
       "      <th>route_id</th>\n",
       "      <th>direction_id</th>\n",
       "      <th>route_primary_direction</th>\n",
       "      <th>frequency_in_minutes</th>\n",
       "    </tr>\n",
       "  </thead>\n",
       "  <tbody>\n",
       "    <tr>\n",
       "      <th>597</th>\n",
       "      <td>2ff70dd1151d7532db40436f8228cd33</td>\n",
       "      <td>West Field Garage</td>\n",
       "      <td>0.00</td>\n",
       "      <td>Eastbound</td>\n",
       "      <td>10.00</td>\n",
       "    </tr>\n",
       "  </tbody>\n",
       "</table>\n",
       "</div>"
      ],
      "text/plain": [
       "            schedule_gtfs_dataset_key           route_id  direction_id  \\\n",
       "597  2ff70dd1151d7532db40436f8228cd33  West Field Garage          0.00   \n",
       "\n",
       "    route_primary_direction  frequency_in_minutes  \n",
       "597               Eastbound                 10.00  "
      ]
     },
     "execution_count": 111,
     "metadata": {},
     "output_type": "execute_result"
    }
   ],
   "source": [
    "high_frequency_routes2.loc[\n",
    "    high_frequency_routes2.route_id == \"West Field Garage\"\n",
    "].head()"
   ]
  },
  {
   "cell_type": "markdown",
   "id": "71192c42-6af6-4c74-9a00-f2a558eb8030",
   "metadata": {},
   "source": [
    "#### Check out one route"
   ]
  },
  {
   "cell_type": "code",
   "execution_count": 112,
   "id": "5508346c-442a-4f22-9bc3-1037cb1e727b",
   "metadata": {},
   "outputs": [
    {
     "data": {
      "text/html": [
       "<div>\n",
       "<style scoped>\n",
       "    .dataframe tbody tr th:only-of-type {\n",
       "        vertical-align: middle;\n",
       "    }\n",
       "\n",
       "    .dataframe tbody tr th {\n",
       "        vertical-align: top;\n",
       "    }\n",
       "\n",
       "    .dataframe thead th {\n",
       "        text-align: right;\n",
       "    }\n",
       "</style>\n",
       "<table border=\"1\" class=\"dataframe\">\n",
       "  <thead>\n",
       "    <tr style=\"text-align: right;\">\n",
       "      <th></th>\n",
       "      <th>trip_id</th>\n",
       "      <th>stop_id</th>\n",
       "      <th>stop_sequence</th>\n",
       "      <th>scheduled_arrival_sec</th>\n",
       "      <th>schedule_gtfs_dataset_key</th>\n",
       "      <th>trip_instance_key</th>\n",
       "      <th>rt_arrival_sec</th>\n",
       "      <th>route_id</th>\n",
       "      <th>shape_array_key</th>\n",
       "      <th>feed_key</th>\n",
       "      <th>route_long_name</th>\n",
       "      <th>direction_id</th>\n",
       "      <th>route_primary_direction</th>\n",
       "      <th>frequency_in_minutes</th>\n",
       "    </tr>\n",
       "  </thead>\n",
       "  <tbody>\n",
       "  </tbody>\n",
       "</table>\n",
       "</div>"
      ],
      "text/plain": [
       "Empty DataFrame\n",
       "Columns: [trip_id, stop_id, stop_sequence, scheduled_arrival_sec, schedule_gtfs_dataset_key, trip_instance_key, rt_arrival_sec, route_id, shape_array_key, feed_key, route_long_name, direction_id, route_primary_direction, frequency_in_minutes]\n",
       "Index: []"
      ]
     },
     "execution_count": 112,
     "metadata": {},
     "output_type": "execute_result"
    }
   ],
   "source": [
    "rt_stop_times2.loc[rt_stop_times2.route_id == \"West Field Garage\"].head(1)"
   ]
  },
  {
   "cell_type": "code",
   "execution_count": 113,
   "id": "7ec57b66-9600-4667-9fad-114c5d570cd1",
   "metadata": {},
   "outputs": [
    {
     "data": {
      "text/html": [
       "<div>\n",
       "<style scoped>\n",
       "    .dataframe tbody tr th:only-of-type {\n",
       "        vertical-align: middle;\n",
       "    }\n",
       "\n",
       "    .dataframe tbody tr th {\n",
       "        vertical-align: top;\n",
       "    }\n",
       "\n",
       "    .dataframe thead th {\n",
       "        text-align: right;\n",
       "    }\n",
       "</style>\n",
       "<table border=\"1\" class=\"dataframe\">\n",
       "  <thead>\n",
       "    <tr style=\"text-align: right;\">\n",
       "      <th></th>\n",
       "      <th>trip_id</th>\n",
       "      <th>stop_id</th>\n",
       "      <th>stop_sequence</th>\n",
       "      <th>scheduled_arrival_sec</th>\n",
       "      <th>schedule_gtfs_dataset_key</th>\n",
       "      <th>trip_instance_key</th>\n",
       "      <th>rt_arrival_sec</th>\n",
       "      <th>route_id</th>\n",
       "      <th>shape_array_key</th>\n",
       "      <th>feed_key</th>\n",
       "      <th>route_long_name</th>\n",
       "      <th>direction_id</th>\n",
       "      <th>route_primary_direction</th>\n",
       "      <th>frequency_in_minutes</th>\n",
       "    </tr>\n",
       "  </thead>\n",
       "  <tbody>\n",
       "  </tbody>\n",
       "</table>\n",
       "</div>"
      ],
      "text/plain": [
       "Empty DataFrame\n",
       "Columns: [trip_id, stop_id, stop_sequence, scheduled_arrival_sec, schedule_gtfs_dataset_key, trip_instance_key, rt_arrival_sec, route_id, shape_array_key, feed_key, route_long_name, direction_id, route_primary_direction, frequency_in_minutes]\n",
       "Index: []"
      ]
     },
     "execution_count": 113,
     "metadata": {},
     "output_type": "execute_result"
    }
   ],
   "source": [
    "rt_stop_times2.loc[rt_stop_times2.route_id == \"eastvalley\"].head(1)"
   ]
  },
  {
   "cell_type": "code",
   "execution_count": 114,
   "id": "37422b12-4ef4-4e5e-8388-5ff91e25d04a",
   "metadata": {},
   "outputs": [
    {
     "data": {
      "text/html": [
       "<div>\n",
       "<style scoped>\n",
       "    .dataframe tbody tr th:only-of-type {\n",
       "        vertical-align: middle;\n",
       "    }\n",
       "\n",
       "    .dataframe tbody tr th {\n",
       "        vertical-align: top;\n",
       "    }\n",
       "\n",
       "    .dataframe thead th {\n",
       "        text-align: right;\n",
       "    }\n",
       "</style>\n",
       "<table border=\"1\" class=\"dataframe\">\n",
       "  <thead>\n",
       "    <tr style=\"text-align: right;\">\n",
       "      <th></th>\n",
       "      <th>schedule_gtfs_dataset_key</th>\n",
       "      <th>route_id</th>\n",
       "      <th>trip_instance_key</th>\n",
       "      <th>shape_array_key</th>\n",
       "      <th>feed_key</th>\n",
       "      <th>route_long_name</th>\n",
       "      <th>direction_id</th>\n",
       "      <th>route_primary_direction</th>\n",
       "      <th>frequency_in_minutes</th>\n",
       "    </tr>\n",
       "  </thead>\n",
       "  <tbody>\n",
       "    <tr>\n",
       "      <th>19915</th>\n",
       "      <td>31152914d10e2d0977b8b2fabb167922</td>\n",
       "      <td>eastvalley</td>\n",
       "      <td>77a45a5bbd6e7b87ef670d90e16fdbc3</td>\n",
       "      <td>aebd18679bd2170ee61d7522bcfc11ab</td>\n",
       "      <td>7900b8b29688af30a699822f84ae2753</td>\n",
       "      <td>East Valley Shuttle</td>\n",
       "      <td>1.00</td>\n",
       "      <td>Eastbound</td>\n",
       "      <td>16.05</td>\n",
       "    </tr>\n",
       "  </tbody>\n",
       "</table>\n",
       "</div>"
      ],
      "text/plain": [
       "              schedule_gtfs_dataset_key    route_id  \\\n",
       "19915  31152914d10e2d0977b8b2fabb167922  eastvalley   \n",
       "\n",
       "                      trip_instance_key                   shape_array_key  \\\n",
       "19915  77a45a5bbd6e7b87ef670d90e16fdbc3  aebd18679bd2170ee61d7522bcfc11ab   \n",
       "\n",
       "                               feed_key      route_long_name  direction_id  \\\n",
       "19915  7900b8b29688af30a699822f84ae2753  East Valley Shuttle          1.00   \n",
       "\n",
       "      route_primary_direction  frequency_in_minutes  \n",
       "19915               Eastbound                 16.05  "
      ]
     },
     "execution_count": 114,
     "metadata": {},
     "output_type": "execute_result"
    }
   ],
   "source": [
    "trips_freq_routes.loc[trips_freq_routes.route_id == \"eastvalley\"].head(1)"
   ]
  },
  {
   "cell_type": "code",
   "execution_count": 116,
   "id": "5b0fae1c-828b-47e8-8188-4f58cdc901f9",
   "metadata": {},
   "outputs": [
    {
     "data": {
      "text/html": [
       "<div>\n",
       "<style scoped>\n",
       "    .dataframe tbody tr th:only-of-type {\n",
       "        vertical-align: middle;\n",
       "    }\n",
       "\n",
       "    .dataframe tbody tr th {\n",
       "        vertical-align: top;\n",
       "    }\n",
       "\n",
       "    .dataframe thead th {\n",
       "        text-align: right;\n",
       "    }\n",
       "</style>\n",
       "<table border=\"1\" class=\"dataframe\">\n",
       "  <thead>\n",
       "    <tr style=\"text-align: right;\">\n",
       "      <th></th>\n",
       "      <th>trip_id</th>\n",
       "      <th>stop_id</th>\n",
       "      <th>stop_sequence</th>\n",
       "      <th>scheduled_arrival_sec</th>\n",
       "      <th>schedule_gtfs_dataset_key</th>\n",
       "      <th>trip_instance_key</th>\n",
       "      <th>rt_arrival_sec</th>\n",
       "    </tr>\n",
       "  </thead>\n",
       "  <tbody>\n",
       "  </tbody>\n",
       "</table>\n",
       "</div>"
      ],
      "text/plain": [
       "Empty DataFrame\n",
       "Columns: [trip_id, stop_id, stop_sequence, scheduled_arrival_sec, schedule_gtfs_dataset_key, trip_instance_key, rt_arrival_sec]\n",
       "Index: []"
      ]
     },
     "execution_count": 116,
     "metadata": {},
     "output_type": "execute_result"
    }
   ],
   "source": [
    "rt_stop_times.loc[\n",
    "    (rt_stop_times.trip_instance_key == \"77a45a5bbd6e7b87ef670d90e16fdbc3\")\n",
    "]"
   ]
  },
  {
   "cell_type": "code",
   "execution_count": 115,
   "id": "3e27a3c0-7573-4c1a-abf8-79364d9fd8c9",
   "metadata": {},
   "outputs": [
    {
     "data": {
      "text/html": [
       "<div>\n",
       "<style scoped>\n",
       "    .dataframe tbody tr th:only-of-type {\n",
       "        vertical-align: middle;\n",
       "    }\n",
       "\n",
       "    .dataframe tbody tr th {\n",
       "        vertical-align: top;\n",
       "    }\n",
       "\n",
       "    .dataframe thead th {\n",
       "        text-align: right;\n",
       "    }\n",
       "</style>\n",
       "<table border=\"1\" class=\"dataframe\">\n",
       "  <thead>\n",
       "    <tr style=\"text-align: right;\">\n",
       "      <th></th>\n",
       "      <th>trip_id</th>\n",
       "      <th>stop_id</th>\n",
       "      <th>stop_sequence</th>\n",
       "      <th>scheduled_arrival_sec</th>\n",
       "      <th>schedule_gtfs_dataset_key</th>\n",
       "      <th>trip_instance_key</th>\n",
       "      <th>rt_arrival_sec</th>\n",
       "      <th>route_id</th>\n",
       "      <th>shape_array_key</th>\n",
       "      <th>feed_key</th>\n",
       "      <th>route_long_name</th>\n",
       "      <th>direction_id</th>\n",
       "      <th>route_primary_direction</th>\n",
       "      <th>frequency_in_minutes</th>\n",
       "    </tr>\n",
       "  </thead>\n",
       "  <tbody>\n",
       "  </tbody>\n",
       "</table>\n",
       "</div>"
      ],
      "text/plain": [
       "Empty DataFrame\n",
       "Columns: [trip_id, stop_id, stop_sequence, scheduled_arrival_sec, schedule_gtfs_dataset_key, trip_instance_key, rt_arrival_sec, route_id, shape_array_key, feed_key, route_long_name, direction_id, route_primary_direction, frequency_in_minutes]\n",
       "Index: []"
      ]
     },
     "execution_count": 115,
     "metadata": {},
     "output_type": "execute_result"
    }
   ],
   "source": [
    "rt_stop_times2.loc[\n",
    "    (rt_stop_times2.trip_instance_key == \"77a45a5bbd6e7b87ef670d90e16fdbc3\")\n",
    "]"
   ]
  },
  {
   "cell_type": "markdown",
   "id": "4203f8de-1d1f-484f-82b8-d1d3908d3b79",
   "metadata": {},
   "source": [
    "#### Second Route"
   ]
  },
  {
   "cell_type": "code",
   "execution_count": 117,
   "id": "25c9d598-1334-4cbc-a628-48febf86eddf",
   "metadata": {},
   "outputs": [
    {
     "data": {
      "text/html": [
       "<div>\n",
       "<style scoped>\n",
       "    .dataframe tbody tr th:only-of-type {\n",
       "        vertical-align: middle;\n",
       "    }\n",
       "\n",
       "    .dataframe tbody tr th {\n",
       "        vertical-align: top;\n",
       "    }\n",
       "\n",
       "    .dataframe thead th {\n",
       "        text-align: right;\n",
       "    }\n",
       "</style>\n",
       "<table border=\"1\" class=\"dataframe\">\n",
       "  <thead>\n",
       "    <tr style=\"text-align: right;\">\n",
       "      <th></th>\n",
       "      <th>schedule_gtfs_dataset_key</th>\n",
       "      <th>route_id</th>\n",
       "      <th>trip_instance_key</th>\n",
       "      <th>shape_array_key</th>\n",
       "      <th>feed_key</th>\n",
       "      <th>route_long_name</th>\n",
       "      <th>direction_id</th>\n",
       "      <th>route_primary_direction</th>\n",
       "      <th>frequency_in_minutes</th>\n",
       "    </tr>\n",
       "  </thead>\n",
       "  <tbody>\n",
       "    <tr>\n",
       "      <th>2415</th>\n",
       "      <td>8a1405af8da1379acc062e346187ac98</td>\n",
       "      <td>Beige-S</td>\n",
       "      <td>bd9b3aed0f38a75885179e6eaeba1f4a</td>\n",
       "      <td>93312729ad2928439c75cbbd97191b66</td>\n",
       "      <td>3e22f1090d0d12096ee943c621298225</td>\n",
       "      <td>Coliseum to Oakland Airport</td>\n",
       "      <td>1.00</td>\n",
       "      <td>Southbound</td>\n",
       "      <td>7.90</td>\n",
       "    </tr>\n",
       "    <tr>\n",
       "      <th>2297</th>\n",
       "      <td>8a1405af8da1379acc062e346187ac98</td>\n",
       "      <td>Beige-S</td>\n",
       "      <td>e958e7d45ee5388470df5b80d0291cba</td>\n",
       "      <td>93312729ad2928439c75cbbd97191b66</td>\n",
       "      <td>3e22f1090d0d12096ee943c621298225</td>\n",
       "      <td>Coliseum to Oakland Airport</td>\n",
       "      <td>1.00</td>\n",
       "      <td>Southbound</td>\n",
       "      <td>7.90</td>\n",
       "    </tr>\n",
       "  </tbody>\n",
       "</table>\n",
       "</div>"
      ],
      "text/plain": [
       "             schedule_gtfs_dataset_key route_id  \\\n",
       "2415  8a1405af8da1379acc062e346187ac98  Beige-S   \n",
       "2297  8a1405af8da1379acc062e346187ac98  Beige-S   \n",
       "\n",
       "                     trip_instance_key                   shape_array_key  \\\n",
       "2415  bd9b3aed0f38a75885179e6eaeba1f4a  93312729ad2928439c75cbbd97191b66   \n",
       "2297  e958e7d45ee5388470df5b80d0291cba  93312729ad2928439c75cbbd97191b66   \n",
       "\n",
       "                              feed_key              route_long_name  \\\n",
       "2415  3e22f1090d0d12096ee943c621298225  Coliseum to Oakland Airport   \n",
       "2297  3e22f1090d0d12096ee943c621298225  Coliseum to Oakland Airport   \n",
       "\n",
       "      direction_id route_primary_direction  frequency_in_minutes  \n",
       "2415          1.00              Southbound                  7.90  \n",
       "2297          1.00              Southbound                  7.90  "
      ]
     },
     "execution_count": 117,
     "metadata": {},
     "output_type": "execute_result"
    }
   ],
   "source": [
    "trips_freq_routes.loc[trips_freq_routes.route_id == \"Beige-S\"].sample(2)"
   ]
  },
  {
   "cell_type": "code",
   "execution_count": 118,
   "id": "a8bbb8d6-f285-4c91-bb73-16dc89071f43",
   "metadata": {},
   "outputs": [
    {
     "data": {
      "text/html": [
       "<div>\n",
       "<style scoped>\n",
       "    .dataframe tbody tr th:only-of-type {\n",
       "        vertical-align: middle;\n",
       "    }\n",
       "\n",
       "    .dataframe tbody tr th {\n",
       "        vertical-align: top;\n",
       "    }\n",
       "\n",
       "    .dataframe thead th {\n",
       "        text-align: right;\n",
       "    }\n",
       "</style>\n",
       "<table border=\"1\" class=\"dataframe\">\n",
       "  <thead>\n",
       "    <tr style=\"text-align: right;\">\n",
       "      <th></th>\n",
       "      <th>trip_id</th>\n",
       "      <th>stop_id</th>\n",
       "      <th>stop_sequence</th>\n",
       "      <th>scheduled_arrival_sec</th>\n",
       "      <th>schedule_gtfs_dataset_key</th>\n",
       "      <th>trip_instance_key</th>\n",
       "      <th>rt_arrival_sec</th>\n",
       "      <th>route_id</th>\n",
       "      <th>shape_array_key</th>\n",
       "      <th>feed_key</th>\n",
       "      <th>route_long_name</th>\n",
       "      <th>direction_id</th>\n",
       "      <th>route_primary_direction</th>\n",
       "      <th>frequency_in_minutes</th>\n",
       "    </tr>\n",
       "  </thead>\n",
       "  <tbody>\n",
       "  </tbody>\n",
       "</table>\n",
       "</div>"
      ],
      "text/plain": [
       "Empty DataFrame\n",
       "Columns: [trip_id, stop_id, stop_sequence, scheduled_arrival_sec, schedule_gtfs_dataset_key, trip_instance_key, rt_arrival_sec, route_id, shape_array_key, feed_key, route_long_name, direction_id, route_primary_direction, frequency_in_minutes]\n",
       "Index: []"
      ]
     },
     "execution_count": 118,
     "metadata": {},
     "output_type": "execute_result"
    }
   ],
   "source": [
    "rt_stop_times2.loc[\n",
    "    (rt_stop_times2.trip_instance_key == \"96e2844c6ce2bcc5ede547c32c220efb\")\n",
    "]"
   ]
  },
  {
   "cell_type": "code",
   "execution_count": 119,
   "id": "b37e2d7a-52ae-41e9-8474-9e193b67b2c8",
   "metadata": {},
   "outputs": [
    {
     "data": {
      "text/html": [
       "<div>\n",
       "<style scoped>\n",
       "    .dataframe tbody tr th:only-of-type {\n",
       "        vertical-align: middle;\n",
       "    }\n",
       "\n",
       "    .dataframe tbody tr th {\n",
       "        vertical-align: top;\n",
       "    }\n",
       "\n",
       "    .dataframe thead th {\n",
       "        text-align: right;\n",
       "    }\n",
       "</style>\n",
       "<table border=\"1\" class=\"dataframe\">\n",
       "  <thead>\n",
       "    <tr style=\"text-align: right;\">\n",
       "      <th></th>\n",
       "      <th>trip_id</th>\n",
       "      <th>stop_id</th>\n",
       "      <th>stop_sequence</th>\n",
       "      <th>scheduled_arrival_sec</th>\n",
       "      <th>schedule_gtfs_dataset_key</th>\n",
       "      <th>trip_instance_key</th>\n",
       "      <th>rt_arrival_sec</th>\n",
       "      <th>route_id</th>\n",
       "      <th>shape_array_key</th>\n",
       "      <th>feed_key</th>\n",
       "      <th>route_long_name</th>\n",
       "      <th>direction_id</th>\n",
       "      <th>route_primary_direction</th>\n",
       "      <th>frequency_in_minutes</th>\n",
       "    </tr>\n",
       "  </thead>\n",
       "  <tbody>\n",
       "  </tbody>\n",
       "</table>\n",
       "</div>"
      ],
      "text/plain": [
       "Empty DataFrame\n",
       "Columns: [trip_id, stop_id, stop_sequence, scheduled_arrival_sec, schedule_gtfs_dataset_key, trip_instance_key, rt_arrival_sec, route_id, shape_array_key, feed_key, route_long_name, direction_id, route_primary_direction, frequency_in_minutes]\n",
       "Index: []"
      ]
     },
     "execution_count": 119,
     "metadata": {},
     "output_type": "execute_result"
    }
   ],
   "source": [
    "rt_stop_times2.loc[\n",
    "    (rt_stop_times2.trip_instance_key == \"4f9e575f015b6bf05e69af9da50d9579\")\n",
    "]"
   ]
  },
  {
   "cell_type": "markdown",
   "id": "cf41d925-a7d5-48e2-8e48-ef1b09752b6d",
   "metadata": {},
   "source": [
    "### SF Muni Fillmore Test"
   ]
  },
  {
   "cell_type": "code",
   "execution_count": 120,
   "id": "f0cd0242-5605-4fe8-ab72-21bdf8cd432b",
   "metadata": {},
   "outputs": [],
   "source": [
    "more_values = [\n",
    "    \"scheduled_arrival_sec\",\n",
    "    \"std_dev_headway\",\n",
    "    \"avg_schd_headway_sec\",\n",
    "    \"schd_headway\",\n",
    "    \"rt_arrival_sec\",\n",
    "]"
   ]
  },
  {
   "cell_type": "code",
   "execution_count": 121,
   "id": "899bd6e4-02be-43f4-931b-872072960cc6",
   "metadata": {},
   "outputs": [],
   "source": [
    "drop_for_preview = drop_for_preview + more_values"
   ]
  },
  {
   "cell_type": "code",
   "execution_count": 122,
   "id": "480ca3cd-592d-4f2a-9984-015d6b598871",
   "metadata": {},
   "outputs": [],
   "source": [
    "fillmore = bunching_by_stops.loc[bunching_by_stops.route_long_name == \"FILLMORE\"]"
   ]
  },
  {
   "cell_type": "code",
   "execution_count": 124,
   "id": "6a05dfcc-f938-44ce-80e3-09c9279a1cb5",
   "metadata": {},
   "outputs": [
    {
     "data": {
      "text/plain": [
       "Most vehicles bunched                    0.82\n",
       "Frequent bunching                        0.16\n",
       "Irregular headways, with some bunching   0.01\n",
       "Vehicles slightly off headway            0.01\n",
       "Service provided like clockwork          0.01\n",
       "Name: passenger_op_perspective, dtype: float64"
      ]
     },
     "execution_count": 124,
     "metadata": {},
     "output_type": "execute_result"
    }
   ],
   "source": [
    "fillmore.passenger_op_perspective.value_counts()/len(fillmore)"
   ]
  },
  {
   "cell_type": "code",
   "execution_count": 133,
   "id": "ae2c6c27-f4f7-421c-8e92-c95e5dc0ba5b",
   "metadata": {},
   "outputs": [
    {
     "data": {
      "text/html": [
       "<div>\n",
       "<style scoped>\n",
       "    .dataframe tbody tr th:only-of-type {\n",
       "        vertical-align: middle;\n",
       "    }\n",
       "\n",
       "    .dataframe tbody tr th {\n",
       "        vertical-align: top;\n",
       "    }\n",
       "\n",
       "    .dataframe thead th {\n",
       "        text-align: right;\n",
       "    }\n",
       "</style>\n",
       "<table border=\"1\" class=\"dataframe\">\n",
       "  <thead>\n",
       "    <tr style=\"text-align: right;\">\n",
       "      <th></th>\n",
       "      <th>trip_id</th>\n",
       "      <th>stop_id</th>\n",
       "      <th>stop_sequence</th>\n",
       "      <th>scheduled_arrival_sec</th>\n",
       "      <th>schedule_gtfs_dataset_key</th>\n",
       "      <th>trip_instance_key</th>\n",
       "      <th>rt_arrival_sec</th>\n",
       "      <th>route_id</th>\n",
       "      <th>shape_array_key</th>\n",
       "      <th>feed_key</th>\n",
       "      <th>route_long_name</th>\n",
       "      <th>direction_id</th>\n",
       "      <th>route_primary_direction</th>\n",
       "      <th>frequency_in_minutes</th>\n",
       "      <th>delay</th>\n",
       "      <th>schd_headway</th>\n",
       "      <th>avg_schd_headway_sec</th>\n",
       "      <th>std_dev_headway</th>\n",
       "      <th>bunching_coefficient</th>\n",
       "      <th>avg_schd_headway_min</th>\n",
       "      <th>passenger_op_perspective</th>\n",
       "    </tr>\n",
       "  </thead>\n",
       "  <tbody>\n",
       "    <tr>\n",
       "      <th>13583</th>\n",
       "      <td>11490047_M31</td>\n",
       "      <td>17768</td>\n",
       "      <td>6</td>\n",
       "      <td>67722.00</td>\n",
       "      <td>7cc0cb1871dfd558f11a2885c145d144</td>\n",
       "      <td>51672d1ed74ce3e66e4bfc273e6e9931</td>\n",
       "      <td>67988</td>\n",
       "      <td>22</td>\n",
       "      <td>fefbc78a6cf676d7fbd1d25b61ef7bfb</td>\n",
       "      <td>7f69c2fdaa134642f14064a0b64d1495</td>\n",
       "      <td>FILLMORE</td>\n",
       "      <td>1.00</td>\n",
       "      <td>Northbound</td>\n",
       "      <td>7.60</td>\n",
       "      <td>266.00</td>\n",
       "      <td>25969.00</td>\n",
       "      <td>10029.50</td>\n",
       "      <td>11270.50</td>\n",
       "      <td>1.12</td>\n",
       "      <td>167.16</td>\n",
       "      <td>Most vehicles bunched</td>\n",
       "    </tr>\n",
       "    <tr>\n",
       "      <th>13584</th>\n",
       "      <td>11490047_M31</td>\n",
       "      <td>17769</td>\n",
       "      <td>7</td>\n",
       "      <td>67772.00</td>\n",
       "      <td>7cc0cb1871dfd558f11a2885c145d144</td>\n",
       "      <td>51672d1ed74ce3e66e4bfc273e6e9931</td>\n",
       "      <td>68087</td>\n",
       "      <td>22</td>\n",
       "      <td>fefbc78a6cf676d7fbd1d25b61ef7bfb</td>\n",
       "      <td>7f69c2fdaa134642f14064a0b64d1495</td>\n",
       "      <td>FILLMORE</td>\n",
       "      <td>1.00</td>\n",
       "      <td>Northbound</td>\n",
       "      <td>7.60</td>\n",
       "      <td>315.00</td>\n",
       "      <td>25957.00</td>\n",
       "      <td>10023.50</td>\n",
       "      <td>11333.78</td>\n",
       "      <td>1.13</td>\n",
       "      <td>167.06</td>\n",
       "      <td>Most vehicles bunched</td>\n",
       "    </tr>\n",
       "  </tbody>\n",
       "</table>\n",
       "</div>"
      ],
      "text/plain": [
       "            trip_id stop_id  stop_sequence  scheduled_arrival_sec  \\\n",
       "13583  11490047_M31   17768              6               67722.00   \n",
       "13584  11490047_M31   17769              7               67772.00   \n",
       "\n",
       "              schedule_gtfs_dataset_key                 trip_instance_key  \\\n",
       "13583  7cc0cb1871dfd558f11a2885c145d144  51672d1ed74ce3e66e4bfc273e6e9931   \n",
       "13584  7cc0cb1871dfd558f11a2885c145d144  51672d1ed74ce3e66e4bfc273e6e9931   \n",
       "\n",
       "       rt_arrival_sec route_id                   shape_array_key  \\\n",
       "13583           67988       22  fefbc78a6cf676d7fbd1d25b61ef7bfb   \n",
       "13584           68087       22  fefbc78a6cf676d7fbd1d25b61ef7bfb   \n",
       "\n",
       "                               feed_key route_long_name  direction_id  \\\n",
       "13583  7f69c2fdaa134642f14064a0b64d1495        FILLMORE          1.00   \n",
       "13584  7f69c2fdaa134642f14064a0b64d1495        FILLMORE          1.00   \n",
       "\n",
       "      route_primary_direction  frequency_in_minutes  delay  schd_headway  \\\n",
       "13583              Northbound                  7.60 266.00      25969.00   \n",
       "13584              Northbound                  7.60 315.00      25957.00   \n",
       "\n",
       "       avg_schd_headway_sec  std_dev_headway  bunching_coefficient  \\\n",
       "13583              10029.50         11270.50                  1.12   \n",
       "13584              10023.50         11333.78                  1.13   \n",
       "\n",
       "       avg_schd_headway_min passenger_op_perspective  \n",
       "13583                167.16    Most vehicles bunched  \n",
       "13584                167.06    Most vehicles bunched  "
      ]
     },
     "execution_count": 133,
     "metadata": {},
     "output_type": "execute_result"
    }
   ],
   "source": [
    "fillmore.tail(2)"
   ]
  },
  {
   "cell_type": "code",
   "execution_count": 134,
   "id": "d7e718ba-501c-4360-b5ba-a3d254ccbfa1",
   "metadata": {},
   "outputs": [
    {
     "data": {
      "text/html": [
       "<div>\n",
       "<style scoped>\n",
       "    .dataframe tbody tr th:only-of-type {\n",
       "        vertical-align: middle;\n",
       "    }\n",
       "\n",
       "    .dataframe tbody tr th {\n",
       "        vertical-align: top;\n",
       "    }\n",
       "\n",
       "    .dataframe thead th {\n",
       "        text-align: right;\n",
       "    }\n",
       "</style>\n",
       "<table border=\"1\" class=\"dataframe\">\n",
       "  <thead>\n",
       "    <tr style=\"text-align: right;\">\n",
       "      <th></th>\n",
       "      <th>trip_id</th>\n",
       "      <th>stop_id</th>\n",
       "      <th>stop_sequence</th>\n",
       "      <th>scheduled_arrival_sec</th>\n",
       "      <th>schedule_gtfs_dataset_key</th>\n",
       "      <th>trip_instance_key</th>\n",
       "      <th>rt_arrival_sec</th>\n",
       "      <th>route_id</th>\n",
       "      <th>shape_array_key</th>\n",
       "      <th>feed_key</th>\n",
       "      <th>route_long_name</th>\n",
       "      <th>direction_id</th>\n",
       "      <th>route_primary_direction</th>\n",
       "      <th>frequency_in_minutes</th>\n",
       "      <th>delay</th>\n",
       "      <th>actual_headway</th>\n",
       "      <th>schd_headway</th>\n",
       "      <th>avg_schd_headway_sec</th>\n",
       "      <th>std_dev_headway</th>\n",
       "      <th>bunching_coefficient</th>\n",
       "      <th>avg_schd_headway_min</th>\n",
       "      <th>actual_headway_min</th>\n",
       "      <th>sched_headway_min</th>\n",
       "    </tr>\n",
       "  </thead>\n",
       "  <tbody>\n",
       "    <tr>\n",
       "      <th>443917</th>\n",
       "      <td>11490047_M31</td>\n",
       "      <td>17769</td>\n",
       "      <td>7</td>\n",
       "      <td>67772.00</td>\n",
       "      <td>7cc0cb1871dfd558f11a2885c145d144</td>\n",
       "      <td>51672d1ed74ce3e66e4bfc273e6e9931</td>\n",
       "      <td>68087</td>\n",
       "      <td>22</td>\n",
       "      <td>fefbc78a6cf676d7fbd1d25b61ef7bfb</td>\n",
       "      <td>7f69c2fdaa134642f14064a0b64d1495</td>\n",
       "      <td>FILLMORE</td>\n",
       "      <td>1.00</td>\n",
       "      <td>Northbound</td>\n",
       "      <td>7.60</td>\n",
       "      <td>315.00</td>\n",
       "      <td>26178.00</td>\n",
       "      <td>25957.00</td>\n",
       "      <td>10023.50</td>\n",
       "      <td>11333.78</td>\n",
       "      <td>1.13</td>\n",
       "      <td>167.06</td>\n",
       "      <td>436.30</td>\n",
       "      <td>432.62</td>\n",
       "    </tr>\n",
       "    <tr>\n",
       "      <th>443918</th>\n",
       "      <td>11490090_M31</td>\n",
       "      <td>17769</td>\n",
       "      <td>7</td>\n",
       "      <td>72092.00</td>\n",
       "      <td>7cc0cb1871dfd558f11a2885c145d144</td>\n",
       "      <td>6aaf49dfccb82109a1f77471fee6e43a</td>\n",
       "      <td>71689</td>\n",
       "      <td>22</td>\n",
       "      <td>fefbc78a6cf676d7fbd1d25b61ef7bfb</td>\n",
       "      <td>7f69c2fdaa134642f14064a0b64d1495</td>\n",
       "      <td>FILLMORE</td>\n",
       "      <td>1.00</td>\n",
       "      <td>Northbound</td>\n",
       "      <td>7.60</td>\n",
       "      <td>-403.00</td>\n",
       "      <td>3602.00</td>\n",
       "      <td>4320.00</td>\n",
       "      <td>10023.50</td>\n",
       "      <td>11333.78</td>\n",
       "      <td>1.13</td>\n",
       "      <td>167.06</td>\n",
       "      <td>60.03</td>\n",
       "      <td>72.00</td>\n",
       "    </tr>\n",
       "    <tr>\n",
       "      <th>443919</th>\n",
       "      <td>11490091_M31</td>\n",
       "      <td>17769</td>\n",
       "      <td>7</td>\n",
       "      <td>73892.00</td>\n",
       "      <td>7cc0cb1871dfd558f11a2885c145d144</td>\n",
       "      <td>e8ff0c3ae23fd4ba4ab3d251d0c11069</td>\n",
       "      <td>72690</td>\n",
       "      <td>22</td>\n",
       "      <td>fefbc78a6cf676d7fbd1d25b61ef7bfb</td>\n",
       "      <td>7f69c2fdaa134642f14064a0b64d1495</td>\n",
       "      <td>FILLMORE</td>\n",
       "      <td>1.00</td>\n",
       "      <td>Northbound</td>\n",
       "      <td>7.60</td>\n",
       "      <td>-1202.00</td>\n",
       "      <td>1001.00</td>\n",
       "      <td>1800.00</td>\n",
       "      <td>10023.50</td>\n",
       "      <td>11333.78</td>\n",
       "      <td>1.13</td>\n",
       "      <td>167.06</td>\n",
       "      <td>16.68</td>\n",
       "      <td>30.00</td>\n",
       "    </tr>\n",
       "    <tr>\n",
       "      <th>443920</th>\n",
       "      <td>11490099_M31</td>\n",
       "      <td>17769</td>\n",
       "      <td>7</td>\n",
       "      <td>81909.00</td>\n",
       "      <td>7cc0cb1871dfd558f11a2885c145d144</td>\n",
       "      <td>2c824de8cf7a1b5338f76d2501e6ebd5</td>\n",
       "      <td>81349</td>\n",
       "      <td>22</td>\n",
       "      <td>fefbc78a6cf676d7fbd1d25b61ef7bfb</td>\n",
       "      <td>7f69c2fdaa134642f14064a0b64d1495</td>\n",
       "      <td>FILLMORE</td>\n",
       "      <td>1.00</td>\n",
       "      <td>Northbound</td>\n",
       "      <td>7.60</td>\n",
       "      <td>-560.00</td>\n",
       "      <td>8659.00</td>\n",
       "      <td>8017.00</td>\n",
       "      <td>10023.50</td>\n",
       "      <td>11333.78</td>\n",
       "      <td>1.13</td>\n",
       "      <td>167.06</td>\n",
       "      <td>144.32</td>\n",
       "      <td>133.62</td>\n",
       "    </tr>\n",
       "  </tbody>\n",
       "</table>\n",
       "</div>"
      ],
      "text/plain": [
       "             trip_id stop_id  stop_sequence  scheduled_arrival_sec  \\\n",
       "443917  11490047_M31   17769              7               67772.00   \n",
       "443918  11490090_M31   17769              7               72092.00   \n",
       "443919  11490091_M31   17769              7               73892.00   \n",
       "443920  11490099_M31   17769              7               81909.00   \n",
       "\n",
       "               schedule_gtfs_dataset_key                 trip_instance_key  \\\n",
       "443917  7cc0cb1871dfd558f11a2885c145d144  51672d1ed74ce3e66e4bfc273e6e9931   \n",
       "443918  7cc0cb1871dfd558f11a2885c145d144  6aaf49dfccb82109a1f77471fee6e43a   \n",
       "443919  7cc0cb1871dfd558f11a2885c145d144  e8ff0c3ae23fd4ba4ab3d251d0c11069   \n",
       "443920  7cc0cb1871dfd558f11a2885c145d144  2c824de8cf7a1b5338f76d2501e6ebd5   \n",
       "\n",
       "        rt_arrival_sec route_id                   shape_array_key  \\\n",
       "443917           68087       22  fefbc78a6cf676d7fbd1d25b61ef7bfb   \n",
       "443918           71689       22  fefbc78a6cf676d7fbd1d25b61ef7bfb   \n",
       "443919           72690       22  fefbc78a6cf676d7fbd1d25b61ef7bfb   \n",
       "443920           81349       22  fefbc78a6cf676d7fbd1d25b61ef7bfb   \n",
       "\n",
       "                                feed_key route_long_name  direction_id  \\\n",
       "443917  7f69c2fdaa134642f14064a0b64d1495        FILLMORE          1.00   \n",
       "443918  7f69c2fdaa134642f14064a0b64d1495        FILLMORE          1.00   \n",
       "443919  7f69c2fdaa134642f14064a0b64d1495        FILLMORE          1.00   \n",
       "443920  7f69c2fdaa134642f14064a0b64d1495        FILLMORE          1.00   \n",
       "\n",
       "       route_primary_direction  frequency_in_minutes    delay  actual_headway  \\\n",
       "443917              Northbound                  7.60   315.00        26178.00   \n",
       "443918              Northbound                  7.60  -403.00         3602.00   \n",
       "443919              Northbound                  7.60 -1202.00         1001.00   \n",
       "443920              Northbound                  7.60  -560.00         8659.00   \n",
       "\n",
       "        schd_headway  avg_schd_headway_sec  std_dev_headway  \\\n",
       "443917      25957.00              10023.50         11333.78   \n",
       "443918       4320.00              10023.50         11333.78   \n",
       "443919       1800.00              10023.50         11333.78   \n",
       "443920       8017.00              10023.50         11333.78   \n",
       "\n",
       "        bunching_coefficient  avg_schd_headway_min  actual_headway_min  \\\n",
       "443917                  1.13                167.06              436.30   \n",
       "443918                  1.13                167.06               60.03   \n",
       "443919                  1.13                167.06               16.68   \n",
       "443920                  1.13                167.06              144.32   \n",
       "\n",
       "        sched_headway_min  \n",
       "443917             432.62  \n",
       "443918              72.00  \n",
       "443919              30.00  \n",
       "443920             133.62  "
      ]
     },
     "execution_count": 134,
     "metadata": {},
     "output_type": "execute_result"
    }
   ],
   "source": [
    "m2.loc[\n",
    "    (m2.schedule_gtfs_dataset_key == \"7cc0cb1871dfd558f11a2885c145d144\")\n",
    "    & (m2.shape_array_key == \"fefbc78a6cf676d7fbd1d25b61ef7bfb\")\n",
    "    & (m2.route_id == \"22\")\n",
    "    & (m2.direction_id == 1)\n",
    "    & (m2.stop_id == \"17769\")\n",
    "]"
   ]
  },
  {
   "cell_type": "code",
   "execution_count": 131,
   "id": "cf55bcf1-df19-4dbc-8184-b46710d6acd7",
   "metadata": {},
   "outputs": [
    {
     "data": {
      "text/html": [
       "<div>\n",
       "<style scoped>\n",
       "    .dataframe tbody tr th:only-of-type {\n",
       "        vertical-align: middle;\n",
       "    }\n",
       "\n",
       "    .dataframe tbody tr th {\n",
       "        vertical-align: top;\n",
       "    }\n",
       "\n",
       "    .dataframe thead th {\n",
       "        text-align: right;\n",
       "    }\n",
       "</style>\n",
       "<table border=\"1\" class=\"dataframe\">\n",
       "  <thead>\n",
       "    <tr style=\"text-align: right;\">\n",
       "      <th></th>\n",
       "      <th>trip_id</th>\n",
       "      <th>stop_id</th>\n",
       "      <th>stop_sequence</th>\n",
       "      <th>scheduled_arrival_sec</th>\n",
       "      <th>schedule_gtfs_dataset_key</th>\n",
       "      <th>trip_instance_key</th>\n",
       "      <th>rt_arrival_sec</th>\n",
       "      <th>route_id</th>\n",
       "      <th>shape_array_key</th>\n",
       "      <th>feed_key</th>\n",
       "      <th>route_long_name</th>\n",
       "      <th>direction_id</th>\n",
       "      <th>route_primary_direction</th>\n",
       "      <th>frequency_in_minutes</th>\n",
       "      <th>delay</th>\n",
       "      <th>schd_headway</th>\n",
       "      <th>avg_schd_headway_sec</th>\n",
       "      <th>std_dev_headway</th>\n",
       "      <th>bunching_coefficient</th>\n",
       "      <th>avg_schd_headway_min</th>\n",
       "      <th>passenger_op_perspective</th>\n",
       "    </tr>\n",
       "  </thead>\n",
       "  <tbody>\n",
       "    <tr>\n",
       "      <th>13439</th>\n",
       "      <td>11489815_M31</td>\n",
       "      <td>14609</td>\n",
       "      <td>7</td>\n",
       "      <td>69120.00</td>\n",
       "      <td>7cc0cb1871dfd558f11a2885c145d144</td>\n",
       "      <td>186fd89b59a49ddc1e84cb4b89c066d8</td>\n",
       "      <td>69067</td>\n",
       "      <td>22</td>\n",
       "      <td>1b678a66d0009c55bc573cfc37aa1029</td>\n",
       "      <td>7f69c2fdaa134642f14064a0b64d1495</td>\n",
       "      <td>FILLMORE</td>\n",
       "      <td>0.00</td>\n",
       "      <td>Southbound</td>\n",
       "      <td>7.61</td>\n",
       "      <td>-53.00</td>\n",
       "      <td>360.00</td>\n",
       "      <td>1356.00</td>\n",
       "      <td>987.75</td>\n",
       "      <td>0.73</td>\n",
       "      <td>22.60</td>\n",
       "      <td>Frequent bunching</td>\n",
       "    </tr>\n",
       "  </tbody>\n",
       "</table>\n",
       "</div>"
      ],
      "text/plain": [
       "            trip_id stop_id  stop_sequence  scheduled_arrival_sec  \\\n",
       "13439  11489815_M31   14609              7               69120.00   \n",
       "\n",
       "              schedule_gtfs_dataset_key                 trip_instance_key  \\\n",
       "13439  7cc0cb1871dfd558f11a2885c145d144  186fd89b59a49ddc1e84cb4b89c066d8   \n",
       "\n",
       "       rt_arrival_sec route_id                   shape_array_key  \\\n",
       "13439           69067       22  1b678a66d0009c55bc573cfc37aa1029   \n",
       "\n",
       "                               feed_key route_long_name  direction_id  \\\n",
       "13439  7f69c2fdaa134642f14064a0b64d1495        FILLMORE          0.00   \n",
       "\n",
       "      route_primary_direction  frequency_in_minutes  delay  schd_headway  \\\n",
       "13439              Southbound                  7.61 -53.00        360.00   \n",
       "\n",
       "       avg_schd_headway_sec  std_dev_headway  bunching_coefficient  \\\n",
       "13439               1356.00           987.75                  0.73   \n",
       "\n",
       "       avg_schd_headway_min passenger_op_perspective  \n",
       "13439                 22.60        Frequent bunching  "
      ]
     },
     "execution_count": 131,
     "metadata": {},
     "output_type": "execute_result"
    }
   ],
   "source": [
    "fillmore.loc[\n",
    "    (fillmore.schedule_gtfs_dataset_key == \"7cc0cb1871dfd558f11a2885c145d144\")\n",
    "    & (fillmore.shape_array_key == \"1b678a66d0009c55bc573cfc37aa1029\")\n",
    "    & (fillmore.direction_id == 0)\n",
    "    & (fillmore.stop_id == \"14609\")\n",
    "]"
   ]
  },
  {
   "cell_type": "code",
   "execution_count": 132,
   "id": "6f817056-5594-45d1-9bfa-fdd1343fbea7",
   "metadata": {},
   "outputs": [
    {
     "data": {
      "text/html": [
       "<div>\n",
       "<style scoped>\n",
       "    .dataframe tbody tr th:only-of-type {\n",
       "        vertical-align: middle;\n",
       "    }\n",
       "\n",
       "    .dataframe tbody tr th {\n",
       "        vertical-align: top;\n",
       "    }\n",
       "\n",
       "    .dataframe thead th {\n",
       "        text-align: right;\n",
       "    }\n",
       "</style>\n",
       "<table border=\"1\" class=\"dataframe\">\n",
       "  <thead>\n",
       "    <tr style=\"text-align: right;\">\n",
       "      <th></th>\n",
       "      <th>trip_id</th>\n",
       "      <th>stop_id</th>\n",
       "      <th>stop_sequence</th>\n",
       "      <th>scheduled_arrival_sec</th>\n",
       "      <th>schedule_gtfs_dataset_key</th>\n",
       "      <th>trip_instance_key</th>\n",
       "      <th>rt_arrival_sec</th>\n",
       "      <th>route_id</th>\n",
       "      <th>shape_array_key</th>\n",
       "      <th>feed_key</th>\n",
       "      <th>route_long_name</th>\n",
       "      <th>direction_id</th>\n",
       "      <th>route_primary_direction</th>\n",
       "      <th>frequency_in_minutes</th>\n",
       "      <th>delay</th>\n",
       "      <th>actual_headway</th>\n",
       "      <th>schd_headway</th>\n",
       "      <th>avg_schd_headway_sec</th>\n",
       "      <th>std_dev_headway</th>\n",
       "      <th>bunching_coefficient</th>\n",
       "      <th>avg_schd_headway_min</th>\n",
       "      <th>actual_headway_min</th>\n",
       "      <th>sched_headway_min</th>\n",
       "    </tr>\n",
       "  </thead>\n",
       "  <tbody>\n",
       "    <tr>\n",
       "      <th>434653</th>\n",
       "      <td>11489815_M31</td>\n",
       "      <td>14609</td>\n",
       "      <td>7</td>\n",
       "      <td>69120.00</td>\n",
       "      <td>7cc0cb1871dfd558f11a2885c145d144</td>\n",
       "      <td>186fd89b59a49ddc1e84cb4b89c066d8</td>\n",
       "      <td>69067</td>\n",
       "      <td>22</td>\n",
       "      <td>1b678a66d0009c55bc573cfc37aa1029</td>\n",
       "      <td>7f69c2fdaa134642f14064a0b64d1495</td>\n",
       "      <td>FILLMORE</td>\n",
       "      <td>0.00</td>\n",
       "      <td>Southbound</td>\n",
       "      <td>7.61</td>\n",
       "      <td>-53.00</td>\n",
       "      <td>384.00</td>\n",
       "      <td>360.00</td>\n",
       "      <td>1356.00</td>\n",
       "      <td>987.75</td>\n",
       "      <td>0.73</td>\n",
       "      <td>22.60</td>\n",
       "      <td>6.40</td>\n",
       "      <td>6.00</td>\n",
       "    </tr>\n",
       "    <tr>\n",
       "      <th>434654</th>\n",
       "      <td>11489816_M31</td>\n",
       "      <td>14609</td>\n",
       "      <td>7</td>\n",
       "      <td>69660.00</td>\n",
       "      <td>7cc0cb1871dfd558f11a2885c145d144</td>\n",
       "      <td>5cd2523ccd8c33e277aaae0ac9af35c8</td>\n",
       "      <td>69723</td>\n",
       "      <td>22</td>\n",
       "      <td>1b678a66d0009c55bc573cfc37aa1029</td>\n",
       "      <td>7f69c2fdaa134642f14064a0b64d1495</td>\n",
       "      <td>FILLMORE</td>\n",
       "      <td>0.00</td>\n",
       "      <td>Southbound</td>\n",
       "      <td>7.61</td>\n",
       "      <td>63.00</td>\n",
       "      <td>656.00</td>\n",
       "      <td>540.00</td>\n",
       "      <td>1356.00</td>\n",
       "      <td>987.75</td>\n",
       "      <td>0.73</td>\n",
       "      <td>22.60</td>\n",
       "      <td>10.93</td>\n",
       "      <td>9.00</td>\n",
       "    </tr>\n",
       "    <tr>\n",
       "      <th>434655</th>\n",
       "      <td>11489817_M31</td>\n",
       "      <td>14609</td>\n",
       "      <td>7</td>\n",
       "      <td>72660.00</td>\n",
       "      <td>7cc0cb1871dfd558f11a2885c145d144</td>\n",
       "      <td>45830206e5f4a07c06e520968f4b789f</td>\n",
       "      <td>72638</td>\n",
       "      <td>22</td>\n",
       "      <td>1b678a66d0009c55bc573cfc37aa1029</td>\n",
       "      <td>7f69c2fdaa134642f14064a0b64d1495</td>\n",
       "      <td>FILLMORE</td>\n",
       "      <td>0.00</td>\n",
       "      <td>Southbound</td>\n",
       "      <td>7.61</td>\n",
       "      <td>-22.00</td>\n",
       "      <td>2915.00</td>\n",
       "      <td>3000.00</td>\n",
       "      <td>1356.00</td>\n",
       "      <td>987.75</td>\n",
       "      <td>0.73</td>\n",
       "      <td>22.60</td>\n",
       "      <td>48.58</td>\n",
       "      <td>50.00</td>\n",
       "    </tr>\n",
       "    <tr>\n",
       "      <th>434656</th>\n",
       "      <td>11489861_M31</td>\n",
       "      <td>14609</td>\n",
       "      <td>7</td>\n",
       "      <td>74100.00</td>\n",
       "      <td>7cc0cb1871dfd558f11a2885c145d144</td>\n",
       "      <td>a28a9fc884812bbb9e404de1dd970ccd</td>\n",
       "      <td>74147</td>\n",
       "      <td>22</td>\n",
       "      <td>1b678a66d0009c55bc573cfc37aa1029</td>\n",
       "      <td>7f69c2fdaa134642f14064a0b64d1495</td>\n",
       "      <td>FILLMORE</td>\n",
       "      <td>0.00</td>\n",
       "      <td>Southbound</td>\n",
       "      <td>7.61</td>\n",
       "      <td>47.00</td>\n",
       "      <td>1509.00</td>\n",
       "      <td>1440.00</td>\n",
       "      <td>1356.00</td>\n",
       "      <td>987.75</td>\n",
       "      <td>0.73</td>\n",
       "      <td>22.60</td>\n",
       "      <td>25.15</td>\n",
       "      <td>24.00</td>\n",
       "    </tr>\n",
       "    <tr>\n",
       "      <th>434657</th>\n",
       "      <td>11489818_M31</td>\n",
       "      <td>14609</td>\n",
       "      <td>7</td>\n",
       "      <td>75540.00</td>\n",
       "      <td>7cc0cb1871dfd558f11a2885c145d144</td>\n",
       "      <td>c20c26a42e6277dd327fe1280cead6a8</td>\n",
       "      <td>75647</td>\n",
       "      <td>22</td>\n",
       "      <td>1b678a66d0009c55bc573cfc37aa1029</td>\n",
       "      <td>7f69c2fdaa134642f14064a0b64d1495</td>\n",
       "      <td>FILLMORE</td>\n",
       "      <td>0.00</td>\n",
       "      <td>Southbound</td>\n",
       "      <td>7.61</td>\n",
       "      <td>107.00</td>\n",
       "      <td>1500.00</td>\n",
       "      <td>1440.00</td>\n",
       "      <td>1356.00</td>\n",
       "      <td>987.75</td>\n",
       "      <td>0.73</td>\n",
       "      <td>22.60</td>\n",
       "      <td>25.00</td>\n",
       "      <td>24.00</td>\n",
       "    </tr>\n",
       "  </tbody>\n",
       "</table>\n",
       "</div>"
      ],
      "text/plain": [
       "             trip_id stop_id  stop_sequence  scheduled_arrival_sec  \\\n",
       "434653  11489815_M31   14609              7               69120.00   \n",
       "434654  11489816_M31   14609              7               69660.00   \n",
       "434655  11489817_M31   14609              7               72660.00   \n",
       "434656  11489861_M31   14609              7               74100.00   \n",
       "434657  11489818_M31   14609              7               75540.00   \n",
       "\n",
       "               schedule_gtfs_dataset_key                 trip_instance_key  \\\n",
       "434653  7cc0cb1871dfd558f11a2885c145d144  186fd89b59a49ddc1e84cb4b89c066d8   \n",
       "434654  7cc0cb1871dfd558f11a2885c145d144  5cd2523ccd8c33e277aaae0ac9af35c8   \n",
       "434655  7cc0cb1871dfd558f11a2885c145d144  45830206e5f4a07c06e520968f4b789f   \n",
       "434656  7cc0cb1871dfd558f11a2885c145d144  a28a9fc884812bbb9e404de1dd970ccd   \n",
       "434657  7cc0cb1871dfd558f11a2885c145d144  c20c26a42e6277dd327fe1280cead6a8   \n",
       "\n",
       "        rt_arrival_sec route_id                   shape_array_key  \\\n",
       "434653           69067       22  1b678a66d0009c55bc573cfc37aa1029   \n",
       "434654           69723       22  1b678a66d0009c55bc573cfc37aa1029   \n",
       "434655           72638       22  1b678a66d0009c55bc573cfc37aa1029   \n",
       "434656           74147       22  1b678a66d0009c55bc573cfc37aa1029   \n",
       "434657           75647       22  1b678a66d0009c55bc573cfc37aa1029   \n",
       "\n",
       "                                feed_key route_long_name  direction_id  \\\n",
       "434653  7f69c2fdaa134642f14064a0b64d1495        FILLMORE          0.00   \n",
       "434654  7f69c2fdaa134642f14064a0b64d1495        FILLMORE          0.00   \n",
       "434655  7f69c2fdaa134642f14064a0b64d1495        FILLMORE          0.00   \n",
       "434656  7f69c2fdaa134642f14064a0b64d1495        FILLMORE          0.00   \n",
       "434657  7f69c2fdaa134642f14064a0b64d1495        FILLMORE          0.00   \n",
       "\n",
       "       route_primary_direction  frequency_in_minutes  delay  actual_headway  \\\n",
       "434653              Southbound                  7.61 -53.00          384.00   \n",
       "434654              Southbound                  7.61  63.00          656.00   \n",
       "434655              Southbound                  7.61 -22.00         2915.00   \n",
       "434656              Southbound                  7.61  47.00         1509.00   \n",
       "434657              Southbound                  7.61 107.00         1500.00   \n",
       "\n",
       "        schd_headway  avg_schd_headway_sec  std_dev_headway  \\\n",
       "434653        360.00               1356.00           987.75   \n",
       "434654        540.00               1356.00           987.75   \n",
       "434655       3000.00               1356.00           987.75   \n",
       "434656       1440.00               1356.00           987.75   \n",
       "434657       1440.00               1356.00           987.75   \n",
       "\n",
       "        bunching_coefficient  avg_schd_headway_min  actual_headway_min  \\\n",
       "434653                  0.73                 22.60                6.40   \n",
       "434654                  0.73                 22.60               10.93   \n",
       "434655                  0.73                 22.60               48.58   \n",
       "434656                  0.73                 22.60               25.15   \n",
       "434657                  0.73                 22.60               25.00   \n",
       "\n",
       "        sched_headway_min  \n",
       "434653               6.00  \n",
       "434654               9.00  \n",
       "434655              50.00  \n",
       "434656              24.00  \n",
       "434657              24.00  "
      ]
     },
     "execution_count": 132,
     "metadata": {},
     "output_type": "execute_result"
    }
   ],
   "source": [
    "m2.loc[\n",
    "    (m2.schedule_gtfs_dataset_key == \"7cc0cb1871dfd558f11a2885c145d144\")\n",
    "    & (m2.shape_array_key == \"1b678a66d0009c55bc573cfc37aa1029\")\n",
    "    & (m2.route_id == \"22\")\n",
    "    & (m2.direction_id == 0)\n",
    "    & (m2.stop_id == \"14609\")\n",
    "]"
   ]
  },
  {
   "cell_type": "markdown",
   "id": "e9a5644a-3548-4ff8-9ce6-24edfcde1a35",
   "metadata": {
    "tags": []
   },
   "source": [
    "### [Transit Matters](https://transitmatters.org/blog/reveal-mbtas-slowest-most-bunched-bus)\n",
    "* The following charts show bunching events as a pecentage of total trips. Here,\n",
    "bunching is defined as headways < 25% of the scheduled_headway.\n",
    "* Grain: operator-route_id-stop_id. "
   ]
  },
  {
   "cell_type": "code",
   "execution_count": null,
   "id": "eef2b8c9-d1c5-4ce0-9c24-ebcd109ce892",
   "metadata": {},
   "outputs": [],
   "source": [
    "# Using rt_stop_times5 since this already has the actual and scheduled headways"
   ]
  },
  {
   "cell_type": "code",
   "execution_count": 135,
   "id": "511fd15e-b15e-43ae-9a1a-30f55d01da73",
   "metadata": {},
   "outputs": [
    {
     "data": {
      "text/plain": [
       "668646"
      ]
     },
     "execution_count": 135,
     "metadata": {},
     "output_type": "execute_result"
    }
   ],
   "source": [
    "len(rt_stop_times5)"
   ]
  },
  {
   "cell_type": "code",
   "execution_count": 136,
   "id": "f0f0f4b7-fa64-4b01-a141-5dd78c59693b",
   "metadata": {},
   "outputs": [],
   "source": [
    "transit_matters_df1 = rt_stop_times5.copy()"
   ]
  },
  {
   "cell_type": "code",
   "execution_count": 137,
   "id": "7bea63e5-45d0-4d06-8c1c-fd34a69ffde7",
   "metadata": {},
   "outputs": [],
   "source": [
    "transit_matters_df1[\"pct_actual_schd_headway\"] = (\n",
    "    transit_matters_df1.actual_headway / transit_matters_df1.schd_headway\n",
    ")"
   ]
  },
  {
   "cell_type": "code",
   "execution_count": 138,
   "id": "c67c6299-68f0-414f-a9c1-e0b27511b9e5",
   "metadata": {},
   "outputs": [],
   "source": [
    "import numpy as np\n",
    "\n",
    "transit_matters_df1[\"bunched_y_n\"] = np.where(\n",
    "    transit_matters_df1[\"pct_actual_schd_headway\"] < 0.25, \"bunched\", \"not bunched\"\n",
    ")"
   ]
  },
  {
   "cell_type": "markdown",
   "id": "b3fdb4cb-fb86-4b76-85f1-7451a4ef7dbe",
   "metadata": {},
   "source": [
    "#### There are some very extreme values: how to deal with this?\n"
   ]
  },
  {
   "cell_type": "code",
   "execution_count": 139,
   "id": "70bc7bfe-2306-498a-b0d7-e012d266d5fc",
   "metadata": {},
   "outputs": [
    {
     "data": {
      "text/plain": [
       "count   647207.00\n",
       "mean         1.00\n",
       "std          0.52\n",
       "min         -9.95\n",
       "25%          0.81\n",
       "50%          1.00\n",
       "75%          1.19\n",
       "max         12.38\n",
       "Name: pct_actual_schd_headway, dtype: float64"
      ]
     },
     "execution_count": 139,
     "metadata": {},
     "output_type": "execute_result"
    }
   ],
   "source": [
    "transit_matters_df1.pct_actual_schd_headway.describe()"
   ]
  },
  {
   "cell_type": "code",
   "execution_count": 140,
   "id": "bd07fafd-dbf3-46dd-87bc-e0e78633f59d",
   "metadata": {},
   "outputs": [
    {
     "data": {
      "text/plain": [
       "not bunched    636013\n",
       "bunched         32633\n",
       "Name: bunched_y_n, dtype: int64"
      ]
     },
     "execution_count": 140,
     "metadata": {},
     "output_type": "execute_result"
    }
   ],
   "source": [
    "transit_matters_df1.bunched_y_n.value_counts(dropna=True)"
   ]
  },
  {
   "cell_type": "markdown",
   "id": "db10254b-d5d4-4619-9c6e-10fab19ec6b2",
   "metadata": {},
   "source": [
    "#### Groupby grain and see how many trips for that grain are considered \"bunched\" or not."
   ]
  },
  {
   "cell_type": "code",
   "execution_count": 141,
   "id": "e72f4e50-da82-4a59-8aae-fc6b79f91cc5",
   "metadata": {},
   "outputs": [],
   "source": [
    "transit_matters_df2 = (\n",
    "    transit_matters_df1.groupby(\n",
    "        [\n",
    "            \"schedule_gtfs_dataset_key\",\n",
    "            \"route_long_name\",\n",
    "            \"shape_array_key\",\n",
    "            \"route_id\",\n",
    "            \"stop_id\",\n",
    "            \"direction_id\",\n",
    "            \"route_primary_direction\",\n",
    "            \"bunched_y_n\",\n",
    "        ]\n",
    "    )\n",
    "    .agg({\"trip_instance_key\": \"nunique\"})\n",
    "    .reset_index()\n",
    ")"
   ]
  },
  {
   "cell_type": "code",
   "execution_count": 142,
   "id": "ebf0e403-89c5-4b2c-b962-44affe3c0b42",
   "metadata": {},
   "outputs": [],
   "source": [
    "#Filter out only rows that are bunched.\n",
    "bunched_only = transit_matters_df2.loc[\n",
    "    transit_matters_df2.bunched_y_n == \"bunched\"\n",
    "].reset_index(drop=True)"
   ]
  },
  {
   "cell_type": "code",
   "execution_count": 143,
   "id": "6f94980e-b9c4-4c1e-a497-ea4b3f88c55b",
   "metadata": {},
   "outputs": [],
   "source": [
    "transit_matters_agg = [\n",
    "    \"schedule_gtfs_dataset_key\",\n",
    "    \"route_long_name\",\n",
    "    \"shape_array_key\",\n",
    "    \"route_id\",\n",
    "    \"stop_id\",\n",
    "    \"direction_id\",\n",
    "    \"route_primary_direction\",\n",
    "]"
   ]
  },
  {
   "cell_type": "code",
   "execution_count": 144,
   "id": "dcca9769-aa67-48d5-9b06-acc86cade877",
   "metadata": {},
   "outputs": [],
   "source": [
    "# Aggregate all trips on the grain\n",
    "transit_matters_all_trips = (\n",
    "    transit_matters_df1.groupby(transit_matters_agg)\n",
    "    .agg({\"trip_instance_key\": \"nunique\"})\n",
    "    .reset_index()\n",
    "    .rename(columns={\"trip_instance_key\": \"all_trips\"})\n",
    ")"
   ]
  },
  {
   "cell_type": "code",
   "execution_count": 145,
   "id": "2f57e136-fc83-4eac-bc05-84f530e2f4b0",
   "metadata": {},
   "outputs": [],
   "source": [
    "# Merge back, using left merge to keep bunching\n",
    "bunched_only = pd.merge(\n",
    "    bunched_only, transit_matters_all_trips, on=transit_matters_agg, how=\"left\"\n",
    ")"
   ]
  },
  {
   "cell_type": "code",
   "execution_count": 146,
   "id": "55b8feb0-1e0a-4717-b966-ee360becfde5",
   "metadata": {},
   "outputs": [],
   "source": [
    "bunched_only[\"pct_trips_bunched\"] = (\n",
    "    bunched_only.trip_instance_key / bunched_only.all_trips * 100\n",
    ")"
   ]
  },
  {
   "cell_type": "code",
   "execution_count": 147,
   "id": "3674d237-8b1c-4943-afc8-45b85b4b13d7",
   "metadata": {},
   "outputs": [],
   "source": [
    "bunched_only = bunched_only.drop(columns=[\"all_trips\"])"
   ]
  },
  {
   "cell_type": "code",
   "execution_count": 148,
   "id": "7213e2ad-8485-4e0a-b8b8-0aaf6dbae3ae",
   "metadata": {},
   "outputs": [],
   "source": [
    "# Merge back all rows that don't have bunching trips.\n",
    "transit_matters_m1 = pd.merge(\n",
    "    transit_matters_all_trips,\n",
    "    bunched_only,\n",
    "    on=transit_matters_agg,\n",
    "    how=\"left\",\n",
    ")"
   ]
  },
  {
   "cell_type": "code",
   "execution_count": 149,
   "id": "d96dde8f-8271-455a-b518-961a7ef670e0",
   "metadata": {},
   "outputs": [
    {
     "data": {
      "text/html": [
       "<div>\n",
       "<style scoped>\n",
       "    .dataframe tbody tr th:only-of-type {\n",
       "        vertical-align: middle;\n",
       "    }\n",
       "\n",
       "    .dataframe tbody tr th {\n",
       "        vertical-align: top;\n",
       "    }\n",
       "\n",
       "    .dataframe thead th {\n",
       "        text-align: right;\n",
       "    }\n",
       "</style>\n",
       "<table border=\"1\" class=\"dataframe\">\n",
       "  <thead>\n",
       "    <tr style=\"text-align: right;\">\n",
       "      <th></th>\n",
       "      <th>schedule_gtfs_dataset_key</th>\n",
       "      <th>route_long_name</th>\n",
       "      <th>shape_array_key</th>\n",
       "      <th>route_id</th>\n",
       "      <th>stop_id</th>\n",
       "      <th>direction_id</th>\n",
       "      <th>route_primary_direction</th>\n",
       "      <th>all_trips</th>\n",
       "      <th>bunched_y_n</th>\n",
       "      <th>trip_instance_key</th>\n",
       "      <th>pct_trips_bunched</th>\n",
       "    </tr>\n",
       "  </thead>\n",
       "  <tbody>\n",
       "    <tr>\n",
       "      <th>0</th>\n",
       "      <td>0666caf3ec1ecc96b74f4477ee4bc939</td>\n",
       "      <td>Metro G Line 901</td>\n",
       "      <td>12530c16e07a519c8a8543d487f26ade</td>\n",
       "      <td>901-13172</td>\n",
       "      <td>15313</td>\n",
       "      <td>0.00</td>\n",
       "      <td>Eastbound</td>\n",
       "      <td>87</td>\n",
       "      <td>bunched</td>\n",
       "      <td>3.00</td>\n",
       "      <td>3.45</td>\n",
       "    </tr>\n",
       "    <tr>\n",
       "      <th>1</th>\n",
       "      <td>0666caf3ec1ecc96b74f4477ee4bc939</td>\n",
       "      <td>Metro G Line 901</td>\n",
       "      <td>12530c16e07a519c8a8543d487f26ade</td>\n",
       "      <td>901-13172</td>\n",
       "      <td>15416</td>\n",
       "      <td>0.00</td>\n",
       "      <td>Eastbound</td>\n",
       "      <td>81</td>\n",
       "      <td>bunched</td>\n",
       "      <td>5.00</td>\n",
       "      <td>6.17</td>\n",
       "    </tr>\n",
       "  </tbody>\n",
       "</table>\n",
       "</div>"
      ],
      "text/plain": [
       "          schedule_gtfs_dataset_key   route_long_name  \\\n",
       "0  0666caf3ec1ecc96b74f4477ee4bc939  Metro G Line 901   \n",
       "1  0666caf3ec1ecc96b74f4477ee4bc939  Metro G Line 901   \n",
       "\n",
       "                    shape_array_key   route_id stop_id  direction_id  \\\n",
       "0  12530c16e07a519c8a8543d487f26ade  901-13172   15313          0.00   \n",
       "1  12530c16e07a519c8a8543d487f26ade  901-13172   15416          0.00   \n",
       "\n",
       "  route_primary_direction  all_trips bunched_y_n  trip_instance_key  \\\n",
       "0               Eastbound         87     bunched               3.00   \n",
       "1               Eastbound         81     bunched               5.00   \n",
       "\n",
       "   pct_trips_bunched  \n",
       "0               3.45  \n",
       "1               6.17  "
      ]
     },
     "execution_count": 149,
     "metadata": {},
     "output_type": "execute_result"
    }
   ],
   "source": [
    "transit_matters_m1.head(2)"
   ]
  },
  {
   "cell_type": "code",
   "execution_count": 154,
   "id": "f5253b6a-8cad-469f-a306-6fa712e9799a",
   "metadata": {},
   "outputs": [],
   "source": [
    "transit_matters_m1 = transit_matters_m1.drop(\n",
    "    columns=[\"bunched_y_n\", \"trip_instance_key\"]\n",
    ")"
   ]
  },
  {
   "cell_type": "code",
   "execution_count": 150,
   "id": "4a25225a-7883-457f-a27a-f606164cdd37",
   "metadata": {},
   "outputs": [],
   "source": [
    "transit_matters_m1.pct_trips_bunched = transit_matters_m1.pct_trips_bunched.fillna(0)"
   ]
  },
  {
   "cell_type": "code",
   "execution_count": 155,
   "id": "2e2abda3-b3de-4f03-baf4-7f764dd10255",
   "metadata": {},
   "outputs": [
    {
     "data": {
      "text/plain": [
       "count   21130.00\n",
       "mean        2.51\n",
       "std         4.98\n",
       "min         0.00\n",
       "25%         0.00\n",
       "50%         0.00\n",
       "75%         3.45\n",
       "max        50.00\n",
       "Name: pct_trips_bunched, dtype: float64"
      ]
     },
     "execution_count": 155,
     "metadata": {},
     "output_type": "execute_result"
    }
   ],
   "source": [
    "transit_matters_m1.pct_trips_bunched.describe()"
   ]
  },
  {
   "cell_type": "code",
   "execution_count": 156,
   "id": "6f4c4386-acfb-483a-947d-0279710df61b",
   "metadata": {},
   "outputs": [
    {
     "data": {
      "text/plain": [
       "(1673, 9)"
      ]
     },
     "execution_count": 156,
     "metadata": {},
     "output_type": "execute_result"
    }
   ],
   "source": [
    "transit_matters_m1.loc[transit_matters_m1.pct_trips_bunched >= 10].shape"
   ]
  },
  {
   "cell_type": "markdown",
   "id": "41ff565f-bb49-410c-ac80-b933ccce228e",
   "metadata": {},
   "source": [
    "### Fillmore Test\n",
    "* Compare coefficient results w/ this transit matters one for one stop-direction."
   ]
  },
  {
   "cell_type": "code",
   "execution_count": 157,
   "id": "2077b13c-84e8-41d4-a976-2b475cbeb731",
   "metadata": {},
   "outputs": [
    {
     "data": {
      "text/html": [
       "<div>\n",
       "<style scoped>\n",
       "    .dataframe tbody tr th:only-of-type {\n",
       "        vertical-align: middle;\n",
       "    }\n",
       "\n",
       "    .dataframe tbody tr th {\n",
       "        vertical-align: top;\n",
       "    }\n",
       "\n",
       "    .dataframe thead th {\n",
       "        text-align: right;\n",
       "    }\n",
       "</style>\n",
       "<table border=\"1\" class=\"dataframe\">\n",
       "  <thead>\n",
       "    <tr style=\"text-align: right;\">\n",
       "      <th></th>\n",
       "      <th>trip_id</th>\n",
       "      <th>stop_id</th>\n",
       "      <th>stop_sequence</th>\n",
       "      <th>scheduled_arrival_sec</th>\n",
       "      <th>schedule_gtfs_dataset_key</th>\n",
       "      <th>trip_instance_key</th>\n",
       "      <th>rt_arrival_sec</th>\n",
       "      <th>route_id</th>\n",
       "      <th>shape_array_key</th>\n",
       "      <th>feed_key</th>\n",
       "      <th>route_long_name</th>\n",
       "      <th>direction_id</th>\n",
       "      <th>route_primary_direction</th>\n",
       "      <th>frequency_in_minutes</th>\n",
       "      <th>delay</th>\n",
       "      <th>schd_headway</th>\n",
       "      <th>avg_schd_headway_sec</th>\n",
       "      <th>std_dev_headway</th>\n",
       "      <th>bunching_coefficient</th>\n",
       "      <th>avg_schd_headway_min</th>\n",
       "      <th>passenger_op_perspective</th>\n",
       "    </tr>\n",
       "  </thead>\n",
       "  <tbody>\n",
       "    <tr>\n",
       "      <th>13445</th>\n",
       "      <td>11489975_M31</td>\n",
       "      <td>13086</td>\n",
       "      <td>13</td>\n",
       "      <td>69106.00</td>\n",
       "      <td>7cc0cb1871dfd558f11a2885c145d144</td>\n",
       "      <td>d30242b374225ed75a4aadd78fa8d7be</td>\n",
       "      <td>69048</td>\n",
       "      <td>22</td>\n",
       "      <td>1b678a66d0009c55bc573cfc37aa1029</td>\n",
       "      <td>7f69c2fdaa134642f14064a0b64d1495</td>\n",
       "      <td>FILLMORE</td>\n",
       "      <td>0.00</td>\n",
       "      <td>Southbound</td>\n",
       "      <td>7.61</td>\n",
       "      <td>-58.00</td>\n",
       "      <td>1907.00</td>\n",
       "      <td>1445.50</td>\n",
       "      <td>960.66</td>\n",
       "      <td>0.66</td>\n",
       "      <td>24.09</td>\n",
       "      <td>Frequent bunching</td>\n",
       "    </tr>\n",
       "  </tbody>\n",
       "</table>\n",
       "</div>"
      ],
      "text/plain": [
       "            trip_id stop_id  stop_sequence  scheduled_arrival_sec  \\\n",
       "13445  11489975_M31   13086             13               69106.00   \n",
       "\n",
       "              schedule_gtfs_dataset_key                 trip_instance_key  \\\n",
       "13445  7cc0cb1871dfd558f11a2885c145d144  d30242b374225ed75a4aadd78fa8d7be   \n",
       "\n",
       "       rt_arrival_sec route_id                   shape_array_key  \\\n",
       "13445           69048       22  1b678a66d0009c55bc573cfc37aa1029   \n",
       "\n",
       "                               feed_key route_long_name  direction_id  \\\n",
       "13445  7f69c2fdaa134642f14064a0b64d1495        FILLMORE          0.00   \n",
       "\n",
       "      route_primary_direction  frequency_in_minutes  delay  schd_headway  \\\n",
       "13445              Southbound                  7.61 -58.00       1907.00   \n",
       "\n",
       "       avg_schd_headway_sec  std_dev_headway  bunching_coefficient  \\\n",
       "13445               1445.50           960.66                  0.66   \n",
       "\n",
       "       avg_schd_headway_min passenger_op_perspective  \n",
       "13445                 24.09        Frequent bunching  "
      ]
     },
     "execution_count": 157,
     "metadata": {},
     "output_type": "execute_result"
    }
   ],
   "source": [
    "fillmore.loc[\n",
    "    (fillmore.shape_array_key == \"1b678a66d0009c55bc573cfc37aa1029\")\n",
    "    & (fillmore.stop_id == \"13086\")\n",
    "    & (fillmore.direction_id == 0)\n",
    "]"
   ]
  },
  {
   "cell_type": "code",
   "execution_count": 158,
   "id": "eb207d10-fe7d-4f00-8d15-15436252b7b0",
   "metadata": {},
   "outputs": [],
   "source": [
    "transit_matters_fillmore_test = transit_matters_df1.loc[\n",
    "    (transit_matters_df1.shape_array_key == \"1b678a66d0009c55bc573cfc37aa1029\")\n",
    "    & (transit_matters_df1.stop_id == \"13086\")\n",
    "    & (transit_matters_df1.direction_id == 0)\n",
    "]"
   ]
  },
  {
   "cell_type": "code",
   "execution_count": 159,
   "id": "fa0d1de2-7142-445f-81c2-750d9b646b12",
   "metadata": {},
   "outputs": [
    {
     "name": "stderr",
     "output_type": "stream",
     "text": [
      "/tmp/ipykernel_317/435831703.py:2: SettingWithCopyWarning: \n",
      "A value is trying to be set on a copy of a slice from a DataFrame.\n",
      "Try using .loc[row_indexer,col_indexer] = value instead\n",
      "\n",
      "See the caveats in the documentation: https://pandas.pydata.org/pandas-docs/stable/user_guide/indexing.html#returning-a-view-versus-a-copy\n",
      "  transit_matters_fillmore_test[\"actual_headway_min\"] = (\n"
     ]
    }
   ],
   "source": [
    "# Manually calculate\n",
    "transit_matters_fillmore_test[\"actual_headway_min\"] = (\n",
    "    transit_matters_fillmore_test.actual_headway / 60\n",
    ")"
   ]
  },
  {
   "cell_type": "code",
   "execution_count": 160,
   "id": "57f84892-4fc7-4030-86ab-10e330216da3",
   "metadata": {},
   "outputs": [
    {
     "name": "stderr",
     "output_type": "stream",
     "text": [
      "/tmp/ipykernel_317/2455219532.py:1: SettingWithCopyWarning: \n",
      "A value is trying to be set on a copy of a slice from a DataFrame.\n",
      "Try using .loc[row_indexer,col_indexer] = value instead\n",
      "\n",
      "See the caveats in the documentation: https://pandas.pydata.org/pandas-docs/stable/user_guide/indexing.html#returning-a-view-versus-a-copy\n",
      "  transit_matters_fillmore_test[\"schd_headway_min\"] = (\n"
     ]
    }
   ],
   "source": [
    "transit_matters_fillmore_test[\"schd_headway_min\"] = (\n",
    "    transit_matters_fillmore_test.schd_headway / 60\n",
    ")"
   ]
  },
  {
   "cell_type": "markdown",
   "id": "b0579e78-2a95-4d8b-9761-2824aa39a8eb",
   "metadata": {},
   "source": [
    "### Use 2 minute benchmark\n",
    "* [Source](https://static1.squarespace.com/static/533b9a24e4b01d79d0ae4376/t/645e82de1f570b31497c44dc/1683915486889/TransitMatters-Headwaymanagement.pdf)\n",
    "* Justifying the use of\n",
    "headway maintenance. For example, in April\n",
    "2022 the 66 bus significantly bunched around\n",
    "several stops. When bunching is defined as\n",
    "buses that run within two minutes or less of\n",
    "each other, inbound buses towards Nubian\n",
    "Square bunched 10% of the time at Brigham\n",
    "Circle, 9% at Brookline Village and Roxbury\n",
    "Crossing, and 8% of the time at Coolidge\n",
    "Corner. Bunching is even more dramatic\n",
    "outbound towards Harvard Square where\n",
    "buses bunched over 35% of the time at Winship\n",
    "St, 13% at Coolidge Corner and Harvard Ave at\n",
    "Commonwealth Ave, and 12% at North Harvard\n",
    "St at Western Ave. View more data about bus\n",
    "bunching through the TransitMatters Data\n",
    "Dashboard here."
   ]
  },
  {
   "cell_type": "code",
   "execution_count": 161,
   "id": "e0706e7e-0d56-43b2-bf3c-4205e9277c64",
   "metadata": {},
   "outputs": [],
   "source": [
    "two_minutess_df = rt_stop_times6.copy()"
   ]
  },
  {
   "cell_type": "code",
   "execution_count": 162,
   "id": "a0c04034-7c1a-49c9-9270-8bf9af8feac1",
   "metadata": {},
   "outputs": [],
   "source": [
    "two_minutess_df[\"actual_headway_min\"] = two_minutess_df.actual_headway / 60"
   ]
  },
  {
   "cell_type": "code",
   "execution_count": 163,
   "id": "bd9b8ee4-aab3-42c9-b29a-9679f5494ffa",
   "metadata": {},
   "outputs": [],
   "source": [
    "two_minutess_df[\"bunched_y_n\"] = np.where(\n",
    "    two_minutess_df[\"actual_headway_min\"] <= 2, \"bunched\", \"not bunched\"\n",
    ")"
   ]
  },
  {
   "cell_type": "code",
   "execution_count": 164,
   "id": "83382d9f-09c5-4bf2-a55b-41dc541dee51",
   "metadata": {},
   "outputs": [
    {
     "name": "stdout",
     "output_type": "stream",
     "text": [
      "<class 'pandas.core.frame.DataFrame'>\n",
      "RangeIndex: 647207 entries, 0 to 647206\n",
      "Data columns (total 19 columns):\n",
      " #   Column                     Non-Null Count   Dtype  \n",
      "---  ------                     --------------   -----  \n",
      " 0   trip_id                    647207 non-null  object \n",
      " 1   stop_id                    647207 non-null  object \n",
      " 2   stop_sequence              647207 non-null  int64  \n",
      " 3   scheduled_arrival_sec      647207 non-null  float64\n",
      " 4   schedule_gtfs_dataset_key  647207 non-null  object \n",
      " 5   trip_instance_key          647207 non-null  object \n",
      " 6   rt_arrival_sec             647207 non-null  int64  \n",
      " 7   route_id                   647207 non-null  object \n",
      " 8   shape_array_key            647207 non-null  object \n",
      " 9   feed_key                   647207 non-null  object \n",
      " 10  route_long_name            647207 non-null  object \n",
      " 11  direction_id               647207 non-null  float64\n",
      " 12  route_primary_direction    647207 non-null  object \n",
      " 13  frequency_in_minutes       647207 non-null  float64\n",
      " 14  delay                      647207 non-null  float64\n",
      " 15  actual_headway             647207 non-null  float64\n",
      " 16  schd_headway               647207 non-null  float64\n",
      " 17  actual_headway_min         647207 non-null  float64\n",
      " 18  bunched_y_n                647207 non-null  object \n",
      "dtypes: float64(7), int64(2), object(10)\n",
      "memory usage: 93.8+ MB\n"
     ]
    }
   ],
   "source": [
    "two_minutess_df.info()"
   ]
  },
  {
   "cell_type": "code",
   "execution_count": 165,
   "id": "dcd302cb-5f30-4318-8b28-cb29f6c376cd",
   "metadata": {},
   "outputs": [
    {
     "data": {
      "text/plain": [
       "not bunched    618075\n",
       "bunched         29132\n",
       "Name: bunched_y_n, dtype: int64"
      ]
     },
     "execution_count": 165,
     "metadata": {},
     "output_type": "execute_result"
    }
   ],
   "source": [
    "two_minutess_df.bunched_y_n.value_counts()"
   ]
  },
  {
   "cell_type": "markdown",
   "id": "626c2f22-4d45-4fe2-814d-773ae9dbd843",
   "metadata": {},
   "source": [
    "#### Same code as Transit Matters Approach"
   ]
  },
  {
   "cell_type": "code",
   "execution_count": 166,
   "id": "f2532ed7-194c-4b2d-841c-a2282379a44a",
   "metadata": {},
   "outputs": [],
   "source": [
    "two_minutes_agg1 = (\n",
    "    two_minutess_df.groupby(\n",
    "        [\n",
    "            \"schedule_gtfs_dataset_key\",\n",
    "            \"route_long_name\",\n",
    "            \"shape_array_key\",\n",
    "            \"route_id\",\n",
    "            \"stop_id\",\n",
    "            \"direction_id\",\n",
    "            \"route_primary_direction\",\n",
    "            \"bunched_y_n\",\n",
    "        ]\n",
    "    )\n",
    "    .agg({\"trip_instance_key\": \"nunique\"})\n",
    "    .reset_index()\n",
    ")"
   ]
  },
  {
   "cell_type": "code",
   "execution_count": 167,
   "id": "666be796-5edd-42aa-bffb-a5105d0753f5",
   "metadata": {},
   "outputs": [],
   "source": [
    "bunched_only_two_min = (\n",
    "    two_minutes_agg1.loc[two_minutes_agg1.bunched_y_n == \"bunched\"]\n",
    "    .reset_index(drop=True)\n",
    "    .rename(columns={\"trip_instance_key\": \"bunched_trips\"})\n",
    ")"
   ]
  },
  {
   "cell_type": "code",
   "execution_count": 168,
   "id": "37519780-57b0-47c8-a911-aa53ff7eb4d6",
   "metadata": {},
   "outputs": [],
   "source": [
    "# I want to do a left merge because I'm only interested in trips that bunched.\n",
    "bunched_only_two_min = pd.merge(\n",
    "    bunched_only_two_min,\n",
    "    transit_matters_all_trips,\n",
    "    on=[\n",
    "        \"schedule_gtfs_dataset_key\",\n",
    "        \"route_long_name\",\n",
    "        \"shape_array_key\",\n",
    "        \"route_id\",\n",
    "        \"stop_id\",\n",
    "        \"direction_id\",\n",
    "        \"route_primary_direction\",\n",
    "    ],\n",
    "    how=\"left\",\n",
    ")"
   ]
  },
  {
   "cell_type": "code",
   "execution_count": 169,
   "id": "993d3341-bb43-4553-852a-341b8726b710",
   "metadata": {},
   "outputs": [],
   "source": [
    "bunched_only_two_min[\"pct_trips_bunched\"] = (\n",
    "    bunched_only_two_min.bunched_trips / bunched_only_two_min.all_trips * 100\n",
    ")"
   ]
  },
  {
   "cell_type": "code",
   "execution_count": 170,
   "id": "91b29863-5465-48c9-8257-bf8d84457b11",
   "metadata": {},
   "outputs": [],
   "source": [
    "bunched_only_two_min = bunched_only_two_min.drop(columns=[\"all_trips\"])"
   ]
  },
  {
   "cell_type": "code",
   "execution_count": 171,
   "id": "9cb116be-b313-40e3-a0ef-a510b42da6e1",
   "metadata": {},
   "outputs": [],
   "source": [
    "# Need to do a left merge on all trips for the stops that don't have bunching.\n",
    "final_two_minute = pd.merge(\n",
    "    transit_matters_all_trips,\n",
    "    bunched_only_two_min,\n",
    "    on=[\n",
    "        \"schedule_gtfs_dataset_key\",\n",
    "        \"route_long_name\",\n",
    "        \"shape_array_key\",\n",
    "        \"route_id\",\n",
    "        \"stop_id\",\n",
    "        \"direction_id\",\n",
    "        \"route_primary_direction\",\n",
    "    ],\n",
    "    how=\"left\",\n",
    ")"
   ]
  },
  {
   "cell_type": "code",
   "execution_count": 181,
   "id": "961b9cfb-cb94-485c-bcf5-92e9b51024d4",
   "metadata": {},
   "outputs": [
    {
     "data": {
      "text/plain": [
       "(21130, 11)"
      ]
     },
     "execution_count": 181,
     "metadata": {},
     "output_type": "execute_result"
    }
   ],
   "source": [
    "final_two_minute.shape"
   ]
  },
  {
   "cell_type": "code",
   "execution_count": 182,
   "id": "cfefaf19-4eaa-4d10-a83d-79d2fe5d9c62",
   "metadata": {},
   "outputs": [],
   "source": [
    "final_two_minute = final_two_minute.drop(columns=[\"bunched_y_n\", \"bunched_trips\"])"
   ]
  },
  {
   "cell_type": "markdown",
   "id": "0245edb1-d604-49ce-895b-5427aa335c19",
   "metadata": {},
   "source": [
    "### Checkout all 3 using a stop_sequence/direction_id for Fillmore again\n",
    "* Very different results between the 3 approaches. \n",
    "* The coefficient one says frequent bunching lol, but the other methods say there isn't any bunching..."
   ]
  },
  {
   "cell_type": "code",
   "execution_count": 172,
   "id": "ff3e9b4f-7605-48c2-8b0a-20f81256a245",
   "metadata": {},
   "outputs": [
    {
     "data": {
      "text/plain": [
       "(21130, 11)"
      ]
     },
     "execution_count": 172,
     "metadata": {},
     "output_type": "execute_result"
    }
   ],
   "source": [
    "transit_matters_m2.shape"
   ]
  },
  {
   "cell_type": "code",
   "execution_count": 173,
   "id": "50982a5e-db93-4550-917d-774fbf6849ea",
   "metadata": {},
   "outputs": [
    {
     "data": {
      "text/plain": [
       "(17781, 21)"
      ]
     },
     "execution_count": 173,
     "metadata": {},
     "output_type": "execute_result"
    }
   ],
   "source": [
    "bunching_by_stops.shape"
   ]
  },
  {
   "cell_type": "code",
   "execution_count": 180,
   "id": "b1249289-f44d-468d-90f1-c27d78ea8b15",
   "metadata": {},
   "outputs": [
    {
     "data": {
      "text/html": [
       "<div>\n",
       "<style scoped>\n",
       "    .dataframe tbody tr th:only-of-type {\n",
       "        vertical-align: middle;\n",
       "    }\n",
       "\n",
       "    .dataframe tbody tr th {\n",
       "        vertical-align: top;\n",
       "    }\n",
       "\n",
       "    .dataframe thead th {\n",
       "        text-align: right;\n",
       "    }\n",
       "</style>\n",
       "<table border=\"1\" class=\"dataframe\">\n",
       "  <thead>\n",
       "    <tr style=\"text-align: right;\">\n",
       "      <th></th>\n",
       "      <th>trip_id</th>\n",
       "      <th>stop_id</th>\n",
       "      <th>stop_sequence</th>\n",
       "      <th>scheduled_arrival_sec</th>\n",
       "      <th>schedule_gtfs_dataset_key</th>\n",
       "      <th>trip_instance_key</th>\n",
       "      <th>rt_arrival_sec</th>\n",
       "      <th>route_id</th>\n",
       "      <th>shape_array_key</th>\n",
       "      <th>feed_key</th>\n",
       "      <th>route_long_name</th>\n",
       "      <th>direction_id</th>\n",
       "      <th>route_primary_direction</th>\n",
       "      <th>frequency_in_minutes</th>\n",
       "      <th>delay</th>\n",
       "      <th>schd_headway</th>\n",
       "      <th>avg_schd_headway_sec</th>\n",
       "      <th>std_dev_headway</th>\n",
       "      <th>bunching_coefficient</th>\n",
       "      <th>avg_schd_headway_min</th>\n",
       "      <th>passenger_op_perspective</th>\n",
       "    </tr>\n",
       "  </thead>\n",
       "  <tbody>\n",
       "    <tr>\n",
       "      <th>13445</th>\n",
       "      <td>11489975_M31</td>\n",
       "      <td>13086</td>\n",
       "      <td>13</td>\n",
       "      <td>69106.00</td>\n",
       "      <td>7cc0cb1871dfd558f11a2885c145d144</td>\n",
       "      <td>d30242b374225ed75a4aadd78fa8d7be</td>\n",
       "      <td>69048</td>\n",
       "      <td>22</td>\n",
       "      <td>1b678a66d0009c55bc573cfc37aa1029</td>\n",
       "      <td>7f69c2fdaa134642f14064a0b64d1495</td>\n",
       "      <td>FILLMORE</td>\n",
       "      <td>0.00</td>\n",
       "      <td>Southbound</td>\n",
       "      <td>7.61</td>\n",
       "      <td>-58.00</td>\n",
       "      <td>1907.00</td>\n",
       "      <td>1445.50</td>\n",
       "      <td>960.66</td>\n",
       "      <td>0.66</td>\n",
       "      <td>24.09</td>\n",
       "      <td>Frequent bunching</td>\n",
       "    </tr>\n",
       "  </tbody>\n",
       "</table>\n",
       "</div>"
      ],
      "text/plain": [
       "            trip_id stop_id  stop_sequence  scheduled_arrival_sec  \\\n",
       "13445  11489975_M31   13086             13               69106.00   \n",
       "\n",
       "              schedule_gtfs_dataset_key                 trip_instance_key  \\\n",
       "13445  7cc0cb1871dfd558f11a2885c145d144  d30242b374225ed75a4aadd78fa8d7be   \n",
       "\n",
       "       rt_arrival_sec route_id                   shape_array_key  \\\n",
       "13445           69048       22  1b678a66d0009c55bc573cfc37aa1029   \n",
       "\n",
       "                               feed_key route_long_name  direction_id  \\\n",
       "13445  7f69c2fdaa134642f14064a0b64d1495        FILLMORE          0.00   \n",
       "\n",
       "      route_primary_direction  frequency_in_minutes  delay  schd_headway  \\\n",
       "13445              Southbound                  7.61 -58.00       1907.00   \n",
       "\n",
       "       avg_schd_headway_sec  std_dev_headway  bunching_coefficient  \\\n",
       "13445               1445.50           960.66                  0.66   \n",
       "\n",
       "       avg_schd_headway_min passenger_op_perspective  \n",
       "13445                 24.09        Frequent bunching  "
      ]
     },
     "execution_count": 180,
     "metadata": {},
     "output_type": "execute_result"
    }
   ],
   "source": [
    "fillmore.loc[\n",
    "    (fillmore.shape_array_key == \"1b678a66d0009c55bc573cfc37aa1029\")\n",
    "    & (fillmore.stop_id == \"13086\")\n",
    "    & (fillmore.direction_id == 0)\n",
    "]"
   ]
  },
  {
   "cell_type": "code",
   "execution_count": 176,
   "id": "90f9c952-ecde-46d3-9b3f-93ba0004bb64",
   "metadata": {},
   "outputs": [
    {
     "data": {
      "text/html": [
       "<div>\n",
       "<style scoped>\n",
       "    .dataframe tbody tr th:only-of-type {\n",
       "        vertical-align: middle;\n",
       "    }\n",
       "\n",
       "    .dataframe tbody tr th {\n",
       "        vertical-align: top;\n",
       "    }\n",
       "\n",
       "    .dataframe thead th {\n",
       "        text-align: right;\n",
       "    }\n",
       "</style>\n",
       "<table border=\"1\" class=\"dataframe\">\n",
       "  <thead>\n",
       "    <tr style=\"text-align: right;\">\n",
       "      <th></th>\n",
       "      <th>schedule_gtfs_dataset_key</th>\n",
       "      <th>route_long_name</th>\n",
       "      <th>shape_array_key</th>\n",
       "      <th>route_id</th>\n",
       "      <th>stop_id</th>\n",
       "      <th>direction_id</th>\n",
       "      <th>route_primary_direction</th>\n",
       "      <th>all_trips</th>\n",
       "      <th>bunched_y_n</th>\n",
       "      <th>trip_instance_key</th>\n",
       "      <th>pct_trips_bunched</th>\n",
       "    </tr>\n",
       "  </thead>\n",
       "  <tbody>\n",
       "    <tr>\n",
       "      <th>16137</th>\n",
       "      <td>7cc0cb1871dfd558f11a2885c145d144</td>\n",
       "      <td>FILLMORE</td>\n",
       "      <td>1b678a66d0009c55bc573cfc37aa1029</td>\n",
       "      <td>22</td>\n",
       "      <td>13086</td>\n",
       "      <td>0.00</td>\n",
       "      <td>Southbound</td>\n",
       "      <td>7</td>\n",
       "      <td>NaN</td>\n",
       "      <td>NaN</td>\n",
       "      <td>0.00</td>\n",
       "    </tr>\n",
       "  </tbody>\n",
       "</table>\n",
       "</div>"
      ],
      "text/plain": [
       "              schedule_gtfs_dataset_key route_long_name  \\\n",
       "16137  7cc0cb1871dfd558f11a2885c145d144        FILLMORE   \n",
       "\n",
       "                        shape_array_key route_id stop_id  direction_id  \\\n",
       "16137  1b678a66d0009c55bc573cfc37aa1029       22   13086          0.00   \n",
       "\n",
       "      route_primary_direction  all_trips bunched_y_n  trip_instance_key  \\\n",
       "16137              Southbound          7         NaN                NaN   \n",
       "\n",
       "       pct_trips_bunched  \n",
       "16137               0.00  "
      ]
     },
     "execution_count": 176,
     "metadata": {},
     "output_type": "execute_result"
    }
   ],
   "source": [
    "transit_matters_m2.loc[\n",
    "    (transit_matters_m2.shape_array_key == \"1b678a66d0009c55bc573cfc37aa1029\")\n",
    "    & (transit_matters_m2.stop_id == \"13086\")\n",
    "    & (transit_matters_m2.direction_id == 0)\n",
    "]"
   ]
  },
  {
   "cell_type": "code",
   "execution_count": 177,
   "id": "68c6e64d-362e-4562-bc4d-3b8b03bd256d",
   "metadata": {},
   "outputs": [
    {
     "data": {
      "text/html": [
       "<div>\n",
       "<style scoped>\n",
       "    .dataframe tbody tr th:only-of-type {\n",
       "        vertical-align: middle;\n",
       "    }\n",
       "\n",
       "    .dataframe tbody tr th {\n",
       "        vertical-align: top;\n",
       "    }\n",
       "\n",
       "    .dataframe thead th {\n",
       "        text-align: right;\n",
       "    }\n",
       "</style>\n",
       "<table border=\"1\" class=\"dataframe\">\n",
       "  <thead>\n",
       "    <tr style=\"text-align: right;\">\n",
       "      <th></th>\n",
       "      <th>schedule_gtfs_dataset_key</th>\n",
       "      <th>route_long_name</th>\n",
       "      <th>shape_array_key</th>\n",
       "      <th>route_id</th>\n",
       "      <th>stop_id</th>\n",
       "      <th>direction_id</th>\n",
       "      <th>route_primary_direction</th>\n",
       "      <th>all_trips</th>\n",
       "      <th>bunched_y_n</th>\n",
       "      <th>bunched_trips</th>\n",
       "      <th>pct_trips_bunched</th>\n",
       "    </tr>\n",
       "  </thead>\n",
       "  <tbody>\n",
       "    <tr>\n",
       "      <th>16137</th>\n",
       "      <td>7cc0cb1871dfd558f11a2885c145d144</td>\n",
       "      <td>FILLMORE</td>\n",
       "      <td>1b678a66d0009c55bc573cfc37aa1029</td>\n",
       "      <td>22</td>\n",
       "      <td>13086</td>\n",
       "      <td>0.00</td>\n",
       "      <td>Southbound</td>\n",
       "      <td>7</td>\n",
       "      <td>NaN</td>\n",
       "      <td>NaN</td>\n",
       "      <td>NaN</td>\n",
       "    </tr>\n",
       "  </tbody>\n",
       "</table>\n",
       "</div>"
      ],
      "text/plain": [
       "              schedule_gtfs_dataset_key route_long_name  \\\n",
       "16137  7cc0cb1871dfd558f11a2885c145d144        FILLMORE   \n",
       "\n",
       "                        shape_array_key route_id stop_id  direction_id  \\\n",
       "16137  1b678a66d0009c55bc573cfc37aa1029       22   13086          0.00   \n",
       "\n",
       "      route_primary_direction  all_trips bunched_y_n  bunched_trips  \\\n",
       "16137              Southbound          7         NaN            NaN   \n",
       "\n",
       "       pct_trips_bunched  \n",
       "16137                NaN  "
      ]
     },
     "execution_count": 177,
     "metadata": {},
     "output_type": "execute_result"
    }
   ],
   "source": [
    "final_two_minute.loc[\n",
    "    (final_two_minute.shape_array_key == \"1b678a66d0009c55bc573cfc37aa1029\")\n",
    "    & (final_two_minute.stop_id == \"13086\")\n",
    "    & (final_two_minute.direction_id == 0)\n",
    "]"
   ]
  },
  {
   "cell_type": "code",
   "execution_count": 178,
   "id": "bb2c1e1a-e243-4786-b9e1-07e64e8a7fbf",
   "metadata": {},
   "outputs": [
    {
     "name": "stderr",
     "output_type": "stream",
     "text": [
      "/tmp/ipykernel_317/3005708948.py:2: SettingWithCopyWarning: \n",
      "A value is trying to be set on a copy of a slice from a DataFrame.\n",
      "Try using .loc[row_indexer,col_indexer] = value instead\n",
      "\n",
      "See the caveats in the documentation: https://pandas.pydata.org/pandas-docs/stable/user_guide/indexing.html#returning-a-view-versus-a-copy\n",
      "  transit_matters_fillmore_test[\"rt_arrival_time\"] = pd.to_timedelta(\n"
     ]
    }
   ],
   "source": [
    "# convert seconds to timestamp\n",
    "transit_matters_fillmore_test[\"rt_arrival_time\"] = pd.to_timedelta(\n",
    "    transit_matters_fillmore_test[\"rt_arrival_sec\"], unit=\"s\"\n",
    ")"
   ]
  },
  {
   "cell_type": "code",
   "execution_count": 179,
   "id": "2ac7215b-82e7-4cf7-92b0-220cb46a4416",
   "metadata": {},
   "outputs": [
    {
     "data": {
      "text/html": [
       "<div>\n",
       "<style scoped>\n",
       "    .dataframe tbody tr th:only-of-type {\n",
       "        vertical-align: middle;\n",
       "    }\n",
       "\n",
       "    .dataframe tbody tr th {\n",
       "        vertical-align: top;\n",
       "    }\n",
       "\n",
       "    .dataframe thead th {\n",
       "        text-align: right;\n",
       "    }\n",
       "</style>\n",
       "<table border=\"1\" class=\"dataframe\">\n",
       "  <thead>\n",
       "    <tr style=\"text-align: right;\">\n",
       "      <th></th>\n",
       "      <th>trip_id</th>\n",
       "      <th>stop_id</th>\n",
       "      <th>stop_sequence</th>\n",
       "      <th>scheduled_arrival_sec</th>\n",
       "      <th>schedule_gtfs_dataset_key</th>\n",
       "      <th>trip_instance_key</th>\n",
       "      <th>rt_arrival_sec</th>\n",
       "      <th>route_id</th>\n",
       "      <th>shape_array_key</th>\n",
       "      <th>feed_key</th>\n",
       "      <th>route_long_name</th>\n",
       "      <th>direction_id</th>\n",
       "      <th>route_primary_direction</th>\n",
       "      <th>frequency_in_minutes</th>\n",
       "      <th>delay</th>\n",
       "      <th>actual_headway</th>\n",
       "      <th>schd_headway</th>\n",
       "      <th>pct_actual_schd_headway</th>\n",
       "      <th>bunched_y_n</th>\n",
       "      <th>actual_headway_min</th>\n",
       "      <th>schd_headway_min</th>\n",
       "      <th>rt_arrival_time</th>\n",
       "    </tr>\n",
       "  </thead>\n",
       "  <tbody>\n",
       "    <tr>\n",
       "      <th>452304</th>\n",
       "      <td>11489969_M31</td>\n",
       "      <td>13086</td>\n",
       "      <td>13</td>\n",
       "      <td>67199.00</td>\n",
       "      <td>7cc0cb1871dfd558f11a2885c145d144</td>\n",
       "      <td>b73ff68241fdcb9ff5a3f3be424b2268</td>\n",
       "      <td>67051</td>\n",
       "      <td>22</td>\n",
       "      <td>1b678a66d0009c55bc573cfc37aa1029</td>\n",
       "      <td>7f69c2fdaa134642f14064a0b64d1495</td>\n",
       "      <td>FILLMORE</td>\n",
       "      <td>0.00</td>\n",
       "      <td>Southbound</td>\n",
       "      <td>7.61</td>\n",
       "      <td>-148.00</td>\n",
       "      <td>NaN</td>\n",
       "      <td>NaN</td>\n",
       "      <td>NaN</td>\n",
       "      <td>not bunched</td>\n",
       "      <td>NaN</td>\n",
       "      <td>NaN</td>\n",
       "      <td>0 days 18:37:31</td>\n",
       "    </tr>\n",
       "    <tr>\n",
       "      <th>452305</th>\n",
       "      <td>11489975_M31</td>\n",
       "      <td>13086</td>\n",
       "      <td>13</td>\n",
       "      <td>69106.00</td>\n",
       "      <td>7cc0cb1871dfd558f11a2885c145d144</td>\n",
       "      <td>d30242b374225ed75a4aadd78fa8d7be</td>\n",
       "      <td>69048</td>\n",
       "      <td>22</td>\n",
       "      <td>1b678a66d0009c55bc573cfc37aa1029</td>\n",
       "      <td>7f69c2fdaa134642f14064a0b64d1495</td>\n",
       "      <td>FILLMORE</td>\n",
       "      <td>0.00</td>\n",
       "      <td>Southbound</td>\n",
       "      <td>7.61</td>\n",
       "      <td>-58.00</td>\n",
       "      <td>1997.00</td>\n",
       "      <td>1907.00</td>\n",
       "      <td>1.05</td>\n",
       "      <td>not bunched</td>\n",
       "      <td>33.28</td>\n",
       "      <td>31.78</td>\n",
       "      <td>0 days 19:10:48</td>\n",
       "    </tr>\n",
       "    <tr>\n",
       "      <th>452306</th>\n",
       "      <td>11489815_M31</td>\n",
       "      <td>13086</td>\n",
       "      <td>13</td>\n",
       "      <td>69466.00</td>\n",
       "      <td>7cc0cb1871dfd558f11a2885c145d144</td>\n",
       "      <td>186fd89b59a49ddc1e84cb4b89c066d8</td>\n",
       "      <td>69723</td>\n",
       "      <td>22</td>\n",
       "      <td>1b678a66d0009c55bc573cfc37aa1029</td>\n",
       "      <td>7f69c2fdaa134642f14064a0b64d1495</td>\n",
       "      <td>FILLMORE</td>\n",
       "      <td>0.00</td>\n",
       "      <td>Southbound</td>\n",
       "      <td>7.61</td>\n",
       "      <td>257.00</td>\n",
       "      <td>675.00</td>\n",
       "      <td>360.00</td>\n",
       "      <td>1.88</td>\n",
       "      <td>not bunched</td>\n",
       "      <td>11.25</td>\n",
       "      <td>6.00</td>\n",
       "      <td>0 days 19:22:03</td>\n",
       "    </tr>\n",
       "    <tr>\n",
       "      <th>452307</th>\n",
       "      <td>11489816_M31</td>\n",
       "      <td>13086</td>\n",
       "      <td>13</td>\n",
       "      <td>70006.00</td>\n",
       "      <td>7cc0cb1871dfd558f11a2885c145d144</td>\n",
       "      <td>5cd2523ccd8c33e277aaae0ac9af35c8</td>\n",
       "      <td>70421</td>\n",
       "      <td>22</td>\n",
       "      <td>1b678a66d0009c55bc573cfc37aa1029</td>\n",
       "      <td>7f69c2fdaa134642f14064a0b64d1495</td>\n",
       "      <td>FILLMORE</td>\n",
       "      <td>0.00</td>\n",
       "      <td>Southbound</td>\n",
       "      <td>7.61</td>\n",
       "      <td>415.00</td>\n",
       "      <td>698.00</td>\n",
       "      <td>540.00</td>\n",
       "      <td>1.29</td>\n",
       "      <td>not bunched</td>\n",
       "      <td>11.63</td>\n",
       "      <td>9.00</td>\n",
       "      <td>0 days 19:33:41</td>\n",
       "    </tr>\n",
       "    <tr>\n",
       "      <th>452308</th>\n",
       "      <td>11489817_M31</td>\n",
       "      <td>13086</td>\n",
       "      <td>13</td>\n",
       "      <td>72992.00</td>\n",
       "      <td>7cc0cb1871dfd558f11a2885c145d144</td>\n",
       "      <td>45830206e5f4a07c06e520968f4b789f</td>\n",
       "      <td>73064</td>\n",
       "      <td>22</td>\n",
       "      <td>1b678a66d0009c55bc573cfc37aa1029</td>\n",
       "      <td>7f69c2fdaa134642f14064a0b64d1495</td>\n",
       "      <td>FILLMORE</td>\n",
       "      <td>0.00</td>\n",
       "      <td>Southbound</td>\n",
       "      <td>7.61</td>\n",
       "      <td>72.00</td>\n",
       "      <td>2643.00</td>\n",
       "      <td>2986.00</td>\n",
       "      <td>0.89</td>\n",
       "      <td>not bunched</td>\n",
       "      <td>44.05</td>\n",
       "      <td>49.77</td>\n",
       "      <td>0 days 20:17:44</td>\n",
       "    </tr>\n",
       "    <tr>\n",
       "      <th>452309</th>\n",
       "      <td>11489861_M31</td>\n",
       "      <td>13086</td>\n",
       "      <td>13</td>\n",
       "      <td>74432.00</td>\n",
       "      <td>7cc0cb1871dfd558f11a2885c145d144</td>\n",
       "      <td>a28a9fc884812bbb9e404de1dd970ccd</td>\n",
       "      <td>75434</td>\n",
       "      <td>22</td>\n",
       "      <td>1b678a66d0009c55bc573cfc37aa1029</td>\n",
       "      <td>7f69c2fdaa134642f14064a0b64d1495</td>\n",
       "      <td>FILLMORE</td>\n",
       "      <td>0.00</td>\n",
       "      <td>Southbound</td>\n",
       "      <td>7.61</td>\n",
       "      <td>1002.00</td>\n",
       "      <td>2370.00</td>\n",
       "      <td>1440.00</td>\n",
       "      <td>1.65</td>\n",
       "      <td>not bunched</td>\n",
       "      <td>39.50</td>\n",
       "      <td>24.00</td>\n",
       "      <td>0 days 20:57:14</td>\n",
       "    </tr>\n",
       "    <tr>\n",
       "      <th>452310</th>\n",
       "      <td>11489818_M31</td>\n",
       "      <td>13086</td>\n",
       "      <td>13</td>\n",
       "      <td>75872.00</td>\n",
       "      <td>7cc0cb1871dfd558f11a2885c145d144</td>\n",
       "      <td>c20c26a42e6277dd327fe1280cead6a8</td>\n",
       "      <td>75943</td>\n",
       "      <td>22</td>\n",
       "      <td>1b678a66d0009c55bc573cfc37aa1029</td>\n",
       "      <td>7f69c2fdaa134642f14064a0b64d1495</td>\n",
       "      <td>FILLMORE</td>\n",
       "      <td>0.00</td>\n",
       "      <td>Southbound</td>\n",
       "      <td>7.61</td>\n",
       "      <td>71.00</td>\n",
       "      <td>509.00</td>\n",
       "      <td>1440.00</td>\n",
       "      <td>0.35</td>\n",
       "      <td>not bunched</td>\n",
       "      <td>8.48</td>\n",
       "      <td>24.00</td>\n",
       "      <td>0 days 21:05:43</td>\n",
       "    </tr>\n",
       "  </tbody>\n",
       "</table>\n",
       "</div>"
      ],
      "text/plain": [
       "             trip_id stop_id  stop_sequence  scheduled_arrival_sec  \\\n",
       "452304  11489969_M31   13086             13               67199.00   \n",
       "452305  11489975_M31   13086             13               69106.00   \n",
       "452306  11489815_M31   13086             13               69466.00   \n",
       "452307  11489816_M31   13086             13               70006.00   \n",
       "452308  11489817_M31   13086             13               72992.00   \n",
       "452309  11489861_M31   13086             13               74432.00   \n",
       "452310  11489818_M31   13086             13               75872.00   \n",
       "\n",
       "               schedule_gtfs_dataset_key                 trip_instance_key  \\\n",
       "452304  7cc0cb1871dfd558f11a2885c145d144  b73ff68241fdcb9ff5a3f3be424b2268   \n",
       "452305  7cc0cb1871dfd558f11a2885c145d144  d30242b374225ed75a4aadd78fa8d7be   \n",
       "452306  7cc0cb1871dfd558f11a2885c145d144  186fd89b59a49ddc1e84cb4b89c066d8   \n",
       "452307  7cc0cb1871dfd558f11a2885c145d144  5cd2523ccd8c33e277aaae0ac9af35c8   \n",
       "452308  7cc0cb1871dfd558f11a2885c145d144  45830206e5f4a07c06e520968f4b789f   \n",
       "452309  7cc0cb1871dfd558f11a2885c145d144  a28a9fc884812bbb9e404de1dd970ccd   \n",
       "452310  7cc0cb1871dfd558f11a2885c145d144  c20c26a42e6277dd327fe1280cead6a8   \n",
       "\n",
       "        rt_arrival_sec route_id                   shape_array_key  \\\n",
       "452304           67051       22  1b678a66d0009c55bc573cfc37aa1029   \n",
       "452305           69048       22  1b678a66d0009c55bc573cfc37aa1029   \n",
       "452306           69723       22  1b678a66d0009c55bc573cfc37aa1029   \n",
       "452307           70421       22  1b678a66d0009c55bc573cfc37aa1029   \n",
       "452308           73064       22  1b678a66d0009c55bc573cfc37aa1029   \n",
       "452309           75434       22  1b678a66d0009c55bc573cfc37aa1029   \n",
       "452310           75943       22  1b678a66d0009c55bc573cfc37aa1029   \n",
       "\n",
       "                                feed_key route_long_name  direction_id  \\\n",
       "452304  7f69c2fdaa134642f14064a0b64d1495        FILLMORE          0.00   \n",
       "452305  7f69c2fdaa134642f14064a0b64d1495        FILLMORE          0.00   \n",
       "452306  7f69c2fdaa134642f14064a0b64d1495        FILLMORE          0.00   \n",
       "452307  7f69c2fdaa134642f14064a0b64d1495        FILLMORE          0.00   \n",
       "452308  7f69c2fdaa134642f14064a0b64d1495        FILLMORE          0.00   \n",
       "452309  7f69c2fdaa134642f14064a0b64d1495        FILLMORE          0.00   \n",
       "452310  7f69c2fdaa134642f14064a0b64d1495        FILLMORE          0.00   \n",
       "\n",
       "       route_primary_direction  frequency_in_minutes   delay  actual_headway  \\\n",
       "452304              Southbound                  7.61 -148.00             NaN   \n",
       "452305              Southbound                  7.61  -58.00         1997.00   \n",
       "452306              Southbound                  7.61  257.00          675.00   \n",
       "452307              Southbound                  7.61  415.00          698.00   \n",
       "452308              Southbound                  7.61   72.00         2643.00   \n",
       "452309              Southbound                  7.61 1002.00         2370.00   \n",
       "452310              Southbound                  7.61   71.00          509.00   \n",
       "\n",
       "        schd_headway  pct_actual_schd_headway  bunched_y_n  \\\n",
       "452304           NaN                      NaN  not bunched   \n",
       "452305       1907.00                     1.05  not bunched   \n",
       "452306        360.00                     1.88  not bunched   \n",
       "452307        540.00                     1.29  not bunched   \n",
       "452308       2986.00                     0.89  not bunched   \n",
       "452309       1440.00                     1.65  not bunched   \n",
       "452310       1440.00                     0.35  not bunched   \n",
       "\n",
       "        actual_headway_min  schd_headway_min rt_arrival_time  \n",
       "452304                 NaN               NaN 0 days 18:37:31  \n",
       "452305               33.28             31.78 0 days 19:10:48  \n",
       "452306               11.25              6.00 0 days 19:22:03  \n",
       "452307               11.63              9.00 0 days 19:33:41  \n",
       "452308               44.05             49.77 0 days 20:17:44  \n",
       "452309               39.50             24.00 0 days 20:57:14  \n",
       "452310                8.48             24.00 0 days 21:05:43  "
      ]
     },
     "execution_count": 179,
     "metadata": {},
     "output_type": "execute_result"
    }
   ],
   "source": [
    "transit_matters_fillmore_test"
   ]
  }
 ],
 "metadata": {
  "kernelspec": {
   "display_name": "Python 3 (ipykernel)",
   "language": "python",
   "name": "python3"
  },
  "language_info": {
   "codemirror_mode": {
    "name": "ipython",
    "version": 3
   },
   "file_extension": ".py",
   "mimetype": "text/x-python",
   "name": "python",
   "nbconvert_exporter": "python",
   "pygments_lexer": "ipython3",
   "version": "3.9.13"
  }
 },
 "nbformat": 4,
 "nbformat_minor": 5
}
