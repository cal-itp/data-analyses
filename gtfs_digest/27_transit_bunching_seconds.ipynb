{
 "cells": [
  {
   "cell_type": "markdown",
   "id": "733e5c07-e894-48de-b92a-9cba10b7fc9a",
   "metadata": {},
   "source": [
    "## I tried turning `stop_times` to actual dates but it seems like seconds is easier to manipulate.\n",
    "* 10_transit_bunching.ipynb contains timestamps attempts\n",
    "* cd data-analyses/rt_segment_speeds && pip install -r requirements.txt && cd ../_shared_utils && make setup_env && cd ../gtfs_digest\n",
    "* [Issue](https://github.com/cal-itp/data-analyses/issues/1099)"
   ]
  },
  {
   "cell_type": "code",
   "execution_count": 1,
   "id": "60097cf1-857d-4c7f-9fc7-043a69ec1a61",
   "metadata": {},
   "outputs": [],
   "source": [
    "import geopandas as gpd\n",
    "import pandas as pd\n",
    "from segment_speed_utils import gtfs_schedule_wrangling, helpers\n",
    "from shared_utils import catalog_utils, rt_dates, rt_utils\n",
    "from update_vars import GTFS_DATA_DICT, RT_SCHED_GCS, SCHED_GCS\n",
    "\n",
    "# https://github.com/cal-itp/data-analyses/blob/main/_shared_utils/shared_utils/gtfs_analytics_data.yml\n",
    "GTFS_DATA_DICT = catalog_utils.get_catalog(\"gtfs_analytics_data\")\n",
    "\n",
    "from segment_speed_utils.project_vars import (\n",
    "    COMPILED_CACHED_VIEWS,\n",
    "    GTFS_DATA_DICT,\n",
    "    PROJECT_CRS,\n",
    "    RT_SCHED_GCS,\n",
    "    SCHED_GCS,\n",
    "    SEGMENT_GCS,\n",
    ")"
   ]
  },
  {
   "cell_type": "code",
   "execution_count": 2,
   "id": "51a085f8-5981-4da7-904f-6348cf2e18b0",
   "metadata": {},
   "outputs": [],
   "source": [
    "pd.options.display.max_columns = 100\n",
    "pd.options.display.float_format = \"{:.2f}\".format\n",
    "pd.set_option(\"display.max_rows\", None)\n",
    "pd.set_option(\"display.max_colwidth\", None)"
   ]
  },
  {
   "cell_type": "code",
   "execution_count": 3,
   "id": "113bd786-8d4b-4153-939b-b419b4fa97ee",
   "metadata": {},
   "outputs": [],
   "source": [
    "may_date = \"2024-05-22\""
   ]
  },
  {
   "cell_type": "code",
   "execution_count": 4,
   "id": "7b8870df-fd24-4433-89c9-49dc71d59a5f",
   "metadata": {},
   "outputs": [],
   "source": [
    "import merge_data"
   ]
  },
  {
   "cell_type": "code",
   "execution_count": 5,
   "id": "44a80420-dbe8-4a2b-9c47-44b32bf28e00",
   "metadata": {},
   "outputs": [],
   "source": [
    "drop_for_preview = [\n",
    "    \"schedule_gtfs_dataset_key\",\n",
    "    \"trip_instance_key\",\n",
    "    \"shape_array_key\",\n",
    "    \"feed_key\",\n",
    "    \"trip_id\",\n",
    "]"
   ]
  },
  {
   "cell_type": "markdown",
   "id": "2be7e7cc-b6c5-4c87-b2d5-6cb8612e23ce",
   "metadata": {},
   "source": [
    "### Get high frequency routes"
   ]
  },
  {
   "cell_type": "code",
   "execution_count": 6,
   "id": "873bf893-40a2-4b64-84ba-68604c6df18b",
   "metadata": {},
   "outputs": [],
   "source": [
    "subset = [\n",
    "    \"schedule_gtfs_dataset_key\",\n",
    "    \"route_id\",\n",
    "    \"direction_id\",\n",
    "    \"route_primary_direction\",\n",
    "    \"service_date\",\n",
    "    \"frequency\",\n",
    "]"
   ]
  },
  {
   "cell_type": "code",
   "execution_count": 7,
   "id": "9d07da3c-e347-4671-925b-e8f5bc31c0fd",
   "metadata": {},
   "outputs": [],
   "source": [
    "route_dir = merge_data.concatenate_schedule_by_route_direction([may_date])[subset]"
   ]
  },
  {
   "cell_type": "code",
   "execution_count": 8,
   "id": "f20ecdf1-76e0-4f7f-a10d-97860f6911e8",
   "metadata": {},
   "outputs": [],
   "source": [
    "route_dir[\"frequency_in_minutes\"] = 60 / route_dir.frequency"
   ]
  },
  {
   "cell_type": "code",
   "execution_count": 9,
   "id": "43bbb489-39ab-4c98-8685-66f94c413bf6",
   "metadata": {},
   "outputs": [],
   "source": [
    "route_dir2 = route_dir.loc[route_dir.frequency_in_minutes <= 10]"
   ]
  },
  {
   "cell_type": "code",
   "execution_count": 10,
   "id": "400e34af-2e31-4f32-aee7-17a7a60f662c",
   "metadata": {},
   "outputs": [
    {
     "data": {
      "text/html": [
       "<div>\n",
       "<style scoped>\n",
       "    .dataframe tbody tr th:only-of-type {\n",
       "        vertical-align: middle;\n",
       "    }\n",
       "\n",
       "    .dataframe tbody tr th {\n",
       "        vertical-align: top;\n",
       "    }\n",
       "\n",
       "    .dataframe thead th {\n",
       "        text-align: right;\n",
       "    }\n",
       "</style>\n",
       "<table border=\"1\" class=\"dataframe\">\n",
       "  <thead>\n",
       "    <tr style=\"text-align: right;\">\n",
       "      <th></th>\n",
       "      <th>schedule_gtfs_dataset_key</th>\n",
       "      <th>route_id</th>\n",
       "      <th>direction_id</th>\n",
       "      <th>route_primary_direction</th>\n",
       "      <th>service_date</th>\n",
       "      <th>frequency</th>\n",
       "      <th>frequency_in_minutes</th>\n",
       "    </tr>\n",
       "  </thead>\n",
       "  <tbody>\n",
       "    <tr>\n",
       "      <th>200</th>\n",
       "      <td>0666caf3ec1ecc96b74f4477ee4bc939</td>\n",
       "      <td>16-13172</td>\n",
       "      <td>0.00</td>\n",
       "      <td>Eastbound</td>\n",
       "      <td>2024-05-22</td>\n",
       "      <td>6.71</td>\n",
       "      <td>8.94</td>\n",
       "    </tr>\n",
       "    <tr>\n",
       "      <th>202</th>\n",
       "      <td>0666caf3ec1ecc96b74f4477ee4bc939</td>\n",
       "      <td>16-13172</td>\n",
       "      <td>0.00</td>\n",
       "      <td>Eastbound</td>\n",
       "      <td>2024-05-22</td>\n",
       "      <td>8.88</td>\n",
       "      <td>6.76</td>\n",
       "    </tr>\n",
       "    <tr>\n",
       "      <th>205</th>\n",
       "      <td>0666caf3ec1ecc96b74f4477ee4bc939</td>\n",
       "      <td>16-13172</td>\n",
       "      <td>1.00</td>\n",
       "      <td>Westbound</td>\n",
       "      <td>2024-05-22</td>\n",
       "      <td>8.75</td>\n",
       "      <td>6.86</td>\n",
       "    </tr>\n",
       "    <tr>\n",
       "      <th>262</th>\n",
       "      <td>0666caf3ec1ecc96b74f4477ee4bc939</td>\n",
       "      <td>18-13172</td>\n",
       "      <td>0.00</td>\n",
       "      <td>Eastbound</td>\n",
       "      <td>2024-05-22</td>\n",
       "      <td>8.12</td>\n",
       "      <td>7.39</td>\n",
       "    </tr>\n",
       "    <tr>\n",
       "      <th>265</th>\n",
       "      <td>0666caf3ec1ecc96b74f4477ee4bc939</td>\n",
       "      <td>18-13172</td>\n",
       "      <td>1.00</td>\n",
       "      <td>Westbound</td>\n",
       "      <td>2024-05-22</td>\n",
       "      <td>7.75</td>\n",
       "      <td>7.74</td>\n",
       "    </tr>\n",
       "    <tr>\n",
       "      <th>268</th>\n",
       "      <td>0666caf3ec1ecc96b74f4477ee4bc939</td>\n",
       "      <td>180-13172</td>\n",
       "      <td>0.00</td>\n",
       "      <td>Eastbound</td>\n",
       "      <td>2024-05-22</td>\n",
       "      <td>6.00</td>\n",
       "      <td>10.00</td>\n",
       "    </tr>\n",
       "    <tr>\n",
       "      <th>280</th>\n",
       "      <td>0666caf3ec1ecc96b74f4477ee4bc939</td>\n",
       "      <td>2-13172</td>\n",
       "      <td>0.00</td>\n",
       "      <td>Eastbound</td>\n",
       "      <td>2024-05-22</td>\n",
       "      <td>6.62</td>\n",
       "      <td>9.06</td>\n",
       "    </tr>\n",
       "    <tr>\n",
       "      <th>316</th>\n",
       "      <td>0666caf3ec1ecc96b74f4477ee4bc939</td>\n",
       "      <td>207-13172</td>\n",
       "      <td>0.00</td>\n",
       "      <td>Northbound</td>\n",
       "      <td>2024-05-22</td>\n",
       "      <td>7.50</td>\n",
       "      <td>8.00</td>\n",
       "    </tr>\n",
       "    <tr>\n",
       "      <th>317</th>\n",
       "      <td>0666caf3ec1ecc96b74f4477ee4bc939</td>\n",
       "      <td>207-13172</td>\n",
       "      <td>1.00</td>\n",
       "      <td>Southbound</td>\n",
       "      <td>2024-05-22</td>\n",
       "      <td>6.00</td>\n",
       "      <td>10.00</td>\n",
       "    </tr>\n",
       "    <tr>\n",
       "      <th>319</th>\n",
       "      <td>0666caf3ec1ecc96b74f4477ee4bc939</td>\n",
       "      <td>207-13172</td>\n",
       "      <td>1.00</td>\n",
       "      <td>Southbound</td>\n",
       "      <td>2024-05-22</td>\n",
       "      <td>8.50</td>\n",
       "      <td>7.06</td>\n",
       "    </tr>\n",
       "  </tbody>\n",
       "</table>\n",
       "</div>"
      ],
      "text/plain": [
       "            schedule_gtfs_dataset_key   route_id  direction_id  \\\n",
       "200  0666caf3ec1ecc96b74f4477ee4bc939   16-13172          0.00   \n",
       "202  0666caf3ec1ecc96b74f4477ee4bc939   16-13172          0.00   \n",
       "205  0666caf3ec1ecc96b74f4477ee4bc939   16-13172          1.00   \n",
       "262  0666caf3ec1ecc96b74f4477ee4bc939   18-13172          0.00   \n",
       "265  0666caf3ec1ecc96b74f4477ee4bc939   18-13172          1.00   \n",
       "268  0666caf3ec1ecc96b74f4477ee4bc939  180-13172          0.00   \n",
       "280  0666caf3ec1ecc96b74f4477ee4bc939    2-13172          0.00   \n",
       "316  0666caf3ec1ecc96b74f4477ee4bc939  207-13172          0.00   \n",
       "317  0666caf3ec1ecc96b74f4477ee4bc939  207-13172          1.00   \n",
       "319  0666caf3ec1ecc96b74f4477ee4bc939  207-13172          1.00   \n",
       "\n",
       "    route_primary_direction service_date  frequency  frequency_in_minutes  \n",
       "200               Eastbound   2024-05-22       6.71                  8.94  \n",
       "202               Eastbound   2024-05-22       8.88                  6.76  \n",
       "205               Westbound   2024-05-22       8.75                  6.86  \n",
       "262               Eastbound   2024-05-22       8.12                  7.39  \n",
       "265               Westbound   2024-05-22       7.75                  7.74  \n",
       "268               Eastbound   2024-05-22       6.00                 10.00  \n",
       "280               Eastbound   2024-05-22       6.62                  9.06  \n",
       "316              Northbound   2024-05-22       7.50                  8.00  \n",
       "317              Southbound   2024-05-22       6.00                 10.00  \n",
       "319              Southbound   2024-05-22       8.50                  7.06  "
      ]
     },
     "execution_count": 10,
     "metadata": {},
     "output_type": "execute_result"
    }
   ],
   "source": [
    "route_dir2.head(10)"
   ]
  },
  {
   "cell_type": "code",
   "execution_count": 11,
   "id": "15686657-ff58-4318-ac9a-8b64dc8502c9",
   "metadata": {},
   "outputs": [],
   "source": [
    "high_frequency_routes_crosswalk = (\n",
    "    route_dir[\n",
    "        [\n",
    "            \"schedule_gtfs_dataset_key\",\n",
    "            \"route_id\",\n",
    "            \"direction_id\",\n",
    "            \"route_primary_direction\",\n",
    "            \"frequency_in_minutes\",\n",
    "        ]\n",
    "    ]\n",
    "    .drop_duplicates(\n",
    "        [\n",
    "            \"schedule_gtfs_dataset_key\",\n",
    "            \"route_id\",\n",
    "            \"direction_id\",\n",
    "            \"route_primary_direction\",\n",
    "        ]\n",
    "    )\n",
    "    .reset_index(drop=True)\n",
    ")"
   ]
  },
  {
   "cell_type": "code",
   "execution_count": 109,
   "id": "6de5e9e1-7f9c-44b0-b263-ac5b195f6bc7",
   "metadata": {},
   "outputs": [
    {
     "data": {
      "text/plain": [
       "1338"
      ]
     },
     "execution_count": 109,
     "metadata": {},
     "output_type": "execute_result"
    }
   ],
   "source": [
    "high_frequency_routes_crosswalk.route_id.nunique()"
   ]
  },
  {
   "cell_type": "markdown",
   "id": "207670ea-105b-4b6a-be32-53bfcc79349b",
   "metadata": {},
   "source": [
    "### Get trips of high frequency routes"
   ]
  },
  {
   "cell_type": "code",
   "execution_count": 12,
   "id": "674f8ee6-3f6d-4f90-90ba-7ea9ee688b28",
   "metadata": {},
   "outputs": [],
   "source": [
    "TABLE = GTFS_DATA_DICT.schedule_downloads.trips"
   ]
  },
  {
   "cell_type": "code",
   "execution_count": 13,
   "id": "5333afa8-4849-4864-b253-b03a1093e84f",
   "metadata": {},
   "outputs": [],
   "source": [
    "FILE = f\"{COMPILED_CACHED_VIEWS}{TABLE}_{may_date}.parquet\""
   ]
  },
  {
   "cell_type": "code",
   "execution_count": 14,
   "id": "111e2c27-337d-4440-a1f6-10ec582a6f9e",
   "metadata": {},
   "outputs": [],
   "source": [
    "trips_subset = [\n",
    "    \"gtfs_dataset_key\",\n",
    "    \"route_id\",\n",
    "    \"trip_instance_key\",\n",
    "    \"shape_array_key\",\n",
    "    \"feed_key\",\n",
    "    \"route_long_name\",\n",
    "    \"direction_id\",\n",
    "]"
   ]
  },
  {
   "cell_type": "code",
   "execution_count": 15,
   "id": "ed7708b5-90d5-4bd9-aeab-cbdf4f0fa1c6",
   "metadata": {},
   "outputs": [
    {
     "data": {
      "text/html": [
       "<div>\n",
       "<style scoped>\n",
       "    .dataframe tbody tr th:only-of-type {\n",
       "        vertical-align: middle;\n",
       "    }\n",
       "\n",
       "    .dataframe tbody tr th {\n",
       "        vertical-align: top;\n",
       "    }\n",
       "\n",
       "    .dataframe thead th {\n",
       "        text-align: right;\n",
       "    }\n",
       "</style>\n",
       "<table border=\"1\" class=\"dataframe\">\n",
       "  <thead>\n",
       "    <tr style=\"text-align: right;\">\n",
       "      <th></th>\n",
       "      <th>schedule_gtfs_dataset_key</th>\n",
       "      <th>route_id</th>\n",
       "      <th>direction_id</th>\n",
       "      <th>route_primary_direction</th>\n",
       "      <th>frequency_in_minutes</th>\n",
       "    </tr>\n",
       "  </thead>\n",
       "  <tbody>\n",
       "    <tr>\n",
       "      <th>0</th>\n",
       "      <td>015d67d5b75b5cf2b710bbadadfb75f5</td>\n",
       "      <td>17</td>\n",
       "      <td>0.00</td>\n",
       "      <td>Northbound</td>\n",
       "      <td>65.22</td>\n",
       "    </tr>\n",
       "  </tbody>\n",
       "</table>\n",
       "</div>"
      ],
      "text/plain": [
       "          schedule_gtfs_dataset_key route_id  direction_id  \\\n",
       "0  015d67d5b75b5cf2b710bbadadfb75f5       17          0.00   \n",
       "\n",
       "  route_primary_direction  frequency_in_minutes  \n",
       "0              Northbound                 65.22  "
      ]
     },
     "execution_count": 15,
     "metadata": {},
     "output_type": "execute_result"
    }
   ],
   "source": [
    "high_frequency_routes_crosswalk.head(1)"
   ]
  },
  {
   "cell_type": "code",
   "execution_count": 16,
   "id": "e1aed68a-0ed2-4da4-904a-cb91681e7f38",
   "metadata": {},
   "outputs": [],
   "source": [
    "trips = pd.read_parquet(FILE)[trips_subset].rename(\n",
    "    columns={\"gtfs_dataset_key\": \"schedule_gtfs_dataset_key\"}\n",
    ")"
   ]
  },
  {
   "cell_type": "code",
   "execution_count": 17,
   "id": "04901f96-76d5-4d99-b3d1-f174ef989357",
   "metadata": {},
   "outputs": [],
   "source": [
    "trips_freq_routes = pd.merge(\n",
    "    trips,\n",
    "    high_frequency_routes_crosswalk,\n",
    "    on=[\"schedule_gtfs_dataset_key\", \"route_id\", \"direction_id\"],\n",
    "    how=\"inner\",\n",
    ")"
   ]
  },
  {
   "cell_type": "code",
   "execution_count": 18,
   "id": "1195177f-0215-4b24-9e47-dccfb3ee542e",
   "metadata": {},
   "outputs": [
    {
     "data": {
      "text/html": [
       "<div>\n",
       "<style scoped>\n",
       "    .dataframe tbody tr th:only-of-type {\n",
       "        vertical-align: middle;\n",
       "    }\n",
       "\n",
       "    .dataframe tbody tr th {\n",
       "        vertical-align: top;\n",
       "    }\n",
       "\n",
       "    .dataframe thead th {\n",
       "        text-align: right;\n",
       "    }\n",
       "</style>\n",
       "<table border=\"1\" class=\"dataframe\">\n",
       "  <thead>\n",
       "    <tr style=\"text-align: right;\">\n",
       "      <th></th>\n",
       "      <th>schedule_gtfs_dataset_key</th>\n",
       "      <th>route_id</th>\n",
       "      <th>trip_instance_key</th>\n",
       "      <th>shape_array_key</th>\n",
       "      <th>feed_key</th>\n",
       "      <th>route_long_name</th>\n",
       "      <th>direction_id</th>\n",
       "      <th>route_primary_direction</th>\n",
       "      <th>frequency_in_minutes</th>\n",
       "    </tr>\n",
       "  </thead>\n",
       "  <tbody>\n",
       "    <tr>\n",
       "      <th>0</th>\n",
       "      <td>1770249a5a2e770ca90628434d4934b1</td>\n",
       "      <td>3408</td>\n",
       "      <td>c256553e28c4bba693e3136240b35419</td>\n",
       "      <td>8f644f847e987de68e0cb6fcd339cf41</td>\n",
       "      <td>926867fdee73d5fbfe4f011871bcd830</td>\n",
       "      <td>Route 21</td>\n",
       "      <td>0.00</td>\n",
       "      <td>Westbound</td>\n",
       "      <td>51.28</td>\n",
       "    </tr>\n",
       "    <tr>\n",
       "      <th>1</th>\n",
       "      <td>1770249a5a2e770ca90628434d4934b1</td>\n",
       "      <td>3408</td>\n",
       "      <td>488e9e227288606249d0508961c0fa15</td>\n",
       "      <td>8f644f847e987de68e0cb6fcd339cf41</td>\n",
       "      <td>926867fdee73d5fbfe4f011871bcd830</td>\n",
       "      <td>Route 21</td>\n",
       "      <td>0.00</td>\n",
       "      <td>Westbound</td>\n",
       "      <td>51.28</td>\n",
       "    </tr>\n",
       "  </tbody>\n",
       "</table>\n",
       "</div>"
      ],
      "text/plain": [
       "          schedule_gtfs_dataset_key route_id  \\\n",
       "0  1770249a5a2e770ca90628434d4934b1     3408   \n",
       "1  1770249a5a2e770ca90628434d4934b1     3408   \n",
       "\n",
       "                  trip_instance_key                   shape_array_key  \\\n",
       "0  c256553e28c4bba693e3136240b35419  8f644f847e987de68e0cb6fcd339cf41   \n",
       "1  488e9e227288606249d0508961c0fa15  8f644f847e987de68e0cb6fcd339cf41   \n",
       "\n",
       "                           feed_key route_long_name  direction_id  \\\n",
       "0  926867fdee73d5fbfe4f011871bcd830        Route 21          0.00   \n",
       "1  926867fdee73d5fbfe4f011871bcd830        Route 21          0.00   \n",
       "\n",
       "  route_primary_direction  frequency_in_minutes  \n",
       "0               Westbound                 51.28  \n",
       "1               Westbound                 51.28  "
      ]
     },
     "execution_count": 18,
     "metadata": {},
     "output_type": "execute_result"
    }
   ],
   "source": [
    "trips_freq_routes.head(2)"
   ]
  },
  {
   "cell_type": "markdown",
   "id": "941f10e7-889a-42a1-a30e-7bfea36a51c7",
   "metadata": {},
   "source": [
    "#### Why are some trip instance keys duplicated?"
   ]
  },
  {
   "cell_type": "code",
   "execution_count": 19,
   "id": "8aeab7b7-d6b3-4e83-8309-16f15edddf9f",
   "metadata": {},
   "outputs": [
    {
     "data": {
      "text/plain": [
       "7"
      ]
     },
     "execution_count": 19,
     "metadata": {},
     "output_type": "execute_result"
    }
   ],
   "source": [
    "len(trips_freq_routes) - trips_freq_routes.trip_instance_key.nunique()"
   ]
  },
  {
   "cell_type": "code",
   "execution_count": 20,
   "id": "156982df-ebb6-4ef7-b1fa-429a3042b0bf",
   "metadata": {},
   "outputs": [
    {
     "data": {
      "text/plain": [
       "1ace22b258649b391e24772b4386d7f1    2\n",
       "8d3d8c1b3050a1118c654c1435f67d5f    2\n",
       "caca82650ae961e6ca37ca17592b61cb    2\n",
       "c7ccc08ec1ecc2420a28066056de0515    2\n",
       "7ffb024120f14f74921e1655c3b61e15    2\n",
       "ff8551829b06f27cdaabb0aa2a97d4e2    2\n",
       "6ba6d0e7c8294b58de3f47ec80f8208a    2\n",
       "0bb1b79782349602b6f2c556d4750560    1\n",
       "64d3db543039c647eeef4414003c0a73    1\n",
       "66d63247a3488d7addb421ea5654ea78    1\n",
       "Name: trip_instance_key, dtype: int64"
      ]
     },
     "execution_count": 20,
     "metadata": {},
     "output_type": "execute_result"
    }
   ],
   "source": [
    "trips_freq_routes.trip_instance_key.value_counts().head(10)"
   ]
  },
  {
   "cell_type": "code",
   "execution_count": 21,
   "id": "8f6c5294-4b8d-4813-b8c4-14ce151b0a34",
   "metadata": {},
   "outputs": [
    {
     "data": {
      "text/html": [
       "<div>\n",
       "<style scoped>\n",
       "    .dataframe tbody tr th:only-of-type {\n",
       "        vertical-align: middle;\n",
       "    }\n",
       "\n",
       "    .dataframe tbody tr th {\n",
       "        vertical-align: top;\n",
       "    }\n",
       "\n",
       "    .dataframe thead th {\n",
       "        text-align: right;\n",
       "    }\n",
       "</style>\n",
       "<table border=\"1\" class=\"dataframe\">\n",
       "  <thead>\n",
       "    <tr style=\"text-align: right;\">\n",
       "      <th></th>\n",
       "      <th>schedule_gtfs_dataset_key</th>\n",
       "      <th>route_id</th>\n",
       "      <th>trip_instance_key</th>\n",
       "      <th>shape_array_key</th>\n",
       "      <th>feed_key</th>\n",
       "      <th>route_long_name</th>\n",
       "      <th>direction_id</th>\n",
       "      <th>route_primary_direction</th>\n",
       "      <th>frequency_in_minutes</th>\n",
       "    </tr>\n",
       "  </thead>\n",
       "  <tbody>\n",
       "    <tr>\n",
       "      <th>5317</th>\n",
       "      <td>8eecb796518dafd3c1b971a99f8b8252</td>\n",
       "      <td>3241</td>\n",
       "      <td>1ace22b258649b391e24772b4386d7f1</td>\n",
       "      <td>2dd40a9897bd4f5f33ddd8780f5dddfd</td>\n",
       "      <td>5067febbcbf1cd61da2b11ed9a337eb8</td>\n",
       "      <td>03 Barstow City Hall - Lenwood</td>\n",
       "      <td>0.00</td>\n",
       "      <td>Westbound</td>\n",
       "      <td>103.45</td>\n",
       "    </tr>\n",
       "    <tr>\n",
       "      <th>5332</th>\n",
       "      <td>8eecb796518dafd3c1b971a99f8b8252</td>\n",
       "      <td>3241</td>\n",
       "      <td>1ace22b258649b391e24772b4386d7f1</td>\n",
       "      <td>2dd40a9897bd4f5f33ddd8780f5dddfd</td>\n",
       "      <td>5067febbcbf1cd61da2b11ed9a337eb8</td>\n",
       "      <td>03 Barstow City Hall - Lenwood</td>\n",
       "      <td>0.00</td>\n",
       "      <td>Westbound</td>\n",
       "      <td>103.45</td>\n",
       "    </tr>\n",
       "  </tbody>\n",
       "</table>\n",
       "</div>"
      ],
      "text/plain": [
       "             schedule_gtfs_dataset_key route_id  \\\n",
       "5317  8eecb796518dafd3c1b971a99f8b8252     3241   \n",
       "5332  8eecb796518dafd3c1b971a99f8b8252     3241   \n",
       "\n",
       "                     trip_instance_key                   shape_array_key  \\\n",
       "5317  1ace22b258649b391e24772b4386d7f1  2dd40a9897bd4f5f33ddd8780f5dddfd   \n",
       "5332  1ace22b258649b391e24772b4386d7f1  2dd40a9897bd4f5f33ddd8780f5dddfd   \n",
       "\n",
       "                              feed_key                 route_long_name  \\\n",
       "5317  5067febbcbf1cd61da2b11ed9a337eb8  03 Barstow City Hall - Lenwood   \n",
       "5332  5067febbcbf1cd61da2b11ed9a337eb8  03 Barstow City Hall - Lenwood   \n",
       "\n",
       "      direction_id route_primary_direction  frequency_in_minutes  \n",
       "5317          0.00               Westbound                103.45  \n",
       "5332          0.00               Westbound                103.45  "
      ]
     },
     "execution_count": 21,
     "metadata": {},
     "output_type": "execute_result"
    }
   ],
   "source": [
    "trips_freq_routes.loc[\n",
    "    trips_freq_routes.trip_instance_key == \"1ace22b258649b391e24772b4386d7f1\"\n",
    "]"
   ]
  },
  {
   "cell_type": "code",
   "execution_count": 22,
   "id": "1f79e396-6707-46e0-83c1-f062891963a6",
   "metadata": {},
   "outputs": [
    {
     "data": {
      "text/html": [
       "<div>\n",
       "<style scoped>\n",
       "    .dataframe tbody tr th:only-of-type {\n",
       "        vertical-align: middle;\n",
       "    }\n",
       "\n",
       "    .dataframe tbody tr th {\n",
       "        vertical-align: top;\n",
       "    }\n",
       "\n",
       "    .dataframe thead th {\n",
       "        text-align: right;\n",
       "    }\n",
       "</style>\n",
       "<table border=\"1\" class=\"dataframe\">\n",
       "  <thead>\n",
       "    <tr style=\"text-align: right;\">\n",
       "      <th></th>\n",
       "      <th>schedule_gtfs_dataset_key</th>\n",
       "      <th>route_id</th>\n",
       "      <th>trip_instance_key</th>\n",
       "      <th>shape_array_key</th>\n",
       "      <th>feed_key</th>\n",
       "      <th>route_long_name</th>\n",
       "      <th>direction_id</th>\n",
       "      <th>route_primary_direction</th>\n",
       "      <th>frequency_in_minutes</th>\n",
       "    </tr>\n",
       "  </thead>\n",
       "  <tbody>\n",
       "    <tr>\n",
       "      <th>5106</th>\n",
       "      <td>8eecb796518dafd3c1b971a99f8b8252</td>\n",
       "      <td>3220</td>\n",
       "      <td>ff8551829b06f27cdaabb0aa2a97d4e2</td>\n",
       "      <td>427c5866ad6d5adfd23ec18ddbf114dd</td>\n",
       "      <td>5067febbcbf1cd61da2b11ed9a337eb8</td>\n",
       "      <td>15 Barstow - Victorville - San Bernardino</td>\n",
       "      <td>1.00</td>\n",
       "      <td>Northbound</td>\n",
       "      <td>181.82</td>\n",
       "    </tr>\n",
       "    <tr>\n",
       "      <th>5109</th>\n",
       "      <td>8eecb796518dafd3c1b971a99f8b8252</td>\n",
       "      <td>3220</td>\n",
       "      <td>ff8551829b06f27cdaabb0aa2a97d4e2</td>\n",
       "      <td>427c5866ad6d5adfd23ec18ddbf114dd</td>\n",
       "      <td>5067febbcbf1cd61da2b11ed9a337eb8</td>\n",
       "      <td>15 Barstow - Victorville - San Bernardino</td>\n",
       "      <td>1.00</td>\n",
       "      <td>Northbound</td>\n",
       "      <td>181.82</td>\n",
       "    </tr>\n",
       "  </tbody>\n",
       "</table>\n",
       "</div>"
      ],
      "text/plain": [
       "             schedule_gtfs_dataset_key route_id  \\\n",
       "5106  8eecb796518dafd3c1b971a99f8b8252     3220   \n",
       "5109  8eecb796518dafd3c1b971a99f8b8252     3220   \n",
       "\n",
       "                     trip_instance_key                   shape_array_key  \\\n",
       "5106  ff8551829b06f27cdaabb0aa2a97d4e2  427c5866ad6d5adfd23ec18ddbf114dd   \n",
       "5109  ff8551829b06f27cdaabb0aa2a97d4e2  427c5866ad6d5adfd23ec18ddbf114dd   \n",
       "\n",
       "                              feed_key  \\\n",
       "5106  5067febbcbf1cd61da2b11ed9a337eb8   \n",
       "5109  5067febbcbf1cd61da2b11ed9a337eb8   \n",
       "\n",
       "                                route_long_name  direction_id  \\\n",
       "5106  15 Barstow - Victorville - San Bernardino          1.00   \n",
       "5109  15 Barstow - Victorville - San Bernardino          1.00   \n",
       "\n",
       "     route_primary_direction  frequency_in_minutes  \n",
       "5106              Northbound                181.82  \n",
       "5109              Northbound                181.82  "
      ]
     },
     "execution_count": 22,
     "metadata": {},
     "output_type": "execute_result"
    }
   ],
   "source": [
    "trips_freq_routes.loc[\n",
    "    trips_freq_routes.trip_instance_key == \"ff8551829b06f27cdaabb0aa2a97d4e2\"\n",
    "]"
   ]
  },
  {
   "cell_type": "code",
   "execution_count": 23,
   "id": "e80e0e74-49b4-4735-b878-b61b17a1c6b0",
   "metadata": {},
   "outputs": [],
   "source": [
    "trips_freq_routes = trips_freq_routes.drop_duplicates(subset=[\"trip_instance_key\"])"
   ]
  },
  {
   "cell_type": "code",
   "execution_count": 24,
   "id": "1dcf876d-afec-4096-90f2-40824f5fdf37",
   "metadata": {},
   "outputs": [
    {
     "data": {
      "text/plain": [
       "0"
      ]
     },
     "execution_count": 24,
     "metadata": {},
     "output_type": "execute_result"
    }
   ],
   "source": [
    "len(trips_freq_routes) - trips_freq_routes.trip_instance_key.nunique()"
   ]
  },
  {
   "cell_type": "markdown",
   "id": "e3be8778-84ff-479f-a3b2-178e374da5f2",
   "metadata": {},
   "source": [
    "### Get Stop Times\n",
    "* What's the difference btwn `trip_id` and `trip_instance_key`?"
   ]
  },
  {
   "cell_type": "code",
   "execution_count": 25,
   "id": "3f6727c6-205f-4cc8-8a68-42e8dec6e4b3",
   "metadata": {},
   "outputs": [],
   "source": [
    "rt_stop_times = pd.read_parquet(\n",
    "    \"gs://calitp-analytics-data/data-analyses/rt_vs_schedule/schedule_rt_stop_times_2024-05-22.parquet\"\n",
    ")"
   ]
  },
  {
   "cell_type": "code",
   "execution_count": 26,
   "id": "b9db22cf-e498-4e99-993c-b373231c8bd6",
   "metadata": {},
   "outputs": [
    {
     "data": {
      "text/html": [
       "<div>\n",
       "<style scoped>\n",
       "    .dataframe tbody tr th:only-of-type {\n",
       "        vertical-align: middle;\n",
       "    }\n",
       "\n",
       "    .dataframe tbody tr th {\n",
       "        vertical-align: top;\n",
       "    }\n",
       "\n",
       "    .dataframe thead th {\n",
       "        text-align: right;\n",
       "    }\n",
       "</style>\n",
       "<table border=\"1\" class=\"dataframe\">\n",
       "  <thead>\n",
       "    <tr style=\"text-align: right;\">\n",
       "      <th></th>\n",
       "      <th>trip_id</th>\n",
       "      <th>stop_id</th>\n",
       "      <th>stop_sequence</th>\n",
       "      <th>scheduled_arrival_sec</th>\n",
       "      <th>schedule_gtfs_dataset_key</th>\n",
       "      <th>trip_instance_key</th>\n",
       "      <th>rt_arrival_sec</th>\n",
       "    </tr>\n",
       "  </thead>\n",
       "  <tbody>\n",
       "    <tr>\n",
       "      <th>0</th>\n",
       "      <td>1d105244-776c-4b3f-af78-9c7ad78c2103</td>\n",
       "      <td>0b2443b6-b50f-452b-a749-464588ca93b8</td>\n",
       "      <td>8</td>\n",
       "      <td>60991.00</td>\n",
       "      <td>1fd2f07342d966919b15d5d37fda8cc8</td>\n",
       "      <td>45ae17540ca9fb5030c84dbb12e48e9a</td>\n",
       "      <td>61434</td>\n",
       "    </tr>\n",
       "  </tbody>\n",
       "</table>\n",
       "</div>"
      ],
      "text/plain": [
       "                                trip_id                               stop_id  \\\n",
       "0  1d105244-776c-4b3f-af78-9c7ad78c2103  0b2443b6-b50f-452b-a749-464588ca93b8   \n",
       "\n",
       "   stop_sequence  scheduled_arrival_sec         schedule_gtfs_dataset_key  \\\n",
       "0              8               60991.00  1fd2f07342d966919b15d5d37fda8cc8   \n",
       "\n",
       "                  trip_instance_key  rt_arrival_sec  \n",
       "0  45ae17540ca9fb5030c84dbb12e48e9a           61434  "
      ]
     },
     "execution_count": 26,
     "metadata": {},
     "output_type": "execute_result"
    }
   ],
   "source": [
    "rt_stop_times.head(1)"
   ]
  },
  {
   "cell_type": "code",
   "execution_count": 27,
   "id": "049a2833-f132-431a-8f44-92f31cd11d8a",
   "metadata": {},
   "outputs": [],
   "source": [
    "# Find only stop times of trips that belong to high frequency trips\n",
    "rt_stop_times2 = pd.merge(\n",
    "    rt_stop_times,\n",
    "    trips_freq_routes,\n",
    "    on=[\n",
    "        \"schedule_gtfs_dataset_key\",\n",
    "        \"trip_instance_key\",\n",
    "    ],\n",
    "    how=\"inner\",\n",
    ")"
   ]
  },
  {
   "cell_type": "code",
   "execution_count": 28,
   "id": "a4ebc7fa-19b9-480b-8b39-d9ef20fd9037",
   "metadata": {},
   "outputs": [
    {
     "data": {
      "text/plain": [
       "127535"
      ]
     },
     "execution_count": 28,
     "metadata": {},
     "output_type": "execute_result"
    }
   ],
   "source": [
    "len(rt_stop_times) - len(rt_stop_times2)"
   ]
  },
  {
   "cell_type": "code",
   "execution_count": 29,
   "id": "de4cba37-a23c-44ba-8e67-859765217523",
   "metadata": {},
   "outputs": [
    {
     "data": {
      "text/html": [
       "<div>\n",
       "<style scoped>\n",
       "    .dataframe tbody tr th:only-of-type {\n",
       "        vertical-align: middle;\n",
       "    }\n",
       "\n",
       "    .dataframe tbody tr th {\n",
       "        vertical-align: top;\n",
       "    }\n",
       "\n",
       "    .dataframe thead th {\n",
       "        text-align: right;\n",
       "    }\n",
       "</style>\n",
       "<table border=\"1\" class=\"dataframe\">\n",
       "  <thead>\n",
       "    <tr style=\"text-align: right;\">\n",
       "      <th></th>\n",
       "      <th>trip_id</th>\n",
       "      <th>stop_id</th>\n",
       "      <th>stop_sequence</th>\n",
       "      <th>scheduled_arrival_sec</th>\n",
       "      <th>schedule_gtfs_dataset_key</th>\n",
       "      <th>trip_instance_key</th>\n",
       "      <th>rt_arrival_sec</th>\n",
       "      <th>route_id</th>\n",
       "      <th>shape_array_key</th>\n",
       "      <th>feed_key</th>\n",
       "      <th>route_long_name</th>\n",
       "      <th>direction_id</th>\n",
       "      <th>route_primary_direction</th>\n",
       "      <th>frequency_in_minutes</th>\n",
       "    </tr>\n",
       "  </thead>\n",
       "  <tbody>\n",
       "    <tr>\n",
       "      <th>0</th>\n",
       "      <td>14971717-d196-4362-8572-e5059751f732</td>\n",
       "      <td>0e466c39-2ade-49f8-a79d-b929dde2cfe5</td>\n",
       "      <td>3</td>\n",
       "      <td>57720.00</td>\n",
       "      <td>1fd2f07342d966919b15d5d37fda8cc8</td>\n",
       "      <td>1bbf8cf8a0db82e6e56b9a20fe9414a6</td>\n",
       "      <td>57978</td>\n",
       "      <td>e24126d6-fbad-46b1-a498-75026e763636</td>\n",
       "      <td>4dbba8014c5e63cfb381249002aa683f</td>\n",
       "      <td>e9a188003e67026bf648e639cf4b3f9d</td>\n",
       "      <td>U4</td>\n",
       "      <td>0.00</td>\n",
       "      <td>Northbound</td>\n",
       "      <td>285.71</td>\n",
       "    </tr>\n",
       "    <tr>\n",
       "      <th>1</th>\n",
       "      <td>14971717-d196-4362-8572-e5059751f732</td>\n",
       "      <td>0f993eda-623d-40b4-bf47-dc2cd04262f8</td>\n",
       "      <td>4</td>\n",
       "      <td>57780.00</td>\n",
       "      <td>1fd2f07342d966919b15d5d37fda8cc8</td>\n",
       "      <td>1bbf8cf8a0db82e6e56b9a20fe9414a6</td>\n",
       "      <td>58080</td>\n",
       "      <td>e24126d6-fbad-46b1-a498-75026e763636</td>\n",
       "      <td>4dbba8014c5e63cfb381249002aa683f</td>\n",
       "      <td>e9a188003e67026bf648e639cf4b3f9d</td>\n",
       "      <td>U4</td>\n",
       "      <td>0.00</td>\n",
       "      <td>Northbound</td>\n",
       "      <td>285.71</td>\n",
       "    </tr>\n",
       "  </tbody>\n",
       "</table>\n",
       "</div>"
      ],
      "text/plain": [
       "                                trip_id                               stop_id  \\\n",
       "0  14971717-d196-4362-8572-e5059751f732  0e466c39-2ade-49f8-a79d-b929dde2cfe5   \n",
       "1  14971717-d196-4362-8572-e5059751f732  0f993eda-623d-40b4-bf47-dc2cd04262f8   \n",
       "\n",
       "   stop_sequence  scheduled_arrival_sec         schedule_gtfs_dataset_key  \\\n",
       "0              3               57720.00  1fd2f07342d966919b15d5d37fda8cc8   \n",
       "1              4               57780.00  1fd2f07342d966919b15d5d37fda8cc8   \n",
       "\n",
       "                  trip_instance_key  rt_arrival_sec  \\\n",
       "0  1bbf8cf8a0db82e6e56b9a20fe9414a6           57978   \n",
       "1  1bbf8cf8a0db82e6e56b9a20fe9414a6           58080   \n",
       "\n",
       "                               route_id                   shape_array_key  \\\n",
       "0  e24126d6-fbad-46b1-a498-75026e763636  4dbba8014c5e63cfb381249002aa683f   \n",
       "1  e24126d6-fbad-46b1-a498-75026e763636  4dbba8014c5e63cfb381249002aa683f   \n",
       "\n",
       "                           feed_key route_long_name  direction_id  \\\n",
       "0  e9a188003e67026bf648e639cf4b3f9d              U4          0.00   \n",
       "1  e9a188003e67026bf648e639cf4b3f9d              U4          0.00   \n",
       "\n",
       "  route_primary_direction  frequency_in_minutes  \n",
       "0              Northbound                285.71  \n",
       "1              Northbound                285.71  "
      ]
     },
     "execution_count": 29,
     "metadata": {},
     "output_type": "execute_result"
    }
   ],
   "source": [
    "rt_stop_times2.head(2)"
   ]
  },
  {
   "cell_type": "markdown",
   "id": "8845ee2a-5878-417f-94d1-de21a3c56261",
   "metadata": {},
   "source": [
    "###  Some scheduled arrival seconds span longer than a day: filter them out?\n",
    "* There are 86,400 seconds in a day"
   ]
  },
  {
   "cell_type": "code",
   "execution_count": 30,
   "id": "269116cd-242f-4834-a2fa-08f4ae94f14d",
   "metadata": {},
   "outputs": [
    {
     "data": {
      "text/plain": [
       "count   2458723.00\n",
       "mean      49457.62\n",
       "std       18037.90\n",
       "min         720.00\n",
       "25%       34140.00\n",
       "50%       49200.00\n",
       "75%       63180.00\n",
       "max      111374.00\n",
       "Name: scheduled_arrival_sec, dtype: float64"
      ]
     },
     "execution_count": 30,
     "metadata": {},
     "output_type": "execute_result"
    }
   ],
   "source": [
    "rt_stop_times2.scheduled_arrival_sec.describe()"
   ]
  },
  {
   "cell_type": "code",
   "execution_count": 31,
   "id": "0749c6d5-e8e3-49a6-8877-2517a1ebe178",
   "metadata": {},
   "outputs": [
    {
     "data": {
      "text/plain": [
       "44137"
      ]
     },
     "execution_count": 31,
     "metadata": {},
     "output_type": "execute_result"
    }
   ],
   "source": [
    "len(rt_stop_times2.loc[rt_stop_times2.scheduled_arrival_sec > 86400])"
   ]
  },
  {
   "cell_type": "code",
   "execution_count": 32,
   "id": "daae9784-aa88-4dd7-b2dd-56a0743aa1b7",
   "metadata": {},
   "outputs": [],
   "source": [
    "rt_stop_times3 = rt_stop_times2.loc[\n",
    "    rt_stop_times2.scheduled_arrival_sec < 86400\n",
    "].reset_index(drop=True)"
   ]
  },
  {
   "cell_type": "code",
   "execution_count": 33,
   "id": "0ef36e93-79ed-4f86-b16a-9d28d90aea1a",
   "metadata": {},
   "outputs": [],
   "source": [
    "# Rearrange: I want the stop sequence to be 1,2,3,4.\n",
    "# stop ids can differ between trips of the same route and the same stop sequence is the same\n",
    "rt_stop_times4 = rt_stop_times3.sort_values(\n",
    "    by=[\n",
    "        \"schedule_gtfs_dataset_key\",\n",
    "        \"feed_key\",\n",
    "        \"shape_array_key\",\n",
    "        \"route_id\",\n",
    "        \"direction_id\",\n",
    "        \"stop_sequence\",\n",
    "        \"scheduled_arrival_sec\",\n",
    "    ]\n",
    ").reset_index(drop=True)"
   ]
  },
  {
   "cell_type": "markdown",
   "id": "8a83b6e8-fbab-4ce2-b91e-bf32890bda18",
   "metadata": {},
   "source": [
    "### Calculate the difference btwn actual vs scheduled arrival."
   ]
  },
  {
   "cell_type": "code",
   "execution_count": 34,
   "id": "dcb53dcc-95e1-41fc-961b-da222c6e4580",
   "metadata": {},
   "outputs": [],
   "source": [
    "def check_delay(df):\n",
    "    df = df.assign(delay=df.rt_arrival_sec - df.scheduled_arrival_sec)\n",
    "\n",
    "    print(df.delay.describe(percentiles=[0.05, 0.1, 0.9, 0.95]))\n",
    "\n",
    "    max_delay_min = df.delay.max() / 60\n",
    "    p95_delay_min = df.delay.quantile(q=0.95) / 60\n",
    "\n",
    "    min_delay_min = df.delay.min() / 60\n",
    "    p5_delay_min = df.delay.quantile(q=0.05) / 60\n",
    "\n",
    "    print(f\"min / max delay (minutes): {min_delay_min}, {max_delay_min}\")\n",
    "    print(f\"5th / 95th delay (minutes): {p5_delay_min}, {p95_delay_min}\")\n",
    "\n",
    "    return df"
   ]
  },
  {
   "cell_type": "code",
   "execution_count": 35,
   "id": "e6c251c4-a7e9-475e-8f58-9ce98f2016b8",
   "metadata": {},
   "outputs": [
    {
     "name": "stdout",
     "output_type": "stream",
     "text": [
      "count   2414347.00\n",
      "mean        118.31\n",
      "std        2037.13\n",
      "min      -86387.00\n",
      "5%         -150.00\n",
      "10%         -92.00\n",
      "50%          94.00\n",
      "90%         491.00\n",
      "95%         689.00\n",
      "max       57878.00\n",
      "Name: delay, dtype: float64\n",
      "min / max delay (minutes): -1439.7833333333333, 964.6333333333333\n",
      "5th / 95th delay (minutes): -2.5, 11.483333333333333\n"
     ]
    }
   ],
   "source": [
    "rt_stop_times4 = check_delay(rt_stop_times4)"
   ]
  },
  {
   "cell_type": "markdown",
   "id": "bc8f529b-afee-4d3c-993f-b8ff5dcdb8de",
   "metadata": {},
   "source": [
    "#### Filter out differences of actual-scheduled arrival time that are more or less than one hour"
   ]
  },
  {
   "cell_type": "code",
   "execution_count": 36,
   "id": "bbd1cbc3-9762-44b8-a564-c33e57879d10",
   "metadata": {},
   "outputs": [],
   "source": [
    "# Filter to only delays that are an hour or less\n",
    "rt_stop_times5 = rt_stop_times4[rt_stop_times4[\"delay\"] <= 60 * 60].reset_index(\n",
    "    drop=True\n",
    ")"
   ]
  },
  {
   "cell_type": "code",
   "execution_count": 37,
   "id": "9c19be36-0e5b-428d-bc4f-da52821208f4",
   "metadata": {},
   "outputs": [],
   "source": [
    "# Filter to only delays that are no less than\n",
    "rt_stop_times5 = rt_stop_times5[rt_stop_times5[\"delay\"] >= -3600].reset_index(drop=True)"
   ]
  },
  {
   "cell_type": "code",
   "execution_count": 38,
   "id": "813c65e5-8ee6-4896-82d7-c3e6dec8a92f",
   "metadata": {},
   "outputs": [
    {
     "data": {
      "text/plain": [
       "3971"
      ]
     },
     "execution_count": 38,
     "metadata": {},
     "output_type": "execute_result"
    }
   ],
   "source": [
    "len(rt_stop_times4) - len(rt_stop_times5)"
   ]
  },
  {
   "cell_type": "code",
   "execution_count": 39,
   "id": "43c7f278-063c-4c94-b184-eabbc143df3b",
   "metadata": {},
   "outputs": [
    {
     "data": {
      "text/plain": [
       "count   2410376.00\n",
       "mean        157.34\n",
       "std         301.29\n",
       "min       -3600.00\n",
       "25%         -11.00\n",
       "50%          94.00\n",
       "75%         257.00\n",
       "max        3600.00\n",
       "Name: delay, dtype: float64"
      ]
     },
     "execution_count": 39,
     "metadata": {},
     "output_type": "execute_result"
    }
   ],
   "source": [
    "rt_stop_times5.delay.describe()"
   ]
  },
  {
   "cell_type": "markdown",
   "id": "81bd753a-08ee-4d09-ac79-213e1e605405",
   "metadata": {},
   "source": [
    "### Calculate the actual headway the `operator-route-direction_id-stop_sequence-stop_id-` grain"
   ]
  },
  {
   "cell_type": "code",
   "execution_count": 40,
   "id": "ec1a9e8c-e6b5-4757-8714-9ad71a6e64dc",
   "metadata": {},
   "outputs": [
    {
     "data": {
      "text/html": [
       "<div>\n",
       "<style scoped>\n",
       "    .dataframe tbody tr th:only-of-type {\n",
       "        vertical-align: middle;\n",
       "    }\n",
       "\n",
       "    .dataframe tbody tr th {\n",
       "        vertical-align: top;\n",
       "    }\n",
       "\n",
       "    .dataframe thead th {\n",
       "        text-align: right;\n",
       "    }\n",
       "</style>\n",
       "<table border=\"1\" class=\"dataframe\">\n",
       "  <thead>\n",
       "    <tr style=\"text-align: right;\">\n",
       "      <th></th>\n",
       "      <th>trip_id</th>\n",
       "      <th>stop_id</th>\n",
       "      <th>stop_sequence</th>\n",
       "      <th>scheduled_arrival_sec</th>\n",
       "      <th>schedule_gtfs_dataset_key</th>\n",
       "      <th>trip_instance_key</th>\n",
       "      <th>rt_arrival_sec</th>\n",
       "      <th>route_id</th>\n",
       "      <th>shape_array_key</th>\n",
       "      <th>feed_key</th>\n",
       "      <th>route_long_name</th>\n",
       "      <th>direction_id</th>\n",
       "      <th>route_primary_direction</th>\n",
       "      <th>frequency_in_minutes</th>\n",
       "      <th>delay</th>\n",
       "    </tr>\n",
       "  </thead>\n",
       "  <tbody>\n",
       "    <tr>\n",
       "      <th>0</th>\n",
       "      <td>29001</td>\n",
       "      <td>40471</td>\n",
       "      <td>2</td>\n",
       "      <td>25620.00</td>\n",
       "      <td>015d67d5b75b5cf2b710bbadadfb75f5</td>\n",
       "      <td>fc4fd5fc790a1a84e1b3663fa9bca4fd</td>\n",
       "      <td>25862</td>\n",
       "      <td>29</td>\n",
       "      <td>04ce2af2df4eebb3126f1d90a10b5a61</td>\n",
       "      <td>9529027364faa9b7dfbb3d7d7501b133</td>\n",
       "      <td>Downtown San Rafael - E. Corte Madera</td>\n",
       "      <td>1.00</td>\n",
       "      <td>Eastbound</td>\n",
       "      <td>240.00</td>\n",
       "      <td>242.00</td>\n",
       "    </tr>\n",
       "    <tr>\n",
       "      <th>1</th>\n",
       "      <td>29005</td>\n",
       "      <td>40471</td>\n",
       "      <td>2</td>\n",
       "      <td>31620.00</td>\n",
       "      <td>015d67d5b75b5cf2b710bbadadfb75f5</td>\n",
       "      <td>46168565fecd863f123814d4d8e1b3a2</td>\n",
       "      <td>31737</td>\n",
       "      <td>29</td>\n",
       "      <td>04ce2af2df4eebb3126f1d90a10b5a61</td>\n",
       "      <td>9529027364faa9b7dfbb3d7d7501b133</td>\n",
       "      <td>Downtown San Rafael - E. Corte Madera</td>\n",
       "      <td>1.00</td>\n",
       "      <td>Eastbound</td>\n",
       "      <td>240.00</td>\n",
       "      <td>117.00</td>\n",
       "    </tr>\n",
       "  </tbody>\n",
       "</table>\n",
       "</div>"
      ],
      "text/plain": [
       "  trip_id stop_id  stop_sequence  scheduled_arrival_sec  \\\n",
       "0   29001   40471              2               25620.00   \n",
       "1   29005   40471              2               31620.00   \n",
       "\n",
       "          schedule_gtfs_dataset_key                 trip_instance_key  \\\n",
       "0  015d67d5b75b5cf2b710bbadadfb75f5  fc4fd5fc790a1a84e1b3663fa9bca4fd   \n",
       "1  015d67d5b75b5cf2b710bbadadfb75f5  46168565fecd863f123814d4d8e1b3a2   \n",
       "\n",
       "   rt_arrival_sec route_id                   shape_array_key  \\\n",
       "0           25862       29  04ce2af2df4eebb3126f1d90a10b5a61   \n",
       "1           31737       29  04ce2af2df4eebb3126f1d90a10b5a61   \n",
       "\n",
       "                           feed_key                        route_long_name  \\\n",
       "0  9529027364faa9b7dfbb3d7d7501b133  Downtown San Rafael - E. Corte Madera   \n",
       "1  9529027364faa9b7dfbb3d7d7501b133  Downtown San Rafael - E. Corte Madera   \n",
       "\n",
       "   direction_id route_primary_direction  frequency_in_minutes  delay  \n",
       "0          1.00               Eastbound                240.00 242.00  \n",
       "1          1.00               Eastbound                240.00 117.00  "
      ]
     },
     "execution_count": 40,
     "metadata": {},
     "output_type": "execute_result"
    }
   ],
   "source": [
    "rt_stop_times5.head(2)"
   ]
  },
  {
   "cell_type": "code",
   "execution_count": 41,
   "id": "b9171520-7358-4f22-9d9c-c5156e710f1b",
   "metadata": {},
   "outputs": [],
   "source": [
    "groupby_cols = [\n",
    "    \"schedule_gtfs_dataset_key\",\n",
    "    \"feed_key\",\n",
    "    \"shape_array_key\",\n",
    "    \"route_id\",\n",
    "    \"direction_id\",\n",
    "    \"route_primary_direction\",\n",
    "    \"stop_sequence\",\n",
    "    \"stop_id\",\n",
    "]"
   ]
  },
  {
   "cell_type": "code",
   "execution_count": 42,
   "id": "f5b62023-ab77-4634-a526-3d822bb7a63f",
   "metadata": {},
   "outputs": [],
   "source": [
    "rt_stop_times5[\"actual_headway\"] = rt_stop_times5.groupby(groupby_cols)[\n",
    "    \"rt_arrival_sec\"\n",
    "].diff()"
   ]
  },
  {
   "cell_type": "markdown",
   "id": "0c9377cb-cb25-43da-9f3b-752a8107b6b7",
   "metadata": {},
   "source": [
    "### Calculate scheduled headway"
   ]
  },
  {
   "cell_type": "code",
   "execution_count": 43,
   "id": "6328c5fb-205e-4a78-a3d3-62fafa88a4cd",
   "metadata": {},
   "outputs": [],
   "source": [
    "rt_stop_times5[\"schd_headway\"] = rt_stop_times5.groupby(groupby_cols)[\n",
    "    \"scheduled_arrival_sec\"\n",
    "].diff()"
   ]
  },
  {
   "cell_type": "code",
   "execution_count": 44,
   "id": "aff6e7d8-1ee3-4c75-9090-bfe43e9e4560",
   "metadata": {},
   "outputs": [
    {
     "data": {
      "text/html": [
       "<div>\n",
       "<style scoped>\n",
       "    .dataframe tbody tr th:only-of-type {\n",
       "        vertical-align: middle;\n",
       "    }\n",
       "\n",
       "    .dataframe tbody tr th {\n",
       "        vertical-align: top;\n",
       "    }\n",
       "\n",
       "    .dataframe thead th {\n",
       "        text-align: right;\n",
       "    }\n",
       "</style>\n",
       "<table border=\"1\" class=\"dataframe\">\n",
       "  <thead>\n",
       "    <tr style=\"text-align: right;\">\n",
       "      <th></th>\n",
       "      <th>stop_id</th>\n",
       "      <th>stop_sequence</th>\n",
       "      <th>scheduled_arrival_sec</th>\n",
       "      <th>rt_arrival_sec</th>\n",
       "      <th>route_id</th>\n",
       "      <th>route_long_name</th>\n",
       "      <th>direction_id</th>\n",
       "      <th>route_primary_direction</th>\n",
       "      <th>frequency_in_minutes</th>\n",
       "      <th>delay</th>\n",
       "      <th>actual_headway</th>\n",
       "      <th>schd_headway</th>\n",
       "    </tr>\n",
       "  </thead>\n",
       "  <tbody>\n",
       "    <tr>\n",
       "      <th>0</th>\n",
       "      <td>40471</td>\n",
       "      <td>2</td>\n",
       "      <td>25620.00</td>\n",
       "      <td>25862</td>\n",
       "      <td>29</td>\n",
       "      <td>Downtown San Rafael - E. Corte Madera</td>\n",
       "      <td>1.00</td>\n",
       "      <td>Eastbound</td>\n",
       "      <td>240.00</td>\n",
       "      <td>242.00</td>\n",
       "      <td>NaN</td>\n",
       "      <td>NaN</td>\n",
       "    </tr>\n",
       "    <tr>\n",
       "      <th>1</th>\n",
       "      <td>40471</td>\n",
       "      <td>2</td>\n",
       "      <td>31620.00</td>\n",
       "      <td>31737</td>\n",
       "      <td>29</td>\n",
       "      <td>Downtown San Rafael - E. Corte Madera</td>\n",
       "      <td>1.00</td>\n",
       "      <td>Eastbound</td>\n",
       "      <td>240.00</td>\n",
       "      <td>117.00</td>\n",
       "      <td>5875.00</td>\n",
       "      <td>6000.00</td>\n",
       "    </tr>\n",
       "    <tr>\n",
       "      <th>2</th>\n",
       "      <td>40471</td>\n",
       "      <td>2</td>\n",
       "      <td>53820.00</td>\n",
       "      <td>54213</td>\n",
       "      <td>29</td>\n",
       "      <td>Downtown San Rafael - E. Corte Madera</td>\n",
       "      <td>1.00</td>\n",
       "      <td>Eastbound</td>\n",
       "      <td>240.00</td>\n",
       "      <td>393.00</td>\n",
       "      <td>22476.00</td>\n",
       "      <td>22200.00</td>\n",
       "    </tr>\n",
       "    <tr>\n",
       "      <th>3</th>\n",
       "      <td>40471</td>\n",
       "      <td>2</td>\n",
       "      <td>57240.00</td>\n",
       "      <td>57258</td>\n",
       "      <td>29</td>\n",
       "      <td>Downtown San Rafael - E. Corte Madera</td>\n",
       "      <td>1.00</td>\n",
       "      <td>Eastbound</td>\n",
       "      <td>240.00</td>\n",
       "      <td>18.00</td>\n",
       "      <td>3045.00</td>\n",
       "      <td>3420.00</td>\n",
       "    </tr>\n",
       "    <tr>\n",
       "      <th>4</th>\n",
       "      <td>41333</td>\n",
       "      <td>3</td>\n",
       "      <td>25680.00</td>\n",
       "      <td>25938</td>\n",
       "      <td>29</td>\n",
       "      <td>Downtown San Rafael - E. Corte Madera</td>\n",
       "      <td>1.00</td>\n",
       "      <td>Eastbound</td>\n",
       "      <td>240.00</td>\n",
       "      <td>258.00</td>\n",
       "      <td>NaN</td>\n",
       "      <td>NaN</td>\n",
       "    </tr>\n",
       "    <tr>\n",
       "      <th>5</th>\n",
       "      <td>41333</td>\n",
       "      <td>3</td>\n",
       "      <td>28680.00</td>\n",
       "      <td>29106</td>\n",
       "      <td>29</td>\n",
       "      <td>Downtown San Rafael - E. Corte Madera</td>\n",
       "      <td>1.00</td>\n",
       "      <td>Eastbound</td>\n",
       "      <td>240.00</td>\n",
       "      <td>426.00</td>\n",
       "      <td>3168.00</td>\n",
       "      <td>3000.00</td>\n",
       "    </tr>\n",
       "    <tr>\n",
       "      <th>6</th>\n",
       "      <td>41333</td>\n",
       "      <td>3</td>\n",
       "      <td>51180.00</td>\n",
       "      <td>51379</td>\n",
       "      <td>29</td>\n",
       "      <td>Downtown San Rafael - E. Corte Madera</td>\n",
       "      <td>1.00</td>\n",
       "      <td>Eastbound</td>\n",
       "      <td>240.00</td>\n",
       "      <td>199.00</td>\n",
       "      <td>22273.00</td>\n",
       "      <td>22500.00</td>\n",
       "    </tr>\n",
       "    <tr>\n",
       "      <th>7</th>\n",
       "      <td>41333</td>\n",
       "      <td>3</td>\n",
       "      <td>53880.00</td>\n",
       "      <td>54343</td>\n",
       "      <td>29</td>\n",
       "      <td>Downtown San Rafael - E. Corte Madera</td>\n",
       "      <td>1.00</td>\n",
       "      <td>Eastbound</td>\n",
       "      <td>240.00</td>\n",
       "      <td>463.00</td>\n",
       "      <td>2964.00</td>\n",
       "      <td>2700.00</td>\n",
       "    </tr>\n",
       "    <tr>\n",
       "      <th>8</th>\n",
       "      <td>41333</td>\n",
       "      <td>3</td>\n",
       "      <td>57300.00</td>\n",
       "      <td>57356</td>\n",
       "      <td>29</td>\n",
       "      <td>Downtown San Rafael - E. Corte Madera</td>\n",
       "      <td>1.00</td>\n",
       "      <td>Eastbound</td>\n",
       "      <td>240.00</td>\n",
       "      <td>56.00</td>\n",
       "      <td>3013.00</td>\n",
       "      <td>3420.00</td>\n",
       "    </tr>\n",
       "    <tr>\n",
       "      <th>9</th>\n",
       "      <td>41334</td>\n",
       "      <td>4</td>\n",
       "      <td>25740.00</td>\n",
       "      <td>26011</td>\n",
       "      <td>29</td>\n",
       "      <td>Downtown San Rafael - E. Corte Madera</td>\n",
       "      <td>1.00</td>\n",
       "      <td>Eastbound</td>\n",
       "      <td>240.00</td>\n",
       "      <td>271.00</td>\n",
       "      <td>NaN</td>\n",
       "      <td>NaN</td>\n",
       "    </tr>\n",
       "  </tbody>\n",
       "</table>\n",
       "</div>"
      ],
      "text/plain": [
       "  stop_id  stop_sequence  scheduled_arrival_sec  rt_arrival_sec route_id  \\\n",
       "0   40471              2               25620.00           25862       29   \n",
       "1   40471              2               31620.00           31737       29   \n",
       "2   40471              2               53820.00           54213       29   \n",
       "3   40471              2               57240.00           57258       29   \n",
       "4   41333              3               25680.00           25938       29   \n",
       "5   41333              3               28680.00           29106       29   \n",
       "6   41333              3               51180.00           51379       29   \n",
       "7   41333              3               53880.00           54343       29   \n",
       "8   41333              3               57300.00           57356       29   \n",
       "9   41334              4               25740.00           26011       29   \n",
       "\n",
       "                         route_long_name  direction_id  \\\n",
       "0  Downtown San Rafael - E. Corte Madera          1.00   \n",
       "1  Downtown San Rafael - E. Corte Madera          1.00   \n",
       "2  Downtown San Rafael - E. Corte Madera          1.00   \n",
       "3  Downtown San Rafael - E. Corte Madera          1.00   \n",
       "4  Downtown San Rafael - E. Corte Madera          1.00   \n",
       "5  Downtown San Rafael - E. Corte Madera          1.00   \n",
       "6  Downtown San Rafael - E. Corte Madera          1.00   \n",
       "7  Downtown San Rafael - E. Corte Madera          1.00   \n",
       "8  Downtown San Rafael - E. Corte Madera          1.00   \n",
       "9  Downtown San Rafael - E. Corte Madera          1.00   \n",
       "\n",
       "  route_primary_direction  frequency_in_minutes  delay  actual_headway  \\\n",
       "0               Eastbound                240.00 242.00             NaN   \n",
       "1               Eastbound                240.00 117.00         5875.00   \n",
       "2               Eastbound                240.00 393.00        22476.00   \n",
       "3               Eastbound                240.00  18.00         3045.00   \n",
       "4               Eastbound                240.00 258.00             NaN   \n",
       "5               Eastbound                240.00 426.00         3168.00   \n",
       "6               Eastbound                240.00 199.00        22273.00   \n",
       "7               Eastbound                240.00 463.00         2964.00   \n",
       "8               Eastbound                240.00  56.00         3013.00   \n",
       "9               Eastbound                240.00 271.00             NaN   \n",
       "\n",
       "   schd_headway  \n",
       "0           NaN  \n",
       "1       6000.00  \n",
       "2      22200.00  \n",
       "3       3420.00  \n",
       "4           NaN  \n",
       "5       3000.00  \n",
       "6      22500.00  \n",
       "7       2700.00  \n",
       "8       3420.00  \n",
       "9           NaN  "
      ]
     },
     "execution_count": 44,
     "metadata": {},
     "output_type": "execute_result"
    }
   ],
   "source": [
    "rt_stop_times5.head(10).drop(columns = drop_for_preview)"
   ]
  },
  {
   "cell_type": "markdown",
   "id": "8a5f6f72-d463-4076-80ce-d22ab1f718b1",
   "metadata": {},
   "source": [
    "### Delete out rows that are Nan??"
   ]
  },
  {
   "cell_type": "code",
   "execution_count": 45,
   "id": "2c3a4e87-e6f5-46d3-bce8-ad998c9343d7",
   "metadata": {},
   "outputs": [],
   "source": [
    "#rt_stop_times6 = rt_stop_times5.loc[~rt_stop_times5.actual_headway.isna()]"
   ]
  },
  {
   "cell_type": "code",
   "execution_count": 46,
   "id": "588f17d2-5ffb-4bac-b2a1-d96ce2f6d9d9",
   "metadata": {},
   "outputs": [],
   "source": [
    "#rt_stop_times6 = rt_stop_times6.loc[~rt_stop_times5.schd_headway.isna()].reset_index(drop=True)"
   ]
  },
  {
   "cell_type": "code",
   "execution_count": 47,
   "id": "194fd116-fecf-4a68-a658-7bfc9fd351ce",
   "metadata": {},
   "outputs": [],
   "source": [
    "#rt_stop_times6.head(10).drop(columns = drop_for_preview)"
   ]
  },
  {
   "cell_type": "markdown",
   "id": "9b940ef3-76e6-40a0-bea5-91391827ad99",
   "metadata": {},
   "source": [
    "### Find the mean scheduled headway for the `operator-route-direction_id-stop_sequence-stop_id-` grain"
   ]
  },
  {
   "cell_type": "code",
   "execution_count": 48,
   "id": "a1a2713d-bb47-4762-9617-ad090dc2d964",
   "metadata": {},
   "outputs": [],
   "source": [
    "agg1 = (\n",
    "    rt_stop_times5.groupby(groupby_cols\n",
    "    )\n",
    "    .agg({\"schd_headway\": \"mean\"})\n",
    "    .reset_index()\n",
    "    .rename(columns={\"schd_headway\": \"avg_schd_headway_sec\"})\n",
    ")"
   ]
  },
  {
   "cell_type": "code",
   "execution_count": 49,
   "id": "9c0f62d9-a794-4223-8b1a-ac14ae48e51f",
   "metadata": {},
   "outputs": [],
   "source": [
    "m1 = pd.merge(\n",
    "    rt_stop_times5,\n",
    "    agg1,\n",
    "    on=groupby_cols,\n",
    ")"
   ]
  },
  {
   "cell_type": "code",
   "execution_count": 50,
   "id": "750f9b60-d0ab-43e3-8b0c-8cf0089b3f30",
   "metadata": {},
   "outputs": [
    {
     "data": {
      "text/plain": [
       "True"
      ]
     },
     "execution_count": 50,
     "metadata": {},
     "output_type": "execute_result"
    }
   ],
   "source": [
    "len(m1) == len(rt_stop_times5)"
   ]
  },
  {
   "cell_type": "code",
   "execution_count": 51,
   "id": "361e75da-620d-46ee-9fae-178c6c44281e",
   "metadata": {},
   "outputs": [
    {
     "data": {
      "text/html": [
       "<div>\n",
       "<style scoped>\n",
       "    .dataframe tbody tr th:only-of-type {\n",
       "        vertical-align: middle;\n",
       "    }\n",
       "\n",
       "    .dataframe tbody tr th {\n",
       "        vertical-align: top;\n",
       "    }\n",
       "\n",
       "    .dataframe thead th {\n",
       "        text-align: right;\n",
       "    }\n",
       "</style>\n",
       "<table border=\"1\" class=\"dataframe\">\n",
       "  <thead>\n",
       "    <tr style=\"text-align: right;\">\n",
       "      <th></th>\n",
       "      <th>trip_id</th>\n",
       "      <th>stop_id</th>\n",
       "      <th>stop_sequence</th>\n",
       "      <th>scheduled_arrival_sec</th>\n",
       "      <th>schedule_gtfs_dataset_key</th>\n",
       "      <th>trip_instance_key</th>\n",
       "      <th>rt_arrival_sec</th>\n",
       "      <th>route_id</th>\n",
       "      <th>shape_array_key</th>\n",
       "      <th>feed_key</th>\n",
       "      <th>route_long_name</th>\n",
       "      <th>direction_id</th>\n",
       "      <th>route_primary_direction</th>\n",
       "      <th>frequency_in_minutes</th>\n",
       "      <th>delay</th>\n",
       "      <th>actual_headway</th>\n",
       "      <th>schd_headway</th>\n",
       "      <th>avg_schd_headway_sec</th>\n",
       "    </tr>\n",
       "  </thead>\n",
       "  <tbody>\n",
       "    <tr>\n",
       "      <th>0</th>\n",
       "      <td>29001</td>\n",
       "      <td>40471</td>\n",
       "      <td>2</td>\n",
       "      <td>25620.00</td>\n",
       "      <td>015d67d5b75b5cf2b710bbadadfb75f5</td>\n",
       "      <td>fc4fd5fc790a1a84e1b3663fa9bca4fd</td>\n",
       "      <td>25862</td>\n",
       "      <td>29</td>\n",
       "      <td>04ce2af2df4eebb3126f1d90a10b5a61</td>\n",
       "      <td>9529027364faa9b7dfbb3d7d7501b133</td>\n",
       "      <td>Downtown San Rafael - E. Corte Madera</td>\n",
       "      <td>1.00</td>\n",
       "      <td>Eastbound</td>\n",
       "      <td>240.00</td>\n",
       "      <td>242.00</td>\n",
       "      <td>NaN</td>\n",
       "      <td>NaN</td>\n",
       "      <td>10540.00</td>\n",
       "    </tr>\n",
       "    <tr>\n",
       "      <th>1</th>\n",
       "      <td>29005</td>\n",
       "      <td>40471</td>\n",
       "      <td>2</td>\n",
       "      <td>31620.00</td>\n",
       "      <td>015d67d5b75b5cf2b710bbadadfb75f5</td>\n",
       "      <td>46168565fecd863f123814d4d8e1b3a2</td>\n",
       "      <td>31737</td>\n",
       "      <td>29</td>\n",
       "      <td>04ce2af2df4eebb3126f1d90a10b5a61</td>\n",
       "      <td>9529027364faa9b7dfbb3d7d7501b133</td>\n",
       "      <td>Downtown San Rafael - E. Corte Madera</td>\n",
       "      <td>1.00</td>\n",
       "      <td>Eastbound</td>\n",
       "      <td>240.00</td>\n",
       "      <td>117.00</td>\n",
       "      <td>5875.00</td>\n",
       "      <td>6000.00</td>\n",
       "      <td>10540.00</td>\n",
       "    </tr>\n",
       "  </tbody>\n",
       "</table>\n",
       "</div>"
      ],
      "text/plain": [
       "  trip_id stop_id  stop_sequence  scheduled_arrival_sec  \\\n",
       "0   29001   40471              2               25620.00   \n",
       "1   29005   40471              2               31620.00   \n",
       "\n",
       "          schedule_gtfs_dataset_key                 trip_instance_key  \\\n",
       "0  015d67d5b75b5cf2b710bbadadfb75f5  fc4fd5fc790a1a84e1b3663fa9bca4fd   \n",
       "1  015d67d5b75b5cf2b710bbadadfb75f5  46168565fecd863f123814d4d8e1b3a2   \n",
       "\n",
       "   rt_arrival_sec route_id                   shape_array_key  \\\n",
       "0           25862       29  04ce2af2df4eebb3126f1d90a10b5a61   \n",
       "1           31737       29  04ce2af2df4eebb3126f1d90a10b5a61   \n",
       "\n",
       "                           feed_key                        route_long_name  \\\n",
       "0  9529027364faa9b7dfbb3d7d7501b133  Downtown San Rafael - E. Corte Madera   \n",
       "1  9529027364faa9b7dfbb3d7d7501b133  Downtown San Rafael - E. Corte Madera   \n",
       "\n",
       "   direction_id route_primary_direction  frequency_in_minutes  delay  \\\n",
       "0          1.00               Eastbound                240.00 242.00   \n",
       "1          1.00               Eastbound                240.00 117.00   \n",
       "\n",
       "   actual_headway  schd_headway  avg_schd_headway_sec  \n",
       "0             NaN           NaN              10540.00  \n",
       "1         5875.00       6000.00              10540.00  "
      ]
     },
     "execution_count": 51,
     "metadata": {},
     "output_type": "execute_result"
    }
   ],
   "source": [
    "m1.head(2)"
   ]
  },
  {
   "cell_type": "markdown",
   "id": "77370f93-20e5-4498-8e4d-e7495fd52cfa",
   "metadata": {},
   "source": [
    "### Find standard deviation: how far the actual headway is from the mean scheduled headway for the same grain above."
   ]
  },
  {
   "cell_type": "code",
   "execution_count": 52,
   "id": "56e3767e-bfbc-47d0-8b21-4264fa3561a3",
   "metadata": {},
   "outputs": [],
   "source": [
    "std_dev = (\n",
    "    m1.groupby(groupby_cols\n",
    "    )\n",
    "    .apply(lambda x: (x[\"actual_headway\"] - x[\"avg_schd_headway_sec\"]).std())\n",
    "    .reset_index(name=\"std_dev_headway\")\n",
    ")"
   ]
  },
  {
   "cell_type": "code",
   "execution_count": 53,
   "id": "674c47d8-0c61-4fb8-80a3-ad7c0060420a",
   "metadata": {},
   "outputs": [
    {
     "data": {
      "text/html": [
       "<div>\n",
       "<style scoped>\n",
       "    .dataframe tbody tr th:only-of-type {\n",
       "        vertical-align: middle;\n",
       "    }\n",
       "\n",
       "    .dataframe tbody tr th {\n",
       "        vertical-align: top;\n",
       "    }\n",
       "\n",
       "    .dataframe thead th {\n",
       "        text-align: right;\n",
       "    }\n",
       "</style>\n",
       "<table border=\"1\" class=\"dataframe\">\n",
       "  <thead>\n",
       "    <tr style=\"text-align: right;\">\n",
       "      <th></th>\n",
       "      <th>schedule_gtfs_dataset_key</th>\n",
       "      <th>feed_key</th>\n",
       "      <th>shape_array_key</th>\n",
       "      <th>route_id</th>\n",
       "      <th>direction_id</th>\n",
       "      <th>route_primary_direction</th>\n",
       "      <th>stop_sequence</th>\n",
       "      <th>stop_id</th>\n",
       "      <th>std_dev_headway</th>\n",
       "    </tr>\n",
       "  </thead>\n",
       "  <tbody>\n",
       "    <tr>\n",
       "      <th>0</th>\n",
       "      <td>015d67d5b75b5cf2b710bbadadfb75f5</td>\n",
       "      <td>9529027364faa9b7dfbb3d7d7501b133</td>\n",
       "      <td>04ce2af2df4eebb3126f1d90a10b5a61</td>\n",
       "      <td>29</td>\n",
       "      <td>1.00</td>\n",
       "      <td>Eastbound</td>\n",
       "      <td>2</td>\n",
       "      <td>40471</td>\n",
       "      <td>10497.35</td>\n",
       "    </tr>\n",
       "    <tr>\n",
       "      <th>1</th>\n",
       "      <td>015d67d5b75b5cf2b710bbadadfb75f5</td>\n",
       "      <td>9529027364faa9b7dfbb3d7d7501b133</td>\n",
       "      <td>04ce2af2df4eebb3126f1d90a10b5a61</td>\n",
       "      <td>29</td>\n",
       "      <td>1.00</td>\n",
       "      <td>Eastbound</td>\n",
       "      <td>3</td>\n",
       "      <td>41333</td>\n",
       "      <td>9612.73</td>\n",
       "    </tr>\n",
       "    <tr>\n",
       "      <th>2</th>\n",
       "      <td>015d67d5b75b5cf2b710bbadadfb75f5</td>\n",
       "      <td>9529027364faa9b7dfbb3d7d7501b133</td>\n",
       "      <td>04ce2af2df4eebb3126f1d90a10b5a61</td>\n",
       "      <td>29</td>\n",
       "      <td>1.00</td>\n",
       "      <td>Eastbound</td>\n",
       "      <td>4</td>\n",
       "      <td>41334</td>\n",
       "      <td>10623.49</td>\n",
       "    </tr>\n",
       "    <tr>\n",
       "      <th>3</th>\n",
       "      <td>015d67d5b75b5cf2b710bbadadfb75f5</td>\n",
       "      <td>9529027364faa9b7dfbb3d7d7501b133</td>\n",
       "      <td>04ce2af2df4eebb3126f1d90a10b5a61</td>\n",
       "      <td>29</td>\n",
       "      <td>1.00</td>\n",
       "      <td>Eastbound</td>\n",
       "      <td>5</td>\n",
       "      <td>40325</td>\n",
       "      <td>7900.49</td>\n",
       "    </tr>\n",
       "    <tr>\n",
       "      <th>4</th>\n",
       "      <td>015d67d5b75b5cf2b710bbadadfb75f5</td>\n",
       "      <td>9529027364faa9b7dfbb3d7d7501b133</td>\n",
       "      <td>04ce2af2df4eebb3126f1d90a10b5a61</td>\n",
       "      <td>29</td>\n",
       "      <td>1.00</td>\n",
       "      <td>Eastbound</td>\n",
       "      <td>6</td>\n",
       "      <td>40323</td>\n",
       "      <td>7899.84</td>\n",
       "    </tr>\n",
       "  </tbody>\n",
       "</table>\n",
       "</div>"
      ],
      "text/plain": [
       "          schedule_gtfs_dataset_key                          feed_key  \\\n",
       "0  015d67d5b75b5cf2b710bbadadfb75f5  9529027364faa9b7dfbb3d7d7501b133   \n",
       "1  015d67d5b75b5cf2b710bbadadfb75f5  9529027364faa9b7dfbb3d7d7501b133   \n",
       "2  015d67d5b75b5cf2b710bbadadfb75f5  9529027364faa9b7dfbb3d7d7501b133   \n",
       "3  015d67d5b75b5cf2b710bbadadfb75f5  9529027364faa9b7dfbb3d7d7501b133   \n",
       "4  015d67d5b75b5cf2b710bbadadfb75f5  9529027364faa9b7dfbb3d7d7501b133   \n",
       "\n",
       "                    shape_array_key route_id  direction_id  \\\n",
       "0  04ce2af2df4eebb3126f1d90a10b5a61       29          1.00   \n",
       "1  04ce2af2df4eebb3126f1d90a10b5a61       29          1.00   \n",
       "2  04ce2af2df4eebb3126f1d90a10b5a61       29          1.00   \n",
       "3  04ce2af2df4eebb3126f1d90a10b5a61       29          1.00   \n",
       "4  04ce2af2df4eebb3126f1d90a10b5a61       29          1.00   \n",
       "\n",
       "  route_primary_direction  stop_sequence stop_id  std_dev_headway  \n",
       "0               Eastbound              2   40471         10497.35  \n",
       "1               Eastbound              3   41333          9612.73  \n",
       "2               Eastbound              4   41334         10623.49  \n",
       "3               Eastbound              5   40325          7900.49  \n",
       "4               Eastbound              6   40323          7899.84  "
      ]
     },
     "execution_count": 53,
     "metadata": {},
     "output_type": "execute_result"
    }
   ],
   "source": [
    "std_dev.head()"
   ]
  },
  {
   "cell_type": "code",
   "execution_count": 82,
   "id": "44023236-a5ed-412c-bd08-3c68b6a92faf",
   "metadata": {},
   "outputs": [],
   "source": [
    "m2 = pd.merge(\n",
    "    m1,\n",
    "    std_dev,\n",
    "    on=groupby_cols,\n",
    ")"
   ]
  },
  {
   "cell_type": "code",
   "execution_count": 83,
   "id": "0dd50953-19b9-473c-b072-7d47b686dbf1",
   "metadata": {},
   "outputs": [],
   "source": [
    "m2[\"bunching_coefficient\"] = m2.std_dev_headway / m2.avg_schd_headway_sec"
   ]
  },
  {
   "cell_type": "code",
   "execution_count": 84,
   "id": "ff8ed9e9-4575-4866-a38e-b8a554bf5dad",
   "metadata": {},
   "outputs": [
    {
     "data": {
      "text/html": [
       "<div>\n",
       "<style scoped>\n",
       "    .dataframe tbody tr th:only-of-type {\n",
       "        vertical-align: middle;\n",
       "    }\n",
       "\n",
       "    .dataframe tbody tr th {\n",
       "        vertical-align: top;\n",
       "    }\n",
       "\n",
       "    .dataframe thead th {\n",
       "        text-align: right;\n",
       "    }\n",
       "</style>\n",
       "<table border=\"1\" class=\"dataframe\">\n",
       "  <thead>\n",
       "    <tr style=\"text-align: right;\">\n",
       "      <th></th>\n",
       "      <th>stop_id</th>\n",
       "      <th>stop_sequence</th>\n",
       "      <th>scheduled_arrival_sec</th>\n",
       "      <th>rt_arrival_sec</th>\n",
       "      <th>route_id</th>\n",
       "      <th>route_long_name</th>\n",
       "      <th>direction_id</th>\n",
       "      <th>route_primary_direction</th>\n",
       "      <th>frequency_in_minutes</th>\n",
       "      <th>delay</th>\n",
       "      <th>actual_headway</th>\n",
       "      <th>schd_headway</th>\n",
       "      <th>avg_schd_headway_sec</th>\n",
       "      <th>std_dev_headway</th>\n",
       "      <th>bunching_coefficient</th>\n",
       "    </tr>\n",
       "  </thead>\n",
       "  <tbody>\n",
       "    <tr>\n",
       "      <th>91</th>\n",
       "      <td>41190</td>\n",
       "      <td>2</td>\n",
       "      <td>24960.00</td>\n",
       "      <td>25081</td>\n",
       "      <td>613</td>\n",
       "      <td>Paradise Cay - Redwood HS</td>\n",
       "      <td>1.00</td>\n",
       "      <td>Westbound</td>\n",
       "      <td>750.00</td>\n",
       "      <td>121.00</td>\n",
       "      <td>NaN</td>\n",
       "      <td>NaN</td>\n",
       "      <td>NaN</td>\n",
       "      <td>NaN</td>\n",
       "      <td>NaN</td>\n",
       "    </tr>\n",
       "    <tr>\n",
       "      <th>92</th>\n",
       "      <td>40294</td>\n",
       "      <td>3</td>\n",
       "      <td>25080.00</td>\n",
       "      <td>25142</td>\n",
       "      <td>613</td>\n",
       "      <td>Paradise Cay - Redwood HS</td>\n",
       "      <td>1.00</td>\n",
       "      <td>Westbound</td>\n",
       "      <td>750.00</td>\n",
       "      <td>62.00</td>\n",
       "      <td>NaN</td>\n",
       "      <td>NaN</td>\n",
       "      <td>NaN</td>\n",
       "      <td>NaN</td>\n",
       "      <td>NaN</td>\n",
       "    </tr>\n",
       "    <tr>\n",
       "      <th>93</th>\n",
       "      <td>40292</td>\n",
       "      <td>4</td>\n",
       "      <td>25080.00</td>\n",
       "      <td>25154</td>\n",
       "      <td>613</td>\n",
       "      <td>Paradise Cay - Redwood HS</td>\n",
       "      <td>1.00</td>\n",
       "      <td>Westbound</td>\n",
       "      <td>750.00</td>\n",
       "      <td>74.00</td>\n",
       "      <td>NaN</td>\n",
       "      <td>NaN</td>\n",
       "      <td>NaN</td>\n",
       "      <td>NaN</td>\n",
       "      <td>NaN</td>\n",
       "    </tr>\n",
       "  </tbody>\n",
       "</table>\n",
       "</div>"
      ],
      "text/plain": [
       "   stop_id  stop_sequence  scheduled_arrival_sec  rt_arrival_sec route_id  \\\n",
       "91   41190              2               24960.00           25081      613   \n",
       "92   40294              3               25080.00           25142      613   \n",
       "93   40292              4               25080.00           25154      613   \n",
       "\n",
       "              route_long_name  direction_id route_primary_direction  \\\n",
       "91  Paradise Cay - Redwood HS          1.00               Westbound   \n",
       "92  Paradise Cay - Redwood HS          1.00               Westbound   \n",
       "93  Paradise Cay - Redwood HS          1.00               Westbound   \n",
       "\n",
       "    frequency_in_minutes  delay  actual_headway  schd_headway  \\\n",
       "91                750.00 121.00             NaN           NaN   \n",
       "92                750.00  62.00             NaN           NaN   \n",
       "93                750.00  74.00             NaN           NaN   \n",
       "\n",
       "    avg_schd_headway_sec  std_dev_headway  bunching_coefficient  \n",
       "91                   NaN              NaN                   NaN  \n",
       "92                   NaN              NaN                   NaN  \n",
       "93                   NaN              NaN                   NaN  "
      ]
     },
     "execution_count": 84,
     "metadata": {},
     "output_type": "execute_result"
    }
   ],
   "source": [
    "m2.loc[m2.bunching_coefficient.isna()].drop(columns = drop_for_preview).head(3)"
   ]
  },
  {
   "cell_type": "markdown",
   "id": "4e5365b0-a652-4331-954d-03de8e08416c",
   "metadata": {},
   "source": [
    "### Drop duplicates"
   ]
  },
  {
   "cell_type": "code",
   "execution_count": 85,
   "id": "4e8dbf20-75da-4c15-a192-6a8d3ade9d81",
   "metadata": {},
   "outputs": [],
   "source": [
    "test = m2.loc[~m2.std_dev_headway.isna()]"
   ]
  },
  {
   "cell_type": "code",
   "execution_count": 86,
   "id": "5d228694-9419-4eb5-be71-d7967069c5aa",
   "metadata": {},
   "outputs": [],
   "source": [
    "test = test.loc[~m2.avg_schd_headway_sec.isna()]"
   ]
  },
  {
   "cell_type": "code",
   "execution_count": 87,
   "id": "3450e5dd-1df1-448a-bd1c-43dacbaa005e",
   "metadata": {},
   "outputs": [
    {
     "data": {
      "text/plain": [
       "(2347544, 2410376)"
      ]
     },
     "execution_count": 87,
     "metadata": {},
     "output_type": "execute_result"
    }
   ],
   "source": [
    "len(test), len(m2)"
   ]
  },
  {
   "cell_type": "code",
   "execution_count": 88,
   "id": "f91fe6e5-9a03-48ad-a1ec-dedb3c0c7a2e",
   "metadata": {},
   "outputs": [],
   "source": [
    "bunching_by_stops = test.drop_duplicates(\n",
    "    subset=groupby_cols\n",
    ").reset_index(drop = True)"
   ]
  },
  {
   "cell_type": "code",
   "execution_count": 89,
   "id": "9c20690d-2d15-4c8c-a137-8b889ce45849",
   "metadata": {},
   "outputs": [
    {
     "data": {
      "text/plain": [
       "2304196"
      ]
     },
     "execution_count": 89,
     "metadata": {},
     "output_type": "execute_result"
    }
   ],
   "source": [
    "len(m2)-len(bunching_by_stops)"
   ]
  },
  {
   "cell_type": "code",
   "execution_count": 90,
   "id": "8d5f66bb-6e25-4548-afb9-7603ae794cf4",
   "metadata": {},
   "outputs": [
    {
     "data": {
      "text/plain": [
       "106180"
      ]
     },
     "execution_count": 90,
     "metadata": {},
     "output_type": "execute_result"
    }
   ],
   "source": [
    "len(bunching_by_stops)"
   ]
  },
  {
   "cell_type": "code",
   "execution_count": 91,
   "id": "67a7eb7c-1662-482a-8adc-28353e7ccacc",
   "metadata": {},
   "outputs": [
    {
     "name": "stdout",
     "output_type": "stream",
     "text": [
      "<class 'pandas.core.frame.DataFrame'>\n",
      "RangeIndex: 106180 entries, 0 to 106179\n",
      "Data columns (total 20 columns):\n",
      " #   Column                     Non-Null Count   Dtype  \n",
      "---  ------                     --------------   -----  \n",
      " 0   trip_id                    106180 non-null  object \n",
      " 1   stop_id                    106180 non-null  object \n",
      " 2   stop_sequence              106180 non-null  int64  \n",
      " 3   scheduled_arrival_sec      106180 non-null  float64\n",
      " 4   schedule_gtfs_dataset_key  106180 non-null  object \n",
      " 5   trip_instance_key          106180 non-null  object \n",
      " 6   rt_arrival_sec             106180 non-null  int64  \n",
      " 7   route_id                   106180 non-null  object \n",
      " 8   shape_array_key            106180 non-null  object \n",
      " 9   feed_key                   106180 non-null  object \n",
      " 10  route_long_name            105184 non-null  object \n",
      " 11  direction_id               106180 non-null  float64\n",
      " 12  route_primary_direction    106180 non-null  object \n",
      " 13  frequency_in_minutes       106180 non-null  float64\n",
      " 14  delay                      106180 non-null  float64\n",
      " 15  actual_headway             0 non-null       float64\n",
      " 16  schd_headway               0 non-null       float64\n",
      " 17  avg_schd_headway_sec       106180 non-null  float64\n",
      " 18  std_dev_headway            106180 non-null  float64\n",
      " 19  bunching_coefficient       106180 non-null  float64\n",
      "dtypes: float64(9), int64(2), object(9)\n",
      "memory usage: 16.2+ MB\n"
     ]
    }
   ],
   "source": [
    "bunching_by_stops.info()"
   ]
  },
  {
   "cell_type": "code",
   "execution_count": 92,
   "id": "83e89a9e-240f-4396-bda9-31b0362102ec",
   "metadata": {},
   "outputs": [
    {
     "data": {
      "text/plain": [
       "0"
      ]
     },
     "execution_count": 92,
     "metadata": {},
     "output_type": "execute_result"
    }
   ],
   "source": [
    "len(bunching_by_stops.loc[bunching_by_stops.bunching_coefficient.isna()])"
   ]
  },
  {
   "cell_type": "markdown",
   "id": "ba6b3cc5-3b37-481d-835c-d7e5244452df",
   "metadata": {},
   "source": [
    "#### Why are some of the rows for `std_dev_headway` and `bunching_coefficient` `nan`??"
   ]
  },
  {
   "cell_type": "code",
   "execution_count": 95,
   "id": "c23c3d60-4969-419b-b07f-81a9915cb22d",
   "metadata": {},
   "outputs": [
    {
     "data": {
      "text/plain": [
       "count   106180.00\n",
       "mean          inf\n",
       "std           NaN\n",
       "min          0.00\n",
       "25%          0.20\n",
       "50%          0.38\n",
       "75%          0.62\n",
       "max           inf\n",
       "Name: bunching_coefficient, dtype: float64"
      ]
     },
     "execution_count": 95,
     "metadata": {},
     "output_type": "execute_result"
    }
   ],
   "source": [
    "bunching_by_stops.bunching_coefficient.describe()"
   ]
  },
  {
   "cell_type": "markdown",
   "id": "ab42cf29-d84c-4b54-9321-cd9f47e4c97a",
   "metadata": {},
   "source": [
    "### Bunching Coefficient"
   ]
  },
  {
   "cell_type": "code",
   "execution_count": 101,
   "id": "5e0595a1-13b6-4b2a-b633-907af8aa579d",
   "metadata": {},
   "outputs": [],
   "source": [
    "def coefficient_frequency(row):\n",
    "    if row.bunching_coefficient <= 0.21:\n",
    "        return \"Service provided like clockwork\"\n",
    "    elif 0.21 < row.bunching_coefficient <= 0.3:\n",
    "        return \"Vehicles slightly off headway\"\n",
    "    elif 0.3 < row.bunching_coefficient <= 0.39:\n",
    "        return \"Vehicles often off headway\"\n",
    "    elif 0.39 < row.bunching_coefficient <= 0.52:\n",
    "        return \"Irregular headways, with some bunching\"\n",
    "    elif 0.52 < row.bunching_coefficient <= 0.74:\n",
    "        return \"Frequent bunching\"\n",
    "    \n",
    "    else:\n",
    "        return \"Most vehicles bunched\"\n",
    "\n",
    "\n",
    "bunching_by_stops[\"passenger_op_perspective\"] = bunching_by_stops.apply(lambda x: coefficient_frequency(x), axis=1)"
   ]
  },
  {
   "cell_type": "code",
   "execution_count": 102,
   "id": "b9ece34e-5ad6-4137-93d4-68db20b9762b",
   "metadata": {},
   "outputs": [
    {
     "data": {
      "text/plain": [
       "Service provided like clockwork           27739\n",
       "Most vehicles bunched                     20213\n",
       "Irregular headways, with some bunching    15864\n",
       "Frequent bunching                         15814\n",
       "Vehicles often off headway                14838\n",
       "Vehicles slightly off headway             11712\n",
       "Name: passenger_op_perspective, dtype: int64"
      ]
     },
     "execution_count": 102,
     "metadata": {},
     "output_type": "execute_result"
    }
   ],
   "source": [
    "bunching_by_stops.passenger_op_perspective.value_counts()"
   ]
  },
  {
   "cell_type": "code",
   "execution_count": 108,
   "id": "d4df0c20-b3fb-4f9f-aecb-d925f2532fe4",
   "metadata": {},
   "outputs": [
    {
     "data": {
      "text/plain": [
       "831"
      ]
     },
     "execution_count": 108,
     "metadata": {},
     "output_type": "execute_result"
    }
   ],
   "source": [
    "bunching_by_stops.route_id.nunique()"
   ]
  },
  {
   "cell_type": "code",
   "execution_count": 106,
   "id": "8beaaddc-6bf0-4ff2-917e-5a855feabe2b",
   "metadata": {},
   "outputs": [],
   "source": [
    "bunching_by_stops['avg_schd_headway_min'] = bunching_by_stops.avg_schd_headway_sec/60"
   ]
  },
  {
   "cell_type": "code",
   "execution_count": 107,
   "id": "53457809-6c63-4d13-b672-507dc3ea2dc4",
   "metadata": {},
   "outputs": [
    {
     "data": {
      "text/html": [
       "<div>\n",
       "<style scoped>\n",
       "    .dataframe tbody tr th:only-of-type {\n",
       "        vertical-align: middle;\n",
       "    }\n",
       "\n",
       "    .dataframe tbody tr th {\n",
       "        vertical-align: top;\n",
       "    }\n",
       "\n",
       "    .dataframe thead th {\n",
       "        text-align: right;\n",
       "    }\n",
       "</style>\n",
       "<table border=\"1\" class=\"dataframe\">\n",
       "  <thead>\n",
       "    <tr style=\"text-align: right;\">\n",
       "      <th></th>\n",
       "      <th>stop_id</th>\n",
       "      <th>stop_sequence</th>\n",
       "      <th>scheduled_arrival_sec</th>\n",
       "      <th>rt_arrival_sec</th>\n",
       "      <th>route_id</th>\n",
       "      <th>route_long_name</th>\n",
       "      <th>direction_id</th>\n",
       "      <th>route_primary_direction</th>\n",
       "      <th>frequency_in_minutes</th>\n",
       "      <th>delay</th>\n",
       "      <th>actual_headway</th>\n",
       "      <th>schd_headway</th>\n",
       "      <th>avg_schd_headway_sec</th>\n",
       "      <th>std_dev_headway</th>\n",
       "      <th>bunching_coefficient</th>\n",
       "      <th>passenger_op_perspective</th>\n",
       "      <th>avg_schd_headway_min</th>\n",
       "    </tr>\n",
       "  </thead>\n",
       "  <tbody>\n",
       "    <tr>\n",
       "      <th>75101</th>\n",
       "      <td>1555</td>\n",
       "      <td>38</td>\n",
       "      <td>18780.00</td>\n",
       "      <td>18979</td>\n",
       "      <td>28</td>\n",
       "      <td>Florida &amp; New Chicago to Perris STC</td>\n",
       "      <td>0.00</td>\n",
       "      <td>Westbound</td>\n",
       "      <td>48.00</td>\n",
       "      <td>199.00</td>\n",
       "      <td>NaN</td>\n",
       "      <td>NaN</td>\n",
       "      <td>158.50</td>\n",
       "      <td>9316.84</td>\n",
       "      <td>0.98</td>\n",
       "      <td>Most vehicles bunched</td>\n",
       "      <td>2.64</td>\n",
       "    </tr>\n",
       "    <tr>\n",
       "      <th>47284</th>\n",
       "      <td>14377</td>\n",
       "      <td>16</td>\n",
       "      <td>38338.00</td>\n",
       "      <td>38455</td>\n",
       "      <td>35</td>\n",
       "      <td>EUREKA</td>\n",
       "      <td>0.00</td>\n",
       "      <td>Southbound</td>\n",
       "      <td>49.59</td>\n",
       "      <td>117.00</td>\n",
       "      <td>NaN</td>\n",
       "      <td>NaN</td>\n",
       "      <td>90.00</td>\n",
       "      <td>4695.71</td>\n",
       "      <td>0.87</td>\n",
       "      <td>Most vehicles bunched</td>\n",
       "      <td>1.50</td>\n",
       "    </tr>\n",
       "    <tr>\n",
       "      <th>27367</th>\n",
       "      <td>10718</td>\n",
       "      <td>14</td>\n",
       "      <td>15420.00</td>\n",
       "      <td>15351</td>\n",
       "      <td>70-13172</td>\n",
       "      <td>Metro Local Line</td>\n",
       "      <td>1.00</td>\n",
       "      <td>Westbound</td>\n",
       "      <td>11.90</td>\n",
       "      <td>-69.00</td>\n",
       "      <td>NaN</td>\n",
       "      <td>NaN</td>\n",
       "      <td>11.28</td>\n",
       "      <td>682.74</td>\n",
       "      <td>1.01</td>\n",
       "      <td>Most vehicles bunched</td>\n",
       "      <td>0.19</td>\n",
       "    </tr>\n",
       "    <tr>\n",
       "      <th>83314</th>\n",
       "      <td>5943</td>\n",
       "      <td>18</td>\n",
       "      <td>16740.00</td>\n",
       "      <td>16731</td>\n",
       "      <td>64</td>\n",
       "      <td>Huntington Beach - Tustin</td>\n",
       "      <td>0.00</td>\n",
       "      <td>Eastbound</td>\n",
       "      <td>20.83</td>\n",
       "      <td>-9.00</td>\n",
       "      <td>NaN</td>\n",
       "      <td>NaN</td>\n",
       "      <td>186.17</td>\n",
       "      <td>22935.99</td>\n",
       "      <td>2.05</td>\n",
       "      <td>Most vehicles bunched</td>\n",
       "      <td>3.10</td>\n",
       "    </tr>\n",
       "    <tr>\n",
       "      <th>25281</th>\n",
       "      <td>7862</td>\n",
       "      <td>13</td>\n",
       "      <td>16740.00</td>\n",
       "      <td>16833</td>\n",
       "      <td>28-13172</td>\n",
       "      <td>Metro Local Line</td>\n",
       "      <td>0.00</td>\n",
       "      <td>Eastbound</td>\n",
       "      <td>13.33</td>\n",
       "      <td>93.00</td>\n",
       "      <td>NaN</td>\n",
       "      <td>NaN</td>\n",
       "      <td>23.73</td>\n",
       "      <td>1055.59</td>\n",
       "      <td>0.74</td>\n",
       "      <td>Most vehicles bunched</td>\n",
       "      <td>0.40</td>\n",
       "    </tr>\n",
       "    <tr>\n",
       "      <th>22883</th>\n",
       "      <td>4799</td>\n",
       "      <td>28</td>\n",
       "      <td>14760.00</td>\n",
       "      <td>14701</td>\n",
       "      <td>30-13172</td>\n",
       "      <td>Metro Local Line</td>\n",
       "      <td>0.00</td>\n",
       "      <td>Eastbound</td>\n",
       "      <td>12.99</td>\n",
       "      <td>-59.00</td>\n",
       "      <td>NaN</td>\n",
       "      <td>NaN</td>\n",
       "      <td>380.00</td>\n",
       "      <td>33483.75</td>\n",
       "      <td>1.47</td>\n",
       "      <td>Most vehicles bunched</td>\n",
       "      <td>6.33</td>\n",
       "    </tr>\n",
       "    <tr>\n",
       "      <th>45450</th>\n",
       "      <td>15655</td>\n",
       "      <td>17</td>\n",
       "      <td>50019.00</td>\n",
       "      <td>51016</td>\n",
       "      <td>F</td>\n",
       "      <td>MARKET &amp; WHARVES</td>\n",
       "      <td>0.00</td>\n",
       "      <td>Westbound</td>\n",
       "      <td>20.27</td>\n",
       "      <td>997.00</td>\n",
       "      <td>NaN</td>\n",
       "      <td>NaN</td>\n",
       "      <td>48.24</td>\n",
       "      <td>2693.51</td>\n",
       "      <td>0.93</td>\n",
       "      <td>Most vehicles bunched</td>\n",
       "      <td>0.80</td>\n",
       "    </tr>\n",
       "    <tr>\n",
       "      <th>48196</th>\n",
       "      <td>3190</td>\n",
       "      <td>33</td>\n",
       "      <td>29677.00</td>\n",
       "      <td>29831</td>\n",
       "      <td>545</td>\n",
       "      <td>Country Club-Malls</td>\n",
       "      <td>0.00</td>\n",
       "      <td>Westbound</td>\n",
       "      <td>75.95</td>\n",
       "      <td>154.00</td>\n",
       "      <td>NaN</td>\n",
       "      <td>NaN</td>\n",
       "      <td>67.22</td>\n",
       "      <td>4864.16</td>\n",
       "      <td>1.21</td>\n",
       "      <td>Most vehicles bunched</td>\n",
       "      <td>1.12</td>\n",
       "    </tr>\n",
       "    <tr>\n",
       "      <th>72462</th>\n",
       "      <td>1149</td>\n",
       "      <td>1512</td>\n",
       "      <td>27612.00</td>\n",
       "      <td>27711</td>\n",
       "      <td>37</td>\n",
       "      <td>Route 37</td>\n",
       "      <td>0.00</td>\n",
       "      <td>Westbound</td>\n",
       "      <td>55.56</td>\n",
       "      <td>99.00</td>\n",
       "      <td>NaN</td>\n",
       "      <td>NaN</td>\n",
       "      <td>73.64</td>\n",
       "      <td>6328.81</td>\n",
       "      <td>1.43</td>\n",
       "      <td>Most vehicles bunched</td>\n",
       "      <td>1.23</td>\n",
       "    </tr>\n",
       "    <tr>\n",
       "      <th>92674</th>\n",
       "      <td>3025</td>\n",
       "      <td>3480</td>\n",
       "      <td>29880.00</td>\n",
       "      <td>29974</td>\n",
       "      <td>185</td>\n",
       "      <td>Azusa – West Covina – Puente Hills Mall</td>\n",
       "      <td>1.00</td>\n",
       "      <td>Southbound</td>\n",
       "      <td>49.59</td>\n",
       "      <td>94.00</td>\n",
       "      <td>NaN</td>\n",
       "      <td>NaN</td>\n",
       "      <td>360.50</td>\n",
       "      <td>18032.64</td>\n",
       "      <td>0.83</td>\n",
       "      <td>Most vehicles bunched</td>\n",
       "      <td>6.01</td>\n",
       "    </tr>\n",
       "  </tbody>\n",
       "</table>\n",
       "</div>"
      ],
      "text/plain": [
       "      stop_id  stop_sequence  scheduled_arrival_sec  rt_arrival_sec  route_id  \\\n",
       "75101    1555             38               18780.00           18979        28   \n",
       "47284   14377             16               38338.00           38455        35   \n",
       "27367   10718             14               15420.00           15351  70-13172   \n",
       "83314    5943             18               16740.00           16731        64   \n",
       "25281    7862             13               16740.00           16833  28-13172   \n",
       "22883    4799             28               14760.00           14701  30-13172   \n",
       "45450   15655             17               50019.00           51016         F   \n",
       "48196    3190             33               29677.00           29831       545   \n",
       "72462    1149           1512               27612.00           27711        37   \n",
       "92674    3025           3480               29880.00           29974       185   \n",
       "\n",
       "                               route_long_name  direction_id  \\\n",
       "75101      Florida & New Chicago to Perris STC          0.00   \n",
       "47284                                   EUREKA          0.00   \n",
       "27367                         Metro Local Line          1.00   \n",
       "83314                Huntington Beach - Tustin          0.00   \n",
       "25281                         Metro Local Line          0.00   \n",
       "22883                         Metro Local Line          0.00   \n",
       "45450                         MARKET & WHARVES          0.00   \n",
       "48196                       Country Club-Malls          0.00   \n",
       "72462                                 Route 37          0.00   \n",
       "92674  Azusa – West Covina – Puente Hills Mall          1.00   \n",
       "\n",
       "      route_primary_direction  frequency_in_minutes  delay  actual_headway  \\\n",
       "75101               Westbound                 48.00 199.00             NaN   \n",
       "47284              Southbound                 49.59 117.00             NaN   \n",
       "27367               Westbound                 11.90 -69.00             NaN   \n",
       "83314               Eastbound                 20.83  -9.00             NaN   \n",
       "25281               Eastbound                 13.33  93.00             NaN   \n",
       "22883               Eastbound                 12.99 -59.00             NaN   \n",
       "45450               Westbound                 20.27 997.00             NaN   \n",
       "48196               Westbound                 75.95 154.00             NaN   \n",
       "72462               Westbound                 55.56  99.00             NaN   \n",
       "92674              Southbound                 49.59  94.00             NaN   \n",
       "\n",
       "       schd_headway  avg_schd_headway_sec  std_dev_headway  \\\n",
       "75101           NaN                158.50          9316.84   \n",
       "47284           NaN                 90.00          4695.71   \n",
       "27367           NaN                 11.28           682.74   \n",
       "83314           NaN                186.17         22935.99   \n",
       "25281           NaN                 23.73          1055.59   \n",
       "22883           NaN                380.00         33483.75   \n",
       "45450           NaN                 48.24          2693.51   \n",
       "48196           NaN                 67.22          4864.16   \n",
       "72462           NaN                 73.64          6328.81   \n",
       "92674           NaN                360.50         18032.64   \n",
       "\n",
       "       bunching_coefficient passenger_op_perspective  avg_schd_headway_min  \n",
       "75101                  0.98    Most vehicles bunched                  2.64  \n",
       "47284                  0.87    Most vehicles bunched                  1.50  \n",
       "27367                  1.01    Most vehicles bunched                  0.19  \n",
       "83314                  2.05    Most vehicles bunched                  3.10  \n",
       "25281                  0.74    Most vehicles bunched                  0.40  \n",
       "22883                  1.47    Most vehicles bunched                  6.33  \n",
       "45450                  0.93    Most vehicles bunched                  0.80  \n",
       "48196                  1.21    Most vehicles bunched                  1.12  \n",
       "72462                  1.43    Most vehicles bunched                  1.23  \n",
       "92674                  0.83    Most vehicles bunched                  6.01  "
      ]
     },
     "execution_count": 107,
     "metadata": {},
     "output_type": "execute_result"
    }
   ],
   "source": [
    "bunching_by_stops.loc[bunching_by_stops.passenger_op_perspective == \"Most vehicles bunched\"].sample(10).drop(columns = drop_for_preview)"
   ]
  }
 ],
 "metadata": {
  "kernelspec": {
   "display_name": "Python 3 (ipykernel)",
   "language": "python",
   "name": "python3"
  },
  "language_info": {
   "codemirror_mode": {
    "name": "ipython",
    "version": 3
   },
   "file_extension": ".py",
   "mimetype": "text/x-python",
   "name": "python",
   "nbconvert_exporter": "python",
   "pygments_lexer": "ipython3",
   "version": "3.9.13"
  }
 },
 "nbformat": 4,
 "nbformat_minor": 5
}
