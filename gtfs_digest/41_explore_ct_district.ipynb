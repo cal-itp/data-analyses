{
 "cells": [
  {
   "cell_type": "markdown",
   "id": "5137b49c-d292-4545-9bc6-0521c797e332",
   "metadata": {},
   "source": [
    "## Filter mutliple feeds\n",
    "Evan: <i>I'm also seeing multiple feeds in the District Digest Map. I don't mind them, but it may be helpful to try to filter for just Public Currently Operating Fixed Route or Regional Subfeed.</i>"
   ]
  },
  {
   "cell_type": "code",
   "execution_count": 1,
   "id": "f80b95ac-4f34-4c31-b392-b943c8a08815",
   "metadata": {},
   "outputs": [],
   "source": [
    "import geopandas as gpd\n",
    "import merge_data\n",
    "import numpy as np\n",
    "import pandas as pd\n",
    "from segment_speed_utils import gtfs_schedule_wrangling, helpers, time_series_utils\n",
    "from shared_utils import catalog_utils, rt_dates, rt_utils\n",
    "from update_vars import GTFS_DATA_DICT, RT_SCHED_GCS, SCHED_GCS"
   ]
  },
  {
   "cell_type": "code",
   "execution_count": 2,
   "id": "fb63b9e4-f3e3-4a44-bc4f-005f705029c1",
   "metadata": {},
   "outputs": [],
   "source": [
    "pd.options.display.max_columns = 100\n",
    "pd.options.display.float_format = \"{:.2f}\".format\n",
    "pd.set_option(\"display.max_rows\", None)\n",
    "pd.set_option(\"display.max_colwidth\", None)"
   ]
  },
  {
   "cell_type": "code",
   "execution_count": 3,
   "id": "8e88db14-e0a5-48e8-a9df-10fc5b027ad4",
   "metadata": {},
   "outputs": [],
   "source": [
    "district = \"08 - San Bernardino\""
   ]
  },
  {
   "cell_type": "code",
   "execution_count": 4,
   "id": "cc5657c7-9147-4683-b3be-c59fe95db817",
   "metadata": {},
   "outputs": [],
   "source": [
    "OPERATOR_FILE = GTFS_DATA_DICT.digest_tables.operator_profiles\n",
    "OPERATOR_ROUTE = GTFS_DATA_DICT.digest_tables.operator_routes_map"
   ]
  },
  {
   "cell_type": "code",
   "execution_count": 5,
   "id": "435d1028-222a-4c55-99ca-cb19972ce39b",
   "metadata": {},
   "outputs": [],
   "source": [
    "operator_df = pd.read_parquet(\n",
    "    f\"{RT_SCHED_GCS}{OPERATOR_FILE}.parquet\",\n",
    "    filters = [[(\"caltrans_district\", \"==\", district)]]\n",
    ")\n",
    "\n",
    "# using name instead of schedule_gtfs_dataset_key allows us to get \n",
    "# the last ones for LA Metro without keeping extraneous rows for LA Metro when keys changed\n",
    "operator_df = operator_df.sort_values(\n",
    "    [\"service_date\", \"name\"], \n",
    "    ascending=[False, True]\n",
    ").drop_duplicates(\n",
    "    subset=[\"name\"]\n",
    ").reset_index(drop=True)"
   ]
  },
  {
   "cell_type": "code",
   "execution_count": 8,
   "id": "2b4f113c-c110-4b5d-a0b7-3d992aa6b4e9",
   "metadata": {},
   "outputs": [
    {
     "data": {
      "text/plain": [
       "array(['2024-11-13T00:00:00.000000000', '2024-10-16T00:00:00.000000000'],\n",
       "      dtype='datetime64[ns]')"
      ]
     },
     "execution_count": 8,
     "metadata": {},
     "output_type": "execute_result"
    }
   ],
   "source": [
    "operator_df.service_date.unique()"
   ]
  },
  {
   "cell_type": "code",
   "execution_count": 12,
   "id": "9ae9c383-a8ab-4916-a524-d108f927ee2e",
   "metadata": {},
   "outputs": [
    {
     "data": {
      "text/plain": [
       "Index(['schedule_gtfs_dataset_key', 'vp_per_min_agency',\n",
       "       'spatial_accuracy_agency', 'service_date', 'operator_n_routes',\n",
       "       'operator_n_trips', 'operator_n_shapes', 'operator_n_stops',\n",
       "       'operator_n_arrivals', 'operator_route_length_miles',\n",
       "       'operator_arrivals_per_stop', 'n_downtown_local_routes',\n",
       "       'n_local_routes', 'n_coverage_routes', 'n_rapid_routes',\n",
       "       'n_express_routes', 'n_rail_routes', 'name',\n",
       "       'organization_source_record_id', 'organization_name',\n",
       "       'caltrans_district', 'counties_served', 'service_area_sq_miles',\n",
       "       'hq_city', 'uza_name', 'service_area_pop', 'organization_type',\n",
       "       'primary_uza', 'reporter_type'],\n",
       "      dtype='object')"
      ]
     },
     "execution_count": 12,
     "metadata": {},
     "output_type": "execute_result"
    }
   ],
   "source": [
    "operator_df.columns"
   ]
  },
  {
   "cell_type": "code",
   "execution_count": 9,
   "id": "bd29fe28-0b63-490b-ae1c-6e0a64ca3a37",
   "metadata": {},
   "outputs": [
    {
     "data": {
      "text/plain": [
       "(17, 29)"
      ]
     },
     "execution_count": 9,
     "metadata": {},
     "output_type": "execute_result"
    }
   ],
   "source": [
    "operator_df.shape"
   ]
  },
  {
   "cell_type": "code",
   "execution_count": 13,
   "id": "d5115797-db04-49ae-841a-4c573349dea5",
   "metadata": {},
   "outputs": [
    {
     "data": {
      "text/html": [
       "<div>\n",
       "<style scoped>\n",
       "    .dataframe tbody tr th:only-of-type {\n",
       "        vertical-align: middle;\n",
       "    }\n",
       "\n",
       "    .dataframe tbody tr th {\n",
       "        vertical-align: top;\n",
       "    }\n",
       "\n",
       "    .dataframe thead th {\n",
       "        text-align: right;\n",
       "    }\n",
       "</style>\n",
       "<table border=\"1\" class=\"dataframe\">\n",
       "  <thead>\n",
       "    <tr style=\"text-align: right;\">\n",
       "      <th></th>\n",
       "      <th>name</th>\n",
       "      <th>organization_name</th>\n",
       "      <th>service_date</th>\n",
       "    </tr>\n",
       "  </thead>\n",
       "  <tbody>\n",
       "    <tr>\n",
       "      <th>0</th>\n",
       "      <td>Banning Pass Schedule</td>\n",
       "      <td>City of Banning</td>\n",
       "      <td>2024-11-13</td>\n",
       "    </tr>\n",
       "    <tr>\n",
       "      <th>1</th>\n",
       "      <td>Basin Transit GMV Schedule</td>\n",
       "      <td>Basin Transit</td>\n",
       "      <td>2024-11-13</td>\n",
       "    </tr>\n",
       "    <tr>\n",
       "      <th>2</th>\n",
       "      <td>Beaumont Transit Schedule</td>\n",
       "      <td>City of Beaumont</td>\n",
       "      <td>2024-11-13</td>\n",
       "    </tr>\n",
       "    <tr>\n",
       "      <th>3</th>\n",
       "      <td>Corona Schedule</td>\n",
       "      <td>City of Corona</td>\n",
       "      <td>2024-11-13</td>\n",
       "    </tr>\n",
       "    <tr>\n",
       "      <th>4</th>\n",
       "      <td>Desert Roadrunner GMV Schedule</td>\n",
       "      <td>Palo Verde Valley Transit Agency</td>\n",
       "      <td>2024-11-13</td>\n",
       "    </tr>\n",
       "    <tr>\n",
       "      <th>5</th>\n",
       "      <td>Desert Roadrunner Schedule</td>\n",
       "      <td>Palo Verde Valley Transit Agency</td>\n",
       "      <td>2024-11-13</td>\n",
       "    </tr>\n",
       "    <tr>\n",
       "      <th>6</th>\n",
       "      <td>Morongo Basin Schedule</td>\n",
       "      <td>Basin Transit</td>\n",
       "      <td>2024-11-13</td>\n",
       "    </tr>\n",
       "    <tr>\n",
       "      <th>7</th>\n",
       "      <td>Mountain Transit GMV Schedule</td>\n",
       "      <td>Mountain Area Regional Transit Authority</td>\n",
       "      <td>2024-11-13</td>\n",
       "    </tr>\n",
       "    <tr>\n",
       "      <th>8</th>\n",
       "      <td>Mountain Transit Schedule</td>\n",
       "      <td>Mountain Area Regional Transit Authority</td>\n",
       "      <td>2024-11-13</td>\n",
       "    </tr>\n",
       "    <tr>\n",
       "      <th>9</th>\n",
       "      <td>Needles Schedule</td>\n",
       "      <td>City of Needles</td>\n",
       "      <td>2024-11-13</td>\n",
       "    </tr>\n",
       "    <tr>\n",
       "      <th>10</th>\n",
       "      <td>OmniTrans Schedule</td>\n",
       "      <td>OmniTrans</td>\n",
       "      <td>2024-11-13</td>\n",
       "    </tr>\n",
       "    <tr>\n",
       "      <th>11</th>\n",
       "      <td>Riverside Schedule</td>\n",
       "      <td>Riverside Transit Agency</td>\n",
       "      <td>2024-11-13</td>\n",
       "    </tr>\n",
       "    <tr>\n",
       "      <th>12</th>\n",
       "      <td>Victor Valley GMV Schedule</td>\n",
       "      <td>Victor Valley Transit Authority</td>\n",
       "      <td>2024-11-13</td>\n",
       "    </tr>\n",
       "    <tr>\n",
       "      <th>13</th>\n",
       "      <td>Victor Valley Schedule</td>\n",
       "      <td>Victor Valley Transit Authority</td>\n",
       "      <td>2024-11-13</td>\n",
       "    </tr>\n",
       "    <tr>\n",
       "      <th>14</th>\n",
       "      <td>None</td>\n",
       "      <td>None</td>\n",
       "      <td>2024-11-13</td>\n",
       "    </tr>\n",
       "    <tr>\n",
       "      <th>15</th>\n",
       "      <td>Beaumont Pass Schedule</td>\n",
       "      <td>City of Beaumont</td>\n",
       "      <td>2024-10-16</td>\n",
       "    </tr>\n",
       "    <tr>\n",
       "      <th>16</th>\n",
       "      <td>Flixbus Schedule</td>\n",
       "      <td>Greyhound</td>\n",
       "      <td>2024-10-16</td>\n",
       "    </tr>\n",
       "  </tbody>\n",
       "</table>\n",
       "</div>"
      ],
      "text/plain": [
       "                              name                         organization_name  \\\n",
       "0            Banning Pass Schedule                           City of Banning   \n",
       "1       Basin Transit GMV Schedule                             Basin Transit   \n",
       "2        Beaumont Transit Schedule                          City of Beaumont   \n",
       "3                  Corona Schedule                            City of Corona   \n",
       "4   Desert Roadrunner GMV Schedule          Palo Verde Valley Transit Agency   \n",
       "5       Desert Roadrunner Schedule          Palo Verde Valley Transit Agency   \n",
       "6           Morongo Basin Schedule                             Basin Transit   \n",
       "7    Mountain Transit GMV Schedule  Mountain Area Regional Transit Authority   \n",
       "8        Mountain Transit Schedule  Mountain Area Regional Transit Authority   \n",
       "9                 Needles Schedule                           City of Needles   \n",
       "10              OmniTrans Schedule                                 OmniTrans   \n",
       "11              Riverside Schedule                  Riverside Transit Agency   \n",
       "12      Victor Valley GMV Schedule           Victor Valley Transit Authority   \n",
       "13          Victor Valley Schedule           Victor Valley Transit Authority   \n",
       "14                            None                                      None   \n",
       "15          Beaumont Pass Schedule                          City of Beaumont   \n",
       "16                Flixbus Schedule                                 Greyhound   \n",
       "\n",
       "   service_date  \n",
       "0    2024-11-13  \n",
       "1    2024-11-13  \n",
       "2    2024-11-13  \n",
       "3    2024-11-13  \n",
       "4    2024-11-13  \n",
       "5    2024-11-13  \n",
       "6    2024-11-13  \n",
       "7    2024-11-13  \n",
       "8    2024-11-13  \n",
       "9    2024-11-13  \n",
       "10   2024-11-13  \n",
       "11   2024-11-13  \n",
       "12   2024-11-13  \n",
       "13   2024-11-13  \n",
       "14   2024-11-13  \n",
       "15   2024-10-16  \n",
       "16   2024-10-16  "
      ]
     },
     "execution_count": 13,
     "metadata": {},
     "output_type": "execute_result"
    }
   ],
   "source": [
    "operator_df[[\"name\",\"organization_name\", \"service_date\"]]"
   ]
  },
  {
   "cell_type": "code",
   "execution_count": 6,
   "id": "25110722-5b98-4b95-88d9-1454c220069b",
   "metadata": {},
   "outputs": [],
   "source": [
    "operators_in_district = operator_df.schedule_gtfs_dataset_key.unique()"
   ]
  }
 ],
 "metadata": {
  "kernelspec": {
   "display_name": "Python 3 (ipykernel)",
   "language": "python",
   "name": "python3"
  },
  "language_info": {
   "codemirror_mode": {
    "name": "ipython",
    "version": 3
   },
   "file_extension": ".py",
   "mimetype": "text/x-python",
   "name": "python",
   "nbconvert_exporter": "python",
   "pygments_lexer": "ipython3",
   "version": "3.9.13"
  }
 },
 "nbformat": 4,
 "nbformat_minor": 5
}
