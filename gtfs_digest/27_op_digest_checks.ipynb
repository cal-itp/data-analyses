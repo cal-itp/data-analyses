{
 "cells": [
  {
   "cell_type": "markdown",
   "id": "fe58e765-0891-4b70-a2ed-bb3a0d2b5d1d",
   "metadata": {},
   "source": [
    "## `operator_report` work"
   ]
  },
  {
   "cell_type": "code",
   "execution_count": 1,
   "id": "e1861f46-194e-4a36-ba75-98ca8d4aee20",
   "metadata": {
    "tags": []
   },
   "outputs": [],
   "source": [
    "import altair as alt\n",
    "import calitp_data_analysis.magics\n",
    "import geopandas as gpd\n",
    "import google.auth\n",
    "import merge_data\n",
    "import pandas as pd\n",
    "from IPython.display import HTML, Image, Markdown, display, display_html\n",
    "from omegaconf import OmegaConf\n",
    "from shared_utils import portfolio_utils, publish_utils, rt_dates\n",
    "from update_vars import GTFS_DATA_DICT, RT_SCHED_GCS, SCHED_GCS, SEGMENT_GCS\n",
    "\n",
    "readable_dict = OmegaConf.load(\"readable2.yml\")\n",
    "credentials, project = google.auth.default()\n",
    "\n",
    "import _report_operator_visuals\n",
    "import _report_route_dir_visuals\n",
    "import _scheduled_service_hour_visuals"
   ]
  },
  {
   "cell_type": "code",
   "execution_count": 2,
   "id": "b8bbe0c9-2cb1-4fd5-b7cb-74b05ae81267",
   "metadata": {
    "tags": []
   },
   "outputs": [],
   "source": [
    "pd.options.display.max_columns = 100\n",
    "pd.options.display.float_format = \"{:.2f}\".format\n",
    "pd.set_option(\"display.max_rows\", None)\n",
    "pd.set_option(\"display.max_colwidth\", None)\n",
    "\n",
    "\n",
    "def formatted(number):\n",
    "    return \"{:,}\".format(number)"
   ]
  },
  {
   "cell_type": "code",
   "execution_count": 3,
   "id": "1bc83d30-6e87-4bbb-bbe2-e98e605e251b",
   "metadata": {
    "tags": []
   },
   "outputs": [],
   "source": [
    "portfolio_name = \"Ventura County (VCTC, Gold Coast, Cities of Camarillo, Moorpark, Ojai, Simi Valley, Thousand Oaks)\""
   ]
  },
  {
   "cell_type": "code",
   "execution_count": 4,
   "id": "bf8fb707-aa74-4705-8baa-2419dd627411",
   "metadata": {
    "tags": []
   },
   "outputs": [],
   "source": [
    "ROUTE_DIR_MONTH_FILE = GTFS_DATA_DICT.digest_tables.monthly_route_schedule_vp_report\n",
    "OPERATOR_PROFILES = GTFS_DATA_DICT.digest_tables.operator_profiles_report\n",
    "OPERATOR_ROUTE_MAP = GTFS_DATA_DICT.digest_tables.operator_routes_map_report\n",
    "SCHEDULED_SERVICES = f\"{GTFS_DATA_DICT.digest_tables.scheduled_service_hours}_report\"\n",
    "ROUTE_DIR_QTR_FILE = \"digest/quarterly_schedule_vp_metrics_report\"\n",
    "\n",
    "route_dir_month_df = pd.read_parquet(\n",
    "    f\"{RT_SCHED_GCS}{ROUTE_DIR_MONTH_FILE}.parquet\",\n",
    "    filters=[[(\"Portfolio Organization Name\", \"==\", portfolio_name)]],\n",
    ")\n",
    "\n",
    "route_dir_qtr_df = pd.read_parquet(\n",
    "    f\"{RT_SCHED_GCS}{ROUTE_DIR_QTR_FILE}.parquet\",\n",
    "    filters=[[(\"Portfolio Organization Name\", \"==\", portfolio_name)]],\n",
    ")\n",
    "\n",
    "route_df = gpd.read_parquet(\n",
    "    f\"{RT_SCHED_GCS}{OPERATOR_ROUTE_MAP}.parquet\",\n",
    "    filters=[[(\"portfolio_organization_name\", \"==\", portfolio_name)]],\n",
    "    storage_options={\"token\": credentials.token},\n",
    ")\n",
    "\n",
    "profile_df = pd.read_parquet(\n",
    "    f\"{RT_SCHED_GCS}{OPERATOR_PROFILES}.parquet\",\n",
    "    filters=[[(\"portfolio_organization_name\", \"==\", portfolio_name)]],\n",
    ")"
   ]
  },
  {
   "cell_type": "code",
   "execution_count": 5,
   "id": "6ad75a67-4dfe-4e1d-849f-517fc62ab346",
   "metadata": {
    "tags": []
   },
   "outputs": [
    {
     "data": {
      "text/plain": [
       "(2113, 23)"
      ]
     },
     "execution_count": 5,
     "metadata": {},
     "output_type": "execute_result"
    }
   ],
   "source": [
    "route_dir_qtr_df.shape"
   ]
  },
  {
   "cell_type": "markdown",
   "id": "2b0923e4-a5f1-4178-9983-9d24e3f619fc",
   "metadata": {},
   "source": [
    "### Observation 1: Route Names are a repeated after removing them from `rt_segment_speeds/segment_speed_utils/time_series_utils` for VCTC"
   ]
  },
  {
   "cell_type": "code",
   "execution_count": 6,
   "id": "7ab4af9a-b31b-4263-a432-4df2f45ab34b",
   "metadata": {
    "scrolled": true,
    "tags": []
   },
   "outputs": [
    {
     "data": {
      "text/plain": [
       "array(['Route 1 Route 1', 'Route 2 Route 2', 'Route 3 Route 3',\n",
       "       'Route 4 Route 4', 'Route 5 Route 5', 'Route 6 Route 6',\n",
       "       'Route 7 Route 7', 'Route 8 Route 8', 'Route 10 Route 10',\n",
       "       'Route 11 Route 11', 'Route 15 Route 15', 'Route 16 Route 16',\n",
       "       'Route 17 Route 17', 'Route 19 Route 19', 'Route 18 Route 18',\n",
       "       'Route 21 Route 21', 'KS Kanan Shuttle', 'TA Trolley A',\n",
       "       'Fixed Route Fixed Route Service', 'Fillmore Fillmore Loop',\n",
       "       'Piru Piru', '1 Route 1', '2 Route 2', 'Trolley Trolley',\n",
       "       '90 90-99 CSU Channel Islands', '97 90-99 CSU Channel Islands',\n",
       "       '50 50 Hwy 101', '55X 55 Conejo Connection', '60 60 - Hwy 126',\n",
       "       '62 60-62 Hwy 126', '70 70-74 East County', '72 East County',\n",
       "       '73 East County', '74X 70-74 East County',\n",
       "       '77 77 Cross County Limited', '80 80-89 Coastal Express',\n",
       "       '80C 80c-Coastal Express', '80X 80-89 Coastal Express',\n",
       "       '81 80-89 Coastal Express', '81B 80-89 Coastal Express',\n",
       "       '84 80-89 Coastal Express', '84U 80-89 Coastal Express',\n",
       "       '85 80-89 Coastal Express', '85C 80-89 Coastal Express',\n",
       "       '86 80-89 Coastal Express', '87 80-89 Coastal Express',\n",
       "       '88 80-89 Coastal Express', '89 80-89 Coastal Express',\n",
       "       'Santa Paula A Santa Paula A Route (Las Piedras Park)',\n",
       "       'Santa Paula B Santa Paula B Route (SP Hospital)',\n",
       "       '99 90-99 CSU Channel Islands', '30 Route 30', '20 Route 20',\n",
       "       '10 Route 10', '40 Route 40 Newbury Park', '41 Route 41 Midtown A',\n",
       "       '42 Route 42 Midtown B', '43 Route 43 TOB Express',\n",
       "       '44 Route 44 Crosstown', 'Route 23 Route 23',\n",
       "       'Fillmore-Moorpark Route Fillmore-Moorpark Route',\n",
       "       'Fillmore-Moorpark Route Fillmore-Moorpark Route Inbound',\n",
       "       '71 70-74 East County', '90 90-C Street/CSUCI',\n",
       "       '97 97-Cam Metrolink/CSUCI', '50 50-Hwy101', '60 60-Hwy126',\n",
       "       '62 62-Hwy126', '70 70-East County', '72 72-East County',\n",
       "       '73 73-East County', '73X 73x-East County',\n",
       "       '77 77-Cross County Limited', '80 80-Coastal Express',\n",
       "       '80X 80x-Coastal Express', '81 81-Coastal Express',\n",
       "       '81B 81B-Coastal Express', '84 84-Coastal Express',\n",
       "       '84U 84u-Coastal Express', '85 85-Coastal Express',\n",
       "       '86 86-Coastal Express', '87 87-Coastal Express',\n",
       "       '88 88-Coastal Express', '89 89-Coastal Express'], dtype=object)"
      ]
     },
     "execution_count": 6,
     "metadata": {},
     "output_type": "execute_result"
    }
   ],
   "source": [
    "route_dir_month_df[\"Route\"].unique()"
   ]
  },
  {
   "cell_type": "markdown",
   "id": "dbb955f1-34e4-43ae-8de4-bf5d0f5a7ce6",
   "metadata": {},
   "source": [
    "### Observation 2: the titles of the two text tables don't change even when the routes are changed. "
   ]
  },
  {
   "cell_type": "code",
   "execution_count": 7,
   "id": "28e5aa9b-ba32-42a2-a5d8-95791882e392",
   "metadata": {
    "tags": []
   },
   "outputs": [
    {
     "data": {
      "text/html": [
       "<div>\n",
       "<style scoped>\n",
       "    .dataframe tbody tr th:only-of-type {\n",
       "        vertical-align: middle;\n",
       "    }\n",
       "\n",
       "    .dataframe tbody tr th {\n",
       "        vertical-align: top;\n",
       "    }\n",
       "\n",
       "    .dataframe thead th {\n",
       "        text-align: right;\n",
       "    }\n",
       "</style>\n",
       "<table border=\"1\" class=\"dataframe\">\n",
       "  <thead>\n",
       "    <tr style=\"text-align: right;\">\n",
       "      <th></th>\n",
       "      <th>Direction (0/1)</th>\n",
       "      <th>Period</th>\n",
       "      <th>Average Scheduled Service (trip minutes)</th>\n",
       "      <th># Scheduled Trips</th>\n",
       "      <th># Realtime Trips</th>\n",
       "      <th>Route</th>\n",
       "      <th>Direction</th>\n",
       "      <th># Minutes with 1+ VP per Minute</th>\n",
       "      <th># Minutes with 2+ VP per Minute</th>\n",
       "      <th># Early Arrival Trips</th>\n",
       "      <th># On-Time Trips</th>\n",
       "      <th># Late Trips</th>\n",
       "      <th>Average VP per Minute</th>\n",
       "      <th>% VP within Scheduled Shape</th>\n",
       "      <th>% Scheduled Trip w/ 1+ VP/Minute</th>\n",
       "      <th>% Scheduled Trip w/ 2+ VP/Minute</th>\n",
       "      <th>Realtime versus Scheduled Service Ratio</th>\n",
       "      <th>Speed (MPH)</th>\n",
       "      <th>Portfolio Organization Name</th>\n",
       "      <th>Headway (Minutes)</th>\n",
       "      <th>GTFS Availability</th>\n",
       "      <th>Average Stop Distance (Miles)</th>\n",
       "      <th>Date</th>\n",
       "    </tr>\n",
       "  </thead>\n",
       "  <tbody>\n",
       "    <tr>\n",
       "      <th>15774</th>\n",
       "      <td>0</td>\n",
       "      <td>All Day</td>\n",
       "      <td>21.00</td>\n",
       "      <td>11</td>\n",
       "      <td>5</td>\n",
       "      <td>Fillmore Fillmore Loop</td>\n",
       "      <td>Northbound</td>\n",
       "      <td>180</td>\n",
       "      <td>172</td>\n",
       "      <td>0</td>\n",
       "      <td>1</td>\n",
       "      <td>4</td>\n",
       "      <td>2.00</td>\n",
       "      <td>100.00</td>\n",
       "      <td>100.00</td>\n",
       "      <td>100.00</td>\n",
       "      <td>2.00</td>\n",
       "      <td>16.00</td>\n",
       "      <td>Ventura County (VCTC, Gold Coast, Cities of Camarillo, Moorpark, Ojai, Simi Valley, Thousand Oaks)</td>\n",
       "      <td>130.00</td>\n",
       "      <td>schedule_and_vp</td>\n",
       "      <td>0.00</td>\n",
       "      <td>2023-06-14</td>\n",
       "    </tr>\n",
       "  </tbody>\n",
       "</table>\n",
       "</div>"
      ],
      "text/plain": [
       "       Direction (0/1)   Period  Average Scheduled Service (trip minutes)  \\\n",
       "15774                0  All Day                                     21.00   \n",
       "\n",
       "       # Scheduled Trips  # Realtime Trips                   Route  \\\n",
       "15774                 11                 5  Fillmore Fillmore Loop   \n",
       "\n",
       "        Direction  # Minutes with 1+ VP per Minute  \\\n",
       "15774  Northbound                              180   \n",
       "\n",
       "       # Minutes with 2+ VP per Minute  # Early Arrival Trips  \\\n",
       "15774                              172                      0   \n",
       "\n",
       "       # On-Time Trips  # Late Trips  Average VP per Minute  \\\n",
       "15774                1             4                   2.00   \n",
       "\n",
       "       % VP within Scheduled Shape  % Scheduled Trip w/ 1+ VP/Minute  \\\n",
       "15774                       100.00                            100.00   \n",
       "\n",
       "       % Scheduled Trip w/ 2+ VP/Minute  \\\n",
       "15774                            100.00   \n",
       "\n",
       "       Realtime versus Scheduled Service Ratio  Speed (MPH)  \\\n",
       "15774                                     2.00        16.00   \n",
       "\n",
       "                                                                              Portfolio Organization Name  \\\n",
       "15774  Ventura County (VCTC, Gold Coast, Cities of Camarillo, Moorpark, Ojai, Simi Valley, Thousand Oaks)   \n",
       "\n",
       "       Headway (Minutes) GTFS Availability  Average Stop Distance (Miles)  \\\n",
       "15774             130.00   schedule_and_vp                           0.00   \n",
       "\n",
       "            Date  \n",
       "15774 2023-06-14  "
      ]
     },
     "execution_count": 7,
     "metadata": {},
     "output_type": "execute_result"
    }
   ],
   "source": [
    "route_dir_month_df.sample(1)"
   ]
  },
  {
   "cell_type": "code",
   "execution_count": 8,
   "id": "1ed9034e-542a-4128-9494-ae1d9aade3b4",
   "metadata": {
    "tags": []
   },
   "outputs": [
    {
     "data": {
      "text/plain": [
       "array(['Southbound', 'Northbound'], dtype=object)"
      ]
     },
     "execution_count": 8,
     "metadata": {},
     "output_type": "execute_result"
    }
   ],
   "source": [
    "route_dir_month_df.loc[route_dir_month_df.Route == \"Route 1 Route 1\"].Direction.unique()"
   ]
  },
  {
   "cell_type": "code",
   "execution_count": 9,
   "id": "33d46958-1fd5-43ee-ae1b-199c8a28ead3",
   "metadata": {
    "tags": []
   },
   "outputs": [
    {
     "data": {
      "text/plain": [
       "array(['Southbound', 'Northbound'], dtype=object)"
      ]
     },
     "execution_count": 9,
     "metadata": {},
     "output_type": "execute_result"
    }
   ],
   "source": [
    "route_dir_month_df.loc[route_dir_month_df.Route == \"Route 8 Route 8\"].Direction.unique()"
   ]
  },
  {
   "cell_type": "markdown",
   "id": "597fd44c-389e-4518-a6a8-8115d982c67f",
   "metadata": {},
   "source": [
    "### Observation #3: Duplicated values somewhere in the pipline?"
   ]
  },
  {
   "cell_type": "code",
   "execution_count": 10,
   "id": "f16adc40-4667-4bd7-ba2a-e85fd885ab7f",
   "metadata": {
    "tags": []
   },
   "outputs": [
    {
     "data": {
      "text/plain": [
       "array(['2023-04-12T00:00:00.000000000', '2023-06-14T00:00:00.000000000',\n",
       "       '2023-07-12T00:00:00.000000000', '2023-08-15T00:00:00.000000000',\n",
       "       '2023-09-13T00:00:00.000000000', '2023-10-11T00:00:00.000000000',\n",
       "       '2023-11-15T00:00:00.000000000', '2023-12-13T00:00:00.000000000',\n",
       "       '2024-01-17T00:00:00.000000000', '2024-02-14T00:00:00.000000000',\n",
       "       '2024-03-13T00:00:00.000000000', '2024-04-17T00:00:00.000000000',\n",
       "       '2024-05-22T00:00:00.000000000', '2024-06-12T00:00:00.000000000',\n",
       "       '2024-07-17T00:00:00.000000000', '2024-08-14T00:00:00.000000000',\n",
       "       '2024-09-18T00:00:00.000000000', '2024-10-16T00:00:00.000000000',\n",
       "       '2024-11-13T00:00:00.000000000', '2024-12-11T00:00:00.000000000',\n",
       "       '2025-01-15T00:00:00.000000000', '2025-02-12T00:00:00.000000000',\n",
       "       '2025-03-12T00:00:00.000000000', '2025-04-16T00:00:00.000000000',\n",
       "       '2025-05-14T00:00:00.000000000', '2023-03-15T00:00:00.000000000'],\n",
       "      dtype='datetime64[ns]')"
      ]
     },
     "execution_count": 10,
     "metadata": {},
     "output_type": "execute_result"
    }
   ],
   "source": [
    "route_dir_month_df.Date.unique()"
   ]
  },
  {
   "cell_type": "code",
   "execution_count": 11,
   "id": "aa0ce2ae-93dc-4975-bf07-061373cc25d6",
   "metadata": {
    "tags": []
   },
   "outputs": [],
   "source": [
    "route_86_coastal = route_dir_month_df.loc[\n",
    "    (route_dir_month_df.Date.isin(['2025-01-15T00:00:00.000000000', '2025-02-12T00:00:00.000000000',\n",
    "       '2025-03-12T00:00:00.000000000']))\n",
    "    & (route_dir_month_df.Route == \"86 80-89 Coastal Express\")\n",
    "]"
   ]
  },
  {
   "cell_type": "code",
   "execution_count": 12,
   "id": "a9467d04-25e4-4a20-9d36-fae7e38750f4",
   "metadata": {
    "tags": []
   },
   "outputs": [
    {
     "data": {
      "text/plain": [
       "84"
      ]
     },
     "execution_count": 12,
     "metadata": {},
     "output_type": "execute_result"
    }
   ],
   "source": [
    "len(route_86_coastal)"
   ]
  },
  {
   "cell_type": "code",
   "execution_count": 13,
   "id": "8d05b6b4-ab30-4387-91f3-eef33ffe957f",
   "metadata": {
    "tags": []
   },
   "outputs": [
    {
     "data": {
      "text/plain": [
       "12"
      ]
     },
     "execution_count": 13,
     "metadata": {},
     "output_type": "execute_result"
    }
   ],
   "source": [
    "len(route_86_coastal.drop_duplicates())"
   ]
  },
  {
   "cell_type": "code",
   "execution_count": 16,
   "id": "962845cc-a0d1-4da8-ad4f-c538fb9a4a84",
   "metadata": {
    "tags": []
   },
   "outputs": [
    {
     "data": {
      "text/plain": [
       "Index(['Direction (0/1)', 'Period', 'Average Scheduled Service (trip minutes)',\n",
       "       '# Scheduled Trips', '# Realtime Trips', 'Route', 'Direction',\n",
       "       '# Minutes with 1+ VP per Minute', '# Minutes with 2+ VP per Minute',\n",
       "       '# Early Arrival Trips', '# On-Time Trips', '# Late Trips',\n",
       "       'Average VP per Minute', '% VP within Scheduled Shape',\n",
       "       '% Scheduled Trip w/ 1+ VP/Minute', '% Scheduled Trip w/ 2+ VP/Minute',\n",
       "       'Realtime versus Scheduled Service Ratio', 'Speed (MPH)',\n",
       "       'Portfolio Organization Name', 'Headway (Minutes)', 'GTFS Availability',\n",
       "       'Average Stop Distance (Miles)', 'Date'],\n",
       "      dtype='object')"
      ]
     },
     "execution_count": 16,
     "metadata": {},
     "output_type": "execute_result"
    }
   ],
   "source": [
    "route_86_coastal.columns"
   ]
  },
  {
   "cell_type": "code",
   "execution_count": 19,
   "id": "3e7b7cfa-bee1-420c-ad6a-7522cf7fddd3",
   "metadata": {
    "tags": []
   },
   "outputs": [
    {
     "data": {
      "text/html": [
       "<div>\n",
       "<style scoped>\n",
       "    .dataframe tbody tr th:only-of-type {\n",
       "        vertical-align: middle;\n",
       "    }\n",
       "\n",
       "    .dataframe tbody tr th {\n",
       "        vertical-align: top;\n",
       "    }\n",
       "\n",
       "    .dataframe thead th {\n",
       "        text-align: right;\n",
       "    }\n",
       "</style>\n",
       "<table border=\"1\" class=\"dataframe\">\n",
       "  <thead>\n",
       "    <tr style=\"text-align: right;\">\n",
       "      <th></th>\n",
       "      <th>30346</th>\n",
       "      <th>30353</th>\n",
       "      <th>30360</th>\n",
       "      <th>30517</th>\n",
       "      <th>30524</th>\n",
       "      <th>30531</th>\n",
       "    </tr>\n",
       "  </thead>\n",
       "  <tbody>\n",
       "    <tr>\n",
       "      <th>Direction (0/1)</th>\n",
       "      <td>0</td>\n",
       "      <td>0</td>\n",
       "      <td>0</td>\n",
       "      <td>0</td>\n",
       "      <td>0</td>\n",
       "      <td>0</td>\n",
       "    </tr>\n",
       "    <tr>\n",
       "      <th>Period</th>\n",
       "      <td>All Day</td>\n",
       "      <td>All Day</td>\n",
       "      <td>All Day</td>\n",
       "      <td>Offpeak</td>\n",
       "      <td>Offpeak</td>\n",
       "      <td>Offpeak</td>\n",
       "    </tr>\n",
       "    <tr>\n",
       "      <th>Average Scheduled Service (trip minutes)</th>\n",
       "      <td>112.00</td>\n",
       "      <td>112.00</td>\n",
       "      <td>112.00</td>\n",
       "      <td>112.00</td>\n",
       "      <td>112.00</td>\n",
       "      <td>112.00</td>\n",
       "    </tr>\n",
       "    <tr>\n",
       "      <th># Scheduled Trips</th>\n",
       "      <td>2</td>\n",
       "      <td>2</td>\n",
       "      <td>2</td>\n",
       "      <td>2</td>\n",
       "      <td>2</td>\n",
       "      <td>2</td>\n",
       "    </tr>\n",
       "    <tr>\n",
       "      <th># Realtime Trips</th>\n",
       "      <td>2</td>\n",
       "      <td>2</td>\n",
       "      <td>2</td>\n",
       "      <td>2</td>\n",
       "      <td>2</td>\n",
       "      <td>2</td>\n",
       "    </tr>\n",
       "    <tr>\n",
       "      <th>Route</th>\n",
       "      <td>86 80-89 Coastal Express</td>\n",
       "      <td>86 80-89 Coastal Express</td>\n",
       "      <td>86 80-89 Coastal Express</td>\n",
       "      <td>86 80-89 Coastal Express</td>\n",
       "      <td>86 80-89 Coastal Express</td>\n",
       "      <td>86 80-89 Coastal Express</td>\n",
       "    </tr>\n",
       "    <tr>\n",
       "      <th>Direction</th>\n",
       "      <td>Westbound</td>\n",
       "      <td>Westbound</td>\n",
       "      <td>Westbound</td>\n",
       "      <td>Westbound</td>\n",
       "      <td>Westbound</td>\n",
       "      <td>Westbound</td>\n",
       "    </tr>\n",
       "    <tr>\n",
       "      <th># Minutes with 1+ VP per Minute</th>\n",
       "      <td>201</td>\n",
       "      <td>201</td>\n",
       "      <td>121</td>\n",
       "      <td>201</td>\n",
       "      <td>201</td>\n",
       "      <td>121</td>\n",
       "    </tr>\n",
       "    <tr>\n",
       "      <th># Minutes with 2+ VP per Minute</th>\n",
       "      <td>196</td>\n",
       "      <td>200</td>\n",
       "      <td>117</td>\n",
       "      <td>196</td>\n",
       "      <td>200</td>\n",
       "      <td>117</td>\n",
       "    </tr>\n",
       "    <tr>\n",
       "      <th># Early Arrival Trips</th>\n",
       "      <td>1</td>\n",
       "      <td>1</td>\n",
       "      <td>1</td>\n",
       "      <td>1</td>\n",
       "      <td>1</td>\n",
       "      <td>1</td>\n",
       "    </tr>\n",
       "    <tr>\n",
       "      <th># On-Time Trips</th>\n",
       "      <td>0</td>\n",
       "      <td>0</td>\n",
       "      <td>0</td>\n",
       "      <td>0</td>\n",
       "      <td>0</td>\n",
       "      <td>0</td>\n",
       "    </tr>\n",
       "    <tr>\n",
       "      <th># Late Trips</th>\n",
       "      <td>1</td>\n",
       "      <td>1</td>\n",
       "      <td>1</td>\n",
       "      <td>1</td>\n",
       "      <td>1</td>\n",
       "      <td>1</td>\n",
       "    </tr>\n",
       "    <tr>\n",
       "      <th>Average VP per Minute</th>\n",
       "      <td>1.00</td>\n",
       "      <td>1.00</td>\n",
       "      <td>2.00</td>\n",
       "      <td>1.00</td>\n",
       "      <td>1.00</td>\n",
       "      <td>2.00</td>\n",
       "    </tr>\n",
       "    <tr>\n",
       "      <th>% VP within Scheduled Shape</th>\n",
       "      <td>0.00</td>\n",
       "      <td>0.00</td>\n",
       "      <td>100.00</td>\n",
       "      <td>0.00</td>\n",
       "      <td>0.00</td>\n",
       "      <td>100.00</td>\n",
       "    </tr>\n",
       "    <tr>\n",
       "      <th>% Scheduled Trip w/ 1+ VP/Minute</th>\n",
       "      <td>100.00</td>\n",
       "      <td>100.00</td>\n",
       "      <td>100.00</td>\n",
       "      <td>100.00</td>\n",
       "      <td>100.00</td>\n",
       "      <td>100.00</td>\n",
       "    </tr>\n",
       "    <tr>\n",
       "      <th>% Scheduled Trip w/ 2+ VP/Minute</th>\n",
       "      <td>100.00</td>\n",
       "      <td>100.00</td>\n",
       "      <td>100.00</td>\n",
       "      <td>100.00</td>\n",
       "      <td>100.00</td>\n",
       "      <td>100.00</td>\n",
       "    </tr>\n",
       "    <tr>\n",
       "      <th>Realtime versus Scheduled Service Ratio</th>\n",
       "      <td>3.00</td>\n",
       "      <td>3.00</td>\n",
       "      <td>1.00</td>\n",
       "      <td>3.00</td>\n",
       "      <td>3.00</td>\n",
       "      <td>1.00</td>\n",
       "    </tr>\n",
       "    <tr>\n",
       "      <th>Speed (MPH)</th>\n",
       "      <td>42.00</td>\n",
       "      <td>40.00</td>\n",
       "      <td>38.00</td>\n",
       "      <td>42.00</td>\n",
       "      <td>40.00</td>\n",
       "      <td>38.00</td>\n",
       "    </tr>\n",
       "    <tr>\n",
       "      <th>Portfolio Organization Name</th>\n",
       "      <td>Ventura County (VCTC, Gold Coast, Cities of Camarillo, Moorpark, Ojai, Simi Valley, Thousand Oaks)</td>\n",
       "      <td>Ventura County (VCTC, Gold Coast, Cities of Camarillo, Moorpark, Ojai, Simi Valley, Thousand Oaks)</td>\n",
       "      <td>Ventura County (VCTC, Gold Coast, Cities of Camarillo, Moorpark, Ojai, Simi Valley, Thousand Oaks)</td>\n",
       "      <td>Ventura County (VCTC, Gold Coast, Cities of Camarillo, Moorpark, Ojai, Simi Valley, Thousand Oaks)</td>\n",
       "      <td>Ventura County (VCTC, Gold Coast, Cities of Camarillo, Moorpark, Ojai, Simi Valley, Thousand Oaks)</td>\n",
       "      <td>Ventura County (VCTC, Gold Coast, Cities of Camarillo, Moorpark, Ojai, Simi Valley, Thousand Oaks)</td>\n",
       "    </tr>\n",
       "    <tr>\n",
       "      <th>Headway (Minutes)</th>\n",
       "      <td>750.00</td>\n",
       "      <td>750.00</td>\n",
       "      <td>750.00</td>\n",
       "      <td>500.00</td>\n",
       "      <td>500.00</td>\n",
       "      <td>500.00</td>\n",
       "    </tr>\n",
       "    <tr>\n",
       "      <th>GTFS Availability</th>\n",
       "      <td>schedule_and_vp</td>\n",
       "      <td>schedule_and_vp</td>\n",
       "      <td>schedule_and_vp</td>\n",
       "      <td>schedule_and_vp</td>\n",
       "      <td>schedule_and_vp</td>\n",
       "      <td>schedule_and_vp</td>\n",
       "    </tr>\n",
       "    <tr>\n",
       "      <th>Average Stop Distance (Miles)</th>\n",
       "      <td>3.00</td>\n",
       "      <td>57.00</td>\n",
       "      <td>57.00</td>\n",
       "      <td>3.00</td>\n",
       "      <td>57.00</td>\n",
       "      <td>57.00</td>\n",
       "    </tr>\n",
       "    <tr>\n",
       "      <th>Date</th>\n",
       "      <td>2025-01-15 00:00:00</td>\n",
       "      <td>2025-02-12 00:00:00</td>\n",
       "      <td>2025-03-12 00:00:00</td>\n",
       "      <td>2025-01-15 00:00:00</td>\n",
       "      <td>2025-02-12 00:00:00</td>\n",
       "      <td>2025-03-12 00:00:00</td>\n",
       "    </tr>\n",
       "  </tbody>\n",
       "</table>\n",
       "</div>"
      ],
      "text/plain": [
       "                                                                                                                                       30346  \\\n",
       "Direction (0/1)                                                                                                                            0   \n",
       "Period                                                                                                                               All Day   \n",
       "Average Scheduled Service (trip minutes)                                                                                              112.00   \n",
       "# Scheduled Trips                                                                                                                          2   \n",
       "# Realtime Trips                                                                                                                           2   \n",
       "Route                                                                                                               86 80-89 Coastal Express   \n",
       "Direction                                                                                                                          Westbound   \n",
       "# Minutes with 1+ VP per Minute                                                                                                          201   \n",
       "# Minutes with 2+ VP per Minute                                                                                                          196   \n",
       "# Early Arrival Trips                                                                                                                      1   \n",
       "# On-Time Trips                                                                                                                            0   \n",
       "# Late Trips                                                                                                                               1   \n",
       "Average VP per Minute                                                                                                                   1.00   \n",
       "% VP within Scheduled Shape                                                                                                             0.00   \n",
       "% Scheduled Trip w/ 1+ VP/Minute                                                                                                      100.00   \n",
       "% Scheduled Trip w/ 2+ VP/Minute                                                                                                      100.00   \n",
       "Realtime versus Scheduled Service Ratio                                                                                                 3.00   \n",
       "Speed (MPH)                                                                                                                            42.00   \n",
       "Portfolio Organization Name               Ventura County (VCTC, Gold Coast, Cities of Camarillo, Moorpark, Ojai, Simi Valley, Thousand Oaks)   \n",
       "Headway (Minutes)                                                                                                                     750.00   \n",
       "GTFS Availability                                                                                                            schedule_and_vp   \n",
       "Average Stop Distance (Miles)                                                                                                           3.00   \n",
       "Date                                                                                                                     2025-01-15 00:00:00   \n",
       "\n",
       "                                                                                                                                       30353  \\\n",
       "Direction (0/1)                                                                                                                            0   \n",
       "Period                                                                                                                               All Day   \n",
       "Average Scheduled Service (trip minutes)                                                                                              112.00   \n",
       "# Scheduled Trips                                                                                                                          2   \n",
       "# Realtime Trips                                                                                                                           2   \n",
       "Route                                                                                                               86 80-89 Coastal Express   \n",
       "Direction                                                                                                                          Westbound   \n",
       "# Minutes with 1+ VP per Minute                                                                                                          201   \n",
       "# Minutes with 2+ VP per Minute                                                                                                          200   \n",
       "# Early Arrival Trips                                                                                                                      1   \n",
       "# On-Time Trips                                                                                                                            0   \n",
       "# Late Trips                                                                                                                               1   \n",
       "Average VP per Minute                                                                                                                   1.00   \n",
       "% VP within Scheduled Shape                                                                                                             0.00   \n",
       "% Scheduled Trip w/ 1+ VP/Minute                                                                                                      100.00   \n",
       "% Scheduled Trip w/ 2+ VP/Minute                                                                                                      100.00   \n",
       "Realtime versus Scheduled Service Ratio                                                                                                 3.00   \n",
       "Speed (MPH)                                                                                                                            40.00   \n",
       "Portfolio Organization Name               Ventura County (VCTC, Gold Coast, Cities of Camarillo, Moorpark, Ojai, Simi Valley, Thousand Oaks)   \n",
       "Headway (Minutes)                                                                                                                     750.00   \n",
       "GTFS Availability                                                                                                            schedule_and_vp   \n",
       "Average Stop Distance (Miles)                                                                                                          57.00   \n",
       "Date                                                                                                                     2025-02-12 00:00:00   \n",
       "\n",
       "                                                                                                                                       30360  \\\n",
       "Direction (0/1)                                                                                                                            0   \n",
       "Period                                                                                                                               All Day   \n",
       "Average Scheduled Service (trip minutes)                                                                                              112.00   \n",
       "# Scheduled Trips                                                                                                                          2   \n",
       "# Realtime Trips                                                                                                                           2   \n",
       "Route                                                                                                               86 80-89 Coastal Express   \n",
       "Direction                                                                                                                          Westbound   \n",
       "# Minutes with 1+ VP per Minute                                                                                                          121   \n",
       "# Minutes with 2+ VP per Minute                                                                                                          117   \n",
       "# Early Arrival Trips                                                                                                                      1   \n",
       "# On-Time Trips                                                                                                                            0   \n",
       "# Late Trips                                                                                                                               1   \n",
       "Average VP per Minute                                                                                                                   2.00   \n",
       "% VP within Scheduled Shape                                                                                                           100.00   \n",
       "% Scheduled Trip w/ 1+ VP/Minute                                                                                                      100.00   \n",
       "% Scheduled Trip w/ 2+ VP/Minute                                                                                                      100.00   \n",
       "Realtime versus Scheduled Service Ratio                                                                                                 1.00   \n",
       "Speed (MPH)                                                                                                                            38.00   \n",
       "Portfolio Organization Name               Ventura County (VCTC, Gold Coast, Cities of Camarillo, Moorpark, Ojai, Simi Valley, Thousand Oaks)   \n",
       "Headway (Minutes)                                                                                                                     750.00   \n",
       "GTFS Availability                                                                                                            schedule_and_vp   \n",
       "Average Stop Distance (Miles)                                                                                                          57.00   \n",
       "Date                                                                                                                     2025-03-12 00:00:00   \n",
       "\n",
       "                                                                                                                                       30517  \\\n",
       "Direction (0/1)                                                                                                                            0   \n",
       "Period                                                                                                                               Offpeak   \n",
       "Average Scheduled Service (trip minutes)                                                                                              112.00   \n",
       "# Scheduled Trips                                                                                                                          2   \n",
       "# Realtime Trips                                                                                                                           2   \n",
       "Route                                                                                                               86 80-89 Coastal Express   \n",
       "Direction                                                                                                                          Westbound   \n",
       "# Minutes with 1+ VP per Minute                                                                                                          201   \n",
       "# Minutes with 2+ VP per Minute                                                                                                          196   \n",
       "# Early Arrival Trips                                                                                                                      1   \n",
       "# On-Time Trips                                                                                                                            0   \n",
       "# Late Trips                                                                                                                               1   \n",
       "Average VP per Minute                                                                                                                   1.00   \n",
       "% VP within Scheduled Shape                                                                                                             0.00   \n",
       "% Scheduled Trip w/ 1+ VP/Minute                                                                                                      100.00   \n",
       "% Scheduled Trip w/ 2+ VP/Minute                                                                                                      100.00   \n",
       "Realtime versus Scheduled Service Ratio                                                                                                 3.00   \n",
       "Speed (MPH)                                                                                                                            42.00   \n",
       "Portfolio Organization Name               Ventura County (VCTC, Gold Coast, Cities of Camarillo, Moorpark, Ojai, Simi Valley, Thousand Oaks)   \n",
       "Headway (Minutes)                                                                                                                     500.00   \n",
       "GTFS Availability                                                                                                            schedule_and_vp   \n",
       "Average Stop Distance (Miles)                                                                                                           3.00   \n",
       "Date                                                                                                                     2025-01-15 00:00:00   \n",
       "\n",
       "                                                                                                                                       30524  \\\n",
       "Direction (0/1)                                                                                                                            0   \n",
       "Period                                                                                                                               Offpeak   \n",
       "Average Scheduled Service (trip minutes)                                                                                              112.00   \n",
       "# Scheduled Trips                                                                                                                          2   \n",
       "# Realtime Trips                                                                                                                           2   \n",
       "Route                                                                                                               86 80-89 Coastal Express   \n",
       "Direction                                                                                                                          Westbound   \n",
       "# Minutes with 1+ VP per Minute                                                                                                          201   \n",
       "# Minutes with 2+ VP per Minute                                                                                                          200   \n",
       "# Early Arrival Trips                                                                                                                      1   \n",
       "# On-Time Trips                                                                                                                            0   \n",
       "# Late Trips                                                                                                                               1   \n",
       "Average VP per Minute                                                                                                                   1.00   \n",
       "% VP within Scheduled Shape                                                                                                             0.00   \n",
       "% Scheduled Trip w/ 1+ VP/Minute                                                                                                      100.00   \n",
       "% Scheduled Trip w/ 2+ VP/Minute                                                                                                      100.00   \n",
       "Realtime versus Scheduled Service Ratio                                                                                                 3.00   \n",
       "Speed (MPH)                                                                                                                            40.00   \n",
       "Portfolio Organization Name               Ventura County (VCTC, Gold Coast, Cities of Camarillo, Moorpark, Ojai, Simi Valley, Thousand Oaks)   \n",
       "Headway (Minutes)                                                                                                                     500.00   \n",
       "GTFS Availability                                                                                                            schedule_and_vp   \n",
       "Average Stop Distance (Miles)                                                                                                          57.00   \n",
       "Date                                                                                                                     2025-02-12 00:00:00   \n",
       "\n",
       "                                                                                                                                       30531  \n",
       "Direction (0/1)                                                                                                                            0  \n",
       "Period                                                                                                                               Offpeak  \n",
       "Average Scheduled Service (trip minutes)                                                                                              112.00  \n",
       "# Scheduled Trips                                                                                                                          2  \n",
       "# Realtime Trips                                                                                                                           2  \n",
       "Route                                                                                                               86 80-89 Coastal Express  \n",
       "Direction                                                                                                                          Westbound  \n",
       "# Minutes with 1+ VP per Minute                                                                                                          121  \n",
       "# Minutes with 2+ VP per Minute                                                                                                          117  \n",
       "# Early Arrival Trips                                                                                                                      1  \n",
       "# On-Time Trips                                                                                                                            0  \n",
       "# Late Trips                                                                                                                               1  \n",
       "Average VP per Minute                                                                                                                   2.00  \n",
       "% VP within Scheduled Shape                                                                                                           100.00  \n",
       "% Scheduled Trip w/ 1+ VP/Minute                                                                                                      100.00  \n",
       "% Scheduled Trip w/ 2+ VP/Minute                                                                                                      100.00  \n",
       "Realtime versus Scheduled Service Ratio                                                                                                 1.00  \n",
       "Speed (MPH)                                                                                                                            38.00  \n",
       "Portfolio Organization Name               Ventura County (VCTC, Gold Coast, Cities of Camarillo, Moorpark, Ojai, Simi Valley, Thousand Oaks)  \n",
       "Headway (Minutes)                                                                                                                     500.00  \n",
       "GTFS Availability                                                                                                            schedule_and_vp  \n",
       "Average Stop Distance (Miles)                                                                                                          57.00  \n",
       "Date                                                                                                                     2025-03-12 00:00:00  "
      ]
     },
     "execution_count": 19,
     "metadata": {},
     "output_type": "execute_result"
    }
   ],
   "source": [
    "route_86_coastal.loc[route_86_coastal['Direction (0/1)'] == 0].drop_duplicates().T"
   ]
  },
  {
   "cell_type": "code",
   "execution_count": null,
   "id": "2680fb4b-ac87-4603-bc56-82cc7852b5bf",
   "metadata": {
    "tags": []
   },
   "outputs": [],
   "source": [
    "ROUTE_DIR_QTR_EXPORT = GTFS_DATA_DICT.digest_tables.quarterly_route_schedule_vp_report"
   ]
  },
  {
   "cell_type": "code",
   "execution_count": null,
   "id": "1dbed443-2e03-49ca-8624-586602195bbf",
   "metadata": {
    "tags": []
   },
   "outputs": [],
   "source": [
    "route_dir_qtr_df = pd.read_parquet(\n",
    "        f\"{RT_SCHED_GCS}{ROUTE_DIR_QTR_EXPORT}.parquet\"\n",
    "    )"
   ]
  },
  {
   "cell_type": "code",
   "execution_count": null,
   "id": "0843f4ba-6b84-4eca-a39d-90f12c88dded",
   "metadata": {
    "tags": []
   },
   "outputs": [],
   "source": [
    "route_dir_qtr_df.columns"
   ]
  },
  {
   "cell_type": "code",
   "execution_count": null,
   "id": "77e4d1c1-59be-4518-89c6-5c0d246c40bb",
   "metadata": {
    "tags": []
   },
   "outputs": [],
   "source": [
    "route_dir_qtr_df.loc[\n",
    "    (route_dir_qtr_df.Route == \"86 80-89 Coastal Express\") & (route_dir_qtr_df.Quarter == \"2025 Q1\")\n",
    "].shape"
   ]
  }
 ],
 "metadata": {
  "kernelspec": {
   "display_name": "Python 3 (ipykernel)",
   "language": "python",
   "name": "python3"
  },
  "language_info": {
   "codemirror_mode": {
    "name": "ipython",
    "version": 3
   },
   "file_extension": ".py",
   "mimetype": "text/x-python",
   "name": "python",
   "nbconvert_exporter": "python",
   "pygments_lexer": "ipython3",
   "version": "3.11.10"
  }
 },
 "nbformat": 4,
 "nbformat_minor": 5
}
