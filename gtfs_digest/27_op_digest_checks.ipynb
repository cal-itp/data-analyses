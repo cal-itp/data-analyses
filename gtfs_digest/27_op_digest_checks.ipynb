{
 "cells": [
  {
   "cell_type": "markdown",
   "id": "fe58e765-0891-4b70-a2ed-bb3a0d2b5d1d",
   "metadata": {},
   "source": [
    "## `operator_report` work"
   ]
  },
  {
   "cell_type": "code",
   "execution_count": 1,
   "id": "e1861f46-194e-4a36-ba75-98ca8d4aee20",
   "metadata": {
    "tags": []
   },
   "outputs": [],
   "source": [
    "import altair as alt\n",
    "import calitp_data_analysis.magics\n",
    "import geopandas as gpd\n",
    "import google.auth\n",
    "import merge_data\n",
    "import pandas as pd\n",
    "from IPython.display import HTML, Image, Markdown, display, display_html\n",
    "from omegaconf import OmegaConf\n",
    "from shared_utils import portfolio_utils, publish_utils, rt_dates\n",
    "from update_vars import GTFS_DATA_DICT, RT_SCHED_GCS, SCHED_GCS, SEGMENT_GCS\n",
    "\n",
    "readable_dict = OmegaConf.load(\"readable2.yml\")\n",
    "credentials, project = google.auth.default()\n",
    "\n",
    "import _report_operator_visuals\n",
    "import _report_route_dir_visuals\n",
    "import _scheduled_service_hour_visuals"
   ]
  },
  {
   "cell_type": "code",
   "execution_count": 2,
   "id": "b8bbe0c9-2cb1-4fd5-b7cb-74b05ae81267",
   "metadata": {
    "tags": []
   },
   "outputs": [],
   "source": [
    "pd.options.display.max_columns = 100\n",
    "pd.options.display.float_format = \"{:.2f}\".format\n",
    "pd.set_option(\"display.max_rows\", None)\n",
    "pd.set_option(\"display.max_colwidth\", None)\n",
    "\n",
    "\n",
    "def formatted(number):\n",
    "    return \"{:,}\".format(number)"
   ]
  },
  {
   "cell_type": "code",
   "execution_count": 3,
   "id": "1bc83d30-6e87-4bbb-bbe2-e98e605e251b",
   "metadata": {
    "tags": []
   },
   "outputs": [],
   "source": [
    "portfolio_name = \"Ventura County (VCTC, Gold Coast, Cities of Camarillo, Moorpark, Ojai, Simi Valley, Thousand Oaks)\""
   ]
  },
  {
   "cell_type": "code",
   "execution_count": 21,
   "id": "bf8fb707-aa74-4705-8baa-2419dd627411",
   "metadata": {
    "tags": []
   },
   "outputs": [],
   "source": [
    "ROUTE_DIR_MONTH_FILE = GTFS_DATA_DICT.digest_tables.monthly_route_schedule_vp_report\n",
    "# ROUTE_DIR_MONTH_FILE = GTFS_DATA_DICT.digest_tables.monthly_route_schedule_vp \n",
    "OPERATOR_PROFILES = GTFS_DATA_DICT.digest_tables.operator_profiles_report\n",
    "OPERATOR_ROUTE_MAP = GTFS_DATA_DICT.digest_tables.operator_routes_map_report\n",
    "SCHEDULED_SERVICES = f\"{GTFS_DATA_DICT.digest_tables.scheduled_service_hours}_report\"\n",
    "ROUTE_DIR_QTR_FILE = \"digest/quarterly_schedule_vp_metrics_report\"\n",
    "\n",
    "route_dir_month_df = pd.read_parquet(\n",
    "    f\"{RT_SCHED_GCS}{ROUTE_DIR_MONTH_FILE}.parquet\",\n",
    "    filters=[[(\"Portfolio Organization Name\", \"==\", portfolio_name)]],\n",
    ")\n",
    "\"\"\" \n",
    "route_dir_month_df = pd.read_parquet(\n",
    "    f\"{RT_SCHED_GCS}{ROUTE_DIR_MONTH_FILE}.parquet\",\n",
    "    filters=[[(\"portfolio_organization_name\", \"==\", portfolio_name)]],\n",
    ")\n",
    "\"\"\"\n",
    "route_dir_qtr_df = pd.read_parquet(\n",
    "    f\"{RT_SCHED_GCS}{ROUTE_DIR_QTR_FILE}.parquet\",\n",
    "    filters=[[(\"Portfolio Organization Name\", \"==\", portfolio_name)]],\n",
    ")\n",
    "\n",
    "route_df = gpd.read_parquet(\n",
    "    f\"{RT_SCHED_GCS}{OPERATOR_ROUTE_MAP}.parquet\",\n",
    "    filters=[[(\"portfolio_organization_name\", \"==\", portfolio_name)]],\n",
    "    storage_options={\"token\": credentials.token},\n",
    ")\n",
    "\n",
    "profile_df = pd.read_parquet(\n",
    "    f\"{RT_SCHED_GCS}{OPERATOR_PROFILES}.parquet\",\n",
    "    filters=[[(\"portfolio_organization_name\", \"==\", portfolio_name)]],\n",
    ")"
   ]
  },
  {
   "cell_type": "code",
   "execution_count": 5,
   "id": "6ad75a67-4dfe-4e1d-849f-517fc62ab346",
   "metadata": {
    "tags": []
   },
   "outputs": [
    {
     "data": {
      "text/plain": [
       "(2113, 23)"
      ]
     },
     "execution_count": 5,
     "metadata": {},
     "output_type": "execute_result"
    }
   ],
   "source": [
    "route_dir_qtr_df.shape"
   ]
  },
  {
   "cell_type": "markdown",
   "id": "2b0923e4-a5f1-4178-9983-9d24e3f619fc",
   "metadata": {},
   "source": [
    "### Observation 1: Route Names are a repeated after removing them from `rt_segment_speeds/segment_speed_utils/time_series_utils` for VCTC\n",
    "* If I can find an easy way to delete out the exact 2 strings, then I can do it.\n",
    "* Otherwise, it's ok to leave it like this because this is a trade off between grouping names vs combining them. \n",
    "* Test just for one route for VCTC and see where the number of rows increases. \n",
    "* "
   ]
  },
  {
   "cell_type": "code",
   "execution_count": 6,
   "id": "7ab4af9a-b31b-4263-a432-4df2f45ab34b",
   "metadata": {
    "scrolled": true,
    "tags": []
   },
   "outputs": [],
   "source": [
    "# route_dir_month_df[\"Route\"].unique()"
   ]
  },
  {
   "cell_type": "markdown",
   "id": "dbb955f1-34e4-43ae-8de4-bf5d0f5a7ce6",
   "metadata": {},
   "source": [
    "### Observation 2: the titles of the two text tables don't change even when the routes are changed. "
   ]
  },
  {
   "cell_type": "code",
   "execution_count": 7,
   "id": "28e5aa9b-ba32-42a2-a5d8-95791882e392",
   "metadata": {
    "tags": []
   },
   "outputs": [
    {
     "data": {
      "text/html": [
       "<div>\n",
       "<style scoped>\n",
       "    .dataframe tbody tr th:only-of-type {\n",
       "        vertical-align: middle;\n",
       "    }\n",
       "\n",
       "    .dataframe tbody tr th {\n",
       "        vertical-align: top;\n",
       "    }\n",
       "\n",
       "    .dataframe thead th {\n",
       "        text-align: right;\n",
       "    }\n",
       "</style>\n",
       "<table border=\"1\" class=\"dataframe\">\n",
       "  <thead>\n",
       "    <tr style=\"text-align: right;\">\n",
       "      <th></th>\n",
       "      <th>Direction (0/1)</th>\n",
       "      <th>Period</th>\n",
       "      <th>Average Scheduled Service (trip minutes)</th>\n",
       "      <th># Scheduled Trips</th>\n",
       "      <th># Realtime Trips</th>\n",
       "      <th>Route</th>\n",
       "      <th>Direction</th>\n",
       "      <th># Minutes with 1+ VP per Minute</th>\n",
       "      <th># Minutes with 2+ VP per Minute</th>\n",
       "      <th># Early Arrival Trips</th>\n",
       "      <th># On-Time Trips</th>\n",
       "      <th># Late Trips</th>\n",
       "      <th>Average VP per Minute</th>\n",
       "      <th>% VP within Scheduled Shape</th>\n",
       "      <th>% Scheduled Trip w/ 1+ VP/Minute</th>\n",
       "      <th>% Scheduled Trip w/ 2+ VP/Minute</th>\n",
       "      <th>Realtime versus Scheduled Service Ratio</th>\n",
       "      <th>Speed (MPH)</th>\n",
       "      <th>Portfolio Organization Name</th>\n",
       "      <th>Headway (Minutes)</th>\n",
       "      <th>GTFS Availability</th>\n",
       "      <th>Average Stop Distance (Miles)</th>\n",
       "      <th>Date</th>\n",
       "    </tr>\n",
       "  </thead>\n",
       "  <tbody>\n",
       "    <tr>\n",
       "      <th>2933</th>\n",
       "      <td>1</td>\n",
       "      <td>Offpeak</td>\n",
       "      <td>119.00</td>\n",
       "      <td>2</td>\n",
       "      <td>2</td>\n",
       "      <td>55X 55 Conejo Connection</td>\n",
       "      <td>Eastbound</td>\n",
       "      <td>153</td>\n",
       "      <td>152</td>\n",
       "      <td>1</td>\n",
       "      <td>0</td>\n",
       "      <td>1</td>\n",
       "      <td>3.00</td>\n",
       "      <td>100.00</td>\n",
       "      <td>100.00</td>\n",
       "      <td>100.00</td>\n",
       "      <td>1.00</td>\n",
       "      <td>30.00</td>\n",
       "      <td>Ventura County (VCTC, Gold Coast, Cities of Camarillo, Moorpark, Ojai, Simi Valley, Thousand Oaks)</td>\n",
       "      <td>500.00</td>\n",
       "      <td>schedule_and_vp</td>\n",
       "      <td>4.00</td>\n",
       "      <td>2024-02-14</td>\n",
       "    </tr>\n",
       "  </tbody>\n",
       "</table>\n",
       "</div>"
      ],
      "text/plain": [
       "      Direction (0/1)   Period  Average Scheduled Service (trip minutes)  \\\n",
       "2933                1  Offpeak                                    119.00   \n",
       "\n",
       "      # Scheduled Trips  # Realtime Trips                     Route  \\\n",
       "2933                  2                 2  55X 55 Conejo Connection   \n",
       "\n",
       "      Direction  # Minutes with 1+ VP per Minute  \\\n",
       "2933  Eastbound                              153   \n",
       "\n",
       "      # Minutes with 2+ VP per Minute  # Early Arrival Trips  # On-Time Trips  \\\n",
       "2933                              152                      1                0   \n",
       "\n",
       "      # Late Trips  Average VP per Minute  % VP within Scheduled Shape  \\\n",
       "2933             1                   3.00                       100.00   \n",
       "\n",
       "      % Scheduled Trip w/ 1+ VP/Minute  % Scheduled Trip w/ 2+ VP/Minute  \\\n",
       "2933                            100.00                            100.00   \n",
       "\n",
       "      Realtime versus Scheduled Service Ratio  Speed (MPH)  \\\n",
       "2933                                     1.00        30.00   \n",
       "\n",
       "                                                                             Portfolio Organization Name  \\\n",
       "2933  Ventura County (VCTC, Gold Coast, Cities of Camarillo, Moorpark, Ojai, Simi Valley, Thousand Oaks)   \n",
       "\n",
       "      Headway (Minutes) GTFS Availability  Average Stop Distance (Miles)  \\\n",
       "2933             500.00   schedule_and_vp                           4.00   \n",
       "\n",
       "           Date  \n",
       "2933 2024-02-14  "
      ]
     },
     "execution_count": 7,
     "metadata": {},
     "output_type": "execute_result"
    }
   ],
   "source": [
    "route_dir_month_df.sample(1)"
   ]
  },
  {
   "cell_type": "code",
   "execution_count": 8,
   "id": "1ed9034e-542a-4128-9494-ae1d9aade3b4",
   "metadata": {
    "tags": []
   },
   "outputs": [
    {
     "data": {
      "text/plain": [
       "array(['Southbound', 'Northbound'], dtype=object)"
      ]
     },
     "execution_count": 8,
     "metadata": {},
     "output_type": "execute_result"
    }
   ],
   "source": [
    "route_dir_month_df.loc[route_dir_month_df.Route == \"Route 1 Route 1\"].Direction.unique()"
   ]
  },
  {
   "cell_type": "code",
   "execution_count": 9,
   "id": "33d46958-1fd5-43ee-ae1b-199c8a28ead3",
   "metadata": {
    "tags": []
   },
   "outputs": [
    {
     "data": {
      "text/plain": [
       "array(['Southbound', 'Northbound'], dtype=object)"
      ]
     },
     "execution_count": 9,
     "metadata": {},
     "output_type": "execute_result"
    }
   ],
   "source": [
    "route_dir_month_df.loc[route_dir_month_df.Route == \"Route 8 Route 8\"].Direction.unique()"
   ]
  },
  {
   "cell_type": "markdown",
   "id": "597fd44c-389e-4518-a6a8-8115d982c67f",
   "metadata": {},
   "source": [
    "### Observation #3: Duplicated values somewhere in the pipline?\n",
    "* Coming from one of the merges. \n",
    "* Go back to `merge_data` and breakout where it is.\n",
    "* This looks "
   ]
  },
  {
   "cell_type": "code",
   "execution_count": 10,
   "id": "aa0ce2ae-93dc-4975-bf07-061373cc25d6",
   "metadata": {
    "tags": []
   },
   "outputs": [],
   "source": [
    "route_86_coastal = route_dir_month_df.loc[\n",
    "    (\n",
    "        route_dir_month_df.Date.isin(\n",
    "            [\n",
    "                \"2025-01-15T00:00:00.000000000\",\n",
    "                \"2025-02-12T00:00:00.000000000\",\n",
    "                \"2025-03-12T00:00:00.000000000\",\n",
    "            ]\n",
    "        )\n",
    "    )\n",
    "    & (route_dir_month_df.Route == \"86 80-89 Coastal Express\")\n",
    "]"
   ]
  },
  {
   "cell_type": "code",
   "execution_count": 11,
   "id": "5a76e0b5-3f7d-493d-b3b2-0c084da490dd",
   "metadata": {
    "tags": []
   },
   "outputs": [
    {
     "data": {
      "text/plain": [
       "Index(['Direction (0/1)', 'Period', 'Average Scheduled Service (trip minutes)',\n",
       "       '# Scheduled Trips', '# Realtime Trips', 'Route', 'Direction',\n",
       "       '# Minutes with 1+ VP per Minute', '# Minutes with 2+ VP per Minute',\n",
       "       '# Early Arrival Trips', '# On-Time Trips', '# Late Trips',\n",
       "       'Average VP per Minute', '% VP within Scheduled Shape',\n",
       "       '% Scheduled Trip w/ 1+ VP/Minute', '% Scheduled Trip w/ 2+ VP/Minute',\n",
       "       'Realtime versus Scheduled Service Ratio', 'Speed (MPH)',\n",
       "       'Portfolio Organization Name', 'Headway (Minutes)', 'GTFS Availability',\n",
       "       'Average Stop Distance (Miles)', 'Date'],\n",
       "      dtype='object')"
      ]
     },
     "execution_count": 11,
     "metadata": {},
     "output_type": "execute_result"
    }
   ],
   "source": [
    "route_86_coastal.columns"
   ]
  },
  {
   "cell_type": "code",
   "execution_count": 12,
   "id": "d721dedf-688a-4d78-822e-a8077efa6f8d",
   "metadata": {
    "tags": []
   },
   "outputs": [
    {
     "data": {
      "text/html": [
       "<div>\n",
       "<style scoped>\n",
       "    .dataframe tbody tr th:only-of-type {\n",
       "        vertical-align: middle;\n",
       "    }\n",
       "\n",
       "    .dataframe tbody tr th {\n",
       "        vertical-align: top;\n",
       "    }\n",
       "\n",
       "    .dataframe thead th {\n",
       "        text-align: right;\n",
       "    }\n",
       "</style>\n",
       "<table border=\"1\" class=\"dataframe\">\n",
       "  <thead>\n",
       "    <tr style=\"text-align: right;\">\n",
       "      <th></th>\n",
       "      <th>Direction (0/1)</th>\n",
       "      <th>Period</th>\n",
       "      <th>Average Scheduled Service (trip minutes)</th>\n",
       "      <th># Scheduled Trips</th>\n",
       "      <th># Realtime Trips</th>\n",
       "      <th>Route</th>\n",
       "      <th>Direction</th>\n",
       "      <th># Minutes with 1+ VP per Minute</th>\n",
       "      <th># Minutes with 2+ VP per Minute</th>\n",
       "      <th># Early Arrival Trips</th>\n",
       "      <th># On-Time Trips</th>\n",
       "      <th># Late Trips</th>\n",
       "      <th>Average VP per Minute</th>\n",
       "      <th>% VP within Scheduled Shape</th>\n",
       "      <th>% Scheduled Trip w/ 1+ VP/Minute</th>\n",
       "      <th>% Scheduled Trip w/ 2+ VP/Minute</th>\n",
       "      <th>Realtime versus Scheduled Service Ratio</th>\n",
       "      <th>Speed (MPH)</th>\n",
       "      <th>Portfolio Organization Name</th>\n",
       "      <th>Headway (Minutes)</th>\n",
       "      <th>GTFS Availability</th>\n",
       "      <th>Average Stop Distance (Miles)</th>\n",
       "      <th>Date</th>\n",
       "    </tr>\n",
       "  </thead>\n",
       "  <tbody>\n",
       "    <tr>\n",
       "      <th>4428</th>\n",
       "      <td>0</td>\n",
       "      <td>All Day</td>\n",
       "      <td>112.00</td>\n",
       "      <td>2</td>\n",
       "      <td>2</td>\n",
       "      <td>86 80-89 Coastal Express</td>\n",
       "      <td>Westbound</td>\n",
       "      <td>201</td>\n",
       "      <td>196</td>\n",
       "      <td>1</td>\n",
       "      <td>0</td>\n",
       "      <td>1</td>\n",
       "      <td>1.00</td>\n",
       "      <td>0.00</td>\n",
       "      <td>100.00</td>\n",
       "      <td>100.00</td>\n",
       "      <td>3.00</td>\n",
       "      <td>42.00</td>\n",
       "      <td>Ventura County (VCTC, Gold Coast, Cities of Camarillo, Moorpark, Ojai, Simi Valley, Thousand Oaks)</td>\n",
       "      <td>750.00</td>\n",
       "      <td>schedule_and_vp</td>\n",
       "      <td>3.00</td>\n",
       "      <td>2025-01-15</td>\n",
       "    </tr>\n",
       "    <tr>\n",
       "      <th>4429</th>\n",
       "      <td>0</td>\n",
       "      <td>All Day</td>\n",
       "      <td>112.00</td>\n",
       "      <td>2</td>\n",
       "      <td>2</td>\n",
       "      <td>86 80-89 Coastal Express</td>\n",
       "      <td>Westbound</td>\n",
       "      <td>201</td>\n",
       "      <td>200</td>\n",
       "      <td>1</td>\n",
       "      <td>0</td>\n",
       "      <td>1</td>\n",
       "      <td>1.00</td>\n",
       "      <td>0.00</td>\n",
       "      <td>100.00</td>\n",
       "      <td>100.00</td>\n",
       "      <td>3.00</td>\n",
       "      <td>40.00</td>\n",
       "      <td>Ventura County (VCTC, Gold Coast, Cities of Camarillo, Moorpark, Ojai, Simi Valley, Thousand Oaks)</td>\n",
       "      <td>750.00</td>\n",
       "      <td>schedule_and_vp</td>\n",
       "      <td>57.00</td>\n",
       "      <td>2025-02-12</td>\n",
       "    </tr>\n",
       "    <tr>\n",
       "      <th>4430</th>\n",
       "      <td>0</td>\n",
       "      <td>All Day</td>\n",
       "      <td>112.00</td>\n",
       "      <td>2</td>\n",
       "      <td>2</td>\n",
       "      <td>86 80-89 Coastal Express</td>\n",
       "      <td>Westbound</td>\n",
       "      <td>121</td>\n",
       "      <td>117</td>\n",
       "      <td>1</td>\n",
       "      <td>0</td>\n",
       "      <td>1</td>\n",
       "      <td>2.00</td>\n",
       "      <td>100.00</td>\n",
       "      <td>100.00</td>\n",
       "      <td>100.00</td>\n",
       "      <td>1.00</td>\n",
       "      <td>38.00</td>\n",
       "      <td>Ventura County (VCTC, Gold Coast, Cities of Camarillo, Moorpark, Ojai, Simi Valley, Thousand Oaks)</td>\n",
       "      <td>750.00</td>\n",
       "      <td>schedule_and_vp</td>\n",
       "      <td>57.00</td>\n",
       "      <td>2025-03-12</td>\n",
       "    </tr>\n",
       "    <tr>\n",
       "      <th>4453</th>\n",
       "      <td>0</td>\n",
       "      <td>Offpeak</td>\n",
       "      <td>112.00</td>\n",
       "      <td>2</td>\n",
       "      <td>2</td>\n",
       "      <td>86 80-89 Coastal Express</td>\n",
       "      <td>Westbound</td>\n",
       "      <td>201</td>\n",
       "      <td>196</td>\n",
       "      <td>1</td>\n",
       "      <td>0</td>\n",
       "      <td>1</td>\n",
       "      <td>1.00</td>\n",
       "      <td>0.00</td>\n",
       "      <td>100.00</td>\n",
       "      <td>100.00</td>\n",
       "      <td>3.00</td>\n",
       "      <td>42.00</td>\n",
       "      <td>Ventura County (VCTC, Gold Coast, Cities of Camarillo, Moorpark, Ojai, Simi Valley, Thousand Oaks)</td>\n",
       "      <td>500.00</td>\n",
       "      <td>schedule_and_vp</td>\n",
       "      <td>3.00</td>\n",
       "      <td>2025-01-15</td>\n",
       "    </tr>\n",
       "    <tr>\n",
       "      <th>4454</th>\n",
       "      <td>0</td>\n",
       "      <td>Offpeak</td>\n",
       "      <td>112.00</td>\n",
       "      <td>2</td>\n",
       "      <td>2</td>\n",
       "      <td>86 80-89 Coastal Express</td>\n",
       "      <td>Westbound</td>\n",
       "      <td>201</td>\n",
       "      <td>200</td>\n",
       "      <td>1</td>\n",
       "      <td>0</td>\n",
       "      <td>1</td>\n",
       "      <td>1.00</td>\n",
       "      <td>0.00</td>\n",
       "      <td>100.00</td>\n",
       "      <td>100.00</td>\n",
       "      <td>3.00</td>\n",
       "      <td>40.00</td>\n",
       "      <td>Ventura County (VCTC, Gold Coast, Cities of Camarillo, Moorpark, Ojai, Simi Valley, Thousand Oaks)</td>\n",
       "      <td>500.00</td>\n",
       "      <td>schedule_and_vp</td>\n",
       "      <td>57.00</td>\n",
       "      <td>2025-02-12</td>\n",
       "    </tr>\n",
       "  </tbody>\n",
       "</table>\n",
       "</div>"
      ],
      "text/plain": [
       "      Direction (0/1)   Period  Average Scheduled Service (trip minutes)  \\\n",
       "4428                0  All Day                                    112.00   \n",
       "4429                0  All Day                                    112.00   \n",
       "4430                0  All Day                                    112.00   \n",
       "4453                0  Offpeak                                    112.00   \n",
       "4454                0  Offpeak                                    112.00   \n",
       "\n",
       "      # Scheduled Trips  # Realtime Trips                     Route  \\\n",
       "4428                  2                 2  86 80-89 Coastal Express   \n",
       "4429                  2                 2  86 80-89 Coastal Express   \n",
       "4430                  2                 2  86 80-89 Coastal Express   \n",
       "4453                  2                 2  86 80-89 Coastal Express   \n",
       "4454                  2                 2  86 80-89 Coastal Express   \n",
       "\n",
       "      Direction  # Minutes with 1+ VP per Minute  \\\n",
       "4428  Westbound                              201   \n",
       "4429  Westbound                              201   \n",
       "4430  Westbound                              121   \n",
       "4453  Westbound                              201   \n",
       "4454  Westbound                              201   \n",
       "\n",
       "      # Minutes with 2+ VP per Minute  # Early Arrival Trips  # On-Time Trips  \\\n",
       "4428                              196                      1                0   \n",
       "4429                              200                      1                0   \n",
       "4430                              117                      1                0   \n",
       "4453                              196                      1                0   \n",
       "4454                              200                      1                0   \n",
       "\n",
       "      # Late Trips  Average VP per Minute  % VP within Scheduled Shape  \\\n",
       "4428             1                   1.00                         0.00   \n",
       "4429             1                   1.00                         0.00   \n",
       "4430             1                   2.00                       100.00   \n",
       "4453             1                   1.00                         0.00   \n",
       "4454             1                   1.00                         0.00   \n",
       "\n",
       "      % Scheduled Trip w/ 1+ VP/Minute  % Scheduled Trip w/ 2+ VP/Minute  \\\n",
       "4428                            100.00                            100.00   \n",
       "4429                            100.00                            100.00   \n",
       "4430                            100.00                            100.00   \n",
       "4453                            100.00                            100.00   \n",
       "4454                            100.00                            100.00   \n",
       "\n",
       "      Realtime versus Scheduled Service Ratio  Speed (MPH)  \\\n",
       "4428                                     3.00        42.00   \n",
       "4429                                     3.00        40.00   \n",
       "4430                                     1.00        38.00   \n",
       "4453                                     3.00        42.00   \n",
       "4454                                     3.00        40.00   \n",
       "\n",
       "                                                                             Portfolio Organization Name  \\\n",
       "4428  Ventura County (VCTC, Gold Coast, Cities of Camarillo, Moorpark, Ojai, Simi Valley, Thousand Oaks)   \n",
       "4429  Ventura County (VCTC, Gold Coast, Cities of Camarillo, Moorpark, Ojai, Simi Valley, Thousand Oaks)   \n",
       "4430  Ventura County (VCTC, Gold Coast, Cities of Camarillo, Moorpark, Ojai, Simi Valley, Thousand Oaks)   \n",
       "4453  Ventura County (VCTC, Gold Coast, Cities of Camarillo, Moorpark, Ojai, Simi Valley, Thousand Oaks)   \n",
       "4454  Ventura County (VCTC, Gold Coast, Cities of Camarillo, Moorpark, Ojai, Simi Valley, Thousand Oaks)   \n",
       "\n",
       "      Headway (Minutes) GTFS Availability  Average Stop Distance (Miles)  \\\n",
       "4428             750.00   schedule_and_vp                           3.00   \n",
       "4429             750.00   schedule_and_vp                          57.00   \n",
       "4430             750.00   schedule_and_vp                          57.00   \n",
       "4453             500.00   schedule_and_vp                           3.00   \n",
       "4454             500.00   schedule_and_vp                          57.00   \n",
       "\n",
       "           Date  \n",
       "4428 2025-01-15  \n",
       "4429 2025-02-12  \n",
       "4430 2025-03-12  \n",
       "4453 2025-01-15  \n",
       "4454 2025-02-12  "
      ]
     },
     "execution_count": 12,
     "metadata": {},
     "output_type": "execute_result"
    }
   ],
   "source": [
    "route_86_coastal.head(5)"
   ]
  },
  {
   "cell_type": "code",
   "execution_count": 13,
   "id": "a9467d04-25e4-4a20-9d36-fae7e38750f4",
   "metadata": {
    "tags": []
   },
   "outputs": [
    {
     "data": {
      "text/plain": [
       "12"
      ]
     },
     "execution_count": 13,
     "metadata": {},
     "output_type": "execute_result"
    }
   ],
   "source": [
    "len(route_86_coastal)"
   ]
  },
  {
   "cell_type": "code",
   "execution_count": 14,
   "id": "8d05b6b4-ab30-4387-91f3-eef33ffe957f",
   "metadata": {
    "tags": []
   },
   "outputs": [
    {
     "data": {
      "text/plain": [
       "12"
      ]
     },
     "execution_count": 14,
     "metadata": {},
     "output_type": "execute_result"
    }
   ],
   "source": [
    "len(route_86_coastal.drop_duplicates())"
   ]
  },
  {
   "cell_type": "code",
   "execution_count": 15,
   "id": "962845cc-a0d1-4da8-ad4f-c538fb9a4a84",
   "metadata": {
    "tags": []
   },
   "outputs": [
    {
     "data": {
      "text/plain": [
       "Index(['Direction (0/1)', 'Period', 'Average Scheduled Service (trip minutes)',\n",
       "       '# Scheduled Trips', '# Realtime Trips', 'Route', 'Direction',\n",
       "       '# Minutes with 1+ VP per Minute', '# Minutes with 2+ VP per Minute',\n",
       "       '# Early Arrival Trips', '# On-Time Trips', '# Late Trips',\n",
       "       'Average VP per Minute', '% VP within Scheduled Shape',\n",
       "       '% Scheduled Trip w/ 1+ VP/Minute', '% Scheduled Trip w/ 2+ VP/Minute',\n",
       "       'Realtime versus Scheduled Service Ratio', 'Speed (MPH)',\n",
       "       'Portfolio Organization Name', 'Headway (Minutes)', 'GTFS Availability',\n",
       "       'Average Stop Distance (Miles)', 'Date'],\n",
       "      dtype='object')"
      ]
     },
     "execution_count": 15,
     "metadata": {},
     "output_type": "execute_result"
    }
   ],
   "source": [
    "route_86_coastal.columns"
   ]
  },
  {
   "cell_type": "code",
   "execution_count": 17,
   "id": "2680fb4b-ac87-4603-bc56-82cc7852b5bf",
   "metadata": {
    "tags": []
   },
   "outputs": [],
   "source": [
    "ROUTE_DIR_QTR_EXPORT = GTFS_DATA_DICT.digest_tables.quarterly_route_schedule_vp_report"
   ]
  },
  {
   "cell_type": "code",
   "execution_count": 18,
   "id": "1dbed443-2e03-49ca-8624-586602195bbf",
   "metadata": {
    "tags": []
   },
   "outputs": [],
   "source": [
    "route_dir_qtr_df = pd.read_parquet(f\"{RT_SCHED_GCS}{ROUTE_DIR_QTR_EXPORT}.parquet\")"
   ]
  },
  {
   "cell_type": "code",
   "execution_count": 19,
   "id": "0843f4ba-6b84-4eca-a39d-90f12c88dded",
   "metadata": {
    "tags": []
   },
   "outputs": [
    {
     "data": {
      "text/html": [
       "<div>\n",
       "<style scoped>\n",
       "    .dataframe tbody tr th:only-of-type {\n",
       "        vertical-align: middle;\n",
       "    }\n",
       "\n",
       "    .dataframe tbody tr th {\n",
       "        vertical-align: top;\n",
       "    }\n",
       "\n",
       "    .dataframe thead th {\n",
       "        text-align: right;\n",
       "    }\n",
       "</style>\n",
       "<table border=\"1\" class=\"dataframe\">\n",
       "  <thead>\n",
       "    <tr style=\"text-align: right;\">\n",
       "      <th></th>\n",
       "      <th>Direction (0/1)</th>\n",
       "      <th>Period</th>\n",
       "      <th>Average Scheduled Service (trip minutes)</th>\n",
       "      <th># Scheduled Trips</th>\n",
       "      <th># Realtime Trips</th>\n",
       "      <th>Route</th>\n",
       "      <th>Direction</th>\n",
       "      <th># Minutes with 1+ VP per Minute</th>\n",
       "      <th># Minutes with 2+ VP per Minute</th>\n",
       "      <th># Early Arrival Trips</th>\n",
       "      <th># On-Time Trips</th>\n",
       "      <th># Late Trips</th>\n",
       "      <th>Average VP per Minute</th>\n",
       "      <th>% VP within Scheduled Shape</th>\n",
       "      <th>% Scheduled Trip w/ 1+ VP/Minute</th>\n",
       "      <th>% Scheduled Trip w/ 2+ VP/Minute</th>\n",
       "      <th>Realtime versus Scheduled Service Ratio</th>\n",
       "      <th>Speed (MPH)</th>\n",
       "      <th>Portfolio Organization Name</th>\n",
       "      <th>Headway (Minutes)</th>\n",
       "      <th>GTFS Availability</th>\n",
       "      <th>Average Stop Distance (Miles)</th>\n",
       "      <th>Quarter</th>\n",
       "    </tr>\n",
       "  </thead>\n",
       "  <tbody>\n",
       "    <tr>\n",
       "      <th>97640</th>\n",
       "      <td>0</td>\n",
       "      <td>All Day</td>\n",
       "      <td>112.00</td>\n",
       "      <td>6</td>\n",
       "      <td>6</td>\n",
       "      <td>86 80-89 Coastal Express</td>\n",
       "      <td>Westbound</td>\n",
       "      <td>174.00</td>\n",
       "      <td>171.00</td>\n",
       "      <td>3</td>\n",
       "      <td>0</td>\n",
       "      <td>3</td>\n",
       "      <td>1.00</td>\n",
       "      <td>0.00</td>\n",
       "      <td>100.00</td>\n",
       "      <td>100.00</td>\n",
       "      <td>2.00</td>\n",
       "      <td>40.00</td>\n",
       "      <td>Ventura County (VCTC, Gold Coast, Cities of Camarillo, Moorpark, Ojai, Simi Valley, Thousand Oaks)</td>\n",
       "      <td>750.00</td>\n",
       "      <td>schedule_and_vp</td>\n",
       "      <td>39.00</td>\n",
       "      <td>2025 Q1</td>\n",
       "    </tr>\n",
       "    <tr>\n",
       "      <th>97698</th>\n",
       "      <td>0</td>\n",
       "      <td>Offpeak</td>\n",
       "      <td>112.00</td>\n",
       "      <td>6</td>\n",
       "      <td>6</td>\n",
       "      <td>86 80-89 Coastal Express</td>\n",
       "      <td>Westbound</td>\n",
       "      <td>174.00</td>\n",
       "      <td>171.00</td>\n",
       "      <td>3</td>\n",
       "      <td>0</td>\n",
       "      <td>3</td>\n",
       "      <td>1.00</td>\n",
       "      <td>0.00</td>\n",
       "      <td>100.00</td>\n",
       "      <td>100.00</td>\n",
       "      <td>2.00</td>\n",
       "      <td>40.00</td>\n",
       "      <td>Ventura County (VCTC, Gold Coast, Cities of Camarillo, Moorpark, Ojai, Simi Valley, Thousand Oaks)</td>\n",
       "      <td>500.00</td>\n",
       "      <td>schedule_and_vp</td>\n",
       "      <td>39.00</td>\n",
       "      <td>2025 Q1</td>\n",
       "    </tr>\n",
       "    <tr>\n",
       "      <th>97793</th>\n",
       "      <td>1</td>\n",
       "      <td>All Day</td>\n",
       "      <td>106.00</td>\n",
       "      <td>6</td>\n",
       "      <td>6</td>\n",
       "      <td>86 80-89 Coastal Express</td>\n",
       "      <td>Eastbound</td>\n",
       "      <td>357.00</td>\n",
       "      <td>351.00</td>\n",
       "      <td>0</td>\n",
       "      <td>0</td>\n",
       "      <td>6</td>\n",
       "      <td>1.00</td>\n",
       "      <td>0.00</td>\n",
       "      <td>200.00</td>\n",
       "      <td>200.00</td>\n",
       "      <td>4.00</td>\n",
       "      <td>11.00</td>\n",
       "      <td>Ventura County (VCTC, Gold Coast, Cities of Camarillo, Moorpark, Ojai, Simi Valley, Thousand Oaks)</td>\n",
       "      <td>750.00</td>\n",
       "      <td>schedule_and_vp</td>\n",
       "      <td>3.00</td>\n",
       "      <td>2025 Q1</td>\n",
       "    </tr>\n",
       "    <tr>\n",
       "      <th>97862</th>\n",
       "      <td>1</td>\n",
       "      <td>Peak</td>\n",
       "      <td>106.00</td>\n",
       "      <td>6</td>\n",
       "      <td>6</td>\n",
       "      <td>86 80-89 Coastal Express</td>\n",
       "      <td>Eastbound</td>\n",
       "      <td>357.00</td>\n",
       "      <td>351.00</td>\n",
       "      <td>0</td>\n",
       "      <td>0</td>\n",
       "      <td>6</td>\n",
       "      <td>1.00</td>\n",
       "      <td>0.00</td>\n",
       "      <td>200.00</td>\n",
       "      <td>200.00</td>\n",
       "      <td>4.00</td>\n",
       "      <td>11.00</td>\n",
       "      <td>Ventura County (VCTC, Gold Coast, Cities of Camarillo, Moorpark, Ojai, Simi Valley, Thousand Oaks)</td>\n",
       "      <td>240.00</td>\n",
       "      <td>schedule_and_vp</td>\n",
       "      <td>3.00</td>\n",
       "      <td>2025 Q1</td>\n",
       "    </tr>\n",
       "  </tbody>\n",
       "</table>\n",
       "</div>"
      ],
      "text/plain": [
       "       Direction (0/1)   Period  Average Scheduled Service (trip minutes)  \\\n",
       "97640                0  All Day                                    112.00   \n",
       "97698                0  Offpeak                                    112.00   \n",
       "97793                1  All Day                                    106.00   \n",
       "97862                1     Peak                                    106.00   \n",
       "\n",
       "       # Scheduled Trips  # Realtime Trips                     Route  \\\n",
       "97640                  6                 6  86 80-89 Coastal Express   \n",
       "97698                  6                 6  86 80-89 Coastal Express   \n",
       "97793                  6                 6  86 80-89 Coastal Express   \n",
       "97862                  6                 6  86 80-89 Coastal Express   \n",
       "\n",
       "       Direction  # Minutes with 1+ VP per Minute  \\\n",
       "97640  Westbound                           174.00   \n",
       "97698  Westbound                           174.00   \n",
       "97793  Eastbound                           357.00   \n",
       "97862  Eastbound                           357.00   \n",
       "\n",
       "       # Minutes with 2+ VP per Minute  # Early Arrival Trips  \\\n",
       "97640                           171.00                      3   \n",
       "97698                           171.00                      3   \n",
       "97793                           351.00                      0   \n",
       "97862                           351.00                      0   \n",
       "\n",
       "       # On-Time Trips  # Late Trips  Average VP per Minute  \\\n",
       "97640                0             3                   1.00   \n",
       "97698                0             3                   1.00   \n",
       "97793                0             6                   1.00   \n",
       "97862                0             6                   1.00   \n",
       "\n",
       "       % VP within Scheduled Shape  % Scheduled Trip w/ 1+ VP/Minute  \\\n",
       "97640                         0.00                            100.00   \n",
       "97698                         0.00                            100.00   \n",
       "97793                         0.00                            200.00   \n",
       "97862                         0.00                            200.00   \n",
       "\n",
       "       % Scheduled Trip w/ 2+ VP/Minute  \\\n",
       "97640                            100.00   \n",
       "97698                            100.00   \n",
       "97793                            200.00   \n",
       "97862                            200.00   \n",
       "\n",
       "       Realtime versus Scheduled Service Ratio  Speed (MPH)  \\\n",
       "97640                                     2.00        40.00   \n",
       "97698                                     2.00        40.00   \n",
       "97793                                     4.00        11.00   \n",
       "97862                                     4.00        11.00   \n",
       "\n",
       "                                                                              Portfolio Organization Name  \\\n",
       "97640  Ventura County (VCTC, Gold Coast, Cities of Camarillo, Moorpark, Ojai, Simi Valley, Thousand Oaks)   \n",
       "97698  Ventura County (VCTC, Gold Coast, Cities of Camarillo, Moorpark, Ojai, Simi Valley, Thousand Oaks)   \n",
       "97793  Ventura County (VCTC, Gold Coast, Cities of Camarillo, Moorpark, Ojai, Simi Valley, Thousand Oaks)   \n",
       "97862  Ventura County (VCTC, Gold Coast, Cities of Camarillo, Moorpark, Ojai, Simi Valley, Thousand Oaks)   \n",
       "\n",
       "       Headway (Minutes) GTFS Availability  Average Stop Distance (Miles)  \\\n",
       "97640             750.00   schedule_and_vp                          39.00   \n",
       "97698             500.00   schedule_and_vp                          39.00   \n",
       "97793             750.00   schedule_and_vp                           3.00   \n",
       "97862             240.00   schedule_and_vp                           3.00   \n",
       "\n",
       "       Quarter  \n",
       "97640  2025 Q1  \n",
       "97698  2025 Q1  \n",
       "97793  2025 Q1  \n",
       "97862  2025 Q1  "
      ]
     },
     "execution_count": 19,
     "metadata": {},
     "output_type": "execute_result"
    }
   ],
   "source": [
    "route_dir_qtr_df.loc[\n",
    "    (route_dir_qtr_df.Route == \"86 80-89 Coastal Express\")\n",
    "    & (route_dir_qtr_df.Quarter == \"2025 Q1\")\n",
    "]"
   ]
  },
  {
   "cell_type": "code",
   "execution_count": 20,
   "id": "77e4d1c1-59be-4518-89c6-5c0d246c40bb",
   "metadata": {
    "tags": []
   },
   "outputs": [
    {
     "data": {
      "text/plain": [
       "(4, 23)"
      ]
     },
     "execution_count": 20,
     "metadata": {},
     "output_type": "execute_result"
    }
   ],
   "source": [
    "route_dir_qtr_df.loc[\n",
    "    (route_dir_qtr_df.Route == \"86 80-89 Coastal Express\")\n",
    "    & (route_dir_qtr_df.Quarter == \"2025 Q1\")\n",
    "].shape"
   ]
  },
  {
   "cell_type": "markdown",
   "id": "e363658a-0a8f-45e2-b1b8-7cff664ee1e9",
   "metadata": {},
   "source": [
    "### Go back to `merge_data` and figure out why there are so many rows."
   ]
  },
  {
   "cell_type": "code",
   "execution_count": 40,
   "id": "29469ed1-e0bd-4d5f-b562-8ffb17aa1650",
   "metadata": {
    "tags": []
   },
   "outputs": [],
   "source": [
    "analysis_date_list = rt_dates.y2025_dates"
   ]
  },
  {
   "cell_type": "code",
   "execution_count": 41,
   "id": "34f3504d-4f1b-4b91-abeb-0914a1259a40",
   "metadata": {
    "tags": []
   },
   "outputs": [
    {
     "data": {
      "text/plain": [
       "['2025-01-15', '2025-02-12', '2025-03-12', '2025-04-16', '2025-05-14']"
      ]
     },
     "execution_count": 41,
     "metadata": {},
     "output_type": "execute_result"
    }
   ],
   "source": [
    "analysis_date_list"
   ]
  },
  {
   "cell_type": "code",
   "execution_count": null,
   "id": "13703133-3e60-4483-ad4c-14d199ae000a",
   "metadata": {
    "tags": []
   },
   "outputs": [],
   "source": [
    "one_route = \"86 80-89 Coastal Express\""
   ]
  },
  {
   "cell_type": "markdown",
   "id": "caae01a6-90c9-4f58-b06d-5a0ec8247e0f",
   "metadata": {
    "tags": []
   },
   "source": [
    "#### df_sched looks fine"
   ]
  },
  {
   "cell_type": "code",
   "execution_count": null,
   "id": "f0250a36-7e7d-4f69-9245-c9c297e83454",
   "metadata": {
    "tags": []
   },
   "outputs": [],
   "source": [
    "df_sched = merge_data.concatenate_schedule_by_route_direction(analysis_date_list)"
   ]
  },
  {
   "cell_type": "code",
   "execution_count": null,
   "id": "7b8a3209-549a-416f-a94f-b8df9dd162e2",
   "metadata": {
    "tags": []
   },
   "outputs": [],
   "source": [
    "df_sched = df_sched.loc[(df_sched.recent_combined_name == one_route)]"
   ]
  },
  {
   "cell_type": "code",
   "execution_count": null,
   "id": "d18219cd-caf9-4160-bf3b-1fba7d87e9a4",
   "metadata": {
    "tags": []
   },
   "outputs": [],
   "source": [
    "df_sched.shape"
   ]
  },
  {
   "cell_type": "code",
   "execution_count": null,
   "id": "c87c206d-9892-4283-ba4c-216e97db4344",
   "metadata": {
    "tags": []
   },
   "outputs": [],
   "source": [
    "len(df_sched), len(df_sched.drop_duplicates())"
   ]
  },
  {
   "cell_type": "code",
   "execution_count": null,
   "id": "535b0ad0-3150-49e5-976b-e7358eec42e5",
   "metadata": {
    "tags": []
   },
   "outputs": [],
   "source": [
    "df_sched.service_date.value_counts()"
   ]
  },
  {
   "cell_type": "code",
   "execution_count": null,
   "id": "ef1f291d-051c-43d6-8ad3-b756778ecb65",
   "metadata": {
    "tags": []
   },
   "outputs": [],
   "source": [
    "df_sched.time_period.value_counts()"
   ]
  },
  {
   "cell_type": "code",
   "execution_count": null,
   "id": "66f1d64d-7aa1-4d41-921e-d2255e7debdc",
   "metadata": {
    "tags": []
   },
   "outputs": [],
   "source": [
    "df_sched.schedule_gtfs_dataset_key.unique()"
   ]
  },
  {
   "cell_type": "code",
   "execution_count": null,
   "id": "f7bf25f8-24aa-4782-aa8c-d451759f2452",
   "metadata": {
    "tags": []
   },
   "outputs": [],
   "source": [
    "# df_sched"
   ]
  },
  {
   "cell_type": "markdown",
   "id": "38dbd7dd-37db-48cf-a035-17ad5ab15f71",
   "metadata": {},
   "source": [
    "#### df_speeds"
   ]
  },
  {
   "cell_type": "code",
   "execution_count": null,
   "id": "fa256175-a6ce-4937-b74d-a92c22bd73a7",
   "metadata": {
    "tags": []
   },
   "outputs": [],
   "source": [
    "df_avg_speeds = merge_data.concatenate_speeds_by_route_direction(analysis_date_list)"
   ]
  },
  {
   "cell_type": "code",
   "execution_count": null,
   "id": "373de0dd-cbea-446f-9e0c-96cb26ffb78a",
   "metadata": {
    "tags": []
   },
   "outputs": [],
   "source": [
    "df_avg_speeds.columns"
   ]
  },
  {
   "cell_type": "code",
   "execution_count": null,
   "id": "cf30c964-cddb-485a-b280-b7cde2903ab2",
   "metadata": {
    "tags": []
   },
   "outputs": [],
   "source": [
    "df_avg_speeds = df_avg_speeds.loc[\n",
    "    (df_avg_speeds.route_id == \"4145\")\n",
    "    & (df_avg_speeds.schedule_gtfs_dataset_key == \"1770249a5a2e770ca90628434d4934b1\")\n",
    "]"
   ]
  },
  {
   "cell_type": "code",
   "execution_count": null,
   "id": "9fdbac07-7ed9-4614-babe-6cf505a02568",
   "metadata": {
    "tags": []
   },
   "outputs": [],
   "source": [
    "df_avg_speeds"
   ]
  },
  {
   "cell_type": "markdown",
   "id": "eb1d5b3b-4212-44fb-8667-f5888a03b956",
   "metadata": {},
   "source": [
    "#### df_rt_sched has a lot of duplicated rows"
   ]
  },
  {
   "cell_type": "code",
   "execution_count": null,
   "id": "a9f988bd-b729-4cbd-84af-9848f0662e84",
   "metadata": {
    "tags": []
   },
   "outputs": [],
   "source": [
    "df_rt_sched = merge_data.concatenate_rt_vs_schedule_by_route_direction(\n",
    "    analysis_date_list\n",
    ")"
   ]
  },
  {
   "cell_type": "code",
   "execution_count": null,
   "id": "9f294820-c10d-4dd3-8955-0a9fdd88e46c",
   "metadata": {
    "tags": []
   },
   "outputs": [],
   "source": [
    "df_rt_sched.columns"
   ]
  },
  {
   "cell_type": "code",
   "execution_count": null,
   "id": "c5d43827-0ce9-43c1-a2be-b2bc2d462e93",
   "metadata": {
    "tags": []
   },
   "outputs": [],
   "source": [
    "df_rt_sched = df_rt_sched.loc[\n",
    "    (df_rt_sched.route_id == \"4145\")\n",
    "    & (df_rt_sched.schedule_gtfs_dataset_key == \"1770249a5a2e770ca90628434d4934b1\")\n",
    "]"
   ]
  },
  {
   "cell_type": "code",
   "execution_count": null,
   "id": "34c4bd0c-43cc-490f-a9fa-21e365bcdee5",
   "metadata": {
    "tags": []
   },
   "outputs": [],
   "source": [
    "len(df_rt_sched), len(df_rt_sched.drop_duplicates())"
   ]
  },
  {
   "cell_type": "code",
   "execution_count": null,
   "id": "d30057a0-322a-4106-8b87-635656827e5e",
   "metadata": {
    "tags": []
   },
   "outputs": [],
   "source": [
    "df_rt_sched[['service_date', 'direction_id', 'time_period',\n",
    "       'minutes_atleast1_vp', 'minutes_atleast2_vp',\n",
    "       'total_rt_service_minutes', 'total_scheduled_service_minutes',\n",
    "       'total_vp', 'vp_in_shape', 'is_early', 'is_ontime', 'is_late',\n",
    "       'n_vp_trips', 'vp_per_minute', 'pct_in_shape',\n",
    "       'pct_rt_journey_atleast1_vp', 'pct_rt_journey_atleast2_vp',\n",
    "       'pct_sched_journey_atleast1_vp', 'pct_sched_journey_atleast2_vp',\n",
    "       'rt_sched_journey_ratio', 'avg_rt_service_minutes', ]]"
   ]
  },
  {
   "attachments": {
    "3643f222-dd6c-4b1f-b647-c4adc9958ba9.png": {
     "image/png": "[encoded data removed]"
    }
   },
   "cell_type": "markdown",
   "id": "3e6f2633-2e24-4588-9b7d-3784088ff2c2",
   "metadata": {},
   "source": [
    "### This chart is a little hard to read, change to grouped bar\n",
    "![image.png](attachment:3643f222-dd6c-4b1f-b647-c4adc9958ba9.png)"
   ]
  },
  {
   "cell_type": "code",
   "execution_count": 22,
   "id": "50ef99bd-0dc8-46c7-b946-3c47b4c5f5b4",
   "metadata": {
    "tags": []
   },
   "outputs": [],
   "source": [
    "import _report_route_dir_visuals"
   ]
  },
  {
   "cell_type": "code",
   "execution_count": 24,
   "id": "4c0937e1-da68-494c-b192-6540a9441561",
   "metadata": {
    "tags": []
   },
   "outputs": [],
   "source": [
    "df2 = _report_route_dir_visuals.reshape_timeliness_trips(route_dir_month_df)"
   ]
  },
  {
   "cell_type": "code",
   "execution_count": 26,
   "id": "3833a1b9-7b42-4a4e-be54-68dcf85f330f",
   "metadata": {
    "tags": []
   },
   "outputs": [],
   "source": [
    "df2 = df2.loc[\n",
    "    (df2.Route == \"86 80-89 Coastal Express\")\n",
    "]"
   ]
  },
  {
   "cell_type": "code",
   "execution_count": 27,
   "id": "5308cc1a-22e3-4265-8f08-68612661b64d",
   "metadata": {
    "tags": []
   },
   "outputs": [
    {
     "data": {
      "text/plain": [
       "(294, 10)"
      ]
     },
     "execution_count": 27,
     "metadata": {},
     "output_type": "execute_result"
    }
   ],
   "source": [
    "df2.shape"
   ]
  },
  {
   "cell_type": "code",
   "execution_count": 28,
   "id": "922479fe-34ca-4a76-a631-37df4c78627f",
   "metadata": {
    "tags": []
   },
   "outputs": [
    {
     "data": {
      "text/plain": [
       "Index(['Date', 'Portfolio Organization Name', 'Route', 'Period', 'Direction',\n",
       "       'Direction (0/1)', '# Realtime Trips', 'variable', 'value',\n",
       "       'Percentage'],\n",
       "      dtype='object')"
      ]
     },
     "execution_count": 28,
     "metadata": {},
     "output_type": "execute_result"
    }
   ],
   "source": [
    "df2.columns"
   ]
  },
  {
   "cell_type": "code",
   "execution_count": 36,
   "id": "f9fd8933-bbfc-4999-82e6-72eb7063f00c",
   "metadata": {
    "tags": []
   },
   "outputs": [
    {
     "data": {
      "text/plain": [
       "array(['All Day', 'Offpeak', 'Peak'], dtype=object)"
      ]
     },
     "execution_count": 36,
     "metadata": {},
     "output_type": "execute_result"
    }
   ],
   "source": [
    "df2.Period.unique()"
   ]
  },
  {
   "cell_type": "code",
   "execution_count": 29,
   "id": "16f94fcd-c59b-48ab-a64c-a94a1f3564ce",
   "metadata": {
    "tags": []
   },
   "outputs": [
    {
     "data": {
      "text/html": [
       "<div>\n",
       "<style scoped>\n",
       "    .dataframe tbody tr th:only-of-type {\n",
       "        vertical-align: middle;\n",
       "    }\n",
       "\n",
       "    .dataframe tbody tr th {\n",
       "        vertical-align: top;\n",
       "    }\n",
       "\n",
       "    .dataframe thead th {\n",
       "        text-align: right;\n",
       "    }\n",
       "</style>\n",
       "<table border=\"1\" class=\"dataframe\">\n",
       "  <thead>\n",
       "    <tr style=\"text-align: right;\">\n",
       "      <th></th>\n",
       "      <th>Date</th>\n",
       "      <th>Portfolio Organization Name</th>\n",
       "      <th>Route</th>\n",
       "      <th>Period</th>\n",
       "      <th>Direction</th>\n",
       "      <th>Direction (0/1)</th>\n",
       "      <th># Realtime Trips</th>\n",
       "      <th>variable</th>\n",
       "      <th>value</th>\n",
       "      <th>Percentage</th>\n",
       "    </tr>\n",
       "  </thead>\n",
       "  <tbody>\n",
       "    <tr>\n",
       "      <th>4408</th>\n",
       "      <td>2023-04-12</td>\n",
       "      <td>Ventura County (VCTC, Gold Coast, Cities of Camarillo, Moorpark, Ojai, Simi Valley, Thousand Oaks)</td>\n",
       "      <td>86 80-89 Coastal Express</td>\n",
       "      <td>All Day</td>\n",
       "      <td>Westbound</td>\n",
       "      <td>0</td>\n",
       "      <td>2</td>\n",
       "      <td># Early Arrival Trips</td>\n",
       "      <td>0</td>\n",
       "      <td>0.00</td>\n",
       "    </tr>\n",
       "    <tr>\n",
       "      <th>4409</th>\n",
       "      <td>2023-06-14</td>\n",
       "      <td>Ventura County (VCTC, Gold Coast, Cities of Camarillo, Moorpark, Ojai, Simi Valley, Thousand Oaks)</td>\n",
       "      <td>86 80-89 Coastal Express</td>\n",
       "      <td>All Day</td>\n",
       "      <td>Westbound</td>\n",
       "      <td>0</td>\n",
       "      <td>2</td>\n",
       "      <td># Early Arrival Trips</td>\n",
       "      <td>0</td>\n",
       "      <td>0.00</td>\n",
       "    </tr>\n",
       "    <tr>\n",
       "      <th>4410</th>\n",
       "      <td>2023-07-12</td>\n",
       "      <td>Ventura County (VCTC, Gold Coast, Cities of Camarillo, Moorpark, Ojai, Simi Valley, Thousand Oaks)</td>\n",
       "      <td>86 80-89 Coastal Express</td>\n",
       "      <td>All Day</td>\n",
       "      <td>Westbound</td>\n",
       "      <td>0</td>\n",
       "      <td>2</td>\n",
       "      <td># Early Arrival Trips</td>\n",
       "      <td>0</td>\n",
       "      <td>0.00</td>\n",
       "    </tr>\n",
       "    <tr>\n",
       "      <th>4411</th>\n",
       "      <td>2023-08-15</td>\n",
       "      <td>Ventura County (VCTC, Gold Coast, Cities of Camarillo, Moorpark, Ojai, Simi Valley, Thousand Oaks)</td>\n",
       "      <td>86 80-89 Coastal Express</td>\n",
       "      <td>All Day</td>\n",
       "      <td>Westbound</td>\n",
       "      <td>0</td>\n",
       "      <td>2</td>\n",
       "      <td># Early Arrival Trips</td>\n",
       "      <td>1</td>\n",
       "      <td>50.00</td>\n",
       "    </tr>\n",
       "    <tr>\n",
       "      <th>4412</th>\n",
       "      <td>2023-09-13</td>\n",
       "      <td>Ventura County (VCTC, Gold Coast, Cities of Camarillo, Moorpark, Ojai, Simi Valley, Thousand Oaks)</td>\n",
       "      <td>86 80-89 Coastal Express</td>\n",
       "      <td>All Day</td>\n",
       "      <td>Westbound</td>\n",
       "      <td>0</td>\n",
       "      <td>1</td>\n",
       "      <td># Early Arrival Trips</td>\n",
       "      <td>0</td>\n",
       "      <td>0.00</td>\n",
       "    </tr>\n",
       "  </tbody>\n",
       "</table>\n",
       "</div>"
      ],
      "text/plain": [
       "           Date  \\\n",
       "4408 2023-04-12   \n",
       "4409 2023-06-14   \n",
       "4410 2023-07-12   \n",
       "4411 2023-08-15   \n",
       "4412 2023-09-13   \n",
       "\n",
       "                                                                             Portfolio Organization Name  \\\n",
       "4408  Ventura County (VCTC, Gold Coast, Cities of Camarillo, Moorpark, Ojai, Simi Valley, Thousand Oaks)   \n",
       "4409  Ventura County (VCTC, Gold Coast, Cities of Camarillo, Moorpark, Ojai, Simi Valley, Thousand Oaks)   \n",
       "4410  Ventura County (VCTC, Gold Coast, Cities of Camarillo, Moorpark, Ojai, Simi Valley, Thousand Oaks)   \n",
       "4411  Ventura County (VCTC, Gold Coast, Cities of Camarillo, Moorpark, Ojai, Simi Valley, Thousand Oaks)   \n",
       "4412  Ventura County (VCTC, Gold Coast, Cities of Camarillo, Moorpark, Ojai, Simi Valley, Thousand Oaks)   \n",
       "\n",
       "                         Route   Period  Direction  Direction (0/1)  \\\n",
       "4408  86 80-89 Coastal Express  All Day  Westbound                0   \n",
       "4409  86 80-89 Coastal Express  All Day  Westbound                0   \n",
       "4410  86 80-89 Coastal Express  All Day  Westbound                0   \n",
       "4411  86 80-89 Coastal Express  All Day  Westbound                0   \n",
       "4412  86 80-89 Coastal Express  All Day  Westbound                0   \n",
       "\n",
       "      # Realtime Trips               variable  value  Percentage  \n",
       "4408                 2  # Early Arrival Trips      0        0.00  \n",
       "4409                 2  # Early Arrival Trips      0        0.00  \n",
       "4410                 2  # Early Arrival Trips      0        0.00  \n",
       "4411                 2  # Early Arrival Trips      1       50.00  \n",
       "4412                 1  # Early Arrival Trips      0        0.00  "
      ]
     },
     "execution_count": 29,
     "metadata": {},
     "output_type": "execute_result"
    }
   ],
   "source": [
    "df2.head()"
   ]
  },
  {
   "cell_type": "code",
   "execution_count": 25,
   "id": "a1d57a51-5b28-432e-89ad-66bd228666af",
   "metadata": {
    "tags": []
   },
   "outputs": [],
   "source": [
    "specific_chart_dict = readable_dict.timeliness_trips_graph"
   ]
  },
  {
   "cell_type": "code",
   "execution_count": 35,
   "id": "d3605508-1bff-4913-80f9-28da564dc491",
   "metadata": {
    "tags": []
   },
   "outputs": [
    {
     "data": {
      "text/html": [
       "\n",
       "<style>\n",
       "  #altair-viz-e27a349bc09543b7829c6f85ec339236.vega-embed {\n",
       "    width: 100%;\n",
       "    display: flex;\n",
       "  }\n",
       "\n",
       "  #altair-viz-e27a349bc09543b7829c6f85ec339236.vega-embed details,\n",
       "  #altair-viz-e27a349bc09543b7829c6f85ec339236.vega-embed details summary {\n",
       "    position: relative;\n",
       "  }\n",
       "</style>\n",
       "<div id=\"altair-viz-e27a349bc09543b7829c6f85ec339236\"></div>\n",
       "<script type=\"text/javascript\">\n",
       "  var VEGA_DEBUG = (typeof VEGA_DEBUG == \"undefined\") ? {} : VEGA_DEBUG;\n",
       "  (function(spec, embedOpt){\n",
       "    let outputDiv = document.currentScript.previousElementSibling;\n",
       "    if (outputDiv.id !== \"altair-viz-e27a349bc09543b7829c6f85ec339236\") {\n",
       "      outputDiv = document.getElementById(\"altair-viz-e27a349bc09543b7829c6f85ec339236\");\n",
       "    }\n",
       "\n",
       "    const paths = {\n",
       "      \"vega\": \"https://cdn.jsdelivr.net/npm/vega@5?noext\",\n",
       "      \"vega-lib\": \"https://cdn.jsdelivr.net/npm/vega-lib?noext\",\n",
       "      \"vega-lite\": \"https://cdn.jsdelivr.net/npm/vega-lite@5.20.1?noext\",\n",
       "      \"vega-embed\": \"https://cdn.jsdelivr.net/npm/vega-embed@6?noext\",\n",
       "    };\n",
       "\n",
       "    function maybeLoadScript(lib, version) {\n",
       "      var key = `${lib.replace(\"-\", \"\")}_version`;\n",
       "      return (VEGA_DEBUG[key] == version) ?\n",
       "        Promise.resolve(paths[lib]) :\n",
       "        new Promise(function(resolve, reject) {\n",
       "          var s = document.createElement('script');\n",
       "          document.getElementsByTagName(\"head\")[0].appendChild(s);\n",
       "          s.async = true;\n",
       "          s.onload = () => {\n",
       "            VEGA_DEBUG[key] = version;\n",
       "            return resolve(paths[lib]);\n",
       "          };\n",
       "          s.onerror = () => reject(`Error loading script: ${paths[lib]}`);\n",
       "          s.src = paths[lib];\n",
       "        });\n",
       "    }\n",
       "\n",
       "    function showError(err) {\n",
       "      outputDiv.innerHTML = `<div class=\"error\" style=\"color:red;\">${err}</div>`;\n",
       "      throw err;\n",
       "    }\n",
       "\n",
       "    function displayChart(vegaEmbed) {\n",
       "      vegaEmbed(outputDiv, spec, embedOpt)\n",
       "        .catch(err => showError(`Javascript Error: ${err.message}<br>This usually means there's a typo in your chart specification. See the javascript console for the full traceback.`));\n",
       "    }\n",
       "\n",
       "    if(typeof define === \"function\" && define.amd) {\n",
       "      requirejs.config({paths});\n",
       "      let deps = [\"vega-embed\"];\n",
       "      require(deps, displayChart, err => showError(`Error loading script: ${err.message}`));\n",
       "    } else {\n",
       "      maybeLoadScript(\"vega\", \"5\")\n",
       "        .then(() => maybeLoadScript(\"vega-lite\", \"5.20.1\"))\n",
       "        .then(() => maybeLoadScript(\"vega-embed\", \"6\"))\n",
       "        .catch(showError)\n",
       "        .then(() => displayChart(vegaEmbed));\n",
       "    }\n",
       "  })({\"config\": {\"view\": {\"continuousWidth\": 300, \"continuousHeight\": 300}}, \"data\": {\"name\": \"data-085751b9aea13f476ac5ff41005f8cad\"}, \"mark\": {\"type\": \"bar\", \"size\": 5}, \"encoding\": {\"color\": {\"field\": \"variable\", \"legend\": null, \"scale\": {\"range\": [\"#ccbb44\", \"#5b8efd\", \"#dd217d\"]}, \"title\": \"variable\", \"type\": \"nominal\"}, \"tooltip\": [{\"field\": \"Date\", \"type\": \"temporal\"}, {\"field\": \"Route\", \"type\": \"nominal\"}, {\"field\": \"Direction\", \"type\": \"nominal\"}, {\"field\": \"Period\", \"type\": \"nominal\"}, {\"field\": \"Percentage\", \"type\": \"quantitative\"}], \"x\": {\"axis\": {\"format\": \"\", \"labelAngle\": -45}, \"field\": \"Date\", \"title\": \"Date\", \"type\": \"temporal\"}, \"xOffset\": {\"field\": \"variable\", \"title\": \"variable:N\", \"type\": \"nominal\"}, \"y\": {\"field\": \"Percentage\", \"title\": \"Percentage\", \"type\": \"quantitative\"}}, \"$schema\": \"https://vega.github.io/schema/vega-lite/v5.20.1.json\", \"datasets\": {\"data-085751b9aea13f476ac5ff41005f8cad\": [{\"Date\": \"2023-04-12T00:00:00\", \"Portfolio Organization Name\": \"Ventura County (VCTC, Gold Coast, Cities of Camarillo, Moorpark, Ojai, Simi Valley, Thousand Oaks)\", \"Route\": \"86 80-89 Coastal Express\", \"Period\": \"All Day\", \"Direction\": \"Westbound\", \"Direction (0/1)\": 0, \"# Realtime Trips\": 2, \"variable\": \"# Early Arrival Trips\", \"value\": 0, \"Percentage\": 0.0}, {\"Date\": \"2023-06-14T00:00:00\", \"Portfolio Organization Name\": \"Ventura County (VCTC, Gold Coast, Cities of Camarillo, Moorpark, Ojai, Simi Valley, Thousand Oaks)\", \"Route\": \"86 80-89 Coastal Express\", \"Period\": \"All Day\", \"Direction\": \"Westbound\", \"Direction (0/1)\": 0, \"# Realtime Trips\": 2, \"variable\": \"# Early Arrival Trips\", \"value\": 0, \"Percentage\": 0.0}, {\"Date\": \"2023-07-12T00:00:00\", \"Portfolio Organization Name\": \"Ventura County (VCTC, Gold Coast, Cities of Camarillo, Moorpark, Ojai, Simi Valley, Thousand Oaks)\", \"Route\": \"86 80-89 Coastal Express\", \"Period\": \"All Day\", \"Direction\": \"Westbound\", \"Direction (0/1)\": 0, \"# Realtime Trips\": 2, \"variable\": \"# Early Arrival Trips\", \"value\": 0, \"Percentage\": 0.0}, {\"Date\": \"2023-08-15T00:00:00\", \"Portfolio Organization Name\": \"Ventura County (VCTC, Gold Coast, Cities of Camarillo, Moorpark, Ojai, Simi Valley, Thousand Oaks)\", \"Route\": \"86 80-89 Coastal Express\", \"Period\": \"All Day\", \"Direction\": \"Westbound\", \"Direction (0/1)\": 0, \"# Realtime Trips\": 2, \"variable\": \"# Early Arrival Trips\", \"value\": 1, \"Percentage\": 50.0}, {\"Date\": \"2023-09-13T00:00:00\", \"Portfolio Organization Name\": \"Ventura County (VCTC, Gold Coast, Cities of Camarillo, Moorpark, Ojai, Simi Valley, Thousand Oaks)\", \"Route\": \"86 80-89 Coastal Express\", \"Period\": \"All Day\", \"Direction\": \"Westbound\", \"Direction (0/1)\": 0, \"# Realtime Trips\": 1, \"variable\": \"# Early Arrival Trips\", \"value\": 0, \"Percentage\": 0.0}, {\"Date\": \"2023-10-11T00:00:00\", \"Portfolio Organization Name\": \"Ventura County (VCTC, Gold Coast, Cities of Camarillo, Moorpark, Ojai, Simi Valley, Thousand Oaks)\", \"Route\": \"86 80-89 Coastal Express\", \"Period\": \"All Day\", \"Direction\": \"Westbound\", \"Direction (0/1)\": 0, \"# Realtime Trips\": 2, \"variable\": \"# Early Arrival Trips\", \"value\": 0, \"Percentage\": 0.0}, {\"Date\": \"2023-11-15T00:00:00\", \"Portfolio Organization Name\": \"Ventura County (VCTC, Gold Coast, Cities of Camarillo, Moorpark, Ojai, Simi Valley, Thousand Oaks)\", \"Route\": \"86 80-89 Coastal Express\", \"Period\": \"All Day\", \"Direction\": \"Westbound\", \"Direction (0/1)\": 0, \"# Realtime Trips\": 2, \"variable\": \"# Early Arrival Trips\", \"value\": 0, \"Percentage\": 0.0}, {\"Date\": \"2023-12-13T00:00:00\", \"Portfolio Organization Name\": \"Ventura County (VCTC, Gold Coast, Cities of Camarillo, Moorpark, Ojai, Simi Valley, Thousand Oaks)\", \"Route\": \"86 80-89 Coastal Express\", \"Period\": \"All Day\", \"Direction\": \"Westbound\", \"Direction (0/1)\": 0, \"# Realtime Trips\": 2, \"variable\": \"# Early Arrival Trips\", \"value\": 0, \"Percentage\": 0.0}, {\"Date\": \"2024-01-17T00:00:00\", \"Portfolio Organization Name\": \"Ventura County (VCTC, Gold Coast, Cities of Camarillo, Moorpark, Ojai, Simi Valley, Thousand Oaks)\", \"Route\": \"86 80-89 Coastal Express\", \"Period\": \"All Day\", \"Direction\": \"Westbound\", \"Direction (0/1)\": 0, \"# Realtime Trips\": 2, \"variable\": \"# Early Arrival Trips\", \"value\": 0, \"Percentage\": 0.0}, {\"Date\": \"2024-02-14T00:00:00\", \"Portfolio Organization Name\": \"Ventura County (VCTC, Gold Coast, Cities of Camarillo, Moorpark, Ojai, Simi Valley, Thousand Oaks)\", \"Route\": \"86 80-89 Coastal Express\", \"Period\": \"All Day\", \"Direction\": \"Westbound\", \"Direction (0/1)\": 0, \"# Realtime Trips\": 1, \"variable\": \"# Early Arrival Trips\", \"value\": 0, \"Percentage\": 0.0}, {\"Date\": \"2024-03-13T00:00:00\", \"Portfolio Organization Name\": \"Ventura County (VCTC, Gold Coast, Cities of Camarillo, Moorpark, Ojai, Simi Valley, Thousand Oaks)\", \"Route\": \"86 80-89 Coastal Express\", \"Period\": \"All Day\", \"Direction\": \"Westbound\", \"Direction (0/1)\": 0, \"# Realtime Trips\": 2, \"variable\": \"# Early Arrival Trips\", \"value\": 1, \"Percentage\": 50.0}, {\"Date\": \"2024-04-17T00:00:00\", \"Portfolio Organization Name\": \"Ventura County (VCTC, Gold Coast, Cities of Camarillo, Moorpark, Ojai, Simi Valley, Thousand Oaks)\", \"Route\": \"86 80-89 Coastal Express\", \"Period\": \"All Day\", \"Direction\": \"Westbound\", \"Direction (0/1)\": 0, \"# Realtime Trips\": 2, \"variable\": \"# Early Arrival Trips\", \"value\": 1, \"Percentage\": 50.0}, {\"Date\": \"2024-05-22T00:00:00\", \"Portfolio Organization Name\": \"Ventura County (VCTC, Gold Coast, Cities of Camarillo, Moorpark, Ojai, Simi Valley, Thousand Oaks)\", \"Route\": \"86 80-89 Coastal Express\", \"Period\": \"All Day\", \"Direction\": \"Westbound\", \"Direction (0/1)\": 0, \"# Realtime Trips\": 2, \"variable\": \"# Early Arrival Trips\", \"value\": 1, \"Percentage\": 50.0}, {\"Date\": \"2024-06-12T00:00:00\", \"Portfolio Organization Name\": \"Ventura County (VCTC, Gold Coast, Cities of Camarillo, Moorpark, Ojai, Simi Valley, Thousand Oaks)\", \"Route\": \"86 80-89 Coastal Express\", \"Period\": \"All Day\", \"Direction\": \"Westbound\", \"Direction (0/1)\": 0, \"# Realtime Trips\": 1, \"variable\": \"# Early Arrival Trips\", \"value\": 0, \"Percentage\": 0.0}, {\"Date\": \"2024-07-17T00:00:00\", \"Portfolio Organization Name\": \"Ventura County (VCTC, Gold Coast, Cities of Camarillo, Moorpark, Ojai, Simi Valley, Thousand Oaks)\", \"Route\": \"86 80-89 Coastal Express\", \"Period\": \"All Day\", \"Direction\": \"Westbound\", \"Direction (0/1)\": 0, \"# Realtime Trips\": 2, \"variable\": \"# Early Arrival Trips\", \"value\": 1, \"Percentage\": 50.0}, {\"Date\": \"2024-08-14T00:00:00\", \"Portfolio Organization Name\": \"Ventura County (VCTC, Gold Coast, Cities of Camarillo, Moorpark, Ojai, Simi Valley, Thousand Oaks)\", \"Route\": \"86 80-89 Coastal Express\", \"Period\": \"All Day\", \"Direction\": \"Westbound\", \"Direction (0/1)\": 0, \"# Realtime Trips\": 2, \"variable\": \"# Early Arrival Trips\", \"value\": 0, \"Percentage\": 0.0}, {\"Date\": \"2024-09-18T00:00:00\", \"Portfolio Organization Name\": \"Ventura County (VCTC, Gold Coast, Cities of Camarillo, Moorpark, Ojai, Simi Valley, Thousand Oaks)\", \"Route\": \"86 80-89 Coastal Express\", \"Period\": \"All Day\", \"Direction\": \"Westbound\", \"Direction (0/1)\": 0, \"# Realtime Trips\": 2, \"variable\": \"# Early Arrival Trips\", \"value\": 2, \"Percentage\": 100.0}, {\"Date\": \"2024-10-16T00:00:00\", \"Portfolio Organization Name\": \"Ventura County (VCTC, Gold Coast, Cities of Camarillo, Moorpark, Ojai, Simi Valley, Thousand Oaks)\", \"Route\": \"86 80-89 Coastal Express\", \"Period\": \"All Day\", \"Direction\": \"Westbound\", \"Direction (0/1)\": 0, \"# Realtime Trips\": 2, \"variable\": \"# Early Arrival Trips\", \"value\": 2, \"Percentage\": 100.0}, {\"Date\": \"2024-11-13T00:00:00\", \"Portfolio Organization Name\": \"Ventura County (VCTC, Gold Coast, Cities of Camarillo, Moorpark, Ojai, Simi Valley, Thousand Oaks)\", \"Route\": \"86 80-89 Coastal Express\", \"Period\": \"All Day\", \"Direction\": \"Westbound\", \"Direction (0/1)\": 0, \"# Realtime Trips\": 2, \"variable\": \"# Early Arrival Trips\", \"value\": 0, \"Percentage\": 0.0}, {\"Date\": \"2024-12-11T00:00:00\", \"Portfolio Organization Name\": \"Ventura County (VCTC, Gold Coast, Cities of Camarillo, Moorpark, Ojai, Simi Valley, Thousand Oaks)\", \"Route\": \"86 80-89 Coastal Express\", \"Period\": \"All Day\", \"Direction\": \"Westbound\", \"Direction (0/1)\": 0, \"# Realtime Trips\": 2, \"variable\": \"# Early Arrival Trips\", \"value\": 1, \"Percentage\": 50.0}, {\"Date\": \"2025-01-15T00:00:00\", \"Portfolio Organization Name\": \"Ventura County (VCTC, Gold Coast, Cities of Camarillo, Moorpark, Ojai, Simi Valley, Thousand Oaks)\", \"Route\": \"86 80-89 Coastal Express\", \"Period\": \"All Day\", \"Direction\": \"Westbound\", \"Direction (0/1)\": 0, \"# Realtime Trips\": 2, \"variable\": \"# Early Arrival Trips\", \"value\": 1, \"Percentage\": 50.0}, {\"Date\": \"2025-02-12T00:00:00\", \"Portfolio Organization Name\": \"Ventura County (VCTC, Gold Coast, Cities of Camarillo, Moorpark, Ojai, Simi Valley, Thousand Oaks)\", \"Route\": \"86 80-89 Coastal Express\", \"Period\": \"All Day\", \"Direction\": \"Westbound\", \"Direction (0/1)\": 0, \"# Realtime Trips\": 2, \"variable\": \"# Early Arrival Trips\", \"value\": 1, \"Percentage\": 50.0}, {\"Date\": \"2025-03-12T00:00:00\", \"Portfolio Organization Name\": \"Ventura County (VCTC, Gold Coast, Cities of Camarillo, Moorpark, Ojai, Simi Valley, Thousand Oaks)\", \"Route\": \"86 80-89 Coastal Express\", \"Period\": \"All Day\", \"Direction\": \"Westbound\", \"Direction (0/1)\": 0, \"# Realtime Trips\": 2, \"variable\": \"# Early Arrival Trips\", \"value\": 1, \"Percentage\": 50.0}, {\"Date\": \"2025-04-16T00:00:00\", \"Portfolio Organization Name\": \"Ventura County (VCTC, Gold Coast, Cities of Camarillo, Moorpark, Ojai, Simi Valley, Thousand Oaks)\", \"Route\": \"86 80-89 Coastal Express\", \"Period\": \"All Day\", \"Direction\": \"Westbound\", \"Direction (0/1)\": 0, \"# Realtime Trips\": 1, \"variable\": \"# Early Arrival Trips\", \"value\": 0, \"Percentage\": 0.0}, {\"Date\": \"2025-05-14T00:00:00\", \"Portfolio Organization Name\": \"Ventura County (VCTC, Gold Coast, Cities of Camarillo, Moorpark, Ojai, Simi Valley, Thousand Oaks)\", \"Route\": \"86 80-89 Coastal Express\", \"Period\": \"All Day\", \"Direction\": \"Westbound\", \"Direction (0/1)\": 0, \"# Realtime Trips\": 2, \"variable\": \"# Early Arrival Trips\", \"value\": 0, \"Percentage\": 0.0}, {\"Date\": \"2023-04-12T00:00:00\", \"Portfolio Organization Name\": \"Ventura County (VCTC, Gold Coast, Cities of Camarillo, Moorpark, Ojai, Simi Valley, Thousand Oaks)\", \"Route\": \"86 80-89 Coastal Express\", \"Period\": \"Offpeak\", \"Direction\": \"Westbound\", \"Direction (0/1)\": 0, \"# Realtime Trips\": 2, \"variable\": \"# Early Arrival Trips\", \"value\": 0, \"Percentage\": 0.0}, {\"Date\": \"2023-06-14T00:00:00\", \"Portfolio Organization Name\": \"Ventura County (VCTC, Gold Coast, Cities of Camarillo, Moorpark, Ojai, Simi Valley, Thousand Oaks)\", \"Route\": \"86 80-89 Coastal Express\", \"Period\": \"Offpeak\", \"Direction\": \"Westbound\", \"Direction (0/1)\": 0, \"# Realtime Trips\": 2, \"variable\": \"# Early Arrival Trips\", \"value\": 0, \"Percentage\": 0.0}, {\"Date\": \"2023-07-12T00:00:00\", \"Portfolio Organization Name\": \"Ventura County (VCTC, Gold Coast, Cities of Camarillo, Moorpark, Ojai, Simi Valley, Thousand Oaks)\", \"Route\": \"86 80-89 Coastal Express\", \"Period\": \"Offpeak\", \"Direction\": \"Westbound\", \"Direction (0/1)\": 0, \"# Realtime Trips\": 2, \"variable\": \"# Early Arrival Trips\", \"value\": 0, \"Percentage\": 0.0}, {\"Date\": \"2023-08-15T00:00:00\", \"Portfolio Organization Name\": \"Ventura County (VCTC, Gold Coast, Cities of Camarillo, Moorpark, Ojai, Simi Valley, Thousand Oaks)\", \"Route\": \"86 80-89 Coastal Express\", \"Period\": \"Offpeak\", \"Direction\": \"Westbound\", \"Direction (0/1)\": 0, \"# Realtime Trips\": 2, \"variable\": \"# Early Arrival Trips\", \"value\": 1, \"Percentage\": 50.0}, {\"Date\": \"2023-09-13T00:00:00\", \"Portfolio Organization Name\": \"Ventura County (VCTC, Gold Coast, Cities of Camarillo, Moorpark, Ojai, Simi Valley, Thousand Oaks)\", \"Route\": \"86 80-89 Coastal Express\", \"Period\": \"Offpeak\", \"Direction\": \"Westbound\", \"Direction (0/1)\": 0, \"# Realtime Trips\": 1, \"variable\": \"# Early Arrival Trips\", \"value\": 0, \"Percentage\": 0.0}, {\"Date\": \"2023-10-11T00:00:00\", \"Portfolio Organization Name\": \"Ventura County (VCTC, Gold Coast, Cities of Camarillo, Moorpark, Ojai, Simi Valley, Thousand Oaks)\", \"Route\": \"86 80-89 Coastal Express\", \"Period\": \"Offpeak\", \"Direction\": \"Westbound\", \"Direction (0/1)\": 0, \"# Realtime Trips\": 2, \"variable\": \"# Early Arrival Trips\", \"value\": 0, \"Percentage\": 0.0}, {\"Date\": \"2023-11-15T00:00:00\", \"Portfolio Organization Name\": \"Ventura County (VCTC, Gold Coast, Cities of Camarillo, Moorpark, Ojai, Simi Valley, Thousand Oaks)\", \"Route\": \"86 80-89 Coastal Express\", \"Period\": \"Offpeak\", \"Direction\": \"Westbound\", \"Direction (0/1)\": 0, \"# Realtime Trips\": 2, \"variable\": \"# Early Arrival Trips\", \"value\": 0, \"Percentage\": 0.0}, {\"Date\": \"2023-12-13T00:00:00\", \"Portfolio Organization Name\": \"Ventura County (VCTC, Gold Coast, Cities of Camarillo, Moorpark, Ojai, Simi Valley, Thousand Oaks)\", \"Route\": \"86 80-89 Coastal Express\", \"Period\": \"Offpeak\", \"Direction\": \"Westbound\", \"Direction (0/1)\": 0, \"# Realtime Trips\": 2, \"variable\": \"# Early Arrival Trips\", \"value\": 0, \"Percentage\": 0.0}, {\"Date\": \"2024-01-17T00:00:00\", \"Portfolio Organization Name\": \"Ventura County (VCTC, Gold Coast, Cities of Camarillo, Moorpark, Ojai, Simi Valley, Thousand Oaks)\", \"Route\": \"86 80-89 Coastal Express\", \"Period\": \"Offpeak\", \"Direction\": \"Westbound\", \"Direction (0/1)\": 0, \"# Realtime Trips\": 2, \"variable\": \"# Early Arrival Trips\", \"value\": 0, \"Percentage\": 0.0}, {\"Date\": \"2024-02-14T00:00:00\", \"Portfolio Organization Name\": \"Ventura County (VCTC, Gold Coast, Cities of Camarillo, Moorpark, Ojai, Simi Valley, Thousand Oaks)\", \"Route\": \"86 80-89 Coastal Express\", \"Period\": \"Offpeak\", \"Direction\": \"Westbound\", \"Direction (0/1)\": 0, \"# Realtime Trips\": 1, \"variable\": \"# Early Arrival Trips\", \"value\": 0, \"Percentage\": 0.0}, {\"Date\": \"2024-03-13T00:00:00\", \"Portfolio Organization Name\": \"Ventura County (VCTC, Gold Coast, Cities of Camarillo, Moorpark, Ojai, Simi Valley, Thousand Oaks)\", \"Route\": \"86 80-89 Coastal Express\", \"Period\": \"Offpeak\", \"Direction\": \"Westbound\", \"Direction (0/1)\": 0, \"# Realtime Trips\": 2, \"variable\": \"# Early Arrival Trips\", \"value\": 1, \"Percentage\": 50.0}, {\"Date\": \"2024-04-17T00:00:00\", \"Portfolio Organization Name\": \"Ventura County (VCTC, Gold Coast, Cities of Camarillo, Moorpark, Ojai, Simi Valley, Thousand Oaks)\", \"Route\": \"86 80-89 Coastal Express\", \"Period\": \"Offpeak\", \"Direction\": \"Westbound\", \"Direction (0/1)\": 0, \"# Realtime Trips\": 2, \"variable\": \"# Early Arrival Trips\", \"value\": 1, \"Percentage\": 50.0}, {\"Date\": \"2024-05-22T00:00:00\", \"Portfolio Organization Name\": \"Ventura County (VCTC, Gold Coast, Cities of Camarillo, Moorpark, Ojai, Simi Valley, Thousand Oaks)\", \"Route\": \"86 80-89 Coastal Express\", \"Period\": \"Offpeak\", \"Direction\": \"Westbound\", \"Direction (0/1)\": 0, \"# Realtime Trips\": 2, \"variable\": \"# Early Arrival Trips\", \"value\": 1, \"Percentage\": 50.0}, {\"Date\": \"2024-06-12T00:00:00\", \"Portfolio Organization Name\": \"Ventura County (VCTC, Gold Coast, Cities of Camarillo, Moorpark, Ojai, Simi Valley, Thousand Oaks)\", \"Route\": \"86 80-89 Coastal Express\", \"Period\": \"Offpeak\", \"Direction\": \"Westbound\", \"Direction (0/1)\": 0, \"# Realtime Trips\": 1, \"variable\": \"# Early Arrival Trips\", \"value\": 0, \"Percentage\": 0.0}, {\"Date\": \"2024-07-17T00:00:00\", \"Portfolio Organization Name\": \"Ventura County (VCTC, Gold Coast, Cities of Camarillo, Moorpark, Ojai, Simi Valley, Thousand Oaks)\", \"Route\": \"86 80-89 Coastal Express\", \"Period\": \"Offpeak\", \"Direction\": \"Westbound\", \"Direction (0/1)\": 0, \"# Realtime Trips\": 2, \"variable\": \"# Early Arrival Trips\", \"value\": 1, \"Percentage\": 50.0}, {\"Date\": \"2024-08-14T00:00:00\", \"Portfolio Organization Name\": \"Ventura County (VCTC, Gold Coast, Cities of Camarillo, Moorpark, Ojai, Simi Valley, Thousand Oaks)\", \"Route\": \"86 80-89 Coastal Express\", \"Period\": \"Offpeak\", \"Direction\": \"Westbound\", \"Direction (0/1)\": 0, \"# Realtime Trips\": 2, \"variable\": \"# Early Arrival Trips\", \"value\": 0, \"Percentage\": 0.0}, {\"Date\": \"2024-09-18T00:00:00\", \"Portfolio Organization Name\": \"Ventura County (VCTC, Gold Coast, Cities of Camarillo, Moorpark, Ojai, Simi Valley, Thousand Oaks)\", \"Route\": \"86 80-89 Coastal Express\", \"Period\": \"Offpeak\", \"Direction\": \"Westbound\", \"Direction (0/1)\": 0, \"# Realtime Trips\": 2, \"variable\": \"# Early Arrival Trips\", \"value\": 2, \"Percentage\": 100.0}, {\"Date\": \"2024-10-16T00:00:00\", \"Portfolio Organization Name\": \"Ventura County (VCTC, Gold Coast, Cities of Camarillo, Moorpark, Ojai, Simi Valley, Thousand Oaks)\", \"Route\": \"86 80-89 Coastal Express\", \"Period\": \"Offpeak\", \"Direction\": \"Westbound\", \"Direction (0/1)\": 0, \"# Realtime Trips\": 2, \"variable\": \"# Early Arrival Trips\", \"value\": 2, \"Percentage\": 100.0}, {\"Date\": \"2024-11-13T00:00:00\", \"Portfolio Organization Name\": \"Ventura County (VCTC, Gold Coast, Cities of Camarillo, Moorpark, Ojai, Simi Valley, Thousand Oaks)\", \"Route\": \"86 80-89 Coastal Express\", \"Period\": \"Offpeak\", \"Direction\": \"Westbound\", \"Direction (0/1)\": 0, \"# Realtime Trips\": 2, \"variable\": \"# Early Arrival Trips\", \"value\": 0, \"Percentage\": 0.0}, {\"Date\": \"2024-12-11T00:00:00\", \"Portfolio Organization Name\": \"Ventura County (VCTC, Gold Coast, Cities of Camarillo, Moorpark, Ojai, Simi Valley, Thousand Oaks)\", \"Route\": \"86 80-89 Coastal Express\", \"Period\": \"Offpeak\", \"Direction\": \"Westbound\", \"Direction (0/1)\": 0, \"# Realtime Trips\": 2, \"variable\": \"# Early Arrival Trips\", \"value\": 1, \"Percentage\": 50.0}, {\"Date\": \"2025-01-15T00:00:00\", \"Portfolio Organization Name\": \"Ventura County (VCTC, Gold Coast, Cities of Camarillo, Moorpark, Ojai, Simi Valley, Thousand Oaks)\", \"Route\": \"86 80-89 Coastal Express\", \"Period\": \"Offpeak\", \"Direction\": \"Westbound\", \"Direction (0/1)\": 0, \"# Realtime Trips\": 2, \"variable\": \"# Early Arrival Trips\", \"value\": 1, \"Percentage\": 50.0}, {\"Date\": \"2025-02-12T00:00:00\", \"Portfolio Organization Name\": \"Ventura County (VCTC, Gold Coast, Cities of Camarillo, Moorpark, Ojai, Simi Valley, Thousand Oaks)\", \"Route\": \"86 80-89 Coastal Express\", \"Period\": \"Offpeak\", \"Direction\": \"Westbound\", \"Direction (0/1)\": 0, \"# Realtime Trips\": 2, \"variable\": \"# Early Arrival Trips\", \"value\": 1, \"Percentage\": 50.0}, {\"Date\": \"2025-03-12T00:00:00\", \"Portfolio Organization Name\": \"Ventura County (VCTC, Gold Coast, Cities of Camarillo, Moorpark, Ojai, Simi Valley, Thousand Oaks)\", \"Route\": \"86 80-89 Coastal Express\", \"Period\": \"Offpeak\", \"Direction\": \"Westbound\", \"Direction (0/1)\": 0, \"# Realtime Trips\": 2, \"variable\": \"# Early Arrival Trips\", \"value\": 1, \"Percentage\": 50.0}, {\"Date\": \"2025-04-16T00:00:00\", \"Portfolio Organization Name\": \"Ventura County (VCTC, Gold Coast, Cities of Camarillo, Moorpark, Ojai, Simi Valley, Thousand Oaks)\", \"Route\": \"86 80-89 Coastal Express\", \"Period\": \"Offpeak\", \"Direction\": \"Westbound\", \"Direction (0/1)\": 0, \"# Realtime Trips\": 1, \"variable\": \"# Early Arrival Trips\", \"value\": 0, \"Percentage\": 0.0}, {\"Date\": \"2025-05-14T00:00:00\", \"Portfolio Organization Name\": \"Ventura County (VCTC, Gold Coast, Cities of Camarillo, Moorpark, Ojai, Simi Valley, Thousand Oaks)\", \"Route\": \"86 80-89 Coastal Express\", \"Period\": \"Offpeak\", \"Direction\": \"Westbound\", \"Direction (0/1)\": 0, \"# Realtime Trips\": 2, \"variable\": \"# Early Arrival Trips\", \"value\": 0, \"Percentage\": 0.0}, {\"Date\": \"2023-04-12T00:00:00\", \"Portfolio Organization Name\": \"Ventura County (VCTC, Gold Coast, Cities of Camarillo, Moorpark, Ojai, Simi Valley, Thousand Oaks)\", \"Route\": \"86 80-89 Coastal Express\", \"Period\": \"All Day\", \"Direction\": \"Eastbound\", \"Direction (0/1)\": 1, \"# Realtime Trips\": 2, \"variable\": \"# Early Arrival Trips\", \"value\": 0, \"Percentage\": 0.0}, {\"Date\": \"2023-06-14T00:00:00\", \"Portfolio Organization Name\": \"Ventura County (VCTC, Gold Coast, Cities of Camarillo, Moorpark, Ojai, Simi Valley, Thousand Oaks)\", \"Route\": \"86 80-89 Coastal Express\", \"Period\": \"All Day\", \"Direction\": \"Eastbound\", \"Direction (0/1)\": 1, \"# Realtime Trips\": 2, \"variable\": \"# Early Arrival Trips\", \"value\": 1, \"Percentage\": 50.0}, {\"Date\": \"2023-07-12T00:00:00\", \"Portfolio Organization Name\": \"Ventura County (VCTC, Gold Coast, Cities of Camarillo, Moorpark, Ojai, Simi Valley, Thousand Oaks)\", \"Route\": \"86 80-89 Coastal Express\", \"Period\": \"All Day\", \"Direction\": \"Eastbound\", \"Direction (0/1)\": 1, \"# Realtime Trips\": 1, \"variable\": \"# Early Arrival Trips\", \"value\": 0, \"Percentage\": 0.0}, {\"Date\": \"2023-08-15T00:00:00\", \"Portfolio Organization Name\": \"Ventura County (VCTC, Gold Coast, Cities of Camarillo, Moorpark, Ojai, Simi Valley, Thousand Oaks)\", \"Route\": \"86 80-89 Coastal Express\", \"Period\": \"All Day\", \"Direction\": \"Eastbound\", \"Direction (0/1)\": 1, \"# Realtime Trips\": 1, \"variable\": \"# Early Arrival Trips\", \"value\": 0, \"Percentage\": 0.0}, {\"Date\": \"2023-09-13T00:00:00\", \"Portfolio Organization Name\": \"Ventura County (VCTC, Gold Coast, Cities of Camarillo, Moorpark, Ojai, Simi Valley, Thousand Oaks)\", \"Route\": \"86 80-89 Coastal Express\", \"Period\": \"All Day\", \"Direction\": \"Eastbound\", \"Direction (0/1)\": 1, \"# Realtime Trips\": 2, \"variable\": \"# Early Arrival Trips\", \"value\": 0, \"Percentage\": 0.0}, {\"Date\": \"2023-10-11T00:00:00\", \"Portfolio Organization Name\": \"Ventura County (VCTC, Gold Coast, Cities of Camarillo, Moorpark, Ojai, Simi Valley, Thousand Oaks)\", \"Route\": \"86 80-89 Coastal Express\", \"Period\": \"All Day\", \"Direction\": \"Eastbound\", \"Direction (0/1)\": 1, \"# Realtime Trips\": 1, \"variable\": \"# Early Arrival Trips\", \"value\": 0, \"Percentage\": 0.0}, {\"Date\": \"2023-11-15T00:00:00\", \"Portfolio Organization Name\": \"Ventura County (VCTC, Gold Coast, Cities of Camarillo, Moorpark, Ojai, Simi Valley, Thousand Oaks)\", \"Route\": \"86 80-89 Coastal Express\", \"Period\": \"All Day\", \"Direction\": \"Eastbound\", \"Direction (0/1)\": 1, \"# Realtime Trips\": 2, \"variable\": \"# Early Arrival Trips\", \"value\": 0, \"Percentage\": 0.0}, {\"Date\": \"2024-01-17T00:00:00\", \"Portfolio Organization Name\": \"Ventura County (VCTC, Gold Coast, Cities of Camarillo, Moorpark, Ojai, Simi Valley, Thousand Oaks)\", \"Route\": \"86 80-89 Coastal Express\", \"Period\": \"All Day\", \"Direction\": \"Eastbound\", \"Direction (0/1)\": 1, \"# Realtime Trips\": 1, \"variable\": \"# Early Arrival Trips\", \"value\": 0, \"Percentage\": 0.0}, {\"Date\": \"2024-02-14T00:00:00\", \"Portfolio Organization Name\": \"Ventura County (VCTC, Gold Coast, Cities of Camarillo, Moorpark, Ojai, Simi Valley, Thousand Oaks)\", \"Route\": \"86 80-89 Coastal Express\", \"Period\": \"All Day\", \"Direction\": \"Eastbound\", \"Direction (0/1)\": 1, \"# Realtime Trips\": 1, \"variable\": \"# Early Arrival Trips\", \"value\": 0, \"Percentage\": 0.0}, {\"Date\": \"2024-03-13T00:00:00\", \"Portfolio Organization Name\": \"Ventura County (VCTC, Gold Coast, Cities of Camarillo, Moorpark, Ojai, Simi Valley, Thousand Oaks)\", \"Route\": \"86 80-89 Coastal Express\", \"Period\": \"All Day\", \"Direction\": \"Eastbound\", \"Direction (0/1)\": 1, \"# Realtime Trips\": 2, \"variable\": \"# Early Arrival Trips\", \"value\": 0, \"Percentage\": 0.0}, {\"Date\": \"2024-04-17T00:00:00\", \"Portfolio Organization Name\": \"Ventura County (VCTC, Gold Coast, Cities of Camarillo, Moorpark, Ojai, Simi Valley, Thousand Oaks)\", \"Route\": \"86 80-89 Coastal Express\", \"Period\": \"All Day\", \"Direction\": \"Eastbound\", \"Direction (0/1)\": 1, \"# Realtime Trips\": 2, \"variable\": \"# Early Arrival Trips\", \"value\": 0, \"Percentage\": 0.0}, {\"Date\": \"2024-05-22T00:00:00\", \"Portfolio Organization Name\": \"Ventura County (VCTC, Gold Coast, Cities of Camarillo, Moorpark, Ojai, Simi Valley, Thousand Oaks)\", \"Route\": \"86 80-89 Coastal Express\", \"Period\": \"All Day\", \"Direction\": \"Eastbound\", \"Direction (0/1)\": 1, \"# Realtime Trips\": 2, \"variable\": \"# Early Arrival Trips\", \"value\": 0, \"Percentage\": 0.0}, {\"Date\": \"2024-06-12T00:00:00\", \"Portfolio Organization Name\": \"Ventura County (VCTC, Gold Coast, Cities of Camarillo, Moorpark, Ojai, Simi Valley, Thousand Oaks)\", \"Route\": \"86 80-89 Coastal Express\", \"Period\": \"All Day\", \"Direction\": \"Eastbound\", \"Direction (0/1)\": 1, \"# Realtime Trips\": 2, \"variable\": \"# Early Arrival Trips\", \"value\": 0, \"Percentage\": 0.0}, {\"Date\": \"2024-07-17T00:00:00\", \"Portfolio Organization Name\": \"Ventura County (VCTC, Gold Coast, Cities of Camarillo, Moorpark, Ojai, Simi Valley, Thousand Oaks)\", \"Route\": \"86 80-89 Coastal Express\", \"Period\": \"All Day\", \"Direction\": \"Eastbound\", \"Direction (0/1)\": 1, \"# Realtime Trips\": 2, \"variable\": \"# Early Arrival Trips\", \"value\": 0, \"Percentage\": 0.0}, {\"Date\": \"2024-08-14T00:00:00\", \"Portfolio Organization Name\": \"Ventura County (VCTC, Gold Coast, Cities of Camarillo, Moorpark, Ojai, Simi Valley, Thousand Oaks)\", \"Route\": \"86 80-89 Coastal Express\", \"Period\": \"All Day\", \"Direction\": \"Eastbound\", \"Direction (0/1)\": 1, \"# Realtime Trips\": 1, \"variable\": \"# Early Arrival Trips\", \"value\": 0, \"Percentage\": 0.0}, {\"Date\": \"2024-09-18T00:00:00\", \"Portfolio Organization Name\": \"Ventura County (VCTC, Gold Coast, Cities of Camarillo, Moorpark, Ojai, Simi Valley, Thousand Oaks)\", \"Route\": \"86 80-89 Coastal Express\", \"Period\": \"All Day\", \"Direction\": \"Eastbound\", \"Direction (0/1)\": 1, \"# Realtime Trips\": 2, \"variable\": \"# Early Arrival Trips\", \"value\": 0, \"Percentage\": 0.0}, {\"Date\": \"2024-10-16T00:00:00\", \"Portfolio Organization Name\": \"Ventura County (VCTC, Gold Coast, Cities of Camarillo, Moorpark, Ojai, Simi Valley, Thousand Oaks)\", \"Route\": \"86 80-89 Coastal Express\", \"Period\": \"All Day\", \"Direction\": \"Eastbound\", \"Direction (0/1)\": 1, \"# Realtime Trips\": 2, \"variable\": \"# Early Arrival Trips\", \"value\": 1, \"Percentage\": 50.0}, {\"Date\": \"2024-11-13T00:00:00\", \"Portfolio Organization Name\": \"Ventura County (VCTC, Gold Coast, Cities of Camarillo, Moorpark, Ojai, Simi Valley, Thousand Oaks)\", \"Route\": \"86 80-89 Coastal Express\", \"Period\": \"All Day\", \"Direction\": \"Eastbound\", \"Direction (0/1)\": 1, \"# Realtime Trips\": 2, \"variable\": \"# Early Arrival Trips\", \"value\": 0, \"Percentage\": 0.0}, {\"Date\": \"2024-12-11T00:00:00\", \"Portfolio Organization Name\": \"Ventura County (VCTC, Gold Coast, Cities of Camarillo, Moorpark, Ojai, Simi Valley, Thousand Oaks)\", \"Route\": \"86 80-89 Coastal Express\", \"Period\": \"All Day\", \"Direction\": \"Eastbound\", \"Direction (0/1)\": 1, \"# Realtime Trips\": 2, \"variable\": \"# Early Arrival Trips\", \"value\": 0, \"Percentage\": 0.0}, {\"Date\": \"2025-01-15T00:00:00\", \"Portfolio Organization Name\": \"Ventura County (VCTC, Gold Coast, Cities of Camarillo, Moorpark, Ojai, Simi Valley, Thousand Oaks)\", \"Route\": \"86 80-89 Coastal Express\", \"Period\": \"All Day\", \"Direction\": \"Eastbound\", \"Direction (0/1)\": 1, \"# Realtime Trips\": 2, \"variable\": \"# Early Arrival Trips\", \"value\": 0, \"Percentage\": 0.0}, {\"Date\": \"2025-02-12T00:00:00\", \"Portfolio Organization Name\": \"Ventura County (VCTC, Gold Coast, Cities of Camarillo, Moorpark, Ojai, Simi Valley, Thousand Oaks)\", \"Route\": \"86 80-89 Coastal Express\", \"Period\": \"All Day\", \"Direction\": \"Eastbound\", \"Direction (0/1)\": 1, \"# Realtime Trips\": 2, \"variable\": \"# Early Arrival Trips\", \"value\": 0, \"Percentage\": 0.0}, {\"Date\": \"2025-03-12T00:00:00\", \"Portfolio Organization Name\": \"Ventura County (VCTC, Gold Coast, Cities of Camarillo, Moorpark, Ojai, Simi Valley, Thousand Oaks)\", \"Route\": \"86 80-89 Coastal Express\", \"Period\": \"All Day\", \"Direction\": \"Eastbound\", \"Direction (0/1)\": 1, \"# Realtime Trips\": 2, \"variable\": \"# Early Arrival Trips\", \"value\": 0, \"Percentage\": 0.0}, {\"Date\": \"2025-04-16T00:00:00\", \"Portfolio Organization Name\": \"Ventura County (VCTC, Gold Coast, Cities of Camarillo, Moorpark, Ojai, Simi Valley, Thousand Oaks)\", \"Route\": \"86 80-89 Coastal Express\", \"Period\": \"All Day\", \"Direction\": \"Eastbound\", \"Direction (0/1)\": 1, \"# Realtime Trips\": 2, \"variable\": \"# Early Arrival Trips\", \"value\": 0, \"Percentage\": 0.0}, {\"Date\": \"2025-05-14T00:00:00\", \"Portfolio Organization Name\": \"Ventura County (VCTC, Gold Coast, Cities of Camarillo, Moorpark, Ojai, Simi Valley, Thousand Oaks)\", \"Route\": \"86 80-89 Coastal Express\", \"Period\": \"All Day\", \"Direction\": \"Eastbound\", \"Direction (0/1)\": 1, \"# Realtime Trips\": 2, \"variable\": \"# Early Arrival Trips\", \"value\": 0, \"Percentage\": 0.0}, {\"Date\": \"2023-04-12T00:00:00\", \"Portfolio Organization Name\": \"Ventura County (VCTC, Gold Coast, Cities of Camarillo, Moorpark, Ojai, Simi Valley, Thousand Oaks)\", \"Route\": \"86 80-89 Coastal Express\", \"Period\": \"Peak\", \"Direction\": \"Eastbound\", \"Direction (0/1)\": 1, \"# Realtime Trips\": 2, \"variable\": \"# Early Arrival Trips\", \"value\": 0, \"Percentage\": 0.0}, {\"Date\": \"2023-06-14T00:00:00\", \"Portfolio Organization Name\": \"Ventura County (VCTC, Gold Coast, Cities of Camarillo, Moorpark, Ojai, Simi Valley, Thousand Oaks)\", \"Route\": \"86 80-89 Coastal Express\", \"Period\": \"Peak\", \"Direction\": \"Eastbound\", \"Direction (0/1)\": 1, \"# Realtime Trips\": 2, \"variable\": \"# Early Arrival Trips\", \"value\": 1, \"Percentage\": 50.0}, {\"Date\": \"2023-07-12T00:00:00\", \"Portfolio Organization Name\": \"Ventura County (VCTC, Gold Coast, Cities of Camarillo, Moorpark, Ojai, Simi Valley, Thousand Oaks)\", \"Route\": \"86 80-89 Coastal Express\", \"Period\": \"Peak\", \"Direction\": \"Eastbound\", \"Direction (0/1)\": 1, \"# Realtime Trips\": 1, \"variable\": \"# Early Arrival Trips\", \"value\": 0, \"Percentage\": 0.0}, {\"Date\": \"2023-08-15T00:00:00\", \"Portfolio Organization Name\": \"Ventura County (VCTC, Gold Coast, Cities of Camarillo, Moorpark, Ojai, Simi Valley, Thousand Oaks)\", \"Route\": \"86 80-89 Coastal Express\", \"Period\": \"Peak\", \"Direction\": \"Eastbound\", \"Direction (0/1)\": 1, \"# Realtime Trips\": 1, \"variable\": \"# Early Arrival Trips\", \"value\": 0, \"Percentage\": 0.0}, {\"Date\": \"2023-09-13T00:00:00\", \"Portfolio Organization Name\": \"Ventura County (VCTC, Gold Coast, Cities of Camarillo, Moorpark, Ojai, Simi Valley, Thousand Oaks)\", \"Route\": \"86 80-89 Coastal Express\", \"Period\": \"Peak\", \"Direction\": \"Eastbound\", \"Direction (0/1)\": 1, \"# Realtime Trips\": 2, \"variable\": \"# Early Arrival Trips\", \"value\": 0, \"Percentage\": 0.0}, {\"Date\": \"2023-10-11T00:00:00\", \"Portfolio Organization Name\": \"Ventura County (VCTC, Gold Coast, Cities of Camarillo, Moorpark, Ojai, Simi Valley, Thousand Oaks)\", \"Route\": \"86 80-89 Coastal Express\", \"Period\": \"Peak\", \"Direction\": \"Eastbound\", \"Direction (0/1)\": 1, \"# Realtime Trips\": 1, \"variable\": \"# Early Arrival Trips\", \"value\": 0, \"Percentage\": 0.0}, {\"Date\": \"2023-11-15T00:00:00\", \"Portfolio Organization Name\": \"Ventura County (VCTC, Gold Coast, Cities of Camarillo, Moorpark, Ojai, Simi Valley, Thousand Oaks)\", \"Route\": \"86 80-89 Coastal Express\", \"Period\": \"Peak\", \"Direction\": \"Eastbound\", \"Direction (0/1)\": 1, \"# Realtime Trips\": 2, \"variable\": \"# Early Arrival Trips\", \"value\": 0, \"Percentage\": 0.0}, {\"Date\": \"2024-01-17T00:00:00\", \"Portfolio Organization Name\": \"Ventura County (VCTC, Gold Coast, Cities of Camarillo, Moorpark, Ojai, Simi Valley, Thousand Oaks)\", \"Route\": \"86 80-89 Coastal Express\", \"Period\": \"Peak\", \"Direction\": \"Eastbound\", \"Direction (0/1)\": 1, \"# Realtime Trips\": 1, \"variable\": \"# Early Arrival Trips\", \"value\": 0, \"Percentage\": 0.0}, {\"Date\": \"2024-02-14T00:00:00\", \"Portfolio Organization Name\": \"Ventura County (VCTC, Gold Coast, Cities of Camarillo, Moorpark, Ojai, Simi Valley, Thousand Oaks)\", \"Route\": \"86 80-89 Coastal Express\", \"Period\": \"Peak\", \"Direction\": \"Eastbound\", \"Direction (0/1)\": 1, \"# Realtime Trips\": 1, \"variable\": \"# Early Arrival Trips\", \"value\": 0, \"Percentage\": 0.0}, {\"Date\": \"2024-03-13T00:00:00\", \"Portfolio Organization Name\": \"Ventura County (VCTC, Gold Coast, Cities of Camarillo, Moorpark, Ojai, Simi Valley, Thousand Oaks)\", \"Route\": \"86 80-89 Coastal Express\", \"Period\": \"Peak\", \"Direction\": \"Eastbound\", \"Direction (0/1)\": 1, \"# Realtime Trips\": 2, \"variable\": \"# Early Arrival Trips\", \"value\": 0, \"Percentage\": 0.0}, {\"Date\": \"2024-04-17T00:00:00\", \"Portfolio Organization Name\": \"Ventura County (VCTC, Gold Coast, Cities of Camarillo, Moorpark, Ojai, Simi Valley, Thousand Oaks)\", \"Route\": \"86 80-89 Coastal Express\", \"Period\": \"Peak\", \"Direction\": \"Eastbound\", \"Direction (0/1)\": 1, \"# Realtime Trips\": 2, \"variable\": \"# Early Arrival Trips\", \"value\": 0, \"Percentage\": 0.0}, {\"Date\": \"2024-05-22T00:00:00\", \"Portfolio Organization Name\": \"Ventura County (VCTC, Gold Coast, Cities of Camarillo, Moorpark, Ojai, Simi Valley, Thousand Oaks)\", \"Route\": \"86 80-89 Coastal Express\", \"Period\": \"Peak\", \"Direction\": \"Eastbound\", \"Direction (0/1)\": 1, \"# Realtime Trips\": 2, \"variable\": \"# Early Arrival Trips\", \"value\": 0, \"Percentage\": 0.0}, {\"Date\": \"2024-06-12T00:00:00\", \"Portfolio Organization Name\": \"Ventura County (VCTC, Gold Coast, Cities of Camarillo, Moorpark, Ojai, Simi Valley, Thousand Oaks)\", \"Route\": \"86 80-89 Coastal Express\", \"Period\": \"Peak\", \"Direction\": \"Eastbound\", \"Direction (0/1)\": 1, \"# Realtime Trips\": 2, \"variable\": \"# Early Arrival Trips\", \"value\": 0, \"Percentage\": 0.0}, {\"Date\": \"2024-07-17T00:00:00\", \"Portfolio Organization Name\": \"Ventura County (VCTC, Gold Coast, Cities of Camarillo, Moorpark, Ojai, Simi Valley, Thousand Oaks)\", \"Route\": \"86 80-89 Coastal Express\", \"Period\": \"Peak\", \"Direction\": \"Eastbound\", \"Direction (0/1)\": 1, \"# Realtime Trips\": 2, \"variable\": \"# Early Arrival Trips\", \"value\": 0, \"Percentage\": 0.0}, {\"Date\": \"2024-08-14T00:00:00\", \"Portfolio Organization Name\": \"Ventura County (VCTC, Gold Coast, Cities of Camarillo, Moorpark, Ojai, Simi Valley, Thousand Oaks)\", \"Route\": \"86 80-89 Coastal Express\", \"Period\": \"Peak\", \"Direction\": \"Eastbound\", \"Direction (0/1)\": 1, \"# Realtime Trips\": 1, \"variable\": \"# Early Arrival Trips\", \"value\": 0, \"Percentage\": 0.0}, {\"Date\": \"2024-09-18T00:00:00\", \"Portfolio Organization Name\": \"Ventura County (VCTC, Gold Coast, Cities of Camarillo, Moorpark, Ojai, Simi Valley, Thousand Oaks)\", \"Route\": \"86 80-89 Coastal Express\", \"Period\": \"Peak\", \"Direction\": \"Eastbound\", \"Direction (0/1)\": 1, \"# Realtime Trips\": 2, \"variable\": \"# Early Arrival Trips\", \"value\": 0, \"Percentage\": 0.0}, {\"Date\": \"2024-10-16T00:00:00\", \"Portfolio Organization Name\": \"Ventura County (VCTC, Gold Coast, Cities of Camarillo, Moorpark, Ojai, Simi Valley, Thousand Oaks)\", \"Route\": \"86 80-89 Coastal Express\", \"Period\": \"Peak\", \"Direction\": \"Eastbound\", \"Direction (0/1)\": 1, \"# Realtime Trips\": 2, \"variable\": \"# Early Arrival Trips\", \"value\": 1, \"Percentage\": 50.0}, {\"Date\": \"2024-11-13T00:00:00\", \"Portfolio Organization Name\": \"Ventura County (VCTC, Gold Coast, Cities of Camarillo, Moorpark, Ojai, Simi Valley, Thousand Oaks)\", \"Route\": \"86 80-89 Coastal Express\", \"Period\": \"Peak\", \"Direction\": \"Eastbound\", \"Direction (0/1)\": 1, \"# Realtime Trips\": 2, \"variable\": \"# Early Arrival Trips\", \"value\": 0, \"Percentage\": 0.0}, {\"Date\": \"2024-12-11T00:00:00\", \"Portfolio Organization Name\": \"Ventura County (VCTC, Gold Coast, Cities of Camarillo, Moorpark, Ojai, Simi Valley, Thousand Oaks)\", \"Route\": \"86 80-89 Coastal Express\", \"Period\": \"Peak\", \"Direction\": \"Eastbound\", \"Direction (0/1)\": 1, \"# Realtime Trips\": 2, \"variable\": \"# Early Arrival Trips\", \"value\": 0, \"Percentage\": 0.0}, {\"Date\": \"2025-01-15T00:00:00\", \"Portfolio Organization Name\": \"Ventura County (VCTC, Gold Coast, Cities of Camarillo, Moorpark, Ojai, Simi Valley, Thousand Oaks)\", \"Route\": \"86 80-89 Coastal Express\", \"Period\": \"Peak\", \"Direction\": \"Eastbound\", \"Direction (0/1)\": 1, \"# Realtime Trips\": 2, \"variable\": \"# Early Arrival Trips\", \"value\": 0, \"Percentage\": 0.0}, {\"Date\": \"2025-02-12T00:00:00\", \"Portfolio Organization Name\": \"Ventura County (VCTC, Gold Coast, Cities of Camarillo, Moorpark, Ojai, Simi Valley, Thousand Oaks)\", \"Route\": \"86 80-89 Coastal Express\", \"Period\": \"Peak\", \"Direction\": \"Eastbound\", \"Direction (0/1)\": 1, \"# Realtime Trips\": 2, \"variable\": \"# Early Arrival Trips\", \"value\": 0, \"Percentage\": 0.0}, {\"Date\": \"2025-03-12T00:00:00\", \"Portfolio Organization Name\": \"Ventura County (VCTC, Gold Coast, Cities of Camarillo, Moorpark, Ojai, Simi Valley, Thousand Oaks)\", \"Route\": \"86 80-89 Coastal Express\", \"Period\": \"Peak\", \"Direction\": \"Eastbound\", \"Direction (0/1)\": 1, \"# Realtime Trips\": 2, \"variable\": \"# Early Arrival Trips\", \"value\": 0, \"Percentage\": 0.0}, {\"Date\": \"2025-04-16T00:00:00\", \"Portfolio Organization Name\": \"Ventura County (VCTC, Gold Coast, Cities of Camarillo, Moorpark, Ojai, Simi Valley, Thousand Oaks)\", \"Route\": \"86 80-89 Coastal Express\", \"Period\": \"Peak\", \"Direction\": \"Eastbound\", \"Direction (0/1)\": 1, \"# Realtime Trips\": 2, \"variable\": \"# Early Arrival Trips\", \"value\": 0, \"Percentage\": 0.0}, {\"Date\": \"2025-05-14T00:00:00\", \"Portfolio Organization Name\": \"Ventura County (VCTC, Gold Coast, Cities of Camarillo, Moorpark, Ojai, Simi Valley, Thousand Oaks)\", \"Route\": \"86 80-89 Coastal Express\", \"Period\": \"Peak\", \"Direction\": \"Eastbound\", \"Direction (0/1)\": 1, \"# Realtime Trips\": 2, \"variable\": \"# Early Arrival Trips\", \"value\": 0, \"Percentage\": 0.0}, {\"Date\": \"2023-04-12T00:00:00\", \"Portfolio Organization Name\": \"Ventura County (VCTC, Gold Coast, Cities of Camarillo, Moorpark, Ojai, Simi Valley, Thousand Oaks)\", \"Route\": \"86 80-89 Coastal Express\", \"Period\": \"All Day\", \"Direction\": \"Westbound\", \"Direction (0/1)\": 0, \"# Realtime Trips\": 2, \"variable\": \"# On-Time Trips\", \"value\": 2, \"Percentage\": 100.0}, {\"Date\": \"2023-06-14T00:00:00\", \"Portfolio Organization Name\": \"Ventura County (VCTC, Gold Coast, Cities of Camarillo, Moorpark, Ojai, Simi Valley, Thousand Oaks)\", \"Route\": \"86 80-89 Coastal Express\", \"Period\": \"All Day\", \"Direction\": \"Westbound\", \"Direction (0/1)\": 0, \"# Realtime Trips\": 2, \"variable\": \"# On-Time Trips\", \"value\": 1, \"Percentage\": 50.0}, {\"Date\": \"2023-07-12T00:00:00\", \"Portfolio Organization Name\": \"Ventura County (VCTC, Gold Coast, Cities of Camarillo, Moorpark, Ojai, Simi Valley, Thousand Oaks)\", \"Route\": \"86 80-89 Coastal Express\", \"Period\": \"All Day\", \"Direction\": \"Westbound\", \"Direction (0/1)\": 0, \"# Realtime Trips\": 2, \"variable\": \"# On-Time Trips\", \"value\": 2, \"Percentage\": 100.0}, {\"Date\": \"2023-08-15T00:00:00\", \"Portfolio Organization Name\": \"Ventura County (VCTC, Gold Coast, Cities of Camarillo, Moorpark, Ojai, Simi Valley, Thousand Oaks)\", \"Route\": \"86 80-89 Coastal Express\", \"Period\": \"All Day\", \"Direction\": \"Westbound\", \"Direction (0/1)\": 0, \"# Realtime Trips\": 2, \"variable\": \"# On-Time Trips\", \"value\": 0, \"Percentage\": 0.0}, {\"Date\": \"2023-09-13T00:00:00\", \"Portfolio Organization Name\": \"Ventura County (VCTC, Gold Coast, Cities of Camarillo, Moorpark, Ojai, Simi Valley, Thousand Oaks)\", \"Route\": \"86 80-89 Coastal Express\", \"Period\": \"All Day\", \"Direction\": \"Westbound\", \"Direction (0/1)\": 0, \"# Realtime Trips\": 1, \"variable\": \"# On-Time Trips\", \"value\": 1, \"Percentage\": 100.0}, {\"Date\": \"2023-10-11T00:00:00\", \"Portfolio Organization Name\": \"Ventura County (VCTC, Gold Coast, Cities of Camarillo, Moorpark, Ojai, Simi Valley, Thousand Oaks)\", \"Route\": \"86 80-89 Coastal Express\", \"Period\": \"All Day\", \"Direction\": \"Westbound\", \"Direction (0/1)\": 0, \"# Realtime Trips\": 2, \"variable\": \"# On-Time Trips\", \"value\": 0, \"Percentage\": 0.0}, {\"Date\": \"2023-11-15T00:00:00\", \"Portfolio Organization Name\": \"Ventura County (VCTC, Gold Coast, Cities of Camarillo, Moorpark, Ojai, Simi Valley, Thousand Oaks)\", \"Route\": \"86 80-89 Coastal Express\", \"Period\": \"All Day\", \"Direction\": \"Westbound\", \"Direction (0/1)\": 0, \"# Realtime Trips\": 2, \"variable\": \"# On-Time Trips\", \"value\": 0, \"Percentage\": 0.0}, {\"Date\": \"2023-12-13T00:00:00\", \"Portfolio Organization Name\": \"Ventura County (VCTC, Gold Coast, Cities of Camarillo, Moorpark, Ojai, Simi Valley, Thousand Oaks)\", \"Route\": \"86 80-89 Coastal Express\", \"Period\": \"All Day\", \"Direction\": \"Westbound\", \"Direction (0/1)\": 0, \"# Realtime Trips\": 2, \"variable\": \"# On-Time Trips\", \"value\": 1, \"Percentage\": 50.0}, {\"Date\": \"2024-01-17T00:00:00\", \"Portfolio Organization Name\": \"Ventura County (VCTC, Gold Coast, Cities of Camarillo, Moorpark, Ojai, Simi Valley, Thousand Oaks)\", \"Route\": \"86 80-89 Coastal Express\", \"Period\": \"All Day\", \"Direction\": \"Westbound\", \"Direction (0/1)\": 0, \"# Realtime Trips\": 2, \"variable\": \"# On-Time Trips\", \"value\": 0, \"Percentage\": 0.0}, {\"Date\": \"2024-02-14T00:00:00\", \"Portfolio Organization Name\": \"Ventura County (VCTC, Gold Coast, Cities of Camarillo, Moorpark, Ojai, Simi Valley, Thousand Oaks)\", \"Route\": \"86 80-89 Coastal Express\", \"Period\": \"All Day\", \"Direction\": \"Westbound\", \"Direction (0/1)\": 0, \"# Realtime Trips\": 1, \"variable\": \"# On-Time Trips\", \"value\": 0, \"Percentage\": 0.0}, {\"Date\": \"2024-03-13T00:00:00\", \"Portfolio Organization Name\": \"Ventura County (VCTC, Gold Coast, Cities of Camarillo, Moorpark, Ojai, Simi Valley, Thousand Oaks)\", \"Route\": \"86 80-89 Coastal Express\", \"Period\": \"All Day\", \"Direction\": \"Westbound\", \"Direction (0/1)\": 0, \"# Realtime Trips\": 2, \"variable\": \"# On-Time Trips\", \"value\": 0, \"Percentage\": 0.0}, {\"Date\": \"2024-04-17T00:00:00\", \"Portfolio Organization Name\": \"Ventura County (VCTC, Gold Coast, Cities of Camarillo, Moorpark, Ojai, Simi Valley, Thousand Oaks)\", \"Route\": \"86 80-89 Coastal Express\", \"Period\": \"All Day\", \"Direction\": \"Westbound\", \"Direction (0/1)\": 0, \"# Realtime Trips\": 2, \"variable\": \"# On-Time Trips\", \"value\": 0, \"Percentage\": 0.0}, {\"Date\": \"2024-05-22T00:00:00\", \"Portfolio Organization Name\": \"Ventura County (VCTC, Gold Coast, Cities of Camarillo, Moorpark, Ojai, Simi Valley, Thousand Oaks)\", \"Route\": \"86 80-89 Coastal Express\", \"Period\": \"All Day\", \"Direction\": \"Westbound\", \"Direction (0/1)\": 0, \"# Realtime Trips\": 2, \"variable\": \"# On-Time Trips\", \"value\": 1, \"Percentage\": 50.0}, {\"Date\": \"2024-06-12T00:00:00\", \"Portfolio Organization Name\": \"Ventura County (VCTC, Gold Coast, Cities of Camarillo, Moorpark, Ojai, Simi Valley, Thousand Oaks)\", \"Route\": \"86 80-89 Coastal Express\", \"Period\": \"All Day\", \"Direction\": \"Westbound\", \"Direction (0/1)\": 0, \"# Realtime Trips\": 1, \"variable\": \"# On-Time Trips\", \"value\": 1, \"Percentage\": 100.0}, {\"Date\": \"2024-07-17T00:00:00\", \"Portfolio Organization Name\": \"Ventura County (VCTC, Gold Coast, Cities of Camarillo, Moorpark, Ojai, Simi Valley, Thousand Oaks)\", \"Route\": \"86 80-89 Coastal Express\", \"Period\": \"All Day\", \"Direction\": \"Westbound\", \"Direction (0/1)\": 0, \"# Realtime Trips\": 2, \"variable\": \"# On-Time Trips\", \"value\": 0, \"Percentage\": 0.0}, {\"Date\": \"2024-08-14T00:00:00\", \"Portfolio Organization Name\": \"Ventura County (VCTC, Gold Coast, Cities of Camarillo, Moorpark, Ojai, Simi Valley, Thousand Oaks)\", \"Route\": \"86 80-89 Coastal Express\", \"Period\": \"All Day\", \"Direction\": \"Westbound\", \"Direction (0/1)\": 0, \"# Realtime Trips\": 2, \"variable\": \"# On-Time Trips\", \"value\": 2, \"Percentage\": 100.0}, {\"Date\": \"2024-09-18T00:00:00\", \"Portfolio Organization Name\": \"Ventura County (VCTC, Gold Coast, Cities of Camarillo, Moorpark, Ojai, Simi Valley, Thousand Oaks)\", \"Route\": \"86 80-89 Coastal Express\", \"Period\": \"All Day\", \"Direction\": \"Westbound\", \"Direction (0/1)\": 0, \"# Realtime Trips\": 2, \"variable\": \"# On-Time Trips\", \"value\": 0, \"Percentage\": 0.0}, {\"Date\": \"2024-10-16T00:00:00\", \"Portfolio Organization Name\": \"Ventura County (VCTC, Gold Coast, Cities of Camarillo, Moorpark, Ojai, Simi Valley, Thousand Oaks)\", \"Route\": \"86 80-89 Coastal Express\", \"Period\": \"All Day\", \"Direction\": \"Westbound\", \"Direction (0/1)\": 0, \"# Realtime Trips\": 2, \"variable\": \"# On-Time Trips\", \"value\": 0, \"Percentage\": 0.0}, {\"Date\": \"2024-11-13T00:00:00\", \"Portfolio Organization Name\": \"Ventura County (VCTC, Gold Coast, Cities of Camarillo, Moorpark, Ojai, Simi Valley, Thousand Oaks)\", \"Route\": \"86 80-89 Coastal Express\", \"Period\": \"All Day\", \"Direction\": \"Westbound\", \"Direction (0/1)\": 0, \"# Realtime Trips\": 2, \"variable\": \"# On-Time Trips\", \"value\": 0, \"Percentage\": 0.0}, {\"Date\": \"2024-12-11T00:00:00\", \"Portfolio Organization Name\": \"Ventura County (VCTC, Gold Coast, Cities of Camarillo, Moorpark, Ojai, Simi Valley, Thousand Oaks)\", \"Route\": \"86 80-89 Coastal Express\", \"Period\": \"All Day\", \"Direction\": \"Westbound\", \"Direction (0/1)\": 0, \"# Realtime Trips\": 2, \"variable\": \"# On-Time Trips\", \"value\": 0, \"Percentage\": 0.0}, {\"Date\": \"2025-01-15T00:00:00\", \"Portfolio Organization Name\": \"Ventura County (VCTC, Gold Coast, Cities of Camarillo, Moorpark, Ojai, Simi Valley, Thousand Oaks)\", \"Route\": \"86 80-89 Coastal Express\", \"Period\": \"All Day\", \"Direction\": \"Westbound\", \"Direction (0/1)\": 0, \"# Realtime Trips\": 2, \"variable\": \"# On-Time Trips\", \"value\": 0, \"Percentage\": 0.0}, {\"Date\": \"2025-02-12T00:00:00\", \"Portfolio Organization Name\": \"Ventura County (VCTC, Gold Coast, Cities of Camarillo, Moorpark, Ojai, Simi Valley, Thousand Oaks)\", \"Route\": \"86 80-89 Coastal Express\", \"Period\": \"All Day\", \"Direction\": \"Westbound\", \"Direction (0/1)\": 0, \"# Realtime Trips\": 2, \"variable\": \"# On-Time Trips\", \"value\": 0, \"Percentage\": 0.0}, {\"Date\": \"2025-03-12T00:00:00\", \"Portfolio Organization Name\": \"Ventura County (VCTC, Gold Coast, Cities of Camarillo, Moorpark, Ojai, Simi Valley, Thousand Oaks)\", \"Route\": \"86 80-89 Coastal Express\", \"Period\": \"All Day\", \"Direction\": \"Westbound\", \"Direction (0/1)\": 0, \"# Realtime Trips\": 2, \"variable\": \"# On-Time Trips\", \"value\": 0, \"Percentage\": 0.0}, {\"Date\": \"2025-04-16T00:00:00\", \"Portfolio Organization Name\": \"Ventura County (VCTC, Gold Coast, Cities of Camarillo, Moorpark, Ojai, Simi Valley, Thousand Oaks)\", \"Route\": \"86 80-89 Coastal Express\", \"Period\": \"All Day\", \"Direction\": \"Westbound\", \"Direction (0/1)\": 0, \"# Realtime Trips\": 1, \"variable\": \"# On-Time Trips\", \"value\": 1, \"Percentage\": 100.0}, {\"Date\": \"2025-05-14T00:00:00\", \"Portfolio Organization Name\": \"Ventura County (VCTC, Gold Coast, Cities of Camarillo, Moorpark, Ojai, Simi Valley, Thousand Oaks)\", \"Route\": \"86 80-89 Coastal Express\", \"Period\": \"All Day\", \"Direction\": \"Westbound\", \"Direction (0/1)\": 0, \"# Realtime Trips\": 2, \"variable\": \"# On-Time Trips\", \"value\": 1, \"Percentage\": 50.0}, {\"Date\": \"2023-04-12T00:00:00\", \"Portfolio Organization Name\": \"Ventura County (VCTC, Gold Coast, Cities of Camarillo, Moorpark, Ojai, Simi Valley, Thousand Oaks)\", \"Route\": \"86 80-89 Coastal Express\", \"Period\": \"Offpeak\", \"Direction\": \"Westbound\", \"Direction (0/1)\": 0, \"# Realtime Trips\": 2, \"variable\": \"# On-Time Trips\", \"value\": 2, \"Percentage\": 100.0}, {\"Date\": \"2023-06-14T00:00:00\", \"Portfolio Organization Name\": \"Ventura County (VCTC, Gold Coast, Cities of Camarillo, Moorpark, Ojai, Simi Valley, Thousand Oaks)\", \"Route\": \"86 80-89 Coastal Express\", \"Period\": \"Offpeak\", \"Direction\": \"Westbound\", \"Direction (0/1)\": 0, \"# Realtime Trips\": 2, \"variable\": \"# On-Time Trips\", \"value\": 1, \"Percentage\": 50.0}, {\"Date\": \"2023-07-12T00:00:00\", \"Portfolio Organization Name\": \"Ventura County (VCTC, Gold Coast, Cities of Camarillo, Moorpark, Ojai, Simi Valley, Thousand Oaks)\", \"Route\": \"86 80-89 Coastal Express\", \"Period\": \"Offpeak\", \"Direction\": \"Westbound\", \"Direction (0/1)\": 0, \"# Realtime Trips\": 2, \"variable\": \"# On-Time Trips\", \"value\": 2, \"Percentage\": 100.0}, {\"Date\": \"2023-08-15T00:00:00\", \"Portfolio Organization Name\": \"Ventura County (VCTC, Gold Coast, Cities of Camarillo, Moorpark, Ojai, Simi Valley, Thousand Oaks)\", \"Route\": \"86 80-89 Coastal Express\", \"Period\": \"Offpeak\", \"Direction\": \"Westbound\", \"Direction (0/1)\": 0, \"# Realtime Trips\": 2, \"variable\": \"# On-Time Trips\", \"value\": 0, \"Percentage\": 0.0}, {\"Date\": \"2023-09-13T00:00:00\", \"Portfolio Organization Name\": \"Ventura County (VCTC, Gold Coast, Cities of Camarillo, Moorpark, Ojai, Simi Valley, Thousand Oaks)\", \"Route\": \"86 80-89 Coastal Express\", \"Period\": \"Offpeak\", \"Direction\": \"Westbound\", \"Direction (0/1)\": 0, \"# Realtime Trips\": 1, \"variable\": \"# On-Time Trips\", \"value\": 1, \"Percentage\": 100.0}, {\"Date\": \"2023-10-11T00:00:00\", \"Portfolio Organization Name\": \"Ventura County (VCTC, Gold Coast, Cities of Camarillo, Moorpark, Ojai, Simi Valley, Thousand Oaks)\", \"Route\": \"86 80-89 Coastal Express\", \"Period\": \"Offpeak\", \"Direction\": \"Westbound\", \"Direction (0/1)\": 0, \"# Realtime Trips\": 2, \"variable\": \"# On-Time Trips\", \"value\": 0, \"Percentage\": 0.0}, {\"Date\": \"2023-11-15T00:00:00\", \"Portfolio Organization Name\": \"Ventura County (VCTC, Gold Coast, Cities of Camarillo, Moorpark, Ojai, Simi Valley, Thousand Oaks)\", \"Route\": \"86 80-89 Coastal Express\", \"Period\": \"Offpeak\", \"Direction\": \"Westbound\", \"Direction (0/1)\": 0, \"# Realtime Trips\": 2, \"variable\": \"# On-Time Trips\", \"value\": 0, \"Percentage\": 0.0}, {\"Date\": \"2023-12-13T00:00:00\", \"Portfolio Organization Name\": \"Ventura County (VCTC, Gold Coast, Cities of Camarillo, Moorpark, Ojai, Simi Valley, Thousand Oaks)\", \"Route\": \"86 80-89 Coastal Express\", \"Period\": \"Offpeak\", \"Direction\": \"Westbound\", \"Direction (0/1)\": 0, \"# Realtime Trips\": 2, \"variable\": \"# On-Time Trips\", \"value\": 1, \"Percentage\": 50.0}, {\"Date\": \"2024-01-17T00:00:00\", \"Portfolio Organization Name\": \"Ventura County (VCTC, Gold Coast, Cities of Camarillo, Moorpark, Ojai, Simi Valley, Thousand Oaks)\", \"Route\": \"86 80-89 Coastal Express\", \"Period\": \"Offpeak\", \"Direction\": \"Westbound\", \"Direction (0/1)\": 0, \"# Realtime Trips\": 2, \"variable\": \"# On-Time Trips\", \"value\": 0, \"Percentage\": 0.0}, {\"Date\": \"2024-02-14T00:00:00\", \"Portfolio Organization Name\": \"Ventura County (VCTC, Gold Coast, Cities of Camarillo, Moorpark, Ojai, Simi Valley, Thousand Oaks)\", \"Route\": \"86 80-89 Coastal Express\", \"Period\": \"Offpeak\", \"Direction\": \"Westbound\", \"Direction (0/1)\": 0, \"# Realtime Trips\": 1, \"variable\": \"# On-Time Trips\", \"value\": 0, \"Percentage\": 0.0}, {\"Date\": \"2024-03-13T00:00:00\", \"Portfolio Organization Name\": \"Ventura County (VCTC, Gold Coast, Cities of Camarillo, Moorpark, Ojai, Simi Valley, Thousand Oaks)\", \"Route\": \"86 80-89 Coastal Express\", \"Period\": \"Offpeak\", \"Direction\": \"Westbound\", \"Direction (0/1)\": 0, \"# Realtime Trips\": 2, \"variable\": \"# On-Time Trips\", \"value\": 0, \"Percentage\": 0.0}, {\"Date\": \"2024-04-17T00:00:00\", \"Portfolio Organization Name\": \"Ventura County (VCTC, Gold Coast, Cities of Camarillo, Moorpark, Ojai, Simi Valley, Thousand Oaks)\", \"Route\": \"86 80-89 Coastal Express\", \"Period\": \"Offpeak\", \"Direction\": \"Westbound\", \"Direction (0/1)\": 0, \"# Realtime Trips\": 2, \"variable\": \"# On-Time Trips\", \"value\": 0, \"Percentage\": 0.0}, {\"Date\": \"2024-05-22T00:00:00\", \"Portfolio Organization Name\": \"Ventura County (VCTC, Gold Coast, Cities of Camarillo, Moorpark, Ojai, Simi Valley, Thousand Oaks)\", \"Route\": \"86 80-89 Coastal Express\", \"Period\": \"Offpeak\", \"Direction\": \"Westbound\", \"Direction (0/1)\": 0, \"# Realtime Trips\": 2, \"variable\": \"# On-Time Trips\", \"value\": 1, \"Percentage\": 50.0}, {\"Date\": \"2024-06-12T00:00:00\", \"Portfolio Organization Name\": \"Ventura County (VCTC, Gold Coast, Cities of Camarillo, Moorpark, Ojai, Simi Valley, Thousand Oaks)\", \"Route\": \"86 80-89 Coastal Express\", \"Period\": \"Offpeak\", \"Direction\": \"Westbound\", \"Direction (0/1)\": 0, \"# Realtime Trips\": 1, \"variable\": \"# On-Time Trips\", \"value\": 1, \"Percentage\": 100.0}, {\"Date\": \"2024-07-17T00:00:00\", \"Portfolio Organization Name\": \"Ventura County (VCTC, Gold Coast, Cities of Camarillo, Moorpark, Ojai, Simi Valley, Thousand Oaks)\", \"Route\": \"86 80-89 Coastal Express\", \"Period\": \"Offpeak\", \"Direction\": \"Westbound\", \"Direction (0/1)\": 0, \"# Realtime Trips\": 2, \"variable\": \"# On-Time Trips\", \"value\": 0, \"Percentage\": 0.0}, {\"Date\": \"2024-08-14T00:00:00\", \"Portfolio Organization Name\": \"Ventura County (VCTC, Gold Coast, Cities of Camarillo, Moorpark, Ojai, Simi Valley, Thousand Oaks)\", \"Route\": \"86 80-89 Coastal Express\", \"Period\": \"Offpeak\", \"Direction\": \"Westbound\", \"Direction (0/1)\": 0, \"# Realtime Trips\": 2, \"variable\": \"# On-Time Trips\", \"value\": 2, \"Percentage\": 100.0}, {\"Date\": \"2024-09-18T00:00:00\", \"Portfolio Organization Name\": \"Ventura County (VCTC, Gold Coast, Cities of Camarillo, Moorpark, Ojai, Simi Valley, Thousand Oaks)\", \"Route\": \"86 80-89 Coastal Express\", \"Period\": \"Offpeak\", \"Direction\": \"Westbound\", \"Direction (0/1)\": 0, \"# Realtime Trips\": 2, \"variable\": \"# On-Time Trips\", \"value\": 0, \"Percentage\": 0.0}, {\"Date\": \"2024-10-16T00:00:00\", \"Portfolio Organization Name\": \"Ventura County (VCTC, Gold Coast, Cities of Camarillo, Moorpark, Ojai, Simi Valley, Thousand Oaks)\", \"Route\": \"86 80-89 Coastal Express\", \"Period\": \"Offpeak\", \"Direction\": \"Westbound\", \"Direction (0/1)\": 0, \"# Realtime Trips\": 2, \"variable\": \"# On-Time Trips\", \"value\": 0, \"Percentage\": 0.0}, {\"Date\": \"2024-11-13T00:00:00\", \"Portfolio Organization Name\": \"Ventura County (VCTC, Gold Coast, Cities of Camarillo, Moorpark, Ojai, Simi Valley, Thousand Oaks)\", \"Route\": \"86 80-89 Coastal Express\", \"Period\": \"Offpeak\", \"Direction\": \"Westbound\", \"Direction (0/1)\": 0, \"# Realtime Trips\": 2, \"variable\": \"# On-Time Trips\", \"value\": 0, \"Percentage\": 0.0}, {\"Date\": \"2024-12-11T00:00:00\", \"Portfolio Organization Name\": \"Ventura County (VCTC, Gold Coast, Cities of Camarillo, Moorpark, Ojai, Simi Valley, Thousand Oaks)\", \"Route\": \"86 80-89 Coastal Express\", \"Period\": \"Offpeak\", \"Direction\": \"Westbound\", \"Direction (0/1)\": 0, \"# Realtime Trips\": 2, \"variable\": \"# On-Time Trips\", \"value\": 0, \"Percentage\": 0.0}, {\"Date\": \"2025-01-15T00:00:00\", \"Portfolio Organization Name\": \"Ventura County (VCTC, Gold Coast, Cities of Camarillo, Moorpark, Ojai, Simi Valley, Thousand Oaks)\", \"Route\": \"86 80-89 Coastal Express\", \"Period\": \"Offpeak\", \"Direction\": \"Westbound\", \"Direction (0/1)\": 0, \"# Realtime Trips\": 2, \"variable\": \"# On-Time Trips\", \"value\": 0, \"Percentage\": 0.0}, {\"Date\": \"2025-02-12T00:00:00\", \"Portfolio Organization Name\": \"Ventura County (VCTC, Gold Coast, Cities of Camarillo, Moorpark, Ojai, Simi Valley, Thousand Oaks)\", \"Route\": \"86 80-89 Coastal Express\", \"Period\": \"Offpeak\", \"Direction\": \"Westbound\", \"Direction (0/1)\": 0, \"# Realtime Trips\": 2, \"variable\": \"# On-Time Trips\", \"value\": 0, \"Percentage\": 0.0}, {\"Date\": \"2025-03-12T00:00:00\", \"Portfolio Organization Name\": \"Ventura County (VCTC, Gold Coast, Cities of Camarillo, Moorpark, Ojai, Simi Valley, Thousand Oaks)\", \"Route\": \"86 80-89 Coastal Express\", \"Period\": \"Offpeak\", \"Direction\": \"Westbound\", \"Direction (0/1)\": 0, \"# Realtime Trips\": 2, \"variable\": \"# On-Time Trips\", \"value\": 0, \"Percentage\": 0.0}, {\"Date\": \"2025-04-16T00:00:00\", \"Portfolio Organization Name\": \"Ventura County (VCTC, Gold Coast, Cities of Camarillo, Moorpark, Ojai, Simi Valley, Thousand Oaks)\", \"Route\": \"86 80-89 Coastal Express\", \"Period\": \"Offpeak\", \"Direction\": \"Westbound\", \"Direction (0/1)\": 0, \"# Realtime Trips\": 1, \"variable\": \"# On-Time Trips\", \"value\": 1, \"Percentage\": 100.0}, {\"Date\": \"2025-05-14T00:00:00\", \"Portfolio Organization Name\": \"Ventura County (VCTC, Gold Coast, Cities of Camarillo, Moorpark, Ojai, Simi Valley, Thousand Oaks)\", \"Route\": \"86 80-89 Coastal Express\", \"Period\": \"Offpeak\", \"Direction\": \"Westbound\", \"Direction (0/1)\": 0, \"# Realtime Trips\": 2, \"variable\": \"# On-Time Trips\", \"value\": 1, \"Percentage\": 50.0}, {\"Date\": \"2023-04-12T00:00:00\", \"Portfolio Organization Name\": \"Ventura County (VCTC, Gold Coast, Cities of Camarillo, Moorpark, Ojai, Simi Valley, Thousand Oaks)\", \"Route\": \"86 80-89 Coastal Express\", \"Period\": \"All Day\", \"Direction\": \"Eastbound\", \"Direction (0/1)\": 1, \"# Realtime Trips\": 2, \"variable\": \"# On-Time Trips\", \"value\": 0, \"Percentage\": 0.0}, {\"Date\": \"2023-06-14T00:00:00\", \"Portfolio Organization Name\": \"Ventura County (VCTC, Gold Coast, Cities of Camarillo, Moorpark, Ojai, Simi Valley, Thousand Oaks)\", \"Route\": \"86 80-89 Coastal Express\", \"Period\": \"All Day\", \"Direction\": \"Eastbound\", \"Direction (0/1)\": 1, \"# Realtime Trips\": 2, \"variable\": \"# On-Time Trips\", \"value\": 0, \"Percentage\": 0.0}, {\"Date\": \"2023-07-12T00:00:00\", \"Portfolio Organization Name\": \"Ventura County (VCTC, Gold Coast, Cities of Camarillo, Moorpark, Ojai, Simi Valley, Thousand Oaks)\", \"Route\": \"86 80-89 Coastal Express\", \"Period\": \"All Day\", \"Direction\": \"Eastbound\", \"Direction (0/1)\": 1, \"# Realtime Trips\": 1, \"variable\": \"# On-Time Trips\", \"value\": 0, \"Percentage\": 0.0}, {\"Date\": \"2023-08-15T00:00:00\", \"Portfolio Organization Name\": \"Ventura County (VCTC, Gold Coast, Cities of Camarillo, Moorpark, Ojai, Simi Valley, Thousand Oaks)\", \"Route\": \"86 80-89 Coastal Express\", \"Period\": \"All Day\", \"Direction\": \"Eastbound\", \"Direction (0/1)\": 1, \"# Realtime Trips\": 1, \"variable\": \"# On-Time Trips\", \"value\": 0, \"Percentage\": 0.0}, {\"Date\": \"2023-09-13T00:00:00\", \"Portfolio Organization Name\": \"Ventura County (VCTC, Gold Coast, Cities of Camarillo, Moorpark, Ojai, Simi Valley, Thousand Oaks)\", \"Route\": \"86 80-89 Coastal Express\", \"Period\": \"All Day\", \"Direction\": \"Eastbound\", \"Direction (0/1)\": 1, \"# Realtime Trips\": 2, \"variable\": \"# On-Time Trips\", \"value\": 0, \"Percentage\": 0.0}, {\"Date\": \"2023-10-11T00:00:00\", \"Portfolio Organization Name\": \"Ventura County (VCTC, Gold Coast, Cities of Camarillo, Moorpark, Ojai, Simi Valley, Thousand Oaks)\", \"Route\": \"86 80-89 Coastal Express\", \"Period\": \"All Day\", \"Direction\": \"Eastbound\", \"Direction (0/1)\": 1, \"# Realtime Trips\": 1, \"variable\": \"# On-Time Trips\", \"value\": 0, \"Percentage\": 0.0}, {\"Date\": \"2023-11-15T00:00:00\", \"Portfolio Organization Name\": \"Ventura County (VCTC, Gold Coast, Cities of Camarillo, Moorpark, Ojai, Simi Valley, Thousand Oaks)\", \"Route\": \"86 80-89 Coastal Express\", \"Period\": \"All Day\", \"Direction\": \"Eastbound\", \"Direction (0/1)\": 1, \"# Realtime Trips\": 2, \"variable\": \"# On-Time Trips\", \"value\": 0, \"Percentage\": 0.0}, {\"Date\": \"2024-01-17T00:00:00\", \"Portfolio Organization Name\": \"Ventura County (VCTC, Gold Coast, Cities of Camarillo, Moorpark, Ojai, Simi Valley, Thousand Oaks)\", \"Route\": \"86 80-89 Coastal Express\", \"Period\": \"All Day\", \"Direction\": \"Eastbound\", \"Direction (0/1)\": 1, \"# Realtime Trips\": 1, \"variable\": \"# On-Time Trips\", \"value\": 1, \"Percentage\": 100.0}, {\"Date\": \"2024-02-14T00:00:00\", \"Portfolio Organization Name\": \"Ventura County (VCTC, Gold Coast, Cities of Camarillo, Moorpark, Ojai, Simi Valley, Thousand Oaks)\", \"Route\": \"86 80-89 Coastal Express\", \"Period\": \"All Day\", \"Direction\": \"Eastbound\", \"Direction (0/1)\": 1, \"# Realtime Trips\": 1, \"variable\": \"# On-Time Trips\", \"value\": 0, \"Percentage\": 0.0}, {\"Date\": \"2024-03-13T00:00:00\", \"Portfolio Organization Name\": \"Ventura County (VCTC, Gold Coast, Cities of Camarillo, Moorpark, Ojai, Simi Valley, Thousand Oaks)\", \"Route\": \"86 80-89 Coastal Express\", \"Period\": \"All Day\", \"Direction\": \"Eastbound\", \"Direction (0/1)\": 1, \"# Realtime Trips\": 2, \"variable\": \"# On-Time Trips\", \"value\": 0, \"Percentage\": 0.0}, {\"Date\": \"2024-04-17T00:00:00\", \"Portfolio Organization Name\": \"Ventura County (VCTC, Gold Coast, Cities of Camarillo, Moorpark, Ojai, Simi Valley, Thousand Oaks)\", \"Route\": \"86 80-89 Coastal Express\", \"Period\": \"All Day\", \"Direction\": \"Eastbound\", \"Direction (0/1)\": 1, \"# Realtime Trips\": 2, \"variable\": \"# On-Time Trips\", \"value\": 0, \"Percentage\": 0.0}, {\"Date\": \"2024-05-22T00:00:00\", \"Portfolio Organization Name\": \"Ventura County (VCTC, Gold Coast, Cities of Camarillo, Moorpark, Ojai, Simi Valley, Thousand Oaks)\", \"Route\": \"86 80-89 Coastal Express\", \"Period\": \"All Day\", \"Direction\": \"Eastbound\", \"Direction (0/1)\": 1, \"# Realtime Trips\": 2, \"variable\": \"# On-Time Trips\", \"value\": 0, \"Percentage\": 0.0}, {\"Date\": \"2024-06-12T00:00:00\", \"Portfolio Organization Name\": \"Ventura County (VCTC, Gold Coast, Cities of Camarillo, Moorpark, Ojai, Simi Valley, Thousand Oaks)\", \"Route\": \"86 80-89 Coastal Express\", \"Period\": \"All Day\", \"Direction\": \"Eastbound\", \"Direction (0/1)\": 1, \"# Realtime Trips\": 2, \"variable\": \"# On-Time Trips\", \"value\": 0, \"Percentage\": 0.0}, {\"Date\": \"2024-07-17T00:00:00\", \"Portfolio Organization Name\": \"Ventura County (VCTC, Gold Coast, Cities of Camarillo, Moorpark, Ojai, Simi Valley, Thousand Oaks)\", \"Route\": \"86 80-89 Coastal Express\", \"Period\": \"All Day\", \"Direction\": \"Eastbound\", \"Direction (0/1)\": 1, \"# Realtime Trips\": 2, \"variable\": \"# On-Time Trips\", \"value\": 0, \"Percentage\": 0.0}, {\"Date\": \"2024-08-14T00:00:00\", \"Portfolio Organization Name\": \"Ventura County (VCTC, Gold Coast, Cities of Camarillo, Moorpark, Ojai, Simi Valley, Thousand Oaks)\", \"Route\": \"86 80-89 Coastal Express\", \"Period\": \"All Day\", \"Direction\": \"Eastbound\", \"Direction (0/1)\": 1, \"# Realtime Trips\": 1, \"variable\": \"# On-Time Trips\", \"value\": 0, \"Percentage\": 0.0}, {\"Date\": \"2024-09-18T00:00:00\", \"Portfolio Organization Name\": \"Ventura County (VCTC, Gold Coast, Cities of Camarillo, Moorpark, Ojai, Simi Valley, Thousand Oaks)\", \"Route\": \"86 80-89 Coastal Express\", \"Period\": \"All Day\", \"Direction\": \"Eastbound\", \"Direction (0/1)\": 1, \"# Realtime Trips\": 2, \"variable\": \"# On-Time Trips\", \"value\": 0, \"Percentage\": 0.0}, {\"Date\": \"2024-10-16T00:00:00\", \"Portfolio Organization Name\": \"Ventura County (VCTC, Gold Coast, Cities of Camarillo, Moorpark, Ojai, Simi Valley, Thousand Oaks)\", \"Route\": \"86 80-89 Coastal Express\", \"Period\": \"All Day\", \"Direction\": \"Eastbound\", \"Direction (0/1)\": 1, \"# Realtime Trips\": 2, \"variable\": \"# On-Time Trips\", \"value\": 0, \"Percentage\": 0.0}, {\"Date\": \"2024-11-13T00:00:00\", \"Portfolio Organization Name\": \"Ventura County (VCTC, Gold Coast, Cities of Camarillo, Moorpark, Ojai, Simi Valley, Thousand Oaks)\", \"Route\": \"86 80-89 Coastal Express\", \"Period\": \"All Day\", \"Direction\": \"Eastbound\", \"Direction (0/1)\": 1, \"# Realtime Trips\": 2, \"variable\": \"# On-Time Trips\", \"value\": 0, \"Percentage\": 0.0}, {\"Date\": \"2024-12-11T00:00:00\", \"Portfolio Organization Name\": \"Ventura County (VCTC, Gold Coast, Cities of Camarillo, Moorpark, Ojai, Simi Valley, Thousand Oaks)\", \"Route\": \"86 80-89 Coastal Express\", \"Period\": \"All Day\", \"Direction\": \"Eastbound\", \"Direction (0/1)\": 1, \"# Realtime Trips\": 2, \"variable\": \"# On-Time Trips\", \"value\": 0, \"Percentage\": 0.0}, {\"Date\": \"2025-01-15T00:00:00\", \"Portfolio Organization Name\": \"Ventura County (VCTC, Gold Coast, Cities of Camarillo, Moorpark, Ojai, Simi Valley, Thousand Oaks)\", \"Route\": \"86 80-89 Coastal Express\", \"Period\": \"All Day\", \"Direction\": \"Eastbound\", \"Direction (0/1)\": 1, \"# Realtime Trips\": 2, \"variable\": \"# On-Time Trips\", \"value\": 0, \"Percentage\": 0.0}, {\"Date\": \"2025-02-12T00:00:00\", \"Portfolio Organization Name\": \"Ventura County (VCTC, Gold Coast, Cities of Camarillo, Moorpark, Ojai, Simi Valley, Thousand Oaks)\", \"Route\": \"86 80-89 Coastal Express\", \"Period\": \"All Day\", \"Direction\": \"Eastbound\", \"Direction (0/1)\": 1, \"# Realtime Trips\": 2, \"variable\": \"# On-Time Trips\", \"value\": 0, \"Percentage\": 0.0}, {\"Date\": \"2025-03-12T00:00:00\", \"Portfolio Organization Name\": \"Ventura County (VCTC, Gold Coast, Cities of Camarillo, Moorpark, Ojai, Simi Valley, Thousand Oaks)\", \"Route\": \"86 80-89 Coastal Express\", \"Period\": \"All Day\", \"Direction\": \"Eastbound\", \"Direction (0/1)\": 1, \"# Realtime Trips\": 2, \"variable\": \"# On-Time Trips\", \"value\": 0, \"Percentage\": 0.0}, {\"Date\": \"2025-04-16T00:00:00\", \"Portfolio Organization Name\": \"Ventura County (VCTC, Gold Coast, Cities of Camarillo, Moorpark, Ojai, Simi Valley, Thousand Oaks)\", \"Route\": \"86 80-89 Coastal Express\", \"Period\": \"All Day\", \"Direction\": \"Eastbound\", \"Direction (0/1)\": 1, \"# Realtime Trips\": 2, \"variable\": \"# On-Time Trips\", \"value\": 0, \"Percentage\": 0.0}, {\"Date\": \"2025-05-14T00:00:00\", \"Portfolio Organization Name\": \"Ventura County (VCTC, Gold Coast, Cities of Camarillo, Moorpark, Ojai, Simi Valley, Thousand Oaks)\", \"Route\": \"86 80-89 Coastal Express\", \"Period\": \"All Day\", \"Direction\": \"Eastbound\", \"Direction (0/1)\": 1, \"# Realtime Trips\": 2, \"variable\": \"# On-Time Trips\", \"value\": 0, \"Percentage\": 0.0}, {\"Date\": \"2023-04-12T00:00:00\", \"Portfolio Organization Name\": \"Ventura County (VCTC, Gold Coast, Cities of Camarillo, Moorpark, Ojai, Simi Valley, Thousand Oaks)\", \"Route\": \"86 80-89 Coastal Express\", \"Period\": \"Peak\", \"Direction\": \"Eastbound\", \"Direction (0/1)\": 1, \"# Realtime Trips\": 2, \"variable\": \"# On-Time Trips\", \"value\": 0, \"Percentage\": 0.0}, {\"Date\": \"2023-06-14T00:00:00\", \"Portfolio Organization Name\": \"Ventura County (VCTC, Gold Coast, Cities of Camarillo, Moorpark, Ojai, Simi Valley, Thousand Oaks)\", \"Route\": \"86 80-89 Coastal Express\", \"Period\": \"Peak\", \"Direction\": \"Eastbound\", \"Direction (0/1)\": 1, \"# Realtime Trips\": 2, \"variable\": \"# On-Time Trips\", \"value\": 0, \"Percentage\": 0.0}, {\"Date\": \"2023-07-12T00:00:00\", \"Portfolio Organization Name\": \"Ventura County (VCTC, Gold Coast, Cities of Camarillo, Moorpark, Ojai, Simi Valley, Thousand Oaks)\", \"Route\": \"86 80-89 Coastal Express\", \"Period\": \"Peak\", \"Direction\": \"Eastbound\", \"Direction (0/1)\": 1, \"# Realtime Trips\": 1, \"variable\": \"# On-Time Trips\", \"value\": 0, \"Percentage\": 0.0}, {\"Date\": \"2023-08-15T00:00:00\", \"Portfolio Organization Name\": \"Ventura County (VCTC, Gold Coast, Cities of Camarillo, Moorpark, Ojai, Simi Valley, Thousand Oaks)\", \"Route\": \"86 80-89 Coastal Express\", \"Period\": \"Peak\", \"Direction\": \"Eastbound\", \"Direction (0/1)\": 1, \"# Realtime Trips\": 1, \"variable\": \"# On-Time Trips\", \"value\": 0, \"Percentage\": 0.0}, {\"Date\": \"2023-09-13T00:00:00\", \"Portfolio Organization Name\": \"Ventura County (VCTC, Gold Coast, Cities of Camarillo, Moorpark, Ojai, Simi Valley, Thousand Oaks)\", \"Route\": \"86 80-89 Coastal Express\", \"Period\": \"Peak\", \"Direction\": \"Eastbound\", \"Direction (0/1)\": 1, \"# Realtime Trips\": 2, \"variable\": \"# On-Time Trips\", \"value\": 0, \"Percentage\": 0.0}, {\"Date\": \"2023-10-11T00:00:00\", \"Portfolio Organization Name\": \"Ventura County (VCTC, Gold Coast, Cities of Camarillo, Moorpark, Ojai, Simi Valley, Thousand Oaks)\", \"Route\": \"86 80-89 Coastal Express\", \"Period\": \"Peak\", \"Direction\": \"Eastbound\", \"Direction (0/1)\": 1, \"# Realtime Trips\": 1, \"variable\": \"# On-Time Trips\", \"value\": 0, \"Percentage\": 0.0}, {\"Date\": \"2023-11-15T00:00:00\", \"Portfolio Organization Name\": \"Ventura County (VCTC, Gold Coast, Cities of Camarillo, Moorpark, Ojai, Simi Valley, Thousand Oaks)\", \"Route\": \"86 80-89 Coastal Express\", \"Period\": \"Peak\", \"Direction\": \"Eastbound\", \"Direction (0/1)\": 1, \"# Realtime Trips\": 2, \"variable\": \"# On-Time Trips\", \"value\": 0, \"Percentage\": 0.0}, {\"Date\": \"2024-01-17T00:00:00\", \"Portfolio Organization Name\": \"Ventura County (VCTC, Gold Coast, Cities of Camarillo, Moorpark, Ojai, Simi Valley, Thousand Oaks)\", \"Route\": \"86 80-89 Coastal Express\", \"Period\": \"Peak\", \"Direction\": \"Eastbound\", \"Direction (0/1)\": 1, \"# Realtime Trips\": 1, \"variable\": \"# On-Time Trips\", \"value\": 1, \"Percentage\": 100.0}, {\"Date\": \"2024-02-14T00:00:00\", \"Portfolio Organization Name\": \"Ventura County (VCTC, Gold Coast, Cities of Camarillo, Moorpark, Ojai, Simi Valley, Thousand Oaks)\", \"Route\": \"86 80-89 Coastal Express\", \"Period\": \"Peak\", \"Direction\": \"Eastbound\", \"Direction (0/1)\": 1, \"# Realtime Trips\": 1, \"variable\": \"# On-Time Trips\", \"value\": 0, \"Percentage\": 0.0}, {\"Date\": \"2024-03-13T00:00:00\", \"Portfolio Organization Name\": \"Ventura County (VCTC, Gold Coast, Cities of Camarillo, Moorpark, Ojai, Simi Valley, Thousand Oaks)\", \"Route\": \"86 80-89 Coastal Express\", \"Period\": \"Peak\", \"Direction\": \"Eastbound\", \"Direction (0/1)\": 1, \"# Realtime Trips\": 2, \"variable\": \"# On-Time Trips\", \"value\": 0, \"Percentage\": 0.0}, {\"Date\": \"2024-04-17T00:00:00\", \"Portfolio Organization Name\": \"Ventura County (VCTC, Gold Coast, Cities of Camarillo, Moorpark, Ojai, Simi Valley, Thousand Oaks)\", \"Route\": \"86 80-89 Coastal Express\", \"Period\": \"Peak\", \"Direction\": \"Eastbound\", \"Direction (0/1)\": 1, \"# Realtime Trips\": 2, \"variable\": \"# On-Time Trips\", \"value\": 0, \"Percentage\": 0.0}, {\"Date\": \"2024-05-22T00:00:00\", \"Portfolio Organization Name\": \"Ventura County (VCTC, Gold Coast, Cities of Camarillo, Moorpark, Ojai, Simi Valley, Thousand Oaks)\", \"Route\": \"86 80-89 Coastal Express\", \"Period\": \"Peak\", \"Direction\": \"Eastbound\", \"Direction (0/1)\": 1, \"# Realtime Trips\": 2, \"variable\": \"# On-Time Trips\", \"value\": 0, \"Percentage\": 0.0}, {\"Date\": \"2024-06-12T00:00:00\", \"Portfolio Organization Name\": \"Ventura County (VCTC, Gold Coast, Cities of Camarillo, Moorpark, Ojai, Simi Valley, Thousand Oaks)\", \"Route\": \"86 80-89 Coastal Express\", \"Period\": \"Peak\", \"Direction\": \"Eastbound\", \"Direction (0/1)\": 1, \"# Realtime Trips\": 2, \"variable\": \"# On-Time Trips\", \"value\": 0, \"Percentage\": 0.0}, {\"Date\": \"2024-07-17T00:00:00\", \"Portfolio Organization Name\": \"Ventura County (VCTC, Gold Coast, Cities of Camarillo, Moorpark, Ojai, Simi Valley, Thousand Oaks)\", \"Route\": \"86 80-89 Coastal Express\", \"Period\": \"Peak\", \"Direction\": \"Eastbound\", \"Direction (0/1)\": 1, \"# Realtime Trips\": 2, \"variable\": \"# On-Time Trips\", \"value\": 0, \"Percentage\": 0.0}, {\"Date\": \"2024-08-14T00:00:00\", \"Portfolio Organization Name\": \"Ventura County (VCTC, Gold Coast, Cities of Camarillo, Moorpark, Ojai, Simi Valley, Thousand Oaks)\", \"Route\": \"86 80-89 Coastal Express\", \"Period\": \"Peak\", \"Direction\": \"Eastbound\", \"Direction (0/1)\": 1, \"# Realtime Trips\": 1, \"variable\": \"# On-Time Trips\", \"value\": 0, \"Percentage\": 0.0}, {\"Date\": \"2024-09-18T00:00:00\", \"Portfolio Organization Name\": \"Ventura County (VCTC, Gold Coast, Cities of Camarillo, Moorpark, Ojai, Simi Valley, Thousand Oaks)\", \"Route\": \"86 80-89 Coastal Express\", \"Period\": \"Peak\", \"Direction\": \"Eastbound\", \"Direction (0/1)\": 1, \"# Realtime Trips\": 2, \"variable\": \"# On-Time Trips\", \"value\": 0, \"Percentage\": 0.0}, {\"Date\": \"2024-10-16T00:00:00\", \"Portfolio Organization Name\": \"Ventura County (VCTC, Gold Coast, Cities of Camarillo, Moorpark, Ojai, Simi Valley, Thousand Oaks)\", \"Route\": \"86 80-89 Coastal Express\", \"Period\": \"Peak\", \"Direction\": \"Eastbound\", \"Direction (0/1)\": 1, \"# Realtime Trips\": 2, \"variable\": \"# On-Time Trips\", \"value\": 0, \"Percentage\": 0.0}, {\"Date\": \"2024-11-13T00:00:00\", \"Portfolio Organization Name\": \"Ventura County (VCTC, Gold Coast, Cities of Camarillo, Moorpark, Ojai, Simi Valley, Thousand Oaks)\", \"Route\": \"86 80-89 Coastal Express\", \"Period\": \"Peak\", \"Direction\": \"Eastbound\", \"Direction (0/1)\": 1, \"# Realtime Trips\": 2, \"variable\": \"# On-Time Trips\", \"value\": 0, \"Percentage\": 0.0}, {\"Date\": \"2024-12-11T00:00:00\", \"Portfolio Organization Name\": \"Ventura County (VCTC, Gold Coast, Cities of Camarillo, Moorpark, Ojai, Simi Valley, Thousand Oaks)\", \"Route\": \"86 80-89 Coastal Express\", \"Period\": \"Peak\", \"Direction\": \"Eastbound\", \"Direction (0/1)\": 1, \"# Realtime Trips\": 2, \"variable\": \"# On-Time Trips\", \"value\": 0, \"Percentage\": 0.0}, {\"Date\": \"2025-01-15T00:00:00\", \"Portfolio Organization Name\": \"Ventura County (VCTC, Gold Coast, Cities of Camarillo, Moorpark, Ojai, Simi Valley, Thousand Oaks)\", \"Route\": \"86 80-89 Coastal Express\", \"Period\": \"Peak\", \"Direction\": \"Eastbound\", \"Direction (0/1)\": 1, \"# Realtime Trips\": 2, \"variable\": \"# On-Time Trips\", \"value\": 0, \"Percentage\": 0.0}, {\"Date\": \"2025-02-12T00:00:00\", \"Portfolio Organization Name\": \"Ventura County (VCTC, Gold Coast, Cities of Camarillo, Moorpark, Ojai, Simi Valley, Thousand Oaks)\", \"Route\": \"86 80-89 Coastal Express\", \"Period\": \"Peak\", \"Direction\": \"Eastbound\", \"Direction (0/1)\": 1, \"# Realtime Trips\": 2, \"variable\": \"# On-Time Trips\", \"value\": 0, \"Percentage\": 0.0}, {\"Date\": \"2025-03-12T00:00:00\", \"Portfolio Organization Name\": \"Ventura County (VCTC, Gold Coast, Cities of Camarillo, Moorpark, Ojai, Simi Valley, Thousand Oaks)\", \"Route\": \"86 80-89 Coastal Express\", \"Period\": \"Peak\", \"Direction\": \"Eastbound\", \"Direction (0/1)\": 1, \"# Realtime Trips\": 2, \"variable\": \"# On-Time Trips\", \"value\": 0, \"Percentage\": 0.0}, {\"Date\": \"2025-04-16T00:00:00\", \"Portfolio Organization Name\": \"Ventura County (VCTC, Gold Coast, Cities of Camarillo, Moorpark, Ojai, Simi Valley, Thousand Oaks)\", \"Route\": \"86 80-89 Coastal Express\", \"Period\": \"Peak\", \"Direction\": \"Eastbound\", \"Direction (0/1)\": 1, \"# Realtime Trips\": 2, \"variable\": \"# On-Time Trips\", \"value\": 0, \"Percentage\": 0.0}, {\"Date\": \"2025-05-14T00:00:00\", \"Portfolio Organization Name\": \"Ventura County (VCTC, Gold Coast, Cities of Camarillo, Moorpark, Ojai, Simi Valley, Thousand Oaks)\", \"Route\": \"86 80-89 Coastal Express\", \"Period\": \"Peak\", \"Direction\": \"Eastbound\", \"Direction (0/1)\": 1, \"# Realtime Trips\": 2, \"variable\": \"# On-Time Trips\", \"value\": 0, \"Percentage\": 0.0}, {\"Date\": \"2023-04-12T00:00:00\", \"Portfolio Organization Name\": \"Ventura County (VCTC, Gold Coast, Cities of Camarillo, Moorpark, Ojai, Simi Valley, Thousand Oaks)\", \"Route\": \"86 80-89 Coastal Express\", \"Period\": \"All Day\", \"Direction\": \"Westbound\", \"Direction (0/1)\": 0, \"# Realtime Trips\": 2, \"variable\": \"# Late Trips\", \"value\": 0, \"Percentage\": 0.0}, {\"Date\": \"2023-06-14T00:00:00\", \"Portfolio Organization Name\": \"Ventura County (VCTC, Gold Coast, Cities of Camarillo, Moorpark, Ojai, Simi Valley, Thousand Oaks)\", \"Route\": \"86 80-89 Coastal Express\", \"Period\": \"All Day\", \"Direction\": \"Westbound\", \"Direction (0/1)\": 0, \"# Realtime Trips\": 2, \"variable\": \"# Late Trips\", \"value\": 1, \"Percentage\": 50.0}, {\"Date\": \"2023-07-12T00:00:00\", \"Portfolio Organization Name\": \"Ventura County (VCTC, Gold Coast, Cities of Camarillo, Moorpark, Ojai, Simi Valley, Thousand Oaks)\", \"Route\": \"86 80-89 Coastal Express\", \"Period\": \"All Day\", \"Direction\": \"Westbound\", \"Direction (0/1)\": 0, \"# Realtime Trips\": 2, \"variable\": \"# Late Trips\", \"value\": 0, \"Percentage\": 0.0}, {\"Date\": \"2023-08-15T00:00:00\", \"Portfolio Organization Name\": \"Ventura County (VCTC, Gold Coast, Cities of Camarillo, Moorpark, Ojai, Simi Valley, Thousand Oaks)\", \"Route\": \"86 80-89 Coastal Express\", \"Period\": \"All Day\", \"Direction\": \"Westbound\", \"Direction (0/1)\": 0, \"# Realtime Trips\": 2, \"variable\": \"# Late Trips\", \"value\": 1, \"Percentage\": 50.0}, {\"Date\": \"2023-09-13T00:00:00\", \"Portfolio Organization Name\": \"Ventura County (VCTC, Gold Coast, Cities of Camarillo, Moorpark, Ojai, Simi Valley, Thousand Oaks)\", \"Route\": \"86 80-89 Coastal Express\", \"Period\": \"All Day\", \"Direction\": \"Westbound\", \"Direction (0/1)\": 0, \"# Realtime Trips\": 1, \"variable\": \"# Late Trips\", \"value\": 0, \"Percentage\": 0.0}, {\"Date\": \"2023-10-11T00:00:00\", \"Portfolio Organization Name\": \"Ventura County (VCTC, Gold Coast, Cities of Camarillo, Moorpark, Ojai, Simi Valley, Thousand Oaks)\", \"Route\": \"86 80-89 Coastal Express\", \"Period\": \"All Day\", \"Direction\": \"Westbound\", \"Direction (0/1)\": 0, \"# Realtime Trips\": 2, \"variable\": \"# Late Trips\", \"value\": 2, \"Percentage\": 100.0}, {\"Date\": \"2023-11-15T00:00:00\", \"Portfolio Organization Name\": \"Ventura County (VCTC, Gold Coast, Cities of Camarillo, Moorpark, Ojai, Simi Valley, Thousand Oaks)\", \"Route\": \"86 80-89 Coastal Express\", \"Period\": \"All Day\", \"Direction\": \"Westbound\", \"Direction (0/1)\": 0, \"# Realtime Trips\": 2, \"variable\": \"# Late Trips\", \"value\": 2, \"Percentage\": 100.0}, {\"Date\": \"2023-12-13T00:00:00\", \"Portfolio Organization Name\": \"Ventura County (VCTC, Gold Coast, Cities of Camarillo, Moorpark, Ojai, Simi Valley, Thousand Oaks)\", \"Route\": \"86 80-89 Coastal Express\", \"Period\": \"All Day\", \"Direction\": \"Westbound\", \"Direction (0/1)\": 0, \"# Realtime Trips\": 2, \"variable\": \"# Late Trips\", \"value\": 1, \"Percentage\": 50.0}, {\"Date\": \"2024-01-17T00:00:00\", \"Portfolio Organization Name\": \"Ventura County (VCTC, Gold Coast, Cities of Camarillo, Moorpark, Ojai, Simi Valley, Thousand Oaks)\", \"Route\": \"86 80-89 Coastal Express\", \"Period\": \"All Day\", \"Direction\": \"Westbound\", \"Direction (0/1)\": 0, \"# Realtime Trips\": 2, \"variable\": \"# Late Trips\", \"value\": 2, \"Percentage\": 100.0}, {\"Date\": \"2024-02-14T00:00:00\", \"Portfolio Organization Name\": \"Ventura County (VCTC, Gold Coast, Cities of Camarillo, Moorpark, Ojai, Simi Valley, Thousand Oaks)\", \"Route\": \"86 80-89 Coastal Express\", \"Period\": \"All Day\", \"Direction\": \"Westbound\", \"Direction (0/1)\": 0, \"# Realtime Trips\": 1, \"variable\": \"# Late Trips\", \"value\": 1, \"Percentage\": 100.0}, {\"Date\": \"2024-03-13T00:00:00\", \"Portfolio Organization Name\": \"Ventura County (VCTC, Gold Coast, Cities of Camarillo, Moorpark, Ojai, Simi Valley, Thousand Oaks)\", \"Route\": \"86 80-89 Coastal Express\", \"Period\": \"All Day\", \"Direction\": \"Westbound\", \"Direction (0/1)\": 0, \"# Realtime Trips\": 2, \"variable\": \"# Late Trips\", \"value\": 1, \"Percentage\": 50.0}, {\"Date\": \"2024-04-17T00:00:00\", \"Portfolio Organization Name\": \"Ventura County (VCTC, Gold Coast, Cities of Camarillo, Moorpark, Ojai, Simi Valley, Thousand Oaks)\", \"Route\": \"86 80-89 Coastal Express\", \"Period\": \"All Day\", \"Direction\": \"Westbound\", \"Direction (0/1)\": 0, \"# Realtime Trips\": 2, \"variable\": \"# Late Trips\", \"value\": 1, \"Percentage\": 50.0}, {\"Date\": \"2024-05-22T00:00:00\", \"Portfolio Organization Name\": \"Ventura County (VCTC, Gold Coast, Cities of Camarillo, Moorpark, Ojai, Simi Valley, Thousand Oaks)\", \"Route\": \"86 80-89 Coastal Express\", \"Period\": \"All Day\", \"Direction\": \"Westbound\", \"Direction (0/1)\": 0, \"# Realtime Trips\": 2, \"variable\": \"# Late Trips\", \"value\": 0, \"Percentage\": 0.0}, {\"Date\": \"2024-06-12T00:00:00\", \"Portfolio Organization Name\": \"Ventura County (VCTC, Gold Coast, Cities of Camarillo, Moorpark, Ojai, Simi Valley, Thousand Oaks)\", \"Route\": \"86 80-89 Coastal Express\", \"Period\": \"All Day\", \"Direction\": \"Westbound\", \"Direction (0/1)\": 0, \"# Realtime Trips\": 1, \"variable\": \"# Late Trips\", \"value\": 0, \"Percentage\": 0.0}, {\"Date\": \"2024-07-17T00:00:00\", \"Portfolio Organization Name\": \"Ventura County (VCTC, Gold Coast, Cities of Camarillo, Moorpark, Ojai, Simi Valley, Thousand Oaks)\", \"Route\": \"86 80-89 Coastal Express\", \"Period\": \"All Day\", \"Direction\": \"Westbound\", \"Direction (0/1)\": 0, \"# Realtime Trips\": 2, \"variable\": \"# Late Trips\", \"value\": 1, \"Percentage\": 50.0}, {\"Date\": \"2024-08-14T00:00:00\", \"Portfolio Organization Name\": \"Ventura County (VCTC, Gold Coast, Cities of Camarillo, Moorpark, Ojai, Simi Valley, Thousand Oaks)\", \"Route\": \"86 80-89 Coastal Express\", \"Period\": \"All Day\", \"Direction\": \"Westbound\", \"Direction (0/1)\": 0, \"# Realtime Trips\": 2, \"variable\": \"# Late Trips\", \"value\": 0, \"Percentage\": 0.0}, {\"Date\": \"2024-09-18T00:00:00\", \"Portfolio Organization Name\": \"Ventura County (VCTC, Gold Coast, Cities of Camarillo, Moorpark, Ojai, Simi Valley, Thousand Oaks)\", \"Route\": \"86 80-89 Coastal Express\", \"Period\": \"All Day\", \"Direction\": \"Westbound\", \"Direction (0/1)\": 0, \"# Realtime Trips\": 2, \"variable\": \"# Late Trips\", \"value\": 0, \"Percentage\": 0.0}, {\"Date\": \"2024-10-16T00:00:00\", \"Portfolio Organization Name\": \"Ventura County (VCTC, Gold Coast, Cities of Camarillo, Moorpark, Ojai, Simi Valley, Thousand Oaks)\", \"Route\": \"86 80-89 Coastal Express\", \"Period\": \"All Day\", \"Direction\": \"Westbound\", \"Direction (0/1)\": 0, \"# Realtime Trips\": 2, \"variable\": \"# Late Trips\", \"value\": 0, \"Percentage\": 0.0}, {\"Date\": \"2024-11-13T00:00:00\", \"Portfolio Organization Name\": \"Ventura County (VCTC, Gold Coast, Cities of Camarillo, Moorpark, Ojai, Simi Valley, Thousand Oaks)\", \"Route\": \"86 80-89 Coastal Express\", \"Period\": \"All Day\", \"Direction\": \"Westbound\", \"Direction (0/1)\": 0, \"# Realtime Trips\": 2, \"variable\": \"# Late Trips\", \"value\": 2, \"Percentage\": 100.0}, {\"Date\": \"2024-12-11T00:00:00\", \"Portfolio Organization Name\": \"Ventura County (VCTC, Gold Coast, Cities of Camarillo, Moorpark, Ojai, Simi Valley, Thousand Oaks)\", \"Route\": \"86 80-89 Coastal Express\", \"Period\": \"All Day\", \"Direction\": \"Westbound\", \"Direction (0/1)\": 0, \"# Realtime Trips\": 2, \"variable\": \"# Late Trips\", \"value\": 1, \"Percentage\": 50.0}, {\"Date\": \"2025-01-15T00:00:00\", \"Portfolio Organization Name\": \"Ventura County (VCTC, Gold Coast, Cities of Camarillo, Moorpark, Ojai, Simi Valley, Thousand Oaks)\", \"Route\": \"86 80-89 Coastal Express\", \"Period\": \"All Day\", \"Direction\": \"Westbound\", \"Direction (0/1)\": 0, \"# Realtime Trips\": 2, \"variable\": \"# Late Trips\", \"value\": 1, \"Percentage\": 50.0}, {\"Date\": \"2025-02-12T00:00:00\", \"Portfolio Organization Name\": \"Ventura County (VCTC, Gold Coast, Cities of Camarillo, Moorpark, Ojai, Simi Valley, Thousand Oaks)\", \"Route\": \"86 80-89 Coastal Express\", \"Period\": \"All Day\", \"Direction\": \"Westbound\", \"Direction (0/1)\": 0, \"# Realtime Trips\": 2, \"variable\": \"# Late Trips\", \"value\": 1, \"Percentage\": 50.0}, {\"Date\": \"2025-03-12T00:00:00\", \"Portfolio Organization Name\": \"Ventura County (VCTC, Gold Coast, Cities of Camarillo, Moorpark, Ojai, Simi Valley, Thousand Oaks)\", \"Route\": \"86 80-89 Coastal Express\", \"Period\": \"All Day\", \"Direction\": \"Westbound\", \"Direction (0/1)\": 0, \"# Realtime Trips\": 2, \"variable\": \"# Late Trips\", \"value\": 1, \"Percentage\": 50.0}, {\"Date\": \"2025-04-16T00:00:00\", \"Portfolio Organization Name\": \"Ventura County (VCTC, Gold Coast, Cities of Camarillo, Moorpark, Ojai, Simi Valley, Thousand Oaks)\", \"Route\": \"86 80-89 Coastal Express\", \"Period\": \"All Day\", \"Direction\": \"Westbound\", \"Direction (0/1)\": 0, \"# Realtime Trips\": 1, \"variable\": \"# Late Trips\", \"value\": 0, \"Percentage\": 0.0}, {\"Date\": \"2025-05-14T00:00:00\", \"Portfolio Organization Name\": \"Ventura County (VCTC, Gold Coast, Cities of Camarillo, Moorpark, Ojai, Simi Valley, Thousand Oaks)\", \"Route\": \"86 80-89 Coastal Express\", \"Period\": \"All Day\", \"Direction\": \"Westbound\", \"Direction (0/1)\": 0, \"# Realtime Trips\": 2, \"variable\": \"# Late Trips\", \"value\": 1, \"Percentage\": 50.0}, {\"Date\": \"2023-04-12T00:00:00\", \"Portfolio Organization Name\": \"Ventura County (VCTC, Gold Coast, Cities of Camarillo, Moorpark, Ojai, Simi Valley, Thousand Oaks)\", \"Route\": \"86 80-89 Coastal Express\", \"Period\": \"Offpeak\", \"Direction\": \"Westbound\", \"Direction (0/1)\": 0, \"# Realtime Trips\": 2, \"variable\": \"# Late Trips\", \"value\": 0, \"Percentage\": 0.0}, {\"Date\": \"2023-06-14T00:00:00\", \"Portfolio Organization Name\": \"Ventura County (VCTC, Gold Coast, Cities of Camarillo, Moorpark, Ojai, Simi Valley, Thousand Oaks)\", \"Route\": \"86 80-89 Coastal Express\", \"Period\": \"Offpeak\", \"Direction\": \"Westbound\", \"Direction (0/1)\": 0, \"# Realtime Trips\": 2, \"variable\": \"# Late Trips\", \"value\": 1, \"Percentage\": 50.0}, {\"Date\": \"2023-07-12T00:00:00\", \"Portfolio Organization Name\": \"Ventura County (VCTC, Gold Coast, Cities of Camarillo, Moorpark, Ojai, Simi Valley, Thousand Oaks)\", \"Route\": \"86 80-89 Coastal Express\", \"Period\": \"Offpeak\", \"Direction\": \"Westbound\", \"Direction (0/1)\": 0, \"# Realtime Trips\": 2, \"variable\": \"# Late Trips\", \"value\": 0, \"Percentage\": 0.0}, {\"Date\": \"2023-08-15T00:00:00\", \"Portfolio Organization Name\": \"Ventura County (VCTC, Gold Coast, Cities of Camarillo, Moorpark, Ojai, Simi Valley, Thousand Oaks)\", \"Route\": \"86 80-89 Coastal Express\", \"Period\": \"Offpeak\", \"Direction\": \"Westbound\", \"Direction (0/1)\": 0, \"# Realtime Trips\": 2, \"variable\": \"# Late Trips\", \"value\": 1, \"Percentage\": 50.0}, {\"Date\": \"2023-09-13T00:00:00\", \"Portfolio Organization Name\": \"Ventura County (VCTC, Gold Coast, Cities of Camarillo, Moorpark, Ojai, Simi Valley, Thousand Oaks)\", \"Route\": \"86 80-89 Coastal Express\", \"Period\": \"Offpeak\", \"Direction\": \"Westbound\", \"Direction (0/1)\": 0, \"# Realtime Trips\": 1, \"variable\": \"# Late Trips\", \"value\": 0, \"Percentage\": 0.0}, {\"Date\": \"2023-10-11T00:00:00\", \"Portfolio Organization Name\": \"Ventura County (VCTC, Gold Coast, Cities of Camarillo, Moorpark, Ojai, Simi Valley, Thousand Oaks)\", \"Route\": \"86 80-89 Coastal Express\", \"Period\": \"Offpeak\", \"Direction\": \"Westbound\", \"Direction (0/1)\": 0, \"# Realtime Trips\": 2, \"variable\": \"# Late Trips\", \"value\": 2, \"Percentage\": 100.0}, {\"Date\": \"2023-11-15T00:00:00\", \"Portfolio Organization Name\": \"Ventura County (VCTC, Gold Coast, Cities of Camarillo, Moorpark, Ojai, Simi Valley, Thousand Oaks)\", \"Route\": \"86 80-89 Coastal Express\", \"Period\": \"Offpeak\", \"Direction\": \"Westbound\", \"Direction (0/1)\": 0, \"# Realtime Trips\": 2, \"variable\": \"# Late Trips\", \"value\": 2, \"Percentage\": 100.0}, {\"Date\": \"2023-12-13T00:00:00\", \"Portfolio Organization Name\": \"Ventura County (VCTC, Gold Coast, Cities of Camarillo, Moorpark, Ojai, Simi Valley, Thousand Oaks)\", \"Route\": \"86 80-89 Coastal Express\", \"Period\": \"Offpeak\", \"Direction\": \"Westbound\", \"Direction (0/1)\": 0, \"# Realtime Trips\": 2, \"variable\": \"# Late Trips\", \"value\": 1, \"Percentage\": 50.0}, {\"Date\": \"2024-01-17T00:00:00\", \"Portfolio Organization Name\": \"Ventura County (VCTC, Gold Coast, Cities of Camarillo, Moorpark, Ojai, Simi Valley, Thousand Oaks)\", \"Route\": \"86 80-89 Coastal Express\", \"Period\": \"Offpeak\", \"Direction\": \"Westbound\", \"Direction (0/1)\": 0, \"# Realtime Trips\": 2, \"variable\": \"# Late Trips\", \"value\": 2, \"Percentage\": 100.0}, {\"Date\": \"2024-02-14T00:00:00\", \"Portfolio Organization Name\": \"Ventura County (VCTC, Gold Coast, Cities of Camarillo, Moorpark, Ojai, Simi Valley, Thousand Oaks)\", \"Route\": \"86 80-89 Coastal Express\", \"Period\": \"Offpeak\", \"Direction\": \"Westbound\", \"Direction (0/1)\": 0, \"# Realtime Trips\": 1, \"variable\": \"# Late Trips\", \"value\": 1, \"Percentage\": 100.0}, {\"Date\": \"2024-03-13T00:00:00\", \"Portfolio Organization Name\": \"Ventura County (VCTC, Gold Coast, Cities of Camarillo, Moorpark, Ojai, Simi Valley, Thousand Oaks)\", \"Route\": \"86 80-89 Coastal Express\", \"Period\": \"Offpeak\", \"Direction\": \"Westbound\", \"Direction (0/1)\": 0, \"# Realtime Trips\": 2, \"variable\": \"# Late Trips\", \"value\": 1, \"Percentage\": 50.0}, {\"Date\": \"2024-04-17T00:00:00\", \"Portfolio Organization Name\": \"Ventura County (VCTC, Gold Coast, Cities of Camarillo, Moorpark, Ojai, Simi Valley, Thousand Oaks)\", \"Route\": \"86 80-89 Coastal Express\", \"Period\": \"Offpeak\", \"Direction\": \"Westbound\", \"Direction (0/1)\": 0, \"# Realtime Trips\": 2, \"variable\": \"# Late Trips\", \"value\": 1, \"Percentage\": 50.0}, {\"Date\": \"2024-05-22T00:00:00\", \"Portfolio Organization Name\": \"Ventura County (VCTC, Gold Coast, Cities of Camarillo, Moorpark, Ojai, Simi Valley, Thousand Oaks)\", \"Route\": \"86 80-89 Coastal Express\", \"Period\": \"Offpeak\", \"Direction\": \"Westbound\", \"Direction (0/1)\": 0, \"# Realtime Trips\": 2, \"variable\": \"# Late Trips\", \"value\": 0, \"Percentage\": 0.0}, {\"Date\": \"2024-06-12T00:00:00\", \"Portfolio Organization Name\": \"Ventura County (VCTC, Gold Coast, Cities of Camarillo, Moorpark, Ojai, Simi Valley, Thousand Oaks)\", \"Route\": \"86 80-89 Coastal Express\", \"Period\": \"Offpeak\", \"Direction\": \"Westbound\", \"Direction (0/1)\": 0, \"# Realtime Trips\": 1, \"variable\": \"# Late Trips\", \"value\": 0, \"Percentage\": 0.0}, {\"Date\": \"2024-07-17T00:00:00\", \"Portfolio Organization Name\": \"Ventura County (VCTC, Gold Coast, Cities of Camarillo, Moorpark, Ojai, Simi Valley, Thousand Oaks)\", \"Route\": \"86 80-89 Coastal Express\", \"Period\": \"Offpeak\", \"Direction\": \"Westbound\", \"Direction (0/1)\": 0, \"# Realtime Trips\": 2, \"variable\": \"# Late Trips\", \"value\": 1, \"Percentage\": 50.0}, {\"Date\": \"2024-08-14T00:00:00\", \"Portfolio Organization Name\": \"Ventura County (VCTC, Gold Coast, Cities of Camarillo, Moorpark, Ojai, Simi Valley, Thousand Oaks)\", \"Route\": \"86 80-89 Coastal Express\", \"Period\": \"Offpeak\", \"Direction\": \"Westbound\", \"Direction (0/1)\": 0, \"# Realtime Trips\": 2, \"variable\": \"# Late Trips\", \"value\": 0, \"Percentage\": 0.0}, {\"Date\": \"2024-09-18T00:00:00\", \"Portfolio Organization Name\": \"Ventura County (VCTC, Gold Coast, Cities of Camarillo, Moorpark, Ojai, Simi Valley, Thousand Oaks)\", \"Route\": \"86 80-89 Coastal Express\", \"Period\": \"Offpeak\", \"Direction\": \"Westbound\", \"Direction (0/1)\": 0, \"# Realtime Trips\": 2, \"variable\": \"# Late Trips\", \"value\": 0, \"Percentage\": 0.0}, {\"Date\": \"2024-10-16T00:00:00\", \"Portfolio Organization Name\": \"Ventura County (VCTC, Gold Coast, Cities of Camarillo, Moorpark, Ojai, Simi Valley, Thousand Oaks)\", \"Route\": \"86 80-89 Coastal Express\", \"Period\": \"Offpeak\", \"Direction\": \"Westbound\", \"Direction (0/1)\": 0, \"# Realtime Trips\": 2, \"variable\": \"# Late Trips\", \"value\": 0, \"Percentage\": 0.0}, {\"Date\": \"2024-11-13T00:00:00\", \"Portfolio Organization Name\": \"Ventura County (VCTC, Gold Coast, Cities of Camarillo, Moorpark, Ojai, Simi Valley, Thousand Oaks)\", \"Route\": \"86 80-89 Coastal Express\", \"Period\": \"Offpeak\", \"Direction\": \"Westbound\", \"Direction (0/1)\": 0, \"# Realtime Trips\": 2, \"variable\": \"# Late Trips\", \"value\": 2, \"Percentage\": 100.0}, {\"Date\": \"2024-12-11T00:00:00\", \"Portfolio Organization Name\": \"Ventura County (VCTC, Gold Coast, Cities of Camarillo, Moorpark, Ojai, Simi Valley, Thousand Oaks)\", \"Route\": \"86 80-89 Coastal Express\", \"Period\": \"Offpeak\", \"Direction\": \"Westbound\", \"Direction (0/1)\": 0, \"# Realtime Trips\": 2, \"variable\": \"# Late Trips\", \"value\": 1, \"Percentage\": 50.0}, {\"Date\": \"2025-01-15T00:00:00\", \"Portfolio Organization Name\": \"Ventura County (VCTC, Gold Coast, Cities of Camarillo, Moorpark, Ojai, Simi Valley, Thousand Oaks)\", \"Route\": \"86 80-89 Coastal Express\", \"Period\": \"Offpeak\", \"Direction\": \"Westbound\", \"Direction (0/1)\": 0, \"# Realtime Trips\": 2, \"variable\": \"# Late Trips\", \"value\": 1, \"Percentage\": 50.0}, {\"Date\": \"2025-02-12T00:00:00\", \"Portfolio Organization Name\": \"Ventura County (VCTC, Gold Coast, Cities of Camarillo, Moorpark, Ojai, Simi Valley, Thousand Oaks)\", \"Route\": \"86 80-89 Coastal Express\", \"Period\": \"Offpeak\", \"Direction\": \"Westbound\", \"Direction (0/1)\": 0, \"# Realtime Trips\": 2, \"variable\": \"# Late Trips\", \"value\": 1, \"Percentage\": 50.0}, {\"Date\": \"2025-03-12T00:00:00\", \"Portfolio Organization Name\": \"Ventura County (VCTC, Gold Coast, Cities of Camarillo, Moorpark, Ojai, Simi Valley, Thousand Oaks)\", \"Route\": \"86 80-89 Coastal Express\", \"Period\": \"Offpeak\", \"Direction\": \"Westbound\", \"Direction (0/1)\": 0, \"# Realtime Trips\": 2, \"variable\": \"# Late Trips\", \"value\": 1, \"Percentage\": 50.0}, {\"Date\": \"2025-04-16T00:00:00\", \"Portfolio Organization Name\": \"Ventura County (VCTC, Gold Coast, Cities of Camarillo, Moorpark, Ojai, Simi Valley, Thousand Oaks)\", \"Route\": \"86 80-89 Coastal Express\", \"Period\": \"Offpeak\", \"Direction\": \"Westbound\", \"Direction (0/1)\": 0, \"# Realtime Trips\": 1, \"variable\": \"# Late Trips\", \"value\": 0, \"Percentage\": 0.0}, {\"Date\": \"2025-05-14T00:00:00\", \"Portfolio Organization Name\": \"Ventura County (VCTC, Gold Coast, Cities of Camarillo, Moorpark, Ojai, Simi Valley, Thousand Oaks)\", \"Route\": \"86 80-89 Coastal Express\", \"Period\": \"Offpeak\", \"Direction\": \"Westbound\", \"Direction (0/1)\": 0, \"# Realtime Trips\": 2, \"variable\": \"# Late Trips\", \"value\": 1, \"Percentage\": 50.0}, {\"Date\": \"2023-04-12T00:00:00\", \"Portfolio Organization Name\": \"Ventura County (VCTC, Gold Coast, Cities of Camarillo, Moorpark, Ojai, Simi Valley, Thousand Oaks)\", \"Route\": \"86 80-89 Coastal Express\", \"Period\": \"All Day\", \"Direction\": \"Eastbound\", \"Direction (0/1)\": 1, \"# Realtime Trips\": 2, \"variable\": \"# Late Trips\", \"value\": 2, \"Percentage\": 100.0}, {\"Date\": \"2023-06-14T00:00:00\", \"Portfolio Organization Name\": \"Ventura County (VCTC, Gold Coast, Cities of Camarillo, Moorpark, Ojai, Simi Valley, Thousand Oaks)\", \"Route\": \"86 80-89 Coastal Express\", \"Period\": \"All Day\", \"Direction\": \"Eastbound\", \"Direction (0/1)\": 1, \"# Realtime Trips\": 2, \"variable\": \"# Late Trips\", \"value\": 1, \"Percentage\": 50.0}, {\"Date\": \"2023-07-12T00:00:00\", \"Portfolio Organization Name\": \"Ventura County (VCTC, Gold Coast, Cities of Camarillo, Moorpark, Ojai, Simi Valley, Thousand Oaks)\", \"Route\": \"86 80-89 Coastal Express\", \"Period\": \"All Day\", \"Direction\": \"Eastbound\", \"Direction (0/1)\": 1, \"# Realtime Trips\": 1, \"variable\": \"# Late Trips\", \"value\": 1, \"Percentage\": 100.0}, {\"Date\": \"2023-08-15T00:00:00\", \"Portfolio Organization Name\": \"Ventura County (VCTC, Gold Coast, Cities of Camarillo, Moorpark, Ojai, Simi Valley, Thousand Oaks)\", \"Route\": \"86 80-89 Coastal Express\", \"Period\": \"All Day\", \"Direction\": \"Eastbound\", \"Direction (0/1)\": 1, \"# Realtime Trips\": 1, \"variable\": \"# Late Trips\", \"value\": 1, \"Percentage\": 100.0}, {\"Date\": \"2023-09-13T00:00:00\", \"Portfolio Organization Name\": \"Ventura County (VCTC, Gold Coast, Cities of Camarillo, Moorpark, Ojai, Simi Valley, Thousand Oaks)\", \"Route\": \"86 80-89 Coastal Express\", \"Period\": \"All Day\", \"Direction\": \"Eastbound\", \"Direction (0/1)\": 1, \"# Realtime Trips\": 2, \"variable\": \"# Late Trips\", \"value\": 2, \"Percentage\": 100.0}, {\"Date\": \"2023-10-11T00:00:00\", \"Portfolio Organization Name\": \"Ventura County (VCTC, Gold Coast, Cities of Camarillo, Moorpark, Ojai, Simi Valley, Thousand Oaks)\", \"Route\": \"86 80-89 Coastal Express\", \"Period\": \"All Day\", \"Direction\": \"Eastbound\", \"Direction (0/1)\": 1, \"# Realtime Trips\": 1, \"variable\": \"# Late Trips\", \"value\": 1, \"Percentage\": 100.0}, {\"Date\": \"2023-11-15T00:00:00\", \"Portfolio Organization Name\": \"Ventura County (VCTC, Gold Coast, Cities of Camarillo, Moorpark, Ojai, Simi Valley, Thousand Oaks)\", \"Route\": \"86 80-89 Coastal Express\", \"Period\": \"All Day\", \"Direction\": \"Eastbound\", \"Direction (0/1)\": 1, \"# Realtime Trips\": 2, \"variable\": \"# Late Trips\", \"value\": 2, \"Percentage\": 100.0}, {\"Date\": \"2024-01-17T00:00:00\", \"Portfolio Organization Name\": \"Ventura County (VCTC, Gold Coast, Cities of Camarillo, Moorpark, Ojai, Simi Valley, Thousand Oaks)\", \"Route\": \"86 80-89 Coastal Express\", \"Period\": \"All Day\", \"Direction\": \"Eastbound\", \"Direction (0/1)\": 1, \"# Realtime Trips\": 1, \"variable\": \"# Late Trips\", \"value\": 0, \"Percentage\": 0.0}, {\"Date\": \"2024-02-14T00:00:00\", \"Portfolio Organization Name\": \"Ventura County (VCTC, Gold Coast, Cities of Camarillo, Moorpark, Ojai, Simi Valley, Thousand Oaks)\", \"Route\": \"86 80-89 Coastal Express\", \"Period\": \"All Day\", \"Direction\": \"Eastbound\", \"Direction (0/1)\": 1, \"# Realtime Trips\": 1, \"variable\": \"# Late Trips\", \"value\": 1, \"Percentage\": 100.0}, {\"Date\": \"2024-03-13T00:00:00\", \"Portfolio Organization Name\": \"Ventura County (VCTC, Gold Coast, Cities of Camarillo, Moorpark, Ojai, Simi Valley, Thousand Oaks)\", \"Route\": \"86 80-89 Coastal Express\", \"Period\": \"All Day\", \"Direction\": \"Eastbound\", \"Direction (0/1)\": 1, \"# Realtime Trips\": 2, \"variable\": \"# Late Trips\", \"value\": 2, \"Percentage\": 100.0}, {\"Date\": \"2024-04-17T00:00:00\", \"Portfolio Organization Name\": \"Ventura County (VCTC, Gold Coast, Cities of Camarillo, Moorpark, Ojai, Simi Valley, Thousand Oaks)\", \"Route\": \"86 80-89 Coastal Express\", \"Period\": \"All Day\", \"Direction\": \"Eastbound\", \"Direction (0/1)\": 1, \"# Realtime Trips\": 2, \"variable\": \"# Late Trips\", \"value\": 2, \"Percentage\": 100.0}, {\"Date\": \"2024-05-22T00:00:00\", \"Portfolio Organization Name\": \"Ventura County (VCTC, Gold Coast, Cities of Camarillo, Moorpark, Ojai, Simi Valley, Thousand Oaks)\", \"Route\": \"86 80-89 Coastal Express\", \"Period\": \"All Day\", \"Direction\": \"Eastbound\", \"Direction (0/1)\": 1, \"# Realtime Trips\": 2, \"variable\": \"# Late Trips\", \"value\": 2, \"Percentage\": 100.0}, {\"Date\": \"2024-06-12T00:00:00\", \"Portfolio Organization Name\": \"Ventura County (VCTC, Gold Coast, Cities of Camarillo, Moorpark, Ojai, Simi Valley, Thousand Oaks)\", \"Route\": \"86 80-89 Coastal Express\", \"Period\": \"All Day\", \"Direction\": \"Eastbound\", \"Direction (0/1)\": 1, \"# Realtime Trips\": 2, \"variable\": \"# Late Trips\", \"value\": 2, \"Percentage\": 100.0}, {\"Date\": \"2024-07-17T00:00:00\", \"Portfolio Organization Name\": \"Ventura County (VCTC, Gold Coast, Cities of Camarillo, Moorpark, Ojai, Simi Valley, Thousand Oaks)\", \"Route\": \"86 80-89 Coastal Express\", \"Period\": \"All Day\", \"Direction\": \"Eastbound\", \"Direction (0/1)\": 1, \"# Realtime Trips\": 2, \"variable\": \"# Late Trips\", \"value\": 2, \"Percentage\": 100.0}, {\"Date\": \"2024-08-14T00:00:00\", \"Portfolio Organization Name\": \"Ventura County (VCTC, Gold Coast, Cities of Camarillo, Moorpark, Ojai, Simi Valley, Thousand Oaks)\", \"Route\": \"86 80-89 Coastal Express\", \"Period\": \"All Day\", \"Direction\": \"Eastbound\", \"Direction (0/1)\": 1, \"# Realtime Trips\": 1, \"variable\": \"# Late Trips\", \"value\": 1, \"Percentage\": 100.0}, {\"Date\": \"2024-09-18T00:00:00\", \"Portfolio Organization Name\": \"Ventura County (VCTC, Gold Coast, Cities of Camarillo, Moorpark, Ojai, Simi Valley, Thousand Oaks)\", \"Route\": \"86 80-89 Coastal Express\", \"Period\": \"All Day\", \"Direction\": \"Eastbound\", \"Direction (0/1)\": 1, \"# Realtime Trips\": 2, \"variable\": \"# Late Trips\", \"value\": 2, \"Percentage\": 100.0}, {\"Date\": \"2024-10-16T00:00:00\", \"Portfolio Organization Name\": \"Ventura County (VCTC, Gold Coast, Cities of Camarillo, Moorpark, Ojai, Simi Valley, Thousand Oaks)\", \"Route\": \"86 80-89 Coastal Express\", \"Period\": \"All Day\", \"Direction\": \"Eastbound\", \"Direction (0/1)\": 1, \"# Realtime Trips\": 2, \"variable\": \"# Late Trips\", \"value\": 1, \"Percentage\": 50.0}, {\"Date\": \"2024-11-13T00:00:00\", \"Portfolio Organization Name\": \"Ventura County (VCTC, Gold Coast, Cities of Camarillo, Moorpark, Ojai, Simi Valley, Thousand Oaks)\", \"Route\": \"86 80-89 Coastal Express\", \"Period\": \"All Day\", \"Direction\": \"Eastbound\", \"Direction (0/1)\": 1, \"# Realtime Trips\": 2, \"variable\": \"# Late Trips\", \"value\": 2, \"Percentage\": 100.0}, {\"Date\": \"2024-12-11T00:00:00\", \"Portfolio Organization Name\": \"Ventura County (VCTC, Gold Coast, Cities of Camarillo, Moorpark, Ojai, Simi Valley, Thousand Oaks)\", \"Route\": \"86 80-89 Coastal Express\", \"Period\": \"All Day\", \"Direction\": \"Eastbound\", \"Direction (0/1)\": 1, \"# Realtime Trips\": 2, \"variable\": \"# Late Trips\", \"value\": 2, \"Percentage\": 100.0}, {\"Date\": \"2025-01-15T00:00:00\", \"Portfolio Organization Name\": \"Ventura County (VCTC, Gold Coast, Cities of Camarillo, Moorpark, Ojai, Simi Valley, Thousand Oaks)\", \"Route\": \"86 80-89 Coastal Express\", \"Period\": \"All Day\", \"Direction\": \"Eastbound\", \"Direction (0/1)\": 1, \"# Realtime Trips\": 2, \"variable\": \"# Late Trips\", \"value\": 2, \"Percentage\": 100.0}, {\"Date\": \"2025-02-12T00:00:00\", \"Portfolio Organization Name\": \"Ventura County (VCTC, Gold Coast, Cities of Camarillo, Moorpark, Ojai, Simi Valley, Thousand Oaks)\", \"Route\": \"86 80-89 Coastal Express\", \"Period\": \"All Day\", \"Direction\": \"Eastbound\", \"Direction (0/1)\": 1, \"# Realtime Trips\": 2, \"variable\": \"# Late Trips\", \"value\": 2, \"Percentage\": 100.0}, {\"Date\": \"2025-03-12T00:00:00\", \"Portfolio Organization Name\": \"Ventura County (VCTC, Gold Coast, Cities of Camarillo, Moorpark, Ojai, Simi Valley, Thousand Oaks)\", \"Route\": \"86 80-89 Coastal Express\", \"Period\": \"All Day\", \"Direction\": \"Eastbound\", \"Direction (0/1)\": 1, \"# Realtime Trips\": 2, \"variable\": \"# Late Trips\", \"value\": 2, \"Percentage\": 100.0}, {\"Date\": \"2025-04-16T00:00:00\", \"Portfolio Organization Name\": \"Ventura County (VCTC, Gold Coast, Cities of Camarillo, Moorpark, Ojai, Simi Valley, Thousand Oaks)\", \"Route\": \"86 80-89 Coastal Express\", \"Period\": \"All Day\", \"Direction\": \"Eastbound\", \"Direction (0/1)\": 1, \"# Realtime Trips\": 2, \"variable\": \"# Late Trips\", \"value\": 2, \"Percentage\": 100.0}, {\"Date\": \"2025-05-14T00:00:00\", \"Portfolio Organization Name\": \"Ventura County (VCTC, Gold Coast, Cities of Camarillo, Moorpark, Ojai, Simi Valley, Thousand Oaks)\", \"Route\": \"86 80-89 Coastal Express\", \"Period\": \"All Day\", \"Direction\": \"Eastbound\", \"Direction (0/1)\": 1, \"# Realtime Trips\": 2, \"variable\": \"# Late Trips\", \"value\": 2, \"Percentage\": 100.0}, {\"Date\": \"2023-04-12T00:00:00\", \"Portfolio Organization Name\": \"Ventura County (VCTC, Gold Coast, Cities of Camarillo, Moorpark, Ojai, Simi Valley, Thousand Oaks)\", \"Route\": \"86 80-89 Coastal Express\", \"Period\": \"Peak\", \"Direction\": \"Eastbound\", \"Direction (0/1)\": 1, \"# Realtime Trips\": 2, \"variable\": \"# Late Trips\", \"value\": 2, \"Percentage\": 100.0}, {\"Date\": \"2023-06-14T00:00:00\", \"Portfolio Organization Name\": \"Ventura County (VCTC, Gold Coast, Cities of Camarillo, Moorpark, Ojai, Simi Valley, Thousand Oaks)\", \"Route\": \"86 80-89 Coastal Express\", \"Period\": \"Peak\", \"Direction\": \"Eastbound\", \"Direction (0/1)\": 1, \"# Realtime Trips\": 2, \"variable\": \"# Late Trips\", \"value\": 1, \"Percentage\": 50.0}, {\"Date\": \"2023-07-12T00:00:00\", \"Portfolio Organization Name\": \"Ventura County (VCTC, Gold Coast, Cities of Camarillo, Moorpark, Ojai, Simi Valley, Thousand Oaks)\", \"Route\": \"86 80-89 Coastal Express\", \"Period\": \"Peak\", \"Direction\": \"Eastbound\", \"Direction (0/1)\": 1, \"# Realtime Trips\": 1, \"variable\": \"# Late Trips\", \"value\": 1, \"Percentage\": 100.0}, {\"Date\": \"2023-08-15T00:00:00\", \"Portfolio Organization Name\": \"Ventura County (VCTC, Gold Coast, Cities of Camarillo, Moorpark, Ojai, Simi Valley, Thousand Oaks)\", \"Route\": \"86 80-89 Coastal Express\", \"Period\": \"Peak\", \"Direction\": \"Eastbound\", \"Direction (0/1)\": 1, \"# Realtime Trips\": 1, \"variable\": \"# Late Trips\", \"value\": 1, \"Percentage\": 100.0}, {\"Date\": \"2023-09-13T00:00:00\", \"Portfolio Organization Name\": \"Ventura County (VCTC, Gold Coast, Cities of Camarillo, Moorpark, Ojai, Simi Valley, Thousand Oaks)\", \"Route\": \"86 80-89 Coastal Express\", \"Period\": \"Peak\", \"Direction\": \"Eastbound\", \"Direction (0/1)\": 1, \"# Realtime Trips\": 2, \"variable\": \"# Late Trips\", \"value\": 2, \"Percentage\": 100.0}, {\"Date\": \"2023-10-11T00:00:00\", \"Portfolio Organization Name\": \"Ventura County (VCTC, Gold Coast, Cities of Camarillo, Moorpark, Ojai, Simi Valley, Thousand Oaks)\", \"Route\": \"86 80-89 Coastal Express\", \"Period\": \"Peak\", \"Direction\": \"Eastbound\", \"Direction (0/1)\": 1, \"# Realtime Trips\": 1, \"variable\": \"# Late Trips\", \"value\": 1, \"Percentage\": 100.0}, {\"Date\": \"2023-11-15T00:00:00\", \"Portfolio Organization Name\": \"Ventura County (VCTC, Gold Coast, Cities of Camarillo, Moorpark, Ojai, Simi Valley, Thousand Oaks)\", \"Route\": \"86 80-89 Coastal Express\", \"Period\": \"Peak\", \"Direction\": \"Eastbound\", \"Direction (0/1)\": 1, \"# Realtime Trips\": 2, \"variable\": \"# Late Trips\", \"value\": 2, \"Percentage\": 100.0}, {\"Date\": \"2024-01-17T00:00:00\", \"Portfolio Organization Name\": \"Ventura County (VCTC, Gold Coast, Cities of Camarillo, Moorpark, Ojai, Simi Valley, Thousand Oaks)\", \"Route\": \"86 80-89 Coastal Express\", \"Period\": \"Peak\", \"Direction\": \"Eastbound\", \"Direction (0/1)\": 1, \"# Realtime Trips\": 1, \"variable\": \"# Late Trips\", \"value\": 0, \"Percentage\": 0.0}, {\"Date\": \"2024-02-14T00:00:00\", \"Portfolio Organization Name\": \"Ventura County (VCTC, Gold Coast, Cities of Camarillo, Moorpark, Ojai, Simi Valley, Thousand Oaks)\", \"Route\": \"86 80-89 Coastal Express\", \"Period\": \"Peak\", \"Direction\": \"Eastbound\", \"Direction (0/1)\": 1, \"# Realtime Trips\": 1, \"variable\": \"# Late Trips\", \"value\": 1, \"Percentage\": 100.0}, {\"Date\": \"2024-03-13T00:00:00\", \"Portfolio Organization Name\": \"Ventura County (VCTC, Gold Coast, Cities of Camarillo, Moorpark, Ojai, Simi Valley, Thousand Oaks)\", \"Route\": \"86 80-89 Coastal Express\", \"Period\": \"Peak\", \"Direction\": \"Eastbound\", \"Direction (0/1)\": 1, \"# Realtime Trips\": 2, \"variable\": \"# Late Trips\", \"value\": 2, \"Percentage\": 100.0}, {\"Date\": \"2024-04-17T00:00:00\", \"Portfolio Organization Name\": \"Ventura County (VCTC, Gold Coast, Cities of Camarillo, Moorpark, Ojai, Simi Valley, Thousand Oaks)\", \"Route\": \"86 80-89 Coastal Express\", \"Period\": \"Peak\", \"Direction\": \"Eastbound\", \"Direction (0/1)\": 1, \"# Realtime Trips\": 2, \"variable\": \"# Late Trips\", \"value\": 2, \"Percentage\": 100.0}, {\"Date\": \"2024-05-22T00:00:00\", \"Portfolio Organization Name\": \"Ventura County (VCTC, Gold Coast, Cities of Camarillo, Moorpark, Ojai, Simi Valley, Thousand Oaks)\", \"Route\": \"86 80-89 Coastal Express\", \"Period\": \"Peak\", \"Direction\": \"Eastbound\", \"Direction (0/1)\": 1, \"# Realtime Trips\": 2, \"variable\": \"# Late Trips\", \"value\": 2, \"Percentage\": 100.0}, {\"Date\": \"2024-06-12T00:00:00\", \"Portfolio Organization Name\": \"Ventura County (VCTC, Gold Coast, Cities of Camarillo, Moorpark, Ojai, Simi Valley, Thousand Oaks)\", \"Route\": \"86 80-89 Coastal Express\", \"Period\": \"Peak\", \"Direction\": \"Eastbound\", \"Direction (0/1)\": 1, \"# Realtime Trips\": 2, \"variable\": \"# Late Trips\", \"value\": 2, \"Percentage\": 100.0}, {\"Date\": \"2024-07-17T00:00:00\", \"Portfolio Organization Name\": \"Ventura County (VCTC, Gold Coast, Cities of Camarillo, Moorpark, Ojai, Simi Valley, Thousand Oaks)\", \"Route\": \"86 80-89 Coastal Express\", \"Period\": \"Peak\", \"Direction\": \"Eastbound\", \"Direction (0/1)\": 1, \"# Realtime Trips\": 2, \"variable\": \"# Late Trips\", \"value\": 2, \"Percentage\": 100.0}, {\"Date\": \"2024-08-14T00:00:00\", \"Portfolio Organization Name\": \"Ventura County (VCTC, Gold Coast, Cities of Camarillo, Moorpark, Ojai, Simi Valley, Thousand Oaks)\", \"Route\": \"86 80-89 Coastal Express\", \"Period\": \"Peak\", \"Direction\": \"Eastbound\", \"Direction (0/1)\": 1, \"# Realtime Trips\": 1, \"variable\": \"# Late Trips\", \"value\": 1, \"Percentage\": 100.0}, {\"Date\": \"2024-09-18T00:00:00\", \"Portfolio Organization Name\": \"Ventura County (VCTC, Gold Coast, Cities of Camarillo, Moorpark, Ojai, Simi Valley, Thousand Oaks)\", \"Route\": \"86 80-89 Coastal Express\", \"Period\": \"Peak\", \"Direction\": \"Eastbound\", \"Direction (0/1)\": 1, \"# Realtime Trips\": 2, \"variable\": \"# Late Trips\", \"value\": 2, \"Percentage\": 100.0}, {\"Date\": \"2024-10-16T00:00:00\", \"Portfolio Organization Name\": \"Ventura County (VCTC, Gold Coast, Cities of Camarillo, Moorpark, Ojai, Simi Valley, Thousand Oaks)\", \"Route\": \"86 80-89 Coastal Express\", \"Period\": \"Peak\", \"Direction\": \"Eastbound\", \"Direction (0/1)\": 1, \"# Realtime Trips\": 2, \"variable\": \"# Late Trips\", \"value\": 1, \"Percentage\": 50.0}, {\"Date\": \"2024-11-13T00:00:00\", \"Portfolio Organization Name\": \"Ventura County (VCTC, Gold Coast, Cities of Camarillo, Moorpark, Ojai, Simi Valley, Thousand Oaks)\", \"Route\": \"86 80-89 Coastal Express\", \"Period\": \"Peak\", \"Direction\": \"Eastbound\", \"Direction (0/1)\": 1, \"# Realtime Trips\": 2, \"variable\": \"# Late Trips\", \"value\": 2, \"Percentage\": 100.0}, {\"Date\": \"2024-12-11T00:00:00\", \"Portfolio Organization Name\": \"Ventura County (VCTC, Gold Coast, Cities of Camarillo, Moorpark, Ojai, Simi Valley, Thousand Oaks)\", \"Route\": \"86 80-89 Coastal Express\", \"Period\": \"Peak\", \"Direction\": \"Eastbound\", \"Direction (0/1)\": 1, \"# Realtime Trips\": 2, \"variable\": \"# Late Trips\", \"value\": 2, \"Percentage\": 100.0}, {\"Date\": \"2025-01-15T00:00:00\", \"Portfolio Organization Name\": \"Ventura County (VCTC, Gold Coast, Cities of Camarillo, Moorpark, Ojai, Simi Valley, Thousand Oaks)\", \"Route\": \"86 80-89 Coastal Express\", \"Period\": \"Peak\", \"Direction\": \"Eastbound\", \"Direction (0/1)\": 1, \"# Realtime Trips\": 2, \"variable\": \"# Late Trips\", \"value\": 2, \"Percentage\": 100.0}, {\"Date\": \"2025-02-12T00:00:00\", \"Portfolio Organization Name\": \"Ventura County (VCTC, Gold Coast, Cities of Camarillo, Moorpark, Ojai, Simi Valley, Thousand Oaks)\", \"Route\": \"86 80-89 Coastal Express\", \"Period\": \"Peak\", \"Direction\": \"Eastbound\", \"Direction (0/1)\": 1, \"# Realtime Trips\": 2, \"variable\": \"# Late Trips\", \"value\": 2, \"Percentage\": 100.0}, {\"Date\": \"2025-03-12T00:00:00\", \"Portfolio Organization Name\": \"Ventura County (VCTC, Gold Coast, Cities of Camarillo, Moorpark, Ojai, Simi Valley, Thousand Oaks)\", \"Route\": \"86 80-89 Coastal Express\", \"Period\": \"Peak\", \"Direction\": \"Eastbound\", \"Direction (0/1)\": 1, \"# Realtime Trips\": 2, \"variable\": \"# Late Trips\", \"value\": 2, \"Percentage\": 100.0}, {\"Date\": \"2025-04-16T00:00:00\", \"Portfolio Organization Name\": \"Ventura County (VCTC, Gold Coast, Cities of Camarillo, Moorpark, Ojai, Simi Valley, Thousand Oaks)\", \"Route\": \"86 80-89 Coastal Express\", \"Period\": \"Peak\", \"Direction\": \"Eastbound\", \"Direction (0/1)\": 1, \"# Realtime Trips\": 2, \"variable\": \"# Late Trips\", \"value\": 2, \"Percentage\": 100.0}, {\"Date\": \"2025-05-14T00:00:00\", \"Portfolio Organization Name\": \"Ventura County (VCTC, Gold Coast, Cities of Camarillo, Moorpark, Ojai, Simi Valley, Thousand Oaks)\", \"Route\": \"86 80-89 Coastal Express\", \"Period\": \"Peak\", \"Direction\": \"Eastbound\", \"Direction (0/1)\": 1, \"# Realtime Trips\": 2, \"variable\": \"# Late Trips\", \"value\": 2, \"Percentage\": 100.0}]}}, {\"mode\": \"vega-lite\"});\n",
       "</script>"
      ],
      "text/plain": [
       "alt.Chart(...)"
      ]
     },
     "execution_count": 35,
     "metadata": {},
     "output_type": "execute_result"
    }
   ],
   "source": [
    "_report_route_dir_visuals.grouped_bar_chart(\n",
    "        df2,\n",
    "        x_col = \"Date\",\n",
    "        y_col=\"Percentage\",\n",
    "        color_col=\"variable\",\n",
    "        color_scheme = [*specific_chart_dict.colors],\n",
    "        tooltip_cols = [*specific_chart_dict.tooltip],\n",
    "        date_format = \"\",\n",
    "        offset_col=\"variable:N\",\n",
    "    ).facet(\n",
    "        column=alt.Column(\n",
    "            \"Period:N\",\n",
    "        )"
   ]
  }
 ],
 "metadata": {
  "kernelspec": {
   "display_name": "Python 3 (ipykernel)",
   "language": "python",
   "name": "python3"
  },
  "language_info": {
   "codemirror_mode": {
    "name": "ipython",
    "version": 3
   },
   "file_extension": ".py",
   "mimetype": "text/x-python",
   "name": "python",
   "nbconvert_exporter": "python",
   "pygments_lexer": "ipython3",
   "version": "3.11.10"
  }
 },
 "nbformat": 4,
 "nbformat_minor": 5
}
