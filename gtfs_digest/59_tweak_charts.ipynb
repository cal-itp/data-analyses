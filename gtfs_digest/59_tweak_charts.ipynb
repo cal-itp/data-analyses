{
 "cells": [
  {
   "cell_type": "markdown",
   "id": "e2c7b756-ea67-4173-839f-a72b2dfbf3b8",
   "metadata": {},
   "source": [
    "# GTFS Digest Tweaks [PR](https://github.com/cal-itp/data-analyses/issues/1416)"
   ]
  },
  {
   "cell_type": "code",
   "execution_count": null,
   "id": "ac1dd2b6-c3ab-408b-a2ff-e4e11e98445b",
   "metadata": {
    "tags": []
   },
   "outputs": [],
   "source": [
    "import _report_utils\n",
    "import _section1_utils as section1\n",
    "import _section2_utils as section2\n",
    "import geopandas as gpd\n",
    "import merge_data\n",
    "import merge_operator_data\n",
    "import numpy as np\n",
    "import pandas as pd\n",
    "from segment_speed_utils import gtfs_schedule_wrangling, helpers\n",
    "from segment_speed_utils.project_vars import COMPILED_CACHED_VIEWS, PROJECT_CRS\n",
    "from shared_utils import (\n",
    "    catalog_utils,\n",
    "    portfolio_utils,\n",
    "    rt_dates,\n",
    "    rt_utils,\n",
    "    time_helpers,\n",
    ")\n",
    "from update_vars import GTFS_DATA_DICT, RT_SCHED_GCS, SCHED_GCS, SEGMENT_GCS"
   ]
  },
  {
   "cell_type": "code",
   "execution_count": null,
   "id": "d192026e-b6b2-460c-875a-78caa1b87a80",
   "metadata": {
    "tags": []
   },
   "outputs": [],
   "source": [
    "# Data Dictionary\n",
    "GTFS_DATA_DICT = catalog_utils.get_catalog(\"gtfs_analytics_data\")\n",
    "\n",
    "import yaml\n",
    "\n",
    "with open(\"readable.yml\") as f:\n",
    "    readable_dict = yaml.safe_load(f)\n",
    "\n",
    "# Color Palette\n",
    "with open(\"color_palettes.yml\") as f:\n",
    "    color_dict = yaml.safe_load(f)\n",
    "import altair as alt\n",
    "\n",
    "alt.data_transformers.enable(\"default\", max_rows=None)\n",
    "import _report_utils"
   ]
  },
  {
   "cell_type": "code",
   "execution_count": null,
   "id": "f3ef7fc4-676f-4ee0-881e-cbdc85e2e6c6",
   "metadata": {
    "tags": []
   },
   "outputs": [],
   "source": [
    "pd.options.display.max_columns = 100\n",
    "pd.options.display.float_format = \"{:.2f}\".format\n",
    "pd.set_option(\"display.max_rows\", None)\n",
    "pd.set_option(\"display.max_colwidth\", None)"
   ]
  },
  {
   "cell_type": "code",
   "execution_count": null,
   "id": "1a65a299-ca32-4360-ae0f-ab0217eb954b",
   "metadata": {
    "tags": []
   },
   "outputs": [],
   "source": [
    "analysis_date_list = [rt_dates.DATES[\"feb2025\"]]"
   ]
  },
  {
   "cell_type": "code",
   "execution_count": null,
   "id": "a51b8fbb-37a6-43c2-84ea-c711b34edf4a",
   "metadata": {
    "tags": []
   },
   "outputs": [],
   "source": [
    "analysis_date = rt_dates.DATES[\"feb2025\"]"
   ]
  },
  {
   "cell_type": "code",
   "execution_count": null,
   "id": "2f29df16-388b-495b-9dd7-2abec47f0877",
   "metadata": {
    "tags": []
   },
   "outputs": [],
   "source": [
    "schd_vp_url = f\"{GTFS_DATA_DICT.digest_tables.dir}{GTFS_DATA_DICT.digest_tables.route_schedule_vp}.parquet\""
   ]
  },
  {
   "cell_type": "code",
   "execution_count": null,
   "id": "4ce0064d-60f1-4306-b48c-ec172a8e3ff4",
   "metadata": {
    "tags": []
   },
   "outputs": [],
   "source": [
    "sdi = \"San Diego Metropolitan Transit System\""
   ]
  },
  {
   "cell_type": "code",
   "execution_count": null,
   "id": "4eb287e1-42ca-4cb5-95e3-23238e104fd7",
   "metadata": {
    "tags": []
   },
   "outputs": [],
   "source": [
    "df = section2.load_schedule_vp_metrics(sdi)"
   ]
  },
  {
   "cell_type": "code",
   "execution_count": null,
   "id": "87fb00ad-9b12-4e08-b236-6b23019b48f3",
   "metadata": {
    "tags": []
   },
   "outputs": [],
   "source": [
    "# Create dropdown\n",
    "routes_list = df[\"Route\"].unique().tolist()\n",
    "\n",
    "route_dropdown = alt.binding_select(\n",
    "    options=routes_list,\n",
    "    name=\"Routes: \",\n",
    ")\n",
    "# Column that controls the bar charts\n",
    "xcol_param = alt.selection_point(\n",
    "    fields=[\"Route\"], value=routes_list[0], bind=route_dropdown\n",
    ")"
   ]
  },
  {
   "cell_type": "code",
   "execution_count": null,
   "id": "3c2f43e4-a138-4e0e-9833-4b237a28ea42",
   "metadata": {
    "tags": []
   },
   "outputs": [],
   "source": [
    "def clean_data_charts(df: pd.DataFrame, y_col: str) -> pd.DataFrame:\n",
    "    \"\"\"\n",
    "    Do some basic cleaning to the datafarmes.\n",
    "    \"\"\"\n",
    "    df[\"Period\"] = df[\"Period\"].str.replace(\"_\", \" \").str.title()\n",
    "    df[y_col] = df[y_col].fillna(0).astype(int)\n",
    "    df[f\"{y_col}_str\"] = df[y_col].astype(str)\n",
    "\n",
    "    return df\n",
    "\n",
    "\n",
    "def set_y_axis(df, y_col):\n",
    "    \"\"\"\n",
    "    Set y_axis automatically depending on the\n",
    "    column used to generate the y_axis.\n",
    "    \"\"\"\n",
    "    if \"%\" in y_col:\n",
    "        max_y = 100\n",
    "    elif \"VP\" in y_col:\n",
    "        max_y = 3\n",
    "    elif \"Minute\" in y_col:\n",
    "        max_y = round(df[y_col].max())\n",
    "    else:\n",
    "        max_y = round(df[y_col].max(), -1) + 5\n",
    "    return max_y"
   ]
  },
  {
   "cell_type": "markdown",
   "id": "45ff6cef-c98c-4d11-bbb3-7b9fc4098ccc",
   "metadata": {},
   "source": [
    "## Don't Delete: Testing"
   ]
  },
  {
   "cell_type": "code",
   "execution_count": null,
   "id": "fa9547f3-f6f9-4af3-b29a-f984ee609c75",
   "metadata": {},
   "outputs": [],
   "source": [
    "# display(section2.filtered_route(df))"
   ]
  },
  {
   "cell_type": "markdown",
   "id": "83ef1d45-28fa-4b9d-9370-30ded177d54c",
   "metadata": {},
   "source": [
    "## Change embedded averages from text to charts."
   ]
  },
  {
   "cell_type": "markdown",
   "id": "69f1d047-3402-428d-9b6e-a46bba8ec974",
   "metadata": {},
   "source": [
    "###  The average length of a route is X miles."
   ]
  },
  {
   "cell_type": "code",
   "execution_count": null,
   "id": "a7a311f0-8554-4c0f-b4ff-a36b91ceb178",
   "metadata": {
    "tags": []
   },
   "outputs": [],
   "source": [
    "# Load first dataset\n",
    "operator_profiles = section1.load_operator_ntd_profile(sdi)"
   ]
  },
  {
   "cell_type": "code",
   "execution_count": null,
   "id": "759fa561-a5cc-412e-a974-54b7d95bcf7a",
   "metadata": {
    "tags": []
   },
   "outputs": [],
   "source": [
    "name = section1.organization_name_crosswalk(sdi)"
   ]
  },
  {
   "cell_type": "code",
   "execution_count": null,
   "id": "82ffeccf-9c7b-4e78-95a5-843e96e279b0",
   "metadata": {
    "tags": []
   },
   "outputs": [],
   "source": [
    "operator_route_map = section1.load_operator_map(name)"
   ]
  },
  {
   "cell_type": "code",
   "execution_count": null,
   "id": "8fc840d0-e270-45fd-b47c-b4cb2da29d8a",
   "metadata": {
    "tags": []
   },
   "outputs": [],
   "source": [
    "# operator_route_map.drop(columns = [\"geometry\"]).head()"
   ]
  },
  {
   "cell_type": "code",
   "execution_count": null,
   "id": "bca5ba1b-518d-4e84-a3f4-16b2e31f98fd",
   "metadata": {
    "tags": []
   },
   "outputs": [],
   "source": [
    "route_service_length = (\n",
    "    operator_route_map[\"Service Miles\"].describe().transpose().to_frame().reset_index()\n",
    ")"
   ]
  },
  {
   "cell_type": "code",
   "execution_count": null,
   "id": "78fec74f-de84-45d2-9094-996977bdbbbe",
   "metadata": {
    "tags": []
   },
   "outputs": [],
   "source": [
    "def percentiles(df, col_of_interest: str):\n",
    "    # Get percentiles in objects for total vehicle.\n",
    "    p75 = df[col_of_interest].quantile(0.75).astype(float)\n",
    "    p25 = df[col_of_interest].quantile(0.25).astype(float)\n",
    "    p50 = df[col_of_interest].quantile(0.50).astype(float)\n",
    "\n",
    "    # actually categorize each value for percentile\n",
    "    def percentile_categorize(row):\n",
    "        if (row[col_of_interest] > 0) and (row[col_of_interest] <= p25):\n",
    "            return \"25th percentile\"\n",
    "        elif (row[col_of_interest] > p25) and (row[col_of_interest] <= p50):\n",
    "            return \"50th percentile\"\n",
    "        elif (row[col_of_interest] > p50) and (row[col_of_interest] <= p75):\n",
    "            return \"50-75th percentile\"\n",
    "        elif row[col_of_interest] > p75:\n",
    "            return \"75th percentile\"\n",
    "        else:\n",
    "            return \"Zero\"\n",
    "\n",
    "    df[f\"{col_of_interest}_percentile\"] = df.apply(\n",
    "        lambda x: percentile_categorize(x), axis=1\n",
    "    )\n",
    "\n",
    "    return df"
   ]
  },
  {
   "cell_type": "code",
   "execution_count": null,
   "id": "3bdb1d1a-ff81-418c-991c-ffe0f1f16927",
   "metadata": {
    "tags": []
   },
   "outputs": [],
   "source": [
    "operator_route_map = percentiles(operator_route_map, \"Service Miles\")"
   ]
  },
  {
   "cell_type": "code",
   "execution_count": null,
   "id": "6da6e26c-1404-4cfc-ba82-901b30aec9c6",
   "metadata": {
    "tags": []
   },
   "outputs": [],
   "source": [
    "operator_route_map[\"Service Miles_percentile\"].value_counts()"
   ]
  },
  {
   "cell_type": "code",
   "execution_count": null,
   "id": "a83079c9-292b-4909-9d89-c8bd4b788b69",
   "metadata": {
    "scrolled": true,
    "tags": []
   },
   "outputs": [],
   "source": [
    "percentile_agg = operator_route_map.groupby([\"Service Miles_percentile\"]).agg(\n",
    "    {\"Route\": \"nunique\"}\n",
    ").reset_index().rename(columns={\"Route\": \"Total Unique Routes\",\n",
    "                               \"Service Miles_percentile\":\"Service Miles Percentile Group\"})"
   ]
  },
  {
   "cell_type": "code",
   "execution_count": null,
   "id": "93a060a7-b7df-4330-a459-9047ee304494",
   "metadata": {
    "tags": []
   },
   "outputs": [],
   "source": [
    "percentile_agg = percentile_agg.loc[percentile_agg[\"Service Miles Percentile Group\"] != \"Zero\"]"
   ]
  },
  {
   "cell_type": "code",
   "execution_count": null,
   "id": "698800f9-4acc-44db-b085-34bf81a0ff10",
   "metadata": {
    "tags": []
   },
   "outputs": [],
   "source": [
    "section1.basic_bar_chart(\n",
    "    percentile_agg,\n",
    "      \"Total Unique Routes\",\n",
    "    \"Service Miles Percentile Group\",\n",
    "    readable_dict[\"longest_shortest_route\"][\"title\"],\n",
    "    readable_dict[\"longest_shortest_route\"][\"subtitle\"],\n",
    ")"
   ]
  },
  {
   "cell_type": "code",
   "execution_count": null,
   "id": "a4ce827d-159e-4924-a297-c3c959236439",
   "metadata": {
    "tags": []
   },
   "outputs": [],
   "source": [
    "operator_profiles"
   ]
  },
  {
   "cell_type": "markdown",
   "id": "3035bee5-7ffe-42b9-845f-6a87f7e6b098",
   "metadata": {},
   "source": [
    "## Show Trips per Day"
   ]
  },
  {
   "cell_type": "code",
   "execution_count": null,
   "id": "10747f6e-22b6-4448-b5b2-adc40040d01f",
   "metadata": {
    "tags": []
   },
   "outputs": [],
   "source": [
    "df.head(1)"
   ]
  },
  {
   "cell_type": "code",
   "execution_count": null,
   "id": "44793d12-bb93-4778-b649-bff15a5307d5",
   "metadata": {
    "tags": []
   },
   "outputs": [],
   "source": [
    "df[[\"Date\", \"Route\", \"Period\", \"# scheduled trips\", \"# Trips with VP\"]].head()"
   ]
  },
  {
   "cell_type": "code",
   "execution_count": null,
   "id": "312b3c66-d42c-4d9c-ba0a-d12bd4b2df51",
   "metadata": {
    "tags": []
   },
   "outputs": [],
   "source": [
    "# Create color scale\n",
    "color_scale = alt.Scale(\n",
    "    domain=color_dict[\"spatial_accuracy_domain\"],\n",
    "    range=color_dict[\"spatial_accuracy_range\"],\n",
    ")"
   ]
  },
  {
   "cell_type": "code",
   "execution_count": null,
   "id": "7b08323c-84cd-4053-8372-973e21e37708",
   "metadata": {
    "tags": []
   },
   "outputs": [],
   "source": [
    "section2.grouped_bar_chart(\n",
    "    df.loc[(df.dir_0_1 == 0) & (df.Period != \"All Day\")],\n",
    "    color_col=\"Period\",\n",
    "    y_col=\"# scheduled trips\",\n",
    "    offset_col=\"Period\",\n",
    "    title=readable_dict[\"trips_per_day_graph\"],\n",
    "    subtitle=\"\",\n",
    "    range_color=color_dict[\"spatial_accuracy_range\"],\n",
    "    title_inc_dir=True,\n",
    ").add_params(xcol_param).transform_filter(xcol_param)"
   ]
  },
  {
   "cell_type": "code",
   "execution_count": null,
   "id": "75f8076a-ed01-4261-9384-590280f01e86",
   "metadata": {
    "tags": []
   },
   "outputs": [],
   "source": [
    "(\n",
    "    alt.Chart(df.loc[(df.dir_0_1 == 0) & (df.Period != \"All Day\")])\n",
    "    .mark_bar(size=3, clip=True)\n",
    "    .encode(\n",
    "        y=alt.Y(\n",
    "            \"yearmonthdate(Date):O\",\n",
    "            title=[\"Date\"],\n",
    "            axis=alt.Axis(format=\"%b %Y\"),\n",
    "        ),\n",
    "        x=alt.X(\n",
    "            \"# scheduled trips:Q\",\n",
    "            title=_report_utils.labeling(\"# scheduled trips\"),\n",
    "            scale=alt.Scale(domain=[0, 240]),\n",
    "        ),\n",
    "        color=alt.Color(\n",
    "            \"# scheduled trips:Q\",\n",
    "            scale=color_scale,\n",
    "            title=_report_utils.labeling(\"# scheduled trips\"),\n",
    "        ),\n",
    "        tooltip=[\"Date\", \"Route\", \"# scheduled trips\", \"Period\", \"Direction\"],\n",
    "    )\n",
    ").facet(column=alt.Column(\"Period:N\")).add_params(xcol_param).transform_filter(\n",
    "    xcol_param\n",
    ")"
   ]
  },
  {
   "cell_type": "markdown",
   "id": "1bcbeb3b-73da-4ae3-b322-2f481dbaa844",
   "metadata": {
    "tags": []
   },
   "source": [
    "## Timeliness of Trips, change to line chart\n",
    "* How come the early, on time, and late trips don't add up?"
   ]
  },
  {
   "cell_type": "code",
   "execution_count": null,
   "id": "a83c282b-2aca-4642-9d51-fe9a3d404c32",
   "metadata": {
    "tags": []
   },
   "outputs": [],
   "source": [
    "df.columns"
   ]
  },
  {
   "cell_type": "code",
   "execution_count": null,
   "id": "597e1f04-3b55-440b-996a-6900e7d14194",
   "metadata": {
    "tags": []
   },
   "outputs": [],
   "source": [
    "timeliness_df2 = df.melt(\n",
    "    id_vars=[\n",
    "        \"Date\",\n",
    "        \"Organization\",\n",
    "        \"Route\",\n",
    "        \"Period\",\n",
    "        \"Direction\",\n",
    "        \"dir_0_1\",\n",
    "        \"# Trips with VP\",\n",
    "    ],\n",
    "    value_vars=[\n",
    "        \"# Early Arrival Trips\",\n",
    "        \"# On-Time Trips\",\n",
    "        \"# Late Trips\",\n",
    "    ],\n",
    ")"
   ]
  },
  {
   "cell_type": "code",
   "execution_count": null,
   "id": "b4ea9fe3-a5b3-4844-b4a9-f7b05780282a",
   "metadata": {
    "tags": []
   },
   "outputs": [],
   "source": [
    "def base_facet_line(\n",
    "    df: pd.DataFrame,\n",
    "    y_col: str,\n",
    "    color_col: str,\n",
    "    facet_col: str,\n",
    "    title: str,\n",
    "    subtitle: str,\n",
    "    range_color: dict,\n",
    ") -> alt.Chart:\n",
    "\n",
    "    # Set y-axis\n",
    "    max_y = set_y_axis(df, y_col)\n",
    "\n",
    "    # Clean dataframe\n",
    "    df = clean_data_charts(df, y_col)\n",
    "\n",
    "    tooltip_cols = [\n",
    "        \"Period\",\n",
    "        \"Route\",\n",
    "        \"Date\",\n",
    "        f\"{y_col}_str\",\n",
    "        \"Direction\",\n",
    "    ]\n",
    "\n",
    "    chart = (\n",
    "        alt.Chart(df)\n",
    "        .mark_line(size=3)\n",
    "        .encode(\n",
    "            x=alt.X(\n",
    "                \"yearmonthdate(Date):O\",\n",
    "                title=\"Date\",\n",
    "                axis=alt.Axis(labelAngle=-45, format=\"%b %Y\"),\n",
    "            ),\n",
    "            y=alt.Y(\n",
    "                f\"{y_col}:Q\",\n",
    "                title=_report_utils.labeling(y_col),\n",
    "                scale=alt.Scale(domain=[0, max_y]),\n",
    "            ),\n",
    "            color=alt.Color(\n",
    "                f\"{color_col}:N\",\n",
    "                title=_report_utils.labeling(color_col),\n",
    "                scale=alt.Scale(range=range_color),\n",
    "            ),\n",
    "            tooltip=tooltip_cols,\n",
    "        )\n",
    "    )\n",
    "\n",
    "    chart = chart.properties(width=200, height=250)\n",
    "    chart = chart.facet(\n",
    "        column=alt.Column(f\"{facet_col}:N\", title=_report_utils.labeling(facet_col)),\n",
    "    ).properties(\n",
    "        title={\n",
    "            \"text\": [title],\n",
    "            \"subtitle\": [subtitle],\n",
    "        }\n",
    "    )\n",
    "    return chart"
   ]
  },
  {
   "cell_type": "code",
   "execution_count": null,
   "id": "f89f6421-b5b7-4777-811d-6b94049fdbd9",
   "metadata": {
    "tags": []
   },
   "outputs": [],
   "source": [
    "timeliness_df2[\"pct_trips\"] = (\n",
    "    timeliness_df2.value / timeliness_df2[\"# Trips with VP\"]\n",
    ") * 100"
   ]
  },
  {
   "cell_type": "code",
   "execution_count": null,
   "id": "36c26738-8abe-4e2b-821e-87a134031596",
   "metadata": {
    "tags": []
   },
   "outputs": [],
   "source": [
    "timeliness_df2.Period.unique()"
   ]
  },
  {
   "cell_type": "code",
   "execution_count": null,
   "id": "f0bafa8f-d596-4843-9684-5af4a8dbe0dd",
   "metadata": {
    "tags": []
   },
   "outputs": [],
   "source": [
    "(\n",
    "    base_facet_line(\n",
    "        timeliness_df2.loc[timeliness_df2.dir_0_1 == 0],\n",
    "        \"pct_trips\",\n",
    "        \"variable\",\n",
    "        \"Period\",\n",
    "        readable_dict[\"timeliness_trips_graph\"][\"title\"],\n",
    "        readable_dict[\"timeliness_trips_graph\"][\"subtitle\"],\n",
    "        range_color=color_dict[\"tri_color\"],\n",
    "    )\n",
    "    .add_params(xcol_param)\n",
    "    .transform_filter(xcol_param)\n",
    ")"
   ]
  },
  {
   "cell_type": "code",
   "execution_count": null,
   "id": "59b11dc0-f3c8-4796-85da-b8ae147fcb00",
   "metadata": {
    "tags": []
   },
   "outputs": [],
   "source": [
    "timeliness_df2.loc[\n",
    "    (timeliness_df2.Route == \"12 City College - Skyline Hills\")\n",
    "    & (timeliness_df2.Date == \"2023-03-15\")\n",
    "].sort_values(by=[\"Date\", \"Direction\", \"Period\", \"variable\"])"
   ]
  },
  {
   "cell_type": "code",
   "execution_count": null,
   "id": "4f867bd2-c153-4670-89da-92290e0773aa",
   "metadata": {
    "tags": []
   },
   "outputs": [],
   "source": [
    "4 / 75"
   ]
  },
  {
   "cell_type": "code",
   "execution_count": null,
   "id": "8ce03fd3-ae33-4c99-a14b-4dc9eac819fa",
   "metadata": {},
   "outputs": [],
   "source": []
  },
  {
   "cell_type": "markdown",
   "id": "d5cc4341-3638-4956-b439-a295d86ea467",
   "metadata": {},
   "source": [
    "## Move text table before the rest of the charts. (Done)"
   ]
  },
  {
   "cell_type": "code",
   "execution_count": null,
   "id": "383372b0-69e0-44d5-9524-036c83beb815",
   "metadata": {
    "tags": []
   },
   "outputs": [],
   "source": [
    "timeliness_df.loc[timeliness_df.Route == \"1 Fashion Valley - La Mesa\"]"
   ]
  }
 ],
 "metadata": {
  "kernelspec": {
   "display_name": "Python 3 (ipykernel)",
   "language": "python",
   "name": "python3"
  },
  "language_info": {
   "codemirror_mode": {
    "name": "ipython",
    "version": 3
   },
   "file_extension": ".py",
   "mimetype": "text/x-python",
   "name": "python",
   "nbconvert_exporter": "python",
   "pygments_lexer": "ipython3",
   "version": "3.11.10"
  }
 },
 "nbformat": 4,
 "nbformat_minor": 5
}
