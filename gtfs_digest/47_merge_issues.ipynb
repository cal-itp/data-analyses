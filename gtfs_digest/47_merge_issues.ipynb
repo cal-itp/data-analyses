{
 "cells": [
  {
   "cell_type": "markdown",
   "id": "dc17392f-23a8-48d2-a250-b684b7d578ad",
   "metadata": {},
   "source": [
    "## Merges going wrong\n",
    "* There should only be 6 rows for each route (ideally) when its `sched_rt_category` is `schedule_and_vp`\n",
    "* Dir 1: all day, peak, offpeak\n",
    "* Dir 0: all day, peak, offpeak.\n",
    "* This is impacting the graphs for: Timeliness, Frequency of Trips, Average Speed\n",
    "* December 2024 looks fine but January 2025 is messed up."
   ]
  },
  {
   "cell_type": "code",
   "execution_count": 1,
   "id": "10fa1c42-cc10-4c1a-be7b-396ed8e4f57f",
   "metadata": {
    "tags": []
   },
   "outputs": [],
   "source": [
    "import geopandas as gpd\n",
    "import numpy as np\n",
    "import pandas as pd"
   ]
  },
  {
   "cell_type": "code",
   "execution_count": 3,
   "id": "5d0dfa69-aec7-4ae5-9d76-98afb5db9674",
   "metadata": {
    "tags": []
   },
   "outputs": [],
   "source": [
    "import _section1_utils\n",
    "import _section2_utils\n",
    "\n",
    "from segment_speed_utils import gtfs_schedule_wrangling\n",
    "from shared_utils import rt_dates\n",
    "from update_vars import GTFS_DATA_DICT, RT_SCHED_GCS, SCHED_GCS, SEGMENT_GCS"
   ]
  },
  {
   "cell_type": "code",
   "execution_count": 9,
   "id": "c4915db1-1c1c-4735-b0ed-fb41720e5014",
   "metadata": {
    "tags": []
   },
   "outputs": [],
   "source": [
    "import merge_data"
   ]
  },
  {
   "cell_type": "code",
   "execution_count": 2,
   "id": "7c94e9fa-77ae-4732-95ca-bbd8a06fb654",
   "metadata": {
    "tags": []
   },
   "outputs": [],
   "source": [
    "pd.options.display.max_columns = 100\n",
    "pd.options.display.float_format = \"{:.2f}\".format\n",
    "pd.set_option(\"display.max_rows\", None)\n",
    "pd.set_option(\"display.max_colwidth\", None)"
   ]
  },
  {
   "cell_type": "code",
   "execution_count": 4,
   "id": "a4cc7b40-d755-40a5-bb8e-48b7af6754f9",
   "metadata": {
    "tags": []
   },
   "outputs": [],
   "source": [
    "analysis_date_list = [rt_dates.y2024_dates[-1]] + rt_dates.y2025_dates"
   ]
  },
  {
   "cell_type": "code",
   "execution_count": 5,
   "id": "54c1152c-1eb8-4fec-a719-5b28d159b03b",
   "metadata": {
    "tags": []
   },
   "outputs": [],
   "source": [
    "# Test with SF\n",
    "schd_key = \"7cc0cb1871dfd558f11a2885c145d144\""
   ]
  },
  {
   "cell_type": "code",
   "execution_count": 6,
   "id": "97567f8c-aaa4-4015-ad3a-9e3aca436b15",
   "metadata": {
    "tags": []
   },
   "outputs": [],
   "source": [
    "org_name = \"City and County of San Francisco\""
   ]
  },
  {
   "cell_type": "code",
   "execution_count": 7,
   "id": "2489484c-e5bb-4a37-bc65-1ec3cbb1c6e4",
   "metadata": {
    "tags": []
   },
   "outputs": [],
   "source": [
    "route_id = \"22\""
   ]
  },
  {
   "cell_type": "markdown",
   "id": "f1a38bde-f242-445b-8b2d-a82203abc319",
   "metadata": {},
   "source": [
    "### It seems like `df_sched` is messing everything up because the two values that are supposed to be `peak` and `offpeak` are empty -> Update  `gtfs_funnel/schedule_stats_by_route_direction`"
   ]
  },
  {
   "cell_type": "code",
   "execution_count": 10,
   "id": "792df10d-6e86-4920-bcca-f21038936bf7",
   "metadata": {
    "tags": []
   },
   "outputs": [],
   "source": [
    "df_sched = merge_data.concatenate_schedule_by_route_direction(analysis_date_list)"
   ]
  },
  {
   "cell_type": "code",
   "execution_count": 11,
   "id": "c38e9a20-86a5-4188-9789-889699f7e960",
   "metadata": {
    "tags": []
   },
   "outputs": [],
   "source": [
    "df_sched = df_sched.loc[\n",
    "    (df_sched.schedule_gtfs_dataset_key == schd_key) & (df_sched.route_id == route_id)\n",
    "]"
   ]
  },
  {
   "cell_type": "code",
   "execution_count": 12,
   "id": "115447c1-e631-4df1-81dd-9a0a3087b32e",
   "metadata": {
    "tags": []
   },
   "outputs": [
    {
     "data": {
      "text/html": [
       "<div>\n",
       "<style scoped>\n",
       "    .dataframe tbody tr th:only-of-type {\n",
       "        vertical-align: middle;\n",
       "    }\n",
       "\n",
       "    .dataframe tbody tr th {\n",
       "        vertical-align: top;\n",
       "    }\n",
       "\n",
       "    .dataframe thead th {\n",
       "        text-align: right;\n",
       "    }\n",
       "</style>\n",
       "<table border=\"1\" class=\"dataframe\">\n",
       "  <thead>\n",
       "    <tr style=\"text-align: right;\">\n",
       "      <th></th>\n",
       "      <th>schedule_gtfs_dataset_key</th>\n",
       "      <th>route_id</th>\n",
       "      <th>direction_id</th>\n",
       "      <th>time_period</th>\n",
       "      <th>route_primary_direction</th>\n",
       "      <th>avg_scheduled_service_minutes</th>\n",
       "      <th>avg_stop_miles</th>\n",
       "      <th>n_scheduled_trips</th>\n",
       "      <th>frequency</th>\n",
       "      <th>is_express</th>\n",
       "      <th>is_rapid</th>\n",
       "      <th>is_rail</th>\n",
       "      <th>is_coverage</th>\n",
       "      <th>is_downtown_local</th>\n",
       "      <th>is_local</th>\n",
       "      <th>service_date</th>\n",
       "    </tr>\n",
       "  </thead>\n",
       "  <tbody>\n",
       "    <tr>\n",
       "      <th>9646</th>\n",
       "      <td>7cc0cb1871dfd558f11a2885c145d144</td>\n",
       "      <td>22</td>\n",
       "      <td>0.00</td>\n",
       "      <td>all_day</td>\n",
       "      <td>Southbound</td>\n",
       "      <td>46.87</td>\n",
       "      <td>0.13</td>\n",
       "      <td>186</td>\n",
       "      <td>7.75</td>\n",
       "      <td>0.00</td>\n",
       "      <td>0.00</td>\n",
       "      <td>0.00</td>\n",
       "      <td>0.00</td>\n",
       "      <td>1.00</td>\n",
       "      <td>0.00</td>\n",
       "      <td>2024-12-11</td>\n",
       "    </tr>\n",
       "    <tr>\n",
       "      <th>9647</th>\n",
       "      <td>7cc0cb1871dfd558f11a2885c145d144</td>\n",
       "      <td>22</td>\n",
       "      <td>0.00</td>\n",
       "      <td>all_day</td>\n",
       "      <td>Southbound</td>\n",
       "      <td>46.87</td>\n",
       "      <td>2.35</td>\n",
       "      <td>186</td>\n",
       "      <td>7.75</td>\n",
       "      <td>0.00</td>\n",
       "      <td>0.00</td>\n",
       "      <td>0.00</td>\n",
       "      <td>0.00</td>\n",
       "      <td>1.00</td>\n",
       "      <td>0.00</td>\n",
       "      <td>2025-01-15</td>\n",
       "    </tr>\n",
       "  </tbody>\n",
       "</table>\n",
       "</div>"
      ],
      "text/plain": [
       "             schedule_gtfs_dataset_key route_id  direction_id time_period  \\\n",
       "9646  7cc0cb1871dfd558f11a2885c145d144       22          0.00     all_day   \n",
       "9647  7cc0cb1871dfd558f11a2885c145d144       22          0.00     all_day   \n",
       "\n",
       "     route_primary_direction  avg_scheduled_service_minutes  avg_stop_miles  \\\n",
       "9646              Southbound                          46.87            0.13   \n",
       "9647              Southbound                          46.87            2.35   \n",
       "\n",
       "      n_scheduled_trips  frequency  is_express  is_rapid  is_rail  \\\n",
       "9646                186       7.75        0.00      0.00     0.00   \n",
       "9647                186       7.75        0.00      0.00     0.00   \n",
       "\n",
       "      is_coverage  is_downtown_local  is_local service_date  \n",
       "9646         0.00               1.00      0.00   2024-12-11  \n",
       "9647         0.00               1.00      0.00   2025-01-15  "
      ]
     },
     "execution_count": 12,
     "metadata": {},
     "output_type": "execute_result"
    }
   ],
   "source": [
    "df_sched.head(2)"
   ]
  },
  {
   "cell_type": "code",
   "execution_count": 13,
   "id": "f95e69d7-9b86-4b7b-aeee-a721d4b9ffbf",
   "metadata": {
    "tags": []
   },
   "outputs": [
    {
     "data": {
      "text/html": [
       "<div>\n",
       "<style scoped>\n",
       "    .dataframe tbody tr th:only-of-type {\n",
       "        vertical-align: middle;\n",
       "    }\n",
       "\n",
       "    .dataframe tbody tr th {\n",
       "        vertical-align: top;\n",
       "    }\n",
       "\n",
       "    .dataframe thead th {\n",
       "        text-align: right;\n",
       "    }\n",
       "</style>\n",
       "<table border=\"1\" class=\"dataframe\">\n",
       "  <thead>\n",
       "    <tr style=\"text-align: right;\">\n",
       "      <th></th>\n",
       "      <th>service_date</th>\n",
       "      <th>time_period</th>\n",
       "      <th>direction_id</th>\n",
       "    </tr>\n",
       "  </thead>\n",
       "  <tbody>\n",
       "    <tr>\n",
       "      <th>9646</th>\n",
       "      <td>2024-12-11</td>\n",
       "      <td>all_day</td>\n",
       "      <td>0.00</td>\n",
       "    </tr>\n",
       "    <tr>\n",
       "      <th>9648</th>\n",
       "      <td>2024-12-11</td>\n",
       "      <td>offpeak</td>\n",
       "      <td>0.00</td>\n",
       "    </tr>\n",
       "    <tr>\n",
       "      <th>9650</th>\n",
       "      <td>2024-12-11</td>\n",
       "      <td>peak</td>\n",
       "      <td>0.00</td>\n",
       "    </tr>\n",
       "    <tr>\n",
       "      <th>9652</th>\n",
       "      <td>2024-12-11</td>\n",
       "      <td>all_day</td>\n",
       "      <td>1.00</td>\n",
       "    </tr>\n",
       "    <tr>\n",
       "      <th>9654</th>\n",
       "      <td>2024-12-11</td>\n",
       "      <td>offpeak</td>\n",
       "      <td>1.00</td>\n",
       "    </tr>\n",
       "    <tr>\n",
       "      <th>9656</th>\n",
       "      <td>2024-12-11</td>\n",
       "      <td>peak</td>\n",
       "      <td>1.00</td>\n",
       "    </tr>\n",
       "    <tr>\n",
       "      <th>9647</th>\n",
       "      <td>2025-01-15</td>\n",
       "      <td>all_day</td>\n",
       "      <td>0.00</td>\n",
       "    </tr>\n",
       "    <tr>\n",
       "      <th>9649</th>\n",
       "      <td>2025-01-15</td>\n",
       "      <td>offpeak</td>\n",
       "      <td>0.00</td>\n",
       "    </tr>\n",
       "    <tr>\n",
       "      <th>9651</th>\n",
       "      <td>2025-01-15</td>\n",
       "      <td>peak</td>\n",
       "      <td>0.00</td>\n",
       "    </tr>\n",
       "    <tr>\n",
       "      <th>9653</th>\n",
       "      <td>2025-01-15</td>\n",
       "      <td>all_day</td>\n",
       "      <td>1.00</td>\n",
       "    </tr>\n",
       "    <tr>\n",
       "      <th>9655</th>\n",
       "      <td>2025-01-15</td>\n",
       "      <td>offpeak</td>\n",
       "      <td>1.00</td>\n",
       "    </tr>\n",
       "    <tr>\n",
       "      <th>9657</th>\n",
       "      <td>2025-01-15</td>\n",
       "      <td>peak</td>\n",
       "      <td>1.00</td>\n",
       "    </tr>\n",
       "  </tbody>\n",
       "</table>\n",
       "</div>"
      ],
      "text/plain": [
       "     service_date time_period  direction_id\n",
       "9646   2024-12-11     all_day          0.00\n",
       "9648   2024-12-11     offpeak          0.00\n",
       "9650   2024-12-11        peak          0.00\n",
       "9652   2024-12-11     all_day          1.00\n",
       "9654   2024-12-11     offpeak          1.00\n",
       "9656   2024-12-11        peak          1.00\n",
       "9647   2025-01-15     all_day          0.00\n",
       "9649   2025-01-15     offpeak          0.00\n",
       "9651   2025-01-15        peak          0.00\n",
       "9653   2025-01-15     all_day          1.00\n",
       "9655   2025-01-15     offpeak          1.00\n",
       "9657   2025-01-15        peak          1.00"
      ]
     },
     "execution_count": 13,
     "metadata": {},
     "output_type": "execute_result"
    }
   ],
   "source": [
    "df_sched[['service_date','time_period','direction_id']].sort_values(by = ['service_date'])"
   ]
  },
  {
   "cell_type": "code",
   "execution_count": 14,
   "id": "f46a6b7b-9012-4bac-b8c9-a8cfe907f2ed",
   "metadata": {
    "tags": []
   },
   "outputs": [],
   "source": [
    "df_avg_speeds = merge_data.concatenate_speeds_by_route_direction(\n",
    "        analysis_date_list\n",
    "    )"
   ]
  },
  {
   "cell_type": "code",
   "execution_count": 17,
   "id": "4fed8d5c-1fc8-4fa1-8663-ae6baac2bab0",
   "metadata": {
    "tags": []
   },
   "outputs": [],
   "source": [
    "sched_vp_df = _section2_utils.load_schedule_vp_metrics(org_name)"
   ]
  },
  {
   "cell_type": "code",
   "execution_count": 19,
   "id": "23d41d75-e38d-44e4-8f88-b413c24df807",
   "metadata": {
    "tags": []
   },
   "outputs": [
    {
     "data": {
      "text/html": [
       "<div>\n",
       "<style scoped>\n",
       "    .dataframe tbody tr th:only-of-type {\n",
       "        vertical-align: middle;\n",
       "    }\n",
       "\n",
       "    .dataframe tbody tr th {\n",
       "        vertical-align: top;\n",
       "    }\n",
       "\n",
       "    .dataframe thead th {\n",
       "        text-align: right;\n",
       "    }\n",
       "</style>\n",
       "<table border=\"1\" class=\"dataframe\">\n",
       "  <thead>\n",
       "    <tr style=\"text-align: right;\">\n",
       "      <th></th>\n",
       "      <th>schedule_gtfs_dataset_key</th>\n",
       "      <th>dir_0_1</th>\n",
       "      <th>Period</th>\n",
       "      <th>Average Scheduled Service (trip minutes)</th>\n",
       "      <th>Average Stop Distance (miles)</th>\n",
       "      <th># scheduled trips</th>\n",
       "      <th>Trips per Hour</th>\n",
       "      <th>is_express</th>\n",
       "      <th>is_rapid</th>\n",
       "      <th>is_rail</th>\n",
       "      <th>is_coverage</th>\n",
       "      <th>is_downtown_local</th>\n",
       "      <th>is_local</th>\n",
       "      <th>Date</th>\n",
       "      <th>Route typology</th>\n",
       "      <th># Minutes with 1+ VP per Minute</th>\n",
       "      <th># Minutes with 2+ VP per Minute</th>\n",
       "      <th>Aggregate Actual Service Minutes</th>\n",
       "      <th>Aggregate Scheduled Service Minutes (all trips)</th>\n",
       "      <th># VP</th>\n",
       "      <th># VP within Scheduled Shape</th>\n",
       "      <th># Early Arrival Trips</th>\n",
       "      <th># On-Time Trips</th>\n",
       "      <th># Late Trips</th>\n",
       "      <th># Trips with VP</th>\n",
       "      <th>Average VP per Minute</th>\n",
       "      <th>% VP within Scheduled Shape</th>\n",
       "      <th>pct_rt_journey_atleast1_vp</th>\n",
       "      <th>pct_rt_journey_atleast2_vp</th>\n",
       "      <th>% Scheduled Trip w/ 1+ VP/Minute</th>\n",
       "      <th>% Scheduled Trip w/ 2+ VP/Minute</th>\n",
       "      <th>Realtime versus Scheduled Service Ratio</th>\n",
       "      <th>Average Actual Service (Trip Minutes)</th>\n",
       "      <th>GTFS Availability</th>\n",
       "      <th>Speed (MPH)</th>\n",
       "      <th>route_long_name</th>\n",
       "      <th>route_short_name</th>\n",
       "      <th>Route</th>\n",
       "      <th>Route ID</th>\n",
       "      <th>Base64 Encoded Feed URL</th>\n",
       "      <th>Organization ID</th>\n",
       "      <th>Organization</th>\n",
       "      <th>District</th>\n",
       "      <th>Direction</th>\n",
       "      <th>schedule_source_record_id</th>\n",
       "      <th>Transit Operator</th>\n",
       "      <th>ruler_100_pct</th>\n",
       "      <th>ruler_for_vp_per_min</th>\n",
       "      <th>headway_in_minutes</th>\n",
       "    </tr>\n",
       "  </thead>\n",
       "  <tbody>\n",
       "    <tr>\n",
       "      <th>0</th>\n",
       "      <td>7cc0cb1871dfd558f11a2885c145d144</td>\n",
       "      <td>0.00</td>\n",
       "      <td>all_day</td>\n",
       "      <td>41.33</td>\n",
       "      <td>0.12</td>\n",
       "      <td>151</td>\n",
       "      <td>6.29</td>\n",
       "      <td>0.00</td>\n",
       "      <td>0.00</td>\n",
       "      <td>0.00</td>\n",
       "      <td>0.00</td>\n",
       "      <td>1.00</td>\n",
       "      <td>0.00</td>\n",
       "      <td>2023-04-12</td>\n",
       "      <td>downtown_local</td>\n",
       "      <td>7816</td>\n",
       "      <td>7708</td>\n",
       "      <td>12084.08</td>\n",
       "      <td>6194.00</td>\n",
       "      <td>23106</td>\n",
       "      <td>21485</td>\n",
       "      <td>4</td>\n",
       "      <td>28</td>\n",
       "      <td>118</td>\n",
       "      <td>150</td>\n",
       "      <td>1.91</td>\n",
       "      <td>93.00</td>\n",
       "      <td>65.00</td>\n",
       "      <td>64.00</td>\n",
       "      <td>100.00</td>\n",
       "      <td>100.00</td>\n",
       "      <td>1.95</td>\n",
       "      <td>80.56</td>\n",
       "      <td>schedule_and_vp</td>\n",
       "      <td>5.56</td>\n",
       "      <td>CALIFORNIA</td>\n",
       "      <td>1</td>\n",
       "      <td>1 CALIFORNIA</td>\n",
       "      <td>1</td>\n",
       "      <td>aHR0cHM6Ly9hcGkuNTExLm9yZy90cmFuc2l0L2RhdGFmZWVkcz9vcGVyYXRvcl9pZD1TRg==</td>\n",
       "      <td>rechaapWbeffO33OX</td>\n",
       "      <td>City and County of San Francisco</td>\n",
       "      <td>04 - Oakland</td>\n",
       "      <td>Westbound</td>\n",
       "      <td>recHD22phgJs34JHP</td>\n",
       "      <td>Bay Area 511 Muni Schedule</td>\n",
       "      <td>100</td>\n",
       "      <td>2</td>\n",
       "      <td>9.54</td>\n",
       "    </tr>\n",
       "    <tr>\n",
       "      <th>1</th>\n",
       "      <td>7cc0cb1871dfd558f11a2885c145d144</td>\n",
       "      <td>0.00</td>\n",
       "      <td>all_day</td>\n",
       "      <td>41.33</td>\n",
       "      <td>0.11</td>\n",
       "      <td>151</td>\n",
       "      <td>6.29</td>\n",
       "      <td>0.00</td>\n",
       "      <td>0.00</td>\n",
       "      <td>0.00</td>\n",
       "      <td>0.00</td>\n",
       "      <td>1.00</td>\n",
       "      <td>0.00</td>\n",
       "      <td>2023-05-17</td>\n",
       "      <td>downtown_local</td>\n",
       "      <td>8015</td>\n",
       "      <td>7898</td>\n",
       "      <td>12137.89</td>\n",
       "      <td>6194.00</td>\n",
       "      <td>23681</td>\n",
       "      <td>21951</td>\n",
       "      <td>0</td>\n",
       "      <td>27</td>\n",
       "      <td>123</td>\n",
       "      <td>150</td>\n",
       "      <td>1.95</td>\n",
       "      <td>93.00</td>\n",
       "      <td>66.00</td>\n",
       "      <td>65.00</td>\n",
       "      <td>100.00</td>\n",
       "      <td>100.00</td>\n",
       "      <td>1.96</td>\n",
       "      <td>80.92</td>\n",
       "      <td>schedule_and_vp</td>\n",
       "      <td>5.10</td>\n",
       "      <td>CALIFORNIA</td>\n",
       "      <td>1</td>\n",
       "      <td>1 CALIFORNIA</td>\n",
       "      <td>1</td>\n",
       "      <td>aHR0cHM6Ly9hcGkuNTExLm9yZy90cmFuc2l0L2RhdGFmZWVkcz9vcGVyYXRvcl9pZD1TRg==</td>\n",
       "      <td>rechaapWbeffO33OX</td>\n",
       "      <td>City and County of San Francisco</td>\n",
       "      <td>04 - Oakland</td>\n",
       "      <td>Westbound</td>\n",
       "      <td>recHD22phgJs34JHP</td>\n",
       "      <td>Bay Area 511 Muni Schedule</td>\n",
       "      <td>100</td>\n",
       "      <td>2</td>\n",
       "      <td>9.54</td>\n",
       "    </tr>\n",
       "  </tbody>\n",
       "</table>\n",
       "</div>"
      ],
      "text/plain": [
       "          schedule_gtfs_dataset_key  dir_0_1   Period  \\\n",
       "0  7cc0cb1871dfd558f11a2885c145d144     0.00  all_day   \n",
       "1  7cc0cb1871dfd558f11a2885c145d144     0.00  all_day   \n",
       "\n",
       "   Average Scheduled Service (trip minutes)  Average Stop Distance (miles)  \\\n",
       "0                                     41.33                           0.12   \n",
       "1                                     41.33                           0.11   \n",
       "\n",
       "   # scheduled trips  Trips per Hour  is_express  is_rapid  is_rail  \\\n",
       "0                151            6.29        0.00      0.00     0.00   \n",
       "1                151            6.29        0.00      0.00     0.00   \n",
       "\n",
       "   is_coverage  is_downtown_local  is_local       Date  Route typology  \\\n",
       "0         0.00               1.00      0.00 2023-04-12  downtown_local   \n",
       "1         0.00               1.00      0.00 2023-05-17  downtown_local   \n",
       "\n",
       "   # Minutes with 1+ VP per Minute  # Minutes with 2+ VP per Minute  \\\n",
       "0                             7816                             7708   \n",
       "1                             8015                             7898   \n",
       "\n",
       "   Aggregate Actual Service Minutes  \\\n",
       "0                          12084.08   \n",
       "1                          12137.89   \n",
       "\n",
       "   Aggregate Scheduled Service Minutes (all trips)   # VP  \\\n",
       "0                                          6194.00  23106   \n",
       "1                                          6194.00  23681   \n",
       "\n",
       "   # VP within Scheduled Shape  # Early Arrival Trips  # On-Time Trips  \\\n",
       "0                        21485                      4               28   \n",
       "1                        21951                      0               27   \n",
       "\n",
       "   # Late Trips  # Trips with VP  Average VP per Minute  \\\n",
       "0           118              150                   1.91   \n",
       "1           123              150                   1.95   \n",
       "\n",
       "   % VP within Scheduled Shape  pct_rt_journey_atleast1_vp  \\\n",
       "0                        93.00                       65.00   \n",
       "1                        93.00                       66.00   \n",
       "\n",
       "   pct_rt_journey_atleast2_vp  % Scheduled Trip w/ 1+ VP/Minute  \\\n",
       "0                       64.00                            100.00   \n",
       "1                       65.00                            100.00   \n",
       "\n",
       "   % Scheduled Trip w/ 2+ VP/Minute  Realtime versus Scheduled Service Ratio  \\\n",
       "0                            100.00                                     1.95   \n",
       "1                            100.00                                     1.96   \n",
       "\n",
       "   Average Actual Service (Trip Minutes) GTFS Availability  Speed (MPH)  \\\n",
       "0                                  80.56   schedule_and_vp         5.56   \n",
       "1                                  80.92   schedule_and_vp         5.10   \n",
       "\n",
       "  route_long_name route_short_name         Route Route ID  \\\n",
       "0      CALIFORNIA                1  1 CALIFORNIA        1   \n",
       "1      CALIFORNIA                1  1 CALIFORNIA        1   \n",
       "\n",
       "                                                    Base64 Encoded Feed URL  \\\n",
       "0  aHR0cHM6Ly9hcGkuNTExLm9yZy90cmFuc2l0L2RhdGFmZWVkcz9vcGVyYXRvcl9pZD1TRg==   \n",
       "1  aHR0cHM6Ly9hcGkuNTExLm9yZy90cmFuc2l0L2RhdGFmZWVkcz9vcGVyYXRvcl9pZD1TRg==   \n",
       "\n",
       "     Organization ID                      Organization      District  \\\n",
       "0  rechaapWbeffO33OX  City and County of San Francisco  04 - Oakland   \n",
       "1  rechaapWbeffO33OX  City and County of San Francisco  04 - Oakland   \n",
       "\n",
       "   Direction schedule_source_record_id            Transit Operator  \\\n",
       "0  Westbound         recHD22phgJs34JHP  Bay Area 511 Muni Schedule   \n",
       "1  Westbound         recHD22phgJs34JHP  Bay Area 511 Muni Schedule   \n",
       "\n",
       "   ruler_100_pct  ruler_for_vp_per_min  headway_in_minutes  \n",
       "0            100                     2                9.54  \n",
       "1            100                     2                9.54  "
      ]
     },
     "execution_count": 19,
     "metadata": {},
     "output_type": "execute_result"
    }
   ],
   "source": [
    "sched_vp_df.head(2)"
   ]
  },
  {
   "cell_type": "code",
   "execution_count": 26,
   "id": "2961625a-cc74-4a82-be4a-7bb4a4791570",
   "metadata": {
    "tags": []
   },
   "outputs": [],
   "source": [
    "jan_only = sched_vp_df.loc[sched_vp_df.Date == '2025-01-15T00:00:00.000000000']"
   ]
  },
  {
   "cell_type": "code",
   "execution_count": 27,
   "id": "b2cf50f4-c558-4d50-8809-2013a6e9147c",
   "metadata": {
    "tags": []
   },
   "outputs": [
    {
     "name": "stdout",
     "output_type": "stream",
     "text": [
      "<class 'pandas.core.frame.DataFrame'>\n",
      "Int64Index: 360 entries, 19 to 7093\n",
      "Data columns (total 49 columns):\n",
      " #   Column                                           Non-Null Count  Dtype         \n",
      "---  ------                                           --------------  -----         \n",
      " 0   schedule_gtfs_dataset_key                        360 non-null    object        \n",
      " 1   dir_0_1                                          360 non-null    float64       \n",
      " 2   Period                                           360 non-null    object        \n",
      " 3   Average Scheduled Service (trip minutes)         360 non-null    float64       \n",
      " 4   Average Stop Distance (miles)                    360 non-null    float64       \n",
      " 5   # scheduled trips                                360 non-null    int64         \n",
      " 6   Trips per Hour                                   360 non-null    float64       \n",
      " 7   is_express                                       360 non-null    float64       \n",
      " 8   is_rapid                                         360 non-null    float64       \n",
      " 9   is_rail                                          360 non-null    float64       \n",
      " 10  is_coverage                                      360 non-null    float64       \n",
      " 11  is_downtown_local                                360 non-null    float64       \n",
      " 12  is_local                                         360 non-null    float64       \n",
      " 13  Date                                             360 non-null    datetime64[ns]\n",
      " 14  Route typology                                   360 non-null    object        \n",
      " 15  # Minutes with 1+ VP per Minute                  360 non-null    int64         \n",
      " 16  # Minutes with 2+ VP per Minute                  360 non-null    int64         \n",
      " 17  Aggregate Actual Service Minutes                 360 non-null    float64       \n",
      " 18  Aggregate Scheduled Service Minutes (all trips)  360 non-null    float64       \n",
      " 19  # VP                                             360 non-null    int64         \n",
      " 20  # VP within Scheduled Shape                      360 non-null    int64         \n",
      " 21  # Early Arrival Trips                            360 non-null    int64         \n",
      " 22  # On-Time Trips                                  360 non-null    int64         \n",
      " 23  # Late Trips                                     360 non-null    int64         \n",
      " 24  # Trips with VP                                  360 non-null    int64         \n",
      " 25  Average VP per Minute                            360 non-null    float64       \n",
      " 26  % VP within Scheduled Shape                      360 non-null    float64       \n",
      " 27  pct_rt_journey_atleast1_vp                       360 non-null    float64       \n",
      " 28  pct_rt_journey_atleast2_vp                       360 non-null    float64       \n",
      " 29  % Scheduled Trip w/ 1+ VP/Minute                 360 non-null    float64       \n",
      " 30  % Scheduled Trip w/ 2+ VP/Minute                 360 non-null    float64       \n",
      " 31  Realtime versus Scheduled Service Ratio          360 non-null    float64       \n",
      " 32  Average Actual Service (Trip Minutes)            360 non-null    float64       \n",
      " 33  GTFS Availability                                360 non-null    category      \n",
      " 34  Speed (MPH)                                      360 non-null    float64       \n",
      " 35  route_long_name                                  0 non-null      object        \n",
      " 36  route_short_name                                 0 non-null      object        \n",
      " 37  Route                                            0 non-null      object        \n",
      " 38  Route ID                                         0 non-null      object        \n",
      " 39  Base64 Encoded Feed URL                          360 non-null    object        \n",
      " 40  Organization ID                                  360 non-null    object        \n",
      " 41  Organization                                     360 non-null    object        \n",
      " 42  District                                         360 non-null    object        \n",
      " 43  Direction                                        0 non-null      object        \n",
      " 44  schedule_source_record_id                        360 non-null    object        \n",
      " 45  Transit Operator                                 360 non-null    object        \n",
      " 46  ruler_100_pct                                    360 non-null    int64         \n",
      " 47  ruler_for_vp_per_min                             360 non-null    int64         \n",
      " 48  headway_in_minutes                               360 non-null    float64       \n",
      "dtypes: category(1), datetime64[ns](1), float64(22), int64(11), object(14)\n",
      "memory usage: 138.3+ KB\n"
     ]
    }
   ],
   "source": [
    "jan_only.info()"
   ]
  },
  {
   "cell_type": "code",
   "execution_count": 23,
   "id": "1d64b1f2-4390-41c8-9fdd-483f7ca42e32",
   "metadata": {
    "tags": []
   },
   "outputs": [
    {
     "data": {
      "text/plain": [
       "all_day    2633\n",
       "offpeak    2548\n",
       "peak       2365\n",
       "Name: Period, dtype: int64"
      ]
     },
     "execution_count": 23,
     "metadata": {},
     "output_type": "execute_result"
    }
   ],
   "source": [
    "sched_vp_df.Period.value_counts()"
   ]
  }
 ],
 "metadata": {
  "kernelspec": {
   "display_name": "Python 3 (ipykernel)",
   "language": "python",
   "name": "python3"
  },
  "language_info": {
   "codemirror_mode": {
    "name": "ipython",
    "version": 3
   },
   "file_extension": ".py",
   "mimetype": "text/x-python",
   "name": "python",
   "nbconvert_exporter": "python",
   "pygments_lexer": "ipython3",
   "version": "3.11.6"
  }
 },
 "nbformat": 4,
 "nbformat_minor": 5
}
