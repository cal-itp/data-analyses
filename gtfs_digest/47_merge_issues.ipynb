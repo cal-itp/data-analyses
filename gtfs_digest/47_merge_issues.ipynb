{
 "cells": [
  {
   "cell_type": "markdown",
   "id": "dc17392f-23a8-48d2-a250-b684b7d578ad",
   "metadata": {},
   "source": [
    "## Merges going wrong\n",
    "* There should only be 6 rows for each route (ideally) when its `sched_rt_category` is `schedule_and_vp`\n",
    "* Dir 1: all day, peak, offpeak\n",
    "* Dir 0: all day, peak, offpeak.\n",
    "* This is impacting the graphs for: Timeliness, Frequency of Trips, Average Speed\n",
    "* December 2024 looks fine but January 2025 is messed up."
   ]
  },
  {
   "cell_type": "code",
   "execution_count": null,
   "id": "10fa1c42-cc10-4c1a-be7b-396ed8e4f57f",
   "metadata": {
    "tags": []
   },
   "outputs": [],
   "source": []
  },
  {
   "cell_type": "code",
   "execution_count": 1,
   "id": "5d0dfa69-aec7-4ae5-9d76-98afb5db9674",
   "metadata": {
    "tags": []
   },
   "outputs": [],
   "source": [
    "# import _section1_utils\n",
    "# import _section2_utils\n",
    "import geopandas as gpd\n",
    "import numpy as np\n",
    "import pandas as pd\n",
    "# from segment_speed_utils import gtfs_schedule_wrangling\n",
    "# from shared_utils import rt_dates\n",
    "# from update_vars import GTFS_DATA_DICT, RT_SCHED_GCS, SCHED_GCS, SEGMENT_GCS"
   ]
  },
  {
   "cell_type": "code",
   "execution_count": 2,
   "id": "7c94e9fa-77ae-4732-95ca-bbd8a06fb654",
   "metadata": {
    "tags": []
   },
   "outputs": [],
   "source": [
    "pd.options.display.max_columns = 100\n",
    "pd.options.display.float_format = \"{:.2f}\".format\n",
    "pd.set_option(\"display.max_rows\", None)\n",
    "pd.set_option(\"display.max_colwidth\", None)"
   ]
  },
  {
   "cell_type": "code",
   "execution_count": null,
   "id": "a4cc7b40-d755-40a5-bb8e-48b7af6754f9",
   "metadata": {
    "tags": []
   },
   "outputs": [],
   "source": [
    "analysis_date_list = [rt_dates.y2024_dates[-1]] + rt_dates.y2025_dates"
   ]
  },
  {
   "cell_type": "code",
   "execution_count": null,
   "id": "54c1152c-1eb8-4fec-a719-5b28d159b03b",
   "metadata": {
    "tags": []
   },
   "outputs": [],
   "source": [
    "# Test with SF\n",
    "schd_key = \"7cc0cb1871dfd558f11a2885c145d144\""
   ]
  },
  {
   "cell_type": "code",
   "execution_count": null,
   "id": "97567f8c-aaa4-4015-ad3a-9e3aca436b15",
   "metadata": {
    "tags": []
   },
   "outputs": [],
   "source": [
    "org_name = \"City and County of San Francisco\""
   ]
  },
  {
   "cell_type": "code",
   "execution_count": null,
   "id": "2489484c-e5bb-4a37-bc65-1ec3cbb1c6e4",
   "metadata": {
    "tags": []
   },
   "outputs": [],
   "source": [
    "route_id = \"22\""
   ]
  },
  {
   "cell_type": "markdown",
   "id": "f1a38bde-f242-445b-8b2d-a82203abc319",
   "metadata": {},
   "source": [
    "### It seems like `df_sched` is messing everything up because the two values that are supposed to be `peak` and `offpeak` are empty -> Update  `gtfs_funnel/schedule_stats_by_route_direction`"
   ]
  },
  {
   "cell_type": "code",
   "execution_count": null,
   "id": "792df10d-6e86-4920-bcca-f21038936bf7",
   "metadata": {
    "tags": []
   },
   "outputs": [],
   "source": [
    "df_sched = merge_data.concatenate_schedule_by_route_direction(analysis_date_list)"
   ]
  },
  {
   "cell_type": "code",
   "execution_count": null,
   "id": "c38e9a20-86a5-4188-9789-889699f7e960",
   "metadata": {
    "tags": []
   },
   "outputs": [],
   "source": [
    "df_sched = df_sched.loc[\n",
    "    (df_sched.schedule_gtfs_dataset_key == schd_key) & (df_sched.route_id == route_id)\n",
    "]"
   ]
  },
  {
   "cell_type": "code",
   "execution_count": null,
   "id": "115447c1-e631-4df1-81dd-9a0a3087b32e",
   "metadata": {
    "tags": []
   },
   "outputs": [],
   "source": [
    "df_sched.head(2)"
   ]
  },
  {
   "cell_type": "code",
   "execution_count": null,
   "id": "f95e69d7-9b86-4b7b-aeee-a721d4b9ffbf",
   "metadata": {
    "tags": []
   },
   "outputs": [],
   "source": [
    "df_sched[['service_date','time_period','direction_id']].sort_values(by = ['service_date'])"
   ]
  },
  {
   "cell_type": "code",
   "execution_count": null,
   "id": "ef5619c2-39a0-4a2b-b3dd-78ac06e035c1",
   "metadata": {
    "tags": []
   },
   "outputs": [],
   "source": [
    "df_avg_speeds = merge_data.concatenate_speeds_by_route_direction(\n",
    "        analysis_date_list\n",
    "    )"
   ]
  },
  {
   "cell_type": "code",
   "execution_count": null,
   "id": "e2e9da64-3f68-4f62-b162-7ff54903ec46",
   "metadata": {
    "tags": []
   },
   "outputs": [],
   "source": [
    "df_avg_speeds.sample()"
   ]
  },
  {
   "cell_type": "code",
   "execution_count": null,
   "id": "7c71eb88-6623-45df-860f-530745786643",
   "metadata": {
    "tags": []
   },
   "outputs": [],
   "source": [
    "df_avg_speeds = df_avg_speeds.loc[\n",
    "    (df_avg_speeds.schedule_gtfs_dataset_key == schd_key) & (df_avg_speeds.route_id == route_id)\n",
    "]"
   ]
  },
  {
   "cell_type": "code",
   "execution_count": null,
   "id": "e28355df-996a-4b0d-8b61-959b9c013bf9",
   "metadata": {
    "tags": []
   },
   "outputs": [],
   "source": [
    "df_avg_speeds.sort_values(by = ['service_date'])"
   ]
  }
 ],
 "metadata": {
  "kernelspec": {
   "display_name": "Python 3 (ipykernel)",
   "language": "python",
   "name": "python3"
  },
  "language_info": {
   "codemirror_mode": {
    "name": "ipython",
    "version": 3
   },
   "file_extension": ".py",
   "mimetype": "text/x-python",
   "name": "python",
   "nbconvert_exporter": "python",
   "pygments_lexer": "ipython3",
   "version": "3.11.6"
  }
 },
 "nbformat": 4,
 "nbformat_minor": 5
}
