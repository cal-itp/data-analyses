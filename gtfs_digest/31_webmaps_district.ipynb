{
 "cells": [
  {
   "cell_type": "markdown",
   "id": "77b7997b-814d-4478-96b4-786a4748ad4d",
   "metadata": {},
   "source": [
    "# Implement webmaps with data downloads on District Digest\n",
    "* Issue #1559\n",
    "* Reference `ca_transit_speed_maps/05_webmap_example`"
   ]
  },
  {
   "cell_type": "code",
   "execution_count": null,
   "id": "5c01d606-b971-4ecf-adf8-d3055796571a",
   "metadata": {
    "tags": []
   },
   "outputs": [],
   "source": [
    "import branca\n",
    "import geopandas as gpd\n",
    "import numpy as np\n",
    "import pandas as pd\n",
    "from calitp_data_analysis import geography_utils\n",
    "from calitp_data_analysis.gcs_geopandas import GCSGeoPandas\n",
    "from shared_utils import catalog_utils, webmap_utils\n",
    "\n",
    "gcsgp = GCSGeoPandas()"
   ]
  },
  {
   "cell_type": "code",
   "execution_count": null,
   "id": "1055d9d8-baab-47ad-ac04-281a2604c119",
   "metadata": {
    "tags": []
   },
   "outputs": [],
   "source": [
    "import _ct_district_data_prep"
   ]
  },
  {
   "cell_type": "code",
   "execution_count": null,
   "id": "27d52d78-03be-4f77-acbd-c908eca6860b",
   "metadata": {
    "tags": []
   },
   "outputs": [],
   "source": [
    "district = \"04 - Bay Area / Oakland\""
   ]
  },
  {
   "cell_type": "code",
   "execution_count": null,
   "id": "9f5ede98-9679-4405-9f8b-7779c2d97b9f",
   "metadata": {
    "tags": []
   },
   "outputs": [],
   "source": [
    "district_int = [int(s) for s in district.split() if s.isdigit()][0]"
   ]
  },
  {
   "cell_type": "code",
   "execution_count": null,
   "id": "0347bc08-98c0-426e-b9e2-c84f06b52953",
   "metadata": {
    "tags": []
   },
   "outputs": [],
   "source": [
    "shn_gdf = _ct_district_data_prep.load_buffered_shn_map(50, district_int)"
   ]
  },
  {
   "cell_type": "code",
   "execution_count": null,
   "id": "b8cd0348-3154-4604-bd01-28bf855a82ef",
   "metadata": {
    "tags": []
   },
   "outputs": [],
   "source": [
    "transit_route_shs_gdf, transit_route_shs_table = (\n",
    "    _ct_district_data_prep.final_transit_route_shs_outputs(15, district_int)\n",
    ")"
   ]
  },
  {
   "cell_type": "code",
   "execution_count": null,
   "id": "fdc198de-b35e-4ba6-a911-2834c342acda",
   "metadata": {},
   "outputs": [],
   "source": [
    "len(transit_route_shs_gdf)"
   ]
  },
  {
   "cell_type": "code",
   "execution_count": null,
   "id": "faacacb7-365e-41f3-a475-4bae698606b7",
   "metadata": {},
   "outputs": [],
   "source": [
    "len(transit_route_shs_table)"
   ]
  },
  {
   "cell_type": "code",
   "execution_count": null,
   "id": "cbb7dc77-97c6-47eb-8c97-0613ac5270a7",
   "metadata": {},
   "outputs": [],
   "source": [
    "shn_gdf = shn_gdf.to_crs(geography_utils.CA_NAD83Albers_m)"
   ]
  },
  {
   "cell_type": "code",
   "execution_count": null,
   "id": "74d1c7fc-9d75-4492-8536-1ff1ec78b8ab",
   "metadata": {
    "tags": []
   },
   "outputs": [],
   "source": [
    "transit_route_shs_gdf = transit_route_shs_gdf.to_crs(geography_utils.CA_NAD83Albers_m)"
   ]
  },
  {
   "cell_type": "code",
   "execution_count": null,
   "id": "93fdb40b-80f8-48d1-82ab-ef79423cc561",
   "metadata": {
    "tags": []
   },
   "outputs": [],
   "source": [
    "transit_route_shs_gdf = transit_route_shs_gdf.reset_index(drop=False)\n",
    "transit_route_shs_gdf = transit_route_shs_gdf.rename(columns={\"index\": \"number\"})"
   ]
  },
  {
   "cell_type": "code",
   "execution_count": null,
   "id": "7b4ac4f8-393f-4a51-bdc4-2cd3746e21e8",
   "metadata": {},
   "outputs": [],
   "source": [
    "shn_gdf.geometry = shn_gdf.buffer(100)"
   ]
  },
  {
   "cell_type": "code",
   "execution_count": null,
   "id": "5a8fbbc5-8346-47a4-aee0-e4d48e2eaadc",
   "metadata": {},
   "outputs": [],
   "source": [
    "# shn_gdf.explore()"
   ]
  },
  {
   "cell_type": "code",
   "execution_count": null,
   "id": "44c0b78c-398a-4097-bee6-053624efcfb6",
   "metadata": {},
   "outputs": [],
   "source": [
    "transit_route_shs_gdf.geometry = transit_route_shs_gdf.buffer(50)"
   ]
  },
  {
   "cell_type": "code",
   "execution_count": null,
   "id": "63101e56-b3ca-413f-b830-b176e8a936b0",
   "metadata": {},
   "outputs": [],
   "source": []
  },
  {
   "cell_type": "code",
   "execution_count": null,
   "id": "77a6e9ed-3a3a-4a97-a8a1-c757cbb3c303",
   "metadata": {
    "tags": []
   },
   "outputs": [],
   "source": [
    "cmap = branca.colormap.linear.PuBu_09.scale()"
   ]
  },
  {
   "cell_type": "code",
   "execution_count": null,
   "id": "8e10e6a6-5cf0-4160-8bac-24a67d6f9b33",
   "metadata": {
    "tags": []
   },
   "outputs": [],
   "source": [
    "cmap = branca.colormap.LinearColormap(\n",
    "    colors=cmap.colors[4:],\n",
    "    vmin=transit_route_shs_gdf.number.min(),\n",
    "    vmax=transit_route_shs_gdf.number.max(),\n",
    ")"
   ]
  },
  {
   "cell_type": "code",
   "execution_count": null,
   "id": "cb33d6ed-aeff-43aa-9bfd-54e4e95371c4",
   "metadata": {},
   "outputs": [],
   "source": [
    "cmap"
   ]
  },
  {
   "cell_type": "markdown",
   "id": "4fcd9a2a-cae1-41bc-95c0-2b6eb683395a",
   "metadata": {},
   "source": [
    "## SHN \n",
    "* *That uses the custom SHN style in the app to match speedmaps and other uses. Just need to ensure your shn gdf has Route,  County, District, RouteType columns.*\n",
    "* Goal: bring back these columns."
   ]
  },
  {
   "cell_type": "code",
   "execution_count": null,
   "id": "f2f7d0c1-185a-4b25-8b02-083e0a2aec87",
   "metadata": {},
   "outputs": [],
   "source": []
  },
  {
   "cell_type": "code",
   "execution_count": null,
   "id": "1d6f61b5-5228-41b6-82b3-35c9dcc0b6e9",
   "metadata": {},
   "outputs": [],
   "source": [
    "shn_gdf.shape"
   ]
  },
  {
   "cell_type": "code",
   "execution_count": null,
   "id": "78c8e9b6-aab6-43dc-ba27-820143021bac",
   "metadata": {},
   "outputs": [],
   "source": [
    "shn_gdf.columns"
   ]
  },
  {
   "cell_type": "code",
   "execution_count": null,
   "id": "0bfd35e7-aca3-4185-b81f-4da6a53cf348",
   "metadata": {},
   "outputs": [],
   "source": [
    "shn_map = webmap_utils.set_state_export(\n",
    "    shn_gdf,\n",
    "    filename=\"test_cc_routes1\",\n",
    "    map_title=\"SHN route\",\n",
    ")"
   ]
  },
  {
   "cell_type": "code",
   "execution_count": null,
   "id": "d63d4913-0668-4669-84aa-a0933b81b5ea",
   "metadata": {},
   "outputs": [],
   "source": [
    "webmap_utils.display_spa_map(shn_map[\"spa_link\"])"
   ]
  },
  {
   "cell_type": "markdown",
   "id": "bb242dc5-9aa7-4e43-8c95-210c3699bc90",
   "metadata": {},
   "source": [
    "## Transit Routes"
   ]
  },
  {
   "cell_type": "code",
   "execution_count": null,
   "id": "4b8b71ba-15bb-42c6-b226-2d888126086a",
   "metadata": {
    "scrolled": true,
    "tags": []
   },
   "outputs": [],
   "source": [
    "transit_shs = webmap_utils.set_state_export(\n",
    "    transit_route_shs_gdf,\n",
    "    filename=\"test2\",\n",
    "    map_title=\"Transit Routes\",\n",
    "    cmap=cmap,\n",
    "    color_col=\"number\",\n",
    "    existing_state=shn_map\n",
    "    \n",
    ")"
   ]
  },
  {
   "cell_type": "code",
   "execution_count": null,
   "id": "e56e32fd-dae4-4dd3-bbe9-36017843014e",
   "metadata": {},
   "outputs": [],
   "source": [
    "webmap_utils.render_spa_link(transit_shs[\"spa_link\"], text=\"Test Layered Map\")"
   ]
  },
  {
   "cell_type": "code",
   "execution_count": null,
   "id": "96fa2991-aa9a-4ced-a10b-12238aed0a2f",
   "metadata": {},
   "outputs": [],
   "source": [
    "webmap_utils.display_spa_map(transit_shs[\"spa_link\"])"
   ]
  }
 ],
 "metadata": {
  "kernelspec": {
   "display_name": "Python 3 (ipykernel)",
   "language": "python",
   "name": "python3"
  },
  "language_info": {
   "codemirror_mode": {
    "name": "ipython",
    "version": 3
   },
   "file_extension": ".py",
   "mimetype": "text/x-python",
   "name": "python",
   "nbconvert_exporter": "python",
   "pygments_lexer": "ipython3",
   "version": "3.11.10"
  }
 },
 "nbformat": 4,
 "nbformat_minor": 5
}
