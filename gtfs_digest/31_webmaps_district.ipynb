{
 "cells": [
  {
   "cell_type": "markdown",
   "id": "77b7997b-814d-4478-96b4-786a4748ad4d",
   "metadata": {},
   "source": [
    "# Implement webmaps with data downloads on District Digest\n",
    "* Issue #1559\n",
    "* Reference `ca_transit_speed_maps/05_webmap_example`"
   ]
  },
  {
   "cell_type": "code",
   "execution_count": 1,
   "id": "5c01d606-b971-4ecf-adf8-d3055796571a",
   "metadata": {
    "tags": []
   },
   "outputs": [],
   "source": [
    "import branca\n",
    "import geopandas as gpd\n",
    "import numpy as np\n",
    "import pandas as pd\n",
    "from calitp_data_analysis import geography_utils\n",
    "from calitp_data_analysis.gcs_geopandas import GCSGeoPandas\n",
    "from shared_utils import catalog_utils, webmap_utils\n",
    "\n",
    "gcsgp = GCSGeoPandas()"
   ]
  },
  {
   "cell_type": "code",
   "execution_count": 2,
   "id": "1055d9d8-baab-47ad-ac04-281a2604c119",
   "metadata": {
    "tags": []
   },
   "outputs": [],
   "source": [
    "import _ct_district_data_prep"
   ]
  },
  {
   "cell_type": "code",
   "execution_count": 3,
   "id": "27d52d78-03be-4f77-acbd-c908eca6860b",
   "metadata": {
    "tags": []
   },
   "outputs": [],
   "source": [
    "district = \"09 - Bishop\""
   ]
  },
  {
   "cell_type": "code",
   "execution_count": 4,
   "id": "9f5ede98-9679-4405-9f8b-7779c2d97b9f",
   "metadata": {
    "tags": []
   },
   "outputs": [],
   "source": [
    "district_int = [int(s) for s in district.split() if s.isdigit()][0]"
   ]
  },
  {
   "cell_type": "code",
   "execution_count": 5,
   "id": "0347bc08-98c0-426e-b9e2-c84f06b52953",
   "metadata": {
    "tags": []
   },
   "outputs": [],
   "source": [
    "shn_gdf = _ct_district_data_prep.load_buffered_shn_map(50, district_int)"
   ]
  },
  {
   "cell_type": "code",
   "execution_count": 6,
   "id": "b8cd0348-3154-4604-bd01-28bf855a82ef",
   "metadata": {
    "tags": []
   },
   "outputs": [],
   "source": [
    "transit_route_shs_gdf, transit_route_shs_table = (\n",
    "    _ct_district_data_prep.final_transit_route_shs_outputs(15, district_int)\n",
    ")"
   ]
  },
  {
   "cell_type": "code",
   "execution_count": 7,
   "id": "fdc198de-b35e-4ba6-a911-2834c342acda",
   "metadata": {},
   "outputs": [
    {
     "data": {
      "text/plain": [
       "14"
      ]
     },
     "execution_count": 7,
     "metadata": {},
     "output_type": "execute_result"
    }
   ],
   "source": [
    "len(transit_route_shs_gdf)"
   ]
  },
  {
   "cell_type": "code",
   "execution_count": 8,
   "id": "faacacb7-365e-41f3-a475-4bae698606b7",
   "metadata": {},
   "outputs": [
    {
     "data": {
      "text/plain": [
       "14"
      ]
     },
     "execution_count": 8,
     "metadata": {},
     "output_type": "execute_result"
    }
   ],
   "source": [
    "len(transit_route_shs_table)"
   ]
  },
  {
   "cell_type": "code",
   "execution_count": 9,
   "id": "cbb7dc77-97c6-47eb-8c97-0613ac5270a7",
   "metadata": {},
   "outputs": [],
   "source": [
    "shn_gdf = shn_gdf.to_crs(geography_utils.CA_NAD83Albers_m)"
   ]
  },
  {
   "cell_type": "code",
   "execution_count": 10,
   "id": "7b4ac4f8-393f-4a51-bdc4-2cd3746e21e8",
   "metadata": {},
   "outputs": [],
   "source": [
    "shn_gdf.geometry = shn_gdf.buffer(200)"
   ]
  },
  {
   "cell_type": "code",
   "execution_count": 11,
   "id": "74d1c7fc-9d75-4492-8536-1ff1ec78b8ab",
   "metadata": {
    "tags": []
   },
   "outputs": [],
   "source": [
    "transit_route_shs_gdf = transit_route_shs_gdf.to_crs(geography_utils.CA_NAD83Albers_m)"
   ]
  },
  {
   "cell_type": "code",
   "execution_count": 12,
   "id": "93fdb40b-80f8-48d1-82ab-ef79423cc561",
   "metadata": {
    "tags": []
   },
   "outputs": [],
   "source": [
    "transit_route_shs_gdf = transit_route_shs_gdf.reset_index(drop=False)\n",
    "transit_route_shs_gdf = transit_route_shs_gdf.rename(columns={\"index\": \"number\"})"
   ]
  },
  {
   "cell_type": "code",
   "execution_count": 13,
   "id": "44c0b78c-398a-4097-bee6-053624efcfb6",
   "metadata": {},
   "outputs": [],
   "source": [
    "transit_route_shs_gdf.geometry = transit_route_shs_gdf.buffer(200)"
   ]
  },
  {
   "cell_type": "code",
   "execution_count": 14,
   "id": "07d67c51-6540-488c-a348-7252b3cb9915",
   "metadata": {},
   "outputs": [],
   "source": [
    "# transit_route_shs_gdf.explore(\"Route\")"
   ]
  },
  {
   "cell_type": "code",
   "execution_count": 15,
   "id": "77a6e9ed-3a3a-4a97-a8a1-c757cbb3c303",
   "metadata": {
    "tags": []
   },
   "outputs": [],
   "source": [
    "cmap = branca.colormap.linear.PuBu_09.scale(vmin=0, vmax=40)"
   ]
  },
  {
   "cell_type": "code",
   "execution_count": 16,
   "id": "8e10e6a6-5cf0-4160-8bac-24a67d6f9b33",
   "metadata": {
    "tags": []
   },
   "outputs": [
    {
     "data": {
      "text/html": [
       "<svg height=\"50\" width=\"500\"><line x1=\"0\" y1=\"0\" x2=\"0\" y2=\"20\" style=\"stroke:#fff7fbff;stroke-width:3;\" /><line x1=\"1\" y1=\"0\" x2=\"1\" y2=\"20\" style=\"stroke:#fff7fbff;stroke-width:3;\" /><line x1=\"2\" y1=\"0\" x2=\"2\" y2=\"20\" style=\"stroke:#fff7fbff;stroke-width:3;\" /><line x1=\"3\" y1=\"0\" x2=\"3\" y2=\"20\" style=\"stroke:#fff7fbff;stroke-width:3;\" /><line x1=\"4\" y1=\"0\" x2=\"4\" y2=\"20\" style=\"stroke:#fef6fbff;stroke-width:3;\" /><line x1=\"5\" y1=\"0\" x2=\"5\" y2=\"20\" style=\"stroke:#fef6fbff;stroke-width:3;\" /><line x1=\"6\" y1=\"0\" x2=\"6\" y2=\"20\" style=\"stroke:#fef6fbff;stroke-width:3;\" /><line x1=\"7\" y1=\"0\" x2=\"7\" y2=\"20\" style=\"stroke:#fdf6faff;stroke-width:3;\" /><line x1=\"8\" y1=\"0\" x2=\"8\" y2=\"20\" style=\"stroke:#fdf5faff;stroke-width:3;\" /><line x1=\"9\" y1=\"0\" x2=\"9\" y2=\"20\" style=\"stroke:#fdf5faff;stroke-width:3;\" /><line x1=\"10\" y1=\"0\" x2=\"10\" y2=\"20\" style=\"stroke:#fcf5faff;stroke-width:3;\" /><line x1=\"11\" y1=\"0\" x2=\"11\" y2=\"20\" style=\"stroke:#fcf5faff;stroke-width:3;\" /><line x1=\"12\" y1=\"0\" x2=\"12\" y2=\"20\" style=\"stroke:#fcf4faff;stroke-width:3;\" /><line x1=\"13\" y1=\"0\" x2=\"13\" y2=\"20\" style=\"stroke:#fcf4faff;stroke-width:3;\" /><line x1=\"14\" y1=\"0\" x2=\"14\" y2=\"20\" style=\"stroke:#fbf4f9ff;stroke-width:3;\" /><line x1=\"15\" y1=\"0\" x2=\"15\" y2=\"20\" style=\"stroke:#fbf4f9ff;stroke-width:3;\" /><line x1=\"16\" y1=\"0\" x2=\"16\" y2=\"20\" style=\"stroke:#fbf3f9ff;stroke-width:3;\" /><line x1=\"17\" y1=\"0\" x2=\"17\" y2=\"20\" style=\"stroke:#faf3f9ff;stroke-width:3;\" /><line x1=\"18\" y1=\"0\" x2=\"18\" y2=\"20\" style=\"stroke:#faf3f9ff;stroke-width:3;\" /><line x1=\"19\" y1=\"0\" x2=\"19\" y2=\"20\" style=\"stroke:#faf3f9ff;stroke-width:3;\" /><line x1=\"20\" y1=\"0\" x2=\"20\" y2=\"20\" style=\"stroke:#f9f2f9ff;stroke-width:3;\" /><line x1=\"21\" y1=\"0\" x2=\"21\" y2=\"20\" style=\"stroke:#f9f2f8ff;stroke-width:3;\" /><line x1=\"22\" y1=\"0\" x2=\"22\" y2=\"20\" style=\"stroke:#f9f2f8ff;stroke-width:3;\" /><line x1=\"23\" y1=\"0\" x2=\"23\" y2=\"20\" style=\"stroke:#f8f2f8ff;stroke-width:3;\" /><line x1=\"24\" y1=\"0\" x2=\"24\" y2=\"20\" style=\"stroke:#f8f1f8ff;stroke-width:3;\" /><line x1=\"25\" y1=\"0\" x2=\"25\" y2=\"20\" style=\"stroke:#f8f1f8ff;stroke-width:3;\" /><line x1=\"26\" y1=\"0\" x2=\"26\" y2=\"20\" style=\"stroke:#f8f1f8ff;stroke-width:3;\" /><line x1=\"27\" y1=\"0\" x2=\"27\" y2=\"20\" style=\"stroke:#f7f1f8ff;stroke-width:3;\" /><line x1=\"28\" y1=\"0\" x2=\"28\" y2=\"20\" style=\"stroke:#f7f0f7ff;stroke-width:3;\" /><line x1=\"29\" y1=\"0\" x2=\"29\" y2=\"20\" style=\"stroke:#f7f0f7ff;stroke-width:3;\" /><line x1=\"30\" y1=\"0\" x2=\"30\" y2=\"20\" style=\"stroke:#f6f0f7ff;stroke-width:3;\" /><line x1=\"31\" y1=\"0\" x2=\"31\" y2=\"20\" style=\"stroke:#f6eff7ff;stroke-width:3;\" /><line x1=\"32\" y1=\"0\" x2=\"32\" y2=\"20\" style=\"stroke:#f6eff7ff;stroke-width:3;\" /><line x1=\"33\" y1=\"0\" x2=\"33\" y2=\"20\" style=\"stroke:#f5eff7ff;stroke-width:3;\" /><line x1=\"34\" y1=\"0\" x2=\"34\" y2=\"20\" style=\"stroke:#f5eff7ff;stroke-width:3;\" /><line x1=\"35\" y1=\"0\" x2=\"35\" y2=\"20\" style=\"stroke:#f5eef6ff;stroke-width:3;\" /><line x1=\"36\" y1=\"0\" x2=\"36\" y2=\"20\" style=\"stroke:#f4eef6ff;stroke-width:3;\" /><line x1=\"37\" y1=\"0\" x2=\"37\" y2=\"20\" style=\"stroke:#f4eef6ff;stroke-width:3;\" /><line x1=\"38\" y1=\"0\" x2=\"38\" y2=\"20\" style=\"stroke:#f4eef6ff;stroke-width:3;\" /><line x1=\"39\" y1=\"0\" x2=\"39\" y2=\"20\" style=\"stroke:#f4edf6ff;stroke-width:3;\" /><line x1=\"40\" y1=\"0\" x2=\"40\" y2=\"20\" style=\"stroke:#f3edf6ff;stroke-width:3;\" /><line x1=\"41\" y1=\"0\" x2=\"41\" y2=\"20\" style=\"stroke:#f3edf6ff;stroke-width:3;\" /><line x1=\"42\" y1=\"0\" x2=\"42\" y2=\"20\" style=\"stroke:#f3edf5ff;stroke-width:3;\" /><line x1=\"43\" y1=\"0\" x2=\"43\" y2=\"20\" style=\"stroke:#f2ecf5ff;stroke-width:3;\" /><line x1=\"44\" y1=\"0\" x2=\"44\" y2=\"20\" style=\"stroke:#f2ecf5ff;stroke-width:3;\" /><line x1=\"45\" y1=\"0\" x2=\"45\" y2=\"20\" style=\"stroke:#f2ecf5ff;stroke-width:3;\" /><line x1=\"46\" y1=\"0\" x2=\"46\" y2=\"20\" style=\"stroke:#f1ecf5ff;stroke-width:3;\" /><line x1=\"47\" y1=\"0\" x2=\"47\" y2=\"20\" style=\"stroke:#f1ebf5ff;stroke-width:3;\" /><line x1=\"48\" y1=\"0\" x2=\"48\" y2=\"20\" style=\"stroke:#f1ebf5ff;stroke-width:3;\" /><line x1=\"49\" y1=\"0\" x2=\"49\" y2=\"20\" style=\"stroke:#f1ebf4ff;stroke-width:3;\" /><line x1=\"50\" y1=\"0\" x2=\"50\" y2=\"20\" style=\"stroke:#f0ebf4ff;stroke-width:3;\" /><line x1=\"51\" y1=\"0\" x2=\"51\" y2=\"20\" style=\"stroke:#f0eaf4ff;stroke-width:3;\" /><line x1=\"52\" y1=\"0\" x2=\"52\" y2=\"20\" style=\"stroke:#f0eaf4ff;stroke-width:3;\" /><line x1=\"53\" y1=\"0\" x2=\"53\" y2=\"20\" style=\"stroke:#efeaf4ff;stroke-width:3;\" /><line x1=\"54\" y1=\"0\" x2=\"54\" y2=\"20\" style=\"stroke:#efeaf4ff;stroke-width:3;\" /><line x1=\"55\" y1=\"0\" x2=\"55\" y2=\"20\" style=\"stroke:#efe9f4ff;stroke-width:3;\" /><line x1=\"56\" y1=\"0\" x2=\"56\" y2=\"20\" style=\"stroke:#eee9f3ff;stroke-width:3;\" /><line x1=\"57\" y1=\"0\" x2=\"57\" y2=\"20\" style=\"stroke:#eee9f3ff;stroke-width:3;\" /><line x1=\"58\" y1=\"0\" x2=\"58\" y2=\"20\" style=\"stroke:#eee9f3ff;stroke-width:3;\" /><line x1=\"59\" y1=\"0\" x2=\"59\" y2=\"20\" style=\"stroke:#ede8f3ff;stroke-width:3;\" /><line x1=\"60\" y1=\"0\" x2=\"60\" y2=\"20\" style=\"stroke:#ede8f3ff;stroke-width:3;\" /><line x1=\"61\" y1=\"0\" x2=\"61\" y2=\"20\" style=\"stroke:#ede8f3ff;stroke-width:3;\" /><line x1=\"62\" y1=\"0\" x2=\"62\" y2=\"20\" style=\"stroke:#ede8f3ff;stroke-width:3;\" /><line x1=\"63\" y1=\"0\" x2=\"63\" y2=\"20\" style=\"stroke:#ece7f2ff;stroke-width:3;\" /><line x1=\"64\" y1=\"0\" x2=\"64\" y2=\"20\" style=\"stroke:#ece7f2ff;stroke-width:3;\" /><line x1=\"65\" y1=\"0\" x2=\"65\" y2=\"20\" style=\"stroke:#ebe6f2ff;stroke-width:3;\" /><line x1=\"66\" y1=\"0\" x2=\"66\" y2=\"20\" style=\"stroke:#ebe6f2ff;stroke-width:3;\" /><line x1=\"67\" y1=\"0\" x2=\"67\" y2=\"20\" style=\"stroke:#eae6f2ff;stroke-width:3;\" /><line x1=\"68\" y1=\"0\" x2=\"68\" y2=\"20\" style=\"stroke:#eae5f1ff;stroke-width:3;\" /><line x1=\"69\" y1=\"0\" x2=\"69\" y2=\"20\" style=\"stroke:#e9e5f1ff;stroke-width:3;\" /><line x1=\"70\" y1=\"0\" x2=\"70\" y2=\"20\" style=\"stroke:#e9e5f1ff;stroke-width:3;\" /><line x1=\"71\" y1=\"0\" x2=\"71\" y2=\"20\" style=\"stroke:#e9e4f1ff;stroke-width:3;\" /><line x1=\"72\" y1=\"0\" x2=\"72\" y2=\"20\" style=\"stroke:#e8e4f1ff;stroke-width:3;\" /><line x1=\"73\" y1=\"0\" x2=\"73\" y2=\"20\" style=\"stroke:#e8e4f0ff;stroke-width:3;\" /><line x1=\"74\" y1=\"0\" x2=\"74\" y2=\"20\" style=\"stroke:#e7e3f0ff;stroke-width:3;\" /><line x1=\"75\" y1=\"0\" x2=\"75\" y2=\"20\" style=\"stroke:#e7e3f0ff;stroke-width:3;\" /><line x1=\"76\" y1=\"0\" x2=\"76\" y2=\"20\" style=\"stroke:#e6e3f0ff;stroke-width:3;\" /><line x1=\"77\" y1=\"0\" x2=\"77\" y2=\"20\" style=\"stroke:#e6e2f0ff;stroke-width:3;\" /><line x1=\"78\" y1=\"0\" x2=\"78\" y2=\"20\" style=\"stroke:#e5e2efff;stroke-width:3;\" /><line x1=\"79\" y1=\"0\" x2=\"79\" y2=\"20\" style=\"stroke:#e5e2efff;stroke-width:3;\" /><line x1=\"80\" y1=\"0\" x2=\"80\" y2=\"20\" style=\"stroke:#e4e1efff;stroke-width:3;\" /><line x1=\"81\" y1=\"0\" x2=\"81\" y2=\"20\" style=\"stroke:#e4e1efff;stroke-width:3;\" /><line x1=\"82\" y1=\"0\" x2=\"82\" y2=\"20\" style=\"stroke:#e4e0efff;stroke-width:3;\" /><line x1=\"83\" y1=\"0\" x2=\"83\" y2=\"20\" style=\"stroke:#e3e0eeff;stroke-width:3;\" /><line x1=\"84\" y1=\"0\" x2=\"84\" y2=\"20\" style=\"stroke:#e3e0eeff;stroke-width:3;\" /><line x1=\"85\" y1=\"0\" x2=\"85\" y2=\"20\" style=\"stroke:#e2dfeeff;stroke-width:3;\" /><line x1=\"86\" y1=\"0\" x2=\"86\" y2=\"20\" style=\"stroke:#e2dfeeff;stroke-width:3;\" /><line x1=\"87\" y1=\"0\" x2=\"87\" y2=\"20\" style=\"stroke:#e1dfeeff;stroke-width:3;\" /><line x1=\"88\" y1=\"0\" x2=\"88\" y2=\"20\" style=\"stroke:#e1deedff;stroke-width:3;\" /><line x1=\"89\" y1=\"0\" x2=\"89\" y2=\"20\" style=\"stroke:#e0deedff;stroke-width:3;\" /><line x1=\"90\" y1=\"0\" x2=\"90\" y2=\"20\" style=\"stroke:#e0deedff;stroke-width:3;\" /><line x1=\"91\" y1=\"0\" x2=\"91\" y2=\"20\" style=\"stroke:#e0ddedff;stroke-width:3;\" /><line x1=\"92\" y1=\"0\" x2=\"92\" y2=\"20\" style=\"stroke:#dfddedff;stroke-width:3;\" /><line x1=\"93\" y1=\"0\" x2=\"93\" y2=\"20\" style=\"stroke:#dfddedff;stroke-width:3;\" /><line x1=\"94\" y1=\"0\" x2=\"94\" y2=\"20\" style=\"stroke:#dedcecff;stroke-width:3;\" /><line x1=\"95\" y1=\"0\" x2=\"95\" y2=\"20\" style=\"stroke:#dedcecff;stroke-width:3;\" /><line x1=\"96\" y1=\"0\" x2=\"96\" y2=\"20\" style=\"stroke:#dddbecff;stroke-width:3;\" /><line x1=\"97\" y1=\"0\" x2=\"97\" y2=\"20\" style=\"stroke:#dddbecff;stroke-width:3;\" /><line x1=\"98\" y1=\"0\" x2=\"98\" y2=\"20\" style=\"stroke:#dcdbecff;stroke-width:3;\" /><line x1=\"99\" y1=\"0\" x2=\"99\" y2=\"20\" style=\"stroke:#dcdaebff;stroke-width:3;\" /><line x1=\"100\" y1=\"0\" x2=\"100\" y2=\"20\" style=\"stroke:#dbdaebff;stroke-width:3;\" /><line x1=\"101\" y1=\"0\" x2=\"101\" y2=\"20\" style=\"stroke:#dbdaebff;stroke-width:3;\" /><line x1=\"102\" y1=\"0\" x2=\"102\" y2=\"20\" style=\"stroke:#dbd9ebff;stroke-width:3;\" /><line x1=\"103\" y1=\"0\" x2=\"103\" y2=\"20\" style=\"stroke:#dad9ebff;stroke-width:3;\" /><line x1=\"104\" y1=\"0\" x2=\"104\" y2=\"20\" style=\"stroke:#dad9eaff;stroke-width:3;\" /><line x1=\"105\" y1=\"0\" x2=\"105\" y2=\"20\" style=\"stroke:#d9d8eaff;stroke-width:3;\" /><line x1=\"106\" y1=\"0\" x2=\"106\" y2=\"20\" style=\"stroke:#d9d8eaff;stroke-width:3;\" /><line x1=\"107\" y1=\"0\" x2=\"107\" y2=\"20\" style=\"stroke:#d8d8eaff;stroke-width:3;\" /><line x1=\"108\" y1=\"0\" x2=\"108\" y2=\"20\" style=\"stroke:#d8d7eaff;stroke-width:3;\" /><line x1=\"109\" y1=\"0\" x2=\"109\" y2=\"20\" style=\"stroke:#d7d7e9ff;stroke-width:3;\" /><line x1=\"110\" y1=\"0\" x2=\"110\" y2=\"20\" style=\"stroke:#d7d7e9ff;stroke-width:3;\" /><line x1=\"111\" y1=\"0\" x2=\"111\" y2=\"20\" style=\"stroke:#d7d6e9ff;stroke-width:3;\" /><line x1=\"112\" y1=\"0\" x2=\"112\" y2=\"20\" style=\"stroke:#d6d6e9ff;stroke-width:3;\" /><line x1=\"113\" y1=\"0\" x2=\"113\" y2=\"20\" style=\"stroke:#d6d5e9ff;stroke-width:3;\" /><line x1=\"114\" y1=\"0\" x2=\"114\" y2=\"20\" style=\"stroke:#d5d5e8ff;stroke-width:3;\" /><line x1=\"115\" y1=\"0\" x2=\"115\" y2=\"20\" style=\"stroke:#d5d5e8ff;stroke-width:3;\" /><line x1=\"116\" y1=\"0\" x2=\"116\" y2=\"20\" style=\"stroke:#d4d4e8ff;stroke-width:3;\" /><line x1=\"117\" y1=\"0\" x2=\"117\" y2=\"20\" style=\"stroke:#d4d4e8ff;stroke-width:3;\" /><line x1=\"118\" y1=\"0\" x2=\"118\" y2=\"20\" style=\"stroke:#d3d4e8ff;stroke-width:3;\" /><line x1=\"119\" y1=\"0\" x2=\"119\" y2=\"20\" style=\"stroke:#d3d3e8ff;stroke-width:3;\" /><line x1=\"120\" y1=\"0\" x2=\"120\" y2=\"20\" style=\"stroke:#d2d3e7ff;stroke-width:3;\" /><line x1=\"121\" y1=\"0\" x2=\"121\" y2=\"20\" style=\"stroke:#d2d3e7ff;stroke-width:3;\" /><line x1=\"122\" y1=\"0\" x2=\"122\" y2=\"20\" style=\"stroke:#d2d2e7ff;stroke-width:3;\" /><line x1=\"123\" y1=\"0\" x2=\"123\" y2=\"20\" style=\"stroke:#d1d2e7ff;stroke-width:3;\" /><line x1=\"124\" y1=\"0\" x2=\"124\" y2=\"20\" style=\"stroke:#d1d2e7ff;stroke-width:3;\" /><line x1=\"125\" y1=\"0\" x2=\"125\" y2=\"20\" style=\"stroke:#d0d1e6ff;stroke-width:3;\" /><line x1=\"126\" y1=\"0\" x2=\"126\" y2=\"20\" style=\"stroke:#cfd1e6ff;stroke-width:3;\" /><line x1=\"127\" y1=\"0\" x2=\"127\" y2=\"20\" style=\"stroke:#cfd1e6ff;stroke-width:3;\" /><line x1=\"128\" y1=\"0\" x2=\"128\" y2=\"20\" style=\"stroke:#ced0e6ff;stroke-width:3;\" /><line x1=\"129\" y1=\"0\" x2=\"129\" y2=\"20\" style=\"stroke:#cdd0e6ff;stroke-width:3;\" /><line x1=\"130\" y1=\"0\" x2=\"130\" y2=\"20\" style=\"stroke:#cdd0e5ff;stroke-width:3;\" /><line x1=\"131\" y1=\"0\" x2=\"131\" y2=\"20\" style=\"stroke:#cccfe5ff;stroke-width:3;\" /><line x1=\"132\" y1=\"0\" x2=\"132\" y2=\"20\" style=\"stroke:#cbcfe5ff;stroke-width:3;\" /><line x1=\"133\" y1=\"0\" x2=\"133\" y2=\"20\" style=\"stroke:#cbcfe5ff;stroke-width:3;\" /><line x1=\"134\" y1=\"0\" x2=\"134\" y2=\"20\" style=\"stroke:#cacee5ff;stroke-width:3;\" /><line x1=\"135\" y1=\"0\" x2=\"135\" y2=\"20\" style=\"stroke:#c9cee5ff;stroke-width:3;\" /><line x1=\"136\" y1=\"0\" x2=\"136\" y2=\"20\" style=\"stroke:#c9cee4ff;stroke-width:3;\" /><line x1=\"137\" y1=\"0\" x2=\"137\" y2=\"20\" style=\"stroke:#c8cde4ff;stroke-width:3;\" /><line x1=\"138\" y1=\"0\" x2=\"138\" y2=\"20\" style=\"stroke:#c7cde4ff;stroke-width:3;\" /><line x1=\"139\" y1=\"0\" x2=\"139\" y2=\"20\" style=\"stroke:#c7cde4ff;stroke-width:3;\" /><line x1=\"140\" y1=\"0\" x2=\"140\" y2=\"20\" style=\"stroke:#c6cce4ff;stroke-width:3;\" /><line x1=\"141\" y1=\"0\" x2=\"141\" y2=\"20\" style=\"stroke:#c5cce4ff;stroke-width:3;\" /><line x1=\"142\" y1=\"0\" x2=\"142\" y2=\"20\" style=\"stroke:#c5cce3ff;stroke-width:3;\" /><line x1=\"143\" y1=\"0\" x2=\"143\" y2=\"20\" style=\"stroke:#c4cbe3ff;stroke-width:3;\" /><line x1=\"144\" y1=\"0\" x2=\"144\" y2=\"20\" style=\"stroke:#c3cbe3ff;stroke-width:3;\" /><line x1=\"145\" y1=\"0\" x2=\"145\" y2=\"20\" style=\"stroke:#c3cbe3ff;stroke-width:3;\" /><line x1=\"146\" y1=\"0\" x2=\"146\" y2=\"20\" style=\"stroke:#c2cae3ff;stroke-width:3;\" /><line x1=\"147\" y1=\"0\" x2=\"147\" y2=\"20\" style=\"stroke:#c1cae2ff;stroke-width:3;\" /><line x1=\"148\" y1=\"0\" x2=\"148\" y2=\"20\" style=\"stroke:#c1cae2ff;stroke-width:3;\" /><line x1=\"149\" y1=\"0\" x2=\"149\" y2=\"20\" style=\"stroke:#c0cae2ff;stroke-width:3;\" /><line x1=\"150\" y1=\"0\" x2=\"150\" y2=\"20\" style=\"stroke:#bfc9e2ff;stroke-width:3;\" /><line x1=\"151\" y1=\"0\" x2=\"151\" y2=\"20\" style=\"stroke:#bfc9e2ff;stroke-width:3;\" /><line x1=\"152\" y1=\"0\" x2=\"152\" y2=\"20\" style=\"stroke:#bec9e2ff;stroke-width:3;\" /><line x1=\"153\" y1=\"0\" x2=\"153\" y2=\"20\" style=\"stroke:#bdc8e1ff;stroke-width:3;\" /><line x1=\"154\" y1=\"0\" x2=\"154\" y2=\"20\" style=\"stroke:#bdc8e1ff;stroke-width:3;\" /><line x1=\"155\" y1=\"0\" x2=\"155\" y2=\"20\" style=\"stroke:#bcc8e1ff;stroke-width:3;\" /><line x1=\"156\" y1=\"0\" x2=\"156\" y2=\"20\" style=\"stroke:#bbc7e1ff;stroke-width:3;\" /><line x1=\"157\" y1=\"0\" x2=\"157\" y2=\"20\" style=\"stroke:#bbc7e1ff;stroke-width:3;\" /><line x1=\"158\" y1=\"0\" x2=\"158\" y2=\"20\" style=\"stroke:#bac7e1ff;stroke-width:3;\" /><line x1=\"159\" y1=\"0\" x2=\"159\" y2=\"20\" style=\"stroke:#b9c6e0ff;stroke-width:3;\" /><line x1=\"160\" y1=\"0\" x2=\"160\" y2=\"20\" style=\"stroke:#b8c6e0ff;stroke-width:3;\" /><line x1=\"161\" y1=\"0\" x2=\"161\" y2=\"20\" style=\"stroke:#b8c6e0ff;stroke-width:3;\" /><line x1=\"162\" y1=\"0\" x2=\"162\" y2=\"20\" style=\"stroke:#b7c5e0ff;stroke-width:3;\" /><line x1=\"163\" y1=\"0\" x2=\"163\" y2=\"20\" style=\"stroke:#b6c5e0ff;stroke-width:3;\" /><line x1=\"164\" y1=\"0\" x2=\"164\" y2=\"20\" style=\"stroke:#b6c5dfff;stroke-width:3;\" /><line x1=\"165\" y1=\"0\" x2=\"165\" y2=\"20\" style=\"stroke:#b5c4dfff;stroke-width:3;\" /><line x1=\"166\" y1=\"0\" x2=\"166\" y2=\"20\" style=\"stroke:#b4c4dfff;stroke-width:3;\" /><line x1=\"167\" y1=\"0\" x2=\"167\" y2=\"20\" style=\"stroke:#b4c4dfff;stroke-width:3;\" /><line x1=\"168\" y1=\"0\" x2=\"168\" y2=\"20\" style=\"stroke:#b3c3dfff;stroke-width:3;\" /><line x1=\"169\" y1=\"0\" x2=\"169\" y2=\"20\" style=\"stroke:#b2c3dfff;stroke-width:3;\" /><line x1=\"170\" y1=\"0\" x2=\"170\" y2=\"20\" style=\"stroke:#b2c3deff;stroke-width:3;\" /><line x1=\"171\" y1=\"0\" x2=\"171\" y2=\"20\" style=\"stroke:#b1c2deff;stroke-width:3;\" /><line x1=\"172\" y1=\"0\" x2=\"172\" y2=\"20\" style=\"stroke:#b0c2deff;stroke-width:3;\" /><line x1=\"173\" y1=\"0\" x2=\"173\" y2=\"20\" style=\"stroke:#b0c2deff;stroke-width:3;\" /><line x1=\"174\" y1=\"0\" x2=\"174\" y2=\"20\" style=\"stroke:#afc1deff;stroke-width:3;\" /><line x1=\"175\" y1=\"0\" x2=\"175\" y2=\"20\" style=\"stroke:#aec1deff;stroke-width:3;\" /><line x1=\"176\" y1=\"0\" x2=\"176\" y2=\"20\" style=\"stroke:#aec1ddff;stroke-width:3;\" /><line x1=\"177\" y1=\"0\" x2=\"177\" y2=\"20\" style=\"stroke:#adc1ddff;stroke-width:3;\" /><line x1=\"178\" y1=\"0\" x2=\"178\" y2=\"20\" style=\"stroke:#acc0ddff;stroke-width:3;\" /><line x1=\"179\" y1=\"0\" x2=\"179\" y2=\"20\" style=\"stroke:#acc0ddff;stroke-width:3;\" /><line x1=\"180\" y1=\"0\" x2=\"180\" y2=\"20\" style=\"stroke:#abc0ddff;stroke-width:3;\" /><line x1=\"181\" y1=\"0\" x2=\"181\" y2=\"20\" style=\"stroke:#aabfdcff;stroke-width:3;\" /><line x1=\"182\" y1=\"0\" x2=\"182\" y2=\"20\" style=\"stroke:#aabfdcff;stroke-width:3;\" /><line x1=\"183\" y1=\"0\" x2=\"183\" y2=\"20\" style=\"stroke:#a9bfdcff;stroke-width:3;\" /><line x1=\"184\" y1=\"0\" x2=\"184\" y2=\"20\" style=\"stroke:#a8bedcff;stroke-width:3;\" /><line x1=\"185\" y1=\"0\" x2=\"185\" y2=\"20\" style=\"stroke:#a8bedcff;stroke-width:3;\" /><line x1=\"186\" y1=\"0\" x2=\"186\" y2=\"20\" style=\"stroke:#a7bedcff;stroke-width:3;\" /><line x1=\"187\" y1=\"0\" x2=\"187\" y2=\"20\" style=\"stroke:#a6bddbff;stroke-width:3;\" /><line x1=\"188\" y1=\"0\" x2=\"188\" y2=\"20\" style=\"stroke:#a5bddbff;stroke-width:3;\" /><line x1=\"189\" y1=\"0\" x2=\"189\" y2=\"20\" style=\"stroke:#a5bddbff;stroke-width:3;\" /><line x1=\"190\" y1=\"0\" x2=\"190\" y2=\"20\" style=\"stroke:#a4bcdbff;stroke-width:3;\" /><line x1=\"191\" y1=\"0\" x2=\"191\" y2=\"20\" style=\"stroke:#a3bcdbff;stroke-width:3;\" /><line x1=\"192\" y1=\"0\" x2=\"192\" y2=\"20\" style=\"stroke:#a2bcdaff;stroke-width:3;\" /><line x1=\"193\" y1=\"0\" x2=\"193\" y2=\"20\" style=\"stroke:#a1bbdaff;stroke-width:3;\" /><line x1=\"194\" y1=\"0\" x2=\"194\" y2=\"20\" style=\"stroke:#a1bbdaff;stroke-width:3;\" /><line x1=\"195\" y1=\"0\" x2=\"195\" y2=\"20\" style=\"stroke:#a0bbdaff;stroke-width:3;\" /><line x1=\"196\" y1=\"0\" x2=\"196\" y2=\"20\" style=\"stroke:#9fbadaff;stroke-width:3;\" /><line x1=\"197\" y1=\"0\" x2=\"197\" y2=\"20\" style=\"stroke:#9ebad9ff;stroke-width:3;\" /><line x1=\"198\" y1=\"0\" x2=\"198\" y2=\"20\" style=\"stroke:#9dbad9ff;stroke-width:3;\" /><line x1=\"199\" y1=\"0\" x2=\"199\" y2=\"20\" style=\"stroke:#9db9d9ff;stroke-width:3;\" /><line x1=\"200\" y1=\"0\" x2=\"200\" y2=\"20\" style=\"stroke:#9cb9d9ff;stroke-width:3;\" /><line x1=\"201\" y1=\"0\" x2=\"201\" y2=\"20\" style=\"stroke:#9bb9d9ff;stroke-width:3;\" /><line x1=\"202\" y1=\"0\" x2=\"202\" y2=\"20\" style=\"stroke:#9ab8d8ff;stroke-width:3;\" /><line x1=\"203\" y1=\"0\" x2=\"203\" y2=\"20\" style=\"stroke:#99b8d8ff;stroke-width:3;\" /><line x1=\"204\" y1=\"0\" x2=\"204\" y2=\"20\" style=\"stroke:#99b8d8ff;stroke-width:3;\" /><line x1=\"205\" y1=\"0\" x2=\"205\" y2=\"20\" style=\"stroke:#98b7d8ff;stroke-width:3;\" /><line x1=\"206\" y1=\"0\" x2=\"206\" y2=\"20\" style=\"stroke:#97b7d8ff;stroke-width:3;\" /><line x1=\"207\" y1=\"0\" x2=\"207\" y2=\"20\" style=\"stroke:#96b7d8ff;stroke-width:3;\" /><line x1=\"208\" y1=\"0\" x2=\"208\" y2=\"20\" style=\"stroke:#95b7d7ff;stroke-width:3;\" /><line x1=\"209\" y1=\"0\" x2=\"209\" y2=\"20\" style=\"stroke:#95b6d7ff;stroke-width:3;\" /><line x1=\"210\" y1=\"0\" x2=\"210\" y2=\"20\" style=\"stroke:#94b6d7ff;stroke-width:3;\" /><line x1=\"211\" y1=\"0\" x2=\"211\" y2=\"20\" style=\"stroke:#93b6d7ff;stroke-width:3;\" /><line x1=\"212\" y1=\"0\" x2=\"212\" y2=\"20\" style=\"stroke:#92b5d7ff;stroke-width:3;\" /><line x1=\"213\" y1=\"0\" x2=\"213\" y2=\"20\" style=\"stroke:#91b5d6ff;stroke-width:3;\" /><line x1=\"214\" y1=\"0\" x2=\"214\" y2=\"20\" style=\"stroke:#91b5d6ff;stroke-width:3;\" /><line x1=\"215\" y1=\"0\" x2=\"215\" y2=\"20\" style=\"stroke:#90b4d6ff;stroke-width:3;\" /><line x1=\"216\" y1=\"0\" x2=\"216\" y2=\"20\" style=\"stroke:#8fb4d6ff;stroke-width:3;\" /><line x1=\"217\" y1=\"0\" x2=\"217\" y2=\"20\" style=\"stroke:#8eb4d6ff;stroke-width:3;\" /><line x1=\"218\" y1=\"0\" x2=\"218\" y2=\"20\" style=\"stroke:#8db3d5ff;stroke-width:3;\" /><line x1=\"219\" y1=\"0\" x2=\"219\" y2=\"20\" style=\"stroke:#8cb3d5ff;stroke-width:3;\" /><line x1=\"220\" y1=\"0\" x2=\"220\" y2=\"20\" style=\"stroke:#8cb3d5ff;stroke-width:3;\" /><line x1=\"221\" y1=\"0\" x2=\"221\" y2=\"20\" style=\"stroke:#8bb2d5ff;stroke-width:3;\" /><line x1=\"222\" y1=\"0\" x2=\"222\" y2=\"20\" style=\"stroke:#8ab2d5ff;stroke-width:3;\" /><line x1=\"223\" y1=\"0\" x2=\"223\" y2=\"20\" style=\"stroke:#89b2d4ff;stroke-width:3;\" /><line x1=\"224\" y1=\"0\" x2=\"224\" y2=\"20\" style=\"stroke:#88b1d4ff;stroke-width:3;\" /><line x1=\"225\" y1=\"0\" x2=\"225\" y2=\"20\" style=\"stroke:#88b1d4ff;stroke-width:3;\" /><line x1=\"226\" y1=\"0\" x2=\"226\" y2=\"20\" style=\"stroke:#87b1d4ff;stroke-width:3;\" /><line x1=\"227\" y1=\"0\" x2=\"227\" y2=\"20\" style=\"stroke:#86b0d4ff;stroke-width:3;\" /><line x1=\"228\" y1=\"0\" x2=\"228\" y2=\"20\" style=\"stroke:#85b0d3ff;stroke-width:3;\" /><line x1=\"229\" y1=\"0\" x2=\"229\" y2=\"20\" style=\"stroke:#84b0d3ff;stroke-width:3;\" /><line x1=\"230\" y1=\"0\" x2=\"230\" y2=\"20\" style=\"stroke:#84afd3ff;stroke-width:3;\" /><line x1=\"231\" y1=\"0\" x2=\"231\" y2=\"20\" style=\"stroke:#83afd3ff;stroke-width:3;\" /><line x1=\"232\" y1=\"0\" x2=\"232\" y2=\"20\" style=\"stroke:#82afd3ff;stroke-width:3;\" /><line x1=\"233\" y1=\"0\" x2=\"233\" y2=\"20\" style=\"stroke:#81aed2ff;stroke-width:3;\" /><line x1=\"234\" y1=\"0\" x2=\"234\" y2=\"20\" style=\"stroke:#80aed2ff;stroke-width:3;\" /><line x1=\"235\" y1=\"0\" x2=\"235\" y2=\"20\" style=\"stroke:#80aed2ff;stroke-width:3;\" /><line x1=\"236\" y1=\"0\" x2=\"236\" y2=\"20\" style=\"stroke:#7faed2ff;stroke-width:3;\" /><line x1=\"237\" y1=\"0\" x2=\"237\" y2=\"20\" style=\"stroke:#7eadd2ff;stroke-width:3;\" /><line x1=\"238\" y1=\"0\" x2=\"238\" y2=\"20\" style=\"stroke:#7dadd2ff;stroke-width:3;\" /><line x1=\"239\" y1=\"0\" x2=\"239\" y2=\"20\" style=\"stroke:#7cadd1ff;stroke-width:3;\" /><line x1=\"240\" y1=\"0\" x2=\"240\" y2=\"20\" style=\"stroke:#7cacd1ff;stroke-width:3;\" /><line x1=\"241\" y1=\"0\" x2=\"241\" y2=\"20\" style=\"stroke:#7bacd1ff;stroke-width:3;\" /><line x1=\"242\" y1=\"0\" x2=\"242\" y2=\"20\" style=\"stroke:#7aacd1ff;stroke-width:3;\" /><line x1=\"243\" y1=\"0\" x2=\"243\" y2=\"20\" style=\"stroke:#79abd1ff;stroke-width:3;\" /><line x1=\"244\" y1=\"0\" x2=\"244\" y2=\"20\" style=\"stroke:#78abd0ff;stroke-width:3;\" /><line x1=\"245\" y1=\"0\" x2=\"245\" y2=\"20\" style=\"stroke:#78abd0ff;stroke-width:3;\" /><line x1=\"246\" y1=\"0\" x2=\"246\" y2=\"20\" style=\"stroke:#77aad0ff;stroke-width:3;\" /><line x1=\"247\" y1=\"0\" x2=\"247\" y2=\"20\" style=\"stroke:#76aad0ff;stroke-width:3;\" /><line x1=\"248\" y1=\"0\" x2=\"248\" y2=\"20\" style=\"stroke:#75aad0ff;stroke-width:3;\" /><line x1=\"249\" y1=\"0\" x2=\"249\" y2=\"20\" style=\"stroke:#74a9cfff;stroke-width:3;\" /><line x1=\"250\" y1=\"0\" x2=\"250\" y2=\"20\" style=\"stroke:#73a9cfff;stroke-width:3;\" /><line x1=\"251\" y1=\"0\" x2=\"251\" y2=\"20\" style=\"stroke:#72a9cfff;stroke-width:3;\" /><line x1=\"252\" y1=\"0\" x2=\"252\" y2=\"20\" style=\"stroke:#71a8cfff;stroke-width:3;\" /><line x1=\"253\" y1=\"0\" x2=\"253\" y2=\"20\" style=\"stroke:#70a8ceff;stroke-width:3;\" /><line x1=\"254\" y1=\"0\" x2=\"254\" y2=\"20\" style=\"stroke:#6fa7ceff;stroke-width:3;\" /><line x1=\"255\" y1=\"0\" x2=\"255\" y2=\"20\" style=\"stroke:#6ea7ceff;stroke-width:3;\" /><line x1=\"256\" y1=\"0\" x2=\"256\" y2=\"20\" style=\"stroke:#6da7ceff;stroke-width:3;\" /><line x1=\"257\" y1=\"0\" x2=\"257\" y2=\"20\" style=\"stroke:#6ca6ceff;stroke-width:3;\" /><line x1=\"258\" y1=\"0\" x2=\"258\" y2=\"20\" style=\"stroke:#6ba6cdff;stroke-width:3;\" /><line x1=\"259\" y1=\"0\" x2=\"259\" y2=\"20\" style=\"stroke:#6aa5cdff;stroke-width:3;\" /><line x1=\"260\" y1=\"0\" x2=\"260\" y2=\"20\" style=\"stroke:#69a5cdff;stroke-width:3;\" /><line x1=\"261\" y1=\"0\" x2=\"261\" y2=\"20\" style=\"stroke:#68a5cdff;stroke-width:3;\" /><line x1=\"262\" y1=\"0\" x2=\"262\" y2=\"20\" style=\"stroke:#67a4ccff;stroke-width:3;\" /><line x1=\"263\" y1=\"0\" x2=\"263\" y2=\"20\" style=\"stroke:#66a4ccff;stroke-width:3;\" /><line x1=\"264\" y1=\"0\" x2=\"264\" y2=\"20\" style=\"stroke:#65a3ccff;stroke-width:3;\" /><line x1=\"265\" y1=\"0\" x2=\"265\" y2=\"20\" style=\"stroke:#64a3ccff;stroke-width:3;\" /><line x1=\"266\" y1=\"0\" x2=\"266\" y2=\"20\" style=\"stroke:#63a3cbff;stroke-width:3;\" /><line x1=\"267\" y1=\"0\" x2=\"267\" y2=\"20\" style=\"stroke:#62a2cbff;stroke-width:3;\" /><line x1=\"268\" y1=\"0\" x2=\"268\" y2=\"20\" style=\"stroke:#61a2cbff;stroke-width:3;\" /><line x1=\"269\" y1=\"0\" x2=\"269\" y2=\"20\" style=\"stroke:#60a1cbff;stroke-width:3;\" /><line x1=\"270\" y1=\"0\" x2=\"270\" y2=\"20\" style=\"stroke:#5fa1caff;stroke-width:3;\" /><line x1=\"271\" y1=\"0\" x2=\"271\" y2=\"20\" style=\"stroke:#5fa1caff;stroke-width:3;\" /><line x1=\"272\" y1=\"0\" x2=\"272\" y2=\"20\" style=\"stroke:#5ea0caff;stroke-width:3;\" /><line x1=\"273\" y1=\"0\" x2=\"273\" y2=\"20\" style=\"stroke:#5da0caff;stroke-width:3;\" /><line x1=\"274\" y1=\"0\" x2=\"274\" y2=\"20\" style=\"stroke:#5c9fc9ff;stroke-width:3;\" /><line x1=\"275\" y1=\"0\" x2=\"275\" y2=\"20\" style=\"stroke:#5b9fc9ff;stroke-width:3;\" /><line x1=\"276\" y1=\"0\" x2=\"276\" y2=\"20\" style=\"stroke:#5a9ec9ff;stroke-width:3;\" /><line x1=\"277\" y1=\"0\" x2=\"277\" y2=\"20\" style=\"stroke:#599ec9ff;stroke-width:3;\" /><line x1=\"278\" y1=\"0\" x2=\"278\" y2=\"20\" style=\"stroke:#589ec8ff;stroke-width:3;\" /><line x1=\"279\" y1=\"0\" x2=\"279\" y2=\"20\" style=\"stroke:#579dc8ff;stroke-width:3;\" /><line x1=\"280\" y1=\"0\" x2=\"280\" y2=\"20\" style=\"stroke:#569dc8ff;stroke-width:3;\" /><line x1=\"281\" y1=\"0\" x2=\"281\" y2=\"20\" style=\"stroke:#559cc8ff;stroke-width:3;\" /><line x1=\"282\" y1=\"0\" x2=\"282\" y2=\"20\" style=\"stroke:#549cc7ff;stroke-width:3;\" /><line x1=\"283\" y1=\"0\" x2=\"283\" y2=\"20\" style=\"stroke:#539cc7ff;stroke-width:3;\" /><line x1=\"284\" y1=\"0\" x2=\"284\" y2=\"20\" style=\"stroke:#529bc7ff;stroke-width:3;\" /><line x1=\"285\" y1=\"0\" x2=\"285\" y2=\"20\" style=\"stroke:#519bc7ff;stroke-width:3;\" /><line x1=\"286\" y1=\"0\" x2=\"286\" y2=\"20\" style=\"stroke:#509ac6ff;stroke-width:3;\" /><line x1=\"287\" y1=\"0\" x2=\"287\" y2=\"20\" style=\"stroke:#4f9ac6ff;stroke-width:3;\" /><line x1=\"288\" y1=\"0\" x2=\"288\" y2=\"20\" style=\"stroke:#4e9ac6ff;stroke-width:3;\" /><line x1=\"289\" y1=\"0\" x2=\"289\" y2=\"20\" style=\"stroke:#4d99c6ff;stroke-width:3;\" /><line x1=\"290\" y1=\"0\" x2=\"290\" y2=\"20\" style=\"stroke:#4c99c6ff;stroke-width:3;\" /><line x1=\"291\" y1=\"0\" x2=\"291\" y2=\"20\" style=\"stroke:#4b98c5ff;stroke-width:3;\" /><line x1=\"292\" y1=\"0\" x2=\"292\" y2=\"20\" style=\"stroke:#4a98c5ff;stroke-width:3;\" /><line x1=\"293\" y1=\"0\" x2=\"293\" y2=\"20\" style=\"stroke:#4998c5ff;stroke-width:3;\" /><line x1=\"294\" y1=\"0\" x2=\"294\" y2=\"20\" style=\"stroke:#4897c5ff;stroke-width:3;\" /><line x1=\"295\" y1=\"0\" x2=\"295\" y2=\"20\" style=\"stroke:#4797c4ff;stroke-width:3;\" /><line x1=\"296\" y1=\"0\" x2=\"296\" y2=\"20\" style=\"stroke:#4696c4ff;stroke-width:3;\" /><line x1=\"297\" y1=\"0\" x2=\"297\" y2=\"20\" style=\"stroke:#4596c4ff;stroke-width:3;\" /><line x1=\"298\" y1=\"0\" x2=\"298\" y2=\"20\" style=\"stroke:#4496c4ff;stroke-width:3;\" /><line x1=\"299\" y1=\"0\" x2=\"299\" y2=\"20\" style=\"stroke:#4395c3ff;stroke-width:3;\" /><line x1=\"300\" y1=\"0\" x2=\"300\" y2=\"20\" style=\"stroke:#4295c3ff;stroke-width:3;\" /><line x1=\"301\" y1=\"0\" x2=\"301\" y2=\"20\" style=\"stroke:#4194c3ff;stroke-width:3;\" /><line x1=\"302\" y1=\"0\" x2=\"302\" y2=\"20\" style=\"stroke:#4094c3ff;stroke-width:3;\" /><line x1=\"303\" y1=\"0\" x2=\"303\" y2=\"20\" style=\"stroke:#3f94c2ff;stroke-width:3;\" /><line x1=\"304\" y1=\"0\" x2=\"304\" y2=\"20\" style=\"stroke:#3e93c2ff;stroke-width:3;\" /><line x1=\"305\" y1=\"0\" x2=\"305\" y2=\"20\" style=\"stroke:#3d93c2ff;stroke-width:3;\" /><line x1=\"306\" y1=\"0\" x2=\"306\" y2=\"20\" style=\"stroke:#3c92c2ff;stroke-width:3;\" /><line x1=\"307\" y1=\"0\" x2=\"307\" y2=\"20\" style=\"stroke:#3b92c1ff;stroke-width:3;\" /><line x1=\"308\" y1=\"0\" x2=\"308\" y2=\"20\" style=\"stroke:#3a92c1ff;stroke-width:3;\" /><line x1=\"309\" y1=\"0\" x2=\"309\" y2=\"20\" style=\"stroke:#3991c1ff;stroke-width:3;\" /><line x1=\"310\" y1=\"0\" x2=\"310\" y2=\"20\" style=\"stroke:#3891c1ff;stroke-width:3;\" /><line x1=\"311\" y1=\"0\" x2=\"311\" y2=\"20\" style=\"stroke:#3790c0ff;stroke-width:3;\" /><line x1=\"312\" y1=\"0\" x2=\"312\" y2=\"20\" style=\"stroke:#3690c0ff;stroke-width:3;\" /><line x1=\"313\" y1=\"0\" x2=\"313\" y2=\"20\" style=\"stroke:#358fc0ff;stroke-width:3;\" /><line x1=\"314\" y1=\"0\" x2=\"314\" y2=\"20\" style=\"stroke:#348fc0ff;stroke-width:3;\" /><line x1=\"315\" y1=\"0\" x2=\"315\" y2=\"20\" style=\"stroke:#338ebfff;stroke-width:3;\" /><line x1=\"316\" y1=\"0\" x2=\"316\" y2=\"20\" style=\"stroke:#328ebfff;stroke-width:3;\" /><line x1=\"317\" y1=\"0\" x2=\"317\" y2=\"20\" style=\"stroke:#328dbfff;stroke-width:3;\" /><line x1=\"318\" y1=\"0\" x2=\"318\" y2=\"20\" style=\"stroke:#318dbfff;stroke-width:3;\" /><line x1=\"319\" y1=\"0\" x2=\"319\" y2=\"20\" style=\"stroke:#308cbeff;stroke-width:3;\" /><line x1=\"320\" y1=\"0\" x2=\"320\" y2=\"20\" style=\"stroke:#2f8cbeff;stroke-width:3;\" /><line x1=\"321\" y1=\"0\" x2=\"321\" y2=\"20\" style=\"stroke:#2f8bbeff;stroke-width:3;\" /><line x1=\"322\" y1=\"0\" x2=\"322\" y2=\"20\" style=\"stroke:#2e8bbeff;stroke-width:3;\" /><line x1=\"323\" y1=\"0\" x2=\"323\" y2=\"20\" style=\"stroke:#2d8abdff;stroke-width:3;\" /><line x1=\"324\" y1=\"0\" x2=\"324\" y2=\"20\" style=\"stroke:#2c8abdff;stroke-width:3;\" /><line x1=\"325\" y1=\"0\" x2=\"325\" y2=\"20\" style=\"stroke:#2b89bdff;stroke-width:3;\" /><line x1=\"326\" y1=\"0\" x2=\"326\" y2=\"20\" style=\"stroke:#2b89bdff;stroke-width:3;\" /><line x1=\"327\" y1=\"0\" x2=\"327\" y2=\"20\" style=\"stroke:#2a88bcff;stroke-width:3;\" /><line x1=\"328\" y1=\"0\" x2=\"328\" y2=\"20\" style=\"stroke:#2988bcff;stroke-width:3;\" /><line x1=\"329\" y1=\"0\" x2=\"329\" y2=\"20\" style=\"stroke:#2887bcff;stroke-width:3;\" /><line x1=\"330\" y1=\"0\" x2=\"330\" y2=\"20\" style=\"stroke:#2787bcff;stroke-width:3;\" /><line x1=\"331\" y1=\"0\" x2=\"331\" y2=\"20\" style=\"stroke:#2786bbff;stroke-width:3;\" /><line x1=\"332\" y1=\"0\" x2=\"332\" y2=\"20\" style=\"stroke:#2686bbff;stroke-width:3;\" /><line x1=\"333\" y1=\"0\" x2=\"333\" y2=\"20\" style=\"stroke:#2585bbff;stroke-width:3;\" /><line x1=\"334\" y1=\"0\" x2=\"334\" y2=\"20\" style=\"stroke:#2485bbff;stroke-width:3;\" /><line x1=\"335\" y1=\"0\" x2=\"335\" y2=\"20\" style=\"stroke:#2384baff;stroke-width:3;\" /><line x1=\"336\" y1=\"0\" x2=\"336\" y2=\"20\" style=\"stroke:#2384baff;stroke-width:3;\" /><line x1=\"337\" y1=\"0\" x2=\"337\" y2=\"20\" style=\"stroke:#2283baff;stroke-width:3;\" /><line x1=\"338\" y1=\"0\" x2=\"338\" y2=\"20\" style=\"stroke:#2183baff;stroke-width:3;\" /><line x1=\"339\" y1=\"0\" x2=\"339\" y2=\"20\" style=\"stroke:#2082b9ff;stroke-width:3;\" /><line x1=\"340\" y1=\"0\" x2=\"340\" y2=\"20\" style=\"stroke:#2082b9ff;stroke-width:3;\" /><line x1=\"341\" y1=\"0\" x2=\"341\" y2=\"20\" style=\"stroke:#1f81b9ff;stroke-width:3;\" /><line x1=\"342\" y1=\"0\" x2=\"342\" y2=\"20\" style=\"stroke:#1e81b8ff;stroke-width:3;\" /><line x1=\"343\" y1=\"0\" x2=\"343\" y2=\"20\" style=\"stroke:#1d80b8ff;stroke-width:3;\" /><line x1=\"344\" y1=\"0\" x2=\"344\" y2=\"20\" style=\"stroke:#1c80b8ff;stroke-width:3;\" /><line x1=\"345\" y1=\"0\" x2=\"345\" y2=\"20\" style=\"stroke:#1c7fb8ff;stroke-width:3;\" /><line x1=\"346\" y1=\"0\" x2=\"346\" y2=\"20\" style=\"stroke:#1b7eb7ff;stroke-width:3;\" /><line x1=\"347\" y1=\"0\" x2=\"347\" y2=\"20\" style=\"stroke:#1a7eb7ff;stroke-width:3;\" /><line x1=\"348\" y1=\"0\" x2=\"348\" y2=\"20\" style=\"stroke:#197db7ff;stroke-width:3;\" /><line x1=\"349\" y1=\"0\" x2=\"349\" y2=\"20\" style=\"stroke:#187db7ff;stroke-width:3;\" /><line x1=\"350\" y1=\"0\" x2=\"350\" y2=\"20\" style=\"stroke:#187cb6ff;stroke-width:3;\" /><line x1=\"351\" y1=\"0\" x2=\"351\" y2=\"20\" style=\"stroke:#177cb6ff;stroke-width:3;\" /><line x1=\"352\" y1=\"0\" x2=\"352\" y2=\"20\" style=\"stroke:#167bb6ff;stroke-width:3;\" /><line x1=\"353\" y1=\"0\" x2=\"353\" y2=\"20\" style=\"stroke:#157bb6ff;stroke-width:3;\" /><line x1=\"354\" y1=\"0\" x2=\"354\" y2=\"20\" style=\"stroke:#147ab5ff;stroke-width:3;\" /><line x1=\"355\" y1=\"0\" x2=\"355\" y2=\"20\" style=\"stroke:#147ab5ff;stroke-width:3;\" /><line x1=\"356\" y1=\"0\" x2=\"356\" y2=\"20\" style=\"stroke:#1379b5ff;stroke-width:3;\" /><line x1=\"357\" y1=\"0\" x2=\"357\" y2=\"20\" style=\"stroke:#1279b5ff;stroke-width:3;\" /><line x1=\"358\" y1=\"0\" x2=\"358\" y2=\"20\" style=\"stroke:#1178b4ff;stroke-width:3;\" /><line x1=\"359\" y1=\"0\" x2=\"359\" y2=\"20\" style=\"stroke:#1178b4ff;stroke-width:3;\" /><line x1=\"360\" y1=\"0\" x2=\"360\" y2=\"20\" style=\"stroke:#1077b4ff;stroke-width:3;\" /><line x1=\"361\" y1=\"0\" x2=\"361\" y2=\"20\" style=\"stroke:#0f77b4ff;stroke-width:3;\" /><line x1=\"362\" y1=\"0\" x2=\"362\" y2=\"20\" style=\"stroke:#0e76b3ff;stroke-width:3;\" /><line x1=\"363\" y1=\"0\" x2=\"363\" y2=\"20\" style=\"stroke:#0d76b3ff;stroke-width:3;\" /><line x1=\"364\" y1=\"0\" x2=\"364\" y2=\"20\" style=\"stroke:#0d75b3ff;stroke-width:3;\" /><line x1=\"365\" y1=\"0\" x2=\"365\" y2=\"20\" style=\"stroke:#0c75b3ff;stroke-width:3;\" /><line x1=\"366\" y1=\"0\" x2=\"366\" y2=\"20\" style=\"stroke:#0b74b2ff;stroke-width:3;\" /><line x1=\"367\" y1=\"0\" x2=\"367\" y2=\"20\" style=\"stroke:#0a74b2ff;stroke-width:3;\" /><line x1=\"368\" y1=\"0\" x2=\"368\" y2=\"20\" style=\"stroke:#0973b2ff;stroke-width:3;\" /><line x1=\"369\" y1=\"0\" x2=\"369\" y2=\"20\" style=\"stroke:#0973b2ff;stroke-width:3;\" /><line x1=\"370\" y1=\"0\" x2=\"370\" y2=\"20\" style=\"stroke:#0872b1ff;stroke-width:3;\" /><line x1=\"371\" y1=\"0\" x2=\"371\" y2=\"20\" style=\"stroke:#0772b1ff;stroke-width:3;\" /><line x1=\"372\" y1=\"0\" x2=\"372\" y2=\"20\" style=\"stroke:#0671b1ff;stroke-width:3;\" /><line x1=\"373\" y1=\"0\" x2=\"373\" y2=\"20\" style=\"stroke:#0671b1ff;stroke-width:3;\" /><line x1=\"374\" y1=\"0\" x2=\"374\" y2=\"20\" style=\"stroke:#0570b0ff;stroke-width:3;\" /><line x1=\"375\" y1=\"0\" x2=\"375\" y2=\"20\" style=\"stroke:#0570b0ff;stroke-width:3;\" /><line x1=\"376\" y1=\"0\" x2=\"376\" y2=\"20\" style=\"stroke:#046fafff;stroke-width:3;\" /><line x1=\"377\" y1=\"0\" x2=\"377\" y2=\"20\" style=\"stroke:#046fafff;stroke-width:3;\" /><line x1=\"378\" y1=\"0\" x2=\"378\" y2=\"20\" style=\"stroke:#046faeff;stroke-width:3;\" /><line x1=\"379\" y1=\"0\" x2=\"379\" y2=\"20\" style=\"stroke:#046eaeff;stroke-width:3;\" /><line x1=\"380\" y1=\"0\" x2=\"380\" y2=\"20\" style=\"stroke:#046eadff;stroke-width:3;\" /><line x1=\"381\" y1=\"0\" x2=\"381\" y2=\"20\" style=\"stroke:#046eacff;stroke-width:3;\" /><line x1=\"382\" y1=\"0\" x2=\"382\" y2=\"20\" style=\"stroke:#046dacff;stroke-width:3;\" /><line x1=\"383\" y1=\"0\" x2=\"383\" y2=\"20\" style=\"stroke:#046dabff;stroke-width:3;\" /><line x1=\"384\" y1=\"0\" x2=\"384\" y2=\"20\" style=\"stroke:#046cabff;stroke-width:3;\" /><line x1=\"385\" y1=\"0\" x2=\"385\" y2=\"20\" style=\"stroke:#046caaff;stroke-width:3;\" /><line x1=\"386\" y1=\"0\" x2=\"386\" y2=\"20\" style=\"stroke:#046caaff;stroke-width:3;\" /><line x1=\"387\" y1=\"0\" x2=\"387\" y2=\"20\" style=\"stroke:#046ba9ff;stroke-width:3;\" /><line x1=\"388\" y1=\"0\" x2=\"388\" y2=\"20\" style=\"stroke:#046ba8ff;stroke-width:3;\" /><line x1=\"389\" y1=\"0\" x2=\"389\" y2=\"20\" style=\"stroke:#046ba8ff;stroke-width:3;\" /><line x1=\"390\" y1=\"0\" x2=\"390\" y2=\"20\" style=\"stroke:#046aa7ff;stroke-width:3;\" /><line x1=\"391\" y1=\"0\" x2=\"391\" y2=\"20\" style=\"stroke:#046aa7ff;stroke-width:3;\" /><line x1=\"392\" y1=\"0\" x2=\"392\" y2=\"20\" style=\"stroke:#046aa6ff;stroke-width:3;\" /><line x1=\"393\" y1=\"0\" x2=\"393\" y2=\"20\" style=\"stroke:#0469a6ff;stroke-width:3;\" /><line x1=\"394\" y1=\"0\" x2=\"394\" y2=\"20\" style=\"stroke:#0469a5ff;stroke-width:3;\" /><line x1=\"395\" y1=\"0\" x2=\"395\" y2=\"20\" style=\"stroke:#0469a5ff;stroke-width:3;\" /><line x1=\"396\" y1=\"0\" x2=\"396\" y2=\"20\" style=\"stroke:#0468a4ff;stroke-width:3;\" /><line x1=\"397\" y1=\"0\" x2=\"397\" y2=\"20\" style=\"stroke:#0468a3ff;stroke-width:3;\" /><line x1=\"398\" y1=\"0\" x2=\"398\" y2=\"20\" style=\"stroke:#0468a3ff;stroke-width:3;\" /><line x1=\"399\" y1=\"0\" x2=\"399\" y2=\"20\" style=\"stroke:#0467a2ff;stroke-width:3;\" /><line x1=\"400\" y1=\"0\" x2=\"400\" y2=\"20\" style=\"stroke:#0467a2ff;stroke-width:3;\" /><line x1=\"401\" y1=\"0\" x2=\"401\" y2=\"20\" style=\"stroke:#0466a1ff;stroke-width:3;\" /><line x1=\"402\" y1=\"0\" x2=\"402\" y2=\"20\" style=\"stroke:#0466a1ff;stroke-width:3;\" /><line x1=\"403\" y1=\"0\" x2=\"403\" y2=\"20\" style=\"stroke:#0466a0ff;stroke-width:3;\" /><line x1=\"404\" y1=\"0\" x2=\"404\" y2=\"20\" style=\"stroke:#04659fff;stroke-width:3;\" /><line x1=\"405\" y1=\"0\" x2=\"405\" y2=\"20\" style=\"stroke:#04659fff;stroke-width:3;\" /><line x1=\"406\" y1=\"0\" x2=\"406\" y2=\"20\" style=\"stroke:#04659eff;stroke-width:3;\" /><line x1=\"407\" y1=\"0\" x2=\"407\" y2=\"20\" style=\"stroke:#04649eff;stroke-width:3;\" /><line x1=\"408\" y1=\"0\" x2=\"408\" y2=\"20\" style=\"stroke:#04649dff;stroke-width:3;\" /><line x1=\"409\" y1=\"0\" x2=\"409\" y2=\"20\" style=\"stroke:#04649dff;stroke-width:3;\" /><line x1=\"410\" y1=\"0\" x2=\"410\" y2=\"20\" style=\"stroke:#04639cff;stroke-width:3;\" /><line x1=\"411\" y1=\"0\" x2=\"411\" y2=\"20\" style=\"stroke:#04639bff;stroke-width:3;\" /><line x1=\"412\" y1=\"0\" x2=\"412\" y2=\"20\" style=\"stroke:#04639bff;stroke-width:3;\" /><line x1=\"413\" y1=\"0\" x2=\"413\" y2=\"20\" style=\"stroke:#04629aff;stroke-width:3;\" /><line x1=\"414\" y1=\"0\" x2=\"414\" y2=\"20\" style=\"stroke:#04629aff;stroke-width:3;\" /><line x1=\"415\" y1=\"0\" x2=\"415\" y2=\"20\" style=\"stroke:#046299ff;stroke-width:3;\" /><line x1=\"416\" y1=\"0\" x2=\"416\" y2=\"20\" style=\"stroke:#046199ff;stroke-width:3;\" /><line x1=\"417\" y1=\"0\" x2=\"417\" y2=\"20\" style=\"stroke:#046198ff;stroke-width:3;\" /><line x1=\"418\" y1=\"0\" x2=\"418\" y2=\"20\" style=\"stroke:#046098ff;stroke-width:3;\" /><line x1=\"419\" y1=\"0\" x2=\"419\" y2=\"20\" style=\"stroke:#046097ff;stroke-width:3;\" /><line x1=\"420\" y1=\"0\" x2=\"420\" y2=\"20\" style=\"stroke:#046096ff;stroke-width:3;\" /><line x1=\"421\" y1=\"0\" x2=\"421\" y2=\"20\" style=\"stroke:#045f96ff;stroke-width:3;\" /><line x1=\"422\" y1=\"0\" x2=\"422\" y2=\"20\" style=\"stroke:#045f95ff;stroke-width:3;\" /><line x1=\"423\" y1=\"0\" x2=\"423\" y2=\"20\" style=\"stroke:#045f95ff;stroke-width:3;\" /><line x1=\"424\" y1=\"0\" x2=\"424\" y2=\"20\" style=\"stroke:#045e94ff;stroke-width:3;\" /><line x1=\"425\" y1=\"0\" x2=\"425\" y2=\"20\" style=\"stroke:#045e94ff;stroke-width:3;\" /><line x1=\"426\" y1=\"0\" x2=\"426\" y2=\"20\" style=\"stroke:#045e93ff;stroke-width:3;\" /><line x1=\"427\" y1=\"0\" x2=\"427\" y2=\"20\" style=\"stroke:#045d92ff;stroke-width:3;\" /><line x1=\"428\" y1=\"0\" x2=\"428\" y2=\"20\" style=\"stroke:#045d92ff;stroke-width:3;\" /><line x1=\"429\" y1=\"0\" x2=\"429\" y2=\"20\" style=\"stroke:#045d91ff;stroke-width:3;\" /><line x1=\"430\" y1=\"0\" x2=\"430\" y2=\"20\" style=\"stroke:#045c91ff;stroke-width:3;\" /><line x1=\"431\" y1=\"0\" x2=\"431\" y2=\"20\" style=\"stroke:#045c90ff;stroke-width:3;\" /><line x1=\"432\" y1=\"0\" x2=\"432\" y2=\"20\" style=\"stroke:#045b90ff;stroke-width:3;\" /><line x1=\"433\" y1=\"0\" x2=\"433\" y2=\"20\" style=\"stroke:#045b8fff;stroke-width:3;\" /><line x1=\"434\" y1=\"0\" x2=\"434\" y2=\"20\" style=\"stroke:#045b8fff;stroke-width:3;\" /><line x1=\"435\" y1=\"0\" x2=\"435\" y2=\"20\" style=\"stroke:#045a8eff;stroke-width:3;\" /><line x1=\"436\" y1=\"0\" x2=\"436\" y2=\"20\" style=\"stroke:#045a8dff;stroke-width:3;\" /><line x1=\"437\" y1=\"0\" x2=\"437\" y2=\"20\" style=\"stroke:#045a8dff;stroke-width:3;\" /><line x1=\"438\" y1=\"0\" x2=\"438\" y2=\"20\" style=\"stroke:#03598cff;stroke-width:3;\" /><line x1=\"439\" y1=\"0\" x2=\"439\" y2=\"20\" style=\"stroke:#03598bff;stroke-width:3;\" /><line x1=\"440\" y1=\"0\" x2=\"440\" y2=\"20\" style=\"stroke:#03588aff;stroke-width:3;\" /><line x1=\"441\" y1=\"0\" x2=\"441\" y2=\"20\" style=\"stroke:#035789ff;stroke-width:3;\" /><line x1=\"442\" y1=\"0\" x2=\"442\" y2=\"20\" style=\"stroke:#035788ff;stroke-width:3;\" /><line x1=\"443\" y1=\"0\" x2=\"443\" y2=\"20\" style=\"stroke:#035688ff;stroke-width:3;\" /><line x1=\"444\" y1=\"0\" x2=\"444\" y2=\"20\" style=\"stroke:#035687ff;stroke-width:3;\" /><line x1=\"445\" y1=\"0\" x2=\"445\" y2=\"20\" style=\"stroke:#035586ff;stroke-width:3;\" /><line x1=\"446\" y1=\"0\" x2=\"446\" y2=\"20\" style=\"stroke:#035585ff;stroke-width:3;\" /><line x1=\"447\" y1=\"0\" x2=\"447\" y2=\"20\" style=\"stroke:#035484ff;stroke-width:3;\" /><line x1=\"448\" y1=\"0\" x2=\"448\" y2=\"20\" style=\"stroke:#035483ff;stroke-width:3;\" /><line x1=\"449\" y1=\"0\" x2=\"449\" y2=\"20\" style=\"stroke:#035382ff;stroke-width:3;\" /><line x1=\"450\" y1=\"0\" x2=\"450\" y2=\"20\" style=\"stroke:#035382ff;stroke-width:3;\" /><line x1=\"451\" y1=\"0\" x2=\"451\" y2=\"20\" style=\"stroke:#035281ff;stroke-width:3;\" /><line x1=\"452\" y1=\"0\" x2=\"452\" y2=\"20\" style=\"stroke:#035180ff;stroke-width:3;\" /><line x1=\"453\" y1=\"0\" x2=\"453\" y2=\"20\" style=\"stroke:#03517fff;stroke-width:3;\" /><line x1=\"454\" y1=\"0\" x2=\"454\" y2=\"20\" style=\"stroke:#03507eff;stroke-width:3;\" /><line x1=\"455\" y1=\"0\" x2=\"455\" y2=\"20\" style=\"stroke:#03507dff;stroke-width:3;\" /><line x1=\"456\" y1=\"0\" x2=\"456\" y2=\"20\" style=\"stroke:#034f7dff;stroke-width:3;\" /><line x1=\"457\" y1=\"0\" x2=\"457\" y2=\"20\" style=\"stroke:#034f7cff;stroke-width:3;\" /><line x1=\"458\" y1=\"0\" x2=\"458\" y2=\"20\" style=\"stroke:#034e7bff;stroke-width:3;\" /><line x1=\"459\" y1=\"0\" x2=\"459\" y2=\"20\" style=\"stroke:#034e7aff;stroke-width:3;\" /><line x1=\"460\" y1=\"0\" x2=\"460\" y2=\"20\" style=\"stroke:#034d79ff;stroke-width:3;\" /><line x1=\"461\" y1=\"0\" x2=\"461\" y2=\"20\" style=\"stroke:#034d78ff;stroke-width:3;\" /><line x1=\"462\" y1=\"0\" x2=\"462\" y2=\"20\" style=\"stroke:#034c77ff;stroke-width:3;\" /><line x1=\"463\" y1=\"0\" x2=\"463\" y2=\"20\" style=\"stroke:#034b77ff;stroke-width:3;\" /><line x1=\"464\" y1=\"0\" x2=\"464\" y2=\"20\" style=\"stroke:#034b76ff;stroke-width:3;\" /><line x1=\"465\" y1=\"0\" x2=\"465\" y2=\"20\" style=\"stroke:#034a75ff;stroke-width:3;\" /><line x1=\"466\" y1=\"0\" x2=\"466\" y2=\"20\" style=\"stroke:#034a74ff;stroke-width:3;\" /><line x1=\"467\" y1=\"0\" x2=\"467\" y2=\"20\" style=\"stroke:#034973ff;stroke-width:3;\" /><line x1=\"468\" y1=\"0\" x2=\"468\" y2=\"20\" style=\"stroke:#034972ff;stroke-width:3;\" /><line x1=\"469\" y1=\"0\" x2=\"469\" y2=\"20\" style=\"stroke:#024871ff;stroke-width:3;\" /><line x1=\"470\" y1=\"0\" x2=\"470\" y2=\"20\" style=\"stroke:#024871ff;stroke-width:3;\" /><line x1=\"471\" y1=\"0\" x2=\"471\" y2=\"20\" style=\"stroke:#024770ff;stroke-width:3;\" /><line x1=\"472\" y1=\"0\" x2=\"472\" y2=\"20\" style=\"stroke:#02466fff;stroke-width:3;\" /><line x1=\"473\" y1=\"0\" x2=\"473\" y2=\"20\" style=\"stroke:#02466eff;stroke-width:3;\" /><line x1=\"474\" y1=\"0\" x2=\"474\" y2=\"20\" style=\"stroke:#02456dff;stroke-width:3;\" /><line x1=\"475\" y1=\"0\" x2=\"475\" y2=\"20\" style=\"stroke:#02456cff;stroke-width:3;\" /><line x1=\"476\" y1=\"0\" x2=\"476\" y2=\"20\" style=\"stroke:#02446bff;stroke-width:3;\" /><line x1=\"477\" y1=\"0\" x2=\"477\" y2=\"20\" style=\"stroke:#02446bff;stroke-width:3;\" /><line x1=\"478\" y1=\"0\" x2=\"478\" y2=\"20\" style=\"stroke:#02436aff;stroke-width:3;\" /><line x1=\"479\" y1=\"0\" x2=\"479\" y2=\"20\" style=\"stroke:#024369ff;stroke-width:3;\" /><line x1=\"480\" y1=\"0\" x2=\"480\" y2=\"20\" style=\"stroke:#024268ff;stroke-width:3;\" /><line x1=\"481\" y1=\"0\" x2=\"481\" y2=\"20\" style=\"stroke:#024267ff;stroke-width:3;\" /><line x1=\"482\" y1=\"0\" x2=\"482\" y2=\"20\" style=\"stroke:#024166ff;stroke-width:3;\" /><line x1=\"483\" y1=\"0\" x2=\"483\" y2=\"20\" style=\"stroke:#024065ff;stroke-width:3;\" /><line x1=\"484\" y1=\"0\" x2=\"484\" y2=\"20\" style=\"stroke:#024065ff;stroke-width:3;\" /><line x1=\"485\" y1=\"0\" x2=\"485\" y2=\"20\" style=\"stroke:#023f64ff;stroke-width:3;\" /><line x1=\"486\" y1=\"0\" x2=\"486\" y2=\"20\" style=\"stroke:#023f63ff;stroke-width:3;\" /><line x1=\"487\" y1=\"0\" x2=\"487\" y2=\"20\" style=\"stroke:#023e62ff;stroke-width:3;\" /><line x1=\"488\" y1=\"0\" x2=\"488\" y2=\"20\" style=\"stroke:#023e61ff;stroke-width:3;\" /><line x1=\"489\" y1=\"0\" x2=\"489\" y2=\"20\" style=\"stroke:#023d60ff;stroke-width:3;\" /><line x1=\"490\" y1=\"0\" x2=\"490\" y2=\"20\" style=\"stroke:#023d60ff;stroke-width:3;\" /><line x1=\"491\" y1=\"0\" x2=\"491\" y2=\"20\" style=\"stroke:#023c5fff;stroke-width:3;\" /><line x1=\"492\" y1=\"0\" x2=\"492\" y2=\"20\" style=\"stroke:#023c5eff;stroke-width:3;\" /><line x1=\"493\" y1=\"0\" x2=\"493\" y2=\"20\" style=\"stroke:#023b5dff;stroke-width:3;\" /><line x1=\"494\" y1=\"0\" x2=\"494\" y2=\"20\" style=\"stroke:#023a5cff;stroke-width:3;\" /><line x1=\"495\" y1=\"0\" x2=\"495\" y2=\"20\" style=\"stroke:#023a5bff;stroke-width:3;\" /><line x1=\"496\" y1=\"0\" x2=\"496\" y2=\"20\" style=\"stroke:#02395aff;stroke-width:3;\" /><line x1=\"497\" y1=\"0\" x2=\"497\" y2=\"20\" style=\"stroke:#02395aff;stroke-width:3;\" /><line x1=\"498\" y1=\"0\" x2=\"498\" y2=\"20\" style=\"stroke:#023859ff;stroke-width:3;\" /><line x1=\"499\" y1=\"0\" x2=\"499\" y2=\"20\" style=\"stroke:#023858ff;stroke-width:3;\" /><text x=\"0\" y=\"35\">0</text><text x=\"500\" y=\"35\" style=\"text-anchor:end;\">40</text></svg>"
      ],
      "text/plain": [
       "<branca.colormap.LinearColormap at 0x7c51fcd04b50>"
      ]
     },
     "execution_count": 16,
     "metadata": {},
     "output_type": "execute_result"
    }
   ],
   "source": [
    "cmap"
   ]
  },
  {
   "cell_type": "code",
   "execution_count": 17,
   "id": "028df6fb-d37f-45e0-a42b-72faa9f16b43",
   "metadata": {},
   "outputs": [],
   "source": [
    "SPA_MAP_BUCKET = \"calitp-map-tiles/\""
   ]
  },
  {
   "cell_type": "code",
   "execution_count": 18,
   "id": "df4575ed-d0c1-4bb0-8ebc-c965356a87bd",
   "metadata": {},
   "outputs": [],
   "source": [
    "SPA_MAP_TYPES = [\n",
    "    \"speedmap\",\n",
    "    \"speed_variation\",\n",
    "    \"new_speedmap\",\n",
    "    \"new_speed_variation\",\n",
    "    \"hqta_areas\",\n",
    "    \"hqta_stops\",\n",
    "    \"state_highway_network\",\n",
    "    None,\n",
    "]"
   ]
  },
  {
   "cell_type": "code",
   "execution_count": 19,
   "id": "daef6e03-0f5f-40fd-8de8-224606881d38",
   "metadata": {},
   "outputs": [
    {
     "data": {
      "text/plain": [
       "'calitp-map-tiles/'"
      ]
     },
     "execution_count": 19,
     "metadata": {},
     "output_type": "execute_result"
    }
   ],
   "source": [
    "SPA_MAP_BUCKET"
   ]
  },
  {
   "cell_type": "code",
   "execution_count": 20,
   "id": "4b8b71ba-15bb-42c6-b226-2d888126086a",
   "metadata": {
    "scrolled": true,
    "tags": []
   },
   "outputs": [
    {
     "name": "stderr",
     "output_type": "stream",
     "text": [
      "/home/jovyan/data-analyses/_shared_utils/shared_utils/webmap_utils.py:118: UserWarning: Geometry is in a geographic CRS. Results from 'centroid' are likely incorrect. Use 'GeoSeries.to_crs()' to re-project geometries to a projected CRS before this operation.\n",
      "\n",
      "  centroid = (gdf.geometry.centroid.y.mean(), gdf.geometry.centroid.x.mean())\n"
     ]
    }
   ],
   "source": [
    "transit_shs = webmap_utils.set_state_export(\n",
    "    transit_route_shs_gdf,\n",
    "    filename=\"test2\",\n",
    "    map_title=\"Transit Routes\",\n",
    "    cmap=cmap,\n",
    "    color_col=\"number\",\n",
    ")"
   ]
  },
  {
   "cell_type": "code",
   "execution_count": 21,
   "id": "34acba0c-5e86-4344-8ff3-347754910ba1",
   "metadata": {},
   "outputs": [],
   "source": [
    "# transit_shs"
   ]
  },
  {
   "cell_type": "code",
   "execution_count": 22,
   "id": "a24ab6c4-9d9f-45d1-9b91-0711cb059ed6",
   "metadata": {
    "tags": []
   },
   "outputs": [],
   "source": [
    "# webmap_utils.render_spa_link(transit_shs[\"spa_link\"], text=\"Amanda's test map\")"
   ]
  },
  {
   "cell_type": "code",
   "execution_count": 23,
   "id": "96fa2991-aa9a-4ced-a10b-12238aed0a2f",
   "metadata": {},
   "outputs": [],
   "source": [
    "# webmap_utils.display_spa_map(transit_shs[\"spa_link\"])"
   ]
  },
  {
   "cell_type": "markdown",
   "id": "4fcd9a2a-cae1-41bc-95c0-2b6eb683395a",
   "metadata": {},
   "source": [
    "## SHN "
   ]
  },
  {
   "cell_type": "code",
   "execution_count": 24,
   "id": "1d6f61b5-5228-41b6-82b3-35c9dcc0b6e9",
   "metadata": {},
   "outputs": [
    {
     "data": {
      "text/plain": [
       "(19, 3)"
      ]
     },
     "execution_count": 24,
     "metadata": {},
     "output_type": "execute_result"
    }
   ],
   "source": [
    "shn_gdf.shape"
   ]
  },
  {
   "cell_type": "code",
   "execution_count": 25,
   "id": "0bfd35e7-aca3-4185-b81f-4da6a53cf348",
   "metadata": {},
   "outputs": [
    {
     "name": "stderr",
     "output_type": "stream",
     "text": [
      "/home/jovyan/data-analyses/_shared_utils/shared_utils/webmap_utils.py:118: UserWarning: Geometry is in a geographic CRS. Results from 'centroid' are likely incorrect. Use 'GeoSeries.to_crs()' to re-project geometries to a projected CRS before this operation.\n",
      "\n",
      "  centroid = (gdf.geometry.centroid.y.mean(), gdf.geometry.centroid.x.mean())\n"
     ]
    }
   ],
   "source": [
    "combined_map = webmap_utils.set_state_export(\n",
    "    shn_gdf,\n",
    "    filename=\"test_cc_routes1\",\n",
    "    map_title=\"My Map\",\n",
    "    existing_state=transit_shs,\n",
    ")"
   ]
  },
  {
   "cell_type": "code",
   "execution_count": 26,
   "id": "f3be2329-85dc-429e-804c-a7b5ebcd799a",
   "metadata": {},
   "outputs": [
    {
     "data": {
      "text/markdown": [
       "<a href=\"https://embeddable-maps.calitp.org/?state=eyJuYW1lIjogIm51bGwiLCAibGF5ZXJzIjogW3sibmFtZSI6ICJUcmFuc2l0IFJvdXRlcyIsICJ1cmwiOiAiaHR0cHM6Ly9zdG9yYWdlLmdvb2dsZWFwaXMuY29tL2NhbGl0cC1tYXAtdGlsZXMvdGVzdGluZy90ZXN0Mi5nZW9qc29uLmd6IiwgInByb3BlcnRpZXMiOiB7InN0cm9rZWQiOiBmYWxzZSwgImhpZ2hsaWdodF9zYXR1cmF0aW9uX211bHRpcGxpZXIiOiAwLjV9fSwgeyJuYW1lIjogIk15IE1hcCIsICJ1cmwiOiAiaHR0cHM6Ly9zdG9yYWdlLmdvb2dsZWFwaXMuY29tL2NhbGl0cC1tYXAtdGlsZXMvdGVzdGluZy90ZXN0X2NjX3JvdXRlczEuZ2VvanNvbi5neiIsICJwcm9wZXJ0aWVzIjogeyJzdHJva2VkIjogZmFsc2UsICJoaWdobGlnaHRfc2F0dXJhdGlvbl9tdWx0aXBsaWVyIjogMC41fX1dLCAibGF0X2xvbiI6IFszNy4wOTc1Njg3MjYwNDA1MywgLTExOC40MTY5NzUxOTM5NzU0XSwgInpvb20iOiAxM30=\" target=\"_blank\">Open My Layered Map in New Tab</a>"
      ],
      "text/plain": [
       "<IPython.core.display.Markdown object>"
      ]
     },
     "metadata": {},
     "output_type": "display_data"
    }
   ],
   "source": [
    "webmap_utils.render_spa_link(combined_map['spa_link'], text=\"My Layered Map\")"
   ]
  }
 ],
 "metadata": {
  "kernelspec": {
   "display_name": "Python 3 (ipykernel)",
   "language": "python",
   "name": "python3"
  },
  "language_info": {
   "codemirror_mode": {
    "name": "ipython",
    "version": 3
   },
   "file_extension": ".py",
   "mimetype": "text/x-python",
   "name": "python",
   "nbconvert_exporter": "python",
   "pygments_lexer": "ipython3",
   "version": "3.11.10"
  }
 },
 "nbformat": 4,
 "nbformat_minor": 5
}
