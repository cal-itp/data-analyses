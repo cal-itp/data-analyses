{
 "cells": [
  {
   "cell_type": "markdown",
   "id": "86c85d1e-ec33-4801-9713-5e09f2ff4ac1",
   "metadata": {},
   "source": [
    "# Monthly Trends \n",
    "\n",
    "Now that we're beginning to add monthly aggregations to schedule data, let's see how it all plays together. Use this to get out the kinks of combining all our current data products.\n",
    "\n",
    "* Start with a single day across multiple months.\n",
    "* `scheduled_service_hours`\n",
    "    * service hours, scheduled trips in peak vs offpeak\n",
    "    * average stop spacing\n",
    "* `speeds` - single day aggregation to route-direction. don't use weekly average...we only produced this for 2 months\n",
    "    * segment speeds\n",
    "    * route-direction avg speed with common shape?\n",
    "* `rt_vs_schedule_metrics`"
   ]
  },
  {
   "cell_type": "code",
   "execution_count": null,
   "id": "cca8128a-2a3b-4b07-b2b7-a74bdea1f66a",
   "metadata": {},
   "outputs": [],
   "source": [
    "%%capture\n",
    "import warnings\n",
    "warnings.filterwarnings('ignore')\n",
    "\n",
    "import altair as alt\n",
    "import calitp_data_analysis.magics\n",
    "import geopandas as gpd\n",
    "import pandas as pd\n",
    "\n",
    "import make_charts\n",
    "from segment_speed_utils.project_vars import RT_SCHED_GCS\n",
    "from calitp_data_analysis import calitp_color_palette as cp\n",
    "\n",
    "alt.renderers.enable(\"html\")\n",
    "alt.data_transformers.enable('default', max_rows=None)"
   ]
  },
  {
   "cell_type": "code",
   "execution_count": null,
   "id": "f3a1ae98-b65d-4626-849e-d352481dc70a",
   "metadata": {
    "tags": [
     "parameters"
    ]
   },
   "outputs": [],
   "source": [
    "name = \"Big Blue Bus Schedule\""
   ]
  },
  {
   "cell_type": "code",
   "execution_count": null,
   "id": "020694da-bd78-41f2-80e6-21262dcda34c",
   "metadata": {},
   "outputs": [],
   "source": [
    "%%capture_parameters\n",
    "name"
   ]
  },
  {
   "cell_type": "code",
   "execution_count": null,
   "id": "5f3f6011-497c-45ae-ba97-18301d7dddd6",
   "metadata": {},
   "outputs": [],
   "source": [
    "df = pd.read_parquet(\n",
    "    f\"{RT_SCHED_GCS}digest/schedule_vp_metrics.parquet\",\n",
    "    filters = [[(\"name\", \"==\", name)]]\n",
    ")"
   ]
  },
  {
   "cell_type": "markdown",
   "id": "46793c6f-6e6b-47a7-894c-c559f8b515a1",
   "metadata": {},
   "source": [
    "## Schedule"
   ]
  },
  {
   "cell_type": "code",
   "execution_count": null,
   "id": "b477a989-5e88-4abd-ab33-12d3bc0092c8",
   "metadata": {},
   "outputs": [],
   "source": [
    "chart = make_charts.base_route_chart(\n",
    "    df[(df.sched_rt_category==\"schedule_and_vp\") & \n",
    "       (df.time_period==\"all_day\")], \n",
    "    \"avg_sched_service_min\"\n",
    ")\n",
    "chart"
   ]
  },
  {
   "cell_type": "code",
   "execution_count": null,
   "id": "e0130115-60fb-421e-a0a3-5fac1df3730c",
   "metadata": {},
   "outputs": [],
   "source": [
    "chart = make_charts.base_route_chart(\n",
    "    df[(df.sched_rt_category==\"schedule_and_vp\") & \n",
    "       (df.time_period==\"all_day\")], \n",
    "    \"n_trips\"\n",
    ")\n",
    "chart"
   ]
  },
  {
   "cell_type": "code",
   "execution_count": null,
   "id": "19100ff2-911a-4c21-aaa5-d9ff3d1c4cd6",
   "metadata": {},
   "outputs": [],
   "source": [
    "chart = make_charts.base_route_chart(\n",
    "    df[(df.sched_rt_category==\"schedule_and_vp\") & \n",
    "       (df.time_period==\"all_day\")], \n",
    "    \"frequency\"\n",
    ")\n",
    "chart"
   ]
  },
  {
   "cell_type": "markdown",
   "id": "d5261170-5333-418e-89f4-1730ec00836b",
   "metadata": {},
   "source": [
    "## Average Speeds"
   ]
  },
  {
   "cell_type": "code",
   "execution_count": null,
   "id": "bcd5b85f-3089-4450-877d-6bcd23668071",
   "metadata": {},
   "outputs": [],
   "source": [
    "chart = make_charts.base_route_chart(df, \"speed_mph\")\n",
    "chart"
   ]
  },
  {
   "cell_type": "markdown",
   "id": "fcc5882a-dcaf-423d-aeb9-ccd935ccfa7f",
   "metadata": {},
   "source": [
    "## Segment Speeds"
   ]
  },
  {
   "cell_type": "code",
   "execution_count": null,
   "id": "73625218-4241-48f1-bf67-83dd7ee850ef",
   "metadata": {},
   "outputs": [],
   "source": [
    "speeds = gpd.read_parquet(\n",
    "    f\"{RT_SCHED_GCS}digest/segment_speeds.parquet\",\n",
    "    filters = [[(\"name\", \"==\", name)]]\n",
    ")\n",
    "\n",
    "operator_routes = speeds.route_combined_name.unique()"
   ]
  },
  {
   "cell_type": "code",
   "execution_count": null,
   "id": "5d622290-021b-4dce-b28b-76addf0c1016",
   "metadata": {},
   "outputs": [],
   "source": [
    "for r in operator_routes:\n",
    "    route_chart = make_charts.make_stripplot(speeds, r)\n",
    "    display(route_chart)"
   ]
  },
  {
   "cell_type": "code",
   "execution_count": null,
   "id": "9dc6b7bf-5b39-4e06-91a9-4213ebb9d66b",
   "metadata": {},
   "outputs": [],
   "source": []
  }
 ],
 "metadata": {
  "kernelspec": {
   "display_name": "Python 3 (ipykernel)",
   "language": "python",
   "name": "python3"
  },
  "language_info": {
   "codemirror_mode": {
    "name": "ipython",
    "version": 3
   },
   "file_extension": ".py",
   "mimetype": "text/x-python",
   "name": "python",
   "nbconvert_exporter": "python",
   "pygments_lexer": "ipython3",
   "version": "3.9.13"
  }
 },
 "nbformat": 4,
 "nbformat_minor": 5
}
