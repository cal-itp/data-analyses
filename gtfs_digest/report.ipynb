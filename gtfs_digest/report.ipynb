{
 "cells": [
  {
   "cell_type": "code",
   "execution_count": null,
   "id": "cca8128a-2a3b-4b07-b2b7-a74bdea1f66a",
   "metadata": {},
   "outputs": [],
   "source": [
    "%%capture\n",
    "import warnings\n",
    "warnings.filterwarnings('ignore')\n",
    "\n",
    "import altair as alt\n",
    "import calitp_data_analysis.magics\n",
    "import geopandas as gpd\n",
    "import great_tables as gt\n",
    "import pandas as pd\n",
    "\n",
    "from IPython.display import display, HTML, Markdown\n",
    "from great_tables import md\n",
    "\n",
    "import make_charts\n",
    "from segment_speed_utils.project_vars import RT_SCHED_GCS\n",
    "from calitp_data_analysis import calitp_color_palette as cp\n",
    "from shared_utils import rt_utils, rt_dates\n",
    "\n",
    "alt.renderers.enable(\"html\")\n",
    "alt.data_transformers.enable('default', max_rows=None)"
   ]
  },
  {
   "cell_type": "code",
   "execution_count": null,
   "id": "f3a1ae98-b65d-4626-849e-d352481dc70a",
   "metadata": {
    "tags": [
     "parameters"
    ]
   },
   "outputs": [],
   "source": [
    "#name = \"Avalon Schedule\""
   ]
  },
  {
   "cell_type": "code",
   "execution_count": null,
   "id": "020694da-bd78-41f2-80e6-21262dcda34c",
   "metadata": {},
   "outputs": [],
   "source": [
    "%%capture_parameters\n",
    "name"
   ]
  },
  {
   "cell_type": "code",
   "execution_count": null,
   "id": "5f3f6011-497c-45ae-ba97-18301d7dddd6",
   "metadata": {},
   "outputs": [],
   "source": [
    "df = pd.read_parquet(\n",
    "    f\"{RT_SCHED_GCS}digest/schedule_vp_metrics.parquet\",\n",
    "    filters = [[(\"name\", \"==\", name), \n",
    "                (\"sched_rt_category\", \"==\", \"schedule_and_vp\")]]\n",
    ")\n",
    "\n",
    "most_recent_date = df.service_date.max()"
   ]
  },
  {
   "cell_type": "code",
   "execution_count": null,
   "id": "526d9d24-43a7-401a-866c-a8c0c42d3ab1",
   "metadata": {},
   "outputs": [],
   "source": [
    "RENAME_COLS = {\n",
    "    \"avg_sched_service_min\": \"Average Scheduled Service (min)\",\n",
    "    \"speed_mph\": \"Average Route Speed\",\n",
    "    \"n_trips\": \"Daily Trips\",\n",
    "    \"direction_id\": \"Direction\",\n",
    "    \"service_date\": \"Date\",\n",
    "    \"route_combined_name\": \"Route\"\n",
    "}\n",
    "\n",
    "def labeling(word: str, rename_dict: dict = RENAME_COLS) -> str:\n",
    "    if word in rename_dict.keys():\n",
    "        return rename_dict[word]\n",
    "    else:\n",
    "        return word.replace('_', ' ').title()"
   ]
  },
  {
   "cell_type": "markdown",
   "id": "57fdfc0e-3aaa-48aa-863d-3a11fd17c541",
   "metadata": {},
   "source": [
    "# {name}\n",
    "\n",
    "## Monthly Trends "
   ]
  },
  {
   "cell_type": "code",
   "execution_count": null,
   "id": "3de77424-6544-4180-a7c5-4a41f2fe4878",
   "metadata": {},
   "outputs": [],
   "source": [
    "route_categories = df[\n",
    "    df.time_period==\"all_day\"\n",
    "].groupby(\"sched_rt_category\").agg(\n",
    "    {\"route_combined_name\": \"nunique\"}\n",
    ").reset_index()\n",
    "\n",
    "(gt.GT(data=route_categories.dropna())\n",
    " .fmt_integer(columns = [\"route_combined_name\"], compact=True)\n",
    " .cols_label(\n",
    "     route_combined_name = \"# Routes\",\n",
    "     sched_rt_category = \"Category\"\n",
    " ).tab_options(container_width = \"50%\")\n",
    " .tab_header(\n",
    "     title=md(\"Routes with GTFS Availability\"),\n",
    " ).tab_options(\n",
    "    table_font_size=\"12px\"\n",
    " )\n",
    ")"
   ]
  },
  {
   "cell_type": "code",
   "execution_count": null,
   "id": "be197a62-5364-45f8-9158-b81912081012",
   "metadata": {},
   "outputs": [],
   "source": [
    "route_merge_cols = [\"route_combined_name\", \"direction_id\"]\n",
    "\n",
    "all_day_stats = df[\n",
    "    (df.service_date == most_recent_date) & \n",
    "    (df.time_period==\"all_day\")\n",
    "][route_merge_cols + [\n",
    "   \"avg_sched_service_min\", \"avg_stop_meters\", \"n_trips\",\n",
    "   \"sched_rt_category\"\n",
    "]]\n",
    "\n",
    "peak_stats = df[\n",
    "    (df.service_date == most_recent_date) & \n",
    "    (df.time_period==\"peak\")\n",
    "][route_merge_cols + [\n",
    "   \"speed_mph\", \"n_trips\", \"frequency\"]\n",
    " ].rename(columns = {\n",
    "    \"speed_mph\": \"peak_avg_speed\",\n",
    "    \"n_trips\": \"peak_trips\",\n",
    "    \"frequency\": \"peak_hourly_freq\"\n",
    "})\n",
    "\n",
    "offpeak_stats = df[\n",
    "    (df.service_date == most_recent_date) & \n",
    "    (df.time_period==\"offpeak\")\n",
    "][route_merge_cols + [\n",
    "   \"speed_mph\", \"n_trips\", \"frequency\"]\n",
    " ].rename(columns = {\n",
    "    \"speed_mph\": \"offpeak_avg_speed\",\n",
    "    \"n_trips\": \"offpeak_trips\",\n",
    "    \"frequency\": \"offpeak_hourly_freq\"\n",
    "})"
   ]
  },
  {
   "cell_type": "code",
   "execution_count": null,
   "id": "cbb4e378-7975-4f83-be72-54d2ace227a0",
   "metadata": {},
   "outputs": [],
   "source": [
    "table_df = pd.merge(\n",
    "    all_day_stats,\n",
    "    peak_stats,\n",
    "    on = route_merge_cols,\n",
    ").merge(\n",
    "    offpeak_stats,\n",
    "    on = route_merge_cols\n",
    ").sort_values(\n",
    "    [\"route_combined_name\", \"direction_id\"]\n",
    ").reset_index(drop=True)\n",
    "\n",
    "cols_to_fill = [\"peak_trips\", \"offpeak_trips\", \"n_trips\"]\n",
    "table_df[cols_to_fill] = table_df[cols_to_fill].fillna(0).astype(int)\n",
    "\n",
    "round_me = [\"peak_avg_speed\", \"offpeak_avg_speed\", \n",
    "            \"avg_stop_meters\", \"avg_sched_service_min\"]\n",
    "table_df[round_me] = table_df[round_me].round(1)"
   ]
  },
  {
   "cell_type": "code",
   "execution_count": null,
   "id": "749820a7-0f1b-48d3-a943-27837fd38f5f",
   "metadata": {},
   "outputs": [],
   "source": [
    "(gt.GT(data=table_df)\n",
    " .fmt_integer(\n",
    "     columns = [\"peak_trips\", \"offpeak_trips\", \"n_trips\"], \n",
    "     compact=True\n",
    " ).fmt_number(\n",
    "     columns = [\"avg_stop_meters\", \"avg_sched_service_min\"],\n",
    "     compact=True,\n",
    "     sep_mark=\",\"\n",
    " )\n",
    " .cols_label(\n",
    "     route_combined_name = \"Route\",\n",
    "     sched_rt_category = \"GTFS Category\",\n",
    "     avg_sched_service_min = \"Avg Scheduled Service (min)\",\n",
    "     avg_stop_meters = \"Avg Stop Distance (meters)\",\n",
    "     n_trips = \"Daily Trips\",\n",
    "     peak_trips = \"Peak Trips\",\n",
    "     offpeak_trips = \"Offpeak Trips\",\n",
    "     direction_id = \"Direction\",\n",
    "     peak_avg_speed = \"Peak Avg Speed (mph)\",\n",
    "     offpeak_avg_speed = \"Offpeak Avg Speed (mph)\",\n",
    "     peak_hourly_freq = \"Peak Hourly Freq\",\n",
    "     offpeak_hourly_freq = \"Offpeak Hourly Freq\",\n",
    " ).tab_options(container_width = \"90%\")\n",
    " .tab_header(\n",
    "     title=md(\"Route Stats\"),\n",
    " ).tab_options(\n",
    "    table_font_size=\"12px\"\n",
    " )\n",
    ")"
   ]
  },
  {
   "cell_type": "code",
   "execution_count": null,
   "id": "0bccd6e9-7348-43e1-9458-92ec191c147e",
   "metadata": {},
   "outputs": [],
   "source": [
    "def base_route_chart(df: pd.DataFrame, y_col: str) -> alt.Chart:\n",
    "    \"\"\"\n",
    "    \"\"\"\n",
    "    df = df.assign(\n",
    "        time_period = df.time_period.str.replace('_', ' ').str.title()\n",
    "    ).reset_index(drop=True)\n",
    "    \n",
    "    selected_colors = [\n",
    "        cp.CALITP_CATEGORY_BOLD_COLORS[4], # blue\n",
    "        cp.CALITP_CATEGORY_BRIGHT_COLORS[3], # green\n",
    "        cp.CALITP_CATEGORY_BOLD_COLORS[1], # yellow,\n",
    "    ]\n",
    "    \n",
    "    #https://stackoverflow.com/questions/26454649/python-round-up-to-the-nearest-ten\n",
    "    max_y = round(df[y_col].max(), -1)\n",
    "    \n",
    "    chart = (\n",
    "        alt.Chart(df)\n",
    "        .mark_line()\n",
    "        .encode(\n",
    "             x = alt.X(\"yearmonthdate(service_date):O\", title = \"Date\",\n",
    "                       axis = alt.Axis(format = '%b %Y')\n",
    "                      ),\n",
    "             y = alt.Y(f\"{y_col}:Q\", title = labeling(y_col),\n",
    "                       scale = alt.Scale(domain=[0, max_y])\n",
    "                      ),\n",
    "             color = alt.Color(\n",
    "                 \"time_period:N\", title = labeling(\"time_period\"),\n",
    "                 scale = alt.Scale(range = selected_colors)\n",
    "             ),\n",
    "             tooltip = [\"route_combined_name\", \"route_id\", \"direction_id\", \n",
    "                        \"time_period\", y_col]\n",
    "         ).facet(\n",
    "             column = alt.Column(\"direction_id:N\", title=labeling(\"direction_id\")),\n",
    "         ).interactive()\n",
    "    ).properties(title = labeling(y_col))\n",
    "    \n",
    "    return chart"
   ]
  },
  {
   "cell_type": "code",
   "execution_count": null,
   "id": "93e8d4e7-485b-45be-9512-8d476e3630b2",
   "metadata": {},
   "outputs": [],
   "source": [
    "# https://stackoverflow.com/questions/62103632/altair-change-the-position-of-a-slider\n",
    "display(\n",
    "    HTML(\n",
    "        \"\"\"\n",
    "        <style>\n",
    "        form.vega-bindings {\n",
    "            position: absolute;\n",
    "            right: 0px;\n",
    "            top: 0px;\n",
    "            }\n",
    "        </style>\n",
    "        \"\"\"\n",
    "    )\n",
    ")\n",
    "\n",
    "def filtered_route_charts(\n",
    "    df: pd.DataFrame,\n",
    "    control_field: str,\n",
    ") -> alt.Chart:\n",
    "    \"\"\"\n",
    "    https://stackoverflow.com/questions/58919888/multiple-selections-in-altair\n",
    "    \"\"\"\n",
    "    route_dropdown = alt.binding_select(\n",
    "        options=sorted(df[control_field].unique().tolist()), \n",
    "        name='Routes ', \n",
    "    )\n",
    "        \n",
    "    # Column that controls the bar charts\n",
    "    route_selector = alt.selection_point(\n",
    "        fields=[control_field], \n",
    "        bind=route_dropdown,\n",
    "    )\n",
    "    \n",
    "    sched_df = df[df.sched_rt_category != \"vp_only\"]\n",
    "    vp_df = df[df.sched_rt_category != \"schedule_only\"]\n",
    "    \n",
    "    sched_service_chart = base_route_chart(\n",
    "        sched_df[sched_df.time_period==\"all_day\"], \"avg_sched_service_min\"\n",
    "    ).add_params(route_selector).transform_filter(route_selector)\n",
    "   \n",
    "    sched_trips_chart = base_route_chart(\n",
    "        sched_df, \"n_trips\"\n",
    "    ).add_params(route_selector).transform_filter(route_selector)\n",
    "\n",
    "    sched_freq_chart = base_route_chart(\n",
    "        sched_df, \"frequency\"\n",
    "    ).add_params(route_selector).transform_filter(route_selector)\n",
    "\n",
    "    speeds_chart = base_route_chart(\n",
    "        vp_df, \"speed_mph\"\n",
    "    ).add_params(route_selector).transform_filter(route_selector)\n",
    "    \n",
    "    \n",
    "    chart_list = [\n",
    "        sched_service_chart, sched_trips_chart,\n",
    "        sched_freq_chart, speeds_chart\n",
    "    ]\n",
    "    \n",
    "    chart = alt.vconcat(*chart_list).resolve_scale(y=\"independent\")\n",
    "    \n",
    "    return chart"
   ]
  },
  {
   "cell_type": "code",
   "execution_count": null,
   "id": "3aa13a99-c7ad-4099-8fcb-7184312deeec",
   "metadata": {},
   "outputs": [],
   "source": [
    "filtered_route_charts(df, \"route_combined_name\")"
   ]
  },
  {
   "cell_type": "markdown",
   "id": "47c41e29-960a-46a3-b268-ccd4d3866f4b",
   "metadata": {},
   "source": [
    "### Segment Speeds"
   ]
  },
  {
   "cell_type": "code",
   "execution_count": null,
   "id": "ea11a44f-dfb3-486d-a6ae-55c76d30b9b4",
   "metadata": {},
   "outputs": [],
   "source": [
    "selected_date = pd.to_datetime(rt_dates.DATES[\"nov2023\"])\n",
    "\n",
    "speeds = gpd.read_parquet(\n",
    "    f\"{RT_SCHED_GCS}digest/segment_speeds.parquet\",\n",
    "    filters = [[(\"name\", \"==\", name), \n",
    "                (\"service_date\", \"==\", selected_date)]]\n",
    ").drop(columns = \"service_date\").to_crs(\"EPSG:3310\")\n",
    "\n",
    "speeds = speeds.assign(\n",
    "    geometry_arrowized = speeds.apply(\n",
    "        lambda x: rt_utils.arrowize_segment(x.geometry), axis=1\n",
    "    ).set_crs(\"EPSG:3310\")\n",
    ")"
   ]
  },
  {
   "cell_type": "code",
   "execution_count": null,
   "id": "90dbd2b0-8459-4bd0-84ee-628d72504e67",
   "metadata": {},
   "outputs": [],
   "source": [
    "def make_map(gdf: gpd.GeoDataFrame, time_period: str):\n",
    "    subset = (gdf[gdf.time_period==time_period]\n",
    "              .set_geometry(\"geometry_arrowized\")\n",
    "              .drop(columns = \"geometry\")\n",
    "              .dropna()\n",
    "             )\n",
    "    \n",
    "    if len(subset) > 0:\n",
    "        \n",
    "        m = subset.explore(\n",
    "            \"p50_mph\", tiles = \"CartoDB Positron\", \n",
    "            cmap = rt_utils.ZERO_THIRTY_COLORSCALE\n",
    "        )\n",
    "        display(m)\n",
    "    else:\n",
    "        display(Markdown(\"No speeds data to display\"))"
   ]
  },
  {
   "cell_type": "code",
   "execution_count": null,
   "id": "e57f8777-b9e5-4421-a001-bfcdd1f69a04",
   "metadata": {
    "tags": [
     "tags"
    ]
   },
   "outputs": [],
   "source": [
    "make_map(speeds, \"offpeak\")"
   ]
  },
  {
   "cell_type": "code",
   "execution_count": null,
   "id": "cb362a59-3a64-4847-ae55-aa6b79c17eb1",
   "metadata": {
    "tags": [
     "tags"
    ]
   },
   "outputs": [],
   "source": [
    "make_map(speeds, \"peak\")"
   ]
  }
 ],
 "metadata": {
  "kernelspec": {
   "display_name": "Python 3 (ipykernel)",
   "language": "python",
   "name": "python3"
  },
  "language_info": {
   "codemirror_mode": {
    "name": "ipython",
    "version": 3
   },
   "file_extension": ".py",
   "mimetype": "text/x-python",
   "name": "python",
   "nbconvert_exporter": "python",
   "pygments_lexer": "ipython3",
   "version": "3.9.13"
  }
 },
 "nbformat": 4,
 "nbformat_minor": 5
}
