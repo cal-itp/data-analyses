{
 "cells": [
  {
   "cell_type": "markdown",
   "id": "86c85d1e-ec33-4801-9713-5e09f2ff4ac1",
   "metadata": {},
   "source": [
    "# Monthly Trends \n",
    "\n",
    "Now that we're beginning to add monthly aggregations to schedule data, let's see how it all plays together. Use this to get out the kinks of combining all our current data products.\n",
    "\n",
    "* Start with a single day across multiple months.\n",
    "* `scheduled_service_hours`\n",
    "    * service hours, scheduled trips in peak vs offpeak\n",
    "    * average stop spacing\n",
    "* `speeds` - single day aggregation to route-direction. don't use weekly average...we only produced this for 2 months\n",
    "    * segment speeds\n",
    "    * route-direction avg speed with common shape?\n",
    "* `rt_vs_schedule_metrics`"
   ]
  },
  {
   "cell_type": "code",
   "execution_count": null,
   "id": "cca8128a-2a3b-4b07-b2b7-a74bdea1f66a",
   "metadata": {},
   "outputs": [],
   "source": [
    "import altair as alt\n",
    "import geopandas as gpd\n",
    "import pandas as pd\n",
    "\n",
    "from shared_utils import rt_dates\n",
    "from segment_speed_utils import helpers\n",
    "from segment_speed_utils.project_vars import (SEGMENT_GCS, SCHED_GCS, \n",
    "                                              RT_SCHED_GCS)"
   ]
  },
  {
   "cell_type": "markdown",
   "id": "9c82b116-3d7f-43ec-9356-5fb928522e4f",
   "metadata": {},
   "source": [
    "## Datasets\n",
    "* Start with single day for multiple months\n",
    "* scheduled service hours, avg stop spacing, parallel / intersecting\n",
    "* vehicle positions speeds\n",
    "* rt vs sched metrics"
   ]
  },
  {
   "cell_type": "code",
   "execution_count": null,
   "id": "b07794b2-709f-4679-a2d6-47a2cafac5e4",
   "metadata": {},
   "outputs": [],
   "source": [
    "months = [\n",
    "    \"mar\", \"apr\", \"may\", \n",
    "    \"jun\", \"jul\", \"aug\", \n",
    "    \"sep\", \"oct\", \"nov\", \"dec\"\n",
    "]\n",
    "\n",
    "analysis_date_list = [\n",
    "    rt_dates.DATES[f\"{m}2023\"] for m in months\n",
    "] + [rt_dates.DATES[\"jan2024\"]]"
   ]
  },
  {
   "cell_type": "markdown",
   "id": "d5261170-5333-418e-89f4-1730ec00836b",
   "metadata": {},
   "source": [
    "## Schedule"
   ]
  },
  {
   "cell_type": "code",
   "execution_count": null,
   "id": "cd50a162-0113-4702-8aae-468267019c36",
   "metadata": {},
   "outputs": [],
   "source": [
    "def concatenate_schedule_by_route_direction(\n",
    "    date_list: list\n",
    ") -> pd.DataFrame:\n",
    "    df = pd.concat([\n",
    "        pd.read_parquet(\n",
    "         f\"{RT_SCHED_GCS}schedule_route_direction_metrics_{d}.parquet\",\n",
    "            columns = [\n",
    "                \"schedule_gtfs_dataset_key\", \n",
    "                \"route_id\", \"direction_id\",\n",
    "                \"time_period\",\n",
    "                \"avg_sched_service_min\", \n",
    "                \"avg_stop_meters\",\n",
    "                \"n_trips\", \"frequency\",\n",
    "            ]\n",
    "        ).assign(\n",
    "            service_date = pd.to_datetime(d)\n",
    "        ).astype({\"direction_id\": \"Int64\"}) \n",
    "        for d in date_list\n",
    "    ], axis=0, ignore_index=True)\n",
    "    \n",
    "    return df"
   ]
  },
  {
   "cell_type": "code",
   "execution_count": null,
   "id": "f6674adf-c1be-4237-8b71-2d5477da6841",
   "metadata": {},
   "outputs": [],
   "source": [
    "df_schedule = concatenate_schedule_by_route_direction(analysis_date_list)"
   ]
  },
  {
   "cell_type": "code",
   "execution_count": null,
   "id": "211dbedb-df94-4b1e-b994-d78d7d98bb40",
   "metadata": {},
   "outputs": [],
   "source": [
    "df_schedule.head(3)"
   ]
  },
  {
   "cell_type": "markdown",
   "id": "fcc5882a-dcaf-423d-aeb9-ccd935ccfa7f",
   "metadata": {},
   "source": [
    "## Speeds\n",
    "### Segment Speeds"
   ]
  },
  {
   "cell_type": "code",
   "execution_count": null,
   "id": "73625218-4241-48f1-bf67-83dd7ee850ef",
   "metadata": {},
   "outputs": [],
   "source": [
    "df_speeds_segment = pd.concat(\n",
    "    [gpd.read_parquet(\n",
    "        f\"{SEGMENT_GCS}rollup_singleday/\"\n",
    "        f\"speeds_route_dir_segments_{d}.parquet\"\n",
    "    ).assign(\n",
    "        service_date = pd.to_datetime(d)\n",
    "    ).astype({\"direction_id\": \"Int64\"})  \n",
    "     for d in analysis_date_list], \n",
    "    axis=0, ignore_index=True\n",
    ")"
   ]
  },
  {
   "cell_type": "code",
   "execution_count": null,
   "id": "2e3d4670-21dc-412b-b352-9422d6222c75",
   "metadata": {},
   "outputs": [],
   "source": [
    "df_speeds_segment.head(3)"
   ]
  },
  {
   "cell_type": "markdown",
   "id": "fd972260-7eba-477b-839e-9da70331c874",
   "metadata": {},
   "source": [
    "### Route Average Speeds"
   ]
  },
  {
   "cell_type": "code",
   "execution_count": null,
   "id": "92db4db9-3fa0-4b29-b016-1ed683433d95",
   "metadata": {},
   "outputs": [],
   "source": [
    "df_speeds_avg = pd.concat(\n",
    "    [pd.read_parquet(\n",
    "        f\"{SEGMENT_GCS}rollup_singleday/speeds_route_dir_{d}.parquet\"\n",
    "    ).drop(\n",
    "        columns = [\"geometry\", \"meters_elapsed\", \"sec_elapsed\"]\n",
    "    ).assign(\n",
    "        service_date = pd.to_datetime(d)\n",
    "    ).astype({\"direction_id\": \"Int64\"})  \n",
    "     for d in analysis_date_list], \n",
    "    axis=0, ignore_index=True\n",
    ")"
   ]
  },
  {
   "cell_type": "code",
   "execution_count": null,
   "id": "126df002-444f-43de-aa38-eb28a6b3471a",
   "metadata": {},
   "outputs": [],
   "source": [
    "df_speeds_avg.head(3)"
   ]
  },
  {
   "cell_type": "code",
   "execution_count": null,
   "id": "45b76d63-32c2-437e-9f87-08941f9f8eea",
   "metadata": {},
   "outputs": [],
   "source": [
    "df_sched_speeds = pd.merge(\n",
    "    df_schedule,\n",
    "    df_speeds_avg,\n",
    "    on = [\"schedule_gtfs_dataset_key\", \n",
    "          \"service_date\", \"time_period\",\n",
    "          \"route_id\", \"direction_id\"],\n",
    "    how = \"outer\",\n",
    "    indicator = \"sched_speeds_avg_merge\"\n",
    ")\n",
    "\n",
    "df_sched_speeds.sched_speeds_avg_merge.value_counts(normalize=True)"
   ]
  },
  {
   "cell_type": "code",
   "execution_count": null,
   "id": "ce60e484-b82e-4099-9d0e-4f670c7457a1",
   "metadata": {},
   "outputs": [],
   "source": [
    "df_speeds_combined = pd.merge(\n",
    "    df_speeds_segment,\n",
    "    df_speeds_avg,\n",
    "    on = [\"organization_source_record_id\", \"organization_name\",\n",
    "          \"base64_url\", \"caltrans_district\",\n",
    "          \"schedule_gtfs_dataset_key\", \"name\", \n",
    "          \"service_date\",\n",
    "         \"route_id\", \"direction_id\", \"time_period\"],\n",
    "    how = \"outer\",\n",
    "    indicator = \"speeds_avg_seg\"\n",
    ")\n",
    "\n",
    "df_speeds_combined.speeds_avg_seg.value_counts()"
   ]
  },
  {
   "cell_type": "code",
   "execution_count": null,
   "id": "76e72fbf-82b3-4175-aeb3-b184b85af686",
   "metadata": {},
   "outputs": [],
   "source": [
    "df_speeds_combined"
   ]
  },
  {
   "cell_type": "markdown",
   "id": "7ab95fdc-4a56-493e-bbc7-1069b45edf6b",
   "metadata": {},
   "source": [
    "## RT vs Schedule"
   ]
  },
  {
   "cell_type": "code",
   "execution_count": null,
   "id": "e42bfac5-5fa7-4b92-862b-d981aa86829c",
   "metadata": {},
   "outputs": [],
   "source": [
    "trips_to_route = pd.concat([\n",
    "    helpers.import_scheduled_trips(\n",
    "        d,\n",
    "        columns = [\"gtfs_dataset_key\", \n",
    "                   \"trip_instance_key\", \"route_id\", \"direction_id\"],\n",
    "        get_pandas = True\n",
    "    ).assign(\n",
    "        service_date = pd.to_datetime(d)\n",
    "    ).astype({\"direction_id\": \"Int64\"}) \n",
    "    for d in analysis_date_list], \n",
    "    axis=0, ignore_index=True\n",
    ")"
   ]
  },
  {
   "cell_type": "code",
   "execution_count": null,
   "id": "1f498679-47bd-4566-973a-afad132aa2aa",
   "metadata": {},
   "outputs": [],
   "source": [
    "rt_sched_metrics = pd.concat([\n",
    "    pd.read_parquet(\n",
    "        f\"{RT_SCHED_GCS}trip_level_metrics/{d}_metrics.parquet\"\n",
    "    ).assign(service_date = pd.to_datetime(d))\n",
    "    for d in analysis_date_list[:-1]\n",
    "    ], axis=0, ignore_index=True\n",
    ")"
   ]
  },
  {
   "cell_type": "markdown",
   "id": "4559e7b3-dcc6-4fef-95c3-abf76491ccac",
   "metadata": {},
   "source": [
    "`rt_vs_sched` trip-level metrics need January 2024"
   ]
  },
  {
   "cell_type": "code",
   "execution_count": null,
   "id": "d800870d-8084-4556-8bf5-4c783eed1fcf",
   "metadata": {},
   "outputs": [],
   "source": [
    "rt_sched_metrics2 = pd.merge(\n",
    "    rt_sched_metrics,\n",
    "    trips_to_route,\n",
    "    on = [\"trip_instance_key\", \"service_date\"],\n",
    "    how = \"left\",\n",
    "    indicator = True\n",
    ")\n",
    "\n",
    "# outer merge here has a lot of right onlys, which would be\n",
    "# expected for all the trips that do not have RT"
   ]
  },
  {
   "cell_type": "code",
   "execution_count": null,
   "id": "b8c2d9e9-dbb1-4a3f-b3a7-0f6440bbd79e",
   "metadata": {},
   "outputs": [],
   "source": [
    "rt_sched_metrics2._merge.value_counts()"
   ]
  },
  {
   "cell_type": "code",
   "execution_count": null,
   "id": "dac46f4f-962e-4496-9022-183d23c74fb3",
   "metadata": {},
   "outputs": [],
   "source": [
    "# Interesting -- left only means it's found in RT but not in schedule\n",
    "rt_sched_metrics2[rt_sched_metrics2._merge==\"left_only\"].service_date.value_counts()"
   ]
  },
  {
   "cell_type": "code",
   "execution_count": null,
   "id": "886e00de-89fa-4e30-a84b-6610b54af2f9",
   "metadata": {},
   "outputs": [],
   "source": [
    "rt_sched_metrics2.dtypes"
   ]
  },
  {
   "cell_type": "code",
   "execution_count": null,
   "id": "045cea6d-da7e-4229-aee6-61a64ebcdaf3",
   "metadata": {},
   "outputs": [],
   "source": [
    "rt_sched_metrics_route = (rt_sched_metrics2\n",
    "                          .groupby([\"schedule_gtfs_dataset_key\", \n",
    "                                    \"route_id\", \"direction_id\", \n",
    "                                    \"service_date\"], \n",
    "                                   observed=True, group_keys=False)\n",
    "                          .agg({\n",
    "                              \"rt_service_min\": \"mean\",\n",
    "                              \"pings_per_min\": \"mean\",\n",
    "                              \"spatial_accuracy_pct\": \"mean\",\n",
    "                              \"rt_triptime_w_gtfs_pct\": \"mean\",\n",
    "                          })\n",
    "                          .reset_index().round(2)\n",
    "                         )"
   ]
  },
  {
   "cell_type": "code",
   "execution_count": null,
   "id": "2d07e4aa-9ecc-49e4-b0ce-663efd4ec807",
   "metadata": {},
   "outputs": [],
   "source": [
    "rt_sched_metrics_route.head()"
   ]
  },
  {
   "cell_type": "code",
   "execution_count": null,
   "id": "abcaa537-9175-47b5-ae6b-6f4918fd1890",
   "metadata": {},
   "outputs": [],
   "source": [
    "pd.merge(\n",
    "    df_sched_speeds,\n",
    "    rt_sched_metrics_route,\n",
    "    on = [\"schedule_gtfs_dataset_key\",\n",
    "          \"route_id\", \"direction_id\", \"service_date\"],\n",
    "    how = \"outer\",\n",
    "    indicator = \"sched_speeds_to_rt\"\n",
    ").sched_speeds_to_rt.value_counts()"
   ]
  },
  {
   "cell_type": "code",
   "execution_count": null,
   "id": "ee0c4bb6-1381-4e04-989d-603282738d36",
   "metadata": {},
   "outputs": [],
   "source": [
    "df_sched_speeds_metrics = pd.merge(\n",
    "    df_sched_speeds,\n",
    "    rt_sched_metrics_route,\n",
    "    on = [\"schedule_gtfs_dataset_key\", \n",
    "          \"route_id\", \"direction_id\", \"service_date\"],\n",
    "    how = \"outer\",\n",
    "    indicator = True\n",
    ")"
   ]
  },
  {
   "cell_type": "code",
   "execution_count": null,
   "id": "5eb3466c-6446-4b6c-810c-2f7e3040397d",
   "metadata": {},
   "outputs": [],
   "source": [
    "df_sched_speeds_metrics._merge.value_counts()"
   ]
  },
  {
   "cell_type": "code",
   "execution_count": null,
   "id": "bd141a7d-1a9e-458f-b699-0e5be53be7a1",
   "metadata": {},
   "outputs": [],
   "source": [
    "def merge_in_standardized_route_names(df):\n",
    "    standardized_route_names = pd.read_parquet(\n",
    "        f\"{SCHED_GCS}standardized_route_ids.parquet\",\n",
    "        columns = [\"schedule_gtfs_dataset_key\", \"name\", \n",
    "                   \"route_id\", \"service_date\",\n",
    "                   \"recent_route_id2\", \"recent_combined_name\"\n",
    "                  ]\n",
    "    )\n",
    "    \n",
    "    df = pd.merge(\n",
    "        df,\n",
    "        standardized_route_names,\n",
    "        on = [\"schedule_gtfs_dataset_key\", \"route_id\", \"service_date\"],\n",
    "        how = \"left\",\n",
    "    )\n",
    "    \n",
    "    # Clean up, round columns, get it as close to ready for charts\n",
    "    df = df.assign(\n",
    "        route_short_name = (df.recent_combined_name\n",
    "                            .str.split(\"__\", expand=True)[0]),\n",
    "        route_long_name = (df.recent_combined_name\n",
    "                           .str.split(\"__\", expand=True)[1]),\n",
    "        direction_id = df.direction_id.astype(\"int\"),\n",
    "        avg_sched_service_min = df.avg_sched_service_min.round(1),\n",
    "        avg_stop_meters = df.avg_stop_meters.round(1),\n",
    "    ).drop(\n",
    "        columns = [\"route_id\", \"recent_combined_name\"]\n",
    "    ).rename(\n",
    "        columns = {\"recent_route_id2\": \"route_id\"}\n",
    "    )\n",
    "    \n",
    "    return df"
   ]
  },
  {
   "cell_type": "code",
   "execution_count": null,
   "id": "361f8536-e97c-43c8-8208-590b1a30b79f",
   "metadata": {},
   "outputs": [],
   "source": [
    "df_sched_speeds_metrics.columns"
   ]
  },
  {
   "cell_type": "code",
   "execution_count": null,
   "id": "796cc4d9-e9c1-467f-bad3-db79ddf6f444",
   "metadata": {},
   "outputs": [],
   "source": [
    "merge_in_standardized_route_names(df_sched_speeds_metrics).head(10)"
   ]
  },
  {
   "cell_type": "code",
   "execution_count": null,
   "id": "23817f1e-bb95-401a-817b-7bb270ece5c7",
   "metadata": {},
   "outputs": [],
   "source": []
  }
 ],
 "metadata": {
  "kernelspec": {
   "display_name": "Python 3 (ipykernel)",
   "language": "python",
   "name": "python3"
  },
  "language_info": {
   "codemirror_mode": {
    "name": "ipython",
    "version": 3
   },
   "file_extension": ".py",
   "mimetype": "text/x-python",
   "name": "python",
   "nbconvert_exporter": "python",
   "pygments_lexer": "ipython3",
   "version": "3.9.13"
  }
 },
 "nbformat": 4,
 "nbformat_minor": 5
}
