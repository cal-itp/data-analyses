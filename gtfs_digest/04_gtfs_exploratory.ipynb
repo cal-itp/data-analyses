{
 "cells": [
  {
   "cell_type": "markdown",
   "id": "0e10f7ca-6b49-46e9-97c6-5a2b0cad722f",
   "metadata": {},
   "source": [
    "## Planning out what to do with each data source\n",
    "* cd rt_segment_speeds && pip install altair_transform && pip install -r requirements.txt && cd ../_shared_utils && make setup_env"
   ]
  },
  {
   "cell_type": "code",
   "execution_count": 7,
   "id": "13de9193-e486-4a59-bfb6-4226bdcf7b13",
   "metadata": {},
   "outputs": [],
   "source": [
    "import _report_utils\n",
    "import altair as alt\n",
    "import calitp_data_analysis.magics\n",
    "import geopandas as gpd\n",
    "import great_tables as gt\n",
    "import pandas as pd\n",
    "from calitp_data_analysis import calitp_color_palette as cp\n",
    "from great_tables import md\n",
    "from IPython.display import HTML, Markdown, display\n",
    "from segment_speed_utils.project_vars import RT_SCHED_GCS\n",
    "from shared_utils import catalog_utils, rt_dates, rt_utils\n",
    "\n",
    "alt.renderers.enable(\"html\")\n",
    "alt.data_transformers.enable(\"default\", max_rows=None)\n",
    "from typing import List, Union"
   ]
  },
  {
   "cell_type": "code",
   "execution_count": 8,
   "id": "6405a464-e831-4df1-815d-53d13ee89fb7",
   "metadata": {},
   "outputs": [],
   "source": [
    "pd.options.display.max_columns = 100\n",
    "pd.options.display.float_format = \"{:.2f}\".format\n",
    "pd.set_option(\"display.max_rows\", None)\n",
    "pd.set_option(\"display.max_colwidth\", None)"
   ]
  },
  {
   "cell_type": "code",
   "execution_count": 9,
   "id": "66f35b7d-787d-4e0c-91a3-b1974f0f1232",
   "metadata": {},
   "outputs": [],
   "source": [
    "name = \"SBMTD Schedule\""
   ]
  },
  {
   "cell_type": "code",
   "execution_count": 102,
   "id": "f945e34e-ff27-48e9-bf3a-9fee990217df",
   "metadata": {},
   "outputs": [],
   "source": [
    "selected_date = pd.to_datetime(rt_dates.DATES[\"mar2024\"])"
   ]
  },
  {
   "cell_type": "code",
   "execution_count": 103,
   "id": "7de2bb6e-03f6-44ed-824e-fa1382858206",
   "metadata": {},
   "outputs": [
    {
     "data": {
      "text/plain": [
       "Timestamp('2024-03-13 00:00:00')"
      ]
     },
     "execution_count": 103,
     "metadata": {},
     "output_type": "execute_result"
    }
   ],
   "source": [
    "selected_date"
   ]
  },
  {
   "cell_type": "code",
   "execution_count": 106,
   "id": "d156bbf6-bd82-4583-8352-144f91abaf98",
   "metadata": {},
   "outputs": [],
   "source": [
    "year = selected_date.year"
   ]
  },
  {
   "cell_type": "code",
   "execution_count": 12,
   "id": "e5d298e1-c369-46f6-8f99-b067e37a8bac",
   "metadata": {},
   "outputs": [],
   "source": [
    "GTFS_DATA_DICT = catalog_utils.get_catalog(\"gtfs_analytics_data\")"
   ]
  },
  {
   "cell_type": "markdown",
   "id": "724cec3d-fbba-433a-8b51-5acd764e0a0a",
   "metadata": {
    "tags": []
   },
   "source": [
    "## digest/operator_profiles \n",
    "* part of Section 1: Operator Profiles\n",
    "* digest/operator_profiles\n",
    "* This can be the first thing people see, using the data from the latest month"
   ]
  },
  {
   "cell_type": "code",
   "execution_count": 40,
   "id": "638cb1a2-81d1-49e6-808d-8f7d201916b6",
   "metadata": {},
   "outputs": [],
   "source": [
    "op_profiles_url = f\"{GTFS_DATA_DICT.digest_tables.dir}{GTFS_DATA_DICT.digest_tables.operator_profiles}.parquet\""
   ]
  },
  {
   "cell_type": "code",
   "execution_count": 41,
   "id": "eddedd0d-d90b-4288-a83e-b8523a30f136",
   "metadata": {},
   "outputs": [],
   "source": [
    "op_profiles_df = pd.read_parquet(op_profiles_url, filters=[[(\"name\", \"==\", name),\n",
    "                                                           (\"service_date\", \"==\", selected_date)]])"
   ]
  },
  {
   "cell_type": "code",
   "execution_count": 42,
   "id": "879924ff-b4df-4c1e-8d5a-05d286d7dd7c",
   "metadata": {},
   "outputs": [
    {
     "data": {
      "text/plain": [
       "(12, 16)"
      ]
     },
     "execution_count": 42,
     "metadata": {},
     "output_type": "execute_result"
    }
   ],
   "source": [
    "op_profiles_df.shape"
   ]
  },
  {
   "cell_type": "code",
   "execution_count": 51,
   "id": "c6f9a514-9fdd-4751-925d-209dc3ee6e1c",
   "metadata": {},
   "outputs": [],
   "source": [
    "op_profiles_df = op_profiles_df.loc[\n",
    "    op_profiles_df.service_date == op_profiles_df.service_date.max()\n",
    "]"
   ]
  },
  {
   "cell_type": "markdown",
   "id": "1cf8d4bc-e48b-4472-916c-95b4f822b323",
   "metadata": {},
   "source": [
    "### Show off number of routes and breakdown\n",
    "* Maybe use a pie chart with a big title? \n",
    "* last three columns don't add up to 36?\n",
    "* What does n_coverage_routes mean?"
   ]
  },
  {
   "cell_type": "code",
   "execution_count": 74,
   "id": "b0ab2461-e148-4f33-81f7-829af706be75",
   "metadata": {},
   "outputs": [],
   "source": [
    "route_type = [\n",
    "    \"operator_n_routes\",\n",
    "    \"n_downtown_local_routes\",\n",
    "    \"n_rapid_routes\",\n",
    "    \"n_local_routes\",\n",
    "]"
   ]
  },
  {
   "cell_type": "code",
   "execution_count": null,
   "id": "22349831-b15c-4cac-8e24-65d82d4d9b20",
   "metadata": {},
   "outputs": [],
   "source": [
    "pie_chart = op_profiles_df[route_type]"
   ]
  },
  {
   "cell_type": "code",
   "execution_count": 76,
   "id": "466eff4e-93f1-4467-8943-0c5244c620c2",
   "metadata": {},
   "outputs": [
    {
     "data": {
      "text/html": [
       "<div>\n",
       "<style scoped>\n",
       "    .dataframe tbody tr th:only-of-type {\n",
       "        vertical-align: middle;\n",
       "    }\n",
       "\n",
       "    .dataframe tbody tr th {\n",
       "        vertical-align: top;\n",
       "    }\n",
       "\n",
       "    .dataframe thead th {\n",
       "        text-align: right;\n",
       "    }\n",
       "</style>\n",
       "<table border=\"1\" class=\"dataframe\">\n",
       "  <thead>\n",
       "    <tr style=\"text-align: right;\">\n",
       "      <th></th>\n",
       "      <th>operator_n_routes</th>\n",
       "      <th>n_downtown_local_routes</th>\n",
       "      <th>n_rapid_routes</th>\n",
       "      <th>n_local_routes</th>\n",
       "    </tr>\n",
       "  </thead>\n",
       "  <tbody>\n",
       "    <tr>\n",
       "      <th>5</th>\n",
       "      <td>36</td>\n",
       "      <td>12</td>\n",
       "      <td>15</td>\n",
       "      <td>1</td>\n",
       "    </tr>\n",
       "  </tbody>\n",
       "</table>\n",
       "</div>"
      ],
      "text/plain": [
       "   operator_n_routes  n_downtown_local_routes  n_rapid_routes  n_local_routes\n",
       "5                 36                       12              15               1"
      ]
     },
     "execution_count": 76,
     "metadata": {},
     "output_type": "execute_result"
    }
   ],
   "source": [
    "pie_chart"
   ]
  },
  {
   "cell_type": "markdown",
   "id": "e993b9e3-8128-47d6-a5b4-b1c783e8072d",
   "metadata": {},
   "source": [
    "### number of stops served, total stop arrivals, arrivals per stop"
   ]
  },
  {
   "cell_type": "code",
   "execution_count": 78,
   "id": "bd457e5b-5d9b-4d77-b5d7-2e90a6c9f934",
   "metadata": {},
   "outputs": [
    {
     "data": {
      "text/plain": [
       "'Operator SBMTD Schedule provided 253.84 miles of public transit.'"
      ]
     },
     "execution_count": 78,
     "metadata": {},
     "output_type": "execute_result"
    }
   ],
   "source": [
    "f\"Operator {name} provided {op_profiles_df.operator_route_length_miles.values[0]} miles of public transit.\""
   ]
  },
  {
   "cell_type": "code",
   "execution_count": 79,
   "id": "8cc3ed76-5e9c-4982-872c-5b4c2f8bc9eb",
   "metadata": {},
   "outputs": [
    {
     "data": {
      "text/html": [
       "<div>\n",
       "<style scoped>\n",
       "    .dataframe tbody tr th:only-of-type {\n",
       "        vertical-align: middle;\n",
       "    }\n",
       "\n",
       "    .dataframe tbody tr th {\n",
       "        vertical-align: top;\n",
       "    }\n",
       "\n",
       "    .dataframe thead th {\n",
       "        text-align: right;\n",
       "    }\n",
       "</style>\n",
       "<table border=\"1\" class=\"dataframe\">\n",
       "  <thead>\n",
       "    <tr style=\"text-align: right;\">\n",
       "      <th></th>\n",
       "      <th>schedule_gtfs_dataset_key</th>\n",
       "      <th>operator_n_routes</th>\n",
       "      <th>operator_n_trips</th>\n",
       "      <th>operator_n_shapes</th>\n",
       "      <th>operator_n_stops</th>\n",
       "      <th>operator_n_arrivals</th>\n",
       "      <th>operator_route_length_miles</th>\n",
       "      <th>operator_arrivals_per_stop</th>\n",
       "      <th>n_coverage_routes</th>\n",
       "      <th>n_downtown_local_routes</th>\n",
       "      <th>n_local_routes</th>\n",
       "      <th>n_rapid_routes</th>\n",
       "      <th>name</th>\n",
       "      <th>organization_source_record_id</th>\n",
       "      <th>organization_name</th>\n",
       "      <th>service_date</th>\n",
       "    </tr>\n",
       "  </thead>\n",
       "  <tbody>\n",
       "    <tr>\n",
       "      <th>5</th>\n",
       "      <td>239f3baf3dd3b9e9464f66a777f9897d</td>\n",
       "      <td>36</td>\n",
       "      <td>1003</td>\n",
       "      <td>94</td>\n",
       "      <td>607</td>\n",
       "      <td>21379</td>\n",
       "      <td>253.84</td>\n",
       "      <td>35.22</td>\n",
       "      <td>18</td>\n",
       "      <td>12</td>\n",
       "      <td>1</td>\n",
       "      <td>15</td>\n",
       "      <td>SBMTD Schedule</td>\n",
       "      <td>recswCrw6a6htmXJ4</td>\n",
       "      <td>Santa Barbara Metropolitan Transit District</td>\n",
       "      <td>2024-03-13</td>\n",
       "    </tr>\n",
       "  </tbody>\n",
       "</table>\n",
       "</div>"
      ],
      "text/plain": [
       "          schedule_gtfs_dataset_key  operator_n_routes  operator_n_trips  \\\n",
       "5  239f3baf3dd3b9e9464f66a777f9897d                 36              1003   \n",
       "\n",
       "   operator_n_shapes  operator_n_stops  operator_n_arrivals  \\\n",
       "5                 94               607                21379   \n",
       "\n",
       "   operator_route_length_miles  operator_arrivals_per_stop  n_coverage_routes  \\\n",
       "5                       253.84                       35.22                 18   \n",
       "\n",
       "   n_downtown_local_routes  n_local_routes  n_rapid_routes            name  \\\n",
       "5                       12               1              15  SBMTD Schedule   \n",
       "\n",
       "  organization_source_record_id                            organization_name  \\\n",
       "5             recswCrw6a6htmXJ4  Santa Barbara Metropolitan Transit District   \n",
       "\n",
       "  service_date  \n",
       "5   2024-03-13  "
      ]
     },
     "execution_count": 79,
     "metadata": {},
     "output_type": "execute_result"
    }
   ],
   "source": [
    "op_profiles_df"
   ]
  },
  {
   "cell_type": "code",
   "execution_count": 81,
   "id": "1662f560-3a2b-4ffe-afc2-8b48d96a0e8c",
   "metadata": {},
   "outputs": [
    {
     "data": {
      "text/plain": [
       "'This operator serves 607 different stops and each stop received about 35.22 visits this last month, totaling to 21379 arrivals'"
      ]
     },
     "execution_count": 81,
     "metadata": {},
     "output_type": "execute_result"
    }
   ],
   "source": [
    "f\"This operator serves {op_profiles_df.operator_n_stops.values[0]} different stops and each stop received about {op_profiles_df.operator_arrivals_per_stop.values[0]} visits this last month, totaling to {op_profiles_df.operator_n_arrivals.values[0]} arrivals\""
   ]
  },
  {
   "cell_type": "markdown",
   "id": "81bca019-c3dd-4c44-878f-b0eb6d62964e",
   "metadata": {},
   "source": [
    "## digest/operator_routes"
   ]
  },
  {
   "cell_type": "code",
   "execution_count": 108,
   "id": "1c476922-5dd1-48a5-9593-6c2f8b46ab4d",
   "metadata": {},
   "outputs": [],
   "source": [
    "op_routes_url = f\"{GTFS_DATA_DICT.digest_tables.dir}{GTFS_DATA_DICT.digest_tables.operator_routes_map}.parquet\""
   ]
  },
  {
   "cell_type": "code",
   "execution_count": 109,
   "id": "1557d7d8-7d85-48cf-9f05-2094835dd4c2",
   "metadata": {},
   "outputs": [],
   "source": [
    "op_routes_gdf = gpd.read_parquet(op_routes_url, filters=[[(\"name\", \"==\", name),\n",
    "                                                         (\"service_date\", \"==\", selected_date)]])"
   ]
  },
  {
   "cell_type": "code",
   "execution_count": 110,
   "id": "bdf2c14f-cc72-4fdb-8bc9-b8c06863e8ef",
   "metadata": {},
   "outputs": [],
   "source": [
    "cols_to_drop_preview = [\n",
    "    \"shape_array_key\",\n",
    "    \"geometry\",\n",
    "    \"feed_key\",\n",
    "    \"schedule_gtfs_dataset_key\",\n",
    "    \"organization_source_record_id\",\n",
    "    \"name\",\n",
    "    \"route_id\",\n",
    "]"
   ]
  },
  {
   "cell_type": "code",
   "execution_count": 111,
   "id": "efabe1f2-fae7-4c84-9cc0-bdae2d056dd3",
   "metadata": {},
   "outputs": [
    {
     "data": {
      "text/plain": [
       "0.00    201\n",
       "1.00    181\n",
       "Name: direction_id, dtype: int64"
      ]
     },
     "execution_count": 111,
     "metadata": {},
     "output_type": "execute_result"
    }
   ],
   "source": [
    "op_routes_df.direction_id.value_counts()"
   ]
  },
  {
   "cell_type": "code",
   "execution_count": 112,
   "id": "d2f0e284-24d0-4651-8577-9f0fe196cb8c",
   "metadata": {},
   "outputs": [
    {
     "data": {
      "text/html": [
       "<div>\n",
       "<style scoped>\n",
       "    .dataframe tbody tr th:only-of-type {\n",
       "        vertical-align: middle;\n",
       "    }\n",
       "\n",
       "    .dataframe tbody tr th {\n",
       "        vertical-align: top;\n",
       "    }\n",
       "\n",
       "    .dataframe thead th {\n",
       "        text-align: right;\n",
       "    }\n",
       "</style>\n",
       "<table border=\"1\" class=\"dataframe\">\n",
       "  <thead>\n",
       "    <tr style=\"text-align: right;\">\n",
       "      <th></th>\n",
       "      <th>direction_id</th>\n",
       "      <th>route_key</th>\n",
       "      <th>route_length</th>\n",
       "      <th>route_length_miles</th>\n",
       "      <th>organization_name</th>\n",
       "      <th>service_date</th>\n",
       "      <th>route_combined_name</th>\n",
       "    </tr>\n",
       "  </thead>\n",
       "  <tbody>\n",
       "    <tr>\n",
       "      <th>4029</th>\n",
       "      <td>0.00</td>\n",
       "      <td>5036d8d8f640c99b7b38296bc5576a02</td>\n",
       "      <td>3801.44</td>\n",
       "      <td>2.36</td>\n",
       "      <td>Santa Barbara Metropolitan Transit District</td>\n",
       "      <td>2024-03-13</td>\n",
       "      <td>1 West Santa Barbara</td>\n",
       "    </tr>\n",
       "  </tbody>\n",
       "</table>\n",
       "</div>"
      ],
      "text/plain": [
       "      direction_id                         route_key  route_length  \\\n",
       "4029          0.00  5036d8d8f640c99b7b38296bc5576a02       3801.44   \n",
       "\n",
       "      route_length_miles                            organization_name  \\\n",
       "4029                2.36  Santa Barbara Metropolitan Transit District   \n",
       "\n",
       "     service_date   route_combined_name  \n",
       "4029   2024-03-13  1 West Santa Barbara  "
      ]
     },
     "execution_count": 112,
     "metadata": {},
     "output_type": "execute_result"
    }
   ],
   "source": [
    "op_routes_gdf.loc[op_routes_gdf.route_combined_name == \"1 West Santa Barbara\"].sort_values(\n",
    "    by=[ \"service_date\",\"direction_id\"]\n",
    ").drop(columns=cols_to_drop_preview)"
   ]
  },
  {
   "cell_type": "markdown",
   "id": "cb19d787-c4c0-4f38-83fc-cf1757fe37f8",
   "metadata": {},
   "source": [
    "### Add route length to Section 2 operator and/or route-direction monthly stats "
   ]
  },
  {
   "cell_type": "code",
   "execution_count": 121,
   "id": "01fccbfa-b210-482b-a185-10854bd11984",
   "metadata": {},
   "outputs": [],
   "source": [
    "no_dup_routes = op_routes_gdf.drop_duplicates(subset = ['route_combined_name']).drop(columns=cols_to_drop_preview).sort_values(\n",
    "    by=[ \"route_length_miles\"], ascending = False\n",
    ")"
   ]
  },
  {
   "cell_type": "code",
   "execution_count": 123,
   "id": "c7b4bf04-40dc-4518-8c6c-7f0f828c0ad3",
   "metadata": {},
   "outputs": [
    {
     "data": {
      "text/html": [
       "<div>\n",
       "<style scoped>\n",
       "    .dataframe tbody tr th:only-of-type {\n",
       "        vertical-align: middle;\n",
       "    }\n",
       "\n",
       "    .dataframe tbody tr th {\n",
       "        vertical-align: top;\n",
       "    }\n",
       "\n",
       "    .dataframe thead th {\n",
       "        text-align: right;\n",
       "    }\n",
       "</style>\n",
       "<table border=\"1\" class=\"dataframe\">\n",
       "  <thead>\n",
       "    <tr style=\"text-align: right;\">\n",
       "      <th></th>\n",
       "      <th>direction_id</th>\n",
       "      <th>route_key</th>\n",
       "      <th>route_length</th>\n",
       "      <th>route_length_miles</th>\n",
       "      <th>organization_name</th>\n",
       "      <th>service_date</th>\n",
       "      <th>route_combined_name</th>\n",
       "    </tr>\n",
       "  </thead>\n",
       "  <tbody>\n",
       "    <tr>\n",
       "      <th>4037</th>\n",
       "      <td>1.00</td>\n",
       "      <td>954963f56efc380e7d8534695eff7b32</td>\n",
       "      <td>25614.41</td>\n",
       "      <td>15.92</td>\n",
       "      <td>Santa Barbara Metropolitan Transit District</td>\n",
       "      <td>2024-03-13</td>\n",
       "      <td>20 Carpinteria</td>\n",
       "    </tr>\n",
       "    <tr>\n",
       "      <th>4033</th>\n",
       "      <td>1.00</td>\n",
       "      <td>f50aa8320989dd70bb9eecd99c55d857</td>\n",
       "      <td>23055.55</td>\n",
       "      <td>14.33</td>\n",
       "      <td>Santa Barbara Metropolitan Transit District</td>\n",
       "      <td>2024-03-13</td>\n",
       "      <td>15X SBCC/UCSB Express</td>\n",
       "    </tr>\n",
       "    <tr>\n",
       "      <th>4030</th>\n",
       "      <td>1.00</td>\n",
       "      <td>c69fd0ca999f1e758fd6b729cabf3bbd</td>\n",
       "      <td>22823.68</td>\n",
       "      <td>14.18</td>\n",
       "      <td>Santa Barbara Metropolitan Transit District</td>\n",
       "      <td>2024-03-13</td>\n",
       "      <td>11 UCSB</td>\n",
       "    </tr>\n",
       "    <tr>\n",
       "      <th>4044</th>\n",
       "      <td>1.00</td>\n",
       "      <td>586423a90e5943518edc2bcea7de8abf</td>\n",
       "      <td>21485.82</td>\n",
       "      <td>13.35</td>\n",
       "      <td>Santa Barbara Metropolitan Transit District</td>\n",
       "      <td>2024-03-13</td>\n",
       "      <td>24X UCSB Express</td>\n",
       "    </tr>\n",
       "    <tr>\n",
       "      <th>4035</th>\n",
       "      <td>0.00</td>\n",
       "      <td>fdd4fcd898e97281dae60bf6db8933bd</td>\n",
       "      <td>21114.23</td>\n",
       "      <td>13.12</td>\n",
       "      <td>Santa Barbara Metropolitan Transit District</td>\n",
       "      <td>2024-03-13</td>\n",
       "      <td>19X Carp SBCC Express</td>\n",
       "    </tr>\n",
       "  </tbody>\n",
       "</table>\n",
       "</div>"
      ],
      "text/plain": [
       "      direction_id                         route_key  route_length  \\\n",
       "4037          1.00  954963f56efc380e7d8534695eff7b32      25614.41   \n",
       "4033          1.00  f50aa8320989dd70bb9eecd99c55d857      23055.55   \n",
       "4030          1.00  c69fd0ca999f1e758fd6b729cabf3bbd      22823.68   \n",
       "4044          1.00  586423a90e5943518edc2bcea7de8abf      21485.82   \n",
       "4035          0.00  fdd4fcd898e97281dae60bf6db8933bd      21114.23   \n",
       "\n",
       "      route_length_miles                            organization_name  \\\n",
       "4037               15.92  Santa Barbara Metropolitan Transit District   \n",
       "4033               14.33  Santa Barbara Metropolitan Transit District   \n",
       "4030               14.18  Santa Barbara Metropolitan Transit District   \n",
       "4044               13.35  Santa Barbara Metropolitan Transit District   \n",
       "4035               13.12  Santa Barbara Metropolitan Transit District   \n",
       "\n",
       "     service_date    route_combined_name  \n",
       "4037   2024-03-13         20 Carpinteria  \n",
       "4033   2024-03-13  15X SBCC/UCSB Express  \n",
       "4030   2024-03-13                11 UCSB  \n",
       "4044   2024-03-13       24X UCSB Express  \n",
       "4035   2024-03-13  19X Carp SBCC Express  "
      ]
     },
     "execution_count": 123,
     "metadata": {},
     "output_type": "execute_result"
    }
   ],
   "source": [
    "no_dup_routes.head()"
   ]
  },
  {
   "cell_type": "markdown",
   "id": "89d35b02-f273-41f2-b6c1-42240a355818",
   "metadata": {},
   "source": [
    "### Add to section 1"
   ]
  },
  {
   "cell_type": "code",
   "execution_count": 128,
   "id": "2d5784a1-c86c-49d8-87bb-16fb5db98156",
   "metadata": {},
   "outputs": [
    {
     "data": {
      "text/plain": [
       "'The longest route SBMTD Schedule runs is 20 Carpinteria which totals to 15.92 miles.'"
      ]
     },
     "execution_count": 128,
     "metadata": {},
     "output_type": "execute_result"
    }
   ],
   "source": [
    "f\"The longest route {name} runs is {no_dup_routes.route_combined_name.values[0]} which totals to {no_dup_routes.route_length_miles.values[0]} miles.\""
   ]
  },
  {
   "cell_type": "code",
   "execution_count": 130,
   "id": "88386dce-9208-49b6-a28d-8ffe4e626c04",
   "metadata": {},
   "outputs": [
    {
     "data": {
      "text/plain": [
       "'The average length of a route is 7.05 miles.'"
      ]
     },
     "execution_count": 130,
     "metadata": {},
     "output_type": "execute_result"
    }
   ],
   "source": [
    "f\"The average length of a route is {no_dup_routes.route_length_miles.mean().round(2)} miles.\""
   ]
  },
  {
   "cell_type": "code",
   "execution_count": 117,
   "id": "ed0c440d-d233-4652-a175-064b969a5d14",
   "metadata": {},
   "outputs": [
    {
     "data": {
      "text/plain": [
       "253.84"
      ]
     },
     "execution_count": 117,
     "metadata": {},
     "output_type": "execute_result"
    }
   ],
   "source": [
    "no_dup_routes.route_length_miles.sum()"
   ]
  },
  {
   "cell_type": "code",
   "execution_count": 125,
   "id": "0da315e0-1eb5-42ee-ae62-b7ef8ab099a6",
   "metadata": {},
   "outputs": [
    {
     "data": {
      "text/plain": [
       "'SBMTD Schedule runs 36 routes'"
      ]
     },
     "execution_count": 125,
     "metadata": {},
     "output_type": "execute_result"
    }
   ],
   "source": [
    "f\"{name} runs {op_routes_gdf.route_combined_name.nunique()} routes\""
   ]
  },
  {
   "cell_type": "markdown",
   "id": "c50503c0-190c-4805-a93c-278a5090e4ad",
   "metadata": {},
   "source": [
    "## monthly_scheduled_service \n",
    "* part of section 1\n",
    "* https://dbt-docs.calitp.org/#!/model/model.calitp_warehouse.fct_monthly_route_service_by_timeofday\n",
    "* Total scheduled service hours: that occurred for the route for this month, day_type, and time_of_day.\n",
    "    * That means I want to just take the max of the total scheduled service hours after grouping."
   ]
  },
  {
   "cell_type": "code",
   "execution_count": null,
   "id": "ed9ce8ef-8a1a-4e38-b705-8dd79e542a63",
   "metadata": {},
   "outputs": [],
   "source": [
    "# monthly_schd_service_url = f\"{GTFS_DATA_DICT.schedule_tables.gcs_dir}{GTFS_DATA_DICT.schedule_tables.monthly_scheduled_service}_{year}.parquet\""
   ]
  },
  {
   "cell_type": "code",
   "execution_count": null,
   "id": "cb8888ab-425b-43bc-92db-68d44ee0dc91",
   "metadata": {},
   "outputs": [],
   "source": [
    "# monthly_scheduled_service_df = pd.read_parquet(monthly_schd_service_url)"
   ]
  },
  {
   "cell_type": "code",
   "execution_count": null,
   "id": "656bcf24-2175-4b0c-8d39-23e981e8909a",
   "metadata": {},
   "outputs": [],
   "source": [
    "monthly_scheduled_service_df_agg = _report_utils.summarize_monthly(year, name)"
   ]
  },
  {
   "cell_type": "code",
   "execution_count": null,
   "id": "748a9023-d52a-49b6-acbf-7a8968844df9",
   "metadata": {},
   "outputs": [],
   "source": [
    "_report_utils.single_bar_chart_dropdown(\n",
    "    monthly_scheduled_service_df_agg,\n",
    "    \"day_type\",\n",
    "    \"ttl_service_hours\",\n",
    "    \"time_of_day\",\n",
    "    \"Total Service Hours across all Routes per Month in 2023\",\n",
    "    \"full_date\",\n",
    ")"
   ]
  },
  {
   "cell_type": "markdown",
   "id": "f22b430f-a2ac-4fd8-a574-32a8fce20327",
   "metadata": {},
   "source": [
    "## segment_speeds\n",
    "* Unsure where to put it, plus won't it slow everything down? Is it feasible to generate a map?\n",
    "* For mapping? Do we not want a map since that area is blank in GH Issue 1059?"
   ]
  },
  {
   "cell_type": "code",
   "execution_count": 164,
   "id": "0cc51da8-02fb-4bf4-9167-fda5a4edaf9d",
   "metadata": {},
   "outputs": [],
   "source": [
    "seg_speeds_url = f\"{GTFS_DATA_DICT.digest_tables.dir}{GTFS_DATA_DICT.digest_tables.route_segment_speeds}.parquet\""
   ]
  },
  {
   "cell_type": "code",
   "execution_count": 165,
   "id": "12ea4a51-f1d0-492e-890d-8262a3f29674",
   "metadata": {},
   "outputs": [],
   "source": [
    "seg_speeds_gdf = gpd.read_parquet(seg_speeds_url, filters=[[(\"name\", \"==\", name),\n",
    "                                                           (\"service_date\", \"==\", selected_date)]])"
   ]
  },
  {
   "cell_type": "code",
   "execution_count": 166,
   "id": "c14efd63-0b01-4a28-bd9e-32268f5a3d01",
   "metadata": {},
   "outputs": [],
   "source": [
    "seg_speeds_one_route = seg_speeds_gdf.loc[seg_speeds_gdf.route_combined_name == \"14 Montecito\"]"
   ]
  },
  {
   "cell_type": "code",
   "execution_count": 167,
   "id": "ca7cfd43-8370-44b0-a6f3-5e9fc919a017",
   "metadata": {},
   "outputs": [
    {
     "data": {
      "text/plain": [
       "195"
      ]
     },
     "execution_count": 167,
     "metadata": {},
     "output_type": "execute_result"
    }
   ],
   "source": [
    "len(seg_speeds_one_route)"
   ]
  },
  {
   "cell_type": "code",
   "execution_count": 173,
   "id": "902752b9-4dec-4267-83f3-30fd1805e052",
   "metadata": {},
   "outputs": [
    {
     "data": {
      "text/plain": [
       "Index(['schedule_gtfs_dataset_key', 'direction_id', 'time_period', 'stop_pair',\n",
       "       'stop_pair_name', 'p20_mph', 'p50_mph', 'p80_mph', 'geometry',\n",
       "       'service_date', 'name', 'route_long_name', 'route_short_name',\n",
       "       'route_combined_name', 'route_id'],\n",
       "      dtype='object')"
      ]
     },
     "execution_count": 173,
     "metadata": {},
     "output_type": "execute_result"
    }
   ],
   "source": [
    "seg_speeds_one_route.columns"
   ]
  },
  {
   "cell_type": "code",
   "execution_count": 175,
   "id": "8aa9514b-9cee-4ae1-b942-57a89ac1b4fc",
   "metadata": {},
   "outputs": [],
   "source": [
    "# seg_speeds_one_route.drop(columns = ['service_date']).explore('p50_mph')"
   ]
  },
  {
   "cell_type": "markdown",
   "id": "64670ffe-c7a4-45ba-8b19-33b4624b4b83",
   "metadata": {},
   "source": [
    "## digest/operator_schedule_rt_category\n",
    "* How is this different then what we can find in `digest/schedule_vp_metrics`?"
   ]
  },
  {
   "cell_type": "code",
   "execution_count": 176,
   "id": "771d0eef-6caa-4746-87a2-76a3caf85560",
   "metadata": {},
   "outputs": [],
   "source": [
    "op_schd_rt_category_url = f\"{GTFS_DATA_DICT.digest_tables.dir}{GTFS_DATA_DICT.digest_tables.operator_sched_rt}.parquet\""
   ]
  },
  {
   "cell_type": "code",
   "execution_count": 179,
   "id": "90983f50-dd3a-41c7-a471-54206676e59b",
   "metadata": {},
   "outputs": [],
   "source": [
    "op_schd_rt_category_df = pd.read_parquet(op_schd_rt_category_url)"
   ]
  },
  {
   "cell_type": "code",
   "execution_count": 180,
   "id": "d64aac8f-738a-4b34-ae02-2d23603a2d67",
   "metadata": {},
   "outputs": [
    {
     "data": {
      "text/plain": [
       "(10608, 4)"
      ]
     },
     "execution_count": 180,
     "metadata": {},
     "output_type": "execute_result"
    }
   ],
   "source": [
    "op_schd_rt_category_df.shape"
   ]
  },
  {
   "cell_type": "code",
   "execution_count": null,
   "id": "1b7c2d69-a911-420b-960c-63e26f6d4e15",
   "metadata": {},
   "outputs": [
    {
     "data": {
      "text/html": [
       "<div>\n",
       "<style scoped>\n",
       "    .dataframe tbody tr th:only-of-type {\n",
       "        vertical-align: middle;\n",
       "    }\n",
       "\n",
       "    .dataframe tbody tr th {\n",
       "        vertical-align: top;\n",
       "    }\n",
       "\n",
       "    .dataframe thead th {\n",
       "        text-align: right;\n",
       "    }\n",
       "</style>\n",
       "<table border=\"1\" class=\"dataframe\">\n",
       "  <thead>\n",
       "    <tr style=\"text-align: right;\">\n",
       "      <th></th>\n",
       "      <th></th>\n",
       "      <th></th>\n",
       "      <th>n_trips</th>\n",
       "    </tr>\n",
       "    <tr>\n",
       "      <th>service_date</th>\n",
       "      <th>sched_rt_category</th>\n",
       "      <th>schedule_gtfs_dataset_key</th>\n",
       "      <th></th>\n",
       "    </tr>\n",
       "  </thead>\n",
       "  <tbody>\n",
       "    <tr>\n",
       "      <th rowspan=\"3\" valign=\"top\">2023-03-15</th>\n",
       "      <th>schedule_only</th>\n",
       "      <th>7cc0cb1871dfd558f11a2885c145d144</th>\n",
       "      <td>0.00</td>\n",
       "    </tr>\n",
       "    <tr>\n",
       "      <th>vp_only</th>\n",
       "      <th>7cc0cb1871dfd558f11a2885c145d144</th>\n",
       "      <td>0.00</td>\n",
       "    </tr>\n",
       "    <tr>\n",
       "      <th>schedule_and_vp</th>\n",
       "      <th>7cc0cb1871dfd558f11a2885c145d144</th>\n",
       "      <td>0.00</td>\n",
       "    </tr>\n",
       "    <tr>\n",
       "      <th rowspan=\"3\" valign=\"top\">2023-04-12</th>\n",
       "      <th>schedule_only</th>\n",
       "      <th>7cc0cb1871dfd558f11a2885c145d144</th>\n",
       "      <td>0.00</td>\n",
       "    </tr>\n",
       "    <tr>\n",
       "      <th>vp_only</th>\n",
       "      <th>7cc0cb1871dfd558f11a2885c145d144</th>\n",
       "      <td>570.00</td>\n",
       "    </tr>\n",
       "    <tr>\n",
       "      <th>schedule_and_vp</th>\n",
       "      <th>7cc0cb1871dfd558f11a2885c145d144</th>\n",
       "      <td>8671.00</td>\n",
       "    </tr>\n",
       "    <tr>\n",
       "      <th rowspan=\"3\" valign=\"top\">2023-05-17</th>\n",
       "      <th>schedule_only</th>\n",
       "      <th>7cc0cb1871dfd558f11a2885c145d144</th>\n",
       "      <td>0.00</td>\n",
       "    </tr>\n",
       "    <tr>\n",
       "      <th>vp_only</th>\n",
       "      <th>7cc0cb1871dfd558f11a2885c145d144</th>\n",
       "      <td>589.00</td>\n",
       "    </tr>\n",
       "    <tr>\n",
       "      <th>schedule_and_vp</th>\n",
       "      <th>7cc0cb1871dfd558f11a2885c145d144</th>\n",
       "      <td>8597.00</td>\n",
       "    </tr>\n",
       "    <tr>\n",
       "      <th rowspan=\"3\" valign=\"top\">2023-06-14</th>\n",
       "      <th>schedule_only</th>\n",
       "      <th>7cc0cb1871dfd558f11a2885c145d144</th>\n",
       "      <td>0.00</td>\n",
       "    </tr>\n",
       "    <tr>\n",
       "      <th>vp_only</th>\n",
       "      <th>7cc0cb1871dfd558f11a2885c145d144</th>\n",
       "      <td>598.00</td>\n",
       "    </tr>\n",
       "    <tr>\n",
       "      <th>schedule_and_vp</th>\n",
       "      <th>7cc0cb1871dfd558f11a2885c145d144</th>\n",
       "      <td>8726.00</td>\n",
       "    </tr>\n",
       "    <tr>\n",
       "      <th rowspan=\"3\" valign=\"top\">2023-07-12</th>\n",
       "      <th>schedule_only</th>\n",
       "      <th>7cc0cb1871dfd558f11a2885c145d144</th>\n",
       "      <td>0.00</td>\n",
       "    </tr>\n",
       "    <tr>\n",
       "      <th>vp_only</th>\n",
       "      <th>7cc0cb1871dfd558f11a2885c145d144</th>\n",
       "      <td>551.00</td>\n",
       "    </tr>\n",
       "    <tr>\n",
       "      <th>schedule_and_vp</th>\n",
       "      <th>7cc0cb1871dfd558f11a2885c145d144</th>\n",
       "      <td>8768.00</td>\n",
       "    </tr>\n",
       "    <tr>\n",
       "      <th rowspan=\"3\" valign=\"top\">2023-08-15</th>\n",
       "      <th>schedule_only</th>\n",
       "      <th>7cc0cb1871dfd558f11a2885c145d144</th>\n",
       "      <td>0.00</td>\n",
       "    </tr>\n",
       "    <tr>\n",
       "      <th>vp_only</th>\n",
       "      <th>7cc0cb1871dfd558f11a2885c145d144</th>\n",
       "      <td>529.00</td>\n",
       "    </tr>\n",
       "    <tr>\n",
       "      <th>schedule_and_vp</th>\n",
       "      <th>7cc0cb1871dfd558f11a2885c145d144</th>\n",
       "      <td>8645.00</td>\n",
       "    </tr>\n",
       "    <tr>\n",
       "      <th rowspan=\"3\" valign=\"top\">2023-09-13</th>\n",
       "      <th>schedule_only</th>\n",
       "      <th>7cc0cb1871dfd558f11a2885c145d144</th>\n",
       "      <td>0.00</td>\n",
       "    </tr>\n",
       "    <tr>\n",
       "      <th>vp_only</th>\n",
       "      <th>7cc0cb1871dfd558f11a2885c145d144</th>\n",
       "      <td>0.00</td>\n",
       "    </tr>\n",
       "    <tr>\n",
       "      <th>schedule_and_vp</th>\n",
       "      <th>7cc0cb1871dfd558f11a2885c145d144</th>\n",
       "      <td>0.00</td>\n",
       "    </tr>\n",
       "    <tr>\n",
       "      <th rowspan=\"3\" valign=\"top\">2023-10-11</th>\n",
       "      <th>schedule_only</th>\n",
       "      <th>7cc0cb1871dfd558f11a2885c145d144</th>\n",
       "      <td>0.00</td>\n",
       "    </tr>\n",
       "    <tr>\n",
       "      <th>vp_only</th>\n",
       "      <th>7cc0cb1871dfd558f11a2885c145d144</th>\n",
       "      <td>538.00</td>\n",
       "    </tr>\n",
       "    <tr>\n",
       "      <th>schedule_and_vp</th>\n",
       "      <th>7cc0cb1871dfd558f11a2885c145d144</th>\n",
       "      <td>8702.00</td>\n",
       "    </tr>\n",
       "    <tr>\n",
       "      <th rowspan=\"3\" valign=\"top\">2023-11-15</th>\n",
       "      <th>schedule_only</th>\n",
       "      <th>7cc0cb1871dfd558f11a2885c145d144</th>\n",
       "      <td>411.00</td>\n",
       "    </tr>\n",
       "    <tr>\n",
       "      <th>vp_only</th>\n",
       "      <th>7cc0cb1871dfd558f11a2885c145d144</th>\n",
       "      <td>516.00</td>\n",
       "    </tr>\n",
       "    <tr>\n",
       "      <th>schedule_and_vp</th>\n",
       "      <th>7cc0cb1871dfd558f11a2885c145d144</th>\n",
       "      <td>8283.00</td>\n",
       "    </tr>\n",
       "    <tr>\n",
       "      <th rowspan=\"3\" valign=\"top\">2023-12-13</th>\n",
       "      <th>schedule_only</th>\n",
       "      <th>7cc0cb1871dfd558f11a2885c145d144</th>\n",
       "      <td>0.00</td>\n",
       "    </tr>\n",
       "    <tr>\n",
       "      <th>vp_only</th>\n",
       "      <th>7cc0cb1871dfd558f11a2885c145d144</th>\n",
       "      <td>547.00</td>\n",
       "    </tr>\n",
       "    <tr>\n",
       "      <th>schedule_and_vp</th>\n",
       "      <th>7cc0cb1871dfd558f11a2885c145d144</th>\n",
       "      <td>8859.00</td>\n",
       "    </tr>\n",
       "    <tr>\n",
       "      <th rowspan=\"3\" valign=\"top\">2024-01-17</th>\n",
       "      <th>schedule_only</th>\n",
       "      <th>7cc0cb1871dfd558f11a2885c145d144</th>\n",
       "      <td>0.00</td>\n",
       "    </tr>\n",
       "    <tr>\n",
       "      <th>vp_only</th>\n",
       "      <th>7cc0cb1871dfd558f11a2885c145d144</th>\n",
       "      <td>563.00</td>\n",
       "    </tr>\n",
       "    <tr>\n",
       "      <th>schedule_and_vp</th>\n",
       "      <th>7cc0cb1871dfd558f11a2885c145d144</th>\n",
       "      <td>8670.00</td>\n",
       "    </tr>\n",
       "    <tr>\n",
       "      <th rowspan=\"3\" valign=\"top\">2024-02-14</th>\n",
       "      <th>schedule_only</th>\n",
       "      <th>7cc0cb1871dfd558f11a2885c145d144</th>\n",
       "      <td>371.00</td>\n",
       "    </tr>\n",
       "    <tr>\n",
       "      <th>vp_only</th>\n",
       "      <th>7cc0cb1871dfd558f11a2885c145d144</th>\n",
       "      <td>534.00</td>\n",
       "    </tr>\n",
       "    <tr>\n",
       "      <th>schedule_and_vp</th>\n",
       "      <th>7cc0cb1871dfd558f11a2885c145d144</th>\n",
       "      <td>8487.00</td>\n",
       "    </tr>\n",
       "    <tr>\n",
       "      <th rowspan=\"3\" valign=\"top\">2024-03-13</th>\n",
       "      <th>schedule_only</th>\n",
       "      <th>7cc0cb1871dfd558f11a2885c145d144</th>\n",
       "      <td>0.00</td>\n",
       "    </tr>\n",
       "    <tr>\n",
       "      <th>vp_only</th>\n",
       "      <th>7cc0cb1871dfd558f11a2885c145d144</th>\n",
       "      <td>527.00</td>\n",
       "    </tr>\n",
       "    <tr>\n",
       "      <th>schedule_and_vp</th>\n",
       "      <th>7cc0cb1871dfd558f11a2885c145d144</th>\n",
       "      <td>8826.00</td>\n",
       "    </tr>\n",
       "  </tbody>\n",
       "</table>\n",
       "</div>"
      ],
      "text/plain": [
       "                                                                 n_trips\n",
       "service_date sched_rt_category schedule_gtfs_dataset_key                \n",
       "2023-03-15   schedule_only     7cc0cb1871dfd558f11a2885c145d144     0.00\n",
       "             vp_only           7cc0cb1871dfd558f11a2885c145d144     0.00\n",
       "             schedule_and_vp   7cc0cb1871dfd558f11a2885c145d144     0.00\n",
       "2023-04-12   schedule_only     7cc0cb1871dfd558f11a2885c145d144     0.00\n",
       "             vp_only           7cc0cb1871dfd558f11a2885c145d144   570.00\n",
       "             schedule_and_vp   7cc0cb1871dfd558f11a2885c145d144  8671.00\n",
       "2023-05-17   schedule_only     7cc0cb1871dfd558f11a2885c145d144     0.00\n",
       "             vp_only           7cc0cb1871dfd558f11a2885c145d144   589.00\n",
       "             schedule_and_vp   7cc0cb1871dfd558f11a2885c145d144  8597.00\n",
       "2023-06-14   schedule_only     7cc0cb1871dfd558f11a2885c145d144     0.00\n",
       "             vp_only           7cc0cb1871dfd558f11a2885c145d144   598.00\n",
       "             schedule_and_vp   7cc0cb1871dfd558f11a2885c145d144  8726.00\n",
       "2023-07-12   schedule_only     7cc0cb1871dfd558f11a2885c145d144     0.00\n",
       "             vp_only           7cc0cb1871dfd558f11a2885c145d144   551.00\n",
       "             schedule_and_vp   7cc0cb1871dfd558f11a2885c145d144  8768.00\n",
       "2023-08-15   schedule_only     7cc0cb1871dfd558f11a2885c145d144     0.00\n",
       "             vp_only           7cc0cb1871dfd558f11a2885c145d144   529.00\n",
       "             schedule_and_vp   7cc0cb1871dfd558f11a2885c145d144  8645.00\n",
       "2023-09-13   schedule_only     7cc0cb1871dfd558f11a2885c145d144     0.00\n",
       "             vp_only           7cc0cb1871dfd558f11a2885c145d144     0.00\n",
       "             schedule_and_vp   7cc0cb1871dfd558f11a2885c145d144     0.00\n",
       "2023-10-11   schedule_only     7cc0cb1871dfd558f11a2885c145d144     0.00\n",
       "             vp_only           7cc0cb1871dfd558f11a2885c145d144   538.00\n",
       "             schedule_and_vp   7cc0cb1871dfd558f11a2885c145d144  8702.00\n",
       "2023-11-15   schedule_only     7cc0cb1871dfd558f11a2885c145d144   411.00\n",
       "             vp_only           7cc0cb1871dfd558f11a2885c145d144   516.00\n",
       "             schedule_and_vp   7cc0cb1871dfd558f11a2885c145d144  8283.00\n",
       "2023-12-13   schedule_only     7cc0cb1871dfd558f11a2885c145d144     0.00\n",
       "             vp_only           7cc0cb1871dfd558f11a2885c145d144   547.00\n",
       "             schedule_and_vp   7cc0cb1871dfd558f11a2885c145d144  8859.00\n",
       "2024-01-17   schedule_only     7cc0cb1871dfd558f11a2885c145d144     0.00\n",
       "             vp_only           7cc0cb1871dfd558f11a2885c145d144   563.00\n",
       "             schedule_and_vp   7cc0cb1871dfd558f11a2885c145d144  8670.00\n",
       "2024-02-14   schedule_only     7cc0cb1871dfd558f11a2885c145d144   371.00\n",
       "             vp_only           7cc0cb1871dfd558f11a2885c145d144   534.00\n",
       "             schedule_and_vp   7cc0cb1871dfd558f11a2885c145d144  8487.00\n",
       "2024-03-13   schedule_only     7cc0cb1871dfd558f11a2885c145d144     0.00\n",
       "             vp_only           7cc0cb1871dfd558f11a2885c145d144   527.00\n",
       "             schedule_and_vp   7cc0cb1871dfd558f11a2885c145d144  8826.00"
      ]
     },
     "execution_count": 187,
     "metadata": {},
     "output_type": "execute_result"
    }
   ],
   "source": [
    "op_schd_rt_category_df.loc[op_schd_rt_category_df.schedule_gtfs_dataset_key ==  '7cc0cb1871dfd558f11a2885c145d144'].groupby(['service_date','sched_rt_category','schedule_gtfs_dataset_key']).agg({'n_trips':'max'})"
   ]
  },
  {
   "cell_type": "markdown",
   "id": "e98352a1-48dd-48ef-9091-f1d8f0b156b1",
   "metadata": {},
   "source": [
    "## digest/schedule_vp_metrics"
   ]
  },
  {
   "cell_type": "code",
   "execution_count": 188,
   "id": "84ec1c77-88e3-4c7b-9a02-72cb96579783",
   "metadata": {},
   "outputs": [],
   "source": [
    "schd_vp_url = f\"{GTFS_DATA_DICT.digest_tables.dir}{GTFS_DATA_DICT.digest_tables.route_schedule_vp}.parquet\""
   ]
  },
  {
   "cell_type": "code",
   "execution_count": 189,
   "id": "7488f3da-180b-4bdb-8799-42fb4e0dc57f",
   "metadata": {},
   "outputs": [],
   "source": [
    "schd_vp__df = pd.read_parquet(schd_vp_url, filters=[[(\"name\", \"==\", name)]])"
   ]
  },
  {
   "cell_type": "code",
   "execution_count": 190,
   "id": "5e5af3d4-93fa-429b-9b23-004fa76e97ac",
   "metadata": {},
   "outputs": [
    {
     "data": {
      "text/html": [
       "<div>\n",
       "<style scoped>\n",
       "    .dataframe tbody tr th:only-of-type {\n",
       "        vertical-align: middle;\n",
       "    }\n",
       "\n",
       "    .dataframe tbody tr th {\n",
       "        vertical-align: top;\n",
       "    }\n",
       "\n",
       "    .dataframe thead th {\n",
       "        text-align: right;\n",
       "    }\n",
       "</style>\n",
       "<table border=\"1\" class=\"dataframe\">\n",
       "  <thead>\n",
       "    <tr style=\"text-align: right;\">\n",
       "      <th></th>\n",
       "      <th>schedule_gtfs_dataset_key</th>\n",
       "      <th>direction_id</th>\n",
       "      <th>time_period</th>\n",
       "      <th>avg_scheduled_service_minutes</th>\n",
       "      <th>avg_stop_miles</th>\n",
       "      <th>n_scheduled_trips</th>\n",
       "      <th>frequency</th>\n",
       "      <th>road_freq_category</th>\n",
       "      <th>road_typology</th>\n",
       "      <th>pct_typology</th>\n",
       "      <th>service_date</th>\n",
       "      <th>minutes_atleast1_vp</th>\n",
       "      <th>minutes_atleast2_vp</th>\n",
       "      <th>total_rt_service_minutes</th>\n",
       "      <th>total_scheduled_service_minutes</th>\n",
       "      <th>total_vp</th>\n",
       "      <th>vp_in_shape</th>\n",
       "      <th>is_early</th>\n",
       "      <th>is_ontime</th>\n",
       "      <th>is_late</th>\n",
       "      <th>n_vp_trips</th>\n",
       "      <th>vp_per_minute</th>\n",
       "      <th>pct_in_shape</th>\n",
       "      <th>pct_rt_journey_atleast1_vp</th>\n",
       "      <th>pct_rt_journey_atleast2_vp</th>\n",
       "      <th>pct_sched_journey_atleast1_vp</th>\n",
       "      <th>pct_sched_journey_atleast2_vp</th>\n",
       "      <th>rt_sched_journey_ratio</th>\n",
       "      <th>avg_rt_service_minutes</th>\n",
       "      <th>sched_rt_category</th>\n",
       "      <th>speed_mph</th>\n",
       "      <th>name</th>\n",
       "      <th>route_long_name</th>\n",
       "      <th>route_short_name</th>\n",
       "      <th>route_combined_name</th>\n",
       "      <th>route_id</th>\n",
       "      <th>schedule_source_record_id</th>\n",
       "      <th>base64_url</th>\n",
       "      <th>organization_source_record_id</th>\n",
       "      <th>organization_name</th>\n",
       "      <th>caltrans_district</th>\n",
       "    </tr>\n",
       "  </thead>\n",
       "  <tbody>\n",
       "    <tr>\n",
       "      <th>14844</th>\n",
       "      <td>239f3baf3dd3b9e9464f66a777f9897d</td>\n",
       "      <td>0.00</td>\n",
       "      <td>all_day</td>\n",
       "      <td>15.00</td>\n",
       "      <td>0.18</td>\n",
       "      <td>54</td>\n",
       "      <td>2.25</td>\n",
       "      <td>very_high</td>\n",
       "      <td>downtown_local</td>\n",
       "      <td>0.44</td>\n",
       "      <td>2023-09-13</td>\n",
       "      <td>863</td>\n",
       "      <td>258</td>\n",
       "      <td>900.19</td>\n",
       "      <td>795.00</td>\n",
       "      <td>1136</td>\n",
       "      <td>925</td>\n",
       "      <td>0</td>\n",
       "      <td>45</td>\n",
       "      <td>8</td>\n",
       "      <td>53</td>\n",
       "      <td>1.26</td>\n",
       "      <td>0.81</td>\n",
       "      <td>0.96</td>\n",
       "      <td>0.29</td>\n",
       "      <td>1.00</td>\n",
       "      <td>0.33</td>\n",
       "      <td>1.13</td>\n",
       "      <td>16.98</td>\n",
       "      <td>schedule_and_vp</td>\n",
       "      <td>8.92</td>\n",
       "      <td>SBMTD Schedule</td>\n",
       "      <td>West Santa Barbara</td>\n",
       "      <td>1</td>\n",
       "      <td>1 West Santa Barbara</td>\n",
       "      <td>1</td>\n",
       "      <td>rectQfIeiKDBeJSAV</td>\n",
       "      <td>aHR0cHM6Ly9zYm10ZC5nb3YvZ29vZ2xlX3RyYW5zaXQvZmVlZC56aXA=</td>\n",
       "      <td>recswCrw6a6htmXJ4</td>\n",
       "      <td>Santa Barbara Metropolitan Transit District</td>\n",
       "      <td>05 - San Luis Obispo</td>\n",
       "    </tr>\n",
       "    <tr>\n",
       "      <th>14845</th>\n",
       "      <td>239f3baf3dd3b9e9464f66a777f9897d</td>\n",
       "      <td>0.00</td>\n",
       "      <td>all_day</td>\n",
       "      <td>15.00</td>\n",
       "      <td>0.18</td>\n",
       "      <td>54</td>\n",
       "      <td>2.25</td>\n",
       "      <td>very_high</td>\n",
       "      <td>downtown_local</td>\n",
       "      <td>0.44</td>\n",
       "      <td>2023-10-11</td>\n",
       "      <td>839</td>\n",
       "      <td>242</td>\n",
       "      <td>945.11</td>\n",
       "      <td>735.00</td>\n",
       "      <td>1093</td>\n",
       "      <td>848</td>\n",
       "      <td>0</td>\n",
       "      <td>38</td>\n",
       "      <td>11</td>\n",
       "      <td>49</td>\n",
       "      <td>1.16</td>\n",
       "      <td>0.78</td>\n",
       "      <td>0.89</td>\n",
       "      <td>0.26</td>\n",
       "      <td>1.00</td>\n",
       "      <td>0.33</td>\n",
       "      <td>1.29</td>\n",
       "      <td>19.29</td>\n",
       "      <td>schedule_and_vp</td>\n",
       "      <td>4.23</td>\n",
       "      <td>SBMTD Schedule</td>\n",
       "      <td>West Santa Barbara</td>\n",
       "      <td>1</td>\n",
       "      <td>1 West Santa Barbara</td>\n",
       "      <td>1</td>\n",
       "      <td>rectQfIeiKDBeJSAV</td>\n",
       "      <td>aHR0cHM6Ly9zYm10ZC5nb3YvZ29vZ2xlX3RyYW5zaXQvZmVlZC56aXA=</td>\n",
       "      <td>recswCrw6a6htmXJ4</td>\n",
       "      <td>Santa Barbara Metropolitan Transit District</td>\n",
       "      <td>05 - San Luis Obispo</td>\n",
       "    </tr>\n",
       "  </tbody>\n",
       "</table>\n",
       "</div>"
      ],
      "text/plain": [
       "              schedule_gtfs_dataset_key  direction_id time_period  \\\n",
       "14844  239f3baf3dd3b9e9464f66a777f9897d          0.00     all_day   \n",
       "14845  239f3baf3dd3b9e9464f66a777f9897d          0.00     all_day   \n",
       "\n",
       "       avg_scheduled_service_minutes  avg_stop_miles  n_scheduled_trips  \\\n",
       "14844                          15.00            0.18                 54   \n",
       "14845                          15.00            0.18                 54   \n",
       "\n",
       "       frequency road_freq_category   road_typology  pct_typology  \\\n",
       "14844       2.25          very_high  downtown_local          0.44   \n",
       "14845       2.25          very_high  downtown_local          0.44   \n",
       "\n",
       "      service_date  minutes_atleast1_vp  minutes_atleast2_vp  \\\n",
       "14844   2023-09-13                  863                  258   \n",
       "14845   2023-10-11                  839                  242   \n",
       "\n",
       "       total_rt_service_minutes  total_scheduled_service_minutes  total_vp  \\\n",
       "14844                    900.19                           795.00      1136   \n",
       "14845                    945.11                           735.00      1093   \n",
       "\n",
       "       vp_in_shape  is_early  is_ontime  is_late  n_vp_trips  vp_per_minute  \\\n",
       "14844          925         0         45        8          53           1.26   \n",
       "14845          848         0         38       11          49           1.16   \n",
       "\n",
       "       pct_in_shape  pct_rt_journey_atleast1_vp  pct_rt_journey_atleast2_vp  \\\n",
       "14844          0.81                        0.96                        0.29   \n",
       "14845          0.78                        0.89                        0.26   \n",
       "\n",
       "       pct_sched_journey_atleast1_vp  pct_sched_journey_atleast2_vp  \\\n",
       "14844                           1.00                           0.33   \n",
       "14845                           1.00                           0.33   \n",
       "\n",
       "       rt_sched_journey_ratio  avg_rt_service_minutes sched_rt_category  \\\n",
       "14844                    1.13                   16.98   schedule_and_vp   \n",
       "14845                    1.29                   19.29   schedule_and_vp   \n",
       "\n",
       "       speed_mph            name     route_long_name route_short_name  \\\n",
       "14844       8.92  SBMTD Schedule  West Santa Barbara                1   \n",
       "14845       4.23  SBMTD Schedule  West Santa Barbara                1   \n",
       "\n",
       "        route_combined_name route_id schedule_source_record_id  \\\n",
       "14844  1 West Santa Barbara        1         rectQfIeiKDBeJSAV   \n",
       "14845  1 West Santa Barbara        1         rectQfIeiKDBeJSAV   \n",
       "\n",
       "                                                     base64_url  \\\n",
       "14844  aHR0cHM6Ly9zYm10ZC5nb3YvZ29vZ2xlX3RyYW5zaXQvZmVlZC56aXA=   \n",
       "14845  aHR0cHM6Ly9zYm10ZC5nb3YvZ29vZ2xlX3RyYW5zaXQvZmVlZC56aXA=   \n",
       "\n",
       "      organization_source_record_id  \\\n",
       "14844             recswCrw6a6htmXJ4   \n",
       "14845             recswCrw6a6htmXJ4   \n",
       "\n",
       "                                 organization_name     caltrans_district  \n",
       "14844  Santa Barbara Metropolitan Transit District  05 - San Luis Obispo  \n",
       "14845  Santa Barbara Metropolitan Transit District  05 - San Luis Obispo  "
      ]
     },
     "execution_count": 190,
     "metadata": {},
     "output_type": "execute_result"
    }
   ],
   "source": [
    "schd_vp__df.head(2)"
   ]
  },
  {
   "cell_type": "markdown",
   "id": "0509b47e-5598-4f53-a5dc-b2154f6dc49d",
   "metadata": {},
   "source": [
    "##"
   ]
  }
 ],
 "metadata": {
  "kernelspec": {
   "display_name": "Python 3 (ipykernel)",
   "language": "python",
   "name": "python3"
  },
  "language_info": {
   "codemirror_mode": {
    "name": "ipython",
    "version": 3
   },
   "file_extension": ".py",
   "mimetype": "text/x-python",
   "name": "python",
   "nbconvert_exporter": "python",
   "pygments_lexer": "ipython3",
   "version": "3.9.13"
  }
 },
 "nbformat": 4,
 "nbformat_minor": 5
}
