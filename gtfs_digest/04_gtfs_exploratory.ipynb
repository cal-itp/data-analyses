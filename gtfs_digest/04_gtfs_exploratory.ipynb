{
 "cells": [
  {
   "cell_type": "markdown",
   "id": "0e10f7ca-6b49-46e9-97c6-5a2b0cad722f",
   "metadata": {},
   "source": [
    "## Planning out what to do with each data source\n",
    "* cd rt_segment_speeds && pip install altair_transform && pip install -r requirements.txt && cd ../_shared_utils && make setup_env"
   ]
  },
  {
   "cell_type": "code",
   "execution_count": 124,
   "id": "13de9193-e486-4a59-bfb6-4226bdcf7b13",
   "metadata": {},
   "outputs": [],
   "source": [
    "import _report_utils\n",
    "import altair as alt\n",
    "import calitp_data_analysis.magics\n",
    "import geopandas as gpd\n",
    "import great_tables as gt\n",
    "import pandas as pd\n",
    "from calitp_data_analysis import calitp_color_palette as cp\n",
    "from great_tables import md\n",
    "from IPython.display import HTML, Markdown, display\n",
    "from segment_speed_utils.project_vars import RT_SCHED_GCS\n",
    "from shared_utils import catalog_utils, rt_dates, rt_utils\n",
    "\n",
    "alt.renderers.enable(\"html\")\n",
    "alt.data_transformers.enable(\"default\", max_rows=None)\n",
    "from typing import List, Union"
   ]
  },
  {
   "cell_type": "code",
   "execution_count": 125,
   "id": "6405a464-e831-4df1-815d-53d13ee89fb7",
   "metadata": {},
   "outputs": [],
   "source": [
    "pd.options.display.max_columns = 100\n",
    "pd.options.display.float_format = \"{:.2f}\".format\n",
    "pd.set_option(\"display.max_rows\", None)\n",
    "pd.set_option(\"display.max_colwidth\", None)"
   ]
  },
  {
   "cell_type": "code",
   "execution_count": 126,
   "id": "66f35b7d-787d-4e0c-91a3-b1974f0f1232",
   "metadata": {},
   "outputs": [],
   "source": [
    "name = \"SBMTD Schedule\""
   ]
  },
  {
   "cell_type": "code",
   "execution_count": 127,
   "id": "f945e34e-ff27-48e9-bf3a-9fee990217df",
   "metadata": {},
   "outputs": [],
   "source": [
    "selected_date = pd.to_datetime(rt_dates.DATES[\"mar2024\"])"
   ]
  },
  {
   "cell_type": "code",
   "execution_count": 128,
   "id": "7de2bb6e-03f6-44ed-824e-fa1382858206",
   "metadata": {},
   "outputs": [
    {
     "data": {
      "text/plain": [
       "Timestamp('2024-03-13 00:00:00')"
      ]
     },
     "execution_count": 128,
     "metadata": {},
     "output_type": "execute_result"
    }
   ],
   "source": [
    "selected_date"
   ]
  },
  {
   "cell_type": "code",
   "execution_count": 129,
   "id": "d156bbf6-bd82-4583-8352-144f91abaf98",
   "metadata": {},
   "outputs": [],
   "source": [
    "year = selected_date.year"
   ]
  },
  {
   "cell_type": "code",
   "execution_count": 130,
   "id": "e5d298e1-c369-46f6-8f99-b067e37a8bac",
   "metadata": {},
   "outputs": [],
   "source": [
    "GTFS_DATA_DICT = catalog_utils.get_catalog(\"gtfs_analytics_data\")"
   ]
  },
  {
   "cell_type": "markdown",
   "id": "724cec3d-fbba-433a-8b51-5acd764e0a0a",
   "metadata": {
    "tags": []
   },
   "source": [
    "## 1 digest/operator_profiles \n",
    "* part of Section 1: Operator Profiles\n",
    "* digest/operator_profiles\n",
    "* This can be the first thing people see, using the data from the latest month"
   ]
  },
  {
   "cell_type": "code",
   "execution_count": 131,
   "id": "638cb1a2-81d1-49e6-808d-8f7d201916b6",
   "metadata": {},
   "outputs": [],
   "source": [
    "op_profiles_url = f\"{GTFS_DATA_DICT.digest_tables.dir}{GTFS_DATA_DICT.digest_tables.operator_profiles}.parquet\""
   ]
  },
  {
   "cell_type": "code",
   "execution_count": 132,
   "id": "eb7590c0-6bf1-4f10-9318-aa68140472c7",
   "metadata": {},
   "outputs": [],
   "source": [
    "op_profiles_df = pd.read_parquet(\n",
    "    op_profiles_url)"
   ]
  },
  {
   "cell_type": "code",
   "execution_count": 134,
   "id": "f03869e5-418a-4b2f-b53a-80f48a867b29",
   "metadata": {},
   "outputs": [
    {
     "data": {
      "text/html": [
       "<div>\n",
       "<style scoped>\n",
       "    .dataframe tbody tr th:only-of-type {\n",
       "        vertical-align: middle;\n",
       "    }\n",
       "\n",
       "    .dataframe tbody tr th {\n",
       "        vertical-align: top;\n",
       "    }\n",
       "\n",
       "    .dataframe thead th {\n",
       "        text-align: right;\n",
       "    }\n",
       "</style>\n",
       "<table border=\"1\" class=\"dataframe\">\n",
       "  <thead>\n",
       "    <tr style=\"text-align: right;\">\n",
       "      <th></th>\n",
       "      <th>schedule_gtfs_dataset_key</th>\n",
       "      <th>operator_n_routes</th>\n",
       "      <th>operator_n_trips</th>\n",
       "      <th>operator_n_shapes</th>\n",
       "      <th>operator_n_stops</th>\n",
       "      <th>operator_n_arrivals</th>\n",
       "      <th>operator_route_length_miles</th>\n",
       "      <th>operator_arrivals_per_stop</th>\n",
       "      <th>n_coverage_routes</th>\n",
       "      <th>n_downtown_local_routes</th>\n",
       "      <th>n_local_routes</th>\n",
       "      <th>n_rapid_routes</th>\n",
       "      <th>name</th>\n",
       "      <th>organization_source_record_id</th>\n",
       "      <th>organization_name</th>\n",
       "      <th>service_date</th>\n",
       "    </tr>\n",
       "  </thead>\n",
       "  <tbody>\n",
       "    <tr>\n",
       "      <th>1183</th>\n",
       "      <td>a73dea57836841cc1dfaa02585424deb</td>\n",
       "      <td>13</td>\n",
       "      <td>154</td>\n",
       "      <td>43</td>\n",
       "      <td>288</td>\n",
       "      <td>3832</td>\n",
       "      <td>301.89</td>\n",
       "      <td>13.31</td>\n",
       "      <td>8</td>\n",
       "      <td>0</td>\n",
       "      <td>0</td>\n",
       "      <td>6</td>\n",
       "      <td>Humboldt Schedule</td>\n",
       "      <td>recaa3naoNR4a5RsJ</td>\n",
       "      <td>Humboldt Transit Authority</td>\n",
       "      <td>2023-03-15</td>\n",
       "    </tr>\n",
       "    <tr>\n",
       "      <th>674</th>\n",
       "      <td>6693efa56a541b6276da9b424f78a170</td>\n",
       "      <td>13</td>\n",
       "      <td>154</td>\n",
       "      <td>43</td>\n",
       "      <td>288</td>\n",
       "      <td>3832</td>\n",
       "      <td>301.89</td>\n",
       "      <td>13.31</td>\n",
       "      <td>6</td>\n",
       "      <td>0</td>\n",
       "      <td>0</td>\n",
       "      <td>4</td>\n",
       "      <td>Humboldt Schedule</td>\n",
       "      <td>rec0xQaeDukHT3ODl</td>\n",
       "      <td>Blue Lake Rancheria</td>\n",
       "      <td>2023-04-12</td>\n",
       "    </tr>\n",
       "    <tr>\n",
       "      <th>675</th>\n",
       "      <td>6693efa56a541b6276da9b424f78a170</td>\n",
       "      <td>13</td>\n",
       "      <td>154</td>\n",
       "      <td>43</td>\n",
       "      <td>299</td>\n",
       "      <td>4008</td>\n",
       "      <td>301.48</td>\n",
       "      <td>13.40</td>\n",
       "      <td>8</td>\n",
       "      <td>0</td>\n",
       "      <td>0</td>\n",
       "      <td>6</td>\n",
       "      <td>Humboldt Schedule</td>\n",
       "      <td>rec0xQaeDukHT3ODl</td>\n",
       "      <td>Blue Lake Rancheria</td>\n",
       "      <td>2023-05-17</td>\n",
       "    </tr>\n",
       "    <tr>\n",
       "      <th>676</th>\n",
       "      <td>6693efa56a541b6276da9b424f78a170</td>\n",
       "      <td>13</td>\n",
       "      <td>154</td>\n",
       "      <td>43</td>\n",
       "      <td>299</td>\n",
       "      <td>4008</td>\n",
       "      <td>301.48</td>\n",
       "      <td>13.40</td>\n",
       "      <td>6</td>\n",
       "      <td>0</td>\n",
       "      <td>0</td>\n",
       "      <td>4</td>\n",
       "      <td>Humboldt Schedule</td>\n",
       "      <td>rec0xQaeDukHT3ODl</td>\n",
       "      <td>Blue Lake Rancheria</td>\n",
       "      <td>2023-06-14</td>\n",
       "    </tr>\n",
       "    <tr>\n",
       "      <th>677</th>\n",
       "      <td>6693efa56a541b6276da9b424f78a170</td>\n",
       "      <td>13</td>\n",
       "      <td>154</td>\n",
       "      <td>43</td>\n",
       "      <td>299</td>\n",
       "      <td>4008</td>\n",
       "      <td>301.48</td>\n",
       "      <td>13.40</td>\n",
       "      <td>6</td>\n",
       "      <td>0</td>\n",
       "      <td>0</td>\n",
       "      <td>4</td>\n",
       "      <td>Humboldt Schedule</td>\n",
       "      <td>rec0xQaeDukHT3ODl</td>\n",
       "      <td>Blue Lake Rancheria</td>\n",
       "      <td>2023-07-12</td>\n",
       "    </tr>\n",
       "    <tr>\n",
       "      <th>678</th>\n",
       "      <td>6693efa56a541b6276da9b424f78a170</td>\n",
       "      <td>10</td>\n",
       "      <td>127</td>\n",
       "      <td>38</td>\n",
       "      <td>267</td>\n",
       "      <td>3498</td>\n",
       "      <td>271.81</td>\n",
       "      <td>13.10</td>\n",
       "      <td>6</td>\n",
       "      <td>0</td>\n",
       "      <td>0</td>\n",
       "      <td>2</td>\n",
       "      <td>Humboldt Schedule</td>\n",
       "      <td>rec0xQaeDukHT3ODl</td>\n",
       "      <td>Blue Lake Rancheria</td>\n",
       "      <td>2023-08-15</td>\n",
       "    </tr>\n",
       "    <tr>\n",
       "      <th>679</th>\n",
       "      <td>6693efa56a541b6276da9b424f78a170</td>\n",
       "      <td>13</td>\n",
       "      <td>158</td>\n",
       "      <td>42</td>\n",
       "      <td>300</td>\n",
       "      <td>4352</td>\n",
       "      <td>302.51</td>\n",
       "      <td>14.51</td>\n",
       "      <td>7</td>\n",
       "      <td>0</td>\n",
       "      <td>0</td>\n",
       "      <td>4</td>\n",
       "      <td>Humboldt Schedule</td>\n",
       "      <td>rec0xQaeDukHT3ODl</td>\n",
       "      <td>Blue Lake Rancheria</td>\n",
       "      <td>2023-09-13</td>\n",
       "    </tr>\n",
       "    <tr>\n",
       "      <th>1144</th>\n",
       "      <td>a253a8d7acd57657bb98050f37dd6b0f</td>\n",
       "      <td>12</td>\n",
       "      <td>148</td>\n",
       "      <td>39</td>\n",
       "      <td>284</td>\n",
       "      <td>4246</td>\n",
       "      <td>291.72</td>\n",
       "      <td>14.95</td>\n",
       "      <td>6</td>\n",
       "      <td>0</td>\n",
       "      <td>0</td>\n",
       "      <td>4</td>\n",
       "      <td>Humboldt Schedule</td>\n",
       "      <td>recaaoqEDvwhcmIVT</td>\n",
       "      <td>City of Arcata</td>\n",
       "      <td>2023-10-11</td>\n",
       "    </tr>\n",
       "    <tr>\n",
       "      <th>1145</th>\n",
       "      <td>a253a8d7acd57657bb98050f37dd6b0f</td>\n",
       "      <td>12</td>\n",
       "      <td>148</td>\n",
       "      <td>39</td>\n",
       "      <td>286</td>\n",
       "      <td>4256</td>\n",
       "      <td>293.12</td>\n",
       "      <td>14.88</td>\n",
       "      <td>6</td>\n",
       "      <td>0</td>\n",
       "      <td>0</td>\n",
       "      <td>4</td>\n",
       "      <td>Humboldt Schedule</td>\n",
       "      <td>recynxkqEoo9dJEvw</td>\n",
       "      <td>City of Eureka</td>\n",
       "      <td>2023-11-15</td>\n",
       "    </tr>\n",
       "    <tr>\n",
       "      <th>1146</th>\n",
       "      <td>a253a8d7acd57657bb98050f37dd6b0f</td>\n",
       "      <td>12</td>\n",
       "      <td>148</td>\n",
       "      <td>39</td>\n",
       "      <td>286</td>\n",
       "      <td>4256</td>\n",
       "      <td>293.12</td>\n",
       "      <td>14.88</td>\n",
       "      <td>6</td>\n",
       "      <td>0</td>\n",
       "      <td>0</td>\n",
       "      <td>4</td>\n",
       "      <td>Humboldt Schedule</td>\n",
       "      <td>recynxkqEoo9dJEvw</td>\n",
       "      <td>City of Eureka</td>\n",
       "      <td>2023-12-13</td>\n",
       "    </tr>\n",
       "    <tr>\n",
       "      <th>1147</th>\n",
       "      <td>a253a8d7acd57657bb98050f37dd6b0f</td>\n",
       "      <td>12</td>\n",
       "      <td>150</td>\n",
       "      <td>41</td>\n",
       "      <td>320</td>\n",
       "      <td>4616</td>\n",
       "      <td>432.29</td>\n",
       "      <td>14.42</td>\n",
       "      <td>7</td>\n",
       "      <td>0</td>\n",
       "      <td>0</td>\n",
       "      <td>4</td>\n",
       "      <td>Humboldt Schedule</td>\n",
       "      <td>recynxkqEoo9dJEvw</td>\n",
       "      <td>City of Eureka</td>\n",
       "      <td>2024-01-17</td>\n",
       "    </tr>\n",
       "    <tr>\n",
       "      <th>1148</th>\n",
       "      <td>a253a8d7acd57657bb98050f37dd6b0f</td>\n",
       "      <td>12</td>\n",
       "      <td>150</td>\n",
       "      <td>41</td>\n",
       "      <td>326</td>\n",
       "      <td>4662</td>\n",
       "      <td>432.36</td>\n",
       "      <td>14.30</td>\n",
       "      <td>7</td>\n",
       "      <td>0</td>\n",
       "      <td>0</td>\n",
       "      <td>4</td>\n",
       "      <td>Humboldt Schedule</td>\n",
       "      <td>recynxkqEoo9dJEvw</td>\n",
       "      <td>City of Eureka</td>\n",
       "      <td>2024-02-14</td>\n",
       "    </tr>\n",
       "    <tr>\n",
       "      <th>1149</th>\n",
       "      <td>a253a8d7acd57657bb98050f37dd6b0f</td>\n",
       "      <td>10</td>\n",
       "      <td>137</td>\n",
       "      <td>44</td>\n",
       "      <td>320</td>\n",
       "      <td>4567</td>\n",
       "      <td>410.38</td>\n",
       "      <td>14.27</td>\n",
       "      <td>5</td>\n",
       "      <td>0</td>\n",
       "      <td>0</td>\n",
       "      <td>5</td>\n",
       "      <td>Humboldt Schedule</td>\n",
       "      <td>recynxkqEoo9dJEvw</td>\n",
       "      <td>City of Eureka</td>\n",
       "      <td>2024-03-13</td>\n",
       "    </tr>\n",
       "  </tbody>\n",
       "</table>\n",
       "</div>"
      ],
      "text/plain": [
       "             schedule_gtfs_dataset_key  operator_n_routes  operator_n_trips  \\\n",
       "1183  a73dea57836841cc1dfaa02585424deb                 13               154   \n",
       "674   6693efa56a541b6276da9b424f78a170                 13               154   \n",
       "675   6693efa56a541b6276da9b424f78a170                 13               154   \n",
       "676   6693efa56a541b6276da9b424f78a170                 13               154   \n",
       "677   6693efa56a541b6276da9b424f78a170                 13               154   \n",
       "678   6693efa56a541b6276da9b424f78a170                 10               127   \n",
       "679   6693efa56a541b6276da9b424f78a170                 13               158   \n",
       "1144  a253a8d7acd57657bb98050f37dd6b0f                 12               148   \n",
       "1145  a253a8d7acd57657bb98050f37dd6b0f                 12               148   \n",
       "1146  a253a8d7acd57657bb98050f37dd6b0f                 12               148   \n",
       "1147  a253a8d7acd57657bb98050f37dd6b0f                 12               150   \n",
       "1148  a253a8d7acd57657bb98050f37dd6b0f                 12               150   \n",
       "1149  a253a8d7acd57657bb98050f37dd6b0f                 10               137   \n",
       "\n",
       "      operator_n_shapes  operator_n_stops  operator_n_arrivals  \\\n",
       "1183                 43               288                 3832   \n",
       "674                  43               288                 3832   \n",
       "675                  43               299                 4008   \n",
       "676                  43               299                 4008   \n",
       "677                  43               299                 4008   \n",
       "678                  38               267                 3498   \n",
       "679                  42               300                 4352   \n",
       "1144                 39               284                 4246   \n",
       "1145                 39               286                 4256   \n",
       "1146                 39               286                 4256   \n",
       "1147                 41               320                 4616   \n",
       "1148                 41               326                 4662   \n",
       "1149                 44               320                 4567   \n",
       "\n",
       "      operator_route_length_miles  operator_arrivals_per_stop  \\\n",
       "1183                       301.89                       13.31   \n",
       "674                        301.89                       13.31   \n",
       "675                        301.48                       13.40   \n",
       "676                        301.48                       13.40   \n",
       "677                        301.48                       13.40   \n",
       "678                        271.81                       13.10   \n",
       "679                        302.51                       14.51   \n",
       "1144                       291.72                       14.95   \n",
       "1145                       293.12                       14.88   \n",
       "1146                       293.12                       14.88   \n",
       "1147                       432.29                       14.42   \n",
       "1148                       432.36                       14.30   \n",
       "1149                       410.38                       14.27   \n",
       "\n",
       "      n_coverage_routes  n_downtown_local_routes  n_local_routes  \\\n",
       "1183                  8                        0               0   \n",
       "674                   6                        0               0   \n",
       "675                   8                        0               0   \n",
       "676                   6                        0               0   \n",
       "677                   6                        0               0   \n",
       "678                   6                        0               0   \n",
       "679                   7                        0               0   \n",
       "1144                  6                        0               0   \n",
       "1145                  6                        0               0   \n",
       "1146                  6                        0               0   \n",
       "1147                  7                        0               0   \n",
       "1148                  7                        0               0   \n",
       "1149                  5                        0               0   \n",
       "\n",
       "      n_rapid_routes               name organization_source_record_id  \\\n",
       "1183               6  Humboldt Schedule             recaa3naoNR4a5RsJ   \n",
       "674                4  Humboldt Schedule             rec0xQaeDukHT3ODl   \n",
       "675                6  Humboldt Schedule             rec0xQaeDukHT3ODl   \n",
       "676                4  Humboldt Schedule             rec0xQaeDukHT3ODl   \n",
       "677                4  Humboldt Schedule             rec0xQaeDukHT3ODl   \n",
       "678                2  Humboldt Schedule             rec0xQaeDukHT3ODl   \n",
       "679                4  Humboldt Schedule             rec0xQaeDukHT3ODl   \n",
       "1144               4  Humboldt Schedule             recaaoqEDvwhcmIVT   \n",
       "1145               4  Humboldt Schedule             recynxkqEoo9dJEvw   \n",
       "1146               4  Humboldt Schedule             recynxkqEoo9dJEvw   \n",
       "1147               4  Humboldt Schedule             recynxkqEoo9dJEvw   \n",
       "1148               4  Humboldt Schedule             recynxkqEoo9dJEvw   \n",
       "1149               5  Humboldt Schedule             recynxkqEoo9dJEvw   \n",
       "\n",
       "               organization_name service_date  \n",
       "1183  Humboldt Transit Authority   2023-03-15  \n",
       "674          Blue Lake Rancheria   2023-04-12  \n",
       "675          Blue Lake Rancheria   2023-05-17  \n",
       "676          Blue Lake Rancheria   2023-06-14  \n",
       "677          Blue Lake Rancheria   2023-07-12  \n",
       "678          Blue Lake Rancheria   2023-08-15  \n",
       "679          Blue Lake Rancheria   2023-09-13  \n",
       "1144              City of Arcata   2023-10-11  \n",
       "1145              City of Eureka   2023-11-15  \n",
       "1146              City of Eureka   2023-12-13  \n",
       "1147              City of Eureka   2024-01-17  \n",
       "1148              City of Eureka   2024-02-14  \n",
       "1149              City of Eureka   2024-03-13  "
      ]
     },
     "execution_count": 134,
     "metadata": {},
     "output_type": "execute_result"
    }
   ],
   "source": [
    "op_profiles_df.loc[op_profiles_df.name == \"Humboldt Schedule\"].sort_values(by = ['service_date'])"
   ]
  },
  {
   "cell_type": "code",
   "execution_count": 12,
   "id": "ab03e9ea-dcd1-40f0-adfd-1a8ff0e65064",
   "metadata": {},
   "outputs": [],
   "source": [
    "blue_lake = op_profiles_df.loc[op_profiles_df.organization_name == 'Blue Lake Rancheria']"
   ]
  },
  {
   "cell_type": "code",
   "execution_count": 13,
   "id": "879924ff-b4df-4c1e-8d5a-05d286d7dd7c",
   "metadata": {},
   "outputs": [],
   "source": [
    "blue_lake_most_recent = blue_lake.sort_values(by = ['service_date'], ascending = False).head(1)"
   ]
  },
  {
   "cell_type": "code",
   "execution_count": 14,
   "id": "953cc03c-3768-4912-b155-f487838d1836",
   "metadata": {},
   "outputs": [
    {
     "data": {
      "text/html": [
       "<div>\n",
       "<style scoped>\n",
       "    .dataframe tbody tr th:only-of-type {\n",
       "        vertical-align: middle;\n",
       "    }\n",
       "\n",
       "    .dataframe tbody tr th {\n",
       "        vertical-align: top;\n",
       "    }\n",
       "\n",
       "    .dataframe thead th {\n",
       "        text-align: right;\n",
       "    }\n",
       "</style>\n",
       "<table border=\"1\" class=\"dataframe\">\n",
       "  <thead>\n",
       "    <tr style=\"text-align: right;\">\n",
       "      <th></th>\n",
       "      <th>schedule_gtfs_dataset_key</th>\n",
       "      <th>operator_n_routes</th>\n",
       "      <th>operator_n_trips</th>\n",
       "      <th>operator_n_shapes</th>\n",
       "      <th>operator_n_stops</th>\n",
       "      <th>operator_n_arrivals</th>\n",
       "      <th>operator_route_length_miles</th>\n",
       "      <th>operator_arrivals_per_stop</th>\n",
       "      <th>n_coverage_routes</th>\n",
       "      <th>n_downtown_local_routes</th>\n",
       "      <th>n_local_routes</th>\n",
       "      <th>n_rapid_routes</th>\n",
       "      <th>name</th>\n",
       "      <th>organization_source_record_id</th>\n",
       "      <th>organization_name</th>\n",
       "      <th>service_date</th>\n",
       "    </tr>\n",
       "  </thead>\n",
       "  <tbody>\n",
       "    <tr>\n",
       "      <th>679</th>\n",
       "      <td>6693efa56a541b6276da9b424f78a170</td>\n",
       "      <td>13</td>\n",
       "      <td>158</td>\n",
       "      <td>42</td>\n",
       "      <td>300</td>\n",
       "      <td>4352</td>\n",
       "      <td>302.51</td>\n",
       "      <td>14.51</td>\n",
       "      <td>7</td>\n",
       "      <td>0</td>\n",
       "      <td>0</td>\n",
       "      <td>4</td>\n",
       "      <td>Humboldt Schedule</td>\n",
       "      <td>rec0xQaeDukHT3ODl</td>\n",
       "      <td>Blue Lake Rancheria</td>\n",
       "      <td>2023-09-13</td>\n",
       "    </tr>\n",
       "  </tbody>\n",
       "</table>\n",
       "</div>"
      ],
      "text/plain": [
       "            schedule_gtfs_dataset_key  operator_n_routes  operator_n_trips  \\\n",
       "679  6693efa56a541b6276da9b424f78a170                 13               158   \n",
       "\n",
       "     operator_n_shapes  operator_n_stops  operator_n_arrivals  \\\n",
       "679                 42               300                 4352   \n",
       "\n",
       "     operator_route_length_miles  operator_arrivals_per_stop  \\\n",
       "679                       302.51                       14.51   \n",
       "\n",
       "     n_coverage_routes  n_downtown_local_routes  n_local_routes  \\\n",
       "679                  7                        0               0   \n",
       "\n",
       "     n_rapid_routes               name organization_source_record_id  \\\n",
       "679               4  Humboldt Schedule             rec0xQaeDukHT3ODl   \n",
       "\n",
       "       organization_name service_date  \n",
       "679  Blue Lake Rancheria   2023-09-13  "
      ]
     },
     "execution_count": 14,
     "metadata": {},
     "output_type": "execute_result"
    }
   ],
   "source": [
    "blue_lake_most_recent"
   ]
  },
  {
   "cell_type": "code",
   "execution_count": 15,
   "id": "bc5a2035-0280-462f-bf77-1e87c724e61d",
   "metadata": {},
   "outputs": [
    {
     "data": {
      "text/plain": [
       "numpy.datetime64('2023-09-13T00:00:00.000000000')"
      ]
     },
     "execution_count": 15,
     "metadata": {},
     "output_type": "execute_result"
    }
   ],
   "source": [
    "blue_lake_most_recent.service_date.values[0]"
   ]
  },
  {
   "cell_type": "code",
   "execution_count": 56,
   "id": "f70303c7-9fdb-41ba-8e39-2f2c87d5d364",
   "metadata": {},
   "outputs": [
    {
     "data": {
      "text/plain": [
       "['n_coverage_routes',\n",
       " 'n_downtown_local_routes',\n",
       " 'n_local_routes',\n",
       " 'n_rapid_routes',\n",
       " 'name',\n",
       " 'operator_arrivals_per_stop',\n",
       " 'operator_n_arrivals',\n",
       " 'operator_n_routes',\n",
       " 'operator_n_shapes',\n",
       " 'operator_n_stops',\n",
       " 'operator_n_trips',\n",
       " 'operator_route_length_miles',\n",
       " 'organization_name',\n",
       " 'organization_source_record_id',\n",
       " 'schedule_gtfs_dataset_key',\n",
       " 'service_date']"
      ]
     },
     "execution_count": 56,
     "metadata": {},
     "output_type": "execute_result"
    }
   ],
   "source": [
    "sorted(list(blue_lake_most_recent.columns))"
   ]
  },
  {
   "cell_type": "markdown",
   "id": "1cf8d4bc-e48b-4472-916c-95b4f822b323",
   "metadata": {},
   "source": [
    "### Show off number of routes and breakdown\n",
    "* Maybe use a pie chart with a big title? \n",
    "* last three columns don't add up to 36?\n",
    "* What does n_coverage_routes mean?"
   ]
  },
  {
   "cell_type": "markdown",
   "id": "e993b9e3-8128-47d6-a5b4-b1c783e8072d",
   "metadata": {},
   "source": [
    "### number of stops served, total stop arrivals, arrivals per stop"
   ]
  },
  {
   "cell_type": "code",
   "execution_count": 20,
   "id": "bd457e5b-5d9b-4d77-b5d7-2e90a6c9f934",
   "metadata": {},
   "outputs": [
    {
     "data": {
      "text/plain": [
       "'Operator SBMTD Schedule provided 79.5 miles of public transit.'"
      ]
     },
     "execution_count": 20,
     "metadata": {},
     "output_type": "execute_result"
    }
   ],
   "source": [
    "f\"Operator {name} provided {op_profiles_df.operator_route_length_miles.values[0]} miles of public transit.\""
   ]
  },
  {
   "cell_type": "code",
   "execution_count": 22,
   "id": "644e860b-7174-4aaf-aca3-a0030a2c8e62",
   "metadata": {},
   "outputs": [
    {
     "data": {
      "text/plain": [
       "(1815, 16)"
      ]
     },
     "execution_count": 22,
     "metadata": {},
     "output_type": "execute_result"
    }
   ],
   "source": [
    "op_profiles_df.shape"
   ]
  },
  {
   "cell_type": "code",
   "execution_count": 23,
   "id": "1662f560-3a2b-4ffe-afc2-8b48d96a0e8c",
   "metadata": {},
   "outputs": [
    {
     "data": {
      "text/plain": [
       "'This operator serves 159 different stops and each stop received  23.72 visits this last month, totaling to 3771 arrivals'"
      ]
     },
     "execution_count": 23,
     "metadata": {},
     "output_type": "execute_result"
    }
   ],
   "source": [
    "f\"This operator serves {op_profiles_df.operator_n_stops.values[0]} different stops and each stop received  {op_profiles_df.operator_arrivals_per_stop.values[0]} visits this last month, totaling to {op_profiles_df.operator_n_arrivals.values[0]} arrivals\""
   ]
  },
  {
   "cell_type": "markdown",
   "id": "81bca019-c3dd-4c44-878f-b0eb6d62964e",
   "metadata": {},
   "source": [
    "## 2 digest/operator_routes"
   ]
  },
  {
   "cell_type": "code",
   "execution_count": 24,
   "id": "1c476922-5dd1-48a5-9593-6c2f8b46ab4d",
   "metadata": {},
   "outputs": [],
   "source": [
    "op_routes_url = f\"{GTFS_DATA_DICT.digest_tables.dir}{GTFS_DATA_DICT.digest_tables.operator_routes_map}.parquet\""
   ]
  },
  {
   "cell_type": "code",
   "execution_count": 25,
   "id": "1557d7d8-7d85-48cf-9f05-2094835dd4c2",
   "metadata": {},
   "outputs": [],
   "source": [
    "op_routes_gdf = gpd.read_parquet(\n",
    "    op_routes_url,\n",
    "    filters=[[(\"name\", \"==\", name), (\"service_date\", \"==\", selected_date)]],\n",
    ")"
   ]
  },
  {
   "cell_type": "code",
   "execution_count": 26,
   "id": "bdf2c14f-cc72-4fdb-8bc9-b8c06863e8ef",
   "metadata": {},
   "outputs": [],
   "source": [
    "cols_to_drop_preview = [\n",
    "    \"shape_array_key\",\n",
    "    \"geometry\",\n",
    "    \"feed_key\",\n",
    "    \"schedule_gtfs_dataset_key\",\n",
    "    \"organization_source_record_id\",\n",
    "    \"name\",\n",
    "    \"route_id\",\n",
    "]"
   ]
  },
  {
   "cell_type": "code",
   "execution_count": 27,
   "id": "efabe1f2-fae7-4c84-9cc0-bdae2d056dd3",
   "metadata": {},
   "outputs": [
    {
     "data": {
      "text/plain": [
       "0.00    19\n",
       "1.00    17\n",
       "Name: direction_id, dtype: int64"
      ]
     },
     "execution_count": 27,
     "metadata": {},
     "output_type": "execute_result"
    }
   ],
   "source": [
    "op_routes_gdf.direction_id.value_counts()"
   ]
  },
  {
   "cell_type": "code",
   "execution_count": 28,
   "id": "d2f0e284-24d0-4651-8577-9f0fe196cb8c",
   "metadata": {},
   "outputs": [
    {
     "data": {
      "text/html": [
       "<div>\n",
       "<style scoped>\n",
       "    .dataframe tbody tr th:only-of-type {\n",
       "        vertical-align: middle;\n",
       "    }\n",
       "\n",
       "    .dataframe tbody tr th {\n",
       "        vertical-align: top;\n",
       "    }\n",
       "\n",
       "    .dataframe thead th {\n",
       "        text-align: right;\n",
       "    }\n",
       "</style>\n",
       "<table border=\"1\" class=\"dataframe\">\n",
       "  <thead>\n",
       "    <tr style=\"text-align: right;\">\n",
       "      <th></th>\n",
       "      <th>direction_id</th>\n",
       "      <th>route_key</th>\n",
       "      <th>route_length</th>\n",
       "      <th>route_length_miles</th>\n",
       "      <th>organization_name</th>\n",
       "      <th>service_date</th>\n",
       "      <th>route_combined_name</th>\n",
       "    </tr>\n",
       "  </thead>\n",
       "  <tbody>\n",
       "    <tr>\n",
       "      <th>4029</th>\n",
       "      <td>0.00</td>\n",
       "      <td>5036d8d8f640c99b7b38296bc5576a02</td>\n",
       "      <td>3801.44</td>\n",
       "      <td>2.36</td>\n",
       "      <td>Santa Barbara Metropolitan Transit District</td>\n",
       "      <td>2024-03-13</td>\n",
       "      <td>1 West Santa Barbara</td>\n",
       "    </tr>\n",
       "  </tbody>\n",
       "</table>\n",
       "</div>"
      ],
      "text/plain": [
       "      direction_id                         route_key  route_length  \\\n",
       "4029          0.00  5036d8d8f640c99b7b38296bc5576a02       3801.44   \n",
       "\n",
       "      route_length_miles                            organization_name  \\\n",
       "4029                2.36  Santa Barbara Metropolitan Transit District   \n",
       "\n",
       "     service_date   route_combined_name  \n",
       "4029   2024-03-13  1 West Santa Barbara  "
      ]
     },
     "execution_count": 28,
     "metadata": {},
     "output_type": "execute_result"
    }
   ],
   "source": [
    "op_routes_gdf.loc[\n",
    "    op_routes_gdf.route_combined_name == \"1 West Santa Barbara\"\n",
    "].sort_values(by=[\"service_date\", \"direction_id\"]).drop(columns=cols_to_drop_preview)"
   ]
  },
  {
   "cell_type": "code",
   "execution_count": 29,
   "id": "5e3b8313-8cba-42bf-8896-ace7411edcff",
   "metadata": {},
   "outputs": [],
   "source": [
    "# op_routes_gdf.drop(columns = ['service_date']).explore('route_combined_name', tiles = \"CartoDB positron\")"
   ]
  },
  {
   "cell_type": "code",
   "execution_count": 57,
   "id": "b8adf1bd-9f47-461a-afa8-23cc5712e4a2",
   "metadata": {},
   "outputs": [
    {
     "data": {
      "text/plain": [
       "['direction_id',\n",
       " 'feed_key',\n",
       " 'geometry',\n",
       " 'name',\n",
       " 'organization_name',\n",
       " 'organization_source_record_id',\n",
       " 'route_combined_name',\n",
       " 'route_id',\n",
       " 'route_key',\n",
       " 'route_length',\n",
       " 'route_length_miles',\n",
       " 'schedule_gtfs_dataset_key',\n",
       " 'service_date',\n",
       " 'shape_array_key']"
      ]
     },
     "execution_count": 57,
     "metadata": {},
     "output_type": "execute_result"
    }
   ],
   "source": [
    "sorted(list(op_routes_gdf.columns))"
   ]
  },
  {
   "cell_type": "markdown",
   "id": "cb19d787-c4c0-4f38-83fc-cf1757fe37f8",
   "metadata": {},
   "source": [
    "### Add route length to Section 2 operator and/or route-direction monthly stats "
   ]
  },
  {
   "cell_type": "code",
   "execution_count": 30,
   "id": "01fccbfa-b210-482b-a185-10854bd11984",
   "metadata": {},
   "outputs": [],
   "source": [
    "no_dup_routes = (\n",
    "    op_routes_gdf.drop_duplicates(subset=[\"route_combined_name\"])\n",
    "    .drop(columns=cols_to_drop_preview)\n",
    "    .sort_values(by=[\"route_length_miles\"], ascending=False)\n",
    ")"
   ]
  },
  {
   "cell_type": "code",
   "execution_count": 31,
   "id": "c7b4bf04-40dc-4518-8c6c-7f0f828c0ad3",
   "metadata": {},
   "outputs": [
    {
     "data": {
      "text/html": [
       "<div>\n",
       "<style scoped>\n",
       "    .dataframe tbody tr th:only-of-type {\n",
       "        vertical-align: middle;\n",
       "    }\n",
       "\n",
       "    .dataframe tbody tr th {\n",
       "        vertical-align: top;\n",
       "    }\n",
       "\n",
       "    .dataframe thead th {\n",
       "        text-align: right;\n",
       "    }\n",
       "</style>\n",
       "<table border=\"1\" class=\"dataframe\">\n",
       "  <thead>\n",
       "    <tr style=\"text-align: right;\">\n",
       "      <th></th>\n",
       "      <th>direction_id</th>\n",
       "      <th>route_key</th>\n",
       "      <th>route_length</th>\n",
       "      <th>route_length_miles</th>\n",
       "      <th>organization_name</th>\n",
       "      <th>service_date</th>\n",
       "      <th>route_combined_name</th>\n",
       "    </tr>\n",
       "  </thead>\n",
       "  <tbody>\n",
       "    <tr>\n",
       "      <th>4037</th>\n",
       "      <td>1.00</td>\n",
       "      <td>954963f56efc380e7d8534695eff7b32</td>\n",
       "      <td>25614.41</td>\n",
       "      <td>15.92</td>\n",
       "      <td>Santa Barbara Metropolitan Transit District</td>\n",
       "      <td>2024-03-13</td>\n",
       "      <td>20 Carpinteria</td>\n",
       "    </tr>\n",
       "    <tr>\n",
       "      <th>4033</th>\n",
       "      <td>1.00</td>\n",
       "      <td>f50aa8320989dd70bb9eecd99c55d857</td>\n",
       "      <td>23055.55</td>\n",
       "      <td>14.33</td>\n",
       "      <td>Santa Barbara Metropolitan Transit District</td>\n",
       "      <td>2024-03-13</td>\n",
       "      <td>15X SBCC/UCSB Express</td>\n",
       "    </tr>\n",
       "    <tr>\n",
       "      <th>4030</th>\n",
       "      <td>1.00</td>\n",
       "      <td>c69fd0ca999f1e758fd6b729cabf3bbd</td>\n",
       "      <td>22823.68</td>\n",
       "      <td>14.18</td>\n",
       "      <td>Santa Barbara Metropolitan Transit District</td>\n",
       "      <td>2024-03-13</td>\n",
       "      <td>11 UCSB</td>\n",
       "    </tr>\n",
       "    <tr>\n",
       "      <th>4044</th>\n",
       "      <td>1.00</td>\n",
       "      <td>586423a90e5943518edc2bcea7de8abf</td>\n",
       "      <td>21485.82</td>\n",
       "      <td>13.35</td>\n",
       "      <td>Santa Barbara Metropolitan Transit District</td>\n",
       "      <td>2024-03-13</td>\n",
       "      <td>24X UCSB Express</td>\n",
       "    </tr>\n",
       "    <tr>\n",
       "      <th>4035</th>\n",
       "      <td>0.00</td>\n",
       "      <td>fdd4fcd898e97281dae60bf6db8933bd</td>\n",
       "      <td>21114.23</td>\n",
       "      <td>13.12</td>\n",
       "      <td>Santa Barbara Metropolitan Transit District</td>\n",
       "      <td>2024-03-13</td>\n",
       "      <td>19X Carp SBCC Express</td>\n",
       "    </tr>\n",
       "  </tbody>\n",
       "</table>\n",
       "</div>"
      ],
      "text/plain": [
       "      direction_id                         route_key  route_length  \\\n",
       "4037          1.00  954963f56efc380e7d8534695eff7b32      25614.41   \n",
       "4033          1.00  f50aa8320989dd70bb9eecd99c55d857      23055.55   \n",
       "4030          1.00  c69fd0ca999f1e758fd6b729cabf3bbd      22823.68   \n",
       "4044          1.00  586423a90e5943518edc2bcea7de8abf      21485.82   \n",
       "4035          0.00  fdd4fcd898e97281dae60bf6db8933bd      21114.23   \n",
       "\n",
       "      route_length_miles                            organization_name  \\\n",
       "4037               15.92  Santa Barbara Metropolitan Transit District   \n",
       "4033               14.33  Santa Barbara Metropolitan Transit District   \n",
       "4030               14.18  Santa Barbara Metropolitan Transit District   \n",
       "4044               13.35  Santa Barbara Metropolitan Transit District   \n",
       "4035               13.12  Santa Barbara Metropolitan Transit District   \n",
       "\n",
       "     service_date    route_combined_name  \n",
       "4037   2024-03-13         20 Carpinteria  \n",
       "4033   2024-03-13  15X SBCC/UCSB Express  \n",
       "4030   2024-03-13                11 UCSB  \n",
       "4044   2024-03-13       24X UCSB Express  \n",
       "4035   2024-03-13  19X Carp SBCC Express  "
      ]
     },
     "execution_count": 31,
     "metadata": {},
     "output_type": "execute_result"
    }
   ],
   "source": [
    "no_dup_routes.head()"
   ]
  },
  {
   "cell_type": "code",
   "execution_count": 32,
   "id": "67d60ef6-6615-4476-8d4a-074d5a8e94eb",
   "metadata": {},
   "outputs": [
    {
     "data": {
      "text/plain": [
       "True"
      ]
     },
     "execution_count": 32,
     "metadata": {},
     "output_type": "execute_result"
    }
   ],
   "source": [
    "len(no_dup_routes) == no_dup_routes.route_combined_name.nunique()"
   ]
  },
  {
   "cell_type": "markdown",
   "id": "89d35b02-f273-41f2-b6c1-42240a355818",
   "metadata": {},
   "source": [
    "### Add to section 1"
   ]
  },
  {
   "cell_type": "code",
   "execution_count": 33,
   "id": "2d5784a1-c86c-49d8-87bb-16fb5db98156",
   "metadata": {},
   "outputs": [
    {
     "data": {
      "text/plain": [
       "'The longest route SBMTD Schedule runs is 20 Carpinteria which totals to 15.92 miles.'"
      ]
     },
     "execution_count": 33,
     "metadata": {},
     "output_type": "execute_result"
    }
   ],
   "source": [
    "f\"The longest route {name} runs is {no_dup_routes.route_combined_name.values[0]} which totals to {no_dup_routes.route_length_miles.values[0]} miles.\""
   ]
  },
  {
   "cell_type": "code",
   "execution_count": 34,
   "id": "88386dce-9208-49b6-a28d-8ffe4e626c04",
   "metadata": {},
   "outputs": [
    {
     "data": {
      "text/plain": [
       "'The average length of a route is 7.05 miles.'"
      ]
     },
     "execution_count": 34,
     "metadata": {},
     "output_type": "execute_result"
    }
   ],
   "source": [
    "f\"The average length of a route is {no_dup_routes.route_length_miles.mean().round(2)} miles.\""
   ]
  },
  {
   "cell_type": "code",
   "execution_count": 35,
   "id": "ed0c440d-d233-4652-a175-064b969a5d14",
   "metadata": {},
   "outputs": [
    {
     "data": {
      "text/plain": [
       "253.84"
      ]
     },
     "execution_count": 35,
     "metadata": {},
     "output_type": "execute_result"
    }
   ],
   "source": [
    "no_dup_routes.route_length_miles.sum()"
   ]
  },
  {
   "cell_type": "code",
   "execution_count": 36,
   "id": "0da315e0-1eb5-42ee-ae62-b7ef8ab099a6",
   "metadata": {},
   "outputs": [
    {
     "data": {
      "text/plain": [
       "'SBMTD Schedule runs 36 routes'"
      ]
     },
     "execution_count": 36,
     "metadata": {},
     "output_type": "execute_result"
    }
   ],
   "source": [
    "f\"{name} runs {op_routes_gdf.route_combined_name.nunique()} routes\""
   ]
  },
  {
   "cell_type": "markdown",
   "id": "c50503c0-190c-4805-a93c-278a5090e4ad",
   "metadata": {},
   "source": [
    "## 3 monthly_scheduled_service \n",
    "* part of section 1\n",
    "* https://dbt-docs.calitp.org/#!/model/model.calitp_warehouse.fct_monthly_route_service_by_timeofday\n",
    "* Total scheduled service hours: that occurred for the route for this month, day_type, and time_of_day.\n",
    "    * That means I want to just take the max of the total scheduled service hours after grouping."
   ]
  },
  {
   "cell_type": "code",
   "execution_count": 58,
   "id": "ed9ce8ef-8a1a-4e38-b705-8dd79e542a63",
   "metadata": {},
   "outputs": [],
   "source": [
    "monthly_schd_service_url = f\"{GTFS_DATA_DICT.schedule_tables.gcs_dir}{GTFS_DATA_DICT.schedule_tables.monthly_scheduled_service}_{year}.parquet\""
   ]
  },
  {
   "cell_type": "code",
   "execution_count": 59,
   "id": "cb8888ab-425b-43bc-92db-68d44ee0dc91",
   "metadata": {},
   "outputs": [],
   "source": [
    "monthly_scheduled_service_df = pd.read_parquet(monthly_schd_service_url)"
   ]
  },
  {
   "cell_type": "code",
   "execution_count": 60,
   "id": "9e2f04e6-533c-472b-97dd-46f714d0dcc1",
   "metadata": {},
   "outputs": [
    {
     "data": {
      "text/plain": [
       "['day_type',\n",
       " 'key',\n",
       " 'month',\n",
       " 'n_trips',\n",
       " 'name',\n",
       " 'route_id',\n",
       " 'route_long_name',\n",
       " 'route_short_name',\n",
       " 'source_record_id',\n",
       " 'time_of_day',\n",
       " 'ttl_service_hours',\n",
       " 'year']"
      ]
     },
     "execution_count": 60,
     "metadata": {},
     "output_type": "execute_result"
    }
   ],
   "source": [
    "sorted(list(monthly_scheduled_service_df.columns))"
   ]
  },
  {
   "cell_type": "markdown",
   "id": "f22b430f-a2ac-4fd8-a574-32a8fce20327",
   "metadata": {},
   "source": [
    "## 4 segment_speeds\n",
    "* Hold off on map"
   ]
  },
  {
   "cell_type": "code",
   "execution_count": 39,
   "id": "0cc51da8-02fb-4bf4-9167-fda5a4edaf9d",
   "metadata": {},
   "outputs": [],
   "source": [
    "seg_speeds_url = f\"{GTFS_DATA_DICT.digest_tables.dir}{GTFS_DATA_DICT.digest_tables.route_segment_speeds}.parquet\""
   ]
  },
  {
   "cell_type": "code",
   "execution_count": 40,
   "id": "12ea4a51-f1d0-492e-890d-8262a3f29674",
   "metadata": {},
   "outputs": [],
   "source": [
    "seg_speeds_gdf = gpd.read_parquet(\n",
    "    seg_speeds_url,\n",
    "    filters=[[(\"name\", \"==\", name), (\"service_date\", \"==\", selected_date)]],\n",
    ")"
   ]
  },
  {
   "cell_type": "code",
   "execution_count": 41,
   "id": "c14efd63-0b01-4a28-bd9e-32268f5a3d01",
   "metadata": {},
   "outputs": [],
   "source": [
    "seg_speeds_one_route = seg_speeds_gdf.loc[\n",
    "    seg_speeds_gdf.route_combined_name == \"14 Montecito\"\n",
    "]"
   ]
  },
  {
   "cell_type": "code",
   "execution_count": 42,
   "id": "ca7cfd43-8370-44b0-a6f3-5e9fc919a017",
   "metadata": {},
   "outputs": [
    {
     "data": {
      "text/plain": [
       "195"
      ]
     },
     "execution_count": 42,
     "metadata": {},
     "output_type": "execute_result"
    }
   ],
   "source": [
    "len(seg_speeds_one_route)"
   ]
  },
  {
   "cell_type": "code",
   "execution_count": 43,
   "id": "902752b9-4dec-4267-83f3-30fd1805e052",
   "metadata": {},
   "outputs": [
    {
     "data": {
      "text/plain": [
       "Index(['schedule_gtfs_dataset_key', 'direction_id', 'time_period', 'stop_pair',\n",
       "       'stop_pair_name', 'p20_mph', 'p50_mph', 'p80_mph', 'geometry',\n",
       "       'service_date', 'name', 'route_long_name', 'route_short_name',\n",
       "       'route_combined_name', 'route_id', 'is_express', 'is_rapid',\n",
       "       'is_local'],\n",
       "      dtype='object')"
      ]
     },
     "execution_count": 43,
     "metadata": {},
     "output_type": "execute_result"
    }
   ],
   "source": [
    "seg_speeds_one_route.columns"
   ]
  },
  {
   "cell_type": "code",
   "execution_count": 44,
   "id": "8aa9514b-9cee-4ae1-b942-57a89ac1b4fc",
   "metadata": {},
   "outputs": [],
   "source": [
    "# seg_speeds_one_route.drop(columns = ['service_date']).explore('p50_mph')"
   ]
  },
  {
   "cell_type": "code",
   "execution_count": 61,
   "id": "1704489b-c825-4111-a1b0-32f4080535c9",
   "metadata": {},
   "outputs": [
    {
     "data": {
      "text/plain": [
       "['direction_id',\n",
       " 'geometry',\n",
       " 'is_express',\n",
       " 'is_local',\n",
       " 'is_rapid',\n",
       " 'name',\n",
       " 'p20_mph',\n",
       " 'p50_mph',\n",
       " 'p80_mph',\n",
       " 'route_combined_name',\n",
       " 'route_id',\n",
       " 'route_long_name',\n",
       " 'route_short_name',\n",
       " 'schedule_gtfs_dataset_key',\n",
       " 'service_date',\n",
       " 'stop_pair',\n",
       " 'stop_pair_name',\n",
       " 'time_period']"
      ]
     },
     "execution_count": 61,
     "metadata": {},
     "output_type": "execute_result"
    }
   ],
   "source": [
    "sorted(list(seg_speeds_gdf.columns))"
   ]
  },
  {
   "cell_type": "code",
   "execution_count": 62,
   "id": "cbf44882-c1ed-4e86-8b7c-3321733716bd",
   "metadata": {},
   "outputs": [
    {
     "data": {
      "text/html": [
       "<div>\n",
       "<style scoped>\n",
       "    .dataframe tbody tr th:only-of-type {\n",
       "        vertical-align: middle;\n",
       "    }\n",
       "\n",
       "    .dataframe tbody tr th {\n",
       "        vertical-align: top;\n",
       "    }\n",
       "\n",
       "    .dataframe thead th {\n",
       "        text-align: right;\n",
       "    }\n",
       "</style>\n",
       "<table border=\"1\" class=\"dataframe\">\n",
       "  <thead>\n",
       "    <tr style=\"text-align: right;\">\n",
       "      <th></th>\n",
       "      <th>schedule_gtfs_dataset_key</th>\n",
       "      <th>direction_id</th>\n",
       "      <th>time_period</th>\n",
       "      <th>stop_pair</th>\n",
       "      <th>stop_pair_name</th>\n",
       "      <th>p20_mph</th>\n",
       "      <th>p50_mph</th>\n",
       "      <th>p80_mph</th>\n",
       "      <th>service_date</th>\n",
       "      <th>name</th>\n",
       "      <th>route_long_name</th>\n",
       "      <th>route_short_name</th>\n",
       "      <th>route_combined_name</th>\n",
       "      <th>route_id</th>\n",
       "      <th>is_express</th>\n",
       "      <th>is_rapid</th>\n",
       "      <th>is_local</th>\n",
       "    </tr>\n",
       "  </thead>\n",
       "  <tbody>\n",
       "    <tr>\n",
       "      <th>366088</th>\n",
       "      <td>239f3baf3dd3b9e9464f66a777f9897d</td>\n",
       "      <td>1</td>\n",
       "      <td>all_day</td>\n",
       "      <td>53__626</td>\n",
       "      <td>Hollister &amp; Turnpike__Hollister &amp; San Marcos</td>\n",
       "      <td>1.78</td>\n",
       "      <td>2.14</td>\n",
       "      <td>2.50</td>\n",
       "      <td>2024-03-13</td>\n",
       "      <td>SBMTD Schedule</td>\n",
       "      <td>Goleta</td>\n",
       "      <td>6</td>\n",
       "      <td>6 Goleta</td>\n",
       "      <td>6</td>\n",
       "      <td>0</td>\n",
       "      <td>0</td>\n",
       "      <td>0</td>\n",
       "    </tr>\n",
       "  </tbody>\n",
       "</table>\n",
       "</div>"
      ],
      "text/plain": [
       "               schedule_gtfs_dataset_key  direction_id time_period stop_pair  \\\n",
       "366088  239f3baf3dd3b9e9464f66a777f9897d             1     all_day   53__626   \n",
       "\n",
       "                                      stop_pair_name  p20_mph  p50_mph  \\\n",
       "366088  Hollister & Turnpike__Hollister & San Marcos     1.78     2.14   \n",
       "\n",
       "        p80_mph service_date            name route_long_name route_short_name  \\\n",
       "366088     2.50   2024-03-13  SBMTD Schedule          Goleta                6   \n",
       "\n",
       "       route_combined_name route_id  is_express  is_rapid  is_local  \n",
       "366088            6 Goleta        6           0         0         0  "
      ]
     },
     "execution_count": 62,
     "metadata": {},
     "output_type": "execute_result"
    }
   ],
   "source": [
    "seg_speeds_gdf.drop(columns = ['geometry']).sample()"
   ]
  },
  {
   "cell_type": "markdown",
   "id": "64670ffe-c7a4-45ba-8b19-33b4624b4b83",
   "metadata": {},
   "source": [
    "## 5 digest/operator_schedule_rt_category\n",
    "* How is this different then what we can find in `digest/schedule_vp_metrics`?"
   ]
  },
  {
   "cell_type": "code",
   "execution_count": 45,
   "id": "771d0eef-6caa-4746-87a2-76a3caf85560",
   "metadata": {},
   "outputs": [],
   "source": [
    "op_schd_rt_category_url = f\"{GTFS_DATA_DICT.digest_tables.dir}{GTFS_DATA_DICT.digest_tables.operator_sched_rt}.parquet\""
   ]
  },
  {
   "cell_type": "code",
   "execution_count": 46,
   "id": "90983f50-dd3a-41c7-a471-54206676e59b",
   "metadata": {},
   "outputs": [],
   "source": [
    "op_schd_rt_category_df = pd.read_parquet(op_schd_rt_category_url)"
   ]
  },
  {
   "cell_type": "code",
   "execution_count": 47,
   "id": "dd3c4a5c-b9e3-4a41-b6f0-29f8d6e549b7",
   "metadata": {},
   "outputs": [
    {
     "data": {
      "text/html": [
       "<div>\n",
       "<style scoped>\n",
       "    .dataframe tbody tr th:only-of-type {\n",
       "        vertical-align: middle;\n",
       "    }\n",
       "\n",
       "    .dataframe tbody tr th {\n",
       "        vertical-align: top;\n",
       "    }\n",
       "\n",
       "    .dataframe thead th {\n",
       "        text-align: right;\n",
       "    }\n",
       "</style>\n",
       "<table border=\"1\" class=\"dataframe\">\n",
       "  <thead>\n",
       "    <tr style=\"text-align: right;\">\n",
       "      <th></th>\n",
       "      <th>schedule_gtfs_dataset_key</th>\n",
       "      <th>service_date</th>\n",
       "      <th>sched_rt_category</th>\n",
       "      <th>n_trips</th>\n",
       "    </tr>\n",
       "  </thead>\n",
       "  <tbody>\n",
       "    <tr>\n",
       "      <th>0</th>\n",
       "      <td>014d0998350083249a9eb310635548c2</td>\n",
       "      <td>2023-03-15</td>\n",
       "      <td>schedule_only</td>\n",
       "      <td>0.00</td>\n",
       "    </tr>\n",
       "  </tbody>\n",
       "</table>\n",
       "</div>"
      ],
      "text/plain": [
       "          schedule_gtfs_dataset_key service_date sched_rt_category  n_trips\n",
       "0  014d0998350083249a9eb310635548c2   2023-03-15     schedule_only     0.00"
      ]
     },
     "execution_count": 47,
     "metadata": {},
     "output_type": "execute_result"
    }
   ],
   "source": [
    "op_schd_rt_category_df.head(1)"
   ]
  },
  {
   "cell_type": "code",
   "execution_count": 48,
   "id": "d64aac8f-738a-4b34-ae02-2d23603a2d67",
   "metadata": {},
   "outputs": [
    {
     "data": {
      "text/plain": [
       "(10608, 4)"
      ]
     },
     "execution_count": 48,
     "metadata": {},
     "output_type": "execute_result"
    }
   ],
   "source": [
    "op_schd_rt_category_df.shape"
   ]
  },
  {
   "cell_type": "code",
   "execution_count": 63,
   "id": "71ccad5c-5ca9-45b5-8daf-3872e0a1f67f",
   "metadata": {},
   "outputs": [
    {
     "data": {
      "text/plain": [
       "['n_trips', 'sched_rt_category', 'schedule_gtfs_dataset_key', 'service_date']"
      ]
     },
     "execution_count": 63,
     "metadata": {},
     "output_type": "execute_result"
    }
   ],
   "source": [
    "sorted(list(op_schd_rt_category_df.columns))"
   ]
  },
  {
   "cell_type": "code",
   "execution_count": 49,
   "id": "1b7c2d69-a911-420b-960c-63e26f6d4e15",
   "metadata": {},
   "outputs": [
    {
     "data": {
      "text/html": [
       "<div>\n",
       "<style scoped>\n",
       "    .dataframe tbody tr th:only-of-type {\n",
       "        vertical-align: middle;\n",
       "    }\n",
       "\n",
       "    .dataframe tbody tr th {\n",
       "        vertical-align: top;\n",
       "    }\n",
       "\n",
       "    .dataframe thead th {\n",
       "        text-align: right;\n",
       "    }\n",
       "</style>\n",
       "<table border=\"1\" class=\"dataframe\">\n",
       "  <thead>\n",
       "    <tr style=\"text-align: right;\">\n",
       "      <th></th>\n",
       "      <th></th>\n",
       "      <th></th>\n",
       "      <th>n_trips</th>\n",
       "    </tr>\n",
       "    <tr>\n",
       "      <th>service_date</th>\n",
       "      <th>sched_rt_category</th>\n",
       "      <th>schedule_gtfs_dataset_key</th>\n",
       "      <th></th>\n",
       "    </tr>\n",
       "  </thead>\n",
       "  <tbody>\n",
       "    <tr>\n",
       "      <th rowspan=\"3\" valign=\"top\">2023-03-15</th>\n",
       "      <th>schedule_only</th>\n",
       "      <th>7cc0cb1871dfd558f11a2885c145d144</th>\n",
       "      <td>0.00</td>\n",
       "    </tr>\n",
       "    <tr>\n",
       "      <th>vp_only</th>\n",
       "      <th>7cc0cb1871dfd558f11a2885c145d144</th>\n",
       "      <td>0.00</td>\n",
       "    </tr>\n",
       "    <tr>\n",
       "      <th>schedule_and_vp</th>\n",
       "      <th>7cc0cb1871dfd558f11a2885c145d144</th>\n",
       "      <td>0.00</td>\n",
       "    </tr>\n",
       "    <tr>\n",
       "      <th rowspan=\"3\" valign=\"top\">2023-04-12</th>\n",
       "      <th>schedule_only</th>\n",
       "      <th>7cc0cb1871dfd558f11a2885c145d144</th>\n",
       "      <td>0.00</td>\n",
       "    </tr>\n",
       "    <tr>\n",
       "      <th>vp_only</th>\n",
       "      <th>7cc0cb1871dfd558f11a2885c145d144</th>\n",
       "      <td>570.00</td>\n",
       "    </tr>\n",
       "    <tr>\n",
       "      <th>schedule_and_vp</th>\n",
       "      <th>7cc0cb1871dfd558f11a2885c145d144</th>\n",
       "      <td>8671.00</td>\n",
       "    </tr>\n",
       "    <tr>\n",
       "      <th rowspan=\"3\" valign=\"top\">2023-05-17</th>\n",
       "      <th>schedule_only</th>\n",
       "      <th>7cc0cb1871dfd558f11a2885c145d144</th>\n",
       "      <td>0.00</td>\n",
       "    </tr>\n",
       "    <tr>\n",
       "      <th>vp_only</th>\n",
       "      <th>7cc0cb1871dfd558f11a2885c145d144</th>\n",
       "      <td>589.00</td>\n",
       "    </tr>\n",
       "    <tr>\n",
       "      <th>schedule_and_vp</th>\n",
       "      <th>7cc0cb1871dfd558f11a2885c145d144</th>\n",
       "      <td>8597.00</td>\n",
       "    </tr>\n",
       "    <tr>\n",
       "      <th rowspan=\"3\" valign=\"top\">2023-06-14</th>\n",
       "      <th>schedule_only</th>\n",
       "      <th>7cc0cb1871dfd558f11a2885c145d144</th>\n",
       "      <td>0.00</td>\n",
       "    </tr>\n",
       "    <tr>\n",
       "      <th>vp_only</th>\n",
       "      <th>7cc0cb1871dfd558f11a2885c145d144</th>\n",
       "      <td>598.00</td>\n",
       "    </tr>\n",
       "    <tr>\n",
       "      <th>schedule_and_vp</th>\n",
       "      <th>7cc0cb1871dfd558f11a2885c145d144</th>\n",
       "      <td>8726.00</td>\n",
       "    </tr>\n",
       "    <tr>\n",
       "      <th rowspan=\"3\" valign=\"top\">2023-07-12</th>\n",
       "      <th>schedule_only</th>\n",
       "      <th>7cc0cb1871dfd558f11a2885c145d144</th>\n",
       "      <td>0.00</td>\n",
       "    </tr>\n",
       "    <tr>\n",
       "      <th>vp_only</th>\n",
       "      <th>7cc0cb1871dfd558f11a2885c145d144</th>\n",
       "      <td>551.00</td>\n",
       "    </tr>\n",
       "    <tr>\n",
       "      <th>schedule_and_vp</th>\n",
       "      <th>7cc0cb1871dfd558f11a2885c145d144</th>\n",
       "      <td>8768.00</td>\n",
       "    </tr>\n",
       "    <tr>\n",
       "      <th rowspan=\"3\" valign=\"top\">2023-08-15</th>\n",
       "      <th>schedule_only</th>\n",
       "      <th>7cc0cb1871dfd558f11a2885c145d144</th>\n",
       "      <td>0.00</td>\n",
       "    </tr>\n",
       "    <tr>\n",
       "      <th>vp_only</th>\n",
       "      <th>7cc0cb1871dfd558f11a2885c145d144</th>\n",
       "      <td>529.00</td>\n",
       "    </tr>\n",
       "    <tr>\n",
       "      <th>schedule_and_vp</th>\n",
       "      <th>7cc0cb1871dfd558f11a2885c145d144</th>\n",
       "      <td>8645.00</td>\n",
       "    </tr>\n",
       "    <tr>\n",
       "      <th rowspan=\"3\" valign=\"top\">2023-09-13</th>\n",
       "      <th>schedule_only</th>\n",
       "      <th>7cc0cb1871dfd558f11a2885c145d144</th>\n",
       "      <td>0.00</td>\n",
       "    </tr>\n",
       "    <tr>\n",
       "      <th>vp_only</th>\n",
       "      <th>7cc0cb1871dfd558f11a2885c145d144</th>\n",
       "      <td>0.00</td>\n",
       "    </tr>\n",
       "    <tr>\n",
       "      <th>schedule_and_vp</th>\n",
       "      <th>7cc0cb1871dfd558f11a2885c145d144</th>\n",
       "      <td>0.00</td>\n",
       "    </tr>\n",
       "    <tr>\n",
       "      <th rowspan=\"3\" valign=\"top\">2023-10-11</th>\n",
       "      <th>schedule_only</th>\n",
       "      <th>7cc0cb1871dfd558f11a2885c145d144</th>\n",
       "      <td>0.00</td>\n",
       "    </tr>\n",
       "    <tr>\n",
       "      <th>vp_only</th>\n",
       "      <th>7cc0cb1871dfd558f11a2885c145d144</th>\n",
       "      <td>538.00</td>\n",
       "    </tr>\n",
       "    <tr>\n",
       "      <th>schedule_and_vp</th>\n",
       "      <th>7cc0cb1871dfd558f11a2885c145d144</th>\n",
       "      <td>8702.00</td>\n",
       "    </tr>\n",
       "    <tr>\n",
       "      <th rowspan=\"3\" valign=\"top\">2023-11-15</th>\n",
       "      <th>schedule_only</th>\n",
       "      <th>7cc0cb1871dfd558f11a2885c145d144</th>\n",
       "      <td>411.00</td>\n",
       "    </tr>\n",
       "    <tr>\n",
       "      <th>vp_only</th>\n",
       "      <th>7cc0cb1871dfd558f11a2885c145d144</th>\n",
       "      <td>516.00</td>\n",
       "    </tr>\n",
       "    <tr>\n",
       "      <th>schedule_and_vp</th>\n",
       "      <th>7cc0cb1871dfd558f11a2885c145d144</th>\n",
       "      <td>8283.00</td>\n",
       "    </tr>\n",
       "    <tr>\n",
       "      <th rowspan=\"3\" valign=\"top\">2023-12-13</th>\n",
       "      <th>schedule_only</th>\n",
       "      <th>7cc0cb1871dfd558f11a2885c145d144</th>\n",
       "      <td>0.00</td>\n",
       "    </tr>\n",
       "    <tr>\n",
       "      <th>vp_only</th>\n",
       "      <th>7cc0cb1871dfd558f11a2885c145d144</th>\n",
       "      <td>547.00</td>\n",
       "    </tr>\n",
       "    <tr>\n",
       "      <th>schedule_and_vp</th>\n",
       "      <th>7cc0cb1871dfd558f11a2885c145d144</th>\n",
       "      <td>8859.00</td>\n",
       "    </tr>\n",
       "    <tr>\n",
       "      <th rowspan=\"3\" valign=\"top\">2024-01-17</th>\n",
       "      <th>schedule_only</th>\n",
       "      <th>7cc0cb1871dfd558f11a2885c145d144</th>\n",
       "      <td>0.00</td>\n",
       "    </tr>\n",
       "    <tr>\n",
       "      <th>vp_only</th>\n",
       "      <th>7cc0cb1871dfd558f11a2885c145d144</th>\n",
       "      <td>563.00</td>\n",
       "    </tr>\n",
       "    <tr>\n",
       "      <th>schedule_and_vp</th>\n",
       "      <th>7cc0cb1871dfd558f11a2885c145d144</th>\n",
       "      <td>8670.00</td>\n",
       "    </tr>\n",
       "    <tr>\n",
       "      <th rowspan=\"3\" valign=\"top\">2024-02-14</th>\n",
       "      <th>schedule_only</th>\n",
       "      <th>7cc0cb1871dfd558f11a2885c145d144</th>\n",
       "      <td>371.00</td>\n",
       "    </tr>\n",
       "    <tr>\n",
       "      <th>vp_only</th>\n",
       "      <th>7cc0cb1871dfd558f11a2885c145d144</th>\n",
       "      <td>534.00</td>\n",
       "    </tr>\n",
       "    <tr>\n",
       "      <th>schedule_and_vp</th>\n",
       "      <th>7cc0cb1871dfd558f11a2885c145d144</th>\n",
       "      <td>8487.00</td>\n",
       "    </tr>\n",
       "    <tr>\n",
       "      <th rowspan=\"3\" valign=\"top\">2024-03-13</th>\n",
       "      <th>schedule_only</th>\n",
       "      <th>7cc0cb1871dfd558f11a2885c145d144</th>\n",
       "      <td>0.00</td>\n",
       "    </tr>\n",
       "    <tr>\n",
       "      <th>vp_only</th>\n",
       "      <th>7cc0cb1871dfd558f11a2885c145d144</th>\n",
       "      <td>527.00</td>\n",
       "    </tr>\n",
       "    <tr>\n",
       "      <th>schedule_and_vp</th>\n",
       "      <th>7cc0cb1871dfd558f11a2885c145d144</th>\n",
       "      <td>8826.00</td>\n",
       "    </tr>\n",
       "  </tbody>\n",
       "</table>\n",
       "</div>"
      ],
      "text/plain": [
       "                                                                 n_trips\n",
       "service_date sched_rt_category schedule_gtfs_dataset_key                \n",
       "2023-03-15   schedule_only     7cc0cb1871dfd558f11a2885c145d144     0.00\n",
       "             vp_only           7cc0cb1871dfd558f11a2885c145d144     0.00\n",
       "             schedule_and_vp   7cc0cb1871dfd558f11a2885c145d144     0.00\n",
       "2023-04-12   schedule_only     7cc0cb1871dfd558f11a2885c145d144     0.00\n",
       "             vp_only           7cc0cb1871dfd558f11a2885c145d144   570.00\n",
       "             schedule_and_vp   7cc0cb1871dfd558f11a2885c145d144  8671.00\n",
       "2023-05-17   schedule_only     7cc0cb1871dfd558f11a2885c145d144     0.00\n",
       "             vp_only           7cc0cb1871dfd558f11a2885c145d144   589.00\n",
       "             schedule_and_vp   7cc0cb1871dfd558f11a2885c145d144  8597.00\n",
       "2023-06-14   schedule_only     7cc0cb1871dfd558f11a2885c145d144     0.00\n",
       "             vp_only           7cc0cb1871dfd558f11a2885c145d144   598.00\n",
       "             schedule_and_vp   7cc0cb1871dfd558f11a2885c145d144  8726.00\n",
       "2023-07-12   schedule_only     7cc0cb1871dfd558f11a2885c145d144     0.00\n",
       "             vp_only           7cc0cb1871dfd558f11a2885c145d144   551.00\n",
       "             schedule_and_vp   7cc0cb1871dfd558f11a2885c145d144  8768.00\n",
       "2023-08-15   schedule_only     7cc0cb1871dfd558f11a2885c145d144     0.00\n",
       "             vp_only           7cc0cb1871dfd558f11a2885c145d144   529.00\n",
       "             schedule_and_vp   7cc0cb1871dfd558f11a2885c145d144  8645.00\n",
       "2023-09-13   schedule_only     7cc0cb1871dfd558f11a2885c145d144     0.00\n",
       "             vp_only           7cc0cb1871dfd558f11a2885c145d144     0.00\n",
       "             schedule_and_vp   7cc0cb1871dfd558f11a2885c145d144     0.00\n",
       "2023-10-11   schedule_only     7cc0cb1871dfd558f11a2885c145d144     0.00\n",
       "             vp_only           7cc0cb1871dfd558f11a2885c145d144   538.00\n",
       "             schedule_and_vp   7cc0cb1871dfd558f11a2885c145d144  8702.00\n",
       "2023-11-15   schedule_only     7cc0cb1871dfd558f11a2885c145d144   411.00\n",
       "             vp_only           7cc0cb1871dfd558f11a2885c145d144   516.00\n",
       "             schedule_and_vp   7cc0cb1871dfd558f11a2885c145d144  8283.00\n",
       "2023-12-13   schedule_only     7cc0cb1871dfd558f11a2885c145d144     0.00\n",
       "             vp_only           7cc0cb1871dfd558f11a2885c145d144   547.00\n",
       "             schedule_and_vp   7cc0cb1871dfd558f11a2885c145d144  8859.00\n",
       "2024-01-17   schedule_only     7cc0cb1871dfd558f11a2885c145d144     0.00\n",
       "             vp_only           7cc0cb1871dfd558f11a2885c145d144   563.00\n",
       "             schedule_and_vp   7cc0cb1871dfd558f11a2885c145d144  8670.00\n",
       "2024-02-14   schedule_only     7cc0cb1871dfd558f11a2885c145d144   371.00\n",
       "             vp_only           7cc0cb1871dfd558f11a2885c145d144   534.00\n",
       "             schedule_and_vp   7cc0cb1871dfd558f11a2885c145d144  8487.00\n",
       "2024-03-13   schedule_only     7cc0cb1871dfd558f11a2885c145d144     0.00\n",
       "             vp_only           7cc0cb1871dfd558f11a2885c145d144   527.00\n",
       "             schedule_and_vp   7cc0cb1871dfd558f11a2885c145d144  8826.00"
      ]
     },
     "execution_count": 49,
     "metadata": {},
     "output_type": "execute_result"
    }
   ],
   "source": [
    "op_schd_rt_category_df.loc[\n",
    "    op_schd_rt_category_df.schedule_gtfs_dataset_key\n",
    "    == \"7cc0cb1871dfd558f11a2885c145d144\"\n",
    "].groupby([\"service_date\", \"sched_rt_category\", \"schedule_gtfs_dataset_key\"]).agg(\n",
    "    {\"n_trips\": \"max\"}\n",
    ")"
   ]
  },
  {
   "cell_type": "markdown",
   "id": "e98352a1-48dd-48ef-9091-f1d8f0b156b1",
   "metadata": {},
   "source": [
    "## 6 digest/schedule_vp_metrics"
   ]
  },
  {
   "cell_type": "code",
   "execution_count": 50,
   "id": "84ec1c77-88e3-4c7b-9a02-72cb96579783",
   "metadata": {},
   "outputs": [],
   "source": [
    "schd_vp_url = f\"{GTFS_DATA_DICT.digest_tables.dir}{GTFS_DATA_DICT.digest_tables.route_schedule_vp}.parquet\""
   ]
  },
  {
   "cell_type": "code",
   "execution_count": 51,
   "id": "7488f3da-180b-4bdb-8799-42fb4e0dc57f",
   "metadata": {},
   "outputs": [],
   "source": [
    "schd_vp__df = pd.read_parquet(schd_vp_url, filters=[[(\"name\", \"==\", name)]])"
   ]
  },
  {
   "cell_type": "code",
   "execution_count": 52,
   "id": "5e5af3d4-93fa-429b-9b23-004fa76e97ac",
   "metadata": {},
   "outputs": [
    {
     "data": {
      "text/html": [
       "<div>\n",
       "<style scoped>\n",
       "    .dataframe tbody tr th:only-of-type {\n",
       "        vertical-align: middle;\n",
       "    }\n",
       "\n",
       "    .dataframe tbody tr th {\n",
       "        vertical-align: top;\n",
       "    }\n",
       "\n",
       "    .dataframe thead th {\n",
       "        text-align: right;\n",
       "    }\n",
       "</style>\n",
       "<table border=\"1\" class=\"dataframe\">\n",
       "  <thead>\n",
       "    <tr style=\"text-align: right;\">\n",
       "      <th></th>\n",
       "      <th>schedule_gtfs_dataset_key</th>\n",
       "      <th>direction_id</th>\n",
       "      <th>time_period</th>\n",
       "      <th>avg_scheduled_service_minutes</th>\n",
       "      <th>avg_stop_miles</th>\n",
       "      <th>n_scheduled_trips</th>\n",
       "      <th>frequency</th>\n",
       "      <th>service_date</th>\n",
       "      <th>minutes_atleast1_vp</th>\n",
       "      <th>minutes_atleast2_vp</th>\n",
       "      <th>total_rt_service_minutes</th>\n",
       "      <th>total_scheduled_service_minutes</th>\n",
       "      <th>total_vp</th>\n",
       "      <th>vp_in_shape</th>\n",
       "      <th>is_early</th>\n",
       "      <th>is_ontime</th>\n",
       "      <th>is_late</th>\n",
       "      <th>n_vp_trips</th>\n",
       "      <th>vp_per_minute</th>\n",
       "      <th>pct_in_shape</th>\n",
       "      <th>pct_rt_journey_atleast1_vp</th>\n",
       "      <th>pct_rt_journey_atleast2_vp</th>\n",
       "      <th>pct_sched_journey_atleast1_vp</th>\n",
       "      <th>pct_sched_journey_atleast2_vp</th>\n",
       "      <th>rt_sched_journey_ratio</th>\n",
       "      <th>avg_rt_service_minutes</th>\n",
       "      <th>sched_rt_category</th>\n",
       "      <th>speed_mph</th>\n",
       "      <th>name</th>\n",
       "      <th>route_long_name</th>\n",
       "      <th>route_short_name</th>\n",
       "      <th>route_combined_name</th>\n",
       "      <th>route_id</th>\n",
       "      <th>typology</th>\n",
       "      <th>schedule_source_record_id</th>\n",
       "      <th>base64_url</th>\n",
       "      <th>organization_source_record_id</th>\n",
       "      <th>organization_name</th>\n",
       "      <th>caltrans_district</th>\n",
       "    </tr>\n",
       "  </thead>\n",
       "  <tbody>\n",
       "    <tr>\n",
       "      <th>132107</th>\n",
       "      <td>239f3baf3dd3b9e9464f66a777f9897d</td>\n",
       "      <td>0.00</td>\n",
       "      <td>all_day</td>\n",
       "      <td>15.00</td>\n",
       "      <td>0.18</td>\n",
       "      <td>54</td>\n",
       "      <td>2.25</td>\n",
       "      <td>2023-09-13</td>\n",
       "      <td>863</td>\n",
       "      <td>258</td>\n",
       "      <td>900.19</td>\n",
       "      <td>795.00</td>\n",
       "      <td>1136</td>\n",
       "      <td>925</td>\n",
       "      <td>0</td>\n",
       "      <td>45</td>\n",
       "      <td>8</td>\n",
       "      <td>53</td>\n",
       "      <td>1.26</td>\n",
       "      <td>0.81</td>\n",
       "      <td>0.96</td>\n",
       "      <td>0.29</td>\n",
       "      <td>1.00</td>\n",
       "      <td>0.33</td>\n",
       "      <td>1.13</td>\n",
       "      <td>16.98</td>\n",
       "      <td>schedule_and_vp</td>\n",
       "      <td>8.92</td>\n",
       "      <td>SBMTD Schedule</td>\n",
       "      <td>West Santa Barbara</td>\n",
       "      <td>1</td>\n",
       "      <td>1 West Santa Barbara</td>\n",
       "      <td>1</td>\n",
       "      <td>rapid</td>\n",
       "      <td>rectQfIeiKDBeJSAV</td>\n",
       "      <td>aHR0cHM6Ly9zYm10ZC5nb3YvZ29vZ2xlX3RyYW5zaXQvZmVlZC56aXA=</td>\n",
       "      <td>recswCrw6a6htmXJ4</td>\n",
       "      <td>Santa Barbara Metropolitan Transit District</td>\n",
       "      <td>05 - San Luis Obispo</td>\n",
       "    </tr>\n",
       "    <tr>\n",
       "      <th>132108</th>\n",
       "      <td>239f3baf3dd3b9e9464f66a777f9897d</td>\n",
       "      <td>0.00</td>\n",
       "      <td>all_day</td>\n",
       "      <td>15.00</td>\n",
       "      <td>0.18</td>\n",
       "      <td>54</td>\n",
       "      <td>2.25</td>\n",
       "      <td>2023-09-13</td>\n",
       "      <td>863</td>\n",
       "      <td>258</td>\n",
       "      <td>900.19</td>\n",
       "      <td>795.00</td>\n",
       "      <td>1136</td>\n",
       "      <td>925</td>\n",
       "      <td>0</td>\n",
       "      <td>45</td>\n",
       "      <td>8</td>\n",
       "      <td>53</td>\n",
       "      <td>1.26</td>\n",
       "      <td>0.81</td>\n",
       "      <td>0.96</td>\n",
       "      <td>0.29</td>\n",
       "      <td>1.00</td>\n",
       "      <td>0.33</td>\n",
       "      <td>1.13</td>\n",
       "      <td>16.98</td>\n",
       "      <td>schedule_and_vp</td>\n",
       "      <td>8.92</td>\n",
       "      <td>SBMTD Schedule</td>\n",
       "      <td>West Santa Barbara</td>\n",
       "      <td>1</td>\n",
       "      <td>1 West Santa Barbara</td>\n",
       "      <td>1</td>\n",
       "      <td>rapid</td>\n",
       "      <td>rectQfIeiKDBeJSAV</td>\n",
       "      <td>aHR0cHM6Ly9zYm10ZC5nb3YvZ29vZ2xlX3RyYW5zaXQvZmVlZC56aXA=</td>\n",
       "      <td>recswCrw6a6htmXJ4</td>\n",
       "      <td>Santa Barbara Metropolitan Transit District</td>\n",
       "      <td>05 - San Luis Obispo</td>\n",
       "    </tr>\n",
       "  </tbody>\n",
       "</table>\n",
       "</div>"
      ],
      "text/plain": [
       "               schedule_gtfs_dataset_key  direction_id time_period  \\\n",
       "132107  239f3baf3dd3b9e9464f66a777f9897d          0.00     all_day   \n",
       "132108  239f3baf3dd3b9e9464f66a777f9897d          0.00     all_day   \n",
       "\n",
       "        avg_scheduled_service_minutes  avg_stop_miles  n_scheduled_trips  \\\n",
       "132107                          15.00            0.18                 54   \n",
       "132108                          15.00            0.18                 54   \n",
       "\n",
       "        frequency service_date  minutes_atleast1_vp  minutes_atleast2_vp  \\\n",
       "132107       2.25   2023-09-13                  863                  258   \n",
       "132108       2.25   2023-09-13                  863                  258   \n",
       "\n",
       "        total_rt_service_minutes  total_scheduled_service_minutes  total_vp  \\\n",
       "132107                    900.19                           795.00      1136   \n",
       "132108                    900.19                           795.00      1136   \n",
       "\n",
       "        vp_in_shape  is_early  is_ontime  is_late  n_vp_trips  vp_per_minute  \\\n",
       "132107          925         0         45        8          53           1.26   \n",
       "132108          925         0         45        8          53           1.26   \n",
       "\n",
       "        pct_in_shape  pct_rt_journey_atleast1_vp  pct_rt_journey_atleast2_vp  \\\n",
       "132107          0.81                        0.96                        0.29   \n",
       "132108          0.81                        0.96                        0.29   \n",
       "\n",
       "        pct_sched_journey_atleast1_vp  pct_sched_journey_atleast2_vp  \\\n",
       "132107                           1.00                           0.33   \n",
       "132108                           1.00                           0.33   \n",
       "\n",
       "        rt_sched_journey_ratio  avg_rt_service_minutes sched_rt_category  \\\n",
       "132107                    1.13                   16.98   schedule_and_vp   \n",
       "132108                    1.13                   16.98   schedule_and_vp   \n",
       "\n",
       "        speed_mph            name     route_long_name route_short_name  \\\n",
       "132107       8.92  SBMTD Schedule  West Santa Barbara                1   \n",
       "132108       8.92  SBMTD Schedule  West Santa Barbara                1   \n",
       "\n",
       "         route_combined_name route_id typology schedule_source_record_id  \\\n",
       "132107  1 West Santa Barbara        1    rapid         rectQfIeiKDBeJSAV   \n",
       "132108  1 West Santa Barbara        1    rapid         rectQfIeiKDBeJSAV   \n",
       "\n",
       "                                                      base64_url  \\\n",
       "132107  aHR0cHM6Ly9zYm10ZC5nb3YvZ29vZ2xlX3RyYW5zaXQvZmVlZC56aXA=   \n",
       "132108  aHR0cHM6Ly9zYm10ZC5nb3YvZ29vZ2xlX3RyYW5zaXQvZmVlZC56aXA=   \n",
       "\n",
       "       organization_source_record_id  \\\n",
       "132107             recswCrw6a6htmXJ4   \n",
       "132108             recswCrw6a6htmXJ4   \n",
       "\n",
       "                                  organization_name     caltrans_district  \n",
       "132107  Santa Barbara Metropolitan Transit District  05 - San Luis Obispo  \n",
       "132108  Santa Barbara Metropolitan Transit District  05 - San Luis Obispo  "
      ]
     },
     "execution_count": 52,
     "metadata": {},
     "output_type": "execute_result"
    }
   ],
   "source": [
    "schd_vp__df.head(2)"
   ]
  },
  {
   "cell_type": "code",
   "execution_count": 64,
   "id": "91785584-1325-4919-8e10-d78f1d1b4911",
   "metadata": {},
   "outputs": [
    {
     "data": {
      "text/plain": [
       "['avg_rt_service_minutes',\n",
       " 'avg_scheduled_service_minutes',\n",
       " 'avg_stop_miles',\n",
       " 'base64_url',\n",
       " 'caltrans_district',\n",
       " 'direction_id',\n",
       " 'frequency',\n",
       " 'is_early',\n",
       " 'is_late',\n",
       " 'is_ontime',\n",
       " 'minutes_atleast1_vp',\n",
       " 'minutes_atleast2_vp',\n",
       " 'n_scheduled_trips',\n",
       " 'n_vp_trips',\n",
       " 'name',\n",
       " 'organization_name',\n",
       " 'organization_source_record_id',\n",
       " 'pct_in_shape',\n",
       " 'pct_rt_journey_atleast1_vp',\n",
       " 'pct_rt_journey_atleast2_vp',\n",
       " 'pct_sched_journey_atleast1_vp',\n",
       " 'pct_sched_journey_atleast2_vp',\n",
       " 'route_combined_name',\n",
       " 'route_id',\n",
       " 'route_long_name',\n",
       " 'route_short_name',\n",
       " 'rt_sched_journey_ratio',\n",
       " 'sched_rt_category',\n",
       " 'schedule_gtfs_dataset_key',\n",
       " 'schedule_source_record_id',\n",
       " 'service_date',\n",
       " 'speed_mph',\n",
       " 'time_period',\n",
       " 'total_rt_service_minutes',\n",
       " 'total_scheduled_service_minutes',\n",
       " 'total_vp',\n",
       " 'typology',\n",
       " 'vp_in_shape',\n",
       " 'vp_per_minute']"
      ]
     },
     "execution_count": 64,
     "metadata": {},
     "output_type": "execute_result"
    }
   ],
   "source": [
    "sorted(list(schd_vp__df.columns))"
   ]
  },
  {
   "cell_type": "markdown",
   "id": "0509b47e-5598-4f53-a5dc-b2154f6dc49d",
   "metadata": {},
   "source": [
    "## Testing out `readable_yml`"
   ]
  },
  {
   "cell_type": "code",
   "execution_count": 115,
   "id": "c311bbd1-469b-4511-a861-50fd7e3e053a",
   "metadata": {},
   "outputs": [],
   "source": [
    "import yaml\n",
    "\n",
    "with open(\"readable.yml\") as f:\n",
    "    readable_dict = yaml.safe_load(f)"
   ]
  },
  {
   "cell_type": "code",
   "execution_count": 116,
   "id": "b3599d7d-5069-40aa-bec3-88775ac10565",
   "metadata": {},
   "outputs": [
    {
     "data": {
      "text/plain": [
       "'Something'"
      ]
     },
     "execution_count": 116,
     "metadata": {},
     "output_type": "execute_result"
    }
   ],
   "source": [
    "readable_dict['direction_id']['caption']"
   ]
  },
  {
   "cell_type": "code",
   "execution_count": 117,
   "id": "208eca14-0190-47f7-bd0a-466384ae6542",
   "metadata": {},
   "outputs": [],
   "source": [
    "def replace_column_names(column_name):\n",
    "    if column_name in readable_dict:\n",
    "        if 'readable' in readable_dict[column_name]:\n",
    "            return readable_dict[column_name]['readable']\n",
    "        else:\n",
    "            return readable_dict[column_name]\n",
    "    return column_name"
   ]
  },
  {
   "cell_type": "code",
   "execution_count": 118,
   "id": "0cb2cb24-c5b8-4510-b4ed-bb87a91930d5",
   "metadata": {},
   "outputs": [
    {
     "data": {
      "text/plain": [
       "'cutoff speed for 80th percentile'"
      ]
     },
     "execution_count": 118,
     "metadata": {},
     "output_type": "execute_result"
    }
   ],
   "source": [
    "replace_column_names(\"p80_mph\")"
   ]
  },
  {
   "cell_type": "code",
   "execution_count": 119,
   "id": "94e71198-fb28-4f84-a1ab-46f3dca4079d",
   "metadata": {},
   "outputs": [
    {
     "data": {
      "text/plain": [
       "'# late trips'"
      ]
     },
     "execution_count": 119,
     "metadata": {},
     "output_type": "execute_result"
    }
   ],
   "source": [
    "replace_column_names(\"is_late\")"
   ]
  },
  {
   "cell_type": "code",
   "execution_count": 120,
   "id": "3ee18334-462f-47c9-85fa-23e547b60c70",
   "metadata": {},
   "outputs": [
    {
     "data": {
      "text/plain": [
       "'my_test_col'"
      ]
     },
     "execution_count": 120,
     "metadata": {},
     "output_type": "execute_result"
    }
   ],
   "source": [
    "replace_column_names(\"my_test_col\")"
   ]
  },
  {
   "cell_type": "code",
   "execution_count": 121,
   "id": "a7dd8740-1234-4626-93ca-dbe76eec83d5",
   "metadata": {},
   "outputs": [],
   "source": [
    "schd_vp__df2 = schd_vp__df.sample(10)"
   ]
  },
  {
   "cell_type": "code",
   "execution_count": 122,
   "id": "b579d8dd-3df5-4cf9-b1f4-2ede735db122",
   "metadata": {},
   "outputs": [],
   "source": [
    "# Rename columns using the function\n",
    "schd_vp__df2.columns = schd_vp__df2.columns.map(replace_column_names)"
   ]
  },
  {
   "cell_type": "code",
   "execution_count": 123,
   "id": "b2c2d37a-230b-4628-ba9f-1924103f3fec",
   "metadata": {},
   "outputs": [
    {
     "data": {
      "text/html": [
       "<div>\n",
       "<style scoped>\n",
       "    .dataframe tbody tr th:only-of-type {\n",
       "        vertical-align: middle;\n",
       "    }\n",
       "\n",
       "    .dataframe tbody tr th {\n",
       "        vertical-align: top;\n",
       "    }\n",
       "\n",
       "    .dataframe thead th {\n",
       "        text-align: right;\n",
       "    }\n",
       "</style>\n",
       "<table border=\"1\" class=\"dataframe\">\n",
       "  <thead>\n",
       "    <tr style=\"text-align: right;\">\n",
       "      <th></th>\n",
       "      <th>schedule_gtfs_dataset_key</th>\n",
       "      <th>Direction</th>\n",
       "      <th>Period</th>\n",
       "      <th>Average Scheduled Service (trip minutes)</th>\n",
       "      <th>Average Stop Distance (miles)</th>\n",
       "      <th># scheduled trips</th>\n",
       "      <th>Trips per Hour</th>\n",
       "      <th>Date</th>\n",
       "      <th># minutes with 1+ vp per minute</th>\n",
       "      <th># minutes with 2+ vp per minute</th>\n",
       "      <th>Aggregate Actual Service Minutes (all trips)</th>\n",
       "      <th>Aggregate Scheduled Service Minutes (all trips)</th>\n",
       "      <th># vp</th>\n",
       "      <th># vp within scheduled shape</th>\n",
       "      <th># early arrival trips</th>\n",
       "      <th># on-time trips</th>\n",
       "      <th># late trips</th>\n",
       "      <th># trips with vp</th>\n",
       "      <th>Average vp per minute</th>\n",
       "      <th>% vp within scheduled shape</th>\n",
       "      <th>% actual trip minutes with 1+ vp per minute</th>\n",
       "      <th>% actual trip minutes with 2+ vp per minute</th>\n",
       "      <th>% scheduled trip minutes with 1+ vp per minute</th>\n",
       "      <th>% scheduled trip minutes with 2+ vp per minute</th>\n",
       "      <th>Actual / scheduled service ratio</th>\n",
       "      <th>Average Actual Service (trip minutes)</th>\n",
       "      <th>GTFS Availability</th>\n",
       "      <th>Speed (mph)</th>\n",
       "      <th>Transit Operator</th>\n",
       "      <th>route_long_name</th>\n",
       "      <th>route_short_name</th>\n",
       "      <th>Route</th>\n",
       "      <th>Route</th>\n",
       "      <th>Route typology</th>\n",
       "      <th>schedule_source_record_id</th>\n",
       "      <th>base64 encoded feed URL</th>\n",
       "      <th>Organization ID</th>\n",
       "      <th>Organization</th>\n",
       "      <th>District</th>\n",
       "    </tr>\n",
       "  </thead>\n",
       "  <tbody>\n",
       "    <tr>\n",
       "      <th>927381</th>\n",
       "      <td>de792182088eecc3d5c0bd3f1df62965</td>\n",
       "      <td>0.00</td>\n",
       "      <td>peak</td>\n",
       "      <td>25.00</td>\n",
       "      <td>0.24</td>\n",
       "      <td>1</td>\n",
       "      <td>0.12</td>\n",
       "      <td>2023-05-17</td>\n",
       "      <td>0</td>\n",
       "      <td>0</td>\n",
       "      <td>NaN</td>\n",
       "      <td>NaN</td>\n",
       "      <td>0</td>\n",
       "      <td>0</td>\n",
       "      <td>0</td>\n",
       "      <td>0</td>\n",
       "      <td>0</td>\n",
       "      <td>0</td>\n",
       "      <td>NaN</td>\n",
       "      <td>NaN</td>\n",
       "      <td>NaN</td>\n",
       "      <td>NaN</td>\n",
       "      <td>NaN</td>\n",
       "      <td>NaN</td>\n",
       "      <td>NaN</td>\n",
       "      <td>NaN</td>\n",
       "      <td>schedule_only</td>\n",
       "      <td>NaN</td>\n",
       "      <td>SBMTD Schedule</td>\n",
       "      <td>Goleta Valley Jr. High</td>\n",
       "      <td>2620</td>\n",
       "      <td>2620 Goleta Valley Jr. High</td>\n",
       "      <td>2620</td>\n",
       "      <td>downtown_local</td>\n",
       "      <td>rectQfIeiKDBeJSAV</td>\n",
       "      <td>aHR0cHM6Ly9zYm10ZC5nb3YvZ29vZ2xlX3RyYW5zaXQvZmVlZC56aXA=</td>\n",
       "      <td>recswCrw6a6htmXJ4</td>\n",
       "      <td>Santa Barbara Metropolitan Transit District</td>\n",
       "      <td>05 - San Luis Obispo</td>\n",
       "    </tr>\n",
       "  </tbody>\n",
       "</table>\n",
       "</div>"
      ],
      "text/plain": [
       "               schedule_gtfs_dataset_key  Direction Period  \\\n",
       "927381  de792182088eecc3d5c0bd3f1df62965       0.00   peak   \n",
       "\n",
       "        Average Scheduled Service (trip minutes)  \\\n",
       "927381                                     25.00   \n",
       "\n",
       "        Average Stop Distance (miles)  # scheduled trips  Trips per Hour  \\\n",
       "927381                           0.24                  1            0.12   \n",
       "\n",
       "             Date  # minutes with 1+ vp per minute  \\\n",
       "927381 2023-05-17                                0   \n",
       "\n",
       "        # minutes with 2+ vp per minute  \\\n",
       "927381                                0   \n",
       "\n",
       "        Aggregate Actual Service Minutes (all trips)  \\\n",
       "927381                                           NaN   \n",
       "\n",
       "        Aggregate Scheduled Service Minutes (all trips)  # vp  \\\n",
       "927381                                              NaN     0   \n",
       "\n",
       "        # vp within scheduled shape  # early arrival trips  # on-time trips  \\\n",
       "927381                            0                      0                0   \n",
       "\n",
       "        # late trips  # trips with vp  Average vp per minute  \\\n",
       "927381             0                0                    NaN   \n",
       "\n",
       "        % vp within scheduled shape  \\\n",
       "927381                          NaN   \n",
       "\n",
       "        % actual trip minutes with 1+ vp per minute  \\\n",
       "927381                                          NaN   \n",
       "\n",
       "        % actual trip minutes with 2+ vp per minute  \\\n",
       "927381                                          NaN   \n",
       "\n",
       "        % scheduled trip minutes with 1+ vp per minute  \\\n",
       "927381                                             NaN   \n",
       "\n",
       "        % scheduled trip minutes with 2+ vp per minute  \\\n",
       "927381                                             NaN   \n",
       "\n",
       "        Actual / scheduled service ratio  \\\n",
       "927381                               NaN   \n",
       "\n",
       "        Average Actual Service (trip minutes) GTFS Availability  Speed (mph)  \\\n",
       "927381                                    NaN     schedule_only          NaN   \n",
       "\n",
       "       Transit Operator         route_long_name route_short_name  \\\n",
       "927381   SBMTD Schedule  Goleta Valley Jr. High             2620   \n",
       "\n",
       "                              Route Route  Route typology  \\\n",
       "927381  2620 Goleta Valley Jr. High  2620  downtown_local   \n",
       "\n",
       "       schedule_source_record_id  \\\n",
       "927381         rectQfIeiKDBeJSAV   \n",
       "\n",
       "                                         base64 encoded feed URL  \\\n",
       "927381  aHR0cHM6Ly9zYm10ZC5nb3YvZ29vZ2xlX3RyYW5zaXQvZmVlZC56aXA=   \n",
       "\n",
       "          Organization ID                                 Organization  \\\n",
       "927381  recswCrw6a6htmXJ4  Santa Barbara Metropolitan Transit District   \n",
       "\n",
       "                    District  \n",
       "927381  05 - San Luis Obispo  "
      ]
     },
     "execution_count": 123,
     "metadata": {},
     "output_type": "execute_result"
    }
   ],
   "source": [
    "schd_vp__df2.sample()"
   ]
  }
 ],
 "metadata": {
  "kernelspec": {
   "display_name": "Python 3 (ipykernel)",
   "language": "python",
   "name": "python3"
  },
  "language_info": {
   "codemirror_mode": {
    "name": "ipython",
    "version": 3
   },
   "file_extension": ".py",
   "mimetype": "text/x-python",
   "name": "python",
   "nbconvert_exporter": "python",
   "pygments_lexer": "ipython3",
   "version": "3.9.13"
  }
 },
 "nbformat": 4,
 "nbformat_minor": 5
}
