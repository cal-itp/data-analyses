{
 "cells": [
  {
   "cell_type": "markdown",
   "id": "0e10f7ca-6b49-46e9-97c6-5a2b0cad722f",
   "metadata": {},
   "source": [
    "## Planning out what to do with each data source\n",
    "* cd rt_segment_speeds && pip install altair_transform && pip install -r requirements.txt && cd ../_shared_utils && make setup_env"
   ]
  },
  {
   "cell_type": "code",
   "execution_count": 1,
   "id": "13de9193-e486-4a59-bfb6-4226bdcf7b13",
   "metadata": {},
   "outputs": [],
   "source": [
    "import _report_utils\n",
    "import altair as alt\n",
    "import calitp_data_analysis.magics\n",
    "import geopandas as gpd\n",
    "import great_tables as gt\n",
    "import pandas as pd\n",
    "from calitp_data_analysis import calitp_color_palette as cp\n",
    "from great_tables import md\n",
    "from IPython.display import HTML, Markdown, display\n",
    "from segment_speed_utils.project_vars import RT_SCHED_GCS\n",
    "from shared_utils import catalog_utils, rt_dates, rt_utils\n",
    "\n",
    "alt.renderers.enable(\"html\")\n",
    "alt.data_transformers.enable(\"default\", max_rows=None)\n",
    "from typing import List, Union"
   ]
  },
  {
   "cell_type": "code",
   "execution_count": 2,
   "id": "6405a464-e831-4df1-815d-53d13ee89fb7",
   "metadata": {},
   "outputs": [],
   "source": [
    "pd.options.display.max_columns = 100\n",
    "pd.options.display.float_format = \"{:.2f}\".format\n",
    "pd.set_option(\"display.max_rows\", None)\n",
    "pd.set_option(\"display.max_colwidth\", None)"
   ]
  },
  {
   "cell_type": "code",
   "execution_count": 3,
   "id": "66f35b7d-787d-4e0c-91a3-b1974f0f1232",
   "metadata": {},
   "outputs": [],
   "source": [
    "name = \"SBMTD Schedule\""
   ]
  },
  {
   "cell_type": "code",
   "execution_count": 4,
   "id": "f945e34e-ff27-48e9-bf3a-9fee990217df",
   "metadata": {},
   "outputs": [],
   "source": [
    "selected_date = pd.to_datetime(rt_dates.DATES[\"mar2024\"])"
   ]
  },
  {
   "cell_type": "code",
   "execution_count": 5,
   "id": "7de2bb6e-03f6-44ed-824e-fa1382858206",
   "metadata": {},
   "outputs": [
    {
     "data": {
      "text/plain": [
       "Timestamp('2024-03-13 00:00:00')"
      ]
     },
     "execution_count": 5,
     "metadata": {},
     "output_type": "execute_result"
    }
   ],
   "source": [
    "selected_date"
   ]
  },
  {
   "cell_type": "code",
   "execution_count": 6,
   "id": "d156bbf6-bd82-4583-8352-144f91abaf98",
   "metadata": {},
   "outputs": [],
   "source": [
    "year = selected_date.year"
   ]
  },
  {
   "cell_type": "code",
   "execution_count": 7,
   "id": "e5d298e1-c369-46f6-8f99-b067e37a8bac",
   "metadata": {},
   "outputs": [],
   "source": [
    "GTFS_DATA_DICT = catalog_utils.get_catalog(\"gtfs_analytics_data\")"
   ]
  },
  {
   "cell_type": "markdown",
   "id": "724cec3d-fbba-433a-8b51-5acd764e0a0a",
   "metadata": {
    "tags": []
   },
   "source": [
    "## 1 digest/operator_profiles \n",
    "* part of Section 1: Operator Profiles\n",
    "* digest/operator_profiles\n",
    "* This can be the first thing people see, using the data from the latest month"
   ]
  },
  {
   "cell_type": "code",
   "execution_count": 8,
   "id": "638cb1a2-81d1-49e6-808d-8f7d201916b6",
   "metadata": {},
   "outputs": [],
   "source": [
    "op_profiles_url = f\"{GTFS_DATA_DICT.digest_tables.dir}{GTFS_DATA_DICT.digest_tables.operator_profiles}.parquet\""
   ]
  },
  {
   "cell_type": "code",
   "execution_count": 9,
   "id": "eb7590c0-6bf1-4f10-9318-aa68140472c7",
   "metadata": {},
   "outputs": [],
   "source": [
    "op_profiles_df = pd.read_parquet(\n",
    "    op_profiles_url)"
   ]
  },
  {
   "cell_type": "code",
   "execution_count": 10,
   "id": "f03869e5-418a-4b2f-b53a-80f48a867b29",
   "metadata": {},
   "outputs": [
    {
     "data": {
      "text/html": [
       "<div>\n",
       "<style scoped>\n",
       "    .dataframe tbody tr th:only-of-type {\n",
       "        vertical-align: middle;\n",
       "    }\n",
       "\n",
       "    .dataframe tbody tr th {\n",
       "        vertical-align: top;\n",
       "    }\n",
       "\n",
       "    .dataframe thead th {\n",
       "        text-align: right;\n",
       "    }\n",
       "</style>\n",
       "<table border=\"1\" class=\"dataframe\">\n",
       "  <thead>\n",
       "    <tr style=\"text-align: right;\">\n",
       "      <th></th>\n",
       "      <th>schedule_gtfs_dataset_key</th>\n",
       "      <th>operator_n_routes</th>\n",
       "      <th>operator_n_trips</th>\n",
       "      <th>operator_n_shapes</th>\n",
       "      <th>operator_n_stops</th>\n",
       "      <th>operator_n_arrivals</th>\n",
       "      <th>operator_route_length_miles</th>\n",
       "      <th>operator_arrivals_per_stop</th>\n",
       "      <th>n_downtown_local_routes</th>\n",
       "      <th>n_local_routes</th>\n",
       "      <th>n_rapid_routes</th>\n",
       "      <th>n_coverage_routes</th>\n",
       "      <th>name</th>\n",
       "      <th>organization_source_record_id</th>\n",
       "      <th>organization_name</th>\n",
       "      <th>service_date</th>\n",
       "    </tr>\n",
       "  </thead>\n",
       "  <tbody>\n",
       "    <tr>\n",
       "      <th>1277</th>\n",
       "      <td>a73dea57836841cc1dfaa02585424deb</td>\n",
       "      <td>13</td>\n",
       "      <td>154</td>\n",
       "      <td>43</td>\n",
       "      <td>288</td>\n",
       "      <td>3832</td>\n",
       "      <td>301.89</td>\n",
       "      <td>13.31</td>\n",
       "      <td>0</td>\n",
       "      <td>0</td>\n",
       "      <td>14</td>\n",
       "      <td>19</td>\n",
       "      <td>Humboldt Schedule</td>\n",
       "      <td>recaa3naoNR4a5RsJ</td>\n",
       "      <td>Humboldt Transit Authority</td>\n",
       "      <td>2023-03-15</td>\n",
       "    </tr>\n",
       "    <tr>\n",
       "      <th>728</th>\n",
       "      <td>6693efa56a541b6276da9b424f78a170</td>\n",
       "      <td>13</td>\n",
       "      <td>154</td>\n",
       "      <td>43</td>\n",
       "      <td>288</td>\n",
       "      <td>3832</td>\n",
       "      <td>301.89</td>\n",
       "      <td>13.31</td>\n",
       "      <td>0</td>\n",
       "      <td>0</td>\n",
       "      <td>9</td>\n",
       "      <td>13</td>\n",
       "      <td>Humboldt Schedule</td>\n",
       "      <td>rec0xQaeDukHT3ODl</td>\n",
       "      <td>Blue Lake Rancheria</td>\n",
       "      <td>2023-04-12</td>\n",
       "    </tr>\n",
       "    <tr>\n",
       "      <th>729</th>\n",
       "      <td>6693efa56a541b6276da9b424f78a170</td>\n",
       "      <td>13</td>\n",
       "      <td>154</td>\n",
       "      <td>43</td>\n",
       "      <td>299</td>\n",
       "      <td>4008</td>\n",
       "      <td>301.48</td>\n",
       "      <td>13.40</td>\n",
       "      <td>0</td>\n",
       "      <td>0</td>\n",
       "      <td>14</td>\n",
       "      <td>19</td>\n",
       "      <td>Humboldt Schedule</td>\n",
       "      <td>rec0xQaeDukHT3ODl</td>\n",
       "      <td>Blue Lake Rancheria</td>\n",
       "      <td>2023-05-17</td>\n",
       "    </tr>\n",
       "    <tr>\n",
       "      <th>730</th>\n",
       "      <td>6693efa56a541b6276da9b424f78a170</td>\n",
       "      <td>13</td>\n",
       "      <td>154</td>\n",
       "      <td>43</td>\n",
       "      <td>299</td>\n",
       "      <td>4008</td>\n",
       "      <td>301.48</td>\n",
       "      <td>13.40</td>\n",
       "      <td>0</td>\n",
       "      <td>0</td>\n",
       "      <td>9</td>\n",
       "      <td>13</td>\n",
       "      <td>Humboldt Schedule</td>\n",
       "      <td>rec0xQaeDukHT3ODl</td>\n",
       "      <td>Blue Lake Rancheria</td>\n",
       "      <td>2023-06-14</td>\n",
       "    </tr>\n",
       "    <tr>\n",
       "      <th>731</th>\n",
       "      <td>6693efa56a541b6276da9b424f78a170</td>\n",
       "      <td>13</td>\n",
       "      <td>154</td>\n",
       "      <td>43</td>\n",
       "      <td>299</td>\n",
       "      <td>4008</td>\n",
       "      <td>301.48</td>\n",
       "      <td>13.40</td>\n",
       "      <td>0</td>\n",
       "      <td>0</td>\n",
       "      <td>9</td>\n",
       "      <td>13</td>\n",
       "      <td>Humboldt Schedule</td>\n",
       "      <td>rec0xQaeDukHT3ODl</td>\n",
       "      <td>Blue Lake Rancheria</td>\n",
       "      <td>2023-07-12</td>\n",
       "    </tr>\n",
       "    <tr>\n",
       "      <th>732</th>\n",
       "      <td>6693efa56a541b6276da9b424f78a170</td>\n",
       "      <td>10</td>\n",
       "      <td>127</td>\n",
       "      <td>38</td>\n",
       "      <td>267</td>\n",
       "      <td>3498</td>\n",
       "      <td>271.81</td>\n",
       "      <td>13.10</td>\n",
       "      <td>0</td>\n",
       "      <td>0</td>\n",
       "      <td>7</td>\n",
       "      <td>11</td>\n",
       "      <td>Humboldt Schedule</td>\n",
       "      <td>rec0xQaeDukHT3ODl</td>\n",
       "      <td>Blue Lake Rancheria</td>\n",
       "      <td>2023-08-15</td>\n",
       "    </tr>\n",
       "    <tr>\n",
       "      <th>733</th>\n",
       "      <td>6693efa56a541b6276da9b424f78a170</td>\n",
       "      <td>13</td>\n",
       "      <td>158</td>\n",
       "      <td>42</td>\n",
       "      <td>300</td>\n",
       "      <td>4352</td>\n",
       "      <td>302.51</td>\n",
       "      <td>14.51</td>\n",
       "      <td>0</td>\n",
       "      <td>0</td>\n",
       "      <td>10</td>\n",
       "      <td>14</td>\n",
       "      <td>Humboldt Schedule</td>\n",
       "      <td>rec0xQaeDukHT3ODl</td>\n",
       "      <td>Blue Lake Rancheria</td>\n",
       "      <td>2023-09-13</td>\n",
       "    </tr>\n",
       "    <tr>\n",
       "      <th>1235</th>\n",
       "      <td>a253a8d7acd57657bb98050f37dd6b0f</td>\n",
       "      <td>12</td>\n",
       "      <td>148</td>\n",
       "      <td>39</td>\n",
       "      <td>284</td>\n",
       "      <td>4246</td>\n",
       "      <td>291.72</td>\n",
       "      <td>14.95</td>\n",
       "      <td>0</td>\n",
       "      <td>0</td>\n",
       "      <td>8</td>\n",
       "      <td>11</td>\n",
       "      <td>Humboldt Schedule</td>\n",
       "      <td>recaaoqEDvwhcmIVT</td>\n",
       "      <td>City of Arcata</td>\n",
       "      <td>2023-10-11</td>\n",
       "    </tr>\n",
       "    <tr>\n",
       "      <th>1236</th>\n",
       "      <td>a253a8d7acd57657bb98050f37dd6b0f</td>\n",
       "      <td>12</td>\n",
       "      <td>148</td>\n",
       "      <td>39</td>\n",
       "      <td>286</td>\n",
       "      <td>4256</td>\n",
       "      <td>293.12</td>\n",
       "      <td>14.88</td>\n",
       "      <td>0</td>\n",
       "      <td>0</td>\n",
       "      <td>8</td>\n",
       "      <td>12</td>\n",
       "      <td>Humboldt Schedule</td>\n",
       "      <td>recynxkqEoo9dJEvw</td>\n",
       "      <td>City of Eureka</td>\n",
       "      <td>2023-11-15</td>\n",
       "    </tr>\n",
       "    <tr>\n",
       "      <th>1237</th>\n",
       "      <td>a253a8d7acd57657bb98050f37dd6b0f</td>\n",
       "      <td>12</td>\n",
       "      <td>148</td>\n",
       "      <td>39</td>\n",
       "      <td>286</td>\n",
       "      <td>4256</td>\n",
       "      <td>293.12</td>\n",
       "      <td>14.88</td>\n",
       "      <td>0</td>\n",
       "      <td>0</td>\n",
       "      <td>8</td>\n",
       "      <td>12</td>\n",
       "      <td>Humboldt Schedule</td>\n",
       "      <td>recynxkqEoo9dJEvw</td>\n",
       "      <td>City of Eureka</td>\n",
       "      <td>2023-12-13</td>\n",
       "    </tr>\n",
       "    <tr>\n",
       "      <th>1238</th>\n",
       "      <td>a253a8d7acd57657bb98050f37dd6b0f</td>\n",
       "      <td>12</td>\n",
       "      <td>150</td>\n",
       "      <td>41</td>\n",
       "      <td>320</td>\n",
       "      <td>4616</td>\n",
       "      <td>432.29</td>\n",
       "      <td>14.42</td>\n",
       "      <td>0</td>\n",
       "      <td>0</td>\n",
       "      <td>8</td>\n",
       "      <td>14</td>\n",
       "      <td>Humboldt Schedule</td>\n",
       "      <td>recynxkqEoo9dJEvw</td>\n",
       "      <td>City of Eureka</td>\n",
       "      <td>2024-01-17</td>\n",
       "    </tr>\n",
       "    <tr>\n",
       "      <th>1239</th>\n",
       "      <td>a253a8d7acd57657bb98050f37dd6b0f</td>\n",
       "      <td>12</td>\n",
       "      <td>150</td>\n",
       "      <td>41</td>\n",
       "      <td>326</td>\n",
       "      <td>4662</td>\n",
       "      <td>432.36</td>\n",
       "      <td>14.30</td>\n",
       "      <td>0</td>\n",
       "      <td>0</td>\n",
       "      <td>8</td>\n",
       "      <td>14</td>\n",
       "      <td>Humboldt Schedule</td>\n",
       "      <td>recynxkqEoo9dJEvw</td>\n",
       "      <td>City of Eureka</td>\n",
       "      <td>2024-02-14</td>\n",
       "    </tr>\n",
       "    <tr>\n",
       "      <th>1240</th>\n",
       "      <td>a253a8d7acd57657bb98050f37dd6b0f</td>\n",
       "      <td>10</td>\n",
       "      <td>137</td>\n",
       "      <td>44</td>\n",
       "      <td>320</td>\n",
       "      <td>4567</td>\n",
       "      <td>410.38</td>\n",
       "      <td>14.27</td>\n",
       "      <td>0</td>\n",
       "      <td>0</td>\n",
       "      <td>8</td>\n",
       "      <td>14</td>\n",
       "      <td>Humboldt Schedule</td>\n",
       "      <td>recynxkqEoo9dJEvw</td>\n",
       "      <td>City of Eureka</td>\n",
       "      <td>2024-03-13</td>\n",
       "    </tr>\n",
       "    <tr>\n",
       "      <th>1241</th>\n",
       "      <td>a253a8d7acd57657bb98050f37dd6b0f</td>\n",
       "      <td>12</td>\n",
       "      <td>156</td>\n",
       "      <td>46</td>\n",
       "      <td>326</td>\n",
       "      <td>4925</td>\n",
       "      <td>432.36</td>\n",
       "      <td>15.11</td>\n",
       "      <td>0</td>\n",
       "      <td>0</td>\n",
       "      <td>8</td>\n",
       "      <td>14</td>\n",
       "      <td>Humboldt Schedule</td>\n",
       "      <td>recynxkqEoo9dJEvw</td>\n",
       "      <td>City of Eureka</td>\n",
       "      <td>2024-04-17</td>\n",
       "    </tr>\n",
       "  </tbody>\n",
       "</table>\n",
       "</div>"
      ],
      "text/plain": [
       "             schedule_gtfs_dataset_key  operator_n_routes  operator_n_trips  \\\n",
       "1277  a73dea57836841cc1dfaa02585424deb                 13               154   \n",
       "728   6693efa56a541b6276da9b424f78a170                 13               154   \n",
       "729   6693efa56a541b6276da9b424f78a170                 13               154   \n",
       "730   6693efa56a541b6276da9b424f78a170                 13               154   \n",
       "731   6693efa56a541b6276da9b424f78a170                 13               154   \n",
       "732   6693efa56a541b6276da9b424f78a170                 10               127   \n",
       "733   6693efa56a541b6276da9b424f78a170                 13               158   \n",
       "1235  a253a8d7acd57657bb98050f37dd6b0f                 12               148   \n",
       "1236  a253a8d7acd57657bb98050f37dd6b0f                 12               148   \n",
       "1237  a253a8d7acd57657bb98050f37dd6b0f                 12               148   \n",
       "1238  a253a8d7acd57657bb98050f37dd6b0f                 12               150   \n",
       "1239  a253a8d7acd57657bb98050f37dd6b0f                 12               150   \n",
       "1240  a253a8d7acd57657bb98050f37dd6b0f                 10               137   \n",
       "1241  a253a8d7acd57657bb98050f37dd6b0f                 12               156   \n",
       "\n",
       "      operator_n_shapes  operator_n_stops  operator_n_arrivals  \\\n",
       "1277                 43               288                 3832   \n",
       "728                  43               288                 3832   \n",
       "729                  43               299                 4008   \n",
       "730                  43               299                 4008   \n",
       "731                  43               299                 4008   \n",
       "732                  38               267                 3498   \n",
       "733                  42               300                 4352   \n",
       "1235                 39               284                 4246   \n",
       "1236                 39               286                 4256   \n",
       "1237                 39               286                 4256   \n",
       "1238                 41               320                 4616   \n",
       "1239                 41               326                 4662   \n",
       "1240                 44               320                 4567   \n",
       "1241                 46               326                 4925   \n",
       "\n",
       "      operator_route_length_miles  operator_arrivals_per_stop  \\\n",
       "1277                       301.89                       13.31   \n",
       "728                        301.89                       13.31   \n",
       "729                        301.48                       13.40   \n",
       "730                        301.48                       13.40   \n",
       "731                        301.48                       13.40   \n",
       "732                        271.81                       13.10   \n",
       "733                        302.51                       14.51   \n",
       "1235                       291.72                       14.95   \n",
       "1236                       293.12                       14.88   \n",
       "1237                       293.12                       14.88   \n",
       "1238                       432.29                       14.42   \n",
       "1239                       432.36                       14.30   \n",
       "1240                       410.38                       14.27   \n",
       "1241                       432.36                       15.11   \n",
       "\n",
       "      n_downtown_local_routes  n_local_routes  n_rapid_routes  \\\n",
       "1277                        0               0              14   \n",
       "728                         0               0               9   \n",
       "729                         0               0              14   \n",
       "730                         0               0               9   \n",
       "731                         0               0               9   \n",
       "732                         0               0               7   \n",
       "733                         0               0              10   \n",
       "1235                        0               0               8   \n",
       "1236                        0               0               8   \n",
       "1237                        0               0               8   \n",
       "1238                        0               0               8   \n",
       "1239                        0               0               8   \n",
       "1240                        0               0               8   \n",
       "1241                        0               0               8   \n",
       "\n",
       "      n_coverage_routes               name organization_source_record_id  \\\n",
       "1277                 19  Humboldt Schedule             recaa3naoNR4a5RsJ   \n",
       "728                  13  Humboldt Schedule             rec0xQaeDukHT3ODl   \n",
       "729                  19  Humboldt Schedule             rec0xQaeDukHT3ODl   \n",
       "730                  13  Humboldt Schedule             rec0xQaeDukHT3ODl   \n",
       "731                  13  Humboldt Schedule             rec0xQaeDukHT3ODl   \n",
       "732                  11  Humboldt Schedule             rec0xQaeDukHT3ODl   \n",
       "733                  14  Humboldt Schedule             rec0xQaeDukHT3ODl   \n",
       "1235                 11  Humboldt Schedule             recaaoqEDvwhcmIVT   \n",
       "1236                 12  Humboldt Schedule             recynxkqEoo9dJEvw   \n",
       "1237                 12  Humboldt Schedule             recynxkqEoo9dJEvw   \n",
       "1238                 14  Humboldt Schedule             recynxkqEoo9dJEvw   \n",
       "1239                 14  Humboldt Schedule             recynxkqEoo9dJEvw   \n",
       "1240                 14  Humboldt Schedule             recynxkqEoo9dJEvw   \n",
       "1241                 14  Humboldt Schedule             recynxkqEoo9dJEvw   \n",
       "\n",
       "               organization_name service_date  \n",
       "1277  Humboldt Transit Authority   2023-03-15  \n",
       "728          Blue Lake Rancheria   2023-04-12  \n",
       "729          Blue Lake Rancheria   2023-05-17  \n",
       "730          Blue Lake Rancheria   2023-06-14  \n",
       "731          Blue Lake Rancheria   2023-07-12  \n",
       "732          Blue Lake Rancheria   2023-08-15  \n",
       "733          Blue Lake Rancheria   2023-09-13  \n",
       "1235              City of Arcata   2023-10-11  \n",
       "1236              City of Eureka   2023-11-15  \n",
       "1237              City of Eureka   2023-12-13  \n",
       "1238              City of Eureka   2024-01-17  \n",
       "1239              City of Eureka   2024-02-14  \n",
       "1240              City of Eureka   2024-03-13  \n",
       "1241              City of Eureka   2024-04-17  "
      ]
     },
     "execution_count": 10,
     "metadata": {},
     "output_type": "execute_result"
    }
   ],
   "source": [
    "op_profiles_df.loc[op_profiles_df.name == \"Humboldt Schedule\"].sort_values(by = ['service_date'])"
   ]
  },
  {
   "cell_type": "code",
   "execution_count": 11,
   "id": "ab03e9ea-dcd1-40f0-adfd-1a8ff0e65064",
   "metadata": {},
   "outputs": [],
   "source": [
    "blue_lake = op_profiles_df.loc[op_profiles_df.organization_name == 'Blue Lake Rancheria']"
   ]
  },
  {
   "cell_type": "code",
   "execution_count": 12,
   "id": "879924ff-b4df-4c1e-8d5a-05d286d7dd7c",
   "metadata": {},
   "outputs": [],
   "source": [
    "blue_lake_most_recent = blue_lake.sort_values(by = ['service_date'], ascending = False).head(1)"
   ]
  },
  {
   "cell_type": "code",
   "execution_count": 13,
   "id": "953cc03c-3768-4912-b155-f487838d1836",
   "metadata": {},
   "outputs": [
    {
     "data": {
      "text/html": [
       "<div>\n",
       "<style scoped>\n",
       "    .dataframe tbody tr th:only-of-type {\n",
       "        vertical-align: middle;\n",
       "    }\n",
       "\n",
       "    .dataframe tbody tr th {\n",
       "        vertical-align: top;\n",
       "    }\n",
       "\n",
       "    .dataframe thead th {\n",
       "        text-align: right;\n",
       "    }\n",
       "</style>\n",
       "<table border=\"1\" class=\"dataframe\">\n",
       "  <thead>\n",
       "    <tr style=\"text-align: right;\">\n",
       "      <th></th>\n",
       "      <th>schedule_gtfs_dataset_key</th>\n",
       "      <th>operator_n_routes</th>\n",
       "      <th>operator_n_trips</th>\n",
       "      <th>operator_n_shapes</th>\n",
       "      <th>operator_n_stops</th>\n",
       "      <th>operator_n_arrivals</th>\n",
       "      <th>operator_route_length_miles</th>\n",
       "      <th>operator_arrivals_per_stop</th>\n",
       "      <th>n_downtown_local_routes</th>\n",
       "      <th>n_local_routes</th>\n",
       "      <th>n_rapid_routes</th>\n",
       "      <th>n_coverage_routes</th>\n",
       "      <th>name</th>\n",
       "      <th>organization_source_record_id</th>\n",
       "      <th>organization_name</th>\n",
       "      <th>service_date</th>\n",
       "    </tr>\n",
       "  </thead>\n",
       "  <tbody>\n",
       "    <tr>\n",
       "      <th>733</th>\n",
       "      <td>6693efa56a541b6276da9b424f78a170</td>\n",
       "      <td>13</td>\n",
       "      <td>158</td>\n",
       "      <td>42</td>\n",
       "      <td>300</td>\n",
       "      <td>4352</td>\n",
       "      <td>302.51</td>\n",
       "      <td>14.51</td>\n",
       "      <td>0</td>\n",
       "      <td>0</td>\n",
       "      <td>10</td>\n",
       "      <td>14</td>\n",
       "      <td>Humboldt Schedule</td>\n",
       "      <td>rec0xQaeDukHT3ODl</td>\n",
       "      <td>Blue Lake Rancheria</td>\n",
       "      <td>2023-09-13</td>\n",
       "    </tr>\n",
       "  </tbody>\n",
       "</table>\n",
       "</div>"
      ],
      "text/plain": [
       "            schedule_gtfs_dataset_key  operator_n_routes  operator_n_trips  \\\n",
       "733  6693efa56a541b6276da9b424f78a170                 13               158   \n",
       "\n",
       "     operator_n_shapes  operator_n_stops  operator_n_arrivals  \\\n",
       "733                 42               300                 4352   \n",
       "\n",
       "     operator_route_length_miles  operator_arrivals_per_stop  \\\n",
       "733                       302.51                       14.51   \n",
       "\n",
       "     n_downtown_local_routes  n_local_routes  n_rapid_routes  \\\n",
       "733                        0               0              10   \n",
       "\n",
       "     n_coverage_routes               name organization_source_record_id  \\\n",
       "733                 14  Humboldt Schedule             rec0xQaeDukHT3ODl   \n",
       "\n",
       "       organization_name service_date  \n",
       "733  Blue Lake Rancheria   2023-09-13  "
      ]
     },
     "execution_count": 13,
     "metadata": {},
     "output_type": "execute_result"
    }
   ],
   "source": [
    "blue_lake_most_recent"
   ]
  },
  {
   "cell_type": "code",
   "execution_count": 14,
   "id": "bc5a2035-0280-462f-bf77-1e87c724e61d",
   "metadata": {},
   "outputs": [
    {
     "data": {
      "text/plain": [
       "numpy.datetime64('2023-09-13T00:00:00.000000000')"
      ]
     },
     "execution_count": 14,
     "metadata": {},
     "output_type": "execute_result"
    }
   ],
   "source": [
    "blue_lake_most_recent.service_date.values[0]"
   ]
  },
  {
   "cell_type": "code",
   "execution_count": 15,
   "id": "f70303c7-9fdb-41ba-8e39-2f2c87d5d364",
   "metadata": {},
   "outputs": [
    {
     "data": {
      "text/plain": [
       "['n_coverage_routes',\n",
       " 'n_downtown_local_routes',\n",
       " 'n_local_routes',\n",
       " 'n_rapid_routes',\n",
       " 'name',\n",
       " 'operator_arrivals_per_stop',\n",
       " 'operator_n_arrivals',\n",
       " 'operator_n_routes',\n",
       " 'operator_n_shapes',\n",
       " 'operator_n_stops',\n",
       " 'operator_n_trips',\n",
       " 'operator_route_length_miles',\n",
       " 'organization_name',\n",
       " 'organization_source_record_id',\n",
       " 'schedule_gtfs_dataset_key',\n",
       " 'service_date']"
      ]
     },
     "execution_count": 15,
     "metadata": {},
     "output_type": "execute_result"
    }
   ],
   "source": [
    "sorted(list(blue_lake_most_recent.columns))"
   ]
  },
  {
   "cell_type": "markdown",
   "id": "1cf8d4bc-e48b-4472-916c-95b4f822b323",
   "metadata": {},
   "source": [
    "### Show off number of routes and breakdown\n",
    "* Maybe use a pie chart with a big title? \n",
    "* last three columns don't add up to 36?\n",
    "* What does n_coverage_routes mean?"
   ]
  },
  {
   "cell_type": "markdown",
   "id": "e993b9e3-8128-47d6-a5b4-b1c783e8072d",
   "metadata": {},
   "source": [
    "### number of stops served, total stop arrivals, arrivals per stop"
   ]
  },
  {
   "cell_type": "code",
   "execution_count": 16,
   "id": "bd457e5b-5d9b-4d77-b5d7-2e90a6c9f934",
   "metadata": {},
   "outputs": [
    {
     "data": {
      "text/plain": [
       "'Operator SBMTD Schedule provided 79.5 miles of public transit.'"
      ]
     },
     "execution_count": 16,
     "metadata": {},
     "output_type": "execute_result"
    }
   ],
   "source": [
    "f\"Operator {name} provided {op_profiles_df.operator_route_length_miles.values[0]} miles of public transit.\""
   ]
  },
  {
   "cell_type": "code",
   "execution_count": 17,
   "id": "644e860b-7174-4aaf-aca3-a0030a2c8e62",
   "metadata": {},
   "outputs": [
    {
     "data": {
      "text/plain": [
       "(1947, 16)"
      ]
     },
     "execution_count": 17,
     "metadata": {},
     "output_type": "execute_result"
    }
   ],
   "source": [
    "op_profiles_df.shape"
   ]
  },
  {
   "cell_type": "code",
   "execution_count": 18,
   "id": "1662f560-3a2b-4ffe-afc2-8b48d96a0e8c",
   "metadata": {},
   "outputs": [
    {
     "data": {
      "text/plain": [
       "'This operator serves 159 different stops and each stop received  23.72 visits this last month, totaling to 3771 arrivals'"
      ]
     },
     "execution_count": 18,
     "metadata": {},
     "output_type": "execute_result"
    }
   ],
   "source": [
    "f\"This operator serves {op_profiles_df.operator_n_stops.values[0]} different stops and each stop received  {op_profiles_df.operator_arrivals_per_stop.values[0]} visits this last month, totaling to {op_profiles_df.operator_n_arrivals.values[0]} arrivals\""
   ]
  },
  {
   "cell_type": "markdown",
   "id": "81bca019-c3dd-4c44-878f-b0eb6d62964e",
   "metadata": {},
   "source": [
    "## 2 digest/operator_routes"
   ]
  },
  {
   "cell_type": "code",
   "execution_count": 19,
   "id": "1c476922-5dd1-48a5-9593-6c2f8b46ab4d",
   "metadata": {},
   "outputs": [],
   "source": [
    "op_routes_url = f\"{GTFS_DATA_DICT.digest_tables.dir}{GTFS_DATA_DICT.digest_tables.operator_routes_map}.parquet\""
   ]
  },
  {
   "cell_type": "code",
   "execution_count": 20,
   "id": "1557d7d8-7d85-48cf-9f05-2094835dd4c2",
   "metadata": {},
   "outputs": [],
   "source": [
    "op_routes_gdf = gpd.read_parquet(\n",
    "    op_routes_url,\n",
    "    filters=[[(\"name\", \"==\", name), (\"service_date\", \"==\", selected_date)]],\n",
    ")"
   ]
  },
  {
   "cell_type": "code",
   "execution_count": 21,
   "id": "bdf2c14f-cc72-4fdb-8bc9-b8c06863e8ef",
   "metadata": {},
   "outputs": [],
   "source": [
    "cols_to_drop_preview = [\n",
    "    \"shape_array_key\",\n",
    "    \"geometry\",\n",
    "    \"feed_key\",\n",
    "    \"schedule_gtfs_dataset_key\",\n",
    "    \"organization_source_record_id\",\n",
    "    \"name\",\n",
    "    \"route_id\",\n",
    "]"
   ]
  },
  {
   "cell_type": "code",
   "execution_count": 22,
   "id": "efabe1f2-fae7-4c84-9cc0-bdae2d056dd3",
   "metadata": {},
   "outputs": [
    {
     "data": {
      "text/plain": [
       "0.00    19\n",
       "1.00    17\n",
       "Name: direction_id, dtype: int64"
      ]
     },
     "execution_count": 22,
     "metadata": {},
     "output_type": "execute_result"
    }
   ],
   "source": [
    "op_routes_gdf.direction_id.value_counts()"
   ]
  },
  {
   "cell_type": "code",
   "execution_count": 23,
   "id": "d2f0e284-24d0-4651-8577-9f0fe196cb8c",
   "metadata": {},
   "outputs": [
    {
     "data": {
      "text/html": [
       "<div>\n",
       "<style scoped>\n",
       "    .dataframe tbody tr th:only-of-type {\n",
       "        vertical-align: middle;\n",
       "    }\n",
       "\n",
       "    .dataframe tbody tr th {\n",
       "        vertical-align: top;\n",
       "    }\n",
       "\n",
       "    .dataframe thead th {\n",
       "        text-align: right;\n",
       "    }\n",
       "</style>\n",
       "<table border=\"1\" class=\"dataframe\">\n",
       "  <thead>\n",
       "    <tr style=\"text-align: right;\">\n",
       "      <th></th>\n",
       "      <th>direction_id</th>\n",
       "      <th>route_key</th>\n",
       "      <th>route_length</th>\n",
       "      <th>route_length_miles</th>\n",
       "      <th>organization_name</th>\n",
       "      <th>service_date</th>\n",
       "      <th>route_long_name</th>\n",
       "      <th>route_short_name</th>\n",
       "      <th>route_combined_name</th>\n",
       "    </tr>\n",
       "  </thead>\n",
       "  <tbody>\n",
       "    <tr>\n",
       "      <th>0</th>\n",
       "      <td>0.00</td>\n",
       "      <td>5036d8d8f640c99b7b38296bc5576a02</td>\n",
       "      <td>3801.44</td>\n",
       "      <td>2.36</td>\n",
       "      <td>Santa Barbara Metropolitan Transit District</td>\n",
       "      <td>2024-03-13</td>\n",
       "      <td>West Santa Barbara</td>\n",
       "      <td>1</td>\n",
       "      <td>1 West Santa Barbara</td>\n",
       "    </tr>\n",
       "  </tbody>\n",
       "</table>\n",
       "</div>"
      ],
      "text/plain": [
       "   direction_id                         route_key  route_length  \\\n",
       "0          0.00  5036d8d8f640c99b7b38296bc5576a02       3801.44   \n",
       "\n",
       "   route_length_miles                            organization_name  \\\n",
       "0                2.36  Santa Barbara Metropolitan Transit District   \n",
       "\n",
       "  service_date     route_long_name route_short_name   route_combined_name  \n",
       "0   2024-03-13  West Santa Barbara                1  1 West Santa Barbara  "
      ]
     },
     "execution_count": 23,
     "metadata": {},
     "output_type": "execute_result"
    }
   ],
   "source": [
    "op_routes_gdf.loc[\n",
    "    op_routes_gdf.route_combined_name == \"1 West Santa Barbara\"\n",
    "].sort_values(by=[\"service_date\", \"direction_id\"]).drop(columns=cols_to_drop_preview)"
   ]
  },
  {
   "cell_type": "code",
   "execution_count": 24,
   "id": "5e3b8313-8cba-42bf-8896-ace7411edcff",
   "metadata": {},
   "outputs": [],
   "source": [
    "# op_routes_gdf.drop(columns = ['service_date']).explore('route_combined_name', tiles = \"CartoDB positron\")"
   ]
  },
  {
   "cell_type": "code",
   "execution_count": 25,
   "id": "b8adf1bd-9f47-461a-afa8-23cc5712e4a2",
   "metadata": {},
   "outputs": [
    {
     "data": {
      "text/plain": [
       "['direction_id',\n",
       " 'feed_key',\n",
       " 'geometry',\n",
       " 'name',\n",
       " 'organization_name',\n",
       " 'organization_source_record_id',\n",
       " 'route_combined_name',\n",
       " 'route_id',\n",
       " 'route_key',\n",
       " 'route_length',\n",
       " 'route_length_miles',\n",
       " 'route_long_name',\n",
       " 'route_short_name',\n",
       " 'schedule_gtfs_dataset_key',\n",
       " 'service_date',\n",
       " 'shape_array_key']"
      ]
     },
     "execution_count": 25,
     "metadata": {},
     "output_type": "execute_result"
    }
   ],
   "source": [
    "sorted(list(op_routes_gdf.columns))"
   ]
  },
  {
   "cell_type": "markdown",
   "id": "cb19d787-c4c0-4f38-83fc-cf1757fe37f8",
   "metadata": {},
   "source": [
    "### Add route length to Section 2 operator and/or route-direction monthly stats "
   ]
  },
  {
   "cell_type": "code",
   "execution_count": 26,
   "id": "01fccbfa-b210-482b-a185-10854bd11984",
   "metadata": {},
   "outputs": [],
   "source": [
    "no_dup_routes = (\n",
    "    op_routes_gdf.drop_duplicates(subset=[\"route_combined_name\"])\n",
    "    .drop(columns=cols_to_drop_preview)\n",
    "    .sort_values(by=[\"route_length_miles\"], ascending=False)\n",
    ")"
   ]
  },
  {
   "cell_type": "code",
   "execution_count": 27,
   "id": "c7b4bf04-40dc-4518-8c6c-7f0f828c0ad3",
   "metadata": {},
   "outputs": [
    {
     "data": {
      "text/html": [
       "<div>\n",
       "<style scoped>\n",
       "    .dataframe tbody tr th:only-of-type {\n",
       "        vertical-align: middle;\n",
       "    }\n",
       "\n",
       "    .dataframe tbody tr th {\n",
       "        vertical-align: top;\n",
       "    }\n",
       "\n",
       "    .dataframe thead th {\n",
       "        text-align: right;\n",
       "    }\n",
       "</style>\n",
       "<table border=\"1\" class=\"dataframe\">\n",
       "  <thead>\n",
       "    <tr style=\"text-align: right;\">\n",
       "      <th></th>\n",
       "      <th>direction_id</th>\n",
       "      <th>route_key</th>\n",
       "      <th>route_length</th>\n",
       "      <th>route_length_miles</th>\n",
       "      <th>organization_name</th>\n",
       "      <th>service_date</th>\n",
       "      <th>route_long_name</th>\n",
       "      <th>route_short_name</th>\n",
       "      <th>route_combined_name</th>\n",
       "    </tr>\n",
       "  </thead>\n",
       "  <tbody>\n",
       "    <tr>\n",
       "      <th>8</th>\n",
       "      <td>1.00</td>\n",
       "      <td>954963f56efc380e7d8534695eff7b32</td>\n",
       "      <td>25614.41</td>\n",
       "      <td>15.92</td>\n",
       "      <td>Santa Barbara Metropolitan Transit District</td>\n",
       "      <td>2024-03-13</td>\n",
       "      <td>Carpinteria</td>\n",
       "      <td>20</td>\n",
       "      <td>20 Carpinteria</td>\n",
       "    </tr>\n",
       "    <tr>\n",
       "      <th>4</th>\n",
       "      <td>1.00</td>\n",
       "      <td>f50aa8320989dd70bb9eecd99c55d857</td>\n",
       "      <td>23055.55</td>\n",
       "      <td>14.33</td>\n",
       "      <td>Santa Barbara Metropolitan Transit District</td>\n",
       "      <td>2024-03-13</td>\n",
       "      <td>SBCC/UCSB Express</td>\n",
       "      <td>15X</td>\n",
       "      <td>15X SBCC/UCSB Express</td>\n",
       "    </tr>\n",
       "    <tr>\n",
       "      <th>1</th>\n",
       "      <td>1.00</td>\n",
       "      <td>c69fd0ca999f1e758fd6b729cabf3bbd</td>\n",
       "      <td>22823.68</td>\n",
       "      <td>14.18</td>\n",
       "      <td>Santa Barbara Metropolitan Transit District</td>\n",
       "      <td>2024-03-13</td>\n",
       "      <td>UCSB</td>\n",
       "      <td>11</td>\n",
       "      <td>11 UCSB</td>\n",
       "    </tr>\n",
       "    <tr>\n",
       "      <th>15</th>\n",
       "      <td>1.00</td>\n",
       "      <td>586423a90e5943518edc2bcea7de8abf</td>\n",
       "      <td>21485.82</td>\n",
       "      <td>13.35</td>\n",
       "      <td>Santa Barbara Metropolitan Transit District</td>\n",
       "      <td>2024-03-13</td>\n",
       "      <td>UCSB Express</td>\n",
       "      <td>24X</td>\n",
       "      <td>24X UCSB Express</td>\n",
       "    </tr>\n",
       "    <tr>\n",
       "      <th>6</th>\n",
       "      <td>0.00</td>\n",
       "      <td>fdd4fcd898e97281dae60bf6db8933bd</td>\n",
       "      <td>21114.23</td>\n",
       "      <td>13.12</td>\n",
       "      <td>Santa Barbara Metropolitan Transit District</td>\n",
       "      <td>2024-03-13</td>\n",
       "      <td>Carp SBCC Express</td>\n",
       "      <td>19X</td>\n",
       "      <td>19X Carp SBCC Express</td>\n",
       "    </tr>\n",
       "  </tbody>\n",
       "</table>\n",
       "</div>"
      ],
      "text/plain": [
       "    direction_id                         route_key  route_length  \\\n",
       "8           1.00  954963f56efc380e7d8534695eff7b32      25614.41   \n",
       "4           1.00  f50aa8320989dd70bb9eecd99c55d857      23055.55   \n",
       "1           1.00  c69fd0ca999f1e758fd6b729cabf3bbd      22823.68   \n",
       "15          1.00  586423a90e5943518edc2bcea7de8abf      21485.82   \n",
       "6           0.00  fdd4fcd898e97281dae60bf6db8933bd      21114.23   \n",
       "\n",
       "    route_length_miles                            organization_name  \\\n",
       "8                15.92  Santa Barbara Metropolitan Transit District   \n",
       "4                14.33  Santa Barbara Metropolitan Transit District   \n",
       "1                14.18  Santa Barbara Metropolitan Transit District   \n",
       "15               13.35  Santa Barbara Metropolitan Transit District   \n",
       "6                13.12  Santa Barbara Metropolitan Transit District   \n",
       "\n",
       "   service_date    route_long_name route_short_name    route_combined_name  \n",
       "8    2024-03-13        Carpinteria               20         20 Carpinteria  \n",
       "4    2024-03-13  SBCC/UCSB Express              15X  15X SBCC/UCSB Express  \n",
       "1    2024-03-13               UCSB               11                11 UCSB  \n",
       "15   2024-03-13       UCSB Express              24X       24X UCSB Express  \n",
       "6    2024-03-13  Carp SBCC Express              19X  19X Carp SBCC Express  "
      ]
     },
     "execution_count": 27,
     "metadata": {},
     "output_type": "execute_result"
    }
   ],
   "source": [
    "no_dup_routes.head()"
   ]
  },
  {
   "cell_type": "code",
   "execution_count": 28,
   "id": "67d60ef6-6615-4476-8d4a-074d5a8e94eb",
   "metadata": {},
   "outputs": [
    {
     "data": {
      "text/plain": [
       "True"
      ]
     },
     "execution_count": 28,
     "metadata": {},
     "output_type": "execute_result"
    }
   ],
   "source": [
    "len(no_dup_routes) == no_dup_routes.route_combined_name.nunique()"
   ]
  },
  {
   "cell_type": "markdown",
   "id": "89d35b02-f273-41f2-b6c1-42240a355818",
   "metadata": {},
   "source": [
    "### Add to section 1"
   ]
  },
  {
   "cell_type": "code",
   "execution_count": 29,
   "id": "2d5784a1-c86c-49d8-87bb-16fb5db98156",
   "metadata": {},
   "outputs": [
    {
     "data": {
      "text/plain": [
       "'The longest route SBMTD Schedule runs is 20 Carpinteria which totals to 15.92 miles.'"
      ]
     },
     "execution_count": 29,
     "metadata": {},
     "output_type": "execute_result"
    }
   ],
   "source": [
    "f\"The longest route {name} runs is {no_dup_routes.route_combined_name.values[0]} which totals to {no_dup_routes.route_length_miles.values[0]} miles.\""
   ]
  },
  {
   "cell_type": "code",
   "execution_count": 30,
   "id": "88386dce-9208-49b6-a28d-8ffe4e626c04",
   "metadata": {},
   "outputs": [
    {
     "data": {
      "text/plain": [
       "'The average length of a route is 7.05 miles.'"
      ]
     },
     "execution_count": 30,
     "metadata": {},
     "output_type": "execute_result"
    }
   ],
   "source": [
    "f\"The average length of a route is {no_dup_routes.route_length_miles.mean().round(2)} miles.\""
   ]
  },
  {
   "cell_type": "code",
   "execution_count": 31,
   "id": "ed0c440d-d233-4652-a175-064b969a5d14",
   "metadata": {},
   "outputs": [
    {
     "data": {
      "text/plain": [
       "253.84"
      ]
     },
     "execution_count": 31,
     "metadata": {},
     "output_type": "execute_result"
    }
   ],
   "source": [
    "no_dup_routes.route_length_miles.sum()"
   ]
  },
  {
   "cell_type": "code",
   "execution_count": 32,
   "id": "0da315e0-1eb5-42ee-ae62-b7ef8ab099a6",
   "metadata": {},
   "outputs": [
    {
     "data": {
      "text/plain": [
       "'SBMTD Schedule runs 36 routes'"
      ]
     },
     "execution_count": 32,
     "metadata": {},
     "output_type": "execute_result"
    }
   ],
   "source": [
    "f\"{name} runs {op_routes_gdf.route_combined_name.nunique()} routes\""
   ]
  },
  {
   "cell_type": "markdown",
   "id": "c50503c0-190c-4805-a93c-278a5090e4ad",
   "metadata": {},
   "source": [
    "## 3 monthly_scheduled_service \n",
    "* part of section 1\n",
    "* https://dbt-docs.calitp.org/#!/model/model.calitp_warehouse.fct_monthly_route_service_by_timeofday\n",
    "* Total scheduled service hours: that occurred for the route for this month, day_type, and time_of_day.\n",
    "    * That means I want to just take the max of the total scheduled service hours after grouping."
   ]
  },
  {
   "cell_type": "code",
   "execution_count": 33,
   "id": "ed9ce8ef-8a1a-4e38-b705-8dd79e542a63",
   "metadata": {},
   "outputs": [],
   "source": [
    "monthly_schd_service_url = f\"{GTFS_DATA_DICT.schedule_tables.gcs_dir}{GTFS_DATA_DICT.schedule_tables.monthly_scheduled_service}_{year}.parquet\""
   ]
  },
  {
   "cell_type": "code",
   "execution_count": 34,
   "id": "cb8888ab-425b-43bc-92db-68d44ee0dc91",
   "metadata": {},
   "outputs": [],
   "source": [
    "monthly_scheduled_service_df = pd.read_parquet(monthly_schd_service_url)"
   ]
  },
  {
   "cell_type": "code",
   "execution_count": 35,
   "id": "9e2f04e6-533c-472b-97dd-46f714d0dcc1",
   "metadata": {},
   "outputs": [
    {
     "data": {
      "text/plain": [
       "['day_type',\n",
       " 'key',\n",
       " 'month',\n",
       " 'n_trips',\n",
       " 'name',\n",
       " 'route_id',\n",
       " 'route_long_name',\n",
       " 'route_short_name',\n",
       " 'source_record_id',\n",
       " 'time_of_day',\n",
       " 'ttl_service_hours',\n",
       " 'year']"
      ]
     },
     "execution_count": 35,
     "metadata": {},
     "output_type": "execute_result"
    }
   ],
   "source": [
    "sorted(list(monthly_scheduled_service_df.columns))"
   ]
  },
  {
   "cell_type": "markdown",
   "id": "f22b430f-a2ac-4fd8-a574-32a8fce20327",
   "metadata": {},
   "source": [
    "## 4 segment_speeds\n",
    "* Hold off on map"
   ]
  },
  {
   "cell_type": "code",
   "execution_count": 36,
   "id": "0cc51da8-02fb-4bf4-9167-fda5a4edaf9d",
   "metadata": {},
   "outputs": [],
   "source": [
    "seg_speeds_url = f\"{GTFS_DATA_DICT.digest_tables.dir}{GTFS_DATA_DICT.digest_tables.route_segment_speeds}.parquet\""
   ]
  },
  {
   "cell_type": "code",
   "execution_count": 37,
   "id": "12ea4a51-f1d0-492e-890d-8262a3f29674",
   "metadata": {},
   "outputs": [],
   "source": [
    "seg_speeds_gdf = gpd.read_parquet(\n",
    "    seg_speeds_url,\n",
    "    filters=[[(\"name\", \"==\", name), (\"service_date\", \"==\", selected_date)]],\n",
    ")"
   ]
  },
  {
   "cell_type": "code",
   "execution_count": 38,
   "id": "c14efd63-0b01-4a28-bd9e-32268f5a3d01",
   "metadata": {},
   "outputs": [],
   "source": [
    "seg_speeds_one_route = seg_speeds_gdf.loc[\n",
    "    seg_speeds_gdf.route_combined_name == \"14 Montecito\"\n",
    "]"
   ]
  },
  {
   "cell_type": "code",
   "execution_count": 39,
   "id": "ca7cfd43-8370-44b0-a6f3-5e9fc919a017",
   "metadata": {},
   "outputs": [
    {
     "data": {
      "text/plain": [
       "195"
      ]
     },
     "execution_count": 39,
     "metadata": {},
     "output_type": "execute_result"
    }
   ],
   "source": [
    "len(seg_speeds_one_route)"
   ]
  },
  {
   "cell_type": "code",
   "execution_count": 40,
   "id": "902752b9-4dec-4267-83f3-30fd1805e052",
   "metadata": {},
   "outputs": [
    {
     "data": {
      "text/plain": [
       "Index(['schedule_gtfs_dataset_key', 'direction_id', 'time_period', 'stop_pair',\n",
       "       'stop_pair_name', 'p20_mph', 'p50_mph', 'p80_mph', 'geometry',\n",
       "       'service_date', 'name', 'route_long_name', 'route_short_name',\n",
       "       'route_combined_name', 'route_id'],\n",
       "      dtype='object')"
      ]
     },
     "execution_count": 40,
     "metadata": {},
     "output_type": "execute_result"
    }
   ],
   "source": [
    "seg_speeds_one_route.columns"
   ]
  },
  {
   "cell_type": "code",
   "execution_count": 41,
   "id": "8aa9514b-9cee-4ae1-b942-57a89ac1b4fc",
   "metadata": {},
   "outputs": [],
   "source": [
    "# seg_speeds_one_route.drop(columns = ['service_date']).explore('p50_mph')"
   ]
  },
  {
   "cell_type": "code",
   "execution_count": 42,
   "id": "1704489b-c825-4111-a1b0-32f4080535c9",
   "metadata": {},
   "outputs": [
    {
     "data": {
      "text/plain": [
       "['direction_id',\n",
       " 'geometry',\n",
       " 'name',\n",
       " 'p20_mph',\n",
       " 'p50_mph',\n",
       " 'p80_mph',\n",
       " 'route_combined_name',\n",
       " 'route_id',\n",
       " 'route_long_name',\n",
       " 'route_short_name',\n",
       " 'schedule_gtfs_dataset_key',\n",
       " 'service_date',\n",
       " 'stop_pair',\n",
       " 'stop_pair_name',\n",
       " 'time_period']"
      ]
     },
     "execution_count": 42,
     "metadata": {},
     "output_type": "execute_result"
    }
   ],
   "source": [
    "sorted(list(seg_speeds_gdf.columns))"
   ]
  },
  {
   "cell_type": "code",
   "execution_count": 43,
   "id": "cbf44882-c1ed-4e86-8b7c-3321733716bd",
   "metadata": {},
   "outputs": [
    {
     "data": {
      "text/html": [
       "<div>\n",
       "<style scoped>\n",
       "    .dataframe tbody tr th:only-of-type {\n",
       "        vertical-align: middle;\n",
       "    }\n",
       "\n",
       "    .dataframe tbody tr th {\n",
       "        vertical-align: top;\n",
       "    }\n",
       "\n",
       "    .dataframe thead th {\n",
       "        text-align: right;\n",
       "    }\n",
       "</style>\n",
       "<table border=\"1\" class=\"dataframe\">\n",
       "  <thead>\n",
       "    <tr style=\"text-align: right;\">\n",
       "      <th></th>\n",
       "      <th>schedule_gtfs_dataset_key</th>\n",
       "      <th>direction_id</th>\n",
       "      <th>time_period</th>\n",
       "      <th>stop_pair</th>\n",
       "      <th>stop_pair_name</th>\n",
       "      <th>p20_mph</th>\n",
       "      <th>p50_mph</th>\n",
       "      <th>p80_mph</th>\n",
       "      <th>service_date</th>\n",
       "      <th>name</th>\n",
       "      <th>route_long_name</th>\n",
       "      <th>route_short_name</th>\n",
       "      <th>route_combined_name</th>\n",
       "      <th>route_id</th>\n",
       "    </tr>\n",
       "  </thead>\n",
       "  <tbody>\n",
       "    <tr>\n",
       "      <th>1033</th>\n",
       "      <td>239f3baf3dd3b9e9464f66a777f9897d</td>\n",
       "      <td>0</td>\n",
       "      <td>peak</td>\n",
       "      <td>326__327</td>\n",
       "      <td>Gutierrez &amp; Nopal__Gutierrez &amp; Salsipuedes</td>\n",
       "      <td>9.34</td>\n",
       "      <td>9.39</td>\n",
       "      <td>9.43</td>\n",
       "      <td>2024-03-13</td>\n",
       "      <td>SBMTD Schedule</td>\n",
       "      <td>Carpinteria</td>\n",
       "      <td>20</td>\n",
       "      <td>20 Carpinteria</td>\n",
       "      <td>20</td>\n",
       "    </tr>\n",
       "  </tbody>\n",
       "</table>\n",
       "</div>"
      ],
      "text/plain": [
       "             schedule_gtfs_dataset_key  direction_id time_period stop_pair  \\\n",
       "1033  239f3baf3dd3b9e9464f66a777f9897d             0        peak  326__327   \n",
       "\n",
       "                                  stop_pair_name  p20_mph  p50_mph  p80_mph  \\\n",
       "1033  Gutierrez & Nopal__Gutierrez & Salsipuedes     9.34     9.39     9.43   \n",
       "\n",
       "     service_date            name route_long_name route_short_name  \\\n",
       "1033   2024-03-13  SBMTD Schedule     Carpinteria               20   \n",
       "\n",
       "     route_combined_name route_id  \n",
       "1033      20 Carpinteria       20  "
      ]
     },
     "execution_count": 43,
     "metadata": {},
     "output_type": "execute_result"
    }
   ],
   "source": [
    "seg_speeds_gdf.drop(columns = ['geometry']).sample()"
   ]
  },
  {
   "cell_type": "markdown",
   "id": "64670ffe-c7a4-45ba-8b19-33b4624b4b83",
   "metadata": {},
   "source": [
    "## 5 digest/operator_schedule_rt_category\n",
    "* How is this different then what we can find in `digest/schedule_vp_metrics`?"
   ]
  },
  {
   "cell_type": "code",
   "execution_count": 44,
   "id": "771d0eef-6caa-4746-87a2-76a3caf85560",
   "metadata": {},
   "outputs": [],
   "source": [
    "op_schd_rt_category_url = f\"{GTFS_DATA_DICT.digest_tables.dir}{GTFS_DATA_DICT.digest_tables.operator_sched_rt}.parquet\""
   ]
  },
  {
   "cell_type": "code",
   "execution_count": 45,
   "id": "90983f50-dd3a-41c7-a471-54206676e59b",
   "metadata": {},
   "outputs": [],
   "source": [
    "op_schd_rt_category_df = pd.read_parquet(op_schd_rt_category_url)"
   ]
  },
  {
   "cell_type": "code",
   "execution_count": 46,
   "id": "dd3c4a5c-b9e3-4a41-b6f0-29f8d6e549b7",
   "metadata": {},
   "outputs": [
    {
     "data": {
      "text/html": [
       "<div>\n",
       "<style scoped>\n",
       "    .dataframe tbody tr th:only-of-type {\n",
       "        vertical-align: middle;\n",
       "    }\n",
       "\n",
       "    .dataframe tbody tr th {\n",
       "        vertical-align: top;\n",
       "    }\n",
       "\n",
       "    .dataframe thead th {\n",
       "        text-align: right;\n",
       "    }\n",
       "</style>\n",
       "<table border=\"1\" class=\"dataframe\">\n",
       "  <thead>\n",
       "    <tr style=\"text-align: right;\">\n",
       "      <th></th>\n",
       "      <th>schedule_gtfs_dataset_key</th>\n",
       "      <th>service_date</th>\n",
       "      <th>sched_rt_category</th>\n",
       "      <th>n_trips</th>\n",
       "    </tr>\n",
       "  </thead>\n",
       "  <tbody>\n",
       "    <tr>\n",
       "      <th>0</th>\n",
       "      <td>014d0998350083249a9eb310635548c2</td>\n",
       "      <td>2023-03-15</td>\n",
       "      <td>schedule_only</td>\n",
       "      <td>0</td>\n",
       "    </tr>\n",
       "  </tbody>\n",
       "</table>\n",
       "</div>"
      ],
      "text/plain": [
       "          schedule_gtfs_dataset_key service_date sched_rt_category  n_trips\n",
       "0  014d0998350083249a9eb310635548c2   2023-03-15     schedule_only        0"
      ]
     },
     "execution_count": 46,
     "metadata": {},
     "output_type": "execute_result"
    }
   ],
   "source": [
    "op_schd_rt_category_df.head(1)"
   ]
  },
  {
   "cell_type": "code",
   "execution_count": 47,
   "id": "d64aac8f-738a-4b34-ae02-2d23603a2d67",
   "metadata": {},
   "outputs": [
    {
     "data": {
      "text/plain": [
       "(11592, 4)"
      ]
     },
     "execution_count": 47,
     "metadata": {},
     "output_type": "execute_result"
    }
   ],
   "source": [
    "op_schd_rt_category_df.shape"
   ]
  },
  {
   "cell_type": "code",
   "execution_count": 48,
   "id": "71ccad5c-5ca9-45b5-8daf-3872e0a1f67f",
   "metadata": {},
   "outputs": [
    {
     "data": {
      "text/plain": [
       "['n_trips', 'sched_rt_category', 'schedule_gtfs_dataset_key', 'service_date']"
      ]
     },
     "execution_count": 48,
     "metadata": {},
     "output_type": "execute_result"
    }
   ],
   "source": [
    "sorted(list(op_schd_rt_category_df.columns))"
   ]
  },
  {
   "cell_type": "code",
   "execution_count": 49,
   "id": "1b7c2d69-a911-420b-960c-63e26f6d4e15",
   "metadata": {},
   "outputs": [
    {
     "data": {
      "text/html": [
       "<div>\n",
       "<style scoped>\n",
       "    .dataframe tbody tr th:only-of-type {\n",
       "        vertical-align: middle;\n",
       "    }\n",
       "\n",
       "    .dataframe tbody tr th {\n",
       "        vertical-align: top;\n",
       "    }\n",
       "\n",
       "    .dataframe thead th {\n",
       "        text-align: right;\n",
       "    }\n",
       "</style>\n",
       "<table border=\"1\" class=\"dataframe\">\n",
       "  <thead>\n",
       "    <tr style=\"text-align: right;\">\n",
       "      <th></th>\n",
       "      <th></th>\n",
       "      <th></th>\n",
       "      <th>n_trips</th>\n",
       "    </tr>\n",
       "    <tr>\n",
       "      <th>service_date</th>\n",
       "      <th>sched_rt_category</th>\n",
       "      <th>schedule_gtfs_dataset_key</th>\n",
       "      <th></th>\n",
       "    </tr>\n",
       "  </thead>\n",
       "  <tbody>\n",
       "    <tr>\n",
       "      <th rowspan=\"3\" valign=\"top\">2023-03-15</th>\n",
       "      <th>schedule_only</th>\n",
       "      <th>7cc0cb1871dfd558f11a2885c145d144</th>\n",
       "      <td>0</td>\n",
       "    </tr>\n",
       "    <tr>\n",
       "      <th>vp_only</th>\n",
       "      <th>7cc0cb1871dfd558f11a2885c145d144</th>\n",
       "      <td>0</td>\n",
       "    </tr>\n",
       "    <tr>\n",
       "      <th>schedule_and_vp</th>\n",
       "      <th>7cc0cb1871dfd558f11a2885c145d144</th>\n",
       "      <td>0</td>\n",
       "    </tr>\n",
       "    <tr>\n",
       "      <th rowspan=\"3\" valign=\"top\">2023-04-12</th>\n",
       "      <th>schedule_only</th>\n",
       "      <th>7cc0cb1871dfd558f11a2885c145d144</th>\n",
       "      <td>0</td>\n",
       "    </tr>\n",
       "    <tr>\n",
       "      <th>vp_only</th>\n",
       "      <th>7cc0cb1871dfd558f11a2885c145d144</th>\n",
       "      <td>570</td>\n",
       "    </tr>\n",
       "    <tr>\n",
       "      <th>schedule_and_vp</th>\n",
       "      <th>7cc0cb1871dfd558f11a2885c145d144</th>\n",
       "      <td>8671</td>\n",
       "    </tr>\n",
       "    <tr>\n",
       "      <th rowspan=\"3\" valign=\"top\">2023-05-17</th>\n",
       "      <th>schedule_only</th>\n",
       "      <th>7cc0cb1871dfd558f11a2885c145d144</th>\n",
       "      <td>0</td>\n",
       "    </tr>\n",
       "    <tr>\n",
       "      <th>vp_only</th>\n",
       "      <th>7cc0cb1871dfd558f11a2885c145d144</th>\n",
       "      <td>589</td>\n",
       "    </tr>\n",
       "    <tr>\n",
       "      <th>schedule_and_vp</th>\n",
       "      <th>7cc0cb1871dfd558f11a2885c145d144</th>\n",
       "      <td>8597</td>\n",
       "    </tr>\n",
       "    <tr>\n",
       "      <th rowspan=\"3\" valign=\"top\">2023-06-14</th>\n",
       "      <th>schedule_only</th>\n",
       "      <th>7cc0cb1871dfd558f11a2885c145d144</th>\n",
       "      <td>0</td>\n",
       "    </tr>\n",
       "    <tr>\n",
       "      <th>vp_only</th>\n",
       "      <th>7cc0cb1871dfd558f11a2885c145d144</th>\n",
       "      <td>598</td>\n",
       "    </tr>\n",
       "    <tr>\n",
       "      <th>schedule_and_vp</th>\n",
       "      <th>7cc0cb1871dfd558f11a2885c145d144</th>\n",
       "      <td>8726</td>\n",
       "    </tr>\n",
       "    <tr>\n",
       "      <th rowspan=\"3\" valign=\"top\">2023-07-12</th>\n",
       "      <th>schedule_only</th>\n",
       "      <th>7cc0cb1871dfd558f11a2885c145d144</th>\n",
       "      <td>0</td>\n",
       "    </tr>\n",
       "    <tr>\n",
       "      <th>vp_only</th>\n",
       "      <th>7cc0cb1871dfd558f11a2885c145d144</th>\n",
       "      <td>551</td>\n",
       "    </tr>\n",
       "    <tr>\n",
       "      <th>schedule_and_vp</th>\n",
       "      <th>7cc0cb1871dfd558f11a2885c145d144</th>\n",
       "      <td>8768</td>\n",
       "    </tr>\n",
       "    <tr>\n",
       "      <th rowspan=\"3\" valign=\"top\">2023-08-15</th>\n",
       "      <th>schedule_only</th>\n",
       "      <th>7cc0cb1871dfd558f11a2885c145d144</th>\n",
       "      <td>0</td>\n",
       "    </tr>\n",
       "    <tr>\n",
       "      <th>vp_only</th>\n",
       "      <th>7cc0cb1871dfd558f11a2885c145d144</th>\n",
       "      <td>529</td>\n",
       "    </tr>\n",
       "    <tr>\n",
       "      <th>schedule_and_vp</th>\n",
       "      <th>7cc0cb1871dfd558f11a2885c145d144</th>\n",
       "      <td>8645</td>\n",
       "    </tr>\n",
       "    <tr>\n",
       "      <th rowspan=\"3\" valign=\"top\">2023-09-13</th>\n",
       "      <th>schedule_only</th>\n",
       "      <th>7cc0cb1871dfd558f11a2885c145d144</th>\n",
       "      <td>0</td>\n",
       "    </tr>\n",
       "    <tr>\n",
       "      <th>vp_only</th>\n",
       "      <th>7cc0cb1871dfd558f11a2885c145d144</th>\n",
       "      <td>0</td>\n",
       "    </tr>\n",
       "    <tr>\n",
       "      <th>schedule_and_vp</th>\n",
       "      <th>7cc0cb1871dfd558f11a2885c145d144</th>\n",
       "      <td>0</td>\n",
       "    </tr>\n",
       "    <tr>\n",
       "      <th rowspan=\"3\" valign=\"top\">2023-10-11</th>\n",
       "      <th>schedule_only</th>\n",
       "      <th>7cc0cb1871dfd558f11a2885c145d144</th>\n",
       "      <td>0</td>\n",
       "    </tr>\n",
       "    <tr>\n",
       "      <th>vp_only</th>\n",
       "      <th>7cc0cb1871dfd558f11a2885c145d144</th>\n",
       "      <td>538</td>\n",
       "    </tr>\n",
       "    <tr>\n",
       "      <th>schedule_and_vp</th>\n",
       "      <th>7cc0cb1871dfd558f11a2885c145d144</th>\n",
       "      <td>8702</td>\n",
       "    </tr>\n",
       "    <tr>\n",
       "      <th rowspan=\"3\" valign=\"top\">2023-11-15</th>\n",
       "      <th>schedule_only</th>\n",
       "      <th>7cc0cb1871dfd558f11a2885c145d144</th>\n",
       "      <td>411</td>\n",
       "    </tr>\n",
       "    <tr>\n",
       "      <th>vp_only</th>\n",
       "      <th>7cc0cb1871dfd558f11a2885c145d144</th>\n",
       "      <td>516</td>\n",
       "    </tr>\n",
       "    <tr>\n",
       "      <th>schedule_and_vp</th>\n",
       "      <th>7cc0cb1871dfd558f11a2885c145d144</th>\n",
       "      <td>8283</td>\n",
       "    </tr>\n",
       "    <tr>\n",
       "      <th rowspan=\"3\" valign=\"top\">2023-12-13</th>\n",
       "      <th>schedule_only</th>\n",
       "      <th>7cc0cb1871dfd558f11a2885c145d144</th>\n",
       "      <td>0</td>\n",
       "    </tr>\n",
       "    <tr>\n",
       "      <th>vp_only</th>\n",
       "      <th>7cc0cb1871dfd558f11a2885c145d144</th>\n",
       "      <td>547</td>\n",
       "    </tr>\n",
       "    <tr>\n",
       "      <th>schedule_and_vp</th>\n",
       "      <th>7cc0cb1871dfd558f11a2885c145d144</th>\n",
       "      <td>8859</td>\n",
       "    </tr>\n",
       "    <tr>\n",
       "      <th rowspan=\"3\" valign=\"top\">2024-01-17</th>\n",
       "      <th>schedule_only</th>\n",
       "      <th>7cc0cb1871dfd558f11a2885c145d144</th>\n",
       "      <td>0</td>\n",
       "    </tr>\n",
       "    <tr>\n",
       "      <th>vp_only</th>\n",
       "      <th>7cc0cb1871dfd558f11a2885c145d144</th>\n",
       "      <td>563</td>\n",
       "    </tr>\n",
       "    <tr>\n",
       "      <th>schedule_and_vp</th>\n",
       "      <th>7cc0cb1871dfd558f11a2885c145d144</th>\n",
       "      <td>8670</td>\n",
       "    </tr>\n",
       "    <tr>\n",
       "      <th rowspan=\"3\" valign=\"top\">2024-02-14</th>\n",
       "      <th>schedule_only</th>\n",
       "      <th>7cc0cb1871dfd558f11a2885c145d144</th>\n",
       "      <td>371</td>\n",
       "    </tr>\n",
       "    <tr>\n",
       "      <th>vp_only</th>\n",
       "      <th>7cc0cb1871dfd558f11a2885c145d144</th>\n",
       "      <td>534</td>\n",
       "    </tr>\n",
       "    <tr>\n",
       "      <th>schedule_and_vp</th>\n",
       "      <th>7cc0cb1871dfd558f11a2885c145d144</th>\n",
       "      <td>8487</td>\n",
       "    </tr>\n",
       "    <tr>\n",
       "      <th rowspan=\"3\" valign=\"top\">2024-03-13</th>\n",
       "      <th>schedule_only</th>\n",
       "      <th>7cc0cb1871dfd558f11a2885c145d144</th>\n",
       "      <td>0</td>\n",
       "    </tr>\n",
       "    <tr>\n",
       "      <th>vp_only</th>\n",
       "      <th>7cc0cb1871dfd558f11a2885c145d144</th>\n",
       "      <td>527</td>\n",
       "    </tr>\n",
       "    <tr>\n",
       "      <th>schedule_and_vp</th>\n",
       "      <th>7cc0cb1871dfd558f11a2885c145d144</th>\n",
       "      <td>8826</td>\n",
       "    </tr>\n",
       "    <tr>\n",
       "      <th rowspan=\"3\" valign=\"top\">2024-04-17</th>\n",
       "      <th>schedule_only</th>\n",
       "      <th>7cc0cb1871dfd558f11a2885c145d144</th>\n",
       "      <td>0</td>\n",
       "    </tr>\n",
       "    <tr>\n",
       "      <th>vp_only</th>\n",
       "      <th>7cc0cb1871dfd558f11a2885c145d144</th>\n",
       "      <td>539</td>\n",
       "    </tr>\n",
       "    <tr>\n",
       "      <th>schedule_and_vp</th>\n",
       "      <th>7cc0cb1871dfd558f11a2885c145d144</th>\n",
       "      <td>8678</td>\n",
       "    </tr>\n",
       "  </tbody>\n",
       "</table>\n",
       "</div>"
      ],
      "text/plain": [
       "                                                                 n_trips\n",
       "service_date sched_rt_category schedule_gtfs_dataset_key                \n",
       "2023-03-15   schedule_only     7cc0cb1871dfd558f11a2885c145d144        0\n",
       "             vp_only           7cc0cb1871dfd558f11a2885c145d144        0\n",
       "             schedule_and_vp   7cc0cb1871dfd558f11a2885c145d144        0\n",
       "2023-04-12   schedule_only     7cc0cb1871dfd558f11a2885c145d144        0\n",
       "             vp_only           7cc0cb1871dfd558f11a2885c145d144      570\n",
       "             schedule_and_vp   7cc0cb1871dfd558f11a2885c145d144     8671\n",
       "2023-05-17   schedule_only     7cc0cb1871dfd558f11a2885c145d144        0\n",
       "             vp_only           7cc0cb1871dfd558f11a2885c145d144      589\n",
       "             schedule_and_vp   7cc0cb1871dfd558f11a2885c145d144     8597\n",
       "2023-06-14   schedule_only     7cc0cb1871dfd558f11a2885c145d144        0\n",
       "             vp_only           7cc0cb1871dfd558f11a2885c145d144      598\n",
       "             schedule_and_vp   7cc0cb1871dfd558f11a2885c145d144     8726\n",
       "2023-07-12   schedule_only     7cc0cb1871dfd558f11a2885c145d144        0\n",
       "             vp_only           7cc0cb1871dfd558f11a2885c145d144      551\n",
       "             schedule_and_vp   7cc0cb1871dfd558f11a2885c145d144     8768\n",
       "2023-08-15   schedule_only     7cc0cb1871dfd558f11a2885c145d144        0\n",
       "             vp_only           7cc0cb1871dfd558f11a2885c145d144      529\n",
       "             schedule_and_vp   7cc0cb1871dfd558f11a2885c145d144     8645\n",
       "2023-09-13   schedule_only     7cc0cb1871dfd558f11a2885c145d144        0\n",
       "             vp_only           7cc0cb1871dfd558f11a2885c145d144        0\n",
       "             schedule_and_vp   7cc0cb1871dfd558f11a2885c145d144        0\n",
       "2023-10-11   schedule_only     7cc0cb1871dfd558f11a2885c145d144        0\n",
       "             vp_only           7cc0cb1871dfd558f11a2885c145d144      538\n",
       "             schedule_and_vp   7cc0cb1871dfd558f11a2885c145d144     8702\n",
       "2023-11-15   schedule_only     7cc0cb1871dfd558f11a2885c145d144      411\n",
       "             vp_only           7cc0cb1871dfd558f11a2885c145d144      516\n",
       "             schedule_and_vp   7cc0cb1871dfd558f11a2885c145d144     8283\n",
       "2023-12-13   schedule_only     7cc0cb1871dfd558f11a2885c145d144        0\n",
       "             vp_only           7cc0cb1871dfd558f11a2885c145d144      547\n",
       "             schedule_and_vp   7cc0cb1871dfd558f11a2885c145d144     8859\n",
       "2024-01-17   schedule_only     7cc0cb1871dfd558f11a2885c145d144        0\n",
       "             vp_only           7cc0cb1871dfd558f11a2885c145d144      563\n",
       "             schedule_and_vp   7cc0cb1871dfd558f11a2885c145d144     8670\n",
       "2024-02-14   schedule_only     7cc0cb1871dfd558f11a2885c145d144      371\n",
       "             vp_only           7cc0cb1871dfd558f11a2885c145d144      534\n",
       "             schedule_and_vp   7cc0cb1871dfd558f11a2885c145d144     8487\n",
       "2024-03-13   schedule_only     7cc0cb1871dfd558f11a2885c145d144        0\n",
       "             vp_only           7cc0cb1871dfd558f11a2885c145d144      527\n",
       "             schedule_and_vp   7cc0cb1871dfd558f11a2885c145d144     8826\n",
       "2024-04-17   schedule_only     7cc0cb1871dfd558f11a2885c145d144        0\n",
       "             vp_only           7cc0cb1871dfd558f11a2885c145d144      539\n",
       "             schedule_and_vp   7cc0cb1871dfd558f11a2885c145d144     8678"
      ]
     },
     "execution_count": 49,
     "metadata": {},
     "output_type": "execute_result"
    }
   ],
   "source": [
    "op_schd_rt_category_df.loc[\n",
    "    op_schd_rt_category_df.schedule_gtfs_dataset_key\n",
    "    == \"7cc0cb1871dfd558f11a2885c145d144\"\n",
    "].groupby([\"service_date\", \"sched_rt_category\", \"schedule_gtfs_dataset_key\"]).agg(\n",
    "    {\"n_trips\": \"max\"}\n",
    ")"
   ]
  },
  {
   "cell_type": "markdown",
   "id": "e98352a1-48dd-48ef-9091-f1d8f0b156b1",
   "metadata": {},
   "source": [
    "## 6 digest/schedule_vp_metrics"
   ]
  },
  {
   "cell_type": "code",
   "execution_count": 50,
   "id": "84ec1c77-88e3-4c7b-9a02-72cb96579783",
   "metadata": {},
   "outputs": [],
   "source": [
    "schd_vp_url = f\"{GTFS_DATA_DICT.digest_tables.dir}{GTFS_DATA_DICT.digest_tables.route_schedule_vp}.parquet\""
   ]
  },
  {
   "cell_type": "code",
   "execution_count": 51,
   "id": "7488f3da-180b-4bdb-8799-42fb4e0dc57f",
   "metadata": {},
   "outputs": [],
   "source": [
    "schd_vp__df = pd.read_parquet(schd_vp_url, filters=[[(\"name\", \"==\", name)]])"
   ]
  },
  {
   "cell_type": "code",
   "execution_count": 52,
   "id": "5e5af3d4-93fa-429b-9b23-004fa76e97ac",
   "metadata": {},
   "outputs": [
    {
     "data": {
      "text/html": [
       "<div>\n",
       "<style scoped>\n",
       "    .dataframe tbody tr th:only-of-type {\n",
       "        vertical-align: middle;\n",
       "    }\n",
       "\n",
       "    .dataframe tbody tr th {\n",
       "        vertical-align: top;\n",
       "    }\n",
       "\n",
       "    .dataframe thead th {\n",
       "        text-align: right;\n",
       "    }\n",
       "</style>\n",
       "<table border=\"1\" class=\"dataframe\">\n",
       "  <thead>\n",
       "    <tr style=\"text-align: right;\">\n",
       "      <th></th>\n",
       "      <th>schedule_gtfs_dataset_key</th>\n",
       "      <th>direction_id</th>\n",
       "      <th>time_period</th>\n",
       "      <th>avg_scheduled_service_minutes</th>\n",
       "      <th>avg_stop_miles</th>\n",
       "      <th>n_scheduled_trips</th>\n",
       "      <th>frequency</th>\n",
       "      <th>service_date</th>\n",
       "      <th>minutes_atleast1_vp</th>\n",
       "      <th>minutes_atleast2_vp</th>\n",
       "      <th>total_rt_service_minutes</th>\n",
       "      <th>total_scheduled_service_minutes</th>\n",
       "      <th>total_vp</th>\n",
       "      <th>vp_in_shape</th>\n",
       "      <th>is_early</th>\n",
       "      <th>is_ontime</th>\n",
       "      <th>is_late</th>\n",
       "      <th>n_vp_trips</th>\n",
       "      <th>vp_per_minute</th>\n",
       "      <th>pct_in_shape</th>\n",
       "      <th>pct_rt_journey_atleast1_vp</th>\n",
       "      <th>pct_rt_journey_atleast2_vp</th>\n",
       "      <th>pct_sched_journey_atleast1_vp</th>\n",
       "      <th>pct_sched_journey_atleast2_vp</th>\n",
       "      <th>rt_sched_journey_ratio</th>\n",
       "      <th>avg_rt_service_minutes</th>\n",
       "      <th>sched_rt_category</th>\n",
       "      <th>speed_mph</th>\n",
       "      <th>name</th>\n",
       "      <th>route_long_name</th>\n",
       "      <th>route_short_name</th>\n",
       "      <th>route_combined_name</th>\n",
       "      <th>route_id</th>\n",
       "      <th>typology</th>\n",
       "      <th>schedule_source_record_id</th>\n",
       "      <th>base64_url</th>\n",
       "      <th>organization_source_record_id</th>\n",
       "      <th>organization_name</th>\n",
       "      <th>caltrans_district</th>\n",
       "    </tr>\n",
       "  </thead>\n",
       "  <tbody>\n",
       "    <tr>\n",
       "      <th>18826</th>\n",
       "      <td>239f3baf3dd3b9e9464f66a777f9897d</td>\n",
       "      <td>0.00</td>\n",
       "      <td>all_day</td>\n",
       "      <td>15.00</td>\n",
       "      <td>0.18</td>\n",
       "      <td>54</td>\n",
       "      <td>2.25</td>\n",
       "      <td>2023-09-13</td>\n",
       "      <td>863</td>\n",
       "      <td>258</td>\n",
       "      <td>900.19</td>\n",
       "      <td>795.00</td>\n",
       "      <td>1136</td>\n",
       "      <td>925</td>\n",
       "      <td>0</td>\n",
       "      <td>45</td>\n",
       "      <td>8</td>\n",
       "      <td>53</td>\n",
       "      <td>1.26</td>\n",
       "      <td>0.81</td>\n",
       "      <td>0.96</td>\n",
       "      <td>0.29</td>\n",
       "      <td>1.00</td>\n",
       "      <td>0.33</td>\n",
       "      <td>1.13</td>\n",
       "      <td>16.98</td>\n",
       "      <td>schedule_and_vp</td>\n",
       "      <td>8.92</td>\n",
       "      <td>SBMTD Schedule</td>\n",
       "      <td>West Santa Barbara</td>\n",
       "      <td>1</td>\n",
       "      <td>1 West Santa Barbara</td>\n",
       "      <td>1</td>\n",
       "      <td>rapid</td>\n",
       "      <td>rectQfIeiKDBeJSAV</td>\n",
       "      <td>aHR0cHM6Ly9zYm10ZC5nb3YvZ29vZ2xlX3RyYW5zaXQvZmVlZC56aXA=</td>\n",
       "      <td>recswCrw6a6htmXJ4</td>\n",
       "      <td>Santa Barbara Metropolitan Transit District</td>\n",
       "      <td>05 - San Luis Obispo</td>\n",
       "    </tr>\n",
       "    <tr>\n",
       "      <th>18827</th>\n",
       "      <td>239f3baf3dd3b9e9464f66a777f9897d</td>\n",
       "      <td>0.00</td>\n",
       "      <td>all_day</td>\n",
       "      <td>15.00</td>\n",
       "      <td>0.18</td>\n",
       "      <td>54</td>\n",
       "      <td>2.25</td>\n",
       "      <td>2023-10-11</td>\n",
       "      <td>839</td>\n",
       "      <td>242</td>\n",
       "      <td>945.11</td>\n",
       "      <td>735.00</td>\n",
       "      <td>1093</td>\n",
       "      <td>848</td>\n",
       "      <td>0</td>\n",
       "      <td>38</td>\n",
       "      <td>11</td>\n",
       "      <td>49</td>\n",
       "      <td>1.16</td>\n",
       "      <td>0.78</td>\n",
       "      <td>0.89</td>\n",
       "      <td>0.26</td>\n",
       "      <td>1.00</td>\n",
       "      <td>0.33</td>\n",
       "      <td>1.29</td>\n",
       "      <td>19.29</td>\n",
       "      <td>schedule_and_vp</td>\n",
       "      <td>4.23</td>\n",
       "      <td>SBMTD Schedule</td>\n",
       "      <td>West Santa Barbara</td>\n",
       "      <td>1</td>\n",
       "      <td>1 West Santa Barbara</td>\n",
       "      <td>1</td>\n",
       "      <td>rapid</td>\n",
       "      <td>rectQfIeiKDBeJSAV</td>\n",
       "      <td>aHR0cHM6Ly9zYm10ZC5nb3YvZ29vZ2xlX3RyYW5zaXQvZmVlZC56aXA=</td>\n",
       "      <td>recswCrw6a6htmXJ4</td>\n",
       "      <td>Santa Barbara Metropolitan Transit District</td>\n",
       "      <td>05 - San Luis Obispo</td>\n",
       "    </tr>\n",
       "  </tbody>\n",
       "</table>\n",
       "</div>"
      ],
      "text/plain": [
       "              schedule_gtfs_dataset_key  direction_id time_period  \\\n",
       "18826  239f3baf3dd3b9e9464f66a777f9897d          0.00     all_day   \n",
       "18827  239f3baf3dd3b9e9464f66a777f9897d          0.00     all_day   \n",
       "\n",
       "       avg_scheduled_service_minutes  avg_stop_miles  n_scheduled_trips  \\\n",
       "18826                          15.00            0.18                 54   \n",
       "18827                          15.00            0.18                 54   \n",
       "\n",
       "       frequency service_date  minutes_atleast1_vp  minutes_atleast2_vp  \\\n",
       "18826       2.25   2023-09-13                  863                  258   \n",
       "18827       2.25   2023-10-11                  839                  242   \n",
       "\n",
       "       total_rt_service_minutes  total_scheduled_service_minutes  total_vp  \\\n",
       "18826                    900.19                           795.00      1136   \n",
       "18827                    945.11                           735.00      1093   \n",
       "\n",
       "       vp_in_shape  is_early  is_ontime  is_late  n_vp_trips  vp_per_minute  \\\n",
       "18826          925         0         45        8          53           1.26   \n",
       "18827          848         0         38       11          49           1.16   \n",
       "\n",
       "       pct_in_shape  pct_rt_journey_atleast1_vp  pct_rt_journey_atleast2_vp  \\\n",
       "18826          0.81                        0.96                        0.29   \n",
       "18827          0.78                        0.89                        0.26   \n",
       "\n",
       "       pct_sched_journey_atleast1_vp  pct_sched_journey_atleast2_vp  \\\n",
       "18826                           1.00                           0.33   \n",
       "18827                           1.00                           0.33   \n",
       "\n",
       "       rt_sched_journey_ratio  avg_rt_service_minutes sched_rt_category  \\\n",
       "18826                    1.13                   16.98   schedule_and_vp   \n",
       "18827                    1.29                   19.29   schedule_and_vp   \n",
       "\n",
       "       speed_mph            name     route_long_name route_short_name  \\\n",
       "18826       8.92  SBMTD Schedule  West Santa Barbara                1   \n",
       "18827       4.23  SBMTD Schedule  West Santa Barbara                1   \n",
       "\n",
       "        route_combined_name route_id typology schedule_source_record_id  \\\n",
       "18826  1 West Santa Barbara        1    rapid         rectQfIeiKDBeJSAV   \n",
       "18827  1 West Santa Barbara        1    rapid         rectQfIeiKDBeJSAV   \n",
       "\n",
       "                                                     base64_url  \\\n",
       "18826  aHR0cHM6Ly9zYm10ZC5nb3YvZ29vZ2xlX3RyYW5zaXQvZmVlZC56aXA=   \n",
       "18827  aHR0cHM6Ly9zYm10ZC5nb3YvZ29vZ2xlX3RyYW5zaXQvZmVlZC56aXA=   \n",
       "\n",
       "      organization_source_record_id  \\\n",
       "18826             recswCrw6a6htmXJ4   \n",
       "18827             recswCrw6a6htmXJ4   \n",
       "\n",
       "                                 organization_name     caltrans_district  \n",
       "18826  Santa Barbara Metropolitan Transit District  05 - San Luis Obispo  \n",
       "18827  Santa Barbara Metropolitan Transit District  05 - San Luis Obispo  "
      ]
     },
     "execution_count": 52,
     "metadata": {},
     "output_type": "execute_result"
    }
   ],
   "source": [
    "schd_vp__df.head(2)"
   ]
  },
  {
   "cell_type": "code",
   "execution_count": 53,
   "id": "91785584-1325-4919-8e10-d78f1d1b4911",
   "metadata": {},
   "outputs": [
    {
     "data": {
      "text/plain": [
       "['avg_rt_service_minutes',\n",
       " 'avg_scheduled_service_minutes',\n",
       " 'avg_stop_miles',\n",
       " 'base64_url',\n",
       " 'caltrans_district',\n",
       " 'direction_id',\n",
       " 'frequency',\n",
       " 'is_early',\n",
       " 'is_late',\n",
       " 'is_ontime',\n",
       " 'minutes_atleast1_vp',\n",
       " 'minutes_atleast2_vp',\n",
       " 'n_scheduled_trips',\n",
       " 'n_vp_trips',\n",
       " 'name',\n",
       " 'organization_name',\n",
       " 'organization_source_record_id',\n",
       " 'pct_in_shape',\n",
       " 'pct_rt_journey_atleast1_vp',\n",
       " 'pct_rt_journey_atleast2_vp',\n",
       " 'pct_sched_journey_atleast1_vp',\n",
       " 'pct_sched_journey_atleast2_vp',\n",
       " 'route_combined_name',\n",
       " 'route_id',\n",
       " 'route_long_name',\n",
       " 'route_short_name',\n",
       " 'rt_sched_journey_ratio',\n",
       " 'sched_rt_category',\n",
       " 'schedule_gtfs_dataset_key',\n",
       " 'schedule_source_record_id',\n",
       " 'service_date',\n",
       " 'speed_mph',\n",
       " 'time_period',\n",
       " 'total_rt_service_minutes',\n",
       " 'total_scheduled_service_minutes',\n",
       " 'total_vp',\n",
       " 'typology',\n",
       " 'vp_in_shape',\n",
       " 'vp_per_minute']"
      ]
     },
     "execution_count": 53,
     "metadata": {},
     "output_type": "execute_result"
    }
   ],
   "source": [
    "sorted(list(schd_vp__df.columns))"
   ]
  },
  {
   "cell_type": "markdown",
   "id": "0509b47e-5598-4f53-a5dc-b2154f6dc49d",
   "metadata": {},
   "source": [
    "## Testing out `readable_yml`"
   ]
  },
  {
   "cell_type": "code",
   "execution_count": 54,
   "id": "c311bbd1-469b-4511-a861-50fd7e3e053a",
   "metadata": {},
   "outputs": [],
   "source": [
    "import yaml\n",
    "\n",
    "with open(\"readable.yml\") as f:\n",
    "    readable_dict = yaml.safe_load(f)"
   ]
  },
  {
   "cell_type": "code",
   "execution_count": 55,
   "id": "b3599d7d-5069-40aa-bec3-88775ac10565",
   "metadata": {},
   "outputs": [
    {
     "data": {
      "text/plain": [
       "'Something'"
      ]
     },
     "execution_count": 55,
     "metadata": {},
     "output_type": "execute_result"
    }
   ],
   "source": [
    "readable_dict['direction_id']['caption']"
   ]
  },
  {
   "cell_type": "code",
   "execution_count": 56,
   "id": "208eca14-0190-47f7-bd0a-466384ae6542",
   "metadata": {},
   "outputs": [],
   "source": [
    "def replace_column_names(column_name):\n",
    "    if column_name in readable_dict:\n",
    "        if 'readable' in readable_dict[column_name]:\n",
    "            return readable_dict[column_name]['readable']\n",
    "        else:\n",
    "            return readable_dict[column_name]\n",
    "    return column_name"
   ]
  },
  {
   "cell_type": "code",
   "execution_count": 57,
   "id": "0cb2cb24-c5b8-4510-b4ed-bb87a91930d5",
   "metadata": {},
   "outputs": [
    {
     "data": {
      "text/plain": [
       "'Cutoff Speed for 80th Percentile'"
      ]
     },
     "execution_count": 57,
     "metadata": {},
     "output_type": "execute_result"
    }
   ],
   "source": [
    "replace_column_names(\"p80_mph\")"
   ]
  },
  {
   "cell_type": "code",
   "execution_count": 58,
   "id": "94e71198-fb28-4f84-a1ab-46f3dca4079d",
   "metadata": {},
   "outputs": [
    {
     "data": {
      "text/plain": [
       "'# Late Trips'"
      ]
     },
     "execution_count": 58,
     "metadata": {},
     "output_type": "execute_result"
    }
   ],
   "source": [
    "replace_column_names(\"is_late\")"
   ]
  },
  {
   "cell_type": "code",
   "execution_count": 59,
   "id": "3ee18334-462f-47c9-85fa-23e547b60c70",
   "metadata": {},
   "outputs": [
    {
     "data": {
      "text/plain": [
       "'my_test_col'"
      ]
     },
     "execution_count": 59,
     "metadata": {},
     "output_type": "execute_result"
    }
   ],
   "source": [
    "replace_column_names(\"my_test_col\")"
   ]
  },
  {
   "cell_type": "code",
   "execution_count": 60,
   "id": "a7dd8740-1234-4626-93ca-dbe76eec83d5",
   "metadata": {},
   "outputs": [],
   "source": [
    "schd_vp__df2 = schd_vp__df.sample(10)"
   ]
  },
  {
   "cell_type": "code",
   "execution_count": 61,
   "id": "b579d8dd-3df5-4cf9-b1f4-2ede735db122",
   "metadata": {},
   "outputs": [],
   "source": [
    "# Rename columns using the function\n",
    "schd_vp__df2.columns = schd_vp__df2.columns.map(replace_column_names)"
   ]
  },
  {
   "cell_type": "code",
   "execution_count": 62,
   "id": "b2c2d37a-230b-4628-ba9f-1924103f3fec",
   "metadata": {},
   "outputs": [
    {
     "ename": "TypeError",
     "evalue": "unhashable type: 'dict'",
     "output_type": "error",
     "traceback": [
      "\u001b[0;31m---------------------------------------------------------------------------\u001b[0m",
      "\u001b[0;31mTypeError\u001b[0m                                 Traceback (most recent call last)",
      "File \u001b[0;32m/opt/conda/lib/python3.9/site-packages/IPython/core/formatters.py:708\u001b[0m, in \u001b[0;36mPlainTextFormatter.__call__\u001b[0;34m(self, obj)\u001b[0m\n\u001b[1;32m    701\u001b[0m stream \u001b[38;5;241m=\u001b[39m StringIO()\n\u001b[1;32m    702\u001b[0m printer \u001b[38;5;241m=\u001b[39m pretty\u001b[38;5;241m.\u001b[39mRepresentationPrinter(stream, \u001b[38;5;28mself\u001b[39m\u001b[38;5;241m.\u001b[39mverbose,\n\u001b[1;32m    703\u001b[0m     \u001b[38;5;28mself\u001b[39m\u001b[38;5;241m.\u001b[39mmax_width, \u001b[38;5;28mself\u001b[39m\u001b[38;5;241m.\u001b[39mnewline,\n\u001b[1;32m    704\u001b[0m     max_seq_length\u001b[38;5;241m=\u001b[39m\u001b[38;5;28mself\u001b[39m\u001b[38;5;241m.\u001b[39mmax_seq_length,\n\u001b[1;32m    705\u001b[0m     singleton_pprinters\u001b[38;5;241m=\u001b[39m\u001b[38;5;28mself\u001b[39m\u001b[38;5;241m.\u001b[39msingleton_printers,\n\u001b[1;32m    706\u001b[0m     type_pprinters\u001b[38;5;241m=\u001b[39m\u001b[38;5;28mself\u001b[39m\u001b[38;5;241m.\u001b[39mtype_printers,\n\u001b[1;32m    707\u001b[0m     deferred_pprinters\u001b[38;5;241m=\u001b[39m\u001b[38;5;28mself\u001b[39m\u001b[38;5;241m.\u001b[39mdeferred_printers)\n\u001b[0;32m--> 708\u001b[0m \u001b[43mprinter\u001b[49m\u001b[38;5;241;43m.\u001b[39;49m\u001b[43mpretty\u001b[49m\u001b[43m(\u001b[49m\u001b[43mobj\u001b[49m\u001b[43m)\u001b[49m\n\u001b[1;32m    709\u001b[0m printer\u001b[38;5;241m.\u001b[39mflush()\n\u001b[1;32m    710\u001b[0m \u001b[38;5;28;01mreturn\u001b[39;00m stream\u001b[38;5;241m.\u001b[39mgetvalue()\n",
      "File \u001b[0;32m/opt/conda/lib/python3.9/site-packages/IPython/lib/pretty.py:410\u001b[0m, in \u001b[0;36mRepresentationPrinter.pretty\u001b[0;34m(self, obj)\u001b[0m\n\u001b[1;32m    407\u001b[0m                         \u001b[38;5;28;01mreturn\u001b[39;00m meth(obj, \u001b[38;5;28mself\u001b[39m, cycle)\n\u001b[1;32m    408\u001b[0m                 \u001b[38;5;28;01mif\u001b[39;00m \u001b[38;5;28mcls\u001b[39m \u001b[38;5;129;01mis\u001b[39;00m \u001b[38;5;129;01mnot\u001b[39;00m \u001b[38;5;28mobject\u001b[39m \\\n\u001b[1;32m    409\u001b[0m                         \u001b[38;5;129;01mand\u001b[39;00m \u001b[38;5;28mcallable\u001b[39m(\u001b[38;5;28mcls\u001b[39m\u001b[38;5;241m.\u001b[39m\u001b[38;5;18m__dict__\u001b[39m\u001b[38;5;241m.\u001b[39mget(\u001b[38;5;124m'\u001b[39m\u001b[38;5;124m__repr__\u001b[39m\u001b[38;5;124m'\u001b[39m)):\n\u001b[0;32m--> 410\u001b[0m                     \u001b[38;5;28;01mreturn\u001b[39;00m \u001b[43m_repr_pprint\u001b[49m\u001b[43m(\u001b[49m\u001b[43mobj\u001b[49m\u001b[43m,\u001b[49m\u001b[43m \u001b[49m\u001b[38;5;28;43mself\u001b[39;49m\u001b[43m,\u001b[49m\u001b[43m \u001b[49m\u001b[43mcycle\u001b[49m\u001b[43m)\u001b[49m\n\u001b[1;32m    412\u001b[0m     \u001b[38;5;28;01mreturn\u001b[39;00m _default_pprint(obj, \u001b[38;5;28mself\u001b[39m, cycle)\n\u001b[1;32m    413\u001b[0m \u001b[38;5;28;01mfinally\u001b[39;00m:\n",
      "File \u001b[0;32m/opt/conda/lib/python3.9/site-packages/IPython/lib/pretty.py:778\u001b[0m, in \u001b[0;36m_repr_pprint\u001b[0;34m(obj, p, cycle)\u001b[0m\n\u001b[1;32m    776\u001b[0m \u001b[38;5;250m\u001b[39m\u001b[38;5;124;03m\"\"\"A pprint that just redirects to the normal repr function.\"\"\"\u001b[39;00m\n\u001b[1;32m    777\u001b[0m \u001b[38;5;66;03m# Find newlines and replace them with p.break_()\u001b[39;00m\n\u001b[0;32m--> 778\u001b[0m output \u001b[38;5;241m=\u001b[39m \u001b[38;5;28;43mrepr\u001b[39;49m\u001b[43m(\u001b[49m\u001b[43mobj\u001b[49m\u001b[43m)\u001b[49m\n\u001b[1;32m    779\u001b[0m lines \u001b[38;5;241m=\u001b[39m output\u001b[38;5;241m.\u001b[39msplitlines()\n\u001b[1;32m    780\u001b[0m \u001b[38;5;28;01mwith\u001b[39;00m p\u001b[38;5;241m.\u001b[39mgroup():\n",
      "File \u001b[0;32m/opt/conda/lib/python3.9/site-packages/pandas/core/frame.py:1064\u001b[0m, in \u001b[0;36mDataFrame.__repr__\u001b[0;34m(self)\u001b[0m\n\u001b[1;32m   1061\u001b[0m     \u001b[38;5;28;01mreturn\u001b[39;00m buf\u001b[38;5;241m.\u001b[39mgetvalue()\n\u001b[1;32m   1063\u001b[0m repr_params \u001b[38;5;241m=\u001b[39m fmt\u001b[38;5;241m.\u001b[39mget_dataframe_repr_params()\n\u001b[0;32m-> 1064\u001b[0m \u001b[38;5;28;01mreturn\u001b[39;00m \u001b[38;5;28;43mself\u001b[39;49m\u001b[38;5;241;43m.\u001b[39;49m\u001b[43mto_string\u001b[49m\u001b[43m(\u001b[49m\u001b[38;5;241;43m*\u001b[39;49m\u001b[38;5;241;43m*\u001b[39;49m\u001b[43mrepr_params\u001b[49m\u001b[43m)\u001b[49m\n",
      "File \u001b[0;32m/opt/conda/lib/python3.9/site-packages/pandas/core/frame.py:1245\u001b[0m, in \u001b[0;36mDataFrame.to_string\u001b[0;34m(self, buf, columns, col_space, header, index, na_rep, formatters, float_format, sparsify, index_names, justify, max_rows, max_cols, show_dimensions, decimal, line_width, min_rows, max_colwidth, encoding)\u001b[0m\n\u001b[1;32m   1226\u001b[0m \u001b[38;5;28;01mwith\u001b[39;00m option_context(\u001b[38;5;124m\"\u001b[39m\u001b[38;5;124mdisplay.max_colwidth\u001b[39m\u001b[38;5;124m\"\u001b[39m, max_colwidth):\n\u001b[1;32m   1227\u001b[0m     formatter \u001b[38;5;241m=\u001b[39m fmt\u001b[38;5;241m.\u001b[39mDataFrameFormatter(\n\u001b[1;32m   1228\u001b[0m         \u001b[38;5;28mself\u001b[39m,\n\u001b[1;32m   1229\u001b[0m         columns\u001b[38;5;241m=\u001b[39mcolumns,\n\u001b[0;32m   (...)\u001b[0m\n\u001b[1;32m   1243\u001b[0m         decimal\u001b[38;5;241m=\u001b[39mdecimal,\n\u001b[1;32m   1244\u001b[0m     )\n\u001b[0;32m-> 1245\u001b[0m     \u001b[38;5;28;01mreturn\u001b[39;00m \u001b[43mfmt\u001b[49m\u001b[38;5;241;43m.\u001b[39;49m\u001b[43mDataFrameRenderer\u001b[49m\u001b[43m(\u001b[49m\u001b[43mformatter\u001b[49m\u001b[43m)\u001b[49m\u001b[38;5;241;43m.\u001b[39;49m\u001b[43mto_string\u001b[49m\u001b[43m(\u001b[49m\n\u001b[1;32m   1246\u001b[0m \u001b[43m        \u001b[49m\u001b[43mbuf\u001b[49m\u001b[38;5;241;43m=\u001b[39;49m\u001b[43mbuf\u001b[49m\u001b[43m,\u001b[49m\n\u001b[1;32m   1247\u001b[0m \u001b[43m        \u001b[49m\u001b[43mencoding\u001b[49m\u001b[38;5;241;43m=\u001b[39;49m\u001b[43mencoding\u001b[49m\u001b[43m,\u001b[49m\n\u001b[1;32m   1248\u001b[0m \u001b[43m        \u001b[49m\u001b[43mline_width\u001b[49m\u001b[38;5;241;43m=\u001b[39;49m\u001b[43mline_width\u001b[49m\u001b[43m,\u001b[49m\n\u001b[1;32m   1249\u001b[0m \u001b[43m    \u001b[49m\u001b[43m)\u001b[49m\n",
      "File \u001b[0;32m/opt/conda/lib/python3.9/site-packages/pandas/io/formats/format.py:1136\u001b[0m, in \u001b[0;36mDataFrameRenderer.to_string\u001b[0;34m(self, buf, encoding, line_width)\u001b[0m\n\u001b[1;32m   1133\u001b[0m \u001b[38;5;28;01mfrom\u001b[39;00m \u001b[38;5;21;01mpandas\u001b[39;00m\u001b[38;5;21;01m.\u001b[39;00m\u001b[38;5;21;01mio\u001b[39;00m\u001b[38;5;21;01m.\u001b[39;00m\u001b[38;5;21;01mformats\u001b[39;00m\u001b[38;5;21;01m.\u001b[39;00m\u001b[38;5;21;01mstring\u001b[39;00m \u001b[38;5;28;01mimport\u001b[39;00m StringFormatter\n\u001b[1;32m   1135\u001b[0m string_formatter \u001b[38;5;241m=\u001b[39m StringFormatter(\u001b[38;5;28mself\u001b[39m\u001b[38;5;241m.\u001b[39mfmt, line_width\u001b[38;5;241m=\u001b[39mline_width)\n\u001b[0;32m-> 1136\u001b[0m string \u001b[38;5;241m=\u001b[39m \u001b[43mstring_formatter\u001b[49m\u001b[38;5;241;43m.\u001b[39;49m\u001b[43mto_string\u001b[49m\u001b[43m(\u001b[49m\u001b[43m)\u001b[49m\n\u001b[1;32m   1137\u001b[0m \u001b[38;5;28;01mreturn\u001b[39;00m save_to_buffer(string, buf\u001b[38;5;241m=\u001b[39mbuf, encoding\u001b[38;5;241m=\u001b[39mencoding)\n",
      "File \u001b[0;32m/opt/conda/lib/python3.9/site-packages/pandas/io/formats/string.py:30\u001b[0m, in \u001b[0;36mStringFormatter.to_string\u001b[0;34m(self)\u001b[0m\n\u001b[1;32m     29\u001b[0m \u001b[38;5;28;01mdef\u001b[39;00m \u001b[38;5;21mto_string\u001b[39m(\u001b[38;5;28mself\u001b[39m) \u001b[38;5;241m-\u001b[39m\u001b[38;5;241m>\u001b[39m \u001b[38;5;28mstr\u001b[39m:\n\u001b[0;32m---> 30\u001b[0m     text \u001b[38;5;241m=\u001b[39m \u001b[38;5;28;43mself\u001b[39;49m\u001b[38;5;241;43m.\u001b[39;49m\u001b[43m_get_string_representation\u001b[49m\u001b[43m(\u001b[49m\u001b[43m)\u001b[49m\n\u001b[1;32m     31\u001b[0m     \u001b[38;5;28;01mif\u001b[39;00m \u001b[38;5;28mself\u001b[39m\u001b[38;5;241m.\u001b[39mfmt\u001b[38;5;241m.\u001b[39mshould_show_dimensions:\n\u001b[1;32m     32\u001b[0m         text \u001b[38;5;241m=\u001b[39m \u001b[38;5;124m\"\u001b[39m\u001b[38;5;124m\"\u001b[39m\u001b[38;5;241m.\u001b[39mjoin([text, \u001b[38;5;28mself\u001b[39m\u001b[38;5;241m.\u001b[39mfmt\u001b[38;5;241m.\u001b[39mdimensions_info])\n",
      "File \u001b[0;32m/opt/conda/lib/python3.9/site-packages/pandas/io/formats/string.py:45\u001b[0m, in \u001b[0;36mStringFormatter._get_string_representation\u001b[0;34m(self)\u001b[0m\n\u001b[1;32m     42\u001b[0m \u001b[38;5;28;01mif\u001b[39;00m \u001b[38;5;28mself\u001b[39m\u001b[38;5;241m.\u001b[39mfmt\u001b[38;5;241m.\u001b[39mframe\u001b[38;5;241m.\u001b[39mempty:\n\u001b[1;32m     43\u001b[0m     \u001b[38;5;28;01mreturn\u001b[39;00m \u001b[38;5;28mself\u001b[39m\u001b[38;5;241m.\u001b[39m_empty_info_line\n\u001b[0;32m---> 45\u001b[0m strcols \u001b[38;5;241m=\u001b[39m \u001b[38;5;28;43mself\u001b[39;49m\u001b[38;5;241;43m.\u001b[39;49m\u001b[43m_get_strcols\u001b[49m\u001b[43m(\u001b[49m\u001b[43m)\u001b[49m\n\u001b[1;32m     47\u001b[0m \u001b[38;5;28;01mif\u001b[39;00m \u001b[38;5;28mself\u001b[39m\u001b[38;5;241m.\u001b[39mline_width \u001b[38;5;129;01mis\u001b[39;00m \u001b[38;5;28;01mNone\u001b[39;00m:\n\u001b[1;32m     48\u001b[0m     \u001b[38;5;66;03m# no need to wrap around just print the whole frame\u001b[39;00m\n\u001b[1;32m     49\u001b[0m     \u001b[38;5;28;01mreturn\u001b[39;00m \u001b[38;5;28mself\u001b[39m\u001b[38;5;241m.\u001b[39madj\u001b[38;5;241m.\u001b[39madjoin(\u001b[38;5;241m1\u001b[39m, \u001b[38;5;241m*\u001b[39mstrcols)\n",
      "File \u001b[0;32m/opt/conda/lib/python3.9/site-packages/pandas/io/formats/string.py:36\u001b[0m, in \u001b[0;36mStringFormatter._get_strcols\u001b[0;34m(self)\u001b[0m\n\u001b[1;32m     35\u001b[0m \u001b[38;5;28;01mdef\u001b[39;00m \u001b[38;5;21m_get_strcols\u001b[39m(\u001b[38;5;28mself\u001b[39m) \u001b[38;5;241m-\u001b[39m\u001b[38;5;241m>\u001b[39m \u001b[38;5;28mlist\u001b[39m[\u001b[38;5;28mlist\u001b[39m[\u001b[38;5;28mstr\u001b[39m]]:\n\u001b[0;32m---> 36\u001b[0m     strcols \u001b[38;5;241m=\u001b[39m \u001b[38;5;28;43mself\u001b[39;49m\u001b[38;5;241;43m.\u001b[39;49m\u001b[43mfmt\u001b[49m\u001b[38;5;241;43m.\u001b[39;49m\u001b[43mget_strcols\u001b[49m\u001b[43m(\u001b[49m\u001b[43m)\u001b[49m\n\u001b[1;32m     37\u001b[0m     \u001b[38;5;28;01mif\u001b[39;00m \u001b[38;5;28mself\u001b[39m\u001b[38;5;241m.\u001b[39mfmt\u001b[38;5;241m.\u001b[39mis_truncated:\n\u001b[1;32m     38\u001b[0m         strcols \u001b[38;5;241m=\u001b[39m \u001b[38;5;28mself\u001b[39m\u001b[38;5;241m.\u001b[39m_insert_dot_separators(strcols)\n",
      "File \u001b[0;32m/opt/conda/lib/python3.9/site-packages/pandas/io/formats/format.py:617\u001b[0m, in \u001b[0;36mDataFrameFormatter.get_strcols\u001b[0;34m(self)\u001b[0m\n\u001b[1;32m    613\u001b[0m \u001b[38;5;28;01mdef\u001b[39;00m \u001b[38;5;21mget_strcols\u001b[39m(\u001b[38;5;28mself\u001b[39m) \u001b[38;5;241m-\u001b[39m\u001b[38;5;241m>\u001b[39m \u001b[38;5;28mlist\u001b[39m[\u001b[38;5;28mlist\u001b[39m[\u001b[38;5;28mstr\u001b[39m]]:\n\u001b[1;32m    614\u001b[0m \u001b[38;5;250m    \u001b[39m\u001b[38;5;124;03m\"\"\"\u001b[39;00m\n\u001b[1;32m    615\u001b[0m \u001b[38;5;124;03m    Render a DataFrame to a list of columns (as lists of strings).\u001b[39;00m\n\u001b[1;32m    616\u001b[0m \u001b[38;5;124;03m    \"\"\"\u001b[39;00m\n\u001b[0;32m--> 617\u001b[0m     strcols \u001b[38;5;241m=\u001b[39m \u001b[38;5;28;43mself\u001b[39;49m\u001b[38;5;241;43m.\u001b[39;49m\u001b[43m_get_strcols_without_index\u001b[49m\u001b[43m(\u001b[49m\u001b[43m)\u001b[49m\n\u001b[1;32m    619\u001b[0m     \u001b[38;5;28;01mif\u001b[39;00m \u001b[38;5;28mself\u001b[39m\u001b[38;5;241m.\u001b[39mindex:\n\u001b[1;32m    620\u001b[0m         str_index \u001b[38;5;241m=\u001b[39m \u001b[38;5;28mself\u001b[39m\u001b[38;5;241m.\u001b[39m_get_formatted_index(\u001b[38;5;28mself\u001b[39m\u001b[38;5;241m.\u001b[39mtr_frame)\n",
      "File \u001b[0;32m/opt/conda/lib/python3.9/site-packages/pandas/io/formats/format.py:872\u001b[0m, in \u001b[0;36mDataFrameFormatter._get_strcols_without_index\u001b[0;34m(self)\u001b[0m\n\u001b[1;32m    870\u001b[0m     str_columns \u001b[38;5;241m=\u001b[39m [[label] \u001b[38;5;28;01mfor\u001b[39;00m label \u001b[38;5;129;01min\u001b[39;00m \u001b[38;5;28mself\u001b[39m\u001b[38;5;241m.\u001b[39mheader]\n\u001b[1;32m    871\u001b[0m \u001b[38;5;28;01melse\u001b[39;00m:\n\u001b[0;32m--> 872\u001b[0m     str_columns \u001b[38;5;241m=\u001b[39m \u001b[38;5;28;43mself\u001b[39;49m\u001b[38;5;241;43m.\u001b[39;49m\u001b[43m_get_formatted_column_labels\u001b[49m\u001b[43m(\u001b[49m\u001b[38;5;28;43mself\u001b[39;49m\u001b[38;5;241;43m.\u001b[39;49m\u001b[43mtr_frame\u001b[49m\u001b[43m)\u001b[49m\n\u001b[1;32m    874\u001b[0m \u001b[38;5;28;01mif\u001b[39;00m \u001b[38;5;28mself\u001b[39m\u001b[38;5;241m.\u001b[39mshow_row_idx_names:\n\u001b[1;32m    875\u001b[0m     \u001b[38;5;28;01mfor\u001b[39;00m x \u001b[38;5;129;01min\u001b[39;00m str_columns:\n",
      "File \u001b[0;32m/opt/conda/lib/python3.9/site-packages/pandas/io/formats/format.py:953\u001b[0m, in \u001b[0;36mDataFrameFormatter._get_formatted_column_labels\u001b[0;34m(self, frame)\u001b[0m\n\u001b[1;32m    951\u001b[0m     dtypes \u001b[38;5;241m=\u001b[39m \u001b[38;5;28mself\u001b[39m\u001b[38;5;241m.\u001b[39mframe\u001b[38;5;241m.\u001b[39mdtypes\n\u001b[1;32m    952\u001b[0m     need_leadsp \u001b[38;5;241m=\u001b[39m \u001b[38;5;28mdict\u001b[39m(\u001b[38;5;28mzip\u001b[39m(fmt_columns, \u001b[38;5;28mmap\u001b[39m(is_numeric_dtype, dtypes)))\n\u001b[0;32m--> 953\u001b[0m     str_columns \u001b[38;5;241m=\u001b[39m [\n\u001b[1;32m    954\u001b[0m         [\u001b[38;5;124m\"\u001b[39m\u001b[38;5;124m \u001b[39m\u001b[38;5;124m\"\u001b[39m \u001b[38;5;241m+\u001b[39m x \u001b[38;5;28;01mif\u001b[39;00m \u001b[38;5;129;01mnot\u001b[39;00m \u001b[38;5;28mself\u001b[39m\u001b[38;5;241m.\u001b[39m_get_formatter(i) \u001b[38;5;129;01mand\u001b[39;00m need_leadsp[x] \u001b[38;5;28;01melse\u001b[39;00m x]\n\u001b[1;32m    955\u001b[0m         \u001b[38;5;28;01mfor\u001b[39;00m i, x \u001b[38;5;129;01min\u001b[39;00m \u001b[38;5;28menumerate\u001b[39m(fmt_columns)\n\u001b[1;32m    956\u001b[0m     ]\n\u001b[1;32m    957\u001b[0m \u001b[38;5;66;03m# self.str_columns = str_columns\u001b[39;00m\n\u001b[1;32m    958\u001b[0m \u001b[38;5;28;01mreturn\u001b[39;00m str_columns\n",
      "File \u001b[0;32m/opt/conda/lib/python3.9/site-packages/pandas/io/formats/format.py:954\u001b[0m, in \u001b[0;36m<listcomp>\u001b[0;34m(.0)\u001b[0m\n\u001b[1;32m    951\u001b[0m     dtypes \u001b[38;5;241m=\u001b[39m \u001b[38;5;28mself\u001b[39m\u001b[38;5;241m.\u001b[39mframe\u001b[38;5;241m.\u001b[39mdtypes\n\u001b[1;32m    952\u001b[0m     need_leadsp \u001b[38;5;241m=\u001b[39m \u001b[38;5;28mdict\u001b[39m(\u001b[38;5;28mzip\u001b[39m(fmt_columns, \u001b[38;5;28mmap\u001b[39m(is_numeric_dtype, dtypes)))\n\u001b[1;32m    953\u001b[0m     str_columns \u001b[38;5;241m=\u001b[39m [\n\u001b[0;32m--> 954\u001b[0m         [\u001b[38;5;124m\"\u001b[39m\u001b[38;5;124m \u001b[39m\u001b[38;5;124m\"\u001b[39m \u001b[38;5;241m+\u001b[39m x \u001b[38;5;28;01mif\u001b[39;00m \u001b[38;5;129;01mnot\u001b[39;00m \u001b[38;5;28;43mself\u001b[39;49m\u001b[38;5;241;43m.\u001b[39;49m\u001b[43m_get_formatter\u001b[49m\u001b[43m(\u001b[49m\u001b[43mi\u001b[49m\u001b[43m)\u001b[49m \u001b[38;5;129;01mand\u001b[39;00m need_leadsp[x] \u001b[38;5;28;01melse\u001b[39;00m x]\n\u001b[1;32m    955\u001b[0m         \u001b[38;5;28;01mfor\u001b[39;00m i, x \u001b[38;5;129;01min\u001b[39;00m \u001b[38;5;28menumerate\u001b[39m(fmt_columns)\n\u001b[1;32m    956\u001b[0m     ]\n\u001b[1;32m    957\u001b[0m \u001b[38;5;66;03m# self.str_columns = str_columns\u001b[39;00m\n\u001b[1;32m    958\u001b[0m \u001b[38;5;28;01mreturn\u001b[39;00m str_columns\n",
      "File \u001b[0;32m/opt/conda/lib/python3.9/site-packages/pandas/io/formats/format.py:917\u001b[0m, in \u001b[0;36mDataFrameFormatter._get_formatter\u001b[0;34m(self, i)\u001b[0m\n\u001b[1;32m    915\u001b[0m \u001b[38;5;28;01mif\u001b[39;00m is_integer(i) \u001b[38;5;129;01mand\u001b[39;00m i \u001b[38;5;129;01mnot\u001b[39;00m \u001b[38;5;129;01min\u001b[39;00m \u001b[38;5;28mself\u001b[39m\u001b[38;5;241m.\u001b[39mcolumns:\n\u001b[1;32m    916\u001b[0m     i \u001b[38;5;241m=\u001b[39m \u001b[38;5;28mself\u001b[39m\u001b[38;5;241m.\u001b[39mcolumns[i]\n\u001b[0;32m--> 917\u001b[0m \u001b[38;5;28;01mreturn\u001b[39;00m \u001b[38;5;28;43mself\u001b[39;49m\u001b[38;5;241;43m.\u001b[39;49m\u001b[43mformatters\u001b[49m\u001b[38;5;241;43m.\u001b[39;49m\u001b[43mget\u001b[49m\u001b[43m(\u001b[49m\u001b[43mi\u001b[49m\u001b[43m,\u001b[49m\u001b[43m \u001b[49m\u001b[38;5;28;43;01mNone\u001b[39;49;00m\u001b[43m)\u001b[49m\n",
      "\u001b[0;31mTypeError\u001b[0m: unhashable type: 'dict'"
     ]
    },
    {
     "ename": "TypeError",
     "evalue": "unhashable type: 'dict'",
     "output_type": "error",
     "traceback": [
      "\u001b[0;31m---------------------------------------------------------------------------\u001b[0m",
      "\u001b[0;31mTypeError\u001b[0m                                 Traceback (most recent call last)",
      "File \u001b[0;32m/opt/conda/lib/python3.9/site-packages/IPython/core/formatters.py:344\u001b[0m, in \u001b[0;36mBaseFormatter.__call__\u001b[0;34m(self, obj)\u001b[0m\n\u001b[1;32m    342\u001b[0m     method \u001b[38;5;241m=\u001b[39m get_real_method(obj, \u001b[38;5;28mself\u001b[39m\u001b[38;5;241m.\u001b[39mprint_method)\n\u001b[1;32m    343\u001b[0m     \u001b[38;5;28;01mif\u001b[39;00m method \u001b[38;5;129;01mis\u001b[39;00m \u001b[38;5;129;01mnot\u001b[39;00m \u001b[38;5;28;01mNone\u001b[39;00m:\n\u001b[0;32m--> 344\u001b[0m         \u001b[38;5;28;01mreturn\u001b[39;00m \u001b[43mmethod\u001b[49m\u001b[43m(\u001b[49m\u001b[43m)\u001b[49m\n\u001b[1;32m    345\u001b[0m     \u001b[38;5;28;01mreturn\u001b[39;00m \u001b[38;5;28;01mNone\u001b[39;00m\n\u001b[1;32m    346\u001b[0m \u001b[38;5;28;01melse\u001b[39;00m:\n",
      "File \u001b[0;32m/opt/conda/lib/python3.9/site-packages/pandas/core/frame.py:1106\u001b[0m, in \u001b[0;36mDataFrame._repr_html_\u001b[0;34m(self)\u001b[0m\n\u001b[1;32m   1084\u001b[0m     show_dimensions \u001b[38;5;241m=\u001b[39m get_option(\u001b[38;5;124m\"\u001b[39m\u001b[38;5;124mdisplay.show_dimensions\u001b[39m\u001b[38;5;124m\"\u001b[39m)\n\u001b[1;32m   1086\u001b[0m     formatter \u001b[38;5;241m=\u001b[39m fmt\u001b[38;5;241m.\u001b[39mDataFrameFormatter(\n\u001b[1;32m   1087\u001b[0m         \u001b[38;5;28mself\u001b[39m,\n\u001b[1;32m   1088\u001b[0m         columns\u001b[38;5;241m=\u001b[39m\u001b[38;5;28;01mNone\u001b[39;00m,\n\u001b[0;32m   (...)\u001b[0m\n\u001b[1;32m   1104\u001b[0m         decimal\u001b[38;5;241m=\u001b[39m\u001b[38;5;124m\"\u001b[39m\u001b[38;5;124m.\u001b[39m\u001b[38;5;124m\"\u001b[39m,\n\u001b[1;32m   1105\u001b[0m     )\n\u001b[0;32m-> 1106\u001b[0m     \u001b[38;5;28;01mreturn\u001b[39;00m \u001b[43mfmt\u001b[49m\u001b[38;5;241;43m.\u001b[39;49m\u001b[43mDataFrameRenderer\u001b[49m\u001b[43m(\u001b[49m\u001b[43mformatter\u001b[49m\u001b[43m)\u001b[49m\u001b[38;5;241;43m.\u001b[39;49m\u001b[43mto_html\u001b[49m\u001b[43m(\u001b[49m\u001b[43mnotebook\u001b[49m\u001b[38;5;241;43m=\u001b[39;49m\u001b[38;5;28;43;01mTrue\u001b[39;49;00m\u001b[43m)\u001b[49m\n\u001b[1;32m   1107\u001b[0m \u001b[38;5;28;01melse\u001b[39;00m:\n\u001b[1;32m   1108\u001b[0m     \u001b[38;5;28;01mreturn\u001b[39;00m \u001b[38;5;28;01mNone\u001b[39;00m\n",
      "File \u001b[0;32m/opt/conda/lib/python3.9/site-packages/pandas/io/formats/format.py:1110\u001b[0m, in \u001b[0;36mDataFrameRenderer.to_html\u001b[0;34m(self, buf, encoding, classes, notebook, border, table_id, render_links)\u001b[0m\n\u001b[1;32m   1101\u001b[0m Klass \u001b[38;5;241m=\u001b[39m NotebookFormatter \u001b[38;5;28;01mif\u001b[39;00m notebook \u001b[38;5;28;01melse\u001b[39;00m HTMLFormatter\n\u001b[1;32m   1103\u001b[0m html_formatter \u001b[38;5;241m=\u001b[39m Klass(\n\u001b[1;32m   1104\u001b[0m     \u001b[38;5;28mself\u001b[39m\u001b[38;5;241m.\u001b[39mfmt,\n\u001b[1;32m   1105\u001b[0m     classes\u001b[38;5;241m=\u001b[39mclasses,\n\u001b[0;32m   (...)\u001b[0m\n\u001b[1;32m   1108\u001b[0m     render_links\u001b[38;5;241m=\u001b[39mrender_links,\n\u001b[1;32m   1109\u001b[0m )\n\u001b[0;32m-> 1110\u001b[0m string \u001b[38;5;241m=\u001b[39m \u001b[43mhtml_formatter\u001b[49m\u001b[38;5;241;43m.\u001b[39;49m\u001b[43mto_string\u001b[49m\u001b[43m(\u001b[49m\u001b[43m)\u001b[49m\n\u001b[1;32m   1111\u001b[0m \u001b[38;5;28;01mreturn\u001b[39;00m save_to_buffer(string, buf\u001b[38;5;241m=\u001b[39mbuf, encoding\u001b[38;5;241m=\u001b[39mencoding)\n",
      "File \u001b[0;32m/opt/conda/lib/python3.9/site-packages/pandas/io/formats/html.py:77\u001b[0m, in \u001b[0;36mHTMLFormatter.to_string\u001b[0;34m(self)\u001b[0m\n\u001b[1;32m     76\u001b[0m \u001b[38;5;28;01mdef\u001b[39;00m \u001b[38;5;21mto_string\u001b[39m(\u001b[38;5;28mself\u001b[39m) \u001b[38;5;241m-\u001b[39m\u001b[38;5;241m>\u001b[39m \u001b[38;5;28mstr\u001b[39m:\n\u001b[0;32m---> 77\u001b[0m     lines \u001b[38;5;241m=\u001b[39m \u001b[38;5;28;43mself\u001b[39;49m\u001b[38;5;241;43m.\u001b[39;49m\u001b[43mrender\u001b[49m\u001b[43m(\u001b[49m\u001b[43m)\u001b[49m\n\u001b[1;32m     78\u001b[0m     \u001b[38;5;28;01mif\u001b[39;00m \u001b[38;5;28many\u001b[39m(\u001b[38;5;28misinstance\u001b[39m(x, \u001b[38;5;28mstr\u001b[39m) \u001b[38;5;28;01mfor\u001b[39;00m x \u001b[38;5;129;01min\u001b[39;00m lines):\n\u001b[1;32m     79\u001b[0m         lines \u001b[38;5;241m=\u001b[39m [\u001b[38;5;28mstr\u001b[39m(x) \u001b[38;5;28;01mfor\u001b[39;00m x \u001b[38;5;129;01min\u001b[39;00m lines]\n",
      "File \u001b[0;32m/opt/conda/lib/python3.9/site-packages/pandas/io/formats/html.py:632\u001b[0m, in \u001b[0;36mNotebookFormatter.render\u001b[0;34m(self)\u001b[0m\n\u001b[1;32m    630\u001b[0m \u001b[38;5;28mself\u001b[39m\u001b[38;5;241m.\u001b[39mwrite(\u001b[38;5;124m\"\u001b[39m\u001b[38;5;124m<div>\u001b[39m\u001b[38;5;124m\"\u001b[39m)\n\u001b[1;32m    631\u001b[0m \u001b[38;5;28mself\u001b[39m\u001b[38;5;241m.\u001b[39mwrite_style()\n\u001b[0;32m--> 632\u001b[0m \u001b[38;5;28;43msuper\u001b[39;49m\u001b[43m(\u001b[49m\u001b[43m)\u001b[49m\u001b[38;5;241;43m.\u001b[39;49m\u001b[43mrender\u001b[49m\u001b[43m(\u001b[49m\u001b[43m)\u001b[49m\n\u001b[1;32m    633\u001b[0m \u001b[38;5;28mself\u001b[39m\u001b[38;5;241m.\u001b[39mwrite(\u001b[38;5;124m\"\u001b[39m\u001b[38;5;124m</div>\u001b[39m\u001b[38;5;124m\"\u001b[39m)\n\u001b[1;32m    634\u001b[0m \u001b[38;5;28;01mreturn\u001b[39;00m \u001b[38;5;28mself\u001b[39m\u001b[38;5;241m.\u001b[39melements\n",
      "File \u001b[0;32m/opt/conda/lib/python3.9/site-packages/pandas/io/formats/html.py:83\u001b[0m, in \u001b[0;36mHTMLFormatter.render\u001b[0;34m(self)\u001b[0m\n\u001b[1;32m     82\u001b[0m \u001b[38;5;28;01mdef\u001b[39;00m \u001b[38;5;21mrender\u001b[39m(\u001b[38;5;28mself\u001b[39m) \u001b[38;5;241m-\u001b[39m\u001b[38;5;241m>\u001b[39m \u001b[38;5;28mlist\u001b[39m[\u001b[38;5;28mstr\u001b[39m]:\n\u001b[0;32m---> 83\u001b[0m     \u001b[38;5;28;43mself\u001b[39;49m\u001b[38;5;241;43m.\u001b[39;49m\u001b[43m_write_table\u001b[49m\u001b[43m(\u001b[49m\u001b[43m)\u001b[49m\n\u001b[1;32m     85\u001b[0m     \u001b[38;5;28;01mif\u001b[39;00m \u001b[38;5;28mself\u001b[39m\u001b[38;5;241m.\u001b[39mshould_show_dimensions:\n\u001b[1;32m     86\u001b[0m         by \u001b[38;5;241m=\u001b[39m \u001b[38;5;28mchr\u001b[39m(\u001b[38;5;241m215\u001b[39m)  \u001b[38;5;66;03m# ×\u001b[39;00m\n",
      "File \u001b[0;32m/opt/conda/lib/python3.9/site-packages/pandas/io/formats/html.py:258\u001b[0m, in \u001b[0;36mHTMLFormatter._write_table\u001b[0;34m(self, indent)\u001b[0m\n\u001b[1;32m    255\u001b[0m \u001b[38;5;28;01mif\u001b[39;00m \u001b[38;5;28mself\u001b[39m\u001b[38;5;241m.\u001b[39mfmt\u001b[38;5;241m.\u001b[39mheader \u001b[38;5;129;01mor\u001b[39;00m \u001b[38;5;28mself\u001b[39m\u001b[38;5;241m.\u001b[39mshow_row_idx_names:\n\u001b[1;32m    256\u001b[0m     \u001b[38;5;28mself\u001b[39m\u001b[38;5;241m.\u001b[39m_write_header(indent \u001b[38;5;241m+\u001b[39m \u001b[38;5;28mself\u001b[39m\u001b[38;5;241m.\u001b[39mindent_delta)\n\u001b[0;32m--> 258\u001b[0m \u001b[38;5;28;43mself\u001b[39;49m\u001b[38;5;241;43m.\u001b[39;49m\u001b[43m_write_body\u001b[49m\u001b[43m(\u001b[49m\u001b[43mindent\u001b[49m\u001b[43m \u001b[49m\u001b[38;5;241;43m+\u001b[39;49m\u001b[43m \u001b[49m\u001b[38;5;28;43mself\u001b[39;49m\u001b[38;5;241;43m.\u001b[39;49m\u001b[43mindent_delta\u001b[49m\u001b[43m)\u001b[49m\n\u001b[1;32m    260\u001b[0m \u001b[38;5;28mself\u001b[39m\u001b[38;5;241m.\u001b[39mwrite(\u001b[38;5;124m\"\u001b[39m\u001b[38;5;124m</table>\u001b[39m\u001b[38;5;124m\"\u001b[39m, indent)\n",
      "File \u001b[0;32m/opt/conda/lib/python3.9/site-packages/pandas/io/formats/html.py:406\u001b[0m, in \u001b[0;36mHTMLFormatter._write_body\u001b[0;34m(self, indent)\u001b[0m\n\u001b[1;32m    404\u001b[0m \u001b[38;5;28;01mdef\u001b[39;00m \u001b[38;5;21m_write_body\u001b[39m(\u001b[38;5;28mself\u001b[39m, indent: \u001b[38;5;28mint\u001b[39m) \u001b[38;5;241m-\u001b[39m\u001b[38;5;241m>\u001b[39m \u001b[38;5;28;01mNone\u001b[39;00m:\n\u001b[1;32m    405\u001b[0m     \u001b[38;5;28mself\u001b[39m\u001b[38;5;241m.\u001b[39mwrite(\u001b[38;5;124m\"\u001b[39m\u001b[38;5;124m<tbody>\u001b[39m\u001b[38;5;124m\"\u001b[39m, indent)\n\u001b[0;32m--> 406\u001b[0m     fmt_values \u001b[38;5;241m=\u001b[39m \u001b[38;5;28;43mself\u001b[39;49m\u001b[38;5;241;43m.\u001b[39;49m\u001b[43m_get_formatted_values\u001b[49m\u001b[43m(\u001b[49m\u001b[43m)\u001b[49m\n\u001b[1;32m    408\u001b[0m     \u001b[38;5;66;03m# write values\u001b[39;00m\n\u001b[1;32m    409\u001b[0m     \u001b[38;5;28;01mif\u001b[39;00m \u001b[38;5;28mself\u001b[39m\u001b[38;5;241m.\u001b[39mfmt\u001b[38;5;241m.\u001b[39mindex \u001b[38;5;129;01mand\u001b[39;00m \u001b[38;5;28misinstance\u001b[39m(\u001b[38;5;28mself\u001b[39m\u001b[38;5;241m.\u001b[39mframe\u001b[38;5;241m.\u001b[39mindex, MultiIndex):\n",
      "File \u001b[0;32m/opt/conda/lib/python3.9/site-packages/pandas/io/formats/html.py:596\u001b[0m, in \u001b[0;36mNotebookFormatter._get_formatted_values\u001b[0;34m(self)\u001b[0m\n\u001b[1;32m    595\u001b[0m \u001b[38;5;28;01mdef\u001b[39;00m \u001b[38;5;21m_get_formatted_values\u001b[39m(\u001b[38;5;28mself\u001b[39m) \u001b[38;5;241m-\u001b[39m\u001b[38;5;241m>\u001b[39m \u001b[38;5;28mdict\u001b[39m[\u001b[38;5;28mint\u001b[39m, \u001b[38;5;28mlist\u001b[39m[\u001b[38;5;28mstr\u001b[39m]]:\n\u001b[0;32m--> 596\u001b[0m     \u001b[38;5;28;01mreturn\u001b[39;00m {i: \u001b[38;5;28mself\u001b[39m\u001b[38;5;241m.\u001b[39mfmt\u001b[38;5;241m.\u001b[39mformat_col(i) \u001b[38;5;28;01mfor\u001b[39;00m i \u001b[38;5;129;01min\u001b[39;00m \u001b[38;5;28mrange\u001b[39m(\u001b[38;5;28mself\u001b[39m\u001b[38;5;241m.\u001b[39mncols)}\n",
      "File \u001b[0;32m/opt/conda/lib/python3.9/site-packages/pandas/io/formats/html.py:596\u001b[0m, in \u001b[0;36m<dictcomp>\u001b[0;34m(.0)\u001b[0m\n\u001b[1;32m    595\u001b[0m \u001b[38;5;28;01mdef\u001b[39;00m \u001b[38;5;21m_get_formatted_values\u001b[39m(\u001b[38;5;28mself\u001b[39m) \u001b[38;5;241m-\u001b[39m\u001b[38;5;241m>\u001b[39m \u001b[38;5;28mdict\u001b[39m[\u001b[38;5;28mint\u001b[39m, \u001b[38;5;28mlist\u001b[39m[\u001b[38;5;28mstr\u001b[39m]]:\n\u001b[0;32m--> 596\u001b[0m     \u001b[38;5;28;01mreturn\u001b[39;00m {i: \u001b[38;5;28;43mself\u001b[39;49m\u001b[38;5;241;43m.\u001b[39;49m\u001b[43mfmt\u001b[49m\u001b[38;5;241;43m.\u001b[39;49m\u001b[43mformat_col\u001b[49m\u001b[43m(\u001b[49m\u001b[43mi\u001b[49m\u001b[43m)\u001b[49m \u001b[38;5;28;01mfor\u001b[39;00m i \u001b[38;5;129;01min\u001b[39;00m \u001b[38;5;28mrange\u001b[39m(\u001b[38;5;28mself\u001b[39m\u001b[38;5;241m.\u001b[39mncols)}\n",
      "File \u001b[0;32m/opt/conda/lib/python3.9/site-packages/pandas/io/formats/format.py:896\u001b[0m, in \u001b[0;36mDataFrameFormatter.format_col\u001b[0;34m(self, i)\u001b[0m\n\u001b[1;32m    894\u001b[0m \u001b[38;5;28;01mdef\u001b[39;00m \u001b[38;5;21mformat_col\u001b[39m(\u001b[38;5;28mself\u001b[39m, i: \u001b[38;5;28mint\u001b[39m) \u001b[38;5;241m-\u001b[39m\u001b[38;5;241m>\u001b[39m \u001b[38;5;28mlist\u001b[39m[\u001b[38;5;28mstr\u001b[39m]:\n\u001b[1;32m    895\u001b[0m     frame \u001b[38;5;241m=\u001b[39m \u001b[38;5;28mself\u001b[39m\u001b[38;5;241m.\u001b[39mtr_frame\n\u001b[0;32m--> 896\u001b[0m     formatter \u001b[38;5;241m=\u001b[39m \u001b[38;5;28;43mself\u001b[39;49m\u001b[38;5;241;43m.\u001b[39;49m\u001b[43m_get_formatter\u001b[49m\u001b[43m(\u001b[49m\u001b[43mi\u001b[49m\u001b[43m)\u001b[49m\n\u001b[1;32m    897\u001b[0m     \u001b[38;5;28;01mreturn\u001b[39;00m format_array(\n\u001b[1;32m    898\u001b[0m         frame\u001b[38;5;241m.\u001b[39miloc[:, i]\u001b[38;5;241m.\u001b[39m_values,\n\u001b[1;32m    899\u001b[0m         formatter,\n\u001b[0;32m   (...)\u001b[0m\n\u001b[1;32m    904\u001b[0m         leading_space\u001b[38;5;241m=\u001b[39m\u001b[38;5;28mself\u001b[39m\u001b[38;5;241m.\u001b[39mindex,\n\u001b[1;32m    905\u001b[0m     )\n",
      "File \u001b[0;32m/opt/conda/lib/python3.9/site-packages/pandas/io/formats/format.py:917\u001b[0m, in \u001b[0;36mDataFrameFormatter._get_formatter\u001b[0;34m(self, i)\u001b[0m\n\u001b[1;32m    915\u001b[0m \u001b[38;5;28;01mif\u001b[39;00m is_integer(i) \u001b[38;5;129;01mand\u001b[39;00m i \u001b[38;5;129;01mnot\u001b[39;00m \u001b[38;5;129;01min\u001b[39;00m \u001b[38;5;28mself\u001b[39m\u001b[38;5;241m.\u001b[39mcolumns:\n\u001b[1;32m    916\u001b[0m     i \u001b[38;5;241m=\u001b[39m \u001b[38;5;28mself\u001b[39m\u001b[38;5;241m.\u001b[39mcolumns[i]\n\u001b[0;32m--> 917\u001b[0m \u001b[38;5;28;01mreturn\u001b[39;00m \u001b[38;5;28;43mself\u001b[39;49m\u001b[38;5;241;43m.\u001b[39;49m\u001b[43mformatters\u001b[49m\u001b[38;5;241;43m.\u001b[39;49m\u001b[43mget\u001b[49m\u001b[43m(\u001b[49m\u001b[43mi\u001b[49m\u001b[43m,\u001b[49m\u001b[43m \u001b[49m\u001b[38;5;28;43;01mNone\u001b[39;49;00m\u001b[43m)\u001b[49m\n",
      "\u001b[0;31mTypeError\u001b[0m: unhashable type: 'dict'"
     ]
    }
   ],
   "source": [
    "schd_vp__df2.sample()"
   ]
  }
 ],
 "metadata": {
  "kernelspec": {
   "display_name": "Python 3 (ipykernel)",
   "language": "python",
   "name": "python3"
  },
  "language_info": {
   "codemirror_mode": {
    "name": "ipython",
    "version": 3
   },
   "file_extension": ".py",
   "mimetype": "text/x-python",
   "name": "python",
   "nbconvert_exporter": "python",
   "pygments_lexer": "ipython3",
   "version": "3.9.13"
  }
 },
 "nbformat": 4,
 "nbformat_minor": 5
}
