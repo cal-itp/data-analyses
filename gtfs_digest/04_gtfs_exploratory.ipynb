{
 "cells": [
  {
   "cell_type": "markdown",
   "id": "0e10f7ca-6b49-46e9-97c6-5a2b0cad722f",
   "metadata": {},
   "source": [
    "## Checking out the other data sources & Game Plan\n",
    "* cd rt_segment_speeds && pip install altair_transform && pip install -r requirements.txt && cd ../_shared_utils && make setup_env"
   ]
  },
  {
   "cell_type": "code",
   "execution_count": 1,
   "id": "13de9193-e486-4a59-bfb6-4226bdcf7b13",
   "metadata": {},
   "outputs": [],
   "source": [
    "import _report_utils\n",
    "import altair as alt\n",
    "import calitp_data_analysis.magics\n",
    "import geopandas as gpd\n",
    "import great_tables as gt\n",
    "import pandas as pd\n",
    "from calitp_data_analysis import calitp_color_palette as cp\n",
    "from great_tables import md\n",
    "from IPython.display import HTML, Markdown, display\n",
    "from segment_speed_utils.project_vars import RT_SCHED_GCS\n",
    "from shared_utils import catalog_utils, rt_dates, rt_utils\n",
    "\n",
    "alt.renderers.enable(\"html\")\n",
    "alt.data_transformers.enable(\"default\", max_rows=None)\n",
    "from typing import List, Union"
   ]
  },
  {
   "cell_type": "code",
   "execution_count": 2,
   "id": "6405a464-e831-4df1-815d-53d13ee89fb7",
   "metadata": {},
   "outputs": [],
   "source": [
    "pd.options.display.max_columns = 100\n",
    "pd.options.display.float_format = \"{:.2f}\".format\n",
    "pd.set_option(\"display.max_rows\", None)\n",
    "pd.set_option(\"display.max_colwidth\", None)"
   ]
  },
  {
   "cell_type": "code",
   "execution_count": 3,
   "id": "66f35b7d-787d-4e0c-91a3-b1974f0f1232",
   "metadata": {},
   "outputs": [],
   "source": [
    "name = \"SBMTD Schedule\""
   ]
  },
  {
   "cell_type": "code",
   "execution_count": 4,
   "id": "f945e34e-ff27-48e9-bf3a-9fee990217df",
   "metadata": {},
   "outputs": [],
   "source": [
    "date = \"2024-03-13\""
   ]
  },
  {
   "cell_type": "code",
   "execution_count": 5,
   "id": "d156bbf6-bd82-4583-8352-144f91abaf98",
   "metadata": {},
   "outputs": [],
   "source": [
    "year = \"2024\""
   ]
  },
  {
   "cell_type": "code",
   "execution_count": 6,
   "id": "e5d298e1-c369-46f6-8f99-b067e37a8bac",
   "metadata": {},
   "outputs": [],
   "source": [
    "GTFS_DATA_DICT = catalog_utils.get_catalog(\"gtfs_analytics_data\")"
   ]
  },
  {
   "cell_type": "markdown",
   "id": "c50503c0-190c-4805-a93c-278a5090e4ad",
   "metadata": {},
   "source": [
    "## monthly_scheduled_service\n",
    "* https://dbt-docs.calitp.org/#!/model/model.calitp_warehouse.fct_monthly_route_service_by_timeofday\n",
    "* Total scheduled service hours that occurred for the route for this month, day_type, and time_of_day."
   ]
  },
  {
   "cell_type": "code",
   "execution_count": 7,
   "id": "ed9ce8ef-8a1a-4e38-b705-8dd79e542a63",
   "metadata": {},
   "outputs": [],
   "source": [
    "# monthly_schd_service_url = f\"{GTFS_DATA_DICT.schedule_tables.gcs_dir}{GTFS_DATA_DICT.schedule_tables.monthly_scheduled_service}_{year}.parquet\""
   ]
  },
  {
   "cell_type": "code",
   "execution_count": 8,
   "id": "cb8888ab-425b-43bc-92db-68d44ee0dc91",
   "metadata": {},
   "outputs": [],
   "source": [
    "# monthly_scheduled_service_df = pd.read_parquet(monthly_schd_service_url)"
   ]
  },
  {
   "cell_type": "code",
   "execution_count": 9,
   "id": "656bcf24-2175-4b0c-8d39-23e981e8909a",
   "metadata": {},
   "outputs": [],
   "source": [
    "monthly_scheduled_service_df_agg = _report_utils.summarize_monthly(year, name)"
   ]
  },
  {
   "cell_type": "code",
   "execution_count": 10,
   "id": "748a9023-d52a-49b6-acbf-7a8968844df9",
   "metadata": {},
   "outputs": [
    {
     "name": "stderr",
     "output_type": "stream",
     "text": [
      "/opt/conda/lib/python3.9/site-packages/altair/utils/deprecation.py:65: AltairDeprecationWarning: 'selection_single' is deprecated.  Use 'selection_point'\n",
      "  warnings.warn(message, AltairDeprecationWarning, stacklevel=1)\n"
     ]
    },
    {
     "data": {
      "text/html": [
       "\n",
       "<style>\n",
       "  #altair-viz-ab3032e990154d39b95fbf6e369afdbe.vega-embed {\n",
       "    width: 100%;\n",
       "    display: flex;\n",
       "  }\n",
       "\n",
       "  #altair-viz-ab3032e990154d39b95fbf6e369afdbe.vega-embed details,\n",
       "  #altair-viz-ab3032e990154d39b95fbf6e369afdbe.vega-embed details summary {\n",
       "    position: relative;\n",
       "  }\n",
       "</style>\n",
       "<div id=\"altair-viz-ab3032e990154d39b95fbf6e369afdbe\"></div>\n",
       "<script type=\"text/javascript\">\n",
       "  var VEGA_DEBUG = (typeof VEGA_DEBUG == \"undefined\") ? {} : VEGA_DEBUG;\n",
       "  (function(spec, embedOpt){\n",
       "    let outputDiv = document.currentScript.previousElementSibling;\n",
       "    if (outputDiv.id !== \"altair-viz-ab3032e990154d39b95fbf6e369afdbe\") {\n",
       "      outputDiv = document.getElementById(\"altair-viz-ab3032e990154d39b95fbf6e369afdbe\");\n",
       "    }\n",
       "    const paths = {\n",
       "      \"vega\": \"https://cdn.jsdelivr.net/npm/vega@5?noext\",\n",
       "      \"vega-lib\": \"https://cdn.jsdelivr.net/npm/vega-lib?noext\",\n",
       "      \"vega-lite\": \"https://cdn.jsdelivr.net/npm/vega-lite@5.14.1?noext\",\n",
       "      \"vega-embed\": \"https://cdn.jsdelivr.net/npm/vega-embed@6?noext\",\n",
       "    };\n",
       "\n",
       "    function maybeLoadScript(lib, version) {\n",
       "      var key = `${lib.replace(\"-\", \"\")}_version`;\n",
       "      return (VEGA_DEBUG[key] == version) ?\n",
       "        Promise.resolve(paths[lib]) :\n",
       "        new Promise(function(resolve, reject) {\n",
       "          var s = document.createElement('script');\n",
       "          document.getElementsByTagName(\"head\")[0].appendChild(s);\n",
       "          s.async = true;\n",
       "          s.onload = () => {\n",
       "            VEGA_DEBUG[key] = version;\n",
       "            return resolve(paths[lib]);\n",
       "          };\n",
       "          s.onerror = () => reject(`Error loading script: ${paths[lib]}`);\n",
       "          s.src = paths[lib];\n",
       "        });\n",
       "    }\n",
       "\n",
       "    function showError(err) {\n",
       "      outputDiv.innerHTML = `<div class=\"error\" style=\"color:red;\">${err}</div>`;\n",
       "      throw err;\n",
       "    }\n",
       "\n",
       "    function displayChart(vegaEmbed) {\n",
       "      vegaEmbed(outputDiv, spec, embedOpt)\n",
       "        .catch(err => showError(`Javascript Error: ${err.message}<br>This usually means there's a typo in your chart specification. See the javascript console for the full traceback.`));\n",
       "    }\n",
       "\n",
       "    if(typeof define === \"function\" && define.amd) {\n",
       "      requirejs.config({paths});\n",
       "      require([\"vega-embed\"], displayChart, err => showError(`Error loading script: ${err.message}`));\n",
       "    } else {\n",
       "      maybeLoadScript(\"vega\", \"5\")\n",
       "        .then(() => maybeLoadScript(\"vega-lite\", \"5.14.1\"))\n",
       "        .then(() => maybeLoadScript(\"vega-embed\", \"6\"))\n",
       "        .catch(showError)\n",
       "        .then(() => displayChart(vegaEmbed));\n",
       "    }\n",
       "  })({\"config\": {\"view\": {\"continuousWidth\": 300, \"continuousHeight\": 300}}, \"layer\": [{\"mark\": {\"type\": \"bar\"}, \"encoding\": {\"color\": {\"field\": \"time_of_day\", \"scale\": {\"range\": [\"#B9D6DF\", \"#8CBCCB\", \"#2EA8CE\", \"#136C97\", \"#0B405B\"]}, \"type\": \"nominal\"}, \"tooltip\": [{\"field\": \"name\", \"type\": \"nominal\"}, {\"field\": \"full_date\", \"type\": \"nominal\"}, {\"field\": \"time_of_day\", \"type\": \"nominal\"}, {\"field\": \"day_type\", \"type\": \"nominal\"}, {\"field\": \"ttl_service_hours\", \"type\": \"quantitative\"}], \"x\": {\"field\": \"day_type\", \"scale\": {\"domain\": [\"Monday\", \"Tuesday\", \"Wednesday\", \"Thursday\", \"Friday\", \"Saturday\", \"Sunday\"]}, \"title\": \"Day\", \"type\": \"nominal\"}, \"xOffset\": {\"field\": \"time_of_day\", \"type\": \"nominal\"}, \"y\": {\"field\": \"ttl_service_hours\", \"title\": \"Ttl Service Hours\", \"type\": \"quantitative\"}}, \"name\": \"view_1\"}, {\"mark\": {\"type\": \"rule\", \"color\": \"red\", \"strokeDash\": [10, 7]}, \"encoding\": {\"y\": {\"aggregate\": \"mean\", \"field\": \"ttl_service_hours\", \"type\": \"quantitative\"}}}], \"data\": {\"name\": \"data-ee63abddb106d0ba8dbd0a9fa1dc3f48\"}, \"height\": 400, \"params\": [{\"name\": \"Full Date\", \"select\": {\"type\": \"point\", \"fields\": [\"full_date\"]}, \"bind\": {\"input\": \"select\", \"options\": [\"01-2024\", \"02-2024\", \"03-2024\"], \"name\": \"Full Date\"}, \"views\": [\"view_1\"]}], \"title\": \"Average Total Service Hours across all Routes per Month in 2023\", \"transform\": [{\"filter\": {\"param\": \"Full Date\"}}], \"width\": 600, \"$schema\": \"https://vega.github.io/schema/vega-lite/v5.14.1.json\", \"datasets\": {\"data-ee63abddb106d0ba8dbd0a9fa1dc3f48\": [{\"name\": \"SBMTD Schedule\", \"full_date\": \"01-2024\", \"time_of_day\": \"AM Peak\", \"day_type\": \"Friday\", \"ttl_service_hours\": 54.80000000000001}, {\"name\": \"SBMTD Schedule\", \"full_date\": \"01-2024\", \"time_of_day\": \"AM Peak\", \"day_type\": \"Monday\", \"ttl_service_hours\": 54.80000000000001}, {\"name\": \"SBMTD Schedule\", \"full_date\": \"01-2024\", \"time_of_day\": \"AM Peak\", \"day_type\": \"Saturday\", \"ttl_service_hours\": 54.80000000000001}, {\"name\": \"SBMTD Schedule\", \"full_date\": \"01-2024\", \"time_of_day\": \"AM Peak\", \"day_type\": \"Sunday\", \"ttl_service_hours\": 54.80000000000001}, {\"name\": \"SBMTD Schedule\", \"full_date\": \"01-2024\", \"time_of_day\": \"AM Peak\", \"day_type\": \"Thursday\", \"ttl_service_hours\": 68.5}, {\"name\": \"SBMTD Schedule\", \"full_date\": \"01-2024\", \"time_of_day\": \"AM Peak\", \"day_type\": \"Tuesday\", \"ttl_service_hours\": 68.50000000000001}, {\"name\": \"SBMTD Schedule\", \"full_date\": \"01-2024\", \"time_of_day\": \"AM Peak\", \"day_type\": \"Wednesday\", \"ttl_service_hours\": 68.5}, {\"name\": \"SBMTD Schedule\", \"full_date\": \"01-2024\", \"time_of_day\": \"Early AM\", \"day_type\": \"Friday\", \"ttl_service_hours\": 23.333333333333332}, {\"name\": \"SBMTD Schedule\", \"full_date\": \"01-2024\", \"time_of_day\": \"Early AM\", \"day_type\": \"Monday\", \"ttl_service_hours\": 9.133333333333333}, {\"name\": \"SBMTD Schedule\", \"full_date\": \"01-2024\", \"time_of_day\": \"Early AM\", \"day_type\": \"Saturday\", \"ttl_service_hours\": 23.333333333333332}, {\"name\": \"SBMTD Schedule\", \"full_date\": \"01-2024\", \"time_of_day\": \"Early AM\", \"day_type\": \"Sunday\", \"ttl_service_hours\": 13.6}, {\"name\": \"SBMTD Schedule\", \"full_date\": \"01-2024\", \"time_of_day\": \"Early AM\", \"day_type\": \"Thursday\", \"ttl_service_hours\": 29.166666666666664}, {\"name\": \"SBMTD Schedule\", \"full_date\": \"01-2024\", \"time_of_day\": \"Early AM\", \"day_type\": \"Tuesday\", \"ttl_service_hours\": 20.916666666666664}, {\"name\": \"SBMTD Schedule\", \"full_date\": \"01-2024\", \"time_of_day\": \"Early AM\", \"day_type\": \"Wednesday\", \"ttl_service_hours\": 29.166666666666664}, {\"name\": \"SBMTD Schedule\", \"full_date\": \"01-2024\", \"time_of_day\": \"Evening\", \"day_type\": \"Friday\", \"ttl_service_hours\": 39.66666666666667}, {\"name\": \"SBMTD Schedule\", \"full_date\": \"01-2024\", \"time_of_day\": \"Evening\", \"day_type\": \"Monday\", \"ttl_service_hours\": 27.86666666666666}, {\"name\": \"SBMTD Schedule\", \"full_date\": \"01-2024\", \"time_of_day\": \"Evening\", \"day_type\": \"Saturday\", \"ttl_service_hours\": 39.666666666666664}, {\"name\": \"SBMTD Schedule\", \"full_date\": \"01-2024\", \"time_of_day\": \"Evening\", \"day_type\": \"Sunday\", \"ttl_service_hours\": 27.866666666666664}, {\"name\": \"SBMTD Schedule\", \"full_date\": \"01-2024\", \"time_of_day\": \"Evening\", \"day_type\": \"Thursday\", \"ttl_service_hours\": 49.58333333333333}, {\"name\": \"SBMTD Schedule\", \"full_date\": \"01-2024\", \"time_of_day\": \"Evening\", \"day_type\": \"Tuesday\", \"ttl_service_hours\": 41.83333333333333}, {\"name\": \"SBMTD Schedule\", \"full_date\": \"01-2024\", \"time_of_day\": \"Evening\", \"day_type\": \"Wednesday\", \"ttl_service_hours\": 49.58333333333333}, {\"name\": \"SBMTD Schedule\", \"full_date\": \"01-2024\", \"time_of_day\": \"Midday\", \"day_type\": \"Friday\", \"ttl_service_hours\": 91.33333333333334}, {\"name\": \"SBMTD Schedule\", \"full_date\": \"01-2024\", \"time_of_day\": \"Midday\", \"day_type\": \"Monday\", \"ttl_service_hours\": 91.33333333333334}, {\"name\": \"SBMTD Schedule\", \"full_date\": \"01-2024\", \"time_of_day\": \"Midday\", \"day_type\": \"Saturday\", \"ttl_service_hours\": 91.33333333333334}, {\"name\": \"SBMTD Schedule\", \"full_date\": \"01-2024\", \"time_of_day\": \"Midday\", \"day_type\": \"Sunday\", \"ttl_service_hours\": 91.33333333333334}, {\"name\": \"SBMTD Schedule\", \"full_date\": \"01-2024\", \"time_of_day\": \"Midday\", \"day_type\": \"Thursday\", \"ttl_service_hours\": 114.1666666666667}, {\"name\": \"SBMTD Schedule\", \"full_date\": \"01-2024\", \"time_of_day\": \"Midday\", \"day_type\": \"Tuesday\", \"ttl_service_hours\": 114.16666666666669}, {\"name\": \"SBMTD Schedule\", \"full_date\": \"01-2024\", \"time_of_day\": \"Midday\", \"day_type\": \"Wednesday\", \"ttl_service_hours\": 114.1666666666667}, {\"name\": \"SBMTD Schedule\", \"full_date\": \"01-2024\", \"time_of_day\": \"PM Peak\", \"day_type\": \"Friday\", \"ttl_service_hours\": 89.73333333333335}, {\"name\": \"SBMTD Schedule\", \"full_date\": \"01-2024\", \"time_of_day\": \"PM Peak\", \"day_type\": \"Monday\", \"ttl_service_hours\": 82.53333333333335}, {\"name\": \"SBMTD Schedule\", \"full_date\": \"01-2024\", \"time_of_day\": \"PM Peak\", \"day_type\": \"Saturday\", \"ttl_service_hours\": 89.73333333333335}, {\"name\": \"SBMTD Schedule\", \"full_date\": \"01-2024\", \"time_of_day\": \"PM Peak\", \"day_type\": \"Sunday\", \"ttl_service_hours\": 85.26666666666668}, {\"name\": \"SBMTD Schedule\", \"full_date\": \"01-2024\", \"time_of_day\": \"PM Peak\", \"day_type\": \"Thursday\", \"ttl_service_hours\": 112.16666666666669}, {\"name\": \"SBMTD Schedule\", \"full_date\": \"01-2024\", \"time_of_day\": \"PM Peak\", \"day_type\": \"Tuesday\", \"ttl_service_hours\": 109.25000000000003}, {\"name\": \"SBMTD Schedule\", \"full_date\": \"01-2024\", \"time_of_day\": \"PM Peak\", \"day_type\": \"Wednesday\", \"ttl_service_hours\": 112.16666666666669}, {\"name\": \"SBMTD Schedule\", \"full_date\": \"02-2024\", \"time_of_day\": \"AM Peak\", \"day_type\": \"Friday\", \"ttl_service_hours\": 54.8}, {\"name\": \"SBMTD Schedule\", \"full_date\": \"02-2024\", \"time_of_day\": \"AM Peak\", \"day_type\": \"Monday\", \"ttl_service_hours\": 41.10000000000001}, {\"name\": \"SBMTD Schedule\", \"full_date\": \"02-2024\", \"time_of_day\": \"AM Peak\", \"day_type\": \"Saturday\", \"ttl_service_hours\": 41.10000000000001}, {\"name\": \"SBMTD Schedule\", \"full_date\": \"02-2024\", \"time_of_day\": \"AM Peak\", \"day_type\": \"Sunday\", \"ttl_service_hours\": 41.10000000000001}, {\"name\": \"SBMTD Schedule\", \"full_date\": \"02-2024\", \"time_of_day\": \"AM Peak\", \"day_type\": \"Thursday\", \"ttl_service_hours\": 41.10000000000001}, {\"name\": \"SBMTD Schedule\", \"full_date\": \"02-2024\", \"time_of_day\": \"AM Peak\", \"day_type\": \"Tuesday\", \"ttl_service_hours\": 54.800000000000004}, {\"name\": \"SBMTD Schedule\", \"full_date\": \"02-2024\", \"time_of_day\": \"AM Peak\", \"day_type\": \"Wednesday\", \"ttl_service_hours\": 54.80000000000001}, {\"name\": \"SBMTD Schedule\", \"full_date\": \"02-2024\", \"time_of_day\": \"Early AM\", \"day_type\": \"Friday\", \"ttl_service_hours\": 23.333333333333332}, {\"name\": \"SBMTD Schedule\", \"full_date\": \"02-2024\", \"time_of_day\": \"Early AM\", \"day_type\": \"Monday\", \"ttl_service_hours\": 6.85}, {\"name\": \"SBMTD Schedule\", \"full_date\": \"02-2024\", \"time_of_day\": \"Early AM\", \"day_type\": \"Saturday\", \"ttl_service_hours\": 17.5}, {\"name\": \"SBMTD Schedule\", \"full_date\": \"02-2024\", \"time_of_day\": \"Early AM\", \"day_type\": \"Sunday\", \"ttl_service_hours\": 10.2}, {\"name\": \"SBMTD Schedule\", \"full_date\": \"02-2024\", \"time_of_day\": \"Early AM\", \"day_type\": \"Thursday\", \"ttl_service_hours\": 17.5}, {\"name\": \"SBMTD Schedule\", \"full_date\": \"02-2024\", \"time_of_day\": \"Early AM\", \"day_type\": \"Tuesday\", \"ttl_service_hours\": 19.25}, {\"name\": \"SBMTD Schedule\", \"full_date\": \"02-2024\", \"time_of_day\": \"Early AM\", \"day_type\": \"Wednesday\", \"ttl_service_hours\": 23.333333333333336}, {\"name\": \"SBMTD Schedule\", \"full_date\": \"02-2024\", \"time_of_day\": \"Evening\", \"day_type\": \"Friday\", \"ttl_service_hours\": 39.66666666666667}, {\"name\": \"SBMTD Schedule\", \"full_date\": \"02-2024\", \"time_of_day\": \"Evening\", \"day_type\": \"Monday\", \"ttl_service_hours\": 20.9}, {\"name\": \"SBMTD Schedule\", \"full_date\": \"02-2024\", \"time_of_day\": \"Evening\", \"day_type\": \"Saturday\", \"ttl_service_hours\": 29.75}, {\"name\": \"SBMTD Schedule\", \"full_date\": \"02-2024\", \"time_of_day\": \"Evening\", \"day_type\": \"Sunday\", \"ttl_service_hours\": 20.899999999999995}, {\"name\": \"SBMTD Schedule\", \"full_date\": \"02-2024\", \"time_of_day\": \"Evening\", \"day_type\": \"Thursday\", \"ttl_service_hours\": 29.75}, {\"name\": \"SBMTD Schedule\", \"full_date\": \"02-2024\", \"time_of_day\": \"Evening\", \"day_type\": \"Tuesday\", \"ttl_service_hours\": 36.15}, {\"name\": \"SBMTD Schedule\", \"full_date\": \"02-2024\", \"time_of_day\": \"Evening\", \"day_type\": \"Wednesday\", \"ttl_service_hours\": 39.666666666666664}, {\"name\": \"SBMTD Schedule\", \"full_date\": \"02-2024\", \"time_of_day\": \"Midday\", \"day_type\": \"Friday\", \"ttl_service_hours\": 91.33333333333334}, {\"name\": \"SBMTD Schedule\", \"full_date\": \"02-2024\", \"time_of_day\": \"Midday\", \"day_type\": \"Monday\", \"ttl_service_hours\": 68.5}, {\"name\": \"SBMTD Schedule\", \"full_date\": \"02-2024\", \"time_of_day\": \"Midday\", \"day_type\": \"Saturday\", \"ttl_service_hours\": 68.5}, {\"name\": \"SBMTD Schedule\", \"full_date\": \"02-2024\", \"time_of_day\": \"Midday\", \"day_type\": \"Sunday\", \"ttl_service_hours\": 68.5}, {\"name\": \"SBMTD Schedule\", \"full_date\": \"02-2024\", \"time_of_day\": \"Midday\", \"day_type\": \"Thursday\", \"ttl_service_hours\": 68.5}, {\"name\": \"SBMTD Schedule\", \"full_date\": \"02-2024\", \"time_of_day\": \"Midday\", \"day_type\": \"Tuesday\", \"ttl_service_hours\": 91.33333333333334}, {\"name\": \"SBMTD Schedule\", \"full_date\": \"02-2024\", \"time_of_day\": \"Midday\", \"day_type\": \"Wednesday\", \"ttl_service_hours\": 91.33333333333334}, {\"name\": \"SBMTD Schedule\", \"full_date\": \"02-2024\", \"time_of_day\": \"PM Peak\", \"day_type\": \"Friday\", \"ttl_service_hours\": 89.73333333333335}, {\"name\": \"SBMTD Schedule\", \"full_date\": \"02-2024\", \"time_of_day\": \"PM Peak\", \"day_type\": \"Monday\", \"ttl_service_hours\": 61.900000000000006}, {\"name\": \"SBMTD Schedule\", \"full_date\": \"02-2024\", \"time_of_day\": \"PM Peak\", \"day_type\": \"Saturday\", \"ttl_service_hours\": 67.30000000000001}, {\"name\": \"SBMTD Schedule\", \"full_date\": \"02-2024\", \"time_of_day\": \"PM Peak\", \"day_type\": \"Sunday\", \"ttl_service_hours\": 63.95000000000001}, {\"name\": \"SBMTD Schedule\", \"full_date\": \"02-2024\", \"time_of_day\": \"PM Peak\", \"day_type\": \"Thursday\", \"ttl_service_hours\": 67.30000000000001}, {\"name\": \"SBMTD Schedule\", \"full_date\": \"02-2024\", \"time_of_day\": \"PM Peak\", \"day_type\": \"Tuesday\", \"ttl_service_hours\": 88.61666666666669}, {\"name\": \"SBMTD Schedule\", \"full_date\": \"02-2024\", \"time_of_day\": \"PM Peak\", \"day_type\": \"Wednesday\", \"ttl_service_hours\": 89.73333333333335}, {\"name\": \"SBMTD Schedule\", \"full_date\": \"03-2024\", \"time_of_day\": \"AM Peak\", \"day_type\": \"Friday\", \"ttl_service_hours\": 54.80000000000001}, {\"name\": \"SBMTD Schedule\", \"full_date\": \"03-2024\", \"time_of_day\": \"AM Peak\", \"day_type\": \"Monday\", \"ttl_service_hours\": 68.50000000000001}, {\"name\": \"SBMTD Schedule\", \"full_date\": \"03-2024\", \"time_of_day\": \"AM Peak\", \"day_type\": \"Saturday\", \"ttl_service_hours\": 68.50000000000001}, {\"name\": \"SBMTD Schedule\", \"full_date\": \"03-2024\", \"time_of_day\": \"AM Peak\", \"day_type\": \"Sunday\", \"ttl_service_hours\": 68.50000000000001}, {\"name\": \"SBMTD Schedule\", \"full_date\": \"03-2024\", \"time_of_day\": \"AM Peak\", \"day_type\": \"Thursday\", \"ttl_service_hours\": 54.80000000000001}, {\"name\": \"SBMTD Schedule\", \"full_date\": \"03-2024\", \"time_of_day\": \"AM Peak\", \"day_type\": \"Tuesday\", \"ttl_service_hours\": 54.8}, {\"name\": \"SBMTD Schedule\", \"full_date\": \"03-2024\", \"time_of_day\": \"AM Peak\", \"day_type\": \"Wednesday\", \"ttl_service_hours\": 54.800000000000004}, {\"name\": \"SBMTD Schedule\", \"full_date\": \"03-2024\", \"time_of_day\": \"Early AM\", \"day_type\": \"Friday\", \"ttl_service_hours\": 23.333333333333332}, {\"name\": \"SBMTD Schedule\", \"full_date\": \"03-2024\", \"time_of_day\": \"Early AM\", \"day_type\": \"Monday\", \"ttl_service_hours\": 11.416666666666666}, {\"name\": \"SBMTD Schedule\", \"full_date\": \"03-2024\", \"time_of_day\": \"Early AM\", \"day_type\": \"Saturday\", \"ttl_service_hours\": 29.166666666666664}, {\"name\": \"SBMTD Schedule\", \"full_date\": \"03-2024\", \"time_of_day\": \"Early AM\", \"day_type\": \"Sunday\", \"ttl_service_hours\": 17.0}, {\"name\": \"SBMTD Schedule\", \"full_date\": \"03-2024\", \"time_of_day\": \"Early AM\", \"day_type\": \"Thursday\", \"ttl_service_hours\": 23.333333333333332}, {\"name\": \"SBMTD Schedule\", \"full_date\": \"03-2024\", \"time_of_day\": \"Early AM\", \"day_type\": \"Tuesday\", \"ttl_service_hours\": 23.333333333333332}, {\"name\": \"SBMTD Schedule\", \"full_date\": \"03-2024\", \"time_of_day\": \"Early AM\", \"day_type\": \"Wednesday\", \"ttl_service_hours\": 23.333333333333332}, {\"name\": \"SBMTD Schedule\", \"full_date\": \"03-2024\", \"time_of_day\": \"Evening\", \"day_type\": \"Friday\", \"ttl_service_hours\": 39.66666666666667}, {\"name\": \"SBMTD Schedule\", \"full_date\": \"03-2024\", \"time_of_day\": \"Evening\", \"day_type\": \"Monday\", \"ttl_service_hours\": 34.83333333333333}, {\"name\": \"SBMTD Schedule\", \"full_date\": \"03-2024\", \"time_of_day\": \"Evening\", \"day_type\": \"Saturday\", \"ttl_service_hours\": 49.583333333333336}, {\"name\": \"SBMTD Schedule\", \"full_date\": \"03-2024\", \"time_of_day\": \"Evening\", \"day_type\": \"Sunday\", \"ttl_service_hours\": 34.83333333333333}, {\"name\": \"SBMTD Schedule\", \"full_date\": \"03-2024\", \"time_of_day\": \"Evening\", \"day_type\": \"Thursday\", \"ttl_service_hours\": 39.666666666666664}, {\"name\": \"SBMTD Schedule\", \"full_date\": \"03-2024\", \"time_of_day\": \"Evening\", \"day_type\": \"Tuesday\", \"ttl_service_hours\": 39.66666666666667}, {\"name\": \"SBMTD Schedule\", \"full_date\": \"03-2024\", \"time_of_day\": \"Evening\", \"day_type\": \"Wednesday\", \"ttl_service_hours\": 39.666666666666664}, {\"name\": \"SBMTD Schedule\", \"full_date\": \"03-2024\", \"time_of_day\": \"Midday\", \"day_type\": \"Friday\", \"ttl_service_hours\": 91.33333333333334}, {\"name\": \"SBMTD Schedule\", \"full_date\": \"03-2024\", \"time_of_day\": \"Midday\", \"day_type\": \"Monday\", \"ttl_service_hours\": 114.16666666666669}, {\"name\": \"SBMTD Schedule\", \"full_date\": \"03-2024\", \"time_of_day\": \"Midday\", \"day_type\": \"Saturday\", \"ttl_service_hours\": 114.16666666666669}, {\"name\": \"SBMTD Schedule\", \"full_date\": \"03-2024\", \"time_of_day\": \"Midday\", \"day_type\": \"Sunday\", \"ttl_service_hours\": 114.16666666666669}, {\"name\": \"SBMTD Schedule\", \"full_date\": \"03-2024\", \"time_of_day\": \"Midday\", \"day_type\": \"Thursday\", \"ttl_service_hours\": 91.33333333333334}, {\"name\": \"SBMTD Schedule\", \"full_date\": \"03-2024\", \"time_of_day\": \"Midday\", \"day_type\": \"Tuesday\", \"ttl_service_hours\": 91.33333333333336}, {\"name\": \"SBMTD Schedule\", \"full_date\": \"03-2024\", \"time_of_day\": \"Midday\", \"day_type\": \"Wednesday\", \"ttl_service_hours\": 91.33333333333334}, {\"name\": \"SBMTD Schedule\", \"full_date\": \"03-2024\", \"time_of_day\": \"PM Peak\", \"day_type\": \"Friday\", \"ttl_service_hours\": 89.73333333333335}, {\"name\": \"SBMTD Schedule\", \"full_date\": \"03-2024\", \"time_of_day\": \"PM Peak\", \"day_type\": \"Monday\", \"ttl_service_hours\": 103.16666666666669}, {\"name\": \"SBMTD Schedule\", \"full_date\": \"03-2024\", \"time_of_day\": \"PM Peak\", \"day_type\": \"Saturday\", \"ttl_service_hours\": 112.16666666666669}, {\"name\": \"SBMTD Schedule\", \"full_date\": \"03-2024\", \"time_of_day\": \"PM Peak\", \"day_type\": \"Sunday\", \"ttl_service_hours\": 106.58333333333334}, {\"name\": \"SBMTD Schedule\", \"full_date\": \"03-2024\", \"time_of_day\": \"PM Peak\", \"day_type\": \"Thursday\", \"ttl_service_hours\": 89.73333333333335}, {\"name\": \"SBMTD Schedule\", \"full_date\": \"03-2024\", \"time_of_day\": \"PM Peak\", \"day_type\": \"Tuesday\", \"ttl_service_hours\": 89.73333333333335}, {\"name\": \"SBMTD Schedule\", \"full_date\": \"03-2024\", \"time_of_day\": \"PM Peak\", \"day_type\": \"Wednesday\", \"ttl_service_hours\": 89.73333333333335}]}}, {\"mode\": \"vega-lite\"});\n",
       "</script>"
      ],
      "text/plain": [
       "alt.LayerChart(...)"
      ]
     },
     "metadata": {},
     "output_type": "display_data"
    }
   ],
   "source": [
    "_report_utils.single_bar_chart_dropdown(\n",
    "    monthly_scheduled_service_df_agg,\n",
    "    \"day_type\",\n",
    "    \"ttl_service_hours\",\n",
    "    \"time_of_day\",\n",
    "    \"Average Total Service Hours across all Routes per Month in 2023\",\n",
    "    \"full_date\",\n",
    ")"
   ]
  },
  {
   "cell_type": "markdown",
   "id": "f22b430f-a2ac-4fd8-a574-32a8fce20327",
   "metadata": {},
   "source": [
    "## segment_speeds\n",
    "* For mapping"
   ]
  },
  {
   "cell_type": "code",
   "execution_count": null,
   "id": "0cc51da8-02fb-4bf4-9167-fda5a4edaf9d",
   "metadata": {},
   "outputs": [],
   "source": [
    "seg_speeds_url = f\"{GTFS_DATA_DICT.digest_tables.dir}{GTFS_DATA_DICT.digest_tables.route_segment_speeds}.parquet\""
   ]
  },
  {
   "cell_type": "code",
   "execution_count": null,
   "id": "12ea4a51-f1d0-492e-890d-8262a3f29674",
   "metadata": {},
   "outputs": [],
   "source": [
    "seg_speeds_gdf = gpd.read_parquet(seg_speeds_url)"
   ]
  },
  {
   "cell_type": "markdown",
   "id": "724cec3d-fbba-433a-8b51-5acd764e0a0a",
   "metadata": {},
   "source": [
    "### digest/operator_profiles"
   ]
  },
  {
   "cell_type": "code",
   "execution_count": null,
   "id": "638cb1a2-81d1-49e6-808d-8f7d201916b6",
   "metadata": {},
   "outputs": [],
   "source": [
    "seg_speeds_url = f\"{GTFS_DATA_DICT.digest_tables.dir}{GTFS_DATA_DICT.digest_tables.operator_profiles}.parquet\""
   ]
  }
 ],
 "metadata": {
  "kernelspec": {
   "display_name": "Python 3 (ipykernel)",
   "language": "python",
   "name": "python3"
  },
  "language_info": {
   "codemirror_mode": {
    "name": "ipython",
    "version": 3
   },
   "file_extension": ".py",
   "mimetype": "text/x-python",
   "name": "python",
   "nbconvert_exporter": "python",
   "pygments_lexer": "ipython3",
   "version": "3.9.13"
  }
 },
 "nbformat": 4,
 "nbformat_minor": 5
}
