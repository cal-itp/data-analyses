{
 "cells": [
  {
   "cell_type": "markdown",
   "id": "51956a7c-cc76-4768-b177-63abfb17014d",
   "metadata": {},
   "source": [
    "## New service_hour dataset"
   ]
  },
  {
   "cell_type": "code",
   "execution_count": 47,
   "id": "7fbf59d3-a2ac-45a2-bd1f-48aa453a0517",
   "metadata": {},
   "outputs": [],
   "source": [
    "from datetime import datetime\n",
    "\n",
    "import _section1_utils as section1\n",
    "import geopandas as gpd\n",
    "import numpy as np\n",
    "import pandas as pd\n",
    "from IPython.display import HTML, Image, Markdown, display, display_html\n",
    "from segment_speed_utils import gtfs_schedule_wrangling, helpers, time_series_utils\n",
    "from segment_speed_utils.project_vars import (\n",
    "    COMPILED_CACHED_VIEWS,\n",
    "    GTFS_DATA_DICT,\n",
    "    PROJECT_CRS,\n",
    "    RT_SCHED_GCS,\n",
    "    SCHED_GCS,\n",
    "    SEGMENT_GCS,\n",
    ")\n",
    "from shared_utils import catalog_utils, rt_dates, rt_utils\n",
    "import _report_utils "
   ]
  },
  {
   "cell_type": "code",
   "execution_count": 42,
   "id": "7baab918-f997-476b-91d0-1c95b340f5a8",
   "metadata": {},
   "outputs": [],
   "source": [
    "pd.options.display.max_columns = 100\n",
    "pd.options.display.float_format = \"{:.2f}\".format\n",
    "pd.set_option(\"display.max_rows\", None)\n",
    "pd.set_option(\"display.max_colwidth\", None)"
   ]
  },
  {
   "cell_type": "markdown",
   "id": "42e77f94-2f03-45d0-a7f5-22447e1fe676",
   "metadata": {},
   "source": [
    "### Create new service_hour dataset? \n",
    "* Script already written out (below)\n",
    "* Where do I add it within `gtfs_funnel`?\n",
    "* How do I upload it to GCS so it's available publicly?\n",
    "* Do I need to add diagrams/notes?"
   ]
  },
  {
   "cell_type": "code",
   "execution_count": 43,
   "id": "8898bd59-66d4-4f45-9c9a-30c168ab46b1",
   "metadata": {},
   "outputs": [],
   "source": [
    "def concatenate_trips(\n",
    "    date_list: list,\n",
    ") -> pd.DataFrame:\n",
    "    \"\"\"\n",
    "    Concatenate schedule data on the trips grain that's been\n",
    "    aggregated to route-direction-time_period for multiple days\n",
    "    to figure out an operator's total scheduled service hours.\n",
    "    \"\"\"\n",
    "    FILE = GTFS_DATA_DICT.schedule_downloads.trips\n",
    "\n",
    "    df = (\n",
    "        time_series_utils.concatenate_datasets_across_dates(\n",
    "            COMPILED_CACHED_VIEWS,\n",
    "            FILE,\n",
    "            date_list,\n",
    "            data_type=\"df\",\n",
    "            columns=[\n",
    "                \"name\",\n",
    "                \"service_date\",\n",
    "                \"route_long_name\",\n",
    "                \"trip_first_departure_datetime_pacific\",\n",
    "                \"service_hours\",\n",
    "            ],\n",
    "        )\n",
    "        .sort_values([\"service_date\"])\n",
    "        .reset_index(drop=True)\n",
    "    )\n",
    "\n",
    "    return df"
   ]
  },
  {
   "cell_type": "code",
   "execution_count": 55,
   "id": "c609cdf6-7d34-454e-8af6-a8c3d4847b38",
   "metadata": {},
   "outputs": [],
   "source": [
    "# time_series_utils.concatenate_datasets_across_dates??"
   ]
  },
  {
   "cell_type": "code",
   "execution_count": 50,
   "id": "00282393-ac7e-45e1-a856-91deebebf228",
   "metadata": {},
   "outputs": [],
   "source": [
    "apr_23week = rt_dates.get_week(month=\"apr2023\", exclude_wed=False)"
   ]
  },
  {
   "cell_type": "code",
   "execution_count": 51,
   "id": "05acde55-f2c7-4753-b8fb-b5d328e9ebfb",
   "metadata": {},
   "outputs": [],
   "source": [
    "apr_23_test = concatenate_trips(apr_23week)"
   ]
  },
  {
   "cell_type": "code",
   "execution_count": 52,
   "id": "a4d82016-6881-4346-b9e1-741e040e7f65",
   "metadata": {},
   "outputs": [
    {
     "data": {
      "text/plain": [
       "(674114, 5)"
      ]
     },
     "execution_count": 52,
     "metadata": {},
     "output_type": "execute_result"
    }
   ],
   "source": [
    "apr_23_test.shape"
   ]
  },
  {
   "cell_type": "code",
   "execution_count": 53,
   "id": "7a72e092-50e3-43d4-8143-28cac944ed09",
   "metadata": {},
   "outputs": [
    {
     "data": {
      "text/html": [
       "<div>\n",
       "<style scoped>\n",
       "    .dataframe tbody tr th:only-of-type {\n",
       "        vertical-align: middle;\n",
       "    }\n",
       "\n",
       "    .dataframe tbody tr th {\n",
       "        vertical-align: top;\n",
       "    }\n",
       "\n",
       "    .dataframe thead th {\n",
       "        text-align: right;\n",
       "    }\n",
       "</style>\n",
       "<table border=\"1\" class=\"dataframe\">\n",
       "  <thead>\n",
       "    <tr style=\"text-align: right;\">\n",
       "      <th></th>\n",
       "      <th>name</th>\n",
       "      <th>service_date</th>\n",
       "      <th>route_long_name</th>\n",
       "      <th>trip_first_departure_datetime_pacific</th>\n",
       "      <th>service_hours</th>\n",
       "    </tr>\n",
       "  </thead>\n",
       "  <tbody>\n",
       "    <tr>\n",
       "      <th>0</th>\n",
       "      <td>VCTC GMV Schedule</td>\n",
       "      <td>2023-04-10</td>\n",
       "      <td>Route 11</td>\n",
       "      <td>2023-04-10 06:00:00</td>\n",
       "      <td>0.53</td>\n",
       "    </tr>\n",
       "    <tr>\n",
       "      <th>1</th>\n",
       "      <td>Bay Area 511 Marin Schedule</td>\n",
       "      <td>2023-04-10</td>\n",
       "      <td>Downtown San Rafael - Sausalito</td>\n",
       "      <td>2023-04-10 16:59:00</td>\n",
       "      <td>0.93</td>\n",
       "    </tr>\n",
       "    <tr>\n",
       "      <th>2</th>\n",
       "      <td>Bay Area 511 Marin Schedule</td>\n",
       "      <td>2023-04-10</td>\n",
       "      <td>Downtown San Rafael - Sausalito</td>\n",
       "      <td>2023-04-10 19:33:00</td>\n",
       "      <td>0.87</td>\n",
       "    </tr>\n",
       "    <tr>\n",
       "      <th>3</th>\n",
       "      <td>Bay Area 511 Marin Schedule</td>\n",
       "      <td>2023-04-10</td>\n",
       "      <td>Hamilton - San Marin HS</td>\n",
       "      <td>2023-04-10 14:47:00</td>\n",
       "      <td>0.28</td>\n",
       "    </tr>\n",
       "    <tr>\n",
       "      <th>4</th>\n",
       "      <td>Bay Area 511 Marin Schedule</td>\n",
       "      <td>2023-04-10</td>\n",
       "      <td>Hamilton - San Marin HS</td>\n",
       "      <td>2023-04-10 07:30:00</td>\n",
       "      <td>0.78</td>\n",
       "    </tr>\n",
       "  </tbody>\n",
       "</table>\n",
       "</div>"
      ],
      "text/plain": [
       "                          name service_date                  route_long_name  \\\n",
       "0            VCTC GMV Schedule   2023-04-10                         Route 11   \n",
       "1  Bay Area 511 Marin Schedule   2023-04-10  Downtown San Rafael - Sausalito   \n",
       "2  Bay Area 511 Marin Schedule   2023-04-10  Downtown San Rafael - Sausalito   \n",
       "3  Bay Area 511 Marin Schedule   2023-04-10          Hamilton - San Marin HS   \n",
       "4  Bay Area 511 Marin Schedule   2023-04-10          Hamilton - San Marin HS   \n",
       "\n",
       "  trip_first_departure_datetime_pacific  service_hours  \n",
       "0                   2023-04-10 06:00:00           0.53  \n",
       "1                   2023-04-10 16:59:00           0.93  \n",
       "2                   2023-04-10 19:33:00           0.87  \n",
       "3                   2023-04-10 14:47:00           0.28  \n",
       "4                   2023-04-10 07:30:00           0.78  "
      ]
     },
     "execution_count": 53,
     "metadata": {},
     "output_type": "execute_result"
    }
   ],
   "source": [
    "apr_23_test.head()"
   ]
  },
  {
   "cell_type": "code",
   "execution_count": 43,
   "id": "623310e6-37f9-48a5-aa03-ba19f7984808",
   "metadata": {},
   "outputs": [],
   "source": [
    "def get_day_type(date):\n",
    "    \"\"\"\n",
    "    Function to return the day type (e.g., Monday, Tuesday, etc.) from a datetime object.\n",
    "    \"\"\"\n",
    "    days_of_week = [\"Monday\", \"Tuesday\", \"Wednesday\", \"Thursday\", \"Friday\", \"Saturday\", \"Sunday\"]\n",
    "    return days_of_week[date.weekday()]"
   ]
  },
  {
   "cell_type": "code",
   "execution_count": 43,
   "id": "206822f6-6045-4d66-9a96-448f31406dd5",
   "metadata": {},
   "outputs": [],
   "source": [
    "def weekday_or_weekend(row):\n",
    "    \"\"\"\n",
    "    Tag if a day is a weekday or Saturday/Sunday\n",
    "    \"\"\"\n",
    "    if row.day_type == \"Sunday\":\n",
    "        return \"Sunday\"\n",
    "    if row.day_type == \"Saturday\":\n",
    "        return \"Saturday\"\n",
    "    else:\n",
    "        return \"Weekday\""
   ]
  },
  {
   "cell_type": "code",
   "execution_count": 43,
   "id": "a97ff0fd-5c7a-4b4d-97af-c195a8a834b9",
   "metadata": {},
   "outputs": [],
   "source": [
    "def total_service_hours(date_list: list, name: str) -> pd.DataFrame:\n",
    "    \"\"\"\n",
    "    Total up service hours by departure hour, \n",
    "    month, and day type for an operator. \n",
    "    \"\"\"\n",
    "    # Combine all the days' data for a week\n",
    "    df = concatenate_trips(date_list)\n",
    "    \n",
    "     # Filter to the specific operator\n",
    "    df = df.loc[df.name == name].reset_index(drop=True)\n",
    "    \n",
    "    # Add day type aka Monday, Tuesday, Wednesday...\n",
    "    df['day_type'] = df['service_date'].apply(get_day_type)\n",
    "    \n",
    "    # Tag if the day is a weekday, Saturday, or Sunday\n",
    "    df[\"weekend_weekday\"] = df.apply(weekday_or_weekend, axis=1)\n",
    "    \n",
    "    # Find the minimum departure hour\n",
    "    df[\"departure_hour\"] = df.trip_first_departure_datetime_pacific.dt.hour\n",
    "    \n",
    "    # Delete out the specific day, leave only month & year\n",
    "    df[\"month\"] = df.service_date.astype(str).str.slice(stop=7)\n",
    "    \n",
    "    # Aggregate total service hours by weekday, Saturday, or Sunday.\n",
    "    df2 = (\n",
    "        df.groupby([\"name\", \"month\", \"weekend_weekday\", \"departure_hour\"])\n",
    "        .agg(\n",
    "            {\n",
    "                \"service_hours\": \"sum\",\n",
    "            }\n",
    "        )\n",
    "        .reset_index()\n",
    "    )\n",
    "    \n",
    "    # For weekday, we need to divide by 5\n",
    "    df2[\"weekday_service_hours\"] = df2.service_hours/5\n",
    "    \n",
    "    df2 = df2.rename(columns = {'service_hours':'weekend_service_hours'})\n",
    "    return df2"
   ]
  },
  {
   "cell_type": "code",
   "execution_count": 43,
   "id": "859a6ef1-2b85-4da8-9003-ecd1d2a95363",
   "metadata": {},
   "outputs": [],
   "source": [
    "def total_service_hours_all_months(name: str) -> pd.DataFrame:\n",
    "    \"\"\"\n",
    "    Find service hours for the months we have a full week's \n",
    "    worth of data downloaded for one operator.\n",
    "    \"\"\"\n",
    "    # Grab the dataframes with a full week's worth of data. \n",
    "    apr_23week = rt_dates.get_week(month=\"apr2023\", exclude_wed=False)\n",
    "    oct_23week = rt_dates.get_week(month=\"oct2023\", exclude_wed=False)\n",
    "    apr_24week = rt_dates.get_week(month=\"apr2024\", exclude_wed=False)\n",
    "    # need to add april 2024 here \n",
    "    \n",
    "    # Sum up total service_hours\n",
    "    apr_23df = total_service_hours(apr_23week, name)\n",
    "    oct_23df = total_service_hours(oct_23week, name)\n",
    "    apr_24df = total_service_hours(apr_24week, name)\n",
    "    \n",
    "    # Combine everything\n",
    "    all_df = pd.concat([apr_23df, oct_23df, apr_24df])\n",
    "    \n",
    "    # Rename the columns\n",
    "    all_df.columns = all_df.columns.map(_report_utils.replace_column_names)\n",
    "    return all_df"
   ]
  },
  {
   "cell_type": "code",
   "execution_count": 44,
   "id": "ce9cf5d8-332d-436b-b1d5-a2f3cff89588",
   "metadata": {},
   "outputs": [],
   "source": [
    "organization_name = \"Marin County Transit District\""
   ]
  },
  {
   "cell_type": "code",
   "execution_count": 45,
   "id": "480f5422-f1ab-4144-90d1-f1a695ab226e",
   "metadata": {},
   "outputs": [],
   "source": [
    "name = section1.organization_name_crosswalk(organization_name)"
   ]
  },
  {
   "cell_type": "code",
   "execution_count": 48,
   "id": "61d38bed-6375-4d7e-a981-c596ba76e6f7",
   "metadata": {},
   "outputs": [],
   "source": [
    "scheduled_service = total_service_hours_all_months(name)"
   ]
  },
  {
   "cell_type": "code",
   "execution_count": 49,
   "id": "a515f463-cd79-491a-b0aa-45809fd76380",
   "metadata": {},
   "outputs": [
    {
     "data": {
      "text/plain": [
       "(198, 6)"
      ]
     },
     "execution_count": 49,
     "metadata": {},
     "output_type": "execute_result"
    }
   ],
   "source": [
    "scheduled_service.shape"
   ]
  }
 ],
 "metadata": {
  "kernelspec": {
   "display_name": "Python 3 (ipykernel)",
   "language": "python",
   "name": "python3"
  },
  "language_info": {
   "codemirror_mode": {
    "name": "ipython",
    "version": 3
   },
   "file_extension": ".py",
   "mimetype": "text/x-python",
   "name": "python",
   "nbconvert_exporter": "python",
   "pygments_lexer": "ipython3",
   "version": "3.9.13"
  }
 },
 "nbformat": 4,
 "nbformat_minor": 5
}
