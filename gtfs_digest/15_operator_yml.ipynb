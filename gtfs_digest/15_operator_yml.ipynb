{
 "cells": [
  {
   "cell_type": "markdown",
   "id": "9567f2b6-a5f4-4690-a38a-288fc7f588bb",
   "metadata": {},
   "source": [
    "# Combined Feeds\n",
    "* Tiffany: <i>schedule_gtfs_dataset_names=LA Metro Bus/Railare combined/aggregated to organization_name =A County Metropolitan Transportation Authority -> both feeds have unique information, should be shown</i>\n",
    "* Find other instances of this in our dataset. "
   ]
  },
  {
   "cell_type": "code",
   "execution_count": 1,
   "id": "77d8672d-1e2a-4aeb-8884-17a8232a89f6",
   "metadata": {
    "tags": []
   },
   "outputs": [],
   "source": [
    "import _portfolio_names_dict\n",
    "import _yml_gtfs_digest_orgs\n",
    "import pandas as pd\n",
    "import yaml\n",
    "from segment_speed_utils import gtfs_schedule_wrangling, helpers\n",
    "from segment_speed_utils.project_vars import COMPILED_CACHED_VIEWS, PROJECT_CRS\n",
    "from shared_utils import catalog_utils, portfolio_utils, publish_utils, rt_dates\n",
    "from update_vars import GTFS_DATA_DICT, RT_SCHED_GCS, SCHED_GCS, SEGMENT_GCS"
   ]
  },
  {
   "cell_type": "code",
   "execution_count": 2,
   "id": "2c28b250-d62f-4dde-9395-86dbb6cb65a5",
   "metadata": {
    "tags": []
   },
   "outputs": [],
   "source": [
    "pd.options.display.max_columns = 100\n",
    "pd.options.display.float_format = \"{:.2f}\".format\n",
    "pd.set_option(\"display.max_rows\", None)\n",
    "pd.set_option(\"display.max_colwidth\", None)"
   ]
  },
  {
   "cell_type": "markdown",
   "id": "08342071-3a94-46a9-a8aa-79fb12230f31",
   "metadata": {},
   "source": [
    "## Use `operator_profile` to generate the TOC"
   ]
  },
  {
   "cell_type": "code",
   "execution_count": 3,
   "id": "8916c96f-de1e-414c-b6f1-472d0e20b6c7",
   "metadata": {
    "tags": []
   },
   "outputs": [],
   "source": [
    "OPERATOR_PROFILE = GTFS_DATA_DICT.digest_tables.operator_profiles\n",
    "operator_url = f\"{RT_SCHED_GCS}{OPERATOR_PROFILE}.parquet\""
   ]
  },
  {
   "cell_type": "code",
   "execution_count": 4,
   "id": "2db4921c-c38b-48b4-829e-b91dc383624c",
   "metadata": {
    "tags": []
   },
   "outputs": [],
   "source": [
    "operator_df = pd.read_parquet(operator_url)"
   ]
  },
  {
   "cell_type": "code",
   "execution_count": 18,
   "id": "91cd7105-a08d-4245-b09e-1590e6da7770",
   "metadata": {
    "tags": []
   },
   "outputs": [],
   "source": [
    "organization_name_only = operator_df[[\"organization_name\"]].drop_duplicates()"
   ]
  },
  {
   "cell_type": "code",
   "execution_count": 20,
   "id": "7ca19ed6-c2d5-4b09-b785-3365c7bad431",
   "metadata": {
    "tags": []
   },
   "outputs": [],
   "source": [
    "organization_name_only = organization_name_only.fillna(\"None\")"
   ]
  },
  {
   "cell_type": "code",
   "execution_count": 21,
   "id": "744ef427-7634-4938-b530-b7178fc9fab0",
   "metadata": {
    "tags": []
   },
   "outputs": [
    {
     "data": {
      "text/html": [
       "<div>\n",
       "<style scoped>\n",
       "    .dataframe tbody tr th:only-of-type {\n",
       "        vertical-align: middle;\n",
       "    }\n",
       "\n",
       "    .dataframe tbody tr th {\n",
       "        vertical-align: top;\n",
       "    }\n",
       "\n",
       "    .dataframe thead th {\n",
       "        text-align: right;\n",
       "    }\n",
       "</style>\n",
       "<table border=\"1\" class=\"dataframe\">\n",
       "  <thead>\n",
       "    <tr style=\"text-align: right;\">\n",
       "      <th></th>\n",
       "      <th>organization_name</th>\n",
       "    </tr>\n",
       "  </thead>\n",
       "  <tbody>\n",
       "  </tbody>\n",
       "</table>\n",
       "</div>"
      ],
      "text/plain": [
       "Empty DataFrame\n",
       "Columns: [organization_name]\n",
       "Index: []"
      ]
     },
     "execution_count": 21,
     "metadata": {},
     "output_type": "execute_result"
    }
   ],
   "source": [
    "organization_name_only.loc[organization_name_only.organization_name.str.contains(\"San Bernardino\")]"
   ]
  },
  {
   "cell_type": "code",
   "execution_count": 22,
   "id": "a3968516-5528-4237-bfd7-1c5a0df99ce7",
   "metadata": {
    "tags": []
   },
   "outputs": [
    {
     "data": {
      "text/html": [
       "<div>\n",
       "<style scoped>\n",
       "    .dataframe tbody tr th:only-of-type {\n",
       "        vertical-align: middle;\n",
       "    }\n",
       "\n",
       "    .dataframe tbody tr th {\n",
       "        vertical-align: top;\n",
       "    }\n",
       "\n",
       "    .dataframe thead th {\n",
       "        text-align: right;\n",
       "    }\n",
       "</style>\n",
       "<table border=\"1\" class=\"dataframe\">\n",
       "  <thead>\n",
       "    <tr style=\"text-align: right;\">\n",
       "      <th></th>\n",
       "      <th>organization_name</th>\n",
       "    </tr>\n",
       "  </thead>\n",
       "  <tbody>\n",
       "  </tbody>\n",
       "</table>\n",
       "</div>"
      ],
      "text/plain": [
       "Empty DataFrame\n",
       "Columns: [organization_name]\n",
       "Index: []"
      ]
     },
     "execution_count": 22,
     "metadata": {},
     "output_type": "execute_result"
    }
   ],
   "source": [
    "organization_name_only.loc[organization_name_only.organization_name.str.contains(\"Southern California Regional Rail Authority\")]"
   ]
  },
  {
   "cell_type": "code",
   "execution_count": 6,
   "id": "d716e465-b235-4f85-a7ca-c20919b6511b",
   "metadata": {
    "tags": []
   },
   "outputs": [],
   "source": [
    "test = _yml_gtfs_digest_orgs.load_df_for_yml(\n",
    "    operator_url,\n",
    "    [\n",
    "        \"schedule_gtfs_dataset_key\",\n",
    "        \"caltrans_district\",\n",
    "        \"organization_name\",\n",
    "        \"name\",\n",
    "        \"service_date\",\n",
    "    ],\n",
    ")"
   ]
  },
  {
   "cell_type": "code",
   "execution_count": 7,
   "id": "349d80ed-639a-40da-9b28-75d61082e1a0",
   "metadata": {
    "tags": []
   },
   "outputs": [
    {
     "name": "stdout",
     "output_type": "stream",
     "text": [
      "Saved to yml\n",
      "Saved to yml\n",
      "Saved to yml\n"
     ]
    }
   ],
   "source": [
    "test2 = _yml_gtfs_digest_orgs.generate_key_org_ymls(test)"
   ]
  },
  {
   "cell_type": "markdown",
   "id": "a1461167-91c7-444a-b95c-643b95fe2b10",
   "metadata": {},
   "source": [
    "## Attach back `vp_only` operators"
   ]
  },
  {
   "cell_type": "code",
   "execution_count": 23,
   "id": "de3c236d-1742-43e1-8681-5dbe8df06292",
   "metadata": {
    "tags": []
   },
   "outputs": [],
   "source": [
    "schd_vp_df = _yml_gtfs_digest_orgs.load_df_for_yml(\n",
    "    _yml_gtfs_digest_orgs.schd_vp_url,\n",
    "   _yml_gtfs_digest_orgs.operator_digest_cols\n",
    ")"
   ]
  },
  {
   "cell_type": "code",
   "execution_count": 25,
   "id": "d747fc72-1b9a-43f1-bb79-61f7ea60c6ba",
   "metadata": {
    "tags": []
   },
   "outputs": [
    {
     "data": {
      "text/plain": [
       "(237, 7)"
      ]
     },
     "execution_count": 25,
     "metadata": {},
     "output_type": "execute_result"
    }
   ],
   "source": [
    "schd_vp_df.shape"
   ]
  },
  {
   "cell_type": "code",
   "execution_count": 26,
   "id": "7452697a-aab6-4a51-b872-2125930c50b9",
   "metadata": {
    "tags": []
   },
   "outputs": [
    {
     "data": {
      "text/plain": [
       "schedule_only      124\n",
       "schedule_and_vp    111\n",
       "vp_only              2\n",
       "Name: sched_rt_category, dtype: int64"
      ]
     },
     "execution_count": 26,
     "metadata": {},
     "output_type": "execute_result"
    }
   ],
   "source": [
    "schd_vp_df.sched_rt_category.value_counts()"
   ]
  },
  {
   "cell_type": "code",
   "execution_count": 27,
   "id": "704739d1-3c75-4ea2-83a4-177e05fb8d57",
   "metadata": {
    "tags": []
   },
   "outputs": [
    {
     "data": {
      "text/html": [
       "<div>\n",
       "<style scoped>\n",
       "    .dataframe tbody tr th:only-of-type {\n",
       "        vertical-align: middle;\n",
       "    }\n",
       "\n",
       "    .dataframe tbody tr th {\n",
       "        vertical-align: top;\n",
       "    }\n",
       "\n",
       "    .dataframe thead th {\n",
       "        text-align: right;\n",
       "    }\n",
       "</style>\n",
       "<table border=\"1\" class=\"dataframe\">\n",
       "  <thead>\n",
       "    <tr style=\"text-align: right;\">\n",
       "      <th></th>\n",
       "      <th>schedule_gtfs_dataset_key</th>\n",
       "      <th>caltrans_district</th>\n",
       "      <th>organization_name</th>\n",
       "      <th>name</th>\n",
       "      <th>sched_rt_category</th>\n",
       "      <th>service_date</th>\n",
       "      <th>portfolio_name</th>\n",
       "    </tr>\n",
       "  </thead>\n",
       "  <tbody>\n",
       "    <tr>\n",
       "      <th>157</th>\n",
       "      <td>c4092405159366c705b62df938293a4e</td>\n",
       "      <td>07 - Los Angeles / Ventura</td>\n",
       "      <td>Southern California Regional Rail Authority</td>\n",
       "      <td>Metrolink Schedule</td>\n",
       "      <td>vp_only</td>\n",
       "      <td>2025-03-12</td>\n",
       "      <td>Southern California Regional Rail Authority</td>\n",
       "    </tr>\n",
       "    <tr>\n",
       "      <th>173</th>\n",
       "      <td>c4092405159366c705b62df938293a4e</td>\n",
       "      <td>08 - San Bernardino / Riverside</td>\n",
       "      <td>San Bernardino County Transportation Authority</td>\n",
       "      <td>Metrolink Schedule</td>\n",
       "      <td>vp_only</td>\n",
       "      <td>2025-03-12</td>\n",
       "      <td>San Bernardino County Transportation Authority</td>\n",
       "    </tr>\n",
       "  </tbody>\n",
       "</table>\n",
       "</div>"
      ],
      "text/plain": [
       "            schedule_gtfs_dataset_key                caltrans_district  \\\n",
       "157  c4092405159366c705b62df938293a4e       07 - Los Angeles / Ventura   \n",
       "173  c4092405159366c705b62df938293a4e  08 - San Bernardino / Riverside   \n",
       "\n",
       "                                  organization_name                name  \\\n",
       "157     Southern California Regional Rail Authority  Metrolink Schedule   \n",
       "173  San Bernardino County Transportation Authority  Metrolink Schedule   \n",
       "\n",
       "    sched_rt_category service_date  \\\n",
       "157           vp_only   2025-03-12   \n",
       "173           vp_only   2025-03-12   \n",
       "\n",
       "                                     portfolio_name  \n",
       "157     Southern California Regional Rail Authority  \n",
       "173  San Bernardino County Transportation Authority  "
      ]
     },
     "execution_count": 27,
     "metadata": {},
     "output_type": "execute_result"
    }
   ],
   "source": [
    "schd_vp_df.loc[schd_vp_df.sched_rt_category == \"vp_only\"]"
   ]
  },
  {
   "cell_type": "markdown",
   "id": "5bc388fc-a566-40fe-a6a3-62c122f522f1",
   "metadata": {},
   "source": [
    "## Redo the YML Source of Truth\n",
    "### <i>using publish_utils.filter_to_recent_date</i>"
   ]
  },
  {
   "cell_type": "code",
   "execution_count": null,
   "id": "2edf9acc-884a-429a-b813-63f1bcfa0461",
   "metadata": {
    "tags": []
   },
   "outputs": [],
   "source": [
    "schd_vp_url = f\"{GTFS_DATA_DICT.digest_tables.dir}{GTFS_DATA_DICT.digest_tables.route_schedule_vp}.parquet\""
   ]
  },
  {
   "cell_type": "code",
   "execution_count": null,
   "id": "fcbbb824-d8f8-4665-936d-95b95a9cb92f",
   "metadata": {
    "tags": []
   },
   "outputs": [],
   "source": [
    "# Keep only organizations with RT and schedule OR only schedule.\n",
    "schd_vp_df = pd.read_parquet(\n",
    "    schd_vp_url,\n",
    "    columns=[\n",
    "        \"schedule_gtfs_dataset_key\",\n",
    "        \"caltrans_district\",\n",
    "        \"organization_name\",\n",
    "        \"name\",\n",
    "        \"sched_rt_category\",\n",
    "        \"service_date\",\n",
    "    ],\n",
    ")"
   ]
  },
  {
   "cell_type": "code",
   "execution_count": null,
   "id": "173c7501-c525-4e34-b57f-1b4f8fc7d06a",
   "metadata": {
    "tags": []
   },
   "outputs": [],
   "source": [
    "schd_vp_df.sched_rt_category.value_counts()"
   ]
  },
  {
   "cell_type": "code",
   "execution_count": null,
   "id": "8833b5bc-d397-4f81-adf6-0edb5fb67b3d",
   "metadata": {
    "tags": []
   },
   "outputs": [],
   "source": [
    "schd_vp_df.organization_name = schd_vp_df.organization_name.fillna(\"None\")"
   ]
  },
  {
   "cell_type": "code",
   "execution_count": null,
   "id": "673f1edf-d7b2-472c-9333-a8b128aedb2d",
   "metadata": {
    "tags": []
   },
   "outputs": [],
   "source": [
    "# schd_vp_df.loc[schd_vp_df.organization_name.str.contains(\"Metro\")]"
   ]
  },
  {
   "cell_type": "code",
   "execution_count": null,
   "id": "be7a07c9-2873-4e97-940f-26e26e7cf79d",
   "metadata": {
    "tags": []
   },
   "outputs": [],
   "source": [
    "# Drop duplicates & drop any rows without CT district values\n",
    "schd_vp_df = schd_vp_df.drop_duplicates(\n",
    "    subset=[\n",
    "        \"schedule_gtfs_dataset_key\",\n",
    "        \"caltrans_district\",\n",
    "        \"organization_name\",\n",
    "        \"name\",\n",
    "        \"sched_rt_category\",\n",
    "    ]\n",
    ").reset_index(drop=True)\n",
    "\n",
    "# Get the most recent date using publish_utils\n",
    "recent_date = publish_utils.filter_to_recent_date(schd_vp_df)"
   ]
  },
  {
   "cell_type": "code",
   "execution_count": null,
   "id": "8641e4d8-a596-49bd-a60c-86079175b053",
   "metadata": {
    "tags": []
   },
   "outputs": [],
   "source": [
    "# Merge to get the most recent row for each organization\n",
    "schd_vp_df.service_date = schd_vp_df.service_date.astype(str)\n",
    "m1 = pd.merge(schd_vp_df, recent_date)\n",
    "m1[\"portfolio_name\"] = m1.organization_name.map(\n",
    "    _portfolio_names_dict.combined_names_dict\n",
    ")"
   ]
  },
  {
   "cell_type": "code",
   "execution_count": null,
   "id": "6ea5d1b7-ecc0-4ea0-ad5c-160a90afef0d",
   "metadata": {
    "tags": []
   },
   "outputs": [],
   "source": [
    "m1.sched_rt_category.value_counts()"
   ]
  },
  {
   "cell_type": "code",
   "execution_count": null,
   "id": "d7e74003-a936-41e0-ab94-99ea2ed2ff1a",
   "metadata": {
    "tags": []
   },
   "outputs": [],
   "source": [
    "# Fill NA in new column with organization_name\n",
    "m1.portfolio_name = m1.portfolio_name.fillna(m1.organization_name)"
   ]
  },
  {
   "cell_type": "code",
   "execution_count": null,
   "id": "1387a291-6eea-4e68-b90a-f352a8fe568d",
   "metadata": {
    "tags": []
   },
   "outputs": [],
   "source": [
    "m1.head(1)"
   ]
  },
  {
   "cell_type": "code",
   "execution_count": null,
   "id": "57759c6a-5e89-42b3-a343-fde21426b209",
   "metadata": {
    "tags": []
   },
   "outputs": [],
   "source": [
    "m1.sched_rt_category.value_counts()"
   ]
  },
  {
   "cell_type": "markdown",
   "id": "26a724d8-5ebd-4de0-bf75-7710f73c0873",
   "metadata": {},
   "source": [
    "### <i>can you define def load_schd_vp(url)this way</i>"
   ]
  },
  {
   "cell_type": "code",
   "execution_count": null,
   "id": "df72eff1-f4ac-47a0-83ed-c792a304fc3d",
   "metadata": {
    "tags": []
   },
   "outputs": [],
   "source": [
    "operator_digest_cols = [\n",
    "    \"schedule_gtfs_dataset_key\",\n",
    "    \"caltrans_district\",\n",
    "    \"organization_name\",\n",
    "    \"name\",\n",
    "    \"sched_rt_category\",\n",
    "    \"service_date\",\n",
    "]"
   ]
  },
  {
   "cell_type": "code",
   "execution_count": null,
   "id": "131c6b15-0168-4fb7-b628-acba8870cbba",
   "metadata": {
    "tags": []
   },
   "outputs": [],
   "source": [
    "def load_df_for_yml(url: str, columns_to_keep=list) -> pd.DataFrame:\n",
    "    # Keep only organizations with RT and schedule OR only schedule.\n",
    "    df = pd.read_parquet(\n",
    "        url,\n",
    "        columns=columns_to_keep,\n",
    "    )\n",
    "\n",
    "    df = (\n",
    "        df.drop_duplicates(subset=columns_to_keep)\n",
    "        .reset_index(drop=True)\n",
    "        .dropna(subset=[\"caltrans_district\"])\n",
    "    )\n",
    "\n",
    "    # Get the most recent date using publish_utils\n",
    "    recent_date = publish_utils.filter_to_recent_date(df)\n",
    "\n",
    "    # Merge to get the most recent row for each organization\n",
    "    df.service_date = df.service_date.astype(str)\n",
    "    m1 = pd.merge(df, recent_date)\n",
    "\n",
    "    # Map portfolio names\n",
    "    m1[\"portfolio_name\"] = m1.organization_name.map(\n",
    "        _portfolio_names_dict.combined_names_dict\n",
    "    )\n",
    "\n",
    "    m1.portfolio_name = m1.portfolio_name.fillna(m1.organization_name)\n",
    "\n",
    "    m1 = (\n",
    "        m1.sort_values(\n",
    "            by=[\n",
    "                \"service_date\",\n",
    "                \"caltrans_district\",\n",
    "                \"organization_name\",\n",
    "                \"portfolio_name\",\n",
    "            ],\n",
    "            ascending=[False, True, True, True],\n",
    "        )\n",
    "        .drop_duplicates(\n",
    "            subset=[\"caltrans_district\", \"organization_name\", \"name\", \"portfolio_name\"]\n",
    "        )\n",
    "        .reset_index(drop=True)\n",
    "    )\n",
    "    return m1"
   ]
  },
  {
   "cell_type": "code",
   "execution_count": null,
   "id": "e4740e32-8242-43bd-a32d-694878fa7fd3",
   "metadata": {
    "tags": []
   },
   "outputs": [],
   "source": [
    "operator_grain = load_df_for_yml(schd_vp_url, operator_digest_cols)"
   ]
  },
  {
   "cell_type": "code",
   "execution_count": null,
   "id": "8bb99d89-b95d-4330-a078-632a8b467393",
   "metadata": {
    "tags": []
   },
   "outputs": [],
   "source": [
    "OPERATOR_FILE = GTFS_DATA_DICT.digest_tables.operator_profiles\n",
    "\n",
    "operator_df = pd.read_parquet(f\"{RT_SCHED_GCS}{OPERATOR_FILE}.parquet\")"
   ]
  },
  {
   "cell_type": "code",
   "execution_count": null,
   "id": "19a3f894-52d9-4a57-b5d1-849c38d573b0",
   "metadata": {
    "tags": []
   },
   "outputs": [],
   "source": [
    "district_digest_cols = [\n",
    "    \"caltrans_district\",\n",
    "    \"schedule_gtfs_dataset_key\",\n",
    "    \"service_date\",\n",
    "    \"name\",\n",
    "    \"organization_name\",\n",
    "]"
   ]
  },
  {
   "cell_type": "code",
   "execution_count": null,
   "id": "c7556814-e919-4b61-b523-86ed2aba7eb5",
   "metadata": {
    "tags": []
   },
   "outputs": [],
   "source": [
    "district_grain = load_df_for_yml(schd_vp_url, district_digest_cols)"
   ]
  },
  {
   "cell_type": "markdown",
   "id": "5cae637c-8ea5-470b-b20f-5a1de4a1cb88",
   "metadata": {
    "tags": []
   },
   "source": [
    "### <i>an you mark out the actual desired name to use within gtfs_digest_one_key_many_orgs.yml? Right now, yes, it's picking the first one, but can you do a pass through to see if that's actually the preferred one for the portfolio? First glance, Foothill/Duarte, City of Duarte is being selected. Ask Evan if you need to, with the yaml that you prepared, and see if he can pick out the name we're going with publicly.</i>"
   ]
  },
  {
   "cell_type": "code",
   "execution_count": null,
   "id": "826807fb-7b9d-400e-82b6-9f6882413391",
   "metadata": {
    "tags": []
   },
   "outputs": [],
   "source": [
    "operator_grain.organization_name.nunique()"
   ]
  },
  {
   "cell_type": "code",
   "execution_count": null,
   "id": "e95487e5-8b50-4938-8ddd-723d5f5ea8bd",
   "metadata": {
    "tags": []
   },
   "outputs": [],
   "source": [
    "len(operator_grain)"
   ]
  },
  {
   "cell_type": "code",
   "execution_count": null,
   "id": "28711ed5-4f29-4b60-85a4-dfb8437e7a4d",
   "metadata": {
    "tags": []
   },
   "outputs": [],
   "source": [
    "operator_grain.organization_name.value_counts().head(10)"
   ]
  },
  {
   "cell_type": "code",
   "execution_count": null,
   "id": "56a8579f-073f-4471-8790-ddd0887fa25e",
   "metadata": {
    "tags": []
   },
   "outputs": [],
   "source": [
    "operator_grain.loc[operator_grain.organization_name == \"Basin Transit\"]"
   ]
  },
  {
   "cell_type": "code",
   "execution_count": null,
   "id": "bf6d5a24-f6f7-46ab-8e48-700184f87586",
   "metadata": {
    "tags": []
   },
   "outputs": [],
   "source": [
    "import _yml_gtfs_digest_orgs"
   ]
  },
  {
   "cell_type": "code",
   "execution_count": null,
   "id": "52b31304-0172-44b8-a84d-268e40bfa3e9",
   "metadata": {
    "tags": []
   },
   "outputs": [],
   "source": [
    "# One `organization_name` to many `schedule_gtfs_dataset_key`\n",
    "one_org_m_keys_list = _yml_gtfs_digest_orgs.count_orgs(\n",
    "    operator_grain, \"organization_name\", \"schedule_gtfs_dataset_key\"\n",
    ")"
   ]
  },
  {
   "cell_type": "code",
   "execution_count": null,
   "id": "c70e492d-4097-4079-bc45-6e700045f7cd",
   "metadata": {
    "tags": []
   },
   "outputs": [],
   "source": [
    "one_org_m_keys_df = operator_grain.loc[\n",
    "    operator_grain.organization_name.isin(one_org_m_keys_list)\n",
    "]"
   ]
  },
  {
   "cell_type": "code",
   "execution_count": null,
   "id": "062788e4-e78e-46d8-9dfb-7725267cd4e4",
   "metadata": {
    "tags": []
   },
   "outputs": [],
   "source": [
    "one_org_m_keys_df.head(1)"
   ]
  },
  {
   "cell_type": "code",
   "execution_count": null,
   "id": "1c2047f6-2abd-4b3f-aa1a-20987093faa6",
   "metadata": {
    "tags": []
   },
   "outputs": [],
   "source": [
    "# One `schedule_gtfs_dataset_key` to many `organization_name`\n",
    "one_key_many_orgs_list = _yml_gtfs_digest_orgs.count_orgs(\n",
    "    operator_grain,\n",
    "    \"schedule_gtfs_dataset_key\",\n",
    "    \"organization_name\",\n",
    ")"
   ]
  },
  {
   "cell_type": "code",
   "execution_count": null,
   "id": "31ae82a6-a826-4de0-af21-7c72fa4c3099",
   "metadata": {
    "tags": []
   },
   "outputs": [],
   "source": [
    "# Filter\n",
    "one_key_many_orgs_df = operator_grain.loc[\n",
    "    operator_grain.schedule_gtfs_dataset_key.isin(one_key_many_orgs_list)\n",
    "]"
   ]
  },
  {
   "cell_type": "code",
   "execution_count": null,
   "id": "b0dcc11e-d78a-455c-b312-8cc24125f4ae",
   "metadata": {
    "tags": []
   },
   "outputs": [],
   "source": [
    "m1 = pd.merge(\n",
    "    one_org_m_keys_df,\n",
    "    one_key_many_orgs_df,\n",
    "    on=[\"schedule_gtfs_dataset_key\", \"organization_name\", \"name\"],\n",
    "    how=\"outer\",\n",
    "    indicator=True,\n",
    ")\n",
    "\n",
    "indicator_values = {\n",
    "    \"left_only\": \"1 organization_name:m schedule_gtfs_dataset_key\",\n",
    "    \"right_only\": \"1 schedule_gtfs_dataset_key: m organization_name\",\n",
    "    \"both\": \"m organization_name: m schedule_gtfs_datset_key\",\n",
    "}\n",
    "m1._merge = m1._merge.map(indicator_values)"
   ]
  },
  {
   "cell_type": "code",
   "execution_count": null,
   "id": "5df609d7-dacb-4309-b0fb-3b34d917605a",
   "metadata": {
    "tags": []
   },
   "outputs": [],
   "source": [
    "_yml_gtfs_digest_orgs.df_to_yaml(\n",
    "    df=one_org_m_keys_df,\n",
    "    nest1_column=\"portfolio_name\",\n",
    "    nest2_column=\"name\",\n",
    "    SITE_YML=\"../_shared_utils/shared_utils/gtfs_digest_one_org_many_keys.yml\",\n",
    "    title=\"1 organization_name: m schedule_gtfs_dataset-key, all values below are encompassed under one portfolio_name\",\n",
    ")"
   ]
  },
  {
   "cell_type": "code",
   "execution_count": null,
   "id": "2b947774-735d-418b-98f1-a8b1a2b135e2",
   "metadata": {
    "tags": []
   },
   "outputs": [],
   "source": [
    "# one_org_m_keys_df"
   ]
  },
  {
   "cell_type": "code",
   "execution_count": null,
   "id": "554ec54d-b5ae-4479-80d9-b9b744a54ecb",
   "metadata": {
    "tags": []
   },
   "outputs": [],
   "source": [
    "# One `schedule_gtfs_dataset_key` to many `organization_name`\n",
    "one_org_m_keys_df = m1.loc[\n",
    "    m1._merge == \"1 organization_name:m schedule_gtfs_dataset_key\"\n",
    "]"
   ]
  },
  {
   "cell_type": "code",
   "execution_count": null,
   "id": "0ede2bc7-0653-4386-9379-ffeac4de9fdc",
   "metadata": {
    "tags": []
   },
   "outputs": [],
   "source": [
    "_yml_gtfs_digest_orgs.df_to_yaml(\n",
    "    df=one_key_many_orgs_df,\n",
    "    nest1_column=\"portfolio_name\",\n",
    "    nest2_column=\"organization_name\",\n",
    "    SITE_YML=\"../_shared_utils/shared_utils/gtfs_digest_one_key_many_orgs.yml\",\n",
    "    title=\"1 schedule_gtfs_dataset_key:m organization_name: m organization_names are captured under portfolio_name\",\n",
    ")"
   ]
  },
  {
   "cell_type": "code",
   "execution_count": null,
   "id": "80bf5b82-b342-4e1c-9218-a3185eeeb45b",
   "metadata": {
    "tags": []
   },
   "outputs": [],
   "source": [
    "# one_key_many_orgs_df"
   ]
  },
  {
   "cell_type": "code",
   "execution_count": null,
   "id": "58fa4c04-a438-464b-9986-0c6d161cb17f",
   "metadata": {
    "tags": []
   },
   "outputs": [],
   "source": [
    "_yml_gtfs_digest_orgs.generate_org_gtfs_status_yml(operator_grain)"
   ]
  },
  {
   "cell_type": "markdown",
   "id": "3026617f-3ec9-4675-80ac-1128af8fd45c",
   "metadata": {},
   "source": [
    "## Test the function"
   ]
  },
  {
   "cell_type": "code",
   "execution_count": null,
   "id": "9eec62b6-35f6-40d0-97ec-84b764a56608",
   "metadata": {
    "tags": []
   },
   "outputs": [],
   "source": [
    "df = _yml_gtfs_digest_orgs.load_df_for_yml(\n",
    "    _yml_gtfs_digest_orgs.schd_vp_url, _yml_gtfs_digest_orgs.operator_digest_cols\n",
    ")"
   ]
  },
  {
   "cell_type": "code",
   "execution_count": null,
   "id": "e2b06b69-ba01-44c8-a410-947167f837d9",
   "metadata": {
    "tags": []
   },
   "outputs": [],
   "source": [
    "one_org_m_keys_list = _yml_gtfs_digest_orgs.count_orgs(\n",
    "    df, \"organization_name\", \"schedule_gtfs_dataset_key\"\n",
    ")"
   ]
  },
  {
   "cell_type": "code",
   "execution_count": null,
   "id": "31d6362f-8b39-4353-a950-b54329670a66",
   "metadata": {
    "tags": []
   },
   "outputs": [],
   "source": [
    "one_org_m_keys_df = df.loc[df.organization_name.isin(one_org_m_keys_list)].drop(\n",
    "    columns=[\"sched_rt_category\"]\n",
    ")"
   ]
  },
  {
   "cell_type": "code",
   "execution_count": null,
   "id": "689b407f-e2db-49d0-aaca-decbf917bfa3",
   "metadata": {
    "tags": []
   },
   "outputs": [],
   "source": [
    "one_key_many_orgs_list = _yml_gtfs_digest_orgs.count_orgs(\n",
    "    df,\n",
    "    \"schedule_gtfs_dataset_key\",\n",
    "    \"organization_name\",\n",
    ")"
   ]
  },
  {
   "cell_type": "code",
   "execution_count": null,
   "id": "edc73c8e-4d0c-4051-ae4b-19b0e3151537",
   "metadata": {
    "tags": []
   },
   "outputs": [],
   "source": [
    "one_key_many_orgs_df = df.loc[df.schedule_gtfs_dataset_key.isin(one_key_many_orgs_list)]"
   ]
  },
  {
   "cell_type": "code",
   "execution_count": null,
   "id": "ee3d636d-1a79-4481-94d8-a206ce114d2d",
   "metadata": {
    "tags": []
   },
   "outputs": [],
   "source": [
    "m1 = pd.merge(\n",
    "    one_org_m_keys_df,\n",
    "    one_key_many_orgs_df,\n",
    "    on=[\"schedule_gtfs_dataset_key\", \"organization_name\", \"name\"],\n",
    "    how=\"outer\",\n",
    "    indicator=True,\n",
    ")"
   ]
  },
  {
   "cell_type": "code",
   "execution_count": null,
   "id": "d08f44fc-67e5-43cd-b8ef-4ddcfa82b6a4",
   "metadata": {
    "tags": []
   },
   "outputs": [],
   "source": [
    "m1.sample()"
   ]
  },
  {
   "cell_type": "code",
   "execution_count": null,
   "id": "b5c72b47-1eef-46a7-bce0-c8da639e2553",
   "metadata": {},
   "outputs": [],
   "source": [
    "stop"
   ]
  },
  {
   "cell_type": "markdown",
   "id": "73c76162-23ba-48e2-b646-04a99069630f",
   "metadata": {},
   "source": [
    "## Incorporate Combined Names -> Redo `deploy_portfolio_yaml`\n",
    "\n",
    "Amtrak Schedule:\n",
    "- Amtrak\n",
    "- San Joaquin Joint Powers Authority\n",
    "Commute.org and Menlo Park Community Shuttles Schedule:\n",
    "- Commute.org\n",
    "- City of Menlo Park\n",
    "San Francisco Bay Ferry and Oakland Alameda Water Shuttle Schedule:\n",
    "- San Francisco Bay Area Water Emergency Transit Authority\n",
    "- City of Alameda\n",
    "SolTrans Schedule:\n",
    "- Solano County Transit\n",
    "- Solano Transportation Authority\n",
    "Sonoma County Transit Schedule:\n",
    "- Sonoma County\n",
    "- Cloverdale Transit\n",
    "Flixbus and Greyhound Schedule:\n",
    "- FlixBus\n",
    "- Greyhound\n",
    "Foothill Schedule:\n",
    "- Foothill Transit\n",
    "- City of Duarte\n",
    "Humboldt Schedule:\n",
    "- Humboldt Transit Authority\n",
    "- City of Arcata\n",
    "- City of Eureka\n",
    "Redding Schedule:\n",
    "- Redding Area Bus Authority\n",
    "- Shasta County\n",
    "Sacramento Schedule:\n",
    "- Sacramento Regional Transit District\n",
    "- City of Rancho Cordova\n",
    "San Diego Schedule:\n",
    "- San Diego Metropolitan Transit System\n",
    "- Flagship Cruises and Events Inc.\n",
    "- San Diego International Airport\n",
    "TART, North Lake Tahoe Schedule:\n",
    "- Tahoe Truckee Area Regional Transportation\n",
    "- North Lake Tahoe Express\n",
    "Tehama Schedule:\n",
    "- Tehama County\n",
    "- Susanville Indian Rancheria\n",
    "UCSC and City of Santa Cruz Beach Shuttle Schedule:\n",
    "- University of California, Santa Cruz\n",
    "- City of Santa Cruz\n",
    "Ventura County (VCTC, Gold Coast, Cities of Camarillo, Moorpark, Ojai, Simi Valley, Thousand Oaks) Schedule:\n",
    "- Ventura County Transportation Commission\n",
    "- City of Camarillo\n",
    "- City of Moorpark\n",
    "- City of Ojai\n",
    "- City of Simi Valley\n",
    "- City of Thousand Oaks\n",
    "- Gold Coast Transit District"
   ]
  },
  {
   "cell_type": "code",
   "execution_count": null,
   "id": "122d1333-dbba-458f-9d79-d78acf5d5291",
   "metadata": {
    "tags": []
   },
   "outputs": [],
   "source": [
    "schd_vp_url = f\"{GTFS_DATA_DICT.digest_tables.dir}{GTFS_DATA_DICT.digest_tables.route_schedule_vp}.parquet\""
   ]
  },
  {
   "cell_type": "code",
   "execution_count": null,
   "id": "fbc76c3a-de5a-4870-9705-af7863fdab52",
   "metadata": {
    "tags": []
   },
   "outputs": [],
   "source": [
    "schd_vp_url = f\"{GTFS_DATA_DICT.digest_tables.dir}{GTFS_DATA_DICT.digest_tables.route_schedule_vp}.parquet\"\n",
    "\n",
    "schd_vp_df = pd.read_parquet(\n",
    "    schd_vp_url,\n",
    "    filters=[[(\"sched_rt_category\", \"in\", [\"schedule_and_vp\", \"schedule_only\"])]],\n",
    "    columns=[\n",
    "        \"schedule_gtfs_dataset_key\",\n",
    "        \"caltrans_district\",\n",
    "        \"organization_name\",\n",
    "        \"name\",\n",
    "        \"sched_rt_category\",\n",
    "        \"service_date\",\n",
    "    ],\n",
    ")\n",
    "\n",
    "# schd_vp_df = schd_vp_df.assign(\n",
    "#    caltrans_district=schd_vp_df.caltrans_district.map(\n",
    "#        portfolio_utils.CALTRANS_DISTRICT_DICT\n",
    "#   )\n",
    "#"
   ]
  },
  {
   "cell_type": "code",
   "execution_count": null,
   "id": "d7c47ff0-2585-4926-8747-db7d5bde8672",
   "metadata": {},
   "outputs": [],
   "source": [
    "schd_vp_df = schd_vp_df.drop_duplicates(\n",
    "    subset=[\n",
    "        \"schedule_gtfs_dataset_key\",\n",
    "        \"caltrans_district\",\n",
    "        \"organization_name\",\n",
    "        \"name\",\n",
    "        \"sched_rt_category\",\n",
    "    ]\n",
    ")"
   ]
  },
  {
   "cell_type": "code",
   "execution_count": null,
   "id": "b936d811-7362-435e-b494-0e410076df31",
   "metadata": {},
   "outputs": [],
   "source": [
    "schd_vp_df = schd_vp_df.dropna(subset=\"caltrans_district\")"
   ]
  },
  {
   "cell_type": "code",
   "execution_count": null,
   "id": "d7b752fa-f186-4df9-b3c4-8f279beaf657",
   "metadata": {
    "tags": []
   },
   "outputs": [],
   "source": [
    "len(schd_vp_df)"
   ]
  },
  {
   "cell_type": "code",
   "execution_count": null,
   "id": "f7471e89-02b6-4659-af0e-49086bb2b464",
   "metadata": {
    "tags": []
   },
   "outputs": [],
   "source": [
    "# Get the most recent date using publish_utils\n",
    "recent_date = publish_utils.filter_to_recent_date(schd_vp_df)"
   ]
  },
  {
   "cell_type": "code",
   "execution_count": null,
   "id": "2d04aeca-6d2e-4b4a-9038-90c6d26984da",
   "metadata": {
    "tags": []
   },
   "outputs": [],
   "source": [
    "len(recent_date)"
   ]
  },
  {
   "cell_type": "code",
   "execution_count": null,
   "id": "db0ca0f5-3a8c-4f05-8b09-1de64c3e530d",
   "metadata": {
    "tags": []
   },
   "outputs": [],
   "source": []
  },
  {
   "cell_type": "code",
   "execution_count": null,
   "id": "852ec138-dc55-4520-8e06-fdeb5bae5c90",
   "metadata": {
    "tags": []
   },
   "outputs": [],
   "source": [
    "# Merge to get the most recent row\n",
    "m1 = pd.merge(schd_vp_df, recent_date)"
   ]
  },
  {
   "cell_type": "code",
   "execution_count": null,
   "id": "a9c928dd-4f06-4418-825b-90818430e5cb",
   "metadata": {
    "scrolled": true,
    "tags": []
   },
   "outputs": [],
   "source": [
    "len(m1)"
   ]
  },
  {
   "cell_type": "code",
   "execution_count": null,
   "id": "2d8176dd-10e6-4aae-bf79-036ff3375ea1",
   "metadata": {
    "tags": []
   },
   "outputs": [],
   "source": [
    "# Remap names\n",
    "combined_names_dict = {\n",
    "    \"Amtrak\": \"Amtrak Schedule\",\n",
    "    \"San Joaquin Joint Powers Authority\": \"Amtrak Schedule\",\n",
    "    \"Commute.org\": \"Commute.org and Menlo Park Community Shuttles Schedule\",\n",
    "    \"City of Menlo Park\": \"Commute.org and Menlo Park Community Shuttles Schedule\",\n",
    "    \"San Francisco Bay Area Water Emergency Transit Authority\": \"San Francisco Bay Ferry and Oakland Alameda Water Shuttle Schedule\",\n",
    "    \"City of Alameda\": \"San Francisco Bay Ferry and Oakland Alameda Water Shuttle Schedule\",\n",
    "    \"Solano County Transit\": \"SolTrans Schedule\",\n",
    "    \"Solano Transportation Authority\": \"SolTrans Schedule\",\n",
    "    \"Sonoma County\": \"Sonoma County Transit Schedule\",\n",
    "    \"Cloverdale Transit\": \"Sonoma County Transit Schedule\",\n",
    "    \"Flixbus\": \"Flixbus and Greyhound Schedule\",\n",
    "    \"Greyhound\": \"Flixbus and Greyhound Schedule\",\n",
    "    \"Foothill Transit\": \"Foothill Schedule\",\n",
    "    \"City of Duarte\": \"Foothill Schedule\",\n",
    "    \"Humboldt Transit Authority\": \"Humboldt Schedule\",\n",
    "    \"City of Arcata\": \"Humboldt Schedule\",\n",
    "    \"City of Eureka\": \"Humboldt Schedule\",\n",
    "    \"Redding Area Bus Authority\": \"Redding Schedule\",\n",
    "    \"Shasta County\": \"Redding Schedule\",\n",
    "    \"Sacramento Regional Transit District\": \"Sacramento Schedule\",\n",
    "    \"City of Rancho Cordova\": \"Sacramento Schedule\",\n",
    "    \"San Diego Metropolitan Transit System\": \"San Diego Schedule\",\n",
    "    \"Flagship Cruises and Events Inc.\": \"San Diego Schedule\",\n",
    "    \"San Diego International Airport\": \"San Diego Schedule\",\n",
    "    \"Tahoe Truckee Area Regional Transportation\": \"TART, North Lake Tahoe Schedule\",\n",
    "    \"North Lake Tahoe Express\": \"TART, North Lake Tahoe Schedule\",\n",
    "    \"Tehama County\": \"Tehama Schedule\",\n",
    "    \"Susanville Indian Rancheria\": \"Tehama Schedule\",\n",
    "    \"University of California, Santa Cruz\": \"UCSC and City of Santa Cruz Beach Shuttle Schedule\",\n",
    "    \"City of Santa Cruz\": \"UCSC and City of Santa Cruz Beach Shuttle Schedule\",\n",
    "    \"Ventura County Transportation Commission\": \"Ventura County (VCTC, Gold Coast, Cities of Camarillo, Moorpark, Ojai, Simi Valley, Thousand Oaks) Schedule\",\n",
    "    \"City of Camarillo\": \"Ventura County (VCTC, Gold Coast, Cities of Camarillo, Moorpark, Ojai, Simi Valley, Thousand Oaks) Schedule\",\n",
    "    \"City of Moorpark\": \"Ventura County (VCTC, Gold Coast, Cities of Camarillo, Moorpark, Ojai, Simi Valley, Thousand Oaks) Schedule\",\n",
    "    \"City of Ojai\": \"Ventura County (VCTC, Gold Coast, Cities of Camarillo, Moorpark, Ojai, Simi Valley, Thousand Oaks) Schedule\",\n",
    "    \"City of Simi Valley\": \"Ventura County (VCTC, Gold Coast, Cities of Camarillo, Moorpark, Ojai, Simi Valley, Thousand Oaks) Schedule\",\n",
    "    \"City of Thousand Oaks\": \"Ventura County (VCTC, Gold Coast, Cities of Camarillo, Moorpark, Ojai, Simi Valley, Thousand Oaks) Schedule\",\n",
    "    \"Gold Coast Transit District\": \"Ventura County (VCTC, Gold Coast, Cities of Camarillo, Moorpark, Ojai, Simi Valley, Thousand Oaks) Schedule\",\n",
    "}"
   ]
  },
  {
   "cell_type": "code",
   "execution_count": null,
   "id": "75a3cb01-44b2-46f2-932d-b2515f611c46",
   "metadata": {
    "tags": []
   },
   "outputs": [],
   "source": [
    "# Map the names above for the portfolio name\n",
    "m1[\"portfolio_name\"] = m1.organization_name.map(combined_names_dict)"
   ]
  },
  {
   "cell_type": "code",
   "execution_count": null,
   "id": "4823e9b9-ee9e-4f3f-81c9-dae4787efbbd",
   "metadata": {
    "tags": []
   },
   "outputs": [],
   "source": [
    "m1.caltrans_district.unique()"
   ]
  },
  {
   "cell_type": "code",
   "execution_count": null,
   "id": "852a2a8a-bc22-445c-9d4c-a4ba9bd80e74",
   "metadata": {
    "tags": []
   },
   "outputs": [],
   "source": [
    "m1.loc[m1.organization_name == \"City of Thousand Oaks\"]"
   ]
  },
  {
   "cell_type": "code",
   "execution_count": null,
   "id": "218c84b6-7764-4d73-a911-a919f252f9b5",
   "metadata": {
    "tags": []
   },
   "outputs": [],
   "source": [
    "# Fill in\n",
    "m1.portfolio_name = m1.portfolio_name.fillna(m1.organization_name)"
   ]
  },
  {
   "cell_type": "code",
   "execution_count": null,
   "id": "2fc55c7a-f1bc-4bbd-ae01-52d6f6ba5efa",
   "metadata": {
    "tags": []
   },
   "outputs": [],
   "source": [
    "# Drop dpulicates again\n",
    "m2 = m1.drop_duplicates(\n",
    "    subset=[\n",
    "        \"portfolio_name\",\n",
    "        \"caltrans_district\",\n",
    "    ]\n",
    ")"
   ]
  },
  {
   "cell_type": "code",
   "execution_count": null,
   "id": "f2c5bd49-ef92-43e2-920a-9cfdd2ac68b3",
   "metadata": {
    "tags": []
   },
   "outputs": [],
   "source": [
    "m2.loc[m2.organization_name == \"City of Thousand Oaks\"]"
   ]
  },
  {
   "cell_type": "code",
   "execution_count": null,
   "id": "c7534b98-d106-468e-9cf3-b980ec0b0c25",
   "metadata": {
    "tags": []
   },
   "outputs": [],
   "source": [
    "len(m2)"
   ]
  },
  {
   "cell_type": "code",
   "execution_count": null,
   "id": "ce313df4-49ad-4d20-bbe9-52bf9b40283f",
   "metadata": {
    "tags": []
   },
   "outputs": [],
   "source": [
    "final = m2[[\"caltrans_district\", \"portfolio_name\"]]"
   ]
  },
  {
   "cell_type": "code",
   "execution_count": null,
   "id": "499a0a9d-b010-40d1-a402-ed55ded8eea4",
   "metadata": {
    "scrolled": true,
    "tags": []
   },
   "outputs": [],
   "source": [
    "final.sort_values(by=[\"portfolio_name\"])"
   ]
  },
  {
   "cell_type": "markdown",
   "id": "a1eeb0a3-f074-4e4b-bd26-edb2692f789c",
   "metadata": {
    "tags": []
   },
   "source": [
    "### Check out rows w/ no `organization_name` but a populated `name`\n",
    "* There are other rows with `organization_name` filled for either same/very similar `name` values."
   ]
  },
  {
   "cell_type": "code",
   "execution_count": null,
   "id": "e40654ec-1edc-4d1d-9228-d09ddfbdaa02",
   "metadata": {
    "tags": []
   },
   "outputs": [],
   "source": [
    "no_org_name = schd_vp_df.loc[schd_vp_df.organization_name == \"None\"]"
   ]
  },
  {
   "cell_type": "code",
   "execution_count": null,
   "id": "624002bb-ac0a-47c1-933f-d23269bc0a28",
   "metadata": {
    "tags": []
   },
   "outputs": [],
   "source": [
    "no_org_name_gtfs = list(no_org_name.schedule_gtfs_dataset_key.unique())"
   ]
  },
  {
   "cell_type": "code",
   "execution_count": null,
   "id": "cd7470b1-f3fe-4bfb-be90-fff24b4029a4",
   "metadata": {
    "tags": []
   },
   "outputs": [],
   "source": [
    "schd_vp_df.loc[schd_vp_df.schedule_gtfs_dataset_key.isin(no_org_name_gtfs)]"
   ]
  },
  {
   "cell_type": "code",
   "execution_count": null,
   "id": "c3a64782-55f4-4432-a72a-fd322ac6b1bd",
   "metadata": {
    "tags": []
   },
   "outputs": [],
   "source": [
    "schd_vp_df.loc[schd_vp_df.organization_name.str.contains(\"Banning\")]"
   ]
  },
  {
   "cell_type": "code",
   "execution_count": null,
   "id": "5023668e-5191-467b-b514-b7e46aaef05f",
   "metadata": {
    "tags": []
   },
   "outputs": [],
   "source": [
    "schd_vp_df.loc[schd_vp_df.organization_name.str.contains(\"Emery\")]"
   ]
  },
  {
   "cell_type": "markdown",
   "id": "514bb29c-3561-4475-971c-b1ee5ef09717",
   "metadata": {},
   "source": [
    "## YML 2: Illustrating 1:1, m:1, m:m `schedule_gtfs_dataset_key` to `organization_name`"
   ]
  },
  {
   "cell_type": "code",
   "execution_count": null,
   "id": "d272b2a4-08a8-4999-9d4f-e4862163d15c",
   "metadata": {
    "tags": []
   },
   "outputs": [],
   "source": [
    "def df_to_yaml(\n",
    "    df: pd.DataFrame, nest1_column: str, nest2_column: str, SITE_YML: str, title: str\n",
    "):\n",
    "    \"\"\"\n",
    "    Dump Pandas Dataframe to a YAML.\n",
    "\n",
    "    Parameters:\n",
    "    df (pd.DataFrame): DataFrame with 'sched_rt_category' and 'organization_name' columns.\n",
    "    title (str): Title to be added at the top of the YAML file.\n",
    "\n",
    "    Returns:\n",
    "    yaml_str (str): YAML string representation of the input DataFrame.\n",
    "    \"\"\"\n",
    "    # Initialize an empty dictionary to store the result\n",
    "    result = {}\n",
    "\n",
    "    # Iterate over unique  values in nest1_column\n",
    "    for category in df[nest1_column].unique():\n",
    "        # Filter the DataFrame for the current category\n",
    "        category_df = df[df[nest1_column] == category]\n",
    "\n",
    "        # Create a list of unique values in nest2_column for the current category\n",
    "        organization_names = category_df[nest2_column].tolist()\n",
    "\n",
    "        # Add the category and organization names to the result dictionary\n",
    "        result[category] = organization_names\n",
    "\n",
    "    # Save to YML\n",
    "    with open(SITE_YML, \"w\") as f:\n",
    "        f.write(f\"# {title}\\n\\n\")\n",
    "        output = yaml.dump(result, default_flow_style=False)\n",
    "        f.write(output)\n",
    "    print(\"Saved to yml\")"
   ]
  },
  {
   "cell_type": "code",
   "execution_count": null,
   "id": "08f70328-6554-43c9-80c9-fba7cebde9bf",
   "metadata": {
    "tags": []
   },
   "outputs": [],
   "source": [
    "def count_orgs(df: pd.DataFrame, groupby_col: str, nunique_col: str) -> list:\n",
    "    \"\"\"\n",
    "    Count the number of unique values the nunique_col\n",
    "    to the groupby_col. Filter out any\n",
    "    groupby_col with less than 2 unique\n",
    "    values in nunique_col. Return these groupby_col values\n",
    "    in a list.\n",
    "    \"\"\"\n",
    "    agg1 = df.groupby([groupby_col]).agg({nunique_col: \"nunique\"}).reset_index()\n",
    "\n",
    "    # Filter out rows with more than 1 organization_name\n",
    "    agg1 = agg1.loc[agg1[nunique_col] > 1].reset_index(drop=True)\n",
    "\n",
    "    # Grab groupby_col into a list\n",
    "    multi_org_list = list(agg1[groupby_col].unique())\n",
    "    return multi_org_list"
   ]
  },
  {
   "cell_type": "code",
   "execution_count": null,
   "id": "0ab0d49c-7618-4e4a-91c2-6459847e3e4c",
   "metadata": {
    "tags": []
   },
   "outputs": [],
   "source": [
    "def generate_key_org_ymls(df: pd.DataFrame):\n",
    "    \"\"\"\n",
    "    Generate the ymls that display the relationship\n",
    "    between schedule_gtfs_dataset_key to organization_name\n",
    "    values.\n",
    "    \"\"\"\n",
    "    # One `organization_name` to many `schedule_gtfs_dataset_key`\n",
    "    one_org_m_keys_list = count_orgs(\n",
    "        df, \"organization_name\", \"schedule_gtfs_dataset_key\"\n",
    "    )\n",
    "    # Filter\n",
    "    one_org_m_keys_df = df.loc[df.organization_name.isin(one_org_m_keys_list)].drop(\n",
    "        columns=[\"sched_rt_category\"]\n",
    "    )\n",
    "\n",
    "    # One `schedule_gtfs_dataset_key` to many `organization_name`\n",
    "    one_key_many_orgs_list = count_orgs(\n",
    "        df,\n",
    "        \"schedule_gtfs_dataset_key\",\n",
    "        \"organization_name\",\n",
    "    )\n",
    "\n",
    "    # Filter\n",
    "    one_key_many_orgs_df = df.loc[\n",
    "        df.schedule_gtfs_dataset_key.isin(one_key_many_orgs_list)\n",
    "    ]\n",
    "\n",
    "    # Merge them back together. This way we can find the many schedule_gtfs_dataset_key\n",
    "    # to many organization_name values.\n",
    "    m1 = pd.merge(\n",
    "        one_org_m_keys_df,\n",
    "        one_key_many_orgs_df,\n",
    "        on=[\"schedule_gtfs_dataset_key\", \"organization_name\", \"name\"],\n",
    "        how=\"outer\",\n",
    "        indicator=True,\n",
    "    )\n",
    "\n",
    "    indicator_values = {\n",
    "        \"left_only\": \"1 organization_name:m schedule_gtfs_dataset_key\",\n",
    "        \"right_only\": \"1 schedule_gtfs_dataset_key: m organization_name\",\n",
    "        \"both\": \"m organization_name: m schedule_gtfs_datset_key\",\n",
    "    }\n",
    "    m1._merge = m1._merge.map(indicator_values)\n",
    "\n",
    "    # Re filter and save out to YML for each combo\n",
    "    # One `organization_name` to many `schedule_gtfs_dataset_key`\n",
    "    one_key_many_orgs_df = m1.loc[\n",
    "        m1._merge == \"1 schedule_gtfs_dataset_key: m organization_name\"\n",
    "    ]\n",
    "\n",
    "    # Save to yml\n",
    "    df_to_yaml(\n",
    "        df=one_org_m_keys_df,\n",
    "        nest1_column=\"organization_name\",\n",
    "        nest2_column=\"name\",\n",
    "        SITE_YML=\"one_org_many_keys.yml\",\n",
    "        title=\"1 organization_name: m schedule_gtfs_dataset-key, all values below are encompassed under one organization_name\",\n",
    "    )\n",
    "\n",
    "    # One `organization_name` to many `schedule_gtfs_dataset_key`\n",
    "    one_org_m_keys_df = m1.loc[\n",
    "        m1._merge == \"1 organization_name:m schedule_gtfs_dataset_key\"\n",
    "    ]\n",
    "    # Save to yml\n",
    "    df_to_yaml(\n",
    "        df=one_key_many_orgs_df,\n",
    "        nest1_column=\"name\",\n",
    "        nest2_column=\"organization_name\",\n",
    "        SITE_YML=\"one_key_many_orgs.yml\",\n",
    "        title=\"1 schedule_gtfs_dataset_key:m organization_name, only the 1st value is displayed in the portfolio\",\n",
    "    )\n",
    "    # Many organization_name to many schedule_gtfs_datset_keys\"\n",
    "    m_org_m_keys_df = m1.loc[\n",
    "        m1._merge == \"m organization_name: m schedule_gtfs_datset_key\"\n",
    "    ]\n",
    "    # Save to yml\n",
    "    df_to_yaml(\n",
    "        df=m_org_m_keys_df,\n",
    "        nest1_column=\"organization_name\",\n",
    "        nest2_column=\"name\",\n",
    "        SITE_YML=\"many_keys_many_orgs.yml\",\n",
    "        title=\"m schedule_gtfs_dataset_key:m organization_name\",\n",
    "    )"
   ]
  },
  {
   "cell_type": "code",
   "execution_count": null,
   "id": "2dc65b3a-4052-4834-b01f-6ccf0bd9e2a7",
   "metadata": {
    "tags": []
   },
   "outputs": [],
   "source": [
    "generate_key_org_ymls(schd_vp_df)"
   ]
  },
  {
   "cell_type": "markdown",
   "id": "04880a14-34cc-4cda-b6c2-e36b1d2fab9a",
   "metadata": {},
   "source": [
    "### One `organization_name` to many `schedule_gtfs_dataset_key`"
   ]
  },
  {
   "cell_type": "code",
   "execution_count": null,
   "id": "ddf32dd5-f3d3-4e9a-977d-a6127642816d",
   "metadata": {
    "tags": []
   },
   "outputs": [],
   "source": [
    "one_org_m_keys_list = count_orgs(\n",
    "    schd_vp_df,\n",
    "    \"organization_name\",\n",
    "    \"schedule_gtfs_dataset_key\",\n",
    ")"
   ]
  },
  {
   "cell_type": "code",
   "execution_count": null,
   "id": "76ccf72f-1188-4572-ac1e-7adadbe10ebc",
   "metadata": {
    "tags": []
   },
   "outputs": [],
   "source": [
    "# Filter\n",
    "one_org_m_keys_df = schd_vp_df.loc[\n",
    "    schd_vp_df.organization_name.isin(one_org_m_keys_list)\n",
    "].drop(columns=[\"sched_rt_category\"])"
   ]
  },
  {
   "cell_type": "code",
   "execution_count": null,
   "id": "499c8103-219a-4a54-8dfb-fdea086b0102",
   "metadata": {
    "scrolled": true,
    "tags": []
   },
   "outputs": [],
   "source": [
    "one_org_m_keys_df.sort_values(by=[\"organization_name\"])"
   ]
  },
  {
   "cell_type": "markdown",
   "id": "6443605e-5cff-406a-a589-5c560a4baf1e",
   "metadata": {},
   "source": [
    "### One `schedule_gtfs_dataset_key` to many `organization_name`"
   ]
  },
  {
   "cell_type": "code",
   "execution_count": null,
   "id": "17c89447-2323-4fe7-b41d-f1c193b35cb9",
   "metadata": {
    "tags": []
   },
   "outputs": [],
   "source": [
    "one_key_many_orgs_list = count_orgs(\n",
    "    schd_vp_df,\n",
    "    \"schedule_gtfs_dataset_key\",\n",
    "    \"organization_name\",\n",
    ")"
   ]
  },
  {
   "cell_type": "code",
   "execution_count": null,
   "id": "e6759ccb-f7ba-4e3e-944f-d8b8ef5b88ac",
   "metadata": {},
   "outputs": [],
   "source": [
    "# Filter\n",
    "one_key_many_orgs_df = schd_vp_df.loc[\n",
    "    schd_vp_df.schedule_gtfs_dataset_key.isin(one_key_many_orgs_list)\n",
    "]"
   ]
  },
  {
   "cell_type": "code",
   "execution_count": null,
   "id": "c2846228-9984-445c-9b62-298f9e058a78",
   "metadata": {
    "scrolled": true,
    "tags": []
   },
   "outputs": [],
   "source": [
    "schd_vp_df.loc[schd_vp_df.organization_name == \"Basin Transit\"]"
   ]
  },
  {
   "cell_type": "code",
   "execution_count": null,
   "id": "52573091-3adb-4eb6-bc4b-2cecdbeeef86",
   "metadata": {
    "tags": []
   },
   "outputs": [],
   "source": [
    "schd_vp_df.loc[\n",
    "    schd_vp_df.schedule_gtfs_dataset_key == \"1770249a5a2e770ca90628434d4934b1\"\n",
    "]"
   ]
  },
  {
   "cell_type": "code",
   "execution_count": null,
   "id": "8b257863-669f-4ba8-bea9-75435d1c5ea0",
   "metadata": {
    "tags": []
   },
   "outputs": [],
   "source": [
    "schd_vp_df.loc[schd_vp_df.organization_name == \"Palo Verde Valley Transit Agency\"]"
   ]
  },
  {
   "cell_type": "markdown",
   "id": "5c74f50f-b766-4c51-82a6-26f7310baf3c",
   "metadata": {},
   "source": [
    "### Tag"
   ]
  },
  {
   "cell_type": "code",
   "execution_count": null,
   "id": "5c968607-0038-41e3-a91c-672f77bc1a96",
   "metadata": {
    "tags": []
   },
   "outputs": [],
   "source": [
    "m1 = pd.merge(\n",
    "    one_org_m_keys_df,\n",
    "    one_key_many_orgs_df,\n",
    "    on=[\"schedule_gtfs_dataset_key\", \"organization_name\", \"name\"],\n",
    "    how=\"outer\",\n",
    "    indicator=True,\n",
    ")"
   ]
  },
  {
   "cell_type": "code",
   "execution_count": null,
   "id": "b84f857b-6b78-416e-a06e-4e100105634b",
   "metadata": {
    "scrolled": true,
    "tags": []
   },
   "outputs": [],
   "source": [
    "m1[[\"schedule_gtfs_dataset_key\", \"organization_name\", \"name\", \"_merge\"]].sort_values(\n",
    "    by=[\"_merge\"]\n",
    ")"
   ]
  },
  {
   "cell_type": "code",
   "execution_count": null,
   "id": "ebb14a8f-d091-4c16-9823-392166a8819e",
   "metadata": {
    "tags": []
   },
   "outputs": [],
   "source": [
    "indicator_values = {\n",
    "    \"left_only\": \"1 organization_name:m schedule_gtfs_dataset_key\",\n",
    "    \"right_only\": \"1 schedule_gtfs_dataset_key: m organization_name\",\n",
    "    \"both\": \"m organization_name: m schedule_gtfs_datset_key\",\n",
    "}"
   ]
  },
  {
   "cell_type": "code",
   "execution_count": null,
   "id": "33c2ae54-1220-4123-a957-72b45b431ad6",
   "metadata": {
    "tags": []
   },
   "outputs": [],
   "source": [
    "m1._merge = m1._merge.map(indicator_values)"
   ]
  },
  {
   "cell_type": "code",
   "execution_count": null,
   "id": "0fafc2c4-f0a9-458d-8951-6ba791df366a",
   "metadata": {
    "tags": []
   },
   "outputs": [],
   "source": [
    "m1._merge.value_counts()"
   ]
  },
  {
   "cell_type": "code",
   "execution_count": null,
   "id": "f1dd5f35-b696-4ef3-8547-7e6f84585d63",
   "metadata": {
    "tags": []
   },
   "outputs": [],
   "source": [
    "def df_to_yaml(\n",
    "    df: pd.DataFrame, nest1_column: str, nest2_column: str, SITE_YML: str, title: str\n",
    "):\n",
    "    \"\"\"\n",
    "    Dump Pandas Dataframe to a YAML.\n",
    "\n",
    "    Parameters:\n",
    "    df (pd.DataFrame): DataFrame with 'sched_rt_category' and 'organization_name' columns.\n",
    "    title (str): Title to be added at the top of the YAML file.\n",
    "\n",
    "    Returns:\n",
    "    yaml_str (str): YAML string representation of the input DataFrame.\n",
    "    \"\"\"\n",
    "    # Initialize an empty dictionary to store the result\n",
    "    result = {}\n",
    "\n",
    "    # Iterate over unique 'sched_rt_category' values\n",
    "    for category in df[nest1_column].unique():\n",
    "        # Filter the DataFrame for the current category\n",
    "        category_df = df[df[nest1_column] == category]\n",
    "\n",
    "        # Create a list of 'organization_name' values for the current category\n",
    "        organization_names = category_df[nest2_column].tolist()\n",
    "\n",
    "        # Add the category and organization names to the result dictionary\n",
    "        result[category] = organization_names\n",
    "\n",
    "    # Save to YML\n",
    "    with open(SITE_YML, \"w\") as f:\n",
    "        f.write(f\"# {title}\\n\\n\")\n",
    "        output = yaml.dump(result, default_flow_style=False)\n",
    "        f.write(output)\n",
    "    print(\"Saved to yml\")\n",
    "    return result"
   ]
  },
  {
   "cell_type": "code",
   "execution_count": null,
   "id": "7baa8a26-e504-4b12-9823-179f13a35fd1",
   "metadata": {
    "tags": []
   },
   "outputs": [],
   "source": [
    "test = df_to_yaml(\n",
    "    one_key_many_orgs_df,\n",
    "    \"name\",\n",
    "    \"organization_name\",\n",
    "    \"one_key_many_orgs.yml\",\n",
    "    \"1 schedule_gtfs_dataset_key:m organization_name, only 1st value is displayed in the portfolio\",\n",
    ")"
   ]
  },
  {
   "cell_type": "code",
   "execution_count": null,
   "id": "66c62e7b-8879-464a-94e9-a8d21eb312a3",
   "metadata": {
    "tags": []
   },
   "outputs": [],
   "source": [
    "test2 = df_to_yaml(\n",
    "    one_org_m_keys_df,\n",
    "    \"organization_name\",\n",
    "    \"name\",\n",
    "    \"one_org_many_keys.yml\",\n",
    "    \"1 organization_name: m _schedule_gtfs_dataset-key, all values below are encompassed in org_name\",\n",
    ")"
   ]
  },
  {
   "cell_type": "markdown",
   "id": "8dea2bf2-53d7-48ca-937b-de2e1874cf9a",
   "metadata": {
    "tags": []
   },
   "source": [
    "## YML 2: Which operators we exclude \n",
    "* Explain whether it's due to 1 schedule_gtfs_dataset_key:m organization_name or we prefer another name"
   ]
  },
  {
   "cell_type": "code",
   "execution_count": null,
   "id": "e1a57bcd-7ab0-4371-a8db-e86e244c56ee",
   "metadata": {
    "tags": []
   },
   "outputs": [],
   "source": [
    "import deploy_portfolio_yaml"
   ]
  },
  {
   "cell_type": "code",
   "execution_count": null,
   "id": "c9ebe2ee-7b6c-46cb-bba3-fa07be0f53d3",
   "metadata": {
    "tags": []
   },
   "outputs": [],
   "source": []
  },
  {
   "cell_type": "code",
   "execution_count": null,
   "id": "13c32f13-ef53-4f71-b954-bec27808e83b",
   "metadata": {
    "tags": []
   },
   "outputs": [],
   "source": [
    "def generate_excluded_orgs_yml(df: pd.DataFrame):\n",
    "    \"\"\"\n",
    "    Generate YML for excluded operators and explain why\n",
    "    they aren't included.\n",
    "    \"\"\"\n",
    "    # Manual list of operators we exclude\n",
    "    operators_to_exclude = [\"City of Alameda\"]\n",
    "\n",
    "    # Load in dataframe of organization_name values we display in our GTFS\n",
    "    # Digest operator grain portfolio\n",
    "    orgs_in_portfolio = deploy_portfolio_yaml.generate_operator_grain_yaml()\n",
    "\n",
    "    # Merge\n",
    "    m1 = pd.merge(df, orgs_in_portfolio, how=\"outer\", indicator=True)\n",
    "\n",
    "    # Any left only values are excluded organizations\n",
    "    excluded_orgs = m1.loc[m1._merge == \"left_only\"]\n",
    "\n",
    "    # Map dictionary of excluded operators\n",
    "    excluded_orgs[\"reason_for_exclusion\"] = excluded_orgs[\"organization_name\"].map(\n",
    "        reason_for_exclusion\n",
    "    )\n",
    "\n",
    "    # Subset\n",
    "    excluded_orgs = excluded_orgs[[\"organization_name\", \"reason_for_exclusion\"]]\n",
    "\n",
    "    # Any organization without a manual value in the reason_for_exclusion dictionary\n",
    "    # is excluded because it has another organization_name values that came before it\n",
    "    excluded_orgs = excluded_orgs.fillna(\n",
    "        \"1 schedule_gtfs_dataset_key:m organization_name, only 1st organization_name by alphabetical order is displayed in the portfolio\"\n",
    "    )\n",
    "\n",
    "    # Generate YML\n",
    "    df_to_yaml(\n",
    "        df=excluded_orgs,\n",
    "        nest1_column=\"reason_for_exclusion\",\n",
    "        nest2_column=\"organization_name\",\n",
    "        SITE_YML=\"excluded_orgs.yml\",\n",
    "        title=\"organization_name values that are excluded from the GTFS Digest portfolio\",\n",
    "    )"
   ]
  },
  {
   "cell_type": "code",
   "execution_count": null,
   "id": "06f7d533-92dd-4e9f-9f58-db6981e1fc91",
   "metadata": {
    "tags": []
   },
   "outputs": [],
   "source": [
    "generate_excluded_orgs_yml(schd_vp_df)"
   ]
  },
  {
   "cell_type": "markdown",
   "id": "7f3cb906-9fe0-4553-97fc-6825660b59d9",
   "metadata": {},
   "source": [
    "## YML 3: Operators who have RT, Schedule, or Both"
   ]
  },
  {
   "cell_type": "code",
   "execution_count": null,
   "id": "d427f9d2-1d1c-4639-9671-5855a20ea8c4",
   "metadata": {
    "tags": []
   },
   "outputs": [],
   "source": [
    "def generate_org_gtfs_status_yml(df: pd.DataFrame):\n",
    "    # Subset\n",
    "    df2 = df[\n",
    "        [\n",
    "            \"sched_rt_category\",\n",
    "            \"organization_name\",\n",
    "        ]\n",
    "    ]\n",
    "    # Generate YML\n",
    "    df_to_yaml(\n",
    "        df2,\n",
    "        \"sched_rt_category\",\n",
    "        \"organization_name\",\n",
    "        \"org_gtfs_status.yml\",\n",
    "        \"Operators who have RT (vp_only), Schedule, or Both (schedule_and_vp)\",\n",
    "    )"
   ]
  },
  {
   "cell_type": "code",
   "execution_count": null,
   "id": "a6cd75e1-e8af-4f43-b1b4-dd873e4dc24a",
   "metadata": {
    "tags": []
   },
   "outputs": [],
   "source": [
    "generate_org_gtfs_status_yml(schd_vp_df)"
   ]
  }
 ],
 "metadata": {
  "kernelspec": {
   "display_name": "Python 3 (ipykernel)",
   "language": "python",
   "name": "python3"
  },
  "language_info": {
   "codemirror_mode": {
    "name": "ipython",
    "version": 3
   },
   "file_extension": ".py",
   "mimetype": "text/x-python",
   "name": "python",
   "nbconvert_exporter": "python",
   "pygments_lexer": "ipython3",
   "version": "3.11.10"
  }
 },
 "nbformat": 4,
 "nbformat_minor": 5
}
