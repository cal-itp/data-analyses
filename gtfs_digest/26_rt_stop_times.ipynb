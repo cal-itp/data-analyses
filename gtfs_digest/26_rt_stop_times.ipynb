{
 "cells": [
  {
   "cell_type": "markdown",
   "id": "dbfbe327-c682-4317-b7ea-270b25c65a44",
   "metadata": {},
   "source": [
    "## Update `rt_scheduled_v_ran/scripts/rt_stop_times.py`\n",
    "* i think you can go and change the rt_stop_times script to keep the full timestamp, in addition to the seconds. more straightforward to undo the deleting of the columns, instead of trying to recreate the column you want again.\n",
    "it's possible to turn seconds back, but then the date portion of the datetime needs to be overwritten to be the analysis_date ."
   ]
  },
  {
   "cell_type": "code",
   "execution_count": 19,
   "id": "ce6a5f8d-b5e9-4bbf-acaf-e9623d1f1d30",
   "metadata": {},
   "outputs": [],
   "source": [
    "import datetime\n",
    "import pandas as pd\n",
    "from segment_speed_utils import gtfs_schedule_wrangling, helpers, segment_calcs\n",
    "from shared_utils import catalog_utils, rt_dates, rt_utils\n",
    "from update_vars import GTFS_DATA_DICT, RT_SCHED_GCS, SCHED_GCS\n",
    "\n",
    "# https://github.com/cal-itp/data-analyses/blob/main/_shared_utils/shared_utils/gtfs_analytics_data.yml\n",
    "GTFS_DATA_DICT = catalog_utils.get_catalog(\"gtfs_analytics_data\")\n",
    "\n",
    "from segment_speed_utils.project_vars import (\n",
    "    COMPILED_CACHED_VIEWS,\n",
    "    GTFS_DATA_DICT,\n",
    "    PROJECT_CRS,\n",
    "    RT_SCHED_GCS,\n",
    "    SCHED_GCS,\n",
    "    SEGMENT_GCS,\n",
    ")"
   ]
  },
  {
   "cell_type": "code",
   "execution_count": 2,
   "id": "ed1e05cc-de82-44be-8110-3a6b5a51a4c6",
   "metadata": {},
   "outputs": [],
   "source": [
    "pd.options.display.max_columns = 100\n",
    "pd.options.display.float_format = \"{:.2f}\".format\n",
    "pd.set_option(\"display.max_rows\", None)\n",
    "pd.set_option(\"display.max_colwidth\", None)"
   ]
  },
  {
   "cell_type": "code",
   "execution_count": 4,
   "id": "a422f86d-c96d-43a3-994c-1ddb687c9fc0",
   "metadata": {},
   "outputs": [],
   "source": [
    "import sys\n",
    "\n",
    "sys.path.append(\"../rt_scheduled_v_ran/scripts\")\n",
    "import rt_stop_times"
   ]
  },
  {
   "cell_type": "code",
   "execution_count": 5,
   "id": "c7b53395-93f3-45e4-a665-f2c7f7b93a52",
   "metadata": {},
   "outputs": [],
   "source": [
    "analysis_date_list = rt_dates.y2024_dates + rt_dates.y2023_dates"
   ]
  },
  {
   "cell_type": "code",
   "execution_count": 6,
   "id": "a62a0976-2b66-4139-baf1-bb4de63d4c52",
   "metadata": {},
   "outputs": [],
   "source": [
    "may_date = \"2024-05-22\""
   ]
  },
  {
   "cell_type": "code",
   "execution_count": 10,
   "id": "7f1bd923-b2f4-4387-b6da-8fee4a1abe78",
   "metadata": {},
   "outputs": [],
   "source": [
    "scheduled_stop_times = rt_stop_times.prep_scheduled_stop_times(may_date)"
   ]
  },
  {
   "cell_type": "code",
   "execution_count": 11,
   "id": "7ea3a939-1e45-4c1c-a070-6c9866befd3b",
   "metadata": {},
   "outputs": [
    {
     "data": {
      "text/html": [
       "<div>\n",
       "<style scoped>\n",
       "    .dataframe tbody tr th:only-of-type {\n",
       "        vertical-align: middle;\n",
       "    }\n",
       "\n",
       "    .dataframe tbody tr th {\n",
       "        vertical-align: top;\n",
       "    }\n",
       "\n",
       "    .dataframe thead th {\n",
       "        text-align: right;\n",
       "    }\n",
       "</style>\n",
       "<table border=\"1\" class=\"dataframe\">\n",
       "  <thead>\n",
       "    <tr style=\"text-align: right;\">\n",
       "      <th></th>\n",
       "      <th>trip_id</th>\n",
       "      <th>stop_id</th>\n",
       "      <th>stop_sequence</th>\n",
       "      <th>scheduled_arrival_sec</th>\n",
       "      <th>schedule_gtfs_dataset_key</th>\n",
       "      <th>trip_instance_key</th>\n",
       "    </tr>\n",
       "  </thead>\n",
       "  <tbody>\n",
       "    <tr>\n",
       "      <th>0</th>\n",
       "      <td>264</td>\n",
       "      <td>351095</td>\n",
       "      <td>0</td>\n",
       "      <td>21600.00</td>\n",
       "      <td>bff13f8993ff18e43577db1f5596e014</td>\n",
       "      <td>4e28c7e213e31a05388f3ba0bdec3d17</td>\n",
       "    </tr>\n",
       "    <tr>\n",
       "      <th>1</th>\n",
       "      <td>264</td>\n",
       "      <td>8065945</td>\n",
       "      <td>1</td>\n",
       "      <td>22620.00</td>\n",
       "      <td>bff13f8993ff18e43577db1f5596e014</td>\n",
       "      <td>4e28c7e213e31a05388f3ba0bdec3d17</td>\n",
       "    </tr>\n",
       "  </tbody>\n",
       "</table>\n",
       "</div>"
      ],
      "text/plain": [
       "  trip_id  stop_id  stop_sequence  scheduled_arrival_sec  \\\n",
       "0     264   351095              0               21600.00   \n",
       "1     264  8065945              1               22620.00   \n",
       "\n",
       "          schedule_gtfs_dataset_key                 trip_instance_key  \n",
       "0  bff13f8993ff18e43577db1f5596e014  4e28c7e213e31a05388f3ba0bdec3d17  \n",
       "1  bff13f8993ff18e43577db1f5596e014  4e28c7e213e31a05388f3ba0bdec3d17  "
      ]
     },
     "execution_count": 11,
     "metadata": {},
     "output_type": "execute_result"
    }
   ],
   "source": [
    "scheduled_stop_times.head(2)"
   ]
  },
  {
   "cell_type": "code",
   "execution_count": 14,
   "id": "213a3847-90bd-452d-9fa3-b912e5a5dc58",
   "metadata": {},
   "outputs": [
    {
     "data": {
      "text/plain": [
       "'rt_stop_times/stop_arrivals'"
      ]
     },
     "execution_count": 14,
     "metadata": {},
     "output_type": "execute_result"
    }
   ],
   "source": [
    "GTFS_DATA_DICT.rt_stop_times.stage3"
   ]
  },
  {
   "cell_type": "code",
   "execution_count": 15,
   "id": "2e05afae-b4a0-42b4-bbf0-7cbbcaac23e5",
   "metadata": {},
   "outputs": [],
   "source": [
    "def prep_rt_stop_times(\n",
    "    analysis_date: str\n",
    ") -> pd.DataFrame: \n",
    "    \"\"\"\n",
    "    For RT stop arrivals, drop duplicates based on interpolated\n",
    "    arrival times. Keep the first arrival time,\n",
    "    the rest would violate a monotonically increasing condition.\n",
    "    \"\"\"\n",
    "    STOP_ARRIVALS = GTFS_DATA_DICT.rt_stop_times.stage3\n",
    "    \n",
    "    df = pd.read_parquet(\n",
    "        f\"{SEGMENT_GCS}{STOP_ARRIVALS}_{analysis_date}.parquet\"\n",
    "    ).rename(columns = {\"arrival_time\": \"rt_arrival\"})\n",
    "\n",
    "    df2 = df.sort_values(\n",
    "        [\"trip_instance_key\", \"stop_sequence\"]\n",
    "    ).drop_duplicates(\n",
    "        subset=[\"trip_instance_key\", \"rt_arrival\"]\n",
    "    ).reset_index(drop=True)\n",
    "    \n",
    "    return df2"
   ]
  },
  {
   "cell_type": "code",
   "execution_count": 16,
   "id": "5a84aa58-bbbd-420d-9011-d94aa0c15f5a",
   "metadata": {},
   "outputs": [],
   "source": [
    "sched_stop_times = prep_rt_stop_times(may_date)"
   ]
  },
  {
   "cell_type": "code",
   "execution_count": 17,
   "id": "a8dde669-c83c-4f2a-97eb-fe6c810306a8",
   "metadata": {},
   "outputs": [
    {
     "data": {
      "text/html": [
       "<div>\n",
       "<style scoped>\n",
       "    .dataframe tbody tr th:only-of-type {\n",
       "        vertical-align: middle;\n",
       "    }\n",
       "\n",
       "    .dataframe tbody tr th {\n",
       "        vertical-align: top;\n",
       "    }\n",
       "\n",
       "    .dataframe thead th {\n",
       "        text-align: right;\n",
       "    }\n",
       "</style>\n",
       "<table border=\"1\" class=\"dataframe\">\n",
       "  <thead>\n",
       "    <tr style=\"text-align: right;\">\n",
       "      <th></th>\n",
       "      <th>trip_instance_key</th>\n",
       "      <th>stop_sequence</th>\n",
       "      <th>shape_array_key</th>\n",
       "      <th>stop_meters</th>\n",
       "      <th>rt_arrival</th>\n",
       "    </tr>\n",
       "  </thead>\n",
       "  <tbody>\n",
       "    <tr>\n",
       "      <th>0</th>\n",
       "      <td>000054ea29bb07adcfa0fc0f13c4a030</td>\n",
       "      <td>2</td>\n",
       "      <td>51e3d7ca40631da19179eb792af45334</td>\n",
       "      <td>2529.84</td>\n",
       "      <td>2024-05-22 10:16:51</td>\n",
       "    </tr>\n",
       "    <tr>\n",
       "      <th>1</th>\n",
       "      <td>000054ea29bb07adcfa0fc0f13c4a030</td>\n",
       "      <td>3</td>\n",
       "      <td>51e3d7ca40631da19179eb792af45334</td>\n",
       "      <td>3043.91</td>\n",
       "      <td>2024-05-22 10:18:35</td>\n",
       "    </tr>\n",
       "  </tbody>\n",
       "</table>\n",
       "</div>"
      ],
      "text/plain": [
       "                  trip_instance_key  stop_sequence  \\\n",
       "0  000054ea29bb07adcfa0fc0f13c4a030              2   \n",
       "1  000054ea29bb07adcfa0fc0f13c4a030              3   \n",
       "\n",
       "                    shape_array_key  stop_meters          rt_arrival  \n",
       "0  51e3d7ca40631da19179eb792af45334      2529.84 2024-05-22 10:16:51  \n",
       "1  51e3d7ca40631da19179eb792af45334      3043.91 2024-05-22 10:18:35  "
      ]
     },
     "execution_count": 17,
     "metadata": {},
     "output_type": "execute_result"
    }
   ],
   "source": [
    "sched_stop_times.head(2)"
   ]
  }
 ],
 "metadata": {
  "kernelspec": {
   "display_name": "Python 3 (ipykernel)",
   "language": "python",
   "name": "python3"
  },
  "language_info": {
   "codemirror_mode": {
    "name": "ipython",
    "version": 3
   },
   "file_extension": ".py",
   "mimetype": "text/x-python",
   "name": "python",
   "nbconvert_exporter": "python",
   "pygments_lexer": "ipython3",
   "version": "3.9.13"
  }
 },
 "nbformat": 4,
 "nbformat_minor": 5
}
