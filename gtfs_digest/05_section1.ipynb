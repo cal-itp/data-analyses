{
 "cells": [
  {
   "cell_type": "markdown",
   "id": "486e8f34-ec0e-4688-8e69-31e6b922f7d1",
   "metadata": {},
   "source": [
    "## Section 1: Operator Overview \n",
    "* Using the most recent month"
   ]
  },
  {
   "cell_type": "code",
   "execution_count": 1,
   "id": "f0ddcdbd-d18e-4a20-a423-72298e4546ae",
   "metadata": {},
   "outputs": [],
   "source": [
    "import _report_utils\n",
    "import altair as alt\n",
    "import calitp_data_analysis.magics\n",
    "import geopandas as gpd\n",
    "import great_tables as gt\n",
    "import pandas as pd\n",
    "from calitp_data_analysis import calitp_color_palette as cp\n",
    "from calitp_data_analysis.sql import to_snakecase\n",
    "from great_tables import md\n",
    "from IPython.display import HTML, Markdown, display\n",
    "from segment_speed_utils.project_vars import RT_SCHED_GCS\n",
    "from shared_utils import catalog_utils, rt_dates, rt_utils"
   ]
  },
  {
   "cell_type": "code",
   "execution_count": 2,
   "id": "563f353b-829d-4166-9921-7389ea661f93",
   "metadata": {},
   "outputs": [
    {
     "data": {
      "text/plain": [
       "DataTransformerRegistry.enable('default')"
      ]
     },
     "execution_count": 2,
     "metadata": {},
     "output_type": "execute_result"
    }
   ],
   "source": [
    "alt.renderers.enable(\"html\")\n",
    "alt.data_transformers.enable(\"default\", max_rows=None)"
   ]
  },
  {
   "cell_type": "code",
   "execution_count": 3,
   "id": "aaa124e0-1d24-459c-88bb-e7934f5092c5",
   "metadata": {},
   "outputs": [],
   "source": [
    "pd.options.display.max_columns = 100\n",
    "pd.options.display.float_format = \"{:.2f}\".format\n",
    "pd.set_option(\"display.max_rows\", None)\n",
    "pd.set_option(\"display.max_colwidth\", None)"
   ]
  },
  {
   "cell_type": "code",
   "execution_count": 4,
   "id": "32c53f1f-2557-48e8-a38c-af8002298c6d",
   "metadata": {},
   "outputs": [],
   "source": [
    "name = \"SBMTD Schedule\"\n",
    "selected_date = pd.to_datetime(rt_dates.DATES[\"mar2024\"])\n",
    "year = selected_date.year\n",
    "GTFS_DATA_DICT = catalog_utils.get_catalog(\"gtfs_analytics_data\")"
   ]
  },
  {
   "cell_type": "code",
   "execution_count": 5,
   "id": "31095bdd-46b6-49ed-b1fa-2a2c70cce660",
   "metadata": {},
   "outputs": [
    {
     "data": {
      "text/plain": [
       "pandas._libs.tslibs.timestamps.Timestamp"
      ]
     },
     "execution_count": 5,
     "metadata": {},
     "output_type": "execute_result"
    }
   ],
   "source": [
    "type(selected_date)"
   ]
  },
  {
   "cell_type": "markdown",
   "id": "a532bb22-0173-4c26-9e59-7ccc2a4b45ad",
   "metadata": {},
   "source": [
    "### Route typology"
   ]
  },
  {
   "cell_type": "code",
   "execution_count": 6,
   "id": "bf71343b-5f3f-4c7e-983e-a85fac836cfd",
   "metadata": {},
   "outputs": [
    {
     "ename": "NameError",
     "evalue": "name 'organization_name' is not defined",
     "output_type": "error",
     "traceback": [
      "\u001b[0;31m---------------------------------------------------------------------------\u001b[0m",
      "\u001b[0;31mNameError\u001b[0m                                 Traceback (most recent call last)",
      "Cell \u001b[0;32mIn[6], line 3\u001b[0m\n\u001b[1;32m      1\u001b[0m display(\n\u001b[1;32m      2\u001b[0m     Markdown(\n\u001b[0;32m----> 3\u001b[0m         \u001b[38;5;124mf\u001b[39m\u001b[38;5;124m\"\"\"\u001b[39m\u001b[38;5;132;01m{\u001b[39;00m\u001b[43morganization_name\u001b[49m\u001b[38;5;132;01m}\u001b[39;00m\u001b[38;5;124m ran <b>\u001b[39m\u001b[38;5;132;01m{\u001b[39;00mop_profiles_df\u001b[38;5;241m.\u001b[39moperator_n_routes\u001b[38;5;241m.\u001b[39mvalues[\u001b[38;5;241m0\u001b[39m]\u001b[38;5;132;01m}\u001b[39;00m\u001b[38;5;124m</b> \u001b[39m\n\u001b[1;32m      4\u001b[0m \u001b[38;5;124m        unique routes in \u001b[39m\u001b[38;5;132;01m{\u001b[39;00mselected_date\u001b[38;5;241m.\u001b[39mmonth\u001b[38;5;132;01m}\u001b[39;00m\u001b[38;5;124m/\u001b[39m\u001b[38;5;132;01m{\u001b[39;00mselected_date\u001b[38;5;241m.\u001b[39myear\u001b[38;5;132;01m}\u001b[39;00m\u001b[38;5;124m.\u001b[39m\u001b[38;5;124m\"\"\"\u001b[39m\n\u001b[1;32m      5\u001b[0m     )\n\u001b[1;32m      6\u001b[0m )\n",
      "\u001b[0;31mNameError\u001b[0m: name 'organization_name' is not defined"
     ]
    }
   ],
   "source": [
    "display(\n",
    "    Markdown(\n",
    "        f\"\"\"{organization_name} ran <b>{op_profiles_df.operator_n_routes.values[0]}</b> \n",
    "        unique routes in {selected_date.month}/{selected_date.year}.\"\"\"\n",
    "    )\n",
    ")"
   ]
  },
  {
   "cell_type": "code",
   "execution_count": null,
   "id": "6b67f8cb-6709-4cdd-99ad-530228382391",
   "metadata": {},
   "outputs": [],
   "source": [
    "def route_typology(df: pd.DataFrame):\n",
    "    route_type_cols = [\n",
    "        \"operator_n_routes\",\n",
    "        \"n_downtown_local_routes\",\n",
    "        \"n_rapid_routes\",\n",
    "        \"n_local_routes\",\n",
    "    ]\n",
    "    df = df[route_type_cols]\n",
    "    df2 = df.T.reset_index()\n",
    "    df2 = df2.rename(columns={\"index\": \"route_type\", 0: \"total_routes\"})\n",
    "    df3 = df2.loc[df2.route_type != \"operator_n_routes\"]\n",
    "    return df3"
   ]
  },
  {
   "cell_type": "code",
   "execution_count": null,
   "id": "95010e2a-9483-4352-9afd-69009a337b3e",
   "metadata": {},
   "outputs": [],
   "source": [
    "route_typology_data = route_typology(op_profiles_df)"
   ]
  },
  {
   "cell_type": "code",
   "execution_count": null,
   "id": "c84e9be9-61ed-4326-9bb0-bdc92017f053",
   "metadata": {},
   "outputs": [],
   "source": [
    "basic_pie_chart(\n",
    "    route_typology_data, \"route_type\", \"total_routes\", \"Total Routes by Typology\"\n",
    ")"
   ]
  },
  {
   "cell_type": "markdown",
   "id": "08c27e3a-3cad-4ea7-93f7-b3eaad6e2127",
   "metadata": {},
   "source": [
    "### Operator Stops"
   ]
  },
  {
   "cell_type": "code",
   "execution_count": null,
   "id": "705a5287-b737-457f-bcb9-65f1e093bd7b",
   "metadata": {},
   "outputs": [],
   "source": [
    "display(\n",
    "    Markdown(\n",
    "        f\"\"\"This operator served <b>{op_profiles_df.operator_n_stops.values[0]}</b> different stops and each stop received   <b>{op_profiles_df.operator_arrivals_per_stop.values[0]}</b> visits, totaling to <b>{op_profiles_df.operator_n_arrivals.values[0]}</b> arrivals.\"\"\"\n",
    "    )\n",
    ")"
   ]
  },
  {
   "cell_type": "markdown",
   "id": "9aa11673-4037-4b4d-b091-b086634b785f",
   "metadata": {},
   "source": [
    "### Operator Area Coverage"
   ]
  },
  {
   "cell_type": "code",
   "execution_count": 7,
   "id": "e1ed797a-8321-4261-81c4-f5cd4e434dd4",
   "metadata": {},
   "outputs": [],
   "source": [
    "op_routes_url = f\"{GTFS_DATA_DICT.digest_tables.dir}{GTFS_DATA_DICT.digest_tables.operator_routes_map}.parquet\""
   ]
  },
  {
   "cell_type": "code",
   "execution_count": null,
   "id": "4667a223-3937-4f88-af0e-2d5acbb563fb",
   "metadata": {},
   "outputs": [],
   "source": [
    "op_routes_gdf = gpd.read_parquet(\n",
    "    op_routes_url,\n",
    "    filters=[[(\"name\", \"==\", name), (\"service_date\", \"==\", selected_date)]],\n",
    ")"
   ]
  },
  {
   "cell_type": "code",
   "execution_count": 8,
   "id": "660896bf-6b55-49cc-87c0-044a5e76f6bb",
   "metadata": {},
   "outputs": [
    {
     "ename": "KeyboardInterrupt",
     "evalue": "",
     "output_type": "error",
     "traceback": [
      "\u001b[0;31m---------------------------------------------------------------------------\u001b[0m",
      "\u001b[0;31mKeyboardInterrupt\u001b[0m                         Traceback (most recent call last)",
      "Cell \u001b[0;32mIn[8], line 1\u001b[0m\n\u001b[0;32m----> 1\u001b[0m op_routes_gdf \u001b[38;5;241m=\u001b[39m \u001b[43mgpd\u001b[49m\u001b[38;5;241;43m.\u001b[39;49m\u001b[43mread_parquet\u001b[49m\u001b[43m(\u001b[49m\n\u001b[1;32m      2\u001b[0m \u001b[43m    \u001b[49m\u001b[43mop_routes_url\u001b[49m\u001b[43m)\u001b[49m\n",
      "File \u001b[0;32m/opt/conda/lib/python3.9/site-packages/geopandas/io/arrow.py:599\u001b[0m, in \u001b[0;36m_read_parquet\u001b[0;34m(path, columns, storage_options, **kwargs)\u001b[0m\n\u001b[1;32m    597\u001b[0m path \u001b[38;5;241m=\u001b[39m _expand_user(path)\n\u001b[1;32m    598\u001b[0m kwargs[\u001b[38;5;124m\"\u001b[39m\u001b[38;5;124muse_pandas_metadata\u001b[39m\u001b[38;5;124m\"\u001b[39m] \u001b[38;5;241m=\u001b[39m \u001b[38;5;28;01mTrue\u001b[39;00m\n\u001b[0;32m--> 599\u001b[0m table \u001b[38;5;241m=\u001b[39m \u001b[43mparquet\u001b[49m\u001b[38;5;241;43m.\u001b[39;49m\u001b[43mread_table\u001b[49m\u001b[43m(\u001b[49m\u001b[43mpath\u001b[49m\u001b[43m,\u001b[49m\u001b[43m \u001b[49m\u001b[43mcolumns\u001b[49m\u001b[38;5;241;43m=\u001b[39;49m\u001b[43mcolumns\u001b[49m\u001b[43m,\u001b[49m\u001b[43m \u001b[49m\u001b[43mfilesystem\u001b[49m\u001b[38;5;241;43m=\u001b[39;49m\u001b[43mfilesystem\u001b[49m\u001b[43m,\u001b[49m\u001b[43m \u001b[49m\u001b[38;5;241;43m*\u001b[39;49m\u001b[38;5;241;43m*\u001b[39;49m\u001b[43mkwargs\u001b[49m\u001b[43m)\u001b[49m\n\u001b[1;32m    601\u001b[0m \u001b[38;5;66;03m# read metadata separately to get the raw Parquet FileMetaData metadata\u001b[39;00m\n\u001b[1;32m    602\u001b[0m \u001b[38;5;66;03m# (pyarrow doesn't properly exposes those in schema.metadata for files\u001b[39;00m\n\u001b[1;32m    603\u001b[0m \u001b[38;5;66;03m# created by GDAL - https://issues.apache.org/jira/browse/ARROW-16688)\u001b[39;00m\n\u001b[1;32m    604\u001b[0m metadata \u001b[38;5;241m=\u001b[39m \u001b[38;5;28;01mNone\u001b[39;00m\n",
      "File \u001b[0;32m/opt/conda/lib/python3.9/site-packages/pyarrow/parquet/core.py:3003\u001b[0m, in \u001b[0;36mread_table\u001b[0;34m(source, columns, use_threads, metadata, schema, use_pandas_metadata, read_dictionary, memory_map, buffer_size, partitioning, filesystem, filters, use_legacy_dataset, ignore_prefixes, pre_buffer, coerce_int96_timestamp_unit, decryption_properties, thrift_string_size_limit, thrift_container_size_limit)\u001b[0m\n\u001b[1;32m   2992\u001b[0m         \u001b[38;5;66;03m# TODO test that source is not a directory or a list\u001b[39;00m\n\u001b[1;32m   2993\u001b[0m         dataset \u001b[38;5;241m=\u001b[39m ParquetFile(\n\u001b[1;32m   2994\u001b[0m             source, metadata\u001b[38;5;241m=\u001b[39mmetadata, read_dictionary\u001b[38;5;241m=\u001b[39mread_dictionary,\n\u001b[1;32m   2995\u001b[0m             memory_map\u001b[38;5;241m=\u001b[39mmemory_map, buffer_size\u001b[38;5;241m=\u001b[39mbuffer_size,\n\u001b[0;32m   (...)\u001b[0m\n\u001b[1;32m   3000\u001b[0m             thrift_container_size_limit\u001b[38;5;241m=\u001b[39mthrift_container_size_limit,\n\u001b[1;32m   3001\u001b[0m         )\n\u001b[0;32m-> 3003\u001b[0m     \u001b[38;5;28;01mreturn\u001b[39;00m \u001b[43mdataset\u001b[49m\u001b[38;5;241;43m.\u001b[39;49m\u001b[43mread\u001b[49m\u001b[43m(\u001b[49m\u001b[43mcolumns\u001b[49m\u001b[38;5;241;43m=\u001b[39;49m\u001b[43mcolumns\u001b[49m\u001b[43m,\u001b[49m\u001b[43m \u001b[49m\u001b[43muse_threads\u001b[49m\u001b[38;5;241;43m=\u001b[39;49m\u001b[43muse_threads\u001b[49m\u001b[43m,\u001b[49m\n\u001b[1;32m   3004\u001b[0m \u001b[43m                        \u001b[49m\u001b[43muse_pandas_metadata\u001b[49m\u001b[38;5;241;43m=\u001b[39;49m\u001b[43muse_pandas_metadata\u001b[49m\u001b[43m)\u001b[49m\n\u001b[1;32m   3006\u001b[0m warnings\u001b[38;5;241m.\u001b[39mwarn(\n\u001b[1;32m   3007\u001b[0m     \u001b[38;5;124m\"\u001b[39m\u001b[38;5;124mPassing \u001b[39m\u001b[38;5;124m'\u001b[39m\u001b[38;5;124muse_legacy_dataset=True\u001b[39m\u001b[38;5;124m'\u001b[39m\u001b[38;5;124m to get the legacy behaviour is \u001b[39m\u001b[38;5;124m\"\u001b[39m\n\u001b[1;32m   3008\u001b[0m     \u001b[38;5;124m\"\u001b[39m\u001b[38;5;124mdeprecated as of pyarrow 8.0.0, and the legacy implementation will \u001b[39m\u001b[38;5;124m\"\u001b[39m\n\u001b[1;32m   3009\u001b[0m     \u001b[38;5;124m\"\u001b[39m\u001b[38;5;124mbe removed in a future version.\u001b[39m\u001b[38;5;124m\"\u001b[39m,\n\u001b[1;32m   3010\u001b[0m     \u001b[38;5;167;01mFutureWarning\u001b[39;00m, stacklevel\u001b[38;5;241m=\u001b[39m\u001b[38;5;241m2\u001b[39m)\n\u001b[1;32m   3012\u001b[0m \u001b[38;5;28;01mif\u001b[39;00m ignore_prefixes \u001b[38;5;129;01mis\u001b[39;00m \u001b[38;5;129;01mnot\u001b[39;00m \u001b[38;5;28;01mNone\u001b[39;00m:\n",
      "File \u001b[0;32m/opt/conda/lib/python3.9/site-packages/pyarrow/parquet/core.py:2631\u001b[0m, in \u001b[0;36m_ParquetDatasetV2.read\u001b[0;34m(self, columns, use_threads, use_pandas_metadata)\u001b[0m\n\u001b[1;32m   2623\u001b[0m         index_columns \u001b[38;5;241m=\u001b[39m [\n\u001b[1;32m   2624\u001b[0m             col \u001b[38;5;28;01mfor\u001b[39;00m col \u001b[38;5;129;01min\u001b[39;00m _get_pandas_index_columns(metadata)\n\u001b[1;32m   2625\u001b[0m             \u001b[38;5;28;01mif\u001b[39;00m \u001b[38;5;129;01mnot\u001b[39;00m \u001b[38;5;28misinstance\u001b[39m(col, \u001b[38;5;28mdict\u001b[39m)\n\u001b[1;32m   2626\u001b[0m         ]\n\u001b[1;32m   2627\u001b[0m         columns \u001b[38;5;241m=\u001b[39m (\n\u001b[1;32m   2628\u001b[0m             \u001b[38;5;28mlist\u001b[39m(columns) \u001b[38;5;241m+\u001b[39m \u001b[38;5;28mlist\u001b[39m(\u001b[38;5;28mset\u001b[39m(index_columns) \u001b[38;5;241m-\u001b[39m \u001b[38;5;28mset\u001b[39m(columns))\n\u001b[1;32m   2629\u001b[0m         )\n\u001b[0;32m-> 2631\u001b[0m table \u001b[38;5;241m=\u001b[39m \u001b[38;5;28;43mself\u001b[39;49m\u001b[38;5;241;43m.\u001b[39;49m\u001b[43m_dataset\u001b[49m\u001b[38;5;241;43m.\u001b[39;49m\u001b[43mto_table\u001b[49m\u001b[43m(\u001b[49m\n\u001b[1;32m   2632\u001b[0m \u001b[43m    \u001b[49m\u001b[43mcolumns\u001b[49m\u001b[38;5;241;43m=\u001b[39;49m\u001b[43mcolumns\u001b[49m\u001b[43m,\u001b[49m\u001b[43m \u001b[49m\u001b[38;5;28;43mfilter\u001b[39;49m\u001b[38;5;241;43m=\u001b[39;49m\u001b[38;5;28;43mself\u001b[39;49m\u001b[38;5;241;43m.\u001b[39;49m\u001b[43m_filter_expression\u001b[49m\u001b[43m,\u001b[49m\n\u001b[1;32m   2633\u001b[0m \u001b[43m    \u001b[49m\u001b[43muse_threads\u001b[49m\u001b[38;5;241;43m=\u001b[39;49m\u001b[43muse_threads\u001b[49m\n\u001b[1;32m   2634\u001b[0m \u001b[43m\u001b[49m\u001b[43m)\u001b[49m\n\u001b[1;32m   2636\u001b[0m \u001b[38;5;66;03m# if use_pandas_metadata, restore the pandas metadata (which gets\u001b[39;00m\n\u001b[1;32m   2637\u001b[0m \u001b[38;5;66;03m# lost if doing a specific `columns` selection in to_table)\u001b[39;00m\n\u001b[1;32m   2638\u001b[0m \u001b[38;5;28;01mif\u001b[39;00m use_pandas_metadata:\n",
      "\u001b[0;31mKeyboardInterrupt\u001b[0m: "
     ]
    }
   ],
   "source": [
    "op_routes_gdf = gpd.read_parquet(\n",
    "    op_routes_url)"
   ]
  },
  {
   "cell_type": "code",
   "execution_count": null,
   "id": "8aa51eee-d514-4e44-9d9f-931d6bcd2611",
   "metadata": {},
   "outputs": [],
   "source": [
    "display(\n",
    "    Markdown(\n",
    "        f\"\"\"{organization_name} provided <b>{op_profiles_df.operator_route_length_miles.values[0]}</b> miles of public transit.\n",
    "        The average length of a route is <b>{op_routes_gdf.route_length_miles.mean().round(2)}</b> miles.\n",
    "        \"\"\"\n",
    "    )\n",
    ")"
   ]
  },
  {
   "cell_type": "code",
   "execution_count": null,
   "id": "780c356b-addd-47b8-91f0-561e151b71d2",
   "metadata": {
    "scrolled": true,
    "tags": []
   },
   "outputs": [],
   "source": [
    "route_length_df = (\n",
    "    op_routes_gdf[[\"route_combined_name\", \"route_length_miles\"]]\n",
    "    .sort_values(by=[\"route_length_miles\"])\n",
    "    .iloc[[0, -1]]\n",
    ")"
   ]
  },
  {
   "cell_type": "code",
   "execution_count": null,
   "id": "4b116eea-d2c6-44c6-985c-01e42623c42f",
   "metadata": {},
   "outputs": [],
   "source": [
    "basic_bar_chart(route_length_df, \"route_length_miles\", \"route_combined_name\", \"Longest and Shortest Route\")"
   ]
  },
  {
   "cell_type": "code",
   "execution_count": null,
   "id": "afe356d3-6954-4e96-8f6c-362486ffbac4",
   "metadata": {},
   "outputs": [],
   "source": [
    "def get_counties():\n",
    "    ca_gdf = \"https://opendata.arcgis.com/datasets/8713ced9b78a4abb97dc130a691a8695_0.geojson\"\n",
    "    my_gdf = to_snakecase(gpd.read_file(f\"{ca_gdf}\"))[[\"county_name\", \"geometry\"]]\n",
    "\n",
    "    return my_gdf"
   ]
  },
  {
   "cell_type": "code",
   "execution_count": null,
   "id": "bd1e4265-7660-43e8-bea1-1c773aa604d2",
   "metadata": {},
   "outputs": [],
   "source": [
    "def counties_served(gdf:gpd.GeoDataFrame)->pd.DataFrame:\n",
    "    ca_counties = get_counties()\n",
    "    counties_served = gpd.sjoin(\n",
    "    gdf,\n",
    "    ca_counties.to_crs(gdf.crs),\n",
    "    how=\"inner\",\n",
    "    predicate=\"intersects\",\n",
    ").drop(columns=\"index_right\")\n",
    "    \n",
    "    counties_served = counties_served[[\"county_name\"]].drop_duplicates()\n",
    "    display(counties_served.style.hide().hide(axis=\"columns\"))"
   ]
  },
  {
   "cell_type": "code",
   "execution_count": null,
   "id": "2a5a0ad1-1e7d-4ef9-833d-634990b09f05",
   "metadata": {},
   "outputs": [],
   "source": [
    "display(\n",
    "    Markdown(\n",
    "        f\"\"\"{organization_name} provides public transit in the following counties.\n",
    "        \"\"\"\n",
    "    )\n",
    ")"
   ]
  },
  {
   "cell_type": "code",
   "execution_count": null,
   "id": "cfadcefc-1626-43c3-a0b8-5d207b857c11",
   "metadata": {},
   "outputs": [],
   "source": [
    "counties_served(op_routes_gdf)"
   ]
  },
  {
   "cell_type": "code",
   "execution_count": null,
   "id": "d215dfac-b0e6-496f-aa77-047709a604b9",
   "metadata": {},
   "outputs": [],
   "source": [
    "display_all_routes(op_routes_gdf)"
   ]
  },
  {
   "cell_type": "markdown",
   "id": "42168214-d45a-488e-a003-b0cf623c5de1",
   "metadata": {},
   "source": [
    "### Total Service Hours"
   ]
  },
  {
   "cell_type": "code",
   "execution_count": null,
   "id": "8f38019e-6406-4363-b60f-bddf0b6d5170",
   "metadata": {},
   "outputs": [],
   "source": [
    "display(\n",
    "    HTML(\n",
    "        \"\"\"\n",
    "<style>\n",
    "form.vega-bindings {\n",
    "  position: absolute;\n",
    "  right: 0px;\n",
    "  top: 0px;\n",
    "}\n",
    "</style>\n",
    "\"\"\"\n",
    "    )\n",
    ")"
   ]
  },
  {
   "cell_type": "code",
   "execution_count": null,
   "id": "f2e2b960-7946-4406-be26-611b671d67d2",
   "metadata": {},
   "outputs": [],
   "source": [
    "monthly_scheduled_service_df_agg = _report_utils.summarize_monthly(name)"
   ]
  },
  {
   "cell_type": "code",
   "execution_count": null,
   "id": "65c5a096-7f33-4b3e-b57b-1a628940863a",
   "metadata": {},
   "outputs": [],
   "source": [
    "_report_utils.single_bar_chart_dropdown(\n",
    "    monthly_scheduled_service_df_agg,\n",
    "    \"day_type\",\n",
    "    \"ttl_service_hours\",\n",
    "    \"time_of_day\",\n",
    "    \"Total Service Hours per Month\",\n",
    "    \"full_date\",\n",
    ")"
   ]
  }
 ],
 "metadata": {
  "kernelspec": {
   "display_name": "Python 3 (ipykernel)",
   "language": "python",
   "name": "python3"
  },
  "language_info": {
   "codemirror_mode": {
    "name": "ipython",
    "version": 3
   },
   "file_extension": ".py",
   "mimetype": "text/x-python",
   "name": "python",
   "nbconvert_exporter": "python",
   "pygments_lexer": "ipython3",
   "version": "3.9.13"
  }
 },
 "nbformat": 4,
 "nbformat_minor": 5
}
