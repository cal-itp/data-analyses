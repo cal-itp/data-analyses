{
 "cells": [
  {
   "cell_type": "markdown",
   "id": "486e8f34-ec0e-4688-8e69-31e6b922f7d1",
   "metadata": {},
   "source": [
    "## Section 1: Operator Overview \n",
    "* Using the most recent month"
   ]
  },
  {
   "cell_type": "code",
   "execution_count": null,
   "id": "f0ddcdbd-d18e-4a20-a423-72298e4546ae",
   "metadata": {},
   "outputs": [],
   "source": [
    "import _report_utils\n",
    "import altair as alt\n",
    "import calitp_data_analysis.magics\n",
    "import geopandas as gpd\n",
    "import great_tables as gt\n",
    "import pandas as pd\n",
    "from calitp_data_analysis import calitp_color_palette as cp\n",
    "from calitp_data_analysis.sql import to_snakecase\n",
    "from great_tables import md\n",
    "from IPython.display import HTML, Markdown, display\n",
    "from segment_speed_utils.project_vars import RT_SCHED_GCS\n",
    "from shared_utils import catalog_utils, rt_dates, rt_utils"
   ]
  },
  {
   "cell_type": "code",
   "execution_count": null,
   "id": "563f353b-829d-4166-9921-7389ea661f93",
   "metadata": {},
   "outputs": [],
   "source": [
    "alt.renderers.enable(\"html\")\n",
    "alt.data_transformers.enable(\"default\", max_rows=None)"
   ]
  },
  {
   "cell_type": "code",
   "execution_count": null,
   "id": "aaa124e0-1d24-459c-88bb-e7934f5092c5",
   "metadata": {},
   "outputs": [],
   "source": [
    "pd.options.display.max_columns = 100\n",
    "pd.options.display.float_format = \"{:.2f}\".format\n",
    "pd.set_option(\"display.max_rows\", None)\n",
    "pd.set_option(\"display.max_colwidth\", None)"
   ]
  },
  {
   "cell_type": "code",
   "execution_count": null,
   "id": "32c53f1f-2557-48e8-a38c-af8002298c6d",
   "metadata": {},
   "outputs": [],
   "source": [
    "name = \"SBMTD Schedule\"\n",
    "organization_name = \"Santa Barbara Metropolitan Transit District\"\n",
    "selected_date = pd.to_datetime(rt_dates.DATES[\"mar2024\"])\n",
    "year = selected_date.year\n",
    "GTFS_DATA_DICT = catalog_utils.get_catalog(\"gtfs_analytics_data\")"
   ]
  },
  {
   "cell_type": "code",
   "execution_count": null,
   "id": "31095bdd-46b6-49ed-b1fa-2a2c70cce660",
   "metadata": {},
   "outputs": [],
   "source": [
    "type(selected_date)"
   ]
  },
  {
   "cell_type": "markdown",
   "id": "a532bb22-0173-4c26-9e59-7ccc2a4b45ad",
   "metadata": {},
   "source": [
    "### Route typology"
   ]
  },
  {
   "cell_type": "code",
   "execution_count": null,
   "id": "bf71343b-5f3f-4c7e-983e-a85fac836cfd",
   "metadata": {},
   "outputs": [],
   "source": [
    "display(\n",
    "    Markdown(\n",
    "        f\"\"\"{organization_name} ran <b>{op_profiles_df.operator_n_routes.values[0]}</b> \n",
    "        unique routes in {selected_date.month}/{selected_date.year}.\"\"\"\n",
    "    )\n",
    ")"
   ]
  },
  {
   "cell_type": "code",
   "execution_count": null,
   "id": "6b67f8cb-6709-4cdd-99ad-530228382391",
   "metadata": {},
   "outputs": [],
   "source": [
    "def route_typology(df: pd.DataFrame):\n",
    "    route_type_cols = [\n",
    "        \"operator_n_routes\",\n",
    "        \"n_downtown_local_routes\",\n",
    "        \"n_rapid_routes\",\n",
    "        \"n_local_routes\",\n",
    "    ]\n",
    "    df = df[route_type_cols]\n",
    "    df2 = df.T.reset_index()\n",
    "    df2 = df2.rename(columns={\"index\": \"route_type\", 0: \"total_routes\"})\n",
    "    df3 = df2.loc[df2.route_type != \"operator_n_routes\"]\n",
    "    return df3"
   ]
  },
  {
   "cell_type": "code",
   "execution_count": null,
   "id": "95010e2a-9483-4352-9afd-69009a337b3e",
   "metadata": {},
   "outputs": [],
   "source": [
    "route_typology_data = route_typology(op_profiles_df)"
   ]
  },
  {
   "cell_type": "code",
   "execution_count": null,
   "id": "c84e9be9-61ed-4326-9bb0-bdc92017f053",
   "metadata": {},
   "outputs": [],
   "source": [
    "basic_pie_chart(\n",
    "    route_typology_data, \"route_type\", \"total_routes\", \"Total Routes by Typology\"\n",
    ")"
   ]
  },
  {
   "cell_type": "markdown",
   "id": "08c27e3a-3cad-4ea7-93f7-b3eaad6e2127",
   "metadata": {},
   "source": [
    "### Operator Stops"
   ]
  },
  {
   "cell_type": "code",
   "execution_count": null,
   "id": "705a5287-b737-457f-bcb9-65f1e093bd7b",
   "metadata": {},
   "outputs": [],
   "source": [
    "display(\n",
    "    Markdown(\n",
    "        f\"\"\"This operator served <b>{op_profiles_df.operator_n_stops.values[0]}</b> different stops and each stop received   <b>{op_profiles_df.operator_arrivals_per_stop.values[0]}</b> visits, totaling to <b>{op_profiles_df.operator_n_arrivals.values[0]}</b> arrivals.\"\"\"\n",
    "    )\n",
    ")"
   ]
  },
  {
   "cell_type": "markdown",
   "id": "9aa11673-4037-4b4d-b091-b086634b785f",
   "metadata": {},
   "source": [
    "### Operator Area Coverage"
   ]
  },
  {
   "cell_type": "code",
   "execution_count": null,
   "id": "e1ed797a-8321-4261-81c4-f5cd4e434dd4",
   "metadata": {},
   "outputs": [],
   "source": [
    "op_routes_url = f\"{GTFS_DATA_DICT.digest_tables.dir}{GTFS_DATA_DICT.digest_tables.operator_routes_map}.parquet\""
   ]
  },
  {
   "cell_type": "code",
   "execution_count": null,
   "id": "4667a223-3937-4f88-af0e-2d5acbb563fb",
   "metadata": {},
   "outputs": [],
   "source": [
    "op_routes_gdf = gpd.read_parquet(\n",
    "    op_routes_url,\n",
    "    filters=[[(\"name\", \"==\", name), (\"service_date\", \"==\", selected_date)]],\n",
    ")"
   ]
  },
  {
   "cell_type": "code",
   "execution_count": null,
   "id": "660896bf-6b55-49cc-87c0-044a5e76f6bb",
   "metadata": {},
   "outputs": [],
   "source": [
    "op_routes_gdf = gpd.read_parquet(\n",
    "    op_routes_url)"
   ]
  },
  {
   "cell_type": "code",
   "execution_count": null,
   "id": "8aa51eee-d514-4e44-9d9f-931d6bcd2611",
   "metadata": {},
   "outputs": [],
   "source": [
    "display(\n",
    "    Markdown(\n",
    "        f\"\"\"{organization_name} provided <b>{op_profiles_df.operator_route_length_miles.values[0]}</b> miles of public transit.\n",
    "        The average length of a route is <b>{op_routes_gdf.route_length_miles.mean().round(2)}</b> miles.\n",
    "        \"\"\"\n",
    "    )\n",
    ")"
   ]
  },
  {
   "cell_type": "code",
   "execution_count": null,
   "id": "780c356b-addd-47b8-91f0-561e151b71d2",
   "metadata": {
    "scrolled": true,
    "tags": []
   },
   "outputs": [],
   "source": [
    "route_length_df = (\n",
    "    op_routes_gdf[[\"route_combined_name\", \"route_length_miles\"]]\n",
    "    .sort_values(by=[\"route_length_miles\"])\n",
    "    .iloc[[0, -1]]\n",
    ")"
   ]
  },
  {
   "cell_type": "code",
   "execution_count": null,
   "id": "4b116eea-d2c6-44c6-985c-01e42623c42f",
   "metadata": {},
   "outputs": [],
   "source": [
    "basic_bar_chart(route_length_df, \"route_length_miles\", \"route_combined_name\", \"Longest and Shortest Route\")"
   ]
  },
  {
   "cell_type": "code",
   "execution_count": null,
   "id": "afe356d3-6954-4e96-8f6c-362486ffbac4",
   "metadata": {},
   "outputs": [],
   "source": [
    "def get_counties():\n",
    "    ca_gdf = \"https://opendata.arcgis.com/datasets/8713ced9b78a4abb97dc130a691a8695_0.geojson\"\n",
    "    my_gdf = to_snakecase(gpd.read_file(f\"{ca_gdf}\"))[[\"county_name\", \"geometry\"]]\n",
    "\n",
    "    return my_gdf"
   ]
  },
  {
   "cell_type": "code",
   "execution_count": null,
   "id": "bd1e4265-7660-43e8-bea1-1c773aa604d2",
   "metadata": {},
   "outputs": [],
   "source": [
    "def counties_served(gdf:gpd.GeoDataFrame)->pd.DataFrame:\n",
    "    ca_counties = get_counties()\n",
    "    counties_served = gpd.sjoin(\n",
    "    gdf,\n",
    "    ca_counties.to_crs(gdf.crs),\n",
    "    how=\"inner\",\n",
    "    predicate=\"intersects\",\n",
    ").drop(columns=\"index_right\")\n",
    "    \n",
    "    counties_served = counties_served[[\"county_name\"]].drop_duplicates()\n",
    "    display(counties_served.style.hide().hide(axis=\"columns\"))"
   ]
  },
  {
   "cell_type": "code",
   "execution_count": null,
   "id": "2a5a0ad1-1e7d-4ef9-833d-634990b09f05",
   "metadata": {},
   "outputs": [],
   "source": [
    "display(\n",
    "    Markdown(\n",
    "        f\"\"\"{organization_name} provides public transit in the following counties.\n",
    "        \"\"\"\n",
    "    )\n",
    ")"
   ]
  },
  {
   "cell_type": "code",
   "execution_count": null,
   "id": "cfadcefc-1626-43c3-a0b8-5d207b857c11",
   "metadata": {},
   "outputs": [],
   "source": [
    "counties_served(op_routes_gdf)"
   ]
  },
  {
   "cell_type": "code",
   "execution_count": null,
   "id": "d215dfac-b0e6-496f-aa77-047709a604b9",
   "metadata": {},
   "outputs": [],
   "source": [
    "display_all_routes(op_routes_gdf)"
   ]
  },
  {
   "cell_type": "markdown",
   "id": "42168214-d45a-488e-a003-b0cf623c5de1",
   "metadata": {},
   "source": [
    "### Total Service Hours"
   ]
  },
  {
   "cell_type": "code",
   "execution_count": null,
   "id": "8f38019e-6406-4363-b60f-bddf0b6d5170",
   "metadata": {},
   "outputs": [],
   "source": [
    "display(\n",
    "    HTML(\n",
    "        \"\"\"\n",
    "<style>\n",
    "form.vega-bindings {\n",
    "  position: absolute;\n",
    "  right: 0px;\n",
    "  top: 0px;\n",
    "}\n",
    "</style>\n",
    "\"\"\"\n",
    "    )\n",
    ")"
   ]
  },
  {
   "cell_type": "code",
   "execution_count": null,
   "id": "f2e2b960-7946-4406-be26-611b671d67d2",
   "metadata": {},
   "outputs": [],
   "source": [
    "monthly_scheduled_service_df_agg = _report_utils.summarize_monthly(name)"
   ]
  },
  {
   "cell_type": "code",
   "execution_count": null,
   "id": "65c5a096-7f33-4b3e-b57b-1a628940863a",
   "metadata": {},
   "outputs": [],
   "source": [
    "_report_utils.single_bar_chart_dropdown(\n",
    "    monthly_scheduled_service_df_agg,\n",
    "    \"day_type\",\n",
    "    \"ttl_service_hours\",\n",
    "    \"time_of_day\",\n",
    "    \"Total Service Hours per Month\",\n",
    "    \"full_date\",\n",
    ")"
   ]
  }
 ],
 "metadata": {
  "kernelspec": {
   "display_name": "Python 3 (ipykernel)",
   "language": "python",
   "name": "python3"
  },
  "language_info": {
   "codemirror_mode": {
    "name": "ipython",
    "version": 3
   },
   "file_extension": ".py",
   "mimetype": "text/x-python",
   "name": "python",
   "nbconvert_exporter": "python",
   "pygments_lexer": "ipython3",
   "version": "3.9.13"
  }
 },
 "nbformat": 4,
 "nbformat_minor": 5
}
