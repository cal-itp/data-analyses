{
 "cells": [
  {
   "cell_type": "markdown",
   "id": "486e8f34-ec0e-4688-8e69-31e6b922f7d1",
   "metadata": {},
   "source": [
    "## Section 1: Operator Overview \n",
    "* Using the most recent month"
   ]
  },
  {
   "cell_type": "code",
   "execution_count": 7,
   "id": "f0ddcdbd-d18e-4a20-a423-72298e4546ae",
   "metadata": {},
   "outputs": [],
   "source": [
    "import _report_utils\n",
    "import _section1_utils as section1\n",
    "import altair as alt\n",
    "import calitp_data_analysis.magics\n",
    "import geopandas as gpd\n",
    "import great_tables as gt\n",
    "import pandas as pd\n",
    "from calitp_data_analysis import calitp_color_palette as cp\n",
    "from calitp_data_analysis.sql import to_snakecase\n",
    "from great_tables import md\n",
    "from IPython.display import HTML, Markdown, display\n",
    "from segment_speed_utils.project_vars import RT_SCHED_GCS\n",
    "from shared_utils import catalog_utils, rt_dates, rt_utils"
   ]
  },
  {
   "cell_type": "code",
   "execution_count": 2,
   "id": "563f353b-829d-4166-9921-7389ea661f93",
   "metadata": {},
   "outputs": [
    {
     "data": {
      "text/plain": [
       "DataTransformerRegistry.enable('default')"
      ]
     },
     "execution_count": 2,
     "metadata": {},
     "output_type": "execute_result"
    }
   ],
   "source": [
    "alt.renderers.enable(\"html\")\n",
    "alt.data_transformers.enable(\"default\", max_rows=None)"
   ]
  },
  {
   "cell_type": "code",
   "execution_count": 3,
   "id": "aaa124e0-1d24-459c-88bb-e7934f5092c5",
   "metadata": {},
   "outputs": [],
   "source": [
    "pd.options.display.max_columns = 100\n",
    "pd.options.display.float_format = \"{:.2f}\".format\n",
    "pd.set_option(\"display.max_rows\", None)\n",
    "pd.set_option(\"display.max_colwidth\", None)"
   ]
  },
  {
   "cell_type": "code",
   "execution_count": 4,
   "id": "f0e67443-276d-41c6-afc9-c784092ce881",
   "metadata": {},
   "outputs": [],
   "source": [
    "name = \"Bay Area 511 AC Transit Schedule\"\n",
    "organization_name = \"Alameda-Contra Costa Transit District\""
   ]
  },
  {
   "cell_type": "code",
   "execution_count": 5,
   "id": "09a35243-b6ab-47fb-b5d8-d8a8c1cf3dbf",
   "metadata": {},
   "outputs": [],
   "source": [
    "selected_date = pd.to_datetime(rt_dates.DATES[\"mar2024\"])\n",
    "year = selected_date.year\n",
    "GTFS_DATA_DICT = catalog_utils.get_catalog(\"gtfs_analytics_data\")"
   ]
  },
  {
   "cell_type": "markdown",
   "id": "26faac99-925a-4f63-9d5b-67732109fca7",
   "metadata": {},
   "source": [
    "### Map"
   ]
  },
  {
   "cell_type": "code",
   "execution_count": 8,
   "id": "3fec51e7-1a69-416b-b878-709b904501ac",
   "metadata": {},
   "outputs": [],
   "source": [
    "ac_transit_map = section1.load_operator_map(name)"
   ]
  },
  {
   "cell_type": "code",
   "execution_count": 9,
   "id": "9cd22713-e304-4eb3-b958-14edd7e1ee72",
   "metadata": {},
   "outputs": [
    {
     "data": {
      "text/plain": [
       "(1593, 14)"
      ]
     },
     "execution_count": 9,
     "metadata": {},
     "output_type": "execute_result"
    }
   ],
   "source": [
    "ac_transit_map.shape"
   ]
  },
  {
   "cell_type": "code",
   "execution_count": 10,
   "id": "8a20e5dc-aa5a-4e24-9db0-b8d2e4efc198",
   "metadata": {},
   "outputs": [
    {
     "data": {
      "text/plain": [
       "Index(['shape_array_key', 'geometry', 'feed_key', 'schedule_gtfs_dataset_key',\n",
       "       'direction_id', 'route_key', 'route_length', 'route_length_miles',\n",
       "       'organization_source_record_id', 'organization_name', 'service_date',\n",
       "       'name', 'route_id', 'route_combined_name'],\n",
       "      dtype='object')"
      ]
     },
     "execution_count": 10,
     "metadata": {},
     "output_type": "execute_result"
    }
   ],
   "source": [
    "ac_transit_map.columns"
   ]
  },
  {
   "cell_type": "markdown",
   "id": "4ccf8265-0d64-4af2-85a9-229c263b9045",
   "metadata": {},
   "source": [
    "### Operator Profiles"
   ]
  },
  {
   "cell_type": "code",
   "execution_count": 25,
   "id": "41f80667-c1d3-4ec6-8f18-674bef6f5801",
   "metadata": {},
   "outputs": [],
   "source": [
    "ac_transit_profile = section1.load_operator_profiles(organization_name)"
   ]
  },
  {
   "cell_type": "code",
   "execution_count": 26,
   "id": "e4875cbd-d1fd-4c49-9011-f58779c44741",
   "metadata": {},
   "outputs": [
    {
     "data": {
      "text/html": [
       "<div>\n",
       "<style scoped>\n",
       "    .dataframe tbody tr th:only-of-type {\n",
       "        vertical-align: middle;\n",
       "    }\n",
       "\n",
       "    .dataframe tbody tr th {\n",
       "        vertical-align: top;\n",
       "    }\n",
       "\n",
       "    .dataframe thead th {\n",
       "        text-align: right;\n",
       "    }\n",
       "</style>\n",
       "<table border=\"1\" class=\"dataframe\">\n",
       "  <thead>\n",
       "    <tr style=\"text-align: right;\">\n",
       "      <th></th>\n",
       "      <th>schedule_gtfs_dataset_key</th>\n",
       "      <th>operator_n_routes</th>\n",
       "      <th>operator_n_trips</th>\n",
       "      <th>operator_n_shapes</th>\n",
       "      <th>operator_n_stops</th>\n",
       "      <th>operator_n_arrivals</th>\n",
       "      <th>operator_route_length_miles</th>\n",
       "      <th>operator_arrivals_per_stop</th>\n",
       "      <th>n_coverage_routes</th>\n",
       "      <th>n_downtown_local_routes</th>\n",
       "      <th>n_local_routes</th>\n",
       "      <th>n_rapid_routes</th>\n",
       "      <th>name</th>\n",
       "      <th>organization_source_record_id</th>\n",
       "      <th>organization_name</th>\n",
       "      <th>service_date</th>\n",
       "    </tr>\n",
       "  </thead>\n",
       "  <tbody>\n",
       "    <tr>\n",
       "      <th>12</th>\n",
       "      <td>c499f905e33929a641f083dad55c521e</td>\n",
       "      <td>132</td>\n",
       "      <td>5478</td>\n",
       "      <td>346</td>\n",
       "      <td>4733</td>\n",
       "      <td>234582</td>\n",
       "      <td>1459.66</td>\n",
       "      <td>49.56</td>\n",
       "      <td>9</td>\n",
       "      <td>112</td>\n",
       "      <td>1</td>\n",
       "      <td>19</td>\n",
       "      <td>Bay Area 511 AC Transit Schedule</td>\n",
       "      <td>recOZgevYf7Jimm9L</td>\n",
       "      <td>Alameda-Contra Costa Transit District</td>\n",
       "      <td>2024-03-13</td>\n",
       "    </tr>\n",
       "  </tbody>\n",
       "</table>\n",
       "</div>"
      ],
      "text/plain": [
       "           schedule_gtfs_dataset_key  operator_n_routes  operator_n_trips  \\\n",
       "12  c499f905e33929a641f083dad55c521e                132              5478   \n",
       "\n",
       "    operator_n_shapes  operator_n_stops  operator_n_arrivals  \\\n",
       "12                346              4733               234582   \n",
       "\n",
       "    operator_route_length_miles  operator_arrivals_per_stop  \\\n",
       "12                      1459.66                       49.56   \n",
       "\n",
       "    n_coverage_routes  n_downtown_local_routes  n_local_routes  \\\n",
       "12                  9                      112               1   \n",
       "\n",
       "    n_rapid_routes                              name  \\\n",
       "12              19  Bay Area 511 AC Transit Schedule   \n",
       "\n",
       "   organization_source_record_id                      organization_name  \\\n",
       "12             recOZgevYf7Jimm9L  Alameda-Contra Costa Transit District   \n",
       "\n",
       "   service_date  \n",
       "12   2024-03-13  "
      ]
     },
     "execution_count": 26,
     "metadata": {},
     "output_type": "execute_result"
    }
   ],
   "source": [
    "ac_transit_profile"
   ]
  },
  {
   "cell_type": "code",
   "execution_count": 27,
   "id": "260a01f1-48da-4b1a-a04e-f6178a2d1ca6",
   "metadata": {},
   "outputs": [
    {
     "data": {
      "text/plain": [
       "'Bay Area 511 AC Transit Schedule'"
      ]
     },
     "execution_count": 27,
     "metadata": {},
     "output_type": "execute_result"
    }
   ],
   "source": [
    "ac_transit_profile.name.values[0]"
   ]
  }
 ],
 "metadata": {
  "kernelspec": {
   "display_name": "Python 3 (ipykernel)",
   "language": "python",
   "name": "python3"
  },
  "language_info": {
   "codemirror_mode": {
    "name": "ipython",
    "version": 3
   },
   "file_extension": ".py",
   "mimetype": "text/x-python",
   "name": "python",
   "nbconvert_exporter": "python",
   "pygments_lexer": "ipython3",
   "version": "3.9.13"
  }
 },
 "nbformat": 4,
 "nbformat_minor": 5
}
