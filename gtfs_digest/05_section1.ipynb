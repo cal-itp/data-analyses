{
 "cells": [
  {
   "cell_type": "markdown",
   "id": "486e8f34-ec0e-4688-8e69-31e6b922f7d1",
   "metadata": {},
   "source": [
    "## Section 1: Operator Overview \n",
    "* Using the most recent month"
   ]
  },
  {
   "cell_type": "code",
   "execution_count": 1,
   "id": "f0ddcdbd-d18e-4a20-a423-72298e4546ae",
   "metadata": {},
   "outputs": [],
   "source": [
    "import _report_utils\n",
    "import _section1_utils as section1\n",
    "import altair as alt\n",
    "import calitp_data_analysis.magics\n",
    "import geopandas as gpd\n",
    "import great_tables as gt\n",
    "import pandas as pd\n",
    "from calitp_data_analysis import calitp_color_palette as cp\n",
    "from calitp_data_analysis.sql import to_snakecase\n",
    "from great_tables import md\n",
    "from IPython.display import HTML, Markdown, display\n",
    "from segment_speed_utils.project_vars import RT_SCHED_GCS\n",
    "from shared_utils import catalog_utils, rt_dates, rt_utils"
   ]
  },
  {
   "cell_type": "code",
   "execution_count": 2,
   "id": "563f353b-829d-4166-9921-7389ea661f93",
   "metadata": {},
   "outputs": [
    {
     "data": {
      "text/plain": [
       "DataTransformerRegistry.enable('default')"
      ]
     },
     "execution_count": 2,
     "metadata": {},
     "output_type": "execute_result"
    }
   ],
   "source": [
    "alt.renderers.enable(\"html\")\n",
    "alt.data_transformers.enable(\"default\", max_rows=None)"
   ]
  },
  {
   "cell_type": "code",
   "execution_count": 3,
   "id": "aaa124e0-1d24-459c-88bb-e7934f5092c5",
   "metadata": {},
   "outputs": [],
   "source": [
    "pd.options.display.max_columns = 100\n",
    "pd.options.display.float_format = \"{:.2f}\".format\n",
    "pd.set_option(\"display.max_rows\", None)\n",
    "pd.set_option(\"display.max_colwidth\", None)"
   ]
  },
  {
   "cell_type": "code",
   "execution_count": 4,
   "id": "f0e67443-276d-41c6-afc9-c784092ce881",
   "metadata": {},
   "outputs": [],
   "source": [
    "name = \"Bay Area 511 AC Transit Schedule\"\n",
    "organization_name = \"Alameda-Contra Costa Transit District\""
   ]
  },
  {
   "cell_type": "code",
   "execution_count": 5,
   "id": "09a35243-b6ab-47fb-b5d8-d8a8c1cf3dbf",
   "metadata": {},
   "outputs": [],
   "source": [
    "selected_date = pd.to_datetime(rt_dates.DATES[\"mar2024\"])\n",
    "year = selected_date.year\n",
    "GTFS_DATA_DICT = catalog_utils.get_catalog(\"gtfs_analytics_data\")"
   ]
  },
  {
   "cell_type": "markdown",
   "id": "26faac99-925a-4f63-9d5b-67732109fca7",
   "metadata": {},
   "source": [
    "### Map"
   ]
  },
  {
   "cell_type": "code",
   "execution_count": null,
   "id": "3fec51e7-1a69-416b-b878-709b904501ac",
   "metadata": {},
   "outputs": [],
   "source": [
    "ac_transit_map = section1.load_operator_map(name)"
   ]
  },
  {
   "cell_type": "code",
   "execution_count": null,
   "id": "9cd22713-e304-4eb3-b958-14edd7e1ee72",
   "metadata": {},
   "outputs": [],
   "source": [
    "ac_transit_map.shape"
   ]
  },
  {
   "cell_type": "code",
   "execution_count": null,
   "id": "8a20e5dc-aa5a-4e24-9db0-b8d2e4efc198",
   "metadata": {},
   "outputs": [],
   "source": [
    "ac_transit_map.columns"
   ]
  },
  {
   "cell_type": "markdown",
   "id": "4ccf8265-0d64-4af2-85a9-229c263b9045",
   "metadata": {},
   "source": [
    "### Operator Profiles"
   ]
  },
  {
   "cell_type": "code",
   "execution_count": null,
   "id": "41f80667-c1d3-4ec6-8f18-674bef6f5801",
   "metadata": {},
   "outputs": [],
   "source": [
    "ac_transit_profile = section1.load_operator_profiles(organization_name)"
   ]
  },
  {
   "cell_type": "code",
   "execution_count": null,
   "id": "e4875cbd-d1fd-4c49-9011-f58779c44741",
   "metadata": {},
   "outputs": [],
   "source": [
    "ac_transit_profile"
   ]
  },
  {
   "cell_type": "code",
   "execution_count": null,
   "id": "260a01f1-48da-4b1a-a04e-f6178a2d1ca6",
   "metadata": {},
   "outputs": [],
   "source": [
    "ac_transit_profile.name.values[0]"
   ]
  }
 ],
 "metadata": {
  "kernelspec": {
   "display_name": "Python 3 (ipykernel)",
   "language": "python",
   "name": "python3"
  },
  "language_info": {
   "codemirror_mode": {
    "name": "ipython",
    "version": 3
   },
   "file_extension": ".py",
   "mimetype": "text/x-python",
   "name": "python",
   "nbconvert_exporter": "python",
   "pygments_lexer": "ipython3",
   "version": "3.9.13"
  }
 },
 "nbformat": 4,
 "nbformat_minor": 5
}
