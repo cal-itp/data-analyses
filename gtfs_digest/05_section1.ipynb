{
 "cells": [
  {
   "cell_type": "markdown",
   "id": "486e8f34-ec0e-4688-8e69-31e6b922f7d1",
   "metadata": {},
   "source": [
    "## Section 1: Operator Overview \n",
    "* Using the most recent month"
   ]
  },
  {
   "cell_type": "code",
   "execution_count": 1,
   "id": "f0ddcdbd-d18e-4a20-a423-72298e4546ae",
   "metadata": {},
   "outputs": [],
   "source": [
    "import _report_utils\n",
    "import _section1_utils as section1\n",
    "import altair as alt\n",
    "import calitp_data_analysis.magics\n",
    "import geopandas as gpd\n",
    "import great_tables as gt\n",
    "import pandas as pd\n",
    "from calitp_data_analysis import calitp_color_palette as cp\n",
    "from calitp_data_analysis.sql import to_snakecase\n",
    "from great_tables import md\n",
    "from IPython.display import HTML, Markdown, display\n",
    "from segment_speed_utils.project_vars import RT_SCHED_GCS\n",
    "from shared_utils import catalog_utils, rt_dates, rt_utils"
   ]
  },
  {
   "cell_type": "code",
   "execution_count": 2,
   "id": "563f353b-829d-4166-9921-7389ea661f93",
   "metadata": {},
   "outputs": [
    {
     "data": {
      "text/plain": [
       "DataTransformerRegistry.enable('default')"
      ]
     },
     "execution_count": 2,
     "metadata": {},
     "output_type": "execute_result"
    }
   ],
   "source": [
    "alt.renderers.enable(\"html\")\n",
    "alt.data_transformers.enable(\"default\", max_rows=None)"
   ]
  },
  {
   "cell_type": "code",
   "execution_count": 3,
   "id": "aaa124e0-1d24-459c-88bb-e7934f5092c5",
   "metadata": {},
   "outputs": [],
   "source": [
    "pd.options.display.max_columns = 100\n",
    "pd.options.display.float_format = \"{:.2f}\".format\n",
    "pd.set_option(\"display.max_rows\", None)\n",
    "pd.set_option(\"display.max_colwidth\", None)"
   ]
  },
  {
   "cell_type": "code",
   "execution_count": 4,
   "id": "f0e67443-276d-41c6-afc9-c784092ce881",
   "metadata": {},
   "outputs": [],
   "source": [
    "name = \"Bay Area 511 AC Transit Schedule\"\n",
    "organization_name = \"Alameda-Contra Costa Transit District\""
   ]
  },
  {
   "cell_type": "code",
   "execution_count": 5,
   "id": "09a35243-b6ab-47fb-b5d8-d8a8c1cf3dbf",
   "metadata": {},
   "outputs": [],
   "source": [
    "selected_date = pd.to_datetime(rt_dates.DATES[\"mar2024\"])\n",
    "year = selected_date.year\n",
    "GTFS_DATA_DICT = catalog_utils.get_catalog(\"gtfs_analytics_data\")"
   ]
  },
  {
   "cell_type": "code",
   "execution_count": 6,
   "id": "78a3648d-3799-4858-9e4a-11efc438bad5",
   "metadata": {},
   "outputs": [],
   "source": [
    "import yaml\n",
    "\n",
    "# Readable Dictionary\n",
    "with open(\"readable.yml\") as f:\n",
    "    readable_dict = yaml.safe_load(f)"
   ]
  },
  {
   "cell_type": "markdown",
   "id": "26faac99-925a-4f63-9d5b-67732109fca7",
   "metadata": {},
   "source": [
    "### Map"
   ]
  },
  {
   "cell_type": "code",
   "execution_count": 7,
   "id": "3fec51e7-1a69-416b-b878-709b904501ac",
   "metadata": {},
   "outputs": [],
   "source": [
    "ac_transit_map = section1.load_operator_map(name)"
   ]
  },
  {
   "cell_type": "code",
   "execution_count": 8,
   "id": "9cd22713-e304-4eb3-b958-14edd7e1ee72",
   "metadata": {},
   "outputs": [
    {
     "data": {
      "text/plain": [
       "(102, 21)"
      ]
     },
     "execution_count": 8,
     "metadata": {},
     "output_type": "execute_result"
    }
   ],
   "source": [
    "ac_transit_map.shape"
   ]
  },
  {
   "cell_type": "code",
   "execution_count": 9,
   "id": "6f1be643-9524-4981-9d94-579d2143fa2c",
   "metadata": {},
   "outputs": [],
   "source": [
    "def plot_route(route):\n",
    "    filtered_gdf = gdf[gdf[\"Route\"] == route]\n",
    "    display(\n",
    "        filtered_gdf.explore(\n",
    "            column=\"Route\",\n",
    "            cmap=\"Spectral\",\n",
    "            tiles=\"CartoDB positron\",\n",
    "            width=500,\n",
    "            height=300,\n",
    "            style_kwds={\"weight\": 3},\n",
    "            legend=False,\n",
    "            tooltip=[\"Route\", \"Service Miles\"],\n",
    "        )\n",
    "    )"
   ]
  },
  {
   "cell_type": "markdown",
   "id": "4ccf8265-0d64-4af2-85a9-229c263b9045",
   "metadata": {},
   "source": [
    "### Operator Profiles"
   ]
  },
  {
   "cell_type": "code",
   "execution_count": 10,
   "id": "41f80667-c1d3-4ec6-8f18-674bef6f5801",
   "metadata": {},
   "outputs": [],
   "source": [
    "ac_transit_profile = section1.load_operator_profiles(organization_name)"
   ]
  },
  {
   "cell_type": "code",
   "execution_count": null,
   "id": "69e86ee0-c8cc-4bba-88cf-6dcfaba55aa9",
   "metadata": {},
   "outputs": [],
   "source": []
  },
  {
   "cell_type": "code",
   "execution_count": 11,
   "id": "e4875cbd-d1fd-4c49-9011-f58779c44741",
   "metadata": {},
   "outputs": [
    {
     "data": {
      "text/html": [
       "<div>\n",
       "<style scoped>\n",
       "    .dataframe tbody tr th:only-of-type {\n",
       "        vertical-align: middle;\n",
       "    }\n",
       "\n",
       "    .dataframe tbody tr th {\n",
       "        vertical-align: top;\n",
       "    }\n",
       "\n",
       "    .dataframe thead th {\n",
       "        text-align: right;\n",
       "    }\n",
       "</style>\n",
       "<table border=\"1\" class=\"dataframe\">\n",
       "  <thead>\n",
       "    <tr style=\"text-align: right;\">\n",
       "      <th></th>\n",
       "      <th>schedule_gtfs_dataset_key</th>\n",
       "      <th># Routes</th>\n",
       "      <th># Trips</th>\n",
       "      <th># Shapes</th>\n",
       "      <th># Stops</th>\n",
       "      <th># Arrivals</th>\n",
       "      <th>Operator Service Miles</th>\n",
       "      <th>Avg Arrivals per Stop</th>\n",
       "      <th># Downtown Local Route Types</th>\n",
       "      <th># Local Route Types</th>\n",
       "      <th># Coverage Route Types</th>\n",
       "      <th># Rapid Route Types</th>\n",
       "      <th># Express Route Types</th>\n",
       "      <th># Rail Route Types</th>\n",
       "      <th>Transit Operator</th>\n",
       "      <th>Organization ID</th>\n",
       "      <th>Organization</th>\n",
       "      <th>Date</th>\n",
       "    </tr>\n",
       "  </thead>\n",
       "  <tbody>\n",
       "    <tr>\n",
       "      <th>13</th>\n",
       "      <td>c499f905e33929a641f083dad55c521e</td>\n",
       "      <td>132</td>\n",
       "      <td>5478</td>\n",
       "      <td>346</td>\n",
       "      <td>4733</td>\n",
       "      <td>234582</td>\n",
       "      <td>1459.66</td>\n",
       "      <td>49.56</td>\n",
       "      <td>179</td>\n",
       "      <td>21</td>\n",
       "      <td>44</td>\n",
       "      <td>94</td>\n",
       "      <td>2</td>\n",
       "      <td>0</td>\n",
       "      <td>Bay Area 511 AC Transit Schedule</td>\n",
       "      <td>recOZgevYf7Jimm9L</td>\n",
       "      <td>Alameda-Contra Costa Transit District</td>\n",
       "      <td>2024-04-17</td>\n",
       "    </tr>\n",
       "  </tbody>\n",
       "</table>\n",
       "</div>"
      ],
      "text/plain": [
       "           schedule_gtfs_dataset_key  # Routes  # Trips  # Shapes  # Stops  \\\n",
       "13  c499f905e33929a641f083dad55c521e       132     5478       346     4733   \n",
       "\n",
       "    # Arrivals  Operator Service Miles  Avg Arrivals per Stop  \\\n",
       "13      234582                 1459.66                  49.56   \n",
       "\n",
       "    # Downtown Local Route Types  # Local Route Types  # Coverage Route Types  \\\n",
       "13                           179                   21                      44   \n",
       "\n",
       "    # Rapid Route Types  # Express Route Types  # Rail Route Types  \\\n",
       "13                   94                      2                   0   \n",
       "\n",
       "                    Transit Operator    Organization ID  \\\n",
       "13  Bay Area 511 AC Transit Schedule  recOZgevYf7Jimm9L   \n",
       "\n",
       "                             Organization       Date  \n",
       "13  Alameda-Contra Costa Transit District 2024-04-17  "
      ]
     },
     "execution_count": 11,
     "metadata": {},
     "output_type": "execute_result"
    }
   ],
   "source": [
    "ac_transit_profile"
   ]
  },
  {
   "cell_type": "code",
   "execution_count": 12,
   "id": "b429a257-ac15-419b-aec1-19c6b7381dbf",
   "metadata": {},
   "outputs": [
    {
     "data": {
      "text/plain": [
       "Index(['schedule_gtfs_dataset_key', '# Routes', '# Trips', '# Shapes',\n",
       "       '# Stops', '# Arrivals', 'Operator Service Miles',\n",
       "       'Avg Arrivals per Stop', '# Downtown Local Route Types',\n",
       "       '# Local Route Types', '# Coverage Route Types', '# Rapid Route Types',\n",
       "       '# Express Route Types', '# Rail Route Types', 'Transit Operator',\n",
       "       'Organization ID', 'Organization', 'Date'],\n",
       "      dtype='object')"
      ]
     },
     "execution_count": 12,
     "metadata": {},
     "output_type": "execute_result"
    }
   ],
   "source": [
    "ac_transit_profile.columns"
   ]
  },
  {
   "cell_type": "markdown",
   "id": "74e6069a-1716-427a-82c7-4ed583d31b53",
   "metadata": {},
   "source": [
    "#### Original"
   ]
  },
  {
   "cell_type": "code",
   "execution_count": null,
   "id": "c612d3d7-04bc-4ed5-aaf9-5787e4998300",
   "metadata": {},
   "outputs": [],
   "source": [
    "op_profiles_url = f\"{GTFS_DATA_DICT.digest_tables.dir}{GTFS_DATA_DICT.digest_tables.operator_profiles}.parquet\"\n",
    "\n",
    "op_profiles_df = pd.read_parquet(op_profiles_url)"
   ]
  },
  {
   "cell_type": "code",
   "execution_count": null,
   "id": "46d0d110-bfee-4237-bcd7-7ed72b512ea6",
   "metadata": {},
   "outputs": [],
   "source": [
    "op_profiles_df1 = op_profiles_df.sort_values(by=[\"service_date\"], ascending=False)"
   ]
  },
  {
   "cell_type": "code",
   "execution_count": null,
   "id": "23e7a94e-6437-4de5-a404-1030b9d9aad1",
   "metadata": {},
   "outputs": [],
   "source": [
    "op_profiles_df1.columns"
   ]
  },
  {
   "cell_type": "code",
   "execution_count": null,
   "id": "d6334a73-f81f-4ca8-bad2-347aa64d7c98",
   "metadata": {},
   "outputs": [],
   "source": [
    "op_profiles_df1.drop_duplicates(subset=[\"organization_name\"])[\n",
    "    [\"service_date\"]\n",
    "].describe()"
   ]
  },
  {
   "cell_type": "markdown",
   "id": "3182123f-8264-4845-a103-d7036589ed4e",
   "metadata": {},
   "source": [
    "### Operators who don't have profile info from the most recent service_date but have stuff for sched_vp\n",
    "* City of Torrance\t\n",
    "* Stanislaus Regional Transit Authority"
   ]
  },
  {
   "cell_type": "code",
   "execution_count": null,
   "id": "73fa8e12-52d5-480c-a2bc-94bd3d7b99f1",
   "metadata": {
    "scrolled": true,
    "tags": []
   },
   "outputs": [],
   "source": [
    "op_profiles2 = op_profiles_df1.drop_duplicates(subset=[\"organization_name\"])[\n",
    "    [\"organization_name\", \"service_date\"]\n",
    "]"
   ]
  },
  {
   "cell_type": "code",
   "execution_count": null,
   "id": "7dd38d4e-19cb-494f-8ce9-4392b2ceee65",
   "metadata": {},
   "outputs": [],
   "source": [
    "# op_profiles2.loc[op_profiles2.service_date < '2024-04-17'].sort_values(by = ['organization_name'])"
   ]
  },
  {
   "cell_type": "markdown",
   "id": "85f5f8db-b4b1-4e79-9e97-b5b4471f5837",
   "metadata": {},
   "source": [
    "### Total Service\n",
    "* Checking Eric's data.\n",
    "* Big Blue Bus Schedule\n",
    "* https://dbt-docs.calitp.org/#!/model/model.calitp_warehouse.fct_monthly_route_service_by_timeofday\n",
    "* TTL_service_hours: Total scheduled service hours that occurred for the route for this month, day_type, and time_of_day."
   ]
  },
  {
   "cell_type": "markdown",
   "id": "97773192-a906-4b2a-94c9-10b703e3ff89",
   "metadata": {},
   "source": [
    "### Total Monthly Service Hours"
   ]
  },
  {
   "cell_type": "code",
   "execution_count": null,
   "id": "f77c11ef-68f7-4b23-bbba-b13c52c9586b",
   "metadata": {},
   "outputs": [],
   "source": [
    "agg_df = section1.total_monthly_service(\"Big Blue Bus Schedule\")"
   ]
  },
  {
   "cell_type": "code",
   "execution_count": null,
   "id": "3dcb0f7c-7686-43f4-b31a-6b6d92e15b07",
   "metadata": {},
   "outputs": [],
   "source": [
    "agg_df.head(2)"
   ]
  },
  {
   "cell_type": "code",
   "execution_count": null,
   "id": "f6c51ebd-1896-4d59-b04f-e6666d11b7da",
   "metadata": {},
   "outputs": [],
   "source": [
    "section1.single_bar_chart_dropdown(\n",
    "    agg_df,\n",
    "    \"Day of Week\",\n",
    "    \"Total Service (hours)\",\n",
    "    \"Time of Day\",\n",
    "    readable_dict[\"total_scheduled_hours\"][\"title\"],\n",
    "    \"full_date\",\n",
    "    readable_dict[\"total_scheduled_hours\"][\"subtitle\"],\n",
    ")"
   ]
  },
  {
   "cell_type": "code",
   "execution_count": null,
   "id": "9a7ac60c-3468-4c93-9024-e26235ed8bb2",
   "metadata": {},
   "outputs": [],
   "source": [
    "section1.single_bar_chart_dropdown(\n",
    "    agg_df,\n",
    "    \"Day of Week\",\n",
    "    \"Daily Service Hours\",\n",
    "    \"Time of Day\",\n",
    "    \"Daily Scheduled Service Hours by Time of Day\",\n",
    "    \"full_date\",\n",
    "    readable_dict[\"total_scheduled_hours\"][\"subtitle\"],\n",
    ")"
   ]
  }
 ],
 "metadata": {
  "kernelspec": {
   "display_name": "Python 3 (ipykernel)",
   "language": "python",
   "name": "python3"
  },
  "language_info": {
   "codemirror_mode": {
    "name": "ipython",
    "version": 3
   },
   "file_extension": ".py",
   "mimetype": "text/x-python",
   "name": "python",
   "nbconvert_exporter": "python",
   "pygments_lexer": "ipython3",
   "version": "3.9.13"
  }
 },
 "nbformat": 4,
 "nbformat_minor": 5
}
