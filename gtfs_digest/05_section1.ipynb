{
 "cells": [
  {
   "cell_type": "markdown",
   "id": "486e8f34-ec0e-4688-8e69-31e6b922f7d1",
   "metadata": {},
   "source": [
    "## Section 1: Operator Overview \n",
    "* Using the most recent month"
   ]
  },
  {
   "cell_type": "code",
   "execution_count": 1,
   "id": "f0ddcdbd-d18e-4a20-a423-72298e4546ae",
   "metadata": {},
   "outputs": [],
   "source": [
    "import _report_utils\n",
    "import _section1_utils as section1\n",
    "import altair as alt\n",
    "import calitp_data_analysis.magics\n",
    "import geopandas as gpd\n",
    "import great_tables as gt\n",
    "import pandas as pd\n",
    "from calitp_data_analysis import calitp_color_palette as cp\n",
    "from calitp_data_analysis.sql import to_snakecase\n",
    "from great_tables import md\n",
    "from IPython.display import HTML, Markdown, display\n",
    "from segment_speed_utils.project_vars import RT_SCHED_GCS\n",
    "from shared_utils import catalog_utils, rt_dates, rt_utils"
   ]
  },
  {
   "cell_type": "code",
   "execution_count": 2,
   "id": "563f353b-829d-4166-9921-7389ea661f93",
   "metadata": {},
   "outputs": [
    {
     "data": {
      "text/plain": [
       "DataTransformerRegistry.enable('default')"
      ]
     },
     "execution_count": 2,
     "metadata": {},
     "output_type": "execute_result"
    }
   ],
   "source": [
    "alt.renderers.enable(\"html\")\n",
    "alt.data_transformers.enable(\"default\", max_rows=None)"
   ]
  },
  {
   "cell_type": "code",
   "execution_count": 3,
   "id": "aaa124e0-1d24-459c-88bb-e7934f5092c5",
   "metadata": {},
   "outputs": [],
   "source": [
    "pd.options.display.max_columns = 100\n",
    "pd.options.display.float_format = \"{:.2f}\".format\n",
    "pd.set_option(\"display.max_rows\", None)\n",
    "pd.set_option(\"display.max_colwidth\", None)"
   ]
  },
  {
   "cell_type": "code",
   "execution_count": 4,
   "id": "f0e67443-276d-41c6-afc9-c784092ce881",
   "metadata": {},
   "outputs": [],
   "source": [
    "name = \"Bay Area 511 AC Transit Schedule\"\n",
    "organization_name = \"Alameda-Contra Costa Transit District\""
   ]
  },
  {
   "cell_type": "code",
   "execution_count": 5,
   "id": "09a35243-b6ab-47fb-b5d8-d8a8c1cf3dbf",
   "metadata": {},
   "outputs": [],
   "source": [
    "selected_date = pd.to_datetime(rt_dates.DATES[\"mar2024\"])\n",
    "year = selected_date.year\n",
    "GTFS_DATA_DICT = catalog_utils.get_catalog(\"gtfs_analytics_data\")"
   ]
  },
  {
   "cell_type": "markdown",
   "id": "26faac99-925a-4f63-9d5b-67732109fca7",
   "metadata": {},
   "source": [
    "### Map"
   ]
  },
  {
   "cell_type": "code",
   "execution_count": 6,
   "id": "3fec51e7-1a69-416b-b878-709b904501ac",
   "metadata": {},
   "outputs": [],
   "source": [
    "ac_transit_map = section1.load_operator_map(name)"
   ]
  },
  {
   "cell_type": "code",
   "execution_count": 7,
   "id": "9cd22713-e304-4eb3-b958-14edd7e1ee72",
   "metadata": {},
   "outputs": [
    {
     "data": {
      "text/plain": [
       "(132, 15)"
      ]
     },
     "execution_count": 7,
     "metadata": {},
     "output_type": "execute_result"
    }
   ],
   "source": [
    "ac_transit_map.shape"
   ]
  },
  {
   "cell_type": "code",
   "execution_count": 8,
   "id": "8a20e5dc-aa5a-4e24-9db0-b8d2e4efc198",
   "metadata": {},
   "outputs": [
    {
     "data": {
      "text/plain": [
       "Index(['shape_array_key', 'geometry', 'feed_key', 'schedule_gtfs_dataset_key',\n",
       "       'Direction', 'route_key', 'service meters', 'service miles',\n",
       "       'Organization ID', 'Organization', 'Transit Operator',\n",
       "       'route_long_name', 'route_short_name', 'Route', 'Route ID'],\n",
       "      dtype='object')"
      ]
     },
     "execution_count": 8,
     "metadata": {},
     "output_type": "execute_result"
    }
   ],
   "source": [
    "ac_transit_map.columns"
   ]
  },
  {
   "cell_type": "markdown",
   "id": "4ccf8265-0d64-4af2-85a9-229c263b9045",
   "metadata": {},
   "source": [
    "### Operator Profiles"
   ]
  },
  {
   "cell_type": "code",
   "execution_count": 9,
   "id": "41f80667-c1d3-4ec6-8f18-674bef6f5801",
   "metadata": {},
   "outputs": [],
   "source": [
    "ac_transit_profile = section1.load_operator_profiles(organization_name)"
   ]
  },
  {
   "cell_type": "code",
   "execution_count": 10,
   "id": "e4875cbd-d1fd-4c49-9011-f58779c44741",
   "metadata": {},
   "outputs": [
    {
     "data": {
      "text/html": [
       "<div>\n",
       "<style scoped>\n",
       "    .dataframe tbody tr th:only-of-type {\n",
       "        vertical-align: middle;\n",
       "    }\n",
       "\n",
       "    .dataframe tbody tr th {\n",
       "        vertical-align: top;\n",
       "    }\n",
       "\n",
       "    .dataframe thead th {\n",
       "        text-align: right;\n",
       "    }\n",
       "</style>\n",
       "<table border=\"1\" class=\"dataframe\">\n",
       "  <thead>\n",
       "    <tr style=\"text-align: right;\">\n",
       "      <th></th>\n",
       "      <th>schedule_gtfs_dataset_key</th>\n",
       "      <th># routes</th>\n",
       "      <th># trips</th>\n",
       "      <th># shapes</th>\n",
       "      <th># stops</th>\n",
       "      <th># arrivals</th>\n",
       "      <th>service miles</th>\n",
       "      <th>avg arrivals per stop</th>\n",
       "      <th># downtown local route types</th>\n",
       "      <th># local route types</th>\n",
       "      <th># rapid route types</th>\n",
       "      <th># coverage route types</th>\n",
       "      <th>Transit Operator</th>\n",
       "      <th>Organization ID</th>\n",
       "      <th>Organization</th>\n",
       "      <th>Date</th>\n",
       "    </tr>\n",
       "  </thead>\n",
       "  <tbody>\n",
       "    <tr>\n",
       "      <th>13</th>\n",
       "      <td>c499f905e33929a641f083dad55c521e</td>\n",
       "      <td>132</td>\n",
       "      <td>5478</td>\n",
       "      <td>346</td>\n",
       "      <td>4733</td>\n",
       "      <td>234582</td>\n",
       "      <td>1459.66</td>\n",
       "      <td>49.56</td>\n",
       "      <td>179</td>\n",
       "      <td>21</td>\n",
       "      <td>92</td>\n",
       "      <td>44</td>\n",
       "      <td>Bay Area 511 AC Transit Schedule</td>\n",
       "      <td>recOZgevYf7Jimm9L</td>\n",
       "      <td>Alameda-Contra Costa Transit District</td>\n",
       "      <td>2024-04-17</td>\n",
       "    </tr>\n",
       "  </tbody>\n",
       "</table>\n",
       "</div>"
      ],
      "text/plain": [
       "           schedule_gtfs_dataset_key  # routes  # trips  # shapes  # stops  \\\n",
       "13  c499f905e33929a641f083dad55c521e       132     5478       346     4733   \n",
       "\n",
       "    # arrivals  service miles  avg arrivals per stop  \\\n",
       "13      234582        1459.66                  49.56   \n",
       "\n",
       "    # downtown local route types  # local route types  # rapid route types  \\\n",
       "13                           179                   21                   92   \n",
       "\n",
       "    # coverage route types                  Transit Operator  \\\n",
       "13                      44  Bay Area 511 AC Transit Schedule   \n",
       "\n",
       "      Organization ID                           Organization       Date  \n",
       "13  recOZgevYf7Jimm9L  Alameda-Contra Costa Transit District 2024-04-17  "
      ]
     },
     "execution_count": 10,
     "metadata": {},
     "output_type": "execute_result"
    }
   ],
   "source": [
    "ac_transit_profile"
   ]
  },
  {
   "cell_type": "markdown",
   "id": "74e6069a-1716-427a-82c7-4ed583d31b53",
   "metadata": {},
   "source": [
    "#### Original"
   ]
  },
  {
   "cell_type": "code",
   "execution_count": 12,
   "id": "c612d3d7-04bc-4ed5-aaf9-5787e4998300",
   "metadata": {},
   "outputs": [],
   "source": [
    "op_profiles_url = f\"{GTFS_DATA_DICT.digest_tables.dir}{GTFS_DATA_DICT.digest_tables.operator_profiles}.parquet\"\n",
    "\n",
    "op_profiles_df = pd.read_parquet(\n",
    "    op_profiles_url)"
   ]
  },
  {
   "cell_type": "code",
   "execution_count": 13,
   "id": "46d0d110-bfee-4237-bcd7-7ed72b512ea6",
   "metadata": {},
   "outputs": [],
   "source": [
    "op_profiles_df1 = op_profiles_df.sort_values(by = ['service_date'], ascending = False)"
   ]
  },
  {
   "cell_type": "code",
   "execution_count": 16,
   "id": "23e7a94e-6437-4de5-a404-1030b9d9aad1",
   "metadata": {},
   "outputs": [
    {
     "data": {
      "text/plain": [
       "Index(['schedule_gtfs_dataset_key', 'operator_n_routes', 'operator_n_trips',\n",
       "       'operator_n_shapes', 'operator_n_stops', 'operator_n_arrivals',\n",
       "       'operator_route_length_miles', 'operator_arrivals_per_stop',\n",
       "       'n_downtown_local_routes', 'n_local_routes', 'n_rapid_routes',\n",
       "       'n_coverage_routes', 'name', 'organization_source_record_id',\n",
       "       'organization_name', 'service_date'],\n",
       "      dtype='object')"
      ]
     },
     "execution_count": 16,
     "metadata": {},
     "output_type": "execute_result"
    }
   ],
   "source": [
    "op_profiles_df1.columns"
   ]
  },
  {
   "cell_type": "code",
   "execution_count": 19,
   "id": "d6334a73-f81f-4ca8-bad2-347aa64d7c98",
   "metadata": {},
   "outputs": [
    {
     "name": "stderr",
     "output_type": "stream",
     "text": [
      "/tmp/ipykernel_1385/18351425.py:1: FutureWarning: Treating datetime data as categorical rather than numeric in `.describe` is deprecated and will be removed in a future version of pandas. Specify `datetime_is_numeric=True` to silence this warning and adopt the future behavior now.\n",
      "  op_profiles_df1.drop_duplicates(subset = ['organization_name'])[['service_date']].describe()\n"
     ]
    },
    {
     "data": {
      "text/html": [
       "<div>\n",
       "<style scoped>\n",
       "    .dataframe tbody tr th:only-of-type {\n",
       "        vertical-align: middle;\n",
       "    }\n",
       "\n",
       "    .dataframe tbody tr th {\n",
       "        vertical-align: top;\n",
       "    }\n",
       "\n",
       "    .dataframe thead th {\n",
       "        text-align: right;\n",
       "    }\n",
       "</style>\n",
       "<table border=\"1\" class=\"dataframe\">\n",
       "  <thead>\n",
       "    <tr style=\"text-align: right;\">\n",
       "      <th></th>\n",
       "      <th>service_date</th>\n",
       "    </tr>\n",
       "  </thead>\n",
       "  <tbody>\n",
       "    <tr>\n",
       "      <th>count</th>\n",
       "      <td>171</td>\n",
       "    </tr>\n",
       "    <tr>\n",
       "      <th>unique</th>\n",
       "      <td>11</td>\n",
       "    </tr>\n",
       "    <tr>\n",
       "      <th>top</th>\n",
       "      <td>2024-04-17 00:00:00</td>\n",
       "    </tr>\n",
       "    <tr>\n",
       "      <th>freq</th>\n",
       "      <td>139</td>\n",
       "    </tr>\n",
       "    <tr>\n",
       "      <th>first</th>\n",
       "      <td>2023-03-15 00:00:00</td>\n",
       "    </tr>\n",
       "    <tr>\n",
       "      <th>last</th>\n",
       "      <td>2024-04-17 00:00:00</td>\n",
       "    </tr>\n",
       "  </tbody>\n",
       "</table>\n",
       "</div>"
      ],
      "text/plain": [
       "               service_date\n",
       "count                   171\n",
       "unique                   11\n",
       "top     2024-04-17 00:00:00\n",
       "freq                    139\n",
       "first   2023-03-15 00:00:00\n",
       "last    2024-04-17 00:00:00"
      ]
     },
     "execution_count": 19,
     "metadata": {},
     "output_type": "execute_result"
    }
   ],
   "source": [
    "op_profiles_df1.drop_duplicates(subset = ['organization_name'])[['service_date']].describe()"
   ]
  },
  {
   "cell_type": "markdown",
   "id": "3182123f-8264-4845-a103-d7036589ed4e",
   "metadata": {},
   "source": [
    "### Operators who don't have profile info from the most recent service_date but have stuff for sched_vp\n",
    "* City of Torrance\t\n",
    "* Stanislaus Regional Transit Authority"
   ]
  },
  {
   "cell_type": "code",
   "execution_count": 22,
   "id": "73fa8e12-52d5-480c-a2bc-94bd3d7b99f1",
   "metadata": {
    "scrolled": true,
    "tags": []
   },
   "outputs": [],
   "source": [
    "op_profiles2 = op_profiles_df1.drop_duplicates(subset = ['organization_name'])[['organization_name','service_date']]"
   ]
  },
  {
   "cell_type": "code",
   "execution_count": 27,
   "id": "7dd38d4e-19cb-494f-8ce9-4392b2ceee65",
   "metadata": {},
   "outputs": [],
   "source": [
    "# op_profiles2.loc[op_profiles2.service_date < '2024-04-17'].sort_values(by = ['organization_name'])"
   ]
  },
  {
   "cell_type": "code",
   "execution_count": 29,
   "id": "40f132ab-6d76-4c15-9ed1-549f81a8bf93",
   "metadata": {},
   "outputs": [
    {
     "data": {
      "text/html": [
       "<div>\n",
       "<style scoped>\n",
       "    .dataframe tbody tr th:only-of-type {\n",
       "        vertical-align: middle;\n",
       "    }\n",
       "\n",
       "    .dataframe tbody tr th {\n",
       "        vertical-align: top;\n",
       "    }\n",
       "\n",
       "    .dataframe thead th {\n",
       "        text-align: right;\n",
       "    }\n",
       "</style>\n",
       "<table border=\"1\" class=\"dataframe\">\n",
       "  <thead>\n",
       "    <tr style=\"text-align: right;\">\n",
       "      <th></th>\n",
       "      <th>organization_name</th>\n",
       "      <th>service_date</th>\n",
       "    </tr>\n",
       "  </thead>\n",
       "  <tbody>\n",
       "    <tr>\n",
       "      <th>1595</th>\n",
       "      <td>Stanislaus Regional Transit Authority</td>\n",
       "      <td>2024-03-13</td>\n",
       "    </tr>\n",
       "    <tr>\n",
       "      <th>348</th>\n",
       "      <td>City of Torrance</td>\n",
       "      <td>2024-02-14</td>\n",
       "    </tr>\n",
       "    <tr>\n",
       "      <th>1594</th>\n",
       "      <td>Stanislaus Regional Transit Authority</td>\n",
       "      <td>2024-01-17</td>\n",
       "    </tr>\n",
       "    <tr>\n",
       "      <th>347</th>\n",
       "      <td>City of Torrance</td>\n",
       "      <td>2024-01-17</td>\n",
       "    </tr>\n",
       "    <tr>\n",
       "      <th>1593</th>\n",
       "      <td>Stanislaus Regional Transit Authority</td>\n",
       "      <td>2023-12-13</td>\n",
       "    </tr>\n",
       "    <tr>\n",
       "      <th>346</th>\n",
       "      <td>City of Torrance</td>\n",
       "      <td>2023-12-13</td>\n",
       "    </tr>\n",
       "    <tr>\n",
       "      <th>345</th>\n",
       "      <td>City of Torrance</td>\n",
       "      <td>2023-11-15</td>\n",
       "    </tr>\n",
       "    <tr>\n",
       "      <th>1592</th>\n",
       "      <td>Stanislaus Regional Transit Authority</td>\n",
       "      <td>2023-11-15</td>\n",
       "    </tr>\n",
       "    <tr>\n",
       "      <th>344</th>\n",
       "      <td>City of Torrance</td>\n",
       "      <td>2023-10-11</td>\n",
       "    </tr>\n",
       "    <tr>\n",
       "      <th>318</th>\n",
       "      <td>Stanislaus Regional Transit Authority</td>\n",
       "      <td>2023-10-11</td>\n",
       "    </tr>\n",
       "    <tr>\n",
       "      <th>317</th>\n",
       "      <td>Stanislaus Regional Transit Authority</td>\n",
       "      <td>2023-09-13</td>\n",
       "    </tr>\n",
       "    <tr>\n",
       "      <th>343</th>\n",
       "      <td>City of Torrance</td>\n",
       "      <td>2023-09-13</td>\n",
       "    </tr>\n",
       "    <tr>\n",
       "      <th>342</th>\n",
       "      <td>City of Torrance</td>\n",
       "      <td>2023-08-15</td>\n",
       "    </tr>\n",
       "    <tr>\n",
       "      <th>316</th>\n",
       "      <td>Stanislaus Regional Transit Authority</td>\n",
       "      <td>2023-08-15</td>\n",
       "    </tr>\n",
       "    <tr>\n",
       "      <th>341</th>\n",
       "      <td>City of Torrance</td>\n",
       "      <td>2023-07-12</td>\n",
       "    </tr>\n",
       "    <tr>\n",
       "      <th>315</th>\n",
       "      <td>Stanislaus Regional Transit Authority</td>\n",
       "      <td>2023-07-12</td>\n",
       "    </tr>\n",
       "    <tr>\n",
       "      <th>340</th>\n",
       "      <td>City of Torrance</td>\n",
       "      <td>2023-06-14</td>\n",
       "    </tr>\n",
       "    <tr>\n",
       "      <th>314</th>\n",
       "      <td>Stanislaus Regional Transit Authority</td>\n",
       "      <td>2023-06-14</td>\n",
       "    </tr>\n",
       "    <tr>\n",
       "      <th>313</th>\n",
       "      <td>Stanislaus Regional Transit Authority</td>\n",
       "      <td>2023-05-17</td>\n",
       "    </tr>\n",
       "    <tr>\n",
       "      <th>339</th>\n",
       "      <td>City of Torrance</td>\n",
       "      <td>2023-05-17</td>\n",
       "    </tr>\n",
       "    <tr>\n",
       "      <th>338</th>\n",
       "      <td>City of Torrance</td>\n",
       "      <td>2023-04-12</td>\n",
       "    </tr>\n",
       "    <tr>\n",
       "      <th>312</th>\n",
       "      <td>Stanislaus Regional Transit Authority</td>\n",
       "      <td>2023-04-12</td>\n",
       "    </tr>\n",
       "    <tr>\n",
       "      <th>502</th>\n",
       "      <td>Stanislaus Regional Transit Authority</td>\n",
       "      <td>2023-03-15</td>\n",
       "    </tr>\n",
       "    <tr>\n",
       "      <th>337</th>\n",
       "      <td>City of Torrance</td>\n",
       "      <td>2023-03-15</td>\n",
       "    </tr>\n",
       "  </tbody>\n",
       "</table>\n",
       "</div>"
      ],
      "text/plain": [
       "                          organization_name service_date\n",
       "1595  Stanislaus Regional Transit Authority   2024-03-13\n",
       "348                        City of Torrance   2024-02-14\n",
       "1594  Stanislaus Regional Transit Authority   2024-01-17\n",
       "347                        City of Torrance   2024-01-17\n",
       "1593  Stanislaus Regional Transit Authority   2023-12-13\n",
       "346                        City of Torrance   2023-12-13\n",
       "345                        City of Torrance   2023-11-15\n",
       "1592  Stanislaus Regional Transit Authority   2023-11-15\n",
       "344                        City of Torrance   2023-10-11\n",
       "318   Stanislaus Regional Transit Authority   2023-10-11\n",
       "317   Stanislaus Regional Transit Authority   2023-09-13\n",
       "343                        City of Torrance   2023-09-13\n",
       "342                        City of Torrance   2023-08-15\n",
       "316   Stanislaus Regional Transit Authority   2023-08-15\n",
       "341                        City of Torrance   2023-07-12\n",
       "315   Stanislaus Regional Transit Authority   2023-07-12\n",
       "340                        City of Torrance   2023-06-14\n",
       "314   Stanislaus Regional Transit Authority   2023-06-14\n",
       "313   Stanislaus Regional Transit Authority   2023-05-17\n",
       "339                        City of Torrance   2023-05-17\n",
       "338                        City of Torrance   2023-04-12\n",
       "312   Stanislaus Regional Transit Authority   2023-04-12\n",
       "502   Stanislaus Regional Transit Authority   2023-03-15\n",
       "337                        City of Torrance   2023-03-15"
      ]
     },
     "execution_count": 29,
     "metadata": {},
     "output_type": "execute_result"
    }
   ],
   "source": [
    "op_profiles_df1.loc[op_profiles_df1.organization_name.isin(['City of Torrance','Stanislaus Regional Transit Authority'])][['organization_name','service_date']]"
   ]
  }
 ],
 "metadata": {
  "kernelspec": {
   "display_name": "Python 3 (ipykernel)",
   "language": "python",
   "name": "python3"
  },
  "language_info": {
   "codemirror_mode": {
    "name": "ipython",
    "version": 3
   },
   "file_extension": ".py",
   "mimetype": "text/x-python",
   "name": "python",
   "nbconvert_exporter": "python",
   "pygments_lexer": "ipython3",
   "version": "3.9.13"
  }
 },
 "nbformat": 4,
 "nbformat_minor": 5
}
