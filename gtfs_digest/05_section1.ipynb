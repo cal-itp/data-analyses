{
 "cells": [
  {
   "cell_type": "markdown",
   "id": "486e8f34-ec0e-4688-8e69-31e6b922f7d1",
   "metadata": {},
   "source": [
    "## Section 1: Operator Overview \n",
    "* Using the most recent month"
   ]
  },
  {
   "cell_type": "code",
   "execution_count": 1,
   "id": "f0ddcdbd-d18e-4a20-a423-72298e4546ae",
   "metadata": {},
   "outputs": [],
   "source": [
    "import _report_utils\n",
    "import _section1_utils as section1\n",
    "import altair as alt\n",
    "import calitp_data_analysis.magics\n",
    "import geopandas as gpd\n",
    "import great_tables as gt\n",
    "import pandas as pd\n",
    "from calitp_data_analysis import calitp_color_palette as cp\n",
    "from calitp_data_analysis.sql import to_snakecase\n",
    "from great_tables import md\n",
    "from IPython.display import HTML, Markdown, display\n",
    "from segment_speed_utils.project_vars import RT_SCHED_GCS\n",
    "from shared_utils import catalog_utils, rt_dates, rt_utils"
   ]
  },
  {
   "cell_type": "code",
   "execution_count": 2,
   "id": "563f353b-829d-4166-9921-7389ea661f93",
   "metadata": {},
   "outputs": [
    {
     "data": {
      "text/plain": [
       "DataTransformerRegistry.enable('default')"
      ]
     },
     "execution_count": 2,
     "metadata": {},
     "output_type": "execute_result"
    }
   ],
   "source": [
    "alt.renderers.enable(\"html\")\n",
    "alt.data_transformers.enable(\"default\", max_rows=None)"
   ]
  },
  {
   "cell_type": "code",
   "execution_count": 3,
   "id": "aaa124e0-1d24-459c-88bb-e7934f5092c5",
   "metadata": {},
   "outputs": [],
   "source": [
    "pd.options.display.max_columns = 100\n",
    "pd.options.display.float_format = \"{:.2f}\".format\n",
    "pd.set_option(\"display.max_rows\", None)\n",
    "pd.set_option(\"display.max_colwidth\", None)"
   ]
  },
  {
   "cell_type": "code",
   "execution_count": 4,
   "id": "f0e67443-276d-41c6-afc9-c784092ce881",
   "metadata": {},
   "outputs": [],
   "source": [
    "name = \"Bay Area 511 AC Transit Schedule\"\n",
    "organization_name = \"Alameda-Contra Costa Transit District\""
   ]
  },
  {
   "cell_type": "code",
   "execution_count": 5,
   "id": "09a35243-b6ab-47fb-b5d8-d8a8c1cf3dbf",
   "metadata": {},
   "outputs": [],
   "source": [
    "selected_date = pd.to_datetime(rt_dates.DATES[\"mar2024\"])\n",
    "year = selected_date.year\n",
    "GTFS_DATA_DICT = catalog_utils.get_catalog(\"gtfs_analytics_data\")"
   ]
  },
  {
   "cell_type": "markdown",
   "id": "26faac99-925a-4f63-9d5b-67732109fca7",
   "metadata": {},
   "source": [
    "### Map"
   ]
  },
  {
   "cell_type": "code",
   "execution_count": 6,
   "id": "3fec51e7-1a69-416b-b878-709b904501ac",
   "metadata": {},
   "outputs": [],
   "source": [
    "ac_transit_map = section1.load_operator_map(name)"
   ]
  },
  {
   "cell_type": "code",
   "execution_count": 7,
   "id": "9cd22713-e304-4eb3-b958-14edd7e1ee72",
   "metadata": {},
   "outputs": [
    {
     "data": {
      "text/plain": [
       "(132, 15)"
      ]
     },
     "execution_count": 7,
     "metadata": {},
     "output_type": "execute_result"
    }
   ],
   "source": [
    "ac_transit_map.shape"
   ]
  },
  {
   "cell_type": "code",
   "execution_count": 66,
   "id": "6f1be643-9524-4981-9d94-579d2143fa2c",
   "metadata": {},
   "outputs": [],
   "source": [
    "def plot_route(route):\n",
    "    filtered_gdf = gdf[gdf[\"Route\"] == route]\n",
    "    display(filtered_gdf.explore(column=\"Route\", cmap = \"Spectral\",\n",
    "    tiles=\"CartoDB positron\",\n",
    "    width=500,\n",
    "    height=300,\n",
    "    style_kwds={\"weight\": 3},\n",
    "    legend=False,\n",
    "    tooltip=[\"Route\", \"Service Miles\"]))"
   ]
  },
  {
   "cell_type": "code",
   "execution_count": 84,
   "id": "038b7efa-6d15-4d1f-ba25-95631d6e1b8b",
   "metadata": {},
   "outputs": [],
   "source": [
    "def interactive_map(gdf:gpd.GeoDataFrame):\n",
    "    gdf = gdf[~gdf.geometry.is_empty].reset_index(drop = True)\n",
    "    gdf = gdf[gdf.geometry.notna()].reset_index(drop = True)\n",
    "    def plot_route(route):\n",
    "        filtered_gdf = gdf[gdf[\"Route\"] == route]\n",
    "        display(filtered_gdf.explore(column=\"Route\", cmap = \"Spectral\",\n",
    "        tiles=\"CartoDB positron\",\n",
    "        width=500,\n",
    "        height=300,\n",
    "        style_kwds={\"weight\": 3},\n",
    "        legend=False,\n",
    "        tooltip=[\"Route\", \"Service Miles\"]))\n",
    "    \n",
    "    routes = gdf[\"Route\"].unique().tolist()\n",
    "    # Create a dropdown widget\n",
    "    route_dropdown = widgets.Dropdown(options=routes, description=\"Route\")\n",
    "    # Create an interactive plot\n",
    "    interactive_plot = widgets.interactive(plot_route, route=route_dropdown)\n",
    "    display(widgets.VBox([interactive_plot])) "
   ]
  },
  {
   "cell_type": "code",
   "execution_count": 76,
   "id": "00966851-ad7b-4d1b-87bc-00b1c666066d",
   "metadata": {},
   "outputs": [
    {
     "data": {
      "application/vnd.jupyter.widget-view+json": {
       "model_id": "fa4788f4d03f4e568dece697f90ce9f0",
       "version_major": 2,
       "version_minor": 0
      },
      "text/plain": [
       "VBox(children=(interactive(children=(Dropdown(description='Route', options=('10 E. 14th St. - Mission', '12 ML…"
      ]
     },
     "metadata": {},
     "output_type": "display_data"
    }
   ],
   "source": [
    "interactive_map(ac_transit_map)"
   ]
  },
  {
   "cell_type": "code",
   "execution_count": 10,
   "id": "c45d4fa8-4f84-479d-b00d-e99c8e7986ab",
   "metadata": {},
   "outputs": [],
   "source": [
    "import geopandas as gpd\n",
    "import ipywidgets as widgets"
   ]
  },
  {
   "cell_type": "code",
   "execution_count": 67,
   "id": "b979834c-11b9-4639-9636-316bf50c4ba7",
   "metadata": {},
   "outputs": [],
   "source": [
    "# Load your GeoDataFrame\n",
    "# Get unique routes\n",
    "routes = ac_transit_map[\"Route\"].unique().tolist()"
   ]
  },
  {
   "cell_type": "code",
   "execution_count": 68,
   "id": "8dcfd18e-70ad-48bf-bb6d-5ab3def59796",
   "metadata": {},
   "outputs": [],
   "source": [
    "# Create a dropdown widget\n",
    "route_dropdown = widgets.Dropdown(options=routes, description=\"Route\")"
   ]
  },
  {
   "cell_type": "code",
   "execution_count": 69,
   "id": "e5427141-54a2-4c6b-8070-cdf32aeb6420",
   "metadata": {},
   "outputs": [],
   "source": [
    "# Create an interactive plot\n",
    "interactive_plot = widgets.interactive(plot_route, route=route_dropdown)"
   ]
  },
  {
   "cell_type": "code",
   "execution_count": 70,
   "id": "908aa1ea-bc1b-4cd5-b145-0556ed2a59e5",
   "metadata": {},
   "outputs": [
    {
     "data": {
      "application/vnd.jupyter.widget-view+json": {
       "model_id": "c2aa94f0541c4d4da00d5f1a7fc44bb7",
       "version_major": 2,
       "version_minor": 0
      },
      "text/plain": [
       "VBox(children=(interactive(children=(Dropdown(description='Route', options=('10 E. 14th St. - Mission', '12 ML…"
      ]
     },
     "metadata": {},
     "output_type": "display_data"
    }
   ],
   "source": [
    "# Display the dropdown and the plot\n",
    "widgets.VBox([interactive_plot])"
   ]
  },
  {
   "cell_type": "markdown",
   "id": "4ccf8265-0d64-4af2-85a9-229c263b9045",
   "metadata": {},
   "source": [
    "### Operator Profiles"
   ]
  },
  {
   "cell_type": "code",
   "execution_count": null,
   "id": "41f80667-c1d3-4ec6-8f18-674bef6f5801",
   "metadata": {},
   "outputs": [],
   "source": [
    "ac_transit_profile = section1.load_operator_profiles(organization_name)"
   ]
  },
  {
   "cell_type": "code",
   "execution_count": null,
   "id": "e4875cbd-d1fd-4c49-9011-f58779c44741",
   "metadata": {},
   "outputs": [],
   "source": [
    "ac_transit_profile"
   ]
  },
  {
   "cell_type": "markdown",
   "id": "74e6069a-1716-427a-82c7-4ed583d31b53",
   "metadata": {},
   "source": [
    "#### Original"
   ]
  },
  {
   "cell_type": "code",
   "execution_count": null,
   "id": "c612d3d7-04bc-4ed5-aaf9-5787e4998300",
   "metadata": {},
   "outputs": [],
   "source": [
    "op_profiles_url = f\"{GTFS_DATA_DICT.digest_tables.dir}{GTFS_DATA_DICT.digest_tables.operator_profiles}.parquet\"\n",
    "\n",
    "op_profiles_df = pd.read_parquet(op_profiles_url)"
   ]
  },
  {
   "cell_type": "code",
   "execution_count": null,
   "id": "46d0d110-bfee-4237-bcd7-7ed72b512ea6",
   "metadata": {},
   "outputs": [],
   "source": [
    "op_profiles_df1 = op_profiles_df.sort_values(by=[\"service_date\"], ascending=False)"
   ]
  },
  {
   "cell_type": "code",
   "execution_count": null,
   "id": "23e7a94e-6437-4de5-a404-1030b9d9aad1",
   "metadata": {},
   "outputs": [],
   "source": [
    "op_profiles_df1.columns"
   ]
  },
  {
   "cell_type": "code",
   "execution_count": null,
   "id": "d6334a73-f81f-4ca8-bad2-347aa64d7c98",
   "metadata": {},
   "outputs": [],
   "source": [
    "op_profiles_df1.drop_duplicates(subset=[\"organization_name\"])[\n",
    "    [\"service_date\"]\n",
    "].describe()"
   ]
  },
  {
   "cell_type": "markdown",
   "id": "3182123f-8264-4845-a103-d7036589ed4e",
   "metadata": {},
   "source": [
    "### Operators who don't have profile info from the most recent service_date but have stuff for sched_vp\n",
    "* City of Torrance\t\n",
    "* Stanislaus Regional Transit Authority"
   ]
  },
  {
   "cell_type": "code",
   "execution_count": null,
   "id": "73fa8e12-52d5-480c-a2bc-94bd3d7b99f1",
   "metadata": {
    "scrolled": true,
    "tags": []
   },
   "outputs": [],
   "source": [
    "op_profiles2 = op_profiles_df1.drop_duplicates(subset=[\"organization_name\"])[\n",
    "    [\"organization_name\", \"service_date\"]\n",
    "]"
   ]
  },
  {
   "cell_type": "code",
   "execution_count": null,
   "id": "7dd38d4e-19cb-494f-8ce9-4392b2ceee65",
   "metadata": {},
   "outputs": [],
   "source": [
    "# op_profiles2.loc[op_profiles2.service_date < '2024-04-17'].sort_values(by = ['organization_name'])"
   ]
  },
  {
   "cell_type": "code",
   "execution_count": null,
   "id": "40f132ab-6d76-4c15-9ed1-549f81a8bf93",
   "metadata": {},
   "outputs": [],
   "source": [
    "op_profiles_df1.loc[\n",
    "    op_profiles_df1.organization_name.isin(\n",
    "        [\"City of Torrance\", \"Stanislaus Regional Transit Authority\"]\n",
    "    )\n",
    "][[\"organization_name\", \"service_date\"]]"
   ]
  }
 ],
 "metadata": {
  "kernelspec": {
   "display_name": "Python 3 (ipykernel)",
   "language": "python",
   "name": "python3"
  },
  "language_info": {
   "codemirror_mode": {
    "name": "ipython",
    "version": 3
   },
   "file_extension": ".py",
   "mimetype": "text/x-python",
   "name": "python",
   "nbconvert_exporter": "python",
   "pygments_lexer": "ipython3",
   "version": "3.9.13"
  }
 },
 "nbformat": 4,
 "nbformat_minor": 5
}
