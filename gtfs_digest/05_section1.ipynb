{
 "cells": [
  {
   "cell_type": "markdown",
   "id": "486e8f34-ec0e-4688-8e69-31e6b922f7d1",
   "metadata": {},
   "source": [
    "## Section 1: Operator Overview \n",
    "* Using the most recent month"
   ]
  },
  {
   "cell_type": "code",
   "execution_count": 1,
   "id": "f0ddcdbd-d18e-4a20-a423-72298e4546ae",
   "metadata": {},
   "outputs": [],
   "source": [
    "import _report_utils\n",
    "import _section1_utils as section1\n",
    "import altair as alt\n",
    "import calitp_data_analysis.magics\n",
    "import geopandas as gpd\n",
    "import great_tables as gt\n",
    "import pandas as pd\n",
    "from calitp_data_analysis import calitp_color_palette as cp\n",
    "from calitp_data_analysis.sql import to_snakecase\n",
    "from great_tables import md\n",
    "from IPython.display import HTML, Markdown, display\n",
    "from segment_speed_utils.project_vars import RT_SCHED_GCS\n",
    "from shared_utils import catalog_utils, rt_dates, rt_utils"
   ]
  },
  {
   "cell_type": "code",
   "execution_count": 2,
   "id": "563f353b-829d-4166-9921-7389ea661f93",
   "metadata": {},
   "outputs": [
    {
     "data": {
      "text/plain": [
       "DataTransformerRegistry.enable('default')"
      ]
     },
     "execution_count": 2,
     "metadata": {},
     "output_type": "execute_result"
    }
   ],
   "source": [
    "alt.renderers.enable(\"html\")\n",
    "alt.data_transformers.enable(\"default\", max_rows=None)"
   ]
  },
  {
   "cell_type": "code",
   "execution_count": 3,
   "id": "aaa124e0-1d24-459c-88bb-e7934f5092c5",
   "metadata": {},
   "outputs": [],
   "source": [
    "pd.options.display.max_columns = 100\n",
    "pd.options.display.float_format = \"{:.2f}\".format\n",
    "pd.set_option(\"display.max_rows\", None)\n",
    "pd.set_option(\"display.max_colwidth\", None)"
   ]
  },
  {
   "cell_type": "code",
   "execution_count": 4,
   "id": "f0e67443-276d-41c6-afc9-c784092ce881",
   "metadata": {},
   "outputs": [],
   "source": [
    "name = \"Bay Area 511 AC Transit Schedule\"\n",
    "organization_name = \"Alameda-Contra Costa Transit District\""
   ]
  },
  {
   "cell_type": "code",
   "execution_count": 5,
   "id": "09a35243-b6ab-47fb-b5d8-d8a8c1cf3dbf",
   "metadata": {},
   "outputs": [],
   "source": [
    "selected_date = pd.to_datetime(rt_dates.DATES[\"mar2024\"])\n",
    "year = selected_date.year\n",
    "GTFS_DATA_DICT = catalog_utils.get_catalog(\"gtfs_analytics_data\")"
   ]
  },
  {
   "cell_type": "code",
   "execution_count": 6,
   "id": "78a3648d-3799-4858-9e4a-11efc438bad5",
   "metadata": {},
   "outputs": [],
   "source": [
    "import yaml\n",
    "\n",
    "# Readable Dictionary\n",
    "with open(\"readable.yml\") as f:\n",
    "    readable_dict = yaml.safe_load(f)"
   ]
  },
  {
   "cell_type": "markdown",
   "id": "26faac99-925a-4f63-9d5b-67732109fca7",
   "metadata": {},
   "source": [
    "### Map"
   ]
  },
  {
   "cell_type": "code",
   "execution_count": 7,
   "id": "3fec51e7-1a69-416b-b878-709b904501ac",
   "metadata": {},
   "outputs": [],
   "source": [
    "ac_transit_map = section1.load_operator_map(name)"
   ]
  },
  {
   "cell_type": "code",
   "execution_count": 8,
   "id": "9cd22713-e304-4eb3-b958-14edd7e1ee72",
   "metadata": {},
   "outputs": [
    {
     "data": {
      "text/plain": [
       "(132, 15)"
      ]
     },
     "execution_count": 8,
     "metadata": {},
     "output_type": "execute_result"
    }
   ],
   "source": [
    "ac_transit_map.shape"
   ]
  },
  {
   "cell_type": "code",
   "execution_count": 9,
   "id": "6f1be643-9524-4981-9d94-579d2143fa2c",
   "metadata": {},
   "outputs": [],
   "source": [
    "def plot_route(route):\n",
    "    filtered_gdf = gdf[gdf[\"Route\"] == route]\n",
    "    display(\n",
    "        filtered_gdf.explore(\n",
    "            column=\"Route\",\n",
    "            cmap=\"Spectral\",\n",
    "            tiles=\"CartoDB positron\",\n",
    "            width=500,\n",
    "            height=300,\n",
    "            style_kwds={\"weight\": 3},\n",
    "            legend=False,\n",
    "            tooltip=[\"Route\", \"Service Miles\"],\n",
    "        )\n",
    "    )"
   ]
  },
  {
   "cell_type": "markdown",
   "id": "4ccf8265-0d64-4af2-85a9-229c263b9045",
   "metadata": {},
   "source": [
    "### Operator Profiles"
   ]
  },
  {
   "cell_type": "code",
   "execution_count": 10,
   "id": "41f80667-c1d3-4ec6-8f18-674bef6f5801",
   "metadata": {},
   "outputs": [],
   "source": [
    "ac_transit_profile = section1.load_operator_profiles(organization_name)"
   ]
  },
  {
   "cell_type": "code",
   "execution_count": 11,
   "id": "e4875cbd-d1fd-4c49-9011-f58779c44741",
   "metadata": {},
   "outputs": [
    {
     "data": {
      "text/html": [
       "<div>\n",
       "<style scoped>\n",
       "    .dataframe tbody tr th:only-of-type {\n",
       "        vertical-align: middle;\n",
       "    }\n",
       "\n",
       "    .dataframe tbody tr th {\n",
       "        vertical-align: top;\n",
       "    }\n",
       "\n",
       "    .dataframe thead th {\n",
       "        text-align: right;\n",
       "    }\n",
       "</style>\n",
       "<table border=\"1\" class=\"dataframe\">\n",
       "  <thead>\n",
       "    <tr style=\"text-align: right;\">\n",
       "      <th></th>\n",
       "      <th>schedule_gtfs_dataset_key</th>\n",
       "      <th># Routes</th>\n",
       "      <th># Trips</th>\n",
       "      <th># Shapes</th>\n",
       "      <th># Stops</th>\n",
       "      <th># Arrivals</th>\n",
       "      <th>Operator Service Miles</th>\n",
       "      <th>Avg Arrivals per Stop</th>\n",
       "      <th># Downtown Local Route Types</th>\n",
       "      <th># Local Route Types</th>\n",
       "      <th># Rapid Route Types</th>\n",
       "      <th># Coverage Route Types</th>\n",
       "      <th>Transit Operator</th>\n",
       "      <th>Organization ID</th>\n",
       "      <th>Organization</th>\n",
       "      <th>Date</th>\n",
       "    </tr>\n",
       "  </thead>\n",
       "  <tbody>\n",
       "    <tr>\n",
       "      <th>13</th>\n",
       "      <td>c499f905e33929a641f083dad55c521e</td>\n",
       "      <td>132</td>\n",
       "      <td>5478</td>\n",
       "      <td>346</td>\n",
       "      <td>4733</td>\n",
       "      <td>234582</td>\n",
       "      <td>1459.66</td>\n",
       "      <td>49.56</td>\n",
       "      <td>179</td>\n",
       "      <td>21</td>\n",
       "      <td>92</td>\n",
       "      <td>44</td>\n",
       "      <td>Bay Area 511 AC Transit Schedule</td>\n",
       "      <td>recOZgevYf7Jimm9L</td>\n",
       "      <td>Alameda-Contra Costa Transit District</td>\n",
       "      <td>2024-04-17</td>\n",
       "    </tr>\n",
       "  </tbody>\n",
       "</table>\n",
       "</div>"
      ],
      "text/plain": [
       "           schedule_gtfs_dataset_key  # Routes  # Trips  # Shapes  # Stops  \\\n",
       "13  c499f905e33929a641f083dad55c521e       132     5478       346     4733   \n",
       "\n",
       "    # Arrivals  Operator Service Miles  Avg Arrivals per Stop  \\\n",
       "13      234582                 1459.66                  49.56   \n",
       "\n",
       "    # Downtown Local Route Types  # Local Route Types  # Rapid Route Types  \\\n",
       "13                           179                   21                   92   \n",
       "\n",
       "    # Coverage Route Types                  Transit Operator  \\\n",
       "13                      44  Bay Area 511 AC Transit Schedule   \n",
       "\n",
       "      Organization ID                           Organization       Date  \n",
       "13  recOZgevYf7Jimm9L  Alameda-Contra Costa Transit District 2024-04-17  "
      ]
     },
     "execution_count": 11,
     "metadata": {},
     "output_type": "execute_result"
    }
   ],
   "source": [
    "ac_transit_profile"
   ]
  },
  {
   "cell_type": "markdown",
   "id": "74e6069a-1716-427a-82c7-4ed583d31b53",
   "metadata": {},
   "source": [
    "#### Original"
   ]
  },
  {
   "cell_type": "code",
   "execution_count": 12,
   "id": "c612d3d7-04bc-4ed5-aaf9-5787e4998300",
   "metadata": {},
   "outputs": [],
   "source": [
    "op_profiles_url = f\"{GTFS_DATA_DICT.digest_tables.dir}{GTFS_DATA_DICT.digest_tables.operator_profiles}.parquet\"\n",
    "\n",
    "op_profiles_df = pd.read_parquet(op_profiles_url)"
   ]
  },
  {
   "cell_type": "code",
   "execution_count": 13,
   "id": "46d0d110-bfee-4237-bcd7-7ed72b512ea6",
   "metadata": {},
   "outputs": [],
   "source": [
    "op_profiles_df1 = op_profiles_df.sort_values(by=[\"service_date\"], ascending=False)"
   ]
  },
  {
   "cell_type": "code",
   "execution_count": 14,
   "id": "23e7a94e-6437-4de5-a404-1030b9d9aad1",
   "metadata": {},
   "outputs": [
    {
     "data": {
      "text/plain": [
       "Index(['schedule_gtfs_dataset_key', 'operator_n_routes', 'operator_n_trips',\n",
       "       'operator_n_shapes', 'operator_n_stops', 'operator_n_arrivals',\n",
       "       'operator_route_length_miles', 'operator_arrivals_per_stop',\n",
       "       'n_downtown_local_routes', 'n_local_routes', 'n_rapid_routes',\n",
       "       'n_coverage_routes', 'name', 'organization_source_record_id',\n",
       "       'organization_name', 'service_date'],\n",
       "      dtype='object')"
      ]
     },
     "execution_count": 14,
     "metadata": {},
     "output_type": "execute_result"
    }
   ],
   "source": [
    "op_profiles_df1.columns"
   ]
  },
  {
   "cell_type": "code",
   "execution_count": 15,
   "id": "d6334a73-f81f-4ca8-bad2-347aa64d7c98",
   "metadata": {},
   "outputs": [
    {
     "name": "stderr",
     "output_type": "stream",
     "text": [
      "/tmp/ipykernel_4904/3772978131.py:1: FutureWarning: Treating datetime data as categorical rather than numeric in `.describe` is deprecated and will be removed in a future version of pandas. Specify `datetime_is_numeric=True` to silence this warning and adopt the future behavior now.\n",
      "  op_profiles_df1.drop_duplicates(subset=[\"organization_name\"])[\n"
     ]
    },
    {
     "data": {
      "text/html": [
       "<div>\n",
       "<style scoped>\n",
       "    .dataframe tbody tr th:only-of-type {\n",
       "        vertical-align: middle;\n",
       "    }\n",
       "\n",
       "    .dataframe tbody tr th {\n",
       "        vertical-align: top;\n",
       "    }\n",
       "\n",
       "    .dataframe thead th {\n",
       "        text-align: right;\n",
       "    }\n",
       "</style>\n",
       "<table border=\"1\" class=\"dataframe\">\n",
       "  <thead>\n",
       "    <tr style=\"text-align: right;\">\n",
       "      <th></th>\n",
       "      <th>service_date</th>\n",
       "    </tr>\n",
       "  </thead>\n",
       "  <tbody>\n",
       "    <tr>\n",
       "      <th>count</th>\n",
       "      <td>171</td>\n",
       "    </tr>\n",
       "    <tr>\n",
       "      <th>unique</th>\n",
       "      <td>11</td>\n",
       "    </tr>\n",
       "    <tr>\n",
       "      <th>top</th>\n",
       "      <td>2024-04-17 00:00:00</td>\n",
       "    </tr>\n",
       "    <tr>\n",
       "      <th>freq</th>\n",
       "      <td>139</td>\n",
       "    </tr>\n",
       "    <tr>\n",
       "      <th>first</th>\n",
       "      <td>2023-03-15 00:00:00</td>\n",
       "    </tr>\n",
       "    <tr>\n",
       "      <th>last</th>\n",
       "      <td>2024-04-17 00:00:00</td>\n",
       "    </tr>\n",
       "  </tbody>\n",
       "</table>\n",
       "</div>"
      ],
      "text/plain": [
       "               service_date\n",
       "count                   171\n",
       "unique                   11\n",
       "top     2024-04-17 00:00:00\n",
       "freq                    139\n",
       "first   2023-03-15 00:00:00\n",
       "last    2024-04-17 00:00:00"
      ]
     },
     "execution_count": 15,
     "metadata": {},
     "output_type": "execute_result"
    }
   ],
   "source": [
    "op_profiles_df1.drop_duplicates(subset=[\"organization_name\"])[\n",
    "    [\"service_date\"]\n",
    "].describe()"
   ]
  },
  {
   "cell_type": "markdown",
   "id": "3182123f-8264-4845-a103-d7036589ed4e",
   "metadata": {},
   "source": [
    "### Operators who don't have profile info from the most recent service_date but have stuff for sched_vp\n",
    "* City of Torrance\t\n",
    "* Stanislaus Regional Transit Authority"
   ]
  },
  {
   "cell_type": "code",
   "execution_count": 23,
   "id": "73fa8e12-52d5-480c-a2bc-94bd3d7b99f1",
   "metadata": {
    "scrolled": true,
    "tags": []
   },
   "outputs": [],
   "source": [
    "op_profiles2 = op_profiles_df1.drop_duplicates(subset=[\"organization_name\"])[\n",
    "    [\"organization_name\", \"service_date\"]\n",
    "]"
   ]
  },
  {
   "cell_type": "code",
   "execution_count": 24,
   "id": "7dd38d4e-19cb-494f-8ce9-4392b2ceee65",
   "metadata": {},
   "outputs": [],
   "source": [
    "# op_profiles2.loc[op_profiles2.service_date < '2024-04-17'].sort_values(by = ['organization_name'])"
   ]
  },
  {
   "cell_type": "markdown",
   "id": "85f5f8db-b4b1-4e79-9e97-b5b4471f5837",
   "metadata": {},
   "source": [
    "### Total Service\n",
    "* Checking Eric's data.\n",
    "* Big Blue Bus Schedule\n",
    "* https://dbt-docs.calitp.org/#!/model/model.calitp_warehouse.fct_monthly_route_service_by_timeofday\n",
    "* TTL_service_hours: Total scheduled service hours that occurred for the route for this month, day_type, and time_of_day."
   ]
  },
  {
   "cell_type": "code",
   "execution_count": 89,
   "id": "03bcd305-e5d3-4753-8fdd-7ffd53375c4c",
   "metadata": {},
   "outputs": [],
   "source": [
    "og_big_blue_bus = section1.load_scheduled_service(\"Big Blue Bus Schedule\")"
   ]
  },
  {
   "cell_type": "code",
   "execution_count": 90,
   "id": "9d2a263f-ca4e-48c9-a09c-bfd77cfe3334",
   "metadata": {},
   "outputs": [],
   "source": [
    "og_big_blue_bus[\"datetime_date\"] = pd.to_datetime(og_big_blue_bus[\"full_date\"], format=\"%Y-%m\")"
   ]
  },
  {
   "cell_type": "code",
   "execution_count": 91,
   "id": "5ad38a9a-024f-4fba-8e54-bfda2c8253c5",
   "metadata": {},
   "outputs": [
    {
     "data": {
      "text/html": [
       "<div>\n",
       "<style scoped>\n",
       "    .dataframe tbody tr th:only-of-type {\n",
       "        vertical-align: middle;\n",
       "    }\n",
       "\n",
       "    .dataframe tbody tr th {\n",
       "        vertical-align: top;\n",
       "    }\n",
       "\n",
       "    .dataframe thead th {\n",
       "        text-align: right;\n",
       "    }\n",
       "</style>\n",
       "<table border=\"1\" class=\"dataframe\">\n",
       "  <thead>\n",
       "    <tr style=\"text-align: right;\">\n",
       "      <th></th>\n",
       "      <th>key</th>\n",
       "      <th>name</th>\n",
       "      <th>schedule_source_record_id</th>\n",
       "      <th>route_id_x</th>\n",
       "      <th>route_short_name</th>\n",
       "      <th>route_long_name</th>\n",
       "      <th>time_of_day</th>\n",
       "      <th>month</th>\n",
       "      <th>year</th>\n",
       "      <th>day_type</th>\n",
       "      <th>n_trips</th>\n",
       "      <th>ttl_service_hours</th>\n",
       "      <th>day_name</th>\n",
       "      <th>schedule_gtfs_dataset_key</th>\n",
       "      <th>organization_source_record_id</th>\n",
       "      <th>organization_name</th>\n",
       "      <th>route_id_y</th>\n",
       "      <th>route_combined_name</th>\n",
       "      <th>full_date</th>\n",
       "      <th>datetime_date</th>\n",
       "    </tr>\n",
       "  </thead>\n",
       "  <tbody>\n",
       "    <tr>\n",
       "      <th>318238</th>\n",
       "      <td>131c820d577cabbc588e8ae37d93ef18</td>\n",
       "      <td>Big Blue Bus Schedule</td>\n",
       "      <td>recpN1dPaxhZvZQV0</td>\n",
       "      <td>3554</td>\n",
       "      <td>1</td>\n",
       "      <td>Main St &amp; Santa Monica Blvd/UCLA</td>\n",
       "      <td>Evening</td>\n",
       "      <td>04</td>\n",
       "      <td>2023</td>\n",
       "      <td>5</td>\n",
       "      <td>72</td>\n",
       "      <td>47.07</td>\n",
       "      <td>Thursday</td>\n",
       "      <td>dbbe8ee4864a2715a40749605395d584</td>\n",
       "      <td>recJHFDLpGRMIFgnL</td>\n",
       "      <td>City of Santa Monica</td>\n",
       "      <td>3629</td>\n",
       "      <td>1 Main St &amp; Santa Monica Blvd/UCLA</td>\n",
       "      <td>2023-04</td>\n",
       "      <td>2023-04-01</td>\n",
       "    </tr>\n",
       "    <tr>\n",
       "      <th>318239</th>\n",
       "      <td>6ea1bdf6b8a09827b1e0ad8770621b1c</td>\n",
       "      <td>Big Blue Bus Schedule</td>\n",
       "      <td>recpN1dPaxhZvZQV0</td>\n",
       "      <td>3555</td>\n",
       "      <td>2</td>\n",
       "      <td>Wilshire Blvd/UCLA</td>\n",
       "      <td>AM Peak</td>\n",
       "      <td>04</td>\n",
       "      <td>2023</td>\n",
       "      <td>6</td>\n",
       "      <td>56</td>\n",
       "      <td>33.47</td>\n",
       "      <td>Friday</td>\n",
       "      <td>dbbe8ee4864a2715a40749605395d584</td>\n",
       "      <td>recJHFDLpGRMIFgnL</td>\n",
       "      <td>City of Santa Monica</td>\n",
       "      <td>3630</td>\n",
       "      <td>2 Wilshire Blvd/UCLA</td>\n",
       "      <td>2023-04</td>\n",
       "      <td>2023-04-01</td>\n",
       "    </tr>\n",
       "  </tbody>\n",
       "</table>\n",
       "</div>"
      ],
      "text/plain": [
       "                                     key                   name  \\\n",
       "318238  131c820d577cabbc588e8ae37d93ef18  Big Blue Bus Schedule   \n",
       "318239  6ea1bdf6b8a09827b1e0ad8770621b1c  Big Blue Bus Schedule   \n",
       "\n",
       "       schedule_source_record_id route_id_x route_short_name  \\\n",
       "318238         recpN1dPaxhZvZQV0       3554                1   \n",
       "318239         recpN1dPaxhZvZQV0       3555                2   \n",
       "\n",
       "                         route_long_name time_of_day month  year  day_type  \\\n",
       "318238  Main St & Santa Monica Blvd/UCLA     Evening    04  2023         5   \n",
       "318239                Wilshire Blvd/UCLA     AM Peak    04  2023         6   \n",
       "\n",
       "        n_trips  ttl_service_hours  day_name  \\\n",
       "318238       72              47.07  Thursday   \n",
       "318239       56              33.47    Friday   \n",
       "\n",
       "               schedule_gtfs_dataset_key organization_source_record_id  \\\n",
       "318238  dbbe8ee4864a2715a40749605395d584             recJHFDLpGRMIFgnL   \n",
       "318239  dbbe8ee4864a2715a40749605395d584             recJHFDLpGRMIFgnL   \n",
       "\n",
       "           organization_name route_id_y                 route_combined_name  \\\n",
       "318238  City of Santa Monica       3629  1 Main St & Santa Monica Blvd/UCLA   \n",
       "318239  City of Santa Monica       3630                2 Wilshire Blvd/UCLA   \n",
       "\n",
       "       full_date datetime_date  \n",
       "318238   2023-04    2023-04-01  \n",
       "318239   2023-04    2023-04-01  "
      ]
     },
     "execution_count": 91,
     "metadata": {},
     "output_type": "execute_result"
    }
   ],
   "source": [
    "og_big_blue_bus.head(2)"
   ]
  },
  {
   "cell_type": "code",
   "execution_count": 92,
   "id": "102f152b-fe03-4208-8311-232895276e25",
   "metadata": {},
   "outputs": [
    {
     "name": "stdout",
     "output_type": "stream",
     "text": [
      "<class 'pandas.core.frame.DataFrame'>\n",
      "Int64Index: 7462 entries, 318238 to 706372\n",
      "Data columns (total 20 columns):\n",
      " #   Column                         Non-Null Count  Dtype         \n",
      "---  ------                         --------------  -----         \n",
      " 0   key                            7462 non-null   object        \n",
      " 1   name                           7462 non-null   object        \n",
      " 2   schedule_source_record_id      7462 non-null   object        \n",
      " 3   route_id_x                     7462 non-null   object        \n",
      " 4   route_short_name               7462 non-null   object        \n",
      " 5   route_long_name                7462 non-null   object        \n",
      " 6   time_of_day                    7462 non-null   object        \n",
      " 7   month                          7462 non-null   object        \n",
      " 8   year                           7462 non-null   int64         \n",
      " 9   day_type                       7462 non-null   int64         \n",
      " 10  n_trips                        7462 non-null   int64         \n",
      " 11  ttl_service_hours              7462 non-null   float64       \n",
      " 12  day_name                       7462 non-null   object        \n",
      " 13  schedule_gtfs_dataset_key      7462 non-null   object        \n",
      " 14  organization_source_record_id  7462 non-null   object        \n",
      " 15  organization_name              7462 non-null   object        \n",
      " 16  route_id_y                     7462 non-null   object        \n",
      " 17  route_combined_name            7462 non-null   object        \n",
      " 18  full_date                      7462 non-null   object        \n",
      " 19  datetime_date                  7462 non-null   datetime64[ns]\n",
      "dtypes: datetime64[ns](1), float64(1), int64(3), object(15)\n",
      "memory usage: 1.2+ MB\n"
     ]
    }
   ],
   "source": [
    "og_big_blue_bus.info()"
   ]
  },
  {
   "cell_type": "code",
   "execution_count": 94,
   "id": "9d9c34b0-0a67-458c-af6c-c4950b89e66a",
   "metadata": {},
   "outputs": [],
   "source": [
    "# Example usage:\n",
    "years = [2016, 2016, 2016]\n",
    "months = [3, 4, 5]\n",
    "day_counts_df = count_days_in_months(years, months)"
   ]
  },
  {
   "cell_type": "code",
   "execution_count": 101,
   "id": "a3dabf6c-a0e7-485d-9796-466e51dbff8e",
   "metadata": {},
   "outputs": [],
   "source": [
    "def count_days_in_months(dates:list):\n",
    "    # Initialize a dictionary to store counts for each day of the week\n",
    "    day_counts = {}\n",
    "    \n",
    "    # Iterate over each date\n",
    "    for date in dates:\n",
    "        year = date.year\n",
    "        month = date.month\n",
    "        \n",
    "        # Initialize counts dictionary for the current month-year combination\n",
    "        if (year, month) not in day_counts:\n",
    "            day_counts[(year, month)] = {\n",
    "                'Monday': 0,\n",
    "                'Tuesday': 0,\n",
    "                'Wednesday': 0,\n",
    "                'Thursday': 0,\n",
    "                'Friday': 0,\n",
    "                'Saturday': 0,\n",
    "                'Sunday': 0\n",
    "            }\n",
    "        \n",
    "        # Get the calendar matrix for the current month and year\n",
    "        matrix = calendar.monthcalendar(year, month)\n",
    "        \n",
    "        # Iterate over each day in the matrix\n",
    "        for week in matrix:\n",
    "            for i, day in enumerate(week):\n",
    "                # Increment the count for the corresponding day of the week\n",
    "                if day != 0:\n",
    "                    weekday = calendar.day_name[i]\n",
    "                    day_counts[(year, month)][weekday] += 1\n",
    "    \n",
    "    # Convert the dictionary to a pandas DataFrame\n",
    "    df = pd.DataFrame.from_dict(day_counts, orient='index')\n",
    "    df = df.reset_index()\n",
    "    return df"
   ]
  },
  {
   "cell_type": "code",
   "execution_count": 102,
   "id": "afc79d73-346e-496b-b82d-b7f3f0f76a14",
   "metadata": {},
   "outputs": [
    {
     "data": {
      "text/html": [
       "<div>\n",
       "<style scoped>\n",
       "    .dataframe tbody tr th:only-of-type {\n",
       "        vertical-align: middle;\n",
       "    }\n",
       "\n",
       "    .dataframe tbody tr th {\n",
       "        vertical-align: top;\n",
       "    }\n",
       "\n",
       "    .dataframe thead th {\n",
       "        text-align: right;\n",
       "    }\n",
       "</style>\n",
       "<table border=\"1\" class=\"dataframe\">\n",
       "  <thead>\n",
       "    <tr style=\"text-align: right;\">\n",
       "      <th></th>\n",
       "      <th>level_0</th>\n",
       "      <th>level_1</th>\n",
       "      <th>Monday</th>\n",
       "      <th>Tuesday</th>\n",
       "      <th>Wednesday</th>\n",
       "      <th>Thursday</th>\n",
       "      <th>Friday</th>\n",
       "      <th>Saturday</th>\n",
       "      <th>Sunday</th>\n",
       "    </tr>\n",
       "  </thead>\n",
       "  <tbody>\n",
       "    <tr>\n",
       "      <th>0</th>\n",
       "      <td>2016</td>\n",
       "      <td>1</td>\n",
       "      <td>4</td>\n",
       "      <td>4</td>\n",
       "      <td>4</td>\n",
       "      <td>4</td>\n",
       "      <td>5</td>\n",
       "      <td>5</td>\n",
       "      <td>5</td>\n",
       "    </tr>\n",
       "    <tr>\n",
       "      <th>1</th>\n",
       "      <td>2016</td>\n",
       "      <td>2</td>\n",
       "      <td>5</td>\n",
       "      <td>4</td>\n",
       "      <td>4</td>\n",
       "      <td>4</td>\n",
       "      <td>4</td>\n",
       "      <td>4</td>\n",
       "      <td>4</td>\n",
       "    </tr>\n",
       "    <tr>\n",
       "      <th>2</th>\n",
       "      <td>2016</td>\n",
       "      <td>3</td>\n",
       "      <td>4</td>\n",
       "      <td>5</td>\n",
       "      <td>5</td>\n",
       "      <td>5</td>\n",
       "      <td>4</td>\n",
       "      <td>4</td>\n",
       "      <td>4</td>\n",
       "    </tr>\n",
       "  </tbody>\n",
       "</table>\n",
       "</div>"
      ],
      "text/plain": [
       "   level_0  level_1  Monday  Tuesday  Wednesday  Thursday  Friday  Saturday  \\\n",
       "0     2016        1       4        4          4         4       5         5   \n",
       "1     2016        2       5        4          4         4       4         4   \n",
       "2     2016        3       4        5          5         5       4         4   \n",
       "\n",
       "   Sunday  \n",
       "0       5  \n",
       "1       4  \n",
       "2       4  "
      ]
     },
     "execution_count": 102,
     "metadata": {},
     "output_type": "execute_result"
    }
   ],
   "source": [
    "dates = [pd.to_datetime('2016-01-01'), pd.to_datetime('2016-02-01'), pd.to_datetime('2016-03-01')]\n",
    "count_days_in_months(dates)\n"
   ]
  }
 ],
 "metadata": {
  "kernelspec": {
   "display_name": "Python 3 (ipykernel)",
   "language": "python",
   "name": "python3"
  },
  "language_info": {
   "codemirror_mode": {
    "name": "ipython",
    "version": 3
   },
   "file_extension": ".py",
   "mimetype": "text/x-python",
   "name": "python",
   "nbconvert_exporter": "python",
   "pygments_lexer": "ipython3",
   "version": "3.9.13"
  }
 },
 "nbformat": 4,
 "nbformat_minor": 5
}
