{
 "cells": [
  {
   "cell_type": "markdown",
   "id": "c90fd62b-6c3c-4fc8-bcff-09ca41693897",
   "metadata": {},
   "source": [
    "## Checking routes with 2+ cardinal directions\n",
    "* While running an operator (but I forgot which one) in district 4, I discovered there were some routes with more than 2 cardinal directions. \n",
    "* This shouldn't be happening. Find out what's going on. \n",
    "* Work backwards from final dataset to figure out which routes from D4 is experiencing this, then go back to the pipeline."
   ]
  },
  {
   "cell_type": "code",
   "execution_count": null,
   "id": "d789d5a2-e77e-4394-8637-61c4e3ab2535",
   "metadata": {},
   "outputs": [],
   "source": [
    "import _section1_utils\n",
    "import _section2_utils as section2\n",
    "import geopandas as gpd\n",
    "import numpy as np\n",
    "import pandas as pd\n",
    "from segment_speed_utils import gtfs_schedule_wrangling, helpers, time_series_utils\n",
    "from segment_speed_utils.project_vars import (\n",
    "    COMPILED_CACHED_VIEWS,\n",
    "    GTFS_DATA_DICT,\n",
    "    PROJECT_CRS,\n",
    "    RT_SCHED_GCS,\n",
    "    SCHED_GCS,\n",
    "    SEGMENT_GCS,\n",
    ")\n",
    "from shared_utils import catalog_utils, rt_dates, rt_utils"
   ]
  },
  {
   "cell_type": "code",
   "execution_count": null,
   "id": "9d388ed0-f84a-4ae4-a9b8-97ed73a82412",
   "metadata": {},
   "outputs": [],
   "source": [
    "pd.options.display.max_columns = 100\n",
    "pd.options.display.float_format = \"{:.2f}\".format\n",
    "pd.set_option(\"display.max_rows\", None)\n",
    "pd.set_option(\"display.max_colwidth\", None)"
   ]
  },
  {
   "cell_type": "markdown",
   "id": "a43e24fc-5056-4aeb-806b-09bcebc20660",
   "metadata": {},
   "source": [
    "#### Check this out for all districts"
   ]
  },
  {
   "cell_type": "code",
   "execution_count": null,
   "id": "efe28e04-e7fc-4c24-88be-13b5da349efd",
   "metadata": {},
   "outputs": [],
   "source": [
    "schd_vp_url = f\"{GTFS_DATA_DICT.digest_tables.dir}{GTFS_DATA_DICT.digest_tables.route_schedule_vp}.parquet\""
   ]
  },
  {
   "cell_type": "code",
   "execution_count": null,
   "id": "7c126f14-dd31-467f-a40b-af91114dea06",
   "metadata": {},
   "outputs": [],
   "source": [
    "all_districts_df = pd.read_parquet(\n",
    "    schd_vp_url,\n",
    "    filters=[\n",
    "        [\n",
    "            (\"sched_rt_category\", \"==\", \"schedule_and_vp\"),\n",
    "        ]\n",
    "    ],\n",
    ")\n",
    "\n",
    "all_districts_df_agg = (\n",
    "    all_districts_df.groupby(\n",
    "        [\"schedule_gtfs_dataset_key\", \"organization_name\", \"route_combined_name\"]\n",
    "    )\n",
    "    .agg({\"route_primary_direction\": \"nunique\"})\n",
    "    .reset_index()\n",
    "    .sort_values(by=[\"route_primary_direction\"], ascending=False)\n",
    ")"
   ]
  },
  {
   "cell_type": "code",
   "execution_count": null,
   "id": "515b6500-4ea6-4212-8c2c-36683a89375e",
   "metadata": {},
   "outputs": [],
   "source": [
    "routes_multi_cardinal_dir = all_districts_df_agg.loc[\n",
    "    all_districts_df_agg.route_primary_direction > 2\n",
    "].sort_values(by=[\"organization_name\"])"
   ]
  },
  {
   "cell_type": "code",
   "execution_count": null,
   "id": "a7850dd3-279a-4f87-9b89-00a8cccbdb4c",
   "metadata": {},
   "outputs": [],
   "source": [
    "routes_multi_cardinal_dir.route_combined_name.nunique()"
   ]
  },
  {
   "cell_type": "code",
   "execution_count": null,
   "id": "b64cb11a-a2fb-4825-84b4-51202a1282a1",
   "metadata": {},
   "outputs": [],
   "source": [
    "len(routes_multi_cardinal_dir)"
   ]
  },
  {
   "cell_type": "code",
   "execution_count": null,
   "id": "3e28e9ce-795f-4313-b5a3-36ab9b1c2dd3",
   "metadata": {},
   "outputs": [],
   "source": [
    "routes_multi_cardinal_dir.route_combined_name.value_counts().head()"
   ]
  },
  {
   "cell_type": "code",
   "execution_count": null,
   "id": "8a824d11-1f45-4b82-b8e6-f530904ba655",
   "metadata": {},
   "outputs": [],
   "source": [
    "routes_multi_cardinal_dir.loc[\n",
    "    routes_multi_cardinal_dir.route_combined_name == \"Route 1\"\n",
    "]"
   ]
  },
  {
   "cell_type": "code",
   "execution_count": null,
   "id": "13fc018d-5894-4a36-8f25-ec769e42c9bf",
   "metadata": {
    "scrolled": true,
    "tags": []
   },
   "outputs": [],
   "source": [
    "routes_multi_cardinal_dir[\n",
    "    [\n",
    "        \"schedule_gtfs_dataset_key\",\n",
    "        \"organization_name\",\n",
    "        \"route_combined_name\",\n",
    "        \"route_primary_direction\",\n",
    "    ]\n",
    "].drop_duplicates()"
   ]
  },
  {
   "cell_type": "markdown",
   "id": "c1c454b0-6aac-4bf2-8c24-e11452b4f0fe",
   "metadata": {},
   "source": [
    "#### Checking out if routes are actually switching direction in real life. "
   ]
  },
  {
   "cell_type": "code",
   "execution_count": null,
   "id": "d310f282-2909-4898-8c78-138450094434",
   "metadata": {},
   "outputs": [],
   "source": [
    "def changing_directions(organization_name: str, route: str, gtfs_dataset_key: str):\n",
    "    name = _section1_utils.organization_name_crosswalk(organization_name)\n",
    "    op_routes_url = f\"{GTFS_DATA_DICT.digest_tables.dir}{GTFS_DATA_DICT.digest_tables.operator_routes_map}.parquet\"\n",
    "\n",
    "    gdf = gpd.read_parquet(op_routes_url, filters=[[(\"name\", \"==\", name)]])\n",
    "\n",
    "    gdf[\"service_date\"] = gdf[\"service_date\"].dt.strftime(\"%Y-%m-%d %H:%M:%S\")\n",
    "\n",
    "    gdf2 = gdf.loc[gdf.route_combined_name.str.contains(route)]\n",
    "\n",
    "    display(\n",
    "        gdf2.explore(\n",
    "            \"service_date\",\n",
    "            cmap=\"Spectral\",\n",
    "            tiles=\"CartoDB positron\",\n",
    "            width=800,\n",
    "            height=500,\n",
    "            style_kwds={\"weight\": 3},\n",
    "            tooltip=[\"service_date\"],\n",
    "        )\n",
    "    )\n",
    "\n",
    "    route_df = (\n",
    "        all_districts_df.loc[\n",
    "            (all_districts_df.schedule_gtfs_dataset_key == gtfs_dataset_key)\n",
    "            & (all_districts_df.route_combined_name == route)\n",
    "        ]\n",
    "        .sort_values(by=[\"service_date\", \"direction_id\"])[\n",
    "            [\"service_date\", \"route_primary_direction\", \"direction_id\"]\n",
    "        ]\n",
    "        .drop_duplicates()\n",
    "    )\n",
    "    display(route_df)"
   ]
  },
  {
   "cell_type": "code",
   "execution_count": null,
   "id": "7d55486e-e3cb-4626-87c6-0d573e736c04",
   "metadata": {},
   "outputs": [],
   "source": [
    "changing_directions(\n",
    "    \"Monterey-Salinas Transit\",\n",
    "    \"84 King City - Paso Robles\",\n",
    "    \"9809d3f8121513057bc5cb8de7b54ce2\",\n",
    ")"
   ]
  },
  {
   "cell_type": "markdown",
   "id": "1ae8239d-3e6b-4aab-b40f-717cc54ce44a",
   "metadata": {},
   "source": [
    "##### Elk Grove Route 11\n",
    "* Route didn't change."
   ]
  },
  {
   "cell_type": "code",
   "execution_count": null,
   "id": "5b436884-a4dc-477e-9647-1917c210b091",
   "metadata": {},
   "outputs": [],
   "source": [
    "changing_directions(\n",
    "    \"City of Elk Grove\",\n",
    "    \"Route 11\",\n",
    "    \"63029a23cb0e73f2a5d98a345c5e2e40\",\n",
    ")"
   ]
  },
  {
   "cell_type": "markdown",
   "id": "48cf1247-d43c-490e-a83a-f15a6cbcb13e",
   "metadata": {},
   "source": [
    "##### San Francisco 14R\n",
    "* No changes across the time based on the geography we have.\n",
    "* Direction 0 changes from Southbound to Westbound October 2023."
   ]
  },
  {
   "cell_type": "code",
   "execution_count": null,
   "id": "d6d1559a-4515-4339-92c6-29c50ebfd5d4",
   "metadata": {},
   "outputs": [],
   "source": [
    "changing_directions(\n",
    "    \"City and County of San Francisco\",\n",
    "    \"14R MISSION RAPID\",\n",
    "    \"7cc0cb1871dfd558f11a2885c145d144\",\n",
    ")"
   ]
  },
  {
   "cell_type": "markdown",
   "id": "aa2f8861-6303-4504-bed8-e5e5a98daa55",
   "metadata": {},
   "source": [
    "##### Fairfield - Route 7\n",
    "* No change based on the geography.\n",
    "* Both direction 0 and 1 change May 2023."
   ]
  },
  {
   "cell_type": "code",
   "execution_count": null,
   "id": "2b29355e-c4a8-43bd-9d55-9ee7e5786ba8",
   "metadata": {},
   "outputs": [],
   "source": [
    "changing_directions(\n",
    "    \"City of Fairfield\",\n",
    "    \"7 FTC/Solano College/Cordelia Library\",\n",
    "    \"0f5e1b251db53223200c5bfc365d33f2\",\n",
    ")"
   ]
  },
  {
   "cell_type": "markdown",
   "id": "22750c0f-3be2-463a-a787-35ff835f09c4",
   "metadata": {},
   "source": [
    "##### Ventura Route 1\n",
    "* This one is confusing, there are two values for direction 0 consistently? How is this possible?\n",
    "* Route does seem to genuinely change. "
   ]
  },
  {
   "cell_type": "code",
   "execution_count": null,
   "id": "dce4174d-42cb-4fee-9b4e-7aabbb1b696e",
   "metadata": {
    "tags": []
   },
   "outputs": [],
   "source": [
    "changing_directions(\n",
    "    \"Ventura County Transportation Commission\",\n",
    "    \"Route 1\",\n",
    "    \"1770249a5a2e770ca90628434d4934b1\",\n",
    ")"
   ]
  },
  {
   "cell_type": "markdown",
   "id": "f088e60f-498e-447b-b11a-9397cbacf650",
   "metadata": {},
   "source": [
    "##### LA Metro 256 Metro Local Line\n",
    "* Route genuinely changed."
   ]
  },
  {
   "cell_type": "code",
   "execution_count": null,
   "id": "1cce7c8e-c7b7-4c5a-8936-dbd5d9661096",
   "metadata": {},
   "outputs": [],
   "source": [
    "changing_directions(\n",
    "    \"Los Angeles County Metropolitan Transportation Authority\",\n",
    "    \"256 Metro Local Line\",\n",
    "    \"3f3f36b4c41cc6b5df3eb7f5d8ea6e3c\",\n",
    ")"
   ]
  },
  {
   "cell_type": "markdown",
   "id": "259ed96f-0cd6-497f-897b-452e4b85f6da",
   "metadata": {},
   "source": [
    "##### OmniTrans 82 RANCHO CUCAMONGA-FONTANA\t\n",
    "* No change in route geography.\n",
    "* Most of the directions are Southbound and Northbound.\n",
    "* It changes in May 2024"
   ]
  },
  {
   "cell_type": "code",
   "execution_count": null,
   "id": "6836d303-9f8a-4dc5-936a-7cdf98e06161",
   "metadata": {},
   "outputs": [],
   "source": [
    "changing_directions(\n",
    "    \"OmniTrans\",\n",
    "    \"82 RANCHO CUCAMONGA-FONTANA\",\n",
    "    \"95cb514215c61ca578b01d885f35ec0a\",\n",
    ")"
   ]
  },
  {
   "cell_type": "markdown",
   "id": "b9ca53d2-aa10-4310-a45d-af22534d3ce7",
   "metadata": {},
   "source": [
    "##### Riverside Transit Agency 13 Hunter Park Metro-Galleria\t\n",
    "* Route changed from August 2023.\n",
    "* "
   ]
  },
  {
   "cell_type": "code",
   "execution_count": null,
   "id": "eaad7bd4-b9c3-44f4-a97a-c8decdf56e49",
   "metadata": {},
   "outputs": [],
   "source": [
    "changing_directions(\n",
    "    \"Riverside Transit Agency\",\n",
    "    \"13 Hunter Park Metro-Galleria\",\n",
    "    \"d9d0325e50e50064e3cc8384b1751d67\",\n",
    ")"
   ]
  },
  {
   "cell_type": "markdown",
   "id": "439370bc-4fe1-44a4-984a-1fa62c69588c",
   "metadata": {},
   "source": [
    "### `schedule_stats_by_routes/cardinal_direction_for_route_direction` "
   ]
  },
  {
   "cell_type": "code",
   "execution_count": null,
   "id": "b6fb198c-ca98-475d-b1c5-97bc9b64d818",
   "metadata": {},
   "outputs": [],
   "source": [
    "dates_2023 = rt_dates.y2023_dates[0:4]"
   ]
  },
  {
   "cell_type": "code",
   "execution_count": null,
   "id": "4b2ecb5d-d026-40d8-8084-e4d4450e5442",
   "metadata": {},
   "outputs": [],
   "source": [
    "dates_2023"
   ]
  },
  {
   "cell_type": "code",
   "execution_count": null,
   "id": "2e1a0d86-d747-49f5-816f-a1e010000bee",
   "metadata": {},
   "outputs": [],
   "source": [
    "STOP_TIMES_FILE = GTFS_DATA_DICT.rt_vs_schedule_tables.stop_times_direction"
   ]
  },
  {
   "cell_type": "code",
   "execution_count": null,
   "id": "b5282bd2-580c-4537-915f-c9ffb953fb80",
   "metadata": {},
   "outputs": [],
   "source": [
    "stop_times_gdf = pd.DataFrame()\n",
    "for date in dates_2023:\n",
    "    df = pd.read_parquet(\n",
    "        f\"{RT_SCHED_GCS}{STOP_TIMES_FILE}_{date}.parquet\",\n",
    "        filters=[[(\"stop_primary_direction\", \"!=\", \"Unknown\")]],\n",
    "    )\n",
    "\n",
    "    stop_times_gdf = pd.concat([stop_times_gdf, df])"
   ]
  },
  {
   "cell_type": "code",
   "execution_count": null,
   "id": "ba131259-070d-4264-9274-c5724f36d765",
   "metadata": {},
   "outputs": [],
   "source": [
    "len(\n",
    "    stop_times_gdf.loc[\n",
    "        stop_times_gdf.schedule_gtfs_dataset_key == \"0f5e1b251db53223200c5bfc365d33f2\"\n",
    "    ]\n",
    ")"
   ]
  },
  {
   "cell_type": "code",
   "execution_count": null,
   "id": "544e0f73-b130-41ec-8676-777b02ff98be",
   "metadata": {},
   "outputs": [],
   "source": [
    "fairfield_stops = stop_times_gdf.loc[\n",
    "    stop_times_gdf.schedule_gtfs_dataset_key == \"0f5e1b251db53223200c5bfc365d33f2\"\n",
    "].reset_index(drop=True)"
   ]
  },
  {
   "cell_type": "code",
   "execution_count": null,
   "id": "e70fa0ca-7df6-4c3d-8f4e-178db46eac90",
   "metadata": {},
   "outputs": [],
   "source": [
    "fairfield_stops.head(2)"
   ]
  },
  {
   "cell_type": "code",
   "execution_count": null,
   "id": "fa38897d-a852-4879-9bd0-63d21bb262f3",
   "metadata": {},
   "outputs": [],
   "source": [
    "trip_scheduled_col = [\n",
    "    \"route_id\",\n",
    "    \"trip_instance_key\",\n",
    "    \"gtfs_dataset_key\",\n",
    "    \"shape_array_key\",\n",
    "    \"direction_id\",\n",
    "    \"route_long_name\",\n",
    "    \"route_short_name\",\n",
    "    \"route_desc\",\n",
    "    \"name\",\n",
    "]"
   ]
  },
  {
   "cell_type": "code",
   "execution_count": null,
   "id": "bad55c05-656e-4cbb-9ab1-53061534803a",
   "metadata": {},
   "outputs": [],
   "source": [
    "trips_df = pd.DataFrame()\n",
    "for date in dates_2023:\n",
    "    df = helpers.import_scheduled_trips(\n",
    "        date, columns=trip_scheduled_col, get_pandas=True\n",
    "    )\n",
    "\n",
    "    trips_df = pd.concat([trips_df, df])"
   ]
  },
  {
   "cell_type": "code",
   "execution_count": null,
   "id": "9a7f6b7e-96dd-4f30-9e68-d57be12354eb",
   "metadata": {},
   "outputs": [],
   "source": [
    "len(\n",
    "    trips_df.loc[\n",
    "        trips_df.schedule_gtfs_dataset_key == \"0f5e1b251db53223200c5bfc365d33f2\"\n",
    "    ]\n",
    ")"
   ]
  },
  {
   "cell_type": "code",
   "execution_count": null,
   "id": "75c3da25-a8c0-4b9b-9f31-c535ff01208b",
   "metadata": {},
   "outputs": [],
   "source": [
    "city_fairfield_trips = trips_df.loc[\n",
    "    trips_df.schedule_gtfs_dataset_key == \"0f5e1b251db53223200c5bfc365d33f2\"\n",
    "]"
   ]
  },
  {
   "cell_type": "code",
   "execution_count": null,
   "id": "ede3cfae-766e-4fc4-bad3-2a942cab0a11",
   "metadata": {},
   "outputs": [],
   "source": [
    "city_fairfield_trips = city_fairfield_trips.drop(columns=[\"route_desc\"])"
   ]
  },
  {
   "cell_type": "code",
   "execution_count": null,
   "id": "c9a1fb4d-f944-43cc-82b8-1788391c61c8",
   "metadata": {},
   "outputs": [],
   "source": [
    "len(\n",
    "    city_fairfield_trips.loc[\n",
    "        city_fairfield_trips.route_long_name.str.contains(\"Cordelia\")\n",
    "    ]\n",
    ")"
   ]
  },
  {
   "cell_type": "code",
   "execution_count": null,
   "id": "33db7c01-b956-49cc-8f40-a32e96d37e16",
   "metadata": {},
   "outputs": [],
   "source": [
    "cordelia = city_fairfield_trips.loc[\n",
    "    city_fairfield_trips.route_long_name.str.contains(\"Cordelia\")\n",
    "]"
   ]
  },
  {
   "cell_type": "code",
   "execution_count": null,
   "id": "b1bea309-9cbe-4c55-8e9f-21bfd0225d59",
   "metadata": {},
   "outputs": [],
   "source": [
    "merge_cols = [\"trip_instance_key\", \"schedule_gtfs_dataset_key\", \"shape_array_key\"]\n",
    "\n",
    "stop_times_with_trip = pd.merge(fairfield_stops, cordelia, on=merge_cols)"
   ]
  },
  {
   "cell_type": "code",
   "execution_count": null,
   "id": "71b7be99-d227-4782-a02c-3271314f094f",
   "metadata": {},
   "outputs": [],
   "source": [
    "stop_times_with_trip.head(2)"
   ]
  },
  {
   "cell_type": "code",
   "execution_count": null,
   "id": "fe21e3b6-ae3f-4e7a-9d49-71d89b195cd7",
   "metadata": {},
   "outputs": [],
   "source": [
    "main_cols = [\"route_id\", \"schedule_gtfs_dataset_key\", \"direction_id\"]\n",
    "\n",
    "agg1 = (\n",
    "    stop_times_with_trip.groupby(main_cols + [\"stop_primary_direction\"])\n",
    "    .agg({\"stop_sequence\": \"count\"})\n",
    "    .reset_index()\n",
    "    .rename(columns={\"stop_sequence\": \"total_stops\"})\n",
    ")"
   ]
  },
  {
   "cell_type": "code",
   "execution_count": null,
   "id": "0cc0c7ec-b764-4707-90d0-a92719259fd7",
   "metadata": {},
   "outputs": [],
   "source": [
    "agg2 = agg1.sort_values(\n",
    "    by=main_cols + [\"total_stops\"],\n",
    "    ascending=[True, True, True, False],\n",
    ")"
   ]
  },
  {
   "cell_type": "markdown",
   "id": "d3849f17-9ae9-4426-a591-a02f81766b70",
   "metadata": {},
   "source": [
    "#### Connect this back to route typologies"
   ]
  },
  {
   "cell_type": "code",
   "execution_count": null,
   "id": "8bbc13b8-8523-4370-8825-5cffcdb25681",
   "metadata": {},
   "outputs": [],
   "source": [
    "ROUTE_DIR_EXPORT = GTFS_DATA_DICT.rt_vs_schedule_tables.sched_route_direction_metrics"
   ]
  },
  {
   "cell_type": "code",
   "execution_count": null,
   "id": "f99ed88c-cf37-4cc6-8182-5f993b23d21c",
   "metadata": {},
   "outputs": [],
   "source": [
    "RT_SCHED_GCS"
   ]
  },
  {
   "cell_type": "code",
   "execution_count": null,
   "id": "c43c60b6-aeb2-44f7-a54f-8d7800c6e86f",
   "metadata": {},
   "outputs": [],
   "source": [
    "ROUTE_DIR_EXPORT"
   ]
  },
  {
   "cell_type": "code",
   "execution_count": null,
   "id": "308355e9-f808-450f-9dae-4151131740e5",
   "metadata": {},
   "outputs": [],
   "source": [
    "def open_add(file: str, date: str):\n",
    "    df = pd.read_parquet(\n",
    "        \"gs://calitp-analytics-data/data-analyses/rt_vs_schedule/schedule_route_dir/schedule_route_direction_metrics_2023-03-15.parquet\"\n",
    "    )\n",
    "    df[\"service_date\"] = date\n",
    "    return df"
   ]
  },
  {
   "cell_type": "code",
   "execution_count": null,
   "id": "721def52-b323-482f-b235-b698ddc15337",
   "metadata": {},
   "outputs": [],
   "source": [
    "march_df = open_add(\n",
    "    \"gs://calitp-analytics-data/data-analyses/rt_vs_schedule/schedule_route_dir/schedule_route_direction_metrics_2023-03-15.parquet\",\n",
    "    \"3-15\",\n",
    ")"
   ]
  },
  {
   "cell_type": "code",
   "execution_count": null,
   "id": "fe41ca53-2f1b-42c4-98d3-f40e96809e6a",
   "metadata": {},
   "outputs": [],
   "source": [
    "apr_df = open_add(\n",
    "    \"gs://calitp-analytics-data/data-analyses/rt_vs_schedule/schedule_route_dir/schedule_route_direction_metrics_2023-04-12.parquet\",\n",
    "    \"4-12\",\n",
    ")"
   ]
  },
  {
   "cell_type": "code",
   "execution_count": null,
   "id": "05fa922e-88d6-42fd-a000-4918febaf93b",
   "metadata": {},
   "outputs": [],
   "source": [
    "may_df = open_add(\n",
    "    \"gs://calitp-analytics-data/data-analyses/rt_vs_schedule/schedule_route_dir/schedule_route_direction_metrics_2023-05-17.parquet\",\n",
    "    \"5-17\",\n",
    ")"
   ]
  },
  {
   "cell_type": "code",
   "execution_count": null,
   "id": "84cbed54-4862-4ae8-90a2-fd209b865e09",
   "metadata": {},
   "outputs": [],
   "source": [
    "june_df = open_add(\n",
    "    \"gs://calitp-analytics-data/data-analyses/rt_vs_schedule/schedule_route_dir/schedule_route_direction_metrics_2023-06-14.parquet\",\n",
    "    \"6-14\",\n",
    ")"
   ]
  },
  {
   "cell_type": "code",
   "execution_count": null,
   "id": "5aa11b52-cb52-4157-a3f9-1783fedebf3b",
   "metadata": {},
   "outputs": [],
   "source": [
    "all_df = pd.concat([march_df, apr_df, may_df, june_df])"
   ]
  },
  {
   "cell_type": "code",
   "execution_count": null,
   "id": "a76ce4e1-b2f0-4783-9929-ce1a55e84ba3",
   "metadata": {},
   "outputs": [],
   "source": [
    "route_group_merge_cols = [\"schedule_gtfs_dataset_key\", \"route_id\", \"direction_id\"]"
   ]
  },
  {
   "cell_type": "code",
   "execution_count": null,
   "id": "93e568a4-ded8-43de-89e5-11f0f3dcbd9b",
   "metadata": {},
   "outputs": [],
   "source": [
    "m1 = pd.merge(agg2, all_df, on=route_group_merge_cols, how=\"left\")"
   ]
  },
  {
   "cell_type": "code",
   "execution_count": null,
   "id": "637eac05-dd7b-43e7-ac89-5b247ec89fed",
   "metadata": {},
   "outputs": [],
   "source": [
    "m1 = m1.drop(columns=[\"geometry\"])"
   ]
  },
  {
   "cell_type": "code",
   "execution_count": null,
   "id": "b6753c03-c609-4d91-8e6b-9a118689797e",
   "metadata": {},
   "outputs": [],
   "source": [
    "m1.head(1)"
   ]
  },
  {
   "cell_type": "code",
   "execution_count": null,
   "id": "6cdd4c5a-776e-4f1d-8235-70cdcca65fca",
   "metadata": {
    "scrolled": true,
    "tags": []
   },
   "outputs": [],
   "source": [
    "m1[\n",
    "    [\"service_date\", \"stop_primary_direction\", \"direction_id\", \"total_stops\"]\n",
    "].sort_values(\n",
    "    by=[\"service_date\", \"total_stops\"], ascending=[True, False]\n",
    ").drop_duplicates()"
   ]
  }
 ],
 "metadata": {
  "kernelspec": {
   "display_name": "Python 3 (ipykernel)",
   "language": "python",
   "name": "python3"
  },
  "language_info": {
   "codemirror_mode": {
    "name": "ipython",
    "version": 3
   },
   "file_extension": ".py",
   "mimetype": "text/x-python",
   "name": "python",
   "nbconvert_exporter": "python",
   "pygments_lexer": "ipython3",
   "version": "3.9.13"
  }
 },
 "nbformat": 4,
 "nbformat_minor": 5
}
