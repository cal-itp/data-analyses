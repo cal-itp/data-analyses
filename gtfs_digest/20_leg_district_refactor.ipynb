{
 "cells": [
  {
   "cell_type": "markdown",
   "id": "63d81926-1a22-4876-9e6d-e32e3f322ca6",
   "metadata": {},
   "source": [
    "# Refactoring `legislative_district_report.ipynb`"
   ]
  },
  {
   "cell_type": "code",
   "execution_count": 1,
   "id": "6a748cfd-5a21-4fb1-9a8d-d9aa8f760a58",
   "metadata": {},
   "outputs": [],
   "source": [
    "import _legislative_district_prep\n",
    "import _report_utils\n",
    "import geopandas as gpd\n",
    "import pandas as pd\n",
    "from great_tables import GT\n",
    "from update_vars import GTFS_DATA_DICT, RT_SCHED_GCS\n",
    "\n",
    "SHARED_GCS = GTFS_DATA_DICT.gcs_paths.SHARED_GCS"
   ]
  },
  {
   "cell_type": "code",
   "execution_count": 2,
   "id": "baca58fb-eb5a-4a2a-b72f-3f3793f9edd3",
   "metadata": {},
   "outputs": [],
   "source": [
    "pd.options.display.max_columns = 100\n",
    "pd.options.display.float_format = \"{:.2f}\".format\n",
    "pd.set_option(\"display.max_rows\", None)\n",
    "pd.set_option(\"display.max_colwidth\", None)"
   ]
  },
  {
   "cell_type": "code",
   "execution_count": 3,
   "id": "e61a6323-8315-4344-937d-6de1e55abf75",
   "metadata": {},
   "outputs": [],
   "source": [
    "import google.auth\n",
    "\n",
    "credentials, project = google.auth.default()\n",
    "\n",
    "import gcsfs\n",
    "\n",
    "fs = gcsfs.GCSFileSystem()"
   ]
  },
  {
   "cell_type": "code",
   "execution_count": 4,
   "id": "12428009-602a-467f-b402-fd1d195e08cb",
   "metadata": {
    "tags": []
   },
   "outputs": [],
   "source": [
    "# Comment out and leave this cell right below pandas\n",
    "district = \"AD 03\""
   ]
  },
  {
   "cell_type": "code",
   "execution_count": 5,
   "id": "3cb56929-bebb-4462-996e-5d4f22236342",
   "metadata": {
    "tags": []
   },
   "outputs": [],
   "source": [
    "district_full_name = _legislative_district_prep.readable_district_name(district)"
   ]
  },
  {
   "cell_type": "code",
   "execution_count": 6,
   "id": "2a38fc51-27f4-47b0-bd36-46ae05dc1c12",
   "metadata": {
    "tags": []
   },
   "outputs": [
    {
     "data": {
      "text/plain": [
       "'Assembly District 03'"
      ]
     },
     "execution_count": 6,
     "metadata": {},
     "output_type": "execute_result"
    }
   ],
   "source": [
    "district_full_name"
   ]
  },
  {
   "cell_type": "code",
   "execution_count": 65,
   "id": "a7034c98-8b1f-49ef-9752-da4f73f26894",
   "metadata": {
    "tags": []
   },
   "outputs": [],
   "source": [
    "def load_district_stats() -> pd.DataFrame:\n",
    "    OPERATOR_FILE = GTFS_DATA_DICT.digest_tables.operator_profiles\n",
    "\n",
    "    legislative_crosswalk = pd.read_parquet(\n",
    "        f\"{SHARED_GCS}crosswalk_transit_operators_legislative_districts.parquet\",\n",
    "        filters=[[(\"legislative_district\", \"==\", district)]],\n",
    "    )\n",
    "\n",
    "    operator_df = pd.read_parquet(\n",
    "        f\"{RT_SCHED_GCS}{OPERATOR_FILE}.parquet\",\n",
    "    )\n",
    "    m1 = operator_df.merge(legislative_crosswalk, on=\"name\", how=\"inner\")\n",
    "    # Keep only the most recent rows\n",
    "    m1 = m1.sort_values(\n",
    "        [\"service_date\", \"name\"], ascending=[False, True]\n",
    "    ).drop_duplicates(subset=[\"portfolio_organization_name\"])\n",
    "\n",
    "    return m1"
   ]
  },
  {
   "cell_type": "code",
   "execution_count": 70,
   "id": "45857041-7039-42cb-b271-3319320bac21",
   "metadata": {
    "tags": []
   },
   "outputs": [],
   "source": [
    "operator_df = load_district_stats()"
   ]
  },
  {
   "cell_type": "code",
   "execution_count": 71,
   "id": "bb6523c1-6bca-4265-a49e-ea3176fc1be8",
   "metadata": {
    "tags": []
   },
   "outputs": [
    {
     "data": {
      "text/plain": [
       "8"
      ]
     },
     "execution_count": 71,
     "metadata": {},
     "output_type": "execute_result"
    }
   ],
   "source": [
    "len(operator_df)"
   ]
  },
  {
   "cell_type": "code",
   "execution_count": 10,
   "id": "529383c3-967c-41a2-ad7d-e93e71ac4c1d",
   "metadata": {
    "tags": []
   },
   "outputs": [],
   "source": [
    "district_summary = _report_utils.district_stats(operator_df, \"legislative_district\")"
   ]
  },
  {
   "cell_type": "code",
   "execution_count": 11,
   "id": "64b156b1-8970-4747-b686-0dea6c71ce9b",
   "metadata": {
    "tags": []
   },
   "outputs": [
    {
     "data": {
      "text/html": [
       "<div>\n",
       "<style scoped>\n",
       "    .dataframe tbody tr th:only-of-type {\n",
       "        vertical-align: middle;\n",
       "    }\n",
       "\n",
       "    .dataframe tbody tr th {\n",
       "        vertical-align: top;\n",
       "    }\n",
       "\n",
       "    .dataframe thead th {\n",
       "        text-align: right;\n",
       "    }\n",
       "</style>\n",
       "<table border=\"1\" class=\"dataframe\">\n",
       "  <thead>\n",
       "    <tr style=\"text-align: right;\">\n",
       "      <th></th>\n",
       "      <th>0</th>\n",
       "    </tr>\n",
       "  </thead>\n",
       "  <tbody>\n",
       "    <tr>\n",
       "      <th>legislative_district</th>\n",
       "      <td>AD 03</td>\n",
       "    </tr>\n",
       "    <tr>\n",
       "      <th>n_operators</th>\n",
       "      <td>8</td>\n",
       "    </tr>\n",
       "    <tr>\n",
       "      <th>operator_n_routes</th>\n",
       "      <td>8094</td>\n",
       "    </tr>\n",
       "    <tr>\n",
       "      <th>operator_n_trips</th>\n",
       "      <td>61776</td>\n",
       "    </tr>\n",
       "    <tr>\n",
       "      <th>operator_n_stops</th>\n",
       "      <td>71648</td>\n",
       "    </tr>\n",
       "    <tr>\n",
       "      <th>operator_n_arrivals</th>\n",
       "      <td>863067</td>\n",
       "    </tr>\n",
       "    <tr>\n",
       "      <th>arrivals_per_stop</th>\n",
       "      <td>12.05</td>\n",
       "    </tr>\n",
       "    <tr>\n",
       "      <th>trips_per_operator</th>\n",
       "      <td>7722.00</td>\n",
       "    </tr>\n",
       "  </tbody>\n",
       "</table>\n",
       "</div>"
      ],
      "text/plain": [
       "                           0\n",
       "legislative_district   AD 03\n",
       "n_operators                8\n",
       "operator_n_routes       8094\n",
       "operator_n_trips       61776\n",
       "operator_n_stops       71648\n",
       "operator_n_arrivals   863067\n",
       "arrivals_per_stop      12.05\n",
       "trips_per_operator   7722.00"
      ]
     },
     "execution_count": 11,
     "metadata": {},
     "output_type": "execute_result"
    }
   ],
   "source": [
    "district_summary.T"
   ]
  },
  {
   "cell_type": "code",
   "execution_count": 12,
   "id": "aa5c4ff0-1309-4ee0-a571-9711e632039b",
   "metadata": {
    "tags": []
   },
   "outputs": [],
   "source": [
    "summary_table1 = (\n",
    "    GT(\n",
    "        district_summary.drop(columns=[\"arrivals_per_stop\", \"trips_per_operator\"]).pipe(\n",
    "            _report_utils.transpose_summary_stats, district_col=\"legislative_district\"\n",
    "        )\n",
    "    )\n",
    "    .fmt_integer(columns=\"value\")\n",
    "    .cols_label(index=\"\")\n",
    "    .tab_header(title=f\"{district_full_name} GTFS summary stats\")\n",
    ")\n",
    "\n",
    "summary_table2 = (\n",
    "    GT(\n",
    "        district_summary[\n",
    "            [\"legislative_district\", \"arrivals_per_stop\", \"trips_per_operator\"]\n",
    "        ].pipe(\n",
    "            _report_utils.transpose_summary_stats, district_col=\"legislative_district\"\n",
    "        )\n",
    "    )\n",
    "    .fmt_number(\"value\", decimals=1)\n",
    "    .cols_label(index=\"\")\n",
    ")"
   ]
  },
  {
   "cell_type": "code",
   "execution_count": 13,
   "id": "afaa4fa4-f9a4-4485-99b7-65a0ab100d89",
   "metadata": {
    "tags": []
   },
   "outputs": [
    {
     "data": {
      "text/html": [
       "<div id=\"rknmprjgss\" style=\"padding-left:0px;padding-right:0px;padding-top:10px;padding-bottom:10px;overflow-x:auto;overflow-y:auto;width:auto;height:auto;\">\n",
       "<style>\n",
       "#rknmprjgss table {\n",
       "          font-family: -apple-system, BlinkMacSystemFont, 'Segoe UI', Roboto, Oxygen, Ubuntu, Cantarell, 'Helvetica Neue', 'Fira Sans', 'Droid Sans', Arial, sans-serif;\n",
       "          -webkit-font-smoothing: antialiased;\n",
       "          -moz-osx-font-smoothing: grayscale;\n",
       "        }\n",
       "\n",
       "#rknmprjgss thead, tbody, tfoot, tr, td, th { border-style: none; }\n",
       " tr { background-color: transparent; }\n",
       "#rknmprjgss p { margin: 0; padding: 0; }\n",
       " #rknmprjgss .gt_table { display: table; border-collapse: collapse; line-height: normal; margin-left: auto; margin-right: auto; color: #333333; font-size: 16px; font-weight: normal; font-style: normal; background-color: #FFFFFF; width: auto; border-top-style: solid; border-top-width: 2px; border-top-color: #A8A8A8; border-right-style: none; border-right-width: 2px; border-right-color: #D3D3D3; border-bottom-style: solid; border-bottom-width: 2px; border-bottom-color: #A8A8A8; border-left-style: none; border-left-width: 2px; border-left-color: #D3D3D3; }\n",
       " #rknmprjgss .gt_caption { padding-top: 4px; padding-bottom: 4px; }\n",
       " #rknmprjgss .gt_title { color: #333333; font-size: 125%; font-weight: initial; padding-top: 4px; padding-bottom: 4px; padding-left: 5px; padding-right: 5px; border-bottom-color: #FFFFFF; border-bottom-width: 0; }\n",
       " #rknmprjgss .gt_subtitle { color: #333333; font-size: 85%; font-weight: initial; padding-top: 3px; padding-bottom: 5px; padding-left: 5px; padding-right: 5px; border-top-color: #FFFFFF; border-top-width: 0; }\n",
       " #rknmprjgss .gt_heading { background-color: #FFFFFF; text-align: center; border-bottom-color: #FFFFFF; border-left-style: none; border-left-width: 1px; border-left-color: #D3D3D3; border-right-style: none; border-right-width: 1px; border-right-color: #D3D3D3; }\n",
       " #rknmprjgss .gt_bottom_border { border-bottom-style: solid; border-bottom-width: 2px; border-bottom-color: #D3D3D3; }\n",
       " #rknmprjgss .gt_col_headings { border-top-style: solid; border-top-width: 2px; border-top-color: #D3D3D3; border-bottom-style: solid; border-bottom-width: 2px; border-bottom-color: #D3D3D3; border-left-style: none; border-left-width: 1px; border-left-color: #D3D3D3; border-right-style: none; border-right-width: 1px; border-right-color: #D3D3D3; }\n",
       " #rknmprjgss .gt_col_heading { color: #333333; background-color: #FFFFFF; font-size: 100%; font-weight: normal; text-transform: inherit; border-left-style: none; border-left-width: 1px; border-left-color: #D3D3D3; border-right-style: none; border-right-width: 1px; border-right-color: #D3D3D3; vertical-align: bottom; padding-top: 5px; padding-bottom: 5px; padding-left: 5px; padding-right: 5px; overflow-x: hidden; }\n",
       " #rknmprjgss .gt_column_spanner_outer { color: #333333; background-color: #FFFFFF; font-size: 100%; font-weight: normal; text-transform: inherit; padding-top: 0; padding-bottom: 0; padding-left: 4px; padding-right: 4px; }\n",
       " #rknmprjgss .gt_column_spanner_outer:first-child { padding-left: 0; }\n",
       " #rknmprjgss .gt_column_spanner_outer:last-child { padding-right: 0; }\n",
       " #rknmprjgss .gt_column_spanner { border-bottom-style: solid; border-bottom-width: 2px; border-bottom-color: #D3D3D3; vertical-align: bottom; padding-top: 5px; padding-bottom: 5px; overflow-x: hidden; display: inline-block; width: 100%; }\n",
       " #rknmprjgss .gt_spanner_row { border-bottom-style: hidden; }\n",
       " #rknmprjgss .gt_group_heading { padding-top: 8px; padding-bottom: 8px; padding-left: 5px; padding-right: 5px; color: #333333; background-color: #FFFFFF; font-size: 100%; font-weight: initial; text-transform: inherit; border-top-style: solid; border-top-width: 2px; border-top-color: #D3D3D3; border-bottom-style: solid; border-bottom-width: 2px; border-bottom-color: #D3D3D3; border-left-style: none; border-left-width: 1px; border-left-color: #D3D3D3; border-right-style: none; border-right-width: 1px; border-right-color: #D3D3D3; vertical-align: middle; text-align: left; }\n",
       " #rknmprjgss .gt_empty_group_heading { padding: 0.5px; color: #333333; background-color: #FFFFFF; font-size: 100%; font-weight: initial; border-top-style: solid; border-top-width: 2px; border-top-color: #D3D3D3; border-bottom-style: solid; border-bottom-width: 2px; border-bottom-color: #D3D3D3; vertical-align: middle; }\n",
       " #rknmprjgss .gt_from_md> :first-child { margin-top: 0; }\n",
       " #rknmprjgss .gt_from_md> :last-child { margin-bottom: 0; }\n",
       " #rknmprjgss .gt_row { padding-top: 8px; padding-bottom: 8px; padding-left: 5px; padding-right: 5px; margin: 10px; border-top-style: solid; border-top-width: 1px; border-top-color: #D3D3D3; border-left-style: none; border-left-width: 1px; border-left-color: #D3D3D3; border-right-style: none; border-right-width: 1px; border-right-color: #D3D3D3; vertical-align: middle; overflow-x: hidden; }\n",
       " #rknmprjgss .gt_stub { color: #333333; background-color: #FFFFFF; font-size: 100%; font-weight: initial; text-transform: inherit; border-right-style: solid; border-right-width: 2px; border-right-color: #D3D3D3; padding-left: 5px; padding-right: 5px; }\n",
       " #rknmprjgss .gt_stub_row_group { color: #333333; background-color: #FFFFFF; font-size: 100%; font-weight: initial; text-transform: inherit; border-right-style: solid; border-right-width: 2px; border-right-color: #D3D3D3; padding-left: 5px; padding-right: 5px; vertical-align: top; }\n",
       " #rknmprjgss .gt_row_group_first td { border-top-width: 2px; }\n",
       " #rknmprjgss .gt_row_group_first th { border-top-width: 2px; }\n",
       " #rknmprjgss .gt_striped { background-color: rgba(128,128,128,0.05); }\n",
       " #rknmprjgss .gt_table_body { border-top-style: solid; border-top-width: 2px; border-top-color: #D3D3D3; border-bottom-style: solid; border-bottom-width: 2px; border-bottom-color: #D3D3D3; }\n",
       " #rknmprjgss .gt_sourcenotes { color: #333333; background-color: #FFFFFF; border-bottom-style: none; border-bottom-width: 2px; border-bottom-color: #D3D3D3; border-left-style: none; border-left-width: 2px; border-left-color: #D3D3D3; border-right-style: none; border-right-width: 2px; border-right-color: #D3D3D3; }\n",
       " #rknmprjgss .gt_sourcenote { font-size: 90%; padding-top: 4px; padding-bottom: 4px; padding-left: 5px; padding-right: 5px; text-align: left; }\n",
       " #rknmprjgss .gt_left { text-align: left; }\n",
       " #rknmprjgss .gt_center { text-align: center; }\n",
       " #rknmprjgss .gt_right { text-align: right; font-variant-numeric: tabular-nums; }\n",
       " #rknmprjgss .gt_font_normal { font-weight: normal; }\n",
       " #rknmprjgss .gt_font_bold { font-weight: bold; }\n",
       " #rknmprjgss .gt_font_italic { font-style: italic; }\n",
       " #rknmprjgss .gt_super { font-size: 65%; }\n",
       " #rknmprjgss .gt_footnote_marks { font-size: 75%; vertical-align: 0.4em; position: initial; }\n",
       " #rknmprjgss .gt_asterisk { font-size: 100%; vertical-align: 0; }\n",
       " \n",
       "</style>\n",
       "<table class=\"gt_table\" data-quarto-disable-processing=\"false\" data-quarto-bootstrap=\"false\">\n",
       "<thead>\n",
       "\n",
       "  <tr class=\"gt_heading\">\n",
       "    <td colspan=\"2\" class=\"gt_heading gt_title gt_font_normal\">Assembly District 03 GTFS summary stats</td>\n",
       "  </tr>\n",
       "<tr class=\"gt_col_headings\">\n",
       "  <th class=\"gt_col_heading gt_columns_bottom_border gt_left\" rowspan=\"1\" colspan=\"1\" scope=\"col\" id=\"\"></th>\n",
       "  <th class=\"gt_col_heading gt_columns_bottom_border gt_right\" rowspan=\"1\" colspan=\"1\" scope=\"col\" id=\"Value\">Value</th>\n",
       "</tr>\n",
       "</thead>\n",
       "<tbody class=\"gt_table_body\">\n",
       "  <tr>\n",
       "    <td class=\"gt_row gt_left\"># Operators</td>\n",
       "    <td class=\"gt_row gt_right\">8</td>\n",
       "  </tr>\n",
       "  <tr>\n",
       "    <td class=\"gt_row gt_left\"># routes</td>\n",
       "    <td class=\"gt_row gt_right\">8,094</td>\n",
       "  </tr>\n",
       "  <tr>\n",
       "    <td class=\"gt_row gt_left\"># trips</td>\n",
       "    <td class=\"gt_row gt_right\">61,776</td>\n",
       "  </tr>\n",
       "  <tr>\n",
       "    <td class=\"gt_row gt_left\"># stops</td>\n",
       "    <td class=\"gt_row gt_right\">71,648</td>\n",
       "  </tr>\n",
       "  <tr>\n",
       "    <td class=\"gt_row gt_left\"># arrivals</td>\n",
       "    <td class=\"gt_row gt_right\">863,067</td>\n",
       "  </tr>\n",
       "</tbody>\n",
       "\n",
       "\n",
       "</table>\n",
       "\n",
       "</div>\n",
       "        "
      ],
      "text/plain": [
       "GT(_tbl_data=         index    Value\n",
       "0  # Operators        8\n",
       "1     # routes    8,094\n",
       "2      # trips   61,776\n",
       "3      # stops   71,648\n",
       "4   # arrivals  863,067, _body=<great_tables._gt_data.Body object at 0x7bbb11346490>, _boxhead=Boxhead([ColInfo(var='index', type=<ColInfoTypeEnum.default: 1>, column_label='', column_align='left', column_width=None), ColInfo(var='Value', type=<ColInfoTypeEnum.default: 1>, column_label='Value', column_align='right', column_width=None)]), _stub=<great_tables._gt_data.Stub object at 0x7bbb0e968dd0>, _spanners=Spanners([]), _heading=Heading(title='Assembly District 03 GTFS summary stats', subtitle=None, preheader=None), _stubhead=None, _source_notes=[], _footnotes=[], _styles=[], _locale=<great_tables._gt_data.Locale object at 0x7bbb1134c9d0>, _formats=[<great_tables._gt_data.FormatInfo object at 0x7bbb0e96b710>], _substitutions=[], _options=Options(table_id=OptionsInfo(scss=False, category='table', type='value', value=None), table_caption=OptionsInfo(scss=False, category='table', type='value', value=None), table_width=OptionsInfo(scss=True, category='table', type='px', value='auto'), table_layout=OptionsInfo(scss=True, category='table', type='value', value='fixed'), table_margin_left=OptionsInfo(scss=True, category='table', type='px', value='auto'), table_margin_right=OptionsInfo(scss=True, category='table', type='px', value='auto'), table_background_color=OptionsInfo(scss=True, category='table', type='value', value='#FFFFFF'), table_additional_css=OptionsInfo(scss=False, category='table', type='values', value=[]), table_font_names=OptionsInfo(scss=False, category='table', type='values', value=['-apple-system', 'BlinkMacSystemFont', 'Segoe UI', 'Roboto', 'Oxygen', 'Ubuntu', 'Cantarell', 'Helvetica Neue', 'Fira Sans', 'Droid Sans', 'Arial', 'sans-serif']), table_font_size=OptionsInfo(scss=True, category='table', type='px', value='16px'), table_font_weight=OptionsInfo(scss=True, category='table', type='value', value='normal'), table_font_style=OptionsInfo(scss=True, category='table', type='value', value='normal'), table_font_color=OptionsInfo(scss=True, category='table', type='value', value='#333333'), table_font_color_light=OptionsInfo(scss=True, category='table', type='value', value='#FFFFFF'), table_border_top_include=OptionsInfo(scss=False, category='table', type='boolean', value=True), table_border_top_style=OptionsInfo(scss=True, category='table', type='value', value='solid'), table_border_top_width=OptionsInfo(scss=True, category='table', type='px', value='2px'), table_border_top_color=OptionsInfo(scss=True, category='table', type='value', value='#A8A8A8'), table_border_right_style=OptionsInfo(scss=True, category='table', type='value', value='none'), table_border_right_width=OptionsInfo(scss=True, category='table', type='px', value='2px'), table_border_right_color=OptionsInfo(scss=True, category='table', type='value', value='#D3D3D3'), table_border_bottom_include=OptionsInfo(scss=False, category='table', type='boolean', value=True), table_border_bottom_style=OptionsInfo(scss=True, category='table', type='value', value='solid'), table_border_bottom_width=OptionsInfo(scss=True, category='table', type='px', value='2px'), table_border_bottom_color=OptionsInfo(scss=True, category='table', type='value', value='#A8A8A8'), table_border_left_style=OptionsInfo(scss=True, category='table', type='value', value='none'), table_border_left_width=OptionsInfo(scss=True, category='table', type='px', value='2px'), table_border_left_color=OptionsInfo(scss=True, category='table', type='value', value='#D3D3D3'), heading_background_color=OptionsInfo(scss=True, category='heading', type='value', value=None), heading_align=OptionsInfo(scss=True, category='heading', type='value', value='center'), heading_title_font_size=OptionsInfo(scss=True, category='heading', type='px', value='125%'), heading_title_font_weight=OptionsInfo(scss=True, category='heading', type='value', value='initial'), heading_subtitle_font_size=OptionsInfo(scss=True, category='heading', type='px', value='85%'), heading_subtitle_font_weight=OptionsInfo(scss=True, category='heading', type='value', value='initial'), heading_padding=OptionsInfo(scss=True, category='heading', type='px', value='4px'), heading_padding_horizontal=OptionsInfo(scss=True, category='heading', type='px', value='5px'), heading_border_bottom_style=OptionsInfo(scss=True, category='heading', type='value', value='solid'), heading_border_bottom_width=OptionsInfo(scss=True, category='heading', type='px', value='2px'), heading_border_bottom_color=OptionsInfo(scss=True, category='heading', type='value', value='#D3D3D3'), heading_border_lr_style=OptionsInfo(scss=True, category='heading', type='value', value='none'), heading_border_lr_width=OptionsInfo(scss=True, category='heading', type='px', value='1px'), heading_border_lr_color=OptionsInfo(scss=True, category='heading', type='value', value='#D3D3D3'), column_labels_background_color=OptionsInfo(scss=True, category='column_labels', type='value', value=None), column_labels_font_size=OptionsInfo(scss=True, category='column_labels', type='px', value='100%'), column_labels_font_weight=OptionsInfo(scss=True, category='column_labels', type='value', value='normal'), column_labels_text_transform=OptionsInfo(scss=True, category='column_labels', type='value', value='inherit'), column_labels_padding=OptionsInfo(scss=True, category='column_labels', type='px', value='5px'), column_labels_padding_horizontal=OptionsInfo(scss=True, category='column_labels', type='px', value='5px'), column_labels_vlines_style=OptionsInfo(scss=True, category='table_body', type='value', value='none'), column_labels_vlines_width=OptionsInfo(scss=True, category='table_body', type='px', value='1px'), column_labels_vlines_color=OptionsInfo(scss=True, category='table_body', type='value', value='#D3D3D3'), column_labels_border_top_style=OptionsInfo(scss=True, category='column_labels', type='value', value='solid'), column_labels_border_top_width=OptionsInfo(scss=True, category='column_labels', type='px', value='2px'), column_labels_border_top_color=OptionsInfo(scss=True, category='column_labels', type='value', value='#D3D3D3'), column_labels_border_bottom_style=OptionsInfo(scss=True, category='column_labels', type='value', value='solid'), column_labels_border_bottom_width=OptionsInfo(scss=True, category='column_labels', type='px', value='2px'), column_labels_border_bottom_color=OptionsInfo(scss=True, category='column_labels', type='value', value='#D3D3D3'), column_labels_border_lr_style=OptionsInfo(scss=True, category='column_labels', type='value', value='none'), column_labels_border_lr_width=OptionsInfo(scss=True, category='column_labels', type='px', value='1px'), column_labels_border_lr_color=OptionsInfo(scss=True, category='column_labels', type='value', value='#D3D3D3'), column_labels_hidden=OptionsInfo(scss=False, category='column_labels', type='boolean', value=False), row_group_background_color=OptionsInfo(scss=True, category='row_group', type='value', value=None), row_group_font_size=OptionsInfo(scss=True, category='row_group', type='px', value='100%'), row_group_font_weight=OptionsInfo(scss=True, category='row_group', type='value', value='initial'), row_group_text_transform=OptionsInfo(scss=True, category='row_group', type='value', value='inherit'), row_group_padding=OptionsInfo(scss=True, category='row_group', type='px', value='8px'), row_group_padding_horizontal=OptionsInfo(scss=True, category='row_group', type='px', value='5px'), row_group_border_top_style=OptionsInfo(scss=True, category='row_group', type='value', value='solid'), row_group_border_top_width=OptionsInfo(scss=True, category='row_group', type='px', value='2px'), row_group_border_top_color=OptionsInfo(scss=True, category='row_group', type='value', value='#D3D3D3'), row_group_border_right_style=OptionsInfo(scss=True, category='row_group', type='value', value='none'), row_group_border_right_width=OptionsInfo(scss=True, category='row_group', type='px', value='1px'), row_group_border_right_color=OptionsInfo(scss=True, category='row_group', type='value', value='#D3D3D3'), row_group_border_bottom_style=OptionsInfo(scss=True, category='row_group', type='value', value='solid'), row_group_border_bottom_width=OptionsInfo(scss=True, category='row_group', type='px', value='2px'), row_group_border_bottom_color=OptionsInfo(scss=True, category='row_group', type='value', value='#D3D3D3'), row_group_border_left_style=OptionsInfo(scss=True, category='row_group', type='value', value='none'), row_group_border_left_width=OptionsInfo(scss=True, category='row_group', type='px', value='1px'), row_group_border_left_color=OptionsInfo(scss=True, category='row_group', type='value', value='#D3D3D3'), row_group_as_column=OptionsInfo(scss=False, category='row_group', type='boolean', value=False), table_body_hlines_style=OptionsInfo(scss=True, category='table_body', type='value', value='solid'), table_body_hlines_width=OptionsInfo(scss=True, category='table_body', type='px', value='1px'), table_body_hlines_color=OptionsInfo(scss=True, category='table_body', type='value', value='#D3D3D3'), table_body_vlines_style=OptionsInfo(scss=True, category='table_body', type='value', value='none'), table_body_vlines_width=OptionsInfo(scss=True, category='table_body', type='px', value='1px'), table_body_vlines_color=OptionsInfo(scss=True, category='table_body', type='value', value='#D3D3D3'), table_body_border_top_style=OptionsInfo(scss=True, category='table_body', type='value', value='solid'), table_body_border_top_width=OptionsInfo(scss=True, category='table_body', type='px', value='2px'), table_body_border_top_color=OptionsInfo(scss=True, category='table_body', type='value', value='#D3D3D3'), table_body_border_bottom_style=OptionsInfo(scss=True, category='table_body', type='value', value='solid'), table_body_border_bottom_width=OptionsInfo(scss=True, category='table_body', type='px', value='2px'), table_body_border_bottom_color=OptionsInfo(scss=True, category='table_body', type='value', value='#D3D3D3'), data_row_padding=OptionsInfo(scss=True, category='data_row', type='px', value='8px'), data_row_padding_horizontal=OptionsInfo(scss=True, category='data_row', type='px', value='5px'), stub_background_color=OptionsInfo(scss=True, category='stub', type='value', value=None), stub_font_size=OptionsInfo(scss=True, category='stub', type='px', value='100%'), stub_font_weight=OptionsInfo(scss=True, category='stub', type='value', value='initial'), stub_text_transform=OptionsInfo(scss=True, category='stub', type='value', value='inherit'), stub_border_style=OptionsInfo(scss=True, category='stub', type='value', value='solid'), stub_border_width=OptionsInfo(scss=True, category='stub', type='px', value='2px'), stub_border_color=OptionsInfo(scss=True, category='stub', type='value', value='#D3D3D3'), stub_row_group_background_color=OptionsInfo(scss=True, category='stub', type='value', value=None), stub_row_group_font_size=OptionsInfo(scss=True, category='stub', type='px', value='100%'), stub_row_group_font_weight=OptionsInfo(scss=True, category='stub', type='value', value='initial'), stub_row_group_text_transform=OptionsInfo(scss=True, category='stub', type='value', value='inherit'), stub_row_group_border_style=OptionsInfo(scss=True, category='stub', type='value', value='solid'), stub_row_group_border_width=OptionsInfo(scss=True, category='stub', type='px', value='2px'), stub_row_group_border_color=OptionsInfo(scss=True, category='stub', type='value', value='#D3D3D3'), source_notes_padding=OptionsInfo(scss=True, category='source_notes', type='px', value='4px'), source_notes_padding_horizontal=OptionsInfo(scss=True, category='source_notes', type='px', value='5px'), source_notes_background_color=OptionsInfo(scss=True, category='source_notes', type='value', value=None), source_notes_font_size=OptionsInfo(scss=True, category='source_notes', type='px', value='90%'), source_notes_border_bottom_style=OptionsInfo(scss=True, category='source_notes', type='value', value='none'), source_notes_border_bottom_width=OptionsInfo(scss=True, category='source_notes', type='px', value='2px'), source_notes_border_bottom_color=OptionsInfo(scss=True, category='source_notes', type='value', value='#D3D3D3'), source_notes_border_lr_style=OptionsInfo(scss=True, category='source_notes', type='value', value='none'), source_notes_border_lr_width=OptionsInfo(scss=True, category='source_notes', type='px', value='2px'), source_notes_border_lr_color=OptionsInfo(scss=True, category='source_notes', type='value', value='#D3D3D3'), source_notes_multiline=OptionsInfo(scss=False, category='source_notes', type='boolean', value=True), source_notes_sep=OptionsInfo(scss=False, category='source_notes', type='value', value=' '), row_striping_background_color=OptionsInfo(scss=True, category='row', type='value', value='rgba(128,128,128,0.05)'), row_striping_include_stub=OptionsInfo(scss=False, category='row', type='boolean', value=False), row_striping_include_table_body=OptionsInfo(scss=False, category='row', type='boolean', value=False), container_width=OptionsInfo(scss=False, category='container', type='px', value='auto'), container_height=OptionsInfo(scss=False, category='container', type='px', value='auto'), container_padding_x=OptionsInfo(scss=False, category='container', type='px', value='0px'), container_padding_y=OptionsInfo(scss=False, category='container', type='px', value='10px'), container_overflow_x=OptionsInfo(scss=False, category='container', type='overflow', value='auto'), container_overflow_y=OptionsInfo(scss=False, category='container', type='overflow', value='auto'), quarto_disable_processing=OptionsInfo(scss=False, category='quarto', type='logical', value=False), quarto_use_bootstrap=OptionsInfo(scss=False, category='quarto', type='logical', value=False)), _has_built=False)"
      ]
     },
     "execution_count": 13,
     "metadata": {},
     "output_type": "execute_result"
    }
   ],
   "source": [
    "summary_table1"
   ]
  },
  {
   "cell_type": "code",
   "execution_count": 14,
   "id": "56e8509d-fc42-4928-bfe3-d5b8f05ff9d1",
   "metadata": {
    "tags": []
   },
   "outputs": [
    {
     "data": {
      "text/html": [
       "<div id=\"epbcurmhpl\" style=\"padding-left:0px;padding-right:0px;padding-top:10px;padding-bottom:10px;overflow-x:auto;overflow-y:auto;width:auto;height:auto;\">\n",
       "<style>\n",
       "#epbcurmhpl table {\n",
       "          font-family: -apple-system, BlinkMacSystemFont, 'Segoe UI', Roboto, Oxygen, Ubuntu, Cantarell, 'Helvetica Neue', 'Fira Sans', 'Droid Sans', Arial, sans-serif;\n",
       "          -webkit-font-smoothing: antialiased;\n",
       "          -moz-osx-font-smoothing: grayscale;\n",
       "        }\n",
       "\n",
       "#epbcurmhpl thead, tbody, tfoot, tr, td, th { border-style: none; }\n",
       " tr { background-color: transparent; }\n",
       "#epbcurmhpl p { margin: 0; padding: 0; }\n",
       " #epbcurmhpl .gt_table { display: table; border-collapse: collapse; line-height: normal; margin-left: auto; margin-right: auto; color: #333333; font-size: 16px; font-weight: normal; font-style: normal; background-color: #FFFFFF; width: auto; border-top-style: solid; border-top-width: 2px; border-top-color: #A8A8A8; border-right-style: none; border-right-width: 2px; border-right-color: #D3D3D3; border-bottom-style: solid; border-bottom-width: 2px; border-bottom-color: #A8A8A8; border-left-style: none; border-left-width: 2px; border-left-color: #D3D3D3; }\n",
       " #epbcurmhpl .gt_caption { padding-top: 4px; padding-bottom: 4px; }\n",
       " #epbcurmhpl .gt_title { color: #333333; font-size: 125%; font-weight: initial; padding-top: 4px; padding-bottom: 4px; padding-left: 5px; padding-right: 5px; border-bottom-color: #FFFFFF; border-bottom-width: 0; }\n",
       " #epbcurmhpl .gt_subtitle { color: #333333; font-size: 85%; font-weight: initial; padding-top: 3px; padding-bottom: 5px; padding-left: 5px; padding-right: 5px; border-top-color: #FFFFFF; border-top-width: 0; }\n",
       " #epbcurmhpl .gt_heading { background-color: #FFFFFF; text-align: center; border-bottom-color: #FFFFFF; border-left-style: none; border-left-width: 1px; border-left-color: #D3D3D3; border-right-style: none; border-right-width: 1px; border-right-color: #D3D3D3; }\n",
       " #epbcurmhpl .gt_bottom_border { border-bottom-style: solid; border-bottom-width: 2px; border-bottom-color: #D3D3D3; }\n",
       " #epbcurmhpl .gt_col_headings { border-top-style: solid; border-top-width: 2px; border-top-color: #D3D3D3; border-bottom-style: solid; border-bottom-width: 2px; border-bottom-color: #D3D3D3; border-left-style: none; border-left-width: 1px; border-left-color: #D3D3D3; border-right-style: none; border-right-width: 1px; border-right-color: #D3D3D3; }\n",
       " #epbcurmhpl .gt_col_heading { color: #333333; background-color: #FFFFFF; font-size: 100%; font-weight: normal; text-transform: inherit; border-left-style: none; border-left-width: 1px; border-left-color: #D3D3D3; border-right-style: none; border-right-width: 1px; border-right-color: #D3D3D3; vertical-align: bottom; padding-top: 5px; padding-bottom: 5px; padding-left: 5px; padding-right: 5px; overflow-x: hidden; }\n",
       " #epbcurmhpl .gt_column_spanner_outer { color: #333333; background-color: #FFFFFF; font-size: 100%; font-weight: normal; text-transform: inherit; padding-top: 0; padding-bottom: 0; padding-left: 4px; padding-right: 4px; }\n",
       " #epbcurmhpl .gt_column_spanner_outer:first-child { padding-left: 0; }\n",
       " #epbcurmhpl .gt_column_spanner_outer:last-child { padding-right: 0; }\n",
       " #epbcurmhpl .gt_column_spanner { border-bottom-style: solid; border-bottom-width: 2px; border-bottom-color: #D3D3D3; vertical-align: bottom; padding-top: 5px; padding-bottom: 5px; overflow-x: hidden; display: inline-block; width: 100%; }\n",
       " #epbcurmhpl .gt_spanner_row { border-bottom-style: hidden; }\n",
       " #epbcurmhpl .gt_group_heading { padding-top: 8px; padding-bottom: 8px; padding-left: 5px; padding-right: 5px; color: #333333; background-color: #FFFFFF; font-size: 100%; font-weight: initial; text-transform: inherit; border-top-style: solid; border-top-width: 2px; border-top-color: #D3D3D3; border-bottom-style: solid; border-bottom-width: 2px; border-bottom-color: #D3D3D3; border-left-style: none; border-left-width: 1px; border-left-color: #D3D3D3; border-right-style: none; border-right-width: 1px; border-right-color: #D3D3D3; vertical-align: middle; text-align: left; }\n",
       " #epbcurmhpl .gt_empty_group_heading { padding: 0.5px; color: #333333; background-color: #FFFFFF; font-size: 100%; font-weight: initial; border-top-style: solid; border-top-width: 2px; border-top-color: #D3D3D3; border-bottom-style: solid; border-bottom-width: 2px; border-bottom-color: #D3D3D3; vertical-align: middle; }\n",
       " #epbcurmhpl .gt_from_md> :first-child { margin-top: 0; }\n",
       " #epbcurmhpl .gt_from_md> :last-child { margin-bottom: 0; }\n",
       " #epbcurmhpl .gt_row { padding-top: 8px; padding-bottom: 8px; padding-left: 5px; padding-right: 5px; margin: 10px; border-top-style: solid; border-top-width: 1px; border-top-color: #D3D3D3; border-left-style: none; border-left-width: 1px; border-left-color: #D3D3D3; border-right-style: none; border-right-width: 1px; border-right-color: #D3D3D3; vertical-align: middle; overflow-x: hidden; }\n",
       " #epbcurmhpl .gt_stub { color: #333333; background-color: #FFFFFF; font-size: 100%; font-weight: initial; text-transform: inherit; border-right-style: solid; border-right-width: 2px; border-right-color: #D3D3D3; padding-left: 5px; padding-right: 5px; }\n",
       " #epbcurmhpl .gt_stub_row_group { color: #333333; background-color: #FFFFFF; font-size: 100%; font-weight: initial; text-transform: inherit; border-right-style: solid; border-right-width: 2px; border-right-color: #D3D3D3; padding-left: 5px; padding-right: 5px; vertical-align: top; }\n",
       " #epbcurmhpl .gt_row_group_first td { border-top-width: 2px; }\n",
       " #epbcurmhpl .gt_row_group_first th { border-top-width: 2px; }\n",
       " #epbcurmhpl .gt_striped { background-color: rgba(128,128,128,0.05); }\n",
       " #epbcurmhpl .gt_table_body { border-top-style: solid; border-top-width: 2px; border-top-color: #D3D3D3; border-bottom-style: solid; border-bottom-width: 2px; border-bottom-color: #D3D3D3; }\n",
       " #epbcurmhpl .gt_sourcenotes { color: #333333; background-color: #FFFFFF; border-bottom-style: none; border-bottom-width: 2px; border-bottom-color: #D3D3D3; border-left-style: none; border-left-width: 2px; border-left-color: #D3D3D3; border-right-style: none; border-right-width: 2px; border-right-color: #D3D3D3; }\n",
       " #epbcurmhpl .gt_sourcenote { font-size: 90%; padding-top: 4px; padding-bottom: 4px; padding-left: 5px; padding-right: 5px; text-align: left; }\n",
       " #epbcurmhpl .gt_left { text-align: left; }\n",
       " #epbcurmhpl .gt_center { text-align: center; }\n",
       " #epbcurmhpl .gt_right { text-align: right; font-variant-numeric: tabular-nums; }\n",
       " #epbcurmhpl .gt_font_normal { font-weight: normal; }\n",
       " #epbcurmhpl .gt_font_bold { font-weight: bold; }\n",
       " #epbcurmhpl .gt_font_italic { font-style: italic; }\n",
       " #epbcurmhpl .gt_super { font-size: 65%; }\n",
       " #epbcurmhpl .gt_footnote_marks { font-size: 75%; vertical-align: 0.4em; position: initial; }\n",
       " #epbcurmhpl .gt_asterisk { font-size: 100%; vertical-align: 0; }\n",
       " \n",
       "</style>\n",
       "<table class=\"gt_table\" data-quarto-disable-processing=\"false\" data-quarto-bootstrap=\"false\">\n",
       "<thead>\n",
       "\n",
       "<tr class=\"gt_col_headings\">\n",
       "  <th class=\"gt_col_heading gt_columns_bottom_border gt_left\" rowspan=\"1\" colspan=\"1\" scope=\"col\" id=\"\"></th>\n",
       "  <th class=\"gt_col_heading gt_columns_bottom_border gt_right\" rowspan=\"1\" colspan=\"1\" scope=\"col\" id=\"Value\">Value</th>\n",
       "</tr>\n",
       "</thead>\n",
       "<tbody class=\"gt_table_body\">\n",
       "  <tr>\n",
       "    <td class=\"gt_row gt_left\">Arrivals per Stop</td>\n",
       "    <td class=\"gt_row gt_right\">12.05</td>\n",
       "  </tr>\n",
       "  <tr>\n",
       "    <td class=\"gt_row gt_left\">Trips per Operator</td>\n",
       "    <td class=\"gt_row gt_right\">7,722.0</td>\n",
       "  </tr>\n",
       "</tbody>\n",
       "\n",
       "\n",
       "</table>\n",
       "\n",
       "</div>\n",
       "        "
      ],
      "text/plain": [
       "GT(_tbl_data=                index    Value\n",
       "0   Arrivals per Stop    12.05\n",
       "1  Trips per Operator  7,722.0, _body=<great_tables._gt_data.Body object at 0x7bbb1134d010>, _boxhead=Boxhead([ColInfo(var='index', type=<ColInfoTypeEnum.default: 1>, column_label='', column_align='left', column_width=None), ColInfo(var='Value', type=<ColInfoTypeEnum.default: 1>, column_label='Value', column_align='right', column_width=None)]), _stub=<great_tables._gt_data.Stub object at 0x7bbb28784f50>, _spanners=Spanners([]), _heading=Heading(title=None, subtitle=None, preheader=None), _stubhead=None, _source_notes=[], _footnotes=[], _styles=[], _locale=<great_tables._gt_data.Locale object at 0x7bbb0ea11510>, _formats=[<great_tables._gt_data.FormatInfo object at 0x7bbb0ea11150>], _substitutions=[], _options=Options(table_id=OptionsInfo(scss=False, category='table', type='value', value=None), table_caption=OptionsInfo(scss=False, category='table', type='value', value=None), table_width=OptionsInfo(scss=True, category='table', type='px', value='auto'), table_layout=OptionsInfo(scss=True, category='table', type='value', value='fixed'), table_margin_left=OptionsInfo(scss=True, category='table', type='px', value='auto'), table_margin_right=OptionsInfo(scss=True, category='table', type='px', value='auto'), table_background_color=OptionsInfo(scss=True, category='table', type='value', value='#FFFFFF'), table_additional_css=OptionsInfo(scss=False, category='table', type='values', value=[]), table_font_names=OptionsInfo(scss=False, category='table', type='values', value=['-apple-system', 'BlinkMacSystemFont', 'Segoe UI', 'Roboto', 'Oxygen', 'Ubuntu', 'Cantarell', 'Helvetica Neue', 'Fira Sans', 'Droid Sans', 'Arial', 'sans-serif']), table_font_size=OptionsInfo(scss=True, category='table', type='px', value='16px'), table_font_weight=OptionsInfo(scss=True, category='table', type='value', value='normal'), table_font_style=OptionsInfo(scss=True, category='table', type='value', value='normal'), table_font_color=OptionsInfo(scss=True, category='table', type='value', value='#333333'), table_font_color_light=OptionsInfo(scss=True, category='table', type='value', value='#FFFFFF'), table_border_top_include=OptionsInfo(scss=False, category='table', type='boolean', value=True), table_border_top_style=OptionsInfo(scss=True, category='table', type='value', value='solid'), table_border_top_width=OptionsInfo(scss=True, category='table', type='px', value='2px'), table_border_top_color=OptionsInfo(scss=True, category='table', type='value', value='#A8A8A8'), table_border_right_style=OptionsInfo(scss=True, category='table', type='value', value='none'), table_border_right_width=OptionsInfo(scss=True, category='table', type='px', value='2px'), table_border_right_color=OptionsInfo(scss=True, category='table', type='value', value='#D3D3D3'), table_border_bottom_include=OptionsInfo(scss=False, category='table', type='boolean', value=True), table_border_bottom_style=OptionsInfo(scss=True, category='table', type='value', value='solid'), table_border_bottom_width=OptionsInfo(scss=True, category='table', type='px', value='2px'), table_border_bottom_color=OptionsInfo(scss=True, category='table', type='value', value='#A8A8A8'), table_border_left_style=OptionsInfo(scss=True, category='table', type='value', value='none'), table_border_left_width=OptionsInfo(scss=True, category='table', type='px', value='2px'), table_border_left_color=OptionsInfo(scss=True, category='table', type='value', value='#D3D3D3'), heading_background_color=OptionsInfo(scss=True, category='heading', type='value', value=None), heading_align=OptionsInfo(scss=True, category='heading', type='value', value='center'), heading_title_font_size=OptionsInfo(scss=True, category='heading', type='px', value='125%'), heading_title_font_weight=OptionsInfo(scss=True, category='heading', type='value', value='initial'), heading_subtitle_font_size=OptionsInfo(scss=True, category='heading', type='px', value='85%'), heading_subtitle_font_weight=OptionsInfo(scss=True, category='heading', type='value', value='initial'), heading_padding=OptionsInfo(scss=True, category='heading', type='px', value='4px'), heading_padding_horizontal=OptionsInfo(scss=True, category='heading', type='px', value='5px'), heading_border_bottom_style=OptionsInfo(scss=True, category='heading', type='value', value='solid'), heading_border_bottom_width=OptionsInfo(scss=True, category='heading', type='px', value='2px'), heading_border_bottom_color=OptionsInfo(scss=True, category='heading', type='value', value='#D3D3D3'), heading_border_lr_style=OptionsInfo(scss=True, category='heading', type='value', value='none'), heading_border_lr_width=OptionsInfo(scss=True, category='heading', type='px', value='1px'), heading_border_lr_color=OptionsInfo(scss=True, category='heading', type='value', value='#D3D3D3'), column_labels_background_color=OptionsInfo(scss=True, category='column_labels', type='value', value=None), column_labels_font_size=OptionsInfo(scss=True, category='column_labels', type='px', value='100%'), column_labels_font_weight=OptionsInfo(scss=True, category='column_labels', type='value', value='normal'), column_labels_text_transform=OptionsInfo(scss=True, category='column_labels', type='value', value='inherit'), column_labels_padding=OptionsInfo(scss=True, category='column_labels', type='px', value='5px'), column_labels_padding_horizontal=OptionsInfo(scss=True, category='column_labels', type='px', value='5px'), column_labels_vlines_style=OptionsInfo(scss=True, category='table_body', type='value', value='none'), column_labels_vlines_width=OptionsInfo(scss=True, category='table_body', type='px', value='1px'), column_labels_vlines_color=OptionsInfo(scss=True, category='table_body', type='value', value='#D3D3D3'), column_labels_border_top_style=OptionsInfo(scss=True, category='column_labels', type='value', value='solid'), column_labels_border_top_width=OptionsInfo(scss=True, category='column_labels', type='px', value='2px'), column_labels_border_top_color=OptionsInfo(scss=True, category='column_labels', type='value', value='#D3D3D3'), column_labels_border_bottom_style=OptionsInfo(scss=True, category='column_labels', type='value', value='solid'), column_labels_border_bottom_width=OptionsInfo(scss=True, category='column_labels', type='px', value='2px'), column_labels_border_bottom_color=OptionsInfo(scss=True, category='column_labels', type='value', value='#D3D3D3'), column_labels_border_lr_style=OptionsInfo(scss=True, category='column_labels', type='value', value='none'), column_labels_border_lr_width=OptionsInfo(scss=True, category='column_labels', type='px', value='1px'), column_labels_border_lr_color=OptionsInfo(scss=True, category='column_labels', type='value', value='#D3D3D3'), column_labels_hidden=OptionsInfo(scss=False, category='column_labels', type='boolean', value=False), row_group_background_color=OptionsInfo(scss=True, category='row_group', type='value', value=None), row_group_font_size=OptionsInfo(scss=True, category='row_group', type='px', value='100%'), row_group_font_weight=OptionsInfo(scss=True, category='row_group', type='value', value='initial'), row_group_text_transform=OptionsInfo(scss=True, category='row_group', type='value', value='inherit'), row_group_padding=OptionsInfo(scss=True, category='row_group', type='px', value='8px'), row_group_padding_horizontal=OptionsInfo(scss=True, category='row_group', type='px', value='5px'), row_group_border_top_style=OptionsInfo(scss=True, category='row_group', type='value', value='solid'), row_group_border_top_width=OptionsInfo(scss=True, category='row_group', type='px', value='2px'), row_group_border_top_color=OptionsInfo(scss=True, category='row_group', type='value', value='#D3D3D3'), row_group_border_right_style=OptionsInfo(scss=True, category='row_group', type='value', value='none'), row_group_border_right_width=OptionsInfo(scss=True, category='row_group', type='px', value='1px'), row_group_border_right_color=OptionsInfo(scss=True, category='row_group', type='value', value='#D3D3D3'), row_group_border_bottom_style=OptionsInfo(scss=True, category='row_group', type='value', value='solid'), row_group_border_bottom_width=OptionsInfo(scss=True, category='row_group', type='px', value='2px'), row_group_border_bottom_color=OptionsInfo(scss=True, category='row_group', type='value', value='#D3D3D3'), row_group_border_left_style=OptionsInfo(scss=True, category='row_group', type='value', value='none'), row_group_border_left_width=OptionsInfo(scss=True, category='row_group', type='px', value='1px'), row_group_border_left_color=OptionsInfo(scss=True, category='row_group', type='value', value='#D3D3D3'), row_group_as_column=OptionsInfo(scss=False, category='row_group', type='boolean', value=False), table_body_hlines_style=OptionsInfo(scss=True, category='table_body', type='value', value='solid'), table_body_hlines_width=OptionsInfo(scss=True, category='table_body', type='px', value='1px'), table_body_hlines_color=OptionsInfo(scss=True, category='table_body', type='value', value='#D3D3D3'), table_body_vlines_style=OptionsInfo(scss=True, category='table_body', type='value', value='none'), table_body_vlines_width=OptionsInfo(scss=True, category='table_body', type='px', value='1px'), table_body_vlines_color=OptionsInfo(scss=True, category='table_body', type='value', value='#D3D3D3'), table_body_border_top_style=OptionsInfo(scss=True, category='table_body', type='value', value='solid'), table_body_border_top_width=OptionsInfo(scss=True, category='table_body', type='px', value='2px'), table_body_border_top_color=OptionsInfo(scss=True, category='table_body', type='value', value='#D3D3D3'), table_body_border_bottom_style=OptionsInfo(scss=True, category='table_body', type='value', value='solid'), table_body_border_bottom_width=OptionsInfo(scss=True, category='table_body', type='px', value='2px'), table_body_border_bottom_color=OptionsInfo(scss=True, category='table_body', type='value', value='#D3D3D3'), data_row_padding=OptionsInfo(scss=True, category='data_row', type='px', value='8px'), data_row_padding_horizontal=OptionsInfo(scss=True, category='data_row', type='px', value='5px'), stub_background_color=OptionsInfo(scss=True, category='stub', type='value', value=None), stub_font_size=OptionsInfo(scss=True, category='stub', type='px', value='100%'), stub_font_weight=OptionsInfo(scss=True, category='stub', type='value', value='initial'), stub_text_transform=OptionsInfo(scss=True, category='stub', type='value', value='inherit'), stub_border_style=OptionsInfo(scss=True, category='stub', type='value', value='solid'), stub_border_width=OptionsInfo(scss=True, category='stub', type='px', value='2px'), stub_border_color=OptionsInfo(scss=True, category='stub', type='value', value='#D3D3D3'), stub_row_group_background_color=OptionsInfo(scss=True, category='stub', type='value', value=None), stub_row_group_font_size=OptionsInfo(scss=True, category='stub', type='px', value='100%'), stub_row_group_font_weight=OptionsInfo(scss=True, category='stub', type='value', value='initial'), stub_row_group_text_transform=OptionsInfo(scss=True, category='stub', type='value', value='inherit'), stub_row_group_border_style=OptionsInfo(scss=True, category='stub', type='value', value='solid'), stub_row_group_border_width=OptionsInfo(scss=True, category='stub', type='px', value='2px'), stub_row_group_border_color=OptionsInfo(scss=True, category='stub', type='value', value='#D3D3D3'), source_notes_padding=OptionsInfo(scss=True, category='source_notes', type='px', value='4px'), source_notes_padding_horizontal=OptionsInfo(scss=True, category='source_notes', type='px', value='5px'), source_notes_background_color=OptionsInfo(scss=True, category='source_notes', type='value', value=None), source_notes_font_size=OptionsInfo(scss=True, category='source_notes', type='px', value='90%'), source_notes_border_bottom_style=OptionsInfo(scss=True, category='source_notes', type='value', value='none'), source_notes_border_bottom_width=OptionsInfo(scss=True, category='source_notes', type='px', value='2px'), source_notes_border_bottom_color=OptionsInfo(scss=True, category='source_notes', type='value', value='#D3D3D3'), source_notes_border_lr_style=OptionsInfo(scss=True, category='source_notes', type='value', value='none'), source_notes_border_lr_width=OptionsInfo(scss=True, category='source_notes', type='px', value='2px'), source_notes_border_lr_color=OptionsInfo(scss=True, category='source_notes', type='value', value='#D3D3D3'), source_notes_multiline=OptionsInfo(scss=False, category='source_notes', type='boolean', value=True), source_notes_sep=OptionsInfo(scss=False, category='source_notes', type='value', value=' '), row_striping_background_color=OptionsInfo(scss=True, category='row', type='value', value='rgba(128,128,128,0.05)'), row_striping_include_stub=OptionsInfo(scss=False, category='row', type='boolean', value=False), row_striping_include_table_body=OptionsInfo(scss=False, category='row', type='boolean', value=False), container_width=OptionsInfo(scss=False, category='container', type='px', value='auto'), container_height=OptionsInfo(scss=False, category='container', type='px', value='auto'), container_padding_x=OptionsInfo(scss=False, category='container', type='px', value='0px'), container_padding_y=OptionsInfo(scss=False, category='container', type='px', value='10px'), container_overflow_x=OptionsInfo(scss=False, category='container', type='overflow', value='auto'), container_overflow_y=OptionsInfo(scss=False, category='container', type='overflow', value='auto'), quarto_disable_processing=OptionsInfo(scss=False, category='quarto', type='logical', value=False), quarto_use_bootstrap=OptionsInfo(scss=False, category='quarto', type='logical', value=False)), _has_built=False)"
      ]
     },
     "execution_count": 14,
     "metadata": {},
     "output_type": "execute_result"
    }
   ],
   "source": [
    "summary_table2"
   ]
  },
  {
   "cell_type": "code",
   "execution_count": 48,
   "id": "eff265ed-af10-442d-87fa-2d57e4638360",
   "metadata": {
    "tags": []
   },
   "outputs": [],
   "source": [
    "def load_gtfs_data(df: pd.DataFrame) -> pd.DataFrame:\n",
    "    # Load the relevant operators in the district\n",
    "    operators_in_district = df.schedule_gtfs_dataset_key.unique()\n",
    "\n",
    "    OPERATOR_ROUTE = GTFS_DATA_DICT.digest_tables.operator_routes_map\n",
    "\n",
    "    operator_route_gdf = gpd.read_parquet(\n",
    "        f\"{RT_SCHED_GCS}{OPERATOR_ROUTE}.parquet\",\n",
    "        storage_options={\"token\": credentials.token},\n",
    "    )\n",
    "    operator_route_gdf = operator_route_gdf.loc[\n",
    "        operator_route_gdf.schedule_gtfs_dataset_key.isin(operators_in_district)\n",
    "    ][\n",
    "        [\n",
    "            \"portfolio_organization_name\",\n",
    "            \"service_date\",\n",
    "            \"recent_combined_name\",\n",
    "            \"geometry\",\n",
    "        ]\n",
    "    ]\n",
    "\n",
    "    # Only keep the most recent transit route geographies\n",
    "    operator_route_gdf2 = operator_route_gdf.drop_duplicates(\n",
    "        subset=[\"portfolio_organization_name\", \"recent_combined_name\"]\n",
    "    )\n",
    "    operator_route_gdf2 = operator_route_gdf2.dissolve(\n",
    "        by=[\"portfolio_organization_name\"]\n",
    "    ).reset_index()[[\"portfolio_organization_name\", \"geometry\"]]\n",
    "\n",
    "    operator_route_gdf2 = operator_route_gdf2.rename(\n",
    "        columns={\"portfolio_organization_name\": \"Transit Operator\"}\n",
    "    )\n",
    "    return operator_route_gdf2"
   ]
  },
  {
   "cell_type": "code",
   "execution_count": 49,
   "id": "90e45c5e-c9db-45a1-9ad5-7c0477e9949c",
   "metadata": {
    "tags": []
   },
   "outputs": [],
   "source": [
    "operator_route_gdf = load_gtfs_data(operator_df)"
   ]
  },
  {
   "cell_type": "code",
   "execution_count": 50,
   "id": "ebc7bba9-739c-4a54-9697-105f4945694f",
   "metadata": {
    "tags": []
   },
   "outputs": [
    {
     "data": {
      "text/plain": [
       "Index(['Transit Operator', 'geometry'], dtype='object')"
      ]
     },
     "execution_count": 50,
     "metadata": {},
     "output_type": "execute_result"
    }
   ],
   "source": [
    "operator_route_gdf.columns"
   ]
  },
  {
   "cell_type": "code",
   "execution_count": 96,
   "id": "e15216af-2ccb-43c3-9607-2003da61a3a6",
   "metadata": {
    "tags": []
   },
   "outputs": [],
   "source": [
    "def create_gtfs_table(df: pd.DataFrame) -> pd.DataFrame:\n",
    "    gtfs_service_cols = [c for c in df.columns if \"operator_\" in c]\n",
    "\n",
    "    gtfs_table_df = df[[\"organization_name\"] + gtfs_service_cols]\n",
    "\n",
    "    gtfs_table_df = gtfs_table_df.rename(\n",
    "        columns={\n",
    "            \"organization_name\": \"Organization\",\n",
    "            \"operator_n_routes\": \"# Routes\",\n",
    "            \"operator_n_trips\": \"# Trips\",\n",
    "            \"operator_n_shapes\": \"# Shapes\",\n",
    "            \"operator_n_stops\": \"# Stops\",\n",
    "            \"operator_n_arrivals\": \"# Arrivals\",\n",
    "            \"operator_route_length_miles\": \"Operator Service Miles\",\n",
    "            \"operator_arrivals_per_stop\": \"Avg Arrivals per Stop\",\n",
    "        }\n",
    "    )\n",
    "\n",
    "    gtfs_table_df = gtfs_table_df.reset_index(drop=True)\n",
    "    return gtfs_table_df"
   ]
  },
  {
   "cell_type": "code",
   "execution_count": 97,
   "id": "75833f3a-dbab-4320-a251-afaf1b6d0967",
   "metadata": {
    "tags": []
   },
   "outputs": [],
   "source": [
    "gtfs_table_df = create_gtfs_table(operator_df)"
   ]
  },
  {
   "cell_type": "code",
   "execution_count": 98,
   "id": "2e7c487d-cf43-4d54-8f25-77798b9bcebb",
   "metadata": {
    "tags": []
   },
   "outputs": [
    {
     "data": {
      "text/plain": [
       "(8, 32)"
      ]
     },
     "execution_count": 98,
     "metadata": {},
     "output_type": "execute_result"
    }
   ],
   "source": [
    "operator_df.shape"
   ]
  },
  {
   "cell_type": "code",
   "execution_count": 99,
   "id": "070e9895-8f95-42f4-95b9-3d368b7d0780",
   "metadata": {
    "tags": []
   },
   "outputs": [],
   "source": [
    "string_cols = gtfs_table_df.select_dtypes(include=\"object\").columns.tolist()"
   ]
  },
  {
   "cell_type": "code",
   "execution_count": 100,
   "id": "affb43ba-8608-4bae-a1c9-3c6c86228ee4",
   "metadata": {
    "tags": []
   },
   "outputs": [],
   "source": [
    "int_columns = [\n",
    "    c\n",
    "    for c in gtfs_table_df.columns\n",
    "    if c not in [\"Operator Service Miles\", \"Avg Arrivals per Stop\"]\n",
    "    and (c not in string_cols)\n",
    "]"
   ]
  },
  {
   "cell_type": "code",
   "execution_count": 101,
   "id": "561f663c-b427-4306-a465-92257970ba0f",
   "metadata": {
    "tags": []
   },
   "outputs": [
    {
     "data": {
      "text/html": [
       "<div>\n",
       "<style scoped>\n",
       "    .dataframe tbody tr th:only-of-type {\n",
       "        vertical-align: middle;\n",
       "    }\n",
       "\n",
       "    .dataframe tbody tr th {\n",
       "        vertical-align: top;\n",
       "    }\n",
       "\n",
       "    .dataframe thead th {\n",
       "        text-align: right;\n",
       "    }\n",
       "</style>\n",
       "<table border=\"1\" class=\"dataframe\">\n",
       "  <thead>\n",
       "    <tr style=\"text-align: right;\">\n",
       "      <th></th>\n",
       "      <th>Organization</th>\n",
       "      <th># Routes</th>\n",
       "      <th># Trips</th>\n",
       "      <th># Shapes</th>\n",
       "      <th># Stops</th>\n",
       "      <th># Arrivals</th>\n",
       "      <th>Operator Service Miles</th>\n",
       "      <th>Avg Arrivals per Stop</th>\n",
       "    </tr>\n",
       "  </thead>\n",
       "  <tbody>\n",
       "    <tr>\n",
       "      <th>0</th>\n",
       "      <td>Amtrak</td>\n",
       "      <td>59</td>\n",
       "      <td>587</td>\n",
       "      <td>131</td>\n",
       "      <td>509</td>\n",
       "      <td>4117</td>\n",
       "      <td>35028.54</td>\n",
       "      <td>8.09</td>\n",
       "    </tr>\n",
       "    <tr>\n",
       "      <th>1</th>\n",
       "      <td>Butte County Association of Governments</td>\n",
       "      <td>19</td>\n",
       "      <td>360</td>\n",
       "      <td>41</td>\n",
       "      <td>502</td>\n",
       "      <td>8480</td>\n",
       "      <td>243.13</td>\n",
       "      <td>16.89</td>\n",
       "    </tr>\n",
       "    <tr>\n",
       "      <th>2</th>\n",
       "      <td>Greyhound</td>\n",
       "      <td>222</td>\n",
       "      <td>871</td>\n",
       "      <td>759</td>\n",
       "      <td>888</td>\n",
       "      <td>5665</td>\n",
       "      <td>92107.85</td>\n",
       "      <td>6.38</td>\n",
       "    </tr>\n",
       "    <tr>\n",
       "      <th>3</th>\n",
       "      <td>Placer County</td>\n",
       "      <td>6</td>\n",
       "      <td>108</td>\n",
       "      <td>18</td>\n",
       "      <td>132</td>\n",
       "      <td>1984</td>\n",
       "      <td>168.61</td>\n",
       "      <td>15.03</td>\n",
       "    </tr>\n",
       "    <tr>\n",
       "      <th>4</th>\n",
       "      <td>Tehama County</td>\n",
       "      <td>9</td>\n",
       "      <td>71</td>\n",
       "      <td>10</td>\n",
       "      <td>72</td>\n",
       "      <td>934</td>\n",
       "      <td>284.97</td>\n",
       "      <td>12.97</td>\n",
       "    </tr>\n",
       "    <tr>\n",
       "      <th>5</th>\n",
       "      <td>Yuba-Sutter Transit Authority</td>\n",
       "      <td>14</td>\n",
       "      <td>231</td>\n",
       "      <td>44</td>\n",
       "      <td>287</td>\n",
       "      <td>6477</td>\n",
       "      <td>442.78</td>\n",
       "      <td>22.57</td>\n",
       "    </tr>\n",
       "    <tr>\n",
       "      <th>6</th>\n",
       "      <td>Redding Area Bus Authority</td>\n",
       "      <td>12</td>\n",
       "      <td>198</td>\n",
       "      <td>27</td>\n",
       "      <td>343</td>\n",
       "      <td>5123</td>\n",
       "      <td>278.49</td>\n",
       "      <td>14.94</td>\n",
       "    </tr>\n",
       "    <tr>\n",
       "      <th>7</th>\n",
       "      <td>Glenn County</td>\n",
       "      <td>1</td>\n",
       "      <td>12</td>\n",
       "      <td>4</td>\n",
       "      <td>62</td>\n",
       "      <td>414</td>\n",
       "      <td>46.18</td>\n",
       "      <td>6.68</td>\n",
       "    </tr>\n",
       "  </tbody>\n",
       "</table>\n",
       "</div>"
      ],
      "text/plain": [
       "                              Organization  # Routes  # Trips  # Shapes  \\\n",
       "0                                   Amtrak        59      587       131   \n",
       "1  Butte County Association of Governments        19      360        41   \n",
       "2                                Greyhound       222      871       759   \n",
       "3                            Placer County         6      108        18   \n",
       "4                            Tehama County         9       71        10   \n",
       "5            Yuba-Sutter Transit Authority        14      231        44   \n",
       "6               Redding Area Bus Authority        12      198        27   \n",
       "7                             Glenn County         1       12         4   \n",
       "\n",
       "   # Stops  # Arrivals  Operator Service Miles  Avg Arrivals per Stop  \n",
       "0      509        4117                35028.54                   8.09  \n",
       "1      502        8480                  243.13                  16.89  \n",
       "2      888        5665                92107.85                   6.38  \n",
       "3      132        1984                  168.61                  15.03  \n",
       "4       72         934                  284.97                  12.97  \n",
       "5      287        6477                  442.78                  22.57  \n",
       "6      343        5123                  278.49                  14.94  \n",
       "7       62         414                   46.18                   6.68  "
      ]
     },
     "execution_count": 101,
     "metadata": {},
     "output_type": "execute_result"
    }
   ],
   "source": [
    "gtfs_table_df"
   ]
  },
  {
   "cell_type": "code",
   "execution_count": 102,
   "id": "2453c41c-33b9-4cd3-a108-8eaed345dd0b",
   "metadata": {
    "tags": []
   },
   "outputs": [],
   "source": [
    "gtfs_table = (\n",
    "    GT(gtfs_table_df.sort_values(\"# Trips\", ascending=False))\n",
    "    .fmt_integer(columns=int_columns)\n",
    "    .data_color(\n",
    "        columns=[\"# Trips\", \"Avg Arrivals per Stop\"],\n",
    "        palette=[\"white\", \"green\"],\n",
    "        na_color=\"lightgray\",\n",
    "    )\n",
    "    .tab_header(\n",
    "        title=f\"{district_full_name}\",\n",
    "        subtitle=\"Daily GTFS schedule statistics by operator\",\n",
    "    )\n",
    "    .cols_align(\n",
    "        columns=[\n",
    "            c\n",
    "            for c in gtfs_table_df.columns\n",
    "            if c not in [\"Organization\", \"Transit Operator\"]\n",
    "        ],\n",
    "        align=\"center\",\n",
    "    )\n",
    ")"
   ]
  },
  {
   "cell_type": "code",
   "execution_count": 103,
   "id": "12ccc221-1d80-4707-8bfa-f20f438d73d7",
   "metadata": {
    "tags": []
   },
   "outputs": [
    {
     "data": {
      "text/html": [
       "<div id=\"igpizcdfim\" style=\"padding-left:0px;padding-right:0px;padding-top:10px;padding-bottom:10px;overflow-x:auto;overflow-y:auto;width:100%;height:auto;\">\n",
       "<style>\n",
       "#igpizcdfim table {\n",
       "          font-family: -apple-system, BlinkMacSystemFont, 'Segoe UI', Roboto, Oxygen, Ubuntu, Cantarell, 'Helvetica Neue', 'Fira Sans', 'Droid Sans', Arial, sans-serif;\n",
       "          -webkit-font-smoothing: antialiased;\n",
       "          -moz-osx-font-smoothing: grayscale;\n",
       "        }\n",
       "\n",
       "#igpizcdfim thead, tbody, tfoot, tr, td, th { border-style: none; }\n",
       " tr { background-color: transparent; }\n",
       "#igpizcdfim p { margin: 0; padding: 0; }\n",
       " #igpizcdfim .gt_table { display: table; border-collapse: collapse; line-height: normal; margin-left: auto; margin-right: auto; color: #333333; font-size: 16px; font-weight: normal; font-style: normal; background-color: white; width: auto; border-top-style: solid; border-top-width: 2px; border-top-color: #A8A8A8; border-right-style: none; border-right-width: 2px; border-right-color: #D3D3D3; border-bottom-style: solid; border-bottom-width: 2px; border-bottom-color: #A8A8A8; border-left-style: none; border-left-width: 2px; border-left-color: #D3D3D3; }\n",
       " #igpizcdfim .gt_caption { padding-top: 4px; padding-bottom: 4px; }\n",
       " #igpizcdfim .gt_title { color: #333333; font-size: 125%; font-weight: initial; padding-top: 4px; padding-bottom: 4px; padding-left: 5px; padding-right: 5px; border-bottom-color: white; border-bottom-width: 0; }\n",
       " #igpizcdfim .gt_subtitle { color: #333333; font-size: 85%; font-weight: initial; padding-top: 3px; padding-bottom: 5px; padding-left: 5px; padding-right: 5px; border-top-color: white; border-top-width: 0; }\n",
       " #igpizcdfim .gt_heading { background-color: white; text-align: center; border-bottom-color: white; border-left-style: none; border-left-width: 1px; border-left-color: #D3D3D3; border-right-style: none; border-right-width: 1px; border-right-color: #D3D3D3; }\n",
       " #igpizcdfim .gt_bottom_border { border-bottom-style: solid; border-bottom-width: 2px; border-bottom-color: #D3D3D3; }\n",
       " #igpizcdfim .gt_col_headings { border-top-style: solid; border-top-width: 2px; border-top-color: #D3D3D3; border-bottom-style: solid; border-bottom-width: 2px; border-bottom-color: #D3D3D3; border-left-style: none; border-left-width: 1px; border-left-color: #D3D3D3; border-right-style: none; border-right-width: 1px; border-right-color: #D3D3D3; }\n",
       " #igpizcdfim .gt_col_heading { color: #333333; background-color: white; font-size: 100%; font-weight: normal; text-transform: inherit; border-left-style: none; border-left-width: 1px; border-left-color: #D3D3D3; border-right-style: none; border-right-width: 1px; border-right-color: #D3D3D3; vertical-align: bottom; padding-top: 5px; padding-bottom: 5px; padding-left: 5px; padding-right: 5px; overflow-x: hidden; }\n",
       " #igpizcdfim .gt_column_spanner_outer { color: #333333; background-color: white; font-size: 100%; font-weight: normal; text-transform: inherit; padding-top: 0; padding-bottom: 0; padding-left: 4px; padding-right: 4px; }\n",
       " #igpizcdfim .gt_column_spanner_outer:first-child { padding-left: 0; }\n",
       " #igpizcdfim .gt_column_spanner_outer:last-child { padding-right: 0; }\n",
       " #igpizcdfim .gt_column_spanner { border-bottom-style: solid; border-bottom-width: 2px; border-bottom-color: #D3D3D3; vertical-align: bottom; padding-top: 5px; padding-bottom: 5px; overflow-x: hidden; display: inline-block; width: 100%; }\n",
       " #igpizcdfim .gt_spanner_row { border-bottom-style: hidden; }\n",
       " #igpizcdfim .gt_group_heading { padding-top: 8px; padding-bottom: 8px; padding-left: 5px; padding-right: 5px; color: #333333; background-color: white; font-size: 100%; font-weight: initial; text-transform: inherit; border-top-style: solid; border-top-width: 2px; border-top-color: #D3D3D3; border-bottom-style: solid; border-bottom-width: 2px; border-bottom-color: #D3D3D3; border-left-style: none; border-left-width: 1px; border-left-color: #D3D3D3; border-right-style: none; border-right-width: 1px; border-right-color: #D3D3D3; vertical-align: middle; text-align: left; }\n",
       " #igpizcdfim .gt_empty_group_heading { padding: 0.5px; color: #333333; background-color: white; font-size: 100%; font-weight: initial; border-top-style: solid; border-top-width: 2px; border-top-color: #D3D3D3; border-bottom-style: solid; border-bottom-width: 2px; border-bottom-color: #D3D3D3; vertical-align: middle; }\n",
       " #igpizcdfim .gt_from_md> :first-child { margin-top: 0; }\n",
       " #igpizcdfim .gt_from_md> :last-child { margin-bottom: 0; }\n",
       " #igpizcdfim .gt_row { padding-top: 8px; padding-bottom: 8px; padding-left: 5px; padding-right: 5px; margin: 10px; border-top-style: none; border-top-width: 1px; border-top-color: #D3D3D3; border-left-style: none; border-left-width: 1px; border-left-color: #D3D3D3; border-right-style: none; border-right-width: 1px; border-right-color: #D3D3D3; vertical-align: middle; overflow-x: hidden; }\n",
       " #igpizcdfim .gt_stub { color: #333333; background-color: white; font-size: 100%; font-weight: initial; text-transform: inherit; border-right-style: solid; border-right-width: 2px; border-right-color: #D3D3D3; padding-left: 5px; padding-right: 5px; }\n",
       " #igpizcdfim .gt_stub_row_group { color: #333333; background-color: white; font-size: 100%; font-weight: initial; text-transform: inherit; border-right-style: solid; border-right-width: 2px; border-right-color: #D3D3D3; padding-left: 5px; padding-right: 5px; vertical-align: top; }\n",
       " #igpizcdfim .gt_row_group_first td { border-top-width: 2px; }\n",
       " #igpizcdfim .gt_row_group_first th { border-top-width: 2px; }\n",
       " #igpizcdfim .gt_striped { background-color: rgba(128,128,128,0.05); }\n",
       " #igpizcdfim .gt_table_body { border-top-style: solid; border-top-width: 2px; border-top-color: #D3D3D3; border-bottom-style: solid; border-bottom-width: 2px; border-bottom-color: #D3D3D3; }\n",
       " #igpizcdfim .gt_sourcenotes { color: #333333; background-color: white; border-bottom-style: none; border-bottom-width: 2px; border-bottom-color: #D3D3D3; border-left-style: none; border-left-width: 2px; border-left-color: #D3D3D3; border-right-style: none; border-right-width: 2px; border-right-color: #D3D3D3; }\n",
       " #igpizcdfim .gt_sourcenote { font-size: 90%; padding-top: 4px; padding-bottom: 4px; padding-left: 5px; padding-right: 5px; text-align: left; }\n",
       " #igpizcdfim .gt_left { text-align: left; }\n",
       " #igpizcdfim .gt_center { text-align: center; }\n",
       " #igpizcdfim .gt_right { text-align: right; font-variant-numeric: tabular-nums; }\n",
       " #igpizcdfim .gt_font_normal { font-weight: normal; }\n",
       " #igpizcdfim .gt_font_bold { font-weight: bold; }\n",
       " #igpizcdfim .gt_font_italic { font-style: italic; }\n",
       " #igpizcdfim .gt_super { font-size: 65%; }\n",
       " #igpizcdfim .gt_footnote_marks { font-size: 75%; vertical-align: 0.4em; position: initial; }\n",
       " #igpizcdfim .gt_asterisk { font-size: 100%; vertical-align: 0; }\n",
       " \n",
       "</style>\n",
       "<table class=\"gt_table\" data-quarto-disable-processing=\"false\" data-quarto-bootstrap=\"false\">\n",
       "<thead>\n",
       "\n",
       "  <tr class=\"gt_heading\">\n",
       "    <td colspan=\"8\" class=\"gt_heading gt_title gt_font_normal\">Assembly District 03</td>\n",
       "  </tr>\n",
       "  <tr class=\"gt_heading\">\n",
       "    <td colspan=\"8\" class=\"gt_heading gt_subtitle gt_font_normal gt_bottom_border\">Daily GTFS schedule statistics by operator</td>\n",
       "  </tr>\n",
       "<tr class=\"gt_col_headings\">\n",
       "  <th class=\"gt_col_heading gt_columns_bottom_border gt_left\" rowspan=\"1\" colspan=\"1\" scope=\"col\" id=\"Organization\">Organization</th>\n",
       "  <th class=\"gt_col_heading gt_columns_bottom_border gt_center\" rowspan=\"1\" colspan=\"1\" scope=\"col\" id=\"# Routes\"># Routes</th>\n",
       "  <th class=\"gt_col_heading gt_columns_bottom_border gt_center\" rowspan=\"1\" colspan=\"1\" scope=\"col\" id=\"# Trips\"># Trips</th>\n",
       "  <th class=\"gt_col_heading gt_columns_bottom_border gt_center\" rowspan=\"1\" colspan=\"1\" scope=\"col\" id=\"# Shapes\"># Shapes</th>\n",
       "  <th class=\"gt_col_heading gt_columns_bottom_border gt_center\" rowspan=\"1\" colspan=\"1\" scope=\"col\" id=\"# Stops\"># Stops</th>\n",
       "  <th class=\"gt_col_heading gt_columns_bottom_border gt_center\" rowspan=\"1\" colspan=\"1\" scope=\"col\" id=\"# Arrivals\"># Arrivals</th>\n",
       "  <th class=\"gt_col_heading gt_columns_bottom_border gt_center\" rowspan=\"1\" colspan=\"1\" scope=\"col\" id=\"Operator Service Miles\">Operator Service Miles</th>\n",
       "  <th class=\"gt_col_heading gt_columns_bottom_border gt_center\" rowspan=\"1\" colspan=\"1\" scope=\"col\" id=\"Avg Arrivals per Stop\">Avg Arrivals per Stop</th>\n",
       "</tr>\n",
       "</thead>\n",
       "<tbody class=\"gt_table_body\">\n",
       "  <tr>\n",
       "    <td style=\"font-size: 14px;\" class=\"gt_row gt_left\">Greyhound</td>\n",
       "    <td style=\"font-size: 14px;\" class=\"gt_row gt_center\">222</td>\n",
       "    <td style=\"color: #000000; background-color: #54aa54; font-size: 14px;\" class=\"gt_row gt_center\">871</td>\n",
       "    <td style=\"font-size: 14px;\" class=\"gt_row gt_center\">759</td>\n",
       "    <td style=\"font-size: 14px;\" class=\"gt_row gt_center\">888</td>\n",
       "    <td style=\"font-size: 14px;\" class=\"gt_row gt_center\">5,665</td>\n",
       "    <td style=\"font-size: 14px;\" class=\"gt_row gt_center\">92107.85</td>\n",
       "    <td style=\"color: #000000; background-color: #e4f2e4; font-size: 14px;\" class=\"gt_row gt_center\">6.38</td>\n",
       "  </tr>\n",
       "  <tr>\n",
       "    <td style=\"font-size: 14px;\" class=\"gt_row gt_left\">Amtrak</td>\n",
       "    <td style=\"font-size: 14px;\" class=\"gt_row gt_center\">59</td>\n",
       "    <td style=\"color: #000000; background-color: #98cc98; font-size: 14px;\" class=\"gt_row gt_center\">587</td>\n",
       "    <td style=\"font-size: 14px;\" class=\"gt_row gt_center\">131</td>\n",
       "    <td style=\"font-size: 14px;\" class=\"gt_row gt_center\">509</td>\n",
       "    <td style=\"font-size: 14px;\" class=\"gt_row gt_center\">4,117</td>\n",
       "    <td style=\"font-size: 14px;\" class=\"gt_row gt_center\">35028.54</td>\n",
       "    <td style=\"color: #000000; background-color: #59ad59; font-size: 14px;\" class=\"gt_row gt_center\">8.09</td>\n",
       "  </tr>\n",
       "  <tr>\n",
       "    <td style=\"font-size: 14px;\" class=\"gt_row gt_left\">Butte County Association of Governments</td>\n",
       "    <td style=\"font-size: 14px;\" class=\"gt_row gt_center\">19</td>\n",
       "    <td style=\"color: #FFFFFF; background-color: #008000; font-size: 14px;\" class=\"gt_row gt_center\">360</td>\n",
       "    <td style=\"font-size: 14px;\" class=\"gt_row gt_center\">41</td>\n",
       "    <td style=\"font-size: 14px;\" class=\"gt_row gt_center\">502</td>\n",
       "    <td style=\"font-size: 14px;\" class=\"gt_row gt_center\">8,480</td>\n",
       "    <td style=\"font-size: 14px;\" class=\"gt_row gt_center\">243.13</td>\n",
       "    <td style=\"color: #000000; background-color: #ffffff; font-size: 14px;\" class=\"gt_row gt_center\">16.89</td>\n",
       "  </tr>\n",
       "  <tr>\n",
       "    <td style=\"font-size: 14px;\" class=\"gt_row gt_left\">Yuba-Sutter Transit Authority</td>\n",
       "    <td style=\"font-size: 14px;\" class=\"gt_row gt_center\">14</td>\n",
       "    <td style=\"color: #000000; background-color: #e3f1e3; font-size: 14px;\" class=\"gt_row gt_center\">231</td>\n",
       "    <td style=\"font-size: 14px;\" class=\"gt_row gt_center\">44</td>\n",
       "    <td style=\"font-size: 14px;\" class=\"gt_row gt_center\">287</td>\n",
       "    <td style=\"font-size: 14px;\" class=\"gt_row gt_center\">6,477</td>\n",
       "    <td style=\"font-size: 14px;\" class=\"gt_row gt_center\">442.78</td>\n",
       "    <td style=\"color: #000000; background-color: #77bb77; font-size: 14px;\" class=\"gt_row gt_center\">22.57</td>\n",
       "  </tr>\n",
       "  <tr>\n",
       "    <td style=\"font-size: 14px;\" class=\"gt_row gt_left\">Redding Area Bus Authority</td>\n",
       "    <td style=\"font-size: 14px;\" class=\"gt_row gt_center\">12</td>\n",
       "    <td style=\"color: #000000; background-color: #edf6ed; font-size: 14px;\" class=\"gt_row gt_center\">198</td>\n",
       "    <td style=\"font-size: 14px;\" class=\"gt_row gt_center\">27</td>\n",
       "    <td style=\"font-size: 14px;\" class=\"gt_row gt_center\">343</td>\n",
       "    <td style=\"font-size: 14px;\" class=\"gt_row gt_center\">5,123</td>\n",
       "    <td style=\"font-size: 14px;\" class=\"gt_row gt_center\">278.49</td>\n",
       "    <td style=\"color: #000000; background-color: #97cb97; font-size: 14px;\" class=\"gt_row gt_center\">14.94</td>\n",
       "  </tr>\n",
       "  <tr>\n",
       "    <td style=\"font-size: 14px;\" class=\"gt_row gt_left\">Placer County</td>\n",
       "    <td style=\"font-size: 14px;\" class=\"gt_row gt_center\">6</td>\n",
       "    <td style=\"color: #000000; background-color: #bedfbe; font-size: 14px;\" class=\"gt_row gt_center\">108</td>\n",
       "    <td style=\"font-size: 14px;\" class=\"gt_row gt_center\">18</td>\n",
       "    <td style=\"font-size: 14px;\" class=\"gt_row gt_center\">132</td>\n",
       "    <td style=\"font-size: 14px;\" class=\"gt_row gt_center\">1,984</td>\n",
       "    <td style=\"font-size: 14px;\" class=\"gt_row gt_center\">168.61</td>\n",
       "    <td style=\"color: #FFFFFF; background-color: #008000; font-size: 14px;\" class=\"gt_row gt_center\">15.03</td>\n",
       "  </tr>\n",
       "  <tr>\n",
       "    <td style=\"font-size: 14px;\" class=\"gt_row gt_left\">Tehama County</td>\n",
       "    <td style=\"font-size: 14px;\" class=\"gt_row gt_center\">9</td>\n",
       "    <td style=\"color: #000000; background-color: #c8e4c8; font-size: 14px;\" class=\"gt_row gt_center\">71</td>\n",
       "    <td style=\"font-size: 14px;\" class=\"gt_row gt_center\">10</td>\n",
       "    <td style=\"font-size: 14px;\" class=\"gt_row gt_center\">72</td>\n",
       "    <td style=\"font-size: 14px;\" class=\"gt_row gt_center\">934</td>\n",
       "    <td style=\"font-size: 14px;\" class=\"gt_row gt_center\">284.97</td>\n",
       "    <td style=\"color: #000000; background-color: #78bc78; font-size: 14px;\" class=\"gt_row gt_center\">12.97</td>\n",
       "  </tr>\n",
       "  <tr>\n",
       "    <td style=\"font-size: 14px;\" class=\"gt_row gt_left\">Glenn County</td>\n",
       "    <td style=\"font-size: 14px;\" class=\"gt_row gt_center\">1</td>\n",
       "    <td style=\"color: #000000; background-color: #ffffff; font-size: 14px;\" class=\"gt_row gt_center\">12</td>\n",
       "    <td style=\"font-size: 14px;\" class=\"gt_row gt_center\">4</td>\n",
       "    <td style=\"font-size: 14px;\" class=\"gt_row gt_center\">62</td>\n",
       "    <td style=\"font-size: 14px;\" class=\"gt_row gt_center\">414</td>\n",
       "    <td style=\"font-size: 14px;\" class=\"gt_row gt_center\">46.18</td>\n",
       "    <td style=\"color: #000000; background-color: #fafdfa; font-size: 14px;\" class=\"gt_row gt_center\">6.68</td>\n",
       "  </tr>\n",
       "</tbody>\n",
       "\n",
       "\n",
       "</table>\n",
       "\n",
       "</div>\n",
       "        "
      ],
      "text/plain": [
       "GT(_tbl_data=                              Organization  # Routes  # Trips  # Shapes  \\\n",
       "2                                Greyhound       222      871       759   \n",
       "0                                   Amtrak        59      587       131   \n",
       "1  Butte County Association of Governments        19      360        41   \n",
       "5            Yuba-Sutter Transit Authority        14      231        44   \n",
       "6               Redding Area Bus Authority        12      198        27   \n",
       "3                            Placer County         6      108        18   \n",
       "4                            Tehama County         9       71        10   \n",
       "7                             Glenn County         1       12         4   \n",
       "\n",
       "   # Stops  # Arrivals  Operator Service Miles  Avg Arrivals per Stop  \n",
       "2      888        5665                92107.85                   6.38  \n",
       "0      509        4117                35028.54                   8.09  \n",
       "1      502        8480                  243.13                  16.89  \n",
       "5      287        6477                  442.78                  22.57  \n",
       "6      343        5123                  278.49                  14.94  \n",
       "3      132        1984                  168.61                  15.03  \n",
       "4       72         934                  284.97                  12.97  \n",
       "7       62         414                   46.18                   6.68  , _body=<great_tables._gt_data.Body object at 0x7bbac1e00ad0>, _boxhead=Boxhead([ColInfo(var='Organization', type=<ColInfoTypeEnum.default: 1>, column_label='Organization', column_align='left', column_width=None), ColInfo(var='# Routes', type=<ColInfoTypeEnum.default: 1>, column_label='# Routes', column_align='center', column_width=None), ColInfo(var='# Trips', type=<ColInfoTypeEnum.default: 1>, column_label='# Trips', column_align='center', column_width=None), ColInfo(var='# Shapes', type=<ColInfoTypeEnum.default: 1>, column_label='# Shapes', column_align='center', column_width=None), ColInfo(var='# Stops', type=<ColInfoTypeEnum.default: 1>, column_label='# Stops', column_align='center', column_width=None), ColInfo(var='# Arrivals', type=<ColInfoTypeEnum.default: 1>, column_label='# Arrivals', column_align='center', column_width=None), ColInfo(var='Operator Service Miles', type=<ColInfoTypeEnum.default: 1>, column_label='Operator Service Miles', column_align='center', column_width=None), ColInfo(var='Avg Arrivals per Stop', type=<ColInfoTypeEnum.default: 1>, column_label='Avg Arrivals per Stop', column_align='center', column_width=None)]), _stub=<great_tables._gt_data.Stub object at 0x7bbac23cb210>, _spanners=Spanners([]), _heading=Heading(title='Assembly District 03', subtitle='Daily GTFS schedule statistics by operator', preheader=None), _stubhead=None, _source_notes=[], _footnotes=[], _styles=[StyleInfo(locname=LocBody(columns='# Trips', rows=[0], mask=None), grpname=None, colname='# Trips', rownum=0, colnum=None, styles=[CellStyleText(color='#000000', font=None, size=None, align=None, v_align=None, style=None, weight=None, stretch=None, decorate=None, transform=None, whitespace=None), CellStyleFill(color='#54aa54')]), StyleInfo(locname=LocBody(columns='# Trips', rows=[1], mask=None), grpname=None, colname='# Trips', rownum=1, colnum=None, styles=[CellStyleText(color='#000000', font=None, size=None, align=None, v_align=None, style=None, weight=None, stretch=None, decorate=None, transform=None, whitespace=None), CellStyleFill(color='#98cc98')]), StyleInfo(locname=LocBody(columns='# Trips', rows=[2], mask=None), grpname=None, colname='# Trips', rownum=2, colnum=None, styles=[CellStyleText(color='#FFFFFF', font=None, size=None, align=None, v_align=None, style=None, weight=None, stretch=None, decorate=None, transform=None, whitespace=None), CellStyleFill(color='#008000')]), StyleInfo(locname=LocBody(columns='# Trips', rows=[3], mask=None), grpname=None, colname='# Trips', rownum=3, colnum=None, styles=[CellStyleText(color='#000000', font=None, size=None, align=None, v_align=None, style=None, weight=None, stretch=None, decorate=None, transform=None, whitespace=None), CellStyleFill(color='#e3f1e3')]), StyleInfo(locname=LocBody(columns='# Trips', rows=[4], mask=None), grpname=None, colname='# Trips', rownum=4, colnum=None, styles=[CellStyleText(color='#000000', font=None, size=None, align=None, v_align=None, style=None, weight=None, stretch=None, decorate=None, transform=None, whitespace=None), CellStyleFill(color='#edf6ed')]), StyleInfo(locname=LocBody(columns='# Trips', rows=[5], mask=None), grpname=None, colname='# Trips', rownum=5, colnum=None, styles=[CellStyleText(color='#000000', font=None, size=None, align=None, v_align=None, style=None, weight=None, stretch=None, decorate=None, transform=None, whitespace=None), CellStyleFill(color='#bedfbe')]), StyleInfo(locname=LocBody(columns='# Trips', rows=[6], mask=None), grpname=None, colname='# Trips', rownum=6, colnum=None, styles=[CellStyleText(color='#000000', font=None, size=None, align=None, v_align=None, style=None, weight=None, stretch=None, decorate=None, transform=None, whitespace=None), CellStyleFill(color='#c8e4c8')]), StyleInfo(locname=LocBody(columns='# Trips', rows=[7], mask=None), grpname=None, colname='# Trips', rownum=7, colnum=None, styles=[CellStyleText(color='#000000', font=None, size=None, align=None, v_align=None, style=None, weight=None, stretch=None, decorate=None, transform=None, whitespace=None), CellStyleFill(color='#ffffff')]), StyleInfo(locname=LocBody(columns='Avg Arrivals per Stop', rows=[0], mask=None), grpname=None, colname='Avg Arrivals per Stop', rownum=0, colnum=None, styles=[CellStyleText(color='#000000', font=None, size=None, align=None, v_align=None, style=None, weight=None, stretch=None, decorate=None, transform=None, whitespace=None), CellStyleFill(color='#e4f2e4')]), StyleInfo(locname=LocBody(columns='Avg Arrivals per Stop', rows=[1], mask=None), grpname=None, colname='Avg Arrivals per Stop', rownum=1, colnum=None, styles=[CellStyleText(color='#000000', font=None, size=None, align=None, v_align=None, style=None, weight=None, stretch=None, decorate=None, transform=None, whitespace=None), CellStyleFill(color='#59ad59')]), StyleInfo(locname=LocBody(columns='Avg Arrivals per Stop', rows=[2], mask=None), grpname=None, colname='Avg Arrivals per Stop', rownum=2, colnum=None, styles=[CellStyleText(color='#000000', font=None, size=None, align=None, v_align=None, style=None, weight=None, stretch=None, decorate=None, transform=None, whitespace=None), CellStyleFill(color='#ffffff')]), StyleInfo(locname=LocBody(columns='Avg Arrivals per Stop', rows=[3], mask=None), grpname=None, colname='Avg Arrivals per Stop', rownum=3, colnum=None, styles=[CellStyleText(color='#000000', font=None, size=None, align=None, v_align=None, style=None, weight=None, stretch=None, decorate=None, transform=None, whitespace=None), CellStyleFill(color='#77bb77')]), StyleInfo(locname=LocBody(columns='Avg Arrivals per Stop', rows=[4], mask=None), grpname=None, colname='Avg Arrivals per Stop', rownum=4, colnum=None, styles=[CellStyleText(color='#000000', font=None, size=None, align=None, v_align=None, style=None, weight=None, stretch=None, decorate=None, transform=None, whitespace=None), CellStyleFill(color='#97cb97')]), StyleInfo(locname=LocBody(columns='Avg Arrivals per Stop', rows=[5], mask=None), grpname=None, colname='Avg Arrivals per Stop', rownum=5, colnum=None, styles=[CellStyleText(color='#FFFFFF', font=None, size=None, align=None, v_align=None, style=None, weight=None, stretch=None, decorate=None, transform=None, whitespace=None), CellStyleFill(color='#008000')]), StyleInfo(locname=LocBody(columns='Avg Arrivals per Stop', rows=[6], mask=None), grpname=None, colname='Avg Arrivals per Stop', rownum=6, colnum=None, styles=[CellStyleText(color='#000000', font=None, size=None, align=None, v_align=None, style=None, weight=None, stretch=None, decorate=None, transform=None, whitespace=None), CellStyleFill(color='#78bc78')]), StyleInfo(locname=LocBody(columns='Avg Arrivals per Stop', rows=[7], mask=None), grpname=None, colname='Avg Arrivals per Stop', rownum=7, colnum=None, styles=[CellStyleText(color='#000000', font=None, size=None, align=None, v_align=None, style=None, weight=None, stretch=None, decorate=None, transform=None, whitespace=None), CellStyleFill(color='#fafdfa')]), StyleInfo(locname=LocBody(columns=None, rows=None, mask=None), grpname=None, colname='Organization', rownum=0, colnum=None, styles=[CellStyleText(color=None, font=None, size='14px', align=None, v_align=None, style=None, weight=None, stretch=None, decorate=None, transform=None, whitespace=None)]), StyleInfo(locname=LocBody(columns=None, rows=None, mask=None), grpname=None, colname='Organization', rownum=1, colnum=None, styles=[CellStyleText(color=None, font=None, size='14px', align=None, v_align=None, style=None, weight=None, stretch=None, decorate=None, transform=None, whitespace=None)]), StyleInfo(locname=LocBody(columns=None, rows=None, mask=None), grpname=None, colname='Organization', rownum=2, colnum=None, styles=[CellStyleText(color=None, font=None, size='14px', align=None, v_align=None, style=None, weight=None, stretch=None, decorate=None, transform=None, whitespace=None)]), StyleInfo(locname=LocBody(columns=None, rows=None, mask=None), grpname=None, colname='Organization', rownum=3, colnum=None, styles=[CellStyleText(color=None, font=None, size='14px', align=None, v_align=None, style=None, weight=None, stretch=None, decorate=None, transform=None, whitespace=None)]), StyleInfo(locname=LocBody(columns=None, rows=None, mask=None), grpname=None, colname='Organization', rownum=4, colnum=None, styles=[CellStyleText(color=None, font=None, size='14px', align=None, v_align=None, style=None, weight=None, stretch=None, decorate=None, transform=None, whitespace=None)]), StyleInfo(locname=LocBody(columns=None, rows=None, mask=None), grpname=None, colname='Organization', rownum=5, colnum=None, styles=[CellStyleText(color=None, font=None, size='14px', align=None, v_align=None, style=None, weight=None, stretch=None, decorate=None, transform=None, whitespace=None)]), StyleInfo(locname=LocBody(columns=None, rows=None, mask=None), grpname=None, colname='Organization', rownum=6, colnum=None, styles=[CellStyleText(color=None, font=None, size='14px', align=None, v_align=None, style=None, weight=None, stretch=None, decorate=None, transform=None, whitespace=None)]), StyleInfo(locname=LocBody(columns=None, rows=None, mask=None), grpname=None, colname='Organization', rownum=7, colnum=None, styles=[CellStyleText(color=None, font=None, size='14px', align=None, v_align=None, style=None, weight=None, stretch=None, decorate=None, transform=None, whitespace=None)]), StyleInfo(locname=LocBody(columns=None, rows=None, mask=None), grpname=None, colname='# Routes', rownum=0, colnum=None, styles=[CellStyleText(color=None, font=None, size='14px', align=None, v_align=None, style=None, weight=None, stretch=None, decorate=None, transform=None, whitespace=None)]), StyleInfo(locname=LocBody(columns=None, rows=None, mask=None), grpname=None, colname='# Routes', rownum=1, colnum=None, styles=[CellStyleText(color=None, font=None, size='14px', align=None, v_align=None, style=None, weight=None, stretch=None, decorate=None, transform=None, whitespace=None)]), StyleInfo(locname=LocBody(columns=None, rows=None, mask=None), grpname=None, colname='# Routes', rownum=2, colnum=None, styles=[CellStyleText(color=None, font=None, size='14px', align=None, v_align=None, style=None, weight=None, stretch=None, decorate=None, transform=None, whitespace=None)]), StyleInfo(locname=LocBody(columns=None, rows=None, mask=None), grpname=None, colname='# Routes', rownum=3, colnum=None, styles=[CellStyleText(color=None, font=None, size='14px', align=None, v_align=None, style=None, weight=None, stretch=None, decorate=None, transform=None, whitespace=None)]), StyleInfo(locname=LocBody(columns=None, rows=None, mask=None), grpname=None, colname='# Routes', rownum=4, colnum=None, styles=[CellStyleText(color=None, font=None, size='14px', align=None, v_align=None, style=None, weight=None, stretch=None, decorate=None, transform=None, whitespace=None)]), StyleInfo(locname=LocBody(columns=None, rows=None, mask=None), grpname=None, colname='# Routes', rownum=5, colnum=None, styles=[CellStyleText(color=None, font=None, size='14px', align=None, v_align=None, style=None, weight=None, stretch=None, decorate=None, transform=None, whitespace=None)]), StyleInfo(locname=LocBody(columns=None, rows=None, mask=None), grpname=None, colname='# Routes', rownum=6, colnum=None, styles=[CellStyleText(color=None, font=None, size='14px', align=None, v_align=None, style=None, weight=None, stretch=None, decorate=None, transform=None, whitespace=None)]), StyleInfo(locname=LocBody(columns=None, rows=None, mask=None), grpname=None, colname='# Routes', rownum=7, colnum=None, styles=[CellStyleText(color=None, font=None, size='14px', align=None, v_align=None, style=None, weight=None, stretch=None, decorate=None, transform=None, whitespace=None)]), StyleInfo(locname=LocBody(columns=None, rows=None, mask=None), grpname=None, colname='# Trips', rownum=0, colnum=None, styles=[CellStyleText(color=None, font=None, size='14px', align=None, v_align=None, style=None, weight=None, stretch=None, decorate=None, transform=None, whitespace=None)]), StyleInfo(locname=LocBody(columns=None, rows=None, mask=None), grpname=None, colname='# Trips', rownum=1, colnum=None, styles=[CellStyleText(color=None, font=None, size='14px', align=None, v_align=None, style=None, weight=None, stretch=None, decorate=None, transform=None, whitespace=None)]), StyleInfo(locname=LocBody(columns=None, rows=None, mask=None), grpname=None, colname='# Trips', rownum=2, colnum=None, styles=[CellStyleText(color=None, font=None, size='14px', align=None, v_align=None, style=None, weight=None, stretch=None, decorate=None, transform=None, whitespace=None)]), StyleInfo(locname=LocBody(columns=None, rows=None, mask=None), grpname=None, colname='# Trips', rownum=3, colnum=None, styles=[CellStyleText(color=None, font=None, size='14px', align=None, v_align=None, style=None, weight=None, stretch=None, decorate=None, transform=None, whitespace=None)]), StyleInfo(locname=LocBody(columns=None, rows=None, mask=None), grpname=None, colname='# Trips', rownum=4, colnum=None, styles=[CellStyleText(color=None, font=None, size='14px', align=None, v_align=None, style=None, weight=None, stretch=None, decorate=None, transform=None, whitespace=None)]), StyleInfo(locname=LocBody(columns=None, rows=None, mask=None), grpname=None, colname='# Trips', rownum=5, colnum=None, styles=[CellStyleText(color=None, font=None, size='14px', align=None, v_align=None, style=None, weight=None, stretch=None, decorate=None, transform=None, whitespace=None)]), StyleInfo(locname=LocBody(columns=None, rows=None, mask=None), grpname=None, colname='# Trips', rownum=6, colnum=None, styles=[CellStyleText(color=None, font=None, size='14px', align=None, v_align=None, style=None, weight=None, stretch=None, decorate=None, transform=None, whitespace=None)]), StyleInfo(locname=LocBody(columns=None, rows=None, mask=None), grpname=None, colname='# Trips', rownum=7, colnum=None, styles=[CellStyleText(color=None, font=None, size='14px', align=None, v_align=None, style=None, weight=None, stretch=None, decorate=None, transform=None, whitespace=None)]), StyleInfo(locname=LocBody(columns=None, rows=None, mask=None), grpname=None, colname='# Shapes', rownum=0, colnum=None, styles=[CellStyleText(color=None, font=None, size='14px', align=None, v_align=None, style=None, weight=None, stretch=None, decorate=None, transform=None, whitespace=None)]), StyleInfo(locname=LocBody(columns=None, rows=None, mask=None), grpname=None, colname='# Shapes', rownum=1, colnum=None, styles=[CellStyleText(color=None, font=None, size='14px', align=None, v_align=None, style=None, weight=None, stretch=None, decorate=None, transform=None, whitespace=None)]), StyleInfo(locname=LocBody(columns=None, rows=None, mask=None), grpname=None, colname='# Shapes', rownum=2, colnum=None, styles=[CellStyleText(color=None, font=None, size='14px', align=None, v_align=None, style=None, weight=None, stretch=None, decorate=None, transform=None, whitespace=None)]), StyleInfo(locname=LocBody(columns=None, rows=None, mask=None), grpname=None, colname='# Shapes', rownum=3, colnum=None, styles=[CellStyleText(color=None, font=None, size='14px', align=None, v_align=None, style=None, weight=None, stretch=None, decorate=None, transform=None, whitespace=None)]), StyleInfo(locname=LocBody(columns=None, rows=None, mask=None), grpname=None, colname='# Shapes', rownum=4, colnum=None, styles=[CellStyleText(color=None, font=None, size='14px', align=None, v_align=None, style=None, weight=None, stretch=None, decorate=None, transform=None, whitespace=None)]), StyleInfo(locname=LocBody(columns=None, rows=None, mask=None), grpname=None, colname='# Shapes', rownum=5, colnum=None, styles=[CellStyleText(color=None, font=None, size='14px', align=None, v_align=None, style=None, weight=None, stretch=None, decorate=None, transform=None, whitespace=None)]), StyleInfo(locname=LocBody(columns=None, rows=None, mask=None), grpname=None, colname='# Shapes', rownum=6, colnum=None, styles=[CellStyleText(color=None, font=None, size='14px', align=None, v_align=None, style=None, weight=None, stretch=None, decorate=None, transform=None, whitespace=None)]), StyleInfo(locname=LocBody(columns=None, rows=None, mask=None), grpname=None, colname='# Shapes', rownum=7, colnum=None, styles=[CellStyleText(color=None, font=None, size='14px', align=None, v_align=None, style=None, weight=None, stretch=None, decorate=None, transform=None, whitespace=None)]), StyleInfo(locname=LocBody(columns=None, rows=None, mask=None), grpname=None, colname='# Stops', rownum=0, colnum=None, styles=[CellStyleText(color=None, font=None, size='14px', align=None, v_align=None, style=None, weight=None, stretch=None, decorate=None, transform=None, whitespace=None)]), StyleInfo(locname=LocBody(columns=None, rows=None, mask=None), grpname=None, colname='# Stops', rownum=1, colnum=None, styles=[CellStyleText(color=None, font=None, size='14px', align=None, v_align=None, style=None, weight=None, stretch=None, decorate=None, transform=None, whitespace=None)]), StyleInfo(locname=LocBody(columns=None, rows=None, mask=None), grpname=None, colname='# Stops', rownum=2, colnum=None, styles=[CellStyleText(color=None, font=None, size='14px', align=None, v_align=None, style=None, weight=None, stretch=None, decorate=None, transform=None, whitespace=None)]), StyleInfo(locname=LocBody(columns=None, rows=None, mask=None), grpname=None, colname='# Stops', rownum=3, colnum=None, styles=[CellStyleText(color=None, font=None, size='14px', align=None, v_align=None, style=None, weight=None, stretch=None, decorate=None, transform=None, whitespace=None)]), StyleInfo(locname=LocBody(columns=None, rows=None, mask=None), grpname=None, colname='# Stops', rownum=4, colnum=None, styles=[CellStyleText(color=None, font=None, size='14px', align=None, v_align=None, style=None, weight=None, stretch=None, decorate=None, transform=None, whitespace=None)]), StyleInfo(locname=LocBody(columns=None, rows=None, mask=None), grpname=None, colname='# Stops', rownum=5, colnum=None, styles=[CellStyleText(color=None, font=None, size='14px', align=None, v_align=None, style=None, weight=None, stretch=None, decorate=None, transform=None, whitespace=None)]), StyleInfo(locname=LocBody(columns=None, rows=None, mask=None), grpname=None, colname='# Stops', rownum=6, colnum=None, styles=[CellStyleText(color=None, font=None, size='14px', align=None, v_align=None, style=None, weight=None, stretch=None, decorate=None, transform=None, whitespace=None)]), StyleInfo(locname=LocBody(columns=None, rows=None, mask=None), grpname=None, colname='# Stops', rownum=7, colnum=None, styles=[CellStyleText(color=None, font=None, size='14px', align=None, v_align=None, style=None, weight=None, stretch=None, decorate=None, transform=None, whitespace=None)]), StyleInfo(locname=LocBody(columns=None, rows=None, mask=None), grpname=None, colname='# Arrivals', rownum=0, colnum=None, styles=[CellStyleText(color=None, font=None, size='14px', align=None, v_align=None, style=None, weight=None, stretch=None, decorate=None, transform=None, whitespace=None)]), StyleInfo(locname=LocBody(columns=None, rows=None, mask=None), grpname=None, colname='# Arrivals', rownum=1, colnum=None, styles=[CellStyleText(color=None, font=None, size='14px', align=None, v_align=None, style=None, weight=None, stretch=None, decorate=None, transform=None, whitespace=None)]), StyleInfo(locname=LocBody(columns=None, rows=None, mask=None), grpname=None, colname='# Arrivals', rownum=2, colnum=None, styles=[CellStyleText(color=None, font=None, size='14px', align=None, v_align=None, style=None, weight=None, stretch=None, decorate=None, transform=None, whitespace=None)]), StyleInfo(locname=LocBody(columns=None, rows=None, mask=None), grpname=None, colname='# Arrivals', rownum=3, colnum=None, styles=[CellStyleText(color=None, font=None, size='14px', align=None, v_align=None, style=None, weight=None, stretch=None, decorate=None, transform=None, whitespace=None)]), StyleInfo(locname=LocBody(columns=None, rows=None, mask=None), grpname=None, colname='# Arrivals', rownum=4, colnum=None, styles=[CellStyleText(color=None, font=None, size='14px', align=None, v_align=None, style=None, weight=None, stretch=None, decorate=None, transform=None, whitespace=None)]), StyleInfo(locname=LocBody(columns=None, rows=None, mask=None), grpname=None, colname='# Arrivals', rownum=5, colnum=None, styles=[CellStyleText(color=None, font=None, size='14px', align=None, v_align=None, style=None, weight=None, stretch=None, decorate=None, transform=None, whitespace=None)]), StyleInfo(locname=LocBody(columns=None, rows=None, mask=None), grpname=None, colname='# Arrivals', rownum=6, colnum=None, styles=[CellStyleText(color=None, font=None, size='14px', align=None, v_align=None, style=None, weight=None, stretch=None, decorate=None, transform=None, whitespace=None)]), StyleInfo(locname=LocBody(columns=None, rows=None, mask=None), grpname=None, colname='# Arrivals', rownum=7, colnum=None, styles=[CellStyleText(color=None, font=None, size='14px', align=None, v_align=None, style=None, weight=None, stretch=None, decorate=None, transform=None, whitespace=None)]), StyleInfo(locname=LocBody(columns=None, rows=None, mask=None), grpname=None, colname='Operator Service Miles', rownum=0, colnum=None, styles=[CellStyleText(color=None, font=None, size='14px', align=None, v_align=None, style=None, weight=None, stretch=None, decorate=None, transform=None, whitespace=None)]), StyleInfo(locname=LocBody(columns=None, rows=None, mask=None), grpname=None, colname='Operator Service Miles', rownum=1, colnum=None, styles=[CellStyleText(color=None, font=None, size='14px', align=None, v_align=None, style=None, weight=None, stretch=None, decorate=None, transform=None, whitespace=None)]), StyleInfo(locname=LocBody(columns=None, rows=None, mask=None), grpname=None, colname='Operator Service Miles', rownum=2, colnum=None, styles=[CellStyleText(color=None, font=None, size='14px', align=None, v_align=None, style=None, weight=None, stretch=None, decorate=None, transform=None, whitespace=None)]), StyleInfo(locname=LocBody(columns=None, rows=None, mask=None), grpname=None, colname='Operator Service Miles', rownum=3, colnum=None, styles=[CellStyleText(color=None, font=None, size='14px', align=None, v_align=None, style=None, weight=None, stretch=None, decorate=None, transform=None, whitespace=None)]), StyleInfo(locname=LocBody(columns=None, rows=None, mask=None), grpname=None, colname='Operator Service Miles', rownum=4, colnum=None, styles=[CellStyleText(color=None, font=None, size='14px', align=None, v_align=None, style=None, weight=None, stretch=None, decorate=None, transform=None, whitespace=None)]), StyleInfo(locname=LocBody(columns=None, rows=None, mask=None), grpname=None, colname='Operator Service Miles', rownum=5, colnum=None, styles=[CellStyleText(color=None, font=None, size='14px', align=None, v_align=None, style=None, weight=None, stretch=None, decorate=None, transform=None, whitespace=None)]), StyleInfo(locname=LocBody(columns=None, rows=None, mask=None), grpname=None, colname='Operator Service Miles', rownum=6, colnum=None, styles=[CellStyleText(color=None, font=None, size='14px', align=None, v_align=None, style=None, weight=None, stretch=None, decorate=None, transform=None, whitespace=None)]), StyleInfo(locname=LocBody(columns=None, rows=None, mask=None), grpname=None, colname='Operator Service Miles', rownum=7, colnum=None, styles=[CellStyleText(color=None, font=None, size='14px', align=None, v_align=None, style=None, weight=None, stretch=None, decorate=None, transform=None, whitespace=None)]), StyleInfo(locname=LocBody(columns=None, rows=None, mask=None), grpname=None, colname='Avg Arrivals per Stop', rownum=0, colnum=None, styles=[CellStyleText(color=None, font=None, size='14px', align=None, v_align=None, style=None, weight=None, stretch=None, decorate=None, transform=None, whitespace=None)]), StyleInfo(locname=LocBody(columns=None, rows=None, mask=None), grpname=None, colname='Avg Arrivals per Stop', rownum=1, colnum=None, styles=[CellStyleText(color=None, font=None, size='14px', align=None, v_align=None, style=None, weight=None, stretch=None, decorate=None, transform=None, whitespace=None)]), StyleInfo(locname=LocBody(columns=None, rows=None, mask=None), grpname=None, colname='Avg Arrivals per Stop', rownum=2, colnum=None, styles=[CellStyleText(color=None, font=None, size='14px', align=None, v_align=None, style=None, weight=None, stretch=None, decorate=None, transform=None, whitespace=None)]), StyleInfo(locname=LocBody(columns=None, rows=None, mask=None), grpname=None, colname='Avg Arrivals per Stop', rownum=3, colnum=None, styles=[CellStyleText(color=None, font=None, size='14px', align=None, v_align=None, style=None, weight=None, stretch=None, decorate=None, transform=None, whitespace=None)]), StyleInfo(locname=LocBody(columns=None, rows=None, mask=None), grpname=None, colname='Avg Arrivals per Stop', rownum=4, colnum=None, styles=[CellStyleText(color=None, font=None, size='14px', align=None, v_align=None, style=None, weight=None, stretch=None, decorate=None, transform=None, whitespace=None)]), StyleInfo(locname=LocBody(columns=None, rows=None, mask=None), grpname=None, colname='Avg Arrivals per Stop', rownum=5, colnum=None, styles=[CellStyleText(color=None, font=None, size='14px', align=None, v_align=None, style=None, weight=None, stretch=None, decorate=None, transform=None, whitespace=None)]), StyleInfo(locname=LocBody(columns=None, rows=None, mask=None), grpname=None, colname='Avg Arrivals per Stop', rownum=6, colnum=None, styles=[CellStyleText(color=None, font=None, size='14px', align=None, v_align=None, style=None, weight=None, stretch=None, decorate=None, transform=None, whitespace=None)]), StyleInfo(locname=LocBody(columns=None, rows=None, mask=None), grpname=None, colname='Avg Arrivals per Stop', rownum=7, colnum=None, styles=[CellStyleText(color=None, font=None, size='14px', align=None, v_align=None, style=None, weight=None, stretch=None, decorate=None, transform=None, whitespace=None)])], _locale=<great_tables._gt_data.Locale object at 0x7bbac239e5d0>, _formats=[<great_tables._gt_data.FormatInfo object at 0x7bbac227a0d0>], _substitutions=[], _options=Options(table_id=OptionsInfo(scss=False, category='table', type='value', value=None), table_caption=OptionsInfo(scss=False, category='table', type='value', value=None), table_width=OptionsInfo(scss=True, category='table', type='px', value='auto'), table_layout=OptionsInfo(scss=True, category='table', type='value', value='fixed'), table_margin_left=OptionsInfo(scss=True, category='table', type='px', value='auto'), table_margin_right=OptionsInfo(scss=True, category='table', type='px', value='auto'), table_background_color=OptionsInfo(scss=True, category='table', type='value', value='white'), table_additional_css=OptionsInfo(scss=False, category='table', type='values', value=[]), table_font_names=OptionsInfo(scss=False, category='table', type='values', value=['-apple-system', 'BlinkMacSystemFont', 'Segoe UI', 'Roboto', 'Oxygen', 'Ubuntu', 'Cantarell', 'Helvetica Neue', 'Fira Sans', 'Droid Sans', 'Arial', 'sans-serif']), table_font_size=OptionsInfo(scss=True, category='table', type='px', value='16px'), table_font_weight=OptionsInfo(scss=True, category='table', type='value', value='normal'), table_font_style=OptionsInfo(scss=True, category='table', type='value', value='normal'), table_font_color=OptionsInfo(scss=True, category='table', type='value', value='#333333'), table_font_color_light=OptionsInfo(scss=True, category='table', type='value', value='#FFFFFF'), table_border_top_include=OptionsInfo(scss=False, category='table', type='boolean', value=True), table_border_top_style=OptionsInfo(scss=True, category='table', type='value', value='solid'), table_border_top_width=OptionsInfo(scss=True, category='table', type='px', value='2px'), table_border_top_color=OptionsInfo(scss=True, category='table', type='value', value='#A8A8A8'), table_border_right_style=OptionsInfo(scss=True, category='table', type='value', value='none'), table_border_right_width=OptionsInfo(scss=True, category='table', type='px', value='2px'), table_border_right_color=OptionsInfo(scss=True, category='table', type='value', value='#D3D3D3'), table_border_bottom_include=OptionsInfo(scss=False, category='table', type='boolean', value=True), table_border_bottom_style=OptionsInfo(scss=True, category='table', type='value', value='solid'), table_border_bottom_width=OptionsInfo(scss=True, category='table', type='px', value='2px'), table_border_bottom_color=OptionsInfo(scss=True, category='table', type='value', value='#A8A8A8'), table_border_left_style=OptionsInfo(scss=True, category='table', type='value', value='none'), table_border_left_width=OptionsInfo(scss=True, category='table', type='px', value='2px'), table_border_left_color=OptionsInfo(scss=True, category='table', type='value', value='#D3D3D3'), heading_background_color=OptionsInfo(scss=True, category='heading', type='value', value='white'), heading_align=OptionsInfo(scss=True, category='heading', type='value', value='center'), heading_title_font_size=OptionsInfo(scss=True, category='heading', type='px', value='125%'), heading_title_font_weight=OptionsInfo(scss=True, category='heading', type='value', value='initial'), heading_subtitle_font_size=OptionsInfo(scss=True, category='heading', type='px', value='85%'), heading_subtitle_font_weight=OptionsInfo(scss=True, category='heading', type='value', value='initial'), heading_padding=OptionsInfo(scss=True, category='heading', type='px', value='4px'), heading_padding_horizontal=OptionsInfo(scss=True, category='heading', type='px', value='5px'), heading_border_bottom_style=OptionsInfo(scss=True, category='heading', type='value', value='solid'), heading_border_bottom_width=OptionsInfo(scss=True, category='heading', type='px', value='2px'), heading_border_bottom_color=OptionsInfo(scss=True, category='heading', type='value', value='#D3D3D3'), heading_border_lr_style=OptionsInfo(scss=True, category='heading', type='value', value='none'), heading_border_lr_width=OptionsInfo(scss=True, category='heading', type='px', value='1px'), heading_border_lr_color=OptionsInfo(scss=True, category='heading', type='value', value='#D3D3D3'), column_labels_background_color=OptionsInfo(scss=True, category='column_labels', type='value', value='white'), column_labels_font_size=OptionsInfo(scss=True, category='column_labels', type='px', value='100%'), column_labels_font_weight=OptionsInfo(scss=True, category='column_labels', type='value', value='normal'), column_labels_text_transform=OptionsInfo(scss=True, category='column_labels', type='value', value='inherit'), column_labels_padding=OptionsInfo(scss=True, category='column_labels', type='px', value='5px'), column_labels_padding_horizontal=OptionsInfo(scss=True, category='column_labels', type='px', value='5px'), column_labels_vlines_style=OptionsInfo(scss=True, category='table_body', type='value', value='none'), column_labels_vlines_width=OptionsInfo(scss=True, category='table_body', type='px', value='1px'), column_labels_vlines_color=OptionsInfo(scss=True, category='table_body', type='value', value='#D3D3D3'), column_labels_border_top_style=OptionsInfo(scss=True, category='column_labels', type='value', value='solid'), column_labels_border_top_width=OptionsInfo(scss=True, category='column_labels', type='px', value='2px'), column_labels_border_top_color=OptionsInfo(scss=True, category='column_labels', type='value', value='#D3D3D3'), column_labels_border_bottom_style=OptionsInfo(scss=True, category='column_labels', type='value', value='solid'), column_labels_border_bottom_width=OptionsInfo(scss=True, category='column_labels', type='px', value='2px'), column_labels_border_bottom_color=OptionsInfo(scss=True, category='column_labels', type='value', value='#D3D3D3'), column_labels_border_lr_style=OptionsInfo(scss=True, category='column_labels', type='value', value='none'), column_labels_border_lr_width=OptionsInfo(scss=True, category='column_labels', type='px', value='1px'), column_labels_border_lr_color=OptionsInfo(scss=True, category='column_labels', type='value', value='#D3D3D3'), column_labels_hidden=OptionsInfo(scss=False, category='column_labels', type='boolean', value=False), row_group_background_color=OptionsInfo(scss=True, category='row_group', type='value', value='white'), row_group_font_size=OptionsInfo(scss=True, category='row_group', type='px', value='100%'), row_group_font_weight=OptionsInfo(scss=True, category='row_group', type='value', value='initial'), row_group_text_transform=OptionsInfo(scss=True, category='row_group', type='value', value='inherit'), row_group_padding=OptionsInfo(scss=True, category='row_group', type='px', value='8px'), row_group_padding_horizontal=OptionsInfo(scss=True, category='row_group', type='px', value='5px'), row_group_border_top_style=OptionsInfo(scss=True, category='row_group', type='value', value='solid'), row_group_border_top_width=OptionsInfo(scss=True, category='row_group', type='px', value='2px'), row_group_border_top_color=OptionsInfo(scss=True, category='row_group', type='value', value='#D3D3D3'), row_group_border_right_style=OptionsInfo(scss=True, category='row_group', type='value', value='none'), row_group_border_right_width=OptionsInfo(scss=True, category='row_group', type='px', value='1px'), row_group_border_right_color=OptionsInfo(scss=True, category='row_group', type='value', value='#D3D3D3'), row_group_border_bottom_style=OptionsInfo(scss=True, category='row_group', type='value', value='solid'), row_group_border_bottom_width=OptionsInfo(scss=True, category='row_group', type='px', value='2px'), row_group_border_bottom_color=OptionsInfo(scss=True, category='row_group', type='value', value='#D3D3D3'), row_group_border_left_style=OptionsInfo(scss=True, category='row_group', type='value', value='none'), row_group_border_left_width=OptionsInfo(scss=True, category='row_group', type='px', value='1px'), row_group_border_left_color=OptionsInfo(scss=True, category='row_group', type='value', value='#D3D3D3'), row_group_as_column=OptionsInfo(scss=False, category='row_group', type='boolean', value=False), table_body_hlines_style=OptionsInfo(scss=True, category='table_body', type='value', value='none'), table_body_hlines_width=OptionsInfo(scss=True, category='table_body', type='px', value='1px'), table_body_hlines_color=OptionsInfo(scss=True, category='table_body', type='value', value='#D3D3D3'), table_body_vlines_style=OptionsInfo(scss=True, category='table_body', type='value', value='none'), table_body_vlines_width=OptionsInfo(scss=True, category='table_body', type='px', value='1px'), table_body_vlines_color=OptionsInfo(scss=True, category='table_body', type='value', value='#D3D3D3'), table_body_border_top_style=OptionsInfo(scss=True, category='table_body', type='value', value='solid'), table_body_border_top_width=OptionsInfo(scss=True, category='table_body', type='px', value='2px'), table_body_border_top_color=OptionsInfo(scss=True, category='table_body', type='value', value='#D3D3D3'), table_body_border_bottom_style=OptionsInfo(scss=True, category='table_body', type='value', value='solid'), table_body_border_bottom_width=OptionsInfo(scss=True, category='table_body', type='px', value='2px'), table_body_border_bottom_color=OptionsInfo(scss=True, category='table_body', type='value', value='#D3D3D3'), data_row_padding=OptionsInfo(scss=True, category='data_row', type='px', value='8px'), data_row_padding_horizontal=OptionsInfo(scss=True, category='data_row', type='px', value='5px'), stub_background_color=OptionsInfo(scss=True, category='stub', type='value', value='white'), stub_font_size=OptionsInfo(scss=True, category='stub', type='px', value='100%'), stub_font_weight=OptionsInfo(scss=True, category='stub', type='value', value='initial'), stub_text_transform=OptionsInfo(scss=True, category='stub', type='value', value='inherit'), stub_border_style=OptionsInfo(scss=True, category='stub', type='value', value='solid'), stub_border_width=OptionsInfo(scss=True, category='stub', type='px', value='2px'), stub_border_color=OptionsInfo(scss=True, category='stub', type='value', value='#D3D3D3'), stub_row_group_background_color=OptionsInfo(scss=True, category='stub', type='value', value=None), stub_row_group_font_size=OptionsInfo(scss=True, category='stub', type='px', value='100%'), stub_row_group_font_weight=OptionsInfo(scss=True, category='stub', type='value', value='initial'), stub_row_group_text_transform=OptionsInfo(scss=True, category='stub', type='value', value='inherit'), stub_row_group_border_style=OptionsInfo(scss=True, category='stub', type='value', value='solid'), stub_row_group_border_width=OptionsInfo(scss=True, category='stub', type='px', value='2px'), stub_row_group_border_color=OptionsInfo(scss=True, category='stub', type='value', value='#D3D3D3'), source_notes_padding=OptionsInfo(scss=True, category='source_notes', type='px', value='4px'), source_notes_padding_horizontal=OptionsInfo(scss=True, category='source_notes', type='px', value='5px'), source_notes_background_color=OptionsInfo(scss=True, category='source_notes', type='value', value='white'), source_notes_font_size=OptionsInfo(scss=True, category='source_notes', type='px', value='90%'), source_notes_border_bottom_style=OptionsInfo(scss=True, category='source_notes', type='value', value='none'), source_notes_border_bottom_width=OptionsInfo(scss=True, category='source_notes', type='px', value='2px'), source_notes_border_bottom_color=OptionsInfo(scss=True, category='source_notes', type='value', value='#D3D3D3'), source_notes_border_lr_style=OptionsInfo(scss=True, category='source_notes', type='value', value='none'), source_notes_border_lr_width=OptionsInfo(scss=True, category='source_notes', type='px', value='2px'), source_notes_border_lr_color=OptionsInfo(scss=True, category='source_notes', type='value', value='#D3D3D3'), source_notes_multiline=OptionsInfo(scss=False, category='source_notes', type='boolean', value=True), source_notes_sep=OptionsInfo(scss=False, category='source_notes', type='value', value=' '), row_striping_background_color=OptionsInfo(scss=True, category='row', type='value', value='rgba(128,128,128,0.05)'), row_striping_include_stub=OptionsInfo(scss=False, category='row', type='boolean', value=False), row_striping_include_table_body=OptionsInfo(scss=False, category='row', type='boolean', value=False), container_width=OptionsInfo(scss=False, category='container', type='px', value='100%'), container_height=OptionsInfo(scss=False, category='container', type='px', value='auto'), container_padding_x=OptionsInfo(scss=False, category='container', type='px', value='0px'), container_padding_y=OptionsInfo(scss=False, category='container', type='px', value='10px'), container_overflow_x=OptionsInfo(scss=False, category='container', type='overflow', value='auto'), container_overflow_y=OptionsInfo(scss=False, category='container', type='overflow', value='auto'), quarto_disable_processing=OptionsInfo(scss=False, category='quarto', type='logical', value=False), quarto_use_bootstrap=OptionsInfo(scss=False, category='quarto', type='logical', value=False)), _has_built=False)"
      ]
     },
     "execution_count": 103,
     "metadata": {},
     "output_type": "execute_result"
    }
   ],
   "source": [
    "gtfs_table = _report_utils.great_table_formatting(gtfs_table)\n",
    "gtfs_table"
   ]
  },
  {
   "cell_type": "code",
   "execution_count": 104,
   "id": "89198e57-30d9-44b4-9f8a-cf73411f86af",
   "metadata": {
    "tags": []
   },
   "outputs": [
    {
     "data": {
      "text/html": [
       "<div>\n",
       "<style scoped>\n",
       "    .dataframe tbody tr th:only-of-type {\n",
       "        vertical-align: middle;\n",
       "    }\n",
       "\n",
       "    .dataframe tbody tr th {\n",
       "        vertical-align: top;\n",
       "    }\n",
       "\n",
       "    .dataframe thead th {\n",
       "        text-align: right;\n",
       "    }\n",
       "</style>\n",
       "<table border=\"1\" class=\"dataframe\">\n",
       "  <thead>\n",
       "    <tr style=\"text-align: right;\">\n",
       "      <th></th>\n",
       "      <th>Organization</th>\n",
       "      <th># Routes</th>\n",
       "      <th># Trips</th>\n",
       "      <th># Shapes</th>\n",
       "      <th># Stops</th>\n",
       "      <th># Arrivals</th>\n",
       "      <th>Operator Service Miles</th>\n",
       "      <th>Avg Arrivals per Stop</th>\n",
       "    </tr>\n",
       "  </thead>\n",
       "  <tbody>\n",
       "    <tr>\n",
       "      <th>0</th>\n",
       "      <td>Amtrak</td>\n",
       "      <td>59</td>\n",
       "      <td>587</td>\n",
       "      <td>131</td>\n",
       "      <td>509</td>\n",
       "      <td>4117</td>\n",
       "      <td>35028.54</td>\n",
       "      <td>8.09</td>\n",
       "    </tr>\n",
       "    <tr>\n",
       "      <th>1</th>\n",
       "      <td>Butte County Association of Governments</td>\n",
       "      <td>19</td>\n",
       "      <td>360</td>\n",
       "      <td>41</td>\n",
       "      <td>502</td>\n",
       "      <td>8480</td>\n",
       "      <td>243.13</td>\n",
       "      <td>16.89</td>\n",
       "    </tr>\n",
       "    <tr>\n",
       "      <th>2</th>\n",
       "      <td>Greyhound</td>\n",
       "      <td>222</td>\n",
       "      <td>871</td>\n",
       "      <td>759</td>\n",
       "      <td>888</td>\n",
       "      <td>5665</td>\n",
       "      <td>92107.85</td>\n",
       "      <td>6.38</td>\n",
       "    </tr>\n",
       "    <tr>\n",
       "      <th>3</th>\n",
       "      <td>Placer County</td>\n",
       "      <td>6</td>\n",
       "      <td>108</td>\n",
       "      <td>18</td>\n",
       "      <td>132</td>\n",
       "      <td>1984</td>\n",
       "      <td>168.61</td>\n",
       "      <td>15.03</td>\n",
       "    </tr>\n",
       "    <tr>\n",
       "      <th>4</th>\n",
       "      <td>Tehama County</td>\n",
       "      <td>9</td>\n",
       "      <td>71</td>\n",
       "      <td>10</td>\n",
       "      <td>72</td>\n",
       "      <td>934</td>\n",
       "      <td>284.97</td>\n",
       "      <td>12.97</td>\n",
       "    </tr>\n",
       "    <tr>\n",
       "      <th>5</th>\n",
       "      <td>Yuba-Sutter Transit Authority</td>\n",
       "      <td>14</td>\n",
       "      <td>231</td>\n",
       "      <td>44</td>\n",
       "      <td>287</td>\n",
       "      <td>6477</td>\n",
       "      <td>442.78</td>\n",
       "      <td>22.57</td>\n",
       "    </tr>\n",
       "    <tr>\n",
       "      <th>6</th>\n",
       "      <td>Redding Area Bus Authority</td>\n",
       "      <td>12</td>\n",
       "      <td>198</td>\n",
       "      <td>27</td>\n",
       "      <td>343</td>\n",
       "      <td>5123</td>\n",
       "      <td>278.49</td>\n",
       "      <td>14.94</td>\n",
       "    </tr>\n",
       "    <tr>\n",
       "      <th>7</th>\n",
       "      <td>Glenn County</td>\n",
       "      <td>1</td>\n",
       "      <td>12</td>\n",
       "      <td>4</td>\n",
       "      <td>62</td>\n",
       "      <td>414</td>\n",
       "      <td>46.18</td>\n",
       "      <td>6.68</td>\n",
       "    </tr>\n",
       "  </tbody>\n",
       "</table>\n",
       "</div>"
      ],
      "text/plain": [
       "                              Organization  # Routes  # Trips  # Shapes  \\\n",
       "0                                   Amtrak        59      587       131   \n",
       "1  Butte County Association of Governments        19      360        41   \n",
       "2                                Greyhound       222      871       759   \n",
       "3                            Placer County         6      108        18   \n",
       "4                            Tehama County         9       71        10   \n",
       "5            Yuba-Sutter Transit Authority        14      231        44   \n",
       "6               Redding Area Bus Authority        12      198        27   \n",
       "7                             Glenn County         1       12         4   \n",
       "\n",
       "   # Stops  # Arrivals  Operator Service Miles  Avg Arrivals per Stop  \n",
       "0      509        4117                35028.54                   8.09  \n",
       "1      502        8480                  243.13                  16.89  \n",
       "2      888        5665                92107.85                   6.38  \n",
       "3      132        1984                  168.61                  15.03  \n",
       "4       72         934                  284.97                  12.97  \n",
       "5      287        6477                  442.78                  22.57  \n",
       "6      343        5123                  278.49                  14.94  \n",
       "7       62         414                   46.18                   6.68  "
      ]
     },
     "execution_count": 104,
     "metadata": {},
     "output_type": "execute_result"
    }
   ],
   "source": [
    "gtfs_table_df"
   ]
  },
  {
   "cell_type": "code",
   "execution_count": null,
   "id": "d777a3d2-dfcb-4d5b-befe-3dd2636674cb",
   "metadata": {},
   "outputs": [],
   "source": []
  }
 ],
 "metadata": {
  "kernelspec": {
   "display_name": "Python 3 (ipykernel)",
   "language": "python",
   "name": "python3"
  },
  "language_info": {
   "codemirror_mode": {
    "name": "ipython",
    "version": 3
   },
   "file_extension": ".py",
   "mimetype": "text/x-python",
   "name": "python",
   "nbconvert_exporter": "python",
   "pygments_lexer": "ipython3",
   "version": "3.11.10"
  }
 },
 "nbformat": 4,
 "nbformat_minor": 5
}
