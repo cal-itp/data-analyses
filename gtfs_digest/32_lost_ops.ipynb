{
 "cells": [
  {
   "cell_type": "markdown",
   "id": "40837618-b281-4ba5-bc43-7b87c3704af7",
   "metadata": {},
   "source": [
    "# Lost operators\n",
    "* Per `gtfs_digest/diagnostics.yml`, the number of unique operators went down from around 190 the past few months to 174."
   ]
  },
  {
   "cell_type": "code",
   "execution_count": 1,
   "id": "78160dd4-34f3-460e-9600-2ce31dcdb7ba",
   "metadata": {
    "tags": []
   },
   "outputs": [],
   "source": [
    "import numpy as np\n",
    "import pandas as pd\n",
    "import pyaml\n",
    "from update_vars import GTFS_DATA_DICT, RT_SCHED_GCS\n",
    "\n",
    "DIAGNOSTIC_YAML_PATH = \"./diagnostics.yml\""
   ]
  },
  {
   "cell_type": "code",
   "execution_count": 2,
   "id": "f1bddd9a-7e1a-4589-8c3e-16418537f6ca",
   "metadata": {
    "tags": []
   },
   "outputs": [],
   "source": [
    "DIGEST_RT_SCHED = GTFS_DATA_DICT.digest_tables.monthly_route_schedule_vp"
   ]
  },
  {
   "cell_type": "code",
   "execution_count": 3,
   "id": "67555230-7d16-4a8f-9f5a-30d7744ed5ef",
   "metadata": {
    "tags": []
   },
   "outputs": [],
   "source": [
    "route_df = (\n",
    "    pd.read_parquet(\n",
    "        f\"{RT_SCHED_GCS}{DIGEST_RT_SCHED}.parquet\",\n",
    "    )\n",
    "    .drop_duplicates()\n",
    "    .reset_index(drop=True)\n",
    "    .astype(str)\n",
    ")"
   ]
  },
  {
   "cell_type": "code",
   "execution_count": 4,
   "id": "00281bca-2907-4d3d-bcbc-ddb12ac7f751",
   "metadata": {
    "tags": []
   },
   "outputs": [
    {
     "data": {
      "text/plain": [
       "Index(['schedule_gtfs_dataset_key', 'route_id', 'direction_id', 'time_period',\n",
       "       'avg_scheduled_service_minutes', 'avg_stop_miles', 'n_scheduled_trips',\n",
       "       'frequency', 'service_date', 'is_express', 'is_ferry', 'is_rail',\n",
       "       'is_coverage', 'is_local', 'is_downtown_local', 'is_rapid', 'typology',\n",
       "       'name', 'combined_name', 'recent_combined_name', 'recent_route_id',\n",
       "       'route_primary_direction', 'minutes_atleast1_vp', 'minutes_atleast2_vp',\n",
       "       'total_rt_service_minutes', 'total_scheduled_service_minutes',\n",
       "       'total_vp', 'vp_in_shape', 'is_early', 'is_ontime', 'is_late',\n",
       "       'n_vp_trips', 'vp_per_minute', 'pct_in_shape',\n",
       "       'pct_rt_journey_atleast1_vp', 'pct_rt_journey_atleast2_vp',\n",
       "       'pct_sched_journey_atleast1_vp', 'pct_sched_journey_atleast2_vp',\n",
       "       'rt_sched_journey_ratio', 'avg_rt_service_minutes', 'sched_rt_category',\n",
       "       'speed_mph', 'schedule_source_record_id', 'base64_url',\n",
       "       'caltrans_district', 'portfolio_organization_name'],\n",
       "      dtype='object')"
      ]
     },
     "execution_count": 4,
     "metadata": {},
     "output_type": "execute_result"
    }
   ],
   "source": [
    "route_df.columns"
   ]
  },
  {
   "cell_type": "code",
   "execution_count": 5,
   "id": "17f21565-f013-48a2-aa65-d6bcbecea87c",
   "metadata": {
    "tags": []
   },
   "outputs": [
    {
     "data": {
      "text/plain": [
       "array(['2023-05-17', '2023-06-14', '2023-07-12', '2023-08-15',\n",
       "       '2023-09-13', '2023-10-11', '2023-11-15', '2023-12-13',\n",
       "       '2024-01-17', '2024-02-14', '2024-03-13', '2024-04-17',\n",
       "       '2024-05-22', '2024-06-12', '2024-07-17', '2024-08-14',\n",
       "       '2024-09-18', '2024-10-16', '2024-11-13', '2024-12-11',\n",
       "       '2025-01-15', '2025-02-12', '2025-03-12', '2025-04-16',\n",
       "       '2025-05-14', '2025-06-11', '2025-07-16', '2023-04-12',\n",
       "       '2023-03-15'], dtype=object)"
      ]
     },
     "execution_count": 5,
     "metadata": {},
     "output_type": "execute_result"
    }
   ],
   "source": [
    "route_df.service_date.unique()"
   ]
  },
  {
   "cell_type": "code",
   "execution_count": 6,
   "id": "9099b08f-ecff-4fe7-81f5-a9cd01d85e2d",
   "metadata": {
    "tags": []
   },
   "outputs": [],
   "source": [
    "july = route_df.loc[route_df.service_date == \"2025-07-16\"]"
   ]
  },
  {
   "cell_type": "code",
   "execution_count": 7,
   "id": "38c816f3-ca3f-4ae6-bfd0-1da3f683d8e1",
   "metadata": {
    "tags": []
   },
   "outputs": [],
   "source": [
    "june = route_df.loc[route_df.service_date == \"2025-06-11\",]"
   ]
  },
  {
   "cell_type": "code",
   "execution_count": 8,
   "id": "04970efa-566c-4f1c-8a63-b2286e1f81f8",
   "metadata": {
    "tags": []
   },
   "outputs": [],
   "source": [
    "missing_july_orgs = set(list(june.portfolio_organization_name.unique())) - set(\n",
    "    list(july.portfolio_organization_name.unique())\n",
    ")"
   ]
  },
  {
   "cell_type": "code",
   "execution_count": 9,
   "id": "d5215acd-9d52-4528-a9e3-cae0a38ef772",
   "metadata": {
    "tags": []
   },
   "outputs": [],
   "source": [
    "missing_july_names = set(list(june.name.unique())) - set(\n",
    "    list(july.name.unique())\n",
    ")"
   ]
  },
  {
   "cell_type": "code",
   "execution_count": 10,
   "id": "5ccb2f51-f6a9-4955-a987-d332b57275f4",
   "metadata": {
    "tags": []
   },
   "outputs": [
    {
     "data": {
      "text/plain": [
       "{'Bay Area 511 SolTrans Schedule',\n",
       " 'Bay Area 511 Sonoma-Marin Area Rail Transit Schedule',\n",
       " 'Bay Area 511 Vacaville City Coach Schedule',\n",
       " 'Bay Area 511 Vine Transit Schedule',\n",
       " 'Beach Cities GMV Schedule',\n",
       " 'Culver City Schedule',\n",
       " 'Desert Roadrunner GMV Schedule',\n",
       " 'DowneyLink Avail Schedule',\n",
       " 'Eastern Sierra Schedule',\n",
       " 'Get Around Town Express Schedule',\n",
       " 'Glendora Schedule',\n",
       " 'Havasu Landing Ferry Schedule',\n",
       " 'LA DOT Schedule',\n",
       " 'Madera Metro Schedule',\n",
       " 'Mountain Transit Schedule',\n",
       " 'North County Schedule',\n",
       " 'Redding Schedule',\n",
       " 'Rosemead Passio Schedule',\n",
       " 'SLO Peak Transit Schedule',\n",
       " 'Santa Maria Schedule'}"
      ]
     },
     "execution_count": 10,
     "metadata": {},
     "output_type": "execute_result"
    }
   ],
   "source": [
    "missing_july_names"
   ]
  },
  {
   "cell_type": "code",
   "execution_count": 11,
   "id": "d4ff1b59-b593-40b6-8180-af60d8fbcdb7",
   "metadata": {
    "tags": []
   },
   "outputs": [
    {
     "ename": "NameError",
     "evalue": "name 'missing_july_ops' is not defined",
     "output_type": "error",
     "traceback": [
      "\u001b[0;31m---------------------------------------------------------------------------\u001b[0m",
      "\u001b[0;31mNameError\u001b[0m                                 Traceback (most recent call last)",
      "Cell \u001b[0;32mIn[11], line 1\u001b[0m\n\u001b[0;32m----> 1\u001b[0m \u001b[43mmissing_july_ops\u001b[49m\n",
      "\u001b[0;31mNameError\u001b[0m: name 'missing_july_ops' is not defined"
     ]
    }
   ],
   "source": [
    "missing_july_ops"
   ]
  },
  {
   "cell_type": "code",
   "execution_count": null,
   "id": "8f86bc72-1016-40c6-94a2-7d196b97111a",
   "metadata": {
    "tags": []
   },
   "outputs": [],
   "source": [
    "july.loc[july.name.isin(list(missing_july_names))][\n",
    "    [\"portfolio_organization_name\", \"sched_rt_category\"]\n",
    "]"
   ]
  },
  {
   "cell_type": "code",
   "execution_count": null,
   "id": "bcfbb903-5cad-40c3-9dda-f1ab26b68f0b",
   "metadata": {},
   "outputs": [],
   "source": [
    "july.loc[july.portfolio_organization_name.isin(list(missing_july_ops))][\n",
    "    [\"portfolio_organization_name\", \"sched_rt_category\"]\n",
    "]"
   ]
  },
  {
   "cell_type": "code",
   "execution_count": null,
   "id": "32ecccb9-9bca-4153-a5c6-683491f9cd12",
   "metadata": {
    "tags": []
   },
   "outputs": [],
   "source": [
    "june.loc[june.portfolio_organization_name.isin(list(missing_july_ops))][\n",
    "    [\"caltrans_district\",\"portfolio_organization_name\", \"name\",\"sched_rt_category\"]\n",
    "].drop_duplicates().sort_values(by = [\"portfolio_organization_name\"])"
   ]
  },
  {
   "cell_type": "markdown",
   "id": "c92b5efd-559f-4183-b95f-92c565fdc77f",
   "metadata": {},
   "source": [
    "## Caltrans D9 is missing due to `_operator_data_prep.py`"
   ]
  },
  {
   "cell_type": "code",
   "execution_count": 20,
   "id": "db622a15-dbc8-467d-b3aa-23e59b886771",
   "metadata": {
    "tags": []
   },
   "outputs": [],
   "source": [
    "OPERATOR_FILE = GTFS_DATA_DICT.digest_tables.operator_profiles\n",
    "\n",
    "district_df = pd.read_parquet(\n",
    "            f\"{RT_SCHED_GCS}{OPERATOR_FILE}.parquet\",\n",
    "        )\n",
    "        "
   ]
  },
  {
   "cell_type": "code",
   "execution_count": 21,
   "id": "99a77192-900a-470b-aa54-52a81e0c0926",
   "metadata": {
    "tags": []
   },
   "outputs": [
    {
     "data": {
      "text/plain": [
       "Index(['schedule_gtfs_dataset_key', 'operator_n_routes', 'operator_n_trips',\n",
       "       'operator_n_shapes', 'operator_n_stops', 'operator_n_arrivals',\n",
       "       'operator_route_length_miles', 'operator_arrivals_per_stop',\n",
       "       'n_downtown_local_routes', 'n_local_routes', 'n_coverage_routes',\n",
       "       'n_rapid_routes', 'n_express_routes', 'n_rail_routes', 'n_ferry_routes',\n",
       "       'name', 'organization_source_record_id', 'organization_name',\n",
       "       'service_date', 'vp_per_min_agency', 'spatial_accuracy_agency',\n",
       "       'caltrans_district', 'service_area_sq_miles', 'hq_city',\n",
       "       'service_area_pop', 'organization_type', 'primary_uza_name',\n",
       "       'reporter_type', 'portfolio_organization_name', 'counties_served',\n",
       "       'sched_rt_category'],\n",
       "      dtype='object')"
      ]
     },
     "execution_count": 21,
     "metadata": {},
     "output_type": "execute_result"
    }
   ],
   "source": [
    "district_df.columns"
   ]
  },
  {
   "cell_type": "code",
   "execution_count": 22,
   "id": "7c406124-365c-44d5-9bf0-a09fa87f0bdb",
   "metadata": {
    "tags": []
   },
   "outputs": [
    {
     "data": {
      "text/plain": [
       "array(['2023-05-17T00:00:00.000000000', '2023-06-14T00:00:00.000000000',\n",
       "       '2023-07-12T00:00:00.000000000', '2023-08-15T00:00:00.000000000',\n",
       "       '2023-09-13T00:00:00.000000000', '2023-10-11T00:00:00.000000000',\n",
       "       '2023-11-15T00:00:00.000000000', '2023-12-13T00:00:00.000000000',\n",
       "       '2024-01-17T00:00:00.000000000', '2024-02-14T00:00:00.000000000',\n",
       "       '2024-03-13T00:00:00.000000000', '2024-04-17T00:00:00.000000000',\n",
       "       '2024-05-22T00:00:00.000000000', '2024-06-12T00:00:00.000000000',\n",
       "       '2024-07-17T00:00:00.000000000', '2024-08-14T00:00:00.000000000',\n",
       "       '2024-09-18T00:00:00.000000000', '2024-10-16T00:00:00.000000000',\n",
       "       '2024-11-13T00:00:00.000000000', '2024-12-11T00:00:00.000000000',\n",
       "       '2025-01-15T00:00:00.000000000', '2025-02-12T00:00:00.000000000',\n",
       "       '2025-03-12T00:00:00.000000000', '2025-04-16T00:00:00.000000000',\n",
       "       '2025-05-14T00:00:00.000000000', '2025-06-11T00:00:00.000000000',\n",
       "       '2025-07-16T00:00:00.000000000', '2023-04-12T00:00:00.000000000',\n",
       "       '2023-03-15T00:00:00.000000000'], dtype='datetime64[ns]')"
      ]
     },
     "execution_count": 22,
     "metadata": {},
     "output_type": "execute_result"
    }
   ],
   "source": [
    "district_df.service_date.unique()"
   ]
  },
  {
   "cell_type": "code",
   "execution_count": 23,
   "id": "00c94474-2b93-4c16-a0f9-40f79a55110b",
   "metadata": {
    "tags": []
   },
   "outputs": [
    {
     "data": {
      "text/plain": [
       "array(['06 - Fresno / Bakersfield',\n",
       "       '05 - San Luis Obispo / Santa Barbara', '04 - Bay Area / Oakland',\n",
       "       '07 - Los Angeles / Ventura', '03 - Marysville / Sacramento',\n",
       "       '10 - Stockton', '01 - Eureka', '02 - Redding', '11 - San Diego',\n",
       "       '12 - Santa Ana', '08 - San Bernardino / Riverside', '09 - Bishop'],\n",
       "      dtype=object)"
      ]
     },
     "execution_count": 23,
     "metadata": {},
     "output_type": "execute_result"
    }
   ],
   "source": [
    "district_df.caltrans_district.unique()"
   ]
  },
  {
   "cell_type": "code",
   "execution_count": 24,
   "id": "8561c7cc-d89e-4c57-b908-e175c9e29d24",
   "metadata": {
    "tags": []
   },
   "outputs": [],
   "source": [
    "OPERATOR_REPORT_FILE = GTFS_DATA_DICT.digest_tables.operator_profiles_report\n",
    "\n",
    "district_df2 = pd.read_parquet(\n",
    "            f\"{RT_SCHED_GCS}{OPERATOR_REPORT_FILE}.parquet\",\n",
    "        )\n",
    "        "
   ]
  },
  {
   "cell_type": "code",
   "execution_count": 25,
   "id": "6bc0b726-8e47-4656-9a2d-5470a249e530",
   "metadata": {
    "tags": []
   },
   "outputs": [
    {
     "data": {
      "text/plain": [
       "array(['04 - Bay Area / Oakland', '12 - Santa Ana',\n",
       "       '07 - Los Angeles / Ventura', '03 - Marysville / Sacramento',\n",
       "       '08 - San Bernardino / Riverside', '06 - Fresno / Bakersfield',\n",
       "       '10 - Stockton', '05 - San Luis Obispo / Santa Barbara',\n",
       "       '01 - Eureka', '11 - San Diego', '02 - Redding'], dtype=object)"
      ]
     },
     "execution_count": 25,
     "metadata": {},
     "output_type": "execute_result"
    }
   ],
   "source": [
    "district_df2.caltrans_district.unique()"
   ]
  },
  {
   "cell_type": "code",
   "execution_count": 27,
   "id": "d6c531bb-2c1c-466e-81d4-38936ad2fa48",
   "metadata": {
    "tags": []
   },
   "outputs": [],
   "source": [
    "OPERATOR_PROFILE = GTFS_DATA_DICT.digest_tables.operator_profiles"
   ]
  },
  {
   "cell_type": "code",
   "execution_count": 28,
   "id": "bfe438f4-50aa-49d5-a81d-be9d5773a49f",
   "metadata": {
    "tags": []
   },
   "outputs": [],
   "source": [
    "operator_data = pd.read_parquet(\n",
    "        f\"{RT_SCHED_GCS}{OPERATOR_PROFILE}.parquet\"\n",
    "    )"
   ]
  },
  {
   "cell_type": "code",
   "execution_count": 29,
   "id": "8b68b497-b52f-4bbf-8686-26cf7584ae98",
   "metadata": {
    "tags": []
   },
   "outputs": [
    {
     "data": {
      "text/plain": [
       "Index(['schedule_gtfs_dataset_key', 'operator_n_routes', 'operator_n_trips',\n",
       "       'operator_n_shapes', 'operator_n_stops', 'operator_n_arrivals',\n",
       "       'operator_route_length_miles', 'operator_arrivals_per_stop',\n",
       "       'n_downtown_local_routes', 'n_local_routes', 'n_coverage_routes',\n",
       "       'n_rapid_routes', 'n_express_routes', 'n_rail_routes', 'n_ferry_routes',\n",
       "       'name', 'organization_source_record_id', 'organization_name',\n",
       "       'service_date', 'vp_per_min_agency', 'spatial_accuracy_agency',\n",
       "       'caltrans_district', 'service_area_sq_miles', 'hq_city',\n",
       "       'service_area_pop', 'organization_type', 'primary_uza_name',\n",
       "       'reporter_type', 'portfolio_organization_name', 'counties_served',\n",
       "       'sched_rt_category'],\n",
       "      dtype='object')"
      ]
     },
     "execution_count": 29,
     "metadata": {},
     "output_type": "execute_result"
    }
   ],
   "source": [
    "operator_data.columns"
   ]
  },
  {
   "cell_type": "code",
   "execution_count": 30,
   "id": "b9823e52-3116-478e-8339-9f750f597698",
   "metadata": {
    "tags": []
   },
   "outputs": [
    {
     "data": {
      "text/plain": [
       "array(['06 - Fresno / Bakersfield',\n",
       "       '05 - San Luis Obispo / Santa Barbara', '04 - Bay Area / Oakland',\n",
       "       '07 - Los Angeles / Ventura', '03 - Marysville / Sacramento',\n",
       "       '10 - Stockton', '01 - Eureka', '02 - Redding', '11 - San Diego',\n",
       "       '12 - Santa Ana', '08 - San Bernardino / Riverside', '09 - Bishop'],\n",
       "      dtype=object)"
      ]
     },
     "execution_count": 30,
     "metadata": {},
     "output_type": "execute_result"
    }
   ],
   "source": [
    "operator_data.caltrans_district.unique()"
   ]
  },
  {
   "cell_type": "code",
   "execution_count": 31,
   "id": "f3bb8b9b-7c5c-48ea-9d03-1081426b839f",
   "metadata": {
    "tags": []
   },
   "outputs": [],
   "source": [
    "import _operator_data_prep"
   ]
  },
  {
   "cell_type": "code",
   "execution_count": 32,
   "id": "a6f31597-d2f4-4fcd-8e52-cb14966c5565",
   "metadata": {
    "tags": []
   },
   "outputs": [],
   "source": [
    " operator_aggregated = _operator_data_prep.aggregate_operator_stats(\n",
    "        operator_data,\n",
    "        group_cols = _operator_data_prep.operator_date_cols + [\"caltrans_district\"]\n",
    "    )"
   ]
  },
  {
   "cell_type": "code",
   "execution_count": 33,
   "id": "a890dc3e-df73-4097-b9e6-ac8745831492",
   "metadata": {
    "tags": []
   },
   "outputs": [
    {
     "data": {
      "text/plain": [
       "Index(['portfolio_organization_name', 'service_date', 'caltrans_district',\n",
       "       'operator_n_routes', 'operator_n_trips', 'operator_n_shapes',\n",
       "       'operator_n_stops', 'operator_n_arrivals',\n",
       "       'operator_route_length_miles', 'n_downtown_local_routes',\n",
       "       'n_local_routes', 'n_coverage_routes', 'n_rapid_routes',\n",
       "       'n_express_routes', 'n_rail_routes', 'n_ferry_routes',\n",
       "       'vp_per_min_agency', 'spatial_accuracy_agency', 'n_feeds',\n",
       "       'operator_feeds', 'counties_served'],\n",
       "      dtype='object')"
      ]
     },
     "execution_count": 33,
     "metadata": {},
     "output_type": "execute_result"
    }
   ],
   "source": [
    "operator_aggregated.columns"
   ]
  },
  {
   "cell_type": "code",
   "execution_count": 34,
   "id": "7dda42e9-acbd-4ab3-a1c5-506389e86221",
   "metadata": {
    "tags": []
   },
   "outputs": [
    {
     "data": {
      "text/plain": [
       "array(['04 - Bay Area / Oakland', '10 - Stockton',\n",
       "       '03 - Marysville / Sacramento', '12 - Santa Ana',\n",
       "       '07 - Los Angeles / Ventura', '08 - San Bernardino / Riverside',\n",
       "       '06 - Fresno / Bakersfield',\n",
       "       '05 - San Luis Obispo / Santa Barbara', '01 - Eureka',\n",
       "       '09 - Bishop', '11 - San Diego', '02 - Redding'], dtype=object)"
      ]
     },
     "execution_count": 34,
     "metadata": {},
     "output_type": "execute_result"
    }
   ],
   "source": [
    "operator_aggregated.caltrans_district.unique()"
   ]
  },
  {
   "cell_type": "code",
   "execution_count": 35,
   "id": "8f5d6751-cad2-4847-8885-ed41e84ae519",
   "metadata": {
    "tags": []
   },
   "outputs": [],
   "source": [
    "ntd_data = _operator_data_prep.unpack_multiple_ntd(\n",
    "        operator_data,\n",
    "        group_cols = _operator_data_prep.operator_date_cols\n",
    "    )"
   ]
  },
  {
   "cell_type": "code",
   "execution_count": 36,
   "id": "5f67c0cc-694f-46f8-92e4-1cff463476b9",
   "metadata": {
    "tags": []
   },
   "outputs": [
    {
     "data": {
      "text/plain": [
       "Index(['portfolio_organization_name', 'service_date', 'service_area_pop',\n",
       "       'service_area_sq_miles', 'hq_city', 'reporter_type',\n",
       "       'primary_uza_name'],\n",
       "      dtype='object')"
      ]
     },
     "execution_count": 36,
     "metadata": {},
     "output_type": "execute_result"
    }
   ],
   "source": [
    "ntd_data.columns"
   ]
  },
  {
   "cell_type": "code",
   "execution_count": 38,
   "id": "03d5b762-e08c-4157-9b8a-c150aa5ac877",
   "metadata": {
    "tags": []
   },
   "outputs": [],
   "source": [
    "most_recent_operator_data = pd.merge(\n",
    "        operator_aggregated,\n",
    "        ntd_data,\n",
    "        on = _operator_data_prep.operator_date_cols,\n",
    "        how = \"inner\"\n",
    "    )"
   ]
  },
  {
   "cell_type": "code",
   "execution_count": 39,
   "id": "494926da-1c22-415b-85c0-e03d3fc8be69",
   "metadata": {
    "tags": []
   },
   "outputs": [
    {
     "data": {
      "text/plain": [
       "Index(['portfolio_organization_name', 'service_date', 'caltrans_district',\n",
       "       'operator_n_routes', 'operator_n_trips', 'operator_n_shapes',\n",
       "       'operator_n_stops', 'operator_n_arrivals',\n",
       "       'operator_route_length_miles', 'n_downtown_local_routes',\n",
       "       'n_local_routes', 'n_coverage_routes', 'n_rapid_routes',\n",
       "       'n_express_routes', 'n_rail_routes', 'n_ferry_routes',\n",
       "       'vp_per_min_agency', 'spatial_accuracy_agency', 'n_feeds',\n",
       "       'operator_feeds', 'counties_served', 'service_area_pop',\n",
       "       'service_area_sq_miles', 'hq_city', 'reporter_type',\n",
       "       'primary_uza_name'],\n",
       "      dtype='object')"
      ]
     },
     "execution_count": 39,
     "metadata": {},
     "output_type": "execute_result"
    }
   ],
   "source": [
    "most_recent_operator_data.columns"
   ]
  },
  {
   "cell_type": "code",
   "execution_count": 40,
   "id": "001355bd-e314-43a6-a577-16ae18c3f46f",
   "metadata": {
    "tags": []
   },
   "outputs": [
    {
     "data": {
      "text/plain": [
       "array(['04 - Bay Area / Oakland', '12 - Santa Ana',\n",
       "       '07 - Los Angeles / Ventura', '03 - Marysville / Sacramento',\n",
       "       '08 - San Bernardino / Riverside', '06 - Fresno / Bakersfield',\n",
       "       '10 - Stockton', '05 - San Luis Obispo / Santa Barbara',\n",
       "       '01 - Eureka', '11 - San Diego', '02 - Redding'], dtype=object)"
      ]
     },
     "execution_count": 40,
     "metadata": {},
     "output_type": "execute_result"
    }
   ],
   "source": [
    "most_recent_operator_data.caltrans_district.unique()"
   ]
  },
  {
   "cell_type": "code",
   "execution_count": 41,
   "id": "cd0738ee-09f5-4388-9874-d662e999cec9",
   "metadata": {
    "tags": []
   },
   "outputs": [],
   "source": [
    "most_recent_operator_data2 = pd.merge(\n",
    "        operator_aggregated,\n",
    "        ntd_data,\n",
    "        on = _operator_data_prep.operator_date_cols,\n",
    "        how = \"left\"\n",
    "    )"
   ]
  },
  {
   "cell_type": "code",
   "execution_count": 42,
   "id": "b7b98147-d5d5-4c52-a253-52b3a2a29614",
   "metadata": {
    "tags": []
   },
   "outputs": [
    {
     "data": {
      "text/plain": [
       "array(['04 - Bay Area / Oakland', '10 - Stockton',\n",
       "       '03 - Marysville / Sacramento', '12 - Santa Ana',\n",
       "       '07 - Los Angeles / Ventura', '08 - San Bernardino / Riverside',\n",
       "       '06 - Fresno / Bakersfield',\n",
       "       '05 - San Luis Obispo / Santa Barbara', '01 - Eureka',\n",
       "       '09 - Bishop', '11 - San Diego', '02 - Redding'], dtype=object)"
      ]
     },
     "execution_count": 42,
     "metadata": {},
     "output_type": "execute_result"
    }
   ],
   "source": [
    "most_recent_operator_data2.caltrans_district.unique()"
   ]
  },
  {
   "cell_type": "markdown",
   "id": "2d146afa-f768-493c-9693-9d87dbf23906",
   "metadata": {},
   "source": [
    "### Rerun `_operator_data_prep` with the `left` join and see how Bishop looks like in `district_report`"
   ]
  }
 ],
 "metadata": {
  "kernelspec": {
   "display_name": "Python 3 (ipykernel)",
   "language": "python",
   "name": "python3"
  },
  "language_info": {
   "codemirror_mode": {
    "name": "ipython",
    "version": 3
   },
   "file_extension": ".py",
   "mimetype": "text/x-python",
   "name": "python",
   "nbconvert_exporter": "python",
   "pygments_lexer": "ipython3",
   "version": "3.11.10"
  }
 },
 "nbformat": 4,
 "nbformat_minor": 5
}
