{
 "cells": [
  {
   "cell_type": "markdown",
   "id": "40837618-b281-4ba5-bc43-7b87c3704af7",
   "metadata": {},
   "source": [
    "# Lost operators\n",
    "* Per `gtfs_digest/diagnostics.yml`, the number of unique operators went down from around 190 the past few months to 174."
   ]
  },
  {
   "cell_type": "code",
   "execution_count": 1,
   "id": "78160dd4-34f3-460e-9600-2ce31dcdb7ba",
   "metadata": {
    "tags": []
   },
   "outputs": [],
   "source": [
    "import numpy as np\n",
    "import pandas as pd\n",
    "import pyaml\n",
    "from update_vars import GTFS_DATA_DICT, RT_SCHED_GCS\n",
    "\n",
    "DIAGNOSTIC_YAML_PATH = \"./diagnostics.yml\""
   ]
  },
  {
   "cell_type": "code",
   "execution_count": 3,
   "id": "f1bddd9a-7e1a-4589-8c3e-16418537f6ca",
   "metadata": {
    "tags": []
   },
   "outputs": [],
   "source": [
    "DIGEST_RT_SCHED = GTFS_DATA_DICT.digest_tables.monthly_route_schedule_vp"
   ]
  },
  {
   "cell_type": "code",
   "execution_count": 9,
   "id": "67555230-7d16-4a8f-9f5a-30d7744ed5ef",
   "metadata": {
    "tags": []
   },
   "outputs": [],
   "source": [
    "route_df = (\n",
    "    pd.read_parquet(\n",
    "        f\"{RT_SCHED_GCS}{DIGEST_RT_SCHED}.parquet\",\n",
    "    )\n",
    "    .drop_duplicates()\n",
    "    .reset_index(drop=True)\n",
    "    .astype(str)\n",
    ")"
   ]
  },
  {
   "cell_type": "code",
   "execution_count": 10,
   "id": "00281bca-2907-4d3d-bcbc-ddb12ac7f751",
   "metadata": {
    "tags": []
   },
   "outputs": [
    {
     "data": {
      "text/plain": [
       "Index(['schedule_gtfs_dataset_key', 'route_id', 'direction_id', 'time_period',\n",
       "       'avg_scheduled_service_minutes', 'avg_stop_miles', 'n_scheduled_trips',\n",
       "       'frequency', 'service_date', 'is_express', 'is_ferry', 'is_rail',\n",
       "       'is_coverage', 'is_local', 'is_downtown_local', 'is_rapid', 'typology',\n",
       "       'name', 'combined_name', 'recent_combined_name', 'recent_route_id',\n",
       "       'route_primary_direction', 'minutes_atleast1_vp', 'minutes_atleast2_vp',\n",
       "       'total_rt_service_minutes', 'total_scheduled_service_minutes',\n",
       "       'total_vp', 'vp_in_shape', 'is_early', 'is_ontime', 'is_late',\n",
       "       'n_vp_trips', 'vp_per_minute', 'pct_in_shape',\n",
       "       'pct_rt_journey_atleast1_vp', 'pct_rt_journey_atleast2_vp',\n",
       "       'pct_sched_journey_atleast1_vp', 'pct_sched_journey_atleast2_vp',\n",
       "       'rt_sched_journey_ratio', 'avg_rt_service_minutes', 'sched_rt_category',\n",
       "       'speed_mph', 'schedule_source_record_id', 'base64_url',\n",
       "       'caltrans_district', 'portfolio_organization_name'],\n",
       "      dtype='object')"
      ]
     },
     "execution_count": 10,
     "metadata": {},
     "output_type": "execute_result"
    }
   ],
   "source": [
    "route_df.columns"
   ]
  },
  {
   "cell_type": "code",
   "execution_count": 15,
   "id": "17f21565-f013-48a2-aa65-d6bcbecea87c",
   "metadata": {
    "tags": []
   },
   "outputs": [
    {
     "data": {
      "text/plain": [
       "array(['2023-05-17', '2023-06-14', '2023-07-12', '2023-08-15',\n",
       "       '2023-09-13', '2023-10-11', '2023-11-15', '2023-12-13',\n",
       "       '2024-01-17', '2024-02-14', '2024-03-13', '2024-04-17',\n",
       "       '2024-05-22', '2024-06-12', '2024-07-17', '2024-08-14',\n",
       "       '2024-09-18', '2024-10-16', '2024-11-13', '2024-12-11',\n",
       "       '2025-01-15', '2025-02-12', '2025-03-12', '2025-04-16',\n",
       "       '2025-05-14', '2025-06-11', '2025-07-16', '2023-04-12',\n",
       "       '2023-03-15'], dtype=object)"
      ]
     },
     "execution_count": 15,
     "metadata": {},
     "output_type": "execute_result"
    }
   ],
   "source": [
    "route_df.service_date.unique()"
   ]
  },
  {
   "cell_type": "code",
   "execution_count": 16,
   "id": "9099b08f-ecff-4fe7-81f5-a9cd01d85e2d",
   "metadata": {
    "tags": []
   },
   "outputs": [],
   "source": [
    "july = route_df.loc[route_df.service_date == \"2025-07-16\"]"
   ]
  },
  {
   "cell_type": "code",
   "execution_count": 17,
   "id": "38c816f3-ca3f-4ae6-bfd0-1da3f683d8e1",
   "metadata": {
    "tags": []
   },
   "outputs": [],
   "source": [
    "june = route_df.loc[route_df.service_date == \"2025-06-11\",]"
   ]
  },
  {
   "cell_type": "code",
   "execution_count": 22,
   "id": "04970efa-566c-4f1c-8a63-b2286e1f81f8",
   "metadata": {
    "tags": []
   },
   "outputs": [],
   "source": [
    "missing_july_orgs = set(list(june.portfolio_organization_name.unique())) - set(\n",
    "    list(july.portfolio_organization_name.unique())\n",
    ")"
   ]
  },
  {
   "cell_type": "code",
   "execution_count": 23,
   "id": "d5215acd-9d52-4528-a9e3-cae0a38ef772",
   "metadata": {
    "tags": []
   },
   "outputs": [],
   "source": [
    "missing_july_names = set(list(june.name.unique())) - set(\n",
    "    list(july.name.unique())\n",
    ")"
   ]
  },
  {
   "cell_type": "code",
   "execution_count": 24,
   "id": "5ccb2f51-f6a9-4955-a987-d332b57275f4",
   "metadata": {
    "tags": []
   },
   "outputs": [
    {
     "data": {
      "text/plain": [
       "{'Bay Area 511 SolTrans Schedule',\n",
       " 'Bay Area 511 Sonoma-Marin Area Rail Transit Schedule',\n",
       " 'Bay Area 511 Vacaville City Coach Schedule',\n",
       " 'Bay Area 511 Vine Transit Schedule',\n",
       " 'Beach Cities GMV Schedule',\n",
       " 'Culver City Schedule',\n",
       " 'Desert Roadrunner GMV Schedule',\n",
       " 'DowneyLink Avail Schedule',\n",
       " 'Eastern Sierra Schedule',\n",
       " 'Get Around Town Express Schedule',\n",
       " 'Glendora Schedule',\n",
       " 'Havasu Landing Ferry Schedule',\n",
       " 'LA DOT Schedule',\n",
       " 'Madera Metro Schedule',\n",
       " 'Mountain Transit Schedule',\n",
       " 'North County Schedule',\n",
       " 'Redding Schedule',\n",
       " 'Rosemead Passio Schedule',\n",
       " 'SLO Peak Transit Schedule',\n",
       " 'Santa Maria Schedule'}"
      ]
     },
     "execution_count": 24,
     "metadata": {},
     "output_type": "execute_result"
    }
   ],
   "source": [
    "missing_july_names"
   ]
  },
  {
   "cell_type": "code",
   "execution_count": 19,
   "id": "d4ff1b59-b593-40b6-8180-af60d8fbcdb7",
   "metadata": {
    "tags": []
   },
   "outputs": [
    {
     "data": {
      "text/plain": [
       "{'Chemehuevi Indian Tribe',\n",
       " 'City of Culver City',\n",
       " 'City of Downey',\n",
       " 'City of Glendora',\n",
       " 'City of Los Angeles',\n",
       " 'City of Madera',\n",
       " 'City of Redondo Beach',\n",
       " 'City of Rosemead',\n",
       " 'City of Santa Maria',\n",
       " 'City of South Gate',\n",
       " 'City of Vacaville',\n",
       " 'Eastern Sierra Transit Authority',\n",
       " 'Mountain Area Regional Transit Authority',\n",
       " 'Napa Valley Transportation Authority',\n",
       " 'North County Transit District',\n",
       " 'Redding Area Bus Authority',\n",
       " 'Solano Transportation Authority',\n",
       " 'Sonoma-Marin Area Rail Transit District'}"
      ]
     },
     "execution_count": 19,
     "metadata": {},
     "output_type": "execute_result"
    }
   ],
   "source": [
    "missing_july_ops"
   ]
  },
  {
   "cell_type": "code",
   "execution_count": 29,
   "id": "8f86bc72-1016-40c6-94a2-7d196b97111a",
   "metadata": {
    "tags": []
   },
   "outputs": [
    {
     "data": {
      "text/html": [
       "<div>\n",
       "<style scoped>\n",
       "    .dataframe tbody tr th:only-of-type {\n",
       "        vertical-align: middle;\n",
       "    }\n",
       "\n",
       "    .dataframe tbody tr th {\n",
       "        vertical-align: top;\n",
       "    }\n",
       "\n",
       "    .dataframe thead th {\n",
       "        text-align: right;\n",
       "    }\n",
       "</style>\n",
       "<table border=\"1\" class=\"dataframe\">\n",
       "  <thead>\n",
       "    <tr style=\"text-align: right;\">\n",
       "      <th></th>\n",
       "      <th>portfolio_organization_name</th>\n",
       "      <th>sched_rt_category</th>\n",
       "    </tr>\n",
       "  </thead>\n",
       "  <tbody>\n",
       "  </tbody>\n",
       "</table>\n",
       "</div>"
      ],
      "text/plain": [
       "Empty DataFrame\n",
       "Columns: [portfolio_organization_name, sched_rt_category]\n",
       "Index: []"
      ]
     },
     "execution_count": 29,
     "metadata": {},
     "output_type": "execute_result"
    }
   ],
   "source": [
    "july.loc[july.name.isin(list(missing_july_names))][\n",
    "    [\"portfolio_organization_name\", \"sched_rt_category\"]\n",
    "]"
   ]
  },
  {
   "cell_type": "code",
   "execution_count": null,
   "id": "bcfbb903-5cad-40c3-9dda-f1ab26b68f0b",
   "metadata": {},
   "outputs": [],
   "source": [
    "july.loc[july.portfolio_organization_name.isin(list(missing_july_ops))][\n",
    "    [\"portfolio_organization_name\", \"sched_rt_category\"]\n",
    "]"
   ]
  },
  {
   "cell_type": "code",
   "execution_count": 31,
   "id": "32ecccb9-9bca-4153-a5c6-683491f9cd12",
   "metadata": {
    "tags": []
   },
   "outputs": [
    {
     "data": {
      "text/html": [
       "<div>\n",
       "<style scoped>\n",
       "    .dataframe tbody tr th:only-of-type {\n",
       "        vertical-align: middle;\n",
       "    }\n",
       "\n",
       "    .dataframe tbody tr th {\n",
       "        vertical-align: top;\n",
       "    }\n",
       "\n",
       "    .dataframe thead th {\n",
       "        text-align: right;\n",
       "    }\n",
       "</style>\n",
       "<table border=\"1\" class=\"dataframe\">\n",
       "  <thead>\n",
       "    <tr style=\"text-align: right;\">\n",
       "      <th></th>\n",
       "      <th>caltrans_district</th>\n",
       "      <th>portfolio_organization_name</th>\n",
       "      <th>name</th>\n",
       "      <th>sched_rt_category</th>\n",
       "    </tr>\n",
       "  </thead>\n",
       "  <tbody>\n",
       "    <tr>\n",
       "      <th>113409</th>\n",
       "      <td>08 - San Bernardino / Riverside</td>\n",
       "      <td>Chemehuevi Indian Tribe</td>\n",
       "      <td>Havasu Landing Ferry Schedule</td>\n",
       "      <td>schedule_only</td>\n",
       "    </tr>\n",
       "    <tr>\n",
       "      <th>84468</th>\n",
       "      <td>07 - Los Angeles / Ventura</td>\n",
       "      <td>City of Culver City</td>\n",
       "      <td>Culver City Schedule</td>\n",
       "      <td>schedule_and_vp</td>\n",
       "    </tr>\n",
       "    <tr>\n",
       "      <th>84622</th>\n",
       "      <td>07 - Los Angeles / Ventura</td>\n",
       "      <td>City of Culver City</td>\n",
       "      <td>Culver City Schedule</td>\n",
       "      <td>schedule_only</td>\n",
       "    </tr>\n",
       "    <tr>\n",
       "      <th>215176</th>\n",
       "      <td>07 - Los Angeles / Ventura</td>\n",
       "      <td>City of Downey</td>\n",
       "      <td>DowneyLink Avail Schedule</td>\n",
       "      <td>schedule_and_vp</td>\n",
       "    </tr>\n",
       "    <tr>\n",
       "      <th>235595</th>\n",
       "      <td>07 - Los Angeles / Ventura</td>\n",
       "      <td>City of Glendora</td>\n",
       "      <td>Glendora Schedule</td>\n",
       "      <td>schedule_only</td>\n",
       "    </tr>\n",
       "    <tr>\n",
       "      <th>241041</th>\n",
       "      <td>07 - Los Angeles / Ventura</td>\n",
       "      <td>City of Los Angeles</td>\n",
       "      <td>LA DOT Schedule</td>\n",
       "      <td>schedule_and_vp</td>\n",
       "    </tr>\n",
       "    <tr>\n",
       "      <th>82513</th>\n",
       "      <td>06 - Fresno / Bakersfield</td>\n",
       "      <td>City of Madera</td>\n",
       "      <td>Madera Metro Schedule</td>\n",
       "      <td>schedule_only</td>\n",
       "    </tr>\n",
       "    <tr>\n",
       "      <th>27204</th>\n",
       "      <td>07 - Los Angeles / Ventura</td>\n",
       "      <td>City of Redondo Beach</td>\n",
       "      <td>Beach Cities GMV Schedule</td>\n",
       "      <td>schedule_and_vp</td>\n",
       "    </tr>\n",
       "    <tr>\n",
       "      <th>113309</th>\n",
       "      <td>07 - Los Angeles / Ventura</td>\n",
       "      <td>City of Rosemead</td>\n",
       "      <td>Rosemead Passio Schedule</td>\n",
       "      <td>schedule_and_vp</td>\n",
       "    </tr>\n",
       "    <tr>\n",
       "      <th>128894</th>\n",
       "      <td>05 - San Luis Obispo / Santa Barbara</td>\n",
       "      <td>City of Santa Maria</td>\n",
       "      <td>Santa Maria Schedule</td>\n",
       "      <td>schedule_and_vp</td>\n",
       "    </tr>\n",
       "    <tr>\n",
       "      <th>128993</th>\n",
       "      <td>05 - San Luis Obispo / Santa Barbara</td>\n",
       "      <td>City of Santa Maria</td>\n",
       "      <td>Santa Maria Schedule</td>\n",
       "      <td>schedule_only</td>\n",
       "    </tr>\n",
       "    <tr>\n",
       "      <th>59148</th>\n",
       "      <td>07 - Los Angeles / Ventura</td>\n",
       "      <td>City of South Gate</td>\n",
       "      <td>Get Around Town Express Schedule</td>\n",
       "      <td>schedule_only</td>\n",
       "    </tr>\n",
       "    <tr>\n",
       "      <th>266936</th>\n",
       "      <td>04 - Bay Area / Oakland</td>\n",
       "      <td>City of Vacaville</td>\n",
       "      <td>Bay Area 511 Vacaville City Coach Schedule</td>\n",
       "      <td>schedule_and_vp</td>\n",
       "    </tr>\n",
       "    <tr>\n",
       "      <th>239999</th>\n",
       "      <td>09 - Bishop</td>\n",
       "      <td>Eastern Sierra Transit Authority</td>\n",
       "      <td>Eastern Sierra Schedule</td>\n",
       "      <td>schedule_only</td>\n",
       "    </tr>\n",
       "    <tr>\n",
       "      <th>239333</th>\n",
       "      <td>09 - Bishop</td>\n",
       "      <td>Eastern Sierra Transit Authority</td>\n",
       "      <td>Eastern Sierra Schedule</td>\n",
       "      <td>schedule_and_vp</td>\n",
       "    </tr>\n",
       "    <tr>\n",
       "      <th>110912</th>\n",
       "      <td>08 - San Bernardino / Riverside</td>\n",
       "      <td>Mountain Area Regional Transit Authority</td>\n",
       "      <td>Mountain Transit Schedule</td>\n",
       "      <td>schedule_only</td>\n",
       "    </tr>\n",
       "    <tr>\n",
       "      <th>41464</th>\n",
       "      <td>04 - Bay Area / Oakland</td>\n",
       "      <td>Napa Valley Transportation Authority</td>\n",
       "      <td>Bay Area 511 Vine Transit Schedule</td>\n",
       "      <td>schedule_only</td>\n",
       "    </tr>\n",
       "    <tr>\n",
       "      <th>40706</th>\n",
       "      <td>04 - Bay Area / Oakland</td>\n",
       "      <td>Napa Valley Transportation Authority</td>\n",
       "      <td>Bay Area 511 Vine Transit Schedule</td>\n",
       "      <td>schedule_and_vp</td>\n",
       "    </tr>\n",
       "    <tr>\n",
       "      <th>54890</th>\n",
       "      <td>11 - San Diego</td>\n",
       "      <td>North County Transit District</td>\n",
       "      <td>North County Schedule</td>\n",
       "      <td>schedule_and_vp</td>\n",
       "    </tr>\n",
       "    <tr>\n",
       "      <th>192785</th>\n",
       "      <td>02 - Redding</td>\n",
       "      <td>Redding Area Bus Authority</td>\n",
       "      <td>Redding Schedule</td>\n",
       "      <td>schedule_and_vp</td>\n",
       "    </tr>\n",
       "    <tr>\n",
       "      <th>43168</th>\n",
       "      <td>04 - Bay Area / Oakland</td>\n",
       "      <td>Solano Transportation Authority</td>\n",
       "      <td>Bay Area 511 SolTrans Schedule</td>\n",
       "      <td>schedule_and_vp</td>\n",
       "    </tr>\n",
       "    <tr>\n",
       "      <th>17017</th>\n",
       "      <td>04 - Bay Area / Oakland</td>\n",
       "      <td>Sonoma-Marin Area Rail Transit District</td>\n",
       "      <td>Bay Area 511 Sonoma-Marin Area Rail Transit Sc...</td>\n",
       "      <td>schedule_and_vp</td>\n",
       "    </tr>\n",
       "  </tbody>\n",
       "</table>\n",
       "</div>"
      ],
      "text/plain": [
       "                           caltrans_district  \\\n",
       "113409       08 - San Bernardino / Riverside   \n",
       "84468             07 - Los Angeles / Ventura   \n",
       "84622             07 - Los Angeles / Ventura   \n",
       "215176            07 - Los Angeles / Ventura   \n",
       "235595            07 - Los Angeles / Ventura   \n",
       "241041            07 - Los Angeles / Ventura   \n",
       "82513              06 - Fresno / Bakersfield   \n",
       "27204             07 - Los Angeles / Ventura   \n",
       "113309            07 - Los Angeles / Ventura   \n",
       "128894  05 - San Luis Obispo / Santa Barbara   \n",
       "128993  05 - San Luis Obispo / Santa Barbara   \n",
       "59148             07 - Los Angeles / Ventura   \n",
       "266936               04 - Bay Area / Oakland   \n",
       "239999                           09 - Bishop   \n",
       "239333                           09 - Bishop   \n",
       "110912       08 - San Bernardino / Riverside   \n",
       "41464                04 - Bay Area / Oakland   \n",
       "40706                04 - Bay Area / Oakland   \n",
       "54890                         11 - San Diego   \n",
       "192785                          02 - Redding   \n",
       "43168                04 - Bay Area / Oakland   \n",
       "17017                04 - Bay Area / Oakland   \n",
       "\n",
       "                     portfolio_organization_name  \\\n",
       "113409                   Chemehuevi Indian Tribe   \n",
       "84468                        City of Culver City   \n",
       "84622                        City of Culver City   \n",
       "215176                            City of Downey   \n",
       "235595                          City of Glendora   \n",
       "241041                       City of Los Angeles   \n",
       "82513                             City of Madera   \n",
       "27204                      City of Redondo Beach   \n",
       "113309                          City of Rosemead   \n",
       "128894                       City of Santa Maria   \n",
       "128993                       City of Santa Maria   \n",
       "59148                         City of South Gate   \n",
       "266936                         City of Vacaville   \n",
       "239999          Eastern Sierra Transit Authority   \n",
       "239333          Eastern Sierra Transit Authority   \n",
       "110912  Mountain Area Regional Transit Authority   \n",
       "41464       Napa Valley Transportation Authority   \n",
       "40706       Napa Valley Transportation Authority   \n",
       "54890              North County Transit District   \n",
       "192785                Redding Area Bus Authority   \n",
       "43168            Solano Transportation Authority   \n",
       "17017    Sonoma-Marin Area Rail Transit District   \n",
       "\n",
       "                                                     name sched_rt_category  \n",
       "113409                      Havasu Landing Ferry Schedule     schedule_only  \n",
       "84468                                Culver City Schedule   schedule_and_vp  \n",
       "84622                                Culver City Schedule     schedule_only  \n",
       "215176                          DowneyLink Avail Schedule   schedule_and_vp  \n",
       "235595                                  Glendora Schedule     schedule_only  \n",
       "241041                                    LA DOT Schedule   schedule_and_vp  \n",
       "82513                               Madera Metro Schedule     schedule_only  \n",
       "27204                           Beach Cities GMV Schedule   schedule_and_vp  \n",
       "113309                           Rosemead Passio Schedule   schedule_and_vp  \n",
       "128894                               Santa Maria Schedule   schedule_and_vp  \n",
       "128993                               Santa Maria Schedule     schedule_only  \n",
       "59148                    Get Around Town Express Schedule     schedule_only  \n",
       "266936         Bay Area 511 Vacaville City Coach Schedule   schedule_and_vp  \n",
       "239999                            Eastern Sierra Schedule     schedule_only  \n",
       "239333                            Eastern Sierra Schedule   schedule_and_vp  \n",
       "110912                          Mountain Transit Schedule     schedule_only  \n",
       "41464                  Bay Area 511 Vine Transit Schedule     schedule_only  \n",
       "40706                  Bay Area 511 Vine Transit Schedule   schedule_and_vp  \n",
       "54890                               North County Schedule   schedule_and_vp  \n",
       "192785                                   Redding Schedule   schedule_and_vp  \n",
       "43168                      Bay Area 511 SolTrans Schedule   schedule_and_vp  \n",
       "17017   Bay Area 511 Sonoma-Marin Area Rail Transit Sc...   schedule_and_vp  "
      ]
     },
     "execution_count": 31,
     "metadata": {},
     "output_type": "execute_result"
    }
   ],
   "source": [
    "june.loc[june.portfolio_organization_name.isin(list(missing_july_ops))][\n",
    "    [\"caltrans_district\",\"portfolio_organization_name\", \"name\",\"sched_rt_category\"]\n",
    "].drop_duplicates().sort_values(by = [\"portfolio_organization_name\"])"
   ]
  }
 ],
 "metadata": {
  "kernelspec": {
   "display_name": "Python 3 (ipykernel)",
   "language": "python",
   "name": "python3"
  },
  "language_info": {
   "codemirror_mode": {
    "name": "ipython",
    "version": 3
   },
   "file_extension": ".py",
   "mimetype": "text/x-python",
   "name": "python",
   "nbconvert_exporter": "python",
   "pygments_lexer": "ipython3",
   "version": "3.11.10"
  }
 },
 "nbformat": 4,
 "nbformat_minor": 5
}
