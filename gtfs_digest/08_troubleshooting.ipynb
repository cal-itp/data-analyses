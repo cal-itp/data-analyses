{
 "cells": [
  {
   "cell_type": "markdown",
   "id": "f297deb9-7ffb-4e07-841c-1109c502b0b0",
   "metadata": {},
   "source": [
    "## Double checking "
   ]
  },
  {
   "cell_type": "code",
   "execution_count": 14,
   "id": "a654cf6c-5019-4aa6-a66a-c683e94d7fc4",
   "metadata": {},
   "outputs": [],
   "source": [
    "import _section1_utils as section1\n",
    "import _section3_utils as section3\n",
    "import calitp_data_analysis.magics\n",
    "import great_tables as gt\n",
    "import pandas as pd\n",
    "from IPython.display import HTML, Image, Markdown, display, display_html\n",
    "from shared_utils import catalog_utils, rt_dates, rt_utils\n",
    "import geopandas as gpd\n"
   ]
  },
  {
   "cell_type": "code",
   "execution_count": 2,
   "id": "13ce6d60-b82d-45ff-a8da-86b10634f25d",
   "metadata": {},
   "outputs": [],
   "source": [
    "pd.options.display.max_columns = 100\n",
    "pd.options.display.float_format = \"{:.2f}\".format\n",
    "pd.set_option(\"display.max_rows\", None)\n",
    "pd.set_option(\"display.max_colwidth\", None)"
   ]
  },
  {
   "cell_type": "code",
   "execution_count": 4,
   "id": "a7b0a2b3-5b06-40e1-a47e-b17415c5bc97",
   "metadata": {},
   "outputs": [],
   "source": [
    "GTFS_DATA_DICT = catalog_utils.get_catalog(\"gtfs_analytics_data\")"
   ]
  },
  {
   "cell_type": "markdown",
   "id": "631510e1-12e3-4543-b8eb-6530668b9f75",
   "metadata": {},
   "source": [
    "### 4/22/2024\n",
    "#### Route Typologies don't add up to unique routes"
   ]
  },
  {
   "cell_type": "code",
   "execution_count": 5,
   "id": "8cbcf719-48ae-44c2-b0f3-61ec49015e1f",
   "metadata": {},
   "outputs": [],
   "source": [
    "op_profiles_url = f\"{GTFS_DATA_DICT.digest_tables.dir}{GTFS_DATA_DICT.digest_tables.operator_profiles}.parquet\"\n",
    "\n",
    "op_profiles_df = pd.read_parquet(\n",
    "    op_profiles_url)"
   ]
  },
  {
   "cell_type": "code",
   "execution_count": 6,
   "id": "ec02dd45-f888-42dd-b570-e9d9f86262ee",
   "metadata": {},
   "outputs": [],
   "source": [
    "ucd_test = op_profiles_df.loc[op_profiles_df.organization_name == \"University of California, Davis\"]"
   ]
  },
  {
   "cell_type": "code",
   "execution_count": 9,
   "id": "3a575086-0834-4c62-b3fa-a42dfd6ed78c",
   "metadata": {},
   "outputs": [],
   "source": [
    "ucd_test2 = ucd_test.sort_values(by = ['service_date']).tail(1)"
   ]
  },
  {
   "cell_type": "markdown",
   "id": "2287ff9d-74fb-4add-8bc7-623408cc5e6b",
   "metadata": {},
   "source": [
    "* There are 19 operator n routes\n",
    "* 7 are downtown\n",
    "* 2 are local (9)\n",
    "* 11 are rapid (20)"
   ]
  },
  {
   "cell_type": "code",
   "execution_count": 10,
   "id": "8a12596b-362b-4f41-adf9-856b4c4af85d",
   "metadata": {},
   "outputs": [
    {
     "data": {
      "text/html": [
       "<div>\n",
       "<style scoped>\n",
       "    .dataframe tbody tr th:only-of-type {\n",
       "        vertical-align: middle;\n",
       "    }\n",
       "\n",
       "    .dataframe tbody tr th {\n",
       "        vertical-align: top;\n",
       "    }\n",
       "\n",
       "    .dataframe thead th {\n",
       "        text-align: right;\n",
       "    }\n",
       "</style>\n",
       "<table border=\"1\" class=\"dataframe\">\n",
       "  <thead>\n",
       "    <tr style=\"text-align: right;\">\n",
       "      <th></th>\n",
       "      <th>schedule_gtfs_dataset_key</th>\n",
       "      <th>operator_n_routes</th>\n",
       "      <th>operator_n_trips</th>\n",
       "      <th>operator_n_shapes</th>\n",
       "      <th>operator_n_stops</th>\n",
       "      <th>operator_n_arrivals</th>\n",
       "      <th>operator_route_length_miles</th>\n",
       "      <th>operator_arrivals_per_stop</th>\n",
       "      <th>n_coverage_routes</th>\n",
       "      <th>n_downtown_local_routes</th>\n",
       "      <th>n_local_routes</th>\n",
       "      <th>n_rapid_routes</th>\n",
       "      <th>name</th>\n",
       "      <th>organization_source_record_id</th>\n",
       "      <th>organization_name</th>\n",
       "      <th>service_date</th>\n",
       "    </tr>\n",
       "  </thead>\n",
       "  <tbody>\n",
       "    <tr>\n",
       "      <th>1482</th>\n",
       "      <td>d2b09fbd392b28d767c28ea26529b0cd</td>\n",
       "      <td>19</td>\n",
       "      <td>902</td>\n",
       "      <td>38</td>\n",
       "      <td>272</td>\n",
       "      <td>11580</td>\n",
       "      <td>87.89</td>\n",
       "      <td>42.57</td>\n",
       "      <td>4</td>\n",
       "      <td>7</td>\n",
       "      <td>2</td>\n",
       "      <td>11</td>\n",
       "      <td>Unitrans Schedule</td>\n",
       "      <td>recS1JKEz73Hev8pJ</td>\n",
       "      <td>University of California, Davis</td>\n",
       "      <td>2024-03-13</td>\n",
       "    </tr>\n",
       "  </tbody>\n",
       "</table>\n",
       "</div>"
      ],
      "text/plain": [
       "             schedule_gtfs_dataset_key  operator_n_routes  operator_n_trips  \\\n",
       "1482  d2b09fbd392b28d767c28ea26529b0cd                 19               902   \n",
       "\n",
       "      operator_n_shapes  operator_n_stops  operator_n_arrivals  \\\n",
       "1482                 38               272                11580   \n",
       "\n",
       "      operator_route_length_miles  operator_arrivals_per_stop  \\\n",
       "1482                        87.89                       42.57   \n",
       "\n",
       "      n_coverage_routes  n_downtown_local_routes  n_local_routes  \\\n",
       "1482                  4                        7               2   \n",
       "\n",
       "      n_rapid_routes               name organization_source_record_id  \\\n",
       "1482              11  Unitrans Schedule             recS1JKEz73Hev8pJ   \n",
       "\n",
       "                    organization_name service_date  \n",
       "1482  University of California, Davis   2024-03-13  "
      ]
     },
     "execution_count": 10,
     "metadata": {},
     "output_type": "execute_result"
    }
   ],
   "source": [
    "ucd_test2"
   ]
  },
  {
   "cell_type": "markdown",
   "id": "2fec5b43-f86f-4cbd-9d3a-0de927a10e34",
   "metadata": {},
   "source": [
    "#### Extra long routes"
   ]
  },
  {
   "cell_type": "code",
   "execution_count": 11,
   "id": "a3718b89-5572-460c-8dc9-a078b8e90265",
   "metadata": {},
   "outputs": [],
   "source": [
    "op_routes_url = f\"{GTFS_DATA_DICT.digest_tables.dir}{GTFS_DATA_DICT.digest_tables.operator_routes_map}.parquet\""
   ]
  },
  {
   "cell_type": "code",
   "execution_count": 12,
   "id": "14baa29d-6628-44ad-9ada-58daa262f038",
   "metadata": {},
   "outputs": [],
   "source": [
    "eureka_org_name = \"City of Eureka\""
   ]
  },
  {
   "cell_type": "code",
   "execution_count": 18,
   "id": "b2ac2a4c-1d96-4a60-b7e4-f5c66dbae140",
   "metadata": {},
   "outputs": [],
   "source": [
    "eureka_test = gpd.read_parquet(\n",
    "    op_routes_url,\n",
    "    filters=[[(\"organization_name\", \"==\", eureka_org_name),\n",
    "             (\"route_combined_name\", \"==\", 'Redwood Coast Express')]])"
   ]
  },
  {
   "cell_type": "code",
   "execution_count": 19,
   "id": "253ce5dc-c91a-4fe2-a15a-10e893c919a7",
   "metadata": {},
   "outputs": [
    {
     "data": {
      "text/plain": [
       "array(['Redwood Coast Express'], dtype=object)"
      ]
     },
     "execution_count": 19,
     "metadata": {},
     "output_type": "execute_result"
    }
   ],
   "source": [
    "eureka_test.route_combined_name.unique()"
   ]
  },
  {
   "cell_type": "code",
   "execution_count": 20,
   "id": "96b4144e-482a-4f8e-8b12-c992d0e0b9dd",
   "metadata": {},
   "outputs": [
    {
     "data": {
      "text/html": [
       "<div>\n",
       "<style scoped>\n",
       "    .dataframe tbody tr th:only-of-type {\n",
       "        vertical-align: middle;\n",
       "    }\n",
       "\n",
       "    .dataframe tbody tr th {\n",
       "        vertical-align: top;\n",
       "    }\n",
       "\n",
       "    .dataframe thead th {\n",
       "        text-align: right;\n",
       "    }\n",
       "</style>\n",
       "<table border=\"1\" class=\"dataframe\">\n",
       "  <thead>\n",
       "    <tr style=\"text-align: right;\">\n",
       "      <th></th>\n",
       "      <th>shape_array_key</th>\n",
       "      <th>feed_key</th>\n",
       "      <th>schedule_gtfs_dataset_key</th>\n",
       "      <th>direction_id</th>\n",
       "      <th>route_key</th>\n",
       "      <th>route_length</th>\n",
       "      <th>route_length_miles</th>\n",
       "      <th>organization_source_record_id</th>\n",
       "      <th>organization_name</th>\n",
       "      <th>service_date</th>\n",
       "      <th>name</th>\n",
       "      <th>route_id</th>\n",
       "      <th>route_combined_name</th>\n",
       "    </tr>\n",
       "  </thead>\n",
       "  <tbody>\n",
       "    <tr>\n",
       "      <th>17812</th>\n",
       "      <td>b55e018cb0c715d9823d97e9d6e28735</td>\n",
       "      <td>6bbaf3d2d76320e191547c85b2b5b483</td>\n",
       "      <td>a253a8d7acd57657bb98050f37dd6b0f</td>\n",
       "      <td>0.00</td>\n",
       "      <td>1809d8b2c3952106b7c9a4b22f669421</td>\n",
       "      <td>254309.00</td>\n",
       "      <td>158.02</td>\n",
       "      <td>recynxkqEoo9dJEvw</td>\n",
       "      <td>City of Eureka</td>\n",
       "      <td>2024-01-17</td>\n",
       "      <td>Humboldt Schedule</td>\n",
       "      <td>76837</td>\n",
       "      <td>Redwood Coast Express</td>\n",
       "    </tr>\n",
       "    <tr>\n",
       "      <th>17824</th>\n",
       "      <td>a76cce9fbbb15abbb14e851fa54db075</td>\n",
       "      <td>be03a73d3aec05cd63e4f202bff14be2</td>\n",
       "      <td>a253a8d7acd57657bb98050f37dd6b0f</td>\n",
       "      <td>0.00</td>\n",
       "      <td>e7081d47cc7323fb273c4a5049658217</td>\n",
       "      <td>254345.22</td>\n",
       "      <td>158.04</td>\n",
       "      <td>recynxkqEoo9dJEvw</td>\n",
       "      <td>City of Eureka</td>\n",
       "      <td>2024-02-14</td>\n",
       "      <td>Humboldt Schedule</td>\n",
       "      <td>76837</td>\n",
       "      <td>Redwood Coast Express</td>\n",
       "    </tr>\n",
       "    <tr>\n",
       "      <th>17834</th>\n",
       "      <td>17e7ed5fffbde15c6edc0e3351783a76</td>\n",
       "      <td>4c0898e884f84c7d3a5e83fa89c99537</td>\n",
       "      <td>a253a8d7acd57657bb98050f37dd6b0f</td>\n",
       "      <td>0.00</td>\n",
       "      <td>e8fd951fce01183ca25187246a12d4d1</td>\n",
       "      <td>254345.22</td>\n",
       "      <td>158.04</td>\n",
       "      <td>recynxkqEoo9dJEvw</td>\n",
       "      <td>City of Eureka</td>\n",
       "      <td>2024-03-13</td>\n",
       "      <td>Humboldt Schedule</td>\n",
       "      <td>76837</td>\n",
       "      <td>Redwood Coast Express</td>\n",
       "    </tr>\n",
       "  </tbody>\n",
       "</table>\n",
       "</div>"
      ],
      "text/plain": [
       "                        shape_array_key                          feed_key  \\\n",
       "17812  b55e018cb0c715d9823d97e9d6e28735  6bbaf3d2d76320e191547c85b2b5b483   \n",
       "17824  a76cce9fbbb15abbb14e851fa54db075  be03a73d3aec05cd63e4f202bff14be2   \n",
       "17834  17e7ed5fffbde15c6edc0e3351783a76  4c0898e884f84c7d3a5e83fa89c99537   \n",
       "\n",
       "              schedule_gtfs_dataset_key  direction_id  \\\n",
       "17812  a253a8d7acd57657bb98050f37dd6b0f          0.00   \n",
       "17824  a253a8d7acd57657bb98050f37dd6b0f          0.00   \n",
       "17834  a253a8d7acd57657bb98050f37dd6b0f          0.00   \n",
       "\n",
       "                              route_key  route_length  route_length_miles  \\\n",
       "17812  1809d8b2c3952106b7c9a4b22f669421     254309.00              158.02   \n",
       "17824  e7081d47cc7323fb273c4a5049658217     254345.22              158.04   \n",
       "17834  e8fd951fce01183ca25187246a12d4d1     254345.22              158.04   \n",
       "\n",
       "      organization_source_record_id organization_name service_date  \\\n",
       "17812             recynxkqEoo9dJEvw    City of Eureka   2024-01-17   \n",
       "17824             recynxkqEoo9dJEvw    City of Eureka   2024-02-14   \n",
       "17834             recynxkqEoo9dJEvw    City of Eureka   2024-03-13   \n",
       "\n",
       "                    name route_id    route_combined_name  \n",
       "17812  Humboldt Schedule    76837  Redwood Coast Express  \n",
       "17824  Humboldt Schedule    76837  Redwood Coast Express  \n",
       "17834  Humboldt Schedule    76837  Redwood Coast Express  "
      ]
     },
     "execution_count": 20,
     "metadata": {},
     "output_type": "execute_result"
    }
   ],
   "source": [
    "eureka_test.drop(columns = ['geometry'])"
   ]
  }
 ],
 "metadata": {
  "kernelspec": {
   "display_name": "Python 3 (ipykernel)",
   "language": "python",
   "name": "python3"
  },
  "language_info": {
   "codemirror_mode": {
    "name": "ipython",
    "version": 3
   },
   "file_extension": ".py",
   "mimetype": "text/x-python",
   "name": "python",
   "nbconvert_exporter": "python",
   "pygments_lexer": "ipython3",
   "version": "3.9.13"
  }
 },
 "nbformat": 4,
 "nbformat_minor": 5
}
