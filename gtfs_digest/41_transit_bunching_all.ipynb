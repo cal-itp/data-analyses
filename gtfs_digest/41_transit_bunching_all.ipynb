{
 "cells": [
  {
   "cell_type": "markdown",
   "id": "733e5c07-e894-48de-b92a-9cba10b7fc9a",
   "metadata": {},
   "source": [
    "## Transit Bunching \n",
    "* `cd data-analyses/rt_segment_speeds && pip install -r requirements.txt && cd ../_shared_utils && make setup_env && cd ../gtfs_digest`\n",
    "* [Issue](https://github.com/cal-itp/data-analyses/issues/1099)\n",
    "### 11/8\n",
    "* Figure out how to address City of Visalia: one of the buses that is scheduled to arrive earlier arrives later than another bus. \n",
    "* This leads to a negative time stamp and makes it appear like there is a lot of bunching per the Transit Matters approach.\n",
    "\n"
   ]
  },
  {
   "cell_type": "code",
   "execution_count": 1,
   "id": "60097cf1-857d-4c7f-9fc7-043a69ec1a61",
   "metadata": {},
   "outputs": [],
   "source": [
    "import datetime as dt\n",
    "\n",
    "import altair as alt\n",
    "import geopandas as gpd\n",
    "import merge_data\n",
    "import numpy as np\n",
    "import pandas as pd\n",
    "from segment_speed_utils import gtfs_schedule_wrangling, helpers, time_series_utils\n",
    "from shared_utils import catalog_utils, rt_dates, rt_utils\n",
    "from update_vars import GTFS_DATA_DICT, RT_SCHED_GCS, SCHED_GCS\n",
    "\n",
    "# https://github.com/cal-itp/data-analyses/blob/main/_shared_utils/shared_utils/gtfs_analytics_data.yml\n",
    "GTFS_DATA_DICT = catalog_utils.get_catalog(\"gtfs_analytics_data\")\n",
    "\n",
    "from segment_speed_utils.project_vars import (\n",
    "    COMPILED_CACHED_VIEWS,\n",
    "    GTFS_DATA_DICT,\n",
    "    PROJECT_CRS,\n",
    "    RT_SCHED_GCS,\n",
    "    SCHED_GCS,\n",
    "    SEGMENT_GCS,\n",
    ")"
   ]
  },
  {
   "cell_type": "code",
   "execution_count": 2,
   "id": "51a085f8-5981-4da7-904f-6348cf2e18b0",
   "metadata": {},
   "outputs": [],
   "source": [
    "pd.options.display.max_columns = 100\n",
    "pd.options.display.float_format = \"{:.2f}\".format\n",
    "pd.set_option(\"display.max_rows\", None)\n",
    "pd.set_option(\"display.max_colwidth\", None)"
   ]
  },
  {
   "cell_type": "code",
   "execution_count": 3,
   "id": "113bd786-8d4b-4153-939b-b419b4fa97ee",
   "metadata": {},
   "outputs": [],
   "source": [
    "may_date = \"2024-05-22\""
   ]
  },
  {
   "cell_type": "code",
   "execution_count": 4,
   "id": "44a80420-dbe8-4a2b-9c47-44b32bf28e00",
   "metadata": {},
   "outputs": [],
   "source": [
    "drop_for_preview = [\n",
    "    \"schedule_gtfs_dataset_key\",\n",
    "    \"trip_instance_key\",\n",
    "    \"shape_array_key\",\n",
    "    \"feed_key\",\n",
    "    \"trip_id\",\n",
    "]"
   ]
  },
  {
   "cell_type": "markdown",
   "id": "2be7e7cc-b6c5-4c87-b2d5-6cb8612e23ce",
   "metadata": {},
   "source": [
    "### Grab Sample Routes"
   ]
  },
  {
   "cell_type": "code",
   "execution_count": 5,
   "id": "873bf893-40a2-4b64-84ba-68604c6df18b",
   "metadata": {},
   "outputs": [],
   "source": [
    "subset = [\n",
    "    \"schedule_gtfs_dataset_key\",\n",
    "    \"route_id\",\n",
    "    \"direction_id\",\n",
    "    \"route_primary_direction\",\n",
    "    \"service_date\",\n",
    "    \"frequency\",\n",
    "]"
   ]
  },
  {
   "cell_type": "code",
   "execution_count": 6,
   "id": "c9c35b69-d5ad-47b6-9027-33cc6631835e",
   "metadata": {},
   "outputs": [
    {
     "data": {
      "text/plain": [
       "'schedule_route_dir/schedule_route_direction_metrics'"
      ]
     },
     "execution_count": 6,
     "metadata": {},
     "output_type": "execute_result"
    }
   ],
   "source": [
    "GTFS_DATA_DICT.rt_vs_schedule_tables.sched_route_direction_metrics"
   ]
  },
  {
   "cell_type": "code",
   "execution_count": 7,
   "id": "85ad8696-1b70-4996-8866-3cd2ad3d3738",
   "metadata": {},
   "outputs": [],
   "source": [
    "route_dir_columns = [\n",
    "    \"schedule_gtfs_dataset_key\",\n",
    "    \"route_id\",\n",
    "    \"direction_id\",\n",
    "    \"time_period\",\n",
    "    \"route_primary_direction\",\n",
    "    \"frequency\",\n",
    "    \"service_date\",\n",
    "]"
   ]
  },
  {
   "cell_type": "code",
   "execution_count": 8,
   "id": "9d07da3c-e347-4671-925b-e8f5bc31c0fd",
   "metadata": {},
   "outputs": [],
   "source": [
    "route_dir = merge_data.concatenate_schedule_by_route_direction([may_date])[\n",
    "    route_dir_columns\n",
    "]"
   ]
  },
  {
   "cell_type": "code",
   "execution_count": 9,
   "id": "260b6305-9e99-4870-82f7-5cae925d9a0d",
   "metadata": {},
   "outputs": [
    {
     "data": {
      "text/html": [
       "<div>\n",
       "<style scoped>\n",
       "    .dataframe tbody tr th:only-of-type {\n",
       "        vertical-align: middle;\n",
       "    }\n",
       "\n",
       "    .dataframe tbody tr th {\n",
       "        vertical-align: top;\n",
       "    }\n",
       "\n",
       "    .dataframe thead th {\n",
       "        text-align: right;\n",
       "    }\n",
       "</style>\n",
       "<table border=\"1\" class=\"dataframe\">\n",
       "  <thead>\n",
       "    <tr style=\"text-align: right;\">\n",
       "      <th></th>\n",
       "      <th>schedule_gtfs_dataset_key</th>\n",
       "      <th>route_id</th>\n",
       "      <th>direction_id</th>\n",
       "      <th>time_period</th>\n",
       "      <th>route_primary_direction</th>\n",
       "      <th>frequency</th>\n",
       "      <th>service_date</th>\n",
       "    </tr>\n",
       "  </thead>\n",
       "  <tbody>\n",
       "    <tr>\n",
       "      <th>0</th>\n",
       "      <td>015d67d5b75b5cf2b710bbadadfb75f5</td>\n",
       "      <td>17</td>\n",
       "      <td>0.00</td>\n",
       "      <td>all_day</td>\n",
       "      <td>Northbound</td>\n",
       "      <td>0.92</td>\n",
       "      <td>2024-05-22</td>\n",
       "    </tr>\n",
       "    <tr>\n",
       "      <th>1</th>\n",
       "      <td>015d67d5b75b5cf2b710bbadadfb75f5</td>\n",
       "      <td>17</td>\n",
       "      <td>0.00</td>\n",
       "      <td>offpeak</td>\n",
       "      <td>Northbound</td>\n",
       "      <td>0.62</td>\n",
       "      <td>2024-05-22</td>\n",
       "    </tr>\n",
       "    <tr>\n",
       "      <th>2</th>\n",
       "      <td>015d67d5b75b5cf2b710bbadadfb75f5</td>\n",
       "      <td>17</td>\n",
       "      <td>0.00</td>\n",
       "      <td>peak</td>\n",
       "      <td>Northbound</td>\n",
       "      <td>1.50</td>\n",
       "      <td>2024-05-22</td>\n",
       "    </tr>\n",
       "    <tr>\n",
       "      <th>3</th>\n",
       "      <td>015d67d5b75b5cf2b710bbadadfb75f5</td>\n",
       "      <td>17</td>\n",
       "      <td>1.00</td>\n",
       "      <td>all_day</td>\n",
       "      <td>Southbound</td>\n",
       "      <td>0.92</td>\n",
       "      <td>2024-05-22</td>\n",
       "    </tr>\n",
       "    <tr>\n",
       "      <th>4</th>\n",
       "      <td>015d67d5b75b5cf2b710bbadadfb75f5</td>\n",
       "      <td>17</td>\n",
       "      <td>1.00</td>\n",
       "      <td>offpeak</td>\n",
       "      <td>Southbound</td>\n",
       "      <td>0.69</td>\n",
       "      <td>2024-05-22</td>\n",
       "    </tr>\n",
       "  </tbody>\n",
       "</table>\n",
       "</div>"
      ],
      "text/plain": [
       "          schedule_gtfs_dataset_key route_id  direction_id time_period  \\\n",
       "0  015d67d5b75b5cf2b710bbadadfb75f5       17          0.00     all_day   \n",
       "1  015d67d5b75b5cf2b710bbadadfb75f5       17          0.00     offpeak   \n",
       "2  015d67d5b75b5cf2b710bbadadfb75f5       17          0.00        peak   \n",
       "3  015d67d5b75b5cf2b710bbadadfb75f5       17          1.00     all_day   \n",
       "4  015d67d5b75b5cf2b710bbadadfb75f5       17          1.00     offpeak   \n",
       "\n",
       "  route_primary_direction  frequency service_date  \n",
       "0              Northbound       0.92   2024-05-22  \n",
       "1              Northbound       0.62   2024-05-22  \n",
       "2              Northbound       1.50   2024-05-22  \n",
       "3              Southbound       0.92   2024-05-22  \n",
       "4              Southbound       0.69   2024-05-22  "
      ]
     },
     "execution_count": 9,
     "metadata": {},
     "output_type": "execute_result"
    }
   ],
   "source": [
    "route_dir.head()"
   ]
  },
  {
   "cell_type": "markdown",
   "id": "84741559-46a2-4a62-a6e2-8843771aea1f",
   "metadata": {},
   "source": [
    "#### Attach operators and districts"
   ]
  },
  {
   "cell_type": "code",
   "execution_count": 10,
   "id": "d35238bb-2418-466b-8814-96382abeb3eb",
   "metadata": {},
   "outputs": [],
   "source": [
    "# Grab Crosswalk\n",
    "CROSSWALK = GTFS_DATA_DICT.schedule_tables.gtfs_key_crosswalk"
   ]
  },
  {
   "cell_type": "code",
   "execution_count": 11,
   "id": "6272b8aa-0d76-4e18-bc76-66548f54c9a0",
   "metadata": {},
   "outputs": [],
   "source": [
    "crosswalk_cols = [\n",
    "    \"schedule_gtfs_dataset_key\",\n",
    "    \"organization_name\",\n",
    "    \"name\",\n",
    "    \"caltrans_district\",\n",
    "]"
   ]
  },
  {
   "cell_type": "code",
   "execution_count": 12,
   "id": "d5d62df4-cffb-4bc8-9ad1-9766a8ec2bf1",
   "metadata": {},
   "outputs": [],
   "source": [
    "crosswalk_df = (\n",
    "    time_series_utils.concatenate_datasets_across_dates(\n",
    "        SCHED_GCS, CROSSWALK, [may_date], data_type=\"df\", columns=crosswalk_cols\n",
    "    )\n",
    "    .sort_values([\"service_date\"])\n",
    "    .reset_index(drop=True)\n",
    ")"
   ]
  },
  {
   "cell_type": "code",
   "execution_count": 13,
   "id": "4666bf1d-6456-49d6-955a-5ab77556af15",
   "metadata": {},
   "outputs": [
    {
     "data": {
      "text/html": [
       "<div>\n",
       "<style scoped>\n",
       "    .dataframe tbody tr th:only-of-type {\n",
       "        vertical-align: middle;\n",
       "    }\n",
       "\n",
       "    .dataframe tbody tr th {\n",
       "        vertical-align: top;\n",
       "    }\n",
       "\n",
       "    .dataframe thead th {\n",
       "        text-align: right;\n",
       "    }\n",
       "</style>\n",
       "<table border=\"1\" class=\"dataframe\">\n",
       "  <thead>\n",
       "    <tr style=\"text-align: right;\">\n",
       "      <th></th>\n",
       "      <th>schedule_gtfs_dataset_key</th>\n",
       "      <th>organization_name</th>\n",
       "      <th>name</th>\n",
       "      <th>caltrans_district</th>\n",
       "      <th>service_date</th>\n",
       "    </tr>\n",
       "  </thead>\n",
       "  <tbody>\n",
       "    <tr>\n",
       "      <th>0</th>\n",
       "      <td>1770249a5a2e770ca90628434d4934b1</td>\n",
       "      <td>Ventura County Transportation Commission</td>\n",
       "      <td>VCTC GMV Schedule</td>\n",
       "      <td>07 - Los Angeles</td>\n",
       "      <td>2024-05-22</td>\n",
       "    </tr>\n",
       "    <tr>\n",
       "      <th>1</th>\n",
       "      <td>f8102a9c0693206bf36d302540bf1bcf</td>\n",
       "      <td>City of Corona</td>\n",
       "      <td>Corona Schedule</td>\n",
       "      <td>08 - San Bernardino</td>\n",
       "      <td>2024-05-22</td>\n",
       "    </tr>\n",
       "  </tbody>\n",
       "</table>\n",
       "</div>"
      ],
      "text/plain": [
       "          schedule_gtfs_dataset_key                         organization_name  \\\n",
       "0  1770249a5a2e770ca90628434d4934b1  Ventura County Transportation Commission   \n",
       "1  f8102a9c0693206bf36d302540bf1bcf                            City of Corona   \n",
       "\n",
       "                name    caltrans_district service_date  \n",
       "0  VCTC GMV Schedule     07 - Los Angeles   2024-05-22  \n",
       "1    Corona Schedule  08 - San Bernardino   2024-05-22  "
      ]
     },
     "execution_count": 13,
     "metadata": {},
     "output_type": "execute_result"
    }
   ],
   "source": [
    "crosswalk_df.head(2)"
   ]
  },
  {
   "cell_type": "code",
   "execution_count": 14,
   "id": "661b3b18-5735-443d-acfc-4f598882a661",
   "metadata": {},
   "outputs": [
    {
     "data": {
      "text/plain": [
       "(189, 5)"
      ]
     },
     "execution_count": 14,
     "metadata": {},
     "output_type": "execute_result"
    }
   ],
   "source": [
    "crosswalk_df.shape"
   ]
  },
  {
   "cell_type": "code",
   "execution_count": 15,
   "id": "d9d562b4-7ce1-4ea5-bdba-e8e0abbc3815",
   "metadata": {},
   "outputs": [],
   "source": [
    "routes_dir2 = pd.merge(\n",
    "    route_dir,\n",
    "    crosswalk_df,\n",
    "    on=[\"schedule_gtfs_dataset_key\", \"service_date\"],\n",
    "    how=\"left\",\n",
    ")"
   ]
  },
  {
   "cell_type": "code",
   "execution_count": 16,
   "id": "7528e1c0-4e65-4bb8-9b0b-0f5609e44fd1",
   "metadata": {},
   "outputs": [],
   "source": [
    "thousand_oaks = routes_dir2.loc[\n",
    "    (routes_dir2.organization_name == \"City of Thousand Oaks\")\n",
    "    & (routes_dir2.route_id == \"3402\")\n",
    "    & (routes_dir2.time_period == \"all_day\")\n",
    "].reset_index(drop=True)"
   ]
  },
  {
   "cell_type": "code",
   "execution_count": 17,
   "id": "35b028fb-52f9-432e-9c21-c4821b0a2d8e",
   "metadata": {},
   "outputs": [],
   "source": [
    "visalia = routes_dir2.loc[\n",
    "    (routes_dir2.organization_name == \"City of Visalia\")\n",
    "    & (routes_dir2.route_id == \"2042\")\n",
    "    & (routes_dir2.time_period == \"all_day\")\n",
    "].reset_index(drop=True)"
   ]
  },
  {
   "cell_type": "code",
   "execution_count": 18,
   "id": "1581af08-4602-43bb-b1bc-fbf827754f57",
   "metadata": {},
   "outputs": [],
   "source": [
    "metro = routes_dir2.loc[\n",
    "    (\n",
    "        routes_dir2.organization_name\n",
    "        == \"Los Angeles County Metropolitan Transportation Authority\"\n",
    "    )\n",
    "    & (routes_dir2.route_id == \"204-13172\")\n",
    "    & (routes_dir2.time_period == \"all_day\")\n",
    "].reset_index(drop=True)"
   ]
  },
  {
   "cell_type": "code",
   "execution_count": 19,
   "id": "65cab990-6b49-4418-9488-758393d542b5",
   "metadata": {},
   "outputs": [],
   "source": [
    "# '33-13172'\n",
    "metro_33 = routes_dir2.loc[\n",
    "    (\n",
    "        routes_dir2.organization_name\n",
    "        == \"Los Angeles County Metropolitan Transportation Authority\"\n",
    "    )\n",
    "    & (routes_dir2.route_id == \"33-13172\")\n",
    "    & (routes_dir2.time_period == \"all_day\")\n",
    "].reset_index(drop=True)"
   ]
  },
  {
   "cell_type": "code",
   "execution_count": 20,
   "id": "3e80b935-ecb4-44cd-9174-72c0d4568e14",
   "metadata": {},
   "outputs": [],
   "source": [
    "routes = pd.concat([thousand_oaks, visalia, metro, metro_33])"
   ]
  },
  {
   "cell_type": "code",
   "execution_count": 21,
   "id": "6f1b4c16-841d-43a1-89d6-fb4bcd394786",
   "metadata": {},
   "outputs": [
    {
     "data": {
      "text/plain": [
       "array(['3402', '2042', '204-13172', '33-13172'], dtype=object)"
      ]
     },
     "execution_count": 21,
     "metadata": {},
     "output_type": "execute_result"
    }
   ],
   "source": [
    "routes.route_id.unique()"
   ]
  },
  {
   "cell_type": "code",
   "execution_count": 22,
   "id": "796640fb-35e0-42d1-8cd0-cc10c31befcf",
   "metadata": {},
   "outputs": [
    {
     "data": {
      "text/html": [
       "<div>\n",
       "<style scoped>\n",
       "    .dataframe tbody tr th:only-of-type {\n",
       "        vertical-align: middle;\n",
       "    }\n",
       "\n",
       "    .dataframe tbody tr th {\n",
       "        vertical-align: top;\n",
       "    }\n",
       "\n",
       "    .dataframe thead th {\n",
       "        text-align: right;\n",
       "    }\n",
       "</style>\n",
       "<table border=\"1\" class=\"dataframe\">\n",
       "  <thead>\n",
       "    <tr style=\"text-align: right;\">\n",
       "      <th></th>\n",
       "      <th>schedule_gtfs_dataset_key</th>\n",
       "      <th>route_id</th>\n",
       "      <th>direction_id</th>\n",
       "      <th>time_period</th>\n",
       "      <th>route_primary_direction</th>\n",
       "      <th>frequency</th>\n",
       "      <th>service_date</th>\n",
       "      <th>organization_name</th>\n",
       "      <th>name</th>\n",
       "      <th>caltrans_district</th>\n",
       "    </tr>\n",
       "  </thead>\n",
       "  <tbody>\n",
       "    <tr>\n",
       "      <th>0</th>\n",
       "      <td>1770249a5a2e770ca90628434d4934b1</td>\n",
       "      <td>3402</td>\n",
       "      <td>0.00</td>\n",
       "      <td>all_day</td>\n",
       "      <td>Eastbound</td>\n",
       "      <td>1.17</td>\n",
       "      <td>2024-05-22</td>\n",
       "      <td>City of Thousand Oaks</td>\n",
       "      <td>VCTC GMV Schedule</td>\n",
       "      <td>07 - Los Angeles</td>\n",
       "    </tr>\n",
       "    <tr>\n",
       "      <th>1</th>\n",
       "      <td>1770249a5a2e770ca90628434d4934b1</td>\n",
       "      <td>3402</td>\n",
       "      <td>1.00</td>\n",
       "      <td>all_day</td>\n",
       "      <td>Westbound</td>\n",
       "      <td>1.17</td>\n",
       "      <td>2024-05-22</td>\n",
       "      <td>City of Thousand Oaks</td>\n",
       "      <td>VCTC GMV Schedule</td>\n",
       "      <td>07 - Los Angeles</td>\n",
       "    </tr>\n",
       "    <tr>\n",
       "      <th>0</th>\n",
       "      <td>3bda4652977200408690059ef2ec4b4d</td>\n",
       "      <td>2042</td>\n",
       "      <td>0.00</td>\n",
       "      <td>all_day</td>\n",
       "      <td>Eastbound</td>\n",
       "      <td>0.79</td>\n",
       "      <td>2024-05-22</td>\n",
       "      <td>City of Visalia</td>\n",
       "      <td>Visalia Schedule</td>\n",
       "      <td>06 - Fresno</td>\n",
       "    </tr>\n",
       "  </tbody>\n",
       "</table>\n",
       "</div>"
      ],
      "text/plain": [
       "          schedule_gtfs_dataset_key route_id  direction_id time_period  \\\n",
       "0  1770249a5a2e770ca90628434d4934b1     3402          0.00     all_day   \n",
       "1  1770249a5a2e770ca90628434d4934b1     3402          1.00     all_day   \n",
       "0  3bda4652977200408690059ef2ec4b4d     2042          0.00     all_day   \n",
       "\n",
       "  route_primary_direction  frequency service_date      organization_name  \\\n",
       "0               Eastbound       1.17   2024-05-22  City of Thousand Oaks   \n",
       "1               Westbound       1.17   2024-05-22  City of Thousand Oaks   \n",
       "0               Eastbound       0.79   2024-05-22        City of Visalia   \n",
       "\n",
       "                name caltrans_district  \n",
       "0  VCTC GMV Schedule  07 - Los Angeles  \n",
       "1  VCTC GMV Schedule  07 - Los Angeles  \n",
       "0   Visalia Schedule       06 - Fresno  "
      ]
     },
     "execution_count": 22,
     "metadata": {},
     "output_type": "execute_result"
    }
   ],
   "source": [
    "routes.head(3)"
   ]
  },
  {
   "cell_type": "markdown",
   "id": "9ca3a3e0-561f-4588-b71d-80abe692215a",
   "metadata": {},
   "source": [
    "### Add Trips"
   ]
  },
  {
   "cell_type": "code",
   "execution_count": 23,
   "id": "674f8ee6-3f6d-4f90-90ba-7ea9ee688b28",
   "metadata": {},
   "outputs": [],
   "source": [
    "TABLE = GTFS_DATA_DICT.schedule_downloads.trips"
   ]
  },
  {
   "cell_type": "code",
   "execution_count": 24,
   "id": "5333afa8-4849-4864-b253-b03a1093e84f",
   "metadata": {},
   "outputs": [],
   "source": [
    "FILE = f\"{COMPILED_CACHED_VIEWS}{TABLE}_{may_date}.parquet\""
   ]
  },
  {
   "cell_type": "code",
   "execution_count": 25,
   "id": "111e2c27-337d-4440-a1f6-10ec582a6f9e",
   "metadata": {},
   "outputs": [],
   "source": [
    "trips_subset = [\n",
    "    \"gtfs_dataset_key\",\n",
    "    \"route_id\",\n",
    "    \"trip_instance_key\",\n",
    "    \"shape_array_key\",\n",
    "    \"feed_key\",\n",
    "    \"route_long_name\",\n",
    "    \"direction_id\",\n",
    "    \"route_type\",\n",
    "]"
   ]
  },
  {
   "cell_type": "code",
   "execution_count": 26,
   "id": "e1aed68a-0ed2-4da4-904a-cb91681e7f38",
   "metadata": {},
   "outputs": [],
   "source": [
    "trips = pd.read_parquet(FILE)[trips_subset].rename(\n",
    "    columns={\"gtfs_dataset_key\": \"schedule_gtfs_dataset_key\"}\n",
    ")"
   ]
  },
  {
   "cell_type": "code",
   "execution_count": 27,
   "id": "04901f96-76d5-4d99-b3d1-f174ef989357",
   "metadata": {},
   "outputs": [],
   "source": [
    "trips_routes = pd.merge(\n",
    "    trips,\n",
    "    routes_dir2,\n",
    "    on=[\"schedule_gtfs_dataset_key\", \"route_id\", \"direction_id\"],\n",
    "    how=\"inner\",\n",
    ")"
   ]
  },
  {
   "cell_type": "code",
   "execution_count": 28,
   "id": "1195177f-0215-4b24-9e47-dccfb3ee542e",
   "metadata": {},
   "outputs": [
    {
     "data": {
      "text/plain": [
       "(392497, 15)"
      ]
     },
     "execution_count": 28,
     "metadata": {},
     "output_type": "execute_result"
    }
   ],
   "source": [
    "trips_routes.shape"
   ]
  },
  {
   "cell_type": "code",
   "execution_count": 29,
   "id": "9c1ba23b-30df-4916-a522-eb70bd5afdb9",
   "metadata": {},
   "outputs": [
    {
     "data": {
      "text/plain": [
       "1338"
      ]
     },
     "execution_count": 29,
     "metadata": {},
     "output_type": "execute_result"
    }
   ],
   "source": [
    "trips_routes.route_id.nunique()"
   ]
  },
  {
   "cell_type": "markdown",
   "id": "3fe48162-5b42-4bf9-8853-a9d742e9d03b",
   "metadata": {},
   "source": [
    "#### I know we can get this from the warehouse but it seems cumbersome. Correct me if I'm wrong."
   ]
  },
  {
   "cell_type": "code",
   "execution_count": 30,
   "id": "d9688e03-4b61-4736-b9d5-3539b0de80b2",
   "metadata": {},
   "outputs": [],
   "source": [
    "# https://gtfs.org/documentation/schedule/reference/#\n",
    "route_type_crosswalk = {\n",
    "    \"route_type\": [\"0\", \"1\", \"2\", \"3\", \"4\", \"5\", \"6\", \"7\", \"11\", \"12\"],\n",
    "    \"route_type_str\": [\n",
    "        \"Tram, Streetcar, Light rail\",\n",
    "        \"Subway, Metro\",\n",
    "        \"Rail\",\n",
    "        \"Bus\",\n",
    "        \"Ferry.\",\n",
    "        \"Cable tram.\",\n",
    "        \"Aerial lift, suspended cable car (e.g., gondola lift, aerial tramway).\",\n",
    "        \"Funicular.\",\n",
    "        \"Trolleybus.\",\n",
    "        \"Monorail.\",\n",
    "    ],\n",
    "}"
   ]
  },
  {
   "cell_type": "code",
   "execution_count": 31,
   "id": "8dac05a6-0ba9-472b-85a2-5a0081550efb",
   "metadata": {},
   "outputs": [],
   "source": [
    "route_type_crosswalk_df = pd.DataFrame(route_type_crosswalk)"
   ]
  },
  {
   "cell_type": "code",
   "execution_count": 32,
   "id": "cd13aa3e-f222-49f8-b923-1e9e901f7bfb",
   "metadata": {},
   "outputs": [],
   "source": [
    "# Merge for route_type\n",
    "trips_routes = pd.merge(\n",
    "    trips_routes, route_type_crosswalk_df, on=[\"route_type\"], how=\"left\"\n",
    ")"
   ]
  },
  {
   "cell_type": "code",
   "execution_count": 33,
   "id": "ae72b7fc-ec7b-4dcd-8553-ac2abce5da1d",
   "metadata": {},
   "outputs": [],
   "source": [
    "trips_routes = trips_routes.drop(columns=[\"route_type\"])"
   ]
  },
  {
   "cell_type": "code",
   "execution_count": 34,
   "id": "cd31791a-fcb7-4731-90d7-bf5606dd4ce3",
   "metadata": {},
   "outputs": [],
   "source": [
    "trips_routes = trips_routes.rename(columns={\"route_type_str\": \"route_type\"})"
   ]
  },
  {
   "cell_type": "markdown",
   "id": "e3be8778-84ff-479f-a3b2-178e374da5f2",
   "metadata": {},
   "source": [
    "### Get Stop Times "
   ]
  },
  {
   "cell_type": "code",
   "execution_count": 35,
   "id": "3f6727c6-205f-4cc8-8a68-42e8dec6e4b3",
   "metadata": {},
   "outputs": [],
   "source": [
    "rt_stop_times = pd.read_parquet(\n",
    "    \"gs://calitp-analytics-data/data-analyses/rt_vs_schedule/schedule_rt_stop_times_2024-05-22.parquet\"\n",
    ")"
   ]
  },
  {
   "cell_type": "code",
   "execution_count": 36,
   "id": "041731b3-0fcd-4b3e-8d01-f84460dd5fab",
   "metadata": {},
   "outputs": [
    {
     "data": {
      "text/html": [
       "<div>\n",
       "<style scoped>\n",
       "    .dataframe tbody tr th:only-of-type {\n",
       "        vertical-align: middle;\n",
       "    }\n",
       "\n",
       "    .dataframe tbody tr th {\n",
       "        vertical-align: top;\n",
       "    }\n",
       "\n",
       "    .dataframe thead th {\n",
       "        text-align: right;\n",
       "    }\n",
       "</style>\n",
       "<table border=\"1\" class=\"dataframe\">\n",
       "  <thead>\n",
       "    <tr style=\"text-align: right;\">\n",
       "      <th></th>\n",
       "      <th>trip_id</th>\n",
       "      <th>stop_id</th>\n",
       "      <th>stop_sequence</th>\n",
       "      <th>scheduled_arrival_sec</th>\n",
       "      <th>schedule_gtfs_dataset_key</th>\n",
       "      <th>trip_instance_key</th>\n",
       "      <th>rt_arrival_sec</th>\n",
       "    </tr>\n",
       "  </thead>\n",
       "  <tbody>\n",
       "    <tr>\n",
       "      <th>0</th>\n",
       "      <td>1d105244-776c-4b3f-af78-9c7ad78c2103</td>\n",
       "      <td>0b2443b6-b50f-452b-a749-464588ca93b8</td>\n",
       "      <td>8</td>\n",
       "      <td>60991.00</td>\n",
       "      <td>1fd2f07342d966919b15d5d37fda8cc8</td>\n",
       "      <td>45ae17540ca9fb5030c84dbb12e48e9a</td>\n",
       "      <td>61434</td>\n",
       "    </tr>\n",
       "    <tr>\n",
       "      <th>1</th>\n",
       "      <td>1d105244-776c-4b3f-af78-9c7ad78c2103</td>\n",
       "      <td>cd5650b0-9a18-4e78-aedc-385f3094fa0f</td>\n",
       "      <td>9</td>\n",
       "      <td>61179.00</td>\n",
       "      <td>1fd2f07342d966919b15d5d37fda8cc8</td>\n",
       "      <td>45ae17540ca9fb5030c84dbb12e48e9a</td>\n",
       "      <td>61616</td>\n",
       "    </tr>\n",
       "  </tbody>\n",
       "</table>\n",
       "</div>"
      ],
      "text/plain": [
       "                                trip_id                               stop_id  \\\n",
       "0  1d105244-776c-4b3f-af78-9c7ad78c2103  0b2443b6-b50f-452b-a749-464588ca93b8   \n",
       "1  1d105244-776c-4b3f-af78-9c7ad78c2103  cd5650b0-9a18-4e78-aedc-385f3094fa0f   \n",
       "\n",
       "   stop_sequence  scheduled_arrival_sec         schedule_gtfs_dataset_key  \\\n",
       "0              8               60991.00  1fd2f07342d966919b15d5d37fda8cc8   \n",
       "1              9               61179.00  1fd2f07342d966919b15d5d37fda8cc8   \n",
       "\n",
       "                  trip_instance_key  rt_arrival_sec  \n",
       "0  45ae17540ca9fb5030c84dbb12e48e9a           61434  \n",
       "1  45ae17540ca9fb5030c84dbb12e48e9a           61616  "
      ]
     },
     "execution_count": 36,
     "metadata": {},
     "output_type": "execute_result"
    }
   ],
   "source": [
    "rt_stop_times.head(2)"
   ]
  },
  {
   "cell_type": "code",
   "execution_count": 37,
   "id": "049a2833-f132-431a-8f44-92f31cd11d8a",
   "metadata": {},
   "outputs": [],
   "source": [
    "trips_routes_times = pd.merge(\n",
    "    rt_stop_times,\n",
    "    trips_routes,\n",
    "    on=[\n",
    "        \"schedule_gtfs_dataset_key\",\n",
    "        \"trip_instance_key\",\n",
    "    ],\n",
    "    how=\"inner\",\n",
    ")"
   ]
  },
  {
   "cell_type": "code",
   "execution_count": 38,
   "id": "7c59d770-d379-422e-a23d-9140c23df375",
   "metadata": {},
   "outputs": [
    {
     "data": {
      "text/plain": [
       "44988"
      ]
     },
     "execution_count": 38,
     "metadata": {},
     "output_type": "execute_result"
    }
   ],
   "source": [
    "(trips_routes_times.scheduled_arrival_sec.isna().sum())"
   ]
  },
  {
   "cell_type": "code",
   "execution_count": 39,
   "id": "4b2df823-ec98-483d-b30f-9072c62704b6",
   "metadata": {},
   "outputs": [
    {
     "name": "stdout",
     "output_type": "stream",
     "text": [
      "<class 'pandas.core.frame.DataFrame'>\n",
      "Int64Index: 11031910 entries, 0 to 11031909\n",
      "Data columns (total 20 columns):\n",
      " #   Column                     Dtype         \n",
      "---  ------                     -----         \n",
      " 0   trip_id                    object        \n",
      " 1   stop_id                    object        \n",
      " 2   stop_sequence              int64         \n",
      " 3   scheduled_arrival_sec      float64       \n",
      " 4   schedule_gtfs_dataset_key  object        \n",
      " 5   trip_instance_key          object        \n",
      " 6   rt_arrival_sec             int64         \n",
      " 7   route_id                   object        \n",
      " 8   shape_array_key            object        \n",
      " 9   feed_key                   object        \n",
      " 10  route_long_name            object        \n",
      " 11  direction_id               float64       \n",
      " 12  time_period                object        \n",
      " 13  route_primary_direction    object        \n",
      " 14  frequency                  float64       \n",
      " 15  service_date               datetime64[ns]\n",
      " 16  organization_name          object        \n",
      " 17  name                       object        \n",
      " 18  caltrans_district          object        \n",
      " 19  route_type                 object        \n",
      "dtypes: datetime64[ns](1), float64(3), int64(2), object(14)\n",
      "memory usage: 1.7+ GB\n"
     ]
    }
   ],
   "source": [
    "trips_routes_times.info()"
   ]
  },
  {
   "cell_type": "markdown",
   "id": "2d09574e-464e-4f31-8f53-0596911dcabe",
   "metadata": {},
   "source": [
    "### Sorting "
   ]
  },
  {
   "cell_type": "code",
   "execution_count": 40,
   "id": "0ef36e93-79ed-4f86-b16a-9d28d90aea1a",
   "metadata": {},
   "outputs": [],
   "source": [
    "trips_routes_times2 = trips_routes_times.sort_values(\n",
    "    by=[\n",
    "        \"schedule_gtfs_dataset_key\",\n",
    "        \"route_long_name\",\n",
    "        \"shape_array_key\",\n",
    "        \"direction_id\",\n",
    "        \"stop_sequence\",\n",
    "        \"stop_id\",\n",
    "        \"rt_arrival_sec\",\n",
    "    ]\n",
    ").reset_index(drop=True)"
   ]
  },
  {
   "cell_type": "code",
   "execution_count": 41,
   "id": "976db21c-45da-4773-8285-fe4a33e14152",
   "metadata": {},
   "outputs": [],
   "source": [
    "preview_sort_col = [\n",
    "    \"schedule_gtfs_dataset_key\",\n",
    "    \"route_id\",\n",
    "    \"direction_id\",\n",
    "    \"stop_sequence\",\n",
    "    \"rt_arrival_sec\",\n",
    "    \"stop_id\",\n",
    "    \"scheduled_arrival_sec\",\n",
    "]"
   ]
  },
  {
   "cell_type": "code",
   "execution_count": 42,
   "id": "b0bbe80c-75bf-4d3e-b5e7-891791114291",
   "metadata": {
    "tags": []
   },
   "outputs": [
    {
     "data": {
      "text/plain": [
       "(21009, 7)"
      ]
     },
     "execution_count": 42,
     "metadata": {},
     "output_type": "execute_result"
    }
   ],
   "source": [
    "trips_routes_times2.loc[\n",
    "    (\n",
    "        trips_routes_times2.schedule_gtfs_dataset_key\n",
    "        == \"0666caf3ec1ecc96b74f4477ee4bc939\"\n",
    "    )\n",
    "    & (trips_routes_times2.route_id == \"204-13172\")\n",
    "    & (trips_routes_times2.direction_id == 1)\n",
    "][preview_sort_col].shape"
   ]
  },
  {
   "cell_type": "markdown",
   "id": "48737ec7-31be-4743-97ca-c6c000670a13",
   "metadata": {
    "tags": []
   },
   "source": [
    "### Convert scheduled and RT arrival times.\n",
    "* If 82800  < `scheduled_arrival_time` < 86_400 but `rt_arrival_sec` is lower say 14_000 (4 am in the morning): then the bus was scheduled to arrive on May 21 (day before the service date) but it arrived a little later on the actual service date we query the data for. \n",
    "* If  86_400 < `scheduled_arrival_time` and `rt_arrival_sec` is around 86_000 then this is the same service date. "
   ]
  },
  {
   "cell_type": "code",
   "execution_count": 43,
   "id": "d4e5a2df-a110-4347-9c6d-7f9bdfdbce1b",
   "metadata": {},
   "outputs": [
    {
     "data": {
      "text/plain": [
       "count   11031910.00\n",
       "mean       48176.39\n",
       "std        17806.20\n",
       "min            0.00\n",
       "25%        33526.00\n",
       "50%        48304.00\n",
       "75%        62400.00\n",
       "max        86399.00\n",
       "Name: rt_arrival_sec, dtype: float64"
      ]
     },
     "execution_count": 43,
     "metadata": {},
     "output_type": "execute_result"
    }
   ],
   "source": [
    "trips_routes_times2[\"rt_arrival_sec\"].describe()"
   ]
  },
  {
   "cell_type": "code",
   "execution_count": 44,
   "id": "97e3dc65-45fc-4318-a5f6-b0f497a6ab04",
   "metadata": {},
   "outputs": [
    {
     "data": {
      "text/plain": [
       "(1024, 20)"
      ]
     },
     "execution_count": 44,
     "metadata": {},
     "output_type": "execute_result"
    }
   ],
   "source": [
    "trips_routes_times2.loc[trips_routes_times2[\"scheduled_arrival_sec\"] == 86_400].shape"
   ]
  },
  {
   "cell_type": "markdown",
   "id": "630e4f7c-73c5-4f90-9da8-bf50378f3996",
   "metadata": {},
   "source": [
    "####  Filter out for trips with `scheduled_arrival_sec` that's over 24 hours."
   ]
  },
  {
   "cell_type": "code",
   "execution_count": 45,
   "id": "15a58951-9ee0-4696-9065-b768737a582d",
   "metadata": {},
   "outputs": [],
   "source": [
    "more_than_86400 = trips_routes_times2.loc[\n",
    "    trips_routes_times2[\"scheduled_arrival_sec\"] > 86_400\n",
    "]"
   ]
  },
  {
   "cell_type": "code",
   "execution_count": 46,
   "id": "81f67716-36c8-43c2-844b-92b9cef11a06",
   "metadata": {},
   "outputs": [
    {
     "data": {
      "text/plain": [
       "count   170306.00\n",
       "mean     92818.97\n",
       "std       5599.54\n",
       "min      86401.00\n",
       "25%      88080.00\n",
       "50%      90960.00\n",
       "75%      96720.00\n",
       "max     111374.00\n",
       "Name: scheduled_arrival_sec, dtype: float64"
      ]
     },
     "execution_count": 46,
     "metadata": {},
     "output_type": "execute_result"
    }
   ],
   "source": [
    "more_than_86400[\"scheduled_arrival_sec\"].describe()"
   ]
  },
  {
   "cell_type": "code",
   "execution_count": 47,
   "id": "fa0cc765-7496-4c71-b1e1-2b2ba4079679",
   "metadata": {
    "scrolled": true,
    "tags": []
   },
   "outputs": [],
   "source": [
    "# more_than_86400[[\"service_date\", \"rt_arrival_sec\", \"scheduled_arrival_sec]].head()"
   ]
  },
  {
   "cell_type": "code",
   "execution_count": 48,
   "id": "099c6838-aa42-4eb5-a250-0ac3e054f834",
   "metadata": {},
   "outputs": [],
   "source": [
    "timestamp_subset = [\n",
    "    \"converted_schd_arrival\",\n",
    "    \"converted_rt_arrival\",\n",
    "    \"scheduled_arrival_sec\",\n",
    "    \"rt_arrival_sec\",\n",
    "    \"service_date\",\n",
    "]"
   ]
  },
  {
   "cell_type": "markdown",
   "id": "75bfaa72-2fbc-4b88-9751-10744cdfc193",
   "metadata": {},
   "source": [
    "#### Subset to make the df smaller\n"
   ]
  },
  {
   "cell_type": "code",
   "execution_count": 49,
   "id": "2f0efe6f-81ac-4382-9f9f-5455736a3026",
   "metadata": {},
   "outputs": [],
   "source": [
    "subset = [\n",
    "    \"stop_id\",\n",
    "    \"stop_sequence\",\n",
    "    \"scheduled_arrival_sec\",\n",
    "    \"schedule_gtfs_dataset_key\",\n",
    "    \"trip_instance_key\",\n",
    "    \"rt_arrival_sec\",\n",
    "    \"route_id\",\n",
    "    \"shape_array_key\",\n",
    "    \"route_long_name\",\n",
    "    \"direction_id\",\n",
    "    \"organization_name\",\n",
    "    \"caltrans_district\",\n",
    "    \"service_date\",\n",
    "    \"route_type\",\n",
    "    \"feed_key\",\n",
    "]"
   ]
  },
  {
   "cell_type": "code",
   "execution_count": 50,
   "id": "bea6dc67-8a1c-484a-b141-43f29af83df9",
   "metadata": {},
   "outputs": [],
   "source": [
    "trips_routes_times2 = trips_routes_times2[subset]"
   ]
  },
  {
   "cell_type": "code",
   "execution_count": 51,
   "id": "39f0f48d-0d82-4d5e-84cb-489f3836fb34",
   "metadata": {},
   "outputs": [],
   "source": [
    "trips_routes_times2.scheduled_arrival_sec = (\n",
    "    trips_routes_times2.scheduled_arrival_sec.fillna(0)\n",
    ")"
   ]
  },
  {
   "cell_type": "code",
   "execution_count": 52,
   "id": "3ce579d1-0392-41a6-b535-9f4422a78216",
   "metadata": {},
   "outputs": [],
   "source": [
    "trips_routes_times2[\"converted_rt_arrival\"] = pd.to_datetime(\n",
    "    trips_routes_times2[\"service_date\"]\n",
    ") + pd.to_timedelta(trips_routes_times2[\"rt_arrival_sec\"] % 86400, unit=\"s\")"
   ]
  },
  {
   "cell_type": "code",
   "execution_count": 53,
   "id": "1d3e4966-1f57-4117-9f73-506055a42d7b",
   "metadata": {},
   "outputs": [],
   "source": [
    "trips_routes_times2[\"converted_schd_arrival\"] = pd.to_datetime(\n",
    "    trips_routes_times2[\"service_date\"]\n",
    ") + pd.to_timedelta(trips_routes_times2[\"scheduled_arrival_sec\"] % 86400, unit=\"s\")"
   ]
  },
  {
   "cell_type": "code",
   "execution_count": 54,
   "id": "aaaaa839-e10e-4967-bf1d-4eb1e978f761",
   "metadata": {},
   "outputs": [
    {
     "name": "stderr",
     "output_type": "stream",
     "text": [
      "/tmp/ipykernel_2402/3770378478.py:1: FutureWarning: Treating datetime data as categorical rather than numeric in `.describe` is deprecated and will be removed in a future version of pandas. Specify `datetime_is_numeric=True` to silence this warning and adopt the future behavior now.\n",
      "  trips_routes_times2.converted_schd_arrival.describe()\n"
     ]
    },
    {
     "data": {
      "text/plain": [
       "count                11031910\n",
       "unique                  78579\n",
       "top       2024-05-22 00:00:00\n",
       "freq                    46012\n",
       "first     2024-05-22 00:00:00\n",
       "last      2024-05-22 23:59:59\n",
       "Name: converted_schd_arrival, dtype: object"
      ]
     },
     "execution_count": 54,
     "metadata": {},
     "output_type": "execute_result"
    }
   ],
   "source": [
    "trips_routes_times2.converted_schd_arrival.describe()"
   ]
  },
  {
   "cell_type": "markdown",
   "id": "b44fa6d1-edf4-42be-af6f-3bc777b091c1",
   "metadata": {},
   "source": [
    "#### Checkout results from the code\n",
    "* Make sure it makes sense.\n"
   ]
  },
  {
   "cell_type": "code",
   "execution_count": 55,
   "id": "60d18d14-1f6b-4b97-a736-cb295b3a6382",
   "metadata": {
    "scrolled": true,
    "tags": []
   },
   "outputs": [
    {
     "data": {
      "text/html": [
       "<div>\n",
       "<style scoped>\n",
       "    .dataframe tbody tr th:only-of-type {\n",
       "        vertical-align: middle;\n",
       "    }\n",
       "\n",
       "    .dataframe tbody tr th {\n",
       "        vertical-align: top;\n",
       "    }\n",
       "\n",
       "    .dataframe thead th {\n",
       "        text-align: right;\n",
       "    }\n",
       "</style>\n",
       "<table border=\"1\" class=\"dataframe\">\n",
       "  <thead>\n",
       "    <tr style=\"text-align: right;\">\n",
       "      <th></th>\n",
       "      <th>scheduled_arrival_sec</th>\n",
       "      <th>converted_schd_arrival</th>\n",
       "      <th>rt_arrival_sec</th>\n",
       "      <th>converted_rt_arrival</th>\n",
       "    </tr>\n",
       "  </thead>\n",
       "  <tbody>\n",
       "    <tr>\n",
       "      <th>9256346</th>\n",
       "      <td>90061.00</td>\n",
       "      <td>2024-05-22 01:01:01</td>\n",
       "      <td>3487</td>\n",
       "      <td>2024-05-22 00:58:07</td>\n",
       "    </tr>\n",
       "    <tr>\n",
       "      <th>1447567</th>\n",
       "      <td>93300.00</td>\n",
       "      <td>2024-05-22 01:55:00</td>\n",
       "      <td>6864</td>\n",
       "      <td>2024-05-22 01:54:24</td>\n",
       "    </tr>\n",
       "    <tr>\n",
       "      <th>10409546</th>\n",
       "      <td>86460.00</td>\n",
       "      <td>2024-05-22 00:01:00</td>\n",
       "      <td>77</td>\n",
       "      <td>2024-05-22 00:01:17</td>\n",
       "    </tr>\n",
       "    <tr>\n",
       "      <th>3973777</th>\n",
       "      <td>92291.00</td>\n",
       "      <td>2024-05-22 01:38:11</td>\n",
       "      <td>6380</td>\n",
       "      <td>2024-05-22 01:46:20</td>\n",
       "    </tr>\n",
       "    <tr>\n",
       "      <th>5599826</th>\n",
       "      <td>90960.00</td>\n",
       "      <td>2024-05-22 01:16:00</td>\n",
       "      <td>5091</td>\n",
       "      <td>2024-05-22 01:24:51</td>\n",
       "    </tr>\n",
       "    <tr>\n",
       "      <th>68203</th>\n",
       "      <td>93360.00</td>\n",
       "      <td>2024-05-22 01:56:00</td>\n",
       "      <td>7156</td>\n",
       "      <td>2024-05-22 01:59:16</td>\n",
       "    </tr>\n",
       "    <tr>\n",
       "      <th>1982639</th>\n",
       "      <td>93480.00</td>\n",
       "      <td>2024-05-22 01:58:00</td>\n",
       "      <td>7248</td>\n",
       "      <td>2024-05-22 02:00:48</td>\n",
       "    </tr>\n",
       "    <tr>\n",
       "      <th>369084</th>\n",
       "      <td>101280.00</td>\n",
       "      <td>2024-05-22 04:08:00</td>\n",
       "      <td>15020</td>\n",
       "      <td>2024-05-22 04:10:20</td>\n",
       "    </tr>\n",
       "    <tr>\n",
       "      <th>573748</th>\n",
       "      <td>96900.00</td>\n",
       "      <td>2024-05-22 02:55:00</td>\n",
       "      <td>10973</td>\n",
       "      <td>2024-05-22 03:02:53</td>\n",
       "    </tr>\n",
       "    <tr>\n",
       "      <th>2022748</th>\n",
       "      <td>100020.00</td>\n",
       "      <td>2024-05-22 03:47:00</td>\n",
       "      <td>13518</td>\n",
       "      <td>2024-05-22 03:45:18</td>\n",
       "    </tr>\n",
       "    <tr>\n",
       "      <th>369382</th>\n",
       "      <td>101880.00</td>\n",
       "      <td>2024-05-22 04:18:00</td>\n",
       "      <td>15472</td>\n",
       "      <td>2024-05-22 04:17:52</td>\n",
       "    </tr>\n",
       "    <tr>\n",
       "      <th>4216906</th>\n",
       "      <td>87843.00</td>\n",
       "      <td>2024-05-22 00:24:03</td>\n",
       "      <td>2113</td>\n",
       "      <td>2024-05-22 00:35:13</td>\n",
       "    </tr>\n",
       "    <tr>\n",
       "      <th>1824049</th>\n",
       "      <td>95880.00</td>\n",
       "      <td>2024-05-22 02:38:00</td>\n",
       "      <td>9590</td>\n",
       "      <td>2024-05-22 02:39:50</td>\n",
       "    </tr>\n",
       "    <tr>\n",
       "      <th>205913</th>\n",
       "      <td>97560.00</td>\n",
       "      <td>2024-05-22 03:06:00</td>\n",
       "      <td>11651</td>\n",
       "      <td>2024-05-22 03:14:11</td>\n",
       "    </tr>\n",
       "    <tr>\n",
       "      <th>4569972</th>\n",
       "      <td>93894.00</td>\n",
       "      <td>2024-05-22 02:04:54</td>\n",
       "      <td>7939</td>\n",
       "      <td>2024-05-22 02:12:19</td>\n",
       "    </tr>\n",
       "    <tr>\n",
       "      <th>4634014</th>\n",
       "      <td>103347.00</td>\n",
       "      <td>2024-05-22 04:42:27</td>\n",
       "      <td>17066</td>\n",
       "      <td>2024-05-22 04:44:26</td>\n",
       "    </tr>\n",
       "    <tr>\n",
       "      <th>4414554</th>\n",
       "      <td>101045.00</td>\n",
       "      <td>2024-05-22 04:04:05</td>\n",
       "      <td>15068</td>\n",
       "      <td>2024-05-22 04:11:08</td>\n",
       "    </tr>\n",
       "    <tr>\n",
       "      <th>1113563</th>\n",
       "      <td>95400.00</td>\n",
       "      <td>2024-05-22 02:30:00</td>\n",
       "      <td>9163</td>\n",
       "      <td>2024-05-22 02:32:43</td>\n",
       "    </tr>\n",
       "    <tr>\n",
       "      <th>1390217</th>\n",
       "      <td>88920.00</td>\n",
       "      <td>2024-05-22 00:42:00</td>\n",
       "      <td>2816</td>\n",
       "      <td>2024-05-22 00:46:56</td>\n",
       "    </tr>\n",
       "    <tr>\n",
       "      <th>4413176</th>\n",
       "      <td>102660.00</td>\n",
       "      <td>2024-05-22 04:31:00</td>\n",
       "      <td>16745</td>\n",
       "      <td>2024-05-22 04:39:05</td>\n",
       "    </tr>\n",
       "  </tbody>\n",
       "</table>\n",
       "</div>"
      ],
      "text/plain": [
       "          scheduled_arrival_sec converted_schd_arrival  rt_arrival_sec  \\\n",
       "9256346                90061.00    2024-05-22 01:01:01            3487   \n",
       "1447567                93300.00    2024-05-22 01:55:00            6864   \n",
       "10409546               86460.00    2024-05-22 00:01:00              77   \n",
       "3973777                92291.00    2024-05-22 01:38:11            6380   \n",
       "5599826                90960.00    2024-05-22 01:16:00            5091   \n",
       "68203                  93360.00    2024-05-22 01:56:00            7156   \n",
       "1982639                93480.00    2024-05-22 01:58:00            7248   \n",
       "369084                101280.00    2024-05-22 04:08:00           15020   \n",
       "573748                 96900.00    2024-05-22 02:55:00           10973   \n",
       "2022748               100020.00    2024-05-22 03:47:00           13518   \n",
       "369382                101880.00    2024-05-22 04:18:00           15472   \n",
       "4216906                87843.00    2024-05-22 00:24:03            2113   \n",
       "1824049                95880.00    2024-05-22 02:38:00            9590   \n",
       "205913                 97560.00    2024-05-22 03:06:00           11651   \n",
       "4569972                93894.00    2024-05-22 02:04:54            7939   \n",
       "4634014               103347.00    2024-05-22 04:42:27           17066   \n",
       "4414554               101045.00    2024-05-22 04:04:05           15068   \n",
       "1113563                95400.00    2024-05-22 02:30:00            9163   \n",
       "1390217                88920.00    2024-05-22 00:42:00            2816   \n",
       "4413176               102660.00    2024-05-22 04:31:00           16745   \n",
       "\n",
       "         converted_rt_arrival  \n",
       "9256346   2024-05-22 00:58:07  \n",
       "1447567   2024-05-22 01:54:24  \n",
       "10409546  2024-05-22 00:01:17  \n",
       "3973777   2024-05-22 01:46:20  \n",
       "5599826   2024-05-22 01:24:51  \n",
       "68203     2024-05-22 01:59:16  \n",
       "1982639   2024-05-22 02:00:48  \n",
       "369084    2024-05-22 04:10:20  \n",
       "573748    2024-05-22 03:02:53  \n",
       "2022748   2024-05-22 03:45:18  \n",
       "369382    2024-05-22 04:17:52  \n",
       "4216906   2024-05-22 00:35:13  \n",
       "1824049   2024-05-22 02:39:50  \n",
       "205913    2024-05-22 03:14:11  \n",
       "4569972   2024-05-22 02:12:19  \n",
       "4634014   2024-05-22 04:44:26  \n",
       "4414554   2024-05-22 04:11:08  \n",
       "1113563   2024-05-22 02:32:43  \n",
       "1390217   2024-05-22 00:46:56  \n",
       "4413176   2024-05-22 04:39:05  "
      ]
     },
     "execution_count": 55,
     "metadata": {},
     "output_type": "execute_result"
    }
   ],
   "source": [
    "trips_routes_times2.loc[trips_routes_times2[\"scheduled_arrival_sec\"] > 86_400][\n",
    "    [\n",
    "        \"scheduled_arrival_sec\",\n",
    "        \"converted_schd_arrival\",\n",
    "        \"rt_arrival_sec\",\n",
    "        \"converted_rt_arrival\",\n",
    "    ]\n",
    "].sample(20)"
   ]
  },
  {
   "cell_type": "markdown",
   "id": "31b10b40-73bd-4b02-92b7-bf0cacaf67b9",
   "metadata": {},
   "source": [
    "### Deal with delays\n",
    "* Some very extreme values."
   ]
  },
  {
   "cell_type": "code",
   "execution_count": 56,
   "id": "003abe45-5d55-4839-80f8-83e693214427",
   "metadata": {},
   "outputs": [],
   "source": [
    "percentiles = [\n",
    "    0.001,\n",
    "    0.005,\n",
    "    0.01,\n",
    "    0.02,\n",
    "    0.05,\n",
    "    0.1,\n",
    "    0.2,\n",
    "    0.3,\n",
    "    0.4,\n",
    "    0.5,\n",
    "    0.6,\n",
    "    0.7,\n",
    "    0.8,\n",
    "    0.9,\n",
    "    0.95,\n",
    "    0.98,\n",
    "    0.99,\n",
    "]"
   ]
  },
  {
   "cell_type": "code",
   "execution_count": 57,
   "id": "8554197e-cc4b-4c24-be5b-0c7cc19dae30",
   "metadata": {},
   "outputs": [],
   "source": [
    "trips_routes_times2[\"delay_min\"] = (\n",
    "    trips_routes_times2[\"converted_rt_arrival\"]\n",
    "    - trips_routes_times2[\"converted_schd_arrival\"]\n",
    ").dt.total_seconds() / 60"
   ]
  },
  {
   "cell_type": "code",
   "execution_count": 58,
   "id": "6b377d08-87af-4746-9887-9a445bb438d7",
   "metadata": {},
   "outputs": [],
   "source": [
    "delay_0 = trips_routes_times2.loc[trips_routes_times2.delay_min < 0]"
   ]
  },
  {
   "cell_type": "code",
   "execution_count": 59,
   "id": "a9ced370-9233-4d5c-a283-ebe8c12720ed",
   "metadata": {},
   "outputs": [
    {
     "data": {
      "text/plain": [
       "count   3142148.00\n",
       "mean         -4.42\n",
       "std          60.66\n",
       "min       -1439.78\n",
       "0.1%      -1428.75\n",
       "0.5%        -25.87\n",
       "1%          -12.95\n",
       "2%           -7.35\n",
       "5%           -4.75\n",
       "10%          -3.43\n",
       "20%          -2.37\n",
       "30%          -1.78\n",
       "40%          -1.40\n",
       "50%          -1.08\n",
       "60%          -0.82\n",
       "70%          -0.58\n",
       "80%          -0.38\n",
       "90%          -0.18\n",
       "95%          -0.10\n",
       "98%          -0.05\n",
       "99%          -0.03\n",
       "max          -0.02\n",
       "Name: delay_min, dtype: float64"
      ]
     },
     "metadata": {},
     "output_type": "display_data"
    }
   ],
   "source": [
    "display(delay_0[\"delay_min\"].describe(percentiles))"
   ]
  },
  {
   "cell_type": "code",
   "execution_count": 60,
   "id": "fb040da3-2460-4d6f-8322-286094222e53",
   "metadata": {},
   "outputs": [],
   "source": [
    "delay_24_min = trips_routes_times2.loc[trips_routes_times2.delay_min > 24]"
   ]
  },
  {
   "cell_type": "code",
   "execution_count": 61,
   "id": "3bb1ee6c-c26d-4515-92e6-2b1f80923f76",
   "metadata": {},
   "outputs": [
    {
     "data": {
      "text/plain": [
       "count   112109.00\n",
       "mean       363.86\n",
       "std        421.20\n",
       "min         24.02\n",
       "0.1%        24.02\n",
       "0.5%        24.07\n",
       "1%          24.15\n",
       "2%          24.27\n",
       "5%          24.70\n",
       "10%         25.53\n",
       "20%         27.57\n",
       "30%         30.63\n",
       "40%         37.37\n",
       "50%         51.30\n",
       "60%        411.62\n",
       "70%        607.02\n",
       "80%        825.53\n",
       "90%       1034.57\n",
       "95%       1150.87\n",
       "98%       1291.33\n",
       "99%       1364.87\n",
       "max       1439.98\n",
       "Name: delay_min, dtype: float64"
      ]
     },
     "metadata": {},
     "output_type": "display_data"
    }
   ],
   "source": [
    "display(delay_24_min[\"delay_min\"].describe(percentiles))"
   ]
  },
  {
   "cell_type": "code",
   "execution_count": 62,
   "id": "30d2fb7d-a984-4c72-8c2e-0855697d07c3",
   "metadata": {},
   "outputs": [
    {
     "data": {
      "text/plain": [
       "count   11031910.00\n",
       "mean           5.18\n",
       "std           64.78\n",
       "min        -1439.78\n",
       "0.1%         -37.03\n",
       "0.5%          -8.03\n",
       "1%            -5.53\n",
       "2%            -4.07\n",
       "5%            -2.55\n",
       "10%           -1.57\n",
       "20%           -0.58\n",
       "30%            0.10\n",
       "40%            0.75\n",
       "50%            1.47\n",
       "60%            2.32\n",
       "70%            3.40\n",
       "80%            4.97\n",
       "90%            7.93\n",
       "95%           11.35\n",
       "98%           17.30\n",
       "99%           24.22\n",
       "max         1439.98\n",
       "Name: delay_min, dtype: float64"
      ]
     },
     "metadata": {},
     "output_type": "display_data"
    }
   ],
   "source": [
    "display(trips_routes_times2[\"delay_min\"].describe(percentiles))"
   ]
  },
  {
   "cell_type": "code",
   "execution_count": 63,
   "id": "8e4578f5-7644-4c41-814f-1c226bbf2427",
   "metadata": {},
   "outputs": [
    {
     "data": {
      "text/plain": [
       "6.85"
      ]
     },
     "execution_count": 63,
     "metadata": {},
     "output_type": "execute_result"
    }
   ],
   "source": [
    "411 / 60"
   ]
  },
  {
   "cell_type": "code",
   "execution_count": 64,
   "id": "ea979aa4-983f-44eb-9d63-86d14b5a24d9",
   "metadata": {},
   "outputs": [
    {
     "data": {
      "text/plain": [
       "10.0"
      ]
     },
     "execution_count": 64,
     "metadata": {},
     "output_type": "execute_result"
    }
   ],
   "source": [
    "600 / 60"
   ]
  },
  {
   "cell_type": "markdown",
   "id": "7faf4322-c42a-4347-9ced-41f06e40474b",
   "metadata": {},
   "source": [
    "#### Subtract one day off of `converted_rt_arrival` for rows in which there is a delay of +10 hours"
   ]
  },
  {
   "cell_type": "code",
   "execution_count": 65,
   "id": "50ead26f-588c-47b8-83f1-4aa312be449f",
   "metadata": {},
   "outputs": [],
   "source": [
    "trips_routes_times3 = trips_routes_times2.copy()"
   ]
  },
  {
   "cell_type": "code",
   "execution_count": 66,
   "id": "5c5b8977-7d6d-4d85-8c57-81b72bcae165",
   "metadata": {},
   "outputs": [],
   "source": [
    "trips_routes_times3[\"converted_rt_arrival\"] = np.where(\n",
    "    trips_routes_times3[\"delay_min\"] >= 600,\n",
    "    trips_routes_times3[\"converted_rt_arrival\"] - pd.Timedelta(days=1),\n",
    "    trips_routes_times3[\"converted_rt_arrival\"],\n",
    ")"
   ]
  },
  {
   "cell_type": "markdown",
   "id": "0c93b7f1-70b5-498d-b160-1bff703d5f44",
   "metadata": {},
   "source": [
    "#### Subtract one day off `converted_schd_arrival` for rows with a delay of -10 hours"
   ]
  },
  {
   "cell_type": "code",
   "execution_count": 67,
   "id": "00ec530c-ed86-4622-ac87-4a3c94271d39",
   "metadata": {},
   "outputs": [
    {
     "data": {
      "text/plain": [
       "-23.8"
      ]
     },
     "execution_count": 67,
     "metadata": {},
     "output_type": "execute_result"
    }
   ],
   "source": [
    "-1428 / 60"
   ]
  },
  {
   "cell_type": "code",
   "execution_count": 68,
   "id": "381b2327-c8b2-429e-b1df-4b95896dd42d",
   "metadata": {},
   "outputs": [],
   "source": [
    "trips_routes_times3[\"converted_schd_arrival\"] = np.where(\n",
    "    trips_routes_times3[\"delay_min\"] <= -600,\n",
    "    trips_routes_times3[\"converted_schd_arrival\"] - pd.Timedelta(days=1),\n",
    "    trips_routes_times3[\"converted_schd_arrival\"],\n",
    ")"
   ]
  },
  {
   "cell_type": "markdown",
   "id": "8f8db733-c674-4ee8-935e-6a956223e5bb",
   "metadata": {},
   "source": [
    "### Recalculate delay minutes after fix to ensure everything looks ok."
   ]
  },
  {
   "cell_type": "code",
   "execution_count": 69,
   "id": "53af946f-1137-4e3f-9b34-12eb4b2beca1",
   "metadata": {},
   "outputs": [],
   "source": [
    "trips_routes_times3[\"delay_min\"] = (\n",
    "    trips_routes_times3[\"converted_rt_arrival\"]\n",
    "    - trips_routes_times3[\"converted_schd_arrival\"]\n",
    ").dt.total_seconds() / 60"
   ]
  },
  {
   "cell_type": "code",
   "execution_count": 70,
   "id": "8f0c8151-02bf-45f0-86a8-45ed5e1e4811",
   "metadata": {},
   "outputs": [
    {
     "data": {
      "text/plain": [
       "count   11031910.00\n",
       "mean           1.54\n",
       "std           35.44\n",
       "min         -840.00\n",
       "0.1%        -623.30\n",
       "0.5%         -14.22\n",
       "1%            -6.32\n",
       "2%            -4.32\n",
       "5%            -2.63\n",
       "10%           -1.60\n",
       "20%           -0.60\n",
       "30%            0.08\n",
       "40%            0.73\n",
       "50%            1.45\n",
       "60%            2.28\n",
       "70%            3.37\n",
       "80%            4.92\n",
       "90%            7.82\n",
       "95%           11.07\n",
       "98%           16.27\n",
       "99%           21.15\n",
       "max          837.53\n",
       "Name: delay_min, dtype: float64"
      ]
     },
     "metadata": {},
     "output_type": "display_data"
    }
   ],
   "source": [
    "display(trips_routes_times3[\"delay_min\"].describe(percentiles))"
   ]
  },
  {
   "cell_type": "code",
   "execution_count": 71,
   "id": "d38addba-e174-4414-a6ee-c72b80aa57f1",
   "metadata": {},
   "outputs": [],
   "source": [
    "def compare_delays(stop_id: str, stop_sequence: int, scheduled_arrival_sec: int):\n",
    "    before_corrections = trips_routes_times2.loc[\n",
    "        (trips_routes_times2.stop_id == stop_id)\n",
    "        & (trips_routes_times2.stop_sequence == stop_sequence)\n",
    "        & (trips_routes_times2.scheduled_arrival_sec == scheduled_arrival_sec)\n",
    "    ]\n",
    "    display(before_corrections)\n",
    "\n",
    "    after_corrections = trips_routes_times3.loc[\n",
    "        (trips_routes_times3.stop_id == stop_id)\n",
    "        & (trips_routes_times3.stop_sequence == stop_sequence)\n",
    "        & (trips_routes_times3.scheduled_arrival_sec == scheduled_arrival_sec)\n",
    "    ]\n",
    "    display(after_corrections)"
   ]
  },
  {
   "cell_type": "markdown",
   "id": "adf4c8be-801b-4cf7-baeb-ebfa71811f1c",
   "metadata": {},
   "source": [
    "#### Some rows just can't be fixed b/c the inherent data is a little off. "
   ]
  },
  {
   "cell_type": "code",
   "execution_count": 72,
   "id": "70fa1aee-f604-43a2-ba93-f009c7b5fec5",
   "metadata": {
    "scrolled": true,
    "tags": []
   },
   "outputs": [],
   "source": [
    "extreme1 = trips_routes_times3.loc[trips_routes_times3.delay_min < -398.38]"
   ]
  },
  {
   "cell_type": "code",
   "execution_count": 73,
   "id": "ba66a3b2-750e-49ae-9716-8d07aac37522",
   "metadata": {},
   "outputs": [
    {
     "data": {
      "text/plain": [
       "count   23366.00\n",
       "mean     1487.55\n",
       "std     10491.40\n",
       "min         0.00\n",
       "25%         0.00\n",
       "50%         0.00\n",
       "75%         0.00\n",
       "max     86494.00\n",
       "Name: scheduled_arrival_sec, dtype: float64"
      ]
     },
     "execution_count": 73,
     "metadata": {},
     "output_type": "execute_result"
    }
   ],
   "source": [
    "extreme1.scheduled_arrival_sec.describe()"
   ]
  },
  {
   "cell_type": "code",
   "execution_count": 74,
   "id": "647d7772-962d-4f05-a4aa-cd8b42b281d4",
   "metadata": {},
   "outputs": [
    {
     "data": {
      "text/plain": [
       "count   23366.00\n",
       "mean    49625.69\n",
       "std      8083.68\n",
       "min       492.00\n",
       "25%     42813.00\n",
       "50%     49778.00\n",
       "75%     56438.00\n",
       "max     85333.00\n",
       "Name: rt_arrival_sec, dtype: float64"
      ]
     },
     "execution_count": 74,
     "metadata": {},
     "output_type": "execute_result"
    }
   ],
   "source": [
    "extreme1.rt_arrival_sec.describe()"
   ]
  },
  {
   "cell_type": "markdown",
   "id": "039bd4bb-999d-405b-85a3-8b6e2f41c454",
   "metadata": {},
   "source": [
    "### I received the suggestion to throw away things more than 2 hrs because that is not bunching. "
   ]
  },
  {
   "cell_type": "code",
   "execution_count": 75,
   "id": "076d1774-5ddb-43e9-99f8-729deec0357c",
   "metadata": {},
   "outputs": [],
   "source": [
    "trips_routes_times3 = trips_routes_times3.loc[\n",
    "    trips_routes_times3.delay_min < 120\n",
    "].reset_index(drop=True)"
   ]
  },
  {
   "cell_type": "code",
   "execution_count": 76,
   "id": "4029214f-47c8-4a4e-917b-dd5e70bbae25",
   "metadata": {},
   "outputs": [],
   "source": [
    "trips_routes_times3 = trips_routes_times3.loc[\n",
    "    trips_routes_times3.delay_min > -120\n",
    "].reset_index(drop=True)"
   ]
  },
  {
   "cell_type": "markdown",
   "id": "81bd753a-08ee-4d09-ac79-213e1e605405",
   "metadata": {},
   "source": [
    "### Calculate the actual & scheduled headway the `operator-route-direction_id-stop_sequence-stop_id-` grain\n"
   ]
  },
  {
   "cell_type": "code",
   "execution_count": 77,
   "id": "b9171520-7358-4f22-9d9c-c5156e710f1b",
   "metadata": {},
   "outputs": [],
   "source": [
    "groupby_cols = [\n",
    "    \"schedule_gtfs_dataset_key\",\n",
    "    \"route_long_name\",\n",
    "    \"direction_id\",\n",
    "    \"stop_id\",\n",
    "    \"stop_sequence\",\n",
    "]"
   ]
  },
  {
   "cell_type": "code",
   "execution_count": 78,
   "id": "a1ab53c4-bd2d-44cc-8e4d-db7801cb5a3b",
   "metadata": {},
   "outputs": [],
   "source": [
    "trips_routes_times3[\"actual_arrival_lag_min\"] = (\n",
    "    trips_routes_times3.groupby(groupby_cols)[\"converted_rt_arrival\"]\n",
    "    .diff()\n",
    "    .dt.total_seconds()\n",
    "    / 60\n",
    ")"
   ]
  },
  {
   "cell_type": "code",
   "execution_count": 79,
   "id": "6328c5fb-205e-4a78-a3d3-62fafa88a4cd",
   "metadata": {},
   "outputs": [],
   "source": [
    "trips_routes_times3[\"scheduled_arrival_lag_min\"] = (\n",
    "    trips_routes_times3.groupby(groupby_cols)[\"converted_schd_arrival\"]\n",
    "    .diff()\n",
    "    .dt.total_seconds()\n",
    "    / 60\n",
    ")"
   ]
  },
  {
   "cell_type": "code",
   "execution_count": 80,
   "id": "7fda264c-9496-4164-95d1-f7c6e9fb1784",
   "metadata": {},
   "outputs": [
    {
     "data": {
      "text/plain": [
       "count   10802913.00\n",
       "mean           6.28\n",
       "std           53.40\n",
       "min        -1439.00\n",
       "0.1%        -840.00\n",
       "0.5%           0.00\n",
       "1%             0.00\n",
       "2%             0.00\n",
       "5%             0.00\n",
       "10%            0.00\n",
       "20%            0.00\n",
       "30%            0.00\n",
       "40%            0.00\n",
       "50%            0.00\n",
       "60%            0.00\n",
       "70%            0.00\n",
       "80%           10.00\n",
       "90%           28.00\n",
       "95%           40.00\n",
       "98%           60.00\n",
       "99%           69.00\n",
       "max         1437.00\n",
       "Name: scheduled_arrival_lag_min, dtype: float64"
      ]
     },
     "execution_count": 80,
     "metadata": {},
     "output_type": "execute_result"
    }
   ],
   "source": [
    "trips_routes_times3[\"scheduled_arrival_lag_min\"].describe(percentiles)"
   ]
  },
  {
   "cell_type": "code",
   "execution_count": 81,
   "id": "875b27f9-5cd5-496a-a9e3-df7f609e4dd7",
   "metadata": {},
   "outputs": [
    {
     "data": {
      "text/plain": [
       "count   10802913.00\n",
       "mean           6.29\n",
       "std           53.47\n",
       "min        -1439.82\n",
       "0.1%        -841.50\n",
       "0.5%           0.00\n",
       "1%             0.00\n",
       "2%             0.00\n",
       "5%             0.00\n",
       "10%            0.00\n",
       "20%            0.00\n",
       "30%            0.00\n",
       "40%            0.00\n",
       "50%            0.00\n",
       "60%            0.00\n",
       "70%            0.00\n",
       "80%            6.68\n",
       "90%           26.40\n",
       "95%           39.93\n",
       "98%           60.92\n",
       "99%           71.45\n",
       "max         1442.10\n",
       "Name: actual_arrival_lag_min, dtype: float64"
      ]
     },
     "execution_count": 81,
     "metadata": {},
     "output_type": "execute_result"
    }
   ],
   "source": [
    "trips_routes_times3[\"actual_arrival_lag_min\"].describe(percentiles)"
   ]
  },
  {
   "cell_type": "code",
   "execution_count": 82,
   "id": "0370dc8b-8a4d-4e16-8943-a559aa0aac07",
   "metadata": {},
   "outputs": [],
   "source": [
    "preview_time_col = [\n",
    "    \"schedule_gtfs_dataset_key\",\n",
    "    \"route_id\",\n",
    "    \"stop_id\",\n",
    "    \"stop_sequence\",\n",
    "    \"converted_rt_arrival\",\n",
    "    \"actual_arrival_lag_min\",\n",
    "    \"converted_schd_arrival\",\n",
    "    \"scheduled_arrival_lag_min\",\n",
    "]"
   ]
  },
  {
   "cell_type": "markdown",
   "id": "8a5f6f72-d463-4076-80ce-d22ab1f718b1",
   "metadata": {},
   "source": [
    "### Many lags are actually empty b/c it's the first of that groupby-sequence."
   ]
  },
  {
   "cell_type": "code",
   "execution_count": 83,
   "id": "98df5908-9530-43c8-ab6c-9283f9cc78d0",
   "metadata": {
    "scrolled": true,
    "tags": []
   },
   "outputs": [
    {
     "data": {
      "text/html": [
       "<div>\n",
       "<style scoped>\n",
       "    .dataframe tbody tr th:only-of-type {\n",
       "        vertical-align: middle;\n",
       "    }\n",
       "\n",
       "    .dataframe tbody tr th {\n",
       "        vertical-align: top;\n",
       "    }\n",
       "\n",
       "    .dataframe thead th {\n",
       "        text-align: right;\n",
       "    }\n",
       "</style>\n",
       "<table border=\"1\" class=\"dataframe\">\n",
       "  <thead>\n",
       "    <tr style=\"text-align: right;\">\n",
       "      <th></th>\n",
       "      <th>schedule_gtfs_dataset_key</th>\n",
       "      <th>route_id</th>\n",
       "      <th>stop_id</th>\n",
       "      <th>stop_sequence</th>\n",
       "      <th>converted_rt_arrival</th>\n",
       "      <th>actual_arrival_lag_min</th>\n",
       "      <th>converted_schd_arrival</th>\n",
       "      <th>scheduled_arrival_lag_min</th>\n",
       "    </tr>\n",
       "  </thead>\n",
       "  <tbody>\n",
       "    <tr>\n",
       "      <th>3348295</th>\n",
       "      <td>5456c80d420043e15c8eb7368a8a4d89</td>\n",
       "      <td>397</td>\n",
       "      <td>340058</td>\n",
       "      <td>47</td>\n",
       "      <td>2024-05-22 03:28:03</td>\n",
       "      <td>NaN</td>\n",
       "      <td>2024-05-22 03:27:08</td>\n",
       "      <td>NaN</td>\n",
       "    </tr>\n",
       "  </tbody>\n",
       "</table>\n",
       "</div>"
      ],
      "text/plain": [
       "                schedule_gtfs_dataset_key route_id stop_id  stop_sequence  \\\n",
       "3348295  5456c80d420043e15c8eb7368a8a4d89      397  340058             47   \n",
       "\n",
       "        converted_rt_arrival  actual_arrival_lag_min converted_schd_arrival  \\\n",
       "3348295  2024-05-22 03:28:03                     NaN    2024-05-22 03:27:08   \n",
       "\n",
       "         scheduled_arrival_lag_min  \n",
       "3348295                        NaN  "
      ]
     },
     "execution_count": 83,
     "metadata": {},
     "output_type": "execute_result"
    }
   ],
   "source": [
    "trips_routes_times3[trips_routes_times3[\"scheduled_arrival_lag_min\"].isna()][\n",
    "    preview_time_col\n",
    "].sample()"
   ]
  },
  {
   "cell_type": "code",
   "execution_count": 84,
   "id": "1997e407-9483-4142-95db-2a1892fbace7",
   "metadata": {},
   "outputs": [],
   "source": [
    "# rt_stop_times4 = rt_stop_times4.fillna(0)"
   ]
  },
  {
   "cell_type": "code",
   "execution_count": 85,
   "id": "40fa9502-991b-4506-b59b-881ae1ab56e5",
   "metadata": {},
   "outputs": [
    {
     "data": {
      "text/plain": [
       "10982933"
      ]
     },
     "execution_count": 85,
     "metadata": {},
     "output_type": "execute_result"
    }
   ],
   "source": [
    "len(trips_routes_times3)"
   ]
  },
  {
   "cell_type": "code",
   "execution_count": 86,
   "id": "ec1ba257-b462-44f8-bbe4-d89459fc0219",
   "metadata": {},
   "outputs": [],
   "source": [
    "trips_routes_times3.to_parquet(\"./transit_bunching.parquet\")"
   ]
  },
  {
   "cell_type": "markdown",
   "id": "28362518-a54b-4f5d-a4d7-24a3d8ddefd0",
   "metadata": {},
   "source": [
    "### Transit Matters Method"
   ]
  },
  {
   "cell_type": "code",
   "execution_count": 87,
   "id": "f0f0f4b7-fa64-4b01-a141-5dd78c59693b",
   "metadata": {},
   "outputs": [],
   "source": [
    "transit_matters_df1 = trips_routes_times3.copy()"
   ]
  },
  {
   "cell_type": "code",
   "execution_count": 88,
   "id": "7bea63e5-45d0-4d06-8c1c-fd34a69ffde7",
   "metadata": {},
   "outputs": [],
   "source": [
    "transit_matters_df1[\"pct_actual_schd_headway\"] = (\n",
    "    transit_matters_df1.actual_arrival_lag_min\n",
    "    / transit_matters_df1.scheduled_arrival_lag_min\n",
    ")"
   ]
  },
  {
   "cell_type": "code",
   "execution_count": 89,
   "id": "c67c6299-68f0-414f-a9c1-e0b27511b9e5",
   "metadata": {},
   "outputs": [],
   "source": [
    "transit_matters_df1[\"bunched_y_n\"] = np.where(\n",
    "    transit_matters_df1[\"pct_actual_schd_headway\"] < 0.25, \"bunched\", \"not bunched\"\n",
    ")"
   ]
  },
  {
   "cell_type": "code",
   "execution_count": 90,
   "id": "d7d56ce7-66e9-4084-a725-a9eff7c4c5b2",
   "metadata": {},
   "outputs": [
    {
     "data": {
      "text/plain": [
       "not bunched   0.99\n",
       "bunched       0.01\n",
       "Name: bunched_y_n, dtype: float64"
      ]
     },
     "execution_count": 90,
     "metadata": {},
     "output_type": "execute_result"
    }
   ],
   "source": [
    "transit_matters_df1.bunched_y_n.value_counts() / len(transit_matters_df1)"
   ]
  },
  {
   "cell_type": "code",
   "execution_count": 91,
   "id": "86a82c71-8d0d-434f-abf0-525499a60441",
   "metadata": {},
   "outputs": [
    {
     "data": {
      "text/plain": [
       "10982933"
      ]
     },
     "execution_count": 91,
     "metadata": {},
     "output_type": "execute_result"
    }
   ],
   "source": [
    "len(transit_matters_df1)"
   ]
  },
  {
   "cell_type": "markdown",
   "id": "db10254b-d5d4-4619-9c6e-10fab19ec6b2",
   "metadata": {},
   "source": [
    "#### Aggregate.\n",
    "* At this point, it doesn't matter the sequence, we just care about how bunched the traffic is around one partiuclar stop. \n",
    "* See how many trips for that grain are considered \"bunched\" or not."
   ]
  },
  {
   "cell_type": "code",
   "execution_count": 92,
   "id": "30bbbbad-4587-43e3-b5c7-632079f5a588",
   "metadata": {},
   "outputs": [],
   "source": [
    "def bunched_not_bunched(\n",
    "    df: pd.DataFrame, bunched_y_n: str, groupby_cols: list\n",
    ") -> pd.DataFrame:\n",
    "    df2 = df.loc[df.bunched_y_n == bunched_y_n].reset_index(drop=True)\n",
    "\n",
    "    bunched_y_n = bunched_y_n.replace(\" \", \"_\")\n",
    "    agg1 = (\n",
    "        df2.groupby(groupby_cols).agg({\"trip_instance_key\": \"nunique\"}).reset_index()\n",
    "    ).rename(columns={\"trip_instance_key\": f\"{bunched_y_n}_trips\"})\n",
    "    return agg1"
   ]
  },
  {
   "cell_type": "code",
   "execution_count": 93,
   "id": "bb7f41ff-ff97-4a00-b4f8-b9cdab73da64",
   "metadata": {},
   "outputs": [],
   "source": [
    "def agg_final_df(df: pd.DataFrame) -> pd.DataFrame:\n",
    "    groupby_cols = [\n",
    "        \"caltrans_district\",\n",
    "        \"schedule_gtfs_dataset_key\",\n",
    "        \"feed_key\",\n",
    "        \"organization_name\",\n",
    "        \"route_long_name\",\n",
    "        \"route_type\",\n",
    "        \"route_id\",\n",
    "        \"direction_id\",\n",
    "        \"stop_id\",\n",
    "        \"stop_sequence\",\n",
    "    ]\n",
    "\n",
    "    # Find total trips that are bunched\n",
    "    bunched = bunched_not_bunched(df, \"bunched\", groupby_cols)\n",
    "\n",
    "    # Find total trips that are NOT bunched\n",
    "    not_bunched = bunched_not_bunched(df, \"not bunched\", groupby_cols)\n",
    "\n",
    "    # Merge\n",
    "    m1 = pd.merge(not_bunched, bunched, on=groupby_cols, how=\"outer\")\n",
    "\n",
    "    # Find the % of bunched trips\n",
    "    m1 = m1.fillna(0)\n",
    "    m1[\"all_trips\"] = m1.not_bunched_trips + m1.bunched_trips\n",
    "    m1[\"per_trip_bunched_per_stop\"] = m1.bunched_trips / m1.all_trips\n",
    "\n",
    "    # Filter out any rows with only one trip of that groupby combo\n",
    "    # for that service date\n",
    "    m1 = m1.loc[m1.all_trips > 1].reset_index(drop=True)\n",
    "    m1 = m1.drop(columns=[\"not_bunched_trips\", \"bunched_trips\"])\n",
    "\n",
    "    return m1"
   ]
  },
  {
   "cell_type": "code",
   "execution_count": null,
   "id": "a33d4b24-6737-4c2a-8e38-eec929242b37",
   "metadata": {},
   "outputs": [],
   "source": [
    "transit_matters_m1 = agg_final_df(transit_matters_df1)"
   ]
  },
  {
   "cell_type": "code",
   "execution_count": null,
   "id": "9a919bad-bb6f-4247-840d-e6f00a349b06",
   "metadata": {},
   "outputs": [],
   "source": [
    "# transit_matters_m1 = (\n",
    "#   transit_matters_m1.sort_values(by=[\"all_trips\"], ascending=False)\n",
    "#   .drop_duplicates(subset=transit_matters_agg)\n",
    "#   .reset_index(drop=True)\n",
    "# )"
   ]
  },
  {
   "cell_type": "markdown",
   "id": "710770ad-2d1a-4636-9667-02d320b689e8",
   "metadata": {},
   "source": [
    "### Help: Swapped order of a bus is messing with the transit matters metric.\n",
    "* How to solve for this?? "
   ]
  },
  {
   "cell_type": "code",
   "execution_count": null,
   "id": "56e4a936-215b-4bdd-8f45-e86b613198bc",
   "metadata": {},
   "outputs": [],
   "source": [
    "preview_cols = [\n",
    "    \"converted_rt_arrival\",\n",
    "    \"actual_arrival_lag_min\",\n",
    "    \"converted_schd_arrival\",\n",
    "    \"scheduled_arrival_lag_min\",\n",
    "    \"pct_actual_schd_headway\",\n",
    "    \"bunched_y_n\",\n",
    "]"
   ]
  },
  {
   "cell_type": "code",
   "execution_count": null,
   "id": "1e24cb76-4f68-4377-a0df-cedb21904b6e",
   "metadata": {},
   "outputs": [],
   "source": [
    "example2 = transit_matters_df1.loc[\n",
    "    (transit_matters_df1.stop_id == \"2307719\")\n",
    "    & (transit_matters_df1.organization_name == \"City of Visalia\")\n",
    "    & (transit_matters_df1.route_id == \"2042\")\n",
    "    & (transit_matters_df1.shape_array_key == \"60da59c7000ea5dcb5f845d8fa227f14\")\n",
    "]"
   ]
  },
  {
   "cell_type": "markdown",
   "id": "67169748-2cba-4591-8cd5-3cc8e4e3a556",
   "metadata": {},
   "source": [
    "#### Starting row 33484: the RT Arrival time is swapped. A bus that was scheduled to arrive at 4:27 arrived boefre the bus arrived at 3:42.\n",
    "* This repeats again row 33486."
   ]
  },
  {
   "cell_type": "code",
   "execution_count": null,
   "id": "8b34f0a6-6a2b-4e56-b0fe-bd0f57b53db8",
   "metadata": {},
   "outputs": [],
   "source": [
    "example2[preview_cols]"
   ]
  },
  {
   "cell_type": "markdown",
   "id": "b0579e78-2a95-4d8b-9761-2824aa39a8eb",
   "metadata": {},
   "source": [
    "### Use 2 minute benchmark\n",
    "* [Source](https://static1.squarespace.com/static/533b9a24e4b01d79d0ae4376/t/645e82de1f570b31497c44dc/1683915486889/TransitMatters-Headwaymanagement.pdf)\n",
    "* Justifying the use of\n",
    "headway maintenance. For example, in April\n",
    "2022 the 66 bus significantly bunched around\n",
    "several stops. When bunching is defined as\n",
    "buses that run within two minutes or less of\n",
    "each other, inbound buses towards Nubian\n",
    "Square bunched 10% of the time at Brigham\n",
    "Circle, 9% at Brookline Village and Roxbury\n",
    "Crossing, and 8% of the time at Coolidge\n",
    "Corner. Bunching is even more dramatic\n",
    "outbound towards Harvard Square where\n",
    "buses bunched over 35% of the time at Winship\n",
    "St, 13% at Coolidge Corner and Harvard Ave at\n",
    "Commonwealth Ave, and 12% at North Harvard\n",
    "St at Western Ave. View more data about bus\n",
    "bunching through the TransitMatters Data\n",
    "Dashboard here.\n",
    "\n",
    "* To Do: add back in route  & operator information"
   ]
  },
  {
   "cell_type": "code",
   "execution_count": null,
   "id": "e0706e7e-0d56-43b2-bf3c-4205e9277c64",
   "metadata": {},
   "outputs": [],
   "source": [
    "two_minutes_df = trips_routes_times2.copy()"
   ]
  },
  {
   "cell_type": "code",
   "execution_count": null,
   "id": "2def9283-d995-4001-b412-0fa03a855cd5",
   "metadata": {},
   "outputs": [],
   "source": [
    "two_minutes_df[\"bunched_y_n\"] = np.where(\n",
    "    two_minutes_df[\"actual_arrival_lag_min\"] <= 2, \"bunched\", \"not bunched\"\n",
    ")"
   ]
  },
  {
   "cell_type": "code",
   "execution_count": null,
   "id": "dcd302cb-5f30-4318-8b28-cb29f6c376cd",
   "metadata": {},
   "outputs": [],
   "source": [
    "two_minutes_df.bunched_y_n.value_counts()"
   ]
  },
  {
   "cell_type": "code",
   "execution_count": null,
   "id": "99de2fd0-2aed-4793-a33b-56d7ffc313bc",
   "metadata": {},
   "outputs": [],
   "source": [
    "final_two_minute = agg_final_df(two_minutes_df)"
   ]
  },
  {
   "cell_type": "code",
   "execution_count": null,
   "id": "416da93d-cd6d-4ad1-bf5e-98b20c188661",
   "metadata": {},
   "outputs": [],
   "source": [
    "final_two_minute.loc[\n",
    "    (final_two_minute.stop_id == \"2307695\")\n",
    "    & (final_two_minute.organization_name == \"City of Visalia\")\n",
    "    & (final_two_minute.route_id == \"2042\")\n",
    "]"
   ]
  },
  {
   "cell_type": "markdown",
   "id": "1a0b54b9-3d4c-4cc4-8243-e26a42c47e83",
   "metadata": {},
   "source": [
    "### Comparing both outcomes\n",
    "* There are so many more bunched trips for the 2 minute approach.\n",
    "* Add back in schedule_gtfs_key and then grab stop level data from the warehouse."
   ]
  },
  {
   "cell_type": "code",
   "execution_count": null,
   "id": "a11e9bc2-70c6-488a-aa7e-f92d8b53c8e0",
   "metadata": {},
   "outputs": [],
   "source": [
    "final_two_minute.per_trip_bunched_per_stop.describe(percentiles)"
   ]
  },
  {
   "cell_type": "code",
   "execution_count": null,
   "id": "19c741e4-6476-416b-a62d-51028c6eef68",
   "metadata": {},
   "outputs": [],
   "source": [
    "transit_matters_m1.per_trip_bunched_per_stop.describe(percentiles)"
   ]
  },
  {
   "cell_type": "markdown",
   "id": "a6304f84-80fb-4696-a312-d28545073b22",
   "metadata": {},
   "source": [
    "### Make Visuals"
   ]
  },
  {
   "cell_type": "code",
   "execution_count": null,
   "id": "220981aa-623c-4156-8445-f349f0d98d45",
   "metadata": {},
   "outputs": [],
   "source": [
    "freq_range = [\n",
    "    \"#ccbb44\",\n",
    "    \"#e9d868\",\n",
    "    \"#fcb40e\",\n",
    "    \"#ff9c42\",\n",
    "    \"#fc5c04\",\n",
    "    \"#dd217d\",\n",
    "    \"#dd217d\",\n",
    "    \"#dd217d\",\n",
    "]"
   ]
  },
  {
   "cell_type": "code",
   "execution_count": null,
   "id": "949a750a-6e07-4c98-8020-7b201b9bd0fa",
   "metadata": {},
   "outputs": [],
   "source": []
  },
  {
   "cell_type": "code",
   "execution_count": null,
   "id": "9a5ea9a8-1158-4681-9d97-37a131b2dff4",
   "metadata": {},
   "outputs": [],
   "source": [
    "trips_routes_times2[\"hour\"] = trips_routes_times2[\"converted_rt_arrival\"].dt.hour\n",
    "trips_routes_times2[\"min\"] = trips_routes_times2[\"converted_rt_arrival\"].dt.minute"
   ]
  },
  {
   "cell_type": "code",
   "execution_count": null,
   "id": "562aa5ef-6dac-443e-b646-88b72174d645",
   "metadata": {},
   "outputs": [],
   "source": [
    "trips_routes_times2.head(2)"
   ]
  },
  {
   "cell_type": "code",
   "execution_count": null,
   "id": "ec812e6c-3dc7-4e21-9478-1eae1a539ec2",
   "metadata": {},
   "outputs": [],
   "source": [
    "def compare_approaches(\n",
    "    stop_id: str, organization_name: str, route_id: str, stop_sequence: int\n",
    "):\n",
    "    transit_matter = transit_matters_m1.loc[\n",
    "        (transit_matters_m1.stop_id == stop_id)\n",
    "        & (transit_matters_m1.organization_name == organization_name)\n",
    "        & (transit_matters_m1.route_id == route_id)\n",
    "        & (transit_matters_m1.stop_sequence == stop_sequence)\n",
    "    ]\n",
    "    display(transit_matter)\n",
    "\n",
    "    two_min = final_two_minute.loc[\n",
    "        (final_two_minute.stop_id == stop_id)\n",
    "        & (final_two_minute.organization_name == organization_name)\n",
    "        & (final_two_minute.route_id == route_id)\n",
    "        & (final_two_minute.stop_sequence == stop_sequence)\n",
    "    ]\n",
    "\n",
    "    display(two_min)\n",
    "    total_trips = trips_routes_times2.loc[\n",
    "        (trips_routes_times2.stop_id == stop_id)\n",
    "        & (trips_routes_times2.organization_name == organization_name)\n",
    "        & (trips_routes_times2.route_id == route_id)\n",
    "        & (trips_routes_times2.stop_sequence == stop_sequence)\n",
    "    ]\n",
    "\n",
    "    display(total_trips.trip_instance_key.nunique())\n",
    "\n",
    "    chart = (\n",
    "        alt.Chart(total_trips)\n",
    "        .mark_circle(size=500)\n",
    "        .encode(\n",
    "            x=\"hour\",\n",
    "            y=\"min\",\n",
    "            color=alt.Color(\n",
    "                \"hour\",\n",
    "                scale=alt.Scale(range=freq_range),\n",
    "            ),\n",
    "            tooltip=[\"hour\", \"min\", \"actual_arrival_lag_min\"],\n",
    "        )\n",
    "        .properties(width=800, height=400)\n",
    "    )\n",
    "    display(chart)\n",
    "    return total_trips"
   ]
  },
  {
   "cell_type": "code",
   "execution_count": null,
   "id": "5b9efd9b-6799-40a7-baff-3a936790ddd3",
   "metadata": {},
   "outputs": [],
   "source": [
    "test1 = compare_approaches(\n",
    "    stop_id=\"5685\",\n",
    "    organization_name=\"Los Angeles County Metropolitan Transportation Authority\",\n",
    "    route_id=\"204-13172\",\n",
    "    stop_sequence=46,\n",
    ")"
   ]
  },
  {
   "cell_type": "code",
   "execution_count": null,
   "id": "6486f4bf-890d-45ae-b6dc-8c938171a466",
   "metadata": {},
   "outputs": [],
   "source": [
    "test2 = compare_approaches(\n",
    "    stop_id=\"2307469\",\n",
    "    organization_name=\"City of Visalia\",\n",
    "    route_id=\"2042\",\n",
    "    stop_sequence=27,\n",
    ")"
   ]
  },
  {
   "cell_type": "code",
   "execution_count": null,
   "id": "85a9a49c-0d2e-4d1a-9b7d-601880d45d5d",
   "metadata": {},
   "outputs": [],
   "source": [
    "test3 = compare_approaches(\n",
    "    stop_id=\"3104\",\n",
    "    organization_name=\"Los Angeles County Metropolitan Transportation Authority\",\n",
    "    route_id=\"33-13172\",\n",
    "    stop_sequence=80,\n",
    ")"
   ]
  },
  {
   "cell_type": "code",
   "execution_count": null,
   "id": "713f259d-125b-473d-abff-877f3e2d4973",
   "metadata": {},
   "outputs": [],
   "source": [
    "test4 = compare_approaches(\n",
    "    stop_id=\"15320\",\n",
    "    organization_name=\"Los Angeles County Metropolitan Transportation Authority\",\n",
    "    route_id=\"33-13172\",\n",
    "    stop_sequence=64,\n",
    ")"
   ]
  },
  {
   "cell_type": "code",
   "execution_count": null,
   "id": "b63c81fa-efdc-464b-a567-23ca9c194321",
   "metadata": {},
   "outputs": [],
   "source": [
    "test5 = compare_approaches(\n",
    "    stop_id=\"3288014\",\n",
    "    organization_name=\"City of Thousand Oaks\",\n",
    "    route_id=\"3402\",\n",
    "    stop_sequence=16,\n",
    ")"
   ]
  },
  {
   "cell_type": "code",
   "execution_count": null,
   "id": "a6be5a05-07e3-4a11-a5cd-844380717548",
   "metadata": {
    "scrolled": true,
    "tags": []
   },
   "outputs": [],
   "source": [
    "transit_matters_m1.sort_values(by=[\"per_trip_bunched_per_stop\"], ascending=False)"
   ]
  },
  {
   "cell_type": "markdown",
   "id": "34ba711c-f004-4a62-81ef-0effbf5401ed",
   "metadata": {
    "tags": []
   },
   "source": [
    "### Make Maps \n",
    "* Think I actually need the vehicle positions since stops are literally the stop's geometry, so it'll always be plotting on the same spot.\n",
    "\n",
    "* https://github.com/cal-itp/data-analyses/blob/db19b70329f1e817236bda13707dd903c24abb4c/_shared_utils/shared_utils/gtfs_utils_v2.py#L371\n",
    "* https://github.com/cal-itp/data-analyses/blob/main/gtfs_funnel/download_stops.py"
   ]
  },
  {
   "cell_type": "code",
   "execution_count": null,
   "id": "ef8e36d2-2209-4a99-95cf-11ca0371d93c",
   "metadata": {},
   "outputs": [],
   "source": [
    "stop"
   ]
  },
  {
   "cell_type": "code",
   "execution_count": null,
   "id": "2c323fdc-14bd-442f-b3d0-5b5fa20a2e48",
   "metadata": {},
   "outputs": [],
   "source": [
    "# What is this file?\n",
    "vps_gdf = gpd.read_parquet(\n",
    "    \"gs://calitp-analytics-data/data-analyses/rt_segment_speeds/vp_2024-05-22.parquet\"\n",
    ")"
   ]
  },
  {
   "cell_type": "code",
   "execution_count": null,
   "id": "e8b2d27e-0a1d-4d6d-a5e8-da7e915b4a24",
   "metadata": {},
   "outputs": [],
   "source": [
    "vps_gdf = vps_gdf[\n",
    "    [\n",
    "        \"schedule_gtfs_dataset_key\",\n",
    "        \"trip_instance_key\",\n",
    "        \"location_timestamp_local\",\n",
    "        \"geometry\",\n",
    "    ]\n",
    "]"
   ]
  },
  {
   "cell_type": "code",
   "execution_count": null,
   "id": "fe5770c0-07e2-4cd0-905c-6b5a28f9a1ba",
   "metadata": {},
   "outputs": [],
   "source": [
    "vps_df = vps_gdf[\n",
    "    [\n",
    "        \"schedule_gtfs_dataset_key\",\n",
    "        \"trip_instance_key\",\n",
    "        \"location_timestamp_local\",\n",
    "    ]\n",
    "]"
   ]
  },
  {
   "cell_type": "code",
   "execution_count": null,
   "id": "6016595b-b80d-4fef-938b-5d75e35c8a8d",
   "metadata": {},
   "outputs": [],
   "source": [
    "vps_m1 = pd.merge(\n",
    "    vps_df,\n",
    "    trips_routes_times2,\n",
    "    on=[\"schedule_gtfs_dataset_key\", \"trip_instance_key\"],\n",
    "    how=\"inner\",\n",
    ")"
   ]
  },
  {
   "cell_type": "code",
   "execution_count": null,
   "id": "03064c85-8e73-4370-8c00-a0f34fa76029",
   "metadata": {},
   "outputs": [],
   "source": [
    "def one_stop(df: pd.DataFrame, stop_id: str, org_name: str, route_id: str):\n",
    "    # Look at one route & stop\n",
    "    test_route1 = df.loc[\n",
    "        (df.organization_name == org_name)\n",
    "        & (df.route_id == route_id)\n",
    "        & (df.stop_id == stop_id)\n",
    "    ]\n",
    "\n",
    "    compare_approaches(stop_id=stop_id, organization_name=org_name, route_id=route_id)\n",
    "\n",
    "    # display(test_route1.explore(\"time_int\", marker_kwds = {'radius':20}))\n",
    "    return test_route1"
   ]
  },
  {
   "cell_type": "code",
   "execution_count": null,
   "id": "0c513281-039e-45a5-98d0-9220e132f92a",
   "metadata": {},
   "outputs": [],
   "source": [
    "metro_test1 = one_stop(\n",
    "    vps_m1,\n",
    "    stop_id=\"5700\",\n",
    "    org_name=\"Los Angeles County Metropolitan Transportation Authority\",\n",
    "    route_id=\"204-13172\",\n",
    ")"
   ]
  },
  {
   "cell_type": "code",
   "execution_count": null,
   "id": "4a8d5439-0529-4adf-b71f-6bcfa6353392",
   "metadata": {},
   "outputs": [],
   "source": [
    "metro_test1.shape"
   ]
  },
  {
   "cell_type": "code",
   "execution_count": null,
   "id": "8ead8a95-85fd-454d-b7ce-d5a85d6406d5",
   "metadata": {},
   "outputs": [],
   "source": []
  },
  {
   "cell_type": "code",
   "execution_count": null,
   "id": "0baa05d0-40fe-4406-a80e-5acd80a8edae",
   "metadata": {},
   "outputs": [],
   "source": [
    "metro_test1.sample(1)"
   ]
  },
  {
   "cell_type": "markdown",
   "id": "76a7e40c-c3d8-476c-b5e1-f38f7cc12345",
   "metadata": {},
   "source": [
    "### Other\n",
    "* https://www.sciencedirect.com/science/article/pii/S1366554523003666\n",
    "* https://www.sciencedirect.com/science/article/pii/S0968090X22002492?ref=pdf_download&fr=RR-2&rr=8d7d6fb73d8015be"
   ]
  }
 ],
 "metadata": {
  "kernelspec": {
   "display_name": "Python 3 (ipykernel)",
   "language": "python",
   "name": "python3"
  },
  "language_info": {
   "codemirror_mode": {
    "name": "ipython",
    "version": 3
   },
   "file_extension": ".py",
   "mimetype": "text/x-python",
   "name": "python",
   "nbconvert_exporter": "python",
   "pygments_lexer": "ipython3",
   "version": "3.9.13"
  }
 },
 "nbformat": 4,
 "nbformat_minor": 5
}
