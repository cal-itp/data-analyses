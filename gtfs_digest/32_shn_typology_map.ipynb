{
 "cells": [
  {
   "cell_type": "markdown",
   "id": "9a82e26c-4a41-4617-8575-e2ec2ff578f9",
   "metadata": {},
   "source": [
    "# Dissolve the SHN file again so I can use the same `map tiles` as the other data products\n",
    "* <i>Just need to ensure your shn gdf has Route,  County, District, RouteType columns.</i>"
   ]
  },
  {
   "cell_type": "code",
   "execution_count": 1,
   "id": "f3e17b44-2cc9-45f5-8095-f4d0b780eb8e",
   "metadata": {
    "tags": []
   },
   "outputs": [],
   "source": [
    "import geopandas as gpd\n",
    "import google.auth\n",
    "import numpy as np\n",
    "import pandas as pd\n",
    "\n",
    "credentials, project = google.auth.default()\n",
    "\n",
    "import gcsfs\n",
    "\n",
    "fs = gcsfs.GCSFileSystem()\n",
    "import yaml"
   ]
  },
  {
   "cell_type": "code",
   "execution_count": 26,
   "id": "ade472f4-1533-4239-8f32-d0ed69244169",
   "metadata": {
    "tags": []
   },
   "outputs": [],
   "source": [
    "from calitp_data_analysis import geography_utils, utils\n",
    "from segment_speed_utils import gtfs_schedule_wrangling, helpers, time_series_utils\n",
    "from shared_utils import webmap_utils\n",
    "from update_vars import GTFS_DATA_DICT, RT_SCHED_GCS, SCHED_GCS, SEGMENT_GCS"
   ]
  },
  {
   "cell_type": "code",
   "execution_count": 3,
   "id": "05f67477-4210-49d5-b41a-f57fd52b5252",
   "metadata": {
    "tags": []
   },
   "outputs": [],
   "source": [
    "SHN_FILE = catalog_utils.get_catalog(\"shared_data_catalog\").state_highway_network.urlpath\n",
    "\n",
    "shn = gpd.read_parquet(\n",
    "        SHN_FILE,\n",
    "        storage_options={\"token\": credentials.token},\n",
    "    ).to_crs(geography_utils.CA_NAD83Albers_ft)"
   ]
  },
  {
   "cell_type": "code",
   "execution_count": 4,
   "id": "8bf5353e-ecf5-4c61-a3da-35284c9b25e1",
   "metadata": {
    "tags": []
   },
   "outputs": [
    {
     "data": {
      "text/html": [
       "<div>\n",
       "<style scoped>\n",
       "    .dataframe tbody tr th:only-of-type {\n",
       "        vertical-align: middle;\n",
       "    }\n",
       "\n",
       "    .dataframe tbody tr th {\n",
       "        vertical-align: top;\n",
       "    }\n",
       "\n",
       "    .dataframe thead th {\n",
       "        text-align: right;\n",
       "    }\n",
       "</style>\n",
       "<table border=\"1\" class=\"dataframe\">\n",
       "  <thead>\n",
       "    <tr style=\"text-align: right;\">\n",
       "      <th></th>\n",
       "      <th>Route</th>\n",
       "      <th>County</th>\n",
       "      <th>District</th>\n",
       "      <th>RouteType</th>\n",
       "      <th>Direction</th>\n",
       "      <th>geometry</th>\n",
       "    </tr>\n",
       "  </thead>\n",
       "  <tbody>\n",
       "    <tr>\n",
       "      <th>971</th>\n",
       "      <td>280</td>\n",
       "      <td>SM</td>\n",
       "      <td>4</td>\n",
       "      <td>Interstate</td>\n",
       "      <td>SB</td>\n",
       "      <td>MULTILINESTRING ((-714011.252 9017582.423, -71...</td>\n",
       "    </tr>\n",
       "  </tbody>\n",
       "</table>\n",
       "</div>"
      ],
      "text/plain": [
       "     Route County  District   RouteType Direction  \\\n",
       "971    280     SM         4  Interstate        SB   \n",
       "\n",
       "                                              geometry  \n",
       "971  MULTILINESTRING ((-714011.252 9017582.423, -71...  "
      ]
     },
     "execution_count": 4,
     "metadata": {},
     "output_type": "execute_result"
    }
   ],
   "source": [
    "shn.sample()"
   ]
  },
  {
   "cell_type": "markdown",
   "id": "09a1eada-821c-49ef-a941-5348ac745022",
   "metadata": {},
   "source": [
    "### Dissolve it the same way but add back County/Route Type"
   ]
  },
  {
   "cell_type": "code",
   "execution_count": 5,
   "id": "4adc71a6-b506-4a7b-a364-6d89d4c1e669",
   "metadata": {
    "tags": []
   },
   "outputs": [],
   "source": [
    "shn_dissolved = (shn.dissolve(by=[\"Route\", \"District\"]).reset_index())[[\"Route\", \"District\", \"geometry\"]]"
   ]
  },
  {
   "cell_type": "code",
   "execution_count": 6,
   "id": "b05d390a-b170-4e53-8c65-826090ff0438",
   "metadata": {
    "tags": []
   },
   "outputs": [],
   "source": [
    "# Subset\n",
    "shn_wo_geo = shn.drop(columns = [\"geometry\", \"Direction\"])"
   ]
  },
  {
   "cell_type": "code",
   "execution_count": 9,
   "id": "880c4d90-f6ed-422d-808b-50e198e75bee",
   "metadata": {
    "tags": []
   },
   "outputs": [
    {
     "data": {
      "text/html": [
       "<div>\n",
       "<style scoped>\n",
       "    .dataframe tbody tr th:only-of-type {\n",
       "        vertical-align: middle;\n",
       "    }\n",
       "\n",
       "    .dataframe tbody tr th {\n",
       "        vertical-align: top;\n",
       "    }\n",
       "\n",
       "    .dataframe thead th {\n",
       "        text-align: right;\n",
       "    }\n",
       "</style>\n",
       "<table border=\"1\" class=\"dataframe\">\n",
       "  <thead>\n",
       "    <tr style=\"text-align: right;\">\n",
       "      <th></th>\n",
       "      <th>Route</th>\n",
       "      <th>County</th>\n",
       "      <th>District</th>\n",
       "      <th>RouteType</th>\n",
       "    </tr>\n",
       "  </thead>\n",
       "  <tbody>\n",
       "    <tr>\n",
       "      <th>948</th>\n",
       "      <td>267</td>\n",
       "      <td>PLA</td>\n",
       "      <td>3</td>\n",
       "      <td>State</td>\n",
       "    </tr>\n",
       "  </tbody>\n",
       "</table>\n",
       "</div>"
      ],
      "text/plain": [
       "     Route County  District RouteType\n",
       "948    267    PLA         3     State"
      ]
     },
     "execution_count": 9,
     "metadata": {},
     "output_type": "execute_result"
    }
   ],
   "source": [
    "shn_wo_geo.sample()"
   ]
  },
  {
   "cell_type": "code",
   "execution_count": 10,
   "id": "9182f687-3d60-47dd-b222-6ac9c361ce90",
   "metadata": {
    "tags": []
   },
   "outputs": [],
   "source": [
    "agg1 = (\n",
    "        shn_wo_geo.groupby(\n",
    "            [\"Route\", \"District\"],  # maybe comment out later\n",
    "            as_index=False,\n",
    "        )\n",
    "        .agg(\n",
    "            {\n",
    "                \"County\": lambda x: \", \".join(set(x.astype(str))),\n",
    "                \"RouteType\": lambda x: \", \".join(set(x.astype(str))),\n",
    "            }\n",
    "        )\n",
    "        .reset_index(drop=True)\n",
    "    )\n"
   ]
  },
  {
   "cell_type": "code",
   "execution_count": 13,
   "id": "b15071fc-613f-4c31-bdd3-7e17b29e0319",
   "metadata": {
    "tags": []
   },
   "outputs": [
    {
     "data": {
      "text/html": [
       "<div>\n",
       "<style scoped>\n",
       "    .dataframe tbody tr th:only-of-type {\n",
       "        vertical-align: middle;\n",
       "    }\n",
       "\n",
       "    .dataframe tbody tr th {\n",
       "        vertical-align: top;\n",
       "    }\n",
       "\n",
       "    .dataframe thead th {\n",
       "        text-align: right;\n",
       "    }\n",
       "</style>\n",
       "<table border=\"1\" class=\"dataframe\">\n",
       "  <thead>\n",
       "    <tr style=\"text-align: right;\">\n",
       "      <th></th>\n",
       "      <th>Route</th>\n",
       "      <th>District</th>\n",
       "      <th>County</th>\n",
       "      <th>RouteType</th>\n",
       "    </tr>\n",
       "  </thead>\n",
       "  <tbody>\n",
       "    <tr>\n",
       "      <th>53</th>\n",
       "      <td>32</td>\n",
       "      <td>3</td>\n",
       "      <td>BUT, GLE</td>\n",
       "      <td>State</td>\n",
       "    </tr>\n",
       "    <tr>\n",
       "      <th>20</th>\n",
       "      <td>9</td>\n",
       "      <td>4</td>\n",
       "      <td>SCL, SM</td>\n",
       "      <td>State</td>\n",
       "    </tr>\n",
       "    <tr>\n",
       "      <th>94</th>\n",
       "      <td>59</td>\n",
       "      <td>6</td>\n",
       "      <td>MAD</td>\n",
       "      <td>State</td>\n",
       "    </tr>\n",
       "    <tr>\n",
       "      <th>32</th>\n",
       "      <td>15</td>\n",
       "      <td>11</td>\n",
       "      <td>SD</td>\n",
       "      <td>State, Interstate</td>\n",
       "    </tr>\n",
       "    <tr>\n",
       "      <th>310</th>\n",
       "      <td>269</td>\n",
       "      <td>6</td>\n",
       "      <td>FRE, KIN</td>\n",
       "      <td>State</td>\n",
       "    </tr>\n",
       "    <tr>\n",
       "      <th>112</th>\n",
       "      <td>72</td>\n",
       "      <td>12</td>\n",
       "      <td>ORA</td>\n",
       "      <td>State</td>\n",
       "    </tr>\n",
       "    <tr>\n",
       "      <th>252</th>\n",
       "      <td>188</td>\n",
       "      <td>11</td>\n",
       "      <td>SD</td>\n",
       "      <td>State</td>\n",
       "    </tr>\n",
       "    <tr>\n",
       "      <th>97</th>\n",
       "      <td>60</td>\n",
       "      <td>8</td>\n",
       "      <td>SBD, RIV</td>\n",
       "      <td>State</td>\n",
       "    </tr>\n",
       "    <tr>\n",
       "      <th>102</th>\n",
       "      <td>65</td>\n",
       "      <td>6</td>\n",
       "      <td>TUL, KER</td>\n",
       "      <td>State</td>\n",
       "    </tr>\n",
       "    <tr>\n",
       "      <th>303</th>\n",
       "      <td>260</td>\n",
       "      <td>4</td>\n",
       "      <td>ALA</td>\n",
       "      <td>State</td>\n",
       "    </tr>\n",
       "  </tbody>\n",
       "</table>\n",
       "</div>"
      ],
      "text/plain": [
       "     Route  District    County          RouteType\n",
       "53      32         3  BUT, GLE              State\n",
       "20       9         4   SCL, SM              State\n",
       "94      59         6       MAD              State\n",
       "32      15        11        SD  State, Interstate\n",
       "310    269         6  FRE, KIN              State\n",
       "112     72        12       ORA              State\n",
       "252    188        11        SD              State\n",
       "97      60         8  SBD, RIV              State\n",
       "102     65         6  TUL, KER              State\n",
       "303    260         4       ALA              State"
      ]
     },
     "execution_count": 13,
     "metadata": {},
     "output_type": "execute_result"
    }
   ],
   "source": [
    "agg1.sample(10)"
   ]
  },
  {
   "cell_type": "markdown",
   "id": "c5968acb-bf92-41a0-b252-24fa9e89f378",
   "metadata": {},
   "source": [
    "### Merge"
   ]
  },
  {
   "cell_type": "code",
   "execution_count": 14,
   "id": "3da385ad-4acb-4105-b397-351c72542417",
   "metadata": {
    "tags": []
   },
   "outputs": [],
   "source": [
    "m1 = pd.merge(shn_dissolved, agg1, on = [\"Route\", \"District\"], indicator = True)"
   ]
  },
  {
   "cell_type": "code",
   "execution_count": 15,
   "id": "97b3be35-92bf-465b-a31f-da8038bcda6e",
   "metadata": {
    "tags": []
   },
   "outputs": [
    {
     "data": {
      "text/plain": [
       "both          344\n",
       "left_only       0\n",
       "right_only      0\n",
       "Name: _merge, dtype: int64"
      ]
     },
     "execution_count": 15,
     "metadata": {},
     "output_type": "execute_result"
    }
   ],
   "source": [
    "m1._merge.value_counts()"
   ]
  },
  {
   "cell_type": "code",
   "execution_count": 16,
   "id": "046796f1-926c-4b0e-b041-f07e70188cba",
   "metadata": {
    "tags": []
   },
   "outputs": [
    {
     "data": {
      "text/plain": [
       "geopandas.geodataframe.GeoDataFrame"
      ]
     },
     "execution_count": 16,
     "metadata": {},
     "output_type": "execute_result"
    }
   ],
   "source": [
    "type(m1)"
   ]
  },
  {
   "cell_type": "markdown",
   "id": "311c2985-3460-4dd9-a97b-903005355746",
   "metadata": {},
   "source": [
    "## 2nd Approach, just buffer the original map each time."
   ]
  },
  {
   "cell_type": "code",
   "execution_count": 56,
   "id": "b2f8d2f3-e262-4624-a2f9-bee887240fa0",
   "metadata": {
    "tags": []
   },
   "outputs": [],
   "source": [
    "def load_buffered_shn_map(buffer_amount:int, district:int) -> gpd.GeoDataFrame:\n",
    "    \"\"\"\n",
    "    Load buffered and dissolved version of the SHN that we can\n",
    "    use with the webmaps.\n",
    "    \"\"\"\n",
    "    SHN_FILE = catalog_utils.get_catalog(\"shared_data_catalog\").state_highway_network.urlpath\n",
    "\n",
    "    gdf = gpd.read_parquet(\n",
    "        SHN_FILE,\n",
    "        storage_options={\"token\": credentials.token},\n",
    "    ).to_crs(geography_utils.CA_NAD83Albers_ft)\n",
    "    \n",
    "    # Filter for the relevant district\n",
    "    gdf2 = gdf.loc[gdf.district == district]\n",
    "    \n",
    "    # Dissolve\n",
    "    gdf2 = gdf2.dissolve(by = [\"Route\",\"County\",\"District\", \"RouteType\"]).reset_index().drop(columns = [\"Direction\"])\n",
    "    \n",
    "    # Buffer\n",
    "    gdf2.geometry = gdf2.geometry.buffer(buffer_amount)\n",
    "    \n",
    "    # Rename the columns\n",
    "    gdf2 = gdf2.rename(columns = shn_map_readable_columns)\n",
    "    \n",
    "    # Change the CRS\n",
    "    gdf2 = gdf2.to_crs(geography_utils.CA_NAD83Albers_m)\n",
    "    return gdf2"
   ]
  },
  {
   "cell_type": "code",
   "execution_count": 43,
   "id": "d5f3285e-8b29-429f-886c-4bb9a7cb96e4",
   "metadata": {
    "tags": []
   },
   "outputs": [
    {
     "data": {
      "text/html": [
       "<div>\n",
       "<style scoped>\n",
       "    .dataframe tbody tr th:only-of-type {\n",
       "        vertical-align: middle;\n",
       "    }\n",
       "\n",
       "    .dataframe tbody tr th {\n",
       "        vertical-align: top;\n",
       "    }\n",
       "\n",
       "    .dataframe thead th {\n",
       "        text-align: right;\n",
       "    }\n",
       "</style>\n",
       "<table border=\"1\" class=\"dataframe\">\n",
       "  <thead>\n",
       "    <tr style=\"text-align: right;\">\n",
       "      <th></th>\n",
       "      <th>Route</th>\n",
       "      <th>County</th>\n",
       "      <th>District</th>\n",
       "      <th>RouteType</th>\n",
       "      <th>Direction</th>\n",
       "      <th>geometry</th>\n",
       "    </tr>\n",
       "  </thead>\n",
       "  <tbody>\n",
       "    <tr>\n",
       "      <th>525</th>\n",
       "      <td>99</td>\n",
       "      <td>SJ</td>\n",
       "      <td>10</td>\n",
       "      <td>State</td>\n",
       "      <td>SB</td>\n",
       "      <td>LINESTRING (-320535.414 9020876.522, -321247.0...</td>\n",
       "    </tr>\n",
       "  </tbody>\n",
       "</table>\n",
       "</div>"
      ],
      "text/plain": [
       "     Route County  District RouteType Direction  \\\n",
       "525     99     SJ        10     State        SB   \n",
       "\n",
       "                                              geometry  \n",
       "525  LINESTRING (-320535.414 9020876.522, -321247.0...  "
      ]
     },
     "execution_count": 43,
     "metadata": {},
     "output_type": "execute_result"
    }
   ],
   "source": [
    "shn.sample()"
   ]
  },
  {
   "cell_type": "code",
   "execution_count": 44,
   "id": "add9d23c-86ce-4e90-86c3-25166ef66b7d",
   "metadata": {
    "tags": []
   },
   "outputs": [],
   "source": [
    "shn_d4 = shn.loc[shn.District == 4]"
   ]
  },
  {
   "cell_type": "code",
   "execution_count": 45,
   "id": "c64d1611-6e54-40f8-b33e-9a04b315b6af",
   "metadata": {
    "tags": []
   },
   "outputs": [
    {
     "data": {
      "text/plain": [
       "(174, 6)"
      ]
     },
     "execution_count": 45,
     "metadata": {},
     "output_type": "execute_result"
    }
   ],
   "source": [
    "shn_d4.shape"
   ]
  },
  {
   "cell_type": "code",
   "execution_count": 46,
   "id": "c5a514d2-9e9c-4fed-8a68-a516f70731ff",
   "metadata": {
    "tags": []
   },
   "outputs": [],
   "source": [
    "shn_d4 = shn_d4.dissolve(by = [\"Route\",\"County\",\"District\", \"RouteType\"]).reset_index().drop(columns = [\"Direction\"])"
   ]
  },
  {
   "cell_type": "code",
   "execution_count": 47,
   "id": "277efff6-a439-4431-a12a-182f44189814",
   "metadata": {
    "tags": []
   },
   "outputs": [
    {
     "data": {
      "text/plain": [
       "(87, 5)"
      ]
     },
     "execution_count": 47,
     "metadata": {},
     "output_type": "execute_result"
    }
   ],
   "source": [
    "shn_d4.shape"
   ]
  },
  {
   "cell_type": "code",
   "execution_count": 48,
   "id": "c5cdac2e-88aa-4f86-bca5-54163a989dce",
   "metadata": {
    "tags": []
   },
   "outputs": [
    {
     "data": {
      "text/html": [
       "<div>\n",
       "<style scoped>\n",
       "    .dataframe tbody tr th:only-of-type {\n",
       "        vertical-align: middle;\n",
       "    }\n",
       "\n",
       "    .dataframe tbody tr th {\n",
       "        vertical-align: top;\n",
       "    }\n",
       "\n",
       "    .dataframe thead th {\n",
       "        text-align: right;\n",
       "    }\n",
       "</style>\n",
       "<table border=\"1\" class=\"dataframe\">\n",
       "  <thead>\n",
       "    <tr style=\"text-align: right;\">\n",
       "      <th></th>\n",
       "      <th>Route</th>\n",
       "      <th>County</th>\n",
       "      <th>District</th>\n",
       "      <th>RouteType</th>\n",
       "      <th>geometry</th>\n",
       "    </tr>\n",
       "  </thead>\n",
       "  <tbody>\n",
       "    <tr>\n",
       "      <th>21</th>\n",
       "      <td>37</td>\n",
       "      <td>SOL</td>\n",
       "      <td>4</td>\n",
       "      <td>State</td>\n",
       "      <td>MULTILINESTRING ((-638736.951 9176394.057, -63...</td>\n",
       "    </tr>\n",
       "  </tbody>\n",
       "</table>\n",
       "</div>"
      ],
      "text/plain": [
       "    Route County  District RouteType  \\\n",
       "21     37    SOL         4     State   \n",
       "\n",
       "                                             geometry  \n",
       "21  MULTILINESTRING ((-638736.951 9176394.057, -63...  "
      ]
     },
     "execution_count": 48,
     "metadata": {},
     "output_type": "execute_result"
    }
   ],
   "source": [
    "shn_d4.sample()"
   ]
  },
  {
   "cell_type": "code",
   "execution_count": 49,
   "id": "b6937589-30ed-407e-b842-b2dad788ca0b",
   "metadata": {
    "tags": []
   },
   "outputs": [],
   "source": [
    "shn_d4.geometry = shn_d4.geometry.buffer(50)"
   ]
  },
  {
   "cell_type": "code",
   "execution_count": 50,
   "id": "409e40b0-ebe9-47ec-91ea-0c03f79cc3a8",
   "metadata": {
    "tags": []
   },
   "outputs": [
    {
     "data": {
      "text/html": [
       "<div>\n",
       "<style scoped>\n",
       "    .dataframe tbody tr th:only-of-type {\n",
       "        vertical-align: middle;\n",
       "    }\n",
       "\n",
       "    .dataframe tbody tr th {\n",
       "        vertical-align: top;\n",
       "    }\n",
       "\n",
       "    .dataframe thead th {\n",
       "        text-align: right;\n",
       "    }\n",
       "</style>\n",
       "<table border=\"1\" class=\"dataframe\">\n",
       "  <thead>\n",
       "    <tr style=\"text-align: right;\">\n",
       "      <th></th>\n",
       "      <th>Route</th>\n",
       "      <th>County</th>\n",
       "      <th>District</th>\n",
       "      <th>RouteType</th>\n",
       "      <th>geometry</th>\n",
       "    </tr>\n",
       "  </thead>\n",
       "  <tbody>\n",
       "    <tr>\n",
       "      <th>22</th>\n",
       "      <td>37</td>\n",
       "      <td>SON</td>\n",
       "      <td>4</td>\n",
       "      <td>State</td>\n",
       "      <td>POLYGON ((-719797.932 9168969.782, -719799.443...</td>\n",
       "    </tr>\n",
       "  </tbody>\n",
       "</table>\n",
       "</div>"
      ],
      "text/plain": [
       "    Route County  District RouteType  \\\n",
       "22     37    SON         4     State   \n",
       "\n",
       "                                             geometry  \n",
       "22  POLYGON ((-719797.932 9168969.782, -719799.443...  "
      ]
     },
     "execution_count": 50,
     "metadata": {},
     "output_type": "execute_result"
    }
   ],
   "source": [
    "shn_d4.sample()"
   ]
  },
  {
   "cell_type": "code",
   "execution_count": 53,
   "id": "878cfd72-a91b-488a-ae7f-8246e08ae260",
   "metadata": {
    "tags": []
   },
   "outputs": [],
   "source": [
    "shn_d4 = shn_d4.to_crs(geography_utils.CA_NAD83Albers_m)"
   ]
  },
  {
   "cell_type": "code",
   "execution_count": 51,
   "id": "8da7c0f8-2664-4911-a779-9c9ab1518ed4",
   "metadata": {
    "tags": []
   },
   "outputs": [],
   "source": [
    "# shn_d4.explore()"
   ]
  },
  {
   "cell_type": "code",
   "execution_count": 54,
   "id": "4d526500-528d-48f2-9438-769dcd1edcba",
   "metadata": {
    "tags": []
   },
   "outputs": [
    {
     "name": "stderr",
     "output_type": "stream",
     "text": [
      "/home/jovyan/data-analyses/_shared_utils/shared_utils/webmap_utils.py:118: UserWarning: Geometry is in a geographic CRS. Results from 'centroid' are likely incorrect. Use 'GeoSeries.to_crs()' to re-project geometries to a projected CRS before this operation.\n",
      "\n",
      "  centroid = (gdf.geometry.centroid.y.mean(), gdf.geometry.centroid.x.mean())\n"
     ]
    }
   ],
   "source": [
    "shn_map = webmap_utils.set_state_export(\n",
    "    shn_d4,\n",
    "    filename=\"test_cc_routes1\",\n",
    "    map_type = 'state_highway_network',\n",
    "    map_title=\"SHN route\",\n",
    ")"
   ]
  },
  {
   "cell_type": "code",
   "execution_count": 55,
   "id": "a4a79f00-f9e9-4441-a9cf-9c2978bbe8b9",
   "metadata": {
    "tags": []
   },
   "outputs": [
    {
     "data": {
      "text/html": [
       "\n",
       "        <iframe\n",
       "            width=\"1000\"\n",
       "            height=\"650\"\n",
       "            src=\"https://embeddable-maps.calitp.org/?state=eyJuYW1lIjogIm51bGwiLCAibGF5ZXJzIjogW3sibmFtZSI6ICJTSE4gcm91dGUiLCAidXJsIjogImh0dHBzOi8vc3RvcmFnZS5nb29nbGVhcGlzLmNvbS9jYWxpdHAtbWFwLXRpbGVzL3Rlc3RpbmcvdGVzdF9jY19yb3V0ZXMxLmdlb2pzb24uZ3oiLCAicHJvcGVydGllcyI6IHsic3Ryb2tlZCI6IGZhbHNlLCAiaGlnaGxpZ2h0X3NhdHVyYXRpb25fbXVsdGlwbGllciI6IDAuNX0sICJ0eXBlIjogInN0YXRlX2hpZ2h3YXlfbmV0d29yayJ9XSwgImxhdF9sb24iOiBbMzcuODExOTI2NzE1MjU3OTYsIC0xMjIuMTgzMzQyNTM4MjIwNjldLCAiem9vbSI6IDEzfQ==\"\n",
       "            frameborder=\"0\"\n",
       "            allowfullscreen\n",
       "            \n",
       "        ></iframe>\n",
       "        "
      ],
      "text/plain": [
       "<IPython.lib.display.IFrame at 0x7e0a2c696090>"
      ]
     },
     "metadata": {},
     "output_type": "display_data"
    }
   ],
   "source": [
    "webmap_utils.display_spa_map(shn_map[\"spa_link\"])"
   ]
  }
 ],
 "metadata": {
  "kernelspec": {
   "display_name": "Python 3 (ipykernel)",
   "language": "python",
   "name": "python3"
  },
  "language_info": {
   "codemirror_mode": {
    "name": "ipython",
    "version": 3
   },
   "file_extension": ".py",
   "mimetype": "text/x-python",
   "name": "python",
   "nbconvert_exporter": "python",
   "pygments_lexer": "ipython3",
   "version": "3.11.10"
  }
 },
 "nbformat": 4,
 "nbformat_minor": 5
}
