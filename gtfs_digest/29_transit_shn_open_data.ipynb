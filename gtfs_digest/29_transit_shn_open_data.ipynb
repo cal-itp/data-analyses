{
 "cells": [
  {
   "cell_type": "markdown",
   "id": "9faa3e1f-7c0f-4c6e-81f2-34ed1e1ddde9",
   "metadata": {},
   "source": [
    "# Add SHN Info to Transit Routes in the middle of the Pipeline"
   ]
  },
  {
   "cell_type": "code",
   "execution_count": null,
   "id": "14ea6238-52b2-4221-b806-39062daa8a85",
   "metadata": {
    "tags": []
   },
   "outputs": [],
   "source": [
    "import datetime\n",
    "\n",
    "import geopandas as gpd\n",
    "import google.auth\n",
    "import numpy as np\n",
    "import pandas as pd\n",
    "import yaml\n",
    "from calitp_data_analysis import geography_utils, utils\n",
    "from calitp_data_analysis.geography_utils import WGS84\n",
    "from segment_speed_utils import helpers\n",
    "from shared_utils import (\n",
    "    catalog_utils,\n",
    "    portfolio_utils,\n",
    "    publish_utils,\n",
    "    rt_dates,\n",
    "    rt_utils,\n",
    "    schedule_rt_utils,\n",
    ")\n",
    "from update_vars import GTFS_DATA_DICT, RT_SCHED_GCS, SCHED_GCS, SEGMENT_GCS\n",
    "\n",
    "credentials, project = google.auth.default()\n",
    "\n",
    "import gcsfs\n",
    "\n",
    "fs = gcsfs.GCSFileSystem()\n",
    "\n",
    "\n",
    "# import sys\n",
    "# sys.path.append(\"../open_data\")\n",
    "# import create_routes_data"
   ]
  },
  {
   "cell_type": "code",
   "execution_count": null,
   "id": "d79035fe-8ad0-49b6-a309-1a95ea3864f3",
   "metadata": {
    "tags": []
   },
   "outputs": [],
   "source": [
    "pd.options.display.max_columns = 100\n",
    "pd.options.display.float_format = \"{:.2f}\".format\n",
    "pd.set_option(\"display.max_rows\", None)\n",
    "pd.set_option(\"display.max_colwidth\", None)"
   ]
  },
  {
   "cell_type": "code",
   "execution_count": null,
   "id": "1b82a1f9-c814-45bb-bdae-c343f082ff68",
   "metadata": {
    "tags": []
   },
   "outputs": [],
   "source": [
    "analysis_date = rt_dates.DATES[\"jun2025\"]"
   ]
  },
  {
   "cell_type": "markdown",
   "id": "27f8a720-e530-4d27-a455-dc08da7b90d8",
   "metadata": {},
   "source": [
    "## Take result from `open_data/create_routes_data`"
   ]
  },
  {
   "cell_type": "code",
   "execution_count": null,
   "id": "913f7efa-7c92-41ad-be10-b73e5ed73bd1",
   "metadata": {
    "tags": []
   },
   "outputs": [],
   "source": [
    "SHN_HWY_BUFFER_FEET = 50"
   ]
  },
  {
   "cell_type": "code",
   "execution_count": null,
   "id": "e4ffa02e-2bc6-405d-ab9c-4563e6ae3060",
   "metadata": {
    "tags": []
   },
   "outputs": [],
   "source": [
    "GTFS_DATA_DICT = catalog_utils.get_catalog(\"gtfs_analytics_data\")\n",
    "f\"{GTFS_DATA_DICT.gcs_paths.GCS}AH_TEST_traffic_ops/\""
   ]
  },
  {
   "cell_type": "code",
   "execution_count": null,
   "id": "9db2b7b0-a1bd-451e-8fb4-75df40d02476",
   "metadata": {
    "tags": []
   },
   "outputs": [],
   "source": [
    "gdf = gpd.read_parquet(\n",
    "    \"gs://calitp-analytics-data/data-analyses/AH_TEST_traffic_ops/ca_transit_routes_2025-06-11.parquet\",\n",
    "    storage_options={\"token\": credentials.token},\n",
    ")"
   ]
  },
  {
   "cell_type": "code",
   "execution_count": null,
   "id": "8f181eb7-11b6-458c-acd0-36e3b1965cc3",
   "metadata": {
    "tags": []
   },
   "outputs": [],
   "source": [
    "gdf.columns"
   ]
  },
  {
   "cell_type": "markdown",
   "id": "c43d9b31-eacb-44da-b6d1-3592529f7973",
   "metadata": {},
   "source": [
    "### Drop duplicates: the dataframes goes down by 1000 rows."
   ]
  },
  {
   "cell_type": "code",
   "execution_count": null,
   "id": "2dc1a21b-2afd-451d-8923-6ae920544c01",
   "metadata": {
    "tags": []
   },
   "outputs": [],
   "source": [
    "len(gdf.drop_duplicates())"
   ]
  },
  {
   "cell_type": "code",
   "execution_count": null,
   "id": "01fd7680-22d8-454b-bd0e-9aa6c081962b",
   "metadata": {},
   "outputs": [],
   "source": [
    "gdf = gdf.drop_duplicates()"
   ]
  },
  {
   "cell_type": "code",
   "execution_count": null,
   "id": "31c0219a-1578-4a2c-b824-c035b1d21261",
   "metadata": {
    "tags": []
   },
   "outputs": [],
   "source": [
    "gdf.loc[gdf.pct_route_on_hwy_across_districts > 20].sample(3).drop(\n",
    "    columns=[\"geometry\", \"base64_url\", \"schedule_gtfs_dataset_key\"]\n",
    ").T"
   ]
  },
  {
   "cell_type": "code",
   "execution_count": null,
   "id": "d788450f-7d47-440d-ad34-13fdb77b5edc",
   "metadata": {},
   "outputs": [],
   "source": [
    "gdf.on_shs.value_counts()"
   ]
  },
  {
   "cell_type": "code",
   "execution_count": null,
   "id": "4e31a282-6928-43aa-a046-8bacf81e60ce",
   "metadata": {
    "tags": []
   },
   "outputs": [],
   "source": [
    "gdf.pct_route_on_hwy_across_districts.describe()"
   ]
  },
  {
   "cell_type": "code",
   "execution_count": null,
   "id": "fdb0232f-73be-4cdd-b4c2-10b3e5298168",
   "metadata": {
    "tags": []
   },
   "outputs": [],
   "source": [
    "gdf.columns"
   ]
  },
  {
   "cell_type": "code",
   "execution_count": null,
   "id": "88db2bbb-15f4-40fe-89bb-b63180ce0736",
   "metadata": {
    "tags": []
   },
   "outputs": [],
   "source": [
    "gdf.route_name_used.nunique()"
   ]
  },
  {
   "cell_type": "code",
   "execution_count": null,
   "id": "8bdecd1d-a56d-4cb2-beb3-59441707d043",
   "metadata": {
    "tags": []
   },
   "outputs": [],
   "source": [
    "shn_district_df = gpd.read_parquet(\n",
    "    f\"gs://calitp-analytics-data/data-analyses/state_highway_network/shn_buffered_50_ft_ct_district_route.parquet\",\n",
    "    storage_options={\"token\": credentials.token},\n",
    ")"
   ]
  },
  {
   "cell_type": "code",
   "execution_count": null,
   "id": "0c8c40cd-48bd-4f4d-b1ef-1efd594c276c",
   "metadata": {
    "tags": []
   },
   "outputs": [],
   "source": [
    "shn_district_df.columns"
   ]
  },
  {
   "cell_type": "code",
   "execution_count": null,
   "id": "47a4db1d-c8cf-403b-b687-255dfa839cc9",
   "metadata": {
    "tags": []
   },
   "outputs": [],
   "source": [
    "GCS_FILE_PATH = \"gs://calitp-analytics-data/data-analyses/state_highway_network/\"\n",
    "shn_gdf = gpd.read_parquet(\n",
    "    f\"{GCS_FILE_PATH}shn_buffered_{SHN_HWY_BUFFER_FEET}_gtfs_digest.parquet\",\n",
    "    storage_options={\"token\": credentials.token},\n",
    ")"
   ]
  },
  {
   "cell_type": "code",
   "execution_count": null,
   "id": "b7272a22-a0d0-4a93-8b34-69351f2a528d",
   "metadata": {
    "tags": []
   },
   "outputs": [],
   "source": [
    "len(shn_gdf)"
   ]
  },
  {
   "cell_type": "code",
   "execution_count": null,
   "id": "a10d2299-6b4c-44eb-8025-eb9e5f2c4be9",
   "metadata": {
    "tags": []
   },
   "outputs": [],
   "source": [
    "m = shn_gdf.explore(\n",
    "    name=\"district\",\n",
    "    tiles=\"CartoDB positron\",\n",
    "    style_kwds={\"color\": \"#9DA4A6\", \"opacity\": 0.5},\n",
    "    height=500,\n",
    "    width=1000,\n",
    "    legend=False,\n",
    ")"
   ]
  },
  {
   "cell_type": "code",
   "execution_count": null,
   "id": "0d94a9c6-5852-4614-98ec-93ee409b940a",
   "metadata": {
    "tags": []
   },
   "outputs": [],
   "source": [
    "one_route = gdf.loc[(gdf.route_name_used == \"RTS\") & (gdf.shape_id == \"p_1439962\")]"
   ]
  },
  {
   "cell_type": "code",
   "execution_count": null,
   "id": "878a9651-8216-4a60-adcf-265725160d3a",
   "metadata": {
    "tags": []
   },
   "outputs": [],
   "source": [
    "one_route.drop(columns=[\"geometry\"])"
   ]
  },
  {
   "cell_type": "code",
   "execution_count": null,
   "id": "1002a4e5-f1f5-4252-b5ad-c873029744a6",
   "metadata": {
    "tags": []
   },
   "outputs": [],
   "source": [
    "one_route.explore(\n",
    "    m=m,\n",
    "    cmap=\"Spectral\",\n",
    "    categorical=True,\n",
    "    legend=False,\n",
    "    legend_kwds={\"width\": 200},\n",
    ")"
   ]
  },
  {
   "cell_type": "markdown",
   "id": "5739a605-ad5c-4520-b1b7-067db77f4735",
   "metadata": {},
   "source": [
    "## Overlay the geodataframe with the buffered state highway routes."
   ]
  },
  {
   "cell_type": "code",
   "execution_count": null,
   "id": "9e7f83c0-7075-4421-80e7-a8da795687cd",
   "metadata": {
    "tags": []
   },
   "outputs": [],
   "source": [
    "def routes_shn_intersection(\n",
    "    routes_gdf: gpd.GeoDataFrame, buffer_amount: int, file_name: str\n",
    ") -> gpd.GeoDataFrame:\n",
    "    \"\"\"\n",
    "    Overlay the most recent transit routes with a buffered version\n",
    "    of the SHN\n",
    "    \"\"\"\n",
    "    GCS_FILE_PATH = \"gs://calitp-analytics-data/data-analyses/state_highway_network/\"\n",
    "\n",
    "    # Read in buffered shn here or re buffer if we don't have it available.\n",
    "    HWY_FILE = f\"{GCS_FILE_PATH}shn_buffered_{buffer_amount}_ft_{file_name}.parquet\"\n",
    "\n",
    "    if fs.exists(HWY_FILE):\n",
    "        shn_routes_gdf = gpd.read_parquet(\n",
    "            HWY_FILE, storage_options={\"token\": credentials.token}\n",
    "        )\n",
    "    else:\n",
    "        shn_routes_gdf = buffer_shn(buffer_amount)\n",
    "\n",
    "    # Process the most recent transit route geographies and ensure the\n",
    "    # CRS matches the SHN routes' GDF so the overlay doesn't go wonky.\n",
    "    routes_gdf = routes_gdf.to_crs(shn_routes_gdf.crs)\n",
    "\n",
    "    # Overlay transit routes with the SHN geographies.\n",
    "    gdf = gpd.overlay(\n",
    "        routes_gdf, shn_routes_gdf, how=\"intersection\", keep_geom_type=True\n",
    "    )\n",
    "\n",
    "    # Calcuate the percent of the transit route that runs on a highway, round it up and\n",
    "    # multiply it by 100. Drop the geometry because we want the original transit route\n",
    "    # shapes.\n",
    "    gdf = gdf.assign(\n",
    "        pct_route_on_hwy=(gdf.geometry.length / gdf.route_length_feet).round(3) * 100,\n",
    "    )\n",
    "\n",
    "    gdf = gdf.rename(\n",
    "        columns={\n",
    "            \"pct_route_on_hwy\": \"pct_route_on_hwy_across_districts\",\n",
    "            \"district\": \"shn_districts\",\n",
    "        }\n",
    "    )\n",
    "    return gdf"
   ]
  },
  {
   "cell_type": "code",
   "execution_count": null,
   "id": "87219e72-a66b-4ff7-a31f-b66e0f877c52",
   "metadata": {
    "tags": []
   },
   "outputs": [],
   "source": [
    "intersecting = routes_shn_intersection(gdf, SHN_HWY_BUFFER_FEET, \"ct_district_route\")"
   ]
  },
  {
   "cell_type": "code",
   "execution_count": null,
   "id": "36b39c5e-a39b-438d-a6cd-d499f4775c99",
   "metadata": {
    "tags": []
   },
   "outputs": [],
   "source": [
    "intersecting.route_name_used.nunique()"
   ]
  },
  {
   "cell_type": "code",
   "execution_count": null,
   "id": "ef2ac2b0-a77f-41fa-bc1a-fa2f0a743189",
   "metadata": {
    "tags": []
   },
   "outputs": [],
   "source": [
    "intersecting.columns"
   ]
  },
  {
   "cell_type": "code",
   "execution_count": null,
   "id": "5e86b699-9205-40d9-8ba0-b626a792dd8e",
   "metadata": {
    "tags": []
   },
   "outputs": [],
   "source": [
    "def group_route_district(df: pd.DataFrame, pct_route_on_hwy_agg: str) -> pd.DataFrame:\n",
    "    \"\"\"\n",
    "    Aggregate by adding all the districts and SHN to a single row, rather than\n",
    "    multiple and sum up the total % of SHN a transit route intersects with.\n",
    "\n",
    "    df: the dataframe you want to aggregate\n",
    "    pct_route_on_hwy_agg: whether you want to find the max, min, sum, etc on the column\n",
    "    \"pct_route_on_hwy_across_districts\"\n",
    "    \"\"\"\n",
    "\n",
    "    agg1 = (\n",
    "        df.groupby(\n",
    "            [\n",
    "                \"n_trips\",\n",
    "                \"schedule_gtfs_dataset_key\",\n",
    "                \"route_id\",\n",
    "                \"route_type\",\n",
    "                \"shape_id\",\n",
    "                \"route_name_used\",\n",
    "                \"name\",\n",
    "                \"base64_url\",\n",
    "                \"organization_source_record_id\",\n",
    "                \"organization_name\",\n",
    "                \"caltrans_district\",\n",
    "            ],\n",
    "            as_index=False,\n",
    "        )[[\"shn_route\", \"shn_districts\", \"pct_route_on_hwy_across_districts\"]]\n",
    "        .agg(\n",
    "            {\n",
    "                \"shn_route\": lambda x: \", \".join(set(x.astype(str))),\n",
    "                \"shn_districts\": lambda x: \", \".join(set(x.astype(str))),\n",
    "                \"pct_route_on_hwy_across_districts\": pct_route_on_hwy_agg,\n",
    "            }\n",
    "        )\n",
    "        .reset_index(drop=True)\n",
    "    )\n",
    "\n",
    "    # Clean up\n",
    "    agg1.pct_route_on_hwy_across_districts = (\n",
    "        agg1.pct_route_on_hwy_across_districts.astype(float).round(2)\n",
    "    )\n",
    "\n",
    "    return agg1"
   ]
  },
  {
   "cell_type": "code",
   "execution_count": null,
   "id": "cce6f294-39b0-4458-afde-ff8240e604c3",
   "metadata": {
    "tags": []
   },
   "outputs": [],
   "source": [
    "agg1 = group_route_district(intersecting, \"sum\")"
   ]
  },
  {
   "cell_type": "code",
   "execution_count": null,
   "id": "a6514fdd-5dc8-4dc9-bd91-1d7a09c476ac",
   "metadata": {
    "scrolled": true,
    "tags": []
   },
   "outputs": [],
   "source": [
    "agg1.loc[agg1.pct_route_on_hwy_across_districts > 100]"
   ]
  },
  {
   "cell_type": "code",
   "execution_count": null,
   "id": "69df2b5e-0177-47ac-84a5-abd0b86bc68d",
   "metadata": {
    "tags": []
   },
   "outputs": [],
   "source": [
    "agg1.pct_route_on_hwy_across_districts.describe()"
   ]
  },
  {
   "cell_type": "code",
   "execution_count": null,
   "id": "8b08d66a-4129-4b56-a83f-9c8803be29f1",
   "metadata": {
    "tags": []
   },
   "outputs": [],
   "source": [
    "len(agg1)"
   ]
  },
  {
   "cell_type": "code",
   "execution_count": null,
   "id": "6635287e-2726-4d7f-b689-f657fbb44e35",
   "metadata": {
    "tags": []
   },
   "outputs": [],
   "source": [
    "gdf.route_id.nunique()"
   ]
  },
  {
   "cell_type": "code",
   "execution_count": null,
   "id": "671eb759-7191-4af5-b732-daf5a78c7289",
   "metadata": {
    "tags": []
   },
   "outputs": [],
   "source": [
    "len(gdf)"
   ]
  },
  {
   "cell_type": "code",
   "execution_count": null,
   "id": "9db1679e-6118-4a93-9d39-a58ef025e96b",
   "metadata": {
    "tags": []
   },
   "outputs": [],
   "source": [
    "agg1.route_id.nunique()"
   ]
  },
  {
   "cell_type": "code",
   "execution_count": null,
   "id": "cb027945-c3bc-4915-bdcc-054916015ec2",
   "metadata": {
    "tags": []
   },
   "outputs": [],
   "source": [
    "agg1.sample()"
   ]
  },
  {
   "cell_type": "markdown",
   "id": "034971b8-e3f4-41b3-82eb-9c411af3d35d",
   "metadata": {
    "tags": []
   },
   "source": [
    "## Merge agg1 back with the original dataframe"
   ]
  },
  {
   "cell_type": "code",
   "execution_count": null,
   "id": "a0f62a9c-b31f-41e8-837e-6cdcd968352d",
   "metadata": {
    "tags": []
   },
   "outputs": [],
   "source": [
    "m1 = pd.merge(gdf, agg1, how=\"outer\", indicator=True)"
   ]
  },
  {
   "cell_type": "code",
   "execution_count": null,
   "id": "edb63860-0c3c-437e-8b34-7d33d5f2c66e",
   "metadata": {},
   "outputs": [],
   "source": [
    "m1.loc[m1.]"
   ]
  },
  {
   "cell_type": "code",
   "execution_count": null,
   "id": "6a2329e4-1577-4556-9eab-b775032ddf9e",
   "metadata": {
    "tags": []
   },
   "outputs": [],
   "source": [
    "m1._merge.value_counts()"
   ]
  },
  {
   "cell_type": "code",
   "execution_count": null,
   "id": "f09ada9f-bae5-48d7-9a59-26e117a835e3",
   "metadata": {
    "tags": []
   },
   "outputs": [],
   "source": [
    "m1.info()"
   ]
  },
  {
   "cell_type": "code",
   "execution_count": null,
   "id": "e8b24957-8cc4-4bcb-a266-7ce4b88016ec",
   "metadata": {
    "tags": []
   },
   "outputs": [],
   "source": [
    "m1.shape"
   ]
  },
  {
   "cell_type": "code",
   "execution_count": null,
   "id": "81b6cb02-28ad-492b-8baa-6bb3d3234988",
   "metadata": {
    "tags": []
   },
   "outputs": [],
   "source": [
    "len(gdf)"
   ]
  },
  {
   "cell_type": "code",
   "execution_count": null,
   "id": "1829f261-c350-47f1-9544-6cd203b261cd",
   "metadata": {
    "tags": []
   },
   "outputs": [],
   "source": [
    "type(m1)"
   ]
  },
  {
   "cell_type": "code",
   "execution_count": null,
   "id": "fcb1448a-664a-4f3a-af76-f220dbc43022",
   "metadata": {
    "tags": []
   },
   "outputs": [],
   "source": [
    "def create_on_shs_column(df):\n",
    "    df[\"on_shs\"] = np.where(\n",
    "        (df[\"pct_route_on_hwy_across_districts\"].isna())\n",
    "        | (df[\"pct_route_on_hwy_across_districts\"] == 0),\n",
    "        \"N\",\n",
    "        \"Y\",\n",
    "    )\n",
    "    return df"
   ]
  },
  {
   "cell_type": "code",
   "execution_count": null,
   "id": "04982688-6618-4eb2-97da-e35361eef913",
   "metadata": {
    "tags": []
   },
   "outputs": [],
   "source": [
    "m1 = create_on_shs_column(m1)"
   ]
  },
  {
   "cell_type": "code",
   "execution_count": null,
   "id": "20fc98ca-1028-4682-98b8-68da47fdf86f",
   "metadata": {
    "tags": []
   },
   "outputs": [],
   "source": [
    "m1.loc[\n",
    "    (m1[\"on_shs\"] == \"N\") & (m1[\"shn_districts\"] != \"0\"),\n",
    "    [\"shn_districts\", \"shn_route\"],\n",
    "] = np.nan"
   ]
  },
  {
   "cell_type": "code",
   "execution_count": null,
   "id": "2cf3b0ed-1074-4e10-83e8-71f897b820d2",
   "metadata": {
    "tags": []
   },
   "outputs": [],
   "source": [
    "m1.on_shs.value_counts()"
   ]
  },
  {
   "cell_type": "code",
   "execution_count": null,
   "id": "e4c1148d-99ea-4373-bef0-b1a8fd81997e",
   "metadata": {
    "tags": []
   },
   "outputs": [],
   "source": [
    "m1.drop(columns=[\"geometry\", \"base64_url\"]).sample(3)"
   ]
  },
  {
   "cell_type": "markdown",
   "id": "48d9394e-6a57-4d7e-941f-5bec6d442194",
   "metadata": {},
   "source": [
    "### Map"
   ]
  },
  {
   "cell_type": "code",
   "execution_count": null,
   "id": "db91ab6e-fc11-4b3b-a129-23247826b29c",
   "metadata": {
    "tags": []
   },
   "outputs": [],
   "source": []
  },
  {
   "cell_type": "code",
   "execution_count": null,
   "id": "15c635b8-6c1e-49fc-a9e0-321459dc3dcf",
   "metadata": {
    "tags": []
   },
   "outputs": [],
   "source": [
    "GCS_FILE_PATH = \"gs://calitp-analytics-data/data-analyses/state_highway_network/\"\n",
    "shn_gdf = gpd.read_parquet(\n",
    "    f\"{GCS_FILE_PATH}shn_buffered_{SHN_HWY_BUFFER_FEET}_gtfs_digest.parquet\",\n",
    "    storage_options={\"token\": credentials.token},\n",
    ")"
   ]
  },
  {
   "cell_type": "code",
   "execution_count": null,
   "id": "f7364b10-15d3-4442-bb9d-3a2f6dec014a",
   "metadata": {
    "tags": []
   },
   "outputs": [],
   "source": [
    "m = shn_gdf.explore(\n",
    "    name=\"district\",\n",
    "    tiles=\"CartoDB positron\",\n",
    "    style_kwds={\"color\": \"#9DA4A6\", \"opacity\": 0.5},\n",
    "    height=500,\n",
    "    width=1000,\n",
    "    legend=False,\n",
    ")"
   ]
  },
  {
   "cell_type": "code",
   "execution_count": null,
   "id": "c8b388b7-843a-48ef-ae07-a9a81f4632cf",
   "metadata": {
    "tags": []
   },
   "outputs": [],
   "source": [
    "one_route = intersecting.loc[\n",
    "    (intersecting.route_name_used == \"RTS\") & (intersecting.shape_id == \"p_1439962\")\n",
    "]"
   ]
  },
  {
   "cell_type": "code",
   "execution_count": null,
   "id": "a54fc137-cd4f-43d7-b162-ca39f3ad94e4",
   "metadata": {
    "tags": []
   },
   "outputs": [],
   "source": [
    "\"\"\" one_route.explore(\n",
    "    m=m,\n",
    "    cmap=\"Spectral\",\n",
    "    categorical=True,\n",
    "    legend=False,\n",
    "    legend_kwds={\"width\": 200},\n",
    ")\"\"\""
   ]
  },
  {
   "cell_type": "markdown",
   "id": "da2d32f6-2b4b-4156-a066-f4e9dca392ef",
   "metadata": {},
   "source": [
    "## Function"
   ]
  },
  {
   "cell_type": "code",
   "execution_count": null,
   "id": "90d78fdc-4af6-47b8-b030-a006c7514b17",
   "metadata": {
    "tags": []
   },
   "outputs": [],
   "source": [
    "def add_shn_information(gdf: gpd.GeoDataFrame, buffer_amt: int) -> pd.DataFrame:\n",
    "    \"\"\"\n",
    "    Prepare the gdf to join with the existing transit_routes\n",
    "    dataframe that is published on the Open Data Portal\n",
    "    \"\"\"\n",
    "    # Drop duplicates\n",
    "    gdf = gdf.drop_duplicates()\n",
    "    # Overlay\n",
    "    intersecting = routes_shn_intersection(gdf, buffer_amt, \"ct_district_route\")\n",
    "\n",
    "    # Group the dataframe so that one route only has one\n",
    "    # row instead of multiple rows after finding its\n",
    "    # intersection with any SHN routes.\n",
    "    agg1 = group_route_district(intersecting, \"sum\")\n",
    "\n",
    "    # Merge the dataframe with all the SHS info with the original\n",
    "    # gdf so we can get the original transit route geometries &\n",
    "    # any routes that don't intersect with the state highway routes.\n",
    "    m1 = pd.merge(gdf, agg1, how=\"left\")\n",
    "\n",
    "    # Add yes/no column to signify if a transit route intersects\n",
    "    # with a SHN route\n",
    "    m1 = create_on_shs_column(m1)\n",
    "\n",
    "    # Clean up rows that are tagged as \"on_shs==N\" but still have values\n",
    "    # that appear.\n",
    "    m1.loc[\n",
    "        (m1[\"on_shs\"] == \"N\") & (m1[\"shn_districts\"] != \"0\"),\n",
    "        [\"shn_districts\", \"shn_route\"],\n",
    "    ] = np.nan\n",
    "    return m1"
   ]
  },
  {
   "cell_type": "code",
   "execution_count": null,
   "id": "ad10d52a-416a-4f56-906a-ffc95687ee11",
   "metadata": {
    "tags": []
   },
   "outputs": [],
   "source": [
    "og_gdf = gpd.read_parquet(\n",
    "    \"gs://calitp-analytics-data/data-analyses/AH_TEST_traffic_ops/ca_transit_routes_2025-06-11.parquet\",\n",
    "    storage_options={\"token\": credentials.token},\n",
    ")"
   ]
  },
  {
   "cell_type": "code",
   "execution_count": null,
   "id": "7fabb560-367e-462d-a247-dad7490f5411",
   "metadata": {
    "tags": []
   },
   "outputs": [],
   "source": [
    "test = add_shn_information(og_gdf, SHN_HWY_BUFFER_FEET)"
   ]
  },
  {
   "cell_type": "code",
   "execution_count": null,
   "id": "2dc7bcfe-4126-4ae1-b4ec-59f2fd7bca66",
   "metadata": {
    "tags": []
   },
   "outputs": [],
   "source": [
    "test.shape"
   ]
  },
  {
   "cell_type": "code",
   "execution_count": null,
   "id": "5c92d9d5-c1e4-457b-8594-3714945611e3",
   "metadata": {
    "tags": []
   },
   "outputs": [],
   "source": [
    "test.columns"
   ]
  },
  {
   "cell_type": "code",
   "execution_count": null,
   "id": "9f1c14ff-e323-4175-acd4-ee340181dde3",
   "metadata": {
    "tags": []
   },
   "outputs": [],
   "source": [
    "test.geometry.is_valid.value_counts()"
   ]
  },
  {
   "cell_type": "code",
   "execution_count": null,
   "id": "ae0bc3db-9944-490c-85ad-d9ee1fae0a38",
   "metadata": {
    "tags": []
   },
   "outputs": [],
   "source": [
    "gdf_from_function = gpd.read_parquet(\n",
    "    \"gs://calitp-analytics-data/data-analyses/AH_TEST_traffic_ops/ca_transit_routes.parquet\",\n",
    "    storage_options={\"token\": credentials.token},\n",
    ")"
   ]
  },
  {
   "cell_type": "code",
   "execution_count": null,
   "id": "97a68596-2c31-4268-9428-38423be48d70",
   "metadata": {
    "tags": []
   },
   "outputs": [],
   "source": [
    "gdf_from_function2 = gpd.read_parquet(\n",
    "    \"gs://calitp-analytics-data/data-analyses/AH_TEST_traffic_ops/ca_transit_routes_2025-06-11.parquet\",\n",
    "    storage_options={\"token\": credentials.token},\n",
    ")"
   ]
  },
  {
   "cell_type": "code",
   "execution_count": null,
   "id": "9efb3867-340c-4a48-910a-08bde6e35c26",
   "metadata": {
    "tags": []
   },
   "outputs": [],
   "source": [
    "gdf_from_function2.shape"
   ]
  },
  {
   "cell_type": "code",
   "execution_count": null,
   "id": "22b6d064-40f9-4b4e-aac6-321bc69e1fcb",
   "metadata": {
    "tags": []
   },
   "outputs": [],
   "source": [
    "gdf_from_function.shape"
   ]
  }
 ],
 "metadata": {
  "kernelspec": {
   "display_name": "Python 3 (ipykernel)",
   "language": "python",
   "name": "python3"
  },
  "language_info": {
   "codemirror_mode": {
    "name": "ipython",
    "version": 3
   },
   "file_extension": ".py",
   "mimetype": "text/x-python",
   "name": "python",
   "nbconvert_exporter": "python",
   "pygments_lexer": "ipython3",
   "version": "3.11.10"
  }
 },
 "nbformat": 4,
 "nbformat_minor": 5
}
