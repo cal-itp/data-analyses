{
 "cells": [
  {
   "cell_type": "markdown",
   "id": "9faa3e1f-7c0f-4c6e-81f2-34ed1e1ddde9",
   "metadata": {},
   "source": [
    "# Add SHN Info to Transit Routes in the middle of the Pipeline"
   ]
  },
  {
   "cell_type": "code",
   "execution_count": 1,
   "id": "14ea6238-52b2-4221-b806-39062daa8a85",
   "metadata": {
    "tags": []
   },
   "outputs": [],
   "source": [
    "import datetime\n",
    "\n",
    "import geopandas as gpd\n",
    "import google.auth\n",
    "import numpy as np\n",
    "import pandas as pd\n",
    "import yaml\n",
    "from calitp_data_analysis import geography_utils, utils\n",
    "from calitp_data_analysis.geography_utils import WGS84\n",
    "from segment_speed_utils import helpers\n",
    "from shared_utils import (\n",
    "    catalog_utils,\n",
    "    portfolio_utils,\n",
    "    publish_utils,\n",
    "    rt_dates,\n",
    "    rt_utils,\n",
    "    schedule_rt_utils,\n",
    "    shared_data,\n",
    ")\n",
    "from update_vars import GTFS_DATA_DICT, RT_SCHED_GCS, SCHED_GCS, SEGMENT_GCS\n",
    "\n",
    "credentials, project = google.auth.default()\n",
    "\n",
    "import gcsfs\n",
    "\n",
    "fs = gcsfs.GCSFileSystem()"
   ]
  },
  {
   "cell_type": "code",
   "execution_count": 2,
   "id": "d79035fe-8ad0-49b6-a309-1a95ea3864f3",
   "metadata": {
    "tags": []
   },
   "outputs": [],
   "source": [
    "pd.options.display.max_columns = 100\n",
    "pd.options.display.float_format = \"{:.2f}\".format\n",
    "pd.set_option(\"display.max_rows\", None)\n",
    "pd.set_option(\"display.max_colwidth\", None)"
   ]
  },
  {
   "cell_type": "code",
   "execution_count": 3,
   "id": "2404a9d8-76aa-4564-ba67-2ff9dca8f999",
   "metadata": {
    "tags": []
   },
   "outputs": [],
   "source": [
    "analysis_date_list = rt_dates.y2025_dates"
   ]
  },
  {
   "cell_type": "code",
   "execution_count": 4,
   "id": "63188e79-085b-4423-93db-7c42fc0ba49f",
   "metadata": {
    "tags": []
   },
   "outputs": [
    {
     "data": {
      "text/plain": [
       "'2025-01-15'"
      ]
     },
     "execution_count": 4,
     "metadata": {},
     "output_type": "execute_result"
    }
   ],
   "source": [
    "analysis_date_list[0]"
   ]
  },
  {
   "cell_type": "code",
   "execution_count": 5,
   "id": "1b82a1f9-c814-45bb-bdae-c343f082ff68",
   "metadata": {
    "tags": []
   },
   "outputs": [],
   "source": [
    "date = analysis_date_list[0]"
   ]
  },
  {
   "cell_type": "code",
   "execution_count": 6,
   "id": "aa2d29e9-9fc1-44a1-8fee-8321eb62d5ca",
   "metadata": {
    "tags": []
   },
   "outputs": [],
   "source": [
    "ah_testing_shn = \"gs://calitp-analytics-data/data-analyses/ah_testing/ca_transit_routes.parquet\""
   ]
  },
  {
   "cell_type": "code",
   "execution_count": 7,
   "id": "f10fe744-6a75-44d7-92d2-9fbfb9055ac2",
   "metadata": {
    "tags": []
   },
   "outputs": [],
   "source": [
    "ah_testing_shn_gdf = gpd.read_parquet(ah_testing_shn, storage_options={\"token\": credentials.token})"
   ]
  },
  {
   "cell_type": "code",
   "execution_count": 8,
   "id": "ee5c8238-d37b-446a-a6e6-afc451644aba",
   "metadata": {
    "tags": []
   },
   "outputs": [
    {
     "data": {
      "text/plain": [
       "(11413, 13)"
      ]
     },
     "execution_count": 8,
     "metadata": {},
     "output_type": "execute_result"
    }
   ],
   "source": [
    "ah_testing_shn_gdf.shape"
   ]
  },
  {
   "cell_type": "code",
   "execution_count": 9,
   "id": "177601c9-c9e2-448b-b70d-fb56a1b1062d",
   "metadata": {
    "tags": []
   },
   "outputs": [
    {
     "data": {
      "text/plain": [
       "Index(['org_id', 'agency', 'route_id', 'route_type', 'route_name', 'shape_id',\n",
       "       'n_trips', 'base64_url', 'shn_route', 'on_shs', 'shn_districts',\n",
       "       'pct_route_on_hwy_across_districts', 'geometry'],\n",
       "      dtype='object')"
      ]
     },
     "execution_count": 9,
     "metadata": {},
     "output_type": "execute_result"
    }
   ],
   "source": [
    "ah_testing_shn_gdf.columns"
   ]
  },
  {
   "cell_type": "code",
   "execution_count": 10,
   "id": "9260dfe1-75f4-4dec-8989-3c93867ba64a",
   "metadata": {
    "tags": []
   },
   "outputs": [],
   "source": [
    "og_url = \"gs://calitp-analytics-data/data-analyses/traffic_ops/ca_transit_routes.parquet\""
   ]
  },
  {
   "cell_type": "code",
   "execution_count": 11,
   "id": "beb99b23-884f-4e59-85b4-a441c5eee92a",
   "metadata": {
    "tags": []
   },
   "outputs": [],
   "source": [
    "og_gdf = gpd.read_parquet(og_url, storage_options={\"token\": credentials.token})"
   ]
  },
  {
   "cell_type": "code",
   "execution_count": 12,
   "id": "39aec298-2389-4b3d-9d1f-da4f209ff943",
   "metadata": {
    "tags": []
   },
   "outputs": [
    {
     "data": {
      "text/plain": [
       "(11633, 9)"
      ]
     },
     "execution_count": 12,
     "metadata": {},
     "output_type": "execute_result"
    }
   ],
   "source": [
    "og_gdf.shape"
   ]
  },
  {
   "cell_type": "code",
   "execution_count": 13,
   "id": "a487fe42-892e-4514-a093-4d6d781fd97b",
   "metadata": {
    "tags": []
   },
   "outputs": [
    {
     "data": {
      "text/plain": [
       "Index(['org_id', 'agency', 'route_id', 'route_type', 'route_name', 'shape_id',\n",
       "       'n_trips', 'base64_url', 'geometry'],\n",
       "      dtype='object')"
      ]
     },
     "execution_count": 13,
     "metadata": {},
     "output_type": "execute_result"
    }
   ],
   "source": [
    "og_gdf.columns"
   ]
  },
  {
   "cell_type": "code",
   "execution_count": 14,
   "id": "19633010-53a8-47a6-a851-d48c3b519d9a",
   "metadata": {
    "tags": []
   },
   "outputs": [
    {
     "data": {
      "text/plain": [
       "{'on_shs', 'pct_route_on_hwy_across_districts', 'shn_districts', 'shn_route'}"
      ]
     },
     "execution_count": 14,
     "metadata": {},
     "output_type": "execute_result"
    }
   ],
   "source": [
    "set(list(ah_testing_shn_gdf.columns))-set(list(og_gdf.columns))"
   ]
  },
  {
   "cell_type": "code",
   "execution_count": 15,
   "id": "39a50aa7-451b-470c-89a2-cbd1c751d982",
   "metadata": {
    "tags": []
   },
   "outputs": [],
   "source": [
    "ah_testing = \"gs://calitp-analytics-data/data-analyses/ah_testing/ca_transit_routes_2025-07-16.parquet\""
   ]
  },
  {
   "cell_type": "code",
   "execution_count": 16,
   "id": "683050c7-f65b-4550-8b8d-364db5cc4ae1",
   "metadata": {
    "tags": []
   },
   "outputs": [],
   "source": [
    "ah_gdf = gpd.read_parquet(ah_testing, storage_options={\"token\": credentials.token})"
   ]
  },
  {
   "cell_type": "code",
   "execution_count": 17,
   "id": "e5837f0e-f9de-4061-a6f3-e72f8d9eac8d",
   "metadata": {
    "tags": []
   },
   "outputs": [
    {
     "data": {
      "text/plain": [
       "(10267, 13)"
      ]
     },
     "execution_count": 17,
     "metadata": {},
     "output_type": "execute_result"
    }
   ],
   "source": [
    "ah_gdf.shape"
   ]
  },
  {
   "cell_type": "code",
   "execution_count": 18,
   "id": "16e90828-7a5a-4917-b378-8ec69fe2b069",
   "metadata": {
    "tags": []
   },
   "outputs": [],
   "source": [
    "SHN_HWY_BUFFER_FEET = 50"
   ]
  },
  {
   "cell_type": "code",
   "execution_count": 19,
   "id": "7c3f4ad6-e370-4b21-a990-9553715fda82",
   "metadata": {
    "tags": []
   },
   "outputs": [
    {
     "data": {
      "text/html": [
       "<div>\n",
       "<style scoped>\n",
       "    .dataframe tbody tr th:only-of-type {\n",
       "        vertical-align: middle;\n",
       "    }\n",
       "\n",
       "    .dataframe tbody tr th {\n",
       "        vertical-align: top;\n",
       "    }\n",
       "\n",
       "    .dataframe thead th {\n",
       "        text-align: right;\n",
       "    }\n",
       "</style>\n",
       "<table border=\"1\" class=\"dataframe\">\n",
       "  <thead>\n",
       "    <tr style=\"text-align: right;\">\n",
       "      <th></th>\n",
       "      <th>n_trips</th>\n",
       "      <th>schedule_gtfs_dataset_key</th>\n",
       "      <th>route_id</th>\n",
       "      <th>route_type</th>\n",
       "      <th>shape_id</th>\n",
       "      <th>route_name_used</th>\n",
       "      <th>name</th>\n",
       "      <th>base64_url</th>\n",
       "      <th>organization_source_record_id</th>\n",
       "      <th>organization_name</th>\n",
       "      <th>caltrans_district</th>\n",
       "      <th>route_length_feet</th>\n",
       "    </tr>\n",
       "  </thead>\n",
       "  <tbody>\n",
       "    <tr>\n",
       "      <th>2515</th>\n",
       "      <td>86</td>\n",
       "      <td>3364ec074ca85001da3abd78be2ae521</td>\n",
       "      <td>215</td>\n",
       "      <td>3</td>\n",
       "      <td>S2_215_2_25</td>\n",
       "      <td>215</td>\n",
       "      <td>San Diego Schedule</td>\n",
       "      <td>aHR0cHM6Ly93d3cuc2RtdHMuY29tL2dvb2dsZV90cmFuc2l0X2ZpbGVzL2dvb2dsZV90cmFuc2l0LnppcA==</td>\n",
       "      <td>rech5YtfjpQvVIBAF</td>\n",
       "      <td>Flagship Cruises and Events Inc.</td>\n",
       "      <td>11 - San Diego</td>\n",
       "      <td>52384.73</td>\n",
       "    </tr>\n",
       "  </tbody>\n",
       "</table>\n",
       "</div>"
      ],
      "text/plain": [
       "      n_trips         schedule_gtfs_dataset_key route_id route_type  \\\n",
       "2515       86  3364ec074ca85001da3abd78be2ae521      215          3   \n",
       "\n",
       "         shape_id route_name_used                name  \\\n",
       "2515  S2_215_2_25             215  San Diego Schedule   \n",
       "\n",
       "                                                                                base64_url  \\\n",
       "2515  aHR0cHM6Ly93d3cuc2RtdHMuY29tL2dvb2dsZV90cmFuc2l0X2ZpbGVzL2dvb2dsZV90cmFuc2l0LnppcA==   \n",
       "\n",
       "     organization_source_record_id                 organization_name  \\\n",
       "2515             rech5YtfjpQvVIBAF  Flagship Cruises and Events Inc.   \n",
       "\n",
       "     caltrans_district  route_length_feet  \n",
       "2515    11 - San Diego           52384.73  "
      ]
     },
     "execution_count": 19,
     "metadata": {},
     "output_type": "execute_result"
    }
   ],
   "source": [
    "ah_gdf.drop(columns=[\"geometry\"]).sample()"
   ]
  },
  {
   "cell_type": "markdown",
   "id": "9ef9e2d9-a299-4791-86f3-4840c9cf98e2",
   "metadata": {},
   "source": [
    "## `open_data/create_routes_data/add_shn_information`"
   ]
  },
  {
   "cell_type": "code",
   "execution_count": null,
   "id": "c36e3007-35b4-4007-89a5-42dea31531dd",
   "metadata": {
    "tags": []
   },
   "outputs": [],
   "source": [
    "def routes_shn_intersection(\n",
    "    routes_gdf: gpd.GeoDataFrame, buffer_amount: int\n",
    ") -> gpd.GeoDataFrame:\n",
    "    \"\"\"\n",
    "    Overlay the most recent transit routes with a buffered version\n",
    "    of the SHN\n",
    "    \"\"\"\n",
    "    GCS_FILE_PATH = \"gs://calitp-analytics-data/data-analyses/shared_data/\"\n",
    "\n",
    "    # Read in buffered shn here or re buffer if we don't have it available.\n",
    "    HWY_FILE = f\"{GCS_FILE_PATH}shn_buffered_{buffer_amount}_ft_shn_dissolved_by_ct_district_route.parquet\"\n",
    "\n",
    "    if fs.exists(HWY_FILE):\n",
    "        shn_routes_gdf = gpd.read_parquet(\n",
    "            HWY_FILE, storage_options={\"token\": credentials.token}\n",
    "        )\n",
    "    else:\n",
    "        shn_routes_gdf = shared_data.buffer_shn(buffer_amount)\n",
    "\n",
    "    # Process the most recent transit route geographies and ensure the\n",
    "    # CRS matches the SHN routes' GDF so the overlay doesn't go wonky.\n",
    "    routes_gdf = routes_gdf.to_crs(shn_routes_gdf.crs)\n",
    "\n",
    "    # Overlay transit routes with the SHN geographies.\n",
    "    gdf = gpd.overlay(\n",
    "        routes_gdf, shn_routes_gdf, how=\"intersection\", keep_geom_type=True\n",
    "    )\n",
    "\n",
    "    # Calcuate the percent of the transit route that runs on a highway, round it up and\n",
    "    # multiply it by 100. Drop the geometry because we want the original transit route\n",
    "    # shapes.\n",
    "    gdf = gdf.assign(\n",
    "        pct_route_on_hwy=(gdf.geometry.length / gdf.route_length_feet).round(3) * 100,\n",
    "    )\n",
    "\n",
    "    # Subset\n",
    "    gdf2 = gdf[\n",
    "        [\n",
    "            \"district\",\n",
    "            \"highway_feet\",\n",
    "            \"shn_route\",\n",
    "            \"pct_route_on_hwy\",\n",
    "            \"n_trips\",\n",
    "            \"schedule_gtfs_dataset_key\",\n",
    "            \"route_id\",\n",
    "            \"route_type\",\n",
    "            \"shape_id\",\n",
    "            \"route_name_used\",\n",
    "        ]\n",
    "    ]\n",
    "\n",
    "    # Clean up\n",
    "    gdf2.district = gdf2.district.fillna(0).astype(int)\n",
    "    \n",
    "    gdf2 = gdf2.rename(\n",
    "        columns={\n",
    "            \"pct_route_on_hwy\": \"pct_route_on_hwy_across_districts\",\n",
    "            \"district\": \"shn_districts\",\n",
    "        }\n",
    "    )\n",
    "    return gdf2"
   ]
  },
  {
   "cell_type": "code",
   "execution_count": null,
   "id": "eee56d2f-449f-4be3-9754-6aaff3d4e620",
   "metadata": {
    "tags": []
   },
   "outputs": [],
   "source": [
    "intersecting = routes_shn_intersection(ah_gdf, SHN_HWY_BUFFER_FEET)"
   ]
  },
  {
   "cell_type": "code",
   "execution_count": null,
   "id": "84049666-3ea1-41dd-a5e4-705d03411744",
   "metadata": {
    "tags": []
   },
   "outputs": [],
   "source": [
    "intersecting.columns"
   ]
  },
  {
   "cell_type": "code",
   "execution_count": null,
   "id": "fd24d06f-dc46-4d5e-b3e7-4bcaa45a264f",
   "metadata": {
    "tags": []
   },
   "outputs": [],
   "source": [
    "intersecting.sample().drop(columns=[\"geometry\"]).T"
   ]
  },
  {
   "cell_type": "code",
   "execution_count": null,
   "id": "086b96b2-ce6a-444a-a499-0b18ec9623c1",
   "metadata": {
    "tags": []
   },
   "outputs": [],
   "source": [
    "intersecting = intersecting.rename(\n",
    "    columns={\n",
    "        \"pct_route_on_hwy\": \"pct_route_on_hwy_across_districts\",\n",
    "        \"district\": \"shn_districts\",\n",
    "    }\n",
    ")"
   ]
  },
  {
   "cell_type": "code",
   "execution_count": null,
   "id": "4d6fb27f-5435-4749-88c5-20aca46688b0",
   "metadata": {
    "tags": []
   },
   "outputs": [],
   "source": [
    "def group_route_district(df: pd.DataFrame, pct_route_on_hwy_agg: str) -> pd.DataFrame:\n",
    "    \"\"\"\n",
    "    Aggregate by adding all the districts and SHN to a single row, rather than\n",
    "    multiple and sum up the total % of SHN a transit route intersects with.\n",
    "\n",
    "    df: the dataframe you want to aggregate\n",
    "    pct_route_on_hwy_agg: whether you want to find the max, min, sum, etc on the column\n",
    "    \"pct_route_on_hwy_across_districts\"\n",
    "    \"\"\"\n",
    "\n",
    "    agg1 = (\n",
    "        df.groupby(\n",
    "            [\n",
    "                \"n_trips\",\n",
    "                \"schedule_gtfs_dataset_key\",\n",
    "                \"route_id\",\n",
    "                \"route_type\",\n",
    "                \"shape_id\",\n",
    "                \"route_name_used\",\n",
    "            ],\n",
    "            as_index=False,\n",
    "        )[[\"shn_route\", \"shn_districts\", \"pct_route_on_hwy_across_districts\"]]\n",
    "        .agg(\n",
    "            {\n",
    "                \"shn_route\": lambda x: \", \".join(set(x.astype(str))),\n",
    "                \"shn_districts\": lambda x: \", \".join(set(x.astype(str))),\n",
    "                \"pct_route_on_hwy_across_districts\": pct_route_on_hwy_agg,\n",
    "            }\n",
    "        )\n",
    "        .reset_index(drop=True)\n",
    "    )\n",
    "\n",
    "    # Clean up\n",
    "    agg1.pct_route_on_hwy_across_districts = (\n",
    "        agg1.pct_route_on_hwy_across_districts.astype(float).round(2)\n",
    "    )\n",
    "    return agg1"
   ]
  },
  {
   "cell_type": "code",
   "execution_count": null,
   "id": "4d0dafa8-ef4a-4b63-81ac-bc7b097898ef",
   "metadata": {
    "tags": []
   },
   "outputs": [],
   "source": [
    "agg1 = group_route_district(intersecting, \"sum\")"
   ]
  },
  {
   "cell_type": "code",
   "execution_count": null,
   "id": "601479ec-533d-47f6-91a2-a7ffe8591c06",
   "metadata": {
    "tags": []
   },
   "outputs": [],
   "source": [
    "agg1[\"on_shs\"] = np.where(agg1[\"pct_route_on_hwy_across_districts\"] == 0, \"N\", \"Y\")"
   ]
  },
  {
   "cell_type": "code",
   "execution_count": null,
   "id": "076badfc-2667-4da7-8b5e-c624d44b0281",
   "metadata": {
    "tags": []
   },
   "outputs": [],
   "source": [
    "agg1.loc[\n",
    "    (agg1[\"on_shs\"] == \"N\") & (agg1[\"shn_districts\"] != \"0\"),\n",
    "    [\"shn_districts\", \"shn_route\"],\n",
    "] = np.nan"
   ]
  },
  {
   "cell_type": "code",
   "execution_count": null,
   "id": "b1cb0cf4-e229-4bfe-8718-3ac535ba81ba",
   "metadata": {
    "tags": []
   },
   "outputs": [],
   "source": [
    "agg1.columns"
   ]
  },
  {
   "cell_type": "code",
   "execution_count": null,
   "id": "55996909-b99d-4dbf-821e-a36dfad742bb",
   "metadata": {
    "tags": []
   },
   "outputs": [],
   "source": [
    "def add_shn_information(gdf: gpd.GeoDataFrame, buffer_amt: int) -> pd.DataFrame:\n",
    "    \"\"\"\n",
    "    Prepare the gdf to join with the existing transit_routes\n",
    "    dataframe that is published on the Open Data Portal\n",
    "    \"\"\"\n",
    "    # Overlay\n",
    "    intersecting = routes_shn_intersection(gdf, buffer_amt)\n",
    "    # Group the dataframe so that one route only has one\n",
    "    # row instead of multiple rows after finding its\n",
    "    # intersection with any SHN routes.\n",
    "    agg1 = group_route_district(intersecting, \"sum\")\n",
    "\n",
    "    # Add yes/no column to signify if a transit route intersects\n",
    "    # with a SHN route\n",
    "    agg1[\"on_shs\"] = np.where(agg1[\"pct_route_on_hwy_across_districts\"] == 0, \"N\", \"Y\")\n",
    "\n",
    "    # Clean up rows that are tagged as \"on_shs==N\" but still have values\n",
    "    # that appear.\n",
    "    agg1.loc[\n",
    "        (agg1[\"on_shs\"] == \"N\") & (agg1[\"shn_districts\"] != \"0\"),\n",
    "        [\"shn_districts\", \"shn_route\"],\n",
    "    ] = np.nan\n",
    "    display(agg1.info())\n",
    "    # Join back the dataframe above with the original transit route dataframes\n",
    "    # so we can have the original transit route geographies.\n",
    "    m1 = pd.merge(\n",
    "        gdf,\n",
    "        agg1,\n",
    "        on=[\n",
    "            \"n_trips\",\n",
    "            \"schedule_gtfs_dataset_key\",\n",
    "            \"route_id\",\n",
    "            \"route_type\",\n",
    "            \"shape_id\",\n",
    "            \"route_name_used\",\n",
    "        ],\n",
    "        how=\"left\",\n",
    "    )\n",
    "    return m1"
   ]
  },
  {
   "cell_type": "code",
   "execution_count": null,
   "id": "982a7a57-bee4-4f8a-b1bd-10a991e8a9db",
   "metadata": {
    "tags": []
   },
   "outputs": [],
   "source": [
    "published_routes = add_shn_information(ah_gdf, 50)"
   ]
  },
  {
   "cell_type": "code",
   "execution_count": null,
   "id": "77178435-f95b-4a67-8d7e-ebbb8e9eea96",
   "metadata": {
    "tags": []
   },
   "outputs": [],
   "source": [
    "published_routes.columns"
   ]
  },
  {
   "cell_type": "code",
   "execution_count": null,
   "id": "e0452260-e041-402e-99c0-8eb14e258395",
   "metadata": {
    "tags": []
   },
   "outputs": [],
   "source": [
    "published_routes.head()"
   ]
  },
  {
   "cell_type": "markdown",
   "id": "7032d209-12ca-486e-9abb-5f4b3d96461e",
   "metadata": {},
   "source": [
    "## Move the bulk of the SHN work from `open_data/create_routes_data` to `_shared_utils/shared_data`"
   ]
  },
  {
   "cell_type": "code",
   "execution_count": null,
   "id": "35f504f9-5324-4fc2-b652-3aea723b0b29",
   "metadata": {
    "tags": []
   },
   "outputs": [],
   "source": [
    "shn = shared_data.make_clean_state_highway_network()"
   ]
  },
  {
   "cell_type": "code",
   "execution_count": null,
   "id": "a58107cb-c618-4299-9a39-bd211e329d0b",
   "metadata": {
    "tags": []
   },
   "outputs": [],
   "source": [
    "SHN_FILE = catalog_utils.get_catalog(\n",
    "    \"shared_data_catalog\"\n",
    ").state_highway_network.urlpath\n",
    "\n",
    "shn = gpd.read_parquet(\n",
    "    SHN_FILE,\n",
    "    storage_options={\"token\": credentials.token},\n",
    ").to_crs(geography_utils.CA_NAD83Albers_ft)"
   ]
  },
  {
   "cell_type": "code",
   "execution_count": null,
   "id": "b2f5f99b-b97f-4622-b13f-7f1f16efbcd8",
   "metadata": {
    "tags": []
   },
   "outputs": [],
   "source": [
    "shn.columns"
   ]
  },
  {
   "cell_type": "code",
   "execution_count": null,
   "id": "93e07365-24eb-411e-9e93-c29045b8be10",
   "metadata": {
    "tags": []
   },
   "outputs": [],
   "source": [
    "shn.drop(columns=[\"geometry\"]).sample(5)"
   ]
  },
  {
   "cell_type": "code",
   "execution_count": null,
   "id": "4d479035-4b9f-4437-a7ef-92f04dc103ba",
   "metadata": {
    "tags": []
   },
   "outputs": [],
   "source": [
    "GCS_FILE_PATH = \"gs://calitp-analytics-data/data-analyses/shared_data/\""
   ]
  },
  {
   "cell_type": "code",
   "execution_count": null,
   "id": "d9f3ca5d-4ac5-4f82-a987-f85760e13508",
   "metadata": {
    "tags": []
   },
   "outputs": [],
   "source": [
    "def dissolve_shn_district() -> gpd.GeoDataFrame:\n",
    "    \"\"\"\n",
    "    Dissolve State Highway Network so there will only be one row for each\n",
    "    route name, route type, and Caltrans district. Find the length\n",
    "    of the highway and do some light cleaning.\n",
    "    \"\"\"\n",
    "    # Read in the dataset and change the CRS to one to feet.\n",
    "    SHN_FILE = catalog_utils.get_catalog(\n",
    "        \"shared_data_catalog\"\n",
    "    ).state_highway_network.urlpath\n",
    "\n",
    "    shn = gpd.read_parquet(\n",
    "        SHN_FILE,\n",
    "        storage_options={\"token\": credentials.token},\n",
    "    ).to_crs(geography_utils.CA_NAD83Albers_ft)\n",
    "\n",
    "    # Dissolve by route which represents the the route's name and drop the other columns\n",
    "    # because they are no longer relevant.\n",
    "    shn_dissolved = (shn.dissolve(by=[\"Route\", \"District\"]).reset_index())[\n",
    "        [\"Route\", \"District\", \"geometry\"]\n",
    "    ]\n",
    "\n",
    "    # Rename because I don't want any confusion between SHN route and\n",
    "    # transit route.\n",
    "    shn_dissolved = shn_dissolved.rename(columns={\"Route\": \"shn_route\"})\n",
    "    shn_dissolved.columns = shn_dissolved.columns.str.lower()\n",
    "    # Find the length of each highway.\n",
    "    shn_dissolved = shn_dissolved.assign(\n",
    "        highway_feet=shn_dissolved.geometry.length,\n",
    "        shn_route=shn_dissolved.shn_route.astype(int).astype(str),\n",
    "    )\n",
    "\n",
    "    # Save this out so I don't have to dissolve it each time.\n",
    "    shn_dissolved.to_parquet(\n",
    "        f\"{GCS_FILE_PATH}shn_dissolved_by_ct_district_route.parquet\",\n",
    "        filesystem=fs,\n",
    "    )\n",
    "    return shn_dissolved"
   ]
  },
  {
   "cell_type": "code",
   "execution_count": null,
   "id": "510b64ef-1f28-4610-96fe-bebfb48efbd5",
   "metadata": {
    "tags": []
   },
   "outputs": [],
   "source": [
    "dissolved_route = dissolve_shn_district()"
   ]
  },
  {
   "cell_type": "code",
   "execution_count": null,
   "id": "2d4f6dd8-da4d-4687-903f-480cd22ff291",
   "metadata": {
    "tags": []
   },
   "outputs": [],
   "source": [
    "def buffer_shn(buffer_amount: int, file_name: str) -> gpd.GeoDataFrame:\n",
    "    \"\"\"\n",
    "    Add a buffer to the SHN before overlaying it with\n",
    "    transit routes.\n",
    "    \"\"\"\n",
    "    # GCS_FILE_PATH = \"gs://calitp-analytics-data/data-analyses/state_highway_network/\"\n",
    "\n",
    "    # Read in the dissolved SHN file\n",
    "    shn_df = gpd.read_parquet(\n",
    "        f\"{GCS_FILE_PATH}{file_name}.parquet\",\n",
    "        storage_options={\"token\": credentials.token},\n",
    "    )\n",
    "\n",
    "    # Buffer the state highway.\n",
    "    shn_df_buffered = shn_df.assign(\n",
    "        geometry=shn_df.geometry.buffer(buffer_amount),\n",
    "    )\n",
    "\n",
    "    # Save it out so we won't have to buffer over again and\n",
    "    # can just read it in.\n",
    "    shn_df_buffered.to_parquet(\n",
    "        f\"{GCS_FILE_PATH}shn_buffered_{buffer_amount}_ft_{file_name}.parquet\",\n",
    "        filesystem=fs,\n",
    "    )\n",
    "\n",
    "    return shn_df_buffered"
   ]
  },
  {
   "cell_type": "code",
   "execution_count": null,
   "id": "74b58ec8-cf0a-4a8c-9c6c-bdfb028892a3",
   "metadata": {
    "tags": []
   },
   "outputs": [],
   "source": [
    "SHN_HWY_BUFFER_FEET = 50\n",
    "PARALLEL_HWY_BUFFER_FEET = geography_utils.FEET_PER_MI * 0.5"
   ]
  },
  {
   "cell_type": "code",
   "execution_count": null,
   "id": "4e713180-01ce-49c8-bab5-e817ffdcdc61",
   "metadata": {
    "tags": []
   },
   "outputs": [],
   "source": [
    "buffered_shn = buffer_shn(SHN_HWY_BUFFER_FEET, \"shn_dissolved_by_ct_district_route\")"
   ]
  },
  {
   "cell_type": "markdown",
   "id": "88574990-f866-437e-a42d-fe89d0277c07",
   "metadata": {},
   "source": []
  },
  {
   "cell_type": "markdown",
   "id": "c3d3a151-3888-45c3-bf94-8028330480a7",
   "metadata": {},
   "source": [
    "## Test function in `create_routes_data`"
   ]
  },
  {
   "cell_type": "code",
   "execution_count": null,
   "id": "f106f589-acc6-4a7f-b72a-d5b5d888ebdb",
   "metadata": {
    "tags": []
   },
   "outputs": [],
   "source": [
    "trips = helpers.import_scheduled_trips(\n",
    "    date,\n",
    "    columns=[\n",
    "        \"gtfs_dataset_key\",\n",
    "        \"route_id\",\n",
    "        \"route_type\",\n",
    "        \"shape_id\",\n",
    "        \"shape_array_key\",\n",
    "        \"route_long_name\",\n",
    "        \"route_short_name\",\n",
    "        \"route_desc\",\n",
    "    ],\n",
    "    get_pandas=True,\n",
    ").dropna(subset=\"shape_array_key\")"
   ]
  },
  {
   "cell_type": "code",
   "execution_count": null,
   "id": "c50449ef-bf2b-48c5-93de-a5f900a5ccc1",
   "metadata": {
    "tags": []
   },
   "outputs": [],
   "source": [
    "trips.sample()"
   ]
  },
  {
   "cell_type": "code",
   "execution_count": null,
   "id": "ec65de31-da5c-4a85-b010-03fee9246bd0",
   "metadata": {
    "tags": []
   },
   "outputs": [],
   "source": [
    "shapes = helpers.import_scheduled_shapes(\n",
    "    date, columns=[\"shape_array_key\", \"n_trips\", \"geometry\"], get_pandas=True, crs=WGS84\n",
    ").dropna(subset=\"shape_array_key\")"
   ]
  },
  {
   "cell_type": "code",
   "execution_count": null,
   "id": "e16f229f-e22b-457d-a914-c7a3880141d3",
   "metadata": {
    "tags": []
   },
   "outputs": [],
   "source": [
    "shapes.sample().drop(columns=[\"geometry\"])"
   ]
  },
  {
   "cell_type": "code",
   "execution_count": null,
   "id": "e56eda75-5b23-4d1a-8563-26c9c575027b",
   "metadata": {
    "tags": []
   },
   "outputs": [],
   "source": [
    "df = (\n",
    "    pd.merge(shapes, trips, on=\"shape_array_key\", how=\"inner\")\n",
    "    .drop_duplicates(subset=\"shape_array_key\")\n",
    "    .drop(columns=\"shape_array_key\")\n",
    ")"
   ]
  },
  {
   "cell_type": "code",
   "execution_count": null,
   "id": "49fbff16-a57a-484d-9316-00c56485accb",
   "metadata": {
    "tags": []
   },
   "outputs": [],
   "source": [
    "df.shape"
   ]
  },
  {
   "cell_type": "code",
   "execution_count": null,
   "id": "ed7c0b51-4e11-4769-b329-be8d0fd44845",
   "metadata": {
    "tags": []
   },
   "outputs": [],
   "source": [
    "drop_cols = [\"route_short_name\", \"route_long_name\", \"route_desc\"]\n",
    "route_shape_cols = [\"schedule_gtfs_dataset_key\", \"route_id\", \"shape_id\"]"
   ]
  },
  {
   "cell_type": "code",
   "execution_count": null,
   "id": "e17e22c1-e7ba-4d24-b94a-6c069a2b4cda",
   "metadata": {
    "tags": []
   },
   "outputs": [],
   "source": [
    "def remove_erroneous_shapes(\n",
    "    shapes_with_route_info: gpd.GeoDataFrame,\n",
    ") -> gpd.GeoDataFrame:\n",
    "    \"\"\"\n",
    "    Check if line is simple for Amtrak. If it is, keep.\n",
    "    If it's not simple (line crosses itself), drop.\n",
    "\n",
    "    In Jun 2023, some Amtrak shapes appeared to be funky,\n",
    "    but in prior months, it's been ok.\n",
    "    Checking for length is fairly time-consuming.\n",
    "    \"\"\"\n",
    "    amtrak = \"Amtrak Schedule\"\n",
    "\n",
    "    possible_error = shapes_with_route_info[shapes_with_route_info.name == amtrak]\n",
    "    ok = shapes_with_route_info[shapes_with_route_info.name != amtrak]\n",
    "\n",
    "    # Check if the line crosses itself\n",
    "    ok_amtrak = (\n",
    "        possible_error.assign(simple=possible_error.geometry.is_simple)\n",
    "        .query(\"simple == True\")\n",
    "        .drop(columns=\"simple\")\n",
    "    )\n",
    "\n",
    "    ok_shapes = pd.concat([ok, ok_amtrak], axis=0).reset_index(drop=True)\n",
    "\n",
    "    return ok_shapes"
   ]
  },
  {
   "cell_type": "markdown",
   "id": "83487060-3de4-4096-b2a4-de19104fe620",
   "metadata": {},
   "source": [
    "### Didn't reach the step of `routes_assmebled2` because of all the different imports causing issues."
   ]
  },
  {
   "cell_type": "code",
   "execution_count": null,
   "id": "39087b19-658a-4b8a-ae20-5181880c8a08",
   "metadata": {
    "tags": []
   },
   "outputs": [],
   "source": [
    "routes_assembled = (\n",
    "    portfolio_utils.add_route_name(df)\n",
    "    .drop(columns=drop_cols)\n",
    "    .sort_values(route_shape_cols)\n",
    "    .drop_duplicates(subset=route_shape_cols)\n",
    "    .reset_index(drop=True)\n",
    ")"
   ]
  },
  {
   "cell_type": "code",
   "execution_count": null,
   "id": "b0ab9278-cdea-4d5d-8662-742bfe305e95",
   "metadata": {
    "tags": []
   },
   "outputs": [],
   "source": [
    "routes_assembled.shape"
   ]
  },
  {
   "cell_type": "code",
   "execution_count": null,
   "id": "00ee6a32-24f6-4189-a87f-9f9ce9700018",
   "metadata": {
    "tags": []
   },
   "outputs": [],
   "source": [
    "routes_assembled.columns"
   ]
  },
  {
   "cell_type": "markdown",
   "id": "b71d56d6-d932-46fa-ad3a-9d2e570935cc",
   "metadata": {},
   "source": [
    "### Add length to the transit routes."
   ]
  },
  {
   "cell_type": "code",
   "execution_count": null,
   "id": "309030af-c20c-4187-9764-697f32b28073",
   "metadata": {
    "tags": []
   },
   "outputs": [],
   "source": [
    "routes_assembled = routes_assembled.assign(\n",
    "    route_length_feet=routes_assembled.geometry.to_crs(\n",
    "        geography_utils.CA_NAD83Albers_ft\n",
    "    ).length\n",
    ")"
   ]
  },
  {
   "cell_type": "markdown",
   "id": "0a0a1010-074a-4a16-9470-47b6f2415aa4",
   "metadata": {},
   "source": [
    "## Overlay the transit routes with the SHN "
   ]
  },
  {
   "cell_type": "code",
   "execution_count": null,
   "id": "9c71d1c9-7881-4813-9bf0-b3216e51efef",
   "metadata": {
    "tags": []
   },
   "outputs": [],
   "source": [
    "def routes_shn_intersection(\n",
    "    routes_gdf: gpd.GeoDataFrame, buffer_amount: int\n",
    ") -> gpd.GeoDataFrame:\n",
    "    \"\"\"\n",
    "    Overlay the most recent transit routes with a buffered version\n",
    "    of the SHN\n",
    "    \"\"\"\n",
    "    GCS_FILE_PATH = \"gs://calitp-analytics-data/data-analyses/shared_data/\"\n",
    "\n",
    "    # Read in buffered shn here or re buffer if we don't have it available.\n",
    "    HWY_FILE = f\"{GCS_FILE_PATH}shn_buffered_{buffer_amount}_ft_shn_dissolved_by_ct_district_route.parquet\"\n",
    "\n",
    "    if fs.exists(HWY_FILE):\n",
    "        shn_routes_gdf = gpd.read_parquet(\n",
    "            HWY_FILE, storage_options={\"token\": credentials.token}\n",
    "        )\n",
    "    else:\n",
    "        shn_routes_gdf = shared_data.buffer_shn(buffer_amount)\n",
    "\n",
    "    # Process the most recent transit route geographies and ensure the\n",
    "    # CRS matches the SHN routes' GDF so the overlay doesn't go wonky.\n",
    "    routes_gdf = routes_gdf.to_crs(shn_routes_gdf.crs)\n",
    "\n",
    "    # Overlay transit routes with the SHN geographies.\n",
    "    gdf = gpd.overlay(\n",
    "        routes_gdf, shn_routes_gdf, how=\"intersection\", keep_geom_type=True\n",
    "    )\n",
    "\n",
    "    # Calcuate the percent of the transit route that runs on a highway, round it up and\n",
    "    # multiply it by 100. Drop the geometry because we want the original transit route\n",
    "    # shapes.\n",
    "    gdf = gdf.assign(\n",
    "        pct_route_on_hwy=(gdf.geometry.length / gdf.route_length_feet).round(3) * 100,\n",
    "    ).drop(\n",
    "        columns=[\n",
    "            \"geometry\",\n",
    "        ]\n",
    "    )\n",
    "\n",
    "    # Join back the dataframe above with the original transit route dataframes\n",
    "    # so we can have the original transit route geographies.\n",
    "    gdf2 = pd.merge(\n",
    "        routes_gdf,\n",
    "        gdf,\n",
    "        on=[\n",
    "            \"n_trips\",\n",
    "            \"schedule_gtfs_dataset_key\",\n",
    "            \"route_id\",\n",
    "            \"route_type\",\n",
    "            \"shape_id\",\n",
    "            \"route_name_used\",\n",
    "            \"route_length_feet\",\n",
    "        ],\n",
    "        how=\"left\",\n",
    "    )\n",
    "\n",
    "    # Clean up\n",
    "    gdf2.district = gdf2.district.fillna(0).astype(int)\n",
    "    return gdf2"
   ]
  },
  {
   "cell_type": "code",
   "execution_count": null,
   "id": "e863e3f9-32ff-44c2-82d1-2eb5d4571235",
   "metadata": {
    "tags": []
   },
   "outputs": [],
   "source": [
    "intersecting = routes_shn_intersection(routes_assembled, 50)"
   ]
  },
  {
   "cell_type": "code",
   "execution_count": null,
   "id": "f957eb59-e833-4c55-a5ee-cc951fd4720f",
   "metadata": {
    "tags": []
   },
   "outputs": [],
   "source": [
    "len(intersecting)"
   ]
  },
  {
   "cell_type": "code",
   "execution_count": null,
   "id": "1357f253-f227-4e7b-915f-f2d95c82e689",
   "metadata": {
    "tags": []
   },
   "outputs": [],
   "source": [
    "intersecting.pct_route_on_hwy.describe()"
   ]
  },
  {
   "cell_type": "code",
   "execution_count": null,
   "id": "01783445-1a2e-4c7b-8b30-6aa8ddcce225",
   "metadata": {
    "tags": []
   },
   "outputs": [],
   "source": [
    "intersecting.columns"
   ]
  },
  {
   "cell_type": "markdown",
   "id": "941fb149-1caf-412b-8bd9-9c36b7d80f09",
   "metadata": {},
   "source": [
    "### Find multi route districts"
   ]
  },
  {
   "cell_type": "code",
   "execution_count": null,
   "id": "1a78ac4d-1959-46ea-9f2d-b3d0a1328581",
   "metadata": {
    "tags": []
   },
   "outputs": [],
   "source": [
    "# Find routes that cross multiple districts\n",
    "multi_district_routes = (\n",
    "    intersecting.groupby([\"schedule_gtfs_dataset_key\", \"route_name_used\", \"route_id\"])\n",
    "    .agg({\"district\": \"nunique\"})\n",
    "    .reset_index()\n",
    ")"
   ]
  },
  {
   "cell_type": "code",
   "execution_count": null,
   "id": "b2f3c1b2-2664-4ddf-b995-ebfa36eff9b4",
   "metadata": {
    "tags": []
   },
   "outputs": [],
   "source": [
    "multi_district_routes.district.describe()"
   ]
  },
  {
   "cell_type": "code",
   "execution_count": null,
   "id": "34975132-e966-4d50-972d-9ac748965a7a",
   "metadata": {
    "tags": []
   },
   "outputs": [],
   "source": [
    "multi_district_routes.sort_values(by=[\"district\"], ascending=False).head(10)"
   ]
  },
  {
   "cell_type": "markdown",
   "id": "307ba9e6-6e22-4087-b257-1feab6882aa2",
   "metadata": {},
   "source": [
    "## Routes that overlap with multiple SHN now have 1+ row. Change it so one route will only have one row."
   ]
  },
  {
   "cell_type": "code",
   "execution_count": null,
   "id": "f80126ac-7f49-4546-85ff-0fe7fd030bd7",
   "metadata": {
    "tags": []
   },
   "outputs": [],
   "source": [
    "intersecting.columns"
   ]
  },
  {
   "cell_type": "code",
   "execution_count": null,
   "id": "1ab3b5ae-4e5e-434b-8eda-bbbd78d58322",
   "metadata": {
    "tags": []
   },
   "outputs": [],
   "source": [
    "def group_route_district(df: pd.DataFrame, pct_route_on_hwy_agg: str) -> pd.DataFrame:\n",
    "    \"\"\"\n",
    "    Aggregate by adding all the districts and SHN to a single row, rather than\n",
    "    multiple and sum up the total % of SHN a transit route intersects with.\n",
    "\n",
    "    df: the dataframe you want to aggregate\n",
    "    pct_route_on_hwy_agg: whether you want to find the max, min, sum, etc on the column\n",
    "    \"pct_route_on_hwy_across_districts\"\n",
    "    \"\"\"\n",
    "\n",
    "    agg1 = (\n",
    "        df.groupby(\n",
    "            [\n",
    "                \"schedule_gtfs_dataset_key\",\n",
    "                \"route_type\",\n",
    "                \"shape_id\",\n",
    "                \"route_id\",\n",
    "                \"route_name_used\",\n",
    "            ],\n",
    "            as_index=False,\n",
    "        )[[\"shn_route\", \"shn_districts\", \"pct_route_on_hwy_across_districts\"]]\n",
    "        .agg(\n",
    "            {\n",
    "                \"shn_route\": lambda x: \", \".join(set(x.astype(str))),\n",
    "                \"shn_districts\": lambda x: \", \".join(set(x.astype(str))),\n",
    "                \"pct_route_on_hwy_across_districts\": pct_route_on_hwy_agg,\n",
    "            }\n",
    "        )\n",
    "        .reset_index(drop=True)\n",
    "    )\n",
    "\n",
    "    # Clean up\n",
    "    agg1.pct_route_on_hwy_across_districts = (\n",
    "        agg1.pct_route_on_hwy_across_districts.astype(float).round(2)\n",
    "    )\n",
    "    return agg1"
   ]
  },
  {
   "cell_type": "code",
   "execution_count": null,
   "id": "4a0c7225-c1a8-437f-b50f-cdcda38bda57",
   "metadata": {
    "tags": []
   },
   "outputs": [],
   "source": [
    "def add_shn_information(gdf: gpd.GeoDataFrame, buffer_amt: int) -> pd.DataFrame:\n",
    "    \"\"\"\n",
    "    Prepare the gdf to join with the existing transit_routes\n",
    "    dataframe that is published on the Open Data Portal\n",
    "    \"\"\"\n",
    "    # Overlay\n",
    "    intersecting = routes_shn_intersection(gdf, buffer_amt)\n",
    "    # Rename column\n",
    "    gdf = gdf.rename(\n",
    "        columns={\n",
    "            \"pct_route_on_hwy\": \"pct_route_on_hwy_across_districts\",\n",
    "            \"district\": \"shn_districts\",\n",
    "        }\n",
    "    )\n",
    "    # Group the dataframe so that one route only has one\n",
    "    # row instead of multiple rows after finding its\n",
    "    # intersection with any SHN routes.\n",
    "    agg1 = group_route_district(gdf, \"sum\")\n",
    "\n",
    "    # Add yes/no column to signify if a transit route intersects\n",
    "    # with a SHN route\n",
    "    agg1[\"on_shs\"] = np.where(agg1[\"pct_route_on_hwy_across_districts\"] == 0, \"N\", \"Y\")\n",
    "\n",
    "    # Clean up rows that are tagged as \"on_shs==N\" but still have values\n",
    "    # that appear.\n",
    "    agg1.loc[\n",
    "        (agg1[\"on_shs\"] == \"N\") & (agg1[\"shn_districts\"] != \"0\"),\n",
    "        [\"shn_districts\", \"shn_route\"],\n",
    "    ] = \"NA\"\n",
    "    return agg1"
   ]
  },
  {
   "cell_type": "code",
   "execution_count": null,
   "id": "b5d69758-260d-4c92-9a7a-bbe701eca6c5",
   "metadata": {
    "tags": []
   },
   "outputs": [],
   "source": [
    "open_data_portal_df = add_shn_information(intersecting, SHN_HWY_BUFFER_FEET)"
   ]
  },
  {
   "cell_type": "code",
   "execution_count": null,
   "id": "78f2cbc7-9e2d-41c0-ba02-1e455055c316",
   "metadata": {
    "tags": []
   },
   "outputs": [],
   "source": [
    "len(open_data_portal_df)"
   ]
  },
  {
   "cell_type": "code",
   "execution_count": null,
   "id": "92baefd8-6858-4d56-9e55-d05ee617de54",
   "metadata": {
    "tags": []
   },
   "outputs": [],
   "source": [
    "open_data_portal_df.columns"
   ]
  },
  {
   "cell_type": "code",
   "execution_count": null,
   "id": "1f472c6b-b76c-45af-b51d-4ccc0d843e6a",
   "metadata": {
    "tags": []
   },
   "outputs": [],
   "source": [
    "open_data_portal_df.info()"
   ]
  },
  {
   "cell_type": "code",
   "execution_count": null,
   "id": "264c8f5c-5d6a-41fb-842f-b7393093287e",
   "metadata": {
    "tags": []
   },
   "outputs": [],
   "source": [
    "open_data_portal_df.pct_route_on_hwy_across_districts.describe()"
   ]
  },
  {
   "cell_type": "code",
   "execution_count": null,
   "id": "46516f07-e9f9-470d-9425-76be845f3248",
   "metadata": {
    "tags": []
   },
   "outputs": [],
   "source": [
    "open_data_portal_df.on_shs.value_counts()"
   ]
  },
  {
   "cell_type": "code",
   "execution_count": null,
   "id": "1f5466b9-5d1e-4e72-bc8c-61a6fed7d89a",
   "metadata": {
    "tags": []
   },
   "outputs": [],
   "source": [
    "open_data_portal_df.columns"
   ]
  },
  {
   "cell_type": "markdown",
   "id": "bb756f79-e0d2-4dba-b62a-ba7e474ff3f0",
   "metadata": {},
   "source": [
    "## Missing Routes for D2 [PR](https://github.com/cal-itp/data-analyses/issues/1582)"
   ]
  },
  {
   "cell_type": "code",
   "execution_count": null,
   "id": "a2c080c6-8a35-4769-85be-c3e81d63b44a",
   "metadata": {
    "tags": []
   },
   "outputs": [],
   "source": [
    "open_data_portal_df.loc[open_data_portal_df.shn_districts.str.contains(\"2\")]"
   ]
  },
  {
   "cell_type": "markdown",
   "id": "48d9394e-6a57-4d7e-941f-5bec6d442194",
   "metadata": {},
   "source": [
    "### Map"
   ]
  },
  {
   "cell_type": "code",
   "execution_count": null,
   "id": "f7364b10-15d3-4442-bb9d-3a2f6dec014a",
   "metadata": {
    "tags": []
   },
   "outputs": [],
   "source": [
    "m = shn_district_df.explore(\n",
    "    name=\"district\",\n",
    "    tiles=\"CartoDB positron\",\n",
    "    style_kwds={\"color\": \"#9DA4A6\", \"opacity\": 0.5},\n",
    "    height=500,\n",
    "    width=1000,\n",
    "    legend=False,\n",
    ")"
   ]
  },
  {
   "cell_type": "code",
   "execution_count": null,
   "id": "c8b388b7-843a-48ef-ae07-a9a81f4632cf",
   "metadata": {
    "tags": []
   },
   "outputs": [],
   "source": [
    "southwest_chief = intersecting.loc[(intersecting.route_name_used == \"Southwest Chief\")]"
   ]
  },
  {
   "cell_type": "code",
   "execution_count": null,
   "id": "a54fc137-cd4f-43d7-b162-ca39f3ad94e4",
   "metadata": {
    "tags": []
   },
   "outputs": [],
   "source": [
    "\"\"\"southwest_chief.explore(\n",
    "    m=m,\n",
    "    cmap=\"Spectral\",\n",
    "    categorical=True,\n",
    "    legend=False,\n",
    "    legend_kwds={\"width\": 200},\n",
    ")\"\"\""
   ]
  }
 ],
 "metadata": {
  "kernelspec": {
   "display_name": "Python 3 (ipykernel)",
   "language": "python",
   "name": "python3"
  },
  "language_info": {
   "codemirror_mode": {
    "name": "ipython",
    "version": 3
   },
   "file_extension": ".py",
   "mimetype": "text/x-python",
   "name": "python",
   "nbconvert_exporter": "python",
   "pygments_lexer": "ipython3",
   "version": "3.11.10"
  }
 },
 "nbformat": 4,
 "nbformat_minor": 5
}
