{
 "cells": [
  {
   "cell_type": "markdown",
   "id": "9faa3e1f-7c0f-4c6e-81f2-34ed1e1ddde9",
   "metadata": {},
   "source": [
    "# Add SHN Info to Transit Routes in the middle of the Pipeline"
   ]
  },
  {
   "cell_type": "code",
   "execution_count": 1,
   "id": "14ea6238-52b2-4221-b806-39062daa8a85",
   "metadata": {
    "tags": []
   },
   "outputs": [],
   "source": [
    "import datetime\n",
    "\n",
    "import geopandas as gpd\n",
    "import google.auth\n",
    "import numpy as np\n",
    "import pandas as pd\n",
    "import yaml\n",
    "from calitp_data_analysis import geography_utils, utils\n",
    "from calitp_data_analysis.geography_utils import WGS84\n",
    "from segment_speed_utils import helpers\n",
    "from shared_utils import (\n",
    "    catalog_utils,\n",
    "    portfolio_utils,\n",
    "    publish_utils,\n",
    "    rt_dates,\n",
    "    rt_utils,\n",
    "    schedule_rt_utils,\n",
    ")\n",
    "from update_vars import GTFS_DATA_DICT, RT_SCHED_GCS, SCHED_GCS, SEGMENT_GCS\n",
    "\n",
    "credentials, project = google.auth.default()\n",
    "\n",
    "import gcsfs\n",
    "\n",
    "fs = gcsfs.GCSFileSystem()"
   ]
  },
  {
   "cell_type": "code",
   "execution_count": 2,
   "id": "d79035fe-8ad0-49b6-a309-1a95ea3864f3",
   "metadata": {
    "tags": []
   },
   "outputs": [],
   "source": [
    "pd.options.display.max_columns = 100\n",
    "pd.options.display.float_format = \"{:.2f}\".format\n",
    "pd.set_option(\"display.max_rows\", None)\n",
    "pd.set_option(\"display.max_colwidth\", None)"
   ]
  },
  {
   "cell_type": "code",
   "execution_count": 3,
   "id": "2404a9d8-76aa-4564-ba67-2ff9dca8f999",
   "metadata": {
    "tags": []
   },
   "outputs": [],
   "source": [
    "analysis_date_list = rt_dates.y2025_dates"
   ]
  },
  {
   "cell_type": "code",
   "execution_count": 4,
   "id": "63188e79-085b-4423-93db-7c42fc0ba49f",
   "metadata": {
    "tags": []
   },
   "outputs": [
    {
     "data": {
      "text/plain": [
       "'2025-01-15'"
      ]
     },
     "execution_count": 4,
     "metadata": {},
     "output_type": "execute_result"
    }
   ],
   "source": [
    "analysis_date_list[0]"
   ]
  },
  {
   "cell_type": "code",
   "execution_count": 5,
   "id": "1b82a1f9-c814-45bb-bdae-c343f082ff68",
   "metadata": {
    "tags": []
   },
   "outputs": [],
   "source": [
    "date = analysis_date_list[0]"
   ]
  },
  {
   "cell_type": "markdown",
   "id": "c3d3a151-3888-45c3-bf94-8028330480a7",
   "metadata": {},
   "source": [
    "## Load in Routes from `open_data_portal`"
   ]
  },
  {
   "cell_type": "code",
   "execution_count": 6,
   "id": "f106f589-acc6-4a7f-b72a-d5b5d888ebdb",
   "metadata": {
    "tags": []
   },
   "outputs": [],
   "source": [
    "trips = helpers.import_scheduled_trips(\n",
    "    date,\n",
    "    columns=[\n",
    "        \"gtfs_dataset_key\",\n",
    "        \"route_id\",\n",
    "        \"route_type\",\n",
    "        \"shape_id\",\n",
    "        \"shape_array_key\",\n",
    "        \"route_long_name\",\n",
    "        \"route_short_name\",\n",
    "        \"route_desc\",\n",
    "    ],\n",
    "    get_pandas=True,\n",
    ").dropna(subset=\"shape_array_key\")"
   ]
  },
  {
   "cell_type": "code",
   "execution_count": 7,
   "id": "c50449ef-bf2b-48c5-93de-a5f900a5ccc1",
   "metadata": {
    "tags": []
   },
   "outputs": [
    {
     "data": {
      "text/html": [
       "<div>\n",
       "<style scoped>\n",
       "    .dataframe tbody tr th:only-of-type {\n",
       "        vertical-align: middle;\n",
       "    }\n",
       "\n",
       "    .dataframe tbody tr th {\n",
       "        vertical-align: top;\n",
       "    }\n",
       "\n",
       "    .dataframe thead th {\n",
       "        text-align: right;\n",
       "    }\n",
       "</style>\n",
       "<table border=\"1\" class=\"dataframe\">\n",
       "  <thead>\n",
       "    <tr style=\"text-align: right;\">\n",
       "      <th></th>\n",
       "      <th>schedule_gtfs_dataset_key</th>\n",
       "      <th>route_id</th>\n",
       "      <th>route_type</th>\n",
       "      <th>shape_id</th>\n",
       "      <th>shape_array_key</th>\n",
       "      <th>route_long_name</th>\n",
       "      <th>route_short_name</th>\n",
       "      <th>route_desc</th>\n",
       "    </tr>\n",
       "  </thead>\n",
       "  <tbody>\n",
       "    <tr>\n",
       "      <th>2475</th>\n",
       "      <td>fb467982dcc77a7f9199bebe709bb700</td>\n",
       "      <td>61</td>\n",
       "      <td>3</td>\n",
       "      <td>116030</td>\n",
       "      <td>3edfadf439ae8e6ba958fe466755e532</td>\n",
       "      <td>Sierra &amp; Piedmont - Good Samaritan Hospital</td>\n",
       "      <td>61</td>\n",
       "      <td>None</td>\n",
       "    </tr>\n",
       "  </tbody>\n",
       "</table>\n",
       "</div>"
      ],
      "text/plain": [
       "             schedule_gtfs_dataset_key route_id route_type shape_id  \\\n",
       "2475  fb467982dcc77a7f9199bebe709bb700       61          3   116030   \n",
       "\n",
       "                       shape_array_key  \\\n",
       "2475  3edfadf439ae8e6ba958fe466755e532   \n",
       "\n",
       "                                  route_long_name route_short_name route_desc  \n",
       "2475  Sierra & Piedmont - Good Samaritan Hospital               61       None  "
      ]
     },
     "execution_count": 7,
     "metadata": {},
     "output_type": "execute_result"
    }
   ],
   "source": [
    "trips.sample()"
   ]
  },
  {
   "cell_type": "code",
   "execution_count": 8,
   "id": "ec65de31-da5c-4a85-b010-03fee9246bd0",
   "metadata": {
    "tags": []
   },
   "outputs": [],
   "source": [
    "shapes = helpers.import_scheduled_shapes(\n",
    "    date, columns=[\"shape_array_key\", \"n_trips\", \"geometry\"], get_pandas=True, crs=WGS84\n",
    ").dropna(subset=\"shape_array_key\")"
   ]
  },
  {
   "cell_type": "code",
   "execution_count": 9,
   "id": "e16f229f-e22b-457d-a914-c7a3880141d3",
   "metadata": {
    "tags": []
   },
   "outputs": [
    {
     "data": {
      "text/html": [
       "<div>\n",
       "<style scoped>\n",
       "    .dataframe tbody tr th:only-of-type {\n",
       "        vertical-align: middle;\n",
       "    }\n",
       "\n",
       "    .dataframe tbody tr th {\n",
       "        vertical-align: top;\n",
       "    }\n",
       "\n",
       "    .dataframe thead th {\n",
       "        text-align: right;\n",
       "    }\n",
       "</style>\n",
       "<table border=\"1\" class=\"dataframe\">\n",
       "  <thead>\n",
       "    <tr style=\"text-align: right;\">\n",
       "      <th></th>\n",
       "      <th>shape_array_key</th>\n",
       "      <th>n_trips</th>\n",
       "    </tr>\n",
       "  </thead>\n",
       "  <tbody>\n",
       "    <tr>\n",
       "      <th>4240</th>\n",
       "      <td>e2bdccd7b6bcfb652841593e79c390be</td>\n",
       "      <td>3</td>\n",
       "    </tr>\n",
       "  </tbody>\n",
       "</table>\n",
       "</div>"
      ],
      "text/plain": [
       "                       shape_array_key  n_trips\n",
       "4240  e2bdccd7b6bcfb652841593e79c390be        3"
      ]
     },
     "execution_count": 9,
     "metadata": {},
     "output_type": "execute_result"
    }
   ],
   "source": [
    "shapes.sample().drop(columns=[\"geometry\"])"
   ]
  },
  {
   "cell_type": "code",
   "execution_count": 10,
   "id": "e56eda75-5b23-4d1a-8563-26c9c575027b",
   "metadata": {
    "tags": []
   },
   "outputs": [],
   "source": [
    "df = (\n",
    "    pd.merge(shapes, trips, on=\"shape_array_key\", how=\"inner\")\n",
    "    .drop_duplicates(subset=\"shape_array_key\")\n",
    "    .drop(columns=\"shape_array_key\")\n",
    ")"
   ]
  },
  {
   "cell_type": "code",
   "execution_count": 11,
   "id": "49fbff16-a57a-484d-9316-00c56485accb",
   "metadata": {
    "tags": []
   },
   "outputs": [
    {
     "data": {
      "text/plain": [
       "(7416, 9)"
      ]
     },
     "execution_count": 11,
     "metadata": {},
     "output_type": "execute_result"
    }
   ],
   "source": [
    "df.shape"
   ]
  },
  {
   "cell_type": "code",
   "execution_count": 12,
   "id": "ed7c0b51-4e11-4769-b329-be8d0fd44845",
   "metadata": {
    "tags": []
   },
   "outputs": [],
   "source": [
    "drop_cols = [\"route_short_name\", \"route_long_name\", \"route_desc\"]\n",
    "route_shape_cols = [\"schedule_gtfs_dataset_key\", \"route_id\", \"shape_id\"]"
   ]
  },
  {
   "cell_type": "code",
   "execution_count": 13,
   "id": "e17e22c1-e7ba-4d24-b94a-6c069a2b4cda",
   "metadata": {
    "tags": []
   },
   "outputs": [],
   "source": [
    "def remove_erroneous_shapes(\n",
    "    shapes_with_route_info: gpd.GeoDataFrame,\n",
    ") -> gpd.GeoDataFrame:\n",
    "    \"\"\"\n",
    "    Check if line is simple for Amtrak. If it is, keep.\n",
    "    If it's not simple (line crosses itself), drop.\n",
    "\n",
    "    In Jun 2023, some Amtrak shapes appeared to be funky,\n",
    "    but in prior months, it's been ok.\n",
    "    Checking for length is fairly time-consuming.\n",
    "    \"\"\"\n",
    "    amtrak = \"Amtrak Schedule\"\n",
    "\n",
    "    possible_error = shapes_with_route_info[shapes_with_route_info.name == amtrak]\n",
    "    ok = shapes_with_route_info[shapes_with_route_info.name != amtrak]\n",
    "\n",
    "    # Check if the line crosses itself\n",
    "    ok_amtrak = (\n",
    "        possible_error.assign(simple=possible_error.geometry.is_simple)\n",
    "        .query(\"simple == True\")\n",
    "        .drop(columns=\"simple\")\n",
    "    )\n",
    "\n",
    "    ok_shapes = pd.concat([ok, ok_amtrak], axis=0).reset_index(drop=True)\n",
    "\n",
    "    return ok_shapes"
   ]
  },
  {
   "cell_type": "markdown",
   "id": "83487060-3de4-4096-b2a4-de19104fe620",
   "metadata": {},
   "source": [
    "### Didn't reach the step of `routes_assmebled2` because of all the different imports causing issues."
   ]
  },
  {
   "cell_type": "code",
   "execution_count": 14,
   "id": "39087b19-658a-4b8a-ae20-5181880c8a08",
   "metadata": {
    "tags": []
   },
   "outputs": [],
   "source": [
    "routes_assembled = (\n",
    "    portfolio_utils.add_route_name(df)\n",
    "    .drop(columns=drop_cols)\n",
    "    .sort_values(route_shape_cols)\n",
    "    .drop_duplicates(subset=route_shape_cols)\n",
    "    .reset_index(drop=True)\n",
    ")"
   ]
  },
  {
   "cell_type": "code",
   "execution_count": 15,
   "id": "b0ab9278-cdea-4d5d-8662-742bfe305e95",
   "metadata": {
    "tags": []
   },
   "outputs": [
    {
     "data": {
      "text/plain": [
       "(7416, 7)"
      ]
     },
     "execution_count": 15,
     "metadata": {},
     "output_type": "execute_result"
    }
   ],
   "source": [
    "routes_assembled.shape"
   ]
  },
  {
   "cell_type": "code",
   "execution_count": 16,
   "id": "00ee6a32-24f6-4189-a87f-9f9ce9700018",
   "metadata": {
    "tags": []
   },
   "outputs": [
    {
     "data": {
      "text/plain": [
       "Index(['n_trips', 'geometry', 'schedule_gtfs_dataset_key', 'route_id',\n",
       "       'route_type', 'shape_id', 'route_name_used'],\n",
       "      dtype='object')"
      ]
     },
     "execution_count": 16,
     "metadata": {},
     "output_type": "execute_result"
    }
   ],
   "source": [
    "routes_assembled.columns"
   ]
  },
  {
   "cell_type": "markdown",
   "id": "b71d56d6-d932-46fa-ad3a-9d2e570935cc",
   "metadata": {},
   "source": [
    "### Add length to the transit routes."
   ]
  },
  {
   "cell_type": "code",
   "execution_count": 17,
   "id": "309030af-c20c-4187-9764-697f32b28073",
   "metadata": {
    "tags": []
   },
   "outputs": [],
   "source": [
    "routes_assembled = routes_assembled.assign(\n",
    "    route_length_feet=routes_assembled.geometry.to_crs(\n",
    "        geography_utils.CA_NAD83Albers_ft\n",
    "    ).length\n",
    ")"
   ]
  },
  {
   "cell_type": "markdown",
   "id": "327235aa-085f-4ec4-96b6-76069f55ade7",
   "metadata": {},
   "source": [
    "## Load in SHS\n"
   ]
  },
  {
   "cell_type": "code",
   "execution_count": 18,
   "id": "6c9dd1c2-74b2-4b95-9a64-f37a9bbce0c4",
   "metadata": {
    "tags": []
   },
   "outputs": [],
   "source": [
    "def dissolve_shn(columns_to_dissolve: list, file_name: str) -> gpd.GeoDataFrame:\n",
    "    \"\"\"\n",
    "    Dissolve State Highway Network so there will only be one row for each\n",
    "    route name and route type\n",
    "    \"\"\"\n",
    "    # Read in the dataset and change the CRS to one to feet.\n",
    "    SHN_FILE = catalog_utils.get_catalog(\n",
    "        \"shared_data_catalog\"\n",
    "    ).state_highway_network.urlpath\n",
    "\n",
    "    shn = gpd.read_parquet(\n",
    "        SHN_FILE,\n",
    "        storage_options={\"token\": credentials.token},\n",
    "    ).to_crs(geography_utils.CA_NAD83Albers_ft)\n",
    "\n",
    "    # Dissolve by route which represents the the route's name and drop the other columns\n",
    "    # because they are no longer relevant.\n",
    "    shn_dissolved = (shn.dissolve(by=columns_to_dissolve).reset_index())[\n",
    "        columns_to_dissolve + [\"geometry\"]\n",
    "    ]\n",
    "\n",
    "    # Rename because I don't want any confusion between SHN route and\n",
    "    # transit route.\n",
    "    shn_dissolved = shn_dissolved.rename(columns={\"Route\": \"shn_route\"})\n",
    "    shn_dissolved.columns = shn_dissolved.columns.str.lower()\n",
    "    # Find the length of each highway.\n",
    "    shn_dissolved = shn_dissolved.assign(\n",
    "        highway_feet=shn_dissolved.geometry.length,\n",
    "        shn_route=shn_dissolved.shn_route.astype(int).astype(str),\n",
    "    )\n",
    "\n",
    "    # Save this out so I don't have to dissolve it each time.\n",
    "    shn_dissolved.to_parquet(\n",
    "        f\"gs://calitp-analytics-data/data-analyses/state_highway_network/shn_dissolved_by_{file_name}.parquet\",\n",
    "        filesystem=fs,\n",
    "    )\n",
    "    return shn_dissolved"
   ]
  },
  {
   "cell_type": "code",
   "execution_count": 19,
   "id": "6ac4d351-fcf2-4152-ba8f-c6f23428b122",
   "metadata": {
    "tags": []
   },
   "outputs": [],
   "source": [
    "# dissolved_route = dissolve_shn([\"Route\", \"District\"], \"ct_district_route\")"
   ]
  },
  {
   "cell_type": "code",
   "execution_count": 20,
   "id": "02c5ad23-d1a0-4e9c-b32b-1449a7685382",
   "metadata": {
    "tags": []
   },
   "outputs": [],
   "source": [
    "dissolved_url = \"gs://calitp-analytics-data/data-analyses/state_highway_network/shn_dissolved_by_ct_district_route.parquet\""
   ]
  },
  {
   "cell_type": "code",
   "execution_count": 21,
   "id": "12492914-cf48-4e38-a5e5-4d904edfb476",
   "metadata": {
    "tags": []
   },
   "outputs": [],
   "source": [
    "dissolved_df = gpd.read_parquet(\n",
    "    dissolved_url,\n",
    "    storage_options={\"token\": credentials.token},\n",
    ")"
   ]
  },
  {
   "cell_type": "code",
   "execution_count": 22,
   "id": "af19936f-b4dd-4e23-b6e5-b05d413f9e19",
   "metadata": {
    "tags": []
   },
   "outputs": [],
   "source": [
    "def buffer_shn(buffer_amount: int, file_name: str) -> gpd.GeoDataFrame:\n",
    "    \"\"\"\n",
    "    Add a buffer to the SHN before overlaying it with\n",
    "    transit routes.\n",
    "    \"\"\"\n",
    "    GCS_FILE_PATH = \"gs://calitp-analytics-data/data-analyses/state_highway_network/\"\n",
    "\n",
    "    # Read in the dissolved SHN file\n",
    "    shn_df = gpd.read_parquet(\n",
    "        f\"{GCS_FILE_PATH}shn_dissolved_by_{file_name}.parquet\",\n",
    "        storage_options={\"token\": credentials.token},\n",
    "    )\n",
    "\n",
    "    # Buffer the state highway.\n",
    "    shn_df_buffered = shn_df.assign(\n",
    "        geometry=shn_df.geometry.buffer(buffer_amount),\n",
    "    )\n",
    "\n",
    "    # Save it out so we won't have to buffer over again and\n",
    "    # can just read it in.\n",
    "    shn_df_buffered.to_parquet(\n",
    "        f\"{GCS_FILE_PATH}shn_buffered_{buffer_amount}_ft_{file_name}.parquet\",\n",
    "        filesystem=fs,\n",
    "    )\n",
    "\n",
    "    return shn_df_buffered"
   ]
  },
  {
   "cell_type": "code",
   "execution_count": 23,
   "id": "963c1142-8d9e-48f2-840a-34a0ce5dc2e8",
   "metadata": {
    "tags": []
   },
   "outputs": [],
   "source": [
    "SHN_HWY_BUFFER_FEET = 50\n",
    "PARALLEL_HWY_BUFFER_FEET = geography_utils.FEET_PER_MI * 0.5"
   ]
  },
  {
   "cell_type": "code",
   "execution_count": 24,
   "id": "08b13a30-de45-47ff-adea-6902fda558d0",
   "metadata": {
    "tags": []
   },
   "outputs": [],
   "source": [
    "# buffered_df = buffer_shn(SHN_HWY_BUFFER_FEET, \"ct_district_route\")"
   ]
  },
  {
   "cell_type": "code",
   "execution_count": 25,
   "id": "b8ca3c7e-a1a6-44bd-a43c-b8f51b247f02",
   "metadata": {
    "tags": []
   },
   "outputs": [],
   "source": [
    "shn_district_df = gpd.read_parquet(\n",
    "    f\"gs://calitp-analytics-data/data-analyses/state_highway_network/shn_buffered_50_ft_ct_district_route.parquet\",\n",
    "    storage_options={\"token\": credentials.token},\n",
    ")"
   ]
  },
  {
   "cell_type": "code",
   "execution_count": 26,
   "id": "996d7820-4953-4a77-be7b-befdab78cc6b",
   "metadata": {
    "tags": []
   },
   "outputs": [
    {
     "data": {
      "text/plain": [
       "344"
      ]
     },
     "execution_count": 26,
     "metadata": {},
     "output_type": "execute_result"
    }
   ],
   "source": [
    "len(shn_district_df)"
   ]
  },
  {
   "cell_type": "code",
   "execution_count": 27,
   "id": "a0f7ea49-17e5-419a-a836-7148a39511d5",
   "metadata": {
    "tags": []
   },
   "outputs": [
    {
     "data": {
      "text/plain": [
       "Index(['shn_route', 'district', 'geometry', 'highway_feet'], dtype='object')"
      ]
     },
     "execution_count": 27,
     "metadata": {},
     "output_type": "execute_result"
    }
   ],
   "source": [
    "shn_district_df.columns"
   ]
  },
  {
   "cell_type": "markdown",
   "id": "0a0a1010-074a-4a16-9470-47b6f2415aa4",
   "metadata": {},
   "source": [
    "## Overlay the transit routes with the SHN "
   ]
  },
  {
   "cell_type": "code",
   "execution_count": 28,
   "id": "9c71d1c9-7881-4813-9bf0-b3216e51efef",
   "metadata": {
    "tags": []
   },
   "outputs": [],
   "source": [
    "def routes_shn_intersection(\n",
    "    routes_gdf: gpd.GeoDataFrame, buffer_amount: int, file_name: str\n",
    ") -> gpd.GeoDataFrame:\n",
    "    \"\"\"\n",
    "    Overlay the most recent transit routes with a buffered version\n",
    "    of the SHN\n",
    "    \"\"\"\n",
    "    GCS_FILE_PATH = \"gs://calitp-analytics-data/data-analyses/state_highway_network/\"\n",
    "\n",
    "    # Read in buffered shn here or re buffer if we don't have it available.\n",
    "    HWY_FILE = f\"{GCS_FILE_PATH}shn_buffered_{buffer_amount}_ft_{file_name}.parquet\"\n",
    "\n",
    "    if fs.exists(HWY_FILE):\n",
    "        shn_routes_gdf = gpd.read_parquet(\n",
    "            HWY_FILE, storage_options={\"token\": credentials.token}\n",
    "        )\n",
    "    else:\n",
    "        shn_routes_gdf = buffer_shn(buffer_amount)\n",
    "\n",
    "    # Process the most recent transit route geographies and ensure the\n",
    "    # CRS matches the SHN routes' GDF so the overlay doesn't go wonky.\n",
    "    routes_gdf = routes_gdf.to_crs(shn_routes_gdf.crs)\n",
    "\n",
    "    # Overlay transit routes with the SHN geographies.\n",
    "    gdf = gpd.overlay(\n",
    "        routes_gdf, shn_routes_gdf, how=\"intersection\", keep_geom_type=True\n",
    "    )\n",
    "\n",
    "    # Calcuate the percent of the transit route that runs on a highway, round it up and\n",
    "    # multiply it by 100. Drop the geometry because we want the original transit route\n",
    "    # shapes.\n",
    "    gdf = gdf.assign(\n",
    "        pct_route_on_hwy=(gdf.geometry.length / gdf.route_length_feet).round(3) * 100,\n",
    "    ).drop(\n",
    "        columns=[\n",
    "            \"geometry\",\n",
    "        ]\n",
    "    )\n",
    "\n",
    "    # Join back the dataframe above with the original transit route dataframes\n",
    "    # so we can have the original transit route geographies.\n",
    "    gdf2 = pd.merge(\n",
    "        routes_gdf,\n",
    "        gdf,\n",
    "        on=[\n",
    "            \"n_trips\",\n",
    "            \"schedule_gtfs_dataset_key\",\n",
    "            \"route_id\",\n",
    "            \"route_type\",\n",
    "            \"shape_id\",\n",
    "            \"route_name_used\",\n",
    "            \"route_length_feet\",\n",
    "        ],\n",
    "        how=\"left\",\n",
    "    )\n",
    "\n",
    "    # Clean up\n",
    "    gdf2.district = gdf2.district.fillna(0).astype(int)\n",
    "    return gdf2"
   ]
  },
  {
   "cell_type": "code",
   "execution_count": 29,
   "id": "ad5727f9-fbd6-4b6e-aff2-d1e53e68bc6a",
   "metadata": {
    "tags": []
   },
   "outputs": [
    {
     "data": {
      "text/plain": [
       "Index(['n_trips', 'geometry', 'schedule_gtfs_dataset_key', 'route_id',\n",
       "       'route_type', 'shape_id', 'route_name_used', 'route_length_feet'],\n",
       "      dtype='object')"
      ]
     },
     "execution_count": 29,
     "metadata": {},
     "output_type": "execute_result"
    }
   ],
   "source": [
    "routes_assembled.columns"
   ]
  },
  {
   "cell_type": "code",
   "execution_count": 30,
   "id": "e863e3f9-32ff-44c2-82d1-2eb5d4571235",
   "metadata": {
    "tags": []
   },
   "outputs": [],
   "source": [
    "intersecting = routes_shn_intersection(routes_assembled, 50, \"ct_district_route\")"
   ]
  },
  {
   "cell_type": "code",
   "execution_count": 31,
   "id": "f957eb59-e833-4c55-a5ee-cc951fd4720f",
   "metadata": {
    "tags": []
   },
   "outputs": [
    {
     "data": {
      "text/plain": [
       "20476"
      ]
     },
     "execution_count": 31,
     "metadata": {},
     "output_type": "execute_result"
    }
   ],
   "source": [
    "len(intersecting)"
   ]
  },
  {
   "cell_type": "code",
   "execution_count": 32,
   "id": "1357f253-f227-4e7b-915f-f2d95c82e689",
   "metadata": {
    "tags": []
   },
   "outputs": [
    {
     "data": {
      "text/plain": [
       "count   18951.00\n",
       "mean        6.65\n",
       "std        15.80\n",
       "min         0.00\n",
       "25%         0.10\n",
       "50%         0.40\n",
       "75%         2.70\n",
       "max        99.20\n",
       "Name: pct_route_on_hwy, dtype: float64"
      ]
     },
     "execution_count": 32,
     "metadata": {},
     "output_type": "execute_result"
    }
   ],
   "source": [
    "intersecting.pct_route_on_hwy.describe()"
   ]
  },
  {
   "cell_type": "code",
   "execution_count": 33,
   "id": "01783445-1a2e-4c7b-8b30-6aa8ddcce225",
   "metadata": {
    "tags": []
   },
   "outputs": [
    {
     "data": {
      "text/plain": [
       "Index(['n_trips', 'geometry', 'schedule_gtfs_dataset_key', 'route_id',\n",
       "       'route_type', 'shape_id', 'route_name_used', 'route_length_feet',\n",
       "       'shn_route', 'district', 'highway_feet', 'pct_route_on_hwy'],\n",
       "      dtype='object')"
      ]
     },
     "execution_count": 33,
     "metadata": {},
     "output_type": "execute_result"
    }
   ],
   "source": [
    "intersecting.columns"
   ]
  },
  {
   "cell_type": "markdown",
   "id": "941fb149-1caf-412b-8bd9-9c36b7d80f09",
   "metadata": {},
   "source": [
    "### Find multi route districts"
   ]
  },
  {
   "cell_type": "code",
   "execution_count": 34,
   "id": "1a78ac4d-1959-46ea-9f2d-b3d0a1328581",
   "metadata": {
    "tags": []
   },
   "outputs": [],
   "source": [
    "# Find routes that cross multiple districts\n",
    "multi_district_routes = (\n",
    "    intersecting.groupby([\"schedule_gtfs_dataset_key\", \"route_name_used\", \"route_id\"])\n",
    "    .agg({\"district\": \"nunique\"})\n",
    "    .reset_index()\n",
    ")"
   ]
  },
  {
   "cell_type": "code",
   "execution_count": 35,
   "id": "b2f3c1b2-2664-4ddf-b995-ebfa36eff9b4",
   "metadata": {
    "tags": []
   },
   "outputs": [
    {
     "data": {
      "text/plain": [
       "count   2683.00\n",
       "mean       1.09\n",
       "std        0.38\n",
       "min        1.00\n",
       "25%        1.00\n",
       "50%        1.00\n",
       "75%        1.00\n",
       "max        7.00\n",
       "Name: district, dtype: float64"
      ]
     },
     "execution_count": 35,
     "metadata": {},
     "output_type": "execute_result"
    }
   ],
   "source": [
    "multi_district_routes.district.describe()"
   ]
  },
  {
   "cell_type": "code",
   "execution_count": 36,
   "id": "34975132-e966-4d50-972d-9ac748965a7a",
   "metadata": {
    "tags": []
   },
   "outputs": [
    {
     "data": {
      "text/html": [
       "<div>\n",
       "<style scoped>\n",
       "    .dataframe tbody tr th:only-of-type {\n",
       "        vertical-align: middle;\n",
       "    }\n",
       "\n",
       "    .dataframe tbody tr th {\n",
       "        vertical-align: top;\n",
       "    }\n",
       "\n",
       "    .dataframe thead th {\n",
       "        text-align: right;\n",
       "    }\n",
       "</style>\n",
       "<table border=\"1\" class=\"dataframe\">\n",
       "  <thead>\n",
       "    <tr style=\"text-align: right;\">\n",
       "      <th></th>\n",
       "      <th>schedule_gtfs_dataset_key</th>\n",
       "      <th>route_name_used</th>\n",
       "      <th>route_id</th>\n",
       "      <th>district</th>\n",
       "    </tr>\n",
       "  </thead>\n",
       "  <tbody>\n",
       "    <tr>\n",
       "      <th>1620</th>\n",
       "      <td>a37760dde6b9fdcb76b82e57afab7274</td>\n",
       "      <td>Greyhound US0831</td>\n",
       "      <td>US0831</td>\n",
       "      <td>7</td>\n",
       "    </tr>\n",
       "    <tr>\n",
       "      <th>1513</th>\n",
       "      <td>a37760dde6b9fdcb76b82e57afab7274</td>\n",
       "      <td>FlixBus N2003</td>\n",
       "      <td>N2003</td>\n",
       "      <td>6</td>\n",
       "    </tr>\n",
       "    <tr>\n",
       "      <th>555</th>\n",
       "      <td>48e137bc977da88970393f629c18432c</td>\n",
       "      <td>Coast Starlight</td>\n",
       "      <td>36924</td>\n",
       "      <td>5</td>\n",
       "    </tr>\n",
       "    <tr>\n",
       "      <th>549</th>\n",
       "      <td>48e137bc977da88970393f629c18432c</td>\n",
       "      <td>California Zephyr</td>\n",
       "      <td>96</td>\n",
       "      <td>4</td>\n",
       "    </tr>\n",
       "    <tr>\n",
       "      <th>1615</th>\n",
       "      <td>a37760dde6b9fdcb76b82e57afab7274</td>\n",
       "      <td>Greyhound US0800</td>\n",
       "      <td>US0800</td>\n",
       "      <td>4</td>\n",
       "    </tr>\n",
       "    <tr>\n",
       "      <th>1616</th>\n",
       "      <td>a37760dde6b9fdcb76b82e57afab7274</td>\n",
       "      <td>Greyhound US0802</td>\n",
       "      <td>US0802</td>\n",
       "      <td>4</td>\n",
       "    </tr>\n",
       "    <tr>\n",
       "      <th>1617</th>\n",
       "      <td>a37760dde6b9fdcb76b82e57afab7274</td>\n",
       "      <td>Greyhound US0810</td>\n",
       "      <td>US0810</td>\n",
       "      <td>4</td>\n",
       "    </tr>\n",
       "    <tr>\n",
       "      <th>582</th>\n",
       "      <td>48e137bc977da88970393f629c18432c</td>\n",
       "      <td>Texas Eagle</td>\n",
       "      <td>87</td>\n",
       "      <td>4</td>\n",
       "    </tr>\n",
       "    <tr>\n",
       "      <th>1619</th>\n",
       "      <td>a37760dde6b9fdcb76b82e57afab7274</td>\n",
       "      <td>Greyhound US0830</td>\n",
       "      <td>US0830</td>\n",
       "      <td>4</td>\n",
       "    </tr>\n",
       "    <tr>\n",
       "      <th>1618</th>\n",
       "      <td>a37760dde6b9fdcb76b82e57afab7274</td>\n",
       "      <td>Greyhound US0811</td>\n",
       "      <td>US0811</td>\n",
       "      <td>4</td>\n",
       "    </tr>\n",
       "    <tr>\n",
       "      <th>572</th>\n",
       "      <td>48e137bc977da88970393f629c18432c</td>\n",
       "      <td>Pacific Surfliner</td>\n",
       "      <td>78</td>\n",
       "      <td>4</td>\n",
       "    </tr>\n",
       "    <tr>\n",
       "      <th>1460</th>\n",
       "      <td>a37760dde6b9fdcb76b82e57afab7274</td>\n",
       "      <td>FlixBus 2000</td>\n",
       "      <td>2000</td>\n",
       "      <td>4</td>\n",
       "    </tr>\n",
       "    <tr>\n",
       "      <th>1461</th>\n",
       "      <td>a37760dde6b9fdcb76b82e57afab7274</td>\n",
       "      <td>FlixBus 2006</td>\n",
       "      <td>2006</td>\n",
       "      <td>4</td>\n",
       "    </tr>\n",
       "    <tr>\n",
       "      <th>1462</th>\n",
       "      <td>a37760dde6b9fdcb76b82e57afab7274</td>\n",
       "      <td>FlixBus 2007</td>\n",
       "      <td>2007</td>\n",
       "      <td>4</td>\n",
       "    </tr>\n",
       "    <tr>\n",
       "      <th>1512</th>\n",
       "      <td>a37760dde6b9fdcb76b82e57afab7274</td>\n",
       "      <td>FlixBus N2002</td>\n",
       "      <td>N2002</td>\n",
       "      <td>4</td>\n",
       "    </tr>\n",
       "    <tr>\n",
       "      <th>578</th>\n",
       "      <td>48e137bc977da88970393f629c18432c</td>\n",
       "      <td>San Joaquins</td>\n",
       "      <td>26025</td>\n",
       "      <td>4</td>\n",
       "    </tr>\n",
       "    <tr>\n",
       "      <th>580</th>\n",
       "      <td>48e137bc977da88970393f629c18432c</td>\n",
       "      <td>Southwest Chief</td>\n",
       "      <td>51</td>\n",
       "      <td>3</td>\n",
       "    </tr>\n",
       "    <tr>\n",
       "      <th>1463</th>\n",
       "      <td>a37760dde6b9fdcb76b82e57afab7274</td>\n",
       "      <td>FlixBus 2015</td>\n",
       "      <td>2015</td>\n",
       "      <td>3</td>\n",
       "    </tr>\n",
       "    <tr>\n",
       "      <th>1623</th>\n",
       "      <td>a37760dde6b9fdcb76b82e57afab7274</td>\n",
       "      <td>Greyhound US0900</td>\n",
       "      <td>US0900</td>\n",
       "      <td>3</td>\n",
       "    </tr>\n",
       "    <tr>\n",
       "      <th>2375</th>\n",
       "      <td>ecd018ad66f497fb8f188ed5a71b284b</td>\n",
       "      <td>1</td>\n",
       "      <td>1</td>\n",
       "      <td>3</td>\n",
       "    </tr>\n",
       "    <tr>\n",
       "      <th>1464</th>\n",
       "      <td>a37760dde6b9fdcb76b82e57afab7274</td>\n",
       "      <td>FlixBus 2017</td>\n",
       "      <td>2017</td>\n",
       "      <td>3</td>\n",
       "    </tr>\n",
       "    <tr>\n",
       "      <th>1468</th>\n",
       "      <td>a37760dde6b9fdcb76b82e57afab7274</td>\n",
       "      <td>FlixBus 2054</td>\n",
       "      <td>2054</td>\n",
       "      <td>3</td>\n",
       "    </tr>\n",
       "    <tr>\n",
       "      <th>581</th>\n",
       "      <td>48e137bc977da88970393f629c18432c</td>\n",
       "      <td>Sunset Limited</td>\n",
       "      <td>36930</td>\n",
       "      <td>3</td>\n",
       "    </tr>\n",
       "    <tr>\n",
       "      <th>1469</th>\n",
       "      <td>a37760dde6b9fdcb76b82e57afab7274</td>\n",
       "      <td>FlixBus 2055</td>\n",
       "      <td>2055</td>\n",
       "      <td>3</td>\n",
       "    </tr>\n",
       "    <tr>\n",
       "      <th>661</th>\n",
       "      <td>4e2936d8f27a9bca79289ec062a1691a</td>\n",
       "      <td>100</td>\n",
       "      <td>1166</td>\n",
       "      <td>3</td>\n",
       "    </tr>\n",
       "    <tr>\n",
       "      <th>1174</th>\n",
       "      <td>7dbe3e19a4966e0c0531fa826e0446d8</td>\n",
       "      <td>150</td>\n",
       "      <td>150</td>\n",
       "      <td>2</td>\n",
       "    </tr>\n",
       "    <tr>\n",
       "      <th>2492</th>\n",
       "      <td>f1b35a50955aeb498533c1c6fdafbe44</td>\n",
       "      <td>94</td>\n",
       "      <td>94</td>\n",
       "      <td>2</td>\n",
       "    </tr>\n",
       "    <tr>\n",
       "      <th>1624</th>\n",
       "      <td>a37760dde6b9fdcb76b82e57afab7274</td>\n",
       "      <td>Greyhound US1000</td>\n",
       "      <td>US1000</td>\n",
       "      <td>2</td>\n",
       "    </tr>\n",
       "    <tr>\n",
       "      <th>1625</th>\n",
       "      <td>a37760dde6b9fdcb76b82e57afab7274</td>\n",
       "      <td>Greyhound US1001</td>\n",
       "      <td>US1001</td>\n",
       "      <td>2</td>\n",
       "    </tr>\n",
       "    <tr>\n",
       "      <th>1139</th>\n",
       "      <td>7cc0cb1871dfd558f11a2885c145d144</td>\n",
       "      <td>66</td>\n",
       "      <td>66</td>\n",
       "      <td>2</td>\n",
       "    </tr>\n",
       "  </tbody>\n",
       "</table>\n",
       "</div>"
      ],
      "text/plain": [
       "             schedule_gtfs_dataset_key    route_name_used route_id  district\n",
       "1620  a37760dde6b9fdcb76b82e57afab7274   Greyhound US0831   US0831         7\n",
       "1513  a37760dde6b9fdcb76b82e57afab7274      FlixBus N2003    N2003         6\n",
       "555   48e137bc977da88970393f629c18432c    Coast Starlight    36924         5\n",
       "549   48e137bc977da88970393f629c18432c  California Zephyr       96         4\n",
       "1615  a37760dde6b9fdcb76b82e57afab7274   Greyhound US0800   US0800         4\n",
       "1616  a37760dde6b9fdcb76b82e57afab7274   Greyhound US0802   US0802         4\n",
       "1617  a37760dde6b9fdcb76b82e57afab7274   Greyhound US0810   US0810         4\n",
       "582   48e137bc977da88970393f629c18432c        Texas Eagle       87         4\n",
       "1619  a37760dde6b9fdcb76b82e57afab7274   Greyhound US0830   US0830         4\n",
       "1618  a37760dde6b9fdcb76b82e57afab7274   Greyhound US0811   US0811         4\n",
       "572   48e137bc977da88970393f629c18432c  Pacific Surfliner       78         4\n",
       "1460  a37760dde6b9fdcb76b82e57afab7274       FlixBus 2000     2000         4\n",
       "1461  a37760dde6b9fdcb76b82e57afab7274       FlixBus 2006     2006         4\n",
       "1462  a37760dde6b9fdcb76b82e57afab7274       FlixBus 2007     2007         4\n",
       "1512  a37760dde6b9fdcb76b82e57afab7274      FlixBus N2002    N2002         4\n",
       "578   48e137bc977da88970393f629c18432c       San Joaquins    26025         4\n",
       "580   48e137bc977da88970393f629c18432c    Southwest Chief       51         3\n",
       "1463  a37760dde6b9fdcb76b82e57afab7274       FlixBus 2015     2015         3\n",
       "1623  a37760dde6b9fdcb76b82e57afab7274   Greyhound US0900   US0900         3\n",
       "2375  ecd018ad66f497fb8f188ed5a71b284b                  1        1         3\n",
       "1464  a37760dde6b9fdcb76b82e57afab7274       FlixBus 2017     2017         3\n",
       "1468  a37760dde6b9fdcb76b82e57afab7274       FlixBus 2054     2054         3\n",
       "581   48e137bc977da88970393f629c18432c     Sunset Limited    36930         3\n",
       "1469  a37760dde6b9fdcb76b82e57afab7274       FlixBus 2055     2055         3\n",
       "661   4e2936d8f27a9bca79289ec062a1691a                100     1166         3\n",
       "1174  7dbe3e19a4966e0c0531fa826e0446d8                150      150         2\n",
       "2492  f1b35a50955aeb498533c1c6fdafbe44                 94       94         2\n",
       "1624  a37760dde6b9fdcb76b82e57afab7274   Greyhound US1000   US1000         2\n",
       "1625  a37760dde6b9fdcb76b82e57afab7274   Greyhound US1001   US1001         2\n",
       "1139  7cc0cb1871dfd558f11a2885c145d144                 66       66         2"
      ]
     },
     "execution_count": 36,
     "metadata": {},
     "output_type": "execute_result"
    }
   ],
   "source": [
    "multi_district_routes.sort_values(by=[\"district\"], ascending=False).head(30)"
   ]
  },
  {
   "cell_type": "markdown",
   "id": "307ba9e6-6e22-4087-b257-1feab6882aa2",
   "metadata": {},
   "source": [
    "## Routes that overlap with multiple SHN now have 1+ row. Change it so one route will only have one row."
   ]
  },
  {
   "cell_type": "code",
   "execution_count": 37,
   "id": "f80126ac-7f49-4546-85ff-0fe7fd030bd7",
   "metadata": {
    "tags": []
   },
   "outputs": [
    {
     "data": {
      "text/plain": [
       "Index(['n_trips', 'geometry', 'schedule_gtfs_dataset_key', 'route_id',\n",
       "       'route_type', 'shape_id', 'route_name_used', 'route_length_feet',\n",
       "       'shn_route', 'district', 'highway_feet', 'pct_route_on_hwy'],\n",
       "      dtype='object')"
      ]
     },
     "execution_count": 37,
     "metadata": {},
     "output_type": "execute_result"
    }
   ],
   "source": [
    "intersecting.columns"
   ]
  },
  {
   "cell_type": "code",
   "execution_count": 38,
   "id": "1ab3b5ae-4e5e-434b-8eda-bbbd78d58322",
   "metadata": {
    "tags": []
   },
   "outputs": [],
   "source": [
    "def group_route_district(df: pd.DataFrame, pct_route_on_hwy_agg: str) -> pd.DataFrame:\n",
    "    \"\"\"\n",
    "    Aggregate by adding all the districts and SHN to a single row, rather than\n",
    "    multiple and sum up the total % of SHN a transit route intersects with.\n",
    "\n",
    "    df: the dataframe you want to aggregate\n",
    "    pct_route_on_hwy_agg: whether you want to find the max, min, sum, etc on the column\n",
    "    \"pct_route_on_hwy_across_districts\"\n",
    "    \"\"\"\n",
    "\n",
    "    agg1 = (\n",
    "        df.groupby(\n",
    "            [\"schedule_gtfs_dataset_key\", \"route_type\", \"shape_id\", \"route_id\", \"route_name_used\"],\n",
    "            as_index=False,\n",
    "        )[[\"shn_route\", \"district\", \"pct_route_on_hwy_across_districts\"]]\n",
    "        .agg(\n",
    "            {\n",
    "                \"shn_route\": lambda x: \", \".join(set(x.astype(str))),\n",
    "                \"district\": lambda x: \", \".join(set(x.astype(str))),\n",
    "                \"pct_route_on_hwy_across_districts\": pct_route_on_hwy_agg,\n",
    "            }\n",
    "        )\n",
    "        .reset_index(drop=True)\n",
    "    )\n",
    "\n",
    "    # Clean up\n",
    "    agg1.pct_route_on_hwy_across_districts = (\n",
    "        agg1.pct_route_on_hwy_across_districts.astype(float).round(2)\n",
    "    )\n",
    "    return agg1"
   ]
  },
  {
   "cell_type": "code",
   "execution_count": 39,
   "id": "1ce66e89-22e9-4862-b426-1f0cebfa355c",
   "metadata": {
    "tags": []
   },
   "outputs": [],
   "source": [
    "def create_on_shs_column(df):\n",
    "    df[\"on_shs\"] = np.where(df[\"pct_route_on_hwy_across_districts\"] == 0, \"N\", \"Y\")\n",
    "    return df"
   ]
  },
  {
   "cell_type": "code",
   "execution_count": 40,
   "id": "4a0c7225-c1a8-437f-b50f-cdcda38bda57",
   "metadata": {
    "tags": []
   },
   "outputs": [],
   "source": [
    "def add_shn_information(gdf: gpd.GeoDataFrame, buffer_amt:int) -> pd.DataFrame:\n",
    "    \"\"\"\n",
    "    Prepare the gdf to join with the existing transit_routes\n",
    "    dataframe that is published on the Open Data Portal\n",
    "    \"\"\"\n",
    "    # Overlay\n",
    "    intersecting = routes_shn_intersection(gdf, 50, \"ct_district_route\")\n",
    "    # Rename column\n",
    "    gdf = gdf.rename(columns={\"pct_route_on_hwy\": \"pct_route_on_hwy_across_districts\"})\n",
    "    # Group the dataframe so that one route only has one\n",
    "    # row instead of multiple rows after finding its\n",
    "    # intersection with any SHN routes.\n",
    "    agg1 = group_route_district(gdf, \"sum\")\n",
    "\n",
    "    # Add yes/no column to signify if a transit route intersects\n",
    "    # with a SHN route\n",
    "    agg1 = create_on_shs_column(agg1)\n",
    "\n",
    "    # Clean up rows that are tagged as \"on_shs==N\" but still have values\n",
    "    # that appear. \n",
    "    agg1.loc[(agg1['on_shs'] == \"N\") & (agg1['district'] != \"0\"), \n",
    "                        ['district', 'shn_route']] = np.nan\n",
    "    return agg1"
   ]
  },
  {
   "cell_type": "code",
   "execution_count": 41,
   "id": "b5d69758-260d-4c92-9a7a-bbe701eca6c5",
   "metadata": {
    "tags": []
   },
   "outputs": [],
   "source": [
    "open_data_portal_df = add_shn_information(intersecting, SHN_HWY_BUFFER_FEET)"
   ]
  },
  {
   "cell_type": "code",
   "execution_count": 42,
   "id": "78f2cbc7-9e2d-41c0-ba02-1e455055c316",
   "metadata": {
    "tags": []
   },
   "outputs": [
    {
     "data": {
      "text/plain": [
       "7416"
      ]
     },
     "execution_count": 42,
     "metadata": {},
     "output_type": "execute_result"
    }
   ],
   "source": [
    "len(open_data_portal_df)"
   ]
  },
  {
   "cell_type": "code",
   "execution_count": 51,
   "id": "92baefd8-6858-4d56-9e55-d05ee617de54",
   "metadata": {
    "tags": []
   },
   "outputs": [
    {
     "data": {
      "text/plain": [
       "Index(['schedule_gtfs_dataset_key', 'route_type', 'shape_id', 'route_id',\n",
       "       'route_name_used', 'shn_route', 'district',\n",
       "       'pct_route_on_hwy_across_districts', 'on_shs'],\n",
       "      dtype='object')"
      ]
     },
     "execution_count": 51,
     "metadata": {},
     "output_type": "execute_result"
    }
   ],
   "source": [
    "open_data_portal_df.columns"
   ]
  },
  {
   "cell_type": "code",
   "execution_count": 43,
   "id": "1f472c6b-b76c-45af-b51d-4ccc0d843e6a",
   "metadata": {
    "tags": []
   },
   "outputs": [
    {
     "name": "stdout",
     "output_type": "stream",
     "text": [
      "<class 'pandas.core.frame.DataFrame'>\n",
      "RangeIndex: 7416 entries, 0 to 7415\n",
      "Data columns (total 9 columns):\n",
      " #   Column                             Non-Null Count  Dtype  \n",
      "---  ------                             --------------  -----  \n",
      " 0   schedule_gtfs_dataset_key          7416 non-null   object \n",
      " 1   route_type                         7416 non-null   object \n",
      " 2   shape_id                           7416 non-null   object \n",
      " 3   route_id                           7416 non-null   object \n",
      " 4   route_name_used                    7416 non-null   object \n",
      " 5   shn_route                          7407 non-null   object \n",
      " 6   district                           7407 non-null   object \n",
      " 7   pct_route_on_hwy_across_districts  7416 non-null   float64\n",
      " 8   on_shs                             7416 non-null   object \n",
      "dtypes: float64(1), object(8)\n",
      "memory usage: 521.6+ KB\n"
     ]
    }
   ],
   "source": [
    "open_data_portal_df.info()"
   ]
  },
  {
   "cell_type": "code",
   "execution_count": 44,
   "id": "264c8f5c-5d6a-41fb-842f-b7393093287e",
   "metadata": {
    "tags": []
   },
   "outputs": [
    {
     "data": {
      "text/plain": [
       "count   7416.00\n",
       "mean      16.98\n",
       "std       27.33\n",
       "min        0.00\n",
       "25%        0.40\n",
       "50%        1.40\n",
       "75%       21.42\n",
       "max      100.00\n",
       "Name: pct_route_on_hwy_across_districts, dtype: float64"
      ]
     },
     "execution_count": 44,
     "metadata": {},
     "output_type": "execute_result"
    }
   ],
   "source": [
    "open_data_portal_df.pct_route_on_hwy_across_districts.describe()"
   ]
  },
  {
   "cell_type": "code",
   "execution_count": 45,
   "id": "46516f07-e9f9-470d-9425-76be845f3248",
   "metadata": {
    "tags": []
   },
   "outputs": [
    {
     "data": {
      "text/plain": [
       "Y    5882\n",
       "N    1534\n",
       "Name: on_shs, dtype: int64"
      ]
     },
     "execution_count": 45,
     "metadata": {},
     "output_type": "execute_result"
    }
   ],
   "source": [
    "open_data_portal_df.on_shs.value_counts()"
   ]
  },
  {
   "cell_type": "code",
   "execution_count": 46,
   "id": "1f5466b9-5d1e-4e72-bc8c-61a6fed7d89a",
   "metadata": {
    "tags": []
   },
   "outputs": [
    {
     "data": {
      "text/plain": [
       "Index(['schedule_gtfs_dataset_key', 'route_type', 'shape_id', 'route_id',\n",
       "       'route_name_used', 'shn_route', 'district',\n",
       "       'pct_route_on_hwy_across_districts', 'on_shs'],\n",
       "      dtype='object')"
      ]
     },
     "execution_count": 46,
     "metadata": {},
     "output_type": "execute_result"
    }
   ],
   "source": [
    "open_data_portal_df.columns"
   ]
  },
  {
   "cell_type": "markdown",
   "id": "0602d11b-1d92-492f-8d42-b8cda920a013",
   "metadata": {},
   "source": [
    "## How is possible to have `on_shs==N` but there are populated values in `shn_route` and `District`"
   ]
  },
  {
   "cell_type": "code",
   "execution_count": 47,
   "id": "8fd357b5-aa6c-42c7-af83-5773e6b440a6",
   "metadata": {
    "tags": []
   },
   "outputs": [
    {
     "data": {
      "text/html": [
       "<div>\n",
       "<style scoped>\n",
       "    .dataframe tbody tr th:only-of-type {\n",
       "        vertical-align: middle;\n",
       "    }\n",
       "\n",
       "    .dataframe tbody tr th {\n",
       "        vertical-align: top;\n",
       "    }\n",
       "\n",
       "    .dataframe thead th {\n",
       "        text-align: right;\n",
       "    }\n",
       "</style>\n",
       "<table border=\"1\" class=\"dataframe\">\n",
       "  <thead>\n",
       "    <tr style=\"text-align: right;\">\n",
       "      <th></th>\n",
       "      <th>schedule_gtfs_dataset_key</th>\n",
       "      <th>route_type</th>\n",
       "      <th>shape_id</th>\n",
       "      <th>route_id</th>\n",
       "      <th>route_name_used</th>\n",
       "      <th>shn_route</th>\n",
       "      <th>district</th>\n",
       "      <th>pct_route_on_hwy_across_districts</th>\n",
       "      <th>on_shs</th>\n",
       "    </tr>\n",
       "  </thead>\n",
       "  <tbody>\n",
       "    <tr>\n",
       "      <th>1739</th>\n",
       "      <td>48e137bc977da88970393f629c18432c</td>\n",
       "      <td>2</td>\n",
       "      <td>118</td>\n",
       "      <td>51</td>\n",
       "      <td>Southwest Chief</td>\n",
       "      <td>NaN</td>\n",
       "      <td>NaN</td>\n",
       "      <td>0.00</td>\n",
       "      <td>N</td>\n",
       "    </tr>\n",
       "    <tr>\n",
       "      <th>1794</th>\n",
       "      <td>48e137bc977da88970393f629c18432c</td>\n",
       "      <td>2</td>\n",
       "      <td>270</td>\n",
       "      <td>51</td>\n",
       "      <td>Southwest Chief</td>\n",
       "      <td>NaN</td>\n",
       "      <td>NaN</td>\n",
       "      <td>0.00</td>\n",
       "      <td>N</td>\n",
       "    </tr>\n",
       "  </tbody>\n",
       "</table>\n",
       "</div>"
      ],
      "text/plain": [
       "             schedule_gtfs_dataset_key route_type shape_id route_id  \\\n",
       "1739  48e137bc977da88970393f629c18432c          2      118       51   \n",
       "1794  48e137bc977da88970393f629c18432c          2      270       51   \n",
       "\n",
       "      route_name_used shn_route district  pct_route_on_hwy_across_districts  \\\n",
       "1739  Southwest Chief       NaN      NaN                               0.00   \n",
       "1794  Southwest Chief       NaN      NaN                               0.00   \n",
       "\n",
       "     on_shs  \n",
       "1739      N  \n",
       "1794      N  "
      ]
     },
     "execution_count": 47,
     "metadata": {},
     "output_type": "execute_result"
    }
   ],
   "source": [
    "open_data_portal_df.loc[open_data_portal_df.route_name_used == \"Southwest Chief\"]"
   ]
  },
  {
   "cell_type": "code",
   "execution_count": 49,
   "id": "b7dc2080-f5ba-47a4-aea2-33f4757e6361",
   "metadata": {
    "tags": []
   },
   "outputs": [
    {
     "data": {
      "text/html": [
       "<div>\n",
       "<style scoped>\n",
       "    .dataframe tbody tr th:only-of-type {\n",
       "        vertical-align: middle;\n",
       "    }\n",
       "\n",
       "    .dataframe tbody tr th {\n",
       "        vertical-align: top;\n",
       "    }\n",
       "\n",
       "    .dataframe thead th {\n",
       "        text-align: right;\n",
       "    }\n",
       "</style>\n",
       "<table border=\"1\" class=\"dataframe\">\n",
       "  <thead>\n",
       "    <tr style=\"text-align: right;\">\n",
       "      <th></th>\n",
       "      <th>schedule_gtfs_dataset_key</th>\n",
       "      <th>route_type</th>\n",
       "      <th>shape_id</th>\n",
       "      <th>route_id</th>\n",
       "      <th>route_name_used</th>\n",
       "      <th>shn_route</th>\n",
       "      <th>district</th>\n",
       "      <th>pct_route_on_hwy_across_districts</th>\n",
       "      <th>on_shs</th>\n",
       "    </tr>\n",
       "  </thead>\n",
       "  <tbody>\n",
       "    <tr>\n",
       "      <th>1739</th>\n",
       "      <td>48e137bc977da88970393f629c18432c</td>\n",
       "      <td>2</td>\n",
       "      <td>118</td>\n",
       "      <td>51</td>\n",
       "      <td>Southwest Chief</td>\n",
       "      <td>NaN</td>\n",
       "      <td>NaN</td>\n",
       "      <td>0.00</td>\n",
       "      <td>N</td>\n",
       "    </tr>\n",
       "    <tr>\n",
       "      <th>1755</th>\n",
       "      <td>48e137bc977da88970393f629c18432c</td>\n",
       "      <td>2</td>\n",
       "      <td>173</td>\n",
       "      <td>96</td>\n",
       "      <td>California Zephyr</td>\n",
       "      <td>NaN</td>\n",
       "      <td>NaN</td>\n",
       "      <td>0.00</td>\n",
       "      <td>N</td>\n",
       "    </tr>\n",
       "    <tr>\n",
       "      <th>1756</th>\n",
       "      <td>48e137bc977da88970393f629c18432c</td>\n",
       "      <td>2</td>\n",
       "      <td>174</td>\n",
       "      <td>96</td>\n",
       "      <td>California Zephyr</td>\n",
       "      <td>NaN</td>\n",
       "      <td>NaN</td>\n",
       "      <td>0.00</td>\n",
       "      <td>N</td>\n",
       "    </tr>\n",
       "    <tr>\n",
       "      <th>1766</th>\n",
       "      <td>48e137bc977da88970393f629c18432c</td>\n",
       "      <td>2</td>\n",
       "      <td>195</td>\n",
       "      <td>87</td>\n",
       "      <td>Texas Eagle</td>\n",
       "      <td>NaN</td>\n",
       "      <td>NaN</td>\n",
       "      <td>0.00</td>\n",
       "      <td>N</td>\n",
       "    </tr>\n",
       "    <tr>\n",
       "      <th>1772</th>\n",
       "      <td>48e137bc977da88970393f629c18432c</td>\n",
       "      <td>2</td>\n",
       "      <td>222</td>\n",
       "      <td>26025</td>\n",
       "      <td>San Joaquins</td>\n",
       "      <td>NaN</td>\n",
       "      <td>NaN</td>\n",
       "      <td>0.00</td>\n",
       "      <td>N</td>\n",
       "    </tr>\n",
       "    <tr>\n",
       "      <th>1774</th>\n",
       "      <td>48e137bc977da88970393f629c18432c</td>\n",
       "      <td>2</td>\n",
       "      <td>224</td>\n",
       "      <td>26025</td>\n",
       "      <td>San Joaquins</td>\n",
       "      <td>NaN</td>\n",
       "      <td>NaN</td>\n",
       "      <td>0.00</td>\n",
       "      <td>N</td>\n",
       "    </tr>\n",
       "    <tr>\n",
       "      <th>1792</th>\n",
       "      <td>48e137bc977da88970393f629c18432c</td>\n",
       "      <td>2</td>\n",
       "      <td>269</td>\n",
       "      <td>36930</td>\n",
       "      <td>Sunset Limited</td>\n",
       "      <td>NaN</td>\n",
       "      <td>NaN</td>\n",
       "      <td>0.00</td>\n",
       "      <td>N</td>\n",
       "    </tr>\n",
       "    <tr>\n",
       "      <th>1794</th>\n",
       "      <td>48e137bc977da88970393f629c18432c</td>\n",
       "      <td>2</td>\n",
       "      <td>270</td>\n",
       "      <td>51</td>\n",
       "      <td>Southwest Chief</td>\n",
       "      <td>NaN</td>\n",
       "      <td>NaN</td>\n",
       "      <td>0.00</td>\n",
       "      <td>N</td>\n",
       "    </tr>\n",
       "    <tr>\n",
       "      <th>1795</th>\n",
       "      <td>48e137bc977da88970393f629c18432c</td>\n",
       "      <td>2</td>\n",
       "      <td>271</td>\n",
       "      <td>36930</td>\n",
       "      <td>Sunset Limited</td>\n",
       "      <td>NaN</td>\n",
       "      <td>NaN</td>\n",
       "      <td>0.00</td>\n",
       "      <td>N</td>\n",
       "    </tr>\n",
       "  </tbody>\n",
       "</table>\n",
       "</div>"
      ],
      "text/plain": [
       "             schedule_gtfs_dataset_key route_type shape_id route_id  \\\n",
       "1739  48e137bc977da88970393f629c18432c          2      118       51   \n",
       "1755  48e137bc977da88970393f629c18432c          2      173       96   \n",
       "1756  48e137bc977da88970393f629c18432c          2      174       96   \n",
       "1766  48e137bc977da88970393f629c18432c          2      195       87   \n",
       "1772  48e137bc977da88970393f629c18432c          2      222    26025   \n",
       "1774  48e137bc977da88970393f629c18432c          2      224    26025   \n",
       "1792  48e137bc977da88970393f629c18432c          2      269    36930   \n",
       "1794  48e137bc977da88970393f629c18432c          2      270       51   \n",
       "1795  48e137bc977da88970393f629c18432c          2      271    36930   \n",
       "\n",
       "        route_name_used shn_route district  pct_route_on_hwy_across_districts  \\\n",
       "1739    Southwest Chief       NaN      NaN                               0.00   \n",
       "1755  California Zephyr       NaN      NaN                               0.00   \n",
       "1756  California Zephyr       NaN      NaN                               0.00   \n",
       "1766        Texas Eagle       NaN      NaN                               0.00   \n",
       "1772       San Joaquins       NaN      NaN                               0.00   \n",
       "1774       San Joaquins       NaN      NaN                               0.00   \n",
       "1792     Sunset Limited       NaN      NaN                               0.00   \n",
       "1794    Southwest Chief       NaN      NaN                               0.00   \n",
       "1795     Sunset Limited       NaN      NaN                               0.00   \n",
       "\n",
       "     on_shs  \n",
       "1739      N  \n",
       "1755      N  \n",
       "1756      N  \n",
       "1766      N  \n",
       "1772      N  \n",
       "1774      N  \n",
       "1792      N  \n",
       "1794      N  \n",
       "1795      N  "
      ]
     },
     "execution_count": 49,
     "metadata": {},
     "output_type": "execute_result"
    }
   ],
   "source": [
    "open_data_portal_df.loc[(open_data_portal_df.on_shs == \"N\") & (open_data_portal_df.district != \"0\")]"
   ]
  },
  {
   "cell_type": "code",
   "execution_count": 50,
   "id": "efb7bbbd-28d7-4332-9a40-e471df01cd8c",
   "metadata": {
    "tags": []
   },
   "outputs": [
    {
     "data": {
      "text/plain": [
       "Index(['schedule_gtfs_dataset_key', 'route_type', 'shape_id', 'route_id',\n",
       "       'route_name_used', 'shn_route', 'district',\n",
       "       'pct_route_on_hwy_across_districts', 'on_shs'],\n",
       "      dtype='object')"
      ]
     },
     "execution_count": 50,
     "metadata": {},
     "output_type": "execute_result"
    }
   ],
   "source": [
    "open_data_portal_df.columns"
   ]
  },
  {
   "cell_type": "markdown",
   "id": "48d9394e-6a57-4d7e-941f-5bec6d442194",
   "metadata": {},
   "source": [
    "### Map"
   ]
  },
  {
   "cell_type": "code",
   "execution_count": null,
   "id": "f7364b10-15d3-4442-bb9d-3a2f6dec014a",
   "metadata": {
    "tags": []
   },
   "outputs": [],
   "source": [
    "m = shn_district_df.explore(\n",
    "    name=\"district\",\n",
    "    tiles=\"CartoDB positron\",\n",
    "    style_kwds={\"color\": \"#9DA4A6\", \"opacity\": 0.5},\n",
    "    height=500,\n",
    "    width=1000,\n",
    "    legend = False\n",
    ")"
   ]
  },
  {
   "cell_type": "code",
   "execution_count": null,
   "id": "c8b388b7-843a-48ef-ae07-a9a81f4632cf",
   "metadata": {
    "tags": []
   },
   "outputs": [],
   "source": [
    "southwest_chief = intersecting.loc[ (intersecting.route_name_used ==  \"Southwest Chief\") \n",
    "]"
   ]
  },
  {
   "cell_type": "code",
   "execution_count": null,
   "id": "a54fc137-cd4f-43d7-b162-ca39f3ad94e4",
   "metadata": {
    "tags": []
   },
   "outputs": [],
   "source": [
    "\"\"\"southwest_chief.explore(\n",
    "    m=m,\n",
    "    cmap=\"Spectral\",\n",
    "    categorical=True,\n",
    "    legend=False,\n",
    "    legend_kwds={\"width\": 200},\n",
    ")\"\"\""
   ]
  }
 ],
 "metadata": {
  "kernelspec": {
   "display_name": "Python 3 (ipykernel)",
   "language": "python",
   "name": "python3"
  },
  "language_info": {
   "codemirror_mode": {
    "name": "ipython",
    "version": 3
   },
   "file_extension": ".py",
   "mimetype": "text/x-python",
   "name": "python",
   "nbconvert_exporter": "python",
   "pygments_lexer": "ipython3",
   "version": "3.11.10"
  }
 },
 "nbformat": 4,
 "nbformat_minor": 5
}
