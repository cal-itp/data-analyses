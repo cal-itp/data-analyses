{
 "cells": [
  {
   "cell_type": "markdown",
   "id": "9faa3e1f-7c0f-4c6e-81f2-34ed1e1ddde9",
   "metadata": {},
   "source": [
    "# Add SHN Info to Transit Routes in the middle of the Pipeline"
   ]
  },
  {
   "cell_type": "code",
   "execution_count": 57,
   "id": "14ea6238-52b2-4221-b806-39062daa8a85",
   "metadata": {
    "tags": []
   },
   "outputs": [],
   "source": [
    "import datetime\n",
    "\n",
    "import geopandas as gpd\n",
    "import google.auth\n",
    "import numpy as np\n",
    "import pandas as pd\n",
    "import yaml\n",
    "from calitp_data_analysis import geography_utils, utils\n",
    "from calitp_data_analysis.geography_utils import WGS84\n",
    "from segment_speed_utils import helpers\n",
    "from shared_utils import (\n",
    "    catalog_utils,\n",
    "    portfolio_utils,\n",
    "    publish_utils,\n",
    "    rt_dates,\n",
    "    rt_utils,\n",
    "    schedule_rt_utils,\n",
    ")\n",
    "from update_vars import GTFS_DATA_DICT, RT_SCHED_GCS, SCHED_GCS, SEGMENT_GCS\n",
    "\n",
    "credentials, project = google.auth.default()\n",
    "\n",
    "import gcsfs\n",
    "\n",
    "fs = gcsfs.GCSFileSystem()"
   ]
  },
  {
   "cell_type": "code",
   "execution_count": 12,
   "id": "d79035fe-8ad0-49b6-a309-1a95ea3864f3",
   "metadata": {
    "tags": []
   },
   "outputs": [],
   "source": [
    "pd.options.display.max_columns = 100\n",
    "pd.options.display.float_format = \"{:.2f}\".format\n",
    "pd.set_option(\"display.max_rows\", None)\n",
    "pd.set_option(\"display.max_colwidth\", None)"
   ]
  },
  {
   "cell_type": "code",
   "execution_count": 8,
   "id": "2404a9d8-76aa-4564-ba67-2ff9dca8f999",
   "metadata": {
    "tags": []
   },
   "outputs": [],
   "source": [
    "analysis_date_list = rt_dates.y2025_dates"
   ]
  },
  {
   "cell_type": "code",
   "execution_count": 10,
   "id": "63188e79-085b-4423-93db-7c42fc0ba49f",
   "metadata": {
    "tags": []
   },
   "outputs": [
    {
     "data": {
      "text/plain": [
       "'2025-01-15'"
      ]
     },
     "execution_count": 10,
     "metadata": {},
     "output_type": "execute_result"
    }
   ],
   "source": [
    "analysis_date_list[0]"
   ]
  },
  {
   "cell_type": "code",
   "execution_count": 13,
   "id": "1b82a1f9-c814-45bb-bdae-c343f082ff68",
   "metadata": {
    "tags": []
   },
   "outputs": [],
   "source": [
    "date = analysis_date_list[0]"
   ]
  },
  {
   "cell_type": "markdown",
   "id": "c3d3a151-3888-45c3-bf94-8028330480a7",
   "metadata": {},
   "source": [
    "## Load in Routes from `open_data_portal`"
   ]
  },
  {
   "cell_type": "code",
   "execution_count": 15,
   "id": "f106f589-acc6-4a7f-b72a-d5b5d888ebdb",
   "metadata": {
    "tags": []
   },
   "outputs": [],
   "source": [
    "trips = helpers.import_scheduled_trips(\n",
    "    date,\n",
    "    columns=[\n",
    "        \"gtfs_dataset_key\",\n",
    "        \"route_id\",\n",
    "        \"route_type\",\n",
    "        \"shape_id\",\n",
    "        \"shape_array_key\",\n",
    "        \"route_long_name\",\n",
    "        \"route_short_name\",\n",
    "        \"route_desc\",\n",
    "    ],\n",
    "    get_pandas=True,\n",
    ").dropna(subset=\"shape_array_key\")"
   ]
  },
  {
   "cell_type": "code",
   "execution_count": 17,
   "id": "c50449ef-bf2b-48c5-93de-a5f900a5ccc1",
   "metadata": {
    "tags": []
   },
   "outputs": [
    {
     "data": {
      "text/html": [
       "<div>\n",
       "<style scoped>\n",
       "    .dataframe tbody tr th:only-of-type {\n",
       "        vertical-align: middle;\n",
       "    }\n",
       "\n",
       "    .dataframe tbody tr th {\n",
       "        vertical-align: top;\n",
       "    }\n",
       "\n",
       "    .dataframe thead th {\n",
       "        text-align: right;\n",
       "    }\n",
       "</style>\n",
       "<table border=\"1\" class=\"dataframe\">\n",
       "  <thead>\n",
       "    <tr style=\"text-align: right;\">\n",
       "      <th></th>\n",
       "      <th>schedule_gtfs_dataset_key</th>\n",
       "      <th>route_id</th>\n",
       "      <th>route_type</th>\n",
       "      <th>shape_id</th>\n",
       "      <th>shape_array_key</th>\n",
       "      <th>route_long_name</th>\n",
       "      <th>route_short_name</th>\n",
       "      <th>route_desc</th>\n",
       "    </tr>\n",
       "  </thead>\n",
       "  <tbody>\n",
       "    <tr>\n",
       "      <th>7397</th>\n",
       "      <td>68aa06a25a32c83eb38c20c43977feff</td>\n",
       "      <td>14</td>\n",
       "      <td>3</td>\n",
       "      <td>4ac40e7a-0de6-42d1-84e2-f8a378d27183</td>\n",
       "      <td>8fdc285be5ebfc3f0fb0d68950a2770d</td>\n",
       "      <td>Park/Forest/MLK</td>\n",
       "      <td>14</td>\n",
       "      <td>CTC to MLK via Forest clockwise loop</td>\n",
       "    </tr>\n",
       "  </tbody>\n",
       "</table>\n",
       "</div>"
      ],
      "text/plain": [
       "             schedule_gtfs_dataset_key route_id route_type  \\\n",
       "7397  68aa06a25a32c83eb38c20c43977feff       14          3   \n",
       "\n",
       "                                  shape_id                   shape_array_key  \\\n",
       "7397  4ac40e7a-0de6-42d1-84e2-f8a378d27183  8fdc285be5ebfc3f0fb0d68950a2770d   \n",
       "\n",
       "      route_long_name route_short_name                            route_desc  \n",
       "7397  Park/Forest/MLK               14  CTC to MLK via Forest clockwise loop  "
      ]
     },
     "execution_count": 17,
     "metadata": {},
     "output_type": "execute_result"
    }
   ],
   "source": [
    "trips.sample()"
   ]
  },
  {
   "cell_type": "code",
   "execution_count": 16,
   "id": "ec65de31-da5c-4a85-b010-03fee9246bd0",
   "metadata": {
    "tags": []
   },
   "outputs": [],
   "source": [
    "shapes = helpers.import_scheduled_shapes(\n",
    "    date, columns=[\"shape_array_key\", \"n_trips\", \"geometry\"], get_pandas=True, crs=WGS84\n",
    ").dropna(subset=\"shape_array_key\")"
   ]
  },
  {
   "cell_type": "code",
   "execution_count": 31,
   "id": "e16f229f-e22b-457d-a914-c7a3880141d3",
   "metadata": {
    "tags": []
   },
   "outputs": [
    {
     "data": {
      "text/html": [
       "<div>\n",
       "<style scoped>\n",
       "    .dataframe tbody tr th:only-of-type {\n",
       "        vertical-align: middle;\n",
       "    }\n",
       "\n",
       "    .dataframe tbody tr th {\n",
       "        vertical-align: top;\n",
       "    }\n",
       "\n",
       "    .dataframe thead th {\n",
       "        text-align: right;\n",
       "    }\n",
       "</style>\n",
       "<table border=\"1\" class=\"dataframe\">\n",
       "  <thead>\n",
       "    <tr style=\"text-align: right;\">\n",
       "      <th></th>\n",
       "      <th>shape_array_key</th>\n",
       "      <th>n_trips</th>\n",
       "    </tr>\n",
       "  </thead>\n",
       "  <tbody>\n",
       "    <tr>\n",
       "      <th>7293</th>\n",
       "      <td>655d72b494b9e721d06e68458d640a05</td>\n",
       "      <td>3</td>\n",
       "    </tr>\n",
       "  </tbody>\n",
       "</table>\n",
       "</div>"
      ],
      "text/plain": [
       "                       shape_array_key  n_trips\n",
       "7293  655d72b494b9e721d06e68458d640a05        3"
      ]
     },
     "execution_count": 31,
     "metadata": {},
     "output_type": "execute_result"
    }
   ],
   "source": [
    "shapes.sample().drop(columns=[\"geometry\"])"
   ]
  },
  {
   "cell_type": "code",
   "execution_count": 19,
   "id": "e56eda75-5b23-4d1a-8563-26c9c575027b",
   "metadata": {
    "tags": []
   },
   "outputs": [],
   "source": [
    "df = (\n",
    "    pd.merge(shapes, trips, on=\"shape_array_key\", how=\"inner\")\n",
    "    .drop_duplicates(subset=\"shape_array_key\")\n",
    "    .drop(columns=\"shape_array_key\")\n",
    ")"
   ]
  },
  {
   "cell_type": "code",
   "execution_count": 20,
   "id": "49fbff16-a57a-484d-9316-00c56485accb",
   "metadata": {
    "tags": []
   },
   "outputs": [
    {
     "data": {
      "text/plain": [
       "(7416, 9)"
      ]
     },
     "execution_count": 20,
     "metadata": {},
     "output_type": "execute_result"
    }
   ],
   "source": [
    "df.shape"
   ]
  },
  {
   "cell_type": "code",
   "execution_count": 21,
   "id": "ed7c0b51-4e11-4769-b329-be8d0fd44845",
   "metadata": {
    "tags": []
   },
   "outputs": [],
   "source": [
    "drop_cols = [\"route_short_name\", \"route_long_name\", \"route_desc\"]\n",
    "route_shape_cols = [\"schedule_gtfs_dataset_key\", \"route_id\", \"shape_id\"]"
   ]
  },
  {
   "cell_type": "code",
   "execution_count": 32,
   "id": "e17e22c1-e7ba-4d24-b94a-6c069a2b4cda",
   "metadata": {
    "tags": []
   },
   "outputs": [],
   "source": [
    "def remove_erroneous_shapes(\n",
    "    shapes_with_route_info: gpd.GeoDataFrame,\n",
    ") -> gpd.GeoDataFrame:\n",
    "    \"\"\"\n",
    "    Check if line is simple for Amtrak. If it is, keep.\n",
    "    If it's not simple (line crosses itself), drop.\n",
    "\n",
    "    In Jun 2023, some Amtrak shapes appeared to be funky,\n",
    "    but in prior months, it's been ok.\n",
    "    Checking for length is fairly time-consuming.\n",
    "    \"\"\"\n",
    "    amtrak = \"Amtrak Schedule\"\n",
    "\n",
    "    possible_error = shapes_with_route_info[shapes_with_route_info.name == amtrak]\n",
    "    ok = shapes_with_route_info[shapes_with_route_info.name != amtrak]\n",
    "\n",
    "    # Check if the line crosses itself\n",
    "    ok_amtrak = (\n",
    "        possible_error.assign(simple=possible_error.geometry.is_simple)\n",
    "        .query(\"simple == True\")\n",
    "        .drop(columns=\"simple\")\n",
    "    )\n",
    "\n",
    "    ok_shapes = pd.concat([ok, ok_amtrak], axis=0).reset_index(drop=True)\n",
    "\n",
    "    return ok_shapes"
   ]
  },
  {
   "cell_type": "markdown",
   "id": "83487060-3de4-4096-b2a4-de19104fe620",
   "metadata": {},
   "source": [
    "### Didn't reach the step of `routes_assmebled2` because of all the different imports causing issues."
   ]
  },
  {
   "cell_type": "code",
   "execution_count": 22,
   "id": "39087b19-658a-4b8a-ae20-5181880c8a08",
   "metadata": {
    "tags": []
   },
   "outputs": [],
   "source": [
    "routes_assembled = (\n",
    "    portfolio_utils.add_route_name(df)\n",
    "    .drop(columns=drop_cols)\n",
    "    .sort_values(route_shape_cols)\n",
    "    .drop_duplicates(subset=route_shape_cols)\n",
    "    .reset_index(drop=True)\n",
    ")"
   ]
  },
  {
   "cell_type": "code",
   "execution_count": 23,
   "id": "b0ab9278-cdea-4d5d-8662-742bfe305e95",
   "metadata": {
    "tags": []
   },
   "outputs": [
    {
     "data": {
      "text/plain": [
       "(7416, 7)"
      ]
     },
     "execution_count": 23,
     "metadata": {},
     "output_type": "execute_result"
    }
   ],
   "source": [
    "routes_assembled.shape"
   ]
  },
  {
   "cell_type": "code",
   "execution_count": 50,
   "id": "00ee6a32-24f6-4189-a87f-9f9ce9700018",
   "metadata": {
    "tags": []
   },
   "outputs": [
    {
     "data": {
      "text/plain": [
       "Index(['n_trips', 'geometry', 'schedule_gtfs_dataset_key', 'route_id',\n",
       "       'route_type', 'shape_id', 'route_name_used'],\n",
       "      dtype='object')"
      ]
     },
     "execution_count": 50,
     "metadata": {},
     "output_type": "execute_result"
    }
   ],
   "source": [
    "routes_assembled.columns"
   ]
  },
  {
   "cell_type": "markdown",
   "id": "b71d56d6-d932-46fa-ad3a-9d2e570935cc",
   "metadata": {},
   "source": [
    "### Add length to the transit routes."
   ]
  },
  {
   "cell_type": "code",
   "execution_count": 58,
   "id": "309030af-c20c-4187-9764-697f32b28073",
   "metadata": {
    "tags": []
   },
   "outputs": [],
   "source": [
    "routes_assembled = routes_assembled.assign(\n",
    "    route_length_feet=routes_assembled.geometry.to_crs(\n",
    "        geography_utils.CA_NAD83Albers_ft\n",
    "    ).length\n",
    ")"
   ]
  },
  {
   "cell_type": "markdown",
   "id": "327235aa-085f-4ec4-96b6-76069f55ade7",
   "metadata": {},
   "source": [
    "## Load in SHS\n"
   ]
  },
  {
   "cell_type": "code",
   "execution_count": 60,
   "id": "6c9dd1c2-74b2-4b95-9a64-f37a9bbce0c4",
   "metadata": {
    "tags": []
   },
   "outputs": [],
   "source": [
    "def dissolve_shn(columns_to_dissolve: list, file_name: str) -> gpd.GeoDataFrame:\n",
    "    \"\"\"\n",
    "    Dissolve State Highway Network so there will only be one row for each\n",
    "    route name and route type\n",
    "    \"\"\"\n",
    "    # Read in the dataset and change the CRS to one to feet.\n",
    "    SHN_FILE = catalog_utils.get_catalog(\n",
    "        \"shared_data_catalog\"\n",
    "    ).state_highway_network.urlpath\n",
    "\n",
    "    shn = gpd.read_parquet(\n",
    "        SHN_FILE,\n",
    "        storage_options={\"token\": credentials.token},\n",
    "    ).to_crs(geography_utils.CA_NAD83Albers_ft)\n",
    "\n",
    "    # Dissolve by route which represents the the route's name and drop the other columns\n",
    "    # because they are no longer relevant.\n",
    "    shn_dissolved = (shn.dissolve(by=columns_to_dissolve).reset_index())[\n",
    "        columns_to_dissolve + [\"geometry\"]\n",
    "    ]\n",
    "\n",
    "    # Rename because I don't want any confusion between SHN route and\n",
    "    # transit route.\n",
    "    shn_dissolved = shn_dissolved.rename(columns={\"Route\": \"shn_route\"})\n",
    "\n",
    "    # Find the length of each highway.\n",
    "    shn_dissolved = shn_dissolved.assign(\n",
    "        highway_feet=shn_dissolved.geometry.length,\n",
    "        shn_route=shn_dissolved.shn_route.astype(int).astype(str),\n",
    "    )\n",
    "\n",
    "    # Save this out so I don't have to dissolve it each time.\n",
    "    shn_dissolved.to_parquet(\n",
    "        f\"gs://calitp-analytics-data/data-analyses/state_highway_network/shn_dissolved_by_{file_name}.parquet\",\n",
    "        filesystem=fs,\n",
    "    )\n",
    "    return shn_dissolved"
   ]
  },
  {
   "cell_type": "code",
   "execution_count": 61,
   "id": "6ac4d351-fcf2-4152-ba8f-c6f23428b122",
   "metadata": {
    "tags": []
   },
   "outputs": [],
   "source": [
    "# dissolved_route = dissolve_shn([\"Route\", \"District\"], \"ct_district_route\")"
   ]
  },
  {
   "cell_type": "code",
   "execution_count": 62,
   "id": "02c5ad23-d1a0-4e9c-b32b-1449a7685382",
   "metadata": {
    "tags": []
   },
   "outputs": [],
   "source": [
    "dissolved_url = \"gs://calitp-analytics-data/data-analyses/state_highway_network/shn_dissolved_by_ct_district_route.parquet\""
   ]
  },
  {
   "cell_type": "code",
   "execution_count": 63,
   "id": "12492914-cf48-4e38-a5e5-4d904edfb476",
   "metadata": {
    "tags": []
   },
   "outputs": [],
   "source": [
    "dissolved_df = gpd.read_parquet(\n",
    "    dissolved_url,\n",
    "    storage_options={\"token\": credentials.token},\n",
    ")"
   ]
  },
  {
   "cell_type": "code",
   "execution_count": 64,
   "id": "af19936f-b4dd-4e23-b6e5-b05d413f9e19",
   "metadata": {
    "tags": []
   },
   "outputs": [],
   "source": [
    "def buffer_shn(buffer_amount: int, file_name: str) -> gpd.GeoDataFrame:\n",
    "    \"\"\"\n",
    "    Add a buffer to the SHN before overlaying it with\n",
    "    transit routes.\n",
    "    \"\"\"\n",
    "    GCS_FILE_PATH = \"gs://calitp-analytics-data/data-analyses/state_highway_network/\"\n",
    "\n",
    "    # Read in the dissolved SHN file\n",
    "    shn_df = gpd.read_parquet(\n",
    "        f\"{GCS_FILE_PATH}shn_dissolved_by_{file_name}.parquet\",\n",
    "        storage_options={\"token\": credentials.token},\n",
    "    )\n",
    "\n",
    "    # Buffer the state highway.\n",
    "    shn_df_buffered = shn_df.assign(\n",
    "        geometry=shn_df.geometry.buffer(buffer_amount),\n",
    "    )\n",
    "\n",
    "    # Save it out so we won't have to buffer over again and\n",
    "    # can just read it in.\n",
    "    shn_df_buffered.to_parquet(\n",
    "        f\"{GCS_FILE_PATH}shn_buffered_{buffer_amount}_ft_{file_name}.parquet\",\n",
    "        filesystem=fs,\n",
    "    )\n",
    "\n",
    "    return shn_df_buffered"
   ]
  },
  {
   "cell_type": "code",
   "execution_count": 65,
   "id": "963c1142-8d9e-48f2-840a-34a0ce5dc2e8",
   "metadata": {
    "tags": []
   },
   "outputs": [],
   "source": [
    "SHN_HWY_BUFFER_FEET = 50\n",
    "PARALLEL_HWY_BUFFER_FEET = geography_utils.FEET_PER_MI * 0.5"
   ]
  },
  {
   "cell_type": "code",
   "execution_count": 66,
   "id": "b8ca3c7e-a1a6-44bd-a43c-b8f51b247f02",
   "metadata": {
    "tags": []
   },
   "outputs": [],
   "source": [
    "shn_district_df = gpd.read_parquet(\n",
    "    f\"gs://calitp-analytics-data/data-analyses/state_highway_network/shn_buffered_50_ft_ct_district_route.parquet\",\n",
    "    storage_options={\"token\": credentials.token},\n",
    ")"
   ]
  },
  {
   "cell_type": "code",
   "execution_count": 78,
   "id": "996d7820-4953-4a77-be7b-befdab78cc6b",
   "metadata": {
    "tags": []
   },
   "outputs": [
    {
     "data": {
      "text/plain": [
       "344"
      ]
     },
     "execution_count": 78,
     "metadata": {},
     "output_type": "execute_result"
    }
   ],
   "source": [
    "len(shn_district_df)"
   ]
  },
  {
   "cell_type": "markdown",
   "id": "0a0a1010-074a-4a16-9470-47b6f2415aa4",
   "metadata": {},
   "source": [
    "## Overlay the transit routes with the SHN "
   ]
  },
  {
   "cell_type": "code",
   "execution_count": 74,
   "id": "9c71d1c9-7881-4813-9bf0-b3216e51efef",
   "metadata": {
    "tags": []
   },
   "outputs": [],
   "source": [
    "def routes_shn_intersection(\n",
    "    routes_gdf: gpd.GeoDataFrame, buffer_amount: int, file_name: str\n",
    ") -> gpd.GeoDataFrame:\n",
    "    \"\"\"\n",
    "    Overlay the most recent transit routes with a buffered version\n",
    "    of the SHN\n",
    "    \"\"\"\n",
    "    GCS_FILE_PATH = \"gs://calitp-analytics-data/data-analyses/state_highway_network/\"\n",
    "\n",
    "    # Read in buffered shn here or re buffer if we don't have it available.\n",
    "    HWY_FILE = f\"{GCS_FILE_PATH}shn_buffered_{buffer_amount}_ft_{file_name}.parquet\"\n",
    "\n",
    "    if fs.exists(HWY_FILE):\n",
    "        shn_routes_gdf = gpd.read_parquet(\n",
    "            HWY_FILE, storage_options={\"token\": credentials.token}\n",
    "        )\n",
    "    else:\n",
    "        shn_routes_gdf = buffer_shn(buffer_amount)\n",
    "\n",
    "    # Process the most recent transit route geographies and ensure the\n",
    "    # CRS matches the SHN routes' GDF so the overlay doesn't go wonky.\n",
    "    routes_gdf = routes_gdf.to_crs(shn_routes_gdf.crs)\n",
    "\n",
    "    # Overlay transit routes with the SHN geographies.\n",
    "    gdf = gpd.overlay(\n",
    "        routes_gdf, shn_routes_gdf, how=\"intersection\", keep_geom_type=True\n",
    "    )\n",
    "\n",
    "    # Calcuate the percent of the transit route that runs on a highway, round it up and\n",
    "    # multiply it by 100. Drop the geometry because we want the original transit route\n",
    "    # shapes.\n",
    "    gdf = gdf.assign(\n",
    "        pct_route_on_hwy=(gdf.geometry.length / gdf.route_length_feet).round(3) * 100,\n",
    "    ).drop(\n",
    "        columns=[\n",
    "            \"geometry\",\n",
    "        ]\n",
    "    )\n",
    "\n",
    "    # Join back the dataframe above with the original transit route dataframes\n",
    "    # so we can have the original transit route geographies.\n",
    "    gdf2 = pd.merge(\n",
    "        routes_gdf,\n",
    "        gdf,\n",
    "        on=[\n",
    "            \"n_trips\",\n",
    "            \"schedule_gtfs_dataset_key\",\n",
    "            \"route_id\",\n",
    "            \"route_type\",\n",
    "            \"shape_id\",\n",
    "            \"route_name_used\",\n",
    "            \"route_length_feet\",\n",
    "        ],\n",
    "        how=\"left\",\n",
    "    )\n",
    "\n",
    "    # Clean up\n",
    "    gdf2.District = gdf2.District.fillna(0).astype(int)\n",
    "    return gdf2"
   ]
  },
  {
   "cell_type": "code",
   "execution_count": 71,
   "id": "ad5727f9-fbd6-4b6e-aff2-d1e53e68bc6a",
   "metadata": {
    "tags": []
   },
   "outputs": [
    {
     "data": {
      "text/plain": [
       "Index(['n_trips', 'geometry', 'schedule_gtfs_dataset_key', 'route_id',\n",
       "       'route_type', 'shape_id', 'route_name_used', 'route_length_feet'],\n",
       "      dtype='object')"
      ]
     },
     "execution_count": 71,
     "metadata": {},
     "output_type": "execute_result"
    }
   ],
   "source": [
    "routes_assembled.columns"
   ]
  },
  {
   "cell_type": "code",
   "execution_count": 75,
   "id": "e863e3f9-32ff-44c2-82d1-2eb5d4571235",
   "metadata": {
    "tags": []
   },
   "outputs": [],
   "source": [
    "intersecting = routes_shn_intersection(routes_assembled, 50, \"ct_district_route\")"
   ]
  },
  {
   "cell_type": "code",
   "execution_count": 77,
   "id": "f957eb59-e833-4c55-a5ee-cc951fd4720f",
   "metadata": {
    "tags": []
   },
   "outputs": [
    {
     "data": {
      "text/plain": [
       "20476"
      ]
     },
     "execution_count": 77,
     "metadata": {},
     "output_type": "execute_result"
    }
   ],
   "source": [
    "len(intersecting)"
   ]
  },
  {
   "cell_type": "code",
   "execution_count": 76,
   "id": "1357f253-f227-4e7b-915f-f2d95c82e689",
   "metadata": {
    "tags": []
   },
   "outputs": [
    {
     "data": {
      "text/plain": [
       "count   18951.00\n",
       "mean        6.65\n",
       "std        15.80\n",
       "min         0.00\n",
       "25%         0.10\n",
       "50%         0.40\n",
       "75%         2.70\n",
       "max        99.20\n",
       "Name: pct_route_on_hwy, dtype: float64"
      ]
     },
     "execution_count": 76,
     "metadata": {},
     "output_type": "execute_result"
    }
   ],
   "source": [
    "intersecting.pct_route_on_hwy.describe()"
   ]
  },
  {
   "cell_type": "code",
   "execution_count": 80,
   "id": "01783445-1a2e-4c7b-8b30-6aa8ddcce225",
   "metadata": {
    "tags": []
   },
   "outputs": [
    {
     "data": {
      "text/plain": [
       "Index(['n_trips', 'geometry', 'schedule_gtfs_dataset_key', 'route_id',\n",
       "       'route_type', 'shape_id', 'route_name_used', 'route_length_feet',\n",
       "       'shn_route', 'District', 'highway_feet', 'pct_route_on_hwy'],\n",
       "      dtype='object')"
      ]
     },
     "execution_count": 80,
     "metadata": {},
     "output_type": "execute_result"
    }
   ],
   "source": [
    "intersecting.columns"
   ]
  },
  {
   "cell_type": "code",
   "execution_count": 81,
   "id": "1a78ac4d-1959-46ea-9f2d-b3d0a1328581",
   "metadata": {
    "tags": []
   },
   "outputs": [],
   "source": [
    "# Find routes that cross multiple districts\n",
    "multi_district_routes = (\n",
    "    intersecting.groupby([\"schedule_gtfs_dataset_key\", \"route_name_used\", \"route_id\"])\n",
    "    .agg({\"District\": \"nunique\"})\n",
    "    .reset_index()\n",
    ")"
   ]
  },
  {
   "cell_type": "code",
   "execution_count": 83,
   "id": "b2f3c1b2-2664-4ddf-b995-ebfa36eff9b4",
   "metadata": {
    "tags": []
   },
   "outputs": [
    {
     "data": {
      "text/plain": [
       "count   2683.00\n",
       "mean       1.09\n",
       "std        0.38\n",
       "min        1.00\n",
       "25%        1.00\n",
       "50%        1.00\n",
       "75%        1.00\n",
       "max        7.00\n",
       "Name: District, dtype: float64"
      ]
     },
     "execution_count": 83,
     "metadata": {},
     "output_type": "execute_result"
    }
   ],
   "source": [
    "multi_district_routes.District.describe()"
   ]
  },
  {
   "cell_type": "code",
   "execution_count": 164,
   "id": "34975132-e966-4d50-972d-9ac748965a7a",
   "metadata": {
    "tags": []
   },
   "outputs": [
    {
     "data": {
      "text/html": [
       "<div>\n",
       "<style scoped>\n",
       "    .dataframe tbody tr th:only-of-type {\n",
       "        vertical-align: middle;\n",
       "    }\n",
       "\n",
       "    .dataframe tbody tr th {\n",
       "        vertical-align: top;\n",
       "    }\n",
       "\n",
       "    .dataframe thead th {\n",
       "        text-align: right;\n",
       "    }\n",
       "</style>\n",
       "<table border=\"1\" class=\"dataframe\">\n",
       "  <thead>\n",
       "    <tr style=\"text-align: right;\">\n",
       "      <th></th>\n",
       "      <th>schedule_gtfs_dataset_key</th>\n",
       "      <th>route_name_used</th>\n",
       "      <th>route_id</th>\n",
       "      <th>District</th>\n",
       "    </tr>\n",
       "  </thead>\n",
       "  <tbody>\n",
       "    <tr>\n",
       "      <th>1620</th>\n",
       "      <td>a37760dde6b9fdcb76b82e57afab7274</td>\n",
       "      <td>Greyhound US0831</td>\n",
       "      <td>US0831</td>\n",
       "      <td>7</td>\n",
       "    </tr>\n",
       "    <tr>\n",
       "      <th>1513</th>\n",
       "      <td>a37760dde6b9fdcb76b82e57afab7274</td>\n",
       "      <td>FlixBus N2003</td>\n",
       "      <td>N2003</td>\n",
       "      <td>6</td>\n",
       "    </tr>\n",
       "    <tr>\n",
       "      <th>555</th>\n",
       "      <td>48e137bc977da88970393f629c18432c</td>\n",
       "      <td>Coast Starlight</td>\n",
       "      <td>36924</td>\n",
       "      <td>5</td>\n",
       "    </tr>\n",
       "    <tr>\n",
       "      <th>549</th>\n",
       "      <td>48e137bc977da88970393f629c18432c</td>\n",
       "      <td>California Zephyr</td>\n",
       "      <td>96</td>\n",
       "      <td>4</td>\n",
       "    </tr>\n",
       "    <tr>\n",
       "      <th>1615</th>\n",
       "      <td>a37760dde6b9fdcb76b82e57afab7274</td>\n",
       "      <td>Greyhound US0800</td>\n",
       "      <td>US0800</td>\n",
       "      <td>4</td>\n",
       "    </tr>\n",
       "    <tr>\n",
       "      <th>1616</th>\n",
       "      <td>a37760dde6b9fdcb76b82e57afab7274</td>\n",
       "      <td>Greyhound US0802</td>\n",
       "      <td>US0802</td>\n",
       "      <td>4</td>\n",
       "    </tr>\n",
       "    <tr>\n",
       "      <th>1617</th>\n",
       "      <td>a37760dde6b9fdcb76b82e57afab7274</td>\n",
       "      <td>Greyhound US0810</td>\n",
       "      <td>US0810</td>\n",
       "      <td>4</td>\n",
       "    </tr>\n",
       "    <tr>\n",
       "      <th>582</th>\n",
       "      <td>48e137bc977da88970393f629c18432c</td>\n",
       "      <td>Texas Eagle</td>\n",
       "      <td>87</td>\n",
       "      <td>4</td>\n",
       "    </tr>\n",
       "    <tr>\n",
       "      <th>1619</th>\n",
       "      <td>a37760dde6b9fdcb76b82e57afab7274</td>\n",
       "      <td>Greyhound US0830</td>\n",
       "      <td>US0830</td>\n",
       "      <td>4</td>\n",
       "    </tr>\n",
       "    <tr>\n",
       "      <th>1618</th>\n",
       "      <td>a37760dde6b9fdcb76b82e57afab7274</td>\n",
       "      <td>Greyhound US0811</td>\n",
       "      <td>US0811</td>\n",
       "      <td>4</td>\n",
       "    </tr>\n",
       "    <tr>\n",
       "      <th>572</th>\n",
       "      <td>48e137bc977da88970393f629c18432c</td>\n",
       "      <td>Pacific Surfliner</td>\n",
       "      <td>78</td>\n",
       "      <td>4</td>\n",
       "    </tr>\n",
       "    <tr>\n",
       "      <th>1460</th>\n",
       "      <td>a37760dde6b9fdcb76b82e57afab7274</td>\n",
       "      <td>FlixBus 2000</td>\n",
       "      <td>2000</td>\n",
       "      <td>4</td>\n",
       "    </tr>\n",
       "    <tr>\n",
       "      <th>1461</th>\n",
       "      <td>a37760dde6b9fdcb76b82e57afab7274</td>\n",
       "      <td>FlixBus 2006</td>\n",
       "      <td>2006</td>\n",
       "      <td>4</td>\n",
       "    </tr>\n",
       "    <tr>\n",
       "      <th>1462</th>\n",
       "      <td>a37760dde6b9fdcb76b82e57afab7274</td>\n",
       "      <td>FlixBus 2007</td>\n",
       "      <td>2007</td>\n",
       "      <td>4</td>\n",
       "    </tr>\n",
       "    <tr>\n",
       "      <th>1512</th>\n",
       "      <td>a37760dde6b9fdcb76b82e57afab7274</td>\n",
       "      <td>FlixBus N2002</td>\n",
       "      <td>N2002</td>\n",
       "      <td>4</td>\n",
       "    </tr>\n",
       "    <tr>\n",
       "      <th>578</th>\n",
       "      <td>48e137bc977da88970393f629c18432c</td>\n",
       "      <td>San Joaquins</td>\n",
       "      <td>26025</td>\n",
       "      <td>4</td>\n",
       "    </tr>\n",
       "    <tr>\n",
       "      <th>580</th>\n",
       "      <td>48e137bc977da88970393f629c18432c</td>\n",
       "      <td>Southwest Chief</td>\n",
       "      <td>51</td>\n",
       "      <td>3</td>\n",
       "    </tr>\n",
       "    <tr>\n",
       "      <th>1463</th>\n",
       "      <td>a37760dde6b9fdcb76b82e57afab7274</td>\n",
       "      <td>FlixBus 2015</td>\n",
       "      <td>2015</td>\n",
       "      <td>3</td>\n",
       "    </tr>\n",
       "    <tr>\n",
       "      <th>1623</th>\n",
       "      <td>a37760dde6b9fdcb76b82e57afab7274</td>\n",
       "      <td>Greyhound US0900</td>\n",
       "      <td>US0900</td>\n",
       "      <td>3</td>\n",
       "    </tr>\n",
       "    <tr>\n",
       "      <th>2375</th>\n",
       "      <td>ecd018ad66f497fb8f188ed5a71b284b</td>\n",
       "      <td>1</td>\n",
       "      <td>1</td>\n",
       "      <td>3</td>\n",
       "    </tr>\n",
       "    <tr>\n",
       "      <th>1464</th>\n",
       "      <td>a37760dde6b9fdcb76b82e57afab7274</td>\n",
       "      <td>FlixBus 2017</td>\n",
       "      <td>2017</td>\n",
       "      <td>3</td>\n",
       "    </tr>\n",
       "    <tr>\n",
       "      <th>1468</th>\n",
       "      <td>a37760dde6b9fdcb76b82e57afab7274</td>\n",
       "      <td>FlixBus 2054</td>\n",
       "      <td>2054</td>\n",
       "      <td>3</td>\n",
       "    </tr>\n",
       "    <tr>\n",
       "      <th>581</th>\n",
       "      <td>48e137bc977da88970393f629c18432c</td>\n",
       "      <td>Sunset Limited</td>\n",
       "      <td>36930</td>\n",
       "      <td>3</td>\n",
       "    </tr>\n",
       "    <tr>\n",
       "      <th>1469</th>\n",
       "      <td>a37760dde6b9fdcb76b82e57afab7274</td>\n",
       "      <td>FlixBus 2055</td>\n",
       "      <td>2055</td>\n",
       "      <td>3</td>\n",
       "    </tr>\n",
       "    <tr>\n",
       "      <th>661</th>\n",
       "      <td>4e2936d8f27a9bca79289ec062a1691a</td>\n",
       "      <td>100</td>\n",
       "      <td>1166</td>\n",
       "      <td>3</td>\n",
       "    </tr>\n",
       "    <tr>\n",
       "      <th>1174</th>\n",
       "      <td>7dbe3e19a4966e0c0531fa826e0446d8</td>\n",
       "      <td>150</td>\n",
       "      <td>150</td>\n",
       "      <td>2</td>\n",
       "    </tr>\n",
       "    <tr>\n",
       "      <th>2492</th>\n",
       "      <td>f1b35a50955aeb498533c1c6fdafbe44</td>\n",
       "      <td>94</td>\n",
       "      <td>94</td>\n",
       "      <td>2</td>\n",
       "    </tr>\n",
       "    <tr>\n",
       "      <th>1624</th>\n",
       "      <td>a37760dde6b9fdcb76b82e57afab7274</td>\n",
       "      <td>Greyhound US1000</td>\n",
       "      <td>US1000</td>\n",
       "      <td>2</td>\n",
       "    </tr>\n",
       "    <tr>\n",
       "      <th>1625</th>\n",
       "      <td>a37760dde6b9fdcb76b82e57afab7274</td>\n",
       "      <td>Greyhound US1001</td>\n",
       "      <td>US1001</td>\n",
       "      <td>2</td>\n",
       "    </tr>\n",
       "    <tr>\n",
       "      <th>1139</th>\n",
       "      <td>7cc0cb1871dfd558f11a2885c145d144</td>\n",
       "      <td>66</td>\n",
       "      <td>66</td>\n",
       "      <td>2</td>\n",
       "    </tr>\n",
       "  </tbody>\n",
       "</table>\n",
       "</div>"
      ],
      "text/plain": [
       "             schedule_gtfs_dataset_key    route_name_used route_id  District\n",
       "1620  a37760dde6b9fdcb76b82e57afab7274   Greyhound US0831   US0831         7\n",
       "1513  a37760dde6b9fdcb76b82e57afab7274      FlixBus N2003    N2003         6\n",
       "555   48e137bc977da88970393f629c18432c    Coast Starlight    36924         5\n",
       "549   48e137bc977da88970393f629c18432c  California Zephyr       96         4\n",
       "1615  a37760dde6b9fdcb76b82e57afab7274   Greyhound US0800   US0800         4\n",
       "1616  a37760dde6b9fdcb76b82e57afab7274   Greyhound US0802   US0802         4\n",
       "1617  a37760dde6b9fdcb76b82e57afab7274   Greyhound US0810   US0810         4\n",
       "582   48e137bc977da88970393f629c18432c        Texas Eagle       87         4\n",
       "1619  a37760dde6b9fdcb76b82e57afab7274   Greyhound US0830   US0830         4\n",
       "1618  a37760dde6b9fdcb76b82e57afab7274   Greyhound US0811   US0811         4\n",
       "572   48e137bc977da88970393f629c18432c  Pacific Surfliner       78         4\n",
       "1460  a37760dde6b9fdcb76b82e57afab7274       FlixBus 2000     2000         4\n",
       "1461  a37760dde6b9fdcb76b82e57afab7274       FlixBus 2006     2006         4\n",
       "1462  a37760dde6b9fdcb76b82e57afab7274       FlixBus 2007     2007         4\n",
       "1512  a37760dde6b9fdcb76b82e57afab7274      FlixBus N2002    N2002         4\n",
       "578   48e137bc977da88970393f629c18432c       San Joaquins    26025         4\n",
       "580   48e137bc977da88970393f629c18432c    Southwest Chief       51         3\n",
       "1463  a37760dde6b9fdcb76b82e57afab7274       FlixBus 2015     2015         3\n",
       "1623  a37760dde6b9fdcb76b82e57afab7274   Greyhound US0900   US0900         3\n",
       "2375  ecd018ad66f497fb8f188ed5a71b284b                  1        1         3\n",
       "1464  a37760dde6b9fdcb76b82e57afab7274       FlixBus 2017     2017         3\n",
       "1468  a37760dde6b9fdcb76b82e57afab7274       FlixBus 2054     2054         3\n",
       "581   48e137bc977da88970393f629c18432c     Sunset Limited    36930         3\n",
       "1469  a37760dde6b9fdcb76b82e57afab7274       FlixBus 2055     2055         3\n",
       "661   4e2936d8f27a9bca79289ec062a1691a                100     1166         3\n",
       "1174  7dbe3e19a4966e0c0531fa826e0446d8                150      150         2\n",
       "2492  f1b35a50955aeb498533c1c6fdafbe44                 94       94         2\n",
       "1624  a37760dde6b9fdcb76b82e57afab7274   Greyhound US1000   US1000         2\n",
       "1625  a37760dde6b9fdcb76b82e57afab7274   Greyhound US1001   US1001         2\n",
       "1139  7cc0cb1871dfd558f11a2885c145d144                 66       66         2"
      ]
     },
     "execution_count": 164,
     "metadata": {},
     "output_type": "execute_result"
    }
   ],
   "source": [
    "multi_district_routes.sort_values(by=[\"District\"], ascending=False).head(30)"
   ]
  },
  {
   "cell_type": "markdown",
   "id": "307ba9e6-6e22-4087-b257-1feab6882aa2",
   "metadata": {},
   "source": [
    "## Routes that overlap with multiple SHN now have 1+ row. Change it so one route will only have one row."
   ]
  },
  {
   "cell_type": "code",
   "execution_count": 84,
   "id": "f80126ac-7f49-4546-85ff-0fe7fd030bd7",
   "metadata": {
    "tags": []
   },
   "outputs": [
    {
     "data": {
      "text/plain": [
       "Index(['n_trips', 'geometry', 'schedule_gtfs_dataset_key', 'route_id',\n",
       "       'route_type', 'shape_id', 'route_name_used', 'route_length_feet',\n",
       "       'shn_route', 'District', 'highway_feet', 'pct_route_on_hwy'],\n",
       "      dtype='object')"
      ]
     },
     "execution_count": 84,
     "metadata": {},
     "output_type": "execute_result"
    }
   ],
   "source": [
    "intersecting.columns"
   ]
  },
  {
   "cell_type": "code",
   "execution_count": 118,
   "id": "1ab3b5ae-4e5e-434b-8eda-bbbd78d58322",
   "metadata": {
    "tags": []
   },
   "outputs": [],
   "source": [
    "def group_route_district(df: pd.DataFrame, pct_route_on_hwy_agg: str) -> pd.DataFrame:\n",
    "    \"\"\"\n",
    "    Aggregate by adding all the districts and SHN to a single row, rather than\n",
    "    multiple and sum up the total % of SHN a transit route intersects with.\n",
    "\n",
    "    df: the dataframe you want to aggregate\n",
    "    pct_route_on_hwy_agg: whether you want to find the max, min, sum, etc on the column\n",
    "    \"pct_route_on_hwy_across_districts\"\n",
    "    \"\"\"\n",
    "\n",
    "    agg1 = (\n",
    "        df.groupby(\n",
    "            [\"schedule_gtfs_dataset_key\", \"route_type\", \"shape_id\", \"route_id\", \"route_name_used\"],\n",
    "            as_index=False,\n",
    "        )[[\"shn_route\", \"District\", \"pct_route_on_hwy_across_districts\"]]\n",
    "        .agg(\n",
    "            {\n",
    "                \"shn_route\": lambda x: \", \".join(set(x.astype(str))),\n",
    "                \"District\": lambda x: \", \".join(set(x.astype(str))),\n",
    "                \"pct_route_on_hwy_across_districts\": pct_route_on_hwy_agg,\n",
    "            }\n",
    "        )\n",
    "        .reset_index(drop=True)\n",
    "    )\n",
    "\n",
    "    # Clean up\n",
    "    agg1.pct_route_on_hwy_across_districts = (\n",
    "        agg1.pct_route_on_hwy_across_districts.astype(float).round(2)\n",
    "    )\n",
    "    return agg1"
   ]
  },
  {
   "cell_type": "code",
   "execution_count": 87,
   "id": "1ce66e89-22e9-4862-b426-1f0cebfa355c",
   "metadata": {
    "tags": []
   },
   "outputs": [],
   "source": [
    "def create_on_shs_column(df):\n",
    "    df[\"on_shs\"] = np.where(df[\"pct_route_on_hwy_across_districts\"] == 0, \"N\", \"Y\")\n",
    "    return df"
   ]
  },
  {
   "cell_type": "code",
   "execution_count": 119,
   "id": "4a0c7225-c1a8-437f-b50f-cdcda38bda57",
   "metadata": {
    "tags": []
   },
   "outputs": [],
   "source": [
    "def prep_open_data_portal(gdf: gpd.GeoDataFrame) -> pd.DataFrame:\n",
    "    \"\"\"\n",
    "    Prepare the gdf to join with the existing transit_routes\n",
    "    dataframe that is published on the Open Data Portal\n",
    "    \"\"\"\n",
    "    # Rename column\n",
    "    gdf = gdf.rename(columns={\"pct_route_on_hwy\": \"pct_route_on_hwy_across_districts\"})\n",
    "    # Group the dataframe so that one route only has one\n",
    "    # row instead of multiple rows after finding its\n",
    "    # intersection with any SHN routes.\n",
    "    agg1 = group_route_district(gdf, \"sum\")\n",
    "\n",
    "    # Add yes/no column to signify if a transit route intersects\n",
    "    # with a SHN route\n",
    "    agg1 = create_on_shs_column(agg1)\n",
    "\n",
    "    return agg1"
   ]
  },
  {
   "cell_type": "code",
   "execution_count": 120,
   "id": "b5d69758-260d-4c92-9a7a-bbe701eca6c5",
   "metadata": {
    "tags": []
   },
   "outputs": [],
   "source": [
    "open_data_portal_df = prep_open_data_portal(intersecting)"
   ]
  },
  {
   "cell_type": "markdown",
   "id": "b3b8c37a-eb28-4dc8-8675-33ebd3e946ec",
   "metadata": {},
   "source": [
    "## Why are the rows not the same?? -> Need `shape_id`"
   ]
  },
  {
   "cell_type": "code",
   "execution_count": 121,
   "id": "78f2cbc7-9e2d-41c0-ba02-1e455055c316",
   "metadata": {
    "tags": []
   },
   "outputs": [
    {
     "data": {
      "text/plain": [
       "7416"
      ]
     },
     "execution_count": 121,
     "metadata": {},
     "output_type": "execute_result"
    }
   ],
   "source": [
    "len(open_data_portal_df)"
   ]
  },
  {
   "cell_type": "code",
   "execution_count": 122,
   "id": "1f472c6b-b76c-45af-b51d-4ccc0d843e6a",
   "metadata": {
    "tags": []
   },
   "outputs": [
    {
     "name": "stdout",
     "output_type": "stream",
     "text": [
      "<class 'pandas.core.frame.DataFrame'>\n",
      "RangeIndex: 7416 entries, 0 to 7415\n",
      "Data columns (total 9 columns):\n",
      " #   Column                             Non-Null Count  Dtype  \n",
      "---  ------                             --------------  -----  \n",
      " 0   schedule_gtfs_dataset_key          7416 non-null   object \n",
      " 1   route_type                         7416 non-null   object \n",
      " 2   shape_id                           7416 non-null   object \n",
      " 3   route_id                           7416 non-null   object \n",
      " 4   route_name_used                    7416 non-null   object \n",
      " 5   shn_route                          7416 non-null   object \n",
      " 6   District                           7416 non-null   object \n",
      " 7   pct_route_on_hwy_across_districts  7416 non-null   float64\n",
      " 8   on_shs                             7416 non-null   object \n",
      "dtypes: float64(1), object(8)\n",
      "memory usage: 521.6+ KB\n"
     ]
    }
   ],
   "source": [
    "open_data_portal_df.info()"
   ]
  },
  {
   "cell_type": "code",
   "execution_count": 123,
   "id": "264c8f5c-5d6a-41fb-842f-b7393093287e",
   "metadata": {
    "tags": []
   },
   "outputs": [
    {
     "data": {
      "text/plain": [
       "count   7416.00\n",
       "mean      16.98\n",
       "std       27.33\n",
       "min        0.00\n",
       "25%        0.40\n",
       "50%        1.40\n",
       "75%       21.42\n",
       "max      100.00\n",
       "Name: pct_route_on_hwy_across_districts, dtype: float64"
      ]
     },
     "execution_count": 123,
     "metadata": {},
     "output_type": "execute_result"
    }
   ],
   "source": [
    "open_data_portal_df.pct_route_on_hwy_across_districts.describe()"
   ]
  },
  {
   "cell_type": "code",
   "execution_count": 183,
   "id": "46516f07-e9f9-470d-9425-76be845f3248",
   "metadata": {
    "tags": []
   },
   "outputs": [
    {
     "data": {
      "text/plain": [
       "Y    5882\n",
       "N    1534\n",
       "Name: on_shs, dtype: int64"
      ]
     },
     "execution_count": 183,
     "metadata": {},
     "output_type": "execute_result"
    }
   ],
   "source": [
    "open_data_portal_df.on_shs.value_counts()"
   ]
  },
  {
   "cell_type": "code",
   "execution_count": 160,
   "id": "1f5466b9-5d1e-4e72-bc8c-61a6fed7d89a",
   "metadata": {
    "tags": []
   },
   "outputs": [
    {
     "data": {
      "text/plain": [
       "Index(['schedule_gtfs_dataset_key', 'route_type', 'shape_id', 'route_id',\n",
       "       'route_name_used', 'shn_route', 'District',\n",
       "       'pct_route_on_hwy_across_districts', 'on_shs'],\n",
       "      dtype='object')"
      ]
     },
     "execution_count": 160,
     "metadata": {},
     "output_type": "execute_result"
    }
   ],
   "source": [
    "open_data_portal_df.columns"
   ]
  },
  {
   "cell_type": "markdown",
   "id": "0602d11b-1d92-492f-8d42-b8cda920a013",
   "metadata": {},
   "source": [
    "## How is possible to have `on_shs==N` but there are populated values in `shn_route` and `District`"
   ]
  },
  {
   "cell_type": "code",
   "execution_count": 165,
   "id": "8fd357b5-aa6c-42c7-af83-5773e6b440a6",
   "metadata": {
    "tags": []
   },
   "outputs": [
    {
     "data": {
      "text/html": [
       "<div>\n",
       "<style scoped>\n",
       "    .dataframe tbody tr th:only-of-type {\n",
       "        vertical-align: middle;\n",
       "    }\n",
       "\n",
       "    .dataframe tbody tr th {\n",
       "        vertical-align: top;\n",
       "    }\n",
       "\n",
       "    .dataframe thead th {\n",
       "        text-align: right;\n",
       "    }\n",
       "</style>\n",
       "<table border=\"1\" class=\"dataframe\">\n",
       "  <thead>\n",
       "    <tr style=\"text-align: right;\">\n",
       "      <th></th>\n",
       "      <th>schedule_gtfs_dataset_key</th>\n",
       "      <th>route_type</th>\n",
       "      <th>shape_id</th>\n",
       "      <th>route_id</th>\n",
       "      <th>route_name_used</th>\n",
       "      <th>shn_route</th>\n",
       "      <th>District</th>\n",
       "      <th>pct_route_on_hwy_across_districts</th>\n",
       "      <th>on_shs</th>\n",
       "    </tr>\n",
       "  </thead>\n",
       "  <tbody>\n",
       "    <tr>\n",
       "      <th>1739</th>\n",
       "      <td>48e137bc977da88970393f629c18432c</td>\n",
       "      <td>2</td>\n",
       "      <td>118</td>\n",
       "      <td>51</td>\n",
       "      <td>Southwest Chief</td>\n",
       "      <td>10, 215, 66, 101, 5, 90, 605, 210, 39, 138, 58, 95, 91, 18, 40, 710, 15, 57, 60</td>\n",
       "      <td>8, 12, 7</td>\n",
       "      <td>0.00</td>\n",
       "      <td>N</td>\n",
       "    </tr>\n",
       "    <tr>\n",
       "      <th>1794</th>\n",
       "      <td>48e137bc977da88970393f629c18432c</td>\n",
       "      <td>2</td>\n",
       "      <td>270</td>\n",
       "      <td>51</td>\n",
       "      <td>Southwest Chief</td>\n",
       "      <td>10, 215, 66, 101, 5, 90, 605, 210, 39, 138, 58, 95, 91, 18, 40, 710, 15, 57, 60</td>\n",
       "      <td>8, 12, 7</td>\n",
       "      <td>0.00</td>\n",
       "      <td>N</td>\n",
       "    </tr>\n",
       "  </tbody>\n",
       "</table>\n",
       "</div>"
      ],
      "text/plain": [
       "             schedule_gtfs_dataset_key route_type shape_id route_id  \\\n",
       "1739  48e137bc977da88970393f629c18432c          2      118       51   \n",
       "1794  48e137bc977da88970393f629c18432c          2      270       51   \n",
       "\n",
       "      route_name_used  \\\n",
       "1739  Southwest Chief   \n",
       "1794  Southwest Chief   \n",
       "\n",
       "                                                                            shn_route  \\\n",
       "1739  10, 215, 66, 101, 5, 90, 605, 210, 39, 138, 58, 95, 91, 18, 40, 710, 15, 57, 60   \n",
       "1794  10, 215, 66, 101, 5, 90, 605, 210, 39, 138, 58, 95, 91, 18, 40, 710, 15, 57, 60   \n",
       "\n",
       "      District  pct_route_on_hwy_across_districts on_shs  \n",
       "1739  8, 12, 7                               0.00      N  \n",
       "1794  8, 12, 7                               0.00      N  "
      ]
     },
     "execution_count": 165,
     "metadata": {},
     "output_type": "execute_result"
    }
   ],
   "source": [
    "open_data_portal_df.loc[open_data_portal_df.route_name_used == \"Southwest Chief\"]"
   ]
  },
  {
   "cell_type": "code",
   "execution_count": 166,
   "id": "b4ff6381-4d5f-48b3-89aa-2b6880ab2ed4",
   "metadata": {
    "tags": []
   },
   "outputs": [
    {
     "data": {
      "text/html": [
       "<div>\n",
       "<style scoped>\n",
       "    .dataframe tbody tr th:only-of-type {\n",
       "        vertical-align: middle;\n",
       "    }\n",
       "\n",
       "    .dataframe tbody tr th {\n",
       "        vertical-align: top;\n",
       "    }\n",
       "\n",
       "    .dataframe thead th {\n",
       "        text-align: right;\n",
       "    }\n",
       "</style>\n",
       "<table border=\"1\" class=\"dataframe\">\n",
       "  <thead>\n",
       "    <tr style=\"text-align: right;\">\n",
       "      <th></th>\n",
       "      <th>schedule_gtfs_dataset_key</th>\n",
       "      <th>route_type</th>\n",
       "      <th>shape_id</th>\n",
       "      <th>route_id</th>\n",
       "      <th>route_name_used</th>\n",
       "      <th>shn_route</th>\n",
       "      <th>District</th>\n",
       "      <th>pct_route_on_hwy_across_districts</th>\n",
       "      <th>on_shs</th>\n",
       "    </tr>\n",
       "  </thead>\n",
       "  <tbody>\n",
       "    <tr>\n",
       "      <th>1727</th>\n",
       "      <td>48e137bc977da88970393f629c18432c</td>\n",
       "      <td>2</td>\n",
       "      <td>101</td>\n",
       "      <td>78</td>\n",
       "      <td>Pacific Surfliner</td>\n",
       "      <td>5, 710, 101, 8, 605, 73, 39, 10, 805, 55, 22, 57, 1, 133, 52, 91, 60</td>\n",
       "      <td>11, 12, 7</td>\n",
       "      <td>0.60</td>\n",
       "      <td>Y</td>\n",
       "    </tr>\n",
       "    <tr>\n",
       "      <th>1728</th>\n",
       "      <td>48e137bc977da88970393f629c18432c</td>\n",
       "      <td>2</td>\n",
       "      <td>102</td>\n",
       "      <td>78</td>\n",
       "      <td>Pacific Surfliner</td>\n",
       "      <td>5, 710, 101, 8, 605, 73, 39, 10, 805, 55, 22, 57, 1, 133, 52, 91, 60</td>\n",
       "      <td>11, 12, 7</td>\n",
       "      <td>0.60</td>\n",
       "      <td>Y</td>\n",
       "    </tr>\n",
       "    <tr>\n",
       "      <th>1748</th>\n",
       "      <td>48e137bc977da88970393f629c18432c</td>\n",
       "      <td>2</td>\n",
       "      <td>146</td>\n",
       "      <td>78</td>\n",
       "      <td>Pacific Surfliner</td>\n",
       "      <td>8, 217, 10, 55, 1, 52, 405, 101, 170, 227, 5, 605, 73, 39, 23, 805, 27, 22, 133, 134, 110, 91, 166, 710, 118, 34, 57, 2, 60</td>\n",
       "      <td>11, 5, 12, 7</td>\n",
       "      <td>0.70</td>\n",
       "      <td>Y</td>\n",
       "    </tr>\n",
       "    <tr>\n",
       "      <th>1749</th>\n",
       "      <td>48e137bc977da88970393f629c18432c</td>\n",
       "      <td>2</td>\n",
       "      <td>148</td>\n",
       "      <td>78</td>\n",
       "      <td>Pacific Surfliner</td>\n",
       "      <td>8, 217, 10, 55, 1, 52, 405, 101, 170, 227, 5, 605, 73, 39, 23, 805, 27, 22, 133, 134, 110, 91, 166, 710, 118, 34, 57, 2, 60</td>\n",
       "      <td>11, 5, 12, 7</td>\n",
       "      <td>0.70</td>\n",
       "      <td>Y</td>\n",
       "    </tr>\n",
       "    <tr>\n",
       "      <th>1750</th>\n",
       "      <td>48e137bc977da88970393f629c18432c</td>\n",
       "      <td>2</td>\n",
       "      <td>149</td>\n",
       "      <td>78</td>\n",
       "      <td>Pacific Surfliner</td>\n",
       "      <td>8, 217, 10, 55, 1, 52, 405, 101, 170, 5, 605, 73, 39, 23, 805, 27, 22, 133, 134, 110, 91, 710, 118, 34, 57, 2, 60</td>\n",
       "      <td>11, 5, 12, 7</td>\n",
       "      <td>1.10</td>\n",
       "      <td>Y</td>\n",
       "    </tr>\n",
       "    <tr>\n",
       "      <th>1751</th>\n",
       "      <td>48e137bc977da88970393f629c18432c</td>\n",
       "      <td>2</td>\n",
       "      <td>151</td>\n",
       "      <td>78</td>\n",
       "      <td>Pacific Surfliner</td>\n",
       "      <td>8, 217, 10, 55, 1, 52, 405, 101, 170, 5, 605, 73, 39, 23, 805, 27, 22, 133, 134, 110, 91, 710, 118, 34, 57, 2, 60</td>\n",
       "      <td>11, 5, 12, 7</td>\n",
       "      <td>1.10</td>\n",
       "      <td>Y</td>\n",
       "    </tr>\n",
       "  </tbody>\n",
       "</table>\n",
       "</div>"
      ],
      "text/plain": [
       "             schedule_gtfs_dataset_key route_type shape_id route_id  \\\n",
       "1727  48e137bc977da88970393f629c18432c          2      101       78   \n",
       "1728  48e137bc977da88970393f629c18432c          2      102       78   \n",
       "1748  48e137bc977da88970393f629c18432c          2      146       78   \n",
       "1749  48e137bc977da88970393f629c18432c          2      148       78   \n",
       "1750  48e137bc977da88970393f629c18432c          2      149       78   \n",
       "1751  48e137bc977da88970393f629c18432c          2      151       78   \n",
       "\n",
       "        route_name_used  \\\n",
       "1727  Pacific Surfliner   \n",
       "1728  Pacific Surfliner   \n",
       "1748  Pacific Surfliner   \n",
       "1749  Pacific Surfliner   \n",
       "1750  Pacific Surfliner   \n",
       "1751  Pacific Surfliner   \n",
       "\n",
       "                                                                                                                        shn_route  \\\n",
       "1727                                                         5, 710, 101, 8, 605, 73, 39, 10, 805, 55, 22, 57, 1, 133, 52, 91, 60   \n",
       "1728                                                         5, 710, 101, 8, 605, 73, 39, 10, 805, 55, 22, 57, 1, 133, 52, 91, 60   \n",
       "1748  8, 217, 10, 55, 1, 52, 405, 101, 170, 227, 5, 605, 73, 39, 23, 805, 27, 22, 133, 134, 110, 91, 166, 710, 118, 34, 57, 2, 60   \n",
       "1749  8, 217, 10, 55, 1, 52, 405, 101, 170, 227, 5, 605, 73, 39, 23, 805, 27, 22, 133, 134, 110, 91, 166, 710, 118, 34, 57, 2, 60   \n",
       "1750            8, 217, 10, 55, 1, 52, 405, 101, 170, 5, 605, 73, 39, 23, 805, 27, 22, 133, 134, 110, 91, 710, 118, 34, 57, 2, 60   \n",
       "1751            8, 217, 10, 55, 1, 52, 405, 101, 170, 5, 605, 73, 39, 23, 805, 27, 22, 133, 134, 110, 91, 710, 118, 34, 57, 2, 60   \n",
       "\n",
       "          District  pct_route_on_hwy_across_districts on_shs  \n",
       "1727     11, 12, 7                               0.60      Y  \n",
       "1728     11, 12, 7                               0.60      Y  \n",
       "1748  11, 5, 12, 7                               0.70      Y  \n",
       "1749  11, 5, 12, 7                               0.70      Y  \n",
       "1750  11, 5, 12, 7                               1.10      Y  \n",
       "1751  11, 5, 12, 7                               1.10      Y  "
      ]
     },
     "execution_count": 166,
     "metadata": {},
     "output_type": "execute_result"
    }
   ],
   "source": [
    "open_data_portal_df.loc[open_data_portal_df.route_name_used == \"Pacific Surfliner\"]"
   ]
  },
  {
   "cell_type": "markdown",
   "id": "48d9394e-6a57-4d7e-941f-5bec6d442194",
   "metadata": {},
   "source": [
    "### Map"
   ]
  },
  {
   "cell_type": "code",
   "execution_count": 167,
   "id": "f7364b10-15d3-4442-bb9d-3a2f6dec014a",
   "metadata": {
    "tags": []
   },
   "outputs": [],
   "source": [
    "m = shn_district_df.explore(\n",
    "    name=\"District\",\n",
    "    tiles=\"CartoDB positron\",\n",
    "    style_kwds={\"color\": \"#9DA4A6\", \"opacity\": 0.5},\n",
    "    height=500,\n",
    "    width=1000,\n",
    "    legend = False\n",
    ")"
   ]
  },
  {
   "cell_type": "code",
   "execution_count": 171,
   "id": "c8b388b7-843a-48ef-ae07-a9a81f4632cf",
   "metadata": {
    "tags": []
   },
   "outputs": [],
   "source": [
    "southwest_chief = intersecting.loc[ (intersecting.route_name_used ==  \"Southwest Chief\") \n",
    "]"
   ]
  },
  {
   "cell_type": "code",
   "execution_count": 173,
   "id": "a54fc137-cd4f-43d7-b162-ca39f3ad94e4",
   "metadata": {
    "tags": []
   },
   "outputs": [
    {
     "data": {
      "text/plain": [
       "' southwest_chief.explore(\\n    m=m,\\n    cmap=\"Spectral\",\\n    categorical=True,\\n    legend=False,\\n    legend_kwds={\"width\": 200},\\n)'"
      ]
     },
     "execution_count": 173,
     "metadata": {},
     "output_type": "execute_result"
    }
   ],
   "source": [
    "\"\"\" southwest_chief.explore(\n",
    "    m=m,\n",
    "    cmap=\"Spectral\",\n",
    "    categorical=True,\n",
    "    legend=False,\n",
    "    legend_kwds={\"width\": 200},\n",
    ")\"\"\""
   ]
  },
  {
   "cell_type": "code",
   "execution_count": 157,
   "id": "910e94b9-92ca-418d-bf30-6d2c196f9f81",
   "metadata": {
    "tags": []
   },
   "outputs": [
    {
     "data": {
      "text/html": [
       "<div>\n",
       "<style scoped>\n",
       "    .dataframe tbody tr th:only-of-type {\n",
       "        vertical-align: middle;\n",
       "    }\n",
       "\n",
       "    .dataframe tbody tr th {\n",
       "        vertical-align: top;\n",
       "    }\n",
       "\n",
       "    .dataframe thead th {\n",
       "        text-align: right;\n",
       "    }\n",
       "</style>\n",
       "<table border=\"1\" class=\"dataframe\">\n",
       "  <thead>\n",
       "    <tr style=\"text-align: right;\">\n",
       "      <th></th>\n",
       "      <th>n_trips</th>\n",
       "      <th>schedule_gtfs_dataset_key</th>\n",
       "      <th>route_id</th>\n",
       "      <th>route_type</th>\n",
       "      <th>shape_id</th>\n",
       "      <th>route_name_used</th>\n",
       "      <th>route_length_feet</th>\n",
       "      <th>shn_route</th>\n",
       "      <th>District</th>\n",
       "      <th>highway_feet</th>\n",
       "      <th>pct_route_on_hwy</th>\n",
       "    </tr>\n",
       "  </thead>\n",
       "  <tbody>\n",
       "    <tr>\n",
       "      <th>10742</th>\n",
       "      <td>1</td>\n",
       "      <td>a253a8d7acd57657bb98050f37dd6b0f</td>\n",
       "      <td>76743</td>\n",
       "      <td>3</td>\n",
       "      <td>p_1435829</td>\n",
       "      <td>RTS</td>\n",
       "      <td>327002.95</td>\n",
       "      <td>101</td>\n",
       "      <td>1</td>\n",
       "      <td>2552547.02</td>\n",
       "      <td>41.90</td>\n",
       "    </tr>\n",
       "    <tr>\n",
       "      <th>10743</th>\n",
       "      <td>1</td>\n",
       "      <td>a253a8d7acd57657bb98050f37dd6b0f</td>\n",
       "      <td>76743</td>\n",
       "      <td>3</td>\n",
       "      <td>p_1435829</td>\n",
       "      <td>RTS</td>\n",
       "      <td>327002.95</td>\n",
       "      <td>299</td>\n",
       "      <td>1</td>\n",
       "      <td>260976.30</td>\n",
       "      <td>1.00</td>\n",
       "    </tr>\n",
       "    <tr>\n",
       "      <th>10744</th>\n",
       "      <td>1</td>\n",
       "      <td>a253a8d7acd57657bb98050f37dd6b0f</td>\n",
       "      <td>76743</td>\n",
       "      <td>3</td>\n",
       "      <td>p_1435829</td>\n",
       "      <td>RTS</td>\n",
       "      <td>327002.95</td>\n",
       "      <td>255</td>\n",
       "      <td>1</td>\n",
       "      <td>57340.79</td>\n",
       "      <td>12.10</td>\n",
       "    </tr>\n",
       "    <tr>\n",
       "      <th>10745</th>\n",
       "      <td>1</td>\n",
       "      <td>a253a8d7acd57657bb98050f37dd6b0f</td>\n",
       "      <td>76743</td>\n",
       "      <td>3</td>\n",
       "      <td>p_1435829</td>\n",
       "      <td>RTS</td>\n",
       "      <td>327002.95</td>\n",
       "      <td>36</td>\n",
       "      <td>1</td>\n",
       "      <td>240201.81</td>\n",
       "      <td>0.00</td>\n",
       "    </tr>\n",
       "    <tr>\n",
       "      <th>10746</th>\n",
       "      <td>1</td>\n",
       "      <td>a253a8d7acd57657bb98050f37dd6b0f</td>\n",
       "      <td>76743</td>\n",
       "      <td>3</td>\n",
       "      <td>p_1435829</td>\n",
       "      <td>RTS</td>\n",
       "      <td>327002.95</td>\n",
       "      <td>200</td>\n",
       "      <td>1</td>\n",
       "      <td>13996.49</td>\n",
       "      <td>0.50</td>\n",
       "    </tr>\n",
       "    <tr>\n",
       "      <th>10747</th>\n",
       "      <td>1</td>\n",
       "      <td>a253a8d7acd57657bb98050f37dd6b0f</td>\n",
       "      <td>76743</td>\n",
       "      <td>3</td>\n",
       "      <td>p_1435829</td>\n",
       "      <td>RTS</td>\n",
       "      <td>327002.95</td>\n",
       "      <td>211</td>\n",
       "      <td>1</td>\n",
       "      <td>29101.29</td>\n",
       "      <td>0.00</td>\n",
       "    </tr>\n",
       "    <tr>\n",
       "      <th>10748</th>\n",
       "      <td>1</td>\n",
       "      <td>a253a8d7acd57657bb98050f37dd6b0f</td>\n",
       "      <td>76743</td>\n",
       "      <td>3</td>\n",
       "      <td>p_1435829</td>\n",
       "      <td>RTS</td>\n",
       "      <td>327002.95</td>\n",
       "      <td>283</td>\n",
       "      <td>1</td>\n",
       "      <td>1989.75</td>\n",
       "      <td>0.50</td>\n",
       "    </tr>\n",
       "  </tbody>\n",
       "</table>\n",
       "</div>"
      ],
      "text/plain": [
       "       n_trips         schedule_gtfs_dataset_key route_id route_type  \\\n",
       "10742        1  a253a8d7acd57657bb98050f37dd6b0f    76743          3   \n",
       "10743        1  a253a8d7acd57657bb98050f37dd6b0f    76743          3   \n",
       "10744        1  a253a8d7acd57657bb98050f37dd6b0f    76743          3   \n",
       "10745        1  a253a8d7acd57657bb98050f37dd6b0f    76743          3   \n",
       "10746        1  a253a8d7acd57657bb98050f37dd6b0f    76743          3   \n",
       "10747        1  a253a8d7acd57657bb98050f37dd6b0f    76743          3   \n",
       "10748        1  a253a8d7acd57657bb98050f37dd6b0f    76743          3   \n",
       "\n",
       "        shape_id route_name_used  route_length_feet shn_route  District  \\\n",
       "10742  p_1435829             RTS          327002.95       101         1   \n",
       "10743  p_1435829             RTS          327002.95       299         1   \n",
       "10744  p_1435829             RTS          327002.95       255         1   \n",
       "10745  p_1435829             RTS          327002.95        36         1   \n",
       "10746  p_1435829             RTS          327002.95       200         1   \n",
       "10747  p_1435829             RTS          327002.95       211         1   \n",
       "10748  p_1435829             RTS          327002.95       283         1   \n",
       "\n",
       "       highway_feet  pct_route_on_hwy  \n",
       "10742    2552547.02             41.90  \n",
       "10743     260976.30              1.00  \n",
       "10744      57340.79             12.10  \n",
       "10745     240201.81              0.00  \n",
       "10746      13996.49              0.50  \n",
       "10747      29101.29              0.00  \n",
       "10748       1989.75              0.50  "
      ]
     },
     "execution_count": 157,
     "metadata": {},
     "output_type": "execute_result"
    }
   ],
   "source": [
    "intersecting.loc[\n",
    "    (intersecting.schedule_gtfs_dataset_key == \"a253a8d7acd57657bb98050f37dd6b0f\")\n",
    "    & (intersecting.route_name_used == \"RTS\") & (intersecting.shape_id == \"p_1435829\")\n",
    "].drop(columns = [\"geometry\"])"
   ]
  },
  {
   "cell_type": "code",
   "execution_count": 142,
   "id": "619ebabc-afb9-4eb8-a585-313153222bf6",
   "metadata": {
    "tags": []
   },
   "outputs": [
    {
     "data": {
      "text/plain": [
       "1434"
      ]
     },
     "execution_count": 142,
     "metadata": {},
     "output_type": "execute_result"
    }
   ],
   "source": [
    "open_data_portal_df.route_name_used.nunique()"
   ]
  },
  {
   "cell_type": "code",
   "execution_count": 143,
   "id": "03b2fe38-4598-4e7c-8a0a-ccc0b99f62dc",
   "metadata": {
    "tags": []
   },
   "outputs": [
    {
     "data": {
      "text/plain": [
       "1755"
      ]
     },
     "execution_count": 143,
     "metadata": {},
     "output_type": "execute_result"
    }
   ],
   "source": [
    "open_data_portal_df.route_id.nunique()"
   ]
  },
  {
   "cell_type": "code",
   "execution_count": 144,
   "id": "c1341d2e-e580-4f0f-877d-3c29b4edc0c9",
   "metadata": {
    "tags": []
   },
   "outputs": [
    {
     "data": {
      "text/plain": [
       "7416"
      ]
     },
     "execution_count": 144,
     "metadata": {},
     "output_type": "execute_result"
    }
   ],
   "source": [
    "len(routes_assembled)"
   ]
  },
  {
   "cell_type": "code",
   "execution_count": 145,
   "id": "d263f435-bf0b-4868-9f8e-cc5e2fe8d0fb",
   "metadata": {
    "tags": []
   },
   "outputs": [
    {
     "data": {
      "text/plain": [
       "1755"
      ]
     },
     "execution_count": 145,
     "metadata": {},
     "output_type": "execute_result"
    }
   ],
   "source": [
    "routes_assembled.route_id.nunique()"
   ]
  },
  {
   "cell_type": "code",
   "execution_count": 146,
   "id": "6f3d914f-4046-4002-a820-cffad4defe63",
   "metadata": {
    "tags": []
   },
   "outputs": [
    {
     "data": {
      "text/plain": [
       "1434"
      ]
     },
     "execution_count": 146,
     "metadata": {},
     "output_type": "execute_result"
    }
   ],
   "source": [
    "routes_assembled.route_name_used.nunique()"
   ]
  },
  {
   "cell_type": "code",
   "execution_count": 147,
   "id": "29ac94ab-5d21-4f62-bdb0-2fd7f548432d",
   "metadata": {
    "tags": []
   },
   "outputs": [
    {
     "name": "stdout",
     "output_type": "stream",
     "text": [
      "<class 'geopandas.geodataframe.GeoDataFrame'>\n",
      "RangeIndex: 7416 entries, 0 to 7415\n",
      "Data columns (total 8 columns):\n",
      " #   Column                     Non-Null Count  Dtype   \n",
      "---  ------                     --------------  -----   \n",
      " 0   n_trips                    7416 non-null   int64   \n",
      " 1   geometry                   7416 non-null   geometry\n",
      " 2   schedule_gtfs_dataset_key  7416 non-null   object  \n",
      " 3   route_id                   7416 non-null   object  \n",
      " 4   route_type                 7416 non-null   object  \n",
      " 5   shape_id                   7416 non-null   object  \n",
      " 6   route_name_used            7416 non-null   object  \n",
      " 7   route_length_feet          7416 non-null   float64 \n",
      "dtypes: float64(1), geometry(1), int64(1), object(5)\n",
      "memory usage: 463.6+ KB\n"
     ]
    }
   ],
   "source": [
    "routes_assembled.info()"
   ]
  },
  {
   "cell_type": "code",
   "execution_count": 148,
   "id": "2f519c70-cb58-4577-bae6-9c899b2fd768",
   "metadata": {
    "tags": []
   },
   "outputs": [
    {
     "data": {
      "text/plain": [
       "Index(['n_trips', 'geometry', 'schedule_gtfs_dataset_key', 'route_id',\n",
       "       'route_type', 'shape_id', 'route_name_used', 'route_length_feet'],\n",
       "      dtype='object')"
      ]
     },
     "execution_count": 148,
     "metadata": {},
     "output_type": "execute_result"
    }
   ],
   "source": [
    "routes_assembled.columns"
   ]
  },
  {
   "cell_type": "code",
   "execution_count": 159,
   "id": "fc421cdc-6fd7-483d-b8c2-63a842fb7daf",
   "metadata": {
    "tags": []
   },
   "outputs": [
    {
     "data": {
      "text/plain": [
       "7416"
      ]
     },
     "execution_count": 159,
     "metadata": {},
     "output_type": "execute_result"
    }
   ],
   "source": [
    "len(routes_assembled)"
   ]
  },
  {
   "cell_type": "code",
   "execution_count": 158,
   "id": "3193e59a-156b-4340-b0de-4654ded49f23",
   "metadata": {
    "tags": []
   },
   "outputs": [
    {
     "data": {
      "text/plain": [
       "7416"
      ]
     },
     "execution_count": 158,
     "metadata": {},
     "output_type": "execute_result"
    }
   ],
   "source": [
    "len(open_data_portal_df)"
   ]
  },
  {
   "cell_type": "code",
   "execution_count": 149,
   "id": "afbe6d47-6b6f-4877-b8dc-c84933214977",
   "metadata": {
    "tags": []
   },
   "outputs": [],
   "source": [
    "open_data = (\n",
    "    routes_assembled.groupby([\"schedule_gtfs_dataset_key\"])\n",
    "    .agg({\"route_name_used\": \"nunique\", \"route_id\": \"nunique\"})\n",
    "    .reset_index()\n",
    ")"
   ]
  },
  {
   "cell_type": "code",
   "execution_count": 150,
   "id": "d0d3ba08-70b4-46c2-b8cf-0a8fc5899efe",
   "metadata": {
    "tags": []
   },
   "outputs": [
    {
     "data": {
      "text/plain": [
       "Index(['schedule_gtfs_dataset_key', 'route_type', 'shape_id', 'route_id',\n",
       "       'route_name_used', 'shn_route', 'District',\n",
       "       'pct_route_on_hwy_across_districts', 'on_shs'],\n",
       "      dtype='object')"
      ]
     },
     "execution_count": 150,
     "metadata": {},
     "output_type": "execute_result"
    }
   ],
   "source": [
    "open_data_portal_df.columns"
   ]
  },
  {
   "cell_type": "code",
   "execution_count": 151,
   "id": "49482001-611c-4b1e-839a-a1324f6f35d3",
   "metadata": {
    "tags": []
   },
   "outputs": [],
   "source": [
    "shn_test = (\n",
    "    open_data_portal_df.groupby([\"schedule_gtfs_dataset_key\"])\n",
    "    .agg({\"route_name_used\": \"nunique\", \"route_id\": \"nunique\"})\n",
    "    .reset_index()\n",
    ")"
   ]
  },
  {
   "cell_type": "code",
   "execution_count": 152,
   "id": "405f5ae4-bad0-4f91-99df-5b2c56cf8909",
   "metadata": {
    "tags": []
   },
   "outputs": [
    {
     "data": {
      "text/html": [
       "<div>\n",
       "<style scoped>\n",
       "    .dataframe tbody tr th:only-of-type {\n",
       "        vertical-align: middle;\n",
       "    }\n",
       "\n",
       "    .dataframe tbody tr th {\n",
       "        vertical-align: top;\n",
       "    }\n",
       "\n",
       "    .dataframe thead th {\n",
       "        text-align: right;\n",
       "    }\n",
       "</style>\n",
       "<table border=\"1\" class=\"dataframe\">\n",
       "  <thead>\n",
       "    <tr style=\"text-align: right;\">\n",
       "      <th></th>\n",
       "      <th>schedule_gtfs_dataset_key</th>\n",
       "      <th>route_name_used</th>\n",
       "      <th>route_id</th>\n",
       "    </tr>\n",
       "  </thead>\n",
       "  <tbody>\n",
       "    <tr>\n",
       "      <th>48</th>\n",
       "      <td>4c6b107352b318297bb39173c796f357</td>\n",
       "      <td>18</td>\n",
       "      <td>18</td>\n",
       "    </tr>\n",
       "    <tr>\n",
       "      <th>149</th>\n",
       "      <td>d6d11b790b4c9c68760d46c4a7ee8a0c</td>\n",
       "      <td>3</td>\n",
       "      <td>3</td>\n",
       "    </tr>\n",
       "    <tr>\n",
       "      <th>163</th>\n",
       "      <td>f0207a9a6faf0275de6a06b49f787e06</td>\n",
       "      <td>5</td>\n",
       "      <td>5</td>\n",
       "    </tr>\n",
       "  </tbody>\n",
       "</table>\n",
       "</div>"
      ],
      "text/plain": [
       "            schedule_gtfs_dataset_key  route_name_used  route_id\n",
       "48   4c6b107352b318297bb39173c796f357               18        18\n",
       "149  d6d11b790b4c9c68760d46c4a7ee8a0c                3         3\n",
       "163  f0207a9a6faf0275de6a06b49f787e06                5         5"
      ]
     },
     "execution_count": 152,
     "metadata": {},
     "output_type": "execute_result"
    }
   ],
   "source": [
    "shn_test.sample(3)"
   ]
  },
  {
   "cell_type": "code",
   "execution_count": 153,
   "id": "c8234e97-efc5-4eef-b821-067db37618de",
   "metadata": {
    "tags": []
   },
   "outputs": [
    {
     "name": "stdout",
     "output_type": "stream",
     "text": [
      "<class 'pandas.core.frame.DataFrame'>\n",
      "RangeIndex: 181 entries, 0 to 180\n",
      "Data columns (total 3 columns):\n",
      " #   Column                     Non-Null Count  Dtype \n",
      "---  ------                     --------------  ----- \n",
      " 0   schedule_gtfs_dataset_key  181 non-null    object\n",
      " 1   route_name_used            181 non-null    int64 \n",
      " 2   route_id                   181 non-null    int64 \n",
      "dtypes: int64(2), object(1)\n",
      "memory usage: 4.4+ KB\n"
     ]
    }
   ],
   "source": [
    "shn_test.info()"
   ]
  }
 ],
 "metadata": {
  "kernelspec": {
   "display_name": "Python 3 (ipykernel)",
   "language": "python",
   "name": "python3"
  },
  "language_info": {
   "codemirror_mode": {
    "name": "ipython",
    "version": 3
   },
   "file_extension": ".py",
   "mimetype": "text/x-python",
   "name": "python",
   "nbconvert_exporter": "python",
   "pygments_lexer": "ipython3",
   "version": "3.11.10"
  }
 },
 "nbformat": 4,
 "nbformat_minor": 5
}
