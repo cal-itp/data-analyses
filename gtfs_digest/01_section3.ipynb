{
 "cells": [
  {
   "cell_type": "markdown",
   "id": "9ef066ac-5f6d-4595-b819-0cdacbadd7fe",
   "metadata": {},
   "source": [
    "## Round 1 \n",
    "* Updating existing charts made by Tiffany. https://gtfs-digest--cal-itp-data-analyses.netlify.app/\n",
    "* cd rt_segment_speeds && pip install altair_transform && pip install -r requirements.txt && cd ../_shared_utils && make setup_env\n",
    "\n",
    "Links\n",
    "* https://github.com/cal-itp/data-analyses/issues/1059\n",
    "* https://docs.google.com/document/d/1I1WiqlmU06W6iLCi7cZQrOCLILkrEfABEkcU0Jys7f0/edit\n",
    "* https://route-speeds--cal-itp-data-analyses.netlify.app/name_bay-area-511-muni-schedule/0__report__name_bay-area-511-muni-schedule\n",
    "* https://posit-dev.github.io/great-tables/get-started/nanoplots.html\n",
    "* https://docs.pola.rs/py-polars/html/reference/api/polars.from_pandas.html\n",
    "* https://github.com/cal-itp/data-analyses/blob/main/rt_segment_speeds/_rt_scheduled_utils.py\n",
    "* https://github.com/cal-itp/data-analyses/blob/main/rt_segment_speeds/_threshold_utils.py"
   ]
  },
  {
   "cell_type": "code",
   "execution_count": 1,
   "id": "41ffdcf4-2076-49c6-bae6-6ffb51f044b3",
   "metadata": {},
   "outputs": [],
   "source": [
    "import _section3_utils as section3\n",
    "import _report_utils\n",
    "import altair as alt\n",
    "import calitp_data_analysis.magics\n",
    "import geopandas as gpd\n",
    "import great_tables as gt\n",
    "import pandas as pd\n",
    "from calitp_data_analysis import calitp_color_palette as cp\n",
    "from great_tables import md\n",
    "from IPython.display import HTML, Markdown, display\n",
    "from segment_speed_utils.project_vars import RT_SCHED_GCS, SCHED_GCS\n",
    "from shared_utils import rt_dates, rt_utils, catalog_utils\n",
    "\n",
    "alt.renderers.enable(\"html\")\n",
    "alt.data_transformers.enable(\"default\", max_rows=None)\n",
    "from typing import List, Union\n",
    "\n",
    "from altair_transform.extract import extract_transform\n",
    "from altair_transform.transform import visit\n",
    "from altair_transform.utils import to_dataframe"
   ]
  },
  {
   "cell_type": "code",
   "execution_count": 2,
   "id": "6366b86d-cdad-4aa0-9b29-9e506cb63258",
   "metadata": {},
   "outputs": [],
   "source": [
    "pd.options.display.max_columns = 100\n",
    "pd.options.display.float_format = \"{:.2f}\".format\n",
    "pd.set_option(\"display.max_rows\", None)\n",
    "pd.set_option(\"display.max_colwidth\", None)"
   ]
  },
  {
   "cell_type": "code",
   "execution_count": 3,
   "id": "8567437c-3023-4281-b0f5-5903c29217a2",
   "metadata": {},
   "outputs": [],
   "source": [
    "GTFS_DATA_DICT = catalog_utils.get_catalog(\"gtfs_analytics_data\")"
   ]
  },
  {
   "cell_type": "code",
   "execution_count": 4,
   "id": "f87b0483-ff6d-4ecc-aab6-3d5e61415b3c",
   "metadata": {},
   "outputs": [],
   "source": [
    "name = 'Redding Schedule'"
   ]
  },
  {
   "cell_type": "markdown",
   "id": "58c0269f-a557-4aa1-975f-56815886a0ef",
   "metadata": {},
   "source": [
    "### Original File "
   ]
  },
  {
   "cell_type": "code",
   "execution_count": 5,
   "id": "d5ed603a-c443-4500-b084-baa5e010d069",
   "metadata": {},
   "outputs": [],
   "source": [
    "schd_vp_url = f\"{GTFS_DATA_DICT.digest_tables.dir}{GTFS_DATA_DICT.digest_tables.route_schedule_vp}.parquet\"\n",
    "    "
   ]
  },
  {
   "cell_type": "code",
   "execution_count": 6,
   "id": "7969e1b9-27e3-4bdc-a200-697496701f41",
   "metadata": {},
   "outputs": [],
   "source": [
    "og = pd.read_parquet(schd_vp_url, filters=[[(\"sched_rt_category\", \"==\", \"schedule_and_vp\")]],\n",
    "                        columns = [\"organization_name\", \"caltrans_district\", \"name\"]\n",
    "    ).dropna(\n",
    "        subset=\"caltrans_district\"\n",
    "    ).sort_values([\"caltrans_district\", \"organization_name\"]).drop_duplicates()"
   ]
  },
  {
   "cell_type": "code",
   "execution_count": 7,
   "id": "1b6bf0c5-dc74-4dac-aef9-f0f06ac878ea",
   "metadata": {},
   "outputs": [
    {
     "data": {
      "text/plain": [
       "(91, 3)"
      ]
     },
     "execution_count": 7,
     "metadata": {},
     "output_type": "execute_result"
    }
   ],
   "source": [
    "og.shape"
   ]
  },
  {
   "cell_type": "code",
   "execution_count": 8,
   "id": "bc4a5681-3045-4873-88b8-31e28da67788",
   "metadata": {},
   "outputs": [],
   "source": [
    "# og"
   ]
  },
  {
   "cell_type": "markdown",
   "id": "b29a8034-d069-4808-aaec-b69a72392054",
   "metadata": {},
   "source": [
    "### Data"
   ]
  },
  {
   "cell_type": "code",
   "execution_count": 11,
   "id": "08ae7ba0-7e53-4fed-a5c8-f035d63a791e",
   "metadata": {},
   "outputs": [],
   "source": [
    "df = section3.load_schedule_vp_metrics(name)"
   ]
  },
  {
   "cell_type": "code",
   "execution_count": 12,
   "id": "41774e8f-3a65-419f-a2ed-b70e06e7cfdb",
   "metadata": {},
   "outputs": [],
   "source": [
    "most_recent_date = df.service_date.max()"
   ]
  },
  {
   "cell_type": "code",
   "execution_count": 13,
   "id": "518457f4-4034-4461-be8e-51b25cae86b7",
   "metadata": {
    "scrolled": true,
    "tags": []
   },
   "outputs": [
    {
     "data": {
      "text/html": [
       "<div>\n",
       "<style scoped>\n",
       "    .dataframe tbody tr th:only-of-type {\n",
       "        vertical-align: middle;\n",
       "    }\n",
       "\n",
       "    .dataframe tbody tr th {\n",
       "        vertical-align: top;\n",
       "    }\n",
       "\n",
       "    .dataframe thead th {\n",
       "        text-align: right;\n",
       "    }\n",
       "</style>\n",
       "<table border=\"1\" class=\"dataframe\">\n",
       "  <thead>\n",
       "    <tr style=\"text-align: right;\">\n",
       "      <th></th>\n",
       "      <th>schedule_gtfs_dataset_key</th>\n",
       "      <th>direction_id</th>\n",
       "      <th>time_period</th>\n",
       "      <th>avg_scheduled_service_minutes</th>\n",
       "      <th>avg_stop_miles</th>\n",
       "      <th>n_scheduled_trips</th>\n",
       "      <th>frequency</th>\n",
       "      <th>service_date</th>\n",
       "      <th>minutes_atleast1_vp</th>\n",
       "      <th>minutes_atleast2_vp</th>\n",
       "      <th>total_rt_service_minutes</th>\n",
       "      <th>total_scheduled_service_minutes</th>\n",
       "      <th>total_vp</th>\n",
       "      <th>vp_in_shape</th>\n",
       "      <th>is_early</th>\n",
       "      <th>is_ontime</th>\n",
       "      <th>is_late</th>\n",
       "      <th>n_vp_trips</th>\n",
       "      <th>vp_per_minute</th>\n",
       "      <th>pct_in_shape</th>\n",
       "      <th>pct_rt_journey_atleast1_vp</th>\n",
       "      <th>pct_rt_journey_atleast2_vp</th>\n",
       "      <th>pct_sched_journey_atleast1_vp</th>\n",
       "      <th>pct_sched_journey_atleast2_vp</th>\n",
       "      <th>rt_sched_journey_ratio</th>\n",
       "      <th>avg_rt_service_minutes</th>\n",
       "      <th>sched_rt_category</th>\n",
       "      <th>speed_mph</th>\n",
       "      <th>name</th>\n",
       "      <th>route_long_name</th>\n",
       "      <th>route_short_name</th>\n",
       "      <th>route_combined_name</th>\n",
       "      <th>route_id</th>\n",
       "      <th>typology</th>\n",
       "      <th>schedule_source_record_id</th>\n",
       "      <th>base64_url</th>\n",
       "      <th>organization_source_record_id</th>\n",
       "      <th>organization_name</th>\n",
       "      <th>caltrans_district</th>\n",
       "      <th>rt_sched_journey_ratio_cat</th>\n",
       "      <th>frequency_cat</th>\n",
       "      <th>vp_per_minute_cat</th>\n",
       "      <th>ruler_100_pct</th>\n",
       "      <th>ruler_for_vp_per_min</th>\n",
       "    </tr>\n",
       "  </thead>\n",
       "  <tbody>\n",
       "    <tr>\n",
       "      <th>206813</th>\n",
       "      <td>3d76960344fbb05143f0ce6e71c6a64c</td>\n",
       "      <td>0.00</td>\n",
       "      <td>all_day</td>\n",
       "      <td>55.00</td>\n",
       "      <td>0.31</td>\n",
       "      <td>14</td>\n",
       "      <td>0.58</td>\n",
       "      <td>2023-03-15</td>\n",
       "      <td>839</td>\n",
       "      <td>822</td>\n",
       "      <td>835.44</td>\n",
       "      <td>770.00</td>\n",
       "      <td>2459</td>\n",
       "      <td>2451</td>\n",
       "      <td>1</td>\n",
       "      <td>6</td>\n",
       "      <td>7</td>\n",
       "      <td>14</td>\n",
       "      <td>2.94</td>\n",
       "      <td>100.00</td>\n",
       "      <td>100.00</td>\n",
       "      <td>98.00</td>\n",
       "      <td>100.00</td>\n",
       "      <td>100.00</td>\n",
       "      <td>1.08</td>\n",
       "      <td>59.67</td>\n",
       "      <td>schedule_and_vp</td>\n",
       "      <td>25.10</td>\n",
       "      <td>Redding Schedule</td>\n",
       "      <td>Route 1</td>\n",
       "      <td>1</td>\n",
       "      <td>Route 1</td>\n",
       "      <td>151</td>\n",
       "      <td>rapid</td>\n",
       "      <td>recgwPrjrL4dy6m6J</td>\n",
       "      <td>aHR0cHM6Ly9kYXRhLnRyaWxsaXVtdHJhbnNpdC5jb20vZ3Rmcy9yZWRkaW5nLWNhLXVzL3JlZGRpbmctY2EtdXMuemlw</td>\n",
       "      <td>recx4ZG2lvZb7kGAL</td>\n",
       "      <td>Shasta County</td>\n",
       "      <td>02 - Redding</td>\n",
       "      <td>On Time</td>\n",
       "      <td>&lt;1 trip/hour</td>\n",
       "      <td>&lt;3 pings/minute</td>\n",
       "      <td>100</td>\n",
       "      <td>2</td>\n",
       "    </tr>\n",
       "    <tr>\n",
       "      <th>206814</th>\n",
       "      <td>3d76960344fbb05143f0ce6e71c6a64c</td>\n",
       "      <td>0.00</td>\n",
       "      <td>all_day</td>\n",
       "      <td>55.00</td>\n",
       "      <td>0.31</td>\n",
       "      <td>14</td>\n",
       "      <td>0.58</td>\n",
       "      <td>2023-03-15</td>\n",
       "      <td>839</td>\n",
       "      <td>822</td>\n",
       "      <td>835.44</td>\n",
       "      <td>770.00</td>\n",
       "      <td>2459</td>\n",
       "      <td>2451</td>\n",
       "      <td>1</td>\n",
       "      <td>6</td>\n",
       "      <td>7</td>\n",
       "      <td>14</td>\n",
       "      <td>2.94</td>\n",
       "      <td>100.00</td>\n",
       "      <td>100.00</td>\n",
       "      <td>98.00</td>\n",
       "      <td>100.00</td>\n",
       "      <td>100.00</td>\n",
       "      <td>1.08</td>\n",
       "      <td>59.67</td>\n",
       "      <td>schedule_and_vp</td>\n",
       "      <td>25.10</td>\n",
       "      <td>Redding Schedule</td>\n",
       "      <td>Route 1</td>\n",
       "      <td>1</td>\n",
       "      <td>Route 1</td>\n",
       "      <td>151</td>\n",
       "      <td>rapid</td>\n",
       "      <td>recgwPrjrL4dy6m6J</td>\n",
       "      <td>aHR0cHM6Ly9kYXRhLnRyaWxsaXVtdHJhbnNpdC5jb20vZ3Rmcy9yZWRkaW5nLWNhLXVzL3JlZGRpbmctY2EtdXMuemlw</td>\n",
       "      <td>recx4ZG2lvZb7kGAL</td>\n",
       "      <td>Shasta County</td>\n",
       "      <td>02 - Redding</td>\n",
       "      <td>On Time</td>\n",
       "      <td>&lt;1 trip/hour</td>\n",
       "      <td>&lt;3 pings/minute</td>\n",
       "      <td>100</td>\n",
       "      <td>2</td>\n",
       "    </tr>\n",
       "  </tbody>\n",
       "</table>\n",
       "</div>"
      ],
      "text/plain": [
       "               schedule_gtfs_dataset_key  direction_id time_period  \\\n",
       "206813  3d76960344fbb05143f0ce6e71c6a64c          0.00     all_day   \n",
       "206814  3d76960344fbb05143f0ce6e71c6a64c          0.00     all_day   \n",
       "\n",
       "        avg_scheduled_service_minutes  avg_stop_miles  n_scheduled_trips  \\\n",
       "206813                          55.00            0.31                 14   \n",
       "206814                          55.00            0.31                 14   \n",
       "\n",
       "        frequency service_date  minutes_atleast1_vp  minutes_atleast2_vp  \\\n",
       "206813       0.58   2023-03-15                  839                  822   \n",
       "206814       0.58   2023-03-15                  839                  822   \n",
       "\n",
       "        total_rt_service_minutes  total_scheduled_service_minutes  total_vp  \\\n",
       "206813                    835.44                           770.00      2459   \n",
       "206814                    835.44                           770.00      2459   \n",
       "\n",
       "        vp_in_shape  is_early  is_ontime  is_late  n_vp_trips  vp_per_minute  \\\n",
       "206813         2451         1          6        7          14           2.94   \n",
       "206814         2451         1          6        7          14           2.94   \n",
       "\n",
       "        pct_in_shape  pct_rt_journey_atleast1_vp  pct_rt_journey_atleast2_vp  \\\n",
       "206813        100.00                      100.00                       98.00   \n",
       "206814        100.00                      100.00                       98.00   \n",
       "\n",
       "        pct_sched_journey_atleast1_vp  pct_sched_journey_atleast2_vp  \\\n",
       "206813                         100.00                         100.00   \n",
       "206814                         100.00                         100.00   \n",
       "\n",
       "        rt_sched_journey_ratio  avg_rt_service_minutes sched_rt_category  \\\n",
       "206813                    1.08                   59.67   schedule_and_vp   \n",
       "206814                    1.08                   59.67   schedule_and_vp   \n",
       "\n",
       "        speed_mph              name route_long_name route_short_name  \\\n",
       "206813      25.10  Redding Schedule         Route 1                1   \n",
       "206814      25.10  Redding Schedule         Route 1                1   \n",
       "\n",
       "       route_combined_name route_id typology schedule_source_record_id  \\\n",
       "206813             Route 1      151    rapid         recgwPrjrL4dy6m6J   \n",
       "206814             Route 1      151    rapid         recgwPrjrL4dy6m6J   \n",
       "\n",
       "                                                                                          base64_url  \\\n",
       "206813  aHR0cHM6Ly9kYXRhLnRyaWxsaXVtdHJhbnNpdC5jb20vZ3Rmcy9yZWRkaW5nLWNhLXVzL3JlZGRpbmctY2EtdXMuemlw   \n",
       "206814  aHR0cHM6Ly9kYXRhLnRyaWxsaXVtdHJhbnNpdC5jb20vZ3Rmcy9yZWRkaW5nLWNhLXVzL3JlZGRpbmctY2EtdXMuemlw   \n",
       "\n",
       "       organization_source_record_id organization_name caltrans_district  \\\n",
       "206813             recx4ZG2lvZb7kGAL     Shasta County      02 - Redding   \n",
       "206814             recx4ZG2lvZb7kGAL     Shasta County      02 - Redding   \n",
       "\n",
       "       rt_sched_journey_ratio_cat frequency_cat vp_per_minute_cat  \\\n",
       "206813                    On Time  <1 trip/hour   <3 pings/minute   \n",
       "206814                    On Time  <1 trip/hour   <3 pings/minute   \n",
       "\n",
       "        ruler_100_pct  ruler_for_vp_per_min  \n",
       "206813            100                     2  \n",
       "206814            100                     2  "
      ]
     },
     "execution_count": 13,
     "metadata": {},
     "output_type": "execute_result"
    }
   ],
   "source": [
    "df.head(2)"
   ]
  },
  {
   "cell_type": "code",
   "execution_count": 14,
   "id": "add5a920-24e5-4b76-a1dc-d32968b8868f",
   "metadata": {},
   "outputs": [
    {
     "data": {
      "text/plain": [
       "all_day    2862\n",
       "peak       2761\n",
       "offpeak    2753\n",
       "Name: time_period, dtype: int64"
      ]
     },
     "execution_count": 14,
     "metadata": {},
     "output_type": "execute_result"
    }
   ],
   "source": [
    "df.time_period.value_counts()"
   ]
  },
  {
   "cell_type": "markdown",
   "id": "9389135c-1082-4b65-ab6e-b1e881add9d6",
   "metadata": {},
   "source": [
    "### Only use `schedule_and_vp` for charts!!"
   ]
  },
  {
   "cell_type": "code",
   "execution_count": 15,
   "id": "c5899040-b0e5-4ee2-a265-e2c1b4b33794",
   "metadata": {},
   "outputs": [],
   "source": [
    "df_sched_vp_both = df[df.sched_rt_category == \"schedule_and_vp\"]"
   ]
  },
  {
   "cell_type": "code",
   "execution_count": 16,
   "id": "e3fa8962-8815-4dc7-8c39-0f24d909edc1",
   "metadata": {},
   "outputs": [
    {
     "data": {
      "text/plain": [
       "(7306, 44)"
      ]
     },
     "execution_count": 16,
     "metadata": {},
     "output_type": "execute_result"
    }
   ],
   "source": [
    "df_sched_vp_both.shape"
   ]
  },
  {
   "cell_type": "markdown",
   "id": "2efbb7c2-9060-43b2-b97e-96d3200aeb6d",
   "metadata": {},
   "source": [
    "#### One Route"
   ]
  },
  {
   "cell_type": "code",
   "execution_count": 17,
   "id": "f16426ab-58f1-4140-93ae-7adf0df98176",
   "metadata": {},
   "outputs": [
    {
     "data": {
      "text/plain": [
       "array(['Route 1', 'Route 3', 'Route 4', 'Route 5', 'Route 7', 'Route 11',\n",
       "       'Route 14', 'School Express', 'Route 2 West', 'Route 2 East',\n",
       "       'Route 6 North', 'Route 6 South', 'Route 9', 'Anderson Commuter',\n",
       "       'Crosstown Express', 'Churn Creek/Knightson/Airport', 'Route 299X',\n",
       "       'Shasta View/Shasta College'], dtype=object)"
      ]
     },
     "execution_count": 17,
     "metadata": {},
     "output_type": "execute_result"
    }
   ],
   "source": [
    "df_sched_vp_both.route_combined_name.unique()"
   ]
  },
  {
   "cell_type": "code",
   "execution_count": 18,
   "id": "ae85e000-d05e-4b20-b72b-dde0d20827ed",
   "metadata": {},
   "outputs": [],
   "source": [
    "# Has very little data: 652 Skyline High - Elmhurst Bay Area 511 AC Transit Schedule\n",
    "# Has a lot of data: \"18 Solano - Shattuck - MLK Jr.\""
   ]
  },
  {
   "cell_type": "code",
   "execution_count": 21,
   "id": "0b1f34c2-bcec-4e7f-81a5-c2fd7e7d4d9d",
   "metadata": {},
   "outputs": [],
   "source": [
    "one_route = df_sched_vp_both.loc[\n",
    "    df_sched_vp_both.route_combined_name == 'School Express'\n",
    "]"
   ]
  },
  {
   "cell_type": "code",
   "execution_count": 22,
   "id": "7365d028-e5b9-4ac9-bc57-8ab052af2007",
   "metadata": {},
   "outputs": [
    {
     "data": {
      "text/plain": [
       "(16, 44)"
      ]
     },
     "execution_count": 22,
     "metadata": {},
     "output_type": "execute_result"
    }
   ],
   "source": [
    "one_route.shape"
   ]
  },
  {
   "cell_type": "code",
   "execution_count": 23,
   "id": "bac7ef9b-7629-4940-8426-dfc49fb26468",
   "metadata": {},
   "outputs": [
    {
     "data": {
      "text/html": [
       "<div>\n",
       "<style scoped>\n",
       "    .dataframe tbody tr th:only-of-type {\n",
       "        vertical-align: middle;\n",
       "    }\n",
       "\n",
       "    .dataframe tbody tr th {\n",
       "        vertical-align: top;\n",
       "    }\n",
       "\n",
       "    .dataframe thead th {\n",
       "        text-align: right;\n",
       "    }\n",
       "</style>\n",
       "<table border=\"1\" class=\"dataframe\">\n",
       "  <thead>\n",
       "    <tr style=\"text-align: right;\">\n",
       "      <th></th>\n",
       "      <th>schedule_gtfs_dataset_key</th>\n",
       "      <th>direction_id</th>\n",
       "      <th>time_period</th>\n",
       "      <th>avg_scheduled_service_minutes</th>\n",
       "      <th>avg_stop_miles</th>\n",
       "      <th>n_scheduled_trips</th>\n",
       "      <th>frequency</th>\n",
       "      <th>service_date</th>\n",
       "      <th>minutes_atleast1_vp</th>\n",
       "      <th>minutes_atleast2_vp</th>\n",
       "      <th>total_rt_service_minutes</th>\n",
       "      <th>total_scheduled_service_minutes</th>\n",
       "      <th>total_vp</th>\n",
       "      <th>vp_in_shape</th>\n",
       "      <th>is_early</th>\n",
       "      <th>is_ontime</th>\n",
       "      <th>is_late</th>\n",
       "      <th>n_vp_trips</th>\n",
       "      <th>vp_per_minute</th>\n",
       "      <th>pct_in_shape</th>\n",
       "      <th>pct_rt_journey_atleast1_vp</th>\n",
       "      <th>pct_rt_journey_atleast2_vp</th>\n",
       "      <th>pct_sched_journey_atleast1_vp</th>\n",
       "      <th>pct_sched_journey_atleast2_vp</th>\n",
       "      <th>rt_sched_journey_ratio</th>\n",
       "      <th>avg_rt_service_minutes</th>\n",
       "      <th>sched_rt_category</th>\n",
       "      <th>speed_mph</th>\n",
       "      <th>name</th>\n",
       "      <th>route_long_name</th>\n",
       "      <th>route_short_name</th>\n",
       "      <th>route_combined_name</th>\n",
       "      <th>route_id</th>\n",
       "      <th>typology</th>\n",
       "      <th>schedule_source_record_id</th>\n",
       "      <th>base64_url</th>\n",
       "      <th>organization_source_record_id</th>\n",
       "      <th>organization_name</th>\n",
       "      <th>caltrans_district</th>\n",
       "      <th>rt_sched_journey_ratio_cat</th>\n",
       "      <th>frequency_cat</th>\n",
       "      <th>vp_per_minute_cat</th>\n",
       "      <th>ruler_100_pct</th>\n",
       "      <th>ruler_for_vp_per_min</th>\n",
       "    </tr>\n",
       "  </thead>\n",
       "  <tbody>\n",
       "    <tr>\n",
       "      <th>210714</th>\n",
       "      <td>3d76960344fbb05143f0ce6e71c6a64c</td>\n",
       "      <td>0.00</td>\n",
       "      <td>all_day</td>\n",
       "      <td>22.00</td>\n",
       "      <td>0.53</td>\n",
       "      <td>1</td>\n",
       "      <td>0.04</td>\n",
       "      <td>2023-03-15</td>\n",
       "      <td>16</td>\n",
       "      <td>15</td>\n",
       "      <td>14.67</td>\n",
       "      <td>22.00</td>\n",
       "      <td>45</td>\n",
       "      <td>45</td>\n",
       "      <td>1</td>\n",
       "      <td>0</td>\n",
       "      <td>0</td>\n",
       "      <td>1</td>\n",
       "      <td>3.07</td>\n",
       "      <td>100.00</td>\n",
       "      <td>100.00</td>\n",
       "      <td>100.00</td>\n",
       "      <td>73.00</td>\n",
       "      <td>68.00</td>\n",
       "      <td>0.67</td>\n",
       "      <td>14.67</td>\n",
       "      <td>schedule_and_vp</td>\n",
       "      <td>25.97</td>\n",
       "      <td>Redding Schedule</td>\n",
       "      <td>School Express</td>\n",
       "      <td>SE</td>\n",
       "      <td>School Express</td>\n",
       "      <td>1885</td>\n",
       "      <td>express</td>\n",
       "      <td>recgwPrjrL4dy6m6J</td>\n",
       "      <td>aHR0cHM6Ly9kYXRhLnRyaWxsaXVtdHJhbnNpdC5jb20vZ3Rmcy9yZWRkaW5nLWNhLXVzL3JlZGRpbmctY2EtdXMuemlw</td>\n",
       "      <td>recx4ZG2lvZb7kGAL</td>\n",
       "      <td>Shasta County</td>\n",
       "      <td>02 - Redding</td>\n",
       "      <td>Early</td>\n",
       "      <td>&lt;1 trip/hour</td>\n",
       "      <td>3+ pings per minute (target)</td>\n",
       "      <td>100</td>\n",
       "      <td>2</td>\n",
       "    </tr>\n",
       "  </tbody>\n",
       "</table>\n",
       "</div>"
      ],
      "text/plain": [
       "               schedule_gtfs_dataset_key  direction_id time_period  \\\n",
       "210714  3d76960344fbb05143f0ce6e71c6a64c          0.00     all_day   \n",
       "\n",
       "        avg_scheduled_service_minutes  avg_stop_miles  n_scheduled_trips  \\\n",
       "210714                          22.00            0.53                  1   \n",
       "\n",
       "        frequency service_date  minutes_atleast1_vp  minutes_atleast2_vp  \\\n",
       "210714       0.04   2023-03-15                   16                   15   \n",
       "\n",
       "        total_rt_service_minutes  total_scheduled_service_minutes  total_vp  \\\n",
       "210714                     14.67                            22.00        45   \n",
       "\n",
       "        vp_in_shape  is_early  is_ontime  is_late  n_vp_trips  vp_per_minute  \\\n",
       "210714           45         1          0        0           1           3.07   \n",
       "\n",
       "        pct_in_shape  pct_rt_journey_atleast1_vp  pct_rt_journey_atleast2_vp  \\\n",
       "210714        100.00                      100.00                      100.00   \n",
       "\n",
       "        pct_sched_journey_atleast1_vp  pct_sched_journey_atleast2_vp  \\\n",
       "210714                          73.00                          68.00   \n",
       "\n",
       "        rt_sched_journey_ratio  avg_rt_service_minutes sched_rt_category  \\\n",
       "210714                    0.67                   14.67   schedule_and_vp   \n",
       "\n",
       "        speed_mph              name route_long_name route_short_name  \\\n",
       "210714      25.97  Redding Schedule  School Express               SE   \n",
       "\n",
       "       route_combined_name route_id typology schedule_source_record_id  \\\n",
       "210714      School Express     1885  express         recgwPrjrL4dy6m6J   \n",
       "\n",
       "                                                                                          base64_url  \\\n",
       "210714  aHR0cHM6Ly9kYXRhLnRyaWxsaXVtdHJhbnNpdC5jb20vZ3Rmcy9yZWRkaW5nLWNhLXVzL3JlZGRpbmctY2EtdXMuemlw   \n",
       "\n",
       "       organization_source_record_id organization_name caltrans_district  \\\n",
       "210714             recx4ZG2lvZb7kGAL     Shasta County      02 - Redding   \n",
       "\n",
       "       rt_sched_journey_ratio_cat frequency_cat             vp_per_minute_cat  \\\n",
       "210714                      Early  <1 trip/hour  3+ pings per minute (target)   \n",
       "\n",
       "        ruler_100_pct  ruler_for_vp_per_min  \n",
       "210714            100                     2  "
      ]
     },
     "execution_count": 23,
     "metadata": {},
     "output_type": "execute_result"
    }
   ],
   "source": [
    "one_route.sample()"
   ]
  },
  {
   "cell_type": "code",
   "execution_count": null,
   "id": "6fccc5c1-ca4a-4966-9b72-feb6d61b11a4",
   "metadata": {},
   "outputs": [],
   "source": [
    "one_route_all_day = one_route.loc[one_route.time_period == \"all_day\"]"
   ]
  },
  {
   "cell_type": "code",
   "execution_count": null,
   "id": "d07cec26-9a86-4634-a315-748e71c09ea6",
   "metadata": {},
   "outputs": [],
   "source": [
    "one_route_all_day.service_date.value_counts()"
   ]
  },
  {
   "cell_type": "markdown",
   "id": "c6580abb-e487-448d-a2c9-1949998fa04e",
   "metadata": {},
   "source": [
    "#### Avg Scheduled Minutes (Done)\n",
    "* How come the average_scheduled_minutes is a lot shorter than total_rt_service_minutes and total_scheduled_service_minutes?\n",
    "* Kind of a boring chart? Should compare actual run time compared to service minutes?"
   ]
  },
  {
   "cell_type": "code",
   "execution_count": null,
   "id": "682ef164-c127-4e2f-8ff5-e60e9be1766c",
   "metadata": {},
   "outputs": [],
   "source": [
    "import yaml\n",
    "\n",
    "with open(\"readable.yml\") as f:\n",
    "    readable_dict = yaml.safe_load(f)"
   ]
  },
  {
   "cell_type": "code",
   "execution_count": null,
   "id": "4b9dbce8-5de0-4952-aa01-d68443962568",
   "metadata": {},
   "outputs": [],
   "source": [
    "readable_dict['avg_scheduled_min']['title']"
   ]
  },
  {
   "cell_type": "code",
   "execution_count": null,
   "id": "0d569675-e6c4-4901-9157-e9da53cef48e",
   "metadata": {},
   "outputs": [],
   "source": [
    "section2.grouped_bar_chart(\n",
    "    df=one_route[one_route.time_period == \"all_day\"].drop_duplicates(),\n",
    "    color_col=\"direction_id\",\n",
    "    y_col=\"avg_scheduled_service_minutes\",\n",
    "    offset_col=\"direction_id\",\n",
    "    title=readable_dict['avg_scheduled_min']['title'],\n",
    "    subtitle=readable_dict['avg_scheduled_min']['subtitle'],\n",
    ")"
   ]
  },
  {
   "cell_type": "markdown",
   "id": "ec0b7515-e215-4f77-87f6-7560954e50f8",
   "metadata": {
    "toc-hr-collapsed": true
   },
   "source": [
    "#### Timeliness #2 (Done)"
   ]
  },
  {
   "cell_type": "code",
   "execution_count": null,
   "id": "6e921263-5012-429c-94c5-790cd591173a",
   "metadata": {},
   "outputs": [],
   "source": [
    "timeliness = section2.timeliness_trips(one_route)"
   ]
  },
  {
   "cell_type": "code",
   "execution_count": null,
   "id": "c9d51659-fb2e-4288-9104-d41ac34551cd",
   "metadata": {},
   "outputs": [],
   "source": [
    "timeliness.sample()"
   ]
  },
  {
   "cell_type": "code",
   "execution_count": null,
   "id": "02faaef9-ebad-40b7-b233-c6beee4464a4",
   "metadata": {
    "scrolled": true,
    "tags": []
   },
   "outputs": [],
   "source": [
    "timeliness.loc[timeliness.service_date == \"2023-04-12\"].sort_values(by = ['service_date','direction_id','time_period'])"
   ]
  },
  {
   "cell_type": "code",
   "execution_count": null,
   "id": "fb382204-d8f8-414d-9eb5-ac2cee02d912",
   "metadata": {},
   "outputs": [],
   "source": [
    "section2.base_facet_chart(\n",
    "    timeliness.loc[timeliness.direction_id == 0].drop_duplicates(),\n",
    "    \"value\",\n",
    "    \"variable\",\n",
    "    \"time_period\",\n",
    "    \"Breakdown of Trips by Categories for Direction 0\",\n",
    "    \"Trips broken down by VP Only (found only in real-time data), Schedule Only (found only in schedule data), or both.\",\n",
    ").interactive()"
   ]
  },
  {
   "cell_type": "markdown",
   "id": "28c413ed-90ec-45dc-be43-553508ce9d50",
   "metadata": {},
   "source": [
    "#### Total Scheduled Trips (Don't Use, boring)"
   ]
  },
  {
   "cell_type": "code",
   "execution_count": null,
   "id": "eba6d0cf-1679-4d1c-b299-e2a07144a8a5",
   "metadata": {
    "scrolled": true,
    "tags": []
   },
   "outputs": [],
   "source": [
    "# IF we take away direction, see how many times a route is scheduled to run\n",
    "total_scheduled_trip = (\n",
    "    one_route.groupby([\"service_date\", \"time_period\"])\n",
    "    .agg({\"n_scheduled_trips\": \"mean\"})\n",
    "    .reset_index()\n",
    ")"
   ]
  },
  {
   "cell_type": "code",
   "execution_count": null,
   "id": "560a2471-0ac8-4fd8-94f5-c19ba1b6794b",
   "metadata": {
    "scrolled": true,
    "tags": []
   },
   "outputs": [],
   "source": [
    "total_scheduled_trip.n_scheduled_trips = total_scheduled_trip.n_scheduled_trips / 2"
   ]
  },
  {
   "cell_type": "code",
   "execution_count": null,
   "id": "04f31458-ea7f-4997-aeb3-726283afd8d6",
   "metadata": {},
   "outputs": [],
   "source": [
    "total_scheduled_trip.head()"
   ]
  },
  {
   "cell_type": "code",
   "execution_count": null,
   "id": "4527b5d5-d4b2-4a05-ae14-6a83c8d44f06",
   "metadata": {},
   "outputs": [],
   "source": [
    "one_route.groupby([\"service_date\", \"direction_id\", \"time_period\"]).agg(\n",
    "    {\"n_scheduled_trips\": \"max\"}\n",
    ").head()"
   ]
  },
  {
   "cell_type": "code",
   "execution_count": null,
   "id": "bba1c83c-498b-46e9-9f08-c85986b306ab",
   "metadata": {},
   "outputs": [],
   "source": [
    "section2.grouped_bar_chart(\n",
    "    df=one_route.loc[one_route.time_period != \"all_day\"].drop_duplicates(),\n",
    "    color_col=\"time_period\",\n",
    "    y_col=\"n_scheduled_trips\",\n",
    "    offset_col=\"direction_id\",\n",
    "    title=\"Total Scheduled Trips\",\n",
    "    subtitle=\"How many times per day is this route is scheduled to run in one particular direction.\",\n",
    ")"
   ]
  },
  {
   "cell_type": "markdown",
   "id": "793206d1-f1f7-4603-900e-e2bd5ff85619",
   "metadata": {},
   "source": [
    "#### Frequency (Done)\n",
    "* Maybe shouldn't be a chart since there doesn't seem to be a lot of data for this across a lot of the routes?\n",
    "* What does frequency mean?\n",
    "* Simplify down to not take direction_id into consideration?"
   ]
  },
  {
   "cell_type": "code",
   "execution_count": null,
   "id": "7cad4891-7e94-466f-91aa-7004e552661d",
   "metadata": {},
   "outputs": [],
   "source": []
  },
  {
   "cell_type": "code",
   "execution_count": null,
   "id": "e357c624-cc84-4ca2-838a-b41c75eaf3fe",
   "metadata": {},
   "outputs": [],
   "source": [
    "section2.frequency_chart(one_route)"
   ]
  },
  {
   "cell_type": "markdown",
   "id": "cad7454c-ceb2-4e30-92d2-bbc43d4e6e1a",
   "metadata": {},
   "source": [
    "#### Speed MPH (Done)\n",
    "* Needs a different type of chart."
   ]
  },
  {
   "cell_type": "code",
   "execution_count": null,
   "id": "7e452d89-d0b7-4730-bebe-3abe2125ca9a",
   "metadata": {},
   "outputs": [],
   "source": [
    "section2.base_facet_line(\n",
    "    one_route,\n",
    "    \"speed_mph\",\n",
    "    \"Average Speed\",\n",
    "    \"The average miles per hour the bus travels by direction and time of day.\",\n",
    ")"
   ]
  },
  {
   "cell_type": "markdown",
   "id": "9dce71b7-204d-42ca-bcb4-13cd3171a387",
   "metadata": {},
   "source": [
    "#### VP per Minute (WIP)\n",
    "* Heatmap too confusing & detailed"
   ]
  },
  {
   "cell_type": "code",
   "execution_count": null,
   "id": "7a6f181d-5223-4e2f-904f-d279a250a92b",
   "metadata": {},
   "outputs": [],
   "source": [
    "def add_background():\n",
    "    # Sample data\n",
    "    data = pd.DataFrame(\n",
    "        {\n",
    "            \"x\": range(9),\n",
    "            \"y\": [\n",
    "                0,\n",
    "                0.5,\n",
    "                1.5,\n",
    "                2.5,\n",
    "                3.5,\n",
    "                2,\n",
    "                1,\n",
    "                3,\n",
    "                4,\n",
    "            ],\n",
    "        }\n",
    "    )\n",
    "\n",
    "    # Background rectangle for color bands\n",
    "    bg_chart = (\n",
    "        alt.Chart(data)\n",
    "        .mark_rect()\n",
    "        .encode(\n",
    "            y=alt.Y(\"y:Q\", axis=None),\n",
    "            y2=\"y2:Q\",\n",
    "            color=alt.Color(\"y:Q\", scale=alt.Scale(range=red_green_yellow)),\n",
    "            opacity=alt.value(0.2),  # Adjust opacity as needed\n",
    "        )\n",
    "        .transform_calculate(y2=\"datum.y + 1\")\n",
    "    )\n",
    "\n",
    "    return bg_chart"
   ]
  },
  {
   "cell_type": "code",
   "execution_count": null,
   "id": "7bb68aad-4a3b-420e-b793-ec016434477b",
   "metadata": {},
   "outputs": [],
   "source": [
    "section2.base_facet_with_ruler_chart(\n",
    "                one_route.drop_duplicates(),\n",
    "                \"vp_per_minute\",\n",
    "                \"ruler_for_vp_per_min\",\n",
    "                readable_dict['vp_per_min']['title'],\n",
    "                readable_dict['vp_per_min']['subtitle'],\n",
    "            )"
   ]
  },
  {
   "cell_type": "code",
   "execution_count": null,
   "id": "028cb13b-b598-4b5b-b0f6-d84aa1323e98",
   "metadata": {},
   "outputs": [],
   "source": [
    "blue_palette = [\"#B9D6DF\", \"#2EA8CE\", \"#0B405B\"]"
   ]
  },
  {
   "cell_type": "markdown",
   "id": "85b97563-102f-4f3b-a270-26df18ed6092",
   "metadata": {},
   "source": [
    "#### Spatial Accuracy (Done)\n",
    "* Multiple it by 100? Should this be rounded or not?"
   ]
  },
  {
   "cell_type": "code",
   "execution_count": null,
   "id": "a1a8478b-79ec-426c-bab1-4dc21f40cdb4",
   "metadata": {
    "scrolled": true,
    "tags": []
   },
   "outputs": [],
   "source": [
    "one_route.loc[one_route.time_period == \"all_day\"][['service_date','pct_in_shape']]"
   ]
  },
  {
   "cell_type": "code",
   "execution_count": null,
   "id": "c1f2acbb-687e-42e1-b6e4-e0ac02d87f97",
   "metadata": {},
   "outputs": [],
   "source": [
    "section2.base_facet_with_ruler_chart(\n",
    "    one_route.loc[one_route.time_period == \"all_day\"].drop_duplicates(),\n",
    "    \"pct_in_shape\",\n",
    "    \"ruler_100_pct\",\n",
    "    \"Spatial Accuracy\",\n",
    "    \"The percentage of vehicle positions that fall within the static scheduled route shape reflects the accuracy of the spatial, realtime data.\",\n",
    ")"
   ]
  },
  {
   "cell_type": "markdown",
   "id": "b4e77620-cb0e-4388-88ef-36e9640b043d",
   "metadata": {},
   "source": [
    "#### % RT journey with 1+/2+ vp (goal line = 100%) - use all_day, one chart shared for 1+ and 2+ (Done need subtitle)"
   ]
  },
  {
   "cell_type": "code",
   "execution_count": null,
   "id": "d92d1eb7-8e6d-4cfd-a0e2-dbc093281065",
   "metadata": {},
   "outputs": [],
   "source": [
    "def pct_vp_journey(df: pd.DataFrame, col1: str, col2: str) -> pd.DataFrame:\n",
    "    to_keep = [\n",
    "        \"service_date\",\n",
    "        \"organization_name\",\n",
    "        \"direction_id\",\n",
    "        col1,\n",
    "        col2,\n",
    "        \"route_combined_name\",\n",
    "        \"time_period\",\n",
    "        \"route_id\",\n",
    "        \"ruler_100_pct\",\n",
    "    ]\n",
    "    df2 = df[to_keep]\n",
    "\n",
    "    df3 = df2.melt(\n",
    "        id_vars=[\n",
    "            \"service_date\",\n",
    "            \"organization_name\",\n",
    "            \"route_combined_name\",\n",
    "            \"direction_id\",\n",
    "            \"time_period\",\n",
    "            \"route_id\",\n",
    "            \"ruler_100_pct\",\n",
    "        ],\n",
    "        value_vars=[col1, col2],\n",
    "    )\n",
    "\n",
    "    return df3"
   ]
  },
  {
   "cell_type": "code",
   "execution_count": null,
   "id": "2966643d-43ac-4444-9d76-3457408b6c62",
   "metadata": {},
   "outputs": [],
   "source": [
    "pct_rt = pct_vp_journey(\n",
    "    one_route, \"pct_rt_journey_atleast1_vp\", \"pct_rt_journey_atleast2_vp\"\n",
    ")"
   ]
  },
  {
   "cell_type": "markdown",
   "id": "48595e43-4912-47dd-b587-cff54cfdf363",
   "metadata": {
    "toc-hr-collapsed": true
   },
   "source": [
    "#### % schedule journey with 1+/2+ vp (goal line = 100%) - use all_day, one chart shared for 1+ and 2+ (Done need subtitle)"
   ]
  },
  {
   "cell_type": "code",
   "execution_count": null,
   "id": "e2430acf-9b18-43d2-a8f3-91d86dd3f747",
   "metadata": {},
   "outputs": [],
   "source": [
    "schd_rt = pct_vp_journey(\n",
    "    one_route, \"pct_sched_journey_atleast1_vp\", \"pct_sched_journey_atleast2_vp\"\n",
    ")"
   ]
  },
  {
   "cell_type": "code",
   "execution_count": null,
   "id": "e87020b6-652b-43bb-b1ac-b42d84e2d1ae",
   "metadata": {},
   "outputs": [],
   "source": [
    "\"\"\" base_facet_circle(\n",
    "    schd_rt.loc[schd_rt.time_period == \"all_day\"],\n",
    "    \"value\",\n",
    "    \"ruler_100_pct\",\n",
    "    \"Percentage of Scheduled Trips with 1+ and 2+ Vehicle Positions\",\n",
    "    \"The goal is for almost 100% of trips to have 2 or more Vehicle Positions per minute.\",\n",
    ")\"\"\""
   ]
  },
  {
   "cell_type": "markdown",
   "id": "4749520b-8d3f-4c61-908d-98a612283fdd",
   "metadata": {
    "tags": []
   },
   "source": [
    "#### Number of trips by sched_vp_category (/operator_schedule_rt_category)\n",
    "* Why is the crosswalk missing SBMTD schedule??"
   ]
  },
  {
   "cell_type": "code",
   "execution_count": null,
   "id": "e35701ca-3d38-4b78-b974-fd56f0b7b74b",
   "metadata": {},
   "outputs": [],
   "source": [
    "op_sched_rt_cat = pd.read_parquet(\n",
    "    f\"{RT_SCHED_GCS}digest/operator_schedule_rt_category.parquet\"\n",
    ")"
   ]
  },
  {
   "cell_type": "code",
   "execution_count": null,
   "id": "e76e9252-95a7-44ac-ab34-496935d9600d",
   "metadata": {},
   "outputs": [],
   "source": [
    "list(df.schedule_gtfs_dataset_key.unique())"
   ]
  },
  {
   "cell_type": "code",
   "execution_count": null,
   "id": "f285a7fe-a525-42a4-a954-ab2573c0e14b",
   "metadata": {},
   "outputs": [],
   "source": [
    "test = section2.load_operator_schedule_rt_category(\"de792182088eecc3d5c0bd3f1df62965\")"
   ]
  },
  {
   "cell_type": "code",
   "execution_count": null,
   "id": "fc52dcb7-bebb-46c8-878c-860b129784f6",
   "metadata": {},
   "outputs": [],
   "source": [
    "op_sched_rt_cat.schedule_gtfs_dataset_key.nunique()"
   ]
  },
  {
   "cell_type": "code",
   "execution_count": null,
   "id": "1b602f55-eda4-4363-af8b-a24efb140db1",
   "metadata": {},
   "outputs": [],
   "source": [
    "def basic_bar_chart(\n",
    "    df: pd.DataFrame, y_col: str, color_col: str, title: str, subtitle: str\n",
    "):\n",
    "    chart = (\n",
    "        alt.Chart(df)\n",
    "        .mark_bar()\n",
    "        .encode(\n",
    "            x=alt.X(\n",
    "                f\"yearmonthdate(service_date):O\",\n",
    "                title=\"Service Date\",\n",
    "                axis=alt.Axis(format=\"%b %Y\"),\n",
    "            ),\n",
    "            y=alt.Y(f\"{y_col}:Q\", title=labeling(y_col)),\n",
    "            color=alt.Color(\n",
    "                f\"{color_col}:N\",\n",
    "                scale=alt.Scale(\n",
    "                    range=cp.CALITP_SEQUENTIAL_COLORS,\n",
    "                ),\n",
    "            ),\n",
    "            tooltip=df.columns.tolist(),\n",
    "        )\n",
    "    ).properties(\n",
    "        title={\n",
    "            \"text\": title,\n",
    "            \"subtitle\": subtitle,\n",
    "        },\n",
    "        width=500,\n",
    "        height=300,\n",
    "    )\n",
    "    return chart"
   ]
  },
  {
   "cell_type": "code",
   "execution_count": null,
   "id": "59686254-f0f9-413e-8724-bc22931b3b59",
   "metadata": {},
   "outputs": [],
   "source": [
    "\"\"\"basic_bar_chart(\n",
    "    op_sched_rt_cat,\n",
    "    \"n_trips\",\n",
    "    \"sched_rt_category\",\n",
    "    \"Trips that were found in GTFS, Schedule, or Both Data Sources\",\n",
    "    \"\",\n",
    ") \"\"\""
   ]
  },
  {
   "cell_type": "markdown",
   "id": "b14d8827-083f-4057-a5db-b71b63ac1dee",
   "metadata": {},
   "source": [
    "#### Text"
   ]
  },
  {
   "cell_type": "code",
   "execution_count": 25,
   "id": "0a7654f3-aa39-4a7a-aa99-a46e82283946",
   "metadata": {},
   "outputs": [],
   "source": [
    "table_df = section3.route_stats(one_route)"
   ]
  },
  {
   "cell_type": "code",
   "execution_count": 28,
   "id": "3d8ee8c7-d3fd-4930-a71e-eb4e4f9f250a",
   "metadata": {},
   "outputs": [
    {
     "data": {
      "text/html": [
       "\n",
       "<style>\n",
       "  #altair-viz-e5b97ab18b614f6ca26f4355ea337776.vega-embed {\n",
       "    width: 100%;\n",
       "    display: flex;\n",
       "  }\n",
       "\n",
       "  #altair-viz-e5b97ab18b614f6ca26f4355ea337776.vega-embed details,\n",
       "  #altair-viz-e5b97ab18b614f6ca26f4355ea337776.vega-embed details summary {\n",
       "    position: relative;\n",
       "  }\n",
       "</style>\n",
       "<div id=\"altair-viz-e5b97ab18b614f6ca26f4355ea337776\"></div>\n",
       "<script type=\"text/javascript\">\n",
       "  var VEGA_DEBUG = (typeof VEGA_DEBUG == \"undefined\") ? {} : VEGA_DEBUG;\n",
       "  (function(spec, embedOpt){\n",
       "    let outputDiv = document.currentScript.previousElementSibling;\n",
       "    if (outputDiv.id !== \"altair-viz-e5b97ab18b614f6ca26f4355ea337776\") {\n",
       "      outputDiv = document.getElementById(\"altair-viz-e5b97ab18b614f6ca26f4355ea337776\");\n",
       "    }\n",
       "    const paths = {\n",
       "      \"vega\": \"https://cdn.jsdelivr.net/npm/vega@5?noext\",\n",
       "      \"vega-lib\": \"https://cdn.jsdelivr.net/npm/vega-lib?noext\",\n",
       "      \"vega-lite\": \"https://cdn.jsdelivr.net/npm/vega-lite@5.14.1?noext\",\n",
       "      \"vega-embed\": \"https://cdn.jsdelivr.net/npm/vega-embed@6?noext\",\n",
       "    };\n",
       "\n",
       "    function maybeLoadScript(lib, version) {\n",
       "      var key = `${lib.replace(\"-\", \"\")}_version`;\n",
       "      return (VEGA_DEBUG[key] == version) ?\n",
       "        Promise.resolve(paths[lib]) :\n",
       "        new Promise(function(resolve, reject) {\n",
       "          var s = document.createElement('script');\n",
       "          document.getElementsByTagName(\"head\")[0].appendChild(s);\n",
       "          s.async = true;\n",
       "          s.onload = () => {\n",
       "            VEGA_DEBUG[key] = version;\n",
       "            return resolve(paths[lib]);\n",
       "          };\n",
       "          s.onerror = () => reject(`Error loading script: ${paths[lib]}`);\n",
       "          s.src = paths[lib];\n",
       "        });\n",
       "    }\n",
       "\n",
       "    function showError(err) {\n",
       "      outputDiv.innerHTML = `<div class=\"error\" style=\"color:red;\">${err}</div>`;\n",
       "      throw err;\n",
       "    }\n",
       "\n",
       "    function displayChart(vegaEmbed) {\n",
       "      vegaEmbed(outputDiv, spec, embedOpt)\n",
       "        .catch(err => showError(`Javascript Error: ${err.message}<br>This usually means there's a typo in your chart specification. See the javascript console for the full traceback.`));\n",
       "    }\n",
       "\n",
       "    if(typeof define === \"function\" && define.amd) {\n",
       "      requirejs.config({paths});\n",
       "      require([\"vega-embed\"], displayChart, err => showError(`Error loading script: ${err.message}`));\n",
       "    } else {\n",
       "      maybeLoadScript(\"vega\", \"5\")\n",
       "        .then(() => maybeLoadScript(\"vega-lite\", \"5.14.1\"))\n",
       "        .then(() => maybeLoadScript(\"vega-embed\", \"6\"))\n",
       "        .catch(showError)\n",
       "        .then(() => displayChart(vegaEmbed));\n",
       "    }\n",
       "  })({\"config\": {\"view\": {\"continuousWidth\": 300, \"continuousHeight\": 300}}, \"data\": {\"name\": \"data-55d5b859711a7bbfaef69518dc2f365b\"}, \"mark\": {\"type\": \"text\"}, \"encoding\": {\"text\": {\"field\": \"combo_col\", \"type\": \"nominal\"}, \"x\": {\"axis\": null, \"field\": \"Zero\", \"type\": \"quantitative\"}, \"y\": {\"axis\": null, \"field\": \"combo_col\", \"type\": \"nominal\"}}, \"height\": 300, \"title\": \"Route Statistics for Direction 0\", \"width\": 500, \"$schema\": \"https://vega.github.io/schema/vega-lite/v5.14.1.json\", \"datasets\": {\"data-55d5b859711a7bbfaef69518dc2f365b\": [{\"route_combined_name\": \"School Express\", \"direction_id\": 0.0, \"variable\": \"Avg Scheduled Service Minutes\", \"value\": 22.0, \"Zero\": 0, \"combo_col\": \"Avg Scheduled Service Minutes: 22.0\"}, {\"route_combined_name\": \"School Express\", \"direction_id\": 0.0, \"variable\": \"Avg Stop Miles\", \"value\": 0.53, \"Zero\": 0, \"combo_col\": \"Avg Stop Miles: 0.53\"}, {\"route_combined_name\": \"School Express\", \"direction_id\": 0.0, \"variable\": \"N Scheduled Trips\", \"value\": 1, \"Zero\": 0, \"combo_col\": \"N Scheduled Trips: 1\"}, {\"route_combined_name\": \"School Express\", \"direction_id\": 0.0, \"variable\": \"Sched Rt Category\", \"value\": \"schedule_and_vp\", \"Zero\": 0, \"combo_col\": \"Sched Rt Category: schedule_and_vp\"}, {\"route_combined_name\": \"School Express\", \"direction_id\": 0.0, \"variable\": \"Peak Avg Speed\", \"value\": 25.63, \"Zero\": 0, \"combo_col\": \"Peak Avg Speed: 25.63\"}, {\"route_combined_name\": \"School Express\", \"direction_id\": 0.0, \"variable\": \"Peak Scheduled Trips\", \"value\": 1, \"Zero\": 0, \"combo_col\": \"Peak Scheduled Trips: 1\"}, {\"route_combined_name\": \"School Express\", \"direction_id\": 0.0, \"variable\": \"Peak Hourly Freq\", \"value\": 0.12, \"Zero\": 0, \"combo_col\": \"Peak Hourly Freq: 0.12\"}, {\"route_combined_name\": \"School Express\", \"direction_id\": 0.0, \"variable\": \"Offpeak Avg Speed\", \"value\": 0.0, \"Zero\": 0, \"combo_col\": \"Offpeak Avg Speed: 0.0\"}, {\"route_combined_name\": \"School Express\", \"direction_id\": 0.0, \"variable\": \"Offpeak Scheduled Trips\", \"value\": 0.0, \"Zero\": 0, \"combo_col\": \"Offpeak Scheduled Trips: 0.0\"}, {\"route_combined_name\": \"School Express\", \"direction_id\": 0.0, \"variable\": \"Offpeak Hourly Freq\", \"value\": 0.0, \"Zero\": 0, \"combo_col\": \"Offpeak Hourly Freq: 0.0\"}]}}, {\"mode\": \"vega-lite\"});\n",
       "</script>"
      ],
      "text/plain": [
       "alt.Chart(...)"
      ]
     },
     "execution_count": 28,
     "metadata": {},
     "output_type": "execute_result"
    }
   ],
   "source": [
    "section3.create_text_table(table_df, 0)"
   ]
  },
  {
   "cell_type": "code",
   "execution_count": 29,
   "id": "8873e9da-1743-4d91-820c-88123819146c",
   "metadata": {},
   "outputs": [
    {
     "data": {
      "text/html": [
       "\n",
       "<style>\n",
       "  #altair-viz-859b454ca3314ac6811e74a4a06fef20.vega-embed {\n",
       "    width: 100%;\n",
       "    display: flex;\n",
       "  }\n",
       "\n",
       "  #altair-viz-859b454ca3314ac6811e74a4a06fef20.vega-embed details,\n",
       "  #altair-viz-859b454ca3314ac6811e74a4a06fef20.vega-embed details summary {\n",
       "    position: relative;\n",
       "  }\n",
       "</style>\n",
       "<div id=\"altair-viz-859b454ca3314ac6811e74a4a06fef20\"></div>\n",
       "<script type=\"text/javascript\">\n",
       "  var VEGA_DEBUG = (typeof VEGA_DEBUG == \"undefined\") ? {} : VEGA_DEBUG;\n",
       "  (function(spec, embedOpt){\n",
       "    let outputDiv = document.currentScript.previousElementSibling;\n",
       "    if (outputDiv.id !== \"altair-viz-859b454ca3314ac6811e74a4a06fef20\") {\n",
       "      outputDiv = document.getElementById(\"altair-viz-859b454ca3314ac6811e74a4a06fef20\");\n",
       "    }\n",
       "    const paths = {\n",
       "      \"vega\": \"https://cdn.jsdelivr.net/npm/vega@5?noext\",\n",
       "      \"vega-lib\": \"https://cdn.jsdelivr.net/npm/vega-lib?noext\",\n",
       "      \"vega-lite\": \"https://cdn.jsdelivr.net/npm/vega-lite@5.14.1?noext\",\n",
       "      \"vega-embed\": \"https://cdn.jsdelivr.net/npm/vega-embed@6?noext\",\n",
       "    };\n",
       "\n",
       "    function maybeLoadScript(lib, version) {\n",
       "      var key = `${lib.replace(\"-\", \"\")}_version`;\n",
       "      return (VEGA_DEBUG[key] == version) ?\n",
       "        Promise.resolve(paths[lib]) :\n",
       "        new Promise(function(resolve, reject) {\n",
       "          var s = document.createElement('script');\n",
       "          document.getElementsByTagName(\"head\")[0].appendChild(s);\n",
       "          s.async = true;\n",
       "          s.onload = () => {\n",
       "            VEGA_DEBUG[key] = version;\n",
       "            return resolve(paths[lib]);\n",
       "          };\n",
       "          s.onerror = () => reject(`Error loading script: ${paths[lib]}`);\n",
       "          s.src = paths[lib];\n",
       "        });\n",
       "    }\n",
       "\n",
       "    function showError(err) {\n",
       "      outputDiv.innerHTML = `<div class=\"error\" style=\"color:red;\">${err}</div>`;\n",
       "      throw err;\n",
       "    }\n",
       "\n",
       "    function displayChart(vegaEmbed) {\n",
       "      vegaEmbed(outputDiv, spec, embedOpt)\n",
       "        .catch(err => showError(`Javascript Error: ${err.message}<br>This usually means there's a typo in your chart specification. See the javascript console for the full traceback.`));\n",
       "    }\n",
       "\n",
       "    if(typeof define === \"function\" && define.amd) {\n",
       "      requirejs.config({paths});\n",
       "      require([\"vega-embed\"], displayChart, err => showError(`Error loading script: ${err.message}`));\n",
       "    } else {\n",
       "      maybeLoadScript(\"vega\", \"5\")\n",
       "        .then(() => maybeLoadScript(\"vega-lite\", \"5.14.1\"))\n",
       "        .then(() => maybeLoadScript(\"vega-embed\", \"6\"))\n",
       "        .catch(showError)\n",
       "        .then(() => displayChart(vegaEmbed));\n",
       "    }\n",
       "  })({\"config\": {\"view\": {\"continuousWidth\": 300, \"continuousHeight\": 300}}, \"data\": {\"name\": \"data-438e2ee58979133bcfbf946287a6acc7\"}, \"mark\": {\"type\": \"text\"}, \"encoding\": {\"text\": {\"field\": \"combo_col\", \"type\": \"nominal\"}, \"x\": {\"axis\": null, \"field\": \"Zero\", \"type\": \"quantitative\"}, \"y\": {\"axis\": null, \"field\": \"combo_col\", \"type\": \"nominal\"}}, \"height\": 300, \"title\": \"Route Statistics for Direction 1\", \"width\": 500, \"$schema\": \"https://vega.github.io/schema/vega-lite/v5.14.1.json\", \"datasets\": {\"data-438e2ee58979133bcfbf946287a6acc7\": [{\"route_combined_name\": \"School Express\", \"direction_id\": 1.0, \"variable\": \"Avg Scheduled Service Minutes\", \"value\": 29.0, \"Zero\": 0, \"combo_col\": \"Avg Scheduled Service Minutes: 29.0\"}, {\"route_combined_name\": \"School Express\", \"direction_id\": 1.0, \"variable\": \"Avg Stop Miles\", \"value\": 0.48, \"Zero\": 0, \"combo_col\": \"Avg Stop Miles: 0.48\"}, {\"route_combined_name\": \"School Express\", \"direction_id\": 1.0, \"variable\": \"N Scheduled Trips\", \"value\": 1, \"Zero\": 0, \"combo_col\": \"N Scheduled Trips: 1\"}, {\"route_combined_name\": \"School Express\", \"direction_id\": 1.0, \"variable\": \"Sched Rt Category\", \"value\": \"schedule_and_vp\", \"Zero\": 0, \"combo_col\": \"Sched Rt Category: schedule_and_vp\"}, {\"route_combined_name\": \"School Express\", \"direction_id\": 1.0, \"variable\": \"Peak Avg Speed\", \"value\": 28.95, \"Zero\": 0, \"combo_col\": \"Peak Avg Speed: 28.95\"}, {\"route_combined_name\": \"School Express\", \"direction_id\": 1.0, \"variable\": \"Peak Scheduled Trips\", \"value\": 1, \"Zero\": 0, \"combo_col\": \"Peak Scheduled Trips: 1\"}, {\"route_combined_name\": \"School Express\", \"direction_id\": 1.0, \"variable\": \"Peak Hourly Freq\", \"value\": 0.12, \"Zero\": 0, \"combo_col\": \"Peak Hourly Freq: 0.12\"}, {\"route_combined_name\": \"School Express\", \"direction_id\": 1.0, \"variable\": \"Offpeak Avg Speed\", \"value\": 0.0, \"Zero\": 0, \"combo_col\": \"Offpeak Avg Speed: 0.0\"}, {\"route_combined_name\": \"School Express\", \"direction_id\": 1.0, \"variable\": \"Offpeak Scheduled Trips\", \"value\": 0.0, \"Zero\": 0, \"combo_col\": \"Offpeak Scheduled Trips: 0.0\"}, {\"route_combined_name\": \"School Express\", \"direction_id\": 1.0, \"variable\": \"Offpeak Hourly Freq\", \"value\": 0.0, \"Zero\": 0, \"combo_col\": \"Offpeak Hourly Freq: 0.0\"}]}}, {\"mode\": \"vega-lite\"});\n",
       "</script>"
      ],
      "text/plain": [
       "alt.Chart(...)"
      ]
     },
     "execution_count": 29,
     "metadata": {},
     "output_type": "execute_result"
    }
   ],
   "source": [
    "section3.create_text_table(table_df, 1)"
   ]
  },
  {
   "cell_type": "markdown",
   "id": "6fc21ac6-f52f-4f7b-929d-3d439f9f087f",
   "metadata": {},
   "source": [
    "#### Putting it all together"
   ]
  },
  {
   "cell_type": "code",
   "execution_count": null,
   "id": "06f6f21a-96aa-4a33-9b6d-d36bd4bea7ee",
   "metadata": {},
   "outputs": [],
   "source": [
    "def filtered_route(\n",
    "    df: pd.DataFrame,\n",
    ") -> alt.Chart:\n",
    "    \"\"\"\n",
    "    https://stackoverflow.com/questions/58919888/multiple-selections-in-altair\n",
    "    \"\"\"\n",
    "   \n",
    "    # Data\n",
    "    # Filter for only schedule and vp\n",
    "    df_sched_vp_both = df[df.sched_rt_category == \"schedule_and_vp\"].reset_index(\n",
    "        drop=True\n",
    "    )\n",
    "    \n",
    "    routes_list = df_sched_vp_both[\"route_combined_name\"].unique().tolist()\n",
    "\n",
    "\n",
    "    route_dropdown = alt.binding_select(\n",
    "        options=routes_list,\n",
    "        name=\"Routes\",\n",
    "    )\n",
    "\n",
    "    # Column that controls the bar charts\n",
    "    route_selector = alt.selection_point(\n",
    "        fields=[\"route_combined_name\"],\n",
    "        bind=route_dropdown,\n",
    "    )\n",
    "\n",
    "    # Filter for only rows categorized as found in schedule and vp and all_day\n",
    "    all_day = df_sched_vp_both.loc[\n",
    "        df_sched_vp_both.time_period == \"all_day\"\n",
    "    ].reset_index(drop=True)\n",
    "\n",
    "    # Create route stats table for the text tables\n",
    "    route_stats_df = route_stats(df)\n",
    "\n",
    "    # Manipulate the df for some of the metrics\n",
    "    timeliness_df = timeliness_trips(df_sched_vp_both)\n",
    "    rt_journey_vp = pct_vp_journey(\n",
    "        all_day, \"pct_rt_journey_atleast1_vp\", \"pct_rt_journey_atleast2_vp\"\n",
    "    )\n",
    "    sched_journey_vp = pct_vp_journey(\n",
    "        all_day, \"pct_rt_journey_atleast1_vp\", \"pct_rt_journey_atleast2_vp\"\n",
    "    )\n",
    "\n",
    "    # Charts\n",
    "    avg_scheduled_min = (\n",
    "        section2.grouped_bar_chart(\n",
    "            df=all_day.drop_duplicates(),\n",
    "            color_col=\"direction_id\",\n",
    "            y_col=\"avg_scheduled_service_minutes\",\n",
    "            offset_col=\"direction_id\",\n",
    "            title=\"Average Scheduled Minutes\",\n",
    "            subtitle=\"The average minutes a trip is scheduled to run.\",\n",
    "        )\n",
    "        .add_params(route_selector)\n",
    "        .transform_filter(route_selector)\n",
    "    )\n",
    "\n",
    "    timeliness_trips_dir_0 = (\n",
    "        (\n",
    "            section2.base_facet_chart(\n",
    "                timeliness_df.loc[timeliness_df.direction_id == 0].drop_duplicates(),\n",
    "                \"value\",\n",
    "                \"variable\",\n",
    "                \"time_period\",\n",
    "                \"Breakdown of Trips by Categories for Direction 0\",\n",
    "                \"Categorizing whether a trip is early, late, or ontime. A trip is on time if it arrives 5 minutes later or earlier than scheduled.\",\n",
    "            )\n",
    "        )\n",
    "        .add_params(route_selector)\n",
    "        .transform_filter(route_selector)\n",
    "    )\n",
    "    timeliness_trips_dir_1 = (\n",
    "        (\n",
    "            section2.base_facet_chart(\n",
    "                timeliness_df.loc[timeliness_df.direction_id == 1].drop_duplicates(),\n",
    "                \"value\",\n",
    "                \"variable\",\n",
    "                \"time_period\",\n",
    "                \"Breakdown of Trips by Categories for Direction 1\",\n",
    "                \"Categorizing whether a trip is early, late, or ontime. A trip is on time if it arrives 5 minutes later or earlier than scheduled.\",\n",
    "            )\n",
    "        )\n",
    "        .add_params(route_selector)\n",
    "        .transform_filter(route_selector)\n",
    "    )\n",
    "\n",
    "    frequency = (\n",
    "        section2.frequency_chart(df_sched_vp_both)\n",
    "        .add_params(route_selector)\n",
    "        .transform_filter(route_selector)\n",
    "    )\n",
    "    speed = (\n",
    "        section2.base_facet_line(\n",
    "            df_sched_vp_both,\n",
    "            \"speed_mph\",\n",
    "            \"Average Speed\",\n",
    "            \"The average miles per hour the bus travels by direction and time of day.\",\n",
    "        )\n",
    "        .add_params(route_selector)\n",
    "        .transform_filter(route_selector)\n",
    "    )\n",
    "\n",
    "    vp_per_min = (\n",
    "        (\n",
    "            section2.base_facet_with_ruler_chart(\n",
    "                all_day.drop_duplicates(),\n",
    "                \"vp_per_minute\",\n",
    "                \"ruler_for_vp_per_min\",\n",
    "                \"Vehicle Positions per Minute\",\n",
    "                \"Trips should have 2+ vehicle positions per minute.\",\n",
    "            )\n",
    "        )\n",
    "        .add_params(route_selector)\n",
    "        .transform_filter(route_selector)\n",
    "    )\n",
    "\n",
    "    rt_vp_per_min = (\n",
    "        section2.base_facet_circle(\n",
    "            rt_journey_vp,\n",
    "            \"value\",\n",
    "            \"ruler_100_pct\",\n",
    "            \"Percentage of Realtime Trips with 1+ and 2+ Vehicle Positions\",\n",
    "            \"The goal is for almost 100% of trips to have 2 or more Vehicle Positions per minute.\",\n",
    "        )\n",
    "        .add_params(route_selector)\n",
    "        .transform_filter(route_selector)\n",
    "    )\n",
    "    sched_vp_per_min = (\n",
    "        section2.base_facet_circle(\n",
    "            sched_journey_vp,\n",
    "            \"value\",\n",
    "            \"sched_journey_vp\",\n",
    "            \"Percentage of Scheduled Trips with 1+ and 2+ Vehicle Positions\",\n",
    "            \"The goal is for almost 100% of trips to have 2 or more Vehicle Positions per minute.\",\n",
    "        )\n",
    "        .add_params(route_selector)\n",
    "        .transform_filter(route_selector)\n",
    "    )\n",
    "    spatial_accuracy = (\n",
    "        section2.base_facet_with_ruler_chart(\n",
    "            all_day.drop_duplicates(),\n",
    "            \"pct_in_shape\",\n",
    "            \"ruler_100_pct\",\n",
    "            \"Spatial Accuracy\",\n",
    "            \"The percentage of vehicle positions that fall within the static scheduled route shape reflects the accuracy of the spatial, realtime data.\",\n",
    "        )\n",
    "        .add_params(route_selector)\n",
    "        .transform_filter(route_selector)\n",
    "    )\n",
    "\n",
    "    text_dir0 = (\n",
    "        (section2.create_text_table(route_stats_df, 0))\n",
    "        .add_params(route_selector)\n",
    "        .transform_filter(route_selector)\n",
    "    )\n",
    "    text_dir1 = (\n",
    "        section2.create_text_table(route_stats_df, 1)\n",
    "        .add_params(route_selector)\n",
    "        .transform_filter(route_selector)\n",
    "    )\n",
    "    chart_list = [\n",
    "        avg_scheduled_min,\n",
    "        timeliness_trips_dir_0,\n",
    "        timeliness_trips_dir_1,\n",
    "        frequency,\n",
    "        speed,\n",
    "        vp_per_min,\n",
    "        rt_vp_per_min,\n",
    "        sched_vp_per_min,\n",
    "        spatial_accuracy,\n",
    "        text_dir0,\n",
    "        text_dir1,\n",
    "    ]\n",
    "\n",
    "    chart = alt.vconcat(*chart_list).properties(\n",
    "        resolve=alt.Resolve(\n",
    "            scale=alt.LegendResolveMap(color=alt.ResolveMode(\"independent\"))\n",
    "        )\n",
    "    )\n",
    "    return chart"
   ]
  },
  {
   "cell_type": "code",
   "execution_count": null,
   "id": "06590b02-b54b-4d0b-a2f6-ee02aeeca16b",
   "metadata": {},
   "outputs": [],
   "source": [
    "filtered_route(df_sched_vp_both)"
   ]
  }
 ],
 "metadata": {
  "kernelspec": {
   "display_name": "Python 3 (ipykernel)",
   "language": "python",
   "name": "python3"
  },
  "language_info": {
   "codemirror_mode": {
    "name": "ipython",
    "version": 3
   },
   "file_extension": ".py",
   "mimetype": "text/x-python",
   "name": "python",
   "nbconvert_exporter": "python",
   "pygments_lexer": "ipython3",
   "version": "3.9.13"
  }
 },
 "nbformat": 4,
 "nbformat_minor": 5
}
