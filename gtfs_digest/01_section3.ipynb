{
 "cells": [
  {
   "cell_type": "markdown",
   "id": "9ef066ac-5f6d-4595-b819-0cdacbadd7fe",
   "metadata": {},
   "source": [
    "## Round 1 \n",
    "* Updating existing charts made by Tiffany. https://gtfs-digest--cal-itp-data-analyses.netlify.app/\n",
    "* cd rt_segment_speeds && pip install altair_transform && pip install -r requirements.txt && cd ../_shared_utils && make setup_env\n",
    "\n",
    "Links\n",
    "* https://github.com/cal-itp/data-analyses/issues/1059\n",
    "* https://docs.google.com/document/d/1I1WiqlmU06W6iLCi7cZQrOCLILkrEfABEkcU0Jys7f0/edit\n",
    "* https://route-speeds--cal-itp-data-analyses.netlify.app/name_bay-area-511-muni-schedule/0__report__name_bay-area-511-muni-schedule\n",
    "* https://posit-dev.github.io/great-tables/get-started/nanoplots.html\n",
    "* https://docs.pola.rs/py-polars/html/reference/api/polars.from_pandas.html\n",
    "* https://github.com/cal-itp/data-analyses/blob/main/rt_segment_speeds/_rt_scheduled_utils.py\n",
    "* https://github.com/cal-itp/data-analyses/blob/main/rt_segment_speeds/_threshold_utils.py"
   ]
  },
  {
   "cell_type": "code",
   "execution_count": 1,
   "id": "41ffdcf4-2076-49c6-bae6-6ffb51f044b3",
   "metadata": {},
   "outputs": [],
   "source": [
    "import _section3_utils as section3\n",
    "import _report_utils\n",
    "import altair as alt\n",
    "import calitp_data_analysis.magics\n",
    "import geopandas as gpd\n",
    "import great_tables as gt\n",
    "import pandas as pd\n",
    "from calitp_data_analysis import calitp_color_palette as cp\n",
    "from great_tables import md\n",
    "from IPython.display import HTML, Markdown, display\n",
    "from segment_speed_utils.project_vars import RT_SCHED_GCS, SCHED_GCS\n",
    "from shared_utils import rt_dates, rt_utils, catalog_utils\n",
    "\n",
    "alt.renderers.enable(\"html\")\n",
    "alt.data_transformers.enable(\"default\", max_rows=None)\n",
    "from typing import List, Union\n",
    "\n",
    "from altair_transform.extract import extract_transform\n",
    "from altair_transform.transform import visit\n",
    "from altair_transform.utils import to_dataframe"
   ]
  },
  {
   "cell_type": "code",
   "execution_count": 2,
   "id": "6366b86d-cdad-4aa0-9b29-9e506cb63258",
   "metadata": {},
   "outputs": [],
   "source": [
    "pd.options.display.max_columns = 100\n",
    "pd.options.display.float_format = \"{:.2f}\".format\n",
    "pd.set_option(\"display.max_rows\", None)\n",
    "pd.set_option(\"display.max_colwidth\", None)"
   ]
  },
  {
   "cell_type": "code",
   "execution_count": 3,
   "id": "8567437c-3023-4281-b0f5-5903c29217a2",
   "metadata": {},
   "outputs": [],
   "source": [
    "GTFS_DATA_DICT = catalog_utils.get_catalog(\"gtfs_analytics_data\")"
   ]
  },
  {
   "cell_type": "code",
   "execution_count": 4,
   "id": "f87b0483-ff6d-4ecc-aab6-3d5e61415b3c",
   "metadata": {},
   "outputs": [],
   "source": [
    "org_name = \"City of Eureka\""
   ]
  },
  {
   "cell_type": "code",
   "execution_count": 5,
   "id": "292a2159-4922-4bd3-b899-2e854ac2a4a0",
   "metadata": {},
   "outputs": [
    {
     "data": {
      "text/html": [
       "\n",
       "<style>\n",
       "form.vega-bindings {\n",
       "  position: absolute;\n",
       "  right: 0px;\n",
       "  top: 0px;\n",
       "}\n",
       "</style>\n"
      ],
      "text/plain": [
       "<IPython.core.display.HTML object>"
      ]
     },
     "metadata": {},
     "output_type": "display_data"
    }
   ],
   "source": [
    "# Set drop down menu to be on the upper right\n",
    "display(\n",
    "    HTML(\n",
    "        \"\"\"\n",
    "<style>\n",
    "form.vega-bindings {\n",
    "  position: absolute;\n",
    "  right: 0px;\n",
    "  top: 0px;\n",
    "}\n",
    "</style>\n",
    "\"\"\"\n",
    "    )\n",
    ")"
   ]
  },
  {
   "cell_type": "markdown",
   "id": "58c0269f-a557-4aa1-975f-56815886a0ef",
   "metadata": {},
   "source": [
    "### Original File "
   ]
  },
  {
   "cell_type": "code",
   "execution_count": 6,
   "id": "d5ed603a-c443-4500-b084-baa5e010d069",
   "metadata": {},
   "outputs": [],
   "source": [
    "schd_vp_url = f\"{GTFS_DATA_DICT.digest_tables.dir}{GTFS_DATA_DICT.digest_tables.route_schedule_vp}.parquet\"\n",
    "    "
   ]
  },
  {
   "cell_type": "code",
   "execution_count": 7,
   "id": "7969e1b9-27e3-4bdc-a200-697496701f41",
   "metadata": {},
   "outputs": [],
   "source": [
    "og = pd.read_parquet(schd_vp_url, filters=[[(\"organization_name\", \"==\", org_name)]],\n",
    "                        columns = [\"organization_name\", \"caltrans_district\", \"name\"]\n",
    "    )"
   ]
  },
  {
   "cell_type": "code",
   "execution_count": 8,
   "id": "1b6bf0c5-dc74-4dac-aef9-f0f06ac878ea",
   "metadata": {},
   "outputs": [
    {
     "data": {
      "text/plain": [
       "(280, 3)"
      ]
     },
     "execution_count": 8,
     "metadata": {},
     "output_type": "execute_result"
    }
   ],
   "source": [
    "og.shape"
   ]
  },
  {
   "cell_type": "markdown",
   "id": "b29a8034-d069-4808-aaec-b69a72392054",
   "metadata": {},
   "source": [
    "### Duplicates Dropped"
   ]
  },
  {
   "cell_type": "code",
   "execution_count": 9,
   "id": "08ae7ba0-7e53-4fed-a5c8-f035d63a791e",
   "metadata": {},
   "outputs": [],
   "source": [
    "df = section3.load_schedule_vp_metrics(org_name)"
   ]
  },
  {
   "cell_type": "code",
   "execution_count": 10,
   "id": "518457f4-4034-4461-be8e-51b25cae86b7",
   "metadata": {
    "scrolled": true,
    "tags": []
   },
   "outputs": [
    {
     "data": {
      "text/html": [
       "<div>\n",
       "<style scoped>\n",
       "    .dataframe tbody tr th:only-of-type {\n",
       "        vertical-align: middle;\n",
       "    }\n",
       "\n",
       "    .dataframe tbody tr th {\n",
       "        vertical-align: top;\n",
       "    }\n",
       "\n",
       "    .dataframe thead th {\n",
       "        text-align: right;\n",
       "    }\n",
       "</style>\n",
       "<table border=\"1\" class=\"dataframe\">\n",
       "  <thead>\n",
       "    <tr style=\"text-align: right;\">\n",
       "      <th></th>\n",
       "      <th>schedule_gtfs_dataset_key</th>\n",
       "      <th>direction_id</th>\n",
       "      <th>time_period</th>\n",
       "      <th>avg_scheduled_service_minutes</th>\n",
       "      <th>avg_stop_miles</th>\n",
       "      <th>n_scheduled_trips</th>\n",
       "      <th>frequency</th>\n",
       "      <th>service_date</th>\n",
       "      <th>minutes_atleast1_vp</th>\n",
       "      <th>minutes_atleast2_vp</th>\n",
       "      <th>total_rt_service_minutes</th>\n",
       "      <th>total_scheduled_service_minutes</th>\n",
       "      <th>total_vp</th>\n",
       "      <th>vp_in_shape</th>\n",
       "      <th>is_early</th>\n",
       "      <th>is_ontime</th>\n",
       "      <th>is_late</th>\n",
       "      <th>n_vp_trips</th>\n",
       "      <th>vp_per_minute</th>\n",
       "      <th>pct_in_shape</th>\n",
       "      <th>pct_rt_journey_atleast1_vp</th>\n",
       "      <th>pct_rt_journey_atleast2_vp</th>\n",
       "      <th>pct_sched_journey_atleast1_vp</th>\n",
       "      <th>pct_sched_journey_atleast2_vp</th>\n",
       "      <th>rt_sched_journey_ratio</th>\n",
       "      <th>avg_rt_service_minutes</th>\n",
       "      <th>sched_rt_category</th>\n",
       "      <th>speed_mph</th>\n",
       "      <th>name</th>\n",
       "      <th>route_long_name</th>\n",
       "      <th>route_short_name</th>\n",
       "      <th>route_combined_name</th>\n",
       "      <th>route_id</th>\n",
       "      <th>typology</th>\n",
       "      <th>schedule_source_record_id</th>\n",
       "      <th>base64_url</th>\n",
       "      <th>organization_source_record_id</th>\n",
       "      <th>organization_name</th>\n",
       "      <th>caltrans_district</th>\n",
       "      <th>rt_sched_journey_ratio_cat</th>\n",
       "      <th>frequency_cat</th>\n",
       "      <th>vp_per_minute_cat</th>\n",
       "      <th>ruler_100_pct</th>\n",
       "      <th>ruler_for_vp_per_min</th>\n",
       "      <th>frequency_in_minutes</th>\n",
       "    </tr>\n",
       "  </thead>\n",
       "  <tbody>\n",
       "    <tr>\n",
       "      <th>0</th>\n",
       "      <td>a253a8d7acd57657bb98050f37dd6b0f</td>\n",
       "      <td>0.00</td>\n",
       "      <td>all_day</td>\n",
       "      <td>51.00</td>\n",
       "      <td>0.17</td>\n",
       "      <td>12</td>\n",
       "      <td>0.50</td>\n",
       "      <td>2023-11-15</td>\n",
       "      <td>716</td>\n",
       "      <td>708</td>\n",
       "      <td>706.66</td>\n",
       "      <td>612.00</td>\n",
       "      <td>2124</td>\n",
       "      <td>2072</td>\n",
       "      <td>0</td>\n",
       "      <td>2</td>\n",
       "      <td>10</td>\n",
       "      <td>12</td>\n",
       "      <td>3.01</td>\n",
       "      <td>98.00</td>\n",
       "      <td>100.00</td>\n",
       "      <td>100.00</td>\n",
       "      <td>100.00</td>\n",
       "      <td>100.00</td>\n",
       "      <td>1.15</td>\n",
       "      <td>58.89</td>\n",
       "      <td>schedule_and_vp</td>\n",
       "      <td>19.44</td>\n",
       "      <td>Humboldt Schedule</td>\n",
       "      <td>AMRTS Red Route</td>\n",
       "      <td>A Red</td>\n",
       "      <td>AMRTS Red Route</td>\n",
       "      <td>13</td>\n",
       "      <td>rapid</td>\n",
       "      <td>recGTiyx7VcxcUkRu</td>\n",
       "      <td>aHR0cHM6Ly9kYXRhLnRyaWxsaXVtdHJhbnNpdC5jb20vZ3Rmcy9odW1ib2xkdGNvdW50eS1jYS11cy9odW1ib2xkdGNvdW50eS1jYS11cy56aXA=</td>\n",
       "      <td>recynxkqEoo9dJEvw</td>\n",
       "      <td>City of Eureka</td>\n",
       "      <td>01 - Eureka</td>\n",
       "      <td>Late by 1-25% of the scheduled time</td>\n",
       "      <td>&lt;1 trip/hour</td>\n",
       "      <td>3+ pings per minute (target)</td>\n",
       "      <td>100</td>\n",
       "      <td>2</td>\n",
       "      <td>120.00</td>\n",
       "    </tr>\n",
       "    <tr>\n",
       "      <th>1</th>\n",
       "      <td>a253a8d7acd57657bb98050f37dd6b0f</td>\n",
       "      <td>0.00</td>\n",
       "      <td>all_day</td>\n",
       "      <td>51.00</td>\n",
       "      <td>0.17</td>\n",
       "      <td>12</td>\n",
       "      <td>0.50</td>\n",
       "      <td>2023-12-13</td>\n",
       "      <td>712</td>\n",
       "      <td>704</td>\n",
       "      <td>699.92</td>\n",
       "      <td>612.00</td>\n",
       "      <td>2107</td>\n",
       "      <td>2062</td>\n",
       "      <td>1</td>\n",
       "      <td>1</td>\n",
       "      <td>10</td>\n",
       "      <td>12</td>\n",
       "      <td>3.01</td>\n",
       "      <td>98.00</td>\n",
       "      <td>100.00</td>\n",
       "      <td>100.00</td>\n",
       "      <td>100.00</td>\n",
       "      <td>100.00</td>\n",
       "      <td>1.14</td>\n",
       "      <td>58.33</td>\n",
       "      <td>schedule_and_vp</td>\n",
       "      <td>NaN</td>\n",
       "      <td>Humboldt Schedule</td>\n",
       "      <td>AMRTS Red Route</td>\n",
       "      <td>A Red</td>\n",
       "      <td>AMRTS Red Route</td>\n",
       "      <td>13</td>\n",
       "      <td>rapid</td>\n",
       "      <td>recGTiyx7VcxcUkRu</td>\n",
       "      <td>aHR0cHM6Ly9kYXRhLnRyaWxsaXVtdHJhbnNpdC5jb20vZ3Rmcy9odW1ib2xkdGNvdW50eS1jYS11cy9odW1ib2xkdGNvdW50eS1jYS11cy56aXA=</td>\n",
       "      <td>recynxkqEoo9dJEvw</td>\n",
       "      <td>City of Eureka</td>\n",
       "      <td>01 - Eureka</td>\n",
       "      <td>Late by 1-25% of the scheduled time</td>\n",
       "      <td>&lt;1 trip/hour</td>\n",
       "      <td>3+ pings per minute (target)</td>\n",
       "      <td>100</td>\n",
       "      <td>2</td>\n",
       "      <td>120.00</td>\n",
       "    </tr>\n",
       "  </tbody>\n",
       "</table>\n",
       "</div>"
      ],
      "text/plain": [
       "          schedule_gtfs_dataset_key  direction_id time_period  \\\n",
       "0  a253a8d7acd57657bb98050f37dd6b0f          0.00     all_day   \n",
       "1  a253a8d7acd57657bb98050f37dd6b0f          0.00     all_day   \n",
       "\n",
       "   avg_scheduled_service_minutes  avg_stop_miles  n_scheduled_trips  \\\n",
       "0                          51.00            0.17                 12   \n",
       "1                          51.00            0.17                 12   \n",
       "\n",
       "   frequency service_date  minutes_atleast1_vp  minutes_atleast2_vp  \\\n",
       "0       0.50   2023-11-15                  716                  708   \n",
       "1       0.50   2023-12-13                  712                  704   \n",
       "\n",
       "   total_rt_service_minutes  total_scheduled_service_minutes  total_vp  \\\n",
       "0                    706.66                           612.00      2124   \n",
       "1                    699.92                           612.00      2107   \n",
       "\n",
       "   vp_in_shape  is_early  is_ontime  is_late  n_vp_trips  vp_per_minute  \\\n",
       "0         2072         0          2       10          12           3.01   \n",
       "1         2062         1          1       10          12           3.01   \n",
       "\n",
       "   pct_in_shape  pct_rt_journey_atleast1_vp  pct_rt_journey_atleast2_vp  \\\n",
       "0         98.00                      100.00                      100.00   \n",
       "1         98.00                      100.00                      100.00   \n",
       "\n",
       "   pct_sched_journey_atleast1_vp  pct_sched_journey_atleast2_vp  \\\n",
       "0                         100.00                         100.00   \n",
       "1                         100.00                         100.00   \n",
       "\n",
       "   rt_sched_journey_ratio  avg_rt_service_minutes sched_rt_category  \\\n",
       "0                    1.15                   58.89   schedule_and_vp   \n",
       "1                    1.14                   58.33   schedule_and_vp   \n",
       "\n",
       "   speed_mph               name  route_long_name route_short_name  \\\n",
       "0      19.44  Humboldt Schedule  AMRTS Red Route            A Red   \n",
       "1        NaN  Humboldt Schedule  AMRTS Red Route            A Red   \n",
       "\n",
       "  route_combined_name route_id typology schedule_source_record_id  \\\n",
       "0     AMRTS Red Route       13    rapid         recGTiyx7VcxcUkRu   \n",
       "1     AMRTS Red Route       13    rapid         recGTiyx7VcxcUkRu   \n",
       "\n",
       "                                                                                                         base64_url  \\\n",
       "0  aHR0cHM6Ly9kYXRhLnRyaWxsaXVtdHJhbnNpdC5jb20vZ3Rmcy9odW1ib2xkdGNvdW50eS1jYS11cy9odW1ib2xkdGNvdW50eS1jYS11cy56aXA=   \n",
       "1  aHR0cHM6Ly9kYXRhLnRyaWxsaXVtdHJhbnNpdC5jb20vZ3Rmcy9odW1ib2xkdGNvdW50eS1jYS11cy9odW1ib2xkdGNvdW50eS1jYS11cy56aXA=   \n",
       "\n",
       "  organization_source_record_id organization_name caltrans_district  \\\n",
       "0             recynxkqEoo9dJEvw    City of Eureka       01 - Eureka   \n",
       "1             recynxkqEoo9dJEvw    City of Eureka       01 - Eureka   \n",
       "\n",
       "            rt_sched_journey_ratio_cat frequency_cat  \\\n",
       "0  Late by 1-25% of the scheduled time  <1 trip/hour   \n",
       "1  Late by 1-25% of the scheduled time  <1 trip/hour   \n",
       "\n",
       "              vp_per_minute_cat  ruler_100_pct  ruler_for_vp_per_min  \\\n",
       "0  3+ pings per minute (target)            100                     2   \n",
       "1  3+ pings per minute (target)            100                     2   \n",
       "\n",
       "   frequency_in_minutes  \n",
       "0                120.00  \n",
       "1                120.00  "
      ]
     },
     "execution_count": 10,
     "metadata": {},
     "output_type": "execute_result"
    }
   ],
   "source": [
    "df.head(2)"
   ]
  },
  {
   "cell_type": "code",
   "execution_count": 11,
   "id": "add5a920-24e5-4b76-a1dc-d32968b8868f",
   "metadata": {},
   "outputs": [
    {
     "data": {
      "text/plain": [
       "all_day    84\n",
       "peak       76\n",
       "offpeak    72\n",
       "Name: time_period, dtype: int64"
      ]
     },
     "execution_count": 11,
     "metadata": {},
     "output_type": "execute_result"
    }
   ],
   "source": [
    "df.time_period.value_counts()"
   ]
  },
  {
   "cell_type": "code",
   "execution_count": 12,
   "id": "82a4d535-b890-46bf-9b3e-656d202be620",
   "metadata": {},
   "outputs": [
    {
     "data": {
      "text/plain": [
       "['schedule_and_vp']\n",
       "Categories (3, object): ['schedule_only', 'vp_only', 'schedule_and_vp']"
      ]
     },
     "execution_count": 12,
     "metadata": {},
     "output_type": "execute_result"
    }
   ],
   "source": [
    "df.sched_rt_category.unique()"
   ]
  },
  {
   "cell_type": "markdown",
   "id": "14cb4180-128f-40ca-bb42-9d0e15c02aba",
   "metadata": {},
   "source": [
    "### Checkout Duplicates"
   ]
  },
  {
   "cell_type": "code",
   "execution_count": 13,
   "id": "0503668f-691e-4782-a89f-e7e62b554eba",
   "metadata": {},
   "outputs": [
    {
     "data": {
      "text/plain": [
       "232"
      ]
     },
     "execution_count": 13,
     "metadata": {},
     "output_type": "execute_result"
    }
   ],
   "source": [
    "len(df)"
   ]
  },
  {
   "cell_type": "code",
   "execution_count": 14,
   "id": "9f0c8890-0d0f-4f03-b77f-c997642fb11f",
   "metadata": {},
   "outputs": [],
   "source": [
    "categories_only = df[['sched_rt_category','direction_id','time_period','service_date','route_combined_name','n_scheduled_trips']]"
   ]
  },
  {
   "cell_type": "code",
   "execution_count": 15,
   "id": "ab9bc4df-69b2-46da-beec-5f2b77dad95d",
   "metadata": {},
   "outputs": [],
   "source": [
    "categories_only = categories_only.loc[categories_only.time_period == \"all_day\"]"
   ]
  },
  {
   "cell_type": "code",
   "execution_count": 16,
   "id": "29f72eee-bbbc-4666-818f-ab3b3b4a53e2",
   "metadata": {},
   "outputs": [],
   "source": [
    "march_2024 = df.loc[df.service_date == \"2024-03-13\"]"
   ]
  },
  {
   "cell_type": "code",
   "execution_count": 17,
   "id": "daaf2386-ced9-484a-8dd7-4e0035ce6473",
   "metadata": {},
   "outputs": [
    {
     "data": {
      "text/plain": [
       "83"
      ]
     },
     "execution_count": 17,
     "metadata": {},
     "output_type": "execute_result"
    }
   ],
   "source": [
    "categories_only.loc[categories_only.service_date == \"2024-03-13\"].n_scheduled_trips.sum()"
   ]
  },
  {
   "cell_type": "markdown",
   "id": "2efbb7c2-9060-43b2-b97e-96d3200aeb6d",
   "metadata": {},
   "source": [
    "### One Route"
   ]
  },
  {
   "cell_type": "code",
   "execution_count": 18,
   "id": "f16426ab-58f1-4140-93ae-7adf0df98176",
   "metadata": {},
   "outputs": [
    {
     "data": {
      "text/plain": [
       "array(['AMRTS Red Route', 'AMRTS Gold Route', 'AMRTS Orange Route',\n",
       "       'ETS Red Route', 'ETS Green Route', 'ETS Gold Route',\n",
       "       'ETS Purple Route', 'AMRTS Green & Gold Route',\n",
       "       'Redwood Coast Express', 'Willow Creek',\n",
       "       'Southern Humboldt Intercity'], dtype=object)"
      ]
     },
     "execution_count": 18,
     "metadata": {},
     "output_type": "execute_result"
    }
   ],
   "source": [
    "df.route_combined_name.unique()"
   ]
  },
  {
   "cell_type": "code",
   "execution_count": 19,
   "id": "0b1f34c2-bcec-4e7f-81a5-c2fd7e7d4d9d",
   "metadata": {},
   "outputs": [],
   "source": [
    "one_route = df.loc[\n",
    "    df.route_combined_name == 'AMRTS Gold Route'\n",
    "]"
   ]
  },
  {
   "cell_type": "code",
   "execution_count": 20,
   "id": "7365d028-e5b9-4ac9-bc57-8ab052af2007",
   "metadata": {},
   "outputs": [
    {
     "data": {
      "text/plain": [
       "(18, 45)"
      ]
     },
     "execution_count": 20,
     "metadata": {},
     "output_type": "execute_result"
    }
   ],
   "source": [
    "one_route.shape"
   ]
  },
  {
   "cell_type": "code",
   "execution_count": 21,
   "id": "bac7ef9b-7629-4940-8426-dfc49fb26468",
   "metadata": {},
   "outputs": [
    {
     "data": {
      "text/html": [
       "<div>\n",
       "<style scoped>\n",
       "    .dataframe tbody tr th:only-of-type {\n",
       "        vertical-align: middle;\n",
       "    }\n",
       "\n",
       "    .dataframe tbody tr th {\n",
       "        vertical-align: top;\n",
       "    }\n",
       "\n",
       "    .dataframe thead th {\n",
       "        text-align: right;\n",
       "    }\n",
       "</style>\n",
       "<table border=\"1\" class=\"dataframe\">\n",
       "  <thead>\n",
       "    <tr style=\"text-align: right;\">\n",
       "      <th></th>\n",
       "      <th>schedule_gtfs_dataset_key</th>\n",
       "      <th>direction_id</th>\n",
       "      <th>time_period</th>\n",
       "      <th>avg_scheduled_service_minutes</th>\n",
       "      <th>avg_stop_miles</th>\n",
       "      <th>n_scheduled_trips</th>\n",
       "      <th>frequency</th>\n",
       "      <th>service_date</th>\n",
       "      <th>minutes_atleast1_vp</th>\n",
       "      <th>minutes_atleast2_vp</th>\n",
       "      <th>total_rt_service_minutes</th>\n",
       "      <th>total_scheduled_service_minutes</th>\n",
       "      <th>total_vp</th>\n",
       "      <th>vp_in_shape</th>\n",
       "      <th>is_early</th>\n",
       "      <th>is_ontime</th>\n",
       "      <th>is_late</th>\n",
       "      <th>n_vp_trips</th>\n",
       "      <th>vp_per_minute</th>\n",
       "      <th>pct_in_shape</th>\n",
       "      <th>pct_rt_journey_atleast1_vp</th>\n",
       "      <th>pct_rt_journey_atleast2_vp</th>\n",
       "      <th>pct_sched_journey_atleast1_vp</th>\n",
       "      <th>pct_sched_journey_atleast2_vp</th>\n",
       "      <th>rt_sched_journey_ratio</th>\n",
       "      <th>avg_rt_service_minutes</th>\n",
       "      <th>sched_rt_category</th>\n",
       "      <th>speed_mph</th>\n",
       "      <th>name</th>\n",
       "      <th>route_long_name</th>\n",
       "      <th>route_short_name</th>\n",
       "      <th>route_combined_name</th>\n",
       "      <th>route_id</th>\n",
       "      <th>typology</th>\n",
       "      <th>schedule_source_record_id</th>\n",
       "      <th>base64_url</th>\n",
       "      <th>organization_source_record_id</th>\n",
       "      <th>organization_name</th>\n",
       "      <th>caltrans_district</th>\n",
       "      <th>rt_sched_journey_ratio_cat</th>\n",
       "      <th>frequency_cat</th>\n",
       "      <th>vp_per_minute_cat</th>\n",
       "      <th>ruler_100_pct</th>\n",
       "      <th>ruler_for_vp_per_min</th>\n",
       "      <th>frequency_in_minutes</th>\n",
       "    </tr>\n",
       "  </thead>\n",
       "  <tbody>\n",
       "    <tr>\n",
       "      <th>23</th>\n",
       "      <td>a253a8d7acd57657bb98050f37dd6b0f</td>\n",
       "      <td>0.00</td>\n",
       "      <td>all_day</td>\n",
       "      <td>52.00</td>\n",
       "      <td>0.19</td>\n",
       "      <td>12</td>\n",
       "      <td>0.50</td>\n",
       "      <td>2024-04-17</td>\n",
       "      <td>714</td>\n",
       "      <td>707</td>\n",
       "      <td>703.78</td>\n",
       "      <td>624.00</td>\n",
       "      <td>2119</td>\n",
       "      <td>2118</td>\n",
       "      <td>0</td>\n",
       "      <td>1</td>\n",
       "      <td>11</td>\n",
       "      <td>12</td>\n",
       "      <td>3.01</td>\n",
       "      <td>100.00</td>\n",
       "      <td>100.00</td>\n",
       "      <td>100.00</td>\n",
       "      <td>100.00</td>\n",
       "      <td>100.00</td>\n",
       "      <td>1.13</td>\n",
       "      <td>58.65</td>\n",
       "      <td>schedule_and_vp</td>\n",
       "      <td>14.98</td>\n",
       "      <td>Humboldt Schedule</td>\n",
       "      <td>AMRTS Gold Route</td>\n",
       "      <td>A Gold</td>\n",
       "      <td>AMRTS Gold Route</td>\n",
       "      <td>14</td>\n",
       "      <td>rapid</td>\n",
       "      <td>recGTiyx7VcxcUkRu</td>\n",
       "      <td>aHR0cHM6Ly9kYXRhLnRyaWxsaXVtdHJhbnNpdC5jb20vZ3Rmcy9odW1ib2xkdGNvdW50eS1jYS11cy9odW1ib2xkdGNvdW50eS1jYS11cy56aXA=</td>\n",
       "      <td>recynxkqEoo9dJEvw</td>\n",
       "      <td>City of Eureka</td>\n",
       "      <td>01 - Eureka</td>\n",
       "      <td>Late by 1-25% of the scheduled time</td>\n",
       "      <td>&lt;1 trip/hour</td>\n",
       "      <td>3+ pings per minute (target)</td>\n",
       "      <td>100</td>\n",
       "      <td>2</td>\n",
       "      <td>120.00</td>\n",
       "    </tr>\n",
       "  </tbody>\n",
       "</table>\n",
       "</div>"
      ],
      "text/plain": [
       "           schedule_gtfs_dataset_key  direction_id time_period  \\\n",
       "23  a253a8d7acd57657bb98050f37dd6b0f          0.00     all_day   \n",
       "\n",
       "    avg_scheduled_service_minutes  avg_stop_miles  n_scheduled_trips  \\\n",
       "23                          52.00            0.19                 12   \n",
       "\n",
       "    frequency service_date  minutes_atleast1_vp  minutes_atleast2_vp  \\\n",
       "23       0.50   2024-04-17                  714                  707   \n",
       "\n",
       "    total_rt_service_minutes  total_scheduled_service_minutes  total_vp  \\\n",
       "23                    703.78                           624.00      2119   \n",
       "\n",
       "    vp_in_shape  is_early  is_ontime  is_late  n_vp_trips  vp_per_minute  \\\n",
       "23         2118         0          1       11          12           3.01   \n",
       "\n",
       "    pct_in_shape  pct_rt_journey_atleast1_vp  pct_rt_journey_atleast2_vp  \\\n",
       "23        100.00                      100.00                      100.00   \n",
       "\n",
       "    pct_sched_journey_atleast1_vp  pct_sched_journey_atleast2_vp  \\\n",
       "23                         100.00                         100.00   \n",
       "\n",
       "    rt_sched_journey_ratio  avg_rt_service_minutes sched_rt_category  \\\n",
       "23                    1.13                   58.65   schedule_and_vp   \n",
       "\n",
       "    speed_mph               name   route_long_name route_short_name  \\\n",
       "23      14.98  Humboldt Schedule  AMRTS Gold Route           A Gold   \n",
       "\n",
       "   route_combined_name route_id typology schedule_source_record_id  \\\n",
       "23    AMRTS Gold Route       14    rapid         recGTiyx7VcxcUkRu   \n",
       "\n",
       "                                                                                                          base64_url  \\\n",
       "23  aHR0cHM6Ly9kYXRhLnRyaWxsaXVtdHJhbnNpdC5jb20vZ3Rmcy9odW1ib2xkdGNvdW50eS1jYS11cy9odW1ib2xkdGNvdW50eS1jYS11cy56aXA=   \n",
       "\n",
       "   organization_source_record_id organization_name caltrans_district  \\\n",
       "23             recynxkqEoo9dJEvw    City of Eureka       01 - Eureka   \n",
       "\n",
       "             rt_sched_journey_ratio_cat frequency_cat  \\\n",
       "23  Late by 1-25% of the scheduled time  <1 trip/hour   \n",
       "\n",
       "               vp_per_minute_cat  ruler_100_pct  ruler_for_vp_per_min  \\\n",
       "23  3+ pings per minute (target)            100                     2   \n",
       "\n",
       "    frequency_in_minutes  \n",
       "23                120.00  "
      ]
     },
     "execution_count": 21,
     "metadata": {},
     "output_type": "execute_result"
    }
   ],
   "source": [
    "one_route.sample()"
   ]
  },
  {
   "cell_type": "code",
   "execution_count": 22,
   "id": "6fccc5c1-ca4a-4966-9b72-feb6d61b11a4",
   "metadata": {},
   "outputs": [],
   "source": [
    "one_route_all_day = one_route.loc[one_route.time_period == \"all_day\"]"
   ]
  },
  {
   "cell_type": "markdown",
   "id": "c6580abb-e487-448d-a2c9-1949998fa04e",
   "metadata": {},
   "source": [
    "#### Avg Scheduled Minutes (Done)\n",
    "* How come the average_scheduled_minutes is a lot shorter than total_rt_service_minutes and total_scheduled_service_minutes?\n",
    "* Kind of a boring chart? Should compare actual run time compared to service minutes?"
   ]
  },
  {
   "cell_type": "code",
   "execution_count": 23,
   "id": "682ef164-c127-4e2f-8ff5-e60e9be1766c",
   "metadata": {},
   "outputs": [],
   "source": [
    "import yaml\n",
    "\n",
    "with open(\"readable.yml\") as f:\n",
    "    readable_dict = yaml.safe_load(f)"
   ]
  },
  {
   "cell_type": "code",
   "execution_count": 24,
   "id": "4b9dbce8-5de0-4952-aa01-d68443962568",
   "metadata": {},
   "outputs": [
    {
     "data": {
      "text/plain": [
       "'Average Scheduled Minutes'"
      ]
     },
     "execution_count": 24,
     "metadata": {},
     "output_type": "execute_result"
    }
   ],
   "source": [
    "readable_dict['avg_scheduled_min']['title']"
   ]
  },
  {
   "cell_type": "code",
   "execution_count": 25,
   "id": "0d569675-e6c4-4901-9157-e9da53cef48e",
   "metadata": {},
   "outputs": [
    {
     "data": {
      "text/html": [
       "\n",
       "<style>\n",
       "  #altair-viz-cb4c3110002a48c6bd3d707de156a6e9.vega-embed {\n",
       "    width: 100%;\n",
       "    display: flex;\n",
       "  }\n",
       "\n",
       "  #altair-viz-cb4c3110002a48c6bd3d707de156a6e9.vega-embed details,\n",
       "  #altair-viz-cb4c3110002a48c6bd3d707de156a6e9.vega-embed details summary {\n",
       "    position: relative;\n",
       "  }\n",
       "</style>\n",
       "<div id=\"altair-viz-cb4c3110002a48c6bd3d707de156a6e9\"></div>\n",
       "<script type=\"text/javascript\">\n",
       "  var VEGA_DEBUG = (typeof VEGA_DEBUG == \"undefined\") ? {} : VEGA_DEBUG;\n",
       "  (function(spec, embedOpt){\n",
       "    let outputDiv = document.currentScript.previousElementSibling;\n",
       "    if (outputDiv.id !== \"altair-viz-cb4c3110002a48c6bd3d707de156a6e9\") {\n",
       "      outputDiv = document.getElementById(\"altair-viz-cb4c3110002a48c6bd3d707de156a6e9\");\n",
       "    }\n",
       "    const paths = {\n",
       "      \"vega\": \"https://cdn.jsdelivr.net/npm/vega@5?noext\",\n",
       "      \"vega-lib\": \"https://cdn.jsdelivr.net/npm/vega-lib?noext\",\n",
       "      \"vega-lite\": \"https://cdn.jsdelivr.net/npm/vega-lite@5.14.1?noext\",\n",
       "      \"vega-embed\": \"https://cdn.jsdelivr.net/npm/vega-embed@6?noext\",\n",
       "    };\n",
       "\n",
       "    function maybeLoadScript(lib, version) {\n",
       "      var key = `${lib.replace(\"-\", \"\")}_version`;\n",
       "      return (VEGA_DEBUG[key] == version) ?\n",
       "        Promise.resolve(paths[lib]) :\n",
       "        new Promise(function(resolve, reject) {\n",
       "          var s = document.createElement('script');\n",
       "          document.getElementsByTagName(\"head\")[0].appendChild(s);\n",
       "          s.async = true;\n",
       "          s.onload = () => {\n",
       "            VEGA_DEBUG[key] = version;\n",
       "            return resolve(paths[lib]);\n",
       "          };\n",
       "          s.onerror = () => reject(`Error loading script: ${paths[lib]}`);\n",
       "          s.src = paths[lib];\n",
       "        });\n",
       "    }\n",
       "\n",
       "    function showError(err) {\n",
       "      outputDiv.innerHTML = `<div class=\"error\" style=\"color:red;\">${err}</div>`;\n",
       "      throw err;\n",
       "    }\n",
       "\n",
       "    function displayChart(vegaEmbed) {\n",
       "      vegaEmbed(outputDiv, spec, embedOpt)\n",
       "        .catch(err => showError(`Javascript Error: ${err.message}<br>This usually means there's a typo in your chart specification. See the javascript console for the full traceback.`));\n",
       "    }\n",
       "\n",
       "    if(typeof define === \"function\" && define.amd) {\n",
       "      requirejs.config({paths});\n",
       "      require([\"vega-embed\"], displayChart, err => showError(`Error loading script: ${err.message}`));\n",
       "    } else {\n",
       "      maybeLoadScript(\"vega\", \"5\")\n",
       "        .then(() => maybeLoadScript(\"vega-lite\", \"5.14.1\"))\n",
       "        .then(() => maybeLoadScript(\"vega-embed\", \"6\"))\n",
       "        .catch(showError)\n",
       "        .then(() => displayChart(vegaEmbed));\n",
       "    }\n",
       "  })({\"config\": {\"view\": {\"continuousWidth\": 300, \"continuousHeight\": 300}}, \"data\": {\"name\": \"data-69742feadf50d499183332d45af12be6\"}, \"mark\": {\"type\": \"bar\", \"size\": 10}, \"encoding\": {\"color\": {\"field\": \"direction_id\", \"scale\": {\"range\": [\"#ec5d3b\", \"#fde18d\", \"#7cc665\"]}, \"title\": \"Direction Id\", \"type\": \"nominal\"}, \"tooltip\": [{\"field\": \"direction_id\", \"type\": \"quantitative\"}, {\"field\": \"time_period\", \"type\": \"nominal\"}, {\"field\": \"route_combined_name\", \"type\": \"nominal\"}, {\"field\": \"organization_name\", \"type\": \"nominal\"}, {\"field\": \"service_date\", \"type\": \"temporal\"}, {\"field\": \"direction_id\", \"type\": \"quantitative\"}, {\"field\": \"avg_scheduled_service_minutes\", \"type\": \"quantitative\"}], \"x\": {\"axis\": {\"format\": \"%b %Y\", \"labelAngle\": -45}, \"field\": \"service_date\", \"timeUnit\": \"yearmonthdate\", \"title\": [\"Grouped by Direction ID\", \"Date\"], \"type\": \"ordinal\"}, \"xOffset\": {\"field\": \"direction_id\", \"title\": \"Direction Id\", \"type\": \"nominal\"}, \"y\": {\"field\": \"avg_scheduled_service_minutes\", \"title\": \"Avg Scheduled Service Minutes\", \"type\": \"quantitative\"}}, \"height\": 300, \"title\": {\"text\": [\"Average Scheduled Minutes\"], \"subtitle\": [\"The average minutes a trip is scheduled to run.\"]}, \"width\": 500, \"$schema\": \"https://vega.github.io/schema/vega-lite/v5.14.1.json\", \"datasets\": {\"data-69742feadf50d499183332d45af12be6\": [{\"schedule_gtfs_dataset_key\": \"a253a8d7acd57657bb98050f37dd6b0f\", \"direction_id\": 0.0, \"time_period\": \"All Day\", \"avg_scheduled_service_minutes\": 52, \"avg_stop_miles\": 0.2, \"n_scheduled_trips\": 12, \"frequency\": 0.5, \"service_date\": \"2023-11-15T00:00:00\", \"minutes_atleast1_vp\": 715, \"minutes_atleast2_vp\": 706, \"total_rt_service_minutes\": 703.52, \"total_scheduled_service_minutes\": 624.0, \"total_vp\": 2121, \"vp_in_shape\": 2121, \"is_early\": 0, \"is_ontime\": 3, \"is_late\": 9, \"n_vp_trips\": 12, \"vp_per_minute\": 3.01, \"pct_in_shape\": 100.0, \"pct_rt_journey_atleast1_vp\": 100.0, \"pct_rt_journey_atleast2_vp\": 100.0, \"pct_sched_journey_atleast1_vp\": 100.0, \"pct_sched_journey_atleast2_vp\": 100.0, \"rt_sched_journey_ratio\": 1.13, \"avg_rt_service_minutes\": 58.63, \"sched_rt_category\": \"schedule_and_vp\", \"speed_mph\": 15.07, \"name\": \"Humboldt Schedule\", \"route_long_name\": \"AMRTS Gold Route\", \"route_short_name\": \"A Gold\", \"route_combined_name\": \"AMRTS Gold Route\", \"route_id\": \"14\", \"typology\": \"rapid\", \"schedule_source_record_id\": \"recGTiyx7VcxcUkRu\", \"base64_url\": \"aHR0cHM6Ly9kYXRhLnRyaWxsaXVtdHJhbnNpdC5jb20vZ3Rmcy9odW1ib2xkdGNvdW50eS1jYS11cy9odW1ib2xkdGNvdW50eS1jYS11cy56aXA=\", \"organization_source_record_id\": \"recynxkqEoo9dJEvw\", \"organization_name\": \"City of Eureka\", \"caltrans_district\": \"01 - Eureka\", \"rt_sched_journey_ratio_cat\": \"Late by 1-25% of the scheduled time\", \"frequency_cat\": \"<1 trip/hour\", \"vp_per_minute_cat\": \"3+ pings per minute (target)\", \"ruler_100_pct\": 100, \"ruler_for_vp_per_min\": 2, \"frequency_in_minutes\": 120.0, \"avg_scheduled_service_minutes_str\": \"52\"}, {\"schedule_gtfs_dataset_key\": \"a253a8d7acd57657bb98050f37dd6b0f\", \"direction_id\": 0.0, \"time_period\": \"All Day\", \"avg_scheduled_service_minutes\": 52, \"avg_stop_miles\": 0.2, \"n_scheduled_trips\": 12, \"frequency\": 0.5, \"service_date\": \"2023-12-13T00:00:00\", \"minutes_atleast1_vp\": 703, \"minutes_atleast2_vp\": 700, \"total_rt_service_minutes\": 704.05, \"total_scheduled_service_minutes\": 624.0, \"total_vp\": 2097, \"vp_in_shape\": 2097, \"is_early\": 0, \"is_ontime\": 1, \"is_late\": 11, \"n_vp_trips\": 12, \"vp_per_minute\": 2.98, \"pct_in_shape\": 100.0, \"pct_rt_journey_atleast1_vp\": 100.0, \"pct_rt_journey_atleast2_vp\": 99.0, \"pct_sched_journey_atleast1_vp\": 100.0, \"pct_sched_journey_atleast2_vp\": 100.0, \"rt_sched_journey_ratio\": 1.13, \"avg_rt_service_minutes\": 58.67, \"sched_rt_category\": \"schedule_and_vp\", \"speed_mph\": null, \"name\": \"Humboldt Schedule\", \"route_long_name\": \"AMRTS Gold Route\", \"route_short_name\": \"A Gold\", \"route_combined_name\": \"AMRTS Gold Route\", \"route_id\": \"14\", \"typology\": \"rapid\", \"schedule_source_record_id\": \"recGTiyx7VcxcUkRu\", \"base64_url\": \"aHR0cHM6Ly9kYXRhLnRyaWxsaXVtdHJhbnNpdC5jb20vZ3Rmcy9odW1ib2xkdGNvdW50eS1jYS11cy9odW1ib2xkdGNvdW50eS1jYS11cy56aXA=\", \"organization_source_record_id\": \"recynxkqEoo9dJEvw\", \"organization_name\": \"City of Eureka\", \"caltrans_district\": \"01 - Eureka\", \"rt_sched_journey_ratio_cat\": \"Late by 1-25% of the scheduled time\", \"frequency_cat\": \"<1 trip/hour\", \"vp_per_minute_cat\": \"<3 pings/minute\", \"ruler_100_pct\": 100, \"ruler_for_vp_per_min\": 2, \"frequency_in_minutes\": 120.0, \"avg_scheduled_service_minutes_str\": \"52\"}, {\"schedule_gtfs_dataset_key\": \"a253a8d7acd57657bb98050f37dd6b0f\", \"direction_id\": 0.0, \"time_period\": \"All Day\", \"avg_scheduled_service_minutes\": 52, \"avg_stop_miles\": 0.19, \"n_scheduled_trips\": 12, \"frequency\": 0.5, \"service_date\": \"2024-01-17T00:00:00\", \"minutes_atleast1_vp\": 732, \"minutes_atleast2_vp\": 723, \"total_rt_service_minutes\": 720.13, \"total_scheduled_service_minutes\": 624.0, \"total_vp\": 2173, \"vp_in_shape\": 2173, \"is_early\": 0, \"is_ontime\": 1, \"is_late\": 11, \"n_vp_trips\": 12, \"vp_per_minute\": 3.02, \"pct_in_shape\": 100.0, \"pct_rt_journey_atleast1_vp\": 100.0, \"pct_rt_journey_atleast2_vp\": 100.0, \"pct_sched_journey_atleast1_vp\": 100.0, \"pct_sched_journey_atleast2_vp\": 100.0, \"rt_sched_journey_ratio\": 1.15, \"avg_rt_service_minutes\": 60.01, \"sched_rt_category\": \"schedule_and_vp\", \"speed_mph\": null, \"name\": \"Humboldt Schedule\", \"route_long_name\": \"AMRTS Gold Route\", \"route_short_name\": \"A Gold\", \"route_combined_name\": \"AMRTS Gold Route\", \"route_id\": \"14\", \"typology\": \"rapid\", \"schedule_source_record_id\": \"recGTiyx7VcxcUkRu\", \"base64_url\": \"aHR0cHM6Ly9kYXRhLnRyaWxsaXVtdHJhbnNpdC5jb20vZ3Rmcy9odW1ib2xkdGNvdW50eS1jYS11cy9odW1ib2xkdGNvdW50eS1jYS11cy56aXA=\", \"organization_source_record_id\": \"recynxkqEoo9dJEvw\", \"organization_name\": \"City of Eureka\", \"caltrans_district\": \"01 - Eureka\", \"rt_sched_journey_ratio_cat\": \"Late by 1-25% of the scheduled time\", \"frequency_cat\": \"<1 trip/hour\", \"vp_per_minute_cat\": \"3+ pings per minute (target)\", \"ruler_100_pct\": 100, \"ruler_for_vp_per_min\": 2, \"frequency_in_minutes\": 120.0, \"avg_scheduled_service_minutes_str\": \"52\"}, {\"schedule_gtfs_dataset_key\": \"a253a8d7acd57657bb98050f37dd6b0f\", \"direction_id\": 0.0, \"time_period\": \"All Day\", \"avg_scheduled_service_minutes\": 52, \"avg_stop_miles\": 0.19, \"n_scheduled_trips\": 12, \"frequency\": 0.5, \"service_date\": \"2024-02-14T00:00:00\", \"minutes_atleast1_vp\": 716, \"minutes_atleast2_vp\": 709, \"total_rt_service_minutes\": 703.74, \"total_scheduled_service_minutes\": 624.0, \"total_vp\": 2124, \"vp_in_shape\": 2124, \"is_early\": 1, \"is_ontime\": 0, \"is_late\": 11, \"n_vp_trips\": 12, \"vp_per_minute\": 3.02, \"pct_in_shape\": 100.0, \"pct_rt_journey_atleast1_vp\": 100.0, \"pct_rt_journey_atleast2_vp\": 100.0, \"pct_sched_journey_atleast1_vp\": 100.0, \"pct_sched_journey_atleast2_vp\": 100.0, \"rt_sched_journey_ratio\": 1.13, \"avg_rt_service_minutes\": 58.64, \"sched_rt_category\": \"schedule_and_vp\", \"speed_mph\": 15.51, \"name\": \"Humboldt Schedule\", \"route_long_name\": \"AMRTS Gold Route\", \"route_short_name\": \"A Gold\", \"route_combined_name\": \"AMRTS Gold Route\", \"route_id\": \"14\", \"typology\": \"rapid\", \"schedule_source_record_id\": \"recGTiyx7VcxcUkRu\", \"base64_url\": \"aHR0cHM6Ly9kYXRhLnRyaWxsaXVtdHJhbnNpdC5jb20vZ3Rmcy9odW1ib2xkdGNvdW50eS1jYS11cy9odW1ib2xkdGNvdW50eS1jYS11cy56aXA=\", \"organization_source_record_id\": \"recynxkqEoo9dJEvw\", \"organization_name\": \"City of Eureka\", \"caltrans_district\": \"01 - Eureka\", \"rt_sched_journey_ratio_cat\": \"Late by 1-25% of the scheduled time\", \"frequency_cat\": \"<1 trip/hour\", \"vp_per_minute_cat\": \"3+ pings per minute (target)\", \"ruler_100_pct\": 100, \"ruler_for_vp_per_min\": 2, \"frequency_in_minutes\": 120.0, \"avg_scheduled_service_minutes_str\": \"52\"}, {\"schedule_gtfs_dataset_key\": \"a253a8d7acd57657bb98050f37dd6b0f\", \"direction_id\": 0.0, \"time_period\": \"All Day\", \"avg_scheduled_service_minutes\": 52, \"avg_stop_miles\": 0.19, \"n_scheduled_trips\": 12, \"frequency\": 0.5, \"service_date\": \"2024-03-13T00:00:00\", \"minutes_atleast1_vp\": 717, \"minutes_atleast2_vp\": 701, \"total_rt_service_minutes\": 709.05, \"total_scheduled_service_minutes\": 624.0, \"total_vp\": 2111, \"vp_in_shape\": 2104, \"is_early\": 0, \"is_ontime\": 3, \"is_late\": 9, \"n_vp_trips\": 12, \"vp_per_minute\": 2.98, \"pct_in_shape\": 100.0, \"pct_rt_journey_atleast1_vp\": 100.0, \"pct_rt_journey_atleast2_vp\": 99.0, \"pct_sched_journey_atleast1_vp\": 100.0, \"pct_sched_journey_atleast2_vp\": 100.0, \"rt_sched_journey_ratio\": 1.14, \"avg_rt_service_minutes\": 59.09, \"sched_rt_category\": \"schedule_and_vp\", \"speed_mph\": null, \"name\": \"Humboldt Schedule\", \"route_long_name\": \"AMRTS Gold Route\", \"route_short_name\": \"A Gold\", \"route_combined_name\": \"AMRTS Gold Route\", \"route_id\": \"14\", \"typology\": \"rapid\", \"schedule_source_record_id\": \"recGTiyx7VcxcUkRu\", \"base64_url\": \"aHR0cHM6Ly9kYXRhLnRyaWxsaXVtdHJhbnNpdC5jb20vZ3Rmcy9odW1ib2xkdGNvdW50eS1jYS11cy9odW1ib2xkdGNvdW50eS1jYS11cy56aXA=\", \"organization_source_record_id\": \"recynxkqEoo9dJEvw\", \"organization_name\": \"City of Eureka\", \"caltrans_district\": \"01 - Eureka\", \"rt_sched_journey_ratio_cat\": \"Late by 1-25% of the scheduled time\", \"frequency_cat\": \"<1 trip/hour\", \"vp_per_minute_cat\": \"<3 pings/minute\", \"ruler_100_pct\": 100, \"ruler_for_vp_per_min\": 2, \"frequency_in_minutes\": 120.0, \"avg_scheduled_service_minutes_str\": \"52\"}, {\"schedule_gtfs_dataset_key\": \"a253a8d7acd57657bb98050f37dd6b0f\", \"direction_id\": 0.0, \"time_period\": \"All Day\", \"avg_scheduled_service_minutes\": 52, \"avg_stop_miles\": 0.19, \"n_scheduled_trips\": 12, \"frequency\": 0.5, \"service_date\": \"2024-04-17T00:00:00\", \"minutes_atleast1_vp\": 714, \"minutes_atleast2_vp\": 707, \"total_rt_service_minutes\": 703.78, \"total_scheduled_service_minutes\": 624.0, \"total_vp\": 2119, \"vp_in_shape\": 2118, \"is_early\": 0, \"is_ontime\": 1, \"is_late\": 11, \"n_vp_trips\": 12, \"vp_per_minute\": 3.01, \"pct_in_shape\": 100.0, \"pct_rt_journey_atleast1_vp\": 100.0, \"pct_rt_journey_atleast2_vp\": 100.0, \"pct_sched_journey_atleast1_vp\": 100.0, \"pct_sched_journey_atleast2_vp\": 100.0, \"rt_sched_journey_ratio\": 1.13, \"avg_rt_service_minutes\": 58.65, \"sched_rt_category\": \"schedule_and_vp\", \"speed_mph\": 14.98, \"name\": \"Humboldt Schedule\", \"route_long_name\": \"AMRTS Gold Route\", \"route_short_name\": \"A Gold\", \"route_combined_name\": \"AMRTS Gold Route\", \"route_id\": \"14\", \"typology\": \"rapid\", \"schedule_source_record_id\": \"recGTiyx7VcxcUkRu\", \"base64_url\": \"aHR0cHM6Ly9kYXRhLnRyaWxsaXVtdHJhbnNpdC5jb20vZ3Rmcy9odW1ib2xkdGNvdW50eS1jYS11cy9odW1ib2xkdGNvdW50eS1jYS11cy56aXA=\", \"organization_source_record_id\": \"recynxkqEoo9dJEvw\", \"organization_name\": \"City of Eureka\", \"caltrans_district\": \"01 - Eureka\", \"rt_sched_journey_ratio_cat\": \"Late by 1-25% of the scheduled time\", \"frequency_cat\": \"<1 trip/hour\", \"vp_per_minute_cat\": \"3+ pings per minute (target)\", \"ruler_100_pct\": 100, \"ruler_for_vp_per_min\": 2, \"frequency_in_minutes\": 120.0, \"avg_scheduled_service_minutes_str\": \"52\"}]}}, {\"mode\": \"vega-lite\"});\n",
       "</script>"
      ],
      "text/plain": [
       "alt.Chart(...)"
      ]
     },
     "execution_count": 25,
     "metadata": {},
     "output_type": "execute_result"
    }
   ],
   "source": [
    "section3.grouped_bar_chart(\n",
    "    df=one_route[one_route.time_period == \"all_day\"].drop_duplicates(),\n",
    "    color_col=\"direction_id\",\n",
    "    y_col=\"avg_scheduled_service_minutes\",\n",
    "    offset_col=\"direction_id\",\n",
    "    title=readable_dict['avg_scheduled_min']['title'],\n",
    "    subtitle=readable_dict['avg_scheduled_min']['subtitle'],\n",
    ")"
   ]
  },
  {
   "cell_type": "markdown",
   "id": "ec0b7515-e215-4f77-87f6-7560954e50f8",
   "metadata": {
    "toc-hr-collapsed": true
   },
   "source": [
    "#### Timeliness #2 (Done)"
   ]
  },
  {
   "cell_type": "code",
   "execution_count": 26,
   "id": "6e921263-5012-429c-94c5-790cd591173a",
   "metadata": {},
   "outputs": [],
   "source": [
    "timeliness = section3.timeliness_trips(one_route)"
   ]
  },
  {
   "cell_type": "code",
   "execution_count": 27,
   "id": "c9d51659-fb2e-4288-9104-d41ac34551cd",
   "metadata": {},
   "outputs": [
    {
     "data": {
      "text/html": [
       "<div>\n",
       "<style scoped>\n",
       "    .dataframe tbody tr th:only-of-type {\n",
       "        vertical-align: middle;\n",
       "    }\n",
       "\n",
       "    .dataframe tbody tr th {\n",
       "        vertical-align: top;\n",
       "    }\n",
       "\n",
       "    .dataframe thead th {\n",
       "        text-align: right;\n",
       "    }\n",
       "</style>\n",
       "<table border=\"1\" class=\"dataframe\">\n",
       "  <thead>\n",
       "    <tr style=\"text-align: right;\">\n",
       "      <th></th>\n",
       "      <th>service_date</th>\n",
       "      <th>organization_name</th>\n",
       "      <th>route_combined_name</th>\n",
       "      <th>time_period</th>\n",
       "      <th>direction_id</th>\n",
       "      <th>variable</th>\n",
       "      <th>value</th>\n",
       "    </tr>\n",
       "  </thead>\n",
       "  <tbody>\n",
       "    <tr>\n",
       "      <th>26</th>\n",
       "      <td>2024-01-17</td>\n",
       "      <td>City of Eureka</td>\n",
       "      <td>AMRTS Gold Route</td>\n",
       "      <td>offpeak</td>\n",
       "      <td>0.00</td>\n",
       "      <td>is_late</td>\n",
       "      <td>5</td>\n",
       "    </tr>\n",
       "  </tbody>\n",
       "</table>\n",
       "</div>"
      ],
      "text/plain": [
       "   service_date organization_name route_combined_name time_period  \\\n",
       "26   2024-01-17    City of Eureka    AMRTS Gold Route     offpeak   \n",
       "\n",
       "    direction_id variable  value  \n",
       "26          0.00  is_late      5  "
      ]
     },
     "execution_count": 27,
     "metadata": {},
     "output_type": "execute_result"
    }
   ],
   "source": [
    "timeliness.sample()"
   ]
  },
  {
   "cell_type": "code",
   "execution_count": 28,
   "id": "fb382204-d8f8-414d-9eb5-ac2cee02d912",
   "metadata": {},
   "outputs": [
    {
     "data": {
      "text/html": [
       "\n",
       "<style>\n",
       "  #altair-viz-1ebd019bc3584c59b793f655cb348a44.vega-embed {\n",
       "    width: 100%;\n",
       "    display: flex;\n",
       "  }\n",
       "\n",
       "  #altair-viz-1ebd019bc3584c59b793f655cb348a44.vega-embed details,\n",
       "  #altair-viz-1ebd019bc3584c59b793f655cb348a44.vega-embed details summary {\n",
       "    position: relative;\n",
       "  }\n",
       "</style>\n",
       "<div id=\"altair-viz-1ebd019bc3584c59b793f655cb348a44\"></div>\n",
       "<script type=\"text/javascript\">\n",
       "  var VEGA_DEBUG = (typeof VEGA_DEBUG == \"undefined\") ? {} : VEGA_DEBUG;\n",
       "  (function(spec, embedOpt){\n",
       "    let outputDiv = document.currentScript.previousElementSibling;\n",
       "    if (outputDiv.id !== \"altair-viz-1ebd019bc3584c59b793f655cb348a44\") {\n",
       "      outputDiv = document.getElementById(\"altair-viz-1ebd019bc3584c59b793f655cb348a44\");\n",
       "    }\n",
       "    const paths = {\n",
       "      \"vega\": \"https://cdn.jsdelivr.net/npm/vega@5?noext\",\n",
       "      \"vega-lib\": \"https://cdn.jsdelivr.net/npm/vega-lib?noext\",\n",
       "      \"vega-lite\": \"https://cdn.jsdelivr.net/npm/vega-lite@5.14.1?noext\",\n",
       "      \"vega-embed\": \"https://cdn.jsdelivr.net/npm/vega-embed@6?noext\",\n",
       "    };\n",
       "\n",
       "    function maybeLoadScript(lib, version) {\n",
       "      var key = `${lib.replace(\"-\", \"\")}_version`;\n",
       "      return (VEGA_DEBUG[key] == version) ?\n",
       "        Promise.resolve(paths[lib]) :\n",
       "        new Promise(function(resolve, reject) {\n",
       "          var s = document.createElement('script');\n",
       "          document.getElementsByTagName(\"head\")[0].appendChild(s);\n",
       "          s.async = true;\n",
       "          s.onload = () => {\n",
       "            VEGA_DEBUG[key] = version;\n",
       "            return resolve(paths[lib]);\n",
       "          };\n",
       "          s.onerror = () => reject(`Error loading script: ${paths[lib]}`);\n",
       "          s.src = paths[lib];\n",
       "        });\n",
       "    }\n",
       "\n",
       "    function showError(err) {\n",
       "      outputDiv.innerHTML = `<div class=\"error\" style=\"color:red;\">${err}</div>`;\n",
       "      throw err;\n",
       "    }\n",
       "\n",
       "    function displayChart(vegaEmbed) {\n",
       "      vegaEmbed(outputDiv, spec, embedOpt)\n",
       "        .catch(err => showError(`Javascript Error: ${err.message}<br>This usually means there's a typo in your chart specification. See the javascript console for the full traceback.`));\n",
       "    }\n",
       "\n",
       "    if(typeof define === \"function\" && define.amd) {\n",
       "      requirejs.config({paths});\n",
       "      require([\"vega-embed\"], displayChart, err => showError(`Error loading script: ${err.message}`));\n",
       "    } else {\n",
       "      maybeLoadScript(\"vega\", \"5\")\n",
       "        .then(() => maybeLoadScript(\"vega-lite\", \"5.14.1\"))\n",
       "        .then(() => maybeLoadScript(\"vega-embed\", \"6\"))\n",
       "        .catch(showError)\n",
       "        .then(() => displayChart(vegaEmbed));\n",
       "    }\n",
       "  })({\"config\": {\"view\": {\"continuousWidth\": 300, \"continuousHeight\": 300}}, \"layer\": [], \"$schema\": \"https://vega.github.io/schema/vega-lite/v5.14.1.json\"}, {\"mode\": \"vega-lite\"});\n",
       "</script>"
      ],
      "text/plain": [
       "alt.LayerChart(...)"
      ]
     },
     "execution_count": 28,
     "metadata": {},
     "output_type": "execute_result"
    }
   ],
   "source": [
    "section3.base_facet_chart(\n",
    "    timeliness.loc[timeliness.direction_id == 1].drop_duplicates(),\n",
    "    \"value\",\n",
    "    \"variable\",\n",
    "    \"time_period\",\n",
    "    \"Breakdown of Trips by Categories for Direction 1\",\n",
    "    \"Trips broken down by VP Only (found only in real-time data), Schedule Only (found only in schedule data), or both.\",\n",
    ")"
   ]
  },
  {
   "cell_type": "markdown",
   "id": "28c413ed-90ec-45dc-be43-553508ce9d50",
   "metadata": {},
   "source": [
    "#### Total Scheduled Trips (Don't Use, boring)"
   ]
  },
  {
   "cell_type": "code",
   "execution_count": 29,
   "id": "eba6d0cf-1679-4d1c-b299-e2a07144a8a5",
   "metadata": {
    "scrolled": true,
    "tags": []
   },
   "outputs": [],
   "source": [
    "# IF we take away direction, see how many times a route is scheduled to run\n",
    "total_scheduled_trip = (\n",
    "    one_route.groupby([\"service_date\", \"time_period\"])\n",
    "    .agg({\"n_scheduled_trips\": \"mean\"})\n",
    "    .reset_index()\n",
    ")"
   ]
  },
  {
   "cell_type": "code",
   "execution_count": 30,
   "id": "560a2471-0ac8-4fd8-94f5-c19ba1b6794b",
   "metadata": {
    "scrolled": true,
    "tags": []
   },
   "outputs": [],
   "source": [
    "total_scheduled_trip.n_scheduled_trips = total_scheduled_trip.n_scheduled_trips / 2"
   ]
  },
  {
   "cell_type": "code",
   "execution_count": 31,
   "id": "04f31458-ea7f-4997-aeb3-726283afd8d6",
   "metadata": {},
   "outputs": [
    {
     "data": {
      "text/html": [
       "<div>\n",
       "<style scoped>\n",
       "    .dataframe tbody tr th:only-of-type {\n",
       "        vertical-align: middle;\n",
       "    }\n",
       "\n",
       "    .dataframe tbody tr th {\n",
       "        vertical-align: top;\n",
       "    }\n",
       "\n",
       "    .dataframe thead th {\n",
       "        text-align: right;\n",
       "    }\n",
       "</style>\n",
       "<table border=\"1\" class=\"dataframe\">\n",
       "  <thead>\n",
       "    <tr style=\"text-align: right;\">\n",
       "      <th></th>\n",
       "      <th>service_date</th>\n",
       "      <th>time_period</th>\n",
       "      <th>n_scheduled_trips</th>\n",
       "    </tr>\n",
       "  </thead>\n",
       "  <tbody>\n",
       "    <tr>\n",
       "      <th>0</th>\n",
       "      <td>2023-11-15</td>\n",
       "      <td>all_day</td>\n",
       "      <td>6.00</td>\n",
       "    </tr>\n",
       "    <tr>\n",
       "      <th>1</th>\n",
       "      <td>2023-11-15</td>\n",
       "      <td>offpeak</td>\n",
       "      <td>2.50</td>\n",
       "    </tr>\n",
       "    <tr>\n",
       "      <th>2</th>\n",
       "      <td>2023-11-15</td>\n",
       "      <td>peak</td>\n",
       "      <td>3.50</td>\n",
       "    </tr>\n",
       "    <tr>\n",
       "      <th>3</th>\n",
       "      <td>2023-12-13</td>\n",
       "      <td>all_day</td>\n",
       "      <td>6.00</td>\n",
       "    </tr>\n",
       "    <tr>\n",
       "      <th>4</th>\n",
       "      <td>2023-12-13</td>\n",
       "      <td>offpeak</td>\n",
       "      <td>2.50</td>\n",
       "    </tr>\n",
       "  </tbody>\n",
       "</table>\n",
       "</div>"
      ],
      "text/plain": [
       "  service_date time_period  n_scheduled_trips\n",
       "0   2023-11-15     all_day               6.00\n",
       "1   2023-11-15     offpeak               2.50\n",
       "2   2023-11-15        peak               3.50\n",
       "3   2023-12-13     all_day               6.00\n",
       "4   2023-12-13     offpeak               2.50"
      ]
     },
     "execution_count": 31,
     "metadata": {},
     "output_type": "execute_result"
    }
   ],
   "source": [
    "total_scheduled_trip.head()"
   ]
  },
  {
   "cell_type": "code",
   "execution_count": 32,
   "id": "4527b5d5-d4b2-4a05-ae14-6a83c8d44f06",
   "metadata": {},
   "outputs": [
    {
     "data": {
      "text/html": [
       "<div>\n",
       "<style scoped>\n",
       "    .dataframe tbody tr th:only-of-type {\n",
       "        vertical-align: middle;\n",
       "    }\n",
       "\n",
       "    .dataframe tbody tr th {\n",
       "        vertical-align: top;\n",
       "    }\n",
       "\n",
       "    .dataframe thead th {\n",
       "        text-align: right;\n",
       "    }\n",
       "</style>\n",
       "<table border=\"1\" class=\"dataframe\">\n",
       "  <thead>\n",
       "    <tr style=\"text-align: right;\">\n",
       "      <th></th>\n",
       "      <th></th>\n",
       "      <th></th>\n",
       "      <th>n_scheduled_trips</th>\n",
       "    </tr>\n",
       "    <tr>\n",
       "      <th>service_date</th>\n",
       "      <th>direction_id</th>\n",
       "      <th>time_period</th>\n",
       "      <th></th>\n",
       "    </tr>\n",
       "  </thead>\n",
       "  <tbody>\n",
       "    <tr>\n",
       "      <th rowspan=\"3\" valign=\"top\">2023-11-15</th>\n",
       "      <th rowspan=\"3\" valign=\"top\">0.00</th>\n",
       "      <th>all_day</th>\n",
       "      <td>12</td>\n",
       "    </tr>\n",
       "    <tr>\n",
       "      <th>offpeak</th>\n",
       "      <td>5</td>\n",
       "    </tr>\n",
       "    <tr>\n",
       "      <th>peak</th>\n",
       "      <td>7</td>\n",
       "    </tr>\n",
       "    <tr>\n",
       "      <th rowspan=\"2\" valign=\"top\">2023-12-13</th>\n",
       "      <th rowspan=\"2\" valign=\"top\">0.00</th>\n",
       "      <th>all_day</th>\n",
       "      <td>12</td>\n",
       "    </tr>\n",
       "    <tr>\n",
       "      <th>offpeak</th>\n",
       "      <td>5</td>\n",
       "    </tr>\n",
       "  </tbody>\n",
       "</table>\n",
       "</div>"
      ],
      "text/plain": [
       "                                       n_scheduled_trips\n",
       "service_date direction_id time_period                   \n",
       "2023-11-15   0.00         all_day                     12\n",
       "                          offpeak                      5\n",
       "                          peak                         7\n",
       "2023-12-13   0.00         all_day                     12\n",
       "                          offpeak                      5"
      ]
     },
     "execution_count": 32,
     "metadata": {},
     "output_type": "execute_result"
    }
   ],
   "source": [
    "one_route.groupby([\"service_date\", \"direction_id\", \"time_period\"]).agg(\n",
    "    {\"n_scheduled_trips\": \"max\"}\n",
    ").head()"
   ]
  },
  {
   "cell_type": "code",
   "execution_count": 33,
   "id": "bba1c83c-498b-46e9-9f08-c85986b306ab",
   "metadata": {},
   "outputs": [
    {
     "data": {
      "text/html": [
       "\n",
       "<style>\n",
       "  #altair-viz-bd87deca66354fef9d8fa4e15ef0fa64.vega-embed {\n",
       "    width: 100%;\n",
       "    display: flex;\n",
       "  }\n",
       "\n",
       "  #altair-viz-bd87deca66354fef9d8fa4e15ef0fa64.vega-embed details,\n",
       "  #altair-viz-bd87deca66354fef9d8fa4e15ef0fa64.vega-embed details summary {\n",
       "    position: relative;\n",
       "  }\n",
       "</style>\n",
       "<div id=\"altair-viz-bd87deca66354fef9d8fa4e15ef0fa64\"></div>\n",
       "<script type=\"text/javascript\">\n",
       "  var VEGA_DEBUG = (typeof VEGA_DEBUG == \"undefined\") ? {} : VEGA_DEBUG;\n",
       "  (function(spec, embedOpt){\n",
       "    let outputDiv = document.currentScript.previousElementSibling;\n",
       "    if (outputDiv.id !== \"altair-viz-bd87deca66354fef9d8fa4e15ef0fa64\") {\n",
       "      outputDiv = document.getElementById(\"altair-viz-bd87deca66354fef9d8fa4e15ef0fa64\");\n",
       "    }\n",
       "    const paths = {\n",
       "      \"vega\": \"https://cdn.jsdelivr.net/npm/vega@5?noext\",\n",
       "      \"vega-lib\": \"https://cdn.jsdelivr.net/npm/vega-lib?noext\",\n",
       "      \"vega-lite\": \"https://cdn.jsdelivr.net/npm/vega-lite@5.14.1?noext\",\n",
       "      \"vega-embed\": \"https://cdn.jsdelivr.net/npm/vega-embed@6?noext\",\n",
       "    };\n",
       "\n",
       "    function maybeLoadScript(lib, version) {\n",
       "      var key = `${lib.replace(\"-\", \"\")}_version`;\n",
       "      return (VEGA_DEBUG[key] == version) ?\n",
       "        Promise.resolve(paths[lib]) :\n",
       "        new Promise(function(resolve, reject) {\n",
       "          var s = document.createElement('script');\n",
       "          document.getElementsByTagName(\"head\")[0].appendChild(s);\n",
       "          s.async = true;\n",
       "          s.onload = () => {\n",
       "            VEGA_DEBUG[key] = version;\n",
       "            return resolve(paths[lib]);\n",
       "          };\n",
       "          s.onerror = () => reject(`Error loading script: ${paths[lib]}`);\n",
       "          s.src = paths[lib];\n",
       "        });\n",
       "    }\n",
       "\n",
       "    function showError(err) {\n",
       "      outputDiv.innerHTML = `<div class=\"error\" style=\"color:red;\">${err}</div>`;\n",
       "      throw err;\n",
       "    }\n",
       "\n",
       "    function displayChart(vegaEmbed) {\n",
       "      vegaEmbed(outputDiv, spec, embedOpt)\n",
       "        .catch(err => showError(`Javascript Error: ${err.message}<br>This usually means there's a typo in your chart specification. See the javascript console for the full traceback.`));\n",
       "    }\n",
       "\n",
       "    if(typeof define === \"function\" && define.amd) {\n",
       "      requirejs.config({paths});\n",
       "      require([\"vega-embed\"], displayChart, err => showError(`Error loading script: ${err.message}`));\n",
       "    } else {\n",
       "      maybeLoadScript(\"vega\", \"5\")\n",
       "        .then(() => maybeLoadScript(\"vega-lite\", \"5.14.1\"))\n",
       "        .then(() => maybeLoadScript(\"vega-embed\", \"6\"))\n",
       "        .catch(showError)\n",
       "        .then(() => displayChart(vegaEmbed));\n",
       "    }\n",
       "  })({\"config\": {\"view\": {\"continuousWidth\": 300, \"continuousHeight\": 300}}, \"data\": {\"name\": \"data-5a5058c0fef9a00922ce185cec4948cf\"}, \"mark\": {\"type\": \"bar\", \"size\": 10}, \"encoding\": {\"color\": {\"field\": \"time_period\", \"scale\": {\"range\": [\"#ec5d3b\", \"#fde18d\", \"#7cc665\"]}, \"title\": \"Time Period\", \"type\": \"nominal\"}, \"tooltip\": [{\"field\": \"direction_id\", \"type\": \"quantitative\"}, {\"field\": \"time_period\", \"type\": \"nominal\"}, {\"field\": \"route_combined_name\", \"type\": \"nominal\"}, {\"field\": \"organization_name\", \"type\": \"nominal\"}, {\"field\": \"service_date\", \"type\": \"temporal\"}, {\"field\": \"time_period\", \"type\": \"nominal\"}, {\"field\": \"n_scheduled_trips\", \"type\": \"quantitative\"}], \"x\": {\"axis\": {\"format\": \"%b %Y\", \"labelAngle\": -45}, \"field\": \"service_date\", \"timeUnit\": \"yearmonthdate\", \"title\": [\"Grouped by Direction ID\", \"Date\"], \"type\": \"ordinal\"}, \"xOffset\": {\"field\": \"direction_id\", \"title\": \"Direction Id\", \"type\": \"nominal\"}, \"y\": {\"field\": \"n_scheduled_trips\", \"title\": \"N Scheduled Trips\", \"type\": \"quantitative\"}}, \"height\": 300, \"title\": {\"text\": [\"Total Scheduled Trips\"], \"subtitle\": [\"How many times per day is this route is scheduled to run in one particular direction.\"]}, \"width\": 500, \"$schema\": \"https://vega.github.io/schema/vega-lite/v5.14.1.json\", \"datasets\": {\"data-5a5058c0fef9a00922ce185cec4948cf\": [{\"schedule_gtfs_dataset_key\": \"a253a8d7acd57657bb98050f37dd6b0f\", \"direction_id\": 0.0, \"time_period\": \"Offpeak\", \"avg_scheduled_service_minutes\": 52.0, \"avg_stop_miles\": 0.2, \"n_scheduled_trips\": 5, \"frequency\": 0.31, \"service_date\": \"2023-11-15T00:00:00\", \"minutes_atleast1_vp\": 305, \"minutes_atleast2_vp\": 301, \"total_rt_service_minutes\": 299.71, \"total_scheduled_service_minutes\": 260.0, \"total_vp\": 904, \"vp_in_shape\": 904, \"is_early\": 0, \"is_ontime\": 1, \"is_late\": 4, \"n_vp_trips\": 5, \"vp_per_minute\": 3.02, \"pct_in_shape\": 100.0, \"pct_rt_journey_atleast1_vp\": 100.0, \"pct_rt_journey_atleast2_vp\": 100.0, \"pct_sched_journey_atleast1_vp\": 100.0, \"pct_sched_journey_atleast2_vp\": 100.0, \"rt_sched_journey_ratio\": 1.15, \"avg_rt_service_minutes\": 59.94, \"sched_rt_category\": \"schedule_and_vp\", \"speed_mph\": null, \"name\": \"Humboldt Schedule\", \"route_long_name\": \"AMRTS Gold Route\", \"route_short_name\": \"A Gold\", \"route_combined_name\": \"AMRTS Gold Route\", \"route_id\": \"14\", \"typology\": \"rapid\", \"schedule_source_record_id\": \"recGTiyx7VcxcUkRu\", \"base64_url\": \"aHR0cHM6Ly9kYXRhLnRyaWxsaXVtdHJhbnNpdC5jb20vZ3Rmcy9odW1ib2xkdGNvdW50eS1jYS11cy9odW1ib2xkdGNvdW50eS1jYS11cy56aXA=\", \"organization_source_record_id\": \"recynxkqEoo9dJEvw\", \"organization_name\": \"City of Eureka\", \"caltrans_district\": \"01 - Eureka\", \"rt_sched_journey_ratio_cat\": \"Late by 1-25% of the scheduled time\", \"frequency_cat\": \"<1 trip/hour\", \"vp_per_minute_cat\": \"3+ pings per minute (target)\", \"ruler_100_pct\": 100, \"ruler_for_vp_per_min\": 2, \"frequency_in_minutes\": 193.5483870967742, \"n_scheduled_trips_str\": \"5\"}, {\"schedule_gtfs_dataset_key\": \"a253a8d7acd57657bb98050f37dd6b0f\", \"direction_id\": 0.0, \"time_period\": \"Offpeak\", \"avg_scheduled_service_minutes\": 52.0, \"avg_stop_miles\": 0.2, \"n_scheduled_trips\": 5, \"frequency\": 0.31, \"service_date\": \"2023-12-13T00:00:00\", \"minutes_atleast1_vp\": 303, \"minutes_atleast2_vp\": 302, \"total_rt_service_minutes\": 299.46, \"total_scheduled_service_minutes\": 260.0, \"total_vp\": 904, \"vp_in_shape\": 904, \"is_early\": 0, \"is_ontime\": 0, \"is_late\": 5, \"n_vp_trips\": 5, \"vp_per_minute\": 3.02, \"pct_in_shape\": 100.0, \"pct_rt_journey_atleast1_vp\": 100.0, \"pct_rt_journey_atleast2_vp\": 100.0, \"pct_sched_journey_atleast1_vp\": 100.0, \"pct_sched_journey_atleast2_vp\": 100.0, \"rt_sched_journey_ratio\": 1.15, \"avg_rt_service_minutes\": 59.89, \"sched_rt_category\": \"schedule_and_vp\", \"speed_mph\": null, \"name\": \"Humboldt Schedule\", \"route_long_name\": \"AMRTS Gold Route\", \"route_short_name\": \"A Gold\", \"route_combined_name\": \"AMRTS Gold Route\", \"route_id\": \"14\", \"typology\": \"rapid\", \"schedule_source_record_id\": \"recGTiyx7VcxcUkRu\", \"base64_url\": \"aHR0cHM6Ly9kYXRhLnRyaWxsaXVtdHJhbnNpdC5jb20vZ3Rmcy9odW1ib2xkdGNvdW50eS1jYS11cy9odW1ib2xkdGNvdW50eS1jYS11cy56aXA=\", \"organization_source_record_id\": \"recynxkqEoo9dJEvw\", \"organization_name\": \"City of Eureka\", \"caltrans_district\": \"01 - Eureka\", \"rt_sched_journey_ratio_cat\": \"Late by 1-25% of the scheduled time\", \"frequency_cat\": \"<1 trip/hour\", \"vp_per_minute_cat\": \"3+ pings per minute (target)\", \"ruler_100_pct\": 100, \"ruler_for_vp_per_min\": 2, \"frequency_in_minutes\": 193.5483870967742, \"n_scheduled_trips_str\": \"5\"}, {\"schedule_gtfs_dataset_key\": \"a253a8d7acd57657bb98050f37dd6b0f\", \"direction_id\": 0.0, \"time_period\": \"Offpeak\", \"avg_scheduled_service_minutes\": 52.0, \"avg_stop_miles\": 0.19, \"n_scheduled_trips\": 5, \"frequency\": 0.31, \"service_date\": \"2024-01-17T00:00:00\", \"minutes_atleast1_vp\": 304, \"minutes_atleast2_vp\": 302, \"total_rt_service_minutes\": 300.16, \"total_scheduled_service_minutes\": 260.0, \"total_vp\": 906, \"vp_in_shape\": 906, \"is_early\": 0, \"is_ontime\": 0, \"is_late\": 5, \"n_vp_trips\": 5, \"vp_per_minute\": 3.02, \"pct_in_shape\": 100.0, \"pct_rt_journey_atleast1_vp\": 100.0, \"pct_rt_journey_atleast2_vp\": 100.0, \"pct_sched_journey_atleast1_vp\": 100.0, \"pct_sched_journey_atleast2_vp\": 100.0, \"rt_sched_journey_ratio\": 1.15, \"avg_rt_service_minutes\": 60.03, \"sched_rt_category\": \"schedule_and_vp\", \"speed_mph\": null, \"name\": \"Humboldt Schedule\", \"route_long_name\": \"AMRTS Gold Route\", \"route_short_name\": \"A Gold\", \"route_combined_name\": \"AMRTS Gold Route\", \"route_id\": \"14\", \"typology\": \"rapid\", \"schedule_source_record_id\": \"recGTiyx7VcxcUkRu\", \"base64_url\": \"aHR0cHM6Ly9kYXRhLnRyaWxsaXVtdHJhbnNpdC5jb20vZ3Rmcy9odW1ib2xkdGNvdW50eS1jYS11cy9odW1ib2xkdGNvdW50eS1jYS11cy56aXA=\", \"organization_source_record_id\": \"recynxkqEoo9dJEvw\", \"organization_name\": \"City of Eureka\", \"caltrans_district\": \"01 - Eureka\", \"rt_sched_journey_ratio_cat\": \"Late by 1-25% of the scheduled time\", \"frequency_cat\": \"<1 trip/hour\", \"vp_per_minute_cat\": \"3+ pings per minute (target)\", \"ruler_100_pct\": 100, \"ruler_for_vp_per_min\": 2, \"frequency_in_minutes\": 193.5483870967742, \"n_scheduled_trips_str\": \"5\"}, {\"schedule_gtfs_dataset_key\": \"a253a8d7acd57657bb98050f37dd6b0f\", \"direction_id\": 0.0, \"time_period\": \"Offpeak\", \"avg_scheduled_service_minutes\": 52.0, \"avg_stop_miles\": 0.19, \"n_scheduled_trips\": 5, \"frequency\": 0.31, \"service_date\": \"2024-02-14T00:00:00\", \"minutes_atleast1_vp\": 306, \"minutes_atleast2_vp\": 304, \"total_rt_service_minutes\": 301.17, \"total_scheduled_service_minutes\": 260.0, \"total_vp\": 909, \"vp_in_shape\": 909, \"is_early\": 0, \"is_ontime\": 0, \"is_late\": 5, \"n_vp_trips\": 5, \"vp_per_minute\": 3.02, \"pct_in_shape\": 100.0, \"pct_rt_journey_atleast1_vp\": 100.0, \"pct_rt_journey_atleast2_vp\": 100.0, \"pct_sched_journey_atleast1_vp\": 100.0, \"pct_sched_journey_atleast2_vp\": 100.0, \"rt_sched_journey_ratio\": 1.16, \"avg_rt_service_minutes\": 60.23, \"sched_rt_category\": \"schedule_and_vp\", \"speed_mph\": null, \"name\": \"Humboldt Schedule\", \"route_long_name\": \"AMRTS Gold Route\", \"route_short_name\": \"A Gold\", \"route_combined_name\": \"AMRTS Gold Route\", \"route_id\": \"14\", \"typology\": \"rapid\", \"schedule_source_record_id\": \"recGTiyx7VcxcUkRu\", \"base64_url\": \"aHR0cHM6Ly9kYXRhLnRyaWxsaXVtdHJhbnNpdC5jb20vZ3Rmcy9odW1ib2xkdGNvdW50eS1jYS11cy9odW1ib2xkdGNvdW50eS1jYS11cy56aXA=\", \"organization_source_record_id\": \"recynxkqEoo9dJEvw\", \"organization_name\": \"City of Eureka\", \"caltrans_district\": \"01 - Eureka\", \"rt_sched_journey_ratio_cat\": \"Late by 1-25% of the scheduled time\", \"frequency_cat\": \"<1 trip/hour\", \"vp_per_minute_cat\": \"3+ pings per minute (target)\", \"ruler_100_pct\": 100, \"ruler_for_vp_per_min\": 2, \"frequency_in_minutes\": 193.5483870967742, \"n_scheduled_trips_str\": \"5\"}, {\"schedule_gtfs_dataset_key\": \"a253a8d7acd57657bb98050f37dd6b0f\", \"direction_id\": 0.0, \"time_period\": \"Offpeak\", \"avg_scheduled_service_minutes\": 52.0, \"avg_stop_miles\": 0.19, \"n_scheduled_trips\": 5, \"frequency\": 0.31, \"service_date\": \"2024-03-13T00:00:00\", \"minutes_atleast1_vp\": 314, \"minutes_atleast2_vp\": 307, \"total_rt_service_minutes\": 310.42, \"total_scheduled_service_minutes\": 260.0, \"total_vp\": 924, \"vp_in_shape\": 924, \"is_early\": 0, \"is_ontime\": 0, \"is_late\": 5, \"n_vp_trips\": 5, \"vp_per_minute\": 2.98, \"pct_in_shape\": 100.0, \"pct_rt_journey_atleast1_vp\": 100.0, \"pct_rt_journey_atleast2_vp\": 99.0, \"pct_sched_journey_atleast1_vp\": 100.0, \"pct_sched_journey_atleast2_vp\": 100.0, \"rt_sched_journey_ratio\": 1.19, \"avg_rt_service_minutes\": 62.08, \"sched_rt_category\": \"schedule_and_vp\", \"speed_mph\": null, \"name\": \"Humboldt Schedule\", \"route_long_name\": \"AMRTS Gold Route\", \"route_short_name\": \"A Gold\", \"route_combined_name\": \"AMRTS Gold Route\", \"route_id\": \"14\", \"typology\": \"rapid\", \"schedule_source_record_id\": \"recGTiyx7VcxcUkRu\", \"base64_url\": \"aHR0cHM6Ly9kYXRhLnRyaWxsaXVtdHJhbnNpdC5jb20vZ3Rmcy9odW1ib2xkdGNvdW50eS1jYS11cy9odW1ib2xkdGNvdW50eS1jYS11cy56aXA=\", \"organization_source_record_id\": \"recynxkqEoo9dJEvw\", \"organization_name\": \"City of Eureka\", \"caltrans_district\": \"01 - Eureka\", \"rt_sched_journey_ratio_cat\": \"Late by 1-25% of the scheduled time\", \"frequency_cat\": \"<1 trip/hour\", \"vp_per_minute_cat\": \"<3 pings/minute\", \"ruler_100_pct\": 100, \"ruler_for_vp_per_min\": 2, \"frequency_in_minutes\": 193.5483870967742, \"n_scheduled_trips_str\": \"5\"}, {\"schedule_gtfs_dataset_key\": \"a253a8d7acd57657bb98050f37dd6b0f\", \"direction_id\": 0.0, \"time_period\": \"Offpeak\", \"avg_scheduled_service_minutes\": 52.0, \"avg_stop_miles\": 0.19, \"n_scheduled_trips\": 5, \"frequency\": 0.31, \"service_date\": \"2024-04-17T00:00:00\", \"minutes_atleast1_vp\": 303, \"minutes_atleast2_vp\": 300, \"total_rt_service_minutes\": 298.65, \"total_scheduled_service_minutes\": 260.0, \"total_vp\": 901, \"vp_in_shape\": 901, \"is_early\": 0, \"is_ontime\": 0, \"is_late\": 5, \"n_vp_trips\": 5, \"vp_per_minute\": 3.02, \"pct_in_shape\": 100.0, \"pct_rt_journey_atleast1_vp\": 100.0, \"pct_rt_journey_atleast2_vp\": 100.0, \"pct_sched_journey_atleast1_vp\": 100.0, \"pct_sched_journey_atleast2_vp\": 100.0, \"rt_sched_journey_ratio\": 1.15, \"avg_rt_service_minutes\": 59.73, \"sched_rt_category\": \"schedule_and_vp\", \"speed_mph\": null, \"name\": \"Humboldt Schedule\", \"route_long_name\": \"AMRTS Gold Route\", \"route_short_name\": \"A Gold\", \"route_combined_name\": \"AMRTS Gold Route\", \"route_id\": \"14\", \"typology\": \"rapid\", \"schedule_source_record_id\": \"recGTiyx7VcxcUkRu\", \"base64_url\": \"aHR0cHM6Ly9kYXRhLnRyaWxsaXVtdHJhbnNpdC5jb20vZ3Rmcy9odW1ib2xkdGNvdW50eS1jYS11cy9odW1ib2xkdGNvdW50eS1jYS11cy56aXA=\", \"organization_source_record_id\": \"recynxkqEoo9dJEvw\", \"organization_name\": \"City of Eureka\", \"caltrans_district\": \"01 - Eureka\", \"rt_sched_journey_ratio_cat\": \"Late by 1-25% of the scheduled time\", \"frequency_cat\": \"<1 trip/hour\", \"vp_per_minute_cat\": \"3+ pings per minute (target)\", \"ruler_100_pct\": 100, \"ruler_for_vp_per_min\": 2, \"frequency_in_minutes\": 193.5483870967742, \"n_scheduled_trips_str\": \"5\"}, {\"schedule_gtfs_dataset_key\": \"a253a8d7acd57657bb98050f37dd6b0f\", \"direction_id\": 0.0, \"time_period\": \"Peak\", \"avg_scheduled_service_minutes\": 52.0, \"avg_stop_miles\": 0.2, \"n_scheduled_trips\": 7, \"frequency\": 0.88, \"service_date\": \"2023-11-15T00:00:00\", \"minutes_atleast1_vp\": 410, \"minutes_atleast2_vp\": 405, \"total_rt_service_minutes\": 403.81, \"total_scheduled_service_minutes\": 364.0, \"total_vp\": 1217, \"vp_in_shape\": 1217, \"is_early\": 0, \"is_ontime\": 2, \"is_late\": 5, \"n_vp_trips\": 7, \"vp_per_minute\": 3.01, \"pct_in_shape\": 100.0, \"pct_rt_journey_atleast1_vp\": 100.0, \"pct_rt_journey_atleast2_vp\": 100.0, \"pct_sched_journey_atleast1_vp\": 100.0, \"pct_sched_journey_atleast2_vp\": 100.0, \"rt_sched_journey_ratio\": 1.11, \"avg_rt_service_minutes\": 57.69, \"sched_rt_category\": \"schedule_and_vp\", \"speed_mph\": 15.07, \"name\": \"Humboldt Schedule\", \"route_long_name\": \"AMRTS Gold Route\", \"route_short_name\": \"A Gold\", \"route_combined_name\": \"AMRTS Gold Route\", \"route_id\": \"14\", \"typology\": \"rapid\", \"schedule_source_record_id\": \"recGTiyx7VcxcUkRu\", \"base64_url\": \"aHR0cHM6Ly9kYXRhLnRyaWxsaXVtdHJhbnNpdC5jb20vZ3Rmcy9odW1ib2xkdGNvdW50eS1jYS11cy9odW1ib2xkdGNvdW50eS1jYS11cy56aXA=\", \"organization_source_record_id\": \"recynxkqEoo9dJEvw\", \"organization_name\": \"City of Eureka\", \"caltrans_district\": \"01 - Eureka\", \"rt_sched_journey_ratio_cat\": \"Late by 1-25% of the scheduled time\", \"frequency_cat\": \"<1 trip/hour\", \"vp_per_minute_cat\": \"3+ pings per minute (target)\", \"ruler_100_pct\": 100, \"ruler_for_vp_per_min\": 2, \"frequency_in_minutes\": 68.18181818181819, \"n_scheduled_trips_str\": \"7\"}, {\"schedule_gtfs_dataset_key\": \"a253a8d7acd57657bb98050f37dd6b0f\", \"direction_id\": 0.0, \"time_period\": \"Peak\", \"avg_scheduled_service_minutes\": 52.0, \"avg_stop_miles\": 0.2, \"n_scheduled_trips\": 7, \"frequency\": 0.88, \"service_date\": \"2023-12-13T00:00:00\", \"minutes_atleast1_vp\": 400, \"minutes_atleast2_vp\": 398, \"total_rt_service_minutes\": 404.59, \"total_scheduled_service_minutes\": 364.0, \"total_vp\": 1193, \"vp_in_shape\": 1193, \"is_early\": 0, \"is_ontime\": 1, \"is_late\": 6, \"n_vp_trips\": 7, \"vp_per_minute\": 2.95, \"pct_in_shape\": 100.0, \"pct_rt_journey_atleast1_vp\": 99.0, \"pct_rt_journey_atleast2_vp\": 98.0, \"pct_sched_journey_atleast1_vp\": 100.0, \"pct_sched_journey_atleast2_vp\": 100.0, \"rt_sched_journey_ratio\": 1.11, \"avg_rt_service_minutes\": 57.8, \"sched_rt_category\": \"schedule_and_vp\", \"speed_mph\": null, \"name\": \"Humboldt Schedule\", \"route_long_name\": \"AMRTS Gold Route\", \"route_short_name\": \"A Gold\", \"route_combined_name\": \"AMRTS Gold Route\", \"route_id\": \"14\", \"typology\": \"rapid\", \"schedule_source_record_id\": \"recGTiyx7VcxcUkRu\", \"base64_url\": \"aHR0cHM6Ly9kYXRhLnRyaWxsaXVtdHJhbnNpdC5jb20vZ3Rmcy9odW1ib2xkdGNvdW50eS1jYS11cy9odW1ib2xkdGNvdW50eS1jYS11cy56aXA=\", \"organization_source_record_id\": \"recynxkqEoo9dJEvw\", \"organization_name\": \"City of Eureka\", \"caltrans_district\": \"01 - Eureka\", \"rt_sched_journey_ratio_cat\": \"Late by 1-25% of the scheduled time\", \"frequency_cat\": \"<1 trip/hour\", \"vp_per_minute_cat\": \"<3 pings/minute\", \"ruler_100_pct\": 100, \"ruler_for_vp_per_min\": 2, \"frequency_in_minutes\": 68.18181818181819, \"n_scheduled_trips_str\": \"7\"}, {\"schedule_gtfs_dataset_key\": \"a253a8d7acd57657bb98050f37dd6b0f\", \"direction_id\": 0.0, \"time_period\": \"Peak\", \"avg_scheduled_service_minutes\": 52.0, \"avg_stop_miles\": 0.19, \"n_scheduled_trips\": 7, \"frequency\": 0.88, \"service_date\": \"2024-01-17T00:00:00\", \"minutes_atleast1_vp\": 428, \"minutes_atleast2_vp\": 421, \"total_rt_service_minutes\": 419.97, \"total_scheduled_service_minutes\": 364.0, \"total_vp\": 1267, \"vp_in_shape\": 1267, \"is_early\": 0, \"is_ontime\": 1, \"is_late\": 6, \"n_vp_trips\": 7, \"vp_per_minute\": 3.02, \"pct_in_shape\": 100.0, \"pct_rt_journey_atleast1_vp\": 100.0, \"pct_rt_journey_atleast2_vp\": 100.0, \"pct_sched_journey_atleast1_vp\": 100.0, \"pct_sched_journey_atleast2_vp\": 100.0, \"rt_sched_journey_ratio\": 1.15, \"avg_rt_service_minutes\": 60.0, \"sched_rt_category\": \"schedule_and_vp\", \"speed_mph\": null, \"name\": \"Humboldt Schedule\", \"route_long_name\": \"AMRTS Gold Route\", \"route_short_name\": \"A Gold\", \"route_combined_name\": \"AMRTS Gold Route\", \"route_id\": \"14\", \"typology\": \"rapid\", \"schedule_source_record_id\": \"recGTiyx7VcxcUkRu\", \"base64_url\": \"aHR0cHM6Ly9kYXRhLnRyaWxsaXVtdHJhbnNpdC5jb20vZ3Rmcy9odW1ib2xkdGNvdW50eS1jYS11cy9odW1ib2xkdGNvdW50eS1jYS11cy56aXA=\", \"organization_source_record_id\": \"recynxkqEoo9dJEvw\", \"organization_name\": \"City of Eureka\", \"caltrans_district\": \"01 - Eureka\", \"rt_sched_journey_ratio_cat\": \"Late by 1-25% of the scheduled time\", \"frequency_cat\": \"<1 trip/hour\", \"vp_per_minute_cat\": \"3+ pings per minute (target)\", \"ruler_100_pct\": 100, \"ruler_for_vp_per_min\": 2, \"frequency_in_minutes\": 68.18181818181819, \"n_scheduled_trips_str\": \"7\"}, {\"schedule_gtfs_dataset_key\": \"a253a8d7acd57657bb98050f37dd6b0f\", \"direction_id\": 0.0, \"time_period\": \"Peak\", \"avg_scheduled_service_minutes\": 52.0, \"avg_stop_miles\": 0.19, \"n_scheduled_trips\": 7, \"frequency\": 0.88, \"service_date\": \"2024-02-14T00:00:00\", \"minutes_atleast1_vp\": 410, \"minutes_atleast2_vp\": 405, \"total_rt_service_minutes\": 402.57, \"total_scheduled_service_minutes\": 364.0, \"total_vp\": 1215, \"vp_in_shape\": 1215, \"is_early\": 1, \"is_ontime\": 0, \"is_late\": 6, \"n_vp_trips\": 7, \"vp_per_minute\": 3.02, \"pct_in_shape\": 100.0, \"pct_rt_journey_atleast1_vp\": 100.0, \"pct_rt_journey_atleast2_vp\": 100.0, \"pct_sched_journey_atleast1_vp\": 100.0, \"pct_sched_journey_atleast2_vp\": 100.0, \"rt_sched_journey_ratio\": 1.11, \"avg_rt_service_minutes\": 57.51, \"sched_rt_category\": \"schedule_and_vp\", \"speed_mph\": 15.51, \"name\": \"Humboldt Schedule\", \"route_long_name\": \"AMRTS Gold Route\", \"route_short_name\": \"A Gold\", \"route_combined_name\": \"AMRTS Gold Route\", \"route_id\": \"14\", \"typology\": \"rapid\", \"schedule_source_record_id\": \"recGTiyx7VcxcUkRu\", \"base64_url\": \"aHR0cHM6Ly9kYXRhLnRyaWxsaXVtdHJhbnNpdC5jb20vZ3Rmcy9odW1ib2xkdGNvdW50eS1jYS11cy9odW1ib2xkdGNvdW50eS1jYS11cy56aXA=\", \"organization_source_record_id\": \"recynxkqEoo9dJEvw\", \"organization_name\": \"City of Eureka\", \"caltrans_district\": \"01 - Eureka\", \"rt_sched_journey_ratio_cat\": \"Late by 1-25% of the scheduled time\", \"frequency_cat\": \"<1 trip/hour\", \"vp_per_minute_cat\": \"3+ pings per minute (target)\", \"ruler_100_pct\": 100, \"ruler_for_vp_per_min\": 2, \"frequency_in_minutes\": 68.18181818181819, \"n_scheduled_trips_str\": \"7\"}, {\"schedule_gtfs_dataset_key\": \"a253a8d7acd57657bb98050f37dd6b0f\", \"direction_id\": 0.0, \"time_period\": \"Peak\", \"avg_scheduled_service_minutes\": 52.0, \"avg_stop_miles\": 0.19, \"n_scheduled_trips\": 7, \"frequency\": 0.88, \"service_date\": \"2024-03-13T00:00:00\", \"minutes_atleast1_vp\": 403, \"minutes_atleast2_vp\": 394, \"total_rt_service_minutes\": 398.63, \"total_scheduled_service_minutes\": 364.0, \"total_vp\": 1187, \"vp_in_shape\": 1180, \"is_early\": 0, \"is_ontime\": 3, \"is_late\": 4, \"n_vp_trips\": 7, \"vp_per_minute\": 2.98, \"pct_in_shape\": 99.0, \"pct_rt_journey_atleast1_vp\": 100.0, \"pct_rt_journey_atleast2_vp\": 99.0, \"pct_sched_journey_atleast1_vp\": 100.0, \"pct_sched_journey_atleast2_vp\": 100.0, \"rt_sched_journey_ratio\": 1.1, \"avg_rt_service_minutes\": 56.95, \"sched_rt_category\": \"schedule_and_vp\", \"speed_mph\": null, \"name\": \"Humboldt Schedule\", \"route_long_name\": \"AMRTS Gold Route\", \"route_short_name\": \"A Gold\", \"route_combined_name\": \"AMRTS Gold Route\", \"route_id\": \"14\", \"typology\": \"rapid\", \"schedule_source_record_id\": \"recGTiyx7VcxcUkRu\", \"base64_url\": \"aHR0cHM6Ly9kYXRhLnRyaWxsaXVtdHJhbnNpdC5jb20vZ3Rmcy9odW1ib2xkdGNvdW50eS1jYS11cy9odW1ib2xkdGNvdW50eS1jYS11cy56aXA=\", \"organization_source_record_id\": \"recynxkqEoo9dJEvw\", \"organization_name\": \"City of Eureka\", \"caltrans_district\": \"01 - Eureka\", \"rt_sched_journey_ratio_cat\": \"Late by 1-25% of the scheduled time\", \"frequency_cat\": \"<1 trip/hour\", \"vp_per_minute_cat\": \"<3 pings/minute\", \"ruler_100_pct\": 100, \"ruler_for_vp_per_min\": 2, \"frequency_in_minutes\": 68.18181818181819, \"n_scheduled_trips_str\": \"7\"}, {\"schedule_gtfs_dataset_key\": \"a253a8d7acd57657bb98050f37dd6b0f\", \"direction_id\": 0.0, \"time_period\": \"Peak\", \"avg_scheduled_service_minutes\": 52.0, \"avg_stop_miles\": 0.19, \"n_scheduled_trips\": 7, \"frequency\": 0.88, \"service_date\": \"2024-04-17T00:00:00\", \"minutes_atleast1_vp\": 411, \"minutes_atleast2_vp\": 407, \"total_rt_service_minutes\": 405.13, \"total_scheduled_service_minutes\": 364.0, \"total_vp\": 1218, \"vp_in_shape\": 1217, \"is_early\": 0, \"is_ontime\": 1, \"is_late\": 6, \"n_vp_trips\": 7, \"vp_per_minute\": 3.01, \"pct_in_shape\": 100.0, \"pct_rt_journey_atleast1_vp\": 100.0, \"pct_rt_journey_atleast2_vp\": 100.0, \"pct_sched_journey_atleast1_vp\": 100.0, \"pct_sched_journey_atleast2_vp\": 100.0, \"rt_sched_journey_ratio\": 1.11, \"avg_rt_service_minutes\": 57.88, \"sched_rt_category\": \"schedule_and_vp\", \"speed_mph\": 14.98, \"name\": \"Humboldt Schedule\", \"route_long_name\": \"AMRTS Gold Route\", \"route_short_name\": \"A Gold\", \"route_combined_name\": \"AMRTS Gold Route\", \"route_id\": \"14\", \"typology\": \"rapid\", \"schedule_source_record_id\": \"recGTiyx7VcxcUkRu\", \"base64_url\": \"aHR0cHM6Ly9kYXRhLnRyaWxsaXVtdHJhbnNpdC5jb20vZ3Rmcy9odW1ib2xkdGNvdW50eS1jYS11cy9odW1ib2xkdGNvdW50eS1jYS11cy56aXA=\", \"organization_source_record_id\": \"recynxkqEoo9dJEvw\", \"organization_name\": \"City of Eureka\", \"caltrans_district\": \"01 - Eureka\", \"rt_sched_journey_ratio_cat\": \"Late by 1-25% of the scheduled time\", \"frequency_cat\": \"<1 trip/hour\", \"vp_per_minute_cat\": \"3+ pings per minute (target)\", \"ruler_100_pct\": 100, \"ruler_for_vp_per_min\": 2, \"frequency_in_minutes\": 68.18181818181819, \"n_scheduled_trips_str\": \"7\"}]}}, {\"mode\": \"vega-lite\"});\n",
       "</script>"
      ],
      "text/plain": [
       "alt.Chart(...)"
      ]
     },
     "execution_count": 33,
     "metadata": {},
     "output_type": "execute_result"
    }
   ],
   "source": [
    "section3.grouped_bar_chart(\n",
    "    df=one_route.loc[one_route.time_period != \"all_day\"].drop_duplicates(),\n",
    "    color_col=\"time_period\",\n",
    "    y_col=\"n_scheduled_trips\",\n",
    "    offset_col=\"direction_id\",\n",
    "    title=\"Total Scheduled Trips\",\n",
    "    subtitle=\"How many times per day is this route is scheduled to run in one particular direction.\",\n",
    ")"
   ]
  },
  {
   "cell_type": "markdown",
   "id": "793206d1-f1f7-4603-900e-e2bd5ff85619",
   "metadata": {},
   "source": [
    "#### Frequency (Done)\n",
    "* Maybe shouldn't be a chart since there doesn't seem to be a lot of data for this across a lot of the routes?\n",
    "* What does frequency mean?\n",
    "* Simplify down to not take direction_id into consideration?"
   ]
  },
  {
   "cell_type": "markdown",
   "id": "cad7454c-ceb2-4e30-92d2-bbc43d4e6e1a",
   "metadata": {},
   "source": [
    "#### Speed MPH (Done)\n",
    "* Needs a different type of chart."
   ]
  },
  {
   "cell_type": "code",
   "execution_count": 34,
   "id": "7e452d89-d0b7-4730-bebe-3abe2125ca9a",
   "metadata": {},
   "outputs": [
    {
     "data": {
      "text/html": [
       "\n",
       "<style>\n",
       "  #altair-viz-b1bf91436b1e461f83a89932af9bdf16.vega-embed {\n",
       "    width: 100%;\n",
       "    display: flex;\n",
       "  }\n",
       "\n",
       "  #altair-viz-b1bf91436b1e461f83a89932af9bdf16.vega-embed details,\n",
       "  #altair-viz-b1bf91436b1e461f83a89932af9bdf16.vega-embed details summary {\n",
       "    position: relative;\n",
       "  }\n",
       "</style>\n",
       "<div id=\"altair-viz-b1bf91436b1e461f83a89932af9bdf16\"></div>\n",
       "<script type=\"text/javascript\">\n",
       "  var VEGA_DEBUG = (typeof VEGA_DEBUG == \"undefined\") ? {} : VEGA_DEBUG;\n",
       "  (function(spec, embedOpt){\n",
       "    let outputDiv = document.currentScript.previousElementSibling;\n",
       "    if (outputDiv.id !== \"altair-viz-b1bf91436b1e461f83a89932af9bdf16\") {\n",
       "      outputDiv = document.getElementById(\"altair-viz-b1bf91436b1e461f83a89932af9bdf16\");\n",
       "    }\n",
       "    const paths = {\n",
       "      \"vega\": \"https://cdn.jsdelivr.net/npm/vega@5?noext\",\n",
       "      \"vega-lib\": \"https://cdn.jsdelivr.net/npm/vega-lib?noext\",\n",
       "      \"vega-lite\": \"https://cdn.jsdelivr.net/npm/vega-lite@5.14.1?noext\",\n",
       "      \"vega-embed\": \"https://cdn.jsdelivr.net/npm/vega-embed@6?noext\",\n",
       "    };\n",
       "\n",
       "    function maybeLoadScript(lib, version) {\n",
       "      var key = `${lib.replace(\"-\", \"\")}_version`;\n",
       "      return (VEGA_DEBUG[key] == version) ?\n",
       "        Promise.resolve(paths[lib]) :\n",
       "        new Promise(function(resolve, reject) {\n",
       "          var s = document.createElement('script');\n",
       "          document.getElementsByTagName(\"head\")[0].appendChild(s);\n",
       "          s.async = true;\n",
       "          s.onload = () => {\n",
       "            VEGA_DEBUG[key] = version;\n",
       "            return resolve(paths[lib]);\n",
       "          };\n",
       "          s.onerror = () => reject(`Error loading script: ${paths[lib]}`);\n",
       "          s.src = paths[lib];\n",
       "        });\n",
       "    }\n",
       "\n",
       "    function showError(err) {\n",
       "      outputDiv.innerHTML = `<div class=\"error\" style=\"color:red;\">${err}</div>`;\n",
       "      throw err;\n",
       "    }\n",
       "\n",
       "    function displayChart(vegaEmbed) {\n",
       "      vegaEmbed(outputDiv, spec, embedOpt)\n",
       "        .catch(err => showError(`Javascript Error: ${err.message}<br>This usually means there's a typo in your chart specification. See the javascript console for the full traceback.`));\n",
       "    }\n",
       "\n",
       "    if(typeof define === \"function\" && define.amd) {\n",
       "      requirejs.config({paths});\n",
       "      require([\"vega-embed\"], displayChart, err => showError(`Error loading script: ${err.message}`));\n",
       "    } else {\n",
       "      maybeLoadScript(\"vega\", \"5\")\n",
       "        .then(() => maybeLoadScript(\"vega-lite\", \"5.14.1\"))\n",
       "        .then(() => maybeLoadScript(\"vega-embed\", \"6\"))\n",
       "        .catch(showError)\n",
       "        .then(() => displayChart(vegaEmbed));\n",
       "    }\n",
       "  })({\"config\": {\"view\": {\"continuousWidth\": 300, \"continuousHeight\": 300}}, \"data\": {\"name\": \"data-b28c095d240a07f475c0f459aba40835\"}, \"facet\": {\"column\": {\"field\": \"direction_id\", \"title\": \"Direction Id\", \"type\": \"nominal\"}}, \"spec\": {\"mark\": {\"type\": \"line\", \"size\": 5}, \"encoding\": {\"color\": {\"field\": \"time_period\", \"scale\": {\"range\": [\"#ec5d3b\", \"#fde18d\", \"#7cc665\"]}, \"title\": \"Time Period\", \"type\": \"nominal\"}, \"strokeWidth\": {\"condition\": {\"test\": \"datum.time_peak == 'All Day'\", \"value\": 10}, \"value\": 1}, \"tooltip\": [{\"field\": \"route_combined_name\", \"type\": \"nominal\"}, {\"field\": \"route_id\", \"type\": \"nominal\"}, {\"field\": \"direction_id\", \"type\": \"quantitative\"}, {\"field\": \"time_period\", \"type\": \"nominal\"}, {\"field\": \"speed_mph_str\", \"type\": \"nominal\"}], \"x\": {\"axis\": {\"format\": \"%b %Y\", \"labelAngle\": -45}, \"field\": \"service_date\", \"timeUnit\": \"yearmonthdate\", \"title\": \"Date\", \"type\": \"ordinal\"}, \"y\": {\"field\": \"speed_mph\", \"scale\": {\"domain\": [0, 25]}, \"title\": \"Speed Mph\", \"type\": \"quantitative\"}}, \"height\": 300, \"name\": \"view_1\", \"width\": 250}, \"params\": [{\"name\": \"param_1\", \"select\": {\"type\": \"point\", \"fields\": [\"time_period\"]}, \"bind\": \"legend\", \"views\": [\"view_1\"]}], \"title\": {\"text\": [\"Average Speed\"], \"subtitle\": [\"The average miles per hour the bus travels by direction and time of day.\"]}, \"$schema\": \"https://vega.github.io/schema/vega-lite/v5.14.1.json\", \"datasets\": {\"data-b28c095d240a07f475c0f459aba40835\": [{\"schedule_gtfs_dataset_key\": \"a253a8d7acd57657bb98050f37dd6b0f\", \"direction_id\": 0.0, \"time_period\": \"All Day\", \"avg_scheduled_service_minutes\": 52.0, \"avg_stop_miles\": 0.2, \"n_scheduled_trips\": 12, \"frequency\": 0.5, \"service_date\": \"2023-11-15T00:00:00\", \"minutes_atleast1_vp\": 715, \"minutes_atleast2_vp\": 706, \"total_rt_service_minutes\": 703.52, \"total_scheduled_service_minutes\": 624.0, \"total_vp\": 2121, \"vp_in_shape\": 2121, \"is_early\": 0, \"is_ontime\": 3, \"is_late\": 9, \"n_vp_trips\": 12, \"vp_per_minute\": 3.01, \"pct_in_shape\": 100.0, \"pct_rt_journey_atleast1_vp\": 100.0, \"pct_rt_journey_atleast2_vp\": 100.0, \"pct_sched_journey_atleast1_vp\": 100.0, \"pct_sched_journey_atleast2_vp\": 100.0, \"rt_sched_journey_ratio\": 1.13, \"avg_rt_service_minutes\": 58.63, \"sched_rt_category\": \"schedule_and_vp\", \"speed_mph\": 15, \"name\": \"Humboldt Schedule\", \"route_long_name\": \"AMRTS Gold Route\", \"route_short_name\": \"A Gold\", \"route_combined_name\": \"AMRTS Gold Route\", \"route_id\": \"14\", \"typology\": \"rapid\", \"schedule_source_record_id\": \"recGTiyx7VcxcUkRu\", \"base64_url\": \"aHR0cHM6Ly9kYXRhLnRyaWxsaXVtdHJhbnNpdC5jb20vZ3Rmcy9odW1ib2xkdGNvdW50eS1jYS11cy9odW1ib2xkdGNvdW50eS1jYS11cy56aXA=\", \"organization_source_record_id\": \"recynxkqEoo9dJEvw\", \"organization_name\": \"City of Eureka\", \"caltrans_district\": \"01 - Eureka\", \"rt_sched_journey_ratio_cat\": \"Late by 1-25% of the scheduled time\", \"frequency_cat\": \"<1 trip/hour\", \"vp_per_minute_cat\": \"3+ pings per minute (target)\", \"ruler_100_pct\": 100, \"ruler_for_vp_per_min\": 2, \"frequency_in_minutes\": 120.0, \"speed_mph_str\": \"15\"}, {\"schedule_gtfs_dataset_key\": \"a253a8d7acd57657bb98050f37dd6b0f\", \"direction_id\": 0.0, \"time_period\": \"All Day\", \"avg_scheduled_service_minutes\": 52.0, \"avg_stop_miles\": 0.2, \"n_scheduled_trips\": 12, \"frequency\": 0.5, \"service_date\": \"2023-12-13T00:00:00\", \"minutes_atleast1_vp\": 703, \"minutes_atleast2_vp\": 700, \"total_rt_service_minutes\": 704.05, \"total_scheduled_service_minutes\": 624.0, \"total_vp\": 2097, \"vp_in_shape\": 2097, \"is_early\": 0, \"is_ontime\": 1, \"is_late\": 11, \"n_vp_trips\": 12, \"vp_per_minute\": 2.98, \"pct_in_shape\": 100.0, \"pct_rt_journey_atleast1_vp\": 100.0, \"pct_rt_journey_atleast2_vp\": 99.0, \"pct_sched_journey_atleast1_vp\": 100.0, \"pct_sched_journey_atleast2_vp\": 100.0, \"rt_sched_journey_ratio\": 1.13, \"avg_rt_service_minutes\": 58.67, \"sched_rt_category\": \"schedule_and_vp\", \"speed_mph\": 0, \"name\": \"Humboldt Schedule\", \"route_long_name\": \"AMRTS Gold Route\", \"route_short_name\": \"A Gold\", \"route_combined_name\": \"AMRTS Gold Route\", \"route_id\": \"14\", \"typology\": \"rapid\", \"schedule_source_record_id\": \"recGTiyx7VcxcUkRu\", \"base64_url\": \"aHR0cHM6Ly9kYXRhLnRyaWxsaXVtdHJhbnNpdC5jb20vZ3Rmcy9odW1ib2xkdGNvdW50eS1jYS11cy9odW1ib2xkdGNvdW50eS1jYS11cy56aXA=\", \"organization_source_record_id\": \"recynxkqEoo9dJEvw\", \"organization_name\": \"City of Eureka\", \"caltrans_district\": \"01 - Eureka\", \"rt_sched_journey_ratio_cat\": \"Late by 1-25% of the scheduled time\", \"frequency_cat\": \"<1 trip/hour\", \"vp_per_minute_cat\": \"<3 pings/minute\", \"ruler_100_pct\": 100, \"ruler_for_vp_per_min\": 2, \"frequency_in_minutes\": 120.0, \"speed_mph_str\": \"0\"}, {\"schedule_gtfs_dataset_key\": \"a253a8d7acd57657bb98050f37dd6b0f\", \"direction_id\": 0.0, \"time_period\": \"All Day\", \"avg_scheduled_service_minutes\": 52.0, \"avg_stop_miles\": 0.19, \"n_scheduled_trips\": 12, \"frequency\": 0.5, \"service_date\": \"2024-01-17T00:00:00\", \"minutes_atleast1_vp\": 732, \"minutes_atleast2_vp\": 723, \"total_rt_service_minutes\": 720.13, \"total_scheduled_service_minutes\": 624.0, \"total_vp\": 2173, \"vp_in_shape\": 2173, \"is_early\": 0, \"is_ontime\": 1, \"is_late\": 11, \"n_vp_trips\": 12, \"vp_per_minute\": 3.02, \"pct_in_shape\": 100.0, \"pct_rt_journey_atleast1_vp\": 100.0, \"pct_rt_journey_atleast2_vp\": 100.0, \"pct_sched_journey_atleast1_vp\": 100.0, \"pct_sched_journey_atleast2_vp\": 100.0, \"rt_sched_journey_ratio\": 1.15, \"avg_rt_service_minutes\": 60.01, \"sched_rt_category\": \"schedule_and_vp\", \"speed_mph\": 0, \"name\": \"Humboldt Schedule\", \"route_long_name\": \"AMRTS Gold Route\", \"route_short_name\": \"A Gold\", \"route_combined_name\": \"AMRTS Gold Route\", \"route_id\": \"14\", \"typology\": \"rapid\", \"schedule_source_record_id\": \"recGTiyx7VcxcUkRu\", \"base64_url\": \"aHR0cHM6Ly9kYXRhLnRyaWxsaXVtdHJhbnNpdC5jb20vZ3Rmcy9odW1ib2xkdGNvdW50eS1jYS11cy9odW1ib2xkdGNvdW50eS1jYS11cy56aXA=\", \"organization_source_record_id\": \"recynxkqEoo9dJEvw\", \"organization_name\": \"City of Eureka\", \"caltrans_district\": \"01 - Eureka\", \"rt_sched_journey_ratio_cat\": \"Late by 1-25% of the scheduled time\", \"frequency_cat\": \"<1 trip/hour\", \"vp_per_minute_cat\": \"3+ pings per minute (target)\", \"ruler_100_pct\": 100, \"ruler_for_vp_per_min\": 2, \"frequency_in_minutes\": 120.0, \"speed_mph_str\": \"0\"}, {\"schedule_gtfs_dataset_key\": \"a253a8d7acd57657bb98050f37dd6b0f\", \"direction_id\": 0.0, \"time_period\": \"All Day\", \"avg_scheduled_service_minutes\": 52.0, \"avg_stop_miles\": 0.19, \"n_scheduled_trips\": 12, \"frequency\": 0.5, \"service_date\": \"2024-02-14T00:00:00\", \"minutes_atleast1_vp\": 716, \"minutes_atleast2_vp\": 709, \"total_rt_service_minutes\": 703.74, \"total_scheduled_service_minutes\": 624.0, \"total_vp\": 2124, \"vp_in_shape\": 2124, \"is_early\": 1, \"is_ontime\": 0, \"is_late\": 11, \"n_vp_trips\": 12, \"vp_per_minute\": 3.02, \"pct_in_shape\": 100.0, \"pct_rt_journey_atleast1_vp\": 100.0, \"pct_rt_journey_atleast2_vp\": 100.0, \"pct_sched_journey_atleast1_vp\": 100.0, \"pct_sched_journey_atleast2_vp\": 100.0, \"rt_sched_journey_ratio\": 1.13, \"avg_rt_service_minutes\": 58.64, \"sched_rt_category\": \"schedule_and_vp\", \"speed_mph\": 15, \"name\": \"Humboldt Schedule\", \"route_long_name\": \"AMRTS Gold Route\", \"route_short_name\": \"A Gold\", \"route_combined_name\": \"AMRTS Gold Route\", \"route_id\": \"14\", \"typology\": \"rapid\", \"schedule_source_record_id\": \"recGTiyx7VcxcUkRu\", \"base64_url\": \"aHR0cHM6Ly9kYXRhLnRyaWxsaXVtdHJhbnNpdC5jb20vZ3Rmcy9odW1ib2xkdGNvdW50eS1jYS11cy9odW1ib2xkdGNvdW50eS1jYS11cy56aXA=\", \"organization_source_record_id\": \"recynxkqEoo9dJEvw\", \"organization_name\": \"City of Eureka\", \"caltrans_district\": \"01 - Eureka\", \"rt_sched_journey_ratio_cat\": \"Late by 1-25% of the scheduled time\", \"frequency_cat\": \"<1 trip/hour\", \"vp_per_minute_cat\": \"3+ pings per minute (target)\", \"ruler_100_pct\": 100, \"ruler_for_vp_per_min\": 2, \"frequency_in_minutes\": 120.0, \"speed_mph_str\": \"15\"}, {\"schedule_gtfs_dataset_key\": \"a253a8d7acd57657bb98050f37dd6b0f\", \"direction_id\": 0.0, \"time_period\": \"All Day\", \"avg_scheduled_service_minutes\": 52.0, \"avg_stop_miles\": 0.19, \"n_scheduled_trips\": 12, \"frequency\": 0.5, \"service_date\": \"2024-03-13T00:00:00\", \"minutes_atleast1_vp\": 717, \"minutes_atleast2_vp\": 701, \"total_rt_service_minutes\": 709.05, \"total_scheduled_service_minutes\": 624.0, \"total_vp\": 2111, \"vp_in_shape\": 2104, \"is_early\": 0, \"is_ontime\": 3, \"is_late\": 9, \"n_vp_trips\": 12, \"vp_per_minute\": 2.98, \"pct_in_shape\": 100.0, \"pct_rt_journey_atleast1_vp\": 100.0, \"pct_rt_journey_atleast2_vp\": 99.0, \"pct_sched_journey_atleast1_vp\": 100.0, \"pct_sched_journey_atleast2_vp\": 100.0, \"rt_sched_journey_ratio\": 1.14, \"avg_rt_service_minutes\": 59.09, \"sched_rt_category\": \"schedule_and_vp\", \"speed_mph\": 0, \"name\": \"Humboldt Schedule\", \"route_long_name\": \"AMRTS Gold Route\", \"route_short_name\": \"A Gold\", \"route_combined_name\": \"AMRTS Gold Route\", \"route_id\": \"14\", \"typology\": \"rapid\", \"schedule_source_record_id\": \"recGTiyx7VcxcUkRu\", \"base64_url\": \"aHR0cHM6Ly9kYXRhLnRyaWxsaXVtdHJhbnNpdC5jb20vZ3Rmcy9odW1ib2xkdGNvdW50eS1jYS11cy9odW1ib2xkdGNvdW50eS1jYS11cy56aXA=\", \"organization_source_record_id\": \"recynxkqEoo9dJEvw\", \"organization_name\": \"City of Eureka\", \"caltrans_district\": \"01 - Eureka\", \"rt_sched_journey_ratio_cat\": \"Late by 1-25% of the scheduled time\", \"frequency_cat\": \"<1 trip/hour\", \"vp_per_minute_cat\": \"<3 pings/minute\", \"ruler_100_pct\": 100, \"ruler_for_vp_per_min\": 2, \"frequency_in_minutes\": 120.0, \"speed_mph_str\": \"0\"}, {\"schedule_gtfs_dataset_key\": \"a253a8d7acd57657bb98050f37dd6b0f\", \"direction_id\": 0.0, \"time_period\": \"All Day\", \"avg_scheduled_service_minutes\": 52.0, \"avg_stop_miles\": 0.19, \"n_scheduled_trips\": 12, \"frequency\": 0.5, \"service_date\": \"2024-04-17T00:00:00\", \"minutes_atleast1_vp\": 714, \"minutes_atleast2_vp\": 707, \"total_rt_service_minutes\": 703.78, \"total_scheduled_service_minutes\": 624.0, \"total_vp\": 2119, \"vp_in_shape\": 2118, \"is_early\": 0, \"is_ontime\": 1, \"is_late\": 11, \"n_vp_trips\": 12, \"vp_per_minute\": 3.01, \"pct_in_shape\": 100.0, \"pct_rt_journey_atleast1_vp\": 100.0, \"pct_rt_journey_atleast2_vp\": 100.0, \"pct_sched_journey_atleast1_vp\": 100.0, \"pct_sched_journey_atleast2_vp\": 100.0, \"rt_sched_journey_ratio\": 1.13, \"avg_rt_service_minutes\": 58.65, \"sched_rt_category\": \"schedule_and_vp\", \"speed_mph\": 14, \"name\": \"Humboldt Schedule\", \"route_long_name\": \"AMRTS Gold Route\", \"route_short_name\": \"A Gold\", \"route_combined_name\": \"AMRTS Gold Route\", \"route_id\": \"14\", \"typology\": \"rapid\", \"schedule_source_record_id\": \"recGTiyx7VcxcUkRu\", \"base64_url\": \"aHR0cHM6Ly9kYXRhLnRyaWxsaXVtdHJhbnNpdC5jb20vZ3Rmcy9odW1ib2xkdGNvdW50eS1jYS11cy9odW1ib2xkdGNvdW50eS1jYS11cy56aXA=\", \"organization_source_record_id\": \"recynxkqEoo9dJEvw\", \"organization_name\": \"City of Eureka\", \"caltrans_district\": \"01 - Eureka\", \"rt_sched_journey_ratio_cat\": \"Late by 1-25% of the scheduled time\", \"frequency_cat\": \"<1 trip/hour\", \"vp_per_minute_cat\": \"3+ pings per minute (target)\", \"ruler_100_pct\": 100, \"ruler_for_vp_per_min\": 2, \"frequency_in_minutes\": 120.0, \"speed_mph_str\": \"14\"}, {\"schedule_gtfs_dataset_key\": \"a253a8d7acd57657bb98050f37dd6b0f\", \"direction_id\": 0.0, \"time_period\": \"Offpeak\", \"avg_scheduled_service_minutes\": 52.0, \"avg_stop_miles\": 0.2, \"n_scheduled_trips\": 5, \"frequency\": 0.31, \"service_date\": \"2023-11-15T00:00:00\", \"minutes_atleast1_vp\": 305, \"minutes_atleast2_vp\": 301, \"total_rt_service_minutes\": 299.71, \"total_scheduled_service_minutes\": 260.0, \"total_vp\": 904, \"vp_in_shape\": 904, \"is_early\": 0, \"is_ontime\": 1, \"is_late\": 4, \"n_vp_trips\": 5, \"vp_per_minute\": 3.02, \"pct_in_shape\": 100.0, \"pct_rt_journey_atleast1_vp\": 100.0, \"pct_rt_journey_atleast2_vp\": 100.0, \"pct_sched_journey_atleast1_vp\": 100.0, \"pct_sched_journey_atleast2_vp\": 100.0, \"rt_sched_journey_ratio\": 1.15, \"avg_rt_service_minutes\": 59.94, \"sched_rt_category\": \"schedule_and_vp\", \"speed_mph\": 0, \"name\": \"Humboldt Schedule\", \"route_long_name\": \"AMRTS Gold Route\", \"route_short_name\": \"A Gold\", \"route_combined_name\": \"AMRTS Gold Route\", \"route_id\": \"14\", \"typology\": \"rapid\", \"schedule_source_record_id\": \"recGTiyx7VcxcUkRu\", \"base64_url\": \"aHR0cHM6Ly9kYXRhLnRyaWxsaXVtdHJhbnNpdC5jb20vZ3Rmcy9odW1ib2xkdGNvdW50eS1jYS11cy9odW1ib2xkdGNvdW50eS1jYS11cy56aXA=\", \"organization_source_record_id\": \"recynxkqEoo9dJEvw\", \"organization_name\": \"City of Eureka\", \"caltrans_district\": \"01 - Eureka\", \"rt_sched_journey_ratio_cat\": \"Late by 1-25% of the scheduled time\", \"frequency_cat\": \"<1 trip/hour\", \"vp_per_minute_cat\": \"3+ pings per minute (target)\", \"ruler_100_pct\": 100, \"ruler_for_vp_per_min\": 2, \"frequency_in_minutes\": 193.5483870967742, \"speed_mph_str\": \"0\"}, {\"schedule_gtfs_dataset_key\": \"a253a8d7acd57657bb98050f37dd6b0f\", \"direction_id\": 0.0, \"time_period\": \"Offpeak\", \"avg_scheduled_service_minutes\": 52.0, \"avg_stop_miles\": 0.2, \"n_scheduled_trips\": 5, \"frequency\": 0.31, \"service_date\": \"2023-12-13T00:00:00\", \"minutes_atleast1_vp\": 303, \"minutes_atleast2_vp\": 302, \"total_rt_service_minutes\": 299.46, \"total_scheduled_service_minutes\": 260.0, \"total_vp\": 904, \"vp_in_shape\": 904, \"is_early\": 0, \"is_ontime\": 0, \"is_late\": 5, \"n_vp_trips\": 5, \"vp_per_minute\": 3.02, \"pct_in_shape\": 100.0, \"pct_rt_journey_atleast1_vp\": 100.0, \"pct_rt_journey_atleast2_vp\": 100.0, \"pct_sched_journey_atleast1_vp\": 100.0, \"pct_sched_journey_atleast2_vp\": 100.0, \"rt_sched_journey_ratio\": 1.15, \"avg_rt_service_minutes\": 59.89, \"sched_rt_category\": \"schedule_and_vp\", \"speed_mph\": 0, \"name\": \"Humboldt Schedule\", \"route_long_name\": \"AMRTS Gold Route\", \"route_short_name\": \"A Gold\", \"route_combined_name\": \"AMRTS Gold Route\", \"route_id\": \"14\", \"typology\": \"rapid\", \"schedule_source_record_id\": \"recGTiyx7VcxcUkRu\", \"base64_url\": \"aHR0cHM6Ly9kYXRhLnRyaWxsaXVtdHJhbnNpdC5jb20vZ3Rmcy9odW1ib2xkdGNvdW50eS1jYS11cy9odW1ib2xkdGNvdW50eS1jYS11cy56aXA=\", \"organization_source_record_id\": \"recynxkqEoo9dJEvw\", \"organization_name\": \"City of Eureka\", \"caltrans_district\": \"01 - Eureka\", \"rt_sched_journey_ratio_cat\": \"Late by 1-25% of the scheduled time\", \"frequency_cat\": \"<1 trip/hour\", \"vp_per_minute_cat\": \"3+ pings per minute (target)\", \"ruler_100_pct\": 100, \"ruler_for_vp_per_min\": 2, \"frequency_in_minutes\": 193.5483870967742, \"speed_mph_str\": \"0\"}, {\"schedule_gtfs_dataset_key\": \"a253a8d7acd57657bb98050f37dd6b0f\", \"direction_id\": 0.0, \"time_period\": \"Offpeak\", \"avg_scheduled_service_minutes\": 52.0, \"avg_stop_miles\": 0.19, \"n_scheduled_trips\": 5, \"frequency\": 0.31, \"service_date\": \"2024-01-17T00:00:00\", \"minutes_atleast1_vp\": 304, \"minutes_atleast2_vp\": 302, \"total_rt_service_minutes\": 300.16, \"total_scheduled_service_minutes\": 260.0, \"total_vp\": 906, \"vp_in_shape\": 906, \"is_early\": 0, \"is_ontime\": 0, \"is_late\": 5, \"n_vp_trips\": 5, \"vp_per_minute\": 3.02, \"pct_in_shape\": 100.0, \"pct_rt_journey_atleast1_vp\": 100.0, \"pct_rt_journey_atleast2_vp\": 100.0, \"pct_sched_journey_atleast1_vp\": 100.0, \"pct_sched_journey_atleast2_vp\": 100.0, \"rt_sched_journey_ratio\": 1.15, \"avg_rt_service_minutes\": 60.03, \"sched_rt_category\": \"schedule_and_vp\", \"speed_mph\": 0, \"name\": \"Humboldt Schedule\", \"route_long_name\": \"AMRTS Gold Route\", \"route_short_name\": \"A Gold\", \"route_combined_name\": \"AMRTS Gold Route\", \"route_id\": \"14\", \"typology\": \"rapid\", \"schedule_source_record_id\": \"recGTiyx7VcxcUkRu\", \"base64_url\": \"aHR0cHM6Ly9kYXRhLnRyaWxsaXVtdHJhbnNpdC5jb20vZ3Rmcy9odW1ib2xkdGNvdW50eS1jYS11cy9odW1ib2xkdGNvdW50eS1jYS11cy56aXA=\", \"organization_source_record_id\": \"recynxkqEoo9dJEvw\", \"organization_name\": \"City of Eureka\", \"caltrans_district\": \"01 - Eureka\", \"rt_sched_journey_ratio_cat\": \"Late by 1-25% of the scheduled time\", \"frequency_cat\": \"<1 trip/hour\", \"vp_per_minute_cat\": \"3+ pings per minute (target)\", \"ruler_100_pct\": 100, \"ruler_for_vp_per_min\": 2, \"frequency_in_minutes\": 193.5483870967742, \"speed_mph_str\": \"0\"}, {\"schedule_gtfs_dataset_key\": \"a253a8d7acd57657bb98050f37dd6b0f\", \"direction_id\": 0.0, \"time_period\": \"Offpeak\", \"avg_scheduled_service_minutes\": 52.0, \"avg_stop_miles\": 0.19, \"n_scheduled_trips\": 5, \"frequency\": 0.31, \"service_date\": \"2024-02-14T00:00:00\", \"minutes_atleast1_vp\": 306, \"minutes_atleast2_vp\": 304, \"total_rt_service_minutes\": 301.17, \"total_scheduled_service_minutes\": 260.0, \"total_vp\": 909, \"vp_in_shape\": 909, \"is_early\": 0, \"is_ontime\": 0, \"is_late\": 5, \"n_vp_trips\": 5, \"vp_per_minute\": 3.02, \"pct_in_shape\": 100.0, \"pct_rt_journey_atleast1_vp\": 100.0, \"pct_rt_journey_atleast2_vp\": 100.0, \"pct_sched_journey_atleast1_vp\": 100.0, \"pct_sched_journey_atleast2_vp\": 100.0, \"rt_sched_journey_ratio\": 1.16, \"avg_rt_service_minutes\": 60.23, \"sched_rt_category\": \"schedule_and_vp\", \"speed_mph\": 0, \"name\": \"Humboldt Schedule\", \"route_long_name\": \"AMRTS Gold Route\", \"route_short_name\": \"A Gold\", \"route_combined_name\": \"AMRTS Gold Route\", \"route_id\": \"14\", \"typology\": \"rapid\", \"schedule_source_record_id\": \"recGTiyx7VcxcUkRu\", \"base64_url\": \"aHR0cHM6Ly9kYXRhLnRyaWxsaXVtdHJhbnNpdC5jb20vZ3Rmcy9odW1ib2xkdGNvdW50eS1jYS11cy9odW1ib2xkdGNvdW50eS1jYS11cy56aXA=\", \"organization_source_record_id\": \"recynxkqEoo9dJEvw\", \"organization_name\": \"City of Eureka\", \"caltrans_district\": \"01 - Eureka\", \"rt_sched_journey_ratio_cat\": \"Late by 1-25% of the scheduled time\", \"frequency_cat\": \"<1 trip/hour\", \"vp_per_minute_cat\": \"3+ pings per minute (target)\", \"ruler_100_pct\": 100, \"ruler_for_vp_per_min\": 2, \"frequency_in_minutes\": 193.5483870967742, \"speed_mph_str\": \"0\"}, {\"schedule_gtfs_dataset_key\": \"a253a8d7acd57657bb98050f37dd6b0f\", \"direction_id\": 0.0, \"time_period\": \"Offpeak\", \"avg_scheduled_service_minutes\": 52.0, \"avg_stop_miles\": 0.19, \"n_scheduled_trips\": 5, \"frequency\": 0.31, \"service_date\": \"2024-03-13T00:00:00\", \"minutes_atleast1_vp\": 314, \"minutes_atleast2_vp\": 307, \"total_rt_service_minutes\": 310.42, \"total_scheduled_service_minutes\": 260.0, \"total_vp\": 924, \"vp_in_shape\": 924, \"is_early\": 0, \"is_ontime\": 0, \"is_late\": 5, \"n_vp_trips\": 5, \"vp_per_minute\": 2.98, \"pct_in_shape\": 100.0, \"pct_rt_journey_atleast1_vp\": 100.0, \"pct_rt_journey_atleast2_vp\": 99.0, \"pct_sched_journey_atleast1_vp\": 100.0, \"pct_sched_journey_atleast2_vp\": 100.0, \"rt_sched_journey_ratio\": 1.19, \"avg_rt_service_minutes\": 62.08, \"sched_rt_category\": \"schedule_and_vp\", \"speed_mph\": 0, \"name\": \"Humboldt Schedule\", \"route_long_name\": \"AMRTS Gold Route\", \"route_short_name\": \"A Gold\", \"route_combined_name\": \"AMRTS Gold Route\", \"route_id\": \"14\", \"typology\": \"rapid\", \"schedule_source_record_id\": \"recGTiyx7VcxcUkRu\", \"base64_url\": \"aHR0cHM6Ly9kYXRhLnRyaWxsaXVtdHJhbnNpdC5jb20vZ3Rmcy9odW1ib2xkdGNvdW50eS1jYS11cy9odW1ib2xkdGNvdW50eS1jYS11cy56aXA=\", \"organization_source_record_id\": \"recynxkqEoo9dJEvw\", \"organization_name\": \"City of Eureka\", \"caltrans_district\": \"01 - Eureka\", \"rt_sched_journey_ratio_cat\": \"Late by 1-25% of the scheduled time\", \"frequency_cat\": \"<1 trip/hour\", \"vp_per_minute_cat\": \"<3 pings/minute\", \"ruler_100_pct\": 100, \"ruler_for_vp_per_min\": 2, \"frequency_in_minutes\": 193.5483870967742, \"speed_mph_str\": \"0\"}, {\"schedule_gtfs_dataset_key\": \"a253a8d7acd57657bb98050f37dd6b0f\", \"direction_id\": 0.0, \"time_period\": \"Offpeak\", \"avg_scheduled_service_minutes\": 52.0, \"avg_stop_miles\": 0.19, \"n_scheduled_trips\": 5, \"frequency\": 0.31, \"service_date\": \"2024-04-17T00:00:00\", \"minutes_atleast1_vp\": 303, \"minutes_atleast2_vp\": 300, \"total_rt_service_minutes\": 298.65, \"total_scheduled_service_minutes\": 260.0, \"total_vp\": 901, \"vp_in_shape\": 901, \"is_early\": 0, \"is_ontime\": 0, \"is_late\": 5, \"n_vp_trips\": 5, \"vp_per_minute\": 3.02, \"pct_in_shape\": 100.0, \"pct_rt_journey_atleast1_vp\": 100.0, \"pct_rt_journey_atleast2_vp\": 100.0, \"pct_sched_journey_atleast1_vp\": 100.0, \"pct_sched_journey_atleast2_vp\": 100.0, \"rt_sched_journey_ratio\": 1.15, \"avg_rt_service_minutes\": 59.73, \"sched_rt_category\": \"schedule_and_vp\", \"speed_mph\": 0, \"name\": \"Humboldt Schedule\", \"route_long_name\": \"AMRTS Gold Route\", \"route_short_name\": \"A Gold\", \"route_combined_name\": \"AMRTS Gold Route\", \"route_id\": \"14\", \"typology\": \"rapid\", \"schedule_source_record_id\": \"recGTiyx7VcxcUkRu\", \"base64_url\": \"aHR0cHM6Ly9kYXRhLnRyaWxsaXVtdHJhbnNpdC5jb20vZ3Rmcy9odW1ib2xkdGNvdW50eS1jYS11cy9odW1ib2xkdGNvdW50eS1jYS11cy56aXA=\", \"organization_source_record_id\": \"recynxkqEoo9dJEvw\", \"organization_name\": \"City of Eureka\", \"caltrans_district\": \"01 - Eureka\", \"rt_sched_journey_ratio_cat\": \"Late by 1-25% of the scheduled time\", \"frequency_cat\": \"<1 trip/hour\", \"vp_per_minute_cat\": \"3+ pings per minute (target)\", \"ruler_100_pct\": 100, \"ruler_for_vp_per_min\": 2, \"frequency_in_minutes\": 193.5483870967742, \"speed_mph_str\": \"0\"}, {\"schedule_gtfs_dataset_key\": \"a253a8d7acd57657bb98050f37dd6b0f\", \"direction_id\": 0.0, \"time_period\": \"Peak\", \"avg_scheduled_service_minutes\": 52.0, \"avg_stop_miles\": 0.2, \"n_scheduled_trips\": 7, \"frequency\": 0.88, \"service_date\": \"2023-11-15T00:00:00\", \"minutes_atleast1_vp\": 410, \"minutes_atleast2_vp\": 405, \"total_rt_service_minutes\": 403.81, \"total_scheduled_service_minutes\": 364.0, \"total_vp\": 1217, \"vp_in_shape\": 1217, \"is_early\": 0, \"is_ontime\": 2, \"is_late\": 5, \"n_vp_trips\": 7, \"vp_per_minute\": 3.01, \"pct_in_shape\": 100.0, \"pct_rt_journey_atleast1_vp\": 100.0, \"pct_rt_journey_atleast2_vp\": 100.0, \"pct_sched_journey_atleast1_vp\": 100.0, \"pct_sched_journey_atleast2_vp\": 100.0, \"rt_sched_journey_ratio\": 1.11, \"avg_rt_service_minutes\": 57.69, \"sched_rt_category\": \"schedule_and_vp\", \"speed_mph\": 15, \"name\": \"Humboldt Schedule\", \"route_long_name\": \"AMRTS Gold Route\", \"route_short_name\": \"A Gold\", \"route_combined_name\": \"AMRTS Gold Route\", \"route_id\": \"14\", \"typology\": \"rapid\", \"schedule_source_record_id\": \"recGTiyx7VcxcUkRu\", \"base64_url\": \"aHR0cHM6Ly9kYXRhLnRyaWxsaXVtdHJhbnNpdC5jb20vZ3Rmcy9odW1ib2xkdGNvdW50eS1jYS11cy9odW1ib2xkdGNvdW50eS1jYS11cy56aXA=\", \"organization_source_record_id\": \"recynxkqEoo9dJEvw\", \"organization_name\": \"City of Eureka\", \"caltrans_district\": \"01 - Eureka\", \"rt_sched_journey_ratio_cat\": \"Late by 1-25% of the scheduled time\", \"frequency_cat\": \"<1 trip/hour\", \"vp_per_minute_cat\": \"3+ pings per minute (target)\", \"ruler_100_pct\": 100, \"ruler_for_vp_per_min\": 2, \"frequency_in_minutes\": 68.18181818181819, \"speed_mph_str\": \"15\"}, {\"schedule_gtfs_dataset_key\": \"a253a8d7acd57657bb98050f37dd6b0f\", \"direction_id\": 0.0, \"time_period\": \"Peak\", \"avg_scheduled_service_minutes\": 52.0, \"avg_stop_miles\": 0.2, \"n_scheduled_trips\": 7, \"frequency\": 0.88, \"service_date\": \"2023-12-13T00:00:00\", \"minutes_atleast1_vp\": 400, \"minutes_atleast2_vp\": 398, \"total_rt_service_minutes\": 404.59, \"total_scheduled_service_minutes\": 364.0, \"total_vp\": 1193, \"vp_in_shape\": 1193, \"is_early\": 0, \"is_ontime\": 1, \"is_late\": 6, \"n_vp_trips\": 7, \"vp_per_minute\": 2.95, \"pct_in_shape\": 100.0, \"pct_rt_journey_atleast1_vp\": 99.0, \"pct_rt_journey_atleast2_vp\": 98.0, \"pct_sched_journey_atleast1_vp\": 100.0, \"pct_sched_journey_atleast2_vp\": 100.0, \"rt_sched_journey_ratio\": 1.11, \"avg_rt_service_minutes\": 57.8, \"sched_rt_category\": \"schedule_and_vp\", \"speed_mph\": 0, \"name\": \"Humboldt Schedule\", \"route_long_name\": \"AMRTS Gold Route\", \"route_short_name\": \"A Gold\", \"route_combined_name\": \"AMRTS Gold Route\", \"route_id\": \"14\", \"typology\": \"rapid\", \"schedule_source_record_id\": \"recGTiyx7VcxcUkRu\", \"base64_url\": \"aHR0cHM6Ly9kYXRhLnRyaWxsaXVtdHJhbnNpdC5jb20vZ3Rmcy9odW1ib2xkdGNvdW50eS1jYS11cy9odW1ib2xkdGNvdW50eS1jYS11cy56aXA=\", \"organization_source_record_id\": \"recynxkqEoo9dJEvw\", \"organization_name\": \"City of Eureka\", \"caltrans_district\": \"01 - Eureka\", \"rt_sched_journey_ratio_cat\": \"Late by 1-25% of the scheduled time\", \"frequency_cat\": \"<1 trip/hour\", \"vp_per_minute_cat\": \"<3 pings/minute\", \"ruler_100_pct\": 100, \"ruler_for_vp_per_min\": 2, \"frequency_in_minutes\": 68.18181818181819, \"speed_mph_str\": \"0\"}, {\"schedule_gtfs_dataset_key\": \"a253a8d7acd57657bb98050f37dd6b0f\", \"direction_id\": 0.0, \"time_period\": \"Peak\", \"avg_scheduled_service_minutes\": 52.0, \"avg_stop_miles\": 0.19, \"n_scheduled_trips\": 7, \"frequency\": 0.88, \"service_date\": \"2024-01-17T00:00:00\", \"minutes_atleast1_vp\": 428, \"minutes_atleast2_vp\": 421, \"total_rt_service_minutes\": 419.97, \"total_scheduled_service_minutes\": 364.0, \"total_vp\": 1267, \"vp_in_shape\": 1267, \"is_early\": 0, \"is_ontime\": 1, \"is_late\": 6, \"n_vp_trips\": 7, \"vp_per_minute\": 3.02, \"pct_in_shape\": 100.0, \"pct_rt_journey_atleast1_vp\": 100.0, \"pct_rt_journey_atleast2_vp\": 100.0, \"pct_sched_journey_atleast1_vp\": 100.0, \"pct_sched_journey_atleast2_vp\": 100.0, \"rt_sched_journey_ratio\": 1.15, \"avg_rt_service_minutes\": 60.0, \"sched_rt_category\": \"schedule_and_vp\", \"speed_mph\": 0, \"name\": \"Humboldt Schedule\", \"route_long_name\": \"AMRTS Gold Route\", \"route_short_name\": \"A Gold\", \"route_combined_name\": \"AMRTS Gold Route\", \"route_id\": \"14\", \"typology\": \"rapid\", \"schedule_source_record_id\": \"recGTiyx7VcxcUkRu\", \"base64_url\": \"aHR0cHM6Ly9kYXRhLnRyaWxsaXVtdHJhbnNpdC5jb20vZ3Rmcy9odW1ib2xkdGNvdW50eS1jYS11cy9odW1ib2xkdGNvdW50eS1jYS11cy56aXA=\", \"organization_source_record_id\": \"recynxkqEoo9dJEvw\", \"organization_name\": \"City of Eureka\", \"caltrans_district\": \"01 - Eureka\", \"rt_sched_journey_ratio_cat\": \"Late by 1-25% of the scheduled time\", \"frequency_cat\": \"<1 trip/hour\", \"vp_per_minute_cat\": \"3+ pings per minute (target)\", \"ruler_100_pct\": 100, \"ruler_for_vp_per_min\": 2, \"frequency_in_minutes\": 68.18181818181819, \"speed_mph_str\": \"0\"}, {\"schedule_gtfs_dataset_key\": \"a253a8d7acd57657bb98050f37dd6b0f\", \"direction_id\": 0.0, \"time_period\": \"Peak\", \"avg_scheduled_service_minutes\": 52.0, \"avg_stop_miles\": 0.19, \"n_scheduled_trips\": 7, \"frequency\": 0.88, \"service_date\": \"2024-02-14T00:00:00\", \"minutes_atleast1_vp\": 410, \"minutes_atleast2_vp\": 405, \"total_rt_service_minutes\": 402.57, \"total_scheduled_service_minutes\": 364.0, \"total_vp\": 1215, \"vp_in_shape\": 1215, \"is_early\": 1, \"is_ontime\": 0, \"is_late\": 6, \"n_vp_trips\": 7, \"vp_per_minute\": 3.02, \"pct_in_shape\": 100.0, \"pct_rt_journey_atleast1_vp\": 100.0, \"pct_rt_journey_atleast2_vp\": 100.0, \"pct_sched_journey_atleast1_vp\": 100.0, \"pct_sched_journey_atleast2_vp\": 100.0, \"rt_sched_journey_ratio\": 1.11, \"avg_rt_service_minutes\": 57.51, \"sched_rt_category\": \"schedule_and_vp\", \"speed_mph\": 15, \"name\": \"Humboldt Schedule\", \"route_long_name\": \"AMRTS Gold Route\", \"route_short_name\": \"A Gold\", \"route_combined_name\": \"AMRTS Gold Route\", \"route_id\": \"14\", \"typology\": \"rapid\", \"schedule_source_record_id\": \"recGTiyx7VcxcUkRu\", \"base64_url\": \"aHR0cHM6Ly9kYXRhLnRyaWxsaXVtdHJhbnNpdC5jb20vZ3Rmcy9odW1ib2xkdGNvdW50eS1jYS11cy9odW1ib2xkdGNvdW50eS1jYS11cy56aXA=\", \"organization_source_record_id\": \"recynxkqEoo9dJEvw\", \"organization_name\": \"City of Eureka\", \"caltrans_district\": \"01 - Eureka\", \"rt_sched_journey_ratio_cat\": \"Late by 1-25% of the scheduled time\", \"frequency_cat\": \"<1 trip/hour\", \"vp_per_minute_cat\": \"3+ pings per minute (target)\", \"ruler_100_pct\": 100, \"ruler_for_vp_per_min\": 2, \"frequency_in_minutes\": 68.18181818181819, \"speed_mph_str\": \"15\"}, {\"schedule_gtfs_dataset_key\": \"a253a8d7acd57657bb98050f37dd6b0f\", \"direction_id\": 0.0, \"time_period\": \"Peak\", \"avg_scheduled_service_minutes\": 52.0, \"avg_stop_miles\": 0.19, \"n_scheduled_trips\": 7, \"frequency\": 0.88, \"service_date\": \"2024-03-13T00:00:00\", \"minutes_atleast1_vp\": 403, \"minutes_atleast2_vp\": 394, \"total_rt_service_minutes\": 398.63, \"total_scheduled_service_minutes\": 364.0, \"total_vp\": 1187, \"vp_in_shape\": 1180, \"is_early\": 0, \"is_ontime\": 3, \"is_late\": 4, \"n_vp_trips\": 7, \"vp_per_minute\": 2.98, \"pct_in_shape\": 99.0, \"pct_rt_journey_atleast1_vp\": 100.0, \"pct_rt_journey_atleast2_vp\": 99.0, \"pct_sched_journey_atleast1_vp\": 100.0, \"pct_sched_journey_atleast2_vp\": 100.0, \"rt_sched_journey_ratio\": 1.1, \"avg_rt_service_minutes\": 56.95, \"sched_rt_category\": \"schedule_and_vp\", \"speed_mph\": 0, \"name\": \"Humboldt Schedule\", \"route_long_name\": \"AMRTS Gold Route\", \"route_short_name\": \"A Gold\", \"route_combined_name\": \"AMRTS Gold Route\", \"route_id\": \"14\", \"typology\": \"rapid\", \"schedule_source_record_id\": \"recGTiyx7VcxcUkRu\", \"base64_url\": \"aHR0cHM6Ly9kYXRhLnRyaWxsaXVtdHJhbnNpdC5jb20vZ3Rmcy9odW1ib2xkdGNvdW50eS1jYS11cy9odW1ib2xkdGNvdW50eS1jYS11cy56aXA=\", \"organization_source_record_id\": \"recynxkqEoo9dJEvw\", \"organization_name\": \"City of Eureka\", \"caltrans_district\": \"01 - Eureka\", \"rt_sched_journey_ratio_cat\": \"Late by 1-25% of the scheduled time\", \"frequency_cat\": \"<1 trip/hour\", \"vp_per_minute_cat\": \"<3 pings/minute\", \"ruler_100_pct\": 100, \"ruler_for_vp_per_min\": 2, \"frequency_in_minutes\": 68.18181818181819, \"speed_mph_str\": \"0\"}, {\"schedule_gtfs_dataset_key\": \"a253a8d7acd57657bb98050f37dd6b0f\", \"direction_id\": 0.0, \"time_period\": \"Peak\", \"avg_scheduled_service_minutes\": 52.0, \"avg_stop_miles\": 0.19, \"n_scheduled_trips\": 7, \"frequency\": 0.88, \"service_date\": \"2024-04-17T00:00:00\", \"minutes_atleast1_vp\": 411, \"minutes_atleast2_vp\": 407, \"total_rt_service_minutes\": 405.13, \"total_scheduled_service_minutes\": 364.0, \"total_vp\": 1218, \"vp_in_shape\": 1217, \"is_early\": 0, \"is_ontime\": 1, \"is_late\": 6, \"n_vp_trips\": 7, \"vp_per_minute\": 3.01, \"pct_in_shape\": 100.0, \"pct_rt_journey_atleast1_vp\": 100.0, \"pct_rt_journey_atleast2_vp\": 100.0, \"pct_sched_journey_atleast1_vp\": 100.0, \"pct_sched_journey_atleast2_vp\": 100.0, \"rt_sched_journey_ratio\": 1.11, \"avg_rt_service_minutes\": 57.88, \"sched_rt_category\": \"schedule_and_vp\", \"speed_mph\": 14, \"name\": \"Humboldt Schedule\", \"route_long_name\": \"AMRTS Gold Route\", \"route_short_name\": \"A Gold\", \"route_combined_name\": \"AMRTS Gold Route\", \"route_id\": \"14\", \"typology\": \"rapid\", \"schedule_source_record_id\": \"recGTiyx7VcxcUkRu\", \"base64_url\": \"aHR0cHM6Ly9kYXRhLnRyaWxsaXVtdHJhbnNpdC5jb20vZ3Rmcy9odW1ib2xkdGNvdW50eS1jYS11cy9odW1ib2xkdGNvdW50eS1jYS11cy56aXA=\", \"organization_source_record_id\": \"recynxkqEoo9dJEvw\", \"organization_name\": \"City of Eureka\", \"caltrans_district\": \"01 - Eureka\", \"rt_sched_journey_ratio_cat\": \"Late by 1-25% of the scheduled time\", \"frequency_cat\": \"<1 trip/hour\", \"vp_per_minute_cat\": \"3+ pings per minute (target)\", \"ruler_100_pct\": 100, \"ruler_for_vp_per_min\": 2, \"frequency_in_minutes\": 68.18181818181819, \"speed_mph_str\": \"14\"}]}}, {\"mode\": \"vega-lite\"});\n",
       "</script>"
      ],
      "text/plain": [
       "alt.FacetChart(...)"
      ]
     },
     "execution_count": 34,
     "metadata": {},
     "output_type": "execute_result"
    }
   ],
   "source": [
    "section3.base_facet_line(\n",
    "    one_route,\n",
    "    \"speed_mph\",\n",
    "    \"Average Speed\",\n",
    "    \"The average miles per hour the bus travels by direction and time of day.\",\n",
    ")"
   ]
  },
  {
   "cell_type": "markdown",
   "id": "9dce71b7-204d-42ca-bcb4-13cd3171a387",
   "metadata": {},
   "source": [
    "#### VP per Minute (WIP)\n",
    "* Heatmap too confusing & detailed"
   ]
  },
  {
   "cell_type": "code",
   "execution_count": 35,
   "id": "7a6f181d-5223-4e2f-904f-d279a250a92b",
   "metadata": {},
   "outputs": [],
   "source": [
    "def add_background():\n",
    "    # Sample data\n",
    "    data = pd.DataFrame(\n",
    "        {\n",
    "            \"x\": range(9),\n",
    "            \"y\": [\n",
    "                0,\n",
    "                0.5,\n",
    "                1.5,\n",
    "                2.5,\n",
    "                3.5,\n",
    "                2,\n",
    "                1,\n",
    "                3,\n",
    "                4,\n",
    "            ],\n",
    "        }\n",
    "    )\n",
    "\n",
    "    # Background rectangle for color bands\n",
    "    bg_chart = (\n",
    "        alt.Chart(data)\n",
    "        .mark_rect()\n",
    "        .encode(\n",
    "            y=alt.Y(\"y:Q\", axis=None),\n",
    "            y2=\"y2:Q\",\n",
    "            color=alt.Color(\"y:Q\", scale=alt.Scale(range=red_green_yellow)),\n",
    "            opacity=alt.value(0.2),  # Adjust opacity as needed\n",
    "        )\n",
    "        .transform_calculate(y2=\"datum.y + 1\")\n",
    "    )\n",
    "\n",
    "    return bg_chart"
   ]
  },
  {
   "cell_type": "code",
   "execution_count": 41,
   "id": "7bb68aad-4a3b-420e-b793-ec016434477b",
   "metadata": {},
   "outputs": [
    {
     "ename": "TypeError",
     "evalue": "base_facet_with_ruler_chart() missing 1 required positional argument: 'palette'",
     "output_type": "error",
     "traceback": [
      "\u001b[0;31m---------------------------------------------------------------------------\u001b[0m",
      "\u001b[0;31mTypeError\u001b[0m                                 Traceback (most recent call last)",
      "Cell \u001b[0;32mIn[41], line 1\u001b[0m\n\u001b[0;32m----> 1\u001b[0m \u001b[43msection3\u001b[49m\u001b[38;5;241;43m.\u001b[39;49m\u001b[43mbase_facet_with_ruler_chart\u001b[49m\u001b[43m(\u001b[49m\n\u001b[1;32m      2\u001b[0m \u001b[43m                \u001b[49m\u001b[43mone_route\u001b[49m\u001b[38;5;241;43m.\u001b[39;49m\u001b[43mdrop_duplicates\u001b[49m\u001b[43m(\u001b[49m\u001b[43m)\u001b[49m\u001b[43m,\u001b[49m\n\u001b[1;32m      3\u001b[0m \u001b[43m                \u001b[49m\u001b[38;5;124;43m\"\u001b[39;49m\u001b[38;5;124;43mvp_per_minute\u001b[39;49m\u001b[38;5;124;43m\"\u001b[39;49m\u001b[43m,\u001b[49m\n\u001b[1;32m      4\u001b[0m \u001b[43m                \u001b[49m\u001b[38;5;124;43m\"\u001b[39;49m\u001b[38;5;124;43mruler_for_vp_per_min\u001b[39;49m\u001b[38;5;124;43m\"\u001b[39;49m\u001b[43m,\u001b[49m\n\u001b[1;32m      5\u001b[0m \u001b[43m                \u001b[49m\u001b[43mreadable_dict\u001b[49m\u001b[43m[\u001b[49m\u001b[38;5;124;43m'\u001b[39;49m\u001b[38;5;124;43mvp_per_min\u001b[39;49m\u001b[38;5;124;43m'\u001b[39;49m\u001b[43m]\u001b[49m\u001b[43m[\u001b[49m\u001b[38;5;124;43m'\u001b[39;49m\u001b[38;5;124;43mtitle\u001b[39;49m\u001b[38;5;124;43m'\u001b[39;49m\u001b[43m]\u001b[49m\u001b[43m,\u001b[49m\n\u001b[1;32m      6\u001b[0m \u001b[43m                \u001b[49m\u001b[43mreadable_dict\u001b[49m\u001b[43m[\u001b[49m\u001b[38;5;124;43m'\u001b[39;49m\u001b[38;5;124;43mvp_per_min\u001b[39;49m\u001b[38;5;124;43m'\u001b[39;49m\u001b[43m]\u001b[49m\u001b[43m[\u001b[49m\u001b[38;5;124;43m'\u001b[39;49m\u001b[38;5;124;43msubtitle\u001b[39;49m\u001b[38;5;124;43m'\u001b[39;49m\u001b[43m]\u001b[49m\u001b[43m,\u001b[49m\n\u001b[1;32m      7\u001b[0m \u001b[43m    \u001b[49m\n\u001b[1;32m      8\u001b[0m \u001b[43m            \u001b[49m\u001b[43m)\u001b[49m\n",
      "\u001b[0;31mTypeError\u001b[0m: base_facet_with_ruler_chart() missing 1 required positional argument: 'palette'"
     ]
    }
   ],
   "source": [
    "section3.base_facet_with_ruler_chart(\n",
    "                one_route.drop_duplicates(),\n",
    "                \"vp_per_minute\",\n",
    "                \"ruler_for_vp_per_min\",\n",
    "                readable_dict['vp_per_min']['title'],\n",
    "                readable_dict['vp_per_min']['subtitle'],\n",
    "    \n",
    "            )"
   ]
  },
  {
   "cell_type": "markdown",
   "id": "85b97563-102f-4f3b-a270-26df18ed6092",
   "metadata": {},
   "source": [
    "#### Spatial Accuracy (Done)\n",
    "* Multiple it by 100? Should this be rounded or not?"
   ]
  },
  {
   "cell_type": "code",
   "execution_count": null,
   "id": "c1f2acbb-687e-42e1-b6e4-e0ac02d87f97",
   "metadata": {},
   "outputs": [],
   "source": [
    "section3.base_facet_with_ruler_chart(\n",
    "    one_route.loc[one_route.time_period == \"all_day\"].drop_duplicates(),\n",
    "    \"pct_in_shape\",\n",
    "    \"ruler_100_pct\",\n",
    "    \"Spatial Accuracy\",\n",
    "    \"The percentage of vehicle positions that fall within the static scheduled route shape reflects the accuracy of the spatial, realtime data.\",\n",
    ")"
   ]
  },
  {
   "cell_type": "markdown",
   "id": "b4e77620-cb0e-4388-88ef-36e9640b043d",
   "metadata": {},
   "source": [
    "#### % RT journey with 1+/2+ vp (goal line = 100%) - use all_day, one chart shared for 1+ and 2+ (Done need subtitle)"
   ]
  },
  {
   "cell_type": "code",
   "execution_count": null,
   "id": "d92d1eb7-8e6d-4cfd-a0e2-dbc093281065",
   "metadata": {},
   "outputs": [],
   "source": [
    "def pct_vp_journey(df: pd.DataFrame, col1: str, col2: str) -> pd.DataFrame:\n",
    "    to_keep = [\n",
    "        \"service_date\",\n",
    "        \"organization_name\",\n",
    "        \"direction_id\",\n",
    "        col1,\n",
    "        col2,\n",
    "        \"route_combined_name\",\n",
    "        \"time_period\",\n",
    "        \"route_id\",\n",
    "        \"ruler_100_pct\",\n",
    "    ]\n",
    "    df2 = df[to_keep]\n",
    "\n",
    "    df3 = df2.melt(\n",
    "        id_vars=[\n",
    "            \"service_date\",\n",
    "            \"organization_name\",\n",
    "            \"route_combined_name\",\n",
    "            \"direction_id\",\n",
    "            \"time_period\",\n",
    "            \"route_id\",\n",
    "            \"ruler_100_pct\",\n",
    "        ],\n",
    "        value_vars=[col1, col2],\n",
    "    )\n",
    "\n",
    "    return df3"
   ]
  },
  {
   "cell_type": "code",
   "execution_count": null,
   "id": "2966643d-43ac-4444-9d76-3457408b6c62",
   "metadata": {},
   "outputs": [],
   "source": [
    "pct_rt = pct_vp_journey(\n",
    "    one_route, \"pct_rt_journey_atleast1_vp\", \"pct_rt_journey_atleast2_vp\"\n",
    ")"
   ]
  },
  {
   "cell_type": "markdown",
   "id": "48595e43-4912-47dd-b587-cff54cfdf363",
   "metadata": {
    "toc-hr-collapsed": true
   },
   "source": [
    "#### % schedule journey with 1+/2+ vp (goal line = 100%) - use all_day, one chart shared for 1+ and 2+ (Done need subtitle)"
   ]
  },
  {
   "cell_type": "code",
   "execution_count": null,
   "id": "e2430acf-9b18-43d2-a8f3-91d86dd3f747",
   "metadata": {},
   "outputs": [],
   "source": [
    "schd_rt = pct_vp_journey(\n",
    "    one_route, \"pct_sched_journey_atleast1_vp\", \"pct_sched_journey_atleast2_vp\"\n",
    ")"
   ]
  },
  {
   "cell_type": "code",
   "execution_count": null,
   "id": "e87020b6-652b-43bb-b1ac-b42d84e2d1ae",
   "metadata": {},
   "outputs": [],
   "source": [
    "\"\"\" base_facet_circle(\n",
    "    schd_rt.loc[schd_rt.time_period == \"all_day\"],\n",
    "    \"value\",\n",
    "    \"ruler_100_pct\",\n",
    "    \"Percentage of Scheduled Trips with 1+ and 2+ Vehicle Positions\",\n",
    "    \"The goal is for almost 100% of trips to have 2 or more Vehicle Positions per minute.\",\n",
    ")\"\"\""
   ]
  },
  {
   "cell_type": "markdown",
   "id": "4749520b-8d3f-4c61-908d-98a612283fdd",
   "metadata": {
    "tags": []
   },
   "source": [
    "#### Number of trips by sched_vp_category (/operator_schedule_rt_category)\n",
    "* Why is the crosswalk missing SBMTD schedule??"
   ]
  },
  {
   "cell_type": "code",
   "execution_count": null,
   "id": "e35701ca-3d38-4b78-b974-fd56f0b7b74b",
   "metadata": {},
   "outputs": [],
   "source": [
    "op_sched_rt_cat = pd.read_parquet(\n",
    "    f\"{RT_SCHED_GCS}digest/operator_schedule_rt_category.parquet\"\n",
    ")"
   ]
  },
  {
   "cell_type": "code",
   "execution_count": null,
   "id": "e76e9252-95a7-44ac-ab34-496935d9600d",
   "metadata": {},
   "outputs": [],
   "source": [
    "list(df.schedule_gtfs_dataset_key.unique())"
   ]
  },
  {
   "cell_type": "code",
   "execution_count": null,
   "id": "f285a7fe-a525-42a4-a954-ab2573c0e14b",
   "metadata": {},
   "outputs": [],
   "source": [
    "test = section3.load_operator_schedule_rt_category(\"de792182088eecc3d5c0bd3f1df62965\")"
   ]
  },
  {
   "cell_type": "code",
   "execution_count": null,
   "id": "fc52dcb7-bebb-46c8-878c-860b129784f6",
   "metadata": {},
   "outputs": [],
   "source": [
    "op_sched_rt_cat.schedule_gtfs_dataset_key.nunique()"
   ]
  },
  {
   "cell_type": "code",
   "execution_count": null,
   "id": "1b602f55-eda4-4363-af8b-a24efb140db1",
   "metadata": {},
   "outputs": [],
   "source": [
    "def basic_bar_chart(\n",
    "    df: pd.DataFrame, y_col: str, color_col: str, title: str, subtitle: str\n",
    "):\n",
    "    chart = (\n",
    "        alt.Chart(df)\n",
    "        .mark_bar()\n",
    "        .encode(\n",
    "            x=alt.X(\n",
    "                f\"yearmonthdate(service_date):O\",\n",
    "                title=\"Service Date\",\n",
    "                axis=alt.Axis(format=\"%b %Y\"),\n",
    "            ),\n",
    "            y=alt.Y(f\"{y_col}:Q\", title=labeling(y_col)),\n",
    "            color=alt.Color(\n",
    "                f\"{color_col}:N\",\n",
    "                scale=alt.Scale(\n",
    "                    range=cp.CALITP_SEQUENTIAL_COLORS,\n",
    "                ),\n",
    "            ),\n",
    "            tooltip=df.columns.tolist(),\n",
    "        )\n",
    "    ).properties(\n",
    "        title={\n",
    "            \"text\": title,\n",
    "            \"subtitle\": subtitle,\n",
    "        },\n",
    "        width=500,\n",
    "        height=300,\n",
    "    )\n",
    "    return chart"
   ]
  },
  {
   "cell_type": "code",
   "execution_count": null,
   "id": "59686254-f0f9-413e-8724-bc22931b3b59",
   "metadata": {},
   "outputs": [],
   "source": [
    "\"\"\"basic_bar_chart(\n",
    "    op_sched_rt_cat,\n",
    "    \"n_trips\",\n",
    "    \"sched_rt_category\",\n",
    "    \"Trips that were found in GTFS, Schedule, or Both Data Sources\",\n",
    "    \"\",\n",
    ") \"\"\""
   ]
  },
  {
   "cell_type": "markdown",
   "id": "b14d8827-083f-4057-a5db-b71b63ac1dee",
   "metadata": {},
   "source": [
    "#### Text"
   ]
  },
  {
   "cell_type": "code",
   "execution_count": null,
   "id": "0a7654f3-aa39-4a7a-aa99-a46e82283946",
   "metadata": {},
   "outputs": [],
   "source": [
    "table_df = section3.route_stats(one_route)"
   ]
  },
  {
   "cell_type": "code",
   "execution_count": null,
   "id": "3d8ee8c7-d3fd-4930-a71e-eb4e4f9f250a",
   "metadata": {},
   "outputs": [],
   "source": [
    "section3.create_text_table(table_df, 0)"
   ]
  },
  {
   "cell_type": "code",
   "execution_count": null,
   "id": "8873e9da-1743-4d91-820c-88123819146c",
   "metadata": {},
   "outputs": [],
   "source": [
    "section3.create_text_table(table_df, 1)"
   ]
  },
  {
   "cell_type": "code",
   "execution_count": null,
   "id": "169358bb-ef91-42fc-a4d4-bb8329d3cc78",
   "metadata": {},
   "outputs": [],
   "source": [
    "routes_list = df[\"route_combined_name\"].drop_duplicates().tolist()\n",
    "   \n",
    "dropdown = alt.binding_select(\n",
    "    options=routes_list,\n",
    "    name='Select Route')"
   ]
  },
  {
   "cell_type": "code",
   "execution_count": null,
   "id": "be30cef9-10fd-4c35-ae9d-b4ec1f7c3dd3",
   "metadata": {},
   "outputs": [],
   "source": [
    "routes_list[0]"
   ]
  },
  {
   "cell_type": "code",
   "execution_count": null,
   "id": "ac87670a-5651-4df7-b164-b1b91243739a",
   "metadata": {},
   "outputs": [],
   "source": [
    "xcol_param = alt.param(\n",
    "    value='AMRTS Red Route',\n",
    "    bind=dropdown)"
   ]
  },
  {
   "cell_type": "code",
   "execution_count": null,
   "id": "919039da-1325-4a64-aa65-62b883cc0609",
   "metadata": {},
   "outputs": [],
   "source": [
    "section3.base_facet_with_ruler_chart(\n",
    "    df.loc[df.time_period == \"all_day\"].drop_duplicates(),\n",
    "    \"pct_in_shape\",\n",
    "    \"ruler_100_pct\",\n",
    "    \"Spatial Accuracy\",\n",
    "    \"The percentage of vehicle positions that fall within the static scheduled route shape reflects the accuracy of the spatial, realtime data.\",\n",
    ").transform_calculate(\n",
    "    x=f'datum[{xcol_param.name}]'\n",
    ").add_params(\n",
    "    xcol_param\n",
    ")\n"
   ]
  },
  {
   "cell_type": "markdown",
   "id": "6fc21ac6-f52f-4f7b-929d-3d439f9f087f",
   "metadata": {},
   "source": [
    "#### Putting it all together"
   ]
  },
  {
   "cell_type": "code",
   "execution_count": null,
   "id": "06f6f21a-96aa-4a33-9b6d-d36bd4bea7ee",
   "metadata": {},
   "outputs": [],
   "source": [
    "def filtered_route(\n",
    "    df: pd.DataFrame,\n",
    ") -> alt.Chart:\n",
    "    \"\"\"\n",
    "    https://stackoverflow.com/questions/58919888/multiple-selections-in-altair\n",
    "    \"\"\"\n",
    "    \n",
    "    routes_list = df[\"route_combined_name\"].unique().tolist()\n",
    "\n",
    "    route_dropdown = alt.binding_select(\n",
    "        options=routes_list,\n",
    "        name=\"Routes\",\n",
    "    )\n",
    "\n",
    "    # Column that controls the bar charts\n",
    "    route_selector = alt.selection_point(\n",
    "        fields=[\"route_combined_name\"],\n",
    "        bind=route_dropdown,\n",
    "    )\n",
    "\n",
    "    # Filter for only rows categorized as found in schedule and vp and all_day\n",
    "    all_day = df.loc[\n",
    "        df.time_period == \"all_day\"\n",
    "    ].reset_index(drop=True)\n",
    "\n",
    "    # Create route stats table for the text tables\n",
    "    route_stats_df = section3.route_stats(df)\n",
    "\n",
    "    # Manipulate the df for some of the metrics\n",
    "    timeliness_df = section3.timeliness_trips(df)\n",
    "    rt_journey_vp = section3.pct_vp_journey(\n",
    "        all_day, \"pct_rt_journey_atleast1_vp\", \"pct_rt_journey_atleast2_vp\"\n",
    "    )\n",
    "    sched_journey_vp = section3.pct_vp_journey(\n",
    "        all_day, \"pct_sched_journey_atleast1_vp\", \"pct_sched_journey_atleast2_vp\"\n",
    "    )\n",
    "\n",
    "    # Charts\n",
    "    avg_scheduled_min = (\n",
    "        section3.grouped_bar_chart(\n",
    "            df=all_day,\n",
    "            color_col=\"direction_id\",\n",
    "            y_col=\"avg_scheduled_service_minutes\",\n",
    "            offset_col=\"direction_id\",\n",
    "            title=\"Average Scheduled Minutes\",\n",
    "            subtitle=\"The average minutes a trip is scheduled to run.\",\n",
    "        )\n",
    "        .add_params(route_selector)\n",
    "        .transform_filter(route_selector)\n",
    "    )\n",
    "\n",
    "    timeliness_trips_dir_0 = (\n",
    "        (\n",
    "            section3.base_facet_chart(\n",
    "                timeliness_df.loc[timeliness_df.direction_id == 0],\n",
    "                \"value\",\n",
    "                \"variable\",\n",
    "                \"time_period\",\n",
    "                \"Breakdown of Trips by Categories for Direction 0\",\n",
    "                \"Categorizing whether a trip is early, late, or ontime. A trip is on time if it arrives 5 minutes later or earlier than scheduled.\",\n",
    "            )\n",
    "        )\n",
    "        .add_params(route_selector)\n",
    "        .transform_filter(route_selector)\n",
    "    )\n",
    "    timeliness_trips_dir_1 = (\n",
    "        (\n",
    "            section3.base_facet_chart(\n",
    "                timeliness_df.loc[timeliness_df.direction_id == 1],\n",
    "                \"value\",\n",
    "                \"variable\",\n",
    "                \"time_period\",\n",
    "                \"Breakdown of Trips by Categories for Direction 1\",\n",
    "                \"Categorizing whether a trip is early, late, or ontime. A trip is on time if it arrives 5 minutes later or earlier than scheduled.\",\n",
    "            )\n",
    "        )\n",
    "        .add_params(route_selector)\n",
    "        .transform_filter(route_selector)\n",
    "    )\n",
    "\n",
    "    frequency = (\n",
    "        section3.frequency_chart(df)\n",
    "        .add_params(route_selector)\n",
    "        .transform_filter(route_selector)\n",
    "    )\n",
    "    speed = (\n",
    "        section3.base_facet_line(\n",
    "            df,\n",
    "            \"speed_mph\",\n",
    "            \"Average Speed\",\n",
    "            \"The average miles per hour the bus travels by direction and time of day.\",\n",
    "        )\n",
    "        .add_params(route_selector)\n",
    "        .transform_filter(route_selector)\n",
    "    )\n",
    "\n",
    "    vp_per_min = (\n",
    "        (\n",
    "            section3.base_facet_with_ruler_chart(\n",
    "                all_day,\n",
    "                \"vp_per_minute\",\n",
    "                \"ruler_for_vp_per_min\",\n",
    "                \"Vehicle Positions per Minute\",\n",
    "                \"Trips should have 2+ vehicle positions per minute.\",\n",
    "            )\n",
    "        )\n",
    "        .add_params(route_selector)\n",
    "        .transform_filter(route_selector)\n",
    "    )\n",
    "\n",
    "    rt_vp_per_min = (\n",
    "        section3.base_facet_circle(\n",
    "            rt_journey_vp,\n",
    "            \"value\",\n",
    "            \"ruler_100_pct\",\n",
    "            \"Percentage of Realtime Trips with 1+ and 2+ Vehicle Positions\",\n",
    "            \"The goal is for almost 100% of trips to have 2 or more Vehicle Positions per minute.\",\n",
    "        )\n",
    "        .add_params(route_selector)\n",
    "        .transform_filter(route_selector)\n",
    "    )\n",
    "    sched_vp_per_min = (\n",
    "        section3.base_facet_circle(\n",
    "            sched_journey_vp,\n",
    "            \"value\",\n",
    "            \"ruler_100_pct\",\n",
    "            \"Percentage of Scheduled Trips with 1+ and 2+ Vehicle Positions\",\n",
    "            \"The goal is for almost 100% of trips to have 2 or more Vehicle Positions per minute.\",\n",
    "        )\n",
    "        .add_params(route_selector)\n",
    "        .transform_filter(route_selector)\n",
    "    )\n",
    "    spatial_accuracy = (\n",
    "        section3.base_facet_with_ruler_chart(\n",
    "            all_day,\n",
    "            \"pct_in_shape\",\n",
    "            \"ruler_100_pct\",\n",
    "            \"Spatial Accuracy\",\n",
    "            \"The percentage of vehicle positions that fall within the static scheduled route shape reflects the accuracy of the spatial, realtime data.\",\n",
    "        )\n",
    "        .add_params(route_selector)\n",
    "        .transform_filter(route_selector)\n",
    "    )\n",
    "\n",
    "    text_dir0 = (\n",
    "        (section3.create_text_table(route_stats_df, 0))\n",
    "        .add_params(route_selector)\n",
    "        .transform_filter(route_selector)\n",
    "    )\n",
    "    text_dir1 = (\n",
    "        section3.create_text_table(route_stats_df, 1)\n",
    "        .add_params(route_selector)\n",
    "        .transform_filter(route_selector)\n",
    "    )\n",
    "    chart_list = [\n",
    "        avg_scheduled_min,\n",
    "        timeliness_trips_dir_0,\n",
    "        timeliness_trips_dir_1,\n",
    "        frequency,\n",
    "        speed,\n",
    "        vp_per_min,\n",
    "        rt_vp_per_min,\n",
    "        sched_vp_per_min,\n",
    "        spatial_accuracy,\n",
    "        text_dir0,\n",
    "        text_dir1,\n",
    "    ]\n",
    "\n",
    "    chart = alt.vconcat(*chart_list).properties(\n",
    "        resolve=alt.Resolve(\n",
    "            scale=alt.LegendResolveMap(color=alt.ResolveMode(\"independent\"))\n",
    "        )\n",
    "    )\n",
    "    return chart"
   ]
  },
  {
   "cell_type": "code",
   "execution_count": null,
   "id": "cae4c735-f2e0-4f4f-98f8-1a79bfa1d37e",
   "metadata": {},
   "outputs": [],
   "source": [
    "filtered_route(df)"
   ]
  }
 ],
 "metadata": {
  "kernelspec": {
   "display_name": "Python 3 (ipykernel)",
   "language": "python",
   "name": "python3"
  },
  "language_info": {
   "codemirror_mode": {
    "name": "ipython",
    "version": 3
   },
   "file_extension": ".py",
   "mimetype": "text/x-python",
   "name": "python",
   "nbconvert_exporter": "python",
   "pygments_lexer": "ipython3",
   "version": "3.9.13"
  }
 },
 "nbformat": 4,
 "nbformat_minor": 5
}
