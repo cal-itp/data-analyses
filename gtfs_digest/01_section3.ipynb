{
 "cells": [
  {
   "cell_type": "markdown",
   "id": "9ef066ac-5f6d-4595-b819-0cdacbadd7fe",
   "metadata": {},
   "source": [
    "## Round 1 \n",
    "* Updating existing charts made by Tiffany. https://gtfs-digest--cal-itp-data-analyses.netlify.app/\n",
    "* cd rt_segment_speeds && pip install altair_transform && pip install -r requirements.txt && cd ../_shared_utils && make setup_env\n",
    "\n",
    "Links\n",
    "* https://github.com/cal-itp/data-analyses/issues/1059\n",
    "* https://docs.google.com/document/d/1I1WiqlmU06W6iLCi7cZQrOCLILkrEfABEkcU0Jys7f0/edit\n",
    "* https://route-speeds--cal-itp-data-analyses.netlify.app/name_bay-area-511-muni-schedule/0__report__name_bay-area-511-muni-schedule\n",
    "* https://posit-dev.github.io/great-tables/get-started/nanoplots.html\n",
    "* https://docs.pola.rs/py-polars/html/reference/api/polars.from_pandas.html\n",
    "* https://github.com/cal-itp/data-analyses/blob/main/rt_segment_speeds/_rt_scheduled_utils.py\n",
    "* https://github.com/cal-itp/data-analyses/blob/main/rt_segment_speeds/_threshold_utils.py"
   ]
  },
  {
   "cell_type": "code",
   "execution_count": 1,
   "id": "41ffdcf4-2076-49c6-bae6-6ffb51f044b3",
   "metadata": {},
   "outputs": [],
   "source": [
    "import _section3_utils as section3\n",
    "import _report_utils\n",
    "import altair as alt\n",
    "import calitp_data_analysis.magics\n",
    "import geopandas as gpd\n",
    "import great_tables as gt\n",
    "import pandas as pd\n",
    "from calitp_data_analysis import calitp_color_palette as cp\n",
    "from great_tables import md\n",
    "from IPython.display import HTML, Markdown, display\n",
    "from segment_speed_utils.project_vars import RT_SCHED_GCS, SCHED_GCS\n",
    "from shared_utils import rt_dates, rt_utils, catalog_utils\n",
    "\n",
    "alt.renderers.enable(\"html\")\n",
    "alt.data_transformers.enable(\"default\", max_rows=None)\n",
    "from typing import List, Union\n",
    "\n",
    "from altair_transform.extract import extract_transform\n",
    "from altair_transform.transform import visit\n",
    "from altair_transform.utils import to_dataframe"
   ]
  },
  {
   "cell_type": "code",
   "execution_count": 2,
   "id": "6366b86d-cdad-4aa0-9b29-9e506cb63258",
   "metadata": {},
   "outputs": [],
   "source": [
    "pd.options.display.max_columns = 100\n",
    "pd.options.display.float_format = \"{:.2f}\".format\n",
    "pd.set_option(\"display.max_rows\", None)\n",
    "pd.set_option(\"display.max_colwidth\", None)"
   ]
  },
  {
   "cell_type": "code",
   "execution_count": 3,
   "id": "8567437c-3023-4281-b0f5-5903c29217a2",
   "metadata": {},
   "outputs": [],
   "source": [
    "GTFS_DATA_DICT = catalog_utils.get_catalog(\"gtfs_analytics_data\")"
   ]
  },
  {
   "cell_type": "code",
   "execution_count": 4,
   "id": "f87b0483-ff6d-4ecc-aab6-3d5e61415b3c",
   "metadata": {},
   "outputs": [],
   "source": [
    "org_name = \"North County Transit District\""
   ]
  },
  {
   "cell_type": "code",
   "execution_count": 5,
   "id": "292a2159-4922-4bd3-b899-2e854ac2a4a0",
   "metadata": {},
   "outputs": [
    {
     "data": {
      "text/html": [
       "\n",
       "<style>\n",
       "form.vega-bindings {\n",
       "  position: absolute;\n",
       "  right: 0px;\n",
       "  top: 0px;\n",
       "}\n",
       "</style>\n"
      ],
      "text/plain": [
       "<IPython.core.display.HTML object>"
      ]
     },
     "metadata": {},
     "output_type": "display_data"
    }
   ],
   "source": [
    "# Set drop down menu to be on the upper right\n",
    "display(\n",
    "    HTML(\n",
    "        \"\"\"\n",
    "<style>\n",
    "form.vega-bindings {\n",
    "  position: absolute;\n",
    "  right: 0px;\n",
    "  top: 0px;\n",
    "}\n",
    "</style>\n",
    "\"\"\"\n",
    "    )\n",
    ")"
   ]
  },
  {
   "cell_type": "markdown",
   "id": "58c0269f-a557-4aa1-975f-56815886a0ef",
   "metadata": {},
   "source": [
    "### Original File "
   ]
  },
  {
   "cell_type": "code",
   "execution_count": 6,
   "id": "d5ed603a-c443-4500-b084-baa5e010d069",
   "metadata": {},
   "outputs": [],
   "source": [
    "schd_vp_url = f\"{GTFS_DATA_DICT.digest_tables.dir}{GTFS_DATA_DICT.digest_tables.route_schedule_vp}.parquet\"\n",
    "    "
   ]
  },
  {
   "cell_type": "code",
   "execution_count": 7,
   "id": "7969e1b9-27e3-4bdc-a200-697496701f41",
   "metadata": {},
   "outputs": [],
   "source": [
    "og = pd.read_parquet(schd_vp_url, filters=[[(\"organization_name\", \"==\", org_name)]],\n",
    "                        columns = [\"organization_name\", \"caltrans_district\", \"name\"]\n",
    "    )"
   ]
  },
  {
   "cell_type": "code",
   "execution_count": 8,
   "id": "1b6bf0c5-dc74-4dac-aef9-f0f06ac878ea",
   "metadata": {},
   "outputs": [
    {
     "data": {
      "text/plain": [
       "(16067, 3)"
      ]
     },
     "execution_count": 8,
     "metadata": {},
     "output_type": "execute_result"
    }
   ],
   "source": [
    "og.shape"
   ]
  },
  {
   "cell_type": "markdown",
   "id": "b29a8034-d069-4808-aaec-b69a72392054",
   "metadata": {},
   "source": [
    "### Duplicates Dropped"
   ]
  },
  {
   "cell_type": "code",
   "execution_count": 9,
   "id": "08ae7ba0-7e53-4fed-a5c8-f035d63a791e",
   "metadata": {},
   "outputs": [],
   "source": [
    "df = section3.load_schedule_vp_metrics(org_name)"
   ]
  },
  {
   "cell_type": "code",
   "execution_count": 10,
   "id": "518457f4-4034-4461-be8e-51b25cae86b7",
   "metadata": {
    "scrolled": true,
    "tags": []
   },
   "outputs": [
    {
     "data": {
      "text/html": [
       "<div>\n",
       "<style scoped>\n",
       "    .dataframe tbody tr th:only-of-type {\n",
       "        vertical-align: middle;\n",
       "    }\n",
       "\n",
       "    .dataframe tbody tr th {\n",
       "        vertical-align: top;\n",
       "    }\n",
       "\n",
       "    .dataframe thead th {\n",
       "        text-align: right;\n",
       "    }\n",
       "</style>\n",
       "<table border=\"1\" class=\"dataframe\">\n",
       "  <thead>\n",
       "    <tr style=\"text-align: right;\">\n",
       "      <th></th>\n",
       "      <th>schedule_gtfs_dataset_key</th>\n",
       "      <th>direction_id</th>\n",
       "      <th>time_period</th>\n",
       "      <th>avg_scheduled_service_minutes</th>\n",
       "      <th>avg_stop_miles</th>\n",
       "      <th>n_scheduled_trips</th>\n",
       "      <th>frequency</th>\n",
       "      <th>service_date</th>\n",
       "      <th>minutes_atleast1_vp</th>\n",
       "      <th>minutes_atleast2_vp</th>\n",
       "      <th>total_rt_service_minutes</th>\n",
       "      <th>total_scheduled_service_minutes</th>\n",
       "      <th>total_vp</th>\n",
       "      <th>vp_in_shape</th>\n",
       "      <th>is_early</th>\n",
       "      <th>is_ontime</th>\n",
       "      <th>is_late</th>\n",
       "      <th>n_vp_trips</th>\n",
       "      <th>vp_per_minute</th>\n",
       "      <th>pct_in_shape</th>\n",
       "      <th>pct_rt_journey_atleast1_vp</th>\n",
       "      <th>pct_rt_journey_atleast2_vp</th>\n",
       "      <th>pct_sched_journey_atleast1_vp</th>\n",
       "      <th>pct_sched_journey_atleast2_vp</th>\n",
       "      <th>rt_sched_journey_ratio</th>\n",
       "      <th>avg_rt_service_minutes</th>\n",
       "      <th>sched_rt_category</th>\n",
       "      <th>speed_mph</th>\n",
       "      <th>name</th>\n",
       "      <th>route_long_name</th>\n",
       "      <th>route_short_name</th>\n",
       "      <th>route_combined_name</th>\n",
       "      <th>route_id</th>\n",
       "      <th>typology</th>\n",
       "      <th>schedule_source_record_id</th>\n",
       "      <th>base64_url</th>\n",
       "      <th>organization_source_record_id</th>\n",
       "      <th>organization_name</th>\n",
       "      <th>caltrans_district</th>\n",
       "      <th>rt_sched_journey_ratio_cat</th>\n",
       "      <th>frequency_cat</th>\n",
       "      <th>vp_per_minute_cat</th>\n",
       "      <th>ruler_100_pct</th>\n",
       "      <th>ruler_for_vp_per_min</th>\n",
       "    </tr>\n",
       "  </thead>\n",
       "  <tbody>\n",
       "    <tr>\n",
       "      <th>0</th>\n",
       "      <td>1e93c380452cfb80eac5e14e4f227992</td>\n",
       "      <td>0.00</td>\n",
       "      <td>all_day</td>\n",
       "      <td>110.41</td>\n",
       "      <td>0.31</td>\n",
       "      <td>32</td>\n",
       "      <td>1.33</td>\n",
       "      <td>2023-04-12</td>\n",
       "      <td>4332</td>\n",
       "      <td>4262</td>\n",
       "      <td>4448.13</td>\n",
       "      <td>3533.00</td>\n",
       "      <td>12504</td>\n",
       "      <td>10595</td>\n",
       "      <td>0</td>\n",
       "      <td>0</td>\n",
       "      <td>32</td>\n",
       "      <td>32</td>\n",
       "      <td>2.81</td>\n",
       "      <td>85.00</td>\n",
       "      <td>97.00</td>\n",
       "      <td>96.00</td>\n",
       "      <td>100.00</td>\n",
       "      <td>100.00</td>\n",
       "      <td>1.26</td>\n",
       "      <td>139.00</td>\n",
       "      <td>schedule_and_vp</td>\n",
       "      <td>16.01</td>\n",
       "      <td>North County Schedule</td>\n",
       "      <td>Oceanside - UTC/VA/UCSD</td>\n",
       "      <td>101</td>\n",
       "      <td>101 Oceanside - UTC/VA/UCSD</td>\n",
       "      <td>301</td>\n",
       "      <td>rapid</td>\n",
       "      <td>recltDJn10nOSilgD</td>\n",
       "      <td>aHR0cHM6Ly93d3cuZ29uY3RkLmNvbS9nb29nbGVfdHJhbnNpdC56aXA=</td>\n",
       "      <td>recRBcrX4ZvTyvSnm</td>\n",
       "      <td>North County Transit District</td>\n",
       "      <td>11 - San Diego</td>\n",
       "      <td>Late by 26-50% of the scheduled time</td>\n",
       "      <td>&lt;1 trip/hour</td>\n",
       "      <td>&lt;3 pings/minute</td>\n",
       "      <td>100</td>\n",
       "      <td>2</td>\n",
       "    </tr>\n",
       "    <tr>\n",
       "      <th>1</th>\n",
       "      <td>1e93c380452cfb80eac5e14e4f227992</td>\n",
       "      <td>0.00</td>\n",
       "      <td>all_day</td>\n",
       "      <td>110.41</td>\n",
       "      <td>0.31</td>\n",
       "      <td>32</td>\n",
       "      <td>1.33</td>\n",
       "      <td>2023-05-17</td>\n",
       "      <td>4334</td>\n",
       "      <td>4237</td>\n",
       "      <td>4405.71</td>\n",
       "      <td>3533.00</td>\n",
       "      <td>12383</td>\n",
       "      <td>10466</td>\n",
       "      <td>0</td>\n",
       "      <td>0</td>\n",
       "      <td>32</td>\n",
       "      <td>32</td>\n",
       "      <td>2.81</td>\n",
       "      <td>84.00</td>\n",
       "      <td>98.00</td>\n",
       "      <td>96.00</td>\n",
       "      <td>100.00</td>\n",
       "      <td>100.00</td>\n",
       "      <td>1.25</td>\n",
       "      <td>137.68</td>\n",
       "      <td>schedule_and_vp</td>\n",
       "      <td>15.83</td>\n",
       "      <td>North County Schedule</td>\n",
       "      <td>Oceanside - UTC/VA/UCSD</td>\n",
       "      <td>101</td>\n",
       "      <td>101 Oceanside - UTC/VA/UCSD</td>\n",
       "      <td>301</td>\n",
       "      <td>rapid</td>\n",
       "      <td>recltDJn10nOSilgD</td>\n",
       "      <td>aHR0cHM6Ly93d3cuZ29uY3RkLmNvbS9nb29nbGVfdHJhbnNpdC56aXA=</td>\n",
       "      <td>recRBcrX4ZvTyvSnm</td>\n",
       "      <td>North County Transit District</td>\n",
       "      <td>11 - San Diego</td>\n",
       "      <td>Late by 1-25% of the scheduled time</td>\n",
       "      <td>&lt;1 trip/hour</td>\n",
       "      <td>&lt;3 pings/minute</td>\n",
       "      <td>100</td>\n",
       "      <td>2</td>\n",
       "    </tr>\n",
       "  </tbody>\n",
       "</table>\n",
       "</div>"
      ],
      "text/plain": [
       "          schedule_gtfs_dataset_key  direction_id time_period  \\\n",
       "0  1e93c380452cfb80eac5e14e4f227992          0.00     all_day   \n",
       "1  1e93c380452cfb80eac5e14e4f227992          0.00     all_day   \n",
       "\n",
       "   avg_scheduled_service_minutes  avg_stop_miles  n_scheduled_trips  \\\n",
       "0                         110.41            0.31                 32   \n",
       "1                         110.41            0.31                 32   \n",
       "\n",
       "   frequency service_date  minutes_atleast1_vp  minutes_atleast2_vp  \\\n",
       "0       1.33   2023-04-12                 4332                 4262   \n",
       "1       1.33   2023-05-17                 4334                 4237   \n",
       "\n",
       "   total_rt_service_minutes  total_scheduled_service_minutes  total_vp  \\\n",
       "0                   4448.13                          3533.00     12504   \n",
       "1                   4405.71                          3533.00     12383   \n",
       "\n",
       "   vp_in_shape  is_early  is_ontime  is_late  n_vp_trips  vp_per_minute  \\\n",
       "0        10595         0          0       32          32           2.81   \n",
       "1        10466         0          0       32          32           2.81   \n",
       "\n",
       "   pct_in_shape  pct_rt_journey_atleast1_vp  pct_rt_journey_atleast2_vp  \\\n",
       "0         85.00                       97.00                       96.00   \n",
       "1         84.00                       98.00                       96.00   \n",
       "\n",
       "   pct_sched_journey_atleast1_vp  pct_sched_journey_atleast2_vp  \\\n",
       "0                         100.00                         100.00   \n",
       "1                         100.00                         100.00   \n",
       "\n",
       "   rt_sched_journey_ratio  avg_rt_service_minutes sched_rt_category  \\\n",
       "0                    1.26                  139.00   schedule_and_vp   \n",
       "1                    1.25                  137.68   schedule_and_vp   \n",
       "\n",
       "   speed_mph                   name          route_long_name route_short_name  \\\n",
       "0      16.01  North County Schedule  Oceanside - UTC/VA/UCSD              101   \n",
       "1      15.83  North County Schedule  Oceanside - UTC/VA/UCSD              101   \n",
       "\n",
       "           route_combined_name route_id typology schedule_source_record_id  \\\n",
       "0  101 Oceanside - UTC/VA/UCSD      301    rapid         recltDJn10nOSilgD   \n",
       "1  101 Oceanside - UTC/VA/UCSD      301    rapid         recltDJn10nOSilgD   \n",
       "\n",
       "                                                 base64_url  \\\n",
       "0  aHR0cHM6Ly93d3cuZ29uY3RkLmNvbS9nb29nbGVfdHJhbnNpdC56aXA=   \n",
       "1  aHR0cHM6Ly93d3cuZ29uY3RkLmNvbS9nb29nbGVfdHJhbnNpdC56aXA=   \n",
       "\n",
       "  organization_source_record_id              organization_name  \\\n",
       "0             recRBcrX4ZvTyvSnm  North County Transit District   \n",
       "1             recRBcrX4ZvTyvSnm  North County Transit District   \n",
       "\n",
       "  caltrans_district            rt_sched_journey_ratio_cat frequency_cat  \\\n",
       "0    11 - San Diego  Late by 26-50% of the scheduled time  <1 trip/hour   \n",
       "1    11 - San Diego   Late by 1-25% of the scheduled time  <1 trip/hour   \n",
       "\n",
       "  vp_per_minute_cat  ruler_100_pct  ruler_for_vp_per_min  \n",
       "0   <3 pings/minute            100                     2  \n",
       "1   <3 pings/minute            100                     2  "
      ]
     },
     "execution_count": 10,
     "metadata": {},
     "output_type": "execute_result"
    }
   ],
   "source": [
    "df.head(2)"
   ]
  },
  {
   "cell_type": "code",
   "execution_count": 11,
   "id": "add5a920-24e5-4b76-a1dc-d32968b8868f",
   "metadata": {},
   "outputs": [
    {
     "data": {
      "text/plain": [
       "all_day    966\n",
       "peak       954\n",
       "offpeak    811\n",
       "Name: time_period, dtype: int64"
      ]
     },
     "execution_count": 11,
     "metadata": {},
     "output_type": "execute_result"
    }
   ],
   "source": [
    "df.time_period.value_counts()"
   ]
  },
  {
   "cell_type": "code",
   "execution_count": 12,
   "id": "82a4d535-b890-46bf-9b3e-656d202be620",
   "metadata": {},
   "outputs": [
    {
     "data": {
      "text/plain": [
       "['schedule_and_vp']\n",
       "Categories (3, object): ['schedule_only', 'vp_only', 'schedule_and_vp']"
      ]
     },
     "execution_count": 12,
     "metadata": {},
     "output_type": "execute_result"
    }
   ],
   "source": [
    "df.sched_rt_category.unique()"
   ]
  },
  {
   "cell_type": "markdown",
   "id": "14cb4180-128f-40ca-bb42-9d0e15c02aba",
   "metadata": {},
   "source": [
    "### Checkout Duplicates"
   ]
  },
  {
   "cell_type": "code",
   "execution_count": 13,
   "id": "0503668f-691e-4782-a89f-e7e62b554eba",
   "metadata": {},
   "outputs": [
    {
     "data": {
      "text/plain": [
       "2731"
      ]
     },
     "execution_count": 13,
     "metadata": {},
     "output_type": "execute_result"
    }
   ],
   "source": [
    "len(df)"
   ]
  },
  {
   "cell_type": "code",
   "execution_count": 15,
   "id": "9f0c8890-0d0f-4f03-b77f-c997642fb11f",
   "metadata": {},
   "outputs": [],
   "source": [
    "categories_only = df[['sched_rt_category','direction_id','time_period','service_date','route_combined_name','n_scheduled_trips']]"
   ]
  },
  {
   "cell_type": "code",
   "execution_count": 16,
   "id": "ab9bc4df-69b2-46da-beec-5f2b77dad95d",
   "metadata": {},
   "outputs": [],
   "source": [
    "categories_only = categories_only.loc[categories_only.time_period == \"all_day\"]"
   ]
  },
  {
   "cell_type": "code",
   "execution_count": 17,
   "id": "29f72eee-bbbc-4666-818f-ab3b3b4a53e2",
   "metadata": {},
   "outputs": [],
   "source": [
    "march_2024 = df.loc[df.service_date == \"2024-03-13\"]"
   ]
  },
  {
   "cell_type": "code",
   "execution_count": 19,
   "id": "daaf2386-ced9-484a-8dd7-4e0035ce6473",
   "metadata": {},
   "outputs": [
    {
     "data": {
      "text/plain": [
       "1401"
      ]
     },
     "execution_count": 19,
     "metadata": {},
     "output_type": "execute_result"
    }
   ],
   "source": [
    "categories_only.loc[categories_only.service_date == \"2024-03-13\"].n_scheduled_trips.sum()"
   ]
  },
  {
   "cell_type": "code",
   "execution_count": 20,
   "id": "c8935bea-04b7-4029-91a4-3f605aecbdde",
   "metadata": {},
   "outputs": [
    {
     "data": {
      "text/html": [
       "<div id=\"orvqpnxnsy\" style=\"padding-left:0px;padding-right:0px;padding-top:10px;padding-bottom:10px;overflow-x:auto;overflow-y:auto;width:75%;height:auto;\">\n",
       "<style>\n",
       "#orvqpnxnsy table {\n",
       "          font-family: -apple-system, BlinkMacSystemFont, 'Segoe UI', Roboto, Oxygen, Ubuntu, Cantarell, 'Helvetica Neue', 'Fira Sans', 'Droid Sans', Arial, sans-serif;\n",
       "          -webkit-font-smoothing: antialiased;\n",
       "          -moz-osx-font-smoothing: grayscale;\n",
       "        }\n",
       "\n",
       "#orvqpnxnsy thead, tbody, tfoot, tr, td, th { border-style: none; }\n",
       " tr { background-color: transparent; }\n",
       "#orvqpnxnsy p { margin: 0; padding: 0; }\n",
       " #orvqpnxnsy .gt_table { display: table; border-collapse: collapse; line-height: normal; margin-left: auto; margin-right: auto; color: #333333; font-size: 12px; font-weight: normal; font-style: normal; background-color: #FFFFFF; width: auto; border-top-style: solid; border-top-width: 2px; border-top-color: #A8A8A8; border-right-style: none; border-right-width: 2px; border-right-color: #D3D3D3; border-bottom-style: solid; border-bottom-width: 2px; border-bottom-color: #A8A8A8; border-left-style: none; border-left-width: 2px; border-left-color: #D3D3D3; }\n",
       " #orvqpnxnsy .gt_caption { padding-top: 4px; padding-bottom: 4px; }\n",
       " #orvqpnxnsy .gt_title { color: #333333; font-size: 125%; font-weight: initial; padding-top: 4px; padding-bottom: 4px; padding-left: 5px; padding-right: 5px; border-bottom-color: #FFFFFF; border-bottom-width: 0; }\n",
       " #orvqpnxnsy .gt_subtitle { color: #333333; font-size: 85%; font-weight: initial; padding-top: 3px; padding-bottom: 5px; padding-left: 5px; padding-right: 5px; border-top-color: #FFFFFF; border-top-width: 0; }\n",
       " #orvqpnxnsy .gt_heading { background-color: #FFFFFF; text-align: center; border-bottom-color: #FFFFFF; border-left-style: none; border-left-width: 1px; border-left-color: #D3D3D3; border-right-style: none; border-right-width: 1px; border-right-color: #D3D3D3; }\n",
       " #orvqpnxnsy .gt_bottom_border { border-bottom-style: solid; border-bottom-width: 2px; border-bottom-color: #D3D3D3; }\n",
       " #orvqpnxnsy .gt_col_headings { border-top-style: solid; border-top-width: 2px; border-top-color: #D3D3D3; border-bottom-style: solid; border-bottom-width: 2px; border-bottom-color: #D3D3D3; border-left-style: none; border-left-width: 1px; border-left-color: #D3D3D3; border-right-style: none; border-right-width: 1px; border-right-color: #D3D3D3; }\n",
       " #orvqpnxnsy .gt_col_heading { color: #333333; background-color: #FFFFFF; font-size: 100%; font-weight: normal; text-transform: inherit; border-left-style: none; border-left-width: 1px; border-left-color: #D3D3D3; border-right-style: none; border-right-width: 1px; border-right-color: #D3D3D3; vertical-align: bottom; padding-top: 5px; padding-bottom: 5px; padding-left: 5px; padding-right: 5px; overflow-x: hidden; }\n",
       " #orvqpnxnsy .gt_column_spanner_outer { color: #333333; background-color: #FFFFFF; font-size: 100%; font-weight: normal; text-transform: inherit; padding-top: 0; padding-bottom: 0; padding-left: 4px; padding-right: 4px; }\n",
       " #orvqpnxnsy .gt_column_spanner_outer:first-child { padding-left: 0; }\n",
       " #orvqpnxnsy .gt_column_spanner_outer:last-child { padding-right: 0; }\n",
       " #orvqpnxnsy .gt_column_spanner { border-bottom-style: solid; border-bottom-width: 2px; border-bottom-color: #D3D3D3; vertical-align: bottom; padding-top: 5px; padding-bottom: 5px; overflow-x: hidden; display: inline-block; width: 100%; }\n",
       " #orvqpnxnsy .gt_spanner_row { border-bottom-style: hidden; }\n",
       " #orvqpnxnsy .gt_group_heading { padding-top: 8px; padding-bottom: 8px; padding-left: 5px; padding-right: 5px; color: #333333; background-color: #FFFFFF; font-size: 100%; font-weight: initial; text-transform: inherit; border-top-style: solid; border-top-width: 2px; border-top-color: #D3D3D3; border-bottom-style: solid; border-bottom-width: 2px; border-bottom-color: #D3D3D3; border-left-style: none; border-left-width: 1px; border-left-color: #D3D3D3; border-right-style: none; border-right-width: 1px; border-right-color: #D3D3D3; vertical-align: middle; text-align: left; }\n",
       " #orvqpnxnsy .gt_empty_group_heading { padding: 0.5px; color: #333333; background-color: #FFFFFF; font-size: 100%; font-weight: initial; border-top-style: solid; border-top-width: 2px; border-top-color: #D3D3D3; border-bottom-style: solid; border-bottom-width: 2px; border-bottom-color: #D3D3D3; vertical-align: middle; }\n",
       " #orvqpnxnsy .gt_from_md> :first-child { margin-top: 0; }\n",
       " #orvqpnxnsy .gt_from_md> :last-child { margin-bottom: 0; }\n",
       " #orvqpnxnsy .gt_row { padding-top: 8px; padding-bottom: 8px; padding-left: 5px; padding-right: 5px; margin: 10px; border-top-style: solid; border-top-width: 1px; border-top-color: #D3D3D3; border-left-style: none; border-left-width: 1px; border-left-color: #D3D3D3; border-right-style: none; border-right-width: 1px; border-right-color: #D3D3D3; vertical-align: middle; overflow-x: hidden; }\n",
       " #orvqpnxnsy .gt_stub { color: #333333; background-color: #FFFFFF; font-size: 100%; font-weight: initial; text-transform: inherit; border-right-style: solid; border-right-width: 2px; border-right-color: #D3D3D3; padding-left: 5px; padding-right: 5px; }\n",
       " #orvqpnxnsy .gt_stub_row_group { color: #333333; background-color: #FFFFFF; font-size: 100%; font-weight: initial; text-transform: inherit; border-right-style: solid; border-right-width: 2px; border-right-color: #D3D3D3; padding-left: 5px; padding-right: 5px; vertical-align: top; }\n",
       " #orvqpnxnsy .gt_row_group_first td { border-top-width: 2px; }\n",
       " #orvqpnxnsy .gt_row_group_first th { border-top-width: 2px; }\n",
       " #orvqpnxnsy .gt_table_body { border-top-style: solid; border-top-width: 2px; border-top-color: #D3D3D3; border-bottom-style: solid; border-bottom-width: 2px; border-bottom-color: #D3D3D3; }\n",
       " #orvqpnxnsy .gt_sourcenotes { color: #333333; background-color: #FFFFFF; border-bottom-style: none; border-bottom-width: 2px; border-bottom-color: #D3D3D3; border-left-style: none; border-left-width: 2px; border-left-color: #D3D3D3; border-right-style: none; border-right-width: 2px; border-right-color: #D3D3D3; }\n",
       " #orvqpnxnsy .gt_sourcenote { font-size: 90%; padding-top: 4px; padding-bottom: 4px; padding-left: 5px; padding-right: 5px; text-align: left; }\n",
       " #orvqpnxnsy .gt_left { text-align: left; }\n",
       " #orvqpnxnsy .gt_center { text-align: center; }\n",
       " #orvqpnxnsy .gt_right { text-align: right; font-variant-numeric: tabular-nums; }\n",
       " #orvqpnxnsy .gt_font_normal { font-weight: normal; }\n",
       " #orvqpnxnsy .gt_font_bold { font-weight: bold; }\n",
       " #orvqpnxnsy .gt_font_italic { font-style: italic; }\n",
       " #orvqpnxnsy .gt_super { font-size: 65%; }\n",
       " #orvqpnxnsy .gt_footnote_marks { font-size: 75%; vertical-align: 0.4em; position: initial; }\n",
       " #orvqpnxnsy .gt_asterisk { font-size: 100%; vertical-align: 0; }\n",
       " \n",
       "</style>\n",
       "<table class=\"gt_table\" data-quarto-disable-processing=\"false\" data-quarto-bootstrap=\"false\">\n",
       "<thead class=\"gt_header\">\n",
       "  <tr>\n",
       "    <th colspan=\"4\" class=\"gt_heading gt_title gt_font_normal\">Daily Trips by GTFS Availability</th>\n",
       "  </tr>\n",
       "  <tr>\n",
       "    <th colspan=\"4\" class=\"gt_heading gt_subtitle gt_font_normal gt_bottom_border\">Schedule only indicates the trip(s) were found only in schedule data. Vehicle Positions (VP) only indicates the trip(s) were found only in real-time data.</th>\n",
       "  </tr>\n",
       "</thead>\n",
       "<tr class=\"gt_col_headings\">\n",
       "  <th class=\"gt_col_heading gt_columns_bottom_border gt_left\" rowspan=\"1\" colspan=\"1\" scope=\"col\" id=\"\"></th>\n",
       "  <th class=\"gt_col_heading gt_columns_bottom_border gt_right\" rowspan=\"1\" colspan=\"1\" scope=\"col\" id=\"Schedule Only\">Schedule Only</th>\n",
       "  <th class=\"gt_col_heading gt_columns_bottom_border gt_right\" rowspan=\"1\" colspan=\"1\" scope=\"col\" id=\"VP Only\">VP Only</th>\n",
       "  <th class=\"gt_col_heading gt_columns_bottom_border gt_right\" rowspan=\"1\" colspan=\"1\" scope=\"col\" id=\"Schedule and VP\">Schedule and VP</th>\n",
       "</tr>\n",
       "<tbody class=\"gt_table_body\">\n",
       "<tr>\n",
       "  <th class=\"gt_row gt_left gt_stub\">2023-03-15</th>\n",
       "  <td class=\"gt_row gt_right\">0</td>\n",
       "  <td class=\"gt_row gt_right\">0</td>\n",
       "  <td class=\"gt_row gt_right\">1,307</td>\n",
       "</tr>\n",
       "<tr>\n",
       "  <th class=\"gt_row gt_left gt_stub\">2023-04-12</th>\n",
       "  <td class=\"gt_row gt_right\">0</td>\n",
       "  <td class=\"gt_row gt_right\">0</td>\n",
       "  <td class=\"gt_row gt_right\">1,338</td>\n",
       "</tr>\n",
       "<tr>\n",
       "  <th class=\"gt_row gt_left gt_stub\">2023-05-17</th>\n",
       "  <td class=\"gt_row gt_right\">0</td>\n",
       "  <td class=\"gt_row gt_right\">0</td>\n",
       "  <td class=\"gt_row gt_right\">1,343</td>\n",
       "</tr>\n",
       "<tr>\n",
       "  <th class=\"gt_row gt_left gt_stub\">2023-06-14</th>\n",
       "  <td class=\"gt_row gt_right\">0</td>\n",
       "  <td class=\"gt_row gt_right\">0</td>\n",
       "  <td class=\"gt_row gt_right\">1,326</td>\n",
       "</tr>\n",
       "<tr>\n",
       "  <th class=\"gt_row gt_left gt_stub\">2023-07-12</th>\n",
       "  <td class=\"gt_row gt_right\">0</td>\n",
       "  <td class=\"gt_row gt_right\">0</td>\n",
       "  <td class=\"gt_row gt_right\">1,310</td>\n",
       "</tr>\n",
       "<tr>\n",
       "  <th class=\"gt_row gt_left gt_stub\">2023-08-15</th>\n",
       "  <td class=\"gt_row gt_right\">0</td>\n",
       "  <td class=\"gt_row gt_right\">0</td>\n",
       "  <td class=\"gt_row gt_right\">1,334</td>\n",
       "</tr>\n",
       "<tr>\n",
       "  <th class=\"gt_row gt_left gt_stub\">2023-09-13</th>\n",
       "  <td class=\"gt_row gt_right\">0</td>\n",
       "  <td class=\"gt_row gt_right\">0</td>\n",
       "  <td class=\"gt_row gt_right\">1,342</td>\n",
       "</tr>\n",
       "<tr>\n",
       "  <th class=\"gt_row gt_left gt_stub\">2023-10-11</th>\n",
       "  <td class=\"gt_row gt_right\">0</td>\n",
       "  <td class=\"gt_row gt_right\">0</td>\n",
       "  <td class=\"gt_row gt_right\">1,391</td>\n",
       "</tr>\n",
       "<tr>\n",
       "  <th class=\"gt_row gt_left gt_stub\">2023-11-15</th>\n",
       "  <td class=\"gt_row gt_right\">0</td>\n",
       "  <td class=\"gt_row gt_right\">0</td>\n",
       "  <td class=\"gt_row gt_right\">1,392</td>\n",
       "</tr>\n",
       "<tr>\n",
       "  <th class=\"gt_row gt_left gt_stub\">2023-12-13</th>\n",
       "  <td class=\"gt_row gt_right\">0</td>\n",
       "  <td class=\"gt_row gt_right\">0</td>\n",
       "  <td class=\"gt_row gt_right\">1,392</td>\n",
       "</tr>\n",
       "<tr>\n",
       "  <th class=\"gt_row gt_left gt_stub\">2024-01-17</th>\n",
       "  <td class=\"gt_row gt_right\">0</td>\n",
       "  <td class=\"gt_row gt_right\">0</td>\n",
       "  <td class=\"gt_row gt_right\">1,393</td>\n",
       "</tr>\n",
       "<tr>\n",
       "  <th class=\"gt_row gt_left gt_stub\">2024-02-14</th>\n",
       "  <td class=\"gt_row gt_right\">0</td>\n",
       "  <td class=\"gt_row gt_right\">0</td>\n",
       "  <td class=\"gt_row gt_right\">1,393</td>\n",
       "</tr>\n",
       "<tr>\n",
       "  <th class=\"gt_row gt_left gt_stub\">2024-03-13</th>\n",
       "  <td class=\"gt_row gt_right\">0</td>\n",
       "  <td class=\"gt_row gt_right\">0</td>\n",
       "  <td class=\"gt_row gt_right\">1,401</td>\n",
       "</tr>\n",
       "</tbody>\n",
       "\n",
       "\n",
       "</table>\n",
       "\n",
       "</div>\n",
       "        "
      ],
      "text/plain": [
       "GT(_tbl_data=sched_rt_category service_date  schedule_only  vp_only  schedule_and_vp\n",
       "0                   2023-03-15              0        0             1307\n",
       "1                   2023-04-12              0        0             1338\n",
       "2                   2023-05-17              0        0             1343\n",
       "3                   2023-06-14              0        0             1326\n",
       "4                   2023-07-12              0        0             1310\n",
       "5                   2023-08-15              0        0             1334\n",
       "6                   2023-09-13              0        0             1342\n",
       "7                   2023-10-11              0        0             1391\n",
       "8                   2023-11-15              0        0             1392\n",
       "9                   2023-12-13              0        0             1392\n",
       "10                  2024-01-17              0        0             1393\n",
       "11                  2024-02-14              0        0             1393\n",
       "12                  2024-03-13              0        0             1401, _body=<great_tables._gt_data.Body object at 0x7fd8194e4340>, _boxhead=Boxhead([ColInfo(var='service_date', type=<ColInfoTypeEnum.stub: 2>, column_label='service_date', column_align='right', column_width=None), ColInfo(var='schedule_only', type=<ColInfoTypeEnum.default: 1>, column_label='Schedule Only', column_align='right', column_width=None), ColInfo(var='vp_only', type=<ColInfoTypeEnum.default: 1>, column_label='VP Only', column_align='right', column_width=None), ColInfo(var='schedule_and_vp', type=<ColInfoTypeEnum.default: 1>, column_label='Schedule and VP', column_align='right', column_width=None)]), _stub=Stub([RowInfo(rownum_i=0, group_id=None, rowname=Timestamp('2023-03-15 00:00:00'), group_label=None, built=False), RowInfo(rownum_i=1, group_id=None, rowname=Timestamp('2023-04-12 00:00:00'), group_label=None, built=False), RowInfo(rownum_i=2, group_id=None, rowname=Timestamp('2023-05-17 00:00:00'), group_label=None, built=False), RowInfo(rownum_i=3, group_id=None, rowname=Timestamp('2023-06-14 00:00:00'), group_label=None, built=False), RowInfo(rownum_i=4, group_id=None, rowname=Timestamp('2023-07-12 00:00:00'), group_label=None, built=False), RowInfo(rownum_i=5, group_id=None, rowname=Timestamp('2023-08-15 00:00:00'), group_label=None, built=False), RowInfo(rownum_i=6, group_id=None, rowname=Timestamp('2023-09-13 00:00:00'), group_label=None, built=False), RowInfo(rownum_i=7, group_id=None, rowname=Timestamp('2023-10-11 00:00:00'), group_label=None, built=False), RowInfo(rownum_i=8, group_id=None, rowname=Timestamp('2023-11-15 00:00:00'), group_label=None, built=False), RowInfo(rownum_i=9, group_id=None, rowname=Timestamp('2023-12-13 00:00:00'), group_label=None, built=False), RowInfo(rownum_i=10, group_id=None, rowname=Timestamp('2024-01-17 00:00:00'), group_label=None, built=False), RowInfo(rownum_i=11, group_id=None, rowname=Timestamp('2024-02-14 00:00:00'), group_label=None, built=False), RowInfo(rownum_i=12, group_id=None, rowname=Timestamp('2024-03-13 00:00:00'), group_label=None, built=False)]), _row_groups=[], _group_rows=GroupRows([]), _spanners=Spanners([]), _heading=Heading(title='Daily Trips by GTFS Availability', subtitle='Schedule only indicates the trip(s) were found only in schedule data. Vehicle Positions (VP) only indicates the trip(s) were found only in real-time data.', preheader=None), _stubhead=None, _source_notes=[], _footnotes=[], _styles=[], _locale=<great_tables._gt_data.Locale object at 0x7fd8194d5340>, _formats=[<great_tables._gt_data.FormatInfo object at 0x7fd8194d5760>], _options=Options(table_id=OptionsInfo(scss=False, category='table', type='value', value=None), table_caption=OptionsInfo(scss=False, category='table', type='value', value=None), table_width=OptionsInfo(scss=True, category='table', type='px', value='auto'), table_layout=OptionsInfo(scss=True, category='table', type='value', value='fixed'), table_margin_left=OptionsInfo(scss=True, category='table', type='px', value='auto'), table_margin_right=OptionsInfo(scss=True, category='table', type='px', value='auto'), table_background_color=OptionsInfo(scss=True, category='table', type='value', value='#FFFFFF'), table_font_names=OptionsInfo(scss=False, category='table', type='values', value=['-apple-system', 'BlinkMacSystemFont', 'Segoe UI', 'Roboto', 'Oxygen', 'Ubuntu', 'Cantarell', 'Helvetica Neue', 'Fira Sans', 'Droid Sans', 'Arial', 'sans-serif']), table_font_size=OptionsInfo(scss=True, category='table', type='px', value='12px'), table_font_weight=OptionsInfo(scss=True, category='table', type='value', value='normal'), table_font_style=OptionsInfo(scss=True, category='table', type='value', value='normal'), table_font_color=OptionsInfo(scss=True, category='table', type='value', value='#333333'), table_font_color_light=OptionsInfo(scss=True, category='table', type='value', value='#FFFFFF'), table_border_top_include=OptionsInfo(scss=False, category='table', type='boolean', value=True), table_border_top_style=OptionsInfo(scss=True, category='table', type='value', value='solid'), table_border_top_width=OptionsInfo(scss=True, category='table', type='px', value='2px'), table_border_top_color=OptionsInfo(scss=True, category='table', type='value', value='#A8A8A8'), table_border_right_style=OptionsInfo(scss=True, category='table', type='value', value='none'), table_border_right_width=OptionsInfo(scss=True, category='table', type='px', value='2px'), table_border_right_color=OptionsInfo(scss=True, category='table', type='value', value='#D3D3D3'), table_border_bottom_include=OptionsInfo(scss=False, category='table', type='boolean', value=True), table_border_bottom_style=OptionsInfo(scss=True, category='table', type='value', value='solid'), table_border_bottom_width=OptionsInfo(scss=True, category='table', type='px', value='2px'), table_border_bottom_color=OptionsInfo(scss=True, category='table', type='value', value='#A8A8A8'), table_border_left_style=OptionsInfo(scss=True, category='table', type='value', value='none'), table_border_left_width=OptionsInfo(scss=True, category='table', type='px', value='2px'), table_border_left_color=OptionsInfo(scss=True, category='table', type='value', value='#D3D3D3'), heading_background_color=OptionsInfo(scss=True, category='heading', type='value', value=None), heading_align=OptionsInfo(scss=True, category='heading', type='value', value='center'), heading_title_font_size=OptionsInfo(scss=True, category='heading', type='px', value='125%'), heading_title_font_weight=OptionsInfo(scss=True, category='heading', type='value', value='initial'), heading_subtitle_font_size=OptionsInfo(scss=True, category='heading', type='px', value='85%'), heading_subtitle_font_weight=OptionsInfo(scss=True, category='heading', type='value', value='initial'), heading_padding=OptionsInfo(scss=True, category='heading', type='px', value='4px'), heading_padding_horizontal=OptionsInfo(scss=True, category='heading', type='px', value='5px'), heading_border_bottom_style=OptionsInfo(scss=True, category='heading', type='value', value='solid'), heading_border_bottom_width=OptionsInfo(scss=True, category='heading', type='px', value='2px'), heading_border_bottom_color=OptionsInfo(scss=True, category='heading', type='value', value='#D3D3D3'), heading_border_lr_style=OptionsInfo(scss=True, category='heading', type='value', value='none'), heading_border_lr_width=OptionsInfo(scss=True, category='heading', type='px', value='1px'), heading_border_lr_color=OptionsInfo(scss=True, category='heading', type='value', value='#D3D3D3'), column_labels_background_color=OptionsInfo(scss=True, category='column_labels', type='value', value=None), column_labels_font_size=OptionsInfo(scss=True, category='column_labels', type='px', value='100%'), column_labels_font_weight=OptionsInfo(scss=True, category='column_labels', type='value', value='normal'), column_labels_text_transform=OptionsInfo(scss=True, category='column_labels', type='value', value='inherit'), column_labels_padding=OptionsInfo(scss=True, category='column_labels', type='px', value='5px'), column_labels_padding_horizontal=OptionsInfo(scss=True, category='column_labels', type='px', value='5px'), column_labels_vlines_style=OptionsInfo(scss=True, category='table_body', type='value', value='none'), column_labels_vlines_width=OptionsInfo(scss=True, category='table_body', type='px', value='1px'), column_labels_vlines_color=OptionsInfo(scss=True, category='table_body', type='value', value='#D3D3D3'), column_labels_border_top_style=OptionsInfo(scss=True, category='column_labels', type='value', value='solid'), column_labels_border_top_width=OptionsInfo(scss=True, category='column_labels', type='px', value='2px'), column_labels_border_top_color=OptionsInfo(scss=True, category='column_labels', type='value', value='#D3D3D3'), column_labels_border_bottom_style=OptionsInfo(scss=True, category='column_labels', type='value', value='solid'), column_labels_border_bottom_width=OptionsInfo(scss=True, category='column_labels', type='px', value='2px'), column_labels_border_bottom_color=OptionsInfo(scss=True, category='column_labels', type='value', value='#D3D3D3'), column_labels_border_lr_style=OptionsInfo(scss=True, category='column_labels', type='value', value='none'), column_labels_border_lr_width=OptionsInfo(scss=True, category='column_labels', type='px', value='1px'), column_labels_border_lr_color=OptionsInfo(scss=True, category='column_labels', type='value', value='#D3D3D3'), column_labels_hidden=OptionsInfo(scss=False, category='column_labels', type='boolean', value=False), row_group_background_color=OptionsInfo(scss=True, category='row_group', type='value', value=None), row_group_font_size=OptionsInfo(scss=True, category='row_group', type='px', value='100%'), row_group_font_weight=OptionsInfo(scss=True, category='row_group', type='value', value='initial'), row_group_text_transform=OptionsInfo(scss=True, category='row_group', type='value', value='inherit'), row_group_padding=OptionsInfo(scss=True, category='row_group', type='px', value='8px'), row_group_padding_horizontal=OptionsInfo(scss=True, category='row_group', type='px', value='5px'), row_group_border_top_style=OptionsInfo(scss=True, category='row_group', type='value', value='solid'), row_group_border_top_width=OptionsInfo(scss=True, category='row_group', type='px', value='2px'), row_group_border_top_color=OptionsInfo(scss=True, category='row_group', type='value', value='#D3D3D3'), row_group_border_right_style=OptionsInfo(scss=True, category='row_group', type='value', value='none'), row_group_border_right_width=OptionsInfo(scss=True, category='row_group', type='px', value='1px'), row_group_border_right_color=OptionsInfo(scss=True, category='row_group', type='value', value='#D3D3D3'), row_group_border_bottom_style=OptionsInfo(scss=True, category='row_group', type='value', value='solid'), row_group_border_bottom_width=OptionsInfo(scss=True, category='row_group', type='px', value='2px'), row_group_border_bottom_color=OptionsInfo(scss=True, category='row_group', type='value', value='#D3D3D3'), row_group_border_left_style=OptionsInfo(scss=True, category='row_group', type='value', value='none'), row_group_border_left_width=OptionsInfo(scss=True, category='row_group', type='px', value='1px'), row_group_border_left_color=OptionsInfo(scss=True, category='row_group', type='value', value='#D3D3D3'), row_group_as_column=OptionsInfo(scss=False, category='row_group', type='boolean', value=False), table_body_hlines_style=OptionsInfo(scss=True, category='table_body', type='value', value='solid'), table_body_hlines_width=OptionsInfo(scss=True, category='table_body', type='px', value='1px'), table_body_hlines_color=OptionsInfo(scss=True, category='table_body', type='value', value='#D3D3D3'), table_body_vlines_style=OptionsInfo(scss=True, category='table_body', type='value', value='none'), table_body_vlines_width=OptionsInfo(scss=True, category='table_body', type='px', value='1px'), table_body_vlines_color=OptionsInfo(scss=True, category='table_body', type='value', value='#D3D3D3'), table_body_border_top_style=OptionsInfo(scss=True, category='table_body', type='value', value='solid'), table_body_border_top_width=OptionsInfo(scss=True, category='table_body', type='px', value='2px'), table_body_border_top_color=OptionsInfo(scss=True, category='table_body', type='value', value='#D3D3D3'), table_body_border_bottom_style=OptionsInfo(scss=True, category='table_body', type='value', value='solid'), table_body_border_bottom_width=OptionsInfo(scss=True, category='table_body', type='px', value='2px'), table_body_border_bottom_color=OptionsInfo(scss=True, category='table_body', type='value', value='#D3D3D3'), data_row_padding=OptionsInfo(scss=True, category='data_row', type='px', value='8px'), data_row_padding_horizontal=OptionsInfo(scss=True, category='data_row', type='px', value='5px'), stub_background_color=OptionsInfo(scss=True, category='stub', type='value', value=None), stub_font_size=OptionsInfo(scss=True, category='stub', type='px', value='100%'), stub_font_weight=OptionsInfo(scss=True, category='stub', type='value', value='initial'), stub_text_transform=OptionsInfo(scss=True, category='stub', type='value', value='inherit'), stub_border_style=OptionsInfo(scss=True, category='stub', type='value', value='solid'), stub_border_width=OptionsInfo(scss=True, category='stub', type='px', value='2px'), stub_border_color=OptionsInfo(scss=True, category='stub', type='value', value='#D3D3D3'), stub_row_group_background_color=OptionsInfo(scss=True, category='stub', type='value', value=None), stub_row_group_font_size=OptionsInfo(scss=True, category='stub', type='px', value='100%'), stub_row_group_font_weight=OptionsInfo(scss=True, category='stub', type='value', value='initial'), stub_row_group_text_transform=OptionsInfo(scss=True, category='stub', type='value', value='inherit'), stub_row_group_border_style=OptionsInfo(scss=True, category='stub', type='value', value='solid'), stub_row_group_border_width=OptionsInfo(scss=True, category='stub', type='px', value='2px'), stub_row_group_border_color=OptionsInfo(scss=True, category='stub', type='value', value='#D3D3D3'), source_notes_padding=OptionsInfo(scss=True, category='source_notes', type='px', value='4px'), source_notes_padding_horizontal=OptionsInfo(scss=True, category='source_notes', type='px', value='5px'), source_notes_background_color=OptionsInfo(scss=True, category='source_notes', type='value', value=None), source_notes_font_size=OptionsInfo(scss=True, category='source_notes', type='px', value='90%'), source_notes_border_bottom_style=OptionsInfo(scss=True, category='source_notes', type='value', value='none'), source_notes_border_bottom_width=OptionsInfo(scss=True, category='source_notes', type='px', value='2px'), source_notes_border_bottom_color=OptionsInfo(scss=True, category='source_notes', type='value', value='#D3D3D3'), source_notes_border_lr_style=OptionsInfo(scss=True, category='source_notes', type='value', value='none'), source_notes_border_lr_width=OptionsInfo(scss=True, category='source_notes', type='px', value='2px'), source_notes_border_lr_color=OptionsInfo(scss=True, category='source_notes', type='value', value='#D3D3D3'), source_notes_multiline=OptionsInfo(scss=False, category='source_notes', type='boolean', value=True), source_notes_sep=OptionsInfo(scss=False, category='source_notes', type='value', value=' '), container_width=OptionsInfo(scss=False, category='container', type='px', value='75%'), container_height=OptionsInfo(scss=False, category='container', type='px', value='auto'), container_padding_x=OptionsInfo(scss=False, category='container', type='px', value='0px'), container_padding_y=OptionsInfo(scss=False, category='container', type='px', value='10px'), container_overflow_x=OptionsInfo(scss=False, category='container', type='overflow', value='auto'), container_overflow_y=OptionsInfo(scss=False, category='container', type='overflow', value='auto'), quarto_disable_processing=OptionsInfo(scss=False, category='quarto', type='logical', value=False), quarto_use_bootstrap=OptionsInfo(scss=False, category='quarto', type='logical', value=False)), _has_built=False)"
      ]
     },
     "metadata": {},
     "output_type": "display_data"
    }
   ],
   "source": [
    "section3.trips_by_gtfs(df)"
   ]
  },
  {
   "cell_type": "markdown",
   "id": "2efbb7c2-9060-43b2-b97e-96d3200aeb6d",
   "metadata": {},
   "source": [
    "### One Route"
   ]
  },
  {
   "cell_type": "code",
   "execution_count": null,
   "id": "f16426ab-58f1-4140-93ae-7adf0df98176",
   "metadata": {},
   "outputs": [],
   "source": [
    "df.route_combined_name.unique()"
   ]
  },
  {
   "cell_type": "code",
   "execution_count": null,
   "id": "0b1f34c2-bcec-4e7f-81a5-c2fd7e7d4d9d",
   "metadata": {},
   "outputs": [],
   "source": [
    "one_route = df.loc[\n",
    "    df.route_combined_name == '6 Wellness Express'\n",
    "]"
   ]
  },
  {
   "cell_type": "code",
   "execution_count": null,
   "id": "7365d028-e5b9-4ac9-bc57-8ab052af2007",
   "metadata": {},
   "outputs": [],
   "source": [
    "one_route.shape"
   ]
  },
  {
   "cell_type": "code",
   "execution_count": null,
   "id": "bac7ef9b-7629-4940-8426-dfc49fb26468",
   "metadata": {},
   "outputs": [],
   "source": [
    "one_route.sample()"
   ]
  },
  {
   "cell_type": "code",
   "execution_count": null,
   "id": "6fccc5c1-ca4a-4966-9b72-feb6d61b11a4",
   "metadata": {},
   "outputs": [],
   "source": [
    "one_route_all_day = one_route.loc[one_route.time_period == \"all_day\"]"
   ]
  },
  {
   "cell_type": "code",
   "execution_count": null,
   "id": "d07cec26-9a86-4634-a315-748e71c09ea6",
   "metadata": {},
   "outputs": [],
   "source": [
    "one_route_all_day.service_date.value_counts()"
   ]
  },
  {
   "cell_type": "markdown",
   "id": "c6580abb-e487-448d-a2c9-1949998fa04e",
   "metadata": {},
   "source": [
    "#### Avg Scheduled Minutes (Done)\n",
    "* How come the average_scheduled_minutes is a lot shorter than total_rt_service_minutes and total_scheduled_service_minutes?\n",
    "* Kind of a boring chart? Should compare actual run time compared to service minutes?"
   ]
  },
  {
   "cell_type": "code",
   "execution_count": null,
   "id": "682ef164-c127-4e2f-8ff5-e60e9be1766c",
   "metadata": {},
   "outputs": [],
   "source": [
    "import yaml\n",
    "\n",
    "with open(\"readable.yml\") as f:\n",
    "    readable_dict = yaml.safe_load(f)"
   ]
  },
  {
   "cell_type": "code",
   "execution_count": null,
   "id": "4b9dbce8-5de0-4952-aa01-d68443962568",
   "metadata": {},
   "outputs": [],
   "source": [
    "readable_dict['avg_scheduled_min']['title']"
   ]
  },
  {
   "cell_type": "code",
   "execution_count": null,
   "id": "0d569675-e6c4-4901-9157-e9da53cef48e",
   "metadata": {},
   "outputs": [],
   "source": [
    "section3.grouped_bar_chart(\n",
    "    df=one_route[one_route.time_period == \"all_day\"].drop_duplicates(),\n",
    "    color_col=\"direction_id\",\n",
    "    y_col=\"avg_scheduled_service_minutes\",\n",
    "    offset_col=\"direction_id\",\n",
    "    title=readable_dict['avg_scheduled_min']['title'],\n",
    "    subtitle=readable_dict['avg_scheduled_min']['subtitle'],\n",
    ")"
   ]
  },
  {
   "cell_type": "markdown",
   "id": "ec0b7515-e215-4f77-87f6-7560954e50f8",
   "metadata": {
    "toc-hr-collapsed": true
   },
   "source": [
    "#### Timeliness #2 (Done)"
   ]
  },
  {
   "cell_type": "code",
   "execution_count": null,
   "id": "6e921263-5012-429c-94c5-790cd591173a",
   "metadata": {},
   "outputs": [],
   "source": [
    "timeliness = section3.timeliness_trips(one_route)"
   ]
  },
  {
   "cell_type": "code",
   "execution_count": null,
   "id": "c9d51659-fb2e-4288-9104-d41ac34551cd",
   "metadata": {},
   "outputs": [],
   "source": [
    "timeliness.sample()"
   ]
  },
  {
   "cell_type": "code",
   "execution_count": null,
   "id": "fb382204-d8f8-414d-9eb5-ac2cee02d912",
   "metadata": {},
   "outputs": [],
   "source": [
    "section3.base_facet_chart(\n",
    "    timeliness.loc[timeliness.direction_id == 1].drop_duplicates(),\n",
    "    \"value\",\n",
    "    \"variable\",\n",
    "    \"time_period\",\n",
    "    \"Breakdown of Trips by Categories for Direction 1\",\n",
    "    \"Trips broken down by VP Only (found only in real-time data), Schedule Only (found only in schedule data), or both.\",\n",
    ").interactive()"
   ]
  },
  {
   "cell_type": "markdown",
   "id": "28c413ed-90ec-45dc-be43-553508ce9d50",
   "metadata": {},
   "source": [
    "#### Total Scheduled Trips (Don't Use, boring)"
   ]
  },
  {
   "cell_type": "code",
   "execution_count": null,
   "id": "eba6d0cf-1679-4d1c-b299-e2a07144a8a5",
   "metadata": {
    "scrolled": true,
    "tags": []
   },
   "outputs": [],
   "source": [
    "# IF we take away direction, see how many times a route is scheduled to run\n",
    "total_scheduled_trip = (\n",
    "    one_route.groupby([\"service_date\", \"time_period\"])\n",
    "    .agg({\"n_scheduled_trips\": \"mean\"})\n",
    "    .reset_index()\n",
    ")"
   ]
  },
  {
   "cell_type": "code",
   "execution_count": null,
   "id": "560a2471-0ac8-4fd8-94f5-c19ba1b6794b",
   "metadata": {
    "scrolled": true,
    "tags": []
   },
   "outputs": [],
   "source": [
    "total_scheduled_trip.n_scheduled_trips = total_scheduled_trip.n_scheduled_trips / 2"
   ]
  },
  {
   "cell_type": "code",
   "execution_count": null,
   "id": "04f31458-ea7f-4997-aeb3-726283afd8d6",
   "metadata": {},
   "outputs": [],
   "source": [
    "total_scheduled_trip.head()"
   ]
  },
  {
   "cell_type": "code",
   "execution_count": null,
   "id": "4527b5d5-d4b2-4a05-ae14-6a83c8d44f06",
   "metadata": {},
   "outputs": [],
   "source": [
    "one_route.groupby([\"service_date\", \"direction_id\", \"time_period\"]).agg(\n",
    "    {\"n_scheduled_trips\": \"max\"}\n",
    ").head()"
   ]
  },
  {
   "cell_type": "code",
   "execution_count": null,
   "id": "bba1c83c-498b-46e9-9f08-c85986b306ab",
   "metadata": {},
   "outputs": [],
   "source": [
    "section3.grouped_bar_chart(\n",
    "    df=one_route.loc[one_route.time_period != \"all_day\"].drop_duplicates(),\n",
    "    color_col=\"time_period\",\n",
    "    y_col=\"n_scheduled_trips\",\n",
    "    offset_col=\"direction_id\",\n",
    "    title=\"Total Scheduled Trips\",\n",
    "    subtitle=\"How many times per day is this route is scheduled to run in one particular direction.\",\n",
    ")"
   ]
  },
  {
   "cell_type": "markdown",
   "id": "793206d1-f1f7-4603-900e-e2bd5ff85619",
   "metadata": {},
   "source": [
    "#### Frequency (Done)\n",
    "* Maybe shouldn't be a chart since there doesn't seem to be a lot of data for this across a lot of the routes?\n",
    "* What does frequency mean?\n",
    "* Simplify down to not take direction_id into consideration?"
   ]
  },
  {
   "cell_type": "code",
   "execution_count": null,
   "id": "6b311ac8-f469-484b-a619-4f4e80c01a86",
   "metadata": {},
   "outputs": [],
   "source": [
    "alt.Chart(one_route, width=180, height=alt.Step(10)).mark_bar().encode(\n",
    "    alt.Y(\n",
    "        \"yearmonthdate(service_date):O\",\n",
    "        title=\"Date\",\n",
    "        axis=alt.Axis(format=\"%b %Y\"),\n",
    "    ),\n",
    "    alt.X(\"frequency:Q\", title=_report_utils.labeling(\"frequency\"), axis=None),\n",
    "    alt.Color(\"frequency:Q\", scale=alt.Scale(range=_report_utils.red_green_yellow)).title(\n",
    "        _report_utils.labeling(\"Frequency\")\n",
    "    ),\n",
    "    alt.Row(\"time_period:N\").title(_report_utils.labeling(\"time_period\")).header(labelAngle=0),\n",
    "    alt.Column(\"direction_id:N\").title(_report_utils.labeling(\"direction_id\")),\n",
    "    tooltip=[\"yearmonthdate(service_date)\", \"frequency\", \"time_period\", \"direction_id\"]\n",
    ")"
   ]
  },
  {
   "cell_type": "markdown",
   "id": "cad7454c-ceb2-4e30-92d2-bbc43d4e6e1a",
   "metadata": {},
   "source": [
    "#### Speed MPH (Done)\n",
    "* Needs a different type of chart."
   ]
  },
  {
   "cell_type": "code",
   "execution_count": null,
   "id": "7e452d89-d0b7-4730-bebe-3abe2125ca9a",
   "metadata": {},
   "outputs": [],
   "source": [
    "section3.base_facet_line(\n",
    "    one_route,\n",
    "    \"speed_mph\",\n",
    "    \"Average Speed\",\n",
    "    \"The average miles per hour the bus travels by direction and time of day.\",\n",
    ")"
   ]
  },
  {
   "cell_type": "markdown",
   "id": "9dce71b7-204d-42ca-bcb4-13cd3171a387",
   "metadata": {},
   "source": [
    "#### VP per Minute (WIP)\n",
    "* Heatmap too confusing & detailed"
   ]
  },
  {
   "cell_type": "code",
   "execution_count": null,
   "id": "7a6f181d-5223-4e2f-904f-d279a250a92b",
   "metadata": {},
   "outputs": [],
   "source": [
    "def add_background():\n",
    "    # Sample data\n",
    "    data = pd.DataFrame(\n",
    "        {\n",
    "            \"x\": range(9),\n",
    "            \"y\": [\n",
    "                0,\n",
    "                0.5,\n",
    "                1.5,\n",
    "                2.5,\n",
    "                3.5,\n",
    "                2,\n",
    "                1,\n",
    "                3,\n",
    "                4,\n",
    "            ],\n",
    "        }\n",
    "    )\n",
    "\n",
    "    # Background rectangle for color bands\n",
    "    bg_chart = (\n",
    "        alt.Chart(data)\n",
    "        .mark_rect()\n",
    "        .encode(\n",
    "            y=alt.Y(\"y:Q\", axis=None),\n",
    "            y2=\"y2:Q\",\n",
    "            color=alt.Color(\"y:Q\", scale=alt.Scale(range=red_green_yellow)),\n",
    "            opacity=alt.value(0.2),  # Adjust opacity as needed\n",
    "        )\n",
    "        .transform_calculate(y2=\"datum.y + 1\")\n",
    "    )\n",
    "\n",
    "    return bg_chart"
   ]
  },
  {
   "cell_type": "code",
   "execution_count": null,
   "id": "7bb68aad-4a3b-420e-b793-ec016434477b",
   "metadata": {},
   "outputs": [],
   "source": [
    "section3.base_facet_with_ruler_chart(\n",
    "                one_route.drop_duplicates(),\n",
    "                \"vp_per_minute\",\n",
    "                \"ruler_for_vp_per_min\",\n",
    "                readable_dict['vp_per_min']['title'],\n",
    "                readable_dict['vp_per_min']['subtitle'],\n",
    "            )"
   ]
  },
  {
   "cell_type": "code",
   "execution_count": null,
   "id": "028cb13b-b598-4b5b-b0f6-d84aa1323e98",
   "metadata": {},
   "outputs": [],
   "source": [
    "blue_palette = [\"#B9D6DF\", \"#2EA8CE\", \"#0B405B\"]"
   ]
  },
  {
   "cell_type": "markdown",
   "id": "85b97563-102f-4f3b-a270-26df18ed6092",
   "metadata": {},
   "source": [
    "#### Spatial Accuracy (Done)\n",
    "* Multiple it by 100? Should this be rounded or not?"
   ]
  },
  {
   "cell_type": "code",
   "execution_count": null,
   "id": "c1f2acbb-687e-42e1-b6e4-e0ac02d87f97",
   "metadata": {},
   "outputs": [],
   "source": [
    "section3.base_facet_with_ruler_chart(\n",
    "    one_route.loc[one_route.time_period == \"all_day\"].drop_duplicates(),\n",
    "    \"pct_in_shape\",\n",
    "    \"ruler_100_pct\",\n",
    "    \"Spatial Accuracy\",\n",
    "    \"The percentage of vehicle positions that fall within the static scheduled route shape reflects the accuracy of the spatial, realtime data.\",\n",
    ")"
   ]
  },
  {
   "cell_type": "markdown",
   "id": "b4e77620-cb0e-4388-88ef-36e9640b043d",
   "metadata": {},
   "source": [
    "#### % RT journey with 1+/2+ vp (goal line = 100%) - use all_day, one chart shared for 1+ and 2+ (Done need subtitle)"
   ]
  },
  {
   "cell_type": "code",
   "execution_count": null,
   "id": "d92d1eb7-8e6d-4cfd-a0e2-dbc093281065",
   "metadata": {},
   "outputs": [],
   "source": [
    "def pct_vp_journey(df: pd.DataFrame, col1: str, col2: str) -> pd.DataFrame:\n",
    "    to_keep = [\n",
    "        \"service_date\",\n",
    "        \"organization_name\",\n",
    "        \"direction_id\",\n",
    "        col1,\n",
    "        col2,\n",
    "        \"route_combined_name\",\n",
    "        \"time_period\",\n",
    "        \"route_id\",\n",
    "        \"ruler_100_pct\",\n",
    "    ]\n",
    "    df2 = df[to_keep]\n",
    "\n",
    "    df3 = df2.melt(\n",
    "        id_vars=[\n",
    "            \"service_date\",\n",
    "            \"organization_name\",\n",
    "            \"route_combined_name\",\n",
    "            \"direction_id\",\n",
    "            \"time_period\",\n",
    "            \"route_id\",\n",
    "            \"ruler_100_pct\",\n",
    "        ],\n",
    "        value_vars=[col1, col2],\n",
    "    )\n",
    "\n",
    "    return df3"
   ]
  },
  {
   "cell_type": "code",
   "execution_count": null,
   "id": "2966643d-43ac-4444-9d76-3457408b6c62",
   "metadata": {},
   "outputs": [],
   "source": [
    "pct_rt = pct_vp_journey(\n",
    "    one_route, \"pct_rt_journey_atleast1_vp\", \"pct_rt_journey_atleast2_vp\"\n",
    ")"
   ]
  },
  {
   "cell_type": "markdown",
   "id": "48595e43-4912-47dd-b587-cff54cfdf363",
   "metadata": {
    "toc-hr-collapsed": true
   },
   "source": [
    "#### % schedule journey with 1+/2+ vp (goal line = 100%) - use all_day, one chart shared for 1+ and 2+ (Done need subtitle)"
   ]
  },
  {
   "cell_type": "code",
   "execution_count": null,
   "id": "e2430acf-9b18-43d2-a8f3-91d86dd3f747",
   "metadata": {},
   "outputs": [],
   "source": [
    "schd_rt = pct_vp_journey(\n",
    "    one_route, \"pct_sched_journey_atleast1_vp\", \"pct_sched_journey_atleast2_vp\"\n",
    ")"
   ]
  },
  {
   "cell_type": "code",
   "execution_count": null,
   "id": "e87020b6-652b-43bb-b1ac-b42d84e2d1ae",
   "metadata": {},
   "outputs": [],
   "source": [
    "\"\"\" base_facet_circle(\n",
    "    schd_rt.loc[schd_rt.time_period == \"all_day\"],\n",
    "    \"value\",\n",
    "    \"ruler_100_pct\",\n",
    "    \"Percentage of Scheduled Trips with 1+ and 2+ Vehicle Positions\",\n",
    "    \"The goal is for almost 100% of trips to have 2 or more Vehicle Positions per minute.\",\n",
    ")\"\"\""
   ]
  },
  {
   "cell_type": "markdown",
   "id": "4749520b-8d3f-4c61-908d-98a612283fdd",
   "metadata": {
    "tags": []
   },
   "source": [
    "#### Number of trips by sched_vp_category (/operator_schedule_rt_category)\n",
    "* Why is the crosswalk missing SBMTD schedule??"
   ]
  },
  {
   "cell_type": "code",
   "execution_count": null,
   "id": "e35701ca-3d38-4b78-b974-fd56f0b7b74b",
   "metadata": {},
   "outputs": [],
   "source": [
    "op_sched_rt_cat = pd.read_parquet(\n",
    "    f\"{RT_SCHED_GCS}digest/operator_schedule_rt_category.parquet\"\n",
    ")"
   ]
  },
  {
   "cell_type": "code",
   "execution_count": null,
   "id": "e76e9252-95a7-44ac-ab34-496935d9600d",
   "metadata": {},
   "outputs": [],
   "source": [
    "list(df.schedule_gtfs_dataset_key.unique())"
   ]
  },
  {
   "cell_type": "code",
   "execution_count": null,
   "id": "f285a7fe-a525-42a4-a954-ab2573c0e14b",
   "metadata": {},
   "outputs": [],
   "source": [
    "test = section3.load_operator_schedule_rt_category(\"de792182088eecc3d5c0bd3f1df62965\")"
   ]
  },
  {
   "cell_type": "code",
   "execution_count": null,
   "id": "fc52dcb7-bebb-46c8-878c-860b129784f6",
   "metadata": {},
   "outputs": [],
   "source": [
    "op_sched_rt_cat.schedule_gtfs_dataset_key.nunique()"
   ]
  },
  {
   "cell_type": "code",
   "execution_count": null,
   "id": "1b602f55-eda4-4363-af8b-a24efb140db1",
   "metadata": {},
   "outputs": [],
   "source": [
    "def basic_bar_chart(\n",
    "    df: pd.DataFrame, y_col: str, color_col: str, title: str, subtitle: str\n",
    "):\n",
    "    chart = (\n",
    "        alt.Chart(df)\n",
    "        .mark_bar()\n",
    "        .encode(\n",
    "            x=alt.X(\n",
    "                f\"yearmonthdate(service_date):O\",\n",
    "                title=\"Service Date\",\n",
    "                axis=alt.Axis(format=\"%b %Y\"),\n",
    "            ),\n",
    "            y=alt.Y(f\"{y_col}:Q\", title=labeling(y_col)),\n",
    "            color=alt.Color(\n",
    "                f\"{color_col}:N\",\n",
    "                scale=alt.Scale(\n",
    "                    range=cp.CALITP_SEQUENTIAL_COLORS,\n",
    "                ),\n",
    "            ),\n",
    "            tooltip=df.columns.tolist(),\n",
    "        )\n",
    "    ).properties(\n",
    "        title={\n",
    "            \"text\": title,\n",
    "            \"subtitle\": subtitle,\n",
    "        },\n",
    "        width=500,\n",
    "        height=300,\n",
    "    )\n",
    "    return chart"
   ]
  },
  {
   "cell_type": "code",
   "execution_count": null,
   "id": "59686254-f0f9-413e-8724-bc22931b3b59",
   "metadata": {},
   "outputs": [],
   "source": [
    "\"\"\"basic_bar_chart(\n",
    "    op_sched_rt_cat,\n",
    "    \"n_trips\",\n",
    "    \"sched_rt_category\",\n",
    "    \"Trips that were found in GTFS, Schedule, or Both Data Sources\",\n",
    "    \"\",\n",
    ") \"\"\""
   ]
  },
  {
   "cell_type": "markdown",
   "id": "b14d8827-083f-4057-a5db-b71b63ac1dee",
   "metadata": {},
   "source": [
    "#### Text"
   ]
  },
  {
   "cell_type": "code",
   "execution_count": null,
   "id": "0a7654f3-aa39-4a7a-aa99-a46e82283946",
   "metadata": {},
   "outputs": [],
   "source": [
    "table_df = section3.route_stats(one_route)"
   ]
  },
  {
   "cell_type": "code",
   "execution_count": null,
   "id": "3d8ee8c7-d3fd-4930-a71e-eb4e4f9f250a",
   "metadata": {},
   "outputs": [],
   "source": [
    "section3.create_text_table(table_df, 0)"
   ]
  },
  {
   "cell_type": "code",
   "execution_count": null,
   "id": "8873e9da-1743-4d91-820c-88123819146c",
   "metadata": {},
   "outputs": [],
   "source": [
    "section3.create_text_table(table_df, 1)"
   ]
  },
  {
   "cell_type": "markdown",
   "id": "6fc21ac6-f52f-4f7b-929d-3d439f9f087f",
   "metadata": {},
   "source": [
    "#### Putting it all together"
   ]
  },
  {
   "cell_type": "code",
   "execution_count": null,
   "id": "06f6f21a-96aa-4a33-9b6d-d36bd4bea7ee",
   "metadata": {},
   "outputs": [],
   "source": [
    "def filtered_route(\n",
    "    df: pd.DataFrame,\n",
    ") -> alt.Chart:\n",
    "    \"\"\"\n",
    "    https://stackoverflow.com/questions/58919888/multiple-selections-in-altair\n",
    "    \"\"\"\n",
    "    \n",
    "    routes_list = df[\"route_combined_name\"].unique().tolist()\n",
    "\n",
    "    route_dropdown = alt.binding_select(\n",
    "        options=routes_list,\n",
    "        name=\"Routes\",\n",
    "    )\n",
    "\n",
    "    # Column that controls the bar charts\n",
    "    route_selector = alt.selection_point(\n",
    "        fields=[\"route_combined_name\"],\n",
    "        bind=route_dropdown,\n",
    "    )\n",
    "\n",
    "    # Filter for only rows categorized as found in schedule and vp and all_day\n",
    "    all_day = df.loc[\n",
    "        df.time_period == \"all_day\"\n",
    "    ].reset_index(drop=True)\n",
    "\n",
    "    # Create route stats table for the text tables\n",
    "    route_stats_df = section3.route_stats(df)\n",
    "\n",
    "    # Manipulate the df for some of the metrics\n",
    "    timeliness_df = section3.timeliness_trips(df)\n",
    "    rt_journey_vp = section3.pct_vp_journey(\n",
    "        all_day, \"pct_rt_journey_atleast1_vp\", \"pct_rt_journey_atleast2_vp\"\n",
    "    )\n",
    "    sched_journey_vp = section3.pct_vp_journey(\n",
    "        all_day, \"pct_rt_journey_atleast1_vp\", \"pct_rt_journey_atleast2_vp\"\n",
    "    )\n",
    "\n",
    "    # Charts\n",
    "    avg_scheduled_min = (\n",
    "        section3.grouped_bar_chart(\n",
    "            df=all_day,\n",
    "            color_col=\"direction_id\",\n",
    "            y_col=\"avg_scheduled_service_minutes\",\n",
    "            offset_col=\"direction_id\",\n",
    "            title=\"Average Scheduled Minutes\",\n",
    "            subtitle=\"The average minutes a trip is scheduled to run.\",\n",
    "        )\n",
    "        .add_params(route_selector)\n",
    "        .transform_filter(route_selector)\n",
    "    )\n",
    "\n",
    "    timeliness_trips_dir_0 = (\n",
    "        (\n",
    "            section3.base_facet_chart(\n",
    "                timeliness_df.loc[timeliness_df.direction_id == 0],\n",
    "                \"value\",\n",
    "                \"variable\",\n",
    "                \"time_period\",\n",
    "                \"Breakdown of Trips by Categories for Direction 0\",\n",
    "                \"Categorizing whether a trip is early, late, or ontime. A trip is on time if it arrives 5 minutes later or earlier than scheduled.\",\n",
    "            )\n",
    "        )\n",
    "        .add_params(route_selector)\n",
    "        .transform_filter(route_selector)\n",
    "    )\n",
    "    timeliness_trips_dir_1 = (\n",
    "        (\n",
    "            section3.base_facet_chart(\n",
    "                timeliness_df.loc[timeliness_df.direction_id == 1],\n",
    "                \"value\",\n",
    "                \"variable\",\n",
    "                \"time_period\",\n",
    "                \"Breakdown of Trips by Categories for Direction 1\",\n",
    "                \"Categorizing whether a trip is early, late, or ontime. A trip is on time if it arrives 5 minutes later or earlier than scheduled.\",\n",
    "            )\n",
    "        )\n",
    "        .add_params(route_selector)\n",
    "        .transform_filter(route_selector)\n",
    "    )\n",
    "\n",
    "    frequency = (\n",
    "        section3.frequency_chart(df)\n",
    "        .add_params(route_selector)\n",
    "        .transform_filter(route_selector)\n",
    "    )\n",
    "    speed = (\n",
    "        section3.base_facet_line(\n",
    "            df,\n",
    "            \"speed_mph\",\n",
    "            \"Average Speed\",\n",
    "            \"The average miles per hour the bus travels by direction and time of day.\",\n",
    "        )\n",
    "        .add_params(route_selector)\n",
    "        .transform_filter(route_selector)\n",
    "    )\n",
    "\n",
    "    vp_per_min = (\n",
    "        (\n",
    "            section3.base_facet_with_ruler_chart(\n",
    "                all_day,\n",
    "                \"vp_per_minute\",\n",
    "                \"ruler_for_vp_per_min\",\n",
    "                \"Vehicle Positions per Minute\",\n",
    "                \"Trips should have 2+ vehicle positions per minute.\",\n",
    "            )\n",
    "        )\n",
    "        .add_params(route_selector)\n",
    "        .transform_filter(route_selector)\n",
    "    )\n",
    "\n",
    "    rt_vp_per_min = (\n",
    "        section3.base_facet_circle(\n",
    "            rt_journey_vp,\n",
    "            \"value\",\n",
    "            \"ruler_100_pct\",\n",
    "            \"Percentage of Realtime Trips with 1+ and 2+ Vehicle Positions\",\n",
    "            \"The goal is for almost 100% of trips to have 2 or more Vehicle Positions per minute.\",\n",
    "        )\n",
    "        .add_params(route_selector)\n",
    "        .transform_filter(route_selector)\n",
    "    )\n",
    "    sched_vp_per_min = (\n",
    "        section3.base_facet_circle(\n",
    "            sched_journey_vp,\n",
    "            \"value\",\n",
    "            \"sched_journey_vp\",\n",
    "            \"Percentage of Scheduled Trips with 1+ and 2+ Vehicle Positions\",\n",
    "            \"The goal is for almost 100% of trips to have 2 or more Vehicle Positions per minute.\",\n",
    "        )\n",
    "        .add_params(route_selector)\n",
    "        .transform_filter(route_selector)\n",
    "    )\n",
    "    spatial_accuracy = (\n",
    "        section3.base_facet_with_ruler_chart(\n",
    "            all_day,\n",
    "            \"pct_in_shape\",\n",
    "            \"ruler_100_pct\",\n",
    "            \"Spatial Accuracy\",\n",
    "            \"The percentage of vehicle positions that fall within the static scheduled route shape reflects the accuracy of the spatial, realtime data.\",\n",
    "        )\n",
    "        .add_params(route_selector)\n",
    "        .transform_filter(route_selector)\n",
    "    )\n",
    "\n",
    "    text_dir0 = (\n",
    "        (section3.create_text_table(route_stats_df, 0))\n",
    "        .add_params(route_selector)\n",
    "        .transform_filter(route_selector)\n",
    "    )\n",
    "    text_dir1 = (\n",
    "        section3.create_text_table(route_stats_df, 1)\n",
    "        .add_params(route_selector)\n",
    "        .transform_filter(route_selector)\n",
    "    )\n",
    "    chart_list = [\n",
    "        avg_scheduled_min,\n",
    "        timeliness_trips_dir_0,\n",
    "        timeliness_trips_dir_1,\n",
    "        frequency,\n",
    "        speed,\n",
    "        vp_per_min,\n",
    "        rt_vp_per_min,\n",
    "        sched_vp_per_min,\n",
    "        spatial_accuracy,\n",
    "        text_dir0,\n",
    "        text_dir1,\n",
    "    ]\n",
    "\n",
    "    chart = alt.vconcat(*chart_list).properties(\n",
    "        resolve=alt.Resolve(\n",
    "            scale=alt.LegendResolveMap(color=alt.ResolveMode(\"independent\"))\n",
    "        )\n",
    "    )\n",
    "    return chart"
   ]
  },
  {
   "cell_type": "code",
   "execution_count": null,
   "id": "cae4c735-f2e0-4f4f-98f8-1a79bfa1d37e",
   "metadata": {},
   "outputs": [],
   "source": [
    "filtered_route(df)"
   ]
  },
  {
   "cell_type": "code",
   "execution_count": null,
   "id": "c3cf25bc-cb9f-4f93-8280-b16a0d47628f",
   "metadata": {},
   "outputs": [],
   "source": [
    "# LOTS of duplicates??\n",
    "len(df)"
   ]
  },
  {
   "cell_type": "code",
   "execution_count": null,
   "id": "4ba50135-5dc2-4935-902d-d6ecd48c47f4",
   "metadata": {},
   "outputs": [],
   "source": [
    "len(df.drop_duplicates())"
   ]
  },
  {
   "cell_type": "code",
   "execution_count": null,
   "id": "e1d8613a-f57a-4c52-bb87-e7f9dbe6d706",
   "metadata": {},
   "outputs": [],
   "source": [
    "df.service_date.describe()"
   ]
  },
  {
   "cell_type": "code",
   "execution_count": null,
   "id": "32f6dead-15ab-47c8-a151-f258860e11ae",
   "metadata": {},
   "outputs": [],
   "source": []
  }
 ],
 "metadata": {
  "kernelspec": {
   "display_name": "Python 3 (ipykernel)",
   "language": "python",
   "name": "python3"
  },
  "language_info": {
   "codemirror_mode": {
    "name": "ipython",
    "version": 3
   },
   "file_extension": ".py",
   "mimetype": "text/x-python",
   "name": "python",
   "nbconvert_exporter": "python",
   "pygments_lexer": "ipython3",
   "version": "3.9.13"
  }
 },
 "nbformat": 4,
 "nbformat_minor": 5
}
