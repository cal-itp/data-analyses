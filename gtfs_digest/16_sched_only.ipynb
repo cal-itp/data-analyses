{
 "cells": [
  {
   "cell_type": "markdown",
   "id": "9967292f-638c-488d-963b-92f09fa35993",
   "metadata": {},
   "source": [
    "## Troubleshooting the charts of the operators that are schedule only"
   ]
  },
  {
   "cell_type": "code",
   "execution_count": 1,
   "id": "114c35d4-c066-4701-8aa4-cc4ab7536915",
   "metadata": {},
   "outputs": [],
   "source": [
    "import _section1_utils as section1\n",
    "import _section2_utils as section2\n",
    "import pandas as pd"
   ]
  },
  {
   "cell_type": "code",
   "execution_count": 2,
   "id": "2d9efd45-8171-406a-9360-cf08754fb705",
   "metadata": {},
   "outputs": [],
   "source": [
    "pd.options.display.max_columns = 100\n",
    "pd.options.display.float_format = \"{:.2f}\".format\n",
    "pd.set_option(\"display.max_rows\", None)\n",
    "pd.set_option(\"display.max_colwidth\", None)"
   ]
  },
  {
   "cell_type": "code",
   "execution_count": 3,
   "id": "74f2559f-4582-4bfb-ad5a-f152f0d73f27",
   "metadata": {},
   "outputs": [],
   "source": [
    "import yaml\n",
    "with open(\"readable.yml\") as f:\n",
    "    readable_dict = yaml.safe_load(f)"
   ]
  },
  {
   "cell_type": "code",
   "execution_count": 4,
   "id": "32e86815-44f5-4482-910f-6db106dbaf7a",
   "metadata": {},
   "outputs": [],
   "source": [
    "import geopandas as gpd\n",
    "from shared_utils import catalog_utils\n",
    "\n",
    "GTFS_DATA_DICT = catalog_utils.get_catalog(\"gtfs_analytics_data\")"
   ]
  },
  {
   "cell_type": "markdown",
   "id": "d80b562a-2336-4102-9da9-f459efc111da",
   "metadata": {},
   "source": [
    "### Mapping Routes"
   ]
  },
  {
   "cell_type": "code",
   "execution_count": 5,
   "id": "5be0db5d-d5d4-4c38-bd7d-83eeff585aed",
   "metadata": {},
   "outputs": [],
   "source": [
    "bart = \"San Francisco Bay Area Rapid Transit District\""
   ]
  },
  {
   "cell_type": "code",
   "execution_count": 6,
   "id": "97bb2e27-da82-45b0-a116-d7890b3a4754",
   "metadata": {},
   "outputs": [],
   "source": [
    "emeryville = \"Emeryville Transportation Management Agency\""
   ]
  },
  {
   "cell_type": "code",
   "execution_count": 7,
   "id": "e71bb88e-1930-4295-a867-6b57fc946006",
   "metadata": {},
   "outputs": [],
   "source": [
    "rio_vista = \"City of Rio Vista\""
   ]
  },
  {
   "cell_type": "code",
   "execution_count": 8,
   "id": "ce244ec3-1e81-46f6-b28c-55b36962475d",
   "metadata": {},
   "outputs": [],
   "source": [
    "bart_name = section1.organization_name_crosswalk(bart)"
   ]
  },
  {
   "cell_type": "code",
   "execution_count": 9,
   "id": "b8dc8099-fcd7-4362-adfa-823eaf362432",
   "metadata": {},
   "outputs": [],
   "source": [
    "emeryville_name = section1.organization_name_crosswalk(emeryville)"
   ]
  },
  {
   "cell_type": "markdown",
   "id": "528cefeb-02e4-490a-8f56-73f105db68e0",
   "metadata": {},
   "source": [
    "#### Bart is still not showing all of its  routes.\n",
    "* The original file shows only 5 geometries. According to Google, Bart runs 6..."
   ]
  },
  {
   "cell_type": "code",
   "execution_count": 27,
   "id": "b0cb6e15-b994-4c0a-a6b6-98cb38dfb3ce",
   "metadata": {},
   "outputs": [],
   "source": [
    "bart_url = f\"{GTFS_DATA_DICT.digest_tables.dir}{GTFS_DATA_DICT.digest_tables.operator_routes_map}.parquet\"\n",
    "bart_og_gdf = gpd.read_parquet(\n",
    "    bart_url,\n",
    "    filters=[[(\"name\", \"==\", bart_name)]])"
   ]
  },
  {
   "cell_type": "code",
   "execution_count": 29,
   "id": "6ab7af4b-c3cc-4ca9-b003-a0a46fb5e77e",
   "metadata": {},
   "outputs": [
    {
     "data": {
      "text/plain": [
       "Index(['shape_array_key', 'geometry', 'feed_key', 'schedule_gtfs_dataset_key',\n",
       "       'direction_id', 'route_key', 'route_length', 'route_length_miles',\n",
       "       'is_downtown_local', 'is_local', 'is_coverage', 'is_rapid',\n",
       "       'is_express', 'is_rail', 'organization_source_record_id',\n",
       "       'organization_name', 'service_date', 'name', 'route_long_name',\n",
       "       'route_short_name', 'route_combined_name', 'route_id'],\n",
       "      dtype='object')"
      ]
     },
     "execution_count": 29,
     "metadata": {},
     "output_type": "execute_result"
    }
   ],
   "source": [
    "bart_og_gdf.columns"
   ]
  },
  {
   "cell_type": "code",
   "execution_count": 30,
   "id": "ed63d900-f975-4712-9109-d3354bf4e24e",
   "metadata": {},
   "outputs": [
    {
     "data": {
      "text/plain": [
       "5"
      ]
     },
     "execution_count": 30,
     "metadata": {},
     "output_type": "execute_result"
    }
   ],
   "source": [
    "bart_og_gdf.route_combined_name.nunique()"
   ]
  },
  {
   "cell_type": "code",
   "execution_count": 11,
   "id": "0dfe2e04-6a56-4fa0-8ab9-e4775f80dd24",
   "metadata": {},
   "outputs": [],
   "source": [
    "bart_map = section1.load_operator_map(bart_name)"
   ]
  },
  {
   "cell_type": "code",
   "execution_count": 12,
   "id": "bf9ab6c2-b95f-4224-8995-36451b1407b3",
   "metadata": {},
   "outputs": [
    {
     "data": {
      "text/plain": [
       "10"
      ]
     },
     "execution_count": 12,
     "metadata": {},
     "output_type": "execute_result"
    }
   ],
   "source": [
    "len(bart_map)"
   ]
  },
  {
   "cell_type": "code",
   "execution_count": 22,
   "id": "764cb5ce-c341-43ee-a781-02735c1b468a",
   "metadata": {},
   "outputs": [
    {
     "data": {
      "text/plain": [
       "5"
      ]
     },
     "execution_count": 22,
     "metadata": {},
     "output_type": "execute_result"
    }
   ],
   "source": [
    "bart_map.Route.nunique()"
   ]
  },
  {
   "cell_type": "code",
   "execution_count": 31,
   "id": "a47be681-e81a-4929-bd8a-2c08f273cee5",
   "metadata": {
    "tags": []
   },
   "outputs": [],
   "source": [
    "# bart_map.drop(columns = [\"geometry\"])"
   ]
  },
  {
   "cell_type": "code",
   "execution_count": 14,
   "id": "58dad9f7-5436-4688-aa10-f7a42547ac41",
   "metadata": {},
   "outputs": [],
   "source": [
    "longest_shortest_bart = section1.shortest_longest_route(bart_map)"
   ]
  },
  {
   "cell_type": "code",
   "execution_count": 15,
   "id": "b63d7deb-4b2d-475d-acba-5443cb95b1fc",
   "metadata": {},
   "outputs": [
    {
     "data": {
      "text/html": [
       "<div>\n",
       "<style scoped>\n",
       "    .dataframe tbody tr th:only-of-type {\n",
       "        vertical-align: middle;\n",
       "    }\n",
       "\n",
       "    .dataframe tbody tr th {\n",
       "        vertical-align: top;\n",
       "    }\n",
       "\n",
       "    .dataframe thead th {\n",
       "        text-align: right;\n",
       "    }\n",
       "</style>\n",
       "<table border=\"1\" class=\"dataframe\">\n",
       "  <thead>\n",
       "    <tr style=\"text-align: right;\">\n",
       "      <th></th>\n",
       "      <th>Route</th>\n",
       "      <th>Service Miles</th>\n",
       "    </tr>\n",
       "  </thead>\n",
       "  <tbody>\n",
       "    <tr>\n",
       "      <th>47</th>\n",
       "      <td>Red-S Richmond to Daly City/Millbrae</td>\n",
       "      <td>37.30</td>\n",
       "    </tr>\n",
       "    <tr>\n",
       "      <th>49</th>\n",
       "      <td>Yellow-N Millbrae/SFIA to Antioch</td>\n",
       "      <td>62.19</td>\n",
       "    </tr>\n",
       "  </tbody>\n",
       "</table>\n",
       "</div>"
      ],
      "text/plain": [
       "                                   Route  Service Miles\n",
       "47  Red-S Richmond to Daly City/Millbrae          37.30\n",
       "49     Yellow-N Millbrae/SFIA to Antioch          62.19"
      ]
     },
     "execution_count": 15,
     "metadata": {},
     "output_type": "execute_result"
    }
   ],
   "source": [
    "longest_shortest_bart"
   ]
  },
  {
   "cell_type": "code",
   "execution_count": 16,
   "id": "1014738c-7ca1-4a10-aa05-73a1a520dcb7",
   "metadata": {},
   "outputs": [
    {
     "data": {
      "text/html": [
       "\n",
       "<style>\n",
       "  #altair-viz-97f56ea40c614420b72e8799117c6149.vega-embed {\n",
       "    width: 100%;\n",
       "    display: flex;\n",
       "  }\n",
       "\n",
       "  #altair-viz-97f56ea40c614420b72e8799117c6149.vega-embed details,\n",
       "  #altair-viz-97f56ea40c614420b72e8799117c6149.vega-embed details summary {\n",
       "    position: relative;\n",
       "  }\n",
       "</style>\n",
       "<div id=\"altair-viz-97f56ea40c614420b72e8799117c6149\"></div>\n",
       "<script type=\"text/javascript\">\n",
       "  var VEGA_DEBUG = (typeof VEGA_DEBUG == \"undefined\") ? {} : VEGA_DEBUG;\n",
       "  (function(spec, embedOpt){\n",
       "    let outputDiv = document.currentScript.previousElementSibling;\n",
       "    if (outputDiv.id !== \"altair-viz-97f56ea40c614420b72e8799117c6149\") {\n",
       "      outputDiv = document.getElementById(\"altair-viz-97f56ea40c614420b72e8799117c6149\");\n",
       "    }\n",
       "    const paths = {\n",
       "      \"vega\": \"https://cdn.jsdelivr.net/npm/vega@5?noext\",\n",
       "      \"vega-lib\": \"https://cdn.jsdelivr.net/npm/vega-lib?noext\",\n",
       "      \"vega-lite\": \"https://cdn.jsdelivr.net/npm/vega-lite@5.17.0?noext\",\n",
       "      \"vega-embed\": \"https://cdn.jsdelivr.net/npm/vega-embed@6?noext\",\n",
       "    };\n",
       "\n",
       "    function maybeLoadScript(lib, version) {\n",
       "      var key = `${lib.replace(\"-\", \"\")}_version`;\n",
       "      return (VEGA_DEBUG[key] == version) ?\n",
       "        Promise.resolve(paths[lib]) :\n",
       "        new Promise(function(resolve, reject) {\n",
       "          var s = document.createElement('script');\n",
       "          document.getElementsByTagName(\"head\")[0].appendChild(s);\n",
       "          s.async = true;\n",
       "          s.onload = () => {\n",
       "            VEGA_DEBUG[key] = version;\n",
       "            return resolve(paths[lib]);\n",
       "          };\n",
       "          s.onerror = () => reject(`Error loading script: ${paths[lib]}`);\n",
       "          s.src = paths[lib];\n",
       "        });\n",
       "    }\n",
       "\n",
       "    function showError(err) {\n",
       "      outputDiv.innerHTML = `<div class=\"error\" style=\"color:red;\">${err}</div>`;\n",
       "      throw err;\n",
       "    }\n",
       "\n",
       "    function displayChart(vegaEmbed) {\n",
       "      vegaEmbed(outputDiv, spec, embedOpt)\n",
       "        .catch(err => showError(`Javascript Error: ${err.message}<br>This usually means there's a typo in your chart specification. See the javascript console for the full traceback.`));\n",
       "    }\n",
       "\n",
       "    if(typeof define === \"function\" && define.amd) {\n",
       "      requirejs.config({paths});\n",
       "      require([\"vega-embed\"], displayChart, err => showError(`Error loading script: ${err.message}`));\n",
       "    } else {\n",
       "      maybeLoadScript(\"vega\", \"5\")\n",
       "        .then(() => maybeLoadScript(\"vega-lite\", \"5.17.0\"))\n",
       "        .then(() => maybeLoadScript(\"vega-embed\", \"6\"))\n",
       "        .catch(showError)\n",
       "        .then(() => displayChart(vegaEmbed));\n",
       "    }\n",
       "  })({\"config\": {\"view\": {\"continuousWidth\": 300, \"continuousHeight\": 300}}, \"data\": {\"name\": \"data-a70f1f960beb5e55b806e4fb86055adb\"}, \"mark\": {\"type\": \"bar\"}, \"encoding\": {\"color\": {\"field\": \"Route\", \"legend\": null, \"scale\": {\"range\": [\"#fde18d\", \"#49a2b2\", \"#3b56a4\"]}, \"title\": \"Route\", \"type\": \"nominal\"}, \"tooltip\": [{\"field\": \"Service Miles\", \"type\": \"quantitative\"}, {\"field\": \"Route\", \"type\": \"nominal\"}], \"x\": {\"field\": \"Service Miles\", \"title\": \"Service Miles\", \"type\": \"quantitative\"}, \"y\": {\"field\": \"Route\", \"title\": \"Route\", \"type\": \"nominal\"}}, \"title\": {\"text\": [\"Longest and Shortest Route\"], \"subtitle\": [\"In miles.\"]}, \"width\": 400, \"$schema\": \"https://vega.github.io/schema/vega-lite/v5.17.0.json\", \"datasets\": {\"data-a70f1f960beb5e55b806e4fb86055adb\": [{\"Route\": \"Red-S Richmond to Daly City/Millbrae\", \"Service Miles\": 37.3}, {\"Route\": \"Yellow-N Millbrae/SFIA to Antioch\", \"Service Miles\": 62.19}]}}, {\"mode\": \"vega-lite\"});\n",
       "</script>"
      ],
      "text/plain": [
       "alt.Chart(...)"
      ]
     },
     "metadata": {},
     "output_type": "display_data"
    }
   ],
   "source": [
    "display(\n",
    "        section1.basic_bar_chart(\n",
    "            longest_shortest_bart,\n",
    "            \"Service Miles\",\n",
    "            \"Route\",\n",
    "            readable_dict[\"longest_shortest_route\"][\"title\"],\n",
    "            readable_dict[\"longest_shortest_route\"][\"subtitle\"],\n",
    "        )\n",
    "    )"
   ]
  },
  {
   "cell_type": "code",
   "execution_count": null,
   "id": "1cfe21f8-ed73-4c91-8d76-e67adee15559",
   "metadata": {},
   "outputs": [],
   "source": [
    "emeryville_map = section1.load_operator_map(emeryville_name)"
   ]
  },
  {
   "cell_type": "code",
   "execution_count": null,
   "id": "c4424cee-4f83-40e7-9342-e1628d03ee8d",
   "metadata": {},
   "outputs": [],
   "source": [
    "emeryville_map.shape"
   ]
  },
  {
   "cell_type": "code",
   "execution_count": null,
   "id": "567f0bd9-08dc-40ce-bb6d-e9188c110a9c",
   "metadata": {},
   "outputs": [],
   "source": [
    "# emeryville_map.explore(\"Route\")"
   ]
  },
  {
   "cell_type": "markdown",
   "id": "4cb7323d-9c0f-4a1b-8210-7f697fceabc6",
   "metadata": {},
   "source": [
    "### Operator Profiles\n",
    "* How come the # of routes don't match? "
   ]
  },
  {
   "cell_type": "code",
   "execution_count": 34,
   "id": "83e4f25b-f88b-4cf2-934e-d497c53e9df8",
   "metadata": {},
   "outputs": [
    {
     "data": {
      "text/plain": [
       "'Bay Area 511 Rio Vista Delta Breeze Schedule'"
      ]
     },
     "execution_count": 34,
     "metadata": {},
     "output_type": "execute_result"
    }
   ],
   "source": [
    "rio_vista_name"
   ]
  },
  {
   "cell_type": "code",
   "execution_count": 35,
   "id": "1f179450-9cc8-464a-80c8-60629c6b63f8",
   "metadata": {},
   "outputs": [],
   "source": [
    "rio_vista_profile = section1.load_operator_profiles(rio_vista)"
   ]
  },
  {
   "cell_type": "code",
   "execution_count": 38,
   "id": "140ef9c8-aa15-401e-ae23-74938890d3b1",
   "metadata": {},
   "outputs": [],
   "source": [
    "bart_profile = section1.load_operator_profiles(bart)"
   ]
  },
  {
   "cell_type": "code",
   "execution_count": 39,
   "id": "e1c5f602-e55e-4e56-829c-fe4a82d712fb",
   "metadata": {},
   "outputs": [
    {
     "data": {
      "text/html": [
       "<div>\n",
       "<style scoped>\n",
       "    .dataframe tbody tr th:only-of-type {\n",
       "        vertical-align: middle;\n",
       "    }\n",
       "\n",
       "    .dataframe tbody tr th {\n",
       "        vertical-align: top;\n",
       "    }\n",
       "\n",
       "    .dataframe thead th {\n",
       "        text-align: right;\n",
       "    }\n",
       "</style>\n",
       "<table border=\"1\" class=\"dataframe\">\n",
       "  <thead>\n",
       "    <tr style=\"text-align: right;\">\n",
       "      <th></th>\n",
       "      <th>schedule_gtfs_dataset_key</th>\n",
       "      <th># Routes</th>\n",
       "      <th># Trips</th>\n",
       "      <th># Shapes</th>\n",
       "      <th># Stops</th>\n",
       "      <th># Arrivals</th>\n",
       "      <th>Operator Service Miles</th>\n",
       "      <th>Avg Arrivals per Stop</th>\n",
       "      <th># Downtown Local Route Types</th>\n",
       "      <th># Local Route Types</th>\n",
       "      <th># Coverage Route Types</th>\n",
       "      <th># Rapid Route Types</th>\n",
       "      <th># Express Route Types</th>\n",
       "      <th># Rail Route Types</th>\n",
       "      <th>Transit Operator</th>\n",
       "      <th>Organization ID</th>\n",
       "      <th>Organization</th>\n",
       "      <th>Date</th>\n",
       "    </tr>\n",
       "  </thead>\n",
       "  <tbody>\n",
       "    <tr>\n",
       "      <th>13</th>\n",
       "      <td>8a1405af8da1379acc062e346187ac98</td>\n",
       "      <td>12</td>\n",
       "      <td>1005</td>\n",
       "      <td>25</td>\n",
       "      <td>50</td>\n",
       "      <td>15259</td>\n",
       "      <td>489.44</td>\n",
       "      <td>305.18</td>\n",
       "      <td>2</td>\n",
       "      <td>0</td>\n",
       "      <td>0</td>\n",
       "      <td>0</td>\n",
       "      <td>0</td>\n",
       "      <td>2</td>\n",
       "      <td>Bay Area 511 BART Schedule</td>\n",
       "      <td>recoQLeNRISCKF8I0</td>\n",
       "      <td>San Francisco Bay Area Rapid Transit District</td>\n",
       "      <td>2024-04-17</td>\n",
       "    </tr>\n",
       "  </tbody>\n",
       "</table>\n",
       "</div>"
      ],
      "text/plain": [
       "           schedule_gtfs_dataset_key  # Routes  # Trips  # Shapes  # Stops  \\\n",
       "13  8a1405af8da1379acc062e346187ac98        12     1005        25       50   \n",
       "\n",
       "    # Arrivals  Operator Service Miles  Avg Arrivals per Stop  \\\n",
       "13       15259                  489.44                 305.18   \n",
       "\n",
       "    # Downtown Local Route Types  # Local Route Types  # Coverage Route Types  \\\n",
       "13                             2                    0                       0   \n",
       "\n",
       "    # Rapid Route Types  # Express Route Types  # Rail Route Types  \\\n",
       "13                    0                      0                   2   \n",
       "\n",
       "              Transit Operator    Organization ID  \\\n",
       "13  Bay Area 511 BART Schedule  recoQLeNRISCKF8I0   \n",
       "\n",
       "                                     Organization       Date  \n",
       "13  San Francisco Bay Area Rapid Transit District 2024-04-17  "
      ]
     },
     "execution_count": 39,
     "metadata": {},
     "output_type": "execute_result"
    }
   ],
   "source": [
    "bart_profile"
   ]
  }
 ],
 "metadata": {
  "kernelspec": {
   "display_name": "Python 3 (ipykernel)",
   "language": "python",
   "name": "python3"
  },
  "language_info": {
   "codemirror_mode": {
    "name": "ipython",
    "version": 3
   },
   "file_extension": ".py",
   "mimetype": "text/x-python",
   "name": "python",
   "nbconvert_exporter": "python",
   "pygments_lexer": "ipython3",
   "version": "3.9.13"
  }
 },
 "nbformat": 4,
 "nbformat_minor": 5
}
