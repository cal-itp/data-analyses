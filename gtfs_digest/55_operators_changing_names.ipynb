{
 "cells": [
  {
   "cell_type": "markdown",
   "id": "9c0d6e06-874d-4dd5-82fb-95e5321dd294",
   "metadata": {},
   "source": [
    "## Some operators switch names for the same gtfs_dataset_key"
   ]
  },
  {
   "cell_type": "code",
   "execution_count": 7,
   "id": "1572505c-a664-4bb9-9704-2b824ba1286a",
   "metadata": {
    "tags": []
   },
   "outputs": [],
   "source": [
    "import _section1_utils as section1\n",
    "import _section2_utils as section2\n",
    "import geopandas as gpd\n",
    "import merge_data\n",
    "import merge_operator_data\n",
    "import numpy as np\n",
    "import pandas as pd\n",
    "from segment_speed_utils import gtfs_schedule_wrangling, helpers\n",
    "from segment_speed_utils.project_vars import COMPILED_CACHED_VIEWS, PROJECT_CRS\n",
    "from shared_utils import catalog_utils, portfolio_utils, rt_dates\n",
    "from update_vars import GTFS_DATA_DICT, RT_SCHED_GCS, SCHED_GCS, SEGMENT_GCS"
   ]
  },
  {
   "cell_type": "code",
   "execution_count": 8,
   "id": "ca919f0c-9ff2-42af-ba85-559f30277757",
   "metadata": {
    "tags": []
   },
   "outputs": [],
   "source": [
    "pd.options.display.max_columns = 100\n",
    "pd.options.display.float_format = \"{:.2f}\".format\n",
    "pd.set_option(\"display.max_rows\", None)\n",
    "pd.set_option(\"display.max_colwidth\", None)"
   ]
  },
  {
   "cell_type": "code",
   "execution_count": 9,
   "id": "8c1419ca-4981-4b46-8af6-7074d3907185",
   "metadata": {
    "tags": []
   },
   "outputs": [],
   "source": [
    "analysis_date_list = [rt_dates.DATES[\"feb2025\"]]"
   ]
  },
  {
   "cell_type": "code",
   "execution_count": 10,
   "id": "c40ef50e-1f95-4326-b898-a0d983ea2d73",
   "metadata": {
    "tags": []
   },
   "outputs": [],
   "source": [
    "analysis_date = rt_dates.DATES[\"feb2025\"]"
   ]
  },
  {
   "cell_type": "code",
   "execution_count": 11,
   "id": "f5cc0fd1-e531-4319-a641-9ecc4c0ce855",
   "metadata": {
    "tags": []
   },
   "outputs": [],
   "source": [
    "import _operators_prep"
   ]
  },
  {
   "cell_type": "code",
   "execution_count": 12,
   "id": "aa0cee62-ebcc-4a13-8934-ddee7328224d",
   "metadata": {
    "tags": []
   },
   "outputs": [],
   "source": [
    "schd_vp_url = f\"{GTFS_DATA_DICT.digest_tables.dir}{GTFS_DATA_DICT.digest_tables.route_schedule_vp}.parquet\"\n",
    "    \n",
    "schd_vp_df = (pd.read_parquet(schd_vp_url, \n",
    "                       filters=[[(\"sched_rt_category\", \"in\", [\"schedule_and_vp\", \"schedule_only\"])]],\n",
    "                       columns = [ \"schedule_gtfs_dataset_key\",\n",
    "                                    \"caltrans_district\",\n",
    "                                    \"organization_name\",\n",
    "                                    \"name\",\n",
    "                                    \"sched_rt_category\",\n",
    "                                    \"service_date\",]\n",
    "                                     )\n",
    "                     )\n",
    "\n",
    "schd_vp_df2 = schd_vp_df.loc[schd_vp_df.caltrans_district != '07 - Los Angeles / Ventura']\n",
    "    \n",
    "schd_vp_df2 = (\n",
    "    schd_vp_df.dropna(subset=\"caltrans_district\")\n",
    "    .sort_values(\n",
    "        by=[\n",
    "            \"caltrans_district\",\n",
    "            \"organization_name\",\n",
    "            \"service_date\",\n",
    "        ],\n",
    "        ascending=[True, True, False],\n",
    "    )\n",
    "    .drop_duplicates(\n",
    "        subset=[\n",
    "            \"organization_name\",\n",
    "            \"caltrans_district\",\n",
    "        ]\n",
    "    )\n",
    "    .reset_index(drop=True)\n",
    "    )"
   ]
  },
  {
   "cell_type": "code",
   "execution_count": 13,
   "id": "ac5337e0-0d68-4544-b151-42633d4bba54",
   "metadata": {
    "tags": []
   },
   "outputs": [
    {
     "data": {
      "text/plain": [
       "schedule_and_vp    136\n",
       "schedule_only      126\n",
       "vp_only              0\n",
       "Name: sched_rt_category, dtype: int64"
      ]
     },
     "execution_count": 13,
     "metadata": {},
     "output_type": "execute_result"
    }
   ],
   "source": [
    "schd_vp_df2.sched_rt_category.value_counts()"
   ]
  },
  {
   "cell_type": "code",
   "execution_count": 14,
   "id": "063ff484-8e9b-4ed5-a31c-c4271c829be9",
   "metadata": {
    "tags": []
   },
   "outputs": [],
   "source": [
    "ferry_ops = [\"San Francisco Bay Area Water Emergency Transit Authority\",\n",
    "             \"City of Alameda\",\n",
    "            \"Golden Gate Bridge, Highway and Transportation District\",\n",
    "            \"Southern California Regional Rail Authority\",\n",
    "            \"San Bernardino County Transportation Authority\"]"
   ]
  },
  {
   "cell_type": "code",
   "execution_count": 15,
   "id": "f50a6849-3e22-4ef1-91c3-313498cf081f",
   "metadata": {
    "tags": []
   },
   "outputs": [
    {
     "data": {
      "text/html": [
       "<div>\n",
       "<style scoped>\n",
       "    .dataframe tbody tr th:only-of-type {\n",
       "        vertical-align: middle;\n",
       "    }\n",
       "\n",
       "    .dataframe tbody tr th {\n",
       "        vertical-align: top;\n",
       "    }\n",
       "\n",
       "    .dataframe thead th {\n",
       "        text-align: right;\n",
       "    }\n",
       "</style>\n",
       "<table border=\"1\" class=\"dataframe\">\n",
       "  <thead>\n",
       "    <tr style=\"text-align: right;\">\n",
       "      <th></th>\n",
       "      <th>schedule_gtfs_dataset_key</th>\n",
       "      <th>caltrans_district</th>\n",
       "      <th>organization_name</th>\n",
       "      <th>name</th>\n",
       "      <th>sched_rt_category</th>\n",
       "      <th>service_date</th>\n",
       "    </tr>\n",
       "  </thead>\n",
       "  <tbody>\n",
       "    <tr>\n",
       "      <th>42</th>\n",
       "      <td>82f30e22dafe8156367297eb9a316c57</td>\n",
       "      <td>04 - Oakland</td>\n",
       "      <td>City of Alameda</td>\n",
       "      <td>Bay Area 511 San Francisco Bay Ferry Schedule</td>\n",
       "      <td>schedule_and_vp</td>\n",
       "      <td>2025-02-12</td>\n",
       "    </tr>\n",
       "    <tr>\n",
       "      <th>57</th>\n",
       "      <td>aea4108997c66a74fbdae27b34b69fde</td>\n",
       "      <td>04 - Oakland</td>\n",
       "      <td>Golden Gate Bridge, Highway and Transportation District</td>\n",
       "      <td>Bay Area 511 Golden Gate Transit Schedule</td>\n",
       "      <td>schedule_and_vp</td>\n",
       "      <td>2025-02-12</td>\n",
       "    </tr>\n",
       "    <tr>\n",
       "      <th>66</th>\n",
       "      <td>82f30e22dafe8156367297eb9a316c57</td>\n",
       "      <td>04 - Oakland</td>\n",
       "      <td>San Francisco Bay Area Water Emergency Transit Authority</td>\n",
       "      <td>Bay Area 511 San Francisco Bay Ferry Schedule</td>\n",
       "      <td>schedule_and_vp</td>\n",
       "      <td>2025-02-12</td>\n",
       "    </tr>\n",
       "    <tr>\n",
       "      <th>160</th>\n",
       "      <td>c4092405159366c705b62df938293a4e</td>\n",
       "      <td>07 - Los Angeles</td>\n",
       "      <td>Southern California Regional Rail Authority</td>\n",
       "      <td>Metrolink Schedule</td>\n",
       "      <td>schedule_only</td>\n",
       "      <td>2024-06-12</td>\n",
       "    </tr>\n",
       "    <tr>\n",
       "      <th>227</th>\n",
       "      <td>c4092405159366c705b62df938293a4e</td>\n",
       "      <td>08 - San Bernardino</td>\n",
       "      <td>San Bernardino County Transportation Authority</td>\n",
       "      <td>Metrolink Schedule</td>\n",
       "      <td>schedule_only</td>\n",
       "      <td>2024-06-12</td>\n",
       "    </tr>\n",
       "  </tbody>\n",
       "</table>\n",
       "</div>"
      ],
      "text/plain": [
       "            schedule_gtfs_dataset_key    caltrans_district  \\\n",
       "42   82f30e22dafe8156367297eb9a316c57         04 - Oakland   \n",
       "57   aea4108997c66a74fbdae27b34b69fde         04 - Oakland   \n",
       "66   82f30e22dafe8156367297eb9a316c57         04 - Oakland   \n",
       "160  c4092405159366c705b62df938293a4e     07 - Los Angeles   \n",
       "227  c4092405159366c705b62df938293a4e  08 - San Bernardino   \n",
       "\n",
       "                                            organization_name  \\\n",
       "42                                            City of Alameda   \n",
       "57    Golden Gate Bridge, Highway and Transportation District   \n",
       "66   San Francisco Bay Area Water Emergency Transit Authority   \n",
       "160               Southern California Regional Rail Authority   \n",
       "227            San Bernardino County Transportation Authority   \n",
       "\n",
       "                                              name sched_rt_category  \\\n",
       "42   Bay Area 511 San Francisco Bay Ferry Schedule   schedule_and_vp   \n",
       "57       Bay Area 511 Golden Gate Transit Schedule   schedule_and_vp   \n",
       "66   Bay Area 511 San Francisco Bay Ferry Schedule   schedule_and_vp   \n",
       "160                             Metrolink Schedule     schedule_only   \n",
       "227                             Metrolink Schedule     schedule_only   \n",
       "\n",
       "    service_date  \n",
       "42    2025-02-12  \n",
       "57    2025-02-12  \n",
       "66    2025-02-12  \n",
       "160   2024-06-12  \n",
       "227   2024-06-12  "
      ]
     },
     "execution_count": 15,
     "metadata": {},
     "output_type": "execute_result"
    }
   ],
   "source": [
    "schd_vp_df2.loc[schd_vp_df2.organization_name.isin(ferry_ops)]"
   ]
  },
  {
   "cell_type": "code",
   "execution_count": 16,
   "id": "019651aa-ab33-4f55-9037-a8f1957fd62b",
   "metadata": {
    "tags": []
   },
   "outputs": [
    {
     "data": {
      "text/plain": [
       "262"
      ]
     },
     "execution_count": 16,
     "metadata": {},
     "output_type": "execute_result"
    }
   ],
   "source": [
    "len(schd_vp_df2)"
   ]
  },
  {
   "cell_type": "code",
   "execution_count": 17,
   "id": "87b1a907-2f3d-4a35-9e96-387c0ad70080",
   "metadata": {
    "tags": []
   },
   "outputs": [
    {
     "data": {
      "text/plain": [
       "194"
      ]
     },
     "execution_count": 17,
     "metadata": {},
     "output_type": "execute_result"
    }
   ],
   "source": [
    "schd_vp_df2.schedule_gtfs_dataset_key.nunique()"
   ]
  },
  {
   "cell_type": "code",
   "execution_count": 18,
   "id": "9c7ad825-bd7c-4ea9-a75b-a2423df618cf",
   "metadata": {
    "tags": []
   },
   "outputs": [
    {
     "data": {
      "text/plain": [
       "1770249a5a2e770ca90628434d4934b1    14\n",
       "f74424acf8c41e4c1e9fd42838c4875c     4\n",
       "a37760dde6b9fdcb76b82e57afab7274     4\n",
       "a253a8d7acd57657bb98050f37dd6b0f     3\n",
       "baeeb157e85a901e47b828ef9fe75091     3\n",
       "40ead758629da2ad8a74dbc687652e5a     2\n",
       "82f30e22dafe8156367297eb9a316c57     2\n",
       "1c7027faabfeec976ea388973100bcf3     2\n",
       "b34f8d2270968f55f23f80b267df1d5f     2\n",
       "c2a40ce92e76ec5beb88c40df3cd3a67     2\n",
       "fc6cd27871cce0092a08ccf68fb240a2     2\n",
       "144acd9a0dc18e2cddce39e0fa6d42a0     2\n",
       "84d3c3507a4c8df851d935b63908bbd5     2\n",
       "5ed4b903a3c6049509b935883c440209     2\n",
       "364d59b3aea55aec2962a0b3244a40e0     2\n",
       "efbbd5293be71f7a5de0cf82b59febe1     2\n",
       "f56b72b9b1c0bd141c27d2fe9874c346     2\n",
       "09e16227fc42c4fe90204a9d11581034     2\n",
       "714116de6e520beb2bdd4fcfb78cfe21     2\n",
       "cc53a0dbf5df90e3009b9cb5d89d80ba     2\n",
       "Name: schedule_gtfs_dataset_key, dtype: int64"
      ]
     },
     "execution_count": 18,
     "metadata": {},
     "output_type": "execute_result"
    }
   ],
   "source": [
    "schd_vp_df2.schedule_gtfs_dataset_key.value_counts().head(20)"
   ]
  },
  {
   "cell_type": "code",
   "execution_count": 19,
   "id": "2c18bfad-e550-4a20-872f-f23a18297050",
   "metadata": {
    "tags": []
   },
   "outputs": [
    {
     "data": {
      "text/html": [
       "<div>\n",
       "<style scoped>\n",
       "    .dataframe tbody tr th:only-of-type {\n",
       "        vertical-align: middle;\n",
       "    }\n",
       "\n",
       "    .dataframe tbody tr th {\n",
       "        vertical-align: top;\n",
       "    }\n",
       "\n",
       "    .dataframe thead th {\n",
       "        text-align: right;\n",
       "    }\n",
       "</style>\n",
       "<table border=\"1\" class=\"dataframe\">\n",
       "  <thead>\n",
       "    <tr style=\"text-align: right;\">\n",
       "      <th></th>\n",
       "      <th>schedule_gtfs_dataset_key</th>\n",
       "      <th>caltrans_district</th>\n",
       "      <th>organization_name</th>\n",
       "      <th>name</th>\n",
       "      <th>sched_rt_category</th>\n",
       "      <th>service_date</th>\n",
       "    </tr>\n",
       "  </thead>\n",
       "  <tbody>\n",
       "    <tr>\n",
       "      <th>13</th>\n",
       "      <td>91af7482fde58c6261f386b732404e11</td>\n",
       "      <td>02 - Redding</td>\n",
       "      <td>Redding Area Bus Authority</td>\n",
       "      <td>Redding Schedule</td>\n",
       "      <td>schedule_and_vp</td>\n",
       "      <td>2025-02-12</td>\n",
       "    </tr>\n",
       "    <tr>\n",
       "      <th>14</th>\n",
       "      <td>91af7482fde58c6261f386b732404e11</td>\n",
       "      <td>02 - Redding</td>\n",
       "      <td>Shasta County</td>\n",
       "      <td>Redding Schedule</td>\n",
       "      <td>schedule_and_vp</td>\n",
       "      <td>2025-02-12</td>\n",
       "    </tr>\n",
       "  </tbody>\n",
       "</table>\n",
       "</div>"
      ],
      "text/plain": [
       "           schedule_gtfs_dataset_key caltrans_district  \\\n",
       "13  91af7482fde58c6261f386b732404e11      02 - Redding   \n",
       "14  91af7482fde58c6261f386b732404e11      02 - Redding   \n",
       "\n",
       "             organization_name              name sched_rt_category  \\\n",
       "13  Redding Area Bus Authority  Redding Schedule   schedule_and_vp   \n",
       "14               Shasta County  Redding Schedule   schedule_and_vp   \n",
       "\n",
       "   service_date  \n",
       "13   2025-02-12  \n",
       "14   2025-02-12  "
      ]
     },
     "execution_count": 19,
     "metadata": {},
     "output_type": "execute_result"
    }
   ],
   "source": [
    "schd_vp_df2.loc[schd_vp_df2.schedule_gtfs_dataset_key == \"91af7482fde58c6261f386b732404e11\"]"
   ]
  },
  {
   "cell_type": "code",
   "execution_count": 20,
   "id": "932ca4af-99da-4c34-841e-f520d5e23a47",
   "metadata": {
    "tags": []
   },
   "outputs": [
    {
     "data": {
      "text/html": [
       "<div>\n",
       "<style scoped>\n",
       "    .dataframe tbody tr th:only-of-type {\n",
       "        vertical-align: middle;\n",
       "    }\n",
       "\n",
       "    .dataframe tbody tr th {\n",
       "        vertical-align: top;\n",
       "    }\n",
       "\n",
       "    .dataframe thead th {\n",
       "        text-align: right;\n",
       "    }\n",
       "</style>\n",
       "<table border=\"1\" class=\"dataframe\">\n",
       "  <thead>\n",
       "    <tr style=\"text-align: right;\">\n",
       "      <th></th>\n",
       "      <th>schedule_gtfs_dataset_key</th>\n",
       "      <th>caltrans_district</th>\n",
       "      <th>organization_name</th>\n",
       "      <th>name</th>\n",
       "      <th>sched_rt_category</th>\n",
       "      <th>service_date</th>\n",
       "    </tr>\n",
       "  </thead>\n",
       "  <tbody>\n",
       "    <tr>\n",
       "      <th>121</th>\n",
       "      <td>f74424acf8c41e4c1e9fd42838c4875c</td>\n",
       "      <td>07 - Los Angeles</td>\n",
       "      <td>City of Duarte</td>\n",
       "      <td>Foothill Schedule</td>\n",
       "      <td>schedule_and_vp</td>\n",
       "      <td>2024-12-11</td>\n",
       "    </tr>\n",
       "    <tr>\n",
       "      <th>152</th>\n",
       "      <td>f74424acf8c41e4c1e9fd42838c4875c</td>\n",
       "      <td>07 - Los Angeles</td>\n",
       "      <td>Foothill Transit</td>\n",
       "      <td>Foothill Schedule</td>\n",
       "      <td>schedule_and_vp</td>\n",
       "      <td>2024-12-11</td>\n",
       "    </tr>\n",
       "    <tr>\n",
       "      <th>178</th>\n",
       "      <td>f74424acf8c41e4c1e9fd42838c4875c</td>\n",
       "      <td>07 - Los Angeles / Ventura</td>\n",
       "      <td>City of Duarte</td>\n",
       "      <td>Foothill Schedule</td>\n",
       "      <td>schedule_and_vp</td>\n",
       "      <td>2025-02-12</td>\n",
       "    </tr>\n",
       "    <tr>\n",
       "      <th>207</th>\n",
       "      <td>f74424acf8c41e4c1e9fd42838c4875c</td>\n",
       "      <td>07 - Los Angeles / Ventura</td>\n",
       "      <td>Foothill Transit</td>\n",
       "      <td>Foothill Schedule</td>\n",
       "      <td>schedule_and_vp</td>\n",
       "      <td>2025-02-12</td>\n",
       "    </tr>\n",
       "  </tbody>\n",
       "</table>\n",
       "</div>"
      ],
      "text/plain": [
       "            schedule_gtfs_dataset_key           caltrans_district  \\\n",
       "121  f74424acf8c41e4c1e9fd42838c4875c            07 - Los Angeles   \n",
       "152  f74424acf8c41e4c1e9fd42838c4875c            07 - Los Angeles   \n",
       "178  f74424acf8c41e4c1e9fd42838c4875c  07 - Los Angeles / Ventura   \n",
       "207  f74424acf8c41e4c1e9fd42838c4875c  07 - Los Angeles / Ventura   \n",
       "\n",
       "    organization_name               name sched_rt_category service_date  \n",
       "121    City of Duarte  Foothill Schedule   schedule_and_vp   2024-12-11  \n",
       "152  Foothill Transit  Foothill Schedule   schedule_and_vp   2024-12-11  \n",
       "178    City of Duarte  Foothill Schedule   schedule_and_vp   2025-02-12  \n",
       "207  Foothill Transit  Foothill Schedule   schedule_and_vp   2025-02-12  "
      ]
     },
     "execution_count": 20,
     "metadata": {},
     "output_type": "execute_result"
    }
   ],
   "source": [
    "schd_vp_df2.loc[schd_vp_df2.schedule_gtfs_dataset_key == \"f74424acf8c41e4c1e9fd42838c4875c\"]"
   ]
  },
  {
   "cell_type": "code",
   "execution_count": 21,
   "id": "cf907b14-2e8e-4fb6-8ebc-4d17b38ce6ce",
   "metadata": {
    "tags": []
   },
   "outputs": [
    {
     "data": {
      "text/html": [
       "<div>\n",
       "<style scoped>\n",
       "    .dataframe tbody tr th:only-of-type {\n",
       "        vertical-align: middle;\n",
       "    }\n",
       "\n",
       "    .dataframe tbody tr th {\n",
       "        vertical-align: top;\n",
       "    }\n",
       "\n",
       "    .dataframe thead th {\n",
       "        text-align: right;\n",
       "    }\n",
       "</style>\n",
       "<table border=\"1\" class=\"dataframe\">\n",
       "  <thead>\n",
       "    <tr style=\"text-align: right;\">\n",
       "      <th></th>\n",
       "      <th>schedule_gtfs_dataset_key</th>\n",
       "      <th>caltrans_district</th>\n",
       "      <th>organization_name</th>\n",
       "      <th>name</th>\n",
       "      <th>sched_rt_category</th>\n",
       "      <th>service_date</th>\n",
       "    </tr>\n",
       "  </thead>\n",
       "  <tbody>\n",
       "    <tr>\n",
       "      <th>115</th>\n",
       "      <td>1770249a5a2e770ca90628434d4934b1</td>\n",
       "      <td>07 - Los Angeles</td>\n",
       "      <td>City of Camarillo</td>\n",
       "      <td>VCTC GMV Schedule</td>\n",
       "      <td>schedule_and_vp</td>\n",
       "      <td>2024-12-11</td>\n",
       "    </tr>\n",
       "    <tr>\n",
       "      <th>136</th>\n",
       "      <td>1770249a5a2e770ca90628434d4934b1</td>\n",
       "      <td>07 - Los Angeles</td>\n",
       "      <td>City of Moorpark</td>\n",
       "      <td>VCTC GMV Schedule</td>\n",
       "      <td>schedule_and_vp</td>\n",
       "      <td>2024-12-11</td>\n",
       "    </tr>\n",
       "    <tr>\n",
       "      <th>138</th>\n",
       "      <td>1770249a5a2e770ca90628434d4934b1</td>\n",
       "      <td>07 - Los Angeles</td>\n",
       "      <td>City of Ojai</td>\n",
       "      <td>VCTC GMV Schedule</td>\n",
       "      <td>schedule_and_vp</td>\n",
       "      <td>2024-12-11</td>\n",
       "    </tr>\n",
       "    <tr>\n",
       "      <th>145</th>\n",
       "      <td>1770249a5a2e770ca90628434d4934b1</td>\n",
       "      <td>07 - Los Angeles</td>\n",
       "      <td>City of Simi Valley</td>\n",
       "      <td>VCTC GMV Schedule</td>\n",
       "      <td>schedule_and_vp</td>\n",
       "      <td>2024-12-11</td>\n",
       "    </tr>\n",
       "    <tr>\n",
       "      <th>147</th>\n",
       "      <td>1770249a5a2e770ca90628434d4934b1</td>\n",
       "      <td>07 - Los Angeles</td>\n",
       "      <td>City of Thousand Oaks</td>\n",
       "      <td>VCTC GMV Schedule</td>\n",
       "      <td>schedule_and_vp</td>\n",
       "      <td>2024-12-11</td>\n",
       "    </tr>\n",
       "    <tr>\n",
       "      <th>153</th>\n",
       "      <td>1770249a5a2e770ca90628434d4934b1</td>\n",
       "      <td>07 - Los Angeles</td>\n",
       "      <td>Gold Coast Transit District</td>\n",
       "      <td>VCTC GMV Schedule</td>\n",
       "      <td>schedule_and_vp</td>\n",
       "      <td>2024-12-11</td>\n",
       "    </tr>\n",
       "    <tr>\n",
       "      <th>162</th>\n",
       "      <td>1770249a5a2e770ca90628434d4934b1</td>\n",
       "      <td>07 - Los Angeles</td>\n",
       "      <td>Ventura County Transportation Commission</td>\n",
       "      <td>VCTC GMV Schedule</td>\n",
       "      <td>schedule_and_vp</td>\n",
       "      <td>2024-12-11</td>\n",
       "    </tr>\n",
       "    <tr>\n",
       "      <th>172</th>\n",
       "      <td>1770249a5a2e770ca90628434d4934b1</td>\n",
       "      <td>07 - Los Angeles / Ventura</td>\n",
       "      <td>City of Camarillo</td>\n",
       "      <td>VCTC GMV Schedule</td>\n",
       "      <td>schedule_and_vp</td>\n",
       "      <td>2025-02-12</td>\n",
       "    </tr>\n",
       "    <tr>\n",
       "      <th>191</th>\n",
       "      <td>1770249a5a2e770ca90628434d4934b1</td>\n",
       "      <td>07 - Los Angeles / Ventura</td>\n",
       "      <td>City of Moorpark</td>\n",
       "      <td>VCTC GMV Schedule</td>\n",
       "      <td>schedule_and_vp</td>\n",
       "      <td>2025-02-12</td>\n",
       "    </tr>\n",
       "    <tr>\n",
       "      <th>193</th>\n",
       "      <td>1770249a5a2e770ca90628434d4934b1</td>\n",
       "      <td>07 - Los Angeles / Ventura</td>\n",
       "      <td>City of Ojai</td>\n",
       "      <td>VCTC GMV Schedule</td>\n",
       "      <td>schedule_and_vp</td>\n",
       "      <td>2025-02-12</td>\n",
       "    </tr>\n",
       "    <tr>\n",
       "      <th>200</th>\n",
       "      <td>1770249a5a2e770ca90628434d4934b1</td>\n",
       "      <td>07 - Los Angeles / Ventura</td>\n",
       "      <td>City of Simi Valley</td>\n",
       "      <td>VCTC GMV Schedule</td>\n",
       "      <td>schedule_and_vp</td>\n",
       "      <td>2025-02-12</td>\n",
       "    </tr>\n",
       "    <tr>\n",
       "      <th>202</th>\n",
       "      <td>1770249a5a2e770ca90628434d4934b1</td>\n",
       "      <td>07 - Los Angeles / Ventura</td>\n",
       "      <td>City of Thousand Oaks</td>\n",
       "      <td>VCTC GMV Schedule</td>\n",
       "      <td>schedule_and_vp</td>\n",
       "      <td>2025-02-12</td>\n",
       "    </tr>\n",
       "    <tr>\n",
       "      <th>208</th>\n",
       "      <td>1770249a5a2e770ca90628434d4934b1</td>\n",
       "      <td>07 - Los Angeles / Ventura</td>\n",
       "      <td>Gold Coast Transit District</td>\n",
       "      <td>VCTC GMV Schedule</td>\n",
       "      <td>schedule_and_vp</td>\n",
       "      <td>2025-02-12</td>\n",
       "    </tr>\n",
       "    <tr>\n",
       "      <th>216</th>\n",
       "      <td>1770249a5a2e770ca90628434d4934b1</td>\n",
       "      <td>07 - Los Angeles / Ventura</td>\n",
       "      <td>Ventura County Transportation Commission</td>\n",
       "      <td>VCTC GMV Schedule</td>\n",
       "      <td>schedule_and_vp</td>\n",
       "      <td>2025-02-12</td>\n",
       "    </tr>\n",
       "  </tbody>\n",
       "</table>\n",
       "</div>"
      ],
      "text/plain": [
       "            schedule_gtfs_dataset_key           caltrans_district  \\\n",
       "115  1770249a5a2e770ca90628434d4934b1            07 - Los Angeles   \n",
       "136  1770249a5a2e770ca90628434d4934b1            07 - Los Angeles   \n",
       "138  1770249a5a2e770ca90628434d4934b1            07 - Los Angeles   \n",
       "145  1770249a5a2e770ca90628434d4934b1            07 - Los Angeles   \n",
       "147  1770249a5a2e770ca90628434d4934b1            07 - Los Angeles   \n",
       "153  1770249a5a2e770ca90628434d4934b1            07 - Los Angeles   \n",
       "162  1770249a5a2e770ca90628434d4934b1            07 - Los Angeles   \n",
       "172  1770249a5a2e770ca90628434d4934b1  07 - Los Angeles / Ventura   \n",
       "191  1770249a5a2e770ca90628434d4934b1  07 - Los Angeles / Ventura   \n",
       "193  1770249a5a2e770ca90628434d4934b1  07 - Los Angeles / Ventura   \n",
       "200  1770249a5a2e770ca90628434d4934b1  07 - Los Angeles / Ventura   \n",
       "202  1770249a5a2e770ca90628434d4934b1  07 - Los Angeles / Ventura   \n",
       "208  1770249a5a2e770ca90628434d4934b1  07 - Los Angeles / Ventura   \n",
       "216  1770249a5a2e770ca90628434d4934b1  07 - Los Angeles / Ventura   \n",
       "\n",
       "                            organization_name               name  \\\n",
       "115                         City of Camarillo  VCTC GMV Schedule   \n",
       "136                          City of Moorpark  VCTC GMV Schedule   \n",
       "138                              City of Ojai  VCTC GMV Schedule   \n",
       "145                       City of Simi Valley  VCTC GMV Schedule   \n",
       "147                     City of Thousand Oaks  VCTC GMV Schedule   \n",
       "153               Gold Coast Transit District  VCTC GMV Schedule   \n",
       "162  Ventura County Transportation Commission  VCTC GMV Schedule   \n",
       "172                         City of Camarillo  VCTC GMV Schedule   \n",
       "191                          City of Moorpark  VCTC GMV Schedule   \n",
       "193                              City of Ojai  VCTC GMV Schedule   \n",
       "200                       City of Simi Valley  VCTC GMV Schedule   \n",
       "202                     City of Thousand Oaks  VCTC GMV Schedule   \n",
       "208               Gold Coast Transit District  VCTC GMV Schedule   \n",
       "216  Ventura County Transportation Commission  VCTC GMV Schedule   \n",
       "\n",
       "    sched_rt_category service_date  \n",
       "115   schedule_and_vp   2024-12-11  \n",
       "136   schedule_and_vp   2024-12-11  \n",
       "138   schedule_and_vp   2024-12-11  \n",
       "145   schedule_and_vp   2024-12-11  \n",
       "147   schedule_and_vp   2024-12-11  \n",
       "153   schedule_and_vp   2024-12-11  \n",
       "162   schedule_and_vp   2024-12-11  \n",
       "172   schedule_and_vp   2025-02-12  \n",
       "191   schedule_and_vp   2025-02-12  \n",
       "193   schedule_and_vp   2025-02-12  \n",
       "200   schedule_and_vp   2025-02-12  \n",
       "202   schedule_and_vp   2025-02-12  \n",
       "208   schedule_and_vp   2025-02-12  \n",
       "216   schedule_and_vp   2025-02-12  "
      ]
     },
     "execution_count": 21,
     "metadata": {},
     "output_type": "execute_result"
    }
   ],
   "source": [
    "schd_vp_df2.loc[schd_vp_df2.schedule_gtfs_dataset_key == \"1770249a5a2e770ca90628434d4934b1\"]"
   ]
  },
  {
   "cell_type": "code",
   "execution_count": 22,
   "id": "e7436beb-2f48-43b2-a0f6-951acebc6f8f",
   "metadata": {
    "tags": []
   },
   "outputs": [],
   "source": [
    "schd_vp_all_cols_df = (pd.read_parquet(schd_vp_url, \n",
    "                       filters=[[(\"sched_rt_category\", \"in\", [\"schedule_and_vp\", \"schedule_only\"])]],\n",
    "                       \n",
    "                     ))\n"
   ]
  },
  {
   "cell_type": "code",
   "execution_count": 23,
   "id": "f0611f6c-0498-44b6-ab6f-b8e155fa2d6a",
   "metadata": {
    "tags": []
   },
   "outputs": [],
   "source": [
    "schd_vp_all_cols_df = schd_vp_all_cols_df.loc[schd_vp_all_cols_df.organization_name.isin(\n",
    "ferry_ops)]"
   ]
  },
  {
   "cell_type": "code",
   "execution_count": 24,
   "id": "cbb3d017-8fde-4d9a-aab5-20c60667f01c",
   "metadata": {
    "tags": []
   },
   "outputs": [
    {
     "data": {
      "text/html": [
       "<div>\n",
       "<style scoped>\n",
       "    .dataframe tbody tr th:only-of-type {\n",
       "        vertical-align: middle;\n",
       "    }\n",
       "\n",
       "    .dataframe tbody tr th {\n",
       "        vertical-align: top;\n",
       "    }\n",
       "\n",
       "    .dataframe thead th {\n",
       "        text-align: right;\n",
       "    }\n",
       "</style>\n",
       "<table border=\"1\" class=\"dataframe\">\n",
       "  <thead>\n",
       "    <tr style=\"text-align: right;\">\n",
       "      <th></th>\n",
       "      <th></th>\n",
       "      <th>route_id</th>\n",
       "    </tr>\n",
       "    <tr>\n",
       "      <th>organization_name</th>\n",
       "      <th>service_date</th>\n",
       "      <th></th>\n",
       "    </tr>\n",
       "  </thead>\n",
       "  <tbody>\n",
       "    <tr>\n",
       "      <th rowspan=\"4\" valign=\"top\">City of Alameda</th>\n",
       "      <th>2024-11-13</th>\n",
       "      <td>7</td>\n",
       "    </tr>\n",
       "    <tr>\n",
       "      <th>2024-12-11</th>\n",
       "      <td>7</td>\n",
       "    </tr>\n",
       "    <tr>\n",
       "      <th>2025-01-15</th>\n",
       "      <td>7</td>\n",
       "    </tr>\n",
       "    <tr>\n",
       "      <th>2025-02-12</th>\n",
       "      <td>7</td>\n",
       "    </tr>\n",
       "    <tr>\n",
       "      <th rowspan=\"24\" valign=\"top\">Golden Gate Bridge, Highway and Transportation District</th>\n",
       "      <th>2023-03-15</th>\n",
       "      <td>14</td>\n",
       "    </tr>\n",
       "    <tr>\n",
       "      <th>2023-04-12</th>\n",
       "      <td>14</td>\n",
       "    </tr>\n",
       "    <tr>\n",
       "      <th>2023-05-17</th>\n",
       "      <td>14</td>\n",
       "    </tr>\n",
       "    <tr>\n",
       "      <th>2023-06-14</th>\n",
       "      <td>14</td>\n",
       "    </tr>\n",
       "    <tr>\n",
       "      <th>2023-07-12</th>\n",
       "      <td>14</td>\n",
       "    </tr>\n",
       "    <tr>\n",
       "      <th>2023-08-15</th>\n",
       "      <td>14</td>\n",
       "    </tr>\n",
       "    <tr>\n",
       "      <th>2023-09-13</th>\n",
       "      <td>14</td>\n",
       "    </tr>\n",
       "    <tr>\n",
       "      <th>2023-10-11</th>\n",
       "      <td>14</td>\n",
       "    </tr>\n",
       "    <tr>\n",
       "      <th>2023-11-15</th>\n",
       "      <td>14</td>\n",
       "    </tr>\n",
       "    <tr>\n",
       "      <th>2023-12-13</th>\n",
       "      <td>14</td>\n",
       "    </tr>\n",
       "    <tr>\n",
       "      <th>2024-01-17</th>\n",
       "      <td>15</td>\n",
       "    </tr>\n",
       "    <tr>\n",
       "      <th>2024-02-14</th>\n",
       "      <td>15</td>\n",
       "    </tr>\n",
       "    <tr>\n",
       "      <th>2024-03-13</th>\n",
       "      <td>15</td>\n",
       "    </tr>\n",
       "    <tr>\n",
       "      <th>2024-04-17</th>\n",
       "      <td>16</td>\n",
       "    </tr>\n",
       "    <tr>\n",
       "      <th>2024-05-22</th>\n",
       "      <td>16</td>\n",
       "    </tr>\n",
       "    <tr>\n",
       "      <th>2024-06-12</th>\n",
       "      <td>16</td>\n",
       "    </tr>\n",
       "    <tr>\n",
       "      <th>2024-07-17</th>\n",
       "      <td>16</td>\n",
       "    </tr>\n",
       "    <tr>\n",
       "      <th>2024-08-14</th>\n",
       "      <td>16</td>\n",
       "    </tr>\n",
       "    <tr>\n",
       "      <th>2024-09-18</th>\n",
       "      <td>16</td>\n",
       "    </tr>\n",
       "    <tr>\n",
       "      <th>2024-10-16</th>\n",
       "      <td>16</td>\n",
       "    </tr>\n",
       "    <tr>\n",
       "      <th>2024-11-13</th>\n",
       "      <td>16</td>\n",
       "    </tr>\n",
       "    <tr>\n",
       "      <th>2024-12-11</th>\n",
       "      <td>16</td>\n",
       "    </tr>\n",
       "    <tr>\n",
       "      <th>2025-01-15</th>\n",
       "      <td>16</td>\n",
       "    </tr>\n",
       "    <tr>\n",
       "      <th>2025-02-12</th>\n",
       "      <td>16</td>\n",
       "    </tr>\n",
       "    <tr>\n",
       "      <th rowspan=\"6\" valign=\"top\">San Bernardino County Transportation Authority</th>\n",
       "      <th>2024-01-17</th>\n",
       "      <td>7</td>\n",
       "    </tr>\n",
       "    <tr>\n",
       "      <th>2024-02-14</th>\n",
       "      <td>7</td>\n",
       "    </tr>\n",
       "    <tr>\n",
       "      <th>2024-03-13</th>\n",
       "      <td>7</td>\n",
       "    </tr>\n",
       "    <tr>\n",
       "      <th>2024-04-17</th>\n",
       "      <td>7</td>\n",
       "    </tr>\n",
       "    <tr>\n",
       "      <th>2024-05-22</th>\n",
       "      <td>7</td>\n",
       "    </tr>\n",
       "    <tr>\n",
       "      <th>2024-06-12</th>\n",
       "      <td>7</td>\n",
       "    </tr>\n",
       "    <tr>\n",
       "      <th rowspan=\"24\" valign=\"top\">San Francisco Bay Area Water Emergency Transit Authority</th>\n",
       "      <th>2023-03-15</th>\n",
       "      <td>6</td>\n",
       "    </tr>\n",
       "    <tr>\n",
       "      <th>2023-04-12</th>\n",
       "      <td>6</td>\n",
       "    </tr>\n",
       "    <tr>\n",
       "      <th>2023-05-17</th>\n",
       "      <td>6</td>\n",
       "    </tr>\n",
       "    <tr>\n",
       "      <th>2023-06-14</th>\n",
       "      <td>6</td>\n",
       "    </tr>\n",
       "    <tr>\n",
       "      <th>2023-07-12</th>\n",
       "      <td>6</td>\n",
       "    </tr>\n",
       "    <tr>\n",
       "      <th>2023-08-15</th>\n",
       "      <td>6</td>\n",
       "    </tr>\n",
       "    <tr>\n",
       "      <th>2023-09-13</th>\n",
       "      <td>6</td>\n",
       "    </tr>\n",
       "    <tr>\n",
       "      <th>2023-10-11</th>\n",
       "      <td>6</td>\n",
       "    </tr>\n",
       "    <tr>\n",
       "      <th>2023-11-15</th>\n",
       "      <td>7</td>\n",
       "    </tr>\n",
       "    <tr>\n",
       "      <th>2023-12-13</th>\n",
       "      <td>7</td>\n",
       "    </tr>\n",
       "    <tr>\n",
       "      <th>2024-01-17</th>\n",
       "      <td>6</td>\n",
       "    </tr>\n",
       "    <tr>\n",
       "      <th>2024-02-14</th>\n",
       "      <td>6</td>\n",
       "    </tr>\n",
       "    <tr>\n",
       "      <th>2024-03-13</th>\n",
       "      <td>6</td>\n",
       "    </tr>\n",
       "    <tr>\n",
       "      <th>2024-04-17</th>\n",
       "      <td>6</td>\n",
       "    </tr>\n",
       "    <tr>\n",
       "      <th>2024-05-22</th>\n",
       "      <td>6</td>\n",
       "    </tr>\n",
       "    <tr>\n",
       "      <th>2024-06-12</th>\n",
       "      <td>6</td>\n",
       "    </tr>\n",
       "    <tr>\n",
       "      <th>2024-07-17</th>\n",
       "      <td>7</td>\n",
       "    </tr>\n",
       "    <tr>\n",
       "      <th>2024-08-14</th>\n",
       "      <td>7</td>\n",
       "    </tr>\n",
       "    <tr>\n",
       "      <th>2024-09-18</th>\n",
       "      <td>7</td>\n",
       "    </tr>\n",
       "    <tr>\n",
       "      <th>2024-10-16</th>\n",
       "      <td>7</td>\n",
       "    </tr>\n",
       "    <tr>\n",
       "      <th>2024-11-13</th>\n",
       "      <td>7</td>\n",
       "    </tr>\n",
       "    <tr>\n",
       "      <th>2024-12-11</th>\n",
       "      <td>7</td>\n",
       "    </tr>\n",
       "    <tr>\n",
       "      <th>2025-01-15</th>\n",
       "      <td>7</td>\n",
       "    </tr>\n",
       "    <tr>\n",
       "      <th>2025-02-12</th>\n",
       "      <td>7</td>\n",
       "    </tr>\n",
       "    <tr>\n",
       "      <th rowspan=\"13\" valign=\"top\">Southern California Regional Rail Authority</th>\n",
       "      <th>2023-06-14</th>\n",
       "      <td>7</td>\n",
       "    </tr>\n",
       "    <tr>\n",
       "      <th>2023-07-12</th>\n",
       "      <td>7</td>\n",
       "    </tr>\n",
       "    <tr>\n",
       "      <th>2023-08-15</th>\n",
       "      <td>7</td>\n",
       "    </tr>\n",
       "    <tr>\n",
       "      <th>2023-09-13</th>\n",
       "      <td>7</td>\n",
       "    </tr>\n",
       "    <tr>\n",
       "      <th>2023-10-11</th>\n",
       "      <td>7</td>\n",
       "    </tr>\n",
       "    <tr>\n",
       "      <th>2023-11-15</th>\n",
       "      <td>7</td>\n",
       "    </tr>\n",
       "    <tr>\n",
       "      <th>2023-12-13</th>\n",
       "      <td>7</td>\n",
       "    </tr>\n",
       "    <tr>\n",
       "      <th>2024-01-17</th>\n",
       "      <td>7</td>\n",
       "    </tr>\n",
       "    <tr>\n",
       "      <th>2024-02-14</th>\n",
       "      <td>7</td>\n",
       "    </tr>\n",
       "    <tr>\n",
       "      <th>2024-03-13</th>\n",
       "      <td>7</td>\n",
       "    </tr>\n",
       "    <tr>\n",
       "      <th>2024-04-17</th>\n",
       "      <td>7</td>\n",
       "    </tr>\n",
       "    <tr>\n",
       "      <th>2024-05-22</th>\n",
       "      <td>7</td>\n",
       "    </tr>\n",
       "    <tr>\n",
       "      <th>2024-06-12</th>\n",
       "      <td>7</td>\n",
       "    </tr>\n",
       "  </tbody>\n",
       "</table>\n",
       "</div>"
      ],
      "text/plain": [
       "                                                                       route_id\n",
       "organization_name                                        service_date          \n",
       "City of Alameda                                          2024-11-13           7\n",
       "                                                         2024-12-11           7\n",
       "                                                         2025-01-15           7\n",
       "                                                         2025-02-12           7\n",
       "Golden Gate Bridge, Highway and Transportation District  2023-03-15          14\n",
       "                                                         2023-04-12          14\n",
       "                                                         2023-05-17          14\n",
       "                                                         2023-06-14          14\n",
       "                                                         2023-07-12          14\n",
       "                                                         2023-08-15          14\n",
       "                                                         2023-09-13          14\n",
       "                                                         2023-10-11          14\n",
       "                                                         2023-11-15          14\n",
       "                                                         2023-12-13          14\n",
       "                                                         2024-01-17          15\n",
       "                                                         2024-02-14          15\n",
       "                                                         2024-03-13          15\n",
       "                                                         2024-04-17          16\n",
       "                                                         2024-05-22          16\n",
       "                                                         2024-06-12          16\n",
       "                                                         2024-07-17          16\n",
       "                                                         2024-08-14          16\n",
       "                                                         2024-09-18          16\n",
       "                                                         2024-10-16          16\n",
       "                                                         2024-11-13          16\n",
       "                                                         2024-12-11          16\n",
       "                                                         2025-01-15          16\n",
       "                                                         2025-02-12          16\n",
       "San Bernardino County Transportation Authority           2024-01-17           7\n",
       "                                                         2024-02-14           7\n",
       "                                                         2024-03-13           7\n",
       "                                                         2024-04-17           7\n",
       "                                                         2024-05-22           7\n",
       "                                                         2024-06-12           7\n",
       "San Francisco Bay Area Water Emergency Transit Authority 2023-03-15           6\n",
       "                                                         2023-04-12           6\n",
       "                                                         2023-05-17           6\n",
       "                                                         2023-06-14           6\n",
       "                                                         2023-07-12           6\n",
       "                                                         2023-08-15           6\n",
       "                                                         2023-09-13           6\n",
       "                                                         2023-10-11           6\n",
       "                                                         2023-11-15           7\n",
       "                                                         2023-12-13           7\n",
       "                                                         2024-01-17           6\n",
       "                                                         2024-02-14           6\n",
       "                                                         2024-03-13           6\n",
       "                                                         2024-04-17           6\n",
       "                                                         2024-05-22           6\n",
       "                                                         2024-06-12           6\n",
       "                                                         2024-07-17           7\n",
       "                                                         2024-08-14           7\n",
       "                                                         2024-09-18           7\n",
       "                                                         2024-10-16           7\n",
       "                                                         2024-11-13           7\n",
       "                                                         2024-12-11           7\n",
       "                                                         2025-01-15           7\n",
       "                                                         2025-02-12           7\n",
       "Southern California Regional Rail Authority              2023-06-14           7\n",
       "                                                         2023-07-12           7\n",
       "                                                         2023-08-15           7\n",
       "                                                         2023-09-13           7\n",
       "                                                         2023-10-11           7\n",
       "                                                         2023-11-15           7\n",
       "                                                         2023-12-13           7\n",
       "                                                         2024-01-17           7\n",
       "                                                         2024-02-14           7\n",
       "                                                         2024-03-13           7\n",
       "                                                         2024-04-17           7\n",
       "                                                         2024-05-22           7\n",
       "                                                         2024-06-12           7"
      ]
     },
     "execution_count": 24,
     "metadata": {},
     "output_type": "execute_result"
    }
   ],
   "source": [
    "schd_vp_all_cols_df.groupby(['organization_name','service_date']).agg({'route_id':'nunique'})"
   ]
  },
  {
   "cell_type": "markdown",
   "id": "9f2fff69-0929-4eb0-8348-efe54b92b1f3",
   "metadata": {},
   "source": [
    "## Operators differ between D7 Los Angeles vs D7 LA/Ventura"
   ]
  },
  {
   "cell_type": "code",
   "execution_count": null,
   "id": "786f2715-6688-4d7c-ac3b-a5dad837535b",
   "metadata": {},
   "outputs": [],
   "source": []
  },
  {
   "cell_type": "code",
   "execution_count": 26,
   "id": "9458672a-0356-4449-af9a-6693e6e48f57",
   "metadata": {
    "tags": []
   },
   "outputs": [
    {
     "name": "stdout",
     "output_type": "stream",
     "text": [
      "<class 'pandas.core.frame.DataFrame'>\n",
      "Int64Index: 387498 entries, 0 to 387497\n",
      "Data columns (total 6 columns):\n",
      " #   Column                     Non-Null Count   Dtype         \n",
      "---  ------                     --------------   -----         \n",
      " 0   schedule_gtfs_dataset_key  387498 non-null  object        \n",
      " 1   caltrans_district          385857 non-null  object        \n",
      " 2   organization_name          385857 non-null  object        \n",
      " 3   name                       387498 non-null  object        \n",
      " 4   sched_rt_category          387498 non-null  category      \n",
      " 5   service_date               387498 non-null  datetime64[ns]\n",
      "dtypes: category(1), datetime64[ns](1), object(4)\n",
      "memory usage: 18.1+ MB\n"
     ]
    }
   ],
   "source": [
    "schd_vp_df.info()"
   ]
  },
  {
   "cell_type": "code",
   "execution_count": 27,
   "id": "e835eb5f-c5e7-4872-9236-323ce724c740",
   "metadata": {
    "tags": []
   },
   "outputs": [],
   "source": [
    "schd_vp_df = schd_vp_df.fillna(\"None\")"
   ]
  },
  {
   "cell_type": "code",
   "execution_count": 28,
   "id": "d50dd807-f638-4c2d-9995-83b58a288fa8",
   "metadata": {
    "tags": []
   },
   "outputs": [],
   "source": [
    "\n",
    "d7_only = schd_vp_df.loc[schd_vp_df.caltrans_district.str.contains(\"07\")]\n",
    "    "
   ]
  },
  {
   "cell_type": "code",
   "execution_count": 30,
   "id": "c4347540-78ce-4f26-a804-6d1ee215d58f",
   "metadata": {
    "tags": []
   },
   "outputs": [],
   "source": [
    "d7_only2 = (\n",
    "    d7_only.dropna(subset=\"caltrans_district\")\n",
    "    .sort_values(\n",
    "        by=[\n",
    "            \"caltrans_district\",\n",
    "            \"organization_name\",\n",
    "            \"service_date\",\n",
    "        ],\n",
    "        ascending=[True, True, False],\n",
    "    )\n",
    "    .drop_duplicates(\n",
    "        subset=[\n",
    "            \"organization_name\",\n",
    "            \"caltrans_district\",\n",
    "        ]\n",
    "    )\n",
    "    .reset_index(drop=True)\n",
    "    )"
   ]
  },
  {
   "cell_type": "code",
   "execution_count": 31,
   "id": "67f09de8-c31a-4bd5-96b6-8e477583ab25",
   "metadata": {
    "tags": []
   },
   "outputs": [
    {
     "data": {
      "text/html": [
       "<div>\n",
       "<style scoped>\n",
       "    .dataframe tbody tr th:only-of-type {\n",
       "        vertical-align: middle;\n",
       "    }\n",
       "\n",
       "    .dataframe tbody tr th {\n",
       "        vertical-align: top;\n",
       "    }\n",
       "\n",
       "    .dataframe thead th {\n",
       "        text-align: right;\n",
       "    }\n",
       "</style>\n",
       "<table border=\"1\" class=\"dataframe\">\n",
       "  <thead>\n",
       "    <tr style=\"text-align: right;\">\n",
       "      <th></th>\n",
       "      <th>schedule_gtfs_dataset_key</th>\n",
       "      <th>caltrans_district</th>\n",
       "      <th>organization_name</th>\n",
       "      <th>name</th>\n",
       "      <th>sched_rt_category</th>\n",
       "      <th>service_date</th>\n",
       "    </tr>\n",
       "  </thead>\n",
       "  <tbody>\n",
       "    <tr>\n",
       "      <th>0</th>\n",
       "      <td>802173591303c37b28d30d1ee341517b</td>\n",
       "      <td>07 - Los Angeles</td>\n",
       "      <td>Antelope Valley Transit Authority</td>\n",
       "      <td>Antelope Valley Transit Authority Schedule</td>\n",
       "      <td>schedule_and_vp</td>\n",
       "      <td>2024-12-11</td>\n",
       "    </tr>\n",
       "  </tbody>\n",
       "</table>\n",
       "</div>"
      ],
      "text/plain": [
       "          schedule_gtfs_dataset_key caltrans_district  \\\n",
       "0  802173591303c37b28d30d1ee341517b  07 - Los Angeles   \n",
       "\n",
       "                   organization_name  \\\n",
       "0  Antelope Valley Transit Authority   \n",
       "\n",
       "                                         name sched_rt_category service_date  \n",
       "0  Antelope Valley Transit Authority Schedule   schedule_and_vp   2024-12-11  "
      ]
     },
     "execution_count": 31,
     "metadata": {},
     "output_type": "execute_result"
    }
   ],
   "source": [
    "d7_only2.head(1)"
   ]
  },
  {
   "cell_type": "code",
   "execution_count": 32,
   "id": "92f26aa0-00bb-4ad8-9257-1e16c2651c25",
   "metadata": {
    "tags": []
   },
   "outputs": [],
   "source": [
    "d7_og = d7_only2.loc[d7_only2.caltrans_district == \"07 - Los Angeles\"]"
   ]
  },
  {
   "cell_type": "code",
   "execution_count": 43,
   "id": "46a93d27-1a06-4083-843b-24b53bdcb404",
   "metadata": {
    "tags": []
   },
   "outputs": [
    {
     "data": {
      "text/html": [
       "<div>\n",
       "<style scoped>\n",
       "    .dataframe tbody tr th:only-of-type {\n",
       "        vertical-align: middle;\n",
       "    }\n",
       "\n",
       "    .dataframe tbody tr th {\n",
       "        vertical-align: top;\n",
       "    }\n",
       "\n",
       "    .dataframe thead th {\n",
       "        text-align: right;\n",
       "    }\n",
       "</style>\n",
       "<table border=\"1\" class=\"dataframe\">\n",
       "  <thead>\n",
       "    <tr style=\"text-align: right;\">\n",
       "      <th></th>\n",
       "      <th>schedule_gtfs_dataset_key</th>\n",
       "      <th>caltrans_district</th>\n",
       "      <th>organization_name</th>\n",
       "      <th>name</th>\n",
       "      <th>sched_rt_category</th>\n",
       "      <th>service_date</th>\n",
       "    </tr>\n",
       "  </thead>\n",
       "  <tbody>\n",
       "    <tr>\n",
       "      <th>10</th>\n",
       "      <td>1de16807999628e56b26db6197b622ab</td>\n",
       "      <td>07 - Los Angeles</td>\n",
       "      <td>City of Calabasas</td>\n",
       "      <td>Calabasas Schedule</td>\n",
       "      <td>schedule_only</td>\n",
       "      <td>2024-12-11</td>\n",
       "    </tr>\n",
       "  </tbody>\n",
       "</table>\n",
       "</div>"
      ],
      "text/plain": [
       "           schedule_gtfs_dataset_key caltrans_district  organization_name  \\\n",
       "10  1de16807999628e56b26db6197b622ab  07 - Los Angeles  City of Calabasas   \n",
       "\n",
       "                  name sched_rt_category service_date  \n",
       "10  Calabasas Schedule     schedule_only   2024-12-11  "
      ]
     },
     "execution_count": 43,
     "metadata": {},
     "output_type": "execute_result"
    }
   ],
   "source": [
    "d7_og.loc[d7_og.organization_name.str.contains(\"Calabasas\")]"
   ]
  },
  {
   "cell_type": "code",
   "execution_count": 46,
   "id": "3d148c4d-1a7e-4043-a895-32c0d0a86d40",
   "metadata": {
    "tags": []
   },
   "outputs": [
    {
     "data": {
      "text/html": [
       "<div>\n",
       "<style scoped>\n",
       "    .dataframe tbody tr th:only-of-type {\n",
       "        vertical-align: middle;\n",
       "    }\n",
       "\n",
       "    .dataframe tbody tr th {\n",
       "        vertical-align: top;\n",
       "    }\n",
       "\n",
       "    .dataframe thead th {\n",
       "        text-align: right;\n",
       "    }\n",
       "</style>\n",
       "<table border=\"1\" class=\"dataframe\">\n",
       "  <thead>\n",
       "    <tr style=\"text-align: right;\">\n",
       "      <th></th>\n",
       "      <th>schedule_gtfs_dataset_key</th>\n",
       "      <th>caltrans_district</th>\n",
       "      <th>organization_name</th>\n",
       "      <th>name</th>\n",
       "      <th>sched_rt_category</th>\n",
       "      <th>service_date</th>\n",
       "    </tr>\n",
       "  </thead>\n",
       "  <tbody>\n",
       "    <tr>\n",
       "      <th>40</th>\n",
       "      <td>92d654fdb86639c8587210495827fb77</td>\n",
       "      <td>07 - Los Angeles</td>\n",
       "      <td>City of Sierra Madre</td>\n",
       "      <td>Sierra Madre Schedule</td>\n",
       "      <td>schedule_only</td>\n",
       "      <td>2024-12-11</td>\n",
       "    </tr>\n",
       "  </tbody>\n",
       "</table>\n",
       "</div>"
      ],
      "text/plain": [
       "           schedule_gtfs_dataset_key caltrans_district     organization_name  \\\n",
       "40  92d654fdb86639c8587210495827fb77  07 - Los Angeles  City of Sierra Madre   \n",
       "\n",
       "                     name sched_rt_category service_date  \n",
       "40  Sierra Madre Schedule     schedule_only   2024-12-11  "
      ]
     },
     "execution_count": 46,
     "metadata": {},
     "output_type": "execute_result"
    }
   ],
   "source": [
    "d7_og.loc[d7_og.organization_name.str.contains(\"Sierra Madre\")]"
   ]
  },
  {
   "cell_type": "code",
   "execution_count": 47,
   "id": "0e911230-e385-4c6c-b033-892826e9bbbe",
   "metadata": {
    "tags": []
   },
   "outputs": [
    {
     "data": {
      "text/html": [
       "<div>\n",
       "<style scoped>\n",
       "    .dataframe tbody tr th:only-of-type {\n",
       "        vertical-align: middle;\n",
       "    }\n",
       "\n",
       "    .dataframe tbody tr th {\n",
       "        vertical-align: top;\n",
       "    }\n",
       "\n",
       "    .dataframe thead th {\n",
       "        text-align: right;\n",
       "    }\n",
       "</style>\n",
       "<table border=\"1\" class=\"dataframe\">\n",
       "  <thead>\n",
       "    <tr style=\"text-align: right;\">\n",
       "      <th></th>\n",
       "      <th>schedule_gtfs_dataset_key</th>\n",
       "      <th>caltrans_district</th>\n",
       "      <th>organization_name</th>\n",
       "      <th>name</th>\n",
       "      <th>sched_rt_category</th>\n",
       "      <th>service_date</th>\n",
       "    </tr>\n",
       "  </thead>\n",
       "  <tbody>\n",
       "    <tr>\n",
       "      <th>4</th>\n",
       "      <td>1c10c6bdc6d306a5a05bba52c00e3755</td>\n",
       "      <td>07 - Los Angeles</td>\n",
       "      <td>City of Avalon</td>\n",
       "      <td>Avalon Schedule</td>\n",
       "      <td>schedule_and_vp</td>\n",
       "      <td>2024-03-13</td>\n",
       "    </tr>\n",
       "  </tbody>\n",
       "</table>\n",
       "</div>"
      ],
      "text/plain": [
       "          schedule_gtfs_dataset_key caltrans_district organization_name  \\\n",
       "4  1c10c6bdc6d306a5a05bba52c00e3755  07 - Los Angeles    City of Avalon   \n",
       "\n",
       "              name sched_rt_category service_date  \n",
       "4  Avalon Schedule   schedule_and_vp   2024-03-13  "
      ]
     },
     "execution_count": 47,
     "metadata": {},
     "output_type": "execute_result"
    }
   ],
   "source": [
    "d7_og.loc[d7_og.organization_name.str.contains(\"Avalon\")]"
   ]
  },
  {
   "cell_type": "code",
   "execution_count": 34,
   "id": "59b9166c-9218-4f08-92ec-4537d96bc40b",
   "metadata": {
    "tags": []
   },
   "outputs": [],
   "source": [
    "d7_og_orgs = set(list(d7_og.organization_name.unique()))"
   ]
  },
  {
   "cell_type": "code",
   "execution_count": 38,
   "id": "9a4097c0-60bf-405c-b09a-2ef7c029d51c",
   "metadata": {
    "tags": []
   },
   "outputs": [],
   "source": [
    "d7_og_sched = set(list(d7_og.schedule_gtfs_dataset_key.unique()))"
   ]
  },
  {
   "cell_type": "code",
   "execution_count": 33,
   "id": "b41b6374-54a5-4772-b2d3-b61644ad8762",
   "metadata": {
    "tags": []
   },
   "outputs": [],
   "source": [
    "d7_la_ventura = d7_only2.loc[d7_only2.caltrans_district != \"07 - Los Angeles\"]"
   ]
  },
  {
   "cell_type": "code",
   "execution_count": 45,
   "id": "eef425d3-5de0-404f-83ce-6cf264e5c231",
   "metadata": {
    "tags": []
   },
   "outputs": [
    {
     "data": {
      "text/html": [
       "<div>\n",
       "<style scoped>\n",
       "    .dataframe tbody tr th:only-of-type {\n",
       "        vertical-align: middle;\n",
       "    }\n",
       "\n",
       "    .dataframe tbody tr th {\n",
       "        vertical-align: top;\n",
       "    }\n",
       "\n",
       "    .dataframe thead th {\n",
       "        text-align: right;\n",
       "    }\n",
       "</style>\n",
       "<table border=\"1\" class=\"dataframe\">\n",
       "  <thead>\n",
       "    <tr style=\"text-align: right;\">\n",
       "      <th></th>\n",
       "      <th>schedule_gtfs_dataset_key</th>\n",
       "      <th>caltrans_district</th>\n",
       "      <th>organization_name</th>\n",
       "      <th>name</th>\n",
       "      <th>sched_rt_category</th>\n",
       "      <th>service_date</th>\n",
       "    </tr>\n",
       "  </thead>\n",
       "  <tbody>\n",
       "  </tbody>\n",
       "</table>\n",
       "</div>"
      ],
      "text/plain": [
       "Empty DataFrame\n",
       "Columns: [schedule_gtfs_dataset_key, caltrans_district, organization_name, name, sched_rt_category, service_date]\n",
       "Index: []"
      ]
     },
     "execution_count": 45,
     "metadata": {},
     "output_type": "execute_result"
    }
   ],
   "source": [
    "d7_la_ventura.loc[d7_la_ventura.schedule_gtfs_dataset_key.str.contains(\"1de16807999628e56b26db6197b622ab\")]"
   ]
  },
  {
   "cell_type": "code",
   "execution_count": 48,
   "id": "4e711b53-f926-47e8-b847-623d1a28a572",
   "metadata": {
    "tags": []
   },
   "outputs": [
    {
     "data": {
      "text/html": [
       "<div>\n",
       "<style scoped>\n",
       "    .dataframe tbody tr th:only-of-type {\n",
       "        vertical-align: middle;\n",
       "    }\n",
       "\n",
       "    .dataframe tbody tr th {\n",
       "        vertical-align: top;\n",
       "    }\n",
       "\n",
       "    .dataframe thead th {\n",
       "        text-align: right;\n",
       "    }\n",
       "</style>\n",
       "<table border=\"1\" class=\"dataframe\">\n",
       "  <thead>\n",
       "    <tr style=\"text-align: right;\">\n",
       "      <th></th>\n",
       "      <th>schedule_gtfs_dataset_key</th>\n",
       "      <th>caltrans_district</th>\n",
       "      <th>organization_name</th>\n",
       "      <th>name</th>\n",
       "      <th>sched_rt_category</th>\n",
       "      <th>service_date</th>\n",
       "    </tr>\n",
       "  </thead>\n",
       "  <tbody>\n",
       "  </tbody>\n",
       "</table>\n",
       "</div>"
      ],
      "text/plain": [
       "Empty DataFrame\n",
       "Columns: [schedule_gtfs_dataset_key, caltrans_district, organization_name, name, sched_rt_category, service_date]\n",
       "Index: []"
      ]
     },
     "execution_count": 48,
     "metadata": {},
     "output_type": "execute_result"
    }
   ],
   "source": [
    "d7_la_ventura.loc[d7_la_ventura.schedule_gtfs_dataset_key.str.contains(\"1c10c6bdc6d306a5a05bba52c00e3755\")]"
   ]
  },
  {
   "cell_type": "code",
   "execution_count": 35,
   "id": "efae367b-0df0-4244-ae96-36cc3a17c6b0",
   "metadata": {
    "tags": []
   },
   "outputs": [],
   "source": [
    "d7_la_ventura_orgs = set(list(d7_la_ventura.organization_name.unique()))"
   ]
  },
  {
   "cell_type": "code",
   "execution_count": 39,
   "id": "80696097-5bdd-467c-858b-9a0e410ad08e",
   "metadata": {
    "tags": []
   },
   "outputs": [],
   "source": [
    "d7_la_ventura_sched = set(list(d7_og.schedule_gtfs_dataset_key.unique()))"
   ]
  },
  {
   "cell_type": "code",
   "execution_count": 36,
   "id": "ca3e7590-a11d-4bb4-b30b-4086c25c117a",
   "metadata": {
    "tags": []
   },
   "outputs": [
    {
     "data": {
      "text/plain": [
       "{'City of San Fernando'}"
      ]
     },
     "execution_count": 36,
     "metadata": {},
     "output_type": "execute_result"
    }
   ],
   "source": [
    "d7_la_ventura_orgs - d7_og_orgs"
   ]
  },
  {
   "cell_type": "code",
   "execution_count": 37,
   "id": "2caa596c-f3d5-4f95-af5c-57ae4904a936",
   "metadata": {
    "tags": []
   },
   "outputs": [
    {
     "data": {
      "text/plain": [
       "{'City of Avalon',\n",
       " 'City of Calabasas',\n",
       " 'City of El Segundo',\n",
       " 'City of La Puente',\n",
       " 'City of Sierra Madre',\n",
       " 'Southern California Regional Rail Authority'}"
      ]
     },
     "execution_count": 37,
     "metadata": {},
     "output_type": "execute_result"
    }
   ],
   "source": [
    "d7_og_orgs - d7_la_ventura_orgs "
   ]
  },
  {
   "cell_type": "code",
   "execution_count": 40,
   "id": "fcbfe603-59f6-4add-84bb-ed2d8b61863e",
   "metadata": {
    "tags": []
   },
   "outputs": [
    {
     "data": {
      "text/plain": [
       "set()"
      ]
     },
     "execution_count": 40,
     "metadata": {},
     "output_type": "execute_result"
    }
   ],
   "source": [
    "d7_la_ventura_sched - d7_og_sched"
   ]
  },
  {
   "cell_type": "code",
   "execution_count": 41,
   "id": "db1ca548-ad6d-4b81-b17a-762b10fa1430",
   "metadata": {
    "tags": []
   },
   "outputs": [
    {
     "data": {
      "text/plain": [
       "set()"
      ]
     },
     "execution_count": 41,
     "metadata": {},
     "output_type": "execute_result"
    }
   ],
   "source": [
    "d7_og_sched - d7_la_ventura_sched"
   ]
  },
  {
   "cell_type": "markdown",
   "id": "b947a661-ee9b-4261-8df1-cbd782b80197",
   "metadata": {},
   "source": [
    "## Try to delete out 07 - Los Angeles"
   ]
  }
 ],
 "metadata": {
  "kernelspec": {
   "display_name": "Python 3 (ipykernel)",
   "language": "python",
   "name": "python3"
  },
  "language_info": {
   "codemirror_mode": {
    "name": "ipython",
    "version": 3
   },
   "file_extension": ".py",
   "mimetype": "text/x-python",
   "name": "python",
   "nbconvert_exporter": "python",
   "pygments_lexer": "ipython3",
   "version": "3.11.10"
  }
 },
 "nbformat": 4,
 "nbformat_minor": 5
}
