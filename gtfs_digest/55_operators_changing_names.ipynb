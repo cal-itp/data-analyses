{
 "cells": [
  {
   "cell_type": "markdown",
   "id": "b7f2a3af-420a-4eb6-9c85-e15b229e7c2d",
   "metadata": {},
   "source": [
    "## Looking at operators that are included"
   ]
  },
  {
   "cell_type": "code",
   "execution_count": 1,
   "id": "1572505c-a664-4bb9-9704-2b824ba1286a",
   "metadata": {
    "tags": []
   },
   "outputs": [],
   "source": [
    "import _section1_utils as section1\n",
    "import _section2_utils as section2\n",
    "import geopandas as gpd\n",
    "import merge_data\n",
    "import merge_operator_data\n",
    "import numpy as np\n",
    "import pandas as pd\n",
    "from segment_speed_utils import gtfs_schedule_wrangling, helpers\n",
    "from segment_speed_utils.project_vars import COMPILED_CACHED_VIEWS, PROJECT_CRS\n",
    "from shared_utils import catalog_utils, portfolio_utils, rt_dates\n",
    "from update_vars import GTFS_DATA_DICT, RT_SCHED_GCS, SCHED_GCS, SEGMENT_GCS"
   ]
  },
  {
   "cell_type": "code",
   "execution_count": 2,
   "id": "ca919f0c-9ff2-42af-ba85-559f30277757",
   "metadata": {
    "tags": []
   },
   "outputs": [],
   "source": [
    "pd.options.display.max_columns = 100\n",
    "pd.options.display.float_format = \"{:.2f}\".format\n",
    "pd.set_option(\"display.max_rows\", None)\n",
    "pd.set_option(\"display.max_colwidth\", None)"
   ]
  },
  {
   "cell_type": "code",
   "execution_count": 3,
   "id": "8c1419ca-4981-4b46-8af6-7074d3907185",
   "metadata": {
    "tags": []
   },
   "outputs": [],
   "source": [
    "analysis_date_list = [rt_dates.DATES[\"feb2025\"]]"
   ]
  },
  {
   "cell_type": "code",
   "execution_count": 4,
   "id": "c40ef50e-1f95-4326-b898-a0d983ea2d73",
   "metadata": {
    "tags": []
   },
   "outputs": [],
   "source": [
    "analysis_date = rt_dates.DATES[\"feb2025\"]"
   ]
  },
  {
   "cell_type": "code",
   "execution_count": 5,
   "id": "f5cc0fd1-e531-4319-a641-9ecc4c0ce855",
   "metadata": {
    "tags": []
   },
   "outputs": [],
   "source": [
    "import _operators_prep"
   ]
  },
  {
   "cell_type": "code",
   "execution_count": 6,
   "id": "c90cbca8-7d18-4a83-811c-a1c07ddd923b",
   "metadata": {
    "tags": []
   },
   "outputs": [],
   "source": [
    "schd_vp_url = f\"{GTFS_DATA_DICT.digest_tables.dir}{GTFS_DATA_DICT.digest_tables.route_schedule_vp}.parquet\""
   ]
  },
  {
   "cell_type": "code",
   "execution_count": 7,
   "id": "6c1a3bb7-6c51-484f-b872-d92722a5cc87",
   "metadata": {
    "tags": []
   },
   "outputs": [],
   "source": [
    "import os"
   ]
  },
  {
   "cell_type": "code",
   "execution_count": 11,
   "id": "0962bef3-2c4c-434e-87bf-bc42ece3f791",
   "metadata": {
    "tags": []
   },
   "outputs": [],
   "source": [
    "DEST_FOLDER = \"/_shared_utils/shared_utils/\""
   ]
  },
  {
   "cell_type": "code",
   "execution_count": 9,
   "id": "a410a768-d9a2-4810-8e69-c5a2dc809419",
   "metadata": {
    "tags": []
   },
   "outputs": [],
   "source": [
    "# Define the file name\n",
    "SITE_YML_NAME = \"schedule_gtfs_dataset_key_multi_operator.yml\"\n",
    "\n",
    "    # Construct the absolute path to the destination file\n",
    "SITE_YML = os.path.join(os.path.expanduser(DEST_FOLDER), SITE_YML_NAME)"
   ]
  },
  {
   "cell_type": "code",
   "execution_count": 10,
   "id": "73382139-5fe7-4c34-acd1-5b831d66f0ee",
   "metadata": {
    "tags": []
   },
   "outputs": [
    {
     "data": {
      "text/plain": [
       "'_shared_utils/shared_utils/schedule_gtfs_dataset_key_multi_operator.yml'"
      ]
     },
     "execution_count": 10,
     "metadata": {},
     "output_type": "execute_result"
    }
   ],
   "source": [
    "SITE_YML"
   ]
  },
  {
   "cell_type": "code",
   "execution_count": 13,
   "id": "11ac7f6e-48a2-413b-be84-cac92502a48e",
   "metadata": {
    "tags": []
   },
   "outputs": [],
   "source": [
    " # Define the destination folder\n",
    "DEST_FOLDER = \"../_shared_utils/shared_utils/\"\n",
    "\n",
    "# Define the file name\n",
    "SITE_YML_NAME = \"schedule_gtfs_dataset_key_multi_operator.yml\"\n",
    "\n",
    "# Get the current working directory\n",
    "CWD = os.getcwd()\n",
    "\n",
    "# Construct the absolute path to the destination file\n",
    "SITE_YML = os.path.abspath(os.path.join(CWD, DEST_FOLDER, SITE_YML_NAME))"
   ]
  },
  {
   "cell_type": "code",
   "execution_count": 15,
   "id": "59386511-b6c5-4116-bd7e-be912198cc01",
   "metadata": {
    "tags": []
   },
   "outputs": [
    {
     "data": {
      "text/plain": [
       "'/home/jovyan/data-analyses/gtfs_digest'"
      ]
     },
     "execution_count": 15,
     "metadata": {},
     "output_type": "execute_result"
    }
   ],
   "source": [
    "CWD"
   ]
  },
  {
   "cell_type": "code",
   "execution_count": null,
   "id": "ab07dd56-1d73-41c0-b941-2f98e86bd23f",
   "metadata": {},
   "outputs": [],
   "source": [
    "https://notebooks.calitp.org/hub/user-redirect/lab/tree/data-analyses/_shared_utils/shared_utils/schedule_gtfs_dataset_key_multi_operator.yml"
   ]
  },
  {
   "cell_type": "code",
   "execution_count": 14,
   "id": "166a7d63-61a3-4f89-b8a1-f0912d039016",
   "metadata": {
    "tags": []
   },
   "outputs": [
    {
     "data": {
      "text/plain": [
       "'/home/jovyan/data-analyses/_shared_utils/shared_utils/schedule_gtfs_dataset_key_multi_operator.yml'"
      ]
     },
     "execution_count": 14,
     "metadata": {},
     "output_type": "execute_result"
    }
   ],
   "source": [
    "data-analyses/_shared_utils/shared_utils/schedule_gtfs_dataset_key_multi_operator.yml"
   ]
  },
  {
   "cell_type": "markdown",
   "id": "61145caf-05b9-41dd-b8c2-6bf1b03ff2a2",
   "metadata": {},
   "source": [
    "### Keep only one instance of an operator if a schedule_gtfs_dataset_key has multiple values."
   ]
  },
  {
   "cell_type": "code",
   "execution_count": null,
   "id": "32513f40-57b9-40ab-b8a9-d27614867424",
   "metadata": {
    "tags": []
   },
   "outputs": [],
   "source": [
    "schd_vp_df = (pd.read_parquet(schd_vp_url, \n",
    "                       filters=[[(\"sched_rt_category\", \"in\", [\"schedule_and_vp\", \"schedule_only\"])]],\n",
    "                       columns = [ \"schedule_gtfs_dataset_key\",\n",
    "                                    \"caltrans_district\",\n",
    "                                    \"organization_name\",\n",
    "                                    \"name\",\n",
    "                                    \"sched_rt_category\",\n",
    "                                    \"service_date\",]\n",
    "                                     )\n",
    "                     )"
   ]
  },
  {
   "cell_type": "code",
   "execution_count": null,
   "id": "320328b0-b1c1-4f31-9778-9a5f030d8f71",
   "metadata": {
    "tags": []
   },
   "outputs": [],
   "source": [
    "schd_vp_df2 = (\n",
    "    schd_vp_df.dropna(subset=\"caltrans_district\")\n",
    "    .sort_values(\n",
    "        by=[\n",
    "            \"caltrans_district\",\n",
    "            \"organization_name\",\n",
    "            \"service_date\",\n",
    "        ],\n",
    "        ascending=[True, True, False],\n",
    "    )\n",
    "    .drop_duplicates(\n",
    "        subsetschd_vp_df3=[\n",
    "            \"organization_name\",\n",
    "            \"caltrans_district\",\n",
    "        ]\n",
    "    )\n",
    "    .reset_index(drop=True)\n",
    "    )\n",
    "    "
   ]
  },
  {
   "cell_type": "code",
   "execution_count": null,
   "id": "7e69e4d5-bdc2-4193-a866-68a3d8696f5b",
   "metadata": {
    "tags": []
   },
   "outputs": [],
   "source": [
    "schd_vp_df2.schedule_gtfs_dataset_key.value_counts().head()"
   ]
  },
  {
   "cell_type": "code",
   "execution_count": null,
   "id": "afee103c-a642-4689-9d3d-695b73dca234",
   "metadata": {
    "tags": []
   },
   "outputs": [],
   "source": [
    "schd_vp_df2[[\"caltrans_district\",\"schedule_gtfs_dataset_key\",\"organization_name\"]]"
   ]
  },
  {
   "cell_type": "code",
   "execution_count": null,
   "id": "467151b7-5972-4deb-b307-b638df0b41ec",
   "metadata": {
    "tags": []
   },
   "outputs": [],
   "source": [
    "schd_vp_df3 = (\n",
    "    schd_vp_df2.drop_duplicates(\n",
    "        subset=[\n",
    "            \"schedule_gtfs_dataset_key\",\n",
    "        ]\n",
    "    )\n",
    "    .reset_index(drop=True)\n",
    "    )\n",
    "    "
   ]
  },
  {
   "cell_type": "code",
   "execution_count": null,
   "id": "db87f4f7-bbc7-432e-ad45-808fa799e440",
   "metadata": {
    "tags": []
   },
   "outputs": [],
   "source": [
    "schd_vp_df3[[\"caltrans_district\",\"schedule_gtfs_dataset_key\",\"organization_name\"]]"
   ]
  },
  {
   "cell_type": "markdown",
   "id": "947e667b-342a-445b-8cbb-136a09b98c11",
   "metadata": {},
   "source": [
    "### Some operators switch names for the same gtfs_dataset_key"
   ]
  },
  {
   "cell_type": "code",
   "execution_count": null,
   "id": "607e3f0c-2414-48cc-a58d-63a2ad0d8e6e",
   "metadata": {
    "tags": []
   },
   "outputs": [],
   "source": [
    "schd_vp_df = pd.read_parquet(schd_vp_url)"
   ]
  },
  {
   "cell_type": "code",
   "execution_count": null,
   "id": "e3808e30-9ba1-476c-99a3-fd46a5a056a1",
   "metadata": {
    "tags": []
   },
   "outputs": [],
   "source": [
    "schd_vp_df.columns"
   ]
  },
  {
   "cell_type": "code",
   "execution_count": null,
   "id": "6939b93f-df0a-4e49-aa0c-cbda3ea843a7",
   "metadata": {
    "tags": []
   },
   "outputs": [],
   "source": [
    "schd_vp_df.sched_rt_category.value_counts()"
   ]
  },
  {
   "cell_type": "code",
   "execution_count": null,
   "id": "6220f435-8e89-44b4-be89-9c9e763d7f71",
   "metadata": {
    "tags": []
   },
   "outputs": [],
   "source": [
    "schd_vp_df.service_date.unique()"
   ]
  },
  {
   "cell_type": "code",
   "execution_count": null,
   "id": "6a8917eb-e756-42e9-b826-9468155467d6",
   "metadata": {
    "tags": []
   },
   "outputs": [],
   "source": [
    "# Filter out for Feb/Jan only\n",
    "jan_feb_df = schd_vp_df.loc[\n",
    "    (schd_vp_df.service_date == \"2025-01-15T00:00:00.000000000\")\n",
    "    | (schd_vp_df.service_date == \"2025-02-12T00:00:00.000000000\")\n",
    "].reset_index()"
   ]
  },
  {
   "cell_type": "code",
   "execution_count": null,
   "id": "df469fde-dfa0-4621-ba42-aac0f1b3de85",
   "metadata": {
    "tags": []
   },
   "outputs": [],
   "source": [
    "len(jan_feb_df)"
   ]
  },
  {
   "cell_type": "code",
   "execution_count": null,
   "id": "caddfefe-6246-489f-99a3-05fc330e0060",
   "metadata": {
    "tags": []
   },
   "outputs": [],
   "source": [
    "# Figure out which schedule keys are duplicated\n",
    "duplicated_sched_keys_agg = (\n",
    "    jan_feb_df.groupby(\n",
    "        [\n",
    "            \"schedule_gtfs_dataset_key\",\n",
    "        ]\n",
    "    )\n",
    "    .agg({\"organization_name\": \"nunique\"})\n",
    "    .reset_index()\n",
    ")"
   ]
  },
  {
   "cell_type": "code",
   "execution_count": null,
   "id": "93b66792-96a1-41e0-b929-8e0794288d45",
   "metadata": {
    "tags": []
   },
   "outputs": [],
   "source": [
    "duplicated_sched_keys_agg = duplicated_sched_keys_agg.loc[\n",
    "    duplicated_sched_keys_agg.organization_name > 1\n",
    "]"
   ]
  },
  {
   "cell_type": "code",
   "execution_count": null,
   "id": "7ddbe9e5-6d8d-4288-a081-35857214299e",
   "metadata": {
    "tags": []
   },
   "outputs": [],
   "source": [
    "duplicated_sched_keys_list = list(\n",
    "    duplicated_sched_keys_agg.schedule_gtfs_dataset_key.unique()\n",
    ")"
   ]
  },
  {
   "cell_type": "code",
   "execution_count": null,
   "id": "fbe149e9-f275-4d7b-bbf0-10c8f3e84257",
   "metadata": {
    "tags": []
   },
   "outputs": [],
   "source": [
    "# Filter out for duplicated schedule gtfs dataset keys\n",
    "duplicated_sched_keys_df = jan_feb_df.loc[\n",
    "    jan_feb_df.schedule_gtfs_dataset_key.isin(duplicated_sched_keys_list)\n",
    "]"
   ]
  },
  {
   "cell_type": "code",
   "execution_count": null,
   "id": "aa9e9430-19e4-4d5c-95df-b6380c49414a",
   "metadata": {
    "scrolled": true,
    "tags": []
   },
   "outputs": [],
   "source": [
    "duplicated_sched_keys_df[\n",
    "    [\"caltrans_district\", \"organization_name\", \"schedule_gtfs_dataset_key\"]\n",
    "].drop_duplicates().sort_values(by=[\"caltrans_district\"])"
   ]
  },
  {
   "cell_type": "markdown",
   "id": "e4c110bb-dc2d-477f-aee1-9b5a9dff8eec",
   "metadata": {
    "tags": []
   },
   "source": [
    "### Check if a `schedule_gtfs_dataset_key` corresponds with multiple districts"
   ]
  },
  {
   "cell_type": "code",
   "execution_count": null,
   "id": "455d651b-4134-4473-bfb6-23e3bcdd9089",
   "metadata": {
    "tags": []
   },
   "outputs": [],
   "source": [
    "jan_feb_df.groupby([\"schedule_gtfs_dataset_key\"]).agg(\n",
    "    {\"caltrans_district\": \"nunique\"}\n",
    ").sort_values(by=[\"caltrans_district\"], ascending=False).head(3)"
   ]
  },
  {
   "cell_type": "code",
   "execution_count": null,
   "id": "aede88a4-d019-4f38-9e46-61c2e5dc2596",
   "metadata": {
    "tags": []
   },
   "outputs": [],
   "source": [
    "duplicated_sched_keys_df.loc[\n",
    "    duplicated_sched_keys_df.schedule_gtfs_dataset_key.isin(\n",
    "        [\"48e137bc977da88970393f629c18432c\", \"c4092405159366c705b62df938293a4e\"]\n",
    "    )\n",
    "][\n",
    "    [\"schedule_gtfs_dataset_key\", \"organization_name\", \"caltrans_district\"]\n",
    "].drop_duplicates()"
   ]
  },
  {
   "cell_type": "markdown",
   "id": "390e06f9-eaad-44dd-9731-c9c9591414d3",
   "metadata": {},
   "source": [
    "### The same number of unique `route_combined_name` would indicate that these are duplicated."
   ]
  },
  {
   "cell_type": "code",
   "execution_count": null,
   "id": "6e0149c0-58ae-42aa-ac5b-37904bf91758",
   "metadata": {
    "tags": []
   },
   "outputs": [],
   "source": [
    "duplicated_sched_keys_df.loc[\n",
    "    duplicated_sched_keys_df.service_date == \"2025-02-12T00:00:00.000000000\"\n",
    "].groupby(\n",
    "    [\n",
    "        \"caltrans_district\",\n",
    "        \"service_date\",\n",
    "        \"schedule_gtfs_dataset_key\",\n",
    "        \"route_combined_name\",\n",
    "        \"organization_name\",\n",
    "    ]\n",
    ").agg(\n",
    "    {\"direction_id\": \"nunique\"}\n",
    ").head()"
   ]
  },
  {
   "cell_type": "code",
   "execution_count": null,
   "id": "80cc07ca-4175-4ada-af4f-106c4afeecb3",
   "metadata": {
    "tags": []
   },
   "outputs": [],
   "source": [
    "duplicated_sched_keys_df.groupby(\n",
    "    [\n",
    "        \"route_combined_name\",\n",
    "    ]\n",
    ").agg({\"organization_name\": \"nunique\"}).head()"
   ]
  },
  {
   "cell_type": "markdown",
   "id": "59690aeb-0513-4513-9cc3-93b3084db098",
   "metadata": {},
   "source": [
    "## Set up a yaml that shows `schedule_gtfs_dataset_keys` to multiple operators. While we only want to display one operator in this subset of `schedule_gtfs_dataset_keys`, we need a yaml to reference in case we want to look for the other operators."
   ]
  },
  {
   "cell_type": "code",
   "execution_count": null,
   "id": "b96009f8-cf07-4efd-b7dd-b0f1253173ed",
   "metadata": {
    "tags": []
   },
   "outputs": [],
   "source": [
    "subset = [\n",
    "    \"caltrans_district\",\n",
    "    \"schedule_gtfs_dataset_key\",\n",
    "    \"organization_name\",\n",
    "    \"service_date\",\n",
    "]"
   ]
  },
  {
   "cell_type": "code",
   "execution_count": null,
   "id": "9cd0af68-60be-4166-80f5-6833678ea170",
   "metadata": {
    "tags": []
   },
   "outputs": [],
   "source": [
    "schd_vp_df = pd.read_parquet(\n",
    "    schd_vp_url,\n",
    "    filters=[[(\"sched_rt_category\", \"in\", [\"schedule_and_vp\", \"schedule_only\"])]],\n",
    "    columns=subset,\n",
    ")"
   ]
  },
  {
   "cell_type": "code",
   "execution_count": null,
   "id": "65ef7654-55a0-414c-b8bb-595751ccb139",
   "metadata": {
    "tags": []
   },
   "outputs": [],
   "source": [
    "sort_cols = [\n",
    "    \"caltrans_district\",\n",
    "    \"service_date\",\n",
    "    \"schedule_gtfs_dataset_key\",\n",
    "]"
   ]
  },
  {
   "cell_type": "code",
   "execution_count": null,
   "id": "0365c51b-b0c3-4657-965a-28aa18e7d196",
   "metadata": {
    "tags": []
   },
   "outputs": [],
   "source": [
    "# Read the schd_vp_url (already done above)\n",
    "# Filter for latest dates.\n",
    "schd_vp_df2 = schd_vp_df.dropna(subset=\"caltrans_district\").sort_values(\n",
    "    by=sort_cols,\n",
    "    ascending=[True, False, True],\n",
    ")"
   ]
  },
  {
   "cell_type": "code",
   "execution_count": null,
   "id": "eb84ecc6-0df4-4394-a015-629c177386cc",
   "metadata": {
    "tags": []
   },
   "outputs": [],
   "source": [
    "# Sort and keep most current date.\n",
    "schd_vp_df3 = schd_vp_df2.drop_duplicates(\n",
    "    subset=[\n",
    "        \"organization_name\",\n",
    "        \"schedule_gtfs_dataset_key\",\n",
    "        \"caltrans_district\",\n",
    "    ]\n",
    ")"
   ]
  },
  {
   "cell_type": "code",
   "execution_count": null,
   "id": "0464de55-c25c-4e2e-b51f-21d531512d7f",
   "metadata": {
    "tags": []
   },
   "outputs": [],
   "source": [
    "schd_vp_df3.service_date.value_counts()"
   ]
  },
  {
   "cell_type": "code",
   "execution_count": null,
   "id": "661d6942-092e-42ba-834c-aeafb1938b31",
   "metadata": {
    "scrolled": true,
    "tags": []
   },
   "outputs": [],
   "source": [
    "schd_vp_df3"
   ]
  },
  {
   "cell_type": "code",
   "execution_count": null,
   "id": "d7ce6ca8-db99-441b-9a45-264cf7220dc5",
   "metadata": {
    "tags": []
   },
   "outputs": [],
   "source": [
    "# Aggregate to find schedule_gtfs_dataset_key with multiple organization_names\n",
    "agg1 = (\n",
    "    schd_vp_df3.groupby([\"caltrans_district\", \"schedule_gtfs_dataset_key\"])\n",
    "    .agg({\"organization_name\": \"nunique\"})\n",
    "    .reset_index()\n",
    ")"
   ]
  },
  {
   "cell_type": "code",
   "execution_count": null,
   "id": "869ef693-e42e-4a71-b0b9-3018f93b3898",
   "metadata": {
    "tags": []
   },
   "outputs": [],
   "source": [
    "# Filter out rows with more than 1 organization_name\n",
    "multi_orgs = agg1.loc[agg1.organization_name > 1].reset_index(drop=True)"
   ]
  },
  {
   "cell_type": "code",
   "execution_count": null,
   "id": "f979db05-2560-4e78-83bf-7fc5645521d3",
   "metadata": {
    "scrolled": true,
    "tags": []
   },
   "outputs": [],
   "source": [
    "multi_orgs"
   ]
  },
  {
   "cell_type": "code",
   "execution_count": null,
   "id": "b7653bda-cbef-4f3c-a2bc-758eb32c2bd4",
   "metadata": {
    "tags": []
   },
   "outputs": [],
   "source": [
    "# Grab schedule_gtfs_datset_key into a list\n",
    "multi_org_list = list(multi_orgs.schedule_gtfs_dataset_key.unique())"
   ]
  },
  {
   "cell_type": "code",
   "execution_count": null,
   "id": "75ecdd66-521f-4a6f-be63-ecc62b0d1055",
   "metadata": {
    "tags": []
   },
   "outputs": [],
   "source": [
    "# Filter out the dataframe to only include schedule_gtfs_keys with multiple orgs\n",
    "schd_vp_df4 = schd_vp_df3.loc[\n",
    "    schd_vp_df3.schedule_gtfs_dataset_key.isin(multi_org_list)\n",
    "].reset_index(drop=True)"
   ]
  },
  {
   "cell_type": "code",
   "execution_count": null,
   "id": "b0810601-8384-4f20-84e1-1b77b03372be",
   "metadata": {
    "scrolled": true,
    "tags": []
   },
   "outputs": [],
   "source": [
    "schd_vp_df4"
   ]
  },
  {
   "cell_type": "code",
   "execution_count": null,
   "id": "b23cffdd-1c07-4251-9f17-94d56e86b91b",
   "metadata": {
    "tags": []
   },
   "outputs": [],
   "source": [
    "# Drop duplicates for organization_name\n",
    "schd_vp_df5 = schd_vp_df4.drop_duplicates(\n",
    "    subset=[\"caltrans_district\", \"organization_name\"]\n",
    ").reset_index(drop=True)"
   ]
  },
  {
   "cell_type": "code",
   "execution_count": null,
   "id": "7b278e31-c95c-459a-898c-67d59931c10f",
   "metadata": {
    "tags": []
   },
   "outputs": [],
   "source": [
    "# Drop any schedule_gtfs_dataset_key that only has one organization_name\n",
    "agg2 = (\n",
    "    schd_vp_df5.groupby([\"caltrans_district\", \"schedule_gtfs_dataset_key\"])\n",
    "    .agg({\"organization_name\": \"nunique\"})\n",
    "    .reset_index()\n",
    ")"
   ]
  },
  {
   "cell_type": "code",
   "execution_count": null,
   "id": "237b8bf9-d461-4670-bd96-2d54aeb6843a",
   "metadata": {
    "tags": []
   },
   "outputs": [],
   "source": [
    "multi_orgs2 = agg2.loc[agg2.organization_name > 1]"
   ]
  },
  {
   "cell_type": "code",
   "execution_count": null,
   "id": "05cfae59-a289-43f2-8410-0031684782f7",
   "metadata": {
    "tags": []
   },
   "outputs": [],
   "source": [
    "# Grab schedule_gtfs_datset_key into a list\n",
    "multi_org_list2 = list(multi_orgs2.schedule_gtfs_dataset_key.unique())"
   ]
  },
  {
   "cell_type": "code",
   "execution_count": null,
   "id": "890395f7-c49c-495a-903e-968f3b56e737",
   "metadata": {
    "scrolled": true,
    "tags": []
   },
   "outputs": [],
   "source": [
    "# Filter one last time\n",
    "# Filter out the dataframe to only include schedule_gtfs_keys with multiple orgs\n",
    "schd_vp_df6 = schd_vp_df5.loc[\n",
    "    schd_vp_df5.schedule_gtfs_dataset_key.isin(multi_org_list2)\n",
    "].reset_index(drop=True)"
   ]
  },
  {
   "cell_type": "code",
   "execution_count": null,
   "id": "46a3036a-7976-4035-b824-f359dc0d1ba6",
   "metadata": {
    "tags": []
   },
   "outputs": [],
   "source": [
    "schd_vp_df6.head()"
   ]
  },
  {
   "cell_type": "code",
   "execution_count": null,
   "id": "3518147b-a984-40c7-ad22-969085d36efc",
   "metadata": {
    "tags": []
   },
   "outputs": [],
   "source": [
    "from shared_utils import portfolio_utils"
   ]
  },
  {
   "cell_type": "code",
   "execution_count": null,
   "id": "aaaa5697-8f9e-4e3e-8275-f5885e222813",
   "metadata": {
    "tags": []
   },
   "outputs": [],
   "source": [
    "SITE_YML = \"./schedule_gtfs_dataset_key_multi_operator.yml\""
   ]
  },
  {
   "cell_type": "markdown",
   "id": "e1bf2048-9094-4ffe-b6df-38cd164ce275",
   "metadata": {},
   "source": [
    "### Turn this into a function"
   ]
  },
  {
   "cell_type": "code",
   "execution_count": null,
   "id": "2f3e34be-8c16-41c3-b268-999d53963b8b",
   "metadata": {
    "tags": []
   },
   "outputs": [],
   "source": [
    "def count_orgs(df: pd.DataFrame) -> list:\n",
    "    \"\"\"\n",
    "    Count the number of unique organization_names\n",
    "    to schedule_gtfs_dataset_keys. Filter out any\n",
    "    schedule_gtfs_dataset_keys with less than 2 unique\n",
    "    organization_names. Return these schedule_gtfs_dataset_keys\n",
    "    in a list\n",
    "    \"\"\"\n",
    "    agg1 = (\n",
    "        df.groupby([\"caltrans_district\", \"schedule_gtfs_dataset_key\"])\n",
    "        .agg({\"organization_name\": \"nunique\"})\n",
    "        .reset_index()\n",
    "    )\n",
    "\n",
    "    # Filter out rows with more than 1 organization_name\n",
    "    agg1 = agg1.loc[agg1.organization_name > 1].reset_index(drop=True)\n",
    "    # Grab schedule_gtfs_datset_key into a list\n",
    "    multi_org_list = list(agg1.schedule_gtfs_dataset_key.unique())\n",
    "    return multi_org_list"
   ]
  },
  {
   "cell_type": "code",
   "execution_count": null,
   "id": "ad8126d0-2f8e-41c5-9e15-3a8dbd7d3b06",
   "metadata": {
    "tags": []
   },
   "outputs": [],
   "source": [
    "def find_schd_keys_multi_ops() -> pd.DataFrame:\n",
    "    schd_vp_url = f\"{GTFS_DATA_DICT.digest_tables.dir}{GTFS_DATA_DICT.digest_tables.route_schedule_vp}.parquet\"\n",
    "\n",
    "    subset = [\n",
    "        \"caltrans_district\",\n",
    "        \"schedule_gtfs_dataset_key\",\n",
    "        \"organization_name\",\n",
    "        \"service_date\",\n",
    "    ]\n",
    "\n",
    "    sort_cols = [\n",
    "        \"caltrans_district\",\n",
    "        \"service_date\",\n",
    "        \"schedule_gtfs_dataset_key\",\n",
    "    ]\n",
    "\n",
    "    schd_vp_df = pd.read_parquet(\n",
    "        schd_vp_url,\n",
    "        filters=[[(\"sched_rt_category\", \"in\", [\"schedule_and_vp\", \"schedule_only\"])]],\n",
    "        columns=subset,\n",
    "    )\n",
    "\n",
    "    # Sort dataframe to keep the  row for district/gtfs_key for the most\n",
    "    # current date \n",
    "    schd_vp_df2 = schd_vp_df.dropna(subset=\"caltrans_district\").sort_values(\n",
    "        by=sort_cols, ascending=[True, False, True]\n",
    "    )\n",
    "    schd_vp_df3 = schd_vp_df2.drop_duplicates(\n",
    "        subset=[\n",
    "            \"organization_name\",\n",
    "            \"schedule_gtfs_dataset_key\",\n",
    "            \"caltrans_district\",\n",
    "        ]\n",
    "    )\n",
    "\n",
    "    # Aggregate the dataframe to find schedule_gtfs_dataset_keys\n",
    "    # With multiple organization_names.\n",
    "    multi_orgs_list = count_orgs(schd_vp_df3)\n",
    "\n",
    "    # Filter out the dataframe to only include schedule_gtfs_keys with multiple orgs\n",
    "    schd_vp_df4 = schd_vp_df3.loc[\n",
    "        schd_vp_df3.schedule_gtfs_dataset_key.isin(multi_org_list)\n",
    "    ].reset_index(drop=True)\n",
    "\n",
    "    # Drop duplicates for organization_name\n",
    "    schd_vp_df5 = schd_vp_df4.drop_duplicates(\n",
    "        subset=[\"caltrans_district\", \"organization_name\"]\n",
    "    ).reset_index(drop=True)\n",
    "\n",
    "    # Aggregate the dataframe to find schedule_gtfs_dataset_keys\n",
    "    # with multiple organization_names once more.\n",
    "    multi_orgs_list2 = count_orgs(schd_vp_df5)\n",
    "\n",
    "    # Filter one last time to only include schedule_gtfs_keys with multiple orgs\n",
    "    schd_vp_df6 = schd_vp_df5.loc[\n",
    "        schd_vp_df5.schedule_gtfs_dataset_key.isin(multi_org_list2)\n",
    "    ].reset_index(drop=True)\n",
    "\n",
    "    return schd_vp_df6"
   ]
  },
  {
   "cell_type": "code",
   "execution_count": null,
   "id": "737b98d0-5c1a-4e36-8837-d3f8042933d6",
   "metadata": {
    "tags": []
   },
   "outputs": [],
   "source": [
    "# df  = find_schd_keys_multi_ops()"
   ]
  },
  {
   "cell_type": "markdown",
   "id": "db64693e-0cc9-49af-8edf-7b390483fd18",
   "metadata": {},
   "source": [
    "### Why isn't yaml working!"
   ]
  },
  {
   "cell_type": "code",
   "execution_count": null,
   "id": "2e11d668-09a6-49ad-addc-e9100b622da9",
   "metadata": {
    "tags": []
   },
   "outputs": [],
   "source": [
    "df = _operators_prep.operators_schd_vp_rt()"
   ]
  },
  {
   "cell_type": "code",
   "execution_count": null,
   "id": "8e773dc7-994b-40ca-95fd-000edf26972e",
   "metadata": {
    "tags": []
   },
   "outputs": [],
   "source": [
    "import _schd_gtfs_keys_multi_orgs"
   ]
  },
  {
   "cell_type": "code",
   "execution_count": null,
   "id": "398e8f8a-bb69-4f1e-bc2b-9db43db51034",
   "metadata": {
    "tags": []
   },
   "outputs": [],
   "source": [
    "df2 = _schd_gtfs_keys_multi_orgs.find_schd_keys_multi_ops()"
   ]
  },
  {
   "cell_type": "code",
   "execution_count": null,
   "id": "80f571f0-767b-4b2e-a1ec-2704aaf46130",
   "metadata": {
    "tags": []
   },
   "outputs": [],
   "source": [
    "df2.head()"
   ]
  },
  {
   "cell_type": "code",
   "execution_count": null,
   "id": "72c2eef9-c502-4032-9c7f-58631bdc6e8f",
   "metadata": {
    "tags": []
   },
   "outputs": [],
   "source": [
    "chapter_info =  {\n",
    "            \"column\": \"combo\",\n",
    "            \"name\": \"district and schedule_gtfs_dataset_key\",\n",
    "            \"caption_prefix\": \"Key\",\n",
    "            \"caption_suffix\": \"\",\n",
    "        }"
   ]
  },
  {
   "cell_type": "code",
   "execution_count": null,
   "id": "b580339a-c643-48c8-8e54-313f03c47a9c",
   "metadata": {
    "tags": []
   },
   "outputs": [],
   "source": [
    "section_info = {\n",
    "            \"column\": \"organization_name\",\n",
    "            \"name\": \"organization_name\",\n",
    "        }"
   ]
  },
  {
   "cell_type": "code",
   "execution_count": null,
   "id": "2f3f0393-48be-4b21-b497-f93ac91a5d32",
   "metadata": {
    "tags": []
   },
   "outputs": [],
   "source": [
    "type(chapter_info)"
   ]
  },
  {
   "cell_type": "code",
   "execution_count": null,
   "id": "ca796a95-bca4-426c-9520-f44062cb2567",
   "metadata": {
    "tags": []
   },
   "outputs": [],
   "source": [
    "section_col = section_info[\"column\"]\n",
    "caption_prefix = chapter_info[\"caption_prefix\"]\n",
    "caption_suffix = chapter_info[\"caption_suffix\"]"
   ]
  },
  {
   "cell_type": "code",
   "execution_count": null,
   "id": "bd6e7938-468b-4e57-8036-e6225dbafbc8",
   "metadata": {
    "tags": []
   },
   "outputs": [],
   "source": [
    "caption_prefix"
   ]
  },
  {
   "cell_type": "code",
   "execution_count": null,
   "id": "34bd3a47-9140-4f47-b0f7-5d6926024bdf",
   "metadata": {
    "tags": []
   },
   "outputs": [],
   "source": [
    "section_col"
   ]
  },
  {
   "cell_type": "code",
   "execution_count": null,
   "id": "ce70e0b5-d217-4ffb-82ea-dec01097d912",
   "metadata": {
    "tags": []
   },
   "outputs": [],
   "source": [
    "chapter_col = chapter_info[\"column\"]"
   ]
  },
  {
   "cell_type": "code",
   "execution_count": null,
   "id": "d1e911a5-e79b-44f9-9a4c-aac4cb93ea76",
   "metadata": {
    "tags": []
   },
   "outputs": [],
   "source": [
    "chapter_col"
   ]
  },
  {
   "cell_type": "code",
   "execution_count": null,
   "id": "19e052cd-defd-4225-934a-da861244ee5d",
   "metadata": {
    "tags": []
   },
   "outputs": [],
   "source": [
    "chapter_values = sorted(list(df2[chapter_col].unique()))"
   ]
  },
  {
   "cell_type": "code",
   "execution_count": null,
   "id": "aaadd5d2-a38d-47ae-b36d-22d39b0dd2b5",
   "metadata": {
    "tags": []
   },
   "outputs": [],
   "source": [
    "chapters_list = [\n",
    "        {\n",
    "            **{\n",
    "                \"caption\": f\"{caption_prefix}{one_chapter_value}{caption_suffix}\",\n",
    "                \"params\": {chapter_info[\"name\"]: str(one_chapter_value)},\n",
    "                \"sections\": [\n",
    "                    {section_info[\"name\"]: str(one_section_value)}\n",
    "                    for one_section_value in df2[df2[chapter_col] == one_chapter_value][section_col].unique().tolist()\n",
    "                ],\n",
    "            }\n",
    "        }\n",
    "        for one_chapter_value in chapter_values\n",
    "    ]"
   ]
  },
  {
   "cell_type": "code",
   "execution_count": null,
   "id": "091f4e4e-32ac-4e00-9f0a-f1e191ecaf3c",
   "metadata": {
    "tags": []
   },
   "outputs": [],
   "source": [
    "chapters_list"
   ]
  },
  {
   "cell_type": "code",
   "execution_count": null,
   "id": "c1ca7f3a-2699-44c6-a8e8-38876eb5fb26",
   "metadata": {
    "tags": []
   },
   "outputs": [],
   "source": [
    "portfolio_site_yaml = \"./schedule_gtfs_dataset_key_multi_operator.yml\""
   ]
  },
  {
   "cell_type": "code",
   "execution_count": null,
   "id": "3ce21675-6e56-4429-9118-d3d7d465b402",
   "metadata": {
    "tags": []
   },
   "outputs": [],
   "source": [
    "with open(portfolio_site_yaml) as f:\n",
    "        site_yaml_dict = yaml.load(f, yaml.Loader)"
   ]
  },
  {
   "cell_type": "code",
   "execution_count": null,
   "id": "abab4877-d19f-4aed-bd2e-476d7ae3d129",
   "metadata": {
    "scrolled": true,
    "tags": []
   },
   "outputs": [],
   "source": [
    "site_yaml_dict"
   ]
  },
  {
   "cell_type": "code",
   "execution_count": null,
   "id": "80c6b28a-9542-4bde-a078-5314a7d13edf",
   "metadata": {
    "tags": []
   },
   "outputs": [],
   "source": [
    "# Make this into a list item\n",
    "parts_list = [{\"chapters\": chapters_list}]\n",
    "site_yaml_dict[\"parts\"] = parts_list"
   ]
  },
  {
   "cell_type": "code",
   "execution_count": null,
   "id": "407df486-c1a6-44a2-88b8-698d87495332",
   "metadata": {
    "tags": []
   },
   "outputs": [],
   "source": [
    "output = yaml.dump(site_yaml_dict)"
   ]
  },
  {
   "cell_type": "markdown",
   "id": "9f2fff69-0929-4eb0-8348-efe54b92b1f3",
   "metadata": {},
   "source": [
    "## Operators differ between D7 Los Angeles vs D7 LA/Ventura"
   ]
  },
  {
   "cell_type": "code",
   "execution_count": null,
   "id": "3d877c70-7863-4d97-9013-ef9e7ec70ecb",
   "metadata": {},
   "outputs": [],
   "source": [
    "stop"
   ]
  },
  {
   "cell_type": "code",
   "execution_count": null,
   "id": "e835eb5f-c5e7-4872-9236-323ce724c740",
   "metadata": {
    "tags": []
   },
   "outputs": [],
   "source": [
    "schd_vp_df = schd_vp_df.fillna(\"None\")"
   ]
  },
  {
   "cell_type": "code",
   "execution_count": null,
   "id": "d50dd807-f638-4c2d-9995-83b58a288fa8",
   "metadata": {
    "tags": []
   },
   "outputs": [],
   "source": [
    "d7_only = schd_vp_df.loc[schd_vp_df.caltrans_district.str.contains(\"07\")]"
   ]
  },
  {
   "cell_type": "code",
   "execution_count": null,
   "id": "92f26aa0-00bb-4ad8-9257-1e16c2651c25",
   "metadata": {
    "tags": []
   },
   "outputs": [],
   "source": [
    "d7_og = d7_only.loc[d7_only.caltrans_district == \"07 - Los Angeles\"]"
   ]
  },
  {
   "cell_type": "code",
   "execution_count": null,
   "id": "46a93d27-1a06-4083-843b-24b53bdcb404",
   "metadata": {
    "tags": []
   },
   "outputs": [],
   "source": [
    "d7_og.loc[d7_og.organization_name.str.contains(\"Calabasas\")].service_date.unique()"
   ]
  },
  {
   "cell_type": "code",
   "execution_count": null,
   "id": "67335006-d84d-4f7f-924c-7c776687f07b",
   "metadata": {
    "tags": []
   },
   "outputs": [],
   "source": [
    "d7_og.loc[d7_og.organization_name.str.contains(\"Avalon\")].service_date.unique()"
   ]
  },
  {
   "cell_type": "code",
   "execution_count": null,
   "id": "5c5bf7f2-986c-4126-95ae-119c2e720248",
   "metadata": {
    "tags": []
   },
   "outputs": [],
   "source": [
    "d7_og.loc[d7_og.organization_name.str.contains(\"Sierra Madre\")].service_date.unique()"
   ]
  },
  {
   "cell_type": "code",
   "execution_count": null,
   "id": "59b9166c-9218-4f08-92ec-4537d96bc40b",
   "metadata": {
    "tags": []
   },
   "outputs": [],
   "source": [
    "d7_og_orgs = set(list(d7_og.organization_name.unique()))"
   ]
  },
  {
   "cell_type": "code",
   "execution_count": null,
   "id": "9a4097c0-60bf-405c-b09a-2ef7c029d51c",
   "metadata": {
    "tags": []
   },
   "outputs": [],
   "source": [
    "d7_og_sched = set(list(d7_og.schedule_gtfs_dataset_key.unique()))"
   ]
  },
  {
   "cell_type": "code",
   "execution_count": null,
   "id": "b41b6374-54a5-4772-b2d3-b61644ad8762",
   "metadata": {
    "tags": []
   },
   "outputs": [],
   "source": [
    "d7_la_ventura = d7_only.loc[d7_only.caltrans_district != \"07 - Los Angeles\"]"
   ]
  },
  {
   "cell_type": "code",
   "execution_count": null,
   "id": "efae367b-0df0-4244-ae96-36cc3a17c6b0",
   "metadata": {
    "tags": []
   },
   "outputs": [],
   "source": [
    "d7_la_ventura_orgs = set(list(d7_la_ventura.organization_name.unique()))"
   ]
  },
  {
   "cell_type": "code",
   "execution_count": null,
   "id": "80696097-5bdd-467c-858b-9a0e410ad08e",
   "metadata": {
    "tags": []
   },
   "outputs": [],
   "source": [
    "d7_la_ventura_sched = set(list(d7_og.schedule_gtfs_dataset_key.unique()))"
   ]
  },
  {
   "cell_type": "code",
   "execution_count": null,
   "id": "ca3e7590-a11d-4bb4-b30b-4086c25c117a",
   "metadata": {
    "tags": []
   },
   "outputs": [],
   "source": [
    "d7_la_ventura_orgs - d7_og_orgs"
   ]
  },
  {
   "cell_type": "code",
   "execution_count": null,
   "id": "2caa596c-f3d5-4f95-af5c-57ae4904a936",
   "metadata": {
    "tags": []
   },
   "outputs": [],
   "source": [
    "d7_og_orgs - d7_la_ventura_orgs"
   ]
  },
  {
   "cell_type": "code",
   "execution_count": null,
   "id": "fcbfe603-59f6-4add-84bb-ed2d8b61863e",
   "metadata": {
    "tags": []
   },
   "outputs": [],
   "source": [
    "d7_la_ventura_sched - d7_og_sched"
   ]
  },
  {
   "cell_type": "code",
   "execution_count": null,
   "id": "db1ca548-ad6d-4b81-b17a-762b10fa1430",
   "metadata": {
    "tags": []
   },
   "outputs": [],
   "source": [
    "d7_og_sched - d7_la_ventura_sched"
   ]
  },
  {
   "cell_type": "markdown",
   "id": "b947a661-ee9b-4261-8df1-cbd782b80197",
   "metadata": {},
   "source": [
    "### Replace `'07 - Los Angeles` with `'07 - Los Angeles / Ventura'` & Incorporate all the operators."
   ]
  },
  {
   "cell_type": "code",
   "execution_count": null,
   "id": "b27e3831-9f59-455f-b1d4-212c83772cc2",
   "metadata": {
    "tags": []
   },
   "outputs": [],
   "source": [
    "schd_vp_df.caltrans_district.unique()"
   ]
  },
  {
   "cell_type": "code",
   "execution_count": null,
   "id": "d4f96349-e377-4fb4-b745-a0125c6553ca",
   "metadata": {},
   "outputs": [],
   "source": [
    "schd_vp_df2 = schd_vp_df.copy()"
   ]
  },
  {
   "cell_type": "code",
   "execution_count": null,
   "id": "40755c38-cd91-4713-9659-d30e39411fa8",
   "metadata": {
    "tags": []
   },
   "outputs": [],
   "source": [
    "# Step 1, replace original D7 string.\n",
    "import numpy as np\n",
    "\n",
    "schd_vp_df2.caltrans_district = np.where(\n",
    "    (schd_vp_df2.caltrans_district == \"07 - Los Angeles\")\n",
    "    & (~schd_vp_df2.caltrans_district.str.contains(\"/ Ventura\")),\n",
    "    \"07 - Los Angeles / Ventura\",\n",
    "    schd_vp_df2.caltrans_district,\n",
    ")"
   ]
  },
  {
   "cell_type": "code",
   "execution_count": null,
   "id": "db45f956-ff33-4fdf-8d0f-22d759e58d53",
   "metadata": {
    "tags": []
   },
   "outputs": [],
   "source": [
    "schd_vp_df.caltrans_district.value_counts()"
   ]
  },
  {
   "cell_type": "code",
   "execution_count": null,
   "id": "5c549b0b-13cd-40f2-9f9f-67b9582b26c9",
   "metadata": {
    "tags": []
   },
   "outputs": [],
   "source": [
    "127616 + 12578"
   ]
  },
  {
   "cell_type": "code",
   "execution_count": null,
   "id": "0efd56c4-5fb9-4246-88fd-54de261288c4",
   "metadata": {
    "tags": []
   },
   "outputs": [],
   "source": [
    "schd_vp_df2.caltrans_district.value_counts()"
   ]
  },
  {
   "cell_type": "markdown",
   "id": "31c9f054-93c9-4d01-9308-297f329bef65",
   "metadata": {},
   "source": [
    "### I thought there would be a lot of duplicates but apparently not so."
   ]
  },
  {
   "cell_type": "code",
   "execution_count": null,
   "id": "57ed8912-f960-416b-b284-34092aa611a9",
   "metadata": {
    "tags": []
   },
   "outputs": [],
   "source": [
    "len(schd_vp_df)"
   ]
  },
  {
   "cell_type": "code",
   "execution_count": null,
   "id": "bb87f841-1dc2-4791-8bb0-f4f5f796eee8",
   "metadata": {
    "tags": []
   },
   "outputs": [],
   "source": [
    "len(schd_vp_df2)"
   ]
  },
  {
   "cell_type": "code",
   "execution_count": null,
   "id": "307e2bb8-e769-4c49-8114-ff198c1f1c28",
   "metadata": {
    "tags": []
   },
   "outputs": [],
   "source": [
    "# Step 2, delete duplicates\n",
    "schd_vp_df3 = schd_vp_df2.drop_duplicates()"
   ]
  },
  {
   "cell_type": "code",
   "execution_count": null,
   "id": "319b9967-7668-46f6-a7ba-c8c31a1c980d",
   "metadata": {
    "tags": []
   },
   "outputs": [],
   "source": [
    "len(schd_vp_df3)"
   ]
  },
  {
   "cell_type": "code",
   "execution_count": null,
   "id": "0ec88beb-e7f6-498d-b9fd-311708bbc5fb",
   "metadata": {
    "tags": []
   },
   "outputs": [],
   "source": [
    "schd_vp_df3.columns"
   ]
  },
  {
   "cell_type": "code",
   "execution_count": null,
   "id": "2673e348-f2c4-4461-af16-cb7e9b175534",
   "metadata": {
    "tags": []
   },
   "outputs": [],
   "source": [
    "schd_vp_df3.loc[\n",
    "    (schd_vp_df3.organization_name.str.contains(\"City of Pasadena\"))\n",
    "].route_combined_name.unique()"
   ]
  },
  {
   "cell_type": "code",
   "execution_count": null,
   "id": "08885e66-79e6-4d85-be48-adf756ac1410",
   "metadata": {
    "tags": []
   },
   "outputs": [],
   "source": [
    "schd_vp_df3.loc[\n",
    "    (schd_vp_df3.organization_name.str.contains(\"City of Pasadena\"))\n",
    "].service_date.unique()"
   ]
  },
  {
   "cell_type": "code",
   "execution_count": null,
   "id": "a6c12f2b-1003-4bc9-a9d0-d7c61b23ae98",
   "metadata": {},
   "outputs": [],
   "source": [
    "schd_vp_df3.loc[\n",
    "    (schd_vp_df3.organization_name.str.contains(\"City of Pasadena\"))\n",
    "].service_date.unique()"
   ]
  },
  {
   "cell_type": "code",
   "execution_count": null,
   "id": "25c81532-7e03-4012-be71-9d07c8517aa7",
   "metadata": {
    "tags": []
   },
   "outputs": [],
   "source": [
    "schd_vp_df3.loc[\n",
    "    (schd_vp_df3.organization_name.str.contains(\"City of Pasadena\"))\n",
    "    & (schd_vp_df3.route_combined_name.str.contains(\"40 Old Pasadena - SMV Station\"))\n",
    "    & (schd_vp_df3.service_date == \"2025-02-12T00:00:00.000000000\")\n",
    "    & (schd_vp_df3.direction_id == 0)\n",
    "]"
   ]
  },
  {
   "cell_type": "code",
   "execution_count": null,
   "id": "7e54071e-d26d-46b1-bcab-a09363f1b00c",
   "metadata": {
    "tags": []
   },
   "outputs": [],
   "source": [
    "operators_prep = _operators_prep.operators_schd_vp_rt()"
   ]
  },
  {
   "cell_type": "code",
   "execution_count": null,
   "id": "91ba3933-e298-4d88-8be2-ed2c0c1df07f",
   "metadata": {
    "tags": []
   },
   "outputs": [],
   "source": [
    "operators_prep"
   ]
  }
 ],
 "metadata": {
  "kernelspec": {
   "display_name": "Python 3 (ipykernel)",
   "language": "python",
   "name": "python3"
  },
  "language_info": {
   "codemirror_mode": {
    "name": "ipython",
    "version": 3
   },
   "file_extension": ".py",
   "mimetype": "text/x-python",
   "name": "python",
   "nbconvert_exporter": "python",
   "pygments_lexer": "ipython3",
   "version": "3.11.10"
  }
 },
 "nbformat": 4,
 "nbformat_minor": 5
}
