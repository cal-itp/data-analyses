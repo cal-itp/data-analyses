{
 "cells": [
  {
   "cell_type": "markdown",
   "id": "51956a7c-cc76-4768-b177-63abfb17014d",
   "metadata": {},
   "source": [
    "## Refactor GTFS Digest Portfolio work as part of Refactor Summer 2024"
   ]
  },
  {
   "cell_type": "code",
   "execution_count": 4,
   "id": "7fbf59d3-a2ac-45a2-bd1f-48aa453a0517",
   "metadata": {},
   "outputs": [],
   "source": [
    "from datetime import datetime\n",
    "\n",
    "import _section1_utils as section1\n",
    "import _section2_utils as section2\n",
    "import geopandas as gpd\n",
    "import numpy as np\n",
    "import pandas as pd\n",
    "from IPython.display import HTML, Image, Markdown, display, display_html\n",
    "from segment_speed_utils import gtfs_schedule_wrangling, helpers, time_series_utils\n",
    "from segment_speed_utils.project_vars import (\n",
    "    COMPILED_CACHED_VIEWS,\n",
    "    GTFS_DATA_DICT,\n",
    "    PROJECT_CRS,\n",
    "    RT_SCHED_GCS,\n",
    "    SCHED_GCS,\n",
    "    SEGMENT_GCS,\n",
    ")\n",
    "from shared_utils import catalog_utils, rt_dates, rt_utils"
   ]
  },
  {
   "cell_type": "code",
   "execution_count": 2,
   "id": "7baab918-f997-476b-91d0-1c95b340f5a8",
   "metadata": {},
   "outputs": [],
   "source": [
    "pd.options.display.max_columns = 100\n",
    "pd.options.display.float_format = \"{:.2f}\".format\n",
    "pd.set_option(\"display.max_rows\", None)\n",
    "pd.set_option(\"display.max_colwidth\", None)"
   ]
  },
  {
   "cell_type": "markdown",
   "id": "1ab0c272-1c2a-4006-b675-94d338299eef",
   "metadata": {},
   "source": [
    "### 6/26 `section1.total_service_hours()` isn't working anymore"
   ]
  },
  {
   "cell_type": "code",
   "execution_count": 2,
   "id": "fb173c31-a8c6-41ac-b7a7-00ddcb3aa571",
   "metadata": {},
   "outputs": [],
   "source": [
    "organization_name = \"Alameda-Contra Costa Transit District\""
   ]
  },
  {
   "cell_type": "code",
   "execution_count": 5,
   "id": "b1c26273-5467-4844-a257-ed81321f5716",
   "metadata": {},
   "outputs": [],
   "source": [
    "name = section1.organization_name_crosswalk(organization_name)"
   ]
  },
  {
   "cell_type": "code",
   "execution_count": 6,
   "id": "eeaed688-8c30-4fdb-89c7-856fd8a38b59",
   "metadata": {},
   "outputs": [
    {
     "data": {
      "text/plain": [
       "'Bay Area 511 AC Transit Schedule'"
      ]
     },
     "execution_count": 6,
     "metadata": {},
     "output_type": "execute_result"
    }
   ],
   "source": [
    "name"
   ]
  },
  {
   "cell_type": "code",
   "execution_count": 7,
   "id": "a55c3eb8-ddbe-4e4d-9801-9ac1df71c2fe",
   "metadata": {},
   "outputs": [],
   "source": [
    "operator_route_map = section1.load_operator_map(name)"
   ]
  },
  {
   "cell_type": "code",
   "execution_count": 11,
   "id": "5a8fe3eb-3e0e-43f0-a7be-8e516a7998e3",
   "metadata": {},
   "outputs": [],
   "source": [
    "# operator_route_map.explore()"
   ]
  },
  {
   "cell_type": "code",
   "execution_count": 9,
   "id": "902a48e2-ee6b-4c1e-b12e-c1b57c9ea588",
   "metadata": {},
   "outputs": [],
   "source": [
    "# scheduled_service = section1.total_service_hours_all_months(name)"
   ]
  },
  {
   "cell_type": "code",
   "execution_count": 12,
   "id": "e4e460ad-f823-472a-b6a1-105d6b2ae35e",
   "metadata": {},
   "outputs": [],
   "source": [
    "from shared_utils import catalog_utils, rt_dates, rt_utils"
   ]
  },
  {
   "cell_type": "code",
   "execution_count": 13,
   "id": "398c0e61-6a6f-44ec-9740-8b7641759049",
   "metadata": {},
   "outputs": [],
   "source": [
    "apr_23 = rt_dates.get_week(month=\"apr2023\", exclude_wed=False)\n",
    "oct_23 = rt_dates.get_week(month=\"oct2023\", exclude_wed=False)"
   ]
  },
  {
   "cell_type": "code",
   "execution_count": 15,
   "id": "bc278c1b-6de2-4146-a017-c1f0246a934c",
   "metadata": {},
   "outputs": [],
   "source": [
    "apr_24 = rt_dates.get_week(month=\"apr2024\", exclude_wed=False)"
   ]
  },
  {
   "cell_type": "code",
   "execution_count": 16,
   "id": "9d27f13d-b7bf-4daf-be0a-3777bfc1684a",
   "metadata": {},
   "outputs": [
    {
     "data": {
      "text/plain": [
       "['2024-04-15',\n",
       " '2024-04-16',\n",
       " '2024-04-17',\n",
       " '2024-04-18',\n",
       " '2024-04-19',\n",
       " '2024-04-20',\n",
       " '2024-04-21']"
      ]
     },
     "execution_count": 16,
     "metadata": {},
     "output_type": "execute_result"
    }
   ],
   "source": [
    "apr_24"
   ]
  },
  {
   "cell_type": "code",
   "execution_count": 14,
   "id": "3cdffc9e-2e38-42ee-afb9-31e0ad510cb6",
   "metadata": {},
   "outputs": [
    {
     "data": {
      "text/plain": [
       "['2023-04-10',\n",
       " '2023-04-11',\n",
       " '2023-04-12',\n",
       " '2023-04-13',\n",
       " '2023-04-14',\n",
       " '2023-04-15',\n",
       " '2023-04-16']"
      ]
     },
     "execution_count": 14,
     "metadata": {},
     "output_type": "execute_result"
    }
   ],
   "source": [
    "apr_23"
   ]
  },
  {
   "cell_type": "code",
   "execution_count": 17,
   "id": "3109d797-ee89-4da6-996e-49687e1a5be2",
   "metadata": {},
   "outputs": [],
   "source": [
    "FILE = GTFS_DATA_DICT.schedule_downloads.trips"
   ]
  },
  {
   "cell_type": "code",
   "execution_count": 19,
   "id": "3f5219d9-d145-4d29-a4dc-bbcb2729d120",
   "metadata": {},
   "outputs": [
    {
     "data": {
      "text/plain": [
       "'gs://calitp-analytics-data/data-analyses/rt_delay/compiled_cached_views/'"
      ]
     },
     "execution_count": 19,
     "metadata": {},
     "output_type": "execute_result"
    }
   ],
   "source": [
    "COMPILED_CACHED_VIEWS"
   ]
  },
  {
   "cell_type": "code",
   "execution_count": 18,
   "id": "00981493-4cff-4d25-ba11-31ff6798d3f8",
   "metadata": {},
   "outputs": [
    {
     "data": {
      "text/plain": [
       "'trips'"
      ]
     },
     "execution_count": 18,
     "metadata": {},
     "output_type": "execute_result"
    }
   ],
   "source": [
    "FILE"
   ]
  },
  {
   "cell_type": "code",
   "execution_count": 27,
   "id": "101f49e9-f826-45e7-ae1c-be22922b51cd",
   "metadata": {},
   "outputs": [],
   "source": [
    "apr_16_file = \"gs://calitp-analytics-data/data-analyses/rt_delay/compiled_cached_views/trips_2024-04-16.parquet\""
   ]
  },
  {
   "cell_type": "code",
   "execution_count": 23,
   "id": "52eafa9c-bbd5-4269-a888-cfe9b3c6aa33",
   "metadata": {},
   "outputs": [],
   "source": [
    "columns = [\n",
    "    \"name\",\n",
    "    \"service_date\",\n",
    "    \"route_long_name\",\n",
    "    \"trip_first_departure_datetime_pacific\",\n",
    "    \"service_hours\",\n",
    "]"
   ]
  },
  {
   "cell_type": "code",
   "execution_count": 30,
   "id": "085a3187-98a9-4c13-99bd-6cb572b54f2a",
   "metadata": {},
   "outputs": [],
   "source": [
    "apr_16_df = pd.read_parquet(apr_16_file)[columns]"
   ]
  },
  {
   "cell_type": "code",
   "execution_count": 31,
   "id": "b36e97bd-edcf-4c9d-9d5b-713a15e3d96a",
   "metadata": {},
   "outputs": [
    {
     "data": {
      "text/plain": [
       "Index(['name', 'service_date', 'route_long_name',\n",
       "       'trip_first_departure_datetime_pacific', 'service_hours'],\n",
       "      dtype='object')"
      ]
     },
     "execution_count": 31,
     "metadata": {},
     "output_type": "execute_result"
    }
   ],
   "source": [
    "apr_16_df.columns"
   ]
  },
  {
   "cell_type": "code",
   "execution_count": 32,
   "id": "e3ae4b3a-8c68-47aa-ae2f-22e4934d3f5d",
   "metadata": {},
   "outputs": [],
   "source": [
    "apr_17_file = \"gs://calitp-analytics-data/data-analyses/rt_delay/compiled_cached_views/trips_2024-04-17.parquet\""
   ]
  },
  {
   "cell_type": "code",
   "execution_count": 33,
   "id": "0cbd172a-1963-47c3-b302-2b1478f5bba8",
   "metadata": {},
   "outputs": [],
   "source": [
    "apr_17_df = pd.read_parquet(apr_17_file)[columns]"
   ]
  },
  {
   "cell_type": "code",
   "execution_count": 34,
   "id": "d866ee17-82b8-44a4-b07a-4120364fb7cd",
   "metadata": {},
   "outputs": [
    {
     "data": {
      "text/plain": [
       "Index(['name', 'service_date', 'route_long_name',\n",
       "       'trip_first_departure_datetime_pacific', 'service_hours'],\n",
       "      dtype='object')"
      ]
     },
     "execution_count": 34,
     "metadata": {},
     "output_type": "execute_result"
    }
   ],
   "source": [
    "apr_17_df.columns"
   ]
  },
  {
   "cell_type": "code",
   "execution_count": 35,
   "id": "b2a35cdf-d0ba-4a4b-a5e6-7e70f112cbb0",
   "metadata": {},
   "outputs": [
    {
     "data": {
      "text/plain": [
       "['2024-04-15',\n",
       " '2024-04-16',\n",
       " '2024-04-17',\n",
       " '2024-04-18',\n",
       " '2024-04-19',\n",
       " '2024-04-20',\n",
       " '2024-04-21']"
      ]
     },
     "execution_count": 35,
     "metadata": {},
     "output_type": "execute_result"
    }
   ],
   "source": [
    "apr_24"
   ]
  },
  {
   "cell_type": "code",
   "execution_count": 36,
   "id": "89bde8d6-b7af-4ce3-be3e-fc8e01432899",
   "metadata": {},
   "outputs": [],
   "source": [
    "date_list = [\n",
    "    \"2024-04-16\",\n",
    "    \"2024-04-17\",\n",
    "]"
   ]
  },
  {
   "cell_type": "code",
   "execution_count": 37,
   "id": "99a26f46-d254-4328-b43c-65de9346783c",
   "metadata": {},
   "outputs": [],
   "source": [
    "df = (\n",
    "    time_series_utils.concatenate_datasets_across_dates(\n",
    "        COMPILED_CACHED_VIEWS,\n",
    "        FILE,\n",
    "        date_list,\n",
    "        data_type=\"df\",\n",
    "        columns=[\n",
    "            \"name\",\n",
    "            \"service_date\",\n",
    "            \"route_long_name\",\n",
    "            \"trip_first_departure_datetime_pacific\",\n",
    "            \"service_hours\",\n",
    "        ],\n",
    "    )\n",
    "    .sort_values([\"service_date\"])\n",
    "    .reset_index(drop=True)\n",
    ")"
   ]
  },
  {
   "cell_type": "code",
   "execution_count": 38,
   "id": "793a26c5-8862-435d-9433-431aede6bd8f",
   "metadata": {},
   "outputs": [],
   "source": [
    "apr_24_df = (\n",
    "    time_series_utils.concatenate_datasets_across_dates(\n",
    "        COMPILED_CACHED_VIEWS,\n",
    "        FILE,\n",
    "        apr_24,\n",
    "        data_type=\"df\",\n",
    "        columns=[\n",
    "            \"name\",\n",
    "            \"service_date\",\n",
    "            \"route_long_name\",\n",
    "            \"trip_first_departure_datetime_pacific\",\n",
    "            \"service_hours\",\n",
    "        ],\n",
    "    )\n",
    "    .sort_values([\"service_date\"])\n",
    "    .reset_index(drop=True)\n",
    ")"
   ]
  },
  {
   "cell_type": "code",
   "execution_count": 41,
   "id": "a5a543d7-3244-4e93-8e0a-9e03691f003b",
   "metadata": {},
   "outputs": [
    {
     "data": {
      "text/html": [
       "<div>\n",
       "<style scoped>\n",
       "    .dataframe tbody tr th:only-of-type {\n",
       "        vertical-align: middle;\n",
       "    }\n",
       "\n",
       "    .dataframe tbody tr th {\n",
       "        vertical-align: top;\n",
       "    }\n",
       "\n",
       "    .dataframe thead th {\n",
       "        text-align: right;\n",
       "    }\n",
       "</style>\n",
       "<table border=\"1\" class=\"dataframe\">\n",
       "  <thead>\n",
       "    <tr style=\"text-align: right;\">\n",
       "      <th></th>\n",
       "      <th>name</th>\n",
       "      <th>service_date</th>\n",
       "      <th>route_long_name</th>\n",
       "      <th>trip_first_departure_datetime_pacific</th>\n",
       "      <th>service_hours</th>\n",
       "    </tr>\n",
       "  </thead>\n",
       "  <tbody>\n",
       "    <tr>\n",
       "      <th>0</th>\n",
       "      <td>VCTC GMV Schedule</td>\n",
       "      <td>2024-04-15</td>\n",
       "      <td>Route 18</td>\n",
       "      <td>2024-04-15 15:45:00</td>\n",
       "      <td>0.583333</td>\n",
       "    </tr>\n",
       "    <tr>\n",
       "      <th>1</th>\n",
       "      <td>LA Metro Bus Schedule</td>\n",
       "      <td>2024-04-15</td>\n",
       "      <td>Metro Local Line</td>\n",
       "      <td>2024-04-15 07:48:00</td>\n",
       "      <td>1.466667</td>\n",
       "    </tr>\n",
       "  </tbody>\n",
       "</table>\n",
       "</div>"
      ],
      "text/plain": [
       "                    name service_date   route_long_name  \\\n",
       "0      VCTC GMV Schedule   2024-04-15          Route 18   \n",
       "1  LA Metro Bus Schedule   2024-04-15  Metro Local Line   \n",
       "\n",
       "  trip_first_departure_datetime_pacific  service_hours  \n",
       "0                   2024-04-15 15:45:00       0.583333  \n",
       "1                   2024-04-15 07:48:00       1.466667  "
      ]
     },
     "execution_count": 41,
     "metadata": {},
     "output_type": "execute_result"
    }
   ],
   "source": [
    "apr_24_df.head(2)"
   ]
  },
  {
   "cell_type": "markdown",
   "id": "7a953dfb-a4f9-494b-9cb6-77976e9c36ae",
   "metadata": {},
   "source": [
    "#### October and April 2023 stopped working."
   ]
  },
  {
   "cell_type": "code",
   "execution_count": 47,
   "id": "dbdcb656-ccc4-442f-8fd5-52b44e9faa57",
   "metadata": {},
   "outputs": [
    {
     "data": {
      "text/plain": [
       "['2023-10-09',\n",
       " '2023-10-10',\n",
       " '2023-10-11',\n",
       " '2023-10-12',\n",
       " '2023-10-13',\n",
       " '2023-10-14',\n",
       " '2023-10-15']"
      ]
     },
     "execution_count": 47,
     "metadata": {},
     "output_type": "execute_result"
    }
   ],
   "source": [
    "oct_23"
   ]
  },
  {
   "cell_type": "code",
   "execution_count": 50,
   "id": "3eb24240-9ebb-4320-b7a4-5de021df93e5",
   "metadata": {},
   "outputs": [
    {
     "data": {
      "text/html": [
       "<div>\n",
       "<style scoped>\n",
       "    .dataframe tbody tr th:only-of-type {\n",
       "        vertical-align: middle;\n",
       "    }\n",
       "\n",
       "    .dataframe tbody tr th {\n",
       "        vertical-align: top;\n",
       "    }\n",
       "\n",
       "    .dataframe thead th {\n",
       "        text-align: right;\n",
       "    }\n",
       "</style>\n",
       "<table border=\"1\" class=\"dataframe\">\n",
       "  <thead>\n",
       "    <tr style=\"text-align: right;\">\n",
       "      <th></th>\n",
       "      <th>name</th>\n",
       "      <th>service_date</th>\n",
       "      <th>route_long_name</th>\n",
       "      <th>trip_first_departure_datetime_pacific</th>\n",
       "      <th>service_hours</th>\n",
       "    </tr>\n",
       "  </thead>\n",
       "  <tbody>\n",
       "    <tr>\n",
       "      <th>0</th>\n",
       "      <td>VCTC GMV Schedule</td>\n",
       "      <td>2023-10-09</td>\n",
       "      <td>Route 11</td>\n",
       "      <td>2023-10-09 13:40:00</td>\n",
       "      <td>0.6</td>\n",
       "    </tr>\n",
       "    <tr>\n",
       "      <th>1</th>\n",
       "      <td>VCTC GMV Schedule</td>\n",
       "      <td>2023-10-09</td>\n",
       "      <td>Route 11</td>\n",
       "      <td>2023-10-09 12:40:00</td>\n",
       "      <td>0.6</td>\n",
       "    </tr>\n",
       "  </tbody>\n",
       "</table>\n",
       "</div>"
      ],
      "text/plain": [
       "                name service_date route_long_name  \\\n",
       "0  VCTC GMV Schedule   2023-10-09        Route 11   \n",
       "1  VCTC GMV Schedule   2023-10-09        Route 11   \n",
       "\n",
       "  trip_first_departure_datetime_pacific  service_hours  \n",
       "0                   2023-10-09 13:40:00            0.6  \n",
       "1                   2023-10-09 12:40:00            0.6  "
      ]
     },
     "execution_count": 50,
     "metadata": {},
     "output_type": "execute_result"
    }
   ],
   "source": [
    "oct_9_23_df = pd.read_parquet(\n",
    "    \"gs://calitp-analytics-data/data-analyses/rt_delay/compiled_cached_views/trips_2023-10-09.parquet\"\n",
    ")[columns]\n",
    "oct_9_23_df.head(2)"
   ]
  },
  {
   "cell_type": "code",
   "execution_count": 51,
   "id": "5c0ed55f-0b50-46be-85b3-5f4ca00ce487",
   "metadata": {},
   "outputs": [
    {
     "data": {
      "text/html": [
       "<div>\n",
       "<style scoped>\n",
       "    .dataframe tbody tr th:only-of-type {\n",
       "        vertical-align: middle;\n",
       "    }\n",
       "\n",
       "    .dataframe tbody tr th {\n",
       "        vertical-align: top;\n",
       "    }\n",
       "\n",
       "    .dataframe thead th {\n",
       "        text-align: right;\n",
       "    }\n",
       "</style>\n",
       "<table border=\"1\" class=\"dataframe\">\n",
       "  <thead>\n",
       "    <tr style=\"text-align: right;\">\n",
       "      <th></th>\n",
       "      <th>name</th>\n",
       "      <th>service_date</th>\n",
       "      <th>route_long_name</th>\n",
       "      <th>trip_first_departure_datetime_pacific</th>\n",
       "      <th>service_hours</th>\n",
       "    </tr>\n",
       "  </thead>\n",
       "  <tbody>\n",
       "    <tr>\n",
       "      <th>0</th>\n",
       "      <td>VCTC GMV Schedule</td>\n",
       "      <td>2023-10-10</td>\n",
       "      <td>Route 11</td>\n",
       "      <td>2023-10-10 18:35:00</td>\n",
       "      <td>0.55</td>\n",
       "    </tr>\n",
       "    <tr>\n",
       "      <th>1</th>\n",
       "      <td>VCTC GMV Schedule</td>\n",
       "      <td>2023-10-10</td>\n",
       "      <td>Route 11</td>\n",
       "      <td>2023-10-10 08:40:00</td>\n",
       "      <td>0.60</td>\n",
       "    </tr>\n",
       "  </tbody>\n",
       "</table>\n",
       "</div>"
      ],
      "text/plain": [
       "                name service_date route_long_name  \\\n",
       "0  VCTC GMV Schedule   2023-10-10        Route 11   \n",
       "1  VCTC GMV Schedule   2023-10-10        Route 11   \n",
       "\n",
       "  trip_first_departure_datetime_pacific  service_hours  \n",
       "0                   2023-10-10 18:35:00           0.55  \n",
       "1                   2023-10-10 08:40:00           0.60  "
      ]
     },
     "execution_count": 51,
     "metadata": {},
     "output_type": "execute_result"
    }
   ],
   "source": [
    "oct_10_23_df = pd.read_parquet(\n",
    "    \"gs://calitp-analytics-data/data-analyses/rt_delay/compiled_cached_views/trips_2023-10-10.parquet\"\n",
    ")[columns]\n",
    "oct_10_23_df.head(2)"
   ]
  },
  {
   "cell_type": "code",
   "execution_count": 52,
   "id": "0655845c-0cb8-4da7-ad6d-a7ee56071133",
   "metadata": {},
   "outputs": [
    {
     "data": {
      "text/html": [
       "<div>\n",
       "<style scoped>\n",
       "    .dataframe tbody tr th:only-of-type {\n",
       "        vertical-align: middle;\n",
       "    }\n",
       "\n",
       "    .dataframe tbody tr th {\n",
       "        vertical-align: top;\n",
       "    }\n",
       "\n",
       "    .dataframe thead th {\n",
       "        text-align: right;\n",
       "    }\n",
       "</style>\n",
       "<table border=\"1\" class=\"dataframe\">\n",
       "  <thead>\n",
       "    <tr style=\"text-align: right;\">\n",
       "      <th></th>\n",
       "      <th>name</th>\n",
       "      <th>service_date</th>\n",
       "      <th>route_long_name</th>\n",
       "      <th>trip_first_departure_datetime_pacific</th>\n",
       "      <th>service_hours</th>\n",
       "    </tr>\n",
       "  </thead>\n",
       "  <tbody>\n",
       "    <tr>\n",
       "      <th>0</th>\n",
       "      <td>VCTC GMV Schedule</td>\n",
       "      <td>2023-10-11</td>\n",
       "      <td>Route 11</td>\n",
       "      <td>2023-10-11 10:40:00</td>\n",
       "      <td>0.60</td>\n",
       "    </tr>\n",
       "    <tr>\n",
       "      <th>1</th>\n",
       "      <td>VCTC GMV Schedule</td>\n",
       "      <td>2023-10-11</td>\n",
       "      <td>Route 11</td>\n",
       "      <td>2023-10-11 17:40:00</td>\n",
       "      <td>0.55</td>\n",
       "    </tr>\n",
       "  </tbody>\n",
       "</table>\n",
       "</div>"
      ],
      "text/plain": [
       "                name service_date route_long_name  \\\n",
       "0  VCTC GMV Schedule   2023-10-11        Route 11   \n",
       "1  VCTC GMV Schedule   2023-10-11        Route 11   \n",
       "\n",
       "  trip_first_departure_datetime_pacific  service_hours  \n",
       "0                   2023-10-11 10:40:00           0.60  \n",
       "1                   2023-10-11 17:40:00           0.55  "
      ]
     },
     "execution_count": 52,
     "metadata": {},
     "output_type": "execute_result"
    }
   ],
   "source": [
    "oct_11_23_df = pd.read_parquet(\n",
    "    \"gs://calitp-analytics-data/data-analyses/rt_delay/compiled_cached_views/trips_2023-10-11.parquet\"\n",
    ")[columns]\n",
    "oct_11_23_df.head(2)"
   ]
  },
  {
   "cell_type": "code",
   "execution_count": 53,
   "id": "0bba3b60-c125-4347-bfc8-c4a18fbdd0ee",
   "metadata": {},
   "outputs": [
    {
     "data": {
      "text/html": [
       "<div>\n",
       "<style scoped>\n",
       "    .dataframe tbody tr th:only-of-type {\n",
       "        vertical-align: middle;\n",
       "    }\n",
       "\n",
       "    .dataframe tbody tr th {\n",
       "        vertical-align: top;\n",
       "    }\n",
       "\n",
       "    .dataframe thead th {\n",
       "        text-align: right;\n",
       "    }\n",
       "</style>\n",
       "<table border=\"1\" class=\"dataframe\">\n",
       "  <thead>\n",
       "    <tr style=\"text-align: right;\">\n",
       "      <th></th>\n",
       "      <th>name</th>\n",
       "      <th>service_date</th>\n",
       "      <th>route_long_name</th>\n",
       "      <th>trip_first_departure_datetime_pacific</th>\n",
       "      <th>service_hours</th>\n",
       "    </tr>\n",
       "  </thead>\n",
       "  <tbody>\n",
       "    <tr>\n",
       "      <th>0</th>\n",
       "      <td>VCTC GMV Schedule</td>\n",
       "      <td>2023-10-12</td>\n",
       "      <td>Route 11</td>\n",
       "      <td>2023-10-12 13:40:00</td>\n",
       "      <td>0.60</td>\n",
       "    </tr>\n",
       "    <tr>\n",
       "      <th>1</th>\n",
       "      <td>VCTC GMV Schedule</td>\n",
       "      <td>2023-10-12</td>\n",
       "      <td>Route 11</td>\n",
       "      <td>2023-10-12 18:05:00</td>\n",
       "      <td>0.55</td>\n",
       "    </tr>\n",
       "  </tbody>\n",
       "</table>\n",
       "</div>"
      ],
      "text/plain": [
       "                name service_date route_long_name  \\\n",
       "0  VCTC GMV Schedule   2023-10-12        Route 11   \n",
       "1  VCTC GMV Schedule   2023-10-12        Route 11   \n",
       "\n",
       "  trip_first_departure_datetime_pacific  service_hours  \n",
       "0                   2023-10-12 13:40:00           0.60  \n",
       "1                   2023-10-12 18:05:00           0.55  "
      ]
     },
     "execution_count": 53,
     "metadata": {},
     "output_type": "execute_result"
    }
   ],
   "source": [
    "oct_12_23_df = pd.read_parquet(\n",
    "    \"gs://calitp-analytics-data/data-analyses/rt_delay/compiled_cached_views/trips_2023-10-12.parquet\"\n",
    ")[columns]\n",
    "oct_12_23_df.head(2)"
   ]
  },
  {
   "cell_type": "code",
   "execution_count": 54,
   "id": "7d1a5146-0c86-4711-a280-31ecc09c321b",
   "metadata": {},
   "outputs": [
    {
     "data": {
      "text/html": [
       "<div>\n",
       "<style scoped>\n",
       "    .dataframe tbody tr th:only-of-type {\n",
       "        vertical-align: middle;\n",
       "    }\n",
       "\n",
       "    .dataframe tbody tr th {\n",
       "        vertical-align: top;\n",
       "    }\n",
       "\n",
       "    .dataframe thead th {\n",
       "        text-align: right;\n",
       "    }\n",
       "</style>\n",
       "<table border=\"1\" class=\"dataframe\">\n",
       "  <thead>\n",
       "    <tr style=\"text-align: right;\">\n",
       "      <th></th>\n",
       "      <th>name</th>\n",
       "      <th>service_date</th>\n",
       "      <th>route_long_name</th>\n",
       "      <th>trip_first_departure_datetime_pacific</th>\n",
       "      <th>service_hours</th>\n",
       "    </tr>\n",
       "  </thead>\n",
       "  <tbody>\n",
       "    <tr>\n",
       "      <th>0</th>\n",
       "      <td>VCTC GMV Schedule</td>\n",
       "      <td>2023-10-13</td>\n",
       "      <td>Route 11</td>\n",
       "      <td>2023-10-13 15:40:00</td>\n",
       "      <td>0.60</td>\n",
       "    </tr>\n",
       "    <tr>\n",
       "      <th>1</th>\n",
       "      <td>VCTC GMV Schedule</td>\n",
       "      <td>2023-10-13</td>\n",
       "      <td>Route 11</td>\n",
       "      <td>2023-10-13 18:05:00</td>\n",
       "      <td>0.55</td>\n",
       "    </tr>\n",
       "  </tbody>\n",
       "</table>\n",
       "</div>"
      ],
      "text/plain": [
       "                name service_date route_long_name  \\\n",
       "0  VCTC GMV Schedule   2023-10-13        Route 11   \n",
       "1  VCTC GMV Schedule   2023-10-13        Route 11   \n",
       "\n",
       "  trip_first_departure_datetime_pacific  service_hours  \n",
       "0                   2023-10-13 15:40:00           0.60  \n",
       "1                   2023-10-13 18:05:00           0.55  "
      ]
     },
     "execution_count": 54,
     "metadata": {},
     "output_type": "execute_result"
    }
   ],
   "source": [
    "oct_13_23_df = pd.read_parquet(\n",
    "    \"gs://calitp-analytics-data/data-analyses/rt_delay/compiled_cached_views/trips_2023-10-13.parquet\"\n",
    ")[columns]\n",
    "oct_13_23_df.head(2)"
   ]
  },
  {
   "cell_type": "code",
   "execution_count": 48,
   "id": "af9ad69d-0ae1-488b-b4d4-c00f15aee54a",
   "metadata": {},
   "outputs": [],
   "source": [
    "oct_14_23_df = pd.read_parquet(\n",
    "    \"gs://calitp-analytics-data/data-analyses/rt_delay/compiled_cached_views/trips_2023-10-14.parquet\"\n",
    ")[columns]"
   ]
  },
  {
   "cell_type": "code",
   "execution_count": 45,
   "id": "96860c8e-28c1-4e44-96da-01afff47da46",
   "metadata": {},
   "outputs": [
    {
     "data": {
      "text/html": [
       "<div>\n",
       "<style scoped>\n",
       "    .dataframe tbody tr th:only-of-type {\n",
       "        vertical-align: middle;\n",
       "    }\n",
       "\n",
       "    .dataframe tbody tr th {\n",
       "        vertical-align: top;\n",
       "    }\n",
       "\n",
       "    .dataframe thead th {\n",
       "        text-align: right;\n",
       "    }\n",
       "</style>\n",
       "<table border=\"1\" class=\"dataframe\">\n",
       "  <thead>\n",
       "    <tr style=\"text-align: right;\">\n",
       "      <th></th>\n",
       "      <th>name</th>\n",
       "      <th>service_date</th>\n",
       "      <th>route_long_name</th>\n",
       "      <th>trip_first_departure_datetime_pacific</th>\n",
       "      <th>service_hours</th>\n",
       "    </tr>\n",
       "  </thead>\n",
       "  <tbody>\n",
       "    <tr>\n",
       "      <th>0</th>\n",
       "      <td>VCTC GMV Schedule</td>\n",
       "      <td>2023-10-14</td>\n",
       "      <td>Route 11</td>\n",
       "      <td>2023-10-14 10:50:00</td>\n",
       "      <td>0.616667</td>\n",
       "    </tr>\n",
       "    <tr>\n",
       "      <th>1</th>\n",
       "      <td>VCTC GMV Schedule</td>\n",
       "      <td>2023-10-14</td>\n",
       "      <td>Route 11</td>\n",
       "      <td>2023-10-14 08:00:00</td>\n",
       "      <td>0.583333</td>\n",
       "    </tr>\n",
       "  </tbody>\n",
       "</table>\n",
       "</div>"
      ],
      "text/plain": [
       "                name service_date route_long_name  \\\n",
       "0  VCTC GMV Schedule   2023-10-14        Route 11   \n",
       "1  VCTC GMV Schedule   2023-10-14        Route 11   \n",
       "\n",
       "  trip_first_departure_datetime_pacific  service_hours  \n",
       "0                   2023-10-14 10:50:00       0.616667  \n",
       "1                   2023-10-14 08:00:00       0.583333  "
      ]
     },
     "execution_count": 45,
     "metadata": {},
     "output_type": "execute_result"
    }
   ],
   "source": [
    "oct_14_23_df.head(2)"
   ]
  },
  {
   "cell_type": "code",
   "execution_count": 55,
   "id": "0c765e1d-5f49-47dd-81eb-a03b6d3b2d14",
   "metadata": {},
   "outputs": [
    {
     "data": {
      "text/html": [
       "<div>\n",
       "<style scoped>\n",
       "    .dataframe tbody tr th:only-of-type {\n",
       "        vertical-align: middle;\n",
       "    }\n",
       "\n",
       "    .dataframe tbody tr th {\n",
       "        vertical-align: top;\n",
       "    }\n",
       "\n",
       "    .dataframe thead th {\n",
       "        text-align: right;\n",
       "    }\n",
       "</style>\n",
       "<table border=\"1\" class=\"dataframe\">\n",
       "  <thead>\n",
       "    <tr style=\"text-align: right;\">\n",
       "      <th></th>\n",
       "      <th>name</th>\n",
       "      <th>service_date</th>\n",
       "      <th>route_long_name</th>\n",
       "      <th>trip_first_departure_datetime_pacific</th>\n",
       "      <th>service_hours</th>\n",
       "    </tr>\n",
       "  </thead>\n",
       "  <tbody>\n",
       "    <tr>\n",
       "      <th>0</th>\n",
       "      <td>VCTC GMV Schedule</td>\n",
       "      <td>2023-10-15</td>\n",
       "      <td>Route 11</td>\n",
       "      <td>2023-10-15 12:20:00</td>\n",
       "      <td>0.566667</td>\n",
       "    </tr>\n",
       "    <tr>\n",
       "      <th>1</th>\n",
       "      <td>VCTC GMV Schedule</td>\n",
       "      <td>2023-10-15</td>\n",
       "      <td>Route 11</td>\n",
       "      <td>2023-10-15 19:25:00</td>\n",
       "      <td>0.550000</td>\n",
       "    </tr>\n",
       "  </tbody>\n",
       "</table>\n",
       "</div>"
      ],
      "text/plain": [
       "                name service_date route_long_name  \\\n",
       "0  VCTC GMV Schedule   2023-10-15        Route 11   \n",
       "1  VCTC GMV Schedule   2023-10-15        Route 11   \n",
       "\n",
       "  trip_first_departure_datetime_pacific  service_hours  \n",
       "0                   2023-10-15 12:20:00       0.566667  \n",
       "1                   2023-10-15 19:25:00       0.550000  "
      ]
     },
     "execution_count": 55,
     "metadata": {},
     "output_type": "execute_result"
    }
   ],
   "source": [
    "oct_15_23_df = pd.read_parquet(\n",
    "    \"gs://calitp-analytics-data/data-analyses/rt_delay/compiled_cached_views/trips_2023-10-15.parquet\"\n",
    ")[columns]\n",
    "oct_15_23_df.head(2)"
   ]
  },
  {
   "cell_type": "code",
   "execution_count": 46,
   "id": "725e8615-7cc3-4e1f-b06b-0bb4999cd539",
   "metadata": {},
   "outputs": [
    {
     "data": {
      "text/plain": [
       "\u001b[0;31mSignature:\u001b[0m\n",
       "\u001b[0mtime_series_utils\u001b[0m\u001b[0;34m.\u001b[0m\u001b[0mconcatenate_datasets_across_dates\u001b[0m\u001b[0;34m(\u001b[0m\u001b[0;34m\u001b[0m\n",
       "\u001b[0;34m\u001b[0m    \u001b[0mgcs_bucket\u001b[0m\u001b[0;34m:\u001b[0m \u001b[0mstr\u001b[0m\u001b[0;34m,\u001b[0m\u001b[0;34m\u001b[0m\n",
       "\u001b[0;34m\u001b[0m    \u001b[0mdataset_name\u001b[0m\u001b[0;34m:\u001b[0m \u001b[0mLiteral\u001b[0m\u001b[0;34m[\u001b[0m\u001b[0;34m'speeds_route_dir_segments'\u001b[0m\u001b[0;34m,\u001b[0m \u001b[0;34m'speeds_route_dir'\u001b[0m\u001b[0;34m]\u001b[0m\u001b[0;34m,\u001b[0m\u001b[0;34m\u001b[0m\n",
       "\u001b[0;34m\u001b[0m    \u001b[0mdate_list\u001b[0m\u001b[0;34m:\u001b[0m \u001b[0mlist\u001b[0m\u001b[0;34m,\u001b[0m\u001b[0;34m\u001b[0m\n",
       "\u001b[0;34m\u001b[0m    \u001b[0mdata_type\u001b[0m\u001b[0;34m:\u001b[0m \u001b[0mLiteral\u001b[0m\u001b[0;34m[\u001b[0m\u001b[0;34m'df'\u001b[0m\u001b[0;34m,\u001b[0m \u001b[0;34m'gdf'\u001b[0m\u001b[0;34m]\u001b[0m \u001b[0;34m=\u001b[0m \u001b[0;34m'gdf'\u001b[0m\u001b[0;34m,\u001b[0m\u001b[0;34m\u001b[0m\n",
       "\u001b[0;34m\u001b[0m    \u001b[0mget_pandas\u001b[0m\u001b[0;34m:\u001b[0m \u001b[0mbool\u001b[0m \u001b[0;34m=\u001b[0m \u001b[0;32mTrue\u001b[0m\u001b[0;34m,\u001b[0m\u001b[0;34m\u001b[0m\n",
       "\u001b[0;34m\u001b[0m    \u001b[0;34m**\u001b[0m\u001b[0mkwargs\u001b[0m\u001b[0;34m,\u001b[0m\u001b[0;34m\u001b[0m\n",
       "\u001b[0;34m\u001b[0m\u001b[0;34m)\u001b[0m \u001b[0;34m->\u001b[0m \u001b[0mpandas\u001b[0m\u001b[0;34m.\u001b[0m\u001b[0mcore\u001b[0m\u001b[0;34m.\u001b[0m\u001b[0mframe\u001b[0m\u001b[0;34m.\u001b[0m\u001b[0mDataFrame\u001b[0m\u001b[0;34m\u001b[0m\u001b[0;34m\u001b[0m\u001b[0m\n",
       "\u001b[0;31mSource:\u001b[0m   \n",
       "\u001b[0;32mdef\u001b[0m \u001b[0mconcatenate_datasets_across_dates\u001b[0m\u001b[0;34m(\u001b[0m\u001b[0;34m\u001b[0m\n",
       "\u001b[0;34m\u001b[0m    \u001b[0mgcs_bucket\u001b[0m\u001b[0;34m:\u001b[0m \u001b[0mstr\u001b[0m\u001b[0;34m,\u001b[0m\u001b[0;34m\u001b[0m\n",
       "\u001b[0;34m\u001b[0m    \u001b[0mdataset_name\u001b[0m\u001b[0;34m:\u001b[0m \u001b[0mLiteral\u001b[0m\u001b[0;34m[\u001b[0m\u001b[0;34m\"speeds_route_dir_segments\"\u001b[0m\u001b[0;34m,\u001b[0m \u001b[0;34m\"speeds_route_dir\"\u001b[0m\u001b[0;34m]\u001b[0m\u001b[0;34m,\u001b[0m\u001b[0;34m\u001b[0m\n",
       "\u001b[0;34m\u001b[0m    \u001b[0mdate_list\u001b[0m\u001b[0;34m:\u001b[0m \u001b[0mlist\u001b[0m\u001b[0;34m,\u001b[0m\u001b[0;34m\u001b[0m\n",
       "\u001b[0;34m\u001b[0m    \u001b[0mdata_type\u001b[0m\u001b[0;34m:\u001b[0m \u001b[0mLiteral\u001b[0m\u001b[0;34m[\u001b[0m\u001b[0;34m\"df\"\u001b[0m\u001b[0;34m,\u001b[0m \u001b[0;34m\"gdf\"\u001b[0m\u001b[0;34m]\u001b[0m \u001b[0;34m=\u001b[0m \u001b[0;34m\"gdf\"\u001b[0m\u001b[0;34m,\u001b[0m\u001b[0;34m\u001b[0m\n",
       "\u001b[0;34m\u001b[0m    \u001b[0mget_pandas\u001b[0m\u001b[0;34m:\u001b[0m \u001b[0mbool\u001b[0m \u001b[0;34m=\u001b[0m \u001b[0;32mTrue\u001b[0m\u001b[0;34m,\u001b[0m\u001b[0;34m\u001b[0m\n",
       "\u001b[0;34m\u001b[0m    \u001b[0;34m**\u001b[0m\u001b[0mkwargs\u001b[0m\u001b[0;34m\u001b[0m\n",
       "\u001b[0;34m\u001b[0m\u001b[0;34m)\u001b[0m \u001b[0;34m->\u001b[0m \u001b[0mpd\u001b[0m\u001b[0;34m.\u001b[0m\u001b[0mDataFrame\u001b[0m\u001b[0;34m:\u001b[0m\u001b[0;34m\u001b[0m\n",
       "\u001b[0;34m\u001b[0m    \u001b[0;34m\"\"\"\u001b[0m\n",
       "\u001b[0;34m    Concatenate parquets across all months of available data.\u001b[0m\n",
       "\u001b[0;34m    \"\"\"\u001b[0m  \u001b[0;34m\u001b[0m\n",
       "\u001b[0;34m\u001b[0m    \u001b[0;32mif\u001b[0m \u001b[0mdata_type\u001b[0m \u001b[0;34m==\u001b[0m \u001b[0;34m\"gdf\"\u001b[0m\u001b[0;34m:\u001b[0m\u001b[0;34m\u001b[0m\n",
       "\u001b[0;34m\u001b[0m        \u001b[0mdfs\u001b[0m \u001b[0;34m=\u001b[0m \u001b[0;34m[\u001b[0m\u001b[0;34m\u001b[0m\n",
       "\u001b[0;34m\u001b[0m            \u001b[0mdelayed\u001b[0m\u001b[0;34m(\u001b[0m\u001b[0mgpd\u001b[0m\u001b[0;34m.\u001b[0m\u001b[0mread_parquet\u001b[0m\u001b[0;34m)\u001b[0m\u001b[0;34m(\u001b[0m\u001b[0;34m\u001b[0m\n",
       "\u001b[0;34m\u001b[0m                \u001b[0;34mf\"{gcs_bucket}{dataset_name}_{d}.parquet\"\u001b[0m\u001b[0;34m,\u001b[0m\u001b[0;34m\u001b[0m\n",
       "\u001b[0;34m\u001b[0m                \u001b[0;34m**\u001b[0m\u001b[0mkwargs\u001b[0m\u001b[0;34m\u001b[0m\n",
       "\u001b[0;34m\u001b[0m            \u001b[0;34m)\u001b[0m\u001b[0;34m.\u001b[0m\u001b[0massign\u001b[0m\u001b[0;34m(\u001b[0m\u001b[0;34m\u001b[0m\n",
       "\u001b[0;34m\u001b[0m                \u001b[0mservice_date\u001b[0m \u001b[0;34m=\u001b[0m \u001b[0mpd\u001b[0m\u001b[0;34m.\u001b[0m\u001b[0mto_datetime\u001b[0m\u001b[0;34m(\u001b[0m\u001b[0md\u001b[0m\u001b[0;34m)\u001b[0m\u001b[0;34m\u001b[0m\n",
       "\u001b[0;34m\u001b[0m            \u001b[0;34m)\u001b[0m \u001b[0;32mfor\u001b[0m \u001b[0md\u001b[0m \u001b[0;32min\u001b[0m \u001b[0mdate_list\u001b[0m\u001b[0;34m\u001b[0m\n",
       "\u001b[0;34m\u001b[0m        \u001b[0;34m]\u001b[0m\u001b[0;34m\u001b[0m\n",
       "\u001b[0;34m\u001b[0m    \u001b[0;32melse\u001b[0m\u001b[0;34m:\u001b[0m\u001b[0;34m\u001b[0m\n",
       "\u001b[0;34m\u001b[0m        \u001b[0mdfs\u001b[0m \u001b[0;34m=\u001b[0m \u001b[0;34m[\u001b[0m\u001b[0;34m\u001b[0m\n",
       "\u001b[0;34m\u001b[0m            \u001b[0mdelayed\u001b[0m\u001b[0;34m(\u001b[0m\u001b[0mpd\u001b[0m\u001b[0;34m.\u001b[0m\u001b[0mread_parquet\u001b[0m\u001b[0;34m)\u001b[0m\u001b[0;34m(\u001b[0m\u001b[0;34m\u001b[0m\n",
       "\u001b[0;34m\u001b[0m                \u001b[0;34mf\"{gcs_bucket}{dataset_name}_{d}.parquet\"\u001b[0m\u001b[0;34m,\u001b[0m\u001b[0;34m\u001b[0m\n",
       "\u001b[0;34m\u001b[0m                \u001b[0;34m**\u001b[0m\u001b[0mkwargs\u001b[0m\u001b[0;34m\u001b[0m\n",
       "\u001b[0;34m\u001b[0m            \u001b[0;34m)\u001b[0m\u001b[0;34m.\u001b[0m\u001b[0massign\u001b[0m\u001b[0;34m(\u001b[0m\u001b[0;34m\u001b[0m\n",
       "\u001b[0;34m\u001b[0m                \u001b[0mservice_date\u001b[0m \u001b[0;34m=\u001b[0m \u001b[0mpd\u001b[0m\u001b[0;34m.\u001b[0m\u001b[0mto_datetime\u001b[0m\u001b[0;34m(\u001b[0m\u001b[0md\u001b[0m\u001b[0;34m)\u001b[0m\u001b[0;34m\u001b[0m\n",
       "\u001b[0;34m\u001b[0m            \u001b[0;34m)\u001b[0m \u001b[0;32mfor\u001b[0m \u001b[0md\u001b[0m \u001b[0;32min\u001b[0m \u001b[0mdate_list\u001b[0m\u001b[0;34m\u001b[0m\n",
       "\u001b[0;34m\u001b[0m        \u001b[0;34m]\u001b[0m\u001b[0;34m\u001b[0m\n",
       "\u001b[0;34m\u001b[0m    \u001b[0;34m\u001b[0m\n",
       "\u001b[0;34m\u001b[0m    \u001b[0mdf\u001b[0m \u001b[0;34m=\u001b[0m \u001b[0mdelayed\u001b[0m\u001b[0;34m(\u001b[0m\u001b[0mpd\u001b[0m\u001b[0;34m.\u001b[0m\u001b[0mconcat\u001b[0m\u001b[0;34m)\u001b[0m\u001b[0;34m(\u001b[0m\u001b[0;34m\u001b[0m\n",
       "\u001b[0;34m\u001b[0m        \u001b[0mdfs\u001b[0m\u001b[0;34m,\u001b[0m \u001b[0maxis\u001b[0m\u001b[0;34m=\u001b[0m\u001b[0;36m0\u001b[0m\u001b[0;34m,\u001b[0m \u001b[0mignore_index\u001b[0m\u001b[0;34m=\u001b[0m\u001b[0;32mTrue\u001b[0m\u001b[0;34m\u001b[0m\n",
       "\u001b[0;34m\u001b[0m    \u001b[0;34m)\u001b[0m \u001b[0;34m\u001b[0m\n",
       "\u001b[0;34m\u001b[0m    \u001b[0;34m\u001b[0m\n",
       "\u001b[0;34m\u001b[0m    \u001b[0;32mif\u001b[0m \u001b[0mget_pandas\u001b[0m\u001b[0;34m:\u001b[0m\u001b[0;34m\u001b[0m\n",
       "\u001b[0;34m\u001b[0m        \u001b[0mdf\u001b[0m \u001b[0;34m=\u001b[0m \u001b[0mcompute\u001b[0m\u001b[0;34m(\u001b[0m\u001b[0mdf\u001b[0m\u001b[0;34m)\u001b[0m\u001b[0;34m[\u001b[0m\u001b[0;36m0\u001b[0m\u001b[0;34m]\u001b[0m    \u001b[0;34m\u001b[0m\n",
       "\u001b[0;34m\u001b[0m    \u001b[0;34m\u001b[0m\n",
       "\u001b[0;34m\u001b[0m    \u001b[0;32mreturn\u001b[0m \u001b[0mdf\u001b[0m\u001b[0;34m\u001b[0m\u001b[0;34m\u001b[0m\u001b[0m\n",
       "\u001b[0;31mFile:\u001b[0m      ~/data-analyses/rt_segment_speeds/segment_speed_utils/time_series_utils.py\n",
       "\u001b[0;31mType:\u001b[0m      function"
      ]
     },
     "metadata": {},
     "output_type": "display_data"
    }
   ],
   "source": [
    " time_series_utils.concatenate_datasets_across_dates??"
   ]
  },
  {
   "cell_type": "code",
   "execution_count": 40,
   "id": "8a778836-6d66-4fce-8a47-f6afd594e90d",
   "metadata": {},
   "outputs": [
    {
     "ename": "ValueError",
     "evalue": "all the input array dimensions for the concatenation axis must match exactly, but along dimension 1, the array at index 0 has size 98412 and the array at index 1 has size 101767",
     "output_type": "error",
     "traceback": [
      "\u001b[0;31m---------------------------------------------------------------------------\u001b[0m",
      "\u001b[0;31mValueError\u001b[0m                                Traceback (most recent call last)",
      "Cell \u001b[0;32mIn[40], line 2\u001b[0m\n\u001b[1;32m      1\u001b[0m oct_23_df \u001b[38;5;241m=\u001b[39m (\n\u001b[0;32m----> 2\u001b[0m         \u001b[43mtime_series_utils\u001b[49m\u001b[38;5;241;43m.\u001b[39;49m\u001b[43mconcatenate_datasets_across_dates\u001b[49m\u001b[43m(\u001b[49m\n\u001b[1;32m      3\u001b[0m \u001b[43m            \u001b[49m\u001b[43mCOMPILED_CACHED_VIEWS\u001b[49m\u001b[43m,\u001b[49m\n\u001b[1;32m      4\u001b[0m \u001b[43m            \u001b[49m\u001b[43mFILE\u001b[49m\u001b[43m,\u001b[49m\n\u001b[1;32m      5\u001b[0m \u001b[43m            \u001b[49m\u001b[43moct_23\u001b[49m\u001b[43m,\u001b[49m\n\u001b[1;32m      6\u001b[0m \u001b[43m            \u001b[49m\u001b[43mdata_type\u001b[49m\u001b[38;5;241;43m=\u001b[39;49m\u001b[38;5;124;43m\"\u001b[39;49m\u001b[38;5;124;43mdf\u001b[39;49m\u001b[38;5;124;43m\"\u001b[39;49m\u001b[43m,\u001b[49m\n\u001b[1;32m      7\u001b[0m \u001b[43m            \u001b[49m\u001b[43mcolumns\u001b[49m\u001b[38;5;241;43m=\u001b[39;49m\u001b[43m[\u001b[49m\n\u001b[1;32m      8\u001b[0m \u001b[43m                \u001b[49m\u001b[38;5;124;43m\"\u001b[39;49m\u001b[38;5;124;43mname\u001b[39;49m\u001b[38;5;124;43m\"\u001b[39;49m\u001b[43m,\u001b[49m\n\u001b[1;32m      9\u001b[0m \u001b[43m                \u001b[49m\u001b[38;5;124;43m\"\u001b[39;49m\u001b[38;5;124;43mservice_date\u001b[39;49m\u001b[38;5;124;43m\"\u001b[39;49m\u001b[43m,\u001b[49m\n\u001b[1;32m     10\u001b[0m \u001b[43m                \u001b[49m\u001b[38;5;124;43m\"\u001b[39;49m\u001b[38;5;124;43mroute_long_name\u001b[39;49m\u001b[38;5;124;43m\"\u001b[39;49m\u001b[43m,\u001b[49m\n\u001b[1;32m     11\u001b[0m \u001b[43m                \u001b[49m\u001b[38;5;124;43m\"\u001b[39;49m\u001b[38;5;124;43mtrip_first_departure_datetime_pacific\u001b[39;49m\u001b[38;5;124;43m\"\u001b[39;49m\u001b[43m,\u001b[49m\n\u001b[1;32m     12\u001b[0m \u001b[43m                \u001b[49m\u001b[38;5;124;43m\"\u001b[39;49m\u001b[38;5;124;43mservice_hours\u001b[39;49m\u001b[38;5;124;43m\"\u001b[39;49m\u001b[43m,\u001b[49m\n\u001b[1;32m     13\u001b[0m \u001b[43m            \u001b[49m\u001b[43m]\u001b[49m\u001b[43m,\u001b[49m\n\u001b[1;32m     14\u001b[0m \u001b[43m        \u001b[49m\u001b[43m)\u001b[49m\n\u001b[1;32m     15\u001b[0m         \u001b[38;5;241m.\u001b[39msort_values([\u001b[38;5;124m\"\u001b[39m\u001b[38;5;124mservice_date\u001b[39m\u001b[38;5;124m\"\u001b[39m])\n\u001b[1;32m     16\u001b[0m         \u001b[38;5;241m.\u001b[39mreset_index(drop\u001b[38;5;241m=\u001b[39m\u001b[38;5;28;01mTrue\u001b[39;00m)\n\u001b[1;32m     17\u001b[0m     )\n",
      "File \u001b[0;32m~/data-analyses/rt_segment_speeds/segment_speed_utils/time_series_utils.py:61\u001b[0m, in \u001b[0;36mconcatenate_datasets_across_dates\u001b[0;34m(gcs_bucket, dataset_name, date_list, data_type, get_pandas, **kwargs)\u001b[0m\n\u001b[1;32m     56\u001b[0m df \u001b[38;5;241m=\u001b[39m delayed(pd\u001b[38;5;241m.\u001b[39mconcat)(\n\u001b[1;32m     57\u001b[0m     dfs, axis\u001b[38;5;241m=\u001b[39m\u001b[38;5;241m0\u001b[39m, ignore_index\u001b[38;5;241m=\u001b[39m\u001b[38;5;28;01mTrue\u001b[39;00m\n\u001b[1;32m     58\u001b[0m ) \n\u001b[1;32m     60\u001b[0m \u001b[38;5;28;01mif\u001b[39;00m get_pandas:\n\u001b[0;32m---> 61\u001b[0m     df \u001b[38;5;241m=\u001b[39m \u001b[43mcompute\u001b[49m\u001b[43m(\u001b[49m\u001b[43mdf\u001b[49m\u001b[43m)\u001b[49m[\u001b[38;5;241m0\u001b[39m]    \n\u001b[1;32m     63\u001b[0m \u001b[38;5;28;01mreturn\u001b[39;00m df\n",
      "File \u001b[0;32m/opt/conda/lib/python3.9/site-packages/dask/base.py:662\u001b[0m, in \u001b[0;36mcompute\u001b[0;34m(traverse, optimize_graph, scheduler, get, *args, **kwargs)\u001b[0m\n\u001b[1;32m    659\u001b[0m     postcomputes\u001b[38;5;241m.\u001b[39mappend(x\u001b[38;5;241m.\u001b[39m__dask_postcompute__())\n\u001b[1;32m    661\u001b[0m \u001b[38;5;28;01mwith\u001b[39;00m shorten_traceback():\n\u001b[0;32m--> 662\u001b[0m     results \u001b[38;5;241m=\u001b[39m \u001b[43mschedule\u001b[49m\u001b[43m(\u001b[49m\u001b[43mdsk\u001b[49m\u001b[43m,\u001b[49m\u001b[43m \u001b[49m\u001b[43mkeys\u001b[49m\u001b[43m,\u001b[49m\u001b[43m \u001b[49m\u001b[38;5;241;43m*\u001b[39;49m\u001b[38;5;241;43m*\u001b[39;49m\u001b[43mkwargs\u001b[49m\u001b[43m)\u001b[49m\n\u001b[1;32m    664\u001b[0m \u001b[38;5;28;01mreturn\u001b[39;00m repack([f(r, \u001b[38;5;241m*\u001b[39ma) \u001b[38;5;28;01mfor\u001b[39;00m r, (f, a) \u001b[38;5;129;01min\u001b[39;00m \u001b[38;5;28mzip\u001b[39m(results, postcomputes)])\n",
      "File \u001b[0;32marrays.pyx:190\u001b[0m, in \u001b[0;36mpandas._libs.arrays.NDArrayBacked._concat_same_type\u001b[0;34m()\u001b[0m\n",
      "\u001b[0;31mValueError\u001b[0m: all the input array dimensions for the concatenation axis must match exactly, but along dimension 1, the array at index 0 has size 98412 and the array at index 1 has size 101767"
     ]
    }
   ],
   "source": [
    "oct_23_df = (\n",
    "    time_series_utils.concatenate_datasets_across_dates(\n",
    "        COMPILED_CACHED_VIEWS,\n",
    "        FILE,\n",
    "        oct_23,\n",
    "        data_type=\"df\",\n",
    "        columns=[\n",
    "            \"name\",\n",
    "            \"service_date\",\n",
    "            \"route_long_name\",\n",
    "            \"trip_first_departure_datetime_pacific\",\n",
    "            \"service_hours\",\n",
    "        ],\n",
    "    )\n",
    "    .sort_values([\"service_date\"])\n",
    "    .reset_index(drop=True)\n",
    ")"
   ]
  },
  {
   "cell_type": "code",
   "execution_count": 39,
   "id": "a516f777-ffbb-4845-b42d-8837a7ef34f5",
   "metadata": {},
   "outputs": [
    {
     "ename": "ValueError",
     "evalue": "all the input array dimensions for the concatenation axis must match exactly, but along dimension 1, the array at index 0 has size 109006 and the array at index 1 has size 108213",
     "output_type": "error",
     "traceback": [
      "\u001b[0;31m---------------------------------------------------------------------------\u001b[0m",
      "\u001b[0;31mValueError\u001b[0m                                Traceback (most recent call last)",
      "Cell \u001b[0;32mIn[39], line 2\u001b[0m\n\u001b[1;32m      1\u001b[0m apr_23_df \u001b[38;5;241m=\u001b[39m (\n\u001b[0;32m----> 2\u001b[0m         \u001b[43mtime_series_utils\u001b[49m\u001b[38;5;241;43m.\u001b[39;49m\u001b[43mconcatenate_datasets_across_dates\u001b[49m\u001b[43m(\u001b[49m\n\u001b[1;32m      3\u001b[0m \u001b[43m            \u001b[49m\u001b[43mCOMPILED_CACHED_VIEWS\u001b[49m\u001b[43m,\u001b[49m\n\u001b[1;32m      4\u001b[0m \u001b[43m            \u001b[49m\u001b[43mFILE\u001b[49m\u001b[43m,\u001b[49m\n\u001b[1;32m      5\u001b[0m \u001b[43m            \u001b[49m\u001b[43mapr_23\u001b[49m\u001b[43m,\u001b[49m\n\u001b[1;32m      6\u001b[0m \u001b[43m            \u001b[49m\u001b[43mdata_type\u001b[49m\u001b[38;5;241;43m=\u001b[39;49m\u001b[38;5;124;43m\"\u001b[39;49m\u001b[38;5;124;43mdf\u001b[39;49m\u001b[38;5;124;43m\"\u001b[39;49m\u001b[43m,\u001b[49m\n\u001b[1;32m      7\u001b[0m \u001b[43m            \u001b[49m\u001b[43mcolumns\u001b[49m\u001b[38;5;241;43m=\u001b[39;49m\u001b[43m[\u001b[49m\n\u001b[1;32m      8\u001b[0m \u001b[43m                \u001b[49m\u001b[38;5;124;43m\"\u001b[39;49m\u001b[38;5;124;43mname\u001b[39;49m\u001b[38;5;124;43m\"\u001b[39;49m\u001b[43m,\u001b[49m\n\u001b[1;32m      9\u001b[0m \u001b[43m                \u001b[49m\u001b[38;5;124;43m\"\u001b[39;49m\u001b[38;5;124;43mservice_date\u001b[39;49m\u001b[38;5;124;43m\"\u001b[39;49m\u001b[43m,\u001b[49m\n\u001b[1;32m     10\u001b[0m \u001b[43m                \u001b[49m\u001b[38;5;124;43m\"\u001b[39;49m\u001b[38;5;124;43mroute_long_name\u001b[39;49m\u001b[38;5;124;43m\"\u001b[39;49m\u001b[43m,\u001b[49m\n\u001b[1;32m     11\u001b[0m \u001b[43m                \u001b[49m\u001b[38;5;124;43m\"\u001b[39;49m\u001b[38;5;124;43mtrip_first_departure_datetime_pacific\u001b[39;49m\u001b[38;5;124;43m\"\u001b[39;49m\u001b[43m,\u001b[49m\n\u001b[1;32m     12\u001b[0m \u001b[43m                \u001b[49m\u001b[38;5;124;43m\"\u001b[39;49m\u001b[38;5;124;43mservice_hours\u001b[39;49m\u001b[38;5;124;43m\"\u001b[39;49m\u001b[43m,\u001b[49m\n\u001b[1;32m     13\u001b[0m \u001b[43m            \u001b[49m\u001b[43m]\u001b[49m\u001b[43m,\u001b[49m\n\u001b[1;32m     14\u001b[0m \u001b[43m        \u001b[49m\u001b[43m)\u001b[49m\n\u001b[1;32m     15\u001b[0m         \u001b[38;5;241m.\u001b[39msort_values([\u001b[38;5;124m\"\u001b[39m\u001b[38;5;124mservice_date\u001b[39m\u001b[38;5;124m\"\u001b[39m])\n\u001b[1;32m     16\u001b[0m         \u001b[38;5;241m.\u001b[39mreset_index(drop\u001b[38;5;241m=\u001b[39m\u001b[38;5;28;01mTrue\u001b[39;00m)\n\u001b[1;32m     17\u001b[0m     )\n",
      "File \u001b[0;32m~/data-analyses/rt_segment_speeds/segment_speed_utils/time_series_utils.py:61\u001b[0m, in \u001b[0;36mconcatenate_datasets_across_dates\u001b[0;34m(gcs_bucket, dataset_name, date_list, data_type, get_pandas, **kwargs)\u001b[0m\n\u001b[1;32m     56\u001b[0m df \u001b[38;5;241m=\u001b[39m delayed(pd\u001b[38;5;241m.\u001b[39mconcat)(\n\u001b[1;32m     57\u001b[0m     dfs, axis\u001b[38;5;241m=\u001b[39m\u001b[38;5;241m0\u001b[39m, ignore_index\u001b[38;5;241m=\u001b[39m\u001b[38;5;28;01mTrue\u001b[39;00m\n\u001b[1;32m     58\u001b[0m ) \n\u001b[1;32m     60\u001b[0m \u001b[38;5;28;01mif\u001b[39;00m get_pandas:\n\u001b[0;32m---> 61\u001b[0m     df \u001b[38;5;241m=\u001b[39m \u001b[43mcompute\u001b[49m\u001b[43m(\u001b[49m\u001b[43mdf\u001b[49m\u001b[43m)\u001b[49m[\u001b[38;5;241m0\u001b[39m]    \n\u001b[1;32m     63\u001b[0m \u001b[38;5;28;01mreturn\u001b[39;00m df\n",
      "File \u001b[0;32m/opt/conda/lib/python3.9/site-packages/dask/base.py:662\u001b[0m, in \u001b[0;36mcompute\u001b[0;34m(traverse, optimize_graph, scheduler, get, *args, **kwargs)\u001b[0m\n\u001b[1;32m    659\u001b[0m     postcomputes\u001b[38;5;241m.\u001b[39mappend(x\u001b[38;5;241m.\u001b[39m__dask_postcompute__())\n\u001b[1;32m    661\u001b[0m \u001b[38;5;28;01mwith\u001b[39;00m shorten_traceback():\n\u001b[0;32m--> 662\u001b[0m     results \u001b[38;5;241m=\u001b[39m \u001b[43mschedule\u001b[49m\u001b[43m(\u001b[49m\u001b[43mdsk\u001b[49m\u001b[43m,\u001b[49m\u001b[43m \u001b[49m\u001b[43mkeys\u001b[49m\u001b[43m,\u001b[49m\u001b[43m \u001b[49m\u001b[38;5;241;43m*\u001b[39;49m\u001b[38;5;241;43m*\u001b[39;49m\u001b[43mkwargs\u001b[49m\u001b[43m)\u001b[49m\n\u001b[1;32m    664\u001b[0m \u001b[38;5;28;01mreturn\u001b[39;00m repack([f(r, \u001b[38;5;241m*\u001b[39ma) \u001b[38;5;28;01mfor\u001b[39;00m r, (f, a) \u001b[38;5;129;01min\u001b[39;00m \u001b[38;5;28mzip\u001b[39m(results, postcomputes)])\n",
      "File \u001b[0;32marrays.pyx:190\u001b[0m, in \u001b[0;36mpandas._libs.arrays.NDArrayBacked._concat_same_type\u001b[0;34m()\u001b[0m\n",
      "\u001b[0;31mValueError\u001b[0m: all the input array dimensions for the concatenation axis must match exactly, but along dimension 1, the array at index 0 has size 109006 and the array at index 1 has size 108213"
     ]
    }
   ],
   "source": [
    "apr_23_df = (\n",
    "    time_series_utils.concatenate_datasets_across_dates(\n",
    "        COMPILED_CACHED_VIEWS,\n",
    "        FILE,\n",
    "        apr_23,\n",
    "        data_type=\"df\",\n",
    "        columns=[\n",
    "            \"name\",\n",
    "            \"service_date\",\n",
    "            \"route_long_name\",\n",
    "            \"trip_first_departure_datetime_pacific\",\n",
    "            \"service_hours\",\n",
    "        ],\n",
    "    )\n",
    "    .sort_values([\"service_date\"])\n",
    "    .reset_index(drop=True)\n",
    ")"
   ]
  }
 ],
 "metadata": {
  "kernelspec": {
   "display_name": "Python 3 (ipykernel)",
   "language": "python",
   "name": "python3"
  },
  "language_info": {
   "codemirror_mode": {
    "name": "ipython",
    "version": 3
   },
   "file_extension": ".py",
   "mimetype": "text/x-python",
   "name": "python",
   "nbconvert_exporter": "python",
   "pygments_lexer": "ipython3",
   "version": "3.9.13"
  }
 },
 "nbformat": 4,
 "nbformat_minor": 5
}
