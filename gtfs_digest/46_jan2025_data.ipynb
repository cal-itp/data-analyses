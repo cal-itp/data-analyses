{
 "cells": [
  {
   "cell_type": "markdown",
   "id": "9ace2ec9-fd55-4d2a-9048-e3a91fbd345c",
   "metadata": {},
   "source": [
    "## Where is January 2025 data?"
   ]
  },
  {
   "cell_type": "code",
   "execution_count": 1,
   "id": "dbf25599-c72f-4649-a49a-4bd665a32c58",
   "metadata": {
    "tags": []
   },
   "outputs": [],
   "source": [
    "import _section1_utils\n",
    "import _section2_utils\n",
    "import geopandas as gpd\n",
    "import merge_data\n",
    "import numpy as np\n",
    "import pandas as pd\n",
    "from segment_speed_utils import gtfs_schedule_wrangling\n",
    "from shared_utils import rt_dates\n",
    "from update_vars import GTFS_DATA_DICT, RT_SCHED_GCS, SCHED_GCS, SEGMENT_GCS"
   ]
  },
  {
   "cell_type": "code",
   "execution_count": 2,
   "id": "1842da05-dca4-4ecb-9005-4f3181eba1e2",
   "metadata": {
    "tags": []
   },
   "outputs": [],
   "source": [
    "pd.options.display.max_columns = 100\n",
    "pd.options.display.float_format = \"{:.2f}\".format\n",
    "pd.set_option(\"display.max_rows\", None)\n",
    "pd.set_option(\"display.max_colwidth\", None)"
   ]
  },
  {
   "cell_type": "code",
   "execution_count": 3,
   "id": "8a4c538d-d576-44b7-b3cb-a8cb5f742120",
   "metadata": {
    "tags": []
   },
   "outputs": [],
   "source": [
    "analysis_date_list = rt_dates.y2025_dates"
   ]
  },
  {
   "cell_type": "code",
   "execution_count": 4,
   "id": "c6a1785c-8d1d-4bc9-b7fb-6a804abcb1d5",
   "metadata": {
    "tags": []
   },
   "outputs": [],
   "source": [
    "analysis_date_list_all = (\n",
    "    rt_dates.y2024_dates + rt_dates.y2023_dates + rt_dates.y2025_dates\n",
    ")"
   ]
  },
  {
   "cell_type": "code",
   "execution_count": 5,
   "id": "9033761f-1100-49b5-8a6e-e628a27f3ee0",
   "metadata": {
    "tags": []
   },
   "outputs": [],
   "source": [
    "schd_vp_url = f\"{GTFS_DATA_DICT.digest_tables.dir}{GTFS_DATA_DICT.digest_tables.route_schedule_vp}.parquet\""
   ]
  },
  {
   "cell_type": "code",
   "execution_count": 6,
   "id": "36e66e70-a7bd-4128-997e-399a9a8ac7cc",
   "metadata": {
    "tags": []
   },
   "outputs": [],
   "source": [
    "og_df = pd.read_parquet(schd_vp_url)"
   ]
  },
  {
   "cell_type": "code",
   "execution_count": 7,
   "id": "45558a42-475a-4240-9704-23d3d2ce7b7c",
   "metadata": {
    "tags": []
   },
   "outputs": [
    {
     "data": {
      "text/plain": [
       "Index(['schedule_gtfs_dataset_key', 'direction_id', 'time_period',\n",
       "       'avg_scheduled_service_minutes', 'avg_stop_miles', 'n_scheduled_trips',\n",
       "       'frequency', 'is_express', 'is_rapid', 'is_rail', 'is_coverage',\n",
       "       'is_downtown_local', 'is_local', 'service_date', 'typology',\n",
       "       'minutes_atleast1_vp', 'minutes_atleast2_vp',\n",
       "       'total_rt_service_minutes', 'total_scheduled_service_minutes',\n",
       "       'total_vp', 'vp_in_shape', 'is_early', 'is_ontime', 'is_late',\n",
       "       'n_vp_trips', 'vp_per_minute', 'pct_in_shape',\n",
       "       'pct_rt_journey_atleast1_vp', 'pct_rt_journey_atleast2_vp',\n",
       "       'pct_sched_journey_atleast1_vp', 'pct_sched_journey_atleast2_vp',\n",
       "       'rt_sched_journey_ratio', 'avg_rt_service_minutes', 'sched_rt_category',\n",
       "       'speed_mph', 'route_long_name', 'route_short_name',\n",
       "       'route_combined_name', 'route_id', 'base64_url',\n",
       "       'organization_source_record_id', 'organization_name',\n",
       "       'caltrans_district', 'route_primary_direction',\n",
       "       'schedule_source_record_id', 'name'],\n",
       "      dtype='object')"
      ]
     },
     "execution_count": 7,
     "metadata": {},
     "output_type": "execute_result"
    }
   ],
   "source": [
    "og_df.columns"
   ]
  },
  {
   "cell_type": "code",
   "execution_count": 8,
   "id": "23aa9808-b473-468e-996f-80a5ebc3de19",
   "metadata": {
    "tags": []
   },
   "outputs": [],
   "source": [
    "all_ops_jan_only = og_df.loc[og_df.service_date == \"2025-01-15T00:00:00.000000000\"]"
   ]
  },
  {
   "cell_type": "code",
   "execution_count": 9,
   "id": "b44b4448-c663-468c-9a15-25f87a3d5470",
   "metadata": {
    "tags": []
   },
   "outputs": [
    {
     "data": {
      "text/plain": [
       "array(['2025-01-15T00:00:00.000000000'], dtype='datetime64[ns]')"
      ]
     },
     "execution_count": 9,
     "metadata": {},
     "output_type": "execute_result"
    }
   ],
   "source": [
    "all_ops_jan_only.service_date.unique()"
   ]
  },
  {
   "cell_type": "code",
   "execution_count": 10,
   "id": "b07d1813-fb0c-4447-8ccf-eb5900c61653",
   "metadata": {
    "tags": []
   },
   "outputs": [
    {
     "name": "stdout",
     "output_type": "stream",
     "text": [
      "<class 'pandas.core.frame.DataFrame'>\n",
      "Int64Index: 15312 entries, 11 to 328577\n",
      "Data columns (total 46 columns):\n",
      " #   Column                           Non-Null Count  Dtype         \n",
      "---  ------                           --------------  -----         \n",
      " 0   schedule_gtfs_dataset_key        15312 non-null  object        \n",
      " 1   direction_id                     15312 non-null  float64       \n",
      " 2   time_period                      15312 non-null  object        \n",
      " 3   avg_scheduled_service_minutes    14376 non-null  float64       \n",
      " 4   avg_stop_miles                   14233 non-null  float64       \n",
      " 5   n_scheduled_trips                15312 non-null  int64         \n",
      " 6   frequency                        14376 non-null  float64       \n",
      " 7   is_express                       13608 non-null  float64       \n",
      " 8   is_rapid                         13608 non-null  float64       \n",
      " 9   is_rail                          13608 non-null  float64       \n",
      " 10  is_coverage                      13608 non-null  float64       \n",
      " 11  is_downtown_local                13608 non-null  float64       \n",
      " 12  is_local                         13608 non-null  float64       \n",
      " 13  service_date                     15312 non-null  datetime64[ns]\n",
      " 14  typology                         14376 non-null  object        \n",
      " 15  minutes_atleast1_vp              15312 non-null  int64         \n",
      " 16  minutes_atleast2_vp              15312 non-null  int64         \n",
      " 17  total_rt_service_minutes         12039 non-null  float64       \n",
      " 18  total_scheduled_service_minutes  12039 non-null  float64       \n",
      " 19  total_vp                         15312 non-null  int64         \n",
      " 20  vp_in_shape                      15312 non-null  int64         \n",
      " 21  is_early                         15312 non-null  int64         \n",
      " 22  is_ontime                        15312 non-null  int64         \n",
      " 23  is_late                          15312 non-null  int64         \n",
      " 24  n_vp_trips                       15312 non-null  int64         \n",
      " 25  vp_per_minute                    12039 non-null  float64       \n",
      " 26  pct_in_shape                     12039 non-null  float64       \n",
      " 27  pct_rt_journey_atleast1_vp       12039 non-null  float64       \n",
      " 28  pct_rt_journey_atleast2_vp       12039 non-null  float64       \n",
      " 29  pct_sched_journey_atleast1_vp    12039 non-null  float64       \n",
      " 30  pct_sched_journey_atleast2_vp    12039 non-null  float64       \n",
      " 31  rt_sched_journey_ratio           12039 non-null  float64       \n",
      " 32  avg_rt_service_minutes           12039 non-null  float64       \n",
      " 33  sched_rt_category                15312 non-null  category      \n",
      " 34  speed_mph                        11429 non-null  float64       \n",
      " 35  route_long_name                  15312 non-null  object        \n",
      " 36  route_short_name                 15312 non-null  object        \n",
      " 37  route_combined_name              15312 non-null  object        \n",
      " 38  route_id                         15312 non-null  object        \n",
      " 39  base64_url                       15312 non-null  object        \n",
      " 40  organization_source_record_id    15312 non-null  object        \n",
      " 41  organization_name                15312 non-null  object        \n",
      " 42  caltrans_district                15312 non-null  object        \n",
      " 43  route_primary_direction          14384 non-null  object        \n",
      " 44  schedule_source_record_id        15312 non-null  object        \n",
      " 45  name                             15312 non-null  object        \n",
      "dtypes: category(1), datetime64[ns](1), float64(21), int64(9), object(14)\n",
      "memory usage: 5.4+ MB\n"
     ]
    }
   ],
   "source": [
    "all_ops_jan_only.info()"
   ]
  },
  {
   "cell_type": "code",
   "execution_count": 11,
   "id": "53ef6c23-271e-4e33-bb7b-9fda6bb3430c",
   "metadata": {
    "tags": []
   },
   "outputs": [
    {
     "data": {
      "text/plain": [
       "all_day    5430\n",
       "peak       5096\n",
       "offpeak    4786\n",
       "Name: time_period, dtype: int64"
      ]
     },
     "execution_count": 11,
     "metadata": {},
     "output_type": "execute_result"
    }
   ],
   "source": [
    "all_ops_jan_only.time_period.value_counts()"
   ]
  },
  {
   "cell_type": "code",
   "execution_count": 12,
   "id": "9f9a1992-0c2b-4e94-9eaf-e288b9b2a9a0",
   "metadata": {
    "tags": []
   },
   "outputs": [
    {
     "data": {
      "text/html": [
       "<div>\n",
       "<style scoped>\n",
       "    .dataframe tbody tr th:only-of-type {\n",
       "        vertical-align: middle;\n",
       "    }\n",
       "\n",
       "    .dataframe tbody tr th {\n",
       "        vertical-align: top;\n",
       "    }\n",
       "\n",
       "    .dataframe thead th {\n",
       "        text-align: right;\n",
       "    }\n",
       "</style>\n",
       "<table border=\"1\" class=\"dataframe\">\n",
       "  <thead>\n",
       "    <tr style=\"text-align: right;\">\n",
       "      <th></th>\n",
       "      <th>organization_name</th>\n",
       "      <th>route_id</th>\n",
       "      <th>time_period</th>\n",
       "      <th>is_early</th>\n",
       "      <th>is_ontime</th>\n",
       "      <th>is_late</th>\n",
       "    </tr>\n",
       "  </thead>\n",
       "  <tbody>\n",
       "    <tr>\n",
       "      <th>283948</th>\n",
       "      <td>Long Beach Transit</td>\n",
       "      <td>94</td>\n",
       "      <td>all_day</td>\n",
       "      <td>0</td>\n",
       "      <td>0</td>\n",
       "      <td>2</td>\n",
       "    </tr>\n",
       "    <tr>\n",
       "      <th>148863</th>\n",
       "      <td>City and County of San Francisco</td>\n",
       "      <td>J</td>\n",
       "      <td>offpeak</td>\n",
       "      <td>1</td>\n",
       "      <td>17</td>\n",
       "      <td>28</td>\n",
       "    </tr>\n",
       "    <tr>\n",
       "      <th>187583</th>\n",
       "      <td>University of California, Berkeley</td>\n",
       "      <td>cent</td>\n",
       "      <td>peak</td>\n",
       "      <td>0</td>\n",
       "      <td>0</td>\n",
       "      <td>0</td>\n",
       "    </tr>\n",
       "    <tr>\n",
       "      <th>156776</th>\n",
       "      <td>Antelope Valley Transit Authority</td>\n",
       "      <td>9</td>\n",
       "      <td>peak</td>\n",
       "      <td>0</td>\n",
       "      <td>2</td>\n",
       "      <td>2</td>\n",
       "    </tr>\n",
       "    <tr>\n",
       "      <th>296927</th>\n",
       "      <td>Riverside Transit Agency</td>\n",
       "      <td>1</td>\n",
       "      <td>offpeak</td>\n",
       "      <td>1</td>\n",
       "      <td>21</td>\n",
       "      <td>9</td>\n",
       "    </tr>\n",
       "    <tr>\n",
       "      <th>7291</th>\n",
       "      <td>Los Angeles County Metropolitan Transportation Authority</td>\n",
       "      <td>268</td>\n",
       "      <td>peak</td>\n",
       "      <td>0</td>\n",
       "      <td>0</td>\n",
       "      <td>13</td>\n",
       "    </tr>\n",
       "    <tr>\n",
       "      <th>242153</th>\n",
       "      <td>City of Los Angeles</td>\n",
       "      <td>1524</td>\n",
       "      <td>peak</td>\n",
       "      <td>0</td>\n",
       "      <td>0</td>\n",
       "      <td>1</td>\n",
       "    </tr>\n",
       "    <tr>\n",
       "      <th>107987</th>\n",
       "      <td>San Mateo County Transit District</td>\n",
       "      <td>14</td>\n",
       "      <td>offpeak</td>\n",
       "      <td>0</td>\n",
       "      <td>1</td>\n",
       "      <td>0</td>\n",
       "    </tr>\n",
       "    <tr>\n",
       "      <th>288248</th>\n",
       "      <td>City of San Luis Obispo</td>\n",
       "      <td>11789</td>\n",
       "      <td>peak</td>\n",
       "      <td>0</td>\n",
       "      <td>8</td>\n",
       "      <td>0</td>\n",
       "    </tr>\n",
       "    <tr>\n",
       "      <th>280873</th>\n",
       "      <td>City of Santa Monica</td>\n",
       "      <td>3806</td>\n",
       "      <td>offpeak</td>\n",
       "      <td>0</td>\n",
       "      <td>0</td>\n",
       "      <td>0</td>\n",
       "    </tr>\n",
       "  </tbody>\n",
       "</table>\n",
       "</div>"
      ],
      "text/plain": [
       "                                               organization_name route_id  \\\n",
       "283948                                        Long Beach Transit       94   \n",
       "148863                          City and County of San Francisco        J   \n",
       "187583                        University of California, Berkeley     cent   \n",
       "156776                         Antelope Valley Transit Authority        9   \n",
       "296927                                  Riverside Transit Agency        1   \n",
       "7291    Los Angeles County Metropolitan Transportation Authority      268   \n",
       "242153                                       City of Los Angeles     1524   \n",
       "107987                         San Mateo County Transit District       14   \n",
       "288248                                   City of San Luis Obispo    11789   \n",
       "280873                                      City of Santa Monica     3806   \n",
       "\n",
       "       time_period  is_early  is_ontime  is_late  \n",
       "283948     all_day         0          0        2  \n",
       "148863     offpeak         1         17       28  \n",
       "187583        peak         0          0        0  \n",
       "156776        peak         0          2        2  \n",
       "296927     offpeak         1         21        9  \n",
       "7291          peak         0          0       13  \n",
       "242153        peak         0          0        1  \n",
       "107987     offpeak         0          1        0  \n",
       "288248        peak         0          8        0  \n",
       "280873     offpeak         0          0        0  "
      ]
     },
     "execution_count": 12,
     "metadata": {},
     "output_type": "execute_result"
    }
   ],
   "source": [
    "all_ops_jan_only[\n",
    "    [\n",
    "        \"organization_name\",\n",
    "        \"route_id\",\n",
    "        \"time_period\",\n",
    "        \"is_early\",\n",
    "        \"is_ontime\",\n",
    "        \"is_late\",\n",
    "    ]\n",
    "].sample(10)"
   ]
  },
  {
   "cell_type": "markdown",
   "id": "8955557e-710c-4187-931f-81674847cacd",
   "metadata": {},
   "source": [
    "### In the original dataframe, not loaded using the function in  `_merge_data.section_2_utils()` there are peak/offpeak values in `time_period`\n",
    "* There should only be 6 rows for each route (ideally)\n",
    "* Dir 1: all day, peak, offpeak\n",
    "* Dir 0: all day, peak, offpeak."
   ]
  },
  {
   "cell_type": "code",
   "execution_count": 13,
   "id": "03741ed8-a0a1-4f7a-8a80-40786b53a778",
   "metadata": {
    "tags": []
   },
   "outputs": [],
   "source": [
    "ac_transit_og_one_route = all_ops_jan_only.loc[\n",
    "    (all_ops_jan_only.organization_name == \"Alameda-Contra Costa Transit District\")\n",
    "    & (all_ops_jan_only.route_id == \"200\")\n",
    "]"
   ]
  },
  {
   "cell_type": "code",
   "execution_count": 14,
   "id": "52fdf9a5-5097-4025-b6fa-043a16894c7e",
   "metadata": {
    "tags": []
   },
   "outputs": [
    {
     "data": {
      "text/plain": [
       "(6, 46)"
      ]
     },
     "execution_count": 14,
     "metadata": {},
     "output_type": "execute_result"
    }
   ],
   "source": [
    "ac_transit_og_one_route.shape"
   ]
  },
  {
   "cell_type": "code",
   "execution_count": 15,
   "id": "9b36f2f0-ebe0-4246-ab02-2af76919ffa2",
   "metadata": {
    "tags": []
   },
   "outputs": [
    {
     "data": {
      "text/html": [
       "<div>\n",
       "<style scoped>\n",
       "    .dataframe tbody tr th:only-of-type {\n",
       "        vertical-align: middle;\n",
       "    }\n",
       "\n",
       "    .dataframe tbody tr th {\n",
       "        vertical-align: top;\n",
       "    }\n",
       "\n",
       "    .dataframe thead th {\n",
       "        text-align: right;\n",
       "    }\n",
       "</style>\n",
       "<table border=\"1\" class=\"dataframe\">\n",
       "  <thead>\n",
       "    <tr style=\"text-align: right;\">\n",
       "      <th></th>\n",
       "      <th>schedule_gtfs_dataset_key</th>\n",
       "      <th>direction_id</th>\n",
       "      <th>time_period</th>\n",
       "      <th>avg_scheduled_service_minutes</th>\n",
       "      <th>avg_stop_miles</th>\n",
       "      <th>n_scheduled_trips</th>\n",
       "      <th>frequency</th>\n",
       "      <th>is_express</th>\n",
       "      <th>is_rapid</th>\n",
       "      <th>is_rail</th>\n",
       "      <th>is_coverage</th>\n",
       "      <th>is_downtown_local</th>\n",
       "      <th>is_local</th>\n",
       "      <th>service_date</th>\n",
       "      <th>typology</th>\n",
       "      <th>minutes_atleast1_vp</th>\n",
       "      <th>minutes_atleast2_vp</th>\n",
       "      <th>total_rt_service_minutes</th>\n",
       "      <th>total_scheduled_service_minutes</th>\n",
       "      <th>total_vp</th>\n",
       "      <th>vp_in_shape</th>\n",
       "      <th>is_early</th>\n",
       "      <th>is_ontime</th>\n",
       "      <th>is_late</th>\n",
       "      <th>n_vp_trips</th>\n",
       "      <th>vp_per_minute</th>\n",
       "      <th>pct_in_shape</th>\n",
       "      <th>pct_rt_journey_atleast1_vp</th>\n",
       "      <th>pct_rt_journey_atleast2_vp</th>\n",
       "      <th>pct_sched_journey_atleast1_vp</th>\n",
       "      <th>pct_sched_journey_atleast2_vp</th>\n",
       "      <th>rt_sched_journey_ratio</th>\n",
       "      <th>avg_rt_service_minutes</th>\n",
       "      <th>sched_rt_category</th>\n",
       "      <th>speed_mph</th>\n",
       "      <th>route_long_name</th>\n",
       "      <th>route_short_name</th>\n",
       "      <th>route_combined_name</th>\n",
       "      <th>route_id</th>\n",
       "      <th>base64_url</th>\n",
       "      <th>organization_source_record_id</th>\n",
       "      <th>organization_name</th>\n",
       "      <th>caltrans_district</th>\n",
       "      <th>route_primary_direction</th>\n",
       "      <th>schedule_source_record_id</th>\n",
       "      <th>name</th>\n",
       "    </tr>\n",
       "  </thead>\n",
       "  <tbody>\n",
       "    <tr>\n",
       "      <th>225323</th>\n",
       "      <td>c499f905e33929a641f083dad55c521e</td>\n",
       "      <td>0.00</td>\n",
       "      <td>all_day</td>\n",
       "      <td>51.62</td>\n",
       "      <td>3.02</td>\n",
       "      <td>45</td>\n",
       "      <td>1.88</td>\n",
       "      <td>0.00</td>\n",
       "      <td>0.00</td>\n",
       "      <td>0.00</td>\n",
       "      <td>1.00</td>\n",
       "      <td>1.00</td>\n",
       "      <td>0.00</td>\n",
       "      <td>2025-01-15</td>\n",
       "      <td>downtown_local</td>\n",
       "      <td>3122</td>\n",
       "      <td>3080</td>\n",
       "      <td>5886.62</td>\n",
       "      <td>2323.00</td>\n",
       "      <td>8863</td>\n",
       "      <td>8821</td>\n",
       "      <td>0</td>\n",
       "      <td>1</td>\n",
       "      <td>44</td>\n",
       "      <td>45</td>\n",
       "      <td>1.51</td>\n",
       "      <td>0.99</td>\n",
       "      <td>0.53</td>\n",
       "      <td>0.52</td>\n",
       "      <td>1.00</td>\n",
       "      <td>1.00</td>\n",
       "      <td>2.53</td>\n",
       "      <td>130.81</td>\n",
       "      <td>schedule_and_vp</td>\n",
       "      <td>17.17</td>\n",
       "      <td>Decoto - Newark Blvd. - Mowry</td>\n",
       "      <td>200</td>\n",
       "      <td>200 Decoto - Newark Blvd. - Mowry</td>\n",
       "      <td>200</td>\n",
       "      <td>aHR0cHM6Ly9hcGkuNTExLm9yZy90cmFuc2l0L2RhdGFmZWVkcz9vcGVyYXRvcl9pZD1BQw==</td>\n",
       "      <td>recOZgevYf7Jimm9L</td>\n",
       "      <td>Alameda-Contra Costa Transit District</td>\n",
       "      <td>04 - Oakland</td>\n",
       "      <td>Southbound</td>\n",
       "      <td>recJjD8JT53sK302o</td>\n",
       "      <td>Bay Area 511 AC Transit Schedule</td>\n",
       "    </tr>\n",
       "    <tr>\n",
       "      <th>225345</th>\n",
       "      <td>c499f905e33929a641f083dad55c521e</td>\n",
       "      <td>0.00</td>\n",
       "      <td>offpeak</td>\n",
       "      <td>51.62</td>\n",
       "      <td>3.02</td>\n",
       "      <td>24</td>\n",
       "      <td>1.00</td>\n",
       "      <td>0.00</td>\n",
       "      <td>0.00</td>\n",
       "      <td>0.00</td>\n",
       "      <td>1.00</td>\n",
       "      <td>1.00</td>\n",
       "      <td>0.00</td>\n",
       "      <td>2025-01-15</td>\n",
       "      <td>downtown_local</td>\n",
       "      <td>1608</td>\n",
       "      <td>1587</td>\n",
       "      <td>4395.64</td>\n",
       "      <td>1206.00</td>\n",
       "      <td>4567</td>\n",
       "      <td>4551</td>\n",
       "      <td>0</td>\n",
       "      <td>1</td>\n",
       "      <td>23</td>\n",
       "      <td>24</td>\n",
       "      <td>1.04</td>\n",
       "      <td>1.00</td>\n",
       "      <td>0.37</td>\n",
       "      <td>0.36</td>\n",
       "      <td>1.00</td>\n",
       "      <td>1.00</td>\n",
       "      <td>3.64</td>\n",
       "      <td>183.15</td>\n",
       "      <td>schedule_and_vp</td>\n",
       "      <td>17.98</td>\n",
       "      <td>Decoto - Newark Blvd. - Mowry</td>\n",
       "      <td>200</td>\n",
       "      <td>200 Decoto - Newark Blvd. - Mowry</td>\n",
       "      <td>200</td>\n",
       "      <td>aHR0cHM6Ly9hcGkuNTExLm9yZy90cmFuc2l0L2RhdGFmZWVkcz9vcGVyYXRvcl9pZD1BQw==</td>\n",
       "      <td>recOZgevYf7Jimm9L</td>\n",
       "      <td>Alameda-Contra Costa Transit District</td>\n",
       "      <td>04 - Oakland</td>\n",
       "      <td>Southbound</td>\n",
       "      <td>recJjD8JT53sK302o</td>\n",
       "      <td>Bay Area 511 AC Transit Schedule</td>\n",
       "    </tr>\n",
       "  </tbody>\n",
       "</table>\n",
       "</div>"
      ],
      "text/plain": [
       "               schedule_gtfs_dataset_key  direction_id time_period  \\\n",
       "225323  c499f905e33929a641f083dad55c521e          0.00     all_day   \n",
       "225345  c499f905e33929a641f083dad55c521e          0.00     offpeak   \n",
       "\n",
       "        avg_scheduled_service_minutes  avg_stop_miles  n_scheduled_trips  \\\n",
       "225323                          51.62            3.02                 45   \n",
       "225345                          51.62            3.02                 24   \n",
       "\n",
       "        frequency  is_express  is_rapid  is_rail  is_coverage  \\\n",
       "225323       1.88        0.00      0.00     0.00         1.00   \n",
       "225345       1.00        0.00      0.00     0.00         1.00   \n",
       "\n",
       "        is_downtown_local  is_local service_date        typology  \\\n",
       "225323               1.00      0.00   2025-01-15  downtown_local   \n",
       "225345               1.00      0.00   2025-01-15  downtown_local   \n",
       "\n",
       "        minutes_atleast1_vp  minutes_atleast2_vp  total_rt_service_minutes  \\\n",
       "225323                 3122                 3080                   5886.62   \n",
       "225345                 1608                 1587                   4395.64   \n",
       "\n",
       "        total_scheduled_service_minutes  total_vp  vp_in_shape  is_early  \\\n",
       "225323                          2323.00      8863         8821         0   \n",
       "225345                          1206.00      4567         4551         0   \n",
       "\n",
       "        is_ontime  is_late  n_vp_trips  vp_per_minute  pct_in_shape  \\\n",
       "225323          1       44          45           1.51          0.99   \n",
       "225345          1       23          24           1.04          1.00   \n",
       "\n",
       "        pct_rt_journey_atleast1_vp  pct_rt_journey_atleast2_vp  \\\n",
       "225323                        0.53                        0.52   \n",
       "225345                        0.37                        0.36   \n",
       "\n",
       "        pct_sched_journey_atleast1_vp  pct_sched_journey_atleast2_vp  \\\n",
       "225323                           1.00                           1.00   \n",
       "225345                           1.00                           1.00   \n",
       "\n",
       "        rt_sched_journey_ratio  avg_rt_service_minutes sched_rt_category  \\\n",
       "225323                    2.53                  130.81   schedule_and_vp   \n",
       "225345                    3.64                  183.15   schedule_and_vp   \n",
       "\n",
       "        speed_mph                route_long_name route_short_name  \\\n",
       "225323      17.17  Decoto - Newark Blvd. - Mowry              200   \n",
       "225345      17.98  Decoto - Newark Blvd. - Mowry              200   \n",
       "\n",
       "                      route_combined_name route_id  \\\n",
       "225323  200 Decoto - Newark Blvd. - Mowry      200   \n",
       "225345  200 Decoto - Newark Blvd. - Mowry      200   \n",
       "\n",
       "                                                                      base64_url  \\\n",
       "225323  aHR0cHM6Ly9hcGkuNTExLm9yZy90cmFuc2l0L2RhdGFmZWVkcz9vcGVyYXRvcl9pZD1BQw==   \n",
       "225345  aHR0cHM6Ly9hcGkuNTExLm9yZy90cmFuc2l0L2RhdGFmZWVkcz9vcGVyYXRvcl9pZD1BQw==   \n",
       "\n",
       "       organization_source_record_id                      organization_name  \\\n",
       "225323             recOZgevYf7Jimm9L  Alameda-Contra Costa Transit District   \n",
       "225345             recOZgevYf7Jimm9L  Alameda-Contra Costa Transit District   \n",
       "\n",
       "       caltrans_district route_primary_direction schedule_source_record_id  \\\n",
       "225323      04 - Oakland              Southbound         recJjD8JT53sK302o   \n",
       "225345      04 - Oakland              Southbound         recJjD8JT53sK302o   \n",
       "\n",
       "                                    name  \n",
       "225323  Bay Area 511 AC Transit Schedule  \n",
       "225345  Bay Area 511 AC Transit Schedule  "
      ]
     },
     "execution_count": 15,
     "metadata": {},
     "output_type": "execute_result"
    }
   ],
   "source": [
    "ac_transit_og_one_route.head(2)"
   ]
  },
  {
   "cell_type": "code",
   "execution_count": 16,
   "id": "cfbb6e20-4877-4b97-9436-38a168974c75",
   "metadata": {
    "tags": []
   },
   "outputs": [
    {
     "data": {
      "text/plain": [
       "all_day    2\n",
       "offpeak    2\n",
       "peak       2\n",
       "Name: time_period, dtype: int64"
      ]
     },
     "execution_count": 16,
     "metadata": {},
     "output_type": "execute_result"
    }
   ],
   "source": [
    "ac_transit_og_one_route.time_period.value_counts()"
   ]
  },
  {
   "cell_type": "code",
   "execution_count": 17,
   "id": "6804c5a7-64d9-4528-9b41-f9c23dde87b1",
   "metadata": {
    "tags": []
   },
   "outputs": [
    {
     "data": {
      "text/plain": [
       "['schedule_and_vp']\n",
       "Categories (3, object): ['schedule_only', 'vp_only', 'schedule_and_vp']"
      ]
     },
     "execution_count": 17,
     "metadata": {},
     "output_type": "execute_result"
    }
   ],
   "source": [
    "ac_transit_og_one_route.sched_rt_category.unique()"
   ]
  },
  {
   "cell_type": "code",
   "execution_count": 18,
   "id": "56afefcf-35fb-4bb9-ad37-a2c22ab325bc",
   "metadata": {
    "tags": []
   },
   "outputs": [
    {
     "data": {
      "text/plain": [
       "Index(['schedule_gtfs_dataset_key', 'direction_id', 'time_period',\n",
       "       'avg_scheduled_service_minutes', 'avg_stop_miles', 'n_scheduled_trips',\n",
       "       'frequency', 'is_express', 'is_rapid', 'is_rail', 'is_coverage',\n",
       "       'is_downtown_local', 'is_local', 'service_date', 'typology',\n",
       "       'minutes_atleast1_vp', 'minutes_atleast2_vp',\n",
       "       'total_rt_service_minutes', 'total_scheduled_service_minutes',\n",
       "       'total_vp', 'vp_in_shape', 'is_early', 'is_ontime', 'is_late',\n",
       "       'n_vp_trips', 'vp_per_minute', 'pct_in_shape',\n",
       "       'pct_rt_journey_atleast1_vp', 'pct_rt_journey_atleast2_vp',\n",
       "       'pct_sched_journey_atleast1_vp', 'pct_sched_journey_atleast2_vp',\n",
       "       'rt_sched_journey_ratio', 'avg_rt_service_minutes', 'sched_rt_category',\n",
       "       'speed_mph', 'route_long_name', 'route_short_name',\n",
       "       'route_combined_name', 'route_id', 'base64_url',\n",
       "       'organization_source_record_id', 'organization_name',\n",
       "       'caltrans_district', 'route_primary_direction',\n",
       "       'schedule_source_record_id', 'name'],\n",
       "      dtype='object')"
      ]
     },
     "execution_count": 18,
     "metadata": {},
     "output_type": "execute_result"
    }
   ],
   "source": [
    "ac_transit_og_one_route.columns"
   ]
  },
  {
   "cell_type": "code",
   "execution_count": 19,
   "id": "a09512c1-865b-4af2-b74d-4fe04c0324f9",
   "metadata": {
    "tags": []
   },
   "outputs": [
    {
     "data": {
      "text/plain": [
       "array(['1', '12', '14', '14R', '18', '19', '1X', '2', '21', '22', '23',\n",
       "       '24', '27', '28', '28R', '29', '30', '31', '33', '35', '36', '37',\n",
       "       '38', '38R', '39', '43', '44', '45', '48', '49', '5', '52', '54',\n",
       "       '55', '56', '57', '58', '5R', '6', '66', '67', '7', '714', '8',\n",
       "       '8AX', '8BX', '9', '90', '9R', 'CA', 'F', 'FBUS', 'J', 'K', 'KBUS',\n",
       "       'KLM', 'L', 'LBUS', 'LOWL', 'M', 'N', 'NBUS', 'NOWL', 'PH', 'PM',\n",
       "       '15', '25', '91', 'T', 'TBUS'], dtype=object)"
      ]
     },
     "execution_count": 19,
     "metadata": {},
     "output_type": "execute_result"
    }
   ],
   "source": [
    "all_ops_jan_only.loc[\n",
    "    (all_ops_jan_only.organization_name == \"City and County of San Francisco\")].route_id.unique()"
   ]
  },
  {
   "cell_type": "code",
   "execution_count": 20,
   "id": "87052cf6-0a9c-4d3a-99e2-0a1fa71ce707",
   "metadata": {
    "tags": []
   },
   "outputs": [],
   "source": [
    "sf_og_one_route = all_ops_jan_only.loc[\n",
    "    (all_ops_jan_only.organization_name == \"City and County of San Francisco\")\n",
    "    & (all_ops_jan_only.route_id == \"22\")\n",
    "]"
   ]
  },
  {
   "cell_type": "code",
   "execution_count": 21,
   "id": "661c174e-df00-4af2-ad0a-3f3133587511",
   "metadata": {
    "tags": []
   },
   "outputs": [
    {
     "data": {
      "text/html": [
       "<div>\n",
       "<style scoped>\n",
       "    .dataframe tbody tr th:only-of-type {\n",
       "        vertical-align: middle;\n",
       "    }\n",
       "\n",
       "    .dataframe tbody tr th {\n",
       "        vertical-align: top;\n",
       "    }\n",
       "\n",
       "    .dataframe thead th {\n",
       "        text-align: right;\n",
       "    }\n",
       "</style>\n",
       "<table border=\"1\" class=\"dataframe\">\n",
       "  <thead>\n",
       "    <tr style=\"text-align: right;\">\n",
       "      <th></th>\n",
       "      <th>schedule_gtfs_dataset_key</th>\n",
       "      <th>direction_id</th>\n",
       "      <th>time_period</th>\n",
       "      <th>avg_scheduled_service_minutes</th>\n",
       "      <th>avg_stop_miles</th>\n",
       "      <th>n_scheduled_trips</th>\n",
       "      <th>frequency</th>\n",
       "      <th>is_express</th>\n",
       "      <th>is_rapid</th>\n",
       "      <th>is_rail</th>\n",
       "      <th>is_coverage</th>\n",
       "      <th>is_downtown_local</th>\n",
       "      <th>is_local</th>\n",
       "      <th>service_date</th>\n",
       "      <th>typology</th>\n",
       "      <th>minutes_atleast1_vp</th>\n",
       "      <th>minutes_atleast2_vp</th>\n",
       "      <th>total_rt_service_minutes</th>\n",
       "      <th>total_scheduled_service_minutes</th>\n",
       "      <th>total_vp</th>\n",
       "      <th>vp_in_shape</th>\n",
       "      <th>is_early</th>\n",
       "      <th>is_ontime</th>\n",
       "      <th>is_late</th>\n",
       "      <th>n_vp_trips</th>\n",
       "      <th>vp_per_minute</th>\n",
       "      <th>pct_in_shape</th>\n",
       "      <th>pct_rt_journey_atleast1_vp</th>\n",
       "      <th>pct_rt_journey_atleast2_vp</th>\n",
       "      <th>pct_sched_journey_atleast1_vp</th>\n",
       "      <th>pct_sched_journey_atleast2_vp</th>\n",
       "      <th>rt_sched_journey_ratio</th>\n",
       "      <th>avg_rt_service_minutes</th>\n",
       "      <th>sched_rt_category</th>\n",
       "      <th>speed_mph</th>\n",
       "      <th>route_long_name</th>\n",
       "      <th>route_short_name</th>\n",
       "      <th>route_combined_name</th>\n",
       "      <th>route_id</th>\n",
       "      <th>base64_url</th>\n",
       "      <th>organization_source_record_id</th>\n",
       "      <th>organization_name</th>\n",
       "      <th>caltrans_district</th>\n",
       "      <th>route_primary_direction</th>\n",
       "      <th>schedule_source_record_id</th>\n",
       "      <th>name</th>\n",
       "    </tr>\n",
       "  </thead>\n",
       "  <tbody>\n",
       "    <tr>\n",
       "      <th>143933</th>\n",
       "      <td>7cc0cb1871dfd558f11a2885c145d144</td>\n",
       "      <td>0.00</td>\n",
       "      <td>all_day</td>\n",
       "      <td>46.87</td>\n",
       "      <td>2.35</td>\n",
       "      <td>186</td>\n",
       "      <td>7.75</td>\n",
       "      <td>0.00</td>\n",
       "      <td>0.00</td>\n",
       "      <td>0.00</td>\n",
       "      <td>0.00</td>\n",
       "      <td>1.00</td>\n",
       "      <td>0.00</td>\n",
       "      <td>2025-01-15</td>\n",
       "      <td>downtown_local</td>\n",
       "      <td>9864</td>\n",
       "      <td>9719</td>\n",
       "      <td>13857.67</td>\n",
       "      <td>8658.00</td>\n",
       "      <td>29100</td>\n",
       "      <td>28584</td>\n",
       "      <td>3</td>\n",
       "      <td>80</td>\n",
       "      <td>99</td>\n",
       "      <td>182</td>\n",
       "      <td>2.10</td>\n",
       "      <td>0.98</td>\n",
       "      <td>0.71</td>\n",
       "      <td>0.70</td>\n",
       "      <td>1.00</td>\n",
       "      <td>1.00</td>\n",
       "      <td>1.60</td>\n",
       "      <td>76.14</td>\n",
       "      <td>schedule_and_vp</td>\n",
       "      <td>5.76</td>\n",
       "      <td>FILLMORE</td>\n",
       "      <td>22</td>\n",
       "      <td>22 FILLMORE</td>\n",
       "      <td>22</td>\n",
       "      <td>aHR0cHM6Ly9hcGkuNTExLm9yZy90cmFuc2l0L2RhdGFmZWVkcz9vcGVyYXRvcl9pZD1TRg==</td>\n",
       "      <td>rechaapWbeffO33OX</td>\n",
       "      <td>City and County of San Francisco</td>\n",
       "      <td>04 - Oakland</td>\n",
       "      <td>Southbound</td>\n",
       "      <td>recHD22phgJs34JHP</td>\n",
       "      <td>Bay Area 511 Muni Schedule</td>\n",
       "    </tr>\n",
       "  </tbody>\n",
       "</table>\n",
       "</div>"
      ],
      "text/plain": [
       "               schedule_gtfs_dataset_key  direction_id time_period  \\\n",
       "143933  7cc0cb1871dfd558f11a2885c145d144          0.00     all_day   \n",
       "\n",
       "        avg_scheduled_service_minutes  avg_stop_miles  n_scheduled_trips  \\\n",
       "143933                          46.87            2.35                186   \n",
       "\n",
       "        frequency  is_express  is_rapid  is_rail  is_coverage  \\\n",
       "143933       7.75        0.00      0.00     0.00         0.00   \n",
       "\n",
       "        is_downtown_local  is_local service_date        typology  \\\n",
       "143933               1.00      0.00   2025-01-15  downtown_local   \n",
       "\n",
       "        minutes_atleast1_vp  minutes_atleast2_vp  total_rt_service_minutes  \\\n",
       "143933                 9864                 9719                  13857.67   \n",
       "\n",
       "        total_scheduled_service_minutes  total_vp  vp_in_shape  is_early  \\\n",
       "143933                          8658.00     29100        28584         3   \n",
       "\n",
       "        is_ontime  is_late  n_vp_trips  vp_per_minute  pct_in_shape  \\\n",
       "143933         80       99         182           2.10          0.98   \n",
       "\n",
       "        pct_rt_journey_atleast1_vp  pct_rt_journey_atleast2_vp  \\\n",
       "143933                        0.71                        0.70   \n",
       "\n",
       "        pct_sched_journey_atleast1_vp  pct_sched_journey_atleast2_vp  \\\n",
       "143933                           1.00                           1.00   \n",
       "\n",
       "        rt_sched_journey_ratio  avg_rt_service_minutes sched_rt_category  \\\n",
       "143933                    1.60                   76.14   schedule_and_vp   \n",
       "\n",
       "        speed_mph route_long_name route_short_name route_combined_name  \\\n",
       "143933       5.76        FILLMORE               22         22 FILLMORE   \n",
       "\n",
       "       route_id  \\\n",
       "143933       22   \n",
       "\n",
       "                                                                      base64_url  \\\n",
       "143933  aHR0cHM6Ly9hcGkuNTExLm9yZy90cmFuc2l0L2RhdGFmZWVkcz9vcGVyYXRvcl9pZD1TRg==   \n",
       "\n",
       "       organization_source_record_id                 organization_name  \\\n",
       "143933             rechaapWbeffO33OX  City and County of San Francisco   \n",
       "\n",
       "       caltrans_district route_primary_direction schedule_source_record_id  \\\n",
       "143933      04 - Oakland              Southbound         recHD22phgJs34JHP   \n",
       "\n",
       "                              name  \n",
       "143933  Bay Area 511 Muni Schedule  "
      ]
     },
     "execution_count": 21,
     "metadata": {},
     "output_type": "execute_result"
    }
   ],
   "source": [
    "sf_og_one_route.head(1)"
   ]
  },
  {
   "cell_type": "code",
   "execution_count": 22,
   "id": "b4434344-dadc-44d0-9976-191b3d6f4cf1",
   "metadata": {
    "tags": []
   },
   "outputs": [
    {
     "data": {
      "text/html": [
       "<div>\n",
       "<style scoped>\n",
       "    .dataframe tbody tr th:only-of-type {\n",
       "        vertical-align: middle;\n",
       "    }\n",
       "\n",
       "    .dataframe tbody tr th {\n",
       "        vertical-align: top;\n",
       "    }\n",
       "\n",
       "    .dataframe thead th {\n",
       "        text-align: right;\n",
       "    }\n",
       "</style>\n",
       "<table border=\"1\" class=\"dataframe\">\n",
       "  <thead>\n",
       "    <tr style=\"text-align: right;\">\n",
       "      <th></th>\n",
       "      <th>sched_rt_category</th>\n",
       "      <th>time_period</th>\n",
       "    </tr>\n",
       "  </thead>\n",
       "  <tbody>\n",
       "    <tr>\n",
       "      <th>143933</th>\n",
       "      <td>schedule_and_vp</td>\n",
       "      <td>all_day</td>\n",
       "    </tr>\n",
       "    <tr>\n",
       "      <th>143953</th>\n",
       "      <td>schedule_and_vp</td>\n",
       "      <td>offpeak</td>\n",
       "    </tr>\n",
       "    <tr>\n",
       "      <th>143973</th>\n",
       "      <td>schedule_and_vp</td>\n",
       "      <td>peak</td>\n",
       "    </tr>\n",
       "    <tr>\n",
       "      <th>143993</th>\n",
       "      <td>schedule_and_vp</td>\n",
       "      <td>all_day</td>\n",
       "    </tr>\n",
       "    <tr>\n",
       "      <th>144013</th>\n",
       "      <td>schedule_and_vp</td>\n",
       "      <td>offpeak</td>\n",
       "    </tr>\n",
       "    <tr>\n",
       "      <th>144033</th>\n",
       "      <td>schedule_and_vp</td>\n",
       "      <td>peak</td>\n",
       "    </tr>\n",
       "  </tbody>\n",
       "</table>\n",
       "</div>"
      ],
      "text/plain": [
       "       sched_rt_category time_period\n",
       "143933   schedule_and_vp     all_day\n",
       "143953   schedule_and_vp     offpeak\n",
       "143973   schedule_and_vp        peak\n",
       "143993   schedule_and_vp     all_day\n",
       "144013   schedule_and_vp     offpeak\n",
       "144033   schedule_and_vp        peak"
      ]
     },
     "execution_count": 22,
     "metadata": {},
     "output_type": "execute_result"
    }
   ],
   "source": [
    "sf_og_one_route[[\"sched_rt_category\",\"time_period\"]]"
   ]
  },
  {
   "cell_type": "markdown",
   "id": "102cd543-fb44-44e4-bd5b-2cab9e149a4d",
   "metadata": {},
   "source": [
    "### Something has gone wrong with the merges that I fixed awhile back."
   ]
  },
  {
   "cell_type": "code",
   "execution_count": 23,
   "id": "3901d142-c696-4892-aa6d-c59f56b403a9",
   "metadata": {
    "tags": []
   },
   "outputs": [
    {
     "data": {
      "text/html": [
       "<div>\n",
       "<style scoped>\n",
       "    .dataframe tbody tr th:only-of-type {\n",
       "        vertical-align: middle;\n",
       "    }\n",
       "\n",
       "    .dataframe tbody tr th {\n",
       "        vertical-align: top;\n",
       "    }\n",
       "\n",
       "    .dataframe thead th {\n",
       "        text-align: right;\n",
       "    }\n",
       "</style>\n",
       "<table border=\"1\" class=\"dataframe\">\n",
       "  <thead>\n",
       "    <tr style=\"text-align: right;\">\n",
       "      <th></th>\n",
       "      <th>sched_rt_category</th>\n",
       "      <th>time_period</th>\n",
       "    </tr>\n",
       "  </thead>\n",
       "  <tbody>\n",
       "    <tr>\n",
       "      <th>225323</th>\n",
       "      <td>schedule_and_vp</td>\n",
       "      <td>all_day</td>\n",
       "    </tr>\n",
       "    <tr>\n",
       "      <th>225345</th>\n",
       "      <td>schedule_and_vp</td>\n",
       "      <td>offpeak</td>\n",
       "    </tr>\n",
       "    <tr>\n",
       "      <th>225367</th>\n",
       "      <td>schedule_and_vp</td>\n",
       "      <td>peak</td>\n",
       "    </tr>\n",
       "    <tr>\n",
       "      <th>225389</th>\n",
       "      <td>schedule_and_vp</td>\n",
       "      <td>all_day</td>\n",
       "    </tr>\n",
       "    <tr>\n",
       "      <th>225411</th>\n",
       "      <td>schedule_and_vp</td>\n",
       "      <td>offpeak</td>\n",
       "    </tr>\n",
       "    <tr>\n",
       "      <th>225433</th>\n",
       "      <td>schedule_and_vp</td>\n",
       "      <td>peak</td>\n",
       "    </tr>\n",
       "  </tbody>\n",
       "</table>\n",
       "</div>"
      ],
      "text/plain": [
       "       sched_rt_category time_period\n",
       "225323   schedule_and_vp     all_day\n",
       "225345   schedule_and_vp     offpeak\n",
       "225367   schedule_and_vp        peak\n",
       "225389   schedule_and_vp     all_day\n",
       "225411   schedule_and_vp     offpeak\n",
       "225433   schedule_and_vp        peak"
      ]
     },
     "execution_count": 23,
     "metadata": {},
     "output_type": "execute_result"
    }
   ],
   "source": [
    "ac_transit_og_one_route[[\"sched_rt_category\", \"time_period\"]]"
   ]
  },
  {
   "cell_type": "code",
   "execution_count": 24,
   "id": "56c4b5f4-4dee-49aa-98ab-88645830792d",
   "metadata": {
    "tags": []
   },
   "outputs": [],
   "source": [
    "ac_transitonly = _section2_utils.load_schedule_vp_metrics(\n",
    "    \"Alameda-Contra Costa Transit District\"\n",
    ")"
   ]
  },
  {
   "cell_type": "code",
   "execution_count": 25,
   "id": "8507053b-7816-4c1f-bd47-950f434fd573",
   "metadata": {
    "tags": []
   },
   "outputs": [],
   "source": [
    "ac_jan_only = ac_transitonly.loc[ac_transitonly.Date == \"2025-01-15T00:00:00.000000000\"]"
   ]
  },
  {
   "cell_type": "code",
   "execution_count": 26,
   "id": "0e2f186f-219c-477f-867a-0c4d07a6713f",
   "metadata": {
    "tags": []
   },
   "outputs": [
    {
     "data": {
      "text/html": [
       "<div>\n",
       "<style scoped>\n",
       "    .dataframe tbody tr th:only-of-type {\n",
       "        vertical-align: middle;\n",
       "    }\n",
       "\n",
       "    .dataframe tbody tr th {\n",
       "        vertical-align: top;\n",
       "    }\n",
       "\n",
       "    .dataframe thead th {\n",
       "        text-align: right;\n",
       "    }\n",
       "</style>\n",
       "<table border=\"1\" class=\"dataframe\">\n",
       "  <thead>\n",
       "    <tr style=\"text-align: right;\">\n",
       "      <th></th>\n",
       "      <th>schedule_gtfs_dataset_key</th>\n",
       "      <th>dir_0_1</th>\n",
       "      <th>Period</th>\n",
       "      <th>Average Scheduled Service (trip minutes)</th>\n",
       "      <th>Average Stop Distance (miles)</th>\n",
       "      <th># scheduled trips</th>\n",
       "      <th>Trips per Hour</th>\n",
       "      <th>is_express</th>\n",
       "      <th>is_rapid</th>\n",
       "      <th>is_rail</th>\n",
       "      <th>is_coverage</th>\n",
       "      <th>is_downtown_local</th>\n",
       "      <th>is_local</th>\n",
       "      <th>Date</th>\n",
       "      <th>Route typology</th>\n",
       "      <th># Minutes with 1+ VP per Minute</th>\n",
       "      <th># Minutes with 2+ VP per Minute</th>\n",
       "      <th>Aggregate Actual Service Minutes</th>\n",
       "      <th>Aggregate Scheduled Service Minutes (all trips)</th>\n",
       "      <th># VP</th>\n",
       "      <th># VP within Scheduled Shape</th>\n",
       "      <th># Early Arrival Trips</th>\n",
       "      <th># On-Time Trips</th>\n",
       "      <th># Late Trips</th>\n",
       "      <th># Trips with VP</th>\n",
       "      <th>Average VP per Minute</th>\n",
       "      <th>% VP within Scheduled Shape</th>\n",
       "      <th>pct_rt_journey_atleast1_vp</th>\n",
       "      <th>pct_rt_journey_atleast2_vp</th>\n",
       "      <th>% Scheduled Trip w/ 1+ VP/Minute</th>\n",
       "      <th>% Scheduled Trip w/ 2+ VP/Minute</th>\n",
       "      <th>Realtime versus Scheduled Service Ratio</th>\n",
       "      <th>Average Actual Service (Trip Minutes)</th>\n",
       "      <th>GTFS Availability</th>\n",
       "      <th>Speed (MPH)</th>\n",
       "      <th>route_long_name</th>\n",
       "      <th>route_short_name</th>\n",
       "      <th>Route</th>\n",
       "      <th>Route ID</th>\n",
       "      <th>Base64 Encoded Feed URL</th>\n",
       "      <th>Organization ID</th>\n",
       "      <th>Organization</th>\n",
       "      <th>District</th>\n",
       "      <th>Direction</th>\n",
       "      <th>schedule_source_record_id</th>\n",
       "      <th>Transit Operator</th>\n",
       "      <th>ruler_100_pct</th>\n",
       "      <th>ruler_for_vp_per_min</th>\n",
       "      <th>headway_in_minutes</th>\n",
       "    </tr>\n",
       "  </thead>\n",
       "  <tbody>\n",
       "    <tr>\n",
       "      <th>511</th>\n",
       "      <td>c499f905e33929a641f083dad55c521e</td>\n",
       "      <td>0.00</td>\n",
       "      <td>all_day</td>\n",
       "      <td>31.40</td>\n",
       "      <td>3.50</td>\n",
       "      <td>63</td>\n",
       "      <td>2.62</td>\n",
       "      <td>0.00</td>\n",
       "      <td>0.00</td>\n",
       "      <td>0.00</td>\n",
       "      <td>0.00</td>\n",
       "      <td>1.00</td>\n",
       "      <td>0.00</td>\n",
       "      <td>2025-01-15</td>\n",
       "      <td>downtown_local</td>\n",
       "      <td>3130</td>\n",
       "      <td>3084</td>\n",
       "      <td>5913.36</td>\n",
       "      <td>1978.00</td>\n",
       "      <td>8870</td>\n",
       "      <td>8870</td>\n",
       "      <td>0</td>\n",
       "      <td>1</td>\n",
       "      <td>62</td>\n",
       "      <td>63</td>\n",
       "      <td>1.50</td>\n",
       "      <td>100.00</td>\n",
       "      <td>53.00</td>\n",
       "      <td>52.00</td>\n",
       "      <td>100.00</td>\n",
       "      <td>100.00</td>\n",
       "      <td>2.99</td>\n",
       "      <td>93.86</td>\n",
       "      <td>schedule_and_vp</td>\n",
       "      <td>13.02</td>\n",
       "      <td>E. 14th St. - Mission</td>\n",
       "      <td>10</td>\n",
       "      <td>10 E. 14th St. - Mission</td>\n",
       "      <td>10</td>\n",
       "      <td>aHR0cHM6Ly9hcGkuNTExLm9yZy90cmFuc2l0L2RhdGFmZWVkcz9vcGVyYXRvcl9pZD1BQw==</td>\n",
       "      <td>recOZgevYf7Jimm9L</td>\n",
       "      <td>Alameda-Contra Costa Transit District</td>\n",
       "      <td>04 - Oakland</td>\n",
       "      <td>Eastbound</td>\n",
       "      <td>recJjD8JT53sK302o</td>\n",
       "      <td>Bay Area 511 AC Transit Schedule</td>\n",
       "      <td>100</td>\n",
       "      <td>2</td>\n",
       "      <td>22.90</td>\n",
       "    </tr>\n",
       "    <tr>\n",
       "      <th>533</th>\n",
       "      <td>c499f905e33929a641f083dad55c521e</td>\n",
       "      <td>0.00</td>\n",
       "      <td>offpeak</td>\n",
       "      <td>31.40</td>\n",
       "      <td>3.50</td>\n",
       "      <td>36</td>\n",
       "      <td>1.50</td>\n",
       "      <td>0.00</td>\n",
       "      <td>0.00</td>\n",
       "      <td>0.00</td>\n",
       "      <td>0.00</td>\n",
       "      <td>1.00</td>\n",
       "      <td>0.00</td>\n",
       "      <td>2025-01-15</td>\n",
       "      <td>downtown_local</td>\n",
       "      <td>1752</td>\n",
       "      <td>1727</td>\n",
       "      <td>4546.98</td>\n",
       "      <td>1091.00</td>\n",
       "      <td>4972</td>\n",
       "      <td>4972</td>\n",
       "      <td>0</td>\n",
       "      <td>1</td>\n",
       "      <td>35</td>\n",
       "      <td>36</td>\n",
       "      <td>1.09</td>\n",
       "      <td>100.00</td>\n",
       "      <td>38.00</td>\n",
       "      <td>38.00</td>\n",
       "      <td>100.00</td>\n",
       "      <td>100.00</td>\n",
       "      <td>4.17</td>\n",
       "      <td>126.30</td>\n",
       "      <td>schedule_and_vp</td>\n",
       "      <td>13.70</td>\n",
       "      <td>E. 14th St. - Mission</td>\n",
       "      <td>10</td>\n",
       "      <td>10 E. 14th St. - Mission</td>\n",
       "      <td>10</td>\n",
       "      <td>aHR0cHM6Ly9hcGkuNTExLm9yZy90cmFuc2l0L2RhdGFmZWVkcz9vcGVyYXRvcl9pZD1BQw==</td>\n",
       "      <td>recOZgevYf7Jimm9L</td>\n",
       "      <td>Alameda-Contra Costa Transit District</td>\n",
       "      <td>04 - Oakland</td>\n",
       "      <td>Eastbound</td>\n",
       "      <td>recJjD8JT53sK302o</td>\n",
       "      <td>Bay Area 511 AC Transit Schedule</td>\n",
       "      <td>100</td>\n",
       "      <td>2</td>\n",
       "      <td>40.00</td>\n",
       "    </tr>\n",
       "  </tbody>\n",
       "</table>\n",
       "</div>"
      ],
      "text/plain": [
       "            schedule_gtfs_dataset_key  dir_0_1   Period  \\\n",
       "511  c499f905e33929a641f083dad55c521e     0.00  all_day   \n",
       "533  c499f905e33929a641f083dad55c521e     0.00  offpeak   \n",
       "\n",
       "     Average Scheduled Service (trip minutes)  Average Stop Distance (miles)  \\\n",
       "511                                     31.40                           3.50   \n",
       "533                                     31.40                           3.50   \n",
       "\n",
       "     # scheduled trips  Trips per Hour  is_express  is_rapid  is_rail  \\\n",
       "511                 63            2.62        0.00      0.00     0.00   \n",
       "533                 36            1.50        0.00      0.00     0.00   \n",
       "\n",
       "     is_coverage  is_downtown_local  is_local       Date  Route typology  \\\n",
       "511         0.00               1.00      0.00 2025-01-15  downtown_local   \n",
       "533         0.00               1.00      0.00 2025-01-15  downtown_local   \n",
       "\n",
       "     # Minutes with 1+ VP per Minute  # Minutes with 2+ VP per Minute  \\\n",
       "511                             3130                             3084   \n",
       "533                             1752                             1727   \n",
       "\n",
       "     Aggregate Actual Service Minutes  \\\n",
       "511                           5913.36   \n",
       "533                           4546.98   \n",
       "\n",
       "     Aggregate Scheduled Service Minutes (all trips)  # VP  \\\n",
       "511                                          1978.00  8870   \n",
       "533                                          1091.00  4972   \n",
       "\n",
       "     # VP within Scheduled Shape  # Early Arrival Trips  # On-Time Trips  \\\n",
       "511                         8870                      0                1   \n",
       "533                         4972                      0                1   \n",
       "\n",
       "     # Late Trips  # Trips with VP  Average VP per Minute  \\\n",
       "511            62               63                   1.50   \n",
       "533            35               36                   1.09   \n",
       "\n",
       "     % VP within Scheduled Shape  pct_rt_journey_atleast1_vp  \\\n",
       "511                       100.00                       53.00   \n",
       "533                       100.00                       38.00   \n",
       "\n",
       "     pct_rt_journey_atleast2_vp  % Scheduled Trip w/ 1+ VP/Minute  \\\n",
       "511                       52.00                            100.00   \n",
       "533                       38.00                            100.00   \n",
       "\n",
       "     % Scheduled Trip w/ 2+ VP/Minute  \\\n",
       "511                            100.00   \n",
       "533                            100.00   \n",
       "\n",
       "     Realtime versus Scheduled Service Ratio  \\\n",
       "511                                     2.99   \n",
       "533                                     4.17   \n",
       "\n",
       "     Average Actual Service (Trip Minutes) GTFS Availability  Speed (MPH)  \\\n",
       "511                                  93.86   schedule_and_vp        13.02   \n",
       "533                                 126.30   schedule_and_vp        13.70   \n",
       "\n",
       "           route_long_name route_short_name                     Route  \\\n",
       "511  E. 14th St. - Mission               10  10 E. 14th St. - Mission   \n",
       "533  E. 14th St. - Mission               10  10 E. 14th St. - Mission   \n",
       "\n",
       "    Route ID  \\\n",
       "511       10   \n",
       "533       10   \n",
       "\n",
       "                                                      Base64 Encoded Feed URL  \\\n",
       "511  aHR0cHM6Ly9hcGkuNTExLm9yZy90cmFuc2l0L2RhdGFmZWVkcz9vcGVyYXRvcl9pZD1BQw==   \n",
       "533  aHR0cHM6Ly9hcGkuNTExLm9yZy90cmFuc2l0L2RhdGFmZWVkcz9vcGVyYXRvcl9pZD1BQw==   \n",
       "\n",
       "       Organization ID                           Organization      District  \\\n",
       "511  recOZgevYf7Jimm9L  Alameda-Contra Costa Transit District  04 - Oakland   \n",
       "533  recOZgevYf7Jimm9L  Alameda-Contra Costa Transit District  04 - Oakland   \n",
       "\n",
       "     Direction schedule_source_record_id                  Transit Operator  \\\n",
       "511  Eastbound         recJjD8JT53sK302o  Bay Area 511 AC Transit Schedule   \n",
       "533  Eastbound         recJjD8JT53sK302o  Bay Area 511 AC Transit Schedule   \n",
       "\n",
       "     ruler_100_pct  ruler_for_vp_per_min  headway_in_minutes  \n",
       "511            100                     2               22.90  \n",
       "533            100                     2               40.00  "
      ]
     },
     "execution_count": 26,
     "metadata": {},
     "output_type": "execute_result"
    }
   ],
   "source": [
    "ac_jan_only.head(2)"
   ]
  },
  {
   "cell_type": "code",
   "execution_count": 27,
   "id": "9166ce52-3648-40fb-856b-5c13b9e04a4d",
   "metadata": {
    "tags": []
   },
   "outputs": [
    {
     "data": {
      "text/plain": [
       "all_day    199\n",
       "peak       167\n",
       "offpeak    146\n",
       "Name: Period, dtype: int64"
      ]
     },
     "execution_count": 27,
     "metadata": {},
     "output_type": "execute_result"
    }
   ],
   "source": [
    "ac_jan_only.Period.value_counts()"
   ]
  },
  {
   "cell_type": "markdown",
   "id": "a0e26d2a-7d98-4175-98da-e6995843d424",
   "metadata": {},
   "source": [
    "### Timeliness only has `all_day` values."
   ]
  },
  {
   "cell_type": "code",
   "execution_count": 34,
   "id": "9ed201aa-ef82-43dc-9d89-8c0af3c7d22e",
   "metadata": {
    "tags": []
   },
   "outputs": [],
   "source": [
    "timeliness_test = _section2_utils.timeliness_trips(ac_jan_only)"
   ]
  },
  {
   "cell_type": "code",
   "execution_count": 35,
   "id": "3c35cbb2-b524-4a11-88e2-d1f88f08851d",
   "metadata": {
    "tags": []
   },
   "outputs": [
    {
     "data": {
      "text/html": [
       "<div>\n",
       "<style scoped>\n",
       "    .dataframe tbody tr th:only-of-type {\n",
       "        vertical-align: middle;\n",
       "    }\n",
       "\n",
       "    .dataframe tbody tr th {\n",
       "        vertical-align: top;\n",
       "    }\n",
       "\n",
       "    .dataframe thead th {\n",
       "        text-align: right;\n",
       "    }\n",
       "</style>\n",
       "<table border=\"1\" class=\"dataframe\">\n",
       "  <thead>\n",
       "    <tr style=\"text-align: right;\">\n",
       "      <th></th>\n",
       "      <th>Date</th>\n",
       "      <th>Organization</th>\n",
       "      <th>Route</th>\n",
       "      <th>Period</th>\n",
       "      <th>Direction</th>\n",
       "      <th>dir_0_1</th>\n",
       "      <th>variable</th>\n",
       "      <th>value</th>\n",
       "    </tr>\n",
       "  </thead>\n",
       "  <tbody>\n",
       "    <tr>\n",
       "      <th>0</th>\n",
       "      <td>2025-01-15</td>\n",
       "      <td>Alameda-Contra Costa Transit District</td>\n",
       "      <td>10 E. 14th St. - Mission</td>\n",
       "      <td>offpeak</td>\n",
       "      <td>Eastbound</td>\n",
       "      <td>0.00</td>\n",
       "      <td># Early Arrival Trips</td>\n",
       "      <td>0</td>\n",
       "    </tr>\n",
       "    <tr>\n",
       "      <th>1</th>\n",
       "      <td>2025-01-15</td>\n",
       "      <td>Alameda-Contra Costa Transit District</td>\n",
       "      <td>10 E. 14th St. - Mission</td>\n",
       "      <td>peak</td>\n",
       "      <td>Eastbound</td>\n",
       "      <td>0.00</td>\n",
       "      <td># Early Arrival Trips</td>\n",
       "      <td>0</td>\n",
       "    </tr>\n",
       "  </tbody>\n",
       "</table>\n",
       "</div>"
      ],
      "text/plain": [
       "        Date                           Organization                     Route  \\\n",
       "0 2025-01-15  Alameda-Contra Costa Transit District  10 E. 14th St. - Mission   \n",
       "1 2025-01-15  Alameda-Contra Costa Transit District  10 E. 14th St. - Mission   \n",
       "\n",
       "    Period  Direction  dir_0_1               variable  value  \n",
       "0  offpeak  Eastbound     0.00  # Early Arrival Trips      0  \n",
       "1     peak  Eastbound     0.00  # Early Arrival Trips      0  "
      ]
     },
     "execution_count": 35,
     "metadata": {},
     "output_type": "execute_result"
    }
   ],
   "source": [
    "timeliness_test.head(2)"
   ]
  },
  {
   "cell_type": "code",
   "execution_count": 36,
   "id": "cdc6600e-771f-43be-acae-5f9911157bef",
   "metadata": {
    "tags": []
   },
   "outputs": [
    {
     "data": {
      "text/plain": [
       "array(['2025-01-15T00:00:00.000000000'], dtype='datetime64[ns]')"
      ]
     },
     "execution_count": 36,
     "metadata": {},
     "output_type": "execute_result"
    }
   ],
   "source": [
    "timeliness_test.Date.unique()"
   ]
  },
  {
   "cell_type": "code",
   "execution_count": 37,
   "id": "d3b17a6f-1520-4c2d-96a5-49006a171fcb",
   "metadata": {
    "tags": []
   },
   "outputs": [],
   "source": [
    "timeliness_to_keep = [\n",
    "    \"Date\",\n",
    "    \"Organization\",\n",
    "    \"Direction\",\n",
    "    \"Period\",\n",
    "    \"Route\",\n",
    "    \"# Early Arrival Trips\",\n",
    "    \"# On-Time Trips\",\n",
    "    \"# Late Trips\",\n",
    "    \"dir_0_1\",\n",
    "]"
   ]
  },
  {
   "cell_type": "code",
   "execution_count": 39,
   "id": "766c2d9d-d9e5-4b07-93c6-c57b582fb9a7",
   "metadata": {
    "scrolled": true,
    "tags": []
   },
   "outputs": [
    {
     "data": {
      "text/html": [
       "<div>\n",
       "<style scoped>\n",
       "    .dataframe tbody tr th:only-of-type {\n",
       "        vertical-align: middle;\n",
       "    }\n",
       "\n",
       "    .dataframe tbody tr th {\n",
       "        vertical-align: top;\n",
       "    }\n",
       "\n",
       "    .dataframe thead th {\n",
       "        text-align: right;\n",
       "    }\n",
       "</style>\n",
       "<table border=\"1\" class=\"dataframe\">\n",
       "  <thead>\n",
       "    <tr style=\"text-align: right;\">\n",
       "      <th></th>\n",
       "      <th>Date</th>\n",
       "      <th>Organization</th>\n",
       "      <th>Direction</th>\n",
       "      <th>Period</th>\n",
       "      <th>Route</th>\n",
       "      <th># Early Arrival Trips</th>\n",
       "      <th># On-Time Trips</th>\n",
       "      <th># Late Trips</th>\n",
       "      <th>dir_0_1</th>\n",
       "    </tr>\n",
       "  </thead>\n",
       "  <tbody>\n",
       "    <tr>\n",
       "      <th>511</th>\n",
       "      <td>2025-01-15</td>\n",
       "      <td>Alameda-Contra Costa Transit District</td>\n",
       "      <td>Eastbound</td>\n",
       "      <td>all_day</td>\n",
       "      <td>10 E. 14th St. - Mission</td>\n",
       "      <td>0</td>\n",
       "      <td>1</td>\n",
       "      <td>62</td>\n",
       "      <td>0.00</td>\n",
       "    </tr>\n",
       "    <tr>\n",
       "      <th>533</th>\n",
       "      <td>2025-01-15</td>\n",
       "      <td>Alameda-Contra Costa Transit District</td>\n",
       "      <td>Eastbound</td>\n",
       "      <td>offpeak</td>\n",
       "      <td>10 E. 14th St. - Mission</td>\n",
       "      <td>0</td>\n",
       "      <td>1</td>\n",
       "      <td>35</td>\n",
       "      <td>0.00</td>\n",
       "    </tr>\n",
       "    <tr>\n",
       "      <th>555</th>\n",
       "      <td>2025-01-15</td>\n",
       "      <td>Alameda-Contra Costa Transit District</td>\n",
       "      <td>Eastbound</td>\n",
       "      <td>peak</td>\n",
       "      <td>10 E. 14th St. - Mission</td>\n",
       "      <td>0</td>\n",
       "      <td>0</td>\n",
       "      <td>27</td>\n",
       "      <td>0.00</td>\n",
       "    </tr>\n",
       "    <tr>\n",
       "      <th>577</th>\n",
       "      <td>2025-01-15</td>\n",
       "      <td>Alameda-Contra Costa Transit District</td>\n",
       "      <td>Westbound</td>\n",
       "      <td>all_day</td>\n",
       "      <td>10 E. 14th St. - Mission</td>\n",
       "      <td>0</td>\n",
       "      <td>5</td>\n",
       "      <td>61</td>\n",
       "      <td>1.00</td>\n",
       "    </tr>\n",
       "    <tr>\n",
       "      <th>599</th>\n",
       "      <td>2025-01-15</td>\n",
       "      <td>Alameda-Contra Costa Transit District</td>\n",
       "      <td>Westbound</td>\n",
       "      <td>offpeak</td>\n",
       "      <td>10 E. 14th St. - Mission</td>\n",
       "      <td>0</td>\n",
       "      <td>4</td>\n",
       "      <td>35</td>\n",
       "      <td>1.00</td>\n",
       "    </tr>\n",
       "    <tr>\n",
       "      <th>621</th>\n",
       "      <td>2025-01-15</td>\n",
       "      <td>Alameda-Contra Costa Transit District</td>\n",
       "      <td>Westbound</td>\n",
       "      <td>peak</td>\n",
       "      <td>10 E. 14th St. - Mission</td>\n",
       "      <td>0</td>\n",
       "      <td>1</td>\n",
       "      <td>26</td>\n",
       "      <td>1.00</td>\n",
       "    </tr>\n",
       "    <tr>\n",
       "      <th>643</th>\n",
       "      <td>2025-01-15</td>\n",
       "      <td>Alameda-Contra Costa Transit District</td>\n",
       "      <td>Southbound</td>\n",
       "      <td>all_day</td>\n",
       "      <td>12 MLK Jr. - Temescal - Grand</td>\n",
       "      <td>3</td>\n",
       "      <td>3</td>\n",
       "      <td>39</td>\n",
       "      <td>0.00</td>\n",
       "    </tr>\n",
       "    <tr>\n",
       "      <th>665</th>\n",
       "      <td>2025-01-15</td>\n",
       "      <td>Alameda-Contra Costa Transit District</td>\n",
       "      <td>Southbound</td>\n",
       "      <td>offpeak</td>\n",
       "      <td>12 MLK Jr. - Temescal - Grand</td>\n",
       "      <td>1</td>\n",
       "      <td>2</td>\n",
       "      <td>22</td>\n",
       "      <td>0.00</td>\n",
       "    </tr>\n",
       "    <tr>\n",
       "      <th>687</th>\n",
       "      <td>2025-01-15</td>\n",
       "      <td>Alameda-Contra Costa Transit District</td>\n",
       "      <td>Southbound</td>\n",
       "      <td>peak</td>\n",
       "      <td>12 MLK Jr. - Temescal - Grand</td>\n",
       "      <td>2</td>\n",
       "      <td>1</td>\n",
       "      <td>17</td>\n",
       "      <td>0.00</td>\n",
       "    </tr>\n",
       "    <tr>\n",
       "      <th>709</th>\n",
       "      <td>2025-01-15</td>\n",
       "      <td>Alameda-Contra Costa Transit District</td>\n",
       "      <td>Northbound</td>\n",
       "      <td>all_day</td>\n",
       "      <td>12 MLK Jr. - Temescal - Grand</td>\n",
       "      <td>4</td>\n",
       "      <td>17</td>\n",
       "      <td>24</td>\n",
       "      <td>1.00</td>\n",
       "    </tr>\n",
       "  </tbody>\n",
       "</table>\n",
       "</div>"
      ],
      "text/plain": [
       "          Date                           Organization   Direction   Period  \\\n",
       "511 2025-01-15  Alameda-Contra Costa Transit District   Eastbound  all_day   \n",
       "533 2025-01-15  Alameda-Contra Costa Transit District   Eastbound  offpeak   \n",
       "555 2025-01-15  Alameda-Contra Costa Transit District   Eastbound     peak   \n",
       "577 2025-01-15  Alameda-Contra Costa Transit District   Westbound  all_day   \n",
       "599 2025-01-15  Alameda-Contra Costa Transit District   Westbound  offpeak   \n",
       "621 2025-01-15  Alameda-Contra Costa Transit District   Westbound     peak   \n",
       "643 2025-01-15  Alameda-Contra Costa Transit District  Southbound  all_day   \n",
       "665 2025-01-15  Alameda-Contra Costa Transit District  Southbound  offpeak   \n",
       "687 2025-01-15  Alameda-Contra Costa Transit District  Southbound     peak   \n",
       "709 2025-01-15  Alameda-Contra Costa Transit District  Northbound  all_day   \n",
       "\n",
       "                             Route  # Early Arrival Trips  # On-Time Trips  \\\n",
       "511       10 E. 14th St. - Mission                      0                1   \n",
       "533       10 E. 14th St. - Mission                      0                1   \n",
       "555       10 E. 14th St. - Mission                      0                0   \n",
       "577       10 E. 14th St. - Mission                      0                5   \n",
       "599       10 E. 14th St. - Mission                      0                4   \n",
       "621       10 E. 14th St. - Mission                      0                1   \n",
       "643  12 MLK Jr. - Temescal - Grand                      3                3   \n",
       "665  12 MLK Jr. - Temescal - Grand                      1                2   \n",
       "687  12 MLK Jr. - Temescal - Grand                      2                1   \n",
       "709  12 MLK Jr. - Temescal - Grand                      4               17   \n",
       "\n",
       "     # Late Trips  dir_0_1  \n",
       "511            62     0.00  \n",
       "533            35     0.00  \n",
       "555            27     0.00  \n",
       "577            61     1.00  \n",
       "599            35     1.00  \n",
       "621            26     1.00  \n",
       "643            39     0.00  \n",
       "665            22     0.00  \n",
       "687            17     0.00  \n",
       "709            24     1.00  "
      ]
     },
     "execution_count": 39,
     "metadata": {},
     "output_type": "execute_result"
    }
   ],
   "source": [
    "ac_jan_only[timeliness_to_keep].head(10)"
   ]
  },
  {
   "cell_type": "code",
   "execution_count": 41,
   "id": "494fd146-e456-4ed2-bf8b-daf1bcd3a801",
   "metadata": {
    "tags": []
   },
   "outputs": [
    {
     "data": {
      "text/plain": [
       "all_day    199\n",
       "peak       167\n",
       "offpeak    146\n",
       "Name: Period, dtype: int64"
      ]
     },
     "execution_count": 41,
     "metadata": {},
     "output_type": "execute_result"
    }
   ],
   "source": [
    "ac_jan_only.Period.value_counts()"
   ]
  },
  {
   "cell_type": "markdown",
   "id": "ffc36373-a1fa-4f0b-9eca-601f499ace77",
   "metadata": {},
   "source": [
    "### Timeliness metrics is located in `rt_segment_speeds/segment_speed_utils/metrics.py`"
   ]
  },
  {
   "cell_type": "code",
   "execution_count": null,
   "id": "1187b4a2-10b8-428d-a097-d8818344567b",
   "metadata": {},
   "outputs": [],
   "source": []
  },
  {
   "cell_type": "markdown",
   "id": "78bf3f50-21dd-4148-9893-69469ad8e03d",
   "metadata": {},
   "source": [
    "### None of the \"route identifiers\" are showing up for January 2025"
   ]
  },
  {
   "cell_type": "code",
   "execution_count": 42,
   "id": "06f84d53-c25e-4638-8724-7e373fa3d21f",
   "metadata": {
    "tags": []
   },
   "outputs": [
    {
     "ename": "NameError",
     "evalue": "name 'df' is not defined",
     "output_type": "error",
     "traceback": [
      "\u001b[0;31m---------------------------------------------------------------------------\u001b[0m",
      "\u001b[0;31mNameError\u001b[0m                                 Traceback (most recent call last)",
      "Cell \u001b[0;32mIn[42], line 1\u001b[0m\n\u001b[0;32m----> 1\u001b[0m \u001b[43mdf\u001b[49m\u001b[38;5;241m.\u001b[39mloc[df\u001b[38;5;241m.\u001b[39mservice_date \u001b[38;5;241m==\u001b[39m \u001b[38;5;124m\"\u001b[39m\u001b[38;5;124m2025-01-15T00:00:00.000000000\u001b[39m\u001b[38;5;124m\"\u001b[39m]\u001b[38;5;241m.\u001b[39mhead()\n",
      "\u001b[0;31mNameError\u001b[0m: name 'df' is not defined"
     ]
    }
   ],
   "source": [
    "df.loc[df.service_date == \"2025-01-15T00:00:00.000000000\"].head()"
   ]
  },
  {
   "cell_type": "code",
   "execution_count": null,
   "id": "2ce0f84f-4ee0-44e5-a3f7-b543995a939a",
   "metadata": {
    "tags": []
   },
   "outputs": [],
   "source": [
    "df.columns"
   ]
  },
  {
   "cell_type": "code",
   "execution_count": null,
   "id": "8a72fa76-c6da-4639-ab4c-9b477d07d8ca",
   "metadata": {
    "tags": []
   },
   "outputs": [],
   "source": [
    "df_test.info()"
   ]
  },
  {
   "cell_type": "code",
   "execution_count": null,
   "id": "fc61bfff-7f43-4ce2-a5f6-30fe335d4008",
   "metadata": {
    "tags": []
   },
   "outputs": [],
   "source": [
    "df_test.route_id = df_test.route_id.fillna(\"No Route Name\")"
   ]
  },
  {
   "cell_type": "code",
   "execution_count": null,
   "id": "27e82cd3-a2bb-4005-ac5b-a1faf7f80028",
   "metadata": {
    "tags": []
   },
   "outputs": [],
   "source": [
    "df_test.columns"
   ]
  },
  {
   "cell_type": "code",
   "execution_count": null,
   "id": "87757b23-fb1e-4173-bafc-2441f686b74f",
   "metadata": {
    "tags": []
   },
   "outputs": [],
   "source": [
    "df_test.service_date.unique()"
   ]
  },
  {
   "cell_type": "code",
   "execution_count": null,
   "id": "ac1436e6-f85a-42ef-8624-19404f9dd80e",
   "metadata": {
    "tags": []
   },
   "outputs": [],
   "source": [
    "df_test.loc[\n",
    "    (df_test.organization_name == \"Monterey-Salinas Transit\")\n",
    "    & (df_test.service_date == \"2025-01-15T00:00:00.000000000\")\n",
    "][[\"route_id\"]].nunique()"
   ]
  },
  {
   "cell_type": "code",
   "execution_count": null,
   "id": "8383df94-7661-4d3d-935b-13a66d213f49",
   "metadata": {
    "tags": []
   },
   "outputs": [],
   "source": [
    "# Define a function to highlight the string \"No Route Name\" in red\n",
    "def highlight_no_route_name(val):\n",
    "    color = \"red\" if val == \"No Route Name\" else \"\"\n",
    "    return f\"color: white; background-color: {color}\" if color else \"\""
   ]
  },
  {
   "cell_type": "code",
   "execution_count": null,
   "id": "12c7aaa2-866e-480e-b16e-170256c73538",
   "metadata": {
    "tags": []
   },
   "outputs": [],
   "source": [
    "january_only = df_test.loc[(df_test.service_date == \"2025-01-15T00:00:00.000000000\")]"
   ]
  },
  {
   "cell_type": "code",
   "execution_count": null,
   "id": "fc6fe28a-9b7a-4906-9994-6adbc0830df3",
   "metadata": {
    "scrolled": true,
    "tags": []
   },
   "outputs": [],
   "source": [
    "no_route_names = (\n",
    "    january_only.groupby([\"schedule_gtfs_dataset_key\", \"organization_name\", \"route_id\"])\n",
    "    .agg({\"direction_id\": \"count\"})\n",
    "    .reset_index()\n",
    ")"
   ]
  },
  {
   "cell_type": "code",
   "execution_count": null,
   "id": "546e1378-820a-4bb2-8af1-79b81126da4f",
   "metadata": {
    "scrolled": true,
    "tags": []
   },
   "outputs": [],
   "source": [
    "# Apply the highlighting function to the 'Route Name' column\n",
    "no_route_names.style.applymap(highlight_no_route_name, subset=[\"route_id\"])"
   ]
  },
  {
   "cell_type": "markdown",
   "id": "39cbd5d8-077f-4b38-b039-80dc3a77a36d",
   "metadata": {},
   "source": [
    "### Test: removing `name` from the `merge` with `df_crosswalk` in line 259 in `gtfs_digest/merge_data`"
   ]
  },
  {
   "cell_type": "markdown",
   "id": "8d6274f3-c7b4-463a-a1ba-eacb7d240eb7",
   "metadata": {
    "tags": []
   },
   "source": [
    "### Find out where it's not merging"
   ]
  },
  {
   "cell_type": "code",
   "execution_count": null,
   "id": "982dcb61-3f49-42ec-af70-5718cea29799",
   "metadata": {
    "tags": []
   },
   "outputs": [],
   "source": [
    "df_sched = merge_data.concatenate_schedule_by_route_direction(analysis_date_list)"
   ]
  },
  {
   "cell_type": "code",
   "execution_count": null,
   "id": "f25682e2-e4c8-461e-860d-9700198275c3",
   "metadata": {
    "tags": []
   },
   "outputs": [],
   "source": [
    "df_sched.service_date.unique()"
   ]
  },
  {
   "cell_type": "code",
   "execution_count": null,
   "id": "c13305e1-9807-45fb-ada3-f30c917e7aac",
   "metadata": {
    "tags": []
   },
   "outputs": [],
   "source": [
    "df_sched.loc[df_sched.service_date == \"2025-01-15T00:00:00.000000000\"].head(2)"
   ]
  },
  {
   "cell_type": "code",
   "execution_count": null,
   "id": "1c8fb2d8-b890-4364-ab29-fc4d34895428",
   "metadata": {
    "tags": []
   },
   "outputs": [],
   "source": [
    "df_avg_speeds = merge_data.concatenate_speeds_by_route_direction(analysis_date_list)"
   ]
  },
  {
   "cell_type": "code",
   "execution_count": null,
   "id": "cb0e773b-0c8d-4ffe-b288-2be2c7653c6f",
   "metadata": {
    "tags": []
   },
   "outputs": [],
   "source": [
    "df_avg_speeds.loc[df_avg_speeds.service_date == \"2025-01-15T00:00:00.000000000\"].head(2)"
   ]
  },
  {
   "cell_type": "code",
   "execution_count": null,
   "id": "2d53e2eb-98e3-4f48-8dfa-0286167f476d",
   "metadata": {
    "tags": []
   },
   "outputs": [],
   "source": [
    "df_rt_sched = merge_data.concatenate_rt_vs_schedule_by_route_direction(\n",
    "    analysis_date_list\n",
    ")"
   ]
  },
  {
   "cell_type": "code",
   "execution_count": null,
   "id": "903e23be-a52f-41fa-bafa-18ac053141a4",
   "metadata": {
    "tags": []
   },
   "outputs": [],
   "source": [
    "df_rt_sched.loc[df_rt_sched.service_date == \"2025-01-15T00:00:00.000000000\"].head(2)"
   ]
  },
  {
   "cell_type": "code",
   "execution_count": null,
   "id": "29afbd3f-69e6-4411-82b8-94031c2da42a",
   "metadata": {
    "tags": []
   },
   "outputs": [],
   "source": [
    "df_crosswalk = merge_data.concatenate_crosswalk_organization(analysis_date_list)"
   ]
  },
  {
   "cell_type": "code",
   "execution_count": null,
   "id": "44d9d88d-7904-45e6-9900-c00826b5e83c",
   "metadata": {
    "tags": []
   },
   "outputs": [],
   "source": [
    "df_crosswalk.loc[df_crosswalk.service_date == \"2025-01-15T00:00:00.000000000\"].head(2)"
   ]
  },
  {
   "cell_type": "code",
   "execution_count": null,
   "id": "594a0b89-a4c1-4543-9596-8feb94d27625",
   "metadata": {
    "tags": []
   },
   "outputs": [],
   "source": [
    "primary_typology = merge_data.set_primary_typology(df_sched)"
   ]
  },
  {
   "cell_type": "code",
   "execution_count": null,
   "id": "493ddd07-27ab-4660-9477-5037a232e0e7",
   "metadata": {
    "tags": []
   },
   "outputs": [],
   "source": [
    "primary_typology.head(2)"
   ]
  },
  {
   "cell_type": "code",
   "execution_count": null,
   "id": "265d534d-f016-4f2c-bfc4-18962278373f",
   "metadata": {
    "tags": []
   },
   "outputs": [],
   "source": [
    "df_schedule2 = pd.merge(\n",
    "    df_sched, primary_typology, on=merge_data.route_time_cols, how=\"left\"\n",
    ")"
   ]
  },
  {
   "cell_type": "code",
   "execution_count": null,
   "id": "a2d72f6e-320e-45db-8138-cff2b9b5a4ec",
   "metadata": {
    "tags": []
   },
   "outputs": [],
   "source": [
    "df_schedule2.loc[df_schedule2.service_date == \"2025-01-15T00:00:00.000000000\"].head(2)"
   ]
  },
  {
   "cell_type": "code",
   "execution_count": null,
   "id": "d773f22d-7f80-41fe-8aa2-a826cac98ed9",
   "metadata": {
    "tags": []
   },
   "outputs": [],
   "source": [
    "df1 = pd.merge(\n",
    "    df_schedule2,\n",
    "    df_rt_sched,\n",
    "    on=merge_data.route_time_cols + [\"service_date\"],\n",
    "    how=\"outer\",\n",
    "    indicator=\"sched_rt_category\",\n",
    ").merge(\n",
    "    df_avg_speeds,\n",
    "    on=merge_data.route_time_cols + [\"service_date\"],\n",
    "    how=\"outer\",\n",
    ")"
   ]
  },
  {
   "cell_type": "code",
   "execution_count": null,
   "id": "aab97470-b59f-4d50-8a9c-2c1e0d24ff09",
   "metadata": {
    "tags": []
   },
   "outputs": [],
   "source": [
    "df1.loc[df.service_date == \"2025-01-15T00:00:00.000000000\"].head(2)"
   ]
  },
  {
   "cell_type": "code",
   "execution_count": null,
   "id": "364ce677-c441-479f-af96-0da0fe83ccfc",
   "metadata": {
    "tags": []
   },
   "outputs": [],
   "source": [
    "df1.info()"
   ]
  },
  {
   "cell_type": "code",
   "execution_count": null,
   "id": "9a1f69f7-97b6-494c-9edd-881913b667f7",
   "metadata": {
    "tags": []
   },
   "outputs": [],
   "source": [
    "df1.sched_rt_category.unique()"
   ]
  },
  {
   "cell_type": "code",
   "execution_count": null,
   "id": "aa1abf3d-0a00-4b4f-a270-48372b3ddd13",
   "metadata": {
    "tags": []
   },
   "outputs": [],
   "source": [
    "df_wo_standardized_route = df1.assign(\n",
    "    sched_rt_category=df1.sched_rt_category.map(\n",
    "        gtfs_schedule_wrangling.sched_rt_category_dict\n",
    "    )\n",
    ")"
   ]
  },
  {
   "cell_type": "code",
   "execution_count": null,
   "id": "b82dcc50-76b2-4bea-80ba-54530e9edab5",
   "metadata": {
    "tags": []
   },
   "outputs": [],
   "source": [
    "df_w_standardized_route = df_wo_standardized_route.pipe(\n",
    "    merge_data.merge_in_standardized_route_names,\n",
    ")"
   ]
  },
  {
   "cell_type": "code",
   "execution_count": null,
   "id": "5b81ae6d-3592-46a7-bbb3-91531200073d",
   "metadata": {
    "tags": []
   },
   "outputs": [],
   "source": [
    "df_w_standardized_route.info()"
   ]
  },
  {
   "cell_type": "markdown",
   "id": "296be89d-5179-4cae-9e7e-1f3407f6a427",
   "metadata": {},
   "source": [
    "#### `merge_in_standardized_route_names` isn't working\n",
    "* `route_names_df` doesn't have any values for January 2025.\n",
    "* Rerun `gtfs_funnel/clean_route_naming.py`"
   ]
  },
  {
   "cell_type": "code",
   "execution_count": null,
   "id": "35805e95-8ad9-4e5a-b683-921aa57d27b9",
   "metadata": {
    "tags": []
   },
   "outputs": [],
   "source": [
    "keep_cols = [\n",
    "    \"schedule_gtfs_dataset_key\",\n",
    "    \"name\",\n",
    "    \"route_id\",\n",
    "    \"service_date\",\n",
    "]\n",
    "\n",
    "CLEAN_ROUTES = GTFS_DATA_DICT.schedule_tables.route_identification\n",
    "\n",
    "route_names_df = pd.read_parquet(f\"{SCHED_GCS}{CLEAN_ROUTES}.parquet\")"
   ]
  },
  {
   "cell_type": "code",
   "execution_count": null,
   "id": "dba4d849-e152-405d-b36d-bfbaaf7368e4",
   "metadata": {
    "tags": []
   },
   "outputs": [],
   "source": [
    "route_names_df.info()"
   ]
  },
  {
   "cell_type": "code",
   "execution_count": null,
   "id": "bccdfbc9-c5b0-4855-b37c-1c5a960cd1fa",
   "metadata": {
    "tags": []
   },
   "outputs": [],
   "source": [
    "route_names_df.service_date.unique()"
   ]
  },
  {
   "cell_type": "code",
   "execution_count": null,
   "id": "fe9695ca-52c7-450b-94be-5b98b19811f7",
   "metadata": {
    "tags": []
   },
   "outputs": [],
   "source": [
    "from segment_speed_utils import gtfs_schedule_wrangling, time_series_utils"
   ]
  },
  {
   "cell_type": "code",
   "execution_count": null,
   "id": "519a8758-66c9-455e-b2a2-fad9bf15fa3c",
   "metadata": {
    "tags": []
   },
   "outputs": [],
   "source": [
    "route_names_df = time_series_utils.clean_standardized_route_names(\n",
    "    route_names_df\n",
    ").drop_duplicates()"
   ]
  },
  {
   "cell_type": "code",
   "execution_count": null,
   "id": "d86094a1-93f9-472e-88f9-9d926c6c0b00",
   "metadata": {
    "tags": []
   },
   "outputs": [],
   "source": [
    "route_names_df.head(2)"
   ]
  },
  {
   "cell_type": "code",
   "execution_count": null,
   "id": "135a41f3-c895-47ab-89ee-9ed45b718467",
   "metadata": {
    "tags": []
   },
   "outputs": [],
   "source": [
    "route_names_df.service_date.unique()"
   ]
  },
  {
   "cell_type": "code",
   "execution_count": null,
   "id": "98f98388-4051-4221-b1ca-12369e6d71d7",
   "metadata": {
    "tags": []
   },
   "outputs": [],
   "source": [
    "if \"name\" in df_wo_standardized_route.columns:\n",
    "    df_wo_standardized_route = df.drop(columns=\"name\")"
   ]
  }
 ],
 "metadata": {
  "kernelspec": {
   "display_name": "Python 3 (ipykernel)",
   "language": "python",
   "name": "python3"
  },
  "language_info": {
   "codemirror_mode": {
    "name": "ipython",
    "version": 3
   },
   "file_extension": ".py",
   "mimetype": "text/x-python",
   "name": "python",
   "nbconvert_exporter": "python",
   "pygments_lexer": "ipython3",
   "version": "3.11.6"
  }
 },
 "nbformat": 4,
 "nbformat_minor": 5
}
