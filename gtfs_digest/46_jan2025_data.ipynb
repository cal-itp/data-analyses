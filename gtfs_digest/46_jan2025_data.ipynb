{
 "cells": [
  {
   "cell_type": "markdown",
   "id": "9ace2ec9-fd55-4d2a-9048-e3a91fbd345c",
   "metadata": {},
   "source": [
    "## Where is January 2025 data?"
   ]
  },
  {
   "cell_type": "code",
   "execution_count": 2,
   "id": "dbf25599-c72f-4649-a49a-4bd665a32c58",
   "metadata": {
    "tags": []
   },
   "outputs": [],
   "source": [
    "# import _section1_utils\n",
    "# import _section2_utils\n",
    "import geopandas as gpd\n",
    "# import merge_data\n",
    "import numpy as np\n",
    "import pandas as pd\n",
    "# from segment_speed_utils import gtfs_schedule_wrangling\n",
    "# from shared_utils import rt_dates\n",
    "# from update_vars import GTFS_DATA_DICT, RT_SCHED_GCS, SCHED_GCS, SEGMENT_GCS"
   ]
  },
  {
   "cell_type": "code",
   "execution_count": null,
   "id": "1842da05-dca4-4ecb-9005-4f3181eba1e2",
   "metadata": {
    "tags": []
   },
   "outputs": [],
   "source": [
    "pd.options.display.max_columns = 100\n",
    "pd.options.display.float_format = \"{:.2f}\".format\n",
    "pd.set_option(\"display.max_rows\", None)\n",
    "pd.set_option(\"display.max_colwidth\", None)"
   ]
  },
  {
   "cell_type": "code",
   "execution_count": null,
   "id": "8a4c538d-d576-44b7-b3cb-a8cb5f742120",
   "metadata": {
    "tags": []
   },
   "outputs": [],
   "source": [
    "analysis_date_list = rt_dates.y2025_dates"
   ]
  },
  {
   "cell_type": "code",
   "execution_count": null,
   "id": "c6a1785c-8d1d-4bc9-b7fb-6a804abcb1d5",
   "metadata": {
    "tags": []
   },
   "outputs": [],
   "source": [
    "analysis_date_list_all = (\n",
    "    rt_dates.y2024_dates + rt_dates.y2023_dates + rt_dates.y2025_dates\n",
    ")"
   ]
  },
  {
   "cell_type": "code",
   "execution_count": null,
   "id": "9033761f-1100-49b5-8a6e-e628a27f3ee0",
   "metadata": {
    "tags": []
   },
   "outputs": [],
   "source": [
    "schd_vp_url = f\"{GTFS_DATA_DICT.digest_tables.dir}{GTFS_DATA_DICT.digest_tables.route_schedule_vp}.parquet\""
   ]
  },
  {
   "cell_type": "code",
   "execution_count": null,
   "id": "36e66e70-a7bd-4128-997e-399a9a8ac7cc",
   "metadata": {
    "tags": []
   },
   "outputs": [],
   "source": [
    "og_df = pd.read_parquet(schd_vp_url)"
   ]
  },
  {
   "cell_type": "code",
   "execution_count": null,
   "id": "45558a42-475a-4240-9704-23d3d2ce7b7c",
   "metadata": {
    "tags": []
   },
   "outputs": [],
   "source": [
    "og_df.columns"
   ]
  },
  {
   "cell_type": "code",
   "execution_count": null,
   "id": "23aa9808-b473-468e-996f-80a5ebc3de19",
   "metadata": {
    "tags": []
   },
   "outputs": [],
   "source": [
    "all_ops_jan_only = og_df.loc[og_df.service_date == \"2025-01-15T00:00:00.000000000\"]"
   ]
  },
  {
   "cell_type": "code",
   "execution_count": null,
   "id": "b44b4448-c663-468c-9a15-25f87a3d5470",
   "metadata": {
    "tags": []
   },
   "outputs": [],
   "source": [
    "all_ops_jan_only.service_date.unique()"
   ]
  },
  {
   "cell_type": "code",
   "execution_count": null,
   "id": "53ef6c23-271e-4e33-bb7b-9fda6bb3430c",
   "metadata": {
    "tags": []
   },
   "outputs": [],
   "source": [
    "all_ops_jan_only.time_period.value_counts()"
   ]
  },
  {
   "cell_type": "code",
   "execution_count": null,
   "id": "9f9a1992-0c2b-4e94-9eaf-e288b9b2a9a0",
   "metadata": {
    "tags": []
   },
   "outputs": [],
   "source": [
    "all_ops_jan_only[\n",
    "    [\n",
    "        \"organization_name\",\n",
    "        \"route_id\",\n",
    "        \"time_period\",\n",
    "        \"is_early\",\n",
    "        \"is_ontime\",\n",
    "        \"is_late\",\n",
    "    ]\n",
    "].sample(10)"
   ]
  },
  {
   "cell_type": "markdown",
   "id": "8955557e-710c-4187-931f-81674847cacd",
   "metadata": {},
   "source": [
    "### In the original dataframe, not loaded using the function in  `_merge_data.section_2_utils()` there are peak/offpeak values in `time_period`\n",
    "* There should only be 6 rows for each route (ideally)\n",
    "* Dir 1: all day, peak, offpeak\n",
    "* Dir 0: all day, peak, offpeak."
   ]
  },
  {
   "cell_type": "code",
   "execution_count": null,
   "id": "03741ed8-a0a1-4f7a-8a80-40786b53a778",
   "metadata": {
    "tags": []
   },
   "outputs": [],
   "source": [
    "ac_transit_og_one_route = all_ops_jan_only.loc[\n",
    "    (all_ops_jan_only.organization_name == \"Alameda-Contra Costa Transit District\")\n",
    "    & (all_ops_jan_only.route_id == \"200\")\n",
    "]"
   ]
  },
  {
   "cell_type": "code",
   "execution_count": null,
   "id": "52fdf9a5-5097-4025-b6fa-043a16894c7e",
   "metadata": {
    "tags": []
   },
   "outputs": [],
   "source": [
    "ac_transit_og_one_route.shape"
   ]
  },
  {
   "cell_type": "code",
   "execution_count": null,
   "id": "9b36f2f0-ebe0-4246-ab02-2af76919ffa2",
   "metadata": {
    "tags": []
   },
   "outputs": [],
   "source": [
    "ac_transit_og_one_route.head(2)"
   ]
  },
  {
   "cell_type": "code",
   "execution_count": null,
   "id": "cfbb6e20-4877-4b97-9436-38a168974c75",
   "metadata": {
    "tags": []
   },
   "outputs": [],
   "source": [
    "ac_transit_og_one_route.time_period.value_counts()"
   ]
  },
  {
   "cell_type": "code",
   "execution_count": null,
   "id": "6804c5a7-64d9-4528-9b41-f9c23dde87b1",
   "metadata": {
    "tags": []
   },
   "outputs": [],
   "source": [
    "ac_transit_og_one_route.sched_rt_category.unique()"
   ]
  },
  {
   "cell_type": "code",
   "execution_count": null,
   "id": "56afefcf-35fb-4bb9-ad37-a2c22ab325bc",
   "metadata": {
    "tags": []
   },
   "outputs": [],
   "source": [
    "ac_transit_og_one_route.columns"
   ]
  },
  {
   "cell_type": "code",
   "execution_count": null,
   "id": "a09512c1-865b-4af2-b74d-4fe04c0324f9",
   "metadata": {
    "tags": []
   },
   "outputs": [],
   "source": [
    "all_ops_jan_only.loc[\n",
    "    (all_ops_jan_only.organization_name == \"City and County of San Francisco\")].route_id.unique()"
   ]
  },
  {
   "cell_type": "code",
   "execution_count": null,
   "id": "87052cf6-0a9c-4d3a-99e2-0a1fa71ce707",
   "metadata": {
    "tags": []
   },
   "outputs": [],
   "source": [
    "sf_og_one_route = all_ops_jan_only.loc[\n",
    "    (all_ops_jan_only.organization_name == \"City and County of San Francisco\")\n",
    "    & (all_ops_jan_only.route_id == \"22\")\n",
    "]"
   ]
  },
  {
   "cell_type": "code",
   "execution_count": null,
   "id": "661c174e-df00-4af2-ad0a-3f3133587511",
   "metadata": {
    "tags": []
   },
   "outputs": [],
   "source": [
    "sf_og_one_route.head(1)"
   ]
  },
  {
   "cell_type": "code",
   "execution_count": null,
   "id": "b4434344-dadc-44d0-9976-191b3d6f4cf1",
   "metadata": {
    "tags": []
   },
   "outputs": [],
   "source": [
    "sf_og_one_route[[\"sched_rt_category\",\"time_period\"]]"
   ]
  },
  {
   "cell_type": "markdown",
   "id": "102cd543-fb44-44e4-bd5b-2cab9e149a4d",
   "metadata": {},
   "source": [
    "### Something has gone wrong with the merges that I fixed awhile back."
   ]
  },
  {
   "cell_type": "code",
   "execution_count": null,
   "id": "3901d142-c696-4892-aa6d-c59f56b403a9",
   "metadata": {
    "tags": []
   },
   "outputs": [],
   "source": [
    "ac_transit_og_one_route[[\"sched_rt_category\", \"time_period\"]]"
   ]
  },
  {
   "cell_type": "code",
   "execution_count": null,
   "id": "56c4b5f4-4dee-49aa-98ab-88645830792d",
   "metadata": {
    "tags": []
   },
   "outputs": [],
   "source": [
    "ac_transitonly = _section2_utils.load_schedule_vp_metrics(\n",
    "    \"Alameda-Contra Costa Transit District\"\n",
    ")"
   ]
  },
  {
   "cell_type": "code",
   "execution_count": null,
   "id": "8507053b-7816-4c1f-bd47-950f434fd573",
   "metadata": {
    "tags": []
   },
   "outputs": [],
   "source": [
    "ac_jan_only = ac_transitonly.loc[ac_transitonly.Date == \"2025-01-15T00:00:00.000000000\"]"
   ]
  },
  {
   "cell_type": "code",
   "execution_count": null,
   "id": "0e2f186f-219c-477f-867a-0c4d07a6713f",
   "metadata": {
    "tags": []
   },
   "outputs": [],
   "source": [
    "ac_jan_only.head(2)"
   ]
  },
  {
   "cell_type": "code",
   "execution_count": null,
   "id": "9166ce52-3648-40fb-856b-5c13b9e04a4d",
   "metadata": {
    "tags": []
   },
   "outputs": [],
   "source": [
    "ac_jan_only.Period.value_counts()"
   ]
  },
  {
   "cell_type": "markdown",
   "id": "a0e26d2a-7d98-4175-98da-e6995843d424",
   "metadata": {},
   "source": [
    "### Timeliness only has `all_day` values."
   ]
  },
  {
   "cell_type": "code",
   "execution_count": null,
   "id": "9ed201aa-ef82-43dc-9d89-8c0af3c7d22e",
   "metadata": {
    "tags": []
   },
   "outputs": [],
   "source": [
    "timeliness_test = _section2_utils.timeliness_trips(sf_only)"
   ]
  },
  {
   "cell_type": "code",
   "execution_count": null,
   "id": "3c35cbb2-b524-4a11-88e2-d1f88f08851d",
   "metadata": {
    "tags": []
   },
   "outputs": [],
   "source": [
    "timeliness_test.head(2)"
   ]
  },
  {
   "cell_type": "code",
   "execution_count": null,
   "id": "cdc6600e-771f-43be-acae-5f9911157bef",
   "metadata": {
    "tags": []
   },
   "outputs": [],
   "source": [
    "timeliness_test.Date.unique()"
   ]
  },
  {
   "cell_type": "code",
   "execution_count": null,
   "id": "d3b17a6f-1520-4c2d-96a5-49006a171fcb",
   "metadata": {
    "tags": []
   },
   "outputs": [],
   "source": [
    "timeliness_to_keep = [\n",
    "    \"Date\",\n",
    "    \"Organization\",\n",
    "    \"Direction\",\n",
    "    \"Period\",\n",
    "    \"Route\",\n",
    "    \"# Early Arrival Trips\",\n",
    "    \"# On-Time Trips\",\n",
    "    \"# Late Trips\",\n",
    "    \"dir_0_1\",\n",
    "]"
   ]
  },
  {
   "cell_type": "code",
   "execution_count": null,
   "id": "766c2d9d-d9e5-4b07-93c6-c57b582fb9a7",
   "metadata": {
    "scrolled": true,
    "tags": []
   },
   "outputs": [],
   "source": [
    "sf_jan_only[timeliness_to_keep].head(10)"
   ]
  },
  {
   "cell_type": "code",
   "execution_count": null,
   "id": "494fd146-e456-4ed2-bf8b-daf1bcd3a801",
   "metadata": {
    "tags": []
   },
   "outputs": [],
   "source": [
    "sf_jan_only.Period.value_counts()"
   ]
  },
  {
   "cell_type": "markdown",
   "id": "ffc36373-a1fa-4f0b-9eca-601f499ace77",
   "metadata": {},
   "source": [
    "### Timeliness metrics is located in `rt_segment_speeds/segment_speed_utils/metrics.py`"
   ]
  },
  {
   "cell_type": "code",
   "execution_count": null,
   "id": "1187b4a2-10b8-428d-a097-d8818344567b",
   "metadata": {},
   "outputs": [],
   "source": []
  },
  {
   "cell_type": "markdown",
   "id": "78bf3f50-21dd-4148-9893-69469ad8e03d",
   "metadata": {},
   "source": [
    "### None of the \"route identifiers\" are showing up for January 2025"
   ]
  },
  {
   "cell_type": "code",
   "execution_count": null,
   "id": "06f84d53-c25e-4638-8724-7e373fa3d21f",
   "metadata": {
    "tags": []
   },
   "outputs": [],
   "source": [
    "df.loc[df.service_date == \"2025-01-15T00:00:00.000000000\"].head()"
   ]
  },
  {
   "cell_type": "code",
   "execution_count": null,
   "id": "2ce0f84f-4ee0-44e5-a3f7-b543995a939a",
   "metadata": {
    "tags": []
   },
   "outputs": [],
   "source": [
    "df.columns"
   ]
  },
  {
   "cell_type": "code",
   "execution_count": null,
   "id": "8a72fa76-c6da-4639-ab4c-9b477d07d8ca",
   "metadata": {
    "tags": []
   },
   "outputs": [],
   "source": [
    "df_test.info()"
   ]
  },
  {
   "cell_type": "code",
   "execution_count": null,
   "id": "fc61bfff-7f43-4ce2-a5f6-30fe335d4008",
   "metadata": {
    "tags": []
   },
   "outputs": [],
   "source": [
    "df_test.route_id = df_test.route_id.fillna(\"No Route Name\")"
   ]
  },
  {
   "cell_type": "code",
   "execution_count": null,
   "id": "27e82cd3-a2bb-4005-ac5b-a1faf7f80028",
   "metadata": {
    "tags": []
   },
   "outputs": [],
   "source": [
    "df_test.columns"
   ]
  },
  {
   "cell_type": "code",
   "execution_count": null,
   "id": "87757b23-fb1e-4173-bafc-2441f686b74f",
   "metadata": {
    "tags": []
   },
   "outputs": [],
   "source": [
    "df_test.service_date.unique()"
   ]
  },
  {
   "cell_type": "code",
   "execution_count": null,
   "id": "ac1436e6-f85a-42ef-8624-19404f9dd80e",
   "metadata": {
    "tags": []
   },
   "outputs": [],
   "source": [
    "df_test.loc[\n",
    "    (df_test.organization_name == \"Monterey-Salinas Transit\")\n",
    "    & (df_test.service_date == \"2025-01-15T00:00:00.000000000\")\n",
    "][[\"route_id\"]].nunique()"
   ]
  },
  {
   "cell_type": "code",
   "execution_count": null,
   "id": "8383df94-7661-4d3d-935b-13a66d213f49",
   "metadata": {
    "tags": []
   },
   "outputs": [],
   "source": [
    "# Define a function to highlight the string \"No Route Name\" in red\n",
    "def highlight_no_route_name(val):\n",
    "    color = \"red\" if val == \"No Route Name\" else \"\"\n",
    "    return f\"color: white; background-color: {color}\" if color else \"\""
   ]
  },
  {
   "cell_type": "code",
   "execution_count": null,
   "id": "12c7aaa2-866e-480e-b16e-170256c73538",
   "metadata": {
    "tags": []
   },
   "outputs": [],
   "source": [
    "january_only = df_test.loc[(df_test.service_date == \"2025-01-15T00:00:00.000000000\")]"
   ]
  },
  {
   "cell_type": "code",
   "execution_count": null,
   "id": "fc6fe28a-9b7a-4906-9994-6adbc0830df3",
   "metadata": {
    "scrolled": true,
    "tags": []
   },
   "outputs": [],
   "source": [
    "no_route_names = (\n",
    "    january_only.groupby([\"schedule_gtfs_dataset_key\", \"organization_name\", \"route_id\"])\n",
    "    .agg({\"direction_id\": \"count\"})\n",
    "    .reset_index()\n",
    ")"
   ]
  },
  {
   "cell_type": "code",
   "execution_count": null,
   "id": "546e1378-820a-4bb2-8af1-79b81126da4f",
   "metadata": {
    "scrolled": true,
    "tags": []
   },
   "outputs": [],
   "source": [
    "# Apply the highlighting function to the 'Route Name' column\n",
    "no_route_names.style.applymap(highlight_no_route_name, subset=[\"route_id\"])"
   ]
  },
  {
   "cell_type": "markdown",
   "id": "39cbd5d8-077f-4b38-b039-80dc3a77a36d",
   "metadata": {},
   "source": [
    "### Test: removing `name` from the `merge` with `df_crosswalk` in line 259 in `gtfs_digest/merge_data`"
   ]
  },
  {
   "cell_type": "markdown",
   "id": "8d6274f3-c7b4-463a-a1ba-eacb7d240eb7",
   "metadata": {
    "tags": []
   },
   "source": [
    "### Find out where it's not merging"
   ]
  },
  {
   "cell_type": "code",
   "execution_count": null,
   "id": "982dcb61-3f49-42ec-af70-5718cea29799",
   "metadata": {
    "tags": []
   },
   "outputs": [],
   "source": [
    "df_sched = merge_data.concatenate_schedule_by_route_direction(analysis_date_list)"
   ]
  },
  {
   "cell_type": "code",
   "execution_count": null,
   "id": "f25682e2-e4c8-461e-860d-9700198275c3",
   "metadata": {
    "tags": []
   },
   "outputs": [],
   "source": [
    "df_sched.service_date.unique()"
   ]
  },
  {
   "cell_type": "code",
   "execution_count": null,
   "id": "c13305e1-9807-45fb-ada3-f30c917e7aac",
   "metadata": {
    "tags": []
   },
   "outputs": [],
   "source": [
    "df_sched.loc[df_sched.service_date == \"2025-01-15T00:00:00.000000000\"].head(2)"
   ]
  },
  {
   "cell_type": "code",
   "execution_count": null,
   "id": "1c8fb2d8-b890-4364-ab29-fc4d34895428",
   "metadata": {
    "tags": []
   },
   "outputs": [],
   "source": [
    "df_avg_speeds = merge_data.concatenate_speeds_by_route_direction(analysis_date_list)"
   ]
  },
  {
   "cell_type": "code",
   "execution_count": null,
   "id": "cb0e773b-0c8d-4ffe-b288-2be2c7653c6f",
   "metadata": {
    "tags": []
   },
   "outputs": [],
   "source": [
    "df_avg_speeds.loc[df_avg_speeds.service_date == \"2025-01-15T00:00:00.000000000\"].head(2)"
   ]
  },
  {
   "cell_type": "code",
   "execution_count": null,
   "id": "2d53e2eb-98e3-4f48-8dfa-0286167f476d",
   "metadata": {
    "tags": []
   },
   "outputs": [],
   "source": [
    "df_rt_sched = merge_data.concatenate_rt_vs_schedule_by_route_direction(\n",
    "    analysis_date_list\n",
    ")"
   ]
  },
  {
   "cell_type": "code",
   "execution_count": null,
   "id": "903e23be-a52f-41fa-bafa-18ac053141a4",
   "metadata": {
    "tags": []
   },
   "outputs": [],
   "source": [
    "df_rt_sched.loc[df_rt_sched.service_date == \"2025-01-15T00:00:00.000000000\"].head(2)"
   ]
  },
  {
   "cell_type": "code",
   "execution_count": null,
   "id": "29afbd3f-69e6-4411-82b8-94031c2da42a",
   "metadata": {
    "tags": []
   },
   "outputs": [],
   "source": [
    "df_crosswalk = merge_data.concatenate_crosswalk_organization(analysis_date_list)"
   ]
  },
  {
   "cell_type": "code",
   "execution_count": null,
   "id": "44d9d88d-7904-45e6-9900-c00826b5e83c",
   "metadata": {
    "tags": []
   },
   "outputs": [],
   "source": [
    "df_crosswalk.loc[df_crosswalk.service_date == \"2025-01-15T00:00:00.000000000\"].head(2)"
   ]
  },
  {
   "cell_type": "code",
   "execution_count": null,
   "id": "594a0b89-a4c1-4543-9596-8feb94d27625",
   "metadata": {
    "tags": []
   },
   "outputs": [],
   "source": [
    "primary_typology = merge_data.set_primary_typology(df_sched)"
   ]
  },
  {
   "cell_type": "code",
   "execution_count": null,
   "id": "493ddd07-27ab-4660-9477-5037a232e0e7",
   "metadata": {
    "tags": []
   },
   "outputs": [],
   "source": [
    "primary_typology.head(2)"
   ]
  },
  {
   "cell_type": "code",
   "execution_count": null,
   "id": "265d534d-f016-4f2c-bfc4-18962278373f",
   "metadata": {
    "tags": []
   },
   "outputs": [],
   "source": [
    "df_schedule2 = pd.merge(\n",
    "    df_sched, primary_typology, on=merge_data.route_time_cols, how=\"left\"\n",
    ")"
   ]
  },
  {
   "cell_type": "code",
   "execution_count": null,
   "id": "a2d72f6e-320e-45db-8138-cff2b9b5a4ec",
   "metadata": {
    "tags": []
   },
   "outputs": [],
   "source": [
    "df_schedule2.loc[df_schedule2.service_date == \"2025-01-15T00:00:00.000000000\"].head(2)"
   ]
  },
  {
   "cell_type": "code",
   "execution_count": null,
   "id": "d773f22d-7f80-41fe-8aa2-a826cac98ed9",
   "metadata": {
    "tags": []
   },
   "outputs": [],
   "source": [
    "df1 = pd.merge(\n",
    "    df_schedule2,\n",
    "    df_rt_sched,\n",
    "    on=merge_data.route_time_cols + [\"service_date\"],\n",
    "    how=\"outer\",\n",
    "    indicator=\"sched_rt_category\",\n",
    ").merge(\n",
    "    df_avg_speeds,\n",
    "    on=merge_data.route_time_cols + [\"service_date\"],\n",
    "    how=\"outer\",\n",
    ")"
   ]
  },
  {
   "cell_type": "code",
   "execution_count": null,
   "id": "aab97470-b59f-4d50-8a9c-2c1e0d24ff09",
   "metadata": {
    "tags": []
   },
   "outputs": [],
   "source": [
    "df1.loc[df.service_date == \"2025-01-15T00:00:00.000000000\"].head(2)"
   ]
  },
  {
   "cell_type": "code",
   "execution_count": null,
   "id": "364ce677-c441-479f-af96-0da0fe83ccfc",
   "metadata": {
    "tags": []
   },
   "outputs": [],
   "source": [
    "df1.info()"
   ]
  },
  {
   "cell_type": "code",
   "execution_count": null,
   "id": "9a1f69f7-97b6-494c-9edd-881913b667f7",
   "metadata": {
    "tags": []
   },
   "outputs": [],
   "source": [
    "df1.sched_rt_category.unique()"
   ]
  },
  {
   "cell_type": "code",
   "execution_count": null,
   "id": "aa1abf3d-0a00-4b4f-a270-48372b3ddd13",
   "metadata": {
    "tags": []
   },
   "outputs": [],
   "source": [
    "df_wo_standardized_route = df1.assign(\n",
    "    sched_rt_category=df1.sched_rt_category.map(\n",
    "        gtfs_schedule_wrangling.sched_rt_category_dict\n",
    "    )\n",
    ")"
   ]
  },
  {
   "cell_type": "code",
   "execution_count": null,
   "id": "b82dcc50-76b2-4bea-80ba-54530e9edab5",
   "metadata": {
    "tags": []
   },
   "outputs": [],
   "source": [
    "df_w_standardized_route = df_wo_standardized_route.pipe(\n",
    "    merge_data.merge_in_standardized_route_names,\n",
    ")"
   ]
  },
  {
   "cell_type": "code",
   "execution_count": null,
   "id": "5b81ae6d-3592-46a7-bbb3-91531200073d",
   "metadata": {
    "tags": []
   },
   "outputs": [],
   "source": [
    "df_w_standardized_route.info()"
   ]
  },
  {
   "cell_type": "markdown",
   "id": "296be89d-5179-4cae-9e7e-1f3407f6a427",
   "metadata": {},
   "source": [
    "#### `merge_in_standardized_route_names` isn't working\n",
    "* `route_names_df` doesn't have any values for January 2025.\n",
    "* Rerun `gtfs_funnel/clean_route_naming.py`"
   ]
  },
  {
   "cell_type": "code",
   "execution_count": null,
   "id": "35805e95-8ad9-4e5a-b683-921aa57d27b9",
   "metadata": {
    "tags": []
   },
   "outputs": [],
   "source": [
    "keep_cols = [\n",
    "    \"schedule_gtfs_dataset_key\",\n",
    "    \"name\",\n",
    "    \"route_id\",\n",
    "    \"service_date\",\n",
    "]\n",
    "\n",
    "CLEAN_ROUTES = GTFS_DATA_DICT.schedule_tables.route_identification\n",
    "\n",
    "route_names_df = pd.read_parquet(f\"{SCHED_GCS}{CLEAN_ROUTES}.parquet\")"
   ]
  },
  {
   "cell_type": "code",
   "execution_count": null,
   "id": "dba4d849-e152-405d-b36d-bfbaaf7368e4",
   "metadata": {
    "tags": []
   },
   "outputs": [],
   "source": [
    "route_names_df.info()"
   ]
  },
  {
   "cell_type": "code",
   "execution_count": null,
   "id": "bccdfbc9-c5b0-4855-b37c-1c5a960cd1fa",
   "metadata": {
    "tags": []
   },
   "outputs": [],
   "source": [
    "route_names_df.service_date.unique()"
   ]
  },
  {
   "cell_type": "code",
   "execution_count": null,
   "id": "fe9695ca-52c7-450b-94be-5b98b19811f7",
   "metadata": {
    "tags": []
   },
   "outputs": [],
   "source": [
    "from segment_speed_utils import gtfs_schedule_wrangling, time_series_utils"
   ]
  },
  {
   "cell_type": "code",
   "execution_count": null,
   "id": "519a8758-66c9-455e-b2a2-fad9bf15fa3c",
   "metadata": {
    "tags": []
   },
   "outputs": [],
   "source": [
    "route_names_df = time_series_utils.clean_standardized_route_names(\n",
    "    route_names_df\n",
    ").drop_duplicates()"
   ]
  },
  {
   "cell_type": "code",
   "execution_count": null,
   "id": "d86094a1-93f9-472e-88f9-9d926c6c0b00",
   "metadata": {
    "tags": []
   },
   "outputs": [],
   "source": [
    "route_names_df.head(2)"
   ]
  },
  {
   "cell_type": "code",
   "execution_count": null,
   "id": "135a41f3-c895-47ab-89ee-9ed45b718467",
   "metadata": {
    "tags": []
   },
   "outputs": [],
   "source": [
    "route_names_df.service_date.unique()"
   ]
  },
  {
   "cell_type": "code",
   "execution_count": null,
   "id": "98f98388-4051-4221-b1ca-12369e6d71d7",
   "metadata": {
    "tags": []
   },
   "outputs": [],
   "source": [
    "if \"name\" in df_wo_standardized_route.columns:\n",
    "    df_wo_standardized_route = df.drop(columns=\"name\")"
   ]
  }
 ],
 "metadata": {
  "kernelspec": {
   "display_name": "Python 3 (ipykernel)",
   "language": "python",
   "name": "python3"
  },
  "language_info": {
   "codemirror_mode": {
    "name": "ipython",
    "version": 3
   },
   "file_extension": ".py",
   "mimetype": "text/x-python",
   "name": "python",
   "nbconvert_exporter": "python",
   "pygments_lexer": "ipython3",
   "version": "3.11.6"
  }
 },
 "nbformat": 4,
 "nbformat_minor": 5
}
