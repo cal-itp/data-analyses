{
 "cells": [
  {
   "cell_type": "markdown",
   "id": "55b875fc-62c0-43f1-8807-85153c7d0300",
   "metadata": {},
   "source": [
    "# Quarterly Roll Up \n",
    "[Issue](https://github.com/cal-itp/data-analyses/issues/1416)"
   ]
  },
  {
   "cell_type": "code",
   "execution_count": 1,
   "id": "a0b9cf15-f2fd-41a7-80dd-5ecd8d7cb699",
   "metadata": {
    "tags": []
   },
   "outputs": [],
   "source": [
    "import altair as alt\n",
    "import _route_dir_data_prep\n",
    "import _report_route_dir_visuals\n",
    "import calitp_data_analysis.magics\n",
    "import deploy_portfolio_yaml\n",
    "import pandas as pd\n",
    "import yaml\n",
    "import quarterly_rollup\n",
    "from IPython.display import HTML, Image, Markdown, display, display_html\n",
    "from segment_speed_utils import (\n",
    "    gtfs_schedule_wrangling,\n",
    "    metrics,\n",
    "    project_vars,\n",
    "    segment_calcs,\n",
    "    time_series_utils,\n",
    ")\n",
    "from shared_utils import (\n",
    "    catalog_utils,\n",
    "    gtfs_utils_v2,\n",
    "    portfolio_utils,\n",
    "    publish_utils,\n",
    "    rt_dates,\n",
    "    rt_utils,\n",
    "    time_helpers,\n",
    ")\n",
    "from update_vars import GTFS_DATA_DICT, RT_SCHED_GCS, SCHED_GCS, SEGMENT_GCS\n"
   ]
  },
  {
   "cell_type": "code",
   "execution_count": 2,
   "id": "f0206287-c428-4b15-8fdb-418b4601d8e1",
   "metadata": {},
   "outputs": [],
   "source": [
    "pd.options.display.max_columns = 100\n",
    "pd.options.display.float_format = \"{:.2f}\".format\n",
    "pd.set_option(\"display.max_rows\", None)\n",
    "pd.set_option(\"display.max_colwidth\", None)"
   ]
  },
  {
   "cell_type": "code",
   "execution_count": 3,
   "id": "17d149fd-b0d3-4ca4-b6b9-f10fbce7d65d",
   "metadata": {
    "tags": []
   },
   "outputs": [],
   "source": [
    "from omegaconf import OmegaConf\n",
    "\n",
    "readable_dict = OmegaConf.load(\"readable2.yml\")"
   ]
  },
  {
   "cell_type": "code",
   "execution_count": 4,
   "id": "24533e38-e604-4e2d-a152-8162fff71738",
   "metadata": {
    "tags": []
   },
   "outputs": [],
   "source": [
    "analysis_date_list = rt_dates.y2025_dates"
   ]
  },
  {
   "cell_type": "code",
   "execution_count": 5,
   "id": "1edb5621-6769-462b-add7-54c2af36da17",
   "metadata": {
    "tags": []
   },
   "outputs": [],
   "source": [
    "portfolio_name = \"City and County of San Francisco\"\n",
    "# portfolio_name =  \"Ventura County (VCTC, Gold Coast, Cities of Camarillo, Moorpark, Ojai, Simi Valley, Thousand Oaks)\""
   ]
  },
  {
   "cell_type": "code",
   "execution_count": 6,
   "id": "69ee2699-b129-4ae4-9d0e-f6ddb2c4fcdf",
   "metadata": {},
   "outputs": [],
   "source": [
    "ROUTE_DIR_QTR_EXPORT = 'digest/quarterly_schedule_vp_metrics_report'"
   ]
  },
  {
   "cell_type": "code",
   "execution_count": 7,
   "id": "79887251-405d-4bf3-91c8-4c80fabe0360",
   "metadata": {},
   "outputs": [],
   "source": [
    "qtr_df = pd.read_parquet(f\"{RT_SCHED_GCS}{ROUTE_DIR_QTR_EXPORT}.parquet\")"
   ]
  },
  {
   "cell_type": "code",
   "execution_count": 14,
   "id": "28dafcf8-ad14-485a-b210-4f7638e16714",
   "metadata": {
    "tags": []
   },
   "outputs": [],
   "source": [
    "qtr_df = qtr_df.loc[(qtr_df[\"Portfolio Organization Name\"] == portfolio_name)&(qtr_df[\"Route\"]==\"1 CALIFORNIA\")]"
   ]
  },
  {
   "cell_type": "code",
   "execution_count": 15,
   "id": "ea2c224f-b2f4-4c20-9395-2800513d76c7",
   "metadata": {
    "scrolled": true,
    "tags": []
   },
   "outputs": [
    {
     "data": {
      "text/plain": [
       "array(['1 CALIFORNIA'], dtype=object)"
      ]
     },
     "execution_count": 15,
     "metadata": {},
     "output_type": "execute_result"
    }
   ],
   "source": [
    "qtr_df[ 'Route'].unique()"
   ]
  },
  {
   "cell_type": "code",
   "execution_count": 16,
   "id": "b2322d59-b290-4821-8126-2e0531df604d",
   "metadata": {
    "tags": []
   },
   "outputs": [
    {
     "data": {
      "text/plain": [
       "60"
      ]
     },
     "execution_count": 16,
     "metadata": {},
     "output_type": "execute_result"
    }
   ],
   "source": [
    "len(qtr_df)"
   ]
  },
  {
   "cell_type": "code",
   "execution_count": 20,
   "id": "2c0c4bbd-8419-42ed-9b92-7cbfe9d4e50a",
   "metadata": {
    "tags": []
   },
   "outputs": [
    {
     "data": {
      "text/plain": [
       "Index(['Direction (0/1)', 'Period', 'Average Scheduled Service (trip minutes)',\n",
       "       '# Scheduled Trips', '# Realtime Trips', 'Route', 'Direction',\n",
       "       '# Minutes with 1+ VP per Minute', '# Minutes with 2+ VP per Minute',\n",
       "       '# Early Arrival Trips', '# On-Time Trips', '# Late Trips',\n",
       "       'Average VP per Minute', '% VP within Scheduled Shape',\n",
       "       '% Scheduled Trip w/ 1+ VP/Minute', '% Scheduled Trip w/ 2+ VP/Minute',\n",
       "       'Realtime versus Scheduled Service Ratio', 'Speed (MPH)',\n",
       "       'Portfolio Organization Name', 'Headway (Minutes)', 'GTFS Availability',\n",
       "       'Average Stop Distance (Miles)', 'Quarter'],\n",
       "      dtype='object')"
      ]
     },
     "execution_count": 20,
     "metadata": {},
     "output_type": "execute_result"
    }
   ],
   "source": [
    "qtr_df.columns"
   ]
  },
  {
   "cell_type": "markdown",
   "id": "5916ab90-5cfc-497b-9969-a7dd00ec0848",
   "metadata": {},
   "source": [
    "* Avg scheduled minutes: change to quarterly.\n",
    "* VP per minute: quarterly.\n",
    "* Spatial Accuracy: Quarterly"
   ]
  },
  {
   "cell_type": "code",
   "execution_count": 10,
   "id": "cf076493-952c-49f7-bd99-b9cd32d45d69",
   "metadata": {
    "tags": []
   },
   "outputs": [],
   "source": [
    "def vp_per_minute_chart(df: pd.DataFrame) -> alt.Chart:\n",
    "    specific_chart_dict = readable_dict.vp_per_min_graph\n",
    "    ruler = _report_route_dir_visuals.ruler_chart(df, 3)\n",
    "\n",
    "    bar = _report_route_dir_visuals.bar_chart(\n",
    "        x_col=\"Quarter\",\n",
    "        y_col=\"Average VP per Minute\",\n",
    "        color_col=\"Average VP per Minute\",\n",
    "        color_scheme=[*specific_chart_dict.colors],\n",
    "        tooltip_cols=[*specific_chart_dict.tooltip],\n",
    "        date_format=\"\",\n",
    "    )\n",
    "\n",
    "    # write this way so that the df is inherited by .facet\n",
    "    chart = alt.layer(bar, ruler, data=df).properties(width=200, height=250)\n",
    "    chart = chart.facet(\n",
    "        column=alt.Column(\n",
    "            \"Direction:N\",\n",
    "        )\n",
    "    ).properties(\n",
    "        title={\n",
    "            \"text\": specific_chart_dict.title,\n",
    "            \"subtitle\": specific_chart_dict.subtitle,\n",
    "        }\n",
    "    )\n",
    "    return chart\n"
   ]
  },
  {
   "cell_type": "code",
   "execution_count": 21,
   "id": "974c1de4-f41a-493a-a229-aad607d80fc7",
   "metadata": {
    "tags": []
   },
   "outputs": [
    {
     "data": {
      "text/html": [
       "\n",
       "<style>\n",
       "  #altair-viz-65d9eebf0019495f8ef49387fe00958e.vega-embed {\n",
       "    width: 100%;\n",
       "    display: flex;\n",
       "  }\n",
       "\n",
       "  #altair-viz-65d9eebf0019495f8ef49387fe00958e.vega-embed details,\n",
       "  #altair-viz-65d9eebf0019495f8ef49387fe00958e.vega-embed details summary {\n",
       "    position: relative;\n",
       "  }\n",
       "</style>\n",
       "<div id=\"altair-viz-65d9eebf0019495f8ef49387fe00958e\"></div>\n",
       "<script type=\"text/javascript\">\n",
       "  var VEGA_DEBUG = (typeof VEGA_DEBUG == \"undefined\") ? {} : VEGA_DEBUG;\n",
       "  (function(spec, embedOpt){\n",
       "    let outputDiv = document.currentScript.previousElementSibling;\n",
       "    if (outputDiv.id !== \"altair-viz-65d9eebf0019495f8ef49387fe00958e\") {\n",
       "      outputDiv = document.getElementById(\"altair-viz-65d9eebf0019495f8ef49387fe00958e\");\n",
       "    }\n",
       "\n",
       "    const paths = {\n",
       "      \"vega\": \"https://cdn.jsdelivr.net/npm/vega@5?noext\",\n",
       "      \"vega-lib\": \"https://cdn.jsdelivr.net/npm/vega-lib?noext\",\n",
       "      \"vega-lite\": \"https://cdn.jsdelivr.net/npm/vega-lite@5.20.1?noext\",\n",
       "      \"vega-embed\": \"https://cdn.jsdelivr.net/npm/vega-embed@6?noext\",\n",
       "    };\n",
       "\n",
       "    function maybeLoadScript(lib, version) {\n",
       "      var key = `${lib.replace(\"-\", \"\")}_version`;\n",
       "      return (VEGA_DEBUG[key] == version) ?\n",
       "        Promise.resolve(paths[lib]) :\n",
       "        new Promise(function(resolve, reject) {\n",
       "          var s = document.createElement('script');\n",
       "          document.getElementsByTagName(\"head\")[0].appendChild(s);\n",
       "          s.async = true;\n",
       "          s.onload = () => {\n",
       "            VEGA_DEBUG[key] = version;\n",
       "            return resolve(paths[lib]);\n",
       "          };\n",
       "          s.onerror = () => reject(`Error loading script: ${paths[lib]}`);\n",
       "          s.src = paths[lib];\n",
       "        });\n",
       "    }\n",
       "\n",
       "    function showError(err) {\n",
       "      outputDiv.innerHTML = `<div class=\"error\" style=\"color:red;\">${err}</div>`;\n",
       "      throw err;\n",
       "    }\n",
       "\n",
       "    function displayChart(vegaEmbed) {\n",
       "      vegaEmbed(outputDiv, spec, embedOpt)\n",
       "        .catch(err => showError(`Javascript Error: ${err.message}<br>This usually means there's a typo in your chart specification. See the javascript console for the full traceback.`));\n",
       "    }\n",
       "\n",
       "    if(typeof define === \"function\" && define.amd) {\n",
       "      requirejs.config({paths});\n",
       "      let deps = [\"vega-embed\"];\n",
       "      require(deps, displayChart, err => showError(`Error loading script: ${err.message}`));\n",
       "    } else {\n",
       "      maybeLoadScript(\"vega\", \"5\")\n",
       "        .then(() => maybeLoadScript(\"vega-lite\", \"5.20.1\"))\n",
       "        .then(() => maybeLoadScript(\"vega-embed\", \"6\"))\n",
       "        .catch(showError)\n",
       "        .then(() => displayChart(vegaEmbed));\n",
       "    }\n",
       "  })({\"config\": {\"view\": {\"continuousWidth\": 300, \"continuousHeight\": 300}}, \"data\": {\"name\": \"data-ba779ca335407fb9646fb0dedc0496fc\"}, \"facet\": {\"column\": {\"field\": \"Direction\", \"type\": \"nominal\"}}, \"spec\": {\"layer\": [{\"mark\": {\"type\": \"bar\"}, \"encoding\": {\"color\": {\"field\": \"Average VP per Minute\", \"legend\": null, \"scale\": {\"range\": [\"#dd217d\", \"#fc5c04\", \"#fcb40e\", \"#ccbb44\"]}, \"title\": \"Average VP per Minute\", \"type\": \"quantitative\"}, \"tooltip\": [{\"field\": \"Quarter\", \"type\": \"nominal\"}, {\"field\": \"Route\", \"type\": \"nominal\"}, {\"field\": \"Direction\", \"type\": \"nominal\"}, {\"field\": \"Average VP per Minute\", \"type\": \"quantitative\"}], \"x\": {\"axis\": {\"format\": \"\", \"labelAngle\": -45}, \"field\": \"Quarter\", \"title\": \"Quarter\", \"type\": \"nominal\"}, \"y\": {\"field\": \"Average VP per Minute\", \"title\": \"Average VP per Minute\", \"type\": \"quantitative\"}}}, {\"data\": {\"name\": \"data-83a01a0d96f2bd579148b2ee059dbae5\"}, \"mark\": {\"type\": \"rule\", \"color\": \"red\", \"strokeDash\": [10, 7]}, \"encoding\": {\"y\": {\"aggregate\": \"mean\", \"field\": \"ruler\", \"type\": \"quantitative\"}}}], \"height\": 250, \"width\": 200}, \"title\": {\"text\": \"Vehicle Positions per Minute\", \"subtitle\": \"Trips should have 2+ VPs per minute. This metric reflects the accuracy of the temporal data collected.\"}, \"$schema\": \"https://vega.github.io/schema/vega-lite/v5.20.1.json\", \"datasets\": {\"data-ba779ca335407fb9646fb0dedc0496fc\": [{\"Direction (0/1)\": 0, \"Period\": \"All Day\", \"Average Scheduled Service (trip minutes)\": 40.0, \"# Scheduled Trips\": 477, \"# Realtime Trips\": 475, \"Route\": \"1 CALIFORNIA\", \"Direction\": \"Westbound\", \"# Minutes with 1+ VP per Minute\": 8063.0, \"# Minutes with 2+ VP per Minute\": 7950.0, \"# Early Arrival Trips\": 4, \"# On-Time Trips\": 121, \"# Late Trips\": 350, \"Average VP per Minute\": 2.0, \"% VP within Scheduled Shape\": 100.0, \"% Scheduled Trip w/ 1+ VP/Minute\": 100.0, \"% Scheduled Trip w/ 2+ VP/Minute\": 100.0, \"Realtime versus Scheduled Service Ratio\": 2.0, \"Speed (MPH)\": 5.0, \"Portfolio Organization Name\": \"City and County of San Francisco\", \"Headway (Minutes)\": 9.0, \"GTFS Availability\": \"schedule_and_vp\", \"Average Stop Distance (Miles)\": 0.0, \"Quarter\": \"2023 Q2\"}, {\"Direction (0/1)\": 1, \"Period\": \"All Day\", \"Average Scheduled Service (trip minutes)\": 38.0, \"# Scheduled Trips\": 494, \"# Realtime Trips\": 485, \"Route\": \"1 CALIFORNIA\", \"Direction\": \"Eastbound\", \"# Minutes with 1+ VP per Minute\": 9054.0, \"# Minutes with 2+ VP per Minute\": 8935.0, \"# Early Arrival Trips\": 5, \"# On-Time Trips\": 34, \"# Late Trips\": 446, \"Average VP per Minute\": 2.0, \"% VP within Scheduled Shape\": 100.0, \"% Scheduled Trip w/ 1+ VP/Minute\": 100.0, \"% Scheduled Trip w/ 2+ VP/Minute\": 100.0, \"Realtime versus Scheduled Service Ratio\": 2.0, \"Speed (MPH)\": 5.0, \"Portfolio Organization Name\": \"City and County of San Francisco\", \"Headway (Minutes)\": 9.0, \"GTFS Availability\": \"schedule_and_vp\", \"Average Stop Distance (Miles)\": 0.0, \"Quarter\": \"2023 Q2\"}, {\"Direction (0/1)\": 0, \"Period\": \"All Day\", \"Average Scheduled Service (trip minutes)\": 38.0, \"# Scheduled Trips\": 350, \"# Realtime Trips\": 347, \"Route\": \"1 CALIFORNIA\", \"Direction\": \"Westbound\", \"# Minutes with 1+ VP per Minute\": 8176.0, \"# Minutes with 2+ VP per Minute\": 8050.0, \"# Early Arrival Trips\": 3, \"# On-Time Trips\": 131, \"# Late Trips\": 213, \"Average VP per Minute\": 2.0, \"% VP within Scheduled Shape\": 100.0, \"% Scheduled Trip w/ 1+ VP/Minute\": 100.0, \"% Scheduled Trip w/ 2+ VP/Minute\": 100.0, \"Realtime versus Scheduled Service Ratio\": 2.0, \"Speed (MPH)\": 5.0, \"Portfolio Organization Name\": \"City and County of San Francisco\", \"Headway (Minutes)\": 8.0, \"GTFS Availability\": \"schedule_and_vp\", \"Average Stop Distance (Miles)\": 0.0, \"Quarter\": \"2023 Q3\"}, {\"Direction (0/1)\": 1, \"Period\": \"All Day\", \"Average Scheduled Service (trip minutes)\": 36.0, \"# Scheduled Trips\": 356, \"# Realtime Trips\": 350, \"Route\": \"1 CALIFORNIA\", \"Direction\": \"Eastbound\", \"# Minutes with 1+ VP per Minute\": 9665.0, \"# Minutes with 2+ VP per Minute\": 9548.0, \"# Early Arrival Trips\": 1, \"# On-Time Trips\": 25, \"# Late Trips\": 324, \"Average VP per Minute\": 2.0, \"% VP within Scheduled Shape\": 100.0, \"% Scheduled Trip w/ 1+ VP/Minute\": 200.0, \"% Scheduled Trip w/ 2+ VP/Minute\": 100.0, \"Realtime versus Scheduled Service Ratio\": 2.0, \"Speed (MPH)\": 5.0, \"Portfolio Organization Name\": \"City and County of San Francisco\", \"Headway (Minutes)\": 8.0, \"GTFS Availability\": \"schedule_and_vp\", \"Average Stop Distance (Miles)\": 0.0, \"Quarter\": \"2023 Q3\"}, {\"Direction (0/1)\": 0, \"Period\": \"All Day\", \"Average Scheduled Service (trip minutes)\": 38.0, \"# Scheduled Trips\": 525, \"# Realtime Trips\": 514, \"Route\": \"1 CALIFORNIA\", \"Direction\": \"Westbound\", \"# Minutes with 1+ VP per Minute\": 8252.0, \"# Minutes with 2+ VP per Minute\": 8131.0, \"# Early Arrival Trips\": 14, \"# On-Time Trips\": 153, \"# Late Trips\": 347, \"Average VP per Minute\": 2.0, \"% VP within Scheduled Shape\": 100.0, \"% Scheduled Trip w/ 1+ VP/Minute\": 100.0, \"% Scheduled Trip w/ 2+ VP/Minute\": 100.0, \"Realtime versus Scheduled Service Ratio\": 2.0, \"Speed (MPH)\": 5.0, \"Portfolio Organization Name\": \"City and County of San Francisco\", \"Headway (Minutes)\": 8.0, \"GTFS Availability\": \"schedule_and_vp\", \"Average Stop Distance (Miles)\": 0.0, \"Quarter\": \"2023 Q4\"}, {\"Direction (0/1)\": 1, \"Period\": \"All Day\", \"Average Scheduled Service (trip minutes)\": 36.0, \"# Scheduled Trips\": 534, \"# Realtime Trips\": 522, \"Route\": \"1 CALIFORNIA\", \"Direction\": \"Eastbound\", \"# Minutes with 1+ VP per Minute\": 9377.0, \"# Minutes with 2+ VP per Minute\": 9249.0, \"# Early Arrival Trips\": 7, \"# On-Time Trips\": 41, \"# Late Trips\": 474, \"Average VP per Minute\": 2.0, \"% VP within Scheduled Shape\": 100.0, \"% Scheduled Trip w/ 1+ VP/Minute\": 100.0, \"% Scheduled Trip w/ 2+ VP/Minute\": 100.0, \"Realtime versus Scheduled Service Ratio\": 2.0, \"Speed (MPH)\": 5.0, \"Portfolio Organization Name\": \"City and County of San Francisco\", \"Headway (Minutes)\": 8.0, \"GTFS Availability\": \"schedule_and_vp\", \"Average Stop Distance (Miles)\": 0.0, \"Quarter\": \"2023 Q4\"}, {\"Direction (0/1)\": 0, \"Period\": \"All Day\", \"Average Scheduled Service (trip minutes)\": 38.0, \"# Scheduled Trips\": 525, \"# Realtime Trips\": 525, \"Route\": \"1 CALIFORNIA\", \"Direction\": \"Westbound\", \"# Minutes with 1+ VP per Minute\": 8012.0, \"# Minutes with 2+ VP per Minute\": 7893.0, \"# Early Arrival Trips\": 10, \"# On-Time Trips\": 236, \"# Late Trips\": 279, \"Average VP per Minute\": 2.0, \"% VP within Scheduled Shape\": 100.0, \"% Scheduled Trip w/ 1+ VP/Minute\": 100.0, \"% Scheduled Trip w/ 2+ VP/Minute\": 100.0, \"Realtime versus Scheduled Service Ratio\": 2.0, \"Speed (MPH)\": 5.0, \"Portfolio Organization Name\": \"City and County of San Francisco\", \"Headway (Minutes)\": 8.0, \"GTFS Availability\": \"schedule_and_vp\", \"Average Stop Distance (Miles)\": 0.0, \"Quarter\": \"2024 Q1\"}, {\"Direction (0/1)\": 1, \"Period\": \"All Day\", \"Average Scheduled Service (trip minutes)\": 36.0, \"# Scheduled Trips\": 534, \"# Realtime Trips\": 532, \"Route\": \"1 CALIFORNIA\", \"Direction\": \"Eastbound\", \"# Minutes with 1+ VP per Minute\": 9981.0, \"# Minutes with 2+ VP per Minute\": 9858.0, \"# Early Arrival Trips\": 3, \"# On-Time Trips\": 30, \"# Late Trips\": 499, \"Average VP per Minute\": 2.0, \"% VP within Scheduled Shape\": 100.0, \"% Scheduled Trip w/ 1+ VP/Minute\": 200.0, \"% Scheduled Trip w/ 2+ VP/Minute\": 200.0, \"Realtime versus Scheduled Service Ratio\": 2.0, \"Speed (MPH)\": 5.0, \"Portfolio Organization Name\": \"City and County of San Francisco\", \"Headway (Minutes)\": 8.0, \"GTFS Availability\": \"schedule_and_vp\", \"Average Stop Distance (Miles)\": 0.0, \"Quarter\": \"2024 Q1\"}, {\"Direction (0/1)\": 0, \"Period\": \"All Day\", \"Average Scheduled Service (trip minutes)\": 38.0, \"# Scheduled Trips\": 350, \"# Realtime Trips\": 346, \"Route\": \"1 CALIFORNIA\", \"Direction\": \"Westbound\", \"# Minutes with 1+ VP per Minute\": 8280.0, \"# Minutes with 2+ VP per Minute\": 8170.0, \"# Early Arrival Trips\": 8, \"# On-Time Trips\": 100, \"# Late Trips\": 238, \"Average VP per Minute\": 2.0, \"% VP within Scheduled Shape\": 100.0, \"% Scheduled Trip w/ 1+ VP/Minute\": 100.0, \"% Scheduled Trip w/ 2+ VP/Minute\": 100.0, \"Realtime versus Scheduled Service Ratio\": 2.0, \"Speed (MPH)\": 5.0, \"Portfolio Organization Name\": \"City and County of San Francisco\", \"Headway (Minutes)\": 8.0, \"GTFS Availability\": \"schedule_and_vp\", \"Average Stop Distance (Miles)\": 0.0, \"Quarter\": \"2024 Q2\"}, {\"Direction (0/1)\": 1, \"Period\": \"All Day\", \"Average Scheduled Service (trip minutes)\": 36.0, \"# Scheduled Trips\": 356, \"# Realtime Trips\": 350, \"Route\": \"1 CALIFORNIA\", \"Direction\": \"Eastbound\", \"# Minutes with 1+ VP per Minute\": 9335.0, \"# Minutes with 2+ VP per Minute\": 9216.0, \"# Early Arrival Trips\": 6, \"# On-Time Trips\": 23, \"# Late Trips\": 321, \"Average VP per Minute\": 2.0, \"% VP within Scheduled Shape\": 100.0, \"% Scheduled Trip w/ 1+ VP/Minute\": 100.0, \"% Scheduled Trip w/ 2+ VP/Minute\": 100.0, \"Realtime versus Scheduled Service Ratio\": 2.0, \"Speed (MPH)\": 5.0, \"Portfolio Organization Name\": \"City and County of San Francisco\", \"Headway (Minutes)\": 8.0, \"GTFS Availability\": \"schedule_and_vp\", \"Average Stop Distance (Miles)\": 0.0, \"Quarter\": \"2024 Q2\"}, {\"Direction (0/1)\": 0, \"Period\": \"All Day\", \"Average Scheduled Service (trip minutes)\": 37.0, \"# Scheduled Trips\": 539, \"# Realtime Trips\": 530, \"Route\": \"1 CALIFORNIA\", \"Direction\": \"Westbound\", \"# Minutes with 1+ VP per Minute\": 8862.0, \"# Minutes with 2+ VP per Minute\": 8739.0, \"# Early Arrival Trips\": 9, \"# On-Time Trips\": 55, \"# Late Trips\": 466, \"Average VP per Minute\": 2.0, \"% VP within Scheduled Shape\": 100.0, \"% Scheduled Trip w/ 1+ VP/Minute\": 100.0, \"% Scheduled Trip w/ 2+ VP/Minute\": 100.0, \"Realtime versus Scheduled Service Ratio\": 2.0, \"Speed (MPH)\": 5.0, \"Portfolio Organization Name\": \"City and County of San Francisco\", \"Headway (Minutes)\": 8.0, \"GTFS Availability\": \"schedule_and_vp\", \"Average Stop Distance (Miles)\": 0.0, \"Quarter\": \"2024 Q3\"}, {\"Direction (0/1)\": 1, \"Period\": \"All Day\", \"Average Scheduled Service (trip minutes)\": 36.0, \"# Scheduled Trips\": 548, \"# Realtime Trips\": 543, \"Route\": \"1 CALIFORNIA\", \"Direction\": \"Eastbound\", \"# Minutes with 1+ VP per Minute\": 8836.0, \"# Minutes with 2+ VP per Minute\": 8685.0, \"# Early Arrival Trips\": 13, \"# On-Time Trips\": 59, \"# Late Trips\": 471, \"Average VP per Minute\": 2.0, \"% VP within Scheduled Shape\": 100.0, \"% Scheduled Trip w/ 1+ VP/Minute\": 100.0, \"% Scheduled Trip w/ 2+ VP/Minute\": 100.0, \"Realtime versus Scheduled Service Ratio\": 2.0, \"Speed (MPH)\": 5.0, \"Portfolio Organization Name\": \"City and County of San Francisco\", \"Headway (Minutes)\": 8.0, \"GTFS Availability\": \"schedule_and_vp\", \"Average Stop Distance (Miles)\": 0.0, \"Quarter\": \"2024 Q3\"}, {\"Direction (0/1)\": 0, \"Period\": \"All Day\", \"Average Scheduled Service (trip minutes)\": 35.0, \"# Scheduled Trips\": 567, \"# Realtime Trips\": 565, \"Route\": \"1 CALIFORNIA\", \"Direction\": \"Westbound\", \"# Minutes with 1+ VP per Minute\": 9020.0, \"# Minutes with 2+ VP per Minute\": 8901.0, \"# Early Arrival Trips\": 2, \"# On-Time Trips\": 64, \"# Late Trips\": 499, \"Average VP per Minute\": 2.0, \"% VP within Scheduled Shape\": 100.0, \"% Scheduled Trip w/ 1+ VP/Minute\": 100.0, \"% Scheduled Trip w/ 2+ VP/Minute\": 100.0, \"Realtime versus Scheduled Service Ratio\": 2.0, \"Speed (MPH)\": 6.0, \"Portfolio Organization Name\": \"City and County of San Francisco\", \"Headway (Minutes)\": 8.0, \"GTFS Availability\": \"schedule_and_vp\", \"Average Stop Distance (Miles)\": 1.0, \"Quarter\": \"2024 Q4\"}, {\"Direction (0/1)\": 1, \"Period\": \"All Day\", \"Average Scheduled Service (trip minutes)\": 35.0, \"# Scheduled Trips\": 576, \"# Realtime Trips\": 573, \"Route\": \"1 CALIFORNIA\", \"Direction\": \"Eastbound\", \"# Minutes with 1+ VP per Minute\": 9472.0, \"# Minutes with 2+ VP per Minute\": 9343.0, \"# Early Arrival Trips\": 5, \"# On-Time Trips\": 43, \"# Late Trips\": 525, \"Average VP per Minute\": 2.0, \"% VP within Scheduled Shape\": 100.0, \"% Scheduled Trip w/ 1+ VP/Minute\": 100.0, \"% Scheduled Trip w/ 2+ VP/Minute\": 100.0, \"Realtime versus Scheduled Service Ratio\": 2.0, \"Speed (MPH)\": 5.0, \"Portfolio Organization Name\": \"City and County of San Francisco\", \"Headway (Minutes)\": 8.0, \"GTFS Availability\": \"schedule_and_vp\", \"Average Stop Distance (Miles)\": 1.0, \"Quarter\": \"2024 Q4\"}, {\"Direction (0/1)\": 0, \"Period\": \"All Day\", \"Average Scheduled Service (trip minutes)\": 35.0, \"# Scheduled Trips\": 378, \"# Realtime Trips\": 378, \"Route\": \"1 CALIFORNIA\", \"Direction\": \"Westbound\", \"# Minutes with 1+ VP per Minute\": 9181.0, \"# Minutes with 2+ VP per Minute\": 9071.0, \"# Early Arrival Trips\": 1, \"# On-Time Trips\": 40, \"# Late Trips\": 337, \"Average VP per Minute\": 2.0, \"% VP within Scheduled Shape\": 100.0, \"% Scheduled Trip w/ 1+ VP/Minute\": 100.0, \"% Scheduled Trip w/ 2+ VP/Minute\": 100.0, \"Realtime versus Scheduled Service Ratio\": 2.0, \"Speed (MPH)\": 9.0, \"Portfolio Organization Name\": \"City and County of San Francisco\", \"Headway (Minutes)\": 8.0, \"GTFS Availability\": \"schedule_and_vp\", \"Average Stop Distance (Miles)\": 2.0, \"Quarter\": \"2025 Q1\"}, {\"Direction (0/1)\": 1, \"Period\": \"All Day\", \"Average Scheduled Service (trip minutes)\": 35.0, \"# Scheduled Trips\": 384, \"# Realtime Trips\": 384, \"Route\": \"1 CALIFORNIA\", \"Direction\": \"Eastbound\", \"# Minutes with 1+ VP per Minute\": 9422.0, \"# Minutes with 2+ VP per Minute\": 9299.0, \"# Early Arrival Trips\": 2, \"# On-Time Trips\": 30, \"# Late Trips\": 352, \"Average VP per Minute\": 2.0, \"% VP within Scheduled Shape\": 100.0, \"% Scheduled Trip w/ 1+ VP/Minute\": 100.0, \"% Scheduled Trip w/ 2+ VP/Minute\": 100.0, \"Realtime versus Scheduled Service Ratio\": 2.0, \"Speed (MPH)\": 14.0, \"Portfolio Organization Name\": \"City and County of San Francisco\", \"Headway (Minutes)\": 8.0, \"GTFS Availability\": \"schedule_and_vp\", \"Average Stop Distance (Miles)\": 2.0, \"Quarter\": \"2025 Q1\"}, {\"Direction (0/1)\": 0, \"Period\": \"All Day\", \"Average Scheduled Service (trip minutes)\": 35.0, \"# Scheduled Trips\": 378, \"# Realtime Trips\": 376, \"Route\": \"1 CALIFORNIA\", \"Direction\": \"Westbound\", \"# Minutes with 1+ VP per Minute\": 8125.0, \"# Minutes with 2+ VP per Minute\": 7995.0, \"# Early Arrival Trips\": 6, \"# On-Time Trips\": 156, \"# Late Trips\": 214, \"Average VP per Minute\": 2.0, \"% VP within Scheduled Shape\": 100.0, \"% Scheduled Trip w/ 1+ VP/Minute\": 100.0, \"% Scheduled Trip w/ 2+ VP/Minute\": 100.0, \"Realtime versus Scheduled Service Ratio\": 2.0, \"Speed (MPH)\": 8.0, \"Portfolio Organization Name\": \"City and County of San Francisco\", \"Headway (Minutes)\": 8.0, \"GTFS Availability\": \"schedule_and_vp\", \"Average Stop Distance (Miles)\": 2.0, \"Quarter\": \"2025 Q2\"}, {\"Direction (0/1)\": 1, \"Period\": \"All Day\", \"Average Scheduled Service (trip minutes)\": 35.0, \"# Scheduled Trips\": 384, \"# Realtime Trips\": 384, \"Route\": \"1 CALIFORNIA\", \"Direction\": \"Eastbound\", \"# Minutes with 1+ VP per Minute\": 10212.0, \"# Minutes with 2+ VP per Minute\": 10072.0, \"# Early Arrival Trips\": 4, \"# On-Time Trips\": 16, \"# Late Trips\": 364, \"Average VP per Minute\": 2.0, \"% VP within Scheduled Shape\": 100.0, \"% Scheduled Trip w/ 1+ VP/Minute\": 200.0, \"% Scheduled Trip w/ 2+ VP/Minute\": 200.0, \"Realtime versus Scheduled Service Ratio\": 2.0, \"Speed (MPH)\": 15.0, \"Portfolio Organization Name\": \"City and County of San Francisco\", \"Headway (Minutes)\": 8.0, \"GTFS Availability\": \"schedule_and_vp\", \"Average Stop Distance (Miles)\": 3.0, \"Quarter\": \"2025 Q2\"}, {\"Direction (0/1)\": 0, \"Period\": \"All Day\", \"Average Scheduled Service (trip minutes)\": 41.0, \"# Scheduled Trips\": 151, \"# Realtime Trips\": 150, \"Route\": \"1 CALIFORNIA\", \"Direction\": \"Westbound\", \"# Minutes with 1+ VP per Minute\": 7853.0, \"# Minutes with 2+ VP per Minute\": 7751.0, \"# Early Arrival Trips\": 3, \"# On-Time Trips\": 24, \"# Late Trips\": 123, \"Average VP per Minute\": 2.0, \"% VP within Scheduled Shape\": 100.0, \"% Scheduled Trip w/ 1+ VP/Minute\": 100.0, \"% Scheduled Trip w/ 2+ VP/Minute\": 100.0, \"Realtime versus Scheduled Service Ratio\": 2.0, \"Speed (MPH)\": 5.0, \"Portfolio Organization Name\": \"City and County of San Francisco\", \"Headway (Minutes)\": 10.0, \"GTFS Availability\": \"schedule_and_vp\", \"Average Stop Distance (Miles)\": 0.0, \"Quarter\": \"2023 Q1\"}, {\"Direction (0/1)\": 1, \"Period\": \"All Day\", \"Average Scheduled Service (trip minutes)\": 38.0, \"# Scheduled Trips\": 158, \"# Realtime Trips\": 156, \"Route\": \"1 CALIFORNIA\", \"Direction\": \"Eastbound\", \"# Minutes with 1+ VP per Minute\": 8678.0, \"# Minutes with 2+ VP per Minute\": 8559.0, \"# Early Arrival Trips\": 1, \"# On-Time Trips\": 13, \"# Late Trips\": 142, \"Average VP per Minute\": 2.0, \"% VP within Scheduled Shape\": 100.0, \"% Scheduled Trip w/ 1+ VP/Minute\": 100.0, \"% Scheduled Trip w/ 2+ VP/Minute\": 100.0, \"Realtime versus Scheduled Service Ratio\": 2.0, \"Speed (MPH)\": 5.0, \"Portfolio Organization Name\": \"City and County of San Francisco\", \"Headway (Minutes)\": 9.0, \"GTFS Availability\": \"schedule_and_vp\", \"Average Stop Distance (Miles)\": 0.0, \"Quarter\": \"2023 Q1\"}], \"data-83a01a0d96f2bd579148b2ee059dbae5\": [{\"Direction (0/1)\": 0, \"Period\": \"All Day\", \"Average Scheduled Service (trip minutes)\": 40.0, \"# Scheduled Trips\": 477, \"# Realtime Trips\": 475, \"Route\": \"1 CALIFORNIA\", \"Direction\": \"Westbound\", \"# Minutes with 1+ VP per Minute\": 8063.0, \"# Minutes with 2+ VP per Minute\": 7950.0, \"# Early Arrival Trips\": 4, \"# On-Time Trips\": 121, \"# Late Trips\": 350, \"Average VP per Minute\": 2.0, \"% VP within Scheduled Shape\": 100.0, \"% Scheduled Trip w/ 1+ VP/Minute\": 100.0, \"% Scheduled Trip w/ 2+ VP/Minute\": 100.0, \"Realtime versus Scheduled Service Ratio\": 2.0, \"Speed (MPH)\": 5.0, \"Portfolio Organization Name\": \"City and County of San Francisco\", \"Headway (Minutes)\": 9.0, \"GTFS Availability\": \"schedule_and_vp\", \"Average Stop Distance (Miles)\": 0.0, \"Quarter\": \"2023 Q2\", \"ruler\": 3}, {\"Direction (0/1)\": 1, \"Period\": \"All Day\", \"Average Scheduled Service (trip minutes)\": 38.0, \"# Scheduled Trips\": 494, \"# Realtime Trips\": 485, \"Route\": \"1 CALIFORNIA\", \"Direction\": \"Eastbound\", \"# Minutes with 1+ VP per Minute\": 9054.0, \"# Minutes with 2+ VP per Minute\": 8935.0, \"# Early Arrival Trips\": 5, \"# On-Time Trips\": 34, \"# Late Trips\": 446, \"Average VP per Minute\": 2.0, \"% VP within Scheduled Shape\": 100.0, \"% Scheduled Trip w/ 1+ VP/Minute\": 100.0, \"% Scheduled Trip w/ 2+ VP/Minute\": 100.0, \"Realtime versus Scheduled Service Ratio\": 2.0, \"Speed (MPH)\": 5.0, \"Portfolio Organization Name\": \"City and County of San Francisco\", \"Headway (Minutes)\": 9.0, \"GTFS Availability\": \"schedule_and_vp\", \"Average Stop Distance (Miles)\": 0.0, \"Quarter\": \"2023 Q2\", \"ruler\": 3}, {\"Direction (0/1)\": 0, \"Period\": \"All Day\", \"Average Scheduled Service (trip minutes)\": 38.0, \"# Scheduled Trips\": 350, \"# Realtime Trips\": 347, \"Route\": \"1 CALIFORNIA\", \"Direction\": \"Westbound\", \"# Minutes with 1+ VP per Minute\": 8176.0, \"# Minutes with 2+ VP per Minute\": 8050.0, \"# Early Arrival Trips\": 3, \"# On-Time Trips\": 131, \"# Late Trips\": 213, \"Average VP per Minute\": 2.0, \"% VP within Scheduled Shape\": 100.0, \"% Scheduled Trip w/ 1+ VP/Minute\": 100.0, \"% Scheduled Trip w/ 2+ VP/Minute\": 100.0, \"Realtime versus Scheduled Service Ratio\": 2.0, \"Speed (MPH)\": 5.0, \"Portfolio Organization Name\": \"City and County of San Francisco\", \"Headway (Minutes)\": 8.0, \"GTFS Availability\": \"schedule_and_vp\", \"Average Stop Distance (Miles)\": 0.0, \"Quarter\": \"2023 Q3\", \"ruler\": 3}, {\"Direction (0/1)\": 1, \"Period\": \"All Day\", \"Average Scheduled Service (trip minutes)\": 36.0, \"# Scheduled Trips\": 356, \"# Realtime Trips\": 350, \"Route\": \"1 CALIFORNIA\", \"Direction\": \"Eastbound\", \"# Minutes with 1+ VP per Minute\": 9665.0, \"# Minutes with 2+ VP per Minute\": 9548.0, \"# Early Arrival Trips\": 1, \"# On-Time Trips\": 25, \"# Late Trips\": 324, \"Average VP per Minute\": 2.0, \"% VP within Scheduled Shape\": 100.0, \"% Scheduled Trip w/ 1+ VP/Minute\": 200.0, \"% Scheduled Trip w/ 2+ VP/Minute\": 100.0, \"Realtime versus Scheduled Service Ratio\": 2.0, \"Speed (MPH)\": 5.0, \"Portfolio Organization Name\": \"City and County of San Francisco\", \"Headway (Minutes)\": 8.0, \"GTFS Availability\": \"schedule_and_vp\", \"Average Stop Distance (Miles)\": 0.0, \"Quarter\": \"2023 Q3\", \"ruler\": 3}, {\"Direction (0/1)\": 0, \"Period\": \"All Day\", \"Average Scheduled Service (trip minutes)\": 38.0, \"# Scheduled Trips\": 525, \"# Realtime Trips\": 514, \"Route\": \"1 CALIFORNIA\", \"Direction\": \"Westbound\", \"# Minutes with 1+ VP per Minute\": 8252.0, \"# Minutes with 2+ VP per Minute\": 8131.0, \"# Early Arrival Trips\": 14, \"# On-Time Trips\": 153, \"# Late Trips\": 347, \"Average VP per Minute\": 2.0, \"% VP within Scheduled Shape\": 100.0, \"% Scheduled Trip w/ 1+ VP/Minute\": 100.0, \"% Scheduled Trip w/ 2+ VP/Minute\": 100.0, \"Realtime versus Scheduled Service Ratio\": 2.0, \"Speed (MPH)\": 5.0, \"Portfolio Organization Name\": \"City and County of San Francisco\", \"Headway (Minutes)\": 8.0, \"GTFS Availability\": \"schedule_and_vp\", \"Average Stop Distance (Miles)\": 0.0, \"Quarter\": \"2023 Q4\", \"ruler\": 3}, {\"Direction (0/1)\": 1, \"Period\": \"All Day\", \"Average Scheduled Service (trip minutes)\": 36.0, \"# Scheduled Trips\": 534, \"# Realtime Trips\": 522, \"Route\": \"1 CALIFORNIA\", \"Direction\": \"Eastbound\", \"# Minutes with 1+ VP per Minute\": 9377.0, \"# Minutes with 2+ VP per Minute\": 9249.0, \"# Early Arrival Trips\": 7, \"# On-Time Trips\": 41, \"# Late Trips\": 474, \"Average VP per Minute\": 2.0, \"% VP within Scheduled Shape\": 100.0, \"% Scheduled Trip w/ 1+ VP/Minute\": 100.0, \"% Scheduled Trip w/ 2+ VP/Minute\": 100.0, \"Realtime versus Scheduled Service Ratio\": 2.0, \"Speed (MPH)\": 5.0, \"Portfolio Organization Name\": \"City and County of San Francisco\", \"Headway (Minutes)\": 8.0, \"GTFS Availability\": \"schedule_and_vp\", \"Average Stop Distance (Miles)\": 0.0, \"Quarter\": \"2023 Q4\", \"ruler\": 3}, {\"Direction (0/1)\": 0, \"Period\": \"All Day\", \"Average Scheduled Service (trip minutes)\": 38.0, \"# Scheduled Trips\": 525, \"# Realtime Trips\": 525, \"Route\": \"1 CALIFORNIA\", \"Direction\": \"Westbound\", \"# Minutes with 1+ VP per Minute\": 8012.0, \"# Minutes with 2+ VP per Minute\": 7893.0, \"# Early Arrival Trips\": 10, \"# On-Time Trips\": 236, \"# Late Trips\": 279, \"Average VP per Minute\": 2.0, \"% VP within Scheduled Shape\": 100.0, \"% Scheduled Trip w/ 1+ VP/Minute\": 100.0, \"% Scheduled Trip w/ 2+ VP/Minute\": 100.0, \"Realtime versus Scheduled Service Ratio\": 2.0, \"Speed (MPH)\": 5.0, \"Portfolio Organization Name\": \"City and County of San Francisco\", \"Headway (Minutes)\": 8.0, \"GTFS Availability\": \"schedule_and_vp\", \"Average Stop Distance (Miles)\": 0.0, \"Quarter\": \"2024 Q1\", \"ruler\": 3}, {\"Direction (0/1)\": 1, \"Period\": \"All Day\", \"Average Scheduled Service (trip minutes)\": 36.0, \"# Scheduled Trips\": 534, \"# Realtime Trips\": 532, \"Route\": \"1 CALIFORNIA\", \"Direction\": \"Eastbound\", \"# Minutes with 1+ VP per Minute\": 9981.0, \"# Minutes with 2+ VP per Minute\": 9858.0, \"# Early Arrival Trips\": 3, \"# On-Time Trips\": 30, \"# Late Trips\": 499, \"Average VP per Minute\": 2.0, \"% VP within Scheduled Shape\": 100.0, \"% Scheduled Trip w/ 1+ VP/Minute\": 200.0, \"% Scheduled Trip w/ 2+ VP/Minute\": 200.0, \"Realtime versus Scheduled Service Ratio\": 2.0, \"Speed (MPH)\": 5.0, \"Portfolio Organization Name\": \"City and County of San Francisco\", \"Headway (Minutes)\": 8.0, \"GTFS Availability\": \"schedule_and_vp\", \"Average Stop Distance (Miles)\": 0.0, \"Quarter\": \"2024 Q1\", \"ruler\": 3}, {\"Direction (0/1)\": 0, \"Period\": \"All Day\", \"Average Scheduled Service (trip minutes)\": 38.0, \"# Scheduled Trips\": 350, \"# Realtime Trips\": 346, \"Route\": \"1 CALIFORNIA\", \"Direction\": \"Westbound\", \"# Minutes with 1+ VP per Minute\": 8280.0, \"# Minutes with 2+ VP per Minute\": 8170.0, \"# Early Arrival Trips\": 8, \"# On-Time Trips\": 100, \"# Late Trips\": 238, \"Average VP per Minute\": 2.0, \"% VP within Scheduled Shape\": 100.0, \"% Scheduled Trip w/ 1+ VP/Minute\": 100.0, \"% Scheduled Trip w/ 2+ VP/Minute\": 100.0, \"Realtime versus Scheduled Service Ratio\": 2.0, \"Speed (MPH)\": 5.0, \"Portfolio Organization Name\": \"City and County of San Francisco\", \"Headway (Minutes)\": 8.0, \"GTFS Availability\": \"schedule_and_vp\", \"Average Stop Distance (Miles)\": 0.0, \"Quarter\": \"2024 Q2\", \"ruler\": 3}, {\"Direction (0/1)\": 1, \"Period\": \"All Day\", \"Average Scheduled Service (trip minutes)\": 36.0, \"# Scheduled Trips\": 356, \"# Realtime Trips\": 350, \"Route\": \"1 CALIFORNIA\", \"Direction\": \"Eastbound\", \"# Minutes with 1+ VP per Minute\": 9335.0, \"# Minutes with 2+ VP per Minute\": 9216.0, \"# Early Arrival Trips\": 6, \"# On-Time Trips\": 23, \"# Late Trips\": 321, \"Average VP per Minute\": 2.0, \"% VP within Scheduled Shape\": 100.0, \"% Scheduled Trip w/ 1+ VP/Minute\": 100.0, \"% Scheduled Trip w/ 2+ VP/Minute\": 100.0, \"Realtime versus Scheduled Service Ratio\": 2.0, \"Speed (MPH)\": 5.0, \"Portfolio Organization Name\": \"City and County of San Francisco\", \"Headway (Minutes)\": 8.0, \"GTFS Availability\": \"schedule_and_vp\", \"Average Stop Distance (Miles)\": 0.0, \"Quarter\": \"2024 Q2\", \"ruler\": 3}, {\"Direction (0/1)\": 0, \"Period\": \"All Day\", \"Average Scheduled Service (trip minutes)\": 37.0, \"# Scheduled Trips\": 539, \"# Realtime Trips\": 530, \"Route\": \"1 CALIFORNIA\", \"Direction\": \"Westbound\", \"# Minutes with 1+ VP per Minute\": 8862.0, \"# Minutes with 2+ VP per Minute\": 8739.0, \"# Early Arrival Trips\": 9, \"# On-Time Trips\": 55, \"# Late Trips\": 466, \"Average VP per Minute\": 2.0, \"% VP within Scheduled Shape\": 100.0, \"% Scheduled Trip w/ 1+ VP/Minute\": 100.0, \"% Scheduled Trip w/ 2+ VP/Minute\": 100.0, \"Realtime versus Scheduled Service Ratio\": 2.0, \"Speed (MPH)\": 5.0, \"Portfolio Organization Name\": \"City and County of San Francisco\", \"Headway (Minutes)\": 8.0, \"GTFS Availability\": \"schedule_and_vp\", \"Average Stop Distance (Miles)\": 0.0, \"Quarter\": \"2024 Q3\", \"ruler\": 3}, {\"Direction (0/1)\": 1, \"Period\": \"All Day\", \"Average Scheduled Service (trip minutes)\": 36.0, \"# Scheduled Trips\": 548, \"# Realtime Trips\": 543, \"Route\": \"1 CALIFORNIA\", \"Direction\": \"Eastbound\", \"# Minutes with 1+ VP per Minute\": 8836.0, \"# Minutes with 2+ VP per Minute\": 8685.0, \"# Early Arrival Trips\": 13, \"# On-Time Trips\": 59, \"# Late Trips\": 471, \"Average VP per Minute\": 2.0, \"% VP within Scheduled Shape\": 100.0, \"% Scheduled Trip w/ 1+ VP/Minute\": 100.0, \"% Scheduled Trip w/ 2+ VP/Minute\": 100.0, \"Realtime versus Scheduled Service Ratio\": 2.0, \"Speed (MPH)\": 5.0, \"Portfolio Organization Name\": \"City and County of San Francisco\", \"Headway (Minutes)\": 8.0, \"GTFS Availability\": \"schedule_and_vp\", \"Average Stop Distance (Miles)\": 0.0, \"Quarter\": \"2024 Q3\", \"ruler\": 3}, {\"Direction (0/1)\": 0, \"Period\": \"All Day\", \"Average Scheduled Service (trip minutes)\": 35.0, \"# Scheduled Trips\": 567, \"# Realtime Trips\": 565, \"Route\": \"1 CALIFORNIA\", \"Direction\": \"Westbound\", \"# Minutes with 1+ VP per Minute\": 9020.0, \"# Minutes with 2+ VP per Minute\": 8901.0, \"# Early Arrival Trips\": 2, \"# On-Time Trips\": 64, \"# Late Trips\": 499, \"Average VP per Minute\": 2.0, \"% VP within Scheduled Shape\": 100.0, \"% Scheduled Trip w/ 1+ VP/Minute\": 100.0, \"% Scheduled Trip w/ 2+ VP/Minute\": 100.0, \"Realtime versus Scheduled Service Ratio\": 2.0, \"Speed (MPH)\": 6.0, \"Portfolio Organization Name\": \"City and County of San Francisco\", \"Headway (Minutes)\": 8.0, \"GTFS Availability\": \"schedule_and_vp\", \"Average Stop Distance (Miles)\": 1.0, \"Quarter\": \"2024 Q4\", \"ruler\": 3}, {\"Direction (0/1)\": 1, \"Period\": \"All Day\", \"Average Scheduled Service (trip minutes)\": 35.0, \"# Scheduled Trips\": 576, \"# Realtime Trips\": 573, \"Route\": \"1 CALIFORNIA\", \"Direction\": \"Eastbound\", \"# Minutes with 1+ VP per Minute\": 9472.0, \"# Minutes with 2+ VP per Minute\": 9343.0, \"# Early Arrival Trips\": 5, \"# On-Time Trips\": 43, \"# Late Trips\": 525, \"Average VP per Minute\": 2.0, \"% VP within Scheduled Shape\": 100.0, \"% Scheduled Trip w/ 1+ VP/Minute\": 100.0, \"% Scheduled Trip w/ 2+ VP/Minute\": 100.0, \"Realtime versus Scheduled Service Ratio\": 2.0, \"Speed (MPH)\": 5.0, \"Portfolio Organization Name\": \"City and County of San Francisco\", \"Headway (Minutes)\": 8.0, \"GTFS Availability\": \"schedule_and_vp\", \"Average Stop Distance (Miles)\": 1.0, \"Quarter\": \"2024 Q4\", \"ruler\": 3}, {\"Direction (0/1)\": 0, \"Period\": \"All Day\", \"Average Scheduled Service (trip minutes)\": 35.0, \"# Scheduled Trips\": 378, \"# Realtime Trips\": 378, \"Route\": \"1 CALIFORNIA\", \"Direction\": \"Westbound\", \"# Minutes with 1+ VP per Minute\": 9181.0, \"# Minutes with 2+ VP per Minute\": 9071.0, \"# Early Arrival Trips\": 1, \"# On-Time Trips\": 40, \"# Late Trips\": 337, \"Average VP per Minute\": 2.0, \"% VP within Scheduled Shape\": 100.0, \"% Scheduled Trip w/ 1+ VP/Minute\": 100.0, \"% Scheduled Trip w/ 2+ VP/Minute\": 100.0, \"Realtime versus Scheduled Service Ratio\": 2.0, \"Speed (MPH)\": 9.0, \"Portfolio Organization Name\": \"City and County of San Francisco\", \"Headway (Minutes)\": 8.0, \"GTFS Availability\": \"schedule_and_vp\", \"Average Stop Distance (Miles)\": 2.0, \"Quarter\": \"2025 Q1\", \"ruler\": 3}, {\"Direction (0/1)\": 1, \"Period\": \"All Day\", \"Average Scheduled Service (trip minutes)\": 35.0, \"# Scheduled Trips\": 384, \"# Realtime Trips\": 384, \"Route\": \"1 CALIFORNIA\", \"Direction\": \"Eastbound\", \"# Minutes with 1+ VP per Minute\": 9422.0, \"# Minutes with 2+ VP per Minute\": 9299.0, \"# Early Arrival Trips\": 2, \"# On-Time Trips\": 30, \"# Late Trips\": 352, \"Average VP per Minute\": 2.0, \"% VP within Scheduled Shape\": 100.0, \"% Scheduled Trip w/ 1+ VP/Minute\": 100.0, \"% Scheduled Trip w/ 2+ VP/Minute\": 100.0, \"Realtime versus Scheduled Service Ratio\": 2.0, \"Speed (MPH)\": 14.0, \"Portfolio Organization Name\": \"City and County of San Francisco\", \"Headway (Minutes)\": 8.0, \"GTFS Availability\": \"schedule_and_vp\", \"Average Stop Distance (Miles)\": 2.0, \"Quarter\": \"2025 Q1\", \"ruler\": 3}, {\"Direction (0/1)\": 0, \"Period\": \"All Day\", \"Average Scheduled Service (trip minutes)\": 35.0, \"# Scheduled Trips\": 378, \"# Realtime Trips\": 376, \"Route\": \"1 CALIFORNIA\", \"Direction\": \"Westbound\", \"# Minutes with 1+ VP per Minute\": 8125.0, \"# Minutes with 2+ VP per Minute\": 7995.0, \"# Early Arrival Trips\": 6, \"# On-Time Trips\": 156, \"# Late Trips\": 214, \"Average VP per Minute\": 2.0, \"% VP within Scheduled Shape\": 100.0, \"% Scheduled Trip w/ 1+ VP/Minute\": 100.0, \"% Scheduled Trip w/ 2+ VP/Minute\": 100.0, \"Realtime versus Scheduled Service Ratio\": 2.0, \"Speed (MPH)\": 8.0, \"Portfolio Organization Name\": \"City and County of San Francisco\", \"Headway (Minutes)\": 8.0, \"GTFS Availability\": \"schedule_and_vp\", \"Average Stop Distance (Miles)\": 2.0, \"Quarter\": \"2025 Q2\", \"ruler\": 3}, {\"Direction (0/1)\": 1, \"Period\": \"All Day\", \"Average Scheduled Service (trip minutes)\": 35.0, \"# Scheduled Trips\": 384, \"# Realtime Trips\": 384, \"Route\": \"1 CALIFORNIA\", \"Direction\": \"Eastbound\", \"# Minutes with 1+ VP per Minute\": 10212.0, \"# Minutes with 2+ VP per Minute\": 10072.0, \"# Early Arrival Trips\": 4, \"# On-Time Trips\": 16, \"# Late Trips\": 364, \"Average VP per Minute\": 2.0, \"% VP within Scheduled Shape\": 100.0, \"% Scheduled Trip w/ 1+ VP/Minute\": 200.0, \"% Scheduled Trip w/ 2+ VP/Minute\": 200.0, \"Realtime versus Scheduled Service Ratio\": 2.0, \"Speed (MPH)\": 15.0, \"Portfolio Organization Name\": \"City and County of San Francisco\", \"Headway (Minutes)\": 8.0, \"GTFS Availability\": \"schedule_and_vp\", \"Average Stop Distance (Miles)\": 3.0, \"Quarter\": \"2025 Q2\", \"ruler\": 3}, {\"Direction (0/1)\": 0, \"Period\": \"All Day\", \"Average Scheduled Service (trip minutes)\": 41.0, \"# Scheduled Trips\": 151, \"# Realtime Trips\": 150, \"Route\": \"1 CALIFORNIA\", \"Direction\": \"Westbound\", \"# Minutes with 1+ VP per Minute\": 7853.0, \"# Minutes with 2+ VP per Minute\": 7751.0, \"# Early Arrival Trips\": 3, \"# On-Time Trips\": 24, \"# Late Trips\": 123, \"Average VP per Minute\": 2.0, \"% VP within Scheduled Shape\": 100.0, \"% Scheduled Trip w/ 1+ VP/Minute\": 100.0, \"% Scheduled Trip w/ 2+ VP/Minute\": 100.0, \"Realtime versus Scheduled Service Ratio\": 2.0, \"Speed (MPH)\": 5.0, \"Portfolio Organization Name\": \"City and County of San Francisco\", \"Headway (Minutes)\": 10.0, \"GTFS Availability\": \"schedule_and_vp\", \"Average Stop Distance (Miles)\": 0.0, \"Quarter\": \"2023 Q1\", \"ruler\": 3}, {\"Direction (0/1)\": 1, \"Period\": \"All Day\", \"Average Scheduled Service (trip minutes)\": 38.0, \"# Scheduled Trips\": 158, \"# Realtime Trips\": 156, \"Route\": \"1 CALIFORNIA\", \"Direction\": \"Eastbound\", \"# Minutes with 1+ VP per Minute\": 8678.0, \"# Minutes with 2+ VP per Minute\": 8559.0, \"# Early Arrival Trips\": 1, \"# On-Time Trips\": 13, \"# Late Trips\": 142, \"Average VP per Minute\": 2.0, \"% VP within Scheduled Shape\": 100.0, \"% Scheduled Trip w/ 1+ VP/Minute\": 100.0, \"% Scheduled Trip w/ 2+ VP/Minute\": 100.0, \"Realtime versus Scheduled Service Ratio\": 2.0, \"Speed (MPH)\": 5.0, \"Portfolio Organization Name\": \"City and County of San Francisco\", \"Headway (Minutes)\": 9.0, \"GTFS Availability\": \"schedule_and_vp\", \"Average Stop Distance (Miles)\": 0.0, \"Quarter\": \"2023 Q1\", \"ruler\": 3}]}}, {\"mode\": \"vega-lite\"});\n",
       "</script>"
      ],
      "text/plain": [
       "alt.FacetChart(...)"
      ]
     },
     "execution_count": 21,
     "metadata": {},
     "output_type": "execute_result"
    }
   ],
   "source": [
    "vp_per_minute_chart(qtr_df.loc[qtr_df[\"Period\"]==\"All Day\"])"
   ]
  },
  {
   "cell_type": "code",
   "execution_count": 24,
   "id": "392accf2-44a7-4921-af50-474e7a87ab06",
   "metadata": {
    "tags": []
   },
   "outputs": [],
   "source": [
    "def avg_scheduled_min_chart(df):\n",
    "    specific_chart_dict = readable_dict.avg_scheduled_min_graph\n",
    "    \n",
    "    chart = _report_route_dir_visuals.grouped_bar_chart(\n",
    "        df,\n",
    "        x_col = \"Quarter\",\n",
    "        y_col=\"Average Scheduled Service (trip minutes)\",\n",
    "        color_col=\"Direction:N\",\n",
    "        color_scheme = [*specific_chart_dict.colors],\n",
    "        tooltip_cols = [*specific_chart_dict.tooltip],\n",
    "        date_format = \"\",\n",
    "        offset_col=\"Direction:N\",\n",
    "    )\n",
    "        \n",
    "    chart = _report_route_dir_visuals.configure_chart(\n",
    "        chart,\n",
    "        width = 400, height = 250, \n",
    "        title = specific_chart_dict.title, \n",
    "        subtitle = specific_chart_dict.subtitle\n",
    "    )    \n",
    "    \n",
    "    return chart"
   ]
  },
  {
   "cell_type": "code",
   "execution_count": 25,
   "id": "9889b837-ed78-478d-ba9e-a6fa5f3a2577",
   "metadata": {
    "tags": []
   },
   "outputs": [
    {
     "data": {
      "text/html": [
       "\n",
       "<style>\n",
       "  #altair-viz-dc2d23ae29cf49f2904bfbd329571023.vega-embed {\n",
       "    width: 100%;\n",
       "    display: flex;\n",
       "  }\n",
       "\n",
       "  #altair-viz-dc2d23ae29cf49f2904bfbd329571023.vega-embed details,\n",
       "  #altair-viz-dc2d23ae29cf49f2904bfbd329571023.vega-embed details summary {\n",
       "    position: relative;\n",
       "  }\n",
       "</style>\n",
       "<div id=\"altair-viz-dc2d23ae29cf49f2904bfbd329571023\"></div>\n",
       "<script type=\"text/javascript\">\n",
       "  var VEGA_DEBUG = (typeof VEGA_DEBUG == \"undefined\") ? {} : VEGA_DEBUG;\n",
       "  (function(spec, embedOpt){\n",
       "    let outputDiv = document.currentScript.previousElementSibling;\n",
       "    if (outputDiv.id !== \"altair-viz-dc2d23ae29cf49f2904bfbd329571023\") {\n",
       "      outputDiv = document.getElementById(\"altair-viz-dc2d23ae29cf49f2904bfbd329571023\");\n",
       "    }\n",
       "\n",
       "    const paths = {\n",
       "      \"vega\": \"https://cdn.jsdelivr.net/npm/vega@5?noext\",\n",
       "      \"vega-lib\": \"https://cdn.jsdelivr.net/npm/vega-lib?noext\",\n",
       "      \"vega-lite\": \"https://cdn.jsdelivr.net/npm/vega-lite@5.20.1?noext\",\n",
       "      \"vega-embed\": \"https://cdn.jsdelivr.net/npm/vega-embed@6?noext\",\n",
       "    };\n",
       "\n",
       "    function maybeLoadScript(lib, version) {\n",
       "      var key = `${lib.replace(\"-\", \"\")}_version`;\n",
       "      return (VEGA_DEBUG[key] == version) ?\n",
       "        Promise.resolve(paths[lib]) :\n",
       "        new Promise(function(resolve, reject) {\n",
       "          var s = document.createElement('script');\n",
       "          document.getElementsByTagName(\"head\")[0].appendChild(s);\n",
       "          s.async = true;\n",
       "          s.onload = () => {\n",
       "            VEGA_DEBUG[key] = version;\n",
       "            return resolve(paths[lib]);\n",
       "          };\n",
       "          s.onerror = () => reject(`Error loading script: ${paths[lib]}`);\n",
       "          s.src = paths[lib];\n",
       "        });\n",
       "    }\n",
       "\n",
       "    function showError(err) {\n",
       "      outputDiv.innerHTML = `<div class=\"error\" style=\"color:red;\">${err}</div>`;\n",
       "      throw err;\n",
       "    }\n",
       "\n",
       "    function displayChart(vegaEmbed) {\n",
       "      vegaEmbed(outputDiv, spec, embedOpt)\n",
       "        .catch(err => showError(`Javascript Error: ${err.message}<br>This usually means there's a typo in your chart specification. See the javascript console for the full traceback.`));\n",
       "    }\n",
       "\n",
       "    if(typeof define === \"function\" && define.amd) {\n",
       "      requirejs.config({paths});\n",
       "      let deps = [\"vega-embed\"];\n",
       "      require(deps, displayChart, err => showError(`Error loading script: ${err.message}`));\n",
       "    } else {\n",
       "      maybeLoadScript(\"vega\", \"5\")\n",
       "        .then(() => maybeLoadScript(\"vega-lite\", \"5.20.1\"))\n",
       "        .then(() => maybeLoadScript(\"vega-embed\", \"6\"))\n",
       "        .catch(showError)\n",
       "        .then(() => displayChart(vegaEmbed));\n",
       "    }\n",
       "  })({\"config\": {\"view\": {\"continuousWidth\": 300, \"continuousHeight\": 300}}, \"data\": {\"name\": \"data-ba779ca335407fb9646fb0dedc0496fc\"}, \"mark\": {\"type\": \"bar\", \"size\": 5}, \"encoding\": {\"color\": {\"field\": \"Direction\", \"legend\": null, \"scale\": {\"range\": [\"#dd217d\", \"#fcb40e\", \"#ccbb44\", \"#5b8efd\"]}, \"title\": \"Direction:N\", \"type\": \"nominal\"}, \"tooltip\": [{\"field\": \"Quarter\", \"type\": \"nominal\"}, {\"field\": \"Route\", \"type\": \"nominal\"}, {\"field\": \"Direction\", \"type\": \"nominal\"}, {\"field\": \"Average Scheduled Service (trip minutes)\", \"type\": \"quantitative\"}], \"x\": {\"axis\": {\"format\": \"\", \"labelAngle\": -45}, \"field\": \"Quarter\", \"title\": \"Quarter\", \"type\": \"nominal\"}, \"xOffset\": {\"field\": \"Direction\", \"title\": \"Direction:N\", \"type\": \"nominal\"}, \"y\": {\"field\": \"Average Scheduled Service (trip minutes)\", \"title\": \"Average Scheduled Service (trip minutes)\", \"type\": \"quantitative\"}}, \"height\": 250, \"title\": {\"text\": [\"Average Scheduled Minutes\"], \"subtitle\": [\"The average minutes a trip is scheduled to run in each direction.\"]}, \"width\": 400, \"$schema\": \"https://vega.github.io/schema/vega-lite/v5.20.1.json\", \"datasets\": {\"data-ba779ca335407fb9646fb0dedc0496fc\": [{\"Direction (0/1)\": 0, \"Period\": \"All Day\", \"Average Scheduled Service (trip minutes)\": 40.0, \"# Scheduled Trips\": 477, \"# Realtime Trips\": 475, \"Route\": \"1 CALIFORNIA\", \"Direction\": \"Westbound\", \"# Minutes with 1+ VP per Minute\": 8063.0, \"# Minutes with 2+ VP per Minute\": 7950.0, \"# Early Arrival Trips\": 4, \"# On-Time Trips\": 121, \"# Late Trips\": 350, \"Average VP per Minute\": 2.0, \"% VP within Scheduled Shape\": 100.0, \"% Scheduled Trip w/ 1+ VP/Minute\": 100.0, \"% Scheduled Trip w/ 2+ VP/Minute\": 100.0, \"Realtime versus Scheduled Service Ratio\": 2.0, \"Speed (MPH)\": 5.0, \"Portfolio Organization Name\": \"City and County of San Francisco\", \"Headway (Minutes)\": 9.0, \"GTFS Availability\": \"schedule_and_vp\", \"Average Stop Distance (Miles)\": 0.0, \"Quarter\": \"2023 Q2\"}, {\"Direction (0/1)\": 1, \"Period\": \"All Day\", \"Average Scheduled Service (trip minutes)\": 38.0, \"# Scheduled Trips\": 494, \"# Realtime Trips\": 485, \"Route\": \"1 CALIFORNIA\", \"Direction\": \"Eastbound\", \"# Minutes with 1+ VP per Minute\": 9054.0, \"# Minutes with 2+ VP per Minute\": 8935.0, \"# Early Arrival Trips\": 5, \"# On-Time Trips\": 34, \"# Late Trips\": 446, \"Average VP per Minute\": 2.0, \"% VP within Scheduled Shape\": 100.0, \"% Scheduled Trip w/ 1+ VP/Minute\": 100.0, \"% Scheduled Trip w/ 2+ VP/Minute\": 100.0, \"Realtime versus Scheduled Service Ratio\": 2.0, \"Speed (MPH)\": 5.0, \"Portfolio Organization Name\": \"City and County of San Francisco\", \"Headway (Minutes)\": 9.0, \"GTFS Availability\": \"schedule_and_vp\", \"Average Stop Distance (Miles)\": 0.0, \"Quarter\": \"2023 Q2\"}, {\"Direction (0/1)\": 0, \"Period\": \"All Day\", \"Average Scheduled Service (trip minutes)\": 38.0, \"# Scheduled Trips\": 350, \"# Realtime Trips\": 347, \"Route\": \"1 CALIFORNIA\", \"Direction\": \"Westbound\", \"# Minutes with 1+ VP per Minute\": 8176.0, \"# Minutes with 2+ VP per Minute\": 8050.0, \"# Early Arrival Trips\": 3, \"# On-Time Trips\": 131, \"# Late Trips\": 213, \"Average VP per Minute\": 2.0, \"% VP within Scheduled Shape\": 100.0, \"% Scheduled Trip w/ 1+ VP/Minute\": 100.0, \"% Scheduled Trip w/ 2+ VP/Minute\": 100.0, \"Realtime versus Scheduled Service Ratio\": 2.0, \"Speed (MPH)\": 5.0, \"Portfolio Organization Name\": \"City and County of San Francisco\", \"Headway (Minutes)\": 8.0, \"GTFS Availability\": \"schedule_and_vp\", \"Average Stop Distance (Miles)\": 0.0, \"Quarter\": \"2023 Q3\"}, {\"Direction (0/1)\": 1, \"Period\": \"All Day\", \"Average Scheduled Service (trip minutes)\": 36.0, \"# Scheduled Trips\": 356, \"# Realtime Trips\": 350, \"Route\": \"1 CALIFORNIA\", \"Direction\": \"Eastbound\", \"# Minutes with 1+ VP per Minute\": 9665.0, \"# Minutes with 2+ VP per Minute\": 9548.0, \"# Early Arrival Trips\": 1, \"# On-Time Trips\": 25, \"# Late Trips\": 324, \"Average VP per Minute\": 2.0, \"% VP within Scheduled Shape\": 100.0, \"% Scheduled Trip w/ 1+ VP/Minute\": 200.0, \"% Scheduled Trip w/ 2+ VP/Minute\": 100.0, \"Realtime versus Scheduled Service Ratio\": 2.0, \"Speed (MPH)\": 5.0, \"Portfolio Organization Name\": \"City and County of San Francisco\", \"Headway (Minutes)\": 8.0, \"GTFS Availability\": \"schedule_and_vp\", \"Average Stop Distance (Miles)\": 0.0, \"Quarter\": \"2023 Q3\"}, {\"Direction (0/1)\": 0, \"Period\": \"All Day\", \"Average Scheduled Service (trip minutes)\": 38.0, \"# Scheduled Trips\": 525, \"# Realtime Trips\": 514, \"Route\": \"1 CALIFORNIA\", \"Direction\": \"Westbound\", \"# Minutes with 1+ VP per Minute\": 8252.0, \"# Minutes with 2+ VP per Minute\": 8131.0, \"# Early Arrival Trips\": 14, \"# On-Time Trips\": 153, \"# Late Trips\": 347, \"Average VP per Minute\": 2.0, \"% VP within Scheduled Shape\": 100.0, \"% Scheduled Trip w/ 1+ VP/Minute\": 100.0, \"% Scheduled Trip w/ 2+ VP/Minute\": 100.0, \"Realtime versus Scheduled Service Ratio\": 2.0, \"Speed (MPH)\": 5.0, \"Portfolio Organization Name\": \"City and County of San Francisco\", \"Headway (Minutes)\": 8.0, \"GTFS Availability\": \"schedule_and_vp\", \"Average Stop Distance (Miles)\": 0.0, \"Quarter\": \"2023 Q4\"}, {\"Direction (0/1)\": 1, \"Period\": \"All Day\", \"Average Scheduled Service (trip minutes)\": 36.0, \"# Scheduled Trips\": 534, \"# Realtime Trips\": 522, \"Route\": \"1 CALIFORNIA\", \"Direction\": \"Eastbound\", \"# Minutes with 1+ VP per Minute\": 9377.0, \"# Minutes with 2+ VP per Minute\": 9249.0, \"# Early Arrival Trips\": 7, \"# On-Time Trips\": 41, \"# Late Trips\": 474, \"Average VP per Minute\": 2.0, \"% VP within Scheduled Shape\": 100.0, \"% Scheduled Trip w/ 1+ VP/Minute\": 100.0, \"% Scheduled Trip w/ 2+ VP/Minute\": 100.0, \"Realtime versus Scheduled Service Ratio\": 2.0, \"Speed (MPH)\": 5.0, \"Portfolio Organization Name\": \"City and County of San Francisco\", \"Headway (Minutes)\": 8.0, \"GTFS Availability\": \"schedule_and_vp\", \"Average Stop Distance (Miles)\": 0.0, \"Quarter\": \"2023 Q4\"}, {\"Direction (0/1)\": 0, \"Period\": \"All Day\", \"Average Scheduled Service (trip minutes)\": 38.0, \"# Scheduled Trips\": 525, \"# Realtime Trips\": 525, \"Route\": \"1 CALIFORNIA\", \"Direction\": \"Westbound\", \"# Minutes with 1+ VP per Minute\": 8012.0, \"# Minutes with 2+ VP per Minute\": 7893.0, \"# Early Arrival Trips\": 10, \"# On-Time Trips\": 236, \"# Late Trips\": 279, \"Average VP per Minute\": 2.0, \"% VP within Scheduled Shape\": 100.0, \"% Scheduled Trip w/ 1+ VP/Minute\": 100.0, \"% Scheduled Trip w/ 2+ VP/Minute\": 100.0, \"Realtime versus Scheduled Service Ratio\": 2.0, \"Speed (MPH)\": 5.0, \"Portfolio Organization Name\": \"City and County of San Francisco\", \"Headway (Minutes)\": 8.0, \"GTFS Availability\": \"schedule_and_vp\", \"Average Stop Distance (Miles)\": 0.0, \"Quarter\": \"2024 Q1\"}, {\"Direction (0/1)\": 1, \"Period\": \"All Day\", \"Average Scheduled Service (trip minutes)\": 36.0, \"# Scheduled Trips\": 534, \"# Realtime Trips\": 532, \"Route\": \"1 CALIFORNIA\", \"Direction\": \"Eastbound\", \"# Minutes with 1+ VP per Minute\": 9981.0, \"# Minutes with 2+ VP per Minute\": 9858.0, \"# Early Arrival Trips\": 3, \"# On-Time Trips\": 30, \"# Late Trips\": 499, \"Average VP per Minute\": 2.0, \"% VP within Scheduled Shape\": 100.0, \"% Scheduled Trip w/ 1+ VP/Minute\": 200.0, \"% Scheduled Trip w/ 2+ VP/Minute\": 200.0, \"Realtime versus Scheduled Service Ratio\": 2.0, \"Speed (MPH)\": 5.0, \"Portfolio Organization Name\": \"City and County of San Francisco\", \"Headway (Minutes)\": 8.0, \"GTFS Availability\": \"schedule_and_vp\", \"Average Stop Distance (Miles)\": 0.0, \"Quarter\": \"2024 Q1\"}, {\"Direction (0/1)\": 0, \"Period\": \"All Day\", \"Average Scheduled Service (trip minutes)\": 38.0, \"# Scheduled Trips\": 350, \"# Realtime Trips\": 346, \"Route\": \"1 CALIFORNIA\", \"Direction\": \"Westbound\", \"# Minutes with 1+ VP per Minute\": 8280.0, \"# Minutes with 2+ VP per Minute\": 8170.0, \"# Early Arrival Trips\": 8, \"# On-Time Trips\": 100, \"# Late Trips\": 238, \"Average VP per Minute\": 2.0, \"% VP within Scheduled Shape\": 100.0, \"% Scheduled Trip w/ 1+ VP/Minute\": 100.0, \"% Scheduled Trip w/ 2+ VP/Minute\": 100.0, \"Realtime versus Scheduled Service Ratio\": 2.0, \"Speed (MPH)\": 5.0, \"Portfolio Organization Name\": \"City and County of San Francisco\", \"Headway (Minutes)\": 8.0, \"GTFS Availability\": \"schedule_and_vp\", \"Average Stop Distance (Miles)\": 0.0, \"Quarter\": \"2024 Q2\"}, {\"Direction (0/1)\": 1, \"Period\": \"All Day\", \"Average Scheduled Service (trip minutes)\": 36.0, \"# Scheduled Trips\": 356, \"# Realtime Trips\": 350, \"Route\": \"1 CALIFORNIA\", \"Direction\": \"Eastbound\", \"# Minutes with 1+ VP per Minute\": 9335.0, \"# Minutes with 2+ VP per Minute\": 9216.0, \"# Early Arrival Trips\": 6, \"# On-Time Trips\": 23, \"# Late Trips\": 321, \"Average VP per Minute\": 2.0, \"% VP within Scheduled Shape\": 100.0, \"% Scheduled Trip w/ 1+ VP/Minute\": 100.0, \"% Scheduled Trip w/ 2+ VP/Minute\": 100.0, \"Realtime versus Scheduled Service Ratio\": 2.0, \"Speed (MPH)\": 5.0, \"Portfolio Organization Name\": \"City and County of San Francisco\", \"Headway (Minutes)\": 8.0, \"GTFS Availability\": \"schedule_and_vp\", \"Average Stop Distance (Miles)\": 0.0, \"Quarter\": \"2024 Q2\"}, {\"Direction (0/1)\": 0, \"Period\": \"All Day\", \"Average Scheduled Service (trip minutes)\": 37.0, \"# Scheduled Trips\": 539, \"# Realtime Trips\": 530, \"Route\": \"1 CALIFORNIA\", \"Direction\": \"Westbound\", \"# Minutes with 1+ VP per Minute\": 8862.0, \"# Minutes with 2+ VP per Minute\": 8739.0, \"# Early Arrival Trips\": 9, \"# On-Time Trips\": 55, \"# Late Trips\": 466, \"Average VP per Minute\": 2.0, \"% VP within Scheduled Shape\": 100.0, \"% Scheduled Trip w/ 1+ VP/Minute\": 100.0, \"% Scheduled Trip w/ 2+ VP/Minute\": 100.0, \"Realtime versus Scheduled Service Ratio\": 2.0, \"Speed (MPH)\": 5.0, \"Portfolio Organization Name\": \"City and County of San Francisco\", \"Headway (Minutes)\": 8.0, \"GTFS Availability\": \"schedule_and_vp\", \"Average Stop Distance (Miles)\": 0.0, \"Quarter\": \"2024 Q3\"}, {\"Direction (0/1)\": 1, \"Period\": \"All Day\", \"Average Scheduled Service (trip minutes)\": 36.0, \"# Scheduled Trips\": 548, \"# Realtime Trips\": 543, \"Route\": \"1 CALIFORNIA\", \"Direction\": \"Eastbound\", \"# Minutes with 1+ VP per Minute\": 8836.0, \"# Minutes with 2+ VP per Minute\": 8685.0, \"# Early Arrival Trips\": 13, \"# On-Time Trips\": 59, \"# Late Trips\": 471, \"Average VP per Minute\": 2.0, \"% VP within Scheduled Shape\": 100.0, \"% Scheduled Trip w/ 1+ VP/Minute\": 100.0, \"% Scheduled Trip w/ 2+ VP/Minute\": 100.0, \"Realtime versus Scheduled Service Ratio\": 2.0, \"Speed (MPH)\": 5.0, \"Portfolio Organization Name\": \"City and County of San Francisco\", \"Headway (Minutes)\": 8.0, \"GTFS Availability\": \"schedule_and_vp\", \"Average Stop Distance (Miles)\": 0.0, \"Quarter\": \"2024 Q3\"}, {\"Direction (0/1)\": 0, \"Period\": \"All Day\", \"Average Scheduled Service (trip minutes)\": 35.0, \"# Scheduled Trips\": 567, \"# Realtime Trips\": 565, \"Route\": \"1 CALIFORNIA\", \"Direction\": \"Westbound\", \"# Minutes with 1+ VP per Minute\": 9020.0, \"# Minutes with 2+ VP per Minute\": 8901.0, \"# Early Arrival Trips\": 2, \"# On-Time Trips\": 64, \"# Late Trips\": 499, \"Average VP per Minute\": 2.0, \"% VP within Scheduled Shape\": 100.0, \"% Scheduled Trip w/ 1+ VP/Minute\": 100.0, \"% Scheduled Trip w/ 2+ VP/Minute\": 100.0, \"Realtime versus Scheduled Service Ratio\": 2.0, \"Speed (MPH)\": 6.0, \"Portfolio Organization Name\": \"City and County of San Francisco\", \"Headway (Minutes)\": 8.0, \"GTFS Availability\": \"schedule_and_vp\", \"Average Stop Distance (Miles)\": 1.0, \"Quarter\": \"2024 Q4\"}, {\"Direction (0/1)\": 1, \"Period\": \"All Day\", \"Average Scheduled Service (trip minutes)\": 35.0, \"# Scheduled Trips\": 576, \"# Realtime Trips\": 573, \"Route\": \"1 CALIFORNIA\", \"Direction\": \"Eastbound\", \"# Minutes with 1+ VP per Minute\": 9472.0, \"# Minutes with 2+ VP per Minute\": 9343.0, \"# Early Arrival Trips\": 5, \"# On-Time Trips\": 43, \"# Late Trips\": 525, \"Average VP per Minute\": 2.0, \"% VP within Scheduled Shape\": 100.0, \"% Scheduled Trip w/ 1+ VP/Minute\": 100.0, \"% Scheduled Trip w/ 2+ VP/Minute\": 100.0, \"Realtime versus Scheduled Service Ratio\": 2.0, \"Speed (MPH)\": 5.0, \"Portfolio Organization Name\": \"City and County of San Francisco\", \"Headway (Minutes)\": 8.0, \"GTFS Availability\": \"schedule_and_vp\", \"Average Stop Distance (Miles)\": 1.0, \"Quarter\": \"2024 Q4\"}, {\"Direction (0/1)\": 0, \"Period\": \"All Day\", \"Average Scheduled Service (trip minutes)\": 35.0, \"# Scheduled Trips\": 378, \"# Realtime Trips\": 378, \"Route\": \"1 CALIFORNIA\", \"Direction\": \"Westbound\", \"# Minutes with 1+ VP per Minute\": 9181.0, \"# Minutes with 2+ VP per Minute\": 9071.0, \"# Early Arrival Trips\": 1, \"# On-Time Trips\": 40, \"# Late Trips\": 337, \"Average VP per Minute\": 2.0, \"% VP within Scheduled Shape\": 100.0, \"% Scheduled Trip w/ 1+ VP/Minute\": 100.0, \"% Scheduled Trip w/ 2+ VP/Minute\": 100.0, \"Realtime versus Scheduled Service Ratio\": 2.0, \"Speed (MPH)\": 9.0, \"Portfolio Organization Name\": \"City and County of San Francisco\", \"Headway (Minutes)\": 8.0, \"GTFS Availability\": \"schedule_and_vp\", \"Average Stop Distance (Miles)\": 2.0, \"Quarter\": \"2025 Q1\"}, {\"Direction (0/1)\": 1, \"Period\": \"All Day\", \"Average Scheduled Service (trip minutes)\": 35.0, \"# Scheduled Trips\": 384, \"# Realtime Trips\": 384, \"Route\": \"1 CALIFORNIA\", \"Direction\": \"Eastbound\", \"# Minutes with 1+ VP per Minute\": 9422.0, \"# Minutes with 2+ VP per Minute\": 9299.0, \"# Early Arrival Trips\": 2, \"# On-Time Trips\": 30, \"# Late Trips\": 352, \"Average VP per Minute\": 2.0, \"% VP within Scheduled Shape\": 100.0, \"% Scheduled Trip w/ 1+ VP/Minute\": 100.0, \"% Scheduled Trip w/ 2+ VP/Minute\": 100.0, \"Realtime versus Scheduled Service Ratio\": 2.0, \"Speed (MPH)\": 14.0, \"Portfolio Organization Name\": \"City and County of San Francisco\", \"Headway (Minutes)\": 8.0, \"GTFS Availability\": \"schedule_and_vp\", \"Average Stop Distance (Miles)\": 2.0, \"Quarter\": \"2025 Q1\"}, {\"Direction (0/1)\": 0, \"Period\": \"All Day\", \"Average Scheduled Service (trip minutes)\": 35.0, \"# Scheduled Trips\": 378, \"# Realtime Trips\": 376, \"Route\": \"1 CALIFORNIA\", \"Direction\": \"Westbound\", \"# Minutes with 1+ VP per Minute\": 8125.0, \"# Minutes with 2+ VP per Minute\": 7995.0, \"# Early Arrival Trips\": 6, \"# On-Time Trips\": 156, \"# Late Trips\": 214, \"Average VP per Minute\": 2.0, \"% VP within Scheduled Shape\": 100.0, \"% Scheduled Trip w/ 1+ VP/Minute\": 100.0, \"% Scheduled Trip w/ 2+ VP/Minute\": 100.0, \"Realtime versus Scheduled Service Ratio\": 2.0, \"Speed (MPH)\": 8.0, \"Portfolio Organization Name\": \"City and County of San Francisco\", \"Headway (Minutes)\": 8.0, \"GTFS Availability\": \"schedule_and_vp\", \"Average Stop Distance (Miles)\": 2.0, \"Quarter\": \"2025 Q2\"}, {\"Direction (0/1)\": 1, \"Period\": \"All Day\", \"Average Scheduled Service (trip minutes)\": 35.0, \"# Scheduled Trips\": 384, \"# Realtime Trips\": 384, \"Route\": \"1 CALIFORNIA\", \"Direction\": \"Eastbound\", \"# Minutes with 1+ VP per Minute\": 10212.0, \"# Minutes with 2+ VP per Minute\": 10072.0, \"# Early Arrival Trips\": 4, \"# On-Time Trips\": 16, \"# Late Trips\": 364, \"Average VP per Minute\": 2.0, \"% VP within Scheduled Shape\": 100.0, \"% Scheduled Trip w/ 1+ VP/Minute\": 200.0, \"% Scheduled Trip w/ 2+ VP/Minute\": 200.0, \"Realtime versus Scheduled Service Ratio\": 2.0, \"Speed (MPH)\": 15.0, \"Portfolio Organization Name\": \"City and County of San Francisco\", \"Headway (Minutes)\": 8.0, \"GTFS Availability\": \"schedule_and_vp\", \"Average Stop Distance (Miles)\": 3.0, \"Quarter\": \"2025 Q2\"}, {\"Direction (0/1)\": 0, \"Period\": \"All Day\", \"Average Scheduled Service (trip minutes)\": 41.0, \"# Scheduled Trips\": 151, \"# Realtime Trips\": 150, \"Route\": \"1 CALIFORNIA\", \"Direction\": \"Westbound\", \"# Minutes with 1+ VP per Minute\": 7853.0, \"# Minutes with 2+ VP per Minute\": 7751.0, \"# Early Arrival Trips\": 3, \"# On-Time Trips\": 24, \"# Late Trips\": 123, \"Average VP per Minute\": 2.0, \"% VP within Scheduled Shape\": 100.0, \"% Scheduled Trip w/ 1+ VP/Minute\": 100.0, \"% Scheduled Trip w/ 2+ VP/Minute\": 100.0, \"Realtime versus Scheduled Service Ratio\": 2.0, \"Speed (MPH)\": 5.0, \"Portfolio Organization Name\": \"City and County of San Francisco\", \"Headway (Minutes)\": 10.0, \"GTFS Availability\": \"schedule_and_vp\", \"Average Stop Distance (Miles)\": 0.0, \"Quarter\": \"2023 Q1\"}, {\"Direction (0/1)\": 1, \"Period\": \"All Day\", \"Average Scheduled Service (trip minutes)\": 38.0, \"# Scheduled Trips\": 158, \"# Realtime Trips\": 156, \"Route\": \"1 CALIFORNIA\", \"Direction\": \"Eastbound\", \"# Minutes with 1+ VP per Minute\": 8678.0, \"# Minutes with 2+ VP per Minute\": 8559.0, \"# Early Arrival Trips\": 1, \"# On-Time Trips\": 13, \"# Late Trips\": 142, \"Average VP per Minute\": 2.0, \"% VP within Scheduled Shape\": 100.0, \"% Scheduled Trip w/ 1+ VP/Minute\": 100.0, \"% Scheduled Trip w/ 2+ VP/Minute\": 100.0, \"Realtime versus Scheduled Service Ratio\": 2.0, \"Speed (MPH)\": 5.0, \"Portfolio Organization Name\": \"City and County of San Francisco\", \"Headway (Minutes)\": 9.0, \"GTFS Availability\": \"schedule_and_vp\", \"Average Stop Distance (Miles)\": 0.0, \"Quarter\": \"2023 Q1\"}]}}, {\"mode\": \"vega-lite\"});\n",
       "</script>"
      ],
      "text/plain": [
       "alt.Chart(...)"
      ]
     },
     "execution_count": 25,
     "metadata": {},
     "output_type": "execute_result"
    }
   ],
   "source": [
    "sample_avg_scheduled_min_chart(qtr_df.loc[qtr_df[\"Period\"]==\"All Day\"])"
   ]
  },
  {
   "cell_type": "code",
   "execution_count": 26,
   "id": "2276437d-9eb2-4783-9fe3-9184125735c2",
   "metadata": {
    "tags": []
   },
   "outputs": [],
   "source": [
    "def spatial_accuracy_chart(df):\n",
    "    specific_chart_dict = readable_dict.spatial_accuracy_graph\n",
    "\n",
    "    ruler = _report_route_dir_visuals.ruler_chart(df, 100)\n",
    "\n",
    "    bar = _report_route_dir_visuals.bar_chart(\n",
    "        x_col = \"Quarter\", \n",
    "        y_col = \"% VP within Scheduled Shape\", \n",
    "        color_col = \"% VP within Scheduled Shape\", \n",
    "        color_scheme = [*specific_chart_dict.colors], \n",
    "        tooltip_cols = [*specific_chart_dict.tooltip], \n",
    "        date_format=\"\"\n",
    "    )\n",
    "   \n",
    "    # write this way so that the df is inherited by .facet\n",
    "    chart = alt.layer(bar, ruler, data = df).properties(width=200, height=250)\n",
    "    chart = chart.facet(\n",
    "        column=alt.Column(\n",
    "            \"Direction:N\",\n",
    "        )\n",
    "    ).properties(\n",
    "        title={\n",
    "            \"text\": specific_chart_dict.title,\n",
    "            \"subtitle\": specific_chart_dict.subtitle,\n",
    "        }\n",
    "    )\n",
    "    \n",
    "    return chart"
   ]
  },
  {
   "cell_type": "code",
   "execution_count": 27,
   "id": "a29627b0-6bfc-4e92-86c0-8eed800d0a43",
   "metadata": {
    "tags": []
   },
   "outputs": [
    {
     "data": {
      "text/html": [
       "\n",
       "<style>\n",
       "  #altair-viz-fde85efa9c904a8cb28c6f455e377535.vega-embed {\n",
       "    width: 100%;\n",
       "    display: flex;\n",
       "  }\n",
       "\n",
       "  #altair-viz-fde85efa9c904a8cb28c6f455e377535.vega-embed details,\n",
       "  #altair-viz-fde85efa9c904a8cb28c6f455e377535.vega-embed details summary {\n",
       "    position: relative;\n",
       "  }\n",
       "</style>\n",
       "<div id=\"altair-viz-fde85efa9c904a8cb28c6f455e377535\"></div>\n",
       "<script type=\"text/javascript\">\n",
       "  var VEGA_DEBUG = (typeof VEGA_DEBUG == \"undefined\") ? {} : VEGA_DEBUG;\n",
       "  (function(spec, embedOpt){\n",
       "    let outputDiv = document.currentScript.previousElementSibling;\n",
       "    if (outputDiv.id !== \"altair-viz-fde85efa9c904a8cb28c6f455e377535\") {\n",
       "      outputDiv = document.getElementById(\"altair-viz-fde85efa9c904a8cb28c6f455e377535\");\n",
       "    }\n",
       "\n",
       "    const paths = {\n",
       "      \"vega\": \"https://cdn.jsdelivr.net/npm/vega@5?noext\",\n",
       "      \"vega-lib\": \"https://cdn.jsdelivr.net/npm/vega-lib?noext\",\n",
       "      \"vega-lite\": \"https://cdn.jsdelivr.net/npm/vega-lite@5.20.1?noext\",\n",
       "      \"vega-embed\": \"https://cdn.jsdelivr.net/npm/vega-embed@6?noext\",\n",
       "    };\n",
       "\n",
       "    function maybeLoadScript(lib, version) {\n",
       "      var key = `${lib.replace(\"-\", \"\")}_version`;\n",
       "      return (VEGA_DEBUG[key] == version) ?\n",
       "        Promise.resolve(paths[lib]) :\n",
       "        new Promise(function(resolve, reject) {\n",
       "          var s = document.createElement('script');\n",
       "          document.getElementsByTagName(\"head\")[0].appendChild(s);\n",
       "          s.async = true;\n",
       "          s.onload = () => {\n",
       "            VEGA_DEBUG[key] = version;\n",
       "            return resolve(paths[lib]);\n",
       "          };\n",
       "          s.onerror = () => reject(`Error loading script: ${paths[lib]}`);\n",
       "          s.src = paths[lib];\n",
       "        });\n",
       "    }\n",
       "\n",
       "    function showError(err) {\n",
       "      outputDiv.innerHTML = `<div class=\"error\" style=\"color:red;\">${err}</div>`;\n",
       "      throw err;\n",
       "    }\n",
       "\n",
       "    function displayChart(vegaEmbed) {\n",
       "      vegaEmbed(outputDiv, spec, embedOpt)\n",
       "        .catch(err => showError(`Javascript Error: ${err.message}<br>This usually means there's a typo in your chart specification. See the javascript console for the full traceback.`));\n",
       "    }\n",
       "\n",
       "    if(typeof define === \"function\" && define.amd) {\n",
       "      requirejs.config({paths});\n",
       "      let deps = [\"vega-embed\"];\n",
       "      require(deps, displayChart, err => showError(`Error loading script: ${err.message}`));\n",
       "    } else {\n",
       "      maybeLoadScript(\"vega\", \"5\")\n",
       "        .then(() => maybeLoadScript(\"vega-lite\", \"5.20.1\"))\n",
       "        .then(() => maybeLoadScript(\"vega-embed\", \"6\"))\n",
       "        .catch(showError)\n",
       "        .then(() => displayChart(vegaEmbed));\n",
       "    }\n",
       "  })({\"config\": {\"view\": {\"continuousWidth\": 300, \"continuousHeight\": 300}}, \"data\": {\"name\": \"data-ba779ca335407fb9646fb0dedc0496fc\"}, \"facet\": {\"column\": {\"field\": \"Direction\", \"type\": \"nominal\"}}, \"spec\": {\"layer\": [{\"mark\": {\"type\": \"bar\"}, \"encoding\": {\"color\": {\"field\": \"% VP within Scheduled Shape\", \"legend\": null, \"scale\": {\"range\": [\"#dd217d\", \"#fc5c04\", \"#ff9c42\", \"#fcb40e\", \"#e9d868\", \"#ccbb44\"]}, \"title\": \"% VP within Scheduled Shape\", \"type\": \"quantitative\"}, \"tooltip\": [{\"field\": \"Quarter\", \"type\": \"nominal\"}, {\"field\": \"Route\", \"type\": \"nominal\"}, {\"field\": \"Direction\", \"type\": \"nominal\"}, {\"field\": \"% VP within Scheduled Shape\", \"type\": \"quantitative\"}], \"x\": {\"axis\": {\"format\": \"\", \"labelAngle\": -45}, \"field\": \"Quarter\", \"title\": \"Quarter\", \"type\": \"nominal\"}, \"y\": {\"field\": \"% VP within Scheduled Shape\", \"title\": \"% VP within Scheduled Shape\", \"type\": \"quantitative\"}}}, {\"data\": {\"name\": \"data-9cb1559567cb95a8d8b6b4db14b0182d\"}, \"mark\": {\"type\": \"rule\", \"color\": \"red\", \"strokeDash\": [10, 7]}, \"encoding\": {\"y\": {\"aggregate\": \"mean\", \"field\": \"ruler\", \"type\": \"quantitative\"}}}], \"height\": 250, \"width\": 200}, \"title\": {\"text\": \"Spatial Accuracy\", \"subtitle\": \"The percentage of vehicle positions that fall within 35 meters of a route's scheduled shape (path) reflects the accuracy of the collected spatial data.\"}, \"$schema\": \"https://vega.github.io/schema/vega-lite/v5.20.1.json\", \"datasets\": {\"data-ba779ca335407fb9646fb0dedc0496fc\": [{\"Direction (0/1)\": 0, \"Period\": \"All Day\", \"Average Scheduled Service (trip minutes)\": 40.0, \"# Scheduled Trips\": 477, \"# Realtime Trips\": 475, \"Route\": \"1 CALIFORNIA\", \"Direction\": \"Westbound\", \"# Minutes with 1+ VP per Minute\": 8063.0, \"# Minutes with 2+ VP per Minute\": 7950.0, \"# Early Arrival Trips\": 4, \"# On-Time Trips\": 121, \"# Late Trips\": 350, \"Average VP per Minute\": 2.0, \"% VP within Scheduled Shape\": 100.0, \"% Scheduled Trip w/ 1+ VP/Minute\": 100.0, \"% Scheduled Trip w/ 2+ VP/Minute\": 100.0, \"Realtime versus Scheduled Service Ratio\": 2.0, \"Speed (MPH)\": 5.0, \"Portfolio Organization Name\": \"City and County of San Francisco\", \"Headway (Minutes)\": 9.0, \"GTFS Availability\": \"schedule_and_vp\", \"Average Stop Distance (Miles)\": 0.0, \"Quarter\": \"2023 Q2\"}, {\"Direction (0/1)\": 1, \"Period\": \"All Day\", \"Average Scheduled Service (trip minutes)\": 38.0, \"# Scheduled Trips\": 494, \"# Realtime Trips\": 485, \"Route\": \"1 CALIFORNIA\", \"Direction\": \"Eastbound\", \"# Minutes with 1+ VP per Minute\": 9054.0, \"# Minutes with 2+ VP per Minute\": 8935.0, \"# Early Arrival Trips\": 5, \"# On-Time Trips\": 34, \"# Late Trips\": 446, \"Average VP per Minute\": 2.0, \"% VP within Scheduled Shape\": 100.0, \"% Scheduled Trip w/ 1+ VP/Minute\": 100.0, \"% Scheduled Trip w/ 2+ VP/Minute\": 100.0, \"Realtime versus Scheduled Service Ratio\": 2.0, \"Speed (MPH)\": 5.0, \"Portfolio Organization Name\": \"City and County of San Francisco\", \"Headway (Minutes)\": 9.0, \"GTFS Availability\": \"schedule_and_vp\", \"Average Stop Distance (Miles)\": 0.0, \"Quarter\": \"2023 Q2\"}, {\"Direction (0/1)\": 0, \"Period\": \"All Day\", \"Average Scheduled Service (trip minutes)\": 38.0, \"# Scheduled Trips\": 350, \"# Realtime Trips\": 347, \"Route\": \"1 CALIFORNIA\", \"Direction\": \"Westbound\", \"# Minutes with 1+ VP per Minute\": 8176.0, \"# Minutes with 2+ VP per Minute\": 8050.0, \"# Early Arrival Trips\": 3, \"# On-Time Trips\": 131, \"# Late Trips\": 213, \"Average VP per Minute\": 2.0, \"% VP within Scheduled Shape\": 100.0, \"% Scheduled Trip w/ 1+ VP/Minute\": 100.0, \"% Scheduled Trip w/ 2+ VP/Minute\": 100.0, \"Realtime versus Scheduled Service Ratio\": 2.0, \"Speed (MPH)\": 5.0, \"Portfolio Organization Name\": \"City and County of San Francisco\", \"Headway (Minutes)\": 8.0, \"GTFS Availability\": \"schedule_and_vp\", \"Average Stop Distance (Miles)\": 0.0, \"Quarter\": \"2023 Q3\"}, {\"Direction (0/1)\": 1, \"Period\": \"All Day\", \"Average Scheduled Service (trip minutes)\": 36.0, \"# Scheduled Trips\": 356, \"# Realtime Trips\": 350, \"Route\": \"1 CALIFORNIA\", \"Direction\": \"Eastbound\", \"# Minutes with 1+ VP per Minute\": 9665.0, \"# Minutes with 2+ VP per Minute\": 9548.0, \"# Early Arrival Trips\": 1, \"# On-Time Trips\": 25, \"# Late Trips\": 324, \"Average VP per Minute\": 2.0, \"% VP within Scheduled Shape\": 100.0, \"% Scheduled Trip w/ 1+ VP/Minute\": 200.0, \"% Scheduled Trip w/ 2+ VP/Minute\": 100.0, \"Realtime versus Scheduled Service Ratio\": 2.0, \"Speed (MPH)\": 5.0, \"Portfolio Organization Name\": \"City and County of San Francisco\", \"Headway (Minutes)\": 8.0, \"GTFS Availability\": \"schedule_and_vp\", \"Average Stop Distance (Miles)\": 0.0, \"Quarter\": \"2023 Q3\"}, {\"Direction (0/1)\": 0, \"Period\": \"All Day\", \"Average Scheduled Service (trip minutes)\": 38.0, \"# Scheduled Trips\": 525, \"# Realtime Trips\": 514, \"Route\": \"1 CALIFORNIA\", \"Direction\": \"Westbound\", \"# Minutes with 1+ VP per Minute\": 8252.0, \"# Minutes with 2+ VP per Minute\": 8131.0, \"# Early Arrival Trips\": 14, \"# On-Time Trips\": 153, \"# Late Trips\": 347, \"Average VP per Minute\": 2.0, \"% VP within Scheduled Shape\": 100.0, \"% Scheduled Trip w/ 1+ VP/Minute\": 100.0, \"% Scheduled Trip w/ 2+ VP/Minute\": 100.0, \"Realtime versus Scheduled Service Ratio\": 2.0, \"Speed (MPH)\": 5.0, \"Portfolio Organization Name\": \"City and County of San Francisco\", \"Headway (Minutes)\": 8.0, \"GTFS Availability\": \"schedule_and_vp\", \"Average Stop Distance (Miles)\": 0.0, \"Quarter\": \"2023 Q4\"}, {\"Direction (0/1)\": 1, \"Period\": \"All Day\", \"Average Scheduled Service (trip minutes)\": 36.0, \"# Scheduled Trips\": 534, \"# Realtime Trips\": 522, \"Route\": \"1 CALIFORNIA\", \"Direction\": \"Eastbound\", \"# Minutes with 1+ VP per Minute\": 9377.0, \"# Minutes with 2+ VP per Minute\": 9249.0, \"# Early Arrival Trips\": 7, \"# On-Time Trips\": 41, \"# Late Trips\": 474, \"Average VP per Minute\": 2.0, \"% VP within Scheduled Shape\": 100.0, \"% Scheduled Trip w/ 1+ VP/Minute\": 100.0, \"% Scheduled Trip w/ 2+ VP/Minute\": 100.0, \"Realtime versus Scheduled Service Ratio\": 2.0, \"Speed (MPH)\": 5.0, \"Portfolio Organization Name\": \"City and County of San Francisco\", \"Headway (Minutes)\": 8.0, \"GTFS Availability\": \"schedule_and_vp\", \"Average Stop Distance (Miles)\": 0.0, \"Quarter\": \"2023 Q4\"}, {\"Direction (0/1)\": 0, \"Period\": \"All Day\", \"Average Scheduled Service (trip minutes)\": 38.0, \"# Scheduled Trips\": 525, \"# Realtime Trips\": 525, \"Route\": \"1 CALIFORNIA\", \"Direction\": \"Westbound\", \"# Minutes with 1+ VP per Minute\": 8012.0, \"# Minutes with 2+ VP per Minute\": 7893.0, \"# Early Arrival Trips\": 10, \"# On-Time Trips\": 236, \"# Late Trips\": 279, \"Average VP per Minute\": 2.0, \"% VP within Scheduled Shape\": 100.0, \"% Scheduled Trip w/ 1+ VP/Minute\": 100.0, \"% Scheduled Trip w/ 2+ VP/Minute\": 100.0, \"Realtime versus Scheduled Service Ratio\": 2.0, \"Speed (MPH)\": 5.0, \"Portfolio Organization Name\": \"City and County of San Francisco\", \"Headway (Minutes)\": 8.0, \"GTFS Availability\": \"schedule_and_vp\", \"Average Stop Distance (Miles)\": 0.0, \"Quarter\": \"2024 Q1\"}, {\"Direction (0/1)\": 1, \"Period\": \"All Day\", \"Average Scheduled Service (trip minutes)\": 36.0, \"# Scheduled Trips\": 534, \"# Realtime Trips\": 532, \"Route\": \"1 CALIFORNIA\", \"Direction\": \"Eastbound\", \"# Minutes with 1+ VP per Minute\": 9981.0, \"# Minutes with 2+ VP per Minute\": 9858.0, \"# Early Arrival Trips\": 3, \"# On-Time Trips\": 30, \"# Late Trips\": 499, \"Average VP per Minute\": 2.0, \"% VP within Scheduled Shape\": 100.0, \"% Scheduled Trip w/ 1+ VP/Minute\": 200.0, \"% Scheduled Trip w/ 2+ VP/Minute\": 200.0, \"Realtime versus Scheduled Service Ratio\": 2.0, \"Speed (MPH)\": 5.0, \"Portfolio Organization Name\": \"City and County of San Francisco\", \"Headway (Minutes)\": 8.0, \"GTFS Availability\": \"schedule_and_vp\", \"Average Stop Distance (Miles)\": 0.0, \"Quarter\": \"2024 Q1\"}, {\"Direction (0/1)\": 0, \"Period\": \"All Day\", \"Average Scheduled Service (trip minutes)\": 38.0, \"# Scheduled Trips\": 350, \"# Realtime Trips\": 346, \"Route\": \"1 CALIFORNIA\", \"Direction\": \"Westbound\", \"# Minutes with 1+ VP per Minute\": 8280.0, \"# Minutes with 2+ VP per Minute\": 8170.0, \"# Early Arrival Trips\": 8, \"# On-Time Trips\": 100, \"# Late Trips\": 238, \"Average VP per Minute\": 2.0, \"% VP within Scheduled Shape\": 100.0, \"% Scheduled Trip w/ 1+ VP/Minute\": 100.0, \"% Scheduled Trip w/ 2+ VP/Minute\": 100.0, \"Realtime versus Scheduled Service Ratio\": 2.0, \"Speed (MPH)\": 5.0, \"Portfolio Organization Name\": \"City and County of San Francisco\", \"Headway (Minutes)\": 8.0, \"GTFS Availability\": \"schedule_and_vp\", \"Average Stop Distance (Miles)\": 0.0, \"Quarter\": \"2024 Q2\"}, {\"Direction (0/1)\": 1, \"Period\": \"All Day\", \"Average Scheduled Service (trip minutes)\": 36.0, \"# Scheduled Trips\": 356, \"# Realtime Trips\": 350, \"Route\": \"1 CALIFORNIA\", \"Direction\": \"Eastbound\", \"# Minutes with 1+ VP per Minute\": 9335.0, \"# Minutes with 2+ VP per Minute\": 9216.0, \"# Early Arrival Trips\": 6, \"# On-Time Trips\": 23, \"# Late Trips\": 321, \"Average VP per Minute\": 2.0, \"% VP within Scheduled Shape\": 100.0, \"% Scheduled Trip w/ 1+ VP/Minute\": 100.0, \"% Scheduled Trip w/ 2+ VP/Minute\": 100.0, \"Realtime versus Scheduled Service Ratio\": 2.0, \"Speed (MPH)\": 5.0, \"Portfolio Organization Name\": \"City and County of San Francisco\", \"Headway (Minutes)\": 8.0, \"GTFS Availability\": \"schedule_and_vp\", \"Average Stop Distance (Miles)\": 0.0, \"Quarter\": \"2024 Q2\"}, {\"Direction (0/1)\": 0, \"Period\": \"All Day\", \"Average Scheduled Service (trip minutes)\": 37.0, \"# Scheduled Trips\": 539, \"# Realtime Trips\": 530, \"Route\": \"1 CALIFORNIA\", \"Direction\": \"Westbound\", \"# Minutes with 1+ VP per Minute\": 8862.0, \"# Minutes with 2+ VP per Minute\": 8739.0, \"# Early Arrival Trips\": 9, \"# On-Time Trips\": 55, \"# Late Trips\": 466, \"Average VP per Minute\": 2.0, \"% VP within Scheduled Shape\": 100.0, \"% Scheduled Trip w/ 1+ VP/Minute\": 100.0, \"% Scheduled Trip w/ 2+ VP/Minute\": 100.0, \"Realtime versus Scheduled Service Ratio\": 2.0, \"Speed (MPH)\": 5.0, \"Portfolio Organization Name\": \"City and County of San Francisco\", \"Headway (Minutes)\": 8.0, \"GTFS Availability\": \"schedule_and_vp\", \"Average Stop Distance (Miles)\": 0.0, \"Quarter\": \"2024 Q3\"}, {\"Direction (0/1)\": 1, \"Period\": \"All Day\", \"Average Scheduled Service (trip minutes)\": 36.0, \"# Scheduled Trips\": 548, \"# Realtime Trips\": 543, \"Route\": \"1 CALIFORNIA\", \"Direction\": \"Eastbound\", \"# Minutes with 1+ VP per Minute\": 8836.0, \"# Minutes with 2+ VP per Minute\": 8685.0, \"# Early Arrival Trips\": 13, \"# On-Time Trips\": 59, \"# Late Trips\": 471, \"Average VP per Minute\": 2.0, \"% VP within Scheduled Shape\": 100.0, \"% Scheduled Trip w/ 1+ VP/Minute\": 100.0, \"% Scheduled Trip w/ 2+ VP/Minute\": 100.0, \"Realtime versus Scheduled Service Ratio\": 2.0, \"Speed (MPH)\": 5.0, \"Portfolio Organization Name\": \"City and County of San Francisco\", \"Headway (Minutes)\": 8.0, \"GTFS Availability\": \"schedule_and_vp\", \"Average Stop Distance (Miles)\": 0.0, \"Quarter\": \"2024 Q3\"}, {\"Direction (0/1)\": 0, \"Period\": \"All Day\", \"Average Scheduled Service (trip minutes)\": 35.0, \"# Scheduled Trips\": 567, \"# Realtime Trips\": 565, \"Route\": \"1 CALIFORNIA\", \"Direction\": \"Westbound\", \"# Minutes with 1+ VP per Minute\": 9020.0, \"# Minutes with 2+ VP per Minute\": 8901.0, \"# Early Arrival Trips\": 2, \"# On-Time Trips\": 64, \"# Late Trips\": 499, \"Average VP per Minute\": 2.0, \"% VP within Scheduled Shape\": 100.0, \"% Scheduled Trip w/ 1+ VP/Minute\": 100.0, \"% Scheduled Trip w/ 2+ VP/Minute\": 100.0, \"Realtime versus Scheduled Service Ratio\": 2.0, \"Speed (MPH)\": 6.0, \"Portfolio Organization Name\": \"City and County of San Francisco\", \"Headway (Minutes)\": 8.0, \"GTFS Availability\": \"schedule_and_vp\", \"Average Stop Distance (Miles)\": 1.0, \"Quarter\": \"2024 Q4\"}, {\"Direction (0/1)\": 1, \"Period\": \"All Day\", \"Average Scheduled Service (trip minutes)\": 35.0, \"# Scheduled Trips\": 576, \"# Realtime Trips\": 573, \"Route\": \"1 CALIFORNIA\", \"Direction\": \"Eastbound\", \"# Minutes with 1+ VP per Minute\": 9472.0, \"# Minutes with 2+ VP per Minute\": 9343.0, \"# Early Arrival Trips\": 5, \"# On-Time Trips\": 43, \"# Late Trips\": 525, \"Average VP per Minute\": 2.0, \"% VP within Scheduled Shape\": 100.0, \"% Scheduled Trip w/ 1+ VP/Minute\": 100.0, \"% Scheduled Trip w/ 2+ VP/Minute\": 100.0, \"Realtime versus Scheduled Service Ratio\": 2.0, \"Speed (MPH)\": 5.0, \"Portfolio Organization Name\": \"City and County of San Francisco\", \"Headway (Minutes)\": 8.0, \"GTFS Availability\": \"schedule_and_vp\", \"Average Stop Distance (Miles)\": 1.0, \"Quarter\": \"2024 Q4\"}, {\"Direction (0/1)\": 0, \"Period\": \"All Day\", \"Average Scheduled Service (trip minutes)\": 35.0, \"# Scheduled Trips\": 378, \"# Realtime Trips\": 378, \"Route\": \"1 CALIFORNIA\", \"Direction\": \"Westbound\", \"# Minutes with 1+ VP per Minute\": 9181.0, \"# Minutes with 2+ VP per Minute\": 9071.0, \"# Early Arrival Trips\": 1, \"# On-Time Trips\": 40, \"# Late Trips\": 337, \"Average VP per Minute\": 2.0, \"% VP within Scheduled Shape\": 100.0, \"% Scheduled Trip w/ 1+ VP/Minute\": 100.0, \"% Scheduled Trip w/ 2+ VP/Minute\": 100.0, \"Realtime versus Scheduled Service Ratio\": 2.0, \"Speed (MPH)\": 9.0, \"Portfolio Organization Name\": \"City and County of San Francisco\", \"Headway (Minutes)\": 8.0, \"GTFS Availability\": \"schedule_and_vp\", \"Average Stop Distance (Miles)\": 2.0, \"Quarter\": \"2025 Q1\"}, {\"Direction (0/1)\": 1, \"Period\": \"All Day\", \"Average Scheduled Service (trip minutes)\": 35.0, \"# Scheduled Trips\": 384, \"# Realtime Trips\": 384, \"Route\": \"1 CALIFORNIA\", \"Direction\": \"Eastbound\", \"# Minutes with 1+ VP per Minute\": 9422.0, \"# Minutes with 2+ VP per Minute\": 9299.0, \"# Early Arrival Trips\": 2, \"# On-Time Trips\": 30, \"# Late Trips\": 352, \"Average VP per Minute\": 2.0, \"% VP within Scheduled Shape\": 100.0, \"% Scheduled Trip w/ 1+ VP/Minute\": 100.0, \"% Scheduled Trip w/ 2+ VP/Minute\": 100.0, \"Realtime versus Scheduled Service Ratio\": 2.0, \"Speed (MPH)\": 14.0, \"Portfolio Organization Name\": \"City and County of San Francisco\", \"Headway (Minutes)\": 8.0, \"GTFS Availability\": \"schedule_and_vp\", \"Average Stop Distance (Miles)\": 2.0, \"Quarter\": \"2025 Q1\"}, {\"Direction (0/1)\": 0, \"Period\": \"All Day\", \"Average Scheduled Service (trip minutes)\": 35.0, \"# Scheduled Trips\": 378, \"# Realtime Trips\": 376, \"Route\": \"1 CALIFORNIA\", \"Direction\": \"Westbound\", \"# Minutes with 1+ VP per Minute\": 8125.0, \"# Minutes with 2+ VP per Minute\": 7995.0, \"# Early Arrival Trips\": 6, \"# On-Time Trips\": 156, \"# Late Trips\": 214, \"Average VP per Minute\": 2.0, \"% VP within Scheduled Shape\": 100.0, \"% Scheduled Trip w/ 1+ VP/Minute\": 100.0, \"% Scheduled Trip w/ 2+ VP/Minute\": 100.0, \"Realtime versus Scheduled Service Ratio\": 2.0, \"Speed (MPH)\": 8.0, \"Portfolio Organization Name\": \"City and County of San Francisco\", \"Headway (Minutes)\": 8.0, \"GTFS Availability\": \"schedule_and_vp\", \"Average Stop Distance (Miles)\": 2.0, \"Quarter\": \"2025 Q2\"}, {\"Direction (0/1)\": 1, \"Period\": \"All Day\", \"Average Scheduled Service (trip minutes)\": 35.0, \"# Scheduled Trips\": 384, \"# Realtime Trips\": 384, \"Route\": \"1 CALIFORNIA\", \"Direction\": \"Eastbound\", \"# Minutes with 1+ VP per Minute\": 10212.0, \"# Minutes with 2+ VP per Minute\": 10072.0, \"# Early Arrival Trips\": 4, \"# On-Time Trips\": 16, \"# Late Trips\": 364, \"Average VP per Minute\": 2.0, \"% VP within Scheduled Shape\": 100.0, \"% Scheduled Trip w/ 1+ VP/Minute\": 200.0, \"% Scheduled Trip w/ 2+ VP/Minute\": 200.0, \"Realtime versus Scheduled Service Ratio\": 2.0, \"Speed (MPH)\": 15.0, \"Portfolio Organization Name\": \"City and County of San Francisco\", \"Headway (Minutes)\": 8.0, \"GTFS Availability\": \"schedule_and_vp\", \"Average Stop Distance (Miles)\": 3.0, \"Quarter\": \"2025 Q2\"}, {\"Direction (0/1)\": 0, \"Period\": \"All Day\", \"Average Scheduled Service (trip minutes)\": 41.0, \"# Scheduled Trips\": 151, \"# Realtime Trips\": 150, \"Route\": \"1 CALIFORNIA\", \"Direction\": \"Westbound\", \"# Minutes with 1+ VP per Minute\": 7853.0, \"# Minutes with 2+ VP per Minute\": 7751.0, \"# Early Arrival Trips\": 3, \"# On-Time Trips\": 24, \"# Late Trips\": 123, \"Average VP per Minute\": 2.0, \"% VP within Scheduled Shape\": 100.0, \"% Scheduled Trip w/ 1+ VP/Minute\": 100.0, \"% Scheduled Trip w/ 2+ VP/Minute\": 100.0, \"Realtime versus Scheduled Service Ratio\": 2.0, \"Speed (MPH)\": 5.0, \"Portfolio Organization Name\": \"City and County of San Francisco\", \"Headway (Minutes)\": 10.0, \"GTFS Availability\": \"schedule_and_vp\", \"Average Stop Distance (Miles)\": 0.0, \"Quarter\": \"2023 Q1\"}, {\"Direction (0/1)\": 1, \"Period\": \"All Day\", \"Average Scheduled Service (trip minutes)\": 38.0, \"# Scheduled Trips\": 158, \"# Realtime Trips\": 156, \"Route\": \"1 CALIFORNIA\", \"Direction\": \"Eastbound\", \"# Minutes with 1+ VP per Minute\": 8678.0, \"# Minutes with 2+ VP per Minute\": 8559.0, \"# Early Arrival Trips\": 1, \"# On-Time Trips\": 13, \"# Late Trips\": 142, \"Average VP per Minute\": 2.0, \"% VP within Scheduled Shape\": 100.0, \"% Scheduled Trip w/ 1+ VP/Minute\": 100.0, \"% Scheduled Trip w/ 2+ VP/Minute\": 100.0, \"Realtime versus Scheduled Service Ratio\": 2.0, \"Speed (MPH)\": 5.0, \"Portfolio Organization Name\": \"City and County of San Francisco\", \"Headway (Minutes)\": 9.0, \"GTFS Availability\": \"schedule_and_vp\", \"Average Stop Distance (Miles)\": 0.0, \"Quarter\": \"2023 Q1\"}], \"data-9cb1559567cb95a8d8b6b4db14b0182d\": [{\"Direction (0/1)\": 0, \"Period\": \"All Day\", \"Average Scheduled Service (trip minutes)\": 40.0, \"# Scheduled Trips\": 477, \"# Realtime Trips\": 475, \"Route\": \"1 CALIFORNIA\", \"Direction\": \"Westbound\", \"# Minutes with 1+ VP per Minute\": 8063.0, \"# Minutes with 2+ VP per Minute\": 7950.0, \"# Early Arrival Trips\": 4, \"# On-Time Trips\": 121, \"# Late Trips\": 350, \"Average VP per Minute\": 2.0, \"% VP within Scheduled Shape\": 100.0, \"% Scheduled Trip w/ 1+ VP/Minute\": 100.0, \"% Scheduled Trip w/ 2+ VP/Minute\": 100.0, \"Realtime versus Scheduled Service Ratio\": 2.0, \"Speed (MPH)\": 5.0, \"Portfolio Organization Name\": \"City and County of San Francisco\", \"Headway (Minutes)\": 9.0, \"GTFS Availability\": \"schedule_and_vp\", \"Average Stop Distance (Miles)\": 0.0, \"Quarter\": \"2023 Q2\", \"ruler\": 100}, {\"Direction (0/1)\": 1, \"Period\": \"All Day\", \"Average Scheduled Service (trip minutes)\": 38.0, \"# Scheduled Trips\": 494, \"# Realtime Trips\": 485, \"Route\": \"1 CALIFORNIA\", \"Direction\": \"Eastbound\", \"# Minutes with 1+ VP per Minute\": 9054.0, \"# Minutes with 2+ VP per Minute\": 8935.0, \"# Early Arrival Trips\": 5, \"# On-Time Trips\": 34, \"# Late Trips\": 446, \"Average VP per Minute\": 2.0, \"% VP within Scheduled Shape\": 100.0, \"% Scheduled Trip w/ 1+ VP/Minute\": 100.0, \"% Scheduled Trip w/ 2+ VP/Minute\": 100.0, \"Realtime versus Scheduled Service Ratio\": 2.0, \"Speed (MPH)\": 5.0, \"Portfolio Organization Name\": \"City and County of San Francisco\", \"Headway (Minutes)\": 9.0, \"GTFS Availability\": \"schedule_and_vp\", \"Average Stop Distance (Miles)\": 0.0, \"Quarter\": \"2023 Q2\", \"ruler\": 100}, {\"Direction (0/1)\": 0, \"Period\": \"All Day\", \"Average Scheduled Service (trip minutes)\": 38.0, \"# Scheduled Trips\": 350, \"# Realtime Trips\": 347, \"Route\": \"1 CALIFORNIA\", \"Direction\": \"Westbound\", \"# Minutes with 1+ VP per Minute\": 8176.0, \"# Minutes with 2+ VP per Minute\": 8050.0, \"# Early Arrival Trips\": 3, \"# On-Time Trips\": 131, \"# Late Trips\": 213, \"Average VP per Minute\": 2.0, \"% VP within Scheduled Shape\": 100.0, \"% Scheduled Trip w/ 1+ VP/Minute\": 100.0, \"% Scheduled Trip w/ 2+ VP/Minute\": 100.0, \"Realtime versus Scheduled Service Ratio\": 2.0, \"Speed (MPH)\": 5.0, \"Portfolio Organization Name\": \"City and County of San Francisco\", \"Headway (Minutes)\": 8.0, \"GTFS Availability\": \"schedule_and_vp\", \"Average Stop Distance (Miles)\": 0.0, \"Quarter\": \"2023 Q3\", \"ruler\": 100}, {\"Direction (0/1)\": 1, \"Period\": \"All Day\", \"Average Scheduled Service (trip minutes)\": 36.0, \"# Scheduled Trips\": 356, \"# Realtime Trips\": 350, \"Route\": \"1 CALIFORNIA\", \"Direction\": \"Eastbound\", \"# Minutes with 1+ VP per Minute\": 9665.0, \"# Minutes with 2+ VP per Minute\": 9548.0, \"# Early Arrival Trips\": 1, \"# On-Time Trips\": 25, \"# Late Trips\": 324, \"Average VP per Minute\": 2.0, \"% VP within Scheduled Shape\": 100.0, \"% Scheduled Trip w/ 1+ VP/Minute\": 200.0, \"% Scheduled Trip w/ 2+ VP/Minute\": 100.0, \"Realtime versus Scheduled Service Ratio\": 2.0, \"Speed (MPH)\": 5.0, \"Portfolio Organization Name\": \"City and County of San Francisco\", \"Headway (Minutes)\": 8.0, \"GTFS Availability\": \"schedule_and_vp\", \"Average Stop Distance (Miles)\": 0.0, \"Quarter\": \"2023 Q3\", \"ruler\": 100}, {\"Direction (0/1)\": 0, \"Period\": \"All Day\", \"Average Scheduled Service (trip minutes)\": 38.0, \"# Scheduled Trips\": 525, \"# Realtime Trips\": 514, \"Route\": \"1 CALIFORNIA\", \"Direction\": \"Westbound\", \"# Minutes with 1+ VP per Minute\": 8252.0, \"# Minutes with 2+ VP per Minute\": 8131.0, \"# Early Arrival Trips\": 14, \"# On-Time Trips\": 153, \"# Late Trips\": 347, \"Average VP per Minute\": 2.0, \"% VP within Scheduled Shape\": 100.0, \"% Scheduled Trip w/ 1+ VP/Minute\": 100.0, \"% Scheduled Trip w/ 2+ VP/Minute\": 100.0, \"Realtime versus Scheduled Service Ratio\": 2.0, \"Speed (MPH)\": 5.0, \"Portfolio Organization Name\": \"City and County of San Francisco\", \"Headway (Minutes)\": 8.0, \"GTFS Availability\": \"schedule_and_vp\", \"Average Stop Distance (Miles)\": 0.0, \"Quarter\": \"2023 Q4\", \"ruler\": 100}, {\"Direction (0/1)\": 1, \"Period\": \"All Day\", \"Average Scheduled Service (trip minutes)\": 36.0, \"# Scheduled Trips\": 534, \"# Realtime Trips\": 522, \"Route\": \"1 CALIFORNIA\", \"Direction\": \"Eastbound\", \"# Minutes with 1+ VP per Minute\": 9377.0, \"# Minutes with 2+ VP per Minute\": 9249.0, \"# Early Arrival Trips\": 7, \"# On-Time Trips\": 41, \"# Late Trips\": 474, \"Average VP per Minute\": 2.0, \"% VP within Scheduled Shape\": 100.0, \"% Scheduled Trip w/ 1+ VP/Minute\": 100.0, \"% Scheduled Trip w/ 2+ VP/Minute\": 100.0, \"Realtime versus Scheduled Service Ratio\": 2.0, \"Speed (MPH)\": 5.0, \"Portfolio Organization Name\": \"City and County of San Francisco\", \"Headway (Minutes)\": 8.0, \"GTFS Availability\": \"schedule_and_vp\", \"Average Stop Distance (Miles)\": 0.0, \"Quarter\": \"2023 Q4\", \"ruler\": 100}, {\"Direction (0/1)\": 0, \"Period\": \"All Day\", \"Average Scheduled Service (trip minutes)\": 38.0, \"# Scheduled Trips\": 525, \"# Realtime Trips\": 525, \"Route\": \"1 CALIFORNIA\", \"Direction\": \"Westbound\", \"# Minutes with 1+ VP per Minute\": 8012.0, \"# Minutes with 2+ VP per Minute\": 7893.0, \"# Early Arrival Trips\": 10, \"# On-Time Trips\": 236, \"# Late Trips\": 279, \"Average VP per Minute\": 2.0, \"% VP within Scheduled Shape\": 100.0, \"% Scheduled Trip w/ 1+ VP/Minute\": 100.0, \"% Scheduled Trip w/ 2+ VP/Minute\": 100.0, \"Realtime versus Scheduled Service Ratio\": 2.0, \"Speed (MPH)\": 5.0, \"Portfolio Organization Name\": \"City and County of San Francisco\", \"Headway (Minutes)\": 8.0, \"GTFS Availability\": \"schedule_and_vp\", \"Average Stop Distance (Miles)\": 0.0, \"Quarter\": \"2024 Q1\", \"ruler\": 100}, {\"Direction (0/1)\": 1, \"Period\": \"All Day\", \"Average Scheduled Service (trip minutes)\": 36.0, \"# Scheduled Trips\": 534, \"# Realtime Trips\": 532, \"Route\": \"1 CALIFORNIA\", \"Direction\": \"Eastbound\", \"# Minutes with 1+ VP per Minute\": 9981.0, \"# Minutes with 2+ VP per Minute\": 9858.0, \"# Early Arrival Trips\": 3, \"# On-Time Trips\": 30, \"# Late Trips\": 499, \"Average VP per Minute\": 2.0, \"% VP within Scheduled Shape\": 100.0, \"% Scheduled Trip w/ 1+ VP/Minute\": 200.0, \"% Scheduled Trip w/ 2+ VP/Minute\": 200.0, \"Realtime versus Scheduled Service Ratio\": 2.0, \"Speed (MPH)\": 5.0, \"Portfolio Organization Name\": \"City and County of San Francisco\", \"Headway (Minutes)\": 8.0, \"GTFS Availability\": \"schedule_and_vp\", \"Average Stop Distance (Miles)\": 0.0, \"Quarter\": \"2024 Q1\", \"ruler\": 100}, {\"Direction (0/1)\": 0, \"Period\": \"All Day\", \"Average Scheduled Service (trip minutes)\": 38.0, \"# Scheduled Trips\": 350, \"# Realtime Trips\": 346, \"Route\": \"1 CALIFORNIA\", \"Direction\": \"Westbound\", \"# Minutes with 1+ VP per Minute\": 8280.0, \"# Minutes with 2+ VP per Minute\": 8170.0, \"# Early Arrival Trips\": 8, \"# On-Time Trips\": 100, \"# Late Trips\": 238, \"Average VP per Minute\": 2.0, \"% VP within Scheduled Shape\": 100.0, \"% Scheduled Trip w/ 1+ VP/Minute\": 100.0, \"% Scheduled Trip w/ 2+ VP/Minute\": 100.0, \"Realtime versus Scheduled Service Ratio\": 2.0, \"Speed (MPH)\": 5.0, \"Portfolio Organization Name\": \"City and County of San Francisco\", \"Headway (Minutes)\": 8.0, \"GTFS Availability\": \"schedule_and_vp\", \"Average Stop Distance (Miles)\": 0.0, \"Quarter\": \"2024 Q2\", \"ruler\": 100}, {\"Direction (0/1)\": 1, \"Period\": \"All Day\", \"Average Scheduled Service (trip minutes)\": 36.0, \"# Scheduled Trips\": 356, \"# Realtime Trips\": 350, \"Route\": \"1 CALIFORNIA\", \"Direction\": \"Eastbound\", \"# Minutes with 1+ VP per Minute\": 9335.0, \"# Minutes with 2+ VP per Minute\": 9216.0, \"# Early Arrival Trips\": 6, \"# On-Time Trips\": 23, \"# Late Trips\": 321, \"Average VP per Minute\": 2.0, \"% VP within Scheduled Shape\": 100.0, \"% Scheduled Trip w/ 1+ VP/Minute\": 100.0, \"% Scheduled Trip w/ 2+ VP/Minute\": 100.0, \"Realtime versus Scheduled Service Ratio\": 2.0, \"Speed (MPH)\": 5.0, \"Portfolio Organization Name\": \"City and County of San Francisco\", \"Headway (Minutes)\": 8.0, \"GTFS Availability\": \"schedule_and_vp\", \"Average Stop Distance (Miles)\": 0.0, \"Quarter\": \"2024 Q2\", \"ruler\": 100}, {\"Direction (0/1)\": 0, \"Period\": \"All Day\", \"Average Scheduled Service (trip minutes)\": 37.0, \"# Scheduled Trips\": 539, \"# Realtime Trips\": 530, \"Route\": \"1 CALIFORNIA\", \"Direction\": \"Westbound\", \"# Minutes with 1+ VP per Minute\": 8862.0, \"# Minutes with 2+ VP per Minute\": 8739.0, \"# Early Arrival Trips\": 9, \"# On-Time Trips\": 55, \"# Late Trips\": 466, \"Average VP per Minute\": 2.0, \"% VP within Scheduled Shape\": 100.0, \"% Scheduled Trip w/ 1+ VP/Minute\": 100.0, \"% Scheduled Trip w/ 2+ VP/Minute\": 100.0, \"Realtime versus Scheduled Service Ratio\": 2.0, \"Speed (MPH)\": 5.0, \"Portfolio Organization Name\": \"City and County of San Francisco\", \"Headway (Minutes)\": 8.0, \"GTFS Availability\": \"schedule_and_vp\", \"Average Stop Distance (Miles)\": 0.0, \"Quarter\": \"2024 Q3\", \"ruler\": 100}, {\"Direction (0/1)\": 1, \"Period\": \"All Day\", \"Average Scheduled Service (trip minutes)\": 36.0, \"# Scheduled Trips\": 548, \"# Realtime Trips\": 543, \"Route\": \"1 CALIFORNIA\", \"Direction\": \"Eastbound\", \"# Minutes with 1+ VP per Minute\": 8836.0, \"# Minutes with 2+ VP per Minute\": 8685.0, \"# Early Arrival Trips\": 13, \"# On-Time Trips\": 59, \"# Late Trips\": 471, \"Average VP per Minute\": 2.0, \"% VP within Scheduled Shape\": 100.0, \"% Scheduled Trip w/ 1+ VP/Minute\": 100.0, \"% Scheduled Trip w/ 2+ VP/Minute\": 100.0, \"Realtime versus Scheduled Service Ratio\": 2.0, \"Speed (MPH)\": 5.0, \"Portfolio Organization Name\": \"City and County of San Francisco\", \"Headway (Minutes)\": 8.0, \"GTFS Availability\": \"schedule_and_vp\", \"Average Stop Distance (Miles)\": 0.0, \"Quarter\": \"2024 Q3\", \"ruler\": 100}, {\"Direction (0/1)\": 0, \"Period\": \"All Day\", \"Average Scheduled Service (trip minutes)\": 35.0, \"# Scheduled Trips\": 567, \"# Realtime Trips\": 565, \"Route\": \"1 CALIFORNIA\", \"Direction\": \"Westbound\", \"# Minutes with 1+ VP per Minute\": 9020.0, \"# Minutes with 2+ VP per Minute\": 8901.0, \"# Early Arrival Trips\": 2, \"# On-Time Trips\": 64, \"# Late Trips\": 499, \"Average VP per Minute\": 2.0, \"% VP within Scheduled Shape\": 100.0, \"% Scheduled Trip w/ 1+ VP/Minute\": 100.0, \"% Scheduled Trip w/ 2+ VP/Minute\": 100.0, \"Realtime versus Scheduled Service Ratio\": 2.0, \"Speed (MPH)\": 6.0, \"Portfolio Organization Name\": \"City and County of San Francisco\", \"Headway (Minutes)\": 8.0, \"GTFS Availability\": \"schedule_and_vp\", \"Average Stop Distance (Miles)\": 1.0, \"Quarter\": \"2024 Q4\", \"ruler\": 100}, {\"Direction (0/1)\": 1, \"Period\": \"All Day\", \"Average Scheduled Service (trip minutes)\": 35.0, \"# Scheduled Trips\": 576, \"# Realtime Trips\": 573, \"Route\": \"1 CALIFORNIA\", \"Direction\": \"Eastbound\", \"# Minutes with 1+ VP per Minute\": 9472.0, \"# Minutes with 2+ VP per Minute\": 9343.0, \"# Early Arrival Trips\": 5, \"# On-Time Trips\": 43, \"# Late Trips\": 525, \"Average VP per Minute\": 2.0, \"% VP within Scheduled Shape\": 100.0, \"% Scheduled Trip w/ 1+ VP/Minute\": 100.0, \"% Scheduled Trip w/ 2+ VP/Minute\": 100.0, \"Realtime versus Scheduled Service Ratio\": 2.0, \"Speed (MPH)\": 5.0, \"Portfolio Organization Name\": \"City and County of San Francisco\", \"Headway (Minutes)\": 8.0, \"GTFS Availability\": \"schedule_and_vp\", \"Average Stop Distance (Miles)\": 1.0, \"Quarter\": \"2024 Q4\", \"ruler\": 100}, {\"Direction (0/1)\": 0, \"Period\": \"All Day\", \"Average Scheduled Service (trip minutes)\": 35.0, \"# Scheduled Trips\": 378, \"# Realtime Trips\": 378, \"Route\": \"1 CALIFORNIA\", \"Direction\": \"Westbound\", \"# Minutes with 1+ VP per Minute\": 9181.0, \"# Minutes with 2+ VP per Minute\": 9071.0, \"# Early Arrival Trips\": 1, \"# On-Time Trips\": 40, \"# Late Trips\": 337, \"Average VP per Minute\": 2.0, \"% VP within Scheduled Shape\": 100.0, \"% Scheduled Trip w/ 1+ VP/Minute\": 100.0, \"% Scheduled Trip w/ 2+ VP/Minute\": 100.0, \"Realtime versus Scheduled Service Ratio\": 2.0, \"Speed (MPH)\": 9.0, \"Portfolio Organization Name\": \"City and County of San Francisco\", \"Headway (Minutes)\": 8.0, \"GTFS Availability\": \"schedule_and_vp\", \"Average Stop Distance (Miles)\": 2.0, \"Quarter\": \"2025 Q1\", \"ruler\": 100}, {\"Direction (0/1)\": 1, \"Period\": \"All Day\", \"Average Scheduled Service (trip minutes)\": 35.0, \"# Scheduled Trips\": 384, \"# Realtime Trips\": 384, \"Route\": \"1 CALIFORNIA\", \"Direction\": \"Eastbound\", \"# Minutes with 1+ VP per Minute\": 9422.0, \"# Minutes with 2+ VP per Minute\": 9299.0, \"# Early Arrival Trips\": 2, \"# On-Time Trips\": 30, \"# Late Trips\": 352, \"Average VP per Minute\": 2.0, \"% VP within Scheduled Shape\": 100.0, \"% Scheduled Trip w/ 1+ VP/Minute\": 100.0, \"% Scheduled Trip w/ 2+ VP/Minute\": 100.0, \"Realtime versus Scheduled Service Ratio\": 2.0, \"Speed (MPH)\": 14.0, \"Portfolio Organization Name\": \"City and County of San Francisco\", \"Headway (Minutes)\": 8.0, \"GTFS Availability\": \"schedule_and_vp\", \"Average Stop Distance (Miles)\": 2.0, \"Quarter\": \"2025 Q1\", \"ruler\": 100}, {\"Direction (0/1)\": 0, \"Period\": \"All Day\", \"Average Scheduled Service (trip minutes)\": 35.0, \"# Scheduled Trips\": 378, \"# Realtime Trips\": 376, \"Route\": \"1 CALIFORNIA\", \"Direction\": \"Westbound\", \"# Minutes with 1+ VP per Minute\": 8125.0, \"# Minutes with 2+ VP per Minute\": 7995.0, \"# Early Arrival Trips\": 6, \"# On-Time Trips\": 156, \"# Late Trips\": 214, \"Average VP per Minute\": 2.0, \"% VP within Scheduled Shape\": 100.0, \"% Scheduled Trip w/ 1+ VP/Minute\": 100.0, \"% Scheduled Trip w/ 2+ VP/Minute\": 100.0, \"Realtime versus Scheduled Service Ratio\": 2.0, \"Speed (MPH)\": 8.0, \"Portfolio Organization Name\": \"City and County of San Francisco\", \"Headway (Minutes)\": 8.0, \"GTFS Availability\": \"schedule_and_vp\", \"Average Stop Distance (Miles)\": 2.0, \"Quarter\": \"2025 Q2\", \"ruler\": 100}, {\"Direction (0/1)\": 1, \"Period\": \"All Day\", \"Average Scheduled Service (trip minutes)\": 35.0, \"# Scheduled Trips\": 384, \"# Realtime Trips\": 384, \"Route\": \"1 CALIFORNIA\", \"Direction\": \"Eastbound\", \"# Minutes with 1+ VP per Minute\": 10212.0, \"# Minutes with 2+ VP per Minute\": 10072.0, \"# Early Arrival Trips\": 4, \"# On-Time Trips\": 16, \"# Late Trips\": 364, \"Average VP per Minute\": 2.0, \"% VP within Scheduled Shape\": 100.0, \"% Scheduled Trip w/ 1+ VP/Minute\": 200.0, \"% Scheduled Trip w/ 2+ VP/Minute\": 200.0, \"Realtime versus Scheduled Service Ratio\": 2.0, \"Speed (MPH)\": 15.0, \"Portfolio Organization Name\": \"City and County of San Francisco\", \"Headway (Minutes)\": 8.0, \"GTFS Availability\": \"schedule_and_vp\", \"Average Stop Distance (Miles)\": 3.0, \"Quarter\": \"2025 Q2\", \"ruler\": 100}, {\"Direction (0/1)\": 0, \"Period\": \"All Day\", \"Average Scheduled Service (trip minutes)\": 41.0, \"# Scheduled Trips\": 151, \"# Realtime Trips\": 150, \"Route\": \"1 CALIFORNIA\", \"Direction\": \"Westbound\", \"# Minutes with 1+ VP per Minute\": 7853.0, \"# Minutes with 2+ VP per Minute\": 7751.0, \"# Early Arrival Trips\": 3, \"# On-Time Trips\": 24, \"# Late Trips\": 123, \"Average VP per Minute\": 2.0, \"% VP within Scheduled Shape\": 100.0, \"% Scheduled Trip w/ 1+ VP/Minute\": 100.0, \"% Scheduled Trip w/ 2+ VP/Minute\": 100.0, \"Realtime versus Scheduled Service Ratio\": 2.0, \"Speed (MPH)\": 5.0, \"Portfolio Organization Name\": \"City and County of San Francisco\", \"Headway (Minutes)\": 10.0, \"GTFS Availability\": \"schedule_and_vp\", \"Average Stop Distance (Miles)\": 0.0, \"Quarter\": \"2023 Q1\", \"ruler\": 100}, {\"Direction (0/1)\": 1, \"Period\": \"All Day\", \"Average Scheduled Service (trip minutes)\": 38.0, \"# Scheduled Trips\": 158, \"# Realtime Trips\": 156, \"Route\": \"1 CALIFORNIA\", \"Direction\": \"Eastbound\", \"# Minutes with 1+ VP per Minute\": 8678.0, \"# Minutes with 2+ VP per Minute\": 8559.0, \"# Early Arrival Trips\": 1, \"# On-Time Trips\": 13, \"# Late Trips\": 142, \"Average VP per Minute\": 2.0, \"% VP within Scheduled Shape\": 100.0, \"% Scheduled Trip w/ 1+ VP/Minute\": 100.0, \"% Scheduled Trip w/ 2+ VP/Minute\": 100.0, \"Realtime versus Scheduled Service Ratio\": 2.0, \"Speed (MPH)\": 5.0, \"Portfolio Organization Name\": \"City and County of San Francisco\", \"Headway (Minutes)\": 9.0, \"GTFS Availability\": \"schedule_and_vp\", \"Average Stop Distance (Miles)\": 0.0, \"Quarter\": \"2023 Q1\", \"ruler\": 100}]}}, {\"mode\": \"vega-lite\"});\n",
       "</script>"
      ],
      "text/plain": [
       "alt.FacetChart(...)"
      ]
     },
     "execution_count": 27,
     "metadata": {},
     "output_type": "execute_result"
    }
   ],
   "source": [
    "spatial_accuracy_chart(qtr_df.loc[qtr_df[\"Period\"]==\"All Day\"])"
   ]
  },
  {
   "cell_type": "code",
   "execution_count": null,
   "id": "46a2b685-e8d8-440a-a636-c2e7e81fea70",
   "metadata": {},
   "outputs": [],
   "source": []
  }
 ],
 "metadata": {
  "kernelspec": {
   "display_name": "Python 3 (ipykernel)",
   "language": "python",
   "name": "python3"
  },
  "language_info": {
   "codemirror_mode": {
    "name": "ipython",
    "version": 3
   },
   "file_extension": ".py",
   "mimetype": "text/x-python",
   "name": "python",
   "nbconvert_exporter": "python",
   "pygments_lexer": "ipython3",
   "version": "3.11.10"
  }
 },
 "nbformat": 4,
 "nbformat_minor": 5
}
