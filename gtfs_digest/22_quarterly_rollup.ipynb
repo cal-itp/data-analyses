{
 "cells": [
  {
   "cell_type": "markdown",
   "id": "55b875fc-62c0-43f1-8807-85153c7d0300",
   "metadata": {},
   "source": [
    "# Quarterly Roll Up \n",
    "* 6/9: Something is wrong with it, there are multiple rows repeated for the same quarter when there should only be one row for one quarter for one route. \n",
    "[Issue](https://github.com/cal-itp/data-analyses/issues/1416)"
   ]
  },
  {
   "cell_type": "code",
   "execution_count": 1,
   "id": "a0b9cf15-f2fd-41a7-80dd-5ecd8d7cb699",
   "metadata": {
    "tags": []
   },
   "outputs": [],
   "source": [
    "import _report_route_dir_visuals\n",
    "import _route_dir_data_prep\n",
    "import altair as alt\n",
    "import calitp_data_analysis.magics\n",
    "import deploy_portfolio_yaml\n",
    "import pandas as pd\n",
    "import quarterly_rollup\n",
    "import yaml\n",
    "from IPython.display import HTML, Image, Markdown, display, display_html\n",
    "from segment_speed_utils import (\n",
    "    gtfs_schedule_wrangling,\n",
    "    metrics,\n",
    "    project_vars,\n",
    "    segment_calcs,\n",
    "    time_series_utils,\n",
    ")\n",
    "from shared_utils import (\n",
    "    catalog_utils,\n",
    "    gtfs_utils_v2,\n",
    "    portfolio_utils,\n",
    "    publish_utils,\n",
    "    rt_dates,\n",
    "    rt_utils,\n",
    "    time_helpers,\n",
    ")\n",
    "from update_vars import GTFS_DATA_DICT, RT_SCHED_GCS, SCHED_GCS, SEGMENT_GCS"
   ]
  },
  {
   "cell_type": "code",
   "execution_count": 2,
   "id": "f0206287-c428-4b15-8fdb-418b4601d8e1",
   "metadata": {},
   "outputs": [],
   "source": [
    "pd.options.display.max_columns = 100\n",
    "pd.options.display.float_format = \"{:.2f}\".format\n",
    "pd.set_option(\"display.max_rows\", None)\n",
    "pd.set_option(\"display.max_colwidth\", None)"
   ]
  },
  {
   "cell_type": "code",
   "execution_count": 3,
   "id": "17d149fd-b0d3-4ca4-b6b9-f10fbce7d65d",
   "metadata": {
    "tags": []
   },
   "outputs": [],
   "source": [
    "from omegaconf import OmegaConf\n",
    "\n",
    "readable_dict = OmegaConf.load(\"readable2.yml\")"
   ]
  },
  {
   "cell_type": "code",
   "execution_count": 4,
   "id": "24533e38-e604-4e2d-a152-8162fff71738",
   "metadata": {
    "tags": []
   },
   "outputs": [],
   "source": [
    "analysis_date_list = rt_dates.y2025_dates"
   ]
  },
  {
   "cell_type": "code",
   "execution_count": 5,
   "id": "1edb5621-6769-462b-add7-54c2af36da17",
   "metadata": {
    "tags": []
   },
   "outputs": [],
   "source": [
    "#  portfolio_name = \"City and County of San Francisco\"\n",
    "portfolio_name = \"Ventura County (VCTC, Gold Coast, Cities of Camarillo, Moorpark, Ojai, Simi Valley, Thousand Oaks)\""
   ]
  },
  {
   "cell_type": "code",
   "execution_count": 6,
   "id": "c72476fa-8c89-4463-8f3a-e277c163d427",
   "metadata": {
    "tags": []
   },
   "outputs": [],
   "source": [
    "# Read in og df\n",
    "# This is not original, the original dataframes are like speed/crosswalk/etc\n",
    "# If there is a problem at the end, then this is not the original.\n",
    "#\n",
    "DIGEST_RT_SCHED_MONTH = GTFS_DATA_DICT.digest_tables.monthly_route_schedule_vp"
   ]
  },
  {
   "cell_type": "code",
   "execution_count": 7,
   "id": "821483a7-4821-43df-9303-befe9eaae341",
   "metadata": {
    "tags": []
   },
   "outputs": [],
   "source": [
    "monthly_df = pd.read_parquet(f\"{RT_SCHED_GCS}{DIGEST_RT_SCHED_MONTH}.parquet\")"
   ]
  },
  {
   "cell_type": "code",
   "execution_count": 8,
   "id": "f9862860-7e93-4978-b891-2bf33a89a74c",
   "metadata": {
    "tags": []
   },
   "outputs": [],
   "source": [
    "DIGEST_RT_SCHED_QTR = GTFS_DATA_DICT.digest_tables.quarterly_route_schedule_vp"
   ]
  },
  {
   "cell_type": "code",
   "execution_count": 9,
   "id": "83086c84-3e3d-4ce4-b67e-b9f9a0b1a4cc",
   "metadata": {
    "tags": []
   },
   "outputs": [],
   "source": [
    "quarter_df = pd.read_parquet(f\"{RT_SCHED_GCS}{DIGEST_RT_SCHED_QTR}.parquet\")"
   ]
  },
  {
   "cell_type": "code",
   "execution_count": 10,
   "id": "3a4d2b09-cc98-4112-84e4-a4fb582a9e41",
   "metadata": {
    "tags": []
   },
   "outputs": [
    {
     "data": {
      "text/plain": [
       "Index(['schedule_gtfs_dataset_key', 'route_id', 'direction_id', 'time_period',\n",
       "       'avg_scheduled_service_minutes', 'avg_stop_miles', 'n_scheduled_trips',\n",
       "       'frequency', 'is_express', 'is_ferry', 'is_rail', 'is_coverage',\n",
       "       'is_local', 'is_downtown_local', 'is_rapid', 'typology', 'name',\n",
       "       'combined_name', 'recent_combined_name', 'recent_route_id',\n",
       "       'route_primary_direction', 'minutes_atleast1_vp', 'minutes_atleast2_vp',\n",
       "       'total_rt_service_minutes', 'total_scheduled_service_minutes',\n",
       "       'total_vp', 'vp_in_shape', 'is_early', 'is_ontime', 'is_late',\n",
       "       'n_vp_trips', 'vp_per_minute', 'pct_in_shape',\n",
       "       'pct_rt_journey_atleast1_vp', 'pct_rt_journey_atleast2_vp',\n",
       "       'pct_sched_journey_atleast1_vp', 'pct_sched_journey_atleast2_vp',\n",
       "       'rt_sched_journey_ratio', 'avg_rt_service_minutes', 'sched_rt_category',\n",
       "       'speed_mph', 'schedule_source_record_id', 'base64_url',\n",
       "       'caltrans_district', 'portfolio_organization_name', 'year_quarter'],\n",
       "      dtype='object')"
      ]
     },
     "execution_count": 10,
     "metadata": {},
     "output_type": "execute_result"
    }
   ],
   "source": [
    "quarter_df.columns"
   ]
  },
  {
   "cell_type": "code",
   "execution_count": 11,
   "id": "ed6eaaf1-67fb-451f-ab7f-625abb980c89",
   "metadata": {
    "tags": []
   },
   "outputs": [],
   "source": [
    "qtr_86_coastal = quarter_df.loc[\n",
    "    quarter_df.recent_combined_name == \"86 80-89 Coastal Express\"\n",
    "]"
   ]
  },
  {
   "cell_type": "code",
   "execution_count": 12,
   "id": "81e99f97-baf0-4830-9953-295ca86ed69c",
   "metadata": {
    "tags": []
   },
   "outputs": [
    {
     "data": {
      "text/plain": [
       "(42, 42)"
      ]
     },
     "execution_count": 12,
     "metadata": {},
     "output_type": "execute_result"
    }
   ],
   "source": [
    "len(qtr_86_coastal), len(qtr_86_coastal.drop_duplicates())"
   ]
  },
  {
   "cell_type": "code",
   "execution_count": 28,
   "id": "ad638d4d-b05d-4ae6-ab5a-2052dd2854b7",
   "metadata": {
    "tags": []
   },
   "outputs": [
    {
     "data": {
      "text/html": [
       "<div>\n",
       "<style scoped>\n",
       "    .dataframe tbody tr th:only-of-type {\n",
       "        vertical-align: middle;\n",
       "    }\n",
       "\n",
       "    .dataframe tbody tr th {\n",
       "        vertical-align: top;\n",
       "    }\n",
       "\n",
       "    .dataframe thead th {\n",
       "        text-align: right;\n",
       "    }\n",
       "</style>\n",
       "<table border=\"1\" class=\"dataframe\">\n",
       "  <thead>\n",
       "    <tr style=\"text-align: right;\">\n",
       "      <th></th>\n",
       "      <th>direction_id</th>\n",
       "      <th>time_period</th>\n",
       "      <th>n_vp_trips</th>\n",
       "      <th>total_vp</th>\n",
       "      <th>vp_in_shape</th>\n",
       "      <th>pct_in_shape</th>\n",
       "      <th>year_quarter</th>\n",
       "    </tr>\n",
       "  </thead>\n",
       "  <tbody>\n",
       "    <tr>\n",
       "      <th>126128</th>\n",
       "      <td>0</td>\n",
       "      <td>all_day</td>\n",
       "      <td>4</td>\n",
       "      <td>681.50</td>\n",
       "      <td>563.50</td>\n",
       "      <td>0.83</td>\n",
       "      <td>2023 Q2</td>\n",
       "    </tr>\n",
       "    <tr>\n",
       "      <th>126193</th>\n",
       "      <td>0</td>\n",
       "      <td>offpeak</td>\n",
       "      <td>4</td>\n",
       "      <td>681.50</td>\n",
       "      <td>563.50</td>\n",
       "      <td>0.83</td>\n",
       "      <td>2023 Q2</td>\n",
       "    </tr>\n",
       "    <tr>\n",
       "      <th>126303</th>\n",
       "      <td>1</td>\n",
       "      <td>all_day</td>\n",
       "      <td>4</td>\n",
       "      <td>649.50</td>\n",
       "      <td>545.50</td>\n",
       "      <td>0.84</td>\n",
       "      <td>2023 Q2</td>\n",
       "    </tr>\n",
       "    <tr>\n",
       "      <th>126376</th>\n",
       "      <td>1</td>\n",
       "      <td>peak</td>\n",
       "      <td>4</td>\n",
       "      <td>649.50</td>\n",
       "      <td>545.50</td>\n",
       "      <td>0.84</td>\n",
       "      <td>2023 Q2</td>\n",
       "    </tr>\n",
       "    <tr>\n",
       "      <th>126433</th>\n",
       "      <td>0</td>\n",
       "      <td>all_day</td>\n",
       "      <td>5</td>\n",
       "      <td>597.40</td>\n",
       "      <td>489.20</td>\n",
       "      <td>0.82</td>\n",
       "      <td>2023 Q3</td>\n",
       "    </tr>\n",
       "    <tr>\n",
       "      <th>126500</th>\n",
       "      <td>0</td>\n",
       "      <td>offpeak</td>\n",
       "      <td>5</td>\n",
       "      <td>597.40</td>\n",
       "      <td>489.20</td>\n",
       "      <td>0.82</td>\n",
       "      <td>2023 Q3</td>\n",
       "    </tr>\n",
       "    <tr>\n",
       "      <th>126613</th>\n",
       "      <td>1</td>\n",
       "      <td>all_day</td>\n",
       "      <td>4</td>\n",
       "      <td>559.50</td>\n",
       "      <td>494.75</td>\n",
       "      <td>0.88</td>\n",
       "      <td>2023 Q3</td>\n",
       "    </tr>\n",
       "    <tr>\n",
       "      <th>126687</th>\n",
       "      <td>1</td>\n",
       "      <td>peak</td>\n",
       "      <td>4</td>\n",
       "      <td>559.50</td>\n",
       "      <td>494.75</td>\n",
       "      <td>0.88</td>\n",
       "      <td>2023 Q3</td>\n",
       "    </tr>\n",
       "    <tr>\n",
       "      <th>126743</th>\n",
       "      <td>0</td>\n",
       "      <td>all_day</td>\n",
       "      <td>6</td>\n",
       "      <td>785.00</td>\n",
       "      <td>559.33</td>\n",
       "      <td>0.71</td>\n",
       "      <td>2023 Q4</td>\n",
       "    </tr>\n",
       "    <tr>\n",
       "      <th>126806</th>\n",
       "      <td>0</td>\n",
       "      <td>offpeak</td>\n",
       "      <td>6</td>\n",
       "      <td>785.00</td>\n",
       "      <td>559.33</td>\n",
       "      <td>0.71</td>\n",
       "      <td>2023 Q4</td>\n",
       "    </tr>\n",
       "    <tr>\n",
       "      <th>126907</th>\n",
       "      <td>1</td>\n",
       "      <td>all_day</td>\n",
       "      <td>3</td>\n",
       "      <td>632.67</td>\n",
       "      <td>587.67</td>\n",
       "      <td>0.93</td>\n",
       "      <td>2023 Q4</td>\n",
       "    </tr>\n",
       "    <tr>\n",
       "      <th>126908</th>\n",
       "      <td>1</td>\n",
       "      <td>all_day</td>\n",
       "      <td>3</td>\n",
       "      <td>632.67</td>\n",
       "      <td>587.67</td>\n",
       "      <td>0.93</td>\n",
       "      <td>2023 Q4</td>\n",
       "    </tr>\n",
       "    <tr>\n",
       "      <th>126978</th>\n",
       "      <td>1</td>\n",
       "      <td>peak</td>\n",
       "      <td>3</td>\n",
       "      <td>632.67</td>\n",
       "      <td>587.67</td>\n",
       "      <td>0.93</td>\n",
       "      <td>2023 Q4</td>\n",
       "    </tr>\n",
       "    <tr>\n",
       "      <th>126979</th>\n",
       "      <td>1</td>\n",
       "      <td>peak</td>\n",
       "      <td>3</td>\n",
       "      <td>632.67</td>\n",
       "      <td>587.67</td>\n",
       "      <td>0.93</td>\n",
       "      <td>2023 Q4</td>\n",
       "    </tr>\n",
       "    <tr>\n",
       "      <th>127036</th>\n",
       "      <td>0</td>\n",
       "      <td>all_day</td>\n",
       "      <td>5</td>\n",
       "      <td>705.60</td>\n",
       "      <td>557.80</td>\n",
       "      <td>0.79</td>\n",
       "      <td>2024 Q1</td>\n",
       "    </tr>\n",
       "    <tr>\n",
       "      <th>127101</th>\n",
       "      <td>0</td>\n",
       "      <td>offpeak</td>\n",
       "      <td>5</td>\n",
       "      <td>705.60</td>\n",
       "      <td>557.80</td>\n",
       "      <td>0.79</td>\n",
       "      <td>2024 Q1</td>\n",
       "    </tr>\n",
       "    <tr>\n",
       "      <th>127207</th>\n",
       "      <td>1</td>\n",
       "      <td>all_day</td>\n",
       "      <td>4</td>\n",
       "      <td>683.50</td>\n",
       "      <td>616.25</td>\n",
       "      <td>0.90</td>\n",
       "      <td>2024 Q1</td>\n",
       "    </tr>\n",
       "    <tr>\n",
       "      <th>127280</th>\n",
       "      <td>1</td>\n",
       "      <td>peak</td>\n",
       "      <td>4</td>\n",
       "      <td>683.50</td>\n",
       "      <td>616.25</td>\n",
       "      <td>0.90</td>\n",
       "      <td>2024 Q1</td>\n",
       "    </tr>\n",
       "    <tr>\n",
       "      <th>127335</th>\n",
       "      <td>0</td>\n",
       "      <td>all_day</td>\n",
       "      <td>5</td>\n",
       "      <td>537.80</td>\n",
       "      <td>0.00</td>\n",
       "      <td>0.00</td>\n",
       "      <td>2024 Q2</td>\n",
       "    </tr>\n",
       "    <tr>\n",
       "      <th>127397</th>\n",
       "      <td>0</td>\n",
       "      <td>offpeak</td>\n",
       "      <td>5</td>\n",
       "      <td>537.80</td>\n",
       "      <td>0.00</td>\n",
       "      <td>0.00</td>\n",
       "      <td>2024 Q2</td>\n",
       "    </tr>\n",
       "    <tr>\n",
       "      <th>127500</th>\n",
       "      <td>1</td>\n",
       "      <td>all_day</td>\n",
       "      <td>6</td>\n",
       "      <td>945.67</td>\n",
       "      <td>0.00</td>\n",
       "      <td>0.00</td>\n",
       "      <td>2024 Q2</td>\n",
       "    </tr>\n",
       "    <tr>\n",
       "      <th>127567</th>\n",
       "      <td>1</td>\n",
       "      <td>peak</td>\n",
       "      <td>6</td>\n",
       "      <td>945.67</td>\n",
       "      <td>0.00</td>\n",
       "      <td>0.00</td>\n",
       "      <td>2024 Q2</td>\n",
       "    </tr>\n",
       "    <tr>\n",
       "      <th>127634</th>\n",
       "      <td>0</td>\n",
       "      <td>all_day</td>\n",
       "      <td>6</td>\n",
       "      <td>567.67</td>\n",
       "      <td>0.00</td>\n",
       "      <td>0.00</td>\n",
       "      <td>2024 Q3</td>\n",
       "    </tr>\n",
       "    <tr>\n",
       "      <th>127635</th>\n",
       "      <td>0</td>\n",
       "      <td>all_day</td>\n",
       "      <td>6</td>\n",
       "      <td>567.67</td>\n",
       "      <td>0.00</td>\n",
       "      <td>0.00</td>\n",
       "      <td>2024 Q3</td>\n",
       "    </tr>\n",
       "    <tr>\n",
       "      <th>127717</th>\n",
       "      <td>0</td>\n",
       "      <td>offpeak</td>\n",
       "      <td>6</td>\n",
       "      <td>567.67</td>\n",
       "      <td>0.00</td>\n",
       "      <td>0.00</td>\n",
       "      <td>2024 Q3</td>\n",
       "    </tr>\n",
       "    <tr>\n",
       "      <th>127718</th>\n",
       "      <td>0</td>\n",
       "      <td>offpeak</td>\n",
       "      <td>6</td>\n",
       "      <td>567.67</td>\n",
       "      <td>0.00</td>\n",
       "      <td>0.00</td>\n",
       "      <td>2024 Q3</td>\n",
       "    </tr>\n",
       "    <tr>\n",
       "      <th>127851</th>\n",
       "      <td>1</td>\n",
       "      <td>all_day</td>\n",
       "      <td>5</td>\n",
       "      <td>835.40</td>\n",
       "      <td>0.00</td>\n",
       "      <td>0.00</td>\n",
       "      <td>2024 Q3</td>\n",
       "    </tr>\n",
       "    <tr>\n",
       "      <th>127852</th>\n",
       "      <td>1</td>\n",
       "      <td>all_day</td>\n",
       "      <td>5</td>\n",
       "      <td>835.40</td>\n",
       "      <td>0.00</td>\n",
       "      <td>0.00</td>\n",
       "      <td>2024 Q3</td>\n",
       "    </tr>\n",
       "    <tr>\n",
       "      <th>127950</th>\n",
       "      <td>1</td>\n",
       "      <td>peak</td>\n",
       "      <td>5</td>\n",
       "      <td>835.40</td>\n",
       "      <td>0.00</td>\n",
       "      <td>0.00</td>\n",
       "      <td>2024 Q3</td>\n",
       "    </tr>\n",
       "    <tr>\n",
       "      <th>127951</th>\n",
       "      <td>1</td>\n",
       "      <td>peak</td>\n",
       "      <td>5</td>\n",
       "      <td>835.40</td>\n",
       "      <td>0.00</td>\n",
       "      <td>0.00</td>\n",
       "      <td>2024 Q3</td>\n",
       "    </tr>\n",
       "    <tr>\n",
       "      <th>128004</th>\n",
       "      <td>0</td>\n",
       "      <td>all_day</td>\n",
       "      <td>6</td>\n",
       "      <td>629.67</td>\n",
       "      <td>0.00</td>\n",
       "      <td>0.00</td>\n",
       "      <td>2024 Q4</td>\n",
       "    </tr>\n",
       "    <tr>\n",
       "      <th>128065</th>\n",
       "      <td>0</td>\n",
       "      <td>offpeak</td>\n",
       "      <td>6</td>\n",
       "      <td>629.67</td>\n",
       "      <td>0.00</td>\n",
       "      <td>0.00</td>\n",
       "      <td>2024 Q4</td>\n",
       "    </tr>\n",
       "    <tr>\n",
       "      <th>128166</th>\n",
       "      <td>1</td>\n",
       "      <td>all_day</td>\n",
       "      <td>6</td>\n",
       "      <td>960.67</td>\n",
       "      <td>0.00</td>\n",
       "      <td>0.00</td>\n",
       "      <td>2024 Q4</td>\n",
       "    </tr>\n",
       "    <tr>\n",
       "      <th>128238</th>\n",
       "      <td>1</td>\n",
       "      <td>peak</td>\n",
       "      <td>6</td>\n",
       "      <td>960.67</td>\n",
       "      <td>0.00</td>\n",
       "      <td>0.00</td>\n",
       "      <td>2024 Q4</td>\n",
       "    </tr>\n",
       "    <tr>\n",
       "      <th>128290</th>\n",
       "      <td>0</td>\n",
       "      <td>all_day</td>\n",
       "      <td>6</td>\n",
       "      <td>512.33</td>\n",
       "      <td>90.00</td>\n",
       "      <td>0.18</td>\n",
       "      <td>2025 Q1</td>\n",
       "    </tr>\n",
       "    <tr>\n",
       "      <th>128355</th>\n",
       "      <td>0</td>\n",
       "      <td>offpeak</td>\n",
       "      <td>6</td>\n",
       "      <td>512.33</td>\n",
       "      <td>90.00</td>\n",
       "      <td>0.18</td>\n",
       "      <td>2025 Q1</td>\n",
       "    </tr>\n",
       "    <tr>\n",
       "      <th>128464</th>\n",
       "      <td>1</td>\n",
       "      <td>all_day</td>\n",
       "      <td>6</td>\n",
       "      <td>1046.33</td>\n",
       "      <td>279.00</td>\n",
       "      <td>0.27</td>\n",
       "      <td>2025 Q1</td>\n",
       "    </tr>\n",
       "    <tr>\n",
       "      <th>128540</th>\n",
       "      <td>1</td>\n",
       "      <td>peak</td>\n",
       "      <td>6</td>\n",
       "      <td>1046.33</td>\n",
       "      <td>279.00</td>\n",
       "      <td>0.27</td>\n",
       "      <td>2025 Q1</td>\n",
       "    </tr>\n",
       "    <tr>\n",
       "      <th>128590</th>\n",
       "      <td>0</td>\n",
       "      <td>all_day</td>\n",
       "      <td>3</td>\n",
       "      <td>417.67</td>\n",
       "      <td>0.00</td>\n",
       "      <td>0.00</td>\n",
       "      <td>2025 Q2</td>\n",
       "    </tr>\n",
       "    <tr>\n",
       "      <th>128652</th>\n",
       "      <td>0</td>\n",
       "      <td>offpeak</td>\n",
       "      <td>3</td>\n",
       "      <td>417.67</td>\n",
       "      <td>0.00</td>\n",
       "      <td>0.00</td>\n",
       "      <td>2025 Q2</td>\n",
       "    </tr>\n",
       "    <tr>\n",
       "      <th>128749</th>\n",
       "      <td>1</td>\n",
       "      <td>all_day</td>\n",
       "      <td>4</td>\n",
       "      <td>1324.00</td>\n",
       "      <td>0.00</td>\n",
       "      <td>0.00</td>\n",
       "      <td>2025 Q2</td>\n",
       "    </tr>\n",
       "    <tr>\n",
       "      <th>128821</th>\n",
       "      <td>1</td>\n",
       "      <td>peak</td>\n",
       "      <td>4</td>\n",
       "      <td>1324.00</td>\n",
       "      <td>0.00</td>\n",
       "      <td>0.00</td>\n",
       "      <td>2025 Q2</td>\n",
       "    </tr>\n",
       "  </tbody>\n",
       "</table>\n",
       "</div>"
      ],
      "text/plain": [
       "        direction_id time_period  n_vp_trips  total_vp  vp_in_shape  \\\n",
       "126128             0     all_day           4    681.50       563.50   \n",
       "126193             0     offpeak           4    681.50       563.50   \n",
       "126303             1     all_day           4    649.50       545.50   \n",
       "126376             1        peak           4    649.50       545.50   \n",
       "126433             0     all_day           5    597.40       489.20   \n",
       "126500             0     offpeak           5    597.40       489.20   \n",
       "126613             1     all_day           4    559.50       494.75   \n",
       "126687             1        peak           4    559.50       494.75   \n",
       "126743             0     all_day           6    785.00       559.33   \n",
       "126806             0     offpeak           6    785.00       559.33   \n",
       "126907             1     all_day           3    632.67       587.67   \n",
       "126908             1     all_day           3    632.67       587.67   \n",
       "126978             1        peak           3    632.67       587.67   \n",
       "126979             1        peak           3    632.67       587.67   \n",
       "127036             0     all_day           5    705.60       557.80   \n",
       "127101             0     offpeak           5    705.60       557.80   \n",
       "127207             1     all_day           4    683.50       616.25   \n",
       "127280             1        peak           4    683.50       616.25   \n",
       "127335             0     all_day           5    537.80         0.00   \n",
       "127397             0     offpeak           5    537.80         0.00   \n",
       "127500             1     all_day           6    945.67         0.00   \n",
       "127567             1        peak           6    945.67         0.00   \n",
       "127634             0     all_day           6    567.67         0.00   \n",
       "127635             0     all_day           6    567.67         0.00   \n",
       "127717             0     offpeak           6    567.67         0.00   \n",
       "127718             0     offpeak           6    567.67         0.00   \n",
       "127851             1     all_day           5    835.40         0.00   \n",
       "127852             1     all_day           5    835.40         0.00   \n",
       "127950             1        peak           5    835.40         0.00   \n",
       "127951             1        peak           5    835.40         0.00   \n",
       "128004             0     all_day           6    629.67         0.00   \n",
       "128065             0     offpeak           6    629.67         0.00   \n",
       "128166             1     all_day           6    960.67         0.00   \n",
       "128238             1        peak           6    960.67         0.00   \n",
       "128290             0     all_day           6    512.33        90.00   \n",
       "128355             0     offpeak           6    512.33        90.00   \n",
       "128464             1     all_day           6   1046.33       279.00   \n",
       "128540             1        peak           6   1046.33       279.00   \n",
       "128590             0     all_day           3    417.67         0.00   \n",
       "128652             0     offpeak           3    417.67         0.00   \n",
       "128749             1     all_day           4   1324.00         0.00   \n",
       "128821             1        peak           4   1324.00         0.00   \n",
       "\n",
       "        pct_in_shape year_quarter  \n",
       "126128          0.83      2023 Q2  \n",
       "126193          0.83      2023 Q2  \n",
       "126303          0.84      2023 Q2  \n",
       "126376          0.84      2023 Q2  \n",
       "126433          0.82      2023 Q3  \n",
       "126500          0.82      2023 Q3  \n",
       "126613          0.88      2023 Q3  \n",
       "126687          0.88      2023 Q3  \n",
       "126743          0.71      2023 Q4  \n",
       "126806          0.71      2023 Q4  \n",
       "126907          0.93      2023 Q4  \n",
       "126908          0.93      2023 Q4  \n",
       "126978          0.93      2023 Q4  \n",
       "126979          0.93      2023 Q4  \n",
       "127036          0.79      2024 Q1  \n",
       "127101          0.79      2024 Q1  \n",
       "127207          0.90      2024 Q1  \n",
       "127280          0.90      2024 Q1  \n",
       "127335          0.00      2024 Q2  \n",
       "127397          0.00      2024 Q2  \n",
       "127500          0.00      2024 Q2  \n",
       "127567          0.00      2024 Q2  \n",
       "127634          0.00      2024 Q3  \n",
       "127635          0.00      2024 Q3  \n",
       "127717          0.00      2024 Q3  \n",
       "127718          0.00      2024 Q3  \n",
       "127851          0.00      2024 Q3  \n",
       "127852          0.00      2024 Q3  \n",
       "127950          0.00      2024 Q3  \n",
       "127951          0.00      2024 Q3  \n",
       "128004          0.00      2024 Q4  \n",
       "128065          0.00      2024 Q4  \n",
       "128166          0.00      2024 Q4  \n",
       "128238          0.00      2024 Q4  \n",
       "128290          0.18      2025 Q1  \n",
       "128355          0.18      2025 Q1  \n",
       "128464          0.27      2025 Q1  \n",
       "128540          0.27      2025 Q1  \n",
       "128590          0.00      2025 Q2  \n",
       "128652          0.00      2025 Q2  \n",
       "128749          0.00      2025 Q2  \n",
       "128821          0.00      2025 Q2  "
      ]
     },
     "execution_count": 28,
     "metadata": {},
     "output_type": "execute_result"
    }
   ],
   "source": [
    " qtr_86_coastal[\n",
    "    [\n",
    "        \"direction_id\",\n",
    "        \"time_period\",\n",
    "        \"n_vp_trips\",\n",
    "        \"total_vp\",\n",
    "        \"vp_in_shape\",\n",
    "        \"pct_in_shape\",\n",
    "        \"year_quarter\",\n",
    "    ]\n",
    "].sort_values(by=[\"year_quarter\", \"direction_id\", \"time_period\"])"
   ]
  },
  {
   "cell_type": "markdown",
   "id": "7fc59b15-b96f-4009-a639-3e78b6bd2116",
   "metadata": {},
   "source": [
    "### Quarters\n",
    "* qtr 1: jan feb mar\n",
    "* qtr 2: april may june\n",
    "* qtr3: july aug sept\n",
    "* qtr4: oct, nov, dec"
   ]
  },
  {
   "cell_type": "code",
   "execution_count": 29,
   "id": "cd46d5d0-9fc8-4305-948a-d54b3ccc1126",
   "metadata": {
    "scrolled": true,
    "tags": []
   },
   "outputs": [
    {
     "data": {
      "text/html": [
       "<div>\n",
       "<style scoped>\n",
       "    .dataframe tbody tr th:only-of-type {\n",
       "        vertical-align: middle;\n",
       "    }\n",
       "\n",
       "    .dataframe tbody tr th {\n",
       "        vertical-align: top;\n",
       "    }\n",
       "\n",
       "    .dataframe thead th {\n",
       "        text-align: right;\n",
       "    }\n",
       "</style>\n",
       "<table border=\"1\" class=\"dataframe\">\n",
       "  <thead>\n",
       "    <tr style=\"text-align: right;\">\n",
       "      <th></th>\n",
       "      <th>time_period</th>\n",
       "      <th>service_date</th>\n",
       "      <th>n_vp_trips</th>\n",
       "      <th>total_vp</th>\n",
       "      <th>vp_in_shape</th>\n",
       "    </tr>\n",
       "  </thead>\n",
       "  <tbody>\n",
       "    <tr>\n",
       "      <th>29616</th>\n",
       "      <td>all_day</td>\n",
       "      <td>2023-04-12</td>\n",
       "      <td>2</td>\n",
       "      <td>670</td>\n",
       "      <td>587</td>\n",
       "    </tr>\n",
       "    <tr>\n",
       "      <th>29641</th>\n",
       "      <td>offpeak</td>\n",
       "      <td>2023-04-12</td>\n",
       "      <td>2</td>\n",
       "      <td>670</td>\n",
       "      <td>587</td>\n",
       "    </tr>\n",
       "    <tr>\n",
       "      <th>29642</th>\n",
       "      <td>offpeak</td>\n",
       "      <td>2023-06-14</td>\n",
       "      <td>2</td>\n",
       "      <td>693</td>\n",
       "      <td>540</td>\n",
       "    </tr>\n",
       "    <tr>\n",
       "      <th>29617</th>\n",
       "      <td>all_day</td>\n",
       "      <td>2023-06-14</td>\n",
       "      <td>2</td>\n",
       "      <td>693</td>\n",
       "      <td>540</td>\n",
       "    </tr>\n",
       "    <tr>\n",
       "      <th>29618</th>\n",
       "      <td>all_day</td>\n",
       "      <td>2023-07-12</td>\n",
       "      <td>2</td>\n",
       "      <td>703</td>\n",
       "      <td>569</td>\n",
       "    </tr>\n",
       "    <tr>\n",
       "      <th>29643</th>\n",
       "      <td>offpeak</td>\n",
       "      <td>2023-07-12</td>\n",
       "      <td>2</td>\n",
       "      <td>703</td>\n",
       "      <td>569</td>\n",
       "    </tr>\n",
       "    <tr>\n",
       "      <th>29619</th>\n",
       "      <td>all_day</td>\n",
       "      <td>2023-08-15</td>\n",
       "      <td>2</td>\n",
       "      <td>661</td>\n",
       "      <td>539</td>\n",
       "    </tr>\n",
       "    <tr>\n",
       "      <th>29644</th>\n",
       "      <td>offpeak</td>\n",
       "      <td>2023-08-15</td>\n",
       "      <td>2</td>\n",
       "      <td>661</td>\n",
       "      <td>539</td>\n",
       "    </tr>\n",
       "    <tr>\n",
       "      <th>29620</th>\n",
       "      <td>all_day</td>\n",
       "      <td>2023-09-13</td>\n",
       "      <td>1</td>\n",
       "      <td>259</td>\n",
       "      <td>230</td>\n",
       "    </tr>\n",
       "    <tr>\n",
       "      <th>29645</th>\n",
       "      <td>offpeak</td>\n",
       "      <td>2023-09-13</td>\n",
       "      <td>1</td>\n",
       "      <td>259</td>\n",
       "      <td>230</td>\n",
       "    </tr>\n",
       "    <tr>\n",
       "      <th>29621</th>\n",
       "      <td>all_day</td>\n",
       "      <td>2023-10-11</td>\n",
       "      <td>2</td>\n",
       "      <td>1008</td>\n",
       "      <td>719</td>\n",
       "    </tr>\n",
       "    <tr>\n",
       "      <th>29646</th>\n",
       "      <td>offpeak</td>\n",
       "      <td>2023-10-11</td>\n",
       "      <td>2</td>\n",
       "      <td>1008</td>\n",
       "      <td>719</td>\n",
       "    </tr>\n",
       "    <tr>\n",
       "      <th>29622</th>\n",
       "      <td>all_day</td>\n",
       "      <td>2023-11-15</td>\n",
       "      <td>2</td>\n",
       "      <td>866</td>\n",
       "      <td>635</td>\n",
       "    </tr>\n",
       "    <tr>\n",
       "      <th>29647</th>\n",
       "      <td>offpeak</td>\n",
       "      <td>2023-11-15</td>\n",
       "      <td>2</td>\n",
       "      <td>866</td>\n",
       "      <td>635</td>\n",
       "    </tr>\n",
       "    <tr>\n",
       "      <th>29623</th>\n",
       "      <td>all_day</td>\n",
       "      <td>2023-12-13</td>\n",
       "      <td>2</td>\n",
       "      <td>481</td>\n",
       "      <td>324</td>\n",
       "    </tr>\n",
       "    <tr>\n",
       "      <th>29648</th>\n",
       "      <td>offpeak</td>\n",
       "      <td>2023-12-13</td>\n",
       "      <td>2</td>\n",
       "      <td>481</td>\n",
       "      <td>324</td>\n",
       "    </tr>\n",
       "    <tr>\n",
       "      <th>29649</th>\n",
       "      <td>offpeak</td>\n",
       "      <td>2024-01-17</td>\n",
       "      <td>2</td>\n",
       "      <td>706</td>\n",
       "      <td>562</td>\n",
       "    </tr>\n",
       "    <tr>\n",
       "      <th>29624</th>\n",
       "      <td>all_day</td>\n",
       "      <td>2024-01-17</td>\n",
       "      <td>2</td>\n",
       "      <td>706</td>\n",
       "      <td>562</td>\n",
       "    </tr>\n",
       "    <tr>\n",
       "      <th>29650</th>\n",
       "      <td>offpeak</td>\n",
       "      <td>2024-02-14</td>\n",
       "      <td>1</td>\n",
       "      <td>764</td>\n",
       "      <td>415</td>\n",
       "    </tr>\n",
       "    <tr>\n",
       "      <th>29625</th>\n",
       "      <td>all_day</td>\n",
       "      <td>2024-02-14</td>\n",
       "      <td>1</td>\n",
       "      <td>764</td>\n",
       "      <td>415</td>\n",
       "    </tr>\n",
       "    <tr>\n",
       "      <th>29651</th>\n",
       "      <td>offpeak</td>\n",
       "      <td>2024-03-13</td>\n",
       "      <td>2</td>\n",
       "      <td>676</td>\n",
       "      <td>625</td>\n",
       "    </tr>\n",
       "    <tr>\n",
       "      <th>29626</th>\n",
       "      <td>all_day</td>\n",
       "      <td>2024-03-13</td>\n",
       "      <td>2</td>\n",
       "      <td>676</td>\n",
       "      <td>625</td>\n",
       "    </tr>\n",
       "    <tr>\n",
       "      <th>29652</th>\n",
       "      <td>offpeak</td>\n",
       "      <td>2024-04-17</td>\n",
       "      <td>2</td>\n",
       "      <td>634</td>\n",
       "      <td>0</td>\n",
       "    </tr>\n",
       "    <tr>\n",
       "      <th>29627</th>\n",
       "      <td>all_day</td>\n",
       "      <td>2024-04-17</td>\n",
       "      <td>2</td>\n",
       "      <td>634</td>\n",
       "      <td>0</td>\n",
       "    </tr>\n",
       "    <tr>\n",
       "      <th>29653</th>\n",
       "      <td>offpeak</td>\n",
       "      <td>2024-05-22</td>\n",
       "      <td>2</td>\n",
       "      <td>568</td>\n",
       "      <td>0</td>\n",
       "    </tr>\n",
       "    <tr>\n",
       "      <th>29628</th>\n",
       "      <td>all_day</td>\n",
       "      <td>2024-05-22</td>\n",
       "      <td>2</td>\n",
       "      <td>568</td>\n",
       "      <td>0</td>\n",
       "    </tr>\n",
       "    <tr>\n",
       "      <th>29654</th>\n",
       "      <td>offpeak</td>\n",
       "      <td>2024-06-12</td>\n",
       "      <td>1</td>\n",
       "      <td>285</td>\n",
       "      <td>0</td>\n",
       "    </tr>\n",
       "    <tr>\n",
       "      <th>29629</th>\n",
       "      <td>all_day</td>\n",
       "      <td>2024-06-12</td>\n",
       "      <td>1</td>\n",
       "      <td>285</td>\n",
       "      <td>0</td>\n",
       "    </tr>\n",
       "    <tr>\n",
       "      <th>29630</th>\n",
       "      <td>all_day</td>\n",
       "      <td>2024-07-17</td>\n",
       "      <td>2</td>\n",
       "      <td>493</td>\n",
       "      <td>0</td>\n",
       "    </tr>\n",
       "    <tr>\n",
       "      <th>29655</th>\n",
       "      <td>offpeak</td>\n",
       "      <td>2024-07-17</td>\n",
       "      <td>2</td>\n",
       "      <td>493</td>\n",
       "      <td>0</td>\n",
       "    </tr>\n",
       "    <tr>\n",
       "      <th>29656</th>\n",
       "      <td>offpeak</td>\n",
       "      <td>2024-08-14</td>\n",
       "      <td>2</td>\n",
       "      <td>643</td>\n",
       "      <td>0</td>\n",
       "    </tr>\n",
       "    <tr>\n",
       "      <th>29631</th>\n",
       "      <td>all_day</td>\n",
       "      <td>2024-08-14</td>\n",
       "      <td>2</td>\n",
       "      <td>643</td>\n",
       "      <td>0</td>\n",
       "    </tr>\n",
       "    <tr>\n",
       "      <th>29657</th>\n",
       "      <td>offpeak</td>\n",
       "      <td>2024-09-18</td>\n",
       "      <td>2</td>\n",
       "      <td>567</td>\n",
       "      <td>0</td>\n",
       "    </tr>\n",
       "    <tr>\n",
       "      <th>29632</th>\n",
       "      <td>all_day</td>\n",
       "      <td>2024-09-18</td>\n",
       "      <td>2</td>\n",
       "      <td>567</td>\n",
       "      <td>0</td>\n",
       "    </tr>\n",
       "    <tr>\n",
       "      <th>29658</th>\n",
       "      <td>offpeak</td>\n",
       "      <td>2024-10-16</td>\n",
       "      <td>2</td>\n",
       "      <td>446</td>\n",
       "      <td>0</td>\n",
       "    </tr>\n",
       "    <tr>\n",
       "      <th>29633</th>\n",
       "      <td>all_day</td>\n",
       "      <td>2024-10-16</td>\n",
       "      <td>2</td>\n",
       "      <td>446</td>\n",
       "      <td>0</td>\n",
       "    </tr>\n",
       "    <tr>\n",
       "      <th>29659</th>\n",
       "      <td>offpeak</td>\n",
       "      <td>2024-11-13</td>\n",
       "      <td>2</td>\n",
       "      <td>824</td>\n",
       "      <td>0</td>\n",
       "    </tr>\n",
       "    <tr>\n",
       "      <th>29634</th>\n",
       "      <td>all_day</td>\n",
       "      <td>2024-11-13</td>\n",
       "      <td>2</td>\n",
       "      <td>824</td>\n",
       "      <td>0</td>\n",
       "    </tr>\n",
       "    <tr>\n",
       "      <th>29635</th>\n",
       "      <td>all_day</td>\n",
       "      <td>2024-12-11</td>\n",
       "      <td>2</td>\n",
       "      <td>619</td>\n",
       "      <td>0</td>\n",
       "    </tr>\n",
       "    <tr>\n",
       "      <th>29660</th>\n",
       "      <td>offpeak</td>\n",
       "      <td>2024-12-11</td>\n",
       "      <td>2</td>\n",
       "      <td>619</td>\n",
       "      <td>0</td>\n",
       "    </tr>\n",
       "    <tr>\n",
       "      <th>29661</th>\n",
       "      <td>offpeak</td>\n",
       "      <td>2025-01-15</td>\n",
       "      <td>2</td>\n",
       "      <td>585</td>\n",
       "      <td>0</td>\n",
       "    </tr>\n",
       "    <tr>\n",
       "      <th>29636</th>\n",
       "      <td>all_day</td>\n",
       "      <td>2025-01-15</td>\n",
       "      <td>2</td>\n",
       "      <td>585</td>\n",
       "      <td>0</td>\n",
       "    </tr>\n",
       "    <tr>\n",
       "      <th>29662</th>\n",
       "      <td>offpeak</td>\n",
       "      <td>2025-02-12</td>\n",
       "      <td>2</td>\n",
       "      <td>598</td>\n",
       "      <td>0</td>\n",
       "    </tr>\n",
       "    <tr>\n",
       "      <th>29637</th>\n",
       "      <td>all_day</td>\n",
       "      <td>2025-02-12</td>\n",
       "      <td>2</td>\n",
       "      <td>598</td>\n",
       "      <td>0</td>\n",
       "    </tr>\n",
       "    <tr>\n",
       "      <th>29663</th>\n",
       "      <td>offpeak</td>\n",
       "      <td>2025-03-12</td>\n",
       "      <td>2</td>\n",
       "      <td>354</td>\n",
       "      <td>270</td>\n",
       "    </tr>\n",
       "    <tr>\n",
       "      <th>29638</th>\n",
       "      <td>all_day</td>\n",
       "      <td>2025-03-12</td>\n",
       "      <td>2</td>\n",
       "      <td>354</td>\n",
       "      <td>270</td>\n",
       "    </tr>\n",
       "    <tr>\n",
       "      <th>29664</th>\n",
       "      <td>offpeak</td>\n",
       "      <td>2025-04-16</td>\n",
       "      <td>1</td>\n",
       "      <td>283</td>\n",
       "      <td>0</td>\n",
       "    </tr>\n",
       "    <tr>\n",
       "      <th>29639</th>\n",
       "      <td>all_day</td>\n",
       "      <td>2025-04-16</td>\n",
       "      <td>1</td>\n",
       "      <td>283</td>\n",
       "      <td>0</td>\n",
       "    </tr>\n",
       "    <tr>\n",
       "      <th>29640</th>\n",
       "      <td>all_day</td>\n",
       "      <td>2025-05-14</td>\n",
       "      <td>2</td>\n",
       "      <td>485</td>\n",
       "      <td>0</td>\n",
       "    </tr>\n",
       "    <tr>\n",
       "      <th>29665</th>\n",
       "      <td>offpeak</td>\n",
       "      <td>2025-05-14</td>\n",
       "      <td>2</td>\n",
       "      <td>485</td>\n",
       "      <td>0</td>\n",
       "    </tr>\n",
       "  </tbody>\n",
       "</table>\n",
       "</div>"
      ],
      "text/plain": [
       "      time_period service_date  n_vp_trips  total_vp  vp_in_shape\n",
       "29616     all_day   2023-04-12           2       670          587\n",
       "29641     offpeak   2023-04-12           2       670          587\n",
       "29642     offpeak   2023-06-14           2       693          540\n",
       "29617     all_day   2023-06-14           2       693          540\n",
       "29618     all_day   2023-07-12           2       703          569\n",
       "29643     offpeak   2023-07-12           2       703          569\n",
       "29619     all_day   2023-08-15           2       661          539\n",
       "29644     offpeak   2023-08-15           2       661          539\n",
       "29620     all_day   2023-09-13           1       259          230\n",
       "29645     offpeak   2023-09-13           1       259          230\n",
       "29621     all_day   2023-10-11           2      1008          719\n",
       "29646     offpeak   2023-10-11           2      1008          719\n",
       "29622     all_day   2023-11-15           2       866          635\n",
       "29647     offpeak   2023-11-15           2       866          635\n",
       "29623     all_day   2023-12-13           2       481          324\n",
       "29648     offpeak   2023-12-13           2       481          324\n",
       "29649     offpeak   2024-01-17           2       706          562\n",
       "29624     all_day   2024-01-17           2       706          562\n",
       "29650     offpeak   2024-02-14           1       764          415\n",
       "29625     all_day   2024-02-14           1       764          415\n",
       "29651     offpeak   2024-03-13           2       676          625\n",
       "29626     all_day   2024-03-13           2       676          625\n",
       "29652     offpeak   2024-04-17           2       634            0\n",
       "29627     all_day   2024-04-17           2       634            0\n",
       "29653     offpeak   2024-05-22           2       568            0\n",
       "29628     all_day   2024-05-22           2       568            0\n",
       "29654     offpeak   2024-06-12           1       285            0\n",
       "29629     all_day   2024-06-12           1       285            0\n",
       "29630     all_day   2024-07-17           2       493            0\n",
       "29655     offpeak   2024-07-17           2       493            0\n",
       "29656     offpeak   2024-08-14           2       643            0\n",
       "29631     all_day   2024-08-14           2       643            0\n",
       "29657     offpeak   2024-09-18           2       567            0\n",
       "29632     all_day   2024-09-18           2       567            0\n",
       "29658     offpeak   2024-10-16           2       446            0\n",
       "29633     all_day   2024-10-16           2       446            0\n",
       "29659     offpeak   2024-11-13           2       824            0\n",
       "29634     all_day   2024-11-13           2       824            0\n",
       "29635     all_day   2024-12-11           2       619            0\n",
       "29660     offpeak   2024-12-11           2       619            0\n",
       "29661     offpeak   2025-01-15           2       585            0\n",
       "29636     all_day   2025-01-15           2       585            0\n",
       "29662     offpeak   2025-02-12           2       598            0\n",
       "29637     all_day   2025-02-12           2       598            0\n",
       "29663     offpeak   2025-03-12           2       354          270\n",
       "29638     all_day   2025-03-12           2       354          270\n",
       "29664     offpeak   2025-04-16           1       283            0\n",
       "29639     all_day   2025-04-16           1       283            0\n",
       "29640     all_day   2025-05-14           2       485            0\n",
       "29665     offpeak   2025-05-14           2       485            0"
      ]
     },
     "execution_count": 29,
     "metadata": {},
     "output_type": "execute_result"
    }
   ],
   "source": [
    "monthly_df.loc[\n",
    "    (monthly_df.recent_combined_name == \"86 80-89 Coastal Express\")\n",
    "    & (monthly_df.direction_id == 0)\n",
    "][\n",
    "    [\"time_period\",\n",
    "        \"service_date\",\n",
    "        \"n_vp_trips\",\n",
    "        \"total_vp\",\n",
    "        \"vp_in_shape\",\n",
    "    ]\n",
    "].sort_values(by = [\"service_date\"])"
   ]
  },
  {
   "cell_type": "markdown",
   "id": "33517c97-f734-4ff0-907a-3e665b663ead",
   "metadata": {},
   "source": [
    "#### Qtr 3: July Aug Sept"
   ]
  },
  {
   "cell_type": "code",
   "execution_count": 30,
   "id": "611b7110-bbbf-4e60-af16-1716c92d61a6",
   "metadata": {
    "tags": []
   },
   "outputs": [
    {
     "data": {
      "text/plain": [
       "324.6"
      ]
     },
     "execution_count": 30,
     "metadata": {},
     "output_type": "execute_result"
    }
   ],
   "source": [
    "(703+661+259)/5"
   ]
  },
  {
   "cell_type": "code",
   "execution_count": 31,
   "id": "e105fe4b-d5f4-40a1-91d7-8e317aba16fe",
   "metadata": {
    "tags": []
   },
   "outputs": [
    {
     "data": {
      "text/plain": [
       "267.6"
      ]
     },
     "execution_count": 31,
     "metadata": {},
     "output_type": "execute_result"
    }
   ],
   "source": [
    "(569+539+230)/5"
   ]
  },
  {
   "cell_type": "code",
   "execution_count": 32,
   "id": "bb3bb67c-c7d6-451b-9819-9051e7562cc1",
   "metadata": {
    "tags": []
   },
   "outputs": [
    {
     "data": {
      "text/plain": [
       "0.8243992606284658"
      ]
     },
     "execution_count": 32,
     "metadata": {},
     "output_type": "execute_result"
    }
   ],
   "source": [
    "267.6/324.6\n",
    "\n"
   ]
  },
  {
   "cell_type": "markdown",
   "id": "c251bc5c-3d62-4b37-82f5-b61f9fd0de8d",
   "metadata": {
    "tags": []
   },
   "source": [
    "#### QTR 4: Oct, Nov, Dec"
   ]
  },
  {
   "cell_type": "code",
   "execution_count": 33,
   "id": "6a4660e3-c6fb-42f1-9857-f13f3ca27a4c",
   "metadata": {
    "tags": []
   },
   "outputs": [
    {
     "data": {
      "text/plain": [
       "392.5"
      ]
     },
     "execution_count": 33,
     "metadata": {},
     "output_type": "execute_result"
    }
   ],
   "source": [
    "(1008+866+481)/6"
   ]
  },
  {
   "cell_type": "code",
   "execution_count": 34,
   "id": "618d74d4-1617-4e03-bb2e-85b739126bfa",
   "metadata": {
    "tags": []
   },
   "outputs": [
    {
     "data": {
      "text/plain": [
       "279.6666666666667"
      ]
     },
     "execution_count": 34,
     "metadata": {},
     "output_type": "execute_result"
    }
   ],
   "source": [
    "(719+635+324)/6"
   ]
  },
  {
   "cell_type": "code",
   "execution_count": 35,
   "id": "0d0ae63c-636c-4fa2-a5d4-c2098480887d",
   "metadata": {
    "tags": []
   },
   "outputs": [
    {
     "data": {
      "text/plain": [
       "0.7125265392781317"
      ]
     },
     "execution_count": 35,
     "metadata": {},
     "output_type": "execute_result"
    }
   ],
   "source": [
    "279.6666666666667/392.5"
   ]
  },
  {
   "cell_type": "markdown",
   "id": "780aea49-92a9-4f99-bf24-6d15e5f91eb0",
   "metadata": {},
   "source": [
    "#### QTR1 2024 "
   ]
  },
  {
   "cell_type": "code",
   "execution_count": 36,
   "id": "f63a8a64-9aa8-4b7e-bf40-12e214665c20",
   "metadata": {
    "tags": []
   },
   "outputs": [
    {
     "data": {
      "text/plain": [
       "429.2"
      ]
     },
     "execution_count": 36,
     "metadata": {},
     "output_type": "execute_result"
    }
   ],
   "source": [
    "(706+764+676)/5"
   ]
  },
  {
   "cell_type": "code",
   "execution_count": 37,
   "id": "beba6b37-3bf1-4701-8b49-ef4f0d468d83",
   "metadata": {
    "tags": []
   },
   "outputs": [
    {
     "data": {
      "text/plain": [
       "320.4"
      ]
     },
     "execution_count": 37,
     "metadata": {},
     "output_type": "execute_result"
    }
   ],
   "source": [
    "(562+415+625)/5"
   ]
  },
  {
   "cell_type": "code",
   "execution_count": 38,
   "id": "a8b9d762-c963-4c17-89ee-609be33d9a0c",
   "metadata": {
    "tags": []
   },
   "outputs": [
    {
     "data": {
      "text/plain": [
       "0.7465051258154706"
      ]
     },
     "execution_count": 38,
     "metadata": {},
     "output_type": "execute_result"
    }
   ],
   "source": [
    "320.4/429.2"
   ]
  },
  {
   "cell_type": "code",
   "execution_count": null,
   "id": "d7a13d44-0bf2-40c4-8b33-e4f53251361b",
   "metadata": {
    "tags": []
   },
   "outputs": [],
   "source": [
    "coastal_86 = monthly_df.loc[\n",
    "    monthly_df.recent_combined_name == \"86 80-89 Coastal Express\"\n",
    "]"
   ]
  },
  {
   "cell_type": "code",
   "execution_count": null,
   "id": "44547c67-aa7a-4126-b8a6-ce002f3dca56",
   "metadata": {
    "tags": []
   },
   "outputs": [],
   "source": [
    "len(coastal_86), len(coastal_86.drop_duplicates())"
   ]
  },
  {
   "cell_type": "code",
   "execution_count": null,
   "id": "cdfcd8a8-ef4d-44ab-8781-faaf01757f2b",
   "metadata": {
    "tags": []
   },
   "outputs": [],
   "source": [
    "coastal_86.head()"
   ]
  },
  {
   "cell_type": "code",
   "execution_count": null,
   "id": "b7301449-aa9f-46ee-a51b-01e2374cbeea",
   "metadata": {
    "tags": []
   },
   "outputs": [],
   "source": [
    "coastal_86_dedup = monthly_df.loc[\n",
    "    monthly_df.recent_combined_name == \"86 80-89 Coastal Express\"\n",
    "]"
   ]
  },
  {
   "cell_type": "code",
   "execution_count": null,
   "id": "ed15d248-d3cc-482b-9b96-f2f02c0b1365",
   "metadata": {
    "tags": []
   },
   "outputs": [],
   "source": [
    "df = time_helpers.add_quarter(coastal_86_dedup, \"service_date\")"
   ]
  },
  {
   "cell_type": "code",
   "execution_count": null,
   "id": "35fe9860-c41c-4b9a-8708-a2d6a1c560bb",
   "metadata": {
    "tags": []
   },
   "outputs": [],
   "source": [
    "df.portfolio_organization_name.unique()"
   ]
  },
  {
   "cell_type": "code",
   "execution_count": null,
   "id": "6a949955-c647-421b-8062-3d318e5b1c53",
   "metadata": {},
   "outputs": [],
   "source": [
    "rt_metrics = segment_calcs.calculate_weighted_averages(\n",
    "    df=df[\n",
    "        quarterly_rollup.groupby_cols + quarterly_rollup.rt_metric_cols + [\"n_vp_trips\"]\n",
    "    ],\n",
    "    group_cols=quarterly_rollup.groupby_cols,\n",
    "    metric_cols=quarterly_rollup.rt_metric_cols,\n",
    "    weight_col=\"n_vp_trips\",\n",
    ")"
   ]
  },
  {
   "cell_type": "code",
   "execution_count": null,
   "id": "11907412-9e76-4678-815e-91a489c6ec5e",
   "metadata": {
    "tags": []
   },
   "outputs": [],
   "source": [
    "rt_metrics.shape"
   ]
  },
  {
   "cell_type": "code",
   "execution_count": null,
   "id": "12d29056-0597-4c99-b8f4-16f7d075bb28",
   "metadata": {
    "tags": []
   },
   "outputs": [],
   "source": [
    "rt_metrics.columns"
   ]
  },
  {
   "cell_type": "markdown",
   "id": "08ddae94-64d8-4b74-973e-dd36ecec4cee",
   "metadata": {},
   "source": [
    "### Check the rolling up"
   ]
  },
  {
   "cell_type": "code",
   "execution_count": null,
   "id": "6551bb9a-bc20-4c02-baa0-87ca392f4b25",
   "metadata": {
    "tags": []
   },
   "outputs": [],
   "source": [
    "coastal_86_dedup.service_date.unique()"
   ]
  },
  {
   "cell_type": "code",
   "execution_count": null,
   "id": "7ca98ce4-5141-4fcc-a089-e7cb34a76aa8",
   "metadata": {
    "tags": []
   },
   "outputs": [],
   "source": [
    "coastal_86_first_quarter = coastal_86_dedup.loc[\n",
    "    coastal_86_dedup.service_date.isin(\n",
    "        [\n",
    "            \"2025-01-15T00:00:00.000000000\",\n",
    "            \"2025-02-12T00:00:00.000000000\",\n",
    "            \"2025-03-12T00:00:00.000000000\",\n",
    "        ]\n",
    "    )\n",
    "]"
   ]
  },
  {
   "cell_type": "code",
   "execution_count": null,
   "id": "6df87b20-db5a-4383-8f69-d3223c994ae8",
   "metadata": {
    "tags": []
   },
   "outputs": [],
   "source": [
    "coastal_86_first_quarter.loc[coastal_86_first_quarter.direction_id == 0][\n",
    "    [\"total_scheduled_service_minutes\", \"n_vp_trips\"]\n",
    "].drop_duplicates()"
   ]
  },
  {
   "cell_type": "code",
   "execution_count": null,
   "id": "6b55459a-d3d1-47e1-8864-d006170c198c",
   "metadata": {
    "tags": []
   },
   "outputs": [],
   "source": [
    "len(coastal_86_first_quarter), len(coastal_86_first_quarter.drop_duplicates())"
   ]
  },
  {
   "cell_type": "code",
   "execution_count": null,
   "id": "caa170f4-f712-49d3-b6f0-b1685d58952d",
   "metadata": {
    "tags": []
   },
   "outputs": [],
   "source": [
    "coastal_86_first_quarter.loc[\n",
    "    coastal_86_first_quarter.direction_id == 0\n",
    "].drop_duplicates().T"
   ]
  },
  {
   "cell_type": "code",
   "execution_count": null,
   "id": "ccf26fd8-61ca-4af9-be2d-cfd70604f159",
   "metadata": {
    "tags": []
   },
   "outputs": [],
   "source": [
    "rt_metrics.loc[rt_metrics.year_quarter == \"2025_Q1\"]"
   ]
  },
  {
   "cell_type": "code",
   "execution_count": null,
   "id": "de7b0f6e-88e3-411a-920f-1ae23830eff6",
   "metadata": {
    "tags": []
   },
   "outputs": [],
   "source": [
    "schd_metrics = segment_calcs.calculate_weighted_averages(\n",
    "    df=df[\n",
    "        quarterly_rollup.groupby_cols\n",
    "        + quarterly_rollup.schd_metric_cols\n",
    "        + [\"n_scheduled_trips\"]\n",
    "    ],\n",
    "    group_cols=quarterly_rollup.groupby_cols,\n",
    "    metric_cols=quarterly_rollup.schd_metric_cols,\n",
    "    weight_col=\"n_scheduled_trips\",\n",
    ")"
   ]
  },
  {
   "cell_type": "code",
   "execution_count": null,
   "id": "ac114042-3e97-4f99-811a-3dfde2ca7e85",
   "metadata": {
    "tags": []
   },
   "outputs": [],
   "source": [
    "schd_metrics.loc[schd_metrics.year_quarter == \"2025_Q1\"]"
   ]
  },
  {
   "cell_type": "code",
   "execution_count": null,
   "id": "4a813805-8973-4804-ad5e-67a4057d9486",
   "metadata": {
    "tags": []
   },
   "outputs": [],
   "source": [
    "timeliness_df = df[\n",
    "    quarterly_rollup.groupby_cols + quarterly_rollup.rt_metric_no_weighted_avg\n",
    "]\n",
    "timeliness_df2 = (\n",
    "    timeliness_df.groupby(quarterly_rollup.groupby_cols)\n",
    "    .agg({\"is_early\": \"sum\", \"is_ontime\": \"sum\", \"is_late\": \"sum\"})\n",
    "    .reset_index()\n",
    ")"
   ]
  },
  {
   "cell_type": "code",
   "execution_count": null,
   "id": "301b0a91-0b6e-4056-8d8e-bdd1bb6f9a36",
   "metadata": {
    "tags": []
   },
   "outputs": [],
   "source": [
    "timeliness_df2.loc[timeliness_df2.year_quarter == \"2025_Q1\"]"
   ]
  },
  {
   "cell_type": "code",
   "execution_count": null,
   "id": "6a6f10c9-020c-44ef-b11f-776f5cfbbbbb",
   "metadata": {
    "tags": []
   },
   "outputs": [],
   "source": [
    "# Merge all the dataframes\n",
    "m1 = pd.merge(rt_metrics, schd_metrics, on=quarterly_rollup.groupby_cols).merge(\n",
    "    timeliness_df2, on=quarterly_rollup.groupby_cols\n",
    ")"
   ]
  },
  {
   "cell_type": "code",
   "execution_count": null,
   "id": "59a27d8b-b092-4155-a6c3-071f71239123",
   "metadata": {
    "tags": []
   },
   "outputs": [],
   "source": [
    "len(m1.loc[m1.year_quarter == \"2025_Q1\"])"
   ]
  },
  {
   "cell_type": "code",
   "execution_count": null,
   "id": "cbbfb3c1-050a-4d60-b34c-914df6f63210",
   "metadata": {
    "tags": []
   },
   "outputs": [],
   "source": [
    "len(m1.loc[m1.year_quarter == \"2025_Q1\"].drop_duplicates())"
   ]
  },
  {
   "cell_type": "code",
   "execution_count": null,
   "id": "77f81bc7-fcc7-4678-b358-6132c11e1622",
   "metadata": {
    "tags": []
   },
   "outputs": [],
   "source": [
    "m1.loc[m1.year_quarter == \"2025_Q1\"].T"
   ]
  },
  {
   "cell_type": "code",
   "execution_count": null,
   "id": "0d98f614-d13c-48d5-9356-db1a7e020edb",
   "metadata": {
    "tags": []
   },
   "outputs": [],
   "source": [
    "set(monthly_df.columns) - set(m1.columns)"
   ]
  },
  {
   "cell_type": "code",
   "execution_count": null,
   "id": "21127294-0b0f-45ed-b94b-16b33d7de1aa",
   "metadata": {
    "tags": []
   },
   "outputs": [],
   "source": [
    "crosswalk_df = df[\n",
    "    [\n",
    "        \"base64_url\",\n",
    "        \"caltrans_district\",\n",
    "        \"combined_name\",\n",
    "        \"is_coverage\",\n",
    "        \"is_downtown_local\",\n",
    "        \"is_express\",\n",
    "        \"is_ferry\",\n",
    "        \"is_local\",\n",
    "        \"is_rail\",\n",
    "        \"is_rapid\",\n",
    "        \"name\",\n",
    "        \"recent_route_id\",\n",
    "        \"route_id\",\n",
    "        \"route_primary_direction\",\n",
    "        \"sched_rt_category\",\n",
    "        \"schedule_gtfs_dataset_key\",\n",
    "        \"schedule_source_record_id\",\n",
    "        \"typology\",\n",
    "        \"portfolio_organization_name\",\n",
    "        \"year_quarter\",\n",
    "        \"direction_id\",\n",
    "        \"time_period\",\n",
    "        \"recent_combined_name\",\n",
    "    ]\n",
    "].drop_duplicates()"
   ]
  },
  {
   "cell_type": "code",
   "execution_count": null,
   "id": "7a99eb57-35f5-478c-a25d-1e63aaad4765",
   "metadata": {
    "tags": []
   },
   "outputs": [],
   "source": [
    "quarterly_rollup.groupby_cols"
   ]
  },
  {
   "cell_type": "code",
   "execution_count": null,
   "id": "f27a8eef-00eb-4d1b-baef-2ed739aa4f79",
   "metadata": {
    "tags": []
   },
   "outputs": [],
   "source": [
    "crosswalk_df.shape"
   ]
  },
  {
   "cell_type": "code",
   "execution_count": null,
   "id": "a48b1b0d-f2c2-4854-885e-c8fc7ba1da92",
   "metadata": {
    "tags": []
   },
   "outputs": [],
   "source": [
    "m2 = pd.merge(m1, crosswalk_df, on=quarterly_rollup.groupby_cols)"
   ]
  },
  {
   "cell_type": "code",
   "execution_count": null,
   "id": "fd94fc2e-6a9e-4618-b711-2985df1870be",
   "metadata": {
    "tags": []
   },
   "outputs": [],
   "source": [
    "len(m1), len(m2)"
   ]
  },
  {
   "cell_type": "code",
   "execution_count": null,
   "id": "338a9f58-1b25-4ab1-b7ff-51fdd2bcb12f",
   "metadata": {
    "tags": []
   },
   "outputs": [],
   "source": [
    "m2.loc[m2.year_quarter == \"2025_Q1\"].T"
   ]
  },
  {
   "cell_type": "code",
   "execution_count": null,
   "id": "9b200a83-195a-45c8-a9d5-e6b4936f83d9",
   "metadata": {
    "tags": []
   },
   "outputs": [],
   "source": [
    "m2 = (\n",
    "    m2.rename(\n",
    "        columns={\n",
    "            \"total_rt_service_minutes\": \"rt_service_minutes\",\n",
    "            \"total_scheduled_service_minutes\": \"scheduled_service_minutes\",\n",
    "        }\n",
    "    )\n",
    "    .pipe(metrics.calculate_rt_vs_schedule_metrics)\n",
    "    .rename(\n",
    "        columns={\n",
    "            \"rt_service_minutes\": \"total_rt_service_minutes\",\n",
    "            \"scheduled_service_minutes\": \"total_scheduled_service_minutes\",\n",
    "        }\n",
    "    )\n",
    ")"
   ]
  },
  {
   "cell_type": "code",
   "execution_count": null,
   "id": "ec9b187f-2034-4ccc-88ef-c29a2d06ddc1",
   "metadata": {
    "tags": []
   },
   "outputs": [],
   "source": [
    "m2[\"rt_sched_journey_ratio\"] = (\n",
    "    m2.total_rt_service_minutes / m2.total_scheduled_service_minutes\n",
    ")"
   ]
  },
  {
   "cell_type": "code",
   "execution_count": null,
   "id": "01891369-70df-4a75-836a-3f0ef41c14e4",
   "metadata": {
    "tags": []
   },
   "outputs": [],
   "source": [
    "col_proper_order = list(coastal_86_dedup.columns)"
   ]
  },
  {
   "cell_type": "code",
   "execution_count": null,
   "id": "d71d2865-bfe5-47b9-ba67-18806def90ef",
   "metadata": {
    "tags": []
   },
   "outputs": [],
   "source": [
    "col_proper_order.remove(\"service_date\")"
   ]
  },
  {
   "cell_type": "code",
   "execution_count": null,
   "id": "b9a81c54-08b5-465e-ac56-e256451d18c2",
   "metadata": {
    "tags": []
   },
   "outputs": [],
   "source": [
    "m2 = m2[col_proper_order + [\"year_quarter\"]]"
   ]
  },
  {
   "cell_type": "code",
   "execution_count": null,
   "id": "2a162db7-4191-42d9-b7b0-ed3ee07f67b8",
   "metadata": {
    "tags": []
   },
   "outputs": [],
   "source": [
    "m2.loc[m2.year_quarter == \"2025_Q1\"].T"
   ]
  },
  {
   "cell_type": "code",
   "execution_count": null,
   "id": "d579df12-3bb4-4172-a787-b97676f2cb5c",
   "metadata": {
    "tags": []
   },
   "outputs": [],
   "source": [
    "DIGEST_RT_SCHED_QTR = GTFS_DATA_DICT.digest_tables.quarterly_route_schedule_vp"
   ]
  },
  {
   "cell_type": "code",
   "execution_count": null,
   "id": "8a9cdd84-57fe-4f28-9890-67d6a633f511",
   "metadata": {
    "tags": []
   },
   "outputs": [],
   "source": [
    "qtr_df = pd.read_parquet(f\"{RT_SCHED_GCS}{DIGEST_RT_SCHED_QTR}.parquet\")"
   ]
  },
  {
   "cell_type": "code",
   "execution_count": null,
   "id": "989d9086-5a1c-4efa-8037-6c577085a914",
   "metadata": {
    "tags": []
   },
   "outputs": [],
   "source": [
    "qtr_df.loc[qtr_df.portfolio_organization_name == portfolio_name].shape"
   ]
  },
  {
   "cell_type": "code",
   "execution_count": null,
   "id": "df758617-f20b-46e1-a910-ff7e0f1ecb9b",
   "metadata": {
    "tags": []
   },
   "outputs": [],
   "source": [
    "qtr_df.loc[\n",
    "    qtr_df.portfolio_organization_name == portfolio_name\n",
    "].recent_combined_name.unique()"
   ]
  },
  {
   "cell_type": "code",
   "execution_count": null,
   "id": "c78a0cf5-5c8d-4ee0-8527-ee7892cd9a10",
   "metadata": {
    "tags": []
   },
   "outputs": [],
   "source": [
    "qtr_df.year_quarter.unique()"
   ]
  },
  {
   "cell_type": "code",
   "execution_count": null,
   "id": "694bd59e-3502-4bdd-8e2d-6d2f8cd47af7",
   "metadata": {
    "tags": []
   },
   "outputs": [],
   "source": [
    "qtr_df.loc[\n",
    "    (qtr_df.recent_combined_name == \"86 80-89 Coastal Express\")\n",
    "    & (qtr_df.year_quarter == \"2025 Q1\")\n",
    "].shape"
   ]
  }
 ],
 "metadata": {
  "kernelspec": {
   "display_name": "Python 3 (ipykernel)",
   "language": "python",
   "name": "python3"
  },
  "language_info": {
   "codemirror_mode": {
    "name": "ipython",
    "version": 3
   },
   "file_extension": ".py",
   "mimetype": "text/x-python",
   "name": "python",
   "nbconvert_exporter": "python",
   "pygments_lexer": "ipython3",
   "version": "3.11.10"
  }
 },
 "nbformat": 4,
 "nbformat_minor": 5
}
