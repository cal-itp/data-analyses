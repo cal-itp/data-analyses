{
 "cells": [
  {
   "cell_type": "markdown",
   "id": "55b875fc-62c0-43f1-8807-85153c7d0300",
   "metadata": {},
   "source": [
    "# Quarterly Roll Up \n",
    "* 6/9: Something is wrong with it, there are multiple rows repeated for the same quarter when there should only be one row for one quarter for one route. \n",
    "[Issue](https://github.com/cal-itp/data-analyses/issues/1416)"
   ]
  },
  {
   "cell_type": "code",
   "execution_count": 1,
   "id": "a0b9cf15-f2fd-41a7-80dd-5ecd8d7cb699",
   "metadata": {
    "tags": []
   },
   "outputs": [],
   "source": [
    "import _report_route_dir_visuals\n",
    "import _route_dir_data_prep\n",
    "import altair as alt\n",
    "import calitp_data_analysis.magics\n",
    "import deploy_portfolio_yaml\n",
    "import pandas as pd\n",
    "import quarterly_rollup\n",
    "import yaml\n",
    "from IPython.display import HTML, Image, Markdown, display, display_html\n",
    "from segment_speed_utils import (\n",
    "    gtfs_schedule_wrangling,\n",
    "    metrics,\n",
    "    project_vars,\n",
    "    segment_calcs,\n",
    "    time_series_utils,\n",
    ")\n",
    "from shared_utils import (\n",
    "    catalog_utils,\n",
    "    gtfs_utils_v2,\n",
    "    portfolio_utils,\n",
    "    publish_utils,\n",
    "    rt_dates,\n",
    "    rt_utils,\n",
    "    time_helpers,\n",
    ")\n",
    "from update_vars import GTFS_DATA_DICT, RT_SCHED_GCS, SCHED_GCS, SEGMENT_GCS"
   ]
  },
  {
   "cell_type": "code",
   "execution_count": 2,
   "id": "f0206287-c428-4b15-8fdb-418b4601d8e1",
   "metadata": {},
   "outputs": [],
   "source": [
    "pd.options.display.max_columns = 100\n",
    "pd.options.display.float_format = \"{:.2f}\".format\n",
    "pd.set_option(\"display.max_rows\", None)\n",
    "pd.set_option(\"display.max_colwidth\", None)"
   ]
  },
  {
   "cell_type": "code",
   "execution_count": 3,
   "id": "17d149fd-b0d3-4ca4-b6b9-f10fbce7d65d",
   "metadata": {
    "tags": []
   },
   "outputs": [],
   "source": [
    "from omegaconf import OmegaConf\n",
    "\n",
    "readable_dict = OmegaConf.load(\"readable2.yml\")"
   ]
  },
  {
   "cell_type": "code",
   "execution_count": 4,
   "id": "24533e38-e604-4e2d-a152-8162fff71738",
   "metadata": {
    "tags": []
   },
   "outputs": [],
   "source": [
    "analysis_date_list = rt_dates.y2025_dates"
   ]
  },
  {
   "cell_type": "code",
   "execution_count": 5,
   "id": "1edb5621-6769-462b-add7-54c2af36da17",
   "metadata": {
    "tags": []
   },
   "outputs": [],
   "source": [
    "#  portfolio_name = \"City and County of San Francisco\"\n",
    "portfolio_name = \"Ventura County (VCTC, Gold Coast, Cities of Camarillo, Moorpark, Ojai, Simi Valley, Thousand Oaks)\""
   ]
  },
  {
   "cell_type": "code",
   "execution_count": 6,
   "id": "c72476fa-8c89-4463-8f3a-e277c163d427",
   "metadata": {
    "tags": []
   },
   "outputs": [],
   "source": [
    "# Read in og df\n",
    "DIGEST_RT_SCHED_MONTH = GTFS_DATA_DICT.digest_tables.monthly_route_schedule_vp"
   ]
  },
  {
   "cell_type": "code",
   "execution_count": 7,
   "id": "821483a7-4821-43df-9303-befe9eaae341",
   "metadata": {
    "tags": []
   },
   "outputs": [],
   "source": [
    "monthly_df = pd.read_parquet(f\"{RT_SCHED_GCS}{DIGEST_RT_SCHED_MONTH}.parquet\")"
   ]
  },
  {
   "cell_type": "code",
   "execution_count": 8,
   "id": "06f8f810-67bb-4e7b-b8ee-53a2cd5a3a3f",
   "metadata": {
    "tags": []
   },
   "outputs": [],
   "source": [
    "one_route = monthly_df.loc[\n",
    "    (monthly_df.portfolio_organization_name == portfolio_name)\n",
    "    & (monthly_df.recent_combined_name == \"80-89 Coastal Express\")\n",
    "]"
   ]
  },
  {
   "cell_type": "code",
   "execution_count": 9,
   "id": "7bbe7428-9007-45a3-bf46-c96f1fe06f0b",
   "metadata": {
    "tags": []
   },
   "outputs": [
    {
     "data": {
      "text/html": [
       "<div>\n",
       "<style scoped>\n",
       "    .dataframe tbody tr th:only-of-type {\n",
       "        vertical-align: middle;\n",
       "    }\n",
       "\n",
       "    .dataframe tbody tr th {\n",
       "        vertical-align: top;\n",
       "    }\n",
       "\n",
       "    .dataframe thead th {\n",
       "        text-align: right;\n",
       "    }\n",
       "</style>\n",
       "<table border=\"1\" class=\"dataframe\">\n",
       "  <thead>\n",
       "    <tr style=\"text-align: right;\">\n",
       "      <th></th>\n",
       "      <th>recent_route_id</th>\n",
       "      <th>recent_combined_name</th>\n",
       "      <th>combined_name</th>\n",
       "    </tr>\n",
       "  </thead>\n",
       "  <tbody>\n",
       "    <tr>\n",
       "      <th>222269</th>\n",
       "      <td>4134</td>\n",
       "      <td>80-89 Coastal Express</td>\n",
       "      <td>80__80-89 Coastal Express</td>\n",
       "    </tr>\n",
       "    <tr>\n",
       "      <th>223550</th>\n",
       "      <td>4136</td>\n",
       "      <td>80-89 Coastal Express</td>\n",
       "      <td>80X__80-89 Coastal Express</td>\n",
       "    </tr>\n",
       "    <tr>\n",
       "      <th>224432</th>\n",
       "      <td>4137</td>\n",
       "      <td>80-89 Coastal Express</td>\n",
       "      <td>81__80-89 Coastal Express</td>\n",
       "    </tr>\n",
       "    <tr>\n",
       "      <th>225314</th>\n",
       "      <td>4138</td>\n",
       "      <td>80-89 Coastal Express</td>\n",
       "      <td>81B__80-89 Coastal Express</td>\n",
       "    </tr>\n",
       "    <tr>\n",
       "      <th>226196</th>\n",
       "      <td>4141</td>\n",
       "      <td>80-89 Coastal Express</td>\n",
       "      <td>84__80-89 Coastal Express</td>\n",
       "    </tr>\n",
       "    <tr>\n",
       "      <th>226994</th>\n",
       "      <td>4142</td>\n",
       "      <td>80-89 Coastal Express</td>\n",
       "      <td>84U__80-89 Coastal Express</td>\n",
       "    </tr>\n",
       "    <tr>\n",
       "      <th>227876</th>\n",
       "      <td>4143</td>\n",
       "      <td>80-89 Coastal Express</td>\n",
       "      <td>85__80-89 Coastal Express</td>\n",
       "    </tr>\n",
       "    <tr>\n",
       "      <th>228674</th>\n",
       "      <td>4144</td>\n",
       "      <td>80-89 Coastal Express</td>\n",
       "      <td>85C__80-89 Coastal Express</td>\n",
       "    </tr>\n",
       "    <tr>\n",
       "      <th>229556</th>\n",
       "      <td>4145</td>\n",
       "      <td>80-89 Coastal Express</td>\n",
       "      <td>86__80-89 Coastal Express</td>\n",
       "    </tr>\n",
       "    <tr>\n",
       "      <th>230438</th>\n",
       "      <td>4146</td>\n",
       "      <td>80-89 Coastal Express</td>\n",
       "      <td>87__80-89 Coastal Express</td>\n",
       "    </tr>\n",
       "    <tr>\n",
       "      <th>231320</th>\n",
       "      <td>4147</td>\n",
       "      <td>80-89 Coastal Express</td>\n",
       "      <td>88__80-89 Coastal Express</td>\n",
       "    </tr>\n",
       "    <tr>\n",
       "      <th>241996</th>\n",
       "      <td>4148</td>\n",
       "      <td>80-89 Coastal Express</td>\n",
       "      <td>89__80-89 Coastal Express</td>\n",
       "    </tr>\n",
       "  </tbody>\n",
       "</table>\n",
       "</div>"
      ],
      "text/plain": [
       "       recent_route_id   recent_combined_name               combined_name\n",
       "222269            4134  80-89 Coastal Express   80__80-89 Coastal Express\n",
       "223550            4136  80-89 Coastal Express  80X__80-89 Coastal Express\n",
       "224432            4137  80-89 Coastal Express   81__80-89 Coastal Express\n",
       "225314            4138  80-89 Coastal Express  81B__80-89 Coastal Express\n",
       "226196            4141  80-89 Coastal Express   84__80-89 Coastal Express\n",
       "226994            4142  80-89 Coastal Express  84U__80-89 Coastal Express\n",
       "227876            4143  80-89 Coastal Express   85__80-89 Coastal Express\n",
       "228674            4144  80-89 Coastal Express  85C__80-89 Coastal Express\n",
       "229556            4145  80-89 Coastal Express   86__80-89 Coastal Express\n",
       "230438            4146  80-89 Coastal Express   87__80-89 Coastal Express\n",
       "231320            4147  80-89 Coastal Express   88__80-89 Coastal Express\n",
       "241996            4148  80-89 Coastal Express   89__80-89 Coastal Express"
      ]
     },
     "execution_count": 9,
     "metadata": {},
     "output_type": "execute_result"
    }
   ],
   "source": [
    "one_route[\n",
    "    [\"recent_route_id\", \"recent_combined_name\", \"combined_name\"]\n",
    "].drop_duplicates()"
   ]
  },
  {
   "cell_type": "code",
   "execution_count": 10,
   "id": "7fd9e863-9526-4e69-80de-b603b2eb7724",
   "metadata": {
    "tags": []
   },
   "outputs": [],
   "source": [
    "one_route = time_helpers.add_quarter(one_route, \"service_date\")"
   ]
  },
  {
   "cell_type": "code",
   "execution_count": 11,
   "id": "4599b80c-5952-44dc-98e0-ed2f187829d7",
   "metadata": {
    "tags": []
   },
   "outputs": [],
   "source": [
    "# Remove underscore\n",
    "one_route.year_quarter = one_route.year_quarter.str.replace(\"_\", \" \")"
   ]
  },
  {
   "cell_type": "code",
   "execution_count": 12,
   "id": "b14b5793-cd11-4171-8223-227a7151ec42",
   "metadata": {
    "tags": []
   },
   "outputs": [
    {
     "name": "stderr",
     "output_type": "stream",
     "text": [
      "/home/jovyan/data-analyses/rt_segment_speeds/segment_speed_utils/segment_calcs.py:263: SettingWithCopyWarning: \n",
      "A value is trying to be set on a copy of a slice from a DataFrame.\n",
      "Try using .loc[row_indexer,col_indexer] = value instead\n",
      "\n",
      "See the caveats in the documentation: https://pandas.pydata.org/pandas-docs/stable/user_guide/indexing.html#returning-a-view-versus-a-copy\n",
      "  df[c] = df[c] * df[weight_col]\n"
     ]
    }
   ],
   "source": [
    "rt_metrics = segment_calcs.calculate_weighted_averages(\n",
    "    df=one_route[\n",
    "        quarterly_rollup.groupby_cols + quarterly_rollup.rt_metric_cols + [\"n_vp_trips\"]\n",
    "    ],\n",
    "    group_cols=quarterly_rollup.groupby_cols,\n",
    "    metric_cols=quarterly_rollup.rt_metric_cols,\n",
    "    weight_col=\"n_vp_trips\",\n",
    ")"
   ]
  },
  {
   "cell_type": "code",
   "execution_count": 13,
   "id": "bb64a472-c939-4bb9-8e1d-0af9ec8a6c39",
   "metadata": {
    "tags": []
   },
   "outputs": [
    {
     "data": {
      "text/html": [
       "<div>\n",
       "<style scoped>\n",
       "    .dataframe tbody tr th:only-of-type {\n",
       "        vertical-align: middle;\n",
       "    }\n",
       "\n",
       "    .dataframe tbody tr th {\n",
       "        vertical-align: top;\n",
       "    }\n",
       "\n",
       "    .dataframe thead th {\n",
       "        text-align: right;\n",
       "    }\n",
       "</style>\n",
       "<table border=\"1\" class=\"dataframe\">\n",
       "  <thead>\n",
       "    <tr style=\"text-align: right;\">\n",
       "      <th></th>\n",
       "      <th>schedule_gtfs_dataset_key</th>\n",
       "      <th>year_quarter</th>\n",
       "      <th>direction_id</th>\n",
       "      <th>time_period</th>\n",
       "      <th>recent_combined_name</th>\n",
       "      <th>minutes_atleast1_vp</th>\n",
       "      <th>minutes_atleast2_vp</th>\n",
       "      <th>total_rt_service_minutes</th>\n",
       "      <th>total_vp</th>\n",
       "      <th>vp_in_shape</th>\n",
       "      <th>avg_rt_service_minutes</th>\n",
       "      <th>speed_mph</th>\n",
       "      <th>n_vp_trips</th>\n",
       "    </tr>\n",
       "  </thead>\n",
       "  <tbody>\n",
       "    <tr>\n",
       "      <th>0</th>\n",
       "      <td>1770249a5a2e770ca90628434d4934b1</td>\n",
       "      <td>2024 Q3</td>\n",
       "      <td>0</td>\n",
       "      <td>all_day</td>\n",
       "      <td>80-89 Coastal Express</td>\n",
       "      <td>338.12</td>\n",
       "      <td>330.47</td>\n",
       "      <td>478.76</td>\n",
       "      <td>974.82</td>\n",
       "      <td>0.00</td>\n",
       "      <td>163.72</td>\n",
       "      <td>30.58</td>\n",
       "      <td>833</td>\n",
       "    </tr>\n",
       "    <tr>\n",
       "      <th>1</th>\n",
       "      <td>1770249a5a2e770ca90628434d4934b1</td>\n",
       "      <td>2024 Q3</td>\n",
       "      <td>0</td>\n",
       "      <td>offpeak</td>\n",
       "      <td>80-89 Coastal Express</td>\n",
       "      <td>182.77</td>\n",
       "      <td>180.08</td>\n",
       "      <td>192.34</td>\n",
       "      <td>527.31</td>\n",
       "      <td>0.00</td>\n",
       "      <td>134.20</td>\n",
       "      <td>31.48</td>\n",
       "      <td>637</td>\n",
       "    </tr>\n",
       "    <tr>\n",
       "      <th>2</th>\n",
       "      <td>1770249a5a2e770ca90628434d4934b1</td>\n",
       "      <td>2024 Q3</td>\n",
       "      <td>0</td>\n",
       "      <td>peak</td>\n",
       "      <td>80-89 Coastal Express</td>\n",
       "      <td>584.00</td>\n",
       "      <td>569.00</td>\n",
       "      <td>1038.62</td>\n",
       "      <td>1685.00</td>\n",
       "      <td>0.00</td>\n",
       "      <td>259.65</td>\n",
       "      <td>27.65</td>\n",
       "      <td>196</td>\n",
       "    </tr>\n",
       "    <tr>\n",
       "      <th>3</th>\n",
       "      <td>1770249a5a2e770ca90628434d4934b1</td>\n",
       "      <td>2024 Q3</td>\n",
       "      <td>1</td>\n",
       "      <td>all_day</td>\n",
       "      <td>80-89 Coastal Express</td>\n",
       "      <td>514.63</td>\n",
       "      <td>503.79</td>\n",
       "      <td>767.22</td>\n",
       "      <td>1482.95</td>\n",
       "      <td>0.00</td>\n",
       "      <td>245.64</td>\n",
       "      <td>25.15</td>\n",
       "      <td>931</td>\n",
       "    </tr>\n",
       "    <tr>\n",
       "      <th>4</th>\n",
       "      <td>1770249a5a2e770ca90628434d4934b1</td>\n",
       "      <td>2024 Q3</td>\n",
       "      <td>1</td>\n",
       "      <td>offpeak</td>\n",
       "      <td>80-89 Coastal Express</td>\n",
       "      <td>120.00</td>\n",
       "      <td>115.50</td>\n",
       "      <td>122.20</td>\n",
       "      <td>341.00</td>\n",
       "      <td>0.00</td>\n",
       "      <td>122.20</td>\n",
       "      <td>18.78</td>\n",
       "      <td>98</td>\n",
       "    </tr>\n",
       "    <tr>\n",
       "      <th>5</th>\n",
       "      <td>1770249a5a2e770ca90628434d4934b1</td>\n",
       "      <td>2024 Q3</td>\n",
       "      <td>1</td>\n",
       "      <td>peak</td>\n",
       "      <td>80-89 Coastal Express</td>\n",
       "      <td>509.76</td>\n",
       "      <td>499.47</td>\n",
       "      <td>786.86</td>\n",
       "      <td>1470.24</td>\n",
       "      <td>0.00</td>\n",
       "      <td>260.16</td>\n",
       "      <td>25.01</td>\n",
       "      <td>833</td>\n",
       "    </tr>\n",
       "    <tr>\n",
       "      <th>6</th>\n",
       "      <td>1770249a5a2e770ca90628434d4934b1</td>\n",
       "      <td>2024 Q4</td>\n",
       "      <td>0</td>\n",
       "      <td>all_day</td>\n",
       "      <td>80-89 Coastal Express</td>\n",
       "      <td>289.39</td>\n",
       "      <td>285.89</td>\n",
       "      <td>524.42</td>\n",
       "      <td>855.56</td>\n",
       "      <td>0.00</td>\n",
       "      <td>202.83</td>\n",
       "      <td>28.47</td>\n",
       "      <td>2646</td>\n",
       "    </tr>\n",
       "    <tr>\n",
       "      <th>7</th>\n",
       "      <td>1770249a5a2e770ca90628434d4934b1</td>\n",
       "      <td>2024 Q4</td>\n",
       "      <td>0</td>\n",
       "      <td>offpeak</td>\n",
       "      <td>80-89 Coastal Express</td>\n",
       "      <td>167.48</td>\n",
       "      <td>165.21</td>\n",
       "      <td>265.81</td>\n",
       "      <td>494.79</td>\n",
       "      <td>0.00</td>\n",
       "      <td>199.92</td>\n",
       "      <td>28.68</td>\n",
       "      <td>2058</td>\n",
       "    </tr>\n",
       "    <tr>\n",
       "      <th>8</th>\n",
       "      <td>1770249a5a2e770ca90628434d4934b1</td>\n",
       "      <td>2024 Q4</td>\n",
       "      <td>0</td>\n",
       "      <td>peak</td>\n",
       "      <td>80-89 Coastal Express</td>\n",
       "      <td>472.33</td>\n",
       "      <td>466.33</td>\n",
       "      <td>851.99</td>\n",
       "      <td>1397.00</td>\n",
       "      <td>0.00</td>\n",
       "      <td>213.00</td>\n",
       "      <td>27.88</td>\n",
       "      <td>588</td>\n",
       "    </tr>\n",
       "    <tr>\n",
       "      <th>9</th>\n",
       "      <td>1770249a5a2e770ca90628434d4934b1</td>\n",
       "      <td>2024 Q4</td>\n",
       "      <td>1</td>\n",
       "      <td>all_day</td>\n",
       "      <td>80-89 Coastal Express</td>\n",
       "      <td>436.29</td>\n",
       "      <td>430.95</td>\n",
       "      <td>737.83</td>\n",
       "      <td>1287.44</td>\n",
       "      <td>0.00</td>\n",
       "      <td>260.01</td>\n",
       "      <td>25.91</td>\n",
       "      <td>2695</td>\n",
       "    </tr>\n",
       "    <tr>\n",
       "      <th>10</th>\n",
       "      <td>1770249a5a2e770ca90628434d4934b1</td>\n",
       "      <td>2024 Q4</td>\n",
       "      <td>1</td>\n",
       "      <td>offpeak</td>\n",
       "      <td>80-89 Coastal Express</td>\n",
       "      <td>115.17</td>\n",
       "      <td>113.17</td>\n",
       "      <td>118.69</td>\n",
       "      <td>337.00</td>\n",
       "      <td>0.00</td>\n",
       "      <td>118.69</td>\n",
       "      <td>16.08</td>\n",
       "      <td>294</td>\n",
       "    </tr>\n",
       "    <tr>\n",
       "      <th>11</th>\n",
       "      <td>1770249a5a2e770ca90628434d4934b1</td>\n",
       "      <td>2024 Q4</td>\n",
       "      <td>1</td>\n",
       "      <td>peak</td>\n",
       "      <td>80-89 Coastal Express</td>\n",
       "      <td>424.00</td>\n",
       "      <td>419.02</td>\n",
       "      <td>754.58</td>\n",
       "      <td>1252.06</td>\n",
       "      <td>0.00</td>\n",
       "      <td>277.32</td>\n",
       "      <td>26.49</td>\n",
       "      <td>2401</td>\n",
       "    </tr>\n",
       "  </tbody>\n",
       "</table>\n",
       "</div>"
      ],
      "text/plain": [
       "           schedule_gtfs_dataset_key year_quarter  direction_id time_period  \\\n",
       "0   1770249a5a2e770ca90628434d4934b1      2024 Q3             0     all_day   \n",
       "1   1770249a5a2e770ca90628434d4934b1      2024 Q3             0     offpeak   \n",
       "2   1770249a5a2e770ca90628434d4934b1      2024 Q3             0        peak   \n",
       "3   1770249a5a2e770ca90628434d4934b1      2024 Q3             1     all_day   \n",
       "4   1770249a5a2e770ca90628434d4934b1      2024 Q3             1     offpeak   \n",
       "5   1770249a5a2e770ca90628434d4934b1      2024 Q3             1        peak   \n",
       "6   1770249a5a2e770ca90628434d4934b1      2024 Q4             0     all_day   \n",
       "7   1770249a5a2e770ca90628434d4934b1      2024 Q4             0     offpeak   \n",
       "8   1770249a5a2e770ca90628434d4934b1      2024 Q4             0        peak   \n",
       "9   1770249a5a2e770ca90628434d4934b1      2024 Q4             1     all_day   \n",
       "10  1770249a5a2e770ca90628434d4934b1      2024 Q4             1     offpeak   \n",
       "11  1770249a5a2e770ca90628434d4934b1      2024 Q4             1        peak   \n",
       "\n",
       "     recent_combined_name  minutes_atleast1_vp  minutes_atleast2_vp  \\\n",
       "0   80-89 Coastal Express               338.12               330.47   \n",
       "1   80-89 Coastal Express               182.77               180.08   \n",
       "2   80-89 Coastal Express               584.00               569.00   \n",
       "3   80-89 Coastal Express               514.63               503.79   \n",
       "4   80-89 Coastal Express               120.00               115.50   \n",
       "5   80-89 Coastal Express               509.76               499.47   \n",
       "6   80-89 Coastal Express               289.39               285.89   \n",
       "7   80-89 Coastal Express               167.48               165.21   \n",
       "8   80-89 Coastal Express               472.33               466.33   \n",
       "9   80-89 Coastal Express               436.29               430.95   \n",
       "10  80-89 Coastal Express               115.17               113.17   \n",
       "11  80-89 Coastal Express               424.00               419.02   \n",
       "\n",
       "    total_rt_service_minutes  total_vp  vp_in_shape  avg_rt_service_minutes  \\\n",
       "0                     478.76    974.82         0.00                  163.72   \n",
       "1                     192.34    527.31         0.00                  134.20   \n",
       "2                    1038.62   1685.00         0.00                  259.65   \n",
       "3                     767.22   1482.95         0.00                  245.64   \n",
       "4                     122.20    341.00         0.00                  122.20   \n",
       "5                     786.86   1470.24         0.00                  260.16   \n",
       "6                     524.42    855.56         0.00                  202.83   \n",
       "7                     265.81    494.79         0.00                  199.92   \n",
       "8                     851.99   1397.00         0.00                  213.00   \n",
       "9                     737.83   1287.44         0.00                  260.01   \n",
       "10                    118.69    337.00         0.00                  118.69   \n",
       "11                    754.58   1252.06         0.00                  277.32   \n",
       "\n",
       "    speed_mph  n_vp_trips  \n",
       "0       30.58         833  \n",
       "1       31.48         637  \n",
       "2       27.65         196  \n",
       "3       25.15         931  \n",
       "4       18.78          98  \n",
       "5       25.01         833  \n",
       "6       28.47        2646  \n",
       "7       28.68        2058  \n",
       "8       27.88         588  \n",
       "9       25.91        2695  \n",
       "10      16.08         294  \n",
       "11      26.49        2401  "
      ]
     },
     "execution_count": 13,
     "metadata": {},
     "output_type": "execute_result"
    }
   ],
   "source": [
    "rt_metrics.head(12)"
   ]
  },
  {
   "cell_type": "code",
   "execution_count": 14,
   "id": "0295bd40-65a8-4b46-936c-ba38196395e6",
   "metadata": {
    "tags": []
   },
   "outputs": [
    {
     "name": "stderr",
     "output_type": "stream",
     "text": [
      "/home/jovyan/data-analyses/rt_segment_speeds/segment_speed_utils/segment_calcs.py:263: SettingWithCopyWarning: \n",
      "A value is trying to be set on a copy of a slice from a DataFrame.\n",
      "Try using .loc[row_indexer,col_indexer] = value instead\n",
      "\n",
      "See the caveats in the documentation: https://pandas.pydata.org/pandas-docs/stable/user_guide/indexing.html#returning-a-view-versus-a-copy\n",
      "  df[c] = df[c] * df[weight_col]\n"
     ]
    }
   ],
   "source": [
    "schd_metrics = segment_calcs.calculate_weighted_averages(\n",
    "    df=one_route[\n",
    "        quarterly_rollup.groupby_cols\n",
    "        + quarterly_rollup.schd_metric_cols\n",
    "        + [\"n_scheduled_trips\"]\n",
    "    ],\n",
    "    group_cols=quarterly_rollup.groupby_cols,\n",
    "    metric_cols=quarterly_rollup.schd_metric_cols,\n",
    "    weight_col=\"n_scheduled_trips\",\n",
    ")"
   ]
  },
  {
   "cell_type": "code",
   "execution_count": 15,
   "id": "fa4471ba-e754-4317-ad75-6ad075d25786",
   "metadata": {
    "tags": []
   },
   "outputs": [
    {
     "data": {
      "text/html": [
       "<div>\n",
       "<style scoped>\n",
       "    .dataframe tbody tr th:only-of-type {\n",
       "        vertical-align: middle;\n",
       "    }\n",
       "\n",
       "    .dataframe tbody tr th {\n",
       "        vertical-align: top;\n",
       "    }\n",
       "\n",
       "    .dataframe thead th {\n",
       "        text-align: right;\n",
       "    }\n",
       "</style>\n",
       "<table border=\"1\" class=\"dataframe\">\n",
       "  <thead>\n",
       "    <tr style=\"text-align: right;\">\n",
       "      <th></th>\n",
       "      <th>schedule_gtfs_dataset_key</th>\n",
       "      <th>year_quarter</th>\n",
       "      <th>direction_id</th>\n",
       "      <th>time_period</th>\n",
       "      <th>recent_combined_name</th>\n",
       "      <th>avg_scheduled_service_minutes</th>\n",
       "      <th>avg_stop_miles</th>\n",
       "      <th>frequency</th>\n",
       "      <th>total_scheduled_service_minutes</th>\n",
       "      <th>n_scheduled_trips</th>\n",
       "    </tr>\n",
       "  </thead>\n",
       "  <tbody>\n",
       "    <tr>\n",
       "      <th>0</th>\n",
       "      <td>1770249a5a2e770ca90628434d4934b1</td>\n",
       "      <td>2024 Q3</td>\n",
       "      <td>0</td>\n",
       "      <td>all_day</td>\n",
       "      <td>80-89 Coastal Express</td>\n",
       "      <td>105.71</td>\n",
       "      <td>1.82</td>\n",
       "      <td>0.10</td>\n",
       "      <td>249.26</td>\n",
       "      <td>840</td>\n",
       "    </tr>\n",
       "    <tr>\n",
       "      <th>1</th>\n",
       "      <td>1770249a5a2e770ca90628434d4934b1</td>\n",
       "      <td>2024 Q3</td>\n",
       "      <td>0</td>\n",
       "      <td>offpeak</td>\n",
       "      <td>80-89 Coastal Express</td>\n",
       "      <td>109.58</td>\n",
       "      <td>2.09</td>\n",
       "      <td>0.09</td>\n",
       "      <td>155.14</td>\n",
       "      <td>644</td>\n",
       "    </tr>\n",
       "    <tr>\n",
       "      <th>2</th>\n",
       "      <td>1770249a5a2e770ca90628434d4934b1</td>\n",
       "      <td>2024 Q3</td>\n",
       "      <td>0</td>\n",
       "      <td>peak</td>\n",
       "      <td>80-89 Coastal Express</td>\n",
       "      <td>93.00</td>\n",
       "      <td>0.94</td>\n",
       "      <td>0.50</td>\n",
       "      <td>374.00</td>\n",
       "      <td>196</td>\n",
       "    </tr>\n",
       "    <tr>\n",
       "      <th>3</th>\n",
       "      <td>1770249a5a2e770ca90628434d4934b1</td>\n",
       "      <td>2024 Q3</td>\n",
       "      <td>1</td>\n",
       "      <td>all_day</td>\n",
       "      <td>80-89 Coastal Express</td>\n",
       "      <td>109.90</td>\n",
       "      <td>2.47</td>\n",
       "      <td>0.12</td>\n",
       "      <td>318.58</td>\n",
       "      <td>931</td>\n",
       "    </tr>\n",
       "    <tr>\n",
       "      <th>4</th>\n",
       "      <td>1770249a5a2e770ca90628434d4934b1</td>\n",
       "      <td>2024 Q3</td>\n",
       "      <td>1</td>\n",
       "      <td>offpeak</td>\n",
       "      <td>80-89 Coastal Express</td>\n",
       "      <td>89.00</td>\n",
       "      <td>8.14</td>\n",
       "      <td>0.06</td>\n",
       "      <td>86.00</td>\n",
       "      <td>98</td>\n",
       "    </tr>\n",
       "    <tr>\n",
       "      <th>5</th>\n",
       "      <td>1770249a5a2e770ca90628434d4934b1</td>\n",
       "      <td>2024 Q3</td>\n",
       "      <td>1</td>\n",
       "      <td>peak</td>\n",
       "      <td>80-89 Coastal Express</td>\n",
       "      <td>112.35</td>\n",
       "      <td>1.81</td>\n",
       "      <td>0.36</td>\n",
       "      <td>310.29</td>\n",
       "      <td>833</td>\n",
       "    </tr>\n",
       "    <tr>\n",
       "      <th>6</th>\n",
       "      <td>1770249a5a2e770ca90628434d4934b1</td>\n",
       "      <td>2024 Q4</td>\n",
       "      <td>0</td>\n",
       "      <td>all_day</td>\n",
       "      <td>80-89 Coastal Express</td>\n",
       "      <td>106.72</td>\n",
       "      <td>12.92</td>\n",
       "      <td>0.10</td>\n",
       "      <td>244.44</td>\n",
       "      <td>2646</td>\n",
       "    </tr>\n",
       "    <tr>\n",
       "      <th>7</th>\n",
       "      <td>1770249a5a2e770ca90628434d4934b1</td>\n",
       "      <td>2024 Q4</td>\n",
       "      <td>0</td>\n",
       "      <td>offpeak</td>\n",
       "      <td>80-89 Coastal Express</td>\n",
       "      <td>110.64</td>\n",
       "      <td>13.67</td>\n",
       "      <td>0.09</td>\n",
       "      <td>154.71</td>\n",
       "      <td>2058</td>\n",
       "    </tr>\n",
       "    <tr>\n",
       "      <th>8</th>\n",
       "      <td>1770249a5a2e770ca90628434d4934b1</td>\n",
       "      <td>2024 Q4</td>\n",
       "      <td>0</td>\n",
       "      <td>peak</td>\n",
       "      <td>80-89 Coastal Express</td>\n",
       "      <td>93.00</td>\n",
       "      <td>10.31</td>\n",
       "      <td>0.50</td>\n",
       "      <td>374.00</td>\n",
       "      <td>588</td>\n",
       "    </tr>\n",
       "    <tr>\n",
       "      <th>9</th>\n",
       "      <td>1770249a5a2e770ca90628434d4934b1</td>\n",
       "      <td>2024 Q4</td>\n",
       "      <td>1</td>\n",
       "      <td>all_day</td>\n",
       "      <td>80-89 Coastal Express</td>\n",
       "      <td>109.90</td>\n",
       "      <td>6.51</td>\n",
       "      <td>0.12</td>\n",
       "      <td>301.00</td>\n",
       "      <td>2793</td>\n",
       "    </tr>\n",
       "    <tr>\n",
       "      <th>10</th>\n",
       "      <td>1770249a5a2e770ca90628434d4934b1</td>\n",
       "      <td>2024 Q4</td>\n",
       "      <td>1</td>\n",
       "      <td>offpeak</td>\n",
       "      <td>80-89 Coastal Express</td>\n",
       "      <td>89.00</td>\n",
       "      <td>13.68</td>\n",
       "      <td>0.06</td>\n",
       "      <td>86.00</td>\n",
       "      <td>294</td>\n",
       "    </tr>\n",
       "    <tr>\n",
       "      <th>11</th>\n",
       "      <td>1770249a5a2e770ca90628434d4934b1</td>\n",
       "      <td>2024 Q4</td>\n",
       "      <td>1</td>\n",
       "      <td>peak</td>\n",
       "      <td>80-89 Coastal Express</td>\n",
       "      <td>112.35</td>\n",
       "      <td>5.67</td>\n",
       "      <td>0.36</td>\n",
       "      <td>290.65</td>\n",
       "      <td>2499</td>\n",
       "    </tr>\n",
       "  </tbody>\n",
       "</table>\n",
       "</div>"
      ],
      "text/plain": [
       "           schedule_gtfs_dataset_key year_quarter  direction_id time_period  \\\n",
       "0   1770249a5a2e770ca90628434d4934b1      2024 Q3             0     all_day   \n",
       "1   1770249a5a2e770ca90628434d4934b1      2024 Q3             0     offpeak   \n",
       "2   1770249a5a2e770ca90628434d4934b1      2024 Q3             0        peak   \n",
       "3   1770249a5a2e770ca90628434d4934b1      2024 Q3             1     all_day   \n",
       "4   1770249a5a2e770ca90628434d4934b1      2024 Q3             1     offpeak   \n",
       "5   1770249a5a2e770ca90628434d4934b1      2024 Q3             1        peak   \n",
       "6   1770249a5a2e770ca90628434d4934b1      2024 Q4             0     all_day   \n",
       "7   1770249a5a2e770ca90628434d4934b1      2024 Q4             0     offpeak   \n",
       "8   1770249a5a2e770ca90628434d4934b1      2024 Q4             0        peak   \n",
       "9   1770249a5a2e770ca90628434d4934b1      2024 Q4             1     all_day   \n",
       "10  1770249a5a2e770ca90628434d4934b1      2024 Q4             1     offpeak   \n",
       "11  1770249a5a2e770ca90628434d4934b1      2024 Q4             1        peak   \n",
       "\n",
       "     recent_combined_name  avg_scheduled_service_minutes  avg_stop_miles  \\\n",
       "0   80-89 Coastal Express                         105.71            1.82   \n",
       "1   80-89 Coastal Express                         109.58            2.09   \n",
       "2   80-89 Coastal Express                          93.00            0.94   \n",
       "3   80-89 Coastal Express                         109.90            2.47   \n",
       "4   80-89 Coastal Express                          89.00            8.14   \n",
       "5   80-89 Coastal Express                         112.35            1.81   \n",
       "6   80-89 Coastal Express                         106.72           12.92   \n",
       "7   80-89 Coastal Express                         110.64           13.67   \n",
       "8   80-89 Coastal Express                          93.00           10.31   \n",
       "9   80-89 Coastal Express                         109.90            6.51   \n",
       "10  80-89 Coastal Express                          89.00           13.68   \n",
       "11  80-89 Coastal Express                         112.35            5.67   \n",
       "\n",
       "    frequency  total_scheduled_service_minutes  n_scheduled_trips  \n",
       "0        0.10                           249.26                840  \n",
       "1        0.09                           155.14                644  \n",
       "2        0.50                           374.00                196  \n",
       "3        0.12                           318.58                931  \n",
       "4        0.06                            86.00                 98  \n",
       "5        0.36                           310.29                833  \n",
       "6        0.10                           244.44               2646  \n",
       "7        0.09                           154.71               2058  \n",
       "8        0.50                           374.00                588  \n",
       "9        0.12                           301.00               2793  \n",
       "10       0.06                            86.00                294  \n",
       "11       0.36                           290.65               2499  "
      ]
     },
     "execution_count": 15,
     "metadata": {},
     "output_type": "execute_result"
    }
   ],
   "source": [
    "schd_metrics.head(12)"
   ]
  },
  {
   "cell_type": "code",
   "execution_count": 16,
   "id": "a0c66bdf-97d3-428d-bf93-15a00f542dc9",
   "metadata": {
    "tags": []
   },
   "outputs": [],
   "source": [
    "# Calculate trips by timeliness which doesn't need weighted average\n",
    "timeliness_df = one_route[\n",
    "    quarterly_rollup.groupby_cols + quarterly_rollup.rt_metric_no_weighted_avg\n",
    "]\n",
    "timeliness_df2 = (\n",
    "    timeliness_df.groupby(quarterly_rollup.groupby_cols)\n",
    "    .agg({\"is_early\": \"sum\", \"is_ontime\": \"sum\", \"is_late\": \"sum\"})\n",
    "    .reset_index()\n",
    ")"
   ]
  },
  {
   "cell_type": "code",
   "execution_count": 17,
   "id": "da501569-07e4-4dcc-88b4-ce80d0fa09e7",
   "metadata": {
    "tags": []
   },
   "outputs": [
    {
     "data": {
      "text/html": [
       "<div>\n",
       "<style scoped>\n",
       "    .dataframe tbody tr th:only-of-type {\n",
       "        vertical-align: middle;\n",
       "    }\n",
       "\n",
       "    .dataframe tbody tr th {\n",
       "        vertical-align: top;\n",
       "    }\n",
       "\n",
       "    .dataframe thead th {\n",
       "        text-align: right;\n",
       "    }\n",
       "</style>\n",
       "<table border=\"1\" class=\"dataframe\">\n",
       "  <thead>\n",
       "    <tr style=\"text-align: right;\">\n",
       "      <th></th>\n",
       "      <th>schedule_gtfs_dataset_key</th>\n",
       "      <th>year_quarter</th>\n",
       "      <th>direction_id</th>\n",
       "      <th>time_period</th>\n",
       "      <th>recent_combined_name</th>\n",
       "      <th>is_early</th>\n",
       "      <th>is_ontime</th>\n",
       "      <th>is_late</th>\n",
       "    </tr>\n",
       "  </thead>\n",
       "  <tbody>\n",
       "    <tr>\n",
       "      <th>0</th>\n",
       "      <td>1770249a5a2e770ca90628434d4934b1</td>\n",
       "      <td>2024 Q3</td>\n",
       "      <td>0</td>\n",
       "      <td>all_day</td>\n",
       "      <td>80-89 Coastal Express</td>\n",
       "      <td>196</td>\n",
       "      <td>49</td>\n",
       "      <td>588</td>\n",
       "    </tr>\n",
       "    <tr>\n",
       "      <th>1</th>\n",
       "      <td>1770249a5a2e770ca90628434d4934b1</td>\n",
       "      <td>2024 Q3</td>\n",
       "      <td>0</td>\n",
       "      <td>offpeak</td>\n",
       "      <td>80-89 Coastal Express</td>\n",
       "      <td>196</td>\n",
       "      <td>49</td>\n",
       "      <td>392</td>\n",
       "    </tr>\n",
       "  </tbody>\n",
       "</table>\n",
       "</div>"
      ],
      "text/plain": [
       "          schedule_gtfs_dataset_key year_quarter  direction_id time_period  \\\n",
       "0  1770249a5a2e770ca90628434d4934b1      2024 Q3             0     all_day   \n",
       "1  1770249a5a2e770ca90628434d4934b1      2024 Q3             0     offpeak   \n",
       "\n",
       "    recent_combined_name  is_early  is_ontime  is_late  \n",
       "0  80-89 Coastal Express       196         49      588  \n",
       "1  80-89 Coastal Express       196         49      392  "
      ]
     },
     "execution_count": 17,
     "metadata": {},
     "output_type": "execute_result"
    }
   ],
   "source": [
    "timeliness_df2.head(2)"
   ]
  },
  {
   "cell_type": "code",
   "execution_count": 18,
   "id": "d182f34f-c6bf-4368-adc5-0f1d96672a6e",
   "metadata": {
    "tags": []
   },
   "outputs": [],
   "source": [
    "crosswalk = one_route[quarterly_rollup.groupby_cols + quarterly_rollup.crosswalk_cols]"
   ]
  },
  {
   "cell_type": "code",
   "execution_count": 19,
   "id": "141bc59b-d79b-4120-83a4-33e7d92a6406",
   "metadata": {
    "tags": []
   },
   "outputs": [],
   "source": [
    "m1 = (\n",
    "    pd.merge(rt_metrics, schd_metrics, on=quarterly_rollup.groupby_cols)\n",
    "    .merge(timeliness_df2, on=quarterly_rollup.groupby_cols)\n",
    "    .merge(crosswalk, on=quarterly_rollup.groupby_cols, how=\"inner\")\n",
    ")"
   ]
  },
  {
   "cell_type": "code",
   "execution_count": 20,
   "id": "ed6f36e9-f87c-402f-9f35-cb5f7d69ed39",
   "metadata": {
    "tags": []
   },
   "outputs": [
    {
     "data": {
      "text/plain": [
       "(24, 24, 24, 17661)"
      ]
     },
     "execution_count": 20,
     "metadata": {},
     "output_type": "execute_result"
    }
   ],
   "source": [
    "len(rt_metrics), len(schd_metrics), len(timeliness_df2), len(crosswalk)"
   ]
  },
  {
   "cell_type": "code",
   "execution_count": 21,
   "id": "dfcd4239-42b9-4e0e-9f15-5f5519bc7c79",
   "metadata": {
    "tags": []
   },
   "outputs": [
    {
     "data": {
      "text/plain": [
       "(17661, 44)"
      ]
     },
     "execution_count": 21,
     "metadata": {},
     "output_type": "execute_result"
    }
   ],
   "source": [
    "m1.shape"
   ]
  },
  {
   "cell_type": "code",
   "execution_count": 22,
   "id": "12d812f1-9380-40e6-a4c5-bd6c0701831e",
   "metadata": {
    "tags": []
   },
   "outputs": [],
   "source": [
    "DIGEST_RT_SCHED_QTR = \"digest/quarterly_schedule_vp_metrics\""
   ]
  },
  {
   "cell_type": "code",
   "execution_count": 23,
   "id": "5addb1ee-6c3b-4f2e-b0fd-147d19421a17",
   "metadata": {
    "tags": []
   },
   "outputs": [],
   "source": [
    "qtr_df_script = pd.read_parquet(f\"{RT_SCHED_GCS}{DIGEST_RT_SCHED_QTR}.parquet\")"
   ]
  },
  {
   "cell_type": "code",
   "execution_count": 24,
   "id": "1665ab45-d8db-42b9-a5fb-b707a465761c",
   "metadata": {
    "tags": []
   },
   "outputs": [
    {
     "data": {
      "text/plain": [
       "123619"
      ]
     },
     "execution_count": 24,
     "metadata": {},
     "output_type": "execute_result"
    }
   ],
   "source": [
    "len(qtr_df_script)"
   ]
  },
  {
   "cell_type": "code",
   "execution_count": 25,
   "id": "1fc87089-1615-4375-b9ed-0f3302fda27d",
   "metadata": {
    "tags": []
   },
   "outputs": [],
   "source": [
    "one_route = qtr_df_script.loc[\n",
    "    (qtr_df_script.portfolio_organization_name == portfolio_name)\n",
    "    & (qtr_df_script.recent_combined_name == \"80-89 Coastal Express\")\n",
    "]"
   ]
  },
  {
   "cell_type": "code",
   "execution_count": 26,
   "id": "adc39bd0-4cd1-4890-b3d5-f25290c441a5",
   "metadata": {
    "tags": []
   },
   "outputs": [
    {
     "data": {
      "text/plain": [
       "['year_quarter',\n",
       " 'schedule_gtfs_dataset_key',\n",
       " 'recent_route_id',\n",
       " 'direction_id',\n",
       " 'time_period']"
      ]
     },
     "execution_count": 26,
     "metadata": {},
     "output_type": "execute_result"
    }
   ],
   "source": [
    "quarterly_rollup.group_cols"
   ]
  },
  {
   "cell_type": "code",
   "execution_count": 27,
   "id": "e14bcd85-30fb-4dd0-bb02-8a9cb8432d29",
   "metadata": {
    "tags": []
   },
   "outputs": [
    {
     "data": {
      "text/plain": [
       "(164, 48)"
      ]
     },
     "execution_count": 27,
     "metadata": {},
     "output_type": "execute_result"
    }
   ],
   "source": [
    "one_route.shape"
   ]
  },
  {
   "cell_type": "code",
   "execution_count": 37,
   "id": "3853a98a-1461-4554-8648-d9c1454f0961",
   "metadata": {
    "tags": []
   },
   "outputs": [
    {
     "data": {
      "text/plain": [
       "24"
      ]
     },
     "execution_count": 37,
     "metadata": {},
     "output_type": "execute_result"
    }
   ],
   "source": [
    "len(one_route.drop_duplicates(subset=quarterly_rollup.groupby_cols))"
   ]
  },
  {
   "cell_type": "code",
   "execution_count": 29,
   "id": "d894b2e9-c3ec-4cbf-9e6a-a2578a1a2af5",
   "metadata": {
    "tags": []
   },
   "outputs": [
    {
     "data": {
      "text/plain": [
       "164"
      ]
     },
     "execution_count": 29,
     "metadata": {},
     "output_type": "execute_result"
    }
   ],
   "source": [
    "len(one_route.drop_duplicates(subset=quarterly_rollup.group_cols))"
   ]
  },
  {
   "cell_type": "code",
   "execution_count": 30,
   "id": "b03b3781-dd58-48b5-a70e-ea9b4bb55f38",
   "metadata": {
    "tags": []
   },
   "outputs": [],
   "source": [
    "DIGEST_RT_SCHED_QTR = \"digest/quarterly_schedule_vp_metrics\""
   ]
  },
  {
   "cell_type": "code",
   "execution_count": 38,
   "id": "79887251-405d-4bf3-91c8-4c80fabe0360",
   "metadata": {},
   "outputs": [],
   "source": [
    "qtr_df = pd.read_parquet(f\"{RT_SCHED_GCS}{DIGEST_RT_SCHED_QTR}.parquet\")"
   ]
  },
  {
   "cell_type": "code",
   "execution_count": 41,
   "id": "1e9908e6-b774-4f07-a0b6-0a21b26d6cb2",
   "metadata": {
    "tags": []
   },
   "outputs": [
    {
     "data": {
      "text/plain": [
       "Index(['schedule_gtfs_dataset_key', 'route_id', 'direction_id', 'time_period',\n",
       "       'avg_scheduled_service_minutes', 'avg_stop_miles', 'n_scheduled_trips',\n",
       "       'frequency', 'is_express', 'is_ferry', 'is_rail', 'is_coverage',\n",
       "       'is_local', 'is_downtown_local', 'is_rapid', 'typology', 'name',\n",
       "       'combined_name', 'recent_combined_name', 'recent_route_id',\n",
       "       'route_primary_direction', 'minutes_atleast1_vp', 'minutes_atleast2_vp',\n",
       "       'total_rt_service_minutes', 'total_scheduled_service_minutes',\n",
       "       'total_vp', 'vp_in_shape', 'is_early', 'is_ontime', 'is_late',\n",
       "       'n_vp_trips', 'vp_per_minute', 'pct_in_shape',\n",
       "       'pct_rt_journey_atleast1_vp', 'pct_rt_journey_atleast2_vp',\n",
       "       'pct_sched_journey_atleast1_vp', 'pct_sched_journey_atleast2_vp',\n",
       "       'rt_sched_journey_ratio', 'avg_rt_service_minutes', 'sched_rt_category',\n",
       "       'speed_mph', 'schedule_source_record_id', 'base64_url',\n",
       "       'organization_source_record_id', 'organization_name',\n",
       "       'caltrans_district', 'portfolio_organization_name', 'year_quarter'],\n",
       "      dtype='object')"
      ]
     },
     "execution_count": 41,
     "metadata": {},
     "output_type": "execute_result"
    }
   ],
   "source": [
    "qtr_df.columns"
   ]
  },
  {
   "cell_type": "code",
   "execution_count": 42,
   "id": "28dafcf8-ad14-485a-b210-4f7638e16714",
   "metadata": {
    "tags": []
   },
   "outputs": [],
   "source": [
    "qtr_df = qtr_df.loc[\n",
    "    (qtr_df[\"portfolio_organization_name\"] == portfolio_name)\n",
    "    & (qtr_df[\"recent_combined_name\"] == \"80-89 Coastal Express\")\n",
    "]"
   ]
  },
  {
   "cell_type": "code",
   "execution_count": 43,
   "id": "ea2c224f-b2f4-4c20-9395-2800513d76c7",
   "metadata": {
    "tags": []
   },
   "outputs": [
    {
     "data": {
      "text/plain": [
       "2024 Q3    6\n",
       "2024 Q4    6\n",
       "2025 Q1    6\n",
       "2025 Q2    6\n",
       "Name: year_quarter, dtype: int64"
      ]
     },
     "execution_count": 43,
     "metadata": {},
     "output_type": "execute_result"
    }
   ],
   "source": [
    "qtr_df.year_quarter.value_counts()"
   ]
  },
  {
   "cell_type": "code",
   "execution_count": 35,
   "id": "b2322d59-b290-4821-8126-2e0531df604d",
   "metadata": {
    "tags": []
   },
   "outputs": [
    {
     "data": {
      "text/plain": [
       "24"
      ]
     },
     "execution_count": 35,
     "metadata": {},
     "output_type": "execute_result"
    }
   ],
   "source": [
    "len(qtr_df.drop_duplicates())"
   ]
  },
  {
   "cell_type": "code",
   "execution_count": 44,
   "id": "2c0c4bbd-8419-42ed-9b92-7cbfe9d4e50a",
   "metadata": {
    "tags": []
   },
   "outputs": [],
   "source": [
    "ROUTE_DIR_QTR_EXPORT = \"digest/quarterly_schedule_vp_metrics_report\""
   ]
  },
  {
   "cell_type": "code",
   "execution_count": 45,
   "id": "33e88840-2199-447a-baf4-121ed06d8f8c",
   "metadata": {
    "tags": []
   },
   "outputs": [],
   "source": [
    "qtr_report = pd.read_parquet(f\"{RT_SCHED_GCS}{ROUTE_DIR_QTR_EXPORT}.parquet\")"
   ]
  },
  {
   "cell_type": "code",
   "execution_count": 46,
   "id": "a23dfabf-878c-4183-8cec-4d8b3f5def44",
   "metadata": {
    "tags": []
   },
   "outputs": [
    {
     "data": {
      "text/plain": [
       "Index(['Direction (0/1)', 'Period', 'Average Scheduled Service (trip minutes)',\n",
       "       '# Scheduled Trips', '# Realtime Trips', 'Route', 'Direction',\n",
       "       '# Minutes with 1+ VP per Minute', '# Minutes with 2+ VP per Minute',\n",
       "       '# Early Arrival Trips', '# On-Time Trips', '# Late Trips',\n",
       "       'Average VP per Minute', '% VP within Scheduled Shape',\n",
       "       '% Scheduled Trip w/ 1+ VP/Minute', '% Scheduled Trip w/ 2+ VP/Minute',\n",
       "       'Realtime versus Scheduled Service Ratio', 'Speed (MPH)',\n",
       "       'Portfolio Organization Name', 'Headway (Minutes)', 'GTFS Availability',\n",
       "       'Average Stop Distance (Miles)', 'Quarter'],\n",
       "      dtype='object')"
      ]
     },
     "execution_count": 46,
     "metadata": {},
     "output_type": "execute_result"
    }
   ],
   "source": [
    "qtr_report.columns"
   ]
  },
  {
   "cell_type": "code",
   "execution_count": 47,
   "id": "79fdfd00-5a1f-487a-bcc3-dcc8cd6cc107",
   "metadata": {
    "tags": []
   },
   "outputs": [],
   "source": [
    "qtr_report = qtr_report.loc[\n",
    "    (qtr_report[\"Portfolio Organization Name\"] == portfolio_name)\n",
    "    & (qtr_report[\"Route\"] == \"80-89 Coastal Express\")\n",
    "]"
   ]
  },
  {
   "cell_type": "code",
   "execution_count": 49,
   "id": "41fcb179-d468-4d5a-8c1b-e8ebd5beb83c",
   "metadata": {
    "tags": []
   },
   "outputs": [
    {
     "data": {
      "text/plain": [
       "2024 Q3    6\n",
       "2024 Q4    6\n",
       "2025 Q1    6\n",
       "2025 Q2    6\n",
       "Name: Quarter, dtype: int64"
      ]
     },
     "execution_count": 49,
     "metadata": {},
     "output_type": "execute_result"
    }
   ],
   "source": [
    "qtr_report.Quarter.value_counts()"
   ]
  }
 ],
 "metadata": {
  "kernelspec": {
   "display_name": "Python 3 (ipykernel)",
   "language": "python",
   "name": "python3"
  },
  "language_info": {
   "codemirror_mode": {
    "name": "ipython",
    "version": 3
   },
   "file_extension": ".py",
   "mimetype": "text/x-python",
   "name": "python",
   "nbconvert_exporter": "python",
   "pygments_lexer": "ipython3",
   "version": "3.11.10"
  }
 },
 "nbformat": 4,
 "nbformat_minor": 5
}
