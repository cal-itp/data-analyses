{
 "cells": [
  {
   "cell_type": "markdown",
   "id": "55b875fc-62c0-43f1-8807-85153c7d0300",
   "metadata": {},
   "source": [
    "# Quarterly Roll Up \n",
    "* 6/9: Something is wrong with it, there are multiple rows repeated for the same quarter when there should only be one row for one quarter for one route. \n",
    "[Issue](https://github.com/cal-itp/data-analyses/issues/1416)"
   ]
  },
  {
   "cell_type": "code",
   "execution_count": 1,
   "id": "a0b9cf15-f2fd-41a7-80dd-5ecd8d7cb699",
   "metadata": {
    "tags": []
   },
   "outputs": [],
   "source": [
    "import _report_route_dir_visuals\n",
    "import _route_dir_data_prep\n",
    "import altair as alt\n",
    "import calitp_data_analysis.magics\n",
    "import deploy_portfolio_yaml\n",
    "import pandas as pd\n",
    "import quarterly_rollup\n",
    "import yaml\n",
    "from IPython.display import HTML, Image, Markdown, display, display_html\n",
    "from segment_speed_utils import (\n",
    "    gtfs_schedule_wrangling,\n",
    "    metrics,\n",
    "    project_vars,\n",
    "    segment_calcs,\n",
    "    time_series_utils,\n",
    ")\n",
    "from shared_utils import (\n",
    "    catalog_utils,\n",
    "    gtfs_utils_v2,\n",
    "    portfolio_utils,\n",
    "    publish_utils,\n",
    "    rt_dates,\n",
    "    rt_utils,\n",
    "    time_helpers,\n",
    ")\n",
    "from update_vars import GTFS_DATA_DICT, RT_SCHED_GCS, SCHED_GCS, SEGMENT_GCS"
   ]
  },
  {
   "cell_type": "code",
   "execution_count": 2,
   "id": "f0206287-c428-4b15-8fdb-418b4601d8e1",
   "metadata": {},
   "outputs": [],
   "source": [
    "pd.options.display.max_columns = 100\n",
    "pd.options.display.float_format = \"{:.2f}\".format\n",
    "pd.set_option(\"display.max_rows\", None)\n",
    "pd.set_option(\"display.max_colwidth\", None)"
   ]
  },
  {
   "cell_type": "code",
   "execution_count": 3,
   "id": "17d149fd-b0d3-4ca4-b6b9-f10fbce7d65d",
   "metadata": {
    "tags": []
   },
   "outputs": [],
   "source": [
    "from omegaconf import OmegaConf\n",
    "\n",
    "readable_dict = OmegaConf.load(\"readable2.yml\")"
   ]
  },
  {
   "cell_type": "code",
   "execution_count": 4,
   "id": "24533e38-e604-4e2d-a152-8162fff71738",
   "metadata": {
    "tags": []
   },
   "outputs": [],
   "source": [
    "analysis_date_list = rt_dates.y2025_dates"
   ]
  },
  {
   "cell_type": "code",
   "execution_count": 5,
   "id": "1edb5621-6769-462b-add7-54c2af36da17",
   "metadata": {
    "tags": []
   },
   "outputs": [],
   "source": [
    "#  portfolio_name = \"City and County of San Francisco\"\n",
    "portfolio_name = \"Ventura County (VCTC, Gold Coast, Cities of Camarillo, Moorpark, Ojai, Simi Valley, Thousand Oaks)\""
   ]
  },
  {
   "cell_type": "code",
   "execution_count": 6,
   "id": "c72476fa-8c89-4463-8f3a-e277c163d427",
   "metadata": {
    "tags": []
   },
   "outputs": [],
   "source": [
    "# Read in og df\n",
    "DIGEST_RT_SCHED_MONTH = GTFS_DATA_DICT.digest_tables.monthly_route_schedule_vp"
   ]
  },
  {
   "cell_type": "code",
   "execution_count": 7,
   "id": "821483a7-4821-43df-9303-befe9eaae341",
   "metadata": {
    "tags": []
   },
   "outputs": [],
   "source": [
    "monthly_df = pd.read_parquet(f\"{RT_SCHED_GCS}{DIGEST_RT_SCHED_MONTH}.parquet\")"
   ]
  },
  {
   "cell_type": "code",
   "execution_count": 8,
   "id": "06f8f810-67bb-4e7b-b8ee-53a2cd5a3a3f",
   "metadata": {
    "tags": []
   },
   "outputs": [],
   "source": [
    "one_route = monthly_df.loc[\n",
    "    (monthly_df.portfolio_organization_name == portfolio_name)\n",
    "    & (monthly_df.recent_combined_name == \"80-89 Coastal Express\")\n",
    "]"
   ]
  },
  {
   "cell_type": "code",
   "execution_count": 9,
   "id": "7bbe7428-9007-45a3-bf46-c96f1fe06f0b",
   "metadata": {
    "tags": []
   },
   "outputs": [
    {
     "data": {
      "text/html": [
       "<div>\n",
       "<style scoped>\n",
       "    .dataframe tbody tr th:only-of-type {\n",
       "        vertical-align: middle;\n",
       "    }\n",
       "\n",
       "    .dataframe tbody tr th {\n",
       "        vertical-align: top;\n",
       "    }\n",
       "\n",
       "    .dataframe thead th {\n",
       "        text-align: right;\n",
       "    }\n",
       "</style>\n",
       "<table border=\"1\" class=\"dataframe\">\n",
       "  <thead>\n",
       "    <tr style=\"text-align: right;\">\n",
       "      <th></th>\n",
       "      <th>recent_route_id</th>\n",
       "      <th>recent_combined_name</th>\n",
       "      <th>combined_name</th>\n",
       "    </tr>\n",
       "  </thead>\n",
       "  <tbody>\n",
       "    <tr>\n",
       "      <th>222269</th>\n",
       "      <td>4134</td>\n",
       "      <td>80-89 Coastal Express</td>\n",
       "      <td>80__80-89 Coastal Express</td>\n",
       "    </tr>\n",
       "    <tr>\n",
       "      <th>223550</th>\n",
       "      <td>4136</td>\n",
       "      <td>80-89 Coastal Express</td>\n",
       "      <td>80X__80-89 Coastal Express</td>\n",
       "    </tr>\n",
       "    <tr>\n",
       "      <th>224432</th>\n",
       "      <td>4137</td>\n",
       "      <td>80-89 Coastal Express</td>\n",
       "      <td>81__80-89 Coastal Express</td>\n",
       "    </tr>\n",
       "    <tr>\n",
       "      <th>225314</th>\n",
       "      <td>4138</td>\n",
       "      <td>80-89 Coastal Express</td>\n",
       "      <td>81B__80-89 Coastal Express</td>\n",
       "    </tr>\n",
       "    <tr>\n",
       "      <th>226196</th>\n",
       "      <td>4141</td>\n",
       "      <td>80-89 Coastal Express</td>\n",
       "      <td>84__80-89 Coastal Express</td>\n",
       "    </tr>\n",
       "    <tr>\n",
       "      <th>226994</th>\n",
       "      <td>4142</td>\n",
       "      <td>80-89 Coastal Express</td>\n",
       "      <td>84U__80-89 Coastal Express</td>\n",
       "    </tr>\n",
       "    <tr>\n",
       "      <th>227876</th>\n",
       "      <td>4143</td>\n",
       "      <td>80-89 Coastal Express</td>\n",
       "      <td>85__80-89 Coastal Express</td>\n",
       "    </tr>\n",
       "    <tr>\n",
       "      <th>228674</th>\n",
       "      <td>4144</td>\n",
       "      <td>80-89 Coastal Express</td>\n",
       "      <td>85C__80-89 Coastal Express</td>\n",
       "    </tr>\n",
       "    <tr>\n",
       "      <th>229556</th>\n",
       "      <td>4145</td>\n",
       "      <td>80-89 Coastal Express</td>\n",
       "      <td>86__80-89 Coastal Express</td>\n",
       "    </tr>\n",
       "    <tr>\n",
       "      <th>230438</th>\n",
       "      <td>4146</td>\n",
       "      <td>80-89 Coastal Express</td>\n",
       "      <td>87__80-89 Coastal Express</td>\n",
       "    </tr>\n",
       "    <tr>\n",
       "      <th>231320</th>\n",
       "      <td>4147</td>\n",
       "      <td>80-89 Coastal Express</td>\n",
       "      <td>88__80-89 Coastal Express</td>\n",
       "    </tr>\n",
       "    <tr>\n",
       "      <th>241996</th>\n",
       "      <td>4148</td>\n",
       "      <td>80-89 Coastal Express</td>\n",
       "      <td>89__80-89 Coastal Express</td>\n",
       "    </tr>\n",
       "  </tbody>\n",
       "</table>\n",
       "</div>"
      ],
      "text/plain": [
       "       recent_route_id   recent_combined_name               combined_name\n",
       "222269            4134  80-89 Coastal Express   80__80-89 Coastal Express\n",
       "223550            4136  80-89 Coastal Express  80X__80-89 Coastal Express\n",
       "224432            4137  80-89 Coastal Express   81__80-89 Coastal Express\n",
       "225314            4138  80-89 Coastal Express  81B__80-89 Coastal Express\n",
       "226196            4141  80-89 Coastal Express   84__80-89 Coastal Express\n",
       "226994            4142  80-89 Coastal Express  84U__80-89 Coastal Express\n",
       "227876            4143  80-89 Coastal Express   85__80-89 Coastal Express\n",
       "228674            4144  80-89 Coastal Express  85C__80-89 Coastal Express\n",
       "229556            4145  80-89 Coastal Express   86__80-89 Coastal Express\n",
       "230438            4146  80-89 Coastal Express   87__80-89 Coastal Express\n",
       "231320            4147  80-89 Coastal Express   88__80-89 Coastal Express\n",
       "241996            4148  80-89 Coastal Express   89__80-89 Coastal Express"
      ]
     },
     "execution_count": 9,
     "metadata": {},
     "output_type": "execute_result"
    }
   ],
   "source": [
    "one_route[\n",
    "    [\"recent_route_id\", \"recent_combined_name\", \"combined_name\"]\n",
    "].drop_duplicates()"
   ]
  },
  {
   "cell_type": "code",
   "execution_count": 11,
   "id": "93cf9c3a-3767-42f3-bf3b-20d56f3d703e",
   "metadata": {
    "tags": []
   },
   "outputs": [],
   "source": [
    "DIGEST_RT_SCHED_QTR = \"digest/quarterly_schedule_vp_metrics\""
   ]
  },
  {
   "cell_type": "code",
   "execution_count": 12,
   "id": "5addb1ee-6c3b-4f2e-b0fd-147d19421a17",
   "metadata": {
    "tags": []
   },
   "outputs": [],
   "source": [
    "qtr_df_script = pd.read_parquet(f\"{RT_SCHED_GCS}{DIGEST_RT_SCHED_QTR}.parquet\")"
   ]
  },
  {
   "cell_type": "code",
   "execution_count": 15,
   "id": "28dafcf8-ad14-485a-b210-4f7638e16714",
   "metadata": {
    "tags": []
   },
   "outputs": [],
   "source": [
    "one_route_qtr_df = qtr_df_script.loc[\n",
    "    (qtr_df_script[\"portfolio_organization_name\"] == portfolio_name)\n",
    "    & (qtr_df_script[\"recent_combined_name\"] == \"80-89 Coastal Express\")\n",
    "]"
   ]
  },
  {
   "cell_type": "code",
   "execution_count": 18,
   "id": "0c1fa32e-3f4e-484a-9284-2bb5d8d7c75a",
   "metadata": {
    "tags": []
   },
   "outputs": [
    {
     "data": {
      "text/html": [
       "<div>\n",
       "<style scoped>\n",
       "    .dataframe tbody tr th:only-of-type {\n",
       "        vertical-align: middle;\n",
       "    }\n",
       "\n",
       "    .dataframe tbody tr th {\n",
       "        vertical-align: top;\n",
       "    }\n",
       "\n",
       "    .dataframe thead th {\n",
       "        text-align: right;\n",
       "    }\n",
       "</style>\n",
       "<table border=\"1\" class=\"dataframe\">\n",
       "  <thead>\n",
       "    <tr style=\"text-align: right;\">\n",
       "      <th></th>\n",
       "      <th>pct_rt_journey_atleast1_vp</th>\n",
       "      <th>pct_rt_journey_atleast2_vp</th>\n",
       "    </tr>\n",
       "  </thead>\n",
       "  <tbody>\n",
       "    <tr>\n",
       "      <th>11561</th>\n",
       "      <td>0.51</td>\n",
       "      <td>0.50</td>\n",
       "    </tr>\n",
       "    <tr>\n",
       "      <th>11687</th>\n",
       "      <td>0.66</td>\n",
       "      <td>0.66</td>\n",
       "    </tr>\n",
       "  </tbody>\n",
       "</table>\n",
       "</div>"
      ],
      "text/plain": [
       "       pct_rt_journey_atleast1_vp  pct_rt_journey_atleast2_vp\n",
       "11561                        0.51                        0.50\n",
       "11687                        0.66                        0.66"
      ]
     },
     "execution_count": 18,
     "metadata": {},
     "output_type": "execute_result"
    }
   ],
   "source": [
    "one_route_qtr_df.loc[(one_route_qtr_df.time_period == \"all_day\") & (one_route_qtr_df.year_quarter == \"2025 Q1\")][[\"pct_rt_journey_atleast1_vp\", \"pct_rt_journey_atleast2_vp\"]]"
   ]
  },
  {
   "cell_type": "code",
   "execution_count": null,
   "id": "6a949955-c647-421b-8062-3d318e5b1c53",
   "metadata": {},
   "outputs": [],
   "source": []
  }
 ],
 "metadata": {
  "kernelspec": {
   "display_name": "Python 3 (ipykernel)",
   "language": "python",
   "name": "python3"
  },
  "language_info": {
   "codemirror_mode": {
    "name": "ipython",
    "version": 3
   },
   "file_extension": ".py",
   "mimetype": "text/x-python",
   "name": "python",
   "nbconvert_exporter": "python",
   "pygments_lexer": "ipython3",
   "version": "3.11.10"
  }
 },
 "nbformat": 4,
 "nbformat_minor": 5
}
