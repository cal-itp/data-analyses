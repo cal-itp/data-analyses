{
 "cells": [
  {
   "cell_type": "code",
   "execution_count": null,
   "id": "936e2c22-24ba-4f20-99d8-846cfe0a4e27",
   "metadata": {},
   "outputs": [],
   "source": [
    "%%capture\n",
    "\n",
    "import warnings\n",
    "\n",
    "warnings.filterwarnings(\"ignore\")\n",
    "\n",
    "import _section1_utils as section1\n",
    "import _section2_utils as section2\n",
    "import altair as alt\n",
    "import calitp_data_analysis.magics\n",
    "import great_tables as gtmost_recent_date\n",
    "import pandas as pd\n",
    "import yaml\n",
    "from IPython.display import HTML, Image, Markdown, display, display_html\n",
    "from shared_utils import catalog_utils, rt_dates, rt_utils\n",
    "\n",
    "with open(\"readable.yml\") as f:\n",
    "    readable_dict = yaml.safe_load(f)"
   ]
  },
  {
   "cell_type": "code",
   "execution_count": null,
   "id": "b89867bd-a089-4033-97d7-d6d1ae50b697",
   "metadata": {},
   "outputs": [],
   "source": [
    "pd.options.display.max_columns = 100\n",
    "pd.options.display.float_format = \"{:.2f}\".format\n",
    "pd.set_option(\"display.max_rows\", None)\n",
    "pd.set_option(\"display.max_colwidth\", None)"
   ]
  },
  {
   "cell_type": "code",
   "execution_count": null,
   "id": "6bd20d9d-a3af-430e-8c19-c90fb8ef9e62",
   "metadata": {
    "tags": [
     "parameters"
    ]
   },
   "outputs": [],
   "source": [
    "# Comment out and leave this cell right below pandas\n",
    "# organization_name = \"Marin County Transit District\""
   ]
  },
  {
   "cell_type": "code",
   "execution_count": null,
   "id": "d870c492-ef2c-45f6-ab47-8d46eda7f344",
   "metadata": {
    "tags": []
   },
   "outputs": [],
   "source": [
    "%%capture_parameters\n",
    "organization_name"
   ]
  },
  {
   "cell_type": "markdown",
   "id": "b044a557-679d-4a37-a74a-87ce041e09d4",
   "metadata": {},
   "source": [
    "# {organization_name}"
   ]
  },
  {
   "cell_type": "code",
   "execution_count": null,
   "id": "8e840f91-2e1a-4235-bf6b-0c049a569b4a",
   "metadata": {},
   "outputs": [],
   "source": [
    "# Need to load \"name\" using this function rather than taking it from\n",
    "# operator profiles above because it differs.\n",
    "name = section1.organization_name_crosswalk(organization_name)"
   ]
  },
  {
   "cell_type": "code",
   "execution_count": null,
   "id": "5d7299ad-0446-4a42-9652-a44617e4d2e7",
   "metadata": {},
   "outputs": [],
   "source": [
    "GTFS_DATA_DICT = catalog_utils.get_catalog(\"gtfs_analytics_data\")"
   ]
  },
  {
   "cell_type": "code",
   "execution_count": null,
   "id": "517702ae-a7ac-4cc4-a2d4-158fdc8d6919",
   "metadata": {},
   "outputs": [],
   "source": [
    "\n",
    "operator_route_map = section1.load_operator_map(name)\n",
    "operator_profiles = section1.load_operator_ntd_profile(organization_name)\n",
    "scheduled_service = section1.load_operator_service_hours(name)"
   ]
  },
  {
   "cell_type": "code",
   "execution_count": null,
   "id": "f07ccefc-0d71-4ad0-8435-9e2941aba9b2",
   "metadata": {},
   "outputs": [],
   "source": [
    "# Dataset for Section 2: because not every operator has realtime data,\n",
    "# we need a try-except clause. \n",
    "try:\n",
    "    sched_vp_df = section2.load_schedule_vp_metrics(organization_name)\n",
    "except:\n",
    "    pass"
   ]
  },
  {
   "cell_type": "code",
   "execution_count": null,
   "id": "67a74771-f5c1-4757-9f79-bc5e87fba09e",
   "metadata": {},
   "outputs": [],
   "source": [
    "# Set drop down menu to be on the upper right\n",
    "display(\n",
    "    HTML(\n",
    "        \"\"\"\n",
    "<style>\n",
    "form.vega-bindings {\n",
    "  position: absolute;\n",
    "  right: 0px;\n",
    "  top: 0px;\n",
    "}\n",
    "</style>\n",
    "\"\"\"\n",
    "    )\n",
    ")"
   ]
  },
  {
   "cell_type": "markdown",
   "id": "d6622fa5-454e-4dde-9edf-fe6c2032e0b9",
   "metadata": {},
   "source": [
    "## Operator Overview"
   ]
  },
  {
   "cell_type": "code",
   "execution_count": null,
   "id": "fbd7862d-70ff-414f-a517-0a428e238a7d",
   "metadata": {},
   "outputs": [],
   "source": [
    "try:\n",
    "    date = operator_profiles[\"Date\"].dt.to_pydatetime()[0]\n",
    "except:\n",
    "    pass"
   ]
  },
  {
   "cell_type": "code",
   "execution_count": null,
   "id": "e9fd98c7-05d0-4ee8-bc8b-8e669be024f8",
   "metadata": {},
   "outputs": [],
   "source": [
    "try:\n",
    "    service_area = int(operator_profiles.service_area_sq_miles.values[0])\n",
    "    service_area = \"{:,}\".format(service_area)\n",
    "    service_pop = int(operator_profiles.service_area_pop.values[0])\n",
    "    service_pop = \"{:,}\".format(service_pop)\n",
    "    display(\n",
    "        Markdown(\n",
    "            f\"\"\"{organization_name} is headquartered in <b>{operator_profiles.hq_city.values[0]}</b> in the Urbanized Area of <b>{operator_profiles.uza_name.values[0]}</b>.<br>\n",
    "            This operator provides <b>{service_area}</b> square miles of public transit service, which has a service population of <b>{service_pop}</b>.<br>\n",
    "            This organization is a {operator_profiles.organization_type.values[0]}.<br>\n",
    "            <b>Data Source</b>: <a href=\"https://www.transit.dot.gov/ntd/data-product/2022-annual-database-agency-information\">National Transit Database</a> Annual Agency Information.\n",
    "            \"\"\"\n",
    "        )\n",
    "    )\n",
    "except:\n",
    "    pass"
   ]
  },
  {
   "cell_type": "markdown",
   "id": "6aa63325-f133-4afd-a34e-b5b0829be2a6",
   "metadata": {},
   "source": [
    "### Route Typologies"
   ]
  },
  {
   "cell_type": "code",
   "execution_count": null,
   "id": "9a6612ad-0412-439d-b095-951d8939bff1",
   "metadata": {},
   "outputs": [],
   "source": [
    "try:\n",
    "    display(\n",
    "        Markdown(\n",
    "            f\"\"\"The following data presents an overview of GTFS characteristics using data from the most recent date of\n",
    "      <b>{date.strftime(\"%B\")} {date.year}</b>.\"\"\"\n",
    "        )\n",
    "    )\n",
    "except:\n",
    "    pass"
   ]
  },
  {
   "cell_type": "code",
   "execution_count": null,
   "id": "acd10bcd-3ef5-48fb-b40e-9808a68e4906",
   "metadata": {},
   "outputs": [],
   "source": [
    "try:\n",
    "    n_routes = operator_profiles[\"# Routes\"].values[0]\n",
    "    n_routes = \"{:,}\".format(n_routes)\n",
    "    display(\n",
    "        Markdown(\n",
    "            f\"\"\"{organization_name} runs <b>{n_routes}</b> unique routes. Below is the breakdown of the routes and routes can belong to one or more categories.<p>\n",
    "            Route categories are determined using a approach that looks at GTFS trips data\n",
    "        alongside National Association of City Transportation Officials (NACTO)'s\n",
    "        <a href=\"https://nacto.org/publication/transit-street-design-guide/introduction/service-context/transit-route-types/\">Transit Route Types</a> \n",
    "        and <a href= \"https://nacto.org/publication/transit-street-design-guide/introduction/service-context/transit-frequency-volume/\">Frequency and Volume</a>\n",
    "        guides. Please see the <a href=\"https://github.com/cal-itp/data-analyses/blob/main/gtfs_digest/methodology.md\">methodology docs</a> for more details on this approach.\n",
    "        \"\"\"\n",
    "        )\n",
    "    )\n",
    "except:\n",
    "    display(Markdown(f\"\"\"{organization_name} doesn't have an operator profile.\"\"\"))"
   ]
  },
  {
   "cell_type": "code",
   "execution_count": null,
   "id": "39e8284d-7e38-42dd-9405-d9732cb2ba02",
   "metadata": {},
   "outputs": [],
   "source": [
    "try:\n",
    "    route_typology_df = section1.route_typology(operator_profiles)\n",
    "    display(\n",
    "        section1.basic_pie_chart(\n",
    "            route_typology_df,\n",
    "            \"route_type\",\n",
    "            \"total_routes\",\n",
    "            readable_dict[\"route_typology\"][\"title\"],\n",
    "            readable_dict[\"route_typology\"][\"subtitle\"],\n",
    "        )\n",
    "    )\n",
    "\n",
    "except:\n",
    "    display(\n",
    "        Markdown(f\"\"\"{organization_name} doesn't have route typology data available.\"\"\")\n",
    "    )"
   ]
  },
  {
   "cell_type": "markdown",
   "id": "06d86f08-8dd9-44ea-8f1f-5a4efc3f8665",
   "metadata": {},
   "source": [
    "### Service Area"
   ]
  },
  {
   "cell_type": "code",
   "execution_count": null,
   "id": "3a0d1ad3-0ce7-442f-a948-e71eac805203",
   "metadata": {},
   "outputs": [],
   "source": [
    "try:\n",
    "    n_service_miles = int(operator_profiles[\"Operator Service Miles\"].values[0])\n",
    "    n_service_miles = \"{:,}\".format(n_service_miles)\n",
    "\n",
    "    avg_service_miles = int(operator_route_map[\"Service Miles\"].mean())\n",
    "    avg_service_miles = \"{:,}\".format(avg_service_miles)\n",
    "    display(\n",
    "        Markdown(\n",
    "            f\"\"\"{organization_name} provides <b>{n_service_miles}</b> miles of public transit.\n",
    "        The average length of a route is <b>{avg_service_miles}</b> miles.\n",
    "        \"\"\"\n",
    "        )\n",
    "    )\n",
    "except:\n",
    "    pass"
   ]
  },
  {
   "cell_type": "code",
   "execution_count": null,
   "id": "7a4f3ba9-dc53-4efc-95bf-2c2ed53dee13",
   "metadata": {},
   "outputs": [],
   "source": [
    "try:\n",
    "    longest_shortest_df = section1.shortest_longest_route(operator_route_map)\n",
    "    display(\n",
    "        section1.basic_bar_chart(\n",
    "            longest_shortest_df,\n",
    "            \"Service Miles\",\n",
    "            \"Route\",\n",
    "            readable_dict[\"longest_shortest_route\"][\"title\"],\n",
    "            readable_dict[\"longest_shortest_route\"][\"subtitle\"],\n",
    "        )\n",
    "    )\n",
    "except:\n",
    "    pass"
   ]
  },
  {
   "cell_type": "code",
   "execution_count": null,
   "id": "8e891171-b72a-417f-9973-37cfb345c7e2",
   "metadata": {},
   "outputs": [],
   "source": [
    "try:\n",
    "    n_stops = int(operator_profiles[\"# Stops\"].values[0])\n",
    "    n_stops = \"{:,}\".format(n_stops)\n",
    "\n",
    "    n_arrivals = int(operator_profiles[\"# Arrivals\"].values[0])\n",
    "    n_arrivals = \"{:,}\".format(n_arrivals)\n",
    "\n",
    "    mean_arrivals = int(operator_profiles[\"Avg Arrivals per Stop\"].values[0])\n",
    "    mean_arrivals = \"{:,}\".format(mean_arrivals)\n",
    "    display(\n",
    "        Markdown(\n",
    "            f\"\"\"{organization_name} stops at <b>{n_stops}</b> unique stops, \n",
    "            totaling to <b>{n_arrivals}</b> arrivals. The average arrivals per stop \n",
    "            is <b>{mean_arrivals}</b>.\n",
    "        \"\"\"\n",
    "        )\n",
    "    )\n",
    "except:\n",
    "    pass"
   ]
  },
  {
   "cell_type": "code",
   "execution_count": null,
   "id": "20bd2c43-011a-4489-b8bb-4a002b6c882c",
   "metadata": {},
   "outputs": [],
   "source": [
    "try:\n",
    "    counties_df = section1.counties_served(operator_route_map)\n",
    "    display(\n",
    "        Markdown(\n",
    "            f\"{organization_name} provides public transit in {counties_df['all'].values[0]} counties.\"\n",
    "        )\n",
    "    )\n",
    "except:\n",
    "    display(Markdown(f\"\"\"{organization_name} doesn't have an route geographies.\"\"\"))"
   ]
  },
  {
   "cell_type": "markdown",
   "id": "97aae28b-1242-4019-8ab3-350828cd0866",
   "metadata": {},
   "source": [
    "### Map of Routes"
   ]
  },
  {
   "cell_type": "code",
   "execution_count": null,
   "id": "6e122721-fb52-42af-bed6-f06a2a81f9b6",
   "metadata": {},
   "outputs": [],
   "source": [
    "try:\n",
    "    display(\n",
    "        operator_route_map.explore(\n",
    "            \"Route\",\n",
    "            cmap=\"Spectral\",\n",
    "            tiles=\"CartoDB positron\",\n",
    "            width=500,\n",
    "            height=300,\n",
    "            style_kwds={\"weight\": 3},\n",
    "            legend=False,\n",
    "            tooltip=[\"Route\", \"Service Miles\"],\n",
    "        )\n",
    "    )\n",
    "except:\n",
    "    display(Markdown(f\"\"\"{organization_name} doesn't have an route geographies.\"\"\"))"
   ]
  },
  {
   "cell_type": "markdown",
   "id": "0b3f4694-0cf7-4ad8-9825-e3f40ad720e3",
   "metadata": {},
   "source": [
    "### Service Hours "
   ]
  },
  {
   "cell_type": "code",
   "execution_count": null,
   "id": "28b6cbf1-cf22-4bba-82f5-d4a92f2472af",
   "metadata": {},
   "outputs": [],
   "source": [
    "try:\n",
    "    display(\n",
    "        section1.create_service_hour_chart(\n",
    "            scheduled_service,\n",
    "            \"Weekday\",\n",
    "            \"weekday_service_hours\",\n",
    "            readable_dict[\"daily_scheduled_hour\"][\"subtitle\"],\n",
    "        )\n",
    "    )\n",
    "except:\n",
    "    pass"
   ]
  },
  {
   "cell_type": "code",
   "execution_count": null,
   "id": "a481a5aa-d8ec-4c74-9760-8ea3f1714e82",
   "metadata": {},
   "outputs": [],
   "source": [
    "try:\n",
    "    display(\n",
    "        section1.create_service_hour_chart(\n",
    "            scheduled_service, \"Saturday\", \"weekend_service_hours\", \"\"\n",
    "        )\n",
    "    )\n",
    "except:\n",
    "    pass"
   ]
  },
  {
   "cell_type": "code",
   "execution_count": null,
   "id": "0cac8d6f-23d0-4e6f-aad6-1babf0258097",
   "metadata": {},
   "outputs": [],
   "source": [
    "display(\n",
    "    section1.create_service_hour_chart(\n",
    "        scheduled_service, \"Saturday\", \"weekend_service_hours\", \"\"\n",
    "    )\n",
    ")"
   ]
  },
  {
   "cell_type": "code",
   "execution_count": null,
   "id": "91969690-2482-48e7-a060-baf50f36d642",
   "metadata": {},
   "outputs": [],
   "source": [
    "try:\n",
    "    display(\n",
    "        section1.create_service_hour_chart(\n",
    "            scheduled_service, \"Sunday\", \"weekend_service_hours\", \"\"\n",
    "        )\n",
    "    )\n",
    "except:\n",
    "    pass"
   ]
  },
  {
   "cell_type": "markdown",
   "id": "1e410f4e-09a7-4921-84ec-eaa1aca7388b",
   "metadata": {},
   "source": [
    "## Detailed Route Overview"
   ]
  },
  {
   "cell_type": "code",
   "execution_count": null,
   "id": "251cb0f8-1ae9-441f-80c1-5223f813dff2",
   "metadata": {},
   "outputs": [],
   "source": [
    "try:\n",
    "    display(section2.filtered_route(sched_vp_df))\n",
    "except:\n",
    "    display(Markdown(f\"\"\"{organization_name} only has schedule data.\"\"\"))"
   ]
  }
 ],
 "metadata": {
  "kernelspec": {
   "display_name": "Python 3 (ipykernel)",
   "language": "python",
   "name": "python3"
  },
  "language_info": {
   "codemirror_mode": {
    "name": "ipython",
    "version": 3
   },
   "file_extension": ".py",
   "mimetype": "text/x-python",
   "name": "python",
   "nbconvert_exporter": "python",
   "pygments_lexer": "ipython3",
   "version": "3.9.13"
  }
 },
 "nbformat": 4,
 "nbformat_minor": 5
}
