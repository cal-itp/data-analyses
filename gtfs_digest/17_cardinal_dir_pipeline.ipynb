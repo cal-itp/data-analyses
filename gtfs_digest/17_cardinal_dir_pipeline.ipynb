{
 "cells": [
  {
   "cell_type": "markdown",
   "id": "e839408b-3674-4674-abfe-ff41188541d5",
   "metadata": {},
   "source": [
    "## Adding Cardinal Direction into Pipeline\n",
    "* Editing [this file](https://github.com/cal-itp/data-analyses/blob/ah_gtfs_portfolio/gtfs_funnel/schedule_stats_by_route_direction.py#L23)"
   ]
  },
  {
   "cell_type": "code",
   "execution_count": 1,
   "id": "2060270d-dd34-4098-9414-5e17186f0356",
   "metadata": {},
   "outputs": [],
   "source": [
    "import _section2_utils as section2\n",
    "import geopandas as gpd\n",
    "import numpy as np\n",
    "import pandas as pd\n",
    "from segment_speed_utils import gtfs_schedule_wrangling, helpers, time_series_utils\n",
    "from segment_speed_utils.project_vars import (\n",
    "    COMPILED_CACHED_VIEWS,\n",
    "    GTFS_DATA_DICT,\n",
    "    PROJECT_CRS,\n",
    "    RT_SCHED_GCS,\n",
    "    SCHED_GCS,\n",
    "    SEGMENT_GCS,\n",
    ")\n",
    "from shared_utils import catalog_utils, rt_dates, rt_utils"
   ]
  },
  {
   "cell_type": "code",
   "execution_count": 2,
   "id": "11579aea-8070-4a19-a4a8-1c459251421a",
   "metadata": {},
   "outputs": [],
   "source": [
    "pd.options.display.max_columns = 100\n",
    "pd.options.display.float_format = \"{:.2f}\".format\n",
    "pd.set_option(\"display.max_rows\", None)\n",
    "pd.set_option(\"display.max_colwidth\", None)"
   ]
  },
  {
   "cell_type": "code",
   "execution_count": 3,
   "id": "c47c1ea4-426b-4b28-9cc7-e522669d4692",
   "metadata": {},
   "outputs": [
    {
     "data": {
      "text/plain": [
       "'gs://calitp-analytics-data/data-analyses/rt_vs_schedule/'"
      ]
     },
     "execution_count": 3,
     "metadata": {},
     "output_type": "execute_result"
    }
   ],
   "source": [
    "RT_SCHED_GCS"
   ]
  },
  {
   "cell_type": "code",
   "execution_count": 4,
   "id": "9e6b4ec3-2ba9-4a49-a365-8eb65971f1fd",
   "metadata": {},
   "outputs": [
    {
     "data": {
      "text/plain": [
       "'stop_times_direction'"
      ]
     },
     "execution_count": 4,
     "metadata": {},
     "output_type": "execute_result"
    }
   ],
   "source": [
    "GTFS_DATA_DICT.rt_vs_schedule_tables.stop_times_direction"
   ]
  },
  {
   "cell_type": "code",
   "execution_count": 5,
   "id": "b1fd4d42-974c-45ac-9f97-55805ae6253b",
   "metadata": {},
   "outputs": [],
   "source": [
    "analysis_date = \"2024-04-17\""
   ]
  },
  {
   "cell_type": "markdown",
   "id": "46c7e272-2027-4af5-a2d2-8fbc1f898020",
   "metadata": {},
   "source": [
    "### `assemble_scheduled_trip_metrics`\n",
    "* `df` from this function is the same thing that is loaded from `section2_utils.load_scheduled_stop_times`.\n",
    "* How come `df` is read as a `gpd`? Could I just read it in as a regular pandas dataframe?"
   ]
  },
  {
   "cell_type": "code",
   "execution_count": 6,
   "id": "230e3b89-d7d2-46c3-9b5b-e60e5b4578ff",
   "metadata": {},
   "outputs": [],
   "source": [
    "STOP_TIMES_FILE = GTFS_DATA_DICT.rt_vs_schedule_tables.stop_times_direction"
   ]
  },
  {
   "cell_type": "code",
   "execution_count": 7,
   "id": "5035b2b8-be13-4203-b55e-575a45523147",
   "metadata": {},
   "outputs": [],
   "source": [
    "stop_times_gdf = gpd.read_parquet(\n",
    "    f\"{RT_SCHED_GCS}{STOP_TIMES_FILE}_{analysis_date}.parquet\"\n",
    ")"
   ]
  },
  {
   "cell_type": "code",
   "execution_count": 8,
   "id": "60ab1df8-9067-48a4-9c98-81f72556d125",
   "metadata": {},
   "outputs": [
    {
     "data": {
      "text/plain": [
       "geopandas.geodataframe.GeoDataFrame"
      ]
     },
     "execution_count": 8,
     "metadata": {},
     "output_type": "execute_result"
    }
   ],
   "source": [
    "type(stop_times_gdf)"
   ]
  },
  {
   "cell_type": "code",
   "execution_count": 9,
   "id": "af5f517e-2dc3-4557-b65e-e47e3da78d7c",
   "metadata": {},
   "outputs": [],
   "source": [
    "scheduled_col = [\n",
    "    \"route_id\",\n",
    "    \"trip_instance_key\",\n",
    "    \"gtfs_dataset_key\",\n",
    "    \"shape_array_key\",\n",
    "    \"direction_id\",\n",
    "    \"route_long_name\",\n",
    "    \"route_short_name\",\n",
    "    \"route_desc\",\n",
    "    \"name\",\n",
    "]"
   ]
  },
  {
   "cell_type": "code",
   "execution_count": 10,
   "id": "0d4af3c7-fecd-4ddc-b585-145af63b3024",
   "metadata": {},
   "outputs": [],
   "source": [
    "trips_to_route_cols_subset = [\"trip_instance_key\", \"route_id\", \"direction_id\"]"
   ]
  },
  {
   "cell_type": "code",
   "execution_count": 11,
   "id": "37da31a1-3c5b-40c3-80bb-a718d503ad74",
   "metadata": {},
   "outputs": [],
   "source": [
    "# Add more columns to this.\n",
    "trips_to_route_df = helpers.import_scheduled_trips(\n",
    "    analysis_date, columns=scheduled_col, get_pandas=True\n",
    ")"
   ]
  },
  {
   "cell_type": "code",
   "execution_count": 12,
   "id": "2e838c1f-3360-4029-959c-c9cbb9e2ca64",
   "metadata": {
    "scrolled": true,
    "tags": []
   },
   "outputs": [],
   "source": [
    "time_of_day = gtfs_schedule_wrangling.get_trip_time_buckets(analysis_date)[\n",
    "    [\"trip_instance_key\", \"time_of_day\", \"scheduled_service_minutes\"]\n",
    "]"
   ]
  },
  {
   "cell_type": "code",
   "execution_count": 13,
   "id": "697869b8-9402-4320-a8c0-53c0470ec4d1",
   "metadata": {},
   "outputs": [],
   "source": [
    "trip_cols = [\"schedule_gtfs_dataset_key\", \"trip_instance_key\"]\n",
    "\n",
    "grouped_df = stop_times_gdf.groupby(trip_cols, observed=True, group_keys=False)"
   ]
  },
  {
   "cell_type": "code",
   "execution_count": 14,
   "id": "ba63f281-727c-4d2a-9854-85698aaf554f",
   "metadata": {},
   "outputs": [
    {
     "data": {
      "text/plain": [
       "103451"
      ]
     },
     "execution_count": 14,
     "metadata": {},
     "output_type": "execute_result"
    }
   ],
   "source": [
    "len(grouped_df)"
   ]
  },
  {
   "cell_type": "code",
   "execution_count": 15,
   "id": "fb2ea86e-e7ac-4459-afae-332fa937267c",
   "metadata": {},
   "outputs": [],
   "source": [
    "df2 = pd.merge(\n",
    "    grouped_df.agg({\"stop_meters\": \"median\"})\n",
    "    .reset_index()\n",
    "    .rename(columns={\"stop_meters\": \"median_stop_meters\"}),\n",
    "    time_of_day,\n",
    "    on=\"trip_instance_key\",\n",
    "    how=\"left\",\n",
    ").merge(\n",
    "    trips_to_route_df[trips_to_route_cols_subset], on=\"trip_instance_key\", how=\"inner\"\n",
    ")"
   ]
  },
  {
   "cell_type": "code",
   "execution_count": 16,
   "id": "7dc7a950-167b-4300-a6ec-5c874a154d8a",
   "metadata": {},
   "outputs": [
    {
     "data": {
      "text/html": [
       "<div>\n",
       "<style scoped>\n",
       "    .dataframe tbody tr th:only-of-type {\n",
       "        vertical-align: middle;\n",
       "    }\n",
       "\n",
       "    .dataframe tbody tr th {\n",
       "        vertical-align: top;\n",
       "    }\n",
       "\n",
       "    .dataframe thead th {\n",
       "        text-align: right;\n",
       "    }\n",
       "</style>\n",
       "<table border=\"1\" class=\"dataframe\">\n",
       "  <thead>\n",
       "    <tr style=\"text-align: right;\">\n",
       "      <th></th>\n",
       "      <th>schedule_gtfs_dataset_key</th>\n",
       "      <th>trip_instance_key</th>\n",
       "      <th>median_stop_meters</th>\n",
       "      <th>time_of_day</th>\n",
       "      <th>scheduled_service_minutes</th>\n",
       "      <th>route_id</th>\n",
       "      <th>direction_id</th>\n",
       "    </tr>\n",
       "  </thead>\n",
       "  <tbody>\n",
       "    <tr>\n",
       "      <th>0</th>\n",
       "      <td>0139b1253130b33adcd4b3a4490530d2</td>\n",
       "      <td>00b4bee9c4a71a1ffffd3e642c9a07f8</td>\n",
       "      <td>416.83</td>\n",
       "      <td>Midday</td>\n",
       "      <td>40.00</td>\n",
       "      <td>P2</td>\n",
       "      <td>NaN</td>\n",
       "    </tr>\n",
       "    <tr>\n",
       "      <th>1</th>\n",
       "      <td>0139b1253130b33adcd4b3a4490530d2</td>\n",
       "      <td>0102978f1e2ac86cff442d0c622e8dcb</td>\n",
       "      <td>387.20</td>\n",
       "      <td>PM Peak</td>\n",
       "      <td>30.00</td>\n",
       "      <td>P4</td>\n",
       "      <td>NaN</td>\n",
       "    </tr>\n",
       "    <tr>\n",
       "      <th>2</th>\n",
       "      <td>0139b1253130b33adcd4b3a4490530d2</td>\n",
       "      <td>01fbd0f23a0ee04f8e5903f8558e704e</td>\n",
       "      <td>451.55</td>\n",
       "      <td>Midday</td>\n",
       "      <td>40.00</td>\n",
       "      <td>T6</td>\n",
       "      <td>NaN</td>\n",
       "    </tr>\n",
       "    <tr>\n",
       "      <th>3</th>\n",
       "      <td>0139b1253130b33adcd4b3a4490530d2</td>\n",
       "      <td>021961b9b493a7217a7362e9496a27b0</td>\n",
       "      <td>585.05</td>\n",
       "      <td>PM Peak</td>\n",
       "      <td>22.00</td>\n",
       "      <td>D3</td>\n",
       "      <td>NaN</td>\n",
       "    </tr>\n",
       "    <tr>\n",
       "      <th>4</th>\n",
       "      <td>0139b1253130b33adcd4b3a4490530d2</td>\n",
       "      <td>02c07cf7403e838aa39811f8d095faea</td>\n",
       "      <td>585.05</td>\n",
       "      <td>AM Peak</td>\n",
       "      <td>22.00</td>\n",
       "      <td>D3</td>\n",
       "      <td>NaN</td>\n",
       "    </tr>\n",
       "  </tbody>\n",
       "</table>\n",
       "</div>"
      ],
      "text/plain": [
       "          schedule_gtfs_dataset_key                 trip_instance_key  \\\n",
       "0  0139b1253130b33adcd4b3a4490530d2  00b4bee9c4a71a1ffffd3e642c9a07f8   \n",
       "1  0139b1253130b33adcd4b3a4490530d2  0102978f1e2ac86cff442d0c622e8dcb   \n",
       "2  0139b1253130b33adcd4b3a4490530d2  01fbd0f23a0ee04f8e5903f8558e704e   \n",
       "3  0139b1253130b33adcd4b3a4490530d2  021961b9b493a7217a7362e9496a27b0   \n",
       "4  0139b1253130b33adcd4b3a4490530d2  02c07cf7403e838aa39811f8d095faea   \n",
       "\n",
       "   median_stop_meters time_of_day  scheduled_service_minutes route_id  \\\n",
       "0              416.83      Midday                      40.00       P2   \n",
       "1              387.20     PM Peak                      30.00       P4   \n",
       "2              451.55      Midday                      40.00       T6   \n",
       "3              585.05     PM Peak                      22.00       D3   \n",
       "4              585.05     AM Peak                      22.00       D3   \n",
       "\n",
       "   direction_id  \n",
       "0           NaN  \n",
       "1           NaN  \n",
       "2           NaN  \n",
       "3           NaN  \n",
       "4           NaN  "
      ]
     },
     "execution_count": 16,
     "metadata": {},
     "output_type": "execute_result"
    }
   ],
   "source": [
    "df2.head()"
   ]
  },
  {
   "cell_type": "code",
   "execution_count": 17,
   "id": "ac9539f8-e945-4146-a876-d7db1ebeea74",
   "metadata": {},
   "outputs": [
    {
     "data": {
      "text/plain": [
       "1778"
      ]
     },
     "execution_count": 17,
     "metadata": {},
     "output_type": "execute_result"
    }
   ],
   "source": [
    "df2.route_id.nunique()"
   ]
  },
  {
   "cell_type": "code",
   "execution_count": 18,
   "id": "33f1cff8-b91a-41e8-81e9-38f7e7d76087",
   "metadata": {},
   "outputs": [
    {
     "name": "stdout",
     "output_type": "stream",
     "text": [
      "<class 'pandas.core.frame.DataFrame'>\n",
      "Int64Index: 103451 entries, 0 to 103450\n",
      "Data columns (total 7 columns):\n",
      " #   Column                     Non-Null Count   Dtype  \n",
      "---  ------                     --------------   -----  \n",
      " 0   schedule_gtfs_dataset_key  103451 non-null  object \n",
      " 1   trip_instance_key          103451 non-null  object \n",
      " 2   median_stop_meters         103447 non-null  float64\n",
      " 3   time_of_day                103451 non-null  object \n",
      " 4   scheduled_service_minutes  103451 non-null  float64\n",
      " 5   route_id                   103451 non-null  object \n",
      " 6   direction_id               93963 non-null   float64\n",
      "dtypes: float64(3), object(4)\n",
      "memory usage: 6.3+ MB\n"
     ]
    }
   ],
   "source": [
    "df2.info()"
   ]
  },
  {
   "cell_type": "code",
   "execution_count": 19,
   "id": "5f86ff00-3d9b-4d1f-a47c-0beecd96797b",
   "metadata": {},
   "outputs": [],
   "source": [
    "df2.direction_id = df2.direction_id.fillna(0)"
   ]
  },
  {
   "cell_type": "markdown",
   "id": "9fffa0ee-dfa1-4dbc-99a8-ee5d8e6ee08d",
   "metadata": {},
   "source": [
    "#### Add in Cardinal Direction Stuff somewhere here?"
   ]
  },
  {
   "cell_type": "code",
   "execution_count": 20,
   "id": "47fd627e-89f9-4c42-b8b3-6720de3d3fb3",
   "metadata": {},
   "outputs": [],
   "source": [
    "stop_times_col = [\n",
    "    \"feed_key\",\n",
    "    \"stop_id\",\n",
    "    \"stop_sequence\",\n",
    "    \"schedule_gtfs_dataset_key\",\n",
    "    \"trip_instance_key\",\n",
    "    \"shape_array_key\",\n",
    "    \"stop_name\",\n",
    "    \"prior_stop_sequence\",\n",
    "    \"subseq_stop_sequence\",\n",
    "    \"stop_pair\",\n",
    "    \"stop_pair_name\",\n",
    "    \"stop_primary_direction\",\n",
    "    \"stop_meters\",\n",
    "]"
   ]
  },
  {
   "cell_type": "code",
   "execution_count": 21,
   "id": "f9784687-6548-402c-9bf2-1bf4e9ef63fa",
   "metadata": {},
   "outputs": [],
   "source": [
    "stop_times_gdf2 = stop_times_gdf[stop_times_col]"
   ]
  },
  {
   "cell_type": "code",
   "execution_count": 22,
   "id": "588b7557-9854-426e-8c7c-501cf7098d98",
   "metadata": {},
   "outputs": [
    {
     "data": {
      "text/plain": [
       "1778"
      ]
     },
     "execution_count": 22,
     "metadata": {},
     "output_type": "execute_result"
    }
   ],
   "source": [
    "trips_to_route_df.route_id.nunique()"
   ]
  },
  {
   "cell_type": "code",
   "execution_count": 23,
   "id": "1c09a352-bd56-4009-9680-6350a7dd7560",
   "metadata": {},
   "outputs": [
    {
     "data": {
      "text/plain": [
       "Index(['route_id', 'trip_instance_key', 'schedule_gtfs_dataset_key',\n",
       "       'shape_array_key', 'direction_id', 'route_long_name',\n",
       "       'route_short_name', 'route_desc', 'name'],\n",
       "      dtype='object')"
      ]
     },
     "execution_count": 23,
     "metadata": {},
     "output_type": "execute_result"
    }
   ],
   "source": [
    "trips_to_route_df.columns"
   ]
  },
  {
   "cell_type": "code",
   "execution_count": 24,
   "id": "1ca3ffaf-8d37-4e68-9c23-1c90ac3b0df3",
   "metadata": {},
   "outputs": [],
   "source": [
    "merge_cols = [\n",
    "    \"trip_instance_key\",\n",
    "    \"schedule_gtfs_dataset_key\",\n",
    "    \"shape_array_key\",\n",
    "]"
   ]
  },
  {
   "cell_type": "code",
   "execution_count": 25,
   "id": "d853bc3e-dccc-40f7-b4aa-846f3d8e03a8",
   "metadata": {},
   "outputs": [],
   "source": [
    "cardinal_dir1 = pd.merge(stop_times_gdf2, trips_to_route_df, on=merge_cols, how=\"inner\")"
   ]
  },
  {
   "cell_type": "code",
   "execution_count": 26,
   "id": "6112899a-0042-4b31-ba45-85f8f94b416f",
   "metadata": {},
   "outputs": [],
   "source": [
    "cardinal_dir1.direction_id = cardinal_dir1.direction_id.fillna(0)"
   ]
  },
  {
   "cell_type": "code",
   "execution_count": 27,
   "id": "6d7eeb17-3457-4137-af66-c295f8fdcd84",
   "metadata": {},
   "outputs": [
    {
     "data": {
      "text/plain": [
       "(3558553, 19)"
      ]
     },
     "execution_count": 27,
     "metadata": {},
     "output_type": "execute_result"
    }
   ],
   "source": [
    "cardinal_dir1.shape"
   ]
  },
  {
   "cell_type": "code",
   "execution_count": 28,
   "id": "05090e23-1565-4a23-8d4f-639c33446c6c",
   "metadata": {},
   "outputs": [
    {
     "data": {
      "text/plain": [
       "1778"
      ]
     },
     "execution_count": 28,
     "metadata": {},
     "output_type": "execute_result"
    }
   ],
   "source": [
    "cardinal_dir1.route_id.nunique()"
   ]
  },
  {
   "cell_type": "code",
   "execution_count": 29,
   "id": "ca90c23d-21f7-4e6f-a2fd-5a1258115630",
   "metadata": {},
   "outputs": [
    {
     "data": {
      "text/plain": [
       "103451"
      ]
     },
     "execution_count": 29,
     "metadata": {},
     "output_type": "execute_result"
    }
   ],
   "source": [
    "cardinal_dir1.trip_instance_key.nunique()"
   ]
  },
  {
   "cell_type": "code",
   "execution_count": 30,
   "id": "2c9615f3-cf20-4171-ac27-2ac9b39519d3",
   "metadata": {},
   "outputs": [
    {
     "name": "stdout",
     "output_type": "stream",
     "text": [
      "<class 'pandas.core.frame.DataFrame'>\n",
      "Int64Index: 3558553 entries, 0 to 3558552\n",
      "Data columns (total 19 columns):\n",
      " #   Column                     Dtype  \n",
      "---  ------                     -----  \n",
      " 0   feed_key                   object \n",
      " 1   stop_id                    object \n",
      " 2   stop_sequence              int64  \n",
      " 3   schedule_gtfs_dataset_key  object \n",
      " 4   trip_instance_key          object \n",
      " 5   shape_array_key            object \n",
      " 6   stop_name                  object \n",
      " 7   prior_stop_sequence        Int64  \n",
      " 8   subseq_stop_sequence       Int64  \n",
      " 9   stop_pair                  object \n",
      " 10  stop_pair_name             object \n",
      " 11  stop_primary_direction     object \n",
      " 12  stop_meters                float64\n",
      " 13  route_id                   object \n",
      " 14  direction_id               float64\n",
      " 15  route_long_name            object \n",
      " 16  route_short_name           object \n",
      " 17  route_desc                 object \n",
      " 18  name                       object \n",
      "dtypes: Int64(2), float64(2), int64(1), object(14)\n",
      "memory usage: 549.8+ MB\n"
     ]
    }
   ],
   "source": [
    "cardinal_dir1.info()"
   ]
  },
  {
   "cell_type": "markdown",
   "id": "064a7650-5177-4429-8baa-408b9c95d813",
   "metadata": {},
   "source": [
    "### Why do some of the route IDS drop off?\n",
    "* Some have `direction_id` that are `nan`"
   ]
  },
  {
   "cell_type": "code",
   "execution_count": 31,
   "id": "f6518a33-dd08-433d-b164-c06f260fb336",
   "metadata": {},
   "outputs": [],
   "source": [
    "cardinal_dir2 = (\n",
    "    cardinal_dir1.groupby(\n",
    "        [\n",
    "            \"route_id\",\n",
    "            \"schedule_gtfs_dataset_key\",\n",
    "            \"direction_id\",\n",
    "            \"stop_primary_direction\",\n",
    "        ]\n",
    "    )\n",
    "    .agg({\"stop_sequence\": \"count\"})\n",
    "    .reset_index()\n",
    "    .rename(columns={\"stop_sequence\": \"total_stops\"})\n",
    ")"
   ]
  },
  {
   "cell_type": "code",
   "execution_count": 32,
   "id": "7525877c-3a12-434e-9784-38015bbec690",
   "metadata": {},
   "outputs": [
    {
     "data": {
      "text/plain": [
       "1778"
      ]
     },
     "execution_count": 32,
     "metadata": {},
     "output_type": "execute_result"
    }
   ],
   "source": [
    "cardinal_dir2.route_id.nunique()"
   ]
  },
  {
   "cell_type": "code",
   "execution_count": 33,
   "id": "88bc5c93-59d5-43af-8231-f101a0457f70",
   "metadata": {},
   "outputs": [],
   "source": [
    "cardinal_dir1_routes = set(cardinal_dir1.route_id.unique().tolist())\n",
    "cardinal_dir2_routes = set(cardinal_dir2.route_id.unique().tolist())"
   ]
  },
  {
   "cell_type": "code",
   "execution_count": 34,
   "id": "e45e9688-914a-4a61-af69-3aad345e147b",
   "metadata": {
    "scrolled": true,
    "tags": []
   },
   "outputs": [
    {
     "data": {
      "text/plain": [
       "0"
      ]
     },
     "execution_count": 34,
     "metadata": {},
     "output_type": "execute_result"
    }
   ],
   "source": [
    "len(cardinal_dir1_routes - cardinal_dir2_routes)"
   ]
  },
  {
   "cell_type": "code",
   "execution_count": 35,
   "id": "9fab0ac2-1385-4b18-91d3-5cadcfa0ea74",
   "metadata": {
    "scrolled": true,
    "tags": []
   },
   "outputs": [
    {
     "data": {
      "text/plain": [
       "set()"
      ]
     },
     "execution_count": 35,
     "metadata": {},
     "output_type": "execute_result"
    }
   ],
   "source": [
    "(cardinal_dir1_routes - cardinal_dir2_routes)"
   ]
  },
  {
   "cell_type": "code",
   "execution_count": 36,
   "id": "111ec479-9723-4d8e-bab7-50f836dc54c1",
   "metadata": {
    "scrolled": true,
    "tags": []
   },
   "outputs": [
    {
     "data": {
      "text/html": [
       "<div>\n",
       "<style scoped>\n",
       "    .dataframe tbody tr th:only-of-type {\n",
       "        vertical-align: middle;\n",
       "    }\n",
       "\n",
       "    .dataframe tbody tr th {\n",
       "        vertical-align: top;\n",
       "    }\n",
       "\n",
       "    .dataframe thead th {\n",
       "        text-align: right;\n",
       "    }\n",
       "</style>\n",
       "<table border=\"1\" class=\"dataframe\">\n",
       "  <thead>\n",
       "    <tr style=\"text-align: right;\">\n",
       "      <th></th>\n",
       "      <th>stop_primary_direction</th>\n",
       "      <th>direction_id</th>\n",
       "    </tr>\n",
       "  </thead>\n",
       "  <tbody>\n",
       "    <tr>\n",
       "      <th>1518439</th>\n",
       "      <td>Unknown</td>\n",
       "      <td>0.00</td>\n",
       "    </tr>\n",
       "    <tr>\n",
       "      <th>1518440</th>\n",
       "      <td>Eastbound</td>\n",
       "      <td>0.00</td>\n",
       "    </tr>\n",
       "    <tr>\n",
       "      <th>1518441</th>\n",
       "      <td>Southbound</td>\n",
       "      <td>0.00</td>\n",
       "    </tr>\n",
       "    <tr>\n",
       "      <th>1518446</th>\n",
       "      <td>Westbound</td>\n",
       "      <td>0.00</td>\n",
       "    </tr>\n",
       "    <tr>\n",
       "      <th>1518448</th>\n",
       "      <td>Northbound</td>\n",
       "      <td>0.00</td>\n",
       "    </tr>\n",
       "  </tbody>\n",
       "</table>\n",
       "</div>"
      ],
      "text/plain": [
       "        stop_primary_direction  direction_id\n",
       "1518439                Unknown          0.00\n",
       "1518440              Eastbound          0.00\n",
       "1518441             Southbound          0.00\n",
       "1518446              Westbound          0.00\n",
       "1518448             Northbound          0.00"
      ]
     },
     "execution_count": 36,
     "metadata": {},
     "output_type": "execute_result"
    }
   ],
   "source": [
    "cardinal_dir1.loc[(cardinal_dir1.route_id == \"0177a66b-9f33-407d-a72e-776429fb73d4\")][\n",
    "    [\"stop_primary_direction\", \"direction_id\"]\n",
    "].drop_duplicates()"
   ]
  },
  {
   "cell_type": "code",
   "execution_count": 37,
   "id": "50f5dcaa-8f5e-453d-bc16-ec0ef1496444",
   "metadata": {},
   "outputs": [
    {
     "data": {
      "text/html": [
       "<div>\n",
       "<style scoped>\n",
       "    .dataframe tbody tr th:only-of-type {\n",
       "        vertical-align: middle;\n",
       "    }\n",
       "\n",
       "    .dataframe tbody tr th {\n",
       "        vertical-align: top;\n",
       "    }\n",
       "\n",
       "    .dataframe thead th {\n",
       "        text-align: right;\n",
       "    }\n",
       "</style>\n",
       "<table border=\"1\" class=\"dataframe\">\n",
       "  <thead>\n",
       "    <tr style=\"text-align: right;\">\n",
       "      <th></th>\n",
       "      <th>stop_primary_direction</th>\n",
       "      <th>direction_id</th>\n",
       "    </tr>\n",
       "  </thead>\n",
       "  <tbody>\n",
       "    <tr>\n",
       "      <th>1027572</th>\n",
       "      <td>Unknown</td>\n",
       "      <td>0.00</td>\n",
       "    </tr>\n",
       "    <tr>\n",
       "      <th>1027573</th>\n",
       "      <td>Westbound</td>\n",
       "      <td>0.00</td>\n",
       "    </tr>\n",
       "  </tbody>\n",
       "</table>\n",
       "</div>"
      ],
      "text/plain": [
       "        stop_primary_direction  direction_id\n",
       "1027572                Unknown          0.00\n",
       "1027573              Westbound          0.00"
      ]
     },
     "execution_count": 37,
     "metadata": {},
     "output_type": "execute_result"
    }
   ],
   "source": [
    "cardinal_dir1.loc[(cardinal_dir1.route_id == \"9f38a05f-6eea-47f4-bf42-992a789e7b49\")][\n",
    "    [\"stop_primary_direction\", \"direction_id\"]\n",
    "].drop_duplicates()"
   ]
  },
  {
   "cell_type": "code",
   "execution_count": 38,
   "id": "53cb5965-d029-4aac-82ee-1a40da7f3e65",
   "metadata": {},
   "outputs": [
    {
     "data": {
      "text/html": [
       "<div>\n",
       "<style scoped>\n",
       "    .dataframe tbody tr th:only-of-type {\n",
       "        vertical-align: middle;\n",
       "    }\n",
       "\n",
       "    .dataframe tbody tr th {\n",
       "        vertical-align: top;\n",
       "    }\n",
       "\n",
       "    .dataframe thead th {\n",
       "        text-align: right;\n",
       "    }\n",
       "</style>\n",
       "<table border=\"1\" class=\"dataframe\">\n",
       "  <thead>\n",
       "    <tr style=\"text-align: right;\">\n",
       "      <th></th>\n",
       "      <th>route_id</th>\n",
       "      <th>stop_primary_direction</th>\n",
       "      <th>direction_id</th>\n",
       "    </tr>\n",
       "  </thead>\n",
       "  <tbody>\n",
       "    <tr>\n",
       "      <th>179634</th>\n",
       "      <td>3ff1b747-a791-4eb3-90b2-25cb355b6c67</td>\n",
       "      <td>Unknown</td>\n",
       "      <td>0.00</td>\n",
       "    </tr>\n",
       "    <tr>\n",
       "      <th>179635</th>\n",
       "      <td>3ff1b747-a791-4eb3-90b2-25cb355b6c67</td>\n",
       "      <td>Southbound</td>\n",
       "      <td>0.00</td>\n",
       "    </tr>\n",
       "    <tr>\n",
       "      <th>179638</th>\n",
       "      <td>3ff1b747-a791-4eb3-90b2-25cb355b6c67</td>\n",
       "      <td>Eastbound</td>\n",
       "      <td>0.00</td>\n",
       "    </tr>\n",
       "  </tbody>\n",
       "</table>\n",
       "</div>"
      ],
      "text/plain": [
       "                                    route_id stop_primary_direction  \\\n",
       "179634  3ff1b747-a791-4eb3-90b2-25cb355b6c67                Unknown   \n",
       "179635  3ff1b747-a791-4eb3-90b2-25cb355b6c67             Southbound   \n",
       "179638  3ff1b747-a791-4eb3-90b2-25cb355b6c67              Eastbound   \n",
       "\n",
       "        direction_id  \n",
       "179634          0.00  \n",
       "179635          0.00  \n",
       "179638          0.00  "
      ]
     },
     "execution_count": 38,
     "metadata": {},
     "output_type": "execute_result"
    }
   ],
   "source": [
    "cardinal_dir1.loc[(cardinal_dir1.route_id == \"3ff1b747-a791-4eb3-90b2-25cb355b6c67\")][\n",
    "    [\"route_id\", \"stop_primary_direction\", \"direction_id\"]\n",
    "].drop_duplicates()"
   ]
  },
  {
   "cell_type": "code",
   "execution_count": 39,
   "id": "dcf97a07-84e4-4a58-8e4c-ffd9b21b6579",
   "metadata": {},
   "outputs": [
    {
     "data": {
      "text/html": [
       "<div>\n",
       "<style scoped>\n",
       "    .dataframe tbody tr th:only-of-type {\n",
       "        vertical-align: middle;\n",
       "    }\n",
       "\n",
       "    .dataframe tbody tr th {\n",
       "        vertical-align: top;\n",
       "    }\n",
       "\n",
       "    .dataframe thead th {\n",
       "        text-align: right;\n",
       "    }\n",
       "</style>\n",
       "<table border=\"1\" class=\"dataframe\">\n",
       "  <thead>\n",
       "    <tr style=\"text-align: right;\">\n",
       "      <th></th>\n",
       "      <th>route_id</th>\n",
       "      <th>schedule_gtfs_dataset_key</th>\n",
       "      <th>direction_id</th>\n",
       "      <th>stop_primary_direction</th>\n",
       "      <th>total_stops</th>\n",
       "    </tr>\n",
       "  </thead>\n",
       "  <tbody>\n",
       "    <tr>\n",
       "      <th>0</th>\n",
       "      <td>001</td>\n",
       "      <td>cb3074eb8b423dfc5acfeeb0de95eb82</td>\n",
       "      <td>0.00</td>\n",
       "      <td>Northbound</td>\n",
       "      <td>124</td>\n",
       "    </tr>\n",
       "    <tr>\n",
       "      <th>1</th>\n",
       "      <td>001</td>\n",
       "      <td>cb3074eb8b423dfc5acfeeb0de95eb82</td>\n",
       "      <td>0.00</td>\n",
       "      <td>Southbound</td>\n",
       "      <td>434</td>\n",
       "    </tr>\n",
       "    <tr>\n",
       "      <th>2</th>\n",
       "      <td>001</td>\n",
       "      <td>cb3074eb8b423dfc5acfeeb0de95eb82</td>\n",
       "      <td>0.00</td>\n",
       "      <td>Unknown</td>\n",
       "      <td>62</td>\n",
       "    </tr>\n",
       "    <tr>\n",
       "      <th>3</th>\n",
       "      <td>001</td>\n",
       "      <td>cb3074eb8b423dfc5acfeeb0de95eb82</td>\n",
       "      <td>0.00</td>\n",
       "      <td>Westbound</td>\n",
       "      <td>1426</td>\n",
       "    </tr>\n",
       "    <tr>\n",
       "      <th>4</th>\n",
       "      <td>001</td>\n",
       "      <td>cb3074eb8b423dfc5acfeeb0de95eb82</td>\n",
       "      <td>1.00</td>\n",
       "      <td>Eastbound</td>\n",
       "      <td>1550</td>\n",
       "    </tr>\n",
       "    <tr>\n",
       "      <th>5</th>\n",
       "      <td>001</td>\n",
       "      <td>cb3074eb8b423dfc5acfeeb0de95eb82</td>\n",
       "      <td>1.00</td>\n",
       "      <td>Northbound</td>\n",
       "      <td>434</td>\n",
       "    </tr>\n",
       "    <tr>\n",
       "      <th>6</th>\n",
       "      <td>001</td>\n",
       "      <td>cb3074eb8b423dfc5acfeeb0de95eb82</td>\n",
       "      <td>1.00</td>\n",
       "      <td>Southbound</td>\n",
       "      <td>62</td>\n",
       "    </tr>\n",
       "    <tr>\n",
       "      <th>7</th>\n",
       "      <td>001</td>\n",
       "      <td>cb3074eb8b423dfc5acfeeb0de95eb82</td>\n",
       "      <td>1.00</td>\n",
       "      <td>Unknown</td>\n",
       "      <td>62</td>\n",
       "    </tr>\n",
       "  </tbody>\n",
       "</table>\n",
       "</div>"
      ],
      "text/plain": [
       "  route_id         schedule_gtfs_dataset_key  direction_id  \\\n",
       "0      001  cb3074eb8b423dfc5acfeeb0de95eb82          0.00   \n",
       "1      001  cb3074eb8b423dfc5acfeeb0de95eb82          0.00   \n",
       "2      001  cb3074eb8b423dfc5acfeeb0de95eb82          0.00   \n",
       "3      001  cb3074eb8b423dfc5acfeeb0de95eb82          0.00   \n",
       "4      001  cb3074eb8b423dfc5acfeeb0de95eb82          1.00   \n",
       "5      001  cb3074eb8b423dfc5acfeeb0de95eb82          1.00   \n",
       "6      001  cb3074eb8b423dfc5acfeeb0de95eb82          1.00   \n",
       "7      001  cb3074eb8b423dfc5acfeeb0de95eb82          1.00   \n",
       "\n",
       "  stop_primary_direction  total_stops  \n",
       "0             Northbound          124  \n",
       "1             Southbound          434  \n",
       "2                Unknown           62  \n",
       "3              Westbound         1426  \n",
       "4              Eastbound         1550  \n",
       "5             Northbound          434  \n",
       "6             Southbound           62  \n",
       "7                Unknown           62  "
      ]
     },
     "execution_count": 39,
     "metadata": {},
     "output_type": "execute_result"
    }
   ],
   "source": [
    "cardinal_dir2.loc[\n",
    "    (cardinal_dir2.route_id == \"001\")\n",
    "    & (cardinal_dir2.schedule_gtfs_dataset_key == \"cb3074eb8b423dfc5acfeeb0de95eb82\")\n",
    "]"
   ]
  },
  {
   "cell_type": "code",
   "execution_count": 40,
   "id": "1af973a3-94ed-43de-a95e-3bfa399a27c7",
   "metadata": {},
   "outputs": [],
   "source": [
    "cardinal_dir3 = cardinal_dir2.sort_values(\n",
    "    by=[\"route_id\", \"schedule_gtfs_dataset_key\", \"direction_id\", \"total_stops\"],\n",
    "    ascending=[True, True, True, False],\n",
    ")"
   ]
  },
  {
   "cell_type": "code",
   "execution_count": 41,
   "id": "a34ce177-a722-4446-afc6-1c8022091d0c",
   "metadata": {},
   "outputs": [
    {
     "data": {
      "text/html": [
       "<div>\n",
       "<style scoped>\n",
       "    .dataframe tbody tr th:only-of-type {\n",
       "        vertical-align: middle;\n",
       "    }\n",
       "\n",
       "    .dataframe tbody tr th {\n",
       "        vertical-align: top;\n",
       "    }\n",
       "\n",
       "    .dataframe thead th {\n",
       "        text-align: right;\n",
       "    }\n",
       "</style>\n",
       "<table border=\"1\" class=\"dataframe\">\n",
       "  <thead>\n",
       "    <tr style=\"text-align: right;\">\n",
       "      <th></th>\n",
       "      <th>route_id</th>\n",
       "      <th>schedule_gtfs_dataset_key</th>\n",
       "      <th>direction_id</th>\n",
       "      <th>stop_primary_direction</th>\n",
       "      <th>total_stops</th>\n",
       "    </tr>\n",
       "  </thead>\n",
       "  <tbody>\n",
       "    <tr>\n",
       "      <th>3</th>\n",
       "      <td>001</td>\n",
       "      <td>cb3074eb8b423dfc5acfeeb0de95eb82</td>\n",
       "      <td>0.00</td>\n",
       "      <td>Westbound</td>\n",
       "      <td>1426</td>\n",
       "    </tr>\n",
       "    <tr>\n",
       "      <th>1</th>\n",
       "      <td>001</td>\n",
       "      <td>cb3074eb8b423dfc5acfeeb0de95eb82</td>\n",
       "      <td>0.00</td>\n",
       "      <td>Southbound</td>\n",
       "      <td>434</td>\n",
       "    </tr>\n",
       "    <tr>\n",
       "      <th>0</th>\n",
       "      <td>001</td>\n",
       "      <td>cb3074eb8b423dfc5acfeeb0de95eb82</td>\n",
       "      <td>0.00</td>\n",
       "      <td>Northbound</td>\n",
       "      <td>124</td>\n",
       "    </tr>\n",
       "    <tr>\n",
       "      <th>2</th>\n",
       "      <td>001</td>\n",
       "      <td>cb3074eb8b423dfc5acfeeb0de95eb82</td>\n",
       "      <td>0.00</td>\n",
       "      <td>Unknown</td>\n",
       "      <td>62</td>\n",
       "    </tr>\n",
       "    <tr>\n",
       "      <th>4</th>\n",
       "      <td>001</td>\n",
       "      <td>cb3074eb8b423dfc5acfeeb0de95eb82</td>\n",
       "      <td>1.00</td>\n",
       "      <td>Eastbound</td>\n",
       "      <td>1550</td>\n",
       "    </tr>\n",
       "    <tr>\n",
       "      <th>5</th>\n",
       "      <td>001</td>\n",
       "      <td>cb3074eb8b423dfc5acfeeb0de95eb82</td>\n",
       "      <td>1.00</td>\n",
       "      <td>Northbound</td>\n",
       "      <td>434</td>\n",
       "    </tr>\n",
       "    <tr>\n",
       "      <th>6</th>\n",
       "      <td>001</td>\n",
       "      <td>cb3074eb8b423dfc5acfeeb0de95eb82</td>\n",
       "      <td>1.00</td>\n",
       "      <td>Southbound</td>\n",
       "      <td>62</td>\n",
       "    </tr>\n",
       "    <tr>\n",
       "      <th>7</th>\n",
       "      <td>001</td>\n",
       "      <td>cb3074eb8b423dfc5acfeeb0de95eb82</td>\n",
       "      <td>1.00</td>\n",
       "      <td>Unknown</td>\n",
       "      <td>62</td>\n",
       "    </tr>\n",
       "  </tbody>\n",
       "</table>\n",
       "</div>"
      ],
      "text/plain": [
       "  route_id         schedule_gtfs_dataset_key  direction_id  \\\n",
       "3      001  cb3074eb8b423dfc5acfeeb0de95eb82          0.00   \n",
       "1      001  cb3074eb8b423dfc5acfeeb0de95eb82          0.00   \n",
       "0      001  cb3074eb8b423dfc5acfeeb0de95eb82          0.00   \n",
       "2      001  cb3074eb8b423dfc5acfeeb0de95eb82          0.00   \n",
       "4      001  cb3074eb8b423dfc5acfeeb0de95eb82          1.00   \n",
       "5      001  cb3074eb8b423dfc5acfeeb0de95eb82          1.00   \n",
       "6      001  cb3074eb8b423dfc5acfeeb0de95eb82          1.00   \n",
       "7      001  cb3074eb8b423dfc5acfeeb0de95eb82          1.00   \n",
       "\n",
       "  stop_primary_direction  total_stops  \n",
       "3              Westbound         1426  \n",
       "1             Southbound          434  \n",
       "0             Northbound          124  \n",
       "2                Unknown           62  \n",
       "4              Eastbound         1550  \n",
       "5             Northbound          434  \n",
       "6             Southbound           62  \n",
       "7                Unknown           62  "
      ]
     },
     "execution_count": 41,
     "metadata": {},
     "output_type": "execute_result"
    }
   ],
   "source": [
    "cardinal_dir3.loc[\n",
    "    (cardinal_dir3.route_id == \"001\")\n",
    "    & (cardinal_dir3.schedule_gtfs_dataset_key == \"cb3074eb8b423dfc5acfeeb0de95eb82\")\n",
    "]"
   ]
  },
  {
   "cell_type": "code",
   "execution_count": 42,
   "id": "4c8e440e-684d-44c2-92ef-0bcbbdef6e8c",
   "metadata": {},
   "outputs": [],
   "source": [
    "# Drop duplicates so only the top stop_primary_direction is kept.\n",
    "cardinal_dir4 = cardinal_dir3.drop_duplicates(\n",
    "    subset=[\n",
    "        \"route_id\",\n",
    "        \"schedule_gtfs_dataset_key\",\n",
    "        \"direction_id\",\n",
    "    ]\n",
    ").reset_index(drop=True)"
   ]
  },
  {
   "cell_type": "code",
   "execution_count": 43,
   "id": "b6253772-4e79-465d-9ea7-1badf9f8d008",
   "metadata": {},
   "outputs": [
    {
     "data": {
      "text/html": [
       "<div>\n",
       "<style scoped>\n",
       "    .dataframe tbody tr th:only-of-type {\n",
       "        vertical-align: middle;\n",
       "    }\n",
       "\n",
       "    .dataframe tbody tr th {\n",
       "        vertical-align: top;\n",
       "    }\n",
       "\n",
       "    .dataframe thead th {\n",
       "        text-align: right;\n",
       "    }\n",
       "</style>\n",
       "<table border=\"1\" class=\"dataframe\">\n",
       "  <thead>\n",
       "    <tr style=\"text-align: right;\">\n",
       "      <th></th>\n",
       "      <th>route_id</th>\n",
       "      <th>schedule_gtfs_dataset_key</th>\n",
       "      <th>direction_id</th>\n",
       "      <th>stop_primary_direction</th>\n",
       "      <th>total_stops</th>\n",
       "    </tr>\n",
       "  </thead>\n",
       "  <tbody>\n",
       "    <tr>\n",
       "      <th>0</th>\n",
       "      <td>001</td>\n",
       "      <td>cb3074eb8b423dfc5acfeeb0de95eb82</td>\n",
       "      <td>0.00</td>\n",
       "      <td>Westbound</td>\n",
       "      <td>1426</td>\n",
       "    </tr>\n",
       "    <tr>\n",
       "      <th>1</th>\n",
       "      <td>001</td>\n",
       "      <td>cb3074eb8b423dfc5acfeeb0de95eb82</td>\n",
       "      <td>1.00</td>\n",
       "      <td>Eastbound</td>\n",
       "      <td>1550</td>\n",
       "    </tr>\n",
       "  </tbody>\n",
       "</table>\n",
       "</div>"
      ],
      "text/plain": [
       "  route_id         schedule_gtfs_dataset_key  direction_id  \\\n",
       "0      001  cb3074eb8b423dfc5acfeeb0de95eb82          0.00   \n",
       "1      001  cb3074eb8b423dfc5acfeeb0de95eb82          1.00   \n",
       "\n",
       "  stop_primary_direction  total_stops  \n",
       "0              Westbound         1426  \n",
       "1              Eastbound         1550  "
      ]
     },
     "execution_count": 43,
     "metadata": {},
     "output_type": "execute_result"
    }
   ],
   "source": [
    "cardinal_dir4.loc[\n",
    "    (cardinal_dir4.route_id == \"001\")\n",
    "    & (cardinal_dir4.schedule_gtfs_dataset_key == \"cb3074eb8b423dfc5acfeeb0de95eb82\")\n",
    "]"
   ]
  },
  {
   "cell_type": "code",
   "execution_count": 44,
   "id": "bbc704bc-4b7e-405d-ac37-d4d70dbab48f",
   "metadata": {},
   "outputs": [],
   "source": [
    "cardinal_dir4 = cardinal_dir4.drop(columns=[\"total_stops\"])"
   ]
  },
  {
   "cell_type": "code",
   "execution_count": 45,
   "id": "44906f9c-4bc8-40f1-8cfe-eb31145b5b12",
   "metadata": {},
   "outputs": [
    {
     "data": {
      "text/plain": [
       "1778"
      ]
     },
     "execution_count": 45,
     "metadata": {},
     "output_type": "execute_result"
    }
   ],
   "source": [
    "cardinal_dir4.route_id.nunique()"
   ]
  },
  {
   "cell_type": "markdown",
   "id": "4e92ebde-4957-44d9-9eae-c09158952bb3",
   "metadata": {},
   "source": [
    "### Merge (some route IDs are missing because they don't have 0/1 populated in `direction_id`)"
   ]
  },
  {
   "cell_type": "code",
   "execution_count": 46,
   "id": "c558121e-48c0-44c4-b202-18ce408148e2",
   "metadata": {},
   "outputs": [
    {
     "data": {
      "text/html": [
       "<div>\n",
       "<style scoped>\n",
       "    .dataframe tbody tr th:only-of-type {\n",
       "        vertical-align: middle;\n",
       "    }\n",
       "\n",
       "    .dataframe tbody tr th {\n",
       "        vertical-align: top;\n",
       "    }\n",
       "\n",
       "    .dataframe thead th {\n",
       "        text-align: right;\n",
       "    }\n",
       "</style>\n",
       "<table border=\"1\" class=\"dataframe\">\n",
       "  <thead>\n",
       "    <tr style=\"text-align: right;\">\n",
       "      <th></th>\n",
       "      <th>schedule_gtfs_dataset_key</th>\n",
       "      <th>trip_instance_key</th>\n",
       "      <th>median_stop_meters</th>\n",
       "      <th>time_of_day</th>\n",
       "      <th>scheduled_service_minutes</th>\n",
       "      <th>route_id</th>\n",
       "      <th>direction_id</th>\n",
       "    </tr>\n",
       "  </thead>\n",
       "  <tbody>\n",
       "    <tr>\n",
       "      <th>0</th>\n",
       "      <td>0139b1253130b33adcd4b3a4490530d2</td>\n",
       "      <td>00b4bee9c4a71a1ffffd3e642c9a07f8</td>\n",
       "      <td>416.83</td>\n",
       "      <td>Midday</td>\n",
       "      <td>40.00</td>\n",
       "      <td>P2</td>\n",
       "      <td>0.00</td>\n",
       "    </tr>\n",
       "    <tr>\n",
       "      <th>1</th>\n",
       "      <td>0139b1253130b33adcd4b3a4490530d2</td>\n",
       "      <td>0102978f1e2ac86cff442d0c622e8dcb</td>\n",
       "      <td>387.20</td>\n",
       "      <td>PM Peak</td>\n",
       "      <td>30.00</td>\n",
       "      <td>P4</td>\n",
       "      <td>0.00</td>\n",
       "    </tr>\n",
       "  </tbody>\n",
       "</table>\n",
       "</div>"
      ],
      "text/plain": [
       "          schedule_gtfs_dataset_key                 trip_instance_key  \\\n",
       "0  0139b1253130b33adcd4b3a4490530d2  00b4bee9c4a71a1ffffd3e642c9a07f8   \n",
       "1  0139b1253130b33adcd4b3a4490530d2  0102978f1e2ac86cff442d0c622e8dcb   \n",
       "\n",
       "   median_stop_meters time_of_day  scheduled_service_minutes route_id  \\\n",
       "0              416.83      Midday                      40.00       P2   \n",
       "1              387.20     PM Peak                      30.00       P4   \n",
       "\n",
       "   direction_id  \n",
       "0          0.00  \n",
       "1          0.00  "
      ]
     },
     "execution_count": 46,
     "metadata": {},
     "output_type": "execute_result"
    }
   ],
   "source": [
    "df2.head(2)"
   ]
  },
  {
   "cell_type": "code",
   "execution_count": 47,
   "id": "6b80e20e-6877-493b-b395-12f23077c909",
   "metadata": {},
   "outputs": [
    {
     "data": {
      "text/html": [
       "<div>\n",
       "<style scoped>\n",
       "    .dataframe tbody tr th:only-of-type {\n",
       "        vertical-align: middle;\n",
       "    }\n",
       "\n",
       "    .dataframe tbody tr th {\n",
       "        vertical-align: top;\n",
       "    }\n",
       "\n",
       "    .dataframe thead th {\n",
       "        text-align: right;\n",
       "    }\n",
       "</style>\n",
       "<table border=\"1\" class=\"dataframe\">\n",
       "  <thead>\n",
       "    <tr style=\"text-align: right;\">\n",
       "      <th></th>\n",
       "      <th>route_id</th>\n",
       "      <th>schedule_gtfs_dataset_key</th>\n",
       "      <th>direction_id</th>\n",
       "      <th>stop_primary_direction</th>\n",
       "    </tr>\n",
       "  </thead>\n",
       "  <tbody>\n",
       "    <tr>\n",
       "      <th>0</th>\n",
       "      <td>001</td>\n",
       "      <td>cb3074eb8b423dfc5acfeeb0de95eb82</td>\n",
       "      <td>0.00</td>\n",
       "      <td>Westbound</td>\n",
       "    </tr>\n",
       "    <tr>\n",
       "      <th>1</th>\n",
       "      <td>001</td>\n",
       "      <td>cb3074eb8b423dfc5acfeeb0de95eb82</td>\n",
       "      <td>1.00</td>\n",
       "      <td>Eastbound</td>\n",
       "    </tr>\n",
       "  </tbody>\n",
       "</table>\n",
       "</div>"
      ],
      "text/plain": [
       "  route_id         schedule_gtfs_dataset_key  direction_id  \\\n",
       "0      001  cb3074eb8b423dfc5acfeeb0de95eb82          0.00   \n",
       "1      001  cb3074eb8b423dfc5acfeeb0de95eb82          1.00   \n",
       "\n",
       "  stop_primary_direction  \n",
       "0              Westbound  \n",
       "1              Eastbound  "
      ]
     },
     "execution_count": 47,
     "metadata": {},
     "output_type": "execute_result"
    }
   ],
   "source": [
    "cardinal_dir4.head(2)"
   ]
  },
  {
   "cell_type": "code",
   "execution_count": 48,
   "id": "dc2ba233-ef0d-4bb9-94cb-a411a2155dca",
   "metadata": {},
   "outputs": [
    {
     "data": {
      "text/plain": [
       "(1778, 1778)"
      ]
     },
     "execution_count": 48,
     "metadata": {},
     "output_type": "execute_result"
    }
   ],
   "source": [
    "cardinal_dir4.route_id.nunique(), df2.route_id.nunique()"
   ]
  },
  {
   "cell_type": "code",
   "execution_count": 49,
   "id": "fbda48c5-5314-48ab-9ab1-cac951fdcf35",
   "metadata": {},
   "outputs": [
    {
     "data": {
      "text/plain": [
       "(103451, 4408)"
      ]
     },
     "execution_count": 49,
     "metadata": {},
     "output_type": "execute_result"
    }
   ],
   "source": [
    "len(df2), len(cardinal_dir4)"
   ]
  },
  {
   "cell_type": "code",
   "execution_count": 50,
   "id": "3bce7e7c-4f58-479a-be5d-d8d74a85ed06",
   "metadata": {},
   "outputs": [
    {
     "data": {
      "text/plain": [
       "_merge    \n",
       "both          103451\n",
       "left_only          0\n",
       "right_only         0\n",
       "dtype: int64"
      ]
     },
     "execution_count": 50,
     "metadata": {},
     "output_type": "execute_result"
    }
   ],
   "source": [
    "pd.merge(\n",
    "    df2,\n",
    "    cardinal_dir4,\n",
    "    on=[\"schedule_gtfs_dataset_key\", \"route_id\", \"direction_id\"],\n",
    "    how=\"outer\",\n",
    "    indicator=True,\n",
    ")[[\"_merge\"]].value_counts()"
   ]
  },
  {
   "cell_type": "code",
   "execution_count": 51,
   "id": "fa59ed2e-1d80-41c5-a8e8-0563748ee7e0",
   "metadata": {},
   "outputs": [
    {
     "data": {
      "text/plain": [
       "_merge    \n",
       "both          103451\n",
       "left_only          0\n",
       "right_only         0\n",
       "dtype: int64"
      ]
     },
     "execution_count": 51,
     "metadata": {},
     "output_type": "execute_result"
    }
   ],
   "source": [
    "pd.merge(\n",
    "    df2,\n",
    "    cardinal_dir4,\n",
    "    on=[\"schedule_gtfs_dataset_key\", \"route_id\", \"direction_id\"],\n",
    "    how=\"inner\",\n",
    "    indicator=True,\n",
    ")[[\"_merge\"]].value_counts()"
   ]
  },
  {
   "cell_type": "code",
   "execution_count": 52,
   "id": "9ac6f726-a69e-4874-bb87-507e840f6885",
   "metadata": {},
   "outputs": [],
   "source": [
    "m1 = pd.merge(\n",
    "    df2,\n",
    "    cardinal_dir4,\n",
    "    on=[\"schedule_gtfs_dataset_key\", \"route_id\", \"direction_id\"],\n",
    "    how=\"inner\",\n",
    ")"
   ]
  },
  {
   "cell_type": "code",
   "execution_count": 53,
   "id": "0ef42100-5141-4ea9-b53f-5d9b252ef402",
   "metadata": {},
   "outputs": [
    {
     "data": {
      "text/plain": [
       "_merge    \n",
       "both          185236\n",
       "left_only          0\n",
       "right_only         0\n",
       "dtype: int64"
      ]
     },
     "execution_count": 53,
     "metadata": {},
     "output_type": "execute_result"
    }
   ],
   "source": [
    "pd.merge(\n",
    "    df2,\n",
    "    cardinal_dir4,\n",
    "    on=[\"schedule_gtfs_dataset_key\", \"route_id\"],\n",
    "    how=\"outer\",\n",
    "    indicator=True,\n",
    ")[[\"_merge\"]].value_counts()"
   ]
  },
  {
   "cell_type": "markdown",
   "id": "9a079af5-135c-4b32-a2e6-4f74aec2e2e3",
   "metadata": {},
   "source": [
    "#### How does harmonizing the route names fit into here? \n",
    "* [This script](https://github.com/cal-itp/data-analyses/blob/b1e5d4f870400251240eeba4a6515a0848e5d6f8/gtfs_funnel/clean_route_naming.py#L4)"
   ]
  },
  {
   "cell_type": "code",
   "execution_count": 54,
   "id": "5b7e70c0-1a0c-4363-b87e-454313dbdb27",
   "metadata": {},
   "outputs": [
    {
     "data": {
      "text/html": [
       "<div>\n",
       "<style scoped>\n",
       "    .dataframe tbody tr th:only-of-type {\n",
       "        vertical-align: middle;\n",
       "    }\n",
       "\n",
       "    .dataframe tbody tr th {\n",
       "        vertical-align: top;\n",
       "    }\n",
       "\n",
       "    .dataframe thead th {\n",
       "        text-align: right;\n",
       "    }\n",
       "</style>\n",
       "<table border=\"1\" class=\"dataframe\">\n",
       "  <thead>\n",
       "    <tr style=\"text-align: right;\">\n",
       "      <th></th>\n",
       "      <th>schedule_gtfs_dataset_key</th>\n",
       "      <th>trip_instance_key</th>\n",
       "      <th>median_stop_meters</th>\n",
       "      <th>time_of_day</th>\n",
       "      <th>scheduled_service_minutes</th>\n",
       "      <th>route_id</th>\n",
       "      <th>direction_id</th>\n",
       "      <th>stop_primary_direction</th>\n",
       "    </tr>\n",
       "  </thead>\n",
       "  <tbody>\n",
       "    <tr>\n",
       "      <th>0</th>\n",
       "      <td>0139b1253130b33adcd4b3a4490530d2</td>\n",
       "      <td>00b4bee9c4a71a1ffffd3e642c9a07f8</td>\n",
       "      <td>416.83</td>\n",
       "      <td>Midday</td>\n",
       "      <td>40.00</td>\n",
       "      <td>P2</td>\n",
       "      <td>0.00</td>\n",
       "      <td>Westbound</td>\n",
       "    </tr>\n",
       "    <tr>\n",
       "      <th>1</th>\n",
       "      <td>0139b1253130b33adcd4b3a4490530d2</td>\n",
       "      <td>1813b6df69d2559a6b55935bc9c251d6</td>\n",
       "      <td>416.83</td>\n",
       "      <td>PM Peak</td>\n",
       "      <td>40.00</td>\n",
       "      <td>P2</td>\n",
       "      <td>0.00</td>\n",
       "      <td>Westbound</td>\n",
       "    </tr>\n",
       "    <tr>\n",
       "      <th>2</th>\n",
       "      <td>0139b1253130b33adcd4b3a4490530d2</td>\n",
       "      <td>18950c64fc31d8452eea43d51a79014e</td>\n",
       "      <td>416.83</td>\n",
       "      <td>Midday</td>\n",
       "      <td>40.00</td>\n",
       "      <td>P2</td>\n",
       "      <td>0.00</td>\n",
       "      <td>Westbound</td>\n",
       "    </tr>\n",
       "  </tbody>\n",
       "</table>\n",
       "</div>"
      ],
      "text/plain": [
       "          schedule_gtfs_dataset_key                 trip_instance_key  \\\n",
       "0  0139b1253130b33adcd4b3a4490530d2  00b4bee9c4a71a1ffffd3e642c9a07f8   \n",
       "1  0139b1253130b33adcd4b3a4490530d2  1813b6df69d2559a6b55935bc9c251d6   \n",
       "2  0139b1253130b33adcd4b3a4490530d2  18950c64fc31d8452eea43d51a79014e   \n",
       "\n",
       "   median_stop_meters time_of_day  scheduled_service_minutes route_id  \\\n",
       "0              416.83      Midday                      40.00       P2   \n",
       "1              416.83     PM Peak                      40.00       P2   \n",
       "2              416.83      Midday                      40.00       P2   \n",
       "\n",
       "   direction_id stop_primary_direction  \n",
       "0          0.00              Westbound  \n",
       "1          0.00              Westbound  \n",
       "2          0.00              Westbound  "
      ]
     },
     "execution_count": 54,
     "metadata": {},
     "output_type": "execute_result"
    }
   ],
   "source": [
    "m1.head(3)"
   ]
  },
  {
   "cell_type": "code",
   "execution_count": 55,
   "id": "30851c84-9d10-43e3-a15a-b029b49ae0eb",
   "metadata": {},
   "outputs": [
    {
     "name": "stdout",
     "output_type": "stream",
     "text": [
      "<class 'pandas.core.frame.DataFrame'>\n",
      "Int64Index: 103451 entries, 0 to 103450\n",
      "Data columns (total 8 columns):\n",
      " #   Column                     Non-Null Count   Dtype  \n",
      "---  ------                     --------------   -----  \n",
      " 0   schedule_gtfs_dataset_key  103451 non-null  object \n",
      " 1   trip_instance_key          103451 non-null  object \n",
      " 2   median_stop_meters         103447 non-null  float64\n",
      " 3   time_of_day                103451 non-null  object \n",
      " 4   scheduled_service_minutes  103451 non-null  float64\n",
      " 5   route_id                   103451 non-null  object \n",
      " 6   direction_id               103451 non-null  float64\n",
      " 7   stop_primary_direction     103451 non-null  object \n",
      "dtypes: float64(3), object(5)\n",
      "memory usage: 7.1+ MB\n"
     ]
    }
   ],
   "source": [
    "m1.info()"
   ]
  },
  {
   "cell_type": "markdown",
   "id": "1cc7ef3f-22bc-435f-9206-f58fa7e4b2ab",
   "metadata": {},
   "source": [
    "### Final"
   ]
  },
  {
   "cell_type": "code",
   "execution_count": 56,
   "id": "c0aebdc1-3ffa-40d3-a42e-47e810a77934",
   "metadata": {},
   "outputs": [],
   "source": [
    "def find_most_common_dir(\n",
    "    stop_times_gdf: gpd.GeoDataFrame,\n",
    "    trips_to_route_df: pd.DataFrame,\n",
    ") -> pd.DataFrame:\n",
    "    \"\"\"\n",
    "    Load load_scheduled_trips() and load_scheduled_stop_times()\n",
    "    \"\"\"\n",
    "    stop_times_col = [\n",
    "        \"feed_key\",\n",
    "        \"stop_id\",\n",
    "        \"stop_sequence\",\n",
    "        \"schedule_gtfs_dataset_key\",\n",
    "        \"trip_instance_key\",\n",
    "        \"shape_array_key\",\n",
    "        \"stop_name\",\n",
    "        \"prior_stop_sequence\",\n",
    "        \"subseq_stop_sequence\",\n",
    "        \"stop_pair\",\n",
    "        \"stop_pair_name\",\n",
    "        \"stop_primary_direction\",\n",
    "        \"stop_meters\",\n",
    "    ]\n",
    "\n",
    "    stop_times_gdf2 = stop_times_gdf[stop_times_col]\n",
    "\n",
    "    # Merge dfs\n",
    "    merge_cols = [\"trip_instance_key\", \"schedule_gtfs_dataset_key\", \"shape_array_key\"]\n",
    "\n",
    "    df1 = pd.merge(stop_times_gdf2, trips_to_route_df, on=merge_cols, how=\"inner\")\n",
    "    df1.direction_id = df1.direction_id.fillna(0)\n",
    "    \n",
    "    agg1 = (\n",
    "        df1.groupby(\n",
    "            [\n",
    "                \"route_id\",\n",
    "                \"schedule_gtfs_dataset_key\",\n",
    "                \"direction_id\",\n",
    "                \"stop_primary_direction\",\n",
    "            ]\n",
    "        )\n",
    "        .agg({\"stop_sequence\": \"count\"})\n",
    "        .reset_index()\n",
    "        .rename(columns={\"stop_sequence\": \"total_stops\"})\n",
    "    )\n",
    "\n",
    "    # Sort and drop duplicates so that the\n",
    "    # largest # of stops by stop_primary_direction is at the top\n",
    "    agg2 = agg1.sort_values(\n",
    "        by=[\"route_id\", \"schedule_gtfs_dataset_key\", \"direction_id\", \"total_stops\"],\n",
    "        ascending=[True, True, True, False],\n",
    "    )\n",
    "\n",
    "    # Drop duplicates so only the top stop_primary_direction is kept.\n",
    "    agg3 = agg2.drop_duplicates(\n",
    "    subset=[\n",
    "        \"route_id\",\n",
    "        \"schedule_gtfs_dataset_key\",\n",
    "        \"direction_id\",\n",
    "    ]).reset_index(drop=True)\n",
    "    \n",
    "    agg3 = agg3.drop(columns=[\"total_stops\"])\n",
    "    \n",
    "    \n",
    "    \n",
    "    return agg3"
   ]
  },
  {
   "cell_type": "code",
   "execution_count": 57,
   "id": "879e1f23-9b6b-4911-8320-e12232dd38aa",
   "metadata": {},
   "outputs": [],
   "source": [
    "def assemble_scheduled_trip_metrics(\n",
    "    analysis_date: str, \n",
    "    dict_inputs: dict\n",
    ") -> pd.DataFrame:\n",
    "    \"\"\"\n",
    "    Get GTFS schedule trip metrics including time-of-day buckets,\n",
    "    scheduled service minutes, and median stop spacing.\n",
    "    \"\"\"\n",
    "    STOP_TIMES_FILE = dict_inputs.rt_vs_schedule_tables.stop_times_direction\n",
    "    \n",
    "    # Load files\n",
    "    df = gpd.read_parquet(\n",
    "        f\"{RT_SCHED_GCS}{STOP_TIMES_FILE}_{analysis_date}.parquet\"\n",
    "    )\n",
    "    \n",
    "    scheduled_col = [\n",
    "    \"route_id\",\n",
    "    \"trip_instance_key\",\n",
    "    \"gtfs_dataset_key\",\n",
    "    \"shape_array_key\",\n",
    "    \"direction_id\",\n",
    "    \"route_long_name\",\n",
    "    \"route_short_name\",\n",
    "    \"route_desc\",\n",
    "    \"name\"\n",
    "    ]\n",
    "    \n",
    "    trips_to_route = helpers.import_scheduled_trips(\n",
    "        analysis_date,\n",
    "        columns = scheduled_col,\n",
    "        get_pandas = True\n",
    "    )\n",
    "    \n",
    "    \n",
    "    time_of_day = (gtfs_schedule_wrangling.get_trip_time_buckets(analysis_date)   \n",
    "                   [[\"trip_instance_key\", \"time_of_day\", \n",
    "                     \"scheduled_service_minutes\"]]\n",
    "              )\n",
    "    \n",
    "    trip_cols = [\"schedule_gtfs_dataset_key\", \"trip_instance_key\"]\n",
    "    \n",
    "    grouped_df = df.groupby(trip_cols, observed=True, group_keys=False)\n",
    "    \n",
    "    trips_to_route_cols_subset = [\"trip_instance_key\", \"route_id\", \"direction_id\"]\n",
    "    # Get median / mean stop meters for the trip\n",
    "    # Attach time-of-day and route_id and direction_id\n",
    "    # Merge using a subset\n",
    "    median_stop_meters_df= pd.merge(\n",
    "        grouped_df.agg({\"stop_meters\": \"median\"}).reset_index().rename(\n",
    "            columns = {\"stop_meters\": \"median_stop_meters\"}),\n",
    "        time_of_day,\n",
    "        on = \"trip_instance_key\",\n",
    "        how = \"left\"\n",
    "    ).merge(\n",
    "        trips_to_route[trips_to_route_cols_subset],\n",
    "        on = \"trip_instance_key\",\n",
    "        how = \"inner\"\n",
    "    )\n",
    "    \n",
    "    median_stop_meters_df.direction_id = median_stop_meters_df.direction_id.fillna(0)\n",
    "    \n",
    "    # Get cardinal direction\n",
    "    cardinal_direction_df = find_most_common_dir(df,trips_to_route)\n",
    "    \n",
    "    # Merge everything together\n",
    "    m1 = pd.merge(\n",
    "    median_stop_meters_df,\n",
    "    cardinal_direction_df,\n",
    "    on=[\"schedule_gtfs_dataset_key\", \"route_id\", \"direction_id\"],\n",
    "    how=\"inner\")\n",
    "    \n",
    "    return m1"
   ]
  },
  {
   "cell_type": "code",
   "execution_count": 58,
   "id": "9c3dc0af-557a-4c27-abb1-2c3692cceb4c",
   "metadata": {},
   "outputs": [],
   "source": [
    "test = assemble_scheduled_trip_metrics(analysis_date, GTFS_DATA_DICT)"
   ]
  },
  {
   "cell_type": "code",
   "execution_count": 59,
   "id": "6ba23f1d-51f3-4dce-978e-f0dde85e541b",
   "metadata": {},
   "outputs": [
    {
     "data": {
      "text/html": [
       "<div>\n",
       "<style scoped>\n",
       "    .dataframe tbody tr th:only-of-type {\n",
       "        vertical-align: middle;\n",
       "    }\n",
       "\n",
       "    .dataframe tbody tr th {\n",
       "        vertical-align: top;\n",
       "    }\n",
       "\n",
       "    .dataframe thead th {\n",
       "        text-align: right;\n",
       "    }\n",
       "</style>\n",
       "<table border=\"1\" class=\"dataframe\">\n",
       "  <thead>\n",
       "    <tr style=\"text-align: right;\">\n",
       "      <th></th>\n",
       "      <th>schedule_gtfs_dataset_key</th>\n",
       "      <th>trip_instance_key</th>\n",
       "      <th>median_stop_meters</th>\n",
       "      <th>time_of_day</th>\n",
       "      <th>scheduled_service_minutes</th>\n",
       "      <th>route_id</th>\n",
       "      <th>direction_id</th>\n",
       "      <th>stop_primary_direction</th>\n",
       "    </tr>\n",
       "  </thead>\n",
       "  <tbody>\n",
       "    <tr>\n",
       "      <th>0</th>\n",
       "      <td>0139b1253130b33adcd4b3a4490530d2</td>\n",
       "      <td>00b4bee9c4a71a1ffffd3e642c9a07f8</td>\n",
       "      <td>416.83</td>\n",
       "      <td>Midday</td>\n",
       "      <td>40.00</td>\n",
       "      <td>P2</td>\n",
       "      <td>0.00</td>\n",
       "      <td>Westbound</td>\n",
       "    </tr>\n",
       "    <tr>\n",
       "      <th>1</th>\n",
       "      <td>0139b1253130b33adcd4b3a4490530d2</td>\n",
       "      <td>1813b6df69d2559a6b55935bc9c251d6</td>\n",
       "      <td>416.83</td>\n",
       "      <td>PM Peak</td>\n",
       "      <td>40.00</td>\n",
       "      <td>P2</td>\n",
       "      <td>0.00</td>\n",
       "      <td>Westbound</td>\n",
       "    </tr>\n",
       "    <tr>\n",
       "      <th>2</th>\n",
       "      <td>0139b1253130b33adcd4b3a4490530d2</td>\n",
       "      <td>18950c64fc31d8452eea43d51a79014e</td>\n",
       "      <td>416.83</td>\n",
       "      <td>Midday</td>\n",
       "      <td>40.00</td>\n",
       "      <td>P2</td>\n",
       "      <td>0.00</td>\n",
       "      <td>Westbound</td>\n",
       "    </tr>\n",
       "    <tr>\n",
       "      <th>3</th>\n",
       "      <td>0139b1253130b33adcd4b3a4490530d2</td>\n",
       "      <td>1f8b0f73bd19df77ed2a53326cb42b09</td>\n",
       "      <td>425.64</td>\n",
       "      <td>Midday</td>\n",
       "      <td>36.00</td>\n",
       "      <td>P2</td>\n",
       "      <td>0.00</td>\n",
       "      <td>Westbound</td>\n",
       "    </tr>\n",
       "    <tr>\n",
       "      <th>4</th>\n",
       "      <td>0139b1253130b33adcd4b3a4490530d2</td>\n",
       "      <td>2c20ea3bfc355c168eccba16ad62a018</td>\n",
       "      <td>425.64</td>\n",
       "      <td>PM Peak</td>\n",
       "      <td>36.00</td>\n",
       "      <td>P2</td>\n",
       "      <td>0.00</td>\n",
       "      <td>Westbound</td>\n",
       "    </tr>\n",
       "  </tbody>\n",
       "</table>\n",
       "</div>"
      ],
      "text/plain": [
       "          schedule_gtfs_dataset_key                 trip_instance_key  \\\n",
       "0  0139b1253130b33adcd4b3a4490530d2  00b4bee9c4a71a1ffffd3e642c9a07f8   \n",
       "1  0139b1253130b33adcd4b3a4490530d2  1813b6df69d2559a6b55935bc9c251d6   \n",
       "2  0139b1253130b33adcd4b3a4490530d2  18950c64fc31d8452eea43d51a79014e   \n",
       "3  0139b1253130b33adcd4b3a4490530d2  1f8b0f73bd19df77ed2a53326cb42b09   \n",
       "4  0139b1253130b33adcd4b3a4490530d2  2c20ea3bfc355c168eccba16ad62a018   \n",
       "\n",
       "   median_stop_meters time_of_day  scheduled_service_minutes route_id  \\\n",
       "0              416.83      Midday                      40.00       P2   \n",
       "1              416.83     PM Peak                      40.00       P2   \n",
       "2              416.83      Midday                      40.00       P2   \n",
       "3              425.64      Midday                      36.00       P2   \n",
       "4              425.64     PM Peak                      36.00       P2   \n",
       "\n",
       "   direction_id stop_primary_direction  \n",
       "0          0.00              Westbound  \n",
       "1          0.00              Westbound  \n",
       "2          0.00              Westbound  \n",
       "3          0.00              Westbound  \n",
       "4          0.00              Westbound  "
      ]
     },
     "execution_count": 59,
     "metadata": {},
     "output_type": "execute_result"
    }
   ],
   "source": [
    "test.head()"
   ]
  },
  {
   "cell_type": "code",
   "execution_count": 60,
   "id": "6f87b748-f5d0-474d-b5ab-022e787a2bad",
   "metadata": {},
   "outputs": [
    {
     "data": {
      "text/plain": [
       "(103451, 8)"
      ]
     },
     "execution_count": 60,
     "metadata": {},
     "output_type": "execute_result"
    }
   ],
   "source": [
    "test.shape"
   ]
  },
  {
   "cell_type": "code",
   "execution_count": 61,
   "id": "1c491416-5346-403a-a97d-316f13f6085b",
   "metadata": {},
   "outputs": [],
   "source": [
    "route_cols = [\n",
    "            \"schedule_gtfs_dataset_key\", \n",
    "            \"route_id\", \n",
    "            \"direction_id\"\n",
    "        ]"
   ]
  },
  {
   "cell_type": "code",
   "execution_count": 62,
   "id": "487fee12-e15a-41dd-b040-1d8de4a73057",
   "metadata": {},
   "outputs": [],
   "source": [
    "import sys\n",
    "sys.path.append(\"../gtfs_funnel\")\n",
    "import schedule_stats_by_route_direction"
   ]
  },
  {
   "cell_type": "code",
   "execution_count": 63,
   "id": "b1f0dc58-87bb-4519-b5ef-d3661ff4f370",
   "metadata": {},
   "outputs": [],
   "source": [
    "route_dir_metrics = schedule_stats_by_route_direction.schedule_metrics_by_route_direction(\n",
    "            test, analysis_date, route_cols)"
   ]
  },
  {
   "cell_type": "code",
   "execution_count": 64,
   "id": "6d3fa79c-b16e-49a4-b8fa-1c490e5fec14",
   "metadata": {},
   "outputs": [],
   "source": [
    "ROUTE_TYPOLOGIES = GTFS_DATA_DICT.schedule_tables.route_typologies"
   ]
  },
  {
   "cell_type": "code",
   "execution_count": 65,
   "id": "f1672890-a330-45c1-9c2e-c7a35b786aee",
   "metadata": {},
   "outputs": [],
   "source": [
    "route_typologies = pd.read_parquet(\n",
    "            f\"{SCHED_GCS}{ROUTE_TYPOLOGIES}_{analysis_date}.parquet\",\n",
    "            columns = route_cols + [\n",
    "                \"is_coverage\", \"is_downtown_local\", \n",
    "                \"is_local\", \"is_rapid\", \"is_express\", \"is_rail\"]\n",
    "        )"
   ]
  },
  {
   "cell_type": "code",
   "execution_count": 66,
   "id": "8e848b0e-5f1c-485d-9f62-c249e4576454",
   "metadata": {},
   "outputs": [],
   "source": [
    "route_dir_metrics2 = pd.merge(\n",
    "            route_dir_metrics,\n",
    "            route_typologies,\n",
    "            on = route_cols,\n",
    "            how = \"left\"\n",
    "        )"
   ]
  },
  {
   "cell_type": "code",
   "execution_count": 67,
   "id": "ed49cddf-ee3a-43c3-9cdf-98f852d52f10",
   "metadata": {},
   "outputs": [
    {
     "data": {
      "text/html": [
       "<div>\n",
       "<style scoped>\n",
       "    .dataframe tbody tr th:only-of-type {\n",
       "        vertical-align: middle;\n",
       "    }\n",
       "\n",
       "    .dataframe tbody tr th {\n",
       "        vertical-align: top;\n",
       "    }\n",
       "\n",
       "    .dataframe thead th {\n",
       "        text-align: right;\n",
       "    }\n",
       "</style>\n",
       "<table border=\"1\" class=\"dataframe\">\n",
       "  <thead>\n",
       "    <tr style=\"text-align: right;\">\n",
       "      <th></th>\n",
       "      <th>schedule_gtfs_dataset_key</th>\n",
       "      <th>route_id</th>\n",
       "      <th>direction_id</th>\n",
       "      <th>common_shape_id</th>\n",
       "      <th>route_name</th>\n",
       "      <th>avg_scheduled_service_minutes</th>\n",
       "      <th>avg_stop_miles</th>\n",
       "      <th>n_trips</th>\n",
       "      <th>time_period</th>\n",
       "      <th>frequency</th>\n",
       "      <th>is_coverage</th>\n",
       "      <th>is_downtown_local</th>\n",
       "      <th>is_local</th>\n",
       "      <th>is_rapid</th>\n",
       "      <th>is_express</th>\n",
       "      <th>is_rail</th>\n",
       "    </tr>\n",
       "  </thead>\n",
       "  <tbody>\n",
       "    <tr>\n",
       "      <th>0</th>\n",
       "      <td>36b8fbf12e4adc76b21651462b200860</td>\n",
       "      <td>569</td>\n",
       "      <td>1.00</td>\n",
       "      <td>p_859</td>\n",
       "      <td>Sacramento</td>\n",
       "      <td>94.00</td>\n",
       "      <td>2.61</td>\n",
       "      <td>2</td>\n",
       "      <td>all_day</td>\n",
       "      <td>0.08</td>\n",
       "      <td>1.00</td>\n",
       "      <td>0.00</td>\n",
       "      <td>0.00</td>\n",
       "      <td>0.00</td>\n",
       "      <td>0.00</td>\n",
       "      <td>0.00</td>\n",
       "    </tr>\n",
       "    <tr>\n",
       "      <th>1</th>\n",
       "      <td>36b8fbf12e4adc76b21651462b200860</td>\n",
       "      <td>569</td>\n",
       "      <td>1.00</td>\n",
       "      <td>p_859</td>\n",
       "      <td>Sacramento</td>\n",
       "      <td>94.00</td>\n",
       "      <td>2.61</td>\n",
       "      <td>1</td>\n",
       "      <td>offpeak</td>\n",
       "      <td>0.06</td>\n",
       "      <td>1.00</td>\n",
       "      <td>0.00</td>\n",
       "      <td>0.00</td>\n",
       "      <td>0.00</td>\n",
       "      <td>0.00</td>\n",
       "      <td>0.00</td>\n",
       "    </tr>\n",
       "    <tr>\n",
       "      <th>2</th>\n",
       "      <td>36b8fbf12e4adc76b21651462b200860</td>\n",
       "      <td>569</td>\n",
       "      <td>1.00</td>\n",
       "      <td>p_859</td>\n",
       "      <td>Sacramento</td>\n",
       "      <td>94.00</td>\n",
       "      <td>2.61</td>\n",
       "      <td>1</td>\n",
       "      <td>peak</td>\n",
       "      <td>0.12</td>\n",
       "      <td>1.00</td>\n",
       "      <td>0.00</td>\n",
       "      <td>0.00</td>\n",
       "      <td>0.00</td>\n",
       "      <td>0.00</td>\n",
       "      <td>0.00</td>\n",
       "    </tr>\n",
       "    <tr>\n",
       "      <th>3</th>\n",
       "      <td>36b8fbf12e4adc76b21651462b200860</td>\n",
       "      <td>569</td>\n",
       "      <td>0.00</td>\n",
       "      <td>p_867</td>\n",
       "      <td>Sacramento</td>\n",
       "      <td>87.50</td>\n",
       "      <td>3.46</td>\n",
       "      <td>2</td>\n",
       "      <td>all_day</td>\n",
       "      <td>0.08</td>\n",
       "      <td>1.00</td>\n",
       "      <td>0.00</td>\n",
       "      <td>0.00</td>\n",
       "      <td>0.00</td>\n",
       "      <td>0.00</td>\n",
       "      <td>0.00</td>\n",
       "    </tr>\n",
       "    <tr>\n",
       "      <th>4</th>\n",
       "      <td>36b8fbf12e4adc76b21651462b200860</td>\n",
       "      <td>569</td>\n",
       "      <td>0.00</td>\n",
       "      <td>p_867</td>\n",
       "      <td>Sacramento</td>\n",
       "      <td>87.50</td>\n",
       "      <td>3.46</td>\n",
       "      <td>2</td>\n",
       "      <td>peak</td>\n",
       "      <td>0.25</td>\n",
       "      <td>1.00</td>\n",
       "      <td>0.00</td>\n",
       "      <td>0.00</td>\n",
       "      <td>0.00</td>\n",
       "      <td>0.00</td>\n",
       "      <td>0.00</td>\n",
       "    </tr>\n",
       "  </tbody>\n",
       "</table>\n",
       "</div>"
      ],
      "text/plain": [
       "          schedule_gtfs_dataset_key route_id  direction_id common_shape_id  \\\n",
       "0  36b8fbf12e4adc76b21651462b200860      569          1.00           p_859   \n",
       "1  36b8fbf12e4adc76b21651462b200860      569          1.00           p_859   \n",
       "2  36b8fbf12e4adc76b21651462b200860      569          1.00           p_859   \n",
       "3  36b8fbf12e4adc76b21651462b200860      569          0.00           p_867   \n",
       "4  36b8fbf12e4adc76b21651462b200860      569          0.00           p_867   \n",
       "\n",
       "   route_name  avg_scheduled_service_minutes  avg_stop_miles  n_trips  \\\n",
       "0  Sacramento                          94.00            2.61        2   \n",
       "1  Sacramento                          94.00            2.61        1   \n",
       "2  Sacramento                          94.00            2.61        1   \n",
       "3  Sacramento                          87.50            3.46        2   \n",
       "4  Sacramento                          87.50            3.46        2   \n",
       "\n",
       "  time_period  frequency  is_coverage  is_downtown_local  is_local  is_rapid  \\\n",
       "0     all_day       0.08         1.00               0.00      0.00      0.00   \n",
       "1     offpeak       0.06         1.00               0.00      0.00      0.00   \n",
       "2        peak       0.12         1.00               0.00      0.00      0.00   \n",
       "3     all_day       0.08         1.00               0.00      0.00      0.00   \n",
       "4        peak       0.25         1.00               0.00      0.00      0.00   \n",
       "\n",
       "   is_express  is_rail  \n",
       "0        0.00     0.00  \n",
       "1        0.00     0.00  \n",
       "2        0.00     0.00  \n",
       "3        0.00     0.00  \n",
       "4        0.00     0.00  "
      ]
     },
     "execution_count": 67,
     "metadata": {},
     "output_type": "execute_result"
    }
   ],
   "source": [
    "route_dir_metrics2.head().drop(columns = ['geometry'\n",
    "])"
   ]
  },
  {
   "cell_type": "code",
   "execution_count": null,
   "id": "00a9b992-8315-4e75-955f-9f2831656072",
   "metadata": {},
   "outputs": [],
   "source": []
  }
 ],
 "metadata": {
  "kernelspec": {
   "display_name": "Python 3 (ipykernel)",
   "language": "python",
   "name": "python3"
  },
  "language_info": {
   "codemirror_mode": {
    "name": "ipython",
    "version": 3
   },
   "file_extension": ".py",
   "mimetype": "text/x-python",
   "name": "python",
   "nbconvert_exporter": "python",
   "pygments_lexer": "ipython3",
   "version": "3.9.13"
  }
 },
 "nbformat": 4,
 "nbformat_minor": 5
}
