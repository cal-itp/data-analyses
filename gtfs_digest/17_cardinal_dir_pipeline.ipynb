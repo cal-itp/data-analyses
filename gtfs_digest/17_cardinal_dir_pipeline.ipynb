{
 "cells": [
  {
   "cell_type": "markdown",
   "id": "e839408b-3674-4674-abfe-ff41188541d5",
   "metadata": {},
   "source": [
    "## Adding Cardinal Direction into Pipeline\n",
    "* Editing [this file](https://github.com/cal-itp/data-analyses/blob/ah_gtfs_portfolio/gtfs_funnel/schedule_stats_by_route_direction.py#L23)"
   ]
  },
  {
   "cell_type": "code",
   "execution_count": 1,
   "id": "2060270d-dd34-4098-9414-5e17186f0356",
   "metadata": {},
   "outputs": [],
   "source": [
    "import _section2_utils as section2\n",
    "import geopandas as gpd\n",
    "import numpy as np\n",
    "import pandas as pd\n",
    "from segment_speed_utils import gtfs_schedule_wrangling, helpers, time_series_utils\n",
    "from segment_speed_utils.project_vars import (\n",
    "    COMPILED_CACHED_VIEWS,\n",
    "    GTFS_DATA_DICT,\n",
    "    PROJECT_CRS,\n",
    "    RT_SCHED_GCS,\n",
    "    SCHED_GCS,\n",
    "    SEGMENT_GCS,\n",
    ")\n",
    "from shared_utils import catalog_utils, rt_dates, rt_utils"
   ]
  },
  {
   "cell_type": "code",
   "execution_count": 2,
   "id": "11579aea-8070-4a19-a4a8-1c459251421a",
   "metadata": {},
   "outputs": [],
   "source": [
    "pd.options.display.max_columns = 100\n",
    "pd.options.display.float_format = \"{:.2f}\".format\n",
    "pd.set_option(\"display.max_rows\", None)\n",
    "pd.set_option(\"display.max_colwidth\", None)"
   ]
  },
  {
   "cell_type": "code",
   "execution_count": 3,
   "id": "c47c1ea4-426b-4b28-9cc7-e522669d4692",
   "metadata": {},
   "outputs": [
    {
     "data": {
      "text/plain": [
       "'gs://calitp-analytics-data/data-analyses/rt_vs_schedule/'"
      ]
     },
     "execution_count": 3,
     "metadata": {},
     "output_type": "execute_result"
    }
   ],
   "source": [
    "RT_SCHED_GCS"
   ]
  },
  {
   "cell_type": "code",
   "execution_count": 4,
   "id": "9e6b4ec3-2ba9-4a49-a365-8eb65971f1fd",
   "metadata": {},
   "outputs": [
    {
     "data": {
      "text/plain": [
       "'stop_times_direction'"
      ]
     },
     "execution_count": 4,
     "metadata": {},
     "output_type": "execute_result"
    }
   ],
   "source": [
    "GTFS_DATA_DICT.rt_vs_schedule_tables.stop_times_direction"
   ]
  },
  {
   "cell_type": "code",
   "execution_count": 5,
   "id": "b1fd4d42-974c-45ac-9f97-55805ae6253b",
   "metadata": {},
   "outputs": [],
   "source": [
    "analysis_date = \"2024-04-16\""
   ]
  },
  {
   "cell_type": "code",
   "execution_count": 6,
   "id": "908d4b24-bb2b-49e6-92fa-3849d83b8d43",
   "metadata": {},
   "outputs": [
    {
     "data": {
      "text/plain": [
       "'schedule_trip/schedule_trip_metrics'"
      ]
     },
     "execution_count": 6,
     "metadata": {},
     "output_type": "execute_result"
    }
   ],
   "source": [
    "GTFS_DATA_DICT.rt_vs_schedule_tables.sched_trip_metrics"
   ]
  },
  {
   "cell_type": "markdown",
   "id": "b1d223ac-d7fd-49e2-8f45-20cf0a0484db",
   "metadata": {},
   "source": [
    "## Seeing my changes in `gtfs_funnel/schedule_stats_by_route_direction.py` 6/7"
   ]
  },
  {
   "cell_type": "markdown",
   "id": "d84d79fa-a0c3-4750-a349-458506e06122",
   "metadata": {},
   "source": [
    "#### `schedule_route_dir`"
   ]
  },
  {
   "cell_type": "code",
   "execution_count": 7,
   "id": "d9187a08-6617-4e50-bcae-cadbafd3884f",
   "metadata": {},
   "outputs": [],
   "source": [
    "sched_route = GTFS_DATA_DICT.rt_vs_schedule_tables.sched_route_direction_metrics"
   ]
  },
  {
   "cell_type": "code",
   "execution_count": 8,
   "id": "42b96d02-efc3-4cc0-ab38-cf23738d5a4b",
   "metadata": {},
   "outputs": [],
   "source": [
    "# gs://calitp-analytics-data/data-analyses/rt_vs_schedule/schedule_route_dir/schedule_route_direction_metrics_2024-04-15_AH_TESTING.parquet"
   ]
  },
  {
   "cell_type": "code",
   "execution_count": 9,
   "id": "d53ed116-819e-47ec-b4ef-b057bd5dc653",
   "metadata": {},
   "outputs": [],
   "source": [
    "route_url = f\"{RT_SCHED_GCS}{sched_route}_AH_TESTING_\""
   ]
  },
  {
   "cell_type": "code",
   "execution_count": 10,
   "id": "f9a7e838-ec85-4112-af16-bcc49c6957f0",
   "metadata": {},
   "outputs": [],
   "source": [
    "# https://storage.cloud.google.com/calitp-analytics-data/data-analyses/rt_vs_schedule/schedule_route_dir/schedule_route_direction_metrics_AH_TESTING_2024-04-15.parquet"
   ]
  },
  {
   "cell_type": "code",
   "execution_count": 11,
   "id": "e2fc179d-39ce-4caf-bd2a-d6b62c22a670",
   "metadata": {},
   "outputs": [],
   "source": [
    "apr_15_routes = pd.read_parquet(f\"{route_url}2024-04-15.parquet\")"
   ]
  },
  {
   "cell_type": "code",
   "execution_count": 12,
   "id": "592aec29-27ff-4e5c-81b0-51d48f191ecb",
   "metadata": {},
   "outputs": [],
   "source": [
    "apr_16_routes = pd.read_parquet(f\"{route_url}2024-04-16.parquet\")"
   ]
  },
  {
   "cell_type": "code",
   "execution_count": 13,
   "id": "ab6f32c8-0e74-4ca0-8f6b-c979409e363c",
   "metadata": {},
   "outputs": [
    {
     "data": {
      "text/html": [
       "<div>\n",
       "<style scoped>\n",
       "    .dataframe tbody tr th:only-of-type {\n",
       "        vertical-align: middle;\n",
       "    }\n",
       "\n",
       "    .dataframe tbody tr th {\n",
       "        vertical-align: top;\n",
       "    }\n",
       "\n",
       "    .dataframe thead th {\n",
       "        text-align: right;\n",
       "    }\n",
       "</style>\n",
       "<table border=\"1\" class=\"dataframe\">\n",
       "  <thead>\n",
       "    <tr style=\"text-align: right;\">\n",
       "      <th></th>\n",
       "      <th>schedule_gtfs_dataset_key</th>\n",
       "      <th>route_id</th>\n",
       "      <th>direction_id</th>\n",
       "      <th>common_shape_id</th>\n",
       "      <th>route_name</th>\n",
       "      <th>stop_primary_direction</th>\n",
       "      <th>avg_scheduled_service_minutes</th>\n",
       "      <th>avg_stop_miles</th>\n",
       "      <th>n_trips</th>\n",
       "      <th>time_period</th>\n",
       "      <th>frequency</th>\n",
       "      <th>is_coverage</th>\n",
       "      <th>is_downtown_local</th>\n",
       "      <th>is_local</th>\n",
       "      <th>is_rapid</th>\n",
       "      <th>is_express</th>\n",
       "      <th>is_rail</th>\n",
       "    </tr>\n",
       "  </thead>\n",
       "  <tbody>\n",
       "    <tr>\n",
       "      <th>0</th>\n",
       "      <td>3c62ad6ee589d56eca915ce291a5df0a</td>\n",
       "      <td>2b5c285d-29b2-4d19-8f12-f85348cd832e</td>\n",
       "      <td>0.00</td>\n",
       "      <td>ea5549cf-85a1-4f9e-a4e4-39e53493d2d1</td>\n",
       "      <td>WEST SACRAMENTO SHUTTLE - 240</td>\n",
       "      <td>Westbound</td>\n",
       "      <td>50.00</td>\n",
       "      <td>0.21</td>\n",
       "      <td>12</td>\n",
       "      <td>all_day</td>\n",
       "      <td>0.50</td>\n",
       "      <td>1.00</td>\n",
       "      <td>0.00</td>\n",
       "      <td>0.00</td>\n",
       "      <td>1.00</td>\n",
       "      <td>0.00</td>\n",
       "      <td>0.00</td>\n",
       "    </tr>\n",
       "  </tbody>\n",
       "</table>\n",
       "</div>"
      ],
      "text/plain": [
       "          schedule_gtfs_dataset_key                              route_id  \\\n",
       "0  3c62ad6ee589d56eca915ce291a5df0a  2b5c285d-29b2-4d19-8f12-f85348cd832e   \n",
       "\n",
       "   direction_id                       common_shape_id  \\\n",
       "0          0.00  ea5549cf-85a1-4f9e-a4e4-39e53493d2d1   \n",
       "\n",
       "                      route_name stop_primary_direction  \\\n",
       "0  WEST SACRAMENTO SHUTTLE - 240              Westbound   \n",
       "\n",
       "   avg_scheduled_service_minutes  avg_stop_miles  n_trips time_period  \\\n",
       "0                          50.00            0.21       12     all_day   \n",
       "\n",
       "   frequency  is_coverage  is_downtown_local  is_local  is_rapid  is_express  \\\n",
       "0       0.50         1.00               0.00      0.00      1.00        0.00   \n",
       "\n",
       "   is_rail  \n",
       "0     0.00  "
      ]
     },
     "execution_count": 13,
     "metadata": {},
     "output_type": "execute_result"
    }
   ],
   "source": [
    "apr_16_routes.head(1).drop(columns=[\"geometry\"])"
   ]
  },
  {
   "cell_type": "markdown",
   "id": "da157ca9-f999-49f1-a0b8-5052a1ed1254",
   "metadata": {},
   "source": [
    "#### `schedule_trip`"
   ]
  },
  {
   "cell_type": "code",
   "execution_count": 14,
   "id": "d82b6f76-a0a9-4839-83cf-b26a4fe68df1",
   "metadata": {},
   "outputs": [],
   "source": [
    "# gs://calitp-analytics-data/data-analyses/rt_vs_schedule/schedule_trip/schedule_trip_metrics_2024-04-15_AH_TESTING.parquet"
   ]
  },
  {
   "cell_type": "code",
   "execution_count": 15,
   "id": "3e655ab8-330a-4007-8810-2df0aee4f0b4",
   "metadata": {},
   "outputs": [],
   "source": [
    "trip_gcs = GTFS_DATA_DICT.rt_vs_schedule_tables.sched_trip_metrics"
   ]
  },
  {
   "cell_type": "code",
   "execution_count": 16,
   "id": "69268b83-06e4-4733-9d7d-4988066e52c8",
   "metadata": {},
   "outputs": [],
   "source": [
    "trip_url = f\"{RT_SCHED_GCS}{trip_gcs}_\""
   ]
  },
  {
   "cell_type": "code",
   "execution_count": 17,
   "id": "a066d9c4-6a08-4b92-acd4-548b6071bc67",
   "metadata": {},
   "outputs": [
    {
     "data": {
      "text/plain": [
       "'gs://calitp-analytics-data/data-analyses/rt_vs_schedule/schedule_trip/schedule_trip_metrics_'"
      ]
     },
     "execution_count": 17,
     "metadata": {},
     "output_type": "execute_result"
    }
   ],
   "source": [
    "trip_url"
   ]
  },
  {
   "cell_type": "code",
   "execution_count": 18,
   "id": "be06d781-0cfd-4a9d-8872-dc73a66eec4c",
   "metadata": {},
   "outputs": [],
   "source": [
    "apr_15_trips = pd.read_parquet(f\"{trip_url}2024-04-15_AH_TESTING.parquet\")"
   ]
  },
  {
   "cell_type": "code",
   "execution_count": 19,
   "id": "84e61cf7-ffd8-4707-a713-4917b389be36",
   "metadata": {},
   "outputs": [
    {
     "data": {
      "text/html": [
       "<div>\n",
       "<style scoped>\n",
       "    .dataframe tbody tr th:only-of-type {\n",
       "        vertical-align: middle;\n",
       "    }\n",
       "\n",
       "    .dataframe tbody tr th {\n",
       "        vertical-align: top;\n",
       "    }\n",
       "\n",
       "    .dataframe thead th {\n",
       "        text-align: right;\n",
       "    }\n",
       "</style>\n",
       "<table border=\"1\" class=\"dataframe\">\n",
       "  <thead>\n",
       "    <tr style=\"text-align: right;\">\n",
       "      <th></th>\n",
       "      <th>schedule_gtfs_dataset_key</th>\n",
       "      <th>trip_instance_key</th>\n",
       "      <th>median_stop_meters</th>\n",
       "      <th>time_of_day</th>\n",
       "      <th>scheduled_service_minutes</th>\n",
       "      <th>route_id</th>\n",
       "      <th>direction_id</th>\n",
       "      <th>stop_primary_direction</th>\n",
       "    </tr>\n",
       "  </thead>\n",
       "  <tbody>\n",
       "    <tr>\n",
       "      <th>0</th>\n",
       "      <td>0139b1253130b33adcd4b3a4490530d2</td>\n",
       "      <td>004c9c82f6ef126000f4067c79f48ef2</td>\n",
       "      <td>740.13</td>\n",
       "      <td>PM Peak</td>\n",
       "      <td>55.00</td>\n",
       "      <td>c6726149-9979-4ebb-85f6-0be90402266c</td>\n",
       "      <td>0.00</td>\n",
       "      <td>Southbound</td>\n",
       "    </tr>\n",
       "    <tr>\n",
       "      <th>1</th>\n",
       "      <td>0139b1253130b33adcd4b3a4490530d2</td>\n",
       "      <td>1caf03cf383f956c179788b51e850db0</td>\n",
       "      <td>893.83</td>\n",
       "      <td>PM Peak</td>\n",
       "      <td>57.00</td>\n",
       "      <td>c6726149-9979-4ebb-85f6-0be90402266c</td>\n",
       "      <td>0.00</td>\n",
       "      <td>Southbound</td>\n",
       "    </tr>\n",
       "  </tbody>\n",
       "</table>\n",
       "</div>"
      ],
      "text/plain": [
       "          schedule_gtfs_dataset_key                 trip_instance_key  \\\n",
       "0  0139b1253130b33adcd4b3a4490530d2  004c9c82f6ef126000f4067c79f48ef2   \n",
       "1  0139b1253130b33adcd4b3a4490530d2  1caf03cf383f956c179788b51e850db0   \n",
       "\n",
       "   median_stop_meters time_of_day  scheduled_service_minutes  \\\n",
       "0              740.13     PM Peak                      55.00   \n",
       "1              893.83     PM Peak                      57.00   \n",
       "\n",
       "                               route_id  direction_id stop_primary_direction  \n",
       "0  c6726149-9979-4ebb-85f6-0be90402266c          0.00             Southbound  \n",
       "1  c6726149-9979-4ebb-85f6-0be90402266c          0.00             Southbound  "
      ]
     },
     "execution_count": 19,
     "metadata": {},
     "output_type": "execute_result"
    }
   ],
   "source": [
    "apr_15_trips.head(2)"
   ]
  },
  {
   "cell_type": "code",
   "execution_count": 20,
   "id": "8627a9ee-cd1a-4d7c-82e0-a800726a3f82",
   "metadata": {},
   "outputs": [],
   "source": [
    "apr_16_trips = pd.read_parquet(f\"{trip_url}2024-04-16_AH_TESTING.parquet\")"
   ]
  },
  {
   "cell_type": "code",
   "execution_count": 21,
   "id": "6b635b53-8f3f-48aa-8352-5a91e3f9ec7d",
   "metadata": {},
   "outputs": [
    {
     "data": {
      "text/html": [
       "<div>\n",
       "<style scoped>\n",
       "    .dataframe tbody tr th:only-of-type {\n",
       "        vertical-align: middle;\n",
       "    }\n",
       "\n",
       "    .dataframe tbody tr th {\n",
       "        vertical-align: top;\n",
       "    }\n",
       "\n",
       "    .dataframe thead th {\n",
       "        text-align: right;\n",
       "    }\n",
       "</style>\n",
       "<table border=\"1\" class=\"dataframe\">\n",
       "  <thead>\n",
       "    <tr style=\"text-align: right;\">\n",
       "      <th></th>\n",
       "      <th>schedule_gtfs_dataset_key</th>\n",
       "      <th>trip_instance_key</th>\n",
       "      <th>median_stop_meters</th>\n",
       "      <th>time_of_day</th>\n",
       "      <th>scheduled_service_minutes</th>\n",
       "      <th>route_id</th>\n",
       "      <th>direction_id</th>\n",
       "      <th>stop_primary_direction</th>\n",
       "    </tr>\n",
       "  </thead>\n",
       "  <tbody>\n",
       "    <tr>\n",
       "      <th>0</th>\n",
       "      <td>0139b1253130b33adcd4b3a4490530d2</td>\n",
       "      <td>000a5e91dd67d8dbbbe91b97159bfc6c</td>\n",
       "      <td>1447.13</td>\n",
       "      <td>Midday</td>\n",
       "      <td>60.00</td>\n",
       "      <td>3ff1b747-a791-4eb3-90b2-25cb355b6c67</td>\n",
       "      <td>0.00</td>\n",
       "      <td>Southbound</td>\n",
       "    </tr>\n",
       "    <tr>\n",
       "      <th>1</th>\n",
       "      <td>0139b1253130b33adcd4b3a4490530d2</td>\n",
       "      <td>0e578363758f6012c878553b563ba908</td>\n",
       "      <td>1447.13</td>\n",
       "      <td>Midday</td>\n",
       "      <td>60.00</td>\n",
       "      <td>3ff1b747-a791-4eb3-90b2-25cb355b6c67</td>\n",
       "      <td>0.00</td>\n",
       "      <td>Southbound</td>\n",
       "    </tr>\n",
       "  </tbody>\n",
       "</table>\n",
       "</div>"
      ],
      "text/plain": [
       "          schedule_gtfs_dataset_key                 trip_instance_key  \\\n",
       "0  0139b1253130b33adcd4b3a4490530d2  000a5e91dd67d8dbbbe91b97159bfc6c   \n",
       "1  0139b1253130b33adcd4b3a4490530d2  0e578363758f6012c878553b563ba908   \n",
       "\n",
       "   median_stop_meters time_of_day  scheduled_service_minutes  \\\n",
       "0             1447.13      Midday                      60.00   \n",
       "1             1447.13      Midday                      60.00   \n",
       "\n",
       "                               route_id  direction_id stop_primary_direction  \n",
       "0  3ff1b747-a791-4eb3-90b2-25cb355b6c67          0.00             Southbound  \n",
       "1  3ff1b747-a791-4eb3-90b2-25cb355b6c67          0.00             Southbound  "
      ]
     },
     "execution_count": 21,
     "metadata": {},
     "output_type": "execute_result"
    }
   ],
   "source": [
    "apr_16_trips.head(2)"
   ]
  },
  {
   "cell_type": "markdown",
   "id": "018c936d-1d44-4b68-95d3-7e5b5848e99f",
   "metadata": {},
   "source": [
    "## `gtfs_digest/merge_data.py`"
   ]
  },
  {
   "cell_type": "code",
   "execution_count": 22,
   "id": "0dae7a05-5b09-4d5e-9f77-61902c3ea760",
   "metadata": {},
   "outputs": [],
   "source": [
    "analysis_date_list = [\"2024-04-15\", \"2024-04-16\"]"
   ]
  },
  {
   "cell_type": "code",
   "execution_count": 23,
   "id": "8ae0fbd9-9032-4254-a55f-18823546832e",
   "metadata": {},
   "outputs": [],
   "source": [
    "route_time_cols = [\n",
    "    \"schedule_gtfs_dataset_key\",\n",
    "    \"route_id\",\n",
    "    \"direction_id\",\n",
    "    \"time_period\",\n",
    "    \"stop_primary_direction\",\n",
    "]"
   ]
  },
  {
   "cell_type": "code",
   "execution_count": 24,
   "id": "56dfbc35-ee2e-48b6-9d1d-757ccc48344f",
   "metadata": {},
   "outputs": [],
   "source": [
    "sort_cols = route_time_cols + [\"service_date\"]"
   ]
  },
  {
   "cell_type": "code",
   "execution_count": 25,
   "id": "abca6c89-34bc-4cb0-a207-895292a86264",
   "metadata": {},
   "outputs": [],
   "source": [
    "def concatenate_schedule_by_route_direction(date_list: list) -> pd.DataFrame:\n",
    "    \"\"\"\n",
    "    Concatenate schedule data that's been\n",
    "    aggregated to route-direction-time_period.\n",
    "    \"\"\"\n",
    "    FILE = GTFS_DATA_DICT.rt_vs_schedule_tables.sched_route_direction_metrics\n",
    "    FILE = f\"{FILE}_AH_TESTING\"\n",
    "    df = (\n",
    "        time_series_utils.concatenate_datasets_across_dates(\n",
    "            RT_SCHED_GCS,\n",
    "            FILE,\n",
    "            date_list,\n",
    "            data_type=\"df\",\n",
    "            columns=route_time_cols\n",
    "            + [\n",
    "                \"avg_scheduled_service_minutes\",\n",
    "                \"avg_stop_miles\",\n",
    "                \"n_trips\",\n",
    "                \"frequency\",\n",
    "                \"is_express\",\n",
    "                \"is_rapid\",\n",
    "                \"is_rail\",\n",
    "                \"is_coverage\",\n",
    "                \"is_downtown_local\",\n",
    "                \"is_local\",\n",
    "            ],\n",
    "        )\n",
    "        .sort_values(sort_cols)\n",
    "        .rename(\n",
    "            columns={\n",
    "                # rename so we understand data source\n",
    "                \"n_trips\": \"n_scheduled_trips\",\n",
    "            }\n",
    "        )\n",
    "        .reset_index(drop=True)\n",
    "    )\n",
    "\n",
    "    return df"
   ]
  },
  {
   "cell_type": "code",
   "execution_count": 26,
   "id": "2229d825-d798-47e2-a0ca-2650af1b5b88",
   "metadata": {
    "scrolled": true,
    "tags": []
   },
   "outputs": [],
   "source": [
    "concat_test = concatenate_schedule_by_route_direction(analysis_date_list)"
   ]
  },
  {
   "cell_type": "code",
   "execution_count": 27,
   "id": "cfd74e54-a3c8-4bb3-adaa-415959319320",
   "metadata": {},
   "outputs": [
    {
     "data": {
      "text/html": [
       "<div>\n",
       "<style scoped>\n",
       "    .dataframe tbody tr th:only-of-type {\n",
       "        vertical-align: middle;\n",
       "    }\n",
       "\n",
       "    .dataframe tbody tr th {\n",
       "        vertical-align: top;\n",
       "    }\n",
       "\n",
       "    .dataframe thead th {\n",
       "        text-align: right;\n",
       "    }\n",
       "</style>\n",
       "<table border=\"1\" class=\"dataframe\">\n",
       "  <thead>\n",
       "    <tr style=\"text-align: right;\">\n",
       "      <th></th>\n",
       "      <th>schedule_gtfs_dataset_key</th>\n",
       "      <th>route_id</th>\n",
       "      <th>direction_id</th>\n",
       "      <th>time_period</th>\n",
       "      <th>stop_primary_direction</th>\n",
       "      <th>avg_scheduled_service_minutes</th>\n",
       "      <th>avg_stop_miles</th>\n",
       "      <th>n_scheduled_trips</th>\n",
       "      <th>frequency</th>\n",
       "      <th>is_express</th>\n",
       "      <th>is_rapid</th>\n",
       "      <th>is_rail</th>\n",
       "      <th>is_coverage</th>\n",
       "      <th>is_downtown_local</th>\n",
       "      <th>is_local</th>\n",
       "      <th>service_date</th>\n",
       "    </tr>\n",
       "  </thead>\n",
       "  <tbody>\n",
       "    <tr>\n",
       "      <th>0</th>\n",
       "      <td>015d67d5b75b5cf2b710bbadadfb75f5</td>\n",
       "      <td>17</td>\n",
       "      <td>0.00</td>\n",
       "      <td>all_day</td>\n",
       "      <td>Northbound</td>\n",
       "      <td>51.77</td>\n",
       "      <td>0.27</td>\n",
       "      <td>22</td>\n",
       "      <td>0.92</td>\n",
       "      <td>0.00</td>\n",
       "      <td>0.00</td>\n",
       "      <td>0.00</td>\n",
       "      <td>0.00</td>\n",
       "      <td>1.00</td>\n",
       "      <td>0.00</td>\n",
       "      <td>2024-04-15</td>\n",
       "    </tr>\n",
       "    <tr>\n",
       "      <th>1</th>\n",
       "      <td>015d67d5b75b5cf2b710bbadadfb75f5</td>\n",
       "      <td>17</td>\n",
       "      <td>0.00</td>\n",
       "      <td>all_day</td>\n",
       "      <td>Northbound</td>\n",
       "      <td>51.77</td>\n",
       "      <td>0.27</td>\n",
       "      <td>22</td>\n",
       "      <td>0.92</td>\n",
       "      <td>0.00</td>\n",
       "      <td>0.00</td>\n",
       "      <td>0.00</td>\n",
       "      <td>0.00</td>\n",
       "      <td>1.00</td>\n",
       "      <td>0.00</td>\n",
       "      <td>2024-04-16</td>\n",
       "    </tr>\n",
       "  </tbody>\n",
       "</table>\n",
       "</div>"
      ],
      "text/plain": [
       "          schedule_gtfs_dataset_key route_id  direction_id time_period  \\\n",
       "0  015d67d5b75b5cf2b710bbadadfb75f5       17          0.00     all_day   \n",
       "1  015d67d5b75b5cf2b710bbadadfb75f5       17          0.00     all_day   \n",
       "\n",
       "  stop_primary_direction  avg_scheduled_service_minutes  avg_stop_miles  \\\n",
       "0             Northbound                          51.77            0.27   \n",
       "1             Northbound                          51.77            0.27   \n",
       "\n",
       "   n_scheduled_trips  frequency  is_express  is_rapid  is_rail  is_coverage  \\\n",
       "0                 22       0.92        0.00      0.00     0.00         0.00   \n",
       "1                 22       0.92        0.00      0.00     0.00         0.00   \n",
       "\n",
       "   is_downtown_local  is_local service_date  \n",
       "0               1.00      0.00   2024-04-15  \n",
       "1               1.00      0.00   2024-04-16  "
      ]
     },
     "execution_count": 27,
     "metadata": {},
     "output_type": "execute_result"
    }
   ],
   "source": [
    "concat_test.head(2)"
   ]
  },
  {
   "cell_type": "markdown",
   "id": "745de967-c037-4965-9a98-c98c75abb69e",
   "metadata": {},
   "source": [
    "### Following `if __name__ == \"__main__\"` part of `gtfs_digest/merge_data`"
   ]
  },
  {
   "cell_type": "code",
   "execution_count": 28,
   "id": "cc8b762e-4e32-4a77-ae53-45801505b552",
   "metadata": {},
   "outputs": [],
   "source": [
    "import sys\n",
    "sys.path.append(\"../gtfs_digest\")\n",
    "import merge_data"
   ]
  },
  {
   "cell_type": "markdown",
   "id": "934ee949-b941-4f5f-9d4b-76b5396b49e2",
   "metadata": {},
   "source": [
    "#### `set_primary_typology` should also include `stop_primary_direction`\n",
    "* There's no change to this function, it's just that I added `stop_primary_dir` to the `route_time_cols` above"
   ]
  },
  {
   "cell_type": "code",
   "execution_count": 29,
   "id": "9f724458-df9e-4e75-89e5-aa08ca362882",
   "metadata": {},
   "outputs": [],
   "source": [
    "def set_primary_typology(df: pd.DataFrame) -> pd.DataFrame:\n",
    "    \"\"\"\n",
    "    Choose a primary typology, and we'll be more generous if\n",
    "    multiple typologies are found.\n",
    "    \"\"\"\n",
    "    subset_cols = [\n",
    "        c\n",
    "        for c in df.columns\n",
    "        if \"is_\" in c and c not in [\"is_ontime\", \"is_early\", \"is_late\"]\n",
    "    ]\n",
    "    keep_cols = route_time_cols + subset_cols\n",
    "\n",
    "    df2 = (\n",
    "        df[keep_cols]\n",
    "        .sort_values(route_time_cols + subset_cols)\n",
    "        .drop_duplicates(subset=route_time_cols)\n",
    "    )\n",
    "\n",
    "    ranks = {\n",
    "        \"coverage\": 1,\n",
    "        \"local\": 2,\n",
    "        \"downtown_local\": 3,\n",
    "        \"express\": 4,\n",
    "        \"rapid\": 5,\n",
    "        \"rail\": 6,\n",
    "    }\n",
    "\n",
    "    # Find the max \"score\" / typology type, and use that\n",
    "    for c in ranks.keys():\n",
    "        df2[f\"{c}_score\"] = df2[f\"is_{c}\"] * ranks[c]\n",
    "\n",
    "    df2[\"max_score\"] = df2[[c for c in df2.columns if \"_score\" in c]].max(axis=1)\n",
    "    df2[\"typology\"] = df2.max_score.map({v: k for k, v in ranks.items()})\n",
    "    df2 = df2.assign(typology=df2.typology.fillna(\"unknown\"))\n",
    "\n",
    "    df3 = df2[route_time_cols + [\"typology\"]]\n",
    "\n",
    "    return df3"
   ]
  },
  {
   "cell_type": "code",
   "execution_count": 30,
   "id": "732ec196-d9f1-4221-9eee-6d53ae3415f3",
   "metadata": {},
   "outputs": [],
   "source": [
    "primary_typology = set_primary_typology(concat_test)"
   ]
  },
  {
   "cell_type": "code",
   "execution_count": 31,
   "id": "39189012-8310-43ea-9a2d-2e67349a26a9",
   "metadata": {},
   "outputs": [
    {
     "data": {
      "text/html": [
       "<div>\n",
       "<style scoped>\n",
       "    .dataframe tbody tr th:only-of-type {\n",
       "        vertical-align: middle;\n",
       "    }\n",
       "\n",
       "    .dataframe tbody tr th {\n",
       "        vertical-align: top;\n",
       "    }\n",
       "\n",
       "    .dataframe thead th {\n",
       "        text-align: right;\n",
       "    }\n",
       "</style>\n",
       "<table border=\"1\" class=\"dataframe\">\n",
       "  <thead>\n",
       "    <tr style=\"text-align: right;\">\n",
       "      <th></th>\n",
       "      <th>schedule_gtfs_dataset_key</th>\n",
       "      <th>route_id</th>\n",
       "      <th>direction_id</th>\n",
       "      <th>time_period</th>\n",
       "      <th>stop_primary_direction</th>\n",
       "      <th>typology</th>\n",
       "    </tr>\n",
       "  </thead>\n",
       "  <tbody>\n",
       "    <tr>\n",
       "      <th>0</th>\n",
       "      <td>015d67d5b75b5cf2b710bbadadfb75f5</td>\n",
       "      <td>17</td>\n",
       "      <td>0.00</td>\n",
       "      <td>all_day</td>\n",
       "      <td>Northbound</td>\n",
       "      <td>downtown_local</td>\n",
       "    </tr>\n",
       "    <tr>\n",
       "      <th>2</th>\n",
       "      <td>015d67d5b75b5cf2b710bbadadfb75f5</td>\n",
       "      <td>17</td>\n",
       "      <td>0.00</td>\n",
       "      <td>offpeak</td>\n",
       "      <td>Northbound</td>\n",
       "      <td>downtown_local</td>\n",
       "    </tr>\n",
       "  </tbody>\n",
       "</table>\n",
       "</div>"
      ],
      "text/plain": [
       "          schedule_gtfs_dataset_key route_id  direction_id time_period  \\\n",
       "0  015d67d5b75b5cf2b710bbadadfb75f5       17          0.00     all_day   \n",
       "2  015d67d5b75b5cf2b710bbadadfb75f5       17          0.00     offpeak   \n",
       "\n",
       "  stop_primary_direction        typology  \n",
       "0             Northbound  downtown_local  \n",
       "2             Northbound  downtown_local  "
      ]
     },
     "execution_count": 31,
     "metadata": {},
     "output_type": "execute_result"
    }
   ],
   "source": [
    "primary_typology.head(2)"
   ]
  },
  {
   "cell_type": "code",
   "execution_count": 32,
   "id": "423561a5-b29d-4480-8f88-3f998828c068",
   "metadata": {},
   "outputs": [],
   "source": [
    "df_sched2 = pd.merge(concat_test, primary_typology, on=route_time_cols, how=\"left\")"
   ]
  },
  {
   "cell_type": "code",
   "execution_count": 33,
   "id": "cdc8d4e7-eb74-4d3c-a2f0-481fe2337fc3",
   "metadata": {},
   "outputs": [
    {
     "data": {
      "text/html": [
       "<div>\n",
       "<style scoped>\n",
       "    .dataframe tbody tr th:only-of-type {\n",
       "        vertical-align: middle;\n",
       "    }\n",
       "\n",
       "    .dataframe tbody tr th {\n",
       "        vertical-align: top;\n",
       "    }\n",
       "\n",
       "    .dataframe thead th {\n",
       "        text-align: right;\n",
       "    }\n",
       "</style>\n",
       "<table border=\"1\" class=\"dataframe\">\n",
       "  <thead>\n",
       "    <tr style=\"text-align: right;\">\n",
       "      <th></th>\n",
       "      <th>schedule_gtfs_dataset_key</th>\n",
       "      <th>route_id</th>\n",
       "      <th>direction_id</th>\n",
       "      <th>time_period</th>\n",
       "      <th>stop_primary_direction</th>\n",
       "      <th>avg_scheduled_service_minutes</th>\n",
       "      <th>avg_stop_miles</th>\n",
       "      <th>n_scheduled_trips</th>\n",
       "      <th>frequency</th>\n",
       "      <th>is_express</th>\n",
       "      <th>is_rapid</th>\n",
       "      <th>is_rail</th>\n",
       "      <th>is_coverage</th>\n",
       "      <th>is_downtown_local</th>\n",
       "      <th>is_local</th>\n",
       "      <th>service_date</th>\n",
       "      <th>typology</th>\n",
       "    </tr>\n",
       "  </thead>\n",
       "  <tbody>\n",
       "    <tr>\n",
       "      <th>0</th>\n",
       "      <td>015d67d5b75b5cf2b710bbadadfb75f5</td>\n",
       "      <td>17</td>\n",
       "      <td>0.00</td>\n",
       "      <td>all_day</td>\n",
       "      <td>Northbound</td>\n",
       "      <td>51.77</td>\n",
       "      <td>0.27</td>\n",
       "      <td>22</td>\n",
       "      <td>0.92</td>\n",
       "      <td>0.00</td>\n",
       "      <td>0.00</td>\n",
       "      <td>0.00</td>\n",
       "      <td>0.00</td>\n",
       "      <td>1.00</td>\n",
       "      <td>0.00</td>\n",
       "      <td>2024-04-15</td>\n",
       "      <td>downtown_local</td>\n",
       "    </tr>\n",
       "    <tr>\n",
       "      <th>1</th>\n",
       "      <td>015d67d5b75b5cf2b710bbadadfb75f5</td>\n",
       "      <td>17</td>\n",
       "      <td>0.00</td>\n",
       "      <td>all_day</td>\n",
       "      <td>Northbound</td>\n",
       "      <td>51.77</td>\n",
       "      <td>0.27</td>\n",
       "      <td>22</td>\n",
       "      <td>0.92</td>\n",
       "      <td>0.00</td>\n",
       "      <td>0.00</td>\n",
       "      <td>0.00</td>\n",
       "      <td>0.00</td>\n",
       "      <td>1.00</td>\n",
       "      <td>0.00</td>\n",
       "      <td>2024-04-16</td>\n",
       "      <td>downtown_local</td>\n",
       "    </tr>\n",
       "  </tbody>\n",
       "</table>\n",
       "</div>"
      ],
      "text/plain": [
       "          schedule_gtfs_dataset_key route_id  direction_id time_period  \\\n",
       "0  015d67d5b75b5cf2b710bbadadfb75f5       17          0.00     all_day   \n",
       "1  015d67d5b75b5cf2b710bbadadfb75f5       17          0.00     all_day   \n",
       "\n",
       "  stop_primary_direction  avg_scheduled_service_minutes  avg_stop_miles  \\\n",
       "0             Northbound                          51.77            0.27   \n",
       "1             Northbound                          51.77            0.27   \n",
       "\n",
       "   n_scheduled_trips  frequency  is_express  is_rapid  is_rail  is_coverage  \\\n",
       "0                 22       0.92        0.00      0.00     0.00         0.00   \n",
       "1                 22       0.92        0.00      0.00     0.00         0.00   \n",
       "\n",
       "   is_downtown_local  is_local service_date        typology  \n",
       "0               1.00      0.00   2024-04-15  downtown_local  \n",
       "1               1.00      0.00   2024-04-16  downtown_local  "
      ]
     },
     "execution_count": 33,
     "metadata": {},
     "output_type": "execute_result"
    }
   ],
   "source": [
    "df_sched2.head(2)"
   ]
  },
  {
   "cell_type": "code",
   "execution_count": 34,
   "id": "ca812ba7-3da8-4f37-add5-f9845392f2a2",
   "metadata": {},
   "outputs": [
    {
     "name": "stdout",
     "output_type": "stream",
     "text": [
      "<class 'pandas.core.frame.DataFrame'>\n",
      "Int64Index: 21026 entries, 0 to 21025\n",
      "Data columns (total 17 columns):\n",
      " #   Column                         Non-Null Count  Dtype         \n",
      "---  ------                         --------------  -----         \n",
      " 0   schedule_gtfs_dataset_key      21026 non-null  object        \n",
      " 1   route_id                       21026 non-null  object        \n",
      " 2   direction_id                   21026 non-null  float64       \n",
      " 3   time_period                    21026 non-null  object        \n",
      " 4   stop_primary_direction         21026 non-null  object        \n",
      " 5   avg_scheduled_service_minutes  21026 non-null  float64       \n",
      " 6   avg_stop_miles                 21026 non-null  float64       \n",
      " 7   n_scheduled_trips              21026 non-null  int64         \n",
      " 8   frequency                      21026 non-null  float64       \n",
      " 9   is_express                     19949 non-null  float64       \n",
      " 10  is_rapid                       19949 non-null  float64       \n",
      " 11  is_rail                        19949 non-null  float64       \n",
      " 12  is_coverage                    19949 non-null  float64       \n",
      " 13  is_downtown_local              19949 non-null  float64       \n",
      " 14  is_local                       19949 non-null  float64       \n",
      " 15  service_date                   21026 non-null  datetime64[ns]\n",
      " 16  typology                       21026 non-null  object        \n",
      "dtypes: datetime64[ns](1), float64(10), int64(1), object(5)\n",
      "memory usage: 2.9+ MB\n"
     ]
    }
   ],
   "source": [
    "df_sched2.info()"
   ]
  },
  {
   "cell_type": "markdown",
   "id": "88b19623-71ac-4d13-a751-b731bfdd276b",
   "metadata": {},
   "source": [
    "#### `concatenate_speeds_by_route_direction`"
   ]
  },
  {
   "cell_type": "code",
   "execution_count": 35,
   "id": "5148da33-1d04-4e0b-8415-915b1073500e",
   "metadata": {},
   "outputs": [],
   "source": [
    "df_avg_speeds = merge_data.concatenate_speeds_by_route_direction(analysis_date_list)"
   ]
  },
  {
   "cell_type": "code",
   "execution_count": 36,
   "id": "5a8cd3fd-4cc0-4e6e-bdba-31e7d751768b",
   "metadata": {},
   "outputs": [
    {
     "data": {
      "text/html": [
       "<div>\n",
       "<style scoped>\n",
       "    .dataframe tbody tr th:only-of-type {\n",
       "        vertical-align: middle;\n",
       "    }\n",
       "\n",
       "    .dataframe tbody tr th {\n",
       "        vertical-align: top;\n",
       "    }\n",
       "\n",
       "    .dataframe thead th {\n",
       "        text-align: right;\n",
       "    }\n",
       "</style>\n",
       "<table border=\"1\" class=\"dataframe\">\n",
       "  <thead>\n",
       "    <tr style=\"text-align: right;\">\n",
       "      <th></th>\n",
       "      <th>schedule_gtfs_dataset_key</th>\n",
       "      <th>route_id</th>\n",
       "      <th>direction_id</th>\n",
       "      <th>time_period</th>\n",
       "      <th>speed_mph</th>\n",
       "      <th>service_date</th>\n",
       "    </tr>\n",
       "  </thead>\n",
       "  <tbody>\n",
       "    <tr>\n",
       "      <th>0</th>\n",
       "      <td>015d67d5b75b5cf2b710bbadadfb75f5</td>\n",
       "      <td>17</td>\n",
       "      <td>0.00</td>\n",
       "      <td>all_day</td>\n",
       "      <td>17.94</td>\n",
       "      <td>2024-04-15</td>\n",
       "    </tr>\n",
       "    <tr>\n",
       "      <th>1</th>\n",
       "      <td>015d67d5b75b5cf2b710bbadadfb75f5</td>\n",
       "      <td>17</td>\n",
       "      <td>0.00</td>\n",
       "      <td>all_day</td>\n",
       "      <td>16.21</td>\n",
       "      <td>2024-04-16</td>\n",
       "    </tr>\n",
       "  </tbody>\n",
       "</table>\n",
       "</div>"
      ],
      "text/plain": [
       "          schedule_gtfs_dataset_key route_id  direction_id time_period  \\\n",
       "0  015d67d5b75b5cf2b710bbadadfb75f5       17          0.00     all_day   \n",
       "1  015d67d5b75b5cf2b710bbadadfb75f5       17          0.00     all_day   \n",
       "\n",
       "   speed_mph service_date  \n",
       "0      17.94   2024-04-15  \n",
       "1      16.21   2024-04-16  "
      ]
     },
     "execution_count": 36,
     "metadata": {},
     "output_type": "execute_result"
    }
   ],
   "source": [
    "df_avg_speeds.head(2)"
   ]
  },
  {
   "cell_type": "markdown",
   "id": "a2268d21-18bb-4793-b632-4de303a66a38",
   "metadata": {},
   "source": [
    "#### `concatenate_rt_vs_schedule_by_route_direction`"
   ]
  },
  {
   "cell_type": "code",
   "execution_count": 37,
   "id": "82aace23-e5ee-489c-a022-7962db157b0e",
   "metadata": {},
   "outputs": [],
   "source": [
    "df_rt_sched = merge_data.concatenate_rt_vs_schedule_by_route_direction(\n",
    "    analysis_date_list\n",
    ").astype({\"direction_id\": \"float\"})"
   ]
  },
  {
   "cell_type": "code",
   "execution_count": 38,
   "id": "7c366e58-dd6a-4b57-a326-5547c3be95f9",
   "metadata": {},
   "outputs": [
    {
     "data": {
      "text/html": [
       "<div>\n",
       "<style scoped>\n",
       "    .dataframe tbody tr th:only-of-type {\n",
       "        vertical-align: middle;\n",
       "    }\n",
       "\n",
       "    .dataframe tbody tr th {\n",
       "        vertical-align: top;\n",
       "    }\n",
       "\n",
       "    .dataframe thead th {\n",
       "        text-align: right;\n",
       "    }\n",
       "</style>\n",
       "<table border=\"1\" class=\"dataframe\">\n",
       "  <thead>\n",
       "    <tr style=\"text-align: right;\">\n",
       "      <th></th>\n",
       "      <th>schedule_gtfs_dataset_key</th>\n",
       "      <th>route_id</th>\n",
       "      <th>direction_id</th>\n",
       "      <th>time_period</th>\n",
       "      <th>minutes_atleast1_vp</th>\n",
       "      <th>minutes_atleast2_vp</th>\n",
       "      <th>total_rt_service_minutes</th>\n",
       "      <th>total_scheduled_service_minutes</th>\n",
       "      <th>total_vp</th>\n",
       "      <th>vp_in_shape</th>\n",
       "      <th>is_early</th>\n",
       "      <th>is_ontime</th>\n",
       "      <th>is_late</th>\n",
       "      <th>n_vp_trips</th>\n",
       "      <th>vp_per_minute</th>\n",
       "      <th>pct_in_shape</th>\n",
       "      <th>pct_rt_journey_atleast1_vp</th>\n",
       "      <th>pct_rt_journey_atleast2_vp</th>\n",
       "      <th>pct_sched_journey_atleast1_vp</th>\n",
       "      <th>pct_sched_journey_atleast2_vp</th>\n",
       "      <th>rt_sched_journey_ratio</th>\n",
       "      <th>avg_rt_service_minutes</th>\n",
       "      <th>name</th>\n",
       "      <th>service_date</th>\n",
       "    </tr>\n",
       "  </thead>\n",
       "  <tbody>\n",
       "    <tr>\n",
       "      <th>0</th>\n",
       "      <td>015d67d5b75b5cf2b710bbadadfb75f5</td>\n",
       "      <td>17</td>\n",
       "      <td>0.00</td>\n",
       "      <td>all_day</td>\n",
       "      <td>1600</td>\n",
       "      <td>1575</td>\n",
       "      <td>1743.37</td>\n",
       "      <td>1139.00</td>\n",
       "      <td>4728</td>\n",
       "      <td>3813</td>\n",
       "      <td>0</td>\n",
       "      <td>0</td>\n",
       "      <td>22</td>\n",
       "      <td>22</td>\n",
       "      <td>2.71</td>\n",
       "      <td>0.81</td>\n",
       "      <td>0.92</td>\n",
       "      <td>0.90</td>\n",
       "      <td>1.00</td>\n",
       "      <td>1.00</td>\n",
       "      <td>1.53</td>\n",
       "      <td>79.24</td>\n",
       "      <td>Bay Area 511 Marin Schedule</td>\n",
       "      <td>2024-04-15</td>\n",
       "    </tr>\n",
       "    <tr>\n",
       "      <th>1</th>\n",
       "      <td>015d67d5b75b5cf2b710bbadadfb75f5</td>\n",
       "      <td>17</td>\n",
       "      <td>0.00</td>\n",
       "      <td>all_day</td>\n",
       "      <td>1760</td>\n",
       "      <td>1741</td>\n",
       "      <td>1809.46</td>\n",
       "      <td>1139.00</td>\n",
       "      <td>5219</td>\n",
       "      <td>3875</td>\n",
       "      <td>0</td>\n",
       "      <td>0</td>\n",
       "      <td>22</td>\n",
       "      <td>22</td>\n",
       "      <td>2.88</td>\n",
       "      <td>0.74</td>\n",
       "      <td>0.97</td>\n",
       "      <td>0.96</td>\n",
       "      <td>1.00</td>\n",
       "      <td>1.00</td>\n",
       "      <td>1.59</td>\n",
       "      <td>82.25</td>\n",
       "      <td>Bay Area 511 Marin Schedule</td>\n",
       "      <td>2024-04-16</td>\n",
       "    </tr>\n",
       "  </tbody>\n",
       "</table>\n",
       "</div>"
      ],
      "text/plain": [
       "          schedule_gtfs_dataset_key route_id  direction_id time_period  \\\n",
       "0  015d67d5b75b5cf2b710bbadadfb75f5       17          0.00     all_day   \n",
       "1  015d67d5b75b5cf2b710bbadadfb75f5       17          0.00     all_day   \n",
       "\n",
       "   minutes_atleast1_vp  minutes_atleast2_vp  total_rt_service_minutes  \\\n",
       "0                 1600                 1575                   1743.37   \n",
       "1                 1760                 1741                   1809.46   \n",
       "\n",
       "   total_scheduled_service_minutes  total_vp  vp_in_shape  is_early  \\\n",
       "0                          1139.00      4728         3813         0   \n",
       "1                          1139.00      5219         3875         0   \n",
       "\n",
       "   is_ontime  is_late  n_vp_trips  vp_per_minute  pct_in_shape  \\\n",
       "0          0       22          22           2.71          0.81   \n",
       "1          0       22          22           2.88          0.74   \n",
       "\n",
       "   pct_rt_journey_atleast1_vp  pct_rt_journey_atleast2_vp  \\\n",
       "0                        0.92                        0.90   \n",
       "1                        0.97                        0.96   \n",
       "\n",
       "   pct_sched_journey_atleast1_vp  pct_sched_journey_atleast2_vp  \\\n",
       "0                           1.00                           1.00   \n",
       "1                           1.00                           1.00   \n",
       "\n",
       "   rt_sched_journey_ratio  avg_rt_service_minutes  \\\n",
       "0                    1.53                   79.24   \n",
       "1                    1.59                   82.25   \n",
       "\n",
       "                          name service_date  \n",
       "0  Bay Area 511 Marin Schedule   2024-04-15  \n",
       "1  Bay Area 511 Marin Schedule   2024-04-16  "
      ]
     },
     "execution_count": 38,
     "metadata": {},
     "output_type": "execute_result"
    }
   ],
   "source": [
    "df_rt_sched.head(2)"
   ]
  },
  {
   "cell_type": "markdown",
   "id": "995cc6ab-ccd3-4b79-aca1-33d8e170f8ec",
   "metadata": {},
   "source": [
    "#### `concatenate_crosswalk_organization`\n",
    "* WHat's the purpose of this?"
   ]
  },
  {
   "cell_type": "code",
   "execution_count": 39,
   "id": "b993109d-b47f-4fbc-b6db-833c2d790ae0",
   "metadata": {},
   "outputs": [],
   "source": [
    "df_crosswalk = merge_data.concatenate_crosswalk_organization(analysis_date_list)"
   ]
  },
  {
   "cell_type": "code",
   "execution_count": 40,
   "id": "1a017edb-ddd8-447e-8b6c-46151d9a023d",
   "metadata": {},
   "outputs": [
    {
     "data": {
      "text/html": [
       "<div>\n",
       "<style scoped>\n",
       "    .dataframe tbody tr th:only-of-type {\n",
       "        vertical-align: middle;\n",
       "    }\n",
       "\n",
       "    .dataframe tbody tr th {\n",
       "        vertical-align: top;\n",
       "    }\n",
       "\n",
       "    .dataframe thead th {\n",
       "        text-align: right;\n",
       "    }\n",
       "</style>\n",
       "<table border=\"1\" class=\"dataframe\">\n",
       "  <thead>\n",
       "    <tr style=\"text-align: right;\">\n",
       "      <th></th>\n",
       "      <th>schedule_gtfs_dataset_key</th>\n",
       "      <th>name</th>\n",
       "      <th>schedule_source_record_id</th>\n",
       "      <th>base64_url</th>\n",
       "      <th>organization_source_record_id</th>\n",
       "      <th>organization_name</th>\n",
       "      <th>caltrans_district</th>\n",
       "      <th>service_date</th>\n",
       "    </tr>\n",
       "  </thead>\n",
       "  <tbody>\n",
       "    <tr>\n",
       "      <th>0</th>\n",
       "      <td>1770249a5a2e770ca90628434d4934b1</td>\n",
       "      <td>VCTC GMV Schedule</td>\n",
       "      <td>recrAG7e0oOiR6FiP</td>\n",
       "      <td>aHR0cHM6Ly9nb3ZjYnVzLmNvbS9ndGZz</td>\n",
       "      <td>rec7EN71rsZxDFxZd</td>\n",
       "      <td>Ventura County Transportation Commission</td>\n",
       "      <td>07 - Los Angeles</td>\n",
       "      <td>2024-04-15</td>\n",
       "    </tr>\n",
       "    <tr>\n",
       "      <th>1</th>\n",
       "      <td>bff13f8993ff18e43577db1f5596e014</td>\n",
       "      <td>Merced GMV Schedule</td>\n",
       "      <td>rec0qwiwmJzZWh8w2</td>\n",
       "      <td>aHR0cHM6Ly90aGVidXNsaXZlLmNvbS9ndGZz</td>\n",
       "      <td>recVSX7dwjxAb557T</td>\n",
       "      <td>Transit Joint Powers Authority for Merced County</td>\n",
       "      <td>10 - Stockton</td>\n",
       "      <td>2024-04-15</td>\n",
       "    </tr>\n",
       "  </tbody>\n",
       "</table>\n",
       "</div>"
      ],
      "text/plain": [
       "          schedule_gtfs_dataset_key                 name  \\\n",
       "0  1770249a5a2e770ca90628434d4934b1    VCTC GMV Schedule   \n",
       "1  bff13f8993ff18e43577db1f5596e014  Merced GMV Schedule   \n",
       "\n",
       "  schedule_source_record_id                            base64_url  \\\n",
       "0         recrAG7e0oOiR6FiP      aHR0cHM6Ly9nb3ZjYnVzLmNvbS9ndGZz   \n",
       "1         rec0qwiwmJzZWh8w2  aHR0cHM6Ly90aGVidXNsaXZlLmNvbS9ndGZz   \n",
       "\n",
       "  organization_source_record_id  \\\n",
       "0             rec7EN71rsZxDFxZd   \n",
       "1             recVSX7dwjxAb557T   \n",
       "\n",
       "                                  organization_name caltrans_district  \\\n",
       "0          Ventura County Transportation Commission  07 - Los Angeles   \n",
       "1  Transit Joint Powers Authority for Merced County     10 - Stockton   \n",
       "\n",
       "  service_date  \n",
       "0   2024-04-15  \n",
       "1   2024-04-15  "
      ]
     },
     "execution_count": 40,
     "metadata": {},
     "output_type": "execute_result"
    }
   ],
   "source": [
    "df_crosswalk.head(2)"
   ]
  },
  {
   "cell_type": "markdown",
   "id": "937d0f36-83c6-458c-9310-fac21ddaf44f",
   "metadata": {},
   "source": [
    "#### Merges\n",
    "* How do I incoporate `cardinal direction` to the other two datasets `df_rt_sched` and `df_avg_speeds`?"
   ]
  },
  {
   "cell_type": "code",
   "execution_count": 41,
   "id": "4de49fb4-7b2b-45f0-a386-2c8dfcaf8eb7",
   "metadata": {},
   "outputs": [
    {
     "data": {
      "text/html": [
       "<div>\n",
       "<style scoped>\n",
       "    .dataframe tbody tr th:only-of-type {\n",
       "        vertical-align: middle;\n",
       "    }\n",
       "\n",
       "    .dataframe tbody tr th {\n",
       "        vertical-align: top;\n",
       "    }\n",
       "\n",
       "    .dataframe thead th {\n",
       "        text-align: right;\n",
       "    }\n",
       "</style>\n",
       "<table border=\"1\" class=\"dataframe\">\n",
       "  <thead>\n",
       "    <tr style=\"text-align: right;\">\n",
       "      <th></th>\n",
       "      <th>schedule_gtfs_dataset_key</th>\n",
       "      <th>route_id</th>\n",
       "      <th>direction_id</th>\n",
       "      <th>time_period</th>\n",
       "      <th>minutes_atleast1_vp</th>\n",
       "      <th>minutes_atleast2_vp</th>\n",
       "      <th>total_rt_service_minutes</th>\n",
       "      <th>total_scheduled_service_minutes</th>\n",
       "      <th>total_vp</th>\n",
       "      <th>vp_in_shape</th>\n",
       "      <th>is_early</th>\n",
       "      <th>is_ontime</th>\n",
       "      <th>is_late</th>\n",
       "      <th>n_vp_trips</th>\n",
       "      <th>vp_per_minute</th>\n",
       "      <th>pct_in_shape</th>\n",
       "      <th>pct_rt_journey_atleast1_vp</th>\n",
       "      <th>pct_rt_journey_atleast2_vp</th>\n",
       "      <th>pct_sched_journey_atleast1_vp</th>\n",
       "      <th>pct_sched_journey_atleast2_vp</th>\n",
       "      <th>rt_sched_journey_ratio</th>\n",
       "      <th>avg_rt_service_minutes</th>\n",
       "      <th>name</th>\n",
       "      <th>service_date</th>\n",
       "    </tr>\n",
       "  </thead>\n",
       "  <tbody>\n",
       "    <tr>\n",
       "      <th>0</th>\n",
       "      <td>015d67d5b75b5cf2b710bbadadfb75f5</td>\n",
       "      <td>17</td>\n",
       "      <td>0.00</td>\n",
       "      <td>all_day</td>\n",
       "      <td>1600</td>\n",
       "      <td>1575</td>\n",
       "      <td>1743.37</td>\n",
       "      <td>1139.00</td>\n",
       "      <td>4728</td>\n",
       "      <td>3813</td>\n",
       "      <td>0</td>\n",
       "      <td>0</td>\n",
       "      <td>22</td>\n",
       "      <td>22</td>\n",
       "      <td>2.71</td>\n",
       "      <td>0.81</td>\n",
       "      <td>0.92</td>\n",
       "      <td>0.90</td>\n",
       "      <td>1.00</td>\n",
       "      <td>1.00</td>\n",
       "      <td>1.53</td>\n",
       "      <td>79.24</td>\n",
       "      <td>Bay Area 511 Marin Schedule</td>\n",
       "      <td>2024-04-15</td>\n",
       "    </tr>\n",
       "  </tbody>\n",
       "</table>\n",
       "</div>"
      ],
      "text/plain": [
       "          schedule_gtfs_dataset_key route_id  direction_id time_period  \\\n",
       "0  015d67d5b75b5cf2b710bbadadfb75f5       17          0.00     all_day   \n",
       "\n",
       "   minutes_atleast1_vp  minutes_atleast2_vp  total_rt_service_minutes  \\\n",
       "0                 1600                 1575                   1743.37   \n",
       "\n",
       "   total_scheduled_service_minutes  total_vp  vp_in_shape  is_early  \\\n",
       "0                          1139.00      4728         3813         0   \n",
       "\n",
       "   is_ontime  is_late  n_vp_trips  vp_per_minute  pct_in_shape  \\\n",
       "0          0       22          22           2.71          0.81   \n",
       "\n",
       "   pct_rt_journey_atleast1_vp  pct_rt_journey_atleast2_vp  \\\n",
       "0                        0.92                        0.90   \n",
       "\n",
       "   pct_sched_journey_atleast1_vp  pct_sched_journey_atleast2_vp  \\\n",
       "0                           1.00                           1.00   \n",
       "\n",
       "   rt_sched_journey_ratio  avg_rt_service_minutes  \\\n",
       "0                    1.53                   79.24   \n",
       "\n",
       "                          name service_date  \n",
       "0  Bay Area 511 Marin Schedule   2024-04-15  "
      ]
     },
     "execution_count": 41,
     "metadata": {},
     "output_type": "execute_result"
    }
   ],
   "source": [
    "df_rt_sched.head(1)"
   ]
  },
  {
   "cell_type": "code",
   "execution_count": 42,
   "id": "fcd7f09d-ee9b-4390-9938-886d87e85451",
   "metadata": {},
   "outputs": [
    {
     "data": {
      "text/html": [
       "<div>\n",
       "<style scoped>\n",
       "    .dataframe tbody tr th:only-of-type {\n",
       "        vertical-align: middle;\n",
       "    }\n",
       "\n",
       "    .dataframe tbody tr th {\n",
       "        vertical-align: top;\n",
       "    }\n",
       "\n",
       "    .dataframe thead th {\n",
       "        text-align: right;\n",
       "    }\n",
       "</style>\n",
       "<table border=\"1\" class=\"dataframe\">\n",
       "  <thead>\n",
       "    <tr style=\"text-align: right;\">\n",
       "      <th></th>\n",
       "      <th>schedule_gtfs_dataset_key</th>\n",
       "      <th>route_id</th>\n",
       "      <th>direction_id</th>\n",
       "      <th>time_period</th>\n",
       "      <th>stop_primary_direction</th>\n",
       "      <th>avg_scheduled_service_minutes</th>\n",
       "      <th>avg_stop_miles</th>\n",
       "      <th>n_scheduled_trips</th>\n",
       "      <th>frequency</th>\n",
       "      <th>is_express</th>\n",
       "      <th>is_rapid</th>\n",
       "      <th>is_rail</th>\n",
       "      <th>is_coverage</th>\n",
       "      <th>is_downtown_local</th>\n",
       "      <th>is_local</th>\n",
       "      <th>service_date</th>\n",
       "      <th>typology</th>\n",
       "    </tr>\n",
       "  </thead>\n",
       "  <tbody>\n",
       "    <tr>\n",
       "      <th>0</th>\n",
       "      <td>015d67d5b75b5cf2b710bbadadfb75f5</td>\n",
       "      <td>17</td>\n",
       "      <td>0.00</td>\n",
       "      <td>all_day</td>\n",
       "      <td>Northbound</td>\n",
       "      <td>51.77</td>\n",
       "      <td>0.27</td>\n",
       "      <td>22</td>\n",
       "      <td>0.92</td>\n",
       "      <td>0.00</td>\n",
       "      <td>0.00</td>\n",
       "      <td>0.00</td>\n",
       "      <td>0.00</td>\n",
       "      <td>1.00</td>\n",
       "      <td>0.00</td>\n",
       "      <td>2024-04-15</td>\n",
       "      <td>downtown_local</td>\n",
       "    </tr>\n",
       "  </tbody>\n",
       "</table>\n",
       "</div>"
      ],
      "text/plain": [
       "          schedule_gtfs_dataset_key route_id  direction_id time_period  \\\n",
       "0  015d67d5b75b5cf2b710bbadadfb75f5       17          0.00     all_day   \n",
       "\n",
       "  stop_primary_direction  avg_scheduled_service_minutes  avg_stop_miles  \\\n",
       "0             Northbound                          51.77            0.27   \n",
       "\n",
       "   n_scheduled_trips  frequency  is_express  is_rapid  is_rail  is_coverage  \\\n",
       "0                 22       0.92        0.00      0.00     0.00         0.00   \n",
       "\n",
       "   is_downtown_local  is_local service_date        typology  \n",
       "0               1.00      0.00   2024-04-15  downtown_local  "
      ]
     },
     "execution_count": 42,
     "metadata": {},
     "output_type": "execute_result"
    }
   ],
   "source": [
    "df_sched2.head(1)"
   ]
  },
  {
   "cell_type": "code",
   "execution_count": 43,
   "id": "bc93a2fe-3f61-4755-b8b6-2bdd228edc10",
   "metadata": {},
   "outputs": [],
   "source": [
    "# Later cardinal direction col will be added\n",
    "route_time_cols2 = [\n",
    "    \"schedule_gtfs_dataset_key\",\n",
    "    \"route_id\",\n",
    "    \"direction_id\",\n",
    "    \"time_period\",\n",
    "]"
   ]
  },
  {
   "cell_type": "code",
   "execution_count": 44,
   "id": "f2d048b2-1d04-42ef-87c8-54ba98cf7343",
   "metadata": {},
   "outputs": [],
   "source": [
    "df = pd.merge(\n",
    "    df_sched2,\n",
    "    df_rt_sched,\n",
    "    on=route_time_cols2 + [\"service_date\"],\n",
    "    how=\"outer\",\n",
    "    indicator=\"sched_rt_category\",\n",
    ")"
   ]
  },
  {
   "cell_type": "code",
   "execution_count": 45,
   "id": "8eda787b-e561-426e-ba50-5729dee51acd",
   "metadata": {},
   "outputs": [
    {
     "data": {
      "text/plain": [
       "both          16480\n",
       "left_only      4546\n",
       "right_only     1039\n",
       "Name: sched_rt_category, dtype: int64"
      ]
     },
     "execution_count": 45,
     "metadata": {},
     "output_type": "execute_result"
    }
   ],
   "source": [
    "df.sched_rt_category.value_counts()"
   ]
  },
  {
   "cell_type": "code",
   "execution_count": 46,
   "id": "9fd17575-a297-4ddc-885e-c03cac5d5267",
   "metadata": {},
   "outputs": [],
   "source": [
    "df = pd.merge(df,\n",
    "    df_avg_speeds,\n",
    "    on=route_time_cols2 + [\"service_date\"],\n",
    "    how=\"outer\"\n",
    ")"
   ]
  },
  {
   "cell_type": "code",
   "execution_count": 47,
   "id": "77ec4b66-31b7-4ec9-b971-dbf161c003f7",
   "metadata": {},
   "outputs": [],
   "source": [
    "# df2.test_indicator.value_counts()"
   ]
  },
  {
   "cell_type": "code",
   "execution_count": 48,
   "id": "06fa9aa7-43bc-4e19-8700-3a82d20808b6",
   "metadata": {},
   "outputs": [],
   "source": [
    "df = df.assign(\n",
    "        sched_rt_category = df.sched_rt_category.map(\n",
    "            gtfs_schedule_wrangling.sched_rt_category_dict)\n",
    "    )"
   ]
  },
  {
   "cell_type": "code",
   "execution_count": 49,
   "id": "798f613f-2b09-4d3a-8dab-2979dec0785f",
   "metadata": {},
   "outputs": [
    {
     "data": {
      "text/html": [
       "<div>\n",
       "<style scoped>\n",
       "    .dataframe tbody tr th:only-of-type {\n",
       "        vertical-align: middle;\n",
       "    }\n",
       "\n",
       "    .dataframe tbody tr th {\n",
       "        vertical-align: top;\n",
       "    }\n",
       "\n",
       "    .dataframe thead th {\n",
       "        text-align: right;\n",
       "    }\n",
       "</style>\n",
       "<table border=\"1\" class=\"dataframe\">\n",
       "  <thead>\n",
       "    <tr style=\"text-align: right;\">\n",
       "      <th></th>\n",
       "      <th>schedule_gtfs_dataset_key</th>\n",
       "      <th>route_id</th>\n",
       "      <th>direction_id</th>\n",
       "      <th>time_period</th>\n",
       "      <th>stop_primary_direction</th>\n",
       "      <th>avg_scheduled_service_minutes</th>\n",
       "      <th>avg_stop_miles</th>\n",
       "      <th>n_scheduled_trips</th>\n",
       "      <th>frequency</th>\n",
       "      <th>is_express</th>\n",
       "      <th>is_rapid</th>\n",
       "      <th>is_rail</th>\n",
       "      <th>is_coverage</th>\n",
       "      <th>is_downtown_local</th>\n",
       "      <th>is_local</th>\n",
       "      <th>service_date</th>\n",
       "      <th>typology</th>\n",
       "      <th>minutes_atleast1_vp</th>\n",
       "      <th>minutes_atleast2_vp</th>\n",
       "      <th>total_rt_service_minutes</th>\n",
       "      <th>total_scheduled_service_minutes</th>\n",
       "      <th>total_vp</th>\n",
       "      <th>vp_in_shape</th>\n",
       "      <th>is_early</th>\n",
       "      <th>is_ontime</th>\n",
       "      <th>is_late</th>\n",
       "      <th>n_vp_trips</th>\n",
       "      <th>vp_per_minute</th>\n",
       "      <th>pct_in_shape</th>\n",
       "      <th>pct_rt_journey_atleast1_vp</th>\n",
       "      <th>pct_rt_journey_atleast2_vp</th>\n",
       "      <th>pct_sched_journey_atleast1_vp</th>\n",
       "      <th>pct_sched_journey_atleast2_vp</th>\n",
       "      <th>rt_sched_journey_ratio</th>\n",
       "      <th>avg_rt_service_minutes</th>\n",
       "      <th>name</th>\n",
       "      <th>sched_rt_category</th>\n",
       "      <th>speed_mph</th>\n",
       "    </tr>\n",
       "  </thead>\n",
       "  <tbody>\n",
       "    <tr>\n",
       "      <th>0</th>\n",
       "      <td>015d67d5b75b5cf2b710bbadadfb75f5</td>\n",
       "      <td>17</td>\n",
       "      <td>0.00</td>\n",
       "      <td>all_day</td>\n",
       "      <td>Northbound</td>\n",
       "      <td>51.77</td>\n",
       "      <td>0.27</td>\n",
       "      <td>22.00</td>\n",
       "      <td>0.92</td>\n",
       "      <td>0.00</td>\n",
       "      <td>0.00</td>\n",
       "      <td>0.00</td>\n",
       "      <td>0.00</td>\n",
       "      <td>1.00</td>\n",
       "      <td>0.00</td>\n",
       "      <td>2024-04-15</td>\n",
       "      <td>downtown_local</td>\n",
       "      <td>1600.00</td>\n",
       "      <td>1575.00</td>\n",
       "      <td>1743.37</td>\n",
       "      <td>1139.00</td>\n",
       "      <td>4728.00</td>\n",
       "      <td>3813.00</td>\n",
       "      <td>0.00</td>\n",
       "      <td>0.00</td>\n",
       "      <td>22.00</td>\n",
       "      <td>22.00</td>\n",
       "      <td>2.71</td>\n",
       "      <td>0.81</td>\n",
       "      <td>0.92</td>\n",
       "      <td>0.90</td>\n",
       "      <td>1.00</td>\n",
       "      <td>1.00</td>\n",
       "      <td>1.53</td>\n",
       "      <td>79.24</td>\n",
       "      <td>Bay Area 511 Marin Schedule</td>\n",
       "      <td>schedule_and_vp</td>\n",
       "      <td>17.94</td>\n",
       "    </tr>\n",
       "  </tbody>\n",
       "</table>\n",
       "</div>"
      ],
      "text/plain": [
       "          schedule_gtfs_dataset_key route_id  direction_id time_period  \\\n",
       "0  015d67d5b75b5cf2b710bbadadfb75f5       17          0.00     all_day   \n",
       "\n",
       "  stop_primary_direction  avg_scheduled_service_minutes  avg_stop_miles  \\\n",
       "0             Northbound                          51.77            0.27   \n",
       "\n",
       "   n_scheduled_trips  frequency  is_express  is_rapid  is_rail  is_coverage  \\\n",
       "0              22.00       0.92        0.00      0.00     0.00         0.00   \n",
       "\n",
       "   is_downtown_local  is_local service_date        typology  \\\n",
       "0               1.00      0.00   2024-04-15  downtown_local   \n",
       "\n",
       "   minutes_atleast1_vp  minutes_atleast2_vp  total_rt_service_minutes  \\\n",
       "0              1600.00              1575.00                   1743.37   \n",
       "\n",
       "   total_scheduled_service_minutes  total_vp  vp_in_shape  is_early  \\\n",
       "0                          1139.00   4728.00      3813.00      0.00   \n",
       "\n",
       "   is_ontime  is_late  n_vp_trips  vp_per_minute  pct_in_shape  \\\n",
       "0       0.00    22.00       22.00           2.71          0.81   \n",
       "\n",
       "   pct_rt_journey_atleast1_vp  pct_rt_journey_atleast2_vp  \\\n",
       "0                        0.92                        0.90   \n",
       "\n",
       "   pct_sched_journey_atleast1_vp  pct_sched_journey_atleast2_vp  \\\n",
       "0                           1.00                           1.00   \n",
       "\n",
       "   rt_sched_journey_ratio  avg_rt_service_minutes  \\\n",
       "0                    1.53                   79.24   \n",
       "\n",
       "                          name sched_rt_category  speed_mph  \n",
       "0  Bay Area 511 Marin Schedule   schedule_and_vp      17.94  "
      ]
     },
     "execution_count": 49,
     "metadata": {},
     "output_type": "execute_result"
    }
   ],
   "source": [
    "df.head(1)"
   ]
  },
  {
   "cell_type": "code",
   "execution_count": 50,
   "id": "4e8c2b19-63f3-46ab-8453-61d153b5b9be",
   "metadata": {},
   "outputs": [
    {
     "data": {
      "text/plain": [
       "schedule_and_vp    16480\n",
       "schedule_only       4546\n",
       "vp_only             1039\n",
       "Name: sched_rt_category, dtype: int64"
      ]
     },
     "execution_count": 50,
     "metadata": {},
     "output_type": "execute_result"
    }
   ],
   "source": [
    "df.sched_rt_category.value_counts()"
   ]
  },
  {
   "cell_type": "code",
   "execution_count": 51,
   "id": "fd569f49-427d-4ded-8391-c16395cf0b2f",
   "metadata": {},
   "outputs": [
    {
     "data": {
      "text/plain": [
       "(22065, 38)"
      ]
     },
     "execution_count": 51,
     "metadata": {},
     "output_type": "execute_result"
    }
   ],
   "source": [
    "df.shape"
   ]
  },
  {
   "cell_type": "markdown",
   "id": "8515a193-dd5f-4822-a43b-d0aa7da0e8a4",
   "metadata": {},
   "source": [
    "#### Breaking out `merge_in_standardized_route_names`\n",
    "* Doesn't work because service_dates don't match. \n",
    "* Guess it's due to testing on two days that dont match."
   ]
  },
  {
   "cell_type": "code",
   "execution_count": 52,
   "id": "ef98959b-fd16-470a-9825-c5704ac6888f",
   "metadata": {},
   "outputs": [],
   "source": [
    "def merge_in_standardized_route_names(\n",
    "    df: pd.DataFrame,\n",
    ") -> pd.DataFrame:\n",
    "\n",
    "    keep_cols = [\n",
    "        \"schedule_gtfs_dataset_key\",\n",
    "        \"name\",\n",
    "        \"route_id\",\n",
    "        \"service_date\",\n",
    "    ]\n",
    "\n",
    "    CLEAN_ROUTES = GTFS_DATA_DICT.schedule_tables.route_identification\n",
    "\n",
    "    route_names_df = pd.read_parquet(f\"{SCHED_GCS}{CLEAN_ROUTES}.parquet\")\n",
    "\n",
    "    route_names_df = time_series_utils.clean_standardized_route_names(\n",
    "        route_names_df\n",
    "    ).drop_duplicates()\n",
    "\n",
    "    if \"name\" in df.columns:\n",
    "        df = df.drop(columns=\"name\")\n",
    "\n",
    "    # Use `route_id` to merge to standardized_route_names\n",
    "    df2 = pd.merge(\n",
    "        df,\n",
    "        route_names_df,\n",
    "        on=[\"schedule_gtfs_dataset_key\", \"route_id\", \"service_date\"],\n",
    "        how=\"left\",\n",
    "    ).drop_duplicates()\n",
    "\n",
    "    # Clean up\n",
    "\n",
    "    # After merging, we can replace route_id with recent_route_id2\n",
    "    drop_cols = [\"route_desc\", \"combined_name\", \"route_id2\"]\n",
    "\n",
    "    df3 = (\n",
    "        time_series_utils.parse_route_combined_name(df2)\n",
    "        .drop(columns=drop_cols)\n",
    "        .drop_duplicates()\n",
    "        .reset_index(drop=True)\n",
    "    )\n",
    "\n",
    "    return df3"
   ]
  },
  {
   "cell_type": "code",
   "execution_count": 53,
   "id": "578b8940-115a-4ee4-ae5f-0c691171b458",
   "metadata": {},
   "outputs": [],
   "source": [
    "CLEAN_ROUTES = GTFS_DATA_DICT.schedule_tables.route_identification\n",
    "\n",
    "route_names_df = pd.read_parquet(f\"{SCHED_GCS}{CLEAN_ROUTES}.parquet\")\n",
    "\n",
    "route_names_df = time_series_utils.clean_standardized_route_names(\n",
    "        route_names_df\n",
    "    ).drop_duplicates()"
   ]
  },
  {
   "cell_type": "code",
   "execution_count": 54,
   "id": "87b25f5f-3a83-470b-86a7-84c1b1ad37bd",
   "metadata": {},
   "outputs": [
    {
     "data": {
      "text/plain": [
       "array(['2024-04-15T00:00:00.000000000', '2024-04-16T00:00:00.000000000'],\n",
       "      dtype='datetime64[ns]')"
      ]
     },
     "execution_count": 54,
     "metadata": {},
     "output_type": "execute_result"
    }
   ],
   "source": [
    "df.service_date.unique()"
   ]
  },
  {
   "cell_type": "code",
   "execution_count": 55,
   "id": "ba77b4b9-390a-40a0-9899-d25d1db7d723",
   "metadata": {},
   "outputs": [
    {
     "data": {
      "text/plain": [
       "array(['2024-01-17T00:00:00.000000000', '2024-02-14T00:00:00.000000000',\n",
       "       '2024-03-13T00:00:00.000000000', '2024-04-17T00:00:00.000000000',\n",
       "       '2024-05-26T00:00:00.000000000', '2023-03-15T00:00:00.000000000',\n",
       "       '2023-04-12T00:00:00.000000000', '2023-05-17T00:00:00.000000000',\n",
       "       '2023-06-14T00:00:00.000000000', '2023-07-12T00:00:00.000000000',\n",
       "       '2023-08-15T00:00:00.000000000', '2023-09-13T00:00:00.000000000',\n",
       "       '2023-10-11T00:00:00.000000000', '2023-11-15T00:00:00.000000000',\n",
       "       '2023-12-13T00:00:00.000000000'], dtype='datetime64[ns]')"
      ]
     },
     "execution_count": 55,
     "metadata": {},
     "output_type": "execute_result"
    }
   ],
   "source": [
    "route_names_df.service_date.unique()"
   ]
  },
  {
   "cell_type": "code",
   "execution_count": 56,
   "id": "6b225426-d227-4ab2-b5c3-8e1d12c294fe",
   "metadata": {},
   "outputs": [
    {
     "data": {
      "text/html": [
       "<div>\n",
       "<style scoped>\n",
       "    .dataframe tbody tr th:only-of-type {\n",
       "        vertical-align: middle;\n",
       "    }\n",
       "\n",
       "    .dataframe tbody tr th {\n",
       "        vertical-align: top;\n",
       "    }\n",
       "\n",
       "    .dataframe thead th {\n",
       "        text-align: right;\n",
       "    }\n",
       "</style>\n",
       "<table border=\"1\" class=\"dataframe\">\n",
       "  <thead>\n",
       "    <tr style=\"text-align: right;\">\n",
       "      <th></th>\n",
       "      <th>schedule_gtfs_dataset_key</th>\n",
       "      <th>name</th>\n",
       "      <th>route_id</th>\n",
       "      <th>route_long_name</th>\n",
       "      <th>route_short_name</th>\n",
       "      <th>route_desc</th>\n",
       "      <th>service_date</th>\n",
       "      <th>combined_name</th>\n",
       "      <th>route_id2</th>\n",
       "      <th>recent_combined_name</th>\n",
       "      <th>recent_route_id2</th>\n",
       "    </tr>\n",
       "  </thead>\n",
       "  <tbody>\n",
       "    <tr>\n",
       "      <th>0</th>\n",
       "      <td>1770249a5a2e770ca90628434d4934b1</td>\n",
       "      <td>VCTC GMV Schedule</td>\n",
       "      <td>3407</td>\n",
       "      <td>Route 18</td>\n",
       "      <td>Route 18</td>\n",
       "      <td>OHS TRIPPER - C ST - DORIS ST</td>\n",
       "      <td>2024-01-17</td>\n",
       "      <td>Route 18__Route 18</td>\n",
       "      <td>3407</td>\n",
       "      <td>Route 18</td>\n",
       "      <td>3407</td>\n",
       "    </tr>\n",
       "    <tr>\n",
       "      <th>1</th>\n",
       "      <td>1770249a5a2e770ca90628434d4934b1</td>\n",
       "      <td>VCTC GMV Schedule</td>\n",
       "      <td>3408</td>\n",
       "      <td>Route 21</td>\n",
       "      <td>Route 21</td>\n",
       "      <td>PACIFIC VIEW MALL via VICTORIA AVE</td>\n",
       "      <td>2024-01-17</td>\n",
       "      <td>Route 21__Route 21</td>\n",
       "      <td>3408</td>\n",
       "      <td>Route 21</td>\n",
       "      <td>3408</td>\n",
       "    </tr>\n",
       "  </tbody>\n",
       "</table>\n",
       "</div>"
      ],
      "text/plain": [
       "          schedule_gtfs_dataset_key               name route_id  \\\n",
       "0  1770249a5a2e770ca90628434d4934b1  VCTC GMV Schedule     3407   \n",
       "1  1770249a5a2e770ca90628434d4934b1  VCTC GMV Schedule     3408   \n",
       "\n",
       "  route_long_name route_short_name                          route_desc  \\\n",
       "0        Route 18         Route 18       OHS TRIPPER - C ST - DORIS ST   \n",
       "1        Route 21         Route 21  PACIFIC VIEW MALL via VICTORIA AVE   \n",
       "\n",
       "  service_date       combined_name route_id2 recent_combined_name  \\\n",
       "0   2024-01-17  Route 18__Route 18      3407             Route 18   \n",
       "1   2024-01-17  Route 21__Route 21      3408             Route 21   \n",
       "\n",
       "  recent_route_id2  \n",
       "0             3407  \n",
       "1             3408  "
      ]
     },
     "execution_count": 56,
     "metadata": {},
     "output_type": "execute_result"
    }
   ],
   "source": [
    "route_names_df.head(2)"
   ]
  },
  {
   "cell_type": "code",
   "execution_count": 57,
   "id": "dae528cc-2a4d-4d8a-8f35-258861e21596",
   "metadata": {},
   "outputs": [],
   "source": [
    "if \"name\" in df.columns:\n",
    "        df = df.drop(columns=\"name\")"
   ]
  },
  {
   "cell_type": "code",
   "execution_count": 58,
   "id": "12a2b315-55a0-4fbd-a553-5c620e668667",
   "metadata": {},
   "outputs": [
    {
     "name": "stdout",
     "output_type": "stream",
     "text": [
      "<class 'pandas.core.frame.DataFrame'>\n",
      "Int64Index: 22065 entries, 0 to 22064\n",
      "Data columns (total 37 columns):\n",
      " #   Column                           Non-Null Count  Dtype         \n",
      "---  ------                           --------------  -----         \n",
      " 0   schedule_gtfs_dataset_key        22065 non-null  object        \n",
      " 1   route_id                         22065 non-null  object        \n",
      " 2   direction_id                     22065 non-null  float64       \n",
      " 3   time_period                      22065 non-null  object        \n",
      " 4   stop_primary_direction           21026 non-null  object        \n",
      " 5   avg_scheduled_service_minutes    21026 non-null  float64       \n",
      " 6   avg_stop_miles                   21026 non-null  float64       \n",
      " 7   n_scheduled_trips                21026 non-null  float64       \n",
      " 8   frequency                        21026 non-null  float64       \n",
      " 9   is_express                       19949 non-null  float64       \n",
      " 10  is_rapid                         19949 non-null  float64       \n",
      " 11  is_rail                          19949 non-null  float64       \n",
      " 12  is_coverage                      19949 non-null  float64       \n",
      " 13  is_downtown_local                19949 non-null  float64       \n",
      " 14  is_local                         19949 non-null  float64       \n",
      " 15  service_date                     22065 non-null  datetime64[ns]\n",
      " 16  typology                         21026 non-null  object        \n",
      " 17  minutes_atleast1_vp              17519 non-null  float64       \n",
      " 18  minutes_atleast2_vp              17519 non-null  float64       \n",
      " 19  total_rt_service_minutes         17519 non-null  float64       \n",
      " 20  total_scheduled_service_minutes  17519 non-null  float64       \n",
      " 21  total_vp                         17519 non-null  float64       \n",
      " 22  vp_in_shape                      17519 non-null  float64       \n",
      " 23  is_early                         17519 non-null  float64       \n",
      " 24  is_ontime                        17519 non-null  float64       \n",
      " 25  is_late                          17519 non-null  float64       \n",
      " 26  n_vp_trips                       17519 non-null  float64       \n",
      " 27  vp_per_minute                    17519 non-null  float64       \n",
      " 28  pct_in_shape                     17519 non-null  float64       \n",
      " 29  pct_rt_journey_atleast1_vp       17519 non-null  float64       \n",
      " 30  pct_rt_journey_atleast2_vp       17519 non-null  float64       \n",
      " 31  pct_sched_journey_atleast1_vp    17519 non-null  float64       \n",
      " 32  pct_sched_journey_atleast2_vp    17519 non-null  float64       \n",
      " 33  rt_sched_journey_ratio           17519 non-null  float64       \n",
      " 34  avg_rt_service_minutes           17519 non-null  float64       \n",
      " 35  sched_rt_category                22065 non-null  category      \n",
      " 36  speed_mph                        16920 non-null  float64       \n",
      "dtypes: category(1), datetime64[ns](1), float64(30), object(5)\n",
      "memory usage: 6.2+ MB\n"
     ]
    }
   ],
   "source": [
    "df.info()"
   ]
  },
  {
   "cell_type": "code",
   "execution_count": 59,
   "id": "6f828b0f-0107-4002-b507-1e3daea8018f",
   "metadata": {},
   "outputs": [
    {
     "name": "stdout",
     "output_type": "stream",
     "text": [
      "<class 'pandas.core.frame.DataFrame'>\n",
      "Int64Index: 36753 entries, 0 to 36752\n",
      "Data columns (total 11 columns):\n",
      " #   Column                     Non-Null Count  Dtype         \n",
      "---  ------                     --------------  -----         \n",
      " 0   schedule_gtfs_dataset_key  36753 non-null  object        \n",
      " 1   name                       36753 non-null  object        \n",
      " 2   route_id                   36753 non-null  object        \n",
      " 3   route_long_name            36753 non-null  object        \n",
      " 4   route_short_name           36753 non-null  object        \n",
      " 5   route_desc                 9957 non-null   object        \n",
      " 6   service_date               36753 non-null  datetime64[ns]\n",
      " 7   combined_name              36753 non-null  object        \n",
      " 8   route_id2                  36753 non-null  object        \n",
      " 9   recent_combined_name       36753 non-null  object        \n",
      " 10  recent_route_id2           36753 non-null  object        \n",
      "dtypes: datetime64[ns](1), object(10)\n",
      "memory usage: 3.4+ MB\n"
     ]
    }
   ],
   "source": [
    "route_names_df.info()"
   ]
  },
  {
   "cell_type": "markdown",
   "id": "3a4e0e1c-8b3c-47ab-bc77-99eb01cbbe10",
   "metadata": {},
   "source": [
    "##### Why is nothing merging??\n",
    "* `Service_Dates` are different."
   ]
  },
  {
   "cell_type": "code",
   "execution_count": 60,
   "id": "b56a5412-62a3-4efb-9af4-213e2ab4ba25",
   "metadata": {},
   "outputs": [],
   "source": [
    "# Use `route_id` to merge to standardized_route_names\n",
    "df2 = pd.merge(\n",
    "        df,\n",
    "        route_names_df.drop(columns = [\"service_date\"]),\n",
    "        on=[\"schedule_gtfs_dataset_key\", \"route_id\"],\n",
    "        how=\"outer\",\n",
    "        indicator = True\n",
    "    ).drop_duplicates()"
   ]
  },
  {
   "cell_type": "code",
   "execution_count": 61,
   "id": "741d0fd5-6769-4ae5-a08c-78cbb01aeef3",
   "metadata": {},
   "outputs": [
    {
     "data": {
      "text/plain": [
       "both          24757\n",
       "right_only     4021\n",
       "left_only        59\n",
       "Name: _merge, dtype: int64"
      ]
     },
     "execution_count": 61,
     "metadata": {},
     "output_type": "execute_result"
    }
   ],
   "source": [
    "df2._merge.value_counts()"
   ]
  },
  {
   "cell_type": "code",
   "execution_count": 62,
   "id": "3098ca42-404c-4048-9fd4-0fec6457fc29",
   "metadata": {},
   "outputs": [
    {
     "data": {
      "text/plain": [
       "{'ab4afaba30ad503b6fbaf2e7eed20712'}"
      ]
     },
     "execution_count": 62,
     "metadata": {},
     "output_type": "execute_result"
    }
   ],
   "source": [
    "df_gtfs_key = set(df.schedule_gtfs_dataset_key.unique().tolist())\n",
    "route_names_df_gtfs_keys = set(route_names_df.schedule_gtfs_dataset_key.unique().tolist())\n",
    "df_gtfs_key - route_names_df_gtfs_keys"
   ]
  },
  {
   "cell_type": "code",
   "execution_count": 63,
   "id": "a3ec0f9d-faae-41c2-be9f-a85e2bb9f1d1",
   "metadata": {},
   "outputs": [
    {
     "data": {
      "text/plain": [
       "{1713139200000000000, 1713225600000000000}"
      ]
     },
     "execution_count": 63,
     "metadata": {},
     "output_type": "execute_result"
    }
   ],
   "source": [
    "df_dates = set(df.service_date.unique().tolist())\n",
    "route_names_df_dates  = set(route_names_df.service_date.unique().tolist())\n",
    "df_dates - route_names_df_dates"
   ]
  },
  {
   "cell_type": "markdown",
   "id": "d41459fc-3881-4825-968f-7f5851595d68",
   "metadata": {},
   "source": [
    "#### Merge `df_crosswalk`"
   ]
  },
  {
   "cell_type": "code",
   "execution_count": 64,
   "id": "6e9b362f-b257-4fe4-ad04-27cc4044085e",
   "metadata": {},
   "outputs": [],
   "source": [
    "df2 = df2.drop(columns = [\"_merge\"])"
   ]
  },
  {
   "cell_type": "code",
   "execution_count": 65,
   "id": "5fa92baa-dee1-4b8d-abdd-580a4b143dff",
   "metadata": {},
   "outputs": [
    {
     "data": {
      "text/plain": [
       "Index(['schedule_gtfs_dataset_key', 'route_id', 'direction_id', 'time_period',\n",
       "       'stop_primary_direction', 'avg_scheduled_service_minutes',\n",
       "       'avg_stop_miles', 'n_scheduled_trips', 'frequency', 'is_express',\n",
       "       'is_rapid', 'is_rail', 'is_coverage', 'is_downtown_local', 'is_local',\n",
       "       'service_date', 'typology', 'minutes_atleast1_vp',\n",
       "       'minutes_atleast2_vp', 'total_rt_service_minutes',\n",
       "       'total_scheduled_service_minutes', 'total_vp', 'vp_in_shape',\n",
       "       'is_early', 'is_ontime', 'is_late', 'n_vp_trips', 'vp_per_minute',\n",
       "       'pct_in_shape', 'pct_rt_journey_atleast1_vp',\n",
       "       'pct_rt_journey_atleast2_vp', 'pct_sched_journey_atleast1_vp',\n",
       "       'pct_sched_journey_atleast2_vp', 'rt_sched_journey_ratio',\n",
       "       'avg_rt_service_minutes', 'sched_rt_category', 'speed_mph', 'name',\n",
       "       'route_long_name', 'route_short_name', 'route_desc', 'combined_name',\n",
       "       'route_id2', 'recent_combined_name', 'recent_route_id2'],\n",
       "      dtype='object')"
      ]
     },
     "execution_count": 65,
     "metadata": {},
     "output_type": "execute_result"
    }
   ],
   "source": [
    "df2.columns"
   ]
  },
  {
   "cell_type": "code",
   "execution_count": 66,
   "id": "80720b5b-4930-488c-bf59-6692113cfb4d",
   "metadata": {},
   "outputs": [
    {
     "data": {
      "text/plain": [
       "_merge    \n",
       "both          24757\n",
       "left_only      4080\n",
       "right_only       31\n",
       "dtype: int64"
      ]
     },
     "execution_count": 66,
     "metadata": {},
     "output_type": "execute_result"
    }
   ],
   "source": [
    "pd.merge(\n",
    "        df2,\n",
    "        df_crosswalk,\n",
    "        on = [\"schedule_gtfs_dataset_key\", \"name\", \"service_date\"],\n",
    "        how = \"outer\",\n",
    "        indicator = True\n",
    "    )[[\"_merge\"]].value_counts()"
   ]
  },
  {
   "cell_type": "code",
   "execution_count": 67,
   "id": "5d51762c-98e7-4140-b5c1-8409d1ca26ca",
   "metadata": {},
   "outputs": [],
   "source": [
    "df2 = pd.merge(\n",
    "        df2,\n",
    "        df_crosswalk,\n",
    "        on = [\"schedule_gtfs_dataset_key\", \"name\", \"service_date\"],\n",
    "        how = \"left\"\n",
    "    )"
   ]
  },
  {
   "cell_type": "code",
   "execution_count": 68,
   "id": "f260e328-2823-4e3c-a2ba-5a571d761d22",
   "metadata": {},
   "outputs": [],
   "source": [
    "integrify = [\n",
    "        \"n_scheduled_trips\", \"n_vp_trips\",\n",
    "        \"minutes_atleast1_vp\", \"minutes_atleast2_vp\",\n",
    "        \"total_vp\", \"vp_in_shape\",\n",
    "        \"is_early\", \"is_ontime\", \"is_late\"\n",
    "    ]\n",
    "    \n",
    "df2[integrify] = df2[integrify].fillna(0).astype(\"int\")"
   ]
  },
  {
   "cell_type": "code",
   "execution_count": 69,
   "id": "951fe2ae-932b-4619-bcee-490a98e562d0",
   "metadata": {},
   "outputs": [
    {
     "data": {
      "text/plain": [
       "(28837, 50)"
      ]
     },
     "execution_count": 69,
     "metadata": {},
     "output_type": "execute_result"
    }
   ],
   "source": [
    "df2.shape"
   ]
  },
  {
   "cell_type": "code",
   "execution_count": 70,
   "id": "a6fa0802-77a2-4046-a818-52b49bde36b1",
   "metadata": {},
   "outputs": [
    {
     "data": {
      "text/html": [
       "<div>\n",
       "<style scoped>\n",
       "    .dataframe tbody tr th:only-of-type {\n",
       "        vertical-align: middle;\n",
       "    }\n",
       "\n",
       "    .dataframe tbody tr th {\n",
       "        vertical-align: top;\n",
       "    }\n",
       "\n",
       "    .dataframe thead th {\n",
       "        text-align: right;\n",
       "    }\n",
       "</style>\n",
       "<table border=\"1\" class=\"dataframe\">\n",
       "  <thead>\n",
       "    <tr style=\"text-align: right;\">\n",
       "      <th></th>\n",
       "      <th>schedule_gtfs_dataset_key</th>\n",
       "      <th>route_id</th>\n",
       "      <th>direction_id</th>\n",
       "      <th>time_period</th>\n",
       "      <th>stop_primary_direction</th>\n",
       "      <th>avg_scheduled_service_minutes</th>\n",
       "      <th>avg_stop_miles</th>\n",
       "      <th>n_scheduled_trips</th>\n",
       "      <th>frequency</th>\n",
       "      <th>is_express</th>\n",
       "      <th>is_rapid</th>\n",
       "      <th>is_rail</th>\n",
       "      <th>is_coverage</th>\n",
       "      <th>is_downtown_local</th>\n",
       "      <th>is_local</th>\n",
       "      <th>service_date</th>\n",
       "      <th>typology</th>\n",
       "      <th>minutes_atleast1_vp</th>\n",
       "      <th>minutes_atleast2_vp</th>\n",
       "      <th>total_rt_service_minutes</th>\n",
       "      <th>total_scheduled_service_minutes</th>\n",
       "      <th>total_vp</th>\n",
       "      <th>vp_in_shape</th>\n",
       "      <th>is_early</th>\n",
       "      <th>is_ontime</th>\n",
       "      <th>is_late</th>\n",
       "      <th>n_vp_trips</th>\n",
       "      <th>vp_per_minute</th>\n",
       "      <th>pct_in_shape</th>\n",
       "      <th>pct_rt_journey_atleast1_vp</th>\n",
       "      <th>pct_rt_journey_atleast2_vp</th>\n",
       "      <th>pct_sched_journey_atleast1_vp</th>\n",
       "      <th>pct_sched_journey_atleast2_vp</th>\n",
       "      <th>rt_sched_journey_ratio</th>\n",
       "      <th>avg_rt_service_minutes</th>\n",
       "      <th>sched_rt_category</th>\n",
       "      <th>speed_mph</th>\n",
       "      <th>name</th>\n",
       "      <th>route_long_name</th>\n",
       "      <th>route_short_name</th>\n",
       "      <th>route_desc</th>\n",
       "      <th>combined_name</th>\n",
       "      <th>route_id2</th>\n",
       "      <th>recent_combined_name</th>\n",
       "      <th>recent_route_id2</th>\n",
       "      <th>schedule_source_record_id</th>\n",
       "      <th>base64_url</th>\n",
       "      <th>organization_source_record_id</th>\n",
       "      <th>organization_name</th>\n",
       "      <th>caltrans_district</th>\n",
       "    </tr>\n",
       "  </thead>\n",
       "  <tbody>\n",
       "    <tr>\n",
       "      <th>0</th>\n",
       "      <td>015d67d5b75b5cf2b710bbadadfb75f5</td>\n",
       "      <td>17</td>\n",
       "      <td>0.00</td>\n",
       "      <td>all_day</td>\n",
       "      <td>Northbound</td>\n",
       "      <td>51.77</td>\n",
       "      <td>0.27</td>\n",
       "      <td>22</td>\n",
       "      <td>0.92</td>\n",
       "      <td>0.00</td>\n",
       "      <td>0.00</td>\n",
       "      <td>0.00</td>\n",
       "      <td>0.00</td>\n",
       "      <td>1.00</td>\n",
       "      <td>0.00</td>\n",
       "      <td>2024-04-15</td>\n",
       "      <td>downtown_local</td>\n",
       "      <td>1600</td>\n",
       "      <td>1575</td>\n",
       "      <td>1743.37</td>\n",
       "      <td>1139.00</td>\n",
       "      <td>4728</td>\n",
       "      <td>3813</td>\n",
       "      <td>0</td>\n",
       "      <td>0</td>\n",
       "      <td>22</td>\n",
       "      <td>22</td>\n",
       "      <td>2.71</td>\n",
       "      <td>0.81</td>\n",
       "      <td>0.92</td>\n",
       "      <td>0.90</td>\n",
       "      <td>1.00</td>\n",
       "      <td>1.00</td>\n",
       "      <td>1.53</td>\n",
       "      <td>79.24</td>\n",
       "      <td>schedule_and_vp</td>\n",
       "      <td>17.94</td>\n",
       "      <td>Bay Area 511 Marin Schedule</td>\n",
       "      <td>Downtown San Rafael - Sausalito</td>\n",
       "      <td>17</td>\n",
       "      <td>None</td>\n",
       "      <td>17__Downtown San Rafael - Sausalito</td>\n",
       "      <td>17</td>\n",
       "      <td>17__Downtown San Rafael - Sausalito</td>\n",
       "      <td>17</td>\n",
       "      <td>reckCEnFkdLVgfxck</td>\n",
       "      <td>aHR0cHM6Ly9hcGkuNTExLm9yZy90cmFuc2l0L2RhdGFmZWVkcz9vcGVyYXRvcl9pZD1NQQ==</td>\n",
       "      <td>recNOb7pqBRlQVG5e</td>\n",
       "      <td>Marin County Transit District</td>\n",
       "      <td>04 - Oakland</td>\n",
       "    </tr>\n",
       "  </tbody>\n",
       "</table>\n",
       "</div>"
      ],
      "text/plain": [
       "          schedule_gtfs_dataset_key route_id  direction_id time_period  \\\n",
       "0  015d67d5b75b5cf2b710bbadadfb75f5       17          0.00     all_day   \n",
       "\n",
       "  stop_primary_direction  avg_scheduled_service_minutes  avg_stop_miles  \\\n",
       "0             Northbound                          51.77            0.27   \n",
       "\n",
       "   n_scheduled_trips  frequency  is_express  is_rapid  is_rail  is_coverage  \\\n",
       "0                 22       0.92        0.00      0.00     0.00         0.00   \n",
       "\n",
       "   is_downtown_local  is_local service_date        typology  \\\n",
       "0               1.00      0.00   2024-04-15  downtown_local   \n",
       "\n",
       "   minutes_atleast1_vp  minutes_atleast2_vp  total_rt_service_minutes  \\\n",
       "0                 1600                 1575                   1743.37   \n",
       "\n",
       "   total_scheduled_service_minutes  total_vp  vp_in_shape  is_early  \\\n",
       "0                          1139.00      4728         3813         0   \n",
       "\n",
       "   is_ontime  is_late  n_vp_trips  vp_per_minute  pct_in_shape  \\\n",
       "0          0       22          22           2.71          0.81   \n",
       "\n",
       "   pct_rt_journey_atleast1_vp  pct_rt_journey_atleast2_vp  \\\n",
       "0                        0.92                        0.90   \n",
       "\n",
       "   pct_sched_journey_atleast1_vp  pct_sched_journey_atleast2_vp  \\\n",
       "0                           1.00                           1.00   \n",
       "\n",
       "   rt_sched_journey_ratio  avg_rt_service_minutes sched_rt_category  \\\n",
       "0                    1.53                   79.24   schedule_and_vp   \n",
       "\n",
       "   speed_mph                         name                  route_long_name  \\\n",
       "0      17.94  Bay Area 511 Marin Schedule  Downtown San Rafael - Sausalito   \n",
       "\n",
       "  route_short_name route_desc                        combined_name route_id2  \\\n",
       "0               17       None  17__Downtown San Rafael - Sausalito        17   \n",
       "\n",
       "                  recent_combined_name recent_route_id2  \\\n",
       "0  17__Downtown San Rafael - Sausalito               17   \n",
       "\n",
       "  schedule_source_record_id  \\\n",
       "0         reckCEnFkdLVgfxck   \n",
       "\n",
       "                                                                 base64_url  \\\n",
       "0  aHR0cHM6Ly9hcGkuNTExLm9yZy90cmFuc2l0L2RhdGFmZWVkcz9vcGVyYXRvcl9pZD1NQQ==   \n",
       "\n",
       "  organization_source_record_id              organization_name  \\\n",
       "0             recNOb7pqBRlQVG5e  Marin County Transit District   \n",
       "\n",
       "  caltrans_district  \n",
       "0      04 - Oakland  "
      ]
     },
     "execution_count": 70,
     "metadata": {},
     "output_type": "execute_result"
    }
   ],
   "source": [
    "df2.head(1)"
   ]
  },
  {
   "cell_type": "code",
   "execution_count": 71,
   "id": "422c98ae-2204-4ea5-831c-b59c067e6938",
   "metadata": {},
   "outputs": [
    {
     "data": {
      "text/plain": [
       "schedule_and_vp    18640\n",
       "schedule_only       5067\n",
       "vp_only             1109\n",
       "Name: sched_rt_category, dtype: int64"
      ]
     },
     "execution_count": 71,
     "metadata": {},
     "output_type": "execute_result"
    }
   ],
   "source": [
    "df2.sched_rt_category.value_counts()"
   ]
  },
  {
   "cell_type": "code",
   "execution_count": 72,
   "id": "d7aa5c24-7158-4ea0-aece-df7a0bc5cb4f",
   "metadata": {},
   "outputs": [
    {
     "name": "stdout",
     "output_type": "stream",
     "text": [
      "<class 'pandas.core.frame.DataFrame'>\n",
      "Int64Index: 28837 entries, 0 to 28836\n",
      "Data columns (total 50 columns):\n",
      " #   Column                           Non-Null Count  Dtype         \n",
      "---  ------                           --------------  -----         \n",
      " 0   schedule_gtfs_dataset_key        28837 non-null  object        \n",
      " 1   route_id                         28837 non-null  object        \n",
      " 2   direction_id                     24816 non-null  float64       \n",
      " 3   time_period                      24816 non-null  object        \n",
      " 4   stop_primary_direction           23707 non-null  object        \n",
      " 5   avg_scheduled_service_minutes    23707 non-null  float64       \n",
      " 6   avg_stop_miles                   23707 non-null  float64       \n",
      " 7   n_scheduled_trips                28837 non-null  int64         \n",
      " 8   frequency                        23707 non-null  float64       \n",
      " 9   is_express                       22461 non-null  float64       \n",
      " 10  is_rapid                         22461 non-null  float64       \n",
      " 11  is_rail                          22461 non-null  float64       \n",
      " 12  is_coverage                      22461 non-null  float64       \n",
      " 13  is_downtown_local                22461 non-null  float64       \n",
      " 14  is_local                         22461 non-null  float64       \n",
      " 15  service_date                     24816 non-null  datetime64[ns]\n",
      " 16  typology                         23707 non-null  object        \n",
      " 17  minutes_atleast1_vp              28837 non-null  int64         \n",
      " 18  minutes_atleast2_vp              28837 non-null  int64         \n",
      " 19  total_rt_service_minutes         19749 non-null  float64       \n",
      " 20  total_scheduled_service_minutes  19749 non-null  float64       \n",
      " 21  total_vp                         28837 non-null  int64         \n",
      " 22  vp_in_shape                      28837 non-null  int64         \n",
      " 23  is_early                         28837 non-null  int64         \n",
      " 24  is_ontime                        28837 non-null  int64         \n",
      " 25  is_late                          28837 non-null  int64         \n",
      " 26  n_vp_trips                       28837 non-null  int64         \n",
      " 27  vp_per_minute                    19749 non-null  float64       \n",
      " 28  pct_in_shape                     19749 non-null  float64       \n",
      " 29  pct_rt_journey_atleast1_vp       19749 non-null  float64       \n",
      " 30  pct_rt_journey_atleast2_vp       19749 non-null  float64       \n",
      " 31  pct_sched_journey_atleast1_vp    19749 non-null  float64       \n",
      " 32  pct_sched_journey_atleast2_vp    19749 non-null  float64       \n",
      " 33  rt_sched_journey_ratio           19749 non-null  float64       \n",
      " 34  avg_rt_service_minutes           19749 non-null  float64       \n",
      " 35  sched_rt_category                24816 non-null  category      \n",
      " 36  speed_mph                        19091 non-null  float64       \n",
      " 37  name                             28778 non-null  object        \n",
      " 38  route_long_name                  28778 non-null  object        \n",
      " 39  route_short_name                 28778 non-null  object        \n",
      " 40  route_desc                       8985 non-null   object        \n",
      " 41  combined_name                    28778 non-null  object        \n",
      " 42  route_id2                        28778 non-null  object        \n",
      " 43  recent_combined_name             28778 non-null  object        \n",
      " 44  recent_route_id2                 28778 non-null  object        \n",
      " 45  schedule_source_record_id        24757 non-null  object        \n",
      " 46  base64_url                       24757 non-null  object        \n",
      " 47  organization_source_record_id    24757 non-null  object        \n",
      " 48  organization_name                24757 non-null  object        \n",
      " 49  caltrans_district                24711 non-null  object        \n",
      "dtypes: category(1), datetime64[ns](1), float64(21), int64(9), object(18)\n",
      "memory usage: 11.0+ MB\n"
     ]
    }
   ],
   "source": [
    "df2.info()"
   ]
  },
  {
   "cell_type": "markdown",
   "id": "b086482f-ff0f-4d81-9c7d-65cc1e52b52b",
   "metadata": {
    "tags": []
   },
   "source": [
    "### Why are there 66 Unknowns??"
   ]
  },
  {
   "cell_type": "code",
   "execution_count": 73,
   "id": "c601c36f-140e-40a6-a879-4d8fb54aa456",
   "metadata": {},
   "outputs": [
    {
     "data": {
      "text/plain": [
       "Eastbound     6824\n",
       "Westbound     5843\n",
       "Northbound    5731\n",
       "Southbound    5309\n",
       "Name: stop_primary_direction, dtype: int64"
      ]
     },
     "execution_count": 73,
     "metadata": {},
     "output_type": "execute_result"
    }
   ],
   "source": [
    "df2.stop_primary_direction.value_counts()"
   ]
  },
  {
   "cell_type": "code",
   "execution_count": null,
   "id": "0e511702-f22a-47d0-9758-a11560ae0b3a",
   "metadata": {
    "scrolled": true,
    "tags": []
   },
   "outputs": [],
   "source": [
    "unknown_dir = df2.loc[df2.stop_primary_direction == \"Unknown\"]"
   ]
  },
  {
   "cell_type": "code",
   "execution_count": null,
   "id": "98bb7372-2376-4905-a8b9-e8a8856a56f6",
   "metadata": {},
   "outputs": [],
   "source": [
    "unknown_dir.organization_name.unique()"
   ]
  },
  {
   "cell_type": "code",
   "execution_count": null,
   "id": "586f0fa6-ae28-48f8-8d20-0891ee554bb5",
   "metadata": {},
   "outputs": [],
   "source": [
    "unknown_dir.route_id.unique()"
   ]
  },
  {
   "cell_type": "code",
   "execution_count": null,
   "id": "2613fcac-da1c-4b09-9ffe-0f71a3331a3a",
   "metadata": {},
   "outputs": [],
   "source": [
    "unknown_dir.service_date.unique()"
   ]
  },
  {
   "cell_type": "code",
   "execution_count": null,
   "id": "e9dcdbf8-31ef-4990-96cb-6a4d21f7d690",
   "metadata": {},
   "outputs": [],
   "source": [
    "unknown_dir.service_date.value_counts()"
   ]
  },
  {
   "cell_type": "code",
   "execution_count": null,
   "id": "9fd42a93-e283-47bb-abd4-be0a41a57980",
   "metadata": {
    "scrolled": true,
    "tags": []
   },
   "outputs": [],
   "source": [
    "unknown_dir.loc[unknown_dir.service_date == '2024-04-16T00:00:00.000000000']"
   ]
  },
  {
   "cell_type": "code",
   "execution_count": null,
   "id": "7f09c04c-eb14-4598-8ed5-470e3aa9632f",
   "metadata": {},
   "outputs": [],
   "source": [
    "apr_16_trips.loc[(apr_16_trips.schedule_gtfs_dataset_key == \"0d65d96d07115e28313f207d5ed0d3b2\") & (apr_16_trips.route_id == \"6335\")]"
   ]
  },
  {
   "cell_type": "code",
   "execution_count": 75,
   "id": "0aebe644-be33-4bb6-9f2e-e736b30a3e56",
   "metadata": {},
   "outputs": [],
   "source": [
    "import sys\n",
    "sys.path.append(\"../gtfs_funnel\")\n",
    "import schedule_stats_by_route_direction"
   ]
  },
  {
   "cell_type": "code",
   "execution_count": null,
   "id": "664cac21-04c4-4b8a-80b3-55c7b2d7f5b1",
   "metadata": {},
   "outputs": [],
   "source": [
    "analysis_date"
   ]
  },
  {
   "cell_type": "code",
   "execution_count": null,
   "id": "e0c8211c-9b22-48c6-914c-a62e4e1d8717",
   "metadata": {},
   "outputs": [],
   "source": [
    "\n",
    "STOP_TIMES_FILE = GTFS_DATA_DICT.rt_vs_schedule_tables.stop_times_direction\n",
    "    \n",
    "# Load files\n",
    "stop_times_gdf = gpd.read_parquet(\n",
    "        f\"{RT_SCHED_GCS}{STOP_TIMES_FILE}_{analysis_date}.parquet\"\n",
    "    )\n",
    "    \n",
    "scheduled_col = [\n",
    "    \"route_id\",\n",
    "    \"trip_instance_key\",\n",
    "    \"gtfs_dataset_key\",\n",
    "    \"shape_array_key\",\n",
    "    \"direction_id\",\n",
    "    \"route_long_name\",\n",
    "    \"route_short_name\",\n",
    "    \"route_desc\",\n",
    "    \"name\"\n",
    "    ]\n",
    "    \n",
    "trips_to_route = helpers.import_scheduled_trips(\n",
    "        analysis_date,\n",
    "        columns = scheduled_col,\n",
    "        get_pandas = True\n",
    "    )\n"
   ]
  },
  {
   "cell_type": "code",
   "execution_count": null,
   "id": "f765a4ef-7dcf-47c6-9f53-d45c78414ab5",
   "metadata": {},
   "outputs": [],
   "source": [
    "stop_times_col = [\n",
    "        \"feed_key\",\n",
    "        \"stop_id\",\n",
    "        \"stop_sequence\",\n",
    "        \"schedule_gtfs_dataset_key\",\n",
    "        \"trip_instance_key\",\n",
    "        \"shape_array_key\",\n",
    "        \"stop_name\",\n",
    "        \"prior_stop_sequence\",\n",
    "        \"subseq_stop_sequence\",\n",
    "        \"stop_pair\",\n",
    "        \"stop_pair_name\",\n",
    "        \"stop_primary_direction\",\n",
    "        \"stop_meters\",\n",
    "    ]\n",
    "    \n",
    "# Keep only a subset\n",
    "stop_times_gdf2 = stop_times_gdf[stop_times_col]\n",
    "\n",
    "# Merge dfs\n",
    "merge_cols = [\"trip_instance_key\", \n",
    "                  \"schedule_gtfs_dataset_key\", \n",
    "                  \"shape_array_key\"]\n",
    "\n",
    "df1 = pd.merge(stop_times_gdf2, trips_to_route, on=merge_cols, how=\"inner\")"
   ]
  },
  {
   "cell_type": "code",
   "execution_count": null,
   "id": "19b85cb3-50fd-49e7-9827-31daf05c87df",
   "metadata": {},
   "outputs": [],
   "source": [
    "df1.direction_id = df1.direction_id.fillna(0)\n",
    "    \n",
    "agg1 = (\n",
    "        df1.groupby(\n",
    "            [\n",
    "                \"route_id\",\n",
    "                \"schedule_gtfs_dataset_key\",\n",
    "                \"direction_id\",\n",
    "                \"stop_primary_direction\",\n",
    "            ]\n",
    "        )\n",
    "        .agg({\"stop_sequence\": \"count\"})\n",
    "        .reset_index()\n",
    "        .rename(columns={\"stop_sequence\": \"total_stops\"})\n",
    "    )\n",
    "\n",
    "# Delete out unknowns\n",
    "agg1 = agg1.loc[agg1.stop_primary_direction != \"Unknown\"]\n",
    "\n",
    "# Sort and drop duplicates so that the\n",
    "# largest # of stops by stop_primary_direction is at the top\n",
    "agg2 = agg1.sort_values(\n",
    "        by=[\"route_id\", \n",
    "            \"schedule_gtfs_dataset_key\",\n",
    "            \"direction_id\",\n",
    "            \"total_stops\"],\n",
    "        ascending=[True, True, True, False],\n",
    "    )"
   ]
  },
  {
   "cell_type": "code",
   "execution_count": null,
   "id": "e7abf968-8ca4-45ba-a415-e5461d41afa1",
   "metadata": {},
   "outputs": [],
   "source": [
    "agg2.loc[(agg2.schedule_gtfs_dataset_key == \"0d65d96d07115e28313f207d5ed0d3b2\") & (agg2.route_id == \"6335\")]"
   ]
  },
  {
   "cell_type": "code",
   "execution_count": null,
   "id": "6c0423fe-73e9-4dc2-a9f1-725e4f009b59",
   "metadata": {},
   "outputs": [],
   "source": [
    "agg2.loc[(agg2.schedule_gtfs_dataset_key == \"78b44303c1714f6c6a4801637c2a5c9d\") & (agg2.route_id == \"JX\")]"
   ]
  },
  {
   "cell_type": "code",
   "execution_count": null,
   "id": "8e4e013a-f7d3-4029-bc27-e5ff77d4d93e",
   "metadata": {},
   "outputs": [],
   "source": [
    "route_70 = agg2.loc[(agg2.schedule_gtfs_dataset_key == \"d9272b05e39a35ce5f7e774170e94ff1\") & (agg2.route_id == \"70\")]"
   ]
  },
  {
   "cell_type": "code",
   "execution_count": null,
   "id": "392356ec-0bd5-43f4-afcf-0fd5052c86b5",
   "metadata": {},
   "outputs": [],
   "source": [
    "route_70"
   ]
  },
  {
   "cell_type": "code",
   "execution_count": null,
   "id": "5582c9f0-060e-4742-90c9-d843d915a8e1",
   "metadata": {},
   "outputs": [],
   "source": []
  },
  {
   "cell_type": "code",
   "execution_count": null,
   "id": "38ab2170-8b56-420c-9a76-eeeb97de57ea",
   "metadata": {},
   "outputs": [],
   "source": [
    "def filter_out_unknown(df:pd.DataFrame):\n",
    "    if df.loc[(df.stop_primary_direction == \"Unknown\") & ()"
   ]
  },
  {
   "cell_type": "markdown",
   "id": "8504675e-1542-4b10-bb53-ebe3c522ffc0",
   "metadata": {},
   "source": [
    "## Adding cardinal direction into the actual functions"
   ]
  },
  {
   "cell_type": "markdown",
   "id": "46c7e272-2027-4af5-a2d2-8fbc1f898020",
   "metadata": {},
   "source": [
    "### `assemble_scheduled_trip_metrics`\n",
    "* `df` from this function is the same thing that is loaded from `section2_utils.load_scheduled_stop_times`.\n",
    "* How come `df` is read as a `gpd`? Could I just read it in as a regular pandas dataframe?"
   ]
  },
  {
   "cell_type": "code",
   "execution_count": null,
   "id": "230e3b89-d7d2-46c3-9b5b-e60e5b4578ff",
   "metadata": {},
   "outputs": [],
   "source": [
    "STOP_TIMES_FILE = GTFS_DATA_DICT.rt_vs_schedule_tables.stop_times_direction"
   ]
  },
  {
   "cell_type": "code",
   "execution_count": null,
   "id": "5035b2b8-be13-4203-b55e-575a45523147",
   "metadata": {},
   "outputs": [],
   "source": [
    "stop_times_gdf = gpd.read_parquet(\n",
    "    f\"{RT_SCHED_GCS}{STOP_TIMES_FILE}_{analysis_date}.parquet\"\n",
    ")"
   ]
  },
  {
   "cell_type": "code",
   "execution_count": null,
   "id": "60ab1df8-9067-48a4-9c98-81f72556d125",
   "metadata": {},
   "outputs": [],
   "source": [
    "type(stop_times_gdf)"
   ]
  },
  {
   "cell_type": "code",
   "execution_count": null,
   "id": "af5f517e-2dc3-4557-b65e-e47e3da78d7c",
   "metadata": {},
   "outputs": [],
   "source": [
    "scheduled_col = [\n",
    "    \"route_id\",\n",
    "    \"trip_instance_key\",\n",
    "    \"gtfs_dataset_key\",\n",
    "    \"shape_array_key\",\n",
    "    \"direction_id\",\n",
    "    \"route_long_name\",\n",
    "    \"route_short_name\",\n",
    "    \"route_desc\",\n",
    "    \"name\",\n",
    "]"
   ]
  },
  {
   "cell_type": "code",
   "execution_count": null,
   "id": "0d4af3c7-fecd-4ddc-b585-145af63b3024",
   "metadata": {},
   "outputs": [],
   "source": [
    "trips_to_route_cols_subset = [\"trip_instance_key\", \"route_id\", \"direction_id\"]"
   ]
  },
  {
   "cell_type": "code",
   "execution_count": null,
   "id": "37da31a1-3c5b-40c3-80bb-a718d503ad74",
   "metadata": {},
   "outputs": [],
   "source": [
    "# Add more columns to this.\n",
    "trips_to_route_df = helpers.import_scheduled_trips(\n",
    "    analysis_date, columns=scheduled_col, get_pandas=True\n",
    ")"
   ]
  },
  {
   "cell_type": "code",
   "execution_count": null,
   "id": "2e838c1f-3360-4029-959c-c9cbb9e2ca64",
   "metadata": {
    "scrolled": true,
    "tags": []
   },
   "outputs": [],
   "source": [
    "time_of_day = gtfs_schedule_wrangling.get_trip_time_buckets(analysis_date)[\n",
    "    [\"trip_instance_key\", \"time_of_day\", \"scheduled_service_minutes\"]\n",
    "]"
   ]
  },
  {
   "cell_type": "code",
   "execution_count": null,
   "id": "697869b8-9402-4320-a8c0-53c0470ec4d1",
   "metadata": {},
   "outputs": [],
   "source": [
    "trip_cols = [\"schedule_gtfs_dataset_key\", \"trip_instance_key\"]\n",
    "\n",
    "grouped_df = stop_times_gdf.groupby(trip_cols, observed=True, group_keys=False)"
   ]
  },
  {
   "cell_type": "code",
   "execution_count": null,
   "id": "ba63f281-727c-4d2a-9854-85698aaf554f",
   "metadata": {},
   "outputs": [],
   "source": [
    "len(grouped_df)"
   ]
  },
  {
   "cell_type": "code",
   "execution_count": null,
   "id": "fb2ea86e-e7ac-4459-afae-332fa937267c",
   "metadata": {},
   "outputs": [],
   "source": [
    "df2 = pd.merge(\n",
    "    grouped_df.agg({\"stop_meters\": \"median\"})\n",
    "    .reset_index()\n",
    "    .rename(columns={\"stop_meters\": \"median_stop_meters\"}),\n",
    "    time_of_day,\n",
    "    on=\"trip_instance_key\",\n",
    "    how=\"left\",\n",
    ").merge(\n",
    "    trips_to_route_df[trips_to_route_cols_subset], on=\"trip_instance_key\", how=\"inner\"\n",
    ")"
   ]
  },
  {
   "cell_type": "code",
   "execution_count": null,
   "id": "7dc7a950-167b-4300-a6ec-5c874a154d8a",
   "metadata": {},
   "outputs": [],
   "source": [
    "df2.head()"
   ]
  },
  {
   "cell_type": "code",
   "execution_count": null,
   "id": "ac9539f8-e945-4146-a876-d7db1ebeea74",
   "metadata": {},
   "outputs": [],
   "source": [
    "df2.route_id.nunique()"
   ]
  },
  {
   "cell_type": "code",
   "execution_count": null,
   "id": "33f1cff8-b91a-41e8-81e9-38f7e7d76087",
   "metadata": {},
   "outputs": [],
   "source": [
    "df2.info()"
   ]
  },
  {
   "cell_type": "code",
   "execution_count": null,
   "id": "5f86ff00-3d9b-4d1f-a47c-0beecd96797b",
   "metadata": {},
   "outputs": [],
   "source": [
    "df2.direction_id = df2.direction_id.fillna(0)"
   ]
  },
  {
   "cell_type": "markdown",
   "id": "9fffa0ee-dfa1-4dbc-99a8-ee5d8e6ee08d",
   "metadata": {},
   "source": [
    "#### Add in Cardinal Direction Stuff somewhere here?"
   ]
  },
  {
   "cell_type": "code",
   "execution_count": null,
   "id": "47fd627e-89f9-4c42-b8b3-6720de3d3fb3",
   "metadata": {},
   "outputs": [],
   "source": [
    "stop_times_col = [\n",
    "    \"feed_key\",\n",
    "    \"stop_id\",\n",
    "    \"stop_sequence\",\n",
    "    \"schedule_gtfs_dataset_key\",\n",
    "    \"trip_instance_key\",\n",
    "    \"shape_array_key\",\n",
    "    \"stop_name\",\n",
    "    \"prior_stop_sequence\",\n",
    "    \"subseq_stop_sequence\",\n",
    "    \"stop_pair\",\n",
    "    \"stop_pair_name\",\n",
    "    \"stop_primary_direction\",\n",
    "    \"stop_meters\",\n",
    "]"
   ]
  },
  {
   "cell_type": "code",
   "execution_count": null,
   "id": "f9784687-6548-402c-9bf2-1bf4e9ef63fa",
   "metadata": {},
   "outputs": [],
   "source": [
    "stop_times_gdf2 = stop_times_gdf[stop_times_col]"
   ]
  },
  {
   "cell_type": "code",
   "execution_count": null,
   "id": "588b7557-9854-426e-8c7c-501cf7098d98",
   "metadata": {},
   "outputs": [],
   "source": [
    "trips_to_route_df.route_id.nunique()"
   ]
  },
  {
   "cell_type": "code",
   "execution_count": null,
   "id": "1c09a352-bd56-4009-9680-6350a7dd7560",
   "metadata": {},
   "outputs": [],
   "source": [
    "trips_to_route_df.columns"
   ]
  },
  {
   "cell_type": "code",
   "execution_count": null,
   "id": "1ca3ffaf-8d37-4e68-9c23-1c90ac3b0df3",
   "metadata": {},
   "outputs": [],
   "source": [
    "merge_cols = [\n",
    "    \"trip_instance_key\",\n",
    "    \"schedule_gtfs_dataset_key\",\n",
    "    \"shape_array_key\",\n",
    "]"
   ]
  },
  {
   "cell_type": "code",
   "execution_count": null,
   "id": "d853bc3e-dccc-40f7-b4aa-846f3d8e03a8",
   "metadata": {},
   "outputs": [],
   "source": [
    "cardinal_dir1 = pd.merge(stop_times_gdf2, trips_to_route_df, on=merge_cols, how=\"inner\")"
   ]
  },
  {
   "cell_type": "code",
   "execution_count": null,
   "id": "6112899a-0042-4b31-ba45-85f8f94b416f",
   "metadata": {},
   "outputs": [],
   "source": [
    "cardinal_dir1.direction_id = cardinal_dir1.direction_id.fillna(0)"
   ]
  },
  {
   "cell_type": "code",
   "execution_count": null,
   "id": "6d7eeb17-3457-4137-af66-c295f8fdcd84",
   "metadata": {},
   "outputs": [],
   "source": [
    "cardinal_dir1.shape"
   ]
  },
  {
   "cell_type": "code",
   "execution_count": null,
   "id": "05090e23-1565-4a23-8d4f-639c33446c6c",
   "metadata": {},
   "outputs": [],
   "source": [
    "cardinal_dir1.route_id.nunique()"
   ]
  },
  {
   "cell_type": "code",
   "execution_count": null,
   "id": "ca90c23d-21f7-4e6f-a2fd-5a1258115630",
   "metadata": {},
   "outputs": [],
   "source": [
    "cardinal_dir1.trip_instance_key.nunique()"
   ]
  },
  {
   "cell_type": "code",
   "execution_count": null,
   "id": "2c9615f3-cf20-4171-ac27-2ac9b39519d3",
   "metadata": {},
   "outputs": [],
   "source": [
    "cardinal_dir1.info()"
   ]
  },
  {
   "cell_type": "markdown",
   "id": "064a7650-5177-4429-8baa-408b9c95d813",
   "metadata": {},
   "source": [
    "### Why do some of the route IDS drop off?\n",
    "* Some have `direction_id` that are `nan`"
   ]
  },
  {
   "cell_type": "code",
   "execution_count": null,
   "id": "f6518a33-dd08-433d-b164-c06f260fb336",
   "metadata": {},
   "outputs": [],
   "source": [
    "cardinal_dir2 = (\n",
    "    cardinal_dir1.groupby(\n",
    "        [\n",
    "            \"route_id\",\n",
    "            \"schedule_gtfs_dataset_key\",\n",
    "            \"direction_id\",\n",
    "            \"stop_primary_direction\",\n",
    "        ]\n",
    "    )\n",
    "    .agg({\"stop_sequence\": \"count\"})\n",
    "    .reset_index()\n",
    "    .rename(columns={\"stop_sequence\": \"total_stops\"})\n",
    ")"
   ]
  },
  {
   "cell_type": "code",
   "execution_count": null,
   "id": "7525877c-3a12-434e-9784-38015bbec690",
   "metadata": {},
   "outputs": [],
   "source": [
    "cardinal_dir2.route_id.nunique()"
   ]
  },
  {
   "cell_type": "code",
   "execution_count": null,
   "id": "88bc5c93-59d5-43af-8231-f101a0457f70",
   "metadata": {},
   "outputs": [],
   "source": [
    "cardinal_dir1_routes = set(cardinal_dir1.route_id.unique().tolist())\n",
    "cardinal_dir2_routes = set(cardinal_dir2.route_id.unique().tolist())"
   ]
  },
  {
   "cell_type": "code",
   "execution_count": null,
   "id": "e45e9688-914a-4a61-af69-3aad345e147b",
   "metadata": {
    "scrolled": true,
    "tags": []
   },
   "outputs": [],
   "source": [
    "len(cardinal_dir1_routes - cardinal_dir2_routes)"
   ]
  },
  {
   "cell_type": "code",
   "execution_count": null,
   "id": "9fab0ac2-1385-4b18-91d3-5cadcfa0ea74",
   "metadata": {
    "scrolled": true,
    "tags": []
   },
   "outputs": [],
   "source": [
    "(cardinal_dir1_routes - cardinal_dir2_routes)"
   ]
  },
  {
   "cell_type": "code",
   "execution_count": null,
   "id": "111ec479-9723-4d8e-bab7-50f836dc54c1",
   "metadata": {
    "scrolled": true,
    "tags": []
   },
   "outputs": [],
   "source": [
    "cardinal_dir1.loc[(cardinal_dir1.route_id == \"0177a66b-9f33-407d-a72e-776429fb73d4\")][\n",
    "    [\"stop_primary_direction\", \"direction_id\"]\n",
    "].drop_duplicates()"
   ]
  },
  {
   "cell_type": "code",
   "execution_count": null,
   "id": "50f5dcaa-8f5e-453d-bc16-ec0ef1496444",
   "metadata": {},
   "outputs": [],
   "source": [
    "cardinal_dir1.loc[(cardinal_dir1.route_id == \"9f38a05f-6eea-47f4-bf42-992a789e7b49\")][\n",
    "    [\"stop_primary_direction\", \"direction_id\"]\n",
    "].drop_duplicates()"
   ]
  },
  {
   "cell_type": "code",
   "execution_count": null,
   "id": "53cb5965-d029-4aac-82ee-1a40da7f3e65",
   "metadata": {},
   "outputs": [],
   "source": [
    "cardinal_dir1.loc[(cardinal_dir1.route_id == \"3ff1b747-a791-4eb3-90b2-25cb355b6c67\")][\n",
    "    [\"route_id\", \"stop_primary_direction\", \"direction_id\"]\n",
    "].drop_duplicates()"
   ]
  },
  {
   "cell_type": "code",
   "execution_count": null,
   "id": "dcf97a07-84e4-4a58-8e4c-ffd9b21b6579",
   "metadata": {},
   "outputs": [],
   "source": [
    "cardinal_dir2.loc[\n",
    "    (cardinal_dir2.route_id == \"001\")\n",
    "    & (cardinal_dir2.schedule_gtfs_dataset_key == \"cb3074eb8b423dfc5acfeeb0de95eb82\")\n",
    "]"
   ]
  },
  {
   "cell_type": "code",
   "execution_count": null,
   "id": "1af973a3-94ed-43de-a95e-3bfa399a27c7",
   "metadata": {},
   "outputs": [],
   "source": [
    "cardinal_dir3 = cardinal_dir2.sort_values(\n",
    "    by=[\"route_id\", \"schedule_gtfs_dataset_key\", \"direction_id\", \"total_stops\"],\n",
    "    ascending=[True, True, True, False],\n",
    ")"
   ]
  },
  {
   "cell_type": "code",
   "execution_count": null,
   "id": "a34ce177-a722-4446-afc6-1c8022091d0c",
   "metadata": {},
   "outputs": [],
   "source": [
    "cardinal_dir3.loc[\n",
    "    (cardinal_dir3.route_id == \"001\")\n",
    "    & (cardinal_dir3.schedule_gtfs_dataset_key == \"cb3074eb8b423dfc5acfeeb0de95eb82\")\n",
    "]"
   ]
  },
  {
   "cell_type": "code",
   "execution_count": null,
   "id": "4c8e440e-684d-44c2-92ef-0bcbbdef6e8c",
   "metadata": {},
   "outputs": [],
   "source": [
    "# Drop duplicates so only the top stop_primary_direction is kept.\n",
    "cardinal_dir4 = cardinal_dir3.drop_duplicates(\n",
    "    subset=[\n",
    "        \"route_id\",\n",
    "        \"schedule_gtfs_dataset_key\",\n",
    "        \"direction_id\",\n",
    "    ]\n",
    ").reset_index(drop=True)"
   ]
  },
  {
   "cell_type": "code",
   "execution_count": null,
   "id": "b6253772-4e79-465d-9ea7-1badf9f8d008",
   "metadata": {},
   "outputs": [],
   "source": [
    "cardinal_dir4.loc[\n",
    "    (cardinal_dir4.route_id == \"001\")\n",
    "    & (cardinal_dir4.schedule_gtfs_dataset_key == \"cb3074eb8b423dfc5acfeeb0de95eb82\")\n",
    "]"
   ]
  },
  {
   "cell_type": "code",
   "execution_count": null,
   "id": "bbc704bc-4b7e-405d-ac37-d4d70dbab48f",
   "metadata": {},
   "outputs": [],
   "source": [
    "cardinal_dir4 = cardinal_dir4.drop(columns=[\"total_stops\"])"
   ]
  },
  {
   "cell_type": "code",
   "execution_count": null,
   "id": "44906f9c-4bc8-40f1-8cfe-eb31145b5b12",
   "metadata": {},
   "outputs": [],
   "source": [
    "cardinal_dir4.route_id.nunique()"
   ]
  },
  {
   "cell_type": "markdown",
   "id": "4e92ebde-4957-44d9-9eae-c09158952bb3",
   "metadata": {},
   "source": [
    "### Merge (some route IDs are missing because they don't have 0/1 populated in `direction_id`)"
   ]
  },
  {
   "cell_type": "code",
   "execution_count": null,
   "id": "c558121e-48c0-44c4-b202-18ce408148e2",
   "metadata": {},
   "outputs": [],
   "source": [
    "df2.head(2)"
   ]
  },
  {
   "cell_type": "code",
   "execution_count": null,
   "id": "6b80e20e-6877-493b-b395-12f23077c909",
   "metadata": {},
   "outputs": [],
   "source": [
    "cardinal_dir4.head(2)"
   ]
  },
  {
   "cell_type": "code",
   "execution_count": null,
   "id": "dc2ba233-ef0d-4bb9-94cb-a411a2155dca",
   "metadata": {},
   "outputs": [],
   "source": [
    "cardinal_dir4.route_id.nunique(), df2.route_id.nunique()"
   ]
  },
  {
   "cell_type": "code",
   "execution_count": null,
   "id": "fbda48c5-5314-48ab-9ab1-cac951fdcf35",
   "metadata": {},
   "outputs": [],
   "source": [
    "len(df2), len(cardinal_dir4)"
   ]
  },
  {
   "cell_type": "code",
   "execution_count": null,
   "id": "3bce7e7c-4f58-479a-be5d-d8d74a85ed06",
   "metadata": {},
   "outputs": [],
   "source": [
    "pd.merge(\n",
    "    df2,\n",
    "    cardinal_dir4,\n",
    "    on=[\"schedule_gtfs_dataset_key\", \"route_id\", \"direction_id\"],\n",
    "    how=\"outer\",\n",
    "    indicator=True,\n",
    ")[[\"_merge\"]].value_counts()"
   ]
  },
  {
   "cell_type": "code",
   "execution_count": null,
   "id": "fa59ed2e-1d80-41c5-a8e8-0563748ee7e0",
   "metadata": {},
   "outputs": [],
   "source": [
    "pd.merge(\n",
    "    df2,\n",
    "    cardinal_dir4,\n",
    "    on=[\"schedule_gtfs_dataset_key\", \"route_id\", \"direction_id\"],\n",
    "    how=\"inner\",\n",
    "    indicator=True,\n",
    ")[[\"_merge\"]].value_counts()"
   ]
  },
  {
   "cell_type": "code",
   "execution_count": null,
   "id": "9ac6f726-a69e-4874-bb87-507e840f6885",
   "metadata": {},
   "outputs": [],
   "source": [
    "m1 = pd.merge(\n",
    "    df2,\n",
    "    cardinal_dir4,\n",
    "    on=[\"schedule_gtfs_dataset_key\", \"route_id\", \"direction_id\"],\n",
    "    how=\"inner\",\n",
    ")"
   ]
  },
  {
   "cell_type": "code",
   "execution_count": null,
   "id": "0ef42100-5141-4ea9-b53f-5d9b252ef402",
   "metadata": {},
   "outputs": [],
   "source": [
    "pd.merge(\n",
    "    df2,\n",
    "    cardinal_dir4,\n",
    "    on=[\"schedule_gtfs_dataset_key\", \"route_id\"],\n",
    "    how=\"outer\",\n",
    "    indicator=True,\n",
    ")[[\"_merge\"]].value_counts()"
   ]
  },
  {
   "cell_type": "markdown",
   "id": "9a079af5-135c-4b32-a2e6-4f74aec2e2e3",
   "metadata": {},
   "source": [
    "#### How does harmonizing the route names fit into here? \n",
    "* [This script](https://github.com/cal-itp/data-analyses/blob/b1e5d4f870400251240eeba4a6515a0848e5d6f8/gtfs_funnel/clean_route_naming.py#L4)"
   ]
  },
  {
   "cell_type": "code",
   "execution_count": null,
   "id": "5b7e70c0-1a0c-4363-b87e-454313dbdb27",
   "metadata": {},
   "outputs": [],
   "source": [
    "m1.head(3)"
   ]
  },
  {
   "cell_type": "code",
   "execution_count": null,
   "id": "30851c84-9d10-43e3-a15a-b029b49ae0eb",
   "metadata": {},
   "outputs": [],
   "source": [
    "m1.info()"
   ]
  },
  {
   "cell_type": "markdown",
   "id": "1cc7ef3f-22bc-435f-9206-f58fa7e4b2ab",
   "metadata": {},
   "source": [
    "### Final"
   ]
  },
  {
   "cell_type": "code",
   "execution_count": null,
   "id": "c0aebdc1-3ffa-40d3-a42e-47e810a77934",
   "metadata": {},
   "outputs": [],
   "source": [
    "def find_most_common_dir(\n",
    "    stop_times_gdf: gpd.GeoDataFrame,\n",
    "    trips_to_route_df: pd.DataFrame,\n",
    ") -> pd.DataFrame:\n",
    "    \"\"\"\n",
    "    Load load_scheduled_trips() and load_scheduled_stop_times()\n",
    "    \"\"\"\n",
    "    stop_times_col = [\n",
    "        \"feed_key\",\n",
    "        \"stop_id\",\n",
    "        \"stop_sequence\",\n",
    "        \"schedule_gtfs_dataset_key\",\n",
    "        \"trip_instance_key\",\n",
    "        \"shape_array_key\",\n",
    "        \"stop_name\",\n",
    "        \"prior_stop_sequence\",\n",
    "        \"subseq_stop_sequence\",\n",
    "        \"stop_pair\",\n",
    "        \"stop_pair_name\",\n",
    "        \"stop_primary_direction\",\n",
    "        \"stop_meters\",\n",
    "    ]\n",
    "\n",
    "    stop_times_gdf2 = stop_times_gdf[stop_times_col]\n",
    "\n",
    "    # Merge dfs\n",
    "    merge_cols = [\"trip_instance_key\", \"schedule_gtfs_dataset_key\", \"shape_array_key\"]\n",
    "\n",
    "    df1 = pd.merge(stop_times_gdf2, trips_to_route_df, on=merge_cols, how=\"inner\")\n",
    "    df1.direction_id = df1.direction_id.fillna(0)\n",
    "\n",
    "    agg1 = (\n",
    "        df1.groupby(\n",
    "            [\n",
    "                \"route_id\",\n",
    "                \"schedule_gtfs_dataset_key\",\n",
    "                \"direction_id\",\n",
    "                \"stop_primary_direction\",\n",
    "            ]\n",
    "        )\n",
    "        .agg({\"stop_sequence\": \"count\"})\n",
    "        .reset_index()\n",
    "        .rename(columns={\"stop_sequence\": \"total_stops\"})\n",
    "    )\n",
    "\n",
    "    # Sort and drop duplicates so that the\n",
    "    # largest # of stops by stop_primary_direction is at the top\n",
    "    agg2 = agg1.sort_values(\n",
    "        by=[\"route_id\", \"schedule_gtfs_dataset_key\", \"direction_id\", \"total_stops\"],\n",
    "        ascending=[True, True, True, False],\n",
    "    )\n",
    "\n",
    "    # Drop duplicates so only the top stop_primary_direction is kept.\n",
    "    agg3 = agg2.drop_duplicates(\n",
    "        subset=[\n",
    "            \"route_id\",\n",
    "            \"schedule_gtfs_dataset_key\",\n",
    "            \"direction_id\",\n",
    "        ]\n",
    "    ).reset_index(drop=True)\n",
    "\n",
    "    agg3 = agg3.drop(columns=[\"total_stops\"])\n",
    "\n",
    "    return agg3"
   ]
  },
  {
   "cell_type": "code",
   "execution_count": null,
   "id": "879e1f23-9b6b-4911-8320-e12232dd38aa",
   "metadata": {},
   "outputs": [],
   "source": [
    "def assemble_scheduled_trip_metrics(\n",
    "    analysis_date: str, dict_inputs: dict\n",
    ") -> pd.DataFrame:\n",
    "    \"\"\"\n",
    "    Get GTFS schedule trip metrics including time-of-day buckets,\n",
    "    scheduled service minutes, and median stop spacing.\n",
    "    \"\"\"\n",
    "    STOP_TIMES_FILE = dict_inputs.rt_vs_schedule_tables.stop_times_direction\n",
    "\n",
    "    # Load files\n",
    "    df = gpd.read_parquet(f\"{RT_SCHED_GCS}{STOP_TIMES_FILE}_{analysis_date}.parquet\")\n",
    "\n",
    "    scheduled_col = [\n",
    "        \"route_id\",\n",
    "        \"trip_instance_key\",\n",
    "        \"gtfs_dataset_key\",\n",
    "        \"shape_array_key\",\n",
    "        \"direction_id\",\n",
    "        \"route_long_name\",\n",
    "        \"route_short_name\",\n",
    "        \"route_desc\",\n",
    "        \"name\",\n",
    "    ]\n",
    "\n",
    "    trips_to_route = helpers.import_scheduled_trips(\n",
    "        analysis_date, columns=scheduled_col, get_pandas=True\n",
    "    )\n",
    "\n",
    "    time_of_day = gtfs_schedule_wrangling.get_trip_time_buckets(analysis_date)[\n",
    "        [\"trip_instance_key\", \"time_of_day\", \"scheduled_service_minutes\"]\n",
    "    ]\n",
    "\n",
    "    trip_cols = [\"schedule_gtfs_dataset_key\", \"trip_instance_key\"]\n",
    "\n",
    "    grouped_df = df.groupby(trip_cols, observed=True, group_keys=False)\n",
    "\n",
    "    trips_to_route_cols_subset = [\"trip_instance_key\", \"route_id\", \"direction_id\"]\n",
    "    # Get median / mean stop meters for the trip\n",
    "    # Attach time-of-day and route_id and direction_id\n",
    "    # Merge using a subset\n",
    "    median_stop_meters_df = pd.merge(\n",
    "        grouped_df.agg({\"stop_meters\": \"median\"})\n",
    "        .reset_index()\n",
    "        .rename(columns={\"stop_meters\": \"median_stop_meters\"}),\n",
    "        time_of_day,\n",
    "        on=\"trip_instance_key\",\n",
    "        how=\"left\",\n",
    "    ).merge(\n",
    "        trips_to_route[trips_to_route_cols_subset], on=\"trip_instance_key\", how=\"inner\"\n",
    "    )\n",
    "\n",
    "    median_stop_meters_df.direction_id = median_stop_meters_df.direction_id.fillna(0)\n",
    "\n",
    "    # Get cardinal direction\n",
    "    cardinal_direction_df = find_most_common_dir(df, trips_to_route)\n",
    "\n",
    "    # Merge everything together\n",
    "    m1 = pd.merge(\n",
    "        median_stop_meters_df,\n",
    "        cardinal_direction_df,\n",
    "        on=[\"schedule_gtfs_dataset_key\", \"route_id\", \"direction_id\"],\n",
    "        how=\"inner\",\n",
    "    )\n",
    "\n",
    "    return m1"
   ]
  },
  {
   "cell_type": "code",
   "execution_count": null,
   "id": "9c3dc0af-557a-4c27-abb1-2c3692cceb4c",
   "metadata": {},
   "outputs": [],
   "source": [
    "test = assemble_scheduled_trip_metrics(analysis_date, GTFS_DATA_DICT)"
   ]
  },
  {
   "cell_type": "code",
   "execution_count": null,
   "id": "6ba23f1d-51f3-4dce-978e-f0dde85e541b",
   "metadata": {},
   "outputs": [],
   "source": [
    "test.head()"
   ]
  },
  {
   "cell_type": "code",
   "execution_count": null,
   "id": "6f87b748-f5d0-474d-b5ab-022e787a2bad",
   "metadata": {},
   "outputs": [],
   "source": [
    "test.shape"
   ]
  },
  {
   "cell_type": "code",
   "execution_count": null,
   "id": "1c491416-5346-403a-a97d-316f13f6085b",
   "metadata": {},
   "outputs": [],
   "source": [
    "route_cols = [\"schedule_gtfs_dataset_key\", \"route_id\", \"direction_id\"]"
   ]
  },
  {
   "cell_type": "code",
   "execution_count": null,
   "id": "487fee12-e15a-41dd-b040-1d8de4a73057",
   "metadata": {},
   "outputs": [],
   "source": [
    "import sys\n",
    "\n",
    "sys.path.append(\"../gtfs_funnel\")\n",
    "import schedule_stats_by_route_direction"
   ]
  },
  {
   "cell_type": "code",
   "execution_count": null,
   "id": "b1f0dc58-87bb-4519-b5ef-d3661ff4f370",
   "metadata": {},
   "outputs": [],
   "source": [
    "route_dir_metrics = (\n",
    "    schedule_stats_by_route_direction.schedule_metrics_by_route_direction(\n",
    "        test, analysis_date, route_cols\n",
    "    )\n",
    ")"
   ]
  },
  {
   "cell_type": "code",
   "execution_count": null,
   "id": "6d3fa79c-b16e-49a4-b8fa-1c490e5fec14",
   "metadata": {},
   "outputs": [],
   "source": [
    "ROUTE_TYPOLOGIES = GTFS_DATA_DICT.schedule_tables.route_typologies"
   ]
  },
  {
   "cell_type": "code",
   "execution_count": null,
   "id": "f1672890-a330-45c1-9c2e-c7a35b786aee",
   "metadata": {},
   "outputs": [],
   "source": [
    "route_typologies = pd.read_parquet(\n",
    "    f\"{SCHED_GCS}{ROUTE_TYPOLOGIES}_{analysis_date}.parquet\",\n",
    "    columns=route_cols\n",
    "    + [\n",
    "        \"is_coverage\",\n",
    "        \"is_downtown_local\",\n",
    "        \"is_local\",\n",
    "        \"is_rapid\",\n",
    "        \"is_express\",\n",
    "        \"is_rail\",\n",
    "    ],\n",
    ")"
   ]
  },
  {
   "cell_type": "code",
   "execution_count": null,
   "id": "8e848b0e-5f1c-485d-9f62-c249e4576454",
   "metadata": {},
   "outputs": [],
   "source": [
    "route_dir_metrics2 = pd.merge(\n",
    "    route_dir_metrics, route_typologies, on=route_cols, how=\"left\"\n",
    ")"
   ]
  },
  {
   "cell_type": "code",
   "execution_count": null,
   "id": "ed49cddf-ee3a-43c3-9cdf-98f852d52f10",
   "metadata": {},
   "outputs": [],
   "source": [
    "route_dir_metrics2.head().drop(columns=[\"geometry\"])"
   ]
  },
  {
   "cell_type": "code",
   "execution_count": null,
   "id": "00a9b992-8315-4e75-955f-9f2831656072",
   "metadata": {},
   "outputs": [],
   "source": []
  }
 ],
 "metadata": {
  "kernelspec": {
   "display_name": "Python 3 (ipykernel)",
   "language": "python",
   "name": "python3"
  },
  "language_info": {
   "codemirror_mode": {
    "name": "ipython",
    "version": 3
   },
   "file_extension": ".py",
   "mimetype": "text/x-python",
   "name": "python",
   "nbconvert_exporter": "python",
   "pygments_lexer": "ipython3",
   "version": "3.9.13"
  }
 },
 "nbformat": 4,
 "nbformat_minor": 5
}
