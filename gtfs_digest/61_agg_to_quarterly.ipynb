{
 "cells": [
  {
   "cell_type": "markdown",
   "id": "6d46b7ac-597b-4d68-857e-f61d8e9b6f71",
   "metadata": {},
   "source": [
    "# For certain metrics, aggregate them to quarterly in `merge_data`\n",
    "\n",
    "* Tiffany's Teams message: \n",
    " > you can do it within merge_data for now, it'll be the quickest way to get your quarterly averages. \n",
    "merge_data is simply concatenating schedule, summary speeds, rt vs schedule by route-direction-peak/offpeak-single day together. You can take that and aggregate several days into quarterly.\n",
    "Here's the script for average_segment_speeds that mocks up aggregating across single days / using weighted averages, and you'll see how some of the functions are put together, specifically tagging the quarter-year / weekday or weekend / weighted averages (using n_trips) to weight the metric column. https://github.com/cal-itp/data-analyses/blob/main/rt_segment_speeds/scripts/average_segment_speeds.py\n",
    "* Metrics to Roll Up\n",
    "    * Avg scheduled minute\n",
    "    * VP per minute\n",
    "    * Spatial Accuracy"
   ]
  },
  {
   "cell_type": "code",
   "execution_count": 1,
   "id": "21a2b2c5-7e69-4608-9238-ff3e0205f693",
   "metadata": {
    "tags": []
   },
   "outputs": [],
   "source": [
    "import _report_utils\n",
    "import _section1_utils as section1\n",
    "import _section2_utils as section2\n",
    "import geopandas as gpd\n",
    "import merge_data\n",
    "import numpy as np\n",
    "import pandas as pd\n",
    "from segment_speed_utils import gtfs_schedule_wrangling, helpers, segment_calcs\n",
    "from segment_speed_utils.project_vars import COMPILED_CACHED_VIEWS, PROJECT_CRS\n",
    "from shared_utils import (\n",
    "    catalog_utils,\n",
    "    portfolio_utils,\n",
    "    rt_dates,\n",
    "    rt_utils,\n",
    "    time_helpers,\n",
    ")\n",
    "from update_vars import GTFS_DATA_DICT, RT_SCHED_GCS, SCHED_GCS, SEGMENT_GCS\n",
    "\n",
    "# Data Dictionary\n",
    "GTFS_DATA_DICT = catalog_utils.get_catalog(\"gtfs_analytics_data\")"
   ]
  },
  {
   "cell_type": "code",
   "execution_count": 2,
   "id": "6abfe99a-8006-46cd-8219-44ad7c1f5906",
   "metadata": {
    "tags": []
   },
   "outputs": [],
   "source": [
    "pd.options.display.max_columns = 100\n",
    "pd.options.display.float_format = \"{:.2f}\".format\n",
    "pd.set_option(\"display.max_rows\", None)\n",
    "pd.set_option(\"display.max_colwidth\", None)"
   ]
  },
  {
   "cell_type": "code",
   "execution_count": 3,
   "id": "11715264-9636-417a-88e9-f26a8bb193e6",
   "metadata": {
    "tags": []
   },
   "outputs": [],
   "source": [
    "analysis_date_list = [rt_dates.DATES[\"feb2025\"]]"
   ]
  },
  {
   "cell_type": "code",
   "execution_count": 4,
   "id": "989a8d54-ebcf-4473-a592-8521af09cf3e",
   "metadata": {
    "tags": []
   },
   "outputs": [],
   "source": [
    "analysis_date = rt_dates.DATES[\"feb2025\"]"
   ]
  },
  {
   "cell_type": "code",
   "execution_count": 5,
   "id": "5e6a0737-df0d-4acb-8c9c-3f8407f486cc",
   "metadata": {
    "tags": []
   },
   "outputs": [],
   "source": [
    "schd_vp_url = f\"{GTFS_DATA_DICT.digest_tables.dir}{GTFS_DATA_DICT.digest_tables.route_schedule_vp}.parquet\""
   ]
  },
  {
   "cell_type": "code",
   "execution_count": 6,
   "id": "e5d28e10-d396-420d-ba9f-8538a1d41b25",
   "metadata": {
    "tags": []
   },
   "outputs": [],
   "source": [
    "sdi = \"San Diego Metropolitan Transit System\""
   ]
  },
  {
   "cell_type": "code",
   "execution_count": 7,
   "id": "3ef7c577-79fe-4778-a36f-46613c1f0568",
   "metadata": {},
   "outputs": [],
   "source": [
    "marin = \"Marin County Transit District\""
   ]
  },
  {
   "cell_type": "code",
   "execution_count": 8,
   "id": "2836e214-f728-41b4-a69e-a234b4c79066",
   "metadata": {
    "tags": []
   },
   "outputs": [],
   "source": [
    "df = pd.read_parquet(schd_vp_url)"
   ]
  },
  {
   "cell_type": "code",
   "execution_count": 9,
   "id": "e7dbac68-5d52-433c-80a4-bfda33aa6108",
   "metadata": {
    "tags": []
   },
   "outputs": [],
   "source": [
    "df[\"quarter\"] = pd.PeriodIndex(df.service_date, freq=\"Q\").astype(\"str\")"
   ]
  },
  {
   "cell_type": "markdown",
   "id": "bd5b37f4-f164-4938-90db-94728defcb67",
   "metadata": {},
   "source": [
    "## Edit function because this will be published publicly & all the metrics/columns should be available."
   ]
  },
  {
   "cell_type": "code",
   "execution_count": 10,
   "id": "69d57352-fe10-454d-9521-2eb630608017",
   "metadata": {
    "tags": []
   },
   "outputs": [],
   "source": [
    "sd_df = df.loc[df.organization_name == sdi]"
   ]
  },
  {
   "cell_type": "code",
   "execution_count": 11,
   "id": "5e3c7049-be50-41c5-bb43-e7d63d6ab1f5",
   "metadata": {
    "tags": []
   },
   "outputs": [
    {
     "data": {
      "text/plain": [
       "(13025, 47)"
      ]
     },
     "execution_count": 11,
     "metadata": {},
     "output_type": "execute_result"
    }
   ],
   "source": [
    "sd_df.shape"
   ]
  },
  {
   "cell_type": "code",
   "execution_count": 54,
   "id": "0a99b609-960a-4fa1-bd6d-59f9806b8e06",
   "metadata": {
    "tags": []
   },
   "outputs": [
    {
     "data": {
      "text/html": [
       "<div>\n",
       "<style scoped>\n",
       "    .dataframe tbody tr th:only-of-type {\n",
       "        vertical-align: middle;\n",
       "    }\n",
       "\n",
       "    .dataframe tbody tr th {\n",
       "        vertical-align: top;\n",
       "    }\n",
       "\n",
       "    .dataframe thead th {\n",
       "        text-align: right;\n",
       "    }\n",
       "</style>\n",
       "<table border=\"1\" class=\"dataframe\">\n",
       "  <thead>\n",
       "    <tr style=\"text-align: right;\">\n",
       "      <th></th>\n",
       "      <th>rt_sched_journey_ratio</th>\n",
       "    </tr>\n",
       "  </thead>\n",
       "  <tbody>\n",
       "    <tr>\n",
       "      <th>61970</th>\n",
       "      <td>1.50</td>\n",
       "    </tr>\n",
       "    <tr>\n",
       "      <th>61973</th>\n",
       "      <td>0.94</td>\n",
       "    </tr>\n",
       "    <tr>\n",
       "      <th>61975</th>\n",
       "      <td>0.86</td>\n",
       "    </tr>\n",
       "    <tr>\n",
       "      <th>61979</th>\n",
       "      <td>1.47</td>\n",
       "    </tr>\n",
       "    <tr>\n",
       "      <th>61982</th>\n",
       "      <td>1.47</td>\n",
       "    </tr>\n",
       "  </tbody>\n",
       "</table>\n",
       "</div>"
      ],
      "text/plain": [
       "       rt_sched_journey_ratio\n",
       "61970                    1.50\n",
       "61973                    0.94\n",
       "61975                    0.86\n",
       "61979                    1.47\n",
       "61982                    1.47"
      ]
     },
     "execution_count": 54,
     "metadata": {},
     "output_type": "execute_result"
    }
   ],
   "source": [
    "sd_df[[\"rt_sched_journey_ratio\"]].head()"
   ]
  },
  {
   "cell_type": "code",
   "execution_count": 55,
   "id": "5be7fffc-b0cd-458a-b640-93a43ec8bcbe",
   "metadata": {
    "tags": []
   },
   "outputs": [
    {
     "data": {
      "text/plain": [
       "Index(['schedule_gtfs_dataset_key', 'direction_id', 'time_period',\n",
       "       'avg_scheduled_service_minutes', 'avg_stop_miles', 'n_scheduled_trips',\n",
       "       'frequency', 'is_express', 'is_rapid', 'is_rail', 'is_coverage',\n",
       "       'is_downtown_local', 'is_local', 'service_date', 'typology',\n",
       "       'minutes_atleast1_vp', 'minutes_atleast2_vp',\n",
       "       'total_rt_service_minutes', 'total_scheduled_service_minutes',\n",
       "       'total_vp', 'vp_in_shape', 'is_early', 'is_ontime', 'is_late',\n",
       "       'n_vp_trips', 'vp_per_minute', 'pct_in_shape',\n",
       "       'pct_rt_journey_atleast1_vp', 'pct_rt_journey_atleast2_vp',\n",
       "       'pct_sched_journey_atleast1_vp', 'pct_sched_journey_atleast2_vp',\n",
       "       'rt_sched_journey_ratio', 'avg_rt_service_minutes', 'sched_rt_category',\n",
       "       'speed_mph', 'route_long_name', 'route_short_name',\n",
       "       'route_combined_name', 'route_id', 'base64_url',\n",
       "       'organization_source_record_id', 'organization_name',\n",
       "       'caltrans_district', 'route_primary_direction', 'name',\n",
       "       'schedule_source_record_id', 'quarter'],\n",
       "      dtype='object')"
      ]
     },
     "execution_count": 55,
     "metadata": {},
     "output_type": "execute_result"
    }
   ],
   "source": [
    "sd_df.columns"
   ]
  },
  {
   "cell_type": "code",
   "execution_count": 12,
   "id": "649ed4ec-f53b-40b0-be3a-fd40bbd2f056",
   "metadata": {
    "tags": []
   },
   "outputs": [],
   "source": [
    "schd_metric_cols = [\n",
    "    \"avg_scheduled_service_minutes\",\n",
    "    \"avg_stop_miles\",\n",
    "    \"frequency\",\n",
    "    \"total_scheduled_service_minutes\",\n",
    "    \"rt_sched_journey_ratio\",\n",
    "]"
   ]
  },
  {
   "cell_type": "code",
   "execution_count": 13,
   "id": "b1fa68b3-6f2d-4ff3-bd72-d1436af9c4b8",
   "metadata": {
    "tags": []
   },
   "outputs": [],
   "source": [
    "rt_metric_cols = [\n",
    "    \"minutes_atleast1_vp\",\n",
    "    \"minutes_atleast2_vp\",\n",
    "    \"total_rt_service_minutes\",\n",
    "    \"total_vp\",\n",
    "    \"vp_in_shape\",\n",
    "    \"vp_per_minute\",\n",
    "    \"avg_rt_service_minutes\",\n",
    "    \"speed_mph\",\n",
    "]"
   ]
  },
  {
   "cell_type": "code",
   "execution_count": 31,
   "id": "98ac1373-b0ca-4ef4-8d0c-92e1f508a6d8",
   "metadata": {
    "tags": []
   },
   "outputs": [],
   "source": [
    "rt_metric_timeliness = [\n",
    "    \"is_early\",\n",
    "    \"is_ontime\",\n",
    "    \"is_late\",\n",
    "]"
   ]
  },
  {
   "cell_type": "code",
   "execution_count": 14,
   "id": "139f3b80-ad1e-4da6-b8e1-7a6ec4797ac1",
   "metadata": {
    "tags": []
   },
   "outputs": [],
   "source": [
    "cols_not_grouped = [\n",
    "    \"base64_url\",\n",
    "    \"organization_source_record_id\",\n",
    "    \"organization_name\",\n",
    "    \"caltrans_district\",\n",
    "    \"route_primary_direction\",\n",
    "    \"name\",\n",
    "    \"schedule_source_record_id\",\n",
    "    \"route_long_name\",\n",
    "    \"route_short_name\",\n",
    "    \"route_combined_name\",\n",
    "    \"typology\",\n",
    "    \"is_express\",\n",
    "    \"is_rapid\",\n",
    "    \"is_rail\",\n",
    "    \"is_coverage\",\n",
    "    \"is_downtown_local\",\n",
    "    \"is_local\",\n",
    "    \"sched_rt_category\",\n",
    "]"
   ]
  },
  {
   "cell_type": "code",
   "execution_count": 15,
   "id": "708b3c15-64d1-44f3-822d-b576564a5d1c",
   "metadata": {
    "tags": []
   },
   "outputs": [],
   "source": [
    "group_cols = [\n",
    "    \"quarter\",\n",
    "    \"schedule_gtfs_dataset_key\",\n",
    "    \"route_id\",\n",
    "    \"direction_id\",\n",
    "    \"time_period\",\n",
    "]"
   ]
  },
  {
   "cell_type": "code",
   "execution_count": 16,
   "id": "2c9c8edb-bd51-49ed-a72a-1d095c09d0de",
   "metadata": {
    "tags": []
   },
   "outputs": [
    {
     "data": {
      "text/plain": [
       "['schedule_and_vp', 'schedule_only']\n",
       "Categories (3, object): ['schedule_only', 'vp_only', 'schedule_and_vp']"
      ]
     },
     "execution_count": 16,
     "metadata": {},
     "output_type": "execute_result"
    }
   ],
   "source": [
    "sd_df.sched_rt_category.unique()"
   ]
  },
  {
   "cell_type": "code",
   "execution_count": 18,
   "id": "371dfdcb-9ec0-49c1-88e3-8a67a0fa2b1a",
   "metadata": {
    "tags": []
   },
   "outputs": [
    {
     "data": {
      "text/html": [
       "<div>\n",
       "<style scoped>\n",
       "    .dataframe tbody tr th:only-of-type {\n",
       "        vertical-align: middle;\n",
       "    }\n",
       "\n",
       "    .dataframe tbody tr th {\n",
       "        vertical-align: top;\n",
       "    }\n",
       "\n",
       "    .dataframe thead th {\n",
       "        text-align: right;\n",
       "    }\n",
       "</style>\n",
       "<table border=\"1\" class=\"dataframe\">\n",
       "  <thead>\n",
       "    <tr style=\"text-align: right;\">\n",
       "      <th></th>\n",
       "      <th>schedule_gtfs_dataset_key</th>\n",
       "      <th>direction_id</th>\n",
       "      <th>time_period</th>\n",
       "      <th>avg_scheduled_service_minutes</th>\n",
       "      <th>avg_stop_miles</th>\n",
       "      <th>n_scheduled_trips</th>\n",
       "      <th>frequency</th>\n",
       "      <th>service_date</th>\n",
       "      <th>minutes_atleast1_vp</th>\n",
       "      <th>minutes_atleast2_vp</th>\n",
       "      <th>total_rt_service_minutes</th>\n",
       "      <th>total_scheduled_service_minutes</th>\n",
       "      <th>total_vp</th>\n",
       "      <th>vp_in_shape</th>\n",
       "      <th>is_early</th>\n",
       "      <th>is_ontime</th>\n",
       "      <th>is_late</th>\n",
       "      <th>n_vp_trips</th>\n",
       "      <th>vp_per_minute</th>\n",
       "      <th>pct_in_shape</th>\n",
       "      <th>pct_rt_journey_atleast1_vp</th>\n",
       "      <th>pct_rt_journey_atleast2_vp</th>\n",
       "      <th>pct_sched_journey_atleast1_vp</th>\n",
       "      <th>pct_sched_journey_atleast2_vp</th>\n",
       "      <th>rt_sched_journey_ratio</th>\n",
       "      <th>avg_rt_service_minutes</th>\n",
       "      <th>speed_mph</th>\n",
       "      <th>route_id</th>\n",
       "      <th>quarter</th>\n",
       "    </tr>\n",
       "  </thead>\n",
       "  <tbody>\n",
       "    <tr>\n",
       "      <th>61970</th>\n",
       "      <td>1adf7a7bde86b42ed014f6de74c7132e</td>\n",
       "      <td>0.00</td>\n",
       "      <td>all_day</td>\n",
       "      <td>62.04</td>\n",
       "      <td>0.17</td>\n",
       "      <td>50</td>\n",
       "      <td>2.08</td>\n",
       "      <td>2023-04-12</td>\n",
       "      <td>3292</td>\n",
       "      <td>2373</td>\n",
       "      <td>4651.70</td>\n",
       "      <td>3102.00</td>\n",
       "      <td>5907</td>\n",
       "      <td>5818</td>\n",
       "      <td>2</td>\n",
       "      <td>31</td>\n",
       "      <td>17</td>\n",
       "      <td>50</td>\n",
       "      <td>1.27</td>\n",
       "      <td>0.98</td>\n",
       "      <td>0.71</td>\n",
       "      <td>0.51</td>\n",
       "      <td>1.00</td>\n",
       "      <td>0.77</td>\n",
       "      <td>1.50</td>\n",
       "      <td>93.03</td>\n",
       "      <td>11.10</td>\n",
       "      <td>1</td>\n",
       "      <td>2023Q2</td>\n",
       "    </tr>\n",
       "    <tr>\n",
       "      <th>61973</th>\n",
       "      <td>1adf7a7bde86b42ed014f6de74c7132e</td>\n",
       "      <td>0.00</td>\n",
       "      <td>all_day</td>\n",
       "      <td>62.04</td>\n",
       "      <td>0.17</td>\n",
       "      <td>50</td>\n",
       "      <td>2.08</td>\n",
       "      <td>2023-05-17</td>\n",
       "      <td>388</td>\n",
       "      <td>207</td>\n",
       "      <td>404.32</td>\n",
       "      <td>429.00</td>\n",
       "      <td>603</td>\n",
       "      <td>573</td>\n",
       "      <td>1</td>\n",
       "      <td>6</td>\n",
       "      <td>0</td>\n",
       "      <td>7</td>\n",
       "      <td>1.49</td>\n",
       "      <td>0.95</td>\n",
       "      <td>0.96</td>\n",
       "      <td>0.51</td>\n",
       "      <td>0.90</td>\n",
       "      <td>0.48</td>\n",
       "      <td>0.94</td>\n",
       "      <td>57.76</td>\n",
       "      <td>10.84</td>\n",
       "      <td>1</td>\n",
       "      <td>2023Q2</td>\n",
       "    </tr>\n",
       "    <tr>\n",
       "      <th>61975</th>\n",
       "      <td>1adf7a7bde86b42ed014f6de74c7132e</td>\n",
       "      <td>0.00</td>\n",
       "      <td>all_day</td>\n",
       "      <td>62.04</td>\n",
       "      <td>0.17</td>\n",
       "      <td>50</td>\n",
       "      <td>2.08</td>\n",
       "      <td>2023-06-14</td>\n",
       "      <td>500</td>\n",
       "      <td>256</td>\n",
       "      <td>527.61</td>\n",
       "      <td>614.00</td>\n",
       "      <td>765</td>\n",
       "      <td>758</td>\n",
       "      <td>5</td>\n",
       "      <td>3</td>\n",
       "      <td>2</td>\n",
       "      <td>10</td>\n",
       "      <td>1.45</td>\n",
       "      <td>0.99</td>\n",
       "      <td>0.95</td>\n",
       "      <td>0.48</td>\n",
       "      <td>0.81</td>\n",
       "      <td>0.42</td>\n",
       "      <td>0.86</td>\n",
       "      <td>52.76</td>\n",
       "      <td>12.59</td>\n",
       "      <td>1</td>\n",
       "      <td>2023Q2</td>\n",
       "    </tr>\n",
       "    <tr>\n",
       "      <th>61979</th>\n",
       "      <td>1adf7a7bde86b42ed014f6de74c7132e</td>\n",
       "      <td>0.00</td>\n",
       "      <td>all_day</td>\n",
       "      <td>62.04</td>\n",
       "      <td>0.17</td>\n",
       "      <td>50</td>\n",
       "      <td>2.08</td>\n",
       "      <td>2023-07-12</td>\n",
       "      <td>3175</td>\n",
       "      <td>1607</td>\n",
       "      <td>4545.07</td>\n",
       "      <td>3102.00</td>\n",
       "      <td>4822</td>\n",
       "      <td>4711</td>\n",
       "      <td>4</td>\n",
       "      <td>38</td>\n",
       "      <td>8</td>\n",
       "      <td>50</td>\n",
       "      <td>1.06</td>\n",
       "      <td>0.98</td>\n",
       "      <td>0.70</td>\n",
       "      <td>0.35</td>\n",
       "      <td>1.00</td>\n",
       "      <td>0.52</td>\n",
       "      <td>1.47</td>\n",
       "      <td>90.90</td>\n",
       "      <td>11.23</td>\n",
       "      <td>1</td>\n",
       "      <td>2023Q3</td>\n",
       "    </tr>\n",
       "    <tr>\n",
       "      <th>61982</th>\n",
       "      <td>1adf7a7bde86b42ed014f6de74c7132e</td>\n",
       "      <td>0.00</td>\n",
       "      <td>all_day</td>\n",
       "      <td>62.04</td>\n",
       "      <td>0.17</td>\n",
       "      <td>50</td>\n",
       "      <td>2.08</td>\n",
       "      <td>2023-08-15</td>\n",
       "      <td>3207</td>\n",
       "      <td>1662</td>\n",
       "      <td>4574.60</td>\n",
       "      <td>3102.00</td>\n",
       "      <td>4902</td>\n",
       "      <td>4755</td>\n",
       "      <td>4</td>\n",
       "      <td>34</td>\n",
       "      <td>12</td>\n",
       "      <td>50</td>\n",
       "      <td>1.07</td>\n",
       "      <td>0.97</td>\n",
       "      <td>0.70</td>\n",
       "      <td>0.36</td>\n",
       "      <td>1.00</td>\n",
       "      <td>0.54</td>\n",
       "      <td>1.47</td>\n",
       "      <td>91.49</td>\n",
       "      <td>10.93</td>\n",
       "      <td>1</td>\n",
       "      <td>2023Q3</td>\n",
       "    </tr>\n",
       "  </tbody>\n",
       "</table>\n",
       "</div>"
      ],
      "text/plain": [
       "              schedule_gtfs_dataset_key  direction_id time_period  \\\n",
       "61970  1adf7a7bde86b42ed014f6de74c7132e          0.00     all_day   \n",
       "61973  1adf7a7bde86b42ed014f6de74c7132e          0.00     all_day   \n",
       "61975  1adf7a7bde86b42ed014f6de74c7132e          0.00     all_day   \n",
       "61979  1adf7a7bde86b42ed014f6de74c7132e          0.00     all_day   \n",
       "61982  1adf7a7bde86b42ed014f6de74c7132e          0.00     all_day   \n",
       "\n",
       "       avg_scheduled_service_minutes  avg_stop_miles  n_scheduled_trips  \\\n",
       "61970                          62.04            0.17                 50   \n",
       "61973                          62.04            0.17                 50   \n",
       "61975                          62.04            0.17                 50   \n",
       "61979                          62.04            0.17                 50   \n",
       "61982                          62.04            0.17                 50   \n",
       "\n",
       "       frequency service_date  minutes_atleast1_vp  minutes_atleast2_vp  \\\n",
       "61970       2.08   2023-04-12                 3292                 2373   \n",
       "61973       2.08   2023-05-17                  388                  207   \n",
       "61975       2.08   2023-06-14                  500                  256   \n",
       "61979       2.08   2023-07-12                 3175                 1607   \n",
       "61982       2.08   2023-08-15                 3207                 1662   \n",
       "\n",
       "       total_rt_service_minutes  total_scheduled_service_minutes  total_vp  \\\n",
       "61970                   4651.70                          3102.00      5907   \n",
       "61973                    404.32                           429.00       603   \n",
       "61975                    527.61                           614.00       765   \n",
       "61979                   4545.07                          3102.00      4822   \n",
       "61982                   4574.60                          3102.00      4902   \n",
       "\n",
       "       vp_in_shape  is_early  is_ontime  is_late  n_vp_trips  vp_per_minute  \\\n",
       "61970         5818         2         31       17          50           1.27   \n",
       "61973          573         1          6        0           7           1.49   \n",
       "61975          758         5          3        2          10           1.45   \n",
       "61979         4711         4         38        8          50           1.06   \n",
       "61982         4755         4         34       12          50           1.07   \n",
       "\n",
       "       pct_in_shape  pct_rt_journey_atleast1_vp  pct_rt_journey_atleast2_vp  \\\n",
       "61970          0.98                        0.71                        0.51   \n",
       "61973          0.95                        0.96                        0.51   \n",
       "61975          0.99                        0.95                        0.48   \n",
       "61979          0.98                        0.70                        0.35   \n",
       "61982          0.97                        0.70                        0.36   \n",
       "\n",
       "       pct_sched_journey_atleast1_vp  pct_sched_journey_atleast2_vp  \\\n",
       "61970                           1.00                           0.77   \n",
       "61973                           0.90                           0.48   \n",
       "61975                           0.81                           0.42   \n",
       "61979                           1.00                           0.52   \n",
       "61982                           1.00                           0.54   \n",
       "\n",
       "       rt_sched_journey_ratio  avg_rt_service_minutes  speed_mph route_id  \\\n",
       "61970                    1.50                   93.03      11.10        1   \n",
       "61973                    0.94                   57.76      10.84        1   \n",
       "61975                    0.86                   52.76      12.59        1   \n",
       "61979                    1.47                   90.90      11.23        1   \n",
       "61982                    1.47                   91.49      10.93        1   \n",
       "\n",
       "      quarter  \n",
       "61970  2023Q2  \n",
       "61973  2023Q2  \n",
       "61975  2023Q2  \n",
       "61979  2023Q3  \n",
       "61982  2023Q3  "
      ]
     },
     "execution_count": 18,
     "metadata": {},
     "output_type": "execute_result"
    }
   ],
   "source": [
    "sd_df.drop(columns=cols_not_grouped).head()"
   ]
  },
  {
   "cell_type": "markdown",
   "id": "2505c77f-e44d-461f-97f0-a589ab6195ac",
   "metadata": {},
   "source": [
    "### Need to re-calculate the % and `\"rt_sched_journey_ratio\"`\n",
    "### Need to simply group and sum is_early \tis_ontime \tis_late"
   ]
  },
  {
   "cell_type": "code",
   "execution_count": 35,
   "id": "817a00ee-345f-4a98-a346-f3b751d796a6",
   "metadata": {
    "tags": []
   },
   "outputs": [
    {
     "data": {
      "text/plain": [
       "\u001b[0;31mSignature:\u001b[0m\n",
       "\u001b[0msegment_calcs\u001b[0m\u001b[0;34m.\u001b[0m\u001b[0mcalculate_weighted_averages\u001b[0m\u001b[0;34m(\u001b[0m\u001b[0;34m\u001b[0m\n",
       "\u001b[0;34m\u001b[0m    \u001b[0mdf\u001b[0m\u001b[0;34m:\u001b[0m \u001b[0mpandas\u001b[0m\u001b[0;34m.\u001b[0m\u001b[0mcore\u001b[0m\u001b[0;34m.\u001b[0m\u001b[0mframe\u001b[0m\u001b[0;34m.\u001b[0m\u001b[0mDataFrame\u001b[0m\u001b[0;34m,\u001b[0m\u001b[0;34m\u001b[0m\n",
       "\u001b[0;34m\u001b[0m    \u001b[0mgroup_cols\u001b[0m\u001b[0;34m:\u001b[0m \u001b[0mlist\u001b[0m\u001b[0;34m,\u001b[0m\u001b[0;34m\u001b[0m\n",
       "\u001b[0;34m\u001b[0m    \u001b[0mmetric_cols\u001b[0m\u001b[0;34m:\u001b[0m \u001b[0mlist\u001b[0m\u001b[0;34m,\u001b[0m\u001b[0;34m\u001b[0m\n",
       "\u001b[0;34m\u001b[0m    \u001b[0mweight_col\u001b[0m\u001b[0;34m:\u001b[0m \u001b[0mstr\u001b[0m\u001b[0;34m,\u001b[0m\u001b[0;34m\u001b[0m\n",
       "\u001b[0;34m\u001b[0m\u001b[0;34m)\u001b[0m\u001b[0;34m\u001b[0m\u001b[0;34m\u001b[0m\u001b[0m\n",
       "\u001b[0;31mSource:\u001b[0m   \n",
       "\u001b[0;32mdef\u001b[0m \u001b[0mcalculate_weighted_averages\u001b[0m\u001b[0;34m(\u001b[0m\u001b[0;34m\u001b[0m\n",
       "\u001b[0;34m\u001b[0m    \u001b[0mdf\u001b[0m\u001b[0;34m:\u001b[0m \u001b[0mpd\u001b[0m\u001b[0;34m.\u001b[0m\u001b[0mDataFrame\u001b[0m\u001b[0;34m,\u001b[0m \u001b[0;34m\u001b[0m\n",
       "\u001b[0;34m\u001b[0m    \u001b[0mgroup_cols\u001b[0m\u001b[0;34m:\u001b[0m \u001b[0mlist\u001b[0m\u001b[0;34m,\u001b[0m \u001b[0;34m\u001b[0m\n",
       "\u001b[0;34m\u001b[0m    \u001b[0mmetric_cols\u001b[0m\u001b[0;34m:\u001b[0m \u001b[0mlist\u001b[0m\u001b[0;34m,\u001b[0m \u001b[0;34m\u001b[0m\n",
       "\u001b[0;34m\u001b[0m    \u001b[0mweight_col\u001b[0m\u001b[0;34m:\u001b[0m \u001b[0mstr\u001b[0m\u001b[0;34m\u001b[0m\n",
       "\u001b[0;34m\u001b[0m\u001b[0;34m)\u001b[0m\u001b[0;34m:\u001b[0m\u001b[0;34m\u001b[0m\n",
       "\u001b[0;34m\u001b[0m    \u001b[0;34m\"\"\"\u001b[0m\n",
       "\u001b[0;34m    For certain aggregations, we need to calculate a weighted average, \u001b[0m\n",
       "\u001b[0;34m    weighted by the number of trips.\u001b[0m\n",
       "\u001b[0;34m    \u001b[0m\n",
       "\u001b[0;34m    If we want peak/offpeak weighted calculations, \u001b[0m\n",
       "\u001b[0;34m    we can take time-of-day (AM peak, PM peak) and\u001b[0m\n",
       "\u001b[0;34m    get a peak speed calculation, after weighting by the number\u001b[0m\n",
       "\u001b[0;34m    of trips present in each time-of-day bin.\u001b[0m\n",
       "\u001b[0;34m    \u001b[0m\n",
       "\u001b[0;34m    Ex: metric_cols = ['p20_mph', 'p50_mph', 'p80_mph']\u001b[0m\n",
       "\u001b[0;34m    weight_cols = 'n_trips'\u001b[0m\n",
       "\u001b[0;34m    \u001b[0m\n",
       "\u001b[0;34m    \"\"\"\u001b[0m    \u001b[0;34m\u001b[0m\n",
       "\u001b[0;34m\u001b[0m    \u001b[0;32mfor\u001b[0m \u001b[0mc\u001b[0m \u001b[0;32min\u001b[0m \u001b[0mmetric_cols\u001b[0m\u001b[0;34m:\u001b[0m\u001b[0;34m\u001b[0m\n",
       "\u001b[0;34m\u001b[0m        \u001b[0mdf\u001b[0m\u001b[0;34m[\u001b[0m\u001b[0mc\u001b[0m\u001b[0;34m]\u001b[0m \u001b[0;34m=\u001b[0m \u001b[0mdf\u001b[0m\u001b[0;34m[\u001b[0m\u001b[0mc\u001b[0m\u001b[0;34m]\u001b[0m \u001b[0;34m*\u001b[0m \u001b[0mdf\u001b[0m\u001b[0;34m[\u001b[0m\u001b[0mweight_col\u001b[0m\u001b[0;34m]\u001b[0m    \u001b[0;34m\u001b[0m\n",
       "\u001b[0;34m\u001b[0m    \u001b[0;34m\u001b[0m\n",
       "\u001b[0;34m\u001b[0m    \u001b[0mdf2\u001b[0m \u001b[0;34m=\u001b[0m \u001b[0;34m(\u001b[0m\u001b[0mdf\u001b[0m\u001b[0;34m.\u001b[0m\u001b[0mgroupby\u001b[0m\u001b[0;34m(\u001b[0m\u001b[0mgroup_cols\u001b[0m\u001b[0;34m,\u001b[0m \u001b[0mgroup_keys\u001b[0m\u001b[0;34m=\u001b[0m\u001b[0;32mFalse\u001b[0m\u001b[0;34m)\u001b[0m\u001b[0;34m\u001b[0m\n",
       "\u001b[0;34m\u001b[0m           \u001b[0;34m.\u001b[0m\u001b[0magg\u001b[0m\u001b[0;34m(\u001b[0m\u001b[0;34m{\u001b[0m\u001b[0mc\u001b[0m\u001b[0;34m:\u001b[0m \u001b[0;34m\"sum\"\u001b[0m \u001b[0;32mfor\u001b[0m \u001b[0mc\u001b[0m \u001b[0;32min\u001b[0m \u001b[0mmetric_cols\u001b[0m \u001b[0;34m+\u001b[0m \u001b[0;34m[\u001b[0m\u001b[0mweight_col\u001b[0m\u001b[0;34m]\u001b[0m\u001b[0;34m}\u001b[0m\u001b[0;34m)\u001b[0m\u001b[0;34m\u001b[0m\n",
       "\u001b[0;34m\u001b[0m           \u001b[0;34m.\u001b[0m\u001b[0mreset_index\u001b[0m\u001b[0;34m(\u001b[0m\u001b[0;34m)\u001b[0m\u001b[0;34m\u001b[0m\n",
       "\u001b[0;34m\u001b[0m          \u001b[0;34m)\u001b[0m\u001b[0;34m\u001b[0m\n",
       "\u001b[0;34m\u001b[0m    \u001b[0;34m\u001b[0m\n",
       "\u001b[0;34m\u001b[0m    \u001b[0;32mfor\u001b[0m \u001b[0mc\u001b[0m \u001b[0;32min\u001b[0m \u001b[0mmetric_cols\u001b[0m\u001b[0;34m:\u001b[0m\u001b[0;34m\u001b[0m\n",
       "\u001b[0;34m\u001b[0m        \u001b[0mdf2\u001b[0m\u001b[0;34m[\u001b[0m\u001b[0mc\u001b[0m\u001b[0;34m]\u001b[0m \u001b[0;34m=\u001b[0m \u001b[0mdf2\u001b[0m\u001b[0;34m[\u001b[0m\u001b[0mc\u001b[0m\u001b[0;34m]\u001b[0m\u001b[0;34m.\u001b[0m\u001b[0mdivide\u001b[0m\u001b[0;34m(\u001b[0m\u001b[0mdf2\u001b[0m\u001b[0;34m[\u001b[0m\u001b[0mweight_col\u001b[0m\u001b[0;34m]\u001b[0m\u001b[0;34m)\u001b[0m\u001b[0;34m.\u001b[0m\u001b[0mround\u001b[0m\u001b[0;34m(\u001b[0m\u001b[0;36m2\u001b[0m\u001b[0;34m)\u001b[0m\u001b[0;34m\u001b[0m\n",
       "\u001b[0;34m\u001b[0m    \u001b[0;34m\u001b[0m\n",
       "\u001b[0;34m\u001b[0m    \u001b[0;32mreturn\u001b[0m \u001b[0mdf2\u001b[0m\u001b[0;34m\u001b[0m\u001b[0;34m\u001b[0m\u001b[0m\n",
       "\u001b[0;31mFile:\u001b[0m      ~/data-analyses/rt_segment_speeds/segment_speed_utils/segment_calcs.py\n",
       "\u001b[0;31mType:\u001b[0m      function"
      ]
     },
     "metadata": {},
     "output_type": "display_data"
    }
   ],
   "source": [
    "segment_calcs.calculate_weighted_averages??"
   ]
  },
  {
   "cell_type": "code",
   "execution_count": 20,
   "id": "30ec0ad0-ac4b-45f9-8409-22fa822ec5bc",
   "metadata": {
    "tags": []
   },
   "outputs": [
    {
     "name": "stderr",
     "output_type": "stream",
     "text": [
      "/home/jovyan/data-analyses/rt_segment_speeds/segment_speed_utils/segment_calcs.py:263: SettingWithCopyWarning: \n",
      "A value is trying to be set on a copy of a slice from a DataFrame.\n",
      "Try using .loc[row_indexer,col_indexer] = value instead\n",
      "\n",
      "See the caveats in the documentation: https://pandas.pydata.org/pandas-docs/stable/user_guide/indexing.html#returning-a-view-versus-a-copy\n",
      "  df[c] = df[c] * df[weight_col]\n"
     ]
    }
   ],
   "source": [
    "sd_rt_metrics = segment_calcs.calculate_weighted_averages(\n",
    "    df=sd_df,\n",
    "    group_cols=group_cols,\n",
    "    metric_cols=rt_metric_cols,\n",
    "    weight_col=\"n_vp_trips\",\n",
    ")"
   ]
  },
  {
   "cell_type": "code",
   "execution_count": 23,
   "id": "01e372ea-cc97-482a-aa84-156a0d97752d",
   "metadata": {
    "tags": []
   },
   "outputs": [
    {
     "data": {
      "text/html": [
       "<div>\n",
       "<style scoped>\n",
       "    .dataframe tbody tr th:only-of-type {\n",
       "        vertical-align: middle;\n",
       "    }\n",
       "\n",
       "    .dataframe tbody tr th {\n",
       "        vertical-align: top;\n",
       "    }\n",
       "\n",
       "    .dataframe thead th {\n",
       "        text-align: right;\n",
       "    }\n",
       "</style>\n",
       "<table border=\"1\" class=\"dataframe\">\n",
       "  <thead>\n",
       "    <tr style=\"text-align: right;\">\n",
       "      <th></th>\n",
       "      <th>quarter</th>\n",
       "      <th>schedule_gtfs_dataset_key</th>\n",
       "      <th>route_id</th>\n",
       "      <th>direction_id</th>\n",
       "      <th>time_period</th>\n",
       "      <th>minutes_atleast1_vp</th>\n",
       "      <th>minutes_atleast2_vp</th>\n",
       "      <th>total_rt_service_minutes</th>\n",
       "      <th>total_vp</th>\n",
       "      <th>vp_in_shape</th>\n",
       "      <th>is_early</th>\n",
       "      <th>is_ontime</th>\n",
       "      <th>is_late</th>\n",
       "      <th>vp_per_minute</th>\n",
       "      <th>avg_rt_service_minutes</th>\n",
       "      <th>speed_mph</th>\n",
       "      <th>n_vp_trips</th>\n",
       "    </tr>\n",
       "  </thead>\n",
       "  <tbody>\n",
       "    <tr>\n",
       "      <th>547</th>\n",
       "      <td>2023Q2</td>\n",
       "      <td>1adf7a7bde86b42ed014f6de74c7132e</td>\n",
       "      <td>1</td>\n",
       "      <td>0.00</td>\n",
       "      <td>all_day</td>\n",
       "      <td>2571.88</td>\n",
       "      <td>1830.73</td>\n",
       "      <td>3592.41</td>\n",
       "      <td>4585.39</td>\n",
       "      <td>4514.79</td>\n",
       "      <td>2.34</td>\n",
       "      <td>24.21</td>\n",
       "      <td>12.99</td>\n",
       "      <td>1.32</td>\n",
       "      <td>83.33</td>\n",
       "      <td>11.30</td>\n",
       "      <td>67</td>\n",
       "    </tr>\n",
       "    <tr>\n",
       "      <th>548</th>\n",
       "      <td>2023Q2</td>\n",
       "      <td>1adf7a7bde86b42ed014f6de74c7132e</td>\n",
       "      <td>1</td>\n",
       "      <td>0.00</td>\n",
       "      <td>offpeak</td>\n",
       "      <td>1338.95</td>\n",
       "      <td>943.50</td>\n",
       "      <td>2319.24</td>\n",
       "      <td>2378.61</td>\n",
       "      <td>2311.47</td>\n",
       "      <td>2.45</td>\n",
       "      <td>8.84</td>\n",
       "      <td>9.61</td>\n",
       "      <td>1.14</td>\n",
       "      <td>97.40</td>\n",
       "      <td>11.60</td>\n",
       "      <td>38</td>\n",
       "    </tr>\n",
       "    <tr>\n",
       "      <th>549</th>\n",
       "      <td>2023Q2</td>\n",
       "      <td>1adf7a7bde86b42ed014f6de74c7132e</td>\n",
       "      <td>1</td>\n",
       "      <td>0.00</td>\n",
       "      <td>peak</td>\n",
       "      <td>1244.83</td>\n",
       "      <td>895.55</td>\n",
       "      <td>1235.17</td>\n",
       "      <td>2227.34</td>\n",
       "      <td>2227.03</td>\n",
       "      <td>0.00</td>\n",
       "      <td>15.69</td>\n",
       "      <td>3.17</td>\n",
       "      <td>1.74</td>\n",
       "      <td>64.91</td>\n",
       "      <td>10.95</td>\n",
       "      <td>29</td>\n",
       "    </tr>\n",
       "  </tbody>\n",
       "</table>\n",
       "</div>"
      ],
      "text/plain": [
       "    quarter         schedule_gtfs_dataset_key route_id  direction_id  \\\n",
       "547  2023Q2  1adf7a7bde86b42ed014f6de74c7132e        1          0.00   \n",
       "548  2023Q2  1adf7a7bde86b42ed014f6de74c7132e        1          0.00   \n",
       "549  2023Q2  1adf7a7bde86b42ed014f6de74c7132e        1          0.00   \n",
       "\n",
       "    time_period  minutes_atleast1_vp  minutes_atleast2_vp  \\\n",
       "547     all_day              2571.88              1830.73   \n",
       "548     offpeak              1338.95               943.50   \n",
       "549        peak              1244.83               895.55   \n",
       "\n",
       "     total_rt_service_minutes  total_vp  vp_in_shape  is_early  is_ontime  \\\n",
       "547                   3592.41   4585.39      4514.79      2.34      24.21   \n",
       "548                   2319.24   2378.61      2311.47      2.45       8.84   \n",
       "549                   1235.17   2227.34      2227.03      0.00      15.69   \n",
       "\n",
       "     is_late  vp_per_minute  avg_rt_service_minutes  speed_mph  n_vp_trips  \n",
       "547    12.99           1.32                   83.33      11.30          67  \n",
       "548     9.61           1.14                   97.40      11.60          38  \n",
       "549     3.17           1.74                   64.91      10.95          29  "
      ]
     },
     "execution_count": 23,
     "metadata": {},
     "output_type": "execute_result"
    }
   ],
   "source": [
    "sd_rt_metrics.loc[\n",
    "    (sd_rt_metrics.quarter == \"2023Q2\")\n",
    "    & (sd_rt_metrics.route_id == \"1\")\n",
    "    & (sd_rt_metrics.direction_id == 0)\n",
    "]"
   ]
  },
  {
   "cell_type": "code",
   "execution_count": 27,
   "id": "e7d2e844-b727-430d-8757-d824ccdb9bfc",
   "metadata": {
    "tags": []
   },
   "outputs": [
    {
     "data": {
      "text/plain": [
       "1244.8275862068965"
      ]
     },
     "execution_count": 27,
     "metadata": {},
     "output_type": "execute_result"
    }
   ],
   "source": [
    "# Check minutes_atleast_1_vp\n",
    "(1523 * 23 + 188 * 3 + 169 * 3) / (23 + 3 + 3)"
   ]
  },
  {
   "cell_type": "code",
   "execution_count": 29,
   "id": "796a7858-ec86-4a93-a1b2-7b9c7ce893c6",
   "metadata": {
    "tags": []
   },
   "outputs": [
    {
     "data": {
      "text/plain": [
       "2231.1724137931033"
      ]
     },
     "execution_count": 29,
     "metadata": {},
     "output_type": "execute_result"
    }
   ],
   "source": [
    "# Check vp_in_sshape\n",
    "((2736 * 23) + (296 * 3) + (296 * 3)) / (23 + 3 + 3)"
   ]
  },
  {
   "cell_type": "code",
   "execution_count": 52,
   "id": "c7e3ec15-9f3c-4b84-8f23-e168ad679567",
   "metadata": {
    "tags": []
   },
   "outputs": [
    {
     "data": {
      "text/plain": [
       "2231.1724137931033"
      ]
     },
     "execution_count": 52,
     "metadata": {},
     "output_type": "execute_result"
    }
   ],
   "source": [
    "# total_rt_service-minutes 1235.17 \t\n",
    "((2736 * 23) + (296 * 3) + (296 * 3)) / (23 + 3 + 3)"
   ]
  },
  {
   "cell_type": "markdown",
   "id": "5d783dfe-b3bb-4092-bac7-061f99b6d333",
   "metadata": {},
   "source": [
    "### "
   ]
  },
  {
   "cell_type": "code",
   "execution_count": 32,
   "id": "dbffbd3a-627c-4d58-bafa-4cc9ed3cdff1",
   "metadata": {
    "tags": []
   },
   "outputs": [
    {
     "data": {
      "text/plain": [
       "1.579375"
      ]
     },
     "execution_count": 32,
     "metadata": {},
     "output_type": "execute_result"
    }
   ],
   "source": [
    "# VP per min\n",
    "(1.81 * 23 + 1.55 * 3 + 1.42 * 3) / (23 + 3 + 6)"
   ]
  },
  {
   "cell_type": "code",
   "execution_count": 36,
   "id": "cc894804-f821-43fd-8e9b-7b08ee57c009",
   "metadata": {
    "tags": []
   },
   "outputs": [],
   "source": [
    "one_route_one_qtr = sd_df.loc[\n",
    "    (sd_df.quarter == \"2023Q2\")\n",
    "    & (sd_df.route_id == \"1\")\n",
    "    & (sd_df.direction_id == 0)\n",
    "    & (sd_df.time_period == \"peak\")\n",
    "]"
   ]
  },
  {
   "cell_type": "code",
   "execution_count": 46,
   "id": "3fd55904-982a-44bf-ac9a-efe824d80b3a",
   "metadata": {
    "tags": []
   },
   "outputs": [
    {
     "data": {
      "text/html": [
       "<div>\n",
       "<style scoped>\n",
       "    .dataframe tbody tr th:only-of-type {\n",
       "        vertical-align: middle;\n",
       "    }\n",
       "\n",
       "    .dataframe tbody tr th {\n",
       "        vertical-align: top;\n",
       "    }\n",
       "\n",
       "    .dataframe thead th {\n",
       "        text-align: right;\n",
       "    }\n",
       "</style>\n",
       "<table border=\"1\" class=\"dataframe\">\n",
       "  <thead>\n",
       "    <tr style=\"text-align: right;\">\n",
       "      <th></th>\n",
       "      <th>schedule_gtfs_dataset_key</th>\n",
       "      <th>direction_id</th>\n",
       "      <th>time_period</th>\n",
       "      <th>avg_scheduled_service_minutes</th>\n",
       "      <th>avg_stop_miles</th>\n",
       "      <th>n_scheduled_trips</th>\n",
       "      <th>frequency</th>\n",
       "      <th>is_express</th>\n",
       "      <th>is_rapid</th>\n",
       "      <th>is_rail</th>\n",
       "      <th>is_coverage</th>\n",
       "      <th>is_downtown_local</th>\n",
       "      <th>is_local</th>\n",
       "      <th>service_date</th>\n",
       "      <th>typology</th>\n",
       "      <th>minutes_atleast1_vp</th>\n",
       "      <th>minutes_atleast2_vp</th>\n",
       "      <th>total_rt_service_minutes</th>\n",
       "      <th>total_scheduled_service_minutes</th>\n",
       "      <th>total_vp</th>\n",
       "      <th>vp_in_shape</th>\n",
       "      <th>is_early</th>\n",
       "      <th>is_ontime</th>\n",
       "      <th>is_late</th>\n",
       "      <th>n_vp_trips</th>\n",
       "      <th>vp_per_minute</th>\n",
       "      <th>pct_in_shape</th>\n",
       "      <th>pct_rt_journey_atleast1_vp</th>\n",
       "      <th>pct_rt_journey_atleast2_vp</th>\n",
       "      <th>pct_sched_journey_atleast1_vp</th>\n",
       "      <th>pct_sched_journey_atleast2_vp</th>\n",
       "      <th>rt_sched_journey_ratio</th>\n",
       "      <th>avg_rt_service_minutes</th>\n",
       "      <th>sched_rt_category</th>\n",
       "      <th>speed_mph</th>\n",
       "      <th>route_long_name</th>\n",
       "      <th>route_short_name</th>\n",
       "      <th>route_combined_name</th>\n",
       "      <th>route_id</th>\n",
       "      <th>base64_url</th>\n",
       "      <th>organization_source_record_id</th>\n",
       "      <th>organization_name</th>\n",
       "      <th>caltrans_district</th>\n",
       "      <th>route_primary_direction</th>\n",
       "      <th>name</th>\n",
       "      <th>schedule_source_record_id</th>\n",
       "      <th>quarter</th>\n",
       "    </tr>\n",
       "  </thead>\n",
       "  <tbody>\n",
       "    <tr>\n",
       "      <th>62000</th>\n",
       "      <td>1adf7a7bde86b42ed014f6de74c7132e</td>\n",
       "      <td>0.00</td>\n",
       "      <td>peak</td>\n",
       "      <td>62.04</td>\n",
       "      <td>0.17</td>\n",
       "      <td>23</td>\n",
       "      <td>0.96</td>\n",
       "      <td>0.00</td>\n",
       "      <td>1.00</td>\n",
       "      <td>0.00</td>\n",
       "      <td>0.00</td>\n",
       "      <td>1.00</td>\n",
       "      <td>0.00</td>\n",
       "      <td>2023-04-12</td>\n",
       "      <td>rapid</td>\n",
       "      <td>1523</td>\n",
       "      <td>1104</td>\n",
       "      <td>1508.65</td>\n",
       "      <td>1487.00</td>\n",
       "      <td>2736</td>\n",
       "      <td>2736</td>\n",
       "      <td>0</td>\n",
       "      <td>19</td>\n",
       "      <td>4</td>\n",
       "      <td>23</td>\n",
       "      <td>1.81</td>\n",
       "      <td>1.00</td>\n",
       "      <td>1.00</td>\n",
       "      <td>0.73</td>\n",
       "      <td>1.00</td>\n",
       "      <td>0.74</td>\n",
       "      <td>1.01</td>\n",
       "      <td>65.59</td>\n",
       "      <td>schedule_and_vp</td>\n",
       "      <td>10.75</td>\n",
       "      <td>Fashion Valley - La Mesa</td>\n",
       "      <td>1</td>\n",
       "      <td>1 Fashion Valley - La Mesa</td>\n",
       "      <td>1</td>\n",
       "      <td>aHR0cHM6Ly93d3cuc2RtdHMuY29tL2dvb2dsZV90cmFuc2l0X2ZpbGVzL2dvb2dsZV90cmFuc2l0LnppcA==</td>\n",
       "      <td>recZALk4vysuoTVjF</td>\n",
       "      <td>San Diego Metropolitan Transit System</td>\n",
       "      <td>11 - San Diego</td>\n",
       "      <td>Eastbound</td>\n",
       "      <td>San Diego Schedule</td>\n",
       "      <td>recfZ9iWkptccoONX</td>\n",
       "      <td>2023Q2</td>\n",
       "    </tr>\n",
       "    <tr>\n",
       "      <th>62003</th>\n",
       "      <td>1adf7a7bde86b42ed014f6de74c7132e</td>\n",
       "      <td>0.00</td>\n",
       "      <td>peak</td>\n",
       "      <td>62.04</td>\n",
       "      <td>0.17</td>\n",
       "      <td>23</td>\n",
       "      <td>0.96</td>\n",
       "      <td>0.00</td>\n",
       "      <td>1.00</td>\n",
       "      <td>0.00</td>\n",
       "      <td>0.00</td>\n",
       "      <td>1.00</td>\n",
       "      <td>0.00</td>\n",
       "      <td>2023-05-17</td>\n",
       "      <td>rapid</td>\n",
       "      <td>188</td>\n",
       "      <td>107</td>\n",
       "      <td>191.41</td>\n",
       "      <td>195.00</td>\n",
       "      <td>296</td>\n",
       "      <td>296</td>\n",
       "      <td>0</td>\n",
       "      <td>3</td>\n",
       "      <td>0</td>\n",
       "      <td>3</td>\n",
       "      <td>1.55</td>\n",
       "      <td>1.00</td>\n",
       "      <td>0.98</td>\n",
       "      <td>0.56</td>\n",
       "      <td>0.96</td>\n",
       "      <td>0.55</td>\n",
       "      <td>0.98</td>\n",
       "      <td>63.80</td>\n",
       "      <td>schedule_and_vp</td>\n",
       "      <td>10.65</td>\n",
       "      <td>Fashion Valley - La Mesa</td>\n",
       "      <td>1</td>\n",
       "      <td>1 Fashion Valley - La Mesa</td>\n",
       "      <td>1</td>\n",
       "      <td>aHR0cHM6Ly93d3cuc2RtdHMuY29tL2dvb2dsZV90cmFuc2l0X2ZpbGVzL2dvb2dsZV90cmFuc2l0LnppcA==</td>\n",
       "      <td>recZALk4vysuoTVjF</td>\n",
       "      <td>San Diego Metropolitan Transit System</td>\n",
       "      <td>11 - San Diego</td>\n",
       "      <td>Eastbound</td>\n",
       "      <td>San Diego Schedule</td>\n",
       "      <td>recfZ9iWkptccoONX</td>\n",
       "      <td>2023Q2</td>\n",
       "    </tr>\n",
       "    <tr>\n",
       "      <th>62005</th>\n",
       "      <td>1adf7a7bde86b42ed014f6de74c7132e</td>\n",
       "      <td>0.00</td>\n",
       "      <td>peak</td>\n",
       "      <td>62.04</td>\n",
       "      <td>0.17</td>\n",
       "      <td>23</td>\n",
       "      <td>0.96</td>\n",
       "      <td>0.00</td>\n",
       "      <td>1.00</td>\n",
       "      <td>0.00</td>\n",
       "      <td>0.00</td>\n",
       "      <td>1.00</td>\n",
       "      <td>0.00</td>\n",
       "      <td>2023-06-14</td>\n",
       "      <td>rapid</td>\n",
       "      <td>169</td>\n",
       "      <td>86</td>\n",
       "      <td>182.28</td>\n",
       "      <td>179.00</td>\n",
       "      <td>259</td>\n",
       "      <td>256</td>\n",
       "      <td>0</td>\n",
       "      <td>3</td>\n",
       "      <td>0</td>\n",
       "      <td>3</td>\n",
       "      <td>1.42</td>\n",
       "      <td>0.99</td>\n",
       "      <td>0.93</td>\n",
       "      <td>0.47</td>\n",
       "      <td>0.94</td>\n",
       "      <td>0.48</td>\n",
       "      <td>1.02</td>\n",
       "      <td>60.76</td>\n",
       "      <td>schedule_and_vp</td>\n",
       "      <td>12.75</td>\n",
       "      <td>Fashion Valley - La Mesa</td>\n",
       "      <td>1</td>\n",
       "      <td>1 Fashion Valley - La Mesa</td>\n",
       "      <td>1</td>\n",
       "      <td>aHR0cHM6Ly93d3cuc2RtdHMuY29tL2dvb2dsZV90cmFuc2l0X2ZpbGVzL2dvb2dsZV90cmFuc2l0LnppcA==</td>\n",
       "      <td>recZALk4vysuoTVjF</td>\n",
       "      <td>San Diego Metropolitan Transit System</td>\n",
       "      <td>11 - San Diego</td>\n",
       "      <td>Eastbound</td>\n",
       "      <td>San Diego Schedule</td>\n",
       "      <td>recfZ9iWkptccoONX</td>\n",
       "      <td>2023Q2</td>\n",
       "    </tr>\n",
       "  </tbody>\n",
       "</table>\n",
       "</div>"
      ],
      "text/plain": [
       "              schedule_gtfs_dataset_key  direction_id time_period  \\\n",
       "62000  1adf7a7bde86b42ed014f6de74c7132e          0.00        peak   \n",
       "62003  1adf7a7bde86b42ed014f6de74c7132e          0.00        peak   \n",
       "62005  1adf7a7bde86b42ed014f6de74c7132e          0.00        peak   \n",
       "\n",
       "       avg_scheduled_service_minutes  avg_stop_miles  n_scheduled_trips  \\\n",
       "62000                          62.04            0.17                 23   \n",
       "62003                          62.04            0.17                 23   \n",
       "62005                          62.04            0.17                 23   \n",
       "\n",
       "       frequency  is_express  is_rapid  is_rail  is_coverage  \\\n",
       "62000       0.96        0.00      1.00     0.00         0.00   \n",
       "62003       0.96        0.00      1.00     0.00         0.00   \n",
       "62005       0.96        0.00      1.00     0.00         0.00   \n",
       "\n",
       "       is_downtown_local  is_local service_date typology  minutes_atleast1_vp  \\\n",
       "62000               1.00      0.00   2023-04-12    rapid                 1523   \n",
       "62003               1.00      0.00   2023-05-17    rapid                  188   \n",
       "62005               1.00      0.00   2023-06-14    rapid                  169   \n",
       "\n",
       "       minutes_atleast2_vp  total_rt_service_minutes  \\\n",
       "62000                 1104                   1508.65   \n",
       "62003                  107                    191.41   \n",
       "62005                   86                    182.28   \n",
       "\n",
       "       total_scheduled_service_minutes  total_vp  vp_in_shape  is_early  \\\n",
       "62000                          1487.00      2736         2736         0   \n",
       "62003                           195.00       296          296         0   \n",
       "62005                           179.00       259          256         0   \n",
       "\n",
       "       is_ontime  is_late  n_vp_trips  vp_per_minute  pct_in_shape  \\\n",
       "62000         19        4          23           1.81          1.00   \n",
       "62003          3        0           3           1.55          1.00   \n",
       "62005          3        0           3           1.42          0.99   \n",
       "\n",
       "       pct_rt_journey_atleast1_vp  pct_rt_journey_atleast2_vp  \\\n",
       "62000                        1.00                        0.73   \n",
       "62003                        0.98                        0.56   \n",
       "62005                        0.93                        0.47   \n",
       "\n",
       "       pct_sched_journey_atleast1_vp  pct_sched_journey_atleast2_vp  \\\n",
       "62000                           1.00                           0.74   \n",
       "62003                           0.96                           0.55   \n",
       "62005                           0.94                           0.48   \n",
       "\n",
       "       rt_sched_journey_ratio  avg_rt_service_minutes sched_rt_category  \\\n",
       "62000                    1.01                   65.59   schedule_and_vp   \n",
       "62003                    0.98                   63.80   schedule_and_vp   \n",
       "62005                    1.02                   60.76   schedule_and_vp   \n",
       "\n",
       "       speed_mph           route_long_name route_short_name  \\\n",
       "62000      10.75  Fashion Valley - La Mesa                1   \n",
       "62003      10.65  Fashion Valley - La Mesa                1   \n",
       "62005      12.75  Fashion Valley - La Mesa                1   \n",
       "\n",
       "              route_combined_name route_id  \\\n",
       "62000  1 Fashion Valley - La Mesa        1   \n",
       "62003  1 Fashion Valley - La Mesa        1   \n",
       "62005  1 Fashion Valley - La Mesa        1   \n",
       "\n",
       "                                                                                 base64_url  \\\n",
       "62000  aHR0cHM6Ly93d3cuc2RtdHMuY29tL2dvb2dsZV90cmFuc2l0X2ZpbGVzL2dvb2dsZV90cmFuc2l0LnppcA==   \n",
       "62003  aHR0cHM6Ly93d3cuc2RtdHMuY29tL2dvb2dsZV90cmFuc2l0X2ZpbGVzL2dvb2dsZV90cmFuc2l0LnppcA==   \n",
       "62005  aHR0cHM6Ly93d3cuc2RtdHMuY29tL2dvb2dsZV90cmFuc2l0X2ZpbGVzL2dvb2dsZV90cmFuc2l0LnppcA==   \n",
       "\n",
       "      organization_source_record_id                      organization_name  \\\n",
       "62000             recZALk4vysuoTVjF  San Diego Metropolitan Transit System   \n",
       "62003             recZALk4vysuoTVjF  San Diego Metropolitan Transit System   \n",
       "62005             recZALk4vysuoTVjF  San Diego Metropolitan Transit System   \n",
       "\n",
       "      caltrans_district route_primary_direction                name  \\\n",
       "62000    11 - San Diego               Eastbound  San Diego Schedule   \n",
       "62003    11 - San Diego               Eastbound  San Diego Schedule   \n",
       "62005    11 - San Diego               Eastbound  San Diego Schedule   \n",
       "\n",
       "      schedule_source_record_id quarter  \n",
       "62000         recfZ9iWkptccoONX  2023Q2  \n",
       "62003         recfZ9iWkptccoONX  2023Q2  \n",
       "62005         recfZ9iWkptccoONX  2023Q2  "
      ]
     },
     "execution_count": 46,
     "metadata": {},
     "output_type": "execute_result"
    }
   ],
   "source": [
    "one_route_one_qtr"
   ]
  },
  {
   "cell_type": "code",
   "execution_count": 49,
   "id": "adf7e41f-478c-4ab6-b1ad-c2cb2b988807",
   "metadata": {
    "tags": []
   },
   "outputs": [],
   "source": [
    "agg1 = (\n",
    "    one_route_one_qtr.groupby(group_cols)\n",
    "    .agg({c: \"sum\" for c in [\"vp_per_minute\", \"vp_in_shape\"] + [\"n_vp_trips\"]})\n",
    "    .reset_index()\n",
    ")"
   ]
  },
  {
   "cell_type": "code",
   "execution_count": 50,
   "id": "b8960c91-3648-4307-b36a-9deddb40b3d8",
   "metadata": {
    "tags": []
   },
   "outputs": [],
   "source": [
    "for c in [\"vp_per_minute\", \"vp_in_shape\"]:\n",
    "        agg1[c] = agg1[c].divide(agg1[\"n_vp_trips\"]).round(2)"
   ]
  },
  {
   "cell_type": "code",
   "execution_count": 51,
   "id": "f3699161-e5fe-436e-a9cd-fe426476b5fe",
   "metadata": {
    "tags": []
   },
   "outputs": [
    {
     "data": {
      "text/html": [
       "<div>\n",
       "<style scoped>\n",
       "    .dataframe tbody tr th:only-of-type {\n",
       "        vertical-align: middle;\n",
       "    }\n",
       "\n",
       "    .dataframe tbody tr th {\n",
       "        vertical-align: top;\n",
       "    }\n",
       "\n",
       "    .dataframe thead th {\n",
       "        text-align: right;\n",
       "    }\n",
       "</style>\n",
       "<table border=\"1\" class=\"dataframe\">\n",
       "  <thead>\n",
       "    <tr style=\"text-align: right;\">\n",
       "      <th></th>\n",
       "      <th>quarter</th>\n",
       "      <th>schedule_gtfs_dataset_key</th>\n",
       "      <th>route_id</th>\n",
       "      <th>direction_id</th>\n",
       "      <th>time_period</th>\n",
       "      <th>vp_per_minute</th>\n",
       "      <th>vp_in_shape</th>\n",
       "      <th>n_vp_trips</th>\n",
       "    </tr>\n",
       "  </thead>\n",
       "  <tbody>\n",
       "    <tr>\n",
       "      <th>0</th>\n",
       "      <td>2023Q2</td>\n",
       "      <td>1adf7a7bde86b42ed014f6de74c7132e</td>\n",
       "      <td>1</td>\n",
       "      <td>0.00</td>\n",
       "      <td>peak</td>\n",
       "      <td>0.16</td>\n",
       "      <td>113.38</td>\n",
       "      <td>29</td>\n",
       "    </tr>\n",
       "  </tbody>\n",
       "</table>\n",
       "</div>"
      ],
      "text/plain": [
       "  quarter         schedule_gtfs_dataset_key route_id  direction_id  \\\n",
       "0  2023Q2  1adf7a7bde86b42ed014f6de74c7132e        1          0.00   \n",
       "\n",
       "  time_period  vp_per_minute  vp_in_shape  n_vp_trips  \n",
       "0        peak           0.16       113.38          29  "
      ]
     },
     "execution_count": 51,
     "metadata": {},
     "output_type": "execute_result"
    }
   ],
   "source": [
    "agg1"
   ]
  },
  {
   "cell_type": "code",
   "execution_count": 56,
   "id": "84abec71-65fe-4dd5-9937-73f4e527adce",
   "metadata": {
    "tags": []
   },
   "outputs": [
    {
     "name": "stderr",
     "output_type": "stream",
     "text": [
      "/home/jovyan/data-analyses/rt_segment_speeds/segment_speed_utils/segment_calcs.py:263: SettingWithCopyWarning: \n",
      "A value is trying to be set on a copy of a slice from a DataFrame.\n",
      "Try using .loc[row_indexer,col_indexer] = value instead\n",
      "\n",
      "See the caveats in the documentation: https://pandas.pydata.org/pandas-docs/stable/user_guide/indexing.html#returning-a-view-versus-a-copy\n",
      "  df[c] = df[c] * df[weight_col]\n"
     ]
    }
   ],
   "source": [
    "sd_schd_metrics = segment_calcs.calculate_weighted_averages(\n",
    "    df=sd_df,\n",
    "    group_cols=group_cols,\n",
    "    metric_cols=schd_metric_cols,\n",
    "    weight_col= 'n_scheduled_trips',\n",
    ")"
   ]
  },
  {
   "cell_type": "code",
   "execution_count": 57,
   "id": "1249f100-5bc8-488e-89ac-f719d1a22823",
   "metadata": {
    "tags": []
   },
   "outputs": [
    {
     "data": {
      "text/html": [
       "<div>\n",
       "<style scoped>\n",
       "    .dataframe tbody tr th:only-of-type {\n",
       "        vertical-align: middle;\n",
       "    }\n",
       "\n",
       "    .dataframe tbody tr th {\n",
       "        vertical-align: top;\n",
       "    }\n",
       "\n",
       "    .dataframe thead th {\n",
       "        text-align: right;\n",
       "    }\n",
       "</style>\n",
       "<table border=\"1\" class=\"dataframe\">\n",
       "  <thead>\n",
       "    <tr style=\"text-align: right;\">\n",
       "      <th></th>\n",
       "      <th>quarter</th>\n",
       "      <th>schedule_gtfs_dataset_key</th>\n",
       "      <th>route_id</th>\n",
       "      <th>direction_id</th>\n",
       "      <th>time_period</th>\n",
       "      <th>avg_scheduled_service_minutes</th>\n",
       "      <th>avg_stop_miles</th>\n",
       "      <th>n_scheduled_trips</th>\n",
       "      <th>frequency</th>\n",
       "      <th>total_scheduled_service_minutes</th>\n",
       "      <th>pct_sched_journey_atleast1_vp</th>\n",
       "      <th>pct_sched_journey_atleast2_vp</th>\n",
       "      <th>rt_sched_journey_ratio</th>\n",
       "    </tr>\n",
       "  </thead>\n",
       "  <tbody>\n",
       "    <tr>\n",
       "      <th>0</th>\n",
       "      <td>2023Q1</td>\n",
       "      <td>9707f17da050a601ceda7143d58fa9a2</td>\n",
       "      <td>1</td>\n",
       "      <td>0.00</td>\n",
       "      <td>all_day</td>\n",
       "      <td>1.24</td>\n",
       "      <td>0.00</td>\n",
       "      <td>1.00</td>\n",
       "      <td>5200.00</td>\n",
       "      <td>7615000.00</td>\n",
       "      <td>2500.00</td>\n",
       "      <td>1922.50</td>\n",
       "      <td>3775.00</td>\n",
       "    </tr>\n",
       "    <tr>\n",
       "      <th>1</th>\n",
       "      <td>2023Q1</td>\n",
       "      <td>9707f17da050a601ceda7143d58fa9a2</td>\n",
       "      <td>1</td>\n",
       "      <td>0.00</td>\n",
       "      <td>offpeak</td>\n",
       "      <td>2.30</td>\n",
       "      <td>0.01</td>\n",
       "      <td>1.00</td>\n",
       "      <td>816.48</td>\n",
       "      <td>1177335.00</td>\n",
       "      <td>729.00</td>\n",
       "      <td>605.07</td>\n",
       "      <td>1428.84</td>\n",
       "    </tr>\n",
       "    <tr>\n",
       "      <th>2</th>\n",
       "      <td>2023Q1</td>\n",
       "      <td>9707f17da050a601ceda7143d58fa9a2</td>\n",
       "      <td>1</td>\n",
       "      <td>0.00</td>\n",
       "      <td>peak</td>\n",
       "      <td>2.70</td>\n",
       "      <td>0.01</td>\n",
       "      <td>1.00</td>\n",
       "      <td>507.84</td>\n",
       "      <td>756999.00</td>\n",
       "      <td>498.85</td>\n",
       "      <td>370.83</td>\n",
       "      <td>529.00</td>\n",
       "    </tr>\n",
       "  </tbody>\n",
       "</table>\n",
       "</div>"
      ],
      "text/plain": [
       "  quarter         schedule_gtfs_dataset_key route_id  direction_id  \\\n",
       "0  2023Q1  9707f17da050a601ceda7143d58fa9a2        1          0.00   \n",
       "1  2023Q1  9707f17da050a601ceda7143d58fa9a2        1          0.00   \n",
       "2  2023Q1  9707f17da050a601ceda7143d58fa9a2        1          0.00   \n",
       "\n",
       "  time_period  avg_scheduled_service_minutes  avg_stop_miles  \\\n",
       "0     all_day                           1.24            0.00   \n",
       "1     offpeak                           2.30            0.01   \n",
       "2        peak                           2.70            0.01   \n",
       "\n",
       "   n_scheduled_trips  frequency  total_scheduled_service_minutes  \\\n",
       "0               1.00    5200.00                       7615000.00   \n",
       "1               1.00     816.48                       1177335.00   \n",
       "2               1.00     507.84                        756999.00   \n",
       "\n",
       "   pct_sched_journey_atleast1_vp  pct_sched_journey_atleast2_vp  \\\n",
       "0                        2500.00                        1922.50   \n",
       "1                         729.00                         605.07   \n",
       "2                         498.85                         370.83   \n",
       "\n",
       "   rt_sched_journey_ratio  \n",
       "0                 3775.00  \n",
       "1                 1428.84  \n",
       "2                  529.00  "
      ]
     },
     "execution_count": 57,
     "metadata": {},
     "output_type": "execute_result"
    }
   ],
   "source": [
    "sd_schd_metrics.head(3)"
   ]
  },
  {
   "cell_type": "code",
   "execution_count": 58,
   "id": "046aae7a-9985-41bc-a16c-27e629bf00bc",
   "metadata": {
    "tags": []
   },
   "outputs": [
    {
     "data": {
      "text/html": [
       "<div>\n",
       "<style scoped>\n",
       "    .dataframe tbody tr th:only-of-type {\n",
       "        vertical-align: middle;\n",
       "    }\n",
       "\n",
       "    .dataframe tbody tr th {\n",
       "        vertical-align: top;\n",
       "    }\n",
       "\n",
       "    .dataframe thead th {\n",
       "        text-align: right;\n",
       "    }\n",
       "</style>\n",
       "<table border=\"1\" class=\"dataframe\">\n",
       "  <thead>\n",
       "    <tr style=\"text-align: right;\">\n",
       "      <th></th>\n",
       "      <th>schedule_gtfs_dataset_key</th>\n",
       "      <th>direction_id</th>\n",
       "      <th>time_period</th>\n",
       "      <th>avg_scheduled_service_minutes</th>\n",
       "      <th>avg_stop_miles</th>\n",
       "      <th>n_scheduled_trips</th>\n",
       "      <th>frequency</th>\n",
       "      <th>is_express</th>\n",
       "      <th>is_rapid</th>\n",
       "      <th>is_rail</th>\n",
       "      <th>is_coverage</th>\n",
       "      <th>is_downtown_local</th>\n",
       "      <th>is_local</th>\n",
       "      <th>service_date</th>\n",
       "      <th>typology</th>\n",
       "      <th>minutes_atleast1_vp</th>\n",
       "      <th>minutes_atleast2_vp</th>\n",
       "      <th>total_rt_service_minutes</th>\n",
       "      <th>total_scheduled_service_minutes</th>\n",
       "      <th>total_vp</th>\n",
       "      <th>vp_in_shape</th>\n",
       "      <th>is_early</th>\n",
       "      <th>is_ontime</th>\n",
       "      <th>is_late</th>\n",
       "      <th>n_vp_trips</th>\n",
       "      <th>vp_per_minute</th>\n",
       "      <th>pct_in_shape</th>\n",
       "      <th>pct_rt_journey_atleast1_vp</th>\n",
       "      <th>pct_rt_journey_atleast2_vp</th>\n",
       "      <th>pct_sched_journey_atleast1_vp</th>\n",
       "      <th>pct_sched_journey_atleast2_vp</th>\n",
       "      <th>rt_sched_journey_ratio</th>\n",
       "      <th>avg_rt_service_minutes</th>\n",
       "      <th>sched_rt_category</th>\n",
       "      <th>speed_mph</th>\n",
       "      <th>route_long_name</th>\n",
       "      <th>route_short_name</th>\n",
       "      <th>route_combined_name</th>\n",
       "      <th>route_id</th>\n",
       "      <th>base64_url</th>\n",
       "      <th>organization_source_record_id</th>\n",
       "      <th>organization_name</th>\n",
       "      <th>caltrans_district</th>\n",
       "      <th>route_primary_direction</th>\n",
       "      <th>name</th>\n",
       "      <th>schedule_source_record_id</th>\n",
       "      <th>quarter</th>\n",
       "    </tr>\n",
       "  </thead>\n",
       "  <tbody>\n",
       "    <tr>\n",
       "      <th>62000</th>\n",
       "      <td>1adf7a7bde86b42ed014f6de74c7132e</td>\n",
       "      <td>0.00</td>\n",
       "      <td>peak</td>\n",
       "      <td>62.04</td>\n",
       "      <td>0.17</td>\n",
       "      <td>23</td>\n",
       "      <td>0.96</td>\n",
       "      <td>0.00</td>\n",
       "      <td>1.00</td>\n",
       "      <td>0.00</td>\n",
       "      <td>0.00</td>\n",
       "      <td>1.00</td>\n",
       "      <td>0.00</td>\n",
       "      <td>2023-04-12</td>\n",
       "      <td>rapid</td>\n",
       "      <td>1523</td>\n",
       "      <td>1104</td>\n",
       "      <td>1508.65</td>\n",
       "      <td>1487.00</td>\n",
       "      <td>2736</td>\n",
       "      <td>2736</td>\n",
       "      <td>0</td>\n",
       "      <td>19</td>\n",
       "      <td>4</td>\n",
       "      <td>23</td>\n",
       "      <td>1.81</td>\n",
       "      <td>1.00</td>\n",
       "      <td>1.00</td>\n",
       "      <td>0.73</td>\n",
       "      <td>1.00</td>\n",
       "      <td>0.74</td>\n",
       "      <td>1.01</td>\n",
       "      <td>65.59</td>\n",
       "      <td>schedule_and_vp</td>\n",
       "      <td>10.75</td>\n",
       "      <td>Fashion Valley - La Mesa</td>\n",
       "      <td>1</td>\n",
       "      <td>1 Fashion Valley - La Mesa</td>\n",
       "      <td>1</td>\n",
       "      <td>aHR0cHM6Ly93d3cuc2RtdHMuY29tL2dvb2dsZV90cmFuc2l0X2ZpbGVzL2dvb2dsZV90cmFuc2l0LnppcA==</td>\n",
       "      <td>recZALk4vysuoTVjF</td>\n",
       "      <td>San Diego Metropolitan Transit System</td>\n",
       "      <td>11 - San Diego</td>\n",
       "      <td>Eastbound</td>\n",
       "      <td>San Diego Schedule</td>\n",
       "      <td>recfZ9iWkptccoONX</td>\n",
       "      <td>2023Q2</td>\n",
       "    </tr>\n",
       "    <tr>\n",
       "      <th>62003</th>\n",
       "      <td>1adf7a7bde86b42ed014f6de74c7132e</td>\n",
       "      <td>0.00</td>\n",
       "      <td>peak</td>\n",
       "      <td>62.04</td>\n",
       "      <td>0.17</td>\n",
       "      <td>23</td>\n",
       "      <td>0.96</td>\n",
       "      <td>0.00</td>\n",
       "      <td>1.00</td>\n",
       "      <td>0.00</td>\n",
       "      <td>0.00</td>\n",
       "      <td>1.00</td>\n",
       "      <td>0.00</td>\n",
       "      <td>2023-05-17</td>\n",
       "      <td>rapid</td>\n",
       "      <td>188</td>\n",
       "      <td>107</td>\n",
       "      <td>191.41</td>\n",
       "      <td>195.00</td>\n",
       "      <td>296</td>\n",
       "      <td>296</td>\n",
       "      <td>0</td>\n",
       "      <td>3</td>\n",
       "      <td>0</td>\n",
       "      <td>3</td>\n",
       "      <td>1.55</td>\n",
       "      <td>1.00</td>\n",
       "      <td>0.98</td>\n",
       "      <td>0.56</td>\n",
       "      <td>0.96</td>\n",
       "      <td>0.55</td>\n",
       "      <td>0.98</td>\n",
       "      <td>63.80</td>\n",
       "      <td>schedule_and_vp</td>\n",
       "      <td>10.65</td>\n",
       "      <td>Fashion Valley - La Mesa</td>\n",
       "      <td>1</td>\n",
       "      <td>1 Fashion Valley - La Mesa</td>\n",
       "      <td>1</td>\n",
       "      <td>aHR0cHM6Ly93d3cuc2RtdHMuY29tL2dvb2dsZV90cmFuc2l0X2ZpbGVzL2dvb2dsZV90cmFuc2l0LnppcA==</td>\n",
       "      <td>recZALk4vysuoTVjF</td>\n",
       "      <td>San Diego Metropolitan Transit System</td>\n",
       "      <td>11 - San Diego</td>\n",
       "      <td>Eastbound</td>\n",
       "      <td>San Diego Schedule</td>\n",
       "      <td>recfZ9iWkptccoONX</td>\n",
       "      <td>2023Q2</td>\n",
       "    </tr>\n",
       "    <tr>\n",
       "      <th>62005</th>\n",
       "      <td>1adf7a7bde86b42ed014f6de74c7132e</td>\n",
       "      <td>0.00</td>\n",
       "      <td>peak</td>\n",
       "      <td>62.04</td>\n",
       "      <td>0.17</td>\n",
       "      <td>23</td>\n",
       "      <td>0.96</td>\n",
       "      <td>0.00</td>\n",
       "      <td>1.00</td>\n",
       "      <td>0.00</td>\n",
       "      <td>0.00</td>\n",
       "      <td>1.00</td>\n",
       "      <td>0.00</td>\n",
       "      <td>2023-06-14</td>\n",
       "      <td>rapid</td>\n",
       "      <td>169</td>\n",
       "      <td>86</td>\n",
       "      <td>182.28</td>\n",
       "      <td>179.00</td>\n",
       "      <td>259</td>\n",
       "      <td>256</td>\n",
       "      <td>0</td>\n",
       "      <td>3</td>\n",
       "      <td>0</td>\n",
       "      <td>3</td>\n",
       "      <td>1.42</td>\n",
       "      <td>0.99</td>\n",
       "      <td>0.93</td>\n",
       "      <td>0.47</td>\n",
       "      <td>0.94</td>\n",
       "      <td>0.48</td>\n",
       "      <td>1.02</td>\n",
       "      <td>60.76</td>\n",
       "      <td>schedule_and_vp</td>\n",
       "      <td>12.75</td>\n",
       "      <td>Fashion Valley - La Mesa</td>\n",
       "      <td>1</td>\n",
       "      <td>1 Fashion Valley - La Mesa</td>\n",
       "      <td>1</td>\n",
       "      <td>aHR0cHM6Ly93d3cuc2RtdHMuY29tL2dvb2dsZV90cmFuc2l0X2ZpbGVzL2dvb2dsZV90cmFuc2l0LnppcA==</td>\n",
       "      <td>recZALk4vysuoTVjF</td>\n",
       "      <td>San Diego Metropolitan Transit System</td>\n",
       "      <td>11 - San Diego</td>\n",
       "      <td>Eastbound</td>\n",
       "      <td>San Diego Schedule</td>\n",
       "      <td>recfZ9iWkptccoONX</td>\n",
       "      <td>2023Q2</td>\n",
       "    </tr>\n",
       "  </tbody>\n",
       "</table>\n",
       "</div>"
      ],
      "text/plain": [
       "              schedule_gtfs_dataset_key  direction_id time_period  \\\n",
       "62000  1adf7a7bde86b42ed014f6de74c7132e          0.00        peak   \n",
       "62003  1adf7a7bde86b42ed014f6de74c7132e          0.00        peak   \n",
       "62005  1adf7a7bde86b42ed014f6de74c7132e          0.00        peak   \n",
       "\n",
       "       avg_scheduled_service_minutes  avg_stop_miles  n_scheduled_trips  \\\n",
       "62000                          62.04            0.17                 23   \n",
       "62003                          62.04            0.17                 23   \n",
       "62005                          62.04            0.17                 23   \n",
       "\n",
       "       frequency  is_express  is_rapid  is_rail  is_coverage  \\\n",
       "62000       0.96        0.00      1.00     0.00         0.00   \n",
       "62003       0.96        0.00      1.00     0.00         0.00   \n",
       "62005       0.96        0.00      1.00     0.00         0.00   \n",
       "\n",
       "       is_downtown_local  is_local service_date typology  minutes_atleast1_vp  \\\n",
       "62000               1.00      0.00   2023-04-12    rapid                 1523   \n",
       "62003               1.00      0.00   2023-05-17    rapid                  188   \n",
       "62005               1.00      0.00   2023-06-14    rapid                  169   \n",
       "\n",
       "       minutes_atleast2_vp  total_rt_service_minutes  \\\n",
       "62000                 1104                   1508.65   \n",
       "62003                  107                    191.41   \n",
       "62005                   86                    182.28   \n",
       "\n",
       "       total_scheduled_service_minutes  total_vp  vp_in_shape  is_early  \\\n",
       "62000                          1487.00      2736         2736         0   \n",
       "62003                           195.00       296          296         0   \n",
       "62005                           179.00       259          256         0   \n",
       "\n",
       "       is_ontime  is_late  n_vp_trips  vp_per_minute  pct_in_shape  \\\n",
       "62000         19        4          23           1.81          1.00   \n",
       "62003          3        0           3           1.55          1.00   \n",
       "62005          3        0           3           1.42          0.99   \n",
       "\n",
       "       pct_rt_journey_atleast1_vp  pct_rt_journey_atleast2_vp  \\\n",
       "62000                        1.00                        0.73   \n",
       "62003                        0.98                        0.56   \n",
       "62005                        0.93                        0.47   \n",
       "\n",
       "       pct_sched_journey_atleast1_vp  pct_sched_journey_atleast2_vp  \\\n",
       "62000                           1.00                           0.74   \n",
       "62003                           0.96                           0.55   \n",
       "62005                           0.94                           0.48   \n",
       "\n",
       "       rt_sched_journey_ratio  avg_rt_service_minutes sched_rt_category  \\\n",
       "62000                    1.01                   65.59   schedule_and_vp   \n",
       "62003                    0.98                   63.80   schedule_and_vp   \n",
       "62005                    1.02                   60.76   schedule_and_vp   \n",
       "\n",
       "       speed_mph           route_long_name route_short_name  \\\n",
       "62000      10.75  Fashion Valley - La Mesa                1   \n",
       "62003      10.65  Fashion Valley - La Mesa                1   \n",
       "62005      12.75  Fashion Valley - La Mesa                1   \n",
       "\n",
       "              route_combined_name route_id  \\\n",
       "62000  1 Fashion Valley - La Mesa        1   \n",
       "62003  1 Fashion Valley - La Mesa        1   \n",
       "62005  1 Fashion Valley - La Mesa        1   \n",
       "\n",
       "                                                                                 base64_url  \\\n",
       "62000  aHR0cHM6Ly93d3cuc2RtdHMuY29tL2dvb2dsZV90cmFuc2l0X2ZpbGVzL2dvb2dsZV90cmFuc2l0LnppcA==   \n",
       "62003  aHR0cHM6Ly93d3cuc2RtdHMuY29tL2dvb2dsZV90cmFuc2l0X2ZpbGVzL2dvb2dsZV90cmFuc2l0LnppcA==   \n",
       "62005  aHR0cHM6Ly93d3cuc2RtdHMuY29tL2dvb2dsZV90cmFuc2l0X2ZpbGVzL2dvb2dsZV90cmFuc2l0LnppcA==   \n",
       "\n",
       "      organization_source_record_id                      organization_name  \\\n",
       "62000             recZALk4vysuoTVjF  San Diego Metropolitan Transit System   \n",
       "62003             recZALk4vysuoTVjF  San Diego Metropolitan Transit System   \n",
       "62005             recZALk4vysuoTVjF  San Diego Metropolitan Transit System   \n",
       "\n",
       "      caltrans_district route_primary_direction                name  \\\n",
       "62000    11 - San Diego               Eastbound  San Diego Schedule   \n",
       "62003    11 - San Diego               Eastbound  San Diego Schedule   \n",
       "62005    11 - San Diego               Eastbound  San Diego Schedule   \n",
       "\n",
       "      schedule_source_record_id quarter  \n",
       "62000         recfZ9iWkptccoONX  2023Q2  \n",
       "62003         recfZ9iWkptccoONX  2023Q2  \n",
       "62005         recfZ9iWkptccoONX  2023Q2  "
      ]
     },
     "execution_count": 58,
     "metadata": {},
     "output_type": "execute_result"
    }
   ],
   "source": [
    "one_route_one_qtr"
   ]
  },
  {
   "cell_type": "markdown",
   "id": "1cc4d303-99dd-4a94-8f9e-8cf0c1b2dc6b",
   "metadata": {},
   "source": [
    "## All Charts"
   ]
  },
  {
   "cell_type": "code",
   "execution_count": null,
   "id": "df795ec3-f083-4ea0-8683-b57c775eb0f4",
   "metadata": {},
   "outputs": [],
   "source": [
    "# display(section2.filtered_route(df))"
   ]
  },
  {
   "cell_type": "markdown",
   "id": "026bdcfc-92fe-4bc3-9368-81886f635804",
   "metadata": {},
   "source": [
    "## Subset df"
   ]
  },
  {
   "cell_type": "code",
   "execution_count": null,
   "id": "3e22cc57-df60-449a-b296-d2db69a27251",
   "metadata": {
    "tags": []
   },
   "outputs": [],
   "source": [
    "# Filter out to all day\n",
    "all_day = df.loc[df.Period == \"all_day\"].reset_index(drop=True)"
   ]
  },
  {
   "cell_type": "code",
   "execution_count": null,
   "id": "5c9f5d6c-187d-4938-b1b5-bc6161bd24e4",
   "metadata": {
    "tags": []
   },
   "outputs": [],
   "source": [
    "all_day.sample()"
   ]
  },
  {
   "cell_type": "markdown",
   "id": "0872492f-5377-4852-86c7-6a341d9feabb",
   "metadata": {},
   "source": [
    "### The results are really off for `Average VP per Minute`"
   ]
  },
  {
   "cell_type": "code",
   "execution_count": null,
   "id": "efcee1af-e5d2-4f66-9374-dc1154156444",
   "metadata": {
    "tags": []
   },
   "outputs": [],
   "source": [
    "def quarterly_rollup(all_day: pd.DataFrame) -> pd.DataFrame:\n",
    "    \"\"\"\n",
    "    Using the dataframe that houses only all_day values,\n",
    "    roll up months to each quarter for certain metrics.\n",
    "    \"\"\"\n",
    "    # Turn date to quarters\n",
    "    all_day[\"quarter\"] = pd.PeriodIndex(all_day.Date, freq=\"Q\").astype(\"str\")\n",
    "\n",
    "    quarterly_metrics = segment_calcs.calculate_weighted_averages(\n",
    "        df=all_day,\n",
    "        group_cols=[\n",
    "            \"quarter\",\n",
    "            \"Organization\",\n",
    "            \"Route\",\n",
    "            \"dir_0_1\",\n",
    "            \"Direction\",\n",
    "        ],\n",
    "        metric_cols=[\n",
    "            \"Average VP per Minute\",\n",
    "            \"% VP within Scheduled Shape\",\n",
    "            \"Average Scheduled Service (trip minutes)\",\n",
    "            \"ruler_100_pct\",\n",
    "            \"ruler_for_vp_per_min\",\n",
    "        ],\n",
    "        weight_col=\"# Trips with VP\",\n",
    "    )\n",
    "    return quarterly_metrics"
   ]
  },
  {
   "cell_type": "code",
   "execution_count": null,
   "id": "1ff25f20-eb83-472c-a9a7-2cead4b3da29",
   "metadata": {
    "tags": []
   },
   "outputs": [],
   "source": [
    "all_metrics_test = quarterly_rollup(all_day)"
   ]
  },
  {
   "cell_type": "markdown",
   "id": "0c274913-5f44-4d37-bafe-fde26ed19031",
   "metadata": {},
   "source": [
    "## Test charts"
   ]
  },
  {
   "cell_type": "code",
   "execution_count": null,
   "id": "15e833e8-88bd-498d-b703-61033ab12c1e",
   "metadata": {
    "tags": []
   },
   "outputs": [],
   "source": [
    "import yaml\n",
    "\n",
    "with open(\"readable.yml\") as f:\n",
    "    readable_dict = yaml.safe_load(f)"
   ]
  },
  {
   "cell_type": "code",
   "execution_count": null,
   "id": "9bbe7af5-1abc-4093-b979-3f3fa0bfe6c1",
   "metadata": {
    "tags": []
   },
   "outputs": [],
   "source": [
    "# Color Palette\n",
    "with open(\"color_palettes.yml\") as f:\n",
    "    color_dict = yaml.safe_load(f)"
   ]
  },
  {
   "cell_type": "code",
   "execution_count": null,
   "id": "7a92b658-2c2f-4e0b-8710-cf9fdc3b022d",
   "metadata": {
    "tags": []
   },
   "outputs": [],
   "source": [
    "all_metrics_test.sample(3)"
   ]
  },
  {
   "cell_type": "code",
   "execution_count": null,
   "id": "79f956f9-8eb5-4b52-a69a-813b3fa5f3e2",
   "metadata": {
    "tags": []
   },
   "outputs": [],
   "source": [
    "all_metrics_test.info()"
   ]
  },
  {
   "cell_type": "code",
   "execution_count": null,
   "id": "a6bd4fd1-154e-4334-b7e4-85f5800c5ae2",
   "metadata": {
    "tags": []
   },
   "outputs": [],
   "source": [
    "# Charts\n",
    "import altair as alt\n",
    "\n",
    "alt.data_transformers.enable(\"default\", max_rows=None)"
   ]
  },
  {
   "cell_type": "code",
   "execution_count": null,
   "id": "efd34122-d546-4faf-9cbd-f0acd9e104ad",
   "metadata": {
    "tags": []
   },
   "outputs": [],
   "source": [
    "def grouped_bar_chart(\n",
    "    df: pd.DataFrame,\n",
    "    color_col: str,\n",
    "    y_col: str,\n",
    "    offset_col: str,\n",
    "    title: str,\n",
    "    subtitle: str,\n",
    "    range_color: list,\n",
    "    quarter: bool = False,\n",
    ") -> alt.Chart:\n",
    "\n",
    "    tooltip_cols = [\n",
    "        \"Route\",\n",
    "        \"Direction\",\n",
    "        color_col,\n",
    "        y_col,\n",
    "    ]\n",
    "\n",
    "    if quarter == False:\n",
    "        # Clean dataframe\n",
    "        tooltip_cols.append(\"Period\")\n",
    "        tooltip_cols.append(\"Date\")\n",
    "        df = clean_data_charts(df, y_col)\n",
    "\n",
    "        chart = (\n",
    "            alt.Chart(df)\n",
    "            .mark_bar(size=5)\n",
    "            .encode(\n",
    "                x=alt.X(\n",
    "                    \"yearmonthdate(Date):O\",\n",
    "                    title=[\"Date\"],\n",
    "                    axis=alt.Axis(labelAngle=-45, format=\"%b %Y\"),\n",
    "                ),\n",
    "                y=alt.Y(f\"{y_col}:Q\", title=_report_utils.labeling(y_col)),\n",
    "                xOffset=alt.X(\n",
    "                    f\"{offset_col}:N\", title=_report_utils.labeling(offset_col)\n",
    "                ),\n",
    "                color=alt.Color(\n",
    "                    f\"{color_col}:N\",\n",
    "                    title=_report_utils.labeling(color_col),\n",
    "                    scale=alt.Scale(range=range_color),\n",
    "                ),\n",
    "                tooltip=tooltip_cols,\n",
    "            )\n",
    "        )\n",
    "    else:\n",
    "        tooltip_cols.append(\"quarter\")\n",
    "        chart = (\n",
    "            alt.Chart(df)\n",
    "            .mark_bar(size=5)\n",
    "            .encode(\n",
    "                x=alt.X(\n",
    "                    \"quarter\",\n",
    "                    title=[\"Quarter\"],\n",
    "                    axis=alt.Axis(labelAngle=-45),\n",
    "                ),\n",
    "                y=alt.Y(f\"{y_col}:Q\", title=_report_utils.labeling(y_col)),\n",
    "                xOffset=alt.X(\n",
    "                    f\"{offset_col}:N\", title=_report_utils.labeling(offset_col)\n",
    "                ),\n",
    "                color=alt.Color(\n",
    "                    f\"{color_col}:N\",\n",
    "                    title=_report_utils.labeling(color_col),\n",
    "                    scale=alt.Scale(range=range_color),\n",
    "                ),\n",
    "                tooltip=tooltip_cols,\n",
    "            )\n",
    "        )\n",
    "\n",
    "    chart = (chart).properties(\n",
    "        title={\n",
    "            \"text\": title,\n",
    "            \"subtitle\": [subtitle],\n",
    "        },\n",
    "        width=400,\n",
    "        height=250,\n",
    "    )\n",
    "\n",
    "    return chart"
   ]
  },
  {
   "cell_type": "code",
   "execution_count": null,
   "id": "c0c230b3-d680-4b70-8bc7-baae527443a7",
   "metadata": {
    "tags": []
   },
   "outputs": [],
   "source": [
    "all_metrics_test.columns"
   ]
  },
  {
   "cell_type": "code",
   "execution_count": null,
   "id": "ecdd25bc-f62f-4b50-b285-b98aae2dc10a",
   "metadata": {
    "tags": []
   },
   "outputs": [],
   "source": [
    "# Create dropdown\n",
    "routes_list = all_metrics_test[\"Route\"].unique().tolist()\n",
    "\n",
    "route_dropdown = alt.binding_select(\n",
    "    options=routes_list,\n",
    "    name=\"Routes: \",\n",
    ")\n",
    "# Column that controls the bar charts\n",
    "xcol_param = alt.selection_point(\n",
    "    fields=[\"Route\"], value=routes_list[0], bind=route_dropdown\n",
    ")"
   ]
  },
  {
   "cell_type": "markdown",
   "id": "e78e8b1e-33b6-4eb6-9baa-8477c7245a99",
   "metadata": {},
   "source": [
    "### Average Scheduled Service (trip minutes)"
   ]
  },
  {
   "cell_type": "code",
   "execution_count": null,
   "id": "3f0ad460-9e56-4f78-8e8e-19cdc3ced697",
   "metadata": {
    "tags": []
   },
   "outputs": [],
   "source": [
    "(\n",
    "    grouped_bar_chart(\n",
    "        df=all_metrics_test,\n",
    "        color_col=\"Direction\",\n",
    "        y_col=\"Average Scheduled Service (trip minutes)\",\n",
    "        offset_col=\"Direction\",\n",
    "        title=readable_dict[\"avg_scheduled_min_graph\"][\"title\"],\n",
    "        subtitle=readable_dict[\"avg_scheduled_min_graph\"][\"subtitle\"],\n",
    "        range_color=color_dict[\"four_colors\"],\n",
    "        quarter=True,\n",
    "    )\n",
    ").add_params(xcol_param).transform_filter(xcol_param)"
   ]
  },
  {
   "cell_type": "markdown",
   "id": "9e80e1fe-b1d7-415f-bf11-ed4507e22346",
   "metadata": {},
   "source": [
    "### % VP within Scheduled Shape"
   ]
  },
  {
   "cell_type": "code",
   "execution_count": null,
   "id": "f4685418-d4ac-4d5b-8192-928d618af8cf",
   "metadata": {
    "tags": []
   },
   "outputs": [],
   "source": [
    "def base_facet_with_ruler_chart(\n",
    "    df: pd.DataFrame,\n",
    "    y_col: str,\n",
    "    ruler_col: str,\n",
    "    title: str,\n",
    "    subtitle: str,\n",
    "    domain_color: list,\n",
    "    range_color: list,\n",
    "    quarter: bool = False,\n",
    ") -> alt.Chart:\n",
    "\n",
    "    tooltip_cols = [\n",
    "        \"Route\",\n",
    "        \"Direction\",\n",
    "        y_col,\n",
    "    ]\n",
    "\n",
    "    # Set y-axis\n",
    "    max_y = section2.set_y_axis(df, y_col)\n",
    "\n",
    "    # Clean dataframe\n",
    "    df = section2.clean_data_charts(df, y_col)\n",
    "\n",
    "    # Create color scale\n",
    "    color_scale = alt.Scale(domain=domain_color, range=range_color)\n",
    "\n",
    "    # Create ruler\n",
    "    ruler = (\n",
    "        alt.Chart(df)\n",
    "        .mark_rule(color=\"red\", strokeDash=[10, 7])\n",
    "        .encode(y=f\"mean({ruler_col}):Q\")\n",
    "    )\n",
    "    if quarter == False:\n",
    "        tooltip_cols.append(\"Period\")\n",
    "        tooltip_cols.append(\"Date\")\n",
    "        chart = (\n",
    "            alt.Chart(df)\n",
    "            .mark_bar(size=7, clip=True)\n",
    "            .encode(\n",
    "                x=alt.X(\n",
    "                    \"yearmonthdate(Date):O\",\n",
    "                    title=[x_col],\n",
    "                    axis=alt.Axis(labelAngle=-45, format=\"%b %Y\"),\n",
    "                ),\n",
    "                y=alt.Y(\n",
    "                    f\"{y_col}:Q\",\n",
    "                    title=_report_utils.labeling(y_col),\n",
    "                    scale=alt.Scale(domain=[0, max_y]),\n",
    "                ),\n",
    "                color=alt.Color(\n",
    "                    f\"{y_col}:Q\",\n",
    "                    title=_report_utils.labeling(y_col),\n",
    "                    scale=color_scale,\n",
    "                ),\n",
    "                tooltip=df[tooltip_cols].columns.tolist(),\n",
    "            )\n",
    "        )\n",
    "    else:\n",
    "        tooltip_cols.append(\"quarter\")\n",
    "        chart = (\n",
    "            alt.Chart(df)\n",
    "            .mark_bar(size=7, clip=True)\n",
    "            .encode(\n",
    "                x=alt.X(\n",
    "                    \"quarter\",\n",
    "                    title=\"Quarter\",\n",
    "                    axis=alt.Axis(labelAngle=-45),\n",
    "                ),\n",
    "                y=alt.Y(\n",
    "                    f\"{y_col}:Q\",\n",
    "                    title=_report_utils.labeling(y_col),\n",
    "                    scale=alt.Scale(domain=[0, max_y]),\n",
    "                ),\n",
    "                color=alt.Color(\n",
    "                    f\"{y_col}:Q\",\n",
    "                    title=_report_utils.labeling(y_col),\n",
    "                    scale=color_scale,\n",
    "                ),\n",
    "                tooltip=df[tooltip_cols].columns.tolist(),\n",
    "            )\n",
    "        )\n",
    "    # All charts\n",
    "    chart = (chart + ruler).properties(width=200, height=250)\n",
    "    chart = chart.facet(\n",
    "        column=alt.Column(\n",
    "            \"Direction:N\",\n",
    "        )\n",
    "    ).properties(\n",
    "        title={\n",
    "            \"text\": title,\n",
    "            \"subtitle\": [subtitle],\n",
    "        }\n",
    "    )\n",
    "\n",
    "    return chart"
   ]
  },
  {
   "cell_type": "code",
   "execution_count": null,
   "id": "1be9049a-2d1f-44ee-8529-c02ec0435a10",
   "metadata": {
    "tags": []
   },
   "outputs": [],
   "source": [
    "color_dict[\"spatial_accuracy_range\"]"
   ]
  },
  {
   "cell_type": "code",
   "execution_count": null,
   "id": "b203174a-45db-4d3a-af59-df6a9f2801ed",
   "metadata": {
    "tags": []
   },
   "outputs": [],
   "source": [
    "base_facet_with_ruler_chart(\n",
    "    df=all_metrics_test,\n",
    "    y_col=\"% VP within Scheduled Shape\",\n",
    "    ruler_col=\"ruler_100_pct\",\n",
    "    title=readable_dict[\"spatial_accuracy_graph\"][\"title\"],\n",
    "    subtitle=readable_dict[\"spatial_accuracy_graph\"][\"subtitle\"],\n",
    "    domain_color=color_dict[\"spatial_accuracy_domain\"],\n",
    "    range_color=color_dict[\"spatial_accuracy_range\"],\n",
    "    quarter=True,\n",
    ").add_params(xcol_param).transform_filter(xcol_param)"
   ]
  },
  {
   "cell_type": "markdown",
   "id": "3f50e7df-82e9-40e9-be03-4cc552160593",
   "metadata": {},
   "source": [
    "### Average VP per Minute"
   ]
  },
  {
   "cell_type": "code",
   "execution_count": null,
   "id": "2f51b651-20c3-4bf1-a5c9-c34f38306c53",
   "metadata": {
    "tags": []
   },
   "outputs": [],
   "source": [
    "(\n",
    "    (\n",
    "        base_facet_with_ruler_chart(\n",
    "            all_metrics_test,\n",
    "            \"Average VP per Minute\",\n",
    "            \"ruler_for_vp_per_min\",\n",
    "            readable_dict[\"vp_per_min_graph\"][\"title\"],\n",
    "            readable_dict[\"vp_per_min_graph\"][\"subtitle\"],\n",
    "            color_dict[\"vp_domain\"],\n",
    "            color_dict[\"vp_range\"],\n",
    "            quarter=True,\n",
    "        )\n",
    "    )\n",
    "    .add_params(xcol_param)\n",
    "    .transform_filter(xcol_param)\n",
    ")"
   ]
  },
  {
   "cell_type": "code",
   "execution_count": null,
   "id": "0c79c60f-331f-4638-8a29-6d136d0aa485",
   "metadata": {
    "tags": []
   },
   "outputs": [],
   "source": [
    "all_metrics_test.loc[\n",
    "    (all_metrics_test.Organization == \"San Diego Metropolitan Transit System\")\n",
    "    & (all_metrics_test[\"Route\"] == \"1 Fashion Valley - La Mesa\")\n",
    "    & (all_metrics_test.quarter == \"2023Q3\")\n",
    "]"
   ]
  },
  {
   "cell_type": "markdown",
   "id": "e4870752-c852-42e6-9d55-2d6c8cbe90f4",
   "metadata": {},
   "source": [
    "### % of Scheduled Trip Journey chart is messed up due to the rulers"
   ]
  },
  {
   "cell_type": "code",
   "execution_count": null,
   "id": "38756375-fc59-4e9d-b066-2299fd1bf57a",
   "metadata": {
    "tags": []
   },
   "outputs": [],
   "source": [
    "df.head(1)"
   ]
  },
  {
   "cell_type": "code",
   "execution_count": null,
   "id": "d44e38f1-066a-461d-977f-899717a05b8b",
   "metadata": {
    "tags": []
   },
   "outputs": [],
   "source": [
    "sched_journey_vp = section2.pct_vp_journey(\n",
    "    all_day,\n",
    "    \"% Scheduled Trip w/ 1+ VP/Minute\",\n",
    "    \"% Scheduled Trip w/ 2+ VP/Minute\",\n",
    ")"
   ]
  },
  {
   "cell_type": "code",
   "execution_count": null,
   "id": "310cb7e2-1aee-47fe-a41e-b4d11556c055",
   "metadata": {
    "tags": []
   },
   "outputs": [],
   "source": [
    "sched_journey_vp.shape"
   ]
  },
  {
   "cell_type": "code",
   "execution_count": null,
   "id": "1f67801b-d88a-429b-bdb4-58777f6b3fa3",
   "metadata": {
    "tags": []
   },
   "outputs": [],
   "source": [
    "sched_journey_vp.ruler_100_pct.describe()"
   ]
  },
  {
   "cell_type": "code",
   "execution_count": null,
   "id": "588ce24d-3c48-43f6-bb82-9ed2ed101a63",
   "metadata": {
    "tags": []
   },
   "outputs": [],
   "source": [
    "sched_journey_vp.head(1)"
   ]
  },
  {
   "cell_type": "code",
   "execution_count": null,
   "id": "2205ec00-0a35-43ad-855c-2a20aaadb294",
   "metadata": {},
   "outputs": [],
   "source": [
    "(\n",
    "    section2.base_facet_circle(\n",
    "        sched_journey_vp,\n",
    "        \"% of Actual Trip Minutes\",\n",
    "        \"Category\",\n",
    "        \"ruler_100_pct\",\n",
    "        readable_dict[\"sched_vp_per_min_graph\"][\"title\"],\n",
    "        readable_dict[\"sched_vp_per_min_graph\"][\"subtitle\"],\n",
    "        color_dict[\"tri_color\"],\n",
    "    )\n",
    "    .add_params(xcol_param)\n",
    "    .transform_filter(xcol_param)\n",
    ")"
   ]
  },
  {
   "cell_type": "markdown",
   "id": "938e498e-f783-475d-ae5d-436de44a2484",
   "metadata": {},
   "source": [
    "### Change Total Scheduled Trips -> the graph is cutting off in a strange fashion."
   ]
  },
  {
   "cell_type": "code",
   "execution_count": null,
   "id": "50dc4272-2430-4f20-975c-c9ded24dfca3",
   "metadata": {
    "tags": []
   },
   "outputs": [],
   "source": [
    "peak_offpeak_df = df.loc[df[\"Period\"] != \"all_day\"].reset_index(drop=True)"
   ]
  },
  {
   "cell_type": "code",
   "execution_count": null,
   "id": "fe03646e-0251-479f-b926-9affdc4e9b14",
   "metadata": {
    "tags": []
   },
   "outputs": [],
   "source": [
    "def rollup_schd_qtr(peak_offpeak_df: pd.DataFrame) -> pd.DataFrame:\n",
    "    \"\"\"\n",
    "    Roll up # Scheduled Trips to be on a quarterly basis\n",
    "    since this metric doesn't change very often.\n",
    "    \"\"\"\n",
    "    # Aggregate\n",
    "    agg1 = (\n",
    "        peak_offpeak_df.groupby(\n",
    "            [\"quarter\", \"Period\", \"Organization\", \"Route\", \"dir_0_1\", \"Direction\"]\n",
    "        )\n",
    "        .agg({\"Date\": \"nunique\", \"# scheduled trips\": \"sum\"})\n",
    "        .reset_index()\n",
    "    )\n",
    "\n",
    "    # If a quarter is complete with all 3 months, divide by 3\n",
    "    agg1.loc[agg1[\"Date\"] == 3, \"# scheduled trips\"] = (\n",
    "        agg1.loc[agg1[\"Date\"] == 3, \"# scheduled trips\"] / 3\n",
    "    )\n",
    "\n",
    "    # If a quarter is incomplete with only 2 months, divide by 2\n",
    "    agg1.loc[agg1[\"Date\"] == 2, \"# scheduled trips\"] = (\n",
    "        agg1.loc[agg1[\"Date\"] == 2, \"# scheduled trips\"] / 2\n",
    "    )\n",
    "    return agg1"
   ]
  },
  {
   "cell_type": "code",
   "execution_count": null,
   "id": "154fcb54-427b-49ee-96cb-a414dc1fee67",
   "metadata": {
    "tags": []
   },
   "outputs": [],
   "source": [
    "total_scheduled_trips = rollup_schd_qtr(peak_offpeak_df)"
   ]
  },
  {
   "cell_type": "code",
   "execution_count": null,
   "id": "55205912-a372-40be-8450-115770f83fd6",
   "metadata": {
    "tags": []
   },
   "outputs": [],
   "source": [
    "(\n",
    "    section2.grouped_bar_chart(\n",
    "        total_scheduled_trips.loc[(total_scheduled_trips.dir_0_1 == 0)],\n",
    "        color_col=\"Period\",\n",
    "        y_col=\"# scheduled trips\",\n",
    "        offset_col=\"Period\",\n",
    "        title=readable_dict[\"trips_per_day_graph\"][\"title\"],\n",
    "        subtitle=\"\",\n",
    "        range_color=color_dict[\"spatial_accuracy_range\"],\n",
    "        quarter=True,\n",
    "    )\n",
    "    .add_params(xcol_param)\n",
    "    .transform_filter(xcol_param)\n",
    ")"
   ]
  },
  {
   "cell_type": "code",
   "execution_count": null,
   "id": "2b584248-6ef7-49e8-8fc8-c4227656d654",
   "metadata": {
    "tags": []
   },
   "outputs": [],
   "source": [
    "total_scheduled_trips.head(1)"
   ]
  },
  {
   "cell_type": "code",
   "execution_count": null,
   "id": "4e01e5be-2dc7-4563-bcd6-9da2c1c45def",
   "metadata": {
    "tags": []
   },
   "outputs": [],
   "source": [
    "def stacked_bar_chart(\n",
    "    df: pd.DataFrame,\n",
    "    y_col: str,\n",
    "    color_col: str,\n",
    "    title: str,\n",
    "    subtitle: str,\n",
    "    range_color: list,\n",
    "    quarter: bool = False,\n",
    ") -> alt.Chart:\n",
    "    tooltip_cols = [\n",
    "        \"Route\",\n",
    "        \"Direction\",\n",
    "        y_col,\n",
    "    ]\n",
    "\n",
    "    # Set y-axis\n",
    "    max_y = section2.set_y_axis(df, y_col)\n",
    "\n",
    "    # Clean dataframe\n",
    "    df = section2.clean_data_charts(df, y_col)\n",
    "\n",
    "    if quarter == False:\n",
    "        tooltip_cols.append(\"Period\")\n",
    "        tooltip_cols.append(\"Date\")\n",
    "        chart = (\n",
    "            alt.Chart(df)\n",
    "            .mark_bar(size=7, clip=True)\n",
    "            .encode(\n",
    "                x=alt.X(\n",
    "                    \"yearmonthdate(Date):O\",\n",
    "                    title=[\"Date\"],\n",
    "                    axis=alt.Axis(labelAngle=-45, format=\"%b %Y\"),\n",
    "                ),\n",
    "                y=alt.Y(\n",
    "                    f\"{y_col}:Q\",\n",
    "                    title=_report_utils.labeling(y_col),\n",
    "                    scale=alt.Scale(domain=[0, max_y]),\n",
    "                ),\n",
    "                color=alt.Color(\n",
    "                    f\"{color_col}:N\",\n",
    "                    title=_report_utils.labeling(color_col),\n",
    "                    scale=alt.Scale(range=color_dict[\"four_colors\"]),\n",
    "                ),\n",
    "                tooltip=tooltip_cols,\n",
    "            )\n",
    "        )\n",
    "\n",
    "    else:\n",
    "        tooltip_cols.append(\"quarter\")\n",
    "        chart = (\n",
    "            alt.Chart(df)\n",
    "            .mark_bar(size=7, clip=True)\n",
    "            .encode(\n",
    "                x=alt.X(\n",
    "                    \"quarter\",\n",
    "                    title=[\"Quarter\"],\n",
    "                    axis=alt.Axis(labelAngle=-45),\n",
    "                ),\n",
    "                y=alt.Y(\n",
    "                    f\"{y_col}:Q\",\n",
    "                    title=_report_utils.labeling(y_col),\n",
    "                    scale=alt.Scale(domain=[0, max_y]),\n",
    "                ),\n",
    "                color=alt.Color(\n",
    "                    f\"{color_col}:N\",\n",
    "                    title=_report_utils.labeling(color_col),\n",
    "                    scale=alt.Scale(range=color_dict[\"four_colors\"]),\n",
    "                ),\n",
    "                tooltip=tooltip_cols,\n",
    "            )\n",
    "        )\n",
    "\n",
    "    chart = chart.properties(width=200, height=250)\n",
    "\n",
    "    # Facet the chart\n",
    "    chart = chart.properties(\n",
    "        title={\n",
    "            \"text\": title,\n",
    "            \"subtitle\": subtitle,\n",
    "        }\n",
    "    )\n",
    "\n",
    "    return chart"
   ]
  },
  {
   "cell_type": "code",
   "execution_count": null,
   "id": "84912893-5ea6-419a-9565-dd54f6860f1d",
   "metadata": {
    "tags": []
   },
   "outputs": [],
   "source": [
    "stacked_bar_chart(\n",
    "    df=total_scheduled_trips.loc[total_scheduled_trips.dir_0_1 == 0],\n",
    "    y_col=\"# scheduled trips\",\n",
    "    color_col=\"Period\",\n",
    "    title=\"\",\n",
    "    subtitle=\"\",\n",
    "    range_color=color_dict[\"four_colors\"],\n",
    "    quarter=True,\n",
    ").add_params(xcol_param).transform_filter(xcol_param)"
   ]
  },
  {
   "cell_type": "code",
   "execution_count": null,
   "id": "22725c27-72d6-497d-abe9-8194ff06c91e",
   "metadata": {
    "tags": []
   },
   "outputs": [],
   "source": [
    "(\n",
    "    alt.Chart(total_scheduled_trips.loc[total_scheduled_trips.dir_0_1 == 0])\n",
    "    .mark_bar(size=7, clip=True)\n",
    "    .encode(\n",
    "        x=alt.X(\n",
    "            \"quarter\",\n",
    "            title=[\"quarter\"],\n",
    "            axis=alt.Axis(labelAngle=-45),\n",
    "        ),\n",
    "        y=alt.Y(\n",
    "            \"# scheduled trips:Q\",\n",
    "            title=_report_utils.labeling(\n",
    "                \"# scheduled trips\",\n",
    "            ),\n",
    "            scale=alt.Scale(domain=[0, 100]),\n",
    "        ),\n",
    "        color=alt.Color(\n",
    "            \"Period:N\",\n",
    "            title=_report_utils.labeling(\"Period\"),\n",
    "            scale=alt.Scale(range=color_dict[\"four_colors\"]),\n",
    "        ),\n",
    "        tooltip=list(total_scheduled_trips.columns),\n",
    "    )\n",
    ").add_params(xcol_param).transform_filter(xcol_param)"
   ]
  },
  {
   "cell_type": "code",
   "execution_count": null,
   "id": "f2bedc09-3b55-4233-a230-aaac72242680",
   "metadata": {
    "tags": []
   },
   "outputs": [],
   "source": [
    "(\n",
    "    (\n",
    "        section2.base_facet_chart(\n",
    "            df=total_scheduled_trips,\n",
    "            direction_to_filter=0,\n",
    "            y_col=\"# scheduled trips\",\n",
    "            color_col=\"Period\",\n",
    "            facet_col=\"Period\",\n",
    "            title=readable_dict[\"trips_per_day_graph\"][\"title\"],\n",
    "            subtitle=\"\",\n",
    "            range_color=color_dict[\"four_colors\"],\n",
    "        )\n",
    "    )\n",
    "    .add_params(xcol_param)\n",
    "    .transform_filter(xcol_param)\n",
    ")"
   ]
  },
  {
   "cell_type": "code",
   "execution_count": null,
   "id": "2eaa144f-c137-471a-9a14-9014cc4f8e74",
   "metadata": {
    "tags": []
   },
   "outputs": [],
   "source": [
    "# Peak East bound\n",
    "23 + 23 + 23"
   ]
  },
  {
   "cell_type": "markdown",
   "id": "54232273-0402-4aca-a578-9f9340d98110",
   "metadata": {},
   "source": [
    "## Turn off group keys for the `segment_calcs.calculate_weighted_averages` function\n",
    "* This didn't work at all. "
   ]
  },
  {
   "cell_type": "code",
   "execution_count": null,
   "id": "1ea157b9-d24a-4dbd-8223-5b6a36b30ede",
   "metadata": {
    "tags": []
   },
   "outputs": [],
   "source": [
    "def calculate_weighted_averages(\n",
    "    df: pd.DataFrame, group_cols: list, metric_cols: list, weight_col: str\n",
    "):\n",
    "    \"\"\"\n",
    "    For certain aggregations, we need to calculate a weighted average,\n",
    "    weighted by the number of trips.\n",
    "\n",
    "    If we want peak/offpeak weighted calculations,\n",
    "    we can take time-of-day (AM peak, PM peak) and\n",
    "    get a peak speed calculation, after weighting by the number\n",
    "    of trips present in each time-of-day bin.\n",
    "\n",
    "    Ex: metric_cols = ['p20_mph', 'p50_mph', 'p80_mph']\n",
    "    weight_cols = 'n_trips'\n",
    "\n",
    "    \"\"\"\n",
    "    for c in metric_cols:\n",
    "        df[c] = df[c] * df[weight_col]\n",
    "\n",
    "    df2 = (\n",
    "        df.groupby(group_cols)\n",
    "        .agg({c: \"sum\" for c in metric_cols + [weight_col]})\n",
    "        .reset_index()\n",
    "    )\n",
    "\n",
    "    for c in metric_cols:\n",
    "        df2[c] = df2[c].divide(df2[weight_col]).round(2)\n",
    "\n",
    "    return df2"
   ]
  },
  {
   "cell_type": "code",
   "execution_count": null,
   "id": "056bbb9a-1939-43b5-856c-56e535497d90",
   "metadata": {
    "tags": []
   },
   "outputs": [],
   "source": [
    "all_metrics_test2 = calculate_weighted_averages(\n",
    "    df=all_day,\n",
    "    group_cols=[\n",
    "        \"quarter\",\n",
    "        \"Organization\",\n",
    "        \"schedule_gtfs_dataset_key\",\n",
    "        \"Route ID\",\n",
    "        \"dir_0_1\",\n",
    "        \"Direction\",\n",
    "    ],\n",
    "    metric_cols=[\n",
    "        \"Average VP per Minute\",\n",
    "        \"% VP within Scheduled Shape\",\n",
    "        \"Average Scheduled Service (trip minutes)\",\n",
    "    ],\n",
    "    weight_col=\"# Trips with VP\",\n",
    ")"
   ]
  },
  {
   "cell_type": "code",
   "execution_count": null,
   "id": "16985d31-d915-4075-97dd-cd14b20652ed",
   "metadata": {
    "tags": []
   },
   "outputs": [],
   "source": [
    "all_metrics_test2.loc[\n",
    "    (all_metrics_test2.Organization == \"San Diego Metropolitan Transit System\")\n",
    "    & (all_metrics_test2[\"Route ID\"] == \"1\")\n",
    "    & (all_metrics_test2.quarter == \"2023Q2\")\n",
    "    & (all_metrics_test2.Direction == \"Eastbound\")\n",
    "]"
   ]
  },
  {
   "cell_type": "code",
   "execution_count": null,
   "id": "6b50262f-2ea4-46d3-b6e1-9ebffd8c5a48",
   "metadata": {},
   "outputs": [],
   "source": []
  }
 ],
 "metadata": {
  "kernelspec": {
   "display_name": "Python 3 (ipykernel)",
   "language": "python",
   "name": "python3"
  },
  "language_info": {
   "codemirror_mode": {
    "name": "ipython",
    "version": 3
   },
   "file_extension": ".py",
   "mimetype": "text/x-python",
   "name": "python",
   "nbconvert_exporter": "python",
   "pygments_lexer": "ipython3",
   "version": "3.11.10"
  }
 },
 "nbformat": 4,
 "nbformat_minor": 5
}
