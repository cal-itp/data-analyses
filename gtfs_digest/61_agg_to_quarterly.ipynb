{
 "cells": [
  {
   "cell_type": "markdown",
   "id": "6d46b7ac-597b-4d68-857e-f61d8e9b6f71",
   "metadata": {},
   "source": [
    "# For certain metrics, aggregate them to quarterly in `merge_data`\n",
    "\n",
    "* Tiffany's Teams message: \n",
    " > you can do it within merge_data for now, it'll be the quickest way to get your quarterly averages. \n",
    "merge_data is simply concatenating schedule, summary speeds, rt vs schedule by route-direction-peak/offpeak-single day together. You can take that and aggregate several days into quarterly.\n",
    "Here's the script for average_segment_speeds that mocks up aggregating across single days / using weighted averages, and you'll see how some of the functions are put together, specifically tagging the quarter-year / weekday or weekend / weighted averages (using n_trips) to weight the metric column. https://github.com/cal-itp/data-analyses/blob/main/rt_segment_speeds/scripts/average_segment_speeds.py\n",
    "* Metrics to Roll Up\n",
    "    * Avg scheduled minute\n",
    "    * VP per minute\n",
    "    * Spatial Accuracy"
   ]
  },
  {
   "cell_type": "code",
   "execution_count": 1,
   "id": "21a2b2c5-7e69-4608-9238-ff3e0205f693",
   "metadata": {
    "tags": []
   },
   "outputs": [],
   "source": [
    "import _report_operator_section1_utils as section1\n",
    "import _report_operator_section2_utils as section2\n",
    "import _report_utils\n",
    "import geopandas as gpd\n",
    "import merge_data\n",
    "import numpy as np\n",
    "import pandas as pd\n",
    "from segment_speed_utils import gtfs_schedule_wrangling, helpers, metrics, segment_calcs\n",
    "from segment_speed_utils.project_vars import COMPILED_CACHED_VIEWS, PROJECT_CRS\n",
    "from shared_utils import (\n",
    "    catalog_utils,\n",
    "    portfolio_utils,\n",
    "    rt_dates,\n",
    "    rt_utils,\n",
    "    time_helpers,\n",
    ")\n",
    "from update_vars import GTFS_DATA_DICT, RT_SCHED_GCS, SCHED_GCS, SEGMENT_GCS\n",
    "\n",
    "# Data Dictionary\n",
    "GTFS_DATA_DICT = catalog_utils.get_catalog(\"gtfs_analytics_data\")"
   ]
  },
  {
   "cell_type": "code",
   "execution_count": 2,
   "id": "6abfe99a-8006-46cd-8219-44ad7c1f5906",
   "metadata": {
    "tags": []
   },
   "outputs": [],
   "source": [
    "pd.options.display.max_columns = 100\n",
    "pd.options.display.float_format = \"{:.2f}\".format\n",
    "pd.set_option(\"display.max_rows\", None)\n",
    "pd.set_option(\"display.max_colwidth\", None)"
   ]
  },
  {
   "cell_type": "code",
   "execution_count": 3,
   "id": "11715264-9636-417a-88e9-f26a8bb193e6",
   "metadata": {
    "tags": []
   },
   "outputs": [],
   "source": [
    "analysis_date_list = [rt_dates.DATES[\"feb2025\"]]"
   ]
  },
  {
   "cell_type": "code",
   "execution_count": 4,
   "id": "989a8d54-ebcf-4473-a592-8521af09cf3e",
   "metadata": {
    "tags": []
   },
   "outputs": [],
   "source": [
    "analysis_date = rt_dates.DATES[\"feb2025\"]"
   ]
  },
  {
   "cell_type": "code",
   "execution_count": 5,
   "id": "5e6a0737-df0d-4acb-8c9c-3f8407f486cc",
   "metadata": {
    "tags": []
   },
   "outputs": [],
   "source": [
    "schd_vp_url = f\"{GTFS_DATA_DICT.digest_tables.dir}{GTFS_DATA_DICT.digest_tables.route_schedule_vp}.parquet\""
   ]
  },
  {
   "cell_type": "code",
   "execution_count": 6,
   "id": "e5d28e10-d396-420d-ba9f-8538a1d41b25",
   "metadata": {
    "tags": []
   },
   "outputs": [],
   "source": [
    "sdi = \"San Diego Metropolitan Transit System\""
   ]
  },
  {
   "cell_type": "code",
   "execution_count": 7,
   "id": "3ef7c577-79fe-4778-a36f-46613c1f0568",
   "metadata": {},
   "outputs": [],
   "source": [
    "marin = \"Marin County Transit District\""
   ]
  },
  {
   "cell_type": "code",
   "execution_count": 8,
   "id": "2836e214-f728-41b4-a69e-a234b4c79066",
   "metadata": {
    "tags": []
   },
   "outputs": [],
   "source": [
    "df = pd.read_parquet(schd_vp_url)"
   ]
  },
  {
   "cell_type": "code",
   "execution_count": 9,
   "id": "138c0603-7bf6-4be7-809f-e8f74e0cfe85",
   "metadata": {
    "tags": []
   },
   "outputs": [
    {
     "data": {
      "text/plain": [
       "Index(['schedule_gtfs_dataset_key', 'direction_id', 'time_period',\n",
       "       'avg_scheduled_service_minutes', 'avg_stop_miles',\n",
       "       'route_primary_direction', 'n_scheduled_trips', 'frequency',\n",
       "       'is_express', 'is_rapid', 'is_rail', 'is_coverage', 'is_downtown_local',\n",
       "       'is_local', 'service_date', 'typology', 'name', 'route_long_name',\n",
       "       'route_short_name', 'route_combined_name', 'route_id',\n",
       "       'minutes_atleast1_vp', 'minutes_atleast2_vp',\n",
       "       'total_rt_service_minutes', 'total_scheduled_service_minutes',\n",
       "       'total_vp', 'vp_in_shape', 'is_early', 'is_ontime', 'is_late',\n",
       "       'n_vp_trips', 'vp_per_minute', 'pct_in_shape',\n",
       "       'pct_rt_journey_atleast1_vp', 'pct_rt_journey_atleast2_vp',\n",
       "       'pct_sched_journey_atleast1_vp', 'pct_sched_journey_atleast2_vp',\n",
       "       'rt_sched_journey_ratio', 'avg_rt_service_minutes', 'sched_rt_category',\n",
       "       'speed_mph', 'schedule_source_record_id', 'base64_url',\n",
       "       'organization_source_record_id', 'organization_name',\n",
       "       'caltrans_district'],\n",
       "      dtype='object')"
      ]
     },
     "execution_count": 9,
     "metadata": {},
     "output_type": "execute_result"
    }
   ],
   "source": [
    "df.columns"
   ]
  },
  {
   "cell_type": "markdown",
   "id": "bd5b37f4-f164-4938-90db-94728defcb67",
   "metadata": {},
   "source": [
    "## 3/27/2025: Incorporate Tiffany's Comments from `structure.md`."
   ]
  },
  {
   "cell_type": "code",
   "execution_count": 10,
   "id": "69d57352-fe10-454d-9521-2eb630608017",
   "metadata": {
    "tags": []
   },
   "outputs": [],
   "source": [
    "sd_df = df.loc[df.organization_name == sdi]"
   ]
  },
  {
   "cell_type": "code",
   "execution_count": 11,
   "id": "5e3c7049-be50-41c5-bb43-e7d63d6ab1f5",
   "metadata": {
    "tags": []
   },
   "outputs": [
    {
     "data": {
      "text/plain": [
       "(37761, 46)"
      ]
     },
     "execution_count": 11,
     "metadata": {},
     "output_type": "execute_result"
    }
   ],
   "source": [
    "sd_df.shape"
   ]
  },
  {
   "cell_type": "code",
   "execution_count": 12,
   "id": "80b8de57-67df-4eac-925d-aae1d127ce78",
   "metadata": {
    "tags": []
   },
   "outputs": [
    {
     "data": {
      "text/plain": [
       "Index(['schedule_gtfs_dataset_key', 'direction_id', 'time_period',\n",
       "       'avg_scheduled_service_minutes', 'avg_stop_miles',\n",
       "       'route_primary_direction', 'n_scheduled_trips', 'frequency',\n",
       "       'is_express', 'is_rapid', 'is_rail', 'is_coverage', 'is_downtown_local',\n",
       "       'is_local', 'service_date', 'typology', 'name', 'route_long_name',\n",
       "       'route_short_name', 'route_combined_name', 'route_id',\n",
       "       'minutes_atleast1_vp', 'minutes_atleast2_vp',\n",
       "       'total_rt_service_minutes', 'total_scheduled_service_minutes',\n",
       "       'total_vp', 'vp_in_shape', 'is_early', 'is_ontime', 'is_late',\n",
       "       'n_vp_trips', 'vp_per_minute', 'pct_in_shape',\n",
       "       'pct_rt_journey_atleast1_vp', 'pct_rt_journey_atleast2_vp',\n",
       "       'pct_sched_journey_atleast1_vp', 'pct_sched_journey_atleast2_vp',\n",
       "       'rt_sched_journey_ratio', 'avg_rt_service_minutes', 'sched_rt_category',\n",
       "       'speed_mph', 'schedule_source_record_id', 'base64_url',\n",
       "       'organization_source_record_id', 'organization_name',\n",
       "       'caltrans_district'],\n",
       "      dtype='object')"
      ]
     },
     "execution_count": 12,
     "metadata": {},
     "output_type": "execute_result"
    }
   ],
   "source": [
    "sd_df.columns"
   ]
  },
  {
   "cell_type": "markdown",
   "id": "6b1dc40e-287a-4c6b-8f1a-84a0b86e48be",
   "metadata": {},
   "source": [
    "### Use `add_quarter` in `shared_utils.time_helpers`"
   ]
  },
  {
   "cell_type": "code",
   "execution_count": 13,
   "id": "c823dc05-6eea-4fe4-b04d-6398d8eca253",
   "metadata": {
    "tags": []
   },
   "outputs": [],
   "source": [
    "from shared_utils import time_helpers"
   ]
  },
  {
   "cell_type": "code",
   "execution_count": 14,
   "id": "a1622440-13b6-47e8-9922-c10a1d03eeba",
   "metadata": {
    "tags": []
   },
   "outputs": [
    {
     "data": {
      "text/plain": [
       "Index(['schedule_gtfs_dataset_key', 'direction_id', 'time_period',\n",
       "       'avg_scheduled_service_minutes', 'avg_stop_miles',\n",
       "       'route_primary_direction', 'n_scheduled_trips', 'frequency',\n",
       "       'is_express', 'is_rapid', 'is_rail', 'is_coverage', 'is_downtown_local',\n",
       "       'is_local', 'service_date', 'typology', 'name', 'route_long_name',\n",
       "       'route_short_name', 'route_combined_name', 'route_id',\n",
       "       'minutes_atleast1_vp', 'minutes_atleast2_vp',\n",
       "       'total_rt_service_minutes', 'total_scheduled_service_minutes',\n",
       "       'total_vp', 'vp_in_shape', 'is_early', 'is_ontime', 'is_late',\n",
       "       'n_vp_trips', 'vp_per_minute', 'pct_in_shape',\n",
       "       'pct_rt_journey_atleast1_vp', 'pct_rt_journey_atleast2_vp',\n",
       "       'pct_sched_journey_atleast1_vp', 'pct_sched_journey_atleast2_vp',\n",
       "       'rt_sched_journey_ratio', 'avg_rt_service_minutes', 'sched_rt_category',\n",
       "       'speed_mph', 'schedule_source_record_id', 'base64_url',\n",
       "       'organization_source_record_id', 'organization_name',\n",
       "       'caltrans_district'],\n",
       "      dtype='object')"
      ]
     },
     "execution_count": 14,
     "metadata": {},
     "output_type": "execute_result"
    }
   ],
   "source": [
    "sd_df.columns"
   ]
  },
  {
   "cell_type": "code",
   "execution_count": 15,
   "id": "ab3dd448-3517-4e0e-a22a-67c2fcc9e67d",
   "metadata": {
    "tags": []
   },
   "outputs": [],
   "source": [
    "sd_df = time_helpers.add_quarter(sd_df, \"service_date\")"
   ]
  },
  {
   "cell_type": "code",
   "execution_count": 16,
   "id": "daa59dee-a9ed-4bcf-a134-efcfea4b55a1",
   "metadata": {
    "tags": []
   },
   "outputs": [
    {
     "data": {
      "text/plain": [
       "Index(['schedule_gtfs_dataset_key', 'direction_id', 'time_period',\n",
       "       'avg_scheduled_service_minutes', 'avg_stop_miles',\n",
       "       'route_primary_direction', 'n_scheduled_trips', 'frequency',\n",
       "       'is_express', 'is_rapid', 'is_rail', 'is_coverage', 'is_downtown_local',\n",
       "       'is_local', 'service_date', 'typology', 'name', 'route_long_name',\n",
       "       'route_short_name', 'route_combined_name', 'route_id',\n",
       "       'minutes_atleast1_vp', 'minutes_atleast2_vp',\n",
       "       'total_rt_service_minutes', 'total_scheduled_service_minutes',\n",
       "       'total_vp', 'vp_in_shape', 'is_early', 'is_ontime', 'is_late',\n",
       "       'n_vp_trips', 'vp_per_minute', 'pct_in_shape',\n",
       "       'pct_rt_journey_atleast1_vp', 'pct_rt_journey_atleast2_vp',\n",
       "       'pct_sched_journey_atleast1_vp', 'pct_sched_journey_atleast2_vp',\n",
       "       'rt_sched_journey_ratio', 'avg_rt_service_minutes', 'sched_rt_category',\n",
       "       'speed_mph', 'schedule_source_record_id', 'base64_url',\n",
       "       'organization_source_record_id', 'organization_name',\n",
       "       'caltrans_district', 'year', 'quarter', 'year_quarter'],\n",
       "      dtype='object')"
      ]
     },
     "execution_count": 16,
     "metadata": {},
     "output_type": "execute_result"
    }
   ],
   "source": [
    "sd_df.columns"
   ]
  },
  {
   "cell_type": "code",
   "execution_count": 17,
   "id": "4073aca5-4781-4867-a1fd-2c1025afd45a",
   "metadata": {
    "tags": []
   },
   "outputs": [
    {
     "data": {
      "text/plain": [
       "2024_Q1    4887\n",
       "2024_Q2    4814\n",
       "2024_Q4    4792\n",
       "2024_Q3    4740\n",
       "2023_Q3    4723\n",
       "2023_Q4    4689\n",
       "2023_Q2    4330\n",
       "2025_Q1    3214\n",
       "2023_Q1    1572\n",
       "Name: year_quarter, dtype: int64"
      ]
     },
     "execution_count": 17,
     "metadata": {},
     "output_type": "execute_result"
    }
   ],
   "source": [
    "sd_df.year_quarter.value_counts()"
   ]
  },
  {
   "cell_type": "code",
   "execution_count": 18,
   "id": "d9840dbd-81e0-42ca-82bf-11abcc3431c6",
   "metadata": {
    "tags": []
   },
   "outputs": [
    {
     "data": {
      "text/plain": [
       "1    9673\n",
       "4    9481\n",
       "3    9463\n",
       "2    9144\n",
       "Name: quarter, dtype: int64"
      ]
     },
     "execution_count": 18,
     "metadata": {},
     "output_type": "execute_result"
    }
   ],
   "source": [
    "sd_df.quarter.value_counts()"
   ]
  },
  {
   "cell_type": "markdown",
   "id": "a56a4049-6729-42f0-8870-c440826c39a2",
   "metadata": {},
   "source": [
    "### I see some similarities in the getting the metrics you want as in https://github.com/cal-itp/data-analyses/blob/main/rt_segment_speeds/segment_speed_utils/metrics.py, specifically the derive_rt_vs_schedule_metrics. Is there a way to bridge these 2 instances so that the function itself is adapted to handle the generic df without over-handling some other stuff?\n",
    "* This function is used `rt_scheduled_v_ran/scripts/rt_v_scheduled_trip.py` and `rt_scheduled_v_ran/scripts/rt_v_scheduled_routes.py`\n",
    "* We don't necessarily need all the rounding, separate out the division part out? "
   ]
  },
  {
   "cell_type": "code",
   "execution_count": 19,
   "id": "d68493ee-6d9a-4992-bc5b-597699e7c897",
   "metadata": {
    "tags": []
   },
   "outputs": [],
   "source": [
    "schd_metric_cols = [\n",
    "    \"avg_scheduled_service_minutes\",\n",
    "    \"avg_stop_miles\",\n",
    "    \"frequency\",\n",
    "    \"total_scheduled_service_minutes\",\n",
    "]\n",
    "\n",
    "groupby_cols = [\n",
    "    \"schedule_gtfs_dataset_key\",\n",
    "    \"year_quarter\",\n",
    "    \"direction_id\",\n",
    "    \"time_period\",\n",
    "    \"route_id\",\n",
    "]\n",
    "rt_metric_cols = [\n",
    "    \"minutes_atleast1_vp\",\n",
    "    \"minutes_atleast2_vp\",\n",
    "    \"total_rt_service_minutes\",\n",
    "    \"total_vp\",\n",
    "    \"vp_in_shape\",\n",
    "    \"avg_rt_service_minutes\",\n",
    "    \"speed_mph\",\n",
    "]\n",
    "rt_metric_no_weighted_avg = [\n",
    "    \"is_early\",\n",
    "    \"is_ontime\",\n",
    "    \"is_late\",\n",
    "]\n",
    "crosswalk_cols = [\n",
    "    \"base64_url\",\n",
    "    \"organization_source_record_id\",\n",
    "    \"organization_name\",\n",
    "    \"caltrans_district\",\n",
    "    \"route_primary_direction\",\n",
    "    \"name\",\n",
    "    \"schedule_source_record_id\",\n",
    "    \"is_express\",\n",
    "    \"is_rapid\",\n",
    "    \"is_rail\",\n",
    "    \"is_coverage\",\n",
    "    \"is_downtown_local\",\n",
    "    \"is_local\",\n",
    "    \"service_date\",\n",
    "    \"typology\",\n",
    "    \"sched_rt_category\",\n",
    "    \"route_long_name\",\n",
    "    \"route_short_name\",\n",
    "    \"route_combined_name\",\n",
    "]\n",
    "group_cols = [\n",
    "    \"year_quarter\",\n",
    "    \"schedule_gtfs_dataset_key\",\n",
    "    \"route_id\",\n",
    "    \"direction_id\",\n",
    "    \"time_period\",\n",
    "]"
   ]
  },
  {
   "cell_type": "code",
   "execution_count": 31,
   "id": "4c405dd8-fc76-4ee4-960d-36a635d08728",
   "metadata": {
    "scrolled": true,
    "tags": []
   },
   "outputs": [],
   "source": [
    "# sd_df.loc[(sd_df.route_id == \"1\") & (sd_df.direction_id == 0) & (sd_df.time_period == \"peak\")]"
   ]
  },
  {
   "cell_type": "code",
   "execution_count": 21,
   "id": "9d0e4361-a98d-48e1-bc4f-b058b0bb8509",
   "metadata": {
    "tags": []
   },
   "outputs": [],
   "source": [
    "rt_df = sd_df.copy()\n",
    "schd_df = sd_df.copy()\n",
    "timeliness_df = sd_df.copy()"
   ]
  },
  {
   "cell_type": "code",
   "execution_count": 22,
   "id": "14444994-8dd3-4453-8ce2-d0c864017ce6",
   "metadata": {
    "tags": []
   },
   "outputs": [
    {
     "name": "stderr",
     "output_type": "stream",
     "text": [
      "/home/jovyan/data-analyses/rt_segment_speeds/segment_speed_utils/segment_calcs.py:263: SettingWithCopyWarning: \n",
      "A value is trying to be set on a copy of a slice from a DataFrame.\n",
      "Try using .loc[row_indexer,col_indexer] = value instead\n",
      "\n",
      "See the caveats in the documentation: https://pandas.pydata.org/pandas-docs/stable/user_guide/indexing.html#returning-a-view-versus-a-copy\n",
      "  df[c] = df[c] * df[weight_col]\n"
     ]
    }
   ],
   "source": [
    "rt_metrics = segment_calcs.calculate_weighted_averages(\n",
    "    df=sd_df[groupby_cols+rt_metric_cols+[\"n_vp_trips\"]],\n",
    "    group_cols=groupby_cols,\n",
    "    metric_cols=rt_metric_cols,\n",
    "    weight_col=\"n_vp_trips\",\n",
    ")"
   ]
  },
  {
   "cell_type": "code",
   "execution_count": 23,
   "id": "36868c55-a47a-4fe7-977c-e9e9a6b8d656",
   "metadata": {
    "tags": []
   },
   "outputs": [
    {
     "data": {
      "text/html": [
       "<div>\n",
       "<style scoped>\n",
       "    .dataframe tbody tr th:only-of-type {\n",
       "        vertical-align: middle;\n",
       "    }\n",
       "\n",
       "    .dataframe tbody tr th {\n",
       "        vertical-align: top;\n",
       "    }\n",
       "\n",
       "    .dataframe thead th {\n",
       "        text-align: right;\n",
       "    }\n",
       "</style>\n",
       "<table border=\"1\" class=\"dataframe\">\n",
       "  <thead>\n",
       "    <tr style=\"text-align: right;\">\n",
       "      <th></th>\n",
       "      <th>schedule_gtfs_dataset_key</th>\n",
       "      <th>year_quarter</th>\n",
       "      <th>direction_id</th>\n",
       "      <th>time_period</th>\n",
       "      <th>route_id</th>\n",
       "      <th>minutes_atleast1_vp</th>\n",
       "      <th>minutes_atleast2_vp</th>\n",
       "      <th>total_rt_service_minutes</th>\n",
       "      <th>total_vp</th>\n",
       "      <th>vp_in_shape</th>\n",
       "      <th>avg_rt_service_minutes</th>\n",
       "      <th>speed_mph</th>\n",
       "      <th>n_vp_trips</th>\n",
       "    </tr>\n",
       "  </thead>\n",
       "  <tbody>\n",
       "    <tr>\n",
       "      <th>0</th>\n",
       "      <td>1adf7a7bde86b42ed014f6de74c7132e</td>\n",
       "      <td>2023_Q2</td>\n",
       "      <td>0.00</td>\n",
       "      <td>all_day</td>\n",
       "      <td>1</td>\n",
       "      <td>2571.88</td>\n",
       "      <td>1830.73</td>\n",
       "      <td>3592.41</td>\n",
       "      <td>4585.39</td>\n",
       "      <td>4514.79</td>\n",
       "      <td>83.33</td>\n",
       "      <td>11.30</td>\n",
       "      <td>201</td>\n",
       "    </tr>\n",
       "  </tbody>\n",
       "</table>\n",
       "</div>"
      ],
      "text/plain": [
       "          schedule_gtfs_dataset_key year_quarter  direction_id time_period  \\\n",
       "0  1adf7a7bde86b42ed014f6de74c7132e      2023_Q2          0.00     all_day   \n",
       "\n",
       "  route_id  minutes_atleast1_vp  minutes_atleast2_vp  \\\n",
       "0        1              2571.88              1830.73   \n",
       "\n",
       "   total_rt_service_minutes  total_vp  vp_in_shape  avg_rt_service_minutes  \\\n",
       "0                   3592.41   4585.39      4514.79                   83.33   \n",
       "\n",
       "   speed_mph  n_vp_trips  \n",
       "0      11.30         201  "
      ]
     },
     "execution_count": 23,
     "metadata": {},
     "output_type": "execute_result"
    }
   ],
   "source": [
    "rt_metrics.head(1)"
   ]
  },
  {
   "cell_type": "code",
   "execution_count": 24,
   "id": "dbcdfb1f-81dc-4e93-b7a1-7ced6c4696c4",
   "metadata": {
    "tags": []
   },
   "outputs": [
    {
     "data": {
      "text/html": [
       "<div>\n",
       "<style scoped>\n",
       "    .dataframe tbody tr th:only-of-type {\n",
       "        vertical-align: middle;\n",
       "    }\n",
       "\n",
       "    .dataframe tbody tr th {\n",
       "        vertical-align: top;\n",
       "    }\n",
       "\n",
       "    .dataframe thead th {\n",
       "        text-align: right;\n",
       "    }\n",
       "</style>\n",
       "<table border=\"1\" class=\"dataframe\">\n",
       "  <thead>\n",
       "    <tr style=\"text-align: right;\">\n",
       "      <th></th>\n",
       "      <th>schedule_gtfs_dataset_key</th>\n",
       "      <th>direction_id</th>\n",
       "      <th>time_period</th>\n",
       "      <th>avg_scheduled_service_minutes</th>\n",
       "      <th>avg_stop_miles</th>\n",
       "      <th>route_primary_direction</th>\n",
       "      <th>n_scheduled_trips</th>\n",
       "      <th>frequency</th>\n",
       "      <th>is_express</th>\n",
       "      <th>is_rapid</th>\n",
       "      <th>is_rail</th>\n",
       "      <th>is_coverage</th>\n",
       "      <th>is_downtown_local</th>\n",
       "      <th>is_local</th>\n",
       "      <th>service_date</th>\n",
       "      <th>typology</th>\n",
       "      <th>name</th>\n",
       "      <th>route_long_name</th>\n",
       "      <th>route_short_name</th>\n",
       "      <th>route_combined_name</th>\n",
       "      <th>route_id</th>\n",
       "      <th>minutes_atleast1_vp</th>\n",
       "      <th>minutes_atleast2_vp</th>\n",
       "      <th>total_rt_service_minutes</th>\n",
       "      <th>total_scheduled_service_minutes</th>\n",
       "      <th>total_vp</th>\n",
       "      <th>vp_in_shape</th>\n",
       "      <th>is_early</th>\n",
       "      <th>is_ontime</th>\n",
       "      <th>is_late</th>\n",
       "      <th>n_vp_trips</th>\n",
       "      <th>vp_per_minute</th>\n",
       "      <th>pct_in_shape</th>\n",
       "      <th>pct_rt_journey_atleast1_vp</th>\n",
       "      <th>pct_rt_journey_atleast2_vp</th>\n",
       "      <th>pct_sched_journey_atleast1_vp</th>\n",
       "      <th>pct_sched_journey_atleast2_vp</th>\n",
       "      <th>rt_sched_journey_ratio</th>\n",
       "      <th>avg_rt_service_minutes</th>\n",
       "      <th>sched_rt_category</th>\n",
       "      <th>speed_mph</th>\n",
       "      <th>schedule_source_record_id</th>\n",
       "      <th>base64_url</th>\n",
       "      <th>organization_source_record_id</th>\n",
       "      <th>organization_name</th>\n",
       "      <th>caltrans_district</th>\n",
       "      <th>year</th>\n",
       "      <th>quarter</th>\n",
       "      <th>year_quarter</th>\n",
       "    </tr>\n",
       "  </thead>\n",
       "  <tbody>\n",
       "    <tr>\n",
       "      <th>255719</th>\n",
       "      <td>1adf7a7bde86b42ed014f6de74c7132e</td>\n",
       "      <td>0.00</td>\n",
       "      <td>all_day</td>\n",
       "      <td>62.04</td>\n",
       "      <td>0.17</td>\n",
       "      <td>Eastbound</td>\n",
       "      <td>50</td>\n",
       "      <td>2.08</td>\n",
       "      <td>0.00</td>\n",
       "      <td>1.00</td>\n",
       "      <td>0.00</td>\n",
       "      <td>0.00</td>\n",
       "      <td>1.00</td>\n",
       "      <td>0.00</td>\n",
       "      <td>2023-04-12</td>\n",
       "      <td>rapid</td>\n",
       "      <td>San Diego Schedule</td>\n",
       "      <td>Fashion Valley - La Mesa</td>\n",
       "      <td>1</td>\n",
       "      <td>1 Fashion Valley - La Mesa</td>\n",
       "      <td>1</td>\n",
       "      <td>3292</td>\n",
       "      <td>2373</td>\n",
       "      <td>4651.70</td>\n",
       "      <td>3102.00</td>\n",
       "      <td>5907</td>\n",
       "      <td>5818</td>\n",
       "      <td>2</td>\n",
       "      <td>31</td>\n",
       "      <td>17</td>\n",
       "      <td>50</td>\n",
       "      <td>1.27</td>\n",
       "      <td>0.98</td>\n",
       "      <td>0.71</td>\n",
       "      <td>0.51</td>\n",
       "      <td>1.00</td>\n",
       "      <td>0.77</td>\n",
       "      <td>1.50</td>\n",
       "      <td>93.03</td>\n",
       "      <td>schedule_and_vp</td>\n",
       "      <td>11.10</td>\n",
       "      <td>recfZ9iWkptccoONX</td>\n",
       "      <td>aHR0cHM6Ly93d3cuc2RtdHMuY29tL2dvb2dsZV90cmFuc2l0X2ZpbGVzL2dvb2dsZV90cmFuc2l0LnppcA==</td>\n",
       "      <td>recZALk4vysuoTVjF</td>\n",
       "      <td>San Diego Metropolitan Transit System</td>\n",
       "      <td>11 - San Diego</td>\n",
       "      <td>2023</td>\n",
       "      <td>2</td>\n",
       "      <td>2023_Q2</td>\n",
       "    </tr>\n",
       "  </tbody>\n",
       "</table>\n",
       "</div>"
      ],
      "text/plain": [
       "               schedule_gtfs_dataset_key  direction_id time_period  \\\n",
       "255719  1adf7a7bde86b42ed014f6de74c7132e          0.00     all_day   \n",
       "\n",
       "        avg_scheduled_service_minutes  avg_stop_miles route_primary_direction  \\\n",
       "255719                          62.04            0.17               Eastbound   \n",
       "\n",
       "        n_scheduled_trips  frequency  is_express  is_rapid  is_rail  \\\n",
       "255719                 50       2.08        0.00      1.00     0.00   \n",
       "\n",
       "        is_coverage  is_downtown_local  is_local service_date typology  \\\n",
       "255719         0.00               1.00      0.00   2023-04-12    rapid   \n",
       "\n",
       "                      name           route_long_name route_short_name  \\\n",
       "255719  San Diego Schedule  Fashion Valley - La Mesa                1   \n",
       "\n",
       "               route_combined_name route_id  minutes_atleast1_vp  \\\n",
       "255719  1 Fashion Valley - La Mesa        1                 3292   \n",
       "\n",
       "        minutes_atleast2_vp  total_rt_service_minutes  \\\n",
       "255719                 2373                   4651.70   \n",
       "\n",
       "        total_scheduled_service_minutes  total_vp  vp_in_shape  is_early  \\\n",
       "255719                          3102.00      5907         5818         2   \n",
       "\n",
       "        is_ontime  is_late  n_vp_trips  vp_per_minute  pct_in_shape  \\\n",
       "255719         31       17          50           1.27          0.98   \n",
       "\n",
       "        pct_rt_journey_atleast1_vp  pct_rt_journey_atleast2_vp  \\\n",
       "255719                        0.71                        0.51   \n",
       "\n",
       "        pct_sched_journey_atleast1_vp  pct_sched_journey_atleast2_vp  \\\n",
       "255719                           1.00                           0.77   \n",
       "\n",
       "        rt_sched_journey_ratio  avg_rt_service_minutes sched_rt_category  \\\n",
       "255719                    1.50                   93.03   schedule_and_vp   \n",
       "\n",
       "        speed_mph schedule_source_record_id  \\\n",
       "255719      11.10         recfZ9iWkptccoONX   \n",
       "\n",
       "                                                                                  base64_url  \\\n",
       "255719  aHR0cHM6Ly93d3cuc2RtdHMuY29tL2dvb2dsZV90cmFuc2l0X2ZpbGVzL2dvb2dsZV90cmFuc2l0LnppcA==   \n",
       "\n",
       "       organization_source_record_id                      organization_name  \\\n",
       "255719             recZALk4vysuoTVjF  San Diego Metropolitan Transit System   \n",
       "\n",
       "       caltrans_district  year  quarter year_quarter  \n",
       "255719    11 - San Diego  2023        2      2023_Q2  "
      ]
     },
     "execution_count": 24,
     "metadata": {},
     "output_type": "execute_result"
    }
   ],
   "source": [
    "sd_df.head(1)"
   ]
  },
  {
   "cell_type": "code",
   "execution_count": 25,
   "id": "c9ba3444-dfc1-41dc-bd17-2d47d7590f17",
   "metadata": {
    "tags": []
   },
   "outputs": [
    {
     "name": "stderr",
     "output_type": "stream",
     "text": [
      "/home/jovyan/data-analyses/rt_segment_speeds/segment_speed_utils/segment_calcs.py:263: SettingWithCopyWarning: \n",
      "A value is trying to be set on a copy of a slice from a DataFrame.\n",
      "Try using .loc[row_indexer,col_indexer] = value instead\n",
      "\n",
      "See the caveats in the documentation: https://pandas.pydata.org/pandas-docs/stable/user_guide/indexing.html#returning-a-view-versus-a-copy\n",
      "  df[c] = df[c] * df[weight_col]\n"
     ]
    }
   ],
   "source": [
    "# Calculate Scheduled Metrics that need to have a weighted average\n",
    "schd_metrics = segment_calcs.calculate_weighted_averages(\n",
    "    df=sd_df[groupby_cols + schd_metric_cols + [\"n_scheduled_trips\"]],\n",
    "    group_cols=groupby_cols,\n",
    "    metric_cols=schd_metric_cols,\n",
    "    weight_col=\"n_scheduled_trips\",\n",
    ")"
   ]
  },
  {
   "cell_type": "code",
   "execution_count": 27,
   "id": "a9dfe13f-d8c9-48a4-9830-6353807b7817",
   "metadata": {
    "tags": []
   },
   "outputs": [
    {
     "data": {
      "text/html": [
       "<div>\n",
       "<style scoped>\n",
       "    .dataframe tbody tr th:only-of-type {\n",
       "        vertical-align: middle;\n",
       "    }\n",
       "\n",
       "    .dataframe tbody tr th {\n",
       "        vertical-align: top;\n",
       "    }\n",
       "\n",
       "    .dataframe thead th {\n",
       "        text-align: right;\n",
       "    }\n",
       "</style>\n",
       "<table border=\"1\" class=\"dataframe\">\n",
       "  <thead>\n",
       "    <tr style=\"text-align: right;\">\n",
       "      <th></th>\n",
       "      <th>0</th>\n",
       "    </tr>\n",
       "  </thead>\n",
       "  <tbody>\n",
       "    <tr>\n",
       "      <th>schedule_gtfs_dataset_key</th>\n",
       "      <td>1adf7a7bde86b42ed014f6de74c7132e</td>\n",
       "    </tr>\n",
       "    <tr>\n",
       "      <th>year_quarter</th>\n",
       "      <td>2023_Q2</td>\n",
       "    </tr>\n",
       "    <tr>\n",
       "      <th>direction_id</th>\n",
       "      <td>0.00</td>\n",
       "    </tr>\n",
       "    <tr>\n",
       "      <th>time_period</th>\n",
       "      <td>all_day</td>\n",
       "    </tr>\n",
       "    <tr>\n",
       "      <th>route_id</th>\n",
       "      <td>1</td>\n",
       "    </tr>\n",
       "    <tr>\n",
       "      <th>avg_scheduled_service_minutes</th>\n",
       "      <td>62.04</td>\n",
       "    </tr>\n",
       "    <tr>\n",
       "      <th>avg_stop_miles</th>\n",
       "      <td>0.17</td>\n",
       "    </tr>\n",
       "    <tr>\n",
       "      <th>frequency</th>\n",
       "      <td>2.08</td>\n",
       "    </tr>\n",
       "    <tr>\n",
       "      <th>total_scheduled_service_minutes</th>\n",
       "      <td>1381.67</td>\n",
       "    </tr>\n",
       "    <tr>\n",
       "      <th>n_scheduled_trips</th>\n",
       "      <td>450</td>\n",
       "    </tr>\n",
       "  </tbody>\n",
       "</table>\n",
       "</div>"
      ],
      "text/plain": [
       "                                                                0\n",
       "schedule_gtfs_dataset_key        1adf7a7bde86b42ed014f6de74c7132e\n",
       "year_quarter                                              2023_Q2\n",
       "direction_id                                                 0.00\n",
       "time_period                                               all_day\n",
       "route_id                                                        1\n",
       "avg_scheduled_service_minutes                               62.04\n",
       "avg_stop_miles                                               0.17\n",
       "frequency                                                    2.08\n",
       "total_scheduled_service_minutes                           1381.67\n",
       "n_scheduled_trips                                             450"
      ]
     },
     "execution_count": 27,
     "metadata": {},
     "output_type": "execute_result"
    }
   ],
   "source": [
    "schd_metrics.head(1).T"
   ]
  },
  {
   "cell_type": "code",
   "execution_count": 28,
   "id": "536cb8ac-eb10-474e-9495-b3a433f9fb68",
   "metadata": {
    "tags": []
   },
   "outputs": [],
   "source": [
    "# Calculate Scheduled Metrics that need to have a weighted average\n",
    "schd_metrics2 = segment_calcs.calculate_weighted_averages(\n",
    "    df=schd_df,\n",
    "    group_cols=groupby_cols,\n",
    "    metric_cols=schd_metric_cols,\n",
    "    weight_col=\"n_scheduled_trips\",\n",
    ")"
   ]
  },
  {
   "cell_type": "code",
   "execution_count": 29,
   "id": "2f1773f3-64e7-493e-8ac3-10a52cd2033f",
   "metadata": {
    "tags": []
   },
   "outputs": [
    {
     "data": {
      "text/html": [
       "<div>\n",
       "<style scoped>\n",
       "    .dataframe tbody tr th:only-of-type {\n",
       "        vertical-align: middle;\n",
       "    }\n",
       "\n",
       "    .dataframe tbody tr th {\n",
       "        vertical-align: top;\n",
       "    }\n",
       "\n",
       "    .dataframe thead th {\n",
       "        text-align: right;\n",
       "    }\n",
       "</style>\n",
       "<table border=\"1\" class=\"dataframe\">\n",
       "  <thead>\n",
       "    <tr style=\"text-align: right;\">\n",
       "      <th></th>\n",
       "      <th>0</th>\n",
       "    </tr>\n",
       "  </thead>\n",
       "  <tbody>\n",
       "    <tr>\n",
       "      <th>schedule_gtfs_dataset_key</th>\n",
       "      <td>1adf7a7bde86b42ed014f6de74c7132e</td>\n",
       "    </tr>\n",
       "    <tr>\n",
       "      <th>year_quarter</th>\n",
       "      <td>2023_Q2</td>\n",
       "    </tr>\n",
       "    <tr>\n",
       "      <th>direction_id</th>\n",
       "      <td>0.00</td>\n",
       "    </tr>\n",
       "    <tr>\n",
       "      <th>time_period</th>\n",
       "      <td>all_day</td>\n",
       "    </tr>\n",
       "    <tr>\n",
       "      <th>route_id</th>\n",
       "      <td>1</td>\n",
       "    </tr>\n",
       "    <tr>\n",
       "      <th>avg_scheduled_service_minutes</th>\n",
       "      <td>62.04</td>\n",
       "    </tr>\n",
       "    <tr>\n",
       "      <th>avg_stop_miles</th>\n",
       "      <td>0.17</td>\n",
       "    </tr>\n",
       "    <tr>\n",
       "      <th>frequency</th>\n",
       "      <td>2.08</td>\n",
       "    </tr>\n",
       "    <tr>\n",
       "      <th>total_scheduled_service_minutes</th>\n",
       "      <td>1381.67</td>\n",
       "    </tr>\n",
       "    <tr>\n",
       "      <th>n_scheduled_trips</th>\n",
       "      <td>450</td>\n",
       "    </tr>\n",
       "  </tbody>\n",
       "</table>\n",
       "</div>"
      ],
      "text/plain": [
       "                                                                0\n",
       "schedule_gtfs_dataset_key        1adf7a7bde86b42ed014f6de74c7132e\n",
       "year_quarter                                              2023_Q2\n",
       "direction_id                                                 0.00\n",
       "time_period                                               all_day\n",
       "route_id                                                        1\n",
       "avg_scheduled_service_minutes                               62.04\n",
       "avg_stop_miles                                               0.17\n",
       "frequency                                                    2.08\n",
       "total_scheduled_service_minutes                           1381.67\n",
       "n_scheduled_trips                                             450"
      ]
     },
     "execution_count": 29,
     "metadata": {},
     "output_type": "execute_result"
    }
   ],
   "source": [
    "schd_metrics2.head(1).T"
   ]
  },
  {
   "cell_type": "code",
   "execution_count": null,
   "id": "5b68543b-735d-4954-a57d-d9c1d4f21cc3",
   "metadata": {
    "tags": []
   },
   "outputs": [],
   "source": [
    "# Calculate trips by timeliness which doesn't need weighted average\n",
    "timeliness_df = timeliness_df[groupby_cols + rt_metric_no_weighted_avg]\n",
    "timeliness_df2 = (\n",
    "    timeliness_df.groupby(groupby_cols)\n",
    "    .agg({\"is_early\": \"sum\", \"is_ontime\": \"sum\", \"is_late\": \"sum\"})\n",
    "    .reset_index()\n",
    ")"
   ]
  },
  {
   "cell_type": "code",
   "execution_count": null,
   "id": "7cc54955-9181-4ac6-94d4-8507d8c0b8b0",
   "metadata": {
    "tags": []
   },
   "outputs": [],
   "source": [
    "# Create a crosswalk with string descriptives such as\n",
    "# organization_name, route_long_name, etc that were excluded from the groupby_cols\n",
    "crosswalk = sd_df[groupby_cols + crosswalk_cols]\n",
    "\n",
    "# Merge all the dataframes\n",
    "m1 = (\n",
    "    pd.merge(rt_metrics, schd_metrics, on=groupby_cols)\n",
    "    .merge(timeliness_df2, on=groupby_cols)\n",
    "    .merge(crosswalk, on=groupby_cols)\n",
    ")"
   ]
  },
  {
   "cell_type": "code",
   "execution_count": null,
   "id": "df9c5431-9de5-4805-8d76-e8fcee9feafb",
   "metadata": {
    "tags": []
   },
   "outputs": [],
   "source": [
    "m1.columns"
   ]
  },
  {
   "cell_type": "code",
   "execution_count": null,
   "id": "bf2c16e8-1d0a-43b9-a136-0a2d0e235bdd",
   "metadata": {
    "tags": []
   },
   "outputs": [],
   "source": [
    "# Have to temporarily rm total to some of the columns\n",
    "m1 = m1.rename(\n",
    "    columns={\n",
    "        \"total_rt_service_minutes\": \"rt_service_minutes\",\n",
    "        \"total_scheduled_service_minutes\": \"scheduled_service_minutes\",\n",
    "    }\n",
    ")"
   ]
  },
  {
   "cell_type": "code",
   "execution_count": null,
   "id": "53c62e87-3ce1-46db-a391-9eddd5288bb4",
   "metadata": {
    "tags": []
   },
   "outputs": [],
   "source": [
    "m1 = metrics.calculate_rt_vs_schedule_metrics(m1)"
   ]
  },
  {
   "cell_type": "code",
   "execution_count": null,
   "id": "16ffb4fd-c40c-4a4f-83a6-58291142129e",
   "metadata": {
    "tags": []
   },
   "outputs": [],
   "source": [
    "# Rename back \n",
    "m1 = m1.rename(\n",
    "    columns={\n",
    "        \"rt_service_minutes\": \"total_rt_service_minutes\",\n",
    "        \"scheduled_service_minutes\": \"total_scheduled_service_minutes\"\n",
    "    }\n",
    ")"
   ]
  },
  {
   "cell_type": "code",
   "execution_count": null,
   "id": "f8fffac1-721e-4c91-b023-79ef806f2c73",
   "metadata": {
    "tags": []
   },
   "outputs": [],
   "source": [
    "m1[\"rt_sched_journey_ratio\"] = (\n",
    "        m1.total_rt_service_minutes / m1.total_scheduled_service_minutes\n",
    "    )"
   ]
  },
  {
   "cell_type": "code",
   "execution_count": null,
   "id": "c8a701d8-e441-4519-ab84-1f1f44cdbde1",
   "metadata": {
    "tags": []
   },
   "outputs": [],
   "source": [
    "col_proper_order = list(df.columns) + ['year_quarter']"
   ]
  },
  {
   "cell_type": "code",
   "execution_count": null,
   "id": "dc7c0762-918d-4a20-b984-44ea13695859",
   "metadata": {
    "tags": []
   },
   "outputs": [],
   "source": [
    "# Rearrange columns to match original df\n",
    "m1 = m1[col_proper_order]\n",
    "\n",
    "# Drop service_date & duplicates\n",
    "m1 = (m1\n",
    "          .drop(columns=[\"service_date\"])\n",
    "          .drop_duplicates(subset = group_cols)\n",
    "          .reset_index(drop=True))"
   ]
  },
  {
   "cell_type": "code",
   "execution_count": null,
   "id": "4aef175d-5887-45eb-8aed-f677665d613a",
   "metadata": {
    "tags": []
   },
   "outputs": [],
   "source": [
    "m1.head(1)"
   ]
  },
  {
   "cell_type": "markdown",
   "id": "b5cac20d-e4a7-4d60-98ed-50fd9d4d88b4",
   "metadata": {},
   "source": [
    "## Pre 3/27/2025 Work: Organizing columns \n",
    "* **Groupby Columns** \n",
    "['schedule_gtfs_dataset_key', \n",
    "'quarter' \n",
    "'direction_id', \n",
    "'time_period',\n",
    "'route_id', \n",
    "* **Columns to crosswalk back once grouping by quarters is done**:\n",
    "'base64_url',\n",
    "       'organization_source_record_id', 'organization_name',\n",
    "       'caltrans_district', 'route_primary_direction', 'name',\n",
    "       'schedule_source_record_id',\n",
    "'is_express', 'is_rapid', 'is_rail', 'is_coverage',\n",
    " 'is_downtown_local', 'is_local', 'service_date', 'typology',\n",
    "  'sched_rt_category', 'route_long_name', 'route_short_name',\n",
    "       'route_combined_name',        \n",
    "* **Scheduled Route Info**: 'n_scheduled_trips' is the weighted column\n",
    "'avg_scheduled_service_minutes', \n",
    "'avg_stop_miles', \n",
    ",\n",
    "'frequency', 'total_scheduled_service_minutes',\n",
    "\n",
    "* **RT Route Info**: 'n_vp_trips' is the weighted column.\n",
    "'minutes_atleast1_vp', 'minutes_atleast2_vp',\n",
    "'total_rt_service_minutes', \n",
    "  'total_vp', 'vp_in_shape', \n",
    "       ,avg_rt_service_minutes', \n",
    "'speed_mph',\n",
    "\n",
    "* **RT Route Info: no need for weighted avg**: 'is_early', 'is_ontime', 'is_late',\n",
    "* **ReCalculate Columns**\n",
    "'pct_in_shape',\n",
    "'pct_rt_journey_atleast1_vp', \n",
    "'pct_rt_journey_atleast2_vp',\n",
    "'pct_sched_journey_atleast1_vp', \n",
    "'pct_sched_journey_atleast2_vp',\n",
    "'rt_sched_journey_ratio', \"vp_per_minute\",]"
   ]
  },
  {
   "cell_type": "code",
   "execution_count": null,
   "id": "649ed4ec-f53b-40b0-be3a-fd40bbd2f056",
   "metadata": {
    "tags": []
   },
   "outputs": [],
   "source": [
    "schd_metric_cols = [\n",
    "    \"avg_scheduled_service_minutes\",\n",
    "    \"avg_stop_miles\",\n",
    "    \"frequency\",\n",
    "    \"total_scheduled_service_minutes\",\n",
    "]"
   ]
  },
  {
   "cell_type": "code",
   "execution_count": null,
   "id": "563435f6-de48-4a77-a943-31ce8ccbe94b",
   "metadata": {
    "tags": []
   },
   "outputs": [],
   "source": [
    "groupby_cols = [\n",
    "    \"schedule_gtfs_dataset_key\",\n",
    "    \"quarter\",\n",
    "    \"direction_id\",\n",
    "    \"time_period\",\n",
    "    \"route_id\",\n",
    "]"
   ]
  },
  {
   "cell_type": "code",
   "execution_count": null,
   "id": "b1fa68b3-6f2d-4ff3-bd72-d1436af9c4b8",
   "metadata": {
    "tags": []
   },
   "outputs": [],
   "source": [
    "rt_metric_cols = [\n",
    "    \"minutes_atleast1_vp\",\n",
    "    \"minutes_atleast2_vp\",\n",
    "    \"total_rt_service_minutes\",\n",
    "    \"total_vp\",\n",
    "    \"vp_in_shape\",\n",
    "    \"avg_rt_service_minutes\",\n",
    "    \"speed_mph\",\n",
    "]"
   ]
  },
  {
   "cell_type": "code",
   "execution_count": null,
   "id": "98ac1373-b0ca-4ef4-8d0c-92e1f508a6d8",
   "metadata": {
    "tags": []
   },
   "outputs": [],
   "source": [
    "rt_metric_no_weighted_avg = [\n",
    "    \"is_early\",\n",
    "    \"is_ontime\",\n",
    "    \"is_late\",\n",
    "]"
   ]
  },
  {
   "cell_type": "code",
   "execution_count": null,
   "id": "139f3b80-ad1e-4da6-b8e1-7a6ec4797ac1",
   "metadata": {
    "tags": []
   },
   "outputs": [],
   "source": [
    "crosswalk_cols = [\n",
    "    \"base64_url\",\n",
    "    \"organization_source_record_id\",\n",
    "    \"organization_name\",\n",
    "    \"caltrans_district\",\n",
    "    \"route_primary_direction\",\n",
    "    \"name\",\n",
    "    \"schedule_source_record_id\",\n",
    "    \"is_express\",\n",
    "    \"is_rapid\",\n",
    "    \"is_rail\",\n",
    "    \"is_coverage\",\n",
    "    \"is_downtown_local\",\n",
    "    \"is_local\",\n",
    "    \"service_date\",\n",
    "    \"typology\",\n",
    "    \"sched_rt_category\",\n",
    "    \"route_long_name\",\n",
    "    \"route_short_name\",\n",
    "    \"route_combined_name\",\n",
    "]"
   ]
  },
  {
   "cell_type": "code",
   "execution_count": null,
   "id": "708b3c15-64d1-44f3-822d-b576564a5d1c",
   "metadata": {
    "tags": []
   },
   "outputs": [],
   "source": [
    "group_cols = [\n",
    "    \"quarter\",\n",
    "    \"schedule_gtfs_dataset_key\",\n",
    "    \"route_id\",\n",
    "    \"direction_id\",\n",
    "    \"time_period\",\n",
    "]"
   ]
  },
  {
   "cell_type": "code",
   "execution_count": null,
   "id": "2c9c8edb-bd51-49ed-a72a-1d095c09d0de",
   "metadata": {
    "tags": []
   },
   "outputs": [],
   "source": [
    "sd_df.sched_rt_category.unique()"
   ]
  },
  {
   "cell_type": "markdown",
   "id": "50770b95-9ce4-4b5c-a18f-313a12f3878f",
   "metadata": {
    "tags": []
   },
   "source": [
    "## Turn this to a function"
   ]
  },
  {
   "cell_type": "code",
   "execution_count": null,
   "id": "5f546df0-e18a-44a3-abef-a60813d67b20",
   "metadata": {
    "tags": []
   },
   "outputs": [],
   "source": [
    "def quarterly_metrics(df: pd.DataFrame) -> pd.DataFrame:\n",
    "    \"\"\"\n",
    "    GTFS Digest is presented on a monthly candece.\n",
    "    Aggregate this dataframe to be on a quarterly grain\n",
    "    instead.\n",
    "    \"\"\"\n",
    "    # Create copies of the original df before aggregating because I noticed applying\n",
    "    #  segment_calcs.calculate_weighted_averages impacts the original df\n",
    "    rt_df = df.copy()\n",
    "    schd_df = df.copy()\n",
    "    timeliness_df = df.copy()\n",
    "\n",
    "    # Calculate RT Metrics that need to have a weighted average\n",
    "    rt_metrics = segment_calcs.calculate_weighted_averages(\n",
    "        df=rt_df,\n",
    "        group_cols=groupby_cols,\n",
    "        metric_cols=rt_metric_cols,\n",
    "        weight_col=\"n_vp_trips\",\n",
    "    )\n",
    "\n",
    "    # Calculate Scheduled Metrics that need to have a weighted average\n",
    "    schd_metrics = segment_calcs.calculate_weighted_averages(\n",
    "        df=schd_df,\n",
    "        group_cols=groupby_cols,\n",
    "        metric_cols=schd_metric_cols,\n",
    "        weight_col=\"n_scheduled_trips\",\n",
    "    )\n",
    "\n",
    "    # Calculate trips by timeliness which doesn't need weighted average\n",
    "    timeliness_df = timeliness_df[groupby_cols + rt_metric_no_weighted_avg]\n",
    "    timeliness_df2 = (\n",
    "        timeliness_df.groupby(groupby_cols)\n",
    "        .agg({\"is_early\": \"sum\", \"is_ontime\": \"sum\", \"is_late\": \"sum\"})\n",
    "        .reset_index()\n",
    "    )\n",
    "\n",
    "    # Create a crosswalk with string descriptives such as\n",
    "    # organization_name, route_long_name, etc that were excluded from the groupby_cols\n",
    "    crosswalk = df[groupby_cols + crosswalk_cols]\n",
    "\n",
    "    # Merge all the dataframes\n",
    "    m1 = (\n",
    "        pd.merge(rt_metrics, schd_metrics, on=groupby_cols)\n",
    "        .merge(timeliness_df2, on=groupby_cols)\n",
    "        .merge(crosswalk, on=groupby_cols)\n",
    "    )\n",
    "\n",
    "    # Re-calculate certain columns\n",
    "    m1[\"pct_in_shape\"] = m1.vp_in_shape / m1.total_vp\n",
    "    m1[\"pct_rt_journey_atleast1_vp\"] = (\n",
    "        m1.minutes_atleast1_vp / m1.total_rt_service_minutes\n",
    "    )\n",
    "    m1[\"pct_rt_journey_atleast2_vp\"] = (\n",
    "        m1.minutes_atleast2_vp / m1.total_rt_service_minutes\n",
    "    )\n",
    "    m1[\"pct_sched_journey_atleast1_vp\"] = (\n",
    "        m1.minutes_atleast1_vp / m1.total_scheduled_service_minutes\n",
    "    )\n",
    "    m1[\"pct_sched_journey_atleast2_vp\"] = (\n",
    "        m1.minutes_atleast2_vp / m1.total_scheduled_service_minutes\n",
    "    )\n",
    "    m1[\"vp_per_minute\"] = m1.total_vp / m1.total_rt_service_minutes\n",
    "    m1[\"rt_sched_journey_ratio\"] = (\n",
    "        m1.total_rt_service_minutes / m1.total_scheduled_service_minutes\n",
    "    )\n",
    "\n",
    "    # Rearrange columns to match original df\n",
    "    m1 = m1[list(df.columns)]\n",
    "\n",
    "    # Drop service_date\n",
    "    m1 = m1.drop(columns=[\"service_date\"]).drop_duplicates().reset_index(drop=True)\n",
    "    return m1"
   ]
  },
  {
   "cell_type": "code",
   "execution_count": null,
   "id": "ec876223-2364-4af6-a968-62ebcdcf272d",
   "metadata": {
    "tags": []
   },
   "outputs": [],
   "source": [
    "m1_all_orgs = quarterly_metrics(df)"
   ]
  },
  {
   "cell_type": "code",
   "execution_count": null,
   "id": "3628b7ec-6042-4017-8e07-1cab880bd1cc",
   "metadata": {
    "tags": []
   },
   "outputs": [],
   "source": [
    "df.loc[\n",
    "    (df.quarter == \"2024Q3\")\n",
    "    & (df.route_id == \"30\")\n",
    "    & (df.schedule_gtfs_dataset_key == \"7cc0cb1871dfd558f11a2885c145d144\")\n",
    "    & (df.route_primary_direction == \"Westbound\")\n",
    "    & (df.time_period == \"peak\")\n",
    "][[\"service_date\", \"n_scheduled_trips\"]]"
   ]
  },
  {
   "cell_type": "code",
   "execution_count": null,
   "id": "85ce4712-12bd-4005-84ed-023255c16cda",
   "metadata": {
    "tags": []
   },
   "outputs": [],
   "source": [
    "df.loc[\n",
    "    (df.quarter == \"2024Q3\")\n",
    "    & (df.route_id == \"30\")\n",
    "    & (df.schedule_gtfs_dataset_key == \"7cc0cb1871dfd558f11a2885c145d144\")\n",
    "    & (df.route_primary_direction == \"Westbound\")\n",
    "    & (df.time_period == \"peak\")\n",
    "].n_scheduled_trips.sum()"
   ]
  },
  {
   "cell_type": "code",
   "execution_count": null,
   "id": "2a451ef2-2788-4e7e-a990-8bb247f9529c",
   "metadata": {
    "tags": []
   },
   "outputs": [],
   "source": [
    "df.loc[\n",
    "    (df.quarter == \"2024Q3\")\n",
    "    & (df.route_id == \"30\")\n",
    "    & (df.schedule_gtfs_dataset_key == \"7cc0cb1871dfd558f11a2885c145d144\")\n",
    "    & (df.route_primary_direction == \"Westbound\")\n",
    "    & (df.time_period == \"peak\")\n",
    "].n_scheduled_trips.sum()"
   ]
  },
  {
   "cell_type": "code",
   "execution_count": null,
   "id": "b1e707d5-86d7-4474-803d-5913f75e43c4",
   "metadata": {
    "tags": []
   },
   "outputs": [],
   "source": [
    "m1_all_orgs.loc[\n",
    "    (m1_all_orgs.quarter == \"2024Q3\")\n",
    "    & (m1_all_orgs.route_id == \"30\")\n",
    "    & (m1_all_orgs.schedule_gtfs_dataset_key == \"7cc0cb1871dfd558f11a2885c145d144\")\n",
    "    & (m1_all_orgs.route_primary_direction == \"Westbound\")\n",
    "][[\"n_scheduled_trips\"]]"
   ]
  },
  {
   "cell_type": "markdown",
   "id": "2505c77f-e44d-461f-97f0-a589ab6195ac",
   "metadata": {},
   "source": [
    "## Calculate RT Route Info"
   ]
  },
  {
   "cell_type": "code",
   "execution_count": null,
   "id": "f375f88e-cc84-4e6f-ac27-e50a0ba5bd2b",
   "metadata": {
    "tags": []
   },
   "outputs": [],
   "source": [
    "rt_copy = sd_df.copy()"
   ]
  },
  {
   "cell_type": "code",
   "execution_count": null,
   "id": "30ec0ad0-ac4b-45f9-8409-22fa822ec5bc",
   "metadata": {
    "tags": []
   },
   "outputs": [],
   "source": [
    "sd_rt_metrics = segment_calcs.calculate_weighted_averages(\n",
    "    df=rt_copy,\n",
    "    group_cols=groupby_cols,\n",
    "    metric_cols=rt_metric_cols,\n",
    "    weight_col=\"n_vp_trips\",\n",
    ")"
   ]
  },
  {
   "cell_type": "code",
   "execution_count": null,
   "id": "01e372ea-cc97-482a-aa84-156a0d97752d",
   "metadata": {
    "tags": []
   },
   "outputs": [],
   "source": [
    "sd_rt_metrics.loc[\n",
    "    (sd_rt_metrics.quarter == \"2024Q2\")\n",
    "    & (sd_rt_metrics.route_id == \"1\")\n",
    "    & (sd_rt_metrics.direction_id == 0)\n",
    "    & (sd_rt_metrics.time_period == \"offpeak\")\n",
    "]"
   ]
  },
  {
   "cell_type": "code",
   "execution_count": null,
   "id": "6cfeff0d-e819-47bc-9d7d-24ca5428d777",
   "metadata": {},
   "outputs": [],
   "source": [
    "sd_df.loc[\n",
    "    (sd_df.quarter == \"2024Q2\")\n",
    "    & (sd_df.route_id == \"1\")\n",
    "    & (sd_df.direction_id == 0)\n",
    "    & (sd_df.time_period == \"offpeak\")\n",
    "][rt_metric_cols]"
   ]
  },
  {
   "cell_type": "code",
   "execution_count": null,
   "id": "c0ab6879-5fc6-4741-8c0c-d5f9d5a383cc",
   "metadata": {
    "tags": []
   },
   "outputs": [],
   "source": [
    "sd_df.loc[\n",
    "    (sd_df.quarter == \"2024Q2\")\n",
    "    & (sd_df.route_id == \"1\")\n",
    "    & (sd_df.direction_id == 0)\n",
    "    & (sd_df.time_period == \"offpeak\")\n",
    "][[\"n_vp_trips\"]]"
   ]
  },
  {
   "cell_type": "code",
   "execution_count": null,
   "id": "6e18b9fa-7e10-4ec2-9b10-afad3bec4d90",
   "metadata": {
    "tags": []
   },
   "outputs": [],
   "source": [
    "# VP in Shape\n",
    "((3821 * 27) + (3493 * 27) + (5252 * 33)) / 87"
   ]
  },
  {
   "cell_type": "code",
   "execution_count": null,
   "id": "6329ba1e-a43b-444e-b6ef-788cb9f4685e",
   "metadata": {
    "tags": []
   },
   "outputs": [],
   "source": [
    "# Speed MPH\n",
    "((11.34 * 27) + (11.42 * 27) + (11.1 * 33)) / 87"
   ]
  },
  {
   "cell_type": "code",
   "execution_count": null,
   "id": "aeb4060d-dcef-482a-8e04-567b1d9f1dd3",
   "metadata": {
    "tags": []
   },
   "outputs": [],
   "source": [
    "# Minutes at least 2 vp\n",
    "((1558 * 27) + (1393 * 27) + (2147 * 33)) / 87"
   ]
  },
  {
   "cell_type": "markdown",
   "id": "8d9fb283-60e7-4c36-b451-5693aac23c03",
   "metadata": {},
   "source": [
    "## Calculate Scheduled Route Info"
   ]
  },
  {
   "cell_type": "code",
   "execution_count": null,
   "id": "ccb006cd-d41d-424f-9fcf-25eabffee08e",
   "metadata": {
    "tags": []
   },
   "outputs": [],
   "source": [
    "schd_copy = sd_df.copy()"
   ]
  },
  {
   "cell_type": "code",
   "execution_count": null,
   "id": "65f5b625-7a18-4463-a34c-8b565edaba57",
   "metadata": {
    "tags": []
   },
   "outputs": [],
   "source": [
    "sd_schd_metrics = segment_calcs.calculate_weighted_averages(\n",
    "    df=schd_copy,\n",
    "    group_cols=groupby_cols,\n",
    "    metric_cols=schd_metric_cols,\n",
    "    weight_col=\"n_scheduled_trips\",\n",
    ")"
   ]
  },
  {
   "cell_type": "code",
   "execution_count": null,
   "id": "f33cfda2-b4fb-4a84-8117-58df6bad13d7",
   "metadata": {
    "tags": []
   },
   "outputs": [],
   "source": [
    "sd_schd_metrics.loc[\n",
    "    (sd_schd_metrics.quarter == \"2024Q2\")\n",
    "    & (sd_schd_metrics.route_id == \"1\")\n",
    "    & (sd_schd_metrics.direction_id == 0)\n",
    "    & (sd_schd_metrics.time_period == \"offpeak\")\n",
    "]"
   ]
  },
  {
   "cell_type": "code",
   "execution_count": null,
   "id": "558afaf4-c404-486f-9d43-2b386060b895",
   "metadata": {
    "tags": []
   },
   "outputs": [],
   "source": [
    "sd_df.loc[\n",
    "    (sd_df.quarter == \"2024Q2\")\n",
    "    & (sd_df.route_id == \"1\")\n",
    "    & (sd_df.direction_id == 0)\n",
    "    & (sd_df.time_period == \"offpeak\")\n",
    "][[\"n_vp_trips\"]]"
   ]
  },
  {
   "cell_type": "code",
   "execution_count": null,
   "id": "95a85f6b-0686-47d2-9e81-f666f4e7066f",
   "metadata": {
    "tags": []
   },
   "outputs": [],
   "source": [
    "sd_df.loc[\n",
    "    (sd_df.quarter == \"2024Q2\")\n",
    "    & (sd_df.route_id == \"1\")\n",
    "    & (sd_df.direction_id == 0)\n",
    "    & (sd_df.time_period == \"offpeak\")\n",
    "][schd_metric_cols]"
   ]
  },
  {
   "cell_type": "code",
   "execution_count": null,
   "id": "0dc596bf-30df-425e-bfd9-4e5e94e073aa",
   "metadata": {
    "tags": []
   },
   "outputs": [],
   "source": [
    "((1615 * 27) + (1615 * 27) + (2001 * 33)) / (27 + 27 + 33)"
   ]
  },
  {
   "cell_type": "markdown",
   "id": "742774c5-e6cb-464c-ad42-1a71a38dd630",
   "metadata": {},
   "source": [
    "## Timeliness Trips"
   ]
  },
  {
   "cell_type": "code",
   "execution_count": null,
   "id": "19565d3e-8622-4397-9817-248671a2fdd9",
   "metadata": {
    "tags": []
   },
   "outputs": [],
   "source": [
    "timeliness = sd_df.copy()"
   ]
  },
  {
   "cell_type": "code",
   "execution_count": null,
   "id": "797f2f7a-c73b-42c8-8fb5-53a79898d381",
   "metadata": {
    "tags": []
   },
   "outputs": [],
   "source": [
    "timeliness = timeliness[groupby_cols + rt_metric_no_weighted_avg]"
   ]
  },
  {
   "cell_type": "code",
   "execution_count": null,
   "id": "1bf0390a-2c1c-40d8-b933-d4badaf70f58",
   "metadata": {
    "tags": []
   },
   "outputs": [],
   "source": [
    "timeliness.head(2)"
   ]
  },
  {
   "cell_type": "code",
   "execution_count": null,
   "id": "0e7f1a08-e59f-4577-be1e-c8c8ef260dda",
   "metadata": {
    "tags": []
   },
   "outputs": [],
   "source": [
    "timeliness2 = (\n",
    "    timeliness.groupby(groupby_cols)\n",
    "    .agg({\"is_early\": \"sum\", \"is_ontime\": \"sum\", \"is_late\": \"sum\"})\n",
    "    .reset_index()\n",
    ")"
   ]
  },
  {
   "cell_type": "code",
   "execution_count": null,
   "id": "069dbdb4-218b-4160-902b-92e69bb84323",
   "metadata": {
    "tags": []
   },
   "outputs": [],
   "source": [
    "timeliness2.loc[\n",
    "    (timeliness2.quarter == \"2024Q2\")\n",
    "    & (timeliness2.route_id == \"1\")\n",
    "    & (timeliness2.direction_id == 0)\n",
    "    & (timeliness2.time_period == \"offpeak\")\n",
    "]"
   ]
  },
  {
   "cell_type": "code",
   "execution_count": null,
   "id": "6bcd1a9e-34a6-4371-b3ac-2842c6b5643f",
   "metadata": {
    "tags": []
   },
   "outputs": [],
   "source": [
    "sd_df.loc[\n",
    "    (sd_df.quarter == \"2024Q2\")\n",
    "    & (sd_df.route_id == \"1\")\n",
    "    & (sd_df.direction_id == 0)\n",
    "    & (sd_df.time_period == \"offpeak\")\n",
    "][rt_metric_no_weighted_avg]"
   ]
  },
  {
   "cell_type": "markdown",
   "id": "400bbc89-4e2c-45bf-a833-1a81487dae39",
   "metadata": {},
   "source": [
    "## Join all the tables back together"
   ]
  },
  {
   "cell_type": "code",
   "execution_count": null,
   "id": "ead7bc39-978a-4e81-ae4c-482f0e1511e6",
   "metadata": {
    "tags": []
   },
   "outputs": [],
   "source": [
    "crosswalk = sd_df[groupby_cols + crosswalk_cols]"
   ]
  },
  {
   "cell_type": "code",
   "execution_count": null,
   "id": "5b7109ba-4b74-40cc-b164-c63e8cc42db8",
   "metadata": {
    "tags": []
   },
   "outputs": [],
   "source": [
    "len(crosswalk.drop_duplicates())"
   ]
  },
  {
   "cell_type": "code",
   "execution_count": null,
   "id": "2b246dbe-8b06-449d-af5f-64810c72f095",
   "metadata": {
    "tags": []
   },
   "outputs": [],
   "source": [
    "len(crosswalk)"
   ]
  },
  {
   "cell_type": "code",
   "execution_count": null,
   "id": "a42f641f-0d9b-4403-b5dc-0dee34d82c7a",
   "metadata": {
    "tags": []
   },
   "outputs": [],
   "source": [
    "m1 = (\n",
    "    pd.merge(sd_rt_metrics, sd_schd_metrics, on=groupby_cols)\n",
    "    .merge(timeliness2, on=groupby_cols)\n",
    "    .merge(crosswalk, on=groupby_cols)\n",
    ")"
   ]
  },
  {
   "cell_type": "code",
   "execution_count": null,
   "id": "665158bb-2315-4ab9-ad18-bef25ebb4a0b",
   "metadata": {
    "tags": []
   },
   "outputs": [],
   "source": [
    "m1.sample()"
   ]
  },
  {
   "cell_type": "markdown",
   "id": "495075bc-0c15-4bb6-aad5-4ce4c0899852",
   "metadata": {},
   "source": [
    "## Re-Calculate Metrics "
   ]
  },
  {
   "cell_type": "code",
   "execution_count": null,
   "id": "f4b19217-84e2-4f3d-9389-5bc820851043",
   "metadata": {
    "tags": []
   },
   "outputs": [],
   "source": [
    "m1[\"pct_in_shape\"] = m1.vp_in_shape / m1.total_vp"
   ]
  },
  {
   "cell_type": "code",
   "execution_count": null,
   "id": "5ab1bf71-b701-4529-ae23-c78c6edce793",
   "metadata": {
    "tags": []
   },
   "outputs": [],
   "source": [
    "m1[\"pct_rt_journey_atleast1_vp\"] = m1.minutes_atleast1_vp / m1.total_rt_service_minutes"
   ]
  },
  {
   "cell_type": "code",
   "execution_count": null,
   "id": "e3417deb-ff38-4fd2-bf14-4d21bd90205d",
   "metadata": {
    "tags": []
   },
   "outputs": [],
   "source": [
    "m1[\"pct_rt_journey_atleast2_vp\"] = m1.minutes_atleast2_vp / m1.total_rt_service_minutes"
   ]
  },
  {
   "cell_type": "code",
   "execution_count": null,
   "id": "abc52682-1f4f-469c-b162-eb9aa1f604b7",
   "metadata": {
    "tags": []
   },
   "outputs": [],
   "source": [
    "m1[\"pct_sched_journey_atleast1_vp\"] = (\n",
    "    m1.minutes_atleast1_vp / m1.total_scheduled_service_minutes\n",
    ")"
   ]
  },
  {
   "cell_type": "code",
   "execution_count": null,
   "id": "892e9912-ff89-4df0-a335-a5c16e017443",
   "metadata": {
    "tags": []
   },
   "outputs": [],
   "source": [
    "m1[\"pct_sched_journey_atleast2_vp\"] = (\n",
    "    m1.minutes_atleast2_vp / m1.total_scheduled_service_minutes\n",
    ")"
   ]
  },
  {
   "cell_type": "code",
   "execution_count": null,
   "id": "92134fd2-9ce9-49e0-8b6c-d95326a58f44",
   "metadata": {
    "tags": []
   },
   "outputs": [],
   "source": [
    "m1[\"vp_per_minute\"] = m1.total_vp / m1.total_rt_service_minutes"
   ]
  },
  {
   "cell_type": "code",
   "execution_count": null,
   "id": "1fce3c5f-9cd3-4ff8-b70e-44d92e163fcc",
   "metadata": {
    "tags": []
   },
   "outputs": [],
   "source": [
    "m1[\"rt_sched_journey_ratio\"] = (\n",
    "    m1.total_rt_service_minutes / m1.total_scheduled_service_minutes\n",
    ")"
   ]
  },
  {
   "cell_type": "markdown",
   "id": "53c74fe1-e2e3-4802-ac9f-d8ea677d062b",
   "metadata": {},
   "source": [
    "## Rearrange columns to match"
   ]
  },
  {
   "cell_type": "code",
   "execution_count": null,
   "id": "ee931698-ce2f-4396-8fdd-4c58ff1499ae",
   "metadata": {
    "tags": []
   },
   "outputs": [],
   "source": [
    "m1 = m1[list(sd_df.columns)]"
   ]
  },
  {
   "cell_type": "code",
   "execution_count": null,
   "id": "64bb9e6f-2d6c-455a-beeb-f70dde933066",
   "metadata": {
    "tags": []
   },
   "outputs": [],
   "source": [
    "m1.columns == sd_df.columns"
   ]
  },
  {
   "cell_type": "markdown",
   "id": "1cc4d303-99dd-4a94-8f9e-8cf0c1b2dc6b",
   "metadata": {},
   "source": [
    "## All Charts"
   ]
  },
  {
   "cell_type": "code",
   "execution_count": null,
   "id": "df795ec3-f083-4ea0-8683-b57c775eb0f4",
   "metadata": {},
   "outputs": [],
   "source": [
    "# display(section2.filtered_route(df))"
   ]
  },
  {
   "cell_type": "markdown",
   "id": "026bdcfc-92fe-4bc3-9368-81886f635804",
   "metadata": {},
   "source": [
    "## Subset df"
   ]
  },
  {
   "cell_type": "code",
   "execution_count": null,
   "id": "3e22cc57-df60-449a-b296-d2db69a27251",
   "metadata": {
    "tags": []
   },
   "outputs": [],
   "source": [
    "# Filter out to all day\n",
    "all_day = df.loc[df.Period == \"all_day\"].reset_index(drop=True)"
   ]
  },
  {
   "cell_type": "code",
   "execution_count": null,
   "id": "5c9f5d6c-187d-4938-b1b5-bc6161bd24e4",
   "metadata": {
    "tags": []
   },
   "outputs": [],
   "source": [
    "all_day.sample()"
   ]
  },
  {
   "cell_type": "markdown",
   "id": "0872492f-5377-4852-86c7-6a341d9feabb",
   "metadata": {},
   "source": [
    "### The results are really off for `Average VP per Minute`"
   ]
  },
  {
   "cell_type": "code",
   "execution_count": null,
   "id": "efcee1af-e5d2-4f66-9374-dc1154156444",
   "metadata": {
    "tags": []
   },
   "outputs": [],
   "source": [
    "def quarterly_rollup(all_day: pd.DataFrame) -> pd.DataFrame:\n",
    "    \"\"\"\n",
    "    Using the dataframe that houses only all_day values,\n",
    "    roll up months to each quarter for certain metrics.\n",
    "    \"\"\"\n",
    "    # Turn date to quarters\n",
    "    all_day[\"quarter\"] = pd.PeriodIndex(all_day.Date, freq=\"Q\").astype(\"str\")\n",
    "\n",
    "    quarterly_metrics = segment_calcs.calculate_weighted_averages(\n",
    "        df=all_day,\n",
    "        group_cols=[\n",
    "            \"quarter\",\n",
    "            \"Organization\",\n",
    "            \"Route\",\n",
    "            \"dir_0_1\",\n",
    "            \"Direction\",\n",
    "        ],\n",
    "        metric_cols=[\n",
    "            \"Average VP per Minute\",\n",
    "            \"% VP within Scheduled Shape\",\n",
    "            \"Average Scheduled Service (trip minutes)\",\n",
    "            \"ruler_100_pct\",\n",
    "            \"ruler_for_vp_per_min\",\n",
    "        ],\n",
    "        weight_col=\"# Trips with VP\",\n",
    "    )\n",
    "    return quarterly_metrics"
   ]
  },
  {
   "cell_type": "code",
   "execution_count": null,
   "id": "1ff25f20-eb83-472c-a9a7-2cead4b3da29",
   "metadata": {
    "tags": []
   },
   "outputs": [],
   "source": [
    "all_metrics_test = quarterly_rollup(all_day)"
   ]
  },
  {
   "cell_type": "markdown",
   "id": "0c274913-5f44-4d37-bafe-fde26ed19031",
   "metadata": {},
   "source": [
    "## Test charts"
   ]
  },
  {
   "cell_type": "code",
   "execution_count": null,
   "id": "15e833e8-88bd-498d-b703-61033ab12c1e",
   "metadata": {
    "tags": []
   },
   "outputs": [],
   "source": [
    "import yaml\n",
    "\n",
    "with open(\"readable.yml\") as f:\n",
    "    readable_dict = yaml.safe_load(f)"
   ]
  },
  {
   "cell_type": "code",
   "execution_count": null,
   "id": "9bbe7af5-1abc-4093-b979-3f3fa0bfe6c1",
   "metadata": {
    "tags": []
   },
   "outputs": [],
   "source": [
    "# Color Palette\n",
    "with open(\"color_palettes.yml\") as f:\n",
    "    color_dict = yaml.safe_load(f)"
   ]
  },
  {
   "cell_type": "code",
   "execution_count": null,
   "id": "7a92b658-2c2f-4e0b-8710-cf9fdc3b022d",
   "metadata": {
    "tags": []
   },
   "outputs": [],
   "source": [
    "all_metrics_test.sample(3)"
   ]
  },
  {
   "cell_type": "code",
   "execution_count": null,
   "id": "79f956f9-8eb5-4b52-a69a-813b3fa5f3e2",
   "metadata": {
    "tags": []
   },
   "outputs": [],
   "source": [
    "all_metrics_test.info()"
   ]
  },
  {
   "cell_type": "code",
   "execution_count": null,
   "id": "a6bd4fd1-154e-4334-b7e4-85f5800c5ae2",
   "metadata": {
    "tags": []
   },
   "outputs": [],
   "source": [
    "# Charts\n",
    "import altair as alt\n",
    "\n",
    "alt.data_transformers.enable(\"default\", max_rows=None)"
   ]
  },
  {
   "cell_type": "code",
   "execution_count": null,
   "id": "efd34122-d546-4faf-9cbd-f0acd9e104ad",
   "metadata": {
    "tags": []
   },
   "outputs": [],
   "source": [
    "def grouped_bar_chart(\n",
    "    df: pd.DataFrame,\n",
    "    color_col: str,\n",
    "    y_col: str,\n",
    "    offset_col: str,\n",
    "    title: str,\n",
    "    subtitle: str,\n",
    "    range_color: list,\n",
    "    quarter: bool = False,\n",
    ") -> alt.Chart:\n",
    "\n",
    "    tooltip_cols = [\n",
    "        \"Route\",\n",
    "        \"Direction\",\n",
    "        color_col,\n",
    "        y_col,\n",
    "    ]\n",
    "\n",
    "    if quarter == False:\n",
    "        # Clean dataframe\n",
    "        tooltip_cols.append(\"Period\")\n",
    "        tooltip_cols.append(\"Date\")\n",
    "        df = clean_data_charts(df, y_col)\n",
    "\n",
    "        chart = (\n",
    "            alt.Chart(df)\n",
    "            .mark_bar(size=5)\n",
    "            .encode(\n",
    "                x=alt.X(\n",
    "                    \"yearmonthdate(Date):O\",\n",
    "                    title=[\"Date\"],\n",
    "                    axis=alt.Axis(labelAngle=-45, format=\"%b %Y\"),\n",
    "                ),\n",
    "                y=alt.Y(f\"{y_col}:Q\", title=_report_utils.labeling(y_col)),\n",
    "                xOffset=alt.X(\n",
    "                    f\"{offset_col}:N\", title=_report_utils.labeling(offset_col)\n",
    "                ),\n",
    "                color=alt.Color(\n",
    "                    f\"{color_col}:N\",\n",
    "                    title=_report_utils.labeling(color_col),\n",
    "                    scale=alt.Scale(range=range_color),\n",
    "                ),\n",
    "                tooltip=tooltip_cols,\n",
    "            )\n",
    "        )\n",
    "    else:\n",
    "        tooltip_cols.append(\"quarter\")\n",
    "        chart = (\n",
    "            alt.Chart(df)\n",
    "            .mark_bar(size=5)\n",
    "            .encode(\n",
    "                x=alt.X(\n",
    "                    \"quarter\",\n",
    "                    title=[\"Quarter\"],\n",
    "                    axis=alt.Axis(labelAngle=-45),\n",
    "                ),\n",
    "                y=alt.Y(f\"{y_col}:Q\", title=_report_utils.labeling(y_col)),\n",
    "                xOffset=alt.X(\n",
    "                    f\"{offset_col}:N\", title=_report_utils.labeling(offset_col)\n",
    "                ),\n",
    "                color=alt.Color(\n",
    "                    f\"{color_col}:N\",\n",
    "                    title=_report_utils.labeling(color_col),\n",
    "                    scale=alt.Scale(range=range_color),\n",
    "                ),\n",
    "                tooltip=tooltip_cols,\n",
    "            )\n",
    "        )\n",
    "\n",
    "    chart = (chart).properties(\n",
    "        title={\n",
    "            \"text\": title,\n",
    "            \"subtitle\": [subtitle],\n",
    "        },\n",
    "        width=400,\n",
    "        height=250,\n",
    "    )\n",
    "\n",
    "    return chart"
   ]
  },
  {
   "cell_type": "code",
   "execution_count": null,
   "id": "c0c230b3-d680-4b70-8bc7-baae527443a7",
   "metadata": {
    "tags": []
   },
   "outputs": [],
   "source": [
    "all_metrics_test.columns"
   ]
  },
  {
   "cell_type": "code",
   "execution_count": null,
   "id": "ecdd25bc-f62f-4b50-b285-b98aae2dc10a",
   "metadata": {
    "tags": []
   },
   "outputs": [],
   "source": [
    "# Create dropdown\n",
    "routes_list = all_metrics_test[\"Route\"].unique().tolist()\n",
    "\n",
    "route_dropdown = alt.binding_select(\n",
    "    options=routes_list,\n",
    "    name=\"Routes: \",\n",
    ")\n",
    "# Column that controls the bar charts\n",
    "xcol_param = alt.selection_point(\n",
    "    fields=[\"Route\"], value=routes_list[0], bind=route_dropdown\n",
    ")"
   ]
  },
  {
   "cell_type": "markdown",
   "id": "e78e8b1e-33b6-4eb6-9baa-8477c7245a99",
   "metadata": {},
   "source": [
    "### Average Scheduled Service (trip minutes)"
   ]
  },
  {
   "cell_type": "code",
   "execution_count": null,
   "id": "3f0ad460-9e56-4f78-8e8e-19cdc3ced697",
   "metadata": {
    "tags": []
   },
   "outputs": [],
   "source": [
    "(\n",
    "    grouped_bar_chart(\n",
    "        df=all_metrics_test,\n",
    "        color_col=\"Direction\",\n",
    "        y_col=\"Average Scheduled Service (trip minutes)\",\n",
    "        offset_col=\"Direction\",\n",
    "        title=readable_dict[\"avg_scheduled_min_graph\"][\"title\"],\n",
    "        subtitle=readable_dict[\"avg_scheduled_min_graph\"][\"subtitle\"],\n",
    "        range_color=color_dict[\"four_colors\"],\n",
    "        quarter=True,\n",
    "    )\n",
    ").add_params(xcol_param).transform_filter(xcol_param)"
   ]
  },
  {
   "cell_type": "markdown",
   "id": "9e80e1fe-b1d7-415f-bf11-ed4507e22346",
   "metadata": {},
   "source": [
    "### % VP within Scheduled Shape"
   ]
  },
  {
   "cell_type": "code",
   "execution_count": null,
   "id": "f4685418-d4ac-4d5b-8192-928d618af8cf",
   "metadata": {
    "tags": []
   },
   "outputs": [],
   "source": [
    "def base_facet_with_ruler_chart(\n",
    "    df: pd.DataFrame,\n",
    "    y_col: str,\n",
    "    ruler_col: str,\n",
    "    title: str,\n",
    "    subtitle: str,\n",
    "    domain_color: list,\n",
    "    range_color: list,\n",
    "    quarter: bool = False,\n",
    ") -> alt.Chart:\n",
    "\n",
    "    tooltip_cols = [\n",
    "        \"Route\",\n",
    "        \"Direction\",\n",
    "        y_col,\n",
    "    ]\n",
    "\n",
    "    # Set y-axis\n",
    "    max_y = section2.set_y_axis(df, y_col)\n",
    "\n",
    "    # Clean dataframe\n",
    "    df = section2.clean_data_charts(df, y_col)\n",
    "\n",
    "    # Create color scale\n",
    "    color_scale = alt.Scale(domain=domain_color, range=range_color)\n",
    "\n",
    "    # Create ruler\n",
    "    ruler = (\n",
    "        alt.Chart(df)\n",
    "        .mark_rule(color=\"red\", strokeDash=[10, 7])\n",
    "        .encode(y=f\"mean({ruler_col}):Q\")\n",
    "    )\n",
    "    if quarter == False:\n",
    "        tooltip_cols.append(\"Period\")\n",
    "        tooltip_cols.append(\"Date\")\n",
    "        chart = (\n",
    "            alt.Chart(df)\n",
    "            .mark_bar(size=7, clip=True)\n",
    "            .encode(\n",
    "                x=alt.X(\n",
    "                    \"yearmonthdate(Date):O\",\n",
    "                    title=[x_col],\n",
    "                    axis=alt.Axis(labelAngle=-45, format=\"%b %Y\"),\n",
    "                ),\n",
    "                y=alt.Y(\n",
    "                    f\"{y_col}:Q\",\n",
    "                    title=_report_utils.labeling(y_col),\n",
    "                    scale=alt.Scale(domain=[0, max_y]),\n",
    "                ),\n",
    "                color=alt.Color(\n",
    "                    f\"{y_col}:Q\",\n",
    "                    title=_report_utils.labeling(y_col),\n",
    "                    scale=color_scale,\n",
    "                ),\n",
    "                tooltip=df[tooltip_cols].columns.tolist(),\n",
    "            )\n",
    "        )\n",
    "    else:\n",
    "        tooltip_cols.append(\"quarter\")\n",
    "        chart = (\n",
    "            alt.Chart(df)\n",
    "            .mark_bar(size=7, clip=True)\n",
    "            .encode(\n",
    "                x=alt.X(\n",
    "                    \"quarter\",\n",
    "                    title=\"Quarter\",\n",
    "                    axis=alt.Axis(labelAngle=-45),\n",
    "                ),\n",
    "                y=alt.Y(\n",
    "                    f\"{y_col}:Q\",\n",
    "                    title=_report_utils.labeling(y_col),\n",
    "                    scale=alt.Scale(domain=[0, max_y]),\n",
    "                ),\n",
    "                color=alt.Color(\n",
    "                    f\"{y_col}:Q\",\n",
    "                    title=_report_utils.labeling(y_col),\n",
    "                    scale=color_scale,\n",
    "                ),\n",
    "                tooltip=df[tooltip_cols].columns.tolist(),\n",
    "            )\n",
    "        )\n",
    "    # All charts\n",
    "    chart = (chart + ruler).properties(width=200, height=250)\n",
    "    chart = chart.facet(\n",
    "        column=alt.Column(\n",
    "            \"Direction:N\",\n",
    "        )\n",
    "    ).properties(\n",
    "        title={\n",
    "            \"text\": title,\n",
    "            \"subtitle\": [subtitle],\n",
    "        }\n",
    "    )\n",
    "\n",
    "    return chart"
   ]
  },
  {
   "cell_type": "code",
   "execution_count": null,
   "id": "1be9049a-2d1f-44ee-8529-c02ec0435a10",
   "metadata": {
    "tags": []
   },
   "outputs": [],
   "source": [
    "color_dict[\"spatial_accuracy_range\"]"
   ]
  },
  {
   "cell_type": "code",
   "execution_count": null,
   "id": "b203174a-45db-4d3a-af59-df6a9f2801ed",
   "metadata": {
    "tags": []
   },
   "outputs": [],
   "source": [
    "base_facet_with_ruler_chart(\n",
    "    df=all_metrics_test,\n",
    "    y_col=\"% VP within Scheduled Shape\",\n",
    "    ruler_col=\"ruler_100_pct\",\n",
    "    title=readable_dict[\"spatial_accuracy_graph\"][\"title\"],\n",
    "    subtitle=readable_dict[\"spatial_accuracy_graph\"][\"subtitle\"],\n",
    "    domain_color=color_dict[\"spatial_accuracy_domain\"],\n",
    "    range_color=color_dict[\"spatial_accuracy_range\"],\n",
    "    quarter=True,\n",
    ").add_params(xcol_param).transform_filter(xcol_param)"
   ]
  },
  {
   "cell_type": "markdown",
   "id": "3f50e7df-82e9-40e9-be03-4cc552160593",
   "metadata": {},
   "source": [
    "### Average VP per Minute"
   ]
  },
  {
   "cell_type": "code",
   "execution_count": null,
   "id": "2f51b651-20c3-4bf1-a5c9-c34f38306c53",
   "metadata": {
    "tags": []
   },
   "outputs": [],
   "source": [
    "(\n",
    "    (\n",
    "        base_facet_with_ruler_chart(\n",
    "            all_metrics_test,\n",
    "            \"Average VP per Minute\",\n",
    "            \"ruler_for_vp_per_min\",\n",
    "            readable_dict[\"vp_per_min_graph\"][\"title\"],\n",
    "            readable_dict[\"vp_per_min_graph\"][\"subtitle\"],\n",
    "            color_dict[\"vp_domain\"],\n",
    "            color_dict[\"vp_range\"],\n",
    "            quarter=True,\n",
    "        )\n",
    "    )\n",
    "    .add_params(xcol_param)\n",
    "    .transform_filter(xcol_param)\n",
    ")"
   ]
  },
  {
   "cell_type": "code",
   "execution_count": null,
   "id": "0c79c60f-331f-4638-8a29-6d136d0aa485",
   "metadata": {
    "tags": []
   },
   "outputs": [],
   "source": [
    "all_metrics_test.loc[\n",
    "    (all_metrics_test.Organization == \"San Diego Metropolitan Transit System\")\n",
    "    & (all_metrics_test[\"Route\"] == \"1 Fashion Valley - La Mesa\")\n",
    "    & (all_metrics_test.quarter == \"2023Q3\")\n",
    "]"
   ]
  },
  {
   "cell_type": "markdown",
   "id": "e4870752-c852-42e6-9d55-2d6c8cbe90f4",
   "metadata": {},
   "source": [
    "### % of Scheduled Trip Journey chart is messed up due to the rulers"
   ]
  },
  {
   "cell_type": "code",
   "execution_count": null,
   "id": "38756375-fc59-4e9d-b066-2299fd1bf57a",
   "metadata": {
    "tags": []
   },
   "outputs": [],
   "source": [
    "df.head(1)"
   ]
  },
  {
   "cell_type": "code",
   "execution_count": null,
   "id": "d44e38f1-066a-461d-977f-899717a05b8b",
   "metadata": {
    "tags": []
   },
   "outputs": [],
   "source": [
    "sched_journey_vp = section2.pct_vp_journey(\n",
    "    all_day,\n",
    "    \"% Scheduled Trip w/ 1+ VP/Minute\",\n",
    "    \"% Scheduled Trip w/ 2+ VP/Minute\",\n",
    ")"
   ]
  },
  {
   "cell_type": "code",
   "execution_count": null,
   "id": "310cb7e2-1aee-47fe-a41e-b4d11556c055",
   "metadata": {
    "tags": []
   },
   "outputs": [],
   "source": [
    "sched_journey_vp.shape"
   ]
  },
  {
   "cell_type": "code",
   "execution_count": null,
   "id": "1f67801b-d88a-429b-bdb4-58777f6b3fa3",
   "metadata": {
    "tags": []
   },
   "outputs": [],
   "source": [
    "sched_journey_vp.ruler_100_pct.describe()"
   ]
  },
  {
   "cell_type": "code",
   "execution_count": null,
   "id": "588ce24d-3c48-43f6-bb82-9ed2ed101a63",
   "metadata": {
    "tags": []
   },
   "outputs": [],
   "source": [
    "sched_journey_vp.head(1)"
   ]
  },
  {
   "cell_type": "code",
   "execution_count": null,
   "id": "2205ec00-0a35-43ad-855c-2a20aaadb294",
   "metadata": {},
   "outputs": [],
   "source": [
    "(\n",
    "    section2.base_facet_circle(\n",
    "        sched_journey_vp,\n",
    "        \"% of Actual Trip Minutes\",\n",
    "        \"Category\",\n",
    "        \"ruler_100_pct\",\n",
    "        readable_dict[\"sched_vp_per_min_graph\"][\"title\"],\n",
    "        readable_dict[\"sched_vp_per_min_graph\"][\"subtitle\"],\n",
    "        color_dict[\"tri_color\"],\n",
    "    )\n",
    "    .add_params(xcol_param)\n",
    "    .transform_filter(xcol_param)\n",
    ")"
   ]
  },
  {
   "cell_type": "markdown",
   "id": "938e498e-f783-475d-ae5d-436de44a2484",
   "metadata": {},
   "source": [
    "### Change Total Scheduled Trips -> the graph is cutting off in a strange fashion."
   ]
  },
  {
   "cell_type": "code",
   "execution_count": null,
   "id": "50dc4272-2430-4f20-975c-c9ded24dfca3",
   "metadata": {
    "tags": []
   },
   "outputs": [],
   "source": [
    "peak_offpeak_df = df.loc[df[\"Period\"] != \"all_day\"].reset_index(drop=True)"
   ]
  },
  {
   "cell_type": "code",
   "execution_count": null,
   "id": "fe03646e-0251-479f-b926-9affdc4e9b14",
   "metadata": {
    "tags": []
   },
   "outputs": [],
   "source": [
    "def rollup_schd_qtr(peak_offpeak_df: pd.DataFrame) -> pd.DataFrame:\n",
    "    \"\"\"\n",
    "    Roll up # Scheduled Trips to be on a quarterly basis\n",
    "    since this metric doesn't change very often.\n",
    "    \"\"\"\n",
    "    # Aggregate\n",
    "    agg1 = (\n",
    "        peak_offpeak_df.groupby(\n",
    "            [\"quarter\", \"Period\", \"Organization\", \"Route\", \"dir_0_1\", \"Direction\"]\n",
    "        )\n",
    "        .agg({\"Date\": \"nunique\", \"# scheduled trips\": \"sum\"})\n",
    "        .reset_index()\n",
    "    )\n",
    "\n",
    "    # If a quarter is complete with all 3 months, divide by 3\n",
    "    agg1.loc[agg1[\"Date\"] == 3, \"# scheduled trips\"] = (\n",
    "        agg1.loc[agg1[\"Date\"] == 3, \"# scheduled trips\"] / 3\n",
    "    )\n",
    "\n",
    "    # If a quarter is incomplete with only 2 months, divide by 2\n",
    "    agg1.loc[agg1[\"Date\"] == 2, \"# scheduled trips\"] = (\n",
    "        agg1.loc[agg1[\"Date\"] == 2, \"# scheduled trips\"] / 2\n",
    "    )\n",
    "    return agg1"
   ]
  },
  {
   "cell_type": "code",
   "execution_count": null,
   "id": "154fcb54-427b-49ee-96cb-a414dc1fee67",
   "metadata": {
    "tags": []
   },
   "outputs": [],
   "source": [
    "total_scheduled_trips = rollup_schd_qtr(peak_offpeak_df)"
   ]
  },
  {
   "cell_type": "code",
   "execution_count": null,
   "id": "55205912-a372-40be-8450-115770f83fd6",
   "metadata": {
    "tags": []
   },
   "outputs": [],
   "source": [
    "(\n",
    "    section2.grouped_bar_chart(\n",
    "        total_scheduled_trips.loc[(total_scheduled_trips.dir_0_1 == 0)],\n",
    "        color_col=\"Period\",\n",
    "        y_col=\"# scheduled trips\",\n",
    "        offset_col=\"Period\",\n",
    "        title=readable_dict[\"trips_per_day_graph\"][\"title\"],\n",
    "        subtitle=\"\",\n",
    "        range_color=color_dict[\"spatial_accuracy_range\"],\n",
    "        quarter=True,\n",
    "    )\n",
    "    .add_params(xcol_param)\n",
    "    .transform_filter(xcol_param)\n",
    ")"
   ]
  },
  {
   "cell_type": "code",
   "execution_count": null,
   "id": "2b584248-6ef7-49e8-8fc8-c4227656d654",
   "metadata": {
    "tags": []
   },
   "outputs": [],
   "source": [
    "total_scheduled_trips.head(1)"
   ]
  },
  {
   "cell_type": "code",
   "execution_count": null,
   "id": "4e01e5be-2dc7-4563-bcd6-9da2c1c45def",
   "metadata": {
    "tags": []
   },
   "outputs": [],
   "source": [
    "def stacked_bar_chart(\n",
    "    df: pd.DataFrame,\n",
    "    y_col: str,\n",
    "    color_col: str,\n",
    "    title: str,\n",
    "    subtitle: str,\n",
    "    range_color: list,\n",
    "    quarter: bool = False,\n",
    ") -> alt.Chart:\n",
    "    tooltip_cols = [\n",
    "        \"Route\",\n",
    "        \"Direction\",\n",
    "        y_col,\n",
    "    ]\n",
    "\n",
    "    # Set y-axis\n",
    "    max_y = section2.set_y_axis(df, y_col)\n",
    "\n",
    "    # Clean dataframe\n",
    "    df = section2.clean_data_charts(df, y_col)\n",
    "\n",
    "    if quarter == False:\n",
    "        tooltip_cols.append(\"Period\")\n",
    "        tooltip_cols.append(\"Date\")\n",
    "        chart = (\n",
    "            alt.Chart(df)\n",
    "            .mark_bar(size=7, clip=True)\n",
    "            .encode(\n",
    "                x=alt.X(\n",
    "                    \"yearmonthdate(Date):O\",\n",
    "                    title=[\"Date\"],\n",
    "                    axis=alt.Axis(labelAngle=-45, format=\"%b %Y\"),\n",
    "                ),\n",
    "                y=alt.Y(\n",
    "                    f\"{y_col}:Q\",\n",
    "                    title=_report_utils.labeling(y_col),\n",
    "                    scale=alt.Scale(domain=[0, max_y]),\n",
    "                ),\n",
    "                color=alt.Color(\n",
    "                    f\"{color_col}:N\",\n",
    "                    title=_report_utils.labeling(color_col),\n",
    "                    scale=alt.Scale(range=color_dict[\"four_colors\"]),\n",
    "                ),\n",
    "                tooltip=tooltip_cols,\n",
    "            )\n",
    "        )\n",
    "\n",
    "    else:\n",
    "        tooltip_cols.append(\"quarter\")\n",
    "        chart = (\n",
    "            alt.Chart(df)\n",
    "            .mark_bar(size=7, clip=True)\n",
    "            .encode(\n",
    "                x=alt.X(\n",
    "                    \"quarter\",\n",
    "                    title=[\"Quarter\"],\n",
    "                    axis=alt.Axis(labelAngle=-45),\n",
    "                ),\n",
    "                y=alt.Y(\n",
    "                    f\"{y_col}:Q\",\n",
    "                    title=_report_utils.labeling(y_col),\n",
    "                    scale=alt.Scale(domain=[0, max_y]),\n",
    "                ),\n",
    "                color=alt.Color(\n",
    "                    f\"{color_col}:N\",\n",
    "                    title=_report_utils.labeling(color_col),\n",
    "                    scale=alt.Scale(range=color_dict[\"four_colors\"]),\n",
    "                ),\n",
    "                tooltip=tooltip_cols,\n",
    "            )\n",
    "        )\n",
    "\n",
    "    chart = chart.properties(width=200, height=250)\n",
    "\n",
    "    # Facet the chart\n",
    "    chart = chart.properties(\n",
    "        title={\n",
    "            \"text\": title,\n",
    "            \"subtitle\": subtitle,\n",
    "        }\n",
    "    )\n",
    "\n",
    "    return chart"
   ]
  },
  {
   "cell_type": "code",
   "execution_count": null,
   "id": "84912893-5ea6-419a-9565-dd54f6860f1d",
   "metadata": {
    "tags": []
   },
   "outputs": [],
   "source": [
    "stacked_bar_chart(\n",
    "    df=total_scheduled_trips.loc[total_scheduled_trips.dir_0_1 == 0],\n",
    "    y_col=\"# scheduled trips\",\n",
    "    color_col=\"Period\",\n",
    "    title=\"\",\n",
    "    subtitle=\"\",\n",
    "    range_color=color_dict[\"four_colors\"],\n",
    "    quarter=True,\n",
    ").add_params(xcol_param).transform_filter(xcol_param)"
   ]
  },
  {
   "cell_type": "code",
   "execution_count": null,
   "id": "22725c27-72d6-497d-abe9-8194ff06c91e",
   "metadata": {
    "tags": []
   },
   "outputs": [],
   "source": [
    "(\n",
    "    alt.Chart(total_scheduled_trips.loc[total_scheduled_trips.dir_0_1 == 0])\n",
    "    .mark_bar(size=7, clip=True)\n",
    "    .encode(\n",
    "        x=alt.X(\n",
    "            \"quarter\",\n",
    "            title=[\"quarter\"],\n",
    "            axis=alt.Axis(labelAngle=-45),\n",
    "        ),\n",
    "        y=alt.Y(\n",
    "            \"# scheduled trips:Q\",\n",
    "            title=_report_utils.labeling(\n",
    "                \"# scheduled trips\",\n",
    "            ),\n",
    "            scale=alt.Scale(domain=[0, 100]),\n",
    "        ),\n",
    "        color=alt.Color(\n",
    "            \"Period:N\",\n",
    "            title=_report_utils.labeling(\"Period\"),\n",
    "            scale=alt.Scale(range=color_dict[\"four_colors\"]),\n",
    "        ),\n",
    "        tooltip=list(total_scheduled_trips.columns),\n",
    "    )\n",
    ").add_params(xcol_param).transform_filter(xcol_param)"
   ]
  },
  {
   "cell_type": "code",
   "execution_count": null,
   "id": "f2bedc09-3b55-4233-a230-aaac72242680",
   "metadata": {
    "tags": []
   },
   "outputs": [],
   "source": [
    "(\n",
    "    (\n",
    "        section2.base_facet_chart(\n",
    "            df=total_scheduled_trips,\n",
    "            direction_to_filter=0,\n",
    "            y_col=\"# scheduled trips\",\n",
    "            color_col=\"Period\",\n",
    "            facet_col=\"Period\",\n",
    "            title=readable_dict[\"trips_per_day_graph\"][\"title\"],\n",
    "            subtitle=\"\",\n",
    "            range_color=color_dict[\"four_colors\"],\n",
    "        )\n",
    "    )\n",
    "    .add_params(xcol_param)\n",
    "    .transform_filter(xcol_param)\n",
    ")"
   ]
  },
  {
   "cell_type": "code",
   "execution_count": null,
   "id": "2eaa144f-c137-471a-9a14-9014cc4f8e74",
   "metadata": {
    "tags": []
   },
   "outputs": [],
   "source": [
    "# Peak East bound\n",
    "23 + 23 + 23"
   ]
  },
  {
   "cell_type": "markdown",
   "id": "54232273-0402-4aca-a578-9f9340d98110",
   "metadata": {},
   "source": [
    "## Turn off group keys for the `segment_calcs.calculate_weighted_averages` function\n",
    "* This didn't work at all. "
   ]
  },
  {
   "cell_type": "code",
   "execution_count": null,
   "id": "1ea157b9-d24a-4dbd-8223-5b6a36b30ede",
   "metadata": {
    "tags": []
   },
   "outputs": [],
   "source": [
    "def calculate_weighted_averages(\n",
    "    df: pd.DataFrame, group_cols: list, metric_cols: list, weight_col: str\n",
    "):\n",
    "    \"\"\"\n",
    "    For certain aggregations, we need to calculate a weighted average,\n",
    "    weighted by the number of trips.\n",
    "\n",
    "    If we want peak/offpeak weighted calculations,\n",
    "    we can take time-of-day (AM peak, PM peak) and\n",
    "    get a peak speed calculation, after weighting by the number\n",
    "    of trips present in each time-of-day bin.\n",
    "\n",
    "    Ex: metric_cols = ['p20_mph', 'p50_mph', 'p80_mph']\n",
    "    weight_cols = 'n_trips'\n",
    "\n",
    "    \"\"\"\n",
    "    for c in metric_cols:\n",
    "        df[c] = df[c] * df[weight_col]\n",
    "\n",
    "    df2 = (\n",
    "        df.groupby(group_cols)\n",
    "        .agg({c: \"sum\" for c in metric_cols + [weight_col]})\n",
    "        .reset_index()\n",
    "    )\n",
    "\n",
    "    for c in metric_cols:\n",
    "        df2[c] = df2[c].divide(df2[weight_col]).round(2)\n",
    "\n",
    "    return df2"
   ]
  },
  {
   "cell_type": "code",
   "execution_count": null,
   "id": "056bbb9a-1939-43b5-856c-56e535497d90",
   "metadata": {
    "tags": []
   },
   "outputs": [],
   "source": [
    "all_metrics_test2 = calculate_weighted_averages(\n",
    "    df=all_day,\n",
    "    group_cols=[\n",
    "        \"quarter\",\n",
    "        \"Organization\",\n",
    "        \"schedule_gtfs_dataset_key\",\n",
    "        \"Route ID\",\n",
    "        \"dir_0_1\",\n",
    "        \"Direction\",\n",
    "    ],\n",
    "    metric_cols=[\n",
    "        \"Average VP per Minute\",\n",
    "        \"% VP within Scheduled Shape\",\n",
    "        \"Average Scheduled Service (trip minutes)\",\n",
    "    ],\n",
    "    weight_col=\"# Trips with VP\",\n",
    ")"
   ]
  },
  {
   "cell_type": "code",
   "execution_count": null,
   "id": "16985d31-d915-4075-97dd-cd14b20652ed",
   "metadata": {
    "tags": []
   },
   "outputs": [],
   "source": [
    "all_metrics_test2.loc[\n",
    "    (all_metrics_test2.Organization == \"San Diego Metropolitan Transit System\")\n",
    "    & (all_metrics_test2[\"Route ID\"] == \"1\")\n",
    "    & (all_metrics_test2.quarter == \"2023Q2\")\n",
    "    & (all_metrics_test2.Direction == \"Eastbound\")\n",
    "]"
   ]
  },
  {
   "cell_type": "code",
   "execution_count": null,
   "id": "6b50262f-2ea4-46d3-b6e1-9ebffd8c5a48",
   "metadata": {},
   "outputs": [],
   "source": []
  }
 ],
 "metadata": {
  "kernelspec": {
   "display_name": "Python 3 (ipykernel)",
   "language": "python",
   "name": "python3"
  },
  "language_info": {
   "codemirror_mode": {
    "name": "ipython",
    "version": 3
   },
   "file_extension": ".py",
   "mimetype": "text/x-python",
   "name": "python",
   "nbconvert_exporter": "python",
   "pygments_lexer": "ipython3",
   "version": "3.11.10"
  }
 },
 "nbformat": 4,
 "nbformat_minor": 5
}
