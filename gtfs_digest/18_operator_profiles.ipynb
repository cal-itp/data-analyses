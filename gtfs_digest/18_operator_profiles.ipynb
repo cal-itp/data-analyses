{
 "cells": [
  {
   "cell_type": "markdown",
   "id": "f1e390d3-cb3f-438e-a007-5a9a4c8e691d",
   "metadata": {},
   "source": [
    "## Double checking `routes` in `operator profile`\n",
    "* [File that I'm checking](https://github.com/cal-itp/data-analyses/blob/56e8bc08327e44b591ce21e95a331fad462ad828/gtfs_digest/merge_operator_data.py#L109)\n",
    "* Looking at BART, there are 12 unique routes for April 2024. However, they only seem to have 6 routes."
   ]
  },
  {
   "cell_type": "code",
   "execution_count": 10,
   "id": "f400745f-67f3-4c21-97fb-3951729515ba",
   "metadata": {},
   "outputs": [],
   "source": [
    "import geopandas as gpd\n",
    "import pandas as pd\n",
    "\n",
    "from calitp_data_analysis import utils\n",
    "from segment_speed_utils import time_series_utils,  gtfs_schedule_wrangling, helpers\n",
    "\n",
    "from update_vars import GTFS_DATA_DICT, SCHED_GCS, RT_SCHED_GCS"
   ]
  },
  {
   "cell_type": "code",
   "execution_count": 2,
   "id": "2dd85c1f-3f94-4e55-98a6-ce3b17283eda",
   "metadata": {},
   "outputs": [],
   "source": [
    "from merge_data import merge_in_standardized_route_names"
   ]
  },
  {
   "cell_type": "code",
   "execution_count": 3,
   "id": "3a382a4f-54c0-4708-895b-19148a4bd911",
   "metadata": {},
   "outputs": [],
   "source": [
    "from shared_utils import rt_dates\n",
    "analysis_date_list = rt_dates.y2024_dates + rt_dates.y2023_dates "
   ]
  },
  {
   "cell_type": "code",
   "execution_count": 5,
   "id": "1a21238a-6c3f-40f7-95ba-f0fb1c4f730c",
   "metadata": {},
   "outputs": [],
   "source": [
    "analysis_date_list = analysis_date_list[0:3]"
   ]
  },
  {
   "cell_type": "code",
   "execution_count": 7,
   "id": "7cb14da8-29ee-4f69-b852-46d4f5532fc1",
   "metadata": {},
   "outputs": [],
   "source": [
    "analysis_date = analysis_date_list[0]"
   ]
  },
  {
   "cell_type": "code",
   "execution_count": 26,
   "id": "43bd6962-787c-492c-a8b6-9c77ec2d352b",
   "metadata": {},
   "outputs": [
    {
     "data": {
      "text/plain": [
       "'2024-01-17'"
      ]
     },
     "execution_count": 26,
     "metadata": {},
     "output_type": "execute_result"
    }
   ],
   "source": [
    "analysis_date"
   ]
  },
  {
   "cell_type": "markdown",
   "id": "e2531386-d083-461a-b4b4-a2f6cdda8c8f",
   "metadata": {},
   "source": [
    "### `concatenate_operator_stats`\n",
    "* This just takes a list of files and concats them all together."
   ]
  },
  {
   "cell_type": "code",
   "execution_count": 6,
   "id": "0e47f893-599b-43d5-baf7-21948e77f1d0",
   "metadata": {},
   "outputs": [],
   "source": [
    "def concatenate_operator_stats(\n",
    "    date_list: list\n",
    ") -> pd.DataFrame:\n",
    "    FILE = GTFS_DATA_DICT.schedule_tables.operator_scheduled_stats\n",
    "    \n",
    "    df = time_series_utils.concatenate_datasets_across_dates(\n",
    "        SCHED_GCS,\n",
    "        FILE,\n",
    "        date_list,\n",
    "        data_type = \"df\",\n",
    "    ).sort_values(sort_cols).reset_index(drop=True)\n",
    "    \n",
    "    return df"
   ]
  },
  {
   "cell_type": "markdown",
   "id": "d55e32dc-f3c0-4b8b-83f8-434b1102f120",
   "metadata": {},
   "source": [
    "### `operator_scheduled_stats`\n",
    "[Here](https://github.com/cal-itp/data-analyses/blob/56e8bc08327e44b591ce21e95a331fad462ad828/gtfs_funnel/operator_scheduled_stats.py)"
   ]
  },
  {
   "cell_type": "markdown",
   "id": "476c4bed-55bd-41ab-9177-50c3688fe958",
   "metadata": {},
   "source": [
    "#### `schedule_stats_by_operator`"
   ]
  },
  {
   "cell_type": "code",
   "execution_count": 16,
   "id": "2efc3d1d-f3c0-42e6-b974-0bcdee5c1eeb",
   "metadata": {},
   "outputs": [],
   "source": [
    "bart = \"San Francisco Bay Area Rapid Transit District\""
   ]
  },
  {
   "cell_type": "code",
   "execution_count": 18,
   "id": "3b1a9df7-0f92-4ca3-9c69-bbd915e48713",
   "metadata": {},
   "outputs": [],
   "source": [
    "op_profiles_url = f\"{GTFS_DATA_DICT.digest_tables.dir}{GTFS_DATA_DICT.digest_tables.operator_profiles}.parquet\""
   ]
  },
  {
   "cell_type": "code",
   "execution_count": 19,
   "id": "d42d2022-7dc3-4bdf-95ed-61b95ab0b58e",
   "metadata": {},
   "outputs": [],
   "source": [
    "bart_df = pd.read_parquet(\n",
    "    op_profiles_url,\n",
    "    filters=[[(\"organization_name\", \"==\", bart)]])"
   ]
  },
  {
   "cell_type": "code",
   "execution_count": 21,
   "id": "35a185dd-f3df-4bb9-912e-bb93c41a59ca",
   "metadata": {},
   "outputs": [
    {
     "data": {
      "text/html": [
       "<div>\n",
       "<style scoped>\n",
       "    .dataframe tbody tr th:only-of-type {\n",
       "        vertical-align: middle;\n",
       "    }\n",
       "\n",
       "    .dataframe tbody tr th {\n",
       "        vertical-align: top;\n",
       "    }\n",
       "\n",
       "    .dataframe thead th {\n",
       "        text-align: right;\n",
       "    }\n",
       "</style>\n",
       "<table border=\"1\" class=\"dataframe\">\n",
       "  <thead>\n",
       "    <tr style=\"text-align: right;\">\n",
       "      <th></th>\n",
       "      <th>schedule_gtfs_dataset_key</th>\n",
       "      <th>operator_n_routes</th>\n",
       "      <th>operator_n_trips</th>\n",
       "      <th>operator_n_shapes</th>\n",
       "      <th>operator_n_stops</th>\n",
       "      <th>operator_n_arrivals</th>\n",
       "      <th>operator_route_length_miles</th>\n",
       "      <th>operator_arrivals_per_stop</th>\n",
       "      <th>n_downtown_local_routes</th>\n",
       "      <th>n_local_routes</th>\n",
       "      <th>n_coverage_routes</th>\n",
       "      <th>n_rapid_routes</th>\n",
       "      <th>n_express_routes</th>\n",
       "      <th>n_rail_routes</th>\n",
       "      <th>name</th>\n",
       "      <th>organization_source_record_id</th>\n",
       "      <th>organization_name</th>\n",
       "      <th>service_date</th>\n",
       "    </tr>\n",
       "  </thead>\n",
       "  <tbody>\n",
       "    <tr>\n",
       "      <th>0</th>\n",
       "      <td>8a1405af8da1379acc062e346187ac98</td>\n",
       "      <td>12</td>\n",
       "      <td>1025</td>\n",
       "      <td>22</td>\n",
       "      <td>50</td>\n",
       "      <td>15475</td>\n",
       "      <td>492.84</td>\n",
       "      <td>309.5</td>\n",
       "      <td>10</td>\n",
       "      <td>0</td>\n",
       "      <td>0</td>\n",
       "      <td>0</td>\n",
       "      <td>0</td>\n",
       "      <td>10</td>\n",
       "      <td>Bay Area 511 BART Schedule</td>\n",
       "      <td>recoQLeNRISCKF8I0</td>\n",
       "      <td>San Francisco Bay Area Rapid Transit District</td>\n",
       "      <td>2023-03-15</td>\n",
       "    </tr>\n",
       "  </tbody>\n",
       "</table>\n",
       "</div>"
      ],
      "text/plain": [
       "          schedule_gtfs_dataset_key  operator_n_routes  operator_n_trips  \\\n",
       "0  8a1405af8da1379acc062e346187ac98                 12              1025   \n",
       "\n",
       "   operator_n_shapes  operator_n_stops  operator_n_arrivals  \\\n",
       "0                 22                50                15475   \n",
       "\n",
       "   operator_route_length_miles  operator_arrivals_per_stop  \\\n",
       "0                       492.84                       309.5   \n",
       "\n",
       "   n_downtown_local_routes  n_local_routes  n_coverage_routes  n_rapid_routes  \\\n",
       "0                       10               0                  0               0   \n",
       "\n",
       "   n_express_routes  n_rail_routes                        name  \\\n",
       "0                 0             10  Bay Area 511 BART Schedule   \n",
       "\n",
       "  organization_source_record_id  \\\n",
       "0             recoQLeNRISCKF8I0   \n",
       "\n",
       "                               organization_name service_date  \n",
       "0  San Francisco Bay Area Rapid Transit District   2023-03-15  "
      ]
     },
     "execution_count": 21,
     "metadata": {},
     "output_type": "execute_result"
    }
   ],
   "source": [
    "bart_df.head(1)"
   ]
  },
  {
   "cell_type": "code",
   "execution_count": 22,
   "id": "0b558e92-7d64-4629-bb58-eec9a406938e",
   "metadata": {},
   "outputs": [
    {
     "data": {
      "text/plain": [
       "1"
      ]
     },
     "execution_count": 22,
     "metadata": {},
     "output_type": "execute_result"
    }
   ],
   "source": [
    "bart_df.schedule_gtfs_dataset_key.nunique()"
   ]
  },
  {
   "cell_type": "code",
   "execution_count": 28,
   "id": "69ce3cfc-0b96-46ee-9e55-431eee41f04b",
   "metadata": {},
   "outputs": [
    {
     "data": {
      "text/plain": [
       "array(['2023-03-15T00:00:00.000000000', '2023-04-12T00:00:00.000000000',\n",
       "       '2023-05-17T00:00:00.000000000', '2023-06-14T00:00:00.000000000',\n",
       "       '2023-07-12T00:00:00.000000000', '2023-08-15T00:00:00.000000000',\n",
       "       '2023-09-13T00:00:00.000000000', '2023-10-11T00:00:00.000000000',\n",
       "       '2023-11-15T00:00:00.000000000', '2023-12-13T00:00:00.000000000',\n",
       "       '2024-01-17T00:00:00.000000000', '2024-02-14T00:00:00.000000000',\n",
       "       '2024-03-13T00:00:00.000000000', '2024-04-17T00:00:00.000000000'],\n",
       "      dtype='datetime64[ns]')"
      ]
     },
     "execution_count": 28,
     "metadata": {},
     "output_type": "execute_result"
    }
   ],
   "source": [
    "bart_df.service_date.unique()"
   ]
  },
  {
   "cell_type": "code",
   "execution_count": 29,
   "id": "3b06d026-bd15-4f1a-885b-461482ca8d6d",
   "metadata": {},
   "outputs": [
    {
     "data": {
      "text/html": [
       "<div>\n",
       "<style scoped>\n",
       "    .dataframe tbody tr th:only-of-type {\n",
       "        vertical-align: middle;\n",
       "    }\n",
       "\n",
       "    .dataframe tbody tr th {\n",
       "        vertical-align: top;\n",
       "    }\n",
       "\n",
       "    .dataframe thead th {\n",
       "        text-align: right;\n",
       "    }\n",
       "</style>\n",
       "<table border=\"1\" class=\"dataframe\">\n",
       "  <thead>\n",
       "    <tr style=\"text-align: right;\">\n",
       "      <th></th>\n",
       "      <th>schedule_gtfs_dataset_key</th>\n",
       "      <th>operator_n_routes</th>\n",
       "      <th>operator_n_trips</th>\n",
       "      <th>operator_n_shapes</th>\n",
       "      <th>operator_n_stops</th>\n",
       "      <th>operator_n_arrivals</th>\n",
       "      <th>operator_route_length_miles</th>\n",
       "      <th>operator_arrivals_per_stop</th>\n",
       "      <th>n_downtown_local_routes</th>\n",
       "      <th>n_local_routes</th>\n",
       "      <th>n_coverage_routes</th>\n",
       "      <th>n_rapid_routes</th>\n",
       "      <th>n_express_routes</th>\n",
       "      <th>n_rail_routes</th>\n",
       "      <th>name</th>\n",
       "      <th>organization_source_record_id</th>\n",
       "      <th>organization_name</th>\n",
       "      <th>service_date</th>\n",
       "    </tr>\n",
       "  </thead>\n",
       "  <tbody>\n",
       "    <tr>\n",
       "      <th>10</th>\n",
       "      <td>8a1405af8da1379acc062e346187ac98</td>\n",
       "      <td>12</td>\n",
       "      <td>1005</td>\n",
       "      <td>26</td>\n",
       "      <td>50</td>\n",
       "      <td>15257</td>\n",
       "      <td>489.44</td>\n",
       "      <td>305.14</td>\n",
       "      <td>2</td>\n",
       "      <td>0</td>\n",
       "      <td>0</td>\n",
       "      <td>0</td>\n",
       "      <td>0</td>\n",
       "      <td>2</td>\n",
       "      <td>Bay Area 511 BART Schedule</td>\n",
       "      <td>recoQLeNRISCKF8I0</td>\n",
       "      <td>San Francisco Bay Area Rapid Transit District</td>\n",
       "      <td>2024-01-17</td>\n",
       "    </tr>\n",
       "  </tbody>\n",
       "</table>\n",
       "</div>"
      ],
      "text/plain": [
       "           schedule_gtfs_dataset_key  operator_n_routes  operator_n_trips  \\\n",
       "10  8a1405af8da1379acc062e346187ac98                 12              1005   \n",
       "\n",
       "    operator_n_shapes  operator_n_stops  operator_n_arrivals  \\\n",
       "10                 26                50                15257   \n",
       "\n",
       "    operator_route_length_miles  operator_arrivals_per_stop  \\\n",
       "10                       489.44                      305.14   \n",
       "\n",
       "    n_downtown_local_routes  n_local_routes  n_coverage_routes  \\\n",
       "10                        2               0                  0   \n",
       "\n",
       "    n_rapid_routes  n_express_routes  n_rail_routes  \\\n",
       "10               0                 0              2   \n",
       "\n",
       "                          name organization_source_record_id  \\\n",
       "10  Bay Area 511 BART Schedule             recoQLeNRISCKF8I0   \n",
       "\n",
       "                                organization_name service_date  \n",
       "10  San Francisco Bay Area Rapid Transit District   2024-01-17  "
      ]
     },
     "execution_count": 29,
     "metadata": {},
     "output_type": "execute_result"
    }
   ],
   "source": [
    "bart_df.loc[bart_df.service_date == '2024-01-17T00:00:00.000000000']"
   ]
  },
  {
   "cell_type": "code",
   "execution_count": 11,
   "id": "c7fb8861-eff4-4ee3-a53e-afb457af96ae",
   "metadata": {},
   "outputs": [],
   "source": [
    "trips = helpers.import_scheduled_trips(\n",
    "        analysis_date,\n",
    "        columns = [\"gtfs_dataset_key\", \"route_id\",\n",
    "                  \"trip_instance_key\", \"shape_array_key\"],\n",
    "        get_pandas = True\n",
    "    )"
   ]
  },
  {
   "cell_type": "code",
   "execution_count": 23,
   "id": "3f5a3688-6b38-410e-9310-9dc7c12fb130",
   "metadata": {},
   "outputs": [],
   "source": [
    "bart_trips = trips.loc[trips.schedule_gtfs_dataset_key == \"8a1405af8da1379acc062e346187ac98\"]"
   ]
  },
  {
   "cell_type": "code",
   "execution_count": 25,
   "id": "fc7198c0-5d0d-430f-beb7-e5ba610e07ad",
   "metadata": {},
   "outputs": [
    {
     "data": {
      "text/plain": [
       "(1005, 4)"
      ]
     },
     "execution_count": 25,
     "metadata": {},
     "output_type": "execute_result"
    }
   ],
   "source": [
    "bart_trips.shape"
   ]
  },
  {
   "cell_type": "code",
   "execution_count": 30,
   "id": "f7a51c86-c59d-4210-97bf-2ae0dcbd44a1",
   "metadata": {},
   "outputs": [
    {
     "data": {
      "text/html": [
       "<div>\n",
       "<style scoped>\n",
       "    .dataframe tbody tr th:only-of-type {\n",
       "        vertical-align: middle;\n",
       "    }\n",
       "\n",
       "    .dataframe tbody tr th {\n",
       "        vertical-align: top;\n",
       "    }\n",
       "\n",
       "    .dataframe thead th {\n",
       "        text-align: right;\n",
       "    }\n",
       "</style>\n",
       "<table border=\"1\" class=\"dataframe\">\n",
       "  <thead>\n",
       "    <tr style=\"text-align: right;\">\n",
       "      <th></th>\n",
       "      <th>schedule_gtfs_dataset_key</th>\n",
       "      <th>route_id</th>\n",
       "      <th>trip_instance_key</th>\n",
       "      <th>shape_array_key</th>\n",
       "    </tr>\n",
       "  </thead>\n",
       "  <tbody>\n",
       "    <tr>\n",
       "      <th>30777</th>\n",
       "      <td>8a1405af8da1379acc062e346187ac98</td>\n",
       "      <td>Yellow-N</td>\n",
       "      <td>7dcd8655dfa527fe26d045030f555456</td>\n",
       "      <td>None</td>\n",
       "    </tr>\n",
       "    <tr>\n",
       "      <th>30778</th>\n",
       "      <td>8a1405af8da1379acc062e346187ac98</td>\n",
       "      <td>Beige-N</td>\n",
       "      <td>1c6a3fa1fcda41ed77e9ca005c73f114</td>\n",
       "      <td>b33198f862352e303d8a184eead0bb42</td>\n",
       "    </tr>\n",
       "    <tr>\n",
       "      <th>30779</th>\n",
       "      <td>8a1405af8da1379acc062e346187ac98</td>\n",
       "      <td>Beige-N</td>\n",
       "      <td>eba8b76d0acad35ad8e3ffeab9eb9b4c</td>\n",
       "      <td>b33198f862352e303d8a184eead0bb42</td>\n",
       "    </tr>\n",
       "    <tr>\n",
       "      <th>30780</th>\n",
       "      <td>8a1405af8da1379acc062e346187ac98</td>\n",
       "      <td>Beige-N</td>\n",
       "      <td>003473cabda532b854f1992ada65ed9f</td>\n",
       "      <td>b33198f862352e303d8a184eead0bb42</td>\n",
       "    </tr>\n",
       "    <tr>\n",
       "      <th>30781</th>\n",
       "      <td>8a1405af8da1379acc062e346187ac98</td>\n",
       "      <td>Beige-N</td>\n",
       "      <td>f9a44134cc015e560eb16590bb5f4d17</td>\n",
       "      <td>b33198f862352e303d8a184eead0bb42</td>\n",
       "    </tr>\n",
       "  </tbody>\n",
       "</table>\n",
       "</div>"
      ],
      "text/plain": [
       "              schedule_gtfs_dataset_key  route_id  \\\n",
       "30777  8a1405af8da1379acc062e346187ac98  Yellow-N   \n",
       "30778  8a1405af8da1379acc062e346187ac98   Beige-N   \n",
       "30779  8a1405af8da1379acc062e346187ac98   Beige-N   \n",
       "30780  8a1405af8da1379acc062e346187ac98   Beige-N   \n",
       "30781  8a1405af8da1379acc062e346187ac98   Beige-N   \n",
       "\n",
       "                      trip_instance_key                   shape_array_key  \n",
       "30777  7dcd8655dfa527fe26d045030f555456                              None  \n",
       "30778  1c6a3fa1fcda41ed77e9ca005c73f114  b33198f862352e303d8a184eead0bb42  \n",
       "30779  eba8b76d0acad35ad8e3ffeab9eb9b4c  b33198f862352e303d8a184eead0bb42  \n",
       "30780  003473cabda532b854f1992ada65ed9f  b33198f862352e303d8a184eead0bb42  \n",
       "30781  f9a44134cc015e560eb16590bb5f4d17  b33198f862352e303d8a184eead0bb42  "
      ]
     },
     "execution_count": 30,
     "metadata": {},
     "output_type": "execute_result"
    }
   ],
   "source": [
    "bart_trips.head()"
   ]
  },
  {
   "cell_type": "markdown",
   "id": "dae1a499-6dde-4d2f-bad7-00c6bcc5d601",
   "metadata": {},
   "source": [
    "#### BART: it looks like they count the same line as \"two routes\" because one trip goes South and the other North."
   ]
  },
  {
   "cell_type": "code",
   "execution_count": 31,
   "id": "6c58d41b-24a5-4bfb-b381-d924b91274b4",
   "metadata": {},
   "outputs": [
    {
     "data": {
      "text/plain": [
       "array(['Yellow-N', 'Beige-N', 'Beige-S', 'Yellow-S', 'Orange-N',\n",
       "       'Orange-S', 'Green-S', 'Green-N', 'Red-S', 'Red-N', 'Blue-S',\n",
       "       'Blue-N'], dtype=object)"
      ]
     },
     "execution_count": 31,
     "metadata": {},
     "output_type": "execute_result"
    }
   ],
   "source": [
    "bart_trips.route_id.unique()"
   ]
  },
  {
   "cell_type": "code",
   "execution_count": 33,
   "id": "368502de-6c28-4598-a635-24f93c158ad2",
   "metadata": {},
   "outputs": [],
   "source": [
    "group_cols = [\"schedule_gtfs_dataset_key\"]"
   ]
  },
  {
   "cell_type": "code",
   "execution_count": 34,
   "id": "6ade4203-a5b5-4603-aa95-3c9691256f9c",
   "metadata": {},
   "outputs": [],
   "source": [
    "nunique_cols = [\n",
    "        \"route_id\", \"trip_instance_key\", \"shape_array_key\"\n",
    "    ]\n",
    "trip_stats = (bart_trips\n",
    "                  .groupby(group_cols, \n",
    "                           observed=True, group_keys=False)\n",
    "                  .agg({\n",
    "                      **{c: \"nunique\" for c in nunique_cols}\n",
    "                  }).reset_index()\n",
    "                  .rename(columns = {\n",
    "                      \"route_id\": \"operator_n_routes\",\n",
    "                      \"trip_instance_key\": \"operator_n_trips\",\n",
    "                      \"shape_array_key\": \"operator_n_shapes\",\n",
    "                  })\n",
    "                 )"
   ]
  },
  {
   "cell_type": "code",
   "execution_count": 35,
   "id": "a388e7af-387a-4acf-ab7b-728d64efc9a1",
   "metadata": {},
   "outputs": [
    {
     "data": {
      "text/html": [
       "<div>\n",
       "<style scoped>\n",
       "    .dataframe tbody tr th:only-of-type {\n",
       "        vertical-align: middle;\n",
       "    }\n",
       "\n",
       "    .dataframe tbody tr th {\n",
       "        vertical-align: top;\n",
       "    }\n",
       "\n",
       "    .dataframe thead th {\n",
       "        text-align: right;\n",
       "    }\n",
       "</style>\n",
       "<table border=\"1\" class=\"dataframe\">\n",
       "  <thead>\n",
       "    <tr style=\"text-align: right;\">\n",
       "      <th></th>\n",
       "      <th>schedule_gtfs_dataset_key</th>\n",
       "      <th>operator_n_routes</th>\n",
       "      <th>operator_n_trips</th>\n",
       "      <th>operator_n_shapes</th>\n",
       "    </tr>\n",
       "  </thead>\n",
       "  <tbody>\n",
       "    <tr>\n",
       "      <th>0</th>\n",
       "      <td>8a1405af8da1379acc062e346187ac98</td>\n",
       "      <td>12</td>\n",
       "      <td>1005</td>\n",
       "      <td>26</td>\n",
       "    </tr>\n",
       "  </tbody>\n",
       "</table>\n",
       "</div>"
      ],
      "text/plain": [
       "          schedule_gtfs_dataset_key  operator_n_routes  operator_n_trips  \\\n",
       "0  8a1405af8da1379acc062e346187ac98                 12              1005   \n",
       "\n",
       "   operator_n_shapes  \n",
       "0                 26  "
      ]
     },
     "execution_count": 35,
     "metadata": {},
     "output_type": "execute_result"
    }
   ],
   "source": [
    "trip_stats"
   ]
  },
  {
   "cell_type": "markdown",
   "id": "33a2ea48-7eca-49f0-b99b-44a0835cd6ba",
   "metadata": {},
   "source": [
    "#### SF Muni\n",
    "* There's about 70 routes excluding ones that aren't suspended.\n",
    "* https://www.sfmta.com/getting-around/muni/routes-stops"
   ]
  },
  {
   "cell_type": "code",
   "execution_count": 36,
   "id": "a493d38a-0030-4800-98c1-743b89248228",
   "metadata": {},
   "outputs": [],
   "source": [
    "sf_df = pd.read_parquet(\n",
    "    op_profiles_url,\n",
    "    filters=[[(\"organization_name\", \"==\", \"City and County of San Francisco\")]])"
   ]
  },
  {
   "cell_type": "code",
   "execution_count": 39,
   "id": "f1f877ff-099d-40bb-9048-918863114552",
   "metadata": {},
   "outputs": [],
   "source": [
    "sf_gtfs_keys = list(sf_df.schedule_gtfs_dataset_key.unique())"
   ]
  },
  {
   "cell_type": "code",
   "execution_count": 40,
   "id": "7027fef6-7084-40f5-a723-aeeb4979a2c3",
   "metadata": {},
   "outputs": [],
   "source": [
    "sf_trips = trips.loc[trips.schedule_gtfs_dataset_key.isin(sf_gtfs_keys)]"
   ]
  },
  {
   "cell_type": "code",
   "execution_count": 41,
   "id": "bce71d68-4db1-4ed2-b5c7-fd54134bab91",
   "metadata": {},
   "outputs": [
    {
     "data": {
      "text/plain": [
       "array(['5R', '8AX', '8BX', 'LOWL', 'NOWL', 'S', 'PH', '1', '714', '2',\n",
       "       '9R', 'KBUS', 'NBUS', '15', '55', 'LBUS', 'TBUS', 'T', '1X', '5',\n",
       "       '6', '7', '8', '9', '12', '14', '18', '19', '21', '22', '23', '24',\n",
       "       '25', '27', '28', '29', '30', '31', '33', '35', '36', '37', '38',\n",
       "       '39', '43', '44', '45', '48', '49', '52', '54', '56', '57', '58',\n",
       "       'PM', 'CA', '66', '67', '90', '91', 'J', 'K', 'M', 'N', '14R',\n",
       "       '28R', '38R', 'F'], dtype=object)"
      ]
     },
     "execution_count": 41,
     "metadata": {},
     "output_type": "execute_result"
    }
   ],
   "source": [
    "sf_trips.route_id.unique()"
   ]
  },
  {
   "cell_type": "code",
   "execution_count": 42,
   "id": "9a817fa2-3ef9-4f7a-8be2-57cf8d50e4c7",
   "metadata": {},
   "outputs": [
    {
     "data": {
      "text/plain": [
       "68"
      ]
     },
     "execution_count": 42,
     "metadata": {},
     "output_type": "execute_result"
    }
   ],
   "source": [
    "sf_trips.route_id.nunique()"
   ]
  }
 ],
 "metadata": {
  "kernelspec": {
   "display_name": "Python 3 (ipykernel)",
   "language": "python",
   "name": "python3"
  },
  "language_info": {
   "codemirror_mode": {
    "name": "ipython",
    "version": 3
   },
   "file_extension": ".py",
   "mimetype": "text/x-python",
   "name": "python",
   "nbconvert_exporter": "python",
   "pygments_lexer": "ipython3",
   "version": "3.11.10"
  }
 },
 "nbformat": 4,
 "nbformat_minor": 5
}
