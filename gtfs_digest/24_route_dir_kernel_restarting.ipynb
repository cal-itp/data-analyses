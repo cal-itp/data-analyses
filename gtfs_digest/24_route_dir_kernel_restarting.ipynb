{
 "cells": [
  {
   "cell_type": "markdown",
   "id": "47f7e700-b49b-41ed-bc86-aedc43646fb9",
   "metadata": {},
   "source": [
    "# Kernel keeps restarting when I want to run all of the charts in `_report_route_dir_visuals`\n",
    "* To"
   ]
  },
  {
   "cell_type": "code",
   "execution_count": null,
   "id": "34a55ec1-089d-45d1-982a-57aed8b6ab00",
   "metadata": {
    "tags": []
   },
   "outputs": [],
   "source": [
    "import altair as alt\n",
    "import calitp_data_analysis.magics\n",
    "import geopandas as gpd\n",
    "import google.auth\n",
    "import pandas as pd\n",
    "from IPython.display import HTML, Image, Markdown, display, display_html\n",
    "from omegaconf import OmegaConf\n",
    "from update_vars import GTFS_DATA_DICT, RT_SCHED_GCS, SCHED_GCS, SEGMENT_GCS\n",
    "\n",
    "readable_dict = OmegaConf.load(\"readable2.yml\")\n",
    "credentials, project = google.auth.default()\n",
    "\n",
    "import _report_route_dir_visuals"
   ]
  },
  {
   "cell_type": "code",
   "execution_count": null,
   "id": "34c43c6a-68f4-4942-ad97-211c592a8184",
   "metadata": {},
   "outputs": [],
   "source": [
    "pd.options.display.max_columns = 100\n",
    "pd.options.display.float_format = \"{:.2f}\".format\n",
    "pd.set_option(\"display.max_rows\", None)\n",
    "pd.set_option(\"display.max_colwidth\", None)"
   ]
  },
  {
   "cell_type": "code",
   "execution_count": null,
   "id": "182387c8-7b77-4747-a62d-573d05b69464",
   "metadata": {
    "tags": []
   },
   "outputs": [],
   "source": [
    "# portfolio_name = \"City and County of San Francisco\"\n",
    "portfolio_name = \"Ventura County (VCTC, Gold Coast, Cities of Camarillo, Moorpark, Ojai, Simi Valley, Thousand Oaks)\""
   ]
  },
  {
   "cell_type": "code",
   "execution_count": null,
   "id": "dacc3358-4f7e-45a8-8d85-29c19acca116",
   "metadata": {
    "tags": []
   },
   "outputs": [],
   "source": [
    "ROUTE_DIR_MONTH_FILE = GTFS_DATA_DICT.digest_tables.monthly_route_schedule_vp_report\n",
    "ROUTE_DIR_QTR_FILE = \"digest/quarterly_schedule_vp_metrics_report\"\n",
    "\n",
    "month_df = pd.read_parquet(\n",
    "    f\"{RT_SCHED_GCS}{ROUTE_DIR_MONTH_FILE}.parquet\",\n",
    "    filters=[[(\"Portfolio Organization Name\", \"==\", portfolio_name)]],\n",
    ")\n",
    "\n",
    "qtr_df = pd.read_parquet(\n",
    "    f\"{RT_SCHED_GCS}{ROUTE_DIR_QTR_FILE}.parquet\",\n",
    "    filters=[[(\"Portfolio Organization Name\", \"==\", portfolio_name)]],\n",
    ")"
   ]
  },
  {
   "cell_type": "code",
   "execution_count": null,
   "id": "ea5a1e74-5827-468c-8536-0b8ef9e7a91f",
   "metadata": {
    "tags": []
   },
   "outputs": [],
   "source": [
    "# _report_route_dir_visuals.route_filter(qtr_df,month_df)"
   ]
  },
  {
   "cell_type": "markdown",
   "id": "eb9cdf48-e357-4b33-ac85-496e0a5015d6",
   "metadata": {},
   "source": [
    "### `sched_vp_per_min` is broken. It keeps displaying more than one route even when I have selected only one route from the dropdown menu"
   ]
  },
  {
   "cell_type": "code",
   "execution_count": null,
   "id": "f194e1f7-69ef-4439-a4b2-f170d71fcb85",
   "metadata": {
    "tags": []
   },
   "outputs": [],
   "source": [
    "pct_journey_with_vp_df = _report_route_dir_visuals.reshape_pct_journey_with_vp(month_df)"
   ]
  },
  {
   "cell_type": "code",
   "execution_count": null,
   "id": "b34b0886-b1a3-4e52-97f5-bccedd03682f",
   "metadata": {
    "tags": []
   },
   "outputs": [],
   "source": [
    "len(pct_journey_with_vp_df)"
   ]
  },
  {
   "cell_type": "code",
   "execution_count": null,
   "id": "01f1f5d7-6e8d-4a79-91d4-de77b5013623",
   "metadata": {
    "tags": []
   },
   "outputs": [],
   "source": [
    "month_df.columns"
   ]
  },
  {
   "cell_type": "code",
   "execution_count": null,
   "id": "cb5160ba-8c63-4f3c-b215-92da20307c45",
   "metadata": {
    "tags": []
   },
   "outputs": [],
   "source": [
    "ROUTE_DIR_MONTH_FILE = GTFS_DATA_DICT.digest_tables.monthly_route_schedule_vp# Report by month\n",
    "og_month_df = pd.read_parquet(\n",
    "        f\"{RT_SCHED_GCS}{ROUTE_DIR_MONTH_FILE}.parquet\"\n",
    "    )"
   ]
  },
  {
   "cell_type": "code",
   "execution_count": null,
   "id": "4890b721-e5a2-443c-aee2-2987e26752a5",
   "metadata": {
    "tags": []
   },
   "outputs": [],
   "source": [
    "og_month_df.columns"
   ]
  },
  {
   "cell_type": "markdown",
   "id": "903bb22f-0e49-4311-9f08-497fef83e91f",
   "metadata": {},
   "source": [
    "* May date, Westbound Offpeak for % Scheduled Trip w/ 1+ VP/Minute has two values: 0 and 100. This makes no sense. "
   ]
  },
  {
   "cell_type": "code",
   "execution_count": null,
   "id": "b90adc46-82c1-4dc8-843c-d84728eec63b",
   "metadata": {
    "scrolled": true,
    "tags": []
   },
   "outputs": [],
   "source": [
    "month_df.loc[month_df.Route == \"80-89 Coastal Express\"][['Date', 'Direction','Period', '% Scheduled Trip w/ 1+ VP/Minute', '% Scheduled Trip w/ 2+ VP/Minute',]].sort_values(by = [\"Date\", \"Direction\"])"
   ]
  },
  {
   "cell_type": "code",
   "execution_count": null,
   "id": "74327c2b-5a2b-4ca2-b9ca-ec2a9096c654",
   "metadata": {
    "tags": []
   },
   "outputs": [],
   "source": [
    "route_80_89 = pct_journey_with_vp_df.loc[pct_journey_with_vp_df.Route == \"80-89 Coastal Express\"]"
   ]
  },
  {
   "cell_type": "code",
   "execution_count": null,
   "id": "fc174f53-cfef-4a64-8a27-876997eafe0b",
   "metadata": {
    "scrolled": true,
    "tags": []
   },
   "outputs": [],
   "source": [
    "route_80_89.sort_values(by = [\"Date\", \"Direction\"])"
   ]
  },
  {
   "cell_type": "code",
   "execution_count": null,
   "id": "3079a7fe-8a7e-45da-91ee-3a11d456074a",
   "metadata": {
    "tags": []
   },
   "outputs": [],
   "source": [
    "route_80_89.Date.value_counts()"
   ]
  },
  {
   "cell_type": "markdown",
   "id": "f7b7f913-22b7-4361-8f5d-f21708fd89cc",
   "metadata": {},
   "source": [
    "## The charts won't display -> The cell keeps buffering with the * sign."
   ]
  },
  {
   "cell_type": "code",
   "execution_count": null,
   "id": "e1a9b92a-85ca-40f5-aa81-b86238da6b37",
   "metadata": {
    "tags": []
   },
   "outputs": [],
   "source": [
    "routes_list = month_df[\"Route\"].unique().tolist()\n",
    "\n",
    "route_dropdown = alt.binding_select(\n",
    "    options=routes_list,\n",
    "    name=\"Routes: \",\n",
    ")\n",
    "# Column that controls the bar charts\n",
    "xcol_param = alt.selection_point(\n",
    "    fields=[\"Route\"], value=routes_list[0], bind=route_dropdown\n",
    ")"
   ]
  },
  {
   "cell_type": "code",
   "execution_count": null,
   "id": "3cc549e1-22bc-4cce-8ddd-b5b30479ed0a",
   "metadata": {
    "tags": []
   },
   "outputs": [],
   "source": [
    "len(month_df)"
   ]
  },
  {
   "cell_type": "code",
   "execution_count": null,
   "id": "7d9bf5a6-3307-4e23-a627-62d3b811dd62",
   "metadata": {
    "tags": []
   },
   "outputs": [],
   "source": [
    "month_df.Date.unique()"
   ]
  },
  {
   "cell_type": "code",
   "execution_count": null,
   "id": "4d58ff4c-58ed-49b8-9935-5b74a353ffeb",
   "metadata": {
    "tags": []
   },
   "outputs": [],
   "source": [
    "len(qtr_df)"
   ]
  },
  {
   "cell_type": "code",
   "execution_count": null,
   "id": "78723ac0-dfd3-42fa-84ce-6b85880e07f0",
   "metadata": {
    "tags": []
   },
   "outputs": [],
   "source": [
    "# Charts\n",
    "spatial_accuracy = (\n",
    "    _report_route_dir_visuals.spatial_accuracy_chart(qtr_df[qtr_df.Period == \"All Day\"])\n",
    "    .add_params(xcol_param)\n",
    "    .transform_filter(xcol_param)\n",
    ")\n",
    "\n",
    "avg_scheduled_min = (\n",
    "    _report_route_dir_visuals.avg_scheduled_min_chart(\n",
    "        qtr_df[qtr_df.Period == \"All Day\"]\n",
    "    )\n",
    "    .add_params(xcol_param)\n",
    "    .transform_filter(xcol_param)\n",
    ")"
   ]
  },
  {
   "cell_type": "code",
   "execution_count": null,
   "id": "ded20073-383e-4c58-8c1d-c916648f8b54",
   "metadata": {
    "tags": []
   },
   "outputs": [],
   "source": [
    "vp_per_minute = (\n",
    "    _report_route_dir_visuals.vp_per_minute_chart(qtr_df[qtr_df.Period == \"All Day\"])\n",
    "    .add_params(xcol_param)\n",
    "    .transform_filter(xcol_param)\n",
    ")\n",
    "speed = (\n",
    "    _report_route_dir_visuals.speed_chart(month_df)\n",
    "    .add_params(xcol_param)\n",
    "    .transform_filter(xcol_param)\n",
    ")"
   ]
  },
  {
   "cell_type": "code",
   "execution_count": null,
   "id": "a622dcc3-f9a4-4137-bb90-c93d58346f2c",
   "metadata": {},
   "outputs": [],
   "source": [
    "sched_vp_per_min = (\n",
    "    _report_route_dir_visuals.sched_vp_per_min_chart(\n",
    "        month_df[month_df.Period == \"All Day\"]\n",
    "    )\n",
    "    .add_params(xcol_param)\n",
    "    .transform_filter(xcol_param)\n",
    ")\n",
    "\n",
    "text_dir0 = (\n",
    "    _report_route_dir_visuals.text_chart(month_df, 0)\n",
    "    .add_params(xcol_param)\n",
    "    .transform_filter(xcol_param)\n",
    ")"
   ]
  },
  {
   "cell_type": "code",
   "execution_count": null,
   "id": "7b1059d9-a75c-4a9e-a861-cb6f937a72c9",
   "metadata": {},
   "outputs": [],
   "source": [
    "text_dir1 = (\n",
    "    _report_route_dir_visuals.text_chart(month_df, 1)\n",
    "    .add_params(xcol_param)\n",
    "    .transform_filter(xcol_param)\n",
    ")\n",
    "\n",
    "timeliness_dir0 = (\n",
    "    _report_route_dir_visuals.timeliness_chart(\n",
    "        month_df[month_df.Period == \"All Day\"], 0\n",
    "    )\n",
    "    .add_params(xcol_param)\n",
    "    .transform_filter(xcol_param)\n",
    ")"
   ]
  },
  {
   "cell_type": "code",
   "execution_count": null,
   "id": "fc87e9da-21fe-4009-8faf-e563e2da4dd7",
   "metadata": {
    "tags": []
   },
   "outputs": [],
   "source": [
    "df2 = _report_route_dir_visuals.reshape_timeliness_trips(month_df)"
   ]
  },
  {
   "cell_type": "code",
   "execution_count": null,
   "id": "35dd611e-588a-4022-a08c-840fb892b2ae",
   "metadata": {
    "tags": []
   },
   "outputs": [],
   "source": [
    "len(df2)"
   ]
  },
  {
   "cell_type": "code",
   "execution_count": null,
   "id": "ca48867b-fbdf-4201-8684-768f27d131ad",
   "metadata": {
    "tags": []
   },
   "outputs": [],
   "source": [
    "len(df2.drop_duplicates())"
   ]
  },
  {
   "cell_type": "code",
   "execution_count": null,
   "id": "1ef94e70-0771-4211-b1e1-f6588b8cd4ca",
   "metadata": {
    "tags": []
   },
   "outputs": [],
   "source": [
    "text_dir1"
   ]
  },
  {
   "cell_type": "code",
   "execution_count": null,
   "id": "8f0f314f-2fdb-47e7-b445-355cf54db983",
   "metadata": {
    "tags": []
   },
   "outputs": [],
   "source": [
    "timeliness_dir0"
   ]
  },
  {
   "cell_type": "code",
   "execution_count": null,
   "id": "abc0f621-3e1c-494c-9031-251931f77d49",
   "metadata": {},
   "outputs": [],
   "source": [
    "timeliness_dir1 = (\n",
    "    _report_route_dir_visuals.timeliness_chart(\n",
    "        month_df[month_df.Period == \"All Day\"], 1\n",
    "    )\n",
    "    .add_params(xcol_param)\n",
    "    .transform_filter(xcol_param)\n",
    ")\n",
    "\n",
    "n_scheduled_dir0 = (\n",
    "    _report_route_dir_visuals.total_scheduled_trips_chart(\n",
    "        month_df[month_df.Period == \"All Day\"], 0\n",
    "    )\n",
    "    .add_params(xcol_param)\n",
    "    .transform_filter(xcol_param)\n",
    ")"
   ]
  },
  {
   "cell_type": "code",
   "execution_count": null,
   "id": "f0ead42e-9aa5-4c91-8c6b-ea54924c72b6",
   "metadata": {
    "tags": []
   },
   "outputs": [],
   "source": [
    "timeliness_dir1"
   ]
  },
  {
   "cell_type": "code",
   "execution_count": null,
   "id": "e94ecf86-e47e-423b-b4bc-0083432f95aa",
   "metadata": {
    "tags": []
   },
   "outputs": [],
   "source": [
    "n_scheduled_dir0"
   ]
  },
  {
   "cell_type": "code",
   "execution_count": null,
   "id": "6fdb50d8-0873-4eff-9ad1-c3733e21994f",
   "metadata": {},
   "outputs": [],
   "source": [
    "n_scheduled_dir1 = (\n",
    "    _report_route_dir_visuals.total_scheduled_trips_chart(\n",
    "        month_df[month_df.Period == \"All Day\"], 1\n",
    "    )\n",
    "    .add_params(xcol_param)\n",
    "    .transform_filter(xcol_param)\n",
    ")"
   ]
  },
  {
   "cell_type": "code",
   "execution_count": null,
   "id": "89f78206-92c4-47a0-9572-d5a8552ff8b8",
   "metadata": {
    "tags": []
   },
   "outputs": [],
   "source": [
    "n_scheduled_dir1"
   ]
  },
  {
   "cell_type": "code",
   "execution_count": null,
   "id": "b2bec5ce-1b2a-4549-9d17-d0291327b109",
   "metadata": {},
   "outputs": [],
   "source": [
    "n_freq_dir0 = (\n",
    "    _report_route_dir_visuals.headway_chart(month_df[month_df.Period != \"All Day\"], 0)\n",
    "    .add_params(xcol_param)\n",
    "    .transform_filter(xcol_param)\n",
    ")\n",
    "\n",
    "n_freq_dir1 = (\n",
    "    _report_route_dir_visuals.headway_chart(month_df[month_df.Period != \"All Day\"], 1)\n",
    "    .add_params(xcol_param)\n",
    "    .transform_filter(xcol_param)\n",
    ")"
   ]
  },
  {
   "cell_type": "code",
   "execution_count": null,
   "id": "70b1fa77-9476-4c96-920c-8563720f8080",
   "metadata": {
    "tags": []
   },
   "outputs": [],
   "source": [
    "data_quality = _report_route_dir_visuals.divider_chart(\n",
    "    month_df, readable_dict.data_quality_graph.title\n",
    ")\n",
    "rider_quality = _report_route_dir_visuals.divider_chart(\n",
    "    month_df, readable_dict.rider_quality_graph.title\n",
    ")\n",
    "summary = _report_route_dir_visuals.divider_chart(\n",
    "    month_df, readable_dict.summary_graph.title\n",
    ")"
   ]
  },
  {
   "cell_type": "code",
   "execution_count": null,
   "id": "c388e6ef-d6ca-4a9b-bc00-4538d260e9d1",
   "metadata": {
    "tags": []
   },
   "outputs": [],
   "source": [
    "chart_list = [\n",
    "    summary,\n",
    "    text_dir0,\n",
    "    text_dir1,\n",
    "    rider_quality,\n",
    "    avg_scheduled_min,\n",
    "    timeliness_dir0,\n",
    "    timeliness_dir1,\n",
    "    n_freq_dir0,\n",
    "    n_scheduled_dir0,\n",
    "    n_freq_dir1,\n",
    "    n_scheduled_dir1,\n",
    "    speed,\n",
    "    data_quality,\n",
    "    spatial_accuracy,\n",
    "    vp_per_minute,\n",
    "    sched_vp_per_min,\n",
    "]\n",
    "chart = alt.vconcat(*chart_list)"
   ]
  },
  {
   "cell_type": "code",
   "execution_count": null,
   "id": "6da91b05-49bc-4b08-a818-f9785536eb51",
   "metadata": {
    "tags": []
   },
   "outputs": [],
   "source": [
    "chart"
   ]
  },
  {
   "cell_type": "code",
   "execution_count": null,
   "id": "113bc43d-82eb-4a9f-a2fc-c99c95156e0e",
   "metadata": {
    "scrolled": true,
    "tags": []
   },
   "outputs": [],
   "source": [
    "month_df.loc[month_df.Route == \"80-89 Coastal Express\"][\n",
    "    [\"Direction\", \"Date\", \"Average VP per Minute\"]\n",
    "].sort_values(by=[\"Date\", \"Direction\"])"
   ]
  },
  {
   "cell_type": "code",
   "execution_count": null,
   "id": "d5d37a7a-c36d-44d8-9205-2aea8497217b",
   "metadata": {
    "scrolled": true,
    "tags": []
   },
   "outputs": [],
   "source": [
    "qtr_df.loc[qtr_df.Route == \"80-89 Coastal Express\"]"
   ]
  },
  {
   "cell_type": "code",
   "execution_count": null,
   "id": "adf6eccc-65d0-47dd-b8ef-78f97b93c9e0",
   "metadata": {
    "tags": []
   },
   "outputs": [],
   "source": [
    "# chart_summary_list = [summary, text_dir0, text_dir1]"
   ]
  },
  {
   "cell_type": "code",
   "execution_count": null,
   "id": "35d6d16e-0d35-4178-80ce-f079cbc3dfb4",
   "metadata": {
    "tags": []
   },
   "outputs": [],
   "source": [
    "# summary_chart = alt.vconcat(*chart_summary_list)"
   ]
  },
  {
   "cell_type": "code",
   "execution_count": null,
   "id": "d739e03a-dcd2-4b39-8c43-3f712132501f",
   "metadata": {
    "tags": []
   },
   "outputs": [],
   "source": [
    "# summary_chart"
   ]
  },
  {
   "cell_type": "code",
   "execution_count": null,
   "id": "fc3cf1f5-dfd3-4f62-b1d0-1c37b9651b5b",
   "metadata": {
    "tags": []
   },
   "outputs": [],
   "source": [
    "data_quality_list = [\n",
    "    data_quality,\n",
    "    spatial_accuracy,\n",
    "    vp_per_minute,\n",
    "    sched_vp_per_min,\n",
    "]"
   ]
  },
  {
   "cell_type": "code",
   "execution_count": null,
   "id": "697d6f0f-adbf-45a2-be83-e8fc58e5bcb4",
   "metadata": {
    "tags": []
   },
   "outputs": [],
   "source": [
    "# sched_vp_per_min"
   ]
  },
  {
   "cell_type": "code",
   "execution_count": null,
   "id": "2a1bc534-1251-47b8-8fa6-1ee83b9bce94",
   "metadata": {
    "tags": []
   },
   "outputs": [],
   "source": [
    "# data_quality_chart = alt.vconcat(*data_quality_list)"
   ]
  },
  {
   "cell_type": "code",
   "execution_count": null,
   "id": "fc5b8595-2b25-456e-bbf7-18981194373d",
   "metadata": {
    "tags": []
   },
   "outputs": [],
   "source": [
    "# data_quality_chart"
   ]
  },
  {
   "cell_type": "code",
   "execution_count": null,
   "id": "7eb109fd-0dcd-4818-90d0-dc4b3f8b09b9",
   "metadata": {},
   "outputs": [],
   "source": [
    "timeliness_dir1"
   ]
  },
  {
   "cell_type": "code",
   "execution_count": null,
   "id": "a2efdd20-fb2e-4334-bf27-7ac235a44c94",
   "metadata": {
    "tags": []
   },
   "outputs": [],
   "source": [
    "rider_quality_list1 = [\n",
    "    rider_quality,\n",
    "    avg_scheduled_min,\n",
    "    timeliness_dir0,\n",
    "    timeliness_dir1,\n",
    "]"
   ]
  },
  {
   "cell_type": "code",
   "execution_count": null,
   "id": "8dca4aba-d535-42c3-af59-c3cd0aff905b",
   "metadata": {
    "tags": []
   },
   "outputs": [],
   "source": [
    "rider_quality_chart1 = alt.vconcat(*rider_quality_list1)"
   ]
  },
  {
   "cell_type": "code",
   "execution_count": null,
   "id": "76329487-0406-43f6-acb3-73ddac185395",
   "metadata": {
    "tags": []
   },
   "outputs": [],
   "source": [
    "# rider_quality_chart1"
   ]
  },
  {
   "cell_type": "markdown",
   "id": "a75f5bb3-94ca-42ab-82ee-cf38d1bb1a48",
   "metadata": {},
   "source": [
    "### Something is wrong with  # of Scheduled Trips"
   ]
  },
  {
   "cell_type": "code",
   "execution_count": null,
   "id": "0a92d5ce-ffb8-4718-ba4a-0bf80030008a",
   "metadata": {
    "scrolled": true,
    "tags": []
   },
   "outputs": [],
   "source": [
    "route_subset = month_df.loc[\n",
    "    (month_df.Route == \"Route 15\") | (month_df.Route == \"Route 18\")\n",
    "][[\"Direction\", \"Date\", \"Route\", \"# Scheduled Trips\", \"Period\"]].drop_duplicates()"
   ]
  },
  {
   "cell_type": "code",
   "execution_count": null,
   "id": "940bf105-1057-4620-b123-12bb432c4deb",
   "metadata": {
    "tags": []
   },
   "outputs": [],
   "source": [
    "route_subset.head()"
   ]
  },
  {
   "cell_type": "code",
   "execution_count": null,
   "id": "73318d54-d8f1-49cc-9a64-4abd5e0993f6",
   "metadata": {
    "tags": []
   },
   "outputs": [],
   "source": [
    "sched_trip_dict = readable_dict.n_scheduled_graph"
   ]
  },
  {
   "cell_type": "code",
   "execution_count": null,
   "id": "312c2d6a-10b4-49f3-94e4-787881dac8d0",
   "metadata": {
    "tags": []
   },
   "outputs": [],
   "source": [
    "base = _report_route_dir_visuals.bar_chart(\n",
    "    x_col=\"Date:T\",\n",
    "    y_col=\"# Scheduled Trips\",\n",
    "    color_col=\"Period:N\",\n",
    "    color_scheme=[*sched_trip_dict.colors],\n",
    "    tooltip_cols=[*sched_trip_dict.tooltip],\n",
    "    date_format=\"%b %Y\",\n",
    ")"
   ]
  },
  {
   "cell_type": "code",
   "execution_count": null,
   "id": "3d0a10d7-0ef8-4913-a6c5-f664ce4a15d2",
   "metadata": {
    "tags": []
   },
   "outputs": [],
   "source": [
    "chart = alt.layer(base, data=route_subset)"
   ]
  },
  {
   "cell_type": "code",
   "execution_count": null,
   "id": "c39b8c0c-9036-4e45-bc66-6d5e32474985",
   "metadata": {
    "tags": []
   },
   "outputs": [],
   "source": [
    "chart.add_params(xcol_param).transform_filter(xcol_param)"
   ]
  },
  {
   "cell_type": "code",
   "execution_count": null,
   "id": "fb1d46fb-51d2-45f3-957b-8ce6d50664fd",
   "metadata": {
    "tags": []
   },
   "outputs": [],
   "source": [
    "rider_quality_list2 = [\n",
    "    n_scheduled_dir0,\n",
    "    n_scheduled_dir1,\n",
    "    speed,\n",
    "]"
   ]
  },
  {
   "cell_type": "code",
   "execution_count": null,
   "id": "87148575-7bc9-42e2-bbee-b3672cf39348",
   "metadata": {
    "tags": []
   },
   "outputs": [],
   "source": [
    "# rider_quality_chart2 = alt.vconcat(*rider_quality_list2)"
   ]
  },
  {
   "cell_type": "code",
   "execution_count": null,
   "id": "34462ed6-872c-473d-8132-f340e21a4b7e",
   "metadata": {
    "scrolled": true,
    "tags": []
   },
   "outputs": [],
   "source": [
    "month_df.loc[(month_df.Route == \"Route 17\")][\n",
    "    [\"Date\", \"# Scheduled Trips\"]\n",
    "].drop_duplicates()"
   ]
  },
  {
   "cell_type": "code",
   "execution_count": null,
   "id": "528d6f9c-7f62-435f-b720-70e16ce26a91",
   "metadata": {
    "tags": []
   },
   "outputs": [],
   "source": [
    "rider_quality_chart2"
   ]
  },
  {
   "cell_type": "code",
   "execution_count": null,
   "id": "2edd84a7-a311-459c-96e0-4e66f17bb339",
   "metadata": {},
   "outputs": [],
   "source": [
    "# chart = (_report_route_dir_visuals.route_filter(route_dir_qtr_df,route_dir_month_df))"
   ]
  },
  {
   "cell_type": "markdown",
   "id": "21933ed4-c399-4407-8347-97a5df9037c9",
   "metadata": {},
   "source": [
    "## Text charts are causing the kernel to die for some notebooks."
   ]
  },
  {
   "cell_type": "code",
   "execution_count": null,
   "id": "60763e92-ff1a-41a2-9966-6d3d124f18cb",
   "metadata": {
    "tags": []
   },
   "outputs": [],
   "source": [
    "# _report_route_dir_visuals.route_filter(route_dir_qtr_df, route_dir_month_df)"
   ]
  },
  {
   "cell_type": "code",
   "execution_count": null,
   "id": "93d30339-076a-4d15-81d0-56f0fe8e4b38",
   "metadata": {
    "tags": []
   },
   "outputs": [],
   "source": [
    "route_dir_month_df.shape"
   ]
  },
  {
   "cell_type": "code",
   "execution_count": null,
   "id": "eda4ae9b-a2b6-460b-84fd-00e365b0a88e",
   "metadata": {
    "tags": []
   },
   "outputs": [],
   "source": [
    "route_dir_month_df = route_dir_month_df.loc[route_dir_month_df[\"Direction (0/1)\"] == 0]"
   ]
  },
  {
   "cell_type": "code",
   "execution_count": null,
   "id": "dc249fdd-beff-4bd5-9954-9c176dfaa7d2",
   "metadata": {
    "tags": []
   },
   "outputs": [],
   "source": [
    "len(route_dir_month_df)"
   ]
  },
  {
   "cell_type": "code",
   "execution_count": null,
   "id": "3b5d25a5-fc85-40d5-b5b7-d382a702bf83",
   "metadata": {
    "tags": []
   },
   "outputs": [],
   "source": [
    "route_dir_month_df.head(1)"
   ]
  },
  {
   "cell_type": "code",
   "execution_count": null,
   "id": "bf27c5e3-84a0-4313-aae6-36b1e2e03308",
   "metadata": {
    "tags": []
   },
   "outputs": [],
   "source": [
    "route_stats_df = _report_route_dir_visuals.reshape_route_stats(route_dir_month_df)"
   ]
  },
  {
   "cell_type": "code",
   "execution_count": null,
   "id": "d5295d1d-f620-4e14-b1db-7292bbc135f8",
   "metadata": {
    "tags": []
   },
   "outputs": [],
   "source": [
    "len(route_stats_df)"
   ]
  },
  {
   "cell_type": "code",
   "execution_count": null,
   "id": "f52a7bd5-a03a-49d2-a776-e4727cc5263b",
   "metadata": {
    "tags": []
   },
   "outputs": [],
   "source": [
    "len(route_stats_df.drop_duplicates())"
   ]
  },
  {
   "cell_type": "code",
   "execution_count": null,
   "id": "9b613c8d-9fbe-4332-b1c6-f6ad91c80369",
   "metadata": {},
   "outputs": [],
   "source": [
    "route_stats_df = route_stats_df.drop_duplicates()"
   ]
  },
  {
   "cell_type": "code",
   "execution_count": null,
   "id": "80b712d9-7d7c-481b-b8e5-048a51c20b22",
   "metadata": {
    "tags": []
   },
   "outputs": [],
   "source": [
    "# Reshape dataframe before plotting\n",
    "melt1 = route_stats_df.melt(\n",
    "    id_vars=[\n",
    "        \"Date\",\n",
    "        \"Route\",\n",
    "        \"Direction\",\n",
    "        \"Direction (0/1)\",\n",
    "    ],\n",
    "    value_vars=[\n",
    "        \"Average Stop Distance (Miles)\",\n",
    "        \"# Scheduled Trips\",\n",
    "        \"Gtfs Availability\",\n",
    "        \"Peak Avg Speed (Mph)\",\n",
    "        \"Peak Scheduled Trips\",\n",
    "        \"Peak Headway (Minutes)\",\n",
    "        \"Offpeak Avg Speed (Mph)\",\n",
    "        \"Offpeak Scheduled Trips\",\n",
    "        \"Offpeak Headway (Minutes)\",\n",
    "    ],\n",
    ")"
   ]
  },
  {
   "cell_type": "code",
   "execution_count": null,
   "id": "4de793aa-43e4-4b5c-bc04-fe4fe9ab1bae",
   "metadata": {
    "tags": []
   },
   "outputs": [],
   "source": [
    "route_stats_df[\"Date\"].unique()"
   ]
  },
  {
   "cell_type": "code",
   "execution_count": null,
   "id": "85e91529-d1dd-4bad-9e86-7e262319bd0f",
   "metadata": {
    "tags": []
   },
   "outputs": [],
   "source": [
    "len(melt1)"
   ]
  },
  {
   "cell_type": "code",
   "execution_count": null,
   "id": "b99bbe62-651c-4561-9d37-12f3affd833b",
   "metadata": {
    "tags": []
   },
   "outputs": [],
   "source": [
    "text_dir0 = _report_route_dir_visuals.text_chart(route_dir_month_df, 0)"
   ]
  },
  {
   "cell_type": "code",
   "execution_count": null,
   "id": "02213a5c-b8ca-4e1f-b817-dbc70712b352",
   "metadata": {
    "tags": []
   },
   "outputs": [],
   "source": [
    "text_dir0"
   ]
  }
 ],
 "metadata": {
  "kernelspec": {
   "display_name": "Python 3 (ipykernel)",
   "language": "python",
   "name": "python3"
  },
  "language_info": {
   "codemirror_mode": {
    "name": "ipython",
    "version": 3
   },
   "file_extension": ".py",
   "mimetype": "text/x-python",
   "name": "python",
   "nbconvert_exporter": "python",
   "pygments_lexer": "ipython3",
   "version": "3.11.10"
  }
 },
 "nbformat": 4,
 "nbformat_minor": 5
}
