{
 "cells": [
  {
   "cell_type": "markdown",
   "id": "1d59ae60-7c56-42cf-af61-1d437874d12a",
   "metadata": {},
   "source": [
    "# Catalina Express is still not appearing on our GTFS Digest yml -> is it even in schedule data? \n"
   ]
  },
  {
   "cell_type": "code",
   "execution_count": 1,
   "id": "36724838-3ba5-4211-9ee2-15b92690c396",
   "metadata": {
    "tags": []
   },
   "outputs": [],
   "source": [
    "import _section1_utils as section1\n",
    "import _section2_utils as section2\n",
    "import geopandas as gpd\n",
    "import merge_data\n",
    "import merge_operator_data\n",
    "import numpy as np\n",
    "import pandas as pd\n",
    "import geopandas as gpd\n",
    "from segment_speed_utils import gtfs_schedule_wrangling, helpers\n",
    "from segment_speed_utils.project_vars import COMPILED_CACHED_VIEWS, PROJECT_CRS\n",
    "from shared_utils import catalog_utils, portfolio_utils, rt_dates\n",
    "from update_vars import GTFS_DATA_DICT, RT_SCHED_GCS, SCHED_GCS, SEGMENT_GCS"
   ]
  },
  {
   "cell_type": "code",
   "execution_count": 2,
   "id": "1bc51863-8ac1-4428-a1a6-70f0f21afc55",
   "metadata": {
    "tags": []
   },
   "outputs": [],
   "source": [
    "pd.options.display.max_columns = 100\n",
    "pd.options.display.float_format = \"{:.2f}\".format\n",
    "pd.set_option(\"display.max_rows\", None)\n",
    "pd.set_option(\"display.max_colwidth\", None)"
   ]
  },
  {
   "cell_type": "code",
   "execution_count": 3,
   "id": "c1916de0-1f0c-4854-a617-8797eb874d73",
   "metadata": {
    "tags": []
   },
   "outputs": [],
   "source": [
    "analysis_date_list = [rt_dates.DATES[\"feb2025\"]]"
   ]
  },
  {
   "cell_type": "code",
   "execution_count": 4,
   "id": "f031ef52-8b92-487d-a080-c496cfe2c5f6",
   "metadata": {
    "tags": []
   },
   "outputs": [],
   "source": [
    "analysis_date = rt_dates.DATES[\"feb2025\"]"
   ]
  },
  {
   "cell_type": "markdown",
   "id": "c925f0a9-785a-4e07-b223-7b11be249c30",
   "metadata": {
    "tags": []
   },
   "source": [
    "## Catalina isn't here."
   ]
  },
  {
   "cell_type": "code",
   "execution_count": 12,
   "id": "c8536dc2-6f12-46eb-931e-69f072fd1ba1",
   "metadata": {
    "tags": []
   },
   "outputs": [],
   "source": [
    "df_crosswalk = merge_data.concatenate_crosswalk_organization(\n",
    "        analysis_date_list\n",
    "    )"
   ]
  },
  {
   "cell_type": "code",
   "execution_count": 13,
   "id": "241a5d94-0634-40d6-8200-bd690bfd3fec",
   "metadata": {
    "tags": []
   },
   "outputs": [],
   "source": [
    "df_schd = merge_data.concatenate_rt_vs_schedule_by_route_direction(\n",
    "        analysis_date_list\n",
    "    )"
   ]
  },
  {
   "cell_type": "code",
   "execution_count": 14,
   "id": "b6faf3fb-c9cb-4dba-8b12-d3848b9958af",
   "metadata": {
    "tags": []
   },
   "outputs": [],
   "source": [
    "m1 = pd.merge(df_crosswalk, \n",
    "             df_schd, \n",
    "              on = [\"schedule_gtfs_dataset_key\", \"service_date\"],\n",
    "        how = \"left\")"
   ]
  },
  {
   "cell_type": "code",
   "execution_count": 15,
   "id": "0c204127-b10e-436b-8f97-5e000a0d1714",
   "metadata": {
    "tags": []
   },
   "outputs": [
    {
     "data": {
      "text/html": [
       "<div>\n",
       "<style scoped>\n",
       "    .dataframe tbody tr th:only-of-type {\n",
       "        vertical-align: middle;\n",
       "    }\n",
       "\n",
       "    .dataframe tbody tr th {\n",
       "        vertical-align: top;\n",
       "    }\n",
       "\n",
       "    .dataframe thead th {\n",
       "        text-align: right;\n",
       "    }\n",
       "</style>\n",
       "<table border=\"1\" class=\"dataframe\">\n",
       "  <thead>\n",
       "    <tr style=\"text-align: right;\">\n",
       "      <th></th>\n",
       "      <th>schedule_gtfs_dataset_key</th>\n",
       "      <th>name_x</th>\n",
       "      <th>schedule_source_record_id_x</th>\n",
       "      <th>base64_url</th>\n",
       "      <th>organization_source_record_id</th>\n",
       "      <th>organization_name</th>\n",
       "      <th>caltrans_district</th>\n",
       "      <th>service_date</th>\n",
       "      <th>route_id</th>\n",
       "      <th>direction_id</th>\n",
       "      <th>time_period</th>\n",
       "      <th>minutes_atleast1_vp</th>\n",
       "      <th>minutes_atleast2_vp</th>\n",
       "      <th>total_rt_service_minutes</th>\n",
       "      <th>total_scheduled_service_minutes</th>\n",
       "      <th>total_vp</th>\n",
       "      <th>vp_in_shape</th>\n",
       "      <th>is_early</th>\n",
       "      <th>is_ontime</th>\n",
       "      <th>is_late</th>\n",
       "      <th>n_vp_trips</th>\n",
       "      <th>vp_per_minute</th>\n",
       "      <th>pct_in_shape</th>\n",
       "      <th>pct_rt_journey_atleast1_vp</th>\n",
       "      <th>pct_rt_journey_atleast2_vp</th>\n",
       "      <th>pct_sched_journey_atleast1_vp</th>\n",
       "      <th>pct_sched_journey_atleast2_vp</th>\n",
       "      <th>rt_sched_journey_ratio</th>\n",
       "      <th>avg_rt_service_minutes</th>\n",
       "      <th>name_y</th>\n",
       "      <th>schedule_source_record_id_y</th>\n",
       "    </tr>\n",
       "  </thead>\n",
       "  <tbody>\n",
       "    <tr>\n",
       "      <th>0</th>\n",
       "      <td>ff1bc5dde661d62c877165421e9ca257</td>\n",
       "      <td>Santa Ynez Mecatran Schedule</td>\n",
       "      <td>recuWhPXfxMatv6rL</td>\n",
       "      <td>aHR0cDovL2FwcC5tZWNhdHJhbi5jb20vdXJiL3dzL2ZlZWQvYzJsMFpUMXplWFowTzJOc2FXVnVkRDF6Wld4bU8yVjRjR2x5WlQwN2RIbHdaVDFuZEdaek8ydGxlVDAwTWpjd056UTBaVFk0TlRBek9UTXlNREl4TURkak56STBNRFJrTXpZeU5UTTRNekkwWXpJMA==</td>\n",
       "      <td>reckp33bhAuZlmO1M</td>\n",
       "      <td>City of Solvang</td>\n",
       "      <td>05 - San Luis Obispo</td>\n",
       "      <td>2025-02-12</td>\n",
       "      <td>ROUTEA</td>\n",
       "      <td>0.00</td>\n",
       "      <td>all_day</td>\n",
       "      <td>308.00</td>\n",
       "      <td>301.00</td>\n",
       "      <td>299.23</td>\n",
       "      <td>270.00</td>\n",
       "      <td>912.00</td>\n",
       "      <td>432.00</td>\n",
       "      <td>2.00</td>\n",
       "      <td>5.00</td>\n",
       "      <td>2.00</td>\n",
       "      <td>9.00</td>\n",
       "      <td>3.05</td>\n",
       "      <td>0.47</td>\n",
       "      <td>1.00</td>\n",
       "      <td>1.00</td>\n",
       "      <td>1.00</td>\n",
       "      <td>1.00</td>\n",
       "      <td>1.11</td>\n",
       "      <td>33.25</td>\n",
       "      <td>Santa Ynez Mecatran Schedule</td>\n",
       "      <td>recuWhPXfxMatv6rL</td>\n",
       "    </tr>\n",
       "    <tr>\n",
       "      <th>1</th>\n",
       "      <td>ff1bc5dde661d62c877165421e9ca257</td>\n",
       "      <td>Santa Ynez Mecatran Schedule</td>\n",
       "      <td>recuWhPXfxMatv6rL</td>\n",
       "      <td>aHR0cDovL2FwcC5tZWNhdHJhbi5jb20vdXJiL3dzL2ZlZWQvYzJsMFpUMXplWFowTzJOc2FXVnVkRDF6Wld4bU8yVjRjR2x5WlQwN2RIbHdaVDFuZEdaek8ydGxlVDAwTWpjd056UTBaVFk0TlRBek9UTXlNREl4TURkak56STBNRFJrTXpZeU5UTTRNekkwWXpJMA==</td>\n",
       "      <td>reckp33bhAuZlmO1M</td>\n",
       "      <td>City of Solvang</td>\n",
       "      <td>05 - San Luis Obispo</td>\n",
       "      <td>2025-02-12</td>\n",
       "      <td>ROUTEA</td>\n",
       "      <td>0.00</td>\n",
       "      <td>offpeak</td>\n",
       "      <td>111.00</td>\n",
       "      <td>106.00</td>\n",
       "      <td>106.70</td>\n",
       "      <td>120.00</td>\n",
       "      <td>327.00</td>\n",
       "      <td>143.00</td>\n",
       "      <td>1.00</td>\n",
       "      <td>3.00</td>\n",
       "      <td>0.00</td>\n",
       "      <td>4.00</td>\n",
       "      <td>3.06</td>\n",
       "      <td>0.44</td>\n",
       "      <td>1.00</td>\n",
       "      <td>0.99</td>\n",
       "      <td>0.93</td>\n",
       "      <td>0.88</td>\n",
       "      <td>0.89</td>\n",
       "      <td>26.68</td>\n",
       "      <td>Santa Ynez Mecatran Schedule</td>\n",
       "      <td>recuWhPXfxMatv6rL</td>\n",
       "    </tr>\n",
       "  </tbody>\n",
       "</table>\n",
       "</div>"
      ],
      "text/plain": [
       "          schedule_gtfs_dataset_key                        name_x  \\\n",
       "0  ff1bc5dde661d62c877165421e9ca257  Santa Ynez Mecatran Schedule   \n",
       "1  ff1bc5dde661d62c877165421e9ca257  Santa Ynez Mecatran Schedule   \n",
       "\n",
       "  schedule_source_record_id_x  \\\n",
       "0           recuWhPXfxMatv6rL   \n",
       "1           recuWhPXfxMatv6rL   \n",
       "\n",
       "                                                                                                                                                                                                 base64_url  \\\n",
       "0  aHR0cDovL2FwcC5tZWNhdHJhbi5jb20vdXJiL3dzL2ZlZWQvYzJsMFpUMXplWFowTzJOc2FXVnVkRDF6Wld4bU8yVjRjR2x5WlQwN2RIbHdaVDFuZEdaek8ydGxlVDAwTWpjd056UTBaVFk0TlRBek9UTXlNREl4TURkak56STBNRFJrTXpZeU5UTTRNekkwWXpJMA==   \n",
       "1  aHR0cDovL2FwcC5tZWNhdHJhbi5jb20vdXJiL3dzL2ZlZWQvYzJsMFpUMXplWFowTzJOc2FXVnVkRDF6Wld4bU8yVjRjR2x5WlQwN2RIbHdaVDFuZEdaek8ydGxlVDAwTWpjd056UTBaVFk0TlRBek9UTXlNREl4TURkak56STBNRFJrTXpZeU5UTTRNekkwWXpJMA==   \n",
       "\n",
       "  organization_source_record_id organization_name     caltrans_district  \\\n",
       "0             reckp33bhAuZlmO1M   City of Solvang  05 - San Luis Obispo   \n",
       "1             reckp33bhAuZlmO1M   City of Solvang  05 - San Luis Obispo   \n",
       "\n",
       "  service_date route_id  direction_id time_period  minutes_atleast1_vp  \\\n",
       "0   2025-02-12   ROUTEA          0.00     all_day               308.00   \n",
       "1   2025-02-12   ROUTEA          0.00     offpeak               111.00   \n",
       "\n",
       "   minutes_atleast2_vp  total_rt_service_minutes  \\\n",
       "0               301.00                    299.23   \n",
       "1               106.00                    106.70   \n",
       "\n",
       "   total_scheduled_service_minutes  total_vp  vp_in_shape  is_early  \\\n",
       "0                           270.00    912.00       432.00      2.00   \n",
       "1                           120.00    327.00       143.00      1.00   \n",
       "\n",
       "   is_ontime  is_late  n_vp_trips  vp_per_minute  pct_in_shape  \\\n",
       "0       5.00     2.00        9.00           3.05          0.47   \n",
       "1       3.00     0.00        4.00           3.06          0.44   \n",
       "\n",
       "   pct_rt_journey_atleast1_vp  pct_rt_journey_atleast2_vp  \\\n",
       "0                        1.00                        1.00   \n",
       "1                        1.00                        0.99   \n",
       "\n",
       "   pct_sched_journey_atleast1_vp  pct_sched_journey_atleast2_vp  \\\n",
       "0                           1.00                           1.00   \n",
       "1                           0.93                           0.88   \n",
       "\n",
       "   rt_sched_journey_ratio  avg_rt_service_minutes  \\\n",
       "0                    1.11                   33.25   \n",
       "1                    0.89                   26.68   \n",
       "\n",
       "                         name_y schedule_source_record_id_y  \n",
       "0  Santa Ynez Mecatran Schedule           recuWhPXfxMatv6rL  \n",
       "1  Santa Ynez Mecatran Schedule           recuWhPXfxMatv6rL  "
      ]
     },
     "execution_count": 15,
     "metadata": {},
     "output_type": "execute_result"
    }
   ],
   "source": [
    "m1.head(2)"
   ]
  },
  {
   "cell_type": "code",
   "execution_count": 16,
   "id": "c2016884-acaa-4e46-be08-657851a54206",
   "metadata": {
    "tags": []
   },
   "outputs": [
    {
     "data": {
      "text/html": [
       "<div>\n",
       "<style scoped>\n",
       "    .dataframe tbody tr th:only-of-type {\n",
       "        vertical-align: middle;\n",
       "    }\n",
       "\n",
       "    .dataframe tbody tr th {\n",
       "        vertical-align: top;\n",
       "    }\n",
       "\n",
       "    .dataframe thead th {\n",
       "        text-align: right;\n",
       "    }\n",
       "</style>\n",
       "<table border=\"1\" class=\"dataframe\">\n",
       "  <thead>\n",
       "    <tr style=\"text-align: right;\">\n",
       "      <th></th>\n",
       "      <th>schedule_gtfs_dataset_key</th>\n",
       "      <th>name_x</th>\n",
       "      <th>schedule_source_record_id_x</th>\n",
       "      <th>base64_url</th>\n",
       "      <th>organization_source_record_id</th>\n",
       "      <th>organization_name</th>\n",
       "      <th>caltrans_district</th>\n",
       "      <th>service_date</th>\n",
       "      <th>route_id</th>\n",
       "      <th>direction_id</th>\n",
       "      <th>time_period</th>\n",
       "      <th>minutes_atleast1_vp</th>\n",
       "      <th>minutes_atleast2_vp</th>\n",
       "      <th>total_rt_service_minutes</th>\n",
       "      <th>total_scheduled_service_minutes</th>\n",
       "      <th>total_vp</th>\n",
       "      <th>vp_in_shape</th>\n",
       "      <th>is_early</th>\n",
       "      <th>is_ontime</th>\n",
       "      <th>is_late</th>\n",
       "      <th>n_vp_trips</th>\n",
       "      <th>vp_per_minute</th>\n",
       "      <th>pct_in_shape</th>\n",
       "      <th>pct_rt_journey_atleast1_vp</th>\n",
       "      <th>pct_rt_journey_atleast2_vp</th>\n",
       "      <th>pct_sched_journey_atleast1_vp</th>\n",
       "      <th>pct_sched_journey_atleast2_vp</th>\n",
       "      <th>rt_sched_journey_ratio</th>\n",
       "      <th>avg_rt_service_minutes</th>\n",
       "      <th>name_y</th>\n",
       "      <th>schedule_source_record_id_y</th>\n",
       "    </tr>\n",
       "  </thead>\n",
       "  <tbody>\n",
       "  </tbody>\n",
       "</table>\n",
       "</div>"
      ],
      "text/plain": [
       "Empty DataFrame\n",
       "Columns: [schedule_gtfs_dataset_key, name_x, schedule_source_record_id_x, base64_url, organization_source_record_id, organization_name, caltrans_district, service_date, route_id, direction_id, time_period, minutes_atleast1_vp, minutes_atleast2_vp, total_rt_service_minutes, total_scheduled_service_minutes, total_vp, vp_in_shape, is_early, is_ontime, is_late, n_vp_trips, vp_per_minute, pct_in_shape, pct_rt_journey_atleast1_vp, pct_rt_journey_atleast2_vp, pct_sched_journey_atleast1_vp, pct_sched_journey_atleast2_vp, rt_sched_journey_ratio, avg_rt_service_minutes, name_y, schedule_source_record_id_y]\n",
       "Index: []"
      ]
     },
     "execution_count": 16,
     "metadata": {},
     "output_type": "execute_result"
    }
   ],
   "source": [
    "m1.loc[m1.organization_name.str.contains(\"Cat\")]"
   ]
  },
  {
   "cell_type": "code",
   "execution_count": 17,
   "id": "afb38f79-3060-4d3b-8f5b-c9bf0e193733",
   "metadata": {
    "tags": []
   },
   "outputs": [
    {
     "data": {
      "text/html": [
       "<div>\n",
       "<style scoped>\n",
       "    .dataframe tbody tr th:only-of-type {\n",
       "        vertical-align: middle;\n",
       "    }\n",
       "\n",
       "    .dataframe tbody tr th {\n",
       "        vertical-align: top;\n",
       "    }\n",
       "\n",
       "    .dataframe thead th {\n",
       "        text-align: right;\n",
       "    }\n",
       "</style>\n",
       "<table border=\"1\" class=\"dataframe\">\n",
       "  <thead>\n",
       "    <tr style=\"text-align: right;\">\n",
       "      <th></th>\n",
       "      <th>schedule_gtfs_dataset_key</th>\n",
       "      <th>name_x</th>\n",
       "      <th>schedule_source_record_id_x</th>\n",
       "      <th>base64_url</th>\n",
       "      <th>organization_source_record_id</th>\n",
       "      <th>organization_name</th>\n",
       "      <th>caltrans_district</th>\n",
       "      <th>service_date</th>\n",
       "      <th>route_id</th>\n",
       "      <th>direction_id</th>\n",
       "      <th>time_period</th>\n",
       "      <th>minutes_atleast1_vp</th>\n",
       "      <th>minutes_atleast2_vp</th>\n",
       "      <th>total_rt_service_minutes</th>\n",
       "      <th>total_scheduled_service_minutes</th>\n",
       "      <th>total_vp</th>\n",
       "      <th>vp_in_shape</th>\n",
       "      <th>is_early</th>\n",
       "      <th>is_ontime</th>\n",
       "      <th>is_late</th>\n",
       "      <th>n_vp_trips</th>\n",
       "      <th>vp_per_minute</th>\n",
       "      <th>pct_in_shape</th>\n",
       "      <th>pct_rt_journey_atleast1_vp</th>\n",
       "      <th>pct_rt_journey_atleast2_vp</th>\n",
       "      <th>pct_sched_journey_atleast1_vp</th>\n",
       "      <th>pct_sched_journey_atleast2_vp</th>\n",
       "      <th>rt_sched_journey_ratio</th>\n",
       "      <th>avg_rt_service_minutes</th>\n",
       "      <th>name_y</th>\n",
       "      <th>schedule_source_record_id_y</th>\n",
       "    </tr>\n",
       "  </thead>\n",
       "  <tbody>\n",
       "  </tbody>\n",
       "</table>\n",
       "</div>"
      ],
      "text/plain": [
       "Empty DataFrame\n",
       "Columns: [schedule_gtfs_dataset_key, name_x, schedule_source_record_id_x, base64_url, organization_source_record_id, organization_name, caltrans_district, service_date, route_id, direction_id, time_period, minutes_atleast1_vp, minutes_atleast2_vp, total_rt_service_minutes, total_scheduled_service_minutes, total_vp, vp_in_shape, is_early, is_ontime, is_late, n_vp_trips, vp_per_minute, pct_in_shape, pct_rt_journey_atleast1_vp, pct_rt_journey_atleast2_vp, pct_sched_journey_atleast1_vp, pct_sched_journey_atleast2_vp, rt_sched_journey_ratio, avg_rt_service_minutes, name_y, schedule_source_record_id_y]\n",
       "Index: []"
      ]
     },
     "execution_count": 17,
     "metadata": {},
     "output_type": "execute_result"
    }
   ],
   "source": [
    "m1.loc[m1.name_x.str.contains(\"Cat\")]"
   ]
  },
  {
   "cell_type": "code",
   "execution_count": 18,
   "id": "33f6a483-701b-4dbe-8cbd-0476b1095384",
   "metadata": {
    "tags": []
   },
   "outputs": [
    {
     "data": {
      "text/plain": [
       "Index(['schedule_gtfs_dataset_key', 'name_x', 'schedule_source_record_id_x',\n",
       "       'base64_url', 'organization_source_record_id', 'organization_name',\n",
       "       'caltrans_district', 'service_date', 'route_id', 'direction_id',\n",
       "       'time_period', 'minutes_atleast1_vp', 'minutes_atleast2_vp',\n",
       "       'total_rt_service_minutes', 'total_scheduled_service_minutes',\n",
       "       'total_vp', 'vp_in_shape', 'is_early', 'is_ontime', 'is_late',\n",
       "       'n_vp_trips', 'vp_per_minute', 'pct_in_shape',\n",
       "       'pct_rt_journey_atleast1_vp', 'pct_rt_journey_atleast2_vp',\n",
       "       'pct_sched_journey_atleast1_vp', 'pct_sched_journey_atleast2_vp',\n",
       "       'rt_sched_journey_ratio', 'avg_rt_service_minutes', 'name_y',\n",
       "       'schedule_source_record_id_y'],\n",
       "      dtype='object')"
      ]
     },
     "execution_count": 18,
     "metadata": {},
     "output_type": "execute_result"
    }
   ],
   "source": [
    "m1.columns"
   ]
  },
  {
   "cell_type": "code",
   "execution_count": 20,
   "id": "154d5b2d-4123-412f-b81a-55d4b3b92d1a",
   "metadata": {
    "tags": []
   },
   "outputs": [],
   "source": [
    "m1 = m1.fillna(\"None\")"
   ]
  },
  {
   "cell_type": "code",
   "execution_count": 21,
   "id": "6fcbbbb7-925d-4845-b8a5-cea6572e0e22",
   "metadata": {
    "tags": []
   },
   "outputs": [
    {
     "data": {
      "text/html": [
       "<div>\n",
       "<style scoped>\n",
       "    .dataframe tbody tr th:only-of-type {\n",
       "        vertical-align: middle;\n",
       "    }\n",
       "\n",
       "    .dataframe tbody tr th {\n",
       "        vertical-align: top;\n",
       "    }\n",
       "\n",
       "    .dataframe thead th {\n",
       "        text-align: right;\n",
       "    }\n",
       "</style>\n",
       "<table border=\"1\" class=\"dataframe\">\n",
       "  <thead>\n",
       "    <tr style=\"text-align: right;\">\n",
       "      <th></th>\n",
       "      <th>schedule_gtfs_dataset_key</th>\n",
       "      <th>name_x</th>\n",
       "      <th>schedule_source_record_id_x</th>\n",
       "      <th>base64_url</th>\n",
       "      <th>organization_source_record_id</th>\n",
       "      <th>organization_name</th>\n",
       "      <th>caltrans_district</th>\n",
       "      <th>service_date</th>\n",
       "      <th>route_id</th>\n",
       "      <th>direction_id</th>\n",
       "      <th>time_period</th>\n",
       "      <th>minutes_atleast1_vp</th>\n",
       "      <th>minutes_atleast2_vp</th>\n",
       "      <th>total_rt_service_minutes</th>\n",
       "      <th>total_scheduled_service_minutes</th>\n",
       "      <th>total_vp</th>\n",
       "      <th>vp_in_shape</th>\n",
       "      <th>is_early</th>\n",
       "      <th>is_ontime</th>\n",
       "      <th>is_late</th>\n",
       "      <th>n_vp_trips</th>\n",
       "      <th>vp_per_minute</th>\n",
       "      <th>pct_in_shape</th>\n",
       "      <th>pct_rt_journey_atleast1_vp</th>\n",
       "      <th>pct_rt_journey_atleast2_vp</th>\n",
       "      <th>pct_sched_journey_atleast1_vp</th>\n",
       "      <th>pct_sched_journey_atleast2_vp</th>\n",
       "      <th>rt_sched_journey_ratio</th>\n",
       "      <th>avg_rt_service_minutes</th>\n",
       "      <th>name_y</th>\n",
       "      <th>schedule_source_record_id_y</th>\n",
       "    </tr>\n",
       "  </thead>\n",
       "  <tbody>\n",
       "  </tbody>\n",
       "</table>\n",
       "</div>"
      ],
      "text/plain": [
       "Empty DataFrame\n",
       "Columns: [schedule_gtfs_dataset_key, name_x, schedule_source_record_id_x, base64_url, organization_source_record_id, organization_name, caltrans_district, service_date, route_id, direction_id, time_period, minutes_atleast1_vp, minutes_atleast2_vp, total_rt_service_minutes, total_scheduled_service_minutes, total_vp, vp_in_shape, is_early, is_ontime, is_late, n_vp_trips, vp_per_minute, pct_in_shape, pct_rt_journey_atleast1_vp, pct_rt_journey_atleast2_vp, pct_sched_journey_atleast1_vp, pct_sched_journey_atleast2_vp, rt_sched_journey_ratio, avg_rt_service_minutes, name_y, schedule_source_record_id_y]\n",
       "Index: []"
      ]
     },
     "execution_count": 21,
     "metadata": {},
     "output_type": "execute_result"
    }
   ],
   "source": [
    "m1.loc[m1.route_id.str.contains(\"Avalon\")]"
   ]
  },
  {
   "cell_type": "markdown",
   "id": "5b351d5a-6eae-4310-848b-b2b0d354821f",
   "metadata": {},
   "source": [
    "## Go back to  `schedule_metrics_by_route_direction`"
   ]
  },
  {
   "cell_type": "code",
   "execution_count": 22,
   "id": "4bc0683d-e1f8-4e46-af78-01941e94582d",
   "metadata": {
    "tags": []
   },
   "outputs": [],
   "source": [
    "import sys\n",
    "\n",
    "sys.path.append(\"../gtfs_funnel/\")\n",
    "import schedule_stats_by_route_direction"
   ]
  },
  {
   "cell_type": "code",
   "execution_count": 23,
   "id": "ed5f93ec-a1eb-4d83-aeb9-4651420a4900",
   "metadata": {
    "tags": []
   },
   "outputs": [],
   "source": [
    "route_group_merge_cols = [\n",
    "            \"schedule_gtfs_dataset_key\", \n",
    "            \"route_id\", \n",
    "            \"direction_id\"\n",
    "        ]\n",
    "        "
   ]
  },
  {
   "cell_type": "code",
   "execution_count": null,
   "id": "bfaf66c8-ec1d-49de-9da0-720bdc1a7a55",
   "metadata": {},
   "outputs": [],
   "source": []
  },
  {
   "cell_type": "code",
   "execution_count": 24,
   "id": "ad02f069-13a9-4f0b-96f1-483626c9085c",
   "metadata": {
    "tags": []
   },
   "outputs": [],
   "source": [
    "trip_metrics = schedule_stats_by_route_direction.assemble_scheduled_trip_metrics(\n",
    "    analysis_date, GTFS_DATA_DICT\n",
    ")"
   ]
  },
  {
   "cell_type": "code",
   "execution_count": 30,
   "id": "881c2e67-e314-4eb1-bdfd-c20e1a32b653",
   "metadata": {
    "tags": []
   },
   "outputs": [
    {
     "data": {
      "text/plain": [
       "'gs://calitp-analytics-data/data-analyses/rt_vs_schedule/stop_times_direction'"
      ]
     },
     "execution_count": 30,
     "metadata": {},
     "output_type": "execute_result"
    }
   ],
   "source": [
    "f\"{RT_SCHED_GCS}{GTFS_DATA_DICT.rt_vs_schedule_tables.stop_times_direction}\""
   ]
  },
  {
   "cell_type": "code",
   "execution_count": 25,
   "id": "595af99f-d330-4f3e-836d-221a5bc1f7bc",
   "metadata": {
    "tags": []
   },
   "outputs": [
    {
     "data": {
      "text/html": [
       "<div>\n",
       "<style scoped>\n",
       "    .dataframe tbody tr th:only-of-type {\n",
       "        vertical-align: middle;\n",
       "    }\n",
       "\n",
       "    .dataframe tbody tr th {\n",
       "        vertical-align: top;\n",
       "    }\n",
       "\n",
       "    .dataframe thead th {\n",
       "        text-align: right;\n",
       "    }\n",
       "</style>\n",
       "<table border=\"1\" class=\"dataframe\">\n",
       "  <thead>\n",
       "    <tr style=\"text-align: right;\">\n",
       "      <th></th>\n",
       "      <th>schedule_gtfs_dataset_key</th>\n",
       "      <th>trip_instance_key</th>\n",
       "      <th>median_stop_meters</th>\n",
       "      <th>time_of_day</th>\n",
       "      <th>scheduled_service_minutes</th>\n",
       "      <th>route_id</th>\n",
       "      <th>direction_id</th>\n",
       "    </tr>\n",
       "  </thead>\n",
       "  <tbody>\n",
       "    <tr>\n",
       "      <th>0</th>\n",
       "      <td>0139b1253130b33adcd4b3a4490530d2</td>\n",
       "      <td>0040e3cfa3a954c543b05c41235ca529</td>\n",
       "      <td>19670.88</td>\n",
       "      <td>Midday</td>\n",
       "      <td>40.00</td>\n",
       "      <td>T5</td>\n",
       "      <td>NaN</td>\n",
       "    </tr>\n",
       "  </tbody>\n",
       "</table>\n",
       "</div>"
      ],
      "text/plain": [
       "          schedule_gtfs_dataset_key                 trip_instance_key  \\\n",
       "0  0139b1253130b33adcd4b3a4490530d2  0040e3cfa3a954c543b05c41235ca529   \n",
       "\n",
       "   median_stop_meters time_of_day  scheduled_service_minutes route_id  \\\n",
       "0            19670.88      Midday                      40.00       T5   \n",
       "\n",
       "   direction_id  \n",
       "0           NaN  "
      ]
     },
     "execution_count": 25,
     "metadata": {},
     "output_type": "execute_result"
    }
   ],
   "source": [
    "trip_metrics.head(1)"
   ]
  },
  {
   "cell_type": "code",
   "execution_count": 26,
   "id": "2f62b7dd-d44b-47fa-8238-fe94acf3e417",
   "metadata": {
    "tags": []
   },
   "outputs": [
    {
     "data": {
      "text/html": [
       "<div>\n",
       "<style scoped>\n",
       "    .dataframe tbody tr th:only-of-type {\n",
       "        vertical-align: middle;\n",
       "    }\n",
       "\n",
       "    .dataframe tbody tr th {\n",
       "        vertical-align: top;\n",
       "    }\n",
       "\n",
       "    .dataframe thead th {\n",
       "        text-align: right;\n",
       "    }\n",
       "</style>\n",
       "<table border=\"1\" class=\"dataframe\">\n",
       "  <thead>\n",
       "    <tr style=\"text-align: right;\">\n",
       "      <th></th>\n",
       "      <th>schedule_gtfs_dataset_key</th>\n",
       "      <th>trip_instance_key</th>\n",
       "      <th>median_stop_meters</th>\n",
       "      <th>time_of_day</th>\n",
       "      <th>scheduled_service_minutes</th>\n",
       "      <th>route_id</th>\n",
       "      <th>direction_id</th>\n",
       "    </tr>\n",
       "  </thead>\n",
       "  <tbody>\n",
       "  </tbody>\n",
       "</table>\n",
       "</div>"
      ],
      "text/plain": [
       "Empty DataFrame\n",
       "Columns: [schedule_gtfs_dataset_key, trip_instance_key, median_stop_meters, time_of_day, scheduled_service_minutes, route_id, direction_id]\n",
       "Index: []"
      ]
     },
     "execution_count": 26,
     "metadata": {},
     "output_type": "execute_result"
    }
   ],
   "source": [
    "trip_metrics.loc[trip_metrics.route_id.str.contains(\"Avalon\")]"
   ]
  },
  {
   "cell_type": "code",
   "execution_count": 27,
   "id": "49128ea8-26ed-438b-a043-bf2222706785",
   "metadata": {
    "tags": []
   },
   "outputs": [
    {
     "data": {
      "text/html": [
       "<div>\n",
       "<style scoped>\n",
       "    .dataframe tbody tr th:only-of-type {\n",
       "        vertical-align: middle;\n",
       "    }\n",
       "\n",
       "    .dataframe tbody tr th {\n",
       "        vertical-align: top;\n",
       "    }\n",
       "\n",
       "    .dataframe thead th {\n",
       "        text-align: right;\n",
       "    }\n",
       "</style>\n",
       "<table border=\"1\" class=\"dataframe\">\n",
       "  <thead>\n",
       "    <tr style=\"text-align: right;\">\n",
       "      <th></th>\n",
       "      <th>schedule_gtfs_dataset_key</th>\n",
       "      <th>trip_instance_key</th>\n",
       "      <th>median_stop_meters</th>\n",
       "      <th>time_of_day</th>\n",
       "      <th>scheduled_service_minutes</th>\n",
       "      <th>route_id</th>\n",
       "      <th>direction_id</th>\n",
       "    </tr>\n",
       "  </thead>\n",
       "  <tbody>\n",
       "  </tbody>\n",
       "</table>\n",
       "</div>"
      ],
      "text/plain": [
       "Empty DataFrame\n",
       "Columns: [schedule_gtfs_dataset_key, trip_instance_key, median_stop_meters, time_of_day, scheduled_service_minutes, route_id, direction_id]\n",
       "Index: []"
      ]
     },
     "execution_count": 27,
     "metadata": {},
     "output_type": "execute_result"
    }
   ],
   "source": [
    "trip_metrics.loc[trip_metrics.route_id.str.contains(\"Long\")]"
   ]
  },
  {
   "cell_type": "markdown",
   "id": "19efec3f-11ae-43d7-82d7-1f249757093b",
   "metadata": {},
   "source": [
    "### Go back to `rt_segment_speeds/segment_speed_utils/helpers`"
   ]
  },
  {
   "cell_type": "code",
   "execution_count": 31,
   "id": "88ba26cc-1030-48d3-91f8-5c58acbe1d0d",
   "metadata": {
    "tags": []
   },
   "outputs": [],
   "source": [
    "TABLE = GTFS_DATA_DICT.schedule_downloads.trips\n",
    "FILE = f\"{COMPILED_CACHED_VIEWS}{TABLE}_{analysis_date}.parquet\""
   ]
  },
  {
   "cell_type": "code",
   "execution_count": 32,
   "id": "c61f1a13-36f1-4b7a-81a7-4cc4710791a6",
   "metadata": {
    "tags": []
   },
   "outputs": [],
   "source": [
    "schd_trips = pd.read_parquet(FILE)"
   ]
  },
  {
   "cell_type": "code",
   "execution_count": 33,
   "id": "36477bf9-bdd7-49d7-b1a4-752d4cc97143",
   "metadata": {
    "tags": []
   },
   "outputs": [
    {
     "data": {
      "text/html": [
       "<div>\n",
       "<style scoped>\n",
       "    .dataframe tbody tr th:only-of-type {\n",
       "        vertical-align: middle;\n",
       "    }\n",
       "\n",
       "    .dataframe tbody tr th {\n",
       "        vertical-align: top;\n",
       "    }\n",
       "\n",
       "    .dataframe thead th {\n",
       "        text-align: right;\n",
       "    }\n",
       "</style>\n",
       "<table border=\"1\" class=\"dataframe\">\n",
       "  <thead>\n",
       "    <tr style=\"text-align: right;\">\n",
       "      <th></th>\n",
       "      <th>feed_key</th>\n",
       "      <th>gtfs_dataset_key</th>\n",
       "      <th>name</th>\n",
       "      <th>regional_feed_type</th>\n",
       "      <th>service_date</th>\n",
       "      <th>trip_start_date_pacific</th>\n",
       "      <th>trip_id</th>\n",
       "      <th>trip_instance_key</th>\n",
       "      <th>route_key</th>\n",
       "      <th>route_id</th>\n",
       "      <th>route_type</th>\n",
       "      <th>route_short_name</th>\n",
       "      <th>route_long_name</th>\n",
       "      <th>route_desc</th>\n",
       "      <th>direction_id</th>\n",
       "      <th>shape_array_key</th>\n",
       "      <th>shape_id</th>\n",
       "      <th>trip_first_departure_datetime_pacific</th>\n",
       "      <th>trip_last_arrival_datetime_pacific</th>\n",
       "      <th>service_hours</th>\n",
       "      <th>trip_start_date_local_tz</th>\n",
       "      <th>trip_first_departure_datetime_local_tz</th>\n",
       "      <th>trip_last_arrival_datetime_local_tz</th>\n",
       "    </tr>\n",
       "  </thead>\n",
       "  <tbody>\n",
       "    <tr>\n",
       "      <th>0</th>\n",
       "      <td>321d2312b1e4b8887bbf20eda99c1bf5</td>\n",
       "      <td>ff1bc5dde661d62c877165421e9ca257</td>\n",
       "      <td>Santa Ynez Mecatran Schedule</td>\n",
       "      <td>None</td>\n",
       "      <td>2025-02-12</td>\n",
       "      <td>2025-02-12</td>\n",
       "      <td>ROUTEA|18766535:T18|16:30:00</td>\n",
       "      <td>662c09eca02599c539ba079ace32ef9c</td>\n",
       "      <td>cfc0d13b1dcc26403ef7da0441d3fb2b</td>\n",
       "      <td>ROUTEA</td>\n",
       "      <td>3</td>\n",
       "      <td>None</td>\n",
       "      <td>Express</td>\n",
       "      <td>None</td>\n",
       "      <td>0.00</td>\n",
       "      <td>35a6b609da2e404abbebdf6603dd96c3</td>\n",
       "      <td>ROUTEA:1</td>\n",
       "      <td>2025-02-12 16:30:00</td>\n",
       "      <td>2025-02-12 17:00:00</td>\n",
       "      <td>0.50</td>\n",
       "      <td>2025-02-12</td>\n",
       "      <td>2025-02-12 16:30:00</td>\n",
       "      <td>2025-02-12 17:00:00</td>\n",
       "    </tr>\n",
       "  </tbody>\n",
       "</table>\n",
       "</div>"
      ],
      "text/plain": [
       "                           feed_key                  gtfs_dataset_key  \\\n",
       "0  321d2312b1e4b8887bbf20eda99c1bf5  ff1bc5dde661d62c877165421e9ca257   \n",
       "\n",
       "                           name regional_feed_type service_date  \\\n",
       "0  Santa Ynez Mecatran Schedule               None   2025-02-12   \n",
       "\n",
       "  trip_start_date_pacific                       trip_id  \\\n",
       "0              2025-02-12  ROUTEA|18766535:T18|16:30:00   \n",
       "\n",
       "                  trip_instance_key                         route_key  \\\n",
       "0  662c09eca02599c539ba079ace32ef9c  cfc0d13b1dcc26403ef7da0441d3fb2b   \n",
       "\n",
       "  route_id route_type route_short_name route_long_name route_desc  \\\n",
       "0   ROUTEA          3             None         Express       None   \n",
       "\n",
       "   direction_id                   shape_array_key  shape_id  \\\n",
       "0          0.00  35a6b609da2e404abbebdf6603dd96c3  ROUTEA:1   \n",
       "\n",
       "  trip_first_departure_datetime_pacific trip_last_arrival_datetime_pacific  \\\n",
       "0                   2025-02-12 16:30:00                2025-02-12 17:00:00   \n",
       "\n",
       "   service_hours trip_start_date_local_tz  \\\n",
       "0           0.50               2025-02-12   \n",
       "\n",
       "  trip_first_departure_datetime_local_tz trip_last_arrival_datetime_local_tz  \n",
       "0                    2025-02-12 16:30:00                 2025-02-12 17:00:00  "
      ]
     },
     "execution_count": 33,
     "metadata": {},
     "output_type": "execute_result"
    }
   ],
   "source": [
    "schd_trips.head(1)"
   ]
  },
  {
   "cell_type": "code",
   "execution_count": 34,
   "id": "c34a2d15-a282-4075-8c02-b6cd09b5c44e",
   "metadata": {
    "tags": []
   },
   "outputs": [
    {
     "data": {
      "text/html": [
       "<div>\n",
       "<style scoped>\n",
       "    .dataframe tbody tr th:only-of-type {\n",
       "        vertical-align: middle;\n",
       "    }\n",
       "\n",
       "    .dataframe tbody tr th {\n",
       "        vertical-align: top;\n",
       "    }\n",
       "\n",
       "    .dataframe thead th {\n",
       "        text-align: right;\n",
       "    }\n",
       "</style>\n",
       "<table border=\"1\" class=\"dataframe\">\n",
       "  <thead>\n",
       "    <tr style=\"text-align: right;\">\n",
       "      <th></th>\n",
       "      <th>feed_key</th>\n",
       "      <th>gtfs_dataset_key</th>\n",
       "      <th>name</th>\n",
       "      <th>regional_feed_type</th>\n",
       "      <th>service_date</th>\n",
       "      <th>trip_start_date_pacific</th>\n",
       "      <th>trip_id</th>\n",
       "      <th>trip_instance_key</th>\n",
       "      <th>route_key</th>\n",
       "      <th>route_id</th>\n",
       "      <th>route_type</th>\n",
       "      <th>route_short_name</th>\n",
       "      <th>route_long_name</th>\n",
       "      <th>route_desc</th>\n",
       "      <th>direction_id</th>\n",
       "      <th>shape_array_key</th>\n",
       "      <th>shape_id</th>\n",
       "      <th>trip_first_departure_datetime_pacific</th>\n",
       "      <th>trip_last_arrival_datetime_pacific</th>\n",
       "      <th>service_hours</th>\n",
       "      <th>trip_start_date_local_tz</th>\n",
       "      <th>trip_first_departure_datetime_local_tz</th>\n",
       "      <th>trip_last_arrival_datetime_local_tz</th>\n",
       "    </tr>\n",
       "  </thead>\n",
       "  <tbody>\n",
       "  </tbody>\n",
       "</table>\n",
       "</div>"
      ],
      "text/plain": [
       "Empty DataFrame\n",
       "Columns: [feed_key, gtfs_dataset_key, name, regional_feed_type, service_date, trip_start_date_pacific, trip_id, trip_instance_key, route_key, route_id, route_type, route_short_name, route_long_name, route_desc, direction_id, shape_array_key, shape_id, trip_first_departure_datetime_pacific, trip_last_arrival_datetime_pacific, service_hours, trip_start_date_local_tz, trip_first_departure_datetime_local_tz, trip_last_arrival_datetime_local_tz]\n",
       "Index: []"
      ]
     },
     "execution_count": 34,
     "metadata": {},
     "output_type": "execute_result"
    }
   ],
   "source": [
    "schd_trips.loc[schd_trips.name.str.contains(\"Cat\")]"
   ]
  },
  {
   "cell_type": "code",
   "execution_count": 35,
   "id": "d8d277e2-82db-4de2-b46e-fcb7a8c65583",
   "metadata": {
    "tags": []
   },
   "outputs": [
    {
     "data": {
      "text/html": [
       "<div>\n",
       "<style scoped>\n",
       "    .dataframe tbody tr th:only-of-type {\n",
       "        vertical-align: middle;\n",
       "    }\n",
       "\n",
       "    .dataframe tbody tr th {\n",
       "        vertical-align: top;\n",
       "    }\n",
       "\n",
       "    .dataframe thead th {\n",
       "        text-align: right;\n",
       "    }\n",
       "</style>\n",
       "<table border=\"1\" class=\"dataframe\">\n",
       "  <thead>\n",
       "    <tr style=\"text-align: right;\">\n",
       "      <th></th>\n",
       "      <th>feed_key</th>\n",
       "      <th>gtfs_dataset_key</th>\n",
       "      <th>name</th>\n",
       "      <th>regional_feed_type</th>\n",
       "      <th>service_date</th>\n",
       "      <th>trip_start_date_pacific</th>\n",
       "      <th>trip_id</th>\n",
       "      <th>trip_instance_key</th>\n",
       "      <th>route_key</th>\n",
       "      <th>route_id</th>\n",
       "      <th>route_type</th>\n",
       "      <th>route_short_name</th>\n",
       "      <th>route_long_name</th>\n",
       "      <th>route_desc</th>\n",
       "      <th>direction_id</th>\n",
       "      <th>shape_array_key</th>\n",
       "      <th>shape_id</th>\n",
       "      <th>trip_first_departure_datetime_pacific</th>\n",
       "      <th>trip_last_arrival_datetime_pacific</th>\n",
       "      <th>service_hours</th>\n",
       "      <th>trip_start_date_local_tz</th>\n",
       "      <th>trip_first_departure_datetime_local_tz</th>\n",
       "      <th>trip_last_arrival_datetime_local_tz</th>\n",
       "    </tr>\n",
       "  </thead>\n",
       "  <tbody>\n",
       "  </tbody>\n",
       "</table>\n",
       "</div>"
      ],
      "text/plain": [
       "Empty DataFrame\n",
       "Columns: [feed_key, gtfs_dataset_key, name, regional_feed_type, service_date, trip_start_date_pacific, trip_id, trip_instance_key, route_key, route_id, route_type, route_short_name, route_long_name, route_desc, direction_id, shape_array_key, shape_id, trip_first_departure_datetime_pacific, trip_last_arrival_datetime_pacific, service_hours, trip_start_date_local_tz, trip_first_departure_datetime_local_tz, trip_last_arrival_datetime_local_tz]\n",
       "Index: []"
      ]
     },
     "execution_count": 35,
     "metadata": {},
     "output_type": "execute_result"
    }
   ],
   "source": [
    "schd_trips.loc[schd_trips.route_id.str.contains(\"Avalon\")]"
   ]
  }
 ],
 "metadata": {
  "kernelspec": {
   "display_name": "Python 3 (ipykernel)",
   "language": "python",
   "name": "python3"
  },
  "language_info": {
   "codemirror_mode": {
    "name": "ipython",
    "version": 3
   },
   "file_extension": ".py",
   "mimetype": "text/x-python",
   "name": "python",
   "nbconvert_exporter": "python",
   "pygments_lexer": "ipython3",
   "version": "3.11.10"
  }
 },
 "nbformat": 4,
 "nbformat_minor": 5
}
