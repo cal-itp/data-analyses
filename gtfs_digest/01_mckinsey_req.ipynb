{
 "cells": [
  {
   "cell_type": "code",
   "execution_count": 1,
   "id": "02525f09-1787-4f80-8c5a-b59734a8efe6",
   "metadata": {},
   "outputs": [],
   "source": [
    "import _charts\n",
    "import altair as alt\n",
    "import calitp_data_analysis.magics\n",
    "import geopandas as gpd\n",
    "import great_tables as gt\n",
    "import pandas as pd\n",
    "from calitp_data_analysis import calitp_color_palette as cp\n",
    "from great_tables import md\n",
    "from IPython.display import HTML, Markdown, display\n",
    "from segment_speed_utils.project_vars import RT_SCHED_GCS\n",
    "from shared_utils import rt_dates, rt_utils\n",
    "\n",
    "alt.renderers.enable(\"html\")\n",
    "alt.data_transformers.enable(\"default\", max_rows=None)\n",
    "from typing import List, Union"
   ]
  },
  {
   "cell_type": "code",
   "execution_count": 2,
   "id": "bd1b36d6-cb07-466a-ace6-075d0ca6e070",
   "metadata": {},
   "outputs": [],
   "source": [
    "pd.options.display.max_columns = 100\n",
    "pd.options.display.float_format = \"{:.2f}\".format\n",
    "pd.set_option(\"display.max_rows\", None)\n",
    "pd.set_option(\"display.max_colwidth\", None)"
   ]
  },
  {
   "cell_type": "markdown",
   "id": "c7a2d6a0-e2fa-4ef5-8087-3bad55558dd0",
   "metadata": {},
   "source": [
    "### General Transit Feed Specification Digest\n",
    "* We are already working on comparing real-time with schedule data. \n",
    "* We can get some insights that can be used to improve the experience of riding transit.\n",
    "* This example is using San Francisco Muni and a popular route that goes from Caltrain (a transit hub) to Chinatown/Union Square to the Presidio going in ONE direction.\n",
    "* There are other insights that can be derived from GTFS data but let's focus on 2 examples. "
   ]
  },
  {
   "cell_type": "code",
   "execution_count": 3,
   "id": "736fea39-16f5-4326-82ce-bd3371a320ac",
   "metadata": {},
   "outputs": [],
   "source": [
    "name = \"Bay Area 511 Muni Schedule\""
   ]
  },
  {
   "cell_type": "code",
   "execution_count": 6,
   "id": "b547bc96-1f42-4fe8-86a5-ee4b409ae002",
   "metadata": {},
   "outputs": [],
   "source": [
    "# calitp-analytics-data/data-analyses/rt_vs_schedule/digest\n",
    "df = pd.read_parquet(\n",
    "    f\"{RT_SCHED_GCS}digest/schedule_vp_metrics.parquet\",\n",
    "    filters=[[(\"name\", \"==\", name), (\"route_combined_name\", \"==\", \"30 STOCKTON\")]],\n",
    ")"
   ]
  },
  {
   "cell_type": "code",
   "execution_count": 7,
   "id": "89bad93a-15e7-470a-9a89-ec8b5ac3686b",
   "metadata": {},
   "outputs": [],
   "source": [
    "def frequency_tags(row):\n",
    "    if row.frequency < 2:\n",
    "        return \"<1 trip/hour\"\n",
    "    elif 1 <= row.frequency < 2:\n",
    "        return \"1 trip/hour\"\n",
    "    elif 2 <= row.frequency < 3:\n",
    "        return \"2 trips/hour\"\n",
    "    elif 3 <= row.frequency:\n",
    "        return \"3+ trips/hour\"\n",
    "    else:\n",
    "        return \"No Info\"\n",
    "\n",
    "\n",
    "df[\"frequency_cat\"] = df.apply(frequency_tags, axis=1)"
   ]
  },
  {
   "cell_type": "code",
   "execution_count": 10,
   "id": "c9b9c67f-d33a-4440-afdc-0bcb74abb0fb",
   "metadata": {},
   "outputs": [],
   "source": [
    "def rt_sched_journey_ratio_tags(row):\n",
    "    if row.rt_sched_journey_ratio < 1:\n",
    "        return \"Early\"\n",
    "    elif row.rt_sched_journey_ratio < 1.1:\n",
    "        return \"On Time\"\n",
    "    elif 1.1 <= row.rt_sched_journey_ratio < 1.51:\n",
    "        return \"Late by 1-50% of the sch. time\"\n",
    "    elif 1.26 <= row.rt_sched_journey_ratio < 1.51:\n",
    "        return \"Late by 26-50% of the sch. time\"\n",
    "    elif 1.51 <= row.rt_sched_journey_ratio < 2:\n",
    "        return \"Late by 50%+ of the sch. time\"\n",
    "    elif 2 <= row.rt_sched_journey_ratio:\n",
    "        return \"Trip took more than 2x the sch. time\"\n",
    "    else:\n",
    "        return \"No Info\"\n",
    "\n",
    "\n",
    "df[\"rt_sched_journey_ratio_cat\"] = df.apply(rt_sched_journey_ratio_tags, axis=1)"
   ]
  },
  {
   "cell_type": "markdown",
   "id": "0cc955a7-f330-4fee-9b98-cd206a62a2af",
   "metadata": {},
   "source": [
    "#### How often does my bus pass by? "
   ]
  },
  {
   "cell_type": "code",
   "execution_count": 11,
   "id": "ed344be0-1b1e-492d-acb6-37b0d4a329f0",
   "metadata": {},
   "outputs": [
    {
     "data": {
      "text/html": [
       "\n",
       "<style>\n",
       "  #altair-viz-cff9b9d5c6e64a439a8ed0865274172c.vega-embed {\n",
       "    width: 100%;\n",
       "    display: flex;\n",
       "  }\n",
       "\n",
       "  #altair-viz-cff9b9d5c6e64a439a8ed0865274172c.vega-embed details,\n",
       "  #altair-viz-cff9b9d5c6e64a439a8ed0865274172c.vega-embed details summary {\n",
       "    position: relative;\n",
       "  }\n",
       "</style>\n",
       "<div id=\"altair-viz-cff9b9d5c6e64a439a8ed0865274172c\"></div>\n",
       "<script type=\"text/javascript\">\n",
       "  var VEGA_DEBUG = (typeof VEGA_DEBUG == \"undefined\") ? {} : VEGA_DEBUG;\n",
       "  (function(spec, embedOpt){\n",
       "    let outputDiv = document.currentScript.previousElementSibling;\n",
       "    if (outputDiv.id !== \"altair-viz-cff9b9d5c6e64a439a8ed0865274172c\") {\n",
       "      outputDiv = document.getElementById(\"altair-viz-cff9b9d5c6e64a439a8ed0865274172c\");\n",
       "    }\n",
       "    const paths = {\n",
       "      \"vega\": \"https://cdn.jsdelivr.net/npm/vega@5?noext\",\n",
       "      \"vega-lib\": \"https://cdn.jsdelivr.net/npm/vega-lib?noext\",\n",
       "      \"vega-lite\": \"https://cdn.jsdelivr.net/npm/vega-lite@5.14.1?noext\",\n",
       "      \"vega-embed\": \"https://cdn.jsdelivr.net/npm/vega-embed@6?noext\",\n",
       "    };\n",
       "\n",
       "    function maybeLoadScript(lib, version) {\n",
       "      var key = `${lib.replace(\"-\", \"\")}_version`;\n",
       "      return (VEGA_DEBUG[key] == version) ?\n",
       "        Promise.resolve(paths[lib]) :\n",
       "        new Promise(function(resolve, reject) {\n",
       "          var s = document.createElement('script');\n",
       "          document.getElementsByTagName(\"head\")[0].appendChild(s);\n",
       "          s.async = true;\n",
       "          s.onload = () => {\n",
       "            VEGA_DEBUG[key] = version;\n",
       "            return resolve(paths[lib]);\n",
       "          };\n",
       "          s.onerror = () => reject(`Error loading script: ${paths[lib]}`);\n",
       "          s.src = paths[lib];\n",
       "        });\n",
       "    }\n",
       "\n",
       "    function showError(err) {\n",
       "      outputDiv.innerHTML = `<div class=\"error\" style=\"color:red;\">${err}</div>`;\n",
       "      throw err;\n",
       "    }\n",
       "\n",
       "    function displayChart(vegaEmbed) {\n",
       "      vegaEmbed(outputDiv, spec, embedOpt)\n",
       "        .catch(err => showError(`Javascript Error: ${err.message}<br>This usually means there's a typo in your chart specification. See the javascript console for the full traceback.`));\n",
       "    }\n",
       "\n",
       "    if(typeof define === \"function\" && define.amd) {\n",
       "      requirejs.config({paths});\n",
       "      require([\"vega-embed\"], displayChart, err => showError(`Error loading script: ${err.message}`));\n",
       "    } else {\n",
       "      maybeLoadScript(\"vega\", \"5\")\n",
       "        .then(() => maybeLoadScript(\"vega-lite\", \"5.14.1\"))\n",
       "        .then(() => maybeLoadScript(\"vega-embed\", \"6\"))\n",
       "        .catch(showError)\n",
       "        .then(() => displayChart(vegaEmbed));\n",
       "    }\n",
       "  })({\"config\": {\"view\": {\"continuousWidth\": 300, \"continuousHeight\": 300}}, \"data\": {\"name\": \"data-56f72867fe061eb23e631cbec72aeccf\"}, \"mark\": {\"type\": \"bar\", \"size\": 10}, \"encoding\": {\"color\": {\"field\": \"time_period\", \"scale\": {\"range\": [\"#B9D6DF\", \"#2EA8CE\", \"#0B405B\"]}, \"title\": \"Time Period\", \"type\": \"nominal\"}, \"tooltip\": [{\"field\": \"direction_id\", \"type\": \"quantitative\"}, {\"field\": \"time_period\", \"type\": \"nominal\"}, {\"field\": \"route_combined_name\", \"type\": \"nominal\"}, {\"field\": \"organization_name\", \"type\": \"nominal\"}, {\"field\": \"service_date\", \"type\": \"temporal\"}, {\"field\": \"frequency\", \"type\": \"quantitative\"}], \"x\": {\"axis\": {\"format\": \"%b %Y\"}, \"field\": \"service_date\", \"timeUnit\": \"yearmonthdate\", \"title\": [\"Grouped by Direction ID\", \"Date\"], \"type\": \"ordinal\"}, \"xOffset\": {\"field\": \"time_period\", \"title\": \"Time Period\", \"type\": \"nominal\"}, \"y\": {\"field\": \"frequency\", \"title\": \"Frequency\", \"type\": \"quantitative\"}}, \"height\": 300, \"title\": {\"text\": [\"Frequency of Route in Direction 0\"], \"subtitle\": [\"Frequency tracks the number of times per hour this route goes by direction and time period.\"]}, \"width\": 500, \"$schema\": \"https://vega.github.io/schema/vega-lite/v5.14.1.json\", \"datasets\": {\"data-56f72867fe061eb23e631cbec72aeccf\": [{\"schedule_gtfs_dataset_key\": \"7cc0cb1871dfd558f11a2885c145d144\", \"direction_id\": 0.0, \"time_period\": \"Offpeak\", \"avg_scheduled_service_minutes\": 41.29, \"avg_stop_miles\": 0.14, \"n_scheduled_trips\": 79, \"frequency\": 4, \"road_freq_category\": \"very_high\", \"road_typology\": \"downtown_local\", \"pct_typology\": 0.68, \"service_date\": \"2023-04-12T00:00:00\", \"minutes_atleast1_vp\": 4716, \"minutes_atleast2_vp\": 4662, \"total_rt_service_minutes\": 8849.37, \"total_scheduled_service_minutes\": 3170.0, \"total_vp\": 13981, \"vp_in_shape\": 11946, \"is_early\": 0, \"is_ontime\": 8, \"is_late\": 71, \"n_vp_trips\": 79, \"vp_per_minute\": 1.58, \"pct_in_shape\": 0.854, \"pct_rt_journey_atleast1_vp\": 0.533, \"pct_rt_journey_atleast2_vp\": 0.527, \"pct_sched_journey_atleast1_vp\": 1.0, \"pct_sched_journey_atleast2_vp\": 1.0, \"rt_sched_journey_ratio\": 2.79, \"avg_rt_service_minutes\": 112.02, \"sched_rt_category\": \"schedule_and_vp\", \"speed_mph\": 6.584187147131605, \"name\": \"Bay Area 511 Muni Schedule\", \"route_id\": \"30\", \"route_combined_name\": \"30 STOCKTON\", \"base64_url\": \"aHR0cHM6Ly9hcGkuNTExLm9yZy90cmFuc2l0L2RhdGFmZWVkcz9vcGVyYXRvcl9pZD1TRg==\", \"organization_source_record_id\": \"rechaapWbeffO33OX\", \"organization_name\": \"City and County of San Francisco\", \"caltrans_district\": \"04 - Oakland\", \"frequency_cat\": \"3+ trips/hour\", \"rt_sched_journey_ratio_cat\": \"Trip took more than 2x the sch. time\"}, {\"schedule_gtfs_dataset_key\": \"7cc0cb1871dfd558f11a2885c145d144\", \"direction_id\": 0.0, \"time_period\": \"Offpeak\", \"avg_scheduled_service_minutes\": 41.29, \"avg_stop_miles\": 0.14, \"n_scheduled_trips\": 79, \"frequency\": 4, \"road_freq_category\": \"very_high\", \"road_typology\": \"downtown_local\", \"pct_typology\": 0.68, \"service_date\": \"2023-05-17T00:00:00\", \"minutes_atleast1_vp\": 4797, \"minutes_atleast2_vp\": 4728, \"total_rt_service_minutes\": 10236.73, \"total_scheduled_service_minutes\": 3170.0, \"total_vp\": 14164, \"vp_in_shape\": 11885, \"is_early\": 0, \"is_ontime\": 9, \"is_late\": 70, \"n_vp_trips\": 79, \"vp_per_minute\": 1.38, \"pct_in_shape\": 0.839, \"pct_rt_journey_atleast1_vp\": 0.469, \"pct_rt_journey_atleast2_vp\": 0.462, \"pct_sched_journey_atleast1_vp\": 1.0, \"pct_sched_journey_atleast2_vp\": 1.0, \"rt_sched_journey_ratio\": 3.23, \"avg_rt_service_minutes\": 129.58, \"sched_rt_category\": \"schedule_and_vp\", \"speed_mph\": 6.538901158024634, \"name\": \"Bay Area 511 Muni Schedule\", \"route_id\": \"30\", \"route_combined_name\": \"30 STOCKTON\", \"base64_url\": \"aHR0cHM6Ly9hcGkuNTExLm9yZy90cmFuc2l0L2RhdGFmZWVkcz9vcGVyYXRvcl9pZD1TRg==\", \"organization_source_record_id\": \"rechaapWbeffO33OX\", \"organization_name\": \"City and County of San Francisco\", \"caltrans_district\": \"04 - Oakland\", \"frequency_cat\": \"3+ trips/hour\", \"rt_sched_journey_ratio_cat\": \"Trip took more than 2x the sch. time\"}, {\"schedule_gtfs_dataset_key\": \"7cc0cb1871dfd558f11a2885c145d144\", \"direction_id\": 0.0, \"time_period\": \"Offpeak\", \"avg_scheduled_service_minutes\": 41.3, \"avg_stop_miles\": 0.14, \"n_scheduled_trips\": 79, \"frequency\": 4, \"road_freq_category\": \"very_high\", \"road_typology\": \"downtown_local\", \"pct_typology\": 0.68, \"service_date\": \"2023-06-14T00:00:00\", \"minutes_atleast1_vp\": 4553, \"minutes_atleast2_vp\": 4518, \"total_rt_service_minutes\": 7269.83, \"total_scheduled_service_minutes\": 3170.0, \"total_vp\": 13526, \"vp_in_shape\": 11356, \"is_early\": 1, \"is_ontime\": 10, \"is_late\": 68, \"n_vp_trips\": 79, \"vp_per_minute\": 1.86, \"pct_in_shape\": 0.84, \"pct_rt_journey_atleast1_vp\": 0.626, \"pct_rt_journey_atleast2_vp\": 0.621, \"pct_sched_journey_atleast1_vp\": 1.0, \"pct_sched_journey_atleast2_vp\": 1.0, \"rt_sched_journey_ratio\": 2.29, \"avg_rt_service_minutes\": 92.02, \"sched_rt_category\": \"schedule_and_vp\", \"speed_mph\": 6.63316039694115, \"name\": \"Bay Area 511 Muni Schedule\", \"route_id\": \"30\", \"route_combined_name\": \"30 STOCKTON\", \"base64_url\": \"aHR0cHM6Ly9hcGkuNTExLm9yZy90cmFuc2l0L2RhdGFmZWVkcz9vcGVyYXRvcl9pZD1TRg==\", \"organization_source_record_id\": \"rechaapWbeffO33OX\", \"organization_name\": \"City and County of San Francisco\", \"caltrans_district\": \"04 - Oakland\", \"frequency_cat\": \"3+ trips/hour\", \"rt_sched_journey_ratio_cat\": \"Trip took more than 2x the sch. time\"}, {\"schedule_gtfs_dataset_key\": \"7cc0cb1871dfd558f11a2885c145d144\", \"direction_id\": 0.0, \"time_period\": \"Offpeak\", \"avg_scheduled_service_minutes\": 41.3, \"avg_stop_miles\": 0.14, \"n_scheduled_trips\": 79, \"frequency\": 4, \"road_freq_category\": \"very_high\", \"road_typology\": \"downtown_local\", \"pct_typology\": 0.68, \"service_date\": \"2023-07-12T00:00:00\", \"minutes_atleast1_vp\": 4404, \"minutes_atleast2_vp\": 4355, \"total_rt_service_minutes\": 8501.43, \"total_scheduled_service_minutes\": 3082.0, \"total_vp\": 13058, \"vp_in_shape\": 11044, \"is_early\": 2, \"is_ontime\": 6, \"is_late\": 69, \"n_vp_trips\": 77, \"vp_per_minute\": 1.54, \"pct_in_shape\": 0.846, \"pct_rt_journey_atleast1_vp\": 0.518, \"pct_rt_journey_atleast2_vp\": 0.512, \"pct_sched_journey_atleast1_vp\": 1.0, \"pct_sched_journey_atleast2_vp\": 1.0, \"rt_sched_journey_ratio\": 2.76, \"avg_rt_service_minutes\": 110.41, \"sched_rt_category\": \"schedule_and_vp\", \"speed_mph\": 6.620701559178754, \"name\": \"Bay Area 511 Muni Schedule\", \"route_id\": \"30\", \"route_combined_name\": \"30 STOCKTON\", \"base64_url\": \"aHR0cHM6Ly9hcGkuNTExLm9yZy90cmFuc2l0L2RhdGFmZWVkcz9vcGVyYXRvcl9pZD1TRg==\", \"organization_source_record_id\": \"rechaapWbeffO33OX\", \"organization_name\": \"City and County of San Francisco\", \"caltrans_district\": \"04 - Oakland\", \"frequency_cat\": \"3+ trips/hour\", \"rt_sched_journey_ratio_cat\": \"Trip took more than 2x the sch. time\"}, {\"schedule_gtfs_dataset_key\": \"7cc0cb1871dfd558f11a2885c145d144\", \"direction_id\": 0.0, \"time_period\": \"Offpeak\", \"avg_scheduled_service_minutes\": 41.3, \"avg_stop_miles\": 0.14, \"n_scheduled_trips\": 79, \"frequency\": 4, \"road_freq_category\": \"very_high\", \"road_typology\": \"downtown_local\", \"pct_typology\": 0.68, \"service_date\": \"2023-08-15T00:00:00\", \"minutes_atleast1_vp\": 4509, \"minutes_atleast2_vp\": 4453, \"total_rt_service_minutes\": 8585.06, \"total_scheduled_service_minutes\": 3134.0, \"total_vp\": 13353, \"vp_in_shape\": 11206, \"is_early\": 2, \"is_ontime\": 4, \"is_late\": 72, \"n_vp_trips\": 78, \"vp_per_minute\": 1.56, \"pct_in_shape\": 0.839, \"pct_rt_journey_atleast1_vp\": 0.525, \"pct_rt_journey_atleast2_vp\": 0.519, \"pct_sched_journey_atleast1_vp\": 1.0, \"pct_sched_journey_atleast2_vp\": 1.0, \"rt_sched_journey_ratio\": 2.74, \"avg_rt_service_minutes\": 110.06, \"sched_rt_category\": \"schedule_and_vp\", \"speed_mph\": 6.680720154335043, \"name\": \"Bay Area 511 Muni Schedule\", \"route_id\": \"30\", \"route_combined_name\": \"30 STOCKTON\", \"base64_url\": \"aHR0cHM6Ly9hcGkuNTExLm9yZy90cmFuc2l0L2RhdGFmZWVkcz9vcGVyYXRvcl9pZD1TRg==\", \"organization_source_record_id\": \"rechaapWbeffO33OX\", \"organization_name\": \"City and County of San Francisco\", \"caltrans_district\": \"04 - Oakland\", \"frequency_cat\": \"3+ trips/hour\", \"rt_sched_journey_ratio_cat\": \"Trip took more than 2x the sch. time\"}, {\"schedule_gtfs_dataset_key\": \"7cc0cb1871dfd558f11a2885c145d144\", \"direction_id\": 0.0, \"time_period\": \"Offpeak\", \"avg_scheduled_service_minutes\": 41.29, \"avg_stop_miles\": 0.14, \"n_scheduled_trips\": 79, \"frequency\": 4, \"road_freq_category\": \"very_high\", \"road_typology\": \"downtown_local\", \"pct_typology\": 0.68, \"service_date\": \"2023-10-11T00:00:00\", \"minutes_atleast1_vp\": 4712, \"minutes_atleast2_vp\": 4657, \"total_rt_service_minutes\": 7401.78, \"total_scheduled_service_minutes\": 3136.0, \"total_vp\": 13987, \"vp_in_shape\": 11647, \"is_early\": 0, \"is_ontime\": 8, \"is_late\": 70, \"n_vp_trips\": 78, \"vp_per_minute\": 1.89, \"pct_in_shape\": 0.833, \"pct_rt_journey_atleast1_vp\": 0.637, \"pct_rt_journey_atleast2_vp\": 0.629, \"pct_sched_journey_atleast1_vp\": 1.0, \"pct_sched_journey_atleast2_vp\": 1.0, \"rt_sched_journey_ratio\": 2.36, \"avg_rt_service_minutes\": 94.89, \"sched_rt_category\": \"schedule_and_vp\", \"speed_mph\": 6.689323259602957, \"name\": \"Bay Area 511 Muni Schedule\", \"route_id\": \"30\", \"route_combined_name\": \"30 STOCKTON\", \"base64_url\": \"aHR0cHM6Ly9hcGkuNTExLm9yZy90cmFuc2l0L2RhdGFmZWVkcz9vcGVyYXRvcl9pZD1TRg==\", \"organization_source_record_id\": \"rechaapWbeffO33OX\", \"organization_name\": \"City and County of San Francisco\", \"caltrans_district\": \"04 - Oakland\", \"frequency_cat\": \"3+ trips/hour\", \"rt_sched_journey_ratio_cat\": \"Trip took more than 2x the sch. time\"}, {\"schedule_gtfs_dataset_key\": \"7cc0cb1871dfd558f11a2885c145d144\", \"direction_id\": 0.0, \"time_period\": \"Offpeak\", \"avg_scheduled_service_minutes\": 26.29, \"avg_stop_miles\": 0.13, \"n_scheduled_trips\": 80, \"frequency\": 5, \"road_freq_category\": \"very_high\", \"road_typology\": \"downtown_local\", \"pct_typology\": 0.8, \"service_date\": \"2023-11-15T00:00:00\", \"minutes_atleast1_vp\": 2617, \"minutes_atleast2_vp\": 2567, \"total_rt_service_minutes\": 3967.55, \"total_scheduled_service_minutes\": 1847.0, \"total_vp\": 7699, \"vp_in_shape\": 6758, \"is_early\": 4, \"is_ontime\": 28, \"is_late\": 36, \"n_vp_trips\": 68, \"vp_per_minute\": 1.94, \"pct_in_shape\": 0.878, \"pct_rt_journey_atleast1_vp\": 0.66, \"pct_rt_journey_atleast2_vp\": 0.647, \"pct_sched_journey_atleast1_vp\": 1.0, \"pct_sched_journey_atleast2_vp\": 1.0, \"rt_sched_journey_ratio\": 2.15, \"avg_rt_service_minutes\": 58.35, \"sched_rt_category\": \"schedule_and_vp\", \"speed_mph\": 6.733682598561854, \"name\": \"Bay Area 511 Muni Schedule\", \"route_id\": \"30\", \"route_combined_name\": \"30 STOCKTON\", \"base64_url\": \"aHR0cHM6Ly9hcGkuNTExLm9yZy90cmFuc2l0L2RhdGFmZWVkcz9vcGVyYXRvcl9pZD1TRg==\", \"organization_source_record_id\": \"rechaapWbeffO33OX\", \"organization_name\": \"City and County of San Francisco\", \"caltrans_district\": \"04 - Oakland\", \"frequency_cat\": \"3+ trips/hour\", \"rt_sched_journey_ratio_cat\": \"Trip took more than 2x the sch. time\"}, {\"schedule_gtfs_dataset_key\": \"7cc0cb1871dfd558f11a2885c145d144\", \"direction_id\": 0.0, \"time_period\": \"Offpeak\", \"avg_scheduled_service_minutes\": 41.29, \"avg_stop_miles\": 0.14, \"n_scheduled_trips\": 79, \"frequency\": 4, \"road_freq_category\": \"very_high\", \"road_typology\": \"downtown_local\", \"pct_typology\": 0.68, \"service_date\": \"2023-12-13T00:00:00\", \"minutes_atleast1_vp\": 4694, \"minutes_atleast2_vp\": 4639, \"total_rt_service_minutes\": 6014.95, \"total_scheduled_service_minutes\": 3067.0, \"total_vp\": 13902, \"vp_in_shape\": 10772, \"is_early\": 1, \"is_ontime\": 11, \"is_late\": 64, \"n_vp_trips\": 76, \"vp_per_minute\": 2.31, \"pct_in_shape\": 0.775, \"pct_rt_journey_atleast1_vp\": 0.78, \"pct_rt_journey_atleast2_vp\": 0.771, \"pct_sched_journey_atleast1_vp\": 1.0, \"pct_sched_journey_atleast2_vp\": 1.0, \"rt_sched_journey_ratio\": 1.96, \"avg_rt_service_minutes\": 79.14, \"sched_rt_category\": \"schedule_and_vp\", \"speed_mph\": 6.66448356603123, \"name\": \"Bay Area 511 Muni Schedule\", \"route_id\": \"30\", \"route_combined_name\": \"30 STOCKTON\", \"base64_url\": \"aHR0cHM6Ly9hcGkuNTExLm9yZy90cmFuc2l0L2RhdGFmZWVkcz9vcGVyYXRvcl9pZD1TRg==\", \"organization_source_record_id\": \"rechaapWbeffO33OX\", \"organization_name\": \"City and County of San Francisco\", \"caltrans_district\": \"04 - Oakland\", \"frequency_cat\": \"3+ trips/hour\", \"rt_sched_journey_ratio_cat\": \"Late by 50%+ of the sch. time\"}, {\"schedule_gtfs_dataset_key\": \"7cc0cb1871dfd558f11a2885c145d144\", \"direction_id\": 0.0, \"time_period\": \"Offpeak\", \"avg_scheduled_service_minutes\": 41.29, \"avg_stop_miles\": 0.14, \"n_scheduled_trips\": 79, \"frequency\": 4, \"road_freq_category\": \"very_high\", \"road_typology\": \"downtown_local\", \"pct_typology\": 0.68, \"service_date\": \"2024-01-17T00:00:00\", \"minutes_atleast1_vp\": 4343, \"minutes_atleast2_vp\": 4290, \"total_rt_service_minutes\": 7046.58, \"total_scheduled_service_minutes\": 3170.0, \"total_vp\": 12853, \"vp_in_shape\": 10407, \"is_early\": 1, \"is_ontime\": 10, \"is_late\": 68, \"n_vp_trips\": 79, \"vp_per_minute\": 1.82, \"pct_in_shape\": 0.81, \"pct_rt_journey_atleast1_vp\": 0.616, \"pct_rt_journey_atleast2_vp\": 0.609, \"pct_sched_journey_atleast1_vp\": 1.0, \"pct_sched_journey_atleast2_vp\": 1.0, \"rt_sched_journey_ratio\": 2.22, \"avg_rt_service_minutes\": 89.2, \"sched_rt_category\": \"schedule_and_vp\", \"speed_mph\": 6.581142824960379, \"name\": \"Bay Area 511 Muni Schedule\", \"route_id\": \"30\", \"route_combined_name\": \"30 STOCKTON\", \"base64_url\": \"aHR0cHM6Ly9hcGkuNTExLm9yZy90cmFuc2l0L2RhdGFmZWVkcz9vcGVyYXRvcl9pZD1TRg==\", \"organization_source_record_id\": \"rechaapWbeffO33OX\", \"organization_name\": \"City and County of San Francisco\", \"caltrans_district\": \"04 - Oakland\", \"frequency_cat\": \"3+ trips/hour\", \"rt_sched_journey_ratio_cat\": \"Trip took more than 2x the sch. time\"}, {\"schedule_gtfs_dataset_key\": \"7cc0cb1871dfd558f11a2885c145d144\", \"direction_id\": 0.0, \"time_period\": \"Offpeak\", \"avg_scheduled_service_minutes\": 41.29, \"avg_stop_miles\": 0.14, \"n_scheduled_trips\": 79, \"frequency\": 4, \"road_freq_category\": \"very_high\", \"road_typology\": \"downtown_local\", \"pct_typology\": 0.68, \"service_date\": \"2024-02-14T00:00:00\", \"minutes_atleast1_vp\": 4386, \"minutes_atleast2_vp\": 4327, \"total_rt_service_minutes\": 7099.24, \"total_scheduled_service_minutes\": 3170.0, \"total_vp\": 12964, \"vp_in_shape\": 10354, \"is_early\": 1, \"is_ontime\": 9, \"is_late\": 69, \"n_vp_trips\": 79, \"vp_per_minute\": 1.83, \"pct_in_shape\": 0.799, \"pct_rt_journey_atleast1_vp\": 0.618, \"pct_rt_journey_atleast2_vp\": 0.61, \"pct_sched_journey_atleast1_vp\": 1.0, \"pct_sched_journey_atleast2_vp\": 1.0, \"rt_sched_journey_ratio\": 2.24, \"avg_rt_service_minutes\": 89.86, \"sched_rt_category\": \"schedule_and_vp\", \"speed_mph\": 7.023037958804062, \"name\": \"Bay Area 511 Muni Schedule\", \"route_id\": \"30\", \"route_combined_name\": \"30 STOCKTON\", \"base64_url\": \"aHR0cHM6Ly9hcGkuNTExLm9yZy90cmFuc2l0L2RhdGFmZWVkcz9vcGVyYXRvcl9pZD1TRg==\", \"organization_source_record_id\": \"rechaapWbeffO33OX\", \"organization_name\": \"City and County of San Francisco\", \"caltrans_district\": \"04 - Oakland\", \"frequency_cat\": \"3+ trips/hour\", \"rt_sched_journey_ratio_cat\": \"Trip took more than 2x the sch. time\"}, {\"schedule_gtfs_dataset_key\": \"7cc0cb1871dfd558f11a2885c145d144\", \"direction_id\": 0.0, \"time_period\": \"Offpeak\", \"avg_scheduled_service_minutes\": 41.29, \"avg_stop_miles\": 0.14, \"n_scheduled_trips\": 79, \"frequency\": 4, \"road_freq_category\": \"very_high\", \"road_typology\": \"downtown_local\", \"pct_typology\": 0.68, \"service_date\": \"2024-03-13T00:00:00\", \"minutes_atleast1_vp\": 4396, \"minutes_atleast2_vp\": 4343, \"total_rt_service_minutes\": 8466.07, \"total_scheduled_service_minutes\": 3170.0, \"total_vp\": 13011, \"vp_in_shape\": 10872, \"is_early\": 0, \"is_ontime\": 8, \"is_late\": 71, \"n_vp_trips\": 79, \"vp_per_minute\": 1.54, \"pct_in_shape\": 0.836, \"pct_rt_journey_atleast1_vp\": 0.519, \"pct_rt_journey_atleast2_vp\": 0.513, \"pct_sched_journey_atleast1_vp\": 1.0, \"pct_sched_journey_atleast2_vp\": 1.0, \"rt_sched_journey_ratio\": 2.67, \"avg_rt_service_minutes\": 107.17, \"sched_rt_category\": \"schedule_and_vp\", \"speed_mph\": 6.871437635553709, \"name\": \"Bay Area 511 Muni Schedule\", \"route_id\": \"30\", \"route_combined_name\": \"30 STOCKTON\", \"base64_url\": \"aHR0cHM6Ly9hcGkuNTExLm9yZy90cmFuc2l0L2RhdGFmZWVkcz9vcGVyYXRvcl9pZD1TRg==\", \"organization_source_record_id\": \"rechaapWbeffO33OX\", \"organization_name\": \"City and County of San Francisco\", \"caltrans_district\": \"04 - Oakland\", \"frequency_cat\": \"3+ trips/hour\", \"rt_sched_journey_ratio_cat\": \"Trip took more than 2x the sch. time\"}, {\"schedule_gtfs_dataset_key\": \"7cc0cb1871dfd558f11a2885c145d144\", \"direction_id\": 0.0, \"time_period\": \"Peak\", \"avg_scheduled_service_minutes\": 41.29, \"avg_stop_miles\": 0.14, \"n_scheduled_trips\": 62, \"frequency\": 7, \"road_freq_category\": \"very_high\", \"road_typology\": \"downtown_local\", \"pct_typology\": 0.68, \"service_date\": \"2023-04-12T00:00:00\", \"minutes_atleast1_vp\": 4067, \"minutes_atleast2_vp\": 4014, \"total_rt_service_minutes\": 4050.81, \"total_scheduled_service_minutes\": 2652.0, \"total_vp\": 12027, \"vp_in_shape\": 10167, \"is_early\": 0, \"is_ontime\": 6, \"is_late\": 56, \"n_vp_trips\": 62, \"vp_per_minute\": 2.97, \"pct_in_shape\": 0.845, \"pct_rt_journey_atleast1_vp\": 1.0, \"pct_rt_journey_atleast2_vp\": 0.991, \"pct_sched_journey_atleast1_vp\": 1.0, \"pct_sched_journey_atleast2_vp\": 1.0, \"rt_sched_journey_ratio\": 1.53, \"avg_rt_service_minutes\": 65.34, \"sched_rt_category\": \"schedule_and_vp\", \"speed_mph\": 6.306706571621822, \"name\": \"Bay Area 511 Muni Schedule\", \"route_id\": \"30\", \"route_combined_name\": \"30 STOCKTON\", \"base64_url\": \"aHR0cHM6Ly9hcGkuNTExLm9yZy90cmFuc2l0L2RhdGFmZWVkcz9vcGVyYXRvcl9pZD1TRg==\", \"organization_source_record_id\": \"rechaapWbeffO33OX\", \"organization_name\": \"City and County of San Francisco\", \"caltrans_district\": \"04 - Oakland\", \"frequency_cat\": \"3+ trips/hour\", \"rt_sched_journey_ratio_cat\": \"Late by 50%+ of the sch. time\"}, {\"schedule_gtfs_dataset_key\": \"7cc0cb1871dfd558f11a2885c145d144\", \"direction_id\": 0.0, \"time_period\": \"Peak\", \"avg_scheduled_service_minutes\": 41.29, \"avg_stop_miles\": 0.14, \"n_scheduled_trips\": 62, \"frequency\": 7, \"road_freq_category\": \"very_high\", \"road_typology\": \"downtown_local\", \"pct_typology\": 0.68, \"service_date\": \"2023-05-17T00:00:00\", \"minutes_atleast1_vp\": 3958, \"minutes_atleast2_vp\": 3906, \"total_rt_service_minutes\": 3975.2, \"total_scheduled_service_minutes\": 2652.0, \"total_vp\": 11727, \"vp_in_shape\": 9936, \"is_early\": 0, \"is_ontime\": 4, \"is_late\": 58, \"n_vp_trips\": 62, \"vp_per_minute\": 2.95, \"pct_in_shape\": 0.847, \"pct_rt_journey_atleast1_vp\": 0.996, \"pct_rt_journey_atleast2_vp\": 0.983, \"pct_sched_journey_atleast1_vp\": 1.0, \"pct_sched_journey_atleast2_vp\": 1.0, \"rt_sched_journey_ratio\": 1.5, \"avg_rt_service_minutes\": 64.12, \"sched_rt_category\": \"schedule_and_vp\", \"speed_mph\": 6.30857444017822, \"name\": \"Bay Area 511 Muni Schedule\", \"route_id\": \"30\", \"route_combined_name\": \"30 STOCKTON\", \"base64_url\": \"aHR0cHM6Ly9hcGkuNTExLm9yZy90cmFuc2l0L2RhdGFmZWVkcz9vcGVyYXRvcl9pZD1TRg==\", \"organization_source_record_id\": \"rechaapWbeffO33OX\", \"organization_name\": \"City and County of San Francisco\", \"caltrans_district\": \"04 - Oakland\", \"frequency_cat\": \"3+ trips/hour\", \"rt_sched_journey_ratio_cat\": \"Late by 1-50% of the sch. time\"}, {\"schedule_gtfs_dataset_key\": \"7cc0cb1871dfd558f11a2885c145d144\", \"direction_id\": 0.0, \"time_period\": \"Peak\", \"avg_scheduled_service_minutes\": 41.3, \"avg_stop_miles\": 0.14, \"n_scheduled_trips\": 62, \"frequency\": 7, \"road_freq_category\": \"very_high\", \"road_typology\": \"downtown_local\", \"pct_typology\": 0.68, \"service_date\": \"2023-06-14T00:00:00\", \"minutes_atleast1_vp\": 3700, \"minutes_atleast2_vp\": 3665, \"total_rt_service_minutes\": 3645.01, \"total_scheduled_service_minutes\": 2612.0, \"total_vp\": 11001, \"vp_in_shape\": 9237, \"is_early\": 1, \"is_ontime\": 6, \"is_late\": 54, \"n_vp_trips\": 61, \"vp_per_minute\": 3.02, \"pct_in_shape\": 0.84, \"pct_rt_journey_atleast1_vp\": 1.0, \"pct_rt_journey_atleast2_vp\": 1.0, \"pct_sched_journey_atleast1_vp\": 1.0, \"pct_sched_journey_atleast2_vp\": 1.0, \"rt_sched_journey_ratio\": 1.4, \"avg_rt_service_minutes\": 59.75, \"sched_rt_category\": \"schedule_and_vp\", \"speed_mph\": 6.421276040233476, \"name\": \"Bay Area 511 Muni Schedule\", \"route_id\": \"30\", \"route_combined_name\": \"30 STOCKTON\", \"base64_url\": \"aHR0cHM6Ly9hcGkuNTExLm9yZy90cmFuc2l0L2RhdGFmZWVkcz9vcGVyYXRvcl9pZD1TRg==\", \"organization_source_record_id\": \"rechaapWbeffO33OX\", \"organization_name\": \"City and County of San Francisco\", \"caltrans_district\": \"04 - Oakland\", \"frequency_cat\": \"3+ trips/hour\", \"rt_sched_journey_ratio_cat\": \"Late by 1-50% of the sch. time\"}, {\"schedule_gtfs_dataset_key\": \"7cc0cb1871dfd558f11a2885c145d144\", \"direction_id\": 0.0, \"time_period\": \"Peak\", \"avg_scheduled_service_minutes\": 41.3, \"avg_stop_miles\": 0.14, \"n_scheduled_trips\": 62, \"frequency\": 7, \"road_freq_category\": \"very_high\", \"road_typology\": \"downtown_local\", \"pct_typology\": 0.68, \"service_date\": \"2023-07-12T00:00:00\", \"minutes_atleast1_vp\": 3672, \"minutes_atleast2_vp\": 3640, \"total_rt_service_minutes\": 3685.13, \"total_scheduled_service_minutes\": 2653.0, \"total_vp\": 10900, \"vp_in_shape\": 9181, \"is_early\": 3, \"is_ontime\": 10, \"is_late\": 49, \"n_vp_trips\": 62, \"vp_per_minute\": 2.96, \"pct_in_shape\": 0.842, \"pct_rt_journey_atleast1_vp\": 0.996, \"pct_rt_journey_atleast2_vp\": 0.988, \"pct_sched_journey_atleast1_vp\": 1.0, \"pct_sched_journey_atleast2_vp\": 1.0, \"rt_sched_journey_ratio\": 1.39, \"avg_rt_service_minutes\": 59.44, \"sched_rt_category\": \"schedule_and_vp\", \"speed_mph\": 6.4986100847639126, \"name\": \"Bay Area 511 Muni Schedule\", \"route_id\": \"30\", \"route_combined_name\": \"30 STOCKTON\", \"base64_url\": \"aHR0cHM6Ly9hcGkuNTExLm9yZy90cmFuc2l0L2RhdGFmZWVkcz9vcGVyYXRvcl9pZD1TRg==\", \"organization_source_record_id\": \"rechaapWbeffO33OX\", \"organization_name\": \"City and County of San Francisco\", \"caltrans_district\": \"04 - Oakland\", \"frequency_cat\": \"3+ trips/hour\", \"rt_sched_journey_ratio_cat\": \"Late by 1-50% of the sch. time\"}, {\"schedule_gtfs_dataset_key\": \"7cc0cb1871dfd558f11a2885c145d144\", \"direction_id\": 0.0, \"time_period\": \"Peak\", \"avg_scheduled_service_minutes\": 41.3, \"avg_stop_miles\": 0.14, \"n_scheduled_trips\": 62, \"frequency\": 7, \"road_freq_category\": \"very_high\", \"road_typology\": \"downtown_local\", \"pct_typology\": 0.68, \"service_date\": \"2023-08-15T00:00:00\", \"minutes_atleast1_vp\": 3731, \"minutes_atleast2_vp\": 3689, \"total_rt_service_minutes\": 3678.74, \"total_scheduled_service_minutes\": 2598.0, \"total_vp\": 11064, \"vp_in_shape\": 9319, \"is_early\": 2, \"is_ontime\": 6, \"is_late\": 53, \"n_vp_trips\": 61, \"vp_per_minute\": 3.01, \"pct_in_shape\": 0.842, \"pct_rt_journey_atleast1_vp\": 1.0, \"pct_rt_journey_atleast2_vp\": 1.0, \"pct_sched_journey_atleast1_vp\": 1.0, \"pct_sched_journey_atleast2_vp\": 1.0, \"rt_sched_journey_ratio\": 1.42, \"avg_rt_service_minutes\": 60.31, \"sched_rt_category\": \"schedule_and_vp\", \"speed_mph\": 6.1137206284983225, \"name\": \"Bay Area 511 Muni Schedule\", \"route_id\": \"30\", \"route_combined_name\": \"30 STOCKTON\", \"base64_url\": \"aHR0cHM6Ly9hcGkuNTExLm9yZy90cmFuc2l0L2RhdGFmZWVkcz9vcGVyYXRvcl9pZD1TRg==\", \"organization_source_record_id\": \"rechaapWbeffO33OX\", \"organization_name\": \"City and County of San Francisco\", \"caltrans_district\": \"04 - Oakland\", \"frequency_cat\": \"3+ trips/hour\", \"rt_sched_journey_ratio_cat\": \"Late by 1-50% of the sch. time\"}, {\"schedule_gtfs_dataset_key\": \"7cc0cb1871dfd558f11a2885c145d144\", \"direction_id\": 0.0, \"time_period\": \"Peak\", \"avg_scheduled_service_minutes\": 41.29, \"avg_stop_miles\": 0.14, \"n_scheduled_trips\": 62, \"frequency\": 7, \"road_freq_category\": \"very_high\", \"road_typology\": \"downtown_local\", \"pct_typology\": 0.68, \"service_date\": \"2023-10-11T00:00:00\", \"minutes_atleast1_vp\": 3692, \"minutes_atleast2_vp\": 3653, \"total_rt_service_minutes\": 3633.14, \"total_scheduled_service_minutes\": 2652.0, \"total_vp\": 10963, \"vp_in_shape\": 8856, \"is_early\": 0, \"is_ontime\": 10, \"is_late\": 52, \"n_vp_trips\": 62, \"vp_per_minute\": 3.02, \"pct_in_shape\": 0.808, \"pct_rt_journey_atleast1_vp\": 1.0, \"pct_rt_journey_atleast2_vp\": 1.0, \"pct_sched_journey_atleast1_vp\": 1.0, \"pct_sched_journey_atleast2_vp\": 1.0, \"rt_sched_journey_ratio\": 1.37, \"avg_rt_service_minutes\": 58.6, \"sched_rt_category\": \"schedule_and_vp\", \"speed_mph\": 6.629126644128647, \"name\": \"Bay Area 511 Muni Schedule\", \"route_id\": \"30\", \"route_combined_name\": \"30 STOCKTON\", \"base64_url\": \"aHR0cHM6Ly9hcGkuNTExLm9yZy90cmFuc2l0L2RhdGFmZWVkcz9vcGVyYXRvcl9pZD1TRg==\", \"organization_source_record_id\": \"rechaapWbeffO33OX\", \"organization_name\": \"City and County of San Francisco\", \"caltrans_district\": \"04 - Oakland\", \"frequency_cat\": \"3+ trips/hour\", \"rt_sched_journey_ratio_cat\": \"Late by 1-50% of the sch. time\"}, {\"schedule_gtfs_dataset_key\": \"7cc0cb1871dfd558f11a2885c145d144\", \"direction_id\": 0.0, \"time_period\": \"Peak\", \"avg_scheduled_service_minutes\": 26.29, \"avg_stop_miles\": 0.13, \"n_scheduled_trips\": 66, \"frequency\": 8, \"road_freq_category\": \"very_high\", \"road_typology\": \"downtown_local\", \"pct_typology\": 0.8, \"service_date\": \"2023-11-15T00:00:00\", \"minutes_atleast1_vp\": 2211, \"minutes_atleast2_vp\": 2171, \"total_rt_service_minutes\": 2170.79, \"total_scheduled_service_minutes\": 1574.0, \"total_vp\": 6508, \"vp_in_shape\": 5880, \"is_early\": 2, \"is_ontime\": 21, \"is_late\": 32, \"n_vp_trips\": 55, \"vp_per_minute\": 3.0, \"pct_in_shape\": 0.904, \"pct_rt_journey_atleast1_vp\": 1.0, \"pct_rt_journey_atleast2_vp\": 1.0, \"pct_sched_journey_atleast1_vp\": 1.0, \"pct_sched_journey_atleast2_vp\": 1.0, \"rt_sched_journey_ratio\": 1.38, \"avg_rt_service_minutes\": 39.47, \"sched_rt_category\": \"schedule_and_vp\", \"speed_mph\": 6.636680457302781, \"name\": \"Bay Area 511 Muni Schedule\", \"route_id\": \"30\", \"route_combined_name\": \"30 STOCKTON\", \"base64_url\": \"aHR0cHM6Ly9hcGkuNTExLm9yZy90cmFuc2l0L2RhdGFmZWVkcz9vcGVyYXRvcl9pZD1TRg==\", \"organization_source_record_id\": \"rechaapWbeffO33OX\", \"organization_name\": \"City and County of San Francisco\", \"caltrans_district\": \"04 - Oakland\", \"frequency_cat\": \"3+ trips/hour\", \"rt_sched_journey_ratio_cat\": \"Late by 1-50% of the sch. time\"}, {\"schedule_gtfs_dataset_key\": \"7cc0cb1871dfd558f11a2885c145d144\", \"direction_id\": 0.0, \"time_period\": \"Peak\", \"avg_scheduled_service_minutes\": 41.29, \"avg_stop_miles\": 0.14, \"n_scheduled_trips\": 62, \"frequency\": 7, \"road_freq_category\": \"very_high\", \"road_typology\": \"downtown_local\", \"pct_typology\": 0.68, \"service_date\": \"2023-12-13T00:00:00\", \"minutes_atleast1_vp\": 4110, \"minutes_atleast2_vp\": 4064, \"total_rt_service_minutes\": 4062.83, \"total_scheduled_service_minutes\": 2652.0, \"total_vp\": 12186, \"vp_in_shape\": 9446, \"is_early\": 0, \"is_ontime\": 7, \"is_late\": 55, \"n_vp_trips\": 62, \"vp_per_minute\": 3.0, \"pct_in_shape\": 0.775, \"pct_rt_journey_atleast1_vp\": 1.0, \"pct_rt_journey_atleast2_vp\": 1.0, \"pct_sched_journey_atleast1_vp\": 1.0, \"pct_sched_journey_atleast2_vp\": 1.0, \"rt_sched_journey_ratio\": 1.53, \"avg_rt_service_minutes\": 65.53, \"sched_rt_category\": \"schedule_and_vp\", \"speed_mph\": 6.289643569605165, \"name\": \"Bay Area 511 Muni Schedule\", \"route_id\": \"30\", \"route_combined_name\": \"30 STOCKTON\", \"base64_url\": \"aHR0cHM6Ly9hcGkuNTExLm9yZy90cmFuc2l0L2RhdGFmZWVkcz9vcGVyYXRvcl9pZD1TRg==\", \"organization_source_record_id\": \"rechaapWbeffO33OX\", \"organization_name\": \"City and County of San Francisco\", \"caltrans_district\": \"04 - Oakland\", \"frequency_cat\": \"3+ trips/hour\", \"rt_sched_journey_ratio_cat\": \"Late by 50%+ of the sch. time\"}, {\"schedule_gtfs_dataset_key\": \"7cc0cb1871dfd558f11a2885c145d144\", \"direction_id\": 0.0, \"time_period\": \"Peak\", \"avg_scheduled_service_minutes\": 41.29, \"avg_stop_miles\": 0.14, \"n_scheduled_trips\": 62, \"frequency\": 7, \"road_freq_category\": \"very_high\", \"road_typology\": \"downtown_local\", \"pct_typology\": 0.68, \"service_date\": \"2024-01-17T00:00:00\", \"minutes_atleast1_vp\": 3501, \"minutes_atleast2_vp\": 3459, \"total_rt_service_minutes\": 3439.71, \"total_scheduled_service_minutes\": 2652.0, \"total_vp\": 10367, \"vp_in_shape\": 8263, \"is_early\": 1, \"is_ontime\": 15, \"is_late\": 46, \"n_vp_trips\": 62, \"vp_per_minute\": 3.01, \"pct_in_shape\": 0.797, \"pct_rt_journey_atleast1_vp\": 1.0, \"pct_rt_journey_atleast2_vp\": 1.0, \"pct_sched_journey_atleast1_vp\": 1.0, \"pct_sched_journey_atleast2_vp\": 1.0, \"rt_sched_journey_ratio\": 1.3, \"avg_rt_service_minutes\": 55.48, \"sched_rt_category\": \"schedule_and_vp\", \"speed_mph\": 6.439256318546237, \"name\": \"Bay Area 511 Muni Schedule\", \"route_id\": \"30\", \"route_combined_name\": \"30 STOCKTON\", \"base64_url\": \"aHR0cHM6Ly9hcGkuNTExLm9yZy90cmFuc2l0L2RhdGFmZWVkcz9vcGVyYXRvcl9pZD1TRg==\", \"organization_source_record_id\": \"rechaapWbeffO33OX\", \"organization_name\": \"City and County of San Francisco\", \"caltrans_district\": \"04 - Oakland\", \"frequency_cat\": \"3+ trips/hour\", \"rt_sched_journey_ratio_cat\": \"Late by 1-50% of the sch. time\"}, {\"schedule_gtfs_dataset_key\": \"7cc0cb1871dfd558f11a2885c145d144\", \"direction_id\": 0.0, \"time_period\": \"Peak\", \"avg_scheduled_service_minutes\": 41.29, \"avg_stop_miles\": 0.14, \"n_scheduled_trips\": 62, \"frequency\": 7, \"road_freq_category\": \"very_high\", \"road_typology\": \"downtown_local\", \"pct_typology\": 0.68, \"service_date\": \"2024-02-14T00:00:00\", \"minutes_atleast1_vp\": 3555, \"minutes_atleast2_vp\": 3512, \"total_rt_service_minutes\": 3497.04, \"total_scheduled_service_minutes\": 2598.0, \"total_vp\": 10527, \"vp_in_shape\": 8659, \"is_early\": 0, \"is_ontime\": 8, \"is_late\": 53, \"n_vp_trips\": 61, \"vp_per_minute\": 3.01, \"pct_in_shape\": 0.823, \"pct_rt_journey_atleast1_vp\": 1.0, \"pct_rt_journey_atleast2_vp\": 1.0, \"pct_sched_journey_atleast1_vp\": 1.0, \"pct_sched_journey_atleast2_vp\": 1.0, \"rt_sched_journey_ratio\": 1.35, \"avg_rt_service_minutes\": 57.33, \"sched_rt_category\": \"schedule_and_vp\", \"speed_mph\": 6.596528683984056, \"name\": \"Bay Area 511 Muni Schedule\", \"route_id\": \"30\", \"route_combined_name\": \"30 STOCKTON\", \"base64_url\": \"aHR0cHM6Ly9hcGkuNTExLm9yZy90cmFuc2l0L2RhdGFmZWVkcz9vcGVyYXRvcl9pZD1TRg==\", \"organization_source_record_id\": \"rechaapWbeffO33OX\", \"organization_name\": \"City and County of San Francisco\", \"caltrans_district\": \"04 - Oakland\", \"frequency_cat\": \"3+ trips/hour\", \"rt_sched_journey_ratio_cat\": \"Late by 1-50% of the sch. time\"}, {\"schedule_gtfs_dataset_key\": \"7cc0cb1871dfd558f11a2885c145d144\", \"direction_id\": 0.0, \"time_period\": \"Peak\", \"avg_scheduled_service_minutes\": 41.29, \"avg_stop_miles\": 0.14, \"n_scheduled_trips\": 62, \"frequency\": 7, \"road_freq_category\": \"very_high\", \"road_typology\": \"downtown_local\", \"pct_typology\": 0.68, \"service_date\": \"2024-03-13T00:00:00\", \"minutes_atleast1_vp\": 3663, \"minutes_atleast2_vp\": 3623, \"total_rt_service_minutes\": 3624.9, \"total_scheduled_service_minutes\": 2652.0, \"total_vp\": 10842, \"vp_in_shape\": 8893, \"is_early\": 0, \"is_ontime\": 4, \"is_late\": 58, \"n_vp_trips\": 62, \"vp_per_minute\": 2.99, \"pct_in_shape\": 0.82, \"pct_rt_journey_atleast1_vp\": 1.0, \"pct_rt_journey_atleast2_vp\": 0.999, \"pct_sched_journey_atleast1_vp\": 1.0, \"pct_sched_journey_atleast2_vp\": 1.0, \"rt_sched_journey_ratio\": 1.37, \"avg_rt_service_minutes\": 58.47, \"sched_rt_category\": \"schedule_and_vp\", \"speed_mph\": 6.636053511043461, \"name\": \"Bay Area 511 Muni Schedule\", \"route_id\": \"30\", \"route_combined_name\": \"30 STOCKTON\", \"base64_url\": \"aHR0cHM6Ly9hcGkuNTExLm9yZy90cmFuc2l0L2RhdGFmZWVkcz9vcGVyYXRvcl9pZD1TRg==\", \"organization_source_record_id\": \"rechaapWbeffO33OX\", \"organization_name\": \"City and County of San Francisco\", \"caltrans_district\": \"04 - Oakland\", \"frequency_cat\": \"3+ trips/hour\", \"rt_sched_journey_ratio_cat\": \"Late by 1-50% of the sch. time\"}, {\"schedule_gtfs_dataset_key\": \"d8453d9a4ae1184f7e1339f7c61849df\", \"direction_id\": 0.0, \"time_period\": \"Offpeak\", \"avg_scheduled_service_minutes\": 41.29, \"avg_stop_miles\": 0.14, \"n_scheduled_trips\": 79, \"frequency\": 4, \"road_freq_category\": \"very_high\", \"road_typology\": \"downtown_local\", \"pct_typology\": 0.68, \"service_date\": \"2023-03-15T00:00:00\", \"minutes_atleast1_vp\": 4866, \"minutes_atleast2_vp\": 4804, \"total_rt_service_minutes\": 8974.78, \"total_scheduled_service_minutes\": 3170.0, \"total_vp\": 14402, \"vp_in_shape\": 12223, \"is_early\": 0, \"is_ontime\": 8, \"is_late\": 71, \"n_vp_trips\": 79, \"vp_per_minute\": 1.6, \"pct_in_shape\": 0.849, \"pct_rt_journey_atleast1_vp\": 0.542, \"pct_rt_journey_atleast2_vp\": 0.535, \"pct_sched_journey_atleast1_vp\": 1.0, \"pct_sched_journey_atleast2_vp\": 1.0, \"rt_sched_journey_ratio\": 2.83, \"avg_rt_service_minutes\": 113.6, \"sched_rt_category\": \"schedule_and_vp\", \"speed_mph\": 6.494753814859048, \"name\": \"Bay Area 511 Muni Schedule\", \"route_id\": \"30\", \"route_combined_name\": \"30 STOCKTON\", \"base64_url\": \"aHR0cHM6Ly9hcGkuNTExLm9yZy90cmFuc2l0L2RhdGFmZWVkcz9vcGVyYXRvcl9pZD1TRg==\", \"organization_source_record_id\": \"rechaapWbeffO33OX\", \"organization_name\": \"City and County of San Francisco\", \"caltrans_district\": \"04 - Oakland\", \"frequency_cat\": \"3+ trips/hour\", \"rt_sched_journey_ratio_cat\": \"Trip took more than 2x the sch. time\"}, {\"schedule_gtfs_dataset_key\": \"d8453d9a4ae1184f7e1339f7c61849df\", \"direction_id\": 0.0, \"time_period\": \"Peak\", \"avg_scheduled_service_minutes\": 41.29, \"avg_stop_miles\": 0.14, \"n_scheduled_trips\": 62, \"frequency\": 7, \"road_freq_category\": \"very_high\", \"road_typology\": \"downtown_local\", \"pct_typology\": 0.68, \"service_date\": \"2023-03-15T00:00:00\", \"minutes_atleast1_vp\": 4016, \"minutes_atleast2_vp\": 3966, \"total_rt_service_minutes\": 3976.23, \"total_scheduled_service_minutes\": 2652.0, \"total_vp\": 11891, \"vp_in_shape\": 9976, \"is_early\": 0, \"is_ontime\": 8, \"is_late\": 54, \"n_vp_trips\": 62, \"vp_per_minute\": 2.99, \"pct_in_shape\": 0.839, \"pct_rt_journey_atleast1_vp\": 1.0, \"pct_rt_journey_atleast2_vp\": 0.997, \"pct_sched_journey_atleast1_vp\": 1.0, \"pct_sched_journey_atleast2_vp\": 1.0, \"rt_sched_journey_ratio\": 1.5, \"avg_rt_service_minutes\": 64.13, \"sched_rt_category\": \"schedule_and_vp\", \"speed_mph\": 6.308943511976214, \"name\": \"Bay Area 511 Muni Schedule\", \"route_id\": \"30\", \"route_combined_name\": \"30 STOCKTON\", \"base64_url\": \"aHR0cHM6Ly9hcGkuNTExLm9yZy90cmFuc2l0L2RhdGFmZWVkcz9vcGVyYXRvcl9pZD1TRg==\", \"organization_source_record_id\": \"rechaapWbeffO33OX\", \"organization_name\": \"City and County of San Francisco\", \"caltrans_district\": \"04 - Oakland\", \"frequency_cat\": \"3+ trips/hour\", \"rt_sched_journey_ratio_cat\": \"Late by 1-50% of the sch. time\"}]}}, {\"mode\": \"vega-lite\"});\n",
       "</script>"
      ],
      "text/plain": [
       "alt.Chart(...)"
      ]
     },
     "execution_count": 11,
     "metadata": {},
     "output_type": "execute_result"
    }
   ],
   "source": [
    "(\n",
    "    _charts.grouped_bar_chart(\n",
    "        df.loc[\n",
    "            (df.time_period != \"all_day\") & (df.direction_id == 0)\n",
    "        ],\n",
    "        \"time_period\",\n",
    "        \"frequency\",\n",
    "        \"time_period\",\n",
    "        \"Frequency of Route in Direction 0\",\n",
    "        \"Frequency tracks the number of times per hour this route goes by direction and time period.\",\n",
    "    )\n",
    ")"
   ]
  },
  {
   "cell_type": "code",
   "execution_count": 12,
   "id": "d44ba0b2-0294-404f-9b53-1087e287ac25",
   "metadata": {},
   "outputs": [],
   "source": [
    "def timeliness_trips(df: pd.DataFrame):\n",
    "    to_keep = [\n",
    "        \"service_date\",\n",
    "        \"organization_name\",\n",
    "        \"direction_id\",\n",
    "        \"time_period\",\n",
    "        \"route_combined_name\",\n",
    "        \"is_early\",\n",
    "        \"is_ontime\",\n",
    "        \"is_late\",\n",
    "        \"n_vp_trips\",\n",
    "    ]\n",
    "    df = df[to_keep]\n",
    "    df2 = df.loc[df.time_period != \"all_day\"].reset_index(drop=True)\n",
    "\n",
    "    melted_df = df2.melt(\n",
    "        id_vars=[\n",
    "            \"service_date\",\n",
    "            \"organization_name\",\n",
    "            \"route_combined_name\",\n",
    "            \"time_period\",\n",
    "            \"direction_id\",\n",
    "        ],\n",
    "        value_vars=[\"is_early\", \"is_ontime\", \"is_late\"],\n",
    "    )\n",
    "    return melted_df"
   ]
  },
  {
   "cell_type": "code",
   "execution_count": 13,
   "id": "bf4709e8-e3b3-4faa-b3fd-fa5cb5d53195",
   "metadata": {},
   "outputs": [],
   "source": [
    "df_timeliness = timeliness_trips(df)"
   ]
  },
  {
   "cell_type": "markdown",
   "id": "0930e916-4ecc-4652-ae4e-ad2ee1f74d54",
   "metadata": {},
   "source": [
    "#### How on time is this route?"
   ]
  },
  {
   "cell_type": "code",
   "execution_count": 15,
   "id": "fe5da5ce-eae0-4a11-add1-c57306821586",
   "metadata": {},
   "outputs": [
    {
     "data": {
      "text/html": [
       "\n",
       "<style>\n",
       "  #altair-viz-1f750fa07d54453db8f092dc947eb765.vega-embed {\n",
       "    width: 100%;\n",
       "    display: flex;\n",
       "  }\n",
       "\n",
       "  #altair-viz-1f750fa07d54453db8f092dc947eb765.vega-embed details,\n",
       "  #altair-viz-1f750fa07d54453db8f092dc947eb765.vega-embed details summary {\n",
       "    position: relative;\n",
       "  }\n",
       "</style>\n",
       "<div id=\"altair-viz-1f750fa07d54453db8f092dc947eb765\"></div>\n",
       "<script type=\"text/javascript\">\n",
       "  var VEGA_DEBUG = (typeof VEGA_DEBUG == \"undefined\") ? {} : VEGA_DEBUG;\n",
       "  (function(spec, embedOpt){\n",
       "    let outputDiv = document.currentScript.previousElementSibling;\n",
       "    if (outputDiv.id !== \"altair-viz-1f750fa07d54453db8f092dc947eb765\") {\n",
       "      outputDiv = document.getElementById(\"altair-viz-1f750fa07d54453db8f092dc947eb765\");\n",
       "    }\n",
       "    const paths = {\n",
       "      \"vega\": \"https://cdn.jsdelivr.net/npm/vega@5?noext\",\n",
       "      \"vega-lib\": \"https://cdn.jsdelivr.net/npm/vega-lib?noext\",\n",
       "      \"vega-lite\": \"https://cdn.jsdelivr.net/npm/vega-lite@5.14.1?noext\",\n",
       "      \"vega-embed\": \"https://cdn.jsdelivr.net/npm/vega-embed@6?noext\",\n",
       "    };\n",
       "\n",
       "    function maybeLoadScript(lib, version) {\n",
       "      var key = `${lib.replace(\"-\", \"\")}_version`;\n",
       "      return (VEGA_DEBUG[key] == version) ?\n",
       "        Promise.resolve(paths[lib]) :\n",
       "        new Promise(function(resolve, reject) {\n",
       "          var s = document.createElement('script');\n",
       "          document.getElementsByTagName(\"head\")[0].appendChild(s);\n",
       "          s.async = true;\n",
       "          s.onload = () => {\n",
       "            VEGA_DEBUG[key] = version;\n",
       "            return resolve(paths[lib]);\n",
       "          };\n",
       "          s.onerror = () => reject(`Error loading script: ${paths[lib]}`);\n",
       "          s.src = paths[lib];\n",
       "        });\n",
       "    }\n",
       "\n",
       "    function showError(err) {\n",
       "      outputDiv.innerHTML = `<div class=\"error\" style=\"color:red;\">${err}</div>`;\n",
       "      throw err;\n",
       "    }\n",
       "\n",
       "    function displayChart(vegaEmbed) {\n",
       "      vegaEmbed(outputDiv, spec, embedOpt)\n",
       "        .catch(err => showError(`Javascript Error: ${err.message}<br>This usually means there's a typo in your chart specification. See the javascript console for the full traceback.`));\n",
       "    }\n",
       "\n",
       "    if(typeof define === \"function\" && define.amd) {\n",
       "      requirejs.config({paths});\n",
       "      require([\"vega-embed\"], displayChart, err => showError(`Error loading script: ${err.message}`));\n",
       "    } else {\n",
       "      maybeLoadScript(\"vega\", \"5\")\n",
       "        .then(() => maybeLoadScript(\"vega-lite\", \"5.14.1\"))\n",
       "        .then(() => maybeLoadScript(\"vega-embed\", \"6\"))\n",
       "        .catch(showError)\n",
       "        .then(() => displayChart(vegaEmbed));\n",
       "    }\n",
       "  })({\"config\": {\"view\": {\"continuousWidth\": 300, \"continuousHeight\": 300}}, \"data\": {\"name\": \"data-b18cc39881cfcf9011f881d8642fc4b4\"}, \"facet\": {\"column\": {\"field\": \"time_period\", \"title\": \"Timeliness Of Trips\", \"type\": \"nominal\"}}, \"spec\": {\"mark\": {\"type\": \"bar\", \"size\": 15}, \"encoding\": {\"color\": {\"field\": \"variable\", \"scale\": {\"range\": [\"#B9D6DF\", \"#2EA8CE\", \"#0B405B\"]}, \"title\": \"Variable\", \"type\": \"nominal\"}, \"tooltip\": [{\"field\": \"service_date\", \"type\": \"temporal\"}, {\"field\": \"organization_name\", \"type\": \"nominal\"}, {\"field\": \"route_combined_name\", \"type\": \"nominal\"}, {\"field\": \"time_period\", \"type\": \"nominal\"}, {\"field\": \"direction_id\", \"type\": \"quantitative\"}, {\"field\": \"variable\", \"type\": \"nominal\"}, {\"field\": \"value\", \"type\": \"quantitative\"}], \"x\": {\"axis\": {\"format\": \"%b %Y\", \"labelAngle\": -45}, \"field\": \"service_date\", \"timeUnit\": \"yearmonthdate\", \"title\": [\"Service Date\"], \"type\": \"ordinal\"}, \"y\": {\"field\": \"value\", \"scale\": {\"domain\": [0, 82]}, \"title\": \"Value\", \"type\": \"quantitative\"}}, \"height\": 300, \"width\": 300}, \"$schema\": \"https://vega.github.io/schema/vega-lite/v5.14.1.json\", \"datasets\": {\"data-b18cc39881cfcf9011f881d8642fc4b4\": [{\"service_date\": \"2023-04-12T00:00:00\", \"organization_name\": \"City and County of San Francisco\", \"route_combined_name\": \"30 STOCKTON\", \"time_period\": \"offpeak\", \"direction_id\": 0.0, \"variable\": \"is_early\", \"value\": 0}, {\"service_date\": \"2023-05-17T00:00:00\", \"organization_name\": \"City and County of San Francisco\", \"route_combined_name\": \"30 STOCKTON\", \"time_period\": \"offpeak\", \"direction_id\": 0.0, \"variable\": \"is_early\", \"value\": 0}, {\"service_date\": \"2023-06-14T00:00:00\", \"organization_name\": \"City and County of San Francisco\", \"route_combined_name\": \"30 STOCKTON\", \"time_period\": \"offpeak\", \"direction_id\": 0.0, \"variable\": \"is_early\", \"value\": 1}, {\"service_date\": \"2023-07-12T00:00:00\", \"organization_name\": \"City and County of San Francisco\", \"route_combined_name\": \"30 STOCKTON\", \"time_period\": \"offpeak\", \"direction_id\": 0.0, \"variable\": \"is_early\", \"value\": 2}, {\"service_date\": \"2023-08-15T00:00:00\", \"organization_name\": \"City and County of San Francisco\", \"route_combined_name\": \"30 STOCKTON\", \"time_period\": \"offpeak\", \"direction_id\": 0.0, \"variable\": \"is_early\", \"value\": 2}, {\"service_date\": \"2023-10-11T00:00:00\", \"organization_name\": \"City and County of San Francisco\", \"route_combined_name\": \"30 STOCKTON\", \"time_period\": \"offpeak\", \"direction_id\": 0.0, \"variable\": \"is_early\", \"value\": 0}, {\"service_date\": \"2023-11-15T00:00:00\", \"organization_name\": \"City and County of San Francisco\", \"route_combined_name\": \"30 STOCKTON\", \"time_period\": \"offpeak\", \"direction_id\": 0.0, \"variable\": \"is_early\", \"value\": 4}, {\"service_date\": \"2023-12-13T00:00:00\", \"organization_name\": \"City and County of San Francisco\", \"route_combined_name\": \"30 STOCKTON\", \"time_period\": \"offpeak\", \"direction_id\": 0.0, \"variable\": \"is_early\", \"value\": 1}, {\"service_date\": \"2024-01-17T00:00:00\", \"organization_name\": \"City and County of San Francisco\", \"route_combined_name\": \"30 STOCKTON\", \"time_period\": \"offpeak\", \"direction_id\": 0.0, \"variable\": \"is_early\", \"value\": 1}, {\"service_date\": \"2024-02-14T00:00:00\", \"organization_name\": \"City and County of San Francisco\", \"route_combined_name\": \"30 STOCKTON\", \"time_period\": \"offpeak\", \"direction_id\": 0.0, \"variable\": \"is_early\", \"value\": 1}, {\"service_date\": \"2024-03-13T00:00:00\", \"organization_name\": \"City and County of San Francisco\", \"route_combined_name\": \"30 STOCKTON\", \"time_period\": \"offpeak\", \"direction_id\": 0.0, \"variable\": \"is_early\", \"value\": 0}, {\"service_date\": \"2023-04-12T00:00:00\", \"organization_name\": \"City and County of San Francisco\", \"route_combined_name\": \"30 STOCKTON\", \"time_period\": \"peak\", \"direction_id\": 0.0, \"variable\": \"is_early\", \"value\": 0}, {\"service_date\": \"2023-05-17T00:00:00\", \"organization_name\": \"City and County of San Francisco\", \"route_combined_name\": \"30 STOCKTON\", \"time_period\": \"peak\", \"direction_id\": 0.0, \"variable\": \"is_early\", \"value\": 0}, {\"service_date\": \"2023-06-14T00:00:00\", \"organization_name\": \"City and County of San Francisco\", \"route_combined_name\": \"30 STOCKTON\", \"time_period\": \"peak\", \"direction_id\": 0.0, \"variable\": \"is_early\", \"value\": 1}, {\"service_date\": \"2023-07-12T00:00:00\", \"organization_name\": \"City and County of San Francisco\", \"route_combined_name\": \"30 STOCKTON\", \"time_period\": \"peak\", \"direction_id\": 0.0, \"variable\": \"is_early\", \"value\": 3}, {\"service_date\": \"2023-08-15T00:00:00\", \"organization_name\": \"City and County of San Francisco\", \"route_combined_name\": \"30 STOCKTON\", \"time_period\": \"peak\", \"direction_id\": 0.0, \"variable\": \"is_early\", \"value\": 2}, {\"service_date\": \"2023-10-11T00:00:00\", \"organization_name\": \"City and County of San Francisco\", \"route_combined_name\": \"30 STOCKTON\", \"time_period\": \"peak\", \"direction_id\": 0.0, \"variable\": \"is_early\", \"value\": 0}, {\"service_date\": \"2023-11-15T00:00:00\", \"organization_name\": \"City and County of San Francisco\", \"route_combined_name\": \"30 STOCKTON\", \"time_period\": \"peak\", \"direction_id\": 0.0, \"variable\": \"is_early\", \"value\": 2}, {\"service_date\": \"2023-12-13T00:00:00\", \"organization_name\": \"City and County of San Francisco\", \"route_combined_name\": \"30 STOCKTON\", \"time_period\": \"peak\", \"direction_id\": 0.0, \"variable\": \"is_early\", \"value\": 0}, {\"service_date\": \"2024-01-17T00:00:00\", \"organization_name\": \"City and County of San Francisco\", \"route_combined_name\": \"30 STOCKTON\", \"time_period\": \"peak\", \"direction_id\": 0.0, \"variable\": \"is_early\", \"value\": 1}, {\"service_date\": \"2024-02-14T00:00:00\", \"organization_name\": \"City and County of San Francisco\", \"route_combined_name\": \"30 STOCKTON\", \"time_period\": \"peak\", \"direction_id\": 0.0, \"variable\": \"is_early\", \"value\": 0}, {\"service_date\": \"2024-03-13T00:00:00\", \"organization_name\": \"City and County of San Francisco\", \"route_combined_name\": \"30 STOCKTON\", \"time_period\": \"peak\", \"direction_id\": 0.0, \"variable\": \"is_early\", \"value\": 0}, {\"service_date\": \"2023-03-15T00:00:00\", \"organization_name\": \"City and County of San Francisco\", \"route_combined_name\": \"30 STOCKTON\", \"time_period\": \"offpeak\", \"direction_id\": 0.0, \"variable\": \"is_early\", \"value\": 0}, {\"service_date\": \"2023-03-15T00:00:00\", \"organization_name\": \"City and County of San Francisco\", \"route_combined_name\": \"30 STOCKTON\", \"time_period\": \"peak\", \"direction_id\": 0.0, \"variable\": \"is_early\", \"value\": 0}, {\"service_date\": \"2023-04-12T00:00:00\", \"organization_name\": \"City and County of San Francisco\", \"route_combined_name\": \"30 STOCKTON\", \"time_period\": \"offpeak\", \"direction_id\": 0.0, \"variable\": \"is_ontime\", \"value\": 8}, {\"service_date\": \"2023-05-17T00:00:00\", \"organization_name\": \"City and County of San Francisco\", \"route_combined_name\": \"30 STOCKTON\", \"time_period\": \"offpeak\", \"direction_id\": 0.0, \"variable\": \"is_ontime\", \"value\": 9}, {\"service_date\": \"2023-06-14T00:00:00\", \"organization_name\": \"City and County of San Francisco\", \"route_combined_name\": \"30 STOCKTON\", \"time_period\": \"offpeak\", \"direction_id\": 0.0, \"variable\": \"is_ontime\", \"value\": 10}, {\"service_date\": \"2023-07-12T00:00:00\", \"organization_name\": \"City and County of San Francisco\", \"route_combined_name\": \"30 STOCKTON\", \"time_period\": \"offpeak\", \"direction_id\": 0.0, \"variable\": \"is_ontime\", \"value\": 6}, {\"service_date\": \"2023-08-15T00:00:00\", \"organization_name\": \"City and County of San Francisco\", \"route_combined_name\": \"30 STOCKTON\", \"time_period\": \"offpeak\", \"direction_id\": 0.0, \"variable\": \"is_ontime\", \"value\": 4}, {\"service_date\": \"2023-10-11T00:00:00\", \"organization_name\": \"City and County of San Francisco\", \"route_combined_name\": \"30 STOCKTON\", \"time_period\": \"offpeak\", \"direction_id\": 0.0, \"variable\": \"is_ontime\", \"value\": 8}, {\"service_date\": \"2023-11-15T00:00:00\", \"organization_name\": \"City and County of San Francisco\", \"route_combined_name\": \"30 STOCKTON\", \"time_period\": \"offpeak\", \"direction_id\": 0.0, \"variable\": \"is_ontime\", \"value\": 28}, {\"service_date\": \"2023-12-13T00:00:00\", \"organization_name\": \"City and County of San Francisco\", \"route_combined_name\": \"30 STOCKTON\", \"time_period\": \"offpeak\", \"direction_id\": 0.0, \"variable\": \"is_ontime\", \"value\": 11}, {\"service_date\": \"2024-01-17T00:00:00\", \"organization_name\": \"City and County of San Francisco\", \"route_combined_name\": \"30 STOCKTON\", \"time_period\": \"offpeak\", \"direction_id\": 0.0, \"variable\": \"is_ontime\", \"value\": 10}, {\"service_date\": \"2024-02-14T00:00:00\", \"organization_name\": \"City and County of San Francisco\", \"route_combined_name\": \"30 STOCKTON\", \"time_period\": \"offpeak\", \"direction_id\": 0.0, \"variable\": \"is_ontime\", \"value\": 9}, {\"service_date\": \"2024-03-13T00:00:00\", \"organization_name\": \"City and County of San Francisco\", \"route_combined_name\": \"30 STOCKTON\", \"time_period\": \"offpeak\", \"direction_id\": 0.0, \"variable\": \"is_ontime\", \"value\": 8}, {\"service_date\": \"2023-04-12T00:00:00\", \"organization_name\": \"City and County of San Francisco\", \"route_combined_name\": \"30 STOCKTON\", \"time_period\": \"peak\", \"direction_id\": 0.0, \"variable\": \"is_ontime\", \"value\": 6}, {\"service_date\": \"2023-05-17T00:00:00\", \"organization_name\": \"City and County of San Francisco\", \"route_combined_name\": \"30 STOCKTON\", \"time_period\": \"peak\", \"direction_id\": 0.0, \"variable\": \"is_ontime\", \"value\": 4}, {\"service_date\": \"2023-06-14T00:00:00\", \"organization_name\": \"City and County of San Francisco\", \"route_combined_name\": \"30 STOCKTON\", \"time_period\": \"peak\", \"direction_id\": 0.0, \"variable\": \"is_ontime\", \"value\": 6}, {\"service_date\": \"2023-07-12T00:00:00\", \"organization_name\": \"City and County of San Francisco\", \"route_combined_name\": \"30 STOCKTON\", \"time_period\": \"peak\", \"direction_id\": 0.0, \"variable\": \"is_ontime\", \"value\": 10}, {\"service_date\": \"2023-08-15T00:00:00\", \"organization_name\": \"City and County of San Francisco\", \"route_combined_name\": \"30 STOCKTON\", \"time_period\": \"peak\", \"direction_id\": 0.0, \"variable\": \"is_ontime\", \"value\": 6}, {\"service_date\": \"2023-10-11T00:00:00\", \"organization_name\": \"City and County of San Francisco\", \"route_combined_name\": \"30 STOCKTON\", \"time_period\": \"peak\", \"direction_id\": 0.0, \"variable\": \"is_ontime\", \"value\": 10}, {\"service_date\": \"2023-11-15T00:00:00\", \"organization_name\": \"City and County of San Francisco\", \"route_combined_name\": \"30 STOCKTON\", \"time_period\": \"peak\", \"direction_id\": 0.0, \"variable\": \"is_ontime\", \"value\": 21}, {\"service_date\": \"2023-12-13T00:00:00\", \"organization_name\": \"City and County of San Francisco\", \"route_combined_name\": \"30 STOCKTON\", \"time_period\": \"peak\", \"direction_id\": 0.0, \"variable\": \"is_ontime\", \"value\": 7}, {\"service_date\": \"2024-01-17T00:00:00\", \"organization_name\": \"City and County of San Francisco\", \"route_combined_name\": \"30 STOCKTON\", \"time_period\": \"peak\", \"direction_id\": 0.0, \"variable\": \"is_ontime\", \"value\": 15}, {\"service_date\": \"2024-02-14T00:00:00\", \"organization_name\": \"City and County of San Francisco\", \"route_combined_name\": \"30 STOCKTON\", \"time_period\": \"peak\", \"direction_id\": 0.0, \"variable\": \"is_ontime\", \"value\": 8}, {\"service_date\": \"2024-03-13T00:00:00\", \"organization_name\": \"City and County of San Francisco\", \"route_combined_name\": \"30 STOCKTON\", \"time_period\": \"peak\", \"direction_id\": 0.0, \"variable\": \"is_ontime\", \"value\": 4}, {\"service_date\": \"2023-03-15T00:00:00\", \"organization_name\": \"City and County of San Francisco\", \"route_combined_name\": \"30 STOCKTON\", \"time_period\": \"offpeak\", \"direction_id\": 0.0, \"variable\": \"is_ontime\", \"value\": 8}, {\"service_date\": \"2023-03-15T00:00:00\", \"organization_name\": \"City and County of San Francisco\", \"route_combined_name\": \"30 STOCKTON\", \"time_period\": \"peak\", \"direction_id\": 0.0, \"variable\": \"is_ontime\", \"value\": 8}, {\"service_date\": \"2023-04-12T00:00:00\", \"organization_name\": \"City and County of San Francisco\", \"route_combined_name\": \"30 STOCKTON\", \"time_period\": \"offpeak\", \"direction_id\": 0.0, \"variable\": \"is_late\", \"value\": 71}, {\"service_date\": \"2023-05-17T00:00:00\", \"organization_name\": \"City and County of San Francisco\", \"route_combined_name\": \"30 STOCKTON\", \"time_period\": \"offpeak\", \"direction_id\": 0.0, \"variable\": \"is_late\", \"value\": 70}, {\"service_date\": \"2023-06-14T00:00:00\", \"organization_name\": \"City and County of San Francisco\", \"route_combined_name\": \"30 STOCKTON\", \"time_period\": \"offpeak\", \"direction_id\": 0.0, \"variable\": \"is_late\", \"value\": 68}, {\"service_date\": \"2023-07-12T00:00:00\", \"organization_name\": \"City and County of San Francisco\", \"route_combined_name\": \"30 STOCKTON\", \"time_period\": \"offpeak\", \"direction_id\": 0.0, \"variable\": \"is_late\", \"value\": 69}, {\"service_date\": \"2023-08-15T00:00:00\", \"organization_name\": \"City and County of San Francisco\", \"route_combined_name\": \"30 STOCKTON\", \"time_period\": \"offpeak\", \"direction_id\": 0.0, \"variable\": \"is_late\", \"value\": 72}, {\"service_date\": \"2023-10-11T00:00:00\", \"organization_name\": \"City and County of San Francisco\", \"route_combined_name\": \"30 STOCKTON\", \"time_period\": \"offpeak\", \"direction_id\": 0.0, \"variable\": \"is_late\", \"value\": 70}, {\"service_date\": \"2023-11-15T00:00:00\", \"organization_name\": \"City and County of San Francisco\", \"route_combined_name\": \"30 STOCKTON\", \"time_period\": \"offpeak\", \"direction_id\": 0.0, \"variable\": \"is_late\", \"value\": 36}, {\"service_date\": \"2023-12-13T00:00:00\", \"organization_name\": \"City and County of San Francisco\", \"route_combined_name\": \"30 STOCKTON\", \"time_period\": \"offpeak\", \"direction_id\": 0.0, \"variable\": \"is_late\", \"value\": 64}, {\"service_date\": \"2024-01-17T00:00:00\", \"organization_name\": \"City and County of San Francisco\", \"route_combined_name\": \"30 STOCKTON\", \"time_period\": \"offpeak\", \"direction_id\": 0.0, \"variable\": \"is_late\", \"value\": 68}, {\"service_date\": \"2024-02-14T00:00:00\", \"organization_name\": \"City and County of San Francisco\", \"route_combined_name\": \"30 STOCKTON\", \"time_period\": \"offpeak\", \"direction_id\": 0.0, \"variable\": \"is_late\", \"value\": 69}, {\"service_date\": \"2024-03-13T00:00:00\", \"organization_name\": \"City and County of San Francisco\", \"route_combined_name\": \"30 STOCKTON\", \"time_period\": \"offpeak\", \"direction_id\": 0.0, \"variable\": \"is_late\", \"value\": 71}, {\"service_date\": \"2023-04-12T00:00:00\", \"organization_name\": \"City and County of San Francisco\", \"route_combined_name\": \"30 STOCKTON\", \"time_period\": \"peak\", \"direction_id\": 0.0, \"variable\": \"is_late\", \"value\": 56}, {\"service_date\": \"2023-05-17T00:00:00\", \"organization_name\": \"City and County of San Francisco\", \"route_combined_name\": \"30 STOCKTON\", \"time_period\": \"peak\", \"direction_id\": 0.0, \"variable\": \"is_late\", \"value\": 58}, {\"service_date\": \"2023-06-14T00:00:00\", \"organization_name\": \"City and County of San Francisco\", \"route_combined_name\": \"30 STOCKTON\", \"time_period\": \"peak\", \"direction_id\": 0.0, \"variable\": \"is_late\", \"value\": 54}, {\"service_date\": \"2023-07-12T00:00:00\", \"organization_name\": \"City and County of San Francisco\", \"route_combined_name\": \"30 STOCKTON\", \"time_period\": \"peak\", \"direction_id\": 0.0, \"variable\": \"is_late\", \"value\": 49}, {\"service_date\": \"2023-08-15T00:00:00\", \"organization_name\": \"City and County of San Francisco\", \"route_combined_name\": \"30 STOCKTON\", \"time_period\": \"peak\", \"direction_id\": 0.0, \"variable\": \"is_late\", \"value\": 53}, {\"service_date\": \"2023-10-11T00:00:00\", \"organization_name\": \"City and County of San Francisco\", \"route_combined_name\": \"30 STOCKTON\", \"time_period\": \"peak\", \"direction_id\": 0.0, \"variable\": \"is_late\", \"value\": 52}, {\"service_date\": \"2023-11-15T00:00:00\", \"organization_name\": \"City and County of San Francisco\", \"route_combined_name\": \"30 STOCKTON\", \"time_period\": \"peak\", \"direction_id\": 0.0, \"variable\": \"is_late\", \"value\": 32}, {\"service_date\": \"2023-12-13T00:00:00\", \"organization_name\": \"City and County of San Francisco\", \"route_combined_name\": \"30 STOCKTON\", \"time_period\": \"peak\", \"direction_id\": 0.0, \"variable\": \"is_late\", \"value\": 55}, {\"service_date\": \"2024-01-17T00:00:00\", \"organization_name\": \"City and County of San Francisco\", \"route_combined_name\": \"30 STOCKTON\", \"time_period\": \"peak\", \"direction_id\": 0.0, \"variable\": \"is_late\", \"value\": 46}, {\"service_date\": \"2024-02-14T00:00:00\", \"organization_name\": \"City and County of San Francisco\", \"route_combined_name\": \"30 STOCKTON\", \"time_period\": \"peak\", \"direction_id\": 0.0, \"variable\": \"is_late\", \"value\": 53}, {\"service_date\": \"2024-03-13T00:00:00\", \"organization_name\": \"City and County of San Francisco\", \"route_combined_name\": \"30 STOCKTON\", \"time_period\": \"peak\", \"direction_id\": 0.0, \"variable\": \"is_late\", \"value\": 58}, {\"service_date\": \"2023-03-15T00:00:00\", \"organization_name\": \"City and County of San Francisco\", \"route_combined_name\": \"30 STOCKTON\", \"time_period\": \"offpeak\", \"direction_id\": 0.0, \"variable\": \"is_late\", \"value\": 71}, {\"service_date\": \"2023-03-15T00:00:00\", \"organization_name\": \"City and County of San Francisco\", \"route_combined_name\": \"30 STOCKTON\", \"time_period\": \"peak\", \"direction_id\": 0.0, \"variable\": \"is_late\", \"value\": 54}]}}, {\"mode\": \"vega-lite\"});\n",
       "</script>"
      ],
      "text/plain": [
       "alt.FacetChart(...)"
      ]
     },
     "execution_count": 15,
     "metadata": {},
     "output_type": "execute_result"
    }
   ],
   "source": [
    "(\n",
    "    alt.Chart(df_timeliness.loc[df_timeliness.direction_id == 0])\n",
    "    .mark_bar(size=15)\n",
    "    .encode(\n",
    "        x=alt.X(\n",
    "            \"yearmonthdate(service_date):O\",\n",
    "            title=[\"Service Date\"],\n",
    "            axis=alt.Axis(labelAngle=-45, format=\"%b %Y\"),\n",
    "        ),\n",
    "        y=alt.Y(\n",
    "            \"value:Q\",\n",
    "            title=_charts.labeling(\"value\"),\n",
    "            scale=alt.Scale(\n",
    "                domain=[\n",
    "                    (df_timeliness.value.min()),\n",
    "                    (df_timeliness.value.max() + 10),\n",
    "                ]\n",
    "            ),\n",
    "        ),\n",
    "        color=alt.Color(\n",
    "            \"variable:N\",\n",
    "            title=_charts.labeling(\"variable\"),\n",
    "            scale=alt.Scale(range=_charts.blue_palette),\n",
    "        ),\n",
    "        tooltip=df_timeliness.columns.tolist(),\n",
    "    )\n",
    ").properties(width=300, height=300).facet(\n",
    "    column=alt.Column(\"time_period:N\", title=_charts.labeling(\"Timeliness of Trips\")),\n",
    ")"
   ]
  },
  {
   "cell_type": "code",
   "execution_count": 17,
   "id": "0a482bc8-04f0-401c-9868-a937a769cb4f",
   "metadata": {},
   "outputs": [
    {
     "data": {
      "text/plain": [
       "'_charts.heatmap(\\n    df.loc[df.direction_id == 0],\\n    \"rt_sched_journey_ratio_cat\",\\n    \"Realtime vs. Scheduled Trip Times\",\\n    \"Dividing total trip times by total scheduled trip times gives an idea of how on schedule a trip on this route typically is.\",\\n    \"A ratio of 1.13 indicates a trip is late 13% over its scheduled time.\",\\n    \"\",\\n)'"
      ]
     },
     "execution_count": 17,
     "metadata": {},
     "output_type": "execute_result"
    }
   ],
   "source": [
    "\"\"\"_charts.heatmap(\n",
    "    df.loc[df.direction_id == 0],\n",
    "    \"rt_sched_journey_ratio_cat\",\n",
    "    \"Realtime vs. Scheduled Trip Times\",\n",
    "    \"Dividing total trip times by total scheduled trip times gives an idea of how on schedule a trip on this route typically is.\",\n",
    "    \"A ratio of 1.13 indicates a trip is late 13% over its scheduled time.\",\n",
    "    \"\",\n",
    ")\"\"\""
   ]
  }
 ],
 "metadata": {
  "kernelspec": {
   "display_name": "Python 3 (ipykernel)",
   "language": "python",
   "name": "python3"
  },
  "language_info": {
   "codemirror_mode": {
    "name": "ipython",
    "version": 3
   },
   "file_extension": ".py",
   "mimetype": "text/x-python",
   "name": "python",
   "nbconvert_exporter": "python",
   "pygments_lexer": "ipython3",
   "version": "3.9.13"
  }
 },
 "nbformat": 4,
 "nbformat_minor": 5
}
