{
 "cells": [
  {
   "cell_type": "markdown",
   "id": "9ef066ac-5f6d-4595-b819-0cdacbadd7fe",
   "metadata": {},
   "source": [
    "## Round 1 \n",
    "* https://github.com/cal-itp/data-analyses/issues/1059\n",
    "* cd rt_segment_speeds && pip install altair_transform && pip install -r requirements.txt && cd ../_shared_utils && make setup_env\n",
    "* https://docs.google.com/document/d/1I1WiqlmU06W6iLCi7cZQrOCLILkrEfABEkcU0Jys7f0/edit\n",
    "* https://route-speeds--cal-itp-data-analyses.netlify.app/name_bay-area-511-muni-schedule/0__report__name_bay-area-511-muni-schedule\n",
    "* https://posit-dev.github.io/great-tables/get-started/nanoplots.html\n",
    "* https://docs.pola.rs/py-polars/html/reference/api/polars.from_pandas.html\n",
    "* https://github.com/cal-itp/data-analyses/blob/main/rt_segment_speeds/_rt_scheduled_utils.py"
   ]
  },
  {
   "cell_type": "code",
   "execution_count": null,
   "id": "41ffdcf4-2076-49c6-bae6-6ffb51f044b3",
   "metadata": {},
   "outputs": [],
   "source": [
    "%%capture\n",
    "# import warnings\n",
    "# warnings.filterwarnings('ignore')\n",
    "\n",
    "import altair as alt\n",
    "import calitp_data_analysis.magics\n",
    "import geopandas as gpd\n",
    "import great_tables as gt\n",
    "import pandas as pd\n",
    "from calitp_data_analysis import calitp_color_palette as cp\n",
    "from great_tables import md\n",
    "from IPython.display import HTML, Markdown, display\n",
    "from segment_speed_utils.project_vars import RT_SCHED_GCS\n",
    "from shared_utils import rt_dates, rt_utils\n",
    "\n",
    "alt.renderers.enable(\"html\")\n",
    "alt.data_transformers.enable(\"default\", max_rows=None)\n",
    "from typing import List, Union\n",
    "\n",
    "from altair_transform.extract import extract_transform\n",
    "from altair_transform.transform import visit\n",
    "from altair_transform.utils import to_dataframe"
   ]
  },
  {
   "cell_type": "code",
   "execution_count": null,
   "id": "6366b86d-cdad-4aa0-9b29-9e506cb63258",
   "metadata": {},
   "outputs": [],
   "source": [
    "pd.options.display.max_columns = 100\n",
    "pd.options.display.float_format = \"{:.2f}\".format\n",
    "pd.set_option(\"display.max_rows\", None)\n",
    "pd.set_option(\"display.max_colwidth\", None)"
   ]
  },
  {
   "cell_type": "code",
   "execution_count": null,
   "id": "f87b0483-ff6d-4ecc-aab6-3d5e61415b3c",
   "metadata": {},
   "outputs": [],
   "source": [
    "name = \"SBMTD Schedule\""
   ]
  },
  {
   "cell_type": "code",
   "execution_count": null,
   "id": "9066c35a-2d31-4257-9c10-08d20555e22a",
   "metadata": {
    "tags": [
     "parameters"
    ]
   },
   "outputs": [],
   "source": [
    "# %%capture_parameters\n",
    "# name"
   ]
  },
  {
   "cell_type": "markdown",
   "id": "f8eeff31-0646-416b-bcea-a25b1ce09823",
   "metadata": {},
   "source": [
    "### General Functions"
   ]
  },
  {
   "cell_type": "code",
   "execution_count": null,
   "id": "ddd64960-9bbc-463e-adfd-3422ee1690e0",
   "metadata": {},
   "outputs": [],
   "source": [
    "def labeling(word: str) -> str:\n",
    "    return word.replace(\"_\", \" \").title().replace(\"N\", \"Total\")"
   ]
  },
  {
   "cell_type": "markdown",
   "id": "b29a8034-d069-4808-aaec-b69a72392054",
   "metadata": {},
   "source": [
    "### Data"
   ]
  },
  {
   "cell_type": "code",
   "execution_count": null,
   "id": "b95f85f0-b6af-4f7b-be04-9798e8254d99",
   "metadata": {},
   "outputs": [],
   "source": [
    "# calitp-analytics-data/data-analyses/rt_vs_schedule/digest\n",
    "df = pd.read_parquet(\n",
    "    f\"{RT_SCHED_GCS}digest/schedule_vp_metrics.parquet\",\n",
    "    filters=[[(\"name\", \"==\", name)]],\n",
    ")"
   ]
  },
  {
   "cell_type": "code",
   "execution_count": null,
   "id": "41774e8f-3a65-419f-a2ed-b70e06e7cfdb",
   "metadata": {},
   "outputs": [],
   "source": [
    "most_recent_date = df.service_date.max()"
   ]
  },
  {
   "cell_type": "code",
   "execution_count": null,
   "id": "0f5a85f3-9409-4474-aee1-914c57385777",
   "metadata": {},
   "outputs": [],
   "source": [
    "most_recent_date"
   ]
  },
  {
   "cell_type": "code",
   "execution_count": null,
   "id": "6acd6159-3600-460f-af9c-1c8621dd3d53",
   "metadata": {},
   "outputs": [],
   "source": [
    "df.service_date.min()"
   ]
  },
  {
   "cell_type": "code",
   "execution_count": null,
   "id": "518457f4-4034-4461-be8e-51b25cae86b7",
   "metadata": {},
   "outputs": [],
   "source": [
    "df.head(2)"
   ]
  },
  {
   "cell_type": "code",
   "execution_count": null,
   "id": "add5a920-24e5-4b76-a1dc-d32968b8868f",
   "metadata": {},
   "outputs": [],
   "source": [
    "df[\"month_year\"] = df.service_date.dt.strftime(\"%m/%Y\")"
   ]
  },
  {
   "cell_type": "markdown",
   "id": "329abf27-6057-4c98-852d-f879a0f520a7",
   "metadata": {},
   "source": [
    "### Test out Altair `extract_data`\n",
    "* https://github.com/altair-viz/altair-transform/blob/master/altair_transform/core.py#L55\n",
    "* Why do you want to use this?"
   ]
  },
  {
   "cell_type": "code",
   "execution_count": null,
   "id": "c8e711c9-e0d8-4dec-a41d-33ae85a54e96",
   "metadata": {},
   "outputs": [],
   "source": [
    "__all__ = [\"apply\", \"extract_data\", \"transform_chart\"]"
   ]
  },
  {
   "cell_type": "code",
   "execution_count": null,
   "id": "a49018c5-974e-4ee9-a449-c3950243a668",
   "metadata": {},
   "outputs": [],
   "source": [
    "def reverse_snakecase(df):\n",
    "    \"\"\"\n",
    "    Clean up columns to remove underscores and spaces.\n",
    "    \"\"\"\n",
    "    df.columns = df.columns.str.replace(\"_\", \" \").str.strip().str.title()\n",
    "    return df"
   ]
  },
  {
   "cell_type": "code",
   "execution_count": null,
   "id": "6a248268-f7b1-45d0-aa21-5488d581dfa2",
   "metadata": {},
   "outputs": [],
   "source": [
    "def apply(\n",
    "    df: pd.DataFrame,\n",
    "    transform: Union[alt.Transform, List[alt.Transform]],\n",
    "    inplace: bool = False,\n",
    ") -> pd.DataFrame:\n",
    "    \"\"\"Apply transform or transforms to dataframe.\n",
    "\n",
    "    Parameters\n",
    "    ----------\n",
    "    df : pd.DataFrame\n",
    "    transform : list|dict\n",
    "        A transform specification or list of transform specifications.\n",
    "        Each specification must be valid according to Altair's transform\n",
    "        schema.\n",
    "    inplace : bool\n",
    "        If True, then dataframe may be modified in-place. Default: False.\n",
    "\n",
    "    Returns\n",
    "    -------\n",
    "    df_transformed : pd.DataFrame\n",
    "        The transformed dataframe.\n",
    "\n",
    "    Example\n",
    "    -------\n",
    "    >>> import pandas as pd\n",
    "    >>> data = pd.DataFrame({'x': range(5), 'y': list('ABCAB')})\n",
    "    >>> chart = alt.Chart(data).transform_aggregate(sum_x='sum(x)', groupby=['y'])\n",
    "    >>> apply(data, chart.transform)\n",
    "       y  sum_x\n",
    "    0  A      3\n",
    "    1  B      5\n",
    "    2  C      2\n",
    "    \"\"\"\n",
    "    if not inplace:\n",
    "        df = df.copy()\n",
    "    if transform is alt.Undefined:\n",
    "        return df\n",
    "    return visit(transform, df)"
   ]
  },
  {
   "cell_type": "code",
   "execution_count": null,
   "id": "a558b371-dda8-4b81-821f-0f45f1fcae76",
   "metadata": {},
   "outputs": [],
   "source": [
    "def extract_data(\n",
    "    chart: alt.Chart, apply_encoding_transforms: bool = True\n",
    ") -> pd.DataFrame:\n",
    "    \"\"\"Extract transformed data from a chart.\n",
    "\n",
    "    This only works with data and transform defined at the\n",
    "    top level of the chart.\n",
    "\n",
    "    Parameters\n",
    "    ----------\n",
    "    chart : alt.Chart\n",
    "        The chart instance from which the data and transform\n",
    "        will be extracted\n",
    "    apply_encoding_transforms : bool\n",
    "        If True (default), then apply transforms specified within an\n",
    "        encoding as well as those specified directly in the transforms\n",
    "        attribute.\n",
    "\n",
    "    Returns\n",
    "    -------\n",
    "    df_transformed : pd.DataFrame\n",
    "        The extracted and transformed dataframe.\n",
    "\n",
    "    Example\n",
    "    -------\n",
    "    >>> import pandas as pd\n",
    "    >>> data = pd.DataFrame({'x': range(5), 'y': list('ABCAB')})\n",
    "    >>> chart = alt.Chart(data).mark_bar().encode(x='sum(x)', y='y')\n",
    "    >>> extract_data(chart)\n",
    "       y  sum_x\n",
    "    0  A      3\n",
    "    1  B      5\n",
    "    2  C      2\n",
    "    \"\"\"\n",
    "    if apply_encoding_transforms:\n",
    "        chart = extract_transform(chart)\n",
    "    return apply(to_dataframe(chart.data, chart), chart.transform)"
   ]
  },
  {
   "cell_type": "code",
   "execution_count": null,
   "id": "b8c88270-b18d-42c3-9086-4cfe718cfb6d",
   "metadata": {},
   "outputs": [],
   "source": [
    "data = pd.DataFrame({\"x\": range(5), \"y\": list(\"ABCAB\")})"
   ]
  },
  {
   "cell_type": "code",
   "execution_count": null,
   "id": "d7a371e2-c667-43c4-9dfa-3cf4087a4f6e",
   "metadata": {},
   "outputs": [],
   "source": [
    "chart = alt.Chart(data).mark_bar().encode(x=\"sum(x)\", y=\"y\")"
   ]
  },
  {
   "cell_type": "code",
   "execution_count": null,
   "id": "4130860e-5492-44c4-b1b1-5f29874ebadd",
   "metadata": {},
   "outputs": [],
   "source": [
    "chart"
   ]
  },
  {
   "cell_type": "code",
   "execution_count": null,
   "id": "dfddc64f-dd43-468d-9372-62acb84ba04b",
   "metadata": {},
   "outputs": [],
   "source": [
    "extract_data(chart)"
   ]
  },
  {
   "cell_type": "markdown",
   "id": "bc6c077f-7957-4105-a661-0f8b8e68a8b5",
   "metadata": {},
   "source": [
    "### Monthly aggregated service hours by day_type, time_of_day"
   ]
  },
  {
   "cell_type": "code",
   "execution_count": null,
   "id": "93fd9eb6-593d-47ff-a875-5a59fdd32066",
   "metadata": {},
   "outputs": [],
   "source": [
    "from segment_speed_utils.project_vars import SCHED_GCS"
   ]
  },
  {
   "cell_type": "code",
   "execution_count": null,
   "id": "6c4cbe7e-00cf-4037-9ac8-be00588b5324",
   "metadata": {},
   "outputs": [],
   "source": [
    "year = \"2023\""
   ]
  },
  {
   "cell_type": "code",
   "execution_count": null,
   "id": "e6260da6-80f8-49de-9bcd-91d57e02d251",
   "metadata": {},
   "outputs": [],
   "source": [
    "f\"{SCHED_GCS}scheduled_service_by_route_{year}.parquet\""
   ]
  },
  {
   "cell_type": "code",
   "execution_count": null,
   "id": "93064ff9-63cf-45cc-ba32-2433f783abe7",
   "metadata": {},
   "outputs": [],
   "source": [
    "monthly_service_df = pd.read_parquet(\n",
    "    f\"{SCHED_GCS}scheduled_service_by_route_{year}.parquet\",\n",
    "    filters=[[(\"name\", \"==\", name)]],\n",
    ")"
   ]
  },
  {
   "cell_type": "code",
   "execution_count": null,
   "id": "7d476fd2-4862-4394-b19d-e644858cda29",
   "metadata": {},
   "outputs": [],
   "source": [
    "monthly_service_df.shape"
   ]
  },
  {
   "cell_type": "code",
   "execution_count": null,
   "id": "73c7bc32-ea37-480f-ad3f-8d8598cfa28a",
   "metadata": {},
   "outputs": [],
   "source": [
    "monthly_service_df.sample()"
   ]
  },
  {
   "cell_type": "code",
   "execution_count": null,
   "id": "86bc95aa-31b4-4e22-8f9b-70fcd9fe796f",
   "metadata": {},
   "outputs": [],
   "source": [
    "monthly_service_df.day_type.value_counts()"
   ]
  },
  {
   "cell_type": "code",
   "execution_count": null,
   "id": "22fabf57-9598-408f-90ea-071ee026a8aa",
   "metadata": {},
   "outputs": [],
   "source": [
    "monthly_service_df[\"full_date\"] = (\n",
    "    monthly_service_df.month.astype(str) + \"-\" + monthly_service_df.year.astype(str)\n",
    ")"
   ]
  },
  {
   "cell_type": "code",
   "execution_count": null,
   "id": "f99bd92c-9778-41c2-9966-d06d2bf0ef77",
   "metadata": {},
   "outputs": [],
   "source": [
    "def tag_day(df: pd.DataFrame) -> pd.DataFrame:\n",
    "    # Function to determine if a date is a weekend day or a weekday\n",
    "    def which_day(date):\n",
    "        if date == 1:\n",
    "            return \"Monday\"\n",
    "        elif date == 2:\n",
    "            return \"Tuesday\"\n",
    "        elif date == 3:\n",
    "            return \"Wednesday\"\n",
    "        elif date == 4:\n",
    "            return \"Thursday\"\n",
    "        elif date == 5:\n",
    "            return \"Friday\"\n",
    "        elif date == 6:\n",
    "            return \"Saturday\"\n",
    "        else:\n",
    "            return \"Sunday\"\n",
    "\n",
    "    # Apply the function to each value in the \"service_date\" column\n",
    "    df[\"day_type\"] = df[\"day_type\"].apply(which_day)\n",
    "\n",
    "    return df"
   ]
  },
  {
   "cell_type": "code",
   "execution_count": null,
   "id": "e31e1663-11a7-410a-942f-3c8a08531bfe",
   "metadata": {},
   "outputs": [],
   "source": [
    "monthly_service_df = tag_day(monthly_service_df)"
   ]
  },
  {
   "cell_type": "code",
   "execution_count": null,
   "id": "5da97b19-cf80-4ba7-aee6-3b25335b4d40",
   "metadata": {},
   "outputs": [],
   "source": [
    "monthly_service_df.sample(3)"
   ]
  },
  {
   "cell_type": "code",
   "execution_count": null,
   "id": "4c694df1-3871-4f81-9478-538868704ec1",
   "metadata": {},
   "outputs": [],
   "source": [
    "monthly_service = (\n",
    "    monthly_service_df.groupby(\n",
    "        [\n",
    "            \"full_date\",\n",
    "            \"name\",\n",
    "            \"day_type\",\n",
    "            \"time_of_day\",\n",
    "        ]\n",
    "    )\n",
    "    .agg(\n",
    "        {\n",
    "            \"ttl_service_hours\": \"mean\",\n",
    "        }\n",
    "    )\n",
    "    .reset_index()\n",
    ")"
   ]
  },
  {
   "cell_type": "code",
   "execution_count": null,
   "id": "8fa13286-05fa-4abf-a0d0-eb10bbb523b7",
   "metadata": {},
   "outputs": [],
   "source": [
    "monthly_service.shape"
   ]
  },
  {
   "cell_type": "code",
   "execution_count": null,
   "id": "4b5a79dd-6ac3-4dea-8e17-249ea9fb55c2",
   "metadata": {},
   "outputs": [],
   "source": [
    "def extract_data_altair(chart):\n",
    "    chart_dict = chart.to_dict()\n",
    "    encoding = chart_dict[\"datasets\"]\n",
    "    df1 = pd.DataFrame(encoding)\n",
    "\n",
    "    column = df1.columns[0]\n",
    "    normalized_df = pd.json_normalize(df1[column])\n",
    "    # Combine the original DataFrame with the extracted values DataFrame\n",
    "    df2 = pd.concat([df1.drop(column, axis=1), normalized_df], axis=1)\n",
    "    return df2"
   ]
  },
  {
   "cell_type": "code",
   "execution_count": null,
   "id": "3037cae2-8cfd-4660-8524-62500f25818d",
   "metadata": {
    "scrolled": true,
    "tags": []
   },
   "outputs": [],
   "source": [
    "def bar_chart_dropdown(\n",
    "    df: pd.DataFrame,\n",
    "    x_col: str,\n",
    "    y_col: str,\n",
    "    offset_col: str,\n",
    "    title: str,\n",
    "    dropdown_col: str,\n",
    "):\n",
    "    route_dropdown = alt.binding_select(\n",
    "        options=sorted(df[dropdown_col].unique().tolist()),\n",
    "        name=labeling(dropdown_col),\n",
    "    )\n",
    "\n",
    "    # Column that controls the bar charts\n",
    "    route_selector = alt.selection_point(\n",
    "        fields=[dropdown_col],\n",
    "        bind=route_dropdown,\n",
    "    )\n",
    "\n",
    "    ruler = (\n",
    "        alt.Chart(df)\n",
    "        .mark_rule(color=\"red\", strokeDash=[10, 7])\n",
    "        .encode(y=f\"mean({y_col}):Q\")\n",
    "    )\n",
    "\n",
    "    chart = (\n",
    "        alt.Chart(monthly_service)\n",
    "        .mark_bar()\n",
    "        .encode(\n",
    "            x=alt.X(f\"{x_col}:N\", title=labeling(x_col)),\n",
    "            y=alt.Y(f\"{y_col}:Q\", title=labeling(y_col)),\n",
    "            xOffset=f\"{offset_col}:N\",\n",
    "            color=alt.Color(\n",
    "                f\"{offset_col}:N\",\n",
    "                scale=alt.Scale(\n",
    "                    range=cp.CALITP_SEQUENTIAL_COLORS,\n",
    "                ),\n",
    "            ),\n",
    "        )\n",
    "    )\n",
    "    chart = (chart + ruler).properties(title=title, width=600, height=400)\n",
    "    chart = chart.add_params(route_selector).transform_filter(route_selector)\n",
    "    data = extract_data_altair(chart)\n",
    "    display(chart, data)"
   ]
  },
  {
   "cell_type": "code",
   "execution_count": null,
   "id": "499cdb97-c413-4c64-ae9d-67cc6d73a527",
   "metadata": {
    "scrolled": true,
    "tags": []
   },
   "outputs": [],
   "source": [
    "monthly_chart = bar_chart_dropdown(\n",
    "    monthly_service,\n",
    "    \"day_type\",\n",
    "    \"ttl_service_hours\",\n",
    "    \"time_of_day\",\n",
    "    \"title\",\n",
    "    \"full_date\",\n",
    ")"
   ]
  },
  {
   "cell_type": "markdown",
   "id": "3f7d5b95-627d-4e37-88da-02a84a5c26eb",
   "metadata": {},
   "source": [
    "### Monthly Trends\n",
    "* https://posit-dev.github.io/great-tables/articles/intro.html"
   ]
  },
  {
   "cell_type": "code",
   "execution_count": null,
   "id": "7152c33f-d4ed-4152-a7d1-b386fd0e4443",
   "metadata": {},
   "outputs": [],
   "source": [
    "by_date_category = (\n",
    "    pd.crosstab(\n",
    "        df.service_date,\n",
    "        df.sched_rt_category,\n",
    "        values=df.n_scheduled_trips,\n",
    "        aggfunc=\"sum\",\n",
    "    )\n",
    "    .reset_index()\n",
    "    .fillna(0)\n",
    ")"
   ]
  },
  {
   "cell_type": "code",
   "execution_count": null,
   "id": "ebea5b65-b266-4ac1-bd0b-6a0d9f037d90",
   "metadata": {},
   "outputs": [],
   "source": [
    "by_date_category = reverse_snakecase(by_date_category)"
   ]
  },
  {
   "cell_type": "code",
   "execution_count": null,
   "id": "0b1b82c3-9642-4c8c-ae37-0cc5dcac6de6",
   "metadata": {},
   "outputs": [],
   "source": [
    "by_date_category.columns"
   ]
  },
  {
   "cell_type": "code",
   "execution_count": null,
   "id": "84a1a2a8-1919-48ea-93d6-7037f76542a2",
   "metadata": {},
   "outputs": [],
   "source": [
    "(\n",
    "    gt.GT(by_date_category, rowname_col=\"Service Date\")\n",
    "    .tab_spanner(\n",
    "        label=\"Daily Trips by GTFS Availability\",\n",
    "        columns=[\"Schedule Only\", \"Vp Only\", \"Schedule And Vp\"],\n",
    "    )\n",
    "    .fmt_integer([\"Schedule Only\", \"Vp Only\", \"Schedule And Vp\"])\n",
    "    .tab_options(container_width=\"100%\")\n",
    "    .tab_options(table_font_size=\"12px\")\n",
    ")"
   ]
  },
  {
   "cell_type": "code",
   "execution_count": null,
   "id": "0369154c-3570-47d2-95c2-325705fd6570",
   "metadata": {},
   "outputs": [],
   "source": [
    "route_categories = (\n",
    "    df[df.time_period == \"all_day\"]\n",
    "    .groupby(\"sched_rt_category\")\n",
    "    .agg({\"route_combined_name\": \"nunique\"})\n",
    "    .reset_index()\n",
    ")"
   ]
  },
  {
   "cell_type": "code",
   "execution_count": null,
   "id": "f908bd5d-d5e0-406d-b5a5-030fe373aa8c",
   "metadata": {},
   "outputs": [],
   "source": [
    "route_categories.sched_rt_category = route_categories.sched_rt_category.str.replace(\n",
    "    \"_\", \" \"\n",
    ").str.title()"
   ]
  },
  {
   "cell_type": "code",
   "execution_count": null,
   "id": "1aa0d235-4dbd-451a-af33-4677c7a8c8e0",
   "metadata": {},
   "outputs": [],
   "source": [
    "# Test with nanographs"
   ]
  },
  {
   "cell_type": "markdown",
   "id": "ed356076-0d49-43cc-b6fe-cc787aa51aaa",
   "metadata": {},
   "source": [
    "#### GTFS Availability\n",
    "* Change Category values to something more understandable?"
   ]
  },
  {
   "cell_type": "code",
   "execution_count": null,
   "id": "71260947-b131-46a5-887c-a139e42ad73a",
   "metadata": {},
   "outputs": [],
   "source": [
    "(\n",
    "    gt.GT(data=route_categories.dropna())\n",
    "    .fmt_integer(columns=[\"route_combined_name\"], compact=True)\n",
    "    .cols_label(route_combined_name=\"# Routes\", sched_rt_category=\"Category\")\n",
    "    .tab_options(container_width=\"100%\")\n",
    "    .tab_header(\n",
    "        title=md(\"Routes with GTFS Availability\"),\n",
    "    )\n",
    "    .tab_options(table_font_size=\"12px\")\n",
    ").data_color(\n",
    "    palette=[\n",
    "        \"#2EA8CE\",\n",
    "        \"#EB9F3C\",\n",
    "        \"#F4D837\",\n",
    "    ],\n",
    "    na_color=\"#FFE4C4\",\n",
    ")"
   ]
  },
  {
   "cell_type": "markdown",
   "id": "e7112b41-3a68-4c7e-ad43-98773555f457",
   "metadata": {},
   "source": [
    "#### Route Stats"
   ]
  },
  {
   "cell_type": "code",
   "execution_count": null,
   "id": "39f376f1-a60a-4b80-b951-7536bee22a90",
   "metadata": {},
   "outputs": [],
   "source": [
    "route_merge_cols = [\"route_combined_name\", \"direction_id\"]\n",
    "\n",
    "all_day_stats = df[\n",
    "    (df.service_date == most_recent_date) & (df.time_period == \"all_day\")\n",
    "][\n",
    "    route_merge_cols\n",
    "    + [\n",
    "        \"avg_scheduled_service_minutes\",\n",
    "        \"avg_stop_miles\",\n",
    "        \"n_scheduled_trips\",\n",
    "        \"sched_rt_category\",\n",
    "    ]\n",
    "]"
   ]
  },
  {
   "cell_type": "code",
   "execution_count": null,
   "id": "608445dc-21bd-48d1-9c5e-da1df20e7495",
   "metadata": {},
   "outputs": [],
   "source": [
    "all_day_stats.head(2)"
   ]
  },
  {
   "cell_type": "code",
   "execution_count": null,
   "id": "6c654a2d-1b08-4ef1-a011-b645ed2d03b5",
   "metadata": {},
   "outputs": [],
   "source": [
    "peak_stats = df[(df.service_date == most_recent_date) & (df.time_period == \"peak\")][\n",
    "    route_merge_cols + [\"speed_mph\", \"n_scheduled_trips\", \"frequency\"]\n",
    "].rename(\n",
    "    columns={\n",
    "        \"speed_mph\": \"peak_avg_speed\",\n",
    "        \"n_scheduled_trips\": \"peak_scheduled_trips\",\n",
    "        \"frequency\": \"peak_hourly_freq\",\n",
    "    }\n",
    ")"
   ]
  },
  {
   "cell_type": "code",
   "execution_count": null,
   "id": "24ed5565-ec04-4203-a70e-2d5ec0d4046c",
   "metadata": {},
   "outputs": [],
   "source": [
    "peak_stats.head(2)"
   ]
  },
  {
   "cell_type": "code",
   "execution_count": null,
   "id": "c6254f71-b5fe-4bc1-81a1-084bec61c5a9",
   "metadata": {},
   "outputs": [],
   "source": [
    "offpeak_stats = df[\n",
    "    (df.service_date == most_recent_date) & (df.time_period == \"offpeak\")\n",
    "][route_merge_cols + [\"speed_mph\", \"n_scheduled_trips\", \"frequency\"]].rename(\n",
    "    columns={\n",
    "        \"speed_mph\": \"offpeak_avg_speed\",\n",
    "        \"n_scheduled_trips\": \"offpeak_scheduled_trips\",\n",
    "        \"frequency\": \"offpeak_hourly_freq\",\n",
    "    }\n",
    ")"
   ]
  },
  {
   "cell_type": "code",
   "execution_count": null,
   "id": "24c3cc00-ac81-4668-bf03-e4d9f289d68a",
   "metadata": {},
   "outputs": [],
   "source": [
    "offpeak_stats.head(2)"
   ]
  },
  {
   "cell_type": "code",
   "execution_count": null,
   "id": "7ed14d70-4bb6-4a47-b971-52792fbaff4d",
   "metadata": {},
   "outputs": [],
   "source": [
    "table_df = (\n",
    "    pd.merge(\n",
    "        all_day_stats,\n",
    "        peak_stats,\n",
    "        on=route_merge_cols,\n",
    "    )\n",
    "    .merge(offpeak_stats, on=route_merge_cols)\n",
    "    .sort_values([\"route_combined_name\", \"direction_id\"])\n",
    "    .reset_index(drop=True)\n",
    ")"
   ]
  },
  {
   "cell_type": "code",
   "execution_count": null,
   "id": "1279e288-0d07-4402-bd93-2c684451f872",
   "metadata": {},
   "outputs": [],
   "source": [
    "table_df.columns"
   ]
  },
  {
   "cell_type": "code",
   "execution_count": null,
   "id": "7dd5e5fc-a656-432f-91f3-c70b0d895d7b",
   "metadata": {},
   "outputs": [],
   "source": [
    "table_df.sample()"
   ]
  },
  {
   "cell_type": "code",
   "execution_count": null,
   "id": "01077ed1-043d-4b58-b44f-ec3a0a20e620",
   "metadata": {},
   "outputs": [],
   "source": [
    "numeric_cols = table_df.select_dtypes(include=\"number\").columns\n",
    "table_df[numeric_cols] = table_df[numeric_cols].fillna(0)"
   ]
  },
  {
   "cell_type": "markdown",
   "id": "3a288aaf-5c37-44ae-b9f2-0242311a3cdc",
   "metadata": {
    "tags": []
   },
   "source": [
    "#### Updating Already Made Charts\n",
    "#### Scheduled Minutes...Can just be a table?"
   ]
  },
  {
   "cell_type": "code",
   "execution_count": null,
   "id": "c5899040-b0e5-4ee2-a265-e2c1b4b33794",
   "metadata": {},
   "outputs": [],
   "source": [
    "sched_df = df[df.sched_rt_category != \"vp_only\"]\n",
    "vp_df = df[df.sched_rt_category != \"schedule_only\"]\n",
    "\n",
    "sched_service_chart = sched_df[sched_df.time_period == \"all_day\"]"
   ]
  },
  {
   "cell_type": "code",
   "execution_count": null,
   "id": "94fc159b-36c1-4cb1-92d5-d62564a8819e",
   "metadata": {},
   "outputs": [],
   "source": [
    "sched_service_chart.sample()"
   ]
  },
  {
   "cell_type": "code",
   "execution_count": null,
   "id": "9fba9915-154e-4265-a896-ac26958cf137",
   "metadata": {},
   "outputs": [],
   "source": [
    "sched_service_chart.direction_id.value_counts()"
   ]
  },
  {
   "cell_type": "markdown",
   "id": "a08ee0f2-843c-45ea-9588-0e8004ce0343",
   "metadata": {},
   "source": [
    "#### Daily scheduled trips\n",
    "* .facet(column=alt.Column(\"direction_id:N\", title=\"direction_id\"))"
   ]
  },
  {
   "cell_type": "code",
   "execution_count": null,
   "id": "c35c893e-d361-49c9-a8f3-670f1107bf17",
   "metadata": {},
   "outputs": [],
   "source": [
    "facet_test1 = (\n",
    "    (\n",
    "        alt.Chart(sched_df)\n",
    "        .mark_bar()\n",
    "        .encode(\n",
    "            x=alt.X(\"month_year\"),\n",
    "            xOffset=\"time_period:N\",\n",
    "            y=alt.Y(\"n_scheduled_trips:Q\"),\n",
    "            color=alt.Color(\n",
    "                \"time_period:N\", scale=alt.Scale(range=cp.CALITP_SEQUENTIAL_COLORS)\n",
    "            ),\n",
    "            tooltip=sched_df.columns.to_list(),\n",
    "        )\n",
    "    )\n",
    ").properties(width=300, height=300)"
   ]
  },
  {
   "cell_type": "code",
   "execution_count": null,
   "id": "79bddecd-e93b-42f7-b757-dac484c75c69",
   "metadata": {},
   "outputs": [],
   "source": [
    "facet_test1.facet(column=alt.Column(\"direction_id:N\", title=\"direction_id\"))"
   ]
  },
  {
   "cell_type": "code",
   "execution_count": null,
   "id": "f8ecf96a-f76e-4dba-b79c-60e34ee6526b",
   "metadata": {},
   "outputs": [],
   "source": [
    "column_of_interest = \"n_scheduled_trips\""
   ]
  },
  {
   "cell_type": "code",
   "execution_count": null,
   "id": "4e83e871-a3eb-4756-8b03-b4268cc6b885",
   "metadata": {},
   "outputs": [],
   "source": [
    "# fake_faceted_chart2(sched_df, \"n_scheduled_trips\", \"Total Scheduled Daily Trips\")"
   ]
  },
  {
   "cell_type": "markdown",
   "id": "2373de42-586b-4e8a-9150-3bd87a713058",
   "metadata": {},
   "source": [
    "#### Frequency\n",
    "* What does Frequency mean?"
   ]
  },
  {
   "cell_type": "code",
   "execution_count": null,
   "id": "216ca5ff-8f15-4da6-990c-ffc0637766e9",
   "metadata": {},
   "outputs": [],
   "source": [
    "# fake_faceted_chart2(sched_df, \"frequency\", \"Frequency of Trips per Hour\")"
   ]
  },
  {
   "cell_type": "code",
   "execution_count": null,
   "id": "6de4067a-fd83-414f-b037-89e9cc2ddeff",
   "metadata": {},
   "outputs": [],
   "source": [
    "sched_df.sample()"
   ]
  },
  {
   "cell_type": "markdown",
   "id": "b55af2a1-fcdd-422c-b567-d0920be8975e",
   "metadata": {},
   "source": [
    "#### Average Speed"
   ]
  },
  {
   "cell_type": "code",
   "execution_count": null,
   "id": "e2a15d7e-8692-4496-8d71-240f8518b14f",
   "metadata": {},
   "outputs": [],
   "source": [
    "# fake_faceted_chart2(vp_df, \"speed_mph\", \"Average Speed\")"
   ]
  },
  {
   "cell_type": "markdown",
   "id": "755e3dd3-c836-491f-b733-d78a6f097b61",
   "metadata": {},
   "source": [
    "#### Fake Faceted Chart\n",
    "* List dropdown doesn't work. Sadly."
   ]
  },
  {
   "cell_type": "code",
   "execution_count": null,
   "id": "0590346a-8b5f-4e51-9a64-bc440c75f134",
   "metadata": {},
   "outputs": [],
   "source": [
    "def fake_faceted_chart2(df: pd.DataFrame, column_of_interest: str, title=str):\n",
    "    dropdown_list = df[\"route_combined_name\"].unique().tolist()\n",
    "    input_dropdown = alt.binding_select(options=dropdown_list, name=\"Routes\")\n",
    "    selection = alt.selection_point(fields=[\"route_combined_name\"], bind=input_dropdown)\n",
    "\n",
    "    ruler = (\n",
    "        alt.Chart(df)\n",
    "        .mark_rule(color=\"red\", strokeDash=[10, 7])\n",
    "        .encode(y=f\"mean({column_of_interest}):Q\")\n",
    "    )\n",
    "\n",
    "    tooltip_cols = [\n",
    "        \"direction_id\",\n",
    "        \"time_period\",\n",
    "        \"route_combined_name\",\n",
    "        \"organization_name\",\n",
    "        \"caltrans_district\",\n",
    "        \"day_type\",\n",
    "        \"month_year\",\n",
    "        column_of_interest,\n",
    "    ]\n",
    "\n",
    "    dir_0 = df.loc[df.direction_id == 0]\n",
    "    dir_1 = df.loc[df.direction_id == 1]\n",
    "    chart_dir_0 = (\n",
    "        alt.Chart(\n",
    "            dir_0,\n",
    "            title=alt.Title(\n",
    "                title,\n",
    "                subtitle=\"Direction 0\",\n",
    "            ),\n",
    "        )\n",
    "        .mark_bar()\n",
    "        .encode(\n",
    "            x=alt.X(\"month_year\", title=labeling(\"month_year\")),\n",
    "            xOffset=\"time_period:N\",\n",
    "            y=alt.Y(f\"{column_of_interest}:Q\", title=labeling(column_of_interest)),\n",
    "            color=alt.Color(\n",
    "                \"time_period:N\",\n",
    "                scale=alt.Scale(range=cp.CALITP_CATEGORY_BRIGHT_COLORS),\n",
    "            ),\n",
    "            tooltip=tooltip_cols,\n",
    "        )\n",
    "        .add_params(selection)\n",
    "        .transform_filter(selection)\n",
    "        .properties(width=300, height=300)\n",
    "    )\n",
    "    chart_dir_1 = (\n",
    "        alt.Chart(\n",
    "            dir_1,\n",
    "            title=alt.Title(\n",
    "                \"Title\",\n",
    "                color=\"white\",\n",
    "                subtitle=\"Direction 1\",\n",
    "            ),\n",
    "        )\n",
    "        .mark_bar()\n",
    "        .encode(\n",
    "            x=alt.X(\"month_year\", title=labeling(\"month_year\")),\n",
    "            xOffset=\"time_period:N\",\n",
    "            y=alt.Y(f\"{column_of_interest}:Q\", axis=None),\n",
    "            color=alt.Color(\n",
    "                \"time_period:N\",\n",
    "                scale=alt.Scale(range=cp.CALITP_CATEGORY_BRIGHT_COLORS),\n",
    "            ),\n",
    "            tooltip=tooltip_cols,\n",
    "        )\n",
    "        .add_params(selection)\n",
    "        .transform_filter(selection)\n",
    "        .properties(width=300, height=300)\n",
    "    )\n",
    "    chart_dir_0 = chart_dir_0 + ruler\n",
    "    chart_dir_1 = chart_dir_1 + ruler\n",
    "    final_chart = alt.hconcat(chart_dir_0, chart_dir_1)\n",
    "    return final_chart"
   ]
  },
  {
   "cell_type": "code",
   "execution_count": null,
   "id": "4f584933-c5c1-4cd8-8d1a-cccef9e91e73",
   "metadata": {},
   "outputs": [],
   "source": [
    "avg_speeds = fake_faceted_chart2(vp_df, \"speed_mph\", \"Average Speed\")"
   ]
  },
  {
   "cell_type": "code",
   "execution_count": null,
   "id": "9ae2c314-a6bd-4ee2-bf1d-2df1ba72d155",
   "metadata": {},
   "outputs": [],
   "source": [
    "# extract_data(avg_speeds)"
   ]
  },
  {
   "cell_type": "code",
   "execution_count": null,
   "id": "a9b44153-debb-442c-957a-9f7b25d656d0",
   "metadata": {},
   "outputs": [],
   "source": [
    "def filtered_route_charts1(\n",
    "    df: pd.DataFrame,\n",
    "    control_field: str,\n",
    ") -> alt.Chart:\n",
    "    \"\"\"\n",
    "    https://stackoverflow.com/questions/58919888/multiple-selections-in-altair\n",
    "    \"\"\"\n",
    "    dropdown_list = df[\"route_combined_name\"].unique().tolist()\n",
    "    input_dropdown = alt.binding_select(options=dropdown_list, name=\"Routes\")\n",
    "    selection = alt.selection_point(fields=[\"route_combined_name\"], bind=input_dropdown)\n",
    "    sched_df = df[df.sched_rt_category != \"vp_only\"]\n",
    "    vp_df = df[df.sched_rt_category != \"schedule_only\"]\n",
    "\n",
    "    daily_trips = fake_faceted_chart2(\n",
    "        sched_df, \"n_scheduled_trips\", \"Total Scheduled Daily Trips\"\n",
    "    )\n",
    "    frequency = fake_faceted_chart2(\n",
    "        sched_df, \"frequency\", \"Frequency of Trips per Hour\"\n",
    "    )\n",
    "    avg_speeds = fake_faceted_chart2(vp_df, \"speed_mph\", \"Average Speed\")\n",
    "\n",
    "    chart_lists = [daily_trips, frequency, avg_speeds]\n",
    "    chart = alt.vconcat(*chart_lists).resolve_scale(y=\"independent\")\n",
    "    display(chart)"
   ]
  },
  {
   "cell_type": "code",
   "execution_count": null,
   "id": "b694c2fd-3e81-43e3-9800-9e8262768b65",
   "metadata": {},
   "outputs": [],
   "source": [
    "filtered_route_charts1(df, \"route_combined_name\")"
   ]
  },
  {
   "cell_type": "markdown",
   "id": "c168d96d-7762-4807-8c89-7f0a50bca32c",
   "metadata": {},
   "source": [
    "#### Actual Faceted Charts\n",
    "* Issue ruler to guide people's eyes does not work once all the charts are concated using `vconcat` to be controlled by one large dropdown menu.\n"
   ]
  },
  {
   "cell_type": "code",
   "execution_count": null,
   "id": "40a89177-b406-43c6-9fb0-e6aaa5b91758",
   "metadata": {},
   "outputs": [],
   "source": [
    "def base_facet(df: pd.DataFrame, column_of_interest: str, title: str):\n",
    "    tooltip_cols = [\n",
    "        \"direction_id\",\n",
    "        \"time_period\",\n",
    "        \"route_combined_name\",\n",
    "        \"organization_name\",\n",
    "        \"caltrans_district\",\n",
    "        \"day_type\",\n",
    "        \"month_year\",\n",
    "        column_of_interest,\n",
    "    ]\n",
    "\n",
    "    ruler = (\n",
    "        alt.Chart(df)\n",
    "        .mark_rule(color=\"red\", strokeDash=[10, 7])\n",
    "        .encode(y=f\"mean({column_of_interest}):Q\")\n",
    "    )\n",
    "\n",
    "    chart1 = (\n",
    "        (\n",
    "            (\n",
    "                alt.Chart(\n",
    "                    sched_df,\n",
    "                )\n",
    "                .mark_bar()\n",
    "                .encode(\n",
    "                    x=alt.X(\"month_year\", title=labeling(\"Date\")),\n",
    "                    xOffset=\"time_period:N\",\n",
    "                    y=alt.Y(\n",
    "                        f\"{column_of_interest}:Q\", title=labeling(column_of_interest)\n",
    "                    ),\n",
    "                    color=alt.Color(\n",
    "                        \"time_period:N\",\n",
    "                        scale=alt.Scale(range=cp.CALITP_SEQUENTIAL_COLORS),\n",
    "                    ),\n",
    "                    tooltip=tooltip_cols,\n",
    "                )\n",
    "            )\n",
    "        )\n",
    "        .properties(title=labeling(title), width=300, height=300)\n",
    "        .interactive()\n",
    "    )\n",
    "    try:\n",
    "        chart1 = (chart1 + ruler).facet(\n",
    "            column=alt.Column(\"direction_id:N\", title=\"Direction ID\")\n",
    "        )\n",
    "    except:\n",
    "        chart1 = chart1.facet(column=alt.Column(\"direction_id:N\", title=\"Direction ID\"))\n",
    "    return chart1"
   ]
  },
  {
   "cell_type": "code",
   "execution_count": null,
   "id": "e9df586d-462a-4529-8a14-53c2550f8f13",
   "metadata": {},
   "outputs": [],
   "source": [
    "# base_facet(sched_df, \"n_scheduled_trips\", \"Total Scheduled Daily Trips\")"
   ]
  },
  {
   "cell_type": "code",
   "execution_count": null,
   "id": "37c4b9df-67f4-4800-9155-37b115887164",
   "metadata": {},
   "outputs": [],
   "source": [
    "freq_df = base_facet(sched_df, \"frequency\", \"Frequency of Trips per Hour\")"
   ]
  },
  {
   "cell_type": "code",
   "execution_count": null,
   "id": "917b78ae-5bc6-4e8f-bc44-a242988e121c",
   "metadata": {},
   "outputs": [],
   "source": [
    "# freq_df"
   ]
  },
  {
   "cell_type": "markdown",
   "id": "2d92b7ce-e6a1-41ea-9c14-03066748f1ce",
   "metadata": {},
   "source": [
    "##### Can't use extract_data with faceted chart\n",
    "* Or charts created using `hconcat`."
   ]
  },
  {
   "cell_type": "code",
   "execution_count": null,
   "id": "c4ce44aa-563c-42f1-af7a-cf21065cd3b5",
   "metadata": {},
   "outputs": [],
   "source": [
    "# extract_data(freq_df)"
   ]
  },
  {
   "cell_type": "code",
   "execution_count": null,
   "id": "e0ca6573-2999-4573-ad71-2a474b37da4f",
   "metadata": {},
   "outputs": [],
   "source": [
    "# base_facet(vp_df, \"speed_mph\", \"Average Speed\")"
   ]
  },
  {
   "cell_type": "code",
   "execution_count": null,
   "id": "dfc8072f-4567-4e2e-8cd6-14fc6ae8504d",
   "metadata": {},
   "outputs": [],
   "source": [
    "def filtered_route_charts2(\n",
    "    df: pd.DataFrame,\n",
    "    control_field: str,\n",
    ") -> alt.Chart:\n",
    "    \"\"\"\n",
    "    https://stackoverflow.com/questions/58919888/multiple-selections-in-altair\n",
    "    \"\"\"\n",
    "    route_dropdown = alt.binding_select(\n",
    "        options=sorted(df[control_field].unique().tolist()),\n",
    "        name=\"Routes \",\n",
    "    )\n",
    "\n",
    "    # Column that controls the bar charts\n",
    "    route_selector = alt.selection_point(\n",
    "        fields=[control_field],\n",
    "        bind=route_dropdown,\n",
    "    )\n",
    "\n",
    "    sched_df = df[df.sched_rt_category != \"vp_only\"]\n",
    "    vp_df = df[df.sched_rt_category != \"schedule_only\"]\n",
    "\n",
    "    daily_trips = (\n",
    "        base_facet(sched_df, \"n_scheduled_trips\", \"Total Scheduled Daily Trips\")\n",
    "        .add_params(route_selector)\n",
    "        .transform_filter(route_selector)\n",
    "    )\n",
    "    frequency = (\n",
    "        base_facet(sched_df, \"frequency\", \"Frequency of Trips per Hour\")\n",
    "        .add_params(route_selector)\n",
    "        .transform_filter(route_selector)\n",
    "    )\n",
    "\n",
    "    # Grab info out to make a dataframe\n",
    "    daily_trips_df = extract_data(daily_trips)\n",
    "    frequency_df = extract_data(frequency)\n",
    "\n",
    "    chart_lists = [daily_trips, frequency]\n",
    "    chart = alt.vconcat(*chart_lists).resolve_scale(y=\"independent\")\n",
    "\n",
    "    display(chart)"
   ]
  },
  {
   "cell_type": "code",
   "execution_count": null,
   "id": "38815fae-062c-4a5b-9521-b185394db2aa",
   "metadata": {},
   "outputs": [],
   "source": [
    "# filtered_route_charts2(df, \"route_combined_name\")"
   ]
  },
  {
   "cell_type": "markdown",
   "id": "fc626e58-0b8c-45bb-86f8-48b38289cfbe",
   "metadata": {},
   "source": [
    "#### Test 3"
   ]
  },
  {
   "cell_type": "code",
   "execution_count": null,
   "id": "30cfb82a-0ee3-435a-8069-942704997e0c",
   "metadata": {},
   "outputs": [],
   "source": [
    "def grouped_bar_chart(\n",
    "    df: pd.DataFrame,\n",
    "    x_col: str,\n",
    "    y_col: str,\n",
    "    offset_col: str,\n",
    "    title: str,\n",
    "):\n",
    "    ruler = (\n",
    "        alt.Chart(df)\n",
    "        .mark_rule(color=\"red\", strokeDash=[10, 7])\n",
    "        .encode(y=f\"mean({y_col}):Q\")\n",
    "    )\n",
    "\n",
    "    chart = (\n",
    "        alt.Chart(df)\n",
    "        .mark_bar()\n",
    "        .encode(\n",
    "            x=alt.X(f\"{x_col}:N\", title=labeling(x_col)),\n",
    "            y=alt.Y(f\"{y_col}:Q\", title=labeling(y_col)),\n",
    "            xOffset=f\"{offset_col}:N\",\n",
    "            color=alt.Color(\n",
    "                f\"{offset_col}:N\",\n",
    "                scale=alt.Scale(\n",
    "                    range=cp.CALITP_SEQUENTIAL_COLORS,\n",
    "                ),\n",
    "            ),\n",
    "        )\n",
    "    )\n",
    "    chart = (chart + ruler).properties(title=title, width=600, height=400)\n",
    "\n",
    "    return (chart)"
   ]
  },
  {
   "cell_type": "code",
   "execution_count": null,
   "id": "06f6f21a-96aa-4a33-9b6d-d36bd4bea7ee",
   "metadata": {},
   "outputs": [],
   "source": [
    "def filtered_route_charts3(\n",
    "    df: pd.DataFrame,\n",
    "    control_field: str,\n",
    ") -> alt.Chart:\n",
    "    \"\"\"\n",
    "    https://stackoverflow.com/questions/58919888/multiple-selections-in-altair\n",
    "    \"\"\"\n",
    " \n",
    "    route_dropdown = alt.binding_select(\n",
    "        options=sorted(df[control_field].unique().tolist()),\n",
    "        name=\"Routes \",\n",
    "    )\n",
    "\n",
    "    # Column that controls the bar charts\n",
    "    route_selector = alt.selection_point(\n",
    "        fields=[control_field],\n",
    "        bind=route_dropdown,\n",
    "    )\n",
    "    \n",
    "    sched_df = df[df.sched_rt_category != \"vp_only\"]\n",
    "    vp_df = df[df.sched_rt_category != \"schedule_only\"]\n",
    "\n",
    "    daily_trips_chart = (\n",
    "        grouped_bar_chart(\n",
    "            sched_df, \"month_year\", \"n_scheduled_trips\", \"direction_id\", \"Total Daily Trips\"\n",
    "        ).add_params(route_selector).transform_filter(route_selector)\n",
    "    )\n",
    "    frequency_chart = (grouped_bar_chart(\n",
    "        sched_df, \"month_year\", \"frequency\", \"direction_id\", \"Frequency of Route Run\"\n",
    "    ).add_params(route_selector).transform_filter(route_selector))\n",
    "    \n",
    "    speed_chart = (grouped_bar_chart(\n",
    "        vp_df, \"month_year\", \"speed_mph\", \"direction_id\", \"Average Speed\"\n",
    "    ).add_params(route_selector).transform_filter(route_selector))\n",
    "                  \n",
    "\n",
    "    chart_lists = [daily_trips_chart, frequency_chart, speed_chart]\n",
    "    chart = alt.vconcat(*chart_lists).resolve_scale(y=\"independent\")\n",
    "\n",
    "    display(chart)\n",
    "    "
   ]
  },
  {
   "cell_type": "code",
   "execution_count": null,
   "id": "24b51f1f-1e55-4136-9fba-7121be6adb82",
   "metadata": {},
   "outputs": [],
   "source": [
    "daily_trips_chart = (\n",
    "        grouped_bar_chart(\n",
    "            sched_df, \"month_year\", \"n_scheduled_trips\", \"direction_id\", \"Total Daily Trips\"\n",
    "        ).add_params(route_selector).transform_filter(route_selector)\n",
    "    )\n",
    "frequency_chart = (grouped_bar_chart(\n",
    "        sched_df, \"month_year\", \"frequency\", \"direction_id\", \"Frequency of Route Run\"\n",
    "    ).add_params(route_selector).transform_filter(route_selector))\n",
    "    \n",
    "speed_chart = (grouped_bar_chart(\n",
    "        vp_df, \"month_year\", \"speed_mph\", \"direction_id\", \"Average Speed\"\n",
    "    ).add_params(route_selector).transform_filter(route_selector))"
   ]
  },
  {
   "cell_type": "code",
   "execution_count": null,
   "id": "e18828bf-5529-4025-914c-3e1b011be136",
   "metadata": {},
   "outputs": [],
   "source": [
    "chart_lists = [daily_trips_chart, frequency_chart, speed_chart]\n",
    "all_charts = alt.vconcat(*chart_lists).resolve_scale(y=\"independent\")"
   ]
  },
  {
   "cell_type": "code",
   "execution_count": null,
   "id": "8247568e-227d-43dd-a19c-3e9754a3ba8f",
   "metadata": {},
   "outputs": [],
   "source": [
    "all_charts"
   ]
  },
  {
   "cell_type": "code",
   "execution_count": null,
   "id": "860fc6ac-3849-4e56-a5b6-8172560d4666",
   "metadata": {},
   "outputs": [],
   "source": [
    "all_charts_dict = all_charts.to_dict()"
   ]
  },
  {
   "cell_type": "code",
   "execution_count": null,
   "id": "b3499680-3239-4a5a-8338-d6b51a3d91b1",
   "metadata": {
    "tags": []
   },
   "outputs": [],
   "source": [
    "# filtered_route_charts3(df, 'route_combined_name')"
   ]
  }
 ],
 "metadata": {
  "kernelspec": {
   "display_name": "Python 3 (ipykernel)",
   "language": "python",
   "name": "python3"
  },
  "language_info": {
   "codemirror_mode": {
    "name": "ipython",
    "version": 3
   },
   "file_extension": ".py",
   "mimetype": "text/x-python",
   "name": "python",
   "nbconvert_exporter": "python",
   "pygments_lexer": "ipython3",
   "version": "3.9.13"
  }
 },
 "nbformat": 4,
 "nbformat_minor": 5
}
