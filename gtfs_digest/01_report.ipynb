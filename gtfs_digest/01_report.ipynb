{
 "cells": [
  {
   "cell_type": "markdown",
   "id": "9ef066ac-5f6d-4595-b819-0cdacbadd7fe",
   "metadata": {},
   "source": [
    "## Round 1 \n",
    "* https://github.com/cal-itp/data-analyses/issues/1059\n",
    "* cd rt_segment_speeds && pip install altair_transform && pip install -r requirements.txt && cd ../_shared_utils && make setup_env\n",
    "* https://docs.google.com/document/d/1I1WiqlmU06W6iLCi7cZQrOCLILkrEfABEkcU0Jys7f0/edit\n",
    "* https://route-speeds--cal-itp-data-analyses.netlify.app/name_bay-area-511-muni-schedule/0__report__name_bay-area-511-muni-schedule\n",
    "* https://posit-dev.github.io/great-tables/get-started/nanoplots.html\n",
    "* https://docs.pola.rs/py-polars/html/reference/api/polars.from_pandas.html\n",
    "* https://github.com/cal-itp/data-analyses/blob/main/rt_segment_speeds/_rt_scheduled_utils.py\n",
    "* https://github.com/cal-itp/data-analyses/blob/main/rt_segment_speeds/_threshold_utils.py"
   ]
  },
  {
   "cell_type": "code",
   "execution_count": null,
   "id": "41ffdcf4-2076-49c6-bae6-6ffb51f044b3",
   "metadata": {},
   "outputs": [],
   "source": [
    "%%capture\n",
    "# import warnings\n",
    "# warnings.filterwarnings('ignore')\n",
    "\n",
    "import altair as alt\n",
    "import calitp_data_analysis.magics\n",
    "import geopandas as gpd\n",
    "import great_tables as gt\n",
    "import pandas as pd\n",
    "from calitp_data_analysis import calitp_color_palette as cp\n",
    "from great_tables import md\n",
    "from IPython.display import HTML, Markdown, display\n",
    "from segment_speed_utils.project_vars import RT_SCHED_GCS\n",
    "from shared_utils import rt_dates, rt_utils\n",
    "\n",
    "alt.renderers.enable(\"html\")\n",
    "alt.data_transformers.enable(\"default\", max_rows=None)\n",
    "from typing import List, Union\n",
    "\n",
    "from altair_transform.extract import extract_transform\n",
    "from altair_transform.transform import visit\n",
    "from altair_transform.utils import to_dataframe"
   ]
  },
  {
   "cell_type": "code",
   "execution_count": null,
   "id": "6366b86d-cdad-4aa0-9b29-9e506cb63258",
   "metadata": {},
   "outputs": [],
   "source": [
    "pd.options.display.max_columns = 100\n",
    "pd.options.display.float_format = \"{:.2f}\".format\n",
    "pd.set_option(\"display.max_rows\", None)\n",
    "pd.set_option(\"display.max_colwidth\", None)"
   ]
  },
  {
   "cell_type": "code",
   "execution_count": null,
   "id": "f87b0483-ff6d-4ecc-aab6-3d5e61415b3c",
   "metadata": {},
   "outputs": [],
   "source": [
    "name = \"SBMTD Schedule\""
   ]
  },
  {
   "cell_type": "code",
   "execution_count": null,
   "id": "9066c35a-2d31-4257-9c10-08d20555e22a",
   "metadata": {
    "tags": [
     "parameters"
    ]
   },
   "outputs": [],
   "source": [
    "# %%capture_parameters\n",
    "# name"
   ]
  },
  {
   "cell_type": "markdown",
   "id": "f8eeff31-0646-416b-bcea-a25b1ce09823",
   "metadata": {},
   "source": [
    "### General Functions"
   ]
  },
  {
   "cell_type": "code",
   "execution_count": null,
   "id": "ddd64960-9bbc-463e-adfd-3422ee1690e0",
   "metadata": {},
   "outputs": [],
   "source": [
    "def labeling(word: str) -> str:\n",
    "    return word.replace(\"_\", \" \").title().replace(\"N\", \"Total\")"
   ]
  },
  {
   "cell_type": "markdown",
   "id": "b29a8034-d069-4808-aaec-b69a72392054",
   "metadata": {},
   "source": [
    "### Data"
   ]
  },
  {
   "cell_type": "code",
   "execution_count": null,
   "id": "b95f85f0-b6af-4f7b-be04-9798e8254d99",
   "metadata": {},
   "outputs": [],
   "source": [
    "# calitp-analytics-data/data-analyses/rt_vs_schedule/digest\n",
    "df = pd.read_parquet(\n",
    "    f\"{RT_SCHED_GCS}digest/schedule_vp_metrics.parquet\",\n",
    "    filters=[[(\"name\", \"==\", name)]],\n",
    ")"
   ]
  },
  {
   "cell_type": "code",
   "execution_count": null,
   "id": "8d120285-facf-4a6f-9e90-6ee06e501487",
   "metadata": {},
   "outputs": [],
   "source": [
    "f\"{RT_SCHED_GCS}digest/schedule_vp_metrics.parquet\""
   ]
  },
  {
   "cell_type": "code",
   "execution_count": null,
   "id": "41774e8f-3a65-419f-a2ed-b70e06e7cfdb",
   "metadata": {},
   "outputs": [],
   "source": [
    "most_recent_date = df.service_date.max()"
   ]
  },
  {
   "cell_type": "code",
   "execution_count": null,
   "id": "0f5a85f3-9409-4474-aee1-914c57385777",
   "metadata": {},
   "outputs": [],
   "source": [
    "most_recent_date"
   ]
  },
  {
   "cell_type": "code",
   "execution_count": null,
   "id": "6acd6159-3600-460f-af9c-1c8621dd3d53",
   "metadata": {},
   "outputs": [],
   "source": [
    "df.service_date.min()"
   ]
  },
  {
   "cell_type": "code",
   "execution_count": null,
   "id": "518457f4-4034-4461-be8e-51b25cae86b7",
   "metadata": {},
   "outputs": [],
   "source": [
    "df.head(2)"
   ]
  },
  {
   "cell_type": "code",
   "execution_count": null,
   "id": "38e889f9-c619-4335-8ed8-6d42f7480b2a",
   "metadata": {},
   "outputs": [],
   "source": [
    "df.info()"
   ]
  },
  {
   "cell_type": "code",
   "execution_count": null,
   "id": "add5a920-24e5-4b76-a1dc-d32968b8868f",
   "metadata": {},
   "outputs": [],
   "source": [
    "df[\"month_year\"] = df.service_date.dt.strftime(\"%m/%Y\")"
   ]
  },
  {
   "cell_type": "markdown",
   "id": "329abf27-6057-4c98-852d-f879a0f520a7",
   "metadata": {},
   "source": [
    "### Test out Altair `extract_data`\n",
    "* https://altair-viz.github.io/user_guide/transform/index.html"
   ]
  },
  {
   "cell_type": "code",
   "execution_count": null,
   "id": "c8e711c9-e0d8-4dec-a41d-33ae85a54e96",
   "metadata": {},
   "outputs": [],
   "source": [
    "__all__ = [\"apply\", \"extract_data\", \"transform_chart\"]"
   ]
  },
  {
   "cell_type": "code",
   "execution_count": null,
   "id": "a49018c5-974e-4ee9-a449-c3950243a668",
   "metadata": {},
   "outputs": [],
   "source": [
    "def reverse_snakecase(df):\n",
    "    \"\"\"\n",
    "    Clean up columns to remove underscores and spaces.\n",
    "    \"\"\"\n",
    "    df.columns = df.columns.str.replace(\"_\", \" \").str.strip().str.title()\n",
    "    return df"
   ]
  },
  {
   "cell_type": "code",
   "execution_count": null,
   "id": "6a248268-f7b1-45d0-aa21-5488d581dfa2",
   "metadata": {},
   "outputs": [],
   "source": [
    "def apply(\n",
    "    df: pd.DataFrame,\n",
    "    transform: Union[alt.Transform, List[alt.Transform]],\n",
    "    inplace: bool = False,\n",
    ") -> pd.DataFrame:\n",
    "    \"\"\"Apply transform or transforms to dataframe.\n",
    "\n",
    "    Parameters\n",
    "    ----------\n",
    "    df : pd.DataFrame\n",
    "    transform : list|dict\n",
    "        A transform specification or list of transform specifications.\n",
    "        Each specification must be valid according to Altair's transform\n",
    "        schema.\n",
    "    inplace : bool\n",
    "        If True, then dataframe may be modified in-place. Default: False.\n",
    "\n",
    "    Returns\n",
    "    -------\n",
    "    df_transformed : pd.DataFrame\n",
    "        The transformed dataframe.\n",
    "\n",
    "    Example\n",
    "    -------\n",
    "    >>> import pandas as pd\n",
    "    >>> data = pd.DataFrame({'x': range(5), 'y': list('ABCAB')})\n",
    "    >>> chart = alt.Chart(data).transform_aggregate(sum_x='sum(x)', groupby=['y'])\n",
    "    >>> apply(data, chart.transform)\n",
    "       y  sum_x\n",
    "    0  A      3\n",
    "    1  B      5\n",
    "    2  C      2\n",
    "    \"\"\"\n",
    "    if not inplace:\n",
    "        df = df.copy()\n",
    "    if transform is alt.Undefined:\n",
    "        return df\n",
    "    return visit(transform, df)"
   ]
  },
  {
   "cell_type": "code",
   "execution_count": null,
   "id": "a558b371-dda8-4b81-821f-0f45f1fcae76",
   "metadata": {},
   "outputs": [],
   "source": [
    "def extract_data(\n",
    "    chart: alt.Chart, apply_encoding_transforms: bool = True\n",
    ") -> pd.DataFrame:\n",
    "    \"\"\"Extract transformed data from a chart.\n",
    "\n",
    "    This only works with data and transform defined at the\n",
    "    top level of the chart.\n",
    "\n",
    "    Parameters\n",
    "    ----------\n",
    "    chart : alt.Chart\n",
    "        The chart instance from which the data and transform\n",
    "        will be extracted\n",
    "    apply_encoding_transforms : bool\n",
    "        If True (default), then apply transforms specified within an\n",
    "        encoding as well as those specified directly in the transforms\n",
    "        attribute.\n",
    "\n",
    "    Returns\n",
    "    -------\n",
    "    df_transformed : pd.DataFrame\n",
    "        The extracted and transformed dataframe.\n",
    "\n",
    "    Example\n",
    "    -------\n",
    "    >>> import pandas as pd\n",
    "    >>> data = pd.DataFrame({'x': range(5), 'y': list('ABCAB')})\n",
    "    >>> chart = alt.Chart(data).mark_bar().encode(x='sum(x)', y='y')\n",
    "    >>> extract_data(chart)\n",
    "       y  sum_x\n",
    "    0  A      3\n",
    "    1  B      5\n",
    "    2  C      2\n",
    "    \"\"\"\n",
    "    if apply_encoding_transforms:\n",
    "        chart = extract_transform(chart)\n",
    "    return apply(to_dataframe(chart.data, chart), chart.transform)"
   ]
  },
  {
   "cell_type": "code",
   "execution_count": null,
   "id": "b8c88270-b18d-42c3-9086-4cfe718cfb6d",
   "metadata": {},
   "outputs": [],
   "source": [
    "data = pd.DataFrame({\"x\": range(5), \"y\": list(\"ABCAB\")})"
   ]
  },
  {
   "cell_type": "code",
   "execution_count": null,
   "id": "d7a371e2-c667-43c4-9dfa-3cf4087a4f6e",
   "metadata": {},
   "outputs": [],
   "source": [
    "chart = alt.Chart(data).mark_bar().encode(x=\"sum(x)\", y=\"y\")"
   ]
  },
  {
   "cell_type": "code",
   "execution_count": null,
   "id": "4130860e-5492-44c4-b1b1-5f29874ebadd",
   "metadata": {},
   "outputs": [],
   "source": [
    "chart"
   ]
  },
  {
   "cell_type": "code",
   "execution_count": null,
   "id": "dfddc64f-dd43-468d-9372-62acb84ba04b",
   "metadata": {},
   "outputs": [],
   "source": [
    "extract_data(chart)"
   ]
  },
  {
   "cell_type": "code",
   "execution_count": null,
   "id": "4b5a79dd-6ac3-4dea-8e17-249ea9fb55c2",
   "metadata": {},
   "outputs": [],
   "source": [
    "def extract_data_altair(chart):\n",
    "    chart_dict = chart.to_dict()\n",
    "    encoding = chart_dict[\"datasets\"]\n",
    "    df1 = pd.DataFrame(encoding)\n",
    "\n",
    "    column = df1.columns[0]\n",
    "    normalized_df = pd.json_normalize(df1[column])\n",
    "    # Combine the original DataFrame with the extracted values DataFrame\n",
    "    df2 = pd.concat([df1.drop(column, axis=1), normalized_df], axis=1)\n",
    "    return df2"
   ]
  },
  {
   "cell_type": "markdown",
   "id": "bc6c077f-7957-4105-a661-0f8b8e68a8b5",
   "metadata": {},
   "source": [
    "### Monthly aggregated service hours by day_type, time_of_day"
   ]
  },
  {
   "cell_type": "code",
   "execution_count": null,
   "id": "93fd9eb6-593d-47ff-a875-5a59fdd32066",
   "metadata": {},
   "outputs": [],
   "source": [
    "from segment_speed_utils.project_vars import SCHED_GCS"
   ]
  },
  {
   "cell_type": "code",
   "execution_count": null,
   "id": "6c4cbe7e-00cf-4037-9ac8-be00588b5324",
   "metadata": {},
   "outputs": [],
   "source": [
    "year = \"2023\""
   ]
  },
  {
   "cell_type": "code",
   "execution_count": null,
   "id": "93064ff9-63cf-45cc-ba32-2433f783abe7",
   "metadata": {},
   "outputs": [],
   "source": [
    "monthly_service_df = pd.read_parquet(\n",
    "    f\"{SCHED_GCS}scheduled_service_by_route_{year}.parquet\",\n",
    "    filters=[[(\"name\", \"==\", name)]],\n",
    ")"
   ]
  },
  {
   "cell_type": "code",
   "execution_count": null,
   "id": "7d476fd2-4862-4394-b19d-e644858cda29",
   "metadata": {},
   "outputs": [],
   "source": [
    "monthly_service_df.shape"
   ]
  },
  {
   "cell_type": "code",
   "execution_count": null,
   "id": "73c7bc32-ea37-480f-ad3f-8d8598cfa28a",
   "metadata": {},
   "outputs": [],
   "source": [
    "monthly_service_df.sample()"
   ]
  },
  {
   "cell_type": "code",
   "execution_count": null,
   "id": "86bc95aa-31b4-4e22-8f9b-70fcd9fe796f",
   "metadata": {},
   "outputs": [],
   "source": [
    "monthly_service_df.day_type.value_counts()"
   ]
  },
  {
   "cell_type": "code",
   "execution_count": null,
   "id": "22fabf57-9598-408f-90ea-071ee026a8aa",
   "metadata": {},
   "outputs": [],
   "source": [
    "monthly_service_df[\"full_date\"] = pd.to_datetime(\n",
    "    (monthly_service_df.month.astype(str) + \"-\" + monthly_service_df.year.astype(str))\n",
    ")"
   ]
  },
  {
   "cell_type": "code",
   "execution_count": null,
   "id": "f99bd92c-9778-41c2-9966-d06d2bf0ef77",
   "metadata": {},
   "outputs": [],
   "source": [
    "def tag_day(df: pd.DataFrame) -> pd.DataFrame:\n",
    "    # Function to determine if a date is a weekend day or a weekday\n",
    "    def which_day(date):\n",
    "        if date == 1:\n",
    "            return \"Monday\"\n",
    "        elif date == 2:\n",
    "            return \"Tuesday\"\n",
    "        elif date == 3:\n",
    "            return \"Wednesday\"\n",
    "        elif date == 4:\n",
    "            return \"Thursday\"\n",
    "        elif date == 5:\n",
    "            return \"Friday\"\n",
    "        elif date == 6:\n",
    "            return \"Saturday\"\n",
    "        else:\n",
    "            return \"Sunday\"\n",
    "\n",
    "    # Apply the function to each value in the \"service_date\" column\n",
    "    df[\"day_type\"] = df[\"day_type\"].apply(which_day)\n",
    "\n",
    "    return df"
   ]
  },
  {
   "cell_type": "code",
   "execution_count": null,
   "id": "2340394f-c38f-4ccf-8d0b-389bcb0254d3",
   "metadata": {},
   "outputs": [],
   "source": [
    "monthly_service_df.info()"
   ]
  },
  {
   "cell_type": "code",
   "execution_count": null,
   "id": "e31e1663-11a7-410a-942f-3c8a08531bfe",
   "metadata": {},
   "outputs": [],
   "source": [
    "monthly_service_df = tag_day(monthly_service_df)"
   ]
  },
  {
   "cell_type": "code",
   "execution_count": null,
   "id": "4c694df1-3871-4f81-9478-538868704ec1",
   "metadata": {},
   "outputs": [],
   "source": [
    "monthly_service = (\n",
    "    monthly_service_df.groupby(\n",
    "        [\n",
    "            \"full_date\",\n",
    "            \"month\",\n",
    "            \"name\",\n",
    "            \"day_type\",\n",
    "            \"time_of_day\",\n",
    "        ]\n",
    "    )\n",
    "    .agg(\n",
    "        {\n",
    "            \"ttl_service_hours\": \"mean\",\n",
    "        }\n",
    "    )\n",
    "    .reset_index()\n",
    ")"
   ]
  },
  {
   "cell_type": "code",
   "execution_count": null,
   "id": "8fa13286-05fa-4abf-a0d0-eb10bbb523b7",
   "metadata": {},
   "outputs": [],
   "source": [
    "monthly_service.shape"
   ]
  },
  {
   "cell_type": "code",
   "execution_count": null,
   "id": "a9514b1e-7b49-4f9e-b2a3-42c59d40e4a9",
   "metadata": {},
   "outputs": [],
   "source": [
    "monthly_service.sample()"
   ]
  },
  {
   "cell_type": "markdown",
   "id": "9e8a9880-8616-4c3f-99e7-7a98a88dc498",
   "metadata": {},
   "source": [
    "####  Fix\n",
    "* Sort dropdown menu should have the fully spelled months?\n",
    "* Dropdown menu does not like datetime values, pad single digit months with a 0 and concat it with the year?"
   ]
  },
  {
   "cell_type": "code",
   "execution_count": null,
   "id": "6cc8cae6-743b-4369-b8eb-d91c98c75f4b",
   "metadata": {},
   "outputs": [],
   "source": [
    "dropdown_list = sorted(monthly_service[\"full_date\"].unique().tolist())"
   ]
  },
  {
   "cell_type": "code",
   "execution_count": null,
   "id": "fa017aa8-6bc9-4191-9b74-044ef0069511",
   "metadata": {},
   "outputs": [],
   "source": [
    "initialize_first_val = sorted(dropdown_list)[0]"
   ]
  },
  {
   "cell_type": "code",
   "execution_count": null,
   "id": "3375d2ac-26d8-4e8d-838f-9bd79af5f33b",
   "metadata": {},
   "outputs": [],
   "source": [
    "initialize_first_val"
   ]
  },
  {
   "cell_type": "code",
   "execution_count": null,
   "id": "f5a6438e-f440-4171-83d1-b7e62e897d4d",
   "metadata": {},
   "outputs": [],
   "source": [
    "dropdown = alt.binding_select(options=dropdown_list, name=labeling(\"full_date\"))"
   ]
  },
  {
   "cell_type": "code",
   "execution_count": null,
   "id": "3037cae2-8cfd-4660-8524-62500f25818d",
   "metadata": {
    "scrolled": true,
    "tags": []
   },
   "outputs": [],
   "source": [
    "def bar_chart_dropdown(\n",
    "    df: pd.DataFrame,\n",
    "    x_col: str,\n",
    "    y_col: str,\n",
    "    offset_col: str,\n",
    "    title: str,\n",
    "    dropdown_col: str,\n",
    "):\n",
    "    dropdown_list = sorted(df[dropdown_col].unique().tolist())\n",
    "\n",
    "    initialize_first_val = sorted(dropdown_list)[0]\n",
    "\n",
    "    dropdown = alt.binding_select(options=dropdown_list, name=labeling(dropdown_col))\n",
    "\n",
    "    selector = alt.selection_single(\n",
    "        name=labeling(dropdown_col), fields=[dropdown_col], bind=dropdown\n",
    "    )\n",
    "\n",
    "    ruler = (\n",
    "        alt.Chart(df)\n",
    "        .mark_rule(color=\"red\", strokeDash=[10, 7])\n",
    "        .encode(y=f\"mean({y_col}):Q\")\n",
    "    )\n",
    "\n",
    "    chart = (\n",
    "        alt.Chart(monthly_service)\n",
    "        .mark_bar()\n",
    "        .encode(\n",
    "            x=alt.X(\n",
    "                f\"{x_col}:N\",\n",
    "                title=\"Day\",\n",
    "                scale=alt.Scale(\n",
    "                    domain=[\n",
    "                        \"Monday\",\n",
    "                        \"Tuesday\",\n",
    "                        \"Wednesday\",\n",
    "                        \"Thursday\",\n",
    "                        \"Friday\",\n",
    "                        \"Saturday\",\n",
    "                        \"Sunday\",\n",
    "                    ]\n",
    "                ),\n",
    "            ),\n",
    "            y=alt.Y(f\"{y_col}:Q\", title=\"Total Service Hours\"),\n",
    "            xOffset=f\"{offset_col}:N\",\n",
    "            color=alt.Color(\n",
    "                f\"{offset_col}:N\",\n",
    "                scale=alt.Scale(\n",
    "                    range=cp.CALITP_SEQUENTIAL_COLORS,\n",
    "                ),\n",
    "            ),\n",
    "        )\n",
    "    )\n",
    "    chart = (chart + ruler).properties(title=title, width=600, height=400)\n",
    "    chart = chart.add_params(selector).transform_filter(selector)\n",
    "    # data = chart.transformed_data()\n",
    "\n",
    "    display(chart)"
   ]
  },
  {
   "cell_type": "code",
   "execution_count": null,
   "id": "499cdb97-c413-4c64-ae9d-67cc6d73a527",
   "metadata": {
    "tags": []
   },
   "outputs": [],
   "source": [
    "bar_chart_dropdown(\n",
    "    monthly_service,\n",
    "    \"day_type\",\n",
    "    \"ttl_service_hours\",\n",
    "    \"time_of_day\",\n",
    "    \"Average Service Hours by Month and Day for 2023\",\n",
    "    \"month\",\n",
    ")"
   ]
  },
  {
   "cell_type": "markdown",
   "id": "3f7d5b95-627d-4e37-88da-02a84a5c26eb",
   "metadata": {},
   "source": [
    "### Monthly Trends\n",
    "* https://posit-dev.github.io/great-tables/articles/intro.html"
   ]
  },
  {
   "cell_type": "code",
   "execution_count": null,
   "id": "7152c33f-d4ed-4152-a7d1-b386fd0e4443",
   "metadata": {},
   "outputs": [],
   "source": [
    "by_date_category = (\n",
    "    pd.crosstab(\n",
    "        df.service_date,\n",
    "        df.sched_rt_category,\n",
    "        values=df.n_scheduled_trips,\n",
    "        aggfunc=\"sum\",\n",
    "    )\n",
    "    .reset_index()\n",
    "    .fillna(0)\n",
    ")"
   ]
  },
  {
   "cell_type": "code",
   "execution_count": null,
   "id": "0b1b82c3-9642-4c8c-ae37-0cc5dcac6de6",
   "metadata": {},
   "outputs": [],
   "source": [
    "by_date_category.columns"
   ]
  },
  {
   "cell_type": "code",
   "execution_count": null,
   "id": "84a1a2a8-1919-48ea-93d6-7037f76542a2",
   "metadata": {},
   "outputs": [],
   "source": [
    "(\n",
    "    gt.GT(by_date_category, rowname_col=\"service_date\")\n",
    "    .tab_header(\n",
    "        title=\"Daily Trips by GTFS Availability\",\n",
    "        subtitle=\"Schedule only indicates the trip(s) were found only in static, schedule data. Vehicle Positions (VP) only indicates the trip(s) were found only in real-time data.\",\n",
    "    )\n",
    "    .cols_label(\n",
    "        schedule_only=\"Schedule Only\",\n",
    "        vp_only=\"VP Only\",\n",
    "        schedule_and_vp=\"Schedule and VP\",\n",
    "    )\n",
    "    .fmt_integer([\"schedule_only\", \"vp_only\", \"schedule_and_vp\"])\n",
    "    .tab_options(container_width=\"100%\")\n",
    "    .tab_options(table_font_size=\"12px\")\n",
    ")"
   ]
  },
  {
   "cell_type": "code",
   "execution_count": null,
   "id": "0369154c-3570-47d2-95c2-325705fd6570",
   "metadata": {},
   "outputs": [],
   "source": [
    "route_categories = (\n",
    "    df[df.time_period == \"all_day\"]\n",
    "    .groupby(\"sched_rt_category\")\n",
    "    .agg({\"route_combined_name\": \"nunique\"})\n",
    "    .reset_index()\n",
    ")"
   ]
  },
  {
   "cell_type": "code",
   "execution_count": null,
   "id": "f908bd5d-d5e0-406d-b5a5-030fe373aa8c",
   "metadata": {},
   "outputs": [],
   "source": [
    "route_categories.sched_rt_category = route_categories.sched_rt_category.str.replace(\n",
    "    \"_\", \" \"\n",
    ").str.title()"
   ]
  },
  {
   "cell_type": "markdown",
   "id": "ed356076-0d49-43cc-b6fe-cc787aa51aaa",
   "metadata": {},
   "source": [
    "#### GTFS Availability\n",
    "* Change Category values to something more understandable?"
   ]
  },
  {
   "cell_type": "code",
   "execution_count": null,
   "id": "71260947-b131-46a5-887c-a139e42ad73a",
   "metadata": {},
   "outputs": [],
   "source": [
    "(\n",
    "    gt.GT(data=route_categories.dropna())\n",
    "    .fmt_integer(columns=[\"route_combined_name\"], compact=True)\n",
    "    .cols_label(route_combined_name=\"Total Routes\", sched_rt_category=\"Category\")\n",
    "    .tab_options(container_width=\"100%\")\n",
    "    .tab_header(\n",
    "        title=\"Routes with GTFS Availability\",\n",
    "        subtitle=\"Schedule only indicates the route(s) were found only in static, schedule data. Vehicle Positions (VP) only indicates the route(s) were found only in real-time data.\",\n",
    "    )\n",
    "    .tab_options(table_font_size=\"12px\")\n",
    ")"
   ]
  },
  {
   "cell_type": "markdown",
   "id": "e7112b41-3a68-4c7e-ad43-98773555f457",
   "metadata": {},
   "source": [
    "#### Route Stats"
   ]
  },
  {
   "cell_type": "code",
   "execution_count": null,
   "id": "39f376f1-a60a-4b80-b951-7536bee22a90",
   "metadata": {},
   "outputs": [],
   "source": [
    "route_merge_cols = [\"route_combined_name\", \"direction_id\"]\n",
    "\n",
    "all_day_stats = df[\n",
    "    (df.service_date == most_recent_date) & (df.time_period == \"all_day\")\n",
    "][\n",
    "    route_merge_cols\n",
    "    + [\n",
    "        \"avg_scheduled_service_minutes\",\n",
    "        \"avg_stop_miles\",\n",
    "        \"n_scheduled_trips\",\n",
    "        \"sched_rt_category\",\n",
    "    ]\n",
    "]"
   ]
  },
  {
   "cell_type": "code",
   "execution_count": null,
   "id": "6c654a2d-1b08-4ef1-a011-b645ed2d03b5",
   "metadata": {},
   "outputs": [],
   "source": [
    "peak_stats = df[(df.service_date == most_recent_date) & (df.time_period == \"peak\")][\n",
    "    route_merge_cols + [\"speed_mph\", \"n_scheduled_trips\", \"frequency\"]\n",
    "].rename(\n",
    "    columns={\n",
    "        \"speed_mph\": \"peak_avg_speed\",\n",
    "        \"n_scheduled_trips\": \"peak_scheduled_trips\",\n",
    "        \"frequency\": \"peak_hourly_freq\",\n",
    "    }\n",
    ")"
   ]
  },
  {
   "cell_type": "code",
   "execution_count": null,
   "id": "c6254f71-b5fe-4bc1-81a1-084bec61c5a9",
   "metadata": {},
   "outputs": [],
   "source": [
    "offpeak_stats = df[\n",
    "    (df.service_date == most_recent_date) & (df.time_period == \"offpeak\")\n",
    "][route_merge_cols + [\"speed_mph\", \"n_scheduled_trips\", \"frequency\"]].rename(\n",
    "    columns={\n",
    "        \"speed_mph\": \"offpeak_avg_speed\",\n",
    "        \"n_scheduled_trips\": \"offpeak_scheduled_trips\",\n",
    "        \"frequency\": \"offpeak_hourly_freq\",\n",
    "    }\n",
    ")"
   ]
  },
  {
   "cell_type": "code",
   "execution_count": null,
   "id": "7ed14d70-4bb6-4a47-b971-52792fbaff4d",
   "metadata": {},
   "outputs": [],
   "source": [
    "table_df = (\n",
    "    pd.merge(\n",
    "        all_day_stats,\n",
    "        peak_stats,\n",
    "        on=route_merge_cols,\n",
    "    )\n",
    "    .merge(offpeak_stats, on=route_merge_cols)\n",
    "    .sort_values([\"route_combined_name\", \"direction_id\"])\n",
    "    .reset_index(drop=True)\n",
    ")"
   ]
  },
  {
   "cell_type": "code",
   "execution_count": null,
   "id": "1279e288-0d07-4402-bd93-2c684451f872",
   "metadata": {},
   "outputs": [],
   "source": [
    "table_df.columns"
   ]
  },
  {
   "cell_type": "code",
   "execution_count": null,
   "id": "7dd5e5fc-a656-432f-91f3-c70b0d895d7b",
   "metadata": {},
   "outputs": [],
   "source": [
    "table_df.sample()"
   ]
  },
  {
   "cell_type": "code",
   "execution_count": null,
   "id": "01077ed1-043d-4b58-b44f-ec3a0a20e620",
   "metadata": {},
   "outputs": [],
   "source": [
    "numeric_cols = table_df.select_dtypes(include=\"number\").columns\n",
    "table_df[numeric_cols] = table_df[numeric_cols].fillna(0)"
   ]
  },
  {
   "cell_type": "code",
   "execution_count": null,
   "id": "12aa78c0-8394-4898-8a59-240a5e9f4464",
   "metadata": {},
   "outputs": [],
   "source": [
    "table_df.head()"
   ]
  },
  {
   "cell_type": "markdown",
   "id": "3a288aaf-5c37-44ae-b9f2-0242311a3cdc",
   "metadata": {
    "tags": []
   },
   "source": [
    "#### Updating Already Made Charts\n",
    "#### Scheduled Minutes...Can just be a table?"
   ]
  },
  {
   "cell_type": "code",
   "execution_count": null,
   "id": "c5899040-b0e5-4ee2-a265-e2c1b4b33794",
   "metadata": {},
   "outputs": [],
   "source": [
    "sched_df = df[df.sched_rt_category != \"vp_only\"]\n",
    "vp_df = df[df.sched_rt_category != \"schedule_only\"]\n",
    "\n",
    "sched_service_chart = sched_df[sched_df.time_period == \"all_day\"]"
   ]
  },
  {
   "cell_type": "code",
   "execution_count": null,
   "id": "94fc159b-36c1-4cb1-92d5-d62564a8819e",
   "metadata": {},
   "outputs": [],
   "source": [
    "sched_service_chart.sample()"
   ]
  },
  {
   "cell_type": "markdown",
   "id": "fc626e58-0b8c-45bb-86f8-48b38289cfbe",
   "metadata": {},
   "source": [
    "#### Grouped Bar Chart \n",
    "* Problems: No title shows up for the XOffset, have to email Altair people? It's confusing to not show the directions clearly\n",
    "* Testing with `one_route`"
   ]
  },
  {
   "cell_type": "code",
   "execution_count": null,
   "id": "30cfb82a-0ee3-435a-8069-942704997e0c",
   "metadata": {},
   "outputs": [],
   "source": [
    "def grouped_bar_chart(\n",
    "    df: pd.DataFrame, color_col: str, y_col: str, title: str, subtitle: str\n",
    "):\n",
    "    df = df.assign(\n",
    "        time_period=df.time_period.str.replace(\"_\", \" \").str.title()\n",
    "    ).reset_index(drop=True)\n",
    "    \n",
    "    df[y_col] = df[y_col].fillna(0).astype(int)\n",
    "    tooltip_cols = [\n",
    "        \"direction_id\",\n",
    "        \"time_period\",\n",
    "        \"route_combined_name\",\n",
    "        \"organization_name\",\n",
    "        \"caltrans_district\",\n",
    "        \"month_year\",\n",
    "        y_col,\n",
    "    ]\n",
    "\n",
    "    ruler = (\n",
    "        alt.Chart(df)\n",
    "        .mark_rule(color=\"red\", strokeDash=[10, 7])\n",
    "        .encode(y=f\"mean({y_col}):Q\")\n",
    "    )\n",
    "\n",
    "    chart = (\n",
    "        alt.Chart(df)\n",
    "        .mark_bar(size=10)\n",
    "        .encode(\n",
    "            x=alt.X(\n",
    "                \"yearmonthdate(service_date):O\",\n",
    "                title=\"Date\",\n",
    "                axis=alt.Axis(format=\"%b %Y\"),\n",
    "            ),\n",
    "            y=alt.Y(f\"{y_col}:Q\", title=labeling(y_col)),\n",
    "            xOffset=alt.X(f\"direction_id:N\", title=\"Direction ID\"),\n",
    "            color=alt.Color(\n",
    "                f\"{color_col}:N\",\n",
    "                title=labeling(color_col),\n",
    "                scale=alt.Scale(\n",
    "                    range=cp.CALITP_SEQUENTIAL_COLORS,\n",
    "                ),\n",
    "            ),\n",
    "            tooltip=tooltip_cols,\n",
    "        )\n",
    "    )\n",
    "    chart = (chart + ruler).properties(\n",
    "        title={\n",
    "            \"text\": [title],\n",
    "            \"subtitle\": [\"Broken out by Direction ID\", subtitle],\n",
    "        },\n",
    "        width=500,\n",
    "        height=300,\n",
    "    )\n",
    "\n",
    "    return chart"
   ]
  },
  {
   "cell_type": "code",
   "execution_count": null,
   "id": "0b1f34c2-bcec-4e7f-81a5-c2fd7e7d4d9d",
   "metadata": {},
   "outputs": [],
   "source": [
    "one_route = sched_df.loc[sched_df.route_combined_name == \"14 Montecito\"]"
   ]
  },
  {
   "cell_type": "code",
   "execution_count": null,
   "id": "9f3adf29-e810-4e3e-ba8c-8eae2c19753c",
   "metadata": {},
   "outputs": [],
   "source": [
    "\"\"\"grouped_bar_chart(\n",
    "            one_route,\n",
    "            \"service_date\",\n",
    "            \"n_scheduled_trips\",\n",
    "            \"direction_id\",\n",
    "            \"Total Daily Trips\",\n",
    "        )\"\"\""
   ]
  },
  {
   "cell_type": "markdown",
   "id": "c6580abb-e487-448d-a2c9-1949998fa04e",
   "metadata": {},
   "source": [
    "#### Avg Scheduled Minutes"
   ]
  },
  {
   "cell_type": "code",
   "execution_count": null,
   "id": "8746d716-fc6d-4899-94c4-f83ec18d9402",
   "metadata": {},
   "outputs": [],
   "source": [
    "one_route[one_route.time_period == \"all_day\"].sample()"
   ]
  },
  {
   "cell_type": "code",
   "execution_count": null,
   "id": "0d569675-e6c4-4901-9157-e9da53cef48e",
   "metadata": {},
   "outputs": [],
   "source": [
    "grouped_bar_chart(\n",
    "    df=one_route[one_route.time_period == \"all_day\"],\n",
    "    color_col=\"direction_id\",\n",
    "    y_col=\"avg_scheduled_service_minutes\",\n",
    "    title=\"Average Scheduled Minutes\",\n",
    "    subtitle=\"The average minutes of scheduled service across all routes and time periods.\",\n",
    ")"
   ]
  },
  {
   "cell_type": "markdown",
   "id": "28c413ed-90ec-45dc-be43-553508ce9d50",
   "metadata": {},
   "source": [
    "#### Total Scheduled Trips"
   ]
  },
  {
   "cell_type": "code",
   "execution_count": null,
   "id": "bba1c83c-498b-46e9-9f08-c85986b306ab",
   "metadata": {},
   "outputs": [],
   "source": [
    "scheduled_trips = grouped_bar_chart(\n",
    "    df=one_route,\n",
    "    color_col=\"time_period\",\n",
    "    y_col=\"n_scheduled_trips\",\n",
    "    title=\"Total Scheduled Trips\",\n",
    "    subtitle=\"The total number of scheduled trips for a route, differentiated by time periods.\",\n",
    ")"
   ]
  },
  {
   "cell_type": "code",
   "execution_count": null,
   "id": "21af1153-e8f9-4381-9266-6a2f6a3d3e3f",
   "metadata": {},
   "outputs": [],
   "source": [
    "scheduled_trips"
   ]
  },
  {
   "cell_type": "markdown",
   "id": "793206d1-f1f7-4603-900e-e2bd5ff85619",
   "metadata": {},
   "source": [
    "#### Frequency\n",
    "* Maybe shouldn't be a chart since there doesn't seem to be a lot of data for this across a lot of the routes?"
   ]
  },
  {
   "cell_type": "code",
   "execution_count": null,
   "id": "1ab9df59-9d66-4902-b978-4dc78c0a29db",
   "metadata": {},
   "outputs": [],
   "source": [
    "one_route.sample()"
   ]
  },
  {
   "cell_type": "code",
   "execution_count": null,
   "id": "98dcaffb-1e26-4a14-81ce-20146fad9563",
   "metadata": {},
   "outputs": [],
   "source": [
    "one_route.frequency.value_counts()"
   ]
  },
  {
   "cell_type": "code",
   "execution_count": null,
   "id": "472017fd-631c-44fd-91d6-5b21e81aff81",
   "metadata": {},
   "outputs": [],
   "source": [
    "grouped_bar_chart(\n",
    "    df=one_route,\n",
    "    color_col=\"time_period\",\n",
    "    y_col=\"frequency\",\n",
    "    title=\"Total Scheduled Trips\",\n",
    "    subtitle=\"The number of times a route is run per hour.\",\n",
    ")"
   ]
  },
  {
   "cell_type": "markdown",
   "id": "cad7454c-ceb2-4e30-92d2-bbc43d4e6e1a",
   "metadata": {},
   "source": [
    "#### Speed MPH\n",
    "* Needs a different type of chart."
   ]
  },
  {
   "cell_type": "code",
   "execution_count": null,
   "id": "fda3b3bd-0359-4f92-8125-6488161f9811",
   "metadata": {},
   "outputs": [],
   "source": [
    "one_route_vp_df = vp_df.loc[vp_df.route_combined_name == \"14 Montecito\"]"
   ]
  },
  {
   "cell_type": "code",
   "execution_count": null,
   "id": "5b479d45-acf9-40c3-8598-116c48c9c951",
   "metadata": {},
   "outputs": [],
   "source": [
    "one_route_vp_df.shape"
   ]
  },
  {
   "cell_type": "code",
   "execution_count": null,
   "id": "1b927659-d54d-4a15-af19-03276e406137",
   "metadata": {},
   "outputs": [],
   "source": [
    "# This doesn't work\n",
    "def speed_chart(df: pd.DataFrame):\n",
    "    dir_0 = df.loc[df.direction_id == 0]\n",
    "    dir_1 = df.loc[df.direction_id == 1]\n",
    "\n",
    "    def create_chart(df, direction: str):\n",
    "        ruler = (\n",
    "            alt.Chart(df)\n",
    "            .mark_rule(color=\"red\", strokeDash=[10, 7])\n",
    "            .encode(y=f\"mean(speed_mph):Q\")\n",
    "        )\n",
    "\n",
    "        df.speed_mph = df.speed_mph.fillna(0).astype(int)\n",
    "        tooltip_cols = [\n",
    "            \"direction_id\",\n",
    "            \"time_period\",\n",
    "            \"route_combined_name\",\n",
    "            \"organization_name\",\n",
    "            \"caltrans_district\",\n",
    "            \"month_year\",\n",
    "            \"speed_mph\",\n",
    "        ]\n",
    "        chart = (\n",
    "            alt.Chart(df)\n",
    "            .mark_line(size=5)\n",
    "            .encode(\n",
    "                x=alt.X(\n",
    "                    \"service_date:N\",\n",
    "                    title=\"Date\",\n",
    "                ),\n",
    "                y=alt.Y(\n",
    "                    \"speed_mph:Q\", title=\"Speed MPH\", scale=alt.Scale(domain=[5, 50])\n",
    "                ),\n",
    "                xOffset=alt.X(f\"time_period:N\", title=\"Time_Period\"),\n",
    "                color=alt.Color(\n",
    "                    \"time_period:N\",\n",
    "                    scale=alt.Scale(\n",
    "                        range=cp.CALITP_SEQUENTIAL_COLORS,\n",
    "                    ),\n",
    "                ),\n",
    "                tooltip=tooltip_cols,\n",
    "            )\n",
    "        )\n",
    "        chart = (chart + ruler).properties(title=direction, width=300, height=400)\n",
    "        return chart\n",
    "\n",
    "    chart_0 = create_chart(dir_0, \"Direction ID: 0\")\n",
    "    chart_1 = create_chart(dir_1, \"Direction ID: 1\")\n",
    "\n",
    "    chart_list = [chart_0, chart_1]\n",
    "    final_chart = alt.hconcat(*chart_list)\n",
    "    final_chart = final_chart.properties(\n",
    "        title={\n",
    "            \"text\": [\"Average Speed\"],\n",
    "            \"subtitle\": [\n",
    "                \"Broken out by Direction ID\",\n",
    "                \"Average MPH a route reaches each month, broken out by time period and direction ID.\",\n",
    "            ],\n",
    "        }\n",
    "    )\n",
    "    return final_chart"
   ]
  },
  {
   "cell_type": "markdown",
   "id": "de06a81b-756e-4967-bc3f-682dedb5a0cd",
   "metadata": {},
   "source": [
    "##### Editing Facet chart"
   ]
  },
  {
   "cell_type": "code",
   "execution_count": null,
   "id": "40a89177-b406-43c6-9fb0-e6aaa5b91758",
   "metadata": {},
   "outputs": [],
   "source": [
    "def base_route_chart(df: pd.DataFrame, y_col: str, title:str, subtitle:str) -> alt.Chart:\n",
    "    \"\"\" \"\"\"\n",
    "    df = df.assign(\n",
    "        time_period=df.time_period.str.replace(\"_\", \" \").str.title()\n",
    "    ).reset_index(drop=True)\n",
    "\n",
    "    selected_colors = [\n",
    "        cp.CALITP_CATEGORY_BRIGHT_COLORS[0],  # blue\n",
    "        cp.CALITP_CATEGORY_BRIGHT_COLORS[3],  # green\n",
    "        cp.CALITP_CATEGORY_BOLD_COLORS[1],  # orange,\n",
    "    ]\n",
    "\n",
    "    # https://stackoverflow.com/questions/26454649/python-round-up-to-the-nearest-ten\n",
    "\n",
    "    if \"pct\" in y_col:\n",
    "        max_y = 1.2\n",
    "    elif \"per_minute\" in y_col:\n",
    "        max_y = round(df[y_col].max())\n",
    "    else:\n",
    "        max_y = round(df[y_col].max(), -1)\n",
    "\n",
    "    df[f\"y_col_str\"] = df[y_col].astype(str)\n",
    "    \n",
    "    ruler = (\n",
    "            alt.Chart(df)\n",
    "            .mark_rule(color=\"red\", strokeDash=[10, 7])\n",
    "            .encode(y=f\"mean(speed_mph):Q\")\n",
    "        )\n",
    "        \n",
    "    chart = (\n",
    "        alt.Chart(df)\n",
    "        .mark_line(size=5)\n",
    "        .encode(\n",
    "            x=alt.X(\n",
    "                \"yearmonthdate(service_date):O\",\n",
    "                title=\"Date\",\n",
    "                axis=alt.Axis(format=\"%b %Y\"),\n",
    "            ),\n",
    "            y=alt.Y(\n",
    "                f\"{y_col}:Q\", title=labeling(y_col), scale=alt.Scale(domain=[0, max_y])\n",
    "            ),\n",
    "            color=alt.Color(\n",
    "                \"time_period:N\",\n",
    "                title=labeling(\"time_period\"),\n",
    "                scale=alt.Scale(range=cp.CALITP_SEQUENTIAL_COLORS),\n",
    "            ),\n",
    "            tooltip=[\n",
    "                \"route_combined_name\",\n",
    "                \"route_id\",\n",
    "                \"direction_id\",\n",
    "                \"time_period\",\n",
    "                \"y_col_str\",\n",
    "            ],\n",
    "        ))\n",
    "        \n",
    "    chart = (chart+ruler).properties(\n",
    "        width = 300,\n",
    "        height = 300)\n",
    "    \n",
    "    chart = chart.facet(\n",
    "            column=alt.Column(\"direction_id:N\", title=labeling(\"direction_id\")),\n",
    "        ).properties(title={\n",
    "            \"text\": [title],\n",
    "            \"subtitle\": [subtitle],\n",
    "        }, )\n",
    "    \n",
    "    \n",
    "    return chart"
   ]
  },
  {
   "cell_type": "code",
   "execution_count": null,
   "id": "7e452d89-d0b7-4730-bebe-3abe2125ca9a",
   "metadata": {},
   "outputs": [],
   "source": [
    "base_route_chart(one_route_vp_df, \"speed_mph\", \"my_title\", \"my_subtitle\")"
   ]
  },
  {
   "cell_type": "code",
   "execution_count": null,
   "id": "258c0fbd-830a-496d-b606-d48e2fa20cc9",
   "metadata": {},
   "outputs": [],
   "source": [
    "# speed_chart(one_route_vp_df)"
   ]
  },
  {
   "cell_type": "markdown",
   "id": "6fc21ac6-f52f-4f7b-929d-3d439f9f087f",
   "metadata": {},
   "source": [
    "#### Putting it all together"
   ]
  },
  {
   "cell_type": "code",
   "execution_count": null,
   "id": "06f6f21a-96aa-4a33-9b6d-d36bd4bea7ee",
   "metadata": {},
   "outputs": [],
   "source": [
    "def filtered_route_charts3(\n",
    "    df: pd.DataFrame,\n",
    ") -> alt.Chart:\n",
    "    \"\"\"\n",
    "    https://stackoverflow.com/questions/58919888/multiple-selections-in-altair\n",
    "    \"\"\"\n",
    "\n",
    "    route_dropdown = alt.binding_select(\n",
    "        options=sorted(df[\"route_combined_name\"].unique().tolist()),\n",
    "        name=\"Routes \",\n",
    "    )\n",
    "\n",
    "    # Column that controls the bar charts\n",
    "    route_selector = alt.selection_point(\n",
    "        fields=[\"route_combined_name\"],\n",
    "        bind=route_dropdown,\n",
    "    )\n",
    "\n",
    "    sched_df = df[df.sched_rt_category != \"vp_only\"]\n",
    "    vp_df = df[df.sched_rt_category != \"schedule_only\"]\n",
    "\n",
    "    scheduled_trips = (\n",
    "        grouped_bar_chart(\n",
    "            df=sched_df,\n",
    "            color_col=\"time_period\",\n",
    "            y_col=\"n_scheduled_trips\",\n",
    "            title=\"Total Scheduled Trips\",\n",
    "            subtitle=\"The total number of scheduled trips for a route, differentiated by time periods.\",\n",
    "        )\n",
    "        .add_params(route_selector)\n",
    "        .transform_filter(route_selector)\n",
    "    )\n",
    "\n",
    "    speeds_chart = (\n",
    "        base_route_chart(vp_df, \"speed_mph\", \"my_title\", \"my_subtitle\")\n",
    "        .add_params(route_selector)\n",
    "        .transform_filter(route_selector)\n",
    "    )\n",
    "\n",
    "    chart_lists = [scheduled_trips, speeds_chart]\n",
    "    chart = alt.vconcat(*chart_lists).resolve_scale(y=\"independent\")\n",
    "\n",
    "    display(chart)"
   ]
  },
  {
   "cell_type": "code",
   "execution_count": null,
   "id": "06590b02-b54b-4d0b-a2f6-ee02aeeca16b",
   "metadata": {},
   "outputs": [],
   "source": [
    "filtered_route_charts3(df)"
   ]
  },
  {
   "cell_type": "markdown",
   "id": "c168d96d-7762-4807-8c89-7f0a50bca32c",
   "metadata": {
    "tags": []
   },
   "source": [
    "#### Actual Faceted Charts (from Tiffany)\n",
    "* Issues \n",
    "    * Faceting doesn't  with daily scheduled trip and average speed."
   ]
  },
  {
   "cell_type": "code",
   "execution_count": null,
   "id": "76b16985-1bca-4f94-bbfa-6aa79bbd5d48",
   "metadata": {},
   "outputs": [],
   "source": [
    "def filtered_route_charts(\n",
    "    df: pd.DataFrame,\n",
    "    control_field: str,\n",
    ") -> alt.Chart:\n",
    "    \"\"\"\n",
    "    https://stackoverflow.com/questions/58919888/multiple-selections-in-altair\n",
    "    \"\"\"\n",
    "    route_dropdown = alt.binding_select(\n",
    "        options=sorted(df[control_field].unique().tolist()),\n",
    "        name=\"Routes \",\n",
    "    )\n",
    "\n",
    "    # Column that controls the bar charts\n",
    "    route_selector = alt.selection_point(\n",
    "        fields=[control_field],\n",
    "        bind=route_dropdown,\n",
    "    )\n",
    "\n",
    "    sched_df = df[df.sched_rt_category != \"vp_only\"]\n",
    "    vp_df = df[df.sched_rt_category != \"schedule_only\"]\n",
    "\n",
    "    sched_service_chart = (\n",
    "        base_route_chart(\n",
    "            sched_df[sched_df.time_period == \"all_day\"], \"avg_scheduled_service_minutes\"\n",
    "        )\n",
    "        .add_params(route_selector)\n",
    "        .transform_filter(route_selector)\n",
    "    )\n",
    "\n",
    "    sched_trips_chart = (\n",
    "        base_route_chart(sched_df, \"n_scheduled_trips\")\n",
    "        .add_params(route_selector)\n",
    "        .transform_filter(route_selector)\n",
    "    )\n",
    "\n",
    "    sched_freq_chart = (\n",
    "        base_route_chart(sched_df, \"frequency\")\n",
    "        .add_params(route_selector)\n",
    "        .transform_filter(route_selector)\n",
    "    )\n",
    "\n",
    "    speeds_chart = (\n",
    "        base_route_chart(vp_df, \"speed_mph\")\n",
    "        .add_params(route_selector)\n",
    "        .transform_filter(route_selector)\n",
    "    )\n",
    "\n",
    "    ping_density_chart = (\n",
    "        base_route_chart(vp_df, \"vp_per_minute\")\n",
    "        .add_params(route_selector)\n",
    "        .transform_filter(route_selector)\n",
    "    )\n",
    "\n",
    "    spatial_accuracy_chart = (\n",
    "        base_route_chart(vp_df, \"pct_in_shape\")\n",
    "        .add_params(route_selector)\n",
    "        .transform_filter(route_selector)\n",
    "    )\n",
    "\n",
    "    atleast1vp_chart = (\n",
    "        base_route_chart(vp_df, \"pct_rt_journey_atleast1_vp\")\n",
    "        .add_params(route_selector)\n",
    "        .transform_filter(route_selector)\n",
    "    )\n",
    "\n",
    "    atleast2vp_chart = (\n",
    "        base_route_chart(vp_df, \"pct_rt_journey_atleast2_vp\")\n",
    "        .add_params(route_selector)\n",
    "        .transform_filter(route_selector)\n",
    "    )\n",
    "\n",
    "    chart_list = [\n",
    "        sched_service_chart,\n",
    "        sched_trips_chart,\n",
    "        sched_freq_chart,\n",
    "        speeds_chart,\n",
    "        ping_density_chart,\n",
    "        spatial_accuracy_chart,\n",
    "        atleast1vp_chart,\n",
    "        atleast2vp_chart,\n",
    "    ]\n",
    "\n",
    "    chart = alt.vconcat(*chart_list).resolve_scale(y=\"independent\")\n",
    "\n",
    "    return chart"
   ]
  },
  {
   "cell_type": "code",
   "execution_count": null,
   "id": "4c602421-57b4-4380-a4e3-34265040ce95",
   "metadata": {},
   "outputs": [],
   "source": [
    "vp_df.columns"
   ]
  },
  {
   "cell_type": "code",
   "execution_count": null,
   "id": "d6db2d31-9ed9-4749-8c3b-dc8632339d2c",
   "metadata": {},
   "outputs": [],
   "source": [
    "filtered_route_charts(df, \"route_combined_name\")"
   ]
  },
  {
   "cell_type": "markdown",
   "id": "cd034707-2140-4b69-bece-f2f55b1eb6a0",
   "metadata": {
    "tags": []
   },
   "source": [
    "#### Fake Faceted Chart  Doesn't work. The dropdowns don't impact the charts."
   ]
  },
  {
   "cell_type": "code",
   "execution_count": null,
   "id": "9b803d06-7dd0-4d99-ac6f-07eb0564a3e2",
   "metadata": {},
   "outputs": [],
   "source": [
    "def fake_faceted_chart2(df: pd.DataFrame, column_of_interest: str, title=str):\n",
    "\n",
    "    ruler = (\n",
    "        alt.Chart(df)\n",
    "        .mark_rule(color=\"red\", strokeDash=[10, 7])\n",
    "        .encode(y=f\"mean({column_of_interest}):Q\")\n",
    "    )\n",
    "\n",
    "    dir_0 = df.loc[df.direction_id == 0]\n",
    "    dir_1 = df.loc[df.direction_id == 1]\n",
    "    chart_dir_0 = (\n",
    "        alt.Chart(\n",
    "            dir_0,\n",
    "            title=alt.Title(\n",
    "                title,\n",
    "                subtitle=\"Direction 0\",\n",
    "            ),\n",
    "        )\n",
    "        .mark_bar()\n",
    "        .encode(\n",
    "            x=alt.X(\"month_year\", title=labeling(\"month_year\")),\n",
    "            xOffset=\"time_period:N\",\n",
    "            y=alt.Y(f\"{column_of_interest}:Q\", title=labeling(column_of_interest)),\n",
    "            color=alt.Color(\n",
    "                \"time_period:N\",\n",
    "                scale=alt.Scale(range=cp.CALITP_CATEGORY_BRIGHT_COLORS),\n",
    "            ),\n",
    "        )\n",
    "        .properties(width=300, height=300)\n",
    "    )\n",
    "    chart_dir_1 = (\n",
    "        alt.Chart(\n",
    "            dir_1,\n",
    "            title=alt.Title(\n",
    "                \"Title\",\n",
    "                color=\"white\",\n",
    "                subtitle=\"Direction 1\",\n",
    "            ),\n",
    "        )\n",
    "        .mark_bar()\n",
    "        .encode(\n",
    "            x=alt.X(\"month_year\", title=labeling(\"month_year\")),\n",
    "            xOffset=\"time_period:N\",\n",
    "            y=alt.Y(f\"{column_of_interest}:Q\", axis=None),\n",
    "            color=alt.Color(\n",
    "                \"time_period:N\",\n",
    "                scale=alt.Scale(range=cp.CALITP_CATEGORY_BRIGHT_COLORS),\n",
    "            ),\n",
    "        )\n",
    "        .properties(width=300, height=300)\n",
    "    )\n",
    "    chart_dir_0 = chart_dir_0 + ruler\n",
    "    chart_dir_1 = chart_dir_1 + ruler\n",
    "    final_chart = alt.hconcat(chart_dir_0, chart_dir_1)\n",
    "    return final_chart"
   ]
  },
  {
   "cell_type": "code",
   "execution_count": null,
   "id": "d7b81123-9d69-4fd2-9ce5-2d3d9ff14a70",
   "metadata": {},
   "outputs": [],
   "source": [
    "def fake_faceted_chart(\n",
    "    df: pd.DataFrame,\n",
    "    control_field: str,\n",
    ") -> alt.Chart:\n",
    "    \"\"\"\n",
    "    https://stackoverflow.com/questions/58919888/multiple-selections-in-altair\n",
    "    \"\"\"\n",
    "    dropdown_list = df[\"route_combined_name\"].unique().tolist()\n",
    "    input_dropdown = alt.binding_select(options=dropdown_list, name=\"Routes\")\n",
    "    selection = alt.selection_point(fields=[\"route_combined_name\"], bind=input_dropdown)\n",
    "\n",
    "    selection = alt.selection_point(fields=[\"route_combined_name\"], bind=input_dropdown)\n",
    "    sched_df = df[df.sched_rt_category != \"vp_only\"]\n",
    "    vp_df = df[df.sched_rt_category != \"schedule_only\"]\n",
    "\n",
    "    daily_trips = fake_faceted_chart2(\n",
    "        sched_df, \"n_scheduled_trips\", \"Total Scheduled Daily Trips\"\n",
    "    )\n",
    "    frequency = fake_faceted_chart2(\n",
    "        sched_df, \"frequency\", \"Frequency of Trips per Hour\"\n",
    "    )\n",
    "    avg_speeds = fake_faceted_chart2(vp_df, \"speed_mph\", \"Average Speed\")\n",
    "\n",
    "    chart_lists = [daily_trips, frequency, avg_speeds]\n",
    "    chart = (\n",
    "        alt.vconcat(*chart_lists)\n",
    "        .resolve_scale(y=\"independent\")\n",
    "        .add_params(selection)\n",
    "        .transform_filter(selection)\n",
    "    )\n",
    "    display(chart)"
   ]
  },
  {
   "cell_type": "code",
   "execution_count": null,
   "id": "bbbfb0e1-32cf-4ae4-b73f-4aff3c33532c",
   "metadata": {},
   "outputs": [],
   "source": [
    "fake_faceted_chart(df, \"route_combined_name\")"
   ]
  }
 ],
 "metadata": {
  "kernelspec": {
   "display_name": "Python 3 (ipykernel)",
   "language": "python",
   "name": "python3"
  },
  "language_info": {
   "codemirror_mode": {
    "name": "ipython",
    "version": 3
   },
   "file_extension": ".py",
   "mimetype": "text/x-python",
   "name": "python",
   "nbconvert_exporter": "python",
   "pygments_lexer": "ipython3",
   "version": "3.9.13"
  }
 },
 "nbformat": 4,
 "nbformat_minor": 5
}
