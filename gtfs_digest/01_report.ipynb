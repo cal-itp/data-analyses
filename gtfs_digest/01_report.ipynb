{
 "cells": [
  {
   "cell_type": "markdown",
   "id": "9ef066ac-5f6d-4595-b819-0cdacbadd7fe",
   "metadata": {},
   "source": [
    "## Round 1 \n",
    "* https://github.com/cal-itp/data-analyses/issues/1059\n",
    "* cd rt_segment_speeds && pip install altair_transform && pip install -r requirements.txt && cd ../_shared_utils && make setup_env\n",
    "* https://docs.google.com/document/d/1I1WiqlmU06W6iLCi7cZQrOCLILkrEfABEkcU0Jys7f0/edit\n",
    "* https://route-speeds--cal-itp-data-analyses.netlify.app/name_bay-area-511-muni-schedule/0__report__name_bay-area-511-muni-schedule\n",
    "* https://posit-dev.github.io/great-tables/get-started/nanoplots.html\n",
    "* https://docs.pola.rs/py-polars/html/reference/api/polars.from_pandas.html\n",
    "* https://github.com/cal-itp/data-analyses/blob/main/rt_segment_speeds/_rt_scheduled_utils.py\n",
    "* https://github.com/cal-itp/data-analyses/blob/main/rt_segment_speeds/_threshold_utils.py"
   ]
  },
  {
   "cell_type": "code",
   "execution_count": null,
   "id": "41ffdcf4-2076-49c6-bae6-6ffb51f044b3",
   "metadata": {},
   "outputs": [],
   "source": [
    "%%capture\n",
    "# import warnings\n",
    "# warnings.filterwarnings('ignore')\n",
    "\n",
    "import altair as alt\n",
    "import calitp_data_analysis.magics\n",
    "import geopandas as gpd\n",
    "import great_tables as gt\n",
    "import pandas as pd\n",
    "from calitp_data_analysis import calitp_color_palette as cp\n",
    "from great_tables import md\n",
    "from IPython.display import HTML, Markdown, display\n",
    "from segment_speed_utils.project_vars import RT_SCHED_GCS\n",
    "from shared_utils import rt_dates, rt_utils\n",
    "\n",
    "alt.renderers.enable(\"html\")\n",
    "alt.data_transformers.enable(\"default\", max_rows=None)\n",
    "from typing import List, Union\n",
    "\n",
    "from altair_transform.extract import extract_transform\n",
    "from altair_transform.transform import visit\n",
    "from altair_transform.utils import to_dataframe"
   ]
  },
  {
   "cell_type": "code",
   "execution_count": null,
   "id": "6366b86d-cdad-4aa0-9b29-9e506cb63258",
   "metadata": {},
   "outputs": [],
   "source": [
    "pd.options.display.max_columns = 100\n",
    "pd.options.display.float_format = \"{:.2f}\".format\n",
    "pd.set_option(\"display.max_rows\", None)\n",
    "pd.set_option(\"display.max_colwidth\", None)"
   ]
  },
  {
   "cell_type": "code",
   "execution_count": null,
   "id": "f87b0483-ff6d-4ecc-aab6-3d5e61415b3c",
   "metadata": {},
   "outputs": [],
   "source": [
    "name = \"SBMTD Schedule\""
   ]
  },
  {
   "cell_type": "code",
   "execution_count": null,
   "id": "9066c35a-2d31-4257-9c10-08d20555e22a",
   "metadata": {
    "tags": [
     "parameters"
    ]
   },
   "outputs": [],
   "source": [
    "# %%capture_parameters\n",
    "# name"
   ]
  },
  {
   "cell_type": "markdown",
   "id": "f8eeff31-0646-416b-bcea-a25b1ce09823",
   "metadata": {},
   "source": [
    "### General Functions"
   ]
  },
  {
   "cell_type": "code",
   "execution_count": null,
   "id": "ddd64960-9bbc-463e-adfd-3422ee1690e0",
   "metadata": {},
   "outputs": [],
   "source": [
    "def labeling(word: str) -> str:\n",
    "    return (\n",
    "        word.replace(\"_\", \" \")\n",
    "        .title()\n",
    "        .replace(\"N\", \"Total\")\n",
    "        .replace(\"Pct\", \"%\")\n",
    "        .replace(\"Vp\", \"VP\")\n",
    "    )"
   ]
  },
  {
   "cell_type": "markdown",
   "id": "b29a8034-d069-4808-aaec-b69a72392054",
   "metadata": {},
   "source": [
    "### Data"
   ]
  },
  {
   "cell_type": "code",
   "execution_count": null,
   "id": "b95f85f0-b6af-4f7b-be04-9798e8254d99",
   "metadata": {},
   "outputs": [],
   "source": [
    "# calitp-analytics-data/data-analyses/rt_vs_schedule/digest\n",
    "df = pd.read_parquet(\n",
    "    f\"{RT_SCHED_GCS}digest/schedule_vp_metrics.parquet\",\n",
    "    filters=[[(\"name\", \"==\", name)]],\n",
    ")"
   ]
  },
  {
   "cell_type": "code",
   "execution_count": null,
   "id": "8d120285-facf-4a6f-9e90-6ee06e501487",
   "metadata": {},
   "outputs": [],
   "source": [
    "f\"{RT_SCHED_GCS}digest/schedule_vp_metrics.parquet\""
   ]
  },
  {
   "cell_type": "code",
   "execution_count": null,
   "id": "41774e8f-3a65-419f-a2ed-b70e06e7cfdb",
   "metadata": {},
   "outputs": [],
   "source": [
    "most_recent_date = df.service_date.max()"
   ]
  },
  {
   "cell_type": "code",
   "execution_count": null,
   "id": "0f5a85f3-9409-4474-aee1-914c57385777",
   "metadata": {},
   "outputs": [],
   "source": [
    "most_recent_date"
   ]
  },
  {
   "cell_type": "code",
   "execution_count": null,
   "id": "6acd6159-3600-460f-af9c-1c8621dd3d53",
   "metadata": {},
   "outputs": [],
   "source": [
    "df.service_date.min()"
   ]
  },
  {
   "cell_type": "markdown",
   "id": "796125cb-02f2-4bf8-a219-4eddb69ba601",
   "metadata": {},
   "source": [
    "#### Unsure what these metrics mean\n",
    "* https://github.com/cal-itp/data-analyses/blob/main/rt_segment_speeds/segment_speed_utils/metrics.py\n",
    "* avg_stop_miles: ??\n",
    "* n_scheduled_trips (over the course of a day?)\n",
    "* frequency: # of times the route runs per hour \n",
    "* pct_typology: 44% of the route fits into downtown local, the rest of the 54% falls under other categories??\n",
    "* is_early: # of trips in that route that are early\n",
    "* is_on_time: # of trips that are ontime.\n",
    "* n_vp_trips: # of trips in total\n",
    "* Difference between pct_rt_journey_atleast1vp and pct_sched_journey_atleast1vp?\n",
    "* rt_sched_journey_ratio: how many times longer/shorter the actual trip took compared to the scheduled trip?\n",
    "* avg_rt_servie_minutes?"
   ]
  },
  {
   "cell_type": "code",
   "execution_count": null,
   "id": "518457f4-4034-4461-be8e-51b25cae86b7",
   "metadata": {},
   "outputs": [],
   "source": [
    "df.head(2)"
   ]
  },
  {
   "cell_type": "code",
   "execution_count": null,
   "id": "add5a920-24e5-4b76-a1dc-d32968b8868f",
   "metadata": {},
   "outputs": [],
   "source": [
    "df.time_period.value_counts()"
   ]
  },
  {
   "cell_type": "markdown",
   "id": "4a7b4cbd-381f-43a9-9650-440ee6795bfa",
   "metadata": {},
   "source": [
    "#### Categorize"
   ]
  },
  {
   "cell_type": "code",
   "execution_count": null,
   "id": "e77924ec-4b37-4c36-8f23-c36fc4da27e5",
   "metadata": {},
   "outputs": [],
   "source": [
    "def frequency_tags(row):\n",
    "    if row.rt_sched_journey_ratio < 1:\n",
    "        return \"Early\"\n",
    "    elif row.rt_sched_journey_ratio < 1.1:\n",
    "        return \"On Time\"\n",
    "    elif 1.1 <= row.rt_sched_journey_ratio < 1.26:\n",
    "        return \"Late by 1-25% of the scheduled time\"\n",
    "    elif 1.26 <= row.rt_sched_journey_ratio < 1.51:\n",
    "        return \"Late by 26-50% of the scheduled time\"\n",
    "    elif 1.51 <= row.rt_sched_journey_ratio:\n",
    "        return \"Late by 50%+ of the scheduled time\"\n",
    "    else:\n",
    "        return \"No Info\"\n",
    "\n",
    "\n",
    "df[\"rt_sched_journey_ratio_cat\"] = df.apply(frequency_tags, axis=1)"
   ]
  },
  {
   "cell_type": "code",
   "execution_count": null,
   "id": "a45209e8-5958-454d-a897-2a9f78727571",
   "metadata": {},
   "outputs": [],
   "source": [
    "df[\"rt_sched_journey_ratio_cat\"].value_counts()"
   ]
  },
  {
   "cell_type": "code",
   "execution_count": null,
   "id": "fc616d37-45ad-4c5f-a426-7c2c8a784947",
   "metadata": {},
   "outputs": [],
   "source": [
    "df[[\"rt_sched_journey_ratio\", \"rt_sched_journey_ratio_cat\"]].sample(10)"
   ]
  },
  {
   "cell_type": "code",
   "execution_count": null,
   "id": "9936f6f9-6c22-4a9e-bcdb-a5a8b80f3b14",
   "metadata": {},
   "outputs": [],
   "source": [
    "def frequency_tags(row):\n",
    "    if row.frequency < 2:\n",
    "        return \"<1 trip/hour\"\n",
    "    elif 1 <= row.frequency < 2:\n",
    "        return \"1 trip/hour\"\n",
    "    elif 2 <= row.frequency < 3:\n",
    "        return \"2 trips/hour\"\n",
    "    elif 3 <= row.frequency:\n",
    "        return \"3+ trips/hour\"\n",
    "    else:\n",
    "        return \"No Info\"\n",
    "\n",
    "\n",
    "df[\"frequency_cat\"] = df.apply(frequency_tags, axis=1)"
   ]
  },
  {
   "cell_type": "code",
   "execution_count": null,
   "id": "05991682-acab-4e54-93fe-1f712072e8e3",
   "metadata": {},
   "outputs": [],
   "source": [
    "df[\"frequency_cat\"].value_counts()"
   ]
  },
  {
   "cell_type": "code",
   "execution_count": null,
   "id": "08cbb7e4-ee36-4e8d-ad76-26350bca1da3",
   "metadata": {},
   "outputs": [],
   "source": [
    "df[[\"frequency\", \"frequency_cat\"]].sample(10)"
   ]
  },
  {
   "cell_type": "code",
   "execution_count": null,
   "id": "df53ab15-3620-4379-a766-73e410200e3b",
   "metadata": {},
   "outputs": [],
   "source": [
    "def two_vps_tag(row):\n",
    "    if row.pct_rt_journey_atleast2_vp < 0.25:\n",
    "        return \"<25% of trip has 2+ pings\"\n",
    "    elif 0.25 <= row.pct_rt_journey_atleast2_vp < 0.51:\n",
    "        return \"25-50% of trip has 2+ pings\"\n",
    "    elif 0.51 <= row.pct_rt_journey_atleast2_vp < 0.76:\n",
    "        return \"51-75% of trip has 2+ pings\"\n",
    "    elif 0.76 <= row.pct_rt_journey_atleast2_vp < 0.99:\n",
    "        return \"76-99% of trip has 2+ pings\"\n",
    "    elif row.pct_rt_journey_atleast2_vp == 1:\n",
    "        return \"100% of trip has 2+ pings\"\n",
    "    else:\n",
    "        return \"No Info\"\n",
    "\n",
    "\n",
    "df[\"pct_rt_journey_atleast2_vp_cat\"] = df.apply(two_vps_tag, axis=1)"
   ]
  },
  {
   "cell_type": "code",
   "execution_count": null,
   "id": "4cd4b124-3cd4-48b4-9e95-6e1e4ad4b774",
   "metadata": {},
   "outputs": [],
   "source": [
    "df[\"pct_rt_journey_atleast2_vp_cat\"].value_counts()"
   ]
  },
  {
   "cell_type": "code",
   "execution_count": null,
   "id": "c2aa18e2-02fb-487b-9df4-f5c90997023e",
   "metadata": {},
   "outputs": [],
   "source": [
    "df[[\"pct_rt_journey_atleast2_vp\", \"pct_rt_journey_atleast2_vp_cat\"]].sample(10)"
   ]
  },
  {
   "cell_type": "code",
   "execution_count": null,
   "id": "cd9db989-b088-49a3-88b1-8ee58682a9c6",
   "metadata": {},
   "outputs": [],
   "source": [
    "def spatial_accuracy_tag(row):\n",
    "    if row.pct_in_shape < 0.5:\n",
    "        return \"<50% of VPs in shape\"\n",
    "    elif 0.5 <= row.pct_in_shape < 0.76:\n",
    "        return \"50-75% of VPs in shape\"\n",
    "    elif 0.76 <= row.pct_in_shape < 1:\n",
    "        return \"76-99% of VPs in shape\"\n",
    "    elif row.pct_in_shape == 1:\n",
    "        return \"100% of VPs in shape\"\n",
    "    else:\n",
    "        return \"No Info\"\n",
    "\n",
    "\n",
    "df[\"pct_in_shape_cat\"] = df.apply(spatial_accuracy_tag, axis=1)"
   ]
  },
  {
   "cell_type": "code",
   "execution_count": null,
   "id": "df28714f-9b71-46c8-9af3-79c559b5e602",
   "metadata": {},
   "outputs": [],
   "source": [
    "df[[\"pct_in_shape\", \"pct_in_shape_cat\"]].sample(10)"
   ]
  },
  {
   "cell_type": "code",
   "execution_count": null,
   "id": "9d8ed90d-2182-41cf-9713-7ebeeab04cc5",
   "metadata": {},
   "outputs": [],
   "source": [
    "def vp_per_min_tag(row):\n",
    "    if row.vp_per_minute < 1:\n",
    "        return \"<1 ping/minute\"\n",
    "    elif 1 <= row.vp_per_minute < 2:\n",
    "        return \"<3 pings/minute\"\n",
    "    elif 2 <= row.vp_per_minute < 3:\n",
    "        return \"<3 pings/minute\"\n",
    "    elif 3 <= row.vp_per_minute:\n",
    "        return \"3+ pings per minute (target)\"\n",
    "    else:\n",
    "        return \"No Info\"\n",
    "\n",
    "\n",
    "df[\"vp_per_minute_cat\"] = df.apply(vp_per_min_tag, axis=1)"
   ]
  },
  {
   "cell_type": "code",
   "execution_count": null,
   "id": "7300cfa2-57d9-4701-80e2-a5ca01ebb1a4",
   "metadata": {},
   "outputs": [],
   "source": [
    "df[[\"vp_per_minute\", \"vp_per_minute_cat\"]].sample(10)"
   ]
  },
  {
   "cell_type": "code",
   "execution_count": null,
   "id": "dc3fecba-9f23-434c-aff0-4ffc96c071b9",
   "metadata": {},
   "outputs": [],
   "source": [
    "df.vp_per_minute_cat.value_counts()"
   ]
  },
  {
   "cell_type": "markdown",
   "id": "329abf27-6057-4c98-852d-f879a0f520a7",
   "metadata": {},
   "source": [
    "### Test out Altair `extract_data`\n",
    "* https://altair-viz.github.io/user_guide/transform/index.html"
   ]
  },
  {
   "cell_type": "code",
   "execution_count": null,
   "id": "c8e711c9-e0d8-4dec-a41d-33ae85a54e96",
   "metadata": {},
   "outputs": [],
   "source": [
    "__all__ = [\"apply\", \"extract_data\", \"transform_chart\"]"
   ]
  },
  {
   "cell_type": "code",
   "execution_count": null,
   "id": "a49018c5-974e-4ee9-a449-c3950243a668",
   "metadata": {},
   "outputs": [],
   "source": [
    "def reverse_snakecase(df):\n",
    "    \"\"\"\n",
    "    Clean up columns to remove underscores and spaces.\n",
    "    \"\"\"\n",
    "    df.columns = df.columns.str.replace(\"_\", \" \").str.strip().str.title()\n",
    "    return df"
   ]
  },
  {
   "cell_type": "code",
   "execution_count": null,
   "id": "6a248268-f7b1-45d0-aa21-5488d581dfa2",
   "metadata": {},
   "outputs": [],
   "source": [
    "def apply(\n",
    "    df: pd.DataFrame,\n",
    "    transform: Union[alt.Transform, List[alt.Transform]],\n",
    "    inplace: bool = False,\n",
    ") -> pd.DataFrame:\n",
    "    \"\"\"Apply transform or transforms to dataframe.\n",
    "\n",
    "    Parameters\n",
    "    ----------\n",
    "    df : pd.DataFrame\n",
    "    transform : list|dict\n",
    "        A transform specification or list of transform specifications.\n",
    "        Each specification must be valid according to Altair's transform\n",
    "        schema.\n",
    "    inplace : bool\n",
    "        If True, then dataframe may be modified in-place. Default: False.\n",
    "\n",
    "    Returns\n",
    "    -------\n",
    "    df_transformed : pd.DataFrame\n",
    "        The transformed dataframe.\n",
    "\n",
    "    Example\n",
    "    -------\n",
    "    >>> import pandas as pd\n",
    "    >>> data = pd.DataFrame({'x': range(5), 'y': list('ABCAB')})\n",
    "    >>> chart = alt.Chart(data).transform_aggregate(sum_x='sum(x)', groupby=['y'])\n",
    "    >>> apply(data, chart.transform)\n",
    "       y  sum_x\n",
    "    0  A      3\n",
    "    1  B      5\n",
    "    2  C      2\n",
    "    \"\"\"\n",
    "    if not inplace:\n",
    "        df = df.copy()\n",
    "    if transform is alt.Undefined:\n",
    "        return df\n",
    "    return visit(transform, df)"
   ]
  },
  {
   "cell_type": "code",
   "execution_count": null,
   "id": "a558b371-dda8-4b81-821f-0f45f1fcae76",
   "metadata": {},
   "outputs": [],
   "source": [
    "def extract_data(\n",
    "    chart: alt.Chart, apply_encoding_transforms: bool = True\n",
    ") -> pd.DataFrame:\n",
    "    \"\"\"Extract transformed data from a chart.\n",
    "\n",
    "    This only works with data and transform defined at the\n",
    "    top level of the chart.\n",
    "\n",
    "    Parameters\n",
    "    ----------\n",
    "    chart : alt.Chart\n",
    "        The chart instance from which the data and transform\n",
    "        will be extracted\n",
    "    apply_encoding_transforms : bool\n",
    "        If True (default), then apply transforms specified within an\n",
    "        encoding as well as those specified directly in the transforms\n",
    "        attribute.\n",
    "\n",
    "    Returns\n",
    "    -------\n",
    "    df_transformed : pd.DataFrame\n",
    "        The extracted and transformed dataframe.\n",
    "\n",
    "    Example\n",
    "    -------\n",
    "    >>> import pandas as pd\n",
    "    >>> data = pd.DataFrame({'x': range(5), 'y': list('ABCAB')})\n",
    "    >>> chart = alt.Chart(data).mark_bar().encode(x='sum(x)', y='y')\n",
    "    >>> extract_data(chart)\n",
    "       y  sum_x\n",
    "    0  A      3\n",
    "    1  B      5\n",
    "    2  C      2\n",
    "    \"\"\"\n",
    "    if apply_encoding_transforms:\n",
    "        chart = extract_transform(chart)\n",
    "    return apply(to_dataframe(chart.data, chart), chart.transform)"
   ]
  },
  {
   "cell_type": "code",
   "execution_count": null,
   "id": "b8c88270-b18d-42c3-9086-4cfe718cfb6d",
   "metadata": {},
   "outputs": [],
   "source": [
    "data = pd.DataFrame({\"x\": range(5), \"y\": list(\"ABCAB\")})"
   ]
  },
  {
   "cell_type": "code",
   "execution_count": null,
   "id": "d7a371e2-c667-43c4-9dfa-3cf4087a4f6e",
   "metadata": {},
   "outputs": [],
   "source": [
    "chart = alt.Chart(data).mark_bar().encode(x=\"sum(x)\", y=\"y\")"
   ]
  },
  {
   "cell_type": "code",
   "execution_count": null,
   "id": "4130860e-5492-44c4-b1b1-5f29874ebadd",
   "metadata": {},
   "outputs": [],
   "source": [
    "chart"
   ]
  },
  {
   "cell_type": "code",
   "execution_count": null,
   "id": "dfddc64f-dd43-468d-9372-62acb84ba04b",
   "metadata": {},
   "outputs": [],
   "source": [
    "extract_data(chart)"
   ]
  },
  {
   "cell_type": "code",
   "execution_count": null,
   "id": "4b5a79dd-6ac3-4dea-8e17-249ea9fb55c2",
   "metadata": {},
   "outputs": [],
   "source": [
    "def extract_data_altair(chart):\n",
    "    chart_dict = chart.to_dict()\n",
    "    encoding = chart_dict[\"datasets\"]\n",
    "    df1 = pd.DataFrame(encoding)\n",
    "\n",
    "    column = df1.columns[0]\n",
    "    normalized_df = pd.json_normalize(df1[column])\n",
    "    # Combine the original DataFrame with the extracted values DataFrame\n",
    "    df2 = pd.concat([df1.drop(column, axis=1), normalized_df], axis=1)\n",
    "    return df2"
   ]
  },
  {
   "cell_type": "markdown",
   "id": "bc6c077f-7957-4105-a661-0f8b8e68a8b5",
   "metadata": {},
   "source": [
    "### Monthly aggregated service hours by day_type, time_of_day"
   ]
  },
  {
   "cell_type": "code",
   "execution_count": null,
   "id": "93fd9eb6-593d-47ff-a875-5a59fdd32066",
   "metadata": {},
   "outputs": [],
   "source": [
    "from segment_speed_utils.project_vars import SCHED_GCS"
   ]
  },
  {
   "cell_type": "code",
   "execution_count": null,
   "id": "6c4cbe7e-00cf-4037-9ac8-be00588b5324",
   "metadata": {},
   "outputs": [],
   "source": [
    "year = \"2023\""
   ]
  },
  {
   "cell_type": "code",
   "execution_count": null,
   "id": "93064ff9-63cf-45cc-ba32-2433f783abe7",
   "metadata": {},
   "outputs": [],
   "source": [
    "monthly_service_df = pd.read_parquet(\n",
    "    f\"{SCHED_GCS}scheduled_service_by_route_{year}.parquet\",\n",
    "    filters=[[(\"name\", \"==\", name)]],\n",
    ")"
   ]
  },
  {
   "cell_type": "code",
   "execution_count": null,
   "id": "193e68c7-c681-46b4-8ff8-7d645497958d",
   "metadata": {},
   "outputs": [],
   "source": [
    "# Paid single digit int with 0\n",
    "monthly_service_df[\"month\"] = monthly_service_df[\"month\"].astype(str).str.zfill(2)"
   ]
  },
  {
   "cell_type": "code",
   "execution_count": null,
   "id": "22fabf57-9598-408f-90ea-071ee026a8aa",
   "metadata": {},
   "outputs": [],
   "source": [
    "monthly_service_df[\"full_date\"] = (\n",
    "    monthly_service_df.month.astype(str) + \"-\" + monthly_service_df.year.astype(str)\n",
    ")"
   ]
  },
  {
   "cell_type": "code",
   "execution_count": null,
   "id": "e4472b6c-14f1-4ea9-842b-d8bb37fb8998",
   "metadata": {},
   "outputs": [],
   "source": [
    "monthly_service_df.sample(2)"
   ]
  },
  {
   "cell_type": "code",
   "execution_count": null,
   "id": "f99bd92c-9778-41c2-9966-d06d2bf0ef77",
   "metadata": {},
   "outputs": [],
   "source": [
    "def tag_day(df: pd.DataFrame) -> pd.DataFrame:\n",
    "    # Function to determine if a date is a weekend day or a weekday\n",
    "    def which_day(date):\n",
    "        if date == 1:\n",
    "            return \"Monday\"\n",
    "        elif date == 2:\n",
    "            return \"Tuesday\"\n",
    "        elif date == 3:\n",
    "            return \"Wednesday\"\n",
    "        elif date == 4:\n",
    "            return \"Thursday\"\n",
    "        elif date == 5:\n",
    "            return \"Friday\"\n",
    "        elif date == 6:\n",
    "            return \"Saturday\"\n",
    "        else:\n",
    "            return \"Sunday\"\n",
    "\n",
    "    # Apply the function to each value in the \"service_date\" column\n",
    "    df[\"day_type\"] = df[\"day_type\"].apply(which_day)\n",
    "\n",
    "    return df"
   ]
  },
  {
   "cell_type": "code",
   "execution_count": null,
   "id": "e31e1663-11a7-410a-942f-3c8a08531bfe",
   "metadata": {},
   "outputs": [],
   "source": [
    "monthly_service_df = tag_day(monthly_service_df)"
   ]
  },
  {
   "cell_type": "code",
   "execution_count": null,
   "id": "4c694df1-3871-4f81-9478-538868704ec1",
   "metadata": {},
   "outputs": [],
   "source": [
    "monthly_service = (\n",
    "    monthly_service_df.groupby(\n",
    "        [\n",
    "            \"full_date\",\n",
    "            \"month\",\n",
    "            \"name\",\n",
    "            \"day_type\",\n",
    "            \"time_of_day\",\n",
    "        ]\n",
    "    )\n",
    "    .agg(\n",
    "        {\n",
    "            \"ttl_service_hours\": \"mean\",\n",
    "        }\n",
    "    )\n",
    "    .reset_index()\n",
    ")"
   ]
  },
  {
   "cell_type": "markdown",
   "id": "9e8a9880-8616-4c3f-99e7-7a98a88dc498",
   "metadata": {},
   "source": [
    "####  Fix\n",
    "* Dropdown menu should have the fully spelled months?\n",
    "* Dropdown menu does not like datetime values, pad single digit months with a 0 and concat it with the year?"
   ]
  },
  {
   "cell_type": "code",
   "execution_count": null,
   "id": "3037cae2-8cfd-4660-8524-62500f25818d",
   "metadata": {
    "scrolled": true,
    "tags": []
   },
   "outputs": [],
   "source": [
    "def bar_chart_dropdown(\n",
    "    df: pd.DataFrame,\n",
    "    x_col: str,\n",
    "    y_col: str,\n",
    "    offset_col: str,\n",
    "    title: str,\n",
    "    dropdown_col: str,\n",
    "):\n",
    "    dropdown_list = sorted(df[dropdown_col].unique().tolist())\n",
    "\n",
    "    initialize_first_val = sorted(dropdown_list)[0]\n",
    "\n",
    "    dropdown = alt.binding_select(options=dropdown_list, name=labeling(dropdown_col))\n",
    "\n",
    "    selector = alt.selection_single(\n",
    "        name=labeling(dropdown_col), fields=[dropdown_col], bind=dropdown\n",
    "    )\n",
    "\n",
    "    ruler = (\n",
    "        alt.Chart(df)\n",
    "        .mark_rule(color=\"red\", strokeDash=[10, 7])\n",
    "        .encode(y=f\"mean({y_col}):Q\")\n",
    "    )\n",
    "\n",
    "    chart = (\n",
    "        alt.Chart(monthly_service)\n",
    "        .mark_bar()\n",
    "        .encode(\n",
    "            x=alt.X(\n",
    "                f\"{x_col}:N\",\n",
    "                title=\"Day\",\n",
    "                scale=alt.Scale(\n",
    "                    domain=[\n",
    "                        \"Monday\",\n",
    "                        \"Tuesday\",\n",
    "                        \"Wednesday\",\n",
    "                        \"Thursday\",\n",
    "                        \"Friday\",\n",
    "                        \"Saturday\",\n",
    "                        \"Sunday\",\n",
    "                    ]\n",
    "                ),\n",
    "            ),\n",
    "            y=alt.Y(f\"{y_col}:Q\", title=labeling(y_col)),\n",
    "            xOffset=f\"{offset_col}:N\",\n",
    "            color=alt.Color(\n",
    "                f\"{offset_col}:N\",\n",
    "                scale=alt.Scale(\n",
    "                    range=cp.CALITP_SEQUENTIAL_COLORS,\n",
    "                ),\n",
    "            ),\n",
    "            tooltip=df.columns.tolist(),\n",
    "        )\n",
    "    )\n",
    "    chart = (chart + ruler).properties(title=title, width=600, height=400)\n",
    "    chart = chart.add_params(selector).transform_filter(selector)\n",
    "    # data = chart.transformed_data()\n",
    "\n",
    "    display(chart)"
   ]
  },
  {
   "cell_type": "code",
   "execution_count": null,
   "id": "a044e19a-7bc3-43dd-a79b-f07557e59e97",
   "metadata": {},
   "outputs": [],
   "source": []
  },
  {
   "cell_type": "code",
   "execution_count": null,
   "id": "499cdb97-c413-4c64-ae9d-67cc6d73a527",
   "metadata": {
    "tags": []
   },
   "outputs": [],
   "source": [
    "bar_chart_dropdown(\n",
    "    monthly_service,\n",
    "    \"day_type\",\n",
    "    \"ttl_service_hours\",\n",
    "    \"time_of_day\",\n",
    "    \"Average Total Service Hours across all Routes in 2023\",\n",
    "    \"full_date\",\n",
    ")"
   ]
  },
  {
   "cell_type": "markdown",
   "id": "3f7d5b95-627d-4e37-88da-02a84a5c26eb",
   "metadata": {},
   "source": [
    "### Monthly Trends\n",
    "* https://posit-dev.github.io/great-tables/articles/intro.html"
   ]
  },
  {
   "cell_type": "code",
   "execution_count": null,
   "id": "7152c33f-d4ed-4152-a7d1-b386fd0e4443",
   "metadata": {},
   "outputs": [],
   "source": [
    "by_date_category = (\n",
    "    pd.crosstab(\n",
    "        df.service_date,\n",
    "        df.sched_rt_category,\n",
    "        values=df.n_scheduled_trips,\n",
    "        aggfunc=\"sum\",\n",
    "    )\n",
    "    .reset_index()\n",
    "    .fillna(0)\n",
    ")"
   ]
  },
  {
   "cell_type": "code",
   "execution_count": null,
   "id": "84a1a2a8-1919-48ea-93d6-7037f76542a2",
   "metadata": {},
   "outputs": [],
   "source": [
    "(\n",
    "    gt.GT(by_date_category, rowname_col=\"service_date\")\n",
    "    .tab_header(\n",
    "        title=\"Daily Trips by GTFS Availability\",\n",
    "        subtitle=\"Schedule only indicates the trip(s) were found only in schedule data. Vehicle Positions (VP) only indicates the trip(s) were found only in real-time data.\",\n",
    "    )\n",
    "    .cols_label(\n",
    "        schedule_only=\"Schedule Only\",\n",
    "        vp_only=\"VP Only\",\n",
    "        schedule_and_vp=\"Schedule and VP\",\n",
    "    )\n",
    "    .fmt_integer([\"schedule_only\", \"vp_only\", \"schedule_and_vp\"])\n",
    "    .tab_options(container_width=\"100%\")\n",
    "    .tab_options(table_font_size=\"12px\")\n",
    ")"
   ]
  },
  {
   "cell_type": "markdown",
   "id": "ed356076-0d49-43cc-b6fe-cc787aa51aaa",
   "metadata": {},
   "source": [
    "#### GTFS Availability"
   ]
  },
  {
   "cell_type": "code",
   "execution_count": null,
   "id": "0369154c-3570-47d2-95c2-325705fd6570",
   "metadata": {},
   "outputs": [],
   "source": [
    "route_categories = (\n",
    "    df[df.time_period == \"all_day\"]\n",
    "    .groupby(\"sched_rt_category\")\n",
    "    .agg({\"route_combined_name\": \"nunique\"})\n",
    "    .reset_index()\n",
    ")"
   ]
  },
  {
   "cell_type": "code",
   "execution_count": null,
   "id": "f908bd5d-d5e0-406d-b5a5-030fe373aa8c",
   "metadata": {},
   "outputs": [],
   "source": [
    "route_categories.sched_rt_category = (\n",
    "    route_categories.sched_rt_category.str.replace(\"_\", \" \")\n",
    "    .str.title()\n",
    "    .str.replace(\"Vp\", \"VP\")\n",
    ")"
   ]
  },
  {
   "cell_type": "code",
   "execution_count": null,
   "id": "71260947-b131-46a5-887c-a139e42ad73a",
   "metadata": {},
   "outputs": [],
   "source": [
    "(\n",
    "    gt.GT(data=route_categories.dropna())\n",
    "    .fmt_integer(columns=[\"route_combined_name\"], compact=True)\n",
    "    .cols_label(route_combined_name=\"Total Routes\", sched_rt_category=\"Category\")\n",
    "    .tab_options(container_width=\"100%\")\n",
    "    .tab_header(\n",
    "        title=\"Routes with GTFS Availability\",\n",
    "        subtitle=\"Schedule only indicates the route(s) were found only in static, schedule data. Vehicle Positions (VP) only indicates the route(s) were found only in real-time data.\",\n",
    "    )\n",
    "    .tab_options(table_font_size=\"12px\")\n",
    ")"
   ]
  },
  {
   "cell_type": "markdown",
   "id": "e7112b41-3a68-4c7e-ad43-98773555f457",
   "metadata": {},
   "source": [
    "#### Route Stats"
   ]
  },
  {
   "cell_type": "code",
   "execution_count": null,
   "id": "558ad742-093d-4949-a71a-b3ca629e8979",
   "metadata": {},
   "outputs": [],
   "source": [
    "def route_stats(df: pd.DataFrame) -> pd.DataFrame:\n",
    "    route_merge_cols = [\"route_combined_name\", \"direction_id\"]\n",
    "\n",
    "    all_day_stats = df[\n",
    "        (df.service_date == most_recent_date) & (df.time_period == \"all_day\")\n",
    "    ][\n",
    "        route_merge_cols\n",
    "        + [\n",
    "            \"avg_scheduled_service_minutes\",\n",
    "            \"avg_stop_miles\",\n",
    "            \"n_scheduled_trips\",\n",
    "            \"sched_rt_category\",\n",
    "        ]\n",
    "    ]\n",
    "\n",
    "    peak_stats = df[(df.service_date == most_recent_date) & (df.time_period == \"peak\")][\n",
    "        route_merge_cols + [\"speed_mph\", \"n_scheduled_trips\", \"frequency\"]\n",
    "    ].rename(\n",
    "        columns={\n",
    "            \"speed_mph\": \"peak_avg_speed\",\n",
    "            \"n_scheduled_trips\": \"peak_scheduled_trips\",\n",
    "            \"frequency\": \"peak_hourly_freq\",\n",
    "        }\n",
    "    )\n",
    "\n",
    "    offpeak_stats = df[\n",
    "        (df.service_date == most_recent_date) & (df.time_period == \"offpeak\")\n",
    "    ][route_merge_cols + [\"speed_mph\", \"n_scheduled_trips\", \"frequency\"]].rename(\n",
    "        columns={\n",
    "            \"speed_mph\": \"offpeak_avg_speed\",\n",
    "            \"n_scheduled_trips\": \"offpeak_scheduled_trips\",\n",
    "            \"frequency\": \"offpeak_hourly_freq\",\n",
    "        }\n",
    "    )\n",
    "\n",
    "    table_df = (\n",
    "        pd.merge(\n",
    "            all_day_stats,\n",
    "            peak_stats,\n",
    "            on=route_merge_cols,\n",
    "        )\n",
    "        .merge(offpeak_stats, on=route_merge_cols)\n",
    "        .sort_values([\"route_combined_name\", \"direction_id\"])\n",
    "        .reset_index(drop=True)\n",
    "    )\n",
    "\n",
    "    numeric_cols = table_df.select_dtypes(include=\"number\").columns\n",
    "    table_df[numeric_cols] = table_df[numeric_cols].fillna(0)\n",
    "\n",
    "    return table_df"
   ]
  },
  {
   "cell_type": "code",
   "execution_count": null,
   "id": "efeb4d0d-0783-4af0-abcd-0b35cffd8f68",
   "metadata": {},
   "outputs": [],
   "source": [
    "table_df = route_stats(df)"
   ]
  },
  {
   "cell_type": "markdown",
   "id": "fd140a45-4933-44e5-82e5-9ec9ed7779f3",
   "metadata": {
    "tags": []
   },
   "source": [
    "### Updating  Charts\n",
    "* checking out another ways to display metrics, which ones can be cut."
   ]
  },
  {
   "cell_type": "code",
   "execution_count": null,
   "id": "c5899040-b0e5-4ee2-a265-e2c1b4b33794",
   "metadata": {},
   "outputs": [],
   "source": [
    "sched_df = df[df.sched_rt_category != \"vp_only\"]\n",
    "vp_df = df[df.sched_rt_category != \"schedule_only\"]\n",
    "\n",
    "sched_service_chart = sched_df[sched_df.time_period == \"all_day\"]"
   ]
  },
  {
   "cell_type": "markdown",
   "id": "fc626e58-0b8c-45bb-86f8-48b38289cfbe",
   "metadata": {
    "tags": []
   },
   "source": [
    "#### Graph Functions\n",
    "* What if a subtitle needs to be broken up?"
   ]
  },
  {
   "cell_type": "code",
   "execution_count": null,
   "id": "3ba90525-be58-4c99-8e8d-4b090a7c81ea",
   "metadata": {},
   "outputs": [],
   "source": [
    "blue_palette = [\"#B9D6DF\", \"#2EA8CE\", \"#0B405B\"]"
   ]
  },
  {
   "cell_type": "code",
   "execution_count": null,
   "id": "30cfb82a-0ee3-435a-8069-942704997e0c",
   "metadata": {},
   "outputs": [],
   "source": [
    "def grouped_bar_chart(\n",
    "    df: pd.DataFrame,\n",
    "    color_col: str,\n",
    "    y_col: str,\n",
    "    offset_col: str,\n",
    "    title: str,\n",
    "    subtitle: str,\n",
    "):\n",
    "    df = df.assign(\n",
    "        time_period=df.time_period.str.replace(\"_\", \" \").str.title()\n",
    "    ).reset_index(drop=True)\n",
    "\n",
    "    df[y_col] = df[y_col].fillna(0).astype(int)\n",
    "    tooltip_cols = [\n",
    "        \"direction_id\",\n",
    "        \"time_period\",\n",
    "        \"route_combined_name\",\n",
    "        \"organization_name\",\n",
    "        \"service_date\",\n",
    "        y_col,\n",
    "    ]\n",
    "    \"\"\" \n",
    "    ruler = (\n",
    "        alt.Chart(df)\n",
    "        .mark_rule(color=\"red\", strokeDash=[10, 7])\n",
    "        .encode(y=f\"mean({y_col}):Q\")\n",
    "    )\n",
    "    \"\"\"\n",
    "    chart = (\n",
    "        alt.Chart(df)\n",
    "        .mark_bar(size=10)\n",
    "        .encode(\n",
    "            x=alt.X(\n",
    "                \"yearmonthdate(service_date):O\",\n",
    "                title=[\"Grouped by Direction ID\", \"Date\"],\n",
    "                axis=alt.Axis(format=\"%b %Y\"),\n",
    "            ),\n",
    "            y=alt.Y(f\"{y_col}:Q\", title=labeling(y_col)),\n",
    "            xOffset=alt.X(f\"{offset_col}:N\", title=labeling(offset_col)),\n",
    "            color=alt.Color(\n",
    "                f\"{color_col}:N\",\n",
    "                title=labeling(color_col),\n",
    "                scale=alt.Scale(\n",
    "                    range=blue_palette,\n",
    "                ),\n",
    "            ),\n",
    "            tooltip=tooltip_cols,\n",
    "        )\n",
    "    )\n",
    "    chart = (chart).properties(\n",
    "        title={\n",
    "            \"text\": [title],\n",
    "            \"subtitle\": [subtitle],\n",
    "        },\n",
    "        width=500,\n",
    "        height=300,\n",
    "    )\n",
    "\n",
    "    return chart"
   ]
  },
  {
   "cell_type": "code",
   "execution_count": null,
   "id": "40a38cc7-0ca7-4335-be9c-8fc031c03530",
   "metadata": {},
   "outputs": [],
   "source": [
    "def heatmap(\n",
    "    df: pd.DataFrame,\n",
    "    color_col: str,\n",
    "    title: str,\n",
    "    subtitle1: str,\n",
    "    subtitle2: str,\n",
    "    subtitle3: str,\n",
    "):\n",
    "    df = df.assign(\n",
    "        time_period=df.time_period.str.replace(\"_\", \" \").str.title()\n",
    "    ).reset_index(drop=True)\n",
    "\n",
    "    # Grab original column that wasn't categorized\n",
    "    original_col = color_col.replace(\"_cat\", \"\")\n",
    "\n",
    "    tooltip_cols = [\n",
    "        \"direction_id\",\n",
    "        \"time_period\",\n",
    "        \"route_combined_name\",\n",
    "        \"organization_name\",\n",
    "        color_col,\n",
    "        original_col,\n",
    "    ]\n",
    "\n",
    "    # Round\n",
    "    # df[color_col] = df[color_col].round(1)\n",
    "    chart = (\n",
    "        alt.Chart(df)\n",
    "        .mark_rect(size=30)\n",
    "        .encode(\n",
    "            x=alt.X(\n",
    "                \"yearmonthdate(service_date):O\",\n",
    "                axis=alt.Axis(labelAngle=-45, format=\"%b %Y\"),\n",
    "                title=[\"Grouped by Direction ID\", \"Service Date\"],\n",
    "            ),\n",
    "            y=alt.Y(\"time_period:O\", title=[\"Time Period\"]),\n",
    "            xOffset=alt.X(f\"direction_id:N\", title=\"Direction ID\"),\n",
    "            color=alt.Color(\n",
    "                f\"{color_col}:N\",\n",
    "                title=labeling(color_col),\n",
    "                scale=alt.Scale(range=cp.CALITP_SEQUENTIAL_COLORS),\n",
    "            ),\n",
    "            tooltip=tooltip_cols,\n",
    "        )\n",
    "        .properties(\n",
    "            title={\"text\": [title], \"subtitle\": [subtitle1, subtitle2, subtitle3]},\n",
    "            width=500,\n",
    "            height=300,\n",
    "        )\n",
    "    )\n",
    "\n",
    "    text = chart.mark_text(baseline=\"middle\").encode(\n",
    "        alt.Text(\"direction_id\"), color=alt.value(\"white\")\n",
    "    )\n",
    "\n",
    "    final_chart = chart + text\n",
    "    return final_chart"
   ]
  },
  {
   "cell_type": "code",
   "execution_count": null,
   "id": "0fb6fb3d-2df3-44c8-87ef-b245903ee3e6",
   "metadata": {},
   "outputs": [],
   "source": [
    "def base_route_chart_ah(\n",
    "    df: pd.DataFrame, y_col: str, title: str, subtitle: str\n",
    ") -> alt.Chart:\n",
    "\n",
    "    df = df.assign(\n",
    "        time_period=df.time_period.str.replace(\"_\", \" \").str.title()\n",
    "    ).reset_index(drop=True)\n",
    "\n",
    "    selected_colors = [\n",
    "        cp.CALITP_CATEGORY_BRIGHT_COLORS[0],  # blue\n",
    "        cp.CALITP_CATEGORY_BRIGHT_COLORS[3],  # green\n",
    "        cp.CALITP_CATEGORY_BOLD_COLORS[1],  # orange,\n",
    "    ]\n",
    "\n",
    "    # https://stackoverflow.com/questions/26454649/python-round-up-to-the-nearest-ten\n",
    "\n",
    "    if \"pct\" in y_col:\n",
    "        max_y = 1.2\n",
    "    elif \"per_minute\" in y_col:\n",
    "        max_y = round(df[y_col].max())\n",
    "    else:\n",
    "        max_y = round(df[y_col].max(), -1) + 5\n",
    "\n",
    "    df[f\"{y_col}_str\"] = df[y_col].astype(str)\n",
    "\n",
    "    ruler = (\n",
    "        alt.Chart(df)\n",
    "        .mark_rule(color=\"red\", strokeDash=[10, 7])\n",
    "        .encode(y=f\"mean(speed_mph):Q\")\n",
    "    )\n",
    "\n",
    "    chart = (\n",
    "        alt.Chart(df)\n",
    "        .mark_line(size=5)\n",
    "        .encode(\n",
    "            x=alt.X(\n",
    "                \"yearmonthdate(service_date):O\",\n",
    "                title=\"Date\",\n",
    "                axis=alt.Axis(format=\"%b %Y\"),\n",
    "            ),\n",
    "            y=alt.Y(\n",
    "                f\"{y_col}:Q\", title=labeling(y_col), scale=alt.Scale(domain=[0, max_y])\n",
    "            ),\n",
    "            color=alt.Color(\n",
    "                \"time_period:N\",\n",
    "                title=labeling(\"time_period\"),\n",
    "                scale=alt.Scale(range=blue_palette),\n",
    "            ),\n",
    "            tooltip=[\n",
    "                \"route_combined_name\",\n",
    "                \"route_id\",\n",
    "                \"direction_id\",\n",
    "                \"time_period\",\n",
    "                f\"{y_col}_str\",\n",
    "            ],\n",
    "        )\n",
    "    )\n",
    "\n",
    "    chart = (chart + ruler).properties(width=250, height=300)\n",
    "    chart = chart.facet(\n",
    "        column=alt.Column(\"direction_id:N\", title=labeling(\"direction_id\")),\n",
    "    ).properties(\n",
    "        title={\n",
    "            \"text\": [title],\n",
    "            \"subtitle\": [subtitle],\n",
    "        },\n",
    "    )\n",
    "    return chart"
   ]
  },
  {
   "cell_type": "code",
   "execution_count": null,
   "id": "0b1f34c2-bcec-4e7f-81a5-c2fd7e7d4d9d",
   "metadata": {},
   "outputs": [],
   "source": [
    "one_route = sched_df.loc[sched_df.route_combined_name == \"1 West Santa Barbara\"]"
   ]
  },
  {
   "cell_type": "markdown",
   "id": "c6580abb-e487-448d-a2c9-1949998fa04e",
   "metadata": {},
   "source": [
    "#### Avg Scheduled Minutes'\n",
    "* How come the average_scheduled_minutes is a lot shorter than total_rt_service_minutes and total_scheduled_service_minutes?\n",
    "* Kind of a boring chart? Should compare actual run time compared to service minutes?"
   ]
  },
  {
   "cell_type": "code",
   "execution_count": null,
   "id": "1bbbe928-12bb-49a2-84df-c64374a64686",
   "metadata": {},
   "outputs": [],
   "source": [
    "# one_route[one_route.time_period == \"all_day\"][['avg_scheduled_service_minutes']]"
   ]
  },
  {
   "cell_type": "code",
   "execution_count": null,
   "id": "0d569675-e6c4-4901-9157-e9da53cef48e",
   "metadata": {},
   "outputs": [],
   "source": [
    "grouped_bar_chart(\n",
    "    df=one_route[one_route.time_period == \"all_day\"],\n",
    "    color_col=\"direction_id\",\n",
    "    y_col=\"avg_scheduled_service_minutes\",\n",
    "    offset_col=\"direction_id\",\n",
    "    title=\"Average Scheduled Minutes\",\n",
    "    subtitle=\"The average minutes a route is scheduled to take.\",\n",
    ")"
   ]
  },
  {
   "cell_type": "markdown",
   "id": "e60bb6e7-6953-468d-a51b-0a8dc853d8d2",
   "metadata": {},
   "source": [
    "#### Timeliness #1"
   ]
  },
  {
   "cell_type": "code",
   "execution_count": null,
   "id": "b423d71e-ce9f-4fa2-bd0d-e203e2216236",
   "metadata": {},
   "outputs": [],
   "source": [
    "one_route[one_route.time_period == \"all_day\"].head(1)"
   ]
  },
  {
   "cell_type": "code",
   "execution_count": null,
   "id": "638cc607-996e-445a-acba-f50a850cc3e3",
   "metadata": {},
   "outputs": [],
   "source": [
    "avg_rt_service_minutes = 16.98"
   ]
  },
  {
   "cell_type": "code",
   "execution_count": null,
   "id": "8ffc39e4-5093-47d9-aade-1ce950aca9c4",
   "metadata": {},
   "outputs": [],
   "source": [
    "avg_scheduled_service_minutes = 15"
   ]
  },
  {
   "cell_type": "code",
   "execution_count": null,
   "id": "b4356e3c-f377-41dc-9d85-785840216ded",
   "metadata": {},
   "outputs": [],
   "source": [
    "avg_rt_service_minutes / avg_scheduled_service_minutes"
   ]
  },
  {
   "cell_type": "code",
   "execution_count": null,
   "id": "837ef037-8ee3-4667-87a6-ebd927813e0d",
   "metadata": {},
   "outputs": [],
   "source": [
    "one_route.rt_sched_journey_ratio.describe()"
   ]
  },
  {
   "cell_type": "code",
   "execution_count": null,
   "id": "974d187d-eae4-4693-b28c-a5619e0e9ecc",
   "metadata": {},
   "outputs": [],
   "source": [
    "heatmap(\n",
    "    one_route,\n",
    "    \"rt_sched_journey_ratio_cat\",\n",
    "    \"Realtime vs. Scheduled Trip Times\",\n",
    "    \"Dividing the average of actual trip times by the average of scheduled trip times gives an idea of how on schedule a trip on this route typically is.\",\n",
    "    \"A ratio of 1.13 indicates a trip is late 13% over its scheduled time.\",\n",
    "    \"\",\n",
    ")"
   ]
  },
  {
   "cell_type": "markdown",
   "id": "ec0b7515-e215-4f77-87f6-7560954e50f8",
   "metadata": {},
   "source": [
    "#### Timeliness #2"
   ]
  },
  {
   "cell_type": "code",
   "execution_count": null,
   "id": "74ae7a8d-c2a5-4a50-93ec-71d24cdf8178",
   "metadata": {},
   "outputs": [],
   "source": [
    "def timeliness_trips(df: pd.DataFrame):\n",
    "    to_keep = [\n",
    "        \"service_date\",\n",
    "        \"organization_name\",\n",
    "        \"direction_id\",\n",
    "        \"time_period\",\n",
    "        \"route_combined_name\",\n",
    "        \"is_early\",\n",
    "        \"is_ontime\",\n",
    "        \"is_late\",\n",
    "        \"n_vp_trips\",\n",
    "    ]\n",
    "    df = df[to_keep]\n",
    "    df2 = df.loc[df.time_period != \"all_day\"].reset_index(drop=True)\n",
    "\n",
    "    melted_df = df2.melt(\n",
    "        id_vars=[\n",
    "            \"service_date\",\n",
    "            \"organization_name\",\n",
    "            \"route_combined_name\",\n",
    "            \"time_period\",\n",
    "            \"direction_id\",\n",
    "        ],\n",
    "        value_vars=[\"is_early\", \"is_ontime\", \"is_late\"],\n",
    "    )\n",
    "    return melted_df"
   ]
  },
  {
   "cell_type": "code",
   "execution_count": null,
   "id": "6e921263-5012-429c-94c5-790cd591173a",
   "metadata": {},
   "outputs": [],
   "source": [
    "timeliness = timeliness_trips(df)"
   ]
  },
  {
   "cell_type": "code",
   "execution_count": null,
   "id": "c9d51659-fb2e-4288-9104-d41ac34551cd",
   "metadata": {},
   "outputs": [],
   "source": [
    "timeliness.sample()"
   ]
  },
  {
   "cell_type": "code",
   "execution_count": null,
   "id": "981f8bf2-1b4b-44d4-a59e-7b54e0075ca3",
   "metadata": {},
   "outputs": [],
   "source": [
    "heatmap(\n",
    "    one_route,\n",
    "    \"rt_sched_journey_ratio_cat\",\n",
    "    \"Realtime vs. Scheduled Trip Times\",\n",
    "    \"Dividing the average of actual trip times by the average of scheduled trip times gives an idea of how on schedule a trip on this route typically is.\",\n",
    "    \"A ratio of 1.13 indicates a trip is late 13% over its scheduled time.\",\n",
    "    \"\",\n",
    ")"
   ]
  },
  {
   "cell_type": "code",
   "execution_count": null,
   "id": "27844bba-3f89-4c35-93bc-97549a5b5640",
   "metadata": {},
   "outputs": [],
   "source": [
    "# This chart is too small to read \n",
    "\"\"\" timeliness_2 = (alt.Chart(timeliness_df)\n",
    "    .mark_bar(size=5)\n",
    "    .encode(\n",
    "        x=alt.X(\n",
    "            \"yearmonthdate(service_date):O\",\n",
    "            title=[\"Grouped by Direction ID\",\"Service Date\"],\n",
    "            axis=alt.Axis(labelAngle=-45, format=\"%b %Y\"),\n",
    "        ),\n",
    "        y=alt.Y(\n",
    "            \"value:Q\",\n",
    "            title=labeling(\"value\"),\n",
    "            scale=alt.Scale(\n",
    "                domain=[(timeliness_df.value.min()), (timeliness_df.value.max() + 5)]\n",
    "            ),\n",
    "        ),\n",
    "        xOffset=alt.X(\"direction_id:N\", title=labeling(\"time_period\")),\n",
    "        color=alt.Color(\n",
    "            \"variable:N\",\n",
    "            title=labeling(\"variable\"),\n",
    "            scale=alt.Scale(range=blue_palette),\n",
    "        ),\n",
    "        tooltip=ontime_late3.columns.tolist(),\n",
    "    )).properties(width=225, height=300).facet(\n",
    "    column=alt.Column(\"time_period:N\", title=labeling(\"Timeliness of Trips\")),\n",
    ").add_params(route_selector).transform_filter(route_selector)\"\"\""
   ]
  },
  {
   "cell_type": "markdown",
   "id": "28c413ed-90ec-45dc-be43-553508ce9d50",
   "metadata": {},
   "source": [
    "#### Total Scheduled Trips\n",
    "* Maybe don't differentiate this by direction_id??\n",
    "* Kind of confusing because it's trip for only one direction...\n",
    "* Similar to frequency already?"
   ]
  },
  {
   "cell_type": "code",
   "execution_count": null,
   "id": "fcf98a3f-7d53-4013-b720-51cfc6f820ef",
   "metadata": {},
   "outputs": [],
   "source": [
    "110 / 24"
   ]
  },
  {
   "cell_type": "code",
   "execution_count": null,
   "id": "eba6d0cf-1679-4d1c-b299-e2a07144a8a5",
   "metadata": {
    "scrolled": true,
    "tags": []
   },
   "outputs": [],
   "source": [
    "# IF we take away direction, see how many times a route is scheduled to run\n",
    "total_scheduled_trip = (\n",
    "    one_route.groupby([\"service_date\", \"time_period\"])\n",
    "    .agg({\"n_scheduled_trips\": \"mean\"})\n",
    "    .reset_index()\n",
    ")"
   ]
  },
  {
   "cell_type": "code",
   "execution_count": null,
   "id": "560a2471-0ac8-4fd8-94f5-c19ba1b6794b",
   "metadata": {
    "scrolled": true,
    "tags": []
   },
   "outputs": [],
   "source": [
    "total_scheduled_trip.n_scheduled_trips = total_scheduled_trip.n_scheduled_trips / 2"
   ]
  },
  {
   "cell_type": "code",
   "execution_count": null,
   "id": "04f31458-ea7f-4997-aeb3-726283afd8d6",
   "metadata": {},
   "outputs": [],
   "source": [
    "total_scheduled_trip.head()"
   ]
  },
  {
   "cell_type": "code",
   "execution_count": null,
   "id": "4527b5d5-d4b2-4a05-ae14-6a83c8d44f06",
   "metadata": {},
   "outputs": [],
   "source": [
    "one_route.groupby([\"service_date\", \"direction_id\", \"time_period\"]).agg(\n",
    "    {\"n_scheduled_trips\": \"max\"}\n",
    ").head()"
   ]
  },
  {
   "cell_type": "code",
   "execution_count": null,
   "id": "bba1c83c-498b-46e9-9f08-c85986b306ab",
   "metadata": {},
   "outputs": [],
   "source": [
    "grouped_bar_chart(\n",
    "    df=one_route.loc[one_route.time_period != \"all_day\"],\n",
    "    color_col=\"time_period\",\n",
    "    y_col=\"n_scheduled_trips\",\n",
    "    offset_col=\"direction_id\",\n",
    "    title=\"Total Scheduled Trips\",\n",
    "    subtitle=\"How many times per day is this route is scheduled to run in one particular direction.\",\n",
    ")"
   ]
  },
  {
   "cell_type": "markdown",
   "id": "793206d1-f1f7-4603-900e-e2bd5ff85619",
   "metadata": {},
   "source": [
    "#### Frequency\n",
    "* Maybe shouldn't be a chart since there doesn't seem to be a lot of data for this across a lot of the routes?\n",
    "* What does frequency mean?\n",
    "* Simplify down to not take direction_id into consideration?"
   ]
  },
  {
   "cell_type": "code",
   "execution_count": null,
   "id": "c98d5e4e-c6cc-4113-8a54-ba00f0066821",
   "metadata": {},
   "outputs": [],
   "source": [
    "one_route[[\"frequency\", \"frequency_cat\"]].sample(5)"
   ]
  },
  {
   "cell_type": "code",
   "execution_count": null,
   "id": "08d37757-7709-4380-a1f4-7b6304e86173",
   "metadata": {},
   "outputs": [],
   "source": [
    "heatmap(\n",
    "    one_route,\n",
    "    \"frequency_cat\",\n",
    "    \"Frequency of Route\",\n",
    "    \"Frequency tracks the number of times per hour this route goes by direction and time period.\",\n",
    "    \"For example, a frequency of 2.3 going in the direction of ID 1 means the bus passes by this direction about\",\n",
    "    \"twice an hour.\",\n",
    ")"
   ]
  },
  {
   "cell_type": "markdown",
   "id": "cad7454c-ceb2-4e30-92d2-bbc43d4e6e1a",
   "metadata": {},
   "source": [
    "#### Speed MPH\n",
    "* Needs a different type of chart."
   ]
  },
  {
   "cell_type": "code",
   "execution_count": null,
   "id": "fda3b3bd-0359-4f92-8125-6488161f9811",
   "metadata": {},
   "outputs": [],
   "source": [
    "one_route_vp_df = vp_df.loc[vp_df.route_combined_name == \"1 West Santa Barbara\"]"
   ]
  },
  {
   "cell_type": "code",
   "execution_count": null,
   "id": "5b479d45-acf9-40c3-8598-116c48c9c951",
   "metadata": {},
   "outputs": [],
   "source": [
    "one_route_vp_df.shape"
   ]
  },
  {
   "cell_type": "code",
   "execution_count": null,
   "id": "93387a77-98fc-459f-be87-8e69f6f48b1f",
   "metadata": {
    "scrolled": true,
    "tags": []
   },
   "outputs": [],
   "source": [
    "one_route_vp_df[\n",
    "    [\"direction_id\", \"time_period\", \"service_date\", \"speed_mph\"]\n",
    "].sort_values(by=[\"service_date\", \"time_period\"]).head()"
   ]
  },
  {
   "cell_type": "code",
   "execution_count": null,
   "id": "7e452d89-d0b7-4730-bebe-3abe2125ca9a",
   "metadata": {},
   "outputs": [],
   "source": [
    "base_route_chart_ah(\n",
    "    one_route_vp_df,\n",
    "    \"speed_mph\",\n",
    "    \"Average Speed\",\n",
    "    \"The average miles per hour the bus travels by direction and time of day.\",\n",
    ")"
   ]
  },
  {
   "cell_type": "markdown",
   "id": "9dce71b7-204d-42ca-bcb4-13cd3171a387",
   "metadata": {},
   "source": [
    "#### VP per Minute (WIP)\n",
    "* Should be a table?"
   ]
  },
  {
   "cell_type": "code",
   "execution_count": null,
   "id": "c6628b71-3f15-426a-98e0-77b1c5f51196",
   "metadata": {},
   "outputs": [],
   "source": [
    "one_route_vp_df[[\"vp_per_minute_cat\", \"vp_per_minute\"]].sample(10)"
   ]
  },
  {
   "cell_type": "code",
   "execution_count": null,
   "id": "01fb9991-a80b-46d1-958e-6dca4742bab8",
   "metadata": {},
   "outputs": [],
   "source": [
    "heatmap(\n",
    "    one_route_vp_df,\n",
    "    \"vp_per_minute_cat\",\n",
    "    \"Vehicle Positions per Minute\",\n",
    "    \"Vehicle positions are recorded each time the GPS on a bus pings.\",\n",
    "    \"The number of times vehicle positions collected reflect the density and reliabilty of realtime data\",\n",
    "    \"Trips should be in the 3+ VP per minute category.\",\n",
    ")"
   ]
  },
  {
   "cell_type": "markdown",
   "id": "85b97563-102f-4f3b-a270-26df18ed6092",
   "metadata": {},
   "source": [
    "#### Spatial Accuracy\n",
    "* Multiple it by 100? Should this be rounded or not?"
   ]
  },
  {
   "cell_type": "code",
   "execution_count": null,
   "id": "8c26311b-ec25-41a7-9bdc-1cc7b7dc5a97",
   "metadata": {},
   "outputs": [],
   "source": [
    "heatmap(\n",
    "    one_route_vp_df,\n",
    "    \"pct_in_shape_cat\",\n",
    "    \"Spatial Accuracy\",\n",
    "    \"By comparing vehicle positions produced by GTFS and against the static scheduled route shape,\",\n",
    "    \" we can determine the percentage of actual positions that fell within a reasonable radius.\",\n",
    "    \"This percentage reflects the accuracy of the spatial, realtime data collected.\",\n",
    ")"
   ]
  },
  {
   "cell_type": "markdown",
   "id": "54e04f5e-682d-4812-ba4c-614b8f83c769",
   "metadata": {},
   "source": [
    "#### At least 2 VP"
   ]
  },
  {
   "cell_type": "code",
   "execution_count": null,
   "id": "45c3d04c-3bcd-4a5a-aaec-c4f7cbda36da",
   "metadata": {},
   "outputs": [],
   "source": [
    "one_route_vp_df.pct_rt_journey_atleast2_vp.describe()"
   ]
  },
  {
   "cell_type": "code",
   "execution_count": null,
   "id": "30d07592-4bef-4802-8503-916cc2056db0",
   "metadata": {},
   "outputs": [],
   "source": [
    "heatmap(\n",
    "    one_route_vp_df,\n",
    "    \"pct_rt_journey_atleast2_vp_cat\",\n",
    "    \"% of the Trip with 2+ Vehicle Positions\",\n",
    "    \"Dividing the number of minutes with more than 2 vehicle positions by the total duration\",\n",
    "    \"to determine the quality of real-time temporal data for a trip. Generally, the GPS should record vehicle positions every 20 seconds.\",\n",
    "    \"A percentage of 0.3 indicates only 30% of the trip had 2+ vehicle positions per minute.\",\n",
    ")"
   ]
  },
  {
   "cell_type": "markdown",
   "id": "b14d8827-083f-4057-a5db-b71b63ac1dee",
   "metadata": {},
   "source": [
    "#### Text"
   ]
  },
  {
   "cell_type": "code",
   "execution_count": null,
   "id": "86397688-99f8-401a-a713-ec8704be625b",
   "metadata": {},
   "outputs": [],
   "source": [
    "def create_text_table(df: pd.DataFrame, direction_id: str):\n",
    "\n",
    "    df = df.loc[df.direction_id == direction_id].reset_index(drop=True)\n",
    "    df2 = df.melt(\n",
    "        id_vars=[\n",
    "            \"route_combined_name\",\n",
    "            \"direction_id\",\n",
    "        ],\n",
    "        value_vars=[\n",
    "            \"avg_scheduled_service_minutes\",\n",
    "            \"avg_stop_miles\",\n",
    "            \"n_scheduled_trips\",\n",
    "            \"sched_rt_category\",\n",
    "            \"peak_avg_speed\",\n",
    "            \"peak_scheduled_trips\",\n",
    "            \"peak_hourly_freq\",\n",
    "            \"offpeak_avg_speed\",\n",
    "            \"offpeak_scheduled_trips\",\n",
    "            \"offpeak_hourly_freq\",\n",
    "        ],\n",
    "    )\n",
    "    # Create a decoy column to center all the text\n",
    "    df2[\"Zero\"] = 0\n",
    "\n",
    "    df2.variable = df2.variable.str.replace(\"_\", \" \").str.title()\n",
    "    df2 = df2.sort_values(by=[\"direction_id\"]).reset_index(drop=True)\n",
    "    df2[\"combo_col\"] = df2.variable.astype(str) + \": \" + df2.value.astype(str)\n",
    "    text_chart = (\n",
    "        alt.Chart(df2)\n",
    "        .mark_text()\n",
    "        .encode(x=alt.X(\"Zero:Q\", axis=None), y=alt.Y(\"combo_col\", axis=None))\n",
    "    )\n",
    "\n",
    "    text_chart = text_chart.encode(text=\"combo_col:N\").properties(\n",
    "        title=f\"Route Statistics for Direction {direction_id}\", width=500, height=300\n",
    "    )\n",
    "    return text_chart"
   ]
  },
  {
   "cell_type": "code",
   "execution_count": null,
   "id": "4a18746d-3dca-4ee4-99e7-c770f5976d61",
   "metadata": {},
   "outputs": [],
   "source": [
    "one_route_table = table_df.loc[\n",
    "    table_df.route_combined_name == \"2510 San Marcos High School\"\n",
    "]"
   ]
  },
  {
   "cell_type": "code",
   "execution_count": null,
   "id": "bcf535bc-c719-4a56-8e26-6ad51ace90e0",
   "metadata": {},
   "outputs": [],
   "source": [
    "create_text_table(table_df, 0)"
   ]
  },
  {
   "cell_type": "markdown",
   "id": "6fc21ac6-f52f-4f7b-929d-3d439f9f087f",
   "metadata": {},
   "source": [
    "#### Putting it all together"
   ]
  },
  {
   "cell_type": "code",
   "execution_count": null,
   "id": "06f6f21a-96aa-4a33-9b6d-d36bd4bea7ee",
   "metadata": {},
   "outputs": [],
   "source": [
    "def filtered_route(\n",
    "    df: pd.DataFrame,\n",
    ") -> alt.Chart:\n",
    "    \"\"\"\n",
    "    https://stackoverflow.com/questions/58919888/multiple-selections-in-altair\n",
    "    \"\"\"\n",
    "\n",
    "    route_dropdown = alt.binding_select(\n",
    "        options=sorted(df[\"route_combined_name\"].unique().tolist()),\n",
    "        name=\"Routes \",\n",
    "    )\n",
    "\n",
    "    # Column that controls the bar charts\n",
    "    route_selector = alt.selection_point(\n",
    "        fields=[\"route_combined_name\"],\n",
    "        bind=route_dropdown,\n",
    "    )\n",
    "\n",
    "    # Data\n",
    "    sched_df = df[df.sched_rt_category != \"vp_only\"]\n",
    "    vp_df = df[df.sched_rt_category != \"schedule_only\"]\n",
    "    route_stats_df = route_stats(df)\n",
    "    timeliness_df = timeliness_trips(vp_df)\n",
    "    \n",
    "    # Charts\n",
    "    route_stats_dir0 = (\n",
    "        create_text_table(route_stats_df, 0)\n",
    "        .add_params(route_selector)\n",
    "        .transform_filter(route_selector)\n",
    "    )\n",
    "\n",
    "    route_stats_dir1 = (\n",
    "        create_text_table(route_stats_df, 1)\n",
    "        .add_params(route_selector)\n",
    "        .transform_filter(route_selector)\n",
    "    )\n",
    "\n",
    "    speed = (\n",
    "        base_route_chart_ah(\n",
    "            vp_df,\n",
    "            \"speed_mph\",\n",
    "            \"Average Speed\",\n",
    "            \"The average miles per hour the bus travels by direction and time of day.\",\n",
    "        )\n",
    "        .add_params(route_selector)\n",
    "        .transform_filter(route_selector)\n",
    "    )\n",
    "\n",
    "    frequency = (\n",
    "        heatmap(\n",
    "            sched_df,\n",
    "            \"frequency_cat\",\n",
    "            \"Frequency of Route\",\n",
    "            \"Frequency tracks the number of times per hour this route goes by direction and time period.\",\n",
    "            \"For example, a frequency of 2.3 going in the direction of ID 1 means the bus passes by this direction about\",\n",
    "            \"twice an hour.\",\n",
    "        )\n",
    "        .add_params(route_selector)\n",
    "        .transform_filter(route_selector)\n",
    "    )\n",
    "    timeliness = (\n",
    "        heatmap(\n",
    "            sched_df,\n",
    "            \"rt_sched_journey_ratio_cat\",\n",
    "            \"Realtime vs. Scheduled Trip Times\",\n",
    "            \"Dividing the average of actual trip times by the average of scheduled trip times gives an idea of how on schedule a trip on this route typically is.\",\n",
    "            \"A ratio of 1.13 indicates a trip is late 13% over its scheduled time.\",\n",
    "            \"\",\n",
    "        )\n",
    "        .add_params(route_selector)\n",
    "        .transform_filter(route_selector)\n",
    "    )\n",
    "    \n",
    "    \n",
    "    total_scheduled_trips = (\n",
    "        grouped_bar_chart(\n",
    "            df=sched_df.loc[sched_df.time_period != \"all_day\"],\n",
    "            color_col=\"time_period\",\n",
    "            y_col=\"n_scheduled_trips\",\n",
    "            offset_col=\"direction_id\",\n",
    "            title=\"Total Scheduled Trips\",\n",
    "            subtitle=\"How many times per day is this route is scheduled to run in one particular direction.\",\n",
    "        )\n",
    "        .add_params(route_selector)\n",
    "        .transform_filter(route_selector)\n",
    "    )\n",
    "    atleast_2_vp = (\n",
    "        heatmap(\n",
    "            vp_df,\n",
    "            \"pct_rt_journey_atleast2_vp_cat\",\n",
    "            \"% of trip with 2+ Vehicle Positions\",\n",
    "            \"Dividing the number of minutes with more than 2 vehicle positions by the total duration\",\n",
    "            \"to determine the quality of real-time temporal data for a trip. Generally, the GPS should record vehicle positions every 20 seconds.\",\n",
    "            \"A percentage of 0.3 indicates only 30% of the trip had 2+ vehicle positions per minute.\",\n",
    "        )\n",
    "        .add_params(route_selector)\n",
    "        .transform_filter(route_selector)\n",
    "    )\n",
    "\n",
    "    spatial_accuracy = (\n",
    "        heatmap(\n",
    "            vp_df,\n",
    "            \"pct_in_shape_cat\",\n",
    "            \"Spatial Accuracy of Realtime Data\",\n",
    "            \"By comparing vehicle positions produced by GTFS and against the static scheduled route shape,\",\n",
    "            \" we can determine the percentage of actual positions that fell within a reasonable radius.\",\n",
    "            \"This percentage reflects the accuracy of the spatial, realtime data collected.\",\n",
    "        )\n",
    "        .add_params(route_selector)\n",
    "        .transform_filter(route_selector)\n",
    "    )\n",
    "\n",
    "    chart_list = [\n",
    "        route_stats_dir0,\n",
    "        route_stats_dir1,\n",
    "        speed,\n",
    "        frequency,\n",
    "        timeliness,\n",
    "        timeliness_2,\n",
    "        total_scheduled_trips,\n",
    "        atleast_2_vp,\n",
    "        spatial_accuracy,\n",
    "    ]\n",
    "\n",
    "    # \n",
    "    chart = alt.vconcat(*chart_list).properties(\n",
    "  resolve = alt.Resolve(scale=alt.LegendResolveMap(color=alt.ResolveMode('independent')))\n",
    "  )\n",
    "    return chart"
   ]
  },
  {
   "cell_type": "code",
   "execution_count": null,
   "id": "06590b02-b54b-4d0b-a2f6-ee02aeeca16b",
   "metadata": {},
   "outputs": [],
   "source": [
    "filtered_route(df)"
   ]
  },
  {
   "cell_type": "markdown",
   "id": "c168d96d-7762-4807-8c89-7f0a50bca32c",
   "metadata": {
    "tags": []
   },
   "source": [
    "#### Actual Faceted Charts (from Tiffany)\n",
    "* Issues \n",
    "    * Faceting doesn't  with daily scheduled trip and average speed."
   ]
  },
  {
   "cell_type": "code",
   "execution_count": null,
   "id": "2e6d1e95-24cd-45fe-b252-0f817b4a4b12",
   "metadata": {},
   "outputs": [],
   "source": [
    "def base_route_chart(df: pd.DataFrame, y_col: str) -> alt.Chart:\n",
    "    \"\"\" \"\"\"\n",
    "    df = df.assign(\n",
    "        time_period=df.time_period.str.replace(\"_\", \" \").str.title()\n",
    "    ).reset_index(drop=True)\n",
    "\n",
    "    selected_colors = [\n",
    "        cp.CALITP_CATEGORY_BRIGHT_COLORS[0],  # blue\n",
    "        cp.CALITP_CATEGORY_BRIGHT_COLORS[3],  # green\n",
    "        cp.CALITP_CATEGORY_BOLD_COLORS[1],  # orange,\n",
    "    ]\n",
    "\n",
    "    # https://stackoverflow.com/questions/26454649/python-round-up-to-the-nearest-ten\n",
    "\n",
    "    if \"pct\" in y_col:\n",
    "        max_y = 1.2\n",
    "    elif \"per_minute\" in y_col:\n",
    "        max_y = round(df[y_col].max())\n",
    "    else:\n",
    "        max_y = round(df[y_col].max(), -1)\n",
    "\n",
    "    df[y_col] = df[y_col].fillna(0).astype(int)\n",
    "\n",
    "    chart = (\n",
    "        alt.Chart(df)\n",
    "        .mark_line()\n",
    "        .encode(\n",
    "            x=alt.X(\n",
    "                \"yearmonthdate(service_date):O\",\n",
    "                title=\"Date\",\n",
    "                axis=alt.Axis(format=\"%b %Y\"),\n",
    "            ),\n",
    "            y=alt.Y(\n",
    "                f\"{y_col}:Q\", title=labeling(y_col), scale=alt.Scale(domain=[0, max_y])\n",
    "            ),\n",
    "            color=alt.Color(\n",
    "                \"time_period:N\",\n",
    "                title=labeling(\"time_period\"),\n",
    "                scale=alt.Scale(range=cp.CALITP_SEQUENTIAL_COLORS),\n",
    "            ),\n",
    "            tooltip=[\n",
    "                \"route_combined_name\",\n",
    "                \"route_id\",\n",
    "                \"direction_id\",\n",
    "                \"time_period\",\n",
    "                y_col,\n",
    "            ],\n",
    "        )\n",
    "        .facet(\n",
    "            column=alt.Column(\"direction_id:N\", title=labeling(\"direction_id\")),\n",
    "        )\n",
    "        .interactive()\n",
    "    ).properties(title=labeling(y_col))\n",
    "\n",
    "    return chart"
   ]
  },
  {
   "cell_type": "code",
   "execution_count": null,
   "id": "76b16985-1bca-4f94-bbfa-6aa79bbd5d48",
   "metadata": {},
   "outputs": [],
   "source": [
    "def filtered_route_charts(\n",
    "    df: pd.DataFrame,\n",
    "    control_field: str,\n",
    ") -> alt.Chart:\n",
    "    \"\"\"\n",
    "    https://stackoverflow.com/questions/58919888/multiple-selections-in-altair\n",
    "    \"\"\"\n",
    "    route_dropdown = alt.binding_select(\n",
    "        options=sorted(df[control_field].unique().tolist()),\n",
    "        name=\"Routes \",\n",
    "    )\n",
    "\n",
    "    # Column that controls the bar charts\n",
    "    route_selector = alt.selection_point(\n",
    "        fields=[control_field],\n",
    "        bind=route_dropdown,\n",
    "    )\n",
    "\n",
    "    sched_df = df[df.sched_rt_category != \"vp_only\"]\n",
    "    vp_df = df[df.sched_rt_category != \"schedule_only\"]\n",
    "\n",
    "    sched_service_chart = (\n",
    "        base_route_chart(\n",
    "            sched_df[sched_df.time_period == \"all_day\"], \"avg_scheduled_service_minutes\"\n",
    "        )\n",
    "        .add_params(route_selector)\n",
    "        .transform_filter(route_selector)\n",
    "    )\n",
    "\n",
    "    sched_trips_chart = (\n",
    "        base_route_chart(sched_df, \"n_scheduled_trips\")\n",
    "        .add_params(route_selector)\n",
    "        .transform_filter(route_selector)\n",
    "    )\n",
    "\n",
    "    sched_freq_chart = (\n",
    "        base_route_chart(sched_df, \"frequency\")\n",
    "        .add_params(route_selector)\n",
    "        .transform_filter(route_selector)\n",
    "    )\n",
    "\n",
    "    speeds_chart = (\n",
    "        base_route_chart(vp_df, \"speed_mph\")\n",
    "        .add_params(route_selector)\n",
    "        .transform_filter(route_selector)\n",
    "    )\n",
    "\n",
    "    ping_density_chart = (\n",
    "        base_route_chart(vp_df, \"vp_per_minute\")\n",
    "        .add_params(route_selector)\n",
    "        .transform_filter(route_selector)\n",
    "    )\n",
    "\n",
    "    spatial_accuracy_chart = (\n",
    "        base_route_chart(vp_df, \"pct_in_shape\")\n",
    "        .add_params(route_selector)\n",
    "        .transform_filter(route_selector)\n",
    "    )\n",
    "\n",
    "    atleast1vp_chart = (\n",
    "        base_route_chart(vp_df, \"pct_rt_journey_atleast1_vp\")\n",
    "        .add_params(route_selector)\n",
    "        .transform_filter(route_selector)\n",
    "    )\n",
    "\n",
    "    atleast2vp_chart = (\n",
    "        base_route_chart(vp_df, \"pct_rt_journey_atleast2_vp\")\n",
    "        .add_params(route_selector)\n",
    "        .transform_filter(route_selector)\n",
    "    )\n",
    "\n",
    "    chart_list = [\n",
    "        sched_service_chart,\n",
    "        sched_trips_chart,\n",
    "        sched_freq_chart,\n",
    "        speeds_chart,\n",
    "        ping_density_chart,\n",
    "        spatial_accuracy_chart,\n",
    "        atleast1vp_chart,\n",
    "        atleast2vp_chart,\n",
    "    ]\n",
    "\n",
    "    chart = alt.vconcat(*chart_list).resolve_scale(y=\"independent\")\n",
    "\n",
    "    return chart"
   ]
  },
  {
   "cell_type": "code",
   "execution_count": null,
   "id": "4c602421-57b4-4380-a4e3-34265040ce95",
   "metadata": {},
   "outputs": [],
   "source": [
    "vp_df.columns"
   ]
  },
  {
   "cell_type": "code",
   "execution_count": null,
   "id": "d6db2d31-9ed9-4749-8c3b-dc8632339d2c",
   "metadata": {},
   "outputs": [],
   "source": [
    "# filtered_route_charts(df, \"route_combined_name\")"
   ]
  },
  {
   "cell_type": "markdown",
   "id": "cd034707-2140-4b69-bece-f2f55b1eb6a0",
   "metadata": {
    "tags": []
   },
   "source": [
    "#### Fake Faceted Chart  Doesn't work. The dropdowns don't impact the charts."
   ]
  },
  {
   "cell_type": "code",
   "execution_count": null,
   "id": "9b803d06-7dd0-4d99-ac6f-07eb0564a3e2",
   "metadata": {},
   "outputs": [],
   "source": [
    "def fake_faceted_chart2(df: pd.DataFrame, column_of_interest: str, title=str):\n",
    "\n",
    "    ruler = (\n",
    "        alt.Chart(df)\n",
    "        .mark_rule(color=\"red\", strokeDash=[10, 7])\n",
    "        .encode(y=f\"mean({column_of_interest}):Q\")\n",
    "    )\n",
    "\n",
    "    dir_0 = df.loc[df.direction_id == 0]\n",
    "    dir_1 = df.loc[df.direction_id == 1]\n",
    "    chart_dir_0 = (\n",
    "        alt.Chart(\n",
    "            dir_0,\n",
    "            title=alt.Title(\n",
    "                title,\n",
    "                subtitle=\"Direction 0\",\n",
    "            ),\n",
    "        )\n",
    "        .mark_bar()\n",
    "        .encode(\n",
    "            x=alt.X(\"month_year\", title=labeling(\"month_year\")),\n",
    "            xOffset=\"time_period:N\",\n",
    "            y=alt.Y(f\"{column_of_interest}:Q\", title=labeling(column_of_interest)),\n",
    "            color=alt.Color(\n",
    "                \"time_period:N\",\n",
    "                scale=alt.Scale(range=cp.CALITP_CATEGORY_BRIGHT_COLORS),\n",
    "            ),\n",
    "        )\n",
    "        .properties(width=300, height=300)\n",
    "    )\n",
    "    chart_dir_1 = (\n",
    "        alt.Chart(\n",
    "            dir_1,\n",
    "            title=alt.Title(\n",
    "                \"Title\",\n",
    "                color=\"white\",\n",
    "                subtitle=\"Direction 1\",\n",
    "            ),\n",
    "        )\n",
    "        .mark_bar()\n",
    "        .encode(\n",
    "            x=alt.X(\"month_year\", title=labeling(\"month_year\")),\n",
    "            xOffset=\"time_period:N\",\n",
    "            y=alt.Y(f\"{column_of_interest}:Q\", axis=None),\n",
    "            color=alt.Color(\n",
    "                \"time_period:N\",\n",
    "                scale=alt.Scale(range=cp.CALITP_CATEGORY_BRIGHT_COLORS),\n",
    "            ),\n",
    "        )\n",
    "        .properties(width=300, height=300)\n",
    "    )\n",
    "    chart_dir_0 = chart_dir_0 + ruler\n",
    "    chart_dir_1 = chart_dir_1 + ruler\n",
    "    final_chart = alt.hconcat(chart_dir_0, chart_dir_1)\n",
    "    return final_chart"
   ]
  },
  {
   "cell_type": "code",
   "execution_count": null,
   "id": "d7b81123-9d69-4fd2-9ce5-2d3d9ff14a70",
   "metadata": {},
   "outputs": [],
   "source": [
    "def fake_faceted_chart(\n",
    "    df: pd.DataFrame,\n",
    "    control_field: str,\n",
    ") -> alt.Chart:\n",
    "    \"\"\"\n",
    "    https://stackoverflow.com/questions/58919888/multiple-selections-in-altair\n",
    "    \"\"\"\n",
    "    dropdown_list = df[\"route_combined_name\"].unique().tolist()\n",
    "    input_dropdown = alt.binding_select(options=dropdown_list, name=\"Routes\")\n",
    "    selection = alt.selection_point(fields=[\"route_combined_name\"], bind=input_dropdown)\n",
    "\n",
    "    selection = alt.selection_point(fields=[\"route_combined_name\"], bind=input_dropdown)\n",
    "    sched_df = df[df.sched_rt_category != \"vp_only\"]\n",
    "    vp_df = df[df.sched_rt_category != \"schedule_only\"]\n",
    "\n",
    "    daily_trips = fake_faceted_chart2(\n",
    "        sched_df, \"n_scheduled_trips\", \"Total Scheduled Daily Trips\"\n",
    "    )\n",
    "    frequency = fake_faceted_chart2(\n",
    "        sched_df, \"frequency\", \"Frequency of Trips per Hour\"\n",
    "    )\n",
    "    avg_speeds = fake_faceted_chart2(vp_df, \"speed_mph\", \"Average Speed\")\n",
    "\n",
    "    chart_lists = [daily_trips, frequency, avg_speeds]\n",
    "    chart = (\n",
    "        alt.vconcat(*chart_lists)\n",
    "        .resolve_scale(y=\"independent\")\n",
    "        .add_params(selection)\n",
    "        .transform_filter(selection)\n",
    "    )\n",
    "    display(chart)"
   ]
  },
  {
   "cell_type": "code",
   "execution_count": null,
   "id": "bbbfb0e1-32cf-4ae4-b73f-4aff3c33532c",
   "metadata": {},
   "outputs": [],
   "source": [
    "# fake_faceted_chart(df, \"route_combined_name\")"
   ]
  }
 ],
 "metadata": {
  "kernelspec": {
   "display_name": "Python 3 (ipykernel)",
   "language": "python",
   "name": "python3"
  },
  "language_info": {
   "codemirror_mode": {
    "name": "ipython",
    "version": 3
   },
   "file_extension": ".py",
   "mimetype": "text/x-python",
   "name": "python",
   "nbconvert_exporter": "python",
   "pygments_lexer": "ipython3",
   "version": "3.9.13"
  }
 },
 "nbformat": 4,
 "nbformat_minor": 5
}
