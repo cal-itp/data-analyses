{
 "cells": [
  {
   "cell_type": "code",
   "execution_count": 1,
   "id": "9fa6f467-d909-4d5b-aee9-3e5d4d1827de",
   "metadata": {},
   "outputs": [],
   "source": [
    "import geopandas as gpd\n",
    "import numpy as np\n",
    "import pandas as pd\n",
    "from segment_speed_utils import gtfs_schedule_wrangling, helpers, time_series_utils\n",
    "from segment_speed_utils.project_vars import (\n",
    "    COMPILED_CACHED_VIEWS,\n",
    "    GTFS_DATA_DICT,\n",
    "    PROJECT_CRS,\n",
    "    RT_SCHED_GCS,\n",
    "    SCHED_GCS,\n",
    "    SEGMENT_GCS,\n",
    ")\n",
    "from shared_utils import catalog_utils, rt_dates, rt_utils"
   ]
  },
  {
   "cell_type": "code",
   "execution_count": 2,
   "id": "86f27f73-9d60-4035-b149-f627e75efbad",
   "metadata": {},
   "outputs": [],
   "source": [
    "pd.options.display.max_columns = 100\n",
    "pd.options.display.float_format = \"{:.2f}\".format\n",
    "pd.set_option(\"display.max_rows\", None)\n",
    "pd.set_option(\"display.max_colwidth\", None)"
   ]
  },
  {
   "cell_type": "code",
   "execution_count": 3,
   "id": "5163beae-c2b3-40f2-ba4d-b18fe927f4b8",
   "metadata": {},
   "outputs": [],
   "source": [
    "import merge_data"
   ]
  },
  {
   "cell_type": "code",
   "execution_count": 4,
   "id": "6c6f619d-a493-4ccf-9312-a37f95bd0a67",
   "metadata": {},
   "outputs": [],
   "source": [
    "DIGEST_SEGMENT_SPEEDS = GTFS_DATA_DICT.digest_tables.route_segment_speeds"
   ]
  },
  {
   "cell_type": "code",
   "execution_count": 5,
   "id": "9b0e8913-25b7-45ad-9db3-0dcd322fb1a8",
   "metadata": {},
   "outputs": [
    {
     "data": {
      "text/plain": [
       "'gs://calitp-analytics-data/data-analyses/rt_vs_schedule/'"
      ]
     },
     "execution_count": 5,
     "metadata": {},
     "output_type": "execute_result"
    }
   ],
   "source": [
    "RT_SCHED_GCS"
   ]
  },
  {
   "cell_type": "code",
   "execution_count": 6,
   "id": "c6568442-a443-4019-8e7e-b49da214ccc0",
   "metadata": {},
   "outputs": [],
   "source": [
    "analysis_date_list = (\n",
    "        rt_dates.y2024_dates + rt_dates.y2023_dates\n",
    "    )\n",
    "    "
   ]
  },
  {
   "cell_type": "code",
   "execution_count": 7,
   "id": "888e5716-0e6a-4553-bc18-02a19174564c",
   "metadata": {},
   "outputs": [
    {
     "data": {
      "text/plain": [
       "'digest/segment_speeds'"
      ]
     },
     "execution_count": 7,
     "metadata": {},
     "output_type": "execute_result"
    }
   ],
   "source": [
    "DIGEST_SEGMENT_SPEEDS"
   ]
  },
  {
   "cell_type": "code",
   "execution_count": 8,
   "id": "a91a43a4-4173-4a57-9a57-134a2c66f8cf",
   "metadata": {},
   "outputs": [],
   "source": [
    "df_sched = merge_data.concatenate_schedule_by_route_direction(analysis_date_list)"
   ]
  },
  {
   "cell_type": "code",
   "execution_count": 9,
   "id": "e9e5f2d1-f140-4de0-8c92-cb53ed3bb632",
   "metadata": {},
   "outputs": [],
   "source": [
    "primary_typology = merge_data.set_primary_typology(df_sched)"
   ]
  },
  {
   "cell_type": "code",
   "execution_count": 10,
   "id": "9610d511-b9ed-4fd6-839a-863246e1c979",
   "metadata": {},
   "outputs": [],
   "source": [
    "segment_speeds23 = gpd.read_parquet(\"2023_seg_speeds.parquet\")"
   ]
  },
  {
   "cell_type": "code",
   "execution_count": 11,
   "id": "a807d1b3-0eea-4ea2-aef3-6baf6a92fbff",
   "metadata": {},
   "outputs": [],
   "source": [
    "segment_speeds24 = gpd.read_parquet(\"2024_seg_speeds.parquet\")"
   ]
  },
  {
   "cell_type": "code",
   "execution_count": 12,
   "id": "be3a74e0-cadf-46f8-8d83-25c56344709c",
   "metadata": {},
   "outputs": [],
   "source": [
    "segment_speeds = pd.concat([segment_speeds23,segment_speeds24])"
   ]
  },
  {
   "cell_type": "code",
   "execution_count": 13,
   "id": "1b1200d1-d52a-44cb-9341-98d1b321c1af",
   "metadata": {},
   "outputs": [
    {
     "data": {
      "text/plain": [
       "(4933047, 15)"
      ]
     },
     "execution_count": 13,
     "metadata": {},
     "output_type": "execute_result"
    }
   ],
   "source": [
    "segment_speeds.shape"
   ]
  },
  {
   "cell_type": "code",
   "execution_count": 14,
   "id": "35b4b90a-45d0-42a7-88ee-7f414f4f2c0c",
   "metadata": {},
   "outputs": [
    {
     "data": {
      "text/plain": [
       "(27868, 5)"
      ]
     },
     "execution_count": 14,
     "metadata": {},
     "output_type": "execute_result"
    }
   ],
   "source": [
    "primary_typology.shape"
   ]
  },
  {
   "cell_type": "code",
   "execution_count": 15,
   "id": "0c554a53-4031-4812-ac1e-2e28a0d6fd24",
   "metadata": {},
   "outputs": [],
   "source": [
    "segment_speeds2 = pd.merge(\n",
    "        segment_speeds,\n",
    "        primary_typology,\n",
    "        on = merge_data.route_time_cols,\n",
    "        how = \"left\"\n",
    "    )"
   ]
  },
  {
   "cell_type": "code",
   "execution_count": 16,
   "id": "2e3f9c09-5de5-4b80-9b9e-ec12d68ea7fd",
   "metadata": {},
   "outputs": [
    {
     "data": {
      "text/plain": [
       "(4933047, 16)"
      ]
     },
     "execution_count": 16,
     "metadata": {},
     "output_type": "execute_result"
    }
   ],
   "source": [
    "segment_speeds2.shape"
   ]
  },
  {
   "cell_type": "code",
   "execution_count": 17,
   "id": "6c112e57-c933-4d9d-a129-d0542ff19452",
   "metadata": {},
   "outputs": [
    {
     "data": {
      "text/plain": [
       "geopandas.geodataframe.GeoDataFrame"
      ]
     },
     "execution_count": 17,
     "metadata": {},
     "output_type": "execute_result"
    }
   ],
   "source": [
    "type(segment_speeds2)"
   ]
  },
  {
   "cell_type": "code",
   "execution_count": 18,
   "id": "3bc19cdf-77b0-4922-a513-cf39fad365e5",
   "metadata": {},
   "outputs": [],
   "source": [
    "from shared_utils import gtfs_utils_v2, publish_utils"
   ]
  },
  {
   "cell_type": "code",
   "execution_count": 19,
   "id": "d298c061-eeb5-4114-9dbf-7d627697c40e",
   "metadata": {},
   "outputs": [],
   "source": [
    "public_feeds = gtfs_utils_v2.filter_to_public_schedule_gtfs_dataset_keys()"
   ]
  },
  {
   "cell_type": "code",
   "execution_count": 20,
   "id": "c68b9b37-79ae-490b-8d0f-de890df6f312",
   "metadata": {},
   "outputs": [
    {
     "data": {
      "text/plain": [
       "\u001b[0;31mSignature:\u001b[0m\n",
       "\u001b[0mpublish_utils\u001b[0m\u001b[0;34m.\u001b[0m\u001b[0mexclude_private_datasets\u001b[0m\u001b[0;34m(\u001b[0m\u001b[0;34m\u001b[0m\n",
       "\u001b[0;34m\u001b[0m    \u001b[0mdf\u001b[0m\u001b[0;34m:\u001b[0m \u001b[0mpandas\u001b[0m\u001b[0;34m.\u001b[0m\u001b[0mcore\u001b[0m\u001b[0;34m.\u001b[0m\u001b[0mframe\u001b[0m\u001b[0;34m.\u001b[0m\u001b[0mDataFrame\u001b[0m\u001b[0;34m,\u001b[0m\u001b[0;34m\u001b[0m\n",
       "\u001b[0;34m\u001b[0m    \u001b[0mcol\u001b[0m\u001b[0;34m:\u001b[0m \u001b[0mstr\u001b[0m \u001b[0;34m=\u001b[0m \u001b[0;34m'schedule_gtfs_dataset_key'\u001b[0m\u001b[0;34m,\u001b[0m\u001b[0;34m\u001b[0m\n",
       "\u001b[0;34m\u001b[0m    \u001b[0mpublic_gtfs_dataset_keys\u001b[0m\u001b[0;34m:\u001b[0m \u001b[0mlist\u001b[0m \u001b[0;34m=\u001b[0m \u001b[0;34m[\u001b[0m\u001b[0;34m]\u001b[0m\u001b[0;34m,\u001b[0m\u001b[0;34m\u001b[0m\n",
       "\u001b[0;34m\u001b[0m\u001b[0;34m)\u001b[0m \u001b[0;34m->\u001b[0m \u001b[0mpandas\u001b[0m\u001b[0;34m.\u001b[0m\u001b[0mcore\u001b[0m\u001b[0;34m.\u001b[0m\u001b[0mframe\u001b[0m\u001b[0;34m.\u001b[0m\u001b[0mDataFrame\u001b[0m\u001b[0;34m\u001b[0m\u001b[0;34m\u001b[0m\u001b[0m\n",
       "\u001b[0;31mSource:\u001b[0m   \n",
       "\u001b[0;32mdef\u001b[0m \u001b[0mexclude_private_datasets\u001b[0m\u001b[0;34m(\u001b[0m\u001b[0;34m\u001b[0m\n",
       "\u001b[0;34m\u001b[0m    \u001b[0mdf\u001b[0m\u001b[0;34m:\u001b[0m \u001b[0mpd\u001b[0m\u001b[0;34m.\u001b[0m\u001b[0mDataFrame\u001b[0m\u001b[0;34m,\u001b[0m\u001b[0;34m\u001b[0m\n",
       "\u001b[0;34m\u001b[0m    \u001b[0mcol\u001b[0m\u001b[0;34m:\u001b[0m \u001b[0mstr\u001b[0m \u001b[0;34m=\u001b[0m \u001b[0;34m\"schedule_gtfs_dataset_key\"\u001b[0m\u001b[0;34m,\u001b[0m\u001b[0;34m\u001b[0m\n",
       "\u001b[0;34m\u001b[0m    \u001b[0mpublic_gtfs_dataset_keys\u001b[0m\u001b[0;34m:\u001b[0m \u001b[0mlist\u001b[0m \u001b[0;34m=\u001b[0m \u001b[0;34m[\u001b[0m\u001b[0;34m]\u001b[0m\u001b[0;34m,\u001b[0m\u001b[0;34m\u001b[0m\n",
       "\u001b[0;34m\u001b[0m\u001b[0;34m)\u001b[0m \u001b[0;34m->\u001b[0m \u001b[0mpd\u001b[0m\u001b[0;34m.\u001b[0m\u001b[0mDataFrame\u001b[0m\u001b[0;34m:\u001b[0m\u001b[0;34m\u001b[0m\n",
       "\u001b[0;34m\u001b[0m    \u001b[0;34m\"\"\"\u001b[0m\n",
       "\u001b[0;34m    Filter out private datasets.\u001b[0m\n",
       "\u001b[0;34m    \"\"\"\u001b[0m\u001b[0;34m\u001b[0m\n",
       "\u001b[0;34m\u001b[0m    \u001b[0;32mreturn\u001b[0m \u001b[0mdf\u001b[0m\u001b[0;34m[\u001b[0m\u001b[0mdf\u001b[0m\u001b[0;34m[\u001b[0m\u001b[0mcol\u001b[0m\u001b[0;34m]\u001b[0m\u001b[0;34m.\u001b[0m\u001b[0misin\u001b[0m\u001b[0;34m(\u001b[0m\u001b[0mpublic_gtfs_dataset_keys\u001b[0m\u001b[0;34m)\u001b[0m\u001b[0;34m]\u001b[0m\u001b[0;34m.\u001b[0m\u001b[0mreset_index\u001b[0m\u001b[0;34m(\u001b[0m\u001b[0mdrop\u001b[0m\u001b[0;34m=\u001b[0m\u001b[0;32mTrue\u001b[0m\u001b[0;34m)\u001b[0m\u001b[0;34m\u001b[0m\u001b[0;34m\u001b[0m\u001b[0m\n",
       "\u001b[0;31mFile:\u001b[0m      ~/data-analyses/_shared_utils/shared_utils/publish_utils.py\n",
       "\u001b[0;31mType:\u001b[0m      function"
      ]
     },
     "metadata": {},
     "output_type": "display_data"
    }
   ],
   "source": [
    " publish_utils.exclude_private_datasets??"
   ]
  },
  {
   "cell_type": "code",
   "execution_count": null,
   "id": "03d1cf20-9181-41d9-ba21-f35343bcadda",
   "metadata": {},
   "outputs": [],
   "source": [
    "segment_speeds2.pipe(\n",
    "        publish_utils.exclude_private_datasets, \n",
    "        public_gtfs_dataset_keys= public_feeds)"
   ]
  },
  {
   "cell_type": "code",
   "execution_count": null,
   "id": "4188fb04-e946-4e10-b592-059d402902bd",
   "metadata": {},
   "outputs": [],
   "source": [
    "# segment_speeds2.to_parquet(\"segment_speeds2.parquet\")"
   ]
  },
  {
   "cell_type": "code",
   "execution_count": null,
   "id": "4def6c7c-fc2a-4c32-b114-9ee54ce8395c",
   "metadata": {},
   "outputs": [],
   "source": [
    "df = pd.read_parquet(f\"{RT_SCHED_GCS}{DIGEST_SEGMENT_SPEEDS}.parquet\")"
   ]
  },
  {
   "cell_type": "code",
   "execution_count": null,
   "id": "84059c45-cf00-4456-9c9d-86cdcfda4092",
   "metadata": {},
   "outputs": [],
   "source": [
    "df.shape"
   ]
  },
  {
   "cell_type": "code",
   "execution_count": null,
   "id": "78747ff9-fe4b-4baf-92b2-62a7ee497cc7",
   "metadata": {},
   "outputs": [],
   "source": [
    "primary_typology.shape"
   ]
  },
  {
   "cell_type": "code",
   "execution_count": null,
   "id": "6cd9ff56-acf3-4375-995f-54bb877f178c",
   "metadata": {},
   "outputs": [],
   "source": [
    "dates_2024 = rt_dates.y2024_dates"
   ]
  },
  {
   "cell_type": "code",
   "execution_count": null,
   "id": "9a4d715e-388e-41da-818f-a63825f839b4",
   "metadata": {},
   "outputs": [],
   "source": [
    "segment_speeds_2024 = merge_data.concatenate_segment_speeds_by_route_direction(\n",
    "        dates_2024\n",
    "    ).pipe(\n",
    "        merge_data.merge_in_standardized_route_names, \n",
    "    ).astype({\"direction_id\": \"int64\"}) #Int64 doesn't work for gdf"
   ]
  },
  {
   "cell_type": "code",
   "execution_count": null,
   "id": "602fda64-9dac-4fc7-b291-e795cb2e0a4d",
   "metadata": {},
   "outputs": [],
   "source": [
    "segment_speeds_2024.to_parquet(f\"2024_seg_speeds.parquet\")"
   ]
  },
  {
   "cell_type": "code",
   "execution_count": null,
   "id": "5d801095-e21f-4634-9c8e-fc3cfed52445",
   "metadata": {},
   "outputs": [],
   "source": [
    "dates_2023 = rt_dates.y2023_dates"
   ]
  },
  {
   "cell_type": "code",
   "execution_count": null,
   "id": "32e8f527-7b59-48c9-8b37-bcd1fbc798e0",
   "metadata": {},
   "outputs": [],
   "source": [
    "segment_speeds_2023 = merge_data.concatenate_segment_speeds_by_route_direction(\n",
    "        dates_2023\n",
    "    ).pipe(\n",
    "        merge_data.merge_in_standardized_route_names, \n",
    "    ).astype({\"direction_id\": \"int64\"}) #Int64 doesn't work for gdf"
   ]
  },
  {
   "cell_type": "code",
   "execution_count": null,
   "id": "9db987d9-ccf3-4c06-81f1-fd48e0c1fcae",
   "metadata": {},
   "outputs": [],
   "source": [
    "segment_speeds_2023.to_parquet(f\"2023_seg_speeds.parquet\")"
   ]
  },
  {
   "cell_type": "code",
   "execution_count": null,
   "id": "782bff8b-0c54-4e32-bfd8-3305186bec21",
   "metadata": {},
   "outputs": [],
   "source": [
    "segment_speeds = pd.concat([segment_speeds_2024, segment_speeds_2023])"
   ]
  },
  {
   "cell_type": "code",
   "execution_count": null,
   "id": "f91dfd47-127f-4603-a3e2-b11252b491c5",
   "metadata": {},
   "outputs": [],
   "source": [
    "segment_speeds.to_parquet(f\"all_seg_speeds.parquet\")"
   ]
  },
  {
   "cell_type": "code",
   "execution_count": null,
   "id": "a938545a-b3b6-472c-aba8-218c31675bb4",
   "metadata": {},
   "outputs": [],
   "source": []
  }
 ],
 "metadata": {
  "kernelspec": {
   "display_name": "Python 3 (ipykernel)",
   "language": "python",
   "name": "python3"
  },
  "language_info": {
   "codemirror_mode": {
    "name": "ipython",
    "version": 3
   },
   "file_extension": ".py",
   "mimetype": "text/x-python",
   "name": "python",
   "nbconvert_exporter": "python",
   "pygments_lexer": "ipython3",
   "version": "3.9.13"
  }
 },
 "nbformat": 4,
 "nbformat_minor": 5
}
