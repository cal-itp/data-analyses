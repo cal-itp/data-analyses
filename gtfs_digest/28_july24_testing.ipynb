{
 "cells": [
  {
   "cell_type": "code",
   "execution_count": 1,
   "id": "a1f4449c-9e27-48d3-a8de-63e99cc47aed",
   "metadata": {},
   "outputs": [],
   "source": [
    "import geopandas as gpd\n",
    "import pandas as pd\n",
    "from segment_speed_utils import gtfs_schedule_wrangling, helpers\n",
    "from shared_utils import catalog_utils, rt_dates, rt_utils\n",
    "from update_vars import GTFS_DATA_DICT, RT_SCHED_GCS, SCHED_GCS\n",
    "\n",
    "# https://github.com/cal-itp/data-analyses/blob/main/_shared_utils/shared_utils/gtfs_analytics_data.yml\n",
    "GTFS_DATA_DICT = catalog_utils.get_catalog(\"gtfs_analytics_data\")\n",
    "\n",
    "from segment_speed_utils.project_vars import (\n",
    "    COMPILED_CACHED_VIEWS,\n",
    "    GTFS_DATA_DICT,\n",
    "    PROJECT_CRS,\n",
    "    RT_SCHED_GCS,\n",
    "    SCHED_GCS,\n",
    "    SEGMENT_GCS,\n",
    ")"
   ]
  },
  {
   "cell_type": "code",
   "execution_count": 2,
   "id": "aabb4707-14cb-4c2e-97b6-69ee4def3e41",
   "metadata": {},
   "outputs": [],
   "source": [
    "pd.options.display.max_columns = 100\n",
    "pd.options.display.float_format = \"{:.2f}\".format\n",
    "pd.set_option(\"display.max_rows\", None)\n",
    "pd.set_option(\"display.max_colwidth\", None)"
   ]
  },
  {
   "cell_type": "code",
   "execution_count": 3,
   "id": "5975d201-9b0a-4674-99aa-ce6402a2b9b2",
   "metadata": {},
   "outputs": [],
   "source": [
    "july_date = rt_dates.y2024_dates[-1]"
   ]
  },
  {
   "cell_type": "code",
   "execution_count": 4,
   "id": "747cff4b-ca00-4468-b214-f116e19c0a76",
   "metadata": {},
   "outputs": [],
   "source": [
    "import _section1_utils as section1\n",
    "import _section2_utils as section2\n",
    "import merge_data"
   ]
  },
  {
   "cell_type": "code",
   "execution_count": 5,
   "id": "cd298eba-7ece-4a8e-97b7-ee7ccdd31200",
   "metadata": {
    "tags": [
     "parameters"
    ]
   },
   "outputs": [],
   "source": [
    "# Comment out and leave this cell right below pandas\n",
    "organization_name = \"Marin County Transit District\""
   ]
  },
  {
   "cell_type": "code",
   "execution_count": 6,
   "id": "bd19d7e0-419c-461f-8162-7c7532551a0f",
   "metadata": {},
   "outputs": [],
   "source": [
    "# Need to load \"name\" using this function rather than taking it from\n",
    "# operator profiles above because \"name\" and \"organization_name\" differ.\n",
    "name = section1.organization_name_crosswalk(organization_name)"
   ]
  },
  {
   "cell_type": "code",
   "execution_count": 7,
   "id": "a71e9b4a-8463-46c3-81d8-d33b390131c6",
   "metadata": {},
   "outputs": [],
   "source": [
    "analysis_date_list = rt_dates.y2024_dates"
   ]
  },
  {
   "cell_type": "code",
   "execution_count": 8,
   "id": "9e535e0a-9979-42ae-823c-abf3d3212d0f",
   "metadata": {},
   "outputs": [
    {
     "data": {
      "text/plain": [
       "['2024-01-17',\n",
       " '2024-02-14',\n",
       " '2024-03-13',\n",
       " '2024-04-17',\n",
       " '2024-05-22',\n",
       " '2024-06-12',\n",
       " '2024-07-17']"
      ]
     },
     "execution_count": 8,
     "metadata": {},
     "output_type": "execute_result"
    }
   ],
   "source": [
    "analysis_date_list"
   ]
  },
  {
   "cell_type": "markdown",
   "id": "ac5e05eb-a25e-4d04-b985-b40efecc922d",
   "metadata": {},
   "source": [
    "### Double check values make sense \n",
    "* For July 2024 + adding in the NTD stuff in the middle of the pipeline."
   ]
  },
  {
   "cell_type": "code",
   "execution_count": 9,
   "id": "6a6dd026-7bf9-40df-9143-e69545a62c61",
   "metadata": {},
   "outputs": [],
   "source": [
    "# Load first dataset\n",
    "operator_profiles = section1.load_operator_ntd_profile(organization_name)"
   ]
  },
  {
   "cell_type": "code",
   "execution_count": 10,
   "id": "786ccbc5-316a-4404-ac3c-bb367a9c7439",
   "metadata": {},
   "outputs": [],
   "source": [
    "operator_route_map = section1.load_operator_map(name)"
   ]
  },
  {
   "cell_type": "code",
   "execution_count": 11,
   "id": "bade3101-3dcb-42e5-a240-68b9c20aa1cc",
   "metadata": {},
   "outputs": [],
   "source": [
    "scheduled_service = section1.load_operator_service_hours(name)"
   ]
  },
  {
   "cell_type": "code",
   "execution_count": 12,
   "id": "24dd905f-a47e-406d-b7b7-f1a9cfbe5bfd",
   "metadata": {},
   "outputs": [],
   "source": [
    "sched_vp_df = section2.load_schedule_vp_metrics(organization_name)"
   ]
  },
  {
   "cell_type": "code",
   "execution_count": 13,
   "id": "3dd6bb30-1fa1-4ca4-9f75-12d9e8752950",
   "metadata": {},
   "outputs": [
    {
     "data": {
      "text/plain": [
       "'gs://calitp-analytics-data/data-analyses/rt_vs_schedule/digest/schedule_vp_metrics'"
      ]
     },
     "execution_count": 13,
     "metadata": {},
     "output_type": "execute_result"
    }
   ],
   "source": [
    "f\"{GTFS_DATA_DICT.digest_tables.dir}{GTFS_DATA_DICT.digest_tables.route_schedule_vp}\""
   ]
  },
  {
   "cell_type": "code",
   "execution_count": 14,
   "id": "e07f174c-3c05-4de7-ba1a-49a27534d88c",
   "metadata": {},
   "outputs": [
    {
     "data": {
      "text/html": [
       "<div>\n",
       "<style scoped>\n",
       "    .dataframe tbody tr th:only-of-type {\n",
       "        vertical-align: middle;\n",
       "    }\n",
       "\n",
       "    .dataframe tbody tr th {\n",
       "        vertical-align: top;\n",
       "    }\n",
       "\n",
       "    .dataframe thead th {\n",
       "        text-align: right;\n",
       "    }\n",
       "</style>\n",
       "<table border=\"1\" class=\"dataframe\">\n",
       "  <thead>\n",
       "    <tr style=\"text-align: right;\">\n",
       "      <th></th>\n",
       "      <th>schedule_gtfs_dataset_key</th>\n",
       "      <th>dir_0_1</th>\n",
       "      <th>Period</th>\n",
       "      <th>Average Scheduled Service (trip minutes)</th>\n",
       "      <th>Average Stop Distance (miles)</th>\n",
       "      <th># scheduled trips</th>\n",
       "      <th>Trips per Hour</th>\n",
       "      <th>is_express</th>\n",
       "      <th>is_rapid</th>\n",
       "      <th>is_rail</th>\n",
       "      <th>is_coverage</th>\n",
       "      <th>is_downtown_local</th>\n",
       "      <th>is_local</th>\n",
       "      <th>Date</th>\n",
       "      <th>Route typology</th>\n",
       "      <th># Minutes with 1+ VP per Minute</th>\n",
       "      <th># Minutes with 2+ VP per Minute</th>\n",
       "      <th>Aggregate Actual Service Minutes</th>\n",
       "      <th>Aggregate Scheduled Service Minutes (all trips)</th>\n",
       "      <th># VP</th>\n",
       "      <th># VP within Scheduled Shape</th>\n",
       "      <th># Early Arrival Trips</th>\n",
       "      <th># On-Time Trips</th>\n",
       "      <th># Late Trips</th>\n",
       "      <th># Trips with VP</th>\n",
       "      <th>Average VP per Minute</th>\n",
       "      <th>% VP within Scheduled Shape</th>\n",
       "      <th>pct_rt_journey_atleast1_vp</th>\n",
       "      <th>pct_rt_journey_atleast2_vp</th>\n",
       "      <th>% Scheduled Trip w/ 1+ VP/Minute</th>\n",
       "      <th>% Scheduled Trip w/ 2+ VP/Minute</th>\n",
       "      <th>Realtime versus Scheduled Service Ratio</th>\n",
       "      <th>Average Actual Service (Trip Minutes)</th>\n",
       "      <th>schedule_source_record_id_x</th>\n",
       "      <th>GTFS Availability</th>\n",
       "      <th>Speed (MPH)</th>\n",
       "      <th>Transit Operator</th>\n",
       "      <th>route_long_name</th>\n",
       "      <th>route_short_name</th>\n",
       "      <th>Route</th>\n",
       "      <th>Route ID</th>\n",
       "      <th>schedule_source_record_id_y</th>\n",
       "      <th>Base64 Encoded Feed URL</th>\n",
       "      <th>Organization ID</th>\n",
       "      <th>Organization</th>\n",
       "      <th>District</th>\n",
       "      <th>Direction</th>\n",
       "      <th>ruler_100_pct</th>\n",
       "      <th>ruler_for_vp_per_min</th>\n",
       "      <th>frequency_in_minutes</th>\n",
       "    </tr>\n",
       "  </thead>\n",
       "  <tbody>\n",
       "    <tr>\n",
       "      <th>0</th>\n",
       "      <td>015d67d5b75b5cf2b710bbadadfb75f5</td>\n",
       "      <td>0.00</td>\n",
       "      <td>all_day</td>\n",
       "      <td>57.14</td>\n",
       "      <td>0.28</td>\n",
       "      <td>22</td>\n",
       "      <td>0.92</td>\n",
       "      <td>0.00</td>\n",
       "      <td>1.00</td>\n",
       "      <td>0.00</td>\n",
       "      <td>0.00</td>\n",
       "      <td>1.00</td>\n",
       "      <td>0.00</td>\n",
       "      <td>2023-04-12</td>\n",
       "      <td>downtown_local</td>\n",
       "      <td>1614</td>\n",
       "      <td>1579</td>\n",
       "      <td>2517.85</td>\n",
       "      <td>1201.00</td>\n",
       "      <td>4596</td>\n",
       "      <td>3438</td>\n",
       "      <td>2</td>\n",
       "      <td>8</td>\n",
       "      <td>11</td>\n",
       "      <td>21</td>\n",
       "      <td>1.83</td>\n",
       "      <td>75.00</td>\n",
       "      <td>64.00</td>\n",
       "      <td>63.00</td>\n",
       "      <td>100.00</td>\n",
       "      <td>100.00</td>\n",
       "      <td>2.10</td>\n",
       "      <td>119.90</td>\n",
       "      <td>None</td>\n",
       "      <td>schedule_and_vp</td>\n",
       "      <td>16.63</td>\n",
       "      <td>Bay Area 511 Marin Schedule</td>\n",
       "      <td>Downtown San Rafael - Sausalito</td>\n",
       "      <td>17</td>\n",
       "      <td>17 Downtown San Rafael - Sausalito</td>\n",
       "      <td>17</td>\n",
       "      <td>reckCEnFkdLVgfxck</td>\n",
       "      <td>aHR0cHM6Ly9hcGkuNTExLm9yZy90cmFuc2l0L2RhdGFmZWVkcz9vcGVyYXRvcl9pZD1NQQ==</td>\n",
       "      <td>recNOb7pqBRlQVG5e</td>\n",
       "      <td>Marin County Transit District</td>\n",
       "      <td>04 - Oakland</td>\n",
       "      <td>Northbound</td>\n",
       "      <td>100</td>\n",
       "      <td>2</td>\n",
       "      <td>65.22</td>\n",
       "    </tr>\n",
       "    <tr>\n",
       "      <th>1</th>\n",
       "      <td>015d67d5b75b5cf2b710bbadadfb75f5</td>\n",
       "      <td>0.00</td>\n",
       "      <td>all_day</td>\n",
       "      <td>57.14</td>\n",
       "      <td>0.28</td>\n",
       "      <td>22</td>\n",
       "      <td>0.92</td>\n",
       "      <td>0.00</td>\n",
       "      <td>1.00</td>\n",
       "      <td>0.00</td>\n",
       "      <td>0.00</td>\n",
       "      <td>1.00</td>\n",
       "      <td>0.00</td>\n",
       "      <td>2023-05-17</td>\n",
       "      <td>downtown_local</td>\n",
       "      <td>1672</td>\n",
       "      <td>1652</td>\n",
       "      <td>2326.07</td>\n",
       "      <td>1257.00</td>\n",
       "      <td>4953</td>\n",
       "      <td>4287</td>\n",
       "      <td>0</td>\n",
       "      <td>4</td>\n",
       "      <td>18</td>\n",
       "      <td>22</td>\n",
       "      <td>2.13</td>\n",
       "      <td>87.00</td>\n",
       "      <td>72.00</td>\n",
       "      <td>71.00</td>\n",
       "      <td>100.00</td>\n",
       "      <td>100.00</td>\n",
       "      <td>1.85</td>\n",
       "      <td>105.73</td>\n",
       "      <td>None</td>\n",
       "      <td>schedule_and_vp</td>\n",
       "      <td>15.72</td>\n",
       "      <td>Bay Area 511 Marin Schedule</td>\n",
       "      <td>Downtown San Rafael - Sausalito</td>\n",
       "      <td>17</td>\n",
       "      <td>17 Downtown San Rafael - Sausalito</td>\n",
       "      <td>17</td>\n",
       "      <td>reckCEnFkdLVgfxck</td>\n",
       "      <td>aHR0cHM6Ly9hcGkuNTExLm9yZy90cmFuc2l0L2RhdGFmZWVkcz9vcGVyYXRvcl9pZD1NQQ==</td>\n",
       "      <td>recNOb7pqBRlQVG5e</td>\n",
       "      <td>Marin County Transit District</td>\n",
       "      <td>04 - Oakland</td>\n",
       "      <td>Northbound</td>\n",
       "      <td>100</td>\n",
       "      <td>2</td>\n",
       "      <td>65.22</td>\n",
       "    </tr>\n",
       "  </tbody>\n",
       "</table>\n",
       "</div>"
      ],
      "text/plain": [
       "          schedule_gtfs_dataset_key  dir_0_1   Period  \\\n",
       "0  015d67d5b75b5cf2b710bbadadfb75f5     0.00  all_day   \n",
       "1  015d67d5b75b5cf2b710bbadadfb75f5     0.00  all_day   \n",
       "\n",
       "   Average Scheduled Service (trip minutes)  Average Stop Distance (miles)  \\\n",
       "0                                     57.14                           0.28   \n",
       "1                                     57.14                           0.28   \n",
       "\n",
       "   # scheduled trips  Trips per Hour  is_express  is_rapid  is_rail  \\\n",
       "0                 22            0.92        0.00      1.00     0.00   \n",
       "1                 22            0.92        0.00      1.00     0.00   \n",
       "\n",
       "   is_coverage  is_downtown_local  is_local       Date  Route typology  \\\n",
       "0         0.00               1.00      0.00 2023-04-12  downtown_local   \n",
       "1         0.00               1.00      0.00 2023-05-17  downtown_local   \n",
       "\n",
       "   # Minutes with 1+ VP per Minute  # Minutes with 2+ VP per Minute  \\\n",
       "0                             1614                             1579   \n",
       "1                             1672                             1652   \n",
       "\n",
       "   Aggregate Actual Service Minutes  \\\n",
       "0                           2517.85   \n",
       "1                           2326.07   \n",
       "\n",
       "   Aggregate Scheduled Service Minutes (all trips)  # VP  \\\n",
       "0                                          1201.00  4596   \n",
       "1                                          1257.00  4953   \n",
       "\n",
       "   # VP within Scheduled Shape  # Early Arrival Trips  # On-Time Trips  \\\n",
       "0                         3438                      2                8   \n",
       "1                         4287                      0                4   \n",
       "\n",
       "   # Late Trips  # Trips with VP  Average VP per Minute  \\\n",
       "0            11               21                   1.83   \n",
       "1            18               22                   2.13   \n",
       "\n",
       "   % VP within Scheduled Shape  pct_rt_journey_atleast1_vp  \\\n",
       "0                        75.00                       64.00   \n",
       "1                        87.00                       72.00   \n",
       "\n",
       "   pct_rt_journey_atleast2_vp  % Scheduled Trip w/ 1+ VP/Minute  \\\n",
       "0                       63.00                            100.00   \n",
       "1                       71.00                            100.00   \n",
       "\n",
       "   % Scheduled Trip w/ 2+ VP/Minute  Realtime versus Scheduled Service Ratio  \\\n",
       "0                            100.00                                     2.10   \n",
       "1                            100.00                                     1.85   \n",
       "\n",
       "   Average Actual Service (Trip Minutes) schedule_source_record_id_x  \\\n",
       "0                                 119.90                        None   \n",
       "1                                 105.73                        None   \n",
       "\n",
       "  GTFS Availability  Speed (MPH)             Transit Operator  \\\n",
       "0   schedule_and_vp        16.63  Bay Area 511 Marin Schedule   \n",
       "1   schedule_and_vp        15.72  Bay Area 511 Marin Schedule   \n",
       "\n",
       "                   route_long_name route_short_name  \\\n",
       "0  Downtown San Rafael - Sausalito               17   \n",
       "1  Downtown San Rafael - Sausalito               17   \n",
       "\n",
       "                                Route Route ID schedule_source_record_id_y  \\\n",
       "0  17 Downtown San Rafael - Sausalito       17           reckCEnFkdLVgfxck   \n",
       "1  17 Downtown San Rafael - Sausalito       17           reckCEnFkdLVgfxck   \n",
       "\n",
       "                                                    Base64 Encoded Feed URL  \\\n",
       "0  aHR0cHM6Ly9hcGkuNTExLm9yZy90cmFuc2l0L2RhdGFmZWVkcz9vcGVyYXRvcl9pZD1NQQ==   \n",
       "1  aHR0cHM6Ly9hcGkuNTExLm9yZy90cmFuc2l0L2RhdGFmZWVkcz9vcGVyYXRvcl9pZD1NQQ==   \n",
       "\n",
       "     Organization ID                   Organization      District   Direction  \\\n",
       "0  recNOb7pqBRlQVG5e  Marin County Transit District  04 - Oakland  Northbound   \n",
       "1  recNOb7pqBRlQVG5e  Marin County Transit District  04 - Oakland  Northbound   \n",
       "\n",
       "   ruler_100_pct  ruler_for_vp_per_min  frequency_in_minutes  \n",
       "0            100                     2                 65.22  \n",
       "1            100                     2                 65.22  "
      ]
     },
     "execution_count": 14,
     "metadata": {},
     "output_type": "execute_result"
    }
   ],
   "source": [
    "sched_vp_df.head(2)"
   ]
  },
  {
   "cell_type": "code",
   "execution_count": 15,
   "id": "f087c86e-38ae-4ed6-b3ec-f9c99b9653c8",
   "metadata": {},
   "outputs": [
    {
     "data": {
      "text/plain": [
       "array(['2023-04-12T00:00:00.000000000', '2023-05-17T00:00:00.000000000',\n",
       "       '2023-06-14T00:00:00.000000000', '2023-07-12T00:00:00.000000000',\n",
       "       '2023-08-15T00:00:00.000000000', '2023-09-13T00:00:00.000000000',\n",
       "       '2023-10-11T00:00:00.000000000', '2023-11-15T00:00:00.000000000',\n",
       "       '2023-12-13T00:00:00.000000000', '2024-01-17T00:00:00.000000000',\n",
       "       '2024-02-14T00:00:00.000000000', '2024-03-13T00:00:00.000000000',\n",
       "       '2024-04-17T00:00:00.000000000', '2024-05-22T00:00:00.000000000',\n",
       "       '2024-06-12T00:00:00.000000000', '2024-07-17T00:00:00.000000000',\n",
       "       '2023-03-15T00:00:00.000000000'], dtype='datetime64[ns]')"
      ]
     },
     "execution_count": 15,
     "metadata": {},
     "output_type": "execute_result"
    }
   ],
   "source": [
    "sched_vp_df.Date.unique()"
   ]
  },
  {
   "cell_type": "code",
   "execution_count": null,
   "id": "27855472-153e-45c2-8a2d-44bc7781eb49",
   "metadata": {},
   "outputs": [],
   "source": []
  },
  {
   "cell_type": "markdown",
   "id": "025c38c0-2365-4820-b6c5-94e657e12387",
   "metadata": {},
   "source": [
    "### Recreate `gtfs_digest/merge_data` \n",
    "#### Why are all these NTD columns popping up?? \n",
    "* Delete them!"
   ]
  },
  {
   "cell_type": "code",
   "execution_count": null,
   "id": "5651aac1-1956-4aaf-a7be-aa6174197e11",
   "metadata": {},
   "outputs": [],
   "source": [
    "df_rt_sched = (\n",
    "        merge_data.concatenate_rt_vs_schedule_by_route_direction(\n",
    "            analysis_date_list)\n",
    "        .astype({\"direction_id\": \"float\"})\n",
    "    )\n",
    "    "
   ]
  },
  {
   "cell_type": "code",
   "execution_count": null,
   "id": "20308f03-0cd6-4999-bc28-8807f4f90f0c",
   "metadata": {},
   "outputs": [],
   "source": [
    "df_rt_sched.head(2)"
   ]
  },
  {
   "cell_type": "code",
   "execution_count": null,
   "id": "f6694ec7-4379-4fa0-815e-d13be6a3287b",
   "metadata": {},
   "outputs": [],
   "source": [
    "# No NTD stuff\n",
    "df_sched = merge_data.concatenate_schedule_by_route_direction(analysis_date_list)"
   ]
  },
  {
   "cell_type": "code",
   "execution_count": null,
   "id": "cddcbff8-047c-4c3e-8e62-f93f394ac103",
   "metadata": {},
   "outputs": [],
   "source": [
    "df_sched.head(2)"
   ]
  },
  {
   "cell_type": "code",
   "execution_count": null,
   "id": "ecae2787-7c4d-4c7d-83cb-b6dc019a96be",
   "metadata": {},
   "outputs": [],
   "source": [
    "primary_typology = merge_data.set_primary_typology(df_sched)"
   ]
  },
  {
   "cell_type": "code",
   "execution_count": null,
   "id": "5938d75f-698c-4b82-9fc3-519e81078610",
   "metadata": {},
   "outputs": [],
   "source": [
    "primary_typology.head(2)"
   ]
  },
  {
   "cell_type": "code",
   "execution_count": null,
   "id": "f36f32fd-50b9-4864-90ed-297f1e22ab0d",
   "metadata": {},
   "outputs": [],
   "source": [
    "route_time_cols = [\n",
    "    \"schedule_gtfs_dataset_key\",\n",
    "    \"route_id\",\n",
    "    \"direction_id\",\n",
    "    \"time_period\",\n",
    "]"
   ]
  },
  {
   "cell_type": "code",
   "execution_count": null,
   "id": "316ef412-de74-460b-98ed-8a2019846fc3",
   "metadata": {},
   "outputs": [],
   "source": [
    "df_sched2 = pd.merge(df_sched, primary_typology, on=route_time_cols, how=\"left\")"
   ]
  },
  {
   "cell_type": "code",
   "execution_count": null,
   "id": "cb2a4af3-909e-4747-b97a-1715fdc83c49",
   "metadata": {},
   "outputs": [],
   "source": [
    "df_avg_speeds = merge_data.concatenate_speeds_by_route_direction(analysis_date_list)"
   ]
  },
  {
   "cell_type": "code",
   "execution_count": null,
   "id": "6942f1d5-2818-4eea-bdad-add6b9497134",
   "metadata": {},
   "outputs": [],
   "source": [
    "df_avg_speeds.head(2)"
   ]
  },
  {
   "cell_type": "code",
   "execution_count": null,
   "id": "f2c37719-e9de-4b98-b2eb-9e15e31cf84e",
   "metadata": {},
   "outputs": [],
   "source": [
    "df_rt_sched = merge_data.concatenate_rt_vs_schedule_by_route_direction(\n",
    "    analysis_date_list\n",
    ").astype({\"direction_id\": \"float\"})"
   ]
  },
  {
   "cell_type": "markdown",
   "id": "bc369177-e6ee-422e-91ea-db92d23d91b3",
   "metadata": {},
   "source": [
    "#### This already has the NTD data\n",
    "* Find where the original dataset is created."
   ]
  },
  {
   "cell_type": "code",
   "execution_count": null,
   "id": "fd8235f3-be90-42e4-a9b6-8a79aa9d23e8",
   "metadata": {},
   "outputs": [],
   "source": [
    "# This is the file that is saved out\n",
    "DIGEST_RT_SCHED = GTFS_DATA_DICT.digest_tables.route_schedule_vp"
   ]
  },
  {
   "cell_type": "code",
   "execution_count": null,
   "id": "a8491db0-d524-468e-a562-e61253c84196",
   "metadata": {},
   "outputs": [],
   "source": [
    "DIGEST_RT_SCHED"
   ]
  },
  {
   "cell_type": "code",
   "execution_count": null,
   "id": "6616659a-96d2-4776-874f-14ce9e4de504",
   "metadata": {},
   "outputs": [],
   "source": [
    "df_rt_sched.head(2)"
   ]
  },
  {
   "cell_type": "markdown",
   "id": "89837ac0-6c5b-43c5-b7f9-735c127ba24e",
   "metadata": {},
   "source": [
    "#### This file is \n",
    "`rt_scheduled_v_ran/scripts/rt_v_scheduled_routes.py`"
   ]
  },
  {
   "cell_type": "code",
   "execution_count": null,
   "id": "02acce6b-c655-4b6e-93d6-3c110223f765",
   "metadata": {},
   "outputs": [],
   "source": [
    "ah_test = \"gs://calitp-analytics-data/data-analyses/rt_vs_schedule/vp_route_dir/route_direction_metrics_2024-07-17_ah_test.parquet\""
   ]
  },
  {
   "cell_type": "code",
   "execution_count": null,
   "id": "9807d87a-8181-4625-b498-33cd58b489c7",
   "metadata": {},
   "outputs": [],
   "source": [
    "ah_test_df = pd.read_parquet(ah_test)"
   ]
  },
  {
   "cell_type": "code",
   "execution_count": null,
   "id": "18d06732-1c78-4c54-9c84-e02042e2a37a",
   "metadata": {},
   "outputs": [],
   "source": [
    "ah_test_df.head(2)"
   ]
  },
  {
   "cell_type": "code",
   "execution_count": null,
   "id": "ef1595b6-b344-48cd-b955-a1f9ae07f2ac",
   "metadata": {},
   "outputs": [],
   "source": [
    "FILE = GTFS_DATA_DICT.rt_vs_schedule_tables.vp_route_direction_metrics"
   ]
  },
  {
   "cell_type": "code",
   "execution_count": null,
   "id": "052c0502-42e0-4548-bb2f-462448a66eb2",
   "metadata": {},
   "outputs": [],
   "source": [
    "FILE"
   ]
  },
  {
   "cell_type": "code",
   "execution_count": null,
   "id": "8f4e02c0-ef7b-41f5-8309-28b8159e8b75",
   "metadata": {},
   "outputs": [],
   "source": [
    "import sys\n",
    "\n",
    "sys.path.append(\"../rt_scheduled_v_ran/scripts\")\n",
    "import rt_v_scheduled_routes"
   ]
  },
  {
   "cell_type": "code",
   "execution_count": null,
   "id": "1eefd8f9-a987-4fa3-ade9-6e55cf62a52c",
   "metadata": {},
   "outputs": [],
   "source": [
    "dict_inputs = GTFS_DATA_DICT.rt_vs_schedule_tables"
   ]
  },
  {
   "cell_type": "code",
   "execution_count": null,
   "id": "b6afd3ef-2bea-40b8-a19c-ca9ca13e6642",
   "metadata": {},
   "outputs": [],
   "source": [
    "analysis_date = analysis_date_list[-1]"
   ]
  },
  {
   "cell_type": "code",
   "execution_count": null,
   "id": "2e4a1700-0fe9-417e-a1d6-38f5a1467aca",
   "metadata": {},
   "outputs": [],
   "source": [
    "TRIP_EXPORT = dict_inputs.vp_trip_metrics\n",
    "ROUTE_EXPORT = dict_inputs.vp_route_direction_metrics"
   ]
  },
  {
   "cell_type": "code",
   "execution_count": null,
   "id": "598c64d8-2b3a-4ba8-bf24-2c8edbe625e8",
   "metadata": {},
   "outputs": [],
   "source": [
    "ROUTE_EXPORT"
   ]
  },
  {
   "cell_type": "code",
   "execution_count": null,
   "id": "d8930b1b-e31c-4a04-8ed7-094493ad9560",
   "metadata": {},
   "outputs": [],
   "source": [
    "trip_df = pd.read_parquet(f\"{RT_SCHED_GCS}{TRIP_EXPORT}_{analysis_date}.parquet\")"
   ]
  },
  {
   "cell_type": "code",
   "execution_count": null,
   "id": "e6386e79-7418-463a-b4cb-8cb09807092f",
   "metadata": {},
   "outputs": [],
   "source": [
    "from segment_speed_utils import gtfs_schedule_wrangling, metrics\n",
    "from segment_speed_utils.time_series_utils import ROUTE_DIR_COLS"
   ]
  },
  {
   "cell_type": "code",
   "execution_count": null,
   "id": "90f9f472-2f32-470c-8143-efcb87498710",
   "metadata": {},
   "outputs": [],
   "source": [
    "trip_df.head(2)"
   ]
  },
  {
   "cell_type": "code",
   "execution_count": null,
   "id": "d6a59efb-419c-43f1-8a65-83a73b77aae0",
   "metadata": {},
   "outputs": [],
   "source": [
    "route_df1 = metrics.concatenate_peak_offpeak_allday_averages(\n",
    "    trip_df,\n",
    "    group_cols=[\"schedule_gtfs_dataset_key\"] + ROUTE_DIR_COLS,\n",
    "    metric_type=\"rt_vs_schedule\",\n",
    ")"
   ]
  },
  {
   "cell_type": "code",
   "execution_count": null,
   "id": "6468eb79-a9e7-4d66-ac2a-73a7439d0620",
   "metadata": {},
   "outputs": [],
   "source": [
    "route_df1.head(2)"
   ]
  },
  {
   "cell_type": "code",
   "execution_count": null,
   "id": "68d423b6-3ae8-460c-b2f6-822d162da085",
   "metadata": {},
   "outputs": [],
   "source": [
    "route_df2 = metrics.concatenate_peak_offpeak_allday_averages(\n",
    "    trip_df,\n",
    "    group_cols=[\"schedule_gtfs_dataset_key\"] + ROUTE_DIR_COLS,\n",
    "    metric_type=\"rt_vs_schedule\",\n",
    ").pipe(metrics.derive_rt_vs_schedule_metrics)"
   ]
  },
  {
   "cell_type": "code",
   "execution_count": null,
   "id": "77b944fd-1c7b-4093-b246-293e5c0e7790",
   "metadata": {},
   "outputs": [],
   "source": [
    "route_df2.head(2)"
   ]
  },
  {
   "cell_type": "code",
   "execution_count": null,
   "id": "0ec374df-813f-4ab5-9648-723222b252b1",
   "metadata": {},
   "outputs": [],
   "source": [
    "route_df3 = (\n",
    "    metrics.concatenate_peak_offpeak_allday_averages(\n",
    "        trip_df,\n",
    "        group_cols=[\"schedule_gtfs_dataset_key\"] + ROUTE_DIR_COLS,\n",
    "        metric_type=\"rt_vs_schedule\",\n",
    "    )\n",
    "    .pipe(metrics.derive_rt_vs_schedule_metrics)\n",
    "    .pipe(rt_v_scheduled_routes.average_rt_trip_times)\n",
    ")"
   ]
  },
  {
   "cell_type": "code",
   "execution_count": null,
   "id": "a8b0eaf9-e90b-44af-b597-b9236cb6a171",
   "metadata": {},
   "outputs": [],
   "source": [
    "route_df3.head(2)"
   ]
  },
  {
   "cell_type": "code",
   "execution_count": null,
   "id": "446f1bf7-b4d9-4085-abda-dca0f391646b",
   "metadata": {},
   "outputs": [],
   "source": [
    "route_df4 = (\n",
    "    metrics.concatenate_peak_offpeak_allday_averages(\n",
    "        trip_df,\n",
    "        group_cols=[\"schedule_gtfs_dataset_key\"] + ROUTE_DIR_COLS,\n",
    "        metric_type=\"rt_vs_schedule\",\n",
    "    )\n",
    "    .pipe(metrics.derive_rt_vs_schedule_metrics)\n",
    "    .pipe(rt_v_scheduled_routes.average_rt_trip_times)\n",
    "    .pipe(gtfs_schedule_wrangling.merge_operator_identifiers, [analysis_date])\n",
    ")"
   ]
  },
  {
   "cell_type": "code",
   "execution_count": null,
   "id": "a40f9fe4-6fe5-4ef4-a61c-8dc8e7d12194",
   "metadata": {},
   "outputs": [],
   "source": [
    "route_df4.head(2)"
   ]
  },
  {
   "cell_type": "markdown",
   "id": "09627dde-65fa-466b-844d-3ebe32bae7ed",
   "metadata": {
    "tags": []
   },
   "source": [
    "#### Original crosswalk"
   ]
  },
  {
   "cell_type": "code",
   "execution_count": null,
   "id": "cedea627-e317-40bb-8f9a-8bf42f8d9a9d",
   "metadata": {},
   "outputs": [],
   "source": [
    "TABLE = GTFS_DATA_DICT.schedule_tables.gtfs_key_crosswalk\n",
    "FILE = f\"{SCHED_GCS}{TABLE}_{analysis_date}.parquet\"\n",
    "\n",
    "crosswalk = pd.read_parquet(FILE)"
   ]
  },
  {
   "cell_type": "code",
   "execution_count": null,
   "id": "ff79d5e5-ad67-44bd-ae96-7257f7116541",
   "metadata": {},
   "outputs": [],
   "source": [
    "crosswalk.head(2)"
   ]
  },
  {
   "cell_type": "code",
   "execution_count": null,
   "id": "037f7e7b-9883-4dd1-8b48-90909c79cb6f",
   "metadata": {},
   "outputs": [],
   "source": [
    "crosswalk_cols = [\n",
    "    \"schedule_gtfs_dataset_key\",\n",
    "    \"name\",\n",
    "    \"schedule_source_record_id\",\n",
    "    \"base64_url\",\n",
    "    \"organization_source_record_id\",\n",
    "    \"organization_name\",\n",
    "    \"caltrans_district\",\n",
    "]"
   ]
  },
  {
   "cell_type": "code",
   "execution_count": null,
   "id": "2c2f24e9-41a4-4488-9443-b9eea1df9990",
   "metadata": {},
   "outputs": [],
   "source": [
    "analysis_date"
   ]
  },
  {
   "cell_type": "code",
   "execution_count": null,
   "id": "b99bfd67-b1d1-443d-bbd7-cedb7e64ab37",
   "metadata": {},
   "outputs": [],
   "source": [
    "crosswalk_df = gtfs_schedule_wrangling.merge_operator_identifiers(trip_df, \n",
    "                                                                 [analysis_date],\n",
    "                                                                 columns = crosswalk_cols)"
   ]
  },
  {
   "cell_type": "code",
   "execution_count": null,
   "id": "2233f2f2-9ca4-45bf-93d2-6e7feab3889d",
   "metadata": {},
   "outputs": [],
   "source": [
    "crosswalk_df.head(2)"
   ]
  },
  {
   "cell_type": "code",
   "execution_count": null,
   "id": "9a5c4c26-978c-42bf-a93d-5d49dd7abd47",
   "metadata": {},
   "outputs": [],
   "source": [
    "route_df.head(2)"
   ]
  },
  {
   "cell_type": "markdown",
   "id": "0424720c-4ba5-431a-b3cc-23f3712fca0a",
   "metadata": {},
   "source": [
    "### `merge_data/concatenate_crosswalk_organization`"
   ]
  },
  {
   "cell_type": "code",
   "execution_count": null,
   "id": "12a7b621-648f-4a49-8d21-d1cdf2def1aa",
   "metadata": {},
   "outputs": [],
   "source": [
    "FILE = GTFS_DATA_DICT.schedule_tables.gtfs_key_crosswalk\n",
    " "
   ]
  },
  {
   "cell_type": "code",
   "execution_count": null,
   "id": "ffcd32f7-4c69-4169-b9de-804afe5d1ed6",
   "metadata": {},
   "outputs": [],
   "source": [
    "df = merge_data.concatenate_crosswalk_organization(analysis_date_list)"
   ]
  },
  {
   "cell_type": "code",
   "execution_count": null,
   "id": "5721156a-9ca1-4190-8246-b62719a9cdcf",
   "metadata": {},
   "outputs": [],
   "source": [
    "df.head(2)"
   ]
  }
 ],
 "metadata": {
  "kernelspec": {
   "display_name": "Python 3 (ipykernel)",
   "language": "python",
   "name": "python3"
  },
  "language_info": {
   "codemirror_mode": {
    "name": "ipython",
    "version": 3
   },
   "file_extension": ".py",
   "mimetype": "text/x-python",
   "name": "python",
   "nbconvert_exporter": "python",
   "pygments_lexer": "ipython3",
   "version": "3.9.13"
  }
 },
 "nbformat": 4,
 "nbformat_minor": 5
}
