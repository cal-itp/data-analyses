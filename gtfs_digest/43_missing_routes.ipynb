{
 "cells": [
  {
   "cell_type": "markdown",
   "id": "60576aa4-84aa-4c2f-9b2d-e656af3e3c12",
   "metadata": {},
   "source": [
    "## Find Missing Routes: 2 operators. \n",
    "* [Issue](https://github.com/cal-itp/data-analyses/issues/1312): Capital Corridor doesn't have any rail routes. \n",
    "* [Most of Santa Maria's routes not showing up in GTFS Digest](https://github.com/cal-itp/data-analyses/issues/1313)\n",
    "* `cd data-analyses/rt_segment_speeds && pip install -r requirements.txt && cd ../_shared_utils && make setup_env && cd ../gtfs_digest`"
   ]
  },
  {
   "cell_type": "code",
   "execution_count": null,
   "id": "c1ae0965-8810-409c-b0f1-a15d4bf18199",
   "metadata": {},
   "outputs": [],
   "source": [
    "import geopandas as gpd\n",
    "import merge_data\n",
    "import numpy as np\n",
    "import pandas as pd\n",
    "from segment_speed_utils import gtfs_schedule_wrangling, helpers, time_series_utils\n",
    "from shared_utils import catalog_utils, rt_dates, rt_utils\n",
    "from update_vars import GTFS_DATA_DICT, RT_SCHED_GCS, SCHED_GCS"
   ]
  },
  {
   "cell_type": "code",
   "execution_count": null,
   "id": "74eaf3a5-711d-447d-a945-93cc24dd6f14",
   "metadata": {},
   "outputs": [],
   "source": [
    "pd.options.display.max_columns = 100\n",
    "pd.options.display.float_format = \"{:.2f}\".format\n",
    "pd.set_option(\"display.max_rows\", None)\n",
    "pd.set_option(\"display.max_colwidth\", None)"
   ]
  },
  {
   "cell_type": "markdown",
   "id": "77a3f68d-1244-4306-920c-27aed2f543bd",
   "metadata": {},
   "source": [
    "### `gtfs_digest/merge_operator_data`"
   ]
  },
  {
   "cell_type": "code",
   "execution_count": null,
   "id": "cb99b4b5-7745-422c-a6c5-153f02ffc244",
   "metadata": {},
   "outputs": [],
   "source": [
    "OPERATOR_FILE = GTFS_DATA_DICT.digest_tables.operator_profiles\n",
    "OPERATOR_ROUTE = GTFS_DATA_DICT.digest_tables.operator_routes_map"
   ]
  },
  {
   "cell_type": "code",
   "execution_count": null,
   "id": "55faff71-f82c-46fc-a99d-dcc40205e100",
   "metadata": {},
   "outputs": [],
   "source": [
    "operator_route_gdf = gpd.read_parquet(\n",
    "    f\"{RT_SCHED_GCS}{OPERATOR_ROUTE}.parquet\",\n",
    ")"
   ]
  },
  {
   "cell_type": "code",
   "execution_count": null,
   "id": "9b2c852f-f053-406a-8274-8b4f015f10c9",
   "metadata": {},
   "outputs": [],
   "source": [
    "operator_route_gdf.columns"
   ]
  },
  {
   "cell_type": "code",
   "execution_count": null,
   "id": "1da55301-1cb1-4187-a90c-9ed3d1c39706",
   "metadata": {},
   "outputs": [],
   "source": [
    "org_name_lists = [\"Capitol Corridor Joint Powers Authority\", \"City of Santa Maria\"]"
   ]
  },
  {
   "cell_type": "code",
   "execution_count": null,
   "id": "b164eae4-f657-49e3-ada1-e059362e4689",
   "metadata": {},
   "outputs": [],
   "source": [
    "operator_route_gdf2 = operator_route_gdf.loc[\n",
    "    operator_route_gdf.organization_name.isin(org_name_lists)\n",
    "]"
   ]
  },
  {
   "cell_type": "code",
   "execution_count": null,
   "id": "89ccde0b-736c-4fc9-a294-8a12116823a8",
   "metadata": {},
   "outputs": [],
   "source": [
    "operator_route_gdf2.columns"
   ]
  },
  {
   "cell_type": "code",
   "execution_count": null,
   "id": "295aaf35-9ade-4f9e-bc4d-5b8ef95a1569",
   "metadata": {},
   "outputs": [],
   "source": [
    "len(operator_route_gdf2)"
   ]
  },
  {
   "cell_type": "code",
   "execution_count": null,
   "id": "5630aaaa-dc8b-4917-b9fa-ae0924999720",
   "metadata": {},
   "outputs": [],
   "source": [
    "operator_route_gdf2.is_rail.value_counts()"
   ]
  },
  {
   "cell_type": "code",
   "execution_count": null,
   "id": "3ecc56aa-63ce-402b-8136-a847fd5c0d11",
   "metadata": {},
   "outputs": [],
   "source": [
    "operator_route_gdf2.organization_name.value_counts()"
   ]
  },
  {
   "cell_type": "code",
   "execution_count": null,
   "id": "5798606e-2ea4-4ab0-a6d8-a5597a51e66f",
   "metadata": {},
   "outputs": [],
   "source": [
    "operator_route_gdf2.schedule_gtfs_dataset_key.unique()"
   ]
  },
  {
   "cell_type": "markdown",
   "id": "26d11950-fca8-4f5b-8d17-2b9fa0aa368c",
   "metadata": {},
   "source": [
    "### Why does City of Santa Maria have multiple schedule_gtfs_dataset_keys?"
   ]
  },
  {
   "cell_type": "code",
   "execution_count": null,
   "id": "81fbd586-cc2d-4a70-97a6-5b25228684b8",
   "metadata": {},
   "outputs": [],
   "source": [
    "operator_route_gdf2.groupby([\"organization_name\", \"schedule_gtfs_dataset_key\"]).agg(\n",
    "    {\"route_short_name\": \"nunique\"}\n",
    ")"
   ]
  },
  {
   "cell_type": "code",
   "execution_count": null,
   "id": "568e2a00-8f8c-451c-8b6d-ae331d18471c",
   "metadata": {},
   "outputs": [],
   "source": [
    "operator_route_gdf2.drop(columns=[\"service_date\"]).explore(\"organization_name\")"
   ]
  },
  {
   "cell_type": "code",
   "execution_count": null,
   "id": "bd466515-a3cd-473a-a01a-2e73f9507104",
   "metadata": {},
   "outputs": [],
   "source": [
    "# operator_route_gdf2.drop(columns = [\"service_date\"]).explore(\"shape_array_key\")"
   ]
  },
  {
   "cell_type": "markdown",
   "id": "b1ddfdee-292e-4d57-bb1e-17248e87fce8",
   "metadata": {},
   "source": [
    "### Find longest_shape_array_key [at `gtfs_funnel/operator_scheduled_stats`](https://github.com/cal-itp/data-analyses/blob/4dc340343a60b45ad94217c3efd91f807b03ebc2/gtfs_funnel/operator_scheduled_stats.py#L148)\n",
    "* There aren't any routes for Santa Maria\n",
    "* Routes are showing for Capital Corridor."
   ]
  },
  {
   "cell_type": "code",
   "execution_count": null,
   "id": "22587dd0-886d-475b-a101-f23816f396cb",
   "metadata": {},
   "outputs": [],
   "source": [
    "OPERATOR_ROUTE"
   ]
  },
  {
   "cell_type": "code",
   "execution_count": null,
   "id": "2aac59b0-7cfb-4796-baf3-b99d5b5db14e",
   "metadata": {},
   "outputs": [],
   "source": [
    "GTFS_DATA_DICT.schedule_tables.operator_routes"
   ]
  },
  {
   "cell_type": "code",
   "execution_count": null,
   "id": "d14199f0-63e5-466c-a122-51b2c2abaa75",
   "metadata": {},
   "outputs": [],
   "source": [
    "analysis_date = \"2024-11-13\""
   ]
  },
  {
   "cell_type": "code",
   "execution_count": null,
   "id": "a31bc07a-7f16-4b32-8f1a-639914c1eeea",
   "metadata": {},
   "outputs": [],
   "source": [
    "route_cols = [\"schedule_gtfs_dataset_key\", \"route_id\"]"
   ]
  },
  {
   "cell_type": "code",
   "execution_count": null,
   "id": "0a83573f-6fca-403b-a3ec-2b944efcfabd",
   "metadata": {},
   "outputs": [],
   "source": [
    "longest_shape_gdf = (\n",
    "    gtfs_schedule_wrangling.longest_shape_by_route_direction(analysis_date)\n",
    "    .sort_values(\n",
    "        route_cols + [\"route_length\"], ascending=[True for i in route_cols] + [False]\n",
    "    )\n",
    "    .drop_duplicates(subset=route_cols)\n",
    "    .reset_index(drop=True)\n",
    ")"
   ]
  },
  {
   "cell_type": "code",
   "execution_count": null,
   "id": "7c57add2-f72c-4c22-9ca6-e5efe879cab3",
   "metadata": {},
   "outputs": [],
   "source": [
    "schd_keys = list(operator_route_gdf2.schedule_gtfs_dataset_key.unique())"
   ]
  },
  {
   "cell_type": "code",
   "execution_count": null,
   "id": "7a76026d-88e6-49a3-83f8-b20836b70d7a",
   "metadata": {},
   "outputs": [],
   "source": [
    "schd_keys"
   ]
  },
  {
   "cell_type": "code",
   "execution_count": null,
   "id": "3bcb40ca-7e6a-432e-a70c-e1817f7eebe9",
   "metadata": {},
   "outputs": [],
   "source": [
    "longest_shape_gdf2 = longest_shape_gdf.loc[\n",
    "    longest_shape_gdf.schedule_gtfs_dataset_key.isin(schd_keys)\n",
    "]"
   ]
  },
  {
   "cell_type": "code",
   "execution_count": null,
   "id": "86963a9f-3456-48d5-a386-05c211fe93f4",
   "metadata": {},
   "outputs": [],
   "source": [
    "longest_shape_gdf2.columns"
   ]
  },
  {
   "cell_type": "code",
   "execution_count": null,
   "id": "b256ef9b-82c1-4832-ac54-19ca9319bdc4",
   "metadata": {},
   "outputs": [],
   "source": [
    "longest_shape_gdf2.info()"
   ]
  },
  {
   "cell_type": "code",
   "execution_count": null,
   "id": "6db42351-2a52-4e00-a265-33e5743cdea2",
   "metadata": {},
   "outputs": [],
   "source": [
    "longest_shape_gdf2 = longest_shape_gdf2.dropna()"
   ]
  },
  {
   "cell_type": "code",
   "execution_count": null,
   "id": "50af7a1e-4e0c-4e5e-9755-f9ffbab99a8b",
   "metadata": {},
   "outputs": [],
   "source": [
    "longest_shape_gdf2.shape_array_key.nunique()"
   ]
  },
  {
   "cell_type": "code",
   "execution_count": null,
   "id": "94bc9b1f-8a73-4c7a-a773-cc61b843b6a7",
   "metadata": {},
   "outputs": [],
   "source": [
    "longest_shape_gdf2.schedule_gtfs_dataset_key.value_counts()"
   ]
  },
  {
   "cell_type": "code",
   "execution_count": null,
   "id": "19012a85-7ef7-4188-870b-251eb600034f",
   "metadata": {},
   "outputs": [],
   "source": [
    "longest_shape_gdf2.schedule_gtfs_dataset_key.unique()"
   ]
  },
  {
   "cell_type": "code",
   "execution_count": null,
   "id": "1eae8307-2d99-41e4-b541-ca2fc1c68b02",
   "metadata": {},
   "outputs": [],
   "source": [
    "longest_shape_gdf2.explore(\"schedule_gtfs_dataset_key\")"
   ]
  },
  {
   "cell_type": "markdown",
   "id": "0706fb58-e04e-4d40-b49b-d505da875262",
   "metadata": {},
   "source": [
    "### Step back before finding the longest shape [here](https://github.com/cal-itp/data-analyses/blob/4dc340343a60b45ad94217c3efd91f807b03ebc2/rt_segment_speeds/segment_speed_utils/gtfs_schedule_wrangling.py#L365)\n",
    "#### Amanda: deleted `direction_id` b/c I discovered City of Santa Maria doesn't have values for the column `direction_id`"
   ]
  },
  {
   "cell_type": "code",
   "execution_count": null,
   "id": "0f1f1160-fd82-4e35-adaa-914aac83ac85",
   "metadata": {},
   "outputs": [],
   "source": [
    "route_dir_cols = [\"gtfs_dataset_key\", \"route_id\", ]\n",
    "\n",
    "keep_trip_cols = route_dir_cols + [\"trip_instance_key\", \"shape_id\", \"shape_array_key\"]"
   ]
  },
  {
   "cell_type": "code",
   "execution_count": null,
   "id": "f332d9b6-d1f8-456d-b3bf-495651b17214",
   "metadata": {},
   "outputs": [],
   "source": [
    "trips = helpers.import_scheduled_trips(\n",
    "    analysis_date, columns=keep_trip_cols, get_pandas=True\n",
    ").rename(columns={\"schedule_gtfs_dataset_key\": \"gtfs_dataset_key\"})"
   ]
  },
  {
   "cell_type": "code",
   "execution_count": null,
   "id": "5e133db6-9df8-42d4-ad84-6d158514f045",
   "metadata": {},
   "outputs": [],
   "source": [
    "sorting_order = [True for i in route_dir_cols]"
   ]
  },
  {
   "cell_type": "code",
   "execution_count": null,
   "id": "2407cc5f-b8c7-416e-b38b-8dc54a90ed30",
   "metadata": {},
   "outputs": [],
   "source": [
    "# Grab only relevant schedule_gtfs_dataset_keys\n",
    "trips2 = trips.loc[trips.gtfs_dataset_key.isin(schd_keys)].reset_index(drop=True)"
   ]
  },
  {
   "cell_type": "code",
   "execution_count": null,
   "id": "373584a8-a3b4-414a-8d95-7e1e08c61fa7",
   "metadata": {},
   "outputs": [],
   "source": [
    "trips2.info()"
   ]
  },
  {
   "cell_type": "code",
   "execution_count": null,
   "id": "521a90b8-c28e-42eb-b61d-231b11594db6",
   "metadata": {},
   "outputs": [],
   "source": [
    "direction_id_kept = [\"direction_id\",\"gtfs_dataset_key\",\"route_id\", \"trip_instance_key\", \"shape_id\", \"shape_array_key\"]"
   ]
  },
  {
   "cell_type": "code",
   "execution_count": null,
   "id": "2b0a5d50-b5df-4e3e-b4af-6cee0ceb9498",
   "metadata": {},
   "outputs": [],
   "source": [
    "trips_w_direction_id = helpers.import_scheduled_trips(\n",
    "    analysis_date, columns=direction_id_kept, get_pandas=True\n",
    ").rename(columns={\"schedule_gtfs_dataset_key\": \"gtfs_dataset_key\"})"
   ]
  },
  {
   "cell_type": "code",
   "execution_count": null,
   "id": "24feb45b-154d-4f0c-8c1e-0b5af20d8926",
   "metadata": {},
   "outputs": [],
   "source": [
    "# Grab only relevant schedule_gtfs_dataset_keys\n",
    "trips_w_direction_id2 = trips_w_direction_id.loc[trips_w_direction_id.gtfs_dataset_key.isin(schd_keys)].reset_index(drop=True)"
   ]
  },
  {
   "cell_type": "code",
   "execution_count": null,
   "id": "5964848f-970b-48bc-868e-0d1ff9e0c1e5",
   "metadata": {},
   "outputs": [],
   "source": [
    "trips_w_direction_id2.info()"
   ]
  },
  {
   "cell_type": "code",
   "execution_count": null,
   "id": "9beb666c-5e6d-4db8-94fb-e7faf717074c",
   "metadata": {},
   "outputs": [],
   "source": [
    "len(trips2)"
   ]
  },
  {
   "cell_type": "code",
   "execution_count": null,
   "id": "c154dd13-8561-4909-a77c-cec19fc963c6",
   "metadata": {},
   "outputs": [],
   "source": [
    "trips2.gtfs_dataset_key.value_counts()"
   ]
  },
  {
   "cell_type": "code",
   "execution_count": null,
   "id": "f6b3b67f-2173-453c-879a-e9c9fa515466",
   "metadata": {},
   "outputs": [],
   "source": [
    "most_common_shape = (\n",
    "    trips2.groupby(\n",
    "        route_dir_cols + [\"shape_id\", \"shape_array_key\"],\n",
    "        observed=True,\n",
    "        group_keys=False,\n",
    "    )\n",
    "    .agg({\"trip_instance_key\": \"count\"})\n",
    "    .reset_index()\n",
    "    .sort_values(\n",
    "        route_dir_cols + [\"trip_instance_key\"], ascending=sorting_order + [False]\n",
    "    )\n",
    "    .drop_duplicates(subset=route_dir_cols)\n",
    "    .reset_index(drop=True)[route_dir_cols + [\"shape_id\", \"shape_array_key\"]]\n",
    ").rename(\n",
    "    columns={\n",
    "        \"gtfs_dataset_key\": \"schedule_gtfs_dataset_key\",\n",
    "        \"shape_id\": \"common_shape_id\",\n",
    "    }\n",
    ")"
   ]
  },
  {
   "cell_type": "code",
   "execution_count": null,
   "id": "26c4100c-33bb-4075-baf5-a02a8c791bf6",
   "metadata": {},
   "outputs": [],
   "source": [
    "type(most_common_shape)"
   ]
  },
  {
   "cell_type": "code",
   "execution_count": null,
   "id": "dcfa378c-1417-4be2-bfd6-dbafdb6c771a",
   "metadata": {},
   "outputs": [],
   "source": [
    "len(most_common_shape)"
   ]
  },
  {
   "cell_type": "code",
   "execution_count": null,
   "id": "3385337d-35cf-4bf7-a56b-f9663b9f27d5",
   "metadata": {},
   "outputs": [],
   "source": [
    "shape_geom = helpers.import_scheduled_shapes(\n",
    "    analysis_date,\n",
    "    columns=[\"shape_array_key\", \"geometry\"],\n",
    ")"
   ]
  },
  {
   "cell_type": "code",
   "execution_count": null,
   "id": "3d8b4211-aa87-458f-a1fa-3a777b888657",
   "metadata": {},
   "outputs": [],
   "source": [
    "common_shape_geom = pd.merge(\n",
    "    shape_geom, most_common_shape, on=\"shape_array_key\", how=\"inner\"\n",
    ").drop(columns=\"shape_array_key\")"
   ]
  },
  {
   "cell_type": "code",
   "execution_count": null,
   "id": "992b5d9c-f5b7-4270-8d3d-ee2e7079e5e9",
   "metadata": {},
   "outputs": [],
   "source": [
    "type(common_shape_geom), len(common_shape_geom)"
   ]
  },
  {
   "cell_type": "code",
   "execution_count": null,
   "id": "28a37ddd-52e8-4a91-9b9d-8be0f22f8e5e",
   "metadata": {},
   "outputs": [],
   "source": [
    "common_shape_geom.columns"
   ]
  },
  {
   "cell_type": "code",
   "execution_count": null,
   "id": "aa870e11-8b3a-421a-a304-409faa9bcede",
   "metadata": {},
   "outputs": [],
   "source": [
    "from shared_utils import portfolio_utils"
   ]
  },
  {
   "cell_type": "code",
   "execution_count": null,
   "id": "20e4a0e3-f9c0-497e-96ff-97262cc21ff3",
   "metadata": {},
   "outputs": [],
   "source": [
    "common_shape_geom.schedule_gtfs_dataset_key.value_counts()"
   ]
  },
  {
   "cell_type": "code",
   "execution_count": null,
   "id": "ac28e91a-a805-4c29-a54e-14a4c27c46fd",
   "metadata": {},
   "outputs": [],
   "source": [
    "route_info = (\n",
    "    helpers.import_scheduled_trips(\n",
    "        analysis_date,\n",
    "        columns=[\n",
    "            \"gtfs_dataset_key\",\n",
    "            \"route_id\",\n",
    "            \"route_long_name\",\n",
    "            \"route_short_name\",\n",
    "            \"route_desc\",\n",
    "        ],\n",
    "    )\n",
    "    .drop_duplicates()\n",
    "    .pipe(portfolio_utils.add_route_name)\n",
    "    .drop(columns=[\"route_long_name\", \"route_short_name\", \"route_desc\"])\n",
    ")"
   ]
  },
  {
   "cell_type": "code",
   "execution_count": null,
   "id": "97d0c027-a95a-44c9-969a-ffa3a4e6b1c6",
   "metadata": {},
   "outputs": [],
   "source": [
    "common_shape_geom2 = pd.merge(\n",
    "    common_shape_geom,\n",
    "    route_info.rename(columns={\"route_name_used\": \"route_name\"}),\n",
    "    on=[\"schedule_gtfs_dataset_key\", \"route_id\"],\n",
    ")"
   ]
  },
  {
   "cell_type": "code",
   "execution_count": null,
   "id": "83f42ec6-2235-47db-a687-dd80bd24ffcd",
   "metadata": {},
   "outputs": [],
   "source": [
    "common_shape_geom2.drop(columns=[\"geometry\"])"
   ]
  },
  {
   "cell_type": "code",
   "execution_count": null,
   "id": "3fb5cbf9-16fa-45b9-b870-1ceaea9801ba",
   "metadata": {},
   "outputs": [],
   "source": [
    "common_shape_geom2.loc[common_shape_geom2.schedule_gtfs_dataset_key ==\n",
    "                      \"73105f2d1cabc8170ab066d96863c5d5\"].explore(\"route_id\")"
   ]
  },
  {
   "cell_type": "markdown",
   "id": "55924475-3c80-4fb5-bca7-c6e1566b4af6",
   "metadata": {},
   "source": [
    "### Don't look at most common shape, just load trips.\n",
    "* `f5a749dd65924e025b1293c58f95f8d6` is Amtrak\n",
    "* 73105f2d1cabc8170ab066d96863c5d5 is the City of Santa Maria"
   ]
  },
  {
   "cell_type": "code",
   "execution_count": null,
   "id": "d66d0644-60d4-479b-b702-282fdbb31bd2",
   "metadata": {},
   "outputs": [],
   "source": [
    "len(trips2)"
   ]
  },
  {
   "cell_type": "code",
   "execution_count": null,
   "id": "2c1c03b1-04cd-4ee5-b446-f46c7c0b7eba",
   "metadata": {},
   "outputs": [],
   "source": [
    "trips2.head(2)"
   ]
  },
  {
   "cell_type": "code",
   "execution_count": null,
   "id": "1ac9ce22-d308-4a80-b2fd-7eea7d1c4571",
   "metadata": {},
   "outputs": [],
   "source": [
    "trips2.gtfs_dataset_key.value_counts()"
   ]
  },
  {
   "cell_type": "code",
   "execution_count": null,
   "id": "fae140d9-aa52-43d7-a6dc-350e21db21a6",
   "metadata": {},
   "outputs": [],
   "source": [
    "test2 = pd.merge(shape_geom, trips2, on=\"shape_array_key\", how=\"inner\")"
   ]
  },
  {
   "cell_type": "code",
   "execution_count": null,
   "id": "1049f135-ff88-4ceb-a054-a412f01fe42d",
   "metadata": {},
   "outputs": [],
   "source": [
    "len(test2)"
   ]
  },
  {
   "cell_type": "code",
   "execution_count": null,
   "id": "cd777b6b-2566-4680-afeb-a5ad99ef94a2",
   "metadata": {},
   "outputs": [],
   "source": [
    "# test2.head(1)"
   ]
  },
  {
   "cell_type": "code",
   "execution_count": null,
   "id": "687db4f0-df8c-4232-9c5d-dc4b6d8a5a6b",
   "metadata": {},
   "outputs": [],
   "source": [
    "route_dir_cols"
   ]
  },
  {
   "cell_type": "markdown",
   "id": "81adac11-8b42-4fcf-895c-f3fc61b08fc8",
   "metadata": {},
   "source": [
    "### City of Santa Maria has many rows without a `direction_id` value. That is why so few routes are appearing."
   ]
  },
  {
   "cell_type": "code",
   "execution_count": null,
   "id": "fafcfddc-660e-4bbc-bbf3-849ea5ee07c4",
   "metadata": {},
   "outputs": [],
   "source": [
    "test2.info()"
   ]
  },
  {
   "cell_type": "code",
   "execution_count": null,
   "id": "45719a9b-6e6d-4f12-bab4-19ef9a5c9b88",
   "metadata": {
    "scrolled": true,
    "tags": []
   },
   "outputs": [],
   "source": [
    "test2.groupby(['gtfs_dataset_key', 'route_id',\"shape_id\", \"shape_array_key\"],\n",
    ").agg({\"trip_instance_key\": \"count\"})"
   ]
  },
  {
   "cell_type": "markdown",
   "id": "0acaae25-2187-49e4-af42-4de0db10a51d",
   "metadata": {},
   "source": [
    "### Figuring out where `GTFS_DATA_DICT.digest_tables.operator_routes_map` comes from\n",
    "* Nothing ups pop when I search our repo."
   ]
  },
  {
   "cell_type": "code",
   "execution_count": null,
   "id": "b2384eca-382c-470c-91ef-09ddb0f7c479",
   "metadata": {},
   "outputs": [],
   "source": [
    "SCHED_GCS"
   ]
  },
  {
   "cell_type": "code",
   "execution_count": null,
   "id": "62a2255b-e1b9-4e50-bb16-16c768b550d3",
   "metadata": {},
   "outputs": [],
   "source": [
    "GTFS_DATA_DICT.schedule_tables.operator_routes"
   ]
  },
  {
   "cell_type": "code",
   "execution_count": null,
   "id": "06094880-d5ad-4052-9928-9b8cc657cdf6",
   "metadata": {},
   "outputs": [],
   "source": [
    "dec_op_routes = \"gs://calitp-analytics-data/data-analyses/gtfs_schedule/operator_profiles/operator_routes_2024-12-11.parquet\""
   ]
  },
  {
   "cell_type": "code",
   "execution_count": null,
   "id": "158da728-3cff-4750-8d6a-3d1380374875",
   "metadata": {},
   "outputs": [],
   "source": [
    "dec_op_df = gpd.read_parquet(dec_op_routes)"
   ]
  },
  {
   "cell_type": "code",
   "execution_count": null,
   "id": "32ce507e-dc41-45d6-a273-f9381fe10361",
   "metadata": {},
   "outputs": [],
   "source": [
    "# filter for only the operators we care about\n",
    "dec_op_df2 = dec_op_df.loc[\n",
    "    dec_op_df.schedule_gtfs_dataset_key.isin(schd_keys)\n",
    "]"
   ]
  },
  {
   "cell_type": "code",
   "execution_count": null,
   "id": "574a454f-dd6a-4897-86bf-f4f4f7d86235",
   "metadata": {},
   "outputs": [],
   "source": [
    "dec_op_df2.schedule_gtfs_dataset_key.value_counts()"
   ]
  },
  {
   "cell_type": "code",
   "execution_count": null,
   "id": "62b8fc84-a107-43f6-bd65-8076c43984d3",
   "metadata": {},
   "outputs": [],
   "source": [
    "dec_op_df2.explore()"
   ]
  }
 ],
 "metadata": {
  "kernelspec": {
   "display_name": "Python 3 (ipykernel)",
   "language": "python",
   "name": "python3"
  },
  "language_info": {
   "codemirror_mode": {
    "name": "ipython",
    "version": 3
   },
   "file_extension": ".py",
   "mimetype": "text/x-python",
   "name": "python",
   "nbconvert_exporter": "python",
   "pygments_lexer": "ipython3",
   "version": "3.9.13"
  }
 },
 "nbformat": 4,
 "nbformat_minor": 5
}
