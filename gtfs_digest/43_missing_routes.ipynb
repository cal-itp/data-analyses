{
 "cells": [
  {
   "cell_type": "markdown",
   "id": "60576aa4-84aa-4c2f-9b2d-e656af3e3c12",
   "metadata": {},
   "source": [
    "## Find Missing Routes\n",
    "* [Issue](https://github.com/cal-itp/data-analyses/issues/1312): Capital Corridor is gone. [Link](https://gtfs-digest--cal-itp-data-analyses.netlify.app/district_04-oakland/01__03_report__district_04-oakland__organization_name_capitol-corridor-joint-powers-authority)\n",
    "* [Most of Santa Maria's routes not showing up in GTFS Digest](https://github.com/cal-itp/data-analyses/issues/1313)"
   ]
  },
  {
   "cell_type": "code",
   "execution_count": 1,
   "id": "c1ae0965-8810-409c-b0f1-a15d4bf18199",
   "metadata": {},
   "outputs": [],
   "source": [
    "import geopandas as gpd\n",
    "import merge_data\n",
    "import numpy as np\n",
    "import pandas as pd\n",
    "from segment_speed_utils import gtfs_schedule_wrangling, helpers, time_series_utils\n",
    "from shared_utils import catalog_utils, rt_dates, rt_utils\n",
    "from update_vars import GTFS_DATA_DICT, RT_SCHED_GCS, SCHED_GCS"
   ]
  },
  {
   "cell_type": "code",
   "execution_count": 2,
   "id": "74eaf3a5-711d-447d-a945-93cc24dd6f14",
   "metadata": {},
   "outputs": [],
   "source": [
    "pd.options.display.max_columns = 100\n",
    "pd.options.display.float_format = \"{:.2f}\".format\n",
    "pd.set_option(\"display.max_rows\", None)\n",
    "pd.set_option(\"display.max_colwidth\", None)"
   ]
  },
  {
   "cell_type": "code",
   "execution_count": 3,
   "id": "cb99b4b5-7745-422c-a6c5-153f02ffc244",
   "metadata": {},
   "outputs": [],
   "source": [
    "OPERATOR_FILE = GTFS_DATA_DICT.digest_tables.operator_profiles\n",
    "OPERATOR_ROUTE = GTFS_DATA_DICT.digest_tables.operator_routes_map"
   ]
  },
  {
   "cell_type": "code",
   "execution_count": 6,
   "id": "55faff71-f82c-46fc-a99d-dcc40205e100",
   "metadata": {},
   "outputs": [],
   "source": [
    "operator_route_gdf = gpd.read_parquet(\n",
    "    f\"{RT_SCHED_GCS}{OPERATOR_ROUTE}.parquet\",\n",
    ")"
   ]
  },
  {
   "cell_type": "code",
   "execution_count": 7,
   "id": "9b2c852f-f053-406a-8274-8b4f015f10c9",
   "metadata": {},
   "outputs": [
    {
     "data": {
      "text/plain": [
       "Index(['shape_array_key', 'geometry', 'feed_key', 'schedule_gtfs_dataset_key',\n",
       "       'direction_id', 'route_key', 'route_length', 'route_length_miles',\n",
       "       'is_downtown_local', 'is_local', 'is_coverage', 'is_rapid',\n",
       "       'is_express', 'is_rail', 'organization_source_record_id',\n",
       "       'organization_name', 'service_date', 'name', 'route_long_name',\n",
       "       'route_short_name', 'route_combined_name', 'route_id'],\n",
       "      dtype='object')"
      ]
     },
     "execution_count": 7,
     "metadata": {},
     "output_type": "execute_result"
    }
   ],
   "source": [
    "operator_route_gdf.columns"
   ]
  },
  {
   "cell_type": "code",
   "execution_count": 8,
   "id": "1da55301-1cb1-4187-a90c-9ed3d1c39706",
   "metadata": {},
   "outputs": [],
   "source": [
    "org_name_lists = [\"Capitol Corridor Joint Powers Authority\", \"City of Santa Maria\"]"
   ]
  },
  {
   "cell_type": "code",
   "execution_count": 9,
   "id": "b164eae4-f657-49e3-ada1-e059362e4689",
   "metadata": {},
   "outputs": [],
   "source": [
    "operator_route_gdf2 = operator_route_gdf.loc[\n",
    "    operator_route_gdf.organization_name.isin(org_name_lists)\n",
    "]"
   ]
  },
  {
   "cell_type": "code",
   "execution_count": 14,
   "id": "89ccde0b-736c-4fc9-a294-8a12116823a8",
   "metadata": {},
   "outputs": [
    {
     "data": {
      "text/plain": [
       "Index(['shape_array_key', 'geometry', 'feed_key', 'schedule_gtfs_dataset_key',\n",
       "       'direction_id', 'route_key', 'route_length', 'route_length_miles',\n",
       "       'is_downtown_local', 'is_local', 'is_coverage', 'is_rapid',\n",
       "       'is_express', 'is_rail', 'organization_source_record_id',\n",
       "       'organization_name', 'service_date', 'name', 'route_long_name',\n",
       "       'route_short_name', 'route_combined_name', 'route_id'],\n",
       "      dtype='object')"
      ]
     },
     "execution_count": 14,
     "metadata": {},
     "output_type": "execute_result"
    }
   ],
   "source": [
    "operator_route_gdf2.columns"
   ]
  },
  {
   "cell_type": "code",
   "execution_count": 15,
   "id": "5630aaaa-dc8b-4917-b9fa-ae0924999720",
   "metadata": {},
   "outputs": [
    {
     "data": {
      "text/plain": [
       "2819a2128cf6c263748899b37dd0515a    4\n",
       "ae1cbcaafb9c76fa42db0144ed54d5b2    4\n",
       "2c949d4ae1c8313de3f2e2336c968ba2    3\n",
       "48ccc91809e03d81a1baed190e0f6d2c    3\n",
       "36a69cdf829229913dd928bf3cfc7e21    3\n",
       "b5b34970d8582a04bec8e39fbb016ac8    3\n",
       "01531b84e4cbbdd85a0a596953babeeb    2\n",
       "d337c8abe3e587bc69295179a4caf52c    2\n",
       "930cb0001db131c8fc2176908289641a    2\n",
       "d18f8ff2a5ee0c7a10a77e26e83b39b0    2\n",
       "323104f728534a7b1847a176fa0452a9    1\n",
       "04510b800590f3eb37b2c87694c7015d    1\n",
       "cea72c22fbc7952ab2a3077a8361122b    1\n",
       "044f0a6b46084e4ad3d6894a63760886    1\n",
       "3cf793ef2730f210d6e5ee7645270da8    1\n",
       "cf8c36c8e8cd34173be1eb143a18cc69    1\n",
       "809f2b00478a4d2cf09e24ee0afa5f20    1\n",
       "de15acd4b079e0cdd8ce1e6ca48030b5    1\n",
       "3122f4e1b8565df5c122d13af933be72    1\n",
       "166a9fe68a188119573b869ca189ea94    1\n",
       "fd7c1f5d7129d660b52bdc85d116c812    1\n",
       "358a6086e4db4cc82a1a8e2f7eca1c9b    1\n",
       "3299b5fffe944268c63582143f6c812c    1\n",
       "Name: shape_array_key, dtype: int64"
      ]
     },
     "execution_count": 15,
     "metadata": {},
     "output_type": "execute_result"
    }
   ],
   "source": [
    "operator_route_gdf2.shape_array_key.value_counts()"
   ]
  },
  {
   "cell_type": "code",
   "execution_count": 12,
   "id": "3ecc56aa-63ce-402b-8136-a847fd5c0d11",
   "metadata": {},
   "outputs": [
    {
     "data": {
      "text/plain": [
       "Capitol Corridor Joint Powers Authority    21\n",
       "City of Santa Maria                        20\n",
       "Name: organization_name, dtype: int64"
      ]
     },
     "execution_count": 12,
     "metadata": {},
     "output_type": "execute_result"
    }
   ],
   "source": [
    "operator_route_gdf2.organization_name.value_counts()"
   ]
  },
  {
   "cell_type": "code",
   "execution_count": 28,
   "id": "5798606e-2ea4-4ab0-a6d8-a5597a51e66f",
   "metadata": {},
   "outputs": [
    {
     "data": {
      "text/plain": [
       "array(['5a8721fe96786fcd25fba1f8a0ee6358',\n",
       "       '73105f2d1cabc8170ab066d96863c5d5',\n",
       "       'f5a749dd65924e025b1293c58f95f8d6'], dtype=object)"
      ]
     },
     "execution_count": 28,
     "metadata": {},
     "output_type": "execute_result"
    }
   ],
   "source": [
    "operator_route_gdf2.schedule_gtfs_dataset_key.unique()"
   ]
  },
  {
   "cell_type": "code",
   "execution_count": 18,
   "id": "8c03fe1b-cab5-4b64-bf20-5d86d9be36de",
   "metadata": {},
   "outputs": [],
   "source": [
    "for organization in org_name_lists:\n",
    "    gdf = operator_route_gdf2.loc[operator_route_gdf2.organization_name == organization]\n",
    "    gdf = gdf.drop(columns=[\"service_date\"])\n",
    "    # display(gdf.explore(\"shape_array_key\"))"
   ]
  },
  {
   "cell_type": "markdown",
   "id": "b1ddfdee-292e-4d57-bb1e-17248e87fce8",
   "metadata": {},
   "source": [
    "### Go back to `operator_route_gdf` [here](https://github.com/cal-itp/data-analyses/blob/4dc340343a60b45ad94217c3efd91f807b03ebc2/gtfs_funnel/operator_scheduled_stats.py#L148)"
   ]
  },
  {
   "cell_type": "code",
   "execution_count": 19,
   "id": "22587dd0-886d-475b-a101-f23816f396cb",
   "metadata": {},
   "outputs": [
    {
     "data": {
      "text/plain": [
       "'digest/operator_routes'"
      ]
     },
     "execution_count": 19,
     "metadata": {},
     "output_type": "execute_result"
    }
   ],
   "source": [
    "OPERATOR_ROUTE"
   ]
  },
  {
   "cell_type": "code",
   "execution_count": 20,
   "id": "2aac59b0-7cfb-4796-baf3-b99d5b5db14e",
   "metadata": {},
   "outputs": [
    {
     "data": {
      "text/plain": [
       "'operator_profiles/operator_routes'"
      ]
     },
     "execution_count": 20,
     "metadata": {},
     "output_type": "execute_result"
    }
   ],
   "source": [
    "GTFS_DATA_DICT.schedule_tables.operator_routes"
   ]
  },
  {
   "cell_type": "code",
   "execution_count": 22,
   "id": "d14199f0-63e5-466c-a122-51b2c2abaa75",
   "metadata": {},
   "outputs": [],
   "source": [
    "analysis_date = \"2024-11-13\""
   ]
  },
  {
   "cell_type": "code",
   "execution_count": 25,
   "id": "a31bc07a-7f16-4b32-8f1a-639914c1eeea",
   "metadata": {},
   "outputs": [],
   "source": [
    "route_cols = [\"schedule_gtfs_dataset_key\", \"route_id\"]"
   ]
  },
  {
   "cell_type": "code",
   "execution_count": 26,
   "id": "0a83573f-6fca-403b-a3ec-2b944efcfabd",
   "metadata": {},
   "outputs": [],
   "source": [
    "longest_shape_gdf = (\n",
    "    gtfs_schedule_wrangling.longest_shape_by_route_direction(analysis_date)\n",
    "    .sort_values(\n",
    "        route_cols + [\"route_length\"], ascending=[True for i in route_cols] + [False]\n",
    "    )\n",
    "    .drop_duplicates(subset=route_cols)\n",
    "    .reset_index(drop=True)\n",
    ")"
   ]
  },
  {
   "cell_type": "code",
   "execution_count": 29,
   "id": "7c57add2-f72c-4c22-9ca6-e5efe879cab3",
   "metadata": {},
   "outputs": [],
   "source": [
    "schd_keys = list(operator_route_gdf2.schedule_gtfs_dataset_key.unique())"
   ]
  },
  {
   "cell_type": "code",
   "execution_count": 30,
   "id": "3bcb40ca-7e6a-432e-a70c-e1817f7eebe9",
   "metadata": {},
   "outputs": [],
   "source": [
    "longest_shape_gdf2 = longest_shape_gdf.loc[\n",
    "    longest_shape_gdf.schedule_gtfs_dataset_key.isin(schd_keys)\n",
    "]"
   ]
  },
  {
   "cell_type": "code",
   "execution_count": 34,
   "id": "86963a9f-3456-48d5-a386-05c211fe93f4",
   "metadata": {},
   "outputs": [
    {
     "data": {
      "text/plain": [
       "Index(['shape_array_key', 'geometry', 'feed_key', 'schedule_gtfs_dataset_key',\n",
       "       'route_id', 'direction_id', 'route_key', 'route_length'],\n",
       "      dtype='object')"
      ]
     },
     "execution_count": 34,
     "metadata": {},
     "output_type": "execute_result"
    }
   ],
   "source": [
    "longest_shape_gdf2.columns"
   ]
  },
  {
   "cell_type": "code",
   "execution_count": 38,
   "id": "b256ef9b-82c1-4832-ac54-19ca9319bdc4",
   "metadata": {},
   "outputs": [
    {
     "name": "stdout",
     "output_type": "stream",
     "text": [
      "<class 'geopandas.geodataframe.GeoDataFrame'>\n",
      "Int64Index: 20 entries, 1061 to 2588\n",
      "Data columns (total 8 columns):\n",
      " #   Column                     Non-Null Count  Dtype   \n",
      "---  ------                     --------------  -----   \n",
      " 0   shape_array_key            20 non-null     object  \n",
      " 1   geometry                   20 non-null     geometry\n",
      " 2   feed_key                   20 non-null     object  \n",
      " 3   schedule_gtfs_dataset_key  20 non-null     object  \n",
      " 4   route_id                   20 non-null     object  \n",
      " 5   direction_id               4 non-null      float64 \n",
      " 6   route_key                  20 non-null     object  \n",
      " 7   route_length               20 non-null     float64 \n",
      "dtypes: float64(2), geometry(1), object(5)\n",
      "memory usage: 1.4+ KB\n"
     ]
    }
   ],
   "source": [
    "longest_shape_gdf2.info()"
   ]
  },
  {
   "cell_type": "code",
   "execution_count": 41,
   "id": "6db42351-2a52-4e00-a265-33e5743cdea2",
   "metadata": {},
   "outputs": [],
   "source": [
    "longest_shape_gdf2 = longest_shape_gdf2.dropna()"
   ]
  },
  {
   "cell_type": "code",
   "execution_count": 42,
   "id": "50af7a1e-4e0c-4e5e-9755-f9ffbab99a8b",
   "metadata": {},
   "outputs": [
    {
     "name": "stdout",
     "output_type": "stream",
     "text": [
      "<class 'geopandas.geodataframe.GeoDataFrame'>\n",
      "Int64Index: 4 entries, 1071 to 2588\n",
      "Data columns (total 8 columns):\n",
      " #   Column                     Non-Null Count  Dtype   \n",
      "---  ------                     --------------  -----   \n",
      " 0   shape_array_key            4 non-null      object  \n",
      " 1   geometry                   4 non-null      geometry\n",
      " 2   feed_key                   4 non-null      object  \n",
      " 3   schedule_gtfs_dataset_key  4 non-null      object  \n",
      " 4   route_id                   4 non-null      object  \n",
      " 5   direction_id               4 non-null      float64 \n",
      " 6   route_key                  4 non-null      object  \n",
      " 7   route_length               4 non-null      float64 \n",
      "dtypes: float64(2), geometry(1), object(5)\n",
      "memory usage: 288.0+ bytes\n"
     ]
    }
   ],
   "source": [
    "longest_shape_gdf2.info()"
   ]
  },
  {
   "cell_type": "code",
   "execution_count": 43,
   "id": "4299e9bc-0183-4709-b0b6-0ec6c05d5794",
   "metadata": {},
   "outputs": [
    {
     "ename": "ValueError",
     "evalue": "Location values cannot contain NaNs.",
     "output_type": "error",
     "traceback": [
      "\u001b[0;31m---------------------------------------------------------------------------\u001b[0m",
      "\u001b[0;31mValueError\u001b[0m                                Traceback (most recent call last)",
      "Cell \u001b[0;32mIn[43], line 5\u001b[0m\n\u001b[1;32m      1\u001b[0m \u001b[38;5;28;01mfor\u001b[39;00m organization \u001b[38;5;129;01min\u001b[39;00m schd_keys:\n\u001b[1;32m      2\u001b[0m     gdf \u001b[38;5;241m=\u001b[39m longest_shape_gdf2\u001b[38;5;241m.\u001b[39mloc[\n\u001b[1;32m      3\u001b[0m         longest_shape_gdf2\u001b[38;5;241m.\u001b[39mschedule_gtfs_dataset_key \u001b[38;5;241m==\u001b[39m organization\n\u001b[1;32m      4\u001b[0m     ]\n\u001b[0;32m----> 5\u001b[0m     display(\u001b[43mgdf\u001b[49m\u001b[38;5;241;43m.\u001b[39;49m\u001b[43mexplore\u001b[49m\u001b[43m(\u001b[49m\u001b[38;5;124;43m\"\u001b[39;49m\u001b[38;5;124;43mshape_array_key\u001b[39;49m\u001b[38;5;124;43m\"\u001b[39;49m\u001b[43m)\u001b[49m)\n",
      "File \u001b[0;32m/opt/conda/lib/python3.9/site-packages/geopandas/geodataframe.py:2113\u001b[0m, in \u001b[0;36mGeoDataFrame.explore\u001b[0;34m(self, *args, **kwargs)\u001b[0m\n\u001b[1;32m   2111\u001b[0m \u001b[38;5;129m@doc\u001b[39m(_explore)\n\u001b[1;32m   2112\u001b[0m \u001b[38;5;28;01mdef\u001b[39;00m \u001b[38;5;21mexplore\u001b[39m(\u001b[38;5;28mself\u001b[39m, \u001b[38;5;241m*\u001b[39margs, \u001b[38;5;241m*\u001b[39m\u001b[38;5;241m*\u001b[39mkwargs):\n\u001b[0;32m-> 2113\u001b[0m     \u001b[38;5;28;01mreturn\u001b[39;00m \u001b[43m_explore\u001b[49m\u001b[43m(\u001b[49m\u001b[38;5;28;43mself\u001b[39;49m\u001b[43m,\u001b[49m\u001b[43m \u001b[49m\u001b[38;5;241;43m*\u001b[39;49m\u001b[43margs\u001b[49m\u001b[43m,\u001b[49m\u001b[43m \u001b[49m\u001b[38;5;241;43m*\u001b[39;49m\u001b[38;5;241;43m*\u001b[39;49m\u001b[43mkwargs\u001b[49m\u001b[43m)\u001b[49m\n",
      "File \u001b[0;32m/opt/conda/lib/python3.9/site-packages/geopandas/explore.py:371\u001b[0m, in \u001b[0;36m_explore\u001b[0;34m(df, column, cmap, color, m, tiles, attr, tooltip, popup, highlight, categorical, legend, scheme, k, vmin, vmax, width, height, categories, classification_kwds, control_scale, marker_type, marker_kwds, style_kwds, highlight_kwds, missing_kwds, tooltip_kwds, popup_kwds, legend_kwds, map_kwds, **kwargs)\u001b[0m\n\u001b[1;32m    368\u001b[0m             map_kwds[\u001b[38;5;124m\"\u001b[39m\u001b[38;5;124mmax_zoom\u001b[39m\u001b[38;5;124m\"\u001b[39m] \u001b[38;5;241m=\u001b[39m tiles\u001b[38;5;241m.\u001b[39mget(\u001b[38;5;124m\"\u001b[39m\u001b[38;5;124mmax_zoom\u001b[39m\u001b[38;5;124m\"\u001b[39m, \u001b[38;5;241m18\u001b[39m)\n\u001b[1;32m    369\u001b[0m         tiles \u001b[38;5;241m=\u001b[39m tiles\u001b[38;5;241m.\u001b[39mbuild_url(scale_factor\u001b[38;5;241m=\u001b[39m\u001b[38;5;124m\"\u001b[39m\u001b[38;5;132;01m{r}\u001b[39;00m\u001b[38;5;124m\"\u001b[39m)\n\u001b[0;32m--> 371\u001b[0m m \u001b[38;5;241m=\u001b[39m \u001b[43mfolium\u001b[49m\u001b[38;5;241;43m.\u001b[39;49m\u001b[43mMap\u001b[49m\u001b[43m(\u001b[49m\n\u001b[1;32m    372\u001b[0m \u001b[43m    \u001b[49m\u001b[43mlocation\u001b[49m\u001b[38;5;241;43m=\u001b[39;49m\u001b[43mlocation\u001b[49m\u001b[43m,\u001b[49m\n\u001b[1;32m    373\u001b[0m \u001b[43m    \u001b[49m\u001b[43mcontrol_scale\u001b[49m\u001b[38;5;241;43m=\u001b[39;49m\u001b[43mcontrol_scale\u001b[49m\u001b[43m,\u001b[49m\n\u001b[1;32m    374\u001b[0m \u001b[43m    \u001b[49m\u001b[43mtiles\u001b[49m\u001b[38;5;241;43m=\u001b[39;49m\u001b[43mtiles\u001b[49m\u001b[43m,\u001b[49m\n\u001b[1;32m    375\u001b[0m \u001b[43m    \u001b[49m\u001b[43mattr\u001b[49m\u001b[38;5;241;43m=\u001b[39;49m\u001b[43mattr\u001b[49m\u001b[43m,\u001b[49m\n\u001b[1;32m    376\u001b[0m \u001b[43m    \u001b[49m\u001b[43mwidth\u001b[49m\u001b[38;5;241;43m=\u001b[39;49m\u001b[43mwidth\u001b[49m\u001b[43m,\u001b[49m\n\u001b[1;32m    377\u001b[0m \u001b[43m    \u001b[49m\u001b[43mheight\u001b[49m\u001b[38;5;241;43m=\u001b[39;49m\u001b[43mheight\u001b[49m\u001b[43m,\u001b[49m\n\u001b[1;32m    378\u001b[0m \u001b[43m    \u001b[49m\u001b[38;5;241;43m*\u001b[39;49m\u001b[38;5;241;43m*\u001b[39;49m\u001b[43mmap_kwds\u001b[49m\u001b[43m,\u001b[49m\n\u001b[1;32m    379\u001b[0m \u001b[43m\u001b[49m\u001b[43m)\u001b[49m\n\u001b[1;32m    381\u001b[0m \u001b[38;5;66;03m# fit bounds to get a proper zoom level\u001b[39;00m\n\u001b[1;32m    382\u001b[0m \u001b[38;5;28;01mif\u001b[39;00m fit:\n",
      "File \u001b[0;32m/opt/conda/lib/python3.9/site-packages/folium/folium.py:255\u001b[0m, in \u001b[0;36mMap.__init__\u001b[0;34m(self, location, width, height, left, top, position, tiles, attr, min_zoom, max_zoom, zoom_start, min_lat, max_lat, min_lon, max_lon, max_bounds, crs, control_scale, prefer_canvas, no_touch, disable_3d, png_enabled, zoom_control, **kwargs)\u001b[0m\n\u001b[1;32m    253\u001b[0m     zoom_start \u001b[38;5;241m=\u001b[39m \u001b[38;5;241m1\u001b[39m\n\u001b[1;32m    254\u001b[0m \u001b[38;5;28;01melse\u001b[39;00m:\n\u001b[0;32m--> 255\u001b[0m     \u001b[38;5;28mself\u001b[39m\u001b[38;5;241m.\u001b[39mlocation \u001b[38;5;241m=\u001b[39m \u001b[43mvalidate_location\u001b[49m\u001b[43m(\u001b[49m\u001b[43mlocation\u001b[49m\u001b[43m)\u001b[49m\n\u001b[1;32m    257\u001b[0m Figure()\u001b[38;5;241m.\u001b[39madd_child(\u001b[38;5;28mself\u001b[39m)\n\u001b[1;32m    259\u001b[0m \u001b[38;5;66;03m# Map Size Parameters.\u001b[39;00m\n",
      "File \u001b[0;32m/opt/conda/lib/python3.9/site-packages/folium/utilities.py:66\u001b[0m, in \u001b[0;36mvalidate_location\u001b[0;34m(location)\u001b[0m\n\u001b[1;32m     62\u001b[0m         \u001b[38;5;28;01mraise\u001b[39;00m \u001b[38;5;167;01mValueError\u001b[39;00m(\u001b[38;5;124m'\u001b[39m\u001b[38;5;124mLocation should consist of two numerical values, \u001b[39m\u001b[38;5;124m'\u001b[39m\n\u001b[1;32m     63\u001b[0m                          \u001b[38;5;124m'\u001b[39m\u001b[38;5;124mbut \u001b[39m\u001b[38;5;132;01m{!r}\u001b[39;00m\u001b[38;5;124m of type \u001b[39m\u001b[38;5;132;01m{}\u001b[39;00m\u001b[38;5;124m is not convertible to float.\u001b[39m\u001b[38;5;124m'\u001b[39m\n\u001b[1;32m     64\u001b[0m                          \u001b[38;5;241m.\u001b[39mformat(coord, \u001b[38;5;28mtype\u001b[39m(coord)))\n\u001b[1;32m     65\u001b[0m     \u001b[38;5;28;01mif\u001b[39;00m math\u001b[38;5;241m.\u001b[39misnan(\u001b[38;5;28mfloat\u001b[39m(coord)):\n\u001b[0;32m---> 66\u001b[0m         \u001b[38;5;28;01mraise\u001b[39;00m \u001b[38;5;167;01mValueError\u001b[39;00m(\u001b[38;5;124m'\u001b[39m\u001b[38;5;124mLocation values cannot contain NaNs.\u001b[39m\u001b[38;5;124m'\u001b[39m)\n\u001b[1;32m     67\u001b[0m \u001b[38;5;28;01mreturn\u001b[39;00m [\u001b[38;5;28mfloat\u001b[39m(x) \u001b[38;5;28;01mfor\u001b[39;00m x \u001b[38;5;129;01min\u001b[39;00m coords]\n",
      "\u001b[0;31mValueError\u001b[0m: Location values cannot contain NaNs."
     ]
    }
   ],
   "source": [
    "for organization in schd_keys:\n",
    "    gdf = longest_shape_gdf2.loc[\n",
    "        longest_shape_gdf2.schedule_gtfs_dataset_key == organization\n",
    "    ]\n",
    "    display(gdf.explore(\"shape_array_key\"))"
   ]
  },
  {
   "cell_type": "markdown",
   "id": "0706fb58-e04e-4d40-b49b-d505da875262",
   "metadata": {},
   "source": [
    "#### Actually have to go back [here](https://github.com/cal-itp/data-analyses/blob/4dc340343a60b45ad94217c3efd91f807b03ebc2/rt_segment_speeds/segment_speed_utils/gtfs_schedule_wrangling.py#L365)"
   ]
  },
  {
   "cell_type": "code",
   "execution_count": null,
   "id": "0f1f1160-fd82-4e35-adaa-914aac83ac85",
   "metadata": {},
   "outputs": [],
   "source": []
  }
 ],
 "metadata": {
  "kernelspec": {
   "display_name": "Python 3 (ipykernel)",
   "language": "python",
   "name": "python3"
  },
  "language_info": {
   "codemirror_mode": {
    "name": "ipython",
    "version": 3
   },
   "file_extension": ".py",
   "mimetype": "text/x-python",
   "name": "python",
   "nbconvert_exporter": "python",
   "pygments_lexer": "ipython3",
   "version": "3.9.13"
  }
 },
 "nbformat": 4,
 "nbformat_minor": 5
}
